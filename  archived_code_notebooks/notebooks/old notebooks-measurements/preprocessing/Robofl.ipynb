{
 "cells": [
  {
   "cell_type": "code",
   "execution_count": 21,
   "metadata": {},
   "outputs": [
    {
     "name": "stdout",
     "output_type": "stream",
     "text": [
      "Found 73 files locally.\n"
     ]
    }
   ],
   "source": [
    "# --- Configuration - UPDATE THESE PATHS ---\n",
    "base_path = r'C:\\Users\\gbo10\\OneDrive\\measurement_paper_images\\images used for imageJ\\check\\stabilized\\shai\\measurements\\1\\carapace'\n",
    "subfolders = ['car', 'left', 'right']  # folders inside base_path\n",
    "batch_size = 5  # how many identifiers per query string\n",
    "\n",
    "# Collect all filenames\n",
    "local_files = collect_filenames(base_path, subfolders)\n",
    "print(f\"Found {len(local_files)} files locally.\")\n",
    "\n",
    "# Extract identifiers (remove file extensions)\n",
    "local_files_processed = [extract_id(f) for f in local_files]\n",
    "print(f\"Processed {len(local_files_processed)} file identifiers.\")\n"
   ]
  },
  {
   "cell_type": "code",
   "execution_count": 23,
   "metadata": {},
   "outputs": [
    {
     "name": "stdout",
     "output_type": "stream",
     "text": [
      "['GX010152_36_378', 'GX010155_18_219', 'GX010155_78_1170', 'GX010157_160_2259', 'GX010157_174_2582', 'GX010157_177_2665', 'GX010157_68_883', 'GX010161_136_2267', 'GX010161_54_676', 'GX010162_72_927', 'GX010169_121_1249', 'GX010173_75_922', 'GX010174_104_1236', 'GX010174_62_790', 'GX010175_215_2644', 'GX010175_266_3372', 'GX010175_82_852', 'GX010177_232_3047', 'GX010178_107_2118', 'GX010178_114_2258', 'GX010178_172_3604', 'GX010178_189_3987', 'GX010179_200_3927', 'GX010179_88_1697', 'GX010180_91_1563', 'GX010180_99_1788', 'GX010181_101_1542', 'GX010183_128_2852', 'GX010183_37_685', 'GX010183_80_1633', 'GX010089_11_236', 'GX010091_5_149', 'GX010102_50_1396', 'GX010102_9_165', 'GX010105_28_816', 'GX010067_33_625', 'GX010068_26_666', 'GX010068_27_795', 'GX010069_19_191', 'GX010069_53_796', 'GX010071_22_444', 'GX010073_42_695', 'GX010073_55_1014', 'GX010077_14_237', 'GX010080_157_2283', 'GX010080_193_2640', 'GX010080_212_2954', 'GX010080_237_3366', 'GX010080_238_3392', 'GX010080_73_1102', 'GX010082_236_3137', 'GX010082_53_796', 'GX010082_65_1070', 'GX010082_8_59', 'GX010084_130_1748', 'GX010084_167_2291', 'GX010084_30_344', 'GX010085_261_3610', 'GX010085_263_3738', 'GX010088_209_2904', 'GX010088_262_3712', 'GX010088_327_4364', 'GX010090_132_1852', 'GX010094_163_2312', 'GX010094_24_430', 'GX010094_93_1258', 'GX010094_9_129', 'GX010096_107_1571', 'GX010097_105_1651', 'GX010097_124_1870', 'GX010097_32_528', 'GX010097_60_1080', 'GX010101_12_173']\n"
     ]
    }
   ],
   "source": [
    "# Display sample of processed identifiers\n",
    "print(\"Sample identifiers:\")\n",
    "for i, identifier in enumerate(local_files_processed[:10]):\n",
    "    print(f\"  {i+1}. {identifier}\")\n",
    "if len(local_files_processed) > 10:\n",
    "    print(f\"  ... and {len(local_files_processed) - 10} more\")\n"
   ]
  },
  {
   "cell_type": "code",
   "execution_count": 25,
   "metadata": {},
   "outputs": [
    {
     "name": "stdout",
     "output_type": "stream",
     "text": [
      "filename:GX010152_36_378 or filename:GX010155_18_219 or filename:GX010155_78_1170 or filename:GX010157_160_2259 or filename:GX010157_174_2582 or filename:GX010157_177_2665 or filename:GX010157_68_883 or filename:GX010161_136_2267 or filename:GX010161_54_676 or filename:GX010162_72_927 or filename:GX010169_121_1249 or filename:GX010173_75_922 or filename:GX010174_104_1236 or filename:GX010174_62_790 or filename:GX010175_215_2644 or filename:GX010175_266_3372 or filename:GX010175_82_852 or filename:GX010177_232_3047 or filename:GX010178_107_2118 or filename:GX010178_114_2258 or filename:GX010178_172_3604 or filename:GX010178_189_3987 or filename:GX010179_200_3927 or filename:GX010179_88_1697 or filename:GX010180_91_1563 or filename:GX010180_99_1788 or filename:GX010181_101_1542 or filename:GX010183_128_2852 or filename:GX010183_37_685 or filename:GX010183_80_1633 or filename:GX010089_11_236 or filename:GX010091_5_149 or filename:GX010102_50_1396 or filename:GX010102_9_165 or filename:GX010105_28_816 or filename:GX010067_33_625 or filename:GX010068_26_666 or filename:GX010068_27_795 or filename:GX010069_19_191 or filename:GX010069_53_796 or filename:GX010071_22_444 or filename:GX010073_42_695 or filename:GX010073_55_1014 or filename:GX010077_14_237 or filename:GX010080_157_2283 or filename:GX010080_193_2640 or filename:GX010080_212_2954 or filename:GX010080_237_3366 or filename:GX010080_238_3392 or filename:GX010080_73_1102 or filename:GX010082_236_3137 or filename:GX010082_53_796 or filename:GX010082_65_1070 or filename:GX010082_8_59 or filename:GX010084_130_1748 or filename:GX010084_167_2291 or filename:GX010084_30_344 or filename:GX010085_261_3610 or filename:GX010085_263_3738 or filename:GX010088_209_2904 or filename:GX010088_262_3712 or filename:GX010088_327_4364 or filename:GX010090_132_1852 or filename:GX010094_163_2312 or filename:GX010094_24_430 or filename:GX010094_93_1258 or filename:GX010094_9_129 or filename:GX010096_107_1571 or filename:GX010097_105_1651 or filename:GX010097_124_1870 or filename:GX010097_32_528 or filename:GX010097_60_1080 or filename:GX010101_12_173\n"
     ]
    }
   ],
   "source": [
    "# Generate Roboflow search queries in batches\n",
    "print(\"Roboflow search queries (copy and paste into Roboflow UI):\")\n",
    "print(\"=\" * 60)\n",
    "\n",
    "for i, group in enumerate(grouper(local_files_processed, batch_size), 1):\n",
    "    query = build_query(group)\n",
    "    print(f\"\\nBatch {i}:\")\n",
    "    print(query)\n"
   ]
  },
  {
   "cell_type": "code",
   "execution_count": 27,
   "metadata": {},
   "outputs": [
    {
     "name": "stdout",
     "output_type": "stream",
     "text": [
      "filename:GX010152_36_378 OR filename:GX010155_18_219 OR filename:GX010155_78_1170 OR filename:GX010157_160_2259 OR filename:GX010157_174_2582\n",
      "filename:GX010157_177_2665 OR filename:GX010157_68_883 OR filename:GX010161_136_2267 OR filename:GX010161_54_676 OR filename:GX010162_72_927\n",
      "filename:GX010169_121_1249 OR filename:GX010173_75_922 OR filename:GX010174_104_1236 OR filename:GX010174_62_790 OR filename:GX010175_215_2644\n",
      "filename:GX010175_266_3372 OR filename:GX010175_82_852 OR filename:GX010177_232_3047 OR filename:GX010178_107_2118 OR filename:GX010178_114_2258\n",
      "filename:GX010178_172_3604 OR filename:GX010178_189_3987 OR filename:GX010179_200_3927 OR filename:GX010179_88_1697 OR filename:GX010180_91_1563\n",
      "filename:GX010180_99_1788 OR filename:GX010181_101_1542 OR filename:GX010183_128_2852 OR filename:GX010183_37_685 OR filename:GX010183_80_1633\n",
      "filename:GX010089_11_236 OR filename:GX010091_5_149 OR filename:GX010102_50_1396 OR filename:GX010102_9_165 OR filename:GX010105_28_816\n",
      "filename:GX010067_33_625 OR filename:GX010068_26_666 OR filename:GX010068_27_795 OR filename:GX010069_19_191 OR filename:GX010069_53_796\n",
      "filename:GX010071_22_444 OR filename:GX010073_42_695 OR filename:GX010073_55_1014 OR filename:GX010077_14_237 OR filename:GX010080_157_2283\n",
      "filename:GX010080_193_2640 OR filename:GX010080_212_2954 OR filename:GX010080_237_3366 OR filename:GX010080_238_3392 OR filename:GX010080_73_1102\n",
      "filename:GX010082_236_3137 OR filename:GX010082_53_796 OR filename:GX010082_65_1070 OR filename:GX010082_8_59 OR filename:GX010084_130_1748\n",
      "filename:GX010084_167_2291 OR filename:GX010084_30_344 OR filename:GX010085_261_3610 OR filename:GX010085_263_3738 OR filename:GX010088_209_2904\n",
      "filename:GX010088_262_3712 OR filename:GX010088_327_4364 OR filename:GX010090_132_1852 OR filename:GX010094_163_2312 OR filename:GX010094_24_430\n",
      "filename:GX010094_93_1258 OR filename:GX010094_9_129 OR filename:GX010096_107_1571 OR filename:GX010097_105_1651 OR filename:GX010097_124_1870\n",
      "filename:GX010097_32_528 OR filename:GX010097_60_1080 OR filename:GX010101_12_173\n"
     ]
    }
   ],
   "source": [
    "\n",
    "## Usage Instructions\n",
    "\n",
    "1. **Update the `base_path`** in the configuration cell above to point to your local image directory\n",
    "2. **Adjust `batch_size`** if needed (smaller batches work better for large datasets)\n",
    "3. **Run all cells** to generate the search queries\n",
    "4. **Copy each batch query** from the output above and paste into the Roboflow UI search bar\n",
    "5. **Check results** to see which files are missing from your Roboflow dataset\n",
    "\n",
    "The queries use the format `filename:GX010152_36_378 OR filename:GX010155_18_219` which searches for exact filename matches in Roboflow.\n"
   ]
  }
 ],
 "metadata": {
  "kernelspec": {
   "display_name": ".venv",
   "language": "python",
   "name": "python3"
  },
  "language_info": {
   "codemirror_mode": {
    "name": "ipython",
    "version": 3
   },
   "file_extension": ".py",
   "mimetype": "text/x-python",
   "name": "python",
   "nbconvert_exporter": "python",
   "pygments_lexer": "ipython3",
   "version": "3.9.7"
  }
 },
 "nbformat": 4,
 "nbformat_minor": 2
}
