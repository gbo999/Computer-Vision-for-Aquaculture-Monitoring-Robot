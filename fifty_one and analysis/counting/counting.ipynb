{
 "cells": [
  {
   "cell_type": "markdown",
   "metadata": {
    "vscode": {
     "languageId": "raw"
    }
   },
   "source": [
    "# Prawn Counting Analysis Notebook\n",
    "\n",
    "This notebook provides comprehensive analysis tools for counting prawns in underwater images, including:\n",
    "\n",
    "\n"
   ]
  },
  {
   "cell_type": "markdown",
   "metadata": {
    "vscode": {
     "languageId": "raw"
    }
   },
   "source": [
    "# Setup & Imports \n",
    "\n",
    "Import all necessary libraries for dataset management, model evaluation, and analysis.\n"
   ]
  },
  {
   "cell_type": "code",
   "execution_count": 1,
   "metadata": {},
   "outputs": [
    {
     "name": "stdout",
     "output_type": "stream",
     "text": [
      "✅ All libraries imported successfully\n"
     ]
    }
   ],
   "source": [
    "# Core libraries\n",
    "import os\n",
    "import shutil\n",
    "import glob\n",
    "import numpy as np\n",
    "import matplotlib.pyplot as plt\n",
    "import seaborn as sns\n",
    "from pathlib import Path\n",
    "import warnings\n",
    "warnings.filterwarnings('ignore')\n",
    "\n",
    "# FiftyOne for dataset management\n",
    "import fiftyone as fo\n",
    "from fiftyone import ViewField as F\n",
    "\n",
    "# YOLO model\n",
    "from ultralytics import RTDETR\n",
    "\n",
    "# Image processing\n",
    "from PIL import Image\n",
    "import pytesseract\n",
    "\n",
    "print(\"✅ All libraries imported successfully\")"
   ]
  },
  {
   "cell_type": "markdown",
   "metadata": {
    "vscode": {
     "languageId": "raw"
    }
   },
   "source": [
    "# Configuration\n",
    "\n",
    "Set up paths and configuration parameters for the analysis.\n"
   ]
  },
  {
   "cell_type": "code",
   "execution_count": 2,
   "metadata": {},
   "outputs": [
    {
     "name": "stdout",
     "output_type": "stream",
     "text": [
      "📁 Configuration loaded:\n",
      "   dataset_name: circle-pond-analysis\n",
      "   dataset_dir: /Users/gilbenor/Downloads/circle pond.v20i.yolov8\n",
      "   model_path: /Users/gilbenor/Library/CloudStorage/OneDrive-Personal/measurement_paper_images/detection drone/runs-detections-drone-14.08/detect/train/weights/best.pt\n",
      "   data_yaml: /Users/gilbenor/Downloads/circle pond.v23i.yolov8/data.yaml\n",
      "   splits: ['test', 'valid', 'train']\n",
      "✅ Dataset directory exists: 6 items\n"
     ]
    }
   ],
   "source": [
    "# Configuration parameters\n",
    "CONFIG = {\n",
    "    'dataset_name': 'circle-pond-analysis',\n",
    "    'dataset_dir': r\"/Users/gilbenor/Downloads/circle pond.v20i.yolov8\",\n",
    "    'model_path': r\"/Users/gilbenor/Library/CloudStorage/OneDrive-Personal/measurement_paper_images/detection drone/runs-detections-drone-14.08/detect/train/weights/best.pt\",\n",
    "    'data_yaml': r\"/Users/gilbenor/Downloads/circle pond.v23i.yolov8/data.yaml\",\n",
    "    'splits': [\"test\", \"valid\", \"train\"]\n",
    "}\n",
    "\n",
    "print(\"📁 Configuration loaded:\")\n",
    "for key, value in CONFIG.items():\n",
    "    print(f\"   {key}: {value}\")\n",
    "    \n",
    "# Verify paths exist\n",
    "if os.path.exists(CONFIG['dataset_dir']):\n",
    "    print(f\"✅ Dataset directory exists: {len(os.listdir(CONFIG['dataset_dir']))} items\")\n",
    "else:\n",
    "    print(\"❌ Dataset directory not found\")\n"
   ]
  },
  {
   "cell_type": "markdown",
   "metadata": {},
   "source": [
    "\n",
    "\n",
    "\n",
    "\n",
    "# RT-DETR object detection evalutation at multiple confidence thresholds\n",
    "\n",
    "This code block loads a trained RT-DETR model from a specified path and evaluates its performance on the test split of a YOLO-format dataset at various confidence thresholds. For each threshold (from 0.1 to 1.0), it runs validation, saves the results in JSON format, generates plots, and prints the results. This allows you to analyze how the model's performance changes as the detection confidence threshold varies.\n",
    "\n",
    "---\n"
   ]
  },
  {
   "cell_type": "code",
   "execution_count": null,
   "metadata": {},
   "outputs": [
    {
     "name": "stdout",
     "output_type": "stream",
     "text": [
      "Ultralytics 8.3.100 🚀 Python-3.9.6 torch-2.0.1 CPU (Apple M4)\n",
      "rt-detr-l summary: 302 layers, 31,985,795 parameters, 0 gradients, 103.4 GFLOPs\n"
     ]
    },
    {
     "name": "stderr",
     "output_type": "stream",
     "text": [
      "\u001b[34m\u001b[1mval: \u001b[0mScanning /Users/gilbenor/Downloads/circle pond.v23i.yolov8/test/labels.cache... 79 images, 1 backgrounds, 0 corrupt: 100%|██████████| 79/79 [00:00<?, ?it/s]\n",
      "                 Class     Images  Instances      Box(P          R      mAP50  mAP50-95):   0%|          | 0/5 [00:05<?, ?it/s]\n"
     ]
    },
    {
     "ename": "KeyboardInterrupt",
     "evalue": "",
     "output_type": "error",
     "traceback": [
      "\u001b[0;31m---------------------------------------------------------------------------\u001b[0m",
      "\u001b[0;31mKeyboardInterrupt\u001b[0m                         Traceback (most recent call last)",
      "Cell \u001b[0;32mIn[4], line 7\u001b[0m\n\u001b[1;32m      3\u001b[0m model\u001b[38;5;241m=\u001b[39m RTDETR(\u001b[38;5;124mr\u001b[39m\u001b[38;5;124m\"\u001b[39m\u001b[38;5;124m/Users/gilbenor/Library/CloudStorage/OneDrive-Personal/measurement_paper_images/detection drone/runs-detections-drone-14.08/detect/train/weights/best.pt\u001b[39m\u001b[38;5;124m\"\u001b[39m)\n\u001b[1;32m      6\u001b[0m \u001b[38;5;28;01mfor\u001b[39;00m threshold \u001b[38;5;129;01min\u001b[39;00m [\u001b[38;5;241m0.1\u001b[39m,\u001b[38;5;241m0.2\u001b[39m,\u001b[38;5;241m0.3\u001b[39m,\u001b[38;5;241m0.4\u001b[39m,\u001b[38;5;241m0.5\u001b[39m,\u001b[38;5;241m0.6\u001b[39m,\u001b[38;5;241m0.7\u001b[39m,\u001b[38;5;241m0.8\u001b[39m,\u001b[38;5;241m0.9\u001b[39m,\u001b[38;5;241m1.0\u001b[39m]:\n\u001b[0;32m----> 7\u001b[0m     results \u001b[38;5;241m=\u001b[39m \u001b[43mmodel\u001b[49m\u001b[38;5;241;43m.\u001b[39;49m\u001b[43mval\u001b[49m\u001b[43m(\u001b[49m\u001b[43msave_json\u001b[49m\u001b[38;5;241;43m=\u001b[39;49m\u001b[38;5;28;43;01mTrue\u001b[39;49;00m\u001b[43m,\u001b[49m\u001b[43m \u001b[49m\u001b[43mdata\u001b[49m\u001b[38;5;241;43m=\u001b[39;49m\u001b[38;5;124;43mr\u001b[39;49m\u001b[38;5;124;43m\"\u001b[39;49m\u001b[38;5;124;43m/Users/gilbenor/Downloads/circle pond.v23i.yolov8/data.yaml\u001b[39;49m\u001b[38;5;124;43m\"\u001b[39;49m\u001b[43m,\u001b[49m\u001b[43m \u001b[49m\u001b[43mplots\u001b[49m\u001b[38;5;241;43m=\u001b[39;49m\u001b[38;5;28;43;01mTrue\u001b[39;49;00m\u001b[43m,\u001b[49m\u001b[43msplit\u001b[49m\u001b[38;5;241;43m=\u001b[39;49m\u001b[38;5;124;43m'\u001b[39;49m\u001b[38;5;124;43mtest\u001b[39;49m\u001b[38;5;124;43m'\u001b[39;49m\u001b[43m,\u001b[49m\u001b[43mconf\u001b[49m\u001b[38;5;241;43m=\u001b[39;49m\u001b[43mthreshold\u001b[49m\u001b[43m)\u001b[49m\n\u001b[1;32m      8\u001b[0m     \u001b[38;5;28mprint\u001b[39m(\u001b[38;5;124mf\u001b[39m\u001b[38;5;124m\"\u001b[39m\u001b[38;5;124mthreshold: \u001b[39m\u001b[38;5;132;01m{\u001b[39;00mthreshold\u001b[38;5;132;01m}\u001b[39;00m\u001b[38;5;124m\"\u001b[39m)\n\u001b[1;32m      9\u001b[0m     \u001b[38;5;28mprint\u001b[39m(results)\n",
      "File \u001b[0;32m~/Documents/code_projects/msc/counting_research_algorithms/.venv/lib/python3.9/site-packages/ultralytics/engine/model.py:628\u001b[0m, in \u001b[0;36mModel.val\u001b[0;34m(self, validator, **kwargs)\u001b[0m\n\u001b[1;32m    625\u001b[0m args \u001b[38;5;241m=\u001b[39m {\u001b[38;5;241m*\u001b[39m\u001b[38;5;241m*\u001b[39m\u001b[38;5;28mself\u001b[39m\u001b[38;5;241m.\u001b[39moverrides, \u001b[38;5;241m*\u001b[39m\u001b[38;5;241m*\u001b[39mcustom, \u001b[38;5;241m*\u001b[39m\u001b[38;5;241m*\u001b[39mkwargs, \u001b[38;5;124m\"\u001b[39m\u001b[38;5;124mmode\u001b[39m\u001b[38;5;124m\"\u001b[39m: \u001b[38;5;124m\"\u001b[39m\u001b[38;5;124mval\u001b[39m\u001b[38;5;124m\"\u001b[39m}  \u001b[38;5;66;03m# highest priority args on the right\u001b[39;00m\n\u001b[1;32m    627\u001b[0m validator \u001b[38;5;241m=\u001b[39m (validator \u001b[38;5;129;01mor\u001b[39;00m \u001b[38;5;28mself\u001b[39m\u001b[38;5;241m.\u001b[39m_smart_load(\u001b[38;5;124m\"\u001b[39m\u001b[38;5;124mvalidator\u001b[39m\u001b[38;5;124m\"\u001b[39m))(args\u001b[38;5;241m=\u001b[39margs, _callbacks\u001b[38;5;241m=\u001b[39m\u001b[38;5;28mself\u001b[39m\u001b[38;5;241m.\u001b[39mcallbacks)\n\u001b[0;32m--> 628\u001b[0m \u001b[43mvalidator\u001b[49m\u001b[43m(\u001b[49m\u001b[43mmodel\u001b[49m\u001b[38;5;241;43m=\u001b[39;49m\u001b[38;5;28;43mself\u001b[39;49m\u001b[38;5;241;43m.\u001b[39;49m\u001b[43mmodel\u001b[49m\u001b[43m)\u001b[49m\n\u001b[1;32m    629\u001b[0m \u001b[38;5;28mself\u001b[39m\u001b[38;5;241m.\u001b[39mmetrics \u001b[38;5;241m=\u001b[39m validator\u001b[38;5;241m.\u001b[39mmetrics\n\u001b[1;32m    630\u001b[0m \u001b[38;5;28;01mreturn\u001b[39;00m validator\u001b[38;5;241m.\u001b[39mmetrics\n",
      "File \u001b[0;32m~/Documents/code_projects/msc/counting_research_algorithms/.venv/lib/python3.9/site-packages/torch/utils/_contextlib.py:115\u001b[0m, in \u001b[0;36mcontext_decorator.<locals>.decorate_context\u001b[0;34m(*args, **kwargs)\u001b[0m\n\u001b[1;32m    112\u001b[0m \u001b[38;5;129m@functools\u001b[39m\u001b[38;5;241m.\u001b[39mwraps(func)\n\u001b[1;32m    113\u001b[0m \u001b[38;5;28;01mdef\u001b[39;00m \u001b[38;5;21mdecorate_context\u001b[39m(\u001b[38;5;241m*\u001b[39margs, \u001b[38;5;241m*\u001b[39m\u001b[38;5;241m*\u001b[39mkwargs):\n\u001b[1;32m    114\u001b[0m     \u001b[38;5;28;01mwith\u001b[39;00m ctx_factory():\n\u001b[0;32m--> 115\u001b[0m         \u001b[38;5;28;01mreturn\u001b[39;00m \u001b[43mfunc\u001b[49m\u001b[43m(\u001b[49m\u001b[38;5;241;43m*\u001b[39;49m\u001b[43margs\u001b[49m\u001b[43m,\u001b[49m\u001b[43m \u001b[49m\u001b[38;5;241;43m*\u001b[39;49m\u001b[38;5;241;43m*\u001b[39;49m\u001b[43mkwargs\u001b[49m\u001b[43m)\u001b[49m\n",
      "File \u001b[0;32m~/Documents/code_projects/msc/counting_research_algorithms/.venv/lib/python3.9/site-packages/ultralytics/engine/validator.py:214\u001b[0m, in \u001b[0;36mBaseValidator.__call__\u001b[0;34m(self, trainer, model)\u001b[0m\n\u001b[1;32m    212\u001b[0m \u001b[38;5;66;03m# Inference\u001b[39;00m\n\u001b[1;32m    213\u001b[0m \u001b[38;5;28;01mwith\u001b[39;00m dt[\u001b[38;5;241m1\u001b[39m]:\n\u001b[0;32m--> 214\u001b[0m     preds \u001b[38;5;241m=\u001b[39m \u001b[43mmodel\u001b[49m\u001b[43m(\u001b[49m\u001b[43mbatch\u001b[49m\u001b[43m[\u001b[49m\u001b[38;5;124;43m\"\u001b[39;49m\u001b[38;5;124;43mimg\u001b[39;49m\u001b[38;5;124;43m\"\u001b[39;49m\u001b[43m]\u001b[49m\u001b[43m,\u001b[49m\u001b[43m \u001b[49m\u001b[43maugment\u001b[49m\u001b[38;5;241;43m=\u001b[39;49m\u001b[43maugment\u001b[49m\u001b[43m)\u001b[49m\n\u001b[1;32m    216\u001b[0m \u001b[38;5;66;03m# Loss\u001b[39;00m\n\u001b[1;32m    217\u001b[0m \u001b[38;5;28;01mwith\u001b[39;00m dt[\u001b[38;5;241m2\u001b[39m]:\n",
      "File \u001b[0;32m~/Documents/code_projects/msc/counting_research_algorithms/.venv/lib/python3.9/site-packages/torch/nn/modules/module.py:1501\u001b[0m, in \u001b[0;36mModule._call_impl\u001b[0;34m(self, *args, **kwargs)\u001b[0m\n\u001b[1;32m   1496\u001b[0m \u001b[38;5;66;03m# If we don't have any hooks, we want to skip the rest of the logic in\u001b[39;00m\n\u001b[1;32m   1497\u001b[0m \u001b[38;5;66;03m# this function, and just call forward.\u001b[39;00m\n\u001b[1;32m   1498\u001b[0m \u001b[38;5;28;01mif\u001b[39;00m \u001b[38;5;129;01mnot\u001b[39;00m (\u001b[38;5;28mself\u001b[39m\u001b[38;5;241m.\u001b[39m_backward_hooks \u001b[38;5;129;01mor\u001b[39;00m \u001b[38;5;28mself\u001b[39m\u001b[38;5;241m.\u001b[39m_backward_pre_hooks \u001b[38;5;129;01mor\u001b[39;00m \u001b[38;5;28mself\u001b[39m\u001b[38;5;241m.\u001b[39m_forward_hooks \u001b[38;5;129;01mor\u001b[39;00m \u001b[38;5;28mself\u001b[39m\u001b[38;5;241m.\u001b[39m_forward_pre_hooks\n\u001b[1;32m   1499\u001b[0m         \u001b[38;5;129;01mor\u001b[39;00m _global_backward_pre_hooks \u001b[38;5;129;01mor\u001b[39;00m _global_backward_hooks\n\u001b[1;32m   1500\u001b[0m         \u001b[38;5;129;01mor\u001b[39;00m _global_forward_hooks \u001b[38;5;129;01mor\u001b[39;00m _global_forward_pre_hooks):\n\u001b[0;32m-> 1501\u001b[0m     \u001b[38;5;28;01mreturn\u001b[39;00m \u001b[43mforward_call\u001b[49m\u001b[43m(\u001b[49m\u001b[38;5;241;43m*\u001b[39;49m\u001b[43margs\u001b[49m\u001b[43m,\u001b[49m\u001b[43m \u001b[49m\u001b[38;5;241;43m*\u001b[39;49m\u001b[38;5;241;43m*\u001b[39;49m\u001b[43mkwargs\u001b[49m\u001b[43m)\u001b[49m\n\u001b[1;32m   1502\u001b[0m \u001b[38;5;66;03m# Do not call functions when jit is used\u001b[39;00m\n\u001b[1;32m   1503\u001b[0m full_backward_hooks, non_full_backward_hooks \u001b[38;5;241m=\u001b[39m [], []\n",
      "File \u001b[0;32m~/Documents/code_projects/msc/counting_research_algorithms/.venv/lib/python3.9/site-packages/ultralytics/nn/autobackend.py:580\u001b[0m, in \u001b[0;36mAutoBackend.forward\u001b[0;34m(self, im, augment, visualize, embed, **kwargs)\u001b[0m\n\u001b[1;32m    578\u001b[0m \u001b[38;5;66;03m# PyTorch\u001b[39;00m\n\u001b[1;32m    579\u001b[0m \u001b[38;5;28;01mif\u001b[39;00m \u001b[38;5;28mself\u001b[39m\u001b[38;5;241m.\u001b[39mpt \u001b[38;5;129;01mor\u001b[39;00m \u001b[38;5;28mself\u001b[39m\u001b[38;5;241m.\u001b[39mnn_module:\n\u001b[0;32m--> 580\u001b[0m     y \u001b[38;5;241m=\u001b[39m \u001b[38;5;28;43mself\u001b[39;49m\u001b[38;5;241;43m.\u001b[39;49m\u001b[43mmodel\u001b[49m\u001b[43m(\u001b[49m\u001b[43mim\u001b[49m\u001b[43m,\u001b[49m\u001b[43m \u001b[49m\u001b[43maugment\u001b[49m\u001b[38;5;241;43m=\u001b[39;49m\u001b[43maugment\u001b[49m\u001b[43m,\u001b[49m\u001b[43m \u001b[49m\u001b[43mvisualize\u001b[49m\u001b[38;5;241;43m=\u001b[39;49m\u001b[43mvisualize\u001b[49m\u001b[43m,\u001b[49m\u001b[43m \u001b[49m\u001b[43membed\u001b[49m\u001b[38;5;241;43m=\u001b[39;49m\u001b[43membed\u001b[49m\u001b[43m,\u001b[49m\u001b[43m \u001b[49m\u001b[38;5;241;43m*\u001b[39;49m\u001b[38;5;241;43m*\u001b[39;49m\u001b[43mkwargs\u001b[49m\u001b[43m)\u001b[49m\n\u001b[1;32m    582\u001b[0m \u001b[38;5;66;03m# TorchScript\u001b[39;00m\n\u001b[1;32m    583\u001b[0m \u001b[38;5;28;01melif\u001b[39;00m \u001b[38;5;28mself\u001b[39m\u001b[38;5;241m.\u001b[39mjit:\n",
      "File \u001b[0;32m~/Documents/code_projects/msc/counting_research_algorithms/.venv/lib/python3.9/site-packages/torch/nn/modules/module.py:1501\u001b[0m, in \u001b[0;36mModule._call_impl\u001b[0;34m(self, *args, **kwargs)\u001b[0m\n\u001b[1;32m   1496\u001b[0m \u001b[38;5;66;03m# If we don't have any hooks, we want to skip the rest of the logic in\u001b[39;00m\n\u001b[1;32m   1497\u001b[0m \u001b[38;5;66;03m# this function, and just call forward.\u001b[39;00m\n\u001b[1;32m   1498\u001b[0m \u001b[38;5;28;01mif\u001b[39;00m \u001b[38;5;129;01mnot\u001b[39;00m (\u001b[38;5;28mself\u001b[39m\u001b[38;5;241m.\u001b[39m_backward_hooks \u001b[38;5;129;01mor\u001b[39;00m \u001b[38;5;28mself\u001b[39m\u001b[38;5;241m.\u001b[39m_backward_pre_hooks \u001b[38;5;129;01mor\u001b[39;00m \u001b[38;5;28mself\u001b[39m\u001b[38;5;241m.\u001b[39m_forward_hooks \u001b[38;5;129;01mor\u001b[39;00m \u001b[38;5;28mself\u001b[39m\u001b[38;5;241m.\u001b[39m_forward_pre_hooks\n\u001b[1;32m   1499\u001b[0m         \u001b[38;5;129;01mor\u001b[39;00m _global_backward_pre_hooks \u001b[38;5;129;01mor\u001b[39;00m _global_backward_hooks\n\u001b[1;32m   1500\u001b[0m         \u001b[38;5;129;01mor\u001b[39;00m _global_forward_hooks \u001b[38;5;129;01mor\u001b[39;00m _global_forward_pre_hooks):\n\u001b[0;32m-> 1501\u001b[0m     \u001b[38;5;28;01mreturn\u001b[39;00m \u001b[43mforward_call\u001b[49m\u001b[43m(\u001b[49m\u001b[38;5;241;43m*\u001b[39;49m\u001b[43margs\u001b[49m\u001b[43m,\u001b[49m\u001b[43m \u001b[49m\u001b[38;5;241;43m*\u001b[39;49m\u001b[38;5;241;43m*\u001b[39;49m\u001b[43mkwargs\u001b[49m\u001b[43m)\u001b[49m\n\u001b[1;32m   1502\u001b[0m \u001b[38;5;66;03m# Do not call functions when jit is used\u001b[39;00m\n\u001b[1;32m   1503\u001b[0m full_backward_hooks, non_full_backward_hooks \u001b[38;5;241m=\u001b[39m [], []\n",
      "File \u001b[0;32m~/Documents/code_projects/msc/counting_research_algorithms/.venv/lib/python3.9/site-packages/ultralytics/nn/tasks.py:120\u001b[0m, in \u001b[0;36mBaseModel.forward\u001b[0;34m(self, x, *args, **kwargs)\u001b[0m\n\u001b[1;32m    118\u001b[0m \u001b[38;5;28;01mif\u001b[39;00m \u001b[38;5;28misinstance\u001b[39m(x, \u001b[38;5;28mdict\u001b[39m):  \u001b[38;5;66;03m# for cases of training and validating while training.\u001b[39;00m\n\u001b[1;32m    119\u001b[0m     \u001b[38;5;28;01mreturn\u001b[39;00m \u001b[38;5;28mself\u001b[39m\u001b[38;5;241m.\u001b[39mloss(x, \u001b[38;5;241m*\u001b[39margs, \u001b[38;5;241m*\u001b[39m\u001b[38;5;241m*\u001b[39mkwargs)\n\u001b[0;32m--> 120\u001b[0m \u001b[38;5;28;01mreturn\u001b[39;00m \u001b[38;5;28;43mself\u001b[39;49m\u001b[38;5;241;43m.\u001b[39;49m\u001b[43mpredict\u001b[49m\u001b[43m(\u001b[49m\u001b[43mx\u001b[49m\u001b[43m,\u001b[49m\u001b[43m \u001b[49m\u001b[38;5;241;43m*\u001b[39;49m\u001b[43margs\u001b[49m\u001b[43m,\u001b[49m\u001b[43m \u001b[49m\u001b[38;5;241;43m*\u001b[39;49m\u001b[38;5;241;43m*\u001b[39;49m\u001b[43mkwargs\u001b[49m\u001b[43m)\u001b[49m\n",
      "File \u001b[0;32m~/Documents/code_projects/msc/counting_research_algorithms/.venv/lib/python3.9/site-packages/ultralytics/nn/tasks.py:672\u001b[0m, in \u001b[0;36mRTDETRDetectionModel.predict\u001b[0;34m(self, x, profile, visualize, batch, augment, embed)\u001b[0m\n\u001b[1;32m    670\u001b[0m \u001b[38;5;28;01mif\u001b[39;00m profile:\n\u001b[1;32m    671\u001b[0m     \u001b[38;5;28mself\u001b[39m\u001b[38;5;241m.\u001b[39m_profile_one_layer(m, x, dt)\n\u001b[0;32m--> 672\u001b[0m x \u001b[38;5;241m=\u001b[39m \u001b[43mm\u001b[49m\u001b[43m(\u001b[49m\u001b[43mx\u001b[49m\u001b[43m)\u001b[49m  \u001b[38;5;66;03m# run\u001b[39;00m\n\u001b[1;32m    673\u001b[0m y\u001b[38;5;241m.\u001b[39mappend(x \u001b[38;5;28;01mif\u001b[39;00m m\u001b[38;5;241m.\u001b[39mi \u001b[38;5;129;01min\u001b[39;00m \u001b[38;5;28mself\u001b[39m\u001b[38;5;241m.\u001b[39msave \u001b[38;5;28;01melse\u001b[39;00m \u001b[38;5;28;01mNone\u001b[39;00m)  \u001b[38;5;66;03m# save output\u001b[39;00m\n\u001b[1;32m    674\u001b[0m \u001b[38;5;28;01mif\u001b[39;00m visualize:\n",
      "File \u001b[0;32m~/Documents/code_projects/msc/counting_research_algorithms/.venv/lib/python3.9/site-packages/torch/nn/modules/module.py:1501\u001b[0m, in \u001b[0;36mModule._call_impl\u001b[0;34m(self, *args, **kwargs)\u001b[0m\n\u001b[1;32m   1496\u001b[0m \u001b[38;5;66;03m# If we don't have any hooks, we want to skip the rest of the logic in\u001b[39;00m\n\u001b[1;32m   1497\u001b[0m \u001b[38;5;66;03m# this function, and just call forward.\u001b[39;00m\n\u001b[1;32m   1498\u001b[0m \u001b[38;5;28;01mif\u001b[39;00m \u001b[38;5;129;01mnot\u001b[39;00m (\u001b[38;5;28mself\u001b[39m\u001b[38;5;241m.\u001b[39m_backward_hooks \u001b[38;5;129;01mor\u001b[39;00m \u001b[38;5;28mself\u001b[39m\u001b[38;5;241m.\u001b[39m_backward_pre_hooks \u001b[38;5;129;01mor\u001b[39;00m \u001b[38;5;28mself\u001b[39m\u001b[38;5;241m.\u001b[39m_forward_hooks \u001b[38;5;129;01mor\u001b[39;00m \u001b[38;5;28mself\u001b[39m\u001b[38;5;241m.\u001b[39m_forward_pre_hooks\n\u001b[1;32m   1499\u001b[0m         \u001b[38;5;129;01mor\u001b[39;00m _global_backward_pre_hooks \u001b[38;5;129;01mor\u001b[39;00m _global_backward_hooks\n\u001b[1;32m   1500\u001b[0m         \u001b[38;5;129;01mor\u001b[39;00m _global_forward_hooks \u001b[38;5;129;01mor\u001b[39;00m _global_forward_pre_hooks):\n\u001b[0;32m-> 1501\u001b[0m     \u001b[38;5;28;01mreturn\u001b[39;00m \u001b[43mforward_call\u001b[49m\u001b[43m(\u001b[49m\u001b[38;5;241;43m*\u001b[39;49m\u001b[43margs\u001b[49m\u001b[43m,\u001b[49m\u001b[43m \u001b[49m\u001b[38;5;241;43m*\u001b[39;49m\u001b[38;5;241;43m*\u001b[39;49m\u001b[43mkwargs\u001b[49m\u001b[43m)\u001b[49m\n\u001b[1;32m   1502\u001b[0m \u001b[38;5;66;03m# Do not call functions when jit is used\u001b[39;00m\n\u001b[1;32m   1503\u001b[0m full_backward_hooks, non_full_backward_hooks \u001b[38;5;241m=\u001b[39m [], []\n",
      "File \u001b[0;32m~/Documents/code_projects/msc/counting_research_algorithms/.venv/lib/python3.9/site-packages/ultralytics/nn/modules/block.py:170\u001b[0m, in \u001b[0;36mHGBlock.forward\u001b[0;34m(self, x)\u001b[0m\n\u001b[1;32m    168\u001b[0m \u001b[38;5;250m\u001b[39m\u001b[38;5;124;03m\"\"\"Forward pass of a PPHGNetV2 backbone layer.\"\"\"\u001b[39;00m\n\u001b[1;32m    169\u001b[0m y \u001b[38;5;241m=\u001b[39m [x]\n\u001b[0;32m--> 170\u001b[0m \u001b[43my\u001b[49m\u001b[38;5;241;43m.\u001b[39;49m\u001b[43mextend\u001b[49m\u001b[43m(\u001b[49m\u001b[43mm\u001b[49m\u001b[43m(\u001b[49m\u001b[43my\u001b[49m\u001b[43m[\u001b[49m\u001b[38;5;241;43m-\u001b[39;49m\u001b[38;5;241;43m1\u001b[39;49m\u001b[43m]\u001b[49m\u001b[43m)\u001b[49m\u001b[43m \u001b[49m\u001b[38;5;28;43;01mfor\u001b[39;49;00m\u001b[43m \u001b[49m\u001b[43mm\u001b[49m\u001b[43m \u001b[49m\u001b[38;5;129;43;01min\u001b[39;49;00m\u001b[43m \u001b[49m\u001b[38;5;28;43mself\u001b[39;49m\u001b[38;5;241;43m.\u001b[39;49m\u001b[43mm\u001b[49m\u001b[43m)\u001b[49m\n\u001b[1;32m    171\u001b[0m y \u001b[38;5;241m=\u001b[39m \u001b[38;5;28mself\u001b[39m\u001b[38;5;241m.\u001b[39mec(\u001b[38;5;28mself\u001b[39m\u001b[38;5;241m.\u001b[39msc(torch\u001b[38;5;241m.\u001b[39mcat(y, \u001b[38;5;241m1\u001b[39m)))\n\u001b[1;32m    172\u001b[0m \u001b[38;5;28;01mreturn\u001b[39;00m y \u001b[38;5;241m+\u001b[39m x \u001b[38;5;28;01mif\u001b[39;00m \u001b[38;5;28mself\u001b[39m\u001b[38;5;241m.\u001b[39madd \u001b[38;5;28;01melse\u001b[39;00m y\n",
      "File \u001b[0;32m~/Documents/code_projects/msc/counting_research_algorithms/.venv/lib/python3.9/site-packages/ultralytics/nn/modules/block.py:170\u001b[0m, in \u001b[0;36m<genexpr>\u001b[0;34m(.0)\u001b[0m\n\u001b[1;32m    168\u001b[0m \u001b[38;5;250m\u001b[39m\u001b[38;5;124;03m\"\"\"Forward pass of a PPHGNetV2 backbone layer.\"\"\"\u001b[39;00m\n\u001b[1;32m    169\u001b[0m y \u001b[38;5;241m=\u001b[39m [x]\n\u001b[0;32m--> 170\u001b[0m y\u001b[38;5;241m.\u001b[39mextend(\u001b[43mm\u001b[49m\u001b[43m(\u001b[49m\u001b[43my\u001b[49m\u001b[43m[\u001b[49m\u001b[38;5;241;43m-\u001b[39;49m\u001b[38;5;241;43m1\u001b[39;49m\u001b[43m]\u001b[49m\u001b[43m)\u001b[49m \u001b[38;5;28;01mfor\u001b[39;00m m \u001b[38;5;129;01min\u001b[39;00m \u001b[38;5;28mself\u001b[39m\u001b[38;5;241m.\u001b[39mm)\n\u001b[1;32m    171\u001b[0m y \u001b[38;5;241m=\u001b[39m \u001b[38;5;28mself\u001b[39m\u001b[38;5;241m.\u001b[39mec(\u001b[38;5;28mself\u001b[39m\u001b[38;5;241m.\u001b[39msc(torch\u001b[38;5;241m.\u001b[39mcat(y, \u001b[38;5;241m1\u001b[39m)))\n\u001b[1;32m    172\u001b[0m \u001b[38;5;28;01mreturn\u001b[39;00m y \u001b[38;5;241m+\u001b[39m x \u001b[38;5;28;01mif\u001b[39;00m \u001b[38;5;28mself\u001b[39m\u001b[38;5;241m.\u001b[39madd \u001b[38;5;28;01melse\u001b[39;00m y\n",
      "File \u001b[0;32m~/Documents/code_projects/msc/counting_research_algorithms/.venv/lib/python3.9/site-packages/torch/nn/modules/module.py:1501\u001b[0m, in \u001b[0;36mModule._call_impl\u001b[0;34m(self, *args, **kwargs)\u001b[0m\n\u001b[1;32m   1496\u001b[0m \u001b[38;5;66;03m# If we don't have any hooks, we want to skip the rest of the logic in\u001b[39;00m\n\u001b[1;32m   1497\u001b[0m \u001b[38;5;66;03m# this function, and just call forward.\u001b[39;00m\n\u001b[1;32m   1498\u001b[0m \u001b[38;5;28;01mif\u001b[39;00m \u001b[38;5;129;01mnot\u001b[39;00m (\u001b[38;5;28mself\u001b[39m\u001b[38;5;241m.\u001b[39m_backward_hooks \u001b[38;5;129;01mor\u001b[39;00m \u001b[38;5;28mself\u001b[39m\u001b[38;5;241m.\u001b[39m_backward_pre_hooks \u001b[38;5;129;01mor\u001b[39;00m \u001b[38;5;28mself\u001b[39m\u001b[38;5;241m.\u001b[39m_forward_hooks \u001b[38;5;129;01mor\u001b[39;00m \u001b[38;5;28mself\u001b[39m\u001b[38;5;241m.\u001b[39m_forward_pre_hooks\n\u001b[1;32m   1499\u001b[0m         \u001b[38;5;129;01mor\u001b[39;00m _global_backward_pre_hooks \u001b[38;5;129;01mor\u001b[39;00m _global_backward_hooks\n\u001b[1;32m   1500\u001b[0m         \u001b[38;5;129;01mor\u001b[39;00m _global_forward_hooks \u001b[38;5;129;01mor\u001b[39;00m _global_forward_pre_hooks):\n\u001b[0;32m-> 1501\u001b[0m     \u001b[38;5;28;01mreturn\u001b[39;00m \u001b[43mforward_call\u001b[49m\u001b[43m(\u001b[49m\u001b[38;5;241;43m*\u001b[39;49m\u001b[43margs\u001b[49m\u001b[43m,\u001b[49m\u001b[43m \u001b[49m\u001b[38;5;241;43m*\u001b[39;49m\u001b[38;5;241;43m*\u001b[39;49m\u001b[43mkwargs\u001b[49m\u001b[43m)\u001b[49m\n\u001b[1;32m   1502\u001b[0m \u001b[38;5;66;03m# Do not call functions when jit is used\u001b[39;00m\n\u001b[1;32m   1503\u001b[0m full_backward_hooks, non_full_backward_hooks \u001b[38;5;241m=\u001b[39m [], []\n",
      "File \u001b[0;32m~/Documents/code_projects/msc/counting_research_algorithms/.venv/lib/python3.9/site-packages/ultralytics/nn/modules/conv.py:191\u001b[0m, in \u001b[0;36mLightConv.forward\u001b[0;34m(self, x)\u001b[0m\n\u001b[1;32m    181\u001b[0m \u001b[38;5;28;01mdef\u001b[39;00m \u001b[38;5;21mforward\u001b[39m(\u001b[38;5;28mself\u001b[39m, x):\n\u001b[1;32m    182\u001b[0m \u001b[38;5;250m    \u001b[39m\u001b[38;5;124;03m\"\"\"\u001b[39;00m\n\u001b[1;32m    183\u001b[0m \u001b[38;5;124;03m    Apply 2 convolutions to input tensor.\u001b[39;00m\n\u001b[1;32m    184\u001b[0m \n\u001b[0;32m   (...)\u001b[0m\n\u001b[1;32m    189\u001b[0m \u001b[38;5;124;03m        (torch.Tensor): Output tensor.\u001b[39;00m\n\u001b[1;32m    190\u001b[0m \u001b[38;5;124;03m    \"\"\"\u001b[39;00m\n\u001b[0;32m--> 191\u001b[0m     \u001b[38;5;28;01mreturn\u001b[39;00m \u001b[38;5;28;43mself\u001b[39;49m\u001b[38;5;241;43m.\u001b[39;49m\u001b[43mconv2\u001b[49m\u001b[43m(\u001b[49m\u001b[38;5;28;43mself\u001b[39;49m\u001b[38;5;241;43m.\u001b[39;49m\u001b[43mconv1\u001b[49m\u001b[43m(\u001b[49m\u001b[43mx\u001b[49m\u001b[43m)\u001b[49m\u001b[43m)\u001b[49m\n",
      "File \u001b[0;32m~/Documents/code_projects/msc/counting_research_algorithms/.venv/lib/python3.9/site-packages/torch/nn/modules/module.py:1501\u001b[0m, in \u001b[0;36mModule._call_impl\u001b[0;34m(self, *args, **kwargs)\u001b[0m\n\u001b[1;32m   1496\u001b[0m \u001b[38;5;66;03m# If we don't have any hooks, we want to skip the rest of the logic in\u001b[39;00m\n\u001b[1;32m   1497\u001b[0m \u001b[38;5;66;03m# this function, and just call forward.\u001b[39;00m\n\u001b[1;32m   1498\u001b[0m \u001b[38;5;28;01mif\u001b[39;00m \u001b[38;5;129;01mnot\u001b[39;00m (\u001b[38;5;28mself\u001b[39m\u001b[38;5;241m.\u001b[39m_backward_hooks \u001b[38;5;129;01mor\u001b[39;00m \u001b[38;5;28mself\u001b[39m\u001b[38;5;241m.\u001b[39m_backward_pre_hooks \u001b[38;5;129;01mor\u001b[39;00m \u001b[38;5;28mself\u001b[39m\u001b[38;5;241m.\u001b[39m_forward_hooks \u001b[38;5;129;01mor\u001b[39;00m \u001b[38;5;28mself\u001b[39m\u001b[38;5;241m.\u001b[39m_forward_pre_hooks\n\u001b[1;32m   1499\u001b[0m         \u001b[38;5;129;01mor\u001b[39;00m _global_backward_pre_hooks \u001b[38;5;129;01mor\u001b[39;00m _global_backward_hooks\n\u001b[1;32m   1500\u001b[0m         \u001b[38;5;129;01mor\u001b[39;00m _global_forward_hooks \u001b[38;5;129;01mor\u001b[39;00m _global_forward_pre_hooks):\n\u001b[0;32m-> 1501\u001b[0m     \u001b[38;5;28;01mreturn\u001b[39;00m \u001b[43mforward_call\u001b[49m\u001b[43m(\u001b[49m\u001b[38;5;241;43m*\u001b[39;49m\u001b[43margs\u001b[49m\u001b[43m,\u001b[49m\u001b[43m \u001b[49m\u001b[38;5;241;43m*\u001b[39;49m\u001b[38;5;241;43m*\u001b[39;49m\u001b[43mkwargs\u001b[49m\u001b[43m)\u001b[49m\n\u001b[1;32m   1502\u001b[0m \u001b[38;5;66;03m# Do not call functions when jit is used\u001b[39;00m\n\u001b[1;32m   1503\u001b[0m full_backward_hooks, non_full_backward_hooks \u001b[38;5;241m=\u001b[39m [], []\n",
      "File \u001b[0;32m~/Documents/code_projects/msc/counting_research_algorithms/.venv/lib/python3.9/site-packages/ultralytics/nn/modules/conv.py:91\u001b[0m, in \u001b[0;36mConv.forward_fuse\u001b[0;34m(self, x)\u001b[0m\n\u001b[1;32m     81\u001b[0m \u001b[38;5;28;01mdef\u001b[39;00m \u001b[38;5;21mforward_fuse\u001b[39m(\u001b[38;5;28mself\u001b[39m, x):\n\u001b[1;32m     82\u001b[0m \u001b[38;5;250m    \u001b[39m\u001b[38;5;124;03m\"\"\"\u001b[39;00m\n\u001b[1;32m     83\u001b[0m \u001b[38;5;124;03m    Apply convolution and activation without batch normalization.\u001b[39;00m\n\u001b[1;32m     84\u001b[0m \n\u001b[0;32m   (...)\u001b[0m\n\u001b[1;32m     89\u001b[0m \u001b[38;5;124;03m        (torch.Tensor): Output tensor.\u001b[39;00m\n\u001b[1;32m     90\u001b[0m \u001b[38;5;124;03m    \"\"\"\u001b[39;00m\n\u001b[0;32m---> 91\u001b[0m     \u001b[38;5;28;01mreturn\u001b[39;00m \u001b[38;5;28mself\u001b[39m\u001b[38;5;241m.\u001b[39mact(\u001b[38;5;28;43mself\u001b[39;49m\u001b[38;5;241;43m.\u001b[39;49m\u001b[43mconv\u001b[49m\u001b[43m(\u001b[49m\u001b[43mx\u001b[49m\u001b[43m)\u001b[49m)\n",
      "File \u001b[0;32m~/Documents/code_projects/msc/counting_research_algorithms/.venv/lib/python3.9/site-packages/torch/nn/modules/module.py:1501\u001b[0m, in \u001b[0;36mModule._call_impl\u001b[0;34m(self, *args, **kwargs)\u001b[0m\n\u001b[1;32m   1496\u001b[0m \u001b[38;5;66;03m# If we don't have any hooks, we want to skip the rest of the logic in\u001b[39;00m\n\u001b[1;32m   1497\u001b[0m \u001b[38;5;66;03m# this function, and just call forward.\u001b[39;00m\n\u001b[1;32m   1498\u001b[0m \u001b[38;5;28;01mif\u001b[39;00m \u001b[38;5;129;01mnot\u001b[39;00m (\u001b[38;5;28mself\u001b[39m\u001b[38;5;241m.\u001b[39m_backward_hooks \u001b[38;5;129;01mor\u001b[39;00m \u001b[38;5;28mself\u001b[39m\u001b[38;5;241m.\u001b[39m_backward_pre_hooks \u001b[38;5;129;01mor\u001b[39;00m \u001b[38;5;28mself\u001b[39m\u001b[38;5;241m.\u001b[39m_forward_hooks \u001b[38;5;129;01mor\u001b[39;00m \u001b[38;5;28mself\u001b[39m\u001b[38;5;241m.\u001b[39m_forward_pre_hooks\n\u001b[1;32m   1499\u001b[0m         \u001b[38;5;129;01mor\u001b[39;00m _global_backward_pre_hooks \u001b[38;5;129;01mor\u001b[39;00m _global_backward_hooks\n\u001b[1;32m   1500\u001b[0m         \u001b[38;5;129;01mor\u001b[39;00m _global_forward_hooks \u001b[38;5;129;01mor\u001b[39;00m _global_forward_pre_hooks):\n\u001b[0;32m-> 1501\u001b[0m     \u001b[38;5;28;01mreturn\u001b[39;00m \u001b[43mforward_call\u001b[49m\u001b[43m(\u001b[49m\u001b[38;5;241;43m*\u001b[39;49m\u001b[43margs\u001b[49m\u001b[43m,\u001b[49m\u001b[43m \u001b[49m\u001b[38;5;241;43m*\u001b[39;49m\u001b[38;5;241;43m*\u001b[39;49m\u001b[43mkwargs\u001b[49m\u001b[43m)\u001b[49m\n\u001b[1;32m   1502\u001b[0m \u001b[38;5;66;03m# Do not call functions when jit is used\u001b[39;00m\n\u001b[1;32m   1503\u001b[0m full_backward_hooks, non_full_backward_hooks \u001b[38;5;241m=\u001b[39m [], []\n",
      "File \u001b[0;32m~/Documents/code_projects/msc/counting_research_algorithms/.venv/lib/python3.9/site-packages/torch/nn/modules/conv.py:463\u001b[0m, in \u001b[0;36mConv2d.forward\u001b[0;34m(self, input)\u001b[0m\n\u001b[1;32m    462\u001b[0m \u001b[38;5;28;01mdef\u001b[39;00m \u001b[38;5;21mforward\u001b[39m(\u001b[38;5;28mself\u001b[39m, \u001b[38;5;28minput\u001b[39m: Tensor) \u001b[38;5;241m-\u001b[39m\u001b[38;5;241m>\u001b[39m Tensor:\n\u001b[0;32m--> 463\u001b[0m     \u001b[38;5;28;01mreturn\u001b[39;00m \u001b[38;5;28;43mself\u001b[39;49m\u001b[38;5;241;43m.\u001b[39;49m\u001b[43m_conv_forward\u001b[49m\u001b[43m(\u001b[49m\u001b[38;5;28;43minput\u001b[39;49m\u001b[43m,\u001b[49m\u001b[43m \u001b[49m\u001b[38;5;28;43mself\u001b[39;49m\u001b[38;5;241;43m.\u001b[39;49m\u001b[43mweight\u001b[49m\u001b[43m,\u001b[49m\u001b[43m \u001b[49m\u001b[38;5;28;43mself\u001b[39;49m\u001b[38;5;241;43m.\u001b[39;49m\u001b[43mbias\u001b[49m\u001b[43m)\u001b[49m\n",
      "File \u001b[0;32m~/Documents/code_projects/msc/counting_research_algorithms/.venv/lib/python3.9/site-packages/torch/nn/modules/conv.py:459\u001b[0m, in \u001b[0;36mConv2d._conv_forward\u001b[0;34m(self, input, weight, bias)\u001b[0m\n\u001b[1;32m    455\u001b[0m \u001b[38;5;28;01mif\u001b[39;00m \u001b[38;5;28mself\u001b[39m\u001b[38;5;241m.\u001b[39mpadding_mode \u001b[38;5;241m!=\u001b[39m \u001b[38;5;124m'\u001b[39m\u001b[38;5;124mzeros\u001b[39m\u001b[38;5;124m'\u001b[39m:\n\u001b[1;32m    456\u001b[0m     \u001b[38;5;28;01mreturn\u001b[39;00m F\u001b[38;5;241m.\u001b[39mconv2d(F\u001b[38;5;241m.\u001b[39mpad(\u001b[38;5;28minput\u001b[39m, \u001b[38;5;28mself\u001b[39m\u001b[38;5;241m.\u001b[39m_reversed_padding_repeated_twice, mode\u001b[38;5;241m=\u001b[39m\u001b[38;5;28mself\u001b[39m\u001b[38;5;241m.\u001b[39mpadding_mode),\n\u001b[1;32m    457\u001b[0m                     weight, bias, \u001b[38;5;28mself\u001b[39m\u001b[38;5;241m.\u001b[39mstride,\n\u001b[1;32m    458\u001b[0m                     _pair(\u001b[38;5;241m0\u001b[39m), \u001b[38;5;28mself\u001b[39m\u001b[38;5;241m.\u001b[39mdilation, \u001b[38;5;28mself\u001b[39m\u001b[38;5;241m.\u001b[39mgroups)\n\u001b[0;32m--> 459\u001b[0m \u001b[38;5;28;01mreturn\u001b[39;00m \u001b[43mF\u001b[49m\u001b[38;5;241;43m.\u001b[39;49m\u001b[43mconv2d\u001b[49m\u001b[43m(\u001b[49m\u001b[38;5;28;43minput\u001b[39;49m\u001b[43m,\u001b[49m\u001b[43m \u001b[49m\u001b[43mweight\u001b[49m\u001b[43m,\u001b[49m\u001b[43m \u001b[49m\u001b[43mbias\u001b[49m\u001b[43m,\u001b[49m\u001b[43m \u001b[49m\u001b[38;5;28;43mself\u001b[39;49m\u001b[38;5;241;43m.\u001b[39;49m\u001b[43mstride\u001b[49m\u001b[43m,\u001b[49m\n\u001b[1;32m    460\u001b[0m \u001b[43m                \u001b[49m\u001b[38;5;28;43mself\u001b[39;49m\u001b[38;5;241;43m.\u001b[39;49m\u001b[43mpadding\u001b[49m\u001b[43m,\u001b[49m\u001b[43m \u001b[49m\u001b[38;5;28;43mself\u001b[39;49m\u001b[38;5;241;43m.\u001b[39;49m\u001b[43mdilation\u001b[49m\u001b[43m,\u001b[49m\u001b[43m \u001b[49m\u001b[38;5;28;43mself\u001b[39;49m\u001b[38;5;241;43m.\u001b[39;49m\u001b[43mgroups\u001b[49m\u001b[43m)\u001b[49m\n",
      "\u001b[0;31mKeyboardInterrupt\u001b[0m: "
     ]
    }
   ],
   "source": [
    "\n",
    "\n",
    "from ultralytics import RTDETR\n",
    "\n",
    "model= RTDETR(r\"/Users/gilbenor/Library/CloudStorage/OneDrive-Personal/measurement_paper_images/detection drone/runs-detections-drone-14.08/detect/train/weights/best.pt\")\n",
    "\n",
    "\n",
    "for threshold in [0.1,0.2,0.3,0.4,0.5,0.6,0.7,0.8,0.9,1.0]:\n",
    "    results = model.val(save_json=True, data=r\"/Users/gilbenor/Downloads/circle pond.v23i.yolov8/data.yaml\", plots=True,split='test',conf=threshold)\n",
    "    print(f\"threshold: {threshold}\")\n",
    "    print(results)"
   ]
  },
  {
   "cell_type": "markdown",
   "metadata": {},
   "source": [
    "\n",
    "\n",
    "->\n",
    "\n",
    "# Creating and Inspecting a FiftyOne Dataset from YOLO-Formatted Data\n",
    "\n",
    "This code block creates a new FiftyOne dataset called `circle-pond-analysis` from a directory containing images and YOLO-format label files, organized into `train`, `valid`, and `test` splits.\n",
    "\n",
    "- **Dataset Structure:**  \n",
    "  The code expects the following folder structure for each split:\n",
    "  ```\n",
    "  <dataset_dir>/<split>/images/\n",
    "  <dataset_dir>/<split>/labels/\n",
    "  ```\n",
    "  where `<split>` is one of `train`, `valid`, or `test`.\n",
    "\n",
    "- **Label Parsing:**  \n",
    "  For each image, the code looks for a corresponding YOLO label file. Each label file is parsed, and the bounding boxes are converted into FiftyOne `Detection` objects (with the label `'ground_truth'`).\n",
    "\n",
    "- **Sample Creation:**  \n",
    "  Each image and its detections are added as a sample to the FiftyOne dataset, with the split name added as a tag.\n",
    "\n",
    "- **Dataset Summary:**  \n",
    "  After loading, the code prints:\n",
    "  - The number of files in the test directory\n",
    "  - The number of samples in the dataset\n",
    "  - A summary and schema of the dataset\n",
    "  - Details of the first sample, including its ground truth detections\n",
    "\n",
    "- **Visualization:**  \n",
    "  Optionally, you can launch the FiftyOne app to visually inspect the dataset by uncommenting the last two lines.\n",
    "\n",
    "This setup is useful for preparing and verifying your dataset before training or evaluation."
   ]
  },
  {
   "cell_type": "code",
   "execution_count": 3,
   "metadata": {},
   "outputs": [
    {
     "name": "stdout",
     "output_type": "stream",
     "text": [
      "Created new dataset 'circle-pond-analysis'\n",
      "3\n",
      "Added 20230920_120410_jpg.rf.228c5eec6b39d44ad174701845916268.jpg with label (if exists)\n",
      "Added 20230920_115951_jpg.rf.cd3046bb49355e395045e8631aded018.jpg with label (if exists)\n",
      "Added 20230920_121523_jpg.rf.dbe991c9c4bd750d730ba2a50ef21087.jpg with label (if exists)\n",
      "Added 20230920_121416_jpg.rf.afffe41c31395002ec7d0dbca1d9d2e1.jpg with label (if exists)\n",
      "Added 20230920_115310_jpg.rf.b8a6ccd11c7598ec045e2fda3e7dc524.jpg with label (if exists)\n",
      "Added 20230920_120814_jpg.rf.f4cbaf661cdcdb67b2b820182fd80a51.jpg with label (if exists)\n",
      "Added 20230920_120425_jpg.rf.f3d9a39cfeb1b2857480894f05663172.jpg with label (if exists)\n",
      "Added 20230920_120359_jpg.rf.6c0789ba372afb3eb463288e5a235837.jpg with label (if exists)\n",
      "Added 20230920_115213_jpg.rf.c73c0a0cec2c595a80e6a7ef7066d63c.jpg with label (if exists)\n",
      "Added 20230920_121213_jpg.rf.638b72a42e4db7183e192536efd0057a.jpg with label (if exists)\n",
      "Added 20230920_115946_jpg.rf.76816e35cb54c653ab07be62c6caabab.jpg with label (if exists)\n",
      "Added 20230920_121350_jpg.rf.f370cf442ca2cbc08b84f2617904e446.jpg with label (if exists)\n",
      "Added 20230920_115133_jpg.rf.9ca3cc133f857c148ddca6fc5f372b26.jpg with label (if exists)\n",
      "Added 20230920_120417_jpg.rf.c3a2460ebd53c9bb318a7dce5a0988a9.jpg with label (if exists)\n",
      "Added 20230920_121259_jpg.rf.9cce1d6df0c45ddeffed64f3a3c4c744.jpg with label (if exists)\n",
      "Added 20230920_121204_jpg.rf.327699191e9f4b296d9e878cec52b648.jpg with label (if exists)\n",
      "Added 20230920_120154_jpg.rf.672cfd3f5592bab15ca502ad13b2ad4b.jpg with label (if exists)\n",
      "Added 20230920_115243_jpg.rf.32bef1aa28c34a878a768c7a83d7450f.jpg with label (if exists)\n",
      "Added 20230920_115314_jpg.rf.aa9922ef6c198544e2f6b569abb14f7e.jpg with label (if exists)\n",
      "Added 20230920_121250_jpg.rf.0b95e22ee2b8dc73d6a3b64b6b5c9277.jpg with label (if exists)\n",
      "Added 20230920_121603_jpg.rf.58ab47c9ade64991a4bfb8fc928d9249.jpg with label (if exists)\n",
      "Added 20230920_120718_jpg.rf.c6c4539a315a33c676616fcf6a6196c4.jpg with label (if exists)\n",
      "Added 20230920_120723_jpg.rf.c31d559e848eb6893b29eb9d2a0c7f6c.jpg with label (if exists)\n",
      "Added 20230920_120355_jpg.rf.55321aa499ae2eb99df5e60d97404fd1.jpg with label (if exists)\n",
      "Added 20230920_121220_jpg.rf.44c103ec9d7378c87598b860f2e59aa3.jpg with label (if exists)\n",
      "Added 20230920_115215_jpg.rf.0f3d1cd8a51000f2f2900f54eb7f9410.jpg with label (if exists)\n",
      "Added 20230920_120921_jpg.rf.84b4ae26df89e3b99f31fcebee3dd894.jpg with label (if exists)\n",
      "Added 20230920_120421_jpg.rf.9d649220744f11357038caeed2cb34eb.jpg with label (if exists)\n",
      "Added 20230920_121043_jpg.rf.fd5fef17504780cd2f8927de46b9c68f.jpg with label (if exists)\n",
      "Added 20230920_121334_jpg.rf.ed6ba73cda13d7709d9533981f2d8c85.jpg with label (if exists)\n",
      "Added 20230920_120008_jpg.rf.af0c88956f71cc309146bfd3e9e2211a.jpg with label (if exists)\n",
      "Added 20230920_121011_jpg.rf.0a7221b176c65c35c71fbea1e32c73a9.jpg with label (if exists)\n",
      "Added 20230920_115308_jpg.rf.0869e9c36f581b565337d6c376c6b1b7.jpg with label (if exists)\n",
      "Added 20230920_121559_jpg.rf.b7bb7433b2af41037e990162dd784e65.jpg with label (if exists)\n",
      "Added 20230920_115302_jpg.rf.ca43511a0b67255da349458663cc0d27.jpg with label (if exists)\n",
      "Added 20230920_121437_jpg.rf.13f1f2db8ce06fea35e529b8ba40b7d1.jpg with label (if exists)\n",
      "Added 20230920_120439_jpg.rf.8505bac932d0d52519f04b278687b00e.jpg with label (if exists)\n",
      "Added 20230920_115202_jpg.rf.a621328bfd6d01d0d40d683c2d67bca5.jpg with label (if exists)\n",
      "Added 20230920_120443_jpg.rf.46f2d7a126afb7eacf5f84542c554618.jpg with label (if exists)\n",
      "Added 20230920_115259_jpg.rf.0357a3d952e0d47609e3288943bcb156.jpg with label (if exists)\n",
      "Added 20230920_121615_jpg.rf.938be342492e0578d819e7ff1690cb0b.jpg with label (if exists)\n",
      "Added 20230920_121325_jpg.rf.273c044db976c007f0ba375f14025c67.jpg with label (if exists)\n",
      "Added 20230920_120348_jpg.rf.6da642b0b833d5376ac4e7d5646de0c7.jpg with label (if exists)\n",
      "Added 20230920_121053_jpg.rf.2781f32ed743549af7964ca094aea156.jpg with label (if exists)\n",
      "Added 20230920_121447_jpg.rf.b705f55e7142762cf2b2079b2438b4bf.jpg with label (if exists)\n",
      "Added 20230920_120824_jpg.rf.41bddd04ee0707820b3ea91904484120.jpg with label (if exists)\n",
      "Added 20230920_121217_jpg.rf.93cba946e4ccb537cc089a2733966308.jpg with label (if exists)\n",
      "Added 20230920_121434_jpg.rf.a2a9156b18cccc4d4f77b52809e90167.jpg with label (if exists)\n",
      "Added 20230920_120730_jpg.rf.a6c22fdb8992eff516a9ee896fd79c0c.jpg with label (if exists)\n",
      "Added 20230920_121318_jpg.rf.c3368fd98b4c4d3a58d4c4f54f3a9e39.jpg with label (if exists)\n",
      "Added 20230920_115323_jpg.rf.85d667354ed7dc0512a56267d74e5557.jpg with label (if exists)\n",
      "Added 20230920_121411_jpg.rf.757d779f073af4453d266648b20137a3.jpg with label (if exists)\n",
      "Added 20230920_121254_jpg.rf.5a481702322992d95635473748a2a04f.jpg with label (if exists)\n",
      "Added 20230920_120200_jpg.rf.ef11f6a14632bb2698a581549f332a2e.jpg with label (if exists)\n",
      "Added 20230920_120435_jpg.rf.419e1be81409e6a9292f1207e952a737.jpg with label (if exists)\n",
      "Added 20230920_115221_jpg.rf.9459a138e868e1e439ebcdb97ca83f27.jpg with label (if exists)\n",
      "Added 20230920_120343_jpg.rf.b820f35bf2ee3882aff07d887a413706.jpg with label (if exists)\n",
      "Added 20230920_121238_jpg.rf.f4cdaa2d869fa9d946aa2ff52c604b75.jpg with label (if exists)\n",
      "Added 20230920_121152_jpg.rf.87fc9317e349cc14f27dcc0dcb079607.jpg with label (if exists)\n",
      "Added 20230920_120659_jpg.rf.44824c79501211f070a0a41a72eeea2d.jpg with label (if exists)\n",
      "Added 20230920_121227_jpg.rf.172b8c7c392b1742a32eba22e57be743.jpg with label (if exists)\n",
      "Added 20230920_120401_jpg.rf.a4a900143dc9f2592f2ca8d38f7721cf.jpg with label (if exists)\n",
      "Added 20230920_121331_jpg.rf.16bbcc96fce7751c6c789c111c18dc7c.jpg with label (if exists)\n",
      "Added 20230920_120705_jpg.rf.c17776c4ccf0f62425d24f5d5ced0a13.jpg with label (if exists)\n",
      "Added 20230920_121340_jpg.rf.c17ee50b723a95f1a39472a5c1053078.jpg with label (if exists)\n",
      "Added 20230920_121404_jpg.rf.ac5af154802fe7370c8676409f2fdfc2.jpg with label (if exists)\n",
      "Added 20230920_121050_jpg.rf.5ab29f9f1b3fb1672c641857767257ff.jpg with label (if exists)\n",
      "Added 20230920_115121_jpg.rf.df6003b620f742b4cbd61ce7b14a2eee.jpg with label (if exists)\n",
      "Added 20230920_120145_jpg.rf.f8d5be583833dee34b1693f166a07f2f.jpg with label (if exists)\n",
      "Added 20230920_115255_jpg.rf.f14d9509f9f4e78baa818bd82f1fe806.jpg with label (if exists)\n",
      "Added 20230920_121453_jpg.rf.37c2dd0f5a9f9cba4e7ecfca46a7b4aa.jpg with label (if exists)\n",
      "Added 20230920_120821_jpg.rf.67b5ad15c4ee2e43be62c12719908a06.jpg with label (if exists)\n",
      "Added 20230920_120406_jpg.rf.b2d1f60c361dc5308add4b2701348ac2.jpg with label (if exists)\n",
      "Added 20230920_120414_jpg.rf.46116904f72cc466f3f8e708cd2f54a9.jpg with label (if exists)\n",
      "Added 20230920_115139_jpg.rf.761818f564969034a681576ebd3c92a6.jpg with label (if exists)\n",
      "Added 20230920_121322_jpg.rf.6bfb8a559d25a0c645c3d7a487c7574a.jpg with label (if exists)\n",
      "Added 20230920_115022_jpg.rf.7aeece2eb946ad2174ed2e4e7e7f1973.jpg with label (if exists)\n",
      "Added 20230920_120819_jpg.rf.6a191c82cd503355880514a856c052a9.jpg with label (if exists)\n",
      "Added 20230920_120430_jpg.rf.cc61f9828d6fb902cdccab4d0eb6f9ee.jpg with label (if exists)\n",
      "Added 20230920_115143_mp4-11_jpg.rf.d0f624b3c1c0e7f2289d4aa2a935e6d9.jpg with label (if exists)\n",
      "Added 20230920_114724_mp4-122_jpg.rf.e6f77efb9d4da70e315a1185902a4ddb.jpg with label (if exists)\n",
      "Added 20230920_114724_mp4-135_jpg.rf.77e0f3c3fc89dd8cb0efd63544bb88ff.jpg with label (if exists)\n",
      "Added 20230920_120623_mp4-22_jpg.rf.d13f57fe128c821d4b397c9126372b2b.jpg with label (if exists)\n",
      "Added 20230920_114724_mp4-143_jpg.rf.ac0152dd50b5a6fe4dad7466a3c80b5d.jpg with label (if exists)\n",
      "Added 20230920_114724_mp4-131_jpg.rf.a212db4dd02ac848103c59336770e561.jpg with label (if exists)\n",
      "Added 20230920_120623_mp4-20_jpg.rf.9f4bbc73cfe0131c60061713d4c581f0.jpg with label (if exists)\n",
      "Added 20230920_120623_mp4-4_jpg.rf.3aa95d064372243574a20d1df76bba78.jpg with label (if exists)\n",
      "Added 20230920_114724_mp4-147_jpg.rf.e23f4c4e680f8a32ffdb2aee0fb07043.jpg with label (if exists)\n",
      "Added 20230920_114724_mp4-103_jpg.rf.9501a27b68362c91f005a2504cdff52f.jpg with label (if exists)\n",
      "Added 20230920_114724_mp4-130_jpg.rf.f72bab867e5d0d9a4a0b85b1cca3bad8.jpg with label (if exists)\n",
      "Added 20230920_115143_mp4-7_jpg.rf.96ff2c94b9884e1de2689b5973473954.jpg with label (if exists)\n",
      "Added 20230920_120623_mp4-15_jpg.rf.92600329d33767913652f4bd0783a7b6.jpg with label (if exists)\n",
      "Added 20230920_114724_mp4-160_jpg.rf.86c455e516f0c2705d0c00c4aeaf1f87.jpg with label (if exists)\n",
      "Added 20230920_115143_mp4-10_jpg.rf.6465da572fecd6e99f84a985d8ffdd40.jpg with label (if exists)\n",
      "Added 20230920_115143_mp4-0_jpg.rf.b4472f8971c7eaf093835b1ed0e9979d.jpg with label (if exists)\n",
      "Added 20230920_114724_mp4-153_jpg.rf.591361fa72d3bc3a3ee1e7967d9a7e2d.jpg with label (if exists)\n",
      "Added 20230920_114724_mp4-120_jpg.rf.f9ad341681172371e19ec9f3dba64895.jpg with label (if exists)\n",
      "Added 20230920_114724_mp4-136_jpg.rf.58c8a4c6111a70d5100508f225e2a35f.jpg with label (if exists)\n",
      "Added 20230920_120623_mp4-17_jpg.rf.44a97f8e27d4612f42ea8bcd62dc55bf.jpg with label (if exists)\n",
      "Added 20230920_114724_mp4-128_jpg.rf.c59b9fc8aeaecad5c4806290c32e3f93.jpg with label (if exists)\n",
      "Added 20230920_114724_mp4-105_jpg.rf.3ff95b1d6d4c8b36305763712f407550.jpg with label (if exists)\n",
      "Added 20230920_114724_mp4-108_jpg.rf.d99ac5cdadee6074c5f5824d54e1a8a7.jpg with label (if exists)\n",
      "Added 20230920_114724_mp4-148_jpg.rf.a3db7bc8d3fcfa37c19fd93c2922b962.jpg with label (if exists)\n",
      "Added 20230920_120623_mp4-1_jpg.rf.1851c03d41357016e28c02bc3bcb89db.jpg with label (if exists)\n",
      "Added 20230920_114724_mp4-149_jpg.rf.7c418dd5cba85e9395cd72db2b3040b4.jpg with label (if exists)\n",
      "Added 20230920_115143_mp4-9_jpg.rf.01e21de85e434cadc4eb4e9c8893e392.jpg with label (if exists)\n",
      "Added 20230920_114724_mp4-123_jpg.rf.f1c521043ea5a3582d6ca34ba7be1cee.jpg with label (if exists)\n",
      "Added 20230920_120623_mp4-32_jpg.rf.79f7d97abd7d16cdddeb44c10b1d4af9.jpg with label (if exists)\n",
      "Added 20230920_114724_mp4-156_jpg.rf.08ba2e3775efa2e9b5ada87cfba65a83.jpg with label (if exists)\n",
      "Added 20230920_115143_mp4-14_jpg.rf.6778522f923561992c3805b8393e74d2.jpg with label (if exists)\n",
      "Added 20230920_114724_mp4-129_jpg.rf.5103a4341e5b7cd2ee15ab92cd2a2c72.jpg with label (if exists)\n",
      "Added 20230920_114724_mp4-133_jpg.rf.7b7cffad44dd9921dc6f80ffe1c8c938.jpg with label (if exists)\n",
      "Added 20230920_120623_mp4-31_jpg.rf.5d772f81925d93bc067c15b4276d4e62.jpg with label (if exists)\n",
      "Added 20230920_114724_mp4-117_jpg.rf.1290479394c4975568d07b4c93e70d9a.jpg with label (if exists)\n",
      "Added 20230920_114724_mp4-150_jpg.rf.54706bcc04621e289a59eb150d76ecb7.jpg with label (if exists)\n",
      "Added 20230920_114724_mp4-51_jpg.rf.0b662cd42c2c6b59aa03d4b717a89def.jpg with label (if exists)\n",
      "Added 20230920_114724_mp4-37_jpg.rf.5ae148c672245b00e11dd0eadc57aafb.jpg with label (if exists)\n",
      "Added 20230920_120623_mp4-16_jpg.rf.502ce491fceb07251578af4e5453c05d.jpg with label (if exists)\n",
      "Added 20230920_114724_mp4-116_jpg.rf.9d5e5b6e164a52e0a432a040e08a89a0.jpg with label (if exists)\n",
      "Added 20230920_114724_mp4-112_jpg.rf.399bdc0604f4dec3777ff9e198fe0c8f.jpg with label (if exists)\n",
      "Added 20230920_114724_mp4-142_jpg.rf.a254b135429efdcf8fb18d6b07773d67.jpg with label (if exists)\n",
      "Added 20230920_120623_mp4-19_jpg.rf.dc7f3a325d6b9fedd630a00dc7a6fdcf.jpg with label (if exists)\n",
      "Added 20230920_114724_mp4-111_jpg.rf.4db4d4d8fa80dca8c32e63289bd926b4.jpg with label (if exists)\n",
      "Added 20230920_114724_mp4-77_jpg.rf.0e7aaa056ed5711fbc3dc78d51fea392.jpg with label (if exists)\n",
      "Added 20230920_120623_mp4-11_jpg.rf.064ef1ddcaf3cab3387b992e09bf1c74.jpg with label (if exists)\n",
      "Added 20230920_120623_mp4-13_jpg.rf.9115a5996a276cb57ae40b59b610fc69.jpg with label (if exists)\n",
      "Added 20230920_114724_mp4-118_jpg.rf.610570d4d266d3678203c1b8a57523d3.jpg with label (if exists)\n",
      "Added 20230920_115143_mp4-12_jpg.rf.6213916af06490c81f214e2d308c268c.jpg with label (if exists)\n",
      "Added 20230920_114724_mp4-140_jpg.rf.4d5a7c21ab9e563899d05852ace9953d.jpg with label (if exists)\n",
      "Added 20230920_120623_mp4-3_jpg.rf.bf2aa06db3e0dfd001851a9374b89b5e.jpg with label (if exists)\n",
      "Added 20230920_114724_mp4-102_jpg.rf.0290b5a17e0ab6c8820ea79d3679303e.jpg with label (if exists)\n",
      "Added 20230920_114724_mp4-74_jpg.rf.09e665bd0fe9d10667e3041e01006cc7.jpg with label (if exists)\n",
      "Added 20230920_114724_mp4-67_jpg.rf.11aee003fd81a2ba0d1fc0db801f0c84.jpg with label (if exists)\n",
      "Added 20230920_120623_mp4-18_jpg.rf.251464c4513ff35b861ff92cc593dd64.jpg with label (if exists)\n",
      "Added 20230920_114724_mp4-162_jpg.rf.448efc14ead9dcb031db83008f0cdd44.jpg with label (if exists)\n",
      "Added 20230920_114724_mp4-98_jpg.rf.a723d53a666f6153084c7aedff51cace.jpg with label (if exists)\n",
      "Added 20230920_120623_mp4-28_jpg.rf.068e4747d1e70000eb15a4583bc81cf7.jpg with label (if exists)\n",
      "Added 20230920_120623_mp4-29_jpg.rf.7e67eef290a8d90a3cd57ff4813f2ace.jpg with label (if exists)\n",
      "Added 20230920_115143_mp4-13_jpg.rf.bea22b5b8fea07207f64a7c8237e9c34.jpg with label (if exists)\n",
      "Added 20230920_114724_mp4-107_jpg.rf.5717c7265adbf3a91a748d603f1e7792.jpg with label (if exists)\n",
      "Added 20230920_120623_mp4-5_jpg.rf.4c660efc3e11ca52db7f262ab9d8e36e.jpg with label (if exists)\n",
      "Added 20230920_120623_mp4-2_jpg.rf.627fc7f3f8904517963b4a457880a6fe.jpg with label (if exists)\n",
      "Added 20230920_120623_mp4-25_jpg.rf.34e9fc10ba519a685c361c7b5523802a.jpg with label (if exists)\n",
      "Added 20230920_120623_mp4-23_jpg.rf.55c96cf6d84f4dc586ced6e16674ccb8.jpg with label (if exists)\n",
      "Added 20230920_114724_mp4-155_jpg.rf.de04529ed4372e9eb4897801528f6d7a.jpg with label (if exists)\n",
      "Added 20230920_114724_mp4-164_jpg.rf.7ad6a378d18eba8d18abbe5f3c695af7.jpg with label (if exists)\n",
      "Added 20230920_114724_mp4-165_jpg.rf.3539960f9815ad4d0ce38533981f4811.jpg with label (if exists)\n",
      "Added 20230920_120623_mp4-21_jpg.rf.ffb409adf3f72100655cd95030765d16.jpg with label (if exists)\n",
      "Added 20230920_114724_mp4-144_jpg.rf.b3062af4984c08fd0ba58e59aa74a0b4.jpg with label (if exists)\n",
      "Added 20230920_114724_mp4-152_jpg.rf.cbb506cc0831d74c9c9d4acbaf5c5038.jpg with label (if exists)\n",
      "Added 20230920_114724_mp4-139_jpg.rf.219f2d121222c3cee5a3f005caad2c7d.jpg with label (if exists)\n",
      "Added 20230920_114724_mp4-141_jpg.rf.fade99f1cc0aeb21f898c425f1f60683.jpg with label (if exists)\n",
      "Added 20230920_114724_mp4-124_jpg.rf.742a7b92e682444e237a2c14c792fefc.jpg with label (if exists)\n",
      "Added 20230920_114724_mp4-157_jpg.rf.e337a8e9e2e36581d392b7c77fde574d.jpg with label (if exists)\n",
      "Added 20230920_114724_mp4-158_jpg.rf.acca838a92ea33c67cd4c227556487ec.jpg with label (if exists)\n",
      "Added 20230920_115143_mp4-2_jpg.rf.8a7851ae3fb73785e1fbbc9643901dda.jpg with label (if exists)\n",
      "Added 20230920_114724_mp4-64_jpg.rf.a586f989671fde84e4d0347b77501150.jpg with label (if exists)\n",
      "Added 20230920_114724_mp4-125_jpg.rf.411f3ca7c3a425126a212b31da779043.jpg with label (if exists)\n",
      "Added 20230920_114724_mp4-119_jpg.rf.4a669dce01551c1b22ea6821df509c1f.jpg with label (if exists)\n",
      "Added 20230920_114724_mp4-101_jpg.rf.50bf4deede3ef0667e5c604aaeac12a0.jpg with label (if exists)\n",
      "Added 20230920_114724_mp4-159_jpg.rf.50cf53b7f3833bb859d71a243937e670.jpg with label (if exists)\n",
      "Added 20230920_114724_mp4-93_jpg.rf.2ee16b4855c2a4fb956db34ff83ef800.jpg with label (if exists)\n",
      "Added 20230920_114724_mp4-109_jpg.rf.45e3b7fd2bf41b1e050dd4b76d2efdcc.jpg with label (if exists)\n",
      "Added 20230920_114724_mp4-161_jpg.rf.750b68edcf6d4ebf865b76288a09ba9c.jpg with label (if exists)\n",
      "Added 20230920_115143_mp4-1_jpg.rf.dff1af4040e90afd31a1a4133271c4dd.jpg with label (if exists)\n",
      "Added 20230920_120623_mp4-0_jpg.rf.4e98f8d9ee1ed917cef78ef7fae340e1.jpg with label (if exists)\n",
      "Added 20230920_120623_mp4-33_jpg.rf.2b5f6ceb8658bc400e7739dbf9be32f4.jpg with label (if exists)\n",
      "Added 20230920_120623_mp4-24_jpg.rf.6e66eef3795b1db2e10fe355e74b75a0.jpg with label (if exists)\n",
      "Added 20230920_114724_mp4-146_jpg.rf.e1a67c82ce3798eb0de621c88aaa2af1.jpg with label (if exists)\n",
      "Added 20230920_114724_mp4-163_jpg.rf.c1601bacaa3593263cf6e980389bb925.jpg with label (if exists)\n",
      "Added 20230920_115143_mp4-15_jpg.rf.89f5549c89b971b18bd8d9c51a23ccac.jpg with label (if exists)\n",
      "Added 20230920_115143_mp4-4_jpg.rf.f5d7174bbbf2ef227322d0167311f6e9.jpg with label (if exists)\n",
      "Added 20230920_114724_mp4-96_jpg.rf.205fb263d7de48cd56c08ac7a01ee18b.jpg with label (if exists)\n",
      "Added 20230920_114724_mp4-115_jpg.rf.30481ada2b8fc4c17640c8347368acf5.jpg with label (if exists)\n",
      "Added 20230920_114724_mp4-151_jpg.rf.dc86032b8f6be35125ffa5a3e3435ed5.jpg with label (if exists)\n",
      "Added 20230920_114724_mp4-104_jpg.rf.6c6d791029b129b04bdbd22260d7b658.jpg with label (if exists)\n",
      "Added 20230920_114724_mp4-138_jpg.rf.ba67e7528e7abfd977c6b521542b2da3.jpg with label (if exists)\n",
      "Added 20230920_115143_mp4-16_jpg.rf.395b03aea50089fdbbbf57dad2fe9b79.jpg with label (if exists)\n",
      "Added 20230920_114724_mp4-126_jpg.rf.8c5bdbc779a634a25dfa6271d052082a.jpg with label (if exists)\n",
      "Added 20230920_114724_mp4-154_jpg.rf.cf14dec18f84542c80d494c853108152.jpg with label (if exists)\n",
      "Added 20230920_114724_mp4-114_jpg.rf.093eb0d972ed9819c876ebe921270fcf.jpg with label (if exists)\n",
      "Added 20230920_115751_mp4-65_jpg.rf.9da0d94a996aeefe3995fdb6ebf05843.jpg with label (if exists)\n",
      "Added 20230920_121147_mp4-263_jpg.rf.5edc1177d8decf3ccc7409f7e1a2abb9.jpg with label (if exists)\n",
      "Added 20230920_115751_mp4-92_jpg.rf.d69332b8b2b043c96e85e088da6310ec.jpg with label (if exists)\n",
      "Added 20230920_120539_mp4-33_jpg.rf.69ce80e0b5d2e5d3b2aa830ab7ce9f7a.jpg with label (if exists)\n",
      "Added 20230920_121147_mp4-102_jpg.rf.e8bc7f1b752eca80e7d1d192a77ca234.jpg with label (if exists)\n",
      "Added 20230920_120204_mp4-53_jpg.rf.4c6cc97f77fb2dd76921ef063a50ded0.jpg with label (if exists)\n",
      "Added 20230920_115751_mp4-66_jpg.rf.b695f679253ebadffb31b52c41a44675.jpg with label (if exists)\n",
      "Added 20230920_120539_mp4-38_jpg.rf.086c014e28424ebe35bc047b951d98de.jpg with label (if exists)\n",
      "Added 20230920_121147_mp4-24_jpg.rf.4721211c11d38386cf78d0e8485f0c51.jpg with label (if exists)\n",
      "Added 20230920_121147_mp4-18_jpg.rf.bf244411aa10a5152d2ccd9cb1ae9e46.jpg with label (if exists)\n",
      "Added 20230920_121147_mp4-14_jpg.rf.fc2825a61f88907bf823fcd460b68d59.jpg with label (if exists)\n",
      "Added 20230920_120204_mp4-3_jpg.rf.79e3872bc74fe87c8eb1d780fbe48240.jpg with label (if exists)\n",
      "Added 20230920_121147_mp4-195_jpg.rf.a0a2e1d9be97487e08f5f42a5f995e68.jpg with label (if exists)\n",
      "Added 20230920_115751_mp4-54_jpg.rf.315cdb63644e0bb5a5894a9dc8574cc4.jpg with label (if exists)\n",
      "Added 20230920_115751_mp4-73_jpg.rf.fce5c791becf9a8012c282cbc2b64074.jpg with label (if exists)\n",
      "Added 20230920_121147_mp4-16_jpg.rf.6d20846573b01f40293c357d078bfb12.jpg with label (if exists)\n",
      "Added 20230920_121147_mp4-235_jpg.rf.165bd32b475184d867f49e071e65c2f2.jpg with label (if exists)\n",
      "Added 20230920_115751_mp4-86_jpg.rf.51fce9b48ba0a9efe30729ac0b430f41.jpg with label (if exists)\n",
      "Added 20230920_121147_mp4-177_jpg.rf.7836c28884128a58155dc6d85a165594.jpg with label (if exists)\n",
      "Added 20230920_121147_mp4-10_jpg.rf.1c3c59b094caea4bfc7e7df5f1c96752.jpg with label (if exists)\n",
      "Added 20230920_115751_mp4-88_jpg.rf.6e0b4dc0045a9f1d913fa3b3dfe8ecea.jpg with label (if exists)\n",
      "Added 20230920_115751_mp4-47_jpg.rf.7948b7de719efda96d46d3945adb11e9.jpg with label (if exists)\n",
      "Added 20230920_115751_mp4-0_jpg.rf.579fce127f9464070f05519faceffd8e.jpg with label (if exists)\n",
      "Added 20230920_115751_mp4-63_jpg.rf.91346a5bd2229f141ddd380c9a98d625.jpg with label (if exists)\n",
      "Added 20230920_114724_mp4-7_jpg.rf.274e2a0b69c343d087c84ab2a4e88d2b.jpg with label (if exists)\n",
      "Added 20230920_121147_mp4-265_jpg.rf.dd22210d590cbde2de1a16873a3c0b70.jpg with label (if exists)\n",
      "Added 20230920_114724_mp4-88_jpg.rf.68453b5b66ad25fdd363ff423eef4cc5.jpg with label (if exists)\n",
      "Added 20230920_120204_mp4-4_jpg.rf.409a68832b92e698fcfd97053612248e.jpg with label (if exists)\n",
      "Added 20230920_121147_mp4-91_jpg.rf.5a58014152f19feb5b694aa113b64f3d.jpg with label (if exists)\n",
      "Added 20230920_115356_mp4-24_jpg.rf.1e56964e83b916ef414c5be2e5575681.jpg with label (if exists)\n",
      "Added 20230920_121147_mp4-3_jpg.rf.824d79ff3599afcc883d01d42d019e39.jpg with label (if exists)\n",
      "Added 20230920_115356_mp4-0_jpg.rf.899b92c0cf295279cde480f21c683be8.jpg with label (if exists)\n",
      "Added 20230920_115751_mp4-22_jpg.rf.caf2f9ab357127f86337a2f872108ae4.jpg with label (if exists)\n",
      "Added 20230920_115356_mp4-1_jpg.rf.c8c4bd2957730ebc4d2b411851e140d4.jpg with label (if exists)\n",
      "Added 20230920_121147_mp4-69_jpg.rf.8acfaa880063202ba6eef678d83426d7.jpg with label (if exists)\n",
      "Added 20230920_121147_mp4-128_jpg.rf.6d4948a3bdc3ca8d672f5a03171b0b4f.jpg with label (if exists)\n",
      "Added 20230920_121147_mp4-55_jpg.rf.597750ddb320340d017539c9019bf2d5.jpg with label (if exists)\n",
      "Added 20230920_120204_mp4-47_jpg.rf.77870a55ef1a0530c41d79bcfc40f9a1.jpg with label (if exists)\n",
      "Added 20230920_121147_mp4-204_jpg.rf.ff803ef23fff39f238b56b22dad1a1f8.jpg with label (if exists)\n",
      "Added 20230920_115751_mp4-17_jpg.rf.7de2079e1fcbf93e4c747608e1dabbcc.jpg with label (if exists)\n",
      "Added 20230920_121147_mp4-184_jpg.rf.85618923a9afe7015db795bef7dcf164.jpg with label (if exists)\n",
      "Added 20230920_121147_mp4-13_jpg.rf.a53284079f9994b8e1f0720381f96fef.jpg with label (if exists)\n",
      "Added 20230920_121147_mp4-251_jpg.rf.828f283f7c8918de102a4d06f77eaedc.jpg with label (if exists)\n",
      "Added 20230920_120204_mp4-11_jpg.rf.811147e06f355227a4a19275fd309f10.jpg with label (if exists)\n",
      "Added 20230920_121147_mp4-157_jpg.rf.79e7dc1d80d75f06c8f81b101705aee3.jpg with label (if exists)\n",
      "Added 20230920_115751_mp4-71_jpg.rf.c5a02350b44c39383ff6faffc81e59b1.jpg with label (if exists)\n",
      "Added 20230920_121147_mp4-202_jpg.rf.4b85da094daa594b5b87b3c75b2e75ef.jpg with label (if exists)\n",
      "Added 20230920_121147_mp4-141_jpg.rf.05581ab07d1e5cea16ce41ef6b6fdfd2.jpg with label (if exists)\n",
      "Added 20230920_121147_mp4-22_jpg.rf.8682489f47f3df843d74ef9a9df12fa9.jpg with label (if exists)\n",
      "Added 20230920_121147_mp4-207_jpg.rf.1767fa03e824ffd8be62e91735a263b6.jpg with label (if exists)\n",
      "Added 20230920_114724_mp4-9_jpg.rf.b27ef587241adfa420d32f3db581a330.jpg with label (if exists)\n",
      "Added 20230920_120204_mp4-77_jpg.rf.2d37c27e2308c811798cc0b25cfd5133.jpg with label (if exists)\n",
      "Added 20230920_120539_mp4-30_jpg.rf.7b48d584fa40c735f6c99916ccdbbbfc.jpg with label (if exists)\n",
      "Added 20230920_120521_mp4-5_jpg.rf.5787042a87546e02b706f4e868e94ad3.jpg with label (if exists)\n",
      "Added 20230920_120204_mp4-27_jpg.rf.b391861344ba1229cab79a9a13d6e415.jpg with label (if exists)\n",
      "Added 20230920_114724_mp4-92_jpg.rf.6de816249180c7096d4eb4034c6319bf.jpg with label (if exists)\n",
      "Added 20230920_121147_mp4-227_jpg.rf.70394a90c51770bedbf76cc733fe3bc9.jpg with label (if exists)\n",
      "Added 20230920_120539_mp4-6_jpg.rf.453ca470243f28c529b620552bc0c7cb.jpg with label (if exists)\n",
      "Added 20230920_114724_mp4-16_jpg.rf.53dfa242c11837f5b459339f45d161e8.jpg with label (if exists)\n",
      "Added 20230920_120204_mp4-81_jpg.rf.7974e90181fd47defa2712ca88dd07bc.jpg with label (if exists)\n",
      "Added 20230920_121147_mp4-194_jpg.rf.02a51048abd88002440b53d49f15f39c.jpg with label (if exists)\n",
      "Added 20230920_115751_mp4-11_jpg.rf.372bddc39ddcd2bc30ca3cb4c4ede17b.jpg with label (if exists)\n",
      "Added 20230920_121147_mp4-0_jpg.rf.68458924bb96a8c0eb642e8c811ceb7d.jpg with label (if exists)\n",
      "Added 20230920_115751_mp4-94_jpg.rf.4d15a162adf993b1acee00bcac33c9d6.jpg with label (if exists)\n",
      "Added 20230920_114724_mp4-83_jpg.rf.91d2a14b2ded5e56e7635a9f005eea10.jpg with label (if exists)\n",
      "Added 20230920_120539_mp4-28_jpg.rf.ae092fd39034be630e138fcfdd67a862.jpg with label (if exists)\n",
      "Added 20230920_114724_mp4-95_jpg.rf.8f721d87bb92578ea1267c03b8b2fb70.jpg with label (if exists)\n",
      "Added 20230920_114724_mp4-32_jpg.rf.b6b7523161df23894bfd8744ccf70210.jpg with label (if exists)\n",
      "Added 20230920_120539_mp4-27_jpg.rf.51d467d8508a8799846ccea73b1bcc14.jpg with label (if exists)\n",
      "Added 20230920_121147_mp4-112_jpg.rf.410c5cb1f0de31bc1fc8443920bbc984.jpg with label (if exists)\n",
      "Added 20230920_120204_mp4-55_jpg.rf.fcb174422abe37d5bfafa10f499733b8.jpg with label (if exists)\n",
      "Added 20230920_115751_mp4-44_jpg.rf.8d4bbcf7b6283a7cd7446416374fab54.jpg with label (if exists)\n",
      "Added 20230920_115751_mp4-108_jpg.rf.8771706cb8098b3fac7a516c143ef206.jpg with label (if exists)\n",
      "Added 20230920_115751_mp4-78_jpg.rf.cd218caa83fd8858c017b9fcc2d20d25.jpg with label (if exists)\n",
      "Added 20230920_114724_mp4-4_jpg.rf.eb9c8b9e8edb3e75eaa8253709e98473.jpg with label (if exists)\n",
      "Added 20230920_115751_mp4-14_jpg.rf.5c323bf68f67e2e3907ec669179752ec.jpg with label (if exists)\n",
      "Added 20230920_120204_mp4-17_jpg.rf.da8080a888f509b468905a8f64ea846e.jpg with label (if exists)\n",
      "Added 20230920_121147_mp4-61_jpg.rf.dea3c446b8e574a5a99cf530fb8601e1.jpg with label (if exists)\n",
      "Added 20230920_115751_mp4-77_jpg.rf.e55b7f57e8720f4c08f07af6971ccedc.jpg with label (if exists)\n",
      "Added 20230920_120204_mp4-43_jpg.rf.1ffd3d145e4ceb0dbb0373d6f8739858.jpg with label (if exists)\n",
      "Added 20230920_114724_mp4-56_jpg.rf.562a2a21c2ccfce5a0d2aca0f16a38fc.jpg with label (if exists)\n",
      "Added 20230920_121147_mp4-127_jpg.rf.60d9859363fb0e96bdc07d0898e18f57.jpg with label (if exists)\n",
      "Added 20230920_114724_mp4-35_jpg.rf.98c176b1b8f6041aaffe6d6a40bd2bf3.jpg with label (if exists)\n",
      "Added 20230920_121147_mp4-70_jpg.rf.34eed756e3502fb26c64a0cc3d8f4a43.jpg with label (if exists)\n",
      "Added 20230920_121147_mp4-59_jpg.rf.4f2f4faa0819d27905044a1d549920a2.jpg with label (if exists)\n",
      "Added 20230920_121147_mp4-106_jpg.rf.d48061f317af04d0bbf134c718d691c6.jpg with label (if exists)\n",
      "Added 20230920_121147_mp4-53_jpg.rf.0404e7fbe4ab5fb48c6d4fceea8c2a0f.jpg with label (if exists)\n",
      "Added 20230920_121147_mp4-4_jpg.rf.a0c8662ad89966f451cb85ff9385bc2b.jpg with label (if exists)\n",
      "Added 20230920_121147_mp4-242_jpg.rf.555ba51e4b82b13085a0cb3125a708c7.jpg with label (if exists)\n",
      "Added 20230920_121147_mp4-201_jpg.rf.20336cbbdd5f2d0a5d97b26e4854d5f4.jpg with label (if exists)\n",
      "Added 20230920_115751_mp4-96_jpg.rf.a919d515aa8ce68ef48ce443e35fbda8.jpg with label (if exists)\n",
      "Added 20230920_120204_mp4-19_jpg.rf.a1a649734ddf6d7f8942def15bb2f344.jpg with label (if exists)\n",
      "Added 20230920_114724_mp4-14_jpg.rf.90b32a8f9a538a4974c5bbcd6f84abfb.jpg with label (if exists)\n",
      "Added 20230920_114724_mp4-21_jpg.rf.abc8319609517a81ee810b68f610c321.jpg with label (if exists)\n",
      "Added 20230920_115751_mp4-48_jpg.rf.a495a45b4ff9ed1dfae31a3c2405b9cf.jpg with label (if exists)\n",
      "Added 20230920_121147_mp4-199_jpg.rf.e28afc2a8097126633cb6df8f1bae9e1.jpg with label (if exists)\n",
      "Added 20230920_115751_mp4-85_jpg.rf.feb3b46ffe639512924125d03df69e02.jpg with label (if exists)\n",
      "Added 20230920_121147_mp4-260_jpg.rf.a24fc5226fb314708bff039048308164.jpg with label (if exists)\n",
      "Added 20230920_121147_mp4-196_jpg.rf.0fa0222bead24c1aafccd970a6d6d301.jpg with label (if exists)\n",
      "Added 20230920_121147_mp4-191_jpg.rf.d8e722ee34a762b9abb93aae1f57b3a4.jpg with label (if exists)\n",
      "Added 20230920_121147_mp4-42_jpg.rf.7e232a15bdb15d31281dc2571aeaa2d9.jpg with label (if exists)\n",
      "Added 20230920_120204_mp4-10_jpg.rf.d8f9c10eb49100fa61e5aa5a073ee8d1.jpg with label (if exists)\n",
      "Added 20230920_114724_mp4-50_jpg.rf.1c05e912229265812b38e0710b8fcd51.jpg with label (if exists)\n",
      "Added 20230920_114724_mp4-2_jpg.rf.f588c4e94e8e3eed47639aafdc062b56.jpg with label (if exists)\n",
      "Added 20230920_114724_mp4-85_jpg.rf.2b4658a2a8cef5902357e5c0a1670edb.jpg with label (if exists)\n",
      "Added 20230920_121147_mp4-179_jpg.rf.99ff603ea637fdaf526e609bb48769e9.jpg with label (if exists)\n",
      "Added 20230920_115751_mp4-43_jpg.rf.68cbb7a26535dab5c222071a7e093bce.jpg with label (if exists)\n",
      "Added 20230920_121147_mp4-259_jpg.rf.600b4383afb615f89d43f2df2b2aacbe.jpg with label (if exists)\n",
      "Added 20230920_120204_mp4-30_jpg.rf.125d9acfb058891b15927aba56f57136.jpg with label (if exists)\n",
      "Added 20230920_120204_mp4-66_jpg.rf.73aff11521e85aaf0f32979142580e64.jpg with label (if exists)\n",
      "Added 20230920_115356_mp4-7_jpg.rf.1fadc2bc1bb6dfb0bf13747eb9ee1464.jpg with label (if exists)\n",
      "Added 20230920_120204_mp4-61_jpg.rf.5b7c7e9989afc9f6eee0a400d152b515.jpg with label (if exists)\n",
      "Added 20230920_115356_mp4-11_jpg.rf.59b69f841268af6d1eb65500214e16cc.jpg with label (if exists)\n",
      "Added 20230920_115751_mp4-19_jpg.rf.4249eea5fb5ccfbd6b16e77d7d8448d2.jpg with label (if exists)\n",
      "Added 20230920_115356_mp4-31_jpg.rf.226190911a37dfe3bb4e3510cccd8ba4.jpg with label (if exists)\n",
      "Added 20230920_121147_mp4-54_jpg.rf.afa5bab1ccf71ad1f9c649ffaf357fa7.jpg with label (if exists)\n",
      "Added 20230920_115751_mp4-31_jpg.rf.e25225b188859f1a35eb4194260bb663.jpg with label (if exists)\n",
      "Added 20230920_121147_mp4-165_jpg.rf.fa3540c0d09aa122c082e7e57952bb43.jpg with label (if exists)\n",
      "Added 20230920_114724_mp4-86_jpg.rf.c57ded85f98cfb0a9b3c4d81bcd1a02c.jpg with label (if exists)\n",
      "Added 20230920_115751_mp4-53_jpg.rf.e561ec13f817f32a19786807bfcc9f1e.jpg with label (if exists)\n",
      "Added 20230920_120539_mp4-16_jpg.rf.b54ae9b3eef4af41756e7ea220d0cceb.jpg with label (if exists)\n",
      "Added 20230920_121147_mp4-268_jpg.rf.2c56437f233c9da9003bc4a441a320e8.jpg with label (if exists)\n",
      "Added 20230920_121147_mp4-83_jpg.rf.03242f175a78750b0d27bb9535a6db16.jpg with label (if exists)\n",
      "Added 20230920_121147_mp4-223_jpg.rf.a978d5b08831c359ed80df3f48937e3e.jpg with label (if exists)\n",
      "Added 20230920_120539_mp4-40_jpg.rf.c59350bf4d2f7dafaf8e40c82f35a910.jpg with label (if exists)\n",
      "Added 20230920_115356_mp4-21_jpg.rf.7d0ec93cd6d4541b69b97d00b4b374c2.jpg with label (if exists)\n",
      "Added 20230920_120204_mp4-74_jpg.rf.5d4fca3055e98cf5bd706753a15a9e36.jpg with label (if exists)\n",
      "Added 20230920_114724_mp4-5_jpg.rf.0fd39a11e24d72c5d960a441c52fbac5.jpg with label (if exists)\n",
      "Added 20230920_121147_mp4-164_jpg.rf.dc22c1e9c0fe3fe2c4292399974da6bb.jpg with label (if exists)\n",
      "Added 20230920_114724_mp4-65_jpg.rf.44aedebcb74888b27d31afd1f8a409fb.jpg with label (if exists)\n",
      "Added 20230920_120539_mp4-32_jpg.rf.a68b68af3ee8f73bb19be645e1f6a9f9.jpg with label (if exists)\n",
      "Added 20230920_120204_mp4-8_jpg.rf.a9adb07cc42319a19fbff0d59ac471b1.jpg with label (if exists)\n",
      "Added 20230920_121147_mp4-17_jpg.rf.64c892e0b0fcb1333afafd04ffed3a5a.jpg with label (if exists)\n",
      "Added 20230920_121147_mp4-264_jpg.rf.3f0c9f5289e7190e9b3910f23a80f8c9.jpg with label (if exists)\n",
      "Added 20230920_121147_mp4-139_jpg.rf.26ff0d69f2062022fdd1a7a061536e0b.jpg with label (if exists)\n",
      "Added 20230920_120521_mp4-8_jpg.rf.e6a54f7bd833ef8b3ceaa5e42ffd4bde.jpg with label (if exists)\n",
      "Added 20230920_121147_mp4-8_jpg.rf.aff6998f20b893551e1451389cf079f9.jpg with label (if exists)\n",
      "Added 20230920_121147_mp4-163_jpg.rf.1fc8ca45a32048263fd19c202b977653.jpg with label (if exists)\n",
      "Added 20230920_121147_mp4-172_jpg.rf.a59c1a6de9041d45d4a42d0cfb44124e.jpg with label (if exists)\n",
      "Added 20230920_114724_mp4-78_jpg.rf.35f9ee33d7b009267a7990bd89e1a61d.jpg with label (if exists)\n",
      "Added 20230920_115751_mp4-10_jpg.rf.019e4dc3faf57d7bc42bcfc208bce18f.jpg with label (if exists)\n",
      "Added 20230920_121147_mp4-138_jpg.rf.f725ad0cf7de108775652e8d5d944418.jpg with label (if exists)\n",
      "Added 20230920_121147_mp4-156_jpg.rf.fe59e817dd817d7f1f85faa16b93df14.jpg with label (if exists)\n",
      "Added 20230920_120204_mp4-40_jpg.rf.c1ff936e51dfa996377df70ca55be60f.jpg with label (if exists)\n",
      "Added 20230920_121147_mp4-119_jpg.rf.526b2d85f24177c77485611c47b769e0.jpg with label (if exists)\n",
      "Added 20230920_115356_mp4-28_jpg.rf.1b469731b8e7e4411a7242d61a31236e.jpg with label (if exists)\n",
      "Added 20230920_120204_mp4-29_jpg.rf.2aaa8b8c0c4c96f36391d249d53c0d1c.jpg with label (if exists)\n",
      "Added 20230920_120204_mp4-1_jpg.rf.7055658672eb8c15921680b7e6e68d8f.jpg with label (if exists)\n",
      "Added 20230920_121147_mp4-208_jpg.rf.0d836200e6a4d543b4cb5cf6defa1c7c.jpg with label (if exists)\n",
      "Added 20230920_121147_mp4-131_jpg.rf.de8aa4b657b0ae2f5ec05bdc6eab57e9.jpg with label (if exists)\n",
      "Added 20230920_120539_mp4-21_jpg.rf.d273dfc955bd4676e1e823910e401ba4.jpg with label (if exists)\n",
      "Added 20230920_121147_mp4-57_jpg.rf.11bebd10c68006fb332e35d5e27ee7f8.jpg with label (if exists)\n",
      "Added 20230920_114724_mp4-94_jpg.rf.40396ce031136052cc9ed2960385372d.jpg with label (if exists)\n",
      "Added 20230920_121147_mp4-145_jpg.rf.71326b026c96e60226e457111728aace.jpg with label (if exists)\n",
      "Added 20230920_121147_mp4-99_jpg.rf.56bdd30d361f5aaf2f4f4d6e1d8732a2.jpg with label (if exists)\n",
      "Added 20230920_115751_mp4-59_jpg.rf.0003d6af324c2dd0811dc80fa95144b2.jpg with label (if exists)\n",
      "Added 20230920_120521_mp4-4_jpg.rf.0c7c7d9b8e9ad3e9bb75baf7c44bfd6f.jpg with label (if exists)\n",
      "Added 20230920_120204_mp4-52_jpg.rf.c9be379f2341f4ff3acd91166d99bcf0.jpg with label (if exists)\n",
      "Added 20230920_115751_mp4-64_jpg.rf.f0ce6e9b2fa26d8edf45fcd8dd2e020f.jpg with label (if exists)\n",
      "Added 20230920_115356_mp4-32_jpg.rf.c56e6337bac3fa634bcece08f0a14284.jpg with label (if exists)\n",
      "Added 20230920_121147_mp4-45_jpg.rf.71e300abb8f7d424496b2ae4a2c72eb8.jpg with label (if exists)\n",
      "Added 20230920_114724_mp4-40_jpg.rf.39d9a3c18cffeba4142cffb06e56298b.jpg with label (if exists)\n",
      "Added 20230920_121147_mp4-229_jpg.rf.aacc028799e8185f4ab4eaf81a7a28c9.jpg with label (if exists)\n",
      "Added 20230920_121147_mp4-243_jpg.rf.8ab4d0caebef02c78f79de2ea74bc05c.jpg with label (if exists)\n",
      "Added 20230920_120204_mp4-86_jpg.rf.07a629cc6c45c80935c011be2bfabc07.jpg with label (if exists)\n",
      "Added 20230920_120204_mp4-59_jpg.rf.72a1041541b96a7c5a0456fa4f1d58d4.jpg with label (if exists)\n",
      "Added 20230920_115751_mp4-8_jpg.rf.9427082949278b67d22b5c8cf6f1958d.jpg with label (if exists)\n",
      "Added 20230920_115751_mp4-21_jpg.rf.cf049c4bdbedf606124c1e5110f50500.jpg with label (if exists)\n",
      "Added 20230920_120204_mp4-82_jpg.rf.999e5691cc3d72a121c1d1749a6aef13.jpg with label (if exists)\n",
      "Added 20230920_115751_mp4-110_jpg.rf.35f283b1d91173d04b6832aa20ae89a1.jpg with label (if exists)\n",
      "Added 20230920_120204_mp4-72_jpg.rf.a0f4e7406f2c9f366845b547eb0fa77e.jpg with label (if exists)\n",
      "Added 20230920_115751_mp4-105_jpg.rf.06b4fb6de190bf15f90630ddedd3f2a7.jpg with label (if exists)\n",
      "Added 20230920_120204_mp4-13_jpg.rf.0c93311a4f0304da97d31455b2dc79fd.jpg with label (if exists)\n",
      "Added 20230920_120539_mp4-10_jpg.rf.3da2daa3a45e2679446e944386c5f517.jpg with label (if exists)\n",
      "Added 20230920_115751_mp4-50_jpg.rf.6c985b4ad5cdf9c7725ce947d5d71e6b.jpg with label (if exists)\n",
      "Added 20230920_115356_mp4-30_jpg.rf.19d13b837da123ac1cdb07f3186513b3.jpg with label (if exists)\n",
      "Added 20230920_114724_mp4-80_jpg.rf.b0fd1fae73510d06be240fac040a51c9.jpg with label (if exists)\n",
      "Added 20230920_115751_mp4-80_jpg.rf.f4299498443bd4697bd1fb8f8806af0f.jpg with label (if exists)\n",
      "Added 20230920_121147_mp4-113_jpg.rf.a504cbdf2af9fa672bdeacd1195a28b6.jpg with label (if exists)\n",
      "Added 20230920_121147_mp4-234_jpg.rf.3fa21e349e2eb1b62debcde4a1871299.jpg with label (if exists)\n",
      "Added 20230920_121147_mp4-124_jpg.rf.7e6452ad2d2b3e41d3bab69b97f31588.jpg with label (if exists)\n",
      "Added 20230920_120204_mp4-5_jpg.rf.66bf25b1617224d3636098ecb0056a80.jpg with label (if exists)\n",
      "Added 20230920_121147_mp4-39_jpg.rf.6f92f479ac12def45534386bd688b011.jpg with label (if exists)\n",
      "Added 20230920_115751_mp4-52_jpg.rf.5d7f55f79a37d036b2a201d78f3890c7.jpg with label (if exists)\n",
      "Added 20230920_121147_mp4-213_jpg.rf.b5467f7533fb3962a1f74d7492758d49.jpg with label (if exists)\n",
      "Added 20230920_115751_mp4-25_jpg.rf.680b2c078b231494641e6ae7482928f0.jpg with label (if exists)\n",
      "Added 20230920_114724_mp4-75_jpg.rf.a3d781cd1cc9cc17aef6ba098d70fdad.jpg with label (if exists)\n",
      "Added 20230920_114724_mp4-13_jpg.rf.bb715e6e1f6f9078fc54e42aa1044c49.jpg with label (if exists)\n",
      "Added 20230920_115751_mp4-42_jpg.rf.972e3e2e6663f3a6e70c91a2990d85e0.jpg with label (if exists)\n",
      "Added 20230920_121147_mp4-78_jpg.rf.7a9a486d219ab6b709ec4266848fc2ce.jpg with label (if exists)\n",
      "Added 20230920_121147_mp4-129_jpg.rf.f6b583f41d11e960a5795831b403f473.jpg with label (if exists)\n",
      "Added 20230920_121147_mp4-88_jpg.rf.5f502adec1bc6dc3174bd742fb3f39aa.jpg with label (if exists)\n",
      "Added 20230920_120539_mp4-5_jpg.rf.824bba00d96feeaac775762d0cbf5165.jpg with label (if exists)\n",
      "Added 20230920_121147_mp4-126_jpg.rf.21dea6d1daff4873ab1b895941222686.jpg with label (if exists)\n",
      "Added 20230920_121147_mp4-31_jpg.rf.c25c4b547d9b6b9b6dc2ca9e2bb1fa7e.jpg with label (if exists)\n",
      "Added 20230920_120539_mp4-7_jpg.rf.1ca79249b66b889741c2ccd0b99fba1d.jpg with label (if exists)\n",
      "Added 20230920_121147_mp4-56_jpg.rf.4c3404722da1aee80ba616076dc24873.jpg with label (if exists)\n",
      "Added 20230920_120204_mp4-9_jpg.rf.521ca3d1af2ffd6da6bc76b5de6212eb.jpg with label (if exists)\n",
      "Added 20230920_121147_mp4-68_jpg.rf.42f7e41665bb3ce96dca28bae6a86728.jpg with label (if exists)\n",
      "Added 20230920_121147_mp4-21_jpg.rf.24b185f0d3f2d262ec1e43b5c70ee68a.jpg with label (if exists)\n",
      "Added 20230920_121147_mp4-161_jpg.rf.9df6f618e054f188223a5a5ec88e046d.jpg with label (if exists)\n",
      "Added 20230920_121147_mp4-143_jpg.rf.8942ecd97119c316a3f0a01951576822.jpg with label (if exists)\n",
      "Added 20230920_120539_mp4-39_jpg.rf.8b0e7cd2d5f427d8785ecd5f721b1033.jpg with label (if exists)\n",
      "Added 20230920_114724_mp4-53_jpg.rf.c9dc3b46011106e0d76cb9f04b35e326.jpg with label (if exists)\n",
      "Added 20230920_114724_mp4-31_jpg.rf.0052c10b47c0d8a95a6f88db20bdd9a5.jpg with label (if exists)\n",
      "Added 20230920_120204_mp4-80_jpg.rf.8cd18d1d9e4ff1f96ed8d38a37cebe16.jpg with label (if exists)\n",
      "Added 20230920_114724_mp4-87_jpg.rf.5c409ce5682b201164ff5041b2229654.jpg with label (if exists)\n",
      "Added 20230920_121147_mp4-34_jpg.rf.376e3e764eaaf9beff3409bbe478edcb.jpg with label (if exists)\n",
      "Added 20230920_114724_mp4-36_jpg.rf.4fedc37c03dc61654dbc3b8c606e7ac2.jpg with label (if exists)\n",
      "Added 20230920_121147_mp4-85_jpg.rf.cd87fda3fd1075687c65d3e333726023.jpg with label (if exists)\n",
      "Added 20230920_120539_mp4-36_jpg.rf.1efe8d1a9f159661b6f033db0af7b217.jpg with label (if exists)\n",
      "Added 20230920_120521_mp4-2_jpg.rf.8ce8b96a00b81bb269df0032fd9f78c7.jpg with label (if exists)\n",
      "Added 20230920_121147_mp4-262_jpg.rf.dc4697a164c95213fce55b1fa4a84e6e.jpg with label (if exists)\n",
      "Added 20230920_115356_mp4-29_jpg.rf.be71f277f73274927fdca0545426025b.jpg with label (if exists)\n",
      "Added 20230920_114724_mp4-39_jpg.rf.2c5d1f9dec063adbd738949b131e7a1b.jpg with label (if exists)\n",
      "Added 20230920_120204_mp4-67_jpg.rf.fc10a6b29777caf826a10dd185a61b09.jpg with label (if exists)\n",
      "Added 20230920_121147_mp4-19_jpg.rf.4917fa898bc1142c57c985153dbe9b12.jpg with label (if exists)\n",
      "Added 20230920_115751_mp4-26_jpg.rf.ed3aa06abbbff1789a5ca11156f6f86d.jpg with label (if exists)\n",
      "Added 20230920_120204_mp4-84_jpg.rf.8d2b46214eece19fac81431cc3d4fe98.jpg with label (if exists)\n",
      "Added 20230920_121147_mp4-82_jpg.rf.9de78ceab4e43cbd785efffec51adbc9.jpg with label (if exists)\n",
      "Added 20230920_121147_mp4-133_jpg.rf.aa877cdcd2ee04bc0fc5caebfa752505.jpg with label (if exists)\n",
      "Added 20230920_115356_mp4-13_jpg.rf.34ccd5ede2aa4a756dd0ceb69138ef14.jpg with label (if exists)\n",
      "Added 20230920_121147_mp4-168_jpg.rf.c7eeb9b82c206f6743e03e6d2a9f918a.jpg with label (if exists)\n",
      "Added 20230920_115751_mp4-76_jpg.rf.74c2346c20c2d7261feb47dd3db86171.jpg with label (if exists)\n",
      "Added 20230920_115356_mp4-2_jpg.rf.08c80647aabfece78f3ec2b74033a0f6.jpg with label (if exists)\n",
      "Added 20230920_115751_mp4-87_jpg.rf.ea8b4a0288e19320524032705480c148.jpg with label (if exists)\n",
      "Added 20230920_121147_mp4-38_jpg.rf.f685d9fc6cee884bbfcaba1a8096696b.jpg with label (if exists)\n",
      "Added 20230920_115751_mp4-35_jpg.rf.fd695c2001469827619fe1c531264e2b.jpg with label (if exists)\n",
      "Added 20230920_121147_mp4-159_jpg.rf.53ffb9232761445b9e4204809ddaf7d6.jpg with label (if exists)\n",
      "Added 20230920_120204_mp4-24_jpg.rf.be7a07741a9aeb2b6500651530daefb3.jpg with label (if exists)\n",
      "Added 20230920_115751_mp4-13_jpg.rf.21ec7261fd107317d071339c67d7d190.jpg with label (if exists)\n",
      "Added 20230920_121147_mp4-43_jpg.rf.e41c729c4b9a9bc93fdedcdff68ddb90.jpg with label (if exists)\n",
      "Added 20230920_121147_mp4-9_jpg.rf.299c1715c26fa1ebeac9beb6f86ec7a2.jpg with label (if exists)\n",
      "Added 20230920_120204_mp4-32_jpg.rf.342c6a93c6b73ee57a7a9f487e2d05a3.jpg with label (if exists)\n",
      "Added 20230920_121147_mp4-63_jpg.rf.d908bb88cbc6e5890022317445c884b2.jpg with label (if exists)\n",
      "Added 20230920_114724_mp4-30_jpg.rf.fe0ef60d15bdf34c3a3fb3631c3a40fc.jpg with label (if exists)\n",
      "Added 20230920_121147_mp4-151_jpg.rf.5aafdb30cc022663515954085ebe1804.jpg with label (if exists)\n",
      "Added 20230920_121147_mp4-269_jpg.rf.18be1bf9f3510017255eed685c8ec7b8.jpg with label (if exists)\n",
      "Added 20230920_114724_mp4-99_jpg.rf.500201e9382945a503eedd3c57f7aa36.jpg with label (if exists)\n",
      "Added 20230920_115751_mp4-79_jpg.rf.55e43ef478917bd59e70c20b369e8a07.jpg with label (if exists)\n",
      "Added 20230920_120204_mp4-89_jpg.rf.6bd6be183a809b625c8a7b4b27932b95.jpg with label (if exists)\n",
      "Added 20230920_114724_mp4-63_jpg.rf.69d165cb56bcb05abbf61dc8578bb57e.jpg with label (if exists)\n",
      "Added 20230920_121147_mp4-96_jpg.rf.bbaeeaeb0a729dc35d4009da4af6df38.jpg with label (if exists)\n",
      "Added 20230920_120204_mp4-83_jpg.rf.ff5648eff58e664448a512a8462eb8aa.jpg with label (if exists)\n",
      "Added 20230920_115751_mp4-102_jpg.rf.6c71778fd134bf156eb91e25d115f898.jpg with label (if exists)\n",
      "Added 20230920_120204_mp4-91_jpg.rf.7fdf7e4c93ae94a39f900a01f825a354.jpg with label (if exists)\n",
      "Added 20230920_121147_mp4-197_jpg.rf.64cb557bbcc419729558708928d69888.jpg with label (if exists)\n",
      "Added 20230920_121147_mp4-153_jpg.rf.e69af0ac2006eab2e9abb5f13de0691d.jpg with label (if exists)\n",
      "Added 20230920_121147_mp4-35_jpg.rf.bb80aa48351badac23b683c35c63a100.jpg with label (if exists)\n",
      "Added 20230920_114724_mp4-62_jpg.rf.da6ecaede4c5e5fe3a74cf386650fac8.jpg with label (if exists)\n",
      "Added 20230920_120521_mp4-3_jpg.rf.7d8e3cd615f365c3f6051231734a8944.jpg with label (if exists)\n",
      "Added 20230920_121147_mp4-120_jpg.rf.56b235c4f57ea3e5b27e5ca538a41734.jpg with label (if exists)\n",
      "Added 20230920_115751_mp4-7_jpg.rf.7c69b7f9cbe4a70f9469f0d53930c893.jpg with label (if exists)\n",
      "Added 20230920_120204_mp4-92_jpg.rf.fb2e7ebad9e09a9c9426e7047cd18333.jpg with label (if exists)\n",
      "Added 20230920_114724_mp4-48_jpg.rf.c30fec667bbcecdd2ec48491ef956647.jpg with label (if exists)\n",
      "Added 20230920_121147_mp4-20_jpg.rf.c4b9ed525d31009e59b994dfa6bc0086.jpg with label (if exists)\n",
      "Added 20230920_114724_mp4-8_jpg.rf.c0afc1bc26e698d53659f6da1cb1edd6.jpg with label (if exists)\n",
      "Added 20230920_121147_mp4-12_jpg.rf.5da51442cc5430bf2a83035f807ac9f0.jpg with label (if exists)\n",
      "Added 20230920_121147_mp4-66_jpg.rf.ccc81948d4ab13c776a8a5949184e8bd.jpg with label (if exists)\n",
      "Added 20230920_121147_mp4-48_jpg.rf.71b9cb7e513cdd513147e9b293006d99.jpg with label (if exists)\n",
      "Added 20230920_120521_mp4-16_jpg.rf.f2bcd9e849e17e11295d6c88f3020936.jpg with label (if exists)\n",
      "Added 20230920_120521_mp4-7_jpg.rf.282761dfcc76a175622e6a123365e123.jpg with label (if exists)\n",
      "Added 20230920_121147_mp4-60_jpg.rf.2098ba4c38d2d65e2761065bc3551871.jpg with label (if exists)\n",
      "Added 20230920_115751_mp4-57_jpg.rf.258192f34d7b450f9c4c08a5b9a21cd3.jpg with label (if exists)\n",
      "Added 20230920_120204_mp4-50_jpg.rf.f22fa861cf29aff9e22e03acd5d560ea.jpg with label (if exists)\n",
      "Added 20230920_120204_mp4-68_jpg.rf.4f9ee365e2e152234cd2211cd70742a8.jpg with label (if exists)\n",
      "Added 20230920_114724_mp4-15_jpg.rf.6d8269a25cc7b616709ff6ee83e99143.jpg with label (if exists)\n",
      "Added 20230920_121147_mp4-41_jpg.rf.e1629aad0a0f597dd3c73dad00ad548f.jpg with label (if exists)\n",
      "Added 20230920_120539_mp4-34_jpg.rf.836e4eea44286fb385a6218f97a67aa5.jpg with label (if exists)\n",
      "Added 20230920_120521_mp4-11_jpg.rf.c5f44c001b247df7c5d3cf039c8433bb.jpg with label (if exists)\n",
      "Added 20230920_115751_mp4-68_jpg.rf.0b009f68595fc6f9b7b1510659294ebe.jpg with label (if exists)\n",
      "Added 20230920_120539_mp4-31_jpg.rf.14de5a90b5c0ca186264efe14418706c.jpg with label (if exists)\n",
      "Added 20230920_115751_mp4-23_jpg.rf.326dbe1203a57ede053ed0b3a37e3ece.jpg with label (if exists)\n",
      "Added 20230920_120539_mp4-20_jpg.rf.8f493b636ebd8e740f383f3f06559ba9.jpg with label (if exists)\n",
      "Added 20230920_120204_mp4-21_jpg.rf.85c9e01b20f5adbdc60841f1873f5d7a.jpg with label (if exists)\n",
      "Added 20230920_115356_mp4-10_jpg.rf.e8b9c665581bd9221fd41d93924cb859.jpg with label (if exists)\n",
      "Added 20230920_120204_mp4-38_jpg.rf.762915c73dad5856b25423f124541b3b.jpg with label (if exists)\n",
      "Added 20230920_121147_mp4-167_jpg.rf.e106a3b754c50b233ea1ccce50420264.jpg with label (if exists)\n",
      "Added 20230920_115751_mp4-51_jpg.rf.24160ec35d6a2b5ecad40bd4896bc4f5.jpg with label (if exists)\n",
      "Added 20230920_121147_mp4-33_jpg.rf.12c11f22bffed8243b2d16410be8ee26.jpg with label (if exists)\n",
      "Added 20230920_115751_mp4-49_jpg.rf.e19976951bc3f7ffb4663681ff2464b2.jpg with label (if exists)\n",
      "Added 20230920_114724_mp4-90_jpg.rf.cdc50f1e71c8628885713efec497f585.jpg with label (if exists)\n",
      "Added 20230920_114724_mp4-69_jpg.rf.89ea20e0706e36c21f00972885d00345.jpg with label (if exists)\n",
      "Added 20230920_120539_mp4-0_jpg.rf.305aa25f47bba51a711c2fa220866b0a.jpg with label (if exists)\n",
      "Added 20230920_120539_mp4-12_jpg.rf.710c1c02541d58bc3b36be5a0c001d62.jpg with label (if exists)\n",
      "Added 20230920_120204_mp4-28_jpg.rf.545a41f3eb8f0f5b3fe23e79bed61346.jpg with label (if exists)\n",
      "Added 20230920_120204_mp4-63_jpg.rf.bbcaf69dfc5dcfd57171591bd0350e59.jpg with label (if exists)\n",
      "Added 20230920_120204_mp4-48_jpg.rf.91fb4b1315242942d482d66763474acd.jpg with label (if exists)\n",
      "Added 20230920_115356_mp4-14_jpg.rf.0085bb0a45e7d75bfd3df57dda580888.jpg with label (if exists)\n",
      "Added 20230920_120521_mp4-12_jpg.rf.7383646cde78e3051770016f32861b8d.jpg with label (if exists)\n",
      "Added 20230920_120204_mp4-14_jpg.rf.8478acacc6ec42846673012471e53e1a.jpg with label (if exists)\n",
      "Added 20230920_121147_mp4-206_jpg.rf.d040ab5c2a4a2883195149afcc0db6dc.jpg with label (if exists)\n",
      "Added 20230920_121147_mp4-261_jpg.rf.73816091c519cdcd360d8f55ac65fbd6.jpg with label (if exists)\n",
      "Added 20230920_114724_mp4-60_jpg.rf.3f0d8afd921d858903a4b8b643775f32.jpg with label (if exists)\n",
      "Added 20230920_121147_mp4-176_jpg.rf.6866cfdcb5806d7814bff673346d627c.jpg with label (if exists)\n",
      "Added 20230920_120204_mp4-26_jpg.rf.a5c6d68880e5d1366da9986e7fc9e7ee.jpg with label (if exists)\n",
      "Added 20230920_115751_mp4-39_jpg.rf.1db62fa0d3ae015a643735579d90636a.jpg with label (if exists)\n",
      "Added 20230920_121147_mp4-178_jpg.rf.fd18fa7986f95c4719538a6666b50b73.jpg with label (if exists)\n",
      "Added 20230920_115356_mp4-9_jpg.rf.766500d62f4d9c155727e51bf8d97e37.jpg with label (if exists)\n",
      "Added 20230920_115751_mp4-100_jpg.rf.37a7d7e5f533d611eb615c6ba2ff0810.jpg with label (if exists)\n",
      "Added 20230920_115356_mp4-20_jpg.rf.01aed36ceb49319cb2c412b273ad3f6b.jpg with label (if exists)\n",
      "Added 20230920_120521_mp4-15_jpg.rf.8b54705d37d356bc719d0806f388e5de.jpg with label (if exists)\n",
      "Added 20230920_121147_mp4-28_jpg.rf.9d34b97951c23ac2dcf69abca4ac2f55.jpg with label (if exists)\n",
      "Added 20230920_114724_mp4-84_jpg.rf.5abc61c17593ca19fe4b376f1fa2b9fc.jpg with label (if exists)\n",
      "Added 20230920_120204_mp4-46_jpg.rf.3400c970d65818d3dae595f7e67458b2.jpg with label (if exists)\n",
      "Added 20230920_121147_mp4-210_jpg.rf.3997a0fca068b8b578a248bb00988a5a.jpg with label (if exists)\n",
      "Added 20230920_120539_mp4-37_jpg.rf.aca42dd94bd4f414a6b864528f29153e.jpg with label (if exists)\n",
      "Added 20230920_115751_mp4-36_jpg.rf.40f30a171b909cff658a0271fd7ed909.jpg with label (if exists)\n",
      "Added 20230920_121147_mp4-100_jpg.rf.d41e402be030edeb48abd9f92c04d93f.jpg with label (if exists)\n",
      "Added 20230920_114724_mp4-18_jpg.rf.cfb67e9f1233a8aa57c5877b5a8a4fa2.jpg with label (if exists)\n",
      "Added 20230920_115751_mp4-24_jpg.rf.41dd05bf679f5c0ab5d56341653bca5a.jpg with label (if exists)\n",
      "Added 20230920_121147_mp4-209_jpg.rf.243abcb07c59cf9a9ce45f94cdf8a352.jpg with label (if exists)\n",
      "Added 20230920_120539_mp4-14_jpg.rf.ac075e033d465889a144a3fff8ee2c55.jpg with label (if exists)\n",
      "Added 20230920_121147_mp4-247_jpg.rf.005a503b3937d4d101ba52152ac13ead.jpg with label (if exists)\n",
      "Added 20230920_115751_mp4-90_jpg.rf.1b04185fa247b38ced1f793f290b0eab.jpg with label (if exists)\n",
      "Added 20230920_115751_mp4-41_jpg.rf.289ae30fef1ec61b67d8b48cd5981b6b.jpg with label (if exists)\n",
      "Added 20230920_121147_mp4-94_jpg.rf.aa7f44110a27b9a0f5571df4616b7927.jpg with label (if exists)\n",
      "Added 20230920_115751_mp4-97_jpg.rf.9257d4875dc9db2344a9b59bbd6cb4ca.jpg with label (if exists)\n",
      "Added 20230920_120204_mp4-44_jpg.rf.b331a2656543a1a7ce4c22ae2cc9e258.jpg with label (if exists)\n",
      "Added 20230920_120204_mp4-78_jpg.rf.9a820920f53a6292e672caa56a7bea27.jpg with label (if exists)\n",
      "Added 20230920_114724_mp4-54_jpg.rf.d14c530b4e6fe08f7ce11b1866010079.jpg with label (if exists)\n",
      "Added 20230920_114724_mp4-20_jpg.rf.39c85907c3676709480f96219c08e30e.jpg with label (if exists)\n",
      "Added 20230920_115751_mp4-32_jpg.rf.915ca30a1062f021800d2743902a0cbc.jpg with label (if exists)\n",
      "Added 20230920_114724_mp4-0_jpg.rf.64d3b1120ec8f496350ffbc00071aa9e.jpg with label (if exists)\n",
      "Added 20230920_114724_mp4-59_jpg.rf.abce3abfde21e976d318ff7e1747c897.jpg with label (if exists)\n",
      "Added 20230920_115356_mp4-16_jpg.rf.45809371c22ced73bd845b1989a91e8e.jpg with label (if exists)\n",
      "Added 20230920_115751_mp4-34_jpg.rf.b70724e50de513d9969eb94f5e0cf417.jpg with label (if exists)\n",
      "Added 20230920_120521_mp4-0_jpg.rf.7b2e0b65e5b07034f1e41893b924ed09.jpg with label (if exists)\n",
      "Added 20230920_120204_mp4-88_jpg.rf.4a61867e6586568d733dbd51da9de63c.jpg with label (if exists)\n",
      "Added 20230920_121147_mp4-117_jpg.rf.fb34099840b176f9729fc90674e48371.jpg with label (if exists)\n",
      "Added 20230920_121147_mp4-29_jpg.rf.f3f1376bc7c57df46c4f5855a6d37060.jpg with label (if exists)\n",
      "Added 20230920_121147_mp4-25_jpg.rf.6b080006a3e4cab2c31cadc7c9f99f04.jpg with label (if exists)\n",
      "Added 20230920_120539_mp4-8_jpg.rf.6e10cd9c078beb7a6f2e09706250e25b.jpg with label (if exists)\n",
      "Added 20230920_121147_mp4-111_jpg.rf.1343b768c54b303b7e5ea2ac299530da.jpg with label (if exists)\n",
      "Added 20230920_114724_mp4-38_jpg.rf.5b0c3f797dbb0b9f1df6ed1a5d38d49f.jpg with label (if exists)\n",
      "Added 20230920_121147_mp4-200_jpg.rf.4148b69d2fb2d486d80739f994fb23e4.jpg with label (if exists)\n",
      "Added 20230920_121147_mp4-37_jpg.rf.44ff8bf1ec8d9f81ebd79be307bb81c8.jpg with label (if exists)\n",
      "Added 20230920_120204_mp4-57_jpg.rf.460f9e17aa76b31328d33a8dc4b88f9f.jpg with label (if exists)\n",
      "Added 20230920_115356_mp4-22_jpg.rf.c2a409176b31d174304433027af42af1.jpg with label (if exists)\n",
      "Added 20230920_121147_mp4-5_jpg.rf.66fa256fde9837503dd058c353cb36c9.jpg with label (if exists)\n",
      "Added 20230920_120204_mp4-75_jpg.rf.51a0875158362b260dbc641a968fc845.jpg with label (if exists)\n",
      "Added 20230920_121147_mp4-225_jpg.rf.63f88cd80173e0d23bb31dd64653aeda.jpg with label (if exists)\n",
      "Added 20230920_114724_mp4-6_jpg.rf.9c1775ad92e0f9ce61d95faf0eabed67.jpg with label (if exists)\n",
      "Added 20230920_120204_mp4-31_jpg.rf.2d4df17da5c1d4c9ee2c0ee4f8ec5578.jpg with label (if exists)\n",
      "Added 20230920_121147_mp4-190_jpg.rf.ac4693988996fc1b03576628596db655.jpg with label (if exists)\n",
      "Added 20230920_115751_mp4-2_jpg.rf.a4ce9e9e1ad942e88ba0469ae50ed40b.jpg with label (if exists)\n",
      "Added 20230920_114724_mp4-71_jpg.rf.923f00f6ccbb4602300898f2f8a8f39b.jpg with label (if exists)\n",
      "Added 20230920_115751_mp4-60_jpg.rf.b92991a8374dec7c7ef986e76930139f.jpg with label (if exists)\n",
      "Added 20230920_115751_mp4-83_jpg.rf.900034c8c54ddf241e30f03863524c40.jpg with label (if exists)\n",
      "Added 20230920_120521_mp4-10_jpg.rf.b17ccb90f3ba509f0c01b2799eaf37e0.jpg with label (if exists)\n",
      "Added 20230920_121147_mp4-180_jpg.rf.8c145edf4d0045003c2a25b6a11e4123.jpg with label (if exists)\n",
      "Added 20230920_120204_mp4-60_jpg.rf.aabd5b68ea370be91def2e0a5ddd4991.jpg with label (if exists)\n",
      "Added 20230920_120204_mp4-73_jpg.rf.a1b97fb11b29b3cb5f41519ea3b426a2.jpg with label (if exists)\n",
      "Added 20230920_115751_mp4-62_jpg.rf.baacb91458d9811f6eb9e27bcf47610e.jpg with label (if exists)\n",
      "Added 20230920_115751_mp4-27_jpg.rf.fb167787e65ad79724591005b3687bb2.jpg with label (if exists)\n",
      "Added 20230920_121147_mp4-15_jpg.rf.ef7d3b8dab143178c10a7ca50162c137.jpg with label (if exists)\n",
      "Added 20230920_121147_mp4-132_jpg.rf.23d1c3f9710570831efd4a2bba8d0bee.jpg with label (if exists)\n",
      "Added 20230920_121147_mp4-228_jpg.rf.e7911655ce452003dd2ad236d7121a67.jpg with label (if exists)\n",
      "Added 20230920_115751_mp4-61_jpg.rf.3da2ddc9f4540f68fee4b1c4b378de7f.jpg with label (if exists)\n",
      "Added 20230920_121147_mp4-171_jpg.rf.694c3d4e54829b86a6f8406262d6c943.jpg with label (if exists)\n",
      "Added 20230920_115751_mp4-84_jpg.rf.1507622e2bd03cf60ef514264c1f3cff.jpg with label (if exists)\n",
      "Added 20230920_120539_mp4-19_jpg.rf.d81a5e6a4ebbc0aa057a47150036f267.jpg with label (if exists)\n",
      "Added 20230920_115751_mp4-89_jpg.rf.d5f2172d372bdf94011ec19a0a6be485.jpg with label (if exists)\n",
      "Added 20230920_114724_mp4-66_jpg.rf.47b87e7f23e023b4572a0a0d02122593.jpg with label (if exists)\n",
      "Added 20230920_121147_mp4-52_jpg.rf.92b87ae9c3095333cf63b48cbb3a14e6.jpg with label (if exists)\n",
      "Added 20230920_115751_mp4-99_jpg.rf.bd1bd43013e06176e684e59d9fd63244.jpg with label (if exists)\n",
      "Added 20230920_121147_mp4-218_jpg.rf.13dd4be5fd5df20819db087d45e3ff1f.jpg with label (if exists)\n",
      "Added 20230920_115751_mp4-74_jpg.rf.2d12fdae7cb1e35f7487f4041a4f8fca.jpg with label (if exists)\n",
      "Added 20230920_114724_mp4-82_jpg.rf.0a0f2fd1398fc6fb9ea612978c61802a.jpg with label (if exists)\n",
      "Added 20230920_120204_mp4-25_jpg.rf.fdb0175a04c2a00c59e8009d80ba4efe.jpg with label (if exists)\n",
      "Added 20230920_120539_mp4-35_jpg.rf.c28448decc7839953a2e0f936efcec24.jpg with label (if exists)\n",
      "Added 20230920_114724_mp4-97_jpg.rf.47e62ef1dfecf9547304400cb9f641c4.jpg with label (if exists)\n",
      "Added 20230920_120204_mp4-18_jpg.rf.c2b3902769e80d00e1890676bfb088ee.jpg with label (if exists)\n",
      "Added 20230920_121147_mp4-231_jpg.rf.26e59df8a4958e069eb8da52955556c4.jpg with label (if exists)\n",
      "Added 20230920_121147_mp4-267_jpg.rf.99ef4481f3b79f845cb5cf3f8de7fbe0.jpg with label (if exists)\n",
      "Added 20230920_121147_mp4-211_jpg.rf.76d06b03560c7f74816833518869f862.jpg with label (if exists)\n",
      "Added 20230920_121147_mp4-49_jpg.rf.3ad241bc2cb1a1a9f8dca66fb88764e1.jpg with label (if exists)\n",
      "Added 20230920_121147_mp4-149_jpg.rf.9dbddea8eda68e1af9931f41f1e4acba.jpg with label (if exists)\n",
      "Added 20230920_120539_mp4-2_jpg.rf.87ff722c170bd8f50901b49bee303a30.jpg with label (if exists)\n",
      "Added 20230920_121147_mp4-219_jpg.rf.20d30e742b3e141cae18a45c2536e976.jpg with label (if exists)\n",
      "Added 20230920_120539_mp4-9_jpg.rf.0ef1c6063971838b7207dfeb02db6565.jpg with label (if exists)\n",
      "Added 20230920_121147_mp4-175_jpg.rf.519bd30e752ea6daca0b959ff7e25a15.jpg with label (if exists)\n",
      "Added 20230920_121147_mp4-47_jpg.rf.5b520e912dacb9b084886be6f129a48e.jpg with label (if exists)\n",
      "Added 20230920_121147_mp4-80_jpg.rf.cf6df246eaa03db521938e3572bdf456.jpg with label (if exists)\n",
      "Added 20230920_115751_mp4-15_jpg.rf.8cbb6e5829186edcc9e9628785715edb.jpg with label (if exists)\n",
      "Added 20230920_120204_mp4-7_jpg.rf.e6c4bab287e050886b6ec269f21f583f.jpg with label (if exists)\n",
      "Added 20230920_121147_mp4-103_jpg.rf.dfa1966e3b8364a5964bddb7a09d1d8e.jpg with label (if exists)\n",
      "Added 20230920_121147_mp4-212_jpg.rf.2710491b7d4247c7e4d4d607dffc9858.jpg with label (if exists)\n",
      "Added 20230920_115751_mp4-1_jpg.rf.c9d779a730311150d5bdb28c47aaa565.jpg with label (if exists)\n",
      "Added 20230920_121147_mp4-142_jpg.rf.2d9b483d68c0df12c88bf46e5057f186.jpg with label (if exists)\n",
      "Added 20230920_114724_mp4-3_jpg.rf.262d9a822216bd59597ac86565fb600b.jpg with label (if exists)\n",
      "Added 20230920_115751_mp4-9_jpg.rf.a0a239c4deae735b7271fafef247566b.jpg with label (if exists)\n",
      "Added 20230920_115751_mp4-4_jpg.rf.db2fbca4828f5ca5607928e714f70392.jpg with label (if exists)\n",
      "Added 20230920_121147_mp4-193_jpg.rf.0a5c6d123a87c0ea9109bee52367cbf0.jpg with label (if exists)\n",
      "Added 20230920_114724_mp4-12_jpg.rf.4a70dbef44684a90a282cd9740e1e9b1.jpg with label (if exists)\n",
      "Added 20230920_115751_mp4-12_jpg.rf.130cfb52c8d93a8115bfb417d4c6a05b.jpg with label (if exists)\n",
      "Added 20230920_121147_mp4-192_jpg.rf.49af20bd2cd74c5f96de471eb89a59d1.jpg with label (if exists)\n",
      "Added 20230920_121147_mp4-230_jpg.rf.27cd21b4587e659b5041b18bba9efd1b.jpg with label (if exists)\n",
      "Added 20230920_120521_mp4-13_jpg.rf.0f8d67bfa717c2223a183e61e64b7860.jpg with label (if exists)\n",
      "Added 20230920_115751_mp4-29_jpg.rf.668a62ce86f817757f7f102dc7d634ae.jpg with label (if exists)\n",
      "Added 20230920_121147_mp4-115_jpg.rf.ba47b12c2cfeef3733d3df2e2430046e.jpg with label (if exists)\n",
      "Added 20230920_121147_mp4-160_jpg.rf.2bb57e04321285548b3d3cacdf04302d.jpg with label (if exists)\n",
      "Added 20230920_120539_mp4-26_jpg.rf.c1e07cf7827d12a5d0ef3cb47ede89b0.jpg with label (if exists)\n",
      "Added 20230920_115751_mp4-20_jpg.rf.9e58bdd7f0a1f3432131ef816157c1d8.jpg with label (if exists)\n",
      "Added 20230920_114724_mp4-58_jpg.rf.aedd792925c500ef2e2fa0936af8132e.jpg with label (if exists)\n",
      "Added 20230920_120539_mp4-29_jpg.rf.c01db3f3487f78ecbec91f675bfc3aeb.jpg with label (if exists)\n",
      "Added 20230920_120204_mp4-70_jpg.rf.2a35f57a227215fed0495acc725cb26e.jpg with label (if exists)\n",
      "Added 20230920_121147_mp4-65_jpg.rf.a8361cc04763f05688c27328c3b2bff1.jpg with label (if exists)\n",
      "Added 20230920_114724_mp4-61_jpg.rf.120865afa59903809c6d5ea40f2a7914.jpg with label (if exists)\n",
      "Added 20230920_120539_mp4-3_jpg.rf.e25015e206e8bb4f2050720d50037579.jpg with label (if exists)\n",
      "Added 20230920_120204_mp4-0_jpg.rf.07398a3afb715009944b667d0d1dd381.jpg with label (if exists)\n",
      "Added 20230920_114724_mp4-25_jpg.rf.481a5c7e7d81a067fabf7ed0dcc32568.jpg with label (if exists)\n",
      "Added 20230920_121147_mp4-130_jpg.rf.14ae2a4e41e56f28becdfff8c13f3bbc.jpg with label (if exists)\n",
      "Added 20230920_115356_mp4-23_jpg.rf.7502ecf81de28886fabcc626f8c1e2e2.jpg with label (if exists)\n",
      "Added 20230920_121147_mp4-174_jpg.rf.fa0575711aebc32f0203488956eb0afb.jpg with label (if exists)\n",
      "Added 20230920_120204_mp4-16_jpg.rf.a010fc127f895ee1496a731323fbd16c.jpg with label (if exists)\n",
      "Added 20230920_115751_mp4-72_jpg.rf.e6c6d30ad82d724b8ffee8a151d82e84.jpg with label (if exists)\n",
      "Added 20230920_121147_mp4-166_jpg.rf.3910cf5e0c581564616f485574f65530.jpg with label (if exists)\n",
      "Added 20230920_120521_mp4-6_jpg.rf.8779c09d5fff4016ee4865d3c1b10f23.jpg with label (if exists)\n",
      "Added 20230920_121147_mp4-122_jpg.rf.3dd8f7fd1f2fe7d8bdd21b46590b4ec4.jpg with label (if exists)\n",
      "Added 20230920_115356_mp4-5_jpg.rf.6f6be6624d80733772430557bf24a315.jpg with label (if exists)\n",
      "Added 20230920_115751_mp4-98_jpg.rf.f606b1dfa6fa65e703ad28cd636226c8.jpg with label (if exists)\n",
      "Added 20230920_121147_mp4-125_jpg.rf.148117866074c86482b91323a6247002.jpg with label (if exists)\n",
      "Added 20230920_120521_mp4-1_jpg.rf.eef4183d3b282b3557dd5d9007f80627.jpg with label (if exists)\n",
      "Added 20230920_120204_mp4-37_jpg.rf.3673210c2932e6dda96d7fdccbab16e3.jpg with label (if exists)\n",
      "Added 20230920_120204_mp4-56_jpg.rf.a346cfc463eed3aa8c10cb6501c88608.jpg with label (if exists)\n",
      "Added 20230920_115356_mp4-27_jpg.rf.87405ed7d61378ed588f344c0295f00b.jpg with label (if exists)\n",
      "Added 20230920_121147_mp4-79_jpg.rf.7ebb79a44fe5e3f0a7a63635aad9f2fe.jpg with label (if exists)\n",
      "Added 20230920_114724_mp4-81_jpg.rf.648b3724ee6714b7eb69e2452fa0dff1.jpg with label (if exists)\n",
      "Added 20230920_121147_mp4-148_jpg.rf.ad018f14a14df7f2d6c055a3ddc81371.jpg with label (if exists)\n",
      "Added 20230920_115751_mp4-46_jpg.rf.0a3945d7094da32b7dfa316ad7dbaeb7.jpg with label (if exists)\n",
      "Added 20230920_121147_mp4-253_jpg.rf.a98ef521e7c51cf16065dde182d7d9bc.jpg with label (if exists)\n",
      "Added 20230920_121147_mp4-84_jpg.rf.f76dc006dda947fd6d6704ed783e1687.jpg with label (if exists)\n",
      "Added 20230920_121147_mp4-90_jpg.rf.0a63d2a69314435848e206902a7682c6.jpg with label (if exists)\n",
      "Added 20230920_115751_mp4-28_jpg.rf.49aa2883ad42203550fd48fea824fda9.jpg with label (if exists)\n",
      "Added 20230920_121147_mp4-50_jpg.rf.43c3d6e1ef1ea2c3a2b5956a2f608206.jpg with label (if exists)\n",
      "Added 20230920_120204_mp4-36_jpg.rf.e443d62d54ed2fa2190bba8d20052f93.jpg with label (if exists)\n",
      "Added 20230920_121147_mp4-136_jpg.rf.d4c1f9237ac79e6430bbae76d848d0d1.jpg with label (if exists)\n",
      "Added 20230920_121147_mp4-198_jpg.rf.aeeece4930bbbca4e3656650672cc2a1.jpg with label (if exists)\n",
      "Added 20230920_121147_mp4-254_jpg.rf.aba8189da7483e31e8d9c7fe08c501d0.jpg with label (if exists)\n",
      "Added 20230920_115751_mp4-38_jpg.rf.8d29a166025fd381f3cf03747ed60eda.jpg with label (if exists)\n",
      "Added 20230920_121147_mp4-121_jpg.rf.17c42a2d186c962e825c6ef18679d7a7.jpg with label (if exists)\n",
      "Added 20230920_121147_mp4-26_jpg.rf.5f26c10670dca2527ee2e6612f9a39ad.jpg with label (if exists)\n",
      "Added 20230920_121147_mp4-203_jpg.rf.5f2d22ba4e8181a3b615e60fd38d2ca1.jpg with label (if exists)\n",
      "Added 20230920_114724_mp4-29_jpg.rf.ba787637acd36ace665405487af19b82.jpg with label (if exists)\n",
      "Added 20230920_120521_mp4-9_jpg.rf.40cb3901105b062e2e9cd5b7ee1a323d.jpg with label (if exists)\n",
      "Added 20230920_114724_mp4-1_jpg.rf.a3bdd3f90c88067235ccd12eebc586a2.jpg with label (if exists)\n",
      "Added 20230920_115751_mp4-56_jpg.rf.f36f2e75278ea7e4127e10f3271de685.jpg with label (if exists)\n",
      "Added 20230920_121147_mp4-205_jpg.rf.d50dd1066f90ac6e37b2126bfcf5cb17.jpg with label (if exists)\n",
      "Added 20230920_121147_mp4-187_jpg.rf.b1bab6b8210d86ebcd64ddb2cc8c9981.jpg with label (if exists)\n",
      "Added 20230920_120539_mp4-22_jpg.rf.c4f7d15f10efcc790ca444b02b8b5213.jpg with label (if exists)\n",
      "Added 20230920_120204_mp4-22_jpg.rf.7973565a75b25b69e5b430aeffb4f8e7.jpg with label (if exists)\n",
      "Added 20230920_120539_mp4-24_jpg.rf.079533f3a33fbef59b8dd5cc5f6657ff.jpg with label (if exists)\n",
      "Added 20230920_121147_mp4-189_jpg.rf.f8623b5a219410027c0c7120157fbce2.jpg with label (if exists)\n",
      "Added 20230920_115356_mp4-25_jpg.rf.ee72a821982b15b2d3f628f414ef280a.jpg with label (if exists)\n",
      "Added 20230920_120204_mp4-58_jpg.rf.28290c4f376c2af908b3ef93b70aac9d.jpg with label (if exists)\n",
      "Added 20230920_121147_mp4-75_jpg.rf.57e04283ecdeb9a296764288bc4da238.jpg with label (if exists)\n",
      "Added 20230920_121147_mp4-64_jpg.rf.2d9a587b8cf933dc139ee4cb544fe5bc.jpg with label (if exists)\n",
      "Added 20230920_115751_mp4-58_jpg.rf.bc6ff693f5903986d3ac21e7a95723b4.jpg with label (if exists)\n",
      "Added 20230920_114724_mp4-34_jpg.rf.a3a3bb3c20e40c31b299c016821b470d.jpg with label (if exists)\n",
      "Added 20230920_120204_mp4-45_jpg.rf.4082fc35c19fa5835a7a90bf3e979e23.jpg with label (if exists)\n",
      "Added 20230920_120539_mp4-25_jpg.rf.3b1242e66db52342b78667de2bcba9cd.jpg with label (if exists)\n",
      "Added 20230920_114724_mp4-70_jpg.rf.255719394d947be3cb9ecbfc284d5c98.jpg with label (if exists)\n",
      "Added 20230920_121147_mp4-109_jpg.rf.dcd0f7f6e567e6d278f9b1166b5b82f2.jpg with label (if exists)\n",
      "Added 20230920_121147_mp4-188_jpg.rf.5b875ec5279f608fe42e06b46c8d29c8.jpg with label (if exists)\n",
      "Added 20230920_114724_mp4-57_jpg.rf.29cee1e6933517acb8e508fb8ad270b0.jpg with label (if exists)\n",
      "Added 20230920_120204_mp4-39_jpg.rf.6201e259029979a13355847e9725b161.jpg with label (if exists)\n",
      "Added 20230920_121147_mp4-36_jpg.rf.d20d8f716b4456c891694a90843ce2c0.jpg with label (if exists)\n",
      "Added 20230920_121147_mp4-93_jpg.rf.4c04e6bb8455ed92e3bf9d0edafd0da4.jpg with label (if exists)\n",
      "Added 20230920_121147_mp4-73_jpg.rf.d4ed7595f6785747dcd4c6cd9cf9f909.jpg with label (if exists)\n",
      "Added 20230920_115751_mp4-91_jpg.rf.63bbf0b1cc7fdce573d7e9e9edc7d4da.jpg with label (if exists)\n",
      "Added 20230920_114724_mp4-41_jpg.rf.0a9334bc76f38551db92b88beb43072b.jpg with label (if exists)\n",
      "Added 20230920_120204_mp4-33_jpg.rf.3ebf9f69b07fec9ca1f6c2a099af95b2.jpg with label (if exists)\n",
      "Added 20230920_121147_mp4-186_jpg.rf.96dd33ce18fa46ffdcae3e603768b9b2.jpg with label (if exists)\n",
      "Added 20230920_115751_mp4-16_jpg.rf.b34d0229c58ea1cf77b388a521174ce6.jpg with label (if exists)\n",
      "Added 20230920_120204_mp4-54_jpg.rf.770a559a7eabf102c551e7a0e6a788ec.jpg with label (if exists)\n",
      "Added 20230920_121147_mp4-87_jpg.rf.20874e7461681f143410d6cbb3e0cf26.jpg with label (if exists)\n",
      "Added 20230920_114724_mp4-79_jpg.rf.6d3d2ef69962cb8a8a83bb6f909975f2.jpg with label (if exists)\n",
      "Added 20230920_121147_mp4-51_jpg.rf.c2edd677732948dfef95132cdd0a9216.jpg with label (if exists)\n",
      "Added 20230920_121147_mp4-255_jpg.rf.a8dc83c770ccd6581af9c020398b576e.jpg with label (if exists)\n",
      "Added 20230920_120204_mp4-51_jpg.rf.278255a4082e91166f1ff988f1fd73fb.jpg with label (if exists)\n",
      "Added 20230920_115751_mp4-55_jpg.rf.fde124ec5a191de01b0670c513ab22a7.jpg with label (if exists)\n",
      "Added 20230920_120204_mp4-41_jpg.rf.27e004d25c3cf2fb5385094c001b757f.jpg with label (if exists)\n",
      "Added 20230920_121147_mp4-81_jpg.rf.d1b6d30546109cf2fe6433a265c470e6.jpg with label (if exists)\n",
      "Added 20230920_120204_mp4-76_jpg.rf.6b38b3b2bf97d988e2fb534b9cb89797.jpg with label (if exists)\n",
      "Added 20230920_121147_mp4-62_jpg.rf.a18c03b0875617c124b32304c403e633.jpg with label (if exists)\n",
      "Added 20230920_121147_mp4-266_jpg.rf.b937e9ffb3cc926b3b85a6e6ea9ba2ed.jpg with label (if exists)\n",
      "Added 20230920_121147_mp4-181_jpg.rf.7b2c6032b733474f955f8d5be1b64400.jpg with label (if exists)\n",
      "Added 20230920_120539_mp4-18_jpg.rf.e3607a71e1ab4108271c166a0d16816a.jpg with label (if exists)\n",
      "Added 20230920_121147_mp4-226_jpg.rf.6b0312b8940a773fbfc06e44eedf4a52.jpg with label (if exists)\n",
      "Added 20230920_121147_mp4-239_jpg.rf.2b472584f0311cd0da8903397d74e18b.jpg with label (if exists)\n",
      "Added 20230920_114724_mp4-27_jpg.rf.0c57264e8a0eb2fa9286cc58e083f866.jpg with label (if exists)\n",
      "Added 20230920_121147_mp4-170_jpg.rf.195b8013d7b10656f658c1df83aaa47c.jpg with label (if exists)\n",
      "Added 20230920_120204_mp4-90_jpg.rf.e6560a66589dc8bb1bc56a9ce9284538.jpg with label (if exists)\n",
      "\n",
      "Dataset 'circle-pond-analysis' now has 675 samples\n",
      "\n",
      "Dataset Summary:\n",
      "Name:        circle-pond-analysis\n",
      "Media type:  image\n",
      "Num samples: 675\n",
      "Persistent:  False\n",
      "Tags:        []\n",
      "Sample fields:\n",
      "    id:               fiftyone.core.fields.ObjectIdField\n",
      "    filepath:         fiftyone.core.fields.StringField\n",
      "    tags:             fiftyone.core.fields.ListField(fiftyone.core.fields.StringField)\n",
      "    metadata:         fiftyone.core.fields.EmbeddedDocumentField(fiftyone.core.metadata.ImageMetadata)\n",
      "    created_at:       fiftyone.core.fields.DateTimeField\n",
      "    last_modified_at: fiftyone.core.fields.DateTimeField\n",
      "    ground_truth:     fiftyone.core.fields.EmbeddedDocumentField(fiftyone.core.labels.Detections)\n",
      "\n",
      "Dataset Schema:\n",
      "id: fiftyone.core.fields.ObjectIdField\n",
      "filepath: fiftyone.core.fields.StringField\n",
      "tags: fiftyone.core.fields.ListField(fiftyone.core.fields.StringField)\n",
      "metadata: fiftyone.core.fields.EmbeddedDocumentField(fiftyone.core.metadata.ImageMetadata)\n",
      "created_at: fiftyone.core.fields.DateTimeField\n",
      "last_modified_at: fiftyone.core.fields.DateTimeField\n",
      "ground_truth: fiftyone.core.fields.EmbeddedDocumentField(fiftyone.core.labels.Detections)\n",
      "\n",
      "First Sample Details:\n",
      "<Sample: {\n",
      "    'id': '686eb0299d08750d086c4934',\n",
      "    'media_type': 'image',\n",
      "    'filepath': '/Users/gilbenor/Downloads/circle pond.v20i.yolov8/test/images/20230920_120410_jpg.rf.228c5eec6b39d44ad174701845916268.jpg',\n",
      "    'tags': ['test'],\n",
      "    'metadata': None,\n",
      "    'created_at': datetime.datetime(2025, 7, 9, 18, 8, 41, 822000),\n",
      "    'last_modified_at': datetime.datetime(2025, 7, 9, 18, 8, 41, 822000),\n",
      "    'ground_truth': <Detections: {\n",
      "        'detections': [\n",
      "            <Detection: {\n",
      "                'id': '686eb0299d08750d086c492d',\n",
      "                'attributes': {},\n",
      "                'tags': [],\n",
      "                'label': 'ground_truth',\n",
      "                'bounding_box': [0.4421875, 0.49101562500000007, 0.0921875, 0.08671875],\n",
      "                'mask': None,\n",
      "                'mask_path': None,\n",
      "                'confidence': None,\n",
      "                'index': None,\n",
      "            }>,\n",
      "            <Detection: {\n",
      "                'id': '686eb0299d08750d086c492e',\n",
      "                'attributes': {},\n",
      "                'tags': [],\n",
      "                'label': 'ground_truth',\n",
      "                'bounding_box': [0.044531249999999994, 0.25234375, 0.1296875, 0.1515625],\n",
      "                'mask': None,\n",
      "                'mask_path': None,\n",
      "                'confidence': None,\n",
      "                'index': None,\n",
      "            }>,\n",
      "            <Detection: {\n",
      "                'id': '686eb0299d08750d086c492f',\n",
      "                'attributes': {},\n",
      "                'tags': [],\n",
      "                'label': 'ground_truth',\n",
      "                'bounding_box': [0.8843749999999999, 0.562890625, 0.115625, 0.19140625],\n",
      "                'mask': None,\n",
      "                'mask_path': None,\n",
      "                'confidence': None,\n",
      "                'index': None,\n",
      "            }>,\n",
      "            <Detection: {\n",
      "                'id': '686eb0299d08750d086c4930',\n",
      "                'attributes': {},\n",
      "                'tags': [],\n",
      "                'label': 'ground_truth',\n",
      "                'bounding_box': [0.173828125, 0.8015625, 0.21328125, 0.1671875],\n",
      "                'mask': None,\n",
      "                'mask_path': None,\n",
      "                'confidence': None,\n",
      "                'index': None,\n",
      "            }>,\n",
      "            <Detection: {\n",
      "                'id': '686eb0299d08750d086c4931',\n",
      "                'attributes': {},\n",
      "                'tags': [],\n",
      "                'label': 'ground_truth',\n",
      "                'bounding_box': [0.95625, 0.30625, 0.04375, 0.0703125],\n",
      "                'mask': None,\n",
      "                'mask_path': None,\n",
      "                'confidence': None,\n",
      "                'index': None,\n",
      "            }>,\n",
      "            <Detection: {\n",
      "                'id': '686eb0299d08750d086c4932',\n",
      "                'attributes': {},\n",
      "                'tags': [],\n",
      "                'label': 'ground_truth',\n",
      "                'bounding_box': [0.592578125, 0.859375, 0.12421875, 0.1171875],\n",
      "                'mask': None,\n",
      "                'mask_path': None,\n",
      "                'confidence': None,\n",
      "                'index': None,\n",
      "            }>,\n",
      "            <Detection: {\n",
      "                'id': '686eb0299d08750d086c4933',\n",
      "                'attributes': {},\n",
      "                'tags': [],\n",
      "                'label': 'ground_truth',\n",
      "                'bounding_box': [0.9484375, 0.78828125, 0.0515625, 0.1015625],\n",
      "                'mask': None,\n",
      "                'mask_path': None,\n",
      "                'confidence': None,\n",
      "                'index': None,\n",
      "            }>,\n",
      "        ],\n",
      "        'label_field': 'ground_truth',\n",
      "    }>,\n",
      "}>\n",
      "\n",
      "Ground Truth for First Sample:\n",
      "<Detections: {\n",
      "    'detections': [\n",
      "        <Detection: {\n",
      "            'id': '686eb0299d08750d086c492d',\n",
      "            'attributes': {},\n",
      "            'tags': [],\n",
      "            'label': 'ground_truth',\n",
      "            'bounding_box': [0.4421875, 0.49101562500000007, 0.0921875, 0.08671875],\n",
      "            'mask': None,\n",
      "            'mask_path': None,\n",
      "            'confidence': None,\n",
      "            'index': None,\n",
      "        }>,\n",
      "        <Detection: {\n",
      "            'id': '686eb0299d08750d086c492e',\n",
      "            'attributes': {},\n",
      "            'tags': [],\n",
      "            'label': 'ground_truth',\n",
      "            'bounding_box': [0.044531249999999994, 0.25234375, 0.1296875, 0.1515625],\n",
      "            'mask': None,\n",
      "            'mask_path': None,\n",
      "            'confidence': None,\n",
      "            'index': None,\n",
      "        }>,\n",
      "        <Detection: {\n",
      "            'id': '686eb0299d08750d086c492f',\n",
      "            'attributes': {},\n",
      "            'tags': [],\n",
      "            'label': 'ground_truth',\n",
      "            'bounding_box': [0.8843749999999999, 0.562890625, 0.115625, 0.19140625],\n",
      "            'mask': None,\n",
      "            'mask_path': None,\n",
      "            'confidence': None,\n",
      "            'index': None,\n",
      "        }>,\n",
      "        <Detection: {\n",
      "            'id': '686eb0299d08750d086c4930',\n",
      "            'attributes': {},\n",
      "            'tags': [],\n",
      "            'label': 'ground_truth',\n",
      "            'bounding_box': [0.173828125, 0.8015625, 0.21328125, 0.1671875],\n",
      "            'mask': None,\n",
      "            'mask_path': None,\n",
      "            'confidence': None,\n",
      "            'index': None,\n",
      "        }>,\n",
      "        <Detection: {\n",
      "            'id': '686eb0299d08750d086c4931',\n",
      "            'attributes': {},\n",
      "            'tags': [],\n",
      "            'label': 'ground_truth',\n",
      "            'bounding_box': [0.95625, 0.30625, 0.04375, 0.0703125],\n",
      "            'mask': None,\n",
      "            'mask_path': None,\n",
      "            'confidence': None,\n",
      "            'index': None,\n",
      "        }>,\n",
      "        <Detection: {\n",
      "            'id': '686eb0299d08750d086c4932',\n",
      "            'attributes': {},\n",
      "            'tags': [],\n",
      "            'label': 'ground_truth',\n",
      "            'bounding_box': [0.592578125, 0.859375, 0.12421875, 0.1171875],\n",
      "            'mask': None,\n",
      "            'mask_path': None,\n",
      "            'confidence': None,\n",
      "            'index': None,\n",
      "        }>,\n",
      "        <Detection: {\n",
      "            'id': '686eb0299d08750d086c4933',\n",
      "            'attributes': {},\n",
      "            'tags': [],\n",
      "            'label': 'ground_truth',\n",
      "            'bounding_box': [0.9484375, 0.78828125, 0.0515625, 0.1015625],\n",
      "            'mask': None,\n",
      "            'mask_path': None,\n",
      "            'confidence': None,\n",
      "            'index': None,\n",
      "        }>,\n",
      "    ],\n",
      "    'label_field': 'ground_truth',\n",
      "}>\n"
     ]
    }
   ],
   "source": [
    "import fiftyone as fo\n",
    "import os\n",
    "import glob\n",
    "\n",
    "# Set the dataset name\n",
    "name = \"circle-pond-analysis\"\n",
    "\n",
    "# Set the dataset directory\n",
    "dataset_dir = r\"/Users/gilbenor/Downloads/circle pond.v20i.yolov8\"\n",
    "\n",
    "# The splits to load\n",
    "splits = [\"test\", \"valid\",\"train\"]\n",
    "\n",
    "\n",
    "dataset = fo.Dataset(name,overwrite=True)\n",
    "print(f\"Created new dataset '{name}'\")\n",
    "\n",
    "\n",
    "#print dataset dir\n",
    "print(len(os.listdir(\"/Users/gilbenor/Downloads/circle pond.v20i.yolov8/test\")))\n",
    "\n",
    "def read_yolo_label(label_path):\n",
    "    with open(label_path, 'r') as file:\n",
    "        lines = file.readlines()\n",
    "    detections = []\n",
    "    for line in lines:\n",
    "        class_id, x_center, y_center, width, height = map(float, line.strip().split())\n",
    "        detections.append(\n",
    "            fo.Detection(\n",
    "                label='ground_truth' , # Convert class_id to string\n",
    "                bounding_box=[x_center - width/2, y_center - height/2, width, height]\n",
    "            )\n",
    "        )\n",
    "    return detections\n",
    "\n",
    "for split in splits:\n",
    "    split_dir = os.path.join(dataset_dir, split)\n",
    "    images_dir = os.path.join(split_dir, \"images\")\n",
    "    labels_dir = os.path.join(split_dir, \"labels\")\n",
    "    \n",
    "    # Add images and labels\n",
    "    for image_path in glob.glob(os.path.join(images_dir, \"*\")):\n",
    "        image_name = os.path.basename(image_path)\n",
    "        label_name = os.path.splitext(image_name)[0] + \".txt\"\n",
    "        label_path = os.path.join(labels_dir, label_name)\n",
    "        \n",
    "        sample = fo.Sample(filepath=image_path)\n",
    "        sample.tags.append(split)\n",
    "\n",
    "        if os.path.exists(label_path):\n",
    "            detections = read_yolo_label(label_path)\n",
    "            sample[\"ground_truth\"] = fo.Detections(detections=detections,label_field=\"ground_truth\")\n",
    "           \n",
    "        #add sample to dataset\n",
    "        dataset.add_sample(sample)\n",
    "        print(f\"Added {image_name} with label (if exists)\")\n",
    "\n",
    "print(f\"\\nDataset '{name}' now has {len(dataset)} samples\")\n",
    "\n",
    "# Print detailed information about the dataset\n",
    "print(\"\\nDataset Summary:\")\n",
    "print(dataset.summary())\n",
    "\n",
    "# Print schema of the dataset\n",
    "print(\"\\nDataset Schema:\")\n",
    "for field_name, field_type in dataset.get_field_schema().items():\n",
    "    print(f\"{field_name}: {field_type}\")\n",
    "\n",
    "# If you want to examine a specific sample\n",
    "if len(dataset) > 0:\n",
    "    sample = dataset.first()\n",
    "    print(\"\\nFirst Sample Details:\")\n",
    "    print(sample)\n",
    "\n",
    "    if \"ground_truth\" in sample:\n",
    "        print(\"\\nGround Truth for First Sample:\")\n",
    "        print(sample.ground_truth)\n",
    "    else:\n",
    "        print(\"\\nWarning: 'ground_truth' field not found in the first sample\")\n",
    "else:\n",
    "    print(\"\\nWarning: Dataset is empty\")\n",
    "\n",
    "# Optionally, you can visualize the dataset\n",
    "# session = fo.launch_app(dataset)\n",
    "# session.wait()\n"
   ]
  },
  {
   "cell_type": "markdown",
   "metadata": {},
   "source": [
    "# tag each sample for test, valid train #"
   ]
  },
  {
   "cell_type": "code",
   "execution_count": 4,
   "metadata": {},
   "outputs": [
    {
     "name": "stdout",
     "output_type": "stream",
     "text": [
      "Average number of detections for split test: 7.10\n",
      "Standard deviation of detections for split test: 4.32\n",
      "Average number of detections for split val: 2.51\n",
      "Standard deviation of detections for split val: 2.37\n",
      "Number of samples in split test: 79\n",
      "Number of samples in split val: 102\n",
      "Number of samples in split train: 494\n",
      "Average number of detections for split train: 4.29\n",
      "Standard deviation of detections for split train: 3.24\n",
      "\n",
      "Detection Count Statistics:\n",
      "min detection counts that are not 0: 1\n",
      "Min detections per image: 0\n",
      "Max detections per image: 20\n",
      "Average detections per image: 4.35\n",
      "Total number of detections: 2938\n",
      "Standard deviation of detections per image: 3.48\n",
      "Average number of detections for tag test: nan\n",
      "Standard deviation of detections for tag test: nan\n",
      "Average number of detections for tag train: nan\n",
      "Standard deviation of detections for tag train: nan\n",
      "Average number of detections for tag valid: nan\n",
      "Standard deviation of detections for tag valid: nan\n"
     ]
    }
   ],
   "source": [
    "# Print detection count statistics per image\n",
    "\n",
    "import numpy as np\n",
    "import warnings\n",
    "warnings.filterwarnings(\"ignore\", category=RuntimeWarning, \n",
    "                       module=\"numpy.core\")\n",
    "\n",
    "from fiftyone import ViewField as F\n",
    "#for each split, print the avg number of detections and std\n",
    "splits = [\"test\", \"valid\",\"train\"]\n",
    "\n",
    "splits_test=[]\n",
    "splits_val=[]\n",
    "splits_train=[]\n",
    "\n",
    "for sample in dataset:\n",
    "    if \"test\" in sample.tags:\n",
    "        splits_test.append(sample)\n",
    "    elif \"valid\" in sample.tags:\n",
    "        splits_val.append(sample)\n",
    "    elif \"train\" in sample.tags:\n",
    "        splits_train.append(sample)\n",
    "\n",
    "print(f\"Average number of detections for split test: {np.mean([len(sample.ground_truth.detections) for sample in splits_test]):.2f}\")\n",
    "print(f\"Standard deviation of detections for split test: {np.std([len(sample.ground_truth.detections) for sample in splits_test]):.2f}\")\n",
    "\n",
    "print(f\"Average number of detections for split val: {np.mean([len(sample.ground_truth.detections) for sample in splits_val]):.2f}\")\n",
    "print(f\"Standard deviation of detections for split val: {np.std([len(sample.ground_truth.detections) for sample in splits_val]):.2f}\")\n",
    "\n",
    "\n",
    "#number of samples in each split\n",
    "print(f\"Number of samples in split test: {len(splits_test)}\")\n",
    "print(f\"Number of samples in split val: {len(splits_val)}\")\n",
    "print(f\"Number of samples in split train: {len(splits_train)}\")\n",
    "\n",
    "print(f\"Average number of detections for split train: {np.mean([len(sample.ground_truth.detections) for sample in splits_train]):.2f}\")\n",
    "print(f\"Standard deviation of detections for split train: {np.std([len(sample.ground_truth.detections) for sample in splits_train]):.2f}\")\n",
    "\n",
    "\n",
    "print(\"\\nDetection Count Statistics:\")\n",
    "detection_counts = []\n",
    "for sample in dataset:\n",
    "    if \"ground_truth\" in sample:\n",
    "        count = len(sample.ground_truth.detections)\n",
    "        detection_counts.append(count)\n",
    "\n",
    "if detection_counts:\n",
    "    print(f'min detection counts that are not 0: {min([count for count in detection_counts if count != 0])}')\n",
    "    print(f\"Min detections per image: {min(detection_counts)}\")\n",
    "    print(f\"Max detections per image: {max(detection_counts)}\")\n",
    "    print(f\"Average detections per image: {sum(detection_counts)/len(detection_counts):.2f}\")\n",
    "    #std\n",
    "    #total number of detections\n",
    "    print(f\"Total number of detections: {sum(detection_counts)}\")\n",
    "    print(f\"Standard deviation of detections per image: {np.std(detection_counts):.2f}\")\n",
    "else:\n",
    "    print(\"No detection counts found in dataset\")\n",
    "\n",
    "\n",
    "#for each tag, print the avg number of detections and std\n",
    "for tag in dataset.distinct(\"tags\"):\n",
    "    print(f\"Average number of detections for tag {tag}: {np.mean([len(sample.ground_truth.detections) for sample in dataset.filter_labels('ground_truth', F('tags') == tag)]):.2f}\")\n",
    "    print(f\"Standard deviation of detections for tag {tag}: {np.std([len(sample.ground_truth.detections) for sample in dataset.filter_labels('ground_truth', F('tags') == tag)]):.2f}\")\n",
    "    "
   ]
  },
  {
   "cell_type": "markdown",
   "metadata": {},
   "source": [
    " # Launch app #"
   ]
  },
  {
   "cell_type": "code",
   "execution_count": 5,
   "metadata": {},
   "outputs": [
    {
     "name": "stdout",
     "output_type": "stream",
     "text": [
      "Session launched. Run `session.show()` to open the App in a cell output.\n"
     ]
    },
    {
     "data": {
      "text/html": [
       "\n",
       "        <iframe\n",
       "            width=\"100%\"\n",
       "            height=\"800\"\n",
       "            src=\"http://localhost:5160/?notebook=True&subscription=9f55a6d4-32f4-4026-8284-0e2aa4be15f4\"\n",
       "            frameborder=\"0\"\n",
       "            allowfullscreen\n",
       "            \n",
       "        ></iframe>\n",
       "        "
      ],
      "text/plain": [
       "<IPython.lib.display.IFrame at 0x33cb58dc0>"
      ]
     },
     "metadata": {},
     "output_type": "display_data"
    }
   ],
   "source": [
    "import fiftyone as fo\n",
    "\n",
    "dataset = fo.load_dataset(\"circle-pond-analysis\")\n",
    "\n",
    "\n",
    "session = fo.launch_app(dataset, port=5160, auto=False)\n",
    "session.show()"
   ]
  },
  {
   "cell_type": "markdown",
   "metadata": {},
   "source": [
    "\n",
    "\n",
    "->\n",
    "\n",
    "# Model Evaluation on Test Set\n",
    "\n",
    "This code applies the RT-DETR model to the test split of the dataset and evaluates its performance against ground truth detections.\n",
    "\n",
    "**What it does:**\n",
    "- Filters the dataset to get only samples tagged with \"test\"\n",
    "- Applies the RT-DETR model to generate predictions with confidence threshold 0.3\n",
    "- Evaluates the model performance using IoU threshold of 0.5\n",
    "- Compares predicted detections against ground truth detections\n",
    "\n",
    "**Key correction:** We use `match_tags(\"test\")` to filter samples by their tags, not `filter_labels()` which filters individual detections."
   ]
  },
  {
   "cell_type": "code",
   "execution_count": 6,
   "metadata": {},
   "outputs": [
    {
     "name": "stdout",
     "output_type": "stream",
     "text": [
      "Number of samples in test set: 79\n",
      " 100% |███████████████████| 79/79 [39.4s elapsed, 0s remaining, 2.1 samples/s]      \n",
      "Evaluating detections...\n",
      " 100% |███████████████████| 79/79 [973.3ms elapsed, 0s remaining, 81.2 samples/s]      \n",
      "Evaluation results:\n",
      "None\n"
     ]
    }
   ],
   "source": [
    "import fiftyone as fo\n",
    "import fiftyone.utils.eval as foue\n",
    "from ultralytics import RTDETR\n",
    "from fiftyone import ViewField as F\n",
    "from fiftyone.core.odm.dataset import SidebarGroupDocument\n",
    "\n",
    "# Load the model\n",
    "model = RTDETR(r\"/Users/gilbenor/Library/CloudStorage/OneDrive-Personal/measurement_paper_images/detection drone/runs-detections-drone-14.08/detect/train/weights/best.pt\")\n",
    "\n",
    "# CORRECT WAY: Filter samples (not labels) by tags\n",
    "test_set_view = dataset.match_tags(\"test\")\n",
    "\n",
    "results = None\n",
    "print(f\"Number of samples in test set: {len(test_set_view)}\")\n",
    "\n",
    "# Check if we have any samples\n",
    "if len(test_set_view) == 0:\n",
    "    print(\"No test samples found! Available tags:\")\n",
    "    print(dataset.distinct(\"tags\"))\n",
    "else:\n",
    "    # Apply the model to the filtered test set\n",
    "    test_set_view.apply_model(model, label_field=\"prawn\", confidence_thresh=0.3)\n",
    "    \n",
    "    # Evaluate the model's performance - using a simpler approach to avoid sidebar validation error\n",
    "    try:\n",
    "        foue.evaluate_detections(\n",
    "        test_set_view,\n",
    "        pred_field=\"prawn\",\n",
    "        gt_field=\"ground_truth\",\n",
    "        eval_key=\"eval\",\n",
    "        iou=0.1,         # lower threshold to accept slight misalignments\n",
    "        classwise=False  # don’t require identical labels\n",
    "    )\n",
    "\n",
    "        print(\"Evaluation results:\")\n",
    "        print(results)\n",
    "        \n",
    "    except Exception as e:\n",
    "        print(f\"FiftyOne evaluation failed: {e}\")\n",
    "        print(\"Using manual evaluation instead...\")\n",
    "        \n",
    "        # Manual evaluation as fallback\n",
    "        results = None\n",
    "        print(\"Applied model predictions successfully. Use manual evaluation in next cell.\")"
   ]
  },
  {
   "cell_type": "markdown",
   "metadata": {},
   "source": [
    "# export dataset"
   ]
  },
  {
   "cell_type": "code",
   "execution_count": 7,
   "metadata": {},
   "outputs": [
    {
     "name": "stdout",
     "output_type": "stream",
     "text": [
      "Exporting samples...\n",
      " 100% |████████████████████| 675/675 [461.7ms elapsed, 0s remaining, 1.5K docs/s]       \n"
     ]
    }
   ],
   "source": [
    "\n",
    "dataset.export(\n",
    "        export_dir=f\"/Users/gilbenor/Documents/code_projects/msc/counting_research_algorithms/fiftyone_datasets/drone_detection\",\n",
    "        dataset_type=fo.types.FiftyOneDataset,\n",
    "        export_media=True\n",
    "    )"
   ]
  },
  {
   "cell_type": "markdown",
   "metadata": {},
   "source": [
    "\n",
    "\n",
    "->\n",
    "\n",
    "# Manual Detection Evaluation System\n",
    "\n",
    "This code implements a custom evaluation system for object detection results, specifically designed to handle prawn detection scenarios. The system addresses a bug where True Positives (TP) were incorrectly calculated when equal to 0.\n",
    "\n",
    "## Key Components\n",
    "\n",
    "### 1. IoU Calculator (`calculate_iou`)\n",
    "\n",
    "This function:\n",
    "- Takes two bounding boxes in normalized coordinates (0-1)\n",
    "- Format: `[x_center, y_center, width, height]`\n",
    "- Converts center-format to corner-format coordinates\n",
    "- Calculates intersection and union areas\n",
    "- Returns IoU value between 0 and 1\n",
    "\n",
    "Key features:\n",
    "- Handles edge cases (no intersection, zero union)\n",
    "- Includes coordinate format conversion\n",
    "- Uses normalized coordinates for consistency\n",
    "\n",
    "### 2. Detection Evaluator (`manual_evaluate_detections`)\n",
    "\n",
    "This function:\n",
    "- Processes FiftyOne dataset samples\n",
    "- Compares ground truth vs predicted detections\n",
    "- Uses IoU threshold (default: 0.1) for matching\n",
    "- Returns dictionary with:\n",
    "  - True Positives (TP)\n",
    "  - False Positives (FP)\n",
    "  - False Negatives (FN)\n",
    "\n",
    "Key steps:\n",
    "1. Extracts ground truth and prediction boxes\n",
    "2. Converts coordinates to center format\n",
    "3. Implements matching using a greedy approach\n",
    "4. Counts unmatched predictions as FP\n",
    "5. Counts unmatched ground truth as FN\n",
    "\n",
    "## Notable Implementation Details\n",
    "\n",
    "1. **Coordinate Handling**:\n",
    "   - Converts from corner to center format\n",
    "   - Maintains consistency across calculations\n",
    "\n",
    "2. **Matching Algorithm**:\n",
    "   - Uses a greedy approach\n",
    "   - Tracks matched boxes using boolean arrays\n",
    "   - Prevents double-matching of ground truth boxes\n",
    "\n",
    "3. **Error Prevention**:\n",
    "   - Handles invalid box configurations\n",
    "   - Returns 0 for non-overlapping boxes\n",
    "\n",
    "## Usage Notes\n",
    "\n",
    "- IoU threshold is configurable (default: 0.1)\n",
    "- Handles FiftyOne dataset format\n",
    "- Supports normalized coordinates\n",
    "- Includes validation for edge cases\n",
    "- Provides clear success/failure indicators in output"
   ]
  },
  {
   "cell_type": "code",
   "execution_count": 27,
   "metadata": {},
   "outputs": [
    {
     "name": "stdout",
     "output_type": "stream",
     "text": [
      "✅ Manual evaluation functions created!\n",
      "   - calculate_iou(): Computes IoU between two bounding boxes\n",
      "   - manual_evaluate_detections(): Evaluates TP/FP/FN for a sample\n",
      "   - Uses IoU threshold of 0.5 by default\n",
      "   - Handles center vs corner coordinate conversion\n",
      "\n",
      "🔧 Testing manual evaluation on first test sample:\n",
      "   TP: 7, FP: 2, FN: 0\n",
      "   (Compare this to old broken evaluation: 0, 9, 7)\n"
     ]
    }
   ],
   "source": [
    "# Manual Evaluation Functions - Bug Fix for TP=0 Issue\n",
    "\n",
    "def calculate_iou(box1, box2):\n",
    "    \"\"\"\n",
    "    Calculate Intersection over Union (IoU) between two bounding boxes.\n",
    "    \n",
    "    Args:\n",
    "        box1, box2: [x_center, y_center, width, height] in normalized coordinates (0-1)\n",
    "    \n",
    "    Returns:\n",
    "        IoU value between 0 and 1\n",
    "    \"\"\"\n",
    "    # Convert from center format to corner format\n",
    "    def center_to_corners(box):\n",
    "        x_center, y_center, width, height = box\n",
    "        x1 = x_center - width / 2\n",
    "        y1 = y_center - height / 2\n",
    "        x2 = x_center + width / 2\n",
    "        y2 = y_center + height / 2\n",
    "        return [x1, y1, x2, y2]\n",
    "    \n",
    "    box1_corners = center_to_corners(box1)\n",
    "    box2_corners = center_to_corners(box2)\n",
    "    \n",
    "    # Calculate intersection\n",
    "    x1 = max(box1_corners[0], box2_corners[0])\n",
    "    y1 = max(box1_corners[1], box2_corners[1])\n",
    "    x2 = min(box1_corners[2], box2_corners[2])\n",
    "    y2 = min(box1_corners[3], box2_corners[3])\n",
    "    \n",
    "    if x2 <= x1 or y2 <= y1:\n",
    "        return 0.0\n",
    "    \n",
    "    intersection = (x2 - x1) * (y2 - y1)\n",
    "    \n",
    "    # Calculate union\n",
    "    area1 = box1[2] * box1[3]  # width * height\n",
    "    area2 = box2[2] * box2[3]  # width * height\n",
    "    union = area1 + area2 - intersection\n",
    "    \n",
    "    if union <= 0:\n",
    "        return 0.0\n",
    "    \n",
    "    return intersection / union\n",
    "\n",
    "def manual_evaluate_detections(sample, iou_threshold=0.1):\n",
    "    \"\"\"\n",
    "    Manually evaluate detections for a single sample.\n",
    "    \n",
    "    Args:\n",
    "        sample: FiftyOne sample with 'ground_truth' and 'prawn' fields\n",
    "        iou_threshold: IoU threshold for considering a detection as TP\n",
    "    \n",
    "    Returns:\n",
    "        dict with 'tp', 'fp', 'fn' counts\n",
    "    \"\"\"\n",
    "    # Get ground truth and predictions\n",
    "    gt_detections = sample.ground_truth.detections if sample.ground_truth else []\n",
    "    pred_detections = sample.prawn.detections if sample.prawn else []\n",
    "    \n",
    "    # Extract bounding boxes\n",
    "    gt_boxes = []\n",
    "    for det in gt_detections:\n",
    "        # det.bounding_box is [x, y, width, height] where x,y is top-left corner\n",
    "        # Convert to center format: [x_center, y_center, width, height]\n",
    "        x, y, w, h = det.bounding_box\n",
    "        x_center = x + w/2\n",
    "        y_center = y + h/2\n",
    "        gt_boxes.append([x_center, y_center, w, h])\n",
    "    \n",
    "    pred_boxes = []\n",
    "    for det in pred_detections:\n",
    "        x, y, w, h = det.bounding_box\n",
    "        x_center = x + w/2\n",
    "        y_center = y + h/2\n",
    "        pred_boxes.append([x_center, y_center, w, h])\n",
    "    \n",
    "    # Match predictions to ground truth using Hungarian algorithm (greedy approach)\n",
    "    gt_matched = [False] * len(gt_boxes)\n",
    "    pred_matched = [False] * len(pred_boxes)\n",
    "    \n",
    "    tp = 0\n",
    "    \n",
    "    # For each prediction, find the best matching ground truth\n",
    "    for pred_idx, pred_box in enumerate(pred_boxes):\n",
    "        best_iou = 0\n",
    "        best_gt_idx = -1\n",
    "        \n",
    "        for gt_idx, gt_box in enumerate(gt_boxes):\n",
    "            if gt_matched[gt_idx]:  # Already matched\n",
    "                continue\n",
    "                \n",
    "            iou = calculate_iou(pred_box, gt_box)\n",
    "            if iou > best_iou:\n",
    "                best_iou = iou\n",
    "                best_gt_idx = gt_idx\n",
    "        \n",
    "        # If best IoU is above threshold, it's a match\n",
    "        if best_iou >= iou_threshold and best_gt_idx != -1:\n",
    "            tp += 1\n",
    "            gt_matched[best_gt_idx] = True\n",
    "            pred_matched[pred_idx] = True\n",
    "    \n",
    "    # Count unmatched predictions as FP and unmatched ground truth as FN\n",
    "    fp = sum(1 for matched in pred_matched if not matched)\n",
    "    fn = sum(1 for matched in gt_matched if not matched)\n",
    "    \n",
    "    return {\n",
    "        'tp': tp,\n",
    "        'fp': fp, \n",
    "        'fn': fn,\n",
    "        \n",
    "    }\n",
    "\n",
    "print(\"✅ Manual evaluation functions created!\")\n",
    "print(\"   - calculate_iou(): Computes IoU between two bounding boxes\")\n",
    "print(\"   - manual_evaluate_detections(): Evaluates TP/FP/FN for a sample\")\n",
    "print(\"   - Uses IoU threshold of 0.5 by default\")\n",
    "print(\"   - Handles center vs corner coordinate conversion\")\n",
    "\n",
    "# Test the manual evaluation on a sample\n",
    "test_sample = dataset.match_tags(\"test\").first()\n",
    "if test_sample:\n",
    "    eval_results = manual_evaluate_detections(test_sample, iou_threshold=0.1)\n",
    "    print(f\"\\n🔧 Testing manual evaluation on first test sample:\")\n",
    "    print(f\"   TP: {eval_results['tp']}, FP: {eval_results['fp']}, FN: {eval_results['fn']}\")\n",
    "    print(f\"   (Compare this to old broken evaluation: {test_sample['eval_tp']}, {test_sample['eval_fp']}, {test_sample['eval_fn']})\")\n",
    "else:\n",
    "    print(\"\\n⚠️  No test samples found\")"
   ]
  },
  {
   "cell_type": "markdown",
   "metadata": {},
   "source": [
    "\n",
    "\n",
    "->\n",
    "\n",
    "# Interactive Detection Performance Analysis\n",
    "\n",
    "This code creates an interactive Plotly visualization showing TP/FP/FN breakdown per image with MAE overlay. \n",
    "\n",
    "**Features:**\n",
    "- Stacked bars showing True Positives, False Positives, and False Negatives per image\n",
    "- MAE line overlay to show counting errors\n",
    "- Interactive hover showing image details (filename, counts, MAE)\n",
    "- Sortable by MAE, FP, or FN to identify problematic cases\n",
    "- Reveals that images with same MAE can have very different error patterns\n",
    "\n",
    "**How to interpret:**\n",
    "- **Bar height** = total detection activity per image\n",
    "- **Green** = correctly detected objects (TP)\n",
    "- **Red** = incorrect detections (FP) \n",
    "- **Orange** = missed objects (FN)\n",
    "- **Blue line** = counting error magnitude (MAE)\n",
    "- **Hover** to see image filename and exact counts"
   ]
  },
  {
   "cell_type": "code",
   "execution_count": 28,
   "metadata": {},
   "outputs": [
    {
     "name": "stdout",
     "output_type": "stream",
     "text": [
      "🔧 Using manual evaluation to fix TP=0 bug...\n",
      "📊 Processing test samples with proper IoU calculation...\n",
      "7 2 0                                                                        \n",
      "4 2 0\n",
      "10 1 0\n",
      "0 0 0\n",
      "5 1 0\n",
      "6 2 0\n",
      "7 2 1\n",
      "5 1 0\n",
      "9 0 0\n",
      "10 3 3\n",
      "1 2 0\n",
      "11 1 4\n",
      "7 1 1\n",
      "9 0 0\n",
      "3 1 0\n",
      "8 2 1\n",
      "4 0 0\n",
      "2 0 0\n",
      "3 0 0\n",
      "13 0 1\n",
      "10 0 0\n",
      "2 0 3\n",
      "5 3 0\n",
      "4 3 0\n",
      "2 5 2\n",
      "7 1 0\n",
      "1 0 1\n",
      "7 1 1\n",
      "1 1 0\n",
      "9 2 3\n",
      "5 1 0\n",
      "4 0 2\n",
      "3 0 0\n",
      "10 2 0\n",
      "6 1 0\n",
      "9 0 2\n",
      "4 1 0\n",
      "2 2 0\n",
      "2 1 0\n",
      "10 1 0\n",
      "13 1 0\n",
      "4 0 0\n",
      "5 3 0\n",
      "5 1 0\n",
      "11 0 2\n",
      "6 0 0                                                                                  \n",
      "12 0 7\n",
      "9 1 4\n",
      "7 0 1\n",
      "14 1 0\n",
      "2 2 0\n",
      "12 2 8\n",
      "12 1 3\n",
      "3 0 0\n",
      "8 2 0\n",
      "4 0 0\n",
      "2 2 0\n",
      "9 3 0\n",
      "5 2 2\n",
      "5 1 0\n",
      "15 1 1\n",
      "4 0 0\n",
      "11 0 4\n",
      "4 0 0\n",
      "2 1 0\n",
      "7 3 1\n",
      "4 1 0\n",
      "3 1 0\n",
      "4 1 0\n",
      "8 0 0\n",
      "9 2 1\n",
      "6 2 0\n",
      "8 0 0\n",
      "8 0 1\n",
      "4 0 0\n",
      "9 0 1\n",
      "6 3 1\n",
      "5 2 0\n",
      "7 2 0\n",
      " 100% |███████████████████| 79/79 [189.6ms elapsed, 0s remaining, 416.6 samples/s]     \n",
      "✅ Number of records collected: 79\n",
      "🎯 Total TP across all images: 499\n",
      "❌ Total FP across all images: 87\n",
      "⚠️  Total FN across all images: 62\n",
      "🎉 SUCCESS: Fixed TP=0 bug! Now have 499 true positives\n"
     ]
    }
   ],
   "source": [
    "# Fixed Manual Evaluation - Bug Fix for TP=0 Issue\n",
    "\n",
    "records = []\n",
    "test_set_view = dataset.match_tags(\"test\")\n",
    "\n",
    "print(\"🔧 Using manual evaluation to fix TP=0 bug...\")\n",
    "print(\"📊 Processing test samples with proper IoU calculation...\")\n",
    "\n",
    "for sample in test_set_view.iter_samples(progress=True):\n",
    "    # Use our manual evaluation function instead of broken FiftyOne evaluation\n",
    "    eval_results = manual_evaluate_detections(sample, iou_threshold=0.1)\n",
    "    \n",
    "    tp = eval_results['tp']\n",
    "    fp = eval_results['fp'] \n",
    "    fn = eval_results['fn']\n",
    "\n",
    "    print(tp, fp, fn)\n",
    "    gt = tp + fn\n",
    "    pred = tp + fp\n",
    "    mae = abs(pred - gt)\n",
    "\n",
    "    records.append({\n",
    "        \"image_id\": sample.filepath.split(\"/\")[-1],\n",
    "        \"filepath\": sample.filepath.split(\"/\")[-1],\n",
    "        \"TP\": tp,\n",
    "        \"FP\": fp,\n",
    "        \"FN\": fn,\n",
    "        \"GT\": gt,\n",
    "        \"Pred\": pred,\n",
    "        \"MAE\": mae\n",
    "    })\n",
    "\n",
    "print(f\"✅ Number of records collected: {len(records)}\")\n",
    "print(f\"🎯 Total TP across all images: {sum(r['TP'] for r in records)}\")\n",
    "print(f\"❌ Total FP across all images: {sum(r['FP'] for r in records)}\")  \n",
    "print(f\"⚠️  Total FN across all images: {sum(r['FN'] for r in records)}\")\n",
    "\n",
    "# Quick verification that we fixed the TP=0 bug\n",
    "tp_count = sum(r['TP'] for r in records)\n",
    "if tp_count > 0:\n",
    "    print(f\"🎉 SUCCESS: Fixed TP=0 bug! Now have {tp_count} true positives\")\n",
    "else:\n",
    "    print(\"⚠️  Still have TP=0 issue - may need to adjust IoU threshold or check coordinate format\")\n"
   ]
  },
  {
   "cell_type": "code",
   "execution_count": 29,
   "metadata": {},
   "outputs": [
    {
     "name": "stdout",
     "output_type": "stream",
     "text": [
      " 100% |█████████████████| 675/675 [788.3ms elapsed, 0s remaining, 856.3 samples/s]      \n"
     ]
    },
    {
     "data": {
      "application/vnd.plotly.v1+json": {
       "config": {
        "plotlyServerURL": "https://plot.ly"
       },
       "data": [
        {
         "customdata": [
          [
           "121217",
           7
          ],
          [
           "121411",
           6
          ],
          [
           "121331",
           4
          ],
          [
           "121220",
           3
          ],
          [
           "120355",
           3
          ],
          [
           "120723",
           3
          ],
          [
           "120718",
           3
          ],
          [
           "121238",
           3
          ],
          [
           "121350",
           3
          ],
          [
           "120348",
           3
          ],
          [
           "121434",
           3
          ],
          [
           "120410",
           2
          ],
          [
           "121447",
           2
          ],
          [
           "121437",
           2
          ],
          [
           "115202",
           2
          ],
          [
           "115951",
           2
          ],
          [
           "115323",
           2
          ],
          [
           "121011",
           2
          ],
          [
           "121254",
           2
          ],
          [
           "120435",
           2
          ],
          [
           "120343",
           2
          ],
          [
           "121404",
           2
          ],
          [
           "120821",
           2
          ],
          [
           "115022",
           2
          ],
          [
           "120819",
           2
          ],
          [
           "121559",
           2
          ],
          [
           "120430",
           2
          ],
          [
           "115946",
           2
          ],
          [
           "120814",
           2
          ],
          [
           "115259",
           1
          ],
          [
           "120359",
           1
          ],
          [
           "115121",
           1
          ],
          [
           "120145",
           1
          ],
          [
           "121043",
           1
          ],
          [
           "121453",
           1
          ],
          [
           "121318",
           1
          ],
          [
           "120730",
           1
          ],
          [
           "121259",
           1
          ],
          [
           "121204",
           1
          ],
          [
           "115310",
           1
          ],
          [
           "120425",
           1
          ],
          [
           "121053",
           1
          ],
          [
           "120414",
           1
          ],
          [
           "120659",
           1
          ],
          [
           "121615",
           1
          ],
          [
           "121322",
           1
          ],
          [
           "120443",
           1
          ],
          [
           "121250",
           1
          ],
          [
           "120439",
           1
          ],
          [
           "121340",
           1
          ],
          [
           "115302",
           1
          ],
          [
           "115215",
           1
          ],
          [
           "121523",
           1
          ],
          [
           "120921",
           1
          ],
          [
           "120008",
           1
          ],
          [
           "121334",
           1
          ],
          [
           "121050",
           1
          ],
          [
           "120406",
           0
          ],
          [
           "115255",
           0
          ],
          [
           "115139",
           0
          ],
          [
           "121416",
           0
          ],
          [
           "120705",
           0
          ],
          [
           "120421",
           0
          ],
          [
           "120401",
           0
          ],
          [
           "121227",
           0
          ],
          [
           "121152",
           0
          ],
          [
           "115213",
           0
          ],
          [
           "115221",
           0
          ],
          [
           "121213",
           0
          ],
          [
           "115133",
           0
          ],
          [
           "120417",
           0
          ],
          [
           "120824",
           0
          ],
          [
           "120154",
           0
          ],
          [
           "115243",
           0
          ],
          [
           "121325",
           0
          ],
          [
           "115314",
           0
          ],
          [
           "121603",
           0
          ],
          [
           "115308",
           0
          ],
          [
           "120200",
           0
          ]
         ],
         "hovertemplate": "<b>%{customdata[0]}</b><br>True Positives: %{y}<br>MAE: %{customdata[1]:.3f}<extra></extra>",
         "marker": {
          "color": "green"
         },
         "name": "True Positives",
         "text": [
          12,
          12,
          11,
          2,
          4,
          5,
          2,
          9,
          11,
          5,
          9,
          7,
          11,
          9,
          2,
          4,
          2,
          4,
          12,
          8,
          2,
          7,
          6,
          6,
          5,
          10,
          7,
          1,
          6,
          10,
          5,
          3,
          4,
          1,
          9,
          14,
          7,
          3,
          8,
          5,
          7,
          5,
          8,
          5,
          13,
          9,
          2,
          13,
          4,
          2,
          6,
          7,
          10,
          1,
          5,
          9,
          4,
          8,
          8,
          4,
          0,
          4,
          7,
          4,
          15,
          5,
          9,
          4,
          10,
          7,
          9,
          6,
          4,
          2,
          4,
          3,
          10,
          3,
          3
         ],
         "type": "bar",
         "x": [
          0,
          1,
          2,
          3,
          4,
          5,
          6,
          7,
          8,
          9,
          10,
          11,
          12,
          13,
          14,
          15,
          16,
          17,
          18,
          19,
          20,
          21,
          22,
          23,
          24,
          25,
          26,
          27,
          28,
          29,
          30,
          31,
          32,
          33,
          34,
          35,
          36,
          37,
          38,
          39,
          40,
          41,
          42,
          43,
          44,
          45,
          46,
          47,
          48,
          49,
          50,
          51,
          52,
          53,
          54,
          55,
          56,
          57,
          58,
          59,
          60,
          61,
          62,
          63,
          64,
          65,
          66,
          67,
          68,
          69,
          70,
          71,
          72,
          73,
          74,
          75,
          76,
          77,
          78
         ],
         "y": [
          12,
          12,
          11,
          2,
          4,
          5,
          2,
          9,
          11,
          5,
          9,
          7,
          11,
          9,
          2,
          4,
          2,
          4,
          12,
          8,
          2,
          7,
          6,
          6,
          5,
          10,
          7,
          1,
          6,
          10,
          5,
          3,
          4,
          1,
          9,
          14,
          7,
          3,
          8,
          5,
          7,
          5,
          8,
          5,
          13,
          9,
          2,
          13,
          4,
          2,
          6,
          7,
          10,
          1,
          5,
          9,
          4,
          8,
          8,
          4,
          0,
          4,
          7,
          4,
          15,
          5,
          9,
          4,
          10,
          7,
          9,
          6,
          4,
          2,
          4,
          3,
          10,
          3,
          3
         ],
         "yaxis": "y"
        },
        {
         "base": [
          12,
          12,
          11,
          2,
          4,
          5,
          2,
          9,
          11,
          5,
          9,
          7,
          11,
          9,
          2,
          4,
          2,
          4,
          12,
          8,
          2,
          7,
          6,
          6,
          5,
          10,
          7,
          1,
          6,
          10,
          5,
          3,
          4,
          1,
          9,
          14,
          7,
          3,
          8,
          5,
          7,
          5,
          8,
          5,
          13,
          9,
          2,
          13,
          4,
          2,
          6,
          7,
          10,
          1,
          5,
          9,
          4,
          8,
          8,
          4,
          0,
          4,
          7,
          4,
          15,
          5,
          9,
          4,
          10,
          7,
          9,
          6,
          4,
          2,
          4,
          3,
          10,
          3,
          3
         ],
         "customdata": [
          [
           "121217",
           7
          ],
          [
           "121411",
           6
          ],
          [
           "121331",
           4
          ],
          [
           "121220",
           3
          ],
          [
           "120355",
           3
          ],
          [
           "120723",
           3
          ],
          [
           "120718",
           3
          ],
          [
           "121238",
           3
          ],
          [
           "121350",
           3
          ],
          [
           "120348",
           3
          ],
          [
           "121434",
           3
          ],
          [
           "120410",
           2
          ],
          [
           "121447",
           2
          ],
          [
           "121437",
           2
          ],
          [
           "115202",
           2
          ],
          [
           "115951",
           2
          ],
          [
           "115323",
           2
          ],
          [
           "121011",
           2
          ],
          [
           "121254",
           2
          ],
          [
           "120435",
           2
          ],
          [
           "120343",
           2
          ],
          [
           "121404",
           2
          ],
          [
           "120821",
           2
          ],
          [
           "115022",
           2
          ],
          [
           "120819",
           2
          ],
          [
           "121559",
           2
          ],
          [
           "120430",
           2
          ],
          [
           "115946",
           2
          ],
          [
           "120814",
           2
          ],
          [
           "115259",
           1
          ],
          [
           "120359",
           1
          ],
          [
           "115121",
           1
          ],
          [
           "120145",
           1
          ],
          [
           "121043",
           1
          ],
          [
           "121453",
           1
          ],
          [
           "121318",
           1
          ],
          [
           "120730",
           1
          ],
          [
           "121259",
           1
          ],
          [
           "121204",
           1
          ],
          [
           "115310",
           1
          ],
          [
           "120425",
           1
          ],
          [
           "121053",
           1
          ],
          [
           "120414",
           1
          ],
          [
           "120659",
           1
          ],
          [
           "121615",
           1
          ],
          [
           "121322",
           1
          ],
          [
           "120443",
           1
          ],
          [
           "121250",
           1
          ],
          [
           "120439",
           1
          ],
          [
           "121340",
           1
          ],
          [
           "115302",
           1
          ],
          [
           "115215",
           1
          ],
          [
           "121523",
           1
          ],
          [
           "120921",
           1
          ],
          [
           "120008",
           1
          ],
          [
           "121334",
           1
          ],
          [
           "121050",
           1
          ],
          [
           "120406",
           0
          ],
          [
           "115255",
           0
          ],
          [
           "115139",
           0
          ],
          [
           "121416",
           0
          ],
          [
           "120705",
           0
          ],
          [
           "120421",
           0
          ],
          [
           "120401",
           0
          ],
          [
           "121227",
           0
          ],
          [
           "121152",
           0
          ],
          [
           "115213",
           0
          ],
          [
           "115221",
           0
          ],
          [
           "121213",
           0
          ],
          [
           "115133",
           0
          ],
          [
           "120417",
           0
          ],
          [
           "120824",
           0
          ],
          [
           "120154",
           0
          ],
          [
           "115243",
           0
          ],
          [
           "121325",
           0
          ],
          [
           "115314",
           0
          ],
          [
           "121603",
           0
          ],
          [
           "115308",
           0
          ],
          [
           "120200",
           0
          ]
         ],
         "hovertemplate": "<b>%{customdata[0]}</b><br>False Positives: %{text}<br>MAE: %{customdata[1]:.3f}<extra></extra>",
         "marker": {
          "color": "orange"
         },
         "name": "False Positives",
         "text": [
          0,
          2,
          0,
          5,
          3,
          3,
          0,
          3,
          1,
          3,
          1,
          2,
          0,
          0,
          2,
          2,
          2,
          0,
          1,
          2,
          2,
          3,
          2,
          3,
          2,
          2,
          2,
          2,
          2,
          1,
          1,
          1,
          1,
          1,
          2,
          1,
          0,
          1,
          2,
          1,
          2,
          1,
          0,
          1,
          1,
          0,
          1,
          0,
          1,
          1,
          1,
          1,
          1,
          0,
          1,
          2,
          1,
          0,
          0,
          0,
          0,
          0,
          1,
          0,
          1,
          2,
          0,
          0,
          3,
          1,
          0,
          0,
          0,
          0,
          0,
          0,
          0,
          0,
          0
         ],
         "type": "bar",
         "x": [
          0,
          1,
          2,
          3,
          4,
          5,
          6,
          7,
          8,
          9,
          10,
          11,
          12,
          13,
          14,
          15,
          16,
          17,
          18,
          19,
          20,
          21,
          22,
          23,
          24,
          25,
          26,
          27,
          28,
          29,
          30,
          31,
          32,
          33,
          34,
          35,
          36,
          37,
          38,
          39,
          40,
          41,
          42,
          43,
          44,
          45,
          46,
          47,
          48,
          49,
          50,
          51,
          52,
          53,
          54,
          55,
          56,
          57,
          58,
          59,
          60,
          61,
          62,
          63,
          64,
          65,
          66,
          67,
          68,
          69,
          70,
          71,
          72,
          73,
          74,
          75,
          76,
          77,
          78
         ],
         "y": [
          0,
          2,
          0,
          5,
          3,
          3,
          0,
          3,
          1,
          3,
          1,
          2,
          0,
          0,
          2,
          2,
          2,
          0,
          1,
          2,
          2,
          3,
          2,
          3,
          2,
          2,
          2,
          2,
          2,
          1,
          1,
          1,
          1,
          1,
          2,
          1,
          0,
          1,
          2,
          1,
          2,
          1,
          0,
          1,
          1,
          0,
          1,
          0,
          1,
          1,
          1,
          1,
          1,
          0,
          1,
          2,
          1,
          0,
          0,
          0,
          0,
          0,
          1,
          0,
          1,
          2,
          0,
          0,
          3,
          1,
          0,
          0,
          0,
          0,
          0,
          0,
          0,
          0,
          0
         ]
        },
        {
         "customdata": [
          "121217",
          "121411",
          "121331",
          "121220",
          "120355",
          "120723",
          "120718",
          "121238",
          "121350",
          "120348",
          "121434",
          "120410",
          "121447",
          "121437",
          "115202",
          "115951",
          "115323",
          "121011",
          "121254",
          "120435",
          "120343",
          "121404",
          "120821",
          "115022",
          "120819",
          "121559",
          "120430",
          "115946",
          "120814",
          "115259",
          "120359",
          "115121",
          "120145",
          "121043",
          "121453",
          "121318",
          "120730",
          "121259",
          "121204",
          "115310",
          "120425",
          "121053",
          "120414",
          "120659",
          "121615",
          "121322",
          "120443",
          "121250",
          "120439",
          "121340",
          "115302",
          "115215",
          "121523",
          "120921",
          "120008",
          "121334",
          "121050",
          "120406",
          "115255",
          "115139",
          "121416",
          "120705",
          "120421",
          "120401",
          "121227",
          "121152",
          "115213",
          "115221",
          "121213",
          "115133",
          "120417",
          "120824",
          "120154",
          "115243",
          "121325",
          "115314",
          "121603",
          "115308",
          "120200"
         ],
         "hovertemplate": "<b>%{customdata}</b><br>False Negatives: %{text}<extra></extra>",
         "marker": {
          "color": "red"
         },
         "name": "False Negatives",
         "text": [
          7,
          8,
          4,
          2,
          0,
          0,
          3,
          0,
          4,
          0,
          4,
          0,
          2,
          2,
          0,
          0,
          0,
          2,
          3,
          0,
          0,
          1,
          0,
          1,
          0,
          0,
          0,
          0,
          0,
          0,
          0,
          0,
          0,
          0,
          1,
          0,
          1,
          0,
          1,
          0,
          1,
          0,
          1,
          0,
          0,
          1,
          0,
          1,
          0,
          0,
          0,
          0,
          0,
          1,
          0,
          3,
          0,
          0,
          0,
          0,
          0,
          0,
          1,
          0,
          1,
          2,
          0,
          0,
          3,
          1,
          0,
          0,
          0,
          0,
          0,
          0,
          0,
          0,
          0
         ],
         "type": "bar",
         "x": [
          0,
          1,
          2,
          3,
          4,
          5,
          6,
          7,
          8,
          9,
          10,
          11,
          12,
          13,
          14,
          15,
          16,
          17,
          18,
          19,
          20,
          21,
          22,
          23,
          24,
          25,
          26,
          27,
          28,
          29,
          30,
          31,
          32,
          33,
          34,
          35,
          36,
          37,
          38,
          39,
          40,
          41,
          42,
          43,
          44,
          45,
          46,
          47,
          48,
          49,
          50,
          51,
          52,
          53,
          54,
          55,
          56,
          57,
          58,
          59,
          60,
          61,
          62,
          63,
          64,
          65,
          66,
          67,
          68,
          69,
          70,
          71,
          72,
          73,
          74,
          75,
          76,
          77,
          78
         ],
         "y": [
          -7,
          -8,
          -4,
          -2,
          0,
          0,
          -3,
          0,
          -4,
          0,
          -4,
          0,
          -2,
          -2,
          0,
          0,
          0,
          -2,
          -3,
          0,
          0,
          -1,
          0,
          -1,
          0,
          0,
          0,
          0,
          0,
          0,
          0,
          0,
          0,
          0,
          -1,
          0,
          -1,
          0,
          -1,
          0,
          -1,
          0,
          -1,
          0,
          0,
          -1,
          0,
          -1,
          0,
          0,
          0,
          0,
          0,
          -1,
          0,
          -3,
          0,
          0,
          0,
          0,
          0,
          0,
          -1,
          0,
          -1,
          -2,
          0,
          0,
          -3,
          -1,
          0,
          0,
          0,
          0,
          0,
          0,
          0,
          0,
          0
         ]
        }
       ],
       "layout": {
        "barmode": "relative",
        "height": 600,
        "hovermode": "closest",
        "legend": {
         "x": 1.05,
         "y": 1
        },
        "plot_bgcolor": "white",
        "template": {
         "data": {
          "bar": [
           {
            "error_x": {
             "color": "#2a3f5f"
            },
            "error_y": {
             "color": "#2a3f5f"
            },
            "marker": {
             "line": {
              "color": "#E5ECF6",
              "width": 0.5
             },
             "pattern": {
              "fillmode": "overlay",
              "size": 10,
              "solidity": 0.2
             }
            },
            "type": "bar"
           }
          ],
          "barpolar": [
           {
            "marker": {
             "line": {
              "color": "#E5ECF6",
              "width": 0.5
             },
             "pattern": {
              "fillmode": "overlay",
              "size": 10,
              "solidity": 0.2
             }
            },
            "type": "barpolar"
           }
          ],
          "carpet": [
           {
            "aaxis": {
             "endlinecolor": "#2a3f5f",
             "gridcolor": "white",
             "linecolor": "white",
             "minorgridcolor": "white",
             "startlinecolor": "#2a3f5f"
            },
            "baxis": {
             "endlinecolor": "#2a3f5f",
             "gridcolor": "white",
             "linecolor": "white",
             "minorgridcolor": "white",
             "startlinecolor": "#2a3f5f"
            },
            "type": "carpet"
           }
          ],
          "choropleth": [
           {
            "colorbar": {
             "outlinewidth": 0,
             "ticks": ""
            },
            "type": "choropleth"
           }
          ],
          "contour": [
           {
            "colorbar": {
             "outlinewidth": 0,
             "ticks": ""
            },
            "colorscale": [
             [
              0,
              "#0d0887"
             ],
             [
              0.1111111111111111,
              "#46039f"
             ],
             [
              0.2222222222222222,
              "#7201a8"
             ],
             [
              0.3333333333333333,
              "#9c179e"
             ],
             [
              0.4444444444444444,
              "#bd3786"
             ],
             [
              0.5555555555555556,
              "#d8576b"
             ],
             [
              0.6666666666666666,
              "#ed7953"
             ],
             [
              0.7777777777777778,
              "#fb9f3a"
             ],
             [
              0.8888888888888888,
              "#fdca26"
             ],
             [
              1,
              "#f0f921"
             ]
            ],
            "type": "contour"
           }
          ],
          "contourcarpet": [
           {
            "colorbar": {
             "outlinewidth": 0,
             "ticks": ""
            },
            "type": "contourcarpet"
           }
          ],
          "heatmap": [
           {
            "colorbar": {
             "outlinewidth": 0,
             "ticks": ""
            },
            "colorscale": [
             [
              0,
              "#0d0887"
             ],
             [
              0.1111111111111111,
              "#46039f"
             ],
             [
              0.2222222222222222,
              "#7201a8"
             ],
             [
              0.3333333333333333,
              "#9c179e"
             ],
             [
              0.4444444444444444,
              "#bd3786"
             ],
             [
              0.5555555555555556,
              "#d8576b"
             ],
             [
              0.6666666666666666,
              "#ed7953"
             ],
             [
              0.7777777777777778,
              "#fb9f3a"
             ],
             [
              0.8888888888888888,
              "#fdca26"
             ],
             [
              1,
              "#f0f921"
             ]
            ],
            "type": "heatmap"
           }
          ],
          "heatmapgl": [
           {
            "colorbar": {
             "outlinewidth": 0,
             "ticks": ""
            },
            "colorscale": [
             [
              0,
              "#0d0887"
             ],
             [
              0.1111111111111111,
              "#46039f"
             ],
             [
              0.2222222222222222,
              "#7201a8"
             ],
             [
              0.3333333333333333,
              "#9c179e"
             ],
             [
              0.4444444444444444,
              "#bd3786"
             ],
             [
              0.5555555555555556,
              "#d8576b"
             ],
             [
              0.6666666666666666,
              "#ed7953"
             ],
             [
              0.7777777777777778,
              "#fb9f3a"
             ],
             [
              0.8888888888888888,
              "#fdca26"
             ],
             [
              1,
              "#f0f921"
             ]
            ],
            "type": "heatmapgl"
           }
          ],
          "histogram": [
           {
            "marker": {
             "pattern": {
              "fillmode": "overlay",
              "size": 10,
              "solidity": 0.2
             }
            },
            "type": "histogram"
           }
          ],
          "histogram2d": [
           {
            "colorbar": {
             "outlinewidth": 0,
             "ticks": ""
            },
            "colorscale": [
             [
              0,
              "#0d0887"
             ],
             [
              0.1111111111111111,
              "#46039f"
             ],
             [
              0.2222222222222222,
              "#7201a8"
             ],
             [
              0.3333333333333333,
              "#9c179e"
             ],
             [
              0.4444444444444444,
              "#bd3786"
             ],
             [
              0.5555555555555556,
              "#d8576b"
             ],
             [
              0.6666666666666666,
              "#ed7953"
             ],
             [
              0.7777777777777778,
              "#fb9f3a"
             ],
             [
              0.8888888888888888,
              "#fdca26"
             ],
             [
              1,
              "#f0f921"
             ]
            ],
            "type": "histogram2d"
           }
          ],
          "histogram2dcontour": [
           {
            "colorbar": {
             "outlinewidth": 0,
             "ticks": ""
            },
            "colorscale": [
             [
              0,
              "#0d0887"
             ],
             [
              0.1111111111111111,
              "#46039f"
             ],
             [
              0.2222222222222222,
              "#7201a8"
             ],
             [
              0.3333333333333333,
              "#9c179e"
             ],
             [
              0.4444444444444444,
              "#bd3786"
             ],
             [
              0.5555555555555556,
              "#d8576b"
             ],
             [
              0.6666666666666666,
              "#ed7953"
             ],
             [
              0.7777777777777778,
              "#fb9f3a"
             ],
             [
              0.8888888888888888,
              "#fdca26"
             ],
             [
              1,
              "#f0f921"
             ]
            ],
            "type": "histogram2dcontour"
           }
          ],
          "mesh3d": [
           {
            "colorbar": {
             "outlinewidth": 0,
             "ticks": ""
            },
            "type": "mesh3d"
           }
          ],
          "parcoords": [
           {
            "line": {
             "colorbar": {
              "outlinewidth": 0,
              "ticks": ""
             }
            },
            "type": "parcoords"
           }
          ],
          "pie": [
           {
            "automargin": true,
            "type": "pie"
           }
          ],
          "scatter": [
           {
            "fillpattern": {
             "fillmode": "overlay",
             "size": 10,
             "solidity": 0.2
            },
            "type": "scatter"
           }
          ],
          "scatter3d": [
           {
            "line": {
             "colorbar": {
              "outlinewidth": 0,
              "ticks": ""
             }
            },
            "marker": {
             "colorbar": {
              "outlinewidth": 0,
              "ticks": ""
             }
            },
            "type": "scatter3d"
           }
          ],
          "scattercarpet": [
           {
            "marker": {
             "colorbar": {
              "outlinewidth": 0,
              "ticks": ""
             }
            },
            "type": "scattercarpet"
           }
          ],
          "scattergeo": [
           {
            "marker": {
             "colorbar": {
              "outlinewidth": 0,
              "ticks": ""
             }
            },
            "type": "scattergeo"
           }
          ],
          "scattergl": [
           {
            "marker": {
             "colorbar": {
              "outlinewidth": 0,
              "ticks": ""
             }
            },
            "type": "scattergl"
           }
          ],
          "scattermapbox": [
           {
            "marker": {
             "colorbar": {
              "outlinewidth": 0,
              "ticks": ""
             }
            },
            "type": "scattermapbox"
           }
          ],
          "scatterpolar": [
           {
            "marker": {
             "colorbar": {
              "outlinewidth": 0,
              "ticks": ""
             }
            },
            "type": "scatterpolar"
           }
          ],
          "scatterpolargl": [
           {
            "marker": {
             "colorbar": {
              "outlinewidth": 0,
              "ticks": ""
             }
            },
            "type": "scatterpolargl"
           }
          ],
          "scatterternary": [
           {
            "marker": {
             "colorbar": {
              "outlinewidth": 0,
              "ticks": ""
             }
            },
            "type": "scatterternary"
           }
          ],
          "surface": [
           {
            "colorbar": {
             "outlinewidth": 0,
             "ticks": ""
            },
            "colorscale": [
             [
              0,
              "#0d0887"
             ],
             [
              0.1111111111111111,
              "#46039f"
             ],
             [
              0.2222222222222222,
              "#7201a8"
             ],
             [
              0.3333333333333333,
              "#9c179e"
             ],
             [
              0.4444444444444444,
              "#bd3786"
             ],
             [
              0.5555555555555556,
              "#d8576b"
             ],
             [
              0.6666666666666666,
              "#ed7953"
             ],
             [
              0.7777777777777778,
              "#fb9f3a"
             ],
             [
              0.8888888888888888,
              "#fdca26"
             ],
             [
              1,
              "#f0f921"
             ]
            ],
            "type": "surface"
           }
          ],
          "table": [
           {
            "cells": {
             "fill": {
              "color": "#EBF0F8"
             },
             "line": {
              "color": "white"
             }
            },
            "header": {
             "fill": {
              "color": "#C8D4E3"
             },
             "line": {
              "color": "white"
             }
            },
            "type": "table"
           }
          ]
         },
         "layout": {
          "annotationdefaults": {
           "arrowcolor": "#2a3f5f",
           "arrowhead": 0,
           "arrowwidth": 1
          },
          "autotypenumbers": "strict",
          "coloraxis": {
           "colorbar": {
            "outlinewidth": 0,
            "ticks": ""
           }
          },
          "colorscale": {
           "diverging": [
            [
             0,
             "#8e0152"
            ],
            [
             0.1,
             "#c51b7d"
            ],
            [
             0.2,
             "#de77ae"
            ],
            [
             0.3,
             "#f1b6da"
            ],
            [
             0.4,
             "#fde0ef"
            ],
            [
             0.5,
             "#f7f7f7"
            ],
            [
             0.6,
             "#e6f5d0"
            ],
            [
             0.7,
             "#b8e186"
            ],
            [
             0.8,
             "#7fbc41"
            ],
            [
             0.9,
             "#4d9221"
            ],
            [
             1,
             "#276419"
            ]
           ],
           "sequential": [
            [
             0,
             "#0d0887"
            ],
            [
             0.1111111111111111,
             "#46039f"
            ],
            [
             0.2222222222222222,
             "#7201a8"
            ],
            [
             0.3333333333333333,
             "#9c179e"
            ],
            [
             0.4444444444444444,
             "#bd3786"
            ],
            [
             0.5555555555555556,
             "#d8576b"
            ],
            [
             0.6666666666666666,
             "#ed7953"
            ],
            [
             0.7777777777777778,
             "#fb9f3a"
            ],
            [
             0.8888888888888888,
             "#fdca26"
            ],
            [
             1,
             "#f0f921"
            ]
           ],
           "sequentialminus": [
            [
             0,
             "#0d0887"
            ],
            [
             0.1111111111111111,
             "#46039f"
            ],
            [
             0.2222222222222222,
             "#7201a8"
            ],
            [
             0.3333333333333333,
             "#9c179e"
            ],
            [
             0.4444444444444444,
             "#bd3786"
            ],
            [
             0.5555555555555556,
             "#d8576b"
            ],
            [
             0.6666666666666666,
             "#ed7953"
            ],
            [
             0.7777777777777778,
             "#fb9f3a"
            ],
            [
             0.8888888888888888,
             "#fdca26"
            ],
            [
             1,
             "#f0f921"
            ]
           ]
          },
          "colorway": [
           "#636efa",
           "#EF553B",
           "#00cc96",
           "#ab63fa",
           "#FFA15A",
           "#19d3f3",
           "#FF6692",
           "#B6E880",
           "#FF97FF",
           "#FECB52"
          ],
          "font": {
           "color": "#2a3f5f"
          },
          "geo": {
           "bgcolor": "white",
           "lakecolor": "white",
           "landcolor": "#E5ECF6",
           "showlakes": true,
           "showland": true,
           "subunitcolor": "white"
          },
          "hoverlabel": {
           "align": "left"
          },
          "hovermode": "closest",
          "mapbox": {
           "style": "light"
          },
          "paper_bgcolor": "white",
          "plot_bgcolor": "#E5ECF6",
          "polar": {
           "angularaxis": {
            "gridcolor": "white",
            "linecolor": "white",
            "ticks": ""
           },
           "bgcolor": "#E5ECF6",
           "radialaxis": {
            "gridcolor": "white",
            "linecolor": "white",
            "ticks": ""
           }
          },
          "scene": {
           "xaxis": {
            "backgroundcolor": "#E5ECF6",
            "gridcolor": "white",
            "gridwidth": 2,
            "linecolor": "white",
            "showbackground": true,
            "ticks": "",
            "zerolinecolor": "white"
           },
           "yaxis": {
            "backgroundcolor": "#E5ECF6",
            "gridcolor": "white",
            "gridwidth": 2,
            "linecolor": "white",
            "showbackground": true,
            "ticks": "",
            "zerolinecolor": "white"
           },
           "zaxis": {
            "backgroundcolor": "#E5ECF6",
            "gridcolor": "white",
            "gridwidth": 2,
            "linecolor": "white",
            "showbackground": true,
            "ticks": "",
            "zerolinecolor": "white"
           }
          },
          "shapedefaults": {
           "line": {
            "color": "#2a3f5f"
           }
          },
          "ternary": {
           "aaxis": {
            "gridcolor": "white",
            "linecolor": "white",
            "ticks": ""
           },
           "baxis": {
            "gridcolor": "white",
            "linecolor": "white",
            "ticks": ""
           },
           "bgcolor": "#E5ECF6",
           "caxis": {
            "gridcolor": "white",
            "linecolor": "white",
            "ticks": ""
           }
          },
          "title": {
           "x": 0.05
          },
          "xaxis": {
           "automargin": true,
           "gridcolor": "white",
           "linecolor": "white",
           "ticks": "",
           "title": {
            "standoff": 15
           },
           "zerolinecolor": "white",
           "zerolinewidth": 2
          },
          "yaxis": {
           "automargin": true,
           "gridcolor": "white",
           "linecolor": "white",
           "ticks": "",
           "title": {
            "standoff": 15
           },
           "zerolinecolor": "white",
           "zerolinewidth": 2
          }
         }
        },
        "title": {
         "text": "🎯 Object Detection Performance: TP/FP/FN Breakdown with MAE"
        },
        "width": 1200,
        "xaxis": {
         "gridcolor": "lightgray",
         "showgrid": true,
         "title": {
          "text": "Images (sorted by MAE: worst → best)"
         }
        },
        "yaxis": {
         "gridcolor": "lightgray",
         "range": [
          -9.6,
          19.2
         ],
         "showgrid": true,
         "title": {
          "text": "Detection Counts (TP / FP / FN)"
         }
        },
        "yaxis2": {
         "overlaying": "y",
         "range": [
          0,
          8.4
         ],
         "showgrid": false,
         "side": "right",
         "title": {
          "text": "MAE (Mean Absolute Error)"
         }
        }
       }
      }
     },
     "metadata": {},
     "output_type": "display_data"
    }
   ],
   "source": [
    "import plotly.graph_objects as go\n",
    "import pandas as pd\n",
    "\n",
    "# Example: Create and sort DataFrame\n",
    "df = pd.DataFrame(records)  # You must already have this\n",
    "df = df.sort_values(\"MAE\", ascending=False).reset_index(drop=True)\n",
    "\n",
    "# Clean up image names for better readability\n",
    "df[\"clean_name\"] = df[\"filepath\"].str.replace(\"20230920_\", \"\").str.replace(\"_jpg.rf.\", \"_\").str.replace(\".jpg\", \"\")\n",
    "\n",
    "\n",
    "df[\"clean_name\"] = df[\"clean_name\"].str.split(\"_\").str[0]\n",
    "\n",
    "\n",
    "# Add field to FiftyOne dataset (optional)\n",
    "for sample in dataset.iter_samples(progress=True):\n",
    "    sample[\"clean_name\"] = sample[\"filepath\"].split(\"/\")[-1].replace(\"20230920_\", \"\").replace(\"_jpg.rf.\", \"_\").replace(\".jpg\", \"\").split(\"_\")[0]\n",
    "    sample.save()\n",
    "\n",
    "\n",
    "\n",
    "\n",
    "\n",
    "\n",
    "# Create figure\n",
    "fig = go.Figure()\n",
    "\n",
    "# TP bar\n",
    "fig.add_trace(go.Bar(\n",
    "    x=df.index,\n",
    "    y=df[\"TP\"],\n",
    "    name=\"True Positives\",\n",
    "    marker_color=\"green\",\n",
    "    hovertemplate=\"<b>%{customdata[0]}</b><br>True Positives: %{y}<br>MAE: %{customdata[1]:.3f}<extra></extra>\",\n",
    "    customdata=df[[\"clean_name\", \"MAE\"]],\n",
    "    text=df[\"TP\"],\n",
    "    yaxis=\"y\"\n",
    "))\n",
    "\n",
    "# FP bar\n",
    "fig.add_trace(go.Bar(\n",
    "    x=df.index,\n",
    "    y=df[\"FP\"],\n",
    "    name=\"False Positives\",\n",
    "    base=df[\"TP\"],\n",
    "    marker_color=\"orange\",\n",
    "    hovertemplate=\"<b>%{customdata[0]}</b><br>\" +\n",
    "                  \"False Positives: %{text}<br>\" +\n",
    "                  \"MAE: %{customdata[1]:.3f}<extra></extra>\",\n",
    "    customdata=list(zip(df[\"clean_name\"], df[\"MAE\"])),\n",
    "    text=df[\"FP\"]\n",
    "))\n",
    "# FN bar (negative)\n",
    "fig.add_trace(go.Bar(\n",
    "    x=df.index,\n",
    "    y=-df[\"FN\"],\n",
    "    name=\"False Negatives\",\n",
    "    marker_color=\"red\",\n",
    "    hovertemplate=\"<b>%{customdata}</b><br>False Negatives: %{text}<extra></extra>\",\n",
    "    customdata=df[\"clean_name\"],\n",
    "    text=df[\"FN\"]\n",
    "))\n",
    "\n",
    "# MAE line (right-side axis)\n",
    "# fig.add_trace(go.Scatter(\n",
    "#     x=df.index,\n",
    "#     y=df[\"MAE\"],\n",
    "#     name=\"MAE\",\n",
    "#     mode=\"lines+markers\",\n",
    "#     line=dict(color=\"black\", dash=\"dot\", width=2),\n",
    "#     marker=dict(size=4),\n",
    "#     yaxis=\"y2\",  # Attach to the separate axis\n",
    "#     hovertemplate=\"<b>%{customdata}</b><br>MAE: %{y}<br>Pred: %{text}<extra></extra>\",\n",
    "#     customdata=df[\"clean_name\"],\n",
    "#     text=df[\"Pred\"].astype(str) + \" | GT: \" + df[\"GT\"].astype(str)\n",
    "# ))\n",
    "\n",
    "# Layout\n",
    "fig.update_layout(\n",
    "    title=\"🎯 Object Detection Performance: TP/FP/FN Breakdown with MAE\",\n",
    "    barmode=\"relative\",\n",
    "    xaxis=dict(\n",
    "        title=\"Images (sorted by MAE: worst → best)\",\n",
    "        showgrid=True,\n",
    "        gridcolor=\"lightgray\"\n",
    "    ),\n",
    "    yaxis=dict(\n",
    "        title=\"Detection Counts (TP / FP / FN)\",\n",
    "        showgrid=True,\n",
    "        gridcolor=\"lightgray\",\n",
    "        range=[\n",
    "            -df[\"FN\"].max() * 1.2,\n",
    "            (df[\"TP\"] + df[\"FP\"]).max() * 1.2\n",
    "        ]\n",
    "    ),\n",
    "    yaxis2=dict(\n",
    "        title=\"MAE (Mean Absolute Error)\",\n",
    "        side=\"right\",\n",
    "        overlaying=\"y\",\n",
    "        anchor=None,  # <-- This prevents y2 from inheriting y1's range\n",
    "        showgrid=False,\n",
    "        range=[0, df[\"MAE\"].max() * 1.2]\n",
    "    ),\n",
    "    legend=dict(x=1.05, y=1),\n",
    "    hovermode=\"closest\",\n",
    "    height=600,\n",
    "    width=1200,\n",
    "    plot_bgcolor=\"white\"\n",
    ")\n",
    "\n",
    "\n",
    "# Show plot\n",
    "fig.show()\n"
   ]
  },
  {
   "cell_type": "markdown",
   "metadata": {
    "vscode": {
     "languageId": "raw"
    }
   },
   "source": [
    "# Analysis: Relationship Between Bounding Box Area and False Negatives\n",
    "\n",
    "This analysis investigates whether smaller objects (prawns) are more likely to be missed by the detection model, which would manifest as false negatives. We'll examine:\n",
    "\n",
    "1. **Area distribution** of all ground truth bounding boxes\n",
    "2. **Area distribution** of false negative bounding boxes  \n",
    "3. **Statistical comparison** to determine if FN objects are significantly smaller\n",
    "4. **Visualization** showing the relationship between object size and detection success\n"
   ]
  },
  {
   "cell_type": "code",
   "execution_count": 30,
   "metadata": {},
   "outputs": [
    {
     "name": "stdout",
     "output_type": "stream",
     "text": [
      "📊 CREATING VISUALIZATION: Individual Prawn Areas vs Detection Success\n",
      "\n",
      "🔍 Analyzing individual prawn areas and detection status...\n",
      "✅ Analyzed 561 individual prawns from 79 images\n",
      "✅ Collected data for 561 individual prawns\n",
      "   Detected (TP): 503\n",
      "   Missed (FN): 58\n"
     ]
    },
    {
     "data": {
      "application/vnd.plotly.v1+json": {
       "config": {
        "plotlyServerURL": "https://plot.ly"
       },
       "data": [
        {
         "customdata": [
          [
           "20230920",
           "20230920_120410_jpg.rf.228c5eec6b39d44ad174701845916268.jpg_1",
           0.0921875,
           0.08671875,
           0.5762002747560409
          ],
          [
           "20230920",
           "20230920_120410_jpg.rf.228c5eec6b39d44ad174701845916268.jpg_2",
           0.1296875,
           0.1515625,
           0.8085712474734492
          ],
          [
           "20230920",
           "20230920_120410_jpg.rf.228c5eec6b39d44ad174701845916268.jpg_3",
           0.115625,
           0.19140625,
           0.899530944022482
          ],
          [
           "20230920",
           "20230920_120410_jpg.rf.228c5eec6b39d44ad174701845916268.jpg_4",
           0.21328125,
           0.1671875,
           0.8403417826201806
          ],
          [
           "20230920",
           "20230920_120410_jpg.rf.228c5eec6b39d44ad174701845916268.jpg_5",
           0.04375,
           0.0703125,
           0.664841286790005
          ],
          [
           "20230920",
           "20230920_120410_jpg.rf.228c5eec6b39d44ad174701845916268.jpg_6",
           0.12421875,
           0.1171875,
           0.78485630474725
          ],
          [
           "20230920",
           "20230920_120410_jpg.rf.228c5eec6b39d44ad174701845916268.jpg_7",
           0.0515625,
           0.1015625,
           0.6696802079698371
          ],
          [
           "20230920",
           "20230920_115951_jpg.rf.cd3046bb49355e395045e8631aded018.jpg_1",
           0.04921875,
           0.17890625,
           0.7705993544355786
          ],
          [
           "20230920",
           "20230920_115951_jpg.rf.cd3046bb49355e395045e8631aded018.jpg_2",
           0.0765625,
           0.06875,
           0.8888698236485373
          ],
          [
           "20230920",
           "20230920_115951_jpg.rf.cd3046bb49355e395045e8631aded018.jpg_3",
           0.096875,
           0.08203125,
           0.5788024216355697
          ],
          [
           "20230920",
           "20230920_115951_jpg.rf.cd3046bb49355e395045e8631aded018.jpg_4",
           0.02578125,
           0.14765625,
           0.5108418064965367
          ],
          [
           "20230920",
           "20230920_121523_jpg.rf.dbe991c9c4bd750d730ba2a50ef21087.jpg_1",
           0.11953125,
           0.06328125,
           0.7105404403648018
          ],
          [
           "20230920",
           "20230920_121523_jpg.rf.dbe991c9c4bd750d730ba2a50ef21087.jpg_2",
           0.08828125,
           0.075,
           0.8165461144318777
          ],
          [
           "20230920",
           "20230920_121523_jpg.rf.dbe991c9c4bd750d730ba2a50ef21087.jpg_3",
           0.1,
           0.1,
           0.5744711827448216
          ],
          [
           "20230920",
           "20230920_121523_jpg.rf.dbe991c9c4bd750d730ba2a50ef21087.jpg_4",
           0.1,
           0.08046875,
           0.6312509611968089
          ],
          [
           "20230920",
           "20230920_121523_jpg.rf.dbe991c9c4bd750d730ba2a50ef21087.jpg_5",
           0.06328125,
           0.08828125,
           0.7337502084373869
          ],
          [
           "20230920",
           "20230920_121523_jpg.rf.dbe991c9c4bd750d730ba2a50ef21087.jpg_6",
           0.06328125,
           0.07734375,
           0.7735280765610856
          ],
          [
           "20230920",
           "20230920_121523_jpg.rf.dbe991c9c4bd750d730ba2a50ef21087.jpg_7",
           0.084375,
           0.06796875,
           0.7602703023866113
          ],
          [
           "20230920",
           "20230920_121523_jpg.rf.dbe991c9c4bd750d730ba2a50ef21087.jpg_8",
           0.040625,
           0.17265625,
           0.8857265267160176
          ],
          [
           "20230920",
           "20230920_121523_jpg.rf.dbe991c9c4bd750d730ba2a50ef21087.jpg_9",
           0.06171875,
           0.13203125,
           0.654766331868132
          ],
          [
           "20230920",
           "20230920_121523_jpg.rf.dbe991c9c4bd750d730ba2a50ef21087.jpg_10",
           0.04296875,
           0.078125,
           0.6413668265943414
          ],
          [
           "20230920",
           "20230920_115310_jpg.rf.b8a6ccd11c7598ec045e2fda3e7dc524.jpg_1",
           0.14453125,
           0.13984375,
           0.8501928839973213
          ],
          [
           "20230920",
           "20230920_115310_jpg.rf.b8a6ccd11c7598ec045e2fda3e7dc524.jpg_2",
           0.15234375,
           0.07890625,
           0.6085712074672587
          ],
          [
           "20230920",
           "20230920_115310_jpg.rf.b8a6ccd11c7598ec045e2fda3e7dc524.jpg_3",
           0.1265625,
           0.08828125,
           0.8547802961117688
          ],
          [
           "20230920",
           "20230920_115310_jpg.rf.b8a6ccd11c7598ec045e2fda3e7dc524.jpg_4",
           0.2,
           0.253125,
           0.7617780192437482
          ],
          [
           "20230920",
           "20230920_115310_jpg.rf.b8a6ccd11c7598ec045e2fda3e7dc524.jpg_5",
           0.0890625,
           0.07109375,
           0.8727498350905256
          ],
          [
           "20230920",
           "20230920_120814_jpg.rf.f4cbaf661cdcdb67b2b820182fd80a51.jpg_1",
           0.21953125,
           0.1265625,
           0.809158232085662
          ],
          [
           "20230920",
           "20230920_120814_jpg.rf.f4cbaf661cdcdb67b2b820182fd80a51.jpg_2",
           0.1265625,
           0.13828125,
           0.7615981856010903
          ],
          [
           "20230920",
           "20230920_120814_jpg.rf.f4cbaf661cdcdb67b2b820182fd80a51.jpg_3",
           0.1484375,
           0.09609375,
           0.7020421213376272
          ],
          [
           "20230920",
           "20230920_120814_jpg.rf.f4cbaf661cdcdb67b2b820182fd80a51.jpg_4",
           0.07734375,
           0.09609375,
           0.8434389031878333
          ],
          [
           "20230920",
           "20230920_120814_jpg.rf.f4cbaf661cdcdb67b2b820182fd80a51.jpg_5",
           0.13125,
           0.11875,
           0.5662769813510692
          ],
          [
           "20230920",
           "20230920_120814_jpg.rf.f4cbaf661cdcdb67b2b820182fd80a51.jpg_6",
           0.09375,
           0.05703125,
           0.7285033689574734
          ],
          [
           "20230920",
           "20230920_120425_jpg.rf.f3d9a39cfeb1b2857480894f05663172.jpg_1",
           0.0953125,
           0.1015625,
           0.7819814000951617
          ],
          [
           "20230920",
           "20230920_120425_jpg.rf.f3d9a39cfeb1b2857480894f05663172.jpg_2",
           0.08984375,
           0.103125,
           0.7110482819041303
          ],
          [
           "20230920",
           "20230920_120425_jpg.rf.f3d9a39cfeb1b2857480894f05663172.jpg_3",
           0.0796875,
           0.06953125,
           0.8603229968992027
          ],
          [
           "20230920",
           "20230920_120425_jpg.rf.f3d9a39cfeb1b2857480894f05663172.jpg_4",
           0.04296875,
           0.16328125,
           0.616186187857635
          ],
          [
           "20230920",
           "20230920_120425_jpg.rf.f3d9a39cfeb1b2857480894f05663172.jpg_5",
           0.0890625,
           0.08046875,
           0.6927988174334184
          ],
          [
           "20230920",
           "20230920_120425_jpg.rf.f3d9a39cfeb1b2857480894f05663172.jpg_6",
           0.06953125,
           0.0453125,
           0.7763676262725888
          ],
          [
           "20230920",
           "20230920_120425_jpg.rf.f3d9a39cfeb1b2857480894f05663172.jpg_7",
           0.0640625,
           0.08828125,
           0.6580946714169089
          ],
          [
           "20230920",
           "20230920_120359_jpg.rf.6c0789ba372afb3eb463288e5a235837.jpg_1",
           0.14921875,
           0.18984375,
           0.6173088151954643
          ],
          [
           "20230920",
           "20230920_120359_jpg.rf.6c0789ba372afb3eb463288e5a235837.jpg_2",
           0.1171875,
           0.11796875,
           0.7667914376581315
          ],
          [
           "20230920",
           "20230920_120359_jpg.rf.6c0789ba372afb3eb463288e5a235837.jpg_3",
           0.13671875,
           0.121875,
           0.6970134943580419
          ],
          [
           "20230920",
           "20230920_120359_jpg.rf.6c0789ba372afb3eb463288e5a235837.jpg_4",
           0.1578125,
           0.15859375,
           0.5730970370697388
          ],
          [
           "20230920",
           "20230920_120359_jpg.rf.6c0789ba372afb3eb463288e5a235837.jpg_5",
           0.103125,
           0.090625,
           0.8445401507604311
          ],
          [
           "20230920",
           "20230920_115213_jpg.rf.c73c0a0cec2c595a80e6a7ef7066d63c.jpg_1",
           0.1515625,
           0.18203125,
           0.930004974884361
          ],
          [
           "20230920",
           "20230920_115213_jpg.rf.c73c0a0cec2c595a80e6a7ef7066d63c.jpg_2",
           0.07265625,
           0.0625,
           0.9192708364325409
          ],
          [
           "20230920",
           "20230920_115213_jpg.rf.c73c0a0cec2c595a80e6a7ef7066d63c.jpg_3",
           0.04140625,
           0.11796875,
           0.6167676113205787
          ],
          [
           "20230920",
           "20230920_115213_jpg.rf.c73c0a0cec2c595a80e6a7ef7066d63c.jpg_4",
           0.13515625,
           0.08125,
           0.8232393344474276
          ],
          [
           "20230920",
           "20230920_115213_jpg.rf.c73c0a0cec2c595a80e6a7ef7066d63c.jpg_5",
           0.1484375,
           0.07890625,
           0.7373896971837045
          ],
          [
           "20230920",
           "20230920_115213_jpg.rf.c73c0a0cec2c595a80e6a7ef7066d63c.jpg_6",
           0.15,
           0.11640625,
           0.9506334901676142
          ],
          [
           "20230920",
           "20230920_115213_jpg.rf.c73c0a0cec2c595a80e6a7ef7066d63c.jpg_7",
           0.15,
           0.18515625,
           0.8321867229861122
          ],
          [
           "20230920",
           "20230920_115213_jpg.rf.c73c0a0cec2c595a80e6a7ef7066d63c.jpg_8",
           0.0890625,
           0.08515625,
           0.7074761331793825
          ],
          [
           "20230920",
           "20230920_115213_jpg.rf.c73c0a0cec2c595a80e6a7ef7066d63c.jpg_9",
           0.0609375,
           0.08515625,
           0.5618126321096426
          ],
          [
           "20230920",
           "20230920_121213_jpg.rf.638b72a42e4db7183e192536efd0057a.jpg_1",
           0.09140625,
           0.08671875,
           0.8295038962723968
          ],
          [
           "20230920",
           "20230920_121213_jpg.rf.638b72a42e4db7183e192536efd0057a.jpg_2",
           0.0515625,
           0.1765625,
           0.8709086096414902
          ],
          [
           "20230920",
           "20230920_121213_jpg.rf.638b72a42e4db7183e192536efd0057a.jpg_3",
           0.071875,
           0.05078125,
           0.6979349652431175
          ],
          [
           "20230920",
           "20230920_121213_jpg.rf.638b72a42e4db7183e192536efd0057a.jpg_4",
           0.08828125,
           0.096875,
           0.765087023730967
          ],
          [
           "20230920",
           "20230920_121213_jpg.rf.638b72a42e4db7183e192536efd0057a.jpg_5",
           0.109375,
           0.15703125,
           0.757561632733648
          ],
          [
           "20230920",
           "20230920_121213_jpg.rf.638b72a42e4db7183e192536efd0057a.jpg_6",
           0.03203125,
           0.06640625,
           0.7715048675129025
          ],
          [
           "20230920",
           "20230920_121213_jpg.rf.638b72a42e4db7183e192536efd0057a.jpg_7",
           0.075,
           0.05859375,
           0.7882500251377725
          ],
          [
           "20230920",
           "20230920_121213_jpg.rf.638b72a42e4db7183e192536efd0057a.jpg_8",
           0.08359375,
           0.071875,
           0.80928009913068
          ],
          [
           "20230920",
           "20230920_121213_jpg.rf.638b72a42e4db7183e192536efd0057a.jpg_9",
           0.0671875,
           0.07734375,
           0.8110193993828415
          ],
          [
           "20230920",
           "20230920_121213_jpg.rf.638b72a42e4db7183e192536efd0057a.jpg_13",
           0.053125,
           0.04765625,
           0.8847493239203437
          ],
          [
           "20230920",
           "20230920_115946_jpg.rf.76816e35cb54c653ab07be62c6caabab.jpg_1",
           0.13984375,
           0.121875,
           0.6986448676115363
          ],
          [
           "20230920",
           "20230920_121350_jpg.rf.f370cf442ca2cbc08b84f2617904e446.jpg_1",
           0.071875,
           0.08046875,
           0.7039048987605653
          ],
          [
           "20230920",
           "20230920_121350_jpg.rf.f370cf442ca2cbc08b84f2617904e446.jpg_2",
           0.15078125,
           0.07265625,
           0.686497210072667
          ],
          [
           "20230920",
           "20230920_121350_jpg.rf.f370cf442ca2cbc08b84f2617904e446.jpg_3",
           0.13125,
           0.1046875,
           0.7994363947044058
          ],
          [
           "20230920",
           "20230920_121350_jpg.rf.f370cf442ca2cbc08b84f2617904e446.jpg_4",
           0.05859375,
           0.05546875,
           0.6218538010055928
          ],
          [
           "20230920",
           "20230920_121350_jpg.rf.f370cf442ca2cbc08b84f2617904e446.jpg_5",
           0.08359375,
           0.0671875,
           0.7633279538832713
          ],
          [
           "20230920",
           "20230920_121350_jpg.rf.f370cf442ca2cbc08b84f2617904e446.jpg_6",
           0.04296875,
           0.14765625,
           0.7303779108003271
          ],
          [
           "20230920",
           "20230920_121350_jpg.rf.f370cf442ca2cbc08b84f2617904e446.jpg_7",
           0.0734375,
           0.05234375,
           0.7361013318474598
          ],
          [
           "20230920",
           "20230920_121350_jpg.rf.f370cf442ca2cbc08b84f2617904e446.jpg_8",
           0.05546875,
           0.0609375,
           0.7377936215330178
          ],
          [
           "20230920",
           "20230920_121350_jpg.rf.f370cf442ca2cbc08b84f2617904e446.jpg_9",
           0.0375,
           0.0421875,
           0.6282494646389827
          ],
          [
           "20230920",
           "20230920_121350_jpg.rf.f370cf442ca2cbc08b84f2617904e446.jpg_11",
           0.0375,
           0.05234375,
           0.5955319651774653
          ],
          [
           "20230920",
           "20230920_121350_jpg.rf.f370cf442ca2cbc08b84f2617904e446.jpg_13",
           0.01953125,
           0.0359375,
           0.10569560903493032
          ],
          [
           "20230920",
           "20230920_121350_jpg.rf.f370cf442ca2cbc08b84f2617904e446.jpg_14",
           0.02890625,
           0.0515625,
           0.5547878130191284
          ],
          [
           "20230920",
           "20230920_115133_jpg.rf.9ca3cc133f857c148ddca6fc5f372b26.jpg_1",
           0.103125,
           0.07734375,
           0.72929320491049
          ],
          [
           "20230920",
           "20230920_115133_jpg.rf.9ca3cc133f857c148ddca6fc5f372b26.jpg_2",
           0.065625,
           0.0734375,
           0.7672841940248788
          ],
          [
           "20230920",
           "20230920_115133_jpg.rf.9ca3cc133f857c148ddca6fc5f372b26.jpg_3",
           0.134375,
           0.13203125,
           0.7814555295247974
          ],
          [
           "20230920",
           "20230920_115133_jpg.rf.9ca3cc133f857c148ddca6fc5f372b26.jpg_4",
           0.0890625,
           0.11328125,
           0.9151471855896962
          ],
          [
           "20230920",
           "20230920_115133_jpg.rf.9ca3cc133f857c148ddca6fc5f372b26.jpg_5",
           0.0671875,
           0.08046875,
           0.8476761668047608
          ],
          [
           "20230920",
           "20230920_115133_jpg.rf.9ca3cc133f857c148ddca6fc5f372b26.jpg_6",
           0.128125,
           0.26640625,
           0.7707045505916298
          ],
          [
           "20230920",
           "20230920_115133_jpg.rf.9ca3cc133f857c148ddca6fc5f372b26.jpg_8",
           0.05390625,
           0.0984375,
           0.8201875255725168
          ],
          [
           "20230920",
           "20230920_120417_jpg.rf.c3a2460ebd53c9bb318a7dce5a0988a9.jpg_1",
           0.10703125,
           0.14453125,
           0.7507593809630115
          ],
          [
           "20230920",
           "20230920_120417_jpg.rf.c3a2460ebd53c9bb318a7dce5a0988a9.jpg_2",
           0.0875,
           0.20625,
           0.786736345722315
          ],
          [
           "20230920",
           "20230920_120417_jpg.rf.c3a2460ebd53c9bb318a7dce5a0988a9.jpg_3",
           0.05546875,
           0.0859375,
           0.619469727631241
          ],
          [
           "20230920",
           "20230920_120417_jpg.rf.c3a2460ebd53c9bb318a7dce5a0988a9.jpg_4",
           0.12421875,
           0.040625,
           0.5802375063431262
          ],
          [
           "20230920",
           "20230920_120417_jpg.rf.c3a2460ebd53c9bb318a7dce5a0988a9.jpg_5",
           0.1234375,
           0.08515625,
           0.7366099678750571
          ],
          [
           "20230920",
           "20230920_120417_jpg.rf.c3a2460ebd53c9bb318a7dce5a0988a9.jpg_6",
           0.0953125,
           0.084375,
           0.8413581241314928
          ],
          [
           "20230920",
           "20230920_120417_jpg.rf.c3a2460ebd53c9bb318a7dce5a0988a9.jpg_7",
           0.15078125,
           0.1015625,
           0.6800539412575497
          ],
          [
           "20230920",
           "20230920_120417_jpg.rf.c3a2460ebd53c9bb318a7dce5a0988a9.jpg_8",
           0.06953125,
           0.10703125,
           0.8412530021333593
          ],
          [
           "20230920",
           "20230920_120417_jpg.rf.c3a2460ebd53c9bb318a7dce5a0988a9.jpg_9",
           0.03671875,
           0.1359375,
           0.5828646630090445
          ],
          [
           "20230920",
           "20230920_121259_jpg.rf.9cce1d6df0c45ddeffed64f3a3c4c744.jpg_1",
           0.08671875,
           0.10234375,
           0.7728554339485443
          ],
          [
           "20230920",
           "20230920_121259_jpg.rf.9cce1d6df0c45ddeffed64f3a3c4c744.jpg_2",
           0.13671875,
           0.134375,
           0.6750220036544171
          ],
          [
           "20230920",
           "20230920_121259_jpg.rf.9cce1d6df0c45ddeffed64f3a3c4c744.jpg_3",
           0.0546875,
           0.184375,
           0.764235381026348
          ],
          [
           "20230920",
           "20230920_121204_jpg.rf.327699191e9f4b296d9e878cec52b648.jpg_1",
           0.07109375,
           0.0625,
           0.8427441909218721
          ],
          [
           "20230920",
           "20230920_121204_jpg.rf.327699191e9f4b296d9e878cec52b648.jpg_2",
           0.078125,
           0.10546875,
           0.8735323698397237
          ],
          [
           "20230920",
           "20230920_121204_jpg.rf.327699191e9f4b296d9e878cec52b648.jpg_3",
           0.090625,
           0.07890625,
           0.8035442802603238
          ],
          [
           "20230920",
           "20230920_121204_jpg.rf.327699191e9f4b296d9e878cec52b648.jpg_4",
           0.0921875,
           0.10390625,
           0.7472030955724671
          ],
          [
           "20230920",
           "20230920_121204_jpg.rf.327699191e9f4b296d9e878cec52b648.jpg_5",
           0.03125,
           0.05859375,
           0.5787273391823098
          ],
          [
           "20230920",
           "20230920_121204_jpg.rf.327699191e9f4b296d9e878cec52b648.jpg_6",
           0.0953125,
           0.08671875,
           0.7495869938646752
          ],
          [
           "20230920",
           "20230920_121204_jpg.rf.327699191e9f4b296d9e878cec52b648.jpg_7",
           0.06171875,
           0.07734375,
           0.7723012143094591
          ],
          [
           "20230920",
           "20230920_121204_jpg.rf.327699191e9f4b296d9e878cec52b648.jpg_9",
           0.0703125,
           0.053125,
           0.6785289906055946
          ],
          [
           "20230920",
           "20230920_120154_jpg.rf.672cfd3f5592bab15ca502ad13b2ad4b.jpg_1",
           0.121875,
           0.11953125,
           0.7170628546220489
          ],
          [
           "20230920",
           "20230920_120154_jpg.rf.672cfd3f5592bab15ca502ad13b2ad4b.jpg_2",
           0.0609375,
           0.08359375,
           0.5903669146636565
          ],
          [
           "20230920",
           "20230920_120154_jpg.rf.672cfd3f5592bab15ca502ad13b2ad4b.jpg_3",
           0.06171875,
           0.15625,
           0.7791634353737389
          ],
          [
           "20230920",
           "20230920_120154_jpg.rf.672cfd3f5592bab15ca502ad13b2ad4b.jpg_4",
           0.1046875,
           0.1484375,
           0.8455571936456064
          ],
          [
           "20230920",
           "20230920_115243_jpg.rf.32bef1aa28c34a878a768c7a83d7450f.jpg_1",
           0.15625,
           0.13515625,
           0.8452887859726864
          ],
          [
           "20230920",
           "20230920_115243_jpg.rf.32bef1aa28c34a878a768c7a83d7450f.jpg_2",
           0.1484375,
           0.08515625,
           0.9401288529009548
          ],
          [
           "20230920",
           "20230920_115314_jpg.rf.aa9922ef6c198544e2f6b569abb14f7e.jpg_1",
           0.11328125,
           0.08125,
           0.6173253294212415
          ],
          [
           "20230920",
           "20230920_115314_jpg.rf.aa9922ef6c198544e2f6b569abb14f7e.jpg_2",
           0.06171875,
           0.0859375,
           0.5685060428128625
          ],
          [
           "20230920",
           "20230920_115314_jpg.rf.aa9922ef6c198544e2f6b569abb14f7e.jpg_3",
           0.134375,
           0.07734375,
           0.8510799894344176
          ],
          [
           "20230920",
           "20230920_121250_jpg.rf.0b95e22ee2b8dc73d6a3b64b6b5c9277.jpg_1",
           0.05859375,
           0.053125,
           0.6586039155252096
          ],
          [
           "20230920",
           "20230920_121250_jpg.rf.0b95e22ee2b8dc73d6a3b64b6b5c9277.jpg_2",
           0.03125,
           0.1140625,
           0.6433486819681128
          ],
          [
           "20230920",
           "20230920_121250_jpg.rf.0b95e22ee2b8dc73d6a3b64b6b5c9277.jpg_3",
           0.07734375,
           0.04609375,
           0.7961398110674499
          ],
          [
           "20230920",
           "20230920_121250_jpg.rf.0b95e22ee2b8dc73d6a3b64b6b5c9277.jpg_4",
           0.071875,
           0.05625,
           0.6089479364641049
          ],
          [
           "20230920",
           "20230920_121250_jpg.rf.0b95e22ee2b8dc73d6a3b64b6b5c9277.jpg_5",
           0.0703125,
           0.0765625,
           0.6184065172187676
          ],
          [
           "20230920",
           "20230920_121250_jpg.rf.0b95e22ee2b8dc73d6a3b64b6b5c9277.jpg_6",
           0.08046875,
           0.06328125,
           0.6355307514164318
          ],
          [
           "20230920",
           "20230920_121250_jpg.rf.0b95e22ee2b8dc73d6a3b64b6b5c9277.jpg_7",
           0.05703125,
           0.0625,
           0.44502373904286374
          ],
          [
           "20230920",
           "20230920_121250_jpg.rf.0b95e22ee2b8dc73d6a3b64b6b5c9277.jpg_8",
           0.07734375,
           0.0546875,
           0.6344057038224459
          ],
          [
           "20230920",
           "20230920_121250_jpg.rf.0b95e22ee2b8dc73d6a3b64b6b5c9277.jpg_9",
           0.0640625,
           0.05390625,
           0.5080499798946725
          ],
          [
           "20230920",
           "20230920_121250_jpg.rf.0b95e22ee2b8dc73d6a3b64b6b5c9277.jpg_10",
           0.08125,
           0.07421875,
           0.7359491555131715
          ],
          [
           "20230920",
           "20230920_121250_jpg.rf.0b95e22ee2b8dc73d6a3b64b6b5c9277.jpg_11",
           0.0609375,
           0.06328125,
           0.7418465570171678
          ],
          [
           "20230920",
           "20230920_121250_jpg.rf.0b95e22ee2b8dc73d6a3b64b6b5c9277.jpg_12",
           0.05078125,
           0.05234375,
           0.6570661710047355
          ],
          [
           "20230920",
           "20230920_121250_jpg.rf.0b95e22ee2b8dc73d6a3b64b6b5c9277.jpg_13",
           0.05625,
           0.05078125,
           0.7387601187948071
          ],
          [
           "20230920",
           "20230920_121603_jpg.rf.58ab47c9ade64991a4bfb8fc928d9249.jpg_1",
           0.1453125,
           0.1765625,
           0.6938506046701597
          ],
          [
           "20230920",
           "20230920_121603_jpg.rf.58ab47c9ade64991a4bfb8fc928d9249.jpg_2",
           0.109375,
           0.08359375,
           0.7289738318667587
          ],
          [
           "20230920",
           "20230920_121603_jpg.rf.58ab47c9ade64991a4bfb8fc928d9249.jpg_3",
           0.1046875,
           0.0875,
           0.730231741798676
          ],
          [
           "20230920",
           "20230920_121603_jpg.rf.58ab47c9ade64991a4bfb8fc928d9249.jpg_4",
           0.07578125,
           0.06875,
           0.7251660196992141
          ],
          [
           "20230920",
           "20230920_121603_jpg.rf.58ab47c9ade64991a4bfb8fc928d9249.jpg_5",
           0.1328125,
           0.11640625,
           0.6096610843684851
          ],
          [
           "20230920",
           "20230920_121603_jpg.rf.58ab47c9ade64991a4bfb8fc928d9249.jpg_6",
           0.12890625,
           0.0875,
           0.5921806095201692
          ],
          [
           "20230920",
           "20230920_121603_jpg.rf.58ab47c9ade64991a4bfb8fc928d9249.jpg_7",
           0.08984375,
           0.06875,
           0.7496673941314872
          ],
          [
           "20230920",
           "20230920_121603_jpg.rf.58ab47c9ade64991a4bfb8fc928d9249.jpg_8",
           0.046875,
           0.090625,
           0.6582725423792811
          ],
          [
           "20230920",
           "20230920_121603_jpg.rf.58ab47c9ade64991a4bfb8fc928d9249.jpg_9",
           0.0296875,
           0.1296875,
           0.7830485163219985
          ],
          [
           "20230920",
           "20230920_121603_jpg.rf.58ab47c9ade64991a4bfb8fc928d9249.jpg_10",
           0.0484375,
           0.065625,
           0.6783099832686096
          ],
          [
           "20230920",
           "20230920_120718_jpg.rf.c6c4539a315a33c676616fcf6a6196c4.jpg_1",
           0.075,
           0.0890625,
           0.7332737358653861
          ],
          [
           "20230920",
           "20230920_120718_jpg.rf.c6c4539a315a33c676616fcf6a6196c4.jpg_2",
           0.1375,
           0.1265625,
           0.896235655281471
          ],
          [
           "20230920",
           "20230920_120723_jpg.rf.c31d559e848eb6893b29eb9d2a0c7f6c.jpg_1",
           0.134375,
           0.08046875,
           0.8269532972782782
          ],
          [
           "20230920",
           "20230920_120723_jpg.rf.c31d559e848eb6893b29eb9d2a0c7f6c.jpg_2",
           0.11640625,
           0.13359375,
           0.46169039682077584
          ],
          [
           "20230920",
           "20230920_120723_jpg.rf.c31d559e848eb6893b29eb9d2a0c7f6c.jpg_3",
           0.0546875,
           0.15078125,
           0.6912428477268896
          ],
          [
           "20230920",
           "20230920_120723_jpg.rf.c31d559e848eb6893b29eb9d2a0c7f6c.jpg_4",
           0.06796875,
           0.10625,
           0.6206493776177368
          ],
          [
           "20230920",
           "20230920_120723_jpg.rf.c31d559e848eb6893b29eb9d2a0c7f6c.jpg_5",
           0.05,
           0.05078125,
           0.6466882285654096
          ],
          [
           "20230920",
           "20230920_120355_jpg.rf.55321aa499ae2eb99df5e60d97404fd1.jpg_1",
           0.0625,
           0.09921875,
           0.8371085671335522
          ],
          [
           "20230920",
           "20230920_120355_jpg.rf.55321aa499ae2eb99df5e60d97404fd1.jpg_2",
           0.078125,
           0.07265625,
           0.7680352071001746
          ],
          [
           "20230920",
           "20230920_120355_jpg.rf.55321aa499ae2eb99df5e60d97404fd1.jpg_3",
           0.1015625,
           0.1265625,
           0.29954451352315764
          ],
          [
           "20230920",
           "20230920_120355_jpg.rf.55321aa499ae2eb99df5e60d97404fd1.jpg_4",
           0.04140625,
           0.1578125,
           0.6847250679981535
          ],
          [
           "20230920",
           "20230920_121220_jpg.rf.44c103ec9d7378c87598b860f2e59aa3.jpg_2",
           0.103125,
           0.071875,
           0.8139842559928813
          ],
          [
           "20230920",
           "20230920_121220_jpg.rf.44c103ec9d7378c87598b860f2e59aa3.jpg_3",
           0.075,
           0.12265625,
           0.6124908135750361
          ],
          [
           "20230920",
           "20230920_115215_jpg.rf.0f3d1cd8a51000f2f2900f54eb7f9410.jpg_1",
           0.13671875,
           0.12890625,
           0.8362664210236423
          ],
          [
           "20230920",
           "20230920_115215_jpg.rf.0f3d1cd8a51000f2f2900f54eb7f9410.jpg_2",
           0.13828125,
           0.09375,
           0.807148377415225
          ],
          [
           "20230920",
           "20230920_115215_jpg.rf.0f3d1cd8a51000f2f2900f54eb7f9410.jpg_3",
           0.059375,
           0.15,
           0.8819714258601289
          ],
          [
           "20230920",
           "20230920_115215_jpg.rf.0f3d1cd8a51000f2f2900f54eb7f9410.jpg_4",
           0.1640625,
           0.184375,
           0.896130893298012
          ],
          [
           "20230920",
           "20230920_115215_jpg.rf.0f3d1cd8a51000f2f2900f54eb7f9410.jpg_5",
           0.1234375,
           0.1625,
           0.8018761894774559
          ],
          [
           "20230920",
           "20230920_115215_jpg.rf.0f3d1cd8a51000f2f2900f54eb7f9410.jpg_6",
           0.15703125,
           0.1125,
           0.7481642478013596
          ],
          [
           "20230920",
           "20230920_115215_jpg.rf.0f3d1cd8a51000f2f2900f54eb7f9410.jpg_7",
           0.0828125,
           0.08359375,
           0.5926988461356669
          ],
          [
           "20230920",
           "20230920_120921_jpg.rf.84b4ae26df89e3b99f31fcebee3dd894.jpg_1",
           0.07109375,
           0.06875,
           0.5353450441402845
          ],
          [
           "20230920",
           "20230920_120421_jpg.rf.9d649220744f11357038caeed2cb34eb.jpg_1",
           0.07265625,
           0.14140625,
           0.6569438719201957
          ],
          [
           "20230920",
           "20230920_120421_jpg.rf.9d649220744f11357038caeed2cb34eb.jpg_2",
           0.14375,
           0.12734375,
           0.7467955661003755
          ],
          [
           "20230920",
           "20230920_120421_jpg.rf.9d649220744f11357038caeed2cb34eb.jpg_3",
           0.05625,
           0.134375,
           0.7728382877030419
          ],
          [
           "20230920",
           "20230920_120421_jpg.rf.9d649220744f11357038caeed2cb34eb.jpg_4",
           0.11640625,
           0.08671875,
           0.5968753605609333
          ],
          [
           "20230920",
           "20230920_120421_jpg.rf.9d649220744f11357038caeed2cb34eb.jpg_5",
           0.09453125,
           0.13046875,
           0.7900074701069251
          ],
          [
           "20230920",
           "20230920_120421_jpg.rf.9d649220744f11357038caeed2cb34eb.jpg_6",
           0.125,
           0.0828125,
           0.8245941445493512
          ],
          [
           "20230920",
           "20230920_120421_jpg.rf.9d649220744f11357038caeed2cb34eb.jpg_7",
           0.0796875,
           0.09140625,
           0.770448714412565
          ],
          [
           "20230920",
           "20230920_121043_jpg.rf.fd5fef17504780cd2f8927de46b9c68f.jpg_1",
           0.340625,
           0.26875,
           0.870566407718001
          ],
          [
           "20230920",
           "20230920_121334_jpg.rf.ed6ba73cda13d7709d9533981f2d8c85.jpg_1",
           0.0578125,
           0.07734375,
           0.524883478574633
          ],
          [
           "20230920",
           "20230920_121334_jpg.rf.ed6ba73cda13d7709d9533981f2d8c85.jpg_2",
           0.0390625,
           0.05703125,
           0.672357174754491
          ],
          [
           "20230920",
           "20230920_121334_jpg.rf.ed6ba73cda13d7709d9533981f2d8c85.jpg_3",
           0.07421875,
           0.08359375,
           0.8316160058418952
          ],
          [
           "20230920",
           "20230920_121334_jpg.rf.ed6ba73cda13d7709d9533981f2d8c85.jpg_4",
           0.0625,
           0.071875,
           0.632969437634574
          ],
          [
           "20230920",
           "20230920_121334_jpg.rf.ed6ba73cda13d7709d9533981f2d8c85.jpg_5",
           0.06796875,
           0.075,
           0.7811627952026489
          ],
          [
           "20230920",
           "20230920_121334_jpg.rf.ed6ba73cda13d7709d9533981f2d8c85.jpg_6",
           0.053125,
           0.11015625,
           0.6965754923333292
          ],
          [
           "20230920",
           "20230920_121334_jpg.rf.ed6ba73cda13d7709d9533981f2d8c85.jpg_7",
           0.06484375,
           0.2484375,
           0.4963161187280799
          ],
          [
           "20230920",
           "20230920_121334_jpg.rf.ed6ba73cda13d7709d9533981f2d8c85.jpg_9",
           0.04765625,
           0.05703125,
           0.8433159955136132
          ],
          [
           "20230920",
           "20230920_121334_jpg.rf.ed6ba73cda13d7709d9533981f2d8c85.jpg_10",
           0.04921875,
           0.04765625,
           0.8319545051780061
          ],
          [
           "20230920",
           "20230920_120008_jpg.rf.af0c88956f71cc309146bfd3e9e2211a.jpg_1",
           0.1109375,
           0.2125,
           0.8166759623321593
          ],
          [
           "20230920",
           "20230920_120008_jpg.rf.af0c88956f71cc309146bfd3e9e2211a.jpg_2",
           0.046875,
           0.18125,
           0.6676953238027411
          ],
          [
           "20230920",
           "20230920_120008_jpg.rf.af0c88956f71cc309146bfd3e9e2211a.jpg_3",
           0.06171875,
           0.08984375,
           0.7637233226552728
          ],
          [
           "20230920",
           "20230920_120008_jpg.rf.af0c88956f71cc309146bfd3e9e2211a.jpg_4",
           0.02578125,
           0.140625,
           0.6776487709935577
          ],
          [
           "20230920",
           "20230920_120008_jpg.rf.af0c88956f71cc309146bfd3e9e2211a.jpg_5",
           0.1265625,
           0.109375,
           0.7735740701012547
          ],
          [
           "20230920",
           "20230920_121011_jpg.rf.0a7221b176c65c35c71fbea1e32c73a9.jpg_1",
           0.121875,
           0.09765625,
           0.8939881178652304
          ],
          [
           "20230920",
           "20230920_121011_jpg.rf.0a7221b176c65c35c71fbea1e32c73a9.jpg_2",
           0.07421875,
           0.12578125,
           0.65043617027249
          ],
          [
           "20230920",
           "20230920_121011_jpg.rf.0a7221b176c65c35c71fbea1e32c73a9.jpg_3",
           0.1203125,
           0.08046875,
           0.6947100201167559
          ],
          [
           "20230920",
           "20230920_121011_jpg.rf.0a7221b176c65c35c71fbea1e32c73a9.jpg_4",
           0.065625,
           0.07265625,
           0.804176925503734
          ],
          [
           "20230920",
           "20230920_115308_jpg.rf.0869e9c36f581b565337d6c376c6b1b7.jpg_1",
           0.246875,
           0.19921875,
           0.9065508354755992
          ],
          [
           "20230920",
           "20230920_115308_jpg.rf.0869e9c36f581b565337d6c376c6b1b7.jpg_2",
           0.16875,
           0.1234375,
           0.8343924136928039
          ],
          [
           "20230920",
           "20230920_115308_jpg.rf.0869e9c36f581b565337d6c376c6b1b7.jpg_3",
           0.1,
           0.1109375,
           0.7043402243311342
          ],
          [
           "20230920",
           "20230920_121559_jpg.rf.b7bb7433b2af41037e990162dd784e65.jpg_1",
           0.096875,
           0.109375,
           0.7625223635019914
          ],
          [
           "20230920",
           "20230920_121559_jpg.rf.b7bb7433b2af41037e990162dd784e65.jpg_2",
           0.1484375,
           0.12734375,
           0.6974703274794223
          ],
          [
           "20230920",
           "20230920_121559_jpg.rf.b7bb7433b2af41037e990162dd784e65.jpg_3",
           0.13828125,
           0.08203125,
           0.6624586686264107
          ],
          [
           "20230920",
           "20230920_121559_jpg.rf.b7bb7433b2af41037e990162dd784e65.jpg_4",
           0.04375,
           0.134375,
           0.7028707504246386
          ],
          [
           "20230920",
           "20230920_121559_jpg.rf.b7bb7433b2af41037e990162dd784e65.jpg_5",
           0.08828125,
           0.096875,
           0.5724228039056242
          ],
          [
           "20230920",
           "20230920_121559_jpg.rf.b7bb7433b2af41037e990162dd784e65.jpg_6",
           0.07265625,
           0.0640625,
           0.5787492836749337
          ],
          [
           "20230920",
           "20230920_121559_jpg.rf.b7bb7433b2af41037e990162dd784e65.jpg_7",
           0.0921875,
           0.08671875,
           0.6832296005231947
          ],
          [
           "20230920",
           "20230920_121559_jpg.rf.b7bb7433b2af41037e990162dd784e65.jpg_8",
           0.1078125,
           0.11796875,
           0.7549304217945066
          ],
          [
           "20230920",
           "20230920_121559_jpg.rf.b7bb7433b2af41037e990162dd784e65.jpg_9",
           0.14140625,
           0.08828125,
           0.5035654983059432
          ],
          [
           "20230920",
           "20230920_121559_jpg.rf.b7bb7433b2af41037e990162dd784e65.jpg_10",
           0.12578125,
           0.06796875,
           0.7756213748353707
          ],
          [
           "20230920",
           "20230920_115302_jpg.rf.ca43511a0b67255da349458663cc0d27.jpg_1",
           0.1671875,
           0.12890625,
           0.6804965924454213
          ],
          [
           "20230920",
           "20230920_115302_jpg.rf.ca43511a0b67255da349458663cc0d27.jpg_2",
           0.0625,
           0.0703125,
           0.7110784787027502
          ],
          [
           "20230920",
           "20230920_115302_jpg.rf.ca43511a0b67255da349458663cc0d27.jpg_3",
           0.10390625,
           0.06953125,
           0.8288404301049098
          ],
          [
           "20230920",
           "20230920_115302_jpg.rf.ca43511a0b67255da349458663cc0d27.jpg_4",
           0.14765625,
           0.121875,
           0.7769706821885665
          ],
          [
           "20230920",
           "20230920_115302_jpg.rf.ca43511a0b67255da349458663cc0d27.jpg_5",
           0.09765625,
           0.09140625,
           0.6252253346253882
          ],
          [
           "20230920",
           "20230920_115302_jpg.rf.ca43511a0b67255da349458663cc0d27.jpg_6",
           0.06875,
           0.0828125,
           0.8649794611353558
          ],
          [
           "20230920",
           "20230920_121437_jpg.rf.13f1f2db8ce06fea35e529b8ba40b7d1.jpg_1",
           0.0796875,
           0.0625,
           0.7801076533596463
          ],
          [
           "20230920",
           "20230920_121437_jpg.rf.13f1f2db8ce06fea35e529b8ba40b7d1.jpg_2",
           0.1015625,
           0.0625,
           0.5436225813286019
          ],
          [
           "20230920",
           "20230920_121437_jpg.rf.13f1f2db8ce06fea35e529b8ba40b7d1.jpg_3",
           0.07109375,
           0.0609375,
           0.6735096737613514
          ],
          [
           "20230920",
           "20230920_121437_jpg.rf.13f1f2db8ce06fea35e529b8ba40b7d1.jpg_4",
           0.06875,
           0.0703125,
           0.8712337650637646
          ],
          [
           "20230920",
           "20230920_121437_jpg.rf.13f1f2db8ce06fea35e529b8ba40b7d1.jpg_5",
           0.0484375,
           0.06640625,
           0.7583527646773479
          ],
          [
           "20230920",
           "20230920_121437_jpg.rf.13f1f2db8ce06fea35e529b8ba40b7d1.jpg_6",
           0.05,
           0.07890625,
           0.47477422896028637
          ],
          [
           "20230920",
           "20230920_121437_jpg.rf.13f1f2db8ce06fea35e529b8ba40b7d1.jpg_7",
           0.0328125,
           0.0765625,
           0.20327455561147353
          ],
          [
           "20230920",
           "20230920_121437_jpg.rf.13f1f2db8ce06fea35e529b8ba40b7d1.jpg_8",
           0.06328125,
           0.0859375,
           0.5604303662303847
          ],
          [
           "20230920",
           "20230920_121437_jpg.rf.13f1f2db8ce06fea35e529b8ba40b7d1.jpg_10",
           0.01328125,
           0.12734375,
           0.41497333719975577
          ],
          [
           "20230920",
           "20230920_121437_jpg.rf.13f1f2db8ce06fea35e529b8ba40b7d1.jpg_11",
           0.046875,
           0.0421875,
           0.31845023673352335
          ],
          [
           "20230920",
           "20230920_120439_jpg.rf.8505bac932d0d52519f04b278687b00e.jpg_1",
           0.09453125,
           0.0890625,
           0.6989280758584003
          ],
          [
           "20230920",
           "20230920_120439_jpg.rf.8505bac932d0d52519f04b278687b00e.jpg_2",
           0.109375,
           0.07421875,
           0.7774092570992103
          ],
          [
           "20230920",
           "20230920_120439_jpg.rf.8505bac932d0d52519f04b278687b00e.jpg_3",
           0.0875,
           0.10078125,
           0.6356287821129832
          ],
          [
           "20230920",
           "20230920_120439_jpg.rf.8505bac932d0d52519f04b278687b00e.jpg_4",
           0.10234375,
           0.1359375,
           0.8218493599824571
          ],
          [
           "20230920",
           "20230920_115202_jpg.rf.a621328bfd6d01d0d40d683c2d67bca5.jpg_1",
           0.22578125,
           0.1859375,
           0.7423844065252179
          ],
          [
           "20230920",
           "20230920_115202_jpg.rf.a621328bfd6d01d0d40d683c2d67bca5.jpg_2",
           0.09296875,
           0.06015625,
           0.7782357458492172
          ],
          [
           "20230920",
           "20230920_120443_jpg.rf.46f2d7a126afb7eacf5f84542c554618.jpg_1",
           0.115625,
           0.09140625,
           0.6630692393717271
          ],
          [
           "20230920",
           "20230920_120443_jpg.rf.46f2d7a126afb7eacf5f84542c554618.jpg_2",
           0.078125,
           0.06015625,
           0.7132377579046075
          ],
          [
           "20230920",
           "20230920_115259_jpg.rf.0357a3d952e0d47609e3288943bcb156.jpg_1",
           0.15234375,
           0.1515625,
           0.9248690570202286
          ],
          [
           "20230920",
           "20230920_115259_jpg.rf.0357a3d952e0d47609e3288943bcb156.jpg_2",
           0.04921875,
           0.04921875,
           0.4859132629463757
          ],
          [
           "20230920",
           "20230920_115259_jpg.rf.0357a3d952e0d47609e3288943bcb156.jpg_3",
           0.11015625,
           0.06953125,
           0.827104998068861
          ],
          [
           "20230920",
           "20230920_115259_jpg.rf.0357a3d952e0d47609e3288943bcb156.jpg_4",
           0.1375,
           0.084375,
           0.7688037474372859
          ],
          [
           "20230920",
           "20230920_115259_jpg.rf.0357a3d952e0d47609e3288943bcb156.jpg_5",
           0.16171875,
           0.12265625,
           0.9079108177106471
          ],
          [
           "20230920",
           "20230920_115259_jpg.rf.0357a3d952e0d47609e3288943bcb156.jpg_6",
           0.15859375,
           0.196875,
           0.7815882635574799
          ],
          [
           "20230920",
           "20230920_115259_jpg.rf.0357a3d952e0d47609e3288943bcb156.jpg_7",
           0.0359375,
           0.1515625,
           0.6408797217191603
          ],
          [
           "20230920",
           "20230920_115259_jpg.rf.0357a3d952e0d47609e3288943bcb156.jpg_8",
           0.0953125,
           0.09609375,
           0.779218746442309
          ],
          [
           "20230920",
           "20230920_115259_jpg.rf.0357a3d952e0d47609e3288943bcb156.jpg_9",
           0.053125,
           0.08984375,
           0.7481506640322271
          ],
          [
           "20230920",
           "20230920_115259_jpg.rf.0357a3d952e0d47609e3288943bcb156.jpg_10",
           0.06953125,
           0.06171875,
           0.8187671123446831
          ],
          [
           "20230920",
           "20230920_121615_jpg.rf.938be342492e0578d819e7ff1690cb0b.jpg_1",
           0.1203125,
           0.09375,
           0.7645476750719536
          ],
          [
           "20230920",
           "20230920_121615_jpg.rf.938be342492e0578d819e7ff1690cb0b.jpg_2",
           0.040625,
           0.125,
           0.4709505545321096
          ],
          [
           "20230920",
           "20230920_121615_jpg.rf.938be342492e0578d819e7ff1690cb0b.jpg_3",
           0.096875,
           0.0921875,
           0.61788222261146
          ],
          [
           "20230920",
           "20230920_121615_jpg.rf.938be342492e0578d819e7ff1690cb0b.jpg_4",
           0.0703125,
           0.090625,
           0.720522346134207
          ],
          [
           "20230920",
           "20230920_121615_jpg.rf.938be342492e0578d819e7ff1690cb0b.jpg_5",
           0.10859375,
           0.08984375,
           0.7670884281121182
          ],
          [
           "20230920",
           "20230920_121615_jpg.rf.938be342492e0578d819e7ff1690cb0b.jpg_6",
           0.04375,
           0.1546875,
           0.6302795430765836
          ],
          [
           "20230920",
           "20230920_121615_jpg.rf.938be342492e0578d819e7ff1690cb0b.jpg_7",
           0.08203125,
           0.11328125,
           0.6852082517155715
          ],
          [
           "20230920",
           "20230920_121615_jpg.rf.938be342492e0578d819e7ff1690cb0b.jpg_8",
           0.0921875,
           0.05390625,
           0.6892975540498992
          ],
          [
           "20230920",
           "20230920_121615_jpg.rf.938be342492e0578d819e7ff1690cb0b.jpg_9",
           0.07421875,
           0.05859375,
           0.8411558736451349
          ],
          [
           "20230920",
           "20230920_121615_jpg.rf.938be342492e0578d819e7ff1690cb0b.jpg_10",
           0.06484375,
           0.0640625,
           0.6249737163929278
          ],
          [
           "20230920",
           "20230920_121615_jpg.rf.938be342492e0578d819e7ff1690cb0b.jpg_11",
           0.078125,
           0.08671875,
           0.6367688875049495
          ],
          [
           "20230920",
           "20230920_121615_jpg.rf.938be342492e0578d819e7ff1690cb0b.jpg_12",
           0.03203125,
           0.08671875,
           0.5016147272148009
          ],
          [
           "20230920",
           "20230920_121615_jpg.rf.938be342492e0578d819e7ff1690cb0b.jpg_13",
           0.05546875,
           0.10078125,
           0.6829545750753864
          ],
          [
           "20230920",
           "20230920_121325_jpg.rf.273c044db976c007f0ba375f14025c67.jpg_1",
           0.15625,
           0.2078125,
           0.6525736980184936
          ],
          [
           "20230920",
           "20230920_121325_jpg.rf.273c044db976c007f0ba375f14025c67.jpg_2",
           0.225,
           0.21875,
           0.6436539951942288
          ],
          [
           "20230920",
           "20230920_121325_jpg.rf.273c044db976c007f0ba375f14025c67.jpg_3",
           0.07890625,
           0.08828125,
           0.5834795121949823
          ],
          [
           "20230920",
           "20230920_121325_jpg.rf.273c044db976c007f0ba375f14025c67.jpg_4",
           0.3109375,
           0.3765625,
           0.38483463582459776
          ],
          [
           "20230920",
           "20230920_120348_jpg.rf.6da642b0b833d5376ac4e7d5646de0c7.jpg_1",
           0.053125,
           0.1890625,
           0.7742259572666521
          ],
          [
           "20230920",
           "20230920_120348_jpg.rf.6da642b0b833d5376ac4e7d5646de0c7.jpg_2",
           0.09375,
           0.06953125,
           0.7719624900797496
          ],
          [
           "20230920",
           "20230920_120348_jpg.rf.6da642b0b833d5376ac4e7d5646de0c7.jpg_3",
           0.07734375,
           0.0609375,
           0.8704331702258246
          ],
          [
           "20230920",
           "20230920_120348_jpg.rf.6da642b0b833d5376ac4e7d5646de0c7.jpg_4",
           0.08046875,
           0.05859375,
           0.8088861068365015
          ],
          [
           "20230920",
           "20230920_120348_jpg.rf.6da642b0b833d5376ac4e7d5646de0c7.jpg_5",
           0.084375,
           0.07421875,
           0.7626355420447221
          ],
          [
           "20230920",
           "20230920_121053_jpg.rf.2781f32ed743549af7964ca094aea156.jpg_1",
           0.20625,
           0.2140625,
           0.879340469962055
          ],
          [
           "20230920",
           "20230920_121053_jpg.rf.2781f32ed743549af7964ca094aea156.jpg_2",
           0.115625,
           0.096875,
           0.6460076500535428
          ],
          [
           "20230920",
           "20230920_121053_jpg.rf.2781f32ed743549af7964ca094aea156.jpg_3",
           0.096875,
           0.04453125,
           0.6422045096317567
          ],
          [
           "20230920",
           "20230920_121053_jpg.rf.2781f32ed743549af7964ca094aea156.jpg_4",
           0.16484375,
           0.1015625,
           0.6662175721528002
          ],
          [
           "20230920",
           "20230920_121053_jpg.rf.2781f32ed743549af7964ca094aea156.jpg_5",
           0.1484375,
           0.08125,
           0.6613197194531085
          ],
          [
           "20230920",
           "20230920_121447_jpg.rf.b705f55e7142762cf2b2079b2438b4bf.jpg_1",
           0.0765625,
           0.0484375,
           0.7736777820888019
          ],
          [
           "20230920",
           "20230920_121447_jpg.rf.b705f55e7142762cf2b2079b2438b4bf.jpg_2",
           0.07109375,
           0.0609375,
           0.4938843087359381
          ],
          [
           "20230920",
           "20230920_121447_jpg.rf.b705f55e7142762cf2b2079b2438b4bf.jpg_3",
           0.0484375,
           0.04765625,
           0.6154406701642435
          ],
          [
           "20230920",
           "20230920_121447_jpg.rf.b705f55e7142762cf2b2079b2438b4bf.jpg_4",
           0.03515625,
           0.09140625,
           0.4533883230180674
          ],
          [
           "20230920",
           "20230920_121447_jpg.rf.b705f55e7142762cf2b2079b2438b4bf.jpg_5",
           0.06328125,
           0.053125,
           0.734171353617963
          ],
          [
           "20230920",
           "20230920_121447_jpg.rf.b705f55e7142762cf2b2079b2438b4bf.jpg_6",
           0.046875,
           0.053125,
           0.5988337799040199
          ],
          [
           "20230920",
           "20230920_121447_jpg.rf.b705f55e7142762cf2b2079b2438b4bf.jpg_7",
           0.046875,
           0.0625,
           0.6102806515813927
          ],
          [
           "20230920",
           "20230920_121447_jpg.rf.b705f55e7142762cf2b2079b2438b4bf.jpg_8",
           0.03984375,
           0.046875,
           0.6231044725789349
          ],
          [
           "20230920",
           "20230920_121447_jpg.rf.b705f55e7142762cf2b2079b2438b4bf.jpg_9",
           0.0375,
           0.04375,
           0.4290444209577401
          ],
          [
           "20230920",
           "20230920_121447_jpg.rf.b705f55e7142762cf2b2079b2438b4bf.jpg_11",
           0.02890625,
           0.12265625,
           0.73588034990429
          ],
          [
           "20230920",
           "20230920_121447_jpg.rf.b705f55e7142762cf2b2079b2438b4bf.jpg_12",
           0.06015625,
           0.07421875,
           0.6385356856888821
          ],
          [
           "20230920",
           "20230920_120824_jpg.rf.41bddd04ee0707820b3ea91904484120.jpg_1",
           0.115625,
           0.15703125,
           0.8376874451227051
          ],
          [
           "20230920",
           "20230920_120824_jpg.rf.41bddd04ee0707820b3ea91904484120.jpg_2",
           0.13359375,
           0.13125,
           0.7314450767017032
          ],
          [
           "20230920",
           "20230920_120824_jpg.rf.41bddd04ee0707820b3ea91904484120.jpg_3",
           0.11328125,
           0.090625,
           0.756560736054414
          ],
          [
           "20230920",
           "20230920_120824_jpg.rf.41bddd04ee0707820b3ea91904484120.jpg_4",
           0.12265625,
           0.053125,
           0.5217397017958365
          ],
          [
           "20230920",
           "20230920_120824_jpg.rf.41bddd04ee0707820b3ea91904484120.jpg_5",
           0.07265625,
           0.0609375,
           0.7994339799030746
          ],
          [
           "20230920",
           "20230920_120824_jpg.rf.41bddd04ee0707820b3ea91904484120.jpg_6",
           0.10546875,
           0.0734375,
           0.7016063869807736
          ],
          [
           "20230920",
           "20230920_121217_jpg.rf.93cba946e4ccb537cc089a2733966308.jpg_1",
           0.06484375,
           0.08046875,
           0.811552576548785
          ],
          [
           "20230920",
           "20230920_121217_jpg.rf.93cba946e4ccb537cc089a2733966308.jpg_2",
           0.071875,
           0.04609375,
           0.6981900699701744
          ],
          [
           "20230920",
           "20230920_121217_jpg.rf.93cba946e4ccb537cc089a2733966308.jpg_3",
           0.07578125,
           0.04921875,
           0.556463925162774
          ],
          [
           "20230920",
           "20230920_121217_jpg.rf.93cba946e4ccb537cc089a2733966308.jpg_4",
           0.10625,
           0.04921875,
           0.5543934624777147
          ],
          [
           "20230920",
           "20230920_121217_jpg.rf.93cba946e4ccb537cc089a2733966308.jpg_5",
           0.053125,
           0.1546875,
           0.7497129361427008
          ],
          [
           "20230920",
           "20230920_121217_jpg.rf.93cba946e4ccb537cc089a2733966308.jpg_7",
           0.05859375,
           0.06796875,
           0.5068197125781888
          ],
          [
           "20230920",
           "20230920_121217_jpg.rf.93cba946e4ccb537cc089a2733966308.jpg_8",
           0.05546875,
           0.0640625,
           0.48808809822181864
          ],
          [
           "20230920",
           "20230920_121217_jpg.rf.93cba946e4ccb537cc089a2733966308.jpg_9",
           0.04375,
           0.0640625,
           0.6750142244619051
          ],
          [
           "20230920",
           "20230920_121217_jpg.rf.93cba946e4ccb537cc089a2733966308.jpg_10",
           0.05234375,
           0.04453125,
           0.6839546019239933
          ],
          [
           "20230920",
           "20230920_121217_jpg.rf.93cba946e4ccb537cc089a2733966308.jpg_11",
           0.04375,
           0.034375,
           0.4323020261402802
          ],
          [
           "20230920",
           "20230920_121217_jpg.rf.93cba946e4ccb537cc089a2733966308.jpg_12",
           0.04921875,
           0.0359375,
           0.700512030878019
          ],
          [
           "20230920",
           "20230920_121217_jpg.rf.93cba946e4ccb537cc089a2733966308.jpg_16",
           0.0703125,
           0.0703125,
           0.5354068823296707
          ],
          [
           "20230920",
           "20230920_121434_jpg.rf.a2a9156b18cccc4d4f77b52809e90167.jpg_1",
           0.13984375,
           0.08359375,
           0.60490859165331
          ],
          [
           "20230920",
           "20230920_121434_jpg.rf.a2a9156b18cccc4d4f77b52809e90167.jpg_2",
           0.05703125,
           0.0453125,
           0.6428328821939877
          ],
          [
           "20230920",
           "20230920_121434_jpg.rf.a2a9156b18cccc4d4f77b52809e90167.jpg_4",
           0.0828125,
           0.06171875,
           0.6958230722270612
          ],
          [
           "20230920",
           "20230920_121434_jpg.rf.a2a9156b18cccc4d4f77b52809e90167.jpg_5",
           0.0578125,
           0.0875,
           0.6097335822151366
          ],
          [
           "20230920",
           "20230920_121434_jpg.rf.a2a9156b18cccc4d4f77b52809e90167.jpg_6",
           0.04609375,
           0.059375,
           0.5249981408464293
          ],
          [
           "20230920",
           "20230920_121434_jpg.rf.a2a9156b18cccc4d4f77b52809e90167.jpg_7",
           0.04765625,
           0.03515625,
           0.4505762037475729
          ],
          [
           "20230920",
           "20230920_121434_jpg.rf.a2a9156b18cccc4d4f77b52809e90167.jpg_8",
           0.05390625,
           0.10078125,
           0.579585909689234
          ],
          [
           "20230920",
           "20230920_121434_jpg.rf.a2a9156b18cccc4d4f77b52809e90167.jpg_9",
           0.06796875,
           0.04453125,
           0.7396917006841683
          ],
          [
           "20230920",
           "20230920_121434_jpg.rf.a2a9156b18cccc4d4f77b52809e90167.jpg_10",
           0.05625,
           0.08671875,
           0.6101015006637234
          ],
          [
           "20230920",
           "20230920_120730_jpg.rf.a6c22fdb8992eff516a9ee896fd79c0c.jpg_1",
           0.06015625,
           0.13359375,
           0.48095284717703685
          ],
          [
           "20230920",
           "20230920_120730_jpg.rf.a6c22fdb8992eff516a9ee896fd79c0c.jpg_2",
           0.10390625,
           0.0625,
           0.7188389006839444
          ],
          [
           "20230920",
           "20230920_120730_jpg.rf.a6c22fdb8992eff516a9ee896fd79c0c.jpg_3",
           0.1125,
           0.125,
           0.7012138459014863
          ],
          [
           "20230920",
           "20230920_120730_jpg.rf.a6c22fdb8992eff516a9ee896fd79c0c.jpg_4",
           0.08671875,
           0.07421875,
           0.6137613540906022
          ],
          [
           "20230920",
           "20230920_120730_jpg.rf.a6c22fdb8992eff516a9ee896fd79c0c.jpg_5",
           0.0734375,
           0.0765625,
           0.8008461370517097
          ],
          [
           "20230920",
           "20230920_120730_jpg.rf.a6c22fdb8992eff516a9ee896fd79c0c.jpg_6",
           0.07890625,
           0.0453125,
           0.6775785952634187
          ],
          [
           "20230920",
           "20230920_120730_jpg.rf.a6c22fdb8992eff516a9ee896fd79c0c.jpg_7",
           0.0390625,
           0.10234375,
           0.6234549648389776
          ],
          [
           "20230920",
           "20230920_121318_jpg.rf.c3368fd98b4c4d3a58d4c4f54f3a9e39.jpg_1",
           0.08359375,
           0.0703125,
           0.7301058875575703
          ],
          [
           "20230920",
           "20230920_121318_jpg.rf.c3368fd98b4c4d3a58d4c4f54f3a9e39.jpg_2",
           0.04375,
           0.11328125,
           0.5475217192680468
          ],
          [
           "20230920",
           "20230920_121318_jpg.rf.c3368fd98b4c4d3a58d4c4f54f3a9e39.jpg_3",
           0.06484375,
           0.08125,
           0.6891349138962088
          ],
          [
           "20230920",
           "20230920_121318_jpg.rf.c3368fd98b4c4d3a58d4c4f54f3a9e39.jpg_4",
           0.08671875,
           0.0953125,
           0.7060189378243696
          ],
          [
           "20230920",
           "20230920_121318_jpg.rf.c3368fd98b4c4d3a58d4c4f54f3a9e39.jpg_5",
           0.0484375,
           0.06171875,
           0.674006609939147
          ],
          [
           "20230920",
           "20230920_121318_jpg.rf.c3368fd98b4c4d3a58d4c4f54f3a9e39.jpg_6",
           0.084375,
           0.0625,
           0.7256751031985629
          ],
          [
           "20230920",
           "20230920_121318_jpg.rf.c3368fd98b4c4d3a58d4c4f54f3a9e39.jpg_7",
           0.0671875,
           0.06484375,
           0.8023684873721968
          ],
          [
           "20230920",
           "20230920_121318_jpg.rf.c3368fd98b4c4d3a58d4c4f54f3a9e39.jpg_8",
           0.06015625,
           0.053125,
           0.721321540930196
          ],
          [
           "20230920",
           "20230920_121318_jpg.rf.c3368fd98b4c4d3a58d4c4f54f3a9e39.jpg_9",
           0.084375,
           0.06640625,
           0.8671371344056938
          ],
          [
           "20230920",
           "20230920_121318_jpg.rf.c3368fd98b4c4d3a58d4c4f54f3a9e39.jpg_10",
           0.0875,
           0.053125,
           0.8257973418543358
          ],
          [
           "20230920",
           "20230920_121318_jpg.rf.c3368fd98b4c4d3a58d4c4f54f3a9e39.jpg_11",
           0.04453125,
           0.06484375,
           0.7919704147419243
          ],
          [
           "20230920",
           "20230920_121318_jpg.rf.c3368fd98b4c4d3a58d4c4f54f3a9e39.jpg_12",
           0.078125,
           0.046875,
           0.5958711417249452
          ],
          [
           "20230920",
           "20230920_121318_jpg.rf.c3368fd98b4c4d3a58d4c4f54f3a9e39.jpg_13",
           0.06015625,
           0.06875,
           0.6311331793831935
          ],
          [
           "20230920",
           "20230920_121318_jpg.rf.c3368fd98b4c4d3a58d4c4f54f3a9e39.jpg_14",
           0.059375,
           0.05078125,
           0.8928475452795945
          ],
          [
           "20230920",
           "20230920_115323_jpg.rf.85d667354ed7dc0512a56267d74e5557.jpg_1",
           0.10703125,
           0.184375,
           0.7596731929635822
          ],
          [
           "20230920",
           "20230920_115323_jpg.rf.85d667354ed7dc0512a56267d74e5557.jpg_2",
           0.09921875,
           0.07265625,
           0.8086179820138579
          ],
          [
           "20230920",
           "20230920_121411_jpg.rf.757d779f073af4453d266648b20137a3.jpg_1",
           0.0875,
           0.06796875,
           0.7043776718896915
          ],
          [
           "20230920",
           "20230920_121411_jpg.rf.757d779f073af4453d266648b20137a3.jpg_2",
           0.06328125,
           0.0546875,
           0.5518660969803195
          ],
          [
           "20230920",
           "20230920_121411_jpg.rf.757d779f073af4453d266648b20137a3.jpg_3",
           0.06484375,
           0.046875,
           0.7926853511759138
          ],
          [
           "20230920",
           "20230920_121411_jpg.rf.757d779f073af4453d266648b20137a3.jpg_4",
           0.078125,
           0.0453125,
           0.5771087907472837
          ],
          [
           "20230920",
           "20230920_121411_jpg.rf.757d779f073af4453d266648b20137a3.jpg_5",
           0.05859375,
           0.0609375,
           0.7338731176519122
          ],
          [
           "20230920",
           "20230920_121411_jpg.rf.757d779f073af4453d266648b20137a3.jpg_6",
           0.0484375,
           0.03046875,
           0.48774143147243326
          ],
          [
           "20230920",
           "20230920_121411_jpg.rf.757d779f073af4453d266648b20137a3.jpg_8",
           0.09765625,
           0.10078125,
           0.8629284377838197
          ],
          [
           "20230920",
           "20230920_121411_jpg.rf.757d779f073af4453d266648b20137a3.jpg_9",
           0.040625,
           0.05859375,
           0.549972138022186
          ],
          [
           "20230920",
           "20230920_121411_jpg.rf.757d779f073af4453d266648b20137a3.jpg_15",
           0.0234375,
           0.0859375,
           0.5865153536776997
          ],
          [
           "20230920",
           "20230920_121411_jpg.rf.757d779f073af4453d266648b20137a3.jpg_16",
           0.0515625,
           0.08359375,
           0.7400404933769068
          ],
          [
           "20230920",
           "20230920_121411_jpg.rf.757d779f073af4453d266648b20137a3.jpg_17",
           0.040625,
           0.11796875,
           0.829290287492411
          ],
          [
           "20230920",
           "20230920_121411_jpg.rf.757d779f073af4453d266648b20137a3.jpg_20",
           0.0359375,
           0.0390625,
           0.5981388676186875
          ],
          [
           "20230920",
           "20230920_121254_jpg.rf.5a481702322992d95635473748a2a04f.jpg_1",
           0.07421875,
           0.06796875,
           0.7533154152523311
          ],
          [
           "20230920",
           "20230920_121254_jpg.rf.5a481702322992d95635473748a2a04f.jpg_2",
           0.0546875,
           0.08125,
           0.6496039670782049
          ],
          [
           "20230920",
           "20230920_121254_jpg.rf.5a481702322992d95635473748a2a04f.jpg_3",
           0.03203125,
           0.0625,
           0.5317587702173547
          ],
          [
           "20230920",
           "20230920_121254_jpg.rf.5a481702322992d95635473748a2a04f.jpg_4",
           0.040625,
           0.046875,
           0.5628406084779187
          ],
          [
           "20230920",
           "20230920_121254_jpg.rf.5a481702322992d95635473748a2a04f.jpg_5",
           0.02890625,
           0.02734375,
           0.11948126225659068
          ],
          [
           "20230920",
           "20230920_121254_jpg.rf.5a481702322992d95635473748a2a04f.jpg_6",
           0.07265625,
           0.0484375,
           0.7859686549968764
          ],
          [
           "20230920",
           "20230920_121254_jpg.rf.5a481702322992d95635473748a2a04f.jpg_7",
           0.11484375,
           0.13828125,
           0.5440538977678968
          ],
          [
           "20230920",
           "20230920_121254_jpg.rf.5a481702322992d95635473748a2a04f.jpg_8",
           0.0453125,
           0.09296875,
           0.8126237700448679
          ],
          [
           "20230920",
           "20230920_121254_jpg.rf.5a481702322992d95635473748a2a04f.jpg_9",
           0.0609375,
           0.17734375,
           0.5744743000190305
          ],
          [
           "20230920",
           "20230920_121254_jpg.rf.5a481702322992d95635473748a2a04f.jpg_10",
           0.05,
           0.04453125,
           0.7905082097536631
          ],
          [
           "20230920",
           "20230920_121254_jpg.rf.5a481702322992d95635473748a2a04f.jpg_12",
           0.05,
           0.04140625,
           0.7766303464187901
          ],
          [
           "20230920",
           "20230920_121254_jpg.rf.5a481702322992d95635473748a2a04f.jpg_14",
           0.04921875,
           0.04609375,
           0.738832250873251
          ],
          [
           "20230920",
           "20230920_121254_jpg.rf.5a481702322992d95635473748a2a04f.jpg_15",
           0.05,
           0.034375,
           0.48985808020500327
          ],
          [
           "20230920",
           "20230920_120200_jpg.rf.ef11f6a14632bb2698a581549f332a2e.jpg_1",
           0.07890625,
           0.07109375,
           0.6615737390999916
          ],
          [
           "20230920",
           "20230920_120200_jpg.rf.ef11f6a14632bb2698a581549f332a2e.jpg_2",
           0.11875,
           0.12734375,
           0.7573830458485822
          ],
          [
           "20230920",
           "20230920_120200_jpg.rf.ef11f6a14632bb2698a581549f332a2e.jpg_3",
           0.07734375,
           0.17890625,
           0.7019974344019015
          ],
          [
           "20230920",
           "20230920_120435_jpg.rf.419e1be81409e6a9292f1207e952a737.jpg_1",
           0.13203125,
           0.0796875,
           0.7550600652775907
          ],
          [
           "20230920",
           "20230920_120435_jpg.rf.419e1be81409e6a9292f1207e952a737.jpg_2",
           0.10546875,
           0.07265625,
           0.6130966085878139
          ],
          [
           "20230920",
           "20230920_120435_jpg.rf.419e1be81409e6a9292f1207e952a737.jpg_3",
           0.09921875,
           0.11796875,
           0.7832613630033389
          ],
          [
           "20230920",
           "20230920_120435_jpg.rf.419e1be81409e6a9292f1207e952a737.jpg_4",
           0.08203125,
           0.0703125,
           0.7941214792930625
          ],
          [
           "20230920",
           "20230920_120435_jpg.rf.419e1be81409e6a9292f1207e952a737.jpg_5",
           0.09296875,
           0.190625,
           0.8241965663984521
          ],
          [
           "20230920",
           "20230920_120435_jpg.rf.419e1be81409e6a9292f1207e952a737.jpg_6",
           0.0765625,
           0.05546875,
           0.5545968603801681
          ],
          [
           "20230920",
           "20230920_120435_jpg.rf.419e1be81409e6a9292f1207e952a737.jpg_7",
           0.09375,
           0.1328125,
           0.6112017375744018
          ],
          [
           "20230920",
           "20230920_120435_jpg.rf.419e1be81409e6a9292f1207e952a737.jpg_8",
           0.05078125,
           0.08203125,
           0.7010911594935475
          ],
          [
           "20230920",
           "20230920_115221_jpg.rf.9459a138e868e1e439ebcdb97ca83f27.jpg_1",
           0.1234375,
           0.14609375,
           0.8522373853353185
          ],
          [
           "20230920",
           "20230920_115221_jpg.rf.9459a138e868e1e439ebcdb97ca83f27.jpg_2",
           0.15625,
           0.121875,
           0.783369006800361
          ],
          [
           "20230920",
           "20230920_115221_jpg.rf.9459a138e868e1e439ebcdb97ca83f27.jpg_3",
           0.0734375,
           0.1328125,
           0.6891964725296305
          ],
          [
           "20230920",
           "20230920_115221_jpg.rf.9459a138e868e1e439ebcdb97ca83f27.jpg_4",
           0.178125,
           0.1453125,
           0.8720525711378153
          ],
          [
           "20230920",
           "20230920_120343_jpg.rf.b820f35bf2ee3882aff07d887a413706.jpg_1",
           0.146875,
           0.09375,
           0.8613527120193044
          ],
          [
           "20230920",
           "20230920_120343_jpg.rf.b820f35bf2ee3882aff07d887a413706.jpg_2",
           0.10703125,
           0.0984375,
           0.6089084115838221
          ],
          [
           "20230920",
           "20230920_121238_jpg.rf.f4cdaa2d869fa9d946aa2ff52c604b75.jpg_1",
           0.09140625,
           0.1203125,
           0.7109209911587012
          ],
          [
           "20230920",
           "20230920_121238_jpg.rf.f4cdaa2d869fa9d946aa2ff52c604b75.jpg_2",
           0.103125,
           0.07109375,
           0.38074529602686324
          ],
          [
           "20230920",
           "20230920_121238_jpg.rf.f4cdaa2d869fa9d946aa2ff52c604b75.jpg_3",
           0.0703125,
           0.05234375,
           0.4753147200623347
          ],
          [
           "20230920",
           "20230920_121238_jpg.rf.f4cdaa2d869fa9d946aa2ff52c604b75.jpg_4",
           0.04921875,
           0.06484375,
           0.865977618689908
          ],
          [
           "20230920",
           "20230920_121238_jpg.rf.f4cdaa2d869fa9d946aa2ff52c604b75.jpg_5",
           0.0515625,
           0.0671875,
           0.8202572672605756
          ],
          [
           "20230920",
           "20230920_121238_jpg.rf.f4cdaa2d869fa9d946aa2ff52c604b75.jpg_6",
           0.06640625,
           0.06484375,
           0.665168774331398
          ],
          [
           "20230920",
           "20230920_121238_jpg.rf.f4cdaa2d869fa9d946aa2ff52c604b75.jpg_7",
           0.05859375,
           0.05546875,
           0.6361546920942338
          ],
          [
           "20230920",
           "20230920_121238_jpg.rf.f4cdaa2d869fa9d946aa2ff52c604b75.jpg_8",
           0.06484375,
           0.06953125,
           0.5727188262400355
          ],
          [
           "20230920",
           "20230920_121238_jpg.rf.f4cdaa2d869fa9d946aa2ff52c604b75.jpg_9",
           0.04609375,
           0.2046875,
           0.6052645364972467
          ],
          [
           "20230920",
           "20230920_121152_jpg.rf.87fc9317e349cc14f27dcc0dcb079607.jpg_1",
           0.028125,
           0.0359375,
           0.3155104091761424
          ],
          [
           "20230920",
           "20230920_121152_jpg.rf.87fc9317e349cc14f27dcc0dcb079607.jpg_2",
           0.07890625,
           0.07421875,
           0.7020303012849323
          ],
          [
           "20230920",
           "20230920_121152_jpg.rf.87fc9317e349cc14f27dcc0dcb079607.jpg_3",
           0.06484375,
           0.0640625,
           0.6442096806370755
          ],
          [
           "20230920",
           "20230920_121152_jpg.rf.87fc9317e349cc14f27dcc0dcb079607.jpg_4",
           0.09921875,
           0.0984375,
           0.6698000524391833
          ],
          [
           "20230920",
           "20230920_121152_jpg.rf.87fc9317e349cc14f27dcc0dcb079607.jpg_5",
           0.08828125,
           0.09140625,
           0.6743215493092654
          ],
          [
           "20230920",
           "20230920_121152_jpg.rf.87fc9317e349cc14f27dcc0dcb079607.jpg_6",
           0.028125,
           0.03125,
           0.21342427109658935
          ],
          [
           "20230920",
           "20230920_120659_jpg.rf.44824c79501211f070a0a41a72eeea2d.jpg_1",
           0.11640625,
           0.12734375,
           0.7771160493523107
          ],
          [
           "20230920",
           "20230920_120659_jpg.rf.44824c79501211f070a0a41a72eeea2d.jpg_2",
           0.12421875,
           0.1203125,
           0.657011540122966
          ],
          [
           "20230920",
           "20230920_120659_jpg.rf.44824c79501211f070a0a41a72eeea2d.jpg_3",
           0.1125,
           0.15703125,
           0.7522620660204397
          ],
          [
           "20230920",
           "20230920_120659_jpg.rf.44824c79501211f070a0a41a72eeea2d.jpg_4",
           0.12890625,
           0.0921875,
           0.6178929359102708
          ],
          [
           "20230920",
           "20230920_120659_jpg.rf.44824c79501211f070a0a41a72eeea2d.jpg_5",
           0.1078125,
           0.2359375,
           0.7599290671441322
          ],
          [
           "20230920",
           "20230920_121227_jpg.rf.172b8c7c392b1742a32eba22e57be743.jpg_1",
           0.0609375,
           0.05546875,
           0.11713693881218211
          ],
          [
           "20230920",
           "20230920_121227_jpg.rf.172b8c7c392b1742a32eba22e57be743.jpg_2",
           0.0703125,
           0.0453125,
           0.6456938654417905
          ],
          [
           "20230920",
           "20230920_121227_jpg.rf.172b8c7c392b1742a32eba22e57be743.jpg_3",
           0.078125,
           0.0484375,
           0.8152546805745289
          ],
          [
           "20230920",
           "20230920_121227_jpg.rf.172b8c7c392b1742a32eba22e57be743.jpg_4",
           0.08671875,
           0.06484375,
           0.7300871995244437
          ],
          [
           "20230920",
           "20230920_121227_jpg.rf.172b8c7c392b1742a32eba22e57be743.jpg_5",
           0.05546875,
           0.05625,
           0.803598227478454
          ],
          [
           "20230920",
           "20230920_121227_jpg.rf.172b8c7c392b1742a32eba22e57be743.jpg_6",
           0.1109375,
           0.06171875,
           0.5769749977619548
          ],
          [
           "20230920",
           "20230920_121227_jpg.rf.172b8c7c392b1742a32eba22e57be743.jpg_7",
           0.11015625,
           0.11015625,
           0.9270737111491321
          ],
          [
           "20230920",
           "20230920_121227_jpg.rf.172b8c7c392b1742a32eba22e57be743.jpg_8",
           0.0546875,
           0.084375,
           0.6903794192952046
          ],
          [
           "20230920",
           "20230920_121227_jpg.rf.172b8c7c392b1742a32eba22e57be743.jpg_9",
           0.0765625,
           0.0953125,
           0.619366868736578
          ],
          [
           "20230920",
           "20230920_121227_jpg.rf.172b8c7c392b1742a32eba22e57be743.jpg_10",
           0.0703125,
           0.06015625,
           0.701293212764008
          ],
          [
           "20230920",
           "20230920_121227_jpg.rf.172b8c7c392b1742a32eba22e57be743.jpg_11",
           0.090625,
           0.0796875,
           0.8323648614822532
          ],
          [
           "20230920",
           "20230920_121227_jpg.rf.172b8c7c392b1742a32eba22e57be743.jpg_12",
           0.06875,
           0.09609375,
           0.6419050250495271
          ],
          [
           "20230920",
           "20230920_121227_jpg.rf.172b8c7c392b1742a32eba22e57be743.jpg_13",
           0.01953125,
           0.14375,
           0.4677983463692281
          ],
          [
           "20230920",
           "20230920_121227_jpg.rf.172b8c7c392b1742a32eba22e57be743.jpg_14",
           0.0546875,
           0.0734375,
           0.759628381987745
          ],
          [
           "20230920",
           "20230920_121227_jpg.rf.172b8c7c392b1742a32eba22e57be743.jpg_16",
           0.040625,
           0.08671875,
           0.8671026957201983
          ],
          [
           "20230920",
           "20230920_120401_jpg.rf.a4a900143dc9f2592f2ca8d38f7721cf.jpg_1",
           0.128125,
           0.1140625,
           0.8131255354704356
          ],
          [
           "20230920",
           "20230920_120401_jpg.rf.a4a900143dc9f2592f2ca8d38f7721cf.jpg_2",
           0.16015625,
           0.10625,
           0.7813149214823251
          ],
          [
           "20230920",
           "20230920_120401_jpg.rf.a4a900143dc9f2592f2ca8d38f7721cf.jpg_3",
           0.08671875,
           0.08828125,
           0.562752334294504
          ],
          [
           "20230920",
           "20230920_120401_jpg.rf.a4a900143dc9f2592f2ca8d38f7721cf.jpg_4",
           0.096875,
           0.04609375,
           0.443140506417179
          ],
          [
           "20230920",
           "20230920_121331_jpg.rf.16bbcc96fce7751c6c789c111c18dc7c.jpg_1",
           0.08046875,
           0.04765625,
           0.6101067060151414
          ],
          [
           "20230920",
           "20230920_121331_jpg.rf.16bbcc96fce7751c6c789c111c18dc7c.jpg_2",
           0.0421875,
           0.04765625,
           0.5887343876850182
          ],
          [
           "20230920",
           "20230920_121331_jpg.rf.16bbcc96fce7751c6c789c111c18dc7c.jpg_3",
           0.04453125,
           0.0734375,
           0.5306199714248556
          ],
          [
           "20230920",
           "20230920_121331_jpg.rf.16bbcc96fce7751c6c789c111c18dc7c.jpg_4",
           0.04921875,
           0.03203125,
           0.6025870170030931
          ],
          [
           "20230920",
           "20230920_121331_jpg.rf.16bbcc96fce7751c6c789c111c18dc7c.jpg_5",
           0.05546875,
           0.03671875,
           0.7831564226793603
          ],
          [
           "20230920",
           "20230920_121331_jpg.rf.16bbcc96fce7751c6c789c111c18dc7c.jpg_6",
           0.03828125,
           0.0515625,
           0.7513515824475491
          ],
          [
           "20230920",
           "20230920_121331_jpg.rf.16bbcc96fce7751c6c789c111c18dc7c.jpg_7",
           0.04140625,
           0.10859375,
           0.6842573220713265
          ],
          [
           "20230920",
           "20230920_121331_jpg.rf.16bbcc96fce7751c6c789c111c18dc7c.jpg_9",
           0.05859375,
           0.0734375,
           0.5218427965838417
          ],
          [
           "20230920",
           "20230920_121331_jpg.rf.16bbcc96fce7751c6c789c111c18dc7c.jpg_10",
           0.04921875,
           0.0578125,
           0.7553661618056061
          ],
          [
           "20230920",
           "20230920_121331_jpg.rf.16bbcc96fce7751c6c789c111c18dc7c.jpg_13",
           0.04921875,
           0.0546875,
           0.6955226927746069
          ],
          [
           "20230920",
           "20230920_121331_jpg.rf.16bbcc96fce7751c6c789c111c18dc7c.jpg_14",
           0.040625,
           0.05390625,
           0.4347331593435739
          ],
          [
           "20230920",
           "20230920_120705_jpg.rf.c17776c4ccf0f62425d24f5d5ced0a13.jpg_1",
           0.18203125,
           0.12578125,
           0.7997886565613846
          ],
          [
           "20230920",
           "20230920_120705_jpg.rf.c17776c4ccf0f62425d24f5d5ced0a13.jpg_2",
           0.115625,
           0.0828125,
           0.8924572158934493
          ],
          [
           "20230920",
           "20230920_120705_jpg.rf.c17776c4ccf0f62425d24f5d5ced0a13.jpg_3",
           0.103125,
           0.08125,
           0.6973973812797551
          ],
          [
           "20230920",
           "20230920_120705_jpg.rf.c17776c4ccf0f62425d24f5d5ced0a13.jpg_4",
           0.1875,
           0.21015625,
           0.7986925836529688
          ],
          [
           "20230920",
           "20230920_121340_jpg.rf.c17ee50b723a95f1a39472a5c1053078.jpg_1",
           0.184375,
           0.22265625,
           0.5908973442699323
          ],
          [
           "20230920",
           "20230920_121340_jpg.rf.c17ee50b723a95f1a39472a5c1053078.jpg_2",
           0.071875,
           0.09921875,
           0.7003957734101496
          ],
          [
           "20230920",
           "20230920_121404_jpg.rf.ac5af154802fe7370c8676409f2fdfc2.jpg_1",
           0.07109375,
           0.05859375,
           0.789466313632938
          ],
          [
           "20230920",
           "20230920_121404_jpg.rf.ac5af154802fe7370c8676409f2fdfc2.jpg_2",
           0.03828125,
           0.08671875,
           0.544349702680635
          ],
          [
           "20230920",
           "20230920_121404_jpg.rf.ac5af154802fe7370c8676409f2fdfc2.jpg_3",
           0.05546875,
           0.0640625,
           0.6643087487368522
          ],
          [
           "20230920",
           "20230920_121404_jpg.rf.ac5af154802fe7370c8676409f2fdfc2.jpg_4",
           0.0625,
           0.06640625,
           0.7036455779036043
          ],
          [
           "20230920",
           "20230920_121404_jpg.rf.ac5af154802fe7370c8676409f2fdfc2.jpg_5",
           0.06484375,
           0.06953125,
           0.709027441963258
          ],
          [
           "20230920",
           "20230920_121404_jpg.rf.ac5af154802fe7370c8676409f2fdfc2.jpg_6",
           0.04453125,
           0.1,
           0.6261867162820548
          ],
          [
           "20230920",
           "20230920_121404_jpg.rf.ac5af154802fe7370c8676409f2fdfc2.jpg_7",
           0.04453125,
           0.0765625,
           0.6060475522423117
          ],
          [
           "20230920",
           "20230920_121050_jpg.rf.5ab29f9f1b3fb1672c641857767257ff.jpg_1",
           0.1671875,
           0.24765625,
           0.5819114414978687
          ],
          [
           "20230920",
           "20230920_121050_jpg.rf.5ab29f9f1b3fb1672c641857767257ff.jpg_2",
           0.184375,
           0.215625,
           0.7191259344744904
          ],
          [
           "20230920",
           "20230920_121050_jpg.rf.5ab29f9f1b3fb1672c641857767257ff.jpg_3",
           0.0484375,
           0.18828125,
           0.7957125697558276
          ],
          [
           "20230920",
           "20230920_121050_jpg.rf.5ab29f9f1b3fb1672c641857767257ff.jpg_4",
           0.05703125,
           0.0609375,
           0.6743148262393068
          ],
          [
           "20230920",
           "20230920_115121_jpg.rf.df6003b620f742b4cbd61ce7b14a2eee.jpg_1",
           0.115625,
           0.17265625,
           0.390486333567854
          ],
          [
           "20230920",
           "20230920_115121_jpg.rf.df6003b620f742b4cbd61ce7b14a2eee.jpg_2",
           0.15234375,
           0.23828125,
           0.842741518476674
          ],
          [
           "20230920",
           "20230920_115121_jpg.rf.df6003b620f742b4cbd61ce7b14a2eee.jpg_3",
           0.0859375,
           0.071875,
           0.8589792285052216
          ],
          [
           "20230920",
           "20230920_120145_jpg.rf.f8d5be583833dee34b1693f166a07f2f.jpg_1",
           0.09453125,
           0.08671875,
           0.8284592267959286
          ],
          [
           "20230920",
           "20230920_120145_jpg.rf.f8d5be583833dee34b1693f166a07f2f.jpg_2",
           0.0796875,
           0.10703125,
           0.6173390927613277
          ],
          [
           "20230920",
           "20230920_120145_jpg.rf.f8d5be583833dee34b1693f166a07f2f.jpg_3",
           0.07890625,
           0.13046875,
           0.7334829727698265
          ],
          [
           "20230920",
           "20230920_120145_jpg.rf.f8d5be583833dee34b1693f166a07f2f.jpg_4",
           0.1046875,
           0.10234375,
           0.6954815535788811
          ],
          [
           "20230920",
           "20230920_115255_jpg.rf.f14d9509f9f4e78baa818bd82f1fe806.jpg_1",
           0.11171875,
           0.090625,
           0.7420633582973816
          ],
          [
           "20230920",
           "20230920_115255_jpg.rf.f14d9509f9f4e78baa818bd82f1fe806.jpg_2",
           0.12265625,
           0.134375,
           0.6745928899818618
          ],
          [
           "20230920",
           "20230920_115255_jpg.rf.f14d9509f9f4e78baa818bd82f1fe806.jpg_3",
           0.0984375,
           0.05,
           0.6030742880176465
          ],
          [
           "20230920",
           "20230920_115255_jpg.rf.f14d9509f9f4e78baa818bd82f1fe806.jpg_4",
           0.1625,
           0.11484375,
           0.7035562034585143
          ],
          [
           "20230920",
           "20230920_115255_jpg.rf.f14d9509f9f4e78baa818bd82f1fe806.jpg_5",
           0.11328125,
           0.046875,
           0.6858383717114116
          ],
          [
           "20230920",
           "20230920_115255_jpg.rf.f14d9509f9f4e78baa818bd82f1fe806.jpg_6",
           0.05703125,
           0.17109375,
           0.58657399483706
          ],
          [
           "20230920",
           "20230920_115255_jpg.rf.f14d9509f9f4e78baa818bd82f1fe806.jpg_7",
           0.09609375,
           0.06640625,
           0.6069734104069455
          ],
          [
           "20230920",
           "20230920_115255_jpg.rf.f14d9509f9f4e78baa818bd82f1fe806.jpg_8",
           0.07890625,
           0.0640625,
           0.8166032663854635
          ],
          [
           "20230920",
           "20230920_121453_jpg.rf.37c2dd0f5a9f9cba4e7ecfca46a7b4aa.jpg_1",
           0.0796875,
           0.07890625,
           0.7055667622746792
          ],
          [
           "20230920",
           "20230920_121453_jpg.rf.37c2dd0f5a9f9cba4e7ecfca46a7b4aa.jpg_2",
           0.0625,
           0.07109375,
           0.6097138571188969
          ],
          [
           "20230920",
           "20230920_121453_jpg.rf.37c2dd0f5a9f9cba4e7ecfca46a7b4aa.jpg_3",
           0.0875,
           0.09140625,
           0.5647520171864878
          ],
          [
           "20230920",
           "20230920_121453_jpg.rf.37c2dd0f5a9f9cba4e7ecfca46a7b4aa.jpg_4",
           0.06484375,
           0.05390625,
           0.7622434525497892
          ],
          [
           "20230920",
           "20230920_121453_jpg.rf.37c2dd0f5a9f9cba4e7ecfca46a7b4aa.jpg_5",
           0.05546875,
           0.06328125,
           0.5457157868971826
          ],
          [
           "20230920",
           "20230920_121453_jpg.rf.37c2dd0f5a9f9cba4e7ecfca46a7b4aa.jpg_6",
           0.0390625,
           0.1296875,
           0.9190060735754212
          ],
          [
           "20230920",
           "20230920_121453_jpg.rf.37c2dd0f5a9f9cba4e7ecfca46a7b4aa.jpg_7",
           0.053125,
           0.053125,
           0.6842882822267541
          ],
          [
           "20230920",
           "20230920_121453_jpg.rf.37c2dd0f5a9f9cba4e7ecfca46a7b4aa.jpg_8",
           0.053125,
           0.0640625,
           0.7793902919948807
          ],
          [
           "20230920",
           "20230920_121453_jpg.rf.37c2dd0f5a9f9cba4e7ecfca46a7b4aa.jpg_9",
           0.05078125,
           0.07265625,
           0.6798078331449188
          ],
          [
           "20230920",
           "20230920_120821_jpg.rf.67b5ad15c4ee2e43be62c12719908a06.jpg_1",
           0.1078125,
           0.159375,
           0.796083922582433
          ],
          [
           "20230920",
           "20230920_120821_jpg.rf.67b5ad15c4ee2e43be62c12719908a06.jpg_2",
           0.1296875,
           0.09296875,
           0.6458406647203676
          ],
          [
           "20230920",
           "20230920_120821_jpg.rf.67b5ad15c4ee2e43be62c12719908a06.jpg_3",
           0.103125,
           0.06640625,
           0.7773370409023944
          ],
          [
           "20230920",
           "20230920_120821_jpg.rf.67b5ad15c4ee2e43be62c12719908a06.jpg_4",
           0.0875,
           0.078125,
           0.8206592947391296
          ],
          [
           "20230920",
           "20230920_120821_jpg.rf.67b5ad15c4ee2e43be62c12719908a06.jpg_5",
           0.07421875,
           0.06171875,
           0.7526206872996515
          ],
          [
           "20230920",
           "20230920_120821_jpg.rf.67b5ad15c4ee2e43be62c12719908a06.jpg_6",
           0.10234375,
           0.0546875,
           0.8348695292905025
          ],
          [
           "20230920",
           "20230920_120406_jpg.rf.b2d1f60c361dc5308add4b2701348ac2.jpg_1",
           0.1,
           0.128125,
           0.719544184086811
          ],
          [
           "20230920",
           "20230920_120406_jpg.rf.b2d1f60c361dc5308add4b2701348ac2.jpg_2",
           0.07890625,
           0.07890625,
           0.7203698634131668
          ],
          [
           "20230920",
           "20230920_120406_jpg.rf.b2d1f60c361dc5308add4b2701348ac2.jpg_3",
           0.1015625,
           0.3453125,
           0.9303464678697458
          ],
          [
           "20230920",
           "20230920_120406_jpg.rf.b2d1f60c361dc5308add4b2701348ac2.jpg_4",
           0.0984375,
           0.065625,
           0.8740950390782265
          ],
          [
           "20230920",
           "20230920_120406_jpg.rf.b2d1f60c361dc5308add4b2701348ac2.jpg_5",
           0.1328125,
           0.10703125,
           0.7500733607435828
          ],
          [
           "20230920",
           "20230920_120406_jpg.rf.b2d1f60c361dc5308add4b2701348ac2.jpg_6",
           0.09296875,
           0.05234375,
           0.7900090139353363
          ],
          [
           "20230920",
           "20230920_120406_jpg.rf.b2d1f60c361dc5308add4b2701348ac2.jpg_7",
           0.11015625,
           0.07265625,
           0.8387759696343
          ],
          [
           "20230920",
           "20230920_120406_jpg.rf.b2d1f60c361dc5308add4b2701348ac2.jpg_8",
           0.075,
           0.140625,
           0.49472254100926777
          ],
          [
           "20230920",
           "20230920_120414_jpg.rf.46116904f72cc466f3f8e708cd2f54a9.jpg_1",
           0.1828125,
           0.12109375,
           0.6797729485723595
          ],
          [
           "20230920",
           "20230920_120414_jpg.rf.46116904f72cc466f3f8e708cd2f54a9.jpg_2",
           0.125,
           0.08125,
           0.8644617786723763
          ],
          [
           "20230920",
           "20230920_120414_jpg.rf.46116904f72cc466f3f8e708cd2f54a9.jpg_3",
           0.1328125,
           0.11015625,
           0.8771829275991475
          ],
          [
           "20230920",
           "20230920_120414_jpg.rf.46116904f72cc466f3f8e708cd2f54a9.jpg_4",
           0.08671875,
           0.1,
           0.7308703876739104
          ],
          [
           "20230920",
           "20230920_120414_jpg.rf.46116904f72cc466f3f8e708cd2f54a9.jpg_5",
           0.13515625,
           0.103125,
           0.8504443999460541
          ],
          [
           "20230920",
           "20230920_120414_jpg.rf.46116904f72cc466f3f8e708cd2f54a9.jpg_6",
           0.103125,
           0.1265625,
           0.7220613400402864
          ],
          [
           "20230920",
           "20230920_120414_jpg.rf.46116904f72cc466f3f8e708cd2f54a9.jpg_7",
           0.09453125,
           0.0875,
           0.8470921727516562
          ],
          [
           "20230920",
           "20230920_120414_jpg.rf.46116904f72cc466f3f8e708cd2f54a9.jpg_8",
           0.08671875,
           0.08671875,
           0.7544841058198745
          ],
          [
           "20230920",
           "20230920_115139_jpg.rf.761818f564969034a681576ebd3c92a6.jpg_1",
           0.1484375,
           0.2078125,
           0.4855034375843945
          ],
          [
           "20230920",
           "20230920_115139_jpg.rf.761818f564969034a681576ebd3c92a6.jpg_2",
           0.2046875,
           0.2125,
           0.8856956778813949
          ],
          [
           "20230920",
           "20230920_115139_jpg.rf.761818f564969034a681576ebd3c92a6.jpg_3",
           0.165625,
           0.15078125,
           0.7791901435241814
          ],
          [
           "20230920",
           "20230920_115139_jpg.rf.761818f564969034a681576ebd3c92a6.jpg_4",
           0.04375,
           0.171875,
           0.74647977898242
          ],
          [
           "20230920",
           "20230920_121322_jpg.rf.6bfb8a559d25a0c645c3d7a487c7574a.jpg_1",
           0.09375,
           0.084375,
           0.7350317412341346
          ],
          [
           "20230920",
           "20230920_121322_jpg.rf.6bfb8a559d25a0c645c3d7a487c7574a.jpg_2",
           0.05625,
           0.08828125,
           0.649538404457517
          ],
          [
           "20230920",
           "20230920_121322_jpg.rf.6bfb8a559d25a0c645c3d7a487c7574a.jpg_3",
           0.04140625,
           0.06796875,
           0.733228148934222
          ],
          [
           "20230920",
           "20230920_121322_jpg.rf.6bfb8a559d25a0c645c3d7a487c7574a.jpg_4",
           0.0625,
           0.05625,
           0.6801452299115387
          ],
          [
           "20230920",
           "20230920_121322_jpg.rf.6bfb8a559d25a0c645c3d7a487c7574a.jpg_5",
           0.05390625,
           0.05859375,
           0.5736118819617879
          ],
          [
           "20230920",
           "20230920_121322_jpg.rf.6bfb8a559d25a0c645c3d7a487c7574a.jpg_6",
           0.06484375,
           0.08671875,
           0.8284715573614632
          ],
          [
           "20230920",
           "20230920_121322_jpg.rf.6bfb8a559d25a0c645c3d7a487c7574a.jpg_7",
           0.07578125,
           0.05859375,
           0.5925243502879115
          ],
          [
           "20230920",
           "20230920_121322_jpg.rf.6bfb8a559d25a0c645c3d7a487c7574a.jpg_8",
           0.06484375,
           0.2578125,
           0.5872965610144475
          ],
          [
           "20230920",
           "20230920_121322_jpg.rf.6bfb8a559d25a0c645c3d7a487c7574a.jpg_10",
           0.084375,
           0.05625,
           0.65588610450717
          ],
          [
           "20230920",
           "20230920_115022_jpg.rf.7aeece2eb946ad2174ed2e4e7e7f1973.jpg_1",
           0.075,
           0.1796875,
           0.7416995751794185
          ],
          [
           "20230920",
           "20230920_115022_jpg.rf.7aeece2eb946ad2174ed2e4e7e7f1973.jpg_2",
           0.08984375,
           0.1578125,
           0.8825023327410884
          ],
          [
           "20230920",
           "20230920_115022_jpg.rf.7aeece2eb946ad2174ed2e4e7e7f1973.jpg_3",
           0.0828125,
           0.0734375,
           0.7353324306951236
          ],
          [
           "20230920",
           "20230920_115022_jpg.rf.7aeece2eb946ad2174ed2e4e7e7f1973.jpg_5",
           0.08515625,
           0.08359375,
           0.7184130820721756
          ],
          [
           "20230920",
           "20230920_115022_jpg.rf.7aeece2eb946ad2174ed2e4e7e7f1973.jpg_6",
           0.0484375,
           0.09453125,
           0.6148737457802385
          ],
          [
           "20230920",
           "20230920_115022_jpg.rf.7aeece2eb946ad2174ed2e4e7e7f1973.jpg_7",
           0.05625,
           0.13203125,
           0.7081559775159616
          ],
          [
           "20230920",
           "20230920_120819_jpg.rf.6a191c82cd503355880514a856c052a9.jpg_1",
           0.0859375,
           0.059375,
           0.7295990594291709
          ],
          [
           "20230920",
           "20230920_120819_jpg.rf.6a191c82cd503355880514a856c052a9.jpg_2",
           0.1390625,
           0.109375,
           0.7162263654314731
          ],
          [
           "20230920",
           "20230920_120819_jpg.rf.6a191c82cd503355880514a856c052a9.jpg_3",
           0.1421875,
           0.1015625,
           0.7596799330707378
          ],
          [
           "20230920",
           "20230920_120819_jpg.rf.6a191c82cd503355880514a856c052a9.jpg_4",
           0.0625,
           0.09921875,
           0.5425297919080507
          ],
          [
           "20230920",
           "20230920_120819_jpg.rf.6a191c82cd503355880514a856c052a9.jpg_5",
           0.0796875,
           0.07578125,
           0.6567914094096483
          ],
          [
           "20230920",
           "20230920_120430_jpg.rf.cc61f9828d6fb902cdccab4d0eb6f9ee.jpg_1",
           0.09453125,
           0.0796875,
           0.5081064959793465
          ],
          [
           "20230920",
           "20230920_120430_jpg.rf.cc61f9828d6fb902cdccab4d0eb6f9ee.jpg_2",
           0.059375,
           0.19765625,
           0.7277639062087395
          ],
          [
           "20230920",
           "20230920_120430_jpg.rf.cc61f9828d6fb902cdccab4d0eb6f9ee.jpg_3",
           0.0984375,
           0.09765625,
           0.6628793647676977
          ],
          [
           "20230920",
           "20230920_120430_jpg.rf.cc61f9828d6fb902cdccab4d0eb6f9ee.jpg_4",
           0.08125,
           0.13671875,
           0.7141935136996534
          ],
          [
           "20230920",
           "20230920_120430_jpg.rf.cc61f9828d6fb902cdccab4d0eb6f9ee.jpg_5",
           0.1015625,
           0.08515625,
           0.7041148553409826
          ],
          [
           "20230920",
           "20230920_120430_jpg.rf.cc61f9828d6fb902cdccab4d0eb6f9ee.jpg_6",
           0.08046875,
           0.0765625,
           0.7732799769633768
          ],
          [
           "20230920",
           "20230920_120430_jpg.rf.cc61f9828d6fb902cdccab4d0eb6f9ee.jpg_7",
           0.0734375,
           0.07890625,
           0.6368081212160513
          ]
         ],
         "hovertemplate": "<b>✅ Detected Prawn</b><br>Image: %{customdata[0]}<br>Prawn ID: %{customdata[1]}<br>Area: %{y:.6f}<br>Width: %{customdata[2]:.6f}<br>Height: %{customdata[3]:.6f}<br>IoU: %{customdata[4]:.3f}<br><extra></extra>",
         "marker": {
          "color": "green",
          "opacity": 0.7,
          "size": 6
         },
         "mode": "markers",
         "name": "✅ Detected (TP)",
         "type": "scatter",
         "x": [
          0,
          1,
          2,
          3,
          4,
          5,
          6,
          7,
          8,
          9,
          10,
          11,
          12,
          13,
          14,
          15,
          16,
          17,
          18,
          19,
          20,
          21,
          22,
          23,
          24,
          25,
          26,
          27,
          28,
          29,
          30,
          31,
          32,
          33,
          34,
          35,
          36,
          37,
          38,
          40,
          41,
          42,
          43,
          44,
          45,
          46,
          47,
          48,
          49,
          50,
          51,
          52,
          53,
          54,
          55,
          56,
          57,
          58,
          59,
          60,
          61,
          62,
          66,
          67,
          68,
          69,
          70,
          71,
          72,
          73,
          74,
          75,
          76,
          78,
          80,
          81,
          83,
          84,
          85,
          86,
          87,
          88,
          90,
          91,
          92,
          93,
          94,
          95,
          96,
          97,
          98,
          99,
          100,
          101,
          102,
          103,
          104,
          105,
          106,
          107,
          108,
          109,
          111,
          112,
          113,
          114,
          115,
          116,
          117,
          118,
          119,
          120,
          121,
          122,
          123,
          124,
          125,
          126,
          127,
          128,
          129,
          130,
          131,
          132,
          133,
          135,
          136,
          137,
          138,
          139,
          140,
          141,
          142,
          143,
          144,
          145,
          146,
          150,
          151,
          152,
          153,
          154,
          155,
          156,
          157,
          158,
          160,
          161,
          163,
          164,
          165,
          166,
          167,
          168,
          169,
          170,
          172,
          173,
          174,
          175,
          176,
          177,
          178,
          180,
          181,
          182,
          183,
          184,
          185,
          186,
          187,
          189,
          190,
          193,
          194,
          195,
          196,
          197,
          198,
          199,
          200,
          201,
          204,
          205,
          206,
          207,
          208,
          209,
          210,
          211,
          212,
          213,
          214,
          215,
          216,
          217,
          218,
          219,
          220,
          221,
          222,
          223,
          224,
          225,
          226,
          227,
          228,
          229,
          230,
          232,
          233,
          234,
          235,
          236,
          237,
          238,
          239,
          240,
          241,
          242,
          243,
          244,
          245,
          246,
          247,
          248,
          249,
          250,
          251,
          252,
          253,
          254,
          255,
          256,
          257,
          258,
          259,
          260,
          261,
          262,
          263,
          264,
          265,
          266,
          267,
          268,
          269,
          270,
          271,
          272,
          273,
          274,
          275,
          276,
          277,
          278,
          279,
          280,
          281,
          282,
          283,
          284,
          285,
          286,
          287,
          289,
          290,
          292,
          293,
          294,
          295,
          296,
          297,
          298,
          299,
          300,
          301,
          302,
          304,
          305,
          306,
          307,
          308,
          309,
          313,
          317,
          318,
          320,
          321,
          322,
          323,
          324,
          325,
          326,
          330,
          331,
          332,
          333,
          334,
          335,
          336,
          338,
          339,
          340,
          341,
          342,
          343,
          344,
          345,
          346,
          347,
          348,
          349,
          350,
          351,
          352,
          353,
          354,
          355,
          356,
          357,
          358,
          359,
          361,
          362,
          368,
          369,
          370,
          373,
          374,
          375,
          376,
          377,
          378,
          379,
          380,
          381,
          382,
          383,
          385,
          387,
          388,
          389,
          390,
          391,
          392,
          393,
          394,
          395,
          396,
          397,
          398,
          399,
          400,
          401,
          402,
          403,
          404,
          405,
          406,
          407,
          408,
          409,
          410,
          411,
          412,
          413,
          414,
          415,
          416,
          417,
          418,
          419,
          420,
          422,
          423,
          424,
          425,
          426,
          427,
          428,
          429,
          430,
          431,
          432,
          433,
          434,
          435,
          436,
          437,
          438,
          439,
          440,
          442,
          443,
          444,
          445,
          446,
          447,
          448,
          449,
          450,
          451,
          452,
          453,
          455,
          456,
          459,
          460,
          462,
          463,
          464,
          465,
          466,
          467,
          468,
          469,
          470,
          471,
          472,
          473,
          474,
          476,
          477,
          478,
          479,
          480,
          481,
          482,
          483,
          484,
          485,
          486,
          487,
          488,
          489,
          490,
          491,
          492,
          493,
          494,
          495,
          496,
          497,
          498,
          499,
          500,
          501,
          502,
          503,
          505,
          506,
          507,
          508,
          509,
          510,
          511,
          512,
          513,
          514,
          515,
          516,
          517,
          518,
          519,
          520,
          521,
          522,
          523,
          524,
          525,
          526,
          528,
          529,
          530,
          531,
          532,
          533,
          534,
          535,
          536,
          537,
          538,
          539,
          541,
          542,
          543,
          544,
          546,
          547,
          548,
          549,
          550,
          551,
          552,
          553,
          554,
          555,
          556,
          557,
          558,
          559,
          560
         ],
         "xaxis": "x",
         "y": [
          0.007994384765625,
          0.01965576171875,
          0.02213134765625,
          0.035657958984375,
          0.003076171875,
          0.014556884765625,
          0.00523681640625,
          0.008805541992187499,
          0.0052636718750000006,
          0.007946777343750001,
          0.0038067626953124994,
          0.0075640869140625,
          0.00662109375,
          0.010000000000000002,
          0.008046875,
          0.0055865478515625,
          0.0048944091796875,
          0.00573486328125,
          0.007014160156250001,
          0.0081488037109375,
          0.00335693359375,
          0.0202117919921875,
          0.0120208740234375,
          0.011173095703125,
          0.050625,
          0.006331787109375,
          0.027784423828125,
          0.017501220703124997,
          0.014263916015625001,
          0.007432250976562501,
          0.015585937499999999,
          0.0053466796875,
          0.00968017578125,
          0.009265136718749999,
          0.005540771484375,
          0.007015991210937499,
          0.007166748046875001,
          0.003150634765625,
          0.005655517578125,
          0.028328247070312503,
          0.013824462890625,
          0.01666259765625,
          0.025028076171875,
          0.009345703124999999,
          0.027589111328125,
          0.004541015625,
          0.0048846435546875,
          0.010981445312500001,
          0.011712646484375,
          0.0174609375,
          0.027773437499999998,
          0.007584228515625,
          0.005189208984375,
          0.007926635742187499,
          0.00910400390625,
          0.00364990234375,
          0.00855224609375,
          0.017175292968750002,
          0.0021270751953124997,
          0.00439453125,
          0.006008300781249999,
          0.005196533203125,
          0.00253173828125,
          0.017043457031249997,
          0.00578369140625,
          0.0109552001953125,
          0.013740234375,
          0.0032501220703125,
          0.005616455078125,
          0.006344604492187499,
          0.0038439941406250002,
          0.0033801269531249997,
          0.00158203125,
          0.001962890625,
          0.000701904296875,
          0.0014904785156249999,
          0.00797607421875,
          0.0048193359375000005,
          0.017741699218749997,
          0.010089111328125,
          0.005406494140625,
          0.03413330078125,
          0.005306396484375,
          0.0154693603515625,
          0.018046874999999997,
          0.004766845703125,
          0.00504638671875,
          0.010511474609375002,
          0.0080419921875,
          0.015313720703125,
          0.0074420166015624995,
          0.004991455078125,
          0.0088751220703125,
          0.01837158203125,
          0.010083007812500001,
          0.004443359375,
          0.00823974609375,
          0.00715087890625,
          0.009578857421875002,
          0.0018310546875,
          0.008265380859375,
          0.0047735595703125005,
          0.0037353515624999997,
          0.01456787109375,
          0.005093994140625,
          0.0096435546875,
          0.01553955078125,
          0.0211181640625,
          0.012640380859375,
          0.0092041015625,
          0.005303955078125,
          0.01039306640625,
          0.00311279296875,
          0.003564453125,
          0.0035650634765625002,
          0.00404296875,
          0.00538330078125,
          0.0050921630859375,
          0.003564453125,
          0.004229736328125,
          0.003453369140625,
          0.0060302734375,
          0.0038562011718749995,
          0.0026580810546875003,
          0.0028564453125000003,
          0.025656738281250004,
          0.009143066406249999,
          0.009160156249999999,
          0.0052099609375,
          0.015460205078125,
          0.011279296874999999,
          0.0061767578125,
          0.004248046875,
          0.0038500976562500003,
          0.0031787109375000003,
          0.0066796875,
          0.01740234375,
          0.01081298828125,
          0.015551147460937501,
          0.008245849609375,
          0.0072216796875,
          0.0025390625,
          0.006201171875,
          0.00567626953125,
          0.01285400390625,
          0.006534423828124999,
          0.007412109374999999,
          0.00919921875,
          0.0176239013671875,
          0.012963867187499999,
          0.00890625,
          0.0302490234375,
          0.020058593750000003,
          0.017666015625000003,
          0.006922607421874999,
          0.0048876953125,
          0.0102740478515625,
          0.0183056640625,
          0.00755859375,
          0.0100946044921875,
          0.0123333740234375,
          0.0103515625,
          0.007283935546874999,
          0.09154296875,
          0.004471435546875,
          0.002227783203125,
          0.0062042236328124995,
          0.0044921875,
          0.00509765625,
          0.00585205078125,
          0.016109619140625003,
          0.0027178955078124996,
          0.0023455810546875,
          0.023574218749999997,
          0.00849609375,
          0.0055450439453125005,
          0.00362548828125,
          0.013842773437499999,
          0.01190185546875,
          0.009335327148437501,
          0.009681396484375,
          0.00476806640625,
          0.049182128906250004,
          0.020830078125000002,
          0.01109375,
          0.010595703125,
          0.018902587890625,
          0.0113433837890625,
          0.00587890625,
          0.00855224609375,
          0.004654541015625,
          0.007994384765625,
          0.012718505859375,
          0.012483520507812502,
          0.0085491943359375,
          0.021551513671874998,
          0.00439453125,
          0.0072247314453125,
          0.01799560546875,
          0.0089263916015625,
          0.005693359375,
          0.00498046875,
          0.00634765625,
          0.004332275390624999,
          0.004833984375,
          0.003216552734375,
          0.0039453125,
          0.0025122070312500002,
          0.005438232421875,
          0.0016912841796875,
          0.0019775390625000003,
          0.008419189453125,
          0.00811767578125,
          0.008818359375,
          0.013912353515624998,
          0.041981201171874996,
          0.005592651367187501,
          0.01056884765625,
          0.00469970703125,
          0.023089599609374997,
          0.0024224853515625,
          0.0076593017578125,
          0.011601562500000002,
          0.019835815429687497,
          0.03122314453125,
          0.005446777343749999,
          0.009158935546875,
          0.00477294921875,
          0.0042913818359375,
          0.011279296875,
          0.005078125,
          0.008930664062500001,
          0.0063720703124999995,
          0.0097564697265625,
          0.006767578125,
          0.0092926025390625,
          0.004969482421875001,
          0.0043487548828125,
          0.004154052734375,
          0.00677490234375,
          0.0027777099609375,
          0.0055902099609375,
          0.032470703125,
          0.04921875,
          0.006965942382812501,
          0.11708740234375,
          0.0100439453125,
          0.006518554687500001,
          0.004713134765625,
          0.0047149658203125,
          0.0062622070312500005,
          0.044150390624999994,
          0.011201171875,
          0.00431396484375,
          0.016741943359375,
          0.012060546875,
          0.0037084960937500003,
          0.004332275390624999,
          0.002308349609375,
          0.0032135009765625,
          0.00336181640625,
          0.002490234375,
          0.0029296875,
          0.0018676757812499999,
          0.001640625,
          0.0035455322265625,
          0.0044647216796875,
          0.01815673828125,
          0.017534179687500002,
          0.01026611328125,
          0.0065161132812499994,
          0.004427490234375,
          0.007745361328125,
          0.0052178955078125006,
          0.00331298828125,
          0.0037298583984374995,
          0.0052294921874999995,
          0.008217773437500001,
          0.0039825439453125,
          0.0035534667968749995,
          0.0028027343749999997,
          0.0023309326171875003,
          0.00150390625,
          0.0017687988281249998,
          0.00494384765625,
          0.011690063476562498,
          0.0025842285156249998,
          0.005111083984375,
          0.00505859375,
          0.00273681640625,
          0.0016754150390625,
          0.0054327392578125,
          0.0030267333984374998,
          0.0048779296875,
          0.008036499023437501,
          0.006494140625,
          0.0140625,
          0.0064361572265625,
          0.00562255859375,
          0.003575439453125,
          0.003997802734375,
          0.005877685546875,
          0.004956054687499999,
          0.0052685546875000005,
          0.008265380859375,
          0.0029895019531250002,
          0.0052734375,
          0.004356689453125001,
          0.00319580078125,
          0.005603027343750001,
          0.0046484375,
          0.0028875732421875,
          0.003662109375,
          0.0041357421875,
          0.00301513671875,
          0.01973388671875,
          0.0072088623046875,
          0.005947265624999999,
          0.0034606933593749997,
          0.0030395507812500003,
          0.0035400390625,
          0.003570556640625,
          0.001475830078125,
          0.0098419189453125,
          0.00238037109375,
          0.00201416015625,
          0.004310302734374999,
          0.00479248046875,
          0.00140380859375,
          0.0050445556640624995,
          0.004443359375,
          0.002001953125,
          0.0019042968750000002,
          0.0007904052734375001,
          0.0035192871093750002,
          0.0158807373046875,
          0.004212646484375,
          0.010806884765625,
          0.0022265625000000002,
          0.0020703125,
          0.0022686767578125,
          0.0017187500000000002,
          0.0056097412109375,
          0.0151220703125,
          0.0138372802734375,
          0.010521240234374998,
          0.007662963867187501,
          0.011704711914062499,
          0.005767822265625,
          0.01772216796875,
          0.004246826171875,
          0.012451171875,
          0.0041656494140625,
          0.018033447265625,
          0.01904296875,
          0.00975341796875,
          0.025883789062500002,
          0.013769531250000001,
          0.010535888671874999,
          0.010997314453125,
          0.007331542968749999,
          0.0036804199218750003,
          0.0031915283203125004,
          0.00346435546875,
          0.004306030273437501,
          0.0032501220703125,
          0.0045086669921875,
          0.009434814453125,
          0.0010107421875,
          0.0058563232421875,
          0.004154052734375,
          0.009766845703124999,
          0.0080694580078125,
          0.00087890625,
          0.0148236083984375,
          0.014945068359375,
          0.017666015625000003,
          0.011883544921875001,
          0.02543701171875,
          0.0033801269531249997,
          0.0031860351562499997,
          0.0037841796875,
          0.005623168945312501,
          0.0031201171875,
          0.0068469238281249995,
          0.0121343994140625,
          0.0046142578125000005,
          0.00729736328125,
          0.004229736328125,
          0.0072216796875,
          0.0066064453125000006,
          0.0028076171875,
          0.00401611328125,
          0.00352294921875,
          0.014614257812499998,
          0.0170166015625,
          0.0076556396484375,
          0.004465332031250001,
          0.0038348388671875,
          0.002010498046875,
          0.0032702636718750003,
          0.0015765380859375,
          0.0020367431640625,
          0.001973876953125,
          0.0044964599609375,
          0.004302978515625,
          0.002845458984375,
          0.002691650390625,
          0.00218994140625,
          0.022896118164062503,
          0.0095751953125,
          0.00837890625,
          0.039404296874999994,
          0.04105224609375,
          0.007131347656249999,
          0.0041656494140625,
          0.0033197021484375,
          0.0035534667968749995,
          0.004150390625,
          0.0045086669921875,
          0.0044531250000000005,
          0.0034094238281250004,
          0.041405029296875,
          0.03975585937500001,
          0.009119873046875001,
          0.003475341796875,
          0.019963378906250002,
          0.0363006591796875,
          0.006176757812499999,
          0.0081976318359375,
          0.008529052734374999,
          0.0102947998046875,
          0.010714111328125,
          0.01012451171875,
          0.016481933593749998,
          0.004921875,
          0.018662109375,
          0.00531005859375,
          0.009757690429687499,
          0.006381225585937501,
          0.005054931640625,
          0.006287841796875,
          0.004443359375,
          0.007998046875,
          0.0034954833984375006,
          0.0035101318359375,
          0.00506591796875,
          0.0028222656249999997,
          0.0034033203124999994,
          0.0036895751953125,
          0.0171826171875,
          0.012056884765625001,
          0.006848144531249999,
          0.0068359375,
          0.0045806884765625,
          0.005596923828125,
          0.0128125,
          0.0062261962890624994,
          0.03507080078125,
          0.0064599609375,
          0.014215087890624999,
          0.0048663330078125,
          0.0080035400390625,
          0.010546874999999999,
          0.022137451171875,
          0.01015625,
          0.014630126953125,
          0.008671875,
          0.013937988281249999,
          0.013051757812499998,
          0.008271484374999999,
          0.0075201416015625,
          0.030847167968750002,
          0.04349609375,
          0.02497314453125,
          0.007519531249999999,
          0.007910156250000001,
          0.004965820312500001,
          0.0028143310546874995,
          0.003515625,
          0.0031585693359375,
          0.005623168945312501,
          0.0044403076171875,
          0.016717529296875002,
          0.00474609375,
          0.013476562499999999,
          0.014178466796874999,
          0.00608154296875,
          0.0071185302734375,
          0.004578857421875,
          0.0074267578124999995,
          0.0051025390625,
          0.015209960937500001,
          0.01444091796875,
          0.006201171875,
          0.006038818359374999,
          0.007532958984374999,
          0.01173583984375,
          0.009613037109375,
          0.0111083984375,
          0.008648681640625001,
          0.006160888671875001,
          0.005794677734375
         ],
         "yaxis": "y"
        },
        {
         "customdata": [
          [
           "20230920",
           "20230920_120425_jpg.rf.f3d9a39cfeb1b2857480894f05663172.jpg_8",
           0.0828125,
           0.06953125,
           0
          ],
          [
           "20230920",
           "20230920_121213_jpg.rf.638b72a42e4db7183e192536efd0057a.jpg_10",
           0.04296875,
           0.06328125,
           0
          ],
          [
           "20230920",
           "20230920_121213_jpg.rf.638b72a42e4db7183e192536efd0057a.jpg_11",
           0.053125,
           0.046875,
           0
          ],
          [
           "20230920",
           "20230920_121213_jpg.rf.638b72a42e4db7183e192536efd0057a.jpg_12",
           0.0390625,
           0.0640625,
           0
          ],
          [
           "20230920",
           "20230920_121350_jpg.rf.f370cf442ca2cbc08b84f2617904e446.jpg_10",
           0.03828125,
           0.05546875,
           0
          ],
          [
           "20230920",
           "20230920_121350_jpg.rf.f370cf442ca2cbc08b84f2617904e446.jpg_12",
           0.0546875,
           0.046875,
           0
          ],
          [
           "20230920",
           "20230920_121350_jpg.rf.f370cf442ca2cbc08b84f2617904e446.jpg_15",
           0.04453125,
           0.04765625,
           0
          ],
          [
           "20230920",
           "20230920_115133_jpg.rf.9ca3cc133f857c148ddca6fc5f372b26.jpg_7",
           0.08125,
           0.10703125,
           0
          ],
          [
           "20230920",
           "20230920_121204_jpg.rf.327699191e9f4b296d9e878cec52b648.jpg_8",
           0.04140625,
           0.04453125,
           0
          ],
          [
           "20230920",
           "20230920_121250_jpg.rf.0b95e22ee2b8dc73d6a3b64b6b5c9277.jpg_14",
           0.06796875,
           0.09296875,
           0
          ],
          [
           "20230920",
           "20230920_120718_jpg.rf.c6c4539a315a33c676616fcf6a6196c4.jpg_3",
           0.06171875,
           0.071875,
           0
          ],
          [
           "20230920",
           "20230920_120718_jpg.rf.c6c4539a315a33c676616fcf6a6196c4.jpg_4",
           0.04453125,
           0.0625,
           0
          ],
          [
           "20230920",
           "20230920_120718_jpg.rf.c6c4539a315a33c676616fcf6a6196c4.jpg_5",
           0.05390625,
           0.0640625,
           0
          ],
          [
           "20230920",
           "20230920_121220_jpg.rf.44c103ec9d7378c87598b860f2e59aa3.jpg_1",
           0.075,
           0.11484375,
           0
          ],
          [
           "20230920",
           "20230920_121220_jpg.rf.44c103ec9d7378c87598b860f2e59aa3.jpg_4",
           0.0765625,
           0.1125,
           0
          ],
          [
           "20230920",
           "20230920_120921_jpg.rf.84b4ae26df89e3b99f31fcebee3dd894.jpg_2",
           0.0421875,
           0.03984375,
           0
          ],
          [
           "20230920",
           "20230920_120421_jpg.rf.9d649220744f11357038caeed2cb34eb.jpg_8",
           0.1,
           0.10859375,
           0
          ],
          [
           "20230920",
           "20230920_121334_jpg.rf.ed6ba73cda13d7709d9533981f2d8c85.jpg_8",
           0.0546875,
           0.05546875,
           0
          ],
          [
           "20230920",
           "20230920_121334_jpg.rf.ed6ba73cda13d7709d9533981f2d8c85.jpg_11",
           0.03359375,
           0.053125,
           0
          ],
          [
           "20230920",
           "20230920_121334_jpg.rf.ed6ba73cda13d7709d9533981f2d8c85.jpg_12",
           0.0390625,
           0.0390625,
           0
          ],
          [
           "20230920",
           "20230920_121011_jpg.rf.0a7221b176c65c35c71fbea1e32c73a9.jpg_5",
           0.0734375,
           0.0484375,
           0
          ],
          [
           "20230920",
           "20230920_121011_jpg.rf.0a7221b176c65c35c71fbea1e32c73a9.jpg_6",
           0.0265625,
           0.075,
           0
          ],
          [
           "20230920",
           "20230920_121437_jpg.rf.13f1f2db8ce06fea35e529b8ba40b7d1.jpg_9",
           0.04296875,
           0.078125,
           0
          ],
          [
           "20230920",
           "20230920_121447_jpg.rf.b705f55e7142762cf2b2079b2438b4bf.jpg_10",
           0.025,
           0.05390625,
           0
          ],
          [
           "20230920",
           "20230920_121447_jpg.rf.b705f55e7142762cf2b2079b2438b4bf.jpg_13",
           0.03125,
           0.0484375,
           0
          ],
          [
           "20230920",
           "20230920_121217_jpg.rf.93cba946e4ccb537cc089a2733966308.jpg_6",
           0.0625,
           0.16015625,
           0
          ],
          [
           "20230920",
           "20230920_121217_jpg.rf.93cba946e4ccb537cc089a2733966308.jpg_13",
           0.046875,
           0.03671875,
           0
          ],
          [
           "20230920",
           "20230920_121217_jpg.rf.93cba946e4ccb537cc089a2733966308.jpg_14",
           0.04921875,
           0.0375,
           0
          ],
          [
           "20230920",
           "20230920_121217_jpg.rf.93cba946e4ccb537cc089a2733966308.jpg_15",
           0.07109375,
           0.08515625,
           0
          ],
          [
           "20230920",
           "20230920_121217_jpg.rf.93cba946e4ccb537cc089a2733966308.jpg_17",
           0.06171875,
           0.06171875,
           0
          ],
          [
           "20230920",
           "20230920_121217_jpg.rf.93cba946e4ccb537cc089a2733966308.jpg_18",
           0.03203125,
           0.05078125,
           0
          ],
          [
           "20230920",
           "20230920_121217_jpg.rf.93cba946e4ccb537cc089a2733966308.jpg_19",
           0.05390625,
           0.0296875,
           0
          ],
          [
           "20230920",
           "20230920_121434_jpg.rf.a2a9156b18cccc4d4f77b52809e90167.jpg_3",
           0.0484375,
           0.02265625,
           0
          ],
          [
           "20230920",
           "20230920_121434_jpg.rf.a2a9156b18cccc4d4f77b52809e90167.jpg_11",
           0.04453125,
           0.05546875,
           0
          ],
          [
           "20230920",
           "20230920_121434_jpg.rf.a2a9156b18cccc4d4f77b52809e90167.jpg_12",
           0.04609375,
           0.04765625,
           0
          ],
          [
           "20230920",
           "20230920_121434_jpg.rf.a2a9156b18cccc4d4f77b52809e90167.jpg_13",
           0.04765625,
           0.09609375,
           0
          ],
          [
           "20230920",
           "20230920_120730_jpg.rf.a6c22fdb8992eff516a9ee896fd79c0c.jpg_8",
           0.059375,
           0.059375,
           0
          ],
          [
           "20230920",
           "20230920_121411_jpg.rf.757d779f073af4453d266648b20137a3.jpg_7",
           0.04921875,
           0.065625,
           0
          ],
          [
           "20230920",
           "20230920_121411_jpg.rf.757d779f073af4453d266648b20137a3.jpg_10",
           0.034375,
           0.0671875,
           0
          ],
          [
           "20230920",
           "20230920_121411_jpg.rf.757d779f073af4453d266648b20137a3.jpg_11",
           0.028125,
           0.05859375,
           0
          ],
          [
           "20230920",
           "20230920_121411_jpg.rf.757d779f073af4453d266648b20137a3.jpg_12",
           0.03359375,
           0.040625,
           0
          ],
          [
           "20230920",
           "20230920_121411_jpg.rf.757d779f073af4453d266648b20137a3.jpg_13",
           0.03203125,
           0.03203125,
           0
          ],
          [
           "20230920",
           "20230920_121411_jpg.rf.757d779f073af4453d266648b20137a3.jpg_14",
           0.0203125,
           0.0734375,
           0
          ],
          [
           "20230920",
           "20230920_121411_jpg.rf.757d779f073af4453d266648b20137a3.jpg_18",
           0.0390625,
           0.04765625,
           0
          ],
          [
           "20230920",
           "20230920_121411_jpg.rf.757d779f073af4453d266648b20137a3.jpg_19",
           0.04140625,
           0.05,
           0
          ],
          [
           "20230920",
           "20230920_121254_jpg.rf.5a481702322992d95635473748a2a04f.jpg_11",
           0.040625,
           0.0453125,
           0
          ],
          [
           "20230920",
           "20230920_121254_jpg.rf.5a481702322992d95635473748a2a04f.jpg_13",
           0.04375,
           0.03828125,
           0
          ],
          [
           "20230920",
           "20230920_121152_jpg.rf.87fc9317e349cc14f27dcc0dcb079607.jpg_7",
           0.0296875,
           0.0421875,
           0
          ],
          [
           "20230920",
           "20230920_121227_jpg.rf.172b8c7c392b1742a32eba22e57be743.jpg_15",
           0.04609375,
           0.07421875,
           0
          ],
          [
           "20230920",
           "20230920_121331_jpg.rf.16bbcc96fce7751c6c789c111c18dc7c.jpg_8",
           0.05078125,
           0.0578125,
           0
          ],
          [
           "20230920",
           "20230920_121331_jpg.rf.16bbcc96fce7751c6c789c111c18dc7c.jpg_11",
           0.0359375,
           0.04375,
           0
          ],
          [
           "20230920",
           "20230920_121331_jpg.rf.16bbcc96fce7751c6c789c111c18dc7c.jpg_12",
           0.02890625,
           0.08359375,
           0
          ],
          [
           "20230920",
           "20230920_121331_jpg.rf.16bbcc96fce7751c6c789c111c18dc7c.jpg_15",
           0.040625,
           0.03984375,
           0
          ],
          [
           "20230920",
           "20230920_121404_jpg.rf.ac5af154802fe7370c8676409f2fdfc2.jpg_8",
           0.02265625,
           0.13359375,
           0
          ],
          [
           "20230920",
           "20230920_121453_jpg.rf.37c2dd0f5a9f9cba4e7ecfca46a7b4aa.jpg_10",
           0.04296875,
           0.00703125,
           0
          ],
          [
           "20230920",
           "20230920_120414_jpg.rf.46116904f72cc466f3f8e708cd2f54a9.jpg_9",
           0.1046875,
           0.109375,
           0
          ],
          [
           "20230920",
           "20230920_121322_jpg.rf.6bfb8a559d25a0c645c3d7a487c7574a.jpg_9",
           0.04453125,
           0.0421875,
           0
          ],
          [
           "20230920",
           "20230920_115022_jpg.rf.7aeece2eb946ad2174ed2e4e7e7f1973.jpg_4",
           0.07109375,
           0.0828125,
           0
          ]
         ],
         "hovertemplate": "<b>❌ Missed Prawn</b><br>Image: %{customdata[0]}<br>Prawn ID: %{customdata[1]}<br>Area: %{y:.6f}<br>Width: %{customdata[2]:.6f}<br>Height: %{customdata[3]:.6f}<br>Best IoU: %{customdata[4]:.3f}<br><extra></extra>",
         "marker": {
          "color": "red",
          "opacity": 0.8,
          "size": 8,
          "symbol": "x"
         },
         "mode": "markers",
         "name": "❌ Missed (FN)",
         "type": "scatter",
         "x": [
          39,
          63,
          64,
          65,
          77,
          79,
          82,
          89,
          110,
          134,
          147,
          148,
          149,
          159,
          162,
          171,
          179,
          188,
          191,
          192,
          202,
          203,
          231,
          288,
          291,
          303,
          310,
          311,
          312,
          314,
          315,
          316,
          319,
          327,
          328,
          329,
          337,
          360,
          363,
          364,
          365,
          366,
          367,
          371,
          372,
          384,
          386,
          421,
          441,
          454,
          457,
          458,
          461,
          475,
          504,
          527,
          540,
          545
         ],
         "xaxis": "x",
         "y": [
          0.005758056640625,
          0.0027191162109375,
          0.002490234375,
          0.00250244140625,
          0.0021234130859375,
          0.0025634765625,
          0.0021221923828124998,
          0.0086962890625,
          0.0018438720703125,
          0.0063189697265625,
          0.0044360351562499995,
          0.002783203125,
          0.003453369140625,
          0.008613281249999999,
          0.00861328125,
          0.001680908203125,
          0.010859375000000001,
          0.0030334472656249997,
          0.00178466796875,
          0.00152587890625,
          0.00355712890625,
          0.0019921875,
          0.00335693359375,
          0.0013476562500000001,
          0.001513671875,
          0.010009765625,
          0.0017211914062500002,
          0.001845703125,
          0.0060540771484375,
          0.0038092041015625002,
          0.0016265869140625,
          0.001600341796875,
          0.001097412109375,
          0.0024700927734375,
          0.0021966552734375,
          0.0045794677734375,
          0.003525390625,
          0.00322998046875,
          0.0023095703125,
          0.00164794921875,
          0.00136474609375,
          0.0010260009765625,
          0.00149169921875,
          0.001861572265625,
          0.0020703125,
          0.0018408203125,
          0.0016748046875,
          0.00125244140625,
          0.0034210205078125003,
          0.002935791015625,
          0.0015722656249999999,
          0.0024163818359374998,
          0.00161865234375,
          0.0030267333984375,
          0.0003021240234375,
          0.0114501953125,
          0.0018786621093750003,
          0.005887451171875
         ],
         "yaxis": "y"
        },
        {
         "boxpoints": "outliers",
         "marker": {
          "color": "green"
         },
         "name": "✅ Detected",
         "type": "box",
         "xaxis": "x2",
         "y": [
          0.007994384765625,
          0.01965576171875,
          0.02213134765625,
          0.035657958984375,
          0.003076171875,
          0.014556884765625,
          0.00523681640625,
          0.008805541992187499,
          0.0052636718750000006,
          0.007946777343750001,
          0.0038067626953124994,
          0.0075640869140625,
          0.00662109375,
          0.010000000000000002,
          0.008046875,
          0.0055865478515625,
          0.0048944091796875,
          0.00573486328125,
          0.007014160156250001,
          0.0081488037109375,
          0.00335693359375,
          0.0202117919921875,
          0.0120208740234375,
          0.011173095703125,
          0.050625,
          0.006331787109375,
          0.027784423828125,
          0.017501220703124997,
          0.014263916015625001,
          0.007432250976562501,
          0.015585937499999999,
          0.0053466796875,
          0.00968017578125,
          0.009265136718749999,
          0.005540771484375,
          0.007015991210937499,
          0.007166748046875001,
          0.003150634765625,
          0.005655517578125,
          0.028328247070312503,
          0.013824462890625,
          0.01666259765625,
          0.025028076171875,
          0.009345703124999999,
          0.027589111328125,
          0.004541015625,
          0.0048846435546875,
          0.010981445312500001,
          0.011712646484375,
          0.0174609375,
          0.027773437499999998,
          0.007584228515625,
          0.005189208984375,
          0.007926635742187499,
          0.00910400390625,
          0.00364990234375,
          0.00855224609375,
          0.017175292968750002,
          0.0021270751953124997,
          0.00439453125,
          0.006008300781249999,
          0.005196533203125,
          0.00253173828125,
          0.017043457031249997,
          0.00578369140625,
          0.0109552001953125,
          0.013740234375,
          0.0032501220703125,
          0.005616455078125,
          0.006344604492187499,
          0.0038439941406250002,
          0.0033801269531249997,
          0.00158203125,
          0.001962890625,
          0.000701904296875,
          0.0014904785156249999,
          0.00797607421875,
          0.0048193359375000005,
          0.017741699218749997,
          0.010089111328125,
          0.005406494140625,
          0.03413330078125,
          0.005306396484375,
          0.0154693603515625,
          0.018046874999999997,
          0.004766845703125,
          0.00504638671875,
          0.010511474609375002,
          0.0080419921875,
          0.015313720703125,
          0.0074420166015624995,
          0.004991455078125,
          0.0088751220703125,
          0.01837158203125,
          0.010083007812500001,
          0.004443359375,
          0.00823974609375,
          0.00715087890625,
          0.009578857421875002,
          0.0018310546875,
          0.008265380859375,
          0.0047735595703125005,
          0.0037353515624999997,
          0.01456787109375,
          0.005093994140625,
          0.0096435546875,
          0.01553955078125,
          0.0211181640625,
          0.012640380859375,
          0.0092041015625,
          0.005303955078125,
          0.01039306640625,
          0.00311279296875,
          0.003564453125,
          0.0035650634765625002,
          0.00404296875,
          0.00538330078125,
          0.0050921630859375,
          0.003564453125,
          0.004229736328125,
          0.003453369140625,
          0.0060302734375,
          0.0038562011718749995,
          0.0026580810546875003,
          0.0028564453125000003,
          0.025656738281250004,
          0.009143066406249999,
          0.009160156249999999,
          0.0052099609375,
          0.015460205078125,
          0.011279296874999999,
          0.0061767578125,
          0.004248046875,
          0.0038500976562500003,
          0.0031787109375000003,
          0.0066796875,
          0.01740234375,
          0.01081298828125,
          0.015551147460937501,
          0.008245849609375,
          0.0072216796875,
          0.0025390625,
          0.006201171875,
          0.00567626953125,
          0.01285400390625,
          0.006534423828124999,
          0.007412109374999999,
          0.00919921875,
          0.0176239013671875,
          0.012963867187499999,
          0.00890625,
          0.0302490234375,
          0.020058593750000003,
          0.017666015625000003,
          0.006922607421874999,
          0.0048876953125,
          0.0102740478515625,
          0.0183056640625,
          0.00755859375,
          0.0100946044921875,
          0.0123333740234375,
          0.0103515625,
          0.007283935546874999,
          0.09154296875,
          0.004471435546875,
          0.002227783203125,
          0.0062042236328124995,
          0.0044921875,
          0.00509765625,
          0.00585205078125,
          0.016109619140625003,
          0.0027178955078124996,
          0.0023455810546875,
          0.023574218749999997,
          0.00849609375,
          0.0055450439453125005,
          0.00362548828125,
          0.013842773437499999,
          0.01190185546875,
          0.009335327148437501,
          0.009681396484375,
          0.00476806640625,
          0.049182128906250004,
          0.020830078125000002,
          0.01109375,
          0.010595703125,
          0.018902587890625,
          0.0113433837890625,
          0.00587890625,
          0.00855224609375,
          0.004654541015625,
          0.007994384765625,
          0.012718505859375,
          0.012483520507812502,
          0.0085491943359375,
          0.021551513671874998,
          0.00439453125,
          0.0072247314453125,
          0.01799560546875,
          0.0089263916015625,
          0.005693359375,
          0.00498046875,
          0.00634765625,
          0.004332275390624999,
          0.004833984375,
          0.003216552734375,
          0.0039453125,
          0.0025122070312500002,
          0.005438232421875,
          0.0016912841796875,
          0.0019775390625000003,
          0.008419189453125,
          0.00811767578125,
          0.008818359375,
          0.013912353515624998,
          0.041981201171874996,
          0.005592651367187501,
          0.01056884765625,
          0.00469970703125,
          0.023089599609374997,
          0.0024224853515625,
          0.0076593017578125,
          0.011601562500000002,
          0.019835815429687497,
          0.03122314453125,
          0.005446777343749999,
          0.009158935546875,
          0.00477294921875,
          0.0042913818359375,
          0.011279296875,
          0.005078125,
          0.008930664062500001,
          0.0063720703124999995,
          0.0097564697265625,
          0.006767578125,
          0.0092926025390625,
          0.004969482421875001,
          0.0043487548828125,
          0.004154052734375,
          0.00677490234375,
          0.0027777099609375,
          0.0055902099609375,
          0.032470703125,
          0.04921875,
          0.006965942382812501,
          0.11708740234375,
          0.0100439453125,
          0.006518554687500001,
          0.004713134765625,
          0.0047149658203125,
          0.0062622070312500005,
          0.044150390624999994,
          0.011201171875,
          0.00431396484375,
          0.016741943359375,
          0.012060546875,
          0.0037084960937500003,
          0.004332275390624999,
          0.002308349609375,
          0.0032135009765625,
          0.00336181640625,
          0.002490234375,
          0.0029296875,
          0.0018676757812499999,
          0.001640625,
          0.0035455322265625,
          0.0044647216796875,
          0.01815673828125,
          0.017534179687500002,
          0.01026611328125,
          0.0065161132812499994,
          0.004427490234375,
          0.007745361328125,
          0.0052178955078125006,
          0.00331298828125,
          0.0037298583984374995,
          0.0052294921874999995,
          0.008217773437500001,
          0.0039825439453125,
          0.0035534667968749995,
          0.0028027343749999997,
          0.0023309326171875003,
          0.00150390625,
          0.0017687988281249998,
          0.00494384765625,
          0.011690063476562498,
          0.0025842285156249998,
          0.005111083984375,
          0.00505859375,
          0.00273681640625,
          0.0016754150390625,
          0.0054327392578125,
          0.0030267333984374998,
          0.0048779296875,
          0.008036499023437501,
          0.006494140625,
          0.0140625,
          0.0064361572265625,
          0.00562255859375,
          0.003575439453125,
          0.003997802734375,
          0.005877685546875,
          0.004956054687499999,
          0.0052685546875000005,
          0.008265380859375,
          0.0029895019531250002,
          0.0052734375,
          0.004356689453125001,
          0.00319580078125,
          0.005603027343750001,
          0.0046484375,
          0.0028875732421875,
          0.003662109375,
          0.0041357421875,
          0.00301513671875,
          0.01973388671875,
          0.0072088623046875,
          0.005947265624999999,
          0.0034606933593749997,
          0.0030395507812500003,
          0.0035400390625,
          0.003570556640625,
          0.001475830078125,
          0.0098419189453125,
          0.00238037109375,
          0.00201416015625,
          0.004310302734374999,
          0.00479248046875,
          0.00140380859375,
          0.0050445556640624995,
          0.004443359375,
          0.002001953125,
          0.0019042968750000002,
          0.0007904052734375001,
          0.0035192871093750002,
          0.0158807373046875,
          0.004212646484375,
          0.010806884765625,
          0.0022265625000000002,
          0.0020703125,
          0.0022686767578125,
          0.0017187500000000002,
          0.0056097412109375,
          0.0151220703125,
          0.0138372802734375,
          0.010521240234374998,
          0.007662963867187501,
          0.011704711914062499,
          0.005767822265625,
          0.01772216796875,
          0.004246826171875,
          0.012451171875,
          0.0041656494140625,
          0.018033447265625,
          0.01904296875,
          0.00975341796875,
          0.025883789062500002,
          0.013769531250000001,
          0.010535888671874999,
          0.010997314453125,
          0.007331542968749999,
          0.0036804199218750003,
          0.0031915283203125004,
          0.00346435546875,
          0.004306030273437501,
          0.0032501220703125,
          0.0045086669921875,
          0.009434814453125,
          0.0010107421875,
          0.0058563232421875,
          0.004154052734375,
          0.009766845703124999,
          0.0080694580078125,
          0.00087890625,
          0.0148236083984375,
          0.014945068359375,
          0.017666015625000003,
          0.011883544921875001,
          0.02543701171875,
          0.0033801269531249997,
          0.0031860351562499997,
          0.0037841796875,
          0.005623168945312501,
          0.0031201171875,
          0.0068469238281249995,
          0.0121343994140625,
          0.0046142578125000005,
          0.00729736328125,
          0.004229736328125,
          0.0072216796875,
          0.0066064453125000006,
          0.0028076171875,
          0.00401611328125,
          0.00352294921875,
          0.014614257812499998,
          0.0170166015625,
          0.0076556396484375,
          0.004465332031250001,
          0.0038348388671875,
          0.002010498046875,
          0.0032702636718750003,
          0.0015765380859375,
          0.0020367431640625,
          0.001973876953125,
          0.0044964599609375,
          0.004302978515625,
          0.002845458984375,
          0.002691650390625,
          0.00218994140625,
          0.022896118164062503,
          0.0095751953125,
          0.00837890625,
          0.039404296874999994,
          0.04105224609375,
          0.007131347656249999,
          0.0041656494140625,
          0.0033197021484375,
          0.0035534667968749995,
          0.004150390625,
          0.0045086669921875,
          0.0044531250000000005,
          0.0034094238281250004,
          0.041405029296875,
          0.03975585937500001,
          0.009119873046875001,
          0.003475341796875,
          0.019963378906250002,
          0.0363006591796875,
          0.006176757812499999,
          0.0081976318359375,
          0.008529052734374999,
          0.0102947998046875,
          0.010714111328125,
          0.01012451171875,
          0.016481933593749998,
          0.004921875,
          0.018662109375,
          0.00531005859375,
          0.009757690429687499,
          0.006381225585937501,
          0.005054931640625,
          0.006287841796875,
          0.004443359375,
          0.007998046875,
          0.0034954833984375006,
          0.0035101318359375,
          0.00506591796875,
          0.0028222656249999997,
          0.0034033203124999994,
          0.0036895751953125,
          0.0171826171875,
          0.012056884765625001,
          0.006848144531249999,
          0.0068359375,
          0.0045806884765625,
          0.005596923828125,
          0.0128125,
          0.0062261962890624994,
          0.03507080078125,
          0.0064599609375,
          0.014215087890624999,
          0.0048663330078125,
          0.0080035400390625,
          0.010546874999999999,
          0.022137451171875,
          0.01015625,
          0.014630126953125,
          0.008671875,
          0.013937988281249999,
          0.013051757812499998,
          0.008271484374999999,
          0.0075201416015625,
          0.030847167968750002,
          0.04349609375,
          0.02497314453125,
          0.007519531249999999,
          0.007910156250000001,
          0.004965820312500001,
          0.0028143310546874995,
          0.003515625,
          0.0031585693359375,
          0.005623168945312501,
          0.0044403076171875,
          0.016717529296875002,
          0.00474609375,
          0.013476562499999999,
          0.014178466796874999,
          0.00608154296875,
          0.0071185302734375,
          0.004578857421875,
          0.0074267578124999995,
          0.0051025390625,
          0.015209960937500001,
          0.01444091796875,
          0.006201171875,
          0.006038818359374999,
          0.007532958984374999,
          0.01173583984375,
          0.009613037109375,
          0.0111083984375,
          0.008648681640625001,
          0.006160888671875001,
          0.005794677734375
         ],
         "yaxis": "y2"
        },
        {
         "boxpoints": "outliers",
         "marker": {
          "color": "red"
         },
         "name": "❌ Missed",
         "type": "box",
         "xaxis": "x2",
         "y": [
          0.005758056640625,
          0.0027191162109375,
          0.002490234375,
          0.00250244140625,
          0.0021234130859375,
          0.0025634765625,
          0.0021221923828124998,
          0.0086962890625,
          0.0018438720703125,
          0.0063189697265625,
          0.0044360351562499995,
          0.002783203125,
          0.003453369140625,
          0.008613281249999999,
          0.00861328125,
          0.001680908203125,
          0.010859375000000001,
          0.0030334472656249997,
          0.00178466796875,
          0.00152587890625,
          0.00355712890625,
          0.0019921875,
          0.00335693359375,
          0.0013476562500000001,
          0.001513671875,
          0.010009765625,
          0.0017211914062500002,
          0.001845703125,
          0.0060540771484375,
          0.0038092041015625002,
          0.0016265869140625,
          0.001600341796875,
          0.001097412109375,
          0.0024700927734375,
          0.0021966552734375,
          0.0045794677734375,
          0.003525390625,
          0.00322998046875,
          0.0023095703125,
          0.00164794921875,
          0.00136474609375,
          0.0010260009765625,
          0.00149169921875,
          0.001861572265625,
          0.0020703125,
          0.0018408203125,
          0.0016748046875,
          0.00125244140625,
          0.0034210205078125003,
          0.002935791015625,
          0.0015722656249999999,
          0.0024163818359374998,
          0.00161865234375,
          0.0030267333984375,
          0.0003021240234375,
          0.0114501953125,
          0.0018786621093750003,
          0.005887451171875
         ],
         "yaxis": "y2"
        },
        {
         "customdata": [
          [
           "20230920",
           0.007994384765625
          ],
          [
           "20230920",
           0.01965576171875
          ],
          [
           "20230920",
           0.02213134765625
          ],
          [
           "20230920",
           0.035657958984375
          ],
          [
           "20230920",
           0.003076171875
          ],
          [
           "20230920",
           0.014556884765625
          ],
          [
           "20230920",
           0.00523681640625
          ],
          [
           "20230920",
           0.008805541992187499
          ],
          [
           "20230920",
           0.0052636718750000006
          ],
          [
           "20230920",
           0.007946777343750001
          ],
          [
           "20230920",
           0.0038067626953124994
          ],
          [
           "20230920",
           0.0075640869140625
          ],
          [
           "20230920",
           0.00662109375
          ],
          [
           "20230920",
           0.010000000000000002
          ],
          [
           "20230920",
           0.008046875
          ],
          [
           "20230920",
           0.0055865478515625
          ],
          [
           "20230920",
           0.0048944091796875
          ],
          [
           "20230920",
           0.00573486328125
          ],
          [
           "20230920",
           0.007014160156250001
          ],
          [
           "20230920",
           0.0081488037109375
          ],
          [
           "20230920",
           0.00335693359375
          ],
          [
           "20230920",
           0.0202117919921875
          ],
          [
           "20230920",
           0.0120208740234375
          ],
          [
           "20230920",
           0.011173095703125
          ],
          [
           "20230920",
           0.050625
          ],
          [
           "20230920",
           0.006331787109375
          ],
          [
           "20230920",
           0.027784423828125
          ],
          [
           "20230920",
           0.017501220703124997
          ],
          [
           "20230920",
           0.014263916015625001
          ],
          [
           "20230920",
           0.007432250976562501
          ],
          [
           "20230920",
           0.015585937499999999
          ],
          [
           "20230920",
           0.0053466796875
          ],
          [
           "20230920",
           0.00968017578125
          ],
          [
           "20230920",
           0.009265136718749999
          ],
          [
           "20230920",
           0.005540771484375
          ],
          [
           "20230920",
           0.007015991210937499
          ],
          [
           "20230920",
           0.007166748046875001
          ],
          [
           "20230920",
           0.003150634765625
          ],
          [
           "20230920",
           0.005655517578125
          ],
          [
           "20230920",
           0.028328247070312503
          ],
          [
           "20230920",
           0.013824462890625
          ],
          [
           "20230920",
           0.01666259765625
          ],
          [
           "20230920",
           0.025028076171875
          ],
          [
           "20230920",
           0.009345703124999999
          ],
          [
           "20230920",
           0.027589111328125
          ],
          [
           "20230920",
           0.004541015625
          ],
          [
           "20230920",
           0.0048846435546875
          ],
          [
           "20230920",
           0.010981445312500001
          ],
          [
           "20230920",
           0.011712646484375
          ],
          [
           "20230920",
           0.0174609375
          ],
          [
           "20230920",
           0.027773437499999998
          ],
          [
           "20230920",
           0.007584228515625
          ],
          [
           "20230920",
           0.005189208984375
          ],
          [
           "20230920",
           0.007926635742187499
          ],
          [
           "20230920",
           0.00910400390625
          ],
          [
           "20230920",
           0.00364990234375
          ],
          [
           "20230920",
           0.00855224609375
          ],
          [
           "20230920",
           0.017175292968750002
          ],
          [
           "20230920",
           0.0021270751953124997
          ],
          [
           "20230920",
           0.00439453125
          ],
          [
           "20230920",
           0.006008300781249999
          ],
          [
           "20230920",
           0.005196533203125
          ],
          [
           "20230920",
           0.00253173828125
          ],
          [
           "20230920",
           0.017043457031249997
          ],
          [
           "20230920",
           0.00578369140625
          ],
          [
           "20230920",
           0.0109552001953125
          ],
          [
           "20230920",
           0.013740234375
          ],
          [
           "20230920",
           0.0032501220703125
          ],
          [
           "20230920",
           0.005616455078125
          ],
          [
           "20230920",
           0.006344604492187499
          ],
          [
           "20230920",
           0.0038439941406250002
          ],
          [
           "20230920",
           0.0033801269531249997
          ],
          [
           "20230920",
           0.00158203125
          ],
          [
           "20230920",
           0.001962890625
          ],
          [
           "20230920",
           0.000701904296875
          ],
          [
           "20230920",
           0.0014904785156249999
          ],
          [
           "20230920",
           0.00797607421875
          ],
          [
           "20230920",
           0.0048193359375000005
          ],
          [
           "20230920",
           0.017741699218749997
          ],
          [
           "20230920",
           0.010089111328125
          ],
          [
           "20230920",
           0.005406494140625
          ],
          [
           "20230920",
           0.03413330078125
          ],
          [
           "20230920",
           0.005306396484375
          ],
          [
           "20230920",
           0.0154693603515625
          ],
          [
           "20230920",
           0.018046874999999997
          ],
          [
           "20230920",
           0.004766845703125
          ],
          [
           "20230920",
           0.00504638671875
          ],
          [
           "20230920",
           0.010511474609375002
          ],
          [
           "20230920",
           0.0080419921875
          ],
          [
           "20230920",
           0.015313720703125
          ],
          [
           "20230920",
           0.0074420166015624995
          ],
          [
           "20230920",
           0.004991455078125
          ],
          [
           "20230920",
           0.0088751220703125
          ],
          [
           "20230920",
           0.01837158203125
          ],
          [
           "20230920",
           0.010083007812500001
          ],
          [
           "20230920",
           0.004443359375
          ],
          [
           "20230920",
           0.00823974609375
          ],
          [
           "20230920",
           0.00715087890625
          ],
          [
           "20230920",
           0.009578857421875002
          ],
          [
           "20230920",
           0.0018310546875
          ],
          [
           "20230920",
           0.008265380859375
          ],
          [
           "20230920",
           0.0047735595703125005
          ],
          [
           "20230920",
           0.0037353515624999997
          ],
          [
           "20230920",
           0.01456787109375
          ],
          [
           "20230920",
           0.005093994140625
          ],
          [
           "20230920",
           0.0096435546875
          ],
          [
           "20230920",
           0.01553955078125
          ],
          [
           "20230920",
           0.0211181640625
          ],
          [
           "20230920",
           0.012640380859375
          ],
          [
           "20230920",
           0.0092041015625
          ],
          [
           "20230920",
           0.005303955078125
          ],
          [
           "20230920",
           0.01039306640625
          ],
          [
           "20230920",
           0.00311279296875
          ],
          [
           "20230920",
           0.003564453125
          ],
          [
           "20230920",
           0.0035650634765625002
          ],
          [
           "20230920",
           0.00404296875
          ],
          [
           "20230920",
           0.00538330078125
          ],
          [
           "20230920",
           0.0050921630859375
          ],
          [
           "20230920",
           0.003564453125
          ],
          [
           "20230920",
           0.004229736328125
          ],
          [
           "20230920",
           0.003453369140625
          ],
          [
           "20230920",
           0.0060302734375
          ],
          [
           "20230920",
           0.0038562011718749995
          ],
          [
           "20230920",
           0.0026580810546875003
          ],
          [
           "20230920",
           0.0028564453125000003
          ],
          [
           "20230920",
           0.025656738281250004
          ],
          [
           "20230920",
           0.009143066406249999
          ],
          [
           "20230920",
           0.009160156249999999
          ],
          [
           "20230920",
           0.0052099609375
          ],
          [
           "20230920",
           0.015460205078125
          ],
          [
           "20230920",
           0.011279296874999999
          ],
          [
           "20230920",
           0.0061767578125
          ],
          [
           "20230920",
           0.004248046875
          ],
          [
           "20230920",
           0.0038500976562500003
          ],
          [
           "20230920",
           0.0031787109375000003
          ],
          [
           "20230920",
           0.0066796875
          ],
          [
           "20230920",
           0.01740234375
          ],
          [
           "20230920",
           0.01081298828125
          ],
          [
           "20230920",
           0.015551147460937501
          ],
          [
           "20230920",
           0.008245849609375
          ],
          [
           "20230920",
           0.0072216796875
          ],
          [
           "20230920",
           0.0025390625
          ],
          [
           "20230920",
           0.006201171875
          ],
          [
           "20230920",
           0.00567626953125
          ],
          [
           "20230920",
           0.01285400390625
          ],
          [
           "20230920",
           0.006534423828124999
          ],
          [
           "20230920",
           0.007412109374999999
          ],
          [
           "20230920",
           0.00919921875
          ],
          [
           "20230920",
           0.0176239013671875
          ],
          [
           "20230920",
           0.012963867187499999
          ],
          [
           "20230920",
           0.00890625
          ],
          [
           "20230920",
           0.0302490234375
          ],
          [
           "20230920",
           0.020058593750000003
          ],
          [
           "20230920",
           0.017666015625000003
          ],
          [
           "20230920",
           0.006922607421874999
          ],
          [
           "20230920",
           0.0048876953125
          ],
          [
           "20230920",
           0.0102740478515625
          ],
          [
           "20230920",
           0.0183056640625
          ],
          [
           "20230920",
           0.00755859375
          ],
          [
           "20230920",
           0.0100946044921875
          ],
          [
           "20230920",
           0.0123333740234375
          ],
          [
           "20230920",
           0.0103515625
          ],
          [
           "20230920",
           0.007283935546874999
          ],
          [
           "20230920",
           0.09154296875
          ],
          [
           "20230920",
           0.004471435546875
          ],
          [
           "20230920",
           0.002227783203125
          ],
          [
           "20230920",
           0.0062042236328124995
          ],
          [
           "20230920",
           0.0044921875
          ],
          [
           "20230920",
           0.00509765625
          ],
          [
           "20230920",
           0.00585205078125
          ],
          [
           "20230920",
           0.016109619140625003
          ],
          [
           "20230920",
           0.0027178955078124996
          ],
          [
           "20230920",
           0.0023455810546875
          ],
          [
           "20230920",
           0.023574218749999997
          ],
          [
           "20230920",
           0.00849609375
          ],
          [
           "20230920",
           0.0055450439453125005
          ],
          [
           "20230920",
           0.00362548828125
          ],
          [
           "20230920",
           0.013842773437499999
          ],
          [
           "20230920",
           0.01190185546875
          ],
          [
           "20230920",
           0.009335327148437501
          ],
          [
           "20230920",
           0.009681396484375
          ],
          [
           "20230920",
           0.00476806640625
          ],
          [
           "20230920",
           0.049182128906250004
          ],
          [
           "20230920",
           0.020830078125000002
          ],
          [
           "20230920",
           0.01109375
          ],
          [
           "20230920",
           0.010595703125
          ],
          [
           "20230920",
           0.018902587890625
          ],
          [
           "20230920",
           0.0113433837890625
          ],
          [
           "20230920",
           0.00587890625
          ],
          [
           "20230920",
           0.00855224609375
          ],
          [
           "20230920",
           0.004654541015625
          ],
          [
           "20230920",
           0.007994384765625
          ],
          [
           "20230920",
           0.012718505859375
          ],
          [
           "20230920",
           0.012483520507812502
          ],
          [
           "20230920",
           0.0085491943359375
          ],
          [
           "20230920",
           0.021551513671874998
          ],
          [
           "20230920",
           0.00439453125
          ],
          [
           "20230920",
           0.0072247314453125
          ],
          [
           "20230920",
           0.01799560546875
          ],
          [
           "20230920",
           0.0089263916015625
          ],
          [
           "20230920",
           0.005693359375
          ],
          [
           "20230920",
           0.00498046875
          ],
          [
           "20230920",
           0.00634765625
          ],
          [
           "20230920",
           0.004332275390624999
          ],
          [
           "20230920",
           0.004833984375
          ],
          [
           "20230920",
           0.003216552734375
          ],
          [
           "20230920",
           0.0039453125
          ],
          [
           "20230920",
           0.0025122070312500002
          ],
          [
           "20230920",
           0.005438232421875
          ],
          [
           "20230920",
           0.0016912841796875
          ],
          [
           "20230920",
           0.0019775390625000003
          ],
          [
           "20230920",
           0.008419189453125
          ],
          [
           "20230920",
           0.00811767578125
          ],
          [
           "20230920",
           0.008818359375
          ],
          [
           "20230920",
           0.013912353515624998
          ],
          [
           "20230920",
           0.041981201171874996
          ],
          [
           "20230920",
           0.005592651367187501
          ],
          [
           "20230920",
           0.01056884765625
          ],
          [
           "20230920",
           0.00469970703125
          ],
          [
           "20230920",
           0.023089599609374997
          ],
          [
           "20230920",
           0.0024224853515625
          ],
          [
           "20230920",
           0.0076593017578125
          ],
          [
           "20230920",
           0.011601562500000002
          ],
          [
           "20230920",
           0.019835815429687497
          ],
          [
           "20230920",
           0.03122314453125
          ],
          [
           "20230920",
           0.005446777343749999
          ],
          [
           "20230920",
           0.009158935546875
          ],
          [
           "20230920",
           0.00477294921875
          ],
          [
           "20230920",
           0.0042913818359375
          ],
          [
           "20230920",
           0.011279296875
          ],
          [
           "20230920",
           0.005078125
          ],
          [
           "20230920",
           0.008930664062500001
          ],
          [
           "20230920",
           0.0063720703124999995
          ],
          [
           "20230920",
           0.0097564697265625
          ],
          [
           "20230920",
           0.006767578125
          ],
          [
           "20230920",
           0.0092926025390625
          ],
          [
           "20230920",
           0.004969482421875001
          ],
          [
           "20230920",
           0.0043487548828125
          ],
          [
           "20230920",
           0.004154052734375
          ],
          [
           "20230920",
           0.00677490234375
          ],
          [
           "20230920",
           0.0027777099609375
          ],
          [
           "20230920",
           0.0055902099609375
          ],
          [
           "20230920",
           0.032470703125
          ],
          [
           "20230920",
           0.04921875
          ],
          [
           "20230920",
           0.006965942382812501
          ],
          [
           "20230920",
           0.11708740234375
          ],
          [
           "20230920",
           0.0100439453125
          ],
          [
           "20230920",
           0.006518554687500001
          ],
          [
           "20230920",
           0.004713134765625
          ],
          [
           "20230920",
           0.0047149658203125
          ],
          [
           "20230920",
           0.0062622070312500005
          ],
          [
           "20230920",
           0.044150390624999994
          ],
          [
           "20230920",
           0.011201171875
          ],
          [
           "20230920",
           0.00431396484375
          ],
          [
           "20230920",
           0.016741943359375
          ],
          [
           "20230920",
           0.012060546875
          ],
          [
           "20230920",
           0.0037084960937500003
          ],
          [
           "20230920",
           0.004332275390624999
          ],
          [
           "20230920",
           0.002308349609375
          ],
          [
           "20230920",
           0.0032135009765625
          ],
          [
           "20230920",
           0.00336181640625
          ],
          [
           "20230920",
           0.002490234375
          ],
          [
           "20230920",
           0.0029296875
          ],
          [
           "20230920",
           0.0018676757812499999
          ],
          [
           "20230920",
           0.001640625
          ],
          [
           "20230920",
           0.0035455322265625
          ],
          [
           "20230920",
           0.0044647216796875
          ],
          [
           "20230920",
           0.01815673828125
          ],
          [
           "20230920",
           0.017534179687500002
          ],
          [
           "20230920",
           0.01026611328125
          ],
          [
           "20230920",
           0.0065161132812499994
          ],
          [
           "20230920",
           0.004427490234375
          ],
          [
           "20230920",
           0.007745361328125
          ],
          [
           "20230920",
           0.0052178955078125006
          ],
          [
           "20230920",
           0.00331298828125
          ],
          [
           "20230920",
           0.0037298583984374995
          ],
          [
           "20230920",
           0.0052294921874999995
          ],
          [
           "20230920",
           0.008217773437500001
          ],
          [
           "20230920",
           0.0039825439453125
          ],
          [
           "20230920",
           0.0035534667968749995
          ],
          [
           "20230920",
           0.0028027343749999997
          ],
          [
           "20230920",
           0.0023309326171875003
          ],
          [
           "20230920",
           0.00150390625
          ],
          [
           "20230920",
           0.0017687988281249998
          ],
          [
           "20230920",
           0.00494384765625
          ],
          [
           "20230920",
           0.011690063476562498
          ],
          [
           "20230920",
           0.0025842285156249998
          ],
          [
           "20230920",
           0.005111083984375
          ],
          [
           "20230920",
           0.00505859375
          ],
          [
           "20230920",
           0.00273681640625
          ],
          [
           "20230920",
           0.0016754150390625
          ],
          [
           "20230920",
           0.0054327392578125
          ],
          [
           "20230920",
           0.0030267333984374998
          ],
          [
           "20230920",
           0.0048779296875
          ],
          [
           "20230920",
           0.008036499023437501
          ],
          [
           "20230920",
           0.006494140625
          ],
          [
           "20230920",
           0.0140625
          ],
          [
           "20230920",
           0.0064361572265625
          ],
          [
           "20230920",
           0.00562255859375
          ],
          [
           "20230920",
           0.003575439453125
          ],
          [
           "20230920",
           0.003997802734375
          ],
          [
           "20230920",
           0.005877685546875
          ],
          [
           "20230920",
           0.004956054687499999
          ],
          [
           "20230920",
           0.0052685546875000005
          ],
          [
           "20230920",
           0.008265380859375
          ],
          [
           "20230920",
           0.0029895019531250002
          ],
          [
           "20230920",
           0.0052734375
          ],
          [
           "20230920",
           0.004356689453125001
          ],
          [
           "20230920",
           0.00319580078125
          ],
          [
           "20230920",
           0.005603027343750001
          ],
          [
           "20230920",
           0.0046484375
          ],
          [
           "20230920",
           0.0028875732421875
          ],
          [
           "20230920",
           0.003662109375
          ],
          [
           "20230920",
           0.0041357421875
          ],
          [
           "20230920",
           0.00301513671875
          ],
          [
           "20230920",
           0.01973388671875
          ],
          [
           "20230920",
           0.0072088623046875
          ],
          [
           "20230920",
           0.005947265624999999
          ],
          [
           "20230920",
           0.0034606933593749997
          ],
          [
           "20230920",
           0.0030395507812500003
          ],
          [
           "20230920",
           0.0035400390625
          ],
          [
           "20230920",
           0.003570556640625
          ],
          [
           "20230920",
           0.001475830078125
          ],
          [
           "20230920",
           0.0098419189453125
          ],
          [
           "20230920",
           0.00238037109375
          ],
          [
           "20230920",
           0.00201416015625
          ],
          [
           "20230920",
           0.004310302734374999
          ],
          [
           "20230920",
           0.00479248046875
          ],
          [
           "20230920",
           0.00140380859375
          ],
          [
           "20230920",
           0.0050445556640624995
          ],
          [
           "20230920",
           0.004443359375
          ],
          [
           "20230920",
           0.002001953125
          ],
          [
           "20230920",
           0.0019042968750000002
          ],
          [
           "20230920",
           0.0007904052734375001
          ],
          [
           "20230920",
           0.0035192871093750002
          ],
          [
           "20230920",
           0.0158807373046875
          ],
          [
           "20230920",
           0.004212646484375
          ],
          [
           "20230920",
           0.010806884765625
          ],
          [
           "20230920",
           0.0022265625000000002
          ],
          [
           "20230920",
           0.0020703125
          ],
          [
           "20230920",
           0.0022686767578125
          ],
          [
           "20230920",
           0.0017187500000000002
          ],
          [
           "20230920",
           0.0056097412109375
          ],
          [
           "20230920",
           0.0151220703125
          ],
          [
           "20230920",
           0.0138372802734375
          ],
          [
           "20230920",
           0.010521240234374998
          ],
          [
           "20230920",
           0.007662963867187501
          ],
          [
           "20230920",
           0.011704711914062499
          ],
          [
           "20230920",
           0.005767822265625
          ],
          [
           "20230920",
           0.01772216796875
          ],
          [
           "20230920",
           0.004246826171875
          ],
          [
           "20230920",
           0.012451171875
          ],
          [
           "20230920",
           0.0041656494140625
          ],
          [
           "20230920",
           0.018033447265625
          ],
          [
           "20230920",
           0.01904296875
          ],
          [
           "20230920",
           0.00975341796875
          ],
          [
           "20230920",
           0.025883789062500002
          ],
          [
           "20230920",
           0.013769531250000001
          ],
          [
           "20230920",
           0.010535888671874999
          ],
          [
           "20230920",
           0.010997314453125
          ],
          [
           "20230920",
           0.007331542968749999
          ],
          [
           "20230920",
           0.0036804199218750003
          ],
          [
           "20230920",
           0.0031915283203125004
          ],
          [
           "20230920",
           0.00346435546875
          ],
          [
           "20230920",
           0.004306030273437501
          ],
          [
           "20230920",
           0.0032501220703125
          ],
          [
           "20230920",
           0.0045086669921875
          ],
          [
           "20230920",
           0.009434814453125
          ],
          [
           "20230920",
           0.0010107421875
          ],
          [
           "20230920",
           0.0058563232421875
          ],
          [
           "20230920",
           0.004154052734375
          ],
          [
           "20230920",
           0.009766845703124999
          ],
          [
           "20230920",
           0.0080694580078125
          ],
          [
           "20230920",
           0.00087890625
          ],
          [
           "20230920",
           0.0148236083984375
          ],
          [
           "20230920",
           0.014945068359375
          ],
          [
           "20230920",
           0.017666015625000003
          ],
          [
           "20230920",
           0.011883544921875001
          ],
          [
           "20230920",
           0.02543701171875
          ],
          [
           "20230920",
           0.0033801269531249997
          ],
          [
           "20230920",
           0.0031860351562499997
          ],
          [
           "20230920",
           0.0037841796875
          ],
          [
           "20230920",
           0.005623168945312501
          ],
          [
           "20230920",
           0.0031201171875
          ],
          [
           "20230920",
           0.0068469238281249995
          ],
          [
           "20230920",
           0.0121343994140625
          ],
          [
           "20230920",
           0.0046142578125000005
          ],
          [
           "20230920",
           0.00729736328125
          ],
          [
           "20230920",
           0.004229736328125
          ],
          [
           "20230920",
           0.0072216796875
          ],
          [
           "20230920",
           0.0066064453125000006
          ],
          [
           "20230920",
           0.0028076171875
          ],
          [
           "20230920",
           0.00401611328125
          ],
          [
           "20230920",
           0.00352294921875
          ],
          [
           "20230920",
           0.014614257812499998
          ],
          [
           "20230920",
           0.0170166015625
          ],
          [
           "20230920",
           0.0076556396484375
          ],
          [
           "20230920",
           0.004465332031250001
          ],
          [
           "20230920",
           0.0038348388671875
          ],
          [
           "20230920",
           0.002010498046875
          ],
          [
           "20230920",
           0.0032702636718750003
          ],
          [
           "20230920",
           0.0015765380859375
          ],
          [
           "20230920",
           0.0020367431640625
          ],
          [
           "20230920",
           0.001973876953125
          ],
          [
           "20230920",
           0.0044964599609375
          ],
          [
           "20230920",
           0.004302978515625
          ],
          [
           "20230920",
           0.002845458984375
          ],
          [
           "20230920",
           0.002691650390625
          ],
          [
           "20230920",
           0.00218994140625
          ],
          [
           "20230920",
           0.022896118164062503
          ],
          [
           "20230920",
           0.0095751953125
          ],
          [
           "20230920",
           0.00837890625
          ],
          [
           "20230920",
           0.039404296874999994
          ],
          [
           "20230920",
           0.04105224609375
          ],
          [
           "20230920",
           0.007131347656249999
          ],
          [
           "20230920",
           0.0041656494140625
          ],
          [
           "20230920",
           0.0033197021484375
          ],
          [
           "20230920",
           0.0035534667968749995
          ],
          [
           "20230920",
           0.004150390625
          ],
          [
           "20230920",
           0.0045086669921875
          ],
          [
           "20230920",
           0.0044531250000000005
          ],
          [
           "20230920",
           0.0034094238281250004
          ],
          [
           "20230920",
           0.041405029296875
          ],
          [
           "20230920",
           0.03975585937500001
          ],
          [
           "20230920",
           0.009119873046875001
          ],
          [
           "20230920",
           0.003475341796875
          ],
          [
           "20230920",
           0.019963378906250002
          ],
          [
           "20230920",
           0.0363006591796875
          ],
          [
           "20230920",
           0.006176757812499999
          ],
          [
           "20230920",
           0.0081976318359375
          ],
          [
           "20230920",
           0.008529052734374999
          ],
          [
           "20230920",
           0.0102947998046875
          ],
          [
           "20230920",
           0.010714111328125
          ],
          [
           "20230920",
           0.01012451171875
          ],
          [
           "20230920",
           0.016481933593749998
          ],
          [
           "20230920",
           0.004921875
          ],
          [
           "20230920",
           0.018662109375
          ],
          [
           "20230920",
           0.00531005859375
          ],
          [
           "20230920",
           0.009757690429687499
          ],
          [
           "20230920",
           0.006381225585937501
          ],
          [
           "20230920",
           0.005054931640625
          ],
          [
           "20230920",
           0.006287841796875
          ],
          [
           "20230920",
           0.004443359375
          ],
          [
           "20230920",
           0.007998046875
          ],
          [
           "20230920",
           0.0034954833984375006
          ],
          [
           "20230920",
           0.0035101318359375
          ],
          [
           "20230920",
           0.00506591796875
          ],
          [
           "20230920",
           0.0028222656249999997
          ],
          [
           "20230920",
           0.0034033203124999994
          ],
          [
           "20230920",
           0.0036895751953125
          ],
          [
           "20230920",
           0.0171826171875
          ],
          [
           "20230920",
           0.012056884765625001
          ],
          [
           "20230920",
           0.006848144531249999
          ],
          [
           "20230920",
           0.0068359375
          ],
          [
           "20230920",
           0.0045806884765625
          ],
          [
           "20230920",
           0.005596923828125
          ],
          [
           "20230920",
           0.0128125
          ],
          [
           "20230920",
           0.0062261962890624994
          ],
          [
           "20230920",
           0.03507080078125
          ],
          [
           "20230920",
           0.0064599609375
          ],
          [
           "20230920",
           0.014215087890624999
          ],
          [
           "20230920",
           0.0048663330078125
          ],
          [
           "20230920",
           0.0080035400390625
          ],
          [
           "20230920",
           0.010546874999999999
          ],
          [
           "20230920",
           0.022137451171875
          ],
          [
           "20230920",
           0.01015625
          ],
          [
           "20230920",
           0.014630126953125
          ],
          [
           "20230920",
           0.008671875
          ],
          [
           "20230920",
           0.013937988281249999
          ],
          [
           "20230920",
           0.013051757812499998
          ],
          [
           "20230920",
           0.008271484374999999
          ],
          [
           "20230920",
           0.0075201416015625
          ],
          [
           "20230920",
           0.030847167968750002
          ],
          [
           "20230920",
           0.04349609375
          ],
          [
           "20230920",
           0.02497314453125
          ],
          [
           "20230920",
           0.007519531249999999
          ],
          [
           "20230920",
           0.007910156250000001
          ],
          [
           "20230920",
           0.004965820312500001
          ],
          [
           "20230920",
           0.0028143310546874995
          ],
          [
           "20230920",
           0.003515625
          ],
          [
           "20230920",
           0.0031585693359375
          ],
          [
           "20230920",
           0.005623168945312501
          ],
          [
           "20230920",
           0.0044403076171875
          ],
          [
           "20230920",
           0.016717529296875002
          ],
          [
           "20230920",
           0.00474609375
          ],
          [
           "20230920",
           0.013476562499999999
          ],
          [
           "20230920",
           0.014178466796874999
          ],
          [
           "20230920",
           0.00608154296875
          ],
          [
           "20230920",
           0.0071185302734375
          ],
          [
           "20230920",
           0.004578857421875
          ],
          [
           "20230920",
           0.0074267578124999995
          ],
          [
           "20230920",
           0.0051025390625
          ],
          [
           "20230920",
           0.015209960937500001
          ],
          [
           "20230920",
           0.01444091796875
          ],
          [
           "20230920",
           0.006201171875
          ],
          [
           "20230920",
           0.006038818359374999
          ],
          [
           "20230920",
           0.007532958984374999
          ],
          [
           "20230920",
           0.01173583984375
          ],
          [
           "20230920",
           0.009613037109375
          ],
          [
           "20230920",
           0.0111083984375
          ],
          [
           "20230920",
           0.008648681640625001
          ],
          [
           "20230920",
           0.006160888671875001
          ],
          [
           "20230920",
           0.005794677734375
          ]
         ],
         "hovertemplate": "<b>✅ Detected Prawn</b><br>Image: %{customdata[0]}<br>Width: %{x:.6f}<br>Height: %{y:.6f}<br>Area: %{customdata[1]:.6f}<br><extra></extra>",
         "marker": {
          "color": "green",
          "opacity": 0.6,
          "size": 4
         },
         "mode": "markers",
         "name": "✅ Detected (W×H)",
         "showlegend": false,
         "type": "scatter",
         "x": [
          0.0921875,
          0.1296875,
          0.115625,
          0.21328125,
          0.04375,
          0.12421875,
          0.0515625,
          0.04921875,
          0.0765625,
          0.096875,
          0.02578125,
          0.11953125,
          0.08828125,
          0.1,
          0.1,
          0.06328125,
          0.06328125,
          0.084375,
          0.040625,
          0.06171875,
          0.04296875,
          0.14453125,
          0.15234375,
          0.1265625,
          0.2,
          0.0890625,
          0.21953125,
          0.1265625,
          0.1484375,
          0.07734375,
          0.13125,
          0.09375,
          0.0953125,
          0.08984375,
          0.0796875,
          0.04296875,
          0.0890625,
          0.06953125,
          0.0640625,
          0.14921875,
          0.1171875,
          0.13671875,
          0.1578125,
          0.103125,
          0.1515625,
          0.07265625,
          0.04140625,
          0.13515625,
          0.1484375,
          0.15,
          0.15,
          0.0890625,
          0.0609375,
          0.09140625,
          0.0515625,
          0.071875,
          0.08828125,
          0.109375,
          0.03203125,
          0.075,
          0.08359375,
          0.0671875,
          0.053125,
          0.13984375,
          0.071875,
          0.15078125,
          0.13125,
          0.05859375,
          0.08359375,
          0.04296875,
          0.0734375,
          0.05546875,
          0.0375,
          0.0375,
          0.01953125,
          0.02890625,
          0.103125,
          0.065625,
          0.134375,
          0.0890625,
          0.0671875,
          0.128125,
          0.05390625,
          0.10703125,
          0.0875,
          0.05546875,
          0.12421875,
          0.1234375,
          0.0953125,
          0.15078125,
          0.06953125,
          0.03671875,
          0.08671875,
          0.13671875,
          0.0546875,
          0.07109375,
          0.078125,
          0.090625,
          0.0921875,
          0.03125,
          0.0953125,
          0.06171875,
          0.0703125,
          0.121875,
          0.0609375,
          0.06171875,
          0.1046875,
          0.15625,
          0.1484375,
          0.11328125,
          0.06171875,
          0.134375,
          0.05859375,
          0.03125,
          0.07734375,
          0.071875,
          0.0703125,
          0.08046875,
          0.05703125,
          0.07734375,
          0.0640625,
          0.08125,
          0.0609375,
          0.05078125,
          0.05625,
          0.1453125,
          0.109375,
          0.1046875,
          0.07578125,
          0.1328125,
          0.12890625,
          0.08984375,
          0.046875,
          0.0296875,
          0.0484375,
          0.075,
          0.1375,
          0.134375,
          0.11640625,
          0.0546875,
          0.06796875,
          0.05,
          0.0625,
          0.078125,
          0.1015625,
          0.04140625,
          0.103125,
          0.075,
          0.13671875,
          0.13828125,
          0.059375,
          0.1640625,
          0.1234375,
          0.15703125,
          0.0828125,
          0.07109375,
          0.07265625,
          0.14375,
          0.05625,
          0.11640625,
          0.09453125,
          0.125,
          0.0796875,
          0.340625,
          0.0578125,
          0.0390625,
          0.07421875,
          0.0625,
          0.06796875,
          0.053125,
          0.06484375,
          0.04765625,
          0.04921875,
          0.1109375,
          0.046875,
          0.06171875,
          0.02578125,
          0.1265625,
          0.121875,
          0.07421875,
          0.1203125,
          0.065625,
          0.246875,
          0.16875,
          0.1,
          0.096875,
          0.1484375,
          0.13828125,
          0.04375,
          0.08828125,
          0.07265625,
          0.0921875,
          0.1078125,
          0.14140625,
          0.12578125,
          0.1671875,
          0.0625,
          0.10390625,
          0.14765625,
          0.09765625,
          0.06875,
          0.0796875,
          0.1015625,
          0.07109375,
          0.06875,
          0.0484375,
          0.05,
          0.0328125,
          0.06328125,
          0.01328125,
          0.046875,
          0.09453125,
          0.109375,
          0.0875,
          0.10234375,
          0.22578125,
          0.09296875,
          0.115625,
          0.078125,
          0.15234375,
          0.04921875,
          0.11015625,
          0.1375,
          0.16171875,
          0.15859375,
          0.0359375,
          0.0953125,
          0.053125,
          0.06953125,
          0.1203125,
          0.040625,
          0.096875,
          0.0703125,
          0.10859375,
          0.04375,
          0.08203125,
          0.0921875,
          0.07421875,
          0.06484375,
          0.078125,
          0.03203125,
          0.05546875,
          0.15625,
          0.225,
          0.07890625,
          0.3109375,
          0.053125,
          0.09375,
          0.07734375,
          0.08046875,
          0.084375,
          0.20625,
          0.115625,
          0.096875,
          0.16484375,
          0.1484375,
          0.0765625,
          0.07109375,
          0.0484375,
          0.03515625,
          0.06328125,
          0.046875,
          0.046875,
          0.03984375,
          0.0375,
          0.02890625,
          0.06015625,
          0.115625,
          0.13359375,
          0.11328125,
          0.12265625,
          0.07265625,
          0.10546875,
          0.06484375,
          0.071875,
          0.07578125,
          0.10625,
          0.053125,
          0.05859375,
          0.05546875,
          0.04375,
          0.05234375,
          0.04375,
          0.04921875,
          0.0703125,
          0.13984375,
          0.05703125,
          0.0828125,
          0.0578125,
          0.04609375,
          0.04765625,
          0.05390625,
          0.06796875,
          0.05625,
          0.06015625,
          0.10390625,
          0.1125,
          0.08671875,
          0.0734375,
          0.07890625,
          0.0390625,
          0.08359375,
          0.04375,
          0.06484375,
          0.08671875,
          0.0484375,
          0.084375,
          0.0671875,
          0.06015625,
          0.084375,
          0.0875,
          0.04453125,
          0.078125,
          0.06015625,
          0.059375,
          0.10703125,
          0.09921875,
          0.0875,
          0.06328125,
          0.06484375,
          0.078125,
          0.05859375,
          0.0484375,
          0.09765625,
          0.040625,
          0.0234375,
          0.0515625,
          0.040625,
          0.0359375,
          0.07421875,
          0.0546875,
          0.03203125,
          0.040625,
          0.02890625,
          0.07265625,
          0.11484375,
          0.0453125,
          0.0609375,
          0.05,
          0.05,
          0.04921875,
          0.05,
          0.07890625,
          0.11875,
          0.07734375,
          0.13203125,
          0.10546875,
          0.09921875,
          0.08203125,
          0.09296875,
          0.0765625,
          0.09375,
          0.05078125,
          0.1234375,
          0.15625,
          0.0734375,
          0.178125,
          0.146875,
          0.10703125,
          0.09140625,
          0.103125,
          0.0703125,
          0.04921875,
          0.0515625,
          0.06640625,
          0.05859375,
          0.06484375,
          0.04609375,
          0.028125,
          0.07890625,
          0.06484375,
          0.09921875,
          0.08828125,
          0.028125,
          0.11640625,
          0.12421875,
          0.1125,
          0.12890625,
          0.1078125,
          0.0609375,
          0.0703125,
          0.078125,
          0.08671875,
          0.05546875,
          0.1109375,
          0.11015625,
          0.0546875,
          0.0765625,
          0.0703125,
          0.090625,
          0.06875,
          0.01953125,
          0.0546875,
          0.040625,
          0.128125,
          0.16015625,
          0.08671875,
          0.096875,
          0.08046875,
          0.0421875,
          0.04453125,
          0.04921875,
          0.05546875,
          0.03828125,
          0.04140625,
          0.05859375,
          0.04921875,
          0.04921875,
          0.040625,
          0.18203125,
          0.115625,
          0.103125,
          0.1875,
          0.184375,
          0.071875,
          0.07109375,
          0.03828125,
          0.05546875,
          0.0625,
          0.06484375,
          0.04453125,
          0.04453125,
          0.1671875,
          0.184375,
          0.0484375,
          0.05703125,
          0.115625,
          0.15234375,
          0.0859375,
          0.09453125,
          0.0796875,
          0.07890625,
          0.1046875,
          0.11171875,
          0.12265625,
          0.0984375,
          0.1625,
          0.11328125,
          0.05703125,
          0.09609375,
          0.07890625,
          0.0796875,
          0.0625,
          0.0875,
          0.06484375,
          0.05546875,
          0.0390625,
          0.053125,
          0.053125,
          0.05078125,
          0.1078125,
          0.1296875,
          0.103125,
          0.0875,
          0.07421875,
          0.10234375,
          0.1,
          0.07890625,
          0.1015625,
          0.0984375,
          0.1328125,
          0.09296875,
          0.11015625,
          0.075,
          0.1828125,
          0.125,
          0.1328125,
          0.08671875,
          0.13515625,
          0.103125,
          0.09453125,
          0.08671875,
          0.1484375,
          0.2046875,
          0.165625,
          0.04375,
          0.09375,
          0.05625,
          0.04140625,
          0.0625,
          0.05390625,
          0.06484375,
          0.07578125,
          0.06484375,
          0.084375,
          0.075,
          0.08984375,
          0.0828125,
          0.08515625,
          0.0484375,
          0.05625,
          0.0859375,
          0.1390625,
          0.1421875,
          0.0625,
          0.0796875,
          0.09453125,
          0.059375,
          0.0984375,
          0.08125,
          0.1015625,
          0.08046875,
          0.0734375
         ],
         "xaxis": "x3",
         "y": [
          0.08671875,
          0.1515625,
          0.19140625,
          0.1671875,
          0.0703125,
          0.1171875,
          0.1015625,
          0.17890625,
          0.06875,
          0.08203125,
          0.14765625,
          0.06328125,
          0.075,
          0.1,
          0.08046875,
          0.08828125,
          0.07734375,
          0.06796875,
          0.17265625,
          0.13203125,
          0.078125,
          0.13984375,
          0.07890625,
          0.08828125,
          0.253125,
          0.07109375,
          0.1265625,
          0.13828125,
          0.09609375,
          0.09609375,
          0.11875,
          0.05703125,
          0.1015625,
          0.103125,
          0.06953125,
          0.16328125,
          0.08046875,
          0.0453125,
          0.08828125,
          0.18984375,
          0.11796875,
          0.121875,
          0.15859375,
          0.090625,
          0.18203125,
          0.0625,
          0.11796875,
          0.08125,
          0.07890625,
          0.11640625,
          0.18515625,
          0.08515625,
          0.08515625,
          0.08671875,
          0.1765625,
          0.05078125,
          0.096875,
          0.15703125,
          0.06640625,
          0.05859375,
          0.071875,
          0.07734375,
          0.04765625,
          0.121875,
          0.08046875,
          0.07265625,
          0.1046875,
          0.05546875,
          0.0671875,
          0.14765625,
          0.05234375,
          0.0609375,
          0.0421875,
          0.05234375,
          0.0359375,
          0.0515625,
          0.07734375,
          0.0734375,
          0.13203125,
          0.11328125,
          0.08046875,
          0.26640625,
          0.0984375,
          0.14453125,
          0.20625,
          0.0859375,
          0.040625,
          0.08515625,
          0.084375,
          0.1015625,
          0.10703125,
          0.1359375,
          0.10234375,
          0.134375,
          0.184375,
          0.0625,
          0.10546875,
          0.07890625,
          0.10390625,
          0.05859375,
          0.08671875,
          0.07734375,
          0.053125,
          0.11953125,
          0.08359375,
          0.15625,
          0.1484375,
          0.13515625,
          0.08515625,
          0.08125,
          0.0859375,
          0.07734375,
          0.053125,
          0.1140625,
          0.04609375,
          0.05625,
          0.0765625,
          0.06328125,
          0.0625,
          0.0546875,
          0.05390625,
          0.07421875,
          0.06328125,
          0.05234375,
          0.05078125,
          0.1765625,
          0.08359375,
          0.0875,
          0.06875,
          0.11640625,
          0.0875,
          0.06875,
          0.090625,
          0.1296875,
          0.065625,
          0.0890625,
          0.1265625,
          0.08046875,
          0.13359375,
          0.15078125,
          0.10625,
          0.05078125,
          0.09921875,
          0.07265625,
          0.1265625,
          0.1578125,
          0.071875,
          0.12265625,
          0.12890625,
          0.09375,
          0.15,
          0.184375,
          0.1625,
          0.1125,
          0.08359375,
          0.06875,
          0.14140625,
          0.12734375,
          0.134375,
          0.08671875,
          0.13046875,
          0.0828125,
          0.09140625,
          0.26875,
          0.07734375,
          0.05703125,
          0.08359375,
          0.071875,
          0.075,
          0.11015625,
          0.2484375,
          0.05703125,
          0.04765625,
          0.2125,
          0.18125,
          0.08984375,
          0.140625,
          0.109375,
          0.09765625,
          0.12578125,
          0.08046875,
          0.07265625,
          0.19921875,
          0.1234375,
          0.1109375,
          0.109375,
          0.12734375,
          0.08203125,
          0.134375,
          0.096875,
          0.0640625,
          0.08671875,
          0.11796875,
          0.08828125,
          0.06796875,
          0.12890625,
          0.0703125,
          0.06953125,
          0.121875,
          0.09140625,
          0.0828125,
          0.0625,
          0.0625,
          0.0609375,
          0.0703125,
          0.06640625,
          0.07890625,
          0.0765625,
          0.0859375,
          0.12734375,
          0.0421875,
          0.0890625,
          0.07421875,
          0.10078125,
          0.1359375,
          0.1859375,
          0.06015625,
          0.09140625,
          0.06015625,
          0.1515625,
          0.04921875,
          0.06953125,
          0.084375,
          0.12265625,
          0.196875,
          0.1515625,
          0.09609375,
          0.08984375,
          0.06171875,
          0.09375,
          0.125,
          0.0921875,
          0.090625,
          0.08984375,
          0.1546875,
          0.11328125,
          0.05390625,
          0.05859375,
          0.0640625,
          0.08671875,
          0.08671875,
          0.10078125,
          0.2078125,
          0.21875,
          0.08828125,
          0.3765625,
          0.1890625,
          0.06953125,
          0.0609375,
          0.05859375,
          0.07421875,
          0.2140625,
          0.096875,
          0.04453125,
          0.1015625,
          0.08125,
          0.0484375,
          0.0609375,
          0.04765625,
          0.09140625,
          0.053125,
          0.053125,
          0.0625,
          0.046875,
          0.04375,
          0.12265625,
          0.07421875,
          0.15703125,
          0.13125,
          0.090625,
          0.053125,
          0.0609375,
          0.0734375,
          0.08046875,
          0.04609375,
          0.04921875,
          0.04921875,
          0.1546875,
          0.06796875,
          0.0640625,
          0.0640625,
          0.04453125,
          0.034375,
          0.0359375,
          0.0703125,
          0.08359375,
          0.0453125,
          0.06171875,
          0.0875,
          0.059375,
          0.03515625,
          0.10078125,
          0.04453125,
          0.08671875,
          0.13359375,
          0.0625,
          0.125,
          0.07421875,
          0.0765625,
          0.0453125,
          0.10234375,
          0.0703125,
          0.11328125,
          0.08125,
          0.0953125,
          0.06171875,
          0.0625,
          0.06484375,
          0.053125,
          0.06640625,
          0.053125,
          0.06484375,
          0.046875,
          0.06875,
          0.05078125,
          0.184375,
          0.07265625,
          0.06796875,
          0.0546875,
          0.046875,
          0.0453125,
          0.0609375,
          0.03046875,
          0.10078125,
          0.05859375,
          0.0859375,
          0.08359375,
          0.11796875,
          0.0390625,
          0.06796875,
          0.08125,
          0.0625,
          0.046875,
          0.02734375,
          0.0484375,
          0.13828125,
          0.09296875,
          0.17734375,
          0.04453125,
          0.04140625,
          0.04609375,
          0.034375,
          0.07109375,
          0.12734375,
          0.17890625,
          0.0796875,
          0.07265625,
          0.11796875,
          0.0703125,
          0.190625,
          0.05546875,
          0.1328125,
          0.08203125,
          0.14609375,
          0.121875,
          0.1328125,
          0.1453125,
          0.09375,
          0.0984375,
          0.1203125,
          0.07109375,
          0.05234375,
          0.06484375,
          0.0671875,
          0.06484375,
          0.05546875,
          0.06953125,
          0.2046875,
          0.0359375,
          0.07421875,
          0.0640625,
          0.0984375,
          0.09140625,
          0.03125,
          0.12734375,
          0.1203125,
          0.15703125,
          0.0921875,
          0.2359375,
          0.05546875,
          0.0453125,
          0.0484375,
          0.06484375,
          0.05625,
          0.06171875,
          0.11015625,
          0.084375,
          0.0953125,
          0.06015625,
          0.0796875,
          0.09609375,
          0.14375,
          0.0734375,
          0.08671875,
          0.1140625,
          0.10625,
          0.08828125,
          0.04609375,
          0.04765625,
          0.04765625,
          0.0734375,
          0.03203125,
          0.03671875,
          0.0515625,
          0.10859375,
          0.0734375,
          0.0578125,
          0.0546875,
          0.05390625,
          0.12578125,
          0.0828125,
          0.08125,
          0.21015625,
          0.22265625,
          0.09921875,
          0.05859375,
          0.08671875,
          0.0640625,
          0.06640625,
          0.06953125,
          0.1,
          0.0765625,
          0.24765625,
          0.215625,
          0.18828125,
          0.0609375,
          0.17265625,
          0.23828125,
          0.071875,
          0.08671875,
          0.10703125,
          0.13046875,
          0.10234375,
          0.090625,
          0.134375,
          0.05,
          0.11484375,
          0.046875,
          0.17109375,
          0.06640625,
          0.0640625,
          0.07890625,
          0.07109375,
          0.09140625,
          0.05390625,
          0.06328125,
          0.1296875,
          0.053125,
          0.0640625,
          0.07265625,
          0.159375,
          0.09296875,
          0.06640625,
          0.078125,
          0.06171875,
          0.0546875,
          0.128125,
          0.07890625,
          0.3453125,
          0.065625,
          0.10703125,
          0.05234375,
          0.07265625,
          0.140625,
          0.12109375,
          0.08125,
          0.11015625,
          0.1,
          0.103125,
          0.1265625,
          0.0875,
          0.08671875,
          0.2078125,
          0.2125,
          0.15078125,
          0.171875,
          0.084375,
          0.08828125,
          0.06796875,
          0.05625,
          0.05859375,
          0.08671875,
          0.05859375,
          0.2578125,
          0.05625,
          0.1796875,
          0.1578125,
          0.0734375,
          0.08359375,
          0.09453125,
          0.13203125,
          0.059375,
          0.109375,
          0.1015625,
          0.09921875,
          0.07578125,
          0.0796875,
          0.19765625,
          0.09765625,
          0.13671875,
          0.08515625,
          0.0765625,
          0.07890625
         ],
         "yaxis": "y3"
        },
        {
         "customdata": [
          [
           "20230920",
           0.005758056640625
          ],
          [
           "20230920",
           0.0027191162109375
          ],
          [
           "20230920",
           0.002490234375
          ],
          [
           "20230920",
           0.00250244140625
          ],
          [
           "20230920",
           0.0021234130859375
          ],
          [
           "20230920",
           0.0025634765625
          ],
          [
           "20230920",
           0.0021221923828124998
          ],
          [
           "20230920",
           0.0086962890625
          ],
          [
           "20230920",
           0.0018438720703125
          ],
          [
           "20230920",
           0.0063189697265625
          ],
          [
           "20230920",
           0.0044360351562499995
          ],
          [
           "20230920",
           0.002783203125
          ],
          [
           "20230920",
           0.003453369140625
          ],
          [
           "20230920",
           0.008613281249999999
          ],
          [
           "20230920",
           0.00861328125
          ],
          [
           "20230920",
           0.001680908203125
          ],
          [
           "20230920",
           0.010859375000000001
          ],
          [
           "20230920",
           0.0030334472656249997
          ],
          [
           "20230920",
           0.00178466796875
          ],
          [
           "20230920",
           0.00152587890625
          ],
          [
           "20230920",
           0.00355712890625
          ],
          [
           "20230920",
           0.0019921875
          ],
          [
           "20230920",
           0.00335693359375
          ],
          [
           "20230920",
           0.0013476562500000001
          ],
          [
           "20230920",
           0.001513671875
          ],
          [
           "20230920",
           0.010009765625
          ],
          [
           "20230920",
           0.0017211914062500002
          ],
          [
           "20230920",
           0.001845703125
          ],
          [
           "20230920",
           0.0060540771484375
          ],
          [
           "20230920",
           0.0038092041015625002
          ],
          [
           "20230920",
           0.0016265869140625
          ],
          [
           "20230920",
           0.001600341796875
          ],
          [
           "20230920",
           0.001097412109375
          ],
          [
           "20230920",
           0.0024700927734375
          ],
          [
           "20230920",
           0.0021966552734375
          ],
          [
           "20230920",
           0.0045794677734375
          ],
          [
           "20230920",
           0.003525390625
          ],
          [
           "20230920",
           0.00322998046875
          ],
          [
           "20230920",
           0.0023095703125
          ],
          [
           "20230920",
           0.00164794921875
          ],
          [
           "20230920",
           0.00136474609375
          ],
          [
           "20230920",
           0.0010260009765625
          ],
          [
           "20230920",
           0.00149169921875
          ],
          [
           "20230920",
           0.001861572265625
          ],
          [
           "20230920",
           0.0020703125
          ],
          [
           "20230920",
           0.0018408203125
          ],
          [
           "20230920",
           0.0016748046875
          ],
          [
           "20230920",
           0.00125244140625
          ],
          [
           "20230920",
           0.0034210205078125003
          ],
          [
           "20230920",
           0.002935791015625
          ],
          [
           "20230920",
           0.0015722656249999999
          ],
          [
           "20230920",
           0.0024163818359374998
          ],
          [
           "20230920",
           0.00161865234375
          ],
          [
           "20230920",
           0.0030267333984375
          ],
          [
           "20230920",
           0.0003021240234375
          ],
          [
           "20230920",
           0.0114501953125
          ],
          [
           "20230920",
           0.0018786621093750003
          ],
          [
           "20230920",
           0.005887451171875
          ]
         ],
         "hovertemplate": "<b>❌ Missed Prawn</b><br>Image: %{customdata[0]}<br>Width: %{x:.6f}<br>Height: %{y:.6f}<br>Area: %{customdata[1]:.6f}<br><extra></extra>",
         "marker": {
          "color": "red",
          "opacity": 0.8,
          "size": 6,
          "symbol": "x"
         },
         "mode": "markers",
         "name": "❌ Missed (W×H)",
         "showlegend": false,
         "type": "scatter",
         "x": [
          0.0828125,
          0.04296875,
          0.053125,
          0.0390625,
          0.03828125,
          0.0546875,
          0.04453125,
          0.08125,
          0.04140625,
          0.06796875,
          0.06171875,
          0.04453125,
          0.05390625,
          0.075,
          0.0765625,
          0.0421875,
          0.1,
          0.0546875,
          0.03359375,
          0.0390625,
          0.0734375,
          0.0265625,
          0.04296875,
          0.025,
          0.03125,
          0.0625,
          0.046875,
          0.04921875,
          0.07109375,
          0.06171875,
          0.03203125,
          0.05390625,
          0.0484375,
          0.04453125,
          0.04609375,
          0.04765625,
          0.059375,
          0.04921875,
          0.034375,
          0.028125,
          0.03359375,
          0.03203125,
          0.0203125,
          0.0390625,
          0.04140625,
          0.040625,
          0.04375,
          0.0296875,
          0.04609375,
          0.05078125,
          0.0359375,
          0.02890625,
          0.040625,
          0.02265625,
          0.04296875,
          0.1046875,
          0.04453125,
          0.07109375
         ],
         "xaxis": "x3",
         "y": [
          0.06953125,
          0.06328125,
          0.046875,
          0.0640625,
          0.05546875,
          0.046875,
          0.04765625,
          0.10703125,
          0.04453125,
          0.09296875,
          0.071875,
          0.0625,
          0.0640625,
          0.11484375,
          0.1125,
          0.03984375,
          0.10859375,
          0.05546875,
          0.053125,
          0.0390625,
          0.0484375,
          0.075,
          0.078125,
          0.05390625,
          0.0484375,
          0.16015625,
          0.03671875,
          0.0375,
          0.08515625,
          0.06171875,
          0.05078125,
          0.0296875,
          0.02265625,
          0.05546875,
          0.04765625,
          0.09609375,
          0.059375,
          0.065625,
          0.0671875,
          0.05859375,
          0.040625,
          0.03203125,
          0.0734375,
          0.04765625,
          0.05,
          0.0453125,
          0.03828125,
          0.0421875,
          0.07421875,
          0.0578125,
          0.04375,
          0.08359375,
          0.03984375,
          0.13359375,
          0.00703125,
          0.109375,
          0.0421875,
          0.0828125
         ],
         "yaxis": "y3"
        },
        {
         "hovertemplate": "<b>%{x} percentile</b><br>Miss Rate: %{y:.1f}%<br><extra></extra>",
         "marker": {
          "color": "orange"
         },
         "name": "Miss Rate %",
         "showlegend": false,
         "type": "bar",
         "x": [
          "0-10%",
          "10-25%",
          "25-50%",
          "50-75%",
          "75-90%",
          "90-100%"
         ],
         "xaxis": "x4",
         "y": [
          49.122807017543856,
          20,
          2.8368794326241136,
          4.964539007092199,
          2.3529411764705883,
          0
         ],
         "yaxis": "y4"
        }
       ],
       "layout": {
        "annotations": [
         {
          "font": {
           "size": 16
          },
          "showarrow": false,
          "text": "🎯 Individual Prawn Areas vs Detection Status",
          "x": 0.225,
          "xanchor": "center",
          "xref": "paper",
          "y": 1,
          "yanchor": "bottom",
          "yref": "paper"
         },
         {
          "font": {
           "size": 16
          },
          "showarrow": false,
          "text": "📊 Area Distribution by Detection Status",
          "x": 0.775,
          "xanchor": "center",
          "xref": "paper",
          "y": 1,
          "yanchor": "bottom",
          "yref": "paper"
         },
         {
          "font": {
           "size": 16
          },
          "showarrow": false,
          "text": "📏 Width vs Height (colored by detection)",
          "x": 0.225,
          "xanchor": "center",
          "xref": "paper",
          "y": 0.375,
          "yanchor": "bottom",
          "yref": "paper"
         },
         {
          "font": {
           "size": 16
          },
          "showarrow": false,
          "text": "📈 Miss Rate by Area Percentile",
          "x": 0.775,
          "xanchor": "center",
          "xref": "paper",
          "y": 0.375,
          "yanchor": "bottom",
          "yref": "paper"
         }
        ],
        "height": 800,
        "showlegend": true,
        "template": {
         "data": {
          "bar": [
           {
            "error_x": {
             "color": "#2a3f5f"
            },
            "error_y": {
             "color": "#2a3f5f"
            },
            "marker": {
             "line": {
              "color": "#E5ECF6",
              "width": 0.5
             },
             "pattern": {
              "fillmode": "overlay",
              "size": 10,
              "solidity": 0.2
             }
            },
            "type": "bar"
           }
          ],
          "barpolar": [
           {
            "marker": {
             "line": {
              "color": "#E5ECF6",
              "width": 0.5
             },
             "pattern": {
              "fillmode": "overlay",
              "size": 10,
              "solidity": 0.2
             }
            },
            "type": "barpolar"
           }
          ],
          "carpet": [
           {
            "aaxis": {
             "endlinecolor": "#2a3f5f",
             "gridcolor": "white",
             "linecolor": "white",
             "minorgridcolor": "white",
             "startlinecolor": "#2a3f5f"
            },
            "baxis": {
             "endlinecolor": "#2a3f5f",
             "gridcolor": "white",
             "linecolor": "white",
             "minorgridcolor": "white",
             "startlinecolor": "#2a3f5f"
            },
            "type": "carpet"
           }
          ],
          "choropleth": [
           {
            "colorbar": {
             "outlinewidth": 0,
             "ticks": ""
            },
            "type": "choropleth"
           }
          ],
          "contour": [
           {
            "colorbar": {
             "outlinewidth": 0,
             "ticks": ""
            },
            "colorscale": [
             [
              0,
              "#0d0887"
             ],
             [
              0.1111111111111111,
              "#46039f"
             ],
             [
              0.2222222222222222,
              "#7201a8"
             ],
             [
              0.3333333333333333,
              "#9c179e"
             ],
             [
              0.4444444444444444,
              "#bd3786"
             ],
             [
              0.5555555555555556,
              "#d8576b"
             ],
             [
              0.6666666666666666,
              "#ed7953"
             ],
             [
              0.7777777777777778,
              "#fb9f3a"
             ],
             [
              0.8888888888888888,
              "#fdca26"
             ],
             [
              1,
              "#f0f921"
             ]
            ],
            "type": "contour"
           }
          ],
          "contourcarpet": [
           {
            "colorbar": {
             "outlinewidth": 0,
             "ticks": ""
            },
            "type": "contourcarpet"
           }
          ],
          "heatmap": [
           {
            "colorbar": {
             "outlinewidth": 0,
             "ticks": ""
            },
            "colorscale": [
             [
              0,
              "#0d0887"
             ],
             [
              0.1111111111111111,
              "#46039f"
             ],
             [
              0.2222222222222222,
              "#7201a8"
             ],
             [
              0.3333333333333333,
              "#9c179e"
             ],
             [
              0.4444444444444444,
              "#bd3786"
             ],
             [
              0.5555555555555556,
              "#d8576b"
             ],
             [
              0.6666666666666666,
              "#ed7953"
             ],
             [
              0.7777777777777778,
              "#fb9f3a"
             ],
             [
              0.8888888888888888,
              "#fdca26"
             ],
             [
              1,
              "#f0f921"
             ]
            ],
            "type": "heatmap"
           }
          ],
          "heatmapgl": [
           {
            "colorbar": {
             "outlinewidth": 0,
             "ticks": ""
            },
            "colorscale": [
             [
              0,
              "#0d0887"
             ],
             [
              0.1111111111111111,
              "#46039f"
             ],
             [
              0.2222222222222222,
              "#7201a8"
             ],
             [
              0.3333333333333333,
              "#9c179e"
             ],
             [
              0.4444444444444444,
              "#bd3786"
             ],
             [
              0.5555555555555556,
              "#d8576b"
             ],
             [
              0.6666666666666666,
              "#ed7953"
             ],
             [
              0.7777777777777778,
              "#fb9f3a"
             ],
             [
              0.8888888888888888,
              "#fdca26"
             ],
             [
              1,
              "#f0f921"
             ]
            ],
            "type": "heatmapgl"
           }
          ],
          "histogram": [
           {
            "marker": {
             "pattern": {
              "fillmode": "overlay",
              "size": 10,
              "solidity": 0.2
             }
            },
            "type": "histogram"
           }
          ],
          "histogram2d": [
           {
            "colorbar": {
             "outlinewidth": 0,
             "ticks": ""
            },
            "colorscale": [
             [
              0,
              "#0d0887"
             ],
             [
              0.1111111111111111,
              "#46039f"
             ],
             [
              0.2222222222222222,
              "#7201a8"
             ],
             [
              0.3333333333333333,
              "#9c179e"
             ],
             [
              0.4444444444444444,
              "#bd3786"
             ],
             [
              0.5555555555555556,
              "#d8576b"
             ],
             [
              0.6666666666666666,
              "#ed7953"
             ],
             [
              0.7777777777777778,
              "#fb9f3a"
             ],
             [
              0.8888888888888888,
              "#fdca26"
             ],
             [
              1,
              "#f0f921"
             ]
            ],
            "type": "histogram2d"
           }
          ],
          "histogram2dcontour": [
           {
            "colorbar": {
             "outlinewidth": 0,
             "ticks": ""
            },
            "colorscale": [
             [
              0,
              "#0d0887"
             ],
             [
              0.1111111111111111,
              "#46039f"
             ],
             [
              0.2222222222222222,
              "#7201a8"
             ],
             [
              0.3333333333333333,
              "#9c179e"
             ],
             [
              0.4444444444444444,
              "#bd3786"
             ],
             [
              0.5555555555555556,
              "#d8576b"
             ],
             [
              0.6666666666666666,
              "#ed7953"
             ],
             [
              0.7777777777777778,
              "#fb9f3a"
             ],
             [
              0.8888888888888888,
              "#fdca26"
             ],
             [
              1,
              "#f0f921"
             ]
            ],
            "type": "histogram2dcontour"
           }
          ],
          "mesh3d": [
           {
            "colorbar": {
             "outlinewidth": 0,
             "ticks": ""
            },
            "type": "mesh3d"
           }
          ],
          "parcoords": [
           {
            "line": {
             "colorbar": {
              "outlinewidth": 0,
              "ticks": ""
             }
            },
            "type": "parcoords"
           }
          ],
          "pie": [
           {
            "automargin": true,
            "type": "pie"
           }
          ],
          "scatter": [
           {
            "fillpattern": {
             "fillmode": "overlay",
             "size": 10,
             "solidity": 0.2
            },
            "type": "scatter"
           }
          ],
          "scatter3d": [
           {
            "line": {
             "colorbar": {
              "outlinewidth": 0,
              "ticks": ""
             }
            },
            "marker": {
             "colorbar": {
              "outlinewidth": 0,
              "ticks": ""
             }
            },
            "type": "scatter3d"
           }
          ],
          "scattercarpet": [
           {
            "marker": {
             "colorbar": {
              "outlinewidth": 0,
              "ticks": ""
             }
            },
            "type": "scattercarpet"
           }
          ],
          "scattergeo": [
           {
            "marker": {
             "colorbar": {
              "outlinewidth": 0,
              "ticks": ""
             }
            },
            "type": "scattergeo"
           }
          ],
          "scattergl": [
           {
            "marker": {
             "colorbar": {
              "outlinewidth": 0,
              "ticks": ""
             }
            },
            "type": "scattergl"
           }
          ],
          "scattermapbox": [
           {
            "marker": {
             "colorbar": {
              "outlinewidth": 0,
              "ticks": ""
             }
            },
            "type": "scattermapbox"
           }
          ],
          "scatterpolar": [
           {
            "marker": {
             "colorbar": {
              "outlinewidth": 0,
              "ticks": ""
             }
            },
            "type": "scatterpolar"
           }
          ],
          "scatterpolargl": [
           {
            "marker": {
             "colorbar": {
              "outlinewidth": 0,
              "ticks": ""
             }
            },
            "type": "scatterpolargl"
           }
          ],
          "scatterternary": [
           {
            "marker": {
             "colorbar": {
              "outlinewidth": 0,
              "ticks": ""
             }
            },
            "type": "scatterternary"
           }
          ],
          "surface": [
           {
            "colorbar": {
             "outlinewidth": 0,
             "ticks": ""
            },
            "colorscale": [
             [
              0,
              "#0d0887"
             ],
             [
              0.1111111111111111,
              "#46039f"
             ],
             [
              0.2222222222222222,
              "#7201a8"
             ],
             [
              0.3333333333333333,
              "#9c179e"
             ],
             [
              0.4444444444444444,
              "#bd3786"
             ],
             [
              0.5555555555555556,
              "#d8576b"
             ],
             [
              0.6666666666666666,
              "#ed7953"
             ],
             [
              0.7777777777777778,
              "#fb9f3a"
             ],
             [
              0.8888888888888888,
              "#fdca26"
             ],
             [
              1,
              "#f0f921"
             ]
            ],
            "type": "surface"
           }
          ],
          "table": [
           {
            "cells": {
             "fill": {
              "color": "#EBF0F8"
             },
             "line": {
              "color": "white"
             }
            },
            "header": {
             "fill": {
              "color": "#C8D4E3"
             },
             "line": {
              "color": "white"
             }
            },
            "type": "table"
           }
          ]
         },
         "layout": {
          "annotationdefaults": {
           "arrowcolor": "#2a3f5f",
           "arrowhead": 0,
           "arrowwidth": 1
          },
          "autotypenumbers": "strict",
          "coloraxis": {
           "colorbar": {
            "outlinewidth": 0,
            "ticks": ""
           }
          },
          "colorscale": {
           "diverging": [
            [
             0,
             "#8e0152"
            ],
            [
             0.1,
             "#c51b7d"
            ],
            [
             0.2,
             "#de77ae"
            ],
            [
             0.3,
             "#f1b6da"
            ],
            [
             0.4,
             "#fde0ef"
            ],
            [
             0.5,
             "#f7f7f7"
            ],
            [
             0.6,
             "#e6f5d0"
            ],
            [
             0.7,
             "#b8e186"
            ],
            [
             0.8,
             "#7fbc41"
            ],
            [
             0.9,
             "#4d9221"
            ],
            [
             1,
             "#276419"
            ]
           ],
           "sequential": [
            [
             0,
             "#0d0887"
            ],
            [
             0.1111111111111111,
             "#46039f"
            ],
            [
             0.2222222222222222,
             "#7201a8"
            ],
            [
             0.3333333333333333,
             "#9c179e"
            ],
            [
             0.4444444444444444,
             "#bd3786"
            ],
            [
             0.5555555555555556,
             "#d8576b"
            ],
            [
             0.6666666666666666,
             "#ed7953"
            ],
            [
             0.7777777777777778,
             "#fb9f3a"
            ],
            [
             0.8888888888888888,
             "#fdca26"
            ],
            [
             1,
             "#f0f921"
            ]
           ],
           "sequentialminus": [
            [
             0,
             "#0d0887"
            ],
            [
             0.1111111111111111,
             "#46039f"
            ],
            [
             0.2222222222222222,
             "#7201a8"
            ],
            [
             0.3333333333333333,
             "#9c179e"
            ],
            [
             0.4444444444444444,
             "#bd3786"
            ],
            [
             0.5555555555555556,
             "#d8576b"
            ],
            [
             0.6666666666666666,
             "#ed7953"
            ],
            [
             0.7777777777777778,
             "#fb9f3a"
            ],
            [
             0.8888888888888888,
             "#fdca26"
            ],
            [
             1,
             "#f0f921"
            ]
           ]
          },
          "colorway": [
           "#636efa",
           "#EF553B",
           "#00cc96",
           "#ab63fa",
           "#FFA15A",
           "#19d3f3",
           "#FF6692",
           "#B6E880",
           "#FF97FF",
           "#FECB52"
          ],
          "font": {
           "color": "#2a3f5f"
          },
          "geo": {
           "bgcolor": "white",
           "lakecolor": "white",
           "landcolor": "#E5ECF6",
           "showlakes": true,
           "showland": true,
           "subunitcolor": "white"
          },
          "hoverlabel": {
           "align": "left"
          },
          "hovermode": "closest",
          "mapbox": {
           "style": "light"
          },
          "paper_bgcolor": "white",
          "plot_bgcolor": "#E5ECF6",
          "polar": {
           "angularaxis": {
            "gridcolor": "white",
            "linecolor": "white",
            "ticks": ""
           },
           "bgcolor": "#E5ECF6",
           "radialaxis": {
            "gridcolor": "white",
            "linecolor": "white",
            "ticks": ""
           }
          },
          "scene": {
           "xaxis": {
            "backgroundcolor": "#E5ECF6",
            "gridcolor": "white",
            "gridwidth": 2,
            "linecolor": "white",
            "showbackground": true,
            "ticks": "",
            "zerolinecolor": "white"
           },
           "yaxis": {
            "backgroundcolor": "#E5ECF6",
            "gridcolor": "white",
            "gridwidth": 2,
            "linecolor": "white",
            "showbackground": true,
            "ticks": "",
            "zerolinecolor": "white"
           },
           "zaxis": {
            "backgroundcolor": "#E5ECF6",
            "gridcolor": "white",
            "gridwidth": 2,
            "linecolor": "white",
            "showbackground": true,
            "ticks": "",
            "zerolinecolor": "white"
           }
          },
          "shapedefaults": {
           "line": {
            "color": "#2a3f5f"
           }
          },
          "ternary": {
           "aaxis": {
            "gridcolor": "white",
            "linecolor": "white",
            "ticks": ""
           },
           "baxis": {
            "gridcolor": "white",
            "linecolor": "white",
            "ticks": ""
           },
           "bgcolor": "#E5ECF6",
           "caxis": {
            "gridcolor": "white",
            "linecolor": "white",
            "ticks": ""
           }
          },
          "title": {
           "x": 0.05
          },
          "xaxis": {
           "automargin": true,
           "gridcolor": "white",
           "linecolor": "white",
           "ticks": "",
           "title": {
            "standoff": 15
           },
           "zerolinecolor": "white",
           "zerolinewidth": 2
          },
          "yaxis": {
           "automargin": true,
           "gridcolor": "white",
           "linecolor": "white",
           "ticks": "",
           "title": {
            "standoff": 15
           },
           "zerolinecolor": "white",
           "zerolinewidth": 2
          }
         }
        },
        "title": {
         "text": "🔍 Individual Prawn Analysis: Bounding Box Area vs Detection Success"
        },
        "width": 1400,
        "xaxis": {
         "anchor": "y",
         "domain": [
          0,
          0.45
         ],
         "title": {
          "text": "Prawn Index"
         }
        },
        "xaxis2": {
         "anchor": "y2",
         "domain": [
          0.55,
          1
         ],
         "title": {
          "text": "Detection Status"
         }
        },
        "xaxis3": {
         "anchor": "y3",
         "domain": [
          0,
          0.45
         ],
         "title": {
          "text": "Width (normalized)"
         }
        },
        "xaxis4": {
         "anchor": "y4",
         "domain": [
          0.55,
          1
         ],
         "title": {
          "text": "Area Percentile Bin"
         }
        },
        "yaxis": {
         "anchor": "x",
         "domain": [
          0.625,
          1
         ],
         "title": {
          "text": "Area (normalized)"
         }
        },
        "yaxis2": {
         "anchor": "x2",
         "domain": [
          0.625,
          1
         ],
         "title": {
          "text": "Area (normalized)"
         }
        },
        "yaxis3": {
         "anchor": "x3",
         "domain": [
          0,
          0.375
         ],
         "title": {
          "text": "Height (normalized)"
         }
        },
        "yaxis4": {
         "anchor": "x4",
         "domain": [
          0,
          0.375
         ],
         "title": {
          "text": "Miss Rate (%)"
         }
        }
       }
      }
     },
     "metadata": {},
     "output_type": "display_data"
    },
    {
     "name": "stdout",
     "output_type": "stream",
     "text": [
      "\n",
      "🔍 INDIVIDUAL PRAWN INSIGHTS:\n",
      "\n",
      "📊 BASIC STATISTICS:\n",
      "   Total prawns analyzed: 561\n",
      "   Successfully detected: 503 (89.7%)\n",
      "   Missed (false negatives): 58 (10.3%)\n",
      "\n",
      "📏 SIZE COMPARISON:\n",
      "   Detected prawns - Mean area: 0.009455\n",
      "   Missed prawns - Mean area: 0.003285\n",
      "   Ratio (missed/detected): 0.347\n",
      "   📉 Missed prawns are on average 65.3% smaller\n",
      "\n",
      "💡 KEY INSIGHTS:\n",
      "   • Each point in the scatter plot represents one individual prawn\n",
      "   • Green circles = successfully detected prawns\n",
      "   • Red X's = missed prawns (false negatives)\n",
      "   • The visualization shows if smaller prawns are more likely to be missed\n",
      "   • Box plots compare the area distributions between detected and missed prawns\n"
     ]
    }
   ],
   "source": [
    "# Create interactive visualization showing individual prawn areas vs detection status\n",
    "\n",
    "import pandas as pd\n",
    "import plotly.graph_objects as go\n",
    "from plotly.subplots import make_subplots\n",
    "import numpy as np\n",
    "\n",
    "print(\"📊 CREATING VISUALIZATION: Individual Prawn Areas vs Detection Success\\n\")\n",
    "\n",
    "# Define IoU calculation function\n",
    "def calculate_iou(box1, box2):\n",
    "    \"\"\"Calculate IoU between two boxes in [x_center, y_center, width, height] format\"\"\"\n",
    "    # Convert to corner coordinates\n",
    "    x1_min, y1_min = box1[0] - box1[2]/2, box1[1] - box1[3]/2\n",
    "    x1_max, y1_max = box1[0] + box1[2]/2, box1[1] + box1[3]/2\n",
    "    \n",
    "    x2_min, y2_min = box2[0] - box2[2]/2, box2[1] - box2[3]/2\n",
    "    x2_max, y2_max = box2[0] + box2[2]/2, box2[1] + box2[3]/2\n",
    "    \n",
    "    # Calculate intersection\n",
    "    inter_xmin = max(x1_min, x2_min)\n",
    "    inter_ymin = max(y1_min, y2_min)\n",
    "    inter_xmax = min(x1_max, x2_max)\n",
    "    inter_ymax = min(y1_max, y2_max)\n",
    "    \n",
    "    if inter_xmax <= inter_xmin or inter_ymax <= inter_ymin:\n",
    "        return 0.0\n",
    "    \n",
    "    inter_area = (inter_xmax - inter_xmin) * (inter_ymax - inter_ymin)\n",
    "    box1_area = box1[2] * box1[3]\n",
    "    box2_area = box2[2] * box2[3]\n",
    "    union_area = box1_area + box2_area - inter_area\n",
    "    \n",
    "    return inter_area / union_area if union_area > 0 else 0.0\n",
    "\n",
    "# Create analysis data directly from the dataset\n",
    "print(\"🔍 Analyzing individual prawn areas and detection status...\")\n",
    "individual_prawn_data = []\n",
    "\n",
    "for sample in test_set_view.iter_samples():\n",
    "    sample_name = sample.filepath.split('/')[-1]\n",
    "    \n",
    "    # Get ground truth boxes\n",
    "    gt_boxes = []\n",
    "    if hasattr(sample, 'ground_truth') and sample.ground_truth:\n",
    "        for detection in sample.ground_truth.detections:\n",
    "            x, y, w, h = detection.bounding_box\n",
    "            # Convert from corner format to center format for IoU calculation\n",
    "            gt_center = [x + w/2, y + h/2, w, h]\n",
    "            gt_boxes.append({\n",
    "                'box': gt_center,\n",
    "                'area': w * h,\n",
    "                'width': w,\n",
    "                'height': h,\n",
    "                'corner_box': [x, y, w, h]\n",
    "            })\n",
    "    \n",
    "    # Get prediction boxes  \n",
    "    pred_boxes = []\n",
    "    if hasattr(sample, 'prawn') and sample.prawn:\n",
    "        for detection in sample.prawn.detections:\n",
    "            x, y, w, h = detection.bounding_box\n",
    "            # Convert from corner format to center format for IoU calculation\n",
    "            pred_center = [x + w/2, y + h/2, w, h]\n",
    "            pred_boxes.append({\n",
    "                'box': pred_center,\n",
    "                'confidence': detection.confidence if hasattr(detection, 'confidence') else 0.5\n",
    "            })\n",
    "    \n",
    "    # Match predictions to ground truth using IoU\n",
    "    iou_threshold = 0.1\n",
    "    matched_gt = set()\n",
    "    \n",
    "    # For each ground truth, check if it was detected\n",
    "    for i, gt in enumerate(gt_boxes):\n",
    "        detected = False\n",
    "        best_iou = 0\n",
    "        \n",
    "        for pred in pred_boxes:\n",
    "            iou = calculate_iou(gt['box'], pred['box'])\n",
    "            if iou >= iou_threshold:\n",
    "                detected = True\n",
    "                best_iou = max(best_iou, iou)\n",
    "                matched_gt.add(i)\n",
    "                break\n",
    "        \n",
    "        # Add individual prawn data\n",
    "        individual_prawn_data.append({\n",
    "            'image_name': sample_name.replace('.jpg', '').replace('.rf.', '_').split(\"_\")[0],\n",
    "            'prawn_id': f\"{sample_name}_{i+1}\",\n",
    "            'area': gt['area'],\n",
    "            'width': gt['width'],\n",
    "            'height': gt['height'],\n",
    "            'detection_status': 'GT_TP' if detected else 'FN',\n",
    "            'detected': 1 if detected else 0,\n",
    "            'missed': 0 if detected else 1,\n",
    "            'best_iou': best_iou\n",
    "        })\n",
    "\n",
    "print(f\"✅ Analyzed {len(individual_prawn_data)} individual prawns from {len(test_set_view)} images\")\n",
    "\n",
    "# Convert to DataFrame\n",
    "df_prawns = pd.DataFrame(individual_prawn_data)\n",
    "df_prawns[\"clean_name\"] = df_prawns[\"image_name\"].str.split(\"_\").str[0]\n",
    "\n",
    "print(f\"✅ Collected data for {len(df_prawns)} individual prawns\")\n",
    "print(f\"   Detected (TP): {df_prawns['detected'].sum()}\")\n",
    "print(f\"   Missed (FN): {df_prawns['missed'].sum()}\")\n",
    "\n",
    "# Create the interactive scatter plot\n",
    "fig = make_subplots(\n",
    "    rows=2, cols=2,\n",
    "    subplot_titles=[\n",
    "        \"🎯 Individual Prawn Areas vs Detection Status\",\n",
    "        \"📊 Area Distribution by Detection Status\", \n",
    "        \"📏 Width vs Height (colored by detection)\",\n",
    "        \"📈 Miss Rate by Area Percentile\"\n",
    "    ],\n",
    "    specs=[[{\"secondary_y\": False}, {\"secondary_y\": False}],\n",
    "           [{\"secondary_y\": False}, {\"secondary_y\": False}]]\n",
    ")\n",
    "\n",
    "# 1. Scatter plot: Area vs Detection Status\n",
    "detected_prawns = df_prawns[df_prawns['detection_status'] == 'GT_TP']\n",
    "missed_prawns = df_prawns[df_prawns['detection_status'] == 'FN']\n",
    "\n",
    "# Add detected prawns\n",
    "fig.add_trace(\n",
    "    go.Scatter(\n",
    "        x=detected_prawns.index,\n",
    "        y=detected_prawns['area'],\n",
    "        mode='markers',\n",
    "        name='✅ Detected (TP)',\n",
    "        marker=dict(\n",
    "            color='green',\n",
    "            size=6,\n",
    "            opacity=0.7\n",
    "        ),\n",
    "        hovertemplate=\"<b>✅ Detected Prawn</b><br>\" +\n",
    "                      \"Image: %{customdata[0]}<br>\" +\n",
    "                      \"Prawn ID: %{customdata[1]}<br>\" +\n",
    "                      \"Area: %{y:.6f}<br>\" +\n",
    "                      \"Width: %{customdata[2]:.6f}<br>\" +\n",
    "                      \"Height: %{customdata[3]:.6f}<br>\" +\n",
    "                      \"IoU: %{customdata[4]:.3f}<br>\" +\n",
    "                      \"<extra></extra>\",\n",
    "        customdata=list(zip(detected_prawns['clean_name'], \n",
    "                           detected_prawns['prawn_id'],\n",
    "                           detected_prawns['width'],\n",
    "                           detected_prawns['height'], \n",
    "                           detected_prawns['best_iou']))\n",
    "    ),\n",
    "    row=1, col=1\n",
    ")\n",
    "\n",
    "# Add missed prawns\n",
    "fig.add_trace(\n",
    "    go.Scatter(\n",
    "        x=missed_prawns.index,\n",
    "        y=missed_prawns['area'],\n",
    "        mode='markers',\n",
    "        name='❌ Missed (FN)',\n",
    "        marker=dict(\n",
    "            color='red',\n",
    "            size=8,\n",
    "            opacity=0.8,\n",
    "            symbol='x'\n",
    "        ),\n",
    "        hovertemplate=\"<b>❌ Missed Prawn</b><br>\" +\n",
    "                      \"Image: %{customdata[0]}<br>\" +\n",
    "                      \"Prawn ID: %{customdata[1]}<br>\" +\n",
    "                      \"Area: %{y:.6f}<br>\" +\n",
    "                      \"Width: %{customdata[2]:.6f}<br>\" +\n",
    "                      \"Height: %{customdata[3]:.6f}<br>\" +\n",
    "                      \"Best IoU: %{customdata[4]:.3f}<br>\" +\n",
    "                      \"<extra></extra>\",\n",
    "        customdata=list(zip(missed_prawns['clean_name'], \n",
    "                           missed_prawns['prawn_id'],\n",
    "                           missed_prawns['width'],\n",
    "                           missed_prawns['height'], \n",
    "                           missed_prawns['best_iou']))\n",
    "    ),\n",
    "    row=1, col=1\n",
    ")\n",
    "\n",
    "# 2. Box plot: Area distribution by detection status\n",
    "fig.add_trace(\n",
    "    go.Box(\n",
    "        y=detected_prawns['area'],\n",
    "        name='✅ Detected',\n",
    "        marker_color='green',\n",
    "        boxpoints='outliers'\n",
    "    ),\n",
    "    row=1, col=2\n",
    ")\n",
    "\n",
    "fig.add_trace(\n",
    "    go.Box(\n",
    "        y=missed_prawns['area'],\n",
    "        name='❌ Missed',\n",
    "        marker_color='red',\n",
    "        boxpoints='outliers'\n",
    "    ),\n",
    "    row=1, col=2\n",
    ")\n",
    "\n",
    "# 3. Width vs Height scatter\n",
    "fig.add_trace(\n",
    "    go.Scatter(\n",
    "        x=detected_prawns['width'],\n",
    "        y=detected_prawns['height'],\n",
    "        mode='markers',\n",
    "        name='✅ Detected (W×H)',\n",
    "        marker=dict(color='green', size=4, opacity=0.6),\n",
    "        showlegend=False,\n",
    "        hovertemplate=\"<b>✅ Detected Prawn</b><br>\" +\n",
    "                      \"Image: %{customdata[0]}<br>\" +\n",
    "                      \"Width: %{x:.6f}<br>\" +\n",
    "                      \"Height: %{y:.6f}<br>\" +\n",
    "                      \"Area: %{customdata[1]:.6f}<br>\" +\n",
    "                      \"<extra></extra>\",\n",
    "        customdata=list(zip(detected_prawns['clean_name'], \n",
    "                           detected_prawns['area']))\n",
    "    ),\n",
    "    row=2, col=1\n",
    ")\n",
    "\n",
    "fig.add_trace(\n",
    "    go.Scatter(\n",
    "        x=missed_prawns['width'],\n",
    "        y=missed_prawns['height'],\n",
    "        mode='markers',\n",
    "        name='❌ Missed (W×H)',\n",
    "        marker=dict(color='red', size=6, opacity=0.8, symbol='x'),\n",
    "        showlegend=False,\n",
    "        hovertemplate=\"<b>❌ Missed Prawn</b><br>\" +\n",
    "                      \"Image: %{customdata[0]}<br>\" +\n",
    "                      \"Width: %{x:.6f}<br>\" +\n",
    "                      \"Height: %{y:.6f}<br>\" +\n",
    "                      \"Area: %{customdata[1]:.6f}<br>\" +\n",
    "                      \"<extra></extra>\",\n",
    "        customdata=list(zip(missed_prawns['clean_name'], \n",
    "                           missed_prawns['area']))\n",
    "    ),\n",
    "    row=2, col=1\n",
    ")\n",
    "\n",
    "# 4. Miss rate by area percentile\n",
    "if len(missed_prawns) > 0:\n",
    "    # Create area bins based on percentiles\n",
    "    percentiles = [0, 10, 25, 50, 75, 90, 100]\n",
    "    area_thresholds = [np.percentile(df_prawns['area'], p) for p in percentiles]\n",
    "    \n",
    "    miss_rates = []\n",
    "    bin_labels = []\n",
    "    \n",
    "    for i in range(len(area_thresholds)-1):\n",
    "        lower = area_thresholds[i]\n",
    "        upper = area_thresholds[i+1]\n",
    "        \n",
    "        prawns_in_bin = df_prawns[(df_prawns['area'] >= lower) & (df_prawns['area'] <= upper)]\n",
    "        \n",
    "        if len(prawns_in_bin) > 0:\n",
    "            miss_rate = prawns_in_bin['missed'].sum() / len(prawns_in_bin) * 100\n",
    "            miss_rates.append(miss_rate)\n",
    "            bin_labels.append(f\"{percentiles[i]}-{percentiles[i+1]}%\")\n",
    "        else:\n",
    "            miss_rates.append(0)\n",
    "            bin_labels.append(f\"{percentiles[i]}-{percentiles[i+1]}%\")\n",
    "    \n",
    "    fig.add_trace(\n",
    "        go.Bar(\n",
    "            x=bin_labels,\n",
    "            y=miss_rates,\n",
    "            name='Miss Rate %',\n",
    "            marker_color='orange',\n",
    "            showlegend=False,\n",
    "            hovertemplate=\"<b>%{x} percentile</b><br>\" +\n",
    "                          \"Miss Rate: %{y:.1f}%<br>\" +\n",
    "                          \"<extra></extra>\"\n",
    "        ),\n",
    "        row=2, col=2\n",
    "    )\n",
    "\n",
    "# Update layout\n",
    "fig.update_layout(\n",
    "    title=\"🔍 Individual Prawn Analysis: Bounding Box Area vs Detection Success\",\n",
    "    height=800,\n",
    "    width=1400,\n",
    "    showlegend=True\n",
    ")\n",
    "\n",
    "# Update axes labels\n",
    "fig.update_xaxes(title_text=\"Prawn Index\", row=1, col=1)\n",
    "fig.update_yaxes(title_text=\"Area (normalized)\", row=1, col=1)\n",
    "\n",
    "fig.update_xaxes(title_text=\"Detection Status\", row=1, col=2)\n",
    "fig.update_yaxes(title_text=\"Area (normalized)\", row=1, col=2)\n",
    "\n",
    "fig.update_xaxes(title_text=\"Width (normalized)\", row=2, col=1)\n",
    "fig.update_yaxes(title_text=\"Height (normalized)\", row=2, col=1)\n",
    "\n",
    "fig.update_xaxes(title_text=\"Area Percentile Bin\", row=2, col=2)\n",
    "fig.update_yaxes(title_text=\"Miss Rate (%)\", row=2, col=2)\n",
    "\n",
    "fig.show()\n",
    "\n",
    "# Print summary insights\n",
    "print(f\"\\n🔍 INDIVIDUAL PRAWN INSIGHTS:\")\n",
    "print(f\"\")\n",
    "print(f\"📊 BASIC STATISTICS:\")\n",
    "print(f\"   Total prawns analyzed: {len(df_prawns)}\")\n",
    "print(f\"   Successfully detected: {detected_prawns.shape[0]} ({detected_prawns.shape[0]/len(df_prawns)*100:.1f}%)\")\n",
    "print(f\"   Missed (false negatives): {missed_prawns.shape[0]} ({missed_prawns.shape[0]/len(df_prawns)*100:.1f}%)\")\n",
    "\n",
    "if len(missed_prawns) > 0 and len(detected_prawns) > 0:\n",
    "    print(f\"\\n📏 SIZE COMPARISON:\")\n",
    "    print(f\"   Detected prawns - Mean area: {detected_prawns['area'].mean():.6f}\")\n",
    "    print(f\"   Missed prawns - Mean area: {missed_prawns['area'].mean():.6f}\")\n",
    "    print(f\"   Ratio (missed/detected): {missed_prawns['area'].mean()/detected_prawns['area'].mean():.3f}\")\n",
    "    \n",
    "    if missed_prawns['area'].mean() < detected_prawns['area'].mean():\n",
    "        print(f\"   📉 Missed prawns are on average {((detected_prawns['area'].mean() - missed_prawns['area'].mean())/detected_prawns['area'].mean()*100):.1f}% smaller\")\n",
    "    else:\n",
    "        print(f\"   📈 Missed prawns are on average {((missed_prawns['area'].mean() - detected_prawns['area'].mean())/detected_prawns['area'].mean()*100):.1f}% larger\")\n",
    "\n",
    "print(f\"\\n💡 KEY INSIGHTS:\")\n",
    "print(f\"   • Each point in the scatter plot represents one individual prawn\")\n",
    "print(f\"   • Green circles = successfully detected prawns\") \n",
    "print(f\"   • Red X's = missed prawns (false negatives)\")\n",
    "print(f\"   • The visualization shows if smaller prawns are more likely to be missed\")\n",
    "print(f\"   • Box plots compare the area distributions between detected and missed prawns\")\n"
   ]
  },
  {
   "cell_type": "markdown",
   "metadata": {
    "vscode": {
     "languageId": "raw"
    }
   },
   "source": [
    "# Statistical Validation: Area vs False Negatives\n",
    "\n",
    "This section provides rigorous statistical analysis to validate whether smaller prawns are significantly more likely to be missed by the detection model.\n"
   ]
  },
  {
   "cell_type": "code",
   "execution_count": 17,
   "metadata": {},
   "outputs": [
    {
     "name": "stdout",
     "output_type": "stream",
     "text": [
      "📊 STATISTICAL VALIDATION: Area vs False Negatives\n",
      "\n",
      "📈 Sample sizes:\n",
      "   Detected prawns (TP): 503\n",
      "   Missed prawns (FN): 58\n",
      "   Total prawns: 561\n",
      "   Miss rate: 10.3%\n",
      "\n",
      "📊 DESCRIPTIVE STATISTICS:\n",
      "==================================================\n",
      "🎯 DETECTED PRAWNS (TP):\n",
      "   Area - Mean: 0.009455, Std: 0.010021\n",
      "   Area - Median: 0.006381\n",
      "   Area - Range: 0.000702 to 0.117087\n",
      "❌ MISSED PRAWNS (FN):\n",
      "   Area - Mean: 0.003285, Std: 0.002563\n",
      "   Area - Median: 0.002363\n",
      "   Area - Range: 0.000302 to 0.011450\n",
      "\n",
      "📏 EFFECT SIZE:\n",
      "   Cohen's d: 0.647\n",
      "   Effect size interpretation: medium\n",
      "\n",
      "======================================================================\n",
      "🔍 NORMALITY TESTS:\n",
      "==================================================\n",
      "   Detected prawns area:\n",
      "      Shapiro-Wilk: statistic=0.6127, p-value=4.90e-32\n",
      "      Normal distribution: ❌ No\n",
      "   Missed prawns area:\n",
      "      Shapiro-Wilk: statistic=0.7591, p-value=2.19e-08\n",
      "      Normal distribution: ❌ No\n",
      "\n",
      "   Both distributions normal: ❌ No\n",
      "\n",
      "======================================================================\n",
      "🧪 STATISTICAL TESTS:\n",
      "==================================================\n",
      "📊 Using non-parametric tests (distributions not normal)\n",
      "   Mann-Whitney U test:\n",
      "      U-statistic: 24431\n",
      "      p-value: 3.73e-17\n",
      "   Correlation (Area vs Detection Success):\n",
      "      Pearson r: 0.1937, p-value: 3.80e-06\n",
      "      Spearman ρ: 0.3559, p-value: 3.42e-18\n",
      "\n",
      "======================================================================\n",
      "📦 BINNED ANALYSIS:\n",
      "==================================================\n",
      "   Miss Rate by Area Quartile:\n",
      "      Q1 (Smallest): 31.9% missed (45/141)\n",
      "         Area range: 0.000300 - 0.003600\n",
      "      Q2: 2.9% missed (4/140)\n",
      "         Area range: 0.003600 - 0.005900\n",
      "      Q3: 5.0% missed (7/140)\n",
      "         Area range: 0.005900 - 0.010400\n",
      "      Q4 (Largest): 1.4% missed (2/140)\n",
      "         Area range: 0.010400 - 0.117100\n",
      "\n",
      "   Chi-square test (Quartile vs Detection):\n",
      "      χ² statistic: 95.5590\n",
      "      p-value: 1.40e-20\n",
      "      degrees of freedom: 3\n",
      "\n",
      "======================================================================\n",
      "🎯 STATISTICAL CONCLUSIONS:\n",
      "==================================================\n",
      "   Significance level (α): 0.05\n",
      "\n",
      "   PRIMARY HYPOTHESIS TEST (Mann-Whitney U test):\n",
      "   ✅ SIGNIFICANT DIFFERENCE (p = 3.73e-17 < 0.05)\n",
      "   📊 CONCLUSION: Detected prawns have significantly LARGER areas than missed prawns\n",
      "   🔍 INTERPRETATION: Smaller prawns are more likely to be missed by the model\n",
      "\n",
      "   CORRELATION ANALYSIS:\n",
      "   ✅ SIGNIFICANT CORRELATION (p = 3.42e-18 < 0.05)\n",
      "   📈 Positive correlation (ρ = 0.356): Larger area → Higher detection rate\n",
      "\n",
      "   QUARTILE ANALYSIS:\n",
      "   ✅ SIGNIFICANT ASSOCIATION (p = 1.40e-20 < 0.05)\n",
      "   📊 CONCLUSION: Detection success varies significantly across area quartiles\n",
      "   🔴 Highest miss rate: Q1 (Smallest) (31.9%)\n",
      "   🟢 Lowest miss rate: Q4 (Largest) (1.4%)\n",
      "\n",
      "   EFFECT SIZE: MEDIUM effect (Cohen's d = 0.647)\n",
      "\n",
      "======================================================================\n",
      "📋 SUMMARY: Statistical validation complete!\n",
      "   Total prawns analyzed: 561\n",
      "   Statistical significance threshold: p < 0.05\n",
      "   Primary test used: Mann-Whitney U test\n",
      "======================================================================\n"
     ]
    }
   ],
   "source": [
    "# Statistical Validation: Area vs False Negatives\n",
    "\n",
    "import scipy.stats as stats\n",
    "from scipy.stats import mannwhitneyu, chi2_contingency, pearsonr, spearmanr\n",
    "import seaborn as sns\n",
    "import matplotlib.pyplot as plt\n",
    "\n",
    "print(\"📊 STATISTICAL VALIDATION: Area vs False Negatives\\n\")\n",
    "\n",
    "# Separate detected and missed prawns\n",
    "detected_prawns = df_prawns[df_prawns['detection_status'] == 'GT_TP']\n",
    "missed_prawns = df_prawns[df_prawns['detection_status'] == 'FN']\n",
    "\n",
    "print(f\"📈 Sample sizes:\")\n",
    "print(f\"   Detected prawns (TP): {len(detected_prawns)}\")\n",
    "print(f\"   Missed prawns (FN): {len(missed_prawns)}\")\n",
    "print(f\"   Total prawns: {len(df_prawns)}\")\n",
    "print(f\"   Miss rate: {len(missed_prawns)/len(df_prawns)*100:.1f}%\\n\")\n",
    "\n",
    "# 1. DESCRIPTIVE STATISTICS\n",
    "print(\"📊 DESCRIPTIVE STATISTICS:\")\n",
    "print(\"=\" * 50)\n",
    "\n",
    "print(\"🎯 DETECTED PRAWNS (TP):\")\n",
    "print(f\"   Area - Mean: {detected_prawns['area'].mean():.6f}, Std: {detected_prawns['area'].std():.6f}\")\n",
    "print(f\"   Area - Median: {detected_prawns['area'].median():.6f}\")\n",
    "print(f\"   Area - Range: {detected_prawns['area'].min():.6f} to {detected_prawns['area'].max():.6f}\")\n",
    "\n",
    "print(\"❌ MISSED PRAWNS (FN):\")\n",
    "print(f\"   Area - Mean: {missed_prawns['area'].mean():.6f}, Std: {missed_prawns['area'].std():.6f}\")\n",
    "print(f\"   Area - Median: {missed_prawns['area'].median():.6f}\")\n",
    "print(f\"   Area - Range: {missed_prawns['area'].min():.6f} to {missed_prawns['area'].max():.6f}\")\n",
    "\n",
    "# Calculate effect size (Cohen's d)\n",
    "pooled_std = np.sqrt(((len(detected_prawns)-1)*detected_prawns['area'].var() + \n",
    "                     (len(missed_prawns)-1)*missed_prawns['area'].var()) / \n",
    "                    (len(detected_prawns) + len(missed_prawns) - 2))\n",
    "cohens_d = (detected_prawns['area'].mean() - missed_prawns['area'].mean()) / pooled_std\n",
    "\n",
    "print(f\"\\n📏 EFFECT SIZE:\")\n",
    "print(f\"   Cohen's d: {cohens_d:.3f}\")\n",
    "if abs(cohens_d) < 0.2:\n",
    "    effect_size = \"negligible\"\n",
    "elif abs(cohens_d) < 0.5:\n",
    "    effect_size = \"small\"\n",
    "elif abs(cohens_d) < 0.8:\n",
    "    effect_size = \"medium\"\n",
    "else:\n",
    "    effect_size = \"large\"\n",
    "print(f\"   Effect size interpretation: {effect_size}\")\n",
    "\n",
    "print(\"\\n\" + \"=\"*70)\n",
    "\n",
    "# 2. NORMALITY TESTS\n",
    "print(\"🔍 NORMALITY TESTS:\")\n",
    "print(\"=\" * 50)\n",
    "\n",
    "# Shapiro-Wilk test for normality (use subset if too large)\n",
    "def test_normality(data, name, max_samples=5000):\n",
    "    if len(data) > max_samples:\n",
    "        sample_data = data.sample(max_samples, random_state=42)\n",
    "        print(f\"   {name} (sampled {max_samples}/{len(data)}):\")\n",
    "    else:\n",
    "        sample_data = data\n",
    "        print(f\"   {name}:\")\n",
    "    \n",
    "    stat, p_value = stats.shapiro(sample_data)\n",
    "    is_normal = p_value > 0.05\n",
    "    print(f\"      Shapiro-Wilk: statistic={stat:.4f}, p-value={p_value:.2e}\")\n",
    "    print(f\"      Normal distribution: {'✅ Yes' if is_normal else '❌ No'}\")\n",
    "    return is_normal\n",
    "\n",
    "detected_normal = test_normality(detected_prawns['area'], \"Detected prawns area\")\n",
    "missed_normal = test_normality(missed_prawns['area'], \"Missed prawns area\")\n",
    "\n",
    "both_normal = detected_normal and missed_normal\n",
    "print(f\"\\n   Both distributions normal: {'✅ Yes' if both_normal else '❌ No'}\")\n",
    "\n",
    "print(\"\\n\" + \"=\"*70)\n",
    "\n",
    "# 3. STATISTICAL TESTS\n",
    "print(\"🧪 STATISTICAL TESTS:\")\n",
    "print(\"=\" * 50)\n",
    "\n",
    "# Choose appropriate test based on normality\n",
    "if both_normal:\n",
    "    print(\"📊 Using parametric tests (both distributions normal)\")\n",
    "    # Independent t-test\n",
    "    t_stat, t_p_value = stats.ttest_ind(detected_prawns['area'], missed_prawns['area'])\n",
    "    print(f\"   Independent t-test:\")\n",
    "    print(f\"      t-statistic: {t_stat:.4f}\")\n",
    "    print(f\"      p-value: {t_p_value:.2e}\")\n",
    "else:\n",
    "    print(\"📊 Using non-parametric tests (distributions not normal)\")\n",
    "\n",
    "# Mann-Whitney U test (non-parametric alternative to t-test)\n",
    "u_stat, u_p_value = mannwhitneyu(detected_prawns['area'], missed_prawns['area'], \n",
    "                                 alternative='two-sided')\n",
    "print(f\"   Mann-Whitney U test:\")\n",
    "print(f\"      U-statistic: {u_stat:.0f}\")\n",
    "print(f\"      p-value: {u_p_value:.2e}\")\n",
    "\n",
    "# Correlation between area and detection success\n",
    "area_detection_corr_pearson, area_p_pearson = pearsonr(df_prawns['area'], df_prawns['detected'])\n",
    "area_detection_corr_spearman, area_p_spearman = spearmanr(df_prawns['area'], df_prawns['detected'])\n",
    "\n",
    "print(f\"   Correlation (Area vs Detection Success):\")\n",
    "print(f\"      Pearson r: {area_detection_corr_pearson:.4f}, p-value: {area_p_pearson:.2e}\")\n",
    "print(f\"      Spearman ρ: {area_detection_corr_spearman:.4f}, p-value: {area_p_spearman:.2e}\")\n",
    "\n",
    "print(\"\\n\" + \"=\"*70)\n",
    "\n",
    "# 4. BINNED ANALYSIS\n",
    "print(\"📦 BINNED ANALYSIS:\")\n",
    "print(\"=\" * 50)\n",
    "\n",
    "# Create area quartiles for analysis\n",
    "df_prawns['area_quartile'] = pd.qcut(df_prawns['area'], q=4, labels=['Q1 (Smallest)', 'Q2', 'Q3', 'Q4 (Largest)'])\n",
    "\n",
    "# Calculate miss rate by quartile\n",
    "quartile_analysis = df_prawns.groupby('area_quartile').agg({\n",
    "    'missed': ['count', 'sum', 'mean'],\n",
    "    'area': ['min', 'max', 'mean']\n",
    "}).round(4)\n",
    "\n",
    "quartile_analysis.columns = ['Total_Prawns', 'Missed_Count', 'Miss_Rate', 'Min_Area', 'Max_Area', 'Mean_Area']\n",
    "\n",
    "print(\"   Miss Rate by Area Quartile:\")\n",
    "for quartile in quartile_analysis.index:\n",
    "    row = quartile_analysis.loc[quartile]\n",
    "    print(f\"      {quartile}: {row['Miss_Rate']*100:.1f}% missed ({row['Missed_Count']:.0f}/{row['Total_Prawns']:.0f})\")\n",
    "    print(f\"         Area range: {row['Min_Area']:.6f} - {row['Max_Area']:.6f}\")\n",
    "\n",
    "# Chi-square test for association between quartile and detection\n",
    "contingency_table = pd.crosstab(df_prawns['area_quartile'], df_prawns['detection_status'])\n",
    "chi2_stat, chi2_p_value, chi2_dof, chi2_expected = chi2_contingency(contingency_table)\n",
    "\n",
    "print(f\"\\n   Chi-square test (Quartile vs Detection):\")\n",
    "print(f\"      χ² statistic: {chi2_stat:.4f}\")\n",
    "print(f\"      p-value: {chi2_p_value:.2e}\")\n",
    "print(f\"      degrees of freedom: {chi2_dof}\")\n",
    "\n",
    "print(\"\\n\" + \"=\"*70)\n",
    "\n",
    "# 5. STATISTICAL CONCLUSIONS\n",
    "print(\"🎯 STATISTICAL CONCLUSIONS:\")\n",
    "print(\"=\" * 50)\n",
    "\n",
    "alpha = 0.05\n",
    "print(f\"   Significance level (α): {alpha}\")\n",
    "\n",
    "# Main hypothesis test conclusion\n",
    "if both_normal:\n",
    "    main_p = t_p_value\n",
    "    test_name = \"t-test\"\n",
    "else:\n",
    "    main_p = u_p_value\n",
    "    test_name = \"Mann-Whitney U test\"\n",
    "\n",
    "print(f\"\\n   PRIMARY HYPOTHESIS TEST ({test_name}):\")\n",
    "if main_p < alpha:\n",
    "    print(f\"   ✅ SIGNIFICANT DIFFERENCE (p = {main_p:.2e} < {alpha})\")\n",
    "    if detected_prawns['area'].mean() > missed_prawns['area'].mean():\n",
    "        print(\"   📊 CONCLUSION: Detected prawns have significantly LARGER areas than missed prawns\")\n",
    "        print(\"   🔍 INTERPRETATION: Smaller prawns are more likely to be missed by the model\")\n",
    "    else:\n",
    "        print(\"   📊 CONCLUSION: Detected prawns have significantly SMALLER areas than missed prawns\")\n",
    "        print(\"   🔍 INTERPRETATION: Larger prawns are more likely to be missed by the model\")\n",
    "else:\n",
    "    print(f\"   ❌ NO SIGNIFICANT DIFFERENCE (p = {main_p:.2e} ≥ {alpha})\")\n",
    "    print(\"   📊 CONCLUSION: No significant relationship between prawn area and detection success\")\n",
    "\n",
    "# Correlation conclusion\n",
    "print(f\"\\n   CORRELATION ANALYSIS:\")\n",
    "if area_p_spearman < alpha:\n",
    "    print(f\"   ✅ SIGNIFICANT CORRELATION (p = {area_p_spearman:.2e} < {alpha})\")\n",
    "    if area_detection_corr_spearman > 0:\n",
    "        print(f\"   📈 Positive correlation (ρ = {area_detection_corr_spearman:.3f}): Larger area → Higher detection rate\")\n",
    "    else:\n",
    "        print(f\"   📉 Negative correlation (ρ = {area_detection_corr_spearman:.3f}): Larger area → Lower detection rate\")\n",
    "else:\n",
    "    print(f\"   ❌ NO SIGNIFICANT CORRELATION (p = {area_p_spearman:.2e} ≥ {alpha})\")\n",
    "\n",
    "# Quartile analysis conclusion\n",
    "print(f\"\\n   QUARTILE ANALYSIS:\")\n",
    "if chi2_p_value < alpha:\n",
    "    print(f\"   ✅ SIGNIFICANT ASSOCIATION (p = {chi2_p_value:.2e} < {alpha})\")\n",
    "    print(\"   📊 CONCLUSION: Detection success varies significantly across area quartiles\")\n",
    "    \n",
    "    # Find quartile with highest miss rate\n",
    "    max_miss_quartile = quartile_analysis['Miss_Rate'].idxmax()\n",
    "    min_miss_quartile = quartile_analysis['Miss_Rate'].idxmin()\n",
    "    \n",
    "    print(f\"   🔴 Highest miss rate: {max_miss_quartile} ({quartile_analysis.loc[max_miss_quartile, 'Miss_Rate']*100:.1f}%)\")\n",
    "    print(f\"   🟢 Lowest miss rate: {min_miss_quartile} ({quartile_analysis.loc[min_miss_quartile, 'Miss_Rate']*100:.1f}%)\")\n",
    "else:\n",
    "    print(f\"   ❌ NO SIGNIFICANT ASSOCIATION (p = {chi2_p_value:.2e} ≥ {alpha})\")\n",
    "\n",
    "print(f\"\\n   EFFECT SIZE: {effect_size.upper()} effect (Cohen's d = {cohens_d:.3f})\")\n",
    "\n",
    "print(\"\\n\" + \"=\"*70)\n",
    "print(\"📋 SUMMARY: Statistical validation complete!\")\n",
    "print(f\"   Total prawns analyzed: {len(df_prawns)}\")\n",
    "print(f\"   Statistical significance threshold: p < {alpha}\")\n",
    "print(f\"   Primary test used: {test_name}\")\n",
    "print(\"=\"*70)\n"
   ]
  }
 ],
 "metadata": {
  "kernelspec": {
   "display_name": ".venv",
   "language": "python",
   "name": "python3"
  },
  "language_info": {
   "codemirror_mode": {
    "name": "ipython",
    "version": 3
   },
   "file_extension": ".py",
   "mimetype": "text/x-python",
   "name": "python",
   "nbconvert_exporter": "python",
   "pygments_lexer": "ipython3",
   "version": "3.9.6"
  }
 },
 "nbformat": 4,
 "nbformat_minor": 2
}
