{
 "cells": [
  {
   "cell_type": "markdown",
   "metadata": {},
   "source": [
    "# 🦐 Carapace/total Measurement Error Analysis: A Deep Dive into Prawn Detection Accuracy\n",
    "\n",
    "## 🎯 Mission Statement\n",
    "Welcome to our comprehensive analysis of carapace measurement errors in prawn detection! This notebook explores the fascinating world of measurement precision, where pixel errors and scale errors dance together in a complex choreography of accuracy and uncertainty.\n",
    "\n",
    "## 🔬 What We'll Discover\n",
    "- **Error Decomposition**: How pixel and scale errors contribute to total measurement uncertainty\n",
    "- **Cancellation Effects**: The surprising ways errors can partially cancel each other out\n",
    "- **Pond-Specific Patterns**: How different pond environments affect measurement accuracy\n",
    "- **Annotation Quality**: Comparing different annotation methods and their impact\n",
    "\n",
    "---\n",
    "\n",
    "## 📚 Essential Imports & Setup"
   ]
  },
  {
   "cell_type": "code",
   "execution_count": 16,
   "metadata": {},
   "outputs": [
    {
     "name": "stdout",
     "output_type": "stream",
     "text": [
      "🚀 Libraries loaded successfully!\n",
      "📊 Ready to dive into prawn measurement mysteries...\n",
      "\n",
      "📈 Dataset loaded: 119 measurements across 3 pond types\n",
      "🏊‍♀️ Pond types: circle_female, circle_male, square\n",
      "\n",
      "📏 All measurements converted to centimeters\n"
     ]
    },
    {
     "data": {
      "text/html": [
       "<div>\n",
       "<style scoped>\n",
       "    .dataframe tbody tr th:only-of-type {\n",
       "        vertical-align: middle;\n",
       "    }\n",
       "\n",
       "    .dataframe tbody tr th {\n",
       "        vertical-align: top;\n",
       "    }\n",
       "\n",
       "    .dataframe thead th {\n",
       "        text-align: right;\n",
       "    }\n",
       "</style>\n",
       "<table border=\"1\" class=\"dataframe\">\n",
       "  <thead>\n",
       "    <tr style=\"text-align: right;\">\n",
       "      <th></th>\n",
       "      <th>Label</th>\n",
       "      <th>PrawnID</th>\n",
       "      <th>Pond_Type</th>\n",
       "      <th>mean_length</th>\n",
       "      <th>std_length</th>\n",
       "      <th>Length_fov(mm)</th>\n",
       "      <th>mean_pixels</th>\n",
       "      <th>pred_Distance_pixels</th>\n",
       "      <th>Length_ground_truth_annotation_pixels</th>\n",
       "      <th>mean_scale</th>\n",
       "      <th>pred_scale</th>\n",
       "    </tr>\n",
       "  </thead>\n",
       "  <tbody>\n",
       "    <tr>\n",
       "      <th>0</th>\n",
       "      <td>full body:undistorted_GX010077_14_237.jpg_gamma</td>\n",
       "      <td>Prawn_0</td>\n",
       "      <td>circle_female</td>\n",
       "      <td>75.624000</td>\n",
       "      <td>3.484291</td>\n",
       "      <td>88.223862</td>\n",
       "      <td>397.144449</td>\n",
       "      <td>475.986860</td>\n",
       "      <td>381.935664</td>\n",
       "      <td>52.616333</td>\n",
       "      <td>53.952168</td>\n",
       "    </tr>\n",
       "    <tr>\n",
       "      <th>1</th>\n",
       "      <td>full body:undistorted_GX010077_14_237.jpg_gamma</td>\n",
       "      <td>Prawn_1</td>\n",
       "      <td>circle_female</td>\n",
       "      <td>119.409000</td>\n",
       "      <td>7.534347</td>\n",
       "      <td>130.307259</td>\n",
       "      <td>626.987760</td>\n",
       "      <td>701.859664</td>\n",
       "      <td>703.474985</td>\n",
       "      <td>52.616333</td>\n",
       "      <td>53.861901</td>\n",
       "    </tr>\n",
       "    <tr>\n",
       "      <th>2</th>\n",
       "      <td>full body:undistorted_GX010077_14_237.jpg_gamma</td>\n",
       "      <td>Prawn_2</td>\n",
       "      <td>circle_female</td>\n",
       "      <td>104.471333</td>\n",
       "      <td>11.118477</td>\n",
       "      <td>121.385411</td>\n",
       "      <td>551.072805</td>\n",
       "      <td>656.609979</td>\n",
       "      <td>580.506159</td>\n",
       "      <td>52.616333</td>\n",
       "      <td>54.092990</td>\n",
       "    </tr>\n",
       "    <tr>\n",
       "      <th>3</th>\n",
       "      <td>full body:undistorted_GX010067_33_625.jpg_gamma</td>\n",
       "      <td>Prawn_0</td>\n",
       "      <td>circle_female</td>\n",
       "      <td>120.649333</td>\n",
       "      <td>11.749097</td>\n",
       "      <td>139.780255</td>\n",
       "      <td>700.400878</td>\n",
       "      <td>748.301965</td>\n",
       "      <td>684.970469</td>\n",
       "      <td>58.258000</td>\n",
       "      <td>53.534168</td>\n",
       "    </tr>\n",
       "    <tr>\n",
       "      <th>4</th>\n",
       "      <td>full body:undistorted_GX010067_33_625.jpg_gamma</td>\n",
       "      <td>Prawn_1</td>\n",
       "      <td>circle_female</td>\n",
       "      <td>93.004000</td>\n",
       "      <td>6.587385</td>\n",
       "      <td>102.721787</td>\n",
       "      <td>540.592735</td>\n",
       "      <td>551.039760</td>\n",
       "      <td>531.465367</td>\n",
       "      <td>58.258000</td>\n",
       "      <td>53.643903</td>\n",
       "    </tr>\n",
       "  </tbody>\n",
       "</table>\n",
       "</div>"
      ],
      "text/plain": [
       "                                             Label  PrawnID      Pond_Type  \\\n",
       "0  full body:undistorted_GX010077_14_237.jpg_gamma  Prawn_0  circle_female   \n",
       "1  full body:undistorted_GX010077_14_237.jpg_gamma  Prawn_1  circle_female   \n",
       "2  full body:undistorted_GX010077_14_237.jpg_gamma  Prawn_2  circle_female   \n",
       "3  full body:undistorted_GX010067_33_625.jpg_gamma  Prawn_0  circle_female   \n",
       "4  full body:undistorted_GX010067_33_625.jpg_gamma  Prawn_1  circle_female   \n",
       "\n",
       "   mean_length  std_length  Length_fov(mm)  mean_pixels  pred_Distance_pixels  \\\n",
       "0    75.624000    3.484291       88.223862   397.144449            475.986860   \n",
       "1   119.409000    7.534347      130.307259   626.987760            701.859664   \n",
       "2   104.471333   11.118477      121.385411   551.072805            656.609979   \n",
       "3   120.649333   11.749097      139.780255   700.400878            748.301965   \n",
       "4    93.004000    6.587385      102.721787   540.592735            551.039760   \n",
       "\n",
       "   Length_ground_truth_annotation_pixels  mean_scale  pred_scale  \n",
       "0                             381.935664   52.616333   53.952168  \n",
       "1                             703.474985   52.616333   53.861901  \n",
       "2                             580.506159   52.616333   54.092990  \n",
       "3                             684.970469   58.258000   53.534168  \n",
       "4                             531.465367   58.258000   53.643903  "
      ]
     },
     "execution_count": 16,
     "metadata": {},
     "output_type": "execute_result"
    }
   ],
   "source": [
    "# Core data science libraries\n",
    "import pandas as pd\n",
    "import numpy as np\n",
    "from typing import Dict, List, Tuple, Optional\n",
    "from pathlib import Path\n",
    "import os\n",
    "# Visualization powerhouses\n",
    "import matplotlib.pyplot as plt\n",
    "import seaborn as sns\n",
    "import plotly.graph_objects as go\n",
    "import plotly.express as px\n",
    "from plotly.subplots import make_subplots\n",
    "\n",
    "# Statistical analysis\n",
    "from scipy.stats import median_abs_deviation\n",
    "\n",
    "# Aesthetic improvements\n",
    "plt.style.use('seaborn-v0_8')\n",
    "sns.set_palette(\"husl\")\n",
    "import warnings\n",
    "warnings.filterwarnings('ignore')\n",
    "\n",
    "# 🎨 Custom color palette for pond types\n",
    "POND_COLORS = {\n",
    "    'circle_female': '#FF6B6B',  # Coral red\n",
    "    'circle_male': '#4ECDC4',    # Teal\n",
    "    'square': '#45B7D1'          # Sky blue\n",
    "}\n",
    "\n",
    "print(\"🚀 Libraries loaded successfully!\")\n",
    "print(\"📊 Ready to dive into prawn measurement mysteries...\")\n",
    "\n",
    "# Load the dataset\n",
    "#choose body or carapace as type\n",
    "type='body' #or body\n",
    "\n",
    "# Get the project root directory (2 levels up from the notebook)\n",
    "project_root = Path(os.getcwd()).parent.parent\n",
    "DATA_PATH = project_root/'imagej'  /'spreadsheet_files' / f'error_flags_analysis_{type}_all_mean.csv'\n",
    "df = pd.read_csv(DATA_PATH)\n",
    "\n",
    "# Convert millimeter measurements to centimeters\n",
    "mm_columns = ['mean_length', 'Length_fov(mm)', 'mean_scale', 'pred_scale']\n",
    "for col in mm_columns:\n",
    "    if col in df.columns:\n",
    "        df[col] = df[col] \n",
    "\n",
    "print(f\"\\n📈 Dataset loaded: {len(df)} measurements across {df['Pond_Type'].nunique()} pond types\")\n",
    "print(f\"🏊‍♀️ Pond types: {', '.join(df['Pond_Type'].unique())}\")\n",
    "print(\"\\n📏 All measurements converted to centimeters\")\n",
    "df.head()"
   ]
  },
  {
   "cell_type": "markdown",
   "metadata": {},
   "source": []
  },
  {
   "cell_type": "markdown",
   "metadata": {},
   "source": [
    "## Length Error Comparison Visualization\n",
    "\n",
    "The `create_length_error_comparison` function is designed to generate a visualization that compares actual versus predicted lengths, along with their associated error rates. This visualization is similar to a reference image with a dual-axis plot, providing a comprehensive view of measurement accuracy.\n",
    "\n",
    "### Steps to Create the Visualization\n",
    "\n",
    "1. **Data Preparation**:\n",
    "   - The dataframe is sorted by `mean_length` to ensure a smooth progression in the visualization.\n",
    "\n",
    "2. **Error Rate Calculation**:\n",
    "   - The error rate is computed as a percentage, representing the absolute difference between actual and predicted lengths relative to the actual length.\n",
    "\n",
    "3. **Figure Setup**:\n",
    "   - A figure is created with a secondary y-axis to accommodate both length and error rate data.\n",
    "\n",
    "4. **Adding Traces**:\n",
    "   - **Actual Values**: Plotted as a black line with markers.\n",
    "   - **Output Values**: Plotted as a red line with markers.\n",
    "   - **Error Rate**: Displayed as a light gray bar chart.\n",
    "\n",
    "5. **Layout Customization**:\n",
    "   - The layout is customized with a title, background color, dimensions, and a legend. Hover mode is set to unify x-axis interactions.\n",
    "\n",
    "6. **Axes Configuration**:\n",
    "   - The x-axis is labeled \"Measurement Index\" with grid lines.\n",
    "   - The primary y-axis is labeled \"Length (mm)\" with grid lines.\n",
    "   - The secondary y-axis is labeled \"Error Rate (%)\" with a range of 0-25% and no grid lines.\n",
    "\n",
    "7. **Grid Lines**:\n",
    "   - Horizontal grid lines are added at 5% intervals on the secondary y-axis for better visualization of error rates.\n",
    "\n",
    "8. **Display**:\n",
    "   - The plot is displayed using `fig.show()`."
   ]
  },
  {
   "cell_type": "code",
   "execution_count": 18,
   "metadata": {},
   "outputs": [
    {
     "data": {
      "application/vnd.plotly.v1+json": {
       "config": {
        "plotlyServerURL": "https://plot.ly"
       },
       "data": [
        {
         "line": {
          "color": "black",
          "width": 2
         },
         "marker": {
          "size": 6
         },
         "mode": "lines+markers",
         "name": "Actual Values",
         "type": "scatter",
         "x": {
          "bdata": "AAECAwQFBgcICQoLDA0ODxAREhMUFRYXGBkaGxwdHh8gISIjJCUmJygpKissLS4vMDEyMzQ1Njc4OTo7PD0+P0BBQkNERUZHSElKS0xNTk9QUVJTVFVWV1hZWltcXV5fYGFiY2RlZmdoaWprbG1ub3BxcnN0dXY=",
          "dtype": "i1"
         },
         "xaxis": "x",
         "y": {
          "bdata": "ME/UvxHKR0A/NV66STxMQDfQaQOdNk5Ake18PzU+UEDn+6nx0t1QQIts5/up+VBAqTj78BkGUUDLoUW28xVSQCGwcmiRRVJADy2yne/nUkC4Za2OCcZUQI1QRm/LAlVAUI2XbhJLVUBNqTj78FlVQDsmeDBP7FVAd76fGi91VkDwp8ZLN8FWQG+EMnpb1lZAx0s3iUFAV0AxlvxiyUdXQDVeukkMkldA65jgwTyZV0DRItv5frpXQFpkO99PzVdAXbpJDALrV0Bwy1odE+xXQHsUrkfhWlhAic+wK0CuWEDcay4kTclYQF0Bcq+54FhAzYWkKRXnWEAAjlBGbwNZQACOUEZvM1lA8Bl2BchNWUCaC0lTKnZZQBuhjN6WvVlANewKkHvNWUDwp8ZLNwFaQJoLSVMqHlpA393d3d1lWkC4HoXrUXhaQLmQNKXilFpAg8DKoUX+WkDIBA/miQJbQKhUnH34JFtAJJTR27IuW0AMSVMqzjZbQEGnDXTagFtAjSW/WPLjW0BcHRM8mOdbQMBY8osl71tA4+zDZ9gNXEANdNpApx1cQIGVQ4tsJ1xAF9nO91NLXEAxCKwcWkxcQEsMAiuHblxA/tR46SZxXEBQRm/LWnVcQBT1b4QyelxA8Bl2Bch9XEDR27JWx6xcQAYP5on6z1xAnDbQaQPVXEAMSVMqzt5cQEiaUnH2EV1AvALkXnMxXUCsjgkezDNdQM3MzMzMNF1ARIts5/upXUBcHRM8mL9dQBkEVg4t2l1AAEcoo7f1XUC0VscEDwZeQKK3Za2OKV5AdzBP1L8xXkDflrU6JlheQAyQe82FdF5AdzBP1L95XkBWnH34DMteQLaBThvo3F5AutdcSJoKX0B4d3d3dw9fQEiaUnH2GV9Aw/UoXI+CX0C+LWt1TJhfQJ2ofyOUwV9APzVeuknEX0DdslbHBMdfQHDLWh0T/F9AA+RecyEFYEAjlNHbsgZgQJX8YskvOmBAs1bHBA8+YEDLoUW280VgQOPsw2fYZWBA/tR46SaJYEAX2c73U4tgQIcW2c73x2BA3t3d3d3RYEAYkqZUnNVgQIR5ov6N+GBAbxKDwMr5YECRplScffxgQNyyVscEA2FA/PAZdgUYYUDP91PjpSNhQIMyelvWMmFAyAQP5onWYUBA7jUXkvphQBHK6G1ZD2JANxeSplRIYkDZzvdT43liQFO4HoXrfWJANOwKkHuFYkBhnqh/I9xiQD0K16NwFWNAr7mQNKVqY0Ag95oLSRtlQA==",
          "dtype": "f8"
         },
         "yaxis": "y"
        },
        {
         "line": {
          "color": "red",
          "width": 2
         },
         "marker": {
          "size": 6
         },
         "mode": "lines+markers",
         "name": "Output Values",
         "type": "scatter",
         "x": {
          "bdata": "AAECAwQFBgcICQoLDA0ODxAREhMUFRYXGBkaGxwdHh8gISIjJCUmJygpKissLS4vMDEyMzQ1Njc4OTo7PD0+P0BBQkNERUZHSElKS0xNTk9QUVJTVFVWV1hZWltcXV5fYGFiY2RlZmdoaWprbG1ub3BxcnN0dXY=",
          "dtype": "i1"
         },
         "xaxis": "x",
         "y": {
          "bdata": "30Z0aOnIOEAwHWRm/2hSQN9GdGjpyDhAKNS6Et66VEDOiNGCXDNWQDWSkYhOw1NAnVWv2Vp7VEBTMr/X92NPQATfYdtS0FdA4CWwwFMOVkBdXEdvuCVZQNFPxqJ/v1ZAYqgqb8uSVUCTvuFmVV1aQG1t9GkcIVlAzRu/oBcoV0Dag3Qy915ZQAuFeKE9311AdgmOwzGuWUCGgNHqcrpZQCDUvupeWFtAmkyH6DKWV0BS9iWPXxZeQIB37WYnDF1AsFO262MJXEBow88WCK1eQKv9dYUqal5A0nVCFA5BXEDVQRga+NBaQIvTzI+SJV9Ag5odTU0HX0BxyQEbaulWQM7bI6LLEF9AcFHNjYlKX0BONt/SkLpbQAdZV0pGpV9A97e0CJNKX0AorI/k3dxWQLgCXZSqWF5AkTzDorlnW0DF5YJt+2leQONMdRYcy2FA5HKMfujuX0CID2rjPVVdQF0KANFHKlhAKtM4HlvXX0DqxpuGH/RcQKgn7YBpV1xAh9xOyIsZV0A3/5AuJdVeQKgehLTJK19AdKUuhqGKXUDn2A0Qi5RdQHbuFoIunF5A6dIcjuicYEAUhM4MmJRdQObSlqu7Pl5Ai7JAWvKlWkCqjcgtwCZgQCrlfcdjw1lA6xP3lqtuYUBXh60NlgdfQL0F845hOWBADq3nm7PCYUB2bXNv+CRfQMsavVFZpF5ANShxS8g7YEBas5RcfvNgQGHiQDzvbltA2yK64eJGYUB9aL+U7xpfQAng7A/VSWBA0FAZOrjWYkD3H4T1iwhfQBcUedj3eGFASrw8mRuPYUC+gnWR5J5hQK/Ir0xDZ19A+/EQdMt6XUDQ0P7ZQcpgQKsGhMHU/11Ay07t+UhOX0B8pm2rFBxiQMDOw7Ej2mJAItkwQbXHXkCFKKqZsDlhQJ+cIMI/sF5A36zHQNkoYEBDSmUC1GpbQPM5PvcwEWNAi0b9DrSdYUD+4pLXDXxhQLvCGvKYMmNAemSVyd0WY0BDlZsbyb9gQHbi4SFeDmJA6iYfaMFtYkD7lvrHhhBjQOR3lohmn19AAHB2twLQX0DDW4rEnuNgQB0tAjMO+GFApznugoFfYED96oO/tZxgQKF+Pu7OE19AORSW3yqqYUBAlTKq3lVhQA3jXlDhCmJAi0b9DrSdYUA0Tlm2Zf5iQPNUUfOvu2FAhh81luPfXUAR0UJSqeliQML5/6ZKd19AOe5YTOaWY0DVyQdj/GVkQIYVWwwjg2BAm5gXFTDtY0DLyUnpmBliQA==",
          "dtype": "f8"
         },
         "yaxis": "y"
        },
        {
         "marker": {
          "color": "lightgray"
         },
         "name": "Error Rate",
         "opacity": 0.7,
         "type": "bar",
         "x": {
          "bdata": "AAECAwQFBgcICQoLDA0ODxAREhMUFRYXGBkaGxwdHh8gISIjJCUmJygpKissLS4vMDEyMzQ1Njc4OTo7PD0+P0BBQkNERUZHSElKS0xNTk9QUVJTVFVWV1hZWltcXV5fYGFiY2RlZmdoaWprbG1ub3BxcnN0dXY=",
          "dtype": "i1"
         },
         "xaxis": "x",
         "y": {
          "bdata": "ygA9ODD0R0BiZRRvfWc+QAQ+DFTofU1A0y9gT7ifO0C7GE7AJqA/QNp4HOsEbDBALec7YRVQNEA8SBKPZ28qQCnove6/VD5AQHLSDUSpMEBRTkTy7w01QBlzBicTiSBACxkib1MN9T9g79Jh1Ho3QIriBlADQC1A/XSZtyblCED+zoz6rf4mQB2Itv6yzT5ArrgjDsflJEA1YWyKmQclQON/BnC2AzBAxmgOKVbAqT/9Sqg8bsw6QIZFzAS4CTZANVIWSFI4MUBcrL0YbTs8QMNUGxZ64ThASpAb/R/1LECNtrYjLmEgQJ7FuILpMjlArB07IGWZOEBYJg1W2s0gQCt09muQRTdAVKQ/AWipN0D43Dg5B88hQGyiUBrF8DZACj20aYdFNUA9oMnuKyooQGS/bnOuMDBACAZQgoKGDkCJyb1YuswtQDIMAkpW8EBAQZ8sSwJNMkBjk+c1lzMhQFMqNsl/8yVALDMyD5sjMUD7aDYCZ5EZQKCy9Cr0YAhA2cx5LDYtMUCosG5MOfwkQIrYb7HQLCdAkl+Rv041FUDd2nRpgdUUQOOmFGaPciFAWUV5df9tMUAydtfAvx8SQHfB+HTMghlAwxY1MiE6GUDfnC9hYgQrQPN4lzq5DyNAMpris4JeNkDjhQNwbGwgQJG7nyL9PClA55cbji4zN0ASDsm37YEfQGUFVDLCoBVAlt9c+tltJkAdPe8aLxgwQLyKyUQBSBhAXoUMI+R7MEB+2o3eYT4SQIlunxjwQCJARvu5tpHCOUBSphrClOcKQFD/9YSYti9AkYqBQINOMEBu3mlxXiMwQPI8aVpU6AhAV0BcALEkCkARY9vu6BkiQGETUl+EYgZAX2dZjT9B6z+MWYDcBJwwQH/BJU3aOjVAcBTZ4fCHAkDqivzr1hMiQOdH1zq15QpAzAMCRGHS+z+tc+oWDnErQIi6rRMSOjNASICt88TsI0B2DfSWUjMiQOjxmNP/TTJAukFSehCHMUARoWEsZGUHQCQMxUDJOSRAxB6nRUjlJkC/V2Siq3cuQBNJpAzJHRdAecrKX5O5FUAp2ySGDM7UP0KaFwQWhhdAnJEZ1eRmDEDZkwQX954BQAicEOWQUSFAKfXAgba3CkC3N0JiWlDyP1ObYj2qoBNAu8G7p+Xp8z+EYA6RvJQWQDUnz3Dv8/w/6pxlrixMMkAk8Y7NsOcCQEM5+GXA1i1ANTgMt+EQF0AcmZKZjVAgQE6QJ4MY8ypArl0KBJkCBUBysClzWH0sQA==",
          "dtype": "f8"
         },
         "yaxis": "y2"
        }
       ],
       "layout": {
        "height": 600,
        "hovermode": "x unified",
        "legend": {
         "bgcolor": "rgba(255, 255, 255, 0.8)",
         "x": 0.01,
         "xanchor": "left",
         "y": 0.99,
         "yanchor": "top"
        },
        "plot_bgcolor": "white",
        "shapes": [
         {
          "line": {
           "color": "lightgray",
           "dash": "dash"
          },
          "opacity": 0.5,
          "type": "line",
          "x0": 0,
          "x1": 1,
          "xref": "x domain",
          "y0": 0,
          "y1": 0,
          "yref": "y2"
         },
         {
          "line": {
           "color": "lightgray",
           "dash": "dash"
          },
          "opacity": 0.5,
          "type": "line",
          "x0": 0,
          "x1": 1,
          "xref": "x domain",
          "y0": 5,
          "y1": 5,
          "yref": "y2"
         },
         {
          "line": {
           "color": "lightgray",
           "dash": "dash"
          },
          "opacity": 0.5,
          "type": "line",
          "x0": 0,
          "x1": 1,
          "xref": "x domain",
          "y0": 10,
          "y1": 10,
          "yref": "y2"
         },
         {
          "line": {
           "color": "lightgray",
           "dash": "dash"
          },
          "opacity": 0.5,
          "type": "line",
          "x0": 0,
          "x1": 1,
          "xref": "x domain",
          "y0": 15,
          "y1": 15,
          "yref": "y2"
         },
         {
          "line": {
           "color": "lightgray",
           "dash": "dash"
          },
          "opacity": 0.5,
          "type": "line",
          "x0": 0,
          "x1": 1,
          "xref": "x domain",
          "y0": 20,
          "y1": 20,
          "yref": "y2"
         },
         {
          "line": {
           "color": "lightgray",
           "dash": "dash"
          },
          "opacity": 0.5,
          "type": "line",
          "x0": 0,
          "x1": 1,
          "xref": "x domain",
          "y0": 25,
          "y1": 25,
          "yref": "y2"
         }
        ],
        "showlegend": true,
        "template": {
         "data": {
          "bar": [
           {
            "error_x": {
             "color": "#2a3f5f"
            },
            "error_y": {
             "color": "#2a3f5f"
            },
            "marker": {
             "line": {
              "color": "#E5ECF6",
              "width": 0.5
             },
             "pattern": {
              "fillmode": "overlay",
              "size": 10,
              "solidity": 0.2
             }
            },
            "type": "bar"
           }
          ],
          "barpolar": [
           {
            "marker": {
             "line": {
              "color": "#E5ECF6",
              "width": 0.5
             },
             "pattern": {
              "fillmode": "overlay",
              "size": 10,
              "solidity": 0.2
             }
            },
            "type": "barpolar"
           }
          ],
          "carpet": [
           {
            "aaxis": {
             "endlinecolor": "#2a3f5f",
             "gridcolor": "white",
             "linecolor": "white",
             "minorgridcolor": "white",
             "startlinecolor": "#2a3f5f"
            },
            "baxis": {
             "endlinecolor": "#2a3f5f",
             "gridcolor": "white",
             "linecolor": "white",
             "minorgridcolor": "white",
             "startlinecolor": "#2a3f5f"
            },
            "type": "carpet"
           }
          ],
          "choropleth": [
           {
            "colorbar": {
             "outlinewidth": 0,
             "ticks": ""
            },
            "type": "choropleth"
           }
          ],
          "contour": [
           {
            "colorbar": {
             "outlinewidth": 0,
             "ticks": ""
            },
            "colorscale": [
             [
              0,
              "#0d0887"
             ],
             [
              0.1111111111111111,
              "#46039f"
             ],
             [
              0.2222222222222222,
              "#7201a8"
             ],
             [
              0.3333333333333333,
              "#9c179e"
             ],
             [
              0.4444444444444444,
              "#bd3786"
             ],
             [
              0.5555555555555556,
              "#d8576b"
             ],
             [
              0.6666666666666666,
              "#ed7953"
             ],
             [
              0.7777777777777778,
              "#fb9f3a"
             ],
             [
              0.8888888888888888,
              "#fdca26"
             ],
             [
              1,
              "#f0f921"
             ]
            ],
            "type": "contour"
           }
          ],
          "contourcarpet": [
           {
            "colorbar": {
             "outlinewidth": 0,
             "ticks": ""
            },
            "type": "contourcarpet"
           }
          ],
          "heatmap": [
           {
            "colorbar": {
             "outlinewidth": 0,
             "ticks": ""
            },
            "colorscale": [
             [
              0,
              "#0d0887"
             ],
             [
              0.1111111111111111,
              "#46039f"
             ],
             [
              0.2222222222222222,
              "#7201a8"
             ],
             [
              0.3333333333333333,
              "#9c179e"
             ],
             [
              0.4444444444444444,
              "#bd3786"
             ],
             [
              0.5555555555555556,
              "#d8576b"
             ],
             [
              0.6666666666666666,
              "#ed7953"
             ],
             [
              0.7777777777777778,
              "#fb9f3a"
             ],
             [
              0.8888888888888888,
              "#fdca26"
             ],
             [
              1,
              "#f0f921"
             ]
            ],
            "type": "heatmap"
           }
          ],
          "histogram": [
           {
            "marker": {
             "pattern": {
              "fillmode": "overlay",
              "size": 10,
              "solidity": 0.2
             }
            },
            "type": "histogram"
           }
          ],
          "histogram2d": [
           {
            "colorbar": {
             "outlinewidth": 0,
             "ticks": ""
            },
            "colorscale": [
             [
              0,
              "#0d0887"
             ],
             [
              0.1111111111111111,
              "#46039f"
             ],
             [
              0.2222222222222222,
              "#7201a8"
             ],
             [
              0.3333333333333333,
              "#9c179e"
             ],
             [
              0.4444444444444444,
              "#bd3786"
             ],
             [
              0.5555555555555556,
              "#d8576b"
             ],
             [
              0.6666666666666666,
              "#ed7953"
             ],
             [
              0.7777777777777778,
              "#fb9f3a"
             ],
             [
              0.8888888888888888,
              "#fdca26"
             ],
             [
              1,
              "#f0f921"
             ]
            ],
            "type": "histogram2d"
           }
          ],
          "histogram2dcontour": [
           {
            "colorbar": {
             "outlinewidth": 0,
             "ticks": ""
            },
            "colorscale": [
             [
              0,
              "#0d0887"
             ],
             [
              0.1111111111111111,
              "#46039f"
             ],
             [
              0.2222222222222222,
              "#7201a8"
             ],
             [
              0.3333333333333333,
              "#9c179e"
             ],
             [
              0.4444444444444444,
              "#bd3786"
             ],
             [
              0.5555555555555556,
              "#d8576b"
             ],
             [
              0.6666666666666666,
              "#ed7953"
             ],
             [
              0.7777777777777778,
              "#fb9f3a"
             ],
             [
              0.8888888888888888,
              "#fdca26"
             ],
             [
              1,
              "#f0f921"
             ]
            ],
            "type": "histogram2dcontour"
           }
          ],
          "mesh3d": [
           {
            "colorbar": {
             "outlinewidth": 0,
             "ticks": ""
            },
            "type": "mesh3d"
           }
          ],
          "parcoords": [
           {
            "line": {
             "colorbar": {
              "outlinewidth": 0,
              "ticks": ""
             }
            },
            "type": "parcoords"
           }
          ],
          "pie": [
           {
            "automargin": true,
            "type": "pie"
           }
          ],
          "scatter": [
           {
            "fillpattern": {
             "fillmode": "overlay",
             "size": 10,
             "solidity": 0.2
            },
            "type": "scatter"
           }
          ],
          "scatter3d": [
           {
            "line": {
             "colorbar": {
              "outlinewidth": 0,
              "ticks": ""
             }
            },
            "marker": {
             "colorbar": {
              "outlinewidth": 0,
              "ticks": ""
             }
            },
            "type": "scatter3d"
           }
          ],
          "scattercarpet": [
           {
            "marker": {
             "colorbar": {
              "outlinewidth": 0,
              "ticks": ""
             }
            },
            "type": "scattercarpet"
           }
          ],
          "scattergeo": [
           {
            "marker": {
             "colorbar": {
              "outlinewidth": 0,
              "ticks": ""
             }
            },
            "type": "scattergeo"
           }
          ],
          "scattergl": [
           {
            "marker": {
             "colorbar": {
              "outlinewidth": 0,
              "ticks": ""
             }
            },
            "type": "scattergl"
           }
          ],
          "scattermap": [
           {
            "marker": {
             "colorbar": {
              "outlinewidth": 0,
              "ticks": ""
             }
            },
            "type": "scattermap"
           }
          ],
          "scattermapbox": [
           {
            "marker": {
             "colorbar": {
              "outlinewidth": 0,
              "ticks": ""
             }
            },
            "type": "scattermapbox"
           }
          ],
          "scatterpolar": [
           {
            "marker": {
             "colorbar": {
              "outlinewidth": 0,
              "ticks": ""
             }
            },
            "type": "scatterpolar"
           }
          ],
          "scatterpolargl": [
           {
            "marker": {
             "colorbar": {
              "outlinewidth": 0,
              "ticks": ""
             }
            },
            "type": "scatterpolargl"
           }
          ],
          "scatterternary": [
           {
            "marker": {
             "colorbar": {
              "outlinewidth": 0,
              "ticks": ""
             }
            },
            "type": "scatterternary"
           }
          ],
          "surface": [
           {
            "colorbar": {
             "outlinewidth": 0,
             "ticks": ""
            },
            "colorscale": [
             [
              0,
              "#0d0887"
             ],
             [
              0.1111111111111111,
              "#46039f"
             ],
             [
              0.2222222222222222,
              "#7201a8"
             ],
             [
              0.3333333333333333,
              "#9c179e"
             ],
             [
              0.4444444444444444,
              "#bd3786"
             ],
             [
              0.5555555555555556,
              "#d8576b"
             ],
             [
              0.6666666666666666,
              "#ed7953"
             ],
             [
              0.7777777777777778,
              "#fb9f3a"
             ],
             [
              0.8888888888888888,
              "#fdca26"
             ],
             [
              1,
              "#f0f921"
             ]
            ],
            "type": "surface"
           }
          ],
          "table": [
           {
            "cells": {
             "fill": {
              "color": "#EBF0F8"
             },
             "line": {
              "color": "white"
             }
            },
            "header": {
             "fill": {
              "color": "#C8D4E3"
             },
             "line": {
              "color": "white"
             }
            },
            "type": "table"
           }
          ]
         },
         "layout": {
          "annotationdefaults": {
           "arrowcolor": "#2a3f5f",
           "arrowhead": 0,
           "arrowwidth": 1
          },
          "autotypenumbers": "strict",
          "coloraxis": {
           "colorbar": {
            "outlinewidth": 0,
            "ticks": ""
           }
          },
          "colorscale": {
           "diverging": [
            [
             0,
             "#8e0152"
            ],
            [
             0.1,
             "#c51b7d"
            ],
            [
             0.2,
             "#de77ae"
            ],
            [
             0.3,
             "#f1b6da"
            ],
            [
             0.4,
             "#fde0ef"
            ],
            [
             0.5,
             "#f7f7f7"
            ],
            [
             0.6,
             "#e6f5d0"
            ],
            [
             0.7,
             "#b8e186"
            ],
            [
             0.8,
             "#7fbc41"
            ],
            [
             0.9,
             "#4d9221"
            ],
            [
             1,
             "#276419"
            ]
           ],
           "sequential": [
            [
             0,
             "#0d0887"
            ],
            [
             0.1111111111111111,
             "#46039f"
            ],
            [
             0.2222222222222222,
             "#7201a8"
            ],
            [
             0.3333333333333333,
             "#9c179e"
            ],
            [
             0.4444444444444444,
             "#bd3786"
            ],
            [
             0.5555555555555556,
             "#d8576b"
            ],
            [
             0.6666666666666666,
             "#ed7953"
            ],
            [
             0.7777777777777778,
             "#fb9f3a"
            ],
            [
             0.8888888888888888,
             "#fdca26"
            ],
            [
             1,
             "#f0f921"
            ]
           ],
           "sequentialminus": [
            [
             0,
             "#0d0887"
            ],
            [
             0.1111111111111111,
             "#46039f"
            ],
            [
             0.2222222222222222,
             "#7201a8"
            ],
            [
             0.3333333333333333,
             "#9c179e"
            ],
            [
             0.4444444444444444,
             "#bd3786"
            ],
            [
             0.5555555555555556,
             "#d8576b"
            ],
            [
             0.6666666666666666,
             "#ed7953"
            ],
            [
             0.7777777777777778,
             "#fb9f3a"
            ],
            [
             0.8888888888888888,
             "#fdca26"
            ],
            [
             1,
             "#f0f921"
            ]
           ]
          },
          "colorway": [
           "#636efa",
           "#EF553B",
           "#00cc96",
           "#ab63fa",
           "#FFA15A",
           "#19d3f3",
           "#FF6692",
           "#B6E880",
           "#FF97FF",
           "#FECB52"
          ],
          "font": {
           "color": "#2a3f5f"
          },
          "geo": {
           "bgcolor": "white",
           "lakecolor": "white",
           "landcolor": "#E5ECF6",
           "showlakes": true,
           "showland": true,
           "subunitcolor": "white"
          },
          "hoverlabel": {
           "align": "left"
          },
          "hovermode": "closest",
          "mapbox": {
           "style": "light"
          },
          "paper_bgcolor": "white",
          "plot_bgcolor": "#E5ECF6",
          "polar": {
           "angularaxis": {
            "gridcolor": "white",
            "linecolor": "white",
            "ticks": ""
           },
           "bgcolor": "#E5ECF6",
           "radialaxis": {
            "gridcolor": "white",
            "linecolor": "white",
            "ticks": ""
           }
          },
          "scene": {
           "xaxis": {
            "backgroundcolor": "#E5ECF6",
            "gridcolor": "white",
            "gridwidth": 2,
            "linecolor": "white",
            "showbackground": true,
            "ticks": "",
            "zerolinecolor": "white"
           },
           "yaxis": {
            "backgroundcolor": "#E5ECF6",
            "gridcolor": "white",
            "gridwidth": 2,
            "linecolor": "white",
            "showbackground": true,
            "ticks": "",
            "zerolinecolor": "white"
           },
           "zaxis": {
            "backgroundcolor": "#E5ECF6",
            "gridcolor": "white",
            "gridwidth": 2,
            "linecolor": "white",
            "showbackground": true,
            "ticks": "",
            "zerolinecolor": "white"
           }
          },
          "shapedefaults": {
           "line": {
            "color": "#2a3f5f"
           }
          },
          "ternary": {
           "aaxis": {
            "gridcolor": "white",
            "linecolor": "white",
            "ticks": ""
           },
           "baxis": {
            "gridcolor": "white",
            "linecolor": "white",
            "ticks": ""
           },
           "bgcolor": "#E5ECF6",
           "caxis": {
            "gridcolor": "white",
            "linecolor": "white",
            "ticks": ""
           }
          },
          "title": {
           "x": 0.05
          },
          "xaxis": {
           "automargin": true,
           "gridcolor": "white",
           "linecolor": "white",
           "ticks": "",
           "title": {
            "standoff": 15
           },
           "zerolinecolor": "white",
           "zerolinewidth": 2
          },
          "yaxis": {
           "automargin": true,
           "gridcolor": "white",
           "linecolor": "white",
           "ticks": "",
           "title": {
            "standoff": 15
           },
           "zerolinecolor": "white",
           "zerolinewidth": 2
          }
         }
        },
        "title": {
         "text": "Length Measurements and Error Rates"
        },
        "width": 1000,
        "xaxis": {
         "anchor": "y",
         "domain": [
          0,
          0.94
         ],
         "gridcolor": "lightgray",
         "gridwidth": 1,
         "showgrid": true,
         "title": {
          "text": "Measurement Index"
         },
         "zeroline": true,
         "zerolinecolor": "lightgray",
         "zerolinewidth": 1
        },
        "yaxis": {
         "anchor": "x",
         "domain": [
          0,
          1
         ],
         "gridcolor": "lightgray",
         "gridwidth": 1,
         "showgrid": true,
         "title": {
          "text": "Length (mm)"
         },
         "zeroline": true,
         "zerolinecolor": "lightgray",
         "zerolinewidth": 1
        },
        "yaxis2": {
         "anchor": "x",
         "overlaying": "y",
         "range": [
          0,
          25
         ],
         "showgrid": false,
         "side": "right",
         "title": {
          "text": "Error Rate (%)"
         }
        }
       }
      }
     },
     "metadata": {},
     "output_type": "display_data"
    },
    {
     "name": "stdout",
     "output_type": "stream",
     "text": [
      "📊 Length comparison visualization created with error rates!\n"
     ]
    }
   ],
   "source": [
    "def create_length_error_comparison(df: pd.DataFrame) -> None:\n",
    "    \"\"\"\n",
    "    Create a visualization comparing actual vs predicted lengths with error rates.\n",
    "    Similar to the reference image with dual axis plot.\n",
    "    \"\"\"\n",
    "    # Sort the dataframe by actual length to get a nice progression like in the image\n",
    "    df_sorted = df.sort_values('mean_length').reset_index(drop=True)\n",
    "    \n",
    "    # Calculate error rate as percentage\n",
    "    error_rate = abs((df_sorted['mean_length'] - df_sorted['Length_fov(mm)']) / df_sorted['mean_length'] * 100)\n",
    "    \n",
    "    # Create figure with secondary y-axis\n",
    "    fig = make_subplots(specs=[[{\"secondary_y\": True}]])\n",
    "    \n",
    "    # Add traces\n",
    "    fig.add_trace(\n",
    "        go.Scatter(\n",
    "            x=df_sorted.index,\n",
    "            y=df_sorted['mean_length'],\n",
    "            name=\"Actual Values\",\n",
    "            line=dict(color='black', width=2),\n",
    "            mode='lines+markers',\n",
    "            marker=dict(size=6)\n",
    "        ),\n",
    "        secondary_y=False\n",
    "    )\n",
    "    \n",
    "    fig.add_trace(\n",
    "        go.Scatter(\n",
    "            x=df_sorted.index,\n",
    "            y=df_sorted['Length_fov(mm)'],\n",
    "            name=\"Output Values\",\n",
    "            line=dict(color='red', width=2),\n",
    "            mode='lines+markers',\n",
    "            marker=dict(size=6)\n",
    "        ),\n",
    "        secondary_y=False\n",
    "    )\n",
    "    \n",
    "    fig.add_trace(\n",
    "        go.Bar(\n",
    "            x=df_sorted.index,\n",
    "            y=error_rate,\n",
    "            name=\"Error Rate\",\n",
    "            marker_color='lightgray',\n",
    "            opacity=0.7\n",
    "        ),\n",
    "        secondary_y=True\n",
    "    )\n",
    "    \n",
    "    # Update layout\n",
    "    fig.update_layout(\n",
    "        title='Length Measurements and Error Rates',\n",
    "        plot_bgcolor='white',\n",
    "        height=600,\n",
    "        width=1000,\n",
    "        showlegend=True,\n",
    "        legend=dict(\n",
    "            yanchor=\"top\",\n",
    "            y=0.99,\n",
    "            xanchor=\"left\",\n",
    "            x=0.01,\n",
    "            bgcolor='rgba(255, 255, 255, 0.8)'\n",
    "        ),\n",
    "        hovermode='x unified'\n",
    "    )\n",
    "    \n",
    "    # Update axes\n",
    "    fig.update_xaxes(\n",
    "        title_text=\"Measurement Index\",\n",
    "        showgrid=True,\n",
    "        gridwidth=1,\n",
    "        gridcolor='lightgray',\n",
    "        zeroline=True,\n",
    "        zerolinewidth=1,\n",
    "        zerolinecolor='lightgray'\n",
    "    )\n",
    "    \n",
    "    fig.update_yaxes(\n",
    "        title_text=\"Length (mm)\",\n",
    "        showgrid=True,\n",
    "        gridwidth=1,\n",
    "        gridcolor='lightgray',\n",
    "        zeroline=True,\n",
    "        zerolinewidth=1,\n",
    "        zerolinecolor='lightgray',\n",
    "        secondary_y=False\n",
    "    )\n",
    "    \n",
    "    fig.update_yaxes(\n",
    "        title_text=\"Error Rate (%)\",\n",
    "        range=[0, 25],  # Set range to 0-25%\n",
    "        showgrid=False,\n",
    "        secondary_y=True\n",
    "    )\n",
    "    \n",
    "    # Add horizontal grid lines at 5% intervals\n",
    "    for i in range(0, 26, 5):\n",
    "        fig.add_hline(\n",
    "            y=i,\n",
    "            line_dash=\"dash\",\n",
    "            line_color=\"lightgray\",\n",
    "            opacity=0.5,\n",
    "            secondary_y=True\n",
    "        )\n",
    "    \n",
    "    # Show the plot\n",
    "    fig.show()\n",
    "\n",
    "# Create the visualization\n",
    "create_length_error_comparison(df)\n",
    "print(\"📊 Length comparison visualization created with error rates!\")\n"
   ]
  },
  {
   "cell_type": "markdown",
   "metadata": {},
   "source": [
    "# 🔍 Error Decomposition Analysis: The Art of Measurement Precision\n",
    "\n",
    "## 🧮 The Mathematics of Error\n",
    "In the world of computer vision and biometric measurement, errors don't exist in isolation. They interact, compete, and sometimes even cancel each other out! Let's explore this fascinating phenomenon.\n",
    "\n",
    "### 🎭 The Two Main Characters:\n",
    "- **Pixel Error**: How far off our pixel-level measurements are from the ground truth\n",
    "- **Scale Error**: How incorrect our scale estimation is (mm per pixel)\n",
    "\n",
    "### 🎪 The Plot Twist: Error Cancellation\n",
    "Sometimes, when pixel error and scale error have opposite signs, they partially cancel each other out, leading to surprisingly accurate final measurements despite individual component errors!"
   ]
  },
  {
   "cell_type": "code",
   "execution_count": 28,
   "metadata": {},
   "outputs": [],
   "source": [
    "def calculate_error_metrics(df_pond: pd.DataFrame) -> Dict[str, float]:\n",
    "    \"\"\"\n",
    "    Calculate MAE and MAPE for the measurements.\n",
    "    \n",
    "    Args:\n",
    "        df_pond: DataFrame containing measurement data\n",
    "        \n",
    "    Returns:\n",
    "        Dictionary containing MAE and MAPE values\n",
    "    \"\"\"\n",
    "    # Ground truth is mean_length, prediction is Length_fov(mm)\n",
    "    # Both are already in centimeters after our earlier conversion\n",
    "    \n",
    "    # Calculate absolute errors\n",
    "    absolute_errors = abs(df_pond['mean_length'] - df_pond['Length_fov(mm)'])\n",
    "    \n",
    "    # Calculate percentage errors\n",
    "    percentage_errors = (absolute_errors / df_pond['mean_length']) * 100\n",
    "    \n",
    "    # Calculate metrics\n",
    "    mae = absolute_errors.mean()\n",
    "    mape = percentage_errors.mean()\n",
    "    \n",
    "    return {\n",
    "        'mae_mm': mae,\n",
    "        'mape_percent': mape\n",
    "    }\n",
    "\n",
    "# Update analyze_error_cancellation to include error metrics\n",
    "def analyze_error_cancellation(df: pd.DataFrame, pond_type: str) -> Dict[str, any]:\n",
    "    \"\"\"\n",
    "    🔍 Analyze error cancellation patterns for a specific pond type.\n",
    "    \n",
    "    This function calculates pixel errors, scale errors, and their interaction\n",
    "    to understand how measurement errors behave in different pond environments.\n",
    "    \n",
    "    Args:\n",
    "        df: DataFrame containing measurement data for a specific pond\n",
    "        pond_type: Name of the pond type being analyzed\n",
    "        \n",
    "    Returns:\n",
    "        Dictionary containing analysis results and processed DataFrame\n",
    "    \"\"\"\n",
    "    df_pond = df[df['Pond_Type'] == pond_type].copy().reset_index(drop=True)\n",
    "    \n",
    "    # Calculate MAE and MAPE\n",
    "    error_metrics = calculate_error_metrics(df_pond)\n",
    "    \n",
    "    # 📏 Calculate error components - convert to cm\n",
    "    mm_per_px_gt = 1/ df_pond['mean_scale']  # Convert to cm per pixel\n",
    "    mm_per_px_pred = 1 / df_pond['pred_scale']  # Convert to cm per pixel\n",
    "    \n",
    "    df_pond['pixel_error_mm'] = abs(df_pond['mean_pixels'] - df_pond['pred_Distance_pixels']) * mm_per_px_gt\n",
    "    df_pond['scale_error_mm'] = df_pond['mean_pixels'] * (mm_per_px_gt - mm_per_px_pred)\n",
    "    \n",
    "    # 🎭 Identify cancellation patterns\n",
    "    partial_cancel_mask = (df_pond['pixel_error_mm'] * df_pond['scale_error_mm'] < 0)\n",
    "    percent_partial_cancel = 100 * partial_cancel_mask.sum() / len(df_pond) if len(df_pond) > 0 else 0\n",
    "    \n",
    "    # 📊 Calculate cancellation magnitude\n",
    "    if partial_cancel_mask.any():\n",
    "        uncancelled_error = (abs(df_pond.loc[partial_cancel_mask, 'pixel_error_mm']) + \n",
    "                           abs(df_pond.loc[partial_cancel_mask, 'scale_error_mm']))\n",
    "        actual_total_error = abs(df_pond.loc[partial_cancel_mask, 'pixel_error_mm'] + \n",
    "                               df_pond.loc[partial_cancel_mask, 'scale_error_mm'])\n",
    "        cancellation_magnitude = uncancelled_error - actual_total_error\n",
    "        \n",
    "        df_pond.loc[partial_cancel_mask, 'cancellation_mm'] = cancellation_magnitude\n",
    "        mean_cancellation = cancellation_magnitude.mean()\n",
    "        cancellation_percent = mean_cancellation / (df_pond[\"Length_fov(mm)\"].abs().mean()) * 100\n",
    "    else:\n",
    "        mean_cancellation = 0\n",
    "        cancellation_percent = 0\n",
    "    \n",
    "    # 🏆 Determine error dominance\n",
    "    df_pond['dominant_error'] = np.where(\n",
    "        abs(df_pond['scale_error_mm']) > abs(df_pond['pixel_error_mm']),\n",
    "        'Scale Error', 'Pixel Error'\n",
    "    )\n",
    "    \n",
    "    dominant_stats = df_pond['dominant_error'].value_counts(normalize=True) * 100\n",
    "    \n",
    "    return {\n",
    "        'data': df_pond,\n",
    "        'sample_count': len(df_pond),\n",
    "        'cancellation_percent': percent_partial_cancel,\n",
    "        'mean_cancellation_mm': mean_cancellation,\n",
    "        'cancellation_relative_percent': cancellation_percent,\n",
    "        'scale_dominant_percent': dominant_stats.get('Scale Error', 0),\n",
    "        'pixel_dominant_percent': dominant_stats.get('Pixel Error', 0),\n",
    "        'mae_mm': error_metrics['mae_mm'],\n",
    "        'mape_percent': error_metrics['mape_percent']\n",
    "    }\n",
    "\n",
    "def print_error_summary(pond_type: str, results: Dict[str, any]) -> None:\n",
    "    \"\"\"\n",
    "    🎨 Print a beautifully formatted summary of error analysis results.\n",
    "    \"\"\"\n",
    "    print(f\"\\n🏊‍♀️ === {pond_type.upper()} POND ANALYSIS === 🦐\")\n",
    "    print(f\"📊 Sample Size: {results['sample_count']} measurements\")\n",
    "    \n",
    "    print(f\"\\n📏 ERROR METRICS:\")\n",
    "    print(f\"   🎯 Mean Absolute Error (MAE): {results['mae_mm']:.2f}mm\")\n",
    "    print(f\"   📊 Mean Absolute Percentage Error (MAPE): {results['mape_percent']:.1f}%\")\n",
    "    \n",
    "    print(f\"\\n🎭 ERROR CANCELLATION MAGIC:\")\n",
    "    print(f\"   ✨ Partial cancellation occurs in {results['cancellation_percent']:.1f}% of cases\")\n",
    "    print(f\"   🎪 Average cancellation magnitude: {results['mean_cancellation_mm']:.2f}mm\")\n",
    "    print(f\"   📏 Relative to prawn size: {results['cancellation_relative_percent']:.1f}%\")\n",
    "    \n",
    "    print(f\"\\n🏆 ERROR DOMINANCE BATTLE:\")\n",
    "    print(f\"   🔍 Pixel Error wins: {results['pixel_dominant_percent']:.1f}% of the time\")\n",
    "    print(f\"   📐 Scale Error wins: {results['scale_dominant_percent']:.1f}% of the time\")\n",
    "    print(\"─\" * 60)"
   ]
  },
  {
   "cell_type": "code",
   "execution_count": 29,
   "metadata": {},
   "outputs": [
    {
     "name": "stdout",
     "output_type": "stream",
     "text": [
      "\n",
      "🏊‍♀️ === CIRCLE_FEMALE POND ANALYSIS === 🦐\n",
      "📊 Sample Size: 92 measurements\n",
      "\n",
      "📏 ERROR METRICS:\n",
      "   🎯 Mean Absolute Error (MAE): 12.90mm\n",
      "   📊 Mean Absolute Percentage Error (MAPE): 11.6%\n",
      "\n",
      "🎭 ERROR CANCELLATION MAGIC:\n",
      "   ✨ Partial cancellation occurs in 88.0% of cases\n",
      "   🎪 Average cancellation magnitude: 0.94mm\n",
      "   📏 Relative to prawn size: 0.7%\n",
      "\n",
      "🏆 ERROR DOMINANCE BATTLE:\n",
      "   🔍 Pixel Error wins: 41.3% of the time\n",
      "   📐 Scale Error wins: 58.7% of the time\n",
      "────────────────────────────────────────────────────────────\n",
      "\n",
      "🏊‍♀️ === CIRCLE_MALE POND ANALYSIS === 🦐\n",
      "📊 Sample Size: 13 measurements\n",
      "\n",
      "📏 ERROR METRICS:\n",
      "   🎯 Mean Absolute Error (MAE): 17.71mm\n",
      "   📊 Mean Absolute Percentage Error (MAPE): 25.2%\n",
      "\n",
      "🎭 ERROR CANCELLATION MAGIC:\n",
      "   ✨ Partial cancellation occurs in 100.0% of cases\n",
      "   🎪 Average cancellation magnitude: 1.17mm\n",
      "   📏 Relative to prawn size: 1.4%\n",
      "\n",
      "🏆 ERROR DOMINANCE BATTLE:\n",
      "   🔍 Pixel Error wins: 23.1% of the time\n",
      "   📐 Scale Error wins: 76.9% of the time\n",
      "────────────────────────────────────────────────────────────\n",
      "\n",
      "🏊‍♀️ === SQUARE POND ANALYSIS === 🦐\n",
      "📊 Sample Size: 14 measurements\n",
      "\n",
      "📏 ERROR METRICS:\n",
      "   🎯 Mean Absolute Error (MAE): 13.70mm\n",
      "   📊 Mean Absolute Percentage Error (MAPE): 11.7%\n",
      "\n",
      "🎭 ERROR CANCELLATION MAGIC:\n",
      "   ✨ Partial cancellation occurs in 21.4% of cases\n",
      "   🎪 Average cancellation magnitude: 0.62mm\n",
      "   📏 Relative to prawn size: 0.5%\n",
      "\n",
      "🏆 ERROR DOMINANCE BATTLE:\n",
      "   🔍 Pixel Error wins: 35.7% of the time\n",
      "   📐 Scale Error wins: 64.3% of the time\n",
      "────────────────────────────────────────────────────────────\n"
     ]
    }
   ],
   "source": [
    "# Analyze each pond type and collect results\n",
    "pond_types = df['Pond_Type'].unique()\n",
    "all_results = {}\n",
    "\n",
    "\n",
    "df['mae'] = abs(df['mean_length'] - df['Length_fov(mm)'])\n",
    "df['mape_percent'] = (df['mae'] / df['mean_length']) * 100\n",
    "\n",
    "for pond_type in pond_types:\n",
    "    # Filter out IQR outliers before analysis\n",
    "    df_pond = df[df['Pond_Type'] == pond_type].copy()\n",
    "    q1 = df_pond['mae'].quantile(0.25)\n",
    "    q3 = df_pond['mae'].quantile(0.75)\n",
    "    iqr = q3 - q1\n",
    "    outlier_threshold_low = q1 - 1.5 * iqr\n",
    "    outlier_threshold_high = q3 + 1.5 * iqr\n",
    "    df_pond_filtered = df_pond[(df_pond['mae'] >= outlier_threshold_low) & (df_pond['mae'] <= outlier_threshold_high)]\n",
    "    \n",
    "    # Analyze error cancellation on filtered data\n",
    "    results = analyze_error_cancellation(df_pond_filtered, pond_type)\n",
    "    all_results[pond_type] = results\n",
    "    print_error_summary(pond_type, results)\n",
    "\n",
    "# # Create the visualization\n",
    "# create_error_metrics_visualization({\n",
    "#     pond_type: {\n",
    "#         'mae_mm': results['mae_mm'],\n",
    "#         'mape_percent': results['mape_percent']\n",
    "#     }\n",
    "#     for pond_type, results in all_results.items()\n",
    "# })\n"
   ]
  },
  {
   "cell_type": "code",
   "execution_count": 21,
   "metadata": {},
   "outputs": [
    {
     "data": {
      "application/vnd.plotly.v1+json": {
       "config": {
        "plotlyServerURL": "https://plot.ly"
       },
       "data": [
        {
         "customdata": [
          [
           "full body:undistorted_GX010077_14_237.jpg_gamma",
           "Prawn_0"
          ],
          [
           "full body:undistorted_GX010077_14_237.jpg_gamma",
           "Prawn_1"
          ],
          [
           "full body:undistorted_GX010077_14_237.jpg_gamma",
           "Prawn_2"
          ],
          [
           "full body:undistorted_GX010067_33_625.jpg_gamma",
           "Prawn_0"
          ],
          [
           "full body:undistorted_GX010067_33_625.jpg_gamma",
           "Prawn_1"
          ],
          [
           "full body:undistorted_GX010067_33_625.jpg_gamma",
           "Prawn_2"
          ],
          [
           "full body:undistorted_GX010067_33_625.jpg_gamma",
           "Prawn_3"
          ],
          [
           "full body:undistorted_GX010068_26_666.jpg_gamma",
           "Prawn_0"
          ],
          [
           "full body:undistorted_GX010068_26_666.jpg_gamma",
           "Prawn_1"
          ],
          [
           "full body:undistorted_GX010068_26_666.jpg_gamma",
           "Prawn_2"
          ],
          [
           "full body:undistorted_GX010068_27_795.jpg_gamma",
           "Prawn_0"
          ],
          [
           "full body:undistorted_GX010068_27_795.jpg_gamma",
           "Prawn_1"
          ],
          [
           "full body:undistorted_GX010069_19_191.jpg_gamma",
           "Prawn_0"
          ],
          [
           "full body:undistorted_GX010069_19_191.jpg_gamma",
           "Prawn_1"
          ],
          [
           "full body:undistorted_GX010069_19_191.jpg_gamma",
           "Prawn_2"
          ],
          [
           "full body:undistorted_GX010069_19_191.jpg_gamma",
           "Prawn_3"
          ],
          [
           "full body:undistorted_GX010071_22_444.jpg_gamma",
           "Prawn_0"
          ],
          [
           "full body:undistorted_GX010071_22_444.jpg_gamma",
           "Prawn_1"
          ],
          [
           "full body:undistorted_GX010073_42_695.jpg_gamma",
           "Prawn_1"
          ],
          [
           "full body:undistorted_GX010073_42_695.jpg_gamma",
           "Prawn_2"
          ],
          [
           "full body:undistorted_GX010073_55_1014.jpg_gamma",
           "Prawn_0"
          ],
          [
           "full body:undistorted_GX010073_55_1014.jpg_gamma",
           "Prawn_1"
          ],
          [
           "full body:undistorted_GX010073_55_1014.jpg_gamma",
           "Prawn_2"
          ],
          [
           "full body:undistorted_GX010080_157_2283.jpg_gamma",
           "Prawn_0"
          ],
          [
           "full body:undistorted_GX010080_157_2283.jpg_gamma",
           "Prawn_2"
          ],
          [
           "full body:undistorted_GX010080_157_2283.jpg_gamma",
           "Prawn_3"
          ],
          [
           "full body:undistorted_GX010080_193_2640.jpg_gamma",
           "Prawn_0"
          ],
          [
           "full body:undistorted_GX010080_193_2640.jpg_gamma",
           "Prawn_1"
          ],
          [
           "full body:undistorted_GX010080_193_2640.jpg_gamma",
           "Prawn_2"
          ],
          [
           "full body:undistorted_GX010080_193_2640.jpg_gamma",
           "Prawn_3"
          ],
          [
           "full body:undistorted_GX010080_193_2640.jpg_gamma",
           "Prawn_4"
          ],
          [
           "full body:undistorted_GX010080_212_2954.jpg_gamma",
           "Prawn_0"
          ],
          [
           "full body:undistorted_GX010080_212_2954.jpg_gamma",
           "Prawn_1"
          ],
          [
           "full body:undistorted_GX010080_212_2954.jpg_gamma",
           "Prawn_2"
          ],
          [
           "full body:undistorted_GX010080_237_3366.jpg_gamma",
           "Prawn_0"
          ],
          [
           "full body:undistorted_GX010080_237_3366.jpg_gamma",
           "Prawn_1"
          ],
          [
           "full body:undistorted_GX010080_237_3366.jpg_gamma",
           "Prawn_2"
          ],
          [
           "full body:undistorted_GX010080_237_3366.jpg_gamma",
           "Prawn_3"
          ],
          [
           "full body:undistorted_GX010080_237_3366.jpg_gamma",
           "Prawn_4"
          ],
          [
           "full body:undistorted_GX010080_238_3392.jpg_gamma",
           "Prawn_0"
          ],
          [
           "full body:undistorted_GX010080_238_3392.jpg_gamma",
           "Prawn_1"
          ],
          [
           "full body:undistorted_GX010080_238_3392.jpg_gamma",
           "Prawn_2"
          ],
          [
           "full body:undistorted_GX010080_238_3392.jpg_gamma",
           "Prawn_3"
          ],
          [
           "full body:undistorted_GX010082_8_59.jpg_gamma",
           "Prawn_1"
          ],
          [
           "full body:undistorted_GX010082_8_59.jpg_gamma",
           "Prawn_2"
          ],
          [
           "full body:undistorted_GX010082_8_59.jpg_gamma",
           "Prawn_3"
          ],
          [
           "full body:undistorted_GX010082_8_59.jpg_gamma",
           "Prawn_4"
          ],
          [
           "full body:undistorted_GX010082_53_796.jpg_gamma",
           "Prawn_0"
          ],
          [
           "full body:undistorted_GX010082_53_796.jpg_gamma",
           "Prawn_1"
          ],
          [
           "full body:undistorted_GX010082_65_1070.jpg_gamma",
           "Prawn_0"
          ],
          [
           "full body:undistorted_GX010082_65_1070.jpg_gamma",
           "Prawn_1"
          ],
          [
           "full body:undistorted_GX010082_65_1070.jpg_gamma",
           "Prawn_2"
          ],
          [
           "full body:undistorted_GX010082_236_3137.jpg_gamma",
           "Prawn_0"
          ],
          [
           "full body:undistorted_GX010082_236_3137.jpg_gamma",
           "Prawn_1"
          ],
          [
           "full body:undistorted_GX010082_236_3137.jpg_gamma",
           "Prawn_2"
          ],
          [
           "full body:undistorted_GX010084_30_344.jpg_gamma",
           "Prawn_0"
          ],
          [
           "full body:undistorted_GX010084_30_344.jpg_gamma",
           "Prawn_1"
          ],
          [
           "full body:undistorted_GX010084_30_344.jpg_gamma",
           "Prawn_2"
          ],
          [
           "full body:undistorted_GX010084_30_344.jpg_gamma",
           "Prawn_3"
          ],
          [
           "full body:undistorted_GX010084_130_1748.jpg_gamma",
           "Prawn_0"
          ],
          [
           "full body:undistorted_GX010084_130_1748.jpg_gamma",
           "Prawn_1"
          ],
          [
           "full body:undistorted_GX010084_130_1748.jpg_gamma",
           "Prawn_2"
          ],
          [
           "full body:undistorted_GX010085_261_3610.jpg_gamma",
           "Prawn_0"
          ],
          [
           "full body:undistorted_GX010085_261_3610.jpg_gamma",
           "Prawn_1"
          ],
          [
           "full body:undistorted_GX010088_209_2904.jpg_gamma",
           "Prawn_0"
          ],
          [
           "full body:undistorted_GX010088_209_2904.jpg_gamma",
           "Prawn_1"
          ],
          [
           "full body:undistorted_GX010088_262_3712.jpg_gamma",
           "Prawn_0"
          ],
          [
           "full body:undistorted_GX010088_262_3712.jpg_gamma",
           "Prawn_1"
          ],
          [
           "full body:undistorted_GX010088_262_3712.jpg_gamma",
           "Prawn_2"
          ],
          [
           "full body:undistorted_GX010088_327_4364.jpg_gamma",
           "Prawn_0"
          ],
          [
           "full body:undistorted_GX010088_327_4364.jpg_gamma",
           "Prawn_1"
          ],
          [
           "full body:undistorted_GX010088_327_4364.jpg_gamma",
           "Prawn_2"
          ],
          [
           "full body:undistorted_GX010088_327_4364.jpg_gamma",
           "Prawn_3"
          ],
          [
           "full body:undistorted_GX010090_132_1852.jpg_gamma",
           "Prawn_0"
          ],
          [
           "full body:undistorted_GX010094_9_129.jpg_gamma",
           "Prawn_0"
          ],
          [
           "full body:undistorted_GX010094_9_129.jpg_gamma",
           "Prawn_1"
          ],
          [
           "full body:undistorted_GX010094_24_430.jpg_gamma",
           "Prawn_0"
          ],
          [
           "full body:undistorted_GX010094_93_1258.jpg_gamma",
           "Prawn_0"
          ],
          [
           "full body:undistorted_GX010094_163_2312.jpg_gamma",
           "Prawn_0"
          ],
          [
           "full body:undistorted_GX010097_32_528.jpg_gamma",
           "Prawn_0"
          ],
          [
           "full body:undistorted_GX010097_32_528.jpg_gamma",
           "Prawn_1"
          ],
          [
           "full body:undistorted_GX010097_60_1080.jpg_gamma",
           "Prawn_0"
          ],
          [
           "full body:undistorted_GX010097_60_1080.jpg_gamma",
           "Prawn_1"
          ],
          [
           "full body:undistorted_GX010097_60_1080.jpg_gamma",
           "Prawn_2"
          ],
          [
           "full body:undistorted_GX010097_60_1080.jpg_gamma",
           "Prawn_3"
          ],
          [
           "full body:undistorted_GX010097_105_1651.jpg_gamma",
           "Prawn_0"
          ],
          [
           "full body:undistorted_GX010097_105_1651.jpg_gamma",
           "Prawn_1"
          ],
          [
           "full body:undistorted_GX010097_105_1651.jpg_gamma",
           "Prawn_2"
          ],
          [
           "full body:undistorted_GX010097_105_1651.jpg_gamma",
           "Prawn_3"
          ],
          [
           "full body:undistorted_GX010097_124_1870.jpg_gamma",
           "Prawn_0"
          ],
          [
           "full body:undistorted_GX010097_124_1870.jpg_gamma",
           "Prawn_1"
          ],
          [
           "full body:undistorted_GX010101_12_173.jpg_gamma",
           "Prawn_0"
          ]
         ],
         "hovertemplate": "Image: %{customdata[0]}<br>Prawn ID: %{customdata[1]}<br>Pixel Error: %{y:.2f}mm<extra></extra>",
         "marker": {
          "color": [
           "#1f77b4",
           "#1f77b4",
           "#1f77b4",
           "#1f77b4",
           "#1f77b4",
           "#1f77b4",
           "#1f77b4",
           "#1f77b4",
           "#1f77b4",
           "#1f77b4",
           "#1f77b4",
           "#1f77b4",
           "#1f77b4",
           "#1f77b4",
           "#1f77b4",
           "#1f77b4",
           "#1f77b4",
           "#1f77b4",
           "#1f77b4",
           "#1f77b4",
           "#1f77b4",
           "#1f77b4",
           "#1f77b4",
           "#1f77b4",
           "#1f77b4",
           "#1f77b4",
           "#1f77b4",
           "#1f77b4",
           "#1f77b4",
           "#1f77b4",
           "#1f77b4",
           "#1f77b4",
           "#1f77b4",
           "#1f77b4",
           "#1f77b4",
           "#1f77b4",
           "#1f77b4",
           "#1f77b4",
           "#1f77b4",
           "#1f77b4",
           "#1f77b4",
           "#1f77b4",
           "#1f77b4",
           "#1f77b4",
           "#1f77b4",
           "#1f77b4",
           "#1f77b4",
           "#1f77b4",
           "#1f77b4",
           "#1f77b4",
           "#1f77b4",
           "#1f77b4",
           "#1f77b4",
           "#1f77b4",
           "#1f77b4",
           "#1f77b4",
           "#1f77b4",
           "#1f77b4",
           "#1f77b4",
           "#1f77b4",
           "#1f77b4",
           "#1f77b4",
           "#1f77b4",
           "#1f77b4",
           "#1f77b4",
           "#1f77b4",
           "#1f77b4",
           "red",
           "red",
           "#1f77b4",
           "#1f77b4",
           "#1f77b4",
           "#1f77b4",
           "#1f77b4",
           "#1f77b4",
           "#1f77b4",
           "#1f77b4",
           "#1f77b4",
           "#1f77b4",
           "#1f77b4",
           "#1f77b4",
           "#1f77b4",
           "#1f77b4",
           "#1f77b4",
           "#1f77b4",
           "#1f77b4",
           "#1f77b4",
           "#1f77b4",
           "#1f77b4",
           "#1f77b4",
           "#1f77b4",
           "#1f77b4"
          ]
         },
         "name": "Pixel Error",
         "showlegend": true,
         "type": "bar",
         "x": {
          "bdata": "AAECAwQFBgcICQoLDA0ODxAREhMUFRYXGBkaGxwdHh8gISIjJCUmJygpKissLS4vMDEyMzQ1Njc4OTo7PD0+P0BBQkNERUZHSElKS0xNTk9QUVJTVFVWV1hZWls=",
          "dtype": "i1"
         },
         "xaxis": "x",
         "y": {
          "bdata": "hM9cGQP4LcBmbdk4pnUswHN7wsXQDjTAj0KKkchxIMBRULexFrH8v724S3r4uiJAlh0gpcxuFEBrn43uUevzv0ANDSUXZyPAYkCp0WTKEMCbhMP32tQqwBaNgd7P1x9AWa2aSuZsJsDh6RA4530EwJ4m8on7Lf8/0MjPS2bbGEB3K/f494EpwOQvj3xXCQRAab86REGCFMAQY696MxgWQH6+pG+8fxLAx8JqbcetAcD9wt8mrOoowLILd5gO2xfAiOGfMDCw9j8vWaHMap0fQHkSIPlqqwLAm5RrYhMKFkDicTm+IYUTQED+DDFxiwzAh7laZdrqEcBTLrEM22olwNRiPfk36QvAl338B/YrJkCBmmURPlsnwFsYN2cDryDAEyP7nxPnH8CYZZOyqFcWQK17+0+epxFA30GDOvLWIcBo26k93e3WP2xmghIl7eW/Q5KG2Pfexb9GDDWMqWwNQHCvGTplByhA4ZPbIqpNNMDcfCnAlgouwFOq8jCowg9Av/QH+gPoBkCQDnZH2ZQcwDhHm+OcefS/rQXPtYgU8T9HkgvkjmwRwL25JhIk9PC/htBpy8gC6b8CDWjQF6YawC8Atcu9NCHAGCvweqJqxb/Nfapr69sgQN0POXM3qfE/Ty+VD/OtKcCRc4ouxAIMQOnsXAF/cyNAKxZm8D2OMUB6YUqwA+glQBJ95194nARAePFbo/d9J8DjOG/pLz4nQAWHg253hilA+rBiB3vvE0BgEGNnZ74EwCUWqDd1wxHAZXx5ZrzZG0AMbzczbFDyvxGJxg+ZlwjAXH1UJSnYJkC0oAiGQpTvP9o+2Cvqt/c/WUVgFMb8JsBZ4GsGPqAlwLlnTo6nQcW/OLar26XkBcAnArOg3+UOQFli04R+PifA71uVrnoUCUCconJyoKAowJFE6W0bFgdAZxdJA4lkJ8DzRkhojHgtwMIJZo3VoAfAwW5jtpStBcAgW0gNYczsvw==",
          "dtype": "f8"
         },
         "yaxis": "y"
        },
        {
         "customdata": [
          [
           "full body:undistorted_GX010077_14_237.jpg_gamma",
           "Prawn_0"
          ],
          [
           "full body:undistorted_GX010077_14_237.jpg_gamma",
           "Prawn_1"
          ],
          [
           "full body:undistorted_GX010077_14_237.jpg_gamma",
           "Prawn_2"
          ],
          [
           "full body:undistorted_GX010067_33_625.jpg_gamma",
           "Prawn_0"
          ],
          [
           "full body:undistorted_GX010067_33_625.jpg_gamma",
           "Prawn_1"
          ],
          [
           "full body:undistorted_GX010067_33_625.jpg_gamma",
           "Prawn_2"
          ],
          [
           "full body:undistorted_GX010067_33_625.jpg_gamma",
           "Prawn_3"
          ],
          [
           "full body:undistorted_GX010068_26_666.jpg_gamma",
           "Prawn_0"
          ],
          [
           "full body:undistorted_GX010068_26_666.jpg_gamma",
           "Prawn_1"
          ],
          [
           "full body:undistorted_GX010068_26_666.jpg_gamma",
           "Prawn_2"
          ],
          [
           "full body:undistorted_GX010068_27_795.jpg_gamma",
           "Prawn_0"
          ],
          [
           "full body:undistorted_GX010068_27_795.jpg_gamma",
           "Prawn_1"
          ],
          [
           "full body:undistorted_GX010069_19_191.jpg_gamma",
           "Prawn_0"
          ],
          [
           "full body:undistorted_GX010069_19_191.jpg_gamma",
           "Prawn_1"
          ],
          [
           "full body:undistorted_GX010069_19_191.jpg_gamma",
           "Prawn_2"
          ],
          [
           "full body:undistorted_GX010069_19_191.jpg_gamma",
           "Prawn_3"
          ],
          [
           "full body:undistorted_GX010071_22_444.jpg_gamma",
           "Prawn_0"
          ],
          [
           "full body:undistorted_GX010071_22_444.jpg_gamma",
           "Prawn_1"
          ],
          [
           "full body:undistorted_GX010073_42_695.jpg_gamma",
           "Prawn_1"
          ],
          [
           "full body:undistorted_GX010073_42_695.jpg_gamma",
           "Prawn_2"
          ],
          [
           "full body:undistorted_GX010073_55_1014.jpg_gamma",
           "Prawn_0"
          ],
          [
           "full body:undistorted_GX010073_55_1014.jpg_gamma",
           "Prawn_1"
          ],
          [
           "full body:undistorted_GX010073_55_1014.jpg_gamma",
           "Prawn_2"
          ],
          [
           "full body:undistorted_GX010080_157_2283.jpg_gamma",
           "Prawn_0"
          ],
          [
           "full body:undistorted_GX010080_157_2283.jpg_gamma",
           "Prawn_2"
          ],
          [
           "full body:undistorted_GX010080_157_2283.jpg_gamma",
           "Prawn_3"
          ],
          [
           "full body:undistorted_GX010080_193_2640.jpg_gamma",
           "Prawn_0"
          ],
          [
           "full body:undistorted_GX010080_193_2640.jpg_gamma",
           "Prawn_1"
          ],
          [
           "full body:undistorted_GX010080_193_2640.jpg_gamma",
           "Prawn_2"
          ],
          [
           "full body:undistorted_GX010080_193_2640.jpg_gamma",
           "Prawn_3"
          ],
          [
           "full body:undistorted_GX010080_193_2640.jpg_gamma",
           "Prawn_4"
          ],
          [
           "full body:undistorted_GX010080_212_2954.jpg_gamma",
           "Prawn_0"
          ],
          [
           "full body:undistorted_GX010080_212_2954.jpg_gamma",
           "Prawn_1"
          ],
          [
           "full body:undistorted_GX010080_212_2954.jpg_gamma",
           "Prawn_2"
          ],
          [
           "full body:undistorted_GX010080_237_3366.jpg_gamma",
           "Prawn_0"
          ],
          [
           "full body:undistorted_GX010080_237_3366.jpg_gamma",
           "Prawn_1"
          ],
          [
           "full body:undistorted_GX010080_237_3366.jpg_gamma",
           "Prawn_2"
          ],
          [
           "full body:undistorted_GX010080_237_3366.jpg_gamma",
           "Prawn_3"
          ],
          [
           "full body:undistorted_GX010080_237_3366.jpg_gamma",
           "Prawn_4"
          ],
          [
           "full body:undistorted_GX010080_238_3392.jpg_gamma",
           "Prawn_0"
          ],
          [
           "full body:undistorted_GX010080_238_3392.jpg_gamma",
           "Prawn_1"
          ],
          [
           "full body:undistorted_GX010080_238_3392.jpg_gamma",
           "Prawn_2"
          ],
          [
           "full body:undistorted_GX010080_238_3392.jpg_gamma",
           "Prawn_3"
          ],
          [
           "full body:undistorted_GX010082_8_59.jpg_gamma",
           "Prawn_1"
          ],
          [
           "full body:undistorted_GX010082_8_59.jpg_gamma",
           "Prawn_2"
          ],
          [
           "full body:undistorted_GX010082_8_59.jpg_gamma",
           "Prawn_3"
          ],
          [
           "full body:undistorted_GX010082_8_59.jpg_gamma",
           "Prawn_4"
          ],
          [
           "full body:undistorted_GX010082_53_796.jpg_gamma",
           "Prawn_0"
          ],
          [
           "full body:undistorted_GX010082_53_796.jpg_gamma",
           "Prawn_1"
          ],
          [
           "full body:undistorted_GX010082_65_1070.jpg_gamma",
           "Prawn_0"
          ],
          [
           "full body:undistorted_GX010082_65_1070.jpg_gamma",
           "Prawn_1"
          ],
          [
           "full body:undistorted_GX010082_65_1070.jpg_gamma",
           "Prawn_2"
          ],
          [
           "full body:undistorted_GX010082_236_3137.jpg_gamma",
           "Prawn_0"
          ],
          [
           "full body:undistorted_GX010082_236_3137.jpg_gamma",
           "Prawn_1"
          ],
          [
           "full body:undistorted_GX010082_236_3137.jpg_gamma",
           "Prawn_2"
          ],
          [
           "full body:undistorted_GX010084_30_344.jpg_gamma",
           "Prawn_0"
          ],
          [
           "full body:undistorted_GX010084_30_344.jpg_gamma",
           "Prawn_1"
          ],
          [
           "full body:undistorted_GX010084_30_344.jpg_gamma",
           "Prawn_2"
          ],
          [
           "full body:undistorted_GX010084_30_344.jpg_gamma",
           "Prawn_3"
          ],
          [
           "full body:undistorted_GX010084_130_1748.jpg_gamma",
           "Prawn_0"
          ],
          [
           "full body:undistorted_GX010084_130_1748.jpg_gamma",
           "Prawn_1"
          ],
          [
           "full body:undistorted_GX010084_130_1748.jpg_gamma",
           "Prawn_2"
          ],
          [
           "full body:undistorted_GX010085_261_3610.jpg_gamma",
           "Prawn_0"
          ],
          [
           "full body:undistorted_GX010085_261_3610.jpg_gamma",
           "Prawn_1"
          ],
          [
           "full body:undistorted_GX010088_209_2904.jpg_gamma",
           "Prawn_0"
          ],
          [
           "full body:undistorted_GX010088_209_2904.jpg_gamma",
           "Prawn_1"
          ],
          [
           "full body:undistorted_GX010088_262_3712.jpg_gamma",
           "Prawn_0"
          ],
          [
           "full body:undistorted_GX010088_262_3712.jpg_gamma",
           "Prawn_1"
          ],
          [
           "full body:undistorted_GX010088_262_3712.jpg_gamma",
           "Prawn_2"
          ],
          [
           "full body:undistorted_GX010088_327_4364.jpg_gamma",
           "Prawn_0"
          ],
          [
           "full body:undistorted_GX010088_327_4364.jpg_gamma",
           "Prawn_1"
          ],
          [
           "full body:undistorted_GX010088_327_4364.jpg_gamma",
           "Prawn_2"
          ],
          [
           "full body:undistorted_GX010088_327_4364.jpg_gamma",
           "Prawn_3"
          ],
          [
           "full body:undistorted_GX010090_132_1852.jpg_gamma",
           "Prawn_0"
          ],
          [
           "full body:undistorted_GX010094_9_129.jpg_gamma",
           "Prawn_0"
          ],
          [
           "full body:undistorted_GX010094_9_129.jpg_gamma",
           "Prawn_1"
          ],
          [
           "full body:undistorted_GX010094_24_430.jpg_gamma",
           "Prawn_0"
          ],
          [
           "full body:undistorted_GX010094_93_1258.jpg_gamma",
           "Prawn_0"
          ],
          [
           "full body:undistorted_GX010094_163_2312.jpg_gamma",
           "Prawn_0"
          ],
          [
           "full body:undistorted_GX010097_32_528.jpg_gamma",
           "Prawn_0"
          ],
          [
           "full body:undistorted_GX010097_32_528.jpg_gamma",
           "Prawn_1"
          ],
          [
           "full body:undistorted_GX010097_60_1080.jpg_gamma",
           "Prawn_0"
          ],
          [
           "full body:undistorted_GX010097_60_1080.jpg_gamma",
           "Prawn_1"
          ],
          [
           "full body:undistorted_GX010097_60_1080.jpg_gamma",
           "Prawn_2"
          ],
          [
           "full body:undistorted_GX010097_60_1080.jpg_gamma",
           "Prawn_3"
          ],
          [
           "full body:undistorted_GX010097_105_1651.jpg_gamma",
           "Prawn_0"
          ],
          [
           "full body:undistorted_GX010097_105_1651.jpg_gamma",
           "Prawn_1"
          ],
          [
           "full body:undistorted_GX010097_105_1651.jpg_gamma",
           "Prawn_2"
          ],
          [
           "full body:undistorted_GX010097_105_1651.jpg_gamma",
           "Prawn_3"
          ],
          [
           "full body:undistorted_GX010097_124_1870.jpg_gamma",
           "Prawn_0"
          ],
          [
           "full body:undistorted_GX010097_124_1870.jpg_gamma",
           "Prawn_1"
          ],
          [
           "full body:undistorted_GX010101_12_173.jpg_gamma",
           "Prawn_0"
          ]
         ],
         "hovertemplate": "Image: %{customdata[0]}<br>Prawn ID: %{customdata[1]}<br>Scale Error: %{y:.2f}mm<extra></extra>",
         "marker": {
          "color": [
           "#ff7f0e",
           "#ff7f0e",
           "#ff7f0e",
           "#ff7f0e",
           "#ff7f0e",
           "#ff7f0e",
           "#ff7f0e",
           "#ff7f0e",
           "#ff7f0e",
           "#ff7f0e",
           "#ff7f0e",
           "#ff7f0e",
           "#ff7f0e",
           "#ff7f0e",
           "#ff7f0e",
           "#ff7f0e",
           "#ff7f0e",
           "#ff7f0e",
           "#ff7f0e",
           "#ff7f0e",
           "#ff7f0e",
           "#ff7f0e",
           "#ff7f0e",
           "#ff7f0e",
           "#ff7f0e",
           "#ff7f0e",
           "#ff7f0e",
           "#ff7f0e",
           "#ff7f0e",
           "#ff7f0e",
           "#ff7f0e",
           "#ff7f0e",
           "#ff7f0e",
           "#ff7f0e",
           "#ff7f0e",
           "#ff7f0e",
           "#ff7f0e",
           "#ff7f0e",
           "#ff7f0e",
           "#ff7f0e",
           "#ff7f0e",
           "#ff7f0e",
           "#ff7f0e",
           "#ff7f0e",
           "#ff7f0e",
           "#ff7f0e",
           "#ff7f0e",
           "#ff7f0e",
           "#ff7f0e",
           "#ff7f0e",
           "#ff7f0e",
           "#ff7f0e",
           "#ff7f0e",
           "#ff7f0e",
           "#ff7f0e",
           "#ff7f0e",
           "#ff7f0e",
           "#ff7f0e",
           "#ff7f0e",
           "#ff7f0e",
           "#ff7f0e",
           "#ff7f0e",
           "#ff7f0e",
           "#ff7f0e",
           "#ff7f0e",
           "#ff7f0e",
           "#ff7f0e",
           "red",
           "red",
           "#ff7f0e",
           "#ff7f0e",
           "#ff7f0e",
           "#ff7f0e",
           "#ff7f0e",
           "#ff7f0e",
           "#ff7f0e",
           "#ff7f0e",
           "#ff7f0e",
           "#ff7f0e",
           "#ff7f0e",
           "#ff7f0e",
           "#ff7f0e",
           "#ff7f0e",
           "#ff7f0e",
           "#ff7f0e",
           "#ff7f0e",
           "#ff7f0e",
           "#ff7f0e",
           "#ff7f0e",
           "#ff7f0e",
           "#ff7f0e",
           "#ff7f0e"
          ]
         },
         "name": "Scale Error",
         "showlegend": true,
         "type": "bar",
         "x": {
          "bdata": "AAECAwQFBgcICQoLDA0ODxAREhMUFRYXGBkaGxwdHh8gISIjJCUmJygpKissLS4vMDEyMzQ1Njc4OTo7PD0+P0BBQkNERUZHSElKS0xNTk9QUVJTVFVWV1hZWls=",
          "dtype": "i1"
         },
         "xaxis": "x",
         "y": {
          "bdata": "9Y0ZtcLm/T9pGjdVkgsGQP8kexNn3wZApo2S7o43JcByGFZJ/ewfwBVzlbImWizAWjuHniF1IcATTMe/0RYUwGAxuw+HAhPA5QHdJqC5G8CyZRKrf4EYQEn9wQKVFxBAm145GUCqJsBO9uB/phIkwJVKL9hVPifACjHEw2vkKcBFt7pF4tLgv00/5RpZXtY/pQ5oHPKoAMBbiuIhQDoPwIbJ9zWbzQTAfyawGsTyEsBhdok5J9MCwGnp6TezezzAnBEFASbgOsAT71l1ZJs8wEMywLJEGjHArVQL0CLSLsBBtHU/ABQuwDbzkWDSlS/AiauyYgiMLcDeFN1qvEwiwBv96KV9HiLAxQBUvxouJMCj/LN36nckwH/TOcSWeibAJGdEwf++H8DYkfARbYIkwG1+fFOZ/yrAfWnJN7BoJMDAd6s8UlkowLMIQiqk4SDAorGaBCUeJ8CDOXoGeNMowOuscTQBBSTAqf9xGRovI8A87K/M36kiwHBriI4+UhjA1C0h3O4SKMA888DqtM4vwNVB4t/eQjbAoQgt2iANNMD39OzRLxowwMGFB7OMczjAIXfQwbAtOsDlZBEx/6gUwEO5Cqy6xBLABXM7KKGlEMA5QR31dLIRwGP6KVdItBXAed7D59O9BsDwSlf53JoQwK6uHzrUgC3AcTxpX4T/KMC00K57IhMxwAQiqH1UNTPAozRXb/yjJEDqjXUOt5gmQJu80x4TXyhAREAq2wce+L9bnhQm/3zavzt8PxUdttU/ea8zgY051j/vPVU1rjk6wGnvwMirMzHAmOSd4DN3OMD5xA8D1LEdwHj6ZEaJ5R7AJ68JAJI0H8A+L5lG2IQkwFJfKmrfCiDA4hFkUmthAsChvlSKjoEWwKWuhVPwQg7AFd/E6D6uCsAZzvG6AGsmwHMaqJu29y/A4gtVdKiYJcDA3yTl1BYhwEKVor9FhzTA3vrx4mn7McCDB5J2VW0KwA==",
          "dtype": "f8"
         },
         "yaxis": "y"
        },
        {
         "customdata": [
          [
           "full body:undistorted_GX010077_14_237.jpg_gamma",
           "Prawn_0"
          ],
          [
           "full body:undistorted_GX010077_14_237.jpg_gamma",
           "Prawn_1"
          ],
          [
           "full body:undistorted_GX010077_14_237.jpg_gamma",
           "Prawn_2"
          ],
          [
           "full body:undistorted_GX010067_33_625.jpg_gamma",
           "Prawn_0"
          ],
          [
           "full body:undistorted_GX010067_33_625.jpg_gamma",
           "Prawn_1"
          ],
          [
           "full body:undistorted_GX010067_33_625.jpg_gamma",
           "Prawn_2"
          ],
          [
           "full body:undistorted_GX010067_33_625.jpg_gamma",
           "Prawn_3"
          ],
          [
           "full body:undistorted_GX010068_26_666.jpg_gamma",
           "Prawn_0"
          ],
          [
           "full body:undistorted_GX010068_26_666.jpg_gamma",
           "Prawn_1"
          ],
          [
           "full body:undistorted_GX010068_26_666.jpg_gamma",
           "Prawn_2"
          ],
          [
           "full body:undistorted_GX010068_27_795.jpg_gamma",
           "Prawn_0"
          ],
          [
           "full body:undistorted_GX010068_27_795.jpg_gamma",
           "Prawn_1"
          ],
          [
           "full body:undistorted_GX010069_19_191.jpg_gamma",
           "Prawn_0"
          ],
          [
           "full body:undistorted_GX010069_19_191.jpg_gamma",
           "Prawn_1"
          ],
          [
           "full body:undistorted_GX010069_19_191.jpg_gamma",
           "Prawn_2"
          ],
          [
           "full body:undistorted_GX010069_19_191.jpg_gamma",
           "Prawn_3"
          ],
          [
           "full body:undistorted_GX010071_22_444.jpg_gamma",
           "Prawn_0"
          ],
          [
           "full body:undistorted_GX010071_22_444.jpg_gamma",
           "Prawn_1"
          ],
          [
           "full body:undistorted_GX010073_42_695.jpg_gamma",
           "Prawn_1"
          ],
          [
           "full body:undistorted_GX010073_42_695.jpg_gamma",
           "Prawn_2"
          ],
          [
           "full body:undistorted_GX010073_55_1014.jpg_gamma",
           "Prawn_0"
          ],
          [
           "full body:undistorted_GX010073_55_1014.jpg_gamma",
           "Prawn_1"
          ],
          [
           "full body:undistorted_GX010073_55_1014.jpg_gamma",
           "Prawn_2"
          ],
          [
           "full body:undistorted_GX010080_157_2283.jpg_gamma",
           "Prawn_0"
          ],
          [
           "full body:undistorted_GX010080_157_2283.jpg_gamma",
           "Prawn_2"
          ],
          [
           "full body:undistorted_GX010080_157_2283.jpg_gamma",
           "Prawn_3"
          ],
          [
           "full body:undistorted_GX010080_193_2640.jpg_gamma",
           "Prawn_0"
          ],
          [
           "full body:undistorted_GX010080_193_2640.jpg_gamma",
           "Prawn_1"
          ],
          [
           "full body:undistorted_GX010080_193_2640.jpg_gamma",
           "Prawn_2"
          ],
          [
           "full body:undistorted_GX010080_193_2640.jpg_gamma",
           "Prawn_3"
          ],
          [
           "full body:undistorted_GX010080_193_2640.jpg_gamma",
           "Prawn_4"
          ],
          [
           "full body:undistorted_GX010080_212_2954.jpg_gamma",
           "Prawn_0"
          ],
          [
           "full body:undistorted_GX010080_212_2954.jpg_gamma",
           "Prawn_1"
          ],
          [
           "full body:undistorted_GX010080_212_2954.jpg_gamma",
           "Prawn_2"
          ],
          [
           "full body:undistorted_GX010080_237_3366.jpg_gamma",
           "Prawn_0"
          ],
          [
           "full body:undistorted_GX010080_237_3366.jpg_gamma",
           "Prawn_1"
          ],
          [
           "full body:undistorted_GX010080_237_3366.jpg_gamma",
           "Prawn_2"
          ],
          [
           "full body:undistorted_GX010080_237_3366.jpg_gamma",
           "Prawn_3"
          ],
          [
           "full body:undistorted_GX010080_237_3366.jpg_gamma",
           "Prawn_4"
          ],
          [
           "full body:undistorted_GX010080_238_3392.jpg_gamma",
           "Prawn_0"
          ],
          [
           "full body:undistorted_GX010080_238_3392.jpg_gamma",
           "Prawn_1"
          ],
          [
           "full body:undistorted_GX010080_238_3392.jpg_gamma",
           "Prawn_2"
          ],
          [
           "full body:undistorted_GX010080_238_3392.jpg_gamma",
           "Prawn_3"
          ],
          [
           "full body:undistorted_GX010082_8_59.jpg_gamma",
           "Prawn_1"
          ],
          [
           "full body:undistorted_GX010082_8_59.jpg_gamma",
           "Prawn_2"
          ],
          [
           "full body:undistorted_GX010082_8_59.jpg_gamma",
           "Prawn_3"
          ],
          [
           "full body:undistorted_GX010082_8_59.jpg_gamma",
           "Prawn_4"
          ],
          [
           "full body:undistorted_GX010082_53_796.jpg_gamma",
           "Prawn_0"
          ],
          [
           "full body:undistorted_GX010082_53_796.jpg_gamma",
           "Prawn_1"
          ],
          [
           "full body:undistorted_GX010082_65_1070.jpg_gamma",
           "Prawn_0"
          ],
          [
           "full body:undistorted_GX010082_65_1070.jpg_gamma",
           "Prawn_1"
          ],
          [
           "full body:undistorted_GX010082_65_1070.jpg_gamma",
           "Prawn_2"
          ],
          [
           "full body:undistorted_GX010082_236_3137.jpg_gamma",
           "Prawn_0"
          ],
          [
           "full body:undistorted_GX010082_236_3137.jpg_gamma",
           "Prawn_1"
          ],
          [
           "full body:undistorted_GX010082_236_3137.jpg_gamma",
           "Prawn_2"
          ],
          [
           "full body:undistorted_GX010084_30_344.jpg_gamma",
           "Prawn_0"
          ],
          [
           "full body:undistorted_GX010084_30_344.jpg_gamma",
           "Prawn_1"
          ],
          [
           "full body:undistorted_GX010084_30_344.jpg_gamma",
           "Prawn_2"
          ],
          [
           "full body:undistorted_GX010084_30_344.jpg_gamma",
           "Prawn_3"
          ],
          [
           "full body:undistorted_GX010084_130_1748.jpg_gamma",
           "Prawn_0"
          ],
          [
           "full body:undistorted_GX010084_130_1748.jpg_gamma",
           "Prawn_1"
          ],
          [
           "full body:undistorted_GX010084_130_1748.jpg_gamma",
           "Prawn_2"
          ],
          [
           "full body:undistorted_GX010085_261_3610.jpg_gamma",
           "Prawn_0"
          ],
          [
           "full body:undistorted_GX010085_261_3610.jpg_gamma",
           "Prawn_1"
          ],
          [
           "full body:undistorted_GX010088_209_2904.jpg_gamma",
           "Prawn_0"
          ],
          [
           "full body:undistorted_GX010088_209_2904.jpg_gamma",
           "Prawn_1"
          ],
          [
           "full body:undistorted_GX010088_262_3712.jpg_gamma",
           "Prawn_0"
          ],
          [
           "full body:undistorted_GX010088_262_3712.jpg_gamma",
           "Prawn_1"
          ],
          [
           "full body:undistorted_GX010088_262_3712.jpg_gamma",
           "Prawn_2"
          ],
          [
           "full body:undistorted_GX010088_327_4364.jpg_gamma",
           "Prawn_0"
          ],
          [
           "full body:undistorted_GX010088_327_4364.jpg_gamma",
           "Prawn_1"
          ],
          [
           "full body:undistorted_GX010088_327_4364.jpg_gamma",
           "Prawn_2"
          ],
          [
           "full body:undistorted_GX010088_327_4364.jpg_gamma",
           "Prawn_3"
          ],
          [
           "full body:undistorted_GX010090_132_1852.jpg_gamma",
           "Prawn_0"
          ],
          [
           "full body:undistorted_GX010094_9_129.jpg_gamma",
           "Prawn_0"
          ],
          [
           "full body:undistorted_GX010094_9_129.jpg_gamma",
           "Prawn_1"
          ],
          [
           "full body:undistorted_GX010094_24_430.jpg_gamma",
           "Prawn_0"
          ],
          [
           "full body:undistorted_GX010094_93_1258.jpg_gamma",
           "Prawn_0"
          ],
          [
           "full body:undistorted_GX010094_163_2312.jpg_gamma",
           "Prawn_0"
          ],
          [
           "full body:undistorted_GX010097_32_528.jpg_gamma",
           "Prawn_0"
          ],
          [
           "full body:undistorted_GX010097_32_528.jpg_gamma",
           "Prawn_1"
          ],
          [
           "full body:undistorted_GX010097_60_1080.jpg_gamma",
           "Prawn_0"
          ],
          [
           "full body:undistorted_GX010097_60_1080.jpg_gamma",
           "Prawn_1"
          ],
          [
           "full body:undistorted_GX010097_60_1080.jpg_gamma",
           "Prawn_2"
          ],
          [
           "full body:undistorted_GX010097_60_1080.jpg_gamma",
           "Prawn_3"
          ],
          [
           "full body:undistorted_GX010097_105_1651.jpg_gamma",
           "Prawn_0"
          ],
          [
           "full body:undistorted_GX010097_105_1651.jpg_gamma",
           "Prawn_1"
          ],
          [
           "full body:undistorted_GX010097_105_1651.jpg_gamma",
           "Prawn_2"
          ],
          [
           "full body:undistorted_GX010097_105_1651.jpg_gamma",
           "Prawn_3"
          ],
          [
           "full body:undistorted_GX010097_124_1870.jpg_gamma",
           "Prawn_0"
          ],
          [
           "full body:undistorted_GX010097_124_1870.jpg_gamma",
           "Prawn_1"
          ],
          [
           "full body:undistorted_GX010101_12_173.jpg_gamma",
           "Prawn_0"
          ]
         ],
         "hovertemplate": "Image: %{customdata[0]}<br>Prawn ID: %{customdata[1]}<br>Total Error: %{y:.2f}mm<extra></extra>",
         "marker": {
          "color": "purple",
          "size": 10,
          "symbol": "x"
         },
         "mode": "markers",
         "name": "MAPE Outlier",
         "showlegend": true,
         "type": "scatter",
         "x": [],
         "xaxis": "x",
         "y": [],
         "yaxis": "y"
        },
        {
         "customdata": [
          [
           "full body:undistorted_GX010089_11_236.jpg_gamma",
           "Prawn_0"
          ],
          [
           "full body:undistorted_GX010089_11_236.jpg_gamma",
           "Prawn_1"
          ],
          [
           "full body:undistorted_GX010089_11_236.jpg_gamma",
           "Prawn_2"
          ],
          [
           "full body:undistorted_GX010091_5_149.jpg_gamma",
           "Prawn_0"
          ],
          [
           "full body:undistorted_GX010091_5_149.jpg_gamma",
           "Prawn_1"
          ],
          [
           "full body:undistorted_GX010102_9_165.jpg_gamma",
           "Prawn_1"
          ],
          [
           "full body:undistorted_GX010102_9_165.jpg_gamma",
           "Prawn_2"
          ],
          [
           "full body:undistorted_GX010102_9_165.jpg_gamma",
           "Prawn_3"
          ],
          [
           "full body:undistorted_GX010102_9_165.jpg_gamma",
           "Prawn_4"
          ],
          [
           "full body:undistorted_GX010102_9_165.jpg_gamma",
           "Prawn_5"
          ],
          [
           "full body:undistorted_GX010102_50_1396.jpg_gamma",
           "Prawn_0"
          ],
          [
           "full body:undistorted_GX010105_28_816.jpg_gamma",
           "Prawn_0"
          ],
          [
           "full body:undistorted_GX010105_28_816.jpg_gamma",
           "Prawn_1"
          ]
         ],
         "hovertemplate": "Image: %{customdata[0]}<br>Prawn ID: %{customdata[1]}<br>Pixel Error: %{y:.2f}mm<extra></extra>",
         "marker": {
          "color": [
           "#1f77b4",
           "#1f77b4",
           "#1f77b4",
           "red",
           "#1f77b4",
           "#1f77b4",
           "red",
           "red",
           "#1f77b4",
           "#1f77b4",
           "#1f77b4",
           "#1f77b4",
           "red"
          ]
         },
         "name": "",
         "showlegend": false,
         "type": "bar",
         "x": {
          "bdata": "AAECAwQFBgcICQoLDA==",
          "dtype": "i1"
         },
         "xaxis": "x2",
         "y": {
          "bdata": "r/Tji1lBI8C3nbGBhAMcwHiNS8jS1RLAVv/osANMM0BV1arv5AUHQOnFMK2d2xJAZst0a4ATOkBJsnO/GXpDQLur74l9+K4/E2gN/wVuAsCe3LU1L9QjQCwdv/n7CgPABxUEMVMlAsA=",
          "dtype": "f8"
         },
         "yaxis": "y2"
        },
        {
         "customdata": [
          [
           "full body:undistorted_GX010089_11_236.jpg_gamma",
           "Prawn_0"
          ],
          [
           "full body:undistorted_GX010089_11_236.jpg_gamma",
           "Prawn_1"
          ],
          [
           "full body:undistorted_GX010089_11_236.jpg_gamma",
           "Prawn_2"
          ],
          [
           "full body:undistorted_GX010091_5_149.jpg_gamma",
           "Prawn_0"
          ],
          [
           "full body:undistorted_GX010091_5_149.jpg_gamma",
           "Prawn_1"
          ],
          [
           "full body:undistorted_GX010102_9_165.jpg_gamma",
           "Prawn_1"
          ],
          [
           "full body:undistorted_GX010102_9_165.jpg_gamma",
           "Prawn_2"
          ],
          [
           "full body:undistorted_GX010102_9_165.jpg_gamma",
           "Prawn_3"
          ],
          [
           "full body:undistorted_GX010102_9_165.jpg_gamma",
           "Prawn_4"
          ],
          [
           "full body:undistorted_GX010102_9_165.jpg_gamma",
           "Prawn_5"
          ],
          [
           "full body:undistorted_GX010102_50_1396.jpg_gamma",
           "Prawn_0"
          ],
          [
           "full body:undistorted_GX010105_28_816.jpg_gamma",
           "Prawn_0"
          ],
          [
           "full body:undistorted_GX010105_28_816.jpg_gamma",
           "Prawn_1"
          ]
         ],
         "hovertemplate": "Image: %{customdata[0]}<br>Prawn ID: %{customdata[1]}<br>Scale Error: %{y:.2f}mm<extra></extra>",
         "marker": {
          "color": [
           "#ff7f0e",
           "#ff7f0e",
           "#ff7f0e",
           "red",
           "#ff7f0e",
           "#ff7f0e",
           "red",
           "red",
           "#ff7f0e",
           "#ff7f0e",
           "#ff7f0e",
           "#ff7f0e",
           "red"
          ]
         },
         "name": "",
         "showlegend": false,
         "type": "bar",
         "x": {
          "bdata": "AAECAwQFBgcICQoLDA==",
          "dtype": "i1"
         },
         "xaxis": "x2",
         "y": {
          "bdata": "i3rvUExIJsBZadtGcPYjwA1zEDnhTSjA+PmbxUUyKsBUZbr3c/EswMJnHzYeri7AJux8pozpHcDPxLBNCAMjwAoesMr3nCbAIvnfhb6gJsCpB9wmNDQ7wMBecS+izSzAkIoXRC+BOMA=",
          "dtype": "f8"
         },
         "yaxis": "y2"
        },
        {
         "customdata": [
          [
           "full body:undistorted_GX010089_11_236.jpg_gamma",
           "Prawn_0"
          ],
          [
           "full body:undistorted_GX010089_11_236.jpg_gamma",
           "Prawn_1"
          ],
          [
           "full body:undistorted_GX010089_11_236.jpg_gamma",
           "Prawn_2"
          ],
          [
           "full body:undistorted_GX010091_5_149.jpg_gamma",
           "Prawn_0"
          ],
          [
           "full body:undistorted_GX010091_5_149.jpg_gamma",
           "Prawn_1"
          ],
          [
           "full body:undistorted_GX010102_9_165.jpg_gamma",
           "Prawn_1"
          ],
          [
           "full body:undistorted_GX010102_9_165.jpg_gamma",
           "Prawn_2"
          ],
          [
           "full body:undistorted_GX010102_9_165.jpg_gamma",
           "Prawn_3"
          ],
          [
           "full body:undistorted_GX010102_9_165.jpg_gamma",
           "Prawn_4"
          ],
          [
           "full body:undistorted_GX010102_9_165.jpg_gamma",
           "Prawn_5"
          ],
          [
           "full body:undistorted_GX010102_50_1396.jpg_gamma",
           "Prawn_0"
          ],
          [
           "full body:undistorted_GX010105_28_816.jpg_gamma",
           "Prawn_0"
          ],
          [
           "full body:undistorted_GX010105_28_816.jpg_gamma",
           "Prawn_1"
          ]
         ],
         "hovertemplate": "Image: %{customdata[0]}<br>Prawn ID: %{customdata[1]}<br>Total Error: %{y:.2f}mm<extra></extra>",
         "marker": {
          "color": "purple",
          "size": 10,
          "symbol": "x"
         },
         "mode": "markers",
         "name": "",
         "showlegend": false,
         "type": "scatter",
         "x": {
          "bdata": "Bw==",
          "dtype": "i1"
         },
         "xaxis": "x2",
         "y": {
          "bdata": "KgIPWK9yPUA=",
          "dtype": "f8"
         },
         "yaxis": "y2"
        },
        {
         "customdata": [
          [
           "full body:undistorted_GX010152_36_378.jpg_gamma",
           "Prawn_0"
          ],
          [
           "full body:undistorted_GX010152_36_378.jpg_gamma",
           "Prawn_1"
          ],
          [
           "full body:undistorted_GX010157_160_2259",
           "Prawn_0"
          ],
          [
           "full body:undistorted_GX010157_174_2582.jpg_gamma",
           "Prawn_0"
          ],
          [
           "full body:undistorted_GX010157_177_2665.jpg_gamma",
           "Prawn_0"
          ],
          [
           "full body:undistorted_GX010161_54_676.jpg_gamma.jpg_gamma",
           "Prawn_0"
          ],
          [
           "full body:undistorted_GX010162_72_927.jpg_gamma.jpg_gamma",
           "Prawn_0"
          ],
          [
           "full body:undistorted_GX010174_62_790.jpg_gamma",
           "Prawn_0"
          ],
          [
           "full body:undistorted_GX010175_266_3372.jpg_gamma.jpg_gamma",
           "Prawn_0"
          ],
          [
           "full body:undistorted_GX010177_232_3047",
           "Prawn_0"
          ],
          [
           "full body:undistorted_GX010178_172_3604.jpg_gamma",
           "Prawn_0"
          ],
          [
           "full body:undistorted_GX010183_37_685.jpg_gamma",
           "Prawn_0"
          ],
          [
           "full body:undistorted_GX010183_80_1633.jpg_gamma",
           "Prawn_0"
          ],
          [
           "full body:undistorted_GX010183_128_2852.jpg_gamma",
           "Prawn_0"
          ]
         ],
         "hovertemplate": "Image: %{customdata[0]}<br>Prawn ID: %{customdata[1]}<br>Pixel Error: %{y:.2f}mm<extra></extra>",
         "marker": {
          "color": [
           "#1f77b4",
           "#1f77b4",
           "#1f77b4",
           "#1f77b4",
           "#1f77b4",
           "red",
           "#1f77b4",
           "red",
           "#1f77b4",
           "#1f77b4",
           "#1f77b4",
           "#1f77b4",
           "#1f77b4",
           "#1f77b4"
          ]
         },
         "name": "",
         "showlegend": false,
         "type": "bar",
         "x": {
          "bdata": "AAECAwQFBgcICQoLDA0=",
          "dtype": "i1"
         },
         "xaxis": "x3",
         "y": {
          "bdata": "ZfFRRwJsH8AAzaDC/Su6P+MXVlABO+8/Et4jbJd6IUAcPM9XmgcXQFl/xs7VFjXAGonyu+P5HEAxrMUDEeQvwNq1b04lo9I/Iy9c08nuOkDLDRakxRwaQG2XEZdnYQ1Ap+QF5uZd9T8+j2XC+BcMQA==",
          "dtype": "f8"
         },
         "yaxis": "y3"
        },
        {
         "customdata": [
          [
           "full body:undistorted_GX010152_36_378.jpg_gamma",
           "Prawn_0"
          ],
          [
           "full body:undistorted_GX010152_36_378.jpg_gamma",
           "Prawn_1"
          ],
          [
           "full body:undistorted_GX010157_160_2259",
           "Prawn_0"
          ],
          [
           "full body:undistorted_GX010157_174_2582.jpg_gamma",
           "Prawn_0"
          ],
          [
           "full body:undistorted_GX010157_177_2665.jpg_gamma",
           "Prawn_0"
          ],
          [
           "full body:undistorted_GX010161_54_676.jpg_gamma.jpg_gamma",
           "Prawn_0"
          ],
          [
           "full body:undistorted_GX010162_72_927.jpg_gamma.jpg_gamma",
           "Prawn_0"
          ],
          [
           "full body:undistorted_GX010174_62_790.jpg_gamma",
           "Prawn_0"
          ],
          [
           "full body:undistorted_GX010175_266_3372.jpg_gamma.jpg_gamma",
           "Prawn_0"
          ],
          [
           "full body:undistorted_GX010177_232_3047",
           "Prawn_0"
          ],
          [
           "full body:undistorted_GX010178_172_3604.jpg_gamma",
           "Prawn_0"
          ],
          [
           "full body:undistorted_GX010183_37_685.jpg_gamma",
           "Prawn_0"
          ],
          [
           "full body:undistorted_GX010183_80_1633.jpg_gamma",
           "Prawn_0"
          ],
          [
           "full body:undistorted_GX010183_128_2852.jpg_gamma",
           "Prawn_0"
          ]
         ],
         "hovertemplate": "Image: %{customdata[0]}<br>Prawn ID: %{customdata[1]}<br>Scale Error: %{y:.2f}mm<extra></extra>",
         "marker": {
          "color": [
           "#ff7f0e",
           "#ff7f0e",
           "#ff7f0e",
           "#ff7f0e",
           "#ff7f0e",
           "red",
           "#ff7f0e",
           "red",
           "#ff7f0e",
           "#ff7f0e",
           "#ff7f0e",
           "#ff7f0e",
           "#ff7f0e",
           "#ff7f0e"
          ]
         },
         "name": "",
         "showlegend": false,
         "type": "bar",
         "x": {
          "bdata": "AAECAwQFBgcICQoLDA0=",
          "dtype": "i1"
         },
         "xaxis": "x3",
         "y": {
          "bdata": "+LkTkOcoK0BqSOr+4MswQPEAwMyN/SVA77HU73HBDkBjF2bIF7kQQJxlWqzOfhfA5zFUwQt4KUBHEZyx5q0DQG3+15Lzug1A3rSRzwZ3AMCYAadwWUMsQGWSaxBMpRNAX92JtVa0GMC5bZSF+FkNQA==",
          "dtype": "f8"
         },
         "yaxis": "y3"
        },
        {
         "customdata": [
          [
           "full body:undistorted_GX010152_36_378.jpg_gamma",
           "Prawn_0"
          ],
          [
           "full body:undistorted_GX010152_36_378.jpg_gamma",
           "Prawn_1"
          ],
          [
           "full body:undistorted_GX010157_160_2259",
           "Prawn_0"
          ],
          [
           "full body:undistorted_GX010157_174_2582.jpg_gamma",
           "Prawn_0"
          ],
          [
           "full body:undistorted_GX010157_177_2665.jpg_gamma",
           "Prawn_0"
          ],
          [
           "full body:undistorted_GX010161_54_676.jpg_gamma.jpg_gamma",
           "Prawn_0"
          ],
          [
           "full body:undistorted_GX010162_72_927.jpg_gamma.jpg_gamma",
           "Prawn_0"
          ],
          [
           "full body:undistorted_GX010174_62_790.jpg_gamma",
           "Prawn_0"
          ],
          [
           "full body:undistorted_GX010175_266_3372.jpg_gamma.jpg_gamma",
           "Prawn_0"
          ],
          [
           "full body:undistorted_GX010177_232_3047",
           "Prawn_0"
          ],
          [
           "full body:undistorted_GX010178_172_3604.jpg_gamma",
           "Prawn_0"
          ],
          [
           "full body:undistorted_GX010183_37_685.jpg_gamma",
           "Prawn_0"
          ],
          [
           "full body:undistorted_GX010183_80_1633.jpg_gamma",
           "Prawn_0"
          ],
          [
           "full body:undistorted_GX010183_128_2852.jpg_gamma",
           "Prawn_0"
          ]
         ],
         "hovertemplate": "Image: %{customdata[0]}<br>Prawn ID: %{customdata[1]}<br>Total Error: %{y:.2f}mm<extra></extra>",
         "marker": {
          "color": "purple",
          "size": 10,
          "symbol": "x"
         },
         "mode": "markers",
         "name": "",
         "showlegend": false,
         "type": "scatter",
         "x": {
          "bdata": "BQ==",
          "dtype": "i1"
         },
         "xaxis": "x3",
         "y": {
          "bdata": "wBjdeYn2OsA=",
          "dtype": "f8"
         },
         "yaxis": "y3"
        }
       ],
       "layout": {
        "annotations": [
         {
          "font": {
           "size": 16
          },
          "showarrow": false,
          "text": "Error Components - circle_female",
          "x": 0.14444444444444446,
          "xanchor": "center",
          "xref": "paper",
          "y": 1,
          "yanchor": "bottom",
          "yref": "paper"
         },
         {
          "font": {
           "size": 16
          },
          "showarrow": false,
          "text": "Error Components - circle_male",
          "x": 0.5,
          "xanchor": "center",
          "xref": "paper",
          "y": 1,
          "yanchor": "bottom",
          "yref": "paper"
         },
         {
          "font": {
           "size": 16
          },
          "showarrow": false,
          "text": "Error Components - square",
          "x": 0.8555555555555556,
          "xanchor": "center",
          "xref": "paper",
          "y": 1,
          "yanchor": "bottom",
          "yref": "paper"
         }
        ],
        "barmode": "relative",
        "height": 500,
        "legend": {
         "orientation": "h",
         "x": 1,
         "xanchor": "right",
         "y": 1.02,
         "yanchor": "bottom"
        },
        "showlegend": true,
        "template": {
         "data": {
          "bar": [
           {
            "error_x": {
             "color": "#2a3f5f"
            },
            "error_y": {
             "color": "#2a3f5f"
            },
            "marker": {
             "line": {
              "color": "#E5ECF6",
              "width": 0.5
             },
             "pattern": {
              "fillmode": "overlay",
              "size": 10,
              "solidity": 0.2
             }
            },
            "type": "bar"
           }
          ],
          "barpolar": [
           {
            "marker": {
             "line": {
              "color": "#E5ECF6",
              "width": 0.5
             },
             "pattern": {
              "fillmode": "overlay",
              "size": 10,
              "solidity": 0.2
             }
            },
            "type": "barpolar"
           }
          ],
          "carpet": [
           {
            "aaxis": {
             "endlinecolor": "#2a3f5f",
             "gridcolor": "white",
             "linecolor": "white",
             "minorgridcolor": "white",
             "startlinecolor": "#2a3f5f"
            },
            "baxis": {
             "endlinecolor": "#2a3f5f",
             "gridcolor": "white",
             "linecolor": "white",
             "minorgridcolor": "white",
             "startlinecolor": "#2a3f5f"
            },
            "type": "carpet"
           }
          ],
          "choropleth": [
           {
            "colorbar": {
             "outlinewidth": 0,
             "ticks": ""
            },
            "type": "choropleth"
           }
          ],
          "contour": [
           {
            "colorbar": {
             "outlinewidth": 0,
             "ticks": ""
            },
            "colorscale": [
             [
              0,
              "#0d0887"
             ],
             [
              0.1111111111111111,
              "#46039f"
             ],
             [
              0.2222222222222222,
              "#7201a8"
             ],
             [
              0.3333333333333333,
              "#9c179e"
             ],
             [
              0.4444444444444444,
              "#bd3786"
             ],
             [
              0.5555555555555556,
              "#d8576b"
             ],
             [
              0.6666666666666666,
              "#ed7953"
             ],
             [
              0.7777777777777778,
              "#fb9f3a"
             ],
             [
              0.8888888888888888,
              "#fdca26"
             ],
             [
              1,
              "#f0f921"
             ]
            ],
            "type": "contour"
           }
          ],
          "contourcarpet": [
           {
            "colorbar": {
             "outlinewidth": 0,
             "ticks": ""
            },
            "type": "contourcarpet"
           }
          ],
          "heatmap": [
           {
            "colorbar": {
             "outlinewidth": 0,
             "ticks": ""
            },
            "colorscale": [
             [
              0,
              "#0d0887"
             ],
             [
              0.1111111111111111,
              "#46039f"
             ],
             [
              0.2222222222222222,
              "#7201a8"
             ],
             [
              0.3333333333333333,
              "#9c179e"
             ],
             [
              0.4444444444444444,
              "#bd3786"
             ],
             [
              0.5555555555555556,
              "#d8576b"
             ],
             [
              0.6666666666666666,
              "#ed7953"
             ],
             [
              0.7777777777777778,
              "#fb9f3a"
             ],
             [
              0.8888888888888888,
              "#fdca26"
             ],
             [
              1,
              "#f0f921"
             ]
            ],
            "type": "heatmap"
           }
          ],
          "histogram": [
           {
            "marker": {
             "pattern": {
              "fillmode": "overlay",
              "size": 10,
              "solidity": 0.2
             }
            },
            "type": "histogram"
           }
          ],
          "histogram2d": [
           {
            "colorbar": {
             "outlinewidth": 0,
             "ticks": ""
            },
            "colorscale": [
             [
              0,
              "#0d0887"
             ],
             [
              0.1111111111111111,
              "#46039f"
             ],
             [
              0.2222222222222222,
              "#7201a8"
             ],
             [
              0.3333333333333333,
              "#9c179e"
             ],
             [
              0.4444444444444444,
              "#bd3786"
             ],
             [
              0.5555555555555556,
              "#d8576b"
             ],
             [
              0.6666666666666666,
              "#ed7953"
             ],
             [
              0.7777777777777778,
              "#fb9f3a"
             ],
             [
              0.8888888888888888,
              "#fdca26"
             ],
             [
              1,
              "#f0f921"
             ]
            ],
            "type": "histogram2d"
           }
          ],
          "histogram2dcontour": [
           {
            "colorbar": {
             "outlinewidth": 0,
             "ticks": ""
            },
            "colorscale": [
             [
              0,
              "#0d0887"
             ],
             [
              0.1111111111111111,
              "#46039f"
             ],
             [
              0.2222222222222222,
              "#7201a8"
             ],
             [
              0.3333333333333333,
              "#9c179e"
             ],
             [
              0.4444444444444444,
              "#bd3786"
             ],
             [
              0.5555555555555556,
              "#d8576b"
             ],
             [
              0.6666666666666666,
              "#ed7953"
             ],
             [
              0.7777777777777778,
              "#fb9f3a"
             ],
             [
              0.8888888888888888,
              "#fdca26"
             ],
             [
              1,
              "#f0f921"
             ]
            ],
            "type": "histogram2dcontour"
           }
          ],
          "mesh3d": [
           {
            "colorbar": {
             "outlinewidth": 0,
             "ticks": ""
            },
            "type": "mesh3d"
           }
          ],
          "parcoords": [
           {
            "line": {
             "colorbar": {
              "outlinewidth": 0,
              "ticks": ""
             }
            },
            "type": "parcoords"
           }
          ],
          "pie": [
           {
            "automargin": true,
            "type": "pie"
           }
          ],
          "scatter": [
           {
            "fillpattern": {
             "fillmode": "overlay",
             "size": 10,
             "solidity": 0.2
            },
            "type": "scatter"
           }
          ],
          "scatter3d": [
           {
            "line": {
             "colorbar": {
              "outlinewidth": 0,
              "ticks": ""
             }
            },
            "marker": {
             "colorbar": {
              "outlinewidth": 0,
              "ticks": ""
             }
            },
            "type": "scatter3d"
           }
          ],
          "scattercarpet": [
           {
            "marker": {
             "colorbar": {
              "outlinewidth": 0,
              "ticks": ""
             }
            },
            "type": "scattercarpet"
           }
          ],
          "scattergeo": [
           {
            "marker": {
             "colorbar": {
              "outlinewidth": 0,
              "ticks": ""
             }
            },
            "type": "scattergeo"
           }
          ],
          "scattergl": [
           {
            "marker": {
             "colorbar": {
              "outlinewidth": 0,
              "ticks": ""
             }
            },
            "type": "scattergl"
           }
          ],
          "scattermap": [
           {
            "marker": {
             "colorbar": {
              "outlinewidth": 0,
              "ticks": ""
             }
            },
            "type": "scattermap"
           }
          ],
          "scattermapbox": [
           {
            "marker": {
             "colorbar": {
              "outlinewidth": 0,
              "ticks": ""
             }
            },
            "type": "scattermapbox"
           }
          ],
          "scatterpolar": [
           {
            "marker": {
             "colorbar": {
              "outlinewidth": 0,
              "ticks": ""
             }
            },
            "type": "scatterpolar"
           }
          ],
          "scatterpolargl": [
           {
            "marker": {
             "colorbar": {
              "outlinewidth": 0,
              "ticks": ""
             }
            },
            "type": "scatterpolargl"
           }
          ],
          "scatterternary": [
           {
            "marker": {
             "colorbar": {
              "outlinewidth": 0,
              "ticks": ""
             }
            },
            "type": "scatterternary"
           }
          ],
          "surface": [
           {
            "colorbar": {
             "outlinewidth": 0,
             "ticks": ""
            },
            "colorscale": [
             [
              0,
              "#0d0887"
             ],
             [
              0.1111111111111111,
              "#46039f"
             ],
             [
              0.2222222222222222,
              "#7201a8"
             ],
             [
              0.3333333333333333,
              "#9c179e"
             ],
             [
              0.4444444444444444,
              "#bd3786"
             ],
             [
              0.5555555555555556,
              "#d8576b"
             ],
             [
              0.6666666666666666,
              "#ed7953"
             ],
             [
              0.7777777777777778,
              "#fb9f3a"
             ],
             [
              0.8888888888888888,
              "#fdca26"
             ],
             [
              1,
              "#f0f921"
             ]
            ],
            "type": "surface"
           }
          ],
          "table": [
           {
            "cells": {
             "fill": {
              "color": "#EBF0F8"
             },
             "line": {
              "color": "white"
             }
            },
            "header": {
             "fill": {
              "color": "#C8D4E3"
             },
             "line": {
              "color": "white"
             }
            },
            "type": "table"
           }
          ]
         },
         "layout": {
          "annotationdefaults": {
           "arrowcolor": "#2a3f5f",
           "arrowhead": 0,
           "arrowwidth": 1
          },
          "autotypenumbers": "strict",
          "coloraxis": {
           "colorbar": {
            "outlinewidth": 0,
            "ticks": ""
           }
          },
          "colorscale": {
           "diverging": [
            [
             0,
             "#8e0152"
            ],
            [
             0.1,
             "#c51b7d"
            ],
            [
             0.2,
             "#de77ae"
            ],
            [
             0.3,
             "#f1b6da"
            ],
            [
             0.4,
             "#fde0ef"
            ],
            [
             0.5,
             "#f7f7f7"
            ],
            [
             0.6,
             "#e6f5d0"
            ],
            [
             0.7,
             "#b8e186"
            ],
            [
             0.8,
             "#7fbc41"
            ],
            [
             0.9,
             "#4d9221"
            ],
            [
             1,
             "#276419"
            ]
           ],
           "sequential": [
            [
             0,
             "#0d0887"
            ],
            [
             0.1111111111111111,
             "#46039f"
            ],
            [
             0.2222222222222222,
             "#7201a8"
            ],
            [
             0.3333333333333333,
             "#9c179e"
            ],
            [
             0.4444444444444444,
             "#bd3786"
            ],
            [
             0.5555555555555556,
             "#d8576b"
            ],
            [
             0.6666666666666666,
             "#ed7953"
            ],
            [
             0.7777777777777778,
             "#fb9f3a"
            ],
            [
             0.8888888888888888,
             "#fdca26"
            ],
            [
             1,
             "#f0f921"
            ]
           ],
           "sequentialminus": [
            [
             0,
             "#0d0887"
            ],
            [
             0.1111111111111111,
             "#46039f"
            ],
            [
             0.2222222222222222,
             "#7201a8"
            ],
            [
             0.3333333333333333,
             "#9c179e"
            ],
            [
             0.4444444444444444,
             "#bd3786"
            ],
            [
             0.5555555555555556,
             "#d8576b"
            ],
            [
             0.6666666666666666,
             "#ed7953"
            ],
            [
             0.7777777777777778,
             "#fb9f3a"
            ],
            [
             0.8888888888888888,
             "#fdca26"
            ],
            [
             1,
             "#f0f921"
            ]
           ]
          },
          "colorway": [
           "#636efa",
           "#EF553B",
           "#00cc96",
           "#ab63fa",
           "#FFA15A",
           "#19d3f3",
           "#FF6692",
           "#B6E880",
           "#FF97FF",
           "#FECB52"
          ],
          "font": {
           "color": "#2a3f5f"
          },
          "geo": {
           "bgcolor": "white",
           "lakecolor": "white",
           "landcolor": "#E5ECF6",
           "showlakes": true,
           "showland": true,
           "subunitcolor": "white"
          },
          "hoverlabel": {
           "align": "left"
          },
          "hovermode": "closest",
          "mapbox": {
           "style": "light"
          },
          "paper_bgcolor": "white",
          "plot_bgcolor": "#E5ECF6",
          "polar": {
           "angularaxis": {
            "gridcolor": "white",
            "linecolor": "white",
            "ticks": ""
           },
           "bgcolor": "#E5ECF6",
           "radialaxis": {
            "gridcolor": "white",
            "linecolor": "white",
            "ticks": ""
           }
          },
          "scene": {
           "xaxis": {
            "backgroundcolor": "#E5ECF6",
            "gridcolor": "white",
            "gridwidth": 2,
            "linecolor": "white",
            "showbackground": true,
            "ticks": "",
            "zerolinecolor": "white"
           },
           "yaxis": {
            "backgroundcolor": "#E5ECF6",
            "gridcolor": "white",
            "gridwidth": 2,
            "linecolor": "white",
            "showbackground": true,
            "ticks": "",
            "zerolinecolor": "white"
           },
           "zaxis": {
            "backgroundcolor": "#E5ECF6",
            "gridcolor": "white",
            "gridwidth": 2,
            "linecolor": "white",
            "showbackground": true,
            "ticks": "",
            "zerolinecolor": "white"
           }
          },
          "shapedefaults": {
           "line": {
            "color": "#2a3f5f"
           }
          },
          "ternary": {
           "aaxis": {
            "gridcolor": "white",
            "linecolor": "white",
            "ticks": ""
           },
           "baxis": {
            "gridcolor": "white",
            "linecolor": "white",
            "ticks": ""
           },
           "bgcolor": "#E5ECF6",
           "caxis": {
            "gridcolor": "white",
            "linecolor": "white",
            "ticks": ""
           }
          },
          "title": {
           "x": 0.05
          },
          "xaxis": {
           "automargin": true,
           "gridcolor": "white",
           "linecolor": "white",
           "ticks": "",
           "title": {
            "standoff": 15
           },
           "zerolinecolor": "white",
           "zerolinewidth": 2
          },
          "yaxis": {
           "automargin": true,
           "gridcolor": "white",
           "linecolor": "white",
           "ticks": "",
           "title": {
            "standoff": 15
           },
           "zerolinecolor": "white",
           "zerolinewidth": 2
          }
         }
        },
        "title": {
         "text": "Error Components Analysis by Pond Type"
        },
        "width": 1200,
        "xaxis": {
         "anchor": "y",
         "domain": [
          0,
          0.2888888888888889
         ],
         "title": {
          "text": "Measurement Index"
         }
        },
        "xaxis2": {
         "anchor": "y2",
         "domain": [
          0.35555555555555557,
          0.6444444444444445
         ],
         "title": {
          "text": "Measurement Index"
         }
        },
        "xaxis3": {
         "anchor": "y3",
         "domain": [
          0.7111111111111111,
          1
         ],
         "title": {
          "text": "Measurement Index"
         }
        },
        "yaxis": {
         "anchor": "x",
         "domain": [
          0,
          1
         ],
         "title": {
          "text": "Error (mm)"
         }
        },
        "yaxis2": {
         "anchor": "x2",
         "domain": [
          0,
          1
         ],
         "matches": "y",
         "showticklabels": false
        },
        "yaxis3": {
         "anchor": "x3",
         "domain": [
          0,
          1
         ],
         "matches": "y",
         "showticklabels": false
        }
       }
      }
     },
     "metadata": {},
     "output_type": "display_data"
    }
   ],
   "source": [
    "# Create plotly subplots for error components bar plots\n",
    "pond_types = df['Pond_Type'].unique()\n",
    "n_pond_types = len(pond_types)\n",
    "\n",
    "# Prepare data for all pond types\n",
    "pond_data = {}\n",
    "for pond_type in pond_types:\n",
    "    df_pond = df[df['Pond_Type'] == pond_type].copy()\n",
    "    df_pond = df_pond.reset_index(drop=True)\n",
    "    \n",
    "    # Calculate error components in mm\n",
    "    mm_per_px_gt = 10 / df_pond['mean_scale']\n",
    "    mm_per_px_pred = 10 / df_pond['pred_scale']\n",
    "    df_pond['pixel_error_mm'] = (df_pond['mean_pixels'] - df_pond['pred_Distance_pixels']) * mm_per_px_gt\n",
    "    df_pond['scale_error_mm'] = df_pond['mean_pixels'] * (mm_per_px_gt - mm_per_px_pred)\n",
    "    \n",
    "    # Calculate total error and identify outliers using IQR\n",
    "    df_pond['total_error_mm'] = df_pond['pixel_error_mm'] + df_pond['scale_error_mm']\n",
    "    q1_total = df_pond['total_error_mm'].quantile(0.25)\n",
    "    q3_total = df_pond['total_error_mm'].quantile(0.75)\n",
    "    iqr_total = q3_total - q1_total\n",
    "    outlier_threshold_low_total = q1_total - 1.5 * iqr_total\n",
    "    outlier_threshold_high_total = q3_total + 1.5 * iqr_total\n",
    "    df_pond['is_outlier_total'] = (df_pond['total_error_mm'] < outlier_threshold_low_total) | (df_pond['total_error_mm'] > outlier_threshold_high_total)\n",
    "    \n",
    "    # Calculate MAPE outliers using IQR\n",
    "    q1_mape = df_pond['mape_percent'].quantile(0.25)\n",
    "    q3_mape = df_pond['mape_percent'].quantile(0.75)\n",
    "    iqr_mape = q3_mape - q1_mape\n",
    "    outlier_threshold_low_mape = q1_mape - 1.5 * iqr_mape\n",
    "    outlier_threshold_high_mape = q3_mape + 1.5 * iqr_mape\n",
    "    df_pond['is_outlier_mape'] = (df_pond['mape_percent'] < outlier_threshold_low_mape) | (df_pond['mape_percent'] > outlier_threshold_high_mape)\n",
    "    \n",
    "    pond_data[pond_type] = df_pond\n",
    "\n",
    "# Create plotly subplots for error components bar plots\n",
    "fig_bar = make_subplots(\n",
    "    rows=1, cols=n_pond_types,\n",
    "    subplot_titles=[f'Error Components - {pond_type}' for pond_type in pond_types],\n",
    "    shared_yaxes=True\n",
    ")\n",
    "\n",
    "for i, pond_type in enumerate(pond_types):\n",
    "    df_pond = pond_data[pond_type]\n",
    "    \n",
    "    # Add Pixel Error bars\n",
    "    fig_bar.add_trace(\n",
    "        go.Bar(\n",
    "            name='Pixel Error' if i == 0 else '',  # Only show legend for first subplot\n",
    "            x=df_pond.index,\n",
    "            y=df_pond['pixel_error_mm'],\n",
    "            marker_color=['red' if is_outlier else '#1f77b4' for is_outlier in df_pond['is_outlier_total']],\n",
    "            showlegend=(i == 0),  # Only show legend for first subplot\n",
    "            hovertemplate=\"Image: %{customdata[0]}<br>\" +\n",
    "                         \"Prawn ID: %{customdata[1]}<br>\" +\n",
    "                         \"Pixel Error: %{y:.2f}mm<extra></extra>\",\n",
    "            customdata=list(zip(df_pond['Label'], df_pond['PrawnID']))\n",
    "        ),\n",
    "        row=1, col=i+1\n",
    "    )\n",
    "    \n",
    "    # Add Scale Error bars\n",
    "    fig_bar.add_trace(\n",
    "        go.Bar(\n",
    "            name='Scale Error' if i == 0 else '',  # Only show legend for first subplot\n",
    "            x=df_pond.index,\n",
    "            y=df_pond['scale_error_mm'],\n",
    "            marker_color=['red' if is_outlier else '#ff7f0e' for is_outlier in df_pond['is_outlier_total']],\n",
    "            showlegend=(i == 0),  # Only show legend for first subplot\n",
    "            hovertemplate=\"Image: %{customdata[0]}<br>\" +\n",
    "                         \"Prawn ID: %{customdata[1]}<br>\" +\n",
    "                         \"Scale Error: %{y:.2f}mm<extra></extra>\",\n",
    "            customdata=list(zip(df_pond['Label'], df_pond['PrawnID']))\n",
    "        ),\n",
    "        row=1, col=i+1\n",
    "    )\n",
    "    \n",
    "    # Highlight MAPE outliers\n",
    "    fig_bar.add_trace(\n",
    "        go.Scatter(\n",
    "            x=df_pond.index[df_pond['is_outlier_mape']],\n",
    "            y=df_pond['total_error_mm'][df_pond['is_outlier_mape']],\n",
    "            mode='markers',\n",
    "            marker=dict(color='purple', size=10, symbol='x'),\n",
    "            name='MAPE Outlier' if i == 0 else '',\n",
    "            showlegend=(i == 0),\n",
    "            hovertemplate=\"Image: %{customdata[0]}<br>\" +\n",
    "                         \"Prawn ID: %{customdata[1]}<br>\" +\n",
    "                         \"Total Error: %{y:.2f}mm<extra></extra>\",\n",
    "            customdata=list(zip(df_pond['Label'], df_pond['PrawnID']))\n",
    "        ),\n",
    "        row=1, col=i+1\n",
    "    )\n",
    "\n",
    "# Update layout\n",
    "fig_bar.update_layout(\n",
    "    title='Error Components Analysis by Pond Type',\n",
    "    barmode='relative',  # Shows stacked bars\n",
    "    height=500,\n",
    "    width=1200,\n",
    "    showlegend=True,\n",
    "    legend=dict(\n",
    "        orientation=\"h\",\n",
    "        yanchor=\"bottom\",\n",
    "        y=1.02,\n",
    "        xanchor=\"right\",\n",
    "        x=1\n",
    "    )\n",
    ")\n",
    "\n",
    "# Update axes\n",
    "for i in range(n_pond_types):\n",
    "    fig_bar.update_xaxes(title_text=\"Measurement Index\", row=1, col=i+1)\n",
    "    if i == 0:  # Only show y-axis title for first subplot\n",
    "        fig_bar.update_yaxes(title_text=\"Error (mm)\", row=1, col=i+1)\n",
    "\n",
    "fig_bar.show()\n"
   ]
  },
  {
   "cell_type": "markdown",
   "metadata": {},
   "source": [
    "# 📐 Scale Error Deep Dive: The Calibration Chronicles\n",
    "\n",
    "## 🔍 Understanding Scale Errors\n",
    "Scale errors occur when our algorithm incorrectly estimates the \"mm per pixel\" ratio. This is crucial because even perfect pixel measurements become wrong if we don't know the true scale!\n",
    "\n",
    "### 🎯 Key Questions We'll Answer:\n",
    "- How much do scale errors vary across different pond types?\n",
    "- Which images are most problematic for scale estimation?\n",
    "- Do multiple prawns in the same image share similar scale errors?\n",
    "\n",
    "---\n",
    "\n",
    "## 🛠️ Scale Error Analysis Functions"
   ]
  },
  {
   "cell_type": "code",
   "execution_count": 23,
   "metadata": {},
   "outputs": [
    {
     "name": "stdout",
     "output_type": "stream",
     "text": [
      "🎨 Creating NEW interactive Plotly scale error visualization...\n",
      "🖼️ Now with hover details showing image names!\n",
      "\n",
      "🏊‍♀️ Analyzing scale errors for circle_female pond...\n",
      "   📊 Mean scale error: 8.22%\n",
      "   📈 Std scale error: 5.52%\n",
      "   🖼️ Total images: 33\n",
      "   🦐 Total prawns: 92\n",
      "\n",
      "🏊‍♀️ Analyzing scale errors for circle_male pond...\n",
      "   📊 Mean scale error: 15.83%\n",
      "   📈 Std scale error: 2.96%\n",
      "   🖼️ Total images: 5\n",
      "   🦐 Total prawns: 13\n",
      "\n",
      "🏊‍♀️ Analyzing scale errors for square pond...\n",
      "   📊 Mean scale error: 6.29%\n",
      "   📈 Std scale error: 4.38%\n",
      "   🖼️ Total images: 13\n",
      "   🦐 Total prawns: 14\n"
     ]
    },
    {
     "data": {
      "application/vnd.plotly.v1+json": {
       "config": {
        "plotlyServerURL": "https://plot.ly"
       },
       "data": [
        {
         "customdata": [
          [
           "full body:undistorted_GX010080_157_2283.jpg_gamma",
           3
          ],
          [
           "full body:undistorted_GX010082_236_3137.jpg_gamma",
           3
          ],
          [
           "full body:undistorted_GX010090_132_1852.jpg_gamma",
           1
          ],
          [
           "full body:undistorted_GX010094_9_129.jpg_gamma",
           2
          ],
          [
           "full body:undistorted_GX010097_124_1870.jpg_gamma",
           2
          ],
          [
           "full body:undistorted_GX010082_65_1070.jpg_gamma",
           3
          ],
          [
           "full body:undistorted_GX010088_209_2904.jpg_gamma",
           2
          ],
          [
           "full body:undistorted_GX010080_193_2640.jpg_gamma",
           5
          ],
          [
           "full body:undistorted_GX010069_19_191.jpg_gamma",
           4
          ],
          [
           "full body:undistorted_GX010085_261_3610.jpg_gamma",
           2
          ],
          [
           "full body:undistorted_GX010097_105_1651.jpg_gamma",
           4
          ],
          [
           "full body:undistorted_GX010067_33_625.jpg_gamma",
           4
          ],
          [
           "full body:undistorted_GX010097_32_528.jpg_gamma",
           2
          ],
          [
           "full body:undistorted_GX010080_238_3392.jpg_gamma",
           4
          ],
          [
           "full body:undistorted_GX010088_262_3712.jpg_gamma",
           3
          ],
          [
           "full body:undistorted_GX010082_8_59.jpg_gamma",
           4
          ],
          [
           "full body:undistorted_GX010080_237_3366.jpg_gamma",
           5
          ],
          [
           "full body:undistorted_GX010082_53_796.jpg_gamma",
           2
          ],
          [
           "full body:undistorted_GX010080_212_2954.jpg_gamma",
           3
          ],
          [
           "full body:undistorted_GX010094_163_2312.jpg_gamma",
           1
          ],
          [
           "full body:undistorted_GX010094_93_1258.jpg_gamma",
           1
          ],
          [
           "full body:undistorted_GX010094_24_430.jpg_gamma",
           1
          ],
          [
           "full body:undistorted_GX010068_26_666.jpg_gamma",
           3
          ],
          [
           "full body:undistorted_GX010068_27_795.jpg_gamma",
           2
          ],
          [
           "full body:undistorted_GX010084_30_344.jpg_gamma",
           4
          ],
          [
           "full body:undistorted_GX010084_130_1748.jpg_gamma",
           3
          ],
          [
           "full body:undistorted_GX010097_60_1080.jpg_gamma",
           4
          ],
          [
           "full body:undistorted_GX010073_55_1014.jpg_gamma",
           3
          ],
          [
           "full body:undistorted_GX010077_14_237.jpg_gamma",
           3
          ],
          [
           "full body:undistorted_GX010073_42_695.jpg_gamma",
           2
          ],
          [
           "full body:undistorted_GX010101_12_173.jpg_gamma",
           1
          ],
          [
           "full body:undistorted_GX010088_327_4364.jpg_gamma",
           4
          ],
          [
           "full body:undistorted_GX010071_22_444.jpg_gamma",
           2
          ]
         ],
         "hovertemplate": "<b>🖼️ Image Details</b><br>📁 Image Name: %{customdata[0]}<br>📐 Scale Error: %{y:.2f}%<br>🦐 Prawn Count: %{customdata[1]}<br>📊 Image Rank: #%{x}<br><extra></extra>",
         "marker": {
          "color": "#FF6B6B"
         },
         "name": "Circle Female",
         "opacity": 0.8,
         "showlegend": true,
         "text": {
          "bdata": "AAAAAAAACEAAAAAAAAAIQAAAAAAAAPA/AAAAAAAAAEAAAAAAAAAAQAAAAAAAAAhAAAAAAAAAAEAAAAAAAAAUQAAAAAAAABBAAAAAAAAAAEAAAAAAAAAQQAAAAAAAABBAAAAAAAAAAEAAAAAAAAAQQAAAAAAAAAhAAAAAAAAAEEAAAAAAAAAUQAAAAAAAAABAAAAAAAAACEAAAAAAAADwPwAAAAAAAPA/AAAAAAAA8D8AAAAAAAAIQAAAAAAAAABAAAAAAAAAEEAAAAAAAAAIQAAAAAAAABBAAAAAAAAACEAAAAAAAAAIQAAAAAAAAABAAAAAAAAA8D8AAAAAAAAQQAAAAAAAAABA",
          "dtype": "f8"
         },
         "textfont": {
          "color": "white",
          "family": "Arial Black",
          "size": 12
         },
         "textposition": "inside",
         "type": "bar",
         "x": [
          0,
          1,
          2,
          3,
          4,
          5,
          6,
          7,
          8,
          9,
          10,
          11,
          12,
          13,
          14,
          15,
          16,
          17,
          18,
          19,
          20,
          21,
          22,
          23,
          24,
          25,
          26,
          27,
          28,
          29,
          30,
          31,
          32
         ],
         "xaxis": "x",
         "y": {
          "bdata": "zT6YsS0TNUBR6RbBfYQyQCdCZBvnjDFASqwYS1hsMUAp9StxL2YwQHwMIjs04SxAGpaDnYp7LEAQ2176SAwoQCuiWDDuIyRA9GPo7szcI0DTr8LMJqIhQBxQfhsf2CBAh+icmy6MIECOJ0XzkUEgQOWKI4apPCBAeDoEk1kuIECqO1toODsfQFX50uq69BxA/Ba0k43BGkAlGUTcA8YYQA1EYNBnhRhAXipVVnUFGEARiDb8vSESQByjBmIE0g5A6Qzy7sObDUC98a3jjycLQMiMWL1omQlAqwUuqseWB0BLXMvgGJEEQOVxxH9qTARAO48qnYmsAEDqIplyb5/gPwDyoDnirtU/",
          "dtype": "f8"
         },
         "yaxis": "y"
        },
        {
         "customdata": [
          [
           "full body:undistorted_GX010105_28_816.jpg_gamma",
           2
          ],
          [
           "full body:undistorted_GX010102_50_1396.jpg_gamma",
           1
          ],
          [
           "full body:undistorted_GX010091_5_149.jpg_gamma",
           2
          ],
          [
           "full body:undistorted_GX010102_9_165.jpg_gamma",
           5
          ],
          [
           "full body:undistorted_GX010089_11_236.jpg_gamma",
           3
          ]
         ],
         "hovertemplate": "<b>🖼️ Image Details</b><br>📁 Image Name: %{customdata[0]}<br>📐 Scale Error: %{y:.2f}%<br>🦐 Prawn Count: %{customdata[1]}<br>📊 Image Rank: #%{x}<br><extra></extra>",
         "marker": {
          "color": "#4ECDC4"
         },
         "name": "Circle Male",
         "opacity": 0.8,
         "showlegend": true,
         "text": {
          "bdata": "AAAAAAAAAEAAAAAAAADwPwAAAAAAAABAAAAAAAAAFEAAAAAAAAAIQA==",
          "dtype": "f8"
         },
         "textfont": {
          "color": "white",
          "family": "Arial Black",
          "size": 12
         },
         "textposition": "inside",
         "type": "bar",
         "x": [
          0,
          1,
          2,
          3,
          4
         ],
         "xaxis": "x2",
         "y": {
          "bdata": "QjwNcTpqNEByRf3WbRExQETc5vwPHS1AupVqPKL4K0AII46eRzoqQA==",
          "dtype": "f8"
         },
         "yaxis": "y2"
        },
        {
         "customdata": [
          [
           "full body:undistorted_GX010152_36_378.jpg_gamma",
           2
          ],
          [
           "full body:undistorted_GX010162_72_927.jpg_gamma.jpg_gamma",
           1
          ],
          [
           "full body:undistorted_GX010157_160_2259",
           1
          ],
          [
           "full body:undistorted_GX010178_172_3604.jpg_gamma",
           1
          ],
          [
           "full body:undistorted_GX010161_54_676.jpg_gamma.jpg_gamma",
           1
          ],
          [
           "full body:undistorted_GX010183_37_685.jpg_gamma",
           1
          ],
          [
           "full body:undistorted_GX010183_80_1633.jpg_gamma",
           1
          ],
          [
           "full body:undistorted_GX010157_177_2665.jpg_gamma",
           1
          ],
          [
           "full body:undistorted_GX010157_174_2582.jpg_gamma",
           1
          ],
          [
           "full body:undistorted_GX010175_266_3372.jpg_gamma.jpg_gamma",
           1
          ],
          [
           "full body:undistorted_GX010183_128_2852.jpg_gamma",
           1
          ],
          [
           "full body:undistorted_GX010174_62_790.jpg_gamma",
           1
          ],
          [
           "full body:undistorted_GX010177_232_3047",
           1
          ]
         ],
         "hovertemplate": "<b>🖼️ Image Details</b><br>📁 Image Name: %{customdata[0]}<br>📐 Scale Error: %{y:.2f}%<br>🦐 Prawn Count: %{customdata[1]}<br>📊 Image Rank: #%{x}<br><extra></extra>",
         "marker": {
          "color": "#45B7D1"
         },
         "name": "Square",
         "opacity": 0.8,
         "showlegend": true,
         "text": {
          "bdata": "AAAAAAAAAEAAAAAAAADwPwAAAAAAAPA/AAAAAAAA8D8AAAAAAADwPwAAAAAAAPA/AAAAAAAA8D8AAAAAAADwPwAAAAAAAPA/AAAAAAAA8D8AAAAAAADwPwAAAAAAAPA/AAAAAAAA8D8=",
          "dtype": "f8"
         },
         "textfont": {
          "color": "white",
          "family": "Arial Black",
          "size": 12
         },
         "textposition": "inside",
         "type": "bar",
         "x": [
          0,
          1,
          2,
          3,
          4,
          5,
          6,
          7,
          8,
          9,
          10,
          11,
          12
         ],
         "xaxis": "x3",
         "y": {
          "bdata": "UmkBvD3tLEDs72RJJ8YpQGzk4TqriyZAj/0MHEF6JEC3XagURDYYQNuv3sU9phRAUjDxrX1PEUBNh1OvXswOQCL/5f73yw5AKnQbpv0mCUCh0bHahHYGQNlMAkYZCgJA6nmtPv9t9j8=",
          "dtype": "f8"
         },
         "yaxis": "y3"
        }
       ],
       "layout": {
        "annotations": [
         {
          "font": {
           "size": 16
          },
          "showarrow": false,
          "text": "📐 Scale Error by Image - Circle Female",
          "x": 0.5,
          "xanchor": "center",
          "xref": "paper",
          "y": 1,
          "yanchor": "bottom",
          "yref": "paper"
         },
         {
          "font": {
           "size": 16
          },
          "showarrow": false,
          "text": "📐 Scale Error by Image - Circle Male",
          "x": 0.5,
          "xanchor": "center",
          "xref": "paper",
          "y": 0.6399999999999999,
          "yanchor": "bottom",
          "yref": "paper"
         },
         {
          "font": {
           "size": 16
          },
          "showarrow": false,
          "text": "📐 Scale Error by Image - Square",
          "x": 0.5,
          "xanchor": "center",
          "xref": "paper",
          "y": 0.27999999999999997,
          "yanchor": "bottom",
          "yref": "paper"
         },
         {
          "showarrow": false,
          "text": "🚨 High Error Threshold (10%)",
          "x": 1,
          "xanchor": "right",
          "xref": "x domain",
          "y": 10,
          "yanchor": "bottom",
          "yref": "y"
         },
         {
          "showarrow": false,
          "text": "🚨 High Error Threshold (10%)",
          "x": 1,
          "xanchor": "right",
          "xref": "x2 domain",
          "y": 10,
          "yanchor": "bottom",
          "yref": "y2"
         },
         {
          "showarrow": false,
          "text": "🚨 High Error Threshold (10%)",
          "x": 1,
          "xanchor": "right",
          "xref": "x3 domain",
          "y": 10,
          "yanchor": "bottom",
          "yref": "y3"
         },
         {
          "font": {
           "color": "gray",
           "size": 14
          },
          "showarrow": false,
          "text": "💡 Hover over bars to see detailed image information!",
          "x": 0.5,
          "xanchor": "center",
          "xref": "paper",
          "y": -0.05,
          "yref": "paper"
         }
        ],
        "height": 1500,
        "hovermode": "closest",
        "legend": {
         "orientation": "h",
         "x": 0.5,
         "xanchor": "center",
         "y": 1.02,
         "yanchor": "bottom"
        },
        "shapes": [
         {
          "line": {
           "color": "red",
           "dash": "dash"
          },
          "opacity": 0.7,
          "type": "line",
          "x0": 0,
          "x1": 1,
          "xref": "x domain",
          "y0": 10,
          "y1": 10,
          "yref": "y"
         },
         {
          "line": {
           "color": "red",
           "dash": "dash"
          },
          "opacity": 0.7,
          "type": "line",
          "x0": 0,
          "x1": 1,
          "xref": "x2 domain",
          "y0": 10,
          "y1": 10,
          "yref": "y2"
         },
         {
          "line": {
           "color": "red",
           "dash": "dash"
          },
          "opacity": 0.7,
          "type": "line",
          "x0": 0,
          "x1": 1,
          "xref": "x3 domain",
          "y0": 10,
          "y1": 10,
          "yref": "y3"
         }
        ],
        "showlegend": true,
        "template": {
         "data": {
          "bar": [
           {
            "error_x": {
             "color": "#2a3f5f"
            },
            "error_y": {
             "color": "#2a3f5f"
            },
            "marker": {
             "line": {
              "color": "#E5ECF6",
              "width": 0.5
             },
             "pattern": {
              "fillmode": "overlay",
              "size": 10,
              "solidity": 0.2
             }
            },
            "type": "bar"
           }
          ],
          "barpolar": [
           {
            "marker": {
             "line": {
              "color": "#E5ECF6",
              "width": 0.5
             },
             "pattern": {
              "fillmode": "overlay",
              "size": 10,
              "solidity": 0.2
             }
            },
            "type": "barpolar"
           }
          ],
          "carpet": [
           {
            "aaxis": {
             "endlinecolor": "#2a3f5f",
             "gridcolor": "white",
             "linecolor": "white",
             "minorgridcolor": "white",
             "startlinecolor": "#2a3f5f"
            },
            "baxis": {
             "endlinecolor": "#2a3f5f",
             "gridcolor": "white",
             "linecolor": "white",
             "minorgridcolor": "white",
             "startlinecolor": "#2a3f5f"
            },
            "type": "carpet"
           }
          ],
          "choropleth": [
           {
            "colorbar": {
             "outlinewidth": 0,
             "ticks": ""
            },
            "type": "choropleth"
           }
          ],
          "contour": [
           {
            "colorbar": {
             "outlinewidth": 0,
             "ticks": ""
            },
            "colorscale": [
             [
              0,
              "#0d0887"
             ],
             [
              0.1111111111111111,
              "#46039f"
             ],
             [
              0.2222222222222222,
              "#7201a8"
             ],
             [
              0.3333333333333333,
              "#9c179e"
             ],
             [
              0.4444444444444444,
              "#bd3786"
             ],
             [
              0.5555555555555556,
              "#d8576b"
             ],
             [
              0.6666666666666666,
              "#ed7953"
             ],
             [
              0.7777777777777778,
              "#fb9f3a"
             ],
             [
              0.8888888888888888,
              "#fdca26"
             ],
             [
              1,
              "#f0f921"
             ]
            ],
            "type": "contour"
           }
          ],
          "contourcarpet": [
           {
            "colorbar": {
             "outlinewidth": 0,
             "ticks": ""
            },
            "type": "contourcarpet"
           }
          ],
          "heatmap": [
           {
            "colorbar": {
             "outlinewidth": 0,
             "ticks": ""
            },
            "colorscale": [
             [
              0,
              "#0d0887"
             ],
             [
              0.1111111111111111,
              "#46039f"
             ],
             [
              0.2222222222222222,
              "#7201a8"
             ],
             [
              0.3333333333333333,
              "#9c179e"
             ],
             [
              0.4444444444444444,
              "#bd3786"
             ],
             [
              0.5555555555555556,
              "#d8576b"
             ],
             [
              0.6666666666666666,
              "#ed7953"
             ],
             [
              0.7777777777777778,
              "#fb9f3a"
             ],
             [
              0.8888888888888888,
              "#fdca26"
             ],
             [
              1,
              "#f0f921"
             ]
            ],
            "type": "heatmap"
           }
          ],
          "histogram": [
           {
            "marker": {
             "pattern": {
              "fillmode": "overlay",
              "size": 10,
              "solidity": 0.2
             }
            },
            "type": "histogram"
           }
          ],
          "histogram2d": [
           {
            "colorbar": {
             "outlinewidth": 0,
             "ticks": ""
            },
            "colorscale": [
             [
              0,
              "#0d0887"
             ],
             [
              0.1111111111111111,
              "#46039f"
             ],
             [
              0.2222222222222222,
              "#7201a8"
             ],
             [
              0.3333333333333333,
              "#9c179e"
             ],
             [
              0.4444444444444444,
              "#bd3786"
             ],
             [
              0.5555555555555556,
              "#d8576b"
             ],
             [
              0.6666666666666666,
              "#ed7953"
             ],
             [
              0.7777777777777778,
              "#fb9f3a"
             ],
             [
              0.8888888888888888,
              "#fdca26"
             ],
             [
              1,
              "#f0f921"
             ]
            ],
            "type": "histogram2d"
           }
          ],
          "histogram2dcontour": [
           {
            "colorbar": {
             "outlinewidth": 0,
             "ticks": ""
            },
            "colorscale": [
             [
              0,
              "#0d0887"
             ],
             [
              0.1111111111111111,
              "#46039f"
             ],
             [
              0.2222222222222222,
              "#7201a8"
             ],
             [
              0.3333333333333333,
              "#9c179e"
             ],
             [
              0.4444444444444444,
              "#bd3786"
             ],
             [
              0.5555555555555556,
              "#d8576b"
             ],
             [
              0.6666666666666666,
              "#ed7953"
             ],
             [
              0.7777777777777778,
              "#fb9f3a"
             ],
             [
              0.8888888888888888,
              "#fdca26"
             ],
             [
              1,
              "#f0f921"
             ]
            ],
            "type": "histogram2dcontour"
           }
          ],
          "mesh3d": [
           {
            "colorbar": {
             "outlinewidth": 0,
             "ticks": ""
            },
            "type": "mesh3d"
           }
          ],
          "parcoords": [
           {
            "line": {
             "colorbar": {
              "outlinewidth": 0,
              "ticks": ""
             }
            },
            "type": "parcoords"
           }
          ],
          "pie": [
           {
            "automargin": true,
            "type": "pie"
           }
          ],
          "scatter": [
           {
            "fillpattern": {
             "fillmode": "overlay",
             "size": 10,
             "solidity": 0.2
            },
            "type": "scatter"
           }
          ],
          "scatter3d": [
           {
            "line": {
             "colorbar": {
              "outlinewidth": 0,
              "ticks": ""
             }
            },
            "marker": {
             "colorbar": {
              "outlinewidth": 0,
              "ticks": ""
             }
            },
            "type": "scatter3d"
           }
          ],
          "scattercarpet": [
           {
            "marker": {
             "colorbar": {
              "outlinewidth": 0,
              "ticks": ""
             }
            },
            "type": "scattercarpet"
           }
          ],
          "scattergeo": [
           {
            "marker": {
             "colorbar": {
              "outlinewidth": 0,
              "ticks": ""
             }
            },
            "type": "scattergeo"
           }
          ],
          "scattergl": [
           {
            "marker": {
             "colorbar": {
              "outlinewidth": 0,
              "ticks": ""
             }
            },
            "type": "scattergl"
           }
          ],
          "scattermap": [
           {
            "marker": {
             "colorbar": {
              "outlinewidth": 0,
              "ticks": ""
             }
            },
            "type": "scattermap"
           }
          ],
          "scattermapbox": [
           {
            "marker": {
             "colorbar": {
              "outlinewidth": 0,
              "ticks": ""
             }
            },
            "type": "scattermapbox"
           }
          ],
          "scatterpolar": [
           {
            "marker": {
             "colorbar": {
              "outlinewidth": 0,
              "ticks": ""
             }
            },
            "type": "scatterpolar"
           }
          ],
          "scatterpolargl": [
           {
            "marker": {
             "colorbar": {
              "outlinewidth": 0,
              "ticks": ""
             }
            },
            "type": "scatterpolargl"
           }
          ],
          "scatterternary": [
           {
            "marker": {
             "colorbar": {
              "outlinewidth": 0,
              "ticks": ""
             }
            },
            "type": "scatterternary"
           }
          ],
          "surface": [
           {
            "colorbar": {
             "outlinewidth": 0,
             "ticks": ""
            },
            "colorscale": [
             [
              0,
              "#0d0887"
             ],
             [
              0.1111111111111111,
              "#46039f"
             ],
             [
              0.2222222222222222,
              "#7201a8"
             ],
             [
              0.3333333333333333,
              "#9c179e"
             ],
             [
              0.4444444444444444,
              "#bd3786"
             ],
             [
              0.5555555555555556,
              "#d8576b"
             ],
             [
              0.6666666666666666,
              "#ed7953"
             ],
             [
              0.7777777777777778,
              "#fb9f3a"
             ],
             [
              0.8888888888888888,
              "#fdca26"
             ],
             [
              1,
              "#f0f921"
             ]
            ],
            "type": "surface"
           }
          ],
          "table": [
           {
            "cells": {
             "fill": {
              "color": "#EBF0F8"
             },
             "line": {
              "color": "white"
             }
            },
            "header": {
             "fill": {
              "color": "#C8D4E3"
             },
             "line": {
              "color": "white"
             }
            },
            "type": "table"
           }
          ]
         },
         "layout": {
          "annotationdefaults": {
           "arrowcolor": "#2a3f5f",
           "arrowhead": 0,
           "arrowwidth": 1
          },
          "autotypenumbers": "strict",
          "coloraxis": {
           "colorbar": {
            "outlinewidth": 0,
            "ticks": ""
           }
          },
          "colorscale": {
           "diverging": [
            [
             0,
             "#8e0152"
            ],
            [
             0.1,
             "#c51b7d"
            ],
            [
             0.2,
             "#de77ae"
            ],
            [
             0.3,
             "#f1b6da"
            ],
            [
             0.4,
             "#fde0ef"
            ],
            [
             0.5,
             "#f7f7f7"
            ],
            [
             0.6,
             "#e6f5d0"
            ],
            [
             0.7,
             "#b8e186"
            ],
            [
             0.8,
             "#7fbc41"
            ],
            [
             0.9,
             "#4d9221"
            ],
            [
             1,
             "#276419"
            ]
           ],
           "sequential": [
            [
             0,
             "#0d0887"
            ],
            [
             0.1111111111111111,
             "#46039f"
            ],
            [
             0.2222222222222222,
             "#7201a8"
            ],
            [
             0.3333333333333333,
             "#9c179e"
            ],
            [
             0.4444444444444444,
             "#bd3786"
            ],
            [
             0.5555555555555556,
             "#d8576b"
            ],
            [
             0.6666666666666666,
             "#ed7953"
            ],
            [
             0.7777777777777778,
             "#fb9f3a"
            ],
            [
             0.8888888888888888,
             "#fdca26"
            ],
            [
             1,
             "#f0f921"
            ]
           ],
           "sequentialminus": [
            [
             0,
             "#0d0887"
            ],
            [
             0.1111111111111111,
             "#46039f"
            ],
            [
             0.2222222222222222,
             "#7201a8"
            ],
            [
             0.3333333333333333,
             "#9c179e"
            ],
            [
             0.4444444444444444,
             "#bd3786"
            ],
            [
             0.5555555555555556,
             "#d8576b"
            ],
            [
             0.6666666666666666,
             "#ed7953"
            ],
            [
             0.7777777777777778,
             "#fb9f3a"
            ],
            [
             0.8888888888888888,
             "#fdca26"
            ],
            [
             1,
             "#f0f921"
            ]
           ]
          },
          "colorway": [
           "#636efa",
           "#EF553B",
           "#00cc96",
           "#ab63fa",
           "#FFA15A",
           "#19d3f3",
           "#FF6692",
           "#B6E880",
           "#FF97FF",
           "#FECB52"
          ],
          "font": {
           "color": "#2a3f5f"
          },
          "geo": {
           "bgcolor": "white",
           "lakecolor": "white",
           "landcolor": "#E5ECF6",
           "showlakes": true,
           "showland": true,
           "subunitcolor": "white"
          },
          "hoverlabel": {
           "align": "left"
          },
          "hovermode": "closest",
          "mapbox": {
           "style": "light"
          },
          "paper_bgcolor": "white",
          "plot_bgcolor": "#E5ECF6",
          "polar": {
           "angularaxis": {
            "gridcolor": "white",
            "linecolor": "white",
            "ticks": ""
           },
           "bgcolor": "#E5ECF6",
           "radialaxis": {
            "gridcolor": "white",
            "linecolor": "white",
            "ticks": ""
           }
          },
          "scene": {
           "xaxis": {
            "backgroundcolor": "#E5ECF6",
            "gridcolor": "white",
            "gridwidth": 2,
            "linecolor": "white",
            "showbackground": true,
            "ticks": "",
            "zerolinecolor": "white"
           },
           "yaxis": {
            "backgroundcolor": "#E5ECF6",
            "gridcolor": "white",
            "gridwidth": 2,
            "linecolor": "white",
            "showbackground": true,
            "ticks": "",
            "zerolinecolor": "white"
           },
           "zaxis": {
            "backgroundcolor": "#E5ECF6",
            "gridcolor": "white",
            "gridwidth": 2,
            "linecolor": "white",
            "showbackground": true,
            "ticks": "",
            "zerolinecolor": "white"
           }
          },
          "shapedefaults": {
           "line": {
            "color": "#2a3f5f"
           }
          },
          "ternary": {
           "aaxis": {
            "gridcolor": "white",
            "linecolor": "white",
            "ticks": ""
           },
           "baxis": {
            "gridcolor": "white",
            "linecolor": "white",
            "ticks": ""
           },
           "bgcolor": "#E5ECF6",
           "caxis": {
            "gridcolor": "white",
            "linecolor": "white",
            "ticks": ""
           }
          },
          "title": {
           "x": 0.05
          },
          "xaxis": {
           "automargin": true,
           "gridcolor": "white",
           "linecolor": "white",
           "ticks": "",
           "title": {
            "standoff": 15
           },
           "zerolinecolor": "white",
           "zerolinewidth": 2
          },
          "yaxis": {
           "automargin": true,
           "gridcolor": "white",
           "linecolor": "white",
           "ticks": "",
           "title": {
            "standoff": 15
           },
           "zerolinecolor": "white",
           "zerolinewidth": 2
          }
         }
        },
        "title": {
         "font": {
          "size": 20
         },
         "text": "🎪 Scale Error Analysis Dashboard: Interactive Image Explorer"
        },
        "width": 1200,
        "xaxis": {
         "anchor": "y",
         "domain": [
          0,
          1
         ],
         "gridcolor": "lightgray",
         "gridwidth": 1,
         "showgrid": true,
         "title": {
          "text": "Image Rank (worst to best scale error)"
         }
        },
        "xaxis2": {
         "anchor": "y2",
         "domain": [
          0,
          1
         ],
         "gridcolor": "lightgray",
         "gridwidth": 1,
         "showgrid": true,
         "title": {
          "text": "Image Rank (worst to best scale error)"
         }
        },
        "xaxis3": {
         "anchor": "y3",
         "domain": [
          0,
          1
         ],
         "gridcolor": "lightgray",
         "gridwidth": 1,
         "showgrid": true,
         "title": {
          "text": "Image Rank (worst to best scale error)"
         }
        },
        "yaxis": {
         "anchor": "x",
         "domain": [
          0.72,
          1
         ],
         "gridcolor": "lightgray",
         "gridwidth": 1,
         "showgrid": true,
         "title": {
          "text": "Scale Error (%)"
         }
        },
        "yaxis2": {
         "anchor": "x2",
         "domain": [
          0.36,
          0.6399999999999999
         ],
         "gridcolor": "lightgray",
         "gridwidth": 1,
         "showgrid": true,
         "title": {
          "text": "Scale Error (%)"
         }
        },
        "yaxis3": {
         "anchor": "x3",
         "domain": [
          0,
          0.27999999999999997
         ],
         "gridcolor": "lightgray",
         "gridwidth": 1,
         "showgrid": true,
         "title": {
          "text": "Scale Error (%)"
         }
        }
       }
      }
     },
     "metadata": {},
     "output_type": "display_data"
    }
   ],
   "source": [
    "# 🎨 **Updated Interactive Scale Error Visualization**\n",
    "\n",
    "\n",
    "def create_scale_results_dictionary(df):\n",
    "    \"\"\"\n",
    "    🔍 Create the scale_results dictionary needed for visualization.\n",
    "    \n",
    "    This function analyzes scale errors per image for each pond type and\n",
    "    creates the data structure expected by the visualization function.\n",
    "    \n",
    "    Args:\n",
    "        df: DataFrame containing measurement data\n",
    "        \n",
    "    Returns:\n",
    "        Dictionary containing scale error analysis for each pond type\n",
    "    \"\"\"\n",
    "    pond_types = df['Pond_Type'].unique()\n",
    "    scale_results = {}\n",
    "    \n",
    "    for pond_type in pond_types:\n",
    "        print(f\"\\n🏊‍♀️ Analyzing scale errors for {pond_type} pond...\")\n",
    "        \n",
    "        # Filter data for this pond type\n",
    "        df_pond = df[df['Pond_Type'] == pond_type].copy()\n",
    "        \n",
    "        # Calculate scale error percentage for each measurement\n",
    "        df_pond['scale_error_percent'] = abs((df_pond['mean_scale'] - df_pond['pred_scale'])) / df_pond['mean_scale'] * 100\n",
    "        \n",
    "        # Group by image (Label) to get per-image statistics\n",
    "        df_img = (df_pond\n",
    "                 .groupby('Label')\n",
    "                 .agg({\n",
    "                     'scale_error_percent': 'mean',\n",
    "                     'PrawnID': 'count'  # Count prawns per image\n",
    "                 })\n",
    "                 .rename(columns={'PrawnID': 'prawn_count'})\n",
    "                 .reset_index())\n",
    "        \n",
    "        # Sort by scale error (worst to best)\n",
    "        df_img = df_img.sort_values('scale_error_percent', ascending=False).reset_index(drop=True)\n",
    "        \n",
    "        # Store results\n",
    "        scale_results[pond_type] = {\n",
    "            'image_data': df_img,\n",
    "            'mean_scale_error': df_img['scale_error_percent'].mean(),\n",
    "            'std_scale_error': df_img['scale_error_percent'].std(),\n",
    "            'total_images': len(df_img),\n",
    "            'total_prawns': df_img['prawn_count'].sum()\n",
    "        }\n",
    "        \n",
    "        print(f\"   📊 Mean scale error: {scale_results[pond_type]['mean_scale_error']:.2f}%\")\n",
    "        print(f\"   📈 Std scale error: {scale_results[pond_type]['std_scale_error']:.2f}%\")\n",
    "        print(f\"   🖼️ Total images: {scale_results[pond_type]['total_images']}\")\n",
    "        print(f\"   🦐 Total prawns: {scale_results[pond_type]['total_prawns']}\")\n",
    "    \n",
    "    return scale_results\n",
    "\n",
    "\n",
    "\n",
    "\n",
    "def create_scale_error_visualization_plotly(scale_results: Dict[str, Dict]) -> None:\n",
    "    \"\"\"\n",
    "    🎨 Create engaging interactive Plotly visualizations for scale error analysis.\n",
    "    Features interactive hover with image names and detailed information.\n",
    "    \"\"\"\n",
    "    pond_types = list(scale_results.keys())\n",
    "    n_ponds = len(pond_types)\n",
    "    \n",
    "    # 📊 Create interactive Plotly subplots\n",
    "    fig = make_subplots(\n",
    "        rows=n_ponds, cols=1,\n",
    "        subplot_titles=[f'📐 Scale Error by Image - {pond_type.replace(\"_\", \" \").title()}' \n",
    "                       for pond_type in pond_types],\n",
    "        vertical_spacing=0.08,\n",
    "        shared_xaxes=False\n",
    "    )\n",
    "    \n",
    "    for i, pond_type in enumerate(pond_types, 1):\n",
    "        df_img = scale_results[pond_type]['image_data']\n",
    "        color = POND_COLORS.get(pond_type, '#333333')\n",
    "        \n",
    "        # Create interactive bar chart with hover information\n",
    "        fig.add_trace(\n",
    "            go.Bar(\n",
    "                x=list(range(len(df_img))),\n",
    "                y=df_img['scale_error_percent'],\n",
    "                name=f'{pond_type.replace(\"_\", \" \").title()}',\n",
    "                marker_color=color,\n",
    "                opacity=0.8,\n",
    "                showlegend=True,\n",
    "                text=df_img['prawn_count'],  # Show prawn count on bars\n",
    "                textposition='inside',\n",
    "                textfont=dict(color='white', size=12, family=\"Arial Black\"),\n",
    "                hovertemplate=\"<b>🖼️ Image Details</b><br>\" +\n",
    "                            \"📁 Image Name: %{customdata[0]}<br>\" +\n",
    "                            \"📐 Scale Error: %{y:.2f}%<br>\" +\n",
    "                            \"🦐 Prawn Count: %{customdata[1]}<br>\" +\n",
    "                            \"📊 Image Rank: #%{x}<br>\" +\n",
    "                            \"<extra></extra>\",\n",
    "                customdata=list(zip(df_img['Label'], df_img['prawn_count']))\n",
    "            ),\n",
    "            row=i, col=1\n",
    "        )\n",
    "        \n",
    "        # Add threshold line at 10%\n",
    "        fig.add_hline(\n",
    "            y=10, \n",
    "            line_dash=\"dash\", \n",
    "            line_color=\"red\", \n",
    "            opacity=0.7,\n",
    "            annotation_text=\"🚨 High Error Threshold (10%)\",\n",
    "            annotation_position=\"top right\",\n",
    "            row=i, col=1\n",
    "        )\n",
    "    \n",
    "    # Update layout for better interactivity\n",
    "    fig.update_layout(\n",
    "        title_text=\"🎪 Scale Error Analysis Dashboard: Interactive Image Explorer\",\n",
    "        title_font_size=20,\n",
    "        height=500*n_ponds,\n",
    "        width=1200,\n",
    "        showlegend=True,\n",
    "        legend=dict(\n",
    "            orientation=\"h\",\n",
    "            yanchor=\"bottom\",\n",
    "            y=1.02,\n",
    "            xanchor=\"center\",\n",
    "            x=0.5\n",
    "        ),\n",
    "        hovermode='closest'\n",
    "    )\n",
    "    \n",
    "    # Update axes for each subplot\n",
    "    for i in range(1, n_ponds + 1):\n",
    "        fig.update_xaxes(\n",
    "            title_text=\"Image Rank (worst to best scale error)\",\n",
    "            row=i, col=1,\n",
    "            showgrid=True,\n",
    "            gridwidth=1,\n",
    "            gridcolor='lightgray'\n",
    "        )\n",
    "        fig.update_yaxes(\n",
    "            title_text=\"Scale Error (%)\",\n",
    "            row=i, col=1,\n",
    "            showgrid=True,\n",
    "            gridwidth=1,\n",
    "            gridcolor='lightgray'\n",
    "        )\n",
    "    \n",
    "    # Add annotations for interactivity guidance\n",
    "    fig.add_annotation(\n",
    "        text=\"💡 Hover over bars to see detailed image information!\",\n",
    "        xref=\"paper\", yref=\"paper\",\n",
    "        x=0.5, y=-0.05,\n",
    "        showarrow=False,\n",
    "        font=dict(size=14, color=\"gray\"),\n",
    "        xanchor=\"center\"\n",
    "    )\n",
    "    \n",
    "    fig.show()\n",
    "\n",
    "# 🚀 Create the new interactive visualization\n",
    "print(\"🎨 Creating NEW interactive Plotly scale error visualization...\")\n",
    "print(\"🖼️ Now with hover details showing image names!\")\n",
    "scale_results = create_scale_results_dictionary(df)\n",
    "create_scale_error_visualization_plotly(scale_results)\n"
   ]
  },
  {
   "cell_type": "markdown",
   "metadata": {},
   "source": [
    "# 🔍 Error Decomposition Analysis: The Art of Measurement Precision\n",
    "\n",
    "## 🧮 The Mathematics of Error\n",
    "In the world of computer vision and biometric measurement, errors don't exist in isolation. They interact, compete, and sometimes even cancel each other out! Let's explore this fascinating phenomenon.\n",
    "\n",
    "### 🎭 The Two Main Characters:\n",
    "- **Pixel Error**: How far off our pixel-level measurements are from the ground truth\n",
    "- **Scale Error**: How incorrect our scale estimation is (mm per pixel)\n",
    "\n",
    "### 🎪 The Plot Twist: Error Cancellation\n",
    "Sometimes, when pixel error and scale error have opposite signs, they partially cancel each other out, leading to surprisingly accurate final measurements despite individual component errors!"
   ]
  },
  {
   "cell_type": "markdown",
   "metadata": {},
   "source": [
    "# 📊 Statistical Deep Dive: Robust Error Metrics\n",
    "\n",
    "## 🎯 Why Use Robust Statistics?\n",
    "Traditional means can be misleading when dealing with outliers. Let's use robust statistical measures to get a clearer picture of our error distributions.\n",
    "\n",
    "### 📈 Our Statistical Arsenal:\n",
    "- **Median**: The middle value, less affected by outliers\n",
    "- **MAD (Median Absolute Deviation)**: A robust measure of spread\n",
    "- **Histograms**: Visual exploration of error distributions\n",
    "\n",
    "---\n",
    "\n",
    "## 🔬 Comprehensive Statistical Analysis"
   ]
  },
  {
   "cell_type": "code",
   "execution_count": 24,
   "metadata": {},
   "outputs": [
    {
     "name": "stdout",
     "output_type": "stream",
     "text": [
      "📊 Starting comprehensive statistical analysis...\n",
      "📊 ROBUST STATISTICAL ANALYSIS RESULTS\n",
      "================================================================================\n",
      "\n",
      "🏊‍♀️ CIRCLE FEMALE POND STATISTICS\n",
      "────────────────────────────────────────────────────────────\n",
      "\n",
      "📈 Scale Error Distribution:\n",
      "   📊 Median: 7.81% ± 4.11% (MAD)\n",
      "   📈 Mean: 8.20% ± 5.55% (SD)\n",
      "\n",
      "📈 Pixel Error Distribution:\n",
      "   📊 Median: 4.74% ± 2.81% (MAD)\n",
      "   📈 Mean: 5.82% ± 4.55% (SD)\n",
      "\n",
      "📈 Annotation Error Distribution:\n",
      "   📊 Median: 3.80% ± 2.34% (MAD)\n",
      "   📈 Mean: 6.13% ± 12.81% (SD)\n",
      "────────────────────────────────────────────────────────────\n",
      "\n",
      "🏊‍♀️ CIRCLE MALE POND STATISTICS\n",
      "────────────────────────────────────────────────────────────\n",
      "\n",
      "📈 Scale Error Distribution:\n",
      "   📊 Median: 14.56% ± 1.44% (MAD)\n",
      "   📈 Mean: 15.83% ± 2.96% (SD)\n",
      "\n",
      "📈 Pixel Error Distribution:\n",
      "   📊 Median: 5.67% ± 3.29% (MAD)\n",
      "   📈 Mean: 15.50% ± 20.84% (SD)\n",
      "\n",
      "📈 Annotation Error Distribution:\n",
      "   📊 Median: 4.04% ± 2.56% (MAD)\n",
      "   📈 Mean: 12.51% ± 20.17% (SD)\n",
      "────────────────────────────────────────────────────────────\n",
      "\n",
      "🏊‍♀️ SQUARE POND STATISTICS\n",
      "────────────────────────────────────────────────────────────\n",
      "\n",
      "📈 Scale Error Distribution:\n",
      "   📊 Median: 4.33% ± 1.73% (MAD)\n",
      "   📈 Mean: 6.29% ± 4.38% (SD)\n",
      "\n",
      "📈 Pixel Error Distribution:\n",
      "   📊 Median: 4.70% ± 3.72% (MAD)\n",
      "   📈 Mean: 6.84% ± 7.12% (SD)\n",
      "\n",
      "📈 Annotation Error Distribution:\n",
      "   📊 Median: 4.61% ± 2.55% (MAD)\n",
      "   📈 Mean: 6.05% ± 5.43% (SD)\n",
      "────────────────────────────────────────────────────────────\n"
     ]
    }
   ],
   "source": [
    "def analyze_statistical_distributions(df: pd.DataFrame) -> Dict[str, Dict]:\n",
    "    \"\"\"\n",
    "    📊 Perform comprehensive statistical analysis of error distributions.\n",
    "    \n",
    "    This function calculates robust statistics and creates visualizations\n",
    "    for scale errors, pixel errors, and annotation errors across pond types.\n",
    "    \n",
    "    Args:\n",
    "        df: DataFrame containing measurement data\n",
    "        \n",
    "    Returns:\n",
    "        Dictionary containing statistical results for each pond type\n",
    "    \"\"\"\n",
    "    output_dir = Path(\"/Users/gilbenor/Library/CloudStorage/OneDrive-Personal/phd/\"\n",
    "                     \"paper/images/final images/carapace\")\n",
    "    output_dir.mkdir(parents=True, exist_ok=True)\n",
    "    \n",
    "    statistical_results = {}\n",
    "    \n",
    "    for pond_type in df['Pond_Type'].unique():\n",
    "        df_pond = df[df['Pond_Type'] == pond_type]\n",
    "        \n",
    "        # 📐 Scale Error Analysis (per image)\n",
    "        mean_scale_per_image = df_pond['mean_scale'].groupby(df_pond['Label']).mean()\n",
    "        pred_scale_per_image = df_pond['pred_scale'].groupby(df_pond['Label']).mean()\n",
    "        scale_error_percent = abs((mean_scale_per_image - pred_scale_per_image)) / mean_scale_per_image * 100\n",
    "        \n",
    "        # 🔍 Pixel Error Analysis\n",
    "        pixel_error_percent = abs((df_pond['mean_pixels'] - df_pond['pred_Distance_pixels'])) / df_pond['mean_pixels'] * 100\n",
    "        \n",
    "        # 📝 Annotation Error Analysis\n",
    "        annotation_error_percent = abs((df_pond['Length_ground_truth_annotation_pixels'] - df_pond['pred_Distance_pixels'])) / df_pond['Length_ground_truth_annotation_pixels'] * 100\n",
    "        \n",
    "        # Store results\n",
    "        statistical_results[pond_type] = {\n",
    "            'scale_error': {\n",
    "                'median': scale_error_percent.median(),\n",
    "                'mad': median_abs_deviation(scale_error_percent),\n",
    "                'mean': scale_error_percent.mean(),\n",
    "                'std': scale_error_percent.std(),\n",
    "                'data': scale_error_percent\n",
    "            },\n",
    "            'pixel_error': {\n",
    "                'median': pixel_error_percent.median(),\n",
    "                'mad': median_abs_deviation(pixel_error_percent),\n",
    "                'mean': pixel_error_percent.mean(),\n",
    "                'std': pixel_error_percent.std(),\n",
    "                'data': pixel_error_percent\n",
    "            },\n",
    "            'annotation_error': {\n",
    "                'median': annotation_error_percent.median(),\n",
    "                'mad': median_abs_deviation(annotation_error_percent),\n",
    "                'mean': annotation_error_percent.mean(),\n",
    "                'std': annotation_error_percent.std(),\n",
    "                'data': annotation_error_percent\n",
    "            }\n",
    "        }\n",
    "    \n",
    "    return statistical_results, output_dir\n",
    "\n",
    "def print_statistical_summary(statistical_results: Dict[str, Dict]) -> None:\n",
    "    \"\"\"\n",
    "    🎨 Print beautifully formatted statistical summaries.\n",
    "    \"\"\"\n",
    "    print(\"📊 ROBUST STATISTICAL ANALYSIS RESULTS\")\n",
    "    print(\"=\" * 80)\n",
    "    \n",
    "    for pond_type, results in statistical_results.items():\n",
    "        color = POND_COLORS.get(pond_type, '#333333')\n",
    "        print(f\"\\n🏊‍♀️ {pond_type.upper().replace('_', ' ')} POND STATISTICS\")\n",
    "        print(\"─\" * 60)\n",
    "        \n",
    "        for error_type, stats in results.items():\n",
    "            print(f\"\\n📈 {error_type.replace('_', ' ').title()} Distribution:\")\n",
    "            print(f\"   📊 Median: {stats['median']:.2f}% ± {stats['mad']:.2f}% (MAD)\")\n",
    "            print(f\"   📈 Mean: {stats['mean']:.2f}% ± {stats['std']:.2f}% (SD)\")\n",
    "            \n",
    "        print(\"─\" * 60)\n",
    "\n",
    "# 🚀 Run statistical analysis\n",
    "print(\"📊 Starting comprehensive statistical analysis...\")\n",
    "statistical_results, output_dir = analyze_statistical_distributions(df)\n",
    "print_statistical_summary(statistical_results)\n",
    "\n",
    "\n",
    "\n",
    "\n",
    "\n"
   ]
  },
  {
   "cell_type": "code",
   "execution_count": 25,
   "metadata": {},
   "outputs": [
    {
     "name": "stdout",
     "output_type": "stream",
     "text": [
      "\n",
      "🎨 Creating statistical visualizations...\n"
     ]
    },
    {
     "data": {
      "application/vnd.plotly.v1+json": {
       "config": {
        "plotlyServerURL": "https://plot.ly"
       },
       "data": [
        {
         "hovertemplate": "<b>Scale Error</b><br>Range: %{x:.1f}%<br>Count: %{y}<extra></extra>",
         "marker": {
          "color": "#FF6B6B"
         },
         "name": "📐 Circle Female",
         "nbinsx": 30,
         "opacity": 0.7,
         "showlegend": true,
         "type": "histogram",
         "x": {
          "bdata": "GlB+Gx/YIEANiDb8vSESQCqjBmIE0g5ALKJYMO4jJEBGltmBwQKvP+VxxH9qTARAvgUuqseWB0BVXMvgGJEEQM0+mLEtEzVADdte+kgMKED9FrSTjcEaQLQ7W2g4Ox9AiidF85FBIEBU6RbBfYQyQFb50uq69BxAfwwiOzThLEB4OgSTWS4gQL7xreOPJwtA2gzy7sObDUD0Y+juzNwjQByWg52KeyxA4Yojhqk8IEDljX15x+fNPydCZBvnjDFAJRlE3APGGEBeKlVWdQUYQA1EYNBnhRhASawYS1hsMUDWr8LMJqIhQCn1K3EvZjBAhOicmy6MIEDQjFi9aJkJQDuPKp2JrABA",
          "dtype": "f8"
         },
         "xaxis": "x",
         "yaxis": "y"
        },
        {
         "hovertemplate": "<b>Scale Error</b><br>Range: %{x:.1f}%<br>Count: %{y}<extra></extra>",
         "marker": {
          "color": "#4ECDC4"
         },
         "name": "📐 Circle Male",
         "nbinsx": 30,
         "opacity": 0.7,
         "showlegend": true,
         "type": "histogram",
         "x": {
          "bdata": "AyOOnkc6KkBF3Ob8Dx0tQHJF/dZtETFAuJVqPKL4K0BCPA1xOmo0QA==",
          "dtype": "f8"
         },
         "xaxis": "x2",
         "yaxis": "y2"
        },
        {
         "hovertemplate": "<b>Scale Error</b><br>Range: %{x:.1f}%<br>Count: %{y}<extra></extra>",
         "marker": {
          "color": "#45B7D1"
         },
         "name": "📐 Square",
         "nbinsx": 30,
         "opacity": 0.7,
         "showlegend": true,
         "type": "histogram",
         "x": {
          "bdata": "UmkBvD3tLEBs5OE6q4smQCL/5f73yw5ATYdTr17MDkC3XagURDYYQOzvZEknxilA2UwCRhkKAkAqdBum/SYJQOp5rT7/bfY/j/0MHEF6JECh0bHahHYGQNuv3sU9phRAUjDxrX1PEUA=",
          "dtype": "f8"
         },
         "xaxis": "x3",
         "yaxis": "y3"
        },
        {
         "hovertemplate": "<b>Pixel Error</b><br>Range: %{x:.1f}%<br>Count: %{y}<extra></extra>",
         "marker": {
          "color": "#FF6B6B"
         },
         "name": "🔍 Circle Female",
         "nbinsx": 30,
         "opacity": 0.7,
         "showlegend": false,
         "type": "histogram",
         "x": {
          "bdata": "OviiDDLaM0DyrbWpD+InQME7oHS2JjNATJDf7TtbG0CO8Mfrkuv+P+jC7wRuahlABYlAXTTUFkBguAd2DMnxP40OIfCH4SBA/RLNOdFPC0BSOMtgKn4jQF4tdbltZxdAmxNEdnjQJUDFQDgvsWIHQLLXQiS25/w/tGbQoe0pFkB0kUl9NnQjQJ3kXLvoz/8/GJCMuxeEGEDsd7HMxMMOQAzDrab5RhBAVYd4m9JAAEB3SwJbOW8qQEH2Ch0BcRZAfeVhvaTM9j8i/j7Z1xIdQHKQKV4p7/4/KLuqEJsYE0BYSNfOgAgRQOT2xYSTdwpAPC80k6OxD0DkF8Wvdj0hQLRbNQlnyAVABB2lbKgSH0AmrUX0mPshQHO8YVEqPBlAm33zmbmwIEBCck5UsKASQDZaV50/2gdAX83syRh3HUB2rLFGcubRP/34e+qPjeU/qge2K5pZwT9G245eJ70FQDfSmWLziSNABNvlOCsJMUDKs9aS+sgvQJG6lqXLzBJAUVT+cjcEAEB0jB1ezlQdQFMVajMmi+8/EreTPKk+7T/Fo+1nrOMZQE3RR8sN0e0/TdbRrjzC5T8ljvrcUvcXQMQvaU2hmx1Aqbpo/rCowT9S7aNLZ+0YQGvHOSElNO0/XypxIzt8KkCxtRfHvSkFQH13ef+f6B1A/0cUTyYYLkDS9N+3+84kQELjgE++PAJAJvdozWx0IUBInWaTdG4fQEV7wbYEPR5AlMRqqCqSD0DeAMNt420AQM5rWiBeQRBAEbsiuVnRFECi8qDZ37rtPzey8SNhFQ1A+LX8m4BqJEDdepbTii3rP711uJ2vDfQ/yJllvkl0I0DYyDqHKf4kQKIFGDoMdcU/mZXnkbNVA0CGFly7W4oGQFDJo4Rh9iVA/zpef5+bCkB2qxKH9z8jQKpugWlos/4/QpTdpRFGJ0A052OJKpktQNr7g6kIYAdAfJ4BH5XSBkCMvm/Nj47iPw==",
          "dtype": "f8"
         },
         "xaxis": "x4",
         "yaxis": "y4"
        },
        {
         "hovertemplate": "<b>Pixel Error</b><br>Range: %{x:.1f}%<br>Count: %{y}<extra></extra>",
         "marker": {
          "color": "#4ECDC4"
         },
         "name": "🔍 Circle Male",
         "nbinsx": 30,
         "opacity": 0.7,
         "showlegend": false,
         "type": "histogram",
         "x": {
          "bdata": "PmxIkfFeKkBB8n7psZglQNENCvOrrhZA54/KjtygOkB4TcofU3sJQNGIj3lfQxRATDylfnR0S0CM80ly1SFQQGIl2WKe1bY/1lVtTtMhC0Dimg6cqgAeQDxZVJpi7RBAz3lAUvoHA0A=",
          "dtype": "f8"
         },
         "xaxis": "x5",
         "yaxis": "y5"
        },
        {
         "hovertemplate": "<b>Pixel Error</b><br>Range: %{x:.1f}%<br>Count: %{y}<extra></extra>",
         "marker": {
          "color": "#45B7D1"
         },
         "name": "🔍 Square",
         "nbinsx": 30,
         "opacity": 0.7,
         "showlegend": false,
         "type": "histogram",
         "x": {
          "bdata": "txoty0y+G0ArfsJAKq60PzhAQJ9uxuw/9yT1cHvaIEBwv2qXoWsUQP/lREL2ITdAeG17+8r5GUDhicViu5YsQGTbXmTbks4/7xpO+AubMkCYvrBqgCkRQA5zmemVXQ1AuU00Vk9M7z95vu9Vw+kEQA==",
          "dtype": "f8"
         },
         "xaxis": "x6",
         "yaxis": "y6"
        },
        {
         "hovertemplate": "<b>Annotation Error</b><br>Range: %{x:.1f}%<br>Count: %{y}<extra></extra>",
         "marker": {
          "color": "#FF6B6B"
         },
         "name": "📝 Circle Female",
         "nbinsx": 30,
         "opacity": 0.7,
         "showlegend": false,
         "type": "histogram",
         "x": {
          "bdata": "YRGDFfifOEA+KohFMmTNP+W3EcdFOCpAN8DP/eJ9IkCQ9sFm/HYNQJA1KkL/vhlAv8OM/jAREkDbBEyYOeMEQH349Hhtaec/6WblBVsn9T8m144Q6G0IQNoHygso2RxAhK0+RLdQMEBYzWOMox3wP0+3LQFWCPE/+u/9AZtzEUDcn6hiaOsPQD1sIAfbIRNAgASBw6kB+D+ldesW7JkQQOqC+TkcWwVAu8xEieQG5z8a/zDGPigYQEUGF0G0rCNAggUYOTkCAkDKCZ/5abcUQDQXBiUzvQhALGb28tqP9D8IJGI5h/oXQMpBvp+5Yeo/amUv0Hzm3D8KRC9+qNEWQGRnsEoaWgRANPsWRM80XkCDYw0nGu8gQCqT/4AElPY/16tqzosqI0C7san3x3vgP5fSt0lRIuk/dG0OdP6QDkBqz79xVbodQOJuxy8JPPI/9Z+My4QHwz/uYvinQ2TzP4lVhv3/9BRAizs/E5rPMkD+t9RyzmcPQEA3qG2XQCdAXIrcuKvm/D8+O0bwaV38P7kKA7UKEhdAwKXAv0/j+j+uMVeJVuciQEOEaDdKD/s/B/rxLdBm8T/v+3pY1OsiQH9cwjHf7wtA7SLhN+vQ+D8y3gdSdOkVQDYhSvoQKgVAyQmp9J9H/j8g9WOxwgccQJNNCXaruhZA9rfztDgILUCXozXH5L8QQD4v9fb2ogNAP7hfo+R7HkBFEsEnWZ8bQAS4fxCbxRRAwusHBYAqH0DlWZSGee8IQPOMgtaD+R1A+N85e23VFUB0ueiA3i0OQJ3QJwY2mPM/Aw+eLc1VB0BDP67iE38dQJmgGlrmgPQ/pey2VRkVA0CGvJ2nnOshQP+0r6eqtAdArDoZwLUDFkBXvDNQkTsjQHEHnalB3QNArnWaaoL65D+WXOKoJrEfQAlmn2V7TgdAjNiXwp5+HUAstoFYmYUgQJPEaKarVQRAFRdmogWQCECBT9MWucYAQA==",
          "dtype": "f8"
         },
         "xaxis": "x7",
         "yaxis": "y7"
        },
        {
         "hovertemplate": "<b>Annotation Error</b><br>Range: %{x:.1f}%<br>Count: %{y}<extra></extra>",
         "marker": {
          "color": "#4ECDC4"
         },
         "name": "📝 Circle Male",
         "nbinsx": 30,
         "opacity": 0.7,
         "showlegend": false,
         "type": "histogram",
         "x": {
          "bdata": "IwClfAfnFED79lCb2SIZQHc5sV5j+PM/rw71QZ9jNEBIaTdBliPQP7DgV7MWJBBAEwxLBSv3R0AyLbkOwOZPQEszHMZ+GhdAWvy8GqoX7j94od4UK5j3Pw+0tfU8PAZAX72o0EoFBEA=",
          "dtype": "f8"
         },
         "xaxis": "x8",
         "yaxis": "y8"
        },
        {
         "hovertemplate": "<b>Annotation Error</b><br>Range: %{x:.1f}%<br>Count: %{y}<extra></extra>",
         "marker": {
          "color": "#45B7D1"
         },
         "name": "📝 Square",
         "nbinsx": 30,
         "opacity": 0.7,
         "showlegend": false,
         "type": "histogram",
         "x": {
          "bdata": "xiG9Xq4RCEBMRMzruscSQOy7klCz3gtAwQSrM6MQFkCRXLnL/BohQADCrtLisBpAda7FNLTQLkCr0FN14JMgQGnYRal9SPk/uGyBhcgUM0CqB+rs+yISQKi2wYsMP9c/N/SFmjcPtj/8qfp5u60LQA==",
          "dtype": "f8"
         },
         "xaxis": "x9",
         "yaxis": "y9"
        }
       ],
       "layout": {
        "annotations": [
         {
          "font": {
           "size": 16
          },
          "showarrow": false,
          "text": "Circle Female",
          "x": 0.14666666666666667,
          "xanchor": "center",
          "xref": "paper",
          "y": 1,
          "yanchor": "bottom",
          "yref": "paper"
         },
         {
          "font": {
           "size": 16
          },
          "showarrow": false,
          "text": "Circle Male",
          "x": 0.49,
          "xanchor": "center",
          "xref": "paper",
          "y": 1,
          "yanchor": "bottom",
          "yref": "paper"
         },
         {
          "font": {
           "size": 16
          },
          "showarrow": false,
          "text": "Square",
          "x": 0.8333333333333333,
          "xanchor": "center",
          "xref": "paper",
          "y": 1,
          "yanchor": "bottom",
          "yref": "paper"
         },
         {
          "font": {
           "size": 16
          },
          "showarrow": false,
          "text": "Circle Female",
          "x": 0.14666666666666667,
          "xanchor": "center",
          "xref": "paper",
          "y": 0.6399999999999999,
          "yanchor": "bottom",
          "yref": "paper"
         },
         {
          "font": {
           "size": 16
          },
          "showarrow": false,
          "text": "Circle Male",
          "x": 0.49,
          "xanchor": "center",
          "xref": "paper",
          "y": 0.6399999999999999,
          "yanchor": "bottom",
          "yref": "paper"
         },
         {
          "font": {
           "size": 16
          },
          "showarrow": false,
          "text": "Square",
          "x": 0.8333333333333333,
          "xanchor": "center",
          "xref": "paper",
          "y": 0.6399999999999999,
          "yanchor": "bottom",
          "yref": "paper"
         },
         {
          "font": {
           "size": 16
          },
          "showarrow": false,
          "text": "Circle Female",
          "x": 0.14666666666666667,
          "xanchor": "center",
          "xref": "paper",
          "y": 0.27999999999999997,
          "yanchor": "bottom",
          "yref": "paper"
         },
         {
          "font": {
           "size": 16
          },
          "showarrow": false,
          "text": "Circle Male",
          "x": 0.49,
          "xanchor": "center",
          "xref": "paper",
          "y": 0.27999999999999997,
          "yanchor": "bottom",
          "yref": "paper"
         },
         {
          "font": {
           "size": 16
          },
          "showarrow": false,
          "text": "Square",
          "x": 0.8333333333333333,
          "xanchor": "center",
          "xref": "paper",
          "y": 0.27999999999999997,
          "yanchor": "bottom",
          "yref": "paper"
         },
         {
          "font": {
           "size": 16
          },
          "showarrow": false,
          "text": "📐 Scale Error Distribution",
          "textangle": 90,
          "x": 0.98,
          "xanchor": "left",
          "xref": "paper",
          "y": 0.86,
          "yanchor": "middle",
          "yref": "paper"
         },
         {
          "font": {
           "size": 16
          },
          "showarrow": false,
          "text": "🔍 Pixel Error Distribution",
          "textangle": 90,
          "x": 0.98,
          "xanchor": "left",
          "xref": "paper",
          "y": 0.49999999999999994,
          "yanchor": "middle",
          "yref": "paper"
         },
         {
          "font": {
           "size": 16
          },
          "showarrow": false,
          "text": "📝 Annotation Error Distribution",
          "textangle": 90,
          "x": 0.98,
          "xanchor": "left",
          "xref": "paper",
          "y": 0.13999999999999999,
          "yanchor": "middle",
          "yref": "paper"
         },
         {
          "showarrow": false,
          "text": "Median: 7.8%",
          "x": 7.807832365578111,
          "xanchor": "center",
          "xref": "x",
          "y": 1,
          "yanchor": "bottom",
          "yref": "y domain"
         },
         {
          "showarrow": false,
          "text": "Median: 14.6%",
          "x": 14.556762602978901,
          "xanchor": "center",
          "xref": "x2",
          "y": 1,
          "yanchor": "bottom",
          "yref": "y2 domain"
         },
         {
          "showarrow": false,
          "text": "Median: 4.3%",
          "x": 4.327627866598123,
          "xanchor": "center",
          "xref": "x3",
          "y": 1,
          "yanchor": "bottom",
          "yref": "y3 domain"
         },
         {
          "showarrow": false,
          "text": "Median: 4.7%",
          "x": 4.737012313721348,
          "xanchor": "center",
          "xref": "x4",
          "y": 1,
          "yanchor": "bottom",
          "yref": "y4 domain"
         },
         {
          "showarrow": false,
          "text": "Median: 5.7%",
          "x": 5.67057780979981,
          "xanchor": "center",
          "xref": "x5",
          "y": 1,
          "yanchor": "bottom",
          "yref": "y5 domain"
         },
         {
          "showarrow": false,
          "text": "Median: 4.7%",
          "x": 4.697818771804808,
          "xanchor": "center",
          "xref": "x6",
          "y": 1,
          "yanchor": "bottom",
          "yref": "y6 domain"
         },
         {
          "showarrow": false,
          "text": "Median: 3.8%",
          "x": 3.796597439666977,
          "xanchor": "center",
          "xref": "x7",
          "y": 1,
          "yanchor": "bottom",
          "yref": "y7 domain"
         },
         {
          "showarrow": false,
          "text": "Median: 4.0%",
          "x": 4.035242845762852,
          "xanchor": "center",
          "xref": "x8",
          "y": 1,
          "yanchor": "bottom",
          "yref": "y8 domain"
         },
         {
          "showarrow": false,
          "text": "Median: 4.6%",
          "x": 4.614606564582114,
          "xanchor": "center",
          "xref": "x9",
          "y": 1,
          "yanchor": "bottom",
          "yref": "y9 domain"
         }
        ],
        "height": 800,
        "legend": {
         "orientation": "h",
         "x": 1,
         "xanchor": "right",
         "y": 1.02,
         "yanchor": "bottom"
        },
        "shapes": [
         {
          "line": {
           "color": "red",
           "dash": "dash"
          },
          "type": "line",
          "x0": 7.807832365578111,
          "x1": 7.807832365578111,
          "xref": "x",
          "y0": 0,
          "y1": 1,
          "yref": "y domain"
         },
         {
          "line": {
           "color": "red",
           "dash": "dash"
          },
          "type": "line",
          "x0": 14.556762602978901,
          "x1": 14.556762602978901,
          "xref": "x2",
          "y0": 0,
          "y1": 1,
          "yref": "y2 domain"
         },
         {
          "line": {
           "color": "red",
           "dash": "dash"
          },
          "type": "line",
          "x0": 4.327627866598123,
          "x1": 4.327627866598123,
          "xref": "x3",
          "y0": 0,
          "y1": 1,
          "yref": "y3 domain"
         },
         {
          "line": {
           "color": "red",
           "dash": "dash"
          },
          "type": "line",
          "x0": 4.737012313721348,
          "x1": 4.737012313721348,
          "xref": "x4",
          "y0": 0,
          "y1": 1,
          "yref": "y4 domain"
         },
         {
          "line": {
           "color": "red",
           "dash": "dash"
          },
          "type": "line",
          "x0": 5.67057780979981,
          "x1": 5.67057780979981,
          "xref": "x5",
          "y0": 0,
          "y1": 1,
          "yref": "y5 domain"
         },
         {
          "line": {
           "color": "red",
           "dash": "dash"
          },
          "type": "line",
          "x0": 4.697818771804808,
          "x1": 4.697818771804808,
          "xref": "x6",
          "y0": 0,
          "y1": 1,
          "yref": "y6 domain"
         },
         {
          "line": {
           "color": "red",
           "dash": "dash"
          },
          "type": "line",
          "x0": 3.796597439666977,
          "x1": 3.796597439666977,
          "xref": "x7",
          "y0": 0,
          "y1": 1,
          "yref": "y7 domain"
         },
         {
          "line": {
           "color": "red",
           "dash": "dash"
          },
          "type": "line",
          "x0": 4.035242845762852,
          "x1": 4.035242845762852,
          "xref": "x8",
          "y0": 0,
          "y1": 1,
          "yref": "y8 domain"
         },
         {
          "line": {
           "color": "red",
           "dash": "dash"
          },
          "type": "line",
          "x0": 4.614606564582114,
          "x1": 4.614606564582114,
          "xref": "x9",
          "y0": 0,
          "y1": 1,
          "yref": "y9 domain"
         }
        ],
        "showlegend": true,
        "template": {
         "data": {
          "bar": [
           {
            "error_x": {
             "color": "#2a3f5f"
            },
            "error_y": {
             "color": "#2a3f5f"
            },
            "marker": {
             "line": {
              "color": "#E5ECF6",
              "width": 0.5
             },
             "pattern": {
              "fillmode": "overlay",
              "size": 10,
              "solidity": 0.2
             }
            },
            "type": "bar"
           }
          ],
          "barpolar": [
           {
            "marker": {
             "line": {
              "color": "#E5ECF6",
              "width": 0.5
             },
             "pattern": {
              "fillmode": "overlay",
              "size": 10,
              "solidity": 0.2
             }
            },
            "type": "barpolar"
           }
          ],
          "carpet": [
           {
            "aaxis": {
             "endlinecolor": "#2a3f5f",
             "gridcolor": "white",
             "linecolor": "white",
             "minorgridcolor": "white",
             "startlinecolor": "#2a3f5f"
            },
            "baxis": {
             "endlinecolor": "#2a3f5f",
             "gridcolor": "white",
             "linecolor": "white",
             "minorgridcolor": "white",
             "startlinecolor": "#2a3f5f"
            },
            "type": "carpet"
           }
          ],
          "choropleth": [
           {
            "colorbar": {
             "outlinewidth": 0,
             "ticks": ""
            },
            "type": "choropleth"
           }
          ],
          "contour": [
           {
            "colorbar": {
             "outlinewidth": 0,
             "ticks": ""
            },
            "colorscale": [
             [
              0,
              "#0d0887"
             ],
             [
              0.1111111111111111,
              "#46039f"
             ],
             [
              0.2222222222222222,
              "#7201a8"
             ],
             [
              0.3333333333333333,
              "#9c179e"
             ],
             [
              0.4444444444444444,
              "#bd3786"
             ],
             [
              0.5555555555555556,
              "#d8576b"
             ],
             [
              0.6666666666666666,
              "#ed7953"
             ],
             [
              0.7777777777777778,
              "#fb9f3a"
             ],
             [
              0.8888888888888888,
              "#fdca26"
             ],
             [
              1,
              "#f0f921"
             ]
            ],
            "type": "contour"
           }
          ],
          "contourcarpet": [
           {
            "colorbar": {
             "outlinewidth": 0,
             "ticks": ""
            },
            "type": "contourcarpet"
           }
          ],
          "heatmap": [
           {
            "colorbar": {
             "outlinewidth": 0,
             "ticks": ""
            },
            "colorscale": [
             [
              0,
              "#0d0887"
             ],
             [
              0.1111111111111111,
              "#46039f"
             ],
             [
              0.2222222222222222,
              "#7201a8"
             ],
             [
              0.3333333333333333,
              "#9c179e"
             ],
             [
              0.4444444444444444,
              "#bd3786"
             ],
             [
              0.5555555555555556,
              "#d8576b"
             ],
             [
              0.6666666666666666,
              "#ed7953"
             ],
             [
              0.7777777777777778,
              "#fb9f3a"
             ],
             [
              0.8888888888888888,
              "#fdca26"
             ],
             [
              1,
              "#f0f921"
             ]
            ],
            "type": "heatmap"
           }
          ],
          "histogram": [
           {
            "marker": {
             "pattern": {
              "fillmode": "overlay",
              "size": 10,
              "solidity": 0.2
             }
            },
            "type": "histogram"
           }
          ],
          "histogram2d": [
           {
            "colorbar": {
             "outlinewidth": 0,
             "ticks": ""
            },
            "colorscale": [
             [
              0,
              "#0d0887"
             ],
             [
              0.1111111111111111,
              "#46039f"
             ],
             [
              0.2222222222222222,
              "#7201a8"
             ],
             [
              0.3333333333333333,
              "#9c179e"
             ],
             [
              0.4444444444444444,
              "#bd3786"
             ],
             [
              0.5555555555555556,
              "#d8576b"
             ],
             [
              0.6666666666666666,
              "#ed7953"
             ],
             [
              0.7777777777777778,
              "#fb9f3a"
             ],
             [
              0.8888888888888888,
              "#fdca26"
             ],
             [
              1,
              "#f0f921"
             ]
            ],
            "type": "histogram2d"
           }
          ],
          "histogram2dcontour": [
           {
            "colorbar": {
             "outlinewidth": 0,
             "ticks": ""
            },
            "colorscale": [
             [
              0,
              "#0d0887"
             ],
             [
              0.1111111111111111,
              "#46039f"
             ],
             [
              0.2222222222222222,
              "#7201a8"
             ],
             [
              0.3333333333333333,
              "#9c179e"
             ],
             [
              0.4444444444444444,
              "#bd3786"
             ],
             [
              0.5555555555555556,
              "#d8576b"
             ],
             [
              0.6666666666666666,
              "#ed7953"
             ],
             [
              0.7777777777777778,
              "#fb9f3a"
             ],
             [
              0.8888888888888888,
              "#fdca26"
             ],
             [
              1,
              "#f0f921"
             ]
            ],
            "type": "histogram2dcontour"
           }
          ],
          "mesh3d": [
           {
            "colorbar": {
             "outlinewidth": 0,
             "ticks": ""
            },
            "type": "mesh3d"
           }
          ],
          "parcoords": [
           {
            "line": {
             "colorbar": {
              "outlinewidth": 0,
              "ticks": ""
             }
            },
            "type": "parcoords"
           }
          ],
          "pie": [
           {
            "automargin": true,
            "type": "pie"
           }
          ],
          "scatter": [
           {
            "fillpattern": {
             "fillmode": "overlay",
             "size": 10,
             "solidity": 0.2
            },
            "type": "scatter"
           }
          ],
          "scatter3d": [
           {
            "line": {
             "colorbar": {
              "outlinewidth": 0,
              "ticks": ""
             }
            },
            "marker": {
             "colorbar": {
              "outlinewidth": 0,
              "ticks": ""
             }
            },
            "type": "scatter3d"
           }
          ],
          "scattercarpet": [
           {
            "marker": {
             "colorbar": {
              "outlinewidth": 0,
              "ticks": ""
             }
            },
            "type": "scattercarpet"
           }
          ],
          "scattergeo": [
           {
            "marker": {
             "colorbar": {
              "outlinewidth": 0,
              "ticks": ""
             }
            },
            "type": "scattergeo"
           }
          ],
          "scattergl": [
           {
            "marker": {
             "colorbar": {
              "outlinewidth": 0,
              "ticks": ""
             }
            },
            "type": "scattergl"
           }
          ],
          "scattermap": [
           {
            "marker": {
             "colorbar": {
              "outlinewidth": 0,
              "ticks": ""
             }
            },
            "type": "scattermap"
           }
          ],
          "scattermapbox": [
           {
            "marker": {
             "colorbar": {
              "outlinewidth": 0,
              "ticks": ""
             }
            },
            "type": "scattermapbox"
           }
          ],
          "scatterpolar": [
           {
            "marker": {
             "colorbar": {
              "outlinewidth": 0,
              "ticks": ""
             }
            },
            "type": "scatterpolar"
           }
          ],
          "scatterpolargl": [
           {
            "marker": {
             "colorbar": {
              "outlinewidth": 0,
              "ticks": ""
             }
            },
            "type": "scatterpolargl"
           }
          ],
          "scatterternary": [
           {
            "marker": {
             "colorbar": {
              "outlinewidth": 0,
              "ticks": ""
             }
            },
            "type": "scatterternary"
           }
          ],
          "surface": [
           {
            "colorbar": {
             "outlinewidth": 0,
             "ticks": ""
            },
            "colorscale": [
             [
              0,
              "#0d0887"
             ],
             [
              0.1111111111111111,
              "#46039f"
             ],
             [
              0.2222222222222222,
              "#7201a8"
             ],
             [
              0.3333333333333333,
              "#9c179e"
             ],
             [
              0.4444444444444444,
              "#bd3786"
             ],
             [
              0.5555555555555556,
              "#d8576b"
             ],
             [
              0.6666666666666666,
              "#ed7953"
             ],
             [
              0.7777777777777778,
              "#fb9f3a"
             ],
             [
              0.8888888888888888,
              "#fdca26"
             ],
             [
              1,
              "#f0f921"
             ]
            ],
            "type": "surface"
           }
          ],
          "table": [
           {
            "cells": {
             "fill": {
              "color": "#EBF0F8"
             },
             "line": {
              "color": "white"
             }
            },
            "header": {
             "fill": {
              "color": "#C8D4E3"
             },
             "line": {
              "color": "white"
             }
            },
            "type": "table"
           }
          ]
         },
         "layout": {
          "annotationdefaults": {
           "arrowcolor": "#2a3f5f",
           "arrowhead": 0,
           "arrowwidth": 1
          },
          "autotypenumbers": "strict",
          "coloraxis": {
           "colorbar": {
            "outlinewidth": 0,
            "ticks": ""
           }
          },
          "colorscale": {
           "diverging": [
            [
             0,
             "#8e0152"
            ],
            [
             0.1,
             "#c51b7d"
            ],
            [
             0.2,
             "#de77ae"
            ],
            [
             0.3,
             "#f1b6da"
            ],
            [
             0.4,
             "#fde0ef"
            ],
            [
             0.5,
             "#f7f7f7"
            ],
            [
             0.6,
             "#e6f5d0"
            ],
            [
             0.7,
             "#b8e186"
            ],
            [
             0.8,
             "#7fbc41"
            ],
            [
             0.9,
             "#4d9221"
            ],
            [
             1,
             "#276419"
            ]
           ],
           "sequential": [
            [
             0,
             "#0d0887"
            ],
            [
             0.1111111111111111,
             "#46039f"
            ],
            [
             0.2222222222222222,
             "#7201a8"
            ],
            [
             0.3333333333333333,
             "#9c179e"
            ],
            [
             0.4444444444444444,
             "#bd3786"
            ],
            [
             0.5555555555555556,
             "#d8576b"
            ],
            [
             0.6666666666666666,
             "#ed7953"
            ],
            [
             0.7777777777777778,
             "#fb9f3a"
            ],
            [
             0.8888888888888888,
             "#fdca26"
            ],
            [
             1,
             "#f0f921"
            ]
           ],
           "sequentialminus": [
            [
             0,
             "#0d0887"
            ],
            [
             0.1111111111111111,
             "#46039f"
            ],
            [
             0.2222222222222222,
             "#7201a8"
            ],
            [
             0.3333333333333333,
             "#9c179e"
            ],
            [
             0.4444444444444444,
             "#bd3786"
            ],
            [
             0.5555555555555556,
             "#d8576b"
            ],
            [
             0.6666666666666666,
             "#ed7953"
            ],
            [
             0.7777777777777778,
             "#fb9f3a"
            ],
            [
             0.8888888888888888,
             "#fdca26"
            ],
            [
             1,
             "#f0f921"
            ]
           ]
          },
          "colorway": [
           "#636efa",
           "#EF553B",
           "#00cc96",
           "#ab63fa",
           "#FFA15A",
           "#19d3f3",
           "#FF6692",
           "#B6E880",
           "#FF97FF",
           "#FECB52"
          ],
          "font": {
           "color": "#2a3f5f"
          },
          "geo": {
           "bgcolor": "white",
           "lakecolor": "white",
           "landcolor": "#E5ECF6",
           "showlakes": true,
           "showland": true,
           "subunitcolor": "white"
          },
          "hoverlabel": {
           "align": "left"
          },
          "hovermode": "closest",
          "mapbox": {
           "style": "light"
          },
          "paper_bgcolor": "white",
          "plot_bgcolor": "#E5ECF6",
          "polar": {
           "angularaxis": {
            "gridcolor": "white",
            "linecolor": "white",
            "ticks": ""
           },
           "bgcolor": "#E5ECF6",
           "radialaxis": {
            "gridcolor": "white",
            "linecolor": "white",
            "ticks": ""
           }
          },
          "scene": {
           "xaxis": {
            "backgroundcolor": "#E5ECF6",
            "gridcolor": "white",
            "gridwidth": 2,
            "linecolor": "white",
            "showbackground": true,
            "ticks": "",
            "zerolinecolor": "white"
           },
           "yaxis": {
            "backgroundcolor": "#E5ECF6",
            "gridcolor": "white",
            "gridwidth": 2,
            "linecolor": "white",
            "showbackground": true,
            "ticks": "",
            "zerolinecolor": "white"
           },
           "zaxis": {
            "backgroundcolor": "#E5ECF6",
            "gridcolor": "white",
            "gridwidth": 2,
            "linecolor": "white",
            "showbackground": true,
            "ticks": "",
            "zerolinecolor": "white"
           }
          },
          "shapedefaults": {
           "line": {
            "color": "#2a3f5f"
           }
          },
          "ternary": {
           "aaxis": {
            "gridcolor": "white",
            "linecolor": "white",
            "ticks": ""
           },
           "baxis": {
            "gridcolor": "white",
            "linecolor": "white",
            "ticks": ""
           },
           "bgcolor": "#E5ECF6",
           "caxis": {
            "gridcolor": "white",
            "linecolor": "white",
            "ticks": ""
           }
          },
          "title": {
           "x": 0.05
          },
          "xaxis": {
           "automargin": true,
           "gridcolor": "white",
           "linecolor": "white",
           "ticks": "",
           "title": {
            "standoff": 15
           },
           "zerolinecolor": "white",
           "zerolinewidth": 2
          },
          "yaxis": {
           "automargin": true,
           "gridcolor": "white",
           "linecolor": "white",
           "ticks": "",
           "title": {
            "standoff": 15
           },
           "zerolinecolor": "white",
           "zerolinewidth": 2
          }
         }
        },
        "title": {
         "font": {
          "size": 20
         },
         "text": "🎪 Error Distribution Circus: A Statistical Spectacular"
        },
        "width": 1200,
        "xaxis": {
         "anchor": "y",
         "domain": [
          0,
          0.29333333333333333
         ],
         "title": {
          "text": "Error (%)"
         }
        },
        "xaxis2": {
         "anchor": "y2",
         "domain": [
          0.3433333333333333,
          0.6366666666666667
         ],
         "title": {
          "text": "Error (%)"
         }
        },
        "xaxis3": {
         "anchor": "y3",
         "domain": [
          0.6866666666666666,
          0.98
         ],
         "title": {
          "text": "Error (%)"
         }
        },
        "xaxis4": {
         "anchor": "y4",
         "domain": [
          0,
          0.29333333333333333
         ],
         "title": {
          "text": "Error (%)"
         }
        },
        "xaxis5": {
         "anchor": "y5",
         "domain": [
          0.3433333333333333,
          0.6366666666666667
         ],
         "title": {
          "text": "Error (%)"
         }
        },
        "xaxis6": {
         "anchor": "y6",
         "domain": [
          0.6866666666666666,
          0.98
         ],
         "title": {
          "text": "Error (%)"
         }
        },
        "xaxis7": {
         "anchor": "y7",
         "domain": [
          0,
          0.29333333333333333
         ],
         "title": {
          "text": "Error (%)"
         }
        },
        "xaxis8": {
         "anchor": "y8",
         "domain": [
          0.3433333333333333,
          0.6366666666666667
         ],
         "title": {
          "text": "Error (%)"
         }
        },
        "xaxis9": {
         "anchor": "y9",
         "domain": [
          0.6866666666666666,
          0.98
         ],
         "title": {
          "text": "Error (%)"
         }
        },
        "yaxis": {
         "anchor": "x",
         "domain": [
          0.72,
          1
         ],
         "title": {
          "text": "Frequency"
         }
        },
        "yaxis2": {
         "anchor": "x2",
         "domain": [
          0.72,
          1
         ],
         "title": {
          "text": "Frequency"
         }
        },
        "yaxis3": {
         "anchor": "x3",
         "domain": [
          0.72,
          1
         ],
         "title": {
          "text": "Frequency"
         }
        },
        "yaxis4": {
         "anchor": "x4",
         "domain": [
          0.36,
          0.6399999999999999
         ],
         "title": {
          "text": "Frequency"
         }
        },
        "yaxis5": {
         "anchor": "x5",
         "domain": [
          0.36,
          0.6399999999999999
         ],
         "title": {
          "text": "Frequency"
         }
        },
        "yaxis6": {
         "anchor": "x6",
         "domain": [
          0.36,
          0.6399999999999999
         ],
         "title": {
          "text": "Frequency"
         }
        },
        "yaxis7": {
         "anchor": "x7",
         "domain": [
          0,
          0.27999999999999997
         ],
         "title": {
          "text": "Frequency"
         }
        },
        "yaxis8": {
         "anchor": "x8",
         "domain": [
          0,
          0.27999999999999997
         ],
         "title": {
          "text": "Frequency"
         }
        },
        "yaxis9": {
         "anchor": "x9",
         "domain": [
          0,
          0.27999999999999997
         ],
         "title": {
          "text": "Frequency"
         }
        }
       }
      }
     },
     "metadata": {},
     "output_type": "display_data"
    },
    {
     "name": "stdout",
     "output_type": "stream",
     "text": [
      "💾 Saved: circle_female_scale_error_histogram.png\n",
      "💾 Saved: circle_female_pixel_error_histogram.png\n",
      "💾 Saved: circle_female_annotation_error_histogram.png\n",
      "💾 Saved: circle_male_scale_error_histogram.png\n",
      "💾 Saved: circle_male_pixel_error_histogram.png\n",
      "💾 Saved: circle_male_annotation_error_histogram.png\n",
      "💾 Saved: square_scale_error_histogram.png\n",
      "💾 Saved: square_pixel_error_histogram.png\n",
      "💾 Saved: square_annotation_error_histogram.png\n",
      "✅ All visualizations created and saved!\n"
     ]
    }
   ],
   "source": [
    "def create_statistical_visualizations(statistical_results: Dict[str, Dict], output_dir: Path) -> None:\n",
    "    \"\"\"\n",
    "    🎨 Create beautiful histogram visualizations with consistent colors.\n",
    "    \"\"\"\n",
    "    pond_types = list(statistical_results.keys())\n",
    "    \n",
    "    # Create comprehensive histogram dashboard\n",
    "    fig = make_subplots(\n",
    "        rows=3, cols=len(pond_types),\n",
    "        subplot_titles=[f'{pond_type.replace(\"_\", \" \").title()}' for pond_type in pond_types] * 3,\n",
    "        row_titles=['📐 Scale Error Distribution', '🔍 Pixel Error Distribution', '📝 Annotation Error Distribution'],\n",
    "        vertical_spacing=0.08,\n",
    "        horizontal_spacing=0.05\n",
    "    )\n",
    "    \n",
    "    error_types = ['scale_error', 'pixel_error', 'annotation_error']\n",
    "    error_icons = ['📐', '🔍', '📝']\n",
    "    \n",
    "    for row, (error_type, icon) in enumerate(zip(error_types, error_icons), 1):\n",
    "        for col, pond_type in enumerate(pond_types, 1):\n",
    "            data = statistical_results[pond_type][error_type]['data']\n",
    "            color = POND_COLORS.get(pond_type, '#333333')\n",
    "            \n",
    "            # Add histogram\n",
    "            fig.add_trace(\n",
    "                go.Histogram(\n",
    "                    x=data,\n",
    "                    nbinsx=30,\n",
    "                    name=f'{icon} {pond_type.replace(\"_\", \" \").title()}',\n",
    "                    marker_color=color,\n",
    "                    opacity=0.7,\n",
    "                    showlegend=(row == 1),  # Only show legend for first row\n",
    "                    hovertemplate=f\"<b>{error_type.replace('_', ' ').title()}</b><br>\" +\n",
    "                                f\"Range: %{{x:.1f}}%<br>\" +\n",
    "                                f\"Count: %{{y}}<extra></extra>\"\n",
    "                ),\n",
    "                row=row, col=col\n",
    "            )\n",
    "            \n",
    "            # Add median line\n",
    "            median_val = statistical_results[pond_type][error_type]['median']\n",
    "            fig.add_vline(\n",
    "                x=median_val,\n",
    "                line_dash=\"dash\",\n",
    "                line_color=\"red\",\n",
    "                annotation_text=f\"Median: {median_val:.1f}%\",\n",
    "                annotation_position=\"top\",\n",
    "                row=row, col=col\n",
    "            )\n",
    "    \n",
    "    # Update layout\n",
    "    fig.update_layout(\n",
    "        title_text=\"🎪 Error Distribution Circus: A Statistical Spectacular\",\n",
    "        title_font_size=20,\n",
    "        height=800,\n",
    "        width=400*len(pond_types),\n",
    "        showlegend=True,\n",
    "        legend=dict(\n",
    "            orientation=\"h\",\n",
    "            yanchor=\"bottom\",\n",
    "            y=1.02,\n",
    "            xanchor=\"right\",\n",
    "            x=1\n",
    "        )\n",
    "    )\n",
    "    \n",
    "    # Update axes\n",
    "    for row in range(1, 4):\n",
    "        for col in range(1, len(pond_types) + 1):\n",
    "            fig.update_xaxes(title_text=\"Error (%)\", row=row, col=col)\n",
    "            fig.update_yaxes(title_text=\"Frequency\", row=row, col=col)\n",
    "    \n",
    "    fig.show()\n",
    "    \n",
    "    # Save individual histograms for each error type and pond\n",
    "    for pond_type in pond_types:\n",
    "        color = POND_COLORS.get(pond_type, '#333333')\n",
    "        \n",
    "        for error_type, icon in zip(error_types, error_icons):\n",
    "            data = statistical_results[pond_type][error_type]['data']\n",
    "            \n",
    "            # Create individual histogram\n",
    "            fig_individual = px.histogram(\n",
    "                x=data,\n",
    "                nbins=50,\n",
    "                title=f'{icon} {error_type.replace(\"_\", \" \").title()} Distribution - {pond_type.replace(\"_\", \" \").title()}',\n",
    "                labels={'x': 'Error (%)', 'y': 'Frequency'},\n",
    "                color_discrete_sequence=[color]\n",
    "            )\n",
    "            \n",
    "            # Add median line\n",
    "            median_val = statistical_results[pond_type][error_type]['median']\n",
    "            fig_individual.add_vline(\n",
    "                x=median_val,\n",
    "                line_dash=\"dash\",\n",
    "                line_color=\"red\",\n",
    "                annotation_text=f\"Median: {median_val:.1f}%\"\n",
    "            )\n",
    "            \n",
    "            # Save figure\n",
    "            filename = f'{pond_type}_{error_type}_histogram.png'\n",
    "            fig_individual.write_image(output_dir / filename)\n",
    "            print(f\"💾 Saved: {filename}\")\n",
    "\n",
    "# 🎨 Create visualizations\n",
    "print(\"\\n🎨 Creating statistical visualizations...\")\n",
    "create_statistical_visualizations(statistical_results, output_dir)\n",
    "print(\"✅ All visualizations created and saved!\")\n"
   ]
  },
  {
   "cell_type": "markdown",
   "metadata": {
    "vscode": {
     "languageId": "raw"
    }
   },
   "source": [
    "# 🔍 Annotation Quality Comparison: ImageJ vs Roboflow Showdown\n",
    "\n",
    "## 🎯 **The Great Annotation Battle**\n",
    "\n",
    "In this analysis, we're conducting a head-to-head comparison between two different annotation methods to understand which provides more accurate ground truth measurements for our prawn detection algorithm.\n",
    "\n",
    "### 🥊 **The Competitors**\n",
    "\n",
    "#### 🔬 **ImageJ Annotation Error** (Manual Scientific Method)\n",
    "- **What it measures**: `|mean_pixels - pred_Distance_pixels|`\n",
    "- **Ground truth**: Manual measurements using ImageJ scientific software\n",
    "- **Characteristics**: High precision, researcher-controlled, time-intensive\n",
    "- **Expected advantage**: Scientific rigor and careful manual verification\n",
    "\n",
    "#### 🤖 **Roboflow Annotation Error** (AI-Assisted Method) \n",
    "- **What it measures**: `|pred_Distance_pixels - Length_ground_truth_annotation_pixels|`\n",
    "- **Ground truth**: Roboflow platform annotations (semi-automated)\n",
    "- **Characteristics**: Faster annotation, potentially more consistent, AI-assisted\n",
    "- **Expected advantage**: Speed and consistency across large datasets\n",
    "\n",
    "---\n",
    "\n",
    "## 🔬 **Research Questions**\n",
    "\n",
    "### 1. **Accuracy Comparison** 📊\n",
    "- Which annotation method produces smaller pixel-level errors?\n",
    "- Are the differences statistically significant across pond types?\n",
    "\n",
    "### 2. **Pond-Specific Patterns** 🏊‍♀️\n",
    "- Do different pond environments favor one annotation method over another?\n",
    "- Are there systematic biases in either approach?\n",
    "\n",
    "### 3. **Practical Implications** ⚡\n",
    "- Which method should we use for future ground truth generation?\n",
    "- Can we identify when one method is likely to outperform the other?\n",
    "\n",
    "---\n",
    "\n",
    "## 📈 **Analysis Methodology**\n",
    "\n",
    "### **Error Calculation**\n",
    "For each pond type, we calculate:\n",
    "- **ImageJ Error**: Absolute difference between manual measurements and predictions\n",
    "- **Roboflow Error**: Absolute difference between Roboflow annotations and predictions\n",
    "- **Comparison Metric**: Percentage of cases where Roboflow error < ImageJ error\n",
    "\n",
    "### **Visualization Strategy**\n",
    "- **Box Plots**: Show distribution of errors for each method across pond types\n",
    "- **Statistical Summary**: Mean errors and success rates for each approach\n",
    "- **Pond-Specific Analysis**: Understand environmental factors affecting each method\n",
    "\n",
    "---\n",
    "\n",
    "## 🎪 **Expected Insights**\n",
    "\n",
    "### **Hypothesis 1: Method-Environment Interaction**\n",
    "Different pond types may favor different annotation methods:\n",
    "- **Complex environments** (square ponds) might benefit from careful ImageJ annotation\n",
    "- **Uniform environments** (circular ponds) might work well with Roboflow consistency\n",
    "\n",
    "### **Hypothesis 2: Scale-Dependent Performance**\n",
    "- **Large prawns**: Manual ImageJ precision might be advantageous\n",
    "- **Small prawns**: Roboflow consistency might reduce human error\n",
    "\n",
    "### **Hypothesis 3: Error Distribution Patterns**\n",
    "- **ImageJ**: Higher precision but potentially more variable (human factors)\n",
    "- **Roboflow**: More consistent but potentially systematic biases\n",
    "\n",
    "---\n",
    "\n",
    "## 🚀 **Let's Discover the Winner!**\n",
    "\n",
    "The following analysis will reveal which annotation method provides the most reliable ground truth for our prawn measurement system...\n"
   ]
  },
  {
   "cell_type": "markdown",
   "metadata": {
    "vscode": {
     "languageId": "raw"
    }
   },
   "source": [
    "# 🏆 Annotation Quality Results: The Verdict is In!\n",
    "\n",
    "## 📊 **Statistical Battle Results**\n",
    "\n",
    "### 🟢 **Circle Female Pond** (Most Balanced Competition)\n",
    "- **🤖 Roboflow Wins**: `52.63%` of cases (50 out of 95 measurements)\n",
    "- **📊 Mean Errors**: ImageJ = `25.05 pixels` vs Roboflow = `22.10 pixels`\n",
    "- **🎯 Verdict**: **Slight Roboflow advantage** - More consistent performance\n",
    "\n",
    "### 🔴 **Circle Male Pond** (Clear Roboflow Victory)\n",
    "- **🤖 Roboflow Wins**: `76.92%` of cases (10 out of 13 measurements)\n",
    "- **📊 Mean Errors**: ImageJ = `30.52 pixels` vs Roboflow = `18.41 pixels`\n",
    "- **🎯 Verdict**: **Strong Roboflow advantage** - Significantly better accuracy\n",
    "\n",
    "### 🟡 **Square Pond** (Moderate Roboflow Lead)\n",
    "- **🤖 Roboflow Wins**: `59.38%` of cases (19 out of 32 measurements)\n",
    "- **📊 Mean Errors**: ImageJ = `52.04 pixels` vs Roboflow = `39.39 pixels`\n",
    "- **🎯 Verdict**: **Clear Roboflow advantage** - Better performance in complex environment\n",
    "\n",
    "---\n",
    "\n",
    "## 🔍 **Critical Insights Discovered**\n",
    "\n",
    "### 1. **Roboflow Dominance Across All Environments** 🏆\n",
    "**Surprising Finding**: Roboflow consistently outperforms ImageJ across all pond types!\n",
    "- **Circle Female**: 52.6% win rate (close competition)\n",
    "- **Circle Male**: 76.9% win rate (dominant performance)\n",
    "- **Square**: 59.4% win rate (solid advantage)\n",
    "\n",
    "### 2. **Environment-Specific Performance Patterns** 🏊‍♀️\n",
    "\n",
    "#### **Circle Male = Roboflow's Strongest Domain**\n",
    "- **Highest win rate** (76.9%) and **largest error gap** (30.52 vs 18.41 pixels)\n",
    "- Possibly due to **smaller pond size** making automated annotation more precise\n",
    "- **Male prawn behavior** might be more predictable for AI systems\n",
    "\n",
    "#### **Square Pond = Most Challenging for Both**\n",
    "- **Highest absolute errors** for both methods (ImageJ: 52.04, Roboflow: 39.39)\n",
    "- **Complex geometry** creates annotation challenges\n",
    "- **Roboflow still maintains advantage** despite increased difficulty\n",
    "\n",
    "#### **Circle Female = Most Competitive**\n",
    "- **Closest competition** between methods (52.6% vs 47.4%)\n",
    "- **Lowest absolute errors** for both approaches\n",
    "- **Optimal environment** for both annotation methods\n",
    "\n",
    "### 3. **Error Magnitude Analysis** 📏\n",
    "\n",
    "**Key Pattern**: Roboflow shows **consistently lower error magnitudes**:\n",
    "- **Best case**: Circle Female (22.10 vs 25.05 pixels)\n",
    "- **Moderate case**: Circle Male (18.41 vs 30.52 pixels) \n",
    "- **Challenging case**: Square (39.39 vs 52.04 pixels)\n",
    "\n",
    "---\n",
    "\n",
    "## 🎯 **Practical Implications**\n",
    "\n",
    "### **For Ground Truth Generation** 📋\n",
    "1. **Primary Recommendation**: Use **Roboflow annotations** as primary ground truth\n",
    "2. **Quality Control**: ImageJ verification for critical measurements in Square ponds\n",
    "3. **Efficiency Gain**: Roboflow's superior performance + speed advantage\n",
    "\n",
    "### **For Algorithm Training** 🤖\n",
    "1. **Training Data**: Roboflow annotations provide more consistent training signals\n",
    "2. **Validation Strategy**: Use ImageJ for independent validation in challenging cases\n",
    "3. **Bias Reduction**: Roboflow's consistency reduces human annotation variability\n",
    "\n",
    "### **For Research Methodology** 🔬\n",
    "1. **Annotation Protocol**: Roboflow-first approach with ImageJ spot-checking\n",
    "2. **Resource Allocation**: Invest in Roboflow workflow optimization\n",
    "3. **Quality Metrics**: Use ImageJ-Roboflow agreement as quality indicator\n",
    "\n",
    "---\n",
    "\n",
    "## 🚀 **Next Steps**\n",
    "\n",
    "The box plots below visualize these error distributions, showing the **spread and central tendencies** that drive these statistical differences across pond environments.\n"
   ]
  },
  {
   "cell_type": "markdown",
   "metadata": {},
   "source": [
    "### pixel error ###"
   ]
  },
  {
   "cell_type": "code",
   "execution_count": 27,
   "metadata": {},
   "outputs": [
    {
     "name": "stdout",
     "output_type": "stream",
     "text": [
      "\n",
      "--- Analysis for Pond Type: circle_female ---\n",
      "Percentage of points where the annotation pixel error is smaller (all pixel error samples): 55.4348%\n",
      "Number of points where the annotation pixel error is smaller (all pixel error samples): 51\n",
      "Mean pixel error: 37.82 pixels\n",
      "Mean annotation pixel error: 36.19 pixels\n",
      "----------------------------------------\n",
      "\n",
      "\n",
      "--- Analysis for Pond Type: circle_male ---\n",
      "Percentage of points where the annotation pixel error is smaller (all pixel error samples): 84.6154%\n",
      "Number of points where the annotation pixel error is smaller (all pixel error samples): 11\n",
      "Mean pixel error: 55.40 pixels\n",
      "Mean annotation pixel error: 40.12 pixels\n",
      "----------------------------------------\n",
      "\n",
      "\n",
      "--- Analysis for Pond Type: square ---\n",
      "Percentage of points where the annotation pixel error is smaller (all pixel error samples): 42.8571%\n",
      "Number of points where the annotation pixel error is smaller (all pixel error samples): 6\n",
      "Mean pixel error: 67.00 pixels\n",
      "Mean annotation pixel error: 62.98 pixels\n",
      "----------------------------------------\n",
      "\n",
      "\n",
      "🎨 Traditional Matplotlib Box Plots for Reference:\n"
     ]
    },
    {
     "data": {
      "image/png": "[encoded data removed]",
      "text/plain": [
       "<Figure size 1800x500 with 3 Axes>"
      ]
     },
     "metadata": {},
     "output_type": "display_data"
    }
   ],
   "source": [
    "# Get unique pond types and prepare data\n",
    "pond_types = df['Pond_Type'].unique()\n",
    "n_pond_types = len(pond_types)\n",
    "\n",
    "# Prepare data for all pond types\n",
    "pond_annotation_data = {}\n",
    "\n",
    "for pond_type in pond_types:\n",
    "    df_pond = df[df['Pond_Type'] == pond_type]\n",
    "    df_pond['pixel_error'] = abs(df_pond['mean_pixels'] - df_pond['pred_Distance_pixels'])\n",
    "    df_pond['annotation_pixel_error'] = abs(df_pond['pred_Distance_pixels'] - df_pond['Length_ground_truth_annotation_pixels'])\n",
    "    df_pond['annotation_pixel_error_smaller'] = df_pond['annotation_pixel_error'] < abs(df_pond['pixel_error'])\n",
    "    \n",
    "    # Print statistics\n",
    "    print(f\"\\n--- Analysis for Pond Type: {pond_type} ---\")\n",
    "    print(f\"Percentage of points where the annotation pixel error is smaller (all pixel error samples): {df_pond['annotation_pixel_error_smaller'].mean()*100:.4f}%\")\n",
    "    print(f\"Number of points where the annotation pixel error is smaller (all pixel error samples): {df_pond['annotation_pixel_error_smaller'].sum()}\")\n",
    "    print(f\"Mean pixel error: {df_pond['pixel_error'].mean():.2f} pixels\")\n",
    "    print(f\"Mean annotation pixel error: {df_pond['annotation_pixel_error'].mean():.2f} pixels\")\n",
    "    print(\"----------------------------------------\\n\")\n",
    "\n",
    "    # Prepare data for plotting\n",
    "    df_long = (df_pond[['pixel_error', 'annotation_pixel_error']]\n",
    "               .rename(columns={'pixel_error': 'ImageJ annotation error', \n",
    "                               'annotation_pixel_error': 'Roboflow Annotation error'})\n",
    "               .melt(var_name='Error_type', value_name='Error_px'))\n",
    "    \n",
    "    pond_annotation_data[pond_type] = df_long\n",
    "\n",
    "# 📊 Create Enhanced Interactive Box Plots with Plotly\n",
    "\n",
    "\n",
    "# 📈 Also create the traditional matplotlib version for comparison\n",
    "print(\"\\n🎨 Traditional Matplotlib Box Plots for Reference:\")\n",
    "fig_mpl, axes = plt.subplots(1, n_pond_types, figsize=(6*n_pond_types, 5))\n",
    "\n",
    "# Handle case where there's only one pond type\n",
    "if n_pond_types == 1:\n",
    "    axes = [axes]\n",
    "\n",
    "annotation_colors = {\n",
    "    'ImageJ annotation error': '#FF6B6B',\n",
    "    'Roboflow Annotation error': '#4ECDC4'\n",
    "}\n",
    "\n",
    "for i, pond_type in enumerate(pond_types):\n",
    "    df_long = pond_annotation_data[pond_type]\n",
    "    \n",
    "    # Create box plot for each pond type with custom colors\n",
    "    box_plot = sns.boxplot(data=df_long, x='Error_type', y='Error_px', \n",
    "                          palette=[annotation_colors['ImageJ annotation error'], \n",
    "                                 annotation_colors['Roboflow Annotation error']], \n",
    "                          ax=axes[i])\n",
    "    \n",
    "    # Customize each subplot\n",
    "    axes[i].set_ylabel('Error (pixels)', fontsize=12)\n",
    "    axes[i].set_xlabel('', fontsize=12)\n",
    "    axes[i].set_title(f'🏊‍♀️ {pond_type.replace(\"_\", \" \").title()} Pond\\nImageJ vs Roboflow Errors', \n",
    "                     fontsize=13, pad=15)\n",
    "    \n",
    "    # Rotate x-axis labels for better readability\n",
    "    axes[i].tick_params(axis='x', rotation=45, labelsize=10)\n",
    "    axes[i].tick_params(axis='y', labelsize=11)\n",
    "    \n",
    "    # Add grid for better readability\n",
    "    axes[i].grid(True, alpha=0.3, axis='y')\n",
    "\n",
    "plt.suptitle('📊 Annotation Method Comparison: Error Distribution Analysis', \n",
    "             fontsize=16, y=1.02)\n",
    "plt.tight_layout()\n",
    "plt.show()\n",
    "    "
   ]
  },
  {
   "cell_type": "markdown",
   "metadata": {
    "vscode": {
     "languageId": "raw"
    }
   },
   "source": [
    "# 📊 Measurement Variability Analysis: Understanding Precision Boundaries\n",
    "\n",
    "## 🎯 **The Quest for Measurement Consistency**\n",
    "\n",
    "In this critical analysis, we explore the **variability and precision** of our prawn measurement system by examining how algorithm predictions compare to manual ground truth measurements across different pond environments.\n",
    "\n",
    "### 🔬 **What We're Investigating**\n",
    "\n",
    "#### 📏 **Measurement Precision Questions**\n",
    "- How consistent are our algorithm's measurements compared to manual measurements?\n",
    "- Do different pond types show different levels of measurement variability?\n",
    "- What are the **precision boundaries** within which we can trust our measurements?\n",
    "\n",
    "#### 🎯 **Standard Deviation Analysis**\n",
    "- **Standard Deviation Boundaries**: `±std_length` zones around the perfect agreement line\n",
    "- **Agreement Rates**: Percentage of measurements falling within acceptable precision bounds\n",
    "- **Outlier Identification**: Measurements that fall outside expected variability ranges\n",
    "\n",
    "---\n",
    "\n",
    "## 🧮 **Mathematical Framework**\n",
    "\n",
    "### **Perfect Agreement Line**\n",
    "```\n",
    "y = x (where Manual Measurement = Algorithm Prediction)\n",
    "```\n",
    "\n",
    "### **Precision Boundaries**\n",
    "```\n",
    "Upper Bound: y = x + std_length\n",
    "Lower Bound: y = x - std_length\n",
    "```\n",
    "\n",
    "### **Agreement Metric**\n",
    "```\n",
    "Within Bounds % = (Measurements within ±std boundaries / Total Measurements) × 100\n",
    "```\n",
    "\n",
    "---\n",
    "\n",
    "## 🔍 **Analysis Components**\n",
    "\n",
    "### 1. **Scatter Plot Visualization** 📈\n",
    "- **X-axis**: Manual measurements (ground truth)\n",
    "- **Y-axis**: Algorithm predictions\n",
    "- **Perfect Line**: Diagonal line showing ideal agreement\n",
    "- **Precision Zones**: Shaded areas showing acceptable variability\n",
    "\n",
    "### 2. **Statistical Summary** 📊\n",
    "For each pond type, we calculate:\n",
    "- **Mean Length**: Average prawn size in that environment\n",
    "- **Standard Deviation**: Measurement variability baseline\n",
    "- **Sample Size**: Number of prawns measured\n",
    "- **Agreement Rate**: Percentage within precision boundaries\n",
    "\n",
    "### 3. **Interactive Features** 🖱️\n",
    "- **Hover Information**: Shows image name and prawn ID for each point\n",
    "- **Pond-Specific Analysis**: Separate plots for each environment\n",
    "- **Outlier Investigation**: Easy identification of problematic measurements\n",
    "\n",
    "---\n",
    "\n",
    "## 🎪 **Expected Insights**\n",
    "\n",
    "### **Hypothesis 1: Environment-Dependent Precision** 🏊‍♀️\n",
    "Different pond types may show different measurement precision:\n",
    "- **Circle Female**: Expected high precision (controlled environment)\n",
    "- **Circle Male**: Potentially higher variability (behavioral differences)\n",
    "- **Square**: Possible geometric effects on measurement accuracy\n",
    "\n",
    "### **Hypothesis 2: Size-Dependent Accuracy** 📏\n",
    "- **Larger prawns**: Potentially better measurement precision\n",
    "- **Smaller prawns**: Higher relative measurement uncertainty\n",
    "- **Size-environment interaction**: Combined effects of prawn size and pond type\n",
    "\n",
    "### **Hypothesis 3: Systematic vs Random Errors** 🎯\n",
    "- **Random scatter**: Indicates measurement noise\n",
    "- **Systematic bias**: Consistent over/under-estimation patterns\n",
    "- **Outlier clusters**: Specific problematic conditions\n",
    "\n",
    "---\n",
    "\n",
    "## 🚀 **Practical Applications**\n",
    "\n",
    "### **Quality Control Metrics**\n",
    "- **Acceptance Criteria**: Define measurement precision thresholds\n",
    "- **Outlier Detection**: Identify measurements requiring manual verification\n",
    "- **System Validation**: Establish confidence intervals for automated measurements\n",
    "\n",
    "### **Algorithm Improvement**\n",
    "- **Error Pattern Analysis**: Identify systematic biases for correction\n",
    "- **Environment-Specific Tuning**: Optimize parameters for different pond types\n",
    "- **Precision Enhancement**: Focus development on high-variability conditions\n",
    "\n",
    "---\n",
    "\n",
    "## 📈 **Let's Explore the Precision Landscape!**\n",
    "\n",
    "The following analysis will reveal the **measurement precision characteristics** of our system and establish the **reliability boundaries** for automated prawn measurement across different aquaculture environments...\n"
   ]
  },
  {
   "cell_type": "markdown",
   "metadata": {},
   "source": [
    "#variability"
   ]
  },
  {
   "cell_type": "markdown",
   "metadata": {
    "vscode": {
     "languageId": "raw"
    }
   },
   "source": [
    "# 🎯 Measurement Variability Results: Precision Insights Revealed\n",
    "\n",
    "## 📊 **Statistical Precision Summary**\n",
    "\n",
    "### 🟢 **Circle Female Pond** (Largest & Most Precise)\n",
    "- **📏 Mean Length**: `34.72mm` (largest prawns)\n",
    "- **📊 Standard Deviation**: `3.16mm` (moderate variability)\n",
    "- **🦐 Sample Size**: `95 measurements` (largest dataset)\n",
    "- **🎯 Characteristics**: **Best balance of size and precision**\n",
    "\n",
    "### 🔴 **Circle Male Pond** (Smallest & Most Consistent)\n",
    "- **📏 Mean Length**: `25.09mm` (smallest prawns)\n",
    "- **📊 Standard Deviation**: `3.05mm` (lowest variability)\n",
    "- **🦐 Sample Size**: `13 measurements` (smallest dataset)\n",
    "- **🎯 Characteristics**: **Highest precision despite small size**\n",
    "\n",
    "### 🟡 **Square Pond** (Large with Moderate Precision)\n",
    "- **📏 Mean Length**: `36.66mm` (largest mean size)\n",
    "- **📊 Standard Deviation**: `3.21mm` (highest variability)\n",
    "- **🦐 Sample Size**: `32 measurements` (medium dataset)\n",
    "- **🎯 Characteristics**: **Largest prawns but highest measurement uncertainty**\n",
    "\n",
    "---\n",
    "\n",
    "## 🔍 **Critical Discoveries**\n",
    "\n",
    "### 1. **Size vs Precision Paradox** 📏\n",
    "**Surprising Finding**: Smaller prawns (Circle Male) show **better measurement consistency**!\n",
    "- **Expected**: Larger prawns → better precision\n",
    "- **Reality**: Circle Male (25.09mm) has lowest std (3.05mm)\n",
    "- **Implication**: Algorithm precision is **not simply size-dependent**\n",
    "\n",
    "### 2. **Environment-Specific Precision Patterns** 🏊‍♀️\n",
    "\n",
    "#### **Circle Male = Precision Champion** 🏆\n",
    "- **Lowest variability** (3.05mm std) despite smallest size\n",
    "- Possibly due to **controlled environment** and **behavioral consistency**\n",
    "- **Male prawns** may have more predictable positioning/posture\n",
    "\n",
    "#### **Square Pond = Precision Challenge** ⚠️\n",
    "- **Highest variability** (3.21mm std) despite largest prawns\n",
    "- **Complex geometry** creates measurement challenges\n",
    "- **Lighting/perspective effects** in rectangular environment\n",
    "\n",
    "#### **Circle Female = Balanced Performance** ⚖️\n",
    "- **Moderate precision** (3.16mm std) with largest sample size\n",
    "- **Optimal size-precision balance** for reliable measurements\n",
    "- **Most representative** environment for system validation\n",
    "\n",
    "### 3. **Sample Size vs Reliability** 📈\n",
    "\n",
    "**Statistical Confidence Levels**:\n",
    "- **Circle Female**: 95 measurements → **High statistical confidence**\n",
    "- **Square**: 32 measurements → **Moderate confidence**\n",
    "- **Circle Male**: 13 measurements → **Limited confidence** (needs more data)\n",
    "\n",
    "---\n",
    "\n",
    "## 🎯 **Precision Boundary Analysis**\n",
    "\n",
    "### **±Standard Deviation Zones**\n",
    "The scatter plots show **precision boundaries** where we expect measurements to fall:\n",
    "\n",
    "#### **Acceptable Precision Range**\n",
    "- **Circle Female**: ±3.16mm around perfect agreement\n",
    "- **Circle Male**: ±3.05mm around perfect agreement  \n",
    "- **Square**: ±3.21mm around perfect agreement\n",
    "\n",
    "#### **Quality Control Thresholds**\n",
    "- **Green Zone**: Within ±1 std (68% of measurements expected)\n",
    "- **Yellow Zone**: Within ±2 std (95% of measurements expected)\n",
    "- **Red Zone**: Beyond ±2 std (outliers requiring investigation)\n",
    "\n",
    "---\n",
    "\n",
    "## 🚀 **Practical Implications**\n",
    "\n",
    "### **For Aquaculture Operations** 🐟\n",
    "1. **Circle Female ponds**: **Primary choice** for automated measurement (best balance)\n",
    "2. **Circle Male ponds**: **High precision** but need larger sample sizes\n",
    "3. **Square ponds**: **Exercise caution** - higher measurement uncertainty\n",
    "\n",
    "### **For Algorithm Deployment** 🤖\n",
    "1. **Confidence Intervals**: Use pond-specific std values for uncertainty estimates\n",
    "2. **Quality Control**: Flag measurements beyond ±2 std for manual verification\n",
    "3. **Environment Optimization**: Focus on reducing Square pond measurement variability\n",
    "\n",
    "### **For Research Design** 🔬\n",
    "1. **Sample Size Planning**: Circle Male needs more measurements for statistical power\n",
    "2. **Precision Requirements**: Circle Female provides most reliable baseline\n",
    "3. **Method Validation**: Use environment-specific precision thresholds\n",
    "\n",
    "---\n",
    "\n",
    "## 📈 **Next Steps**\n",
    "\n",
    "The **interactive scatter plots below** allow you to:\n",
    "- **Hover over points** to see specific image names and prawn IDs\n",
    "- **Identify outliers** that fall outside precision boundaries\n",
    "- **Compare agreement patterns** across different pond environments\n",
    "- **Assess systematic biases** in algorithm performance\n"
   ]
  },
  {
   "cell_type": "code",
   "execution_count": null,
   "metadata": {},
   "outputs": [
    {
     "name": "stdout",
     "output_type": "stream",
     "text": [
      "✅ Error cancellation analysis functions loaded!\n",
      "📋 Available functions:\n",
      "   🔍 analyze_error_cancellation() - Analyze error patterns\n",
      "   🎨 print_error_summary() - Display formatted results\n",
      "   📊 create_error_visualization() - Generate visualizations\n"
     ]
    }
   ],
   "source": [
    "def analyze_error_cancellation(df: pd.DataFrame, pond_type: str) -> Dict[str, any]:\n",
    "    \"\"\"\n",
    "    🔍 Analyze error cancellation patterns for a specific pond type.\n",
    "    \n",
    "    This function calculates pixel errors, scale errors, and their interaction\n",
    "    to understand how measurement errors behave in different pond environments.\n",
    "    \n",
    "    Args:\n",
    "        df: DataFrame containing measurement data for a specific pond\n",
    "        pond_type: Name of the pond type being analyzed\n",
    "        \n",
    "    Returns:\n",
    "        Dictionary containing analysis results and processed DataFrame\n",
    "    \"\"\"\n",
    "    df_pond = df[df['Pond_Type'] == pond_type].copy().reset_index(drop=True)\n",
    "    \n",
    "    # 📏 Calculate error components\n",
    "    mm_per_px_gt = 10 / df_pond['mean_scale']\n",
    "    mm_per_px_pred = 10 / df_pond['pred_scale']\n",
    "    \n",
    "    df_pond['pixel_error_mm'] = abs(df_pond['mean_pixels'] - df_pond['pred_Distance_pixels']) * mm_per_px_gt\n",
    "    df_pond['scale_error_mm'] = df_pond['mean_pixels'] * (mm_per_px_gt - mm_per_px_pred)\n",
    "    \n",
    "    # 🎭 Identify cancellation patterns\n",
    "    partial_cancel_mask = (df_pond['pixel_error_mm'] * df_pond['scale_error_mm'] < 0)\n",
    "    percent_partial_cancel = 100 * partial_cancel_mask.sum() / len(df_pond) if len(df_pond) > 0 else 0\n",
    "    \n",
    "    # 📊 Calculate cancellation magnitude\n",
    "    if partial_cancel_mask.any():\n",
    "        uncancelled_error = (abs(df_pond.loc[partial_cancel_mask, 'pixel_error_mm']) + \n",
    "                           abs(df_pond.loc[partial_cancel_mask, 'scale_error_mm']))\n",
    "        actual_total_error = abs(df_pond.loc[partial_cancel_mask, 'pixel_error_mm'] + \n",
    "                               df_pond.loc[partial_cancel_mask, 'scale_error_mm'])\n",
    "        cancellation_magnitude = uncancelled_error - actual_total_error\n",
    "        \n",
    "        df_pond.loc[partial_cancel_mask, 'cancellation_mm'] = cancellation_magnitude\n",
    "        mean_cancellation = cancellation_magnitude.mean()\n",
    "        cancellation_percent = mean_cancellation / df_pond[\"Length_fov(mm)\"].abs().mean() * 100\n",
    "    else:\n",
    "        mean_cancellation = 0\n",
    "        cancellation_percent = 0\n",
    "    \n",
    "    # 🏆 Determine error dominance\n",
    "    df_pond['dominant_error'] = np.where(\n",
    "        abs(df_pond['scale_error_mm']) > abs(df_pond['pixel_error_mm']),\n",
    "        'Scale Error', 'Pixel Error'\n",
    "    )\n",
    "    \n",
    "    dominant_stats = df_pond['dominant_error'].value_counts(normalize=True) * 100\n",
    "    \n",
    "    return {\n",
    "        'data': df_pond,\n",
    "        'sample_count': len(df_pond),\n",
    "        'cancellation_percent': percent_partial_cancel,\n",
    "        'mean_cancellation_mm': mean_cancellation,\n",
    "        'cancellation_relative_percent': cancellation_percent,\n",
    "        'scale_dominant_percent': dominant_stats.get('Scale Error', 0),\n",
    "        'pixel_dominant_percent': dominant_stats.get('Pixel Error', 0)\n",
    "    }\n",
    "\n",
    "def print_error_summary(pond_type: str, results: Dict[str, any]) -> None:\n",
    "    \"\"\"\n",
    "    🎨 Print a beautifully formatted summary of error analysis results.\n",
    "    \"\"\"\n",
    "    print(f\"\\n🏊‍♀️ === {pond_type.upper()} POND ANALYSIS === 🦐\")\n",
    "    print(f\"📊 Sample Size: {results['sample_count']} measurements\")\n",
    "    print(f\"\\n🎭 ERROR CANCELLATION MAGIC:\")\n",
    "    print(f\"   ✨ Partial cancellation occurs in {results['cancellation_percent']:.1f}% of cases\")\n",
    "    print(f\"   🎪 Average cancellation magnitude: {results['mean_cancellation_mm']:.2f}mm\")\n",
    "    print(f\"   📏 Relative to prawn size: {results['cancellation_relative_percent']:.1f}%\")\n",
    "    print(f\"\\n🏆 ERROR DOMINANCE BATTLE:\")\n",
    "    print(f\"   🔍 Pixel Error wins: {results['pixel_dominant_percent']:.1f}% of the time\")\n",
    "    print(f\"   📐 Scale Error wins: {results['scale_dominant_percent']:.1f}% of the time\")\n",
    "    print(\"─\" * 60)\n",
    "\n",
    "def create_error_visualization(pond_results: Dict[str, Dict]) -> None:\n",
    "    \"\"\"\n",
    "    🎨 Create stunning visualizations of error patterns across pond types.\n",
    "    \"\"\"\n",
    "    pond_types = list(pond_results.keys())\n",
    "    n_ponds = len(pond_types)\n",
    "    \n",
    "    # 🎯 Scatter plot: Error vs Cancellation\n",
    "    fig_scatter, axes = plt.subplots(1, n_ponds, figsize=(6*n_ponds, 5))\n",
    "    if n_ponds == 1:\n",
    "        axes = [axes]\n",
    "    \n",
    "    for i, pond_type in enumerate(pond_types):\n",
    "        df_pond = pond_results[pond_type]['data']\n",
    "        color = POND_COLORS.get(pond_type, '#333333')\n",
    "        \n",
    "        # Only plot points with cancellation data\n",
    "        mask = df_pond['cancellation_mm'].notna()\n",
    "        if mask.any():\n",
    "            axes[i].scatter(df_pond.loc[mask, 'pixel_error_mm'], \n",
    "                          df_pond.loc[mask, 'cancellation_mm'],\n",
    "                          alpha=0.7, s=80, color=color, edgecolors='white', linewidth=0.5,\n",
    "                          label=f'{pond_type.replace(\"_\", \" \").title()}')\n",
    "        \n",
    "        axes[i].set_xlabel('Pixel Error (mm)', fontsize=12)\n",
    "        axes[i].set_ylabel('Cancellation Magnitude (mm)', fontsize=12)\n",
    "        axes[i].set_title(f'🎭 Error Cancellation Dance\\n{pond_type.replace(\"_\", \" \").title()}', \n",
    "                         fontsize=14, pad=20)\n",
    "        axes[i].grid(True, alpha=0.3)\n",
    "        axes[i].legend()\n",
    "    \n",
    "    plt.tight_layout()\n",
    "    plt.show()\n",
    "    \n",
    "    # 📊 Interactive bar plot with Plotly - with consistent colors\n",
    "    fig_bar = make_subplots(\n",
    "        rows=1, cols=n_ponds,\n",
    "        subplot_titles=[f'🦐 {pond_type.replace(\"_\", \" \").title()}' for pond_type in pond_types],\n",
    "        shared_yaxes=True\n",
    "    )\n",
    "    \n",
    "    # Define consistent colors for error types\n",
    "    pixel_error_color = '#FF6B6B'  # Coral red for pixel errors\n",
    "    scale_error_color = '#4ECDC4'  # Teal for scale errors\n",
    "    \n",
    "    for i, pond_type in enumerate(pond_types):\n",
    "        df_pond = pond_results[pond_type]['data']\n",
    "        \n",
    "        # Pixel Error bars - consistent color across all ponds\n",
    "        fig_bar.add_trace(\n",
    "            go.Bar(\n",
    "                name='🔍 Pixel Error' if i == 0 else '',\n",
    "                x=df_pond.index,\n",
    "                y=df_pond['pixel_error_mm'],\n",
    "                marker_color=pixel_error_color,\n",
    "                opacity=0.8,\n",
    "                showlegend=(i == 0),\n",
    "                legendgroup='pixel',  # Group legend items\n",
    "                hovertemplate=\"<b>Measurement #%{x}</b><br>\" +\n",
    "                            \"🖼️ Image: %{customdata[0]}<br>\" +\n",
    "                            \"🦐 Prawn ID: %{customdata[1]}<br>\" +\n",
    "                            \"📏 GT Length: %{customdata[2]:.1f}mm<br>\" +\n",
    "                            \"🤖 Pred Length: %{customdata[3]:.1f}mm<br>\" +\n",
    "                            \"🔍 Pixel Error: %{y:.1f}mm<extra></extra>\",\n",
    "                customdata=df_pond[['Label', 'PrawnID', 'mean_length', 'Length_fov(mm)']].values\n",
    "            ),\n",
    "            row=1, col=i+1\n",
    "        )\n",
    "        \n",
    "        # Scale Error bars - consistent color across all ponds\n",
    "        fig_bar.add_trace(\n",
    "            go.Bar(\n",
    "                name='📐 Scale Error' if i == 0 else '',\n",
    "                x=df_pond.index,\n",
    "                y=df_pond['scale_error_mm'],\n",
    "                marker_color=scale_error_color,\n",
    "                opacity=0.8,\n",
    "                showlegend=(i == 0),\n",
    "                legendgroup='scale',  # Group legend items\n",
    "                hovertemplate=\"<b>Measurement #%{x}</b><br>\" +\n",
    "                            \"🖼️ Image: %{customdata[0]}<br>\" +\n",
    "                            \"🦐 Prawn ID: %{customdata[1]}<br>\" +\n",
    "                            \"📏 GT Length: %{customdata[2]:.1f}mm<br>\" +\n",
    "                            \"🤖 Pred Length: %{customdata[3]:.1f}mm<br>\" +\n",
    "                            \"📐 Scale Error: %{y:.1f}mm<extra></extra>\",\n",
    "                customdata=df_pond[['Label', 'PrawnID', 'mean_length', 'Length_fov(mm)']].values\n",
    "            ),\n",
    "            row=1, col=i+1\n",
    "        )\n",
    "    \n",
    "    fig_bar.update_layout(\n",
    "        barmode='relative',\n",
    "        title_text='🎪 Error Components: The Great Measurement Circus',\n",
    "        title_font_size=18,\n",
    "        width=450*n_ponds,\n",
    "        height=650,\n",
    "        showlegend=True,\n",
    "        legend=dict(\n",
    "            orientation=\"h\",\n",
    "            yanchor=\"bottom\",\n",
    "            y=1.02,\n",
    "            xanchor=\"center\",\n",
    "            x=0.5\n",
    "        )\n",
    "    )\n",
    "    \n",
    "    # Update axes\n",
    "    for i in range(n_ponds):\n",
    "        fig_bar.update_xaxes(title_text='Measurement Index', row=1, col=i+1)\n",
    "    fig_bar.update_yaxes(title_text='Error Magnitude (mm)', row=1, col=1)\n",
    "    \n",
    "    fig_bar.show()\n",
    "\n",
    "# Store the functions for later use\n",
    "print(\"✅ Error cancellation analysis functions loaded!\")\n",
    "print(\"📋 Available functions:\")\n",
    "print(\"   🔍 analyze_error_cancellation() - Analyze error patterns\")\n",
    "print(\"   🎨 print_error_summary() - Display formatted results\")\n",
    "print(\"   📊 create_error_visualization() - Generate visualizations\")\n"
   ]
  },
  {
   "cell_type": "code",
   "execution_count": null,
   "metadata": {},
   "outputs": [
    {
     "name": "stdout",
     "output_type": "stream",
     "text": [
      "🚀 Starting comprehensive measurement precision analysis...\n",
      "📊 Analyzing algorithm-manual agreement patterns across pond environments\n",
      "================================================================================\n",
      "\n",
      "📈 PHASE 1: Calculating precision metrics for each pond type...\n",
      "\n",
      "🏊‍♀️ --- Circle Female Pond Analysis ---\n",
      "📏 Mean prawn length: 34.72mm\n",
      "📊 Standard deviation: 3.16mm\n",
      "🦐 Sample size: 95 measurements\n",
      "✅ Agreement rate (within ±3.2mm): 50.5%\n",
      "──────────────────────────────────────────────────\n",
      "\n",
      "🏊‍♀️ --- Circle Male Pond Analysis ---\n",
      "📏 Mean prawn length: 25.09mm\n",
      "📊 Standard deviation: 3.05mm\n",
      "🦐 Sample size: 13 measurements\n",
      "✅ Agreement rate (within ±3.1mm): 53.8%\n",
      "──────────────────────────────────────────────────\n",
      "\n",
      "🏊‍♀️ --- Square Pond Analysis ---\n",
      "📏 Mean prawn length: 36.66mm\n",
      "📊 Standard deviation: 3.21mm\n",
      "🦐 Sample size: 32 measurements\n",
      "✅ Agreement rate (within ±3.2mm): 18.8%\n",
      "──────────────────────────────────────────────────\n",
      "\n",
      "🎨 PHASE 2: Creating interactive precision scatter plots...\n",
      "✨ Interactive scatter plot created successfully!\n",
      "🎯 Visualization includes:\n",
      "   📍 Measurement points with detailed hover information\n",
      "   📐 Perfect agreement line (y=x diagonal)\n",
      "   📊 Precision boundaries (±standard deviation)\n",
      "   🏊‍♀️ Pond-specific color coding and statistics\n"
     ]
    },
    {
     "data": {
      "application/vnd.plotly.v1+json": {
       "config": {
        "plotlyServerURL": "https://plot.ly"
       },
       "data": [
        {
         "customdata": [
          [
           "carapace:undistorted_GX010067_33_625.jpg_gamma",
           "Prawn_0",
           -4.164444172001531
          ],
          [
           "carapace:undistorted_GX010067_33_625.jpg_gamma",
           "Prawn_1",
           0.11220146673333886
          ],
          [
           "carapace:undistorted_GX010067_33_625.jpg_gamma",
           "Prawn_2",
           -7.267532965769149
          ],
          [
           "carapace:undistorted_GX010067_33_625.jpg_gamma",
           "Prawn_3",
           -2.0807111821976427
          ],
          [
           "carapace:undistorted_GX010068_26_666.jpg_gamma",
           "Prawn_0",
           -5.658035381347403
          ],
          [
           "carapace:undistorted_GX010068_26_666.jpg_gamma",
           "Prawn_1",
           -2.6261063504189437
          ],
          [
           "carapace:undistorted_GX010068_26_666.jpg_gamma",
           "Prawn_2",
           1.923633129573851
          ],
          [
           "carapace:undistorted_GX010068_27_795.jpg_gamma",
           "Prawn_1",
           -2.52002525475433
          ],
          [
           "carapace:undistorted_GX010068_27_795.jpg_gamma",
           "Prawn_2",
           -5.1168181862878725
          ],
          [
           "carapace:undistorted_GX010069_19_191.jpg_gamma",
           "Prawn_0",
           0.9276430339763237
          ],
          [
           "carapace:undistorted_GX010069_19_191.jpg_gamma",
           "Prawn_1",
           -2.0398132662988573
          ],
          [
           "carapace:undistorted_GX010069_19_191.jpg_gamma",
           "Prawn_2",
           -0.8518282374141322
          ],
          [
           "carapace:undistorted_GX010069_19_191.jpg_gamma",
           "Prawn_3",
           -1.1340012087086535
          ],
          [
           "carapace:undistorted_GX010069_53_796.jpg_gamma",
           "Prawn_0",
           -5.224840393125419
          ],
          [
           "carapace:undistorted_GX010069_53_796.jpg_gamma",
           "Prawn_1",
           2.090860533270842
          ],
          [
           "carapace:undistorted_GX010071_22_444.jpg_gamma",
           "Prawn_0",
           -9.017701311424936
          ],
          [
           "carapace:undistorted_GX010071_22_444.jpg_gamma",
           "Prawn_1",
           -5.198436710697436
          ],
          [
           "carapace:undistorted_GX010073_42_695.jpg_gamma",
           "Prawn_0",
           -5.47292141620153
          ],
          [
           "carapace:undistorted_GX010073_42_695.jpg_gamma",
           "Prawn_1",
           -8.809838549472715
          ],
          [
           "carapace:undistorted_GX010073_55_1014.jpg_gamma",
           "Prawn_0",
           -5.228688970240146
          ],
          [
           "carapace:undistorted_GX010073_55_1014.jpg_gamma",
           "Prawn_2",
           -10.670508750853873
          ],
          [
           "carapace:undistorted_GX010073_55_1014.jpg_gamma",
           "Prawn_3",
           -1.717139124227593
          ],
          [
           "carapace:undistorted_GX010077_14_237.jpg_gamma",
           "Prawn_0",
           -1.3055022269712175
          ],
          [
           "carapace:undistorted_GX010077_14_237.jpg_gamma",
           "Prawn_1",
           -3.7130479238373297
          ],
          [
           "carapace:undistorted_GX010077_14_237.jpg_gamma",
           "Prawn_2",
           -3.8675090071747036
          ],
          [
           "carapace:undistorted_GX010080_157_2283.jpg_gamma",
           "Prawn_0",
           8.724934473915805
          ],
          [
           "carapace:undistorted_GX010080_157_2283.jpg_gamma",
           "Prawn_3",
           -1.3259094136883576
          ],
          [
           "carapace:undistorted_GX010080_157_2283.jpg_gamma",
           "Prawn_4",
           -1.755126124220702
          ],
          [
           "carapace:undistorted_GX010080_193_2640.jpg_gamma",
           "Prawn_0",
           -3.7198787594875355
          ],
          [
           "carapace:undistorted_GX010080_193_2640.jpg_gamma",
           "Prawn_1",
           -7.705252394202397
          ],
          [
           "carapace:undistorted_GX010080_193_2640.jpg_gamma",
           "Prawn_4",
           -6.750441584075066
          ],
          [
           "carapace:undistorted_GX010080_212_2954.jpg_gamma",
           "Prawn_0",
           3.0986080831277576
          ],
          [
           "carapace:undistorted_GX010080_212_2954.jpg_gamma",
           "Prawn_1",
           0.6855697744339224
          ],
          [
           "carapace:undistorted_GX010080_212_2954.jpg_gamma",
           "Prawn_2",
           -1.2360968922327444
          ],
          [
           "carapace:undistorted_GX010080_237_3366.jpg_gamma",
           "Prawn_0",
           1.5314432286541688
          ],
          [
           "carapace:undistorted_GX010080_237_3366.jpg_gamma",
           "Prawn_1",
           -1.4630842735017922
          ],
          [
           "carapace:undistorted_GX010080_237_3366.jpg_gamma",
           "Prawn_2",
           -2.889842421947151
          ],
          [
           "carapace:undistorted_GX010080_237_3366.jpg_gamma",
           "Prawn_3",
           -3.771332141873472
          ],
          [
           "carapace:undistorted_GX010080_238_3392.jpg_gamma",
           "Prawn_0",
           -5.092195608905804
          ],
          [
           "carapace:undistorted_GX010080_238_3392.jpg_gamma",
           "Prawn_1",
           -5.6769568256405805
          ],
          [
           "carapace:undistorted_GX010080_238_3392.jpg_gamma",
           "Prawn_3",
           -8.039890700436768
          ],
          [
           "carapace:undistorted_GX010080_238_3392.jpg_gamma",
           "Prawn_4",
           3.1534988108722786
          ],
          [
           "carapace:undistorted_GX010082_8_59.jpg_gamma",
           "Prawn_1",
           -0.7516294012754017
          ],
          [
           "carapace:undistorted_GX010082_8_59.jpg_gamma",
           "Prawn_2",
           -5.346569121495868
          ],
          [
           "carapace:undistorted_GX010082_8_59.jpg_gamma",
           "Prawn_3",
           0.6132549587777305
          ],
          [
           "carapace:undistorted_GX010082_8_59.jpg_gamma",
           "Prawn_4",
           1.8515151954313929
          ],
          [
           "carapace:undistorted_GX010082_53_796.jpg_gamma",
           "Prawn_0",
           0.20399266777468483
          ],
          [
           "carapace:undistorted_GX010082_53_796.jpg_gamma",
           "Prawn_1",
           0.050045306124875566
          ],
          [
           "carapace:undistorted_GX010082_65_1070.jpg_gamma",
           "Prawn_0",
           1.8653241109600103
          ],
          [
           "carapace:undistorted_GX010082_65_1070.jpg_gamma",
           "Prawn_1",
           -4.998066451661757
          ],
          [
           "carapace:undistorted_GX010082_65_1070.jpg_gamma",
           "Prawn_2",
           -1.6535635928007935
          ],
          [
           "carapace:undistorted_GX010082_236_3137.jpg_gamma",
           "Prawn_0",
           3.1347915914560787
          ],
          [
           "carapace:undistorted_GX010082_236_3137.jpg_gamma",
           "Prawn_1",
           1.8144956507194152
          ],
          [
           "carapace:undistorted_GX010082_236_3137.jpg_gamma",
           "Prawn_2",
           -0.43251343992018576
          ],
          [
           "carapace:undistorted_GX010082_236_3137.jpg_gamma",
           "Prawn_3",
           3.1834582581227444
          ],
          [
           "carapace:undistorted_GX010084_30_344.jpg_gamma",
           "Prawn_2",
           -2.0696147117608277
          ],
          [
           "carapace:undistorted_GX010084_30_344.jpg_gamma",
           "Prawn_3",
           -3.951378048883356
          ],
          [
           "carapace:undistorted_GX010084_30_344.jpg_gamma",
           "Prawn_5",
           0.37025646385149713
          ],
          [
           "carapace:undistorted_GX010084_130_1748.jpg_gamma",
           "Prawn_0",
           -4.402131618226157
          ],
          [
           "carapace:undistorted_GX010084_130_1748.jpg_gamma",
           "Prawn_1",
           -9.913076780558391
          ],
          [
           "carapace:undistorted_GX010084_130_1748.jpg_gamma",
           "Prawn_3",
           -9.729327067609429
          ],
          [
           "carapace:undistorted_GX010084_167_2291.jpg_gamma",
           "Prawn_1",
           -8.826420071758193
          ],
          [
           "carapace:undistorted_GX010085_261_3610.jpg_gamma",
           "Prawn_1",
           -0.20929151645687227
          ],
          [
           "carapace:undistorted_GX010085_261_3610.jpg_gamma",
           "Prawn_2",
           -5.891271159086028
          ],
          [
           "carapace:undistorted_GX010085_263_3738.jpg_gamma",
           "Prawn_2",
           -8.959828012160195
          ],
          [
           "carapace:undistorted_GX010088_209_2904.jpg_gamma",
           "Prawn_0",
           -7.322973026438731
          ],
          [
           "carapace:undistorted_GX010088_209_2904.jpg_gamma",
           "Prawn_1",
           -2.3638415082385293
          ],
          [
           "carapace:undistorted_GX010088_262_3712.jpg_gamma",
           "Prawn_0",
           -9.150368421954362
          ],
          [
           "carapace:undistorted_GX010088_262_3712.jpg_gamma",
           "Prawn_1",
           -4.461170060993851
          ],
          [
           "carapace:undistorted_GX010088_262_3712.jpg_gamma",
           "Prawn_2",
           -8.3361824853612
          ],
          [
           "carapace:undistorted_GX010088_262_3712.jpg_gamma",
           "Prawn_3",
           -10.927182485361193
          ],
          [
           "carapace:undistorted_GX010088_327_4364.jpg_gamma",
           "Prawn_0",
           -9.083786943037044
          ],
          [
           "carapace:undistorted_GX010088_327_4364.jpg_gamma",
           "Prawn_1",
           -5.369231597016224
          ],
          [
           "carapace:undistorted_GX010088_327_4364.jpg_gamma",
           "Prawn_2",
           -5.783015919672309
          ],
          [
           "carapace:undistorted_GX010088_327_4364.jpg_gamma",
           "Prawn_3",
           -5.86214243914047
          ],
          [
           "carapace:undistorted_GX010090_132_1852.jpg_gamma",
           "Prawn_0",
           2.0610314097717364
          ],
          [
           "carapace:undistorted_GX010094_9_129.jpg_gamma",
           "Prawn_0",
           1.3481634028579208
          ],
          [
           "carapace:undistorted_GX010094_9_129.jpg_gamma",
           "Prawn_1",
           -3.515497831139708
          ],
          [
           "carapace:undistorted_GX010094_24_430.jpg_gamma",
           "Prawn_1",
           0.8214129573697804
          ],
          [
           "carapace:undistorted_GX010094_24_430.jpg_gamma",
           "Prawn_2",
           -2.6555231421356957
          ],
          [
           "carapace:undistorted_GX010094_93_1258.jpg_gamma",
           "Prawn_0",
           4.716464200816457
          ],
          [
           "carapace:undistorted_GX010094_93_1258.jpg_gamma",
           "Prawn_1",
           -1.9302024658502148
          ],
          [
           "carapace:undistorted_GX010094_163_2312.jpg_gamma",
           "Prawn_0",
           0.1244212915304388
          ],
          [
           "carapace:undistorted_GX010096_107_1571.jpg_gamma",
           "Prawn_0",
           -4.315286300583992
          ],
          [
           "carapace:undistorted_GX010097_32_528.jpg_gamma",
           "Prawn_1",
           -3.948950964444112
          ],
          [
           "carapace:undistorted_GX010097_32_528.jpg_gamma",
           "Prawn_2",
           0.10947244585837979
          ],
          [
           "carapace:undistorted_GX010097_60_1080.jpg_gamma",
           "Prawn_0",
           -3.721568056089289
          ],
          [
           "carapace:undistorted_GX010097_60_1080.jpg_gamma",
           "Prawn_1",
           -5.217198866767109
          ],
          [
           "carapace:undistorted_GX010097_105_1651.jpg_gamma",
           "Prawn_0",
           -2.7975171450723053
          ],
          [
           "carapace:undistorted_GX010097_105_1651.jpg_gamma",
           "Prawn_1",
           -2.47779647479976
          ],
          [
           "carapace:undistorted_GX010097_105_1651.jpg_gamma",
           "Prawn_2",
           -4.180481931054853
          ],
          [
           "carapace:undistorted_GX010097_105_1651.jpg_gamma",
           "Prawn_3",
           2.0466055601170936
          ],
          [
           "carapace:undistorted_GX010097_124_1870.jpg_gamma",
           "Prawn_0",
           1.8138692849667777
          ],
          [
           "carapace:undistorted_GX010097_124_1870.jpg_gamma",
           "Prawn_1",
           -2.7875839193643372
          ],
          [
           "carapace:undistorted_GX010101_12_173.jpg_gamma",
           "Prawn_0",
           -0.6401132782153098
          ]
         ],
         "hovertemplate": "<b>🦐 Prawn Measurement</b><br>🏊‍♀️ Pond: Circle Female<br>🖼️ Image: %{customdata[0]}<br>🆔 Prawn ID: %{customdata[1]}<br>📏 Manual: %{x:.1f}mm<br>🤖 Algorithm: %{y:.1f}mm<br>📊 Difference: %{customdata[2]:.1f}mm<br><extra></extra>",
         "marker": {
          "color": "#FF6B6B",
          "line": {
           "color": "white",
           "width": 1
          },
          "opacity": 0.8,
          "size": 8
         },
         "mode": "markers",
         "name": "🦐 Measurements",
         "showlegend": true,
         "type": "scatter",
         "x": [
          41.918,
          26.698,
          46.29966666666667,
          24.278666666666663,
          33.843333333333334,
          34.544000000000004,
          32.81366666666667,
          36.97933333333333,
          33.477666666666664,
          31.406,
          32.74166666666667,
          27.465333333333334,
          31.256666666666664,
          42.47733333333333,
          36.943333333333335,
          41.95333333333333,
          39.764,
          28.94666666666667,
          46.23366666666666,
          37.03866666666666,
          37.565000000000005,
          28.709333333333333,
          26.24866666666667,
          35.995,
          34.312999999999995,
          26.50133333333333,
          35.125,
          34.03366666666667,
          34.535333333333334,
          41.434333333333335,
          35.702333333333335,
          28.686000000000003,
          31.811,
          33.73266666666667,
          36.14033333333333,
          36.446666666666665,
          31.065,
          36.763333333333335,
          36.775333333333336,
          36.04233333333333,
          36.336,
          33.14033333333333,
          34.424,
          37.46033333333333,
          36.906,
          26.740333333333336,
          37.626666666666665,
          21.106666666666666,
          27.028,
          44.07533333333333,
          35.542,
          20.59133333333333,
          32.413000000000004,
          38.315666666666665,
          20.542666666666666,
          34.274,
          36.25266666666666,
          33.519666666666666,
          35.57666666666667,
          41.317,
          39.387,
          45.99366666666666,
          36.118,
          30.01333333333333,
          40.70633333333333,
          37.23433333333333,
          37.79366666666667,
          42.525,
          33.435,
          40.21266666666667,
          42.803666666666665,
          37.876666666666665,
          37.07266666666666,
          38.641333333333336,
          42.78733333333333,
          35.178333333333335,
          24.666,
          33.87566666666667,
          34.47933333333334,
          33.397333333333336,
          28.933333333333334,
          35.580000000000005,
          36.263,
          35.103,
          30.808666666666664,
          28.918,
          37.538,
          27.723,
          36.993,
          43.29533333333333,
          32.398666666666664,
          30.090333333333334,
          29.376,
          31.066333333333336,
          42.12266666666667
         ],
         "xaxis": "x",
         "y": [
          37.75355582799847,
          26.81020146673334,
          39.03213370089752,
          22.19795548446902,
          28.18529795198593,
          31.91789364958106,
          34.73729979624052,
          34.459308078579,
          28.36084848037879,
          32.33364303397632,
          30.70185340036781,
          26.6135050959192,
          30.12266545795801,
          37.25249294020791,
          39.03419386660418,
          32.9356320219084,
          34.56556328930257,
          23.47374525046514,
          37.42382811719394,
          31.80997769642651,
          26.89449124914613,
          26.99219420910574,
          24.94316443969545,
          32.28195207616267,
          30.44549099282529,
          35.22626780724914,
          33.79909058631164,
          32.27854054244597,
          30.8154545738458,
          33.72908093913094,
          28.95189174925827,
          31.78460808312776,
          32.49656977443392,
          32.49656977443392,
          37.6717765619875,
          34.98358239316487,
          28.17515757805285,
          32.99200119145986,
          31.68313772442753,
          30.36537650769275,
          28.29610929956323,
          36.29383214420561,
          33.6723705987246,
          32.11376421183746,
          37.51925495877773,
          28.59184852876473,
          37.83065933444135,
          21.15671197279154,
          28.89332411096001,
          39.07726688167158,
          33.88843640719921,
          23.72612492478941,
          34.22749565071942,
          37.88315322674648,
          23.72612492478941,
          32.20438528823917,
          32.30128861778331,
          33.88992313051816,
          31.17453504844051,
          31.40392321944161,
          29.65767293239057,
          37.16724659490847,
          35.90870848354313,
          24.1220621742473,
          31.74650532117314,
          29.9113603068946,
          35.42982515842814,
          33.37463157804564,
          28.97382993900615,
          31.87648418130547,
          31.87648418130547,
          28.79287972362962,
          31.70343506965044,
          32.85831741366103,
          36.92519089419286,
          37.23936474310507,
          26.01416340285792,
          30.36016883552696,
          35.30074629070312,
          30.74181019119764,
          33.64979753414979,
          33.64979753414979,
          36.38742129153044,
          30.78771369941601,
          26.85971570222255,
          29.02747244585838,
          33.81643194391071,
          22.50580113323289,
          34.1954828549277,
          40.81753685853357,
          28.21818473561181,
          32.13693889345043,
          31.18986928496678,
          28.278749413969,
          41.48255338845136
         ],
         "yaxis": "y"
        },
        {
         "hovertemplate": "Perfect Agreement Line<br>Manual = Algorithm<extra></extra>",
         "line": {
          "color": "black",
          "dash": "dash",
          "width": 2
         },
         "mode": "lines",
         "name": "📐 Perfect Agreement (y=x)",
         "showlegend": true,
         "type": "scatter",
         "x": [
          20.542666666666666,
          20.80283838383838,
          21.0630101010101,
          21.323181818181816,
          21.583353535353535,
          21.84352525252525,
          22.10369696969697,
          22.363868686868685,
          22.624040404040404,
          22.88421212121212,
          23.14438383838384,
          23.404555555555554,
          23.664727272727273,
          23.92489898989899,
          24.185070707070707,
          24.445242424242423,
          24.70541414141414,
          24.965585858585857,
          25.225757575757576,
          25.485929292929292,
          25.746101010101007,
          26.006272727272727,
          26.266444444444442,
          26.52661616161616,
          26.786787878787877,
          27.046959595959596,
          27.30713131313131,
          27.56730303030303,
          27.827474747474746,
          28.08764646464646,
          28.34781818181818,
          28.6079898989899,
          28.868161616161615,
          29.12833333333333,
          29.38850505050505,
          29.64867676767677,
          29.908848484848484,
          30.1690202020202,
          30.42919191919192,
          30.689363636363638,
          30.949535353535353,
          31.20970707070707,
          31.469878787878784,
          31.730050505050503,
          31.990222222222222,
          32.25039393939394,
          32.51056565656565,
          32.770737373737376,
          33.03090909090909,
          33.29108080808081,
          33.55125252525252,
          33.81142424242424,
          34.07159595959596,
          34.331767676767676,
          34.59193939393939,
          34.852111111111114,
          35.11228282828283,
          35.372454545454545,
          35.63262626262626,
          35.892797979797976,
          36.15296969696969,
          36.413141414141414,
          36.67331313131313,
          36.93348484848485,
          37.19365656565657,
          37.45382828282828,
          37.714,
          37.974171717171714,
          38.23434343434343,
          38.494515151515145,
          38.75468686868687,
          39.01485858585858,
          39.275030303030306,
          39.53520202020202,
          39.79537373737374,
          40.05554545454545,
          40.31571717171717,
          40.57588888888888,
          40.836060606060606,
          41.09623232323232,
          41.356404040404044,
          41.61657575757576,
          41.876747474747475,
          42.13691919191919,
          42.397090909090906,
          42.65726262626262,
          42.91743434343434,
          43.17760606060606,
          43.437777777777775,
          43.6979494949495,
          43.95812121212121,
          44.21829292929293,
          44.478464646464644,
          44.73863636363636,
          44.998808080808075,
          45.2589797979798,
          45.51915151515151,
          45.77932323232323,
          46.03949494949495,
          46.29966666666667
         ],
         "xaxis": "x",
         "y": [
          20.542666666666666,
          20.80283838383838,
          21.0630101010101,
          21.323181818181816,
          21.583353535353535,
          21.84352525252525,
          22.10369696969697,
          22.363868686868685,
          22.624040404040404,
          22.88421212121212,
          23.14438383838384,
          23.404555555555554,
          23.664727272727273,
          23.92489898989899,
          24.185070707070707,
          24.445242424242423,
          24.70541414141414,
          24.965585858585857,
          25.225757575757576,
          25.485929292929292,
          25.746101010101007,
          26.006272727272727,
          26.266444444444442,
          26.52661616161616,
          26.786787878787877,
          27.046959595959596,
          27.30713131313131,
          27.56730303030303,
          27.827474747474746,
          28.08764646464646,
          28.34781818181818,
          28.6079898989899,
          28.868161616161615,
          29.12833333333333,
          29.38850505050505,
          29.64867676767677,
          29.908848484848484,
          30.1690202020202,
          30.42919191919192,
          30.689363636363638,
          30.949535353535353,
          31.20970707070707,
          31.469878787878784,
          31.730050505050503,
          31.990222222222222,
          32.25039393939394,
          32.51056565656565,
          32.770737373737376,
          33.03090909090909,
          33.29108080808081,
          33.55125252525252,
          33.81142424242424,
          34.07159595959596,
          34.331767676767676,
          34.59193939393939,
          34.852111111111114,
          35.11228282828283,
          35.372454545454545,
          35.63262626262626,
          35.892797979797976,
          36.15296969696969,
          36.413141414141414,
          36.67331313131313,
          36.93348484848485,
          37.19365656565657,
          37.45382828282828,
          37.714,
          37.974171717171714,
          38.23434343434343,
          38.494515151515145,
          38.75468686868687,
          39.01485858585858,
          39.275030303030306,
          39.53520202020202,
          39.79537373737374,
          40.05554545454545,
          40.31571717171717,
          40.57588888888888,
          40.836060606060606,
          41.09623232323232,
          41.356404040404044,
          41.61657575757576,
          41.876747474747475,
          42.13691919191919,
          42.397090909090906,
          42.65726262626262,
          42.91743434343434,
          43.17760606060606,
          43.437777777777775,
          43.6979494949495,
          43.95812121212121,
          44.21829292929293,
          44.478464646464644,
          44.73863636363636,
          44.998808080808075,
          45.2589797979798,
          45.51915151515151,
          45.77932323232323,
          46.03949494949495,
          46.29966666666667
         ],
         "yaxis": "y"
        },
        {
         "hovertemplate": "Upper Boundary (+3.2mm)<extra></extra>",
         "line": {
          "color": "#2c7fb8",
          "dash": "dot",
          "width": 1
         },
         "mode": "lines",
         "name": "📊 ±3.2mm Boundaries",
         "showlegend": true,
         "type": "scatter",
         "x": [
          20.542666666666666,
          20.80283838383838,
          21.0630101010101,
          21.323181818181816,
          21.583353535353535,
          21.84352525252525,
          22.10369696969697,
          22.363868686868685,
          22.624040404040404,
          22.88421212121212,
          23.14438383838384,
          23.404555555555554,
          23.664727272727273,
          23.92489898989899,
          24.185070707070707,
          24.445242424242423,
          24.70541414141414,
          24.965585858585857,
          25.225757575757576,
          25.485929292929292,
          25.746101010101007,
          26.006272727272727,
          26.266444444444442,
          26.52661616161616,
          26.786787878787877,
          27.046959595959596,
          27.30713131313131,
          27.56730303030303,
          27.827474747474746,
          28.08764646464646,
          28.34781818181818,
          28.6079898989899,
          28.868161616161615,
          29.12833333333333,
          29.38850505050505,
          29.64867676767677,
          29.908848484848484,
          30.1690202020202,
          30.42919191919192,
          30.689363636363638,
          30.949535353535353,
          31.20970707070707,
          31.469878787878784,
          31.730050505050503,
          31.990222222222222,
          32.25039393939394,
          32.51056565656565,
          32.770737373737376,
          33.03090909090909,
          33.29108080808081,
          33.55125252525252,
          33.81142424242424,
          34.07159595959596,
          34.331767676767676,
          34.59193939393939,
          34.852111111111114,
          35.11228282828283,
          35.372454545454545,
          35.63262626262626,
          35.892797979797976,
          36.15296969696969,
          36.413141414141414,
          36.67331313131313,
          36.93348484848485,
          37.19365656565657,
          37.45382828282828,
          37.714,
          37.974171717171714,
          38.23434343434343,
          38.494515151515145,
          38.75468686868687,
          39.01485858585858,
          39.275030303030306,
          39.53520202020202,
          39.79537373737374,
          40.05554545454545,
          40.31571717171717,
          40.57588888888888,
          40.836060606060606,
          41.09623232323232,
          41.356404040404044,
          41.61657575757576,
          41.876747474747475,
          42.13691919191919,
          42.397090909090906,
          42.65726262626262,
          42.91743434343434,
          43.17760606060606,
          43.437777777777775,
          43.6979494949495,
          43.95812121212121,
          44.21829292929293,
          44.478464646464644,
          44.73863636363636,
          44.998808080808075,
          45.2589797979798,
          45.51915151515151,
          45.77932323232323,
          46.03949494949495,
          46.29966666666667
         ],
         "xaxis": "x",
         "y": [
          23.701915107927462,
          23.962086825099178,
          24.2222585422709,
          24.482430259442616,
          24.74260197661433,
          25.002773693786047,
          25.26294541095777,
          25.523117128129485,
          25.7832888453012,
          26.043460562472916,
          26.30363227964464,
          26.563803996816354,
          26.82397571398807,
          27.084147431159785,
          27.344319148331508,
          27.604490865503223,
          27.86466258267494,
          28.124834299846654,
          28.385006017018377,
          28.645177734190092,
          28.905349451361808,
          29.165521168533523,
          29.42569288570524,
          29.68586460287696,
          29.946036320048677,
          30.206208037220392,
          30.466379754392108,
          30.72655147156383,
          30.986723188735546,
          31.24689490590726,
          31.507066623078977,
          31.7672383402507,
          32.027410057422415,
          32.28758177459413,
          32.547753491765846,
          32.80792520893757,
          33.068096926109284,
          33.328268643281,
          33.588440360452715,
          33.84861207762444,
          34.10878379479615,
          34.36895551196787,
          34.629127229139584,
          34.8892989463113,
          35.14947066348302,
          35.40964238065474,
          35.66981409782645,
          35.929985814998176,
          36.19015753216989,
          36.45032924934161,
          36.71050096651332,
          36.97067268368504,
          37.23084440085676,
          37.491016118028476,
          37.75118783520019,
          38.011359552371914,
          38.27153126954363,
          38.531702986715345,
          38.79187470388706,
          39.052046421058776,
          39.31221813823049,
          39.572389855402214,
          39.83256157257393,
          40.09273328974565,
          40.35290500691737,
          40.61307672408908,
          40.8732484412608,
          41.133420158432514,
          41.39359187560423,
          41.653763592775945,
          41.91393530994767,
          42.17410702711938,
          42.434278744291106,
          42.69445046146282,
          42.95462217863454,
          43.21479389580625,
          43.47496561297797,
          43.73513733014968,
          43.995309047321406,
          44.25548076449312,
          44.515652481664844,
          44.77582419883656,
          45.035995916008275,
          45.29616763317999,
          45.556339350351706,
          45.81651106752342,
          46.07668278469514,
          46.33685450186686,
          46.597026219038575,
          46.8571979362103,
          47.11736965338201,
          47.37754137055373,
          47.637713087725444,
          47.89788480489716,
          48.158056522068875,
          48.4182282392406,
          48.67839995641231,
          48.93857167358403,
          49.19874339075575,
          49.45891510792747
         ],
         "yaxis": "y"
        },
        {
         "hovertemplate": "Lower Boundary (-3.2mm)<extra></extra>",
         "line": {
          "color": "#2c7fb8",
          "dash": "dot",
          "width": 1
         },
         "mode": "lines",
         "name": "",
         "showlegend": false,
         "type": "scatter",
         "x": [
          20.542666666666666,
          20.80283838383838,
          21.0630101010101,
          21.323181818181816,
          21.583353535353535,
          21.84352525252525,
          22.10369696969697,
          22.363868686868685,
          22.624040404040404,
          22.88421212121212,
          23.14438383838384,
          23.404555555555554,
          23.664727272727273,
          23.92489898989899,
          24.185070707070707,
          24.445242424242423,
          24.70541414141414,
          24.965585858585857,
          25.225757575757576,
          25.485929292929292,
          25.746101010101007,
          26.006272727272727,
          26.266444444444442,
          26.52661616161616,
          26.786787878787877,
          27.046959595959596,
          27.30713131313131,
          27.56730303030303,
          27.827474747474746,
          28.08764646464646,
          28.34781818181818,
          28.6079898989899,
          28.868161616161615,
          29.12833333333333,
          29.38850505050505,
          29.64867676767677,
          29.908848484848484,
          30.1690202020202,
          30.42919191919192,
          30.689363636363638,
          30.949535353535353,
          31.20970707070707,
          31.469878787878784,
          31.730050505050503,
          31.990222222222222,
          32.25039393939394,
          32.51056565656565,
          32.770737373737376,
          33.03090909090909,
          33.29108080808081,
          33.55125252525252,
          33.81142424242424,
          34.07159595959596,
          34.331767676767676,
          34.59193939393939,
          34.852111111111114,
          35.11228282828283,
          35.372454545454545,
          35.63262626262626,
          35.892797979797976,
          36.15296969696969,
          36.413141414141414,
          36.67331313131313,
          36.93348484848485,
          37.19365656565657,
          37.45382828282828,
          37.714,
          37.974171717171714,
          38.23434343434343,
          38.494515151515145,
          38.75468686868687,
          39.01485858585858,
          39.275030303030306,
          39.53520202020202,
          39.79537373737374,
          40.05554545454545,
          40.31571717171717,
          40.57588888888888,
          40.836060606060606,
          41.09623232323232,
          41.356404040404044,
          41.61657575757576,
          41.876747474747475,
          42.13691919191919,
          42.397090909090906,
          42.65726262626262,
          42.91743434343434,
          43.17760606060606,
          43.437777777777775,
          43.6979494949495,
          43.95812121212121,
          44.21829292929293,
          44.478464646464644,
          44.73863636363636,
          44.998808080808075,
          45.2589797979798,
          45.51915151515151,
          45.77932323232323,
          46.03949494949495,
          46.29966666666667
         ],
         "xaxis": "x",
         "y": [
          17.38341822540587,
          17.643589942577584,
          17.9037616597493,
          18.163933376921015,
          18.424105094092738,
          18.684276811264453,
          18.94444852843617,
          19.204620245607884,
          19.464791962779607,
          19.724963679951323,
          19.985135397123038,
          20.245307114294754,
          20.505478831466476,
          20.76565054863819,
          21.025822265809907,
          21.285993982981623,
          21.546165700153338,
          21.80633741732506,
          22.066509134496776,
          22.326680851668492,
          22.586852568840207,
          22.84702428601193,
          23.107196003183645,
          23.36736772035536,
          23.627539437527076,
          23.8877111546988,
          24.147882871870515,
          24.40805458904223,
          24.668226306213946,
          24.92839802338566,
          25.188569740557384,
          25.4487414577291,
          25.708913174900815,
          25.96908489207253,
          26.229256609244253,
          26.48942832641597,
          26.749600043587684,
          27.0097717607594,
          27.269943477931122,
          27.530115195102837,
          27.790286912274553,
          28.05045862944627,
          28.310630346617984,
          28.570802063789706,
          28.830973780961422,
          29.091145498133137,
          29.351317215304853,
          29.611488932476576,
          29.87166064964829,
          30.131832366820007,
          30.392004083991722,
          30.652175801163438,
          30.91234751833516,
          31.172519235506876,
          31.43269095267859,
          31.692862669850314,
          31.95303438702203,
          32.213206104193745,
          32.47337782136546,
          32.733549538537176,
          32.99372125570889,
          33.253892972880614,
          33.51406469005233,
          33.77423640722405,
          34.03440812439577,
          34.29457984156748,
          34.5547515587392,
          34.814923275910914,
          35.07509499308263,
          35.335266710254345,
          35.59543842742607,
          35.85561014459778,
          36.115781861769506,
          36.37595357894122,
          36.63612529611294,
          36.89629701328465,
          37.15646873045637,
          37.41664044762808,
          37.676812164799806,
          37.93698388197152,
          38.197155599143244,
          38.45732731631496,
          38.717499033486675,
          38.97767075065839,
          39.237842467830106,
          39.49801418500182,
          39.75818590217354,
          40.01835761934526,
          40.278529336516975,
          40.5387010536887,
          40.79887277086041,
          41.05904448803213,
          41.319216205203844,
          41.57938792237556,
          41.839559639547275,
          42.099731356719,
          42.35990307389071,
          42.62007479106243,
          42.88024650823415,
          43.14041822540587
         ],
         "yaxis": "y"
        },
        {
         "customdata": [
          [
           "carapace:undistorted_GX010089_11_236.jpg_gamma",
           "Prawn_0",
           -4.128994758803113
          ],
          [
           "carapace:undistorted_GX010089_11_236.jpg_gamma",
           "Prawn_1",
           -3.5399035839438895
          ],
          [
           "carapace:undistorted_GX010089_11_236.jpg_gamma",
           "Prawn_2",
           -1.7683476110157912
          ],
          [
           "carapace:undistorted_GX010091_5_149.jpg_gamma",
           "Prawn_0",
           -2.332032528860058
          ],
          [
           "carapace:undistorted_GX010091_5_149.jpg_gamma",
           "Prawn_1",
           -5.227642338077008
          ],
          [
           "carapace:undistorted_GX010091_5_149.jpg_gamma",
           "Prawn_2",
           -4.573804881999617
          ],
          [
           "carapace:undistorted_GX010102_9_165.jpg_gamma",
           "Prawn_0",
           0.5263760785446117
          ],
          [
           "carapace:undistorted_GX010102_9_165.jpg_gamma",
           "Prawn_2",
           -14.142167510171818
          ],
          [
           "carapace:undistorted_GX010102_9_165.jpg_gamma",
           "Prawn_3",
           -2.3100535934195783
          ],
          [
           "carapace:undistorted_GX010102_9_165.jpg_gamma",
           "Prawn_4",
           -1.5731572966426661
          ],
          [
           "carapace:undistorted_GX010102_50_1396.jpg_gamma",
           "Prawn_0",
           -1.1388829285725208
          ],
          [
           "carapace:undistorted_GX010105_28_816.jpg_gamma",
           "Prawn_0",
           -0.06247206872216893
          ],
          [
           "carapace:undistorted_GX010105_28_816.jpg_gamma",
           "Prawn_1",
           4.59368062071923
          ]
         ],
         "hovertemplate": "<b>🦐 Prawn Measurement</b><br>🏊‍♀️ Pond: Circle Male<br>🖼️ Image: %{customdata[0]}<br>🆔 Prawn ID: %{customdata[1]}<br>📏 Manual: %{x:.1f}mm<br>🤖 Algorithm: %{y:.1f}mm<br>📊 Difference: %{customdata[2]:.1f}mm<br><extra></extra>",
         "marker": {
          "color": "#4ECDC4",
          "line": {
           "color": "white",
           "width": 1
          },
          "opacity": 0.8,
          "size": 8
         },
         "mode": "markers",
         "name": "",
         "showlegend": false,
         "type": "scatter",
         "x": [
          27.968666666666664,
          22.925,
          27.132,
          19.889666666666667,
          31.549333333333337,
          28.17333333333333,
          27.877,
          20.31433333333333,
          19.846666666666668,
          21.879999999999995,
          32.966,
          19.029,
          26.55966666666667
         ],
         "xaxis": "x2",
         "y": [
          23.83967190786355,
          19.38509641605611,
          25.36365238898421,
          17.55763413780661,
          26.32169099525633,
          23.59952845133371,
          28.40337607854461,
          6.172165823161512,
          17.53661307324709,
          20.30684270335733,
          31.82711707142748,
          18.96652793127783,
          31.1533472873859
         ],
         "yaxis": "y2"
        },
        {
         "hovertemplate": "Perfect Agreement Line<br>Manual = Algorithm<extra></extra>",
         "line": {
          "color": "black",
          "dash": "dash",
          "width": 2
         },
         "mode": "lines",
         "name": "",
         "showlegend": false,
         "type": "scatter",
         "x": [
          6.172165823161512,
          6.442810612826547,
          6.713455402491583,
          6.9841001921566175,
          7.254744981821653,
          7.525389771486688,
          7.796034561151723,
          8.06667935081676,
          8.337324140481794,
          8.607968930146829,
          8.878613719811865,
          9.1492585094769,
          9.419903299141936,
          9.69054808880697,
          9.961192878472005,
          10.23183766813704,
          10.502482457802076,
          10.773127247467112,
          11.043772037132147,
          11.314416826797181,
          11.585061616462216,
          11.855706406127252,
          12.126351195792287,
          12.396995985457323,
          12.667640775122358,
          12.938285564787392,
          13.208930354452429,
          13.479575144117463,
          13.7502199337825,
          14.020864723447534,
          14.291509513112569,
          14.562154302777605,
          14.83279909244264,
          15.103443882107674,
          15.37408867177271,
          15.644733461437745,
          15.915378251102782,
          16.186023040767815,
          16.45666783043285,
          16.727312620097887,
          16.997957409762922,
          17.268602199427956,
          17.539246989092995,
          17.80989177875803,
          18.080536568423064,
          18.3511813580881,
          18.621826147753133,
          18.892470937418167,
          19.163115727083202,
          19.433760516748237,
          19.704405306413275,
          19.97505009607831,
          20.245694885743347,
          20.516339675408382,
          20.786984465073417,
          21.05762925473845,
          21.328274044403486,
          21.59891883406852,
          21.869563623733555,
          22.14020841339859,
          22.410853203063624,
          22.68149799272866,
          22.9521427823937,
          23.222787572058735,
          23.49343236172377,
          23.764077151388804,
          24.03472194105384,
          24.305366730718873,
          24.576011520383908,
          24.846656310048942,
          25.117301099713977,
          25.38794588937901,
          25.658590679044053,
          25.929235468709088,
          26.199880258374122,
          26.470525048039157,
          26.74116983770419,
          27.011814627369226,
          27.28245941703426,
          27.553104206699295,
          27.82374899636433,
          28.094393786029364,
          28.3650385756944,
          28.63568336535944,
          28.906328155024475,
          29.17697294468951,
          29.447617734354544,
          29.71826252401958,
          29.988907313684614,
          30.259552103349648,
          30.530196893014683,
          30.800841682679717,
          31.071486472344752,
          31.342131262009786,
          31.612776051674828,
          31.883420841339863,
          32.1540656310049,
          32.42471042066993,
          32.69535521033497,
          32.966
         ],
         "xaxis": "x2",
         "y": [
          6.172165823161512,
          6.442810612826547,
          6.713455402491583,
          6.9841001921566175,
          7.254744981821653,
          7.525389771486688,
          7.796034561151723,
          8.06667935081676,
          8.337324140481794,
          8.607968930146829,
          8.878613719811865,
          9.1492585094769,
          9.419903299141936,
          9.69054808880697,
          9.961192878472005,
          10.23183766813704,
          10.502482457802076,
          10.773127247467112,
          11.043772037132147,
          11.314416826797181,
          11.585061616462216,
          11.855706406127252,
          12.126351195792287,
          12.396995985457323,
          12.667640775122358,
          12.938285564787392,
          13.208930354452429,
          13.479575144117463,
          13.7502199337825,
          14.020864723447534,
          14.291509513112569,
          14.562154302777605,
          14.83279909244264,
          15.103443882107674,
          15.37408867177271,
          15.644733461437745,
          15.915378251102782,
          16.186023040767815,
          16.45666783043285,
          16.727312620097887,
          16.997957409762922,
          17.268602199427956,
          17.539246989092995,
          17.80989177875803,
          18.080536568423064,
          18.3511813580881,
          18.621826147753133,
          18.892470937418167,
          19.163115727083202,
          19.433760516748237,
          19.704405306413275,
          19.97505009607831,
          20.245694885743347,
          20.516339675408382,
          20.786984465073417,
          21.05762925473845,
          21.328274044403486,
          21.59891883406852,
          21.869563623733555,
          22.14020841339859,
          22.410853203063624,
          22.68149799272866,
          22.9521427823937,
          23.222787572058735,
          23.49343236172377,
          23.764077151388804,
          24.03472194105384,
          24.305366730718873,
          24.576011520383908,
          24.846656310048942,
          25.117301099713977,
          25.38794588937901,
          25.658590679044053,
          25.929235468709088,
          26.199880258374122,
          26.470525048039157,
          26.74116983770419,
          27.011814627369226,
          27.28245941703426,
          27.553104206699295,
          27.82374899636433,
          28.094393786029364,
          28.3650385756944,
          28.63568336535944,
          28.906328155024475,
          29.17697294468951,
          29.447617734354544,
          29.71826252401958,
          29.988907313684614,
          30.259552103349648,
          30.530196893014683,
          30.800841682679717,
          31.071486472344752,
          31.342131262009786,
          31.612776051674828,
          31.883420841339863,
          32.1540656310049,
          32.42471042066993,
          32.69535521033497,
          32.966
         ],
         "yaxis": "y2"
        },
        {
         "hovertemplate": "Upper Boundary (+3.1mm)<extra></extra>",
         "line": {
          "color": "#2c7fb8",
          "dash": "dot",
          "width": 1
         },
         "mode": "lines",
         "name": "",
         "showlegend": false,
         "type": "scatter",
         "x": [
          6.172165823161512,
          6.442810612826547,
          6.713455402491583,
          6.9841001921566175,
          7.254744981821653,
          7.525389771486688,
          7.796034561151723,
          8.06667935081676,
          8.337324140481794,
          8.607968930146829,
          8.878613719811865,
          9.1492585094769,
          9.419903299141936,
          9.69054808880697,
          9.961192878472005,
          10.23183766813704,
          10.502482457802076,
          10.773127247467112,
          11.043772037132147,
          11.314416826797181,
          11.585061616462216,
          11.855706406127252,
          12.126351195792287,
          12.396995985457323,
          12.667640775122358,
          12.938285564787392,
          13.208930354452429,
          13.479575144117463,
          13.7502199337825,
          14.020864723447534,
          14.291509513112569,
          14.562154302777605,
          14.83279909244264,
          15.103443882107674,
          15.37408867177271,
          15.644733461437745,
          15.915378251102782,
          16.186023040767815,
          16.45666783043285,
          16.727312620097887,
          16.997957409762922,
          17.268602199427956,
          17.539246989092995,
          17.80989177875803,
          18.080536568423064,
          18.3511813580881,
          18.621826147753133,
          18.892470937418167,
          19.163115727083202,
          19.433760516748237,
          19.704405306413275,
          19.97505009607831,
          20.245694885743347,
          20.516339675408382,
          20.786984465073417,
          21.05762925473845,
          21.328274044403486,
          21.59891883406852,
          21.869563623733555,
          22.14020841339859,
          22.410853203063624,
          22.68149799272866,
          22.9521427823937,
          23.222787572058735,
          23.49343236172377,
          23.764077151388804,
          24.03472194105384,
          24.305366730718873,
          24.576011520383908,
          24.846656310048942,
          25.117301099713977,
          25.38794588937901,
          25.658590679044053,
          25.929235468709088,
          26.199880258374122,
          26.470525048039157,
          26.74116983770419,
          27.011814627369226,
          27.28245941703426,
          27.553104206699295,
          27.82374899636433,
          28.094393786029364,
          28.3650385756944,
          28.63568336535944,
          28.906328155024475,
          29.17697294468951,
          29.447617734354544,
          29.71826252401958,
          29.988907313684614,
          30.259552103349648,
          30.530196893014683,
          30.800841682679717,
          31.071486472344752,
          31.342131262009786,
          31.612776051674828,
          31.883420841339863,
          32.1540656310049,
          32.42471042066993,
          32.69535521033497,
          32.966
         ],
         "xaxis": "x2",
         "y": [
          9.22316223924378,
          9.493807028908815,
          9.764451818573852,
          10.035096608238886,
          10.305741397903923,
          10.576386187568957,
          10.847030977233992,
          11.117675766899028,
          11.388320556564063,
          11.658965346229097,
          11.929610135894134,
          12.200254925559168,
          12.470899715224204,
          12.741544504889239,
          13.012189294554274,
          13.282834084219308,
          13.553478873884345,
          13.824123663549381,
          14.094768453214416,
          14.36541324287945,
          14.636058032544485,
          14.906702822209521,
          15.177347611874556,
          15.447992401539592,
          15.718637191204627,
          15.989281980869661,
          16.259926770534697,
          16.530571560199732,
          16.801216349864767,
          17.0718611395298,
          17.342505929194836,
          17.613150718859874,
          17.88379550852491,
          18.154440298189943,
          18.42508508785498,
          18.695729877520016,
          18.96637466718505,
          19.237019456850085,
          19.50766424651512,
          19.778309036180154,
          20.04895382584519,
          20.319598615510223,
          20.590243405175265,
          20.8608881948403,
          21.131532984505334,
          21.40217777417037,
          21.672822563835403,
          21.943467353500438,
          22.214112143165472,
          22.484756932830507,
          22.75540172249554,
          23.026046512160576,
          23.296691301825618,
          23.567336091490652,
          23.837980881155687,
          24.10862567082072,
          24.379270460485756,
          24.64991525015079,
          24.920560039815825,
          25.19120482948086,
          25.461849619145895,
          25.73249440881093,
          26.00313919847597,
          26.273783988141005,
          26.54442877780604,
          26.815073567471075,
          27.08571835713611,
          27.356363146801144,
          27.62700793646618,
          27.897652726131213,
          28.168297515796247,
          28.438942305461282,
          28.709587095126324,
          28.98023188479136,
          29.250876674456393,
          29.521521464121427,
          29.792166253786462,
          30.062811043451497,
          30.33345583311653,
          30.604100622781566,
          30.8747454124466,
          31.145390202111635,
          31.41603499177667,
          31.68667978144171,
          31.957324571106746,
          32.22796936077178,
          32.498614150436815,
          32.76925894010185,
          33.039903729766884,
          33.31054851943192,
          33.58119330909695,
          33.85183809876199,
          34.12248288842702,
          34.39312767809206,
          34.6637724677571,
          34.93441725742213,
          35.20506204708717,
          35.4757068367522,
          35.74635162641724,
          36.01699641608227
         ],
         "yaxis": "y2"
        },
        {
         "hovertemplate": "Lower Boundary (-3.1mm)<extra></extra>",
         "line": {
          "color": "#2c7fb8",
          "dash": "dot",
          "width": 1
         },
         "mode": "lines",
         "name": "",
         "showlegend": false,
         "type": "scatter",
         "x": [
          6.172165823161512,
          6.442810612826547,
          6.713455402491583,
          6.9841001921566175,
          7.254744981821653,
          7.525389771486688,
          7.796034561151723,
          8.06667935081676,
          8.337324140481794,
          8.607968930146829,
          8.878613719811865,
          9.1492585094769,
          9.419903299141936,
          9.69054808880697,
          9.961192878472005,
          10.23183766813704,
          10.502482457802076,
          10.773127247467112,
          11.043772037132147,
          11.314416826797181,
          11.585061616462216,
          11.855706406127252,
          12.126351195792287,
          12.396995985457323,
          12.667640775122358,
          12.938285564787392,
          13.208930354452429,
          13.479575144117463,
          13.7502199337825,
          14.020864723447534,
          14.291509513112569,
          14.562154302777605,
          14.83279909244264,
          15.103443882107674,
          15.37408867177271,
          15.644733461437745,
          15.915378251102782,
          16.186023040767815,
          16.45666783043285,
          16.727312620097887,
          16.997957409762922,
          17.268602199427956,
          17.539246989092995,
          17.80989177875803,
          18.080536568423064,
          18.3511813580881,
          18.621826147753133,
          18.892470937418167,
          19.163115727083202,
          19.433760516748237,
          19.704405306413275,
          19.97505009607831,
          20.245694885743347,
          20.516339675408382,
          20.786984465073417,
          21.05762925473845,
          21.328274044403486,
          21.59891883406852,
          21.869563623733555,
          22.14020841339859,
          22.410853203063624,
          22.68149799272866,
          22.9521427823937,
          23.222787572058735,
          23.49343236172377,
          23.764077151388804,
          24.03472194105384,
          24.305366730718873,
          24.576011520383908,
          24.846656310048942,
          25.117301099713977,
          25.38794588937901,
          25.658590679044053,
          25.929235468709088,
          26.199880258374122,
          26.470525048039157,
          26.74116983770419,
          27.011814627369226,
          27.28245941703426,
          27.553104206699295,
          27.82374899636433,
          28.094393786029364,
          28.3650385756944,
          28.63568336535944,
          28.906328155024475,
          29.17697294468951,
          29.447617734354544,
          29.71826252401958,
          29.988907313684614,
          30.259552103349648,
          30.530196893014683,
          30.800841682679717,
          31.071486472344752,
          31.342131262009786,
          31.612776051674828,
          31.883420841339863,
          32.1540656310049,
          32.42471042066993,
          32.69535521033497,
          32.966
         ],
         "xaxis": "x2",
         "y": [
          3.1211694070792433,
          3.3918141967442788,
          3.662458986409314,
          3.933103776074349,
          4.203748565739384,
          4.47439335540442,
          4.745038145069454,
          5.015682934734491,
          5.286327724399525,
          5.55697251406456,
          5.827617303729596,
          6.098262093394631,
          6.368906883059667,
          6.639551672724702,
          6.910196462389736,
          7.180841252054771,
          7.451486041719807,
          7.722130831384844,
          7.992775621049878,
          8.263420410714913,
          8.534065200379947,
          8.804709990044984,
          9.075354779710018,
          9.345999569375055,
          9.61664435904009,
          9.887289148705124,
          10.15793393837016,
          10.428578728035195,
          10.699223517700231,
          10.969868307365266,
          11.2405130970303,
          11.511157886695337,
          11.781802676360371,
          12.052447466025406,
          12.323092255690442,
          12.593737045355477,
          12.864381835020513,
          13.135026624685546,
          13.40567141435058,
          13.676316204015619,
          13.946960993680653,
          14.217605783345688,
          14.488250573010726,
          14.75889536267576,
          15.029540152340795,
          15.30018494200583,
          15.570829731670864,
          15.841474521335899,
          16.11211931100093,
          16.382764100665966,
          16.653408890331008,
          16.924053679996042,
          17.194698469661077,
          17.46534325932611,
          17.735988048991146,
          18.00663283865618,
          18.277277628321215,
          18.54792241798625,
          18.818567207651284,
          19.08921199731632,
          19.359856786981354,
          19.630501576646388,
          19.90114636631143,
          20.171791155976464,
          20.4424359456415,
          20.713080735306534,
          20.983725524971568,
          21.254370314636603,
          21.525015104301637,
          21.795659893966672,
          22.066304683631706,
          22.33694947329674,
          22.607594262961783,
          22.878239052626817,
          23.148883842291852,
          23.419528631956886,
          23.69017342162192,
          23.960818211286956,
          24.23146300095199,
          24.502107790617025,
          24.77275258028206,
          25.043397369947094,
          25.31404215961213,
          25.58468694927717,
          25.855331738942205,
          26.12597652860724,
          26.396621318272274,
          26.66726610793731,
          26.937910897602343,
          27.208555687267378,
          27.479200476932412,
          27.749845266597447,
          28.02049005626248,
          28.291134845927516,
          28.561779635592558,
          28.832424425257592,
          29.103069214922627,
          29.37371400458766,
          29.644358794252696,
          29.91500358391773
         ],
         "yaxis": "y2"
        },
        {
         "customdata": [
          [
           "carapace:undistorted_GX010152_36_378.jpg_gamma",
           "Prawn_1",
           -13.269833199569447
          ],
          [
           "carapace:undistorted_GX010152_36_378.jpg_gamma",
           "Prawn_2",
           -15.4875471231149
          ],
          [
           "carapace:undistorted_GX010157_68_883",
           "Prawn_0",
           -9.074831406716935
          ],
          [
           "carapace:undistorted_GX010157_160_2259",
           "Prawn_0",
           -6.41259008028857
          ],
          [
           "carapace:undistorted_GX010157_174_2582.jpg_gamma",
           "Prawn_0",
           -13.276553742407941
          ],
          [
           "carapace:undistorted_GX010157_177_2665.jpg_gamma",
           "Prawn_0",
           -9.522291409973633
          ],
          [
           "carapace:undistorted_GX010161_54_676.jpg_gamma.jpg_gamma",
           "Prawn_0",
           -4.0793079988876535
          ],
          [
           "carapace:undistorted_GX010161_136_2267.jpg_gamma.jpg_gamma",
           "Prawn_0",
           -21.92101802852292
          ],
          [
           "carapace:undistorted_GX010162_72_927.jpg_gamma.jpg_gamma",
           "Prawn_0",
           -3.6067524581763557
          ],
          [
           "carapace:undistorted_GX010169_121_1249",
           "Prawn_0",
           -8.126922195164411
          ],
          [
           "carapace:undistorted_GX010174_62_790.jpg_gamma",
           "Prawn_0",
           -7.380580397254022
          ],
          [
           "carapace:undistorted_GX010174_104_1236",
           "Prawn_0",
           -5.909651252795193
          ],
          [
           "carapace:undistorted_GX010175_82_852.jpg_gamma",
           "Prawn_0",
           -7.115754682791202
          ],
          [
           "carapace:undistorted_GX010175_215_2644.jpg_gamma",
           "Prawn_0",
           -17.842474310887557
          ],
          [
           "carapace:undistorted_GX010175_266_3372.jpg_gamma.jpg_gamma",
           "Prawn_0",
           -0.995004527832279
          ],
          [
           "carapace:undistorted_GX010177_232_3047",
           "Prawn_0",
           -7.886297899801004
          ],
          [
           "carapace:undistorted_GX010178_107_2118",
           "Prawn_0",
           -7.9043652321416324
          ],
          [
           "carapace:undistorted_GX010178_107_2118",
           "Prawn_1",
           -3.822270694322903
          ],
          [
           "carapace:undistorted_GX010178_114_2258",
           "Prawn_0",
           -7.566426398624124
          ],
          [
           "carapace:undistorted_GX010178_172_3604.jpg_gamma",
           "Prawn_0",
           -11.74335653014424
          ],
          [
           "carapace:undistorted_GX010178_189_3987.jpg_gamma",
           "Prawn_0",
           -8.572376404681584
          ],
          [
           "carapace:undistorted_GX010178_189_3987.jpg_gamma",
           "Prawn_1",
           -7.925856812311899
          ],
          [
           "carapace:undistorted_GX010179_88_1697.jpg_gamma",
           "Prawn_0",
           3.3927759871928984
          ],
          [
           "carapace:undistorted_GX010180_91_1563",
           "Prawn_0",
           -2.5555677043684177
          ],
          [
           "carapace:undistorted_GX010180_99_1788",
           "Prawn_0",
           -3.163322793782399
          ],
          [
           "carapace:undistorted_GX010181_101_1542",
           "Prawn_0",
           -0.3132721361638886
          ],
          [
           "carapace:undistorted_GX010183_37_685.jpg_gamma",
           "Prawn_1",
           -3.2705801385540667
          ],
          [
           "carapace:undistorted_GX010183_37_685.jpg_gamma",
           "Prawn_2",
           -14.66180881695491
          ],
          [
           "carapace:undistorted_GX010183_80_1633.jpg_gamma",
           "Prawn_0",
           -6.337355527771727
          ],
          [
           "carapace:undistorted_GX010183_80_1633.jpg_gamma",
           "Prawn_1",
           -2.498688861105059
          ],
          [
           "carapace:undistorted_GX010183_128_2852.jpg_gamma",
           "Prawn_0",
           -0.8281748677654441
          ],
          [
           "carapace:undistorted_GX010183_128_2852.jpg_gamma",
           "Prawn_1",
           -3.717666998340338
          ]
         ],
         "hovertemplate": "<b>🦐 Prawn Measurement</b><br>🏊‍♀️ Pond: Square<br>🖼️ Image: %{customdata[0]}<br>🆔 Prawn ID: %{customdata[1]}<br>📏 Manual: %{x:.1f}mm<br>🤖 Algorithm: %{y:.1f}mm<br>📊 Difference: %{customdata[2]:.1f}mm<br><extra></extra>",
         "marker": {
          "color": "#45B7D1",
          "line": {
           "color": "white",
           "width": 1
          },
          "opacity": 0.8,
          "size": 8
         },
         "mode": "markers",
         "name": "",
         "showlegend": false,
         "type": "scatter",
         "x": [
          41.07966666666667,
          42.725,
          32.98833333333334,
          31.28533333333333,
          38.113,
          37.30433333333333,
          33.285333333333334,
          47.38733333333334,
          26.892666666666667,
          35.57933333333333,
          37.70966666666667,
          32.34433333333333,
          34.63733333333333,
          43.782,
          32.26466666666667,
          38.13666666666666,
          33.587999999999994,
          35.447,
          50.45366666666666,
          46.63933333333333,
          37.25899999999999,
          42.73233333333334,
          34.012,
          33.507,
          35.41566666666667,
          36.15233333333333,
          26.575666666666667,
          39.201,
          39.565333333333335,
          35.72666666666667,
          32.74633333333333,
          28.57433333333333
         ],
         "xaxis": "x3",
         "y": [
          27.80983346709722,
          27.2374528768851,
          23.9135019266164,
          24.87274325304476,
          24.83644625759206,
          27.7820419233597,
          29.20602533444568,
          25.46631530481042,
          23.28591420849031,
          27.45241113816892,
          30.32908626941265,
          26.43468208053814,
          27.52157865054213,
          25.93952568911244,
          31.26966213883439,
          30.25036876686566,
          25.68363476785836,
          31.6247293056771,
          42.88724026804254,
          34.89597680318909,
          28.68662359531841,
          34.80647652102144,
          37.4047759871929,
          30.95143229563158,
          32.25234387288427,
          35.83906119716944,
          23.3050865281126,
          24.53919118304509,
          33.22797780556161,
          33.22797780556161,
          31.91815846556789,
          24.85666633499299
         ],
         "yaxis": "y3"
        },
        {
         "hovertemplate": "Perfect Agreement Line<br>Manual = Algorithm<extra></extra>",
         "line": {
          "color": "black",
          "dash": "dash",
          "width": 2
         },
         "mode": "lines",
         "name": "",
         "showlegend": false,
         "type": "scatter",
         "x": [
          23.28591420849031,
          23.560335950492092,
          23.834757692493874,
          24.109179434495655,
          24.383601176497436,
          24.658022918499217,
          24.932444660500998,
          25.20686640250278,
          25.48128814450456,
          25.75570988650634,
          26.030131628508123,
          26.304553370509907,
          26.578975112511685,
          26.85339685451347,
          27.12781859651525,
          27.402240338517032,
          27.676662080518813,
          27.951083822520594,
          28.225505564522376,
          28.499927306524157,
          28.774349048525938,
          29.04877079052772,
          29.3231925325295,
          29.59761427453128,
          29.872036016533063,
          30.146457758534844,
          30.420879500536625,
          30.695301242538406,
          30.969722984540187,
          31.24414472654197,
          31.518566468543753,
          31.79298821054553,
          32.067409952547315,
          32.34183169454909,
          32.61625343655088,
          32.890675178552655,
          33.16509692055444,
          33.43951866255622,
          33.713940404558,
          33.98836214655978,
          34.262783888561565,
          34.53720563056335,
          34.81162737256513,
          35.086049114566904,
          35.36047085656869,
          35.634892598570474,
          35.90931434057225,
          36.18373608257403,
          36.458157824575814,
          36.7325795665776,
          37.007001308579376,
          37.28142305058116,
          37.55584479258294,
          37.83026653458472,
          38.1046882765865,
          38.379110018588285,
          38.65353176059006,
          38.92795350259185,
          39.202375244593625,
          39.47679698659541,
          39.751218728597195,
          40.02564047059897,
          40.30006221260075,
          40.574483954602535,
          40.84890569660432,
          41.1233274386061,
          41.397749180607875,
          41.67217092260966,
          41.946592664611444,
          42.22101440661322,
          42.495436148615,
          42.769857890616784,
          43.04427963261857,
          43.318701374620346,
          43.593123116622124,
          43.867544858623916,
          44.14196660062569,
          44.41638834262747,
          44.690810084629256,
          44.96523182663104,
          45.23965356863282,
          45.514075310634595,
          45.78849705263638,
          46.062918794638165,
          46.33734053663994,
          46.61176227864172,
          46.886184020643505,
          47.16060576264529,
          47.43502750464707,
          47.709449246648845,
          47.98387098865063,
          48.258292730652414,
          48.53271447265419,
          48.80713621465597,
          49.081557956657754,
          49.35597969865954,
          49.630401440661316,
          49.9048231826631,
          50.179244924664886,
          50.45366666666666
         ],
         "xaxis": "x3",
         "y": [
          23.28591420849031,
          23.560335950492092,
          23.834757692493874,
          24.109179434495655,
          24.383601176497436,
          24.658022918499217,
          24.932444660500998,
          25.20686640250278,
          25.48128814450456,
          25.75570988650634,
          26.030131628508123,
          26.304553370509907,
          26.578975112511685,
          26.85339685451347,
          27.12781859651525,
          27.402240338517032,
          27.676662080518813,
          27.951083822520594,
          28.225505564522376,
          28.499927306524157,
          28.774349048525938,
          29.04877079052772,
          29.3231925325295,
          29.59761427453128,
          29.872036016533063,
          30.146457758534844,
          30.420879500536625,
          30.695301242538406,
          30.969722984540187,
          31.24414472654197,
          31.518566468543753,
          31.79298821054553,
          32.067409952547315,
          32.34183169454909,
          32.61625343655088,
          32.890675178552655,
          33.16509692055444,
          33.43951866255622,
          33.713940404558,
          33.98836214655978,
          34.262783888561565,
          34.53720563056335,
          34.81162737256513,
          35.086049114566904,
          35.36047085656869,
          35.634892598570474,
          35.90931434057225,
          36.18373608257403,
          36.458157824575814,
          36.7325795665776,
          37.007001308579376,
          37.28142305058116,
          37.55584479258294,
          37.83026653458472,
          38.1046882765865,
          38.379110018588285,
          38.65353176059006,
          38.92795350259185,
          39.202375244593625,
          39.47679698659541,
          39.751218728597195,
          40.02564047059897,
          40.30006221260075,
          40.574483954602535,
          40.84890569660432,
          41.1233274386061,
          41.397749180607875,
          41.67217092260966,
          41.946592664611444,
          42.22101440661322,
          42.495436148615,
          42.769857890616784,
          43.04427963261857,
          43.318701374620346,
          43.593123116622124,
          43.867544858623916,
          44.14196660062569,
          44.41638834262747,
          44.690810084629256,
          44.96523182663104,
          45.23965356863282,
          45.514075310634595,
          45.78849705263638,
          46.062918794638165,
          46.33734053663994,
          46.61176227864172,
          46.886184020643505,
          47.16060576264529,
          47.43502750464707,
          47.709449246648845,
          47.98387098865063,
          48.258292730652414,
          48.53271447265419,
          48.80713621465597,
          49.081557956657754,
          49.35597969865954,
          49.630401440661316,
          49.9048231826631,
          50.179244924664886,
          50.45366666666666
         ],
         "yaxis": "y3"
        },
        {
         "hovertemplate": "Upper Boundary (+3.2mm)<extra></extra>",
         "line": {
          "color": "#2c7fb8",
          "dash": "dot",
          "width": 1
         },
         "mode": "lines",
         "name": "",
         "showlegend": false,
         "type": "scatter",
         "x": [
          23.28591420849031,
          23.560335950492092,
          23.834757692493874,
          24.109179434495655,
          24.383601176497436,
          24.658022918499217,
          24.932444660500998,
          25.20686640250278,
          25.48128814450456,
          25.75570988650634,
          26.030131628508123,
          26.304553370509907,
          26.578975112511685,
          26.85339685451347,
          27.12781859651525,
          27.402240338517032,
          27.676662080518813,
          27.951083822520594,
          28.225505564522376,
          28.499927306524157,
          28.774349048525938,
          29.04877079052772,
          29.3231925325295,
          29.59761427453128,
          29.872036016533063,
          30.146457758534844,
          30.420879500536625,
          30.695301242538406,
          30.969722984540187,
          31.24414472654197,
          31.518566468543753,
          31.79298821054553,
          32.067409952547315,
          32.34183169454909,
          32.61625343655088,
          32.890675178552655,
          33.16509692055444,
          33.43951866255622,
          33.713940404558,
          33.98836214655978,
          34.262783888561565,
          34.53720563056335,
          34.81162737256513,
          35.086049114566904,
          35.36047085656869,
          35.634892598570474,
          35.90931434057225,
          36.18373608257403,
          36.458157824575814,
          36.7325795665776,
          37.007001308579376,
          37.28142305058116,
          37.55584479258294,
          37.83026653458472,
          38.1046882765865,
          38.379110018588285,
          38.65353176059006,
          38.92795350259185,
          39.202375244593625,
          39.47679698659541,
          39.751218728597195,
          40.02564047059897,
          40.30006221260075,
          40.574483954602535,
          40.84890569660432,
          41.1233274386061,
          41.397749180607875,
          41.67217092260966,
          41.946592664611444,
          42.22101440661322,
          42.495436148615,
          42.769857890616784,
          43.04427963261857,
          43.318701374620346,
          43.593123116622124,
          43.867544858623916,
          44.14196660062569,
          44.41638834262747,
          44.690810084629256,
          44.96523182663104,
          45.23965356863282,
          45.514075310634595,
          45.78849705263638,
          46.062918794638165,
          46.33734053663994,
          46.61176227864172,
          46.886184020643505,
          47.16060576264529,
          47.43502750464707,
          47.709449246648845,
          47.98387098865063,
          48.258292730652414,
          48.53271447265419,
          48.80713621465597,
          49.081557956657754,
          49.35597969865954,
          49.630401440661316,
          49.9048231826631,
          50.179244924664886,
          50.45366666666666
         ],
         "xaxis": "x3",
         "y": [
          26.49857500596138,
          26.772996747963163,
          27.047418489964944,
          27.321840231966725,
          27.596261973968506,
          27.870683715970287,
          28.14510545797207,
          28.41952719997385,
          28.69394894197563,
          28.96837068397741,
          29.242792425979193,
          29.517214167980978,
          29.791635909982755,
          30.06605765198454,
          30.34047939398632,
          30.614901135988102,
          30.889322877989883,
          31.163744619991665,
          31.438166361993446,
          31.712588103995227,
          31.987009845997008,
          32.261431587998786,
          32.53585333000057,
          32.81027507200235,
          33.08469681400413,
          33.35911855600591,
          33.633540298007695,
          33.90796204000947,
          34.18238378201126,
          34.456805524013035,
          34.73122726601482,
          35.0056490080166,
          35.28007075001838,
          35.55449249202016,
          35.828914234021944,
          36.10333597602372,
          36.37775771802551,
          36.652179460027284,
          36.92660120202907,
          37.201022944030846,
          37.47544468603263,
          37.749866428034416,
          38.02428817003619,
          38.29870991203797,
          38.573131654039756,
          38.84755339604154,
          39.12197513804332,
          39.396396880045096,
          39.67081862204688,
          39.945240364048665,
          40.21966210605044,
          40.49408384805223,
          40.768505590054005,
          41.04292733205579,
          41.31734907405757,
          41.59177081605935,
          41.86619255806113,
          42.140614300062914,
          42.41503604206469,
          42.68945778406648,
          42.96387952606826,
          43.23830126807004,
          43.51272301007182,
          43.7871447520736,
          44.061566494075386,
          44.33598823607716,
          44.61040997807894,
          44.884831720080726,
          45.15925346208251,
          45.43367520408429,
          45.708096946086066,
          45.98251868808785,
          46.256940430089635,
          46.53136217209141,
          46.80578391409319,
          47.08020565609498,
          47.35462739809676,
          47.62904914009854,
          47.90347088210032,
          48.17789262410211,
          48.452314366103884,
          48.72673610810566,
          49.00115785010745,
          49.27557959210923,
          49.55000133411101,
          49.82442307611279,
          50.09884481811457,
          50.373266560116356,
          50.647688302118134,
          50.92211004411991,
          51.196531786121696,
          51.47095352812348,
          51.74537527012526,
          52.019797012127036,
          52.29421875412882,
          52.568640496130605,
          52.84306223813238,
          53.11748398013417,
          53.39190572213595,
          53.66632746413773
         ],
         "yaxis": "y3"
        },
        {
         "hovertemplate": "Lower Boundary (-3.2mm)<extra></extra>",
         "line": {
          "color": "#2c7fb8",
          "dash": "dot",
          "width": 1
         },
         "mode": "lines",
         "name": "",
         "showlegend": false,
         "type": "scatter",
         "x": [
          23.28591420849031,
          23.560335950492092,
          23.834757692493874,
          24.109179434495655,
          24.383601176497436,
          24.658022918499217,
          24.932444660500998,
          25.20686640250278,
          25.48128814450456,
          25.75570988650634,
          26.030131628508123,
          26.304553370509907,
          26.578975112511685,
          26.85339685451347,
          27.12781859651525,
          27.402240338517032,
          27.676662080518813,
          27.951083822520594,
          28.225505564522376,
          28.499927306524157,
          28.774349048525938,
          29.04877079052772,
          29.3231925325295,
          29.59761427453128,
          29.872036016533063,
          30.146457758534844,
          30.420879500536625,
          30.695301242538406,
          30.969722984540187,
          31.24414472654197,
          31.518566468543753,
          31.79298821054553,
          32.067409952547315,
          32.34183169454909,
          32.61625343655088,
          32.890675178552655,
          33.16509692055444,
          33.43951866255622,
          33.713940404558,
          33.98836214655978,
          34.262783888561565,
          34.53720563056335,
          34.81162737256513,
          35.086049114566904,
          35.36047085656869,
          35.634892598570474,
          35.90931434057225,
          36.18373608257403,
          36.458157824575814,
          36.7325795665776,
          37.007001308579376,
          37.28142305058116,
          37.55584479258294,
          37.83026653458472,
          38.1046882765865,
          38.379110018588285,
          38.65353176059006,
          38.92795350259185,
          39.202375244593625,
          39.47679698659541,
          39.751218728597195,
          40.02564047059897,
          40.30006221260075,
          40.574483954602535,
          40.84890569660432,
          41.1233274386061,
          41.397749180607875,
          41.67217092260966,
          41.946592664611444,
          42.22101440661322,
          42.495436148615,
          42.769857890616784,
          43.04427963261857,
          43.318701374620346,
          43.593123116622124,
          43.867544858623916,
          44.14196660062569,
          44.41638834262747,
          44.690810084629256,
          44.96523182663104,
          45.23965356863282,
          45.514075310634595,
          45.78849705263638,
          46.062918794638165,
          46.33734053663994,
          46.61176227864172,
          46.886184020643505,
          47.16060576264529,
          47.43502750464707,
          47.709449246648845,
          47.98387098865063,
          48.258292730652414,
          48.53271447265419,
          48.80713621465597,
          49.081557956657754,
          49.35597969865954,
          49.630401440661316,
          49.9048231826631,
          50.179244924664886,
          50.45366666666666
         ],
         "xaxis": "x3",
         "y": [
          20.07325341101924,
          20.347675153021022,
          20.622096895022803,
          20.896518637024585,
          21.170940379026366,
          21.445362121028147,
          21.719783863029928,
          21.99420560503171,
          22.26862734703349,
          22.54304908903527,
          22.817470831037053,
          23.091892573038837,
          23.366314315040615,
          23.6407360570424,
          23.91515779904418,
          24.189579541045962,
          24.464001283047743,
          24.738423025049524,
          25.012844767051305,
          25.287266509053087,
          25.561688251054868,
          25.83610999305665,
          26.11053173505843,
          26.38495347706021,
          26.659375219061992,
          26.933796961063774,
          27.208218703065555,
          27.482640445067336,
          27.757062187069117,
          28.031483929070898,
          28.305905671072683,
          28.58032741307446,
          28.854749155076245,
          29.129170897078023,
          29.403592639079807,
          29.678014381081585,
          29.95243612308337,
          30.226857865085147,
          30.501279607086932,
          30.77570134908871,
          31.050123091090494,
          31.32454483309228,
          31.598966575094057,
          31.873388317095834,
          32.14781005909762,
          32.42223180109941,
          32.696653543101185,
          32.97107528510296,
          33.24549702710475,
          33.51991876910653,
          33.79434051110831,
          34.068762253110094,
          34.34318399511187,
          34.61760573711366,
          34.892027479115434,
          35.16644922111722,
          35.440870963118996,
          35.71529270512078,
          35.98971444712256,
          36.26413618912434,
          36.53855793112613,
          36.812979673127906,
          37.08740141512968,
          37.36182315713147,
          37.63624489913325,
          37.91066664113503,
          38.18508838313681,
          38.45951012513859,
          38.73393186714038,
          39.008353609142155,
          39.28277535114393,
          39.55719709314572,
          39.8316188351475,
          40.10604057714928,
          40.38046231915106,
          40.65488406115285,
          40.92930580315463,
          41.203727545156404,
          41.47814928715819,
          41.752571029159974,
          42.02699277116175,
          42.30141451316353,
          42.575836255165314,
          42.8502579971671,
          43.124679739168876,
          43.39910148117065,
          43.67352322317244,
          43.94794496517422,
          44.222366707176,
          44.49678844917778,
          44.77121019117956,
          45.04563193318135,
          45.320053675183125,
          45.5944754171849,
          45.86889715918669,
          46.14331890118847,
          46.41774064319025,
          46.692162385192034,
          46.96658412719382,
          47.2410058691956
         ],
         "yaxis": "y3"
        }
       ],
       "layout": {
        "annotations": [
         {
          "font": {
           "size": 16
          },
          "showarrow": false,
          "text": "🏊‍♀️ Circle Female Pond<br><sub>Agreement: 50.5% | n=95</sub>",
          "x": 0.13999999999999999,
          "xanchor": "center",
          "xref": "paper",
          "y": 1,
          "yanchor": "bottom",
          "yref": "paper"
         },
         {
          "font": {
           "size": 16
          },
          "showarrow": false,
          "text": "🏊‍♀️ Circle Male Pond<br><sub>Agreement: 53.8% | n=13</sub>",
          "x": 0.49999999999999994,
          "xanchor": "center",
          "xref": "paper",
          "y": 1,
          "yanchor": "bottom",
          "yref": "paper"
         },
         {
          "font": {
           "size": 16
          },
          "showarrow": false,
          "text": "🏊‍♀️ Square Pond<br><sub>Agreement: 18.8% | n=32</sub>",
          "x": 0.86,
          "xanchor": "center",
          "xref": "paper",
          "y": 1,
          "yanchor": "bottom",
          "yref": "paper"
         },
         {
          "font": {
           "color": "gray",
           "size": 11
          },
          "showarrow": false,
          "text": "💡 Hover over points for detailed measurement info | Points near diagonal = better agreement",
          "x": 0.5,
          "xanchor": "center",
          "xref": "paper",
          "y": -0.08,
          "yref": "paper"
         }
        ],
        "height": 650,
        "legend": {
         "font": {
          "size": 12
         },
         "orientation": "h",
         "x": 0.5,
         "xanchor": "center",
         "y": 1.02,
         "yanchor": "bottom"
        },
        "plot_bgcolor": "white",
        "showlegend": true,
        "template": {
         "data": {
          "bar": [
           {
            "error_x": {
             "color": "#2a3f5f"
            },
            "error_y": {
             "color": "#2a3f5f"
            },
            "marker": {
             "line": {
              "color": "#E5ECF6",
              "width": 0.5
             },
             "pattern": {
              "fillmode": "overlay",
              "size": 10,
              "solidity": 0.2
             }
            },
            "type": "bar"
           }
          ],
          "barpolar": [
           {
            "marker": {
             "line": {
              "color": "#E5ECF6",
              "width": 0.5
             },
             "pattern": {
              "fillmode": "overlay",
              "size": 10,
              "solidity": 0.2
             }
            },
            "type": "barpolar"
           }
          ],
          "carpet": [
           {
            "aaxis": {
             "endlinecolor": "#2a3f5f",
             "gridcolor": "white",
             "linecolor": "white",
             "minorgridcolor": "white",
             "startlinecolor": "#2a3f5f"
            },
            "baxis": {
             "endlinecolor": "#2a3f5f",
             "gridcolor": "white",
             "linecolor": "white",
             "minorgridcolor": "white",
             "startlinecolor": "#2a3f5f"
            },
            "type": "carpet"
           }
          ],
          "choropleth": [
           {
            "colorbar": {
             "outlinewidth": 0,
             "ticks": ""
            },
            "type": "choropleth"
           }
          ],
          "contour": [
           {
            "colorbar": {
             "outlinewidth": 0,
             "ticks": ""
            },
            "colorscale": [
             [
              0,
              "#0d0887"
             ],
             [
              0.1111111111111111,
              "#46039f"
             ],
             [
              0.2222222222222222,
              "#7201a8"
             ],
             [
              0.3333333333333333,
              "#9c179e"
             ],
             [
              0.4444444444444444,
              "#bd3786"
             ],
             [
              0.5555555555555556,
              "#d8576b"
             ],
             [
              0.6666666666666666,
              "#ed7953"
             ],
             [
              0.7777777777777778,
              "#fb9f3a"
             ],
             [
              0.8888888888888888,
              "#fdca26"
             ],
             [
              1,
              "#f0f921"
             ]
            ],
            "type": "contour"
           }
          ],
          "contourcarpet": [
           {
            "colorbar": {
             "outlinewidth": 0,
             "ticks": ""
            },
            "type": "contourcarpet"
           }
          ],
          "heatmap": [
           {
            "colorbar": {
             "outlinewidth": 0,
             "ticks": ""
            },
            "colorscale": [
             [
              0,
              "#0d0887"
             ],
             [
              0.1111111111111111,
              "#46039f"
             ],
             [
              0.2222222222222222,
              "#7201a8"
             ],
             [
              0.3333333333333333,
              "#9c179e"
             ],
             [
              0.4444444444444444,
              "#bd3786"
             ],
             [
              0.5555555555555556,
              "#d8576b"
             ],
             [
              0.6666666666666666,
              "#ed7953"
             ],
             [
              0.7777777777777778,
              "#fb9f3a"
             ],
             [
              0.8888888888888888,
              "#fdca26"
             ],
             [
              1,
              "#f0f921"
             ]
            ],
            "type": "heatmap"
           }
          ],
          "heatmapgl": [
           {
            "colorbar": {
             "outlinewidth": 0,
             "ticks": ""
            },
            "colorscale": [
             [
              0,
              "#0d0887"
             ],
             [
              0.1111111111111111,
              "#46039f"
             ],
             [
              0.2222222222222222,
              "#7201a8"
             ],
             [
              0.3333333333333333,
              "#9c179e"
             ],
             [
              0.4444444444444444,
              "#bd3786"
             ],
             [
              0.5555555555555556,
              "#d8576b"
             ],
             [
              0.6666666666666666,
              "#ed7953"
             ],
             [
              0.7777777777777778,
              "#fb9f3a"
             ],
             [
              0.8888888888888888,
              "#fdca26"
             ],
             [
              1,
              "#f0f921"
             ]
            ],
            "type": "heatmapgl"
           }
          ],
          "histogram": [
           {
            "marker": {
             "pattern": {
              "fillmode": "overlay",
              "size": 10,
              "solidity": 0.2
             }
            },
            "type": "histogram"
           }
          ],
          "histogram2d": [
           {
            "colorbar": {
             "outlinewidth": 0,
             "ticks": ""
            },
            "colorscale": [
             [
              0,
              "#0d0887"
             ],
             [
              0.1111111111111111,
              "#46039f"
             ],
             [
              0.2222222222222222,
              "#7201a8"
             ],
             [
              0.3333333333333333,
              "#9c179e"
             ],
             [
              0.4444444444444444,
              "#bd3786"
             ],
             [
              0.5555555555555556,
              "#d8576b"
             ],
             [
              0.6666666666666666,
              "#ed7953"
             ],
             [
              0.7777777777777778,
              "#fb9f3a"
             ],
             [
              0.8888888888888888,
              "#fdca26"
             ],
             [
              1,
              "#f0f921"
             ]
            ],
            "type": "histogram2d"
           }
          ],
          "histogram2dcontour": [
           {
            "colorbar": {
             "outlinewidth": 0,
             "ticks": ""
            },
            "colorscale": [
             [
              0,
              "#0d0887"
             ],
             [
              0.1111111111111111,
              "#46039f"
             ],
             [
              0.2222222222222222,
              "#7201a8"
             ],
             [
              0.3333333333333333,
              "#9c179e"
             ],
             [
              0.4444444444444444,
              "#bd3786"
             ],
             [
              0.5555555555555556,
              "#d8576b"
             ],
             [
              0.6666666666666666,
              "#ed7953"
             ],
             [
              0.7777777777777778,
              "#fb9f3a"
             ],
             [
              0.8888888888888888,
              "#fdca26"
             ],
             [
              1,
              "#f0f921"
             ]
            ],
            "type": "histogram2dcontour"
           }
          ],
          "mesh3d": [
           {
            "colorbar": {
             "outlinewidth": 0,
             "ticks": ""
            },
            "type": "mesh3d"
           }
          ],
          "parcoords": [
           {
            "line": {
             "colorbar": {
              "outlinewidth": 0,
              "ticks": ""
             }
            },
            "type": "parcoords"
           }
          ],
          "pie": [
           {
            "automargin": true,
            "type": "pie"
           }
          ],
          "scatter": [
           {
            "fillpattern": {
             "fillmode": "overlay",
             "size": 10,
             "solidity": 0.2
            },
            "type": "scatter"
           }
          ],
          "scatter3d": [
           {
            "line": {
             "colorbar": {
              "outlinewidth": 0,
              "ticks": ""
             }
            },
            "marker": {
             "colorbar": {
              "outlinewidth": 0,
              "ticks": ""
             }
            },
            "type": "scatter3d"
           }
          ],
          "scattercarpet": [
           {
            "marker": {
             "colorbar": {
              "outlinewidth": 0,
              "ticks": ""
             }
            },
            "type": "scattercarpet"
           }
          ],
          "scattergeo": [
           {
            "marker": {
             "colorbar": {
              "outlinewidth": 0,
              "ticks": ""
             }
            },
            "type": "scattergeo"
           }
          ],
          "scattergl": [
           {
            "marker": {
             "colorbar": {
              "outlinewidth": 0,
              "ticks": ""
             }
            },
            "type": "scattergl"
           }
          ],
          "scattermapbox": [
           {
            "marker": {
             "colorbar": {
              "outlinewidth": 0,
              "ticks": ""
             }
            },
            "type": "scattermapbox"
           }
          ],
          "scatterpolar": [
           {
            "marker": {
             "colorbar": {
              "outlinewidth": 0,
              "ticks": ""
             }
            },
            "type": "scatterpolar"
           }
          ],
          "scatterpolargl": [
           {
            "marker": {
             "colorbar": {
              "outlinewidth": 0,
              "ticks": ""
             }
            },
            "type": "scatterpolargl"
           }
          ],
          "scatterternary": [
           {
            "marker": {
             "colorbar": {
              "outlinewidth": 0,
              "ticks": ""
             }
            },
            "type": "scatterternary"
           }
          ],
          "surface": [
           {
            "colorbar": {
             "outlinewidth": 0,
             "ticks": ""
            },
            "colorscale": [
             [
              0,
              "#0d0887"
             ],
             [
              0.1111111111111111,
              "#46039f"
             ],
             [
              0.2222222222222222,
              "#7201a8"
             ],
             [
              0.3333333333333333,
              "#9c179e"
             ],
             [
              0.4444444444444444,
              "#bd3786"
             ],
             [
              0.5555555555555556,
              "#d8576b"
             ],
             [
              0.6666666666666666,
              "#ed7953"
             ],
             [
              0.7777777777777778,
              "#fb9f3a"
             ],
             [
              0.8888888888888888,
              "#fdca26"
             ],
             [
              1,
              "#f0f921"
             ]
            ],
            "type": "surface"
           }
          ],
          "table": [
           {
            "cells": {
             "fill": {
              "color": "#EBF0F8"
             },
             "line": {
              "color": "white"
             }
            },
            "header": {
             "fill": {
              "color": "#C8D4E3"
             },
             "line": {
              "color": "white"
             }
            },
            "type": "table"
           }
          ]
         },
         "layout": {
          "annotationdefaults": {
           "arrowcolor": "#2a3f5f",
           "arrowhead": 0,
           "arrowwidth": 1
          },
          "autotypenumbers": "strict",
          "coloraxis": {
           "colorbar": {
            "outlinewidth": 0,
            "ticks": ""
           }
          },
          "colorscale": {
           "diverging": [
            [
             0,
             "#8e0152"
            ],
            [
             0.1,
             "#c51b7d"
            ],
            [
             0.2,
             "#de77ae"
            ],
            [
             0.3,
             "#f1b6da"
            ],
            [
             0.4,
             "#fde0ef"
            ],
            [
             0.5,
             "#f7f7f7"
            ],
            [
             0.6,
             "#e6f5d0"
            ],
            [
             0.7,
             "#b8e186"
            ],
            [
             0.8,
             "#7fbc41"
            ],
            [
             0.9,
             "#4d9221"
            ],
            [
             1,
             "#276419"
            ]
           ],
           "sequential": [
            [
             0,
             "#0d0887"
            ],
            [
             0.1111111111111111,
             "#46039f"
            ],
            [
             0.2222222222222222,
             "#7201a8"
            ],
            [
             0.3333333333333333,
             "#9c179e"
            ],
            [
             0.4444444444444444,
             "#bd3786"
            ],
            [
             0.5555555555555556,
             "#d8576b"
            ],
            [
             0.6666666666666666,
             "#ed7953"
            ],
            [
             0.7777777777777778,
             "#fb9f3a"
            ],
            [
             0.8888888888888888,
             "#fdca26"
            ],
            [
             1,
             "#f0f921"
            ]
           ],
           "sequentialminus": [
            [
             0,
             "#0d0887"
            ],
            [
             0.1111111111111111,
             "#46039f"
            ],
            [
             0.2222222222222222,
             "#7201a8"
            ],
            [
             0.3333333333333333,
             "#9c179e"
            ],
            [
             0.4444444444444444,
             "#bd3786"
            ],
            [
             0.5555555555555556,
             "#d8576b"
            ],
            [
             0.6666666666666666,
             "#ed7953"
            ],
            [
             0.7777777777777778,
             "#fb9f3a"
            ],
            [
             0.8888888888888888,
             "#fdca26"
            ],
            [
             1,
             "#f0f921"
            ]
           ]
          },
          "colorway": [
           "#636efa",
           "#EF553B",
           "#00cc96",
           "#ab63fa",
           "#FFA15A",
           "#19d3f3",
           "#FF6692",
           "#B6E880",
           "#FF97FF",
           "#FECB52"
          ],
          "font": {
           "color": "#2a3f5f"
          },
          "geo": {
           "bgcolor": "white",
           "lakecolor": "white",
           "landcolor": "#E5ECF6",
           "showlakes": true,
           "showland": true,
           "subunitcolor": "white"
          },
          "hoverlabel": {
           "align": "left"
          },
          "hovermode": "closest",
          "mapbox": {
           "style": "light"
          },
          "paper_bgcolor": "white",
          "plot_bgcolor": "#E5ECF6",
          "polar": {
           "angularaxis": {
            "gridcolor": "white",
            "linecolor": "white",
            "ticks": ""
           },
           "bgcolor": "#E5ECF6",
           "radialaxis": {
            "gridcolor": "white",
            "linecolor": "white",
            "ticks": ""
           }
          },
          "scene": {
           "xaxis": {
            "backgroundcolor": "#E5ECF6",
            "gridcolor": "white",
            "gridwidth": 2,
            "linecolor": "white",
            "showbackground": true,
            "ticks": "",
            "zerolinecolor": "white"
           },
           "yaxis": {
            "backgroundcolor": "#E5ECF6",
            "gridcolor": "white",
            "gridwidth": 2,
            "linecolor": "white",
            "showbackground": true,
            "ticks": "",
            "zerolinecolor": "white"
           },
           "zaxis": {
            "backgroundcolor": "#E5ECF6",
            "gridcolor": "white",
            "gridwidth": 2,
            "linecolor": "white",
            "showbackground": true,
            "ticks": "",
            "zerolinecolor": "white"
           }
          },
          "shapedefaults": {
           "line": {
            "color": "#2a3f5f"
           }
          },
          "ternary": {
           "aaxis": {
            "gridcolor": "white",
            "linecolor": "white",
            "ticks": ""
           },
           "baxis": {
            "gridcolor": "white",
            "linecolor": "white",
            "ticks": ""
           },
           "bgcolor": "#E5ECF6",
           "caxis": {
            "gridcolor": "white",
            "linecolor": "white",
            "ticks": ""
           }
          },
          "title": {
           "x": 0.05
          },
          "xaxis": {
           "automargin": true,
           "gridcolor": "white",
           "linecolor": "white",
           "ticks": "",
           "title": {
            "standoff": 15
           },
           "zerolinecolor": "white",
           "zerolinewidth": 2
          },
          "yaxis": {
           "automargin": true,
           "gridcolor": "white",
           "linecolor": "white",
           "ticks": "",
           "title": {
            "standoff": 15
           },
           "zerolinecolor": "white",
           "zerolinewidth": 2
          }
         }
        },
        "title": {
         "font": {
          "size": 18
         },
         "text": "🎯 Measurement Precision Dashboard: Algorithm vs Manual Agreement Analysis"
        },
        "width": 1350,
        "xaxis": {
         "anchor": "y",
         "domain": [
          0,
          0.27999999999999997
         ],
         "gridcolor": "lightgray",
         "gridwidth": 1,
         "showgrid": true,
         "title": {
          "font": {
           "size": 12
          },
          "text": "Manual Measurements (mm)"
         }
        },
        "xaxis2": {
         "anchor": "y2",
         "domain": [
          0.36,
          0.6399999999999999
         ],
         "gridcolor": "lightgray",
         "gridwidth": 1,
         "showgrid": true,
         "title": {
          "font": {
           "size": 12
          },
          "text": "Manual Measurements (mm)"
         }
        },
        "xaxis3": {
         "anchor": "y3",
         "domain": [
          0.72,
          1
         ],
         "gridcolor": "lightgray",
         "gridwidth": 1,
         "showgrid": true,
         "title": {
          "font": {
           "size": 12
          },
          "text": "Manual Measurements (mm)"
         }
        },
        "yaxis": {
         "anchor": "x",
         "domain": [
          0,
          1
         ],
         "gridcolor": "lightgray",
         "gridwidth": 1,
         "scaleanchor": "x",
         "scaleratio": 1,
         "showgrid": true,
         "title": {
          "font": {
           "size": 12
          },
          "text": "Algorithm Predictions (mm)"
         }
        },
        "yaxis2": {
         "anchor": "x2",
         "domain": [
          0,
          1
         ],
         "gridcolor": "lightgray",
         "gridwidth": 1,
         "scaleanchor": "x2",
         "scaleratio": 1,
         "showgrid": true
        },
        "yaxis3": {
         "anchor": "x3",
         "domain": [
          0,
          1
         ],
         "gridcolor": "lightgray",
         "gridwidth": 1,
         "scaleanchor": "x3",
         "scaleratio": 1,
         "showgrid": true
        }
       }
      }
     },
     "metadata": {},
     "output_type": "display_data"
    },
    {
     "name": "stdout",
     "output_type": "stream",
     "text": [
      "\n",
      "================================================================================\n",
      "🎯 MEASUREMENT PRECISION ANALYSIS COMPLETE!\n",
      "================================================================================\n",
      "\n",
      "📋 DETAILED PRECISION SUMMARY:\n",
      "--------------------------------------------------\n",
      "\n",
      "🏊‍♀️ Circle Female Pond Detailed Analysis:\n",
      "   📏 Mean Length: 34.72mm\n",
      "   📊 Std Boundary: ±3.16mm\n",
      "   🦐 Sample Size: 95 measurements\n",
      "   ✅ Within Bounds: 50.5%\n",
      "   📈 Mean Absolute Error: 3.85mm\n",
      "   📉 Mean Bias: -2.83mm\n",
      "   🎯 Precision Range: 0.05 - 10.93mm\n",
      "\n",
      "🏊‍♀️ Circle Male Pond Detailed Analysis:\n",
      "   📏 Mean Length: 25.09mm\n",
      "   📊 Std Boundary: ±3.05mm\n",
      "   🦐 Sample Size: 13 measurements\n",
      "   ✅ Within Bounds: 53.8%\n",
      "   📈 Mean Absolute Error: 3.53mm\n",
      "   📉 Mean Bias: -2.74mm\n",
      "   🎯 Precision Range: 0.06 - 14.14mm\n",
      "\n",
      "🏊‍♀️ Square Pond Detailed Analysis:\n",
      "   📏 Mean Length: 36.66mm\n",
      "   📊 Std Boundary: ±3.21mm\n",
      "   🦐 Sample Size: 32 measurements\n",
      "   ✅ Within Bounds: 18.8%\n",
      "   📈 Mean Absolute Error: 7.51mm\n",
      "   📉 Mean Bias: -7.29mm\n",
      "   🎯 Precision Range: 0.31 - 21.92mm\n",
      "\n",
      "================================================================================\n",
      "🎨 VISUALIZATION FEATURES:\n",
      "   📍 Interactive hover: Shows image name, prawn ID, and measurement details\n",
      "   📐 Perfect agreement line: Black diagonal (y=x)\n",
      "   📊 Precision boundaries: Blue dashed lines (±std)\n",
      "   🏊‍♀️ Color coding: Consistent with previous analyses\n",
      "   📏 Equal aspect ratio: Accurate visual comparison\n",
      "================================================================================\n",
      "\n",
      "🚀 KEY INSIGHTS:\n",
      "   🎯 Points closer to diagonal = better algorithm-manual agreement\n",
      "   📊 Points within blue boundaries = acceptable precision range\n",
      "   🏊‍♀️ Each pond type shows distinct precision characteristics\n",
      "   📈 Hover over any point to see detailed measurement information\n",
      "================================================================================\n"
     ]
    }
   ],
   "source": [
    "# 🎯 COMPREHENSIVE MEASUREMENT PRECISION ANALYSIS\n",
    "# ===============================================\n",
    "\n",
    "print(\"🚀 Starting comprehensive measurement precision analysis...\")\n",
    "print(\"📊 Analyzing algorithm-manual agreement patterns across pond environments\")\n",
    "print(\"=\" * 80)\n",
    "\n",
    "# 📋 Initialize analysis parameters\n",
    "pond_types = df['Pond_Type'].unique()\n",
    "n_pond_types = len(pond_types)\n",
    "\n",
    "# 🎨 Enhanced color scheme for pond types (consistent with previous analyses)\n",
    "pond_colors_enhanced = {\n",
    "    'circle_female': '#FF6B6B',  # Coral red\n",
    "    'circle_male': '#4ECDC4',    # Teal  \n",
    "    'square': '#45B7D1'          # Sky blue\n",
    "}\n",
    "\n",
    "# 📊 PHASE 1: Data Preparation and Statistical Summary\n",
    "# ===================================================\n",
    "\n",
    "print(\"\\n📈 PHASE 1: Calculating precision metrics for each pond type...\")\n",
    "\n",
    "pond_scatter_data = {}\n",
    "precision_summary = {}\n",
    "\n",
    "for pond_type in pond_types:\n",
    "    print(f\"\\n🏊‍♀️ --- {pond_type.replace('_', ' ').title()} Pond Analysis ---\")\n",
    "    \n",
    "    # Extract pond-specific data\n",
    "    df_pond = df[df['Pond_Type'] == pond_type].copy()\n",
    "    \n",
    "    # Calculate basic statistics\n",
    "    mean_length = df_pond['mean_length'].mean()\n",
    "    std_length = df_pond['std_length'].mean()\n",
    "    sample_size = len(df_pond)\n",
    "    \n",
    "    print(f\"📏 Mean prawn length: {mean_length:.2f}mm\")\n",
    "    print(f\"📊 Standard deviation: {std_length:.2f}mm\")\n",
    "    print(f\"🦐 Sample size: {sample_size} measurements\")\n",
    "    \n",
    "    # 🎯 Calculate precision boundaries\n",
    "    min_val = min(df_pond['mean_length'].min(), df_pond['Length_fov(mm)'].min())\n",
    "    max_val = max(df_pond['mean_length'].max(), df_pond['Length_fov(mm)'].max())\n",
    "    x_range = np.linspace(min_val, max_val, 100)\n",
    "    \n",
    "    # 📐 Calculate agreement metrics\n",
    "    within_bounds = ((df_pond['Length_fov(mm)'] <= df_pond['mean_length'] + std_length) & \n",
    "                    (df_pond['Length_fov(mm)'] >= df_pond['mean_length'] - std_length)).mean() * 100\n",
    "    \n",
    "    print(f\"✅ Agreement rate (within ±{std_length:.1f}mm): {within_bounds:.1f}%\")\n",
    "    \n",
    "    # Store processed data\n",
    "    pond_scatter_data[pond_type] = {\n",
    "        'df_pond': df_pond,\n",
    "        'x': x_range,\n",
    "        'median_mad': std_length,\n",
    "        'within_bounds': within_bounds,\n",
    "        'color': pond_colors_enhanced.get(pond_type, '#333333')\n",
    "    }\n",
    "    \n",
    "    precision_summary[pond_type] = {\n",
    "        'mean_length': mean_length,\n",
    "        'std_length': std_length,\n",
    "        'sample_size': sample_size,\n",
    "        'agreement_rate': within_bounds\n",
    "    }\n",
    "    \n",
    "    print(\"─\" * 50)\n",
    "\n",
    "# 📊 PHASE 2: Interactive Scatter Plot Visualization\n",
    "# =================================================\n",
    "\n",
    "print(\"\\n🎨 PHASE 2: Creating interactive precision scatter plots...\")\n",
    "\n",
    "# Create enhanced subplot structure\n",
    "fig = make_subplots(\n",
    "    rows=1, cols=n_pond_types,\n",
    "    subplot_titles=[f'🏊‍♀️ {pond_type.replace(\"_\", \" \").title()} Pond<br>'\n",
    "                   f'<sub>Agreement: {pond_scatter_data[pond_type][\"within_bounds\"]:.1f}% | '\n",
    "                   f'n={precision_summary[pond_type][\"sample_size\"]}</sub>' \n",
    "                   for pond_type in pond_types],\n",
    "    shared_yaxes=False,\n",
    "    horizontal_spacing=0.08\n",
    ")\n",
    "\n",
    "# 🎯 Add traces for each pond type\n",
    "for i, pond_type in enumerate(pond_types, 1):\n",
    "    data = pond_scatter_data[pond_type]\n",
    "    df_pond = data['df_pond']\n",
    "    x_range = data['x']\n",
    "    std_boundary = data['median_mad']\n",
    "    color = data['color']\n",
    "    \n",
    "    # 📍 Add measurement scatter points with enhanced hover\n",
    "    fig.add_trace(\n",
    "        go.Scatter(\n",
    "            x=df_pond['mean_length'],\n",
    "            y=df_pond['Length_fov(mm)'],\n",
    "            mode='markers',\n",
    "            name='🦐 Measurements' if i == 1 else '',\n",
    "            marker=dict(\n",
    "                color=color,\n",
    "                opacity=0.8,\n",
    "                size=8,\n",
    "                line=dict(width=1, color='white')\n",
    "            ),\n",
    "            showlegend=(i == 1),\n",
    "            hovertemplate=\"<b>🦐 Prawn Measurement</b><br>\" +\n",
    "                         \"🏊‍♀️ Pond: \" + pond_type.replace('_', ' ').title() + \"<br>\" +\n",
    "                         \"🖼️ Image: %{customdata[0]}<br>\" +\n",
    "                         \"🆔 Prawn ID: %{customdata[1]}<br>\" +\n",
    "                         \"📏 Manual: %{x:.1f}mm<br>\" +\n",
    "                         \"🤖 Algorithm: %{y:.1f}mm<br>\" +\n",
    "                         \"📊 Difference: %{customdata[2]:.1f}mm<br>\" +\n",
    "                         \"<extra></extra>\",\n",
    "            customdata=df_pond[['Label', 'PrawnID']].assign(\n",
    "                diff=df_pond['Length_fov(mm)'] - df_pond['mean_length']\n",
    "            )[['Label', 'PrawnID', 'diff']].values\n",
    "        ),\n",
    "        row=1, col=i\n",
    "    )\n",
    "    \n",
    "    # ━━ Add perfect agreement line (y=x)\n",
    "    fig.add_trace(\n",
    "        go.Scatter(\n",
    "            x=x_range, y=x_range,\n",
    "            mode='lines',\n",
    "            name='📐 Perfect Agreement (y=x)' if i == 1 else '',\n",
    "            line=dict(color='black', width=2, dash='dash'),\n",
    "            showlegend=(i == 1),\n",
    "            hovertemplate=\"Perfect Agreement Line<br>Manual = Algorithm<extra></extra>\"\n",
    "        ),\n",
    "        row=1, col=i\n",
    "    )\n",
    "    \n",
    "    # ▲ Add upper precision boundary\n",
    "    fig.add_trace(\n",
    "        go.Scatter(\n",
    "            x=x_range, y=x_range + std_boundary,\n",
    "            mode='lines',\n",
    "            name=f'📊 ±{std_boundary:.1f}mm Boundaries' if i == 1 else '',\n",
    "            line=dict(color='#2c7fb8', width=1, dash='dot'),\n",
    "            showlegend=(i == 1),\n",
    "            hovertemplate=f\"Upper Boundary (+{std_boundary:.1f}mm)<extra></extra>\"\n",
    "        ),\n",
    "        row=1, col=i\n",
    "    )\n",
    "    \n",
    "    # ▼ Add lower precision boundary\n",
    "    fig.add_trace(\n",
    "        go.Scatter(\n",
    "            x=x_range, y=x_range - std_boundary,\n",
    "            mode='lines',\n",
    "            name='',  # Don't show in legend (same as upper)\n",
    "            line=dict(color='#2c7fb8', width=1, dash='dot'),\n",
    "            showlegend=False,\n",
    "            hovertemplate=f\"Lower Boundary (-{std_boundary:.1f}mm)<extra></extra>\"\n",
    "        ),\n",
    "        row=1, col=i\n",
    "    )\n",
    "\n",
    "# 🎨 Enhanced layout configuration\n",
    "fig.update_layout(\n",
    "    title_text=\"🎯 Measurement Precision Dashboard: Algorithm vs Manual Agreement Analysis\",\n",
    "    title_font_size=18,\n",
    "    width=450*n_pond_types,\n",
    "    height=650,\n",
    "    showlegend=True,\n",
    "    legend=dict(\n",
    "        orientation=\"h\",\n",
    "        yanchor=\"bottom\",\n",
    "        y=1.02,\n",
    "        xanchor=\"center\",\n",
    "        x=0.5,\n",
    "        font=dict(size=12)\n",
    "    ),\n",
    "    plot_bgcolor='white'\n",
    ")\n",
    "\n",
    "# 📊 Update axes for each subplot\n",
    "for i in range(1, n_pond_types + 1):\n",
    "    fig.update_xaxes(\n",
    "        title_text=\"Manual Measurements (mm)\",\n",
    "        row=1, col=i,\n",
    "        showgrid=True,\n",
    "        gridwidth=1,\n",
    "        gridcolor='lightgray',\n",
    "        title_font_size=12\n",
    "    )\n",
    "    \n",
    "    # Equal aspect ratio for accurate visual comparison\n",
    "    fig.update_yaxes(\n",
    "        scaleanchor=f\"x{i if i > 1 else ''}\",\n",
    "        scaleratio=1,\n",
    "        row=1, col=i,\n",
    "        showgrid=True,\n",
    "        gridwidth=1,\n",
    "        gridcolor='lightgray'\n",
    "    )\n",
    "\n",
    "# Update y-axis title for the first subplot only\n",
    "fig.update_yaxes(\n",
    "    title_text=\"Algorithm Predictions (mm)\",\n",
    "    row=1, col=1,\n",
    "    title_font_size=12\n",
    ")\n",
    "\n",
    "# 📝 Add informative annotations\n",
    "fig.add_annotation(\n",
    "    text=\"💡 Hover over points for detailed measurement info | Points near diagonal = better agreement\",\n",
    "    xref=\"paper\", yref=\"paper\",\n",
    "    x=0.5, y=-0.08,\n",
    "    showarrow=False,\n",
    "    font=dict(size=11, color=\"gray\"),\n",
    "    xanchor=\"center\"\n",
    ")\n",
    "\n",
    "print(\"✨ Interactive scatter plot created successfully!\")\n",
    "print(\"🎯 Visualization includes:\")\n",
    "print(\"   📍 Measurement points with detailed hover information\")\n",
    "print(\"   📐 Perfect agreement line (y=x diagonal)\")\n",
    "print(\"   📊 Precision boundaries (±standard deviation)\")\n",
    "print(\"   🏊‍♀️ Pond-specific color coding and statistics\")\n",
    "\n",
    "# 📈 Display the visualization\n",
    "fig.show()\n",
    "\n",
    "# 📊 PHASE 3: Comprehensive Precision Summary Report\n",
    "# =================================================\n",
    "\n",
    "print(\"\\n\" + \"=\"*80)\n",
    "print(\"🎯 MEASUREMENT PRECISION ANALYSIS COMPLETE!\")\n",
    "print(\"=\"*80)\n",
    "\n",
    "print(\"\\n📋 DETAILED PRECISION SUMMARY:\")\n",
    "print(\"-\" * 50)\n",
    "\n",
    "for pond_type in pond_types:\n",
    "    data = pond_scatter_data[pond_type]\n",
    "    df_pond = data['df_pond']\n",
    "    \n",
    "    # Calculate additional precision metrics\n",
    "    actual_differences = df_pond['Length_fov(mm)'] - df_pond['mean_length']\n",
    "    abs_differences = abs(actual_differences)\n",
    "    \n",
    "    print(f\"\\n🏊‍♀️ {pond_type.replace('_', ' ').title()} Pond Detailed Analysis:\")\n",
    "    print(f\"   📏 Mean Length: {df_pond['mean_length'].mean():.2f}mm\")\n",
    "    print(f\"   📊 Std Boundary: ±{data['median_mad']:.2f}mm\")\n",
    "    print(f\"   🦐 Sample Size: {len(df_pond)} measurements\")\n",
    "    print(f\"   ✅ Within Bounds: {data['within_bounds']:.1f}%\")\n",
    "    print(f\"   📈 Mean Absolute Error: {abs_differences.mean():.2f}mm\")\n",
    "    print(f\"   📉 Mean Bias: {actual_differences.mean():.2f}mm\")\n",
    "    print(f\"   🎯 Precision Range: {abs_differences.min():.2f} - {abs_differences.max():.2f}mm\")\n",
    "\n",
    "print(\"\\n\" + \"=\"*80)\n",
    "print(\"🎨 VISUALIZATION FEATURES:\")\n",
    "print(\"   📍 Interactive hover: Shows image name, prawn ID, and measurement details\")\n",
    "print(\"   📐 Perfect agreement line: Black diagonal (y=x)\")\n",
    "print(\"   📊 Precision boundaries: Blue dashed lines (±std)\")\n",
    "print(\"   🏊‍♀️ Color coding: Consistent with previous analyses\")\n",
    "print(\"   📏 Equal aspect ratio: Accurate visual comparison\")\n",
    "print(\"=\"*80)\n",
    "\n",
    "print(\"\\n🚀 KEY INSIGHTS:\")\n",
    "print(\"   🎯 Points closer to diagonal = better algorithm-manual agreement\")\n",
    "print(\"   📊 Points within blue boundaries = acceptable precision range\")\n",
    "print(\"   🏊‍♀️ Each pond type shows distinct precision characteristics\")\n",
    "print(\"   📈 Hover over any point to see detailed measurement information\")\n",
    "print(\"=\"*80)"
   ]
  }
 ],
 "metadata": {
  "kernelspec": {
   "display_name": ".venv",
   "language": "python",
   "name": "python3"
  },
  "language_info": {
   "codemirror_mode": {
    "name": "ipython",
    "version": 3
   },
   "file_extension": ".py",
   "mimetype": "text/x-python",
   "name": "python",
   "nbconvert_exporter": "python",
   "pygments_lexer": "ipython3",
   "version": "3.12.7"
  }
 },
 "nbformat": 4,
 "nbformat_minor": 2
}
