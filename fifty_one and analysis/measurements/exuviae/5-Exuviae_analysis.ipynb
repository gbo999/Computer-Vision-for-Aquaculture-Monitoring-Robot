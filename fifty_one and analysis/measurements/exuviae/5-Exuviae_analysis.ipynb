{
 "cells": [
  {
   "cell_type": "markdown",
   "metadata": {
    "vscode": {
     "languageId": "raw"
    }
   },
   "source": [
    "# 🦐 Exuviae Scale Impact Analysis\n",
    "\n",
    "## ⚖️ Scaling Conversion Effect Assessment Using Known-Length Molted Shells\n",
    "\n",
    "---\n",
    "\n",
    "### 🎯 **Research Objective**\n",
    "\n",
    "This notebook analyzes **how the scaling conversion process affects measurement changes** using exuviae (molted prawn shells) with precisely known lengths to quantify scaling impact on final measurements **across different pond environments**.\n",
    "\n",
    "### 🏊‍♀️ **Pond Type Classification**\n",
    "\n",
    "- **Circle Pond**: Images containing 'GX010191' in filename\n",
    "- **Rectangular Pond**: All other images\n",
    "\n",
    "### 📊 **Core Scientific Formula**\n",
    "\n",
    "$$\\rho = \\frac{\\Delta_{mm\\%}}{\\Delta_{px\\%}}$$\n",
    "\n",
    "**🔍 CRITICAL: ρ measures scaling impact using percentage errors!**\n",
    "\n",
    "Where:\n",
    "- **ρ (rho)** = **Scale impact ratio** (how scaling affects measurement changes)\n",
    "- **Δ_mm%** = Percentage error in total length measurement after scaling\n",
    "- **Δ_px%** = Percentage error in original pixel measurement\n",
    "\n",
    "### 🔍 **Interpretation of ρ Values**\n",
    "\n",
    "| **ρ Value** | **Meaning** | **Scaling Impact** |\n",
    "|-------------|-------------|------------|\n",
    "| **ρ ≈ 1** | Neutral scaling | Scaling **preserves percentage error proportions** |\n",
    "| **ρ > 1** | **Error amplification** | Scaling **magnifies percentage errors** |\n",
    "| **ρ < 1** | **Error compression** | Scaling **reduces percentage errors** |\n",
    "\n",
    "---\n",
    "\n",
    "### 🔬 **Scientific Rationale**\n",
    "\n",
    "**Why Exuviae Are Perfect for Scale Impact Analysis:**\n",
    "\n",
    "1. **🎯 Precise Known Lengths (Reference Standards)**\n",
    "   - Small exuviae: **145mm** (standardized reference)\n",
    "   - Large exuviae: **180mm** (standardized reference)\n",
    "   - Rigid chitinous structure provides **exact scaling baseline**\n",
    "\n",
    "2. **⚖️ Scaling Conversion Assessment**\n",
    "   - Measured under actual scaling conditions\n",
    "   - Real-world scaling parameter validation\n",
    "   - Same conversion process as live prawn measurements\n",
    "\n",
    "3. **🏊‍♀️ Multi-Environment Analysis**\n",
    "   - **Circle vs Rectangular pond comparison**\n",
    "   - Different camera distances and scaling factors\n",
    "   - Environment-specific scaling behavior patterns\n",
    "\n",
    "---\n",
    "\n",
    "### 🏊‍♀️ **Experimental Setup**\n",
    "\n",
    "| **Parameter** | **Circle Pond (GX010191)** | **Rectangular Pond (Others)** |\n",
    "|---------------|----------------------------|-------------------------------|\n",
    "| **Camera Distance (Big)** | 660mm | 370mm |\n",
    "| **Camera Distance (Small)** | 680mm | 390mm |\n",
    "| **Image Resolution** | 5312 × 2988 pixels | 5312 × 2988 pixels |\n",
    "| **Horizontal FOV** | 75° | 75° |\n",
    "| **Vertical FOV** | 46° | 46° |\n",
    "\n",
    "---\n",
    "\n",
    "### 📈 **Analysis Components**\n",
    "\n",
    "1. **⚖️ Scale Impact Engine**\n",
    "   - Percentage error calculation for pixels and measurements\n",
    "   - ρ calculation for each measurement by pond type\n",
    "   - Scaling amplification/compression detection\n",
    "\n",
    "2. **📊 Comparative Scaling Analysis**\n",
    "   - **Circle vs Rectangular pond scaling behavior**\n",
    "   - Scale impact ratio (ρ) distribution analysis by environment\n",
    "   - Statistical comparison of scaling patterns\n",
    "\n",
    "3. **🎯 Reference Standard Validation**\n",
    "   - Known exuviae lengths vs scaled predictions\n",
    "   - Environment-specific scaling accuracy assessment\n",
    "   - Pond-specific statistical scaling characterization\n",
    "\n",
    "4. **🦐 Size-Class Analysis**\n",
    "   - Big vs small exuviae scaling behavior\n",
    "   - Size-dependent scaling effects by pond type\n",
    "   - Cross-environment size scaling comparison\n",
    "\n",
    "---\n",
    "\n",
    "### 🚀 **Expected Outcomes**\n",
    "\n",
    "- **Quantified scale impact ratios (ρ)** for each pond environment\n",
    "- **Comparative scaling behavior analysis** between Circle and Rectangular ponds\n",
    "- **Environment-specific scaling optimization** recommendations\n",
    "- **Size-class scaling patterns** across different pond geometries\n",
    "\n",
    "---\n",
    "\n",
    "*This analysis reveals how pond geometry and camera positioning affect scaling conversion accuracy, enabling environment-specific measurement optimization.*\n"
   ]
  },
  {
   "cell_type": "markdown",
   "metadata": {
    "vscode": {
     "languageId": "raw"
    }
   },
   "source": [
    "## 📊 PHASE 1: Data Loading and Pond Classification\n",
    "\n",
    "This phase loads the exuviae measurement dataset and classifies measurements by pond type based on image names. We establish the foundation for comparative analysis between Circle and Rectangular pond environments.\n",
    "\n",
    "**Key Operations:**\n",
    "- Load exuviae measurement data\n",
    "- Classify pond types: `'GX010191'` → Circle Pond, others → Rectangular Pond  \n",
    "- Display pond distribution and sample data\n",
    "- Prepare dataset for scale impact analysis\n"
   ]
  },
  {
   "cell_type": "code",
   "execution_count": 6,
   "metadata": {},
   "outputs": [
    {
     "name": "stdout",
     "output_type": "stream",
     "text": [
      "🚀 Starting Multi-Pond Exuviae Scale Impact Analysis...\n",
      "📐 Formula: ρ = Δmm% / Δpx% (Scale Impact Validation)\n",
      "🏊‍♀️ Analyzing Circle vs Rectangular pond scaling behavior\n",
      "================================================================================\n",
      "📋 Loading exuviae measurement data...\n",
      "✅ Dataset loaded successfully!\n",
      "📊 Dataset shape: (51, 39)\n",
      "🦐 Total exuviae measurements: 51\n",
      "\n",
      "🏊‍♀️ PHASE 1: Pond Type Classification...\n",
      "📊 Classifying measurements by pond geometry...\n",
      "============================================================\n",
      "🔵 Circle Pond measurements: 39\n",
      "🔲 Rectangular Pond measurements: 12\n",
      "\n",
      "🦐 Size Distribution by Pond Type:\n",
      "lobster_size  big  small\n",
      "pond_type               \n",
      "Circle         22     17\n",
      "Rectangular     3      9\n",
      "\n",
      "📋 Sample Data with Pond Classification:\n"
     ]
    },
    {
     "data": {
      "text/html": [
       "<div>\n",
       "<style scoped>\n",
       "    .dataframe tbody tr th:only-of-type {\n",
       "        vertical-align: middle;\n",
       "    }\n",
       "\n",
       "    .dataframe tbody tr th {\n",
       "        vertical-align: top;\n",
       "    }\n",
       "\n",
       "    .dataframe thead th {\n",
       "        text-align: right;\n",
       "    }\n",
       "</style>\n",
       "<table border=\"1\" class=\"dataframe\">\n",
       "  <thead>\n",
       "    <tr style=\"text-align: right;\">\n",
       "      <th></th>\n",
       "      <th>image_name</th>\n",
       "      <th>pond_type</th>\n",
       "      <th>lobster_size</th>\n",
       "      <th>real_length</th>\n",
       "      <th>total_length</th>\n",
       "      <th>pixels_total_length</th>\n",
       "      <th>Length</th>\n",
       "    </tr>\n",
       "  </thead>\n",
       "  <tbody>\n",
       "    <tr>\n",
       "      <th>0</th>\n",
       "      <td>undistorted_GX010191_37_1242</td>\n",
       "      <td>Circle</td>\n",
       "      <td>small</td>\n",
       "      <td>145</td>\n",
       "      <td>139.2</td>\n",
       "      <td>719.0</td>\n",
       "      <td>718.510</td>\n",
       "    </tr>\n",
       "    <tr>\n",
       "      <th>1</th>\n",
       "      <td>undistorted_GX010191_8_309</td>\n",
       "      <td>Circle</td>\n",
       "      <td>small</td>\n",
       "      <td>145</td>\n",
       "      <td>154.8</td>\n",
       "      <td>790.1</td>\n",
       "      <td>789.582</td>\n",
       "    </tr>\n",
       "    <tr>\n",
       "      <th>2</th>\n",
       "      <td>undistorted_GX010191_32_305</td>\n",
       "      <td>Circle</td>\n",
       "      <td>small</td>\n",
       "      <td>145</td>\n",
       "      <td>154.2</td>\n",
       "      <td>786.3</td>\n",
       "      <td>789.795</td>\n",
       "    </tr>\n",
       "    <tr>\n",
       "      <th>3</th>\n",
       "      <td>undistorted_GX010193_11_1065</td>\n",
       "      <td>Rectangular</td>\n",
       "      <td>big</td>\n",
       "      <td>180</td>\n",
       "      <td>184.3</td>\n",
       "      <td>1745.4</td>\n",
       "      <td>1740.667</td>\n",
       "    </tr>\n",
       "    <tr>\n",
       "      <th>4</th>\n",
       "      <td>undistorted_GX010191_100_1250</td>\n",
       "      <td>Circle</td>\n",
       "      <td>small</td>\n",
       "      <td>145</td>\n",
       "      <td>143.0</td>\n",
       "      <td>739.4</td>\n",
       "      <td>732.732</td>\n",
       "    </tr>\n",
       "    <tr>\n",
       "      <th>5</th>\n",
       "      <td>undistorted_GX010193_27_1553</td>\n",
       "      <td>Rectangular</td>\n",
       "      <td>big</td>\n",
       "      <td>180</td>\n",
       "      <td>186.6</td>\n",
       "      <td>1774.1</td>\n",
       "      <td>1766.071</td>\n",
       "    </tr>\n",
       "    <tr>\n",
       "      <th>6</th>\n",
       "      <td>undistorted_GX010194_39_513</td>\n",
       "      <td>Rectangular</td>\n",
       "      <td>small</td>\n",
       "      <td>145</td>\n",
       "      <td>144.1</td>\n",
       "      <td>1300.3</td>\n",
       "      <td>1308.391</td>\n",
       "    </tr>\n",
       "    <tr>\n",
       "      <th>7</th>\n",
       "      <td>undistorted_GX010191_94_1132</td>\n",
       "      <td>Circle</td>\n",
       "      <td>big</td>\n",
       "      <td>180</td>\n",
       "      <td>156.7</td>\n",
       "      <td>832.0</td>\n",
       "      <td>822.289</td>\n",
       "    </tr>\n",
       "    <tr>\n",
       "      <th>8</th>\n",
       "      <td>undistorted_GX010191_35_1167</td>\n",
       "      <td>Circle</td>\n",
       "      <td>small</td>\n",
       "      <td>145</td>\n",
       "      <td>149.2</td>\n",
       "      <td>759.4</td>\n",
       "      <td>770.049</td>\n",
       "    </tr>\n",
       "    <tr>\n",
       "      <th>9</th>\n",
       "      <td>undistorted_GX010191_31_283</td>\n",
       "      <td>Circle</td>\n",
       "      <td>big</td>\n",
       "      <td>180</td>\n",
       "      <td>174.8</td>\n",
       "      <td>931.8</td>\n",
       "      <td>945.736</td>\n",
       "    </tr>\n",
       "  </tbody>\n",
       "</table>\n",
       "</div>"
      ],
      "text/plain": [
       "                      image_name    pond_type lobster_size  real_length  \\\n",
       "0   undistorted_GX010191_37_1242       Circle        small          145   \n",
       "1     undistorted_GX010191_8_309       Circle        small          145   \n",
       "2    undistorted_GX010191_32_305       Circle        small          145   \n",
       "3   undistorted_GX010193_11_1065  Rectangular          big          180   \n",
       "4  undistorted_GX010191_100_1250       Circle        small          145   \n",
       "5   undistorted_GX010193_27_1553  Rectangular          big          180   \n",
       "6    undistorted_GX010194_39_513  Rectangular        small          145   \n",
       "7   undistorted_GX010191_94_1132       Circle          big          180   \n",
       "8   undistorted_GX010191_35_1167       Circle        small          145   \n",
       "9    undistorted_GX010191_31_283       Circle          big          180   \n",
       "\n",
       "   total_length  pixels_total_length    Length  \n",
       "0         139.2                719.0   718.510  \n",
       "1         154.8                790.1   789.582  \n",
       "2         154.2                786.3   789.795  \n",
       "3         184.3               1745.4  1740.667  \n",
       "4         143.0                739.4   732.732  \n",
       "5         186.6               1774.1  1766.071  \n",
       "6         144.1               1300.3  1308.391  \n",
       "7         156.7                832.0   822.289  \n",
       "8         149.2                759.4   770.049  \n",
       "9         174.8                931.8   945.736  "
      ]
     },
     "metadata": {},
     "output_type": "display_data"
    }
   ],
   "source": [
    "# 🦐 EXUVIAE SCALE IMPACT ANALYSIS - MULTI-POND ENVIRONMENT\n",
    "# =========================================================\n",
    "\"\"\"\n",
    "🎯 **Analysis Objective**: \n",
    "Scale Impact Validation using Known-Length Exuviae across Different Pond Types\n",
    "\n",
    "📐 **Core Formula**: ρ = Δmm% / Δpx% (Scale Impact Ratio)\n",
    "Where:\n",
    "- ρ (rho) = Scale impact ratio (percentage error amplification/compression)\n",
    "- Δmm% = Percentage error in real-world measurements\n",
    "- Δpx% = Percentage error in pixel measurements\n",
    "\n",
    "🏊‍♀️ **Pond Classification**:\n",
    "- Circle Pond: Images containing 'GX010191' in filename\n",
    "- Rectangular Pond: All other images\n",
    "\n",
    "🔬 **Scientific Rationale**:\n",
    "Exuviae provide perfect calibration objects because:\n",
    "1. Known precise lengths (145mm small, 180mm big)\n",
    "2. Rigid structure maintains dimensions\n",
    "3. Natural aquaculture environment context\n",
    "4. Multiple pond environments for comparative analysis\n",
    "\n",
    "📊 **Analysis Components**:\n",
    "- Pond-specific scaling behavior analysis\n",
    "- Comparative scale impact assessment\n",
    "- Environment-dependent scaling optimization\n",
    "- Size-class scaling patterns by pond type\n",
    "\"\"\"\n",
    "\n",
    "import pandas as pd\n",
    "import numpy as np\n",
    "import plotly.express as px\n",
    "import plotly.graph_objects as go\n",
    "from plotly.subplots import make_subplots\n",
    "import math\n",
    "import warnings\n",
    "from typing import Dict, List, Tuple, Any, Optional\n",
    "from sklearn.ensemble import RandomForestRegressor\n",
    "from sklearn.preprocessing import PolynomialFeatures\n",
    "from sklearn.linear_model import LinearRegression\n",
    "from scipy import stats\n",
    "import seaborn as sns\n",
    "import matplotlib.pyplot as plt\n",
    "\n",
    "# Suppress warnings for cleaner output\n",
    "warnings.filterwarnings('ignore')\n",
    "\n",
    "print(\"🚀 Starting Multi-Pond Exuviae Scale Impact Analysis...\")\n",
    "print(\"📐 Formula: ρ = Δmm% / Δpx% (Scale Impact Validation)\")\n",
    "print(\"🏊‍♀️ Analyzing Circle vs Rectangular pond scaling behavior\")\n",
    "print(\"=\" * 80)\n",
    "\n",
    "# 📊 PHASE 1: Data Loading and Pond Classification\n",
    "# ===============================================\n",
    "\n",
    "print(\"📋 Loading exuviae measurement data...\")\n",
    "\n",
    "# Load the processed exuviae dataset\n",
    "df_exuviae = pd.read_csv('fifty_one and analysis/measurements/exuviae/spreadsheet_files/length_analysis_new_split_shai_exuviae_with_yolo.csv')\n",
    "\n",
    "print(f\"✅ Dataset loaded successfully!\")\n",
    "print(f\"📊 Dataset shape: {df_exuviae.shape}\")\n",
    "print(f\"🦐 Total exuviae measurements: {len(df_exuviae)}\")\n",
    "\n",
    "# 🏊‍♀️ Pond Type Classification\n",
    "# =============================\n",
    "\n",
    "print(\"\\n🏊‍♀️ PHASE 1: Pond Type Classification...\")\n",
    "print(\"📊 Classifying measurements by pond geometry...\")\n",
    "print(\"=\" * 60)\n",
    "\n",
    "# Classify pond types based on image names\n",
    "df_exuviae['pond_type'] = df_exuviae['image_name'].apply(\n",
    "    lambda x: 'Circle' if 'GX010191' in str(x) else 'Rectangular'\n",
    ")\n",
    "\n",
    "# Display pond type distribution\n",
    "pond_counts = df_exuviae['pond_type'].value_counts()\n",
    "print(f\"🔵 Circle Pond measurements: {pond_counts.get('Circle', 0)}\")\n",
    "print(f\"🔲 Rectangular Pond measurements: {pond_counts.get('Rectangular', 0)}\")\n",
    "\n",
    "# Display size distribution by pond type\n",
    "print(f\"\\n🦐 Size Distribution by Pond Type:\")\n",
    "size_by_pond = df_exuviae.groupby(['pond_type', 'lobster_size']).size().unstack(fill_value=0)\n",
    "print(size_by_pond)\n",
    "\n",
    "# Display sample data with pond classification\n",
    "print(f\"\\n📋 Sample Data with Pond Classification:\")\n",
    "sample_cols = ['image_name', 'pond_type', 'lobster_size', 'real_length', 'total_length', 'pixels_total_length', 'Length']\n",
    "display(df_exuviae[sample_cols].head(10))\n"
   ]
  },
  {
   "cell_type": "markdown",
   "metadata": {
    "vscode": {
     "languageId": "raw"
    }
   },
   "source": [
    "## ⚖️ PHASE 2: Scale Impact Ratio Calculation by Pond Type\n",
    "\n",
    "This phase calculates the scale impact ratio (ρ) using percentage errors and performs statistical analysis focused on **median values** for robust comparison between pond types. We emphasize median statistics as they are less sensitive to outliers.\n",
    "\n",
    "**Key Operations:**\n",
    "- Calculate percentage errors: Δpx% and Δmm%\n",
    "- Compute scale impact ratio: ρ = Δmm% / Δpx%\n",
    "- **Focus on median ρ values** for robust pond comparison\n",
    "- Classify scaling behavior by pond type\n",
    "- Perform comparative analysis between Circle vs Rectangular ponds\n",
    "\n",
    "**Why Median?**\n",
    "- More robust to outliers than mean\n",
    "- Better represents typical scaling behavior\n",
    "- Provides reliable pond comparison metrics\n"
   ]
  },
  {
   "cell_type": "code",
   "execution_count": 7,
   "metadata": {},
   "outputs": [
    {
     "name": "stdout",
     "output_type": "stream",
     "text": [
      "\n",
      "⚖️ PHASE 2: Calculating Scale Impact Ratios by Pond Type...\n",
      "📊 Computing ρ = Δmm% / Δpx% for Circle vs Rectangular ponds...\n",
      "================================================================================\n",
      "✅ Scale impact ratios (ρ) calculated for 51 exuviae\n",
      "📊 Using percentage errors: ρ = (Δmm%/real_length) / (Δpx%/Length)\n",
      "\n",
      "📈 STATISTICAL ANALYSIS BY POND TYPE\n",
      "============================================================\n",
      "\n",
      "🔵 CIRCLE POND ANALYSIS:\n",
      "   📊 Valid measurements: 39\n",
      "   📊 **Median ρ: 1.0421** (primary metric)\n",
      "   📊 IQR: 1.2675\n",
      "   📊 Range: [0.0340, 103.0210]\n",
      "\n",
      "   ⚖️ SCALING BEHAVIOR:\n",
      "   🔄 Neutral (|ρ-1| < 0.1): 4 (10.3%)\n",
      "   📈 Amplifying (ρ > 1.1): 18 (46.2%)\n",
      "   📉 Compressing (ρ < 0.9): 17 (43.6%)\n",
      "\n",
      "   🔍 INTERPRETATION (based on median ρ):\n",
      "   ✅ NEUTRAL scaling (median ρ ≈ 1): Percentage errors preserved\n",
      "\n",
      "🔲 RECTANGULAR POND ANALYSIS:\n",
      "   📊 Valid measurements: 12\n",
      "   📊 **Median ρ: 1.0946** (primary metric)\n",
      "   📊 IQR: 0.8797\n",
      "   📊 Range: [0.1672, 8.7857]\n",
      "\n",
      "   ⚖️ SCALING BEHAVIOR:\n",
      "   🔄 Neutral (|ρ-1| < 0.1): 2 (16.7%)\n",
      "   📈 Amplifying (ρ > 1.1): 6 (50.0%)\n",
      "   📉 Compressing (ρ < 0.9): 4 (33.3%)\n",
      "\n",
      "   🔍 INTERPRETATION (based on median ρ):\n",
      "   ✅ NEUTRAL scaling (median ρ ≈ 1): Percentage errors preserved\n",
      "\n",
      "🔄 COMPARATIVE ANALYSIS: Circle vs Rectangular\n",
      "============================================================\n",
      "📊 **Median ρ difference: 0.0525**\n",
      "📊 IQR difference: 0.3877\n",
      "📊 Circle median ρ: 1.0421\n",
      "📊 Rectangular median ρ: 1.0946\n",
      "🏆 Circle pond has more neutral median scaling: 1.0421 vs 1.0946\n",
      "\n",
      "📋 SAMPLE CALCULATIONS BY POND TYPE:\n",
      "------------------------------------------------------------\n"
     ]
    },
    {
     "data": {
      "text/html": [
       "<div>\n",
       "<style scoped>\n",
       "    .dataframe tbody tr th:only-of-type {\n",
       "        vertical-align: middle;\n",
       "    }\n",
       "\n",
       "    .dataframe tbody tr th {\n",
       "        vertical-align: top;\n",
       "    }\n",
       "\n",
       "    .dataframe thead th {\n",
       "        text-align: right;\n",
       "    }\n",
       "</style>\n",
       "<table border=\"1\" class=\"dataframe\">\n",
       "  <thead>\n",
       "    <tr style=\"text-align: right;\">\n",
       "      <th></th>\n",
       "      <th>image_name</th>\n",
       "      <th>pond_type</th>\n",
       "      <th>lobster_size</th>\n",
       "      <th>pixel_difference_pct</th>\n",
       "      <th>measurement_difference_pct</th>\n",
       "      <th>scale_impact_ratio_rho</th>\n",
       "    </tr>\n",
       "  </thead>\n",
       "  <tbody>\n",
       "    <tr>\n",
       "      <th>0</th>\n",
       "      <td>undistorted_GX010191_37_1242</td>\n",
       "      <td>Circle</td>\n",
       "      <td>small</td>\n",
       "      <td>0.068197</td>\n",
       "      <td>4.000000</td>\n",
       "      <td>58.653878</td>\n",
       "    </tr>\n",
       "    <tr>\n",
       "      <th>1</th>\n",
       "      <td>undistorted_GX010191_8_309</td>\n",
       "      <td>Circle</td>\n",
       "      <td>small</td>\n",
       "      <td>0.065604</td>\n",
       "      <td>6.758621</td>\n",
       "      <td>103.020951</td>\n",
       "    </tr>\n",
       "    <tr>\n",
       "      <th>2</th>\n",
       "      <td>undistorted_GX010191_32_305</td>\n",
       "      <td>Circle</td>\n",
       "      <td>small</td>\n",
       "      <td>0.442520</td>\n",
       "      <td>6.344828</td>\n",
       "      <td>14.337949</td>\n",
       "    </tr>\n",
       "    <tr>\n",
       "      <th>3</th>\n",
       "      <td>undistorted_GX010193_11_1065</td>\n",
       "      <td>Rectangular</td>\n",
       "      <td>big</td>\n",
       "      <td>0.271907</td>\n",
       "      <td>2.388889</td>\n",
       "      <td>8.785675</td>\n",
       "    </tr>\n",
       "    <tr>\n",
       "      <th>4</th>\n",
       "      <td>undistorted_GX010191_100_1250</td>\n",
       "      <td>Circle</td>\n",
       "      <td>small</td>\n",
       "      <td>0.910019</td>\n",
       "      <td>1.379310</td>\n",
       "      <td>1.515694</td>\n",
       "    </tr>\n",
       "    <tr>\n",
       "      <th>5</th>\n",
       "      <td>undistorted_GX010193_27_1553</td>\n",
       "      <td>Rectangular</td>\n",
       "      <td>big</td>\n",
       "      <td>0.454625</td>\n",
       "      <td>3.666667</td>\n",
       "      <td>8.065256</td>\n",
       "    </tr>\n",
       "    <tr>\n",
       "      <th>6</th>\n",
       "      <td>undistorted_GX010194_39_513</td>\n",
       "      <td>Rectangular</td>\n",
       "      <td>small</td>\n",
       "      <td>0.618393</td>\n",
       "      <td>0.620690</td>\n",
       "      <td>1.003714</td>\n",
       "    </tr>\n",
       "    <tr>\n",
       "      <th>7</th>\n",
       "      <td>undistorted_GX010191_94_1132</td>\n",
       "      <td>Circle</td>\n",
       "      <td>big</td>\n",
       "      <td>1.180972</td>\n",
       "      <td>12.944444</td>\n",
       "      <td>10.960843</td>\n",
       "    </tr>\n",
       "    <tr>\n",
       "      <th>8</th>\n",
       "      <td>undistorted_GX010191_35_1167</td>\n",
       "      <td>Circle</td>\n",
       "      <td>small</td>\n",
       "      <td>1.382899</td>\n",
       "      <td>2.896552</td>\n",
       "      <td>2.094550</td>\n",
       "    </tr>\n",
       "    <tr>\n",
       "      <th>9</th>\n",
       "      <td>undistorted_GX010191_31_283</td>\n",
       "      <td>Circle</td>\n",
       "      <td>big</td>\n",
       "      <td>1.473561</td>\n",
       "      <td>2.888889</td>\n",
       "      <td>1.960481</td>\n",
       "    </tr>\n",
       "    <tr>\n",
       "      <th>10</th>\n",
       "      <td>undistorted_GX010191_42_1339</td>\n",
       "      <td>Circle</td>\n",
       "      <td>small</td>\n",
       "      <td>2.576005</td>\n",
       "      <td>4.689655</td>\n",
       "      <td>1.820514</td>\n",
       "    </tr>\n",
       "    <tr>\n",
       "      <th>11</th>\n",
       "      <td>undistorted_GX010191_35_367</td>\n",
       "      <td>Circle</td>\n",
       "      <td>big</td>\n",
       "      <td>2.246189</td>\n",
       "      <td>4.666667</td>\n",
       "      <td>2.077593</td>\n",
       "    </tr>\n",
       "    <tr>\n",
       "      <th>12</th>\n",
       "      <td>undistorted_GX010191_28_230</td>\n",
       "      <td>Circle</td>\n",
       "      <td>small</td>\n",
       "      <td>2.865384</td>\n",
       "      <td>5.310345</td>\n",
       "      <td>1.853275</td>\n",
       "    </tr>\n",
       "    <tr>\n",
       "      <th>13</th>\n",
       "      <td>undistorted_GX010191_34_350</td>\n",
       "      <td>Circle</td>\n",
       "      <td>big</td>\n",
       "      <td>2.496116</td>\n",
       "      <td>2.555556</td>\n",
       "      <td>1.023813</td>\n",
       "    </tr>\n",
       "    <tr>\n",
       "      <th>14</th>\n",
       "      <td>undistorted_GX010191_88_1016</td>\n",
       "      <td>Circle</td>\n",
       "      <td>big</td>\n",
       "      <td>2.295379</td>\n",
       "      <td>5.777778</td>\n",
       "      <td>2.517134</td>\n",
       "    </tr>\n",
       "  </tbody>\n",
       "</table>\n",
       "</div>"
      ],
      "text/plain": [
       "                       image_name    pond_type lobster_size  \\\n",
       "0    undistorted_GX010191_37_1242       Circle        small   \n",
       "1      undistorted_GX010191_8_309       Circle        small   \n",
       "2     undistorted_GX010191_32_305       Circle        small   \n",
       "3    undistorted_GX010193_11_1065  Rectangular          big   \n",
       "4   undistorted_GX010191_100_1250       Circle        small   \n",
       "5    undistorted_GX010193_27_1553  Rectangular          big   \n",
       "6     undistorted_GX010194_39_513  Rectangular        small   \n",
       "7    undistorted_GX010191_94_1132       Circle          big   \n",
       "8    undistorted_GX010191_35_1167       Circle        small   \n",
       "9     undistorted_GX010191_31_283       Circle          big   \n",
       "10   undistorted_GX010191_42_1339       Circle        small   \n",
       "11    undistorted_GX010191_35_367       Circle          big   \n",
       "12    undistorted_GX010191_28_230       Circle        small   \n",
       "13    undistorted_GX010191_34_350       Circle          big   \n",
       "14   undistorted_GX010191_88_1016       Circle          big   \n",
       "\n",
       "    pixel_difference_pct  measurement_difference_pct  scale_impact_ratio_rho  \n",
       "0               0.068197                    4.000000               58.653878  \n",
       "1               0.065604                    6.758621              103.020951  \n",
       "2               0.442520                    6.344828               14.337949  \n",
       "3               0.271907                    2.388889                8.785675  \n",
       "4               0.910019                    1.379310                1.515694  \n",
       "5               0.454625                    3.666667                8.065256  \n",
       "6               0.618393                    0.620690                1.003714  \n",
       "7               1.180972                   12.944444               10.960843  \n",
       "8               1.382899                    2.896552                2.094550  \n",
       "9               1.473561                    2.888889                1.960481  \n",
       "10              2.576005                    4.689655                1.820514  \n",
       "11              2.246189                    4.666667                2.077593  \n",
       "12              2.865384                    5.310345                1.853275  \n",
       "13              2.496116                    2.555556                1.023813  \n",
       "14              2.295379                    5.777778                2.517134  "
      ]
     },
     "metadata": {},
     "output_type": "display_data"
    }
   ],
   "source": [
    "# ⚖️ PHASE 2: Scale Impact Ratio (ρ) Calculation by Pond Type\n",
    "# ===========================================================\n",
    "\n",
    "print(\"\\n⚖️ PHASE 2: Calculating Scale Impact Ratios by Pond Type...\")\n",
    "print(\"📊 Computing ρ = Δmm% / Δpx% for Circle vs Rectangular ponds...\")\n",
    "print(\"=\" * 80)\n",
    "\n",
    "# 🔧 Calculate Scale Impact Ratios (ρ) using percentage errors\n",
    "# ============================================================\n",
    "\n",
    "# Calculate pixel percentage differences (Δpx%)\n",
    "df_exuviae['pixel_difference_pct'] = abs(df_exuviae['pixels_total_length'] - df_exuviae['Length']) / df_exuviae['Length'] * 100\n",
    "\n",
    "# Calculate measurement percentage differences after scaling (Δmm%)\n",
    "df_exuviae['measurement_difference_pct'] = abs(df_exuviae['total_length'] - df_exuviae['real_length']) / df_exuviae['real_length'] * 100\n",
    "\n",
    "# Calculate Scale Impact Ratio: ρ = Δmm% / Δpx%\n",
    "# Handle division by zero cases\n",
    "df_exuviae['scale_impact_ratio_rho'] = np.where(\n",
    "    df_exuviae['pixel_difference_pct'] != 0,\n",
    "    df_exuviae['measurement_difference_pct'] / df_exuviae['pixel_difference_pct'],\n",
    "    np.nan  # Set to NaN when pixel difference is zero\n",
    ")\n",
    "\n",
    "print(f\"✅ Scale impact ratios (ρ) calculated for {len(df_exuviae)} exuviae\")\n",
    "print(f\"📊 Using percentage errors: ρ = (Δmm%/real_length) / (Δpx%/Length)\")\n",
    "\n",
    "# 📊 Statistical Analysis by Pond Type\n",
    "# ===================================\n",
    "\n",
    "print(f\"\\n📈 STATISTICAL ANALYSIS BY POND TYPE\")\n",
    "print(\"=\" * 60)\n",
    "\n",
    "# Analyze each pond type separately\n",
    "pond_stats = {}\n",
    "\n",
    "for pond_type in ['Circle', 'Rectangular']:\n",
    "    pond_data = df_exuviae[df_exuviae['pond_type'] == pond_type]\n",
    "    rho_values = pond_data['scale_impact_ratio_rho'].dropna()\n",
    "    valid_measurements = len(rho_values)\n",
    "    \n",
    "    if valid_measurements > 0:\n",
    "        # Calculate statistics\n",
    "        stats_dict = {\n",
    "            'count': valid_measurements,\n",
    "            'mean': rho_values.median(),\n",
    "            'median': rho_values.median(),\n",
    "            'std': rho_values.std(),\n",
    "            'min': rho_values.min(),\n",
    "            'max': rho_values.max(),\n",
    "            'q25': rho_values.quantile(0.25),\n",
    "            'q75': rho_values.quantile(0.75),\n",
    "            'iqr': rho_values.quantile(0.75) - rho_values.quantile(0.25)\n",
    "        }\n",
    "        \n",
    "        # Scaling behavior classification\n",
    "        neutral_scaling = (abs(rho_values - 1) < 0.1).sum()\n",
    "        amplifying_scaling = (rho_values > 1.1).sum()\n",
    "        compressing_scaling = (rho_values < 0.9).sum()\n",
    "        \n",
    "        stats_dict.update({\n",
    "            'neutral_count': neutral_scaling,\n",
    "            'amplifying_count': amplifying_scaling,\n",
    "            'compressing_count': compressing_scaling,\n",
    "            'neutral_pct': neutral_scaling / valid_measurements * 100,\n",
    "            'amplifying_pct': amplifying_scaling / valid_measurements * 100,\n",
    "            'compressing_pct': compressing_scaling / valid_measurements * 100\n",
    "        })\n",
    "        \n",
    "        pond_stats[pond_type] = stats_dict\n",
    "        \n",
    "        # Display statistics focused on median\n",
    "        pond_icon = \"🔵\" if pond_type == \"Circle\" else \"🔲\"\n",
    "        print(f\"\\n{pond_icon} {pond_type.upper()} POND ANALYSIS:\")\n",
    "        print(f\"   📊 Valid measurements: {valid_measurements}\")\n",
    "        print(f\"   📊 **Median ρ: {stats_dict['median']:.4f}** (primary metric)\")\n",
    "        print(f\"   📊 IQR: {stats_dict['iqr']:.4f}\")\n",
    "        print(f\"   📊 Range: [{stats_dict['min']:.4f}, {stats_dict['max']:.4f}]\")\n",
    "        \n",
    "        print(f\"\\n   ⚖️ SCALING BEHAVIOR:\")\n",
    "        print(f\"   🔄 Neutral (|ρ-1| < 0.1): {neutral_scaling} ({stats_dict['neutral_pct']:.1f}%)\")\n",
    "        print(f\"   📈 Amplifying (ρ > 1.1): {amplifying_scaling} ({stats_dict['amplifying_pct']:.1f}%)\")\n",
    "        print(f\"   📉 Compressing (ρ < 0.9): {compressing_scaling} ({stats_dict['compressing_pct']:.1f}%)\")\n",
    "        \n",
    "        # Interpretation based on median\n",
    "        median_rho = stats_dict['median']\n",
    "        print(f\"\\n   🔍 INTERPRETATION (based on median ρ):\")\n",
    "        if abs(median_rho - 1) < 0.1:\n",
    "            print(f\"   ✅ NEUTRAL scaling (median ρ ≈ 1): Percentage errors preserved\")\n",
    "        elif median_rho > 1.1:\n",
    "            print(f\"   ⚠️ AMPLIFYING scaling (median ρ > 1): Errors magnified by {median_rho:.1f}x\")\n",
    "        elif median_rho < 0.9:\n",
    "            print(f\"   ⚠️ COMPRESSING scaling (median ρ < 1): Errors reduced to {median_rho:.1f}x\")\n",
    "        else:\n",
    "            print(f\"   🔍 MIXED behavior (median ρ = {median_rho:.3f}): Variable scaling impact\")\n",
    "    else:\n",
    "        print(f\"\\n{pond_icon} {pond_type.upper()} POND: No valid measurements\")\n",
    "\n",
    "# 📊 Comparative Analysis\n",
    "# ======================\n",
    "\n",
    "if len(pond_stats) == 2:\n",
    "    circle_stats = pond_stats.get('Circle', {})\n",
    "    rect_stats = pond_stats.get('Rectangular', {})\n",
    "    \n",
    "    print(f\"\\n🔄 COMPARATIVE ANALYSIS: Circle vs Rectangular\")\n",
    "    print(\"=\" * 60)\n",
    "    \n",
    "    if circle_stats and rect_stats:\n",
    "        median_diff = abs(circle_stats['median'] - rect_stats['median'])\n",
    "        iqr_diff = abs(circle_stats['iqr'] - rect_stats['iqr'])\n",
    "        \n",
    "        print(f\"📊 **Median ρ difference: {median_diff:.4f}**\")\n",
    "        print(f\"📊 IQR difference: {iqr_diff:.4f}\")\n",
    "        \n",
    "        # Compare median values\n",
    "        circle_median = circle_stats['median']\n",
    "        rect_median = rect_stats['median']\n",
    "        print(f\"📊 Circle median ρ: {circle_median:.4f}\")\n",
    "        print(f\"📊 Rectangular median ρ: {rect_median:.4f}\")\n",
    "        \n",
    "        # Determine which pond has better scaling behavior (closer to 1)\n",
    "        circle_deviation = abs(circle_median - 1)\n",
    "        rect_deviation = abs(rect_median - 1)\n",
    "        \n",
    "        if circle_deviation < rect_deviation:\n",
    "            print(f\"🏆 Circle pond has more neutral median scaling: {circle_median:.4f} vs {rect_median:.4f}\")\n",
    "        elif rect_deviation < circle_deviation:\n",
    "            print(f\"🏆 Rectangular pond has more neutral median scaling: {rect_median:.4f} vs {circle_median:.4f}\")\n",
    "        else:\n",
    "            print(f\"⚖️ Both ponds show similar median scaling behavior\")\n",
    "\n",
    "# 📋 Display sample calculations by pond type\n",
    "print(f\"\\n📋 SAMPLE CALCULATIONS BY POND TYPE:\")\n",
    "print(\"-\" * 60)\n",
    "\n",
    "sample_cols = ['image_name', 'pond_type', 'lobster_size', 'pixel_difference_pct', 'measurement_difference_pct', 'scale_impact_ratio_rho']\n",
    "display(df_exuviae[sample_cols].head(15))\n"
   ]
  },
  {
   "cell_type": "markdown",
   "metadata": {
    "vscode": {
     "languageId": "raw"
    }
   },
   "source": [
    "## 📊 PHASE 3: Multi-Pond Visualization Dashboard\n",
    "\n",
    "This phase creates comprehensive visualizations focused on **median-based comparisons** between pond types. The dashboard emphasizes robust statistical measures and provides clear visual comparison of scaling behavior across different pond environments.\n",
    "\n",
    "**Key Visualizations:**\n",
    "- **Median-focused** statistical comparisons between pond types\n",
    "- Distribution analysis with emphasis on central tendencies\n",
    "- Size-class analysis by pond type\n",
    "- Correlation analysis between measurement errors and scaling impact\n",
    "- Performance metrics highlighting median scaling behavior\n",
    "\n",
    "**Dashboard Components:**\n",
    "1. ρ distribution histograms by pond type\n",
    "2. Box plots emphasizing median comparisons\n",
    "3. Size-class scatter plots by pond type\n",
    "4. Error correlation analysis\n",
    "5. **Median statistical summary** (primary focus)\n",
    "6. Scaling performance metrics\n"
   ]
  },
  {
   "cell_type": "code",
   "execution_count": 8,
   "metadata": {},
   "outputs": [
    {
     "name": "stdout",
     "output_type": "stream",
     "text": [
      "\n",
      "📊 PHASE 3: Creating Multi-Pond Visualization Dashboard...\n",
      "🎨 Comprehensive ρ analysis across Circle vs Rectangular ponds...\n",
      "================================================================================\n"
     ]
    },
    {
     "data": {
      "application/vnd.plotly.v1+json": {
       "config": {
        "plotlyServerURL": "https://plot.ly"
       },
       "data": [
        {
         "hovertemplate": "<b>Circle Pond</b><br>ρ Range: %{x}<br>Count: %{y}<extra></extra>",
         "marker": {
          "color": "#4ECDC4"
         },
         "name": "Circle Pond",
         "nbinsx": 15,
         "opacity": 0.7,
         "type": "histogram",
         "x": {
          "bdata": "yZt0QrJTTUD1pzVBV8FZQFqP0p8HrSxAga6TdUhA+D9cAK+Q8+slQOS8naijwQBAvHkSQCFe/z/RSsvH0yD9PzHaWCzpngBAyX3N5QOn/T/l3XB0iWHwP1p60ikXIwRAf5atzxdg4D9NPG/rRFflP6vUT3wlXNE/vhv7SLP0oj+BA8E5Qz33P6B/ufkyH+M/iGHsyv9noT8Io81Pf4feP00WtjYXrr0/l1xc6KTbA0DYS+sdM07xP//kzOjXkuE/SyYNdW3e3j8TMki9UTbwP4ifi/leQfM/ch4oFSb34z+u6yVOlVL0PxwfLEHbf9I/WcM3AxcS3j9UjWH5+lbnP4n0q7ivc/Q/50X91xiF6j+PI/zuc6zwP6pbv9O69fc/l19KFGbc9D/1s4EM+pfmP0lNiW/g3uI/",
          "dtype": "f8"
         },
         "xaxis": "x",
         "yaxis": "y"
        },
        {
         "hovertemplate": "<b>Rectangular Pond</b><br>ρ Range: %{x}<br>Count: %{y}<extra></extra>",
         "marker": {
          "color": "#FF6B6B"
         },
         "name": "Rectangular Pond",
         "nbinsx": 15,
         "opacity": 0.7,
         "type": "histogram",
         "x": {
          "bdata": "DDPlA0SSIUDH5k8saSEgQHlMEBo2D/A/kTipY/vtxz8lvTnm/GLnPwhnR5vz9/I/SCr7TvKO6z/rM159NWXFP03SGzb70PM/LuwYCY99+z8bCXVQILTtP6fqjEH+R/s/",
          "dtype": "f8"
         },
         "xaxis": "x",
         "yaxis": "y"
        },
        {
         "boxpoints": "all",
         "hovertemplate": "<b>Circle Pond</b><br>ρ: %{y:.3f}<extra></extra>",
         "jitter": 0.3,
         "marker": {
          "color": "#4ECDC4"
         },
         "name": "Circle Pond",
         "pointpos": -1.8,
         "type": "box",
         "xaxis": "x2",
         "y": {
          "bdata": "yZt0QrJTTUD1pzVBV8FZQFqP0p8HrSxAga6TdUhA+D9cAK+Q8+slQOS8naijwQBAvHkSQCFe/z/RSsvH0yD9PzHaWCzpngBAyX3N5QOn/T/l3XB0iWHwP1p60ikXIwRAf5atzxdg4D9NPG/rRFflP6vUT3wlXNE/vhv7SLP0oj+BA8E5Qz33P6B/ufkyH+M/iGHsyv9noT8Io81Pf4feP00WtjYXrr0/l1xc6KTbA0DYS+sdM07xP//kzOjXkuE/SyYNdW3e3j8TMki9UTbwP4ifi/leQfM/ch4oFSb34z+u6yVOlVL0PxwfLEHbf9I/WcM3AxcS3j9UjWH5+lbnP4n0q7ivc/Q/50X91xiF6j+PI/zuc6zwP6pbv9O69fc/l19KFGbc9D/1s4EM+pfmP0lNiW/g3uI/",
          "dtype": "f8"
         },
         "yaxis": "y2"
        },
        {
         "boxpoints": "all",
         "hovertemplate": "<b>Rectangular Pond</b><br>ρ: %{y:.3f}<extra></extra>",
         "jitter": 0.3,
         "marker": {
          "color": "#FF6B6B"
         },
         "name": "Rectangular Pond",
         "pointpos": -1.8,
         "type": "box",
         "xaxis": "x2",
         "y": {
          "bdata": "DDPlA0SSIUDH5k8saSEgQHlMEBo2D/A/kTipY/vtxz8lvTnm/GLnPwhnR5vz9/I/SCr7TvKO6z/rM159NWXFP03SGzb70PM/LuwYCY99+z8bCXVQILTtP6fqjEH+R/s/",
          "dtype": "f8"
         },
         "yaxis": "y2"
        },
        {
         "customdata": [
          "undistorted_GX010191_94_1132",
          "undistorted_GX010191_31_283",
          "undistorted_GX010191_35_367",
          "undistorted_GX010191_34_350",
          "undistorted_GX010191_88_1016",
          "undistorted_GX010191_37_1242",
          "undistorted_GX010191_47_507",
          "undistorted_GX010191_8_309",
          "undistorted_GX010191_28_230",
          "undistorted_GX010191_34_1128",
          "undistorted_GX010191_17_509",
          "undistorted_GX010191_41_1322",
          "undistorted_GX010191_42_1339",
          "undistorted_GX010191_36_1195",
          "undistorted_GX010191_43_1353",
          "undistorted_GX010191_105_1312",
          "undistorted_GX010191_110_1355",
          "undistorted_GX010191_32_305",
          "undistorted_GX010191_14_460",
          "undistorted_GX010191_16_495",
          "undistorted_GX010191_15_479",
          "undistorted_GX010191_117_1408"
         ],
         "hovertemplate": "<b>Circle Pond - Big Exuviae</b><br>ρ: %{y:.3f}<br>Image: %{customdata}<extra></extra>",
         "marker": {
          "color": "#4ECDC4",
          "opacity": 0.8,
          "size": 10,
          "symbol": "circle"
         },
         "mode": "markers",
         "name": "Circle Big",
         "type": "scatter",
         "x": [
          "Circle-Big",
          "Circle-Big",
          "Circle-Big",
          "Circle-Big",
          "Circle-Big",
          "Circle-Big",
          "Circle-Big",
          "Circle-Big",
          "Circle-Big",
          "Circle-Big",
          "Circle-Big",
          "Circle-Big",
          "Circle-Big",
          "Circle-Big",
          "Circle-Big",
          "Circle-Big",
          "Circle-Big",
          "Circle-Big",
          "Circle-Big",
          "Circle-Big",
          "Circle-Big",
          "Circle-Big"
         ],
         "xaxis": "x3",
         "y": {
          "bdata": "XACvkPPrJUC8eRJAIV7/PzHaWCzpngBA5d1wdIlh8D9aetIpFyMEQKvUT3wlXNE/gQPBOUM99z+IYezK/2ehP5dcXOik2wNA2EvrHTNO8T9LJg11bd7ePxMySL1RNvA/iJ+L+V5B8z9yHigVJvfjP67rJU6VUvQ/WcM3AxcS3j+J9Ku4r3P0P+dF/dcYheo/jyP87nOs8D+qW7/TuvX3P5dfShRm3PQ/9bOBDPqX5j8=",
          "dtype": "f8"
         },
         "yaxis": "y3"
        },
        {
         "customdata": [
          "undistorted_GX010191_37_1242",
          "undistorted_GX010191_8_309",
          "undistorted_GX010191_32_305",
          "undistorted_GX010191_100_1250",
          "undistorted_GX010191_35_1167",
          "undistorted_GX010191_42_1339",
          "undistorted_GX010191_28_230",
          "undistorted_GX010191_17_509",
          "undistorted_GX010191_105_1312",
          "undistorted_GX010191_36_1195",
          "undistorted_GX010191_114_1383",
          "undistorted_GX010191_34_350",
          "undistorted_GX010191_35_367",
          "undistorted_GX010191_38_1266",
          "undistorted_GX010191_10_370",
          "undistorted_GX010191_106_1320",
          "undistorted_GX010191_47_507"
         ],
         "hovertemplate": "<b>Circle Pond - Small Exuviae</b><br>ρ: %{y:.3f}<br>Image: %{customdata}<extra></extra>",
         "marker": {
          "color": "#4ECDC4",
          "opacity": 0.8,
          "size": 10,
          "symbol": "diamond"
         },
         "mode": "markers",
         "name": "Circle Small",
         "type": "scatter",
         "x": [
          "Circle-Small",
          "Circle-Small",
          "Circle-Small",
          "Circle-Small",
          "Circle-Small",
          "Circle-Small",
          "Circle-Small",
          "Circle-Small",
          "Circle-Small",
          "Circle-Small",
          "Circle-Small",
          "Circle-Small",
          "Circle-Small",
          "Circle-Small",
          "Circle-Small",
          "Circle-Small",
          "Circle-Small"
         ],
         "xaxis": "x3",
         "y": {
          "bdata": "yZt0QrJTTUD1pzVBV8FZQFqP0p8HrSxAga6TdUhA+D/kvJ2oo8EAQNFKy8fTIP0/yX3N5QOn/T9/lq3PF2DgP008b+tEV+U/vhv7SLP0oj+gf7n5Mh/jPwijzU9/h94/TRa2NheuvT//5Mzo15LhPxwfLEHbf9I/VI1h+fpW5z9JTYlv4N7iPw==",
          "dtype": "f8"
         },
         "yaxis": "y3"
        },
        {
         "customdata": [
          "undistorted_GX010193_11_1065",
          "undistorted_GX010193_27_1553",
          "undistorted_GX010192_26_1578"
         ],
         "hovertemplate": "<b>Rectangular Pond - Big Exuviae</b><br>ρ: %{y:.3f}<br>Image: %{customdata}<extra></extra>",
         "marker": {
          "color": "#FF6B6B",
          "opacity": 0.8,
          "size": 10,
          "symbol": "circle"
         },
         "mode": "markers",
         "name": "Rectangular Big",
         "type": "scatter",
         "x": [
          "Rectangular-Big",
          "Rectangular-Big",
          "Rectangular-Big"
         ],
         "xaxis": "x3",
         "y": {
          "bdata": "DDPlA0SSIUDH5k8saSEgQEgq+07yjus/",
          "dtype": "f8"
         },
         "yaxis": "y3"
        },
        {
         "customdata": [
          "undistorted_GX010194_39_513",
          "undistorted_GX010193_18_1289",
          "undistorted_GX010192_26_1578",
          "undistorted_GX010194_7_885",
          "undistorted_GX010193_28_1584",
          "undistorted_GX010194_19_285",
          "undistorted_GX010194_26_373",
          "undistorted_GX010193_19_1334",
          "undistorted_GX010193_20_1365"
         ],
         "hovertemplate": "<b>Rectangular Pond - Small Exuviae</b><br>ρ: %{y:.3f}<br>Image: %{customdata}<extra></extra>",
         "marker": {
          "color": "#FF6B6B",
          "opacity": 0.8,
          "size": 10,
          "symbol": "diamond"
         },
         "mode": "markers",
         "name": "Rectangular Small",
         "type": "scatter",
         "x": [
          "Rectangular-Small",
          "Rectangular-Small",
          "Rectangular-Small",
          "Rectangular-Small",
          "Rectangular-Small",
          "Rectangular-Small",
          "Rectangular-Small",
          "Rectangular-Small",
          "Rectangular-Small"
         ],
         "xaxis": "x3",
         "y": {
          "bdata": "eUwQGjYP8D+ROKlj++3HPyW9Oeb8Yuc/CGdHm/P38j/rM159NWXFP03SGzb70PM/LuwYCY99+z8bCXVQILTtP6fqjEH+R/s/",
          "dtype": "f8"
         },
         "yaxis": "y3"
        },
        {
         "customdata": [
          "undistorted_GX010191_37_1242",
          "undistorted_GX010191_8_309",
          "undistorted_GX010191_32_305",
          "undistorted_GX010191_100_1250",
          "undistorted_GX010191_94_1132",
          "undistorted_GX010191_35_1167",
          "undistorted_GX010191_31_283",
          "undistorted_GX010191_42_1339",
          "undistorted_GX010191_35_367",
          "undistorted_GX010191_28_230",
          "undistorted_GX010191_34_350",
          "undistorted_GX010191_88_1016",
          "undistorted_GX010191_17_509",
          "undistorted_GX010191_105_1312",
          "undistorted_GX010191_37_1242",
          "undistorted_GX010191_36_1195",
          "undistorted_GX010191_47_507",
          "undistorted_GX010191_114_1383",
          "undistorted_GX010191_8_309",
          "undistorted_GX010191_34_350",
          "undistorted_GX010191_35_367",
          "undistorted_GX010191_28_230",
          "undistorted_GX010191_34_1128",
          "undistorted_GX010191_38_1266",
          "undistorted_GX010191_17_509",
          "undistorted_GX010191_41_1322",
          "undistorted_GX010191_42_1339",
          "undistorted_GX010191_36_1195",
          "undistorted_GX010191_43_1353",
          "undistorted_GX010191_10_370",
          "undistorted_GX010191_105_1312",
          "undistorted_GX010191_106_1320",
          "undistorted_GX010191_110_1355",
          "undistorted_GX010191_32_305",
          "undistorted_GX010191_14_460",
          "undistorted_GX010191_16_495",
          "undistorted_GX010191_15_479",
          "undistorted_GX010191_117_1408",
          "undistorted_GX010191_47_507"
         ],
         "hovertemplate": "<b>Circle Pond</b><br>Measurement Error %: %{x:.2f}%<br>ρ: %{y:.3f}<br>Image: %{customdata}<extra></extra>",
         "marker": {
          "color": "#4ECDC4",
          "opacity": 0.7,
          "size": 8
         },
         "mode": "markers",
         "name": "Circle Correlation",
         "type": "scatter",
         "x": {
          "bdata": "CQAAAAAAEEBGjbDc0wgbQJ8RlnsaYRlAfBphuacR9j88juM4juMpQCPCck8jLAdAuXEcx3EcB0BYIyz3NMISQK6qqqqqqhJAqNzTCMs9FUAVx3Ecx3EEQMtxHMdxHBdAarDc0wjL/T8Ayz2NsNwDQAByHMdxHOc/fHoaYbmnwT/dOI7jOI4VQMs9jbDc0whAOVZVVVVVxT8jlnsaYbkHQMtphOWeRug/GsdxHMdxJ0BAjuM4juMWQBIs9zTCcg9Ao6qqqqqqBkAcx3Ecx3EYQHYcx3Ecxx1A3TiO4ziOD0DnOI7jOI4hQHwaYbmnEQZAgBzHcRzHCUAaYbmnEZYbQOI4juM4jiNA4ziO4ziOGUAdx3Ecx3EjQOM4juM4jilAN47jOI7jJkCnqqqqqqoYQDnCck8jLBdA",
          "dtype": "f8"
         },
         "xaxis": "x4",
         "y": {
          "bdata": "yZt0QrJTTUD1pzVBV8FZQFqP0p8HrSxAga6TdUhA+D9cAK+Q8+slQOS8naijwQBAvHkSQCFe/z/RSsvH0yD9PzHaWCzpngBAyX3N5QOn/T/l3XB0iWHwP1p60ikXIwRAf5atzxdg4D9NPG/rRFflP6vUT3wlXNE/vhv7SLP0oj+BA8E5Qz33P6B/ufkyH+M/iGHsyv9noT8Io81Pf4feP00WtjYXrr0/l1xc6KTbA0DYS+sdM07xP//kzOjXkuE/SyYNdW3e3j8TMki9UTbwP4ifi/leQfM/ch4oFSb34z+u6yVOlVL0PxwfLEHbf9I/WcM3AxcS3j9UjWH5+lbnP4n0q7ivc/Q/50X91xiF6j+PI/zuc6zwP6pbv9O69fc/l19KFGbc9D/1s4EM+pfmP0lNiW/g3uI/",
          "dtype": "f8"
         },
         "yaxis": "y4"
        },
        {
         "customdata": [
          "undistorted_GX010193_11_1065",
          "undistorted_GX010193_27_1553",
          "undistorted_GX010194_39_513",
          "undistorted_GX010193_18_1289",
          "undistorted_GX010192_26_1578",
          "undistorted_GX010194_7_885",
          "undistorted_GX010192_26_1578",
          "undistorted_GX010193_28_1584",
          "undistorted_GX010194_19_285",
          "undistorted_GX010194_26_373",
          "undistorted_GX010193_19_1334",
          "undistorted_GX010193_20_1365"
         ],
         "hovertemplate": "<b>Rectangular Pond</b><br>Measurement Error %: %{x:.2f}%<br>ρ: %{y:.3f}<br>Image: %{customdata}<extra></extra>",
         "marker": {
          "color": "#FF6B6B",
          "opacity": 0.7,
          "size": 8
         },
         "mode": "markers",
         "name": "Rectangular Correlation",
         "type": "scatter",
         "x": {
          "bdata": "1XEcx3EcA0BOVVVVVVUNQCzLPY2w3OM/3XsaYbmn4T9qhOWeRlgOQEcjLPc0whpA3TiO4ziOD0BqWO5phOXuP+ieRljuaSBAlXsaYbmnKUCXRljuaYQdQMw9jbDc0zBA",
          "dtype": "f8"
         },
         "xaxis": "x4",
         "y": {
          "bdata": "DDPlA0SSIUDH5k8saSEgQHlMEBo2D/A/kTipY/vtxz8lvTnm/GLnPwhnR5vz9/I/SCr7TvKO6z/rM159NWXFP03SGzb70PM/LuwYCY99+z8bCXVQILTtP6fqjEH+R/s/",
          "dtype": "f8"
         },
         "yaxis": "y4"
        },
        {
         "customdata": [
          0.04210275033458166,
          0.09462438028786835
         ],
         "hovertemplate": "<b>%{x} Pond</b><br>Median ρ: %{y:.3f}<br>Deviation from neutral (|ρ-1|): %{customdata:.3f}<extra></extra>",
         "marker": {
          "color": [
           "#4ECDC4",
           "#FF6B6B"
          ]
         },
         "name": "Median ρ",
         "opacity": 0.8,
         "text": [
          "1.042",
          "1.095"
         ],
         "textposition": "auto",
         "type": "bar",
         "x": [
          "Circle",
          "Rectangular"
         ],
         "xaxis": "x5",
         "y": [
          1.0421027503345817,
          1.0946243802878683
         ],
         "yaxis": "y5"
        },
        {
         "hovertemplate": "<b>%{x} Pond</b><br>Neutral Scaling: %{y:.1f}%<extra></extra>",
         "marker": {
          "color": "green"
         },
         "name": "Neutral Scaling %",
         "opacity": 0.7,
         "type": "bar",
         "x": [
          "Circle",
          "Rectangular"
         ],
         "xaxis": "x6",
         "y": [
          10.256410256410255,
          16.666666666666664
         ],
         "yaxis": "y6"
        },
        {
         "hovertemplate": "<b>%{x} Pond</b><br>Amplifying Scaling: %{y:.1f}%<extra></extra>",
         "marker": {
          "color": "red"
         },
         "name": "Amplifying Scaling %",
         "opacity": 0.7,
         "type": "bar",
         "x": [
          "Circle",
          "Rectangular"
         ],
         "xaxis": "x6",
         "y": [
          46.15384615384615,
          50
         ],
         "yaxis": "y6"
        },
        {
         "hovertemplate": "<b>%{x} Pond</b><br>Compressing Scaling: %{y:.1f}%<extra></extra>",
         "marker": {
          "color": "blue"
         },
         "name": "Compressing Scaling %",
         "opacity": 0.7,
         "type": "bar",
         "x": [
          "Circle",
          "Rectangular"
         ],
         "xaxis": "x6",
         "y": [
          43.58974358974359,
          33.33333333333333
         ],
         "yaxis": "y6"
        }
       ],
       "layout": {
        "annotations": [
         {
          "font": {
           "size": 16
          },
          "showarrow": false,
          "text": "📊 Scale Impact Ratio (ρ) Distribution by Pond Type",
          "x": 0.225,
          "xanchor": "center",
          "xref": "paper",
          "y": 1,
          "yanchor": "bottom",
          "yref": "paper"
         },
         {
          "font": {
           "size": 16
          },
          "showarrow": false,
          "text": "⚖️ Scaling Behavior Comparison",
          "x": 0.775,
          "xanchor": "center",
          "xref": "paper",
          "y": 1,
          "yanchor": "bottom",
          "yref": "paper"
         },
         {
          "font": {
           "size": 16
          },
          "showarrow": false,
          "text": "🦐 ρ Values by Exuviae Size and Pond Type",
          "x": 0.225,
          "xanchor": "center",
          "xref": "paper",
          "y": 0.6111111111111112,
          "yanchor": "bottom",
          "yref": "paper"
         },
         {
          "font": {
           "size": 16
          },
          "showarrow": false,
          "text": "📈 ρ vs Measurement Error Correlation",
          "x": 0.775,
          "xanchor": "center",
          "xref": "paper",
          "y": 0.6111111111111112,
          "yanchor": "bottom",
          "yref": "paper"
         },
         {
          "font": {
           "size": 16
          },
          "showarrow": false,
          "text": "🔍 Statistical Summary by Pond Type",
          "x": 0.225,
          "xanchor": "center",
          "xref": "paper",
          "y": 0.22222222222222224,
          "yanchor": "bottom",
          "yref": "paper"
         },
         {
          "font": {
           "size": 16
          },
          "showarrow": false,
          "text": "🏊‍♀️ Pond-Specific Scaling Performance",
          "x": 0.775,
          "xanchor": "center",
          "xref": "paper",
          "y": 0.22222222222222224,
          "yanchor": "bottom",
          "yref": "paper"
         }
        ],
        "height": 1200,
        "shapes": [
         {
          "line": {
           "color": "gray",
           "dash": "dash"
          },
          "opacity": 0.7,
          "type": "line",
          "x0": 1,
          "x1": 1,
          "xref": "x",
          "y0": 0,
          "y1": 1,
          "yref": "y domain"
         },
         {
          "line": {
           "color": "red",
           "dash": "dot"
          },
          "opacity": 0.5,
          "type": "line",
          "x0": 1.1,
          "x1": 1.1,
          "xref": "x",
          "y0": 0,
          "y1": 1,
          "yref": "y domain"
         },
         {
          "line": {
           "color": "blue",
           "dash": "dot"
          },
          "opacity": 0.5,
          "type": "line",
          "x0": 0.9,
          "x1": 0.9,
          "xref": "x",
          "y0": 0,
          "y1": 1,
          "yref": "y domain"
         },
         {
          "line": {
           "color": "gray",
           "dash": "dash"
          },
          "opacity": 0.7,
          "type": "line",
          "x0": 0,
          "x1": 1,
          "xref": "x4 domain",
          "y0": 1,
          "y1": 1,
          "yref": "y4"
         },
         {
          "line": {
           "color": "red",
           "dash": "dot"
          },
          "opacity": 0.5,
          "type": "line",
          "x0": 0,
          "x1": 1,
          "xref": "x4 domain",
          "y0": 1.1,
          "y1": 1.1,
          "yref": "y4"
         },
         {
          "line": {
           "color": "blue",
           "dash": "dot"
          },
          "opacity": 0.5,
          "type": "line",
          "x0": 0,
          "x1": 1,
          "xref": "x4 domain",
          "y0": 0.9,
          "y1": 0.9,
          "yref": "y4"
         },
         {
          "line": {
           "color": "gray",
           "dash": "dash"
          },
          "opacity": 0.7,
          "type": "line",
          "x0": 0,
          "x1": 1,
          "xref": "x5 domain",
          "y0": 1,
          "y1": 1,
          "yref": "y5"
         }
        ],
        "showlegend": true,
        "template": {
         "data": {
          "bar": [
           {
            "error_x": {
             "color": "#2a3f5f"
            },
            "error_y": {
             "color": "#2a3f5f"
            },
            "marker": {
             "line": {
              "color": "#E5ECF6",
              "width": 0.5
             },
             "pattern": {
              "fillmode": "overlay",
              "size": 10,
              "solidity": 0.2
             }
            },
            "type": "bar"
           }
          ],
          "barpolar": [
           {
            "marker": {
             "line": {
              "color": "#E5ECF6",
              "width": 0.5
             },
             "pattern": {
              "fillmode": "overlay",
              "size": 10,
              "solidity": 0.2
             }
            },
            "type": "barpolar"
           }
          ],
          "carpet": [
           {
            "aaxis": {
             "endlinecolor": "#2a3f5f",
             "gridcolor": "white",
             "linecolor": "white",
             "minorgridcolor": "white",
             "startlinecolor": "#2a3f5f"
            },
            "baxis": {
             "endlinecolor": "#2a3f5f",
             "gridcolor": "white",
             "linecolor": "white",
             "minorgridcolor": "white",
             "startlinecolor": "#2a3f5f"
            },
            "type": "carpet"
           }
          ],
          "choropleth": [
           {
            "colorbar": {
             "outlinewidth": 0,
             "ticks": ""
            },
            "type": "choropleth"
           }
          ],
          "contour": [
           {
            "colorbar": {
             "outlinewidth": 0,
             "ticks": ""
            },
            "colorscale": [
             [
              0,
              "#0d0887"
             ],
             [
              0.1111111111111111,
              "#46039f"
             ],
             [
              0.2222222222222222,
              "#7201a8"
             ],
             [
              0.3333333333333333,
              "#9c179e"
             ],
             [
              0.4444444444444444,
              "#bd3786"
             ],
             [
              0.5555555555555556,
              "#d8576b"
             ],
             [
              0.6666666666666666,
              "#ed7953"
             ],
             [
              0.7777777777777778,
              "#fb9f3a"
             ],
             [
              0.8888888888888888,
              "#fdca26"
             ],
             [
              1,
              "#f0f921"
             ]
            ],
            "type": "contour"
           }
          ],
          "contourcarpet": [
           {
            "colorbar": {
             "outlinewidth": 0,
             "ticks": ""
            },
            "type": "contourcarpet"
           }
          ],
          "heatmap": [
           {
            "colorbar": {
             "outlinewidth": 0,
             "ticks": ""
            },
            "colorscale": [
             [
              0,
              "#0d0887"
             ],
             [
              0.1111111111111111,
              "#46039f"
             ],
             [
              0.2222222222222222,
              "#7201a8"
             ],
             [
              0.3333333333333333,
              "#9c179e"
             ],
             [
              0.4444444444444444,
              "#bd3786"
             ],
             [
              0.5555555555555556,
              "#d8576b"
             ],
             [
              0.6666666666666666,
              "#ed7953"
             ],
             [
              0.7777777777777778,
              "#fb9f3a"
             ],
             [
              0.8888888888888888,
              "#fdca26"
             ],
             [
              1,
              "#f0f921"
             ]
            ],
            "type": "heatmap"
           }
          ],
          "histogram": [
           {
            "marker": {
             "pattern": {
              "fillmode": "overlay",
              "size": 10,
              "solidity": 0.2
             }
            },
            "type": "histogram"
           }
          ],
          "histogram2d": [
           {
            "colorbar": {
             "outlinewidth": 0,
             "ticks": ""
            },
            "colorscale": [
             [
              0,
              "#0d0887"
             ],
             [
              0.1111111111111111,
              "#46039f"
             ],
             [
              0.2222222222222222,
              "#7201a8"
             ],
             [
              0.3333333333333333,
              "#9c179e"
             ],
             [
              0.4444444444444444,
              "#bd3786"
             ],
             [
              0.5555555555555556,
              "#d8576b"
             ],
             [
              0.6666666666666666,
              "#ed7953"
             ],
             [
              0.7777777777777778,
              "#fb9f3a"
             ],
             [
              0.8888888888888888,
              "#fdca26"
             ],
             [
              1,
              "#f0f921"
             ]
            ],
            "type": "histogram2d"
           }
          ],
          "histogram2dcontour": [
           {
            "colorbar": {
             "outlinewidth": 0,
             "ticks": ""
            },
            "colorscale": [
             [
              0,
              "#0d0887"
             ],
             [
              0.1111111111111111,
              "#46039f"
             ],
             [
              0.2222222222222222,
              "#7201a8"
             ],
             [
              0.3333333333333333,
              "#9c179e"
             ],
             [
              0.4444444444444444,
              "#bd3786"
             ],
             [
              0.5555555555555556,
              "#d8576b"
             ],
             [
              0.6666666666666666,
              "#ed7953"
             ],
             [
              0.7777777777777778,
              "#fb9f3a"
             ],
             [
              0.8888888888888888,
              "#fdca26"
             ],
             [
              1,
              "#f0f921"
             ]
            ],
            "type": "histogram2dcontour"
           }
          ],
          "mesh3d": [
           {
            "colorbar": {
             "outlinewidth": 0,
             "ticks": ""
            },
            "type": "mesh3d"
           }
          ],
          "parcoords": [
           {
            "line": {
             "colorbar": {
              "outlinewidth": 0,
              "ticks": ""
             }
            },
            "type": "parcoords"
           }
          ],
          "pie": [
           {
            "automargin": true,
            "type": "pie"
           }
          ],
          "scatter": [
           {
            "fillpattern": {
             "fillmode": "overlay",
             "size": 10,
             "solidity": 0.2
            },
            "type": "scatter"
           }
          ],
          "scatter3d": [
           {
            "line": {
             "colorbar": {
              "outlinewidth": 0,
              "ticks": ""
             }
            },
            "marker": {
             "colorbar": {
              "outlinewidth": 0,
              "ticks": ""
             }
            },
            "type": "scatter3d"
           }
          ],
          "scattercarpet": [
           {
            "marker": {
             "colorbar": {
              "outlinewidth": 0,
              "ticks": ""
             }
            },
            "type": "scattercarpet"
           }
          ],
          "scattergeo": [
           {
            "marker": {
             "colorbar": {
              "outlinewidth": 0,
              "ticks": ""
             }
            },
            "type": "scattergeo"
           }
          ],
          "scattergl": [
           {
            "marker": {
             "colorbar": {
              "outlinewidth": 0,
              "ticks": ""
             }
            },
            "type": "scattergl"
           }
          ],
          "scattermap": [
           {
            "marker": {
             "colorbar": {
              "outlinewidth": 0,
              "ticks": ""
             }
            },
            "type": "scattermap"
           }
          ],
          "scattermapbox": [
           {
            "marker": {
             "colorbar": {
              "outlinewidth": 0,
              "ticks": ""
             }
            },
            "type": "scattermapbox"
           }
          ],
          "scatterpolar": [
           {
            "marker": {
             "colorbar": {
              "outlinewidth": 0,
              "ticks": ""
             }
            },
            "type": "scatterpolar"
           }
          ],
          "scatterpolargl": [
           {
            "marker": {
             "colorbar": {
              "outlinewidth": 0,
              "ticks": ""
             }
            },
            "type": "scatterpolargl"
           }
          ],
          "scatterternary": [
           {
            "marker": {
             "colorbar": {
              "outlinewidth": 0,
              "ticks": ""
             }
            },
            "type": "scatterternary"
           }
          ],
          "surface": [
           {
            "colorbar": {
             "outlinewidth": 0,
             "ticks": ""
            },
            "colorscale": [
             [
              0,
              "#0d0887"
             ],
             [
              0.1111111111111111,
              "#46039f"
             ],
             [
              0.2222222222222222,
              "#7201a8"
             ],
             [
              0.3333333333333333,
              "#9c179e"
             ],
             [
              0.4444444444444444,
              "#bd3786"
             ],
             [
              0.5555555555555556,
              "#d8576b"
             ],
             [
              0.6666666666666666,
              "#ed7953"
             ],
             [
              0.7777777777777778,
              "#fb9f3a"
             ],
             [
              0.8888888888888888,
              "#fdca26"
             ],
             [
              1,
              "#f0f921"
             ]
            ],
            "type": "surface"
           }
          ],
          "table": [
           {
            "cells": {
             "fill": {
              "color": "#EBF0F8"
             },
             "line": {
              "color": "white"
             }
            },
            "header": {
             "fill": {
              "color": "#C8D4E3"
             },
             "line": {
              "color": "white"
             }
            },
            "type": "table"
           }
          ]
         },
         "layout": {
          "annotationdefaults": {
           "arrowcolor": "#2a3f5f",
           "arrowhead": 0,
           "arrowwidth": 1
          },
          "autotypenumbers": "strict",
          "coloraxis": {
           "colorbar": {
            "outlinewidth": 0,
            "ticks": ""
           }
          },
          "colorscale": {
           "diverging": [
            [
             0,
             "#8e0152"
            ],
            [
             0.1,
             "#c51b7d"
            ],
            [
             0.2,
             "#de77ae"
            ],
            [
             0.3,
             "#f1b6da"
            ],
            [
             0.4,
             "#fde0ef"
            ],
            [
             0.5,
             "#f7f7f7"
            ],
            [
             0.6,
             "#e6f5d0"
            ],
            [
             0.7,
             "#b8e186"
            ],
            [
             0.8,
             "#7fbc41"
            ],
            [
             0.9,
             "#4d9221"
            ],
            [
             1,
             "#276419"
            ]
           ],
           "sequential": [
            [
             0,
             "#0d0887"
            ],
            [
             0.1111111111111111,
             "#46039f"
            ],
            [
             0.2222222222222222,
             "#7201a8"
            ],
            [
             0.3333333333333333,
             "#9c179e"
            ],
            [
             0.4444444444444444,
             "#bd3786"
            ],
            [
             0.5555555555555556,
             "#d8576b"
            ],
            [
             0.6666666666666666,
             "#ed7953"
            ],
            [
             0.7777777777777778,
             "#fb9f3a"
            ],
            [
             0.8888888888888888,
             "#fdca26"
            ],
            [
             1,
             "#f0f921"
            ]
           ],
           "sequentialminus": [
            [
             0,
             "#0d0887"
            ],
            [
             0.1111111111111111,
             "#46039f"
            ],
            [
             0.2222222222222222,
             "#7201a8"
            ],
            [
             0.3333333333333333,
             "#9c179e"
            ],
            [
             0.4444444444444444,
             "#bd3786"
            ],
            [
             0.5555555555555556,
             "#d8576b"
            ],
            [
             0.6666666666666666,
             "#ed7953"
            ],
            [
             0.7777777777777778,
             "#fb9f3a"
            ],
            [
             0.8888888888888888,
             "#fdca26"
            ],
            [
             1,
             "#f0f921"
            ]
           ]
          },
          "colorway": [
           "#636efa",
           "#EF553B",
           "#00cc96",
           "#ab63fa",
           "#FFA15A",
           "#19d3f3",
           "#FF6692",
           "#B6E880",
           "#FF97FF",
           "#FECB52"
          ],
          "font": {
           "color": "#2a3f5f"
          },
          "geo": {
           "bgcolor": "white",
           "lakecolor": "white",
           "landcolor": "#E5ECF6",
           "showlakes": true,
           "showland": true,
           "subunitcolor": "white"
          },
          "hoverlabel": {
           "align": "left"
          },
          "hovermode": "closest",
          "mapbox": {
           "style": "light"
          },
          "paper_bgcolor": "white",
          "plot_bgcolor": "#E5ECF6",
          "polar": {
           "angularaxis": {
            "gridcolor": "white",
            "linecolor": "white",
            "ticks": ""
           },
           "bgcolor": "#E5ECF6",
           "radialaxis": {
            "gridcolor": "white",
            "linecolor": "white",
            "ticks": ""
           }
          },
          "scene": {
           "xaxis": {
            "backgroundcolor": "#E5ECF6",
            "gridcolor": "white",
            "gridwidth": 2,
            "linecolor": "white",
            "showbackground": true,
            "ticks": "",
            "zerolinecolor": "white"
           },
           "yaxis": {
            "backgroundcolor": "#E5ECF6",
            "gridcolor": "white",
            "gridwidth": 2,
            "linecolor": "white",
            "showbackground": true,
            "ticks": "",
            "zerolinecolor": "white"
           },
           "zaxis": {
            "backgroundcolor": "#E5ECF6",
            "gridcolor": "white",
            "gridwidth": 2,
            "linecolor": "white",
            "showbackground": true,
            "ticks": "",
            "zerolinecolor": "white"
           }
          },
          "shapedefaults": {
           "line": {
            "color": "#2a3f5f"
           }
          },
          "ternary": {
           "aaxis": {
            "gridcolor": "white",
            "linecolor": "white",
            "ticks": ""
           },
           "baxis": {
            "gridcolor": "white",
            "linecolor": "white",
            "ticks": ""
           },
           "bgcolor": "#E5ECF6",
           "caxis": {
            "gridcolor": "white",
            "linecolor": "white",
            "ticks": ""
           }
          },
          "title": {
           "x": 0.05
          },
          "xaxis": {
           "automargin": true,
           "gridcolor": "white",
           "linecolor": "white",
           "ticks": "",
           "title": {
            "standoff": 15
           },
           "zerolinecolor": "white",
           "zerolinewidth": 2
          },
          "yaxis": {
           "automargin": true,
           "gridcolor": "white",
           "linecolor": "white",
           "ticks": "",
           "title": {
            "standoff": 15
           },
           "zerolinecolor": "white",
           "zerolinewidth": 2
          }
         }
        },
        "title": {
         "font": {
          "size": 20
         },
         "text": "🏊‍♀️ Multi-Pond Scale Impact Analysis Dashboard"
        },
        "width": 1400,
        "xaxis": {
         "anchor": "y",
         "domain": [
          0,
          0.45
         ],
         "title": {
          "text": "ρ Value"
         }
        },
        "xaxis2": {
         "anchor": "y2",
         "domain": [
          0.55,
          1
         ],
         "title": {
          "text": "Pond Type"
         }
        },
        "xaxis3": {
         "anchor": "y3",
         "domain": [
          0,
          0.45
         ],
         "title": {
          "text": "Pond-Size Category"
         }
        },
        "xaxis4": {
         "anchor": "y4",
         "domain": [
          0.55,
          1
         ],
         "title": {
          "text": "Measurement Error (%)"
         }
        },
        "xaxis5": {
         "anchor": "y5",
         "domain": [
          0,
          0.45
         ],
         "title": {
          "text": "Pond Type"
         }
        },
        "xaxis6": {
         "anchor": "y6",
         "domain": [
          0.55,
          1
         ],
         "title": {
          "text": "Pond Type"
         }
        },
        "yaxis": {
         "anchor": "x",
         "domain": [
          0.7777777777777778,
          1
         ],
         "title": {
          "text": "Frequency"
         }
        },
        "yaxis2": {
         "anchor": "x2",
         "domain": [
          0.7777777777777778,
          1
         ],
         "title": {
          "text": "ρ Value"
         }
        },
        "yaxis3": {
         "anchor": "x3",
         "domain": [
          0.3888888888888889,
          0.6111111111111112
         ],
         "title": {
          "text": "ρ Value"
         }
        },
        "yaxis4": {
         "anchor": "x4",
         "domain": [
          0.3888888888888889,
          0.6111111111111112
         ],
         "title": {
          "text": "Scale Impact Ratio (ρ)"
         }
        },
        "yaxis5": {
         "anchor": "x5",
         "domain": [
          0,
          0.22222222222222224
         ],
         "title": {
          "text": "Statistical Value"
         }
        },
        "yaxis6": {
         "anchor": "x6",
         "domain": [
          0,
          0.22222222222222224
         ],
         "title": {
          "text": "Percentage (%)"
         }
        }
       }
      }
     },
     "metadata": {},
     "output_type": "display_data"
    },
    {
     "name": "stdout",
     "output_type": "stream",
     "text": [
      "\n",
      "✅ Multi-pond scale impact analysis complete!\n",
      "🎯 Key insight: Median ρ provides robust comparison of scaling effects across pond geometries\n",
      "🏊‍♀️ Median-based analysis reveals reliable environment-specific scaling behaviors\n",
      "\n",
      "📊 MEDIAN SCALING SUMMARY:\n",
      "==================================================\n",
      "🔵 Circle Pond: Median ρ = 1.0421 (deviation from neutral: 0.0421)\n",
      "🔲 Rectangular Pond: Median ρ = 1.0946 (deviation from neutral: 0.0946)\n",
      "\n",
      "🏆 CONCLUSION: Circle pond shows more neutral median scaling behavior\n"
     ]
    }
   ],
   "source": [
    "# 📊 PHASE 3: Comprehensive Multi-Pond Visualization Dashboard\n",
    "# ===========================================================\n",
    "\n",
    "print(\"\\n📊 PHASE 3: Creating Multi-Pond Visualization Dashboard...\")\n",
    "print(\"🎨 Comprehensive ρ analysis across Circle vs Rectangular ponds...\")\n",
    "print(\"=\" * 80)\n",
    "\n",
    "# Define consistent colors for pond types\n",
    "POND_COLORS = {\n",
    "    'Circle': '#4ECDC4',      # Teal\n",
    "    'Rectangular': '#FF6B6B'  # Coral Red\n",
    "}\n",
    "\n",
    "# 🎨 Create comprehensive 6-panel visualization dashboard\n",
    "fig = make_subplots(\n",
    "    rows=3, cols=2,\n",
    "    subplot_titles=[\n",
    "        '📊 Scale Impact Ratio (ρ) Distribution by Pond Type',\n",
    "        '⚖️ Scaling Behavior Comparison', \n",
    "        '🦐 ρ Values by Exuviae Size and Pond Type',\n",
    "        '📈 ρ vs Measurement Error Correlation',\n",
    "        '🔍 Statistical Summary by Pond Type',\n",
    "        '🏊‍♀️ Pond-Specific Scaling Performance'\n",
    "    ],\n",
    "    specs=[[{\"secondary_y\": False}, {\"secondary_y\": False}],\n",
    "           [{\"secondary_y\": False}, {\"secondary_y\": False}],\n",
    "           [{\"secondary_y\": False}, {\"secondary_y\": False}]]\n",
    ")\n",
    "\n",
    "# 📊 1. Histogram of ρ values by pond type\n",
    "for pond_type in ['Circle', 'Rectangular']:\n",
    "    pond_data = df_exuviae[df_exuviae['pond_type'] == pond_type]\n",
    "    rho_clean = pond_data['scale_impact_ratio_rho'].dropna()\n",
    "    \n",
    "    if len(rho_clean) > 0:\n",
    "        fig.add_trace(\n",
    "            go.Histogram(\n",
    "                x=rho_clean,\n",
    "                nbinsx=15,\n",
    "                name=f'{pond_type} Pond',\n",
    "                marker_color=POND_COLORS[pond_type],\n",
    "                opacity=0.7,\n",
    "                hovertemplate=f\"<b>{pond_type} Pond</b><br>ρ Range: %{{x}}<br>Count: %{{y}}<extra></extra>\"\n",
    "            ),\n",
    "            row=1, col=1\n",
    "        )\n",
    "\n",
    "# Add reference lines for neutral scaling\n",
    "fig.add_vline(x=1, line_dash=\"dash\", line_color=\"gray\", opacity=0.7, row=1, col=1)\n",
    "fig.add_vline(x=1.1, line_dash=\"dot\", line_color=\"red\", opacity=0.5, row=1, col=1)\n",
    "fig.add_vline(x=0.9, line_dash=\"dot\", line_color=\"blue\", opacity=0.5, row=1, col=1)\n",
    "\n",
    "# 🏊‍♀️ 2. Box plot comparison by pond type\n",
    "for pond_type in ['Circle', 'Rectangular']:\n",
    "    pond_data = df_exuviae[df_exuviae['pond_type'] == pond_type]\n",
    "    pond_rho = pond_data['scale_impact_ratio_rho'].dropna()\n",
    "    \n",
    "    if len(pond_rho) > 0:\n",
    "        fig.add_trace(\n",
    "            go.Box(\n",
    "                y=pond_rho,\n",
    "                name=f'{pond_type} Pond',\n",
    "                boxpoints='all',\n",
    "                jitter=0.3,\n",
    "                pointpos=-1.8,\n",
    "                marker_color=POND_COLORS[pond_type],\n",
    "                hovertemplate=f\"<b>{pond_type} Pond</b><br>ρ: %{{y:.3f}}<extra></extra>\"\n",
    "            ),\n",
    "            row=1, col=2\n",
    "        )\n",
    "\n",
    "# 🦐 3. Scatter plot by exuviae size and pond type\n",
    "for pond_type in ['Circle', 'Rectangular']:\n",
    "    for size in ['big', 'small']:\n",
    "        subset = df_exuviae[(df_exuviae['pond_type'] == pond_type) & \n",
    "                           (df_exuviae['lobster_size'] == size)]\n",
    "        \n",
    "        if len(subset) > 0:\n",
    "            fig.add_trace(\n",
    "                go.Scatter(\n",
    "                    x=[f\"{pond_type}-{size.title()}\"] * len(subset),\n",
    "                    y=subset['scale_impact_ratio_rho'],\n",
    "                    mode='markers',\n",
    "                    name=f'{pond_type} {size.title()}',\n",
    "                    marker=dict(\n",
    "                        size=10,\n",
    "                        opacity=0.8,\n",
    "                        color=POND_COLORS[pond_type],\n",
    "                        symbol='circle' if size == 'big' else 'diamond'\n",
    "                    ),\n",
    "                    hovertemplate=f\"<b>{pond_type} Pond - {size.title()} Exuviae</b><br>\" +\n",
    "                                 \"ρ: %{y:.3f}<br>\" +\n",
    "                                 \"Image: %{customdata}<extra></extra>\",\n",
    "                    customdata=subset['image_name']\n",
    "                ),\n",
    "                row=2, col=1\n",
    "            )\n",
    "\n",
    "# 📈 4. ρ vs measurement error correlation by pond type\n",
    "for pond_type in ['Circle', 'Rectangular']:\n",
    "    pond_data = df_exuviae[df_exuviae['pond_type'] == pond_type]\n",
    "    \n",
    "    fig.add_trace(\n",
    "        go.Scatter(\n",
    "            x=pond_data['measurement_difference_pct'],\n",
    "            y=pond_data['scale_impact_ratio_rho'],\n",
    "            mode='markers',\n",
    "            name=f'{pond_type} Correlation',\n",
    "            marker=dict(\n",
    "                size=8,\n",
    "                opacity=0.7,\n",
    "                color=POND_COLORS[pond_type]\n",
    "            ),\n",
    "            hovertemplate=f\"<b>{pond_type} Pond</b><br>\" +\n",
    "                         \"Measurement Error %: %{x:.2f}%<br>\" +\n",
    "                         \"ρ: %{y:.3f}<br>\" +\n",
    "                         \"Image: %{customdata}<extra></extra>\",\n",
    "            customdata=pond_data['image_name']\n",
    "        ),\n",
    "        row=2, col=2\n",
    "    )\n",
    "\n",
    "# Add reference lines for scaling behavior zones\n",
    "fig.add_hline(y=1, line_dash=\"dash\", line_color=\"gray\", opacity=0.7, row=2, col=2)\n",
    "fig.add_hline(y=1.1, line_dash=\"dot\", line_color=\"red\", opacity=0.5, row=2, col=2)\n",
    "fig.add_hline(y=0.9, line_dash=\"dot\", line_color=\"blue\", opacity=0.5, row=2, col=2)\n",
    "\n",
    "# 🔍 5. Median-focused statistical summary\n",
    "if len(pond_stats) == 2:\n",
    "    pond_types = list(pond_stats.keys())\n",
    "    \n",
    "    # Focus on median values only\n",
    "    median_values = [pond_stats[pond]['median'] for pond in pond_types]\n",
    "    \n",
    "    fig.add_trace(\n",
    "        go.Bar(\n",
    "            x=pond_types,\n",
    "            y=median_values,\n",
    "            name='Median ρ',\n",
    "            marker_color=[POND_COLORS[pond] for pond in pond_types],\n",
    "            opacity=0.8,\n",
    "            text=[f'{val:.3f}' for val in median_values],\n",
    "            textposition='auto',\n",
    "            hovertemplate=\"<b>%{x} Pond</b><br>Median ρ: %{y:.3f}<br>Deviation from neutral (|ρ-1|): %{customdata:.3f}<extra></extra>\",\n",
    "            customdata=[abs(val - 1) for val in median_values]\n",
    "        ),\n",
    "        row=3, col=1\n",
    "    )\n",
    "    \n",
    "    # Add reference line at ρ = 1 (neutral scaling)\n",
    "    fig.add_hline(y=1, line_dash=\"dash\", line_color=\"gray\", opacity=0.7, row=3, col=1)\n",
    "\n",
    "# 🏊‍♀️ 6. Scaling performance by pond type (neutral scaling percentage)\n",
    "if len(pond_stats) == 2:\n",
    "    performance_metrics = ['neutral_pct', 'amplifying_pct', 'compressing_pct']\n",
    "    metric_names = ['Neutral', 'Amplifying', 'Compressing']\n",
    "    metric_colors = ['green', 'red', 'blue']\n",
    "    \n",
    "    for i, (metric, name, color) in enumerate(zip(performance_metrics, metric_names, metric_colors)):\n",
    "        values = [pond_stats[pond][metric] for pond in pond_types]\n",
    "        \n",
    "        fig.add_trace(\n",
    "            go.Bar(\n",
    "                x=pond_types,\n",
    "                y=values,\n",
    "                name=f'{name} Scaling %',\n",
    "                marker_color=color,\n",
    "                opacity=0.7,\n",
    "                hovertemplate=f\"<b>%{{x}} Pond</b><br>{name} Scaling: %{{y:.1f}}%<extra></extra>\"\n",
    "            ),\n",
    "            row=3, col=2\n",
    "        )\n",
    "\n",
    "# Update layout\n",
    "fig.update_layout(\n",
    "    title_text=\"🏊‍♀️ Multi-Pond Scale Impact Analysis Dashboard\",\n",
    "    title_font_size=20,\n",
    "    height=1200,\n",
    "    width=1400,\n",
    "    showlegend=True\n",
    ")\n",
    "\n",
    "# Update axes labels\n",
    "fig.update_xaxes(title_text=\"ρ Value\", row=1, col=1)\n",
    "fig.update_yaxes(title_text=\"Frequency\", row=1, col=1)\n",
    "\n",
    "fig.update_xaxes(title_text=\"Pond Type\", row=1, col=2)\n",
    "fig.update_yaxes(title_text=\"ρ Value\", row=1, col=2)\n",
    "\n",
    "fig.update_xaxes(title_text=\"Pond-Size Category\", row=2, col=1)\n",
    "fig.update_yaxes(title_text=\"ρ Value\", row=2, col=1)\n",
    "\n",
    "fig.update_xaxes(title_text=\"Measurement Error (%)\", row=2, col=2)\n",
    "fig.update_yaxes(title_text=\"Scale Impact Ratio (ρ)\", row=2, col=2)\n",
    "\n",
    "fig.update_xaxes(title_text=\"Pond Type\", row=3, col=1)\n",
    "fig.update_yaxes(title_text=\"Statistical Value\", row=3, col=1)\n",
    "\n",
    "fig.update_xaxes(title_text=\"Pond Type\", row=3, col=2)\n",
    "fig.update_yaxes(title_text=\"Percentage (%)\", row=3, col=2)\n",
    "\n",
    "fig.show()\n",
    "\n",
    "print(f\"\\n✅ Multi-pond scale impact analysis complete!\")\n",
    "print(f\"🎯 Key insight: Median ρ provides robust comparison of scaling effects across pond geometries\")\n",
    "print(f\"🏊‍♀️ Median-based analysis reveals reliable environment-specific scaling behaviors\")\n",
    "\n",
    "# 📊 Summary of median findings\n",
    "if len(pond_stats) == 2:\n",
    "    print(f\"\\n📊 MEDIAN SCALING SUMMARY:\")\n",
    "    print(\"=\" * 50)\n",
    "    for pond_type in pond_stats:\n",
    "        median_rho = pond_stats[pond_type]['median']\n",
    "        deviation = abs(median_rho - 1)\n",
    "        pond_icon = \"🔵\" if pond_type == \"Circle\" else \"🔲\"\n",
    "        print(f\"{pond_icon} {pond_type} Pond: Median ρ = {median_rho:.4f} (deviation from neutral: {deviation:.4f})\")\n",
    "    \n",
    "    # Determine best pond based on median\n",
    "    circle_median = pond_stats.get('Circle', {}).get('median', float('inf'))\n",
    "    rect_median = pond_stats.get('Rectangular', {}).get('median', float('inf'))\n",
    "    \n",
    "    circle_dev = abs(circle_median - 1)\n",
    "    rect_dev = abs(rect_median - 1)\n",
    "    \n",
    "    if circle_dev < rect_dev:\n",
    "        print(f\"\\n🏆 CONCLUSION: Circle pond shows more neutral median scaling behavior\")\n",
    "    elif rect_dev < circle_dev:\n",
    "        print(f\"\\n🏆 CONCLUSION: Rectangular pond shows more neutral median scaling behavior\")\n",
    "    else:\n",
    "        print(f\"\\n⚖️ CONCLUSION: Both ponds show similar median scaling behavior\")\n"
   ]
  },
  {
   "cell_type": "markdown",
   "metadata": {
    "vscode": {
     "languageId": "raw"
    }
   },
   "source": [
    "## 📈 PHASE 4: Pixel Measurement Accuracy Analysis\n",
    "\n",
    "This phase analyzes the accuracy of pixel-based measurements by comparing them against ground truth measurements, categorized by relative error thresholds. This visualization helps identify measurement quality patterns and potential systematic errors in the pixel detection system.\n",
    "\n",
    "**Key Analysis:**\n",
    "- **Error Categorization**: Color-coded scatter plot based on relative error thresholds (≤5%, 5-10%, 10-15%, >15%)\n",
    "- **Perfect Correlation Line**: Diagonal reference line showing ideal 1:1 relationship\n",
    "- **Comprehensive Hover Information**: Detailed measurement data for each point\n",
    "- **Quality Assessment**: Visual identification of high vs low accuracy measurements\n",
    "\n",
    "**Error Thresholds:**\n",
    "- 🟢 **Green**: Excellent accuracy (≤5% error)\n",
    "- 🟡 **Yellow**: Good accuracy (5-10% error)  \n",
    "- 🟠 **Orange**: Moderate accuracy (10-15% error)\n",
    "- 🔴 **Red**: Poor accuracy (>15% error)\n",
    "\n",
    "**Purpose:**\n",
    "- Evaluate pixel measurement system performance\n",
    "- Identify patterns in measurement errors\n",
    "- Assess correlation between different measurement methods\n",
    "- Support quality control and system optimization\n"
   ]
  },
  {
   "cell_type": "code",
   "execution_count": 9,
   "metadata": {},
   "outputs": [
    {
     "name": "stdout",
     "output_type": "stream",
     "text": [
      "\n",
      "📈 PHASE 4: Analyzing Pixel Measurement Accuracy...\n",
      "🎯 Creating error-categorized scatter plot for measurement quality assessment...\n",
      "================================================================================\n"
     ]
    },
    {
     "data": {
      "application/vnd.plotly.v1+json": {
       "config": {
        "plotlyServerURL": "https://plot.ly"
       },
       "data": [
        {
         "customdata": [
          [
           "undistorted_GX010191_37_1242",
           139.2,
           "small",
           0.0681966848060582,
           0.4900000000000091,
           5.800000000000011,
           4.000000000000008
          ],
          [
           "undistorted_GX010193_11_1065",
           184.3,
           "big",
           0.2719072631353484,
           4.733000000000175,
           4.300000000000011,
           2.388888888888895
          ],
          [
           "undistorted_GX010191_100_1250",
           143,
           "small",
           0.910018942805829,
           6.668000000000006,
           2,
           1.3793103448275863
          ],
          [
           "undistorted_GX010193_27_1553",
           186.6,
           "big",
           0.4546249839332618,
           8.028999999999996,
           6.599999999999994,
           3.6666666666666634
          ],
          [
           "undistorted_GX010194_39_513",
           144.1,
           "small",
           0.6183931256023713,
           8.091000000000122,
           0.9000000000000057,
           0.6206896551724177
          ],
          [
           "undistorted_GX010191_35_1167",
           149.2,
           "small",
           1.38289901032272,
           10.649,
           4.199999999999989,
           2.896551724137923
          ],
          [
           "undistorted_GX010191_31_283",
           174.8,
           "big",
           1.4735613321265169,
           13.936000000000035,
           5.199999999999989,
           2.888888888888882
          ],
          [
           "undistorted_GX010191_42_1339",
           138.2,
           "small",
           2.576005437362323,
           18.722999999999956,
           6.800000000000011,
           4.689655172413801
          ],
          [
           "undistorted_GX010191_35_367",
           171.6,
           "big",
           2.246188864725486,
           20.80200000000002,
           8.400000000000006,
           4.66666666666667
          ],
          [
           "undistorted_GX010191_34_350",
           175.4,
           "big",
           2.4961162195070723,
           23.779999999999973,
           4.599999999999994,
           2.555555555555552
          ],
          [
           "undistorted_GX010191_17_509",
           142.3,
           "small",
           3.6387715920015538,
           25.66199999999992,
           2.6999999999999886,
           1.8620689655172336
          ],
          [
           "undistorted_GX010191_105_1312",
           141.4,
           "small",
           3.722818300028649,
           25.852999999999952,
           3.5999999999999943,
           2.4827586206896513
          ],
          [
           "undistorted_GX010191_37_1242",
           181.3,
           "big",
           2.662578535683596,
           26.15599999999995,
           1.3000000000000114,
           0.7222222222222285
          ],
          [
           "undistorted_GX010191_36_1195",
           144.8,
           "small",
           3.7255332729288826,
           28.658999999999992,
           0.1999999999999886,
           0.1379310344827508
          ],
          [
           "undistorted_GX010193_18_1289",
           145.8,
           "small",
           2.9511834319526695,
           39.90000000000009,
           0.8000000000000114,
           0.5517241379310424
          ],
          [
           "undistorted_GX010191_114_1383",
           149.5,
           "small",
           5.193547317909129,
           42.307000000000016,
           4.5,
           3.103448275862069
          ],
          [
           "undistorted_GX010191_8_309",
           179.7,
           "big",
           4.902454511615695,
           44.780000000000086,
           0.3000000000000113,
           0.1666666666666729
          ],
          [
           "undistorted_GX010191_34_350",
           149.3,
           "small",
           6.216755319148936,
           44.879999999999995,
           4.300000000000011,
           2.965517241379318
          ],
          [
           "undistorted_GX010191_35_367",
           146.1,
           "small",
           6.543349852011343,
           46.22700000000009,
           1.0999999999999943,
           0.7586206896551685
          ],
          [
           "undistorted_GX010191_38_1266",
           150.7,
           "small",
           7.158069674391972,
           51.254999999999995,
           5.699999999999989,
           3.931034482758613
          ],
          [
           "undistorted_GX010191_17_509",
           174.9,
           "big",
           5.8743130434187405,
           51.48900000000003,
           5.099999999999994,
           2.83333333333333
          ],
          [
           "undistorted_GX010191_36_1195",
           172.9,
           "big",
           6.322040387419454,
           62.087999999999965,
           7.099999999999994,
           3.9444444444444415
          ],
          [
           "undistorted_GX010191_10_370",
           149,
           "small",
           9.54362568428856,
           66.43900000000008,
           4,
           2.7586206896551726
          ],
          [
           "undistorted_GX010191_105_1312",
           174.2,
           "big",
           6.857920552203788,
           68.077,
           5.800000000000011,
           3.2222222222222285
          ],
          [
           "undistorted_GX010192_26_1578",
           139.5,
           "small",
           5.190106282117129,
           68.81099999999992,
           5.5,
           3.793103448275862
          ],
          [
           "undistorted_GX010192_26_1578",
           172.9,
           "big",
           4.580174889777063,
           78.68200000000002,
           7.099999999999994,
           3.9444444444444415
          ],
          [
           "undistorted_GX010193_28_1584",
           143.6,
           "small",
           5.776312221746017,
           79.24800000000005,
           1.4000000000000057,
           0.9655172413793144
          ]
         ],
         "hovertemplate": "<b>Image:</b> %{customdata[0]}<br><b>Pixels Total Length:</b> %{y:.1f}<br><b>Length:</b> %{x:.1f}<br><b>Total Length:</b> %{customdata[1]:.1f}<br><b>Lobster Size:</b> %{customdata[2]}<br><b>Pixel Rel Diff:</b> %{customdata[3]:.1f}%<br><b>Pixel Abs Diff:</b> %{customdata[4]:.1f}<br><b>Real Length Abs Diff:</b> %{customdata[5]:.1f}<br><b>Real Length Rel Diff:</b> %{customdata[6]:.1f}%<br>",
         "marker": {
          "color": "green",
          "opacity": 0.6,
          "size": 10
         },
         "mode": "markers",
         "name": "Error ≤ 5%",
         "type": "scatter",
         "x": {
          "bdata": "rkfhehR0hkC6SQwCqzKbQGDl0CLb5YZAEFg5tEiYm0Dy0k1ikHGUQAisHFpkEIhA2c73U+ONjUDdJAaBlbaGQIlBYOXQ8IxAPQrXo3DFjUCWQ4ts5wmGQH9qvHSTs4VAAiuHFtmyjkBQjZduEgqIQAAAAAAAIJVAYOXQItt0iUCPwvUoXIuMQI/C9Shcj4ZAEFg5tMgThkCPwvUoXGCGQAwCK4cWZItAYhBYObSwjkA/NV66ScGFQCPb+X5qBY9AObTIdj63lEBKDAIrh9eaQG8Sg8DKb5VA",
          "dtype": "f8"
         },
         "y": {
          "bdata": "AAAAAAB4hkCamZmZmUWbQDMzMzMzG4dAZmZmZma4m0AzMzMzM1GUQDMzMzMzu4dAZmZmZmYejUDNzMzMzCCGQGZmZmZmSoxAMzMzMzMHjUAzMzMzM9eGQGZmZmZmgoZAmpmZmZnhjUDNzMzMzCSHQGZmZmZmgJRAZmZmZmYiiECamZmZmfGNQGZmZmZm9odAmpmZmZmFh0BmZmZmZvqHQAAAAAAAAI1AAAAAAADAjEDNzMzMzNSHQM3MzMzM5IxAAAAAAACkk0DNzMzMzJyZQM3MzMzMMpRA",
          "dtype": "f8"
         }
        },
        {
         "customdata": [
          [
           "undistorted_GX010191_8_309",
           154.8,
           "small",
           0.0656043324189291,
           0.5180000000000291,
           9.800000000000011,
           6.75862068965518
          ],
          [
           "undistorted_GX010191_32_305",
           154.2,
           "small",
           0.4425198944029785,
           3.4950000000000045,
           9.199999999999989,
           6.344827586206889
          ],
          [
           "undistorted_GX010191_28_230",
           152.7,
           "small",
           2.8653838476585847,
           22.96799999999996,
           7.699999999999989,
           5.310344827586199
          ],
          [
           "undistorted_GX010191_88_1016",
           190.4,
           "big",
           2.2953794759610755,
           23.82899999999995,
           10.400000000000006,
           5.777777777777781
          ],
          [
           "undistorted_GX010191_47_507",
           170.3,
           "big",
           3.7101890390362833,
           32.375999999999976,
           9.699999999999989,
           5.388888888888883
          ],
          [
           "undistorted_GX010191_34_1128",
           169.7,
           "big",
           5.290556620507818,
           50.285999999999945,
           10.300000000000011,
           5.7222222222222285
          ],
          [
           "undistorted_GX010191_41_1322",
           169,
           "big",
           6.0311290132538655,
           57.84100000000001,
           11,
           6.111111111111111
          ],
          [
           "undistorted_GX010191_42_1339",
           166.6,
           "big",
           6.185869246555263,
           58.447,
           13.400000000000006,
           7.444444444444448
          ],
          [
           "undistorted_GX010191_43_1353",
           164.2,
           "big",
           6.91075495227486,
           64.394,
           15.800000000000011,
           8.777777777777784
          ],
          [
           "undistorted_GX010191_106_1320",
           155,
           "small",
           9.455520896612448,
           69.26499999999999,
           10,
           6.896551724137931
          ],
          [
           "undistorted_GX010191_110_1355",
           162.4,
           "big",
           7.649384365136645,
           71.00999999999999,
           17.599999999999994,
           9.777777777777777
          ],
          [
           "undistorted_GX010191_32_305",
           191.5,
           "big",
           7.709092597321189,
           73.0619999999999,
           11.5,
           6.388888888888888
          ],
          [
           "undistorted_GX010191_14_460",
           162.5,
           "big",
           9.32942765874168,
           73.88999999999999,
           17.5,
           9.722222222222223
          ],
          [
           "undistorted_GX010194_7_885",
           154.7,
           "small",
           5.6427307993046165,
           74.32999999999993,
           9.699999999999989,
           6.689655172413786
          ],
          [
           "undistorted_GX010194_19_285",
           133.1,
           "small",
           6.626369451250111,
           84.76199999999994,
           11.900000000000006,
           8.206896551724142
          ],
          [
           "undistorted_GX010191_117_1408",
           168.9,
           "big",
           8.734013895231067,
           85.49700000000007,
           11.099999999999994,
           6.166666666666663
          ],
          [
           "undistorted_GX010191_47_507",
           153.4,
           "small",
           9.82370413832304,
           85.72400000000005,
           8.400000000000006,
           5.793103448275866
          ],
          [
           "undistorted_GX010193_19_1334",
           134.3,
           "small",
           7.949803637502098,
           103.60200000000007,
           10.699999999999989,
           7.379310344827579
          ]
         ],
         "hovertemplate": "<b>Image:</b> %{customdata[0]}<br><b>Pixels Total Length:</b> %{y:.1f}<br><b>Length:</b> %{x:.1f}<br><b>Total Length:</b> %{customdata[1]:.1f}<br><b>Lobster Size:</b> %{customdata[2]}<br><b>Pixel Rel Diff:</b> %{customdata[3]:.1f}%<br><b>Pixel Abs Diff:</b> %{customdata[4]:.1f}<br><b>Real Length Abs Diff:</b> %{customdata[5]:.1f}<br><b>Real Length Rel Diff:</b> %{customdata[6]:.1f}%<br>",
         "marker": {
          "color": "yellow",
          "opacity": 0.6,
          "size": 10
         },
         "mode": "markers",
         "name": "5% < Error ≤ 10%",
         "type": "scatter",
         "x": {
          "bdata": "LbKd76esiECPwvUoXK6IQAaBlUOLDIlAvHSTGIQ4kECiRbbz/USLQNnO91Pjs41AF9nO91P4jUCyne+nxoaNQDEIrBxaHo1A4XoUrkfkhkAUrkfhegKNQJZDi2znnY1ArkfhehTAiECuR+F6FJWUQM/3U+Ol/JNAGQRWDi2XjkCiRbbz/USLQCuHFtnOXJRA",
          "dtype": "f8"
         },
         "y": {
          "bdata": "zczMzMywiEBmZmZmZpKIQM3MzMzMVIhAZmZmZmayj0AAAAAAAEiMQJqZmZmZIYxAmpmZmZkpjEAzMzMzM7OLQDMzMzMzG4tAZmZmZmYOiUBmZmZmZsqKQGZmZmZm5o9AMzMzMzMPi0BmZmZmZr6VQJqZmZmZqZJAMzMzMzPri0AzMzMzM5eIQGZmZmZmvpJA",
          "dtype": "f8"
         }
        },
        {
         "customdata": [
          [
           "undistorted_GX010191_94_1132",
           156.7,
           "big",
           1.1809716535184118,
           9.711000000000013,
           23.30000000000001,
           12.94444444444445
          ],
          [
           "undistorted_GX010191_28_230",
           201.1,
           "big",
           4.7224216144421725,
           48.354999999999905,
           21.09999999999999,
           11.722222222222218
          ],
          [
           "undistorted_GX010191_16_495",
           157,
           "big",
           8.532781772218396,
           77.97000000000003,
           23,
           12.777777777777777
          ],
          [
           "undistorted_GX010191_15_479",
           159.4,
           "big",
           8.77770493632572,
           81.80899999999997,
           20.59999999999999,
           11.44444444444444
          ],
          [
           "undistorted_GX010194_26_373",
           126.4,
           "small",
           7.4659118452999635,
           90.865,
           18.59999999999999,
           12.82758620689655
          ]
         ],
         "hovertemplate": "<b>Image:</b> %{customdata[0]}<br><b>Pixels Total Length:</b> %{y:.1f}<br><b>Length:</b> %{x:.1f}<br><b>Total Length:</b> %{customdata[1]:.1f}<br><b>Lobster Size:</b> %{customdata[2]}<br><b>Pixel Rel Diff:</b> %{customdata[3]:.1f}%<br><b>Pixel Abs Diff:</b> %{customdata[4]:.1f}<br><b>Real Length Abs Diff:</b> %{customdata[5]:.1f}<br><b>Real Length Rel Diff:</b> %{customdata[6]:.1f}%<br>",
         "marker": {
          "color": "orange",
          "opacity": 0.6,
          "size": 10
         },
         "mode": "markers",
         "name": "10% < Error ≤ 15%",
         "type": "scatter",
         "x": {
          "bdata": "WmQ730+yiUDD9Shcj/+PQFyPwvUojoxAUI2XbhIgjUD2KFyPQgSTQA==",
          "dtype": "f8"
         },
         "y": {
          "bdata": "AAAAAAAAikAzMzMzM8GQQGZmZmZmHopAmpmZmZmRikDNzMzMzJiRQA==",
          "dtype": "f8"
         }
        },
        {
         "customdata": [
          [
           "undistorted_GX010193_20_1365",
           120.6,
           "small",
           9.869109440804625,
           117.23900000000005,
           24.40000000000001,
           16.827586206896555
          ]
         ],
         "hovertemplate": "<b>Image:</b> %{customdata[0]}<br><b>Pixels Total Length:</b> %{y:.1f}<br><b>Length:</b> %{x:.1f}<br><b>Total Length:</b> %{customdata[1]:.1f}<br><b>Lobster Size:</b> %{customdata[2]}<br><b>Pixel Rel Diff:</b> %{customdata[3]:.1f}%<br><b>Pixel Abs Diff:</b> %{customdata[4]:.1f}<br><b>Real Length Abs Diff:</b> %{customdata[5]:.1f}<br><b>Real Length Rel Diff:</b> %{customdata[6]:.1f}%<br>",
         "marker": {
          "color": "red",
          "opacity": 0.6,
          "size": 10
         },
         "mode": "markers",
         "name": "Error > 15%",
         "type": "scatter",
         "x": {
          "bdata": "x0s3icGPkkA=",
          "dtype": "f8"
         },
         "y": {
          "bdata": "zczMzMy6kEA=",
          "dtype": "f8"
         }
        },
        {
         "line": {
          "color": "black",
          "dash": "dash",
          "width": 1
         },
         "mode": "lines",
         "name": "Perfect correlation",
         "opacity": 0.5,
         "type": "scatter",
         "x": [
          694.447,
          1774.1
         ],
         "y": [
          694.447,
          1774.1
         ]
        }
       ],
       "layout": {
        "height": 800,
        "plot_bgcolor": "white",
        "showlegend": true,
        "template": {
         "data": {
          "bar": [
           {
            "error_x": {
             "color": "#2a3f5f"
            },
            "error_y": {
             "color": "#2a3f5f"
            },
            "marker": {
             "line": {
              "color": "#E5ECF6",
              "width": 0.5
             },
             "pattern": {
              "fillmode": "overlay",
              "size": 10,
              "solidity": 0.2
             }
            },
            "type": "bar"
           }
          ],
          "barpolar": [
           {
            "marker": {
             "line": {
              "color": "#E5ECF6",
              "width": 0.5
             },
             "pattern": {
              "fillmode": "overlay",
              "size": 10,
              "solidity": 0.2
             }
            },
            "type": "barpolar"
           }
          ],
          "carpet": [
           {
            "aaxis": {
             "endlinecolor": "#2a3f5f",
             "gridcolor": "white",
             "linecolor": "white",
             "minorgridcolor": "white",
             "startlinecolor": "#2a3f5f"
            },
            "baxis": {
             "endlinecolor": "#2a3f5f",
             "gridcolor": "white",
             "linecolor": "white",
             "minorgridcolor": "white",
             "startlinecolor": "#2a3f5f"
            },
            "type": "carpet"
           }
          ],
          "choropleth": [
           {
            "colorbar": {
             "outlinewidth": 0,
             "ticks": ""
            },
            "type": "choropleth"
           }
          ],
          "contour": [
           {
            "colorbar": {
             "outlinewidth": 0,
             "ticks": ""
            },
            "colorscale": [
             [
              0,
              "#0d0887"
             ],
             [
              0.1111111111111111,
              "#46039f"
             ],
             [
              0.2222222222222222,
              "#7201a8"
             ],
             [
              0.3333333333333333,
              "#9c179e"
             ],
             [
              0.4444444444444444,
              "#bd3786"
             ],
             [
              0.5555555555555556,
              "#d8576b"
             ],
             [
              0.6666666666666666,
              "#ed7953"
             ],
             [
              0.7777777777777778,
              "#fb9f3a"
             ],
             [
              0.8888888888888888,
              "#fdca26"
             ],
             [
              1,
              "#f0f921"
             ]
            ],
            "type": "contour"
           }
          ],
          "contourcarpet": [
           {
            "colorbar": {
             "outlinewidth": 0,
             "ticks": ""
            },
            "type": "contourcarpet"
           }
          ],
          "heatmap": [
           {
            "colorbar": {
             "outlinewidth": 0,
             "ticks": ""
            },
            "colorscale": [
             [
              0,
              "#0d0887"
             ],
             [
              0.1111111111111111,
              "#46039f"
             ],
             [
              0.2222222222222222,
              "#7201a8"
             ],
             [
              0.3333333333333333,
              "#9c179e"
             ],
             [
              0.4444444444444444,
              "#bd3786"
             ],
             [
              0.5555555555555556,
              "#d8576b"
             ],
             [
              0.6666666666666666,
              "#ed7953"
             ],
             [
              0.7777777777777778,
              "#fb9f3a"
             ],
             [
              0.8888888888888888,
              "#fdca26"
             ],
             [
              1,
              "#f0f921"
             ]
            ],
            "type": "heatmap"
           }
          ],
          "histogram": [
           {
            "marker": {
             "pattern": {
              "fillmode": "overlay",
              "size": 10,
              "solidity": 0.2
             }
            },
            "type": "histogram"
           }
          ],
          "histogram2d": [
           {
            "colorbar": {
             "outlinewidth": 0,
             "ticks": ""
            },
            "colorscale": [
             [
              0,
              "#0d0887"
             ],
             [
              0.1111111111111111,
              "#46039f"
             ],
             [
              0.2222222222222222,
              "#7201a8"
             ],
             [
              0.3333333333333333,
              "#9c179e"
             ],
             [
              0.4444444444444444,
              "#bd3786"
             ],
             [
              0.5555555555555556,
              "#d8576b"
             ],
             [
              0.6666666666666666,
              "#ed7953"
             ],
             [
              0.7777777777777778,
              "#fb9f3a"
             ],
             [
              0.8888888888888888,
              "#fdca26"
             ],
             [
              1,
              "#f0f921"
             ]
            ],
            "type": "histogram2d"
           }
          ],
          "histogram2dcontour": [
           {
            "colorbar": {
             "outlinewidth": 0,
             "ticks": ""
            },
            "colorscale": [
             [
              0,
              "#0d0887"
             ],
             [
              0.1111111111111111,
              "#46039f"
             ],
             [
              0.2222222222222222,
              "#7201a8"
             ],
             [
              0.3333333333333333,
              "#9c179e"
             ],
             [
              0.4444444444444444,
              "#bd3786"
             ],
             [
              0.5555555555555556,
              "#d8576b"
             ],
             [
              0.6666666666666666,
              "#ed7953"
             ],
             [
              0.7777777777777778,
              "#fb9f3a"
             ],
             [
              0.8888888888888888,
              "#fdca26"
             ],
             [
              1,
              "#f0f921"
             ]
            ],
            "type": "histogram2dcontour"
           }
          ],
          "mesh3d": [
           {
            "colorbar": {
             "outlinewidth": 0,
             "ticks": ""
            },
            "type": "mesh3d"
           }
          ],
          "parcoords": [
           {
            "line": {
             "colorbar": {
              "outlinewidth": 0,
              "ticks": ""
             }
            },
            "type": "parcoords"
           }
          ],
          "pie": [
           {
            "automargin": true,
            "type": "pie"
           }
          ],
          "scatter": [
           {
            "fillpattern": {
             "fillmode": "overlay",
             "size": 10,
             "solidity": 0.2
            },
            "type": "scatter"
           }
          ],
          "scatter3d": [
           {
            "line": {
             "colorbar": {
              "outlinewidth": 0,
              "ticks": ""
             }
            },
            "marker": {
             "colorbar": {
              "outlinewidth": 0,
              "ticks": ""
             }
            },
            "type": "scatter3d"
           }
          ],
          "scattercarpet": [
           {
            "marker": {
             "colorbar": {
              "outlinewidth": 0,
              "ticks": ""
             }
            },
            "type": "scattercarpet"
           }
          ],
          "scattergeo": [
           {
            "marker": {
             "colorbar": {
              "outlinewidth": 0,
              "ticks": ""
             }
            },
            "type": "scattergeo"
           }
          ],
          "scattergl": [
           {
            "marker": {
             "colorbar": {
              "outlinewidth": 0,
              "ticks": ""
             }
            },
            "type": "scattergl"
           }
          ],
          "scattermap": [
           {
            "marker": {
             "colorbar": {
              "outlinewidth": 0,
              "ticks": ""
             }
            },
            "type": "scattermap"
           }
          ],
          "scattermapbox": [
           {
            "marker": {
             "colorbar": {
              "outlinewidth": 0,
              "ticks": ""
             }
            },
            "type": "scattermapbox"
           }
          ],
          "scatterpolar": [
           {
            "marker": {
             "colorbar": {
              "outlinewidth": 0,
              "ticks": ""
             }
            },
            "type": "scatterpolar"
           }
          ],
          "scatterpolargl": [
           {
            "marker": {
             "colorbar": {
              "outlinewidth": 0,
              "ticks": ""
             }
            },
            "type": "scatterpolargl"
           }
          ],
          "scatterternary": [
           {
            "marker": {
             "colorbar": {
              "outlinewidth": 0,
              "ticks": ""
             }
            },
            "type": "scatterternary"
           }
          ],
          "surface": [
           {
            "colorbar": {
             "outlinewidth": 0,
             "ticks": ""
            },
            "colorscale": [
             [
              0,
              "#0d0887"
             ],
             [
              0.1111111111111111,
              "#46039f"
             ],
             [
              0.2222222222222222,
              "#7201a8"
             ],
             [
              0.3333333333333333,
              "#9c179e"
             ],
             [
              0.4444444444444444,
              "#bd3786"
             ],
             [
              0.5555555555555556,
              "#d8576b"
             ],
             [
              0.6666666666666666,
              "#ed7953"
             ],
             [
              0.7777777777777778,
              "#fb9f3a"
             ],
             [
              0.8888888888888888,
              "#fdca26"
             ],
             [
              1,
              "#f0f921"
             ]
            ],
            "type": "surface"
           }
          ],
          "table": [
           {
            "cells": {
             "fill": {
              "color": "#EBF0F8"
             },
             "line": {
              "color": "white"
             }
            },
            "header": {
             "fill": {
              "color": "#C8D4E3"
             },
             "line": {
              "color": "white"
             }
            },
            "type": "table"
           }
          ]
         },
         "layout": {
          "annotationdefaults": {
           "arrowcolor": "#2a3f5f",
           "arrowhead": 0,
           "arrowwidth": 1
          },
          "autotypenumbers": "strict",
          "coloraxis": {
           "colorbar": {
            "outlinewidth": 0,
            "ticks": ""
           }
          },
          "colorscale": {
           "diverging": [
            [
             0,
             "#8e0152"
            ],
            [
             0.1,
             "#c51b7d"
            ],
            [
             0.2,
             "#de77ae"
            ],
            [
             0.3,
             "#f1b6da"
            ],
            [
             0.4,
             "#fde0ef"
            ],
            [
             0.5,
             "#f7f7f7"
            ],
            [
             0.6,
             "#e6f5d0"
            ],
            [
             0.7,
             "#b8e186"
            ],
            [
             0.8,
             "#7fbc41"
            ],
            [
             0.9,
             "#4d9221"
            ],
            [
             1,
             "#276419"
            ]
           ],
           "sequential": [
            [
             0,
             "#0d0887"
            ],
            [
             0.1111111111111111,
             "#46039f"
            ],
            [
             0.2222222222222222,
             "#7201a8"
            ],
            [
             0.3333333333333333,
             "#9c179e"
            ],
            [
             0.4444444444444444,
             "#bd3786"
            ],
            [
             0.5555555555555556,
             "#d8576b"
            ],
            [
             0.6666666666666666,
             "#ed7953"
            ],
            [
             0.7777777777777778,
             "#fb9f3a"
            ],
            [
             0.8888888888888888,
             "#fdca26"
            ],
            [
             1,
             "#f0f921"
            ]
           ],
           "sequentialminus": [
            [
             0,
             "#0d0887"
            ],
            [
             0.1111111111111111,
             "#46039f"
            ],
            [
             0.2222222222222222,
             "#7201a8"
            ],
            [
             0.3333333333333333,
             "#9c179e"
            ],
            [
             0.4444444444444444,
             "#bd3786"
            ],
            [
             0.5555555555555556,
             "#d8576b"
            ],
            [
             0.6666666666666666,
             "#ed7953"
            ],
            [
             0.7777777777777778,
             "#fb9f3a"
            ],
            [
             0.8888888888888888,
             "#fdca26"
            ],
            [
             1,
             "#f0f921"
            ]
           ]
          },
          "colorway": [
           "#636efa",
           "#EF553B",
           "#00cc96",
           "#ab63fa",
           "#FFA15A",
           "#19d3f3",
           "#FF6692",
           "#B6E880",
           "#FF97FF",
           "#FECB52"
          ],
          "font": {
           "color": "#2a3f5f"
          },
          "geo": {
           "bgcolor": "white",
           "lakecolor": "white",
           "landcolor": "#E5ECF6",
           "showlakes": true,
           "showland": true,
           "subunitcolor": "white"
          },
          "hoverlabel": {
           "align": "left"
          },
          "hovermode": "closest",
          "mapbox": {
           "style": "light"
          },
          "paper_bgcolor": "white",
          "plot_bgcolor": "#E5ECF6",
          "polar": {
           "angularaxis": {
            "gridcolor": "white",
            "linecolor": "white",
            "ticks": ""
           },
           "bgcolor": "#E5ECF6",
           "radialaxis": {
            "gridcolor": "white",
            "linecolor": "white",
            "ticks": ""
           }
          },
          "scene": {
           "xaxis": {
            "backgroundcolor": "#E5ECF6",
            "gridcolor": "white",
            "gridwidth": 2,
            "linecolor": "white",
            "showbackground": true,
            "ticks": "",
            "zerolinecolor": "white"
           },
           "yaxis": {
            "backgroundcolor": "#E5ECF6",
            "gridcolor": "white",
            "gridwidth": 2,
            "linecolor": "white",
            "showbackground": true,
            "ticks": "",
            "zerolinecolor": "white"
           },
           "zaxis": {
            "backgroundcolor": "#E5ECF6",
            "gridcolor": "white",
            "gridwidth": 2,
            "linecolor": "white",
            "showbackground": true,
            "ticks": "",
            "zerolinecolor": "white"
           }
          },
          "shapedefaults": {
           "line": {
            "color": "#2a3f5f"
           }
          },
          "ternary": {
           "aaxis": {
            "gridcolor": "white",
            "linecolor": "white",
            "ticks": ""
           },
           "baxis": {
            "gridcolor": "white",
            "linecolor": "white",
            "ticks": ""
           },
           "bgcolor": "#E5ECF6",
           "caxis": {
            "gridcolor": "white",
            "linecolor": "white",
            "ticks": ""
           }
          },
          "title": {
           "x": 0.05
          },
          "xaxis": {
           "automargin": true,
           "gridcolor": "white",
           "linecolor": "white",
           "ticks": "",
           "title": {
            "standoff": 15
           },
           "zerolinecolor": "white",
           "zerolinewidth": 2
          },
          "yaxis": {
           "automargin": true,
           "gridcolor": "white",
           "linecolor": "white",
           "ticks": "",
           "title": {
            "standoff": 15
           },
           "zerolinecolor": "white",
           "zerolinewidth": 2
          }
         }
        },
        "title": {
         "text": "🦐 Exuviae Pixel Measurement Accuracy Analysis<br>Colored by Relative Error Thresholds"
        },
        "width": 800,
        "xaxis": {
         "gridcolor": "lightgray",
         "gridwidth": 1,
         "range": [
          694.447,
          1774.1
         ],
         "showgrid": true,
         "title": {
          "text": "Length (pixels)"
         }
        },
        "yaxis": {
         "gridcolor": "lightgray",
         "gridwidth": 1,
         "range": [
          694.447,
          1774.1
         ],
         "showgrid": true,
         "title": {
          "text": "Pixels Total Length"
         }
        }
       }
      }
     },
     "metadata": {},
     "output_type": "display_data"
    },
    {
     "name": "stdout",
     "output_type": "stream",
     "text": [
      "\n",
      "✅ Pixel measurement accuracy analysis complete!\n",
      "🎯 Error categorization reveals measurement quality patterns\n",
      "📊 Perfect correlation line shows ideal 1:1 relationship reference\n"
     ]
    }
   ],
   "source": [
    "# 📈 PHASE 4: Pixel Measurement Accuracy Analysis\n",
    "# ===============================================\n",
    "\n",
    "print(\"\\n📈 PHASE 4: Analyzing Pixel Measurement Accuracy...\")\n",
    "print(\"🎯 Creating error-categorized scatter plot for measurement quality assessment...\")\n",
    "print(\"=\" * 80)\n",
    "\n",
    "# Create a scatter plot using Plotly\n",
    "fig = go.Figure()\n",
    "\n",
    "# Define error thresholds and corresponding colors for plotting\n",
    "error_thresholds = [5, 10, 15]\n",
    "colors = ['green', 'yellow', 'orange', 'red']\n",
    "\n",
    "# Iterate over error thresholds to categorize data points by relative error\n",
    "for i in range(len(error_thresholds) + 1):\n",
    "    if i == 0:\n",
    "        # Mask for errors less than or equal to the first threshold\n",
    "        mask = df_exuviae['real_length_rel_diff'] <= error_thresholds[0]\n",
    "        label = f'Error ≤ {error_thresholds[0]}%'\n",
    "    elif i == len(error_thresholds):\n",
    "        # Mask for errors greater than the last threshold\n",
    "        mask = df_exuviae['real_length_rel_diff'] > error_thresholds[-1]\n",
    "        label = f'Error > {error_thresholds[-1]}%'\n",
    "    else:\n",
    "        # Mask for errors between two thresholds\n",
    "        mask = (df_exuviae['real_length_rel_diff'] > error_thresholds[i-1]) & \\\n",
    "               (df_exuviae['real_length_rel_diff'] <= error_thresholds[i])\n",
    "        label = f'{error_thresholds[i-1]}% < Error ≤ {error_thresholds[i]}%'\n",
    "    \n",
    "    # Add a scatter plot trace for each error category\n",
    "    fig.add_trace(go.Scatter(\n",
    "        x=df_exuviae[mask]['Length'],\n",
    "        y=df_exuviae[mask]['pixels_total_length'],\n",
    "        mode='markers',\n",
    "        name=label,\n",
    "        marker=dict(\n",
    "            color=colors[i],\n",
    "            size=10,\n",
    "            opacity=0.6\n",
    "        ),\n",
    "        hovertemplate=(\n",
    "            '<b>Image:</b> %{customdata[0]}<br>' +\n",
    "            '<b>Pixels Total Length:</b> %{y:.1f}<br>' +\n",
    "            '<b>Length:</b> %{x:.1f}<br>' +\n",
    "            '<b>Total Length:</b> %{customdata[1]:.1f}<br>' +\n",
    "            '<b>Lobster Size:</b> %{customdata[2]}<br>' +\n",
    "            '<b>Pixel Rel Diff:</b> %{customdata[3]:.1f}%<br>' +\n",
    "            '<b>Pixel Abs Diff:</b> %{customdata[4]:.1f}<br>' +\n",
    "            '<b>Real Length Abs Diff:</b> %{customdata[5]:.1f}<br>' +\n",
    "            '<b>Real Length Rel Diff:</b> %{customdata[6]:.1f}%<br>'\n",
    "        ),\n",
    "        customdata=list(zip(\n",
    "            df_exuviae[mask]['image_name'], \n",
    "            df_exuviae[mask]['total_length'],\n",
    "            df_exuviae[mask]['lobster_size'],\n",
    "            df_exuviae[mask]['pixel_rel_diff'],\n",
    "            df_exuviae[mask]['pixel_abs_diff'],\n",
    "            df_exuviae[mask]['real_length_abs_diff'],\n",
    "            df_exuviae[mask]['real_length_rel_diff']\n",
    "        ))\n",
    "    ))\n",
    "\n",
    "# Add a diagonal line to represent perfect correlation between Length and Pixels Total Length\n",
    "min_val = min(df_exuviae['Length'].min(), df_exuviae['pixels_total_length'].min())\n",
    "max_val = max(df_exuviae['Length'].max(), df_exuviae['pixels_total_length'].max())\n",
    "fig.add_trace(go.Scatter(\n",
    "    x=[min_val, max_val],\n",
    "    y=[min_val, max_val],\n",
    "    mode='lines',\n",
    "    name='Perfect correlation',\n",
    "    line=dict(color='black', dash='dash', width=1),\n",
    "    opacity=0.5\n",
    "))\n",
    "\n",
    "# Update the layout of the figure\n",
    "fig.update_layout(\n",
    "    title='🦐 Exuviae Pixel Measurement Accuracy Analysis<br>Colored by Relative Error Thresholds',\n",
    "    xaxis_title='Length (pixels)',\n",
    "    yaxis_title='Pixels Total Length',\n",
    "    showlegend=True,\n",
    "    width=800,\n",
    "    height=800,\n",
    "    xaxis=dict(range=[min_val, max_val]),\n",
    "    yaxis=dict(range=[min_val, max_val]),\n",
    "    plot_bgcolor='white'\n",
    ")\n",
    "\n",
    "# Add grid lines to the plot for better readability\n",
    "fig.update_xaxes(showgrid=True, gridwidth=1, gridcolor='lightgray')\n",
    "fig.update_yaxes(showgrid=True, gridwidth=1, gridcolor='lightgray')\n",
    "\n",
    "# Display the plot\n",
    "fig.show()\n",
    "\n",
    "print(f\"\\n✅ Pixel measurement accuracy analysis complete!\")\n",
    "print(f\"🎯 Error categorization reveals measurement quality patterns\")\n",
    "print(f\"📊 Perfect correlation line shows ideal 1:1 relationship reference\")\n"
   ]
  }
 ],
 "metadata": {
  "kernelspec": {
   "display_name": ".venv",
   "language": "python",
   "name": "python3"
  },
  "language_info": {
   "codemirror_mode": {
    "name": "ipython",
    "version": 3
   },
   "file_extension": ".py",
   "mimetype": "text/x-python",
   "name": "python",
   "nbconvert_exporter": "python",
   "pygments_lexer": "ipython3",
   "version": "3.12.7"
  }
 },
 "nbformat": 4,
 "nbformat_minor": 2
}
