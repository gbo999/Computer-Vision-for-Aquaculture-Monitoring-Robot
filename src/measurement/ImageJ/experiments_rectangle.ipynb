{
 "cells": [
  {
   "cell_type": "code",
   "execution_count": 1,
   "metadata": {},
   "outputs": [
    {
     "name": "stdout",
     "output_type": "stream",
     "text": [
      "Saved output image to annot.jpg\n"
     ]
    }
   ],
   "source": [
    "import cv2\n",
    "import pandas as pd\n",
    "\n",
    "# Load the CSV file\n",
    "file_path = \"C:/Users/gbo10/OneDrive/Music/Results.csv\"\n",
    "data = pd.read_csv(file_path)\n",
    "\n",
    "# Process each row in the CSV\n",
    "for index, row in data.iterrows():\n",
    "    # Extract the details from the row\n",
    "    label = row['Label']\n",
    "    bx = int(row['BX'])\n",
    "    by = int(row['BY'])\n",
    "    width = int(row['Width'])\n",
    "    height = int(row['Height'])\n",
    "    length = row['Length']\n",
    "\n",
    "    # Load the image\n",
    "    image_path = \"C:/Users/gbo10/OneDrive/measurement_paper_images/validation/GX010191_15_333.jpg\"  # Adjust the path as needed\n",
    "    image = cv2.imread(image_path)\n",
    "\n",
    "    if image is None:\n",
    "        print(f\"Error loading image: {image_path}\")\n",
    "        continue\n",
    "\n",
    "    # Debugging: Print coordinates\n",
    "\n",
    "    # Draw the diagonal line\n",
    "    start_point = (bx, by+height)\n",
    "    end_point = ( bx+width,by  )\n",
    "    color = (255, 0, 0)  # Blue color in BGR\n",
    "    thickness = 2\n",
    "    image = cv2.line(image, start_point, end_point, color, thickness)\n",
    "\n",
    "    # Draw a large circle at (bx, by)\n",
    "    circle_radius = 10\n",
    "    circle_color = (0, 0, 255)  # Red color in BGR\n",
    "    image = cv2.circle(image, (bx, by), circle_radius, circle_color, -1)\n",
    "\n",
    "    # Draw circles at the corners of the bounding box\n",
    "    corners = [(bx + width, by), (bx, by + height)]\n",
    "    for corner in corners:\n",
    "        image = cv2.circle(image, corner, circle_radius, circle_color, -1)\n",
    "\n",
    "    # Add the bx, by text\n",
    "    text_bx_by = f'({bx}, {by})'\n",
    "    org_bx_by = (bx + 15, by + 15)\n",
    "    font = cv2.FONT_HERSHEY_SIMPLEX\n",
    "    font_scale = 0.6\n",
    "    text_color = (0, 255, 0)  # Green color in BGR\n",
    "    text_thickness = 2\n",
    "    image = cv2.putText(image, text_bx_by, org_bx_by, font, font_scale, text_color, text_thickness, cv2.LINE_AA)\n",
    "\n",
    "    # Add the length text\n",
    "    text_length = f'Length: {length:.2f}'\n",
    "    org_length = (bx+width, by - 10)\n",
    "    image = cv2.putText(image, text_length, org_length, font, font_scale, text_color, text_thickness, cv2.LINE_AA)\n",
    "\n",
    "\n",
    "    # Save or display the image\n",
    "    output_path = f'annot.jpg'  # Adjust the path as needed\n",
    "    cv2.imwrite(output_path, image)\n",
    "    print(f\"Saved output image to {output_path}\")\n",
    "\n",
    "\n",
    "\n",
    "\n"
   ]
  }
 ],
 "metadata": {
  "kernelspec": {
   "display_name": ".venv",
   "language": "python",
   "name": "python3"
  },
  "language_info": {
   "codemirror_mode": {
    "name": "ipython",
    "version": 3
   },
   "file_extension": ".py",
   "mimetype": "text/x-python",
   "name": "python",
   "nbconvert_exporter": "python",
   "pygments_lexer": "ipython3",
   "version": "3.9.7"
  }
 },
 "nbformat": 4,
 "nbformat_minor": 2
}
