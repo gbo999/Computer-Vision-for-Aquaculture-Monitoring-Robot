{
 "cells": [
  {
   "cell_type": "code",
   "execution_count": 10,
   "metadata": {},
   "outputs": [
    {
     "data": {
      "text/plain": [
       "71.60664942115727"
      ]
     },
     "execution_count": 10,
     "metadata": {},
     "output_type": "execute_result"
    }
   ],
   "source": [
    "import pandas as pd\n",
    "import numpy as np\n",
    "\n",
    "# Load the data from the CSV file\n",
    "data= pd.read_csv(\"C:/Users/gbo10/OneDrive/research/thesis and paper/telemetry files/GX010067_HERO11 Black-ACCL (1).csv\")\n",
    "\n",
    "\n",
    "# Convert the 'date' column to datetime format\n",
    "data['date'] = pd.to_datetime(data['date'])\n",
    "\n",
    "# Calculate time intervals in seconds using the 'date' column\n",
    "data['time_intervals'] = data['date'].diff().fillna(pd.Timedelta(seconds=0)).dt.total_seconds()\n",
    "\n",
    "# Display the initial timestamp in the data\n",
    "initial_timestamp = data['date'].min()\n",
    "\n",
    "# Adjust the start and end times based on the initial timestamp\n",
    "start_time = initial_timestamp + pd.Timedelta(seconds=2)\n",
    "end_time = initial_timestamp + pd.Timedelta(seconds=54)\n",
    "\n",
    "# Filter the data within the specified time range\n",
    "filtered_time_data = data[(data['date'] >= start_time) & (data['date'] <= end_time)].copy()\n",
    "\n",
    "# Calculate cumulative speed using every 30 frames\n",
    "frame_rate = 30  # assuming 30 frames per second\n",
    "filtered_time_data['frame_index'] = filtered_time_data.index // frame_rate\n",
    "filtered_time_data = filtered_time_data.groupby('frame_index').agg({\n",
    "    'date': 'first',\n",
    "    'Accelerometer [m/s2]': 'mean',\n",
    "    'time_intervals': 'sum'\n",
    "}).reset_index()\n",
    "\n",
    "# Recalculate the speed within this time range\n",
    "filtered_time_data['total_speed'] = np.cumsum(filtered_time_data['Accelerometer [m/s2]'] * filtered_time_data['time_intervals'])\n",
    "filtered_time_data['total_speed_kmh'] = filtered_time_data['total_speed'] * 3.6\n",
    "\n",
    "# Calculate the average speed in km/h within this time range\n",
    "avg_speed_kmh_filtered_time = filtered_time_data['total_speed_kmh'].mean()\n",
    "\n",
    "avg_speed_kmh_filtered_time\n",
    "\n"
   ]
  },
  {
   "cell_type": "code",
   "execution_count": 194,
   "metadata": {},
   "outputs": [
    {
     "name": "stdout",
     "output_type": "stream",
     "text": [
      "0.9864\n"
     ]
    }
   ],
   "source": [
    "accelration=  0.274\n",
    "\n",
    "\n",
    "\n",
    "\n",
    "\n",
    "hour_acceleration = accelration * 3.6\n",
    "\n",
    "\n",
    "\n",
    "\n",
    "# Calculate the average speed in km/h over the entire time range\n",
    "avg_speed_kmh = hour_acceleration *1 \n",
    "print(avg_speed_kmh)\n",
    "\n"
   ]
  },
  {
   "cell_type": "code",
   "execution_count": 6,
   "metadata": {},
   "outputs": [
    {
     "name": "stdout",
     "output_type": "stream",
     "text": [
      "Video second: 131\n",
      "Luminance value for frame index 3942: 70.06074259069328\n"
     ]
    }
   ],
   "source": [
    "import pandas as pd\n",
    "\n",
    "def process_frame_data( luminance_file_path, frame_index, frame_rate=30):\n",
    "    # Load the CSV files\n",
    "    luminance_data = pd.read_csv(luminance_file_path)\n",
    "\n",
    "    # Calculate the video second from the frame index\n",
    "    video_second = frame_index // frame_rate\n",
    "\n",
    "    # Extract data for the given second from the accelerometer CSV\n",
    "    start_frame = video_second * frame_rate\n",
    "    end_frame = start_frame + frame_rate\n",
    "\n",
    "    # Calculate the average acceleration in m/s^2 for that second\n",
    "\n",
    "    # Extract the luminance value for the given frame index\n",
    "    luminance_value = luminance_data.iloc[frame_index]['Average luminance']\n",
    "\n",
    "    # Print the results\n",
    "    print(f\"Video second: {video_second}\")\n",
    "    print(f\"Luminance value for frame index {frame_index}: {luminance_value}\")\n",
    "\n",
    "# Example usage\n",
    "luminance_file_path = \"C:/Users/gbo10/OneDrive/research/thesis and paper/telemetry files/GX010157_HERO11 Black-YAVG.csv\"\n",
    "frame_index =3942  # Example frame index\n",
    "\n",
    "process_frame_data( luminance_file_path, frame_index)\n"
   ]
  },
  {
   "cell_type": "markdown",
   "metadata": {},
   "source": [
    "# extract GPS speed"
   ]
  },
  {
   "cell_type": "code",
   "execution_count": 14,
   "metadata": {},
   "outputs": [
    {
     "ename": "GPXException",
     "evalue": "Invalid value \"0\", possible: ('none', '2d', '3d', 'dgps', 'pps', '3')",
     "output_type": "error",
     "traceback": [
      "\u001b[1;31m---------------------------------------------------------------------------\u001b[0m",
      "\u001b[1;31mGPXException\u001b[0m                              Traceback (most recent call last)",
      "Cell \u001b[1;32mIn[14], line 64\u001b[0m\n\u001b[0;32m     62\u001b[0m \u001b[38;5;66;03m# Example usage\u001b[39;00m\n\u001b[0;32m     63\u001b[0m file_path \u001b[38;5;241m=\u001b[39m \u001b[38;5;124m\"\u001b[39m\u001b[38;5;124mC:/Users/gbo10/Dropbox/research videos/car-current-/may 2024/07.05.2024/GX010178_1_GPS9.gpx\u001b[39m\u001b[38;5;124m\"\u001b[39m\n\u001b[1;32m---> 64\u001b[0m df \u001b[38;5;241m=\u001b[39m \u001b[43mmain\u001b[49m\u001b[43m(\u001b[49m\u001b[43mfile_path\u001b[49m\u001b[43m)\u001b[49m\n\u001b[0;32m     65\u001b[0m \u001b[38;5;66;03m#group by second\u001b[39;00m\n\u001b[0;32m     66\u001b[0m \u001b[38;5;28mprint\u001b[39m(df)\n",
      "Cell \u001b[1;32mIn[14], line 48\u001b[0m, in \u001b[0;36mmain\u001b[1;34m(file_path)\u001b[0m\n\u001b[0;32m     47\u001b[0m \u001b[38;5;28;01mdef\u001b[39;00m \u001b[38;5;21mmain\u001b[39m(file_path):\n\u001b[1;32m---> 48\u001b[0m     df \u001b[38;5;241m=\u001b[39m \u001b[43mprocess_gpx\u001b[49m\u001b[43m(\u001b[49m\u001b[43mfile_path\u001b[49m\u001b[43m)\u001b[49m\n\u001b[0;32m     49\u001b[0m     \u001b[38;5;66;03m# Fill speed for the first point as NaN\u001b[39;00m\n\u001b[0;32m     50\u001b[0m     df\u001b[38;5;241m.\u001b[39mat[\u001b[38;5;241m0\u001b[39m, \u001b[38;5;124m'\u001b[39m\u001b[38;5;124mspeed_m_s\u001b[39m\u001b[38;5;124m'\u001b[39m] \u001b[38;5;241m=\u001b[39m \u001b[38;5;28;01mNone\u001b[39;00m\n",
      "Cell \u001b[1;32mIn[14], line 40\u001b[0m, in \u001b[0;36mprocess_gpx\u001b[1;34m(file_path)\u001b[0m\n\u001b[0;32m     39\u001b[0m \u001b[38;5;28;01mdef\u001b[39;00m \u001b[38;5;21mprocess_gpx\u001b[39m(file_path):\n\u001b[1;32m---> 40\u001b[0m     gpx \u001b[38;5;241m=\u001b[39m \u001b[43mload_gpx\u001b[49m\u001b[43m(\u001b[49m\u001b[43mfile_path\u001b[49m\u001b[43m)\u001b[49m\n\u001b[0;32m     41\u001b[0m     data \u001b[38;5;241m=\u001b[39m extract_data(gpx)\n\u001b[0;32m     42\u001b[0m     data \u001b[38;5;241m=\u001b[39m calculate_speed(data)\n",
      "Cell \u001b[1;32mIn[14], line 9\u001b[0m, in \u001b[0;36mload_gpx\u001b[1;34m(file_path)\u001b[0m\n\u001b[0;32m      7\u001b[0m \u001b[38;5;28;01mdef\u001b[39;00m \u001b[38;5;21mload_gpx\u001b[39m(file_path):\n\u001b[0;32m      8\u001b[0m     \u001b[38;5;28;01mwith\u001b[39;00m \u001b[38;5;28mopen\u001b[39m(file_path, \u001b[38;5;124m'\u001b[39m\u001b[38;5;124mr\u001b[39m\u001b[38;5;124m'\u001b[39m) \u001b[38;5;28;01mas\u001b[39;00m gpx_file:\n\u001b[1;32m----> 9\u001b[0m         gpx \u001b[38;5;241m=\u001b[39m \u001b[43mgpxpy\u001b[49m\u001b[38;5;241;43m.\u001b[39;49m\u001b[43mparse\u001b[49m\u001b[43m(\u001b[49m\u001b[43mgpx_file\u001b[49m\u001b[43m)\u001b[49m\n\u001b[0;32m     10\u001b[0m     \u001b[38;5;28;01mreturn\u001b[39;00m gpx\n",
      "File \u001b[1;32mc:\\Users\\gbo10\\Videos\\research\\counting_research_algorithms\\.venv\\lib\\site-packages\\gpxpy\\__init__.py:39\u001b[0m, in \u001b[0;36mparse\u001b[1;34m(xml_or_file, version)\u001b[0m\n\u001b[0;32m     35\u001b[0m \u001b[38;5;28;01mfrom\u001b[39;00m \u001b[38;5;21;01m.\u001b[39;00m \u001b[38;5;28;01mimport\u001b[39;00m parser \u001b[38;5;28;01mas\u001b[39;00m mod_parser\n\u001b[0;32m     37\u001b[0m parser \u001b[38;5;241m=\u001b[39m mod_parser\u001b[38;5;241m.\u001b[39mGPXParser(xml_or_file)\n\u001b[1;32m---> 39\u001b[0m \u001b[38;5;28;01mreturn\u001b[39;00m \u001b[43mparser\u001b[49m\u001b[38;5;241;43m.\u001b[39;49m\u001b[43mparse\u001b[49m\u001b[43m(\u001b[49m\u001b[43mversion\u001b[49m\u001b[43m)\u001b[49m\n",
      "File \u001b[1;32mc:\\Users\\gbo10\\Videos\\research\\counting_research_algorithms\\.venv\\lib\\site-packages\\gpxpy\\parser.py:154\u001b[0m, in \u001b[0;36mGPXParser.parse\u001b[1;34m(self, version)\u001b[0m\n\u001b[0;32m    151\u001b[0m \u001b[38;5;28;01mif\u001b[39;00m version \u001b[38;5;129;01mis\u001b[39;00m \u001b[38;5;28;01mNone\u001b[39;00m:\n\u001b[0;32m    152\u001b[0m     version \u001b[38;5;241m=\u001b[39m root\u001b[38;5;241m.\u001b[39mget(\u001b[38;5;124m'\u001b[39m\u001b[38;5;124mversion\u001b[39m\u001b[38;5;124m'\u001b[39m)\n\u001b[1;32m--> 154\u001b[0m \u001b[43mmod_gpxfield\u001b[49m\u001b[38;5;241;43m.\u001b[39;49m\u001b[43mgpx_fields_from_xml\u001b[49m\u001b[43m(\u001b[49m\u001b[38;5;28;43mself\u001b[39;49m\u001b[38;5;241;43m.\u001b[39;49m\u001b[43mgpx\u001b[49m\u001b[43m,\u001b[49m\u001b[43m \u001b[49m\u001b[43mroot\u001b[49m\u001b[43m,\u001b[49m\u001b[43m \u001b[49m\u001b[43mversion\u001b[49m\u001b[43m)\u001b[49m\n\u001b[0;32m    155\u001b[0m \u001b[38;5;28;01mreturn\u001b[39;00m \u001b[38;5;28mself\u001b[39m\u001b[38;5;241m.\u001b[39mgpx\n",
      "File \u001b[1;32mc:\\Users\\gbo10\\Videos\\research\\counting_research_algorithms\\.venv\\lib\\site-packages\\gpxpy\\gpxfield.py:584\u001b[0m, in \u001b[0;36mgpx_fields_from_xml\u001b[1;34m(class_or_instance, node, version)\u001b[0m\n\u001b[0;32m    582\u001b[0m \u001b[38;5;28;01melse\u001b[39;00m:\n\u001b[0;32m    583\u001b[0m     \u001b[38;5;28;01mif\u001b[39;00m current_node \u001b[38;5;129;01mis\u001b[39;00m \u001b[38;5;129;01mnot\u001b[39;00m \u001b[38;5;28;01mNone\u001b[39;00m:\n\u001b[1;32m--> 584\u001b[0m         value \u001b[38;5;241m=\u001b[39m \u001b[43mgpx_field\u001b[49m\u001b[38;5;241;43m.\u001b[39;49m\u001b[43mfrom_xml\u001b[49m\u001b[43m(\u001b[49m\u001b[43mcurrent_node\u001b[49m\u001b[43m,\u001b[49m\u001b[43m \u001b[49m\u001b[43mversion\u001b[49m\u001b[43m)\u001b[49m\n\u001b[0;32m    585\u001b[0m         \u001b[38;5;28msetattr\u001b[39m(result, gpx_field\u001b[38;5;241m.\u001b[39mname, value)\n\u001b[0;32m    586\u001b[0m     \u001b[38;5;28;01melif\u001b[39;00m gpx_field\u001b[38;5;241m.\u001b[39mattribute:\n",
      "File \u001b[1;32mc:\\Users\\gbo10\\Videos\\research\\counting_research_algorithms\\.venv\\lib\\site-packages\\gpxpy\\gpxfield.py:238\u001b[0m, in \u001b[0;36mGPXComplexField.from_xml\u001b[1;34m(self, node, version)\u001b[0m\n\u001b[0;32m    236\u001b[0m     \u001b[38;5;28;01mfor\u001b[39;00m child \u001b[38;5;129;01min\u001b[39;00m node:\n\u001b[0;32m    237\u001b[0m         \u001b[38;5;28;01mif\u001b[39;00m child\u001b[38;5;241m.\u001b[39mtag \u001b[38;5;241m==\u001b[39m \u001b[38;5;28mself\u001b[39m\u001b[38;5;241m.\u001b[39mtag:\n\u001b[1;32m--> 238\u001b[0m             result\u001b[38;5;241m.\u001b[39mappend(\u001b[43mgpx_fields_from_xml\u001b[49m\u001b[43m(\u001b[49m\u001b[38;5;28;43mself\u001b[39;49m\u001b[38;5;241;43m.\u001b[39;49m\u001b[43mclasss\u001b[49m\u001b[43m,\u001b[49m\u001b[43m \u001b[49m\u001b[43mchild\u001b[49m\u001b[43m,\u001b[49m\n\u001b[0;32m    239\u001b[0m \u001b[43m                                              \u001b[49m\u001b[43mversion\u001b[49m\u001b[43m)\u001b[49m)\n\u001b[0;32m    240\u001b[0m     \u001b[38;5;28;01mreturn\u001b[39;00m result\n\u001b[0;32m    241\u001b[0m \u001b[38;5;28;01melse\u001b[39;00m:\n",
      "File \u001b[1;32mc:\\Users\\gbo10\\Videos\\research\\counting_research_algorithms\\.venv\\lib\\site-packages\\gpxpy\\gpxfield.py:584\u001b[0m, in \u001b[0;36mgpx_fields_from_xml\u001b[1;34m(class_or_instance, node, version)\u001b[0m\n\u001b[0;32m    582\u001b[0m \u001b[38;5;28;01melse\u001b[39;00m:\n\u001b[0;32m    583\u001b[0m     \u001b[38;5;28;01mif\u001b[39;00m current_node \u001b[38;5;129;01mis\u001b[39;00m \u001b[38;5;129;01mnot\u001b[39;00m \u001b[38;5;28;01mNone\u001b[39;00m:\n\u001b[1;32m--> 584\u001b[0m         value \u001b[38;5;241m=\u001b[39m \u001b[43mgpx_field\u001b[49m\u001b[38;5;241;43m.\u001b[39;49m\u001b[43mfrom_xml\u001b[49m\u001b[43m(\u001b[49m\u001b[43mcurrent_node\u001b[49m\u001b[43m,\u001b[49m\u001b[43m \u001b[49m\u001b[43mversion\u001b[49m\u001b[43m)\u001b[49m\n\u001b[0;32m    585\u001b[0m         \u001b[38;5;28msetattr\u001b[39m(result, gpx_field\u001b[38;5;241m.\u001b[39mname, value)\n\u001b[0;32m    586\u001b[0m     \u001b[38;5;28;01melif\u001b[39;00m gpx_field\u001b[38;5;241m.\u001b[39mattribute:\n",
      "File \u001b[1;32mc:\\Users\\gbo10\\Videos\\research\\counting_research_algorithms\\.venv\\lib\\site-packages\\gpxpy\\gpxfield.py:238\u001b[0m, in \u001b[0;36mGPXComplexField.from_xml\u001b[1;34m(self, node, version)\u001b[0m\n\u001b[0;32m    236\u001b[0m     \u001b[38;5;28;01mfor\u001b[39;00m child \u001b[38;5;129;01min\u001b[39;00m node:\n\u001b[0;32m    237\u001b[0m         \u001b[38;5;28;01mif\u001b[39;00m child\u001b[38;5;241m.\u001b[39mtag \u001b[38;5;241m==\u001b[39m \u001b[38;5;28mself\u001b[39m\u001b[38;5;241m.\u001b[39mtag:\n\u001b[1;32m--> 238\u001b[0m             result\u001b[38;5;241m.\u001b[39mappend(\u001b[43mgpx_fields_from_xml\u001b[49m\u001b[43m(\u001b[49m\u001b[38;5;28;43mself\u001b[39;49m\u001b[38;5;241;43m.\u001b[39;49m\u001b[43mclasss\u001b[49m\u001b[43m,\u001b[49m\u001b[43m \u001b[49m\u001b[43mchild\u001b[49m\u001b[43m,\u001b[49m\n\u001b[0;32m    239\u001b[0m \u001b[43m                                              \u001b[49m\u001b[43mversion\u001b[49m\u001b[43m)\u001b[49m)\n\u001b[0;32m    240\u001b[0m     \u001b[38;5;28;01mreturn\u001b[39;00m result\n\u001b[0;32m    241\u001b[0m \u001b[38;5;28;01melse\u001b[39;00m:\n",
      "File \u001b[1;32mc:\\Users\\gbo10\\Videos\\research\\counting_research_algorithms\\.venv\\lib\\site-packages\\gpxpy\\gpxfield.py:584\u001b[0m, in \u001b[0;36mgpx_fields_from_xml\u001b[1;34m(class_or_instance, node, version)\u001b[0m\n\u001b[0;32m    582\u001b[0m \u001b[38;5;28;01melse\u001b[39;00m:\n\u001b[0;32m    583\u001b[0m     \u001b[38;5;28;01mif\u001b[39;00m current_node \u001b[38;5;129;01mis\u001b[39;00m \u001b[38;5;129;01mnot\u001b[39;00m \u001b[38;5;28;01mNone\u001b[39;00m:\n\u001b[1;32m--> 584\u001b[0m         value \u001b[38;5;241m=\u001b[39m \u001b[43mgpx_field\u001b[49m\u001b[38;5;241;43m.\u001b[39;49m\u001b[43mfrom_xml\u001b[49m\u001b[43m(\u001b[49m\u001b[43mcurrent_node\u001b[49m\u001b[43m,\u001b[49m\u001b[43m \u001b[49m\u001b[43mversion\u001b[49m\u001b[43m)\u001b[49m\n\u001b[0;32m    585\u001b[0m         \u001b[38;5;28msetattr\u001b[39m(result, gpx_field\u001b[38;5;241m.\u001b[39mname, value)\n\u001b[0;32m    586\u001b[0m     \u001b[38;5;28;01melif\u001b[39;00m gpx_field\u001b[38;5;241m.\u001b[39mattribute:\n",
      "File \u001b[1;32mc:\\Users\\gbo10\\Videos\\research\\counting_research_algorithms\\.venv\\lib\\site-packages\\gpxpy\\gpxfield.py:238\u001b[0m, in \u001b[0;36mGPXComplexField.from_xml\u001b[1;34m(self, node, version)\u001b[0m\n\u001b[0;32m    236\u001b[0m     \u001b[38;5;28;01mfor\u001b[39;00m child \u001b[38;5;129;01min\u001b[39;00m node:\n\u001b[0;32m    237\u001b[0m         \u001b[38;5;28;01mif\u001b[39;00m child\u001b[38;5;241m.\u001b[39mtag \u001b[38;5;241m==\u001b[39m \u001b[38;5;28mself\u001b[39m\u001b[38;5;241m.\u001b[39mtag:\n\u001b[1;32m--> 238\u001b[0m             result\u001b[38;5;241m.\u001b[39mappend(\u001b[43mgpx_fields_from_xml\u001b[49m\u001b[43m(\u001b[49m\u001b[38;5;28;43mself\u001b[39;49m\u001b[38;5;241;43m.\u001b[39;49m\u001b[43mclasss\u001b[49m\u001b[43m,\u001b[49m\u001b[43m \u001b[49m\u001b[43mchild\u001b[49m\u001b[43m,\u001b[49m\n\u001b[0;32m    239\u001b[0m \u001b[43m                                              \u001b[49m\u001b[43mversion\u001b[49m\u001b[43m)\u001b[49m)\n\u001b[0;32m    240\u001b[0m     \u001b[38;5;28;01mreturn\u001b[39;00m result\n\u001b[0;32m    241\u001b[0m \u001b[38;5;28;01melse\u001b[39;00m:\n",
      "File \u001b[1;32mc:\\Users\\gbo10\\Videos\\research\\counting_research_algorithms\\.venv\\lib\\site-packages\\gpxpy\\gpxfield.py:584\u001b[0m, in \u001b[0;36mgpx_fields_from_xml\u001b[1;34m(class_or_instance, node, version)\u001b[0m\n\u001b[0;32m    582\u001b[0m \u001b[38;5;28;01melse\u001b[39;00m:\n\u001b[0;32m    583\u001b[0m     \u001b[38;5;28;01mif\u001b[39;00m current_node \u001b[38;5;129;01mis\u001b[39;00m \u001b[38;5;129;01mnot\u001b[39;00m \u001b[38;5;28;01mNone\u001b[39;00m:\n\u001b[1;32m--> 584\u001b[0m         value \u001b[38;5;241m=\u001b[39m \u001b[43mgpx_field\u001b[49m\u001b[38;5;241;43m.\u001b[39;49m\u001b[43mfrom_xml\u001b[49m\u001b[43m(\u001b[49m\u001b[43mcurrent_node\u001b[49m\u001b[43m,\u001b[49m\u001b[43m \u001b[49m\u001b[43mversion\u001b[49m\u001b[43m)\u001b[49m\n\u001b[0;32m    585\u001b[0m         \u001b[38;5;28msetattr\u001b[39m(result, gpx_field\u001b[38;5;241m.\u001b[39mname, value)\n\u001b[0;32m    586\u001b[0m     \u001b[38;5;28;01melif\u001b[39;00m gpx_field\u001b[38;5;241m.\u001b[39mattribute:\n",
      "File \u001b[1;32mc:\\Users\\gbo10\\Videos\\research\\counting_research_algorithms\\.venv\\lib\\site-packages\\gpxpy\\gpxfield.py:206\u001b[0m, in \u001b[0;36mGPXField.from_xml\u001b[1;34m(self, node, version)\u001b[0m\n\u001b[0;32m    204\u001b[0m     \u001b[38;5;28;01mif\u001b[39;00m \u001b[38;5;129;01mnot\u001b[39;00m (result \u001b[38;5;129;01min\u001b[39;00m \u001b[38;5;28mself\u001b[39m\u001b[38;5;241m.\u001b[39mpossible):\n\u001b[0;32m    205\u001b[0m         \u001b[38;5;28;01mfrom\u001b[39;00m \u001b[38;5;21;01m.\u001b[39;00m \u001b[38;5;28;01mimport\u001b[39;00m gpx \u001b[38;5;28;01mas\u001b[39;00m mod_gpx\n\u001b[1;32m--> 206\u001b[0m         \u001b[38;5;28;01mraise\u001b[39;00m mod_gpx\u001b[38;5;241m.\u001b[39mGPXException(\u001b[38;5;124mf\u001b[39m\u001b[38;5;124m'\u001b[39m\u001b[38;5;124mInvalid value \u001b[39m\u001b[38;5;124m\"\u001b[39m\u001b[38;5;132;01m{\u001b[39;00mresult\u001b[38;5;132;01m}\u001b[39;00m\u001b[38;5;124m\"\u001b[39m\u001b[38;5;124m, possible: \u001b[39m\u001b[38;5;132;01m{\u001b[39;00m\u001b[38;5;28mself\u001b[39m\u001b[38;5;241m.\u001b[39mpossible\u001b[38;5;132;01m}\u001b[39;00m\u001b[38;5;124m'\u001b[39m)\n\u001b[0;32m    208\u001b[0m \u001b[38;5;28;01mreturn\u001b[39;00m result\n",
      "\u001b[1;31mGPXException\u001b[0m: Invalid value \"0\", possible: ('none', '2d', '3d', 'dgps', 'pps', '3')"
     ]
    }
   ],
   "source": [
    "import gpxpy\n",
    "import pandas as pd\n",
    "from geopy.distance import geodesic\n",
    "import datetime\n",
    "\n",
    "# Load GPX file\n",
    "def load_gpx(file_path):\n",
    "    with open(file_path, 'r') as gpx_file:\n",
    "        gpx = gpxpy.parse(gpx_file)\n",
    "    return gpx\n",
    "\n",
    "# Extract data from GPX file\n",
    "def extract_data(gpx):\n",
    "    data = []\n",
    "    for track in gpx.tracks:\n",
    "        for segment in track.segments:\n",
    "            for point in segment.points:\n",
    "                data.append({\n",
    "                    'time': point.time,\n",
    "                    'latitude': point.latitude,\n",
    "                    'longitude': point.longitude,\n",
    "                    'elevation': point.elevation,\n",
    "                })\n",
    "    return data\n",
    "\n",
    "# Calculate speed between points\n",
    "def calculate_speed(data):\n",
    "    for i in range(1, len(data)):\n",
    "        p1 = (data[i-1]['latitude'], data[i-1]['longitude'])\n",
    "        p2 = (data[i]['latitude'], data[i]['longitude'])\n",
    "        distance = geodesic(p1, p2).meters\n",
    "        time_diff = (data[i]['time'] - data[i-1]['time']).total_seconds()\n",
    "        speed_m_s = distance / time_diff if time_diff != 0 else 0\n",
    "        data[i]['speed_m_s'] = speed_m_s\n",
    "        data[i]['speed_kmh'] = speed_m_s * 3.6 \n",
    "    return data\n",
    "\n",
    "# Process GPX file and extract speeds\n",
    "def process_gpx(file_path):\n",
    "    gpx = load_gpx(file_path)\n",
    "    data = extract_data(gpx)\n",
    "    data = calculate_speed(data)\n",
    "    df = pd.DataFrame(data)\n",
    "    return df\n",
    "\n",
    "# Main function to run the process\n",
    "def main(file_path):\n",
    "    df = process_gpx(file_path)\n",
    "    # Fill speed for the first point as NaN\n",
    "    df.at[0, 'speed_m_s'] = None\n",
    "    df.at[0, 'speed_kmh'] = None\n",
    "    \n",
    "    # Calculate elapsed time in seconds from the start\n",
    "    start_time = df['time'].iloc[0]\n",
    "    df['elapsed_seconds'] = (df['time'] - start_time).dt.total_seconds().astype(int)\n",
    "    \n",
    "    # Group by the elapsed seconds\n",
    "    df_grouped = df.groupby('elapsed_seconds').mean()\n",
    "    \n",
    "    return df_grouped\n",
    "\n",
    "# Example usage\n",
    "file_path = \"C:/Users/gbo10/Dropbox/research videos/car-current-/may 2024/07.05.2024/GX010178_1_GPS9.gpx\"\n",
    "df = main(file_path)\n",
    "#group by second\n",
    "print(df)\n"
   ]
  },
  {
   "cell_type": "code",
   "execution_count": 2,
   "metadata": {},
   "outputs": [
    {
     "name": "stdout",
     "output_type": "stream",
     "text": [
      "        speed_m_s  speed_kmh\n",
      "second                      \n",
      "0        0.867064   3.121431\n",
      "1        0.880537   3.169934\n",
      "2        1.098050   3.952980\n",
      "3        0.805619   2.900229\n",
      "4        1.029268   3.705364\n",
      "5        1.011854   3.642675\n",
      "6        0.819931   2.951753\n",
      "7        0.917629   3.303466\n",
      "8        1.685521   6.067875\n",
      "9        0.826585   2.975705\n",
      "10       0.716636   2.579889\n",
      "11       0.810535   2.917925\n",
      "12       0.964231   3.471231\n",
      "13       0.765383   2.755379\n",
      "14       1.055110   3.798396\n",
      "15       1.345151   4.842543\n",
      "16       1.231880   4.434768\n",
      "17       1.033776   3.721592\n",
      "18       1.608144   5.789319\n",
      "19       1.486671   5.352015\n",
      "20       1.567889   5.644400\n",
      "21       1.344619   4.840627\n",
      "22       1.129824   4.067365\n",
      "23       0.805885   2.901185\n",
      "24       0.933869   3.361930\n",
      "25       0.929062   3.344624\n",
      "26       0.868696   3.127305\n",
      "27       1.165164   4.194591\n",
      "28       1.214668   4.372804\n",
      "29       0.894697   3.220910\n",
      "30       0.891784   3.210423\n",
      "31       0.837918   3.016504\n",
      "32       0.665658   2.396367\n",
      "33       0.547563   1.971226\n",
      "34       0.681784   2.454422\n",
      "35       0.750771   2.702776\n",
      "36       1.042865   3.754315\n",
      "37       0.888460   3.198455\n",
      "38       0.905116   3.258418\n",
      "39       1.231681   4.434051\n",
      "40       1.333200   4.799519\n",
      "41       1.667413   6.002686\n",
      "42       1.413617   5.089022\n",
      "43       1.539435   5.541966\n",
      "44       1.492167   5.371800\n",
      "45       1.221623   4.397844\n",
      "46       0.786435   2.831165\n",
      "47       1.087040   3.913343\n",
      "48       1.156964   4.165070\n",
      "49       1.279360   4.605697\n",
      "50       1.330368   4.789325\n",
      "51       1.342695   4.833704\n",
      "52       1.428700   5.143320\n",
      "53       1.278376   4.602155\n",
      "54       1.458991   5.252366\n",
      "55       0.753887   2.713992\n",
      "56       1.520473   5.473702\n",
      "57       1.135635   4.088286\n",
      "58       1.318893   4.748016\n",
      "59       1.051189   3.784279\n"
     ]
    }
   ],
   "source": [
    "\n",
    "\n",
    "\n"
   ]
  }
 ],
 "metadata": {
  "kernelspec": {
   "display_name": ".venv",
   "language": "python",
   "name": "python3"
  },
  "language_info": {
   "codemirror_mode": {
    "name": "ipython",
    "version": 3
   },
   "file_extension": ".py",
   "mimetype": "text/x-python",
   "name": "python",
   "nbconvert_exporter": "python",
   "pygments_lexer": "ipython3",
   "version": "3.9.7"
  }
 },
 "nbformat": 4,
 "nbformat_minor": 2
}
