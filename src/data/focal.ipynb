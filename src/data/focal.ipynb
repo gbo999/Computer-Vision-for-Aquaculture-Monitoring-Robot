{
 "cells": [
  {
   "cell_type": "code",
   "execution_count": 11,
   "metadata": {},
   "outputs": [
    {
     "name": "stdout",
     "output_type": "stream",
     "text": [
      "The real-life width of the object is 1.466374041231765 cm.\n"
     ]
    }
   ],
   "source": [
    "import math\n",
    "\n",
    "def calculate_real_width(fov, distance_to_object, width_in_pixels, image_width_pixels):\n",
    "    \"\"\"\n",
    "    Calculate the real-life width of an object using the field of view (FOV).\n",
    "\n",
    "    Parameters:\n",
    "    fov (float): Field of view of the camera in degrees.\n",
    "    distance_to_object (float): Distance from the camera to the object in millimeters (mm).\n",
    "    width_in_pixels (int): Width of the object in pixels on the image sensor.\n",
    "    image_width_pixels (int): Total width of the image in pixels.\n",
    "\n",
    "    Returns:\n",
    "    float: Real-life width of the object in centimeters (cm).\n",
    "    \"\"\"\n",
    "    # Convert FOV from degrees to radians\n",
    "    fov_rad = math.radians(fov)\n",
    "\n",
    "    # Calculate the width of the image sensor plane in millimeters\n",
    "    sensor_width_mm = 2 * distance_to_object * math.tan(fov_rad / 2)\n",
    "\n",
    "    # Calculate the width of the object in the image sensor plane in millimeters\n",
    "    width_in_sensor_mm = (width_in_pixels / image_width_pixels) * sensor_width_mm\n",
    "\n",
    "    # Convert the width from millimeters to centimeters\n",
    "    real_width_cm = width_in_sensor_mm / 10\n",
    "\n",
    "    return real_width_cm\n",
    "\n",
    "# Example usage\n",
    "fov = 63  # Field of view in degrees (example value)\n",
    "distance_to_object = 650  # Distance to object in millimeters\n",
    "width_in_pixels = 55  # Width of the object in pixels\n",
    "image_width_pixels = 2988  # Total width of the image in pixels (example value)\n",
    "\n",
    "# Calculate the real-life width\n",
    "real_width = calculate_real_width(fov, distance_to_object, width_in_pixels, image_width_pixels)\n",
    "print(f\"The real-life width of the object is {real_width} cm.\")\n",
    "\n"
   ]
  },
  {
   "cell_type": "code",
   "execution_count": 15,
   "metadata": {},
   "outputs": [
    {
     "name": "stdout",
     "output_type": "stream",
     "text": [
      "The real size of the object is approximately 18.870 meters.\n"
     ]
    }
   ],
   "source": [
    "import math\n",
    "\n",
    "def calculate_real_size(distance, fov, sensor_size, image_width_pixels, object_size_pixels):\n",
    "    # Convert FOV from degrees to radians\n",
    "    fov_rad = math.radians(fov)\n",
    "    \n",
    "    # Calculate the Real Field of View (RFOV)\n",
    "    rfov = 2 * (distance * math.tan(fov_rad / 2))\n",
    "    \n",
    "    # Calculate the Image Scale (meters per pixel)\n",
    "    image_scale = rfov / image_width_pixels\n",
    "    \n",
    "    # Calculate the Real Size of the Object\n",
    "    real_size = object_size_pixels * image_scale\n",
    "    \n",
    "    return real_size\n",
    "\n",
    "# Example parameters\n",
    "distance = 650  # in meters\n",
    "fov = 109  # in degrees\n",
    "sensor_size = 36  # in mm (not used in this calculation directly)\n",
    "image_width_pixels = 5312  # in pixels\n",
    "object_size_pixels = 55  # in pixels\n",
    "\n",
    "# Calculate the real size of the object\n",
    "real_size = calculate_real_size(distance, fov, sensor_size, image_width_pixels, object_size_pixels)\n",
    "\n",
    "print(f\"The real size of the object is approximately {real_size:.3f} meters.\")"
   ]
  },
  {
   "cell_type": "code",
   "execution_count": 44,
   "metadata": {},
   "outputs": [
    {
     "name": "stdout",
     "output_type": "stream",
     "text": [
      "The calculated focal length is approximately 23.30 mm\n"
     ]
    }
   ],
   "source": [
    "def calculate_focal_length(object_size_pixels, pixel_size_mm, object_distance_mm, object_size_mm):\n",
    "    \"\"\"\n",
    "    Calculate the focal length of a camera.\n",
    "\n",
    "    Parameters:\n",
    "    object_size_pixels (int): Size of the object in pixels.\n",
    "    pixel_size_mm (float): Size of one pixel in millimeters (mm).\n",
    "    object_distance_mm (float): Distance from the camera to the object in millimeters (mm).\n",
    "    object_size_mm (float): Real-life size of the object in millimeters (mm).\n",
    "\n",
    "    Returns:\n",
    "    float: Focal length in millimeters (mm).\n",
    "    \"\"\"\n",
    "    # Calculate the width of the object on the sensor in millimeters\n",
    "    sensor_width_mm = object_size_pixels * pixel_size_mm\n",
    "\n",
    "    # Calculate the focal length using the provided formula\n",
    "    focal_length_mm = (sensor_width_mm * object_distance_mm) / object_size_mm\n",
    "\n",
    "    return focal_length_mm\n",
    "\n",
    "# Example values\n",
    "object_size_pixels =50\n",
    "pixel_size_mm = 0.00716844\n",
    "object_distance_mm = 650\n",
    "object_size_mm = 10\n",
    "\n",
    "# Calculate focal length\n",
    "focal_length = calculate_focal_length(object_size_pixels, pixel_size_mm, object_distance_mm, object_size_mm)\n",
    "\n",
    "# Output the result\n",
    "print(f\"The calculated focal length is approximately {focal_length:.2f} mm\")\n",
    "\n"
   ]
  },
  {
   "cell_type": "code",
   "execution_count": 32,
   "metadata": {},
   "outputs": [
    {
     "name": "stdout",
     "output_type": "stream",
     "text": [
      "The focal length in the camera matrix is approximately 3571.21 pixels\n"
     ]
    }
   ],
   "source": [
    "def calculate_focal_length_pixels(focal_length_mm, pixel_size_mm):\n",
    "    \"\"\"\n",
    "    Calculate the focal length in pixels for the camera matrix.\n",
    "\n",
    "    Parameters:\n",
    "    focal_length_mm (float): Focal length in millimeters (mm).\n",
    "    pixel_size_mm (float): Size of one pixel in millimeters (mm).\n",
    "\n",
    "    Returns:\n",
    "    float: Focal length in pixels.\n",
    "    \"\"\"\n",
    "    focal_length_pixels = focal_length_mm / pixel_size_mm\n",
    "    return focal_length_pixels\n",
    "\n",
    "# Example values\n",
    "focal_length_mm = 25.6# from previous calculation\n",
    "pixel_size_mm = 0.00716844\n",
    "\n",
    "# Calculate focal length in pixels\n",
    "focal_length_pixels = calculate_focal_length_pixels(focal_length_mm, pixel_size_mm)\n",
    "\n",
    "# Output the result\n",
    "print(f\"The focal length in the camera matrix is approximately {focal_length_pixels:.2f} pixels\")\n"
   ]
  },
  {
   "cell_type": "code",
   "execution_count": 36,
   "metadata": {},
   "outputs": [
    {
     "name": "stdout",
     "output_type": "stream",
     "text": [
      "Focal length: 1894.51 pixels\n"
     ]
    }
   ],
   "source": [
    "import math\n",
    "\n",
    "# Given values\n",
    "horizontal_fov =109  # degrees\n",
    "image_width = 5312  # pixels\n",
    "\n",
    "# Calculate half values\n",
    "half_fov = horizontal_fov / 2\n",
    "half_image_width = image_width / 2\n",
    "\n",
    "# Convert angle to radians\n",
    "half_fov_rad = math.radians(half_fov)\n",
    "\n",
    "# Calculate focal length in pixels\n",
    "focal_length_pixels = half_image_width / math.tan(half_fov_rad)\n",
    "\n",
    "print(f\"Focal length: {focal_length_pixels:.2f} pixels\")\n",
    "\n",
    "# If pixel size is known (example: 5.6 μm), uncomment the following lines\n",
    "# pixel_size_um = 5.6\n",
    "# focal_length_mm = (focal_length_pixels * pixel_size_um) / 1000\n",
    "# print(f\"Focal length: {focal_length_mm:.2f} mm\")"
   ]
  },
  {
   "cell_type": "code",
   "execution_count": 48,
   "metadata": {},
   "outputs": [
    {
     "data": {
      "text/plain": [
       "23.85656832"
      ]
     },
     "execution_count": 48,
     "metadata": {},
     "output_type": "execute_result"
    }
   ],
   "source": [
    "3328 *0.00716844"
   ]
  },
  {
   "cell_type": "code",
   "execution_count": 38,
   "metadata": {},
   "outputs": [
    {
     "name": "stdout",
     "output_type": "stream",
     "text": [
      "The calculated focal length is: 6.82 mm\n"
     ]
    }
   ],
   "source": [
    "def calculate_focal_length(sensor_height_mm, image_height_pixels, object_height_pixels, real_object_height_mm, distance_to_object_mm):\n",
    "    # Step 1: Calculate Object Height on Sensor in mm\n",
    "    object_height_on_sensor_mm = (object_height_pixels / image_height_pixels) * sensor_height_mm\n",
    "    \n",
    "    # Step 2: Calculate Focal Length using the formula\n",
    "    focal_length_mm = (object_height_on_sensor_mm * distance_to_object_mm) / real_object_height_mm\n",
    "    \n",
    "    return focal_length_mm\n",
    "\n",
    "# Example input values based on a 1/1.9\" sensor\n",
    "sensor_height_mm = 5.7  # Sensor height in millimeters for a 1/1.9\" sensor\n",
    "image_height_pixels = 2988  # Image height in pixels\n",
    "object_height_pixels = 55  # Object height in pixels in the image\n",
    "real_object_height_mm = 10  # Real object height in millimeters (e.g., 2 meters)\n",
    "distance_to_object_mm = 650  # Distance to the object in millimeters (e.g., 10 meters)\n",
    "\n",
    "# Calculate the focal length\n",
    "focal_length_mm = calculate_focal_length(sensor_height_mm, image_height_pixels, object_height_pixels, real_object_height_mm, distance_to_object_mm)\n",
    "\n",
    "# Print the focal length\n",
    "print(f\"The calculated focal length is: {focal_length_mm:.2f} mm\")\n",
    "\n"
   ]
  },
  {
   "cell_type": "code",
   "execution_count": 45,
   "metadata": {},
   "outputs": [
    {
     "name": "stdout",
     "output_type": "stream",
     "text": [
      "The calculated real object height is: 10.52 mm\n"
     ]
    }
   ],
   "source": [
    "def calculate_real_object_height(focal_length_mm, sensor_height_mm, image_height_pixels, object_height_pixels, distance_to_object_mm):\n",
    "    # Step 1: Calculate Object Height on Sensor in mm\n",
    "    object_height_on_sensor_mm = (object_height_pixels / image_height_pixels) * sensor_height_mm\n",
    "    \n",
    "    # Step 2: Calculate Real Object Height using the formula\n",
    "    real_object_height_mm = (object_height_on_sensor_mm * distance_to_object_mm) / focal_length_mm\n",
    "    \n",
    "    return real_object_height_mm\n",
    "\n",
    "# Example input values\n",
    "focal_length_mm = 6.82  # Focal length in millimeters (calculated earlier)\n",
    "sensor_height_mm = 5.7  # Sensor height in millimeters for a 1/1.9\" sensor\n",
    "image_height_pixels = 2988  # Image height in pixels\n",
    "object_height_pixels = 94  # Object height in pixels in the image\n",
    "distance_to_object_mm = 400  # Distance to the object in millimeters\n",
    "\n",
    "# Calculate the real object height\n",
    "real_object_height_mm = calculate_real_object_height(focal_length_mm, sensor_height_mm, image_height_pixels, object_height_pixels, distance_to_object_mm)\n",
    "\n",
    "# Print the real object height\n",
    "print(f\"The calculated real object height is: {real_object_height_mm:.2f} mm\")\n"
   ]
  },
  {
   "cell_type": "code",
   "execution_count": 53,
   "metadata": {},
   "outputs": [
    {
     "name": "stdout",
     "output_type": "stream",
     "text": [
      "The calculated real object size is approximately 10.71 mm\n"
     ]
    }
   ],
   "source": [
    "def calculate_real_object_size(focal_length_pixels, object_size_pixels, distance_to_object_mm):\n",
    "    \"\"\"\n",
    "    Calculate the real-world size of an object using the focal length in pixels.\n",
    "\n",
    "    Parameters:\n",
    "    focal_length_pixels (float): Focal length in pixels.\n",
    "    object_size_pixels (int): Size of the object in pixels in the image.\n",
    "    distance_to_object_mm (float): Distance from the camera to the object in millimeters.\n",
    "\n",
    "    Returns:\n",
    "    float: Real-world size of the object in millimeters.\n",
    "    \"\"\"\n",
    "    # Calculate the real object size using the formula\n",
    "    real_object_size_mm = (object_size_pixels * distance_to_object_mm) / focal_length_pixels\n",
    "    \n",
    "    return real_object_size_mm\n",
    "\n",
    "# Example values\n",
    "focal_length_pixels = 3034  # Focal length in pixels\n",
    "object_size_pixels = 50 # Object size in pixels in the image\n",
    "distance_to_object_mm = 650  # Distance to the object in millimeters\n",
    "\n",
    "# Calculate the real object size\n",
    "real_object_size_mm = calculate_real_object_size(focal_length_pixels, object_size_pixels, distance_to_object_mm)\n",
    "\n",
    "# Output the result\n",
    "print(f\"The calculated real object size is approximately {real_object_size_mm:.2f} mm\")\n"
   ]
  },
  {
   "cell_type": "code",
   "execution_count": 54,
   "metadata": {},
   "outputs": [
    {
     "data": {
      "text/plain": [
       "2.266840045990474"
      ]
     },
     "execution_count": 54,
     "metadata": {},
     "output_type": "execute_result"
    }
   ],
   "source": [
    "import math\n",
    "\n",
    "# Given values\n",
    "sensor_diagonal = 8.35  # in mm\n",
    "FoV_diagonal = 123  # diagonal field of view in degrees\n",
    "\n",
    "# Convert FoV from degrees to radians\n",
    "FoV_diagonal_rad = math.radians(FoV_diagonal)\n",
    "\n",
    "# Calculate the effective focal length\n",
    "effective_focal_length = sensor_diagonal / (2 * math.tan(FoV_diagonal_rad / 2))\n",
    "effective_focal_length\n"
   ]
  }
 ],
 "metadata": {
  "kernelspec": {
   "display_name": ".venv",
   "language": "python",
   "name": "python3"
  },
  "language_info": {
   "codemirror_mode": {
    "name": "ipython",
    "version": 3
   },
   "file_extension": ".py",
   "mimetype": "text/x-python",
   "name": "python",
   "nbconvert_exporter": "python",
   "pygments_lexer": "ipython3",
   "version": "3.9.7"
  }
 },
 "nbformat": 4,
 "nbformat_minor": 2
}
