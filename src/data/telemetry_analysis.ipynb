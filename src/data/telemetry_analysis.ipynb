{
 "cells": [
  {
   "cell_type": "code",
   "execution_count": 10,
   "metadata": {},
   "outputs": [
    {
     "data": {
      "text/plain": [
       "71.60664942115727"
      ]
     },
     "execution_count": 10,
     "metadata": {},
     "output_type": "execute_result"
    }
   ],
   "source": [
    "import pandas as pd\n",
    "import numpy as np\n",
    "\n",
    "# Load the data from the CSV file\n",
    "data= pd.read_csv(\"C:/Users/gbo10/OneDrive/research/thesis and paper/telemetry files/GX010067_HERO11 Black-ACCL (1).csv\")\n",
    "\n",
    "\n",
    "# Convert the 'date' column to datetime format\n",
    "data['date'] = pd.to_datetime(data['date'])\n",
    "\n",
    "# Calculate time intervals in seconds using the 'date' column\n",
    "data['time_intervals'] = data['date'].diff().fillna(pd.Timedelta(seconds=0)).dt.total_seconds()\n",
    "\n",
    "# Display the initial timestamp in the data\n",
    "initial_timestamp = data['date'].min()\n",
    "\n",
    "# Adjust the start and end times based on the initial timestamp\n",
    "start_time = initial_timestamp + pd.Timedelta(seconds=2)\n",
    "end_time = initial_timestamp + pd.Timedelta(seconds=54)\n",
    "\n",
    "# Filter the data within the specified time range\n",
    "filtered_time_data = data[(data['date'] >= start_time) & (data['date'] <= end_time)].copy()\n",
    "\n",
    "# Calculate cumulative speed using every 30 frames\n",
    "frame_rate = 30  # assuming 30 frames per second\n",
    "filtered_time_data['frame_index'] = filtered_time_data.index // frame_rate\n",
    "filtered_time_data = filtered_time_data.groupby('frame_index').agg({\n",
    "    'date': 'first',\n",
    "    'Accelerometer [m/s2]': 'mean',\n",
    "    'time_intervals': 'sum'\n",
    "}).reset_index()\n",
    "\n",
    "# Recalculate the speed within this time range\n",
    "filtered_time_data['total_speed'] = np.cumsum(filtered_time_data['Accelerometer [m/s2]'] * filtered_time_data['time_intervals'])\n",
    "filtered_time_data['total_speed_kmh'] = filtered_time_data['total_speed'] * 3.6\n",
    "\n",
    "# Calculate the average speed in km/h within this time range\n",
    "avg_speed_kmh_filtered_time = filtered_time_data['total_speed_kmh'].mean()\n",
    "\n",
    "avg_speed_kmh_filtered_time\n",
    "\n"
   ]
  },
  {
   "cell_type": "code",
   "execution_count": 27,
   "metadata": {},
   "outputs": [
    {
     "name": "stdout",
     "output_type": "stream",
     "text": [
      "2.8080000000000003\n"
     ]
    }
   ],
   "source": [
    "accelration=0.78\n",
    "\n",
    "\n",
    "\n",
    "\n",
    "\n",
    "\n",
    "hour_acceleration = accelration * 3.6\n",
    "\n",
    "\n",
    "\n",
    "\n",
    "# Calculate the average speed in km/h over the entire time range\n",
    "avg_speed_kmh = hour_acceleration *1 \n",
    "print(avg_speed_kmh)\n",
    "\n"
   ]
  },
  {
   "cell_type": "code",
   "execution_count": 26,
   "metadata": {},
   "outputs": [
    {
     "name": "stdout",
     "output_type": "stream",
     "text": [
      "Video second: 6\n",
      "Average acceleration (m/s^2) for second 6: 0.7816089985154733\n",
      "Luminance value for frame index 191: 66.60664335664347\n"
     ]
    }
   ],
   "source": [
    "import pandas as pd\n",
    "\n",
    "def process_frame_data(accelerometer_file_path, luminance_file_path, frame_index, frame_rate=30):\n",
    "    # Load the CSV files\n",
    "    accelerometer_data = pd.read_csv(accelerometer_file_path)\n",
    "    luminance_data = pd.read_csv(luminance_file_path)\n",
    "\n",
    "    # Calculate the video second from the frame index\n",
    "    video_second = frame_index // frame_rate\n",
    "\n",
    "    # Extract data for the given second from the accelerometer CSV\n",
    "    start_frame = video_second * frame_rate\n",
    "    end_frame = start_frame + frame_rate\n",
    "    accel_data_second = accelerometer_data.iloc[start_frame:end_frame]\n",
    "\n",
    "    # Calculate the average acceleration in m/s^2 for that second\n",
    "    avg_acceleration = accel_data_second['Accelerometer [m/s2]'].abs().mean()\n",
    "\n",
    "    # Extract the luminance value for the given frame index\n",
    "    luminance_value = luminance_data.iloc[frame_index]['Average luminance']\n",
    "\n",
    "    # Print the results\n",
    "    print(f\"Video second: {video_second}\")\n",
    "    print(f\"Average acceleration (m/s^2) for second {video_second}: {avg_acceleration}\")\n",
    "    print(f\"Luminance value for frame index {frame_index}: {luminance_value}\")\n",
    "\n",
    "# Example usage\n",
    "accelerometer_file_path = \"C:/Users/gbo10/OneDrive/research/thesis and paper/telemetry files/GX010069_HERO11 Black-ACCL.csv\"\n",
    "luminance_file_path = \"C:/Users/gbo10/OneDrive/research/thesis and paper/telemetry files/GX010069_HERO11 Black-YAVG.csv\"\n",
    "frame_index = 191  # Example frame index\n",
    "\n",
    "process_frame_data(accelerometer_file_path, luminance_file_path, frame_index)\n"
   ]
  }
 ],
 "metadata": {
  "kernelspec": {
   "display_name": ".venv",
   "language": "python",
   "name": "python3"
  },
  "language_info": {
   "codemirror_mode": {
    "name": "ipython",
    "version": 3
   },
   "file_extension": ".py",
   "mimetype": "text/x-python",
   "name": "python",
   "nbconvert_exporter": "python",
   "pygments_lexer": "ipython3",
   "version": "3.9.7"
  }
 },
 "nbformat": 4,
 "nbformat_minor": 2
}
