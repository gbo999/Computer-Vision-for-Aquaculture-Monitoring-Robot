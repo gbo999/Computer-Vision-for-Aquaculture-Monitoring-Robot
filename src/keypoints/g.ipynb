{
 "cells": [
  {
   "cell_type": "code",
   "execution_count": 4,
   "metadata": {},
   "outputs": [],
   "source": [
    "import torch\n",
    "\n",
    "# Path to the saved model file\n",
    "model_path = \"C:/Users/gbo10/Videos/research/counting_research_algorithms/src/keypoints/best (5).pt\"\n",
    "\n",
    "# Load the saved model\n",
    "model = torch.load(model_path,map_location=torch.device('cpu'))"
   ]
  },
  {
   "cell_type": "code",
   "execution_count": 5,
   "metadata": {},
   "outputs": [
    {
     "name": "stdout",
     "output_type": "stream",
     "text": [
      "Geometry config:\n",
      "{'edges': [{'dst': 'b0aa7233-66f7-40aa-ac31-27d9ae792f78', 'src': 'acc32ecc-2b4c-4233-a149-dd800577b257', 'label': ''}], 'nodes': {'acc32ecc-2b4c-4233-a149-dd800577b257': {'label': 'eyes', 'color': [73, 170, 223], 'loc': [0, 0]}, 'b0aa7233-66f7-40aa-ac31-27d9ae792f78': {'label': 'carapace', 'color': [73, 170, 223], 'loc': [43, 62]}}}\n"
     ]
    }
   ],
   "source": [
    "\n",
    "print(\"Geometry config:\")\n",
    "print(model[\"geometry_config\"])"
   ]
  },
  {
   "cell_type": "code",
   "execution_count": 2,
   "metadata": {},
   "outputs": [
    {
     "name": "stdout",
     "output_type": "stream",
     "text": [
      "kpt_shape: [2, 3]\n",
      "flip_idx: [0, 1]\n"
     ]
    },
    {
     "name": "stderr",
     "output_type": "stream",
     "text": [
      "Annotations C:\\Users\\gbo10\\Videos\\research\\counting_research_algorithms\\src\\keypoints\\dataset 2024-05-27 12-14-08\\annotations\\instances.json: 100%|██████████| 5/5 [00:00<00:00, 999.45it/s]\n"
     ]
    }
   ],
   "source": [
    "from general_json2yolo import *\n",
    "\n",
    "convert_coco_json('C:/Users/gbo10/Videos/research/counting_research_algorithms/src/keypoints/dataset 2024-05-27 12-14-08/annotations/',use_keypoints=True)\n"
   ]
  },
  {
   "cell_type": "code",
   "execution_count": 1,
   "metadata": {},
   "outputs": [
    {
     "name": "stdout",
     "output_type": "stream",
     "text": [
      "Parsing and creating directories..."
     ]
    },
    {
     "name": "stderr",
     "output_type": "stream",
     "text": [
      "Traceback (most recent call last):\n",
      "  File \"c:\\Users\\gbo10\\Videos\\research\\counting_research_algorithms\\src\\keypoints\\p.py\", line 166, in <module>\n",
      "    main(ROOT_DIR, YOLO_ANNO_TXT_SAVE_PATH, COCO_JSON_FILE)\n",
      "  File \"c:\\Users\\gbo10\\Videos\\research\\counting_research_algorithms\\src\\keypoints\\p.py\", line 86, in main\n",
      "    with open(os.path.join(root_dir, \"classes.txt\"), \"w\") as f:\n",
      "FileNotFoundError: [Errno 2] No such file or directory: 'keypoints/classes.txt'\n"
     ]
    },
    {
     "name": "stdout",
     "output_type": "stream",
     "text": [
      "\n",
      "keypoints/ dataset 2024-05-27 12-14-08/annotations/instances.json keypoints//labels/train/\n"
     ]
    }
   ],
   "source": [
    "!python p.py"
   ]
  }
 ],
 "metadata": {
  "kernelspec": {
   "display_name": ".venv",
   "language": "python",
   "name": "python3"
  },
  "language_info": {
   "codemirror_mode": {
    "name": "ipython",
    "version": 3
   },
   "file_extension": ".py",
   "mimetype": "text/x-python",
   "name": "python",
   "nbconvert_exporter": "python",
   "pygments_lexer": "ipython3",
   "version": "3.9.7"
  }
 },
 "nbformat": 4,
 "nbformat_minor": 2
}
