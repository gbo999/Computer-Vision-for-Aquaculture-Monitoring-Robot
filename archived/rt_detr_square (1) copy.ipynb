{
  "cells": [
    {
      "cell_type": "code",
      "execution_count": null,
      "metadata": {},
      "outputs": [],
      "source": [
        "!unzip /content/seperate.zip -d seperate/"
      ]
    },
    {
      "cell_type": "code",
      "execution_count": null,
      "metadata": {
        "id": "21pK62mxFH6H"
      },
      "outputs": [],
      "source": [
        "!pip install ultralytics\n"
      ]
    },
    {
      "cell_type": "code",
      "execution_count": null,
      "metadata": {
        "id": "pj5SYi_yFH6J"
      },
      "outputs": [],
      "source": [
        "from ultralytics import YOLO\n",
        "\n",
        "# Load a COCO-pretrained RT-DETR-l model\n",
        "model = YOLO('yolov8m-seg.pt')\n",
        "\n",
        "\n",
        "\n",
        "\n"
      ]
    },
    {
      "cell_type": "markdown",
      "metadata": {
        "id": "iOsk1XDEaYRo"
      },
      "source": [
        "## train notice yaml addresses ##"
      ]
    },
    {
      "cell_type": "code",
      "execution_count": null,
      "metadata": {
        "id": "cxGXiR4CFH6J"
      },
      "outputs": [],
      "source": [
        "model.train(data=\"/content/square-pond-1/data.yaml\", epochs=300, imgsz=640, seed=42,batch=16)\n"
      ]
    },
    {
      "cell_type": "markdown",
      "metadata": {
        "id": "8JE7sSSSaYRp"
      },
      "source": [
        "## should be seperation between dark and natural- also in script ##"
      ]
    },
    {
      "cell_type": "markdown",
      "metadata": {
        "id": "O9jCmtQMaYRq"
      },
      "source": [
        "## should be here changes in retr script ##"
      ]
    },
    {
      "cell_type": "code",
      "execution_count": null,
      "metadata": {
        "id": "B4jdGlcAaYRq"
      },
      "outputs": [],
      "source": [
        "model = YOLO(\"/content/runs/detect/train/weights/best.pt\")\n",
        "\n",
        "source = '/content/square-pond-1/test/images'\n",
        "\n",
        "model.predict(source, save=True, imgsz=320, conf=0.4,save_txt=True,save_conf=True)"
      ]
    },
    {
      "cell_type": "markdown",
      "metadata": {
        "id": "XMwv0XlgaYRq"
      },
      "source": [
        "## wand finish ##"
      ]
    },
    {
      "cell_type": "markdown",
      "metadata": {
        "id": "p7p5Vo2AaYRr"
      },
      "source": [
        "## finish here ##"
      ]
    },
    {
      "cell_type": "markdown",
      "metadata": {
        "id": "kGysizZoT2Lu"
      },
      "source": []
    }
  ],
  "metadata": {
    "accelerator": "GPU",
    "colab": {
      "gpuType": "T4",
      "provenance": []
    },
    "kernelspec": {
      "display_name": "Python 3",
      "name": "python3"
    },
    "language_info": {
      "codemirror_mode": {
        "name": "ipython",
        "version": 3
      },
      "file_extension": ".py",
      "mimetype": "text/x-python",
      "name": "python",
      "nbconvert_exporter": "python",
      "pygments_lexer": "ipython3",
      "version": "3.9.7"
    },
    "orig_nbformat": 4
  },
  "nbformat": 4,
  "nbformat_minor": 0
}
