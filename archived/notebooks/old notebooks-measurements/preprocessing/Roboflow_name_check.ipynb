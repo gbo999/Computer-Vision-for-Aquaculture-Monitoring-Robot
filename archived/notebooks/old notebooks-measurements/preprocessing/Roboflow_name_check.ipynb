{
  "cells": [
    {
      "cell_type": "markdown",
      "metadata": {},
      "source": [
        "\n",
        "\n",
        "->\n",
        "\n",
        "# Roboflow Filename Checker\n",
        "\n",
        "This notebook helps you check which image files from your local directory are missing from your Roboflow dataset.\n",
        "\n",
        "## Purpose\n",
        "- Scan local image folders (car, left, right camera angles)\n",
        "- Extract filename identifiers in the format `GX010152_36_378`\n",
        "- Generate Roboflow search queries to check file existence\n",
        "- Output queries in manageable batches for UI search\n",
        "\n",
        "## Usage\n",
        "1. Update the `base_path` variable to point to your local image directory\n",
        "2. Run all cells to generate search queries\n",
        "3. Copy the generated queries and paste them into Roboflow's search interface\n",
        "4. Check which files are missing from your dataset\n"
      ]
    },
    {
      "cell_type": "markdown",
      "metadata": {
        "vscode": {
          "languageId": "raw"
        }
      },
      "source": [
        "## Step 1: Collect Local Files\n",
        "\n",
        "This cell scans your local directory structure to find all image files in the specified folders (car, left, right camera angles).\n",
        "\n",
        "**What it does:**\n",
        "- Sets the base path to your local image directory\n",
        "- Defines subfolder names for different camera positions\n",
        "- Walks through each folder recursively to collect all filenames\n",
        "- Prints the total count of files found\n",
        "\n",
        "**Note:** Update the `base_path` variable to match your local directory structure.\n"
      ]
    },
    {
      "cell_type": "code",
      "execution_count": 9,
      "metadata": {},
      "outputs": [
        {
          "name": "stdout",
          "output_type": "stream",
          "text": [
            "Found 0 files locally.\n"
          ]
        }
      ],
      "source": [
        "import os\n",
        "\n",
        "\n",
        "base_path = r'C:\\Users\\gbo10\\OneDrive\\measurement_paper_images\\images used for imageJ\\check\\stabilized\\shai\\measurements/1\\carapace'\n",
        "# Define the paths to the folders\n",
        "\n",
        "\n",
        "folders = [\n",
        "\n",
        "f'{base_path}/car',\n",
        "f'{base_path}/left',\n",
        "f'{base_path}/right'\n",
        "\n",
        "]\n",
        "\n",
        "# Collect all file names\n",
        "local_files = []\n",
        "for folder in folders:\n",
        "    for root, dirs, files in os.walk(folder):\n",
        "        for file in files:\n",
        "            local_files.append(file)\n",
        "\n",
        "print(f\"Found {len(local_files)} files locally.\")\n"
      ]
    },
    {
      "cell_type": "markdown",
      "metadata": {
        "vscode": {
          "languageId": "raw"
        }
      },
      "source": [
        "## Step 2: Extract File Identifiers\n",
        "\n",
        "This cell processes the collected filenames to extract the unique identifiers that Roboflow uses.\n",
        "\n",
        "**What it does:**\n",
        "- Takes filenames like `GX010152_36_378-jpg_gamma_jpg.rf.d49b41f3c5a08c7aa8fd8a1779b49804.jpg`\n",
        "- Extracts the core identifier: `GX010152_36_378`\n",
        "- Uses string splitting on underscores to get the 2nd, 3rd, and 4th parts\n",
        "- Creates a clean list of identifiers for searching\n",
        "\n",
        "**Output:** A list of processed filename identifiers ready for Roboflow queries.\n"
      ]
    },
    {
      "cell_type": "code",
      "execution_count": 10,
      "metadata": {},
      "outputs": [
        {
          "name": "stdout",
          "output_type": "stream",
          "text": [
            "[]\n"
          ]
        }
      ],
      "source": [
        "# Assuming local_files contains the list of filenames\n",
        "local_files_processed = [\n",
        "    f\"{file.split('_')[1]}_{file.split('_')[2]}_{file.split('_')[3].split('.')[0]}\"\n",
        "    for file in local_files\n",
        "]\n",
        "\n",
        "# Print the result to verify\n",
        "print(local_files_processed)\n"
      ]
    },
    {
      "cell_type": "markdown",
      "metadata": {
        "vscode": {
          "languageId": "raw"
        }
      },
      "source": [
        "## Step 3: Generate Single Search Query\n",
        "\n",
        "This cell creates one large search query containing all filenames joined with \"or\" operators.\n",
        "\n",
        "**What it does:**\n",
        "- Joins all processed identifiers with \" or \" separator\n",
        "- Creates a single long query string like: `filename:GX010152_36_378 or filename:GX010155_18_219 or ...`\n",
        "- Prints the complete query for copying\n",
        "\n",
        "**Usage:** This query might be too long for some UI interfaces, so consider using the batched version below instead.\n"
      ]
    },
    {
      "cell_type": "code",
      "execution_count": 11,
      "metadata": {},
      "outputs": [
        {
          "name": "stdout",
          "output_type": "stream",
          "text": [
            "\n"
          ]
        }
      ],
      "source": [
        "#split by underscore and take the second part and and third part and fourth part\n",
        "\n",
        "\n",
        "# Construct the search query\n",
        "search_query = \" or \".join([f\"filename:{filename}\" for filename in local_files_processed])\n",
        "\n",
        "# Print the query to use in the UI\n",
        "print(search_query)\n"
      ]
    },
    {
      "cell_type": "markdown",
      "metadata": {
        "vscode": {
          "languageId": "raw"
        }
      },
      "source": [
        "## Step 4: Generate Batched Search Queries\n",
        "\n",
        "This cell splits the identifiers into smaller batches and creates multiple search queries that are easier to handle in the Roboflow UI.\n",
        "\n",
        "**What it does:**\n",
        "- Divides the identifier list into chunks of 5 (configurable via `batch_size`)\n",
        "- Creates separate queries for each batch using \" OR \" separator\n",
        "- Prints each batch query on a separate line\n",
        "- Makes it easier to copy/paste manageable chunks into Roboflow\n",
        "\n",
        "**Recommended:** Use these batched queries instead of the single large query above for better UI compatibility.\n"
      ]
    },
    {
      "cell_type": "code",
      "execution_count": 12,
      "metadata": {},
      "outputs": [],
      "source": [
        "\n",
        "\n",
        "# Define the batch size\n",
        "batch_size = 5  # Adjust this number based on what works in your UI\n",
        "\n",
        "# Split the filenames into batches\n",
        "for i in range(0, len(local_files_processed), batch_size):\n",
        "    batch = local_files_processed[i:i+batch_size]\n",
        "    search_query = \" OR \".join([f\"filename:{filename}\" for filename in batch])\n",
        "    print(f'{search_query}')\n",
        "    # Here you would input the search_query into your UI\n",
        "    # Perform the search in the Roboflow UI\n"
      ]
    }
  ],
  "metadata": {
    "kernelspec": {
      "display_name": ".venv",
      "language": "python",
      "name": "python3"
    },
    "language_info": {
      "codemirror_mode": {
        "name": "ipython",
        "version": 3
      },
      "file_extension": ".py",
      "mimetype": "text/x-python",
      "name": "python",
      "nbconvert_exporter": "python",
      "pygments_lexer": "ipython3",
      "version": "3.9.6"
    }
  },
  "nbformat": 4,
  "nbformat_minor": 2
}
