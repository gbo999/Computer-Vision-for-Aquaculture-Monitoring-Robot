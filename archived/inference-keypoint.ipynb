{
 "cells": [
  {
   "cell_type": "code",
   "execution_count": null,
   "metadata": {},
   "outputs": [],
   "source": [
    "!pip install wandb\n",
    "!pip install ultralytics"
   ]
  },
  {
   "cell_type": "code",
   "execution_count": null,
   "metadata": {},
   "outputs": [],
   "source": [
    "import wandb\n",
    "run = wandb.init()\n",
    "artifact = run.use_artifact('prawns/keypoints/yolov8-l-pose-31-12_pose.pt:v19', type='model')\n",
    "artifact_dir = artifact.download()"
   ]
  },
  {
   "cell_type": "code",
   "execution_count": null,
   "metadata": {},
   "outputs": [],
   "source": [
    "from ultralytics import YOLO\n",
    "\n",
    "\n",
    "model = YOLO(\"\")\n",
    "\n",
    "source = ''\n",
    "\n",
    "model.predict(source, save=True, imgsz=640, conf=0.4,save_txt=True,save_conf=True,stream=True)"
   ]
  },
  {
   "cell_type": "code",
   "execution_count": null,
   "metadata": {},
   "outputs": [],
   "source": [
    "import zipfile\n",
    "import os\n",
    "\n",
    "def zip_directory(folder_path, zip_path):\n",
    "    with zipfile.ZipFile(zip_path, 'w', zipfile.ZIP_DEFLATED) as zipf:\n",
    "        for root, _, files in os.walk(folder_path):\n",
    "            for file in files:\n",
    "                file_path = os.path.join(root, file)\n",
    "                zipf.write(file_path, os.path.relpath(file_path, os.path.join(folder_path, '..')))\n",
    "\n",
    "# Specify the folder to zip and the output zip file name\n",
    "folder_path = '/content/runs/pose'\n",
    "zip_path = '/content/output_filename.zip'\n",
    "\n",
    "# Call the function to zip the directory\n",
    "zip_directory(folder_path, zip_path)\n",
    "\n",
    "print(f'Folder {folder_path} has been zipped as {zip_path}')\n"
   ]
  }
 ],
 "metadata": {
  "language_info": {
   "name": "python"
  }
 },
 "nbformat": 4,
 "nbformat_minor": 2
}
