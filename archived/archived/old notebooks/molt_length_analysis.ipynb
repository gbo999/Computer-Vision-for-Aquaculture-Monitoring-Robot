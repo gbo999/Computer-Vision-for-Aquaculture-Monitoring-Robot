{
 "cells": [
  {
   "cell_type": "code",
   "execution_count": 2,
   "metadata": {},
   "outputs": [],
   "source": [
    "import pandas as pd\n",
    "\n",
    "import pandas as pd\n",
    "import numpy as np\n",
    "import matplotlib.pyplot as plt\n",
    "import seaborn as sns\n",
    "import os\n",
    "\n",
    "df=pd.read_csv(f'/Users/gilbenor/Documents/code projects/msc/counting_research_algorithms/fifty_one/measurements/data/length_analysis copy.csv')\n",
    "\n",
    "\n",
    "def drop_measurements_outside_range(df, min_val_big=170, max_val_big=220, min_val_small=120, max_val_small=170):\n",
    "    \"\"\"\n",
    "    Drop rows where measurements fall outside the specified range.\n",
    "    Only considers non-null values.\n",
    "    \"\"\"\n",
    "    # Create masks for big and small measurements within range\n",
    "    big_mask = (df['big_total_length'].between(min_val_big, max_val_big)) | (df['big_total_length'].isna())\n",
    "    small_mask = (df['small_total_length'].between(min_val_small, max_val_small)) | (df['small_total_length'].isna())\n",
    "    \n",
    "    # Keep rows where both measurements are valid or null\n",
    "    return df[big_mask & small_mask]\n",
    "\n",
    "# Drop measurements outside reasonable range (100-250mm)\n",
    "df = drop_measurements_outside_range(df)\n",
    "\n",
    "\n",
    "#split data by pond type\n",
    "df['pond_type']=df['image_name'].str.split('_').str[1]\n",
    "\n",
    "mapping_pond_type = {\n",
    "    'GX010192': 'square',\n",
    "    'GX010193': 'square', \n",
    "    'GX010194': 'square',\n",
    "    'GX010191': 'circle',\n",
    "    \n",
    "}\n",
    "\n",
    "df['pond_type'] = df['pond_type'].map(mapping_pond_type)\n",
    "\n",
    "\n",
    "df['pond_type'].groupby(df['pond_type']).count()\n",
    "\n",
    "\n",
    "#take random 35 from circle pond\n",
    "circle_pond = df[df['pond_type'] == 'circle']\n",
    "circle_pond = circle_pond.sample(n=35)\n",
    "\n",
    "#take random 35 from square pond\n",
    "square_pond = df[df['pond_type'] == 'square']\n",
    "square_pond = square_pond.sample(n=15)\n",
    "\n",
    "\n",
    "\n",
    "\n"
   ]
  },
  {
   "cell_type": "code",
   "execution_count": 3,
   "metadata": {},
   "outputs": [
    {
     "data": {
      "text/plain": [
       "50"
      ]
     },
     "execution_count": 3,
     "metadata": {},
     "output_type": "execute_result"
    }
   ],
   "source": [
    "combined_pond = pd.concat([circle_pond, square_pond])\n",
    "\n",
    "len(combined_pond)\n",
    "\n",
    "\n",
    "\n"
   ]
  },
  {
   "cell_type": "code",
   "execution_count": null,
   "metadata": {},
   "outputs": [],
   "source": []
  },
  {
   "cell_type": "code",
   "execution_count": 18,
   "metadata": {},
   "outputs": [
    {
     "name": "stderr",
     "output_type": "stream",
     "text": [
      "50it [00:00, 1241.09it/s]\n"
     ]
    }
   ],
   "source": [
    "#copy images to new folder\n",
    "import shutil\n",
    "\n",
    "import tqdm\n",
    "\n",
    "os.makedirs('images_new', exist_ok=True)\n",
    "for index, row in tqdm.tqdm(combined_pond.iterrows()):\n",
    "    src_path = f'/Users/gilbenor/Documents/code projects/msc/counting_research_algorithms/runs/pose/predict57/viz_real/viz_{row[\"image_name\"]}'\n",
    "    dst_path = f'//Users/gilbenor/Library/CloudStorage/OneDrive-post.bgu.ac.il/thesisi/thesis document/images to watch/{row[\"image_name\"]}'\n",
    "    shutil.copy(src_path, dst_path)\n"
   ]
  },
  {
   "cell_type": "code",
   "execution_count": 17,
   "metadata": {},
   "outputs": [],
   "source": [
    "combined_pond.to_csv('combined_pond.csv', index=False)"
   ]
  },
  {
   "cell_type": "code",
   "execution_count": 6,
   "metadata": {},
   "outputs": [
    {
     "name": "stdout",
     "output_type": "stream",
     "text": [
      "1.334245101538266\n"
     ]
    }
   ],
   "source": [
    "a = -0.000001978124999\n",
    "b = 0.000000103223477\n",
    "c = -0.000008581249990\n",
    "d = -0.000154833692090\n",
    "e = 1.389193029374634\n",
    "\n",
    "temp=28\n",
    "wavelength=532\n",
    "\n",
    "ior = a*temp**2 + b*wavelength**2 + c * temp + d * wavelength + e\n",
    "\n",
    "print( ior)\n"
   ]
  }
 ],
 "metadata": {
  "kernelspec": {
   "display_name": ".venv",
   "language": "python",
   "name": "python3"
  },
  "language_info": {
   "codemirror_mode": {
    "name": "ipython",
    "version": 3
   },
   "file_extension": ".py",
   "mimetype": "text/x-python",
   "name": "python",
   "nbconvert_exporter": "python",
   "pygments_lexer": "ipython3",
   "version": "3.9.6"
  }
 },
 "nbformat": 4,
 "nbformat_minor": 2
}
