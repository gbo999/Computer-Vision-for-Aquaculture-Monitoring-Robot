{
 "cells": [
  {
   "cell_type": "code",
   "execution_count": null,
   "metadata": {},
   "outputs": [],
   "source": [
    "import os\n",
    "from pathlib import Path\n",
    "import shutil\n",
    "\n",
    "def count_detections(label_file):\n",
    "    with open(label_file, 'r') as file:\n",
    "        lines = file.readlines()\n",
    "        return len(lines)\n",
    "\n",
    "def list_files(folder, extension):\n",
    "    # List all files in the folder with the given extension\n",
    "    return [f for f in folder.iterdir() if f.is_file() and f.suffix == extension]\n",
    "\n",
    "def copy_files(files, source_folder, destination_folder):\n",
    "    # Ensure the destination folder exists\n",
    "    destination_folder.mkdir(parents=True, exist_ok=True)\n",
    "    for file in files:\n",
    "        source = source_folder / file.name\n",
    "        destination = destination_folder / file.name\n",
    "        shutil.copy(source, destination)\n",
    "        print(f\"Copied {source} to {destination}\")\n",
    "\n",
    "# Define the paths to your folders\n",
    "images_folder = Path(r'C:\\path\\to\\your\\images_folder')\n",
    "labels_folder = Path(r'C:\\path\\to\\your\\labels_folder')\n",
    "new_images_folder = Path(r'C:\\path\\to\\your\\new_images_folder')\n",
    "new_labels_folder = Path(r'C:\\path\\to\\your\\new_labels_folder')\n",
    "\n",
    "# List all label files\n",
    "label_files = list_files(labels_folder, '.txt')\n",
    "\n",
    "# Identify images with at least 4 detections\n",
    "valid_images = []\n",
    "valid_labels = []\n",
    "\n",
    "for label_file in label_files:\n",
    "    detections_count = count_detections(label_file)\n",
    "    if detections_count >= 4:\n",
    "        # Get the corresponding image file name\n",
    "        image_file = images_folder / (label_file.stem + '.jpg')\n",
    "        if image_file.exists():\n",
    "            valid_images.append(image_file)\n",
    "            valid_labels.append(label_file)\n",
    "\n",
    "# Copy the valid images and label files to the new folders\n",
    "copy_files(valid_images, images_folder, new_images_folder)\n",
    "copy_files(valid_labels, labels_folder, new_labels_folder)\n",
    "\n",
    "print(\"Extraction complete.\")\n"
   ]
  }
 ],
 "metadata": {
  "language_info": {
   "name": "python"
  }
 },
 "nbformat": 4,
 "nbformat_minor": 2
}
