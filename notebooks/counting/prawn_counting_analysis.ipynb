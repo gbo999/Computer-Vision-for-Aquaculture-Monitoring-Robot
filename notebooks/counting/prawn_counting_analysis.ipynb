{
  "cells": [
    {
      "cell_type": "raw",
      "metadata": {
        "vscode": {
          "languageId": "raw"
        }
      },
      "source": [
        "# Prawn Counting Analysis with FiftyOne\n",
        "\n",
        "This notebook provides comprehensive analysis tools for counting prawns in underwater images using FiftyOne dataset management.\n",
        "\n",
        "## Features\n",
        "- 📊 **Dataset Management** - Create and manage FiftyOne datasets from YOLO format\n",
        "- 🔍 **Model Evaluation** - Test YOLO models across different confidence thresholds\n",
        "- 📈 **Detection Statistics** - Analyze detection counts and distributions\n",
        "- 🎯 **Confusion Matrix Analysis** - Extract and analyze model performance metrics\n",
        "- 🔧 **Utilities** - File filtering, copying, and data processing tools\n",
        "\n",
        "## Table of Contents\n",
        "1. [Setup & Configuration](#setup)\n",
        "2. [Dataset Creation](#dataset)\n",
        "3. [Detection Analysis](#analysis)\n",
        "4. [Model Evaluation](#evaluation)\n",
        "5. [Utilities](#utilities)\n"
      ]
    },
    {
      "cell_type": "raw",
      "metadata": {
        "vscode": {
          "languageId": "raw"
        }
      },
      "source": [
        "## 1. Setup & Configuration {#setup}\n"
      ]
    },
    {
      "cell_type": "code",
      "execution_count": null,
      "metadata": {},
      "outputs": [],
      "source": [
        "# Core imports\n",
        "import os\n",
        "import sys\n",
        "import warnings\n",
        "warnings.filterwarnings('ignore')\n",
        "\n",
        "# Add src to path for imports\n",
        "sys.path.append('../../src')\n",
        "\n",
        "# Import our centralized FiftyOne manager\n",
        "from data.fiftyone_manager import FiftyOneDatasetManager\n",
        "\n",
        "# Additional imports for analysis\n",
        "import numpy as np\n",
        "import pandas as pd\n",
        "import matplotlib.pyplot as plt\n",
        "import seaborn as sns\n",
        "from pathlib import Path\n",
        "\n",
        "# Configure plotting\n",
        "plt.style.use('default')\n",
        "sns.set_palette(\"husl\")\n",
        "\n",
        "print(\"✅ All imports successful!\")\n",
        "print(\"📊 FiftyOne Dataset Manager ready to use\")\n"
      ]
    },
    {
      "cell_type": "code",
      "execution_count": null,
      "metadata": {},
      "outputs": [],
      "source": [
        "# Configuration\n",
        "CONFIG = {\n",
        "    # Dataset configuration\n",
        "    'dataset_name': 'prawn_counting_analysis',\n",
        "    'dataset_dir': r\"/Users/gilbenor/Downloads/circle pond.v20i.yolov8\",\n",
        "    'splits': [\"train\", \"valid\", \"test\"],\n",
        "    \n",
        "    # Model configuration\n",
        "    'model_path': r\"/Users/gilbenor/Library/CloudStorage/OneDrive-Personal/measurement_paper_images/detection drone/runs-detections-drone-14.08/detect/train/weights/best.pt\",\n",
        "    'data_yaml': r\"/Users/gilbenor/Downloads/circle pond.v23i.yolov8/data.yaml\",\n",
        "    \n",
        "    # Analysis configuration\n",
        "    'confidence_thresholds': [0.1, 0.2, 0.3, 0.4, 0.5, 0.6, 0.7, 0.8, 0.9],\n",
        "    'min_detections_filter': 4,\n",
        "    'fiftyone_port': 5151\n",
        "}\n",
        "\n",
        "print(\"📋 Configuration loaded:\")\n",
        "for key, value in CONFIG.items():\n",
        "    if isinstance(value, str) and len(value) > 50:\n",
        "        print(f\"   {key}: {value[:50]}...\")\n",
        "    else:\n",
        "        print(f\"   {key}: {value}\")\n",
        "\n",
        "# Verify critical paths\n",
        "dataset_path = Path(CONFIG['dataset_dir'])\n",
        "if dataset_path.exists():\n",
        "    print(f\"\\n✅ Dataset directory found: {len(list(dataset_path.iterdir()))} items\")\n",
        "else:\n",
        "    print(f\"\\n❌ Dataset directory not found: {dataset_path}\")\n",
        "\n",
        "model_path = Path(CONFIG['model_path'])\n",
        "if model_path.exists():\n",
        "    print(f\"✅ Model file found: {model_path.name}\")\n",
        "else:\n",
        "    print(f\"❌ Model file not found: {model_path}\")\n"
      ]
    },
    {
      "cell_type": "raw",
      "metadata": {
        "vscode": {
          "languageId": "raw"
        }
      },
      "source": [
        "## 2. Dataset Creation {#dataset}\n"
      ]
    },
    {
      "cell_type": "code",
      "execution_count": null,
      "metadata": {},
      "outputs": [],
      "source": [
        "# Initialize the FiftyOne Dataset Manager\n",
        "fo_manager = FiftyOneDatasetManager()\n",
        "\n",
        "# Create dataset from YOLO format\n",
        "dataset = fo_manager.create_yolo_dataset(\n",
        "    dataset_name=CONFIG['dataset_name'],\n",
        "    dataset_dir=CONFIG['dataset_dir'],\n",
        "    splits=CONFIG['splits'],\n",
        "    overwrite=True\n",
        ")\n",
        "\n",
        "print(f\"\\n📊 Dataset created successfully!\")\n",
        "print(f\"   Name: {dataset.name}\")\n",
        "print(f\"   Total samples: {len(dataset)}\")\n",
        "print(f\"   Schema: {list(dataset.get_field_schema().keys())}\")\n"
      ]
    },
    {
      "cell_type": "raw",
      "metadata": {
        "vscode": {
          "languageId": "raw"
        }
      },
      "source": [
        "## 3. Detection Analysis {#analysis}\n"
      ]
    },
    {
      "cell_type": "code",
      "execution_count": null,
      "metadata": {},
      "outputs": [],
      "source": [
        "# Print comprehensive detection statistics\n",
        "fo_manager.print_detection_statistics(dataset, CONFIG['dataset_name'])\n"
      ]
    }
  ],
  "metadata": {
    "language_info": {
      "name": "python"
    }
  },
  "nbformat": 4,
  "nbformat_minor": 2
}
