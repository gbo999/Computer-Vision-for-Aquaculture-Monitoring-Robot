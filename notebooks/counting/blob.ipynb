{
 "cells": [
  {
   "cell_type": "code",
   "execution_count": 1,
   "metadata": {},
   "outputs": [],
   "source": [
    "import cv2\n",
    "import numpy as np\n",
    "\n",
    "# Load the image\n"
   ]
  },
  {
   "cell_type": "code",
   "execution_count": 2,
   "metadata": {},
   "outputs": [],
   "source": [
    "image_path=r\"C:\\Users\\gbo10\\Dropbox\\research videos\\before january 2024\\underwater drone/20.9\\light plus flash\\20230920_121603.jpg\""
   ]
  },
  {
   "cell_type": "code",
   "execution_count": 11,
   "metadata": {},
   "outputs": [
    {
     "data": {
      "text/plain": [
       "True"
      ]
     },
     "execution_count": 11,
     "metadata": {},
     "output_type": "execute_result"
    }
   ],
   "source": [
    "image = cv2.imread(image_path, cv2.IMREAD_GRAYSCALE)\n",
    "\n",
    "# Apply Gaussian blur to reduce noise\n",
    "blurred_image = cv2.GaussianBlur(image, (5, 5), 0)\n",
    "\n",
    "# Optional: Edge detection\n",
    "edges = cv2.Canny(blurred_image, 100, 200)\n",
    "\n",
    "#use the edge detection image\n",
    "blurred_image=edges\n",
    "\n",
    "cv2.imwrite(\"edges.jpg\", blurred_image)\n",
    "\n",
    "# Setup SimpleBlobDetector parameters\n",
    "params = cv2.SimpleBlobDetector_Params()\n",
    "\n",
    "# Change thresholds for better contrast (adjust as per your image)\n",
    "params.minThreshold = 50\n",
    "params.maxThreshold = 120\n",
    "\n",
    "# Filter by Area (min and max area of the blob)\n",
    "params.filterByArea = True\n",
    "params.minArea = 500  # Adjust this based on prawn size\n",
    "params.maxArea = 10000\n",
    "\n",
    "# Filter by Circularity (optional)\n",
    "params.filterByCircularity = False\n",
    "\n",
    "# Filter by Convexity (optional)\n",
    "params.filterByConvexity = False\n",
    "\n",
    "# Filter by Inertia (optional)\n",
    "params.filterByInertia = False\n",
    "\n",
    "# Create a detector with the parameters\n",
    "detector = cv2.SimpleBlobDetector_create(params)\n",
    "\n",
    "# Detect blobs\n",
    "keypoints = detector.detect(blurred_image)\n",
    "\n",
    "# Draw detected blobs as red circles on the original image\n",
    "image_with_blobs = cv2.drawKeypoints(image, keypoints, np.array([]), (0, 0, 255), cv2.DRAW_MATCHES_FLAGS_DRAW_RICH_KEYPOINTS)\n",
    "\n",
    "# Show the image with blobs\n",
    "#write the image\n",
    "cv2.imwrite(\"image_with_blobs.jpg\", image_with_blobs)\n",
    "\n"
   ]
  }
 ],
 "metadata": {
  "kernelspec": {
   "display_name": ".venv",
   "language": "python",
   "name": "python3"
  },
  "language_info": {
   "codemirror_mode": {
    "name": "ipython",
    "version": 3
   },
   "file_extension": ".py",
   "mimetype": "text/x-python",
   "name": "python",
   "nbconvert_exporter": "python",
   "pygments_lexer": "ipython3",
   "version": "3.9.7"
  }
 },
 "nbformat": 4,
 "nbformat_minor": 2
}
