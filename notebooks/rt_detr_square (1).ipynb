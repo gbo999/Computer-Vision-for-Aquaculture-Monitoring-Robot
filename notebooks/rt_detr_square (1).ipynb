{
  "cells": [
    {
      "cell_type": "code",
      "execution_count": null,
      "metadata": {
        "id": "21pK62mxFH6H"
      },
      "outputs": [],
      "source": [
        "!pip install ultralytics\n",
        "!pip install roboflow\n",
        "!pip install wandb\n",
        "\n",
        "\n",
        "from roboflow import Roboflow\n",
        "rf = Roboflow(api_key=\"FH9GrrTUIrnVuHJnXAX0\")\n",
        "project = rf.workspace(\"prawns\").project(\"square-pond\")\n",
        "dataset = project.version(1).download(\"yolov8\")\n"
      ]
    },
    {
      "cell_type": "code",
      "source": [],
      "metadata": {
        "id": "3GN_I78CLEJA"
      },
      "execution_count": null,
      "outputs": []
    },
    {
      "cell_type": "code",
      "execution_count": null,
      "metadata": {
        "id": "Twua5r7WF0Ea"
      },
      "outputs": [],
      "source": [
        "import importlib\n",
        "import yolov8l16\n",
        "\n",
        "importlib.reload(yolov8l16)"
      ]
    },
    {
      "cell_type": "code",
      "execution_count": null,
      "metadata": {
        "id": "pj5SYi_yFH6J"
      },
      "outputs": [],
      "source": [
        "from yolov8l16 import WandbCallback\n",
        "\n",
        "from pathlib import Path\n",
        "import wandb\n",
        "import re\n",
        "\n",
        "from ultralytics import YOLO\n",
        "\n",
        "# Load a COCO-pretrained RT-DETR-l model\n",
        "model = YOLO('yolov8l.pt')\n",
        "\n",
        "\n",
        "wandb_logger = WandbCallback(\n",
        "        model,project='crayfish',run_name='yolov8-16'\n",
        "    )\n",
        "\n",
        "for event, callback_fn in wandb_logger.callbacks.items():\n",
        "    model.add_callback(event, callback_fn)\n",
        "\n",
        "\n",
        "\n"
      ]
    },
    {
      "cell_type": "markdown",
      "metadata": {
        "id": "iOsk1XDEaYRo"
      },
      "source": [
        "## train notice yaml addresses ##"
      ]
    },
    {
      "cell_type": "code",
      "execution_count": null,
      "metadata": {
        "id": "cxGXiR4CFH6J"
      },
      "outputs": [],
      "source": [
        "model.train(data=\"/content/square-pond-1/data.yaml\", epochs=50, imgsz=640, seed=42,batch=16)\n"
      ]
    },
    {
      "cell_type": "markdown",
      "metadata": {
        "id": "8JE7sSSSaYRp"
      },
      "source": [
        "## should be seperation between dark and natural- also in script ##"
      ]
    },
    {
      "cell_type": "code",
      "execution_count": null,
      "metadata": {
        "id": "szQqPQZvFH6J"
      },
      "outputs": [],
      "source": [
        " # load from ultralytics import YOLO\n",
        "\n",
        "model = YOLO(\"/content/runs/detect/train/weights/best.pt\")\n",
        "\n",
        "\n",
        "# Validate the model\n",
        "result=model.val(split='test',data='/content/square-pond-1/data.yaml',iou=0.5)\n",
        "\n",
        "print(type(result))\n"
      ]
    },
    {
      "cell_type": "markdown",
      "metadata": {
        "id": "O9jCmtQMaYRq"
      },
      "source": [
        "## should be here changes in retr script ##"
      ]
    },
    {
      "cell_type": "code",
      "execution_count": null,
      "metadata": {
        "id": "B4jdGlcAaYRq"
      },
      "outputs": [],
      "source": [
        "model = YOLO(\"/content/runs/detect/train/weights/best.pt\")\n",
        "\n",
        "source = '/content/square-pond-1/test/images'\n",
        "\n",
        "model.predict(source, save=True, imgsz=320, conf=0.4,save_txt=True,save_conf=True)"
      ]
    },
    {
      "cell_type": "code",
      "source": [
        "import importlib\n",
        "import yolov8l16\n",
        "\n",
        "importlib.reload(yolov8l16)\n",
        "\n",
        "\n",
        "from yolov8l16 import predict\n",
        "predict()"
      ],
      "metadata": {
        "id": "jTMibw67k9Y6"
      },
      "execution_count": null,
      "outputs": []
    },
    {
      "cell_type": "markdown",
      "metadata": {
        "id": "XMwv0XlgaYRq"
      },
      "source": [
        "## wand finish ##"
      ]
    },
    {
      "cell_type": "code",
      "execution_count": null,
      "metadata": {
        "id": "PvkIv5gMaYRq"
      },
      "outputs": [],
      "source": [
        "wandb.finish()"
      ]
    },
    {
      "cell_type": "markdown",
      "metadata": {
        "id": "p7p5Vo2AaYRr"
      },
      "source": [
        "## finish here ##"
      ]
    },
    {
      "cell_type": "code",
      "execution_count": null,
      "metadata": {
        "id": "jChwTBZXmHYz"
      },
      "outputs": [],
      "source": [
        "import importlib\n",
        "import yolov8l16\n",
        "\n",
        "importlib.reload(yolov8l16)"
      ]
    },
    {
      "cell_type": "code",
      "execution_count": null,
      "metadata": {
        "id": "SDyqN64bnhof"
      },
      "outputs": [],
      "source": [
        "import wandb\n",
        "run = wandb.init()\n",
        "artifact = run.use_artifact('prawns/rosenbergii/yolov8l-16_detect.pt:v28', type='model')\n",
        "artifact_dir = artifact.download()"
      ]
    },
    {
      "cell_type": "code",
      "execution_count": null,
      "metadata": {
        "id": "ZtFHfBvq3ajZ"
      },
      "outputs": [],
      "source": [
        "!unzip /content/seperate.zip -d seperate/"
      ]
    },
    {
      "cell_type": "code",
      "execution_count": null,
      "metadata": {
        "id": "dZ_HgZA230Sd"
      },
      "outputs": [],
      "source": [
        "from ultralytics import YOLO\n",
        "\n",
        "\n",
        "model = YOLO(\"/content/artifacts/yolov8l-16_detect.pt:v28/best.pt\")"
      ]
    },
    {
      "cell_type": "code",
      "execution_count": null,
      "metadata": {
        "id": "oDgEpGbv3ycF"
      },
      "outputs": [],
      "source": [
        "result=model.val(split='test',data='/content/circle-pond-1/data.yaml',iou=0.5)\n",
        "\n",
        "print(type(result))"
      ]
    },
    {
      "cell_type": "code",
      "execution_count": null,
      "metadata": {
        "id": "fSbsCFPmUzbE"
      },
      "outputs": [],
      "source": [
        "\n",
        "\n"
      ]
    },
    {
      "cell_type": "code",
      "execution_count": null,
      "metadata": {
        "id": "J6ztJBogmZv_"
      },
      "outputs": [],
      "source": [
        "import importlib\n",
        "import yolov8l16\n",
        "\n",
        "importlib.reload(yolov8l16)\n",
        "\n",
        "\n",
        "from yolov8l16 import predict\n",
        "predict()\n"
      ]
    },
    {
      "cell_type": "code",
      "execution_count": null,
      "metadata": {
        "id": "KVxOYd3qFH6K"
      },
      "outputs": [],
      "source": [
        "model._load('/content/runs/detect/train7/weights/best.pt') # pretrained YOLOv8n model\n",
        "\n",
        "# Define path to the test folder\n",
        "\n",
        "\n",
        "\n",
        "\n",
        "\n"
      ]
    },
    {
      "cell_type": "markdown",
      "metadata": {
        "id": "kGysizZoT2Lu"
      },
      "source": []
    },
    {
      "cell_type": "code",
      "execution_count": null,
      "metadata": {
        "id": "DXJ65nn_FH6K"
      },
      "outputs": [],
      "source": [
        "wandb.finish()"
      ]
    },
    {
      "cell_type": "code",
      "execution_count": null,
      "metadata": {
        "id": "ghxI3EJKFH6K"
      },
      "outputs": [],
      "source": [
        "import os\n",
        "import cv2\n",
        "\n",
        "image = cv2.imread('C:/Users/gbo10/Videos/data-science/Research-counting-algorithms/v2/v2/test/images/Shrimp-to-2_9m-range-1_8MHz-1-_mp4-2_jpg.rf.c035f9e17f6f1ea9f5853baa674fc185.jpg')\n",
        "ground_truth = read_bboxes_from_txt('C:/Users/gbo10/Videos/data-science/Research-counting-algorithms/v2/v2/test/labels/Shrimp-to-2_9m-range-1_8MHz-1-_mp4-2_jpg.rf.c035f9e17f6f1ea9f5853baa674fc185.txt')\n",
        "predictions = read_bboxes_from_txt('C:/Users/gbo10/Videos/data-science/Research-counting-algorithms/nudnik1616116/labels/Shrimp-to-2_9m-range-1_8MHz-1-_mp4-2_jpg.rf.c035f9e17f6f1ea9f5853baa674fc185.txt')\n",
        "\n",
        "\n",
        "imag=draw_bounding_boxes(image=image,image_file_name='f',ground_truth=ground_truth,predictions= predictions,class_names= [])\n",
        "cv2.destroyAllWindows()\n",
        "cv2.imshow('image', imag)\n",
        "cv2.waitKey(0)\n"
      ]
    }
  ],
  "metadata": {
    "colab": {
      "provenance": [],
      "gpuType": "T4"
    },
    "kernelspec": {
      "display_name": "Python 3",
      "name": "python3"
    },
    "language_info": {
      "codemirror_mode": {
        "name": "ipython",
        "version": 3
      },
      "file_extension": ".py",
      "mimetype": "text/x-python",
      "name": "python",
      "nbconvert_exporter": "python",
      "pygments_lexer": "ipython3",
      "version": "3.9.7"
    },
    "orig_nbformat": 4,
    "accelerator": "GPU"
  },
  "nbformat": 4,
  "nbformat_minor": 0
}