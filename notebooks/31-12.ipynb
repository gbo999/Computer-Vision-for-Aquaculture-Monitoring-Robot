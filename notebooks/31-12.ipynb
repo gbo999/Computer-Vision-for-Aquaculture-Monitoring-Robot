{
  "cells": [
    {
      "cell_type": "code",
      "execution_count": null,
      "metadata": {
        "id": "21pK62mxFH6H"
      },
      "outputs": [],
      "source": [
        "!pip install ultralytics\n",
        "!pip install wandb"
      ]
    },
    {
      "cell_type": "code",
      "execution_count": null,
      "metadata": {
        "id": "pj5SYi_yFH6J"
      },
      "outputs": [],
      "source": [
        "from yolov8l16 import WandbCallback\n",
        "\n",
        "from pathlib import Path\n",
        "import wandb\n",
        "import re\n",
        "\n",
        "from ultralytics import YOLO\n",
        "\n",
        "# Load a COCO-pretrained RT-DETR-l model\n",
        "import wandb\n",
        "run = wandb.init()\n",
        "artifact = run.use_artifact('prawns/Gopro/335_trained_images:v0', type='model')\n",
        "artifact_dir = artifact.download()\n",
        "\n",
        "\n",
        "artifact = run.use_artifact('prawns/Gopro/21.12:v0', type='dataset')\n",
        "artifact_dir = artifact.download()\n",
        "\n",
        "\n",
        "\n"
      ]
    },
    {
      "cell_type": "code",
      "execution_count": null,
      "metadata": {},
      "outputs": [],
      "source": [
        "result=model.val(data='/content/square-pond-1/data.yaml',iou=0.4)\n",
        "\n",
        "result"
      ]
    },
    {
      "cell_type": "code",
      "execution_count": null,
      "metadata": {},
      "outputs": [],
      "source": [
        "model = YOLO('seg')"
      ]
    },
    {
      "cell_type": "code",
      "execution_count": null,
      "metadata": {},
      "outputs": [],
      "source": [
        "import importlib\n",
        "import yolov8l16\n",
        "\n",
        "importlib.reload(yolov8l16)"
      ]
    },
    {
      "cell_type": "code",
      "execution_count": null,
      "metadata": {},
      "outputs": [],
      "source": [
        "\n",
        "wandb_logger = WandbCallback(\n",
        "        model,project='Gopro',run_name='yolov8-31.12'\n",
        "    )\n",
        "\n",
        "for event, callback_fn in wandb_logger.callbacks.items():\n",
        "    model.add_callback(event, callback_fn)"
      ]
    },
    {
      "cell_type": "markdown",
      "metadata": {
        "id": "iOsk1XDEaYRo"
      },
      "source": [
        "## train notice yaml addresses ##"
      ]
    },
    {
      "cell_type": "code",
      "execution_count": null,
      "metadata": {
        "id": "cxGXiR4CFH6J"
      },
      "outputs": [],
      "source": [
        "model.train(data=\"/content/square-pond-1/data.yaml\", epochs=300, imgsz=640, seed=42,batch=16)\n"
      ]
    }
  ],
  "metadata": {
    "accelerator": "GPU",
    "colab": {
      "gpuType": "T4",
      "provenance": []
    },
    "kernelspec": {
      "display_name": "Python 3",
      "name": "python3"
    },
    "language_info": {
      "codemirror_mode": {
        "name": "ipython",
        "version": 3
      },
      "file_extension": ".py",
      "mimetype": "text/x-python",
      "name": "python",
      "nbconvert_exporter": "python",
      "pygments_lexer": "ipython3",
      "version": "3.9.7"
    },
    "orig_nbformat": 4
  },
  "nbformat": 4,
  "nbformat_minor": 0
}
