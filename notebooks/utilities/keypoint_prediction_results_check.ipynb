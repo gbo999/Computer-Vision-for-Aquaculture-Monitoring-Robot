{
 "cells": [
  {
   "cell_type": "code",
   "execution_count": 6,
   "metadata": {},
   "outputs": [
    {
     "name": "stdout",
     "output_type": "stream",
     "text": [
      "\n",
      "image 1/1 C:\\Users\\gbo10\\OneDrive\\measurement_paper_images\\to colab\\test with seperation\\images\\right round\\GX010080_212_2954-jpg_gamma_jpg.rf.1aff7846fd565ba2c7384ff0a14cd8ab.jpg: 640x640 4 prawn-models, 4014.4ms\n",
      "Speed: 9.0ms preprocess, 4014.4ms inference, 1.5ms postprocess per image at shape (1, 3, 640, 640)\n",
      "Results saved to \u001b[1mc:\\Users\\gbo10\\Videos\\data-science\\Research-counting-algorithms\\runs\\pose\\predict5\u001b[0m\n"
     ]
    },
    {
     "data": {
      "text/plain": [
       "[ultralytics.engine.results.Results object with attributes:\n",
       " \n",
       " boxes: ultralytics.engine.results.Boxes object\n",
       " keypoints: ultralytics.engine.results.Keypoints object\n",
       " masks: None\n",
       " names: {0: 'prawn-model'}\n",
       " obb: None\n",
       " orig_img: array([[[ 96,  85, 157],\n",
       "         [103,  95, 166],\n",
       "         [109,  99, 175],\n",
       "         ...,\n",
       "         [181, 165,  82],\n",
       "         [181, 164,  83],\n",
       "         [181, 164,  83]],\n",
       " \n",
       "        [[ 94,  83, 155],\n",
       "         [101,  93, 164],\n",
       "         [108,  99, 172],\n",
       "         ...,\n",
       "         [182, 166,  83],\n",
       "         [181, 164,  83],\n",
       "         [181, 164,  83]],\n",
       " \n",
       "        [[ 92,  82, 152],\n",
       "         [ 99,  91, 162],\n",
       "         [106,  97, 170],\n",
       "         ...,\n",
       "         [182, 166,  83],\n",
       "         [181, 164,  83],\n",
       "         [181, 164,  83]],\n",
       " \n",
       "        ...,\n",
       " \n",
       "        [[ 52,  24,  17],\n",
       "         [ 51,  25,  18],\n",
       "         [ 49,  26,  18],\n",
       "         ...,\n",
       "         [216, 193, 107],\n",
       "         [216, 194, 106],\n",
       "         [216, 194, 106]],\n",
       " \n",
       "        [[ 52,  26,  20],\n",
       "         [ 51,  27,  21],\n",
       "         [ 51,  27,  21],\n",
       "         ...,\n",
       "         [215, 195, 108],\n",
       "         [215, 195, 107],\n",
       "         [215, 195, 107]],\n",
       " \n",
       "        [[ 50,  26,  20],\n",
       "         [ 50,  26,  20],\n",
       "         [ 48,  26,  21],\n",
       "         ...,\n",
       "         [216, 196, 109],\n",
       "         [216, 196, 109],\n",
       "         [215, 195, 107]]], dtype=uint8)\n",
       " orig_shape: (640, 640)\n",
       " path: 'C:\\\\Users\\\\gbo10\\\\OneDrive\\\\measurement_paper_images\\\\to colab\\\\test with seperation\\\\images\\\\right round\\\\GX010080_212_2954-jpg_gamma_jpg.rf.1aff7846fd565ba2c7384ff0a14cd8ab.jpg'\n",
       " probs: None\n",
       " save_dir: 'c:\\\\Users\\\\gbo10\\\\Videos\\\\data-science\\\\Research-counting-algorithms\\\\runs\\\\pose\\\\predict5'\n",
       " speed: {'preprocess': 8.995532989501953, 'inference': 4014.429807662964, 'postprocess': 1.5130043029785156}]"
      ]
     },
     "execution_count": 6,
     "metadata": {},
     "output_type": "execute_result"
    }
   ],
   "source": [
    "from ultralytics import YOLO\n",
    "\n",
    "# Load a pretrained YOLOv8n model\n",
    "model = YOLO(\"C:/Users/gbo10/OneDrive/measurement_paper_images/sam_experiments/pose right/best (7).pt\")\n",
    "\n",
    "# Run inference on 'bus.jpg' with arguments\n",
    "model.predict(\"C:/Users/gbo10/OneDrive/measurement_paper_images/to colab/test with seperation/images/right round/GX010080_212_2954-jpg_gamma_jpg.rf.1aff7846fd565ba2c7384ff0a14cd8ab.jpg\", save=True,conf=0.7, imgsz=640)\n",
    "\n",
    "\n"
   ]
  },
  {
   "cell_type": "markdown",
   "metadata": {},
   "source": []
  }
 ],
 "metadata": {
  "kernelspec": {
   "display_name": ".venv",
   "language": "python",
   "name": "python3"
  },
  "language_info": {
   "codemirror_mode": {
    "name": "ipython",
    "version": 3
   },
   "file_extension": ".py",
   "mimetype": "text/x-python",
   "name": "python",
   "nbconvert_exporter": "python",
   "pygments_lexer": "ipython3",
   "version": "3.9.7"
  }
 },
 "nbformat": 4,
 "nbformat_minor": 2
}
