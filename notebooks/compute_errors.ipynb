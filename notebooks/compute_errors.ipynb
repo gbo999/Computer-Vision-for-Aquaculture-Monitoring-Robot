{
 "cells": [
  {
   "cell_type": "code",
   "execution_count": 1,
   "metadata": {},
   "outputs": [],
   "source": [
    "import os\n",
    "import math\n",
    "import matplotlib.pyplot as plt\n",
    "\n",
    "\n",
    "def compute_errors_and_log(ground_truth_path, predicted_path):\n",
    "    total_squared_error = 0\n",
    "    total_absolute_error = 0\n",
    "    total_relative_difference = 0  # For MRD\n",
    "    num_files = 0\n",
    "    num_gt_tptal_objects = 0\n",
    "    gt_objects_per_file = [] \n",
    "\n",
    "\n",
    "    for filename in os.listdir(ground_truth_path):\n",
    "        ground_truth_file = os.path.join(ground_truth_path, filename)\n",
    "        predicted_file = os.path.join(predicted_path, filename)\n",
    "\n",
    "        if not os.path.exists(predicted_file):\n",
    "            continue\n",
    "\n",
    "        with open(ground_truth_file, 'r') as gt, open(predicted_file, 'r') as pred:\n",
    "            gt_lines = gt.readlines()\n",
    "            pred_lines = pred.readlines()\n",
    "\n",
    "            # Calculate the difference in the number of objects\n",
    "            num_gt_objects = len(gt_lines)\n",
    "            num_pred_objects = len(pred_lines)\n",
    "            num_gt_tptal_objects += num_gt_objects\n",
    "            gt_objects_per_file.append(num_gt_objects)  # Add to the list\n",
    "\n",
    "\n",
    "            squared_error = (num_gt_objects - num_pred_objects) ** 2\n",
    "            absolute_error = abs(num_gt_objects - num_pred_objects)\n",
    "\n",
    "            total_squared_error += squared_error\n",
    "            total_absolute_error += absolute_error\n",
    "\n",
    "            if num_gt_objects != 0:  # Avoid division by zero\n",
    "                total_relative_difference += absolute_error / num_gt_objects\n",
    "\n",
    "            num_files += 1\n",
    "\n",
    "    # Calculate the Root Mean Squared Error (RMSE) and Mean Absolute Error (MAE)\n",
    "    if num_files > 0:\n",
    "        rmse = math.sqrt(total_squared_error / num_files)\n",
    "        mae = total_absolute_error / num_files\n",
    "        mrd = total_relative_difference / num_files  # Calculate MRD\n",
    "\n",
    "        print(f\"Root Mean Squared Error (RMSE): {rmse}\")\n",
    "        print(f\"Mean Absolute Error (MAE): {mae}\")\n",
    "        print(f\"Mean Relative Difference (MRD): {mrd}\")\n",
    "        print(f'avg number of objects:{num_gt_tptal_objects/num_files}')\n",
    "\n",
    "        plt.boxplot(gt_objects_per_file)\n",
    "        plt.title('Box Plot of GT Objects per File')\n",
    "        plt.ylabel('Number of GT Objects')\n",
    "        plt.show()"
   ]
  },
  {
   "cell_type": "code",
   "execution_count": 2,
   "metadata": {},
   "outputs": [
    {
     "name": "stdout",
     "output_type": "stream",
     "text": [
      "Root Mean Squared Error (RMSE): 1.3734170924391182\n",
      "Mean Absolute Error (MAE): 1.0156862745098039\n",
      "Mean Relative Difference (MRD): 0.4276595082477438\n",
      "avg number of objects:3.1411764705882352\n"
     ]
    }
   ],
   "source": [
    "compute_errors_and_log(\"C:\\\\Users\\\\gbo10\\\\OneDrive\\\\תמונות\\\\labeling\\\\65\\\\labels\", \"C:\\\\Users\\\\gbo10\\\\OneDrive\\\\תמונות\\labeling\\\\65\\\\content\\\\runs\\\\segment\\\\predict\\\\labels\")\n"
   ]
  }
 ],
 "metadata": {
  "kernelspec": {
   "display_name": ".venv",
   "language": "python",
   "name": "python3"
  },
  "language_info": {
   "codemirror_mode": {
    "name": "ipython",
    "version": 3
   },
   "file_extension": ".py",
   "mimetype": "text/x-python",
   "name": "python",
   "nbconvert_exporter": "python",
   "pygments_lexer": "ipython3",
   "version": "3.9.7"
  }
 },
 "nbformat": 4,
 "nbformat_minor": 2
}
