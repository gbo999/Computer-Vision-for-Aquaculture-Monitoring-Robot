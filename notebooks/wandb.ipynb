{
 "cells": [
  {
   "cell_type": "code",
   "execution_count": 1,
   "metadata": {},
   "outputs": [
    {
     "name": "stderr",
     "output_type": "stream",
     "text": [
      "Failed to detect the name of this notebook, you can set it manually with the WANDB_NOTEBOOK_NAME environment variable to enable code saving.\n",
      "\u001b[34m\u001b[1mwandb\u001b[0m: Currently logged in as: \u001b[33mgbo10001\u001b[0m (\u001b[33mprawns\u001b[0m). Use \u001b[1m`wandb login --relogin`\u001b[0m to force relogin\n"
     ]
    },
    {
     "data": {
      "text/html": [
       "Tracking run with wandb version 0.16.1"
      ],
      "text/plain": [
       "<IPython.core.display.HTML object>"
      ]
     },
     "metadata": {},
     "output_type": "display_data"
    },
    {
     "data": {
      "text/html": [
       "Run data is saved locally in <code>c:\\Users\\gbo10\\Videos\\research\\counting_research_algorithms\\notebooks\\wandb\\run-20240107_191108-62la0pr6</code>"
      ],
      "text/plain": [
       "<IPython.core.display.HTML object>"
      ]
     },
     "metadata": {},
     "output_type": "display_data"
    },
    {
     "data": {
      "text/html": [
       "Syncing run <strong><a href='https://wandb.ai/prawns/Gopro/runs/62la0pr6' target=\"_blank\">21.12</a></strong> to <a href='https://wandb.ai/prawns/Gopro' target=\"_blank\">Weights & Biases</a> (<a href='https://wandb.me/run' target=\"_blank\">docs</a>)<br/>"
      ],
      "text/plain": [
       "<IPython.core.display.HTML object>"
      ]
     },
     "metadata": {},
     "output_type": "display_data"
    },
    {
     "data": {
      "text/html": [
       " View project at <a href='https://wandb.ai/prawns/Gopro' target=\"_blank\">https://wandb.ai/prawns/Gopro</a>"
      ],
      "text/plain": [
       "<IPython.core.display.HTML object>"
      ]
     },
     "metadata": {},
     "output_type": "display_data"
    },
    {
     "data": {
      "text/html": [
       " View run at <a href='https://wandb.ai/prawns/Gopro/runs/62la0pr6' target=\"_blank\">https://wandb.ai/prawns/Gopro/runs/62la0pr6</a>"
      ],
      "text/plain": [
       "<IPython.core.display.HTML object>"
      ]
     },
     "metadata": {},
     "output_type": "display_data"
    },
    {
     "name": "stderr",
     "output_type": "stream",
     "text": [
      "\u001b[34m\u001b[1mwandb\u001b[0m: Adding directory to artifact (C:\\Users\\gbo10\\Videos\\research\\counting_research_algorithms\\src\\to_colab)... Done. 0.8s\n"
     ]
    },
    {
     "data": {
      "text/plain": [
       "<Artifact 335_trained_images>"
      ]
     },
     "execution_count": 1,
     "metadata": {},
     "output_type": "execute_result"
    }
   ],
   "source": [
    "import wandb\n",
    "\n",
    "\n",
    "run = wandb.init(project='Gopro',name='21.12')\n",
    "\n"
   ]
  },
  {
   "cell_type": "code",
   "execution_count": 11,
   "metadata": {},
   "outputs": [
    {
     "data": {
      "text/plain": [
       "'c:\\\\Users\\\\gbo10\\\\Videos\\\\research\\\\counting_research_algorithms\\\\notebooks'"
      ]
     },
     "execution_count": 11,
     "metadata": {},
     "output_type": "execute_result"
    }
   ],
   "source": [
    "import os\n",
    "os.getcwd()"
   ]
  },
  {
   "cell_type": "code",
   "execution_count": 12,
   "metadata": {},
   "outputs": [
    {
     "name": "stderr",
     "output_type": "stream",
     "text": [
      "\u001b[34m\u001b[1mwandb\u001b[0m: Adding directory to artifact (c:\\Users\\gbo10\\Videos\\research\\counting_research_algorithms\\src\\to_colab)... Done. 0.8s\n"
     ]
    },
    {
     "ename": "ValueError",
     "evalue": "Path is not a file: /src/to_colab/segment/train/weights/best.pt",
     "output_type": "error",
     "traceback": [
      "\u001b[1;31m---------------------------------------------------------------------------\u001b[0m",
      "\u001b[1;31mValueError\u001b[0m                                Traceback (most recent call last)",
      "Cell \u001b[1;32mIn[12], line 5\u001b[0m\n\u001b[0;32m      3\u001b[0m run\u001b[38;5;241m.\u001b[39mlog_artifact(artifact)  \n\u001b[0;32m      4\u001b[0m art \u001b[38;5;241m=\u001b[39m wandb\u001b[38;5;241m.\u001b[39mArtifact(name\u001b[38;5;241m=\u001b[39m\u001b[38;5;124m'\u001b[39m\u001b[38;5;124m335_trained_images\u001b[39m\u001b[38;5;124m'\u001b[39m, \u001b[38;5;28mtype\u001b[39m\u001b[38;5;241m=\u001b[39m\u001b[38;5;124m\"\u001b[39m\u001b[38;5;124mmodel\u001b[39m\u001b[38;5;124m\"\u001b[39m)\n\u001b[1;32m----> 5\u001b[0m \u001b[43mart\u001b[49m\u001b[38;5;241;43m.\u001b[39;49m\u001b[43madd_file\u001b[49m\u001b[43m(\u001b[49m\u001b[38;5;124;43m\"\u001b[39;49m\u001b[38;5;124;43m/src/to_colab/segment/train/weights/best.pt\u001b[39;49m\u001b[38;5;124;43m\"\u001b[39;49m\u001b[43m,\u001b[49m\u001b[43m \u001b[49m\u001b[38;5;124;43m\"\u001b[39;49m\u001b[38;5;124;43mmodel.pt\u001b[39;49m\u001b[38;5;124;43m\"\u001b[39;49m\u001b[43m)\u001b[49m\n\u001b[0;32m      6\u001b[0m run\u001b[38;5;241m.\u001b[39mlog_artifact(art)\n",
      "File \u001b[1;32mc:\\Users\\gbo10\\Videos\\research\\counting_research_algorithms\\.venv\\lib\\site-packages\\wandb\\sdk\\artifacts\\artifact.py:1183\u001b[0m, in \u001b[0;36mArtifact.add_file\u001b[1;34m(self, local_path, name, is_tmp)\u001b[0m\n\u001b[0;32m   1181\u001b[0m \u001b[38;5;28mself\u001b[39m\u001b[38;5;241m.\u001b[39m_ensure_can_add()\n\u001b[0;32m   1182\u001b[0m \u001b[38;5;28;01mif\u001b[39;00m \u001b[38;5;129;01mnot\u001b[39;00m os\u001b[38;5;241m.\u001b[39mpath\u001b[38;5;241m.\u001b[39misfile(local_path):\n\u001b[1;32m-> 1183\u001b[0m     \u001b[38;5;28;01mraise\u001b[39;00m \u001b[38;5;167;01mValueError\u001b[39;00m(\u001b[38;5;124m\"\u001b[39m\u001b[38;5;124mPath is not a file: \u001b[39m\u001b[38;5;132;01m%s\u001b[39;00m\u001b[38;5;124m\"\u001b[39m \u001b[38;5;241m%\u001b[39m local_path)\n\u001b[0;32m   1185\u001b[0m name \u001b[38;5;241m=\u001b[39m LogicalPath(name \u001b[38;5;129;01mor\u001b[39;00m os\u001b[38;5;241m.\u001b[39mpath\u001b[38;5;241m.\u001b[39mbasename(local_path))\n\u001b[0;32m   1186\u001b[0m digest \u001b[38;5;241m=\u001b[39m md5_file_b64(local_path)\n",
      "\u001b[1;31mValueError\u001b[0m: Path is not a file: /src/to_colab/segment/train/weights/best.pt"
     ]
    }
   ],
   "source": [
    "artifact = wandb.Artifact(name=\"21.12\", type=\"dataset\", description=\"21.12 train and validation datasets + charts\")\n",
    "artifact.add_dir(local_path=\"c:\\\\Users\\\\gbo10\\\\Videos\\\\research\\\\counting_research_algorithms\\\\src\\\\to_colab\")  # Add dataset directory to artifact\n",
    "run.log_artifact(artifact)  \n",
    "art = wandb.Artifact(name='335_trained_images', type=\"model\")\n",
    "art.add_file(\"c:\\\\Users\\\\gbo10\\\\Videos\\\\research\\\\counting_research_algorithms\\\\\\\\src\\\\to_colab\\\\segment\\\\train\\\\weights\\\\best.pt\", \"model.pt\")\n",
    "run.log_artifact(art)"
   ]
  },
  {
   "cell_type": "code",
   "execution_count": 12,
   "metadata": {},
   "outputs": [
    {
     "data": {
      "text/html": [
       "Finishing last run (ID:obw4y0jj) before initializing another..."
      ],
      "text/plain": [
       "<IPython.core.display.HTML object>"
      ]
     },
     "metadata": {},
     "output_type": "display_data"
    },
    {
     "data": {
      "text/html": [
       " View run <strong style=\"color:#cdcd00\">daily-spaceship-1</strong> at: <a href='https://wandb.ai/prawns/counting_research_algorithms/runs/obw4y0jj' target=\"_blank\">https://wandb.ai/prawns/counting_research_algorithms/runs/obw4y0jj</a><br/>Synced 5 W&B file(s), 0 media file(s), 0 artifact file(s) and 0 other file(s)"
      ],
      "text/plain": [
       "<IPython.core.display.HTML object>"
      ]
     },
     "metadata": {},
     "output_type": "display_data"
    },
    {
     "data": {
      "text/html": [
       "Find logs at: <code>.\\wandb\\run-20240109_013407-obw4y0jj\\logs</code>"
      ],
      "text/plain": [
       "<IPython.core.display.HTML object>"
      ]
     },
     "metadata": {},
     "output_type": "display_data"
    },
    {
     "data": {
      "text/html": [
       "Successfully finished last run (ID:obw4y0jj). Initializing new run:<br/>"
      ],
      "text/plain": [
       "<IPython.core.display.HTML object>"
      ]
     },
     "metadata": {},
     "output_type": "display_data"
    },
    {
     "data": {
      "text/html": [
       "Tracking run with wandb version 0.16.1"
      ],
      "text/plain": [
       "<IPython.core.display.HTML object>"
      ]
     },
     "metadata": {},
     "output_type": "display_data"
    },
    {
     "data": {
      "text/html": [
       "Run data is saved locally in <code>c:\\Users\\gbo10\\Videos\\research\\counting_research_algorithms\\notebooks\\wandb\\run-20240109_024300-ecowcgpb</code>"
      ],
      "text/plain": [
       "<IPython.core.display.HTML object>"
      ]
     },
     "metadata": {},
     "output_type": "display_data"
    },
    {
     "data": {
      "text/html": [
       "Syncing run <strong><a href='https://wandb.ai/prawns/counting_research_algorithms/runs/ecowcgpb' target=\"_blank\">frosty-universe-2</a></strong> to <a href='https://wandb.ai/prawns/counting_research_algorithms' target=\"_blank\">Weights & Biases</a> (<a href='https://wandb.me/run' target=\"_blank\">docs</a>)<br/>"
      ],
      "text/plain": [
       "<IPython.core.display.HTML object>"
      ]
     },
     "metadata": {},
     "output_type": "display_data"
    },
    {
     "data": {
      "text/html": [
       " View project at <a href='https://wandb.ai/prawns/counting_research_algorithms' target=\"_blank\">https://wandb.ai/prawns/counting_research_algorithms</a>"
      ],
      "text/plain": [
       "<IPython.core.display.HTML object>"
      ]
     },
     "metadata": {},
     "output_type": "display_data"
    },
    {
     "data": {
      "text/html": [
       " View run at <a href='https://wandb.ai/prawns/counting_research_algorithms/runs/ecowcgpb' target=\"_blank\">https://wandb.ai/prawns/counting_research_algorithms/runs/ecowcgpb</a>"
      ],
      "text/plain": [
       "<IPython.core.display.HTML object>"
      ]
     },
     "metadata": {},
     "output_type": "display_data"
    },
    {
     "name": "stderr",
     "output_type": "stream",
     "text": [
      "\u001b[34m\u001b[1mwandb\u001b[0m: Downloading large artifact after_31.12:v1, 141.97MB. 563 files... \n",
      "\u001b[34m\u001b[1mwandb\u001b[0m:   563 of 563 files downloaded.  \n",
      "Done. 0:0:3.4\n"
     ]
    }
   ],
   "source": [
    "import wandb\n",
    "run = wandb.init()\n",
    "artifact = run.use_artifact('prawns/uncategorized/after_31.12:v1', type='dataset')\n",
    "artifact_dir = artifact.download()"
   ]
  },
  {
   "cell_type": "code",
   "execution_count": 13,
   "metadata": {},
   "outputs": [
    {
     "name": "stdout",
     "output_type": "stream",
     "text": [
      "Ultralytics YOLOv8.0.238 🚀 Python-3.9.7 torch-2.1.2+cpu CPU (Intel Core(TM) i7-10750H 2.60GHz)\n",
      "YOLOv8m-seg summary (fused): 245 layers, 27222963 parameters, 0 gradients, 110.0 GFLOPs\n",
      "\n",
      "\u001b[34m\u001b[1mPyTorch:\u001b[0m starting from 'C:\\Users\\gbo10\\Videos\\research\\counting_research_algorithms\\notebooks\\artifacts\\after_31.12-v1\\segment\\train\\weights\\best.pt' with input shape (1, 3, 640, 640) BCHW and output shape(s) ((1, 37, 8400), (1, 32, 160, 160)) (52.3 MB)\n",
      "\n",
      "\u001b[34m\u001b[1mONNX:\u001b[0m starting export with onnx 1.15.0 opset 17...\n",
      "\u001b[34m\u001b[1mONNX:\u001b[0m export success ✅ 3.0s, saved as 'C:\\Users\\gbo10\\Videos\\research\\counting_research_algorithms\\notebooks\\artifacts\\after_31.12-v1\\segment\\train\\weights\\best.onnx' (104.1 MB)\n",
      "\n",
      "Export complete (6.9s)\n",
      "Results saved to \u001b[1mC:\\Users\\gbo10\\Videos\\research\\counting_research_algorithms\\notebooks\\artifacts\\after_31.12-v1\\segment\\train\\weights\u001b[0m\n",
      "Predict:         yolo predict task=segment model=C:\\Users\\gbo10\\Videos\\research\\counting_research_algorithms\\notebooks\\artifacts\\after_31.12-v1\\segment\\train\\weights\\best.onnx imgsz=640  \n",
      "Validate:        yolo val task=segment model=C:\\Users\\gbo10\\Videos\\research\\counting_research_algorithms\\notebooks\\artifacts\\after_31.12-v1\\segment\\train\\weights\\best.onnx imgsz=640 data=/content/drive/MyDrive/research/31.12_train/data.yaml  \n",
      "Visualize:       https://netron.app\n"
     ]
    }
   ],
   "source": [
    "from ultralytics import YOLO\n",
    "\n",
    "# Load a model\n",
    "model = YOLO('C:\\\\Users\\\\gbo10\\\\Videos\\\\research\\\\counting_research_algorithms\\\\notebooks\\\\artifacts\\\\after_31.12-v1\\\\segment\\\\train\\\\weights\\\\best.pt') \n",
    "# Export the model\n",
    "onnx_file = model.export(format='onnx')"
   ]
  },
  {
   "cell_type": "code",
   "execution_count": 14,
   "metadata": {},
   "outputs": [
    {
     "data": {
      "text/html": [
       "Finishing last run (ID:ecowcgpb) before initializing another..."
      ],
      "text/plain": [
       "<IPython.core.display.HTML object>"
      ]
     },
     "metadata": {},
     "output_type": "display_data"
    },
    {
     "data": {
      "text/html": [
       " View run <strong style=\"color:#cdcd00\">frosty-universe-2</strong> at: <a href='https://wandb.ai/prawns/counting_research_algorithms/runs/ecowcgpb' target=\"_blank\">https://wandb.ai/prawns/counting_research_algorithms/runs/ecowcgpb</a><br/>Synced 5 W&B file(s), 0 media file(s), 0 artifact file(s) and 0 other file(s)"
      ],
      "text/plain": [
       "<IPython.core.display.HTML object>"
      ]
     },
     "metadata": {},
     "output_type": "display_data"
    },
    {
     "data": {
      "text/html": [
       "Find logs at: <code>.\\wandb\\run-20240109_024300-ecowcgpb\\logs</code>"
      ],
      "text/plain": [
       "<IPython.core.display.HTML object>"
      ]
     },
     "metadata": {},
     "output_type": "display_data"
    },
    {
     "data": {
      "text/html": [
       "Successfully finished last run (ID:ecowcgpb). Initializing new run:<br/>"
      ],
      "text/plain": [
       "<IPython.core.display.HTML object>"
      ]
     },
     "metadata": {},
     "output_type": "display_data"
    },
    {
     "data": {
      "text/html": [
       "Tracking run with wandb version 0.16.1"
      ],
      "text/plain": [
       "<IPython.core.display.HTML object>"
      ]
     },
     "metadata": {},
     "output_type": "display_data"
    },
    {
     "data": {
      "text/html": [
       "Run data is saved locally in <code>c:\\Users\\gbo10\\Videos\\research\\counting_research_algorithms\\notebooks\\wandb\\run-20240109_085058-uc55so0h</code>"
      ],
      "text/plain": [
       "<IPython.core.display.HTML object>"
      ]
     },
     "metadata": {},
     "output_type": "display_data"
    },
    {
     "data": {
      "text/html": [
       "Syncing run <strong><a href='https://wandb.ai/prawns/counting_research_algorithms/runs/uc55so0h' target=\"_blank\">feasible-donkey-3</a></strong> to <a href='https://wandb.ai/prawns/counting_research_algorithms' target=\"_blank\">Weights & Biases</a> (<a href='https://wandb.me/run' target=\"_blank\">docs</a>)<br/>"
      ],
      "text/plain": [
       "<IPython.core.display.HTML object>"
      ]
     },
     "metadata": {},
     "output_type": "display_data"
    },
    {
     "data": {
      "text/html": [
       " View project at <a href='https://wandb.ai/prawns/counting_research_algorithms' target=\"_blank\">https://wandb.ai/prawns/counting_research_algorithms</a>"
      ],
      "text/plain": [
       "<IPython.core.display.HTML object>"
      ]
     },
     "metadata": {},
     "output_type": "display_data"
    },
    {
     "data": {
      "text/html": [
       " View run at <a href='https://wandb.ai/prawns/counting_research_algorithms/runs/uc55so0h' target=\"_blank\">https://wandb.ai/prawns/counting_research_algorithms/runs/uc55so0h</a>"
      ],
      "text/plain": [
       "<IPython.core.display.HTML object>"
      ]
     },
     "metadata": {},
     "output_type": "display_data"
    },
    {
     "name": "stderr",
     "output_type": "stream",
     "text": [
      "\u001b[34m\u001b[1mwandb\u001b[0m: Downloading large artifact after_1.1:v0, 143.08MB. 565 files... \n",
      "\u001b[34m\u001b[1mwandb\u001b[0m:   565 of 565 files downloaded.  \n",
      "Done. 0:0:26.1\n"
     ]
    }
   ],
   "source": [
    "import wandb\n",
    "run = wandb.init()\n",
    "artifact = run.use_artifact('prawns/Gopro/after_1.1:v0', type='dataset')\n",
    "artifact_dir = artifact.download()"
   ]
  }
 ],
 "metadata": {
  "kernelspec": {
   "display_name": ".venv",
   "language": "python",
   "name": "python3"
  },
  "language_info": {
   "codemirror_mode": {
    "name": "ipython",
    "version": 3
   },
   "file_extension": ".py",
   "mimetype": "text/x-python",
   "name": "python",
   "nbconvert_exporter": "python",
   "pygments_lexer": "ipython3",
   "version": "3.9.7"
  }
 },
 "nbformat": 4,
 "nbformat_minor": 2
}
