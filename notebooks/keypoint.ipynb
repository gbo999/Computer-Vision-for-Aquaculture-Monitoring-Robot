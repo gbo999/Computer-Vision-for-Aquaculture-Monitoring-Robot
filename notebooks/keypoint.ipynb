{
  "cells": [
    {
      "cell_type": "code",
      "execution_count": null,
      "metadata": {
        "id": "21pK62mxFH6H"
      },
      "outputs": [],
      "source": [
        "!pip install ultralytics\n",
        "!pip install wandb"
      ]
    },
    {
      "cell_type": "code",
      "execution_count": null,
      "metadata": {},
      "outputs": [],
      "source": [
        "!pip install roboflow\n",
        "\n",
        "from roboflow import Roboflow\n",
        "rf = Roboflow(api_key=\"FH9GrrTUIrnVuHJnXAX0\")\n",
        "project = rf.workspace(\"prawns\").project(\"-prawn-morphotypes\")\n",
        "dataset = project.version(4).download(\"yolov5\")\n"
      ]
    },
    {
      "cell_type": "code",
      "execution_count": null,
      "metadata": {
        "id": "pj5SYi_yFH6J"
      },
      "outputs": [],
      "source": [
        "from yolov8l16 import WandbCallback\n",
        "\n",
        "from pathlib import Path\n",
        "import wandb\n",
        "import re\n",
        "\n",
        "from ultralytics import YOLO\n",
        "\n",
        "# Load a COCO-pretrained RT-DETR-l model\n",
        "import wandb\n"
      ]
    },
    {
      "cell_type": "code",
      "execution_count": null,
      "metadata": {},
      "outputs": [],
      "source": [
        "import importlib\n",
        "import yolov8l16\n",
        "\n",
        "importlib.reload(yolov8l16)"
      ]
    },
    {
      "cell_type": "code",
      "execution_count": null,
      "metadata": {},
      "outputs": [],
      "source": [
        "model = YOLO('yolov8l-pose.pt')"
      ]
    },
    {
      "cell_type": "code",
      "execution_count": null,
      "metadata": {},
      "outputs": [],
      "source": [
        "\n",
        "wandb_logger = WandbCallback(\n",
        "        model,project='keypoints',run_name='yolov8-l-pose-31-12')\n",
        "    \n",
        "\n",
        "for event, callback_fn in wandb_logger.callbacks.items():\n",
        "    model.add_callback(event, callback_fn)"
      ]
    },
    {
      "cell_type": "markdown",
      "metadata": {
        "id": "iOsk1XDEaYRo"
      },
      "source": [
        "## train notice yaml addresses ##"
      ]
    },
    {
      "cell_type": "code",
      "execution_count": null,
      "metadata": {
        "id": "cxGXiR4CFH6J"
      },
      "outputs": [],
      "source": [
        "model.train(data=\"/content/square-pond-1/data.yaml\", epochs=300, imgsz=640, seed=42,batch=16)\n"
      ]
    }
  ],
  "metadata": {
    "accelerator": "GPU",
    "colab": {
      "gpuType": "T4",
      "provenance": []
    },
    "kernelspec": {
      "display_name": "Python 3",
      "name": "python3"
    },
    "language_info": {
      "codemirror_mode": {
        "name": "ipython",
        "version": 3
      },
      "file_extension": ".py",
      "mimetype": "text/x-python",
      "name": "python",
      "nbconvert_exporter": "python",
      "pygments_lexer": "ipython3",
      "version": "3.9.7"
    },
    "orig_nbformat": 4
  },
  "nbformat": 4,
  "nbformat_minor": 0
}
