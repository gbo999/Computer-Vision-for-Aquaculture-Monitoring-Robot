{
  "cells": [
    {
      "cell_type": "code",
      "execution_count": null,
      "metadata": {
        "colab": {
          "base_uri": "https://localhost:8080/"
        },
        "id": "21pK62mxFH6H",
        "outputId": "3b2c8e3d-6a62-42df-f8a5-de3827dd12b5"
      },
      "outputs": [
        {
          "name": "stdout",
          "output_type": "stream",
          "text": [
            "Collecting ultralytics\n",
            "  Downloading ultralytics-8.2.43-py3-none-any.whl (793 kB)\n",
            "\u001b[2K     \u001b[90m━━━━━━━━━━━━━━━━━━━━━━━━━━━━━━━━━━━━━━━━\u001b[0m \u001b[32m793.6/793.6 kB\u001b[0m \u001b[31m6.3 MB/s\u001b[0m eta \u001b[36m0:00:00\u001b[0m\n",
            "\u001b[?25hRequirement already satisfied: numpy<2.0.0,>=1.23.5 in /usr/local/lib/python3.10/dist-packages (from ultralytics) (1.25.2)\n",
            "Requirement already satisfied: matplotlib>=3.3.0 in /usr/local/lib/python3.10/dist-packages (from ultralytics) (3.7.1)\n",
            "Requirement already satisfied: opencv-python>=4.6.0 in /usr/local/lib/python3.10/dist-packages (from ultralytics) (4.8.0.76)\n",
            "Requirement already satisfied: pillow>=7.1.2 in /usr/local/lib/python3.10/dist-packages (from ultralytics) (9.4.0)\n",
            "Requirement already satisfied: pyyaml>=5.3.1 in /usr/local/lib/python3.10/dist-packages (from ultralytics) (6.0.1)\n",
            "Requirement already satisfied: requests>=2.23.0 in /usr/local/lib/python3.10/dist-packages (from ultralytics) (2.31.0)\n",
            "Requirement already satisfied: scipy>=1.4.1 in /usr/local/lib/python3.10/dist-packages (from ultralytics) (1.11.4)\n",
            "Requirement already satisfied: torch>=1.8.0 in /usr/local/lib/python3.10/dist-packages (from ultralytics) (2.3.0+cu121)\n",
            "Requirement already satisfied: torchvision>=0.9.0 in /usr/local/lib/python3.10/dist-packages (from ultralytics) (0.18.0+cu121)\n",
            "Requirement already satisfied: tqdm>=4.64.0 in /usr/local/lib/python3.10/dist-packages (from ultralytics) (4.66.4)\n",
            "Requirement already satisfied: psutil in /usr/local/lib/python3.10/dist-packages (from ultralytics) (5.9.5)\n",
            "Requirement already satisfied: py-cpuinfo in /usr/local/lib/python3.10/dist-packages (from ultralytics) (9.0.0)\n",
            "Requirement already satisfied: pandas>=1.1.4 in /usr/local/lib/python3.10/dist-packages (from ultralytics) (2.0.3)\n",
            "Requirement already satisfied: seaborn>=0.11.0 in /usr/local/lib/python3.10/dist-packages (from ultralytics) (0.13.1)\n",
            "Collecting ultralytics-thop>=2.0.0 (from ultralytics)\n",
            "  Downloading ultralytics_thop-2.0.0-py3-none-any.whl (25 kB)\n",
            "Requirement already satisfied: contourpy>=1.0.1 in /usr/local/lib/python3.10/dist-packages (from matplotlib>=3.3.0->ultralytics) (1.2.1)\n",
            "Requirement already satisfied: cycler>=0.10 in /usr/local/lib/python3.10/dist-packages (from matplotlib>=3.3.0->ultralytics) (0.12.1)\n",
            "Requirement already satisfied: fonttools>=4.22.0 in /usr/local/lib/python3.10/dist-packages (from matplotlib>=3.3.0->ultralytics) (4.53.0)\n",
            "Requirement already satisfied: kiwisolver>=1.0.1 in /usr/local/lib/python3.10/dist-packages (from matplotlib>=3.3.0->ultralytics) (1.4.5)\n",
            "Requirement already satisfied: packaging>=20.0 in /usr/local/lib/python3.10/dist-packages (from matplotlib>=3.3.0->ultralytics) (24.1)\n",
            "Requirement already satisfied: pyparsing>=2.3.1 in /usr/local/lib/python3.10/dist-packages (from matplotlib>=3.3.0->ultralytics) (3.1.2)\n",
            "Requirement already satisfied: python-dateutil>=2.7 in /usr/local/lib/python3.10/dist-packages (from matplotlib>=3.3.0->ultralytics) (2.8.2)\n",
            "Requirement already satisfied: pytz>=2020.1 in /usr/local/lib/python3.10/dist-packages (from pandas>=1.1.4->ultralytics) (2023.4)\n",
            "Requirement already satisfied: tzdata>=2022.1 in /usr/local/lib/python3.10/dist-packages (from pandas>=1.1.4->ultralytics) (2024.1)\n",
            "Requirement already satisfied: charset-normalizer<4,>=2 in /usr/local/lib/python3.10/dist-packages (from requests>=2.23.0->ultralytics) (3.3.2)\n",
            "Requirement already satisfied: idna<4,>=2.5 in /usr/local/lib/python3.10/dist-packages (from requests>=2.23.0->ultralytics) (3.7)\n",
            "Requirement already satisfied: urllib3<3,>=1.21.1 in /usr/local/lib/python3.10/dist-packages (from requests>=2.23.0->ultralytics) (2.0.7)\n",
            "Requirement already satisfied: certifi>=2017.4.17 in /usr/local/lib/python3.10/dist-packages (from requests>=2.23.0->ultralytics) (2024.6.2)\n",
            "Requirement already satisfied: filelock in /usr/local/lib/python3.10/dist-packages (from torch>=1.8.0->ultralytics) (3.15.3)\n",
            "Requirement already satisfied: typing-extensions>=4.8.0 in /usr/local/lib/python3.10/dist-packages (from torch>=1.8.0->ultralytics) (4.12.2)\n",
            "Requirement already satisfied: sympy in /usr/local/lib/python3.10/dist-packages (from torch>=1.8.0->ultralytics) (1.12.1)\n",
            "Requirement already satisfied: networkx in /usr/local/lib/python3.10/dist-packages (from torch>=1.8.0->ultralytics) (3.3)\n",
            "Requirement already satisfied: jinja2 in /usr/local/lib/python3.10/dist-packages (from torch>=1.8.0->ultralytics) (3.1.4)\n",
            "Requirement already satisfied: fsspec in /usr/local/lib/python3.10/dist-packages (from torch>=1.8.0->ultralytics) (2023.6.0)\n",
            "Collecting nvidia-cuda-nvrtc-cu12==12.1.105 (from torch>=1.8.0->ultralytics)\n",
            "  Using cached nvidia_cuda_nvrtc_cu12-12.1.105-py3-none-manylinux1_x86_64.whl (23.7 MB)\n",
            "Collecting nvidia-cuda-runtime-cu12==12.1.105 (from torch>=1.8.0->ultralytics)\n",
            "  Using cached nvidia_cuda_runtime_cu12-12.1.105-py3-none-manylinux1_x86_64.whl (823 kB)\n",
            "Collecting nvidia-cuda-cupti-cu12==12.1.105 (from torch>=1.8.0->ultralytics)\n",
            "  Using cached nvidia_cuda_cupti_cu12-12.1.105-py3-none-manylinux1_x86_64.whl (14.1 MB)\n",
            "Collecting nvidia-cudnn-cu12==8.9.2.26 (from torch>=1.8.0->ultralytics)\n",
            "  Using cached nvidia_cudnn_cu12-8.9.2.26-py3-none-manylinux1_x86_64.whl (731.7 MB)\n",
            "Collecting nvidia-cublas-cu12==12.1.3.1 (from torch>=1.8.0->ultralytics)\n",
            "  Using cached nvidia_cublas_cu12-12.1.3.1-py3-none-manylinux1_x86_64.whl (410.6 MB)\n",
            "Collecting nvidia-cufft-cu12==11.0.2.54 (from torch>=1.8.0->ultralytics)\n",
            "  Using cached nvidia_cufft_cu12-11.0.2.54-py3-none-manylinux1_x86_64.whl (121.6 MB)\n",
            "Collecting nvidia-curand-cu12==10.3.2.106 (from torch>=1.8.0->ultralytics)\n",
            "  Using cached nvidia_curand_cu12-10.3.2.106-py3-none-manylinux1_x86_64.whl (56.5 MB)\n",
            "Collecting nvidia-cusolver-cu12==11.4.5.107 (from torch>=1.8.0->ultralytics)\n",
            "  Using cached nvidia_cusolver_cu12-11.4.5.107-py3-none-manylinux1_x86_64.whl (124.2 MB)\n",
            "Collecting nvidia-cusparse-cu12==12.1.0.106 (from torch>=1.8.0->ultralytics)\n",
            "  Using cached nvidia_cusparse_cu12-12.1.0.106-py3-none-manylinux1_x86_64.whl (196.0 MB)\n",
            "Collecting nvidia-nccl-cu12==2.20.5 (from torch>=1.8.0->ultralytics)\n",
            "  Using cached nvidia_nccl_cu12-2.20.5-py3-none-manylinux2014_x86_64.whl (176.2 MB)\n",
            "Collecting nvidia-nvtx-cu12==12.1.105 (from torch>=1.8.0->ultralytics)\n",
            "  Using cached nvidia_nvtx_cu12-12.1.105-py3-none-manylinux1_x86_64.whl (99 kB)\n",
            "Requirement already satisfied: triton==2.3.0 in /usr/local/lib/python3.10/dist-packages (from torch>=1.8.0->ultralytics) (2.3.0)\n",
            "Collecting nvidia-nvjitlink-cu12 (from nvidia-cusolver-cu12==11.4.5.107->torch>=1.8.0->ultralytics)\n",
            "  Downloading nvidia_nvjitlink_cu12-12.5.40-py3-none-manylinux2014_x86_64.whl (21.3 MB)\n",
            "\u001b[2K     \u001b[90m━━━━━━━━━━━━━━━━━━━━━━━━━━━━━━━━━━━━━━━━\u001b[0m \u001b[32m21.3/21.3 MB\u001b[0m \u001b[31m14.3 MB/s\u001b[0m eta \u001b[36m0:00:00\u001b[0m\n",
            "\u001b[?25hRequirement already satisfied: six>=1.5 in /usr/local/lib/python3.10/dist-packages (from python-dateutil>=2.7->matplotlib>=3.3.0->ultralytics) (1.16.0)\n",
            "Requirement already satisfied: MarkupSafe>=2.0 in /usr/local/lib/python3.10/dist-packages (from jinja2->torch>=1.8.0->ultralytics) (2.1.5)\n",
            "Requirement already satisfied: mpmath<1.4.0,>=1.1.0 in /usr/local/lib/python3.10/dist-packages (from sympy->torch>=1.8.0->ultralytics) (1.3.0)\n",
            "Installing collected packages: nvidia-nvtx-cu12, nvidia-nvjitlink-cu12, nvidia-nccl-cu12, nvidia-curand-cu12, nvidia-cufft-cu12, nvidia-cuda-runtime-cu12, nvidia-cuda-nvrtc-cu12, nvidia-cuda-cupti-cu12, nvidia-cublas-cu12, nvidia-cusparse-cu12, nvidia-cudnn-cu12, nvidia-cusolver-cu12, ultralytics-thop, ultralytics\n",
            "Successfully installed nvidia-cublas-cu12-12.1.3.1 nvidia-cuda-cupti-cu12-12.1.105 nvidia-cuda-nvrtc-cu12-12.1.105 nvidia-cuda-runtime-cu12-12.1.105 nvidia-cudnn-cu12-8.9.2.26 nvidia-cufft-cu12-11.0.2.54 nvidia-curand-cu12-10.3.2.106 nvidia-cusolver-cu12-11.4.5.107 nvidia-cusparse-cu12-12.1.0.106 nvidia-nccl-cu12-2.20.5 nvidia-nvjitlink-cu12-12.5.40 nvidia-nvtx-cu12-12.1.105 ultralytics-8.2.43 ultralytics-thop-2.0.0\n",
            "Collecting wandb\n",
            "  Downloading wandb-0.17.3-py3-none-manylinux_2_5_x86_64.manylinux1_x86_64.manylinux_2_17_x86_64.manylinux2014_x86_64.whl (6.9 MB)\n",
            "\u001b[2K     \u001b[90m━━━━━━━━━━━━━━━━━━━━━━━━━━━━━━━━━━━━━━━━\u001b[0m \u001b[32m6.9/6.9 MB\u001b[0m \u001b[31m22.9 MB/s\u001b[0m eta \u001b[36m0:00:00\u001b[0m\n",
            "\u001b[?25hRequirement already satisfied: click!=8.0.0,>=7.1 in /usr/local/lib/python3.10/dist-packages (from wandb) (8.1.7)\n",
            "Collecting docker-pycreds>=0.4.0 (from wandb)\n",
            "  Downloading docker_pycreds-0.4.0-py2.py3-none-any.whl (9.0 kB)\n",
            "Collecting gitpython!=3.1.29,>=1.0.0 (from wandb)\n",
            "  Downloading GitPython-3.1.43-py3-none-any.whl (207 kB)\n",
            "\u001b[2K     \u001b[90m━━━━━━━━━━━━━━━━━━━━━━━━━━━━━━━━━━━━━━━━\u001b[0m \u001b[32m207.3/207.3 kB\u001b[0m \u001b[31m28.3 MB/s\u001b[0m eta \u001b[36m0:00:00\u001b[0m\n",
            "\u001b[?25hRequirement already satisfied: platformdirs in /usr/local/lib/python3.10/dist-packages (from wandb) (4.2.2)\n",
            "Requirement already satisfied: protobuf!=4.21.0,<6,>=3.19.0 in /usr/local/lib/python3.10/dist-packages (from wandb) (3.20.3)\n",
            "Requirement already satisfied: psutil>=5.0.0 in /usr/local/lib/python3.10/dist-packages (from wandb) (5.9.5)\n",
            "Requirement already satisfied: pyyaml in /usr/local/lib/python3.10/dist-packages (from wandb) (6.0.1)\n",
            "Requirement already satisfied: requests<3,>=2.0.0 in /usr/local/lib/python3.10/dist-packages (from wandb) (2.31.0)\n",
            "Collecting sentry-sdk>=1.0.0 (from wandb)\n",
            "  Downloading sentry_sdk-2.7.0-py2.py3-none-any.whl (300 kB)\n",
            "\u001b[2K     \u001b[90m━━━━━━━━━━━━━━━━━━━━━━━━━━━━━━━━━━━━━━━━\u001b[0m \u001b[32m300.1/300.1 kB\u001b[0m \u001b[31m36.0 MB/s\u001b[0m eta \u001b[36m0:00:00\u001b[0m\n",
            "\u001b[?25hCollecting setproctitle (from wandb)\n",
            "  Downloading setproctitle-1.3.3-cp310-cp310-manylinux_2_5_x86_64.manylinux1_x86_64.manylinux_2_17_x86_64.manylinux2014_x86_64.whl (30 kB)\n",
            "Requirement already satisfied: setuptools in /usr/local/lib/python3.10/dist-packages (from wandb) (67.7.2)\n",
            "Requirement already satisfied: six>=1.4.0 in /usr/local/lib/python3.10/dist-packages (from docker-pycreds>=0.4.0->wandb) (1.16.0)\n",
            "Collecting gitdb<5,>=4.0.1 (from gitpython!=3.1.29,>=1.0.0->wandb)\n",
            "  Downloading gitdb-4.0.11-py3-none-any.whl (62 kB)\n",
            "\u001b[2K     \u001b[90m━━━━━━━━━━━━━━━━━━━━━━━━━━━━━━━━━━━━━━━━\u001b[0m \u001b[32m62.7/62.7 kB\u001b[0m \u001b[31m9.5 MB/s\u001b[0m eta \u001b[36m0:00:00\u001b[0m\n",
            "\u001b[?25hRequirement already satisfied: charset-normalizer<4,>=2 in /usr/local/lib/python3.10/dist-packages (from requests<3,>=2.0.0->wandb) (3.3.2)\n",
            "Requirement already satisfied: idna<4,>=2.5 in /usr/local/lib/python3.10/dist-packages (from requests<3,>=2.0.0->wandb) (3.7)\n",
            "Requirement already satisfied: urllib3<3,>=1.21.1 in /usr/local/lib/python3.10/dist-packages (from requests<3,>=2.0.0->wandb) (2.0.7)\n",
            "Requirement already satisfied: certifi>=2017.4.17 in /usr/local/lib/python3.10/dist-packages (from requests<3,>=2.0.0->wandb) (2024.6.2)\n",
            "Collecting smmap<6,>=3.0.1 (from gitdb<5,>=4.0.1->gitpython!=3.1.29,>=1.0.0->wandb)\n",
            "  Downloading smmap-5.0.1-py3-none-any.whl (24 kB)\n",
            "Installing collected packages: smmap, setproctitle, sentry-sdk, docker-pycreds, gitdb, gitpython, wandb\n",
            "Successfully installed docker-pycreds-0.4.0 gitdb-4.0.11 gitpython-3.1.43 sentry-sdk-2.7.0 setproctitle-1.3.3 smmap-5.0.1 wandb-0.17.3\n"
          ]
        }
      ],
      "source": [
        "!pip install ultralytics\n",
        "!pip install wandb"
      ]
    },
    {
      "cell_type": "code",
      "execution_count": null,
      "metadata": {
        "colab": {
          "base_uri": "https://localhost:8080/"
        },
        "id": "EXImchuf2L_K",
        "outputId": "57cd6b8a-08dc-4704-b214-0509f3968859"
      },
      "outputs": [
        {
          "name": "stdout",
          "output_type": "stream",
          "text": [
            "Collecting roboflow\n",
            "  Downloading roboflow-1.1.33-py3-none-any.whl (75 kB)\n",
            "\u001b[2K     \u001b[90m━━━━━━━━━━━━━━━━━━━━━━━━━━━━━━━━━━━━━━━━\u001b[0m \u001b[32m75.6/75.6 kB\u001b[0m \u001b[31m3.0 MB/s\u001b[0m eta \u001b[36m0:00:00\u001b[0m\n",
            "\u001b[?25hRequirement already satisfied: certifi in /usr/local/lib/python3.10/dist-packages (from roboflow) (2024.6.2)\n",
            "Collecting chardet==4.0.0 (from roboflow)\n",
            "  Downloading chardet-4.0.0-py2.py3-none-any.whl (178 kB)\n",
            "\u001b[2K     \u001b[90m━━━━━━━━━━━━━━━━━━━━━━━━━━━━━━━━━━━━━━━━\u001b[0m \u001b[32m178.7/178.7 kB\u001b[0m \u001b[31m6.2 MB/s\u001b[0m eta \u001b[36m0:00:00\u001b[0m\n",
            "\u001b[?25hRequirement already satisfied: idna==3.7 in /usr/local/lib/python3.10/dist-packages (from roboflow) (3.7)\n",
            "Requirement already satisfied: cycler in /usr/local/lib/python3.10/dist-packages (from roboflow) (0.12.1)\n",
            "Requirement already satisfied: kiwisolver>=1.3.1 in /usr/local/lib/python3.10/dist-packages (from roboflow) (1.4.5)\n",
            "Requirement already satisfied: matplotlib in /usr/local/lib/python3.10/dist-packages (from roboflow) (3.7.1)\n",
            "Requirement already satisfied: numpy>=1.18.5 in /usr/local/lib/python3.10/dist-packages (from roboflow) (1.25.2)\n",
            "Requirement already satisfied: opencv-python-headless==4.10.0.84 in /usr/local/lib/python3.10/dist-packages (from roboflow) (4.10.0.84)\n",
            "Requirement already satisfied: Pillow>=7.1.2 in /usr/local/lib/python3.10/dist-packages (from roboflow) (9.4.0)\n",
            "Requirement already satisfied: python-dateutil in /usr/local/lib/python3.10/dist-packages (from roboflow) (2.8.2)\n",
            "Collecting python-dotenv (from roboflow)\n",
            "  Downloading python_dotenv-1.0.1-py3-none-any.whl (19 kB)\n",
            "Requirement already satisfied: requests in /usr/local/lib/python3.10/dist-packages (from roboflow) (2.31.0)\n",
            "Requirement already satisfied: six in /usr/local/lib/python3.10/dist-packages (from roboflow) (1.16.0)\n",
            "Requirement already satisfied: urllib3>=1.26.6 in /usr/local/lib/python3.10/dist-packages (from roboflow) (2.0.7)\n",
            "Requirement already satisfied: tqdm>=4.41.0 in /usr/local/lib/python3.10/dist-packages (from roboflow) (4.66.4)\n",
            "Requirement already satisfied: PyYAML>=5.3.1 in /usr/local/lib/python3.10/dist-packages (from roboflow) (6.0.1)\n",
            "Collecting requests-toolbelt (from roboflow)\n",
            "  Downloading requests_toolbelt-1.0.0-py2.py3-none-any.whl (54 kB)\n",
            "\u001b[2K     \u001b[90m━━━━━━━━━━━━━━━━━━━━━━━━━━━━━━━━━━━━━━━━\u001b[0m \u001b[32m54.5/54.5 kB\u001b[0m \u001b[31m8.9 MB/s\u001b[0m eta \u001b[36m0:00:00\u001b[0m\n",
            "\u001b[?25hCollecting python-magic (from roboflow)\n",
            "  Downloading python_magic-0.4.27-py2.py3-none-any.whl (13 kB)\n",
            "Requirement already satisfied: contourpy>=1.0.1 in /usr/local/lib/python3.10/dist-packages (from matplotlib->roboflow) (1.2.1)\n",
            "Requirement already satisfied: fonttools>=4.22.0 in /usr/local/lib/python3.10/dist-packages (from matplotlib->roboflow) (4.53.0)\n",
            "Requirement already satisfied: packaging>=20.0 in /usr/local/lib/python3.10/dist-packages (from matplotlib->roboflow) (24.1)\n",
            "Requirement already satisfied: pyparsing>=2.3.1 in /usr/local/lib/python3.10/dist-packages (from matplotlib->roboflow) (3.1.2)\n",
            "Requirement already satisfied: charset-normalizer<4,>=2 in /usr/local/lib/python3.10/dist-packages (from requests->roboflow) (3.3.2)\n",
            "Installing collected packages: python-magic, python-dotenv, chardet, requests-toolbelt, roboflow\n",
            "  Attempting uninstall: chardet\n",
            "    Found existing installation: chardet 5.2.0\n",
            "    Uninstalling chardet-5.2.0:\n",
            "      Successfully uninstalled chardet-5.2.0\n",
            "Successfully installed chardet-4.0.0 python-dotenv-1.0.1 python-magic-0.4.27 requests-toolbelt-1.0.0 roboflow-1.1.33\n",
            "loading Roboflow workspace...\n",
            "loading Roboflow project...\n"
          ]
        },
        {
          "name": "stderr",
          "output_type": "stream",
          "text": [
            "Downloading Dataset Version Zip in 'prawn-morphotypes'-4 to yolov5pytorch:: 100%|██████████| 14543/14543 [00:00<00:00, 26590.27it/s]"
          ]
        },
        {
          "name": "stdout",
          "output_type": "stream",
          "text": [
            "\n"
          ]
        },
        {
          "name": "stderr",
          "output_type": "stream",
          "text": [
            "\n",
            "Extracting Dataset Version Zip to 'prawn-morphotypes'-4 in yolov5pytorch:: 100%|██████████| 536/536 [00:00<00:00, 6674.37it/s]\n"
          ]
        }
      ],
      "source": [
        "!pip install roboflow\n",
        "\n",
        "from roboflow import Roboflow\n",
        "rf = Roboflow(api_key=\"FH9GrrTUIrnVuHJnXAX0\")\n",
        "project = rf.workspace(\"prawns\").project(\"-prawn-morphotypes\")\n",
        "dataset = project.version(4).download(\"yolov5\")\n"
      ]
    },
    {
      "cell_type": "code",
      "execution_count": null,
      "metadata": {
        "colab": {
          "base_uri": "https://localhost:8080/",
          "height": 243
        },
        "id": "DCgLrDKHpEGW",
        "outputId": "87a55182-8b52-4935-8e47-5958a751cb05"
      },
      "outputs": [
        {
          "data": {
            "application/javascript": "\n        window._wandbApiKey = new Promise((resolve, reject) => {\n            function loadScript(url) {\n            return new Promise(function(resolve, reject) {\n                let newScript = document.createElement(\"script\");\n                newScript.onerror = reject;\n                newScript.onload = resolve;\n                document.body.appendChild(newScript);\n                newScript.src = url;\n            });\n            }\n            loadScript(\"https://cdn.jsdelivr.net/npm/postmate/build/postmate.min.js\").then(() => {\n            const iframe = document.createElement('iframe')\n            iframe.style.cssText = \"width:0;height:0;border:none\"\n            document.body.appendChild(iframe)\n            const handshake = new Postmate({\n                container: iframe,\n                url: 'https://wandb.ai/authorize'\n            });\n            const timeout = setTimeout(() => reject(\"Couldn't auto authenticate\"), 5000)\n            handshake.then(function(child) {\n                child.on('authorize', data => {\n                    clearTimeout(timeout)\n                    resolve(data)\n                });\n            });\n            })\n        });\n    ",
            "text/plain": [
              "<IPython.core.display.Javascript object>"
            ]
          },
          "metadata": {},
          "output_type": "display_data"
        },
        {
          "name": "stderr",
          "output_type": "stream",
          "text": [
            "\u001b[34m\u001b[1mwandb\u001b[0m: Logging into wandb.ai. (Learn how to deploy a W&B server locally: https://wandb.me/wandb-server)\n",
            "\u001b[34m\u001b[1mwandb\u001b[0m: You can find your API key in your browser here: https://wandb.ai/authorize\n",
            "wandb: Paste an API key from your profile and hit enter, or press ctrl+c to quit:"
          ]
        },
        {
          "name": "stdout",
          "output_type": "stream",
          "text": [
            " ··········\n"
          ]
        },
        {
          "name": "stderr",
          "output_type": "stream",
          "text": [
            "\u001b[34m\u001b[1mwandb\u001b[0m: Appending key for api.wandb.ai to your netrc file: /root/.netrc\n"
          ]
        },
        {
          "data": {
            "text/html": [
              "Tracking run with wandb version 0.17.3"
            ],
            "text/plain": [
              "<IPython.core.display.HTML object>"
            ]
          },
          "metadata": {},
          "output_type": "display_data"
        },
        {
          "data": {
            "text/html": [
              "Run data is saved locally in <code>/content/wandb/run-20240625_090548-hfxgmca6</code>"
            ],
            "text/plain": [
              "<IPython.core.display.HTML object>"
            ]
          },
          "metadata": {},
          "output_type": "display_data"
        },
        {
          "data": {
            "text/html": [
              "Syncing run <strong><a href='https://wandb.ai/prawns/uncategorized/runs/hfxgmca6' target=\"_blank\">divine-deluge-19</a></strong> to <a href='https://wandb.ai/prawns/uncategorized' target=\"_blank\">Weights & Biases</a> (<a href='https://wandb.me/run' target=\"_blank\">docs</a>)<br/>"
            ],
            "text/plain": [
              "<IPython.core.display.HTML object>"
            ]
          },
          "metadata": {},
          "output_type": "display_data"
        },
        {
          "data": {
            "text/html": [
              " View project at <a href='https://wandb.ai/prawns/uncategorized' target=\"_blank\">https://wandb.ai/prawns/uncategorized</a>"
            ],
            "text/plain": [
              "<IPython.core.display.HTML object>"
            ]
          },
          "metadata": {},
          "output_type": "display_data"
        },
        {
          "data": {
            "text/html": [
              " View run at <a href='https://wandb.ai/prawns/uncategorized/runs/hfxgmca6' target=\"_blank\">https://wandb.ai/prawns/uncategorized/runs/hfxgmca6</a>"
            ],
            "text/plain": [
              "<IPython.core.display.HTML object>"
            ]
          },
          "metadata": {},
          "output_type": "display_data"
        },
        {
          "name": "stderr",
          "output_type": "stream",
          "text": [
            "\u001b[34m\u001b[1mwandb\u001b[0m: Downloading large artifact yolov8-only_31.12_-segment_segment.pt:v31, 263.64MB. 1 files... \n",
            "\u001b[34m\u001b[1mwandb\u001b[0m:   1 of 1 files downloaded.  \n",
            "Done. 0:0:18.0\n"
          ]
        }
      ],
      "source": [
        "import wandb\n",
        "run = wandb.init()\n",
        "artifact = run.use_artifact('prawns/measurement paper/yolov8-only_31.12_-segment_segment.pt:v31', type='model')\n",
        "artifact_dir = artifact.download()"
      ]
    },
    {
      "cell_type": "code",
      "execution_count": null,
      "metadata": {
        "id": "pj5SYi_yFH6J"
      },
      "outputs": [],
      "source": [
        "from YOLOtowandb import WandbCallback\n",
        "\n",
        "from pathlib import Path\n",
        "import wandb\n",
        "import re\n",
        "\n",
        "from ultralytics import YOLO\n",
        "\n",
        "# Load a COCO-pretrained RT-DETR-l model\n",
        "import wandb\n"
      ]
    },
    {
      "cell_type": "code",
      "execution_count": null,
      "metadata": {
        "colab": {
          "base_uri": "https://localhost:8080/"
        },
        "id": "z05Xss1qDayP",
        "outputId": "1b2166d9-1d37-4605-8b47-b7eefa8ffa41"
      },
      "outputs": [
        {
          "name": "stdout",
          "output_type": "stream",
          "text": [
            "Mounted at /content/drive\n"
          ]
        }
      ],
      "source": [
        "from google.colab import drive\n",
        "drive.mount('/content/drive')"
      ]
    },
    {
      "cell_type": "code",
      "execution_count": null,
      "metadata": {
        "colab": {
          "base_uri": "https://localhost:8080/"
        },
        "id": "aVJ76qC82L_L",
        "outputId": "289b2a5d-fffa-4aaa-e9b0-5e58eeb0e3df"
      },
      "outputs": [
        {
          "data": {
            "text/plain": [
              "<module 'yolov8l16' from '/content/yolov8l16.py'>"
            ]
          },
          "execution_count": 5,
          "metadata": {},
          "output_type": "execute_result"
        }
      ],
      "source": [
        "import importlib\n",
        "import YOLOtowandb\n",
        "\n",
        "importlib.reload(YOLOtowandb)"
      ]
    },
    {
      "cell_type": "code",
      "execution_count": null,
      "metadata": {
        "colab": {
          "base_uri": "https://localhost:8080/"
        },
        "id": "i14UZlKO2L_L",
        "outputId": "b874c949-438d-4c84-b9b1-64425587b846"
      },
      "outputs": [
        {
          "name": "stdout",
          "output_type": "stream",
          "text": [
            "Downloading https://github.com/ultralytics/assets/releases/download/v8.2.0/yolov8x-seg.pt to 'yolov8x-seg.pt'...\n"
          ]
        },
        {
          "name": "stderr",
          "output_type": "stream",
          "text": [
            "100%|██████████| 137M/137M [00:00<00:00, 322MB/s]\n"
          ]
        }
      ],
      "source": [
        "model = YOLO(\"yolov8l-pose.pt\")  # load a pretrained model (recommended for training)\n"
      ]
    },
    {
      "cell_type": "code",
      "execution_count": null,
      "metadata": {
        "id": "gnJ14wJz2L_L"
      },
      "outputs": [],
      "source": [
        "\n",
        "wandb_logger = WandbCallback(\n",
        "        model,project='measurement paper',run_name='yolov8-right_keypoint',tags=['keypoint','yolov8l-pose.pt']\n",
        "    )\n",
        "\n",
        "for event, callback_fn in wandb_logger.callbacks.items():\n",
        "    model.add_callback(event, callback_fn)"
      ]
    },
    {
      "cell_type": "markdown",
      "metadata": {
        "id": "iOsk1XDEaYRo"
      },
      "source": [
        "## train notice yaml addresses ##"
      ]
    },
    {
      "cell_type": "code",
      "execution_count": null,
      "metadata": {
        "colab": {
          "base_uri": "https://localhost:8080/",
          "height": 1000,
          "referenced_widgets": [
            "1c6bd8120e734e56b5487cd053f83278",
            "fdf8908de8394417b886b2c3778233ed",
            "6ff4c76b803a47289438e0441783a9fc",
            "d8c29e5dae0e4c93be7d7f1fbb6bd108",
            "fd56d530428e45efbbb9895bc38959e6",
            "d08b14b8dd7f4235be3f707e3ccf537a",
            "de9aaa93250f4ace9680a13585a17c19",
            "4870583b9b89419d8c5e6a1950a95273"
          ]
        },
        "id": "cxGXiR4CFH6J",
        "outputId": "2c8387cc-4653-4751-e71f-35e863f1b157"
      },
      "outputs": [],
      "source": [
        "model.train(data=\"/content/drive/MyDrive/colab experiments/to colab only 31-12 segment with 76/data.yaml\", epochs=300, imgsz=640, seed=42,batch=8,patience=50)\n"
      ]
    },
    {
      "cell_type": "code",
      "execution_count": null,
      "metadata": {
        "colab": {
          "base_uri": "https://localhost:8080/",
          "height": 489
        },
        "id": "cLry5CmAsTRO",
        "outputId": "d95b1011-91b0-4219-8734-5ccd42be8b0d"
      },
      "outputs": [
        {
          "name": "stdout",
          "output_type": "stream",
          "text": [
            "Ultralytics YOLOv8.2.43 🚀 Python-3.10.12 torch-2.3.0+cu121 CPU (Intel Xeon 2.20GHz)\n",
            "YOLOv8x-seg summary (fused): 295 layers, 71721619 parameters, 0 gradients, 343.7 GFLOPs\n",
            "\n",
            "\u001b[34m\u001b[1mPyTorch:\u001b[0m starting from '/content/runs/segment/train/weights/best.pt' with input shape (1, 3, 640, 640) BCHW and output shape(s) ((1, 37, 8400), (1, 32, 160, 160)) (137.3 MB)\n",
            "\u001b[31m\u001b[1mrequirements:\u001b[0m Ultralytics requirement ['onnx>=1.12.0'] not found, attempting AutoUpdate...\n",
            "Collecting onnx>=1.12.0\n",
            "  Downloading onnx-1.16.1-cp310-cp310-manylinux_2_17_x86_64.manylinux2014_x86_64.whl (15.9 MB)\n",
            "     ━━━━━━━━━━━━━━━━━━━━━━━━━━━━━━━━━━━━━━━━ 15.9/15.9 MB 73.0 MB/s eta 0:00:00\n",
            "Requirement already satisfied: numpy>=1.20 in /usr/local/lib/python3.10/dist-packages (from onnx>=1.12.0) (1.25.2)\n",
            "Requirement already satisfied: protobuf>=3.20.2 in /usr/local/lib/python3.10/dist-packages (from onnx>=1.12.0) (3.20.3)\n",
            "Installing collected packages: onnx\n",
            "Successfully installed onnx-1.16.1\n",
            "\n",
            "\u001b[31m\u001b[1mrequirements:\u001b[0m AutoUpdate success ✅ 15.4s, installed 1 package: ['onnx>=1.12.0']\n",
            "\u001b[31m\u001b[1mrequirements:\u001b[0m ⚠️ \u001b[1mRestart runtime or rerun command for updates to take effect\u001b[0m\n",
            "\n",
            "\n",
            "\u001b[34m\u001b[1mONNX:\u001b[0m starting export with onnx 1.16.1 opset 17...\n",
            "\u001b[34m\u001b[1mONNX:\u001b[0m export success ✅ 30.8s, saved as '/content/runs/segment/train/weights/best.onnx' (273.8 MB)\n",
            "\n",
            "Export complete (48.8s)\n",
            "Results saved to \u001b[1m/content/runs/segment/train/weights\u001b[0m\n",
            "Predict:         yolo predict task=segment model=/content/runs/segment/train/weights/best.onnx imgsz=640  \n",
            "Validate:        yolo val task=segment model=/content/runs/segment/train/weights/best.onnx imgsz=640 data=/content/drive/MyDrive/colab experiments/to colab only 31-12 segment with 76/data.yaml  \n",
            "Visualize:       https://netron.app\n"
          ]
        },
        {
          "data": {
            "application/vnd.google.colaboratory.intrinsic+json": {
              "type": "string"
            },
            "text/plain": [
              "'/content/runs/segment/train/weights/best.onnx'"
            ]
          },
          "execution_count": 8,
          "metadata": {},
          "output_type": "execute_result"
        }
      ],
      "source": [
        "model = YOLO(\"/content/runs/segment/train/weights/best.pt\")  # load a custom trained model\n",
        "\n",
        "# Export the model\n",
        "model.export(format=\"onnx\")"
      ]
    },
    {
      "cell_type": "code",
      "execution_count": 2,
      "metadata": {},
      "outputs": [
        {
          "name": "stdout",
          "output_type": "stream",
          "text": [
            "\n",
            "image 1/8 C:\\Users\\gbo10\\OneDrive\\measurement_paper_images\\molt\\car\\vlcsnap-2024-08-21-09h59m04s677.png: 384x640 2 prawn-models, 843.4ms\n",
            "image 2/8 C:\\Users\\gbo10\\OneDrive\\measurement_paper_images\\molt\\car\\vlcsnap-2024-08-21-09h59m15s457.png: 384x640 1 prawn-model, 559.1ms\n",
            "image 3/8 C:\\Users\\gbo10\\OneDrive\\measurement_paper_images\\molt\\car\\vlcsnap-2024-08-21-09h59m22s822.png: 384x640 1 prawn-model, 535.1ms\n",
            "image 4/8 C:\\Users\\gbo10\\OneDrive\\measurement_paper_images\\molt\\car\\vlcsnap-2024-08-21-09h59m36s414.png: 384x640 2 prawn-models, 534.0ms\n",
            "image 5/8 C:\\Users\\gbo10\\OneDrive\\measurement_paper_images\\molt\\car\\vlcsnap-2024-08-21-10h00m05s421.png: 384x640 2 prawn-models, 566.3ms\n",
            "image 6/8 C:\\Users\\gbo10\\OneDrive\\measurement_paper_images\\molt\\car\\vlcsnap-2024-08-21-10h00m11s774.png: 384x640 2 prawn-models, 502.0ms\n",
            "image 7/8 C:\\Users\\gbo10\\OneDrive\\measurement_paper_images\\molt\\car\\vlcsnap-2024-08-21-10h00m21s010.png: 384x640 2 prawn-models, 583.9ms\n",
            "image 8/8 C:\\Users\\gbo10\\OneDrive\\measurement_paper_images\\molt\\car\\vlcsnap-2024-08-21-10h00m33s910.png: 384x640 2 prawn-models, 504.4ms\n",
            "Speed: 6.2ms preprocess, 578.5ms inference, 8.4ms postprocess per image at shape (1, 3, 384, 640)\n",
            "Results saved to \u001b[1mc:\\Users\\gbo10\\Videos\\data-science\\Research-counting-algorithms\\runs\\pose\\predict20\u001b[0m\n",
            "8 labels saved to c:\\Users\\gbo10\\Videos\\data-science\\Research-counting-algorithms\\runs\\pose\\predict20\\labels\n"
          ]
        },
        {
          "data": {
            "text/plain": [
              "[ultralytics.engine.results.Results object with attributes:\n",
              " \n",
              " boxes: ultralytics.engine.results.Boxes object\n",
              " keypoints: ultralytics.engine.results.Keypoints object\n",
              " masks: None\n",
              " names: {0: 'prawn-model'}\n",
              " obb: None\n",
              " orig_img: array([[[ 0,  0,  0],\n",
              "         [ 0,  0,  0],\n",
              "         [ 0,  0,  0],\n",
              "         ...,\n",
              "         [60, 58,  7],\n",
              "         [61, 59,  8],\n",
              "         [61, 59,  8]],\n",
              " \n",
              "        [[ 0,  0,  0],\n",
              "         [ 0,  0,  0],\n",
              "         [ 0,  0,  0],\n",
              "         ...,\n",
              "         [60, 58,  7],\n",
              "         [61, 59,  8],\n",
              "         [61, 59,  8]],\n",
              " \n",
              "        [[ 0,  0,  0],\n",
              "         [ 0,  0,  0],\n",
              "         [ 0,  0,  0],\n",
              "         ...,\n",
              "         [60, 58,  7],\n",
              "         [60, 58,  7],\n",
              "         [61, 59,  8]],\n",
              " \n",
              "        ...,\n",
              " \n",
              "        [[ 0,  0,  3],\n",
              "         [ 0,  2,  5],\n",
              "         [ 0,  3,  6],\n",
              "         ...,\n",
              "         [69, 70,  9],\n",
              "         [68, 69,  8],\n",
              "         [68, 69,  8]],\n",
              " \n",
              "        [[ 0,  0,  6],\n",
              "         [ 0,  0,  8],\n",
              "         [ 0,  0,  9],\n",
              "         ...,\n",
              "         [79, 69,  8],\n",
              "         [79, 69,  8],\n",
              "         [79, 69,  8]],\n",
              " \n",
              "        [[ 3,  0, 14],\n",
              "         [ 4,  0, 15],\n",
              "         [ 5,  0, 16],\n",
              "         ...,\n",
              "         [76, 66,  5],\n",
              "         [76, 66,  5],\n",
              "         [76, 66,  5]]], dtype=uint8)\n",
              " orig_shape: (2988, 5312)\n",
              " path: 'C:\\\\Users\\\\gbo10\\\\OneDrive\\\\measurement_paper_images\\\\molt\\\\car\\\\vlcsnap-2024-08-21-09h59m04s677.png'\n",
              " probs: None\n",
              " save_dir: 'c:\\\\Users\\\\gbo10\\\\Videos\\\\data-science\\\\Research-counting-algorithms\\\\runs\\\\pose\\\\predict20'\n",
              " speed: {'preprocess': 28.59044075012207, 'inference': 843.4057235717773, 'postprocess': 46.262502670288086},\n",
              " ultralytics.engine.results.Results object with attributes:\n",
              " \n",
              " boxes: ultralytics.engine.results.Boxes object\n",
              " keypoints: ultralytics.engine.results.Keypoints object\n",
              " masks: None\n",
              " names: {0: 'prawn-model'}\n",
              " obb: None\n",
              " orig_img: array([[[ 0,  0,  0],\n",
              "         [ 0,  0,  0],\n",
              "         [ 0,  0,  0],\n",
              "         ...,\n",
              "         [58, 53,  6],\n",
              "         [59, 54,  7],\n",
              "         [59, 54,  7]],\n",
              " \n",
              "        [[ 0,  0,  0],\n",
              "         [ 0,  0,  0],\n",
              "         [ 0,  0,  0],\n",
              "         ...,\n",
              "         [58, 53,  6],\n",
              "         [58, 53,  6],\n",
              "         [58, 53,  6]],\n",
              " \n",
              "        [[ 0,  0,  0],\n",
              "         [ 0,  0,  0],\n",
              "         [ 0,  0,  0],\n",
              "         ...,\n",
              "         [58, 53,  6],\n",
              "         [57, 52,  5],\n",
              "         [57, 52,  5]],\n",
              " \n",
              "        ...,\n",
              " \n",
              "        [[ 0,  0,  0],\n",
              "         [ 0,  0,  0],\n",
              "         [ 0,  0,  0],\n",
              "         ...,\n",
              "         [73, 73, 23],\n",
              "         [79, 79, 29],\n",
              "         [67, 67, 17]],\n",
              " \n",
              "        [[ 0,  0,  0],\n",
              "         [ 0,  0,  0],\n",
              "         [ 0,  0,  3],\n",
              "         ...,\n",
              "         [69, 54, 16],\n",
              "         [74, 59, 21],\n",
              "         [58, 43,  5]],\n",
              " \n",
              "        [[ 0,  0,  0],\n",
              "         [ 0,  0,  0],\n",
              "         [ 0,  0,  4],\n",
              "         ...,\n",
              "         [77, 62, 24],\n",
              "         [89, 74, 36],\n",
              "         [72, 57, 19]]], dtype=uint8)\n",
              " orig_shape: (2988, 5312)\n",
              " path: 'C:\\\\Users\\\\gbo10\\\\OneDrive\\\\measurement_paper_images\\\\molt\\\\car\\\\vlcsnap-2024-08-21-09h59m15s457.png'\n",
              " probs: None\n",
              " save_dir: 'c:\\\\Users\\\\gbo10\\\\Videos\\\\data-science\\\\Research-counting-algorithms\\\\runs\\\\pose\\\\predict20'\n",
              " speed: {'preprocess': 3.0066967010498047, 'inference': 559.1073036193848, 'postprocess': 11.511802673339844},\n",
              " ultralytics.engine.results.Results object with attributes:\n",
              " \n",
              " boxes: ultralytics.engine.results.Boxes object\n",
              " keypoints: ultralytics.engine.results.Keypoints object\n",
              " masks: None\n",
              " names: {0: 'prawn-model'}\n",
              " obb: None\n",
              " orig_img: array([[[111, 123,  31],\n",
              "         [111, 123,  31],\n",
              "         [110, 122,  30],\n",
              "         ...,\n",
              "         [  2,   2,  30],\n",
              "         [  3,   2,  32],\n",
              "         [  3,   2,  32]],\n",
              " \n",
              "        [[109, 121,  29],\n",
              "         [110, 122,  30],\n",
              "         [110, 122,  30],\n",
              "         ...,\n",
              "         [  1,   1,  29],\n",
              "         [  1,   0,  30],\n",
              "         [  1,   0,  30]],\n",
              " \n",
              "        [[107, 119,  27],\n",
              "         [109, 121,  29],\n",
              "         [110, 122,  30],\n",
              "         ...,\n",
              "         [  0,   0,  26],\n",
              "         [  0,   0,  26],\n",
              "         [  0,   0,  25]],\n",
              " \n",
              "        ...,\n",
              " \n",
              "        [[ 55,  94,   0],\n",
              "         [ 55,  94,   0],\n",
              "         [ 55,  94,   0],\n",
              "         ...,\n",
              "         [  0,   0,   0],\n",
              "         [  0,   0,   0],\n",
              "         [  0,   0,   0]],\n",
              " \n",
              "        [[ 76,  86,   7],\n",
              "         [ 76,  86,   7],\n",
              "         [ 76,  86,   7],\n",
              "         ...,\n",
              "         [  0,   0,   0],\n",
              "         [  0,   0,   0],\n",
              "         [  0,   0,   0]],\n",
              " \n",
              "        [[ 80,  90,  11],\n",
              "         [ 80,  90,  11],\n",
              "         [ 80,  90,  11],\n",
              "         ...,\n",
              "         [  0,   0,   0],\n",
              "         [  0,   0,   0],\n",
              "         [  0,   0,   0]]], dtype=uint8)\n",
              " orig_shape: (2988, 5312)\n",
              " path: 'C:\\\\Users\\\\gbo10\\\\OneDrive\\\\measurement_paper_images\\\\molt\\\\car\\\\vlcsnap-2024-08-21-09h59m22s822.png'\n",
              " probs: None\n",
              " save_dir: 'c:\\\\Users\\\\gbo10\\\\Videos\\\\data-science\\\\Research-counting-algorithms\\\\runs\\\\pose\\\\predict20'\n",
              " speed: {'preprocess': 1.9693374633789062, 'inference': 535.0689888000488, 'postprocess': 1.607656478881836},\n",
              " ultralytics.engine.results.Results object with attributes:\n",
              " \n",
              " boxes: ultralytics.engine.results.Boxes object\n",
              " keypoints: ultralytics.engine.results.Keypoints object\n",
              " masks: None\n",
              " names: {0: 'prawn-model'}\n",
              " obb: None\n",
              " orig_img: array([[[79, 91,  0],\n",
              "         [80, 92,  0],\n",
              "         [82, 94,  0],\n",
              "         ...,\n",
              "         [ 0,  9, 10],\n",
              "         [ 0,  9, 10],\n",
              "         [ 1, 10, 11]],\n",
              " \n",
              "        [[78, 90,  0],\n",
              "         [79, 91,  0],\n",
              "         [80, 92,  0],\n",
              "         ...,\n",
              "         [ 0,  9, 10],\n",
              "         [ 1, 10, 11],\n",
              "         [ 1, 10, 11]],\n",
              " \n",
              "        [[76, 88,  0],\n",
              "         [77, 89,  0],\n",
              "         [78, 90,  0],\n",
              "         ...,\n",
              "         [ 1, 10, 11],\n",
              "         [ 1, 10, 11],\n",
              "         [ 2, 11, 12]],\n",
              " \n",
              "        ...,\n",
              " \n",
              "        [[51, 66,  0],\n",
              "         [53, 68,  0],\n",
              "         [43, 74,  0],\n",
              "         ...,\n",
              "         [ 0,  0,  9],\n",
              "         [ 0,  0,  9],\n",
              "         [ 0,  0,  9]],\n",
              " \n",
              "        [[58, 62,  0],\n",
              "         [59, 63,  0],\n",
              "         [55, 65,  0],\n",
              "         ...,\n",
              "         [ 0,  0, 12],\n",
              "         [ 0,  0, 12],\n",
              "         [ 0,  0, 12]],\n",
              " \n",
              "        [[65, 69,  0],\n",
              "         [66, 70,  0],\n",
              "         [62, 72,  0],\n",
              "         ...,\n",
              "         [ 2,  0, 19],\n",
              "         [ 2,  0, 19],\n",
              "         [ 2,  0, 19]]], dtype=uint8)\n",
              " orig_shape: (2988, 5312)\n",
              " path: 'C:\\\\Users\\\\gbo10\\\\OneDrive\\\\measurement_paper_images\\\\molt\\\\car\\\\vlcsnap-2024-08-21-09h59m36s414.png'\n",
              " probs: None\n",
              " save_dir: 'c:\\\\Users\\\\gbo10\\\\Videos\\\\data-science\\\\Research-counting-algorithms\\\\runs\\\\pose\\\\predict20'\n",
              " speed: {'preprocess': 2.9230117797851562, 'inference': 534.0316295623779, 'postprocess': 2.000093460083008},\n",
              " ultralytics.engine.results.Results object with attributes:\n",
              " \n",
              " boxes: ultralytics.engine.results.Boxes object\n",
              " keypoints: ultralytics.engine.results.Keypoints object\n",
              " masks: None\n",
              " names: {0: 'prawn-model'}\n",
              " obb: None\n",
              " orig_img: array([[[23, 28, 11],\n",
              "         [22, 27, 10],\n",
              "         [19, 24,  7],\n",
              "         ...,\n",
              "         [66, 64,  0],\n",
              "         [66, 64,  0],\n",
              "         [67, 65,  0]],\n",
              " \n",
              "        [[23, 28, 11],\n",
              "         [20, 25,  8],\n",
              "         [19, 24,  7],\n",
              "         ...,\n",
              "         [67, 65,  0],\n",
              "         [67, 65,  0],\n",
              "         [67, 65,  0]],\n",
              " \n",
              "        [[22, 27, 10],\n",
              "         [20, 25,  8],\n",
              "         [19, 24,  7],\n",
              "         ...,\n",
              "         [67, 65,  0],\n",
              "         [67, 65,  0],\n",
              "         [66, 64,  0]],\n",
              " \n",
              "        ...,\n",
              " \n",
              "        [[ 0,  0,  0],\n",
              "         [ 0,  0,  0],\n",
              "         [ 0,  2,  0],\n",
              "         ...,\n",
              "         [68, 59,  4],\n",
              "         [68, 59,  4],\n",
              "         [68, 59,  4]],\n",
              " \n",
              "        [[ 0,  0,  0],\n",
              "         [ 0,  0,  0],\n",
              "         [ 0,  0,  0],\n",
              "         ...,\n",
              "         [57, 62,  0],\n",
              "         [57, 62,  0],\n",
              "         [57, 62,  0]],\n",
              " \n",
              "        [[ 0,  1,  0],\n",
              "         [ 0,  2,  0],\n",
              "         [ 0,  6,  0],\n",
              "         ...,\n",
              "         [55, 60,  0],\n",
              "         [55, 60,  0],\n",
              "         [55, 60,  0]]], dtype=uint8)\n",
              " orig_shape: (2988, 5312)\n",
              " path: 'C:\\\\Users\\\\gbo10\\\\OneDrive\\\\measurement_paper_images\\\\molt\\\\car\\\\vlcsnap-2024-08-21-10h00m05s421.png'\n",
              " probs: None\n",
              " save_dir: 'c:\\\\Users\\\\gbo10\\\\Videos\\\\data-science\\\\Research-counting-algorithms\\\\runs\\\\pose\\\\predict20'\n",
              " speed: {'preprocess': 3.409147262573242, 'inference': 566.2951469421387, 'postprocess': 1.5113353729248047},\n",
              " ultralytics.engine.results.Results object with attributes:\n",
              " \n",
              " boxes: ultralytics.engine.results.Boxes object\n",
              " keypoints: ultralytics.engine.results.Keypoints object\n",
              " masks: None\n",
              " names: {0: 'prawn-model'}\n",
              " obb: None\n",
              " orig_img: array([[[ 7, 14,  2],\n",
              "         [ 7, 14,  2],\n",
              "         [ 3, 10,  0],\n",
              "         ...,\n",
              "         [54, 57,  0],\n",
              "         [55, 58,  0],\n",
              "         [56, 59,  0]],\n",
              " \n",
              "        [[ 7, 14,  2],\n",
              "         [ 7, 14,  2],\n",
              "         [ 3, 10,  0],\n",
              "         ...,\n",
              "         [55, 58,  0],\n",
              "         [57, 60,  0],\n",
              "         [59, 62,  0]],\n",
              " \n",
              "        [[ 5, 12,  0],\n",
              "         [ 6, 13,  1],\n",
              "         [ 3, 10,  0],\n",
              "         ...,\n",
              "         [57, 60,  0],\n",
              "         [60, 63,  0],\n",
              "         [60, 63,  0]],\n",
              " \n",
              "        ...,\n",
              " \n",
              "        [[ 0,  5,  0],\n",
              "         [ 0,  5,  0],\n",
              "         [ 0,  7,  0],\n",
              "         ...,\n",
              "         [65, 56,  1],\n",
              "         [65, 56,  1],\n",
              "         [65, 56,  1]],\n",
              " \n",
              "        [[ 0,  0,  0],\n",
              "         [ 0,  0,  0],\n",
              "         [ 0,  0,  0],\n",
              "         ...,\n",
              "         [54, 59,  0],\n",
              "         [54, 59,  0],\n",
              "         [54, 59,  0]],\n",
              " \n",
              "        [[ 0,  4,  1],\n",
              "         [ 0,  4,  1],\n",
              "         [ 0,  6,  0],\n",
              "         ...,\n",
              "         [53, 58,  0],\n",
              "         [53, 58,  0],\n",
              "         [53, 58,  0]]], dtype=uint8)\n",
              " orig_shape: (2988, 5312)\n",
              " path: 'C:\\\\Users\\\\gbo10\\\\OneDrive\\\\measurement_paper_images\\\\molt\\\\car\\\\vlcsnap-2024-08-21-10h00m11s774.png'\n",
              " probs: None\n",
              " save_dir: 'c:\\\\Users\\\\gbo10\\\\Videos\\\\data-science\\\\Research-counting-algorithms\\\\runs\\\\pose\\\\predict20'\n",
              " speed: {'preprocess': 2.984762191772461, 'inference': 501.995325088501, 'postprocess': 1.9981861114501953},\n",
              " ultralytics.engine.results.Results object with attributes:\n",
              " \n",
              " boxes: ultralytics.engine.results.Boxes object\n",
              " keypoints: ultralytics.engine.results.Keypoints object\n",
              " masks: None\n",
              " names: {0: 'prawn-model'}\n",
              " obb: None\n",
              " orig_img: array([[[ 0,  1,  1],\n",
              "         [ 0,  1,  1],\n",
              "         [ 0,  0,  0],\n",
              "         ...,\n",
              "         [52, 45,  8],\n",
              "         [52, 45,  8],\n",
              "         [53, 46,  9]],\n",
              " \n",
              "        [[ 0,  2,  2],\n",
              "         [ 0,  1,  1],\n",
              "         [ 0,  0,  0],\n",
              "         ...,\n",
              "         [50, 43,  6],\n",
              "         [52, 45,  8],\n",
              "         [52, 45,  8]],\n",
              " \n",
              "        [[ 0,  2,  2],\n",
              "         [ 0,  2,  2],\n",
              "         [ 0,  0,  0],\n",
              "         ...,\n",
              "         [49, 42,  5],\n",
              "         [50, 43,  6],\n",
              "         [50, 43,  6]],\n",
              " \n",
              "        ...,\n",
              " \n",
              "        [[30, 26, 45],\n",
              "         [30, 26, 45],\n",
              "         [31, 27, 46],\n",
              "         ...,\n",
              "         [83, 67, 31],\n",
              "         [83, 67, 31],\n",
              "         [83, 67, 31]],\n",
              " \n",
              "        [[23, 31, 35],\n",
              "         [23, 31, 35],\n",
              "         [24, 32, 36],\n",
              "         ...,\n",
              "         [72, 70, 27],\n",
              "         [72, 70, 27],\n",
              "         [72, 70, 27]],\n",
              " \n",
              "        [[22, 30, 34],\n",
              "         [22, 30, 34],\n",
              "         [24, 32, 36],\n",
              "         ...,\n",
              "         [69, 67, 24],\n",
              "         [69, 67, 24],\n",
              "         [69, 67, 24]]], dtype=uint8)\n",
              " orig_shape: (2988, 5312)\n",
              " path: 'C:\\\\Users\\\\gbo10\\\\OneDrive\\\\measurement_paper_images\\\\molt\\\\car\\\\vlcsnap-2024-08-21-10h00m21s010.png'\n",
              " probs: None\n",
              " save_dir: 'c:\\\\Users\\\\gbo10\\\\Videos\\\\data-science\\\\Research-counting-algorithms\\\\runs\\\\pose\\\\predict20'\n",
              " speed: {'preprocess': 3.9777755737304688, 'inference': 583.895206451416, 'postprocess': 1.0077953338623047},\n",
              " ultralytics.engine.results.Results object with attributes:\n",
              " \n",
              " boxes: ultralytics.engine.results.Boxes object\n",
              " keypoints: ultralytics.engine.results.Keypoints object\n",
              " masks: None\n",
              " names: {0: 'prawn-model'}\n",
              " obb: None\n",
              " orig_img: array([[[44, 74, 74],\n",
              "         [44, 74, 74],\n",
              "         [44, 74, 74],\n",
              "         ...,\n",
              "         [ 0,  0,  0],\n",
              "         [ 0,  0,  0],\n",
              "         [ 0,  0,  0]],\n",
              " \n",
              "        [[44, 74, 74],\n",
              "         [44, 74, 74],\n",
              "         [44, 74, 74],\n",
              "         ...,\n",
              "         [ 0,  0,  0],\n",
              "         [ 0,  0,  0],\n",
              "         [ 0,  0,  0]],\n",
              " \n",
              "        [[44, 74, 74],\n",
              "         [44, 74, 74],\n",
              "         [44, 74, 74],\n",
              "         ...,\n",
              "         [ 0,  0,  0],\n",
              "         [ 0,  0,  0],\n",
              "         [ 0,  0,  0]],\n",
              " \n",
              "        ...,\n",
              " \n",
              "        [[55, 71,  0],\n",
              "         [56, 72,  0],\n",
              "         [56, 72,  0],\n",
              "         ...,\n",
              "         [ 9, 13,  1],\n",
              "         [ 9, 13,  1],\n",
              "         [ 9, 13,  1]],\n",
              " \n",
              "        [[59, 67,  0],\n",
              "         [60, 68,  0],\n",
              "         [60, 68,  0],\n",
              "         ...,\n",
              "         [ 5, 12,  5],\n",
              "         [ 5, 12,  5],\n",
              "         [ 5, 12,  5]],\n",
              " \n",
              "        [[66, 74,  2],\n",
              "         [67, 75,  3],\n",
              "         [67, 75,  3],\n",
              "         ...,\n",
              "         [ 3, 10,  3],\n",
              "         [ 3, 10,  3],\n",
              "         [ 3, 10,  3]]], dtype=uint8)\n",
              " orig_shape: (2988, 5312)\n",
              " path: 'C:\\\\Users\\\\gbo10\\\\OneDrive\\\\measurement_paper_images\\\\molt\\\\car\\\\vlcsnap-2024-08-21-10h00m33s910.png'\n",
              " probs: None\n",
              " save_dir: 'c:\\\\Users\\\\gbo10\\\\Videos\\\\data-science\\\\Research-counting-algorithms\\\\runs\\\\pose\\\\predict20'\n",
              " speed: {'preprocess': 2.988100051879883, 'inference': 504.43553924560547, 'postprocess': 0.9987354278564453}]"
            ]
          },
          "execution_count": 2,
          "metadata": {},
          "output_type": "execute_result"
        }
      ],
      "source": [
        "from ultralytics import YOLO    \n",
        "\n",
        "\n",
        "#model predict\n",
        "model = YOLO(r\"C:\\Users\\gbo10\\OneDrive\\measurement_paper_images\\for fiftyone\\resized\\car_weight.pt\")  # load a custom trained model\n",
        "\n",
        "#predict\n",
        "model.predict(source=r'C:\\Users\\gbo10\\OneDrive\\measurement_paper_images\\molt\\car' ,save=True,save_txt=True,show_boxes=True, imgsz=640, conf=0.1)"
      ]
    }
  ],
  "metadata": {
    "accelerator": "GPU",
    "colab": {
      "gpuType": "T4",
      "provenance": []
    },
    "kernelspec": {
      "display_name": "Python 3",
      "name": "python3"
    },
    "language_info": {
      "codemirror_mode": {
        "name": "ipython",
        "version": 3
      },
      "file_extension": ".py",
      "mimetype": "text/x-python",
      "name": "python",
      "nbconvert_exporter": "python",
      "pygments_lexer": "ipython3",
      "version": "3.9.7"
    },
    "orig_nbformat": 4,
    "widgets": {
      "application/vnd.jupyter.widget-state+json": {
        "1c6bd8120e734e56b5487cd053f83278": {
          "model_module": "@jupyter-widgets/controls",
          "model_module_version": "1.5.0",
          "model_name": "VBoxModel",
          "state": {
            "_dom_classes": [],
            "_model_module": "@jupyter-widgets/controls",
            "_model_module_version": "1.5.0",
            "_model_name": "VBoxModel",
            "_view_count": null,
            "_view_module": "@jupyter-widgets/controls",
            "_view_module_version": "1.5.0",
            "_view_name": "VBoxView",
            "box_style": "",
            "children": [
              "IPY_MODEL_fdf8908de8394417b886b2c3778233ed",
              "IPY_MODEL_6ff4c76b803a47289438e0441783a9fc"
            ],
            "layout": "IPY_MODEL_d8c29e5dae0e4c93be7d7f1fbb6bd108"
          }
        },
        "4870583b9b89419d8c5e6a1950a95273": {
          "model_module": "@jupyter-widgets/controls",
          "model_module_version": "1.5.0",
          "model_name": "ProgressStyleModel",
          "state": {
            "_model_module": "@jupyter-widgets/controls",
            "_model_module_version": "1.5.0",
            "_model_name": "ProgressStyleModel",
            "_view_count": null,
            "_view_module": "@jupyter-widgets/base",
            "_view_module_version": "1.2.0",
            "_view_name": "StyleView",
            "bar_color": null,
            "description_width": ""
          }
        },
        "6ff4c76b803a47289438e0441783a9fc": {
          "model_module": "@jupyter-widgets/controls",
          "model_module_version": "1.5.0",
          "model_name": "FloatProgressModel",
          "state": {
            "_dom_classes": [],
            "_model_module": "@jupyter-widgets/controls",
            "_model_module_version": "1.5.0",
            "_model_name": "FloatProgressModel",
            "_view_count": null,
            "_view_module": "@jupyter-widgets/controls",
            "_view_module_version": "1.5.0",
            "_view_name": "ProgressView",
            "bar_style": "",
            "description": "",
            "description_tooltip": null,
            "layout": "IPY_MODEL_de9aaa93250f4ace9680a13585a17c19",
            "max": 1,
            "min": 0,
            "orientation": "horizontal",
            "style": "IPY_MODEL_4870583b9b89419d8c5e6a1950a95273",
            "value": 1
          }
        },
        "d08b14b8dd7f4235be3f707e3ccf537a": {
          "model_module": "@jupyter-widgets/controls",
          "model_module_version": "1.5.0",
          "model_name": "DescriptionStyleModel",
          "state": {
            "_model_module": "@jupyter-widgets/controls",
            "_model_module_version": "1.5.0",
            "_model_name": "DescriptionStyleModel",
            "_view_count": null,
            "_view_module": "@jupyter-widgets/base",
            "_view_module_version": "1.2.0",
            "_view_name": "StyleView",
            "description_width": ""
          }
        },
        "d8c29e5dae0e4c93be7d7f1fbb6bd108": {
          "model_module": "@jupyter-widgets/base",
          "model_module_version": "1.2.0",
          "model_name": "LayoutModel",
          "state": {
            "_model_module": "@jupyter-widgets/base",
            "_model_module_version": "1.2.0",
            "_model_name": "LayoutModel",
            "_view_count": null,
            "_view_module": "@jupyter-widgets/base",
            "_view_module_version": "1.2.0",
            "_view_name": "LayoutView",
            "align_content": null,
            "align_items": null,
            "align_self": null,
            "border": null,
            "bottom": null,
            "display": null,
            "flex": null,
            "flex_flow": null,
            "grid_area": null,
            "grid_auto_columns": null,
            "grid_auto_flow": null,
            "grid_auto_rows": null,
            "grid_column": null,
            "grid_gap": null,
            "grid_row": null,
            "grid_template_areas": null,
            "grid_template_columns": null,
            "grid_template_rows": null,
            "height": null,
            "justify_content": null,
            "justify_items": null,
            "left": null,
            "margin": null,
            "max_height": null,
            "max_width": null,
            "min_height": null,
            "min_width": null,
            "object_fit": null,
            "object_position": null,
            "order": null,
            "overflow": null,
            "overflow_x": null,
            "overflow_y": null,
            "padding": null,
            "right": null,
            "top": null,
            "visibility": null,
            "width": null
          }
        },
        "de9aaa93250f4ace9680a13585a17c19": {
          "model_module": "@jupyter-widgets/base",
          "model_module_version": "1.2.0",
          "model_name": "LayoutModel",
          "state": {
            "_model_module": "@jupyter-widgets/base",
            "_model_module_version": "1.2.0",
            "_model_name": "LayoutModel",
            "_view_count": null,
            "_view_module": "@jupyter-widgets/base",
            "_view_module_version": "1.2.0",
            "_view_name": "LayoutView",
            "align_content": null,
            "align_items": null,
            "align_self": null,
            "border": null,
            "bottom": null,
            "display": null,
            "flex": null,
            "flex_flow": null,
            "grid_area": null,
            "grid_auto_columns": null,
            "grid_auto_flow": null,
            "grid_auto_rows": null,
            "grid_column": null,
            "grid_gap": null,
            "grid_row": null,
            "grid_template_areas": null,
            "grid_template_columns": null,
            "grid_template_rows": null,
            "height": null,
            "justify_content": null,
            "justify_items": null,
            "left": null,
            "margin": null,
            "max_height": null,
            "max_width": null,
            "min_height": null,
            "min_width": null,
            "object_fit": null,
            "object_position": null,
            "order": null,
            "overflow": null,
            "overflow_x": null,
            "overflow_y": null,
            "padding": null,
            "right": null,
            "top": null,
            "visibility": null,
            "width": null
          }
        },
        "fd56d530428e45efbbb9895bc38959e6": {
          "model_module": "@jupyter-widgets/base",
          "model_module_version": "1.2.0",
          "model_name": "LayoutModel",
          "state": {
            "_model_module": "@jupyter-widgets/base",
            "_model_module_version": "1.2.0",
            "_model_name": "LayoutModel",
            "_view_count": null,
            "_view_module": "@jupyter-widgets/base",
            "_view_module_version": "1.2.0",
            "_view_name": "LayoutView",
            "align_content": null,
            "align_items": null,
            "align_self": null,
            "border": null,
            "bottom": null,
            "display": null,
            "flex": null,
            "flex_flow": null,
            "grid_area": null,
            "grid_auto_columns": null,
            "grid_auto_flow": null,
            "grid_auto_rows": null,
            "grid_column": null,
            "grid_gap": null,
            "grid_row": null,
            "grid_template_areas": null,
            "grid_template_columns": null,
            "grid_template_rows": null,
            "height": null,
            "justify_content": null,
            "justify_items": null,
            "left": null,
            "margin": null,
            "max_height": null,
            "max_width": null,
            "min_height": null,
            "min_width": null,
            "object_fit": null,
            "object_position": null,
            "order": null,
            "overflow": null,
            "overflow_x": null,
            "overflow_y": null,
            "padding": null,
            "right": null,
            "top": null,
            "visibility": null,
            "width": null
          }
        },
        "fdf8908de8394417b886b2c3778233ed": {
          "model_module": "@jupyter-widgets/controls",
          "model_module_version": "1.5.0",
          "model_name": "LabelModel",
          "state": {
            "_dom_classes": [],
            "_model_module": "@jupyter-widgets/controls",
            "_model_module_version": "1.5.0",
            "_model_name": "LabelModel",
            "_view_count": null,
            "_view_module": "@jupyter-widgets/controls",
            "_view_module_version": "1.5.0",
            "_view_name": "LabelView",
            "description": "",
            "description_tooltip": null,
            "layout": "IPY_MODEL_fd56d530428e45efbbb9895bc38959e6",
            "placeholder": "​",
            "style": "IPY_MODEL_d08b14b8dd7f4235be3f707e3ccf537a",
            "value": "10838.670 MB of 10838.670 MB uploaded\r"
          }
        }
      }
    }
  },
  "nbformat": 4,
  "nbformat_minor": 0
}
