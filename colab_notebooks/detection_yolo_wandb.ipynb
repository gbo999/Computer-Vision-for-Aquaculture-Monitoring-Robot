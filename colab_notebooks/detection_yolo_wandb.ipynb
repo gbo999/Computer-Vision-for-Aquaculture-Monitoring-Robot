{
  "cells": [
    {
      "cell_type": "code",
      "execution_count": null,
      "metadata": {
        "colab": {
          "base_uri": "https://localhost:8080/"
        },
        "id": "21pK62mxFH6H",
        "outputId": "3b2c8e3d-6a62-42df-f8a5-de3827dd12b5"
      },
      "outputs": [
        {
          "name": "stdout",
          "output_type": "stream",
          "text": [
            "Collecting ultralytics\n",
            "  Downloading ultralytics-8.2.43-py3-none-any.whl (793 kB)\n",
            "\u001b[2K     \u001b[90m━━━━━━━━━━━━━━━━━━━━━━━━━━━━━━━━━━━━━━━━\u001b[0m \u001b[32m793.6/793.6 kB\u001b[0m \u001b[31m6.3 MB/s\u001b[0m eta \u001b[36m0:00:00\u001b[0m\n",
            "\u001b[?25hRequirement already satisfied: numpy<2.0.0,>=1.23.5 in /usr/local/lib/python3.10/dist-packages (from ultralytics) (1.25.2)\n",
            "Requirement already satisfied: matplotlib>=3.3.0 in /usr/local/lib/python3.10/dist-packages (from ultralytics) (3.7.1)\n",
            "Requirement already satisfied: opencv-python>=4.6.0 in /usr/local/lib/python3.10/dist-packages (from ultralytics) (4.8.0.76)\n",
            "Requirement already satisfied: pillow>=7.1.2 in /usr/local/lib/python3.10/dist-packages (from ultralytics) (9.4.0)\n",
            "Requirement already satisfied: pyyaml>=5.3.1 in /usr/local/lib/python3.10/dist-packages (from ultralytics) (6.0.1)\n",
            "Requirement already satisfied: requests>=2.23.0 in /usr/local/lib/python3.10/dist-packages (from ultralytics) (2.31.0)\n",
            "Requirement already satisfied: scipy>=1.4.1 in /usr/local/lib/python3.10/dist-packages (from ultralytics) (1.11.4)\n",
            "Requirement already satisfied: torch>=1.8.0 in /usr/local/lib/python3.10/dist-packages (from ultralytics) (2.3.0+cu121)\n",
            "Requirement already satisfied: torchvision>=0.9.0 in /usr/local/lib/python3.10/dist-packages (from ultralytics) (0.18.0+cu121)\n",
            "Requirement already satisfied: tqdm>=4.64.0 in /usr/local/lib/python3.10/dist-packages (from ultralytics) (4.66.4)\n",
            "Requirement already satisfied: psutil in /usr/local/lib/python3.10/dist-packages (from ultralytics) (5.9.5)\n",
            "Requirement already satisfied: py-cpuinfo in /usr/local/lib/python3.10/dist-packages (from ultralytics) (9.0.0)\n",
            "Requirement already satisfied: pandas>=1.1.4 in /usr/local/lib/python3.10/dist-packages (from ultralytics) (2.0.3)\n",
            "Requirement already satisfied: seaborn>=0.11.0 in /usr/local/lib/python3.10/dist-packages (from ultralytics) (0.13.1)\n",
            "Collecting ultralytics-thop>=2.0.0 (from ultralytics)\n",
            "  Downloading ultralytics_thop-2.0.0-py3-none-any.whl (25 kB)\n",
            "Requirement already satisfied: contourpy>=1.0.1 in /usr/local/lib/python3.10/dist-packages (from matplotlib>=3.3.0->ultralytics) (1.2.1)\n",
            "Requirement already satisfied: cycler>=0.10 in /usr/local/lib/python3.10/dist-packages (from matplotlib>=3.3.0->ultralytics) (0.12.1)\n",
            "Requirement already satisfied: fonttools>=4.22.0 in /usr/local/lib/python3.10/dist-packages (from matplotlib>=3.3.0->ultralytics) (4.53.0)\n",
            "Requirement already satisfied: kiwisolver>=1.0.1 in /usr/local/lib/python3.10/dist-packages (from matplotlib>=3.3.0->ultralytics) (1.4.5)\n",
            "Requirement already satisfied: packaging>=20.0 in /usr/local/lib/python3.10/dist-packages (from matplotlib>=3.3.0->ultralytics) (24.1)\n",
            "Requirement already satisfied: pyparsing>=2.3.1 in /usr/local/lib/python3.10/dist-packages (from matplotlib>=3.3.0->ultralytics) (3.1.2)\n",
            "Requirement already satisfied: python-dateutil>=2.7 in /usr/local/lib/python3.10/dist-packages (from matplotlib>=3.3.0->ultralytics) (2.8.2)\n",
            "Requirement already satisfied: pytz>=2020.1 in /usr/local/lib/python3.10/dist-packages (from pandas>=1.1.4->ultralytics) (2023.4)\n",
            "Requirement already satisfied: tzdata>=2022.1 in /usr/local/lib/python3.10/dist-packages (from pandas>=1.1.4->ultralytics) (2024.1)\n",
            "Requirement already satisfied: charset-normalizer<4,>=2 in /usr/local/lib/python3.10/dist-packages (from requests>=2.23.0->ultralytics) (3.3.2)\n",
            "Requirement already satisfied: idna<4,>=2.5 in /usr/local/lib/python3.10/dist-packages (from requests>=2.23.0->ultralytics) (3.7)\n",
            "Requirement already satisfied: urllib3<3,>=1.21.1 in /usr/local/lib/python3.10/dist-packages (from requests>=2.23.0->ultralytics) (2.0.7)\n",
            "Requirement already satisfied: certifi>=2017.4.17 in /usr/local/lib/python3.10/dist-packages (from requests>=2.23.0->ultralytics) (2024.6.2)\n",
            "Requirement already satisfied: filelock in /usr/local/lib/python3.10/dist-packages (from torch>=1.8.0->ultralytics) (3.15.3)\n",
            "Requirement already satisfied: typing-extensions>=4.8.0 in /usr/local/lib/python3.10/dist-packages (from torch>=1.8.0->ultralytics) (4.12.2)\n",
            "Requirement already satisfied: sympy in /usr/local/lib/python3.10/dist-packages (from torch>=1.8.0->ultralytics) (1.12.1)\n",
            "Requirement already satisfied: networkx in /usr/local/lib/python3.10/dist-packages (from torch>=1.8.0->ultralytics) (3.3)\n",
            "Requirement already satisfied: jinja2 in /usr/local/lib/python3.10/dist-packages (from torch>=1.8.0->ultralytics) (3.1.4)\n",
            "Requirement already satisfied: fsspec in /usr/local/lib/python3.10/dist-packages (from torch>=1.8.0->ultralytics) (2023.6.0)\n",
            "Collecting nvidia-cuda-nvrtc-cu12==12.1.105 (from torch>=1.8.0->ultralytics)\n",
            "  Using cached nvidia_cuda_nvrtc_cu12-12.1.105-py3-none-manylinux1_x86_64.whl (23.7 MB)\n",
            "Collecting nvidia-cuda-runtime-cu12==12.1.105 (from torch>=1.8.0->ultralytics)\n",
            "  Using cached nvidia_cuda_runtime_cu12-12.1.105-py3-none-manylinux1_x86_64.whl (823 kB)\n",
            "Collecting nvidia-cuda-cupti-cu12==12.1.105 (from torch>=1.8.0->ultralytics)\n",
            "  Using cached nvidia_cuda_cupti_cu12-12.1.105-py3-none-manylinux1_x86_64.whl (14.1 MB)\n",
            "Collecting nvidia-cudnn-cu12==8.9.2.26 (from torch>=1.8.0->ultralytics)\n",
            "  Using cached nvidia_cudnn_cu12-8.9.2.26-py3-none-manylinux1_x86_64.whl (731.7 MB)\n",
            "Collecting nvidia-cublas-cu12==12.1.3.1 (from torch>=1.8.0->ultralytics)\n",
            "  Using cached nvidia_cublas_cu12-12.1.3.1-py3-none-manylinux1_x86_64.whl (410.6 MB)\n",
            "Collecting nvidia-cufft-cu12==11.0.2.54 (from torch>=1.8.0->ultralytics)\n",
            "  Using cached nvidia_cufft_cu12-11.0.2.54-py3-none-manylinux1_x86_64.whl (121.6 MB)\n",
            "Collecting nvidia-curand-cu12==10.3.2.106 (from torch>=1.8.0->ultralytics)\n",
            "  Using cached nvidia_curand_cu12-10.3.2.106-py3-none-manylinux1_x86_64.whl (56.5 MB)\n",
            "Collecting nvidia-cusolver-cu12==11.4.5.107 (from torch>=1.8.0->ultralytics)\n",
            "  Using cached nvidia_cusolver_cu12-11.4.5.107-py3-none-manylinux1_x86_64.whl (124.2 MB)\n",
            "Collecting nvidia-cusparse-cu12==12.1.0.106 (from torch>=1.8.0->ultralytics)\n",
            "  Using cached nvidia_cusparse_cu12-12.1.0.106-py3-none-manylinux1_x86_64.whl (196.0 MB)\n",
            "Collecting nvidia-nccl-cu12==2.20.5 (from torch>=1.8.0->ultralytics)\n",
            "  Using cached nvidia_nccl_cu12-2.20.5-py3-none-manylinux2014_x86_64.whl (176.2 MB)\n",
            "Collecting nvidia-nvtx-cu12==12.1.105 (from torch>=1.8.0->ultralytics)\n",
            "  Using cached nvidia_nvtx_cu12-12.1.105-py3-none-manylinux1_x86_64.whl (99 kB)\n",
            "Requirement already satisfied: triton==2.3.0 in /usr/local/lib/python3.10/dist-packages (from torch>=1.8.0->ultralytics) (2.3.0)\n",
            "Collecting nvidia-nvjitlink-cu12 (from nvidia-cusolver-cu12==11.4.5.107->torch>=1.8.0->ultralytics)\n",
            "  Downloading nvidia_nvjitlink_cu12-12.5.40-py3-none-manylinux2014_x86_64.whl (21.3 MB)\n",
            "\u001b[2K     \u001b[90m━━━━━━━━━━━━━━━━━━━━━━━━━━━━━━━━━━━━━━━━\u001b[0m \u001b[32m21.3/21.3 MB\u001b[0m \u001b[31m14.3 MB/s\u001b[0m eta \u001b[36m0:00:00\u001b[0m\n",
            "\u001b[?25hRequirement already satisfied: six>=1.5 in /usr/local/lib/python3.10/dist-packages (from python-dateutil>=2.7->matplotlib>=3.3.0->ultralytics) (1.16.0)\n",
            "Requirement already satisfied: MarkupSafe>=2.0 in /usr/local/lib/python3.10/dist-packages (from jinja2->torch>=1.8.0->ultralytics) (2.1.5)\n",
            "Requirement already satisfied: mpmath<1.4.0,>=1.1.0 in /usr/local/lib/python3.10/dist-packages (from sympy->torch>=1.8.0->ultralytics) (1.3.0)\n",
            "Installing collected packages: nvidia-nvtx-cu12, nvidia-nvjitlink-cu12, nvidia-nccl-cu12, nvidia-curand-cu12, nvidia-cufft-cu12, nvidia-cuda-runtime-cu12, nvidia-cuda-nvrtc-cu12, nvidia-cuda-cupti-cu12, nvidia-cublas-cu12, nvidia-cusparse-cu12, nvidia-cudnn-cu12, nvidia-cusolver-cu12, ultralytics-thop, ultralytics\n",
            "Successfully installed nvidia-cublas-cu12-12.1.3.1 nvidia-cuda-cupti-cu12-12.1.105 nvidia-cuda-nvrtc-cu12-12.1.105 nvidia-cuda-runtime-cu12-12.1.105 nvidia-cudnn-cu12-8.9.2.26 nvidia-cufft-cu12-11.0.2.54 nvidia-curand-cu12-10.3.2.106 nvidia-cusolver-cu12-11.4.5.107 nvidia-cusparse-cu12-12.1.0.106 nvidia-nccl-cu12-2.20.5 nvidia-nvjitlink-cu12-12.5.40 nvidia-nvtx-cu12-12.1.105 ultralytics-8.2.43 ultralytics-thop-2.0.0\n",
            "Collecting wandb\n",
            "  Downloading wandb-0.17.3-py3-none-manylinux_2_5_x86_64.manylinux1_x86_64.manylinux_2_17_x86_64.manylinux2014_x86_64.whl (6.9 MB)\n",
            "\u001b[2K     \u001b[90m━━━━━━━━━━━━━━━━━━━━━━━━━━━━━━━━━━━━━━━━\u001b[0m \u001b[32m6.9/6.9 MB\u001b[0m \u001b[31m22.9 MB/s\u001b[0m eta \u001b[36m0:00:00\u001b[0m\n",
            "\u001b[?25hRequirement already satisfied: click!=8.0.0,>=7.1 in /usr/local/lib/python3.10/dist-packages (from wandb) (8.1.7)\n",
            "Collecting docker-pycreds>=0.4.0 (from wandb)\n",
            "  Downloading docker_pycreds-0.4.0-py2.py3-none-any.whl (9.0 kB)\n",
            "Collecting gitpython!=3.1.29,>=1.0.0 (from wandb)\n",
            "  Downloading GitPython-3.1.43-py3-none-any.whl (207 kB)\n",
            "\u001b[2K     \u001b[90m━━━━━━━━━━━━━━━━━━━━━━━━━━━━━━━━━━━━━━━━\u001b[0m \u001b[32m207.3/207.3 kB\u001b[0m \u001b[31m28.3 MB/s\u001b[0m eta \u001b[36m0:00:00\u001b[0m\n",
            "\u001b[?25hRequirement already satisfied: platformdirs in /usr/local/lib/python3.10/dist-packages (from wandb) (4.2.2)\n",
            "Requirement already satisfied: protobuf!=4.21.0,<6,>=3.19.0 in /usr/local/lib/python3.10/dist-packages (from wandb) (3.20.3)\n",
            "Requirement already satisfied: psutil>=5.0.0 in /usr/local/lib/python3.10/dist-packages (from wandb) (5.9.5)\n",
            "Requirement already satisfied: pyyaml in /usr/local/lib/python3.10/dist-packages (from wandb) (6.0.1)\n",
            "Requirement already satisfied: requests<3,>=2.0.0 in /usr/local/lib/python3.10/dist-packages (from wandb) (2.31.0)\n",
            "Collecting sentry-sdk>=1.0.0 (from wandb)\n",
            "  Downloading sentry_sdk-2.7.0-py2.py3-none-any.whl (300 kB)\n",
            "\u001b[2K     \u001b[90m━━━━━━━━━━━━━━━━━━━━━━━━━━━━━━━━━━━━━━━━\u001b[0m \u001b[32m300.1/300.1 kB\u001b[0m \u001b[31m36.0 MB/s\u001b[0m eta \u001b[36m0:00:00\u001b[0m\n",
            "\u001b[?25hCollecting setproctitle (from wandb)\n",
            "  Downloading setproctitle-1.3.3-cp310-cp310-manylinux_2_5_x86_64.manylinux1_x86_64.manylinux_2_17_x86_64.manylinux2014_x86_64.whl (30 kB)\n",
            "Requirement already satisfied: setuptools in /usr/local/lib/python3.10/dist-packages (from wandb) (67.7.2)\n",
            "Requirement already satisfied: six>=1.4.0 in /usr/local/lib/python3.10/dist-packages (from docker-pycreds>=0.4.0->wandb) (1.16.0)\n",
            "Collecting gitdb<5,>=4.0.1 (from gitpython!=3.1.29,>=1.0.0->wandb)\n",
            "  Downloading gitdb-4.0.11-py3-none-any.whl (62 kB)\n",
            "\u001b[2K     \u001b[90m━━━━━━━━━━━━━━━━━━━━━━━━━━━━━━━━━━━━━━━━\u001b[0m \u001b[32m62.7/62.7 kB\u001b[0m \u001b[31m9.5 MB/s\u001b[0m eta \u001b[36m0:00:00\u001b[0m\n",
            "\u001b[?25hRequirement already satisfied: charset-normalizer<4,>=2 in /usr/local/lib/python3.10/dist-packages (from requests<3,>=2.0.0->wandb) (3.3.2)\n",
            "Requirement already satisfied: idna<4,>=2.5 in /usr/local/lib/python3.10/dist-packages (from requests<3,>=2.0.0->wandb) (3.7)\n",
            "Requirement already satisfied: urllib3<3,>=1.21.1 in /usr/local/lib/python3.10/dist-packages (from requests<3,>=2.0.0->wandb) (2.0.7)\n",
            "Requirement already satisfied: certifi>=2017.4.17 in /usr/local/lib/python3.10/dist-packages (from requests<3,>=2.0.0->wandb) (2024.6.2)\n",
            "Collecting smmap<6,>=3.0.1 (from gitdb<5,>=4.0.1->gitpython!=3.1.29,>=1.0.0->wandb)\n",
            "  Downloading smmap-5.0.1-py3-none-any.whl (24 kB)\n",
            "Installing collected packages: smmap, setproctitle, sentry-sdk, docker-pycreds, gitdb, gitpython, wandb\n",
            "Successfully installed docker-pycreds-0.4.0 gitdb-4.0.11 gitpython-3.1.43 sentry-sdk-2.7.0 setproctitle-1.3.3 smmap-5.0.1 wandb-0.17.3\n"
          ]
        }
      ],
      "source": [
        "!pip install ultralytics\n",
        "!pip install wandb"
      ]
    },
    {
      "cell_type": "code",
      "execution_count": 5,
      "metadata": {},
      "outputs": [
        {
          "name": "stdout",
          "output_type": "stream",
          "text": [
            "Saved augmented image: C:\\Users\\gbo10\\OneDrive\\measurement_paper_images\\960540-DETR\\test\\images\\aug\\20230920_115022_jpg.rf.1584201d92d308bc9dd9da7709d9c93c.jpg\n",
            "Saved augmented image: C:\\Users\\gbo10\\OneDrive\\measurement_paper_images\\960540-DETR\\test\\images\\aug\\20230920_115121_jpg.rf.2c2f7c8ca8ecdae3a396ef7ce0eac0d8.jpg\n",
            "Saved augmented image: C:\\Users\\gbo10\\OneDrive\\measurement_paper_images\\960540-DETR\\test\\images\\aug\\20230920_115133_jpg.rf.20ae2c63bf177f046f1b84f260a73dd5.jpg\n",
            "Saved augmented image: C:\\Users\\gbo10\\OneDrive\\measurement_paper_images\\960540-DETR\\test\\images\\aug\\20230920_115139_jpg.rf.5a0b4e0acc14bbe027b734f83bef8298.jpg\n",
            "Saved augmented image: C:\\Users\\gbo10\\OneDrive\\measurement_paper_images\\960540-DETR\\test\\images\\aug\\20230920_115202_jpg.rf.631c84cb155a4194d494d857278059b7.jpg\n",
            "Saved augmented image: C:\\Users\\gbo10\\OneDrive\\measurement_paper_images\\960540-DETR\\test\\images\\aug\\20230920_115213_jpg.rf.27a736e2cdff2b242ada8b3df99bca05.jpg\n",
            "Saved augmented image: C:\\Users\\gbo10\\OneDrive\\measurement_paper_images\\960540-DETR\\test\\images\\aug\\20230920_115215_jpg.rf.952e9c911e8d1b69ab1332bcb0f14e86.jpg\n",
            "Saved augmented image: C:\\Users\\gbo10\\OneDrive\\measurement_paper_images\\960540-DETR\\test\\images\\aug\\20230920_115221_jpg.rf.c51bb14b13e0ade533ff32846aa47409.jpg\n",
            "Saved augmented image: C:\\Users\\gbo10\\OneDrive\\measurement_paper_images\\960540-DETR\\test\\images\\aug\\20230920_115243_jpg.rf.6594f142fdc63d3e8bcdfc4f5ef749cb.jpg\n",
            "Saved augmented image: C:\\Users\\gbo10\\OneDrive\\measurement_paper_images\\960540-DETR\\test\\images\\aug\\20230920_115255_jpg.rf.71f1939edeba6e1bf98504ed67a480cd.jpg\n",
            "Saved augmented image: C:\\Users\\gbo10\\OneDrive\\measurement_paper_images\\960540-DETR\\test\\images\\aug\\20230920_115259_jpg.rf.e01c82eff021c33a35f19f64840ca9e1.jpg\n",
            "Saved augmented image: C:\\Users\\gbo10\\OneDrive\\measurement_paper_images\\960540-DETR\\test\\images\\aug\\20230920_115302_jpg.rf.dcae18310e888b01b6158d1686f2fb49.jpg\n",
            "Saved augmented image: C:\\Users\\gbo10\\OneDrive\\measurement_paper_images\\960540-DETR\\test\\images\\aug\\20230920_115308_jpg.rf.bf6fe66b8c31ade61d11c55312e14140.jpg\n",
            "Saved augmented image: C:\\Users\\gbo10\\OneDrive\\measurement_paper_images\\960540-DETR\\test\\images\\aug\\20230920_115310_jpg.rf.b5342800a1d7cb65593ffd2b660306d9.jpg\n",
            "Saved augmented image: C:\\Users\\gbo10\\OneDrive\\measurement_paper_images\\960540-DETR\\test\\images\\aug\\20230920_115314_jpg.rf.6c38d3f6293af5a8691d6a1bb5db7914.jpg\n",
            "Saved augmented image: C:\\Users\\gbo10\\OneDrive\\measurement_paper_images\\960540-DETR\\test\\images\\aug\\20230920_115323_jpg.rf.b8f3c44b042ef00e4a77dc0b5a677105.jpg\n",
            "Saved augmented image: C:\\Users\\gbo10\\OneDrive\\measurement_paper_images\\960540-DETR\\test\\images\\aug\\20230920_115946_jpg.rf.eb54fa570d79f776305bed28016833bd.jpg\n",
            "Saved augmented image: C:\\Users\\gbo10\\OneDrive\\measurement_paper_images\\960540-DETR\\test\\images\\aug\\20230920_115951_jpg.rf.0c96f2cfa51b336f0755c9bc57e2dfd2.jpg\n",
            "Saved augmented image: C:\\Users\\gbo10\\OneDrive\\measurement_paper_images\\960540-DETR\\test\\images\\aug\\20230920_120008_jpg.rf.9f82e4d90c2864ce5a1ce0d78ff0fe8c.jpg\n",
            "Saved augmented image: C:\\Users\\gbo10\\OneDrive\\measurement_paper_images\\960540-DETR\\test\\images\\aug\\20230920_120145_jpg.rf.8b92ff63e3899f69f51f9359260d79a4.jpg\n",
            "Saved augmented image: C:\\Users\\gbo10\\OneDrive\\measurement_paper_images\\960540-DETR\\test\\images\\aug\\20230920_120154_jpg.rf.19f2c959db45567224493eabd15df4e3.jpg\n",
            "Saved augmented image: C:\\Users\\gbo10\\OneDrive\\measurement_paper_images\\960540-DETR\\test\\images\\aug\\20230920_120200_jpg.rf.c81e70ac5cbe131934dbab57d6e3395f.jpg\n",
            "Saved augmented image: C:\\Users\\gbo10\\OneDrive\\measurement_paper_images\\960540-DETR\\test\\images\\aug\\20230920_120343_jpg.rf.b117f57d568e64285c296fe181311c50.jpg\n",
            "Saved augmented image: C:\\Users\\gbo10\\OneDrive\\measurement_paper_images\\960540-DETR\\test\\images\\aug\\20230920_120348_jpg.rf.cd26844f7bf82f2f9e73b9a26adfd5a0.jpg\n",
            "Saved augmented image: C:\\Users\\gbo10\\OneDrive\\measurement_paper_images\\960540-DETR\\test\\images\\aug\\20230920_120355_jpg.rf.3e4bb24caa8eba301299dc9ef84f768e.jpg\n",
            "Saved augmented image: C:\\Users\\gbo10\\OneDrive\\measurement_paper_images\\960540-DETR\\test\\images\\aug\\20230920_120359_jpg.rf.620722061942415eb4d834143e308257.jpg\n",
            "Saved augmented image: C:\\Users\\gbo10\\OneDrive\\measurement_paper_images\\960540-DETR\\test\\images\\aug\\20230920_120401_jpg.rf.cbde833c7c00f0e9f8b72ea1e11f3ca4.jpg\n",
            "Saved augmented image: C:\\Users\\gbo10\\OneDrive\\measurement_paper_images\\960540-DETR\\test\\images\\aug\\20230920_120406_jpg.rf.f78efdf61cd404c49376e68b8ef701a9.jpg\n",
            "Saved augmented image: C:\\Users\\gbo10\\OneDrive\\measurement_paper_images\\960540-DETR\\test\\images\\aug\\20230920_120410_jpg.rf.7798e55d487c864df98d278c8a69d827.jpg\n",
            "Saved augmented image: C:\\Users\\gbo10\\OneDrive\\measurement_paper_images\\960540-DETR\\test\\images\\aug\\20230920_120414_jpg.rf.2ac6a69bfa9986fe9b3327ec31c1df4b.jpg\n",
            "Saved augmented image: C:\\Users\\gbo10\\OneDrive\\measurement_paper_images\\960540-DETR\\test\\images\\aug\\20230920_120417_jpg.rf.2f3b8656cbdbe43f08f78d3674752903.jpg\n",
            "Saved augmented image: C:\\Users\\gbo10\\OneDrive\\measurement_paper_images\\960540-DETR\\test\\images\\aug\\20230920_120421_jpg.rf.0994dd1d85e09c77018f39d5d0cf8052.jpg\n",
            "Saved augmented image: C:\\Users\\gbo10\\OneDrive\\measurement_paper_images\\960540-DETR\\test\\images\\aug\\20230920_120425_jpg.rf.914a82922b797123337cbbcff9984737.jpg\n",
            "Saved augmented image: C:\\Users\\gbo10\\OneDrive\\measurement_paper_images\\960540-DETR\\test\\images\\aug\\20230920_120430_jpg.rf.51a043442f60d1f693bf4d3528a0f3cd.jpg\n",
            "Saved augmented image: C:\\Users\\gbo10\\OneDrive\\measurement_paper_images\\960540-DETR\\test\\images\\aug\\20230920_120435_jpg.rf.d5fddb72cfa0345eada604451216eb26.jpg\n",
            "Saved augmented image: C:\\Users\\gbo10\\OneDrive\\measurement_paper_images\\960540-DETR\\test\\images\\aug\\20230920_120439_jpg.rf.2063f7ec783342c8eed617e7d9b1906f.jpg\n",
            "Saved augmented image: C:\\Users\\gbo10\\OneDrive\\measurement_paper_images\\960540-DETR\\test\\images\\aug\\20230920_120443_jpg.rf.61b2ac4991258f0befa1a564e09ca452.jpg\n",
            "Saved augmented image: C:\\Users\\gbo10\\OneDrive\\measurement_paper_images\\960540-DETR\\test\\images\\aug\\20230920_120659_jpg.rf.725484cd0940f177c1cc8e8124fc422f.jpg\n",
            "Saved augmented image: C:\\Users\\gbo10\\OneDrive\\measurement_paper_images\\960540-DETR\\test\\images\\aug\\20230920_120705_jpg.rf.80a75030aeacccd8e09394b82a6a8931.jpg\n",
            "Saved augmented image: C:\\Users\\gbo10\\OneDrive\\measurement_paper_images\\960540-DETR\\test\\images\\aug\\20230920_120718_jpg.rf.9b799e5857b12495b64abcbf6c803bd2.jpg\n",
            "Saved augmented image: C:\\Users\\gbo10\\OneDrive\\measurement_paper_images\\960540-DETR\\test\\images\\aug\\20230920_120723_jpg.rf.9d78aa27c5ec76203aa638ca9cc473c8.jpg\n",
            "Saved augmented image: C:\\Users\\gbo10\\OneDrive\\measurement_paper_images\\960540-DETR\\test\\images\\aug\\20230920_120730_jpg.rf.8aabe9db7de1e9aeee985b746738438a.jpg\n",
            "Saved augmented image: C:\\Users\\gbo10\\OneDrive\\measurement_paper_images\\960540-DETR\\test\\images\\aug\\20230920_120814_jpg.rf.17afc96b4f63079c6430e155df497d84.jpg\n",
            "Saved augmented image: C:\\Users\\gbo10\\OneDrive\\measurement_paper_images\\960540-DETR\\test\\images\\aug\\20230920_120819_jpg.rf.0df280ff0771529c0035355368c9d820.jpg\n",
            "Saved augmented image: C:\\Users\\gbo10\\OneDrive\\measurement_paper_images\\960540-DETR\\test\\images\\aug\\20230920_120821_jpg.rf.da0d4250a620ae127a7518d31dcad479.jpg\n",
            "Saved augmented image: C:\\Users\\gbo10\\OneDrive\\measurement_paper_images\\960540-DETR\\test\\images\\aug\\20230920_120824_jpg.rf.ae065fce431daa912c92e60641f44c9e.jpg\n",
            "Saved augmented image: C:\\Users\\gbo10\\OneDrive\\measurement_paper_images\\960540-DETR\\test\\images\\aug\\20230920_120921_jpg.rf.e56baf572f4caf5a64f3105d7003a312.jpg\n",
            "Saved augmented image: C:\\Users\\gbo10\\OneDrive\\measurement_paper_images\\960540-DETR\\test\\images\\aug\\20230920_121011_jpg.rf.754be20a445104f4e255ef08113ad39b.jpg\n",
            "Saved augmented image: C:\\Users\\gbo10\\OneDrive\\measurement_paper_images\\960540-DETR\\test\\images\\aug\\20230920_121043_jpg.rf.1e665a4f1221ec2ae94e94ffb15367bb.jpg\n",
            "Saved augmented image: C:\\Users\\gbo10\\OneDrive\\measurement_paper_images\\960540-DETR\\test\\images\\aug\\20230920_121050_jpg.rf.6b88e2ae1e3c5089cfa00b7763062bb6.jpg\n",
            "Saved augmented image: C:\\Users\\gbo10\\OneDrive\\measurement_paper_images\\960540-DETR\\test\\images\\aug\\20230920_121053_jpg.rf.446db2e0552eccd041fdb28aaba21c29.jpg\n",
            "Saved augmented image: C:\\Users\\gbo10\\OneDrive\\measurement_paper_images\\960540-DETR\\test\\images\\aug\\20230920_121152_jpg.rf.1d1f9248e24ff3a944347246845e40ac.jpg\n",
            "Saved augmented image: C:\\Users\\gbo10\\OneDrive\\measurement_paper_images\\960540-DETR\\test\\images\\aug\\20230920_121204_jpg.rf.628a88b03657685ee34a9a5bb68f3302.jpg\n",
            "Saved augmented image: C:\\Users\\gbo10\\OneDrive\\measurement_paper_images\\960540-DETR\\test\\images\\aug\\20230920_121213_jpg.rf.4079291fd938c54a78c6551a8bb7fe79.jpg\n",
            "Saved augmented image: C:\\Users\\gbo10\\OneDrive\\measurement_paper_images\\960540-DETR\\test\\images\\aug\\20230920_121217_jpg.rf.5373749308baf2975e55c6b3426fbd3a.jpg\n",
            "Saved augmented image: C:\\Users\\gbo10\\OneDrive\\measurement_paper_images\\960540-DETR\\test\\images\\aug\\20230920_121220_jpg.rf.58b4715012e36161fed4128f032452ec.jpg\n",
            "Saved augmented image: C:\\Users\\gbo10\\OneDrive\\measurement_paper_images\\960540-DETR\\test\\images\\aug\\20230920_121227_jpg.rf.e3076fcef7e9bec973b099e7f46782cb.jpg\n",
            "Saved augmented image: C:\\Users\\gbo10\\OneDrive\\measurement_paper_images\\960540-DETR\\test\\images\\aug\\20230920_121238_jpg.rf.bdbf79b52be899d331fd79036e5da26a.jpg\n",
            "Saved augmented image: C:\\Users\\gbo10\\OneDrive\\measurement_paper_images\\960540-DETR\\test\\images\\aug\\20230920_121250_jpg.rf.43ece3c9076db88d686efa509fedb13b.jpg\n",
            "Saved augmented image: C:\\Users\\gbo10\\OneDrive\\measurement_paper_images\\960540-DETR\\test\\images\\aug\\20230920_121254_jpg.rf.09eba60c3b38a56a2ee23517c7c87184.jpg\n",
            "Saved augmented image: C:\\Users\\gbo10\\OneDrive\\measurement_paper_images\\960540-DETR\\test\\images\\aug\\20230920_121259_jpg.rf.4514a3e877861c131e3d74e97db01e7f.jpg\n",
            "Saved augmented image: C:\\Users\\gbo10\\OneDrive\\measurement_paper_images\\960540-DETR\\test\\images\\aug\\20230920_121318_jpg.rf.378ee82f79db221aaed0ba9f15898fd2.jpg\n",
            "Saved augmented image: C:\\Users\\gbo10\\OneDrive\\measurement_paper_images\\960540-DETR\\test\\images\\aug\\20230920_121322_jpg.rf.aab215acebee3af89ef0f6758e55515d.jpg\n",
            "Saved augmented image: C:\\Users\\gbo10\\OneDrive\\measurement_paper_images\\960540-DETR\\test\\images\\aug\\20230920_121325_jpg.rf.58376924332380af316a792fee7ad467.jpg\n",
            "Saved augmented image: C:\\Users\\gbo10\\OneDrive\\measurement_paper_images\\960540-DETR\\test\\images\\aug\\20230920_121331_jpg.rf.46f29ea0aba10656a269a9bc656c79a3.jpg\n",
            "Saved augmented image: C:\\Users\\gbo10\\OneDrive\\measurement_paper_images\\960540-DETR\\test\\images\\aug\\20230920_121334_jpg.rf.7883cb29602fce18fb0d34b68b61f1c3.jpg\n",
            "Saved augmented image: C:\\Users\\gbo10\\OneDrive\\measurement_paper_images\\960540-DETR\\test\\images\\aug\\20230920_121340_jpg.rf.d5a0dc33c7e7cfcd91ed1ebde0aa37d7.jpg\n",
            "Saved augmented image: C:\\Users\\gbo10\\OneDrive\\measurement_paper_images\\960540-DETR\\test\\images\\aug\\20230920_121350_jpg.rf.3d1af3f2e537f6061994e2935166cbd8.jpg\n",
            "Saved augmented image: C:\\Users\\gbo10\\OneDrive\\measurement_paper_images\\960540-DETR\\test\\images\\aug\\20230920_121404_jpg.rf.292ba21b1a9e02ca10ed048db31bc379.jpg\n",
            "Saved augmented image: C:\\Users\\gbo10\\OneDrive\\measurement_paper_images\\960540-DETR\\test\\images\\aug\\20230920_121411_jpg.rf.5d75015649dfab83ff6ce755297de7d7.jpg\n",
            "Saved augmented image: C:\\Users\\gbo10\\OneDrive\\measurement_paper_images\\960540-DETR\\test\\images\\aug\\20230920_121416_jpg.rf.536c96039e246dfbfd1d09674821a660.jpg\n",
            "Saved augmented image: C:\\Users\\gbo10\\OneDrive\\measurement_paper_images\\960540-DETR\\test\\images\\aug\\20230920_121434_jpg.rf.37beffabb9da8d40e7dbbf0720de2580.jpg\n",
            "Saved augmented image: C:\\Users\\gbo10\\OneDrive\\measurement_paper_images\\960540-DETR\\test\\images\\aug\\20230920_121437_jpg.rf.3087bcd07e016b5b03f6abb5ac40a2a6.jpg\n",
            "Saved augmented image: C:\\Users\\gbo10\\OneDrive\\measurement_paper_images\\960540-DETR\\test\\images\\aug\\20230920_121447_jpg.rf.e2382c4fefa0f886bb278f04c14b3574.jpg\n",
            "Saved augmented image: C:\\Users\\gbo10\\OneDrive\\measurement_paper_images\\960540-DETR\\test\\images\\aug\\20230920_121453_jpg.rf.1c4ab4339af907698f5c7c9746b01e38.jpg\n",
            "Saved augmented image: C:\\Users\\gbo10\\OneDrive\\measurement_paper_images\\960540-DETR\\test\\images\\aug\\20230920_121523_jpg.rf.a9f64b2b016d70ba7fc010e90d630d43.jpg\n",
            "Saved augmented image: C:\\Users\\gbo10\\OneDrive\\measurement_paper_images\\960540-DETR\\test\\images\\aug\\20230920_121559_jpg.rf.93e8447094e5adcebfe2c6f79032e18f.jpg\n",
            "Saved augmented image: C:\\Users\\gbo10\\OneDrive\\measurement_paper_images\\960540-DETR\\test\\images\\aug\\20230920_121603_jpg.rf.89092e6c37a540c33db07082085bdd72.jpg\n",
            "Saved augmented image: C:\\Users\\gbo10\\OneDrive\\measurement_paper_images\\960540-DETR\\test\\images\\aug\\20230920_121615_jpg.rf.2c54ef53a74e4235601b0475e1b0f57f.jpg\n"
          ]
        }
      ],
      "source": [
        "import cv2\n",
        "import json\n",
        "import albumentations as A\n",
        "import os\n",
        "\n",
        "# Define the augmentation pipeline with only flipping and rotating\n",
        "test_augmentations = A.Compose([\n",
        "    A.HorizontalFlip(p=0.5),  # Apply random horizontal flip\n",
        "    A.Rotate(limit=45, p=0.5),  # Apply random rotation up to 45 degrees\n",
        "], bbox_params=A.BboxParams(format='coco', label_fields=['category_ids']))\n",
        "\n",
        "# Directories\n",
        "test_dir = 'path_to_test_images'\n",
        "annotations_file = 'path_to_annotations.json'  # COCO-style annotations\n",
        "output_img_dir = 'path_to_augmented_images'\n",
        "output_anno_file = 'path_to_augmented_annotations.json'\n",
        "\n",
        "# Make sure the output directories exist\n",
        "os.makedirs(output_img_dir, exist_ok=True)\n",
        "\n",
        "# Load annotations\n",
        "with open(annotations_file) as f:\n",
        "    annotations = json.load(f)\n",
        "\n",
        "# Initialize a list to hold updated annotations\n",
        "augmented_annotations = []\n",
        "\n",
        "# Loop through each image and its corresponding annotation\n",
        "for img_info in annotations['images']:\n",
        "    img_path = os.path.join(test_dir, img_info['file_name'])\n",
        "    image = cv2.imread(img_path)\n",
        "    \n",
        "    # Get bounding boxes for the current image\n",
        "    img_id = img_info['id']\n",
        "    bboxes = []\n",
        "    category_ids = []\n",
        "    \n",
        "    for anno in annotations['annotations']:\n",
        "        if anno['image_id'] == img_id:\n",
        "            bboxes.append(anno['bbox'])\n",
        "            category_ids.append(anno['category_id'])\n",
        "\n",
        "    # Apply augmentation (flipping and rotating)\n",
        "    augmented = test_augmentations(image=image, bboxes=bboxes, category_ids=category_ids)\n",
        "    \n",
        "    # Save augmented image\n",
        "    output_img_path = os.path.join(output_img_dir, img_info['file_name'])\n",
        "    cv2.imwrite(output_img_path, augmented['image'])\n",
        "    \n",
        "    # Create new annotation entry for the augmented image\n",
        "    for bbox, category_id in zip(augmented['bboxes'], augmented['category_ids']):\n",
        "        new_annotation = {\n",
        "            \"image_id\": img_id,  # You may need to update or generate new IDs\n",
        "            \"category_id\": category_id,\n",
        "            \"bbox\": bbox,\n",
        "            \"area\": bbox[2] * bbox[3],  # width * height\n",
        "            \"iscrowd\": 0,\n",
        "            \"id\": len(augmented_annotations) + 1  # unique ID for each annotation\n",
        "        }\n",
        "        augmented_annotations.append(new_annotation)\n",
        "\n",
        "# Save updated annotations\n",
        "new_annotations = annotations.copy()\n",
        "new_annotations['annotations'] = augmented_annotations\n",
        "\n",
        "with open(output_anno_file, 'w') as f:\n",
        "    json.dump(new_annotations, f)\n",
        "\n",
        "print(f\"Augmented images saved in {output_img_dir}\")\n",
        "print(f\"Updated annotations saved as {output_anno_file}\")\n",
        "\n"
      ]
    },
    {
      "cell_type": "code",
      "execution_count": null,
      "metadata": {
        "colab": {
          "base_uri": "https://localhost:8080/",
          "height": 243
        },
        "id": "DCgLrDKHpEGW",
        "outputId": "87a55182-8b52-4935-8e47-5958a751cb05"
      },
      "outputs": [
        {
          "data": {
            "application/javascript": "\n        window._wandbApiKey = new Promise((resolve, reject) => {\n            function loadScript(url) {\n            return new Promise(function(resolve, reject) {\n                let newScript = document.createElement(\"script\");\n                newScript.onerror = reject;\n                newScript.onload = resolve;\n                document.body.appendChild(newScript);\n                newScript.src = url;\n            });\n            }\n            loadScript(\"https://cdn.jsdelivr.net/npm/postmate/build/postmate.min.js\").then(() => {\n            const iframe = document.createElement('iframe')\n            iframe.style.cssText = \"width:0;height:0;border:none\"\n            document.body.appendChild(iframe)\n            const handshake = new Postmate({\n                container: iframe,\n                url: 'https://wandb.ai/authorize'\n            });\n            const timeout = setTimeout(() => reject(\"Couldn't auto authenticate\"), 5000)\n            handshake.then(function(child) {\n                child.on('authorize', data => {\n                    clearTimeout(timeout)\n                    resolve(data)\n                });\n            });\n            })\n        });\n    ",
            "text/plain": [
              "<IPython.core.display.Javascript object>"
            ]
          },
          "metadata": {},
          "output_type": "display_data"
        },
        {
          "name": "stderr",
          "output_type": "stream",
          "text": [
            "\u001b[34m\u001b[1mwandb\u001b[0m: Logging into wandb.ai. (Learn how to deploy a W&B server locally: https://wandb.me/wandb-server)\n",
            "\u001b[34m\u001b[1mwandb\u001b[0m: You can find your API key in your browser here: https://wandb.ai/authorize\n",
            "wandb: Paste an API key from your profile and hit enter, or press ctrl+c to quit:"
          ]
        },
        {
          "name": "stdout",
          "output_type": "stream",
          "text": [
            " ··········\n"
          ]
        },
        {
          "name": "stderr",
          "output_type": "stream",
          "text": [
            "\u001b[34m\u001b[1mwandb\u001b[0m: Appending key for api.wandb.ai to your netrc file: /root/.netrc\n"
          ]
        },
        {
          "data": {
            "text/html": [
              "Tracking run with wandb version 0.17.3"
            ],
            "text/plain": [
              "<IPython.core.display.HTML object>"
            ]
          },
          "metadata": {},
          "output_type": "display_data"
        },
        {
          "data": {
            "text/html": [
              "Run data is saved locally in <code>/content/wandb/run-20240625_090548-hfxgmca6</code>"
            ],
            "text/plain": [
              "<IPython.core.display.HTML object>"
            ]
          },
          "metadata": {},
          "output_type": "display_data"
        },
        {
          "data": {
            "text/html": [
              "Syncing run <strong><a href='https://wandb.ai/prawns/uncategorized/runs/hfxgmca6' target=\"_blank\">divine-deluge-19</a></strong> to <a href='https://wandb.ai/prawns/uncategorized' target=\"_blank\">Weights & Biases</a> (<a href='https://wandb.me/run' target=\"_blank\">docs</a>)<br/>"
            ],
            "text/plain": [
              "<IPython.core.display.HTML object>"
            ]
          },
          "metadata": {},
          "output_type": "display_data"
        },
        {
          "data": {
            "text/html": [
              " View project at <a href='https://wandb.ai/prawns/uncategorized' target=\"_blank\">https://wandb.ai/prawns/uncategorized</a>"
            ],
            "text/plain": [
              "<IPython.core.display.HTML object>"
            ]
          },
          "metadata": {},
          "output_type": "display_data"
        },
        {
          "data": {
            "text/html": [
              " View run at <a href='https://wandb.ai/prawns/uncategorized/runs/hfxgmca6' target=\"_blank\">https://wandb.ai/prawns/uncategorized/runs/hfxgmca6</a>"
            ],
            "text/plain": [
              "<IPython.core.display.HTML object>"
            ]
          },
          "metadata": {},
          "output_type": "display_data"
        },
        {
          "name": "stderr",
          "output_type": "stream",
          "text": [
            "\u001b[34m\u001b[1mwandb\u001b[0m: Downloading large artifact yolov8-only_31.12_-segment_segment.pt:v31, 263.64MB. 1 files... \n",
            "\u001b[34m\u001b[1mwandb\u001b[0m:   1 of 1 files downloaded.  \n",
            "Done. 0:0:18.0\n"
          ]
        }
      ],
      "source": [
        "import wandb\n",
        "run = wandb.init()\n",
        "artifact = run.use_artifact('prawns/measurement paper/yolov8-only_31.12_-segment_segment.pt:v31', type='model')\n",
        "artifact_dir = artifact.download()"
      ]
    },
    {
      "cell_type": "code",
      "execution_count": null,
      "metadata": {
        "id": "pj5SYi_yFH6J"
      },
      "outputs": [],
      "source": [
        "from YoloToWandbKeypoint import WandbCallback\n",
        "\n",
        "from pathlib import Path\n",
        "import wandb\n",
        "import re\n",
        "# Load a COCO-pretrained RT-DETR-l model\n",
        "import wandb\n"
      ]
    },
    {
      "cell_type": "code",
      "execution_count": null,
      "metadata": {
        "colab": {
          "base_uri": "https://localhost:8080/"
        },
        "id": "z05Xss1qDayP",
        "outputId": "1b2166d9-1d37-4605-8b47-b7eefa8ffa41"
      },
      "outputs": [
        {
          "name": "stdout",
          "output_type": "stream",
          "text": [
            "Mounted at /content/drive\n"
          ]
        }
      ],
      "source": [
        "from google.colab import drive\n",
        "drive.mount('/content/drive')"
      ]
    },
    {
      "cell_type": "code",
      "execution_count": null,
      "metadata": {
        "colab": {
          "base_uri": "https://localhost:8080/"
        },
        "id": "aVJ76qC82L_L",
        "outputId": "289b2a5d-fffa-4aaa-e9b0-5e58eeb0e3df"
      },
      "outputs": [
        {
          "data": {
            "text/plain": [
              "<module 'yolov8l16' from '/content/yolov8l16.py'>"
            ]
          },
          "execution_count": 5,
          "metadata": {},
          "output_type": "execute_result"
        }
      ],
      "source": [
        "import importlib\n",
        "import yolov8l16\n",
        "\n",
        "importlib.reload(yolov8l16)"
      ]
    },
    {
      "cell_type": "code",
      "execution_count": null,
      "metadata": {
        "colab": {
          "base_uri": "https://localhost:8080/"
        },
        "id": "i14UZlKO2L_L",
        "outputId": "b874c949-438d-4c84-b9b1-64425587b846"
      },
      "outputs": [
        {
          "name": "stdout",
          "output_type": "stream",
          "text": [
            "Downloading https://github.com/ultralytics/assets/releases/download/v8.2.0/yolov8x-seg.pt to 'yolov8x-seg.pt'...\n"
          ]
        },
        {
          "name": "stderr",
          "output_type": "stream",
          "text": [
            "100%|██████████| 137M/137M [00:00<00:00, 322MB/s]\n"
          ]
        }
      ],
      "source": [
        "from ultralytics import RTDETR\n",
        "\n",
        "# Load a COCO-pretrained RT-DETR-l model\n",
        "model = RTDETR(\"rtdetr-l.pt\")"
      ]
    },
    {
      "cell_type": "code",
      "execution_count": null,
      "metadata": {
        "id": "gnJ14wJz2L_L"
      },
      "outputs": [],
      "source": [
        "\n",
        "wandb_logger = WandbCallback(\n",
        "        model,project='measurement paper',run_name='rtdetr-drone-600-25',tags=['detection','drone','rtdetr-l']\n",
        "    )\n",
        "\n",
        "for event, callback_fn in wandb_logger.callbacks.items():\n",
        "    model.add_callback(event, callback_fn)"
      ]
    },
    {
      "cell_type": "markdown",
      "metadata": {
        "id": "iOsk1XDEaYRo"
      },
      "source": [
        "## train notice yaml addresses ##"
      ]
    },
    {
      "cell_type": "code",
      "execution_count": null,
      "metadata": {
        "colab": {
          "base_uri": "https://localhost:8080/",
          "height": 1000,
          "referenced_widgets": [
            "1c6bd8120e734e56b5487cd053f83278",
            "fdf8908de8394417b886b2c3778233ed",
            "6ff4c76b803a47289438e0441783a9fc",
            "d8c29e5dae0e4c93be7d7f1fbb6bd108",
            "fd56d530428e45efbbb9895bc38959e6",
            "d08b14b8dd7f4235be3f707e3ccf537a",
            "de9aaa93250f4ace9680a13585a17c19",
            "4870583b9b89419d8c5e6a1950a95273"
          ]
        },
        "id": "cxGXiR4CFH6J",
        "outputId": "2c8387cc-4653-4751-e71f-35e863f1b157"
      },
      "outputs": [],
      "source": [
        "model.train(data=\"/content/drive/MyDrive/colab experiments/to colab only 31-12 segment with 76/data.yaml\",copy_paste=0.15,mixup=0.15, epochs=300, imgsz=640, seed=42,batch=16,patience=50)\n",
        "\n",
        "\n"
      ]
    },
    {
      "cell_type": "code",
      "execution_count": 6,
      "metadata": {
        "colab": {
          "base_uri": "https://localhost:8080/",
          "height": 489
        },
        "id": "cLry5CmAsTRO",
        "outputId": "d95b1011-91b0-4219-8734-5ccd42be8b0d"
      },
      "outputs": [
        {
          "name": "stdout",
          "output_type": "stream",
          "text": [
            "Ultralytics YOLOv8.2.73  Python-3.9.7 torch-2.1.2+cpu CPU (Intel Core(TM) i7-10750H 2.60GHz)\n",
            "rt-detr-l summary: 502 layers, 31,985,795 parameters, 0 gradients, 103.4 GFLOPs\n"
          ]
        },
        {
          "name": "stderr",
          "output_type": "stream",
          "text": [
            "\u001b[34m\u001b[1mval: \u001b[0mScanning C:\\Users\\gbo10\\OneDrive\\measurement_paper_images\\nnnnnnnnnn\\aug-test\\labels... 79 images, 1 backgrounds, 0 corrupt: 100%|██████████| 79/79 [00:00<00:00, 863.37it/s]"
          ]
        },
        {
          "name": "stdout",
          "output_type": "stream",
          "text": [
            "\u001b[34m\u001b[1mval: \u001b[0mNew cache created: C:\\Users\\gbo10\\OneDrive\\measurement_paper_images\\nnnnnnnnnn\\aug-test\\labels.cache\n"
          ]
        },
        {
          "name": "stderr",
          "output_type": "stream",
          "text": [
            "\n",
            "                 Class     Images  Instances      Box(P          R      mAP50  mAP50-95): 100%|██████████| 5/5 [01:10<00:00, 14.13s/it]\n"
          ]
        },
        {
          "name": "stdout",
          "output_type": "stream",
          "text": [
            "                   all         79        561      0.841      0.776      0.812      0.287\n",
            "Speed: 9.3ms preprocess, 858.7ms inference, 0.0ms loss, 1.2ms postprocess per image\n",
            "Saving c:\\Users\\gbo10\\Videos\\data-science\\Research-counting-algorithms\\runs\\detect\\val16\\predictions.json...\n",
            "Results saved to \u001b[1mc:\\Users\\gbo10\\Videos\\data-science\\Research-counting-algorithms\\runs\\detect\\val16\u001b[0m\n"
          ]
        }
      ],
      "source": [
        "from ultralytics import RTDETR  \n",
        "\n",
        "\n",
        "model = RTDETR(r\"C:\\Users\\gbo10\\OneDrive\\measurement_paper_images\\weights- 28.08\\best\\RT_DETR 8 .pt\",)\n",
        "\n",
        "metrics = model.val(save_json=True, data=r\"c:\\Users\\gbo10\\OneDrive\\measurement_paper_images\\nnnnnnnnnn\\dataset.yaml\",seed=42, plots=True,split='test')"
      ]
    },
    {
      "cell_type": "code",
      "execution_count": 4,
      "metadata": {},
      "outputs": [
        {
          "name": "stdout",
          "output_type": "stream",
          "text": [
            "Ultralytics YOLOv8.2.73  Python-3.9.7 torch-2.1.2+cpu CPU (Intel Core(TM) i7-10750H 2.60GHz)\n",
            "rt-detr-l summary: 502 layers, 31,985,795 parameters, 0 gradients, 103.4 GFLOPs\n"
          ]
        },
        {
          "name": "stderr",
          "output_type": "stream",
          "text": [
            "\u001b[34m\u001b[1mval: \u001b[0mScanning C:\\Users\\gbo10\\OneDrive\\measurement_paper_images\\current from roboflow -28.8-first sense\\circle pond.v4i.yolov8\\test\\labels.cache... 79 images, 1 backgrounds, 0 corrupt: 100%|██████████| 79/79 [00:00<?, ?it/s]\n",
            "                 Class     Images  Instances      Box(P          R      mAP50  mAP50-95): 100%|██████████| 5/5 [01:29<00:00, 17.84s/it]\n"
          ]
        },
        {
          "name": "stdout",
          "output_type": "stream",
          "text": [
            "                   all         79        456      0.801      0.811      0.817      0.285\n",
            "Speed: 6.1ms preprocess, 1071.0ms inference, 0.0ms loss, 0.7ms postprocess per image\n",
            "Saving c:\\Users\\gbo10\\Videos\\data-science\\Research-counting-algorithms\\runs\\detect\\val15\\predictions.json...\n",
            "Results saved to \u001b[1mc:\\Users\\gbo10\\Videos\\data-science\\Research-counting-algorithms\\runs\\detect\\val15\u001b[0m\n"
          ]
        }
      ],
      "source": [
        "from ultralytics import YOLO\n",
        "\n",
        "model=RTDETR(r\"C:\\Users\\gbo10\\OneDrive\\measurement_paper_images\\weights- 28.08\\best\\RT_DETR 8 .pt\")\n",
        "\n",
        "metrics = model.val(save_json=True, data=r\"C:\\Users\\gbo10\\OneDrive\\measurement_paper_images\\current from roboflow -28.8-first sense\\circle pond.v4i.yolov8\\dataset.yaml\",seed=42, plots=True,split='test')"
      ]
    }
  ],
  "metadata": {
    "accelerator": "GPU",
    "colab": {
      "gpuType": "T4",
      "provenance": []
    },
    "kernelspec": {
      "display_name": ".venv",
      "language": "python",
      "name": "python3"
    },
    "language_info": {
      "codemirror_mode": {
        "name": "ipython",
        "version": 3
      },
      "file_extension": ".py",
      "mimetype": "text/x-python",
      "name": "python",
      "nbconvert_exporter": "python",
      "pygments_lexer": "ipython3",
      "version": "3.9.7"
    },
    "orig_nbformat": 4,
    "widgets": {
      "application/vnd.jupyter.widget-state+json": {
        "1c6bd8120e734e56b5487cd053f83278": {
          "model_module": "@jupyter-widgets/controls",
          "model_module_version": "1.5.0",
          "model_name": "VBoxModel",
          "state": {
            "_dom_classes": [],
            "_model_module": "@jupyter-widgets/controls",
            "_model_module_version": "1.5.0",
            "_model_name": "VBoxModel",
            "_view_count": null,
            "_view_module": "@jupyter-widgets/controls",
            "_view_module_version": "1.5.0",
            "_view_name": "VBoxView",
            "box_style": "",
            "children": [
              "IPY_MODEL_fdf8908de8394417b886b2c3778233ed",
              "IPY_MODEL_6ff4c76b803a47289438e0441783a9fc"
            ],
            "layout": "IPY_MODEL_d8c29e5dae0e4c93be7d7f1fbb6bd108"
          }
        },
        "4870583b9b89419d8c5e6a1950a95273": {
          "model_module": "@jupyter-widgets/controls",
          "model_module_version": "1.5.0",
          "model_name": "ProgressStyleModel",
          "state": {
            "_model_module": "@jupyter-widgets/controls",
            "_model_module_version": "1.5.0",
            "_model_name": "ProgressStyleModel",
            "_view_count": null,
            "_view_module": "@jupyter-widgets/base",
            "_view_module_version": "1.2.0",
            "_view_name": "StyleView",
            "bar_color": null,
            "description_width": ""
          }
        },
        "6ff4c76b803a47289438e0441783a9fc": {
          "model_module": "@jupyter-widgets/controls",
          "model_module_version": "1.5.0",
          "model_name": "FloatProgressModel",
          "state": {
            "_dom_classes": [],
            "_model_module": "@jupyter-widgets/controls",
            "_model_module_version": "1.5.0",
            "_model_name": "FloatProgressModel",
            "_view_count": null,
            "_view_module": "@jupyter-widgets/controls",
            "_view_module_version": "1.5.0",
            "_view_name": "ProgressView",
            "bar_style": "",
            "description": "",
            "description_tooltip": null,
            "layout": "IPY_MODEL_de9aaa93250f4ace9680a13585a17c19",
            "max": 1,
            "min": 0,
            "orientation": "horizontal",
            "style": "IPY_MODEL_4870583b9b89419d8c5e6a1950a95273",
            "value": 1
          }
        },
        "d08b14b8dd7f4235be3f707e3ccf537a": {
          "model_module": "@jupyter-widgets/controls",
          "model_module_version": "1.5.0",
          "model_name": "DescriptionStyleModel",
          "state": {
            "_model_module": "@jupyter-widgets/controls",
            "_model_module_version": "1.5.0",
            "_model_name": "DescriptionStyleModel",
            "_view_count": null,
            "_view_module": "@jupyter-widgets/base",
            "_view_module_version": "1.2.0",
            "_view_name": "StyleView",
            "description_width": ""
          }
        },
        "d8c29e5dae0e4c93be7d7f1fbb6bd108": {
          "model_module": "@jupyter-widgets/base",
          "model_module_version": "1.2.0",
          "model_name": "LayoutModel",
          "state": {
            "_model_module": "@jupyter-widgets/base",
            "_model_module_version": "1.2.0",
            "_model_name": "LayoutModel",
            "_view_count": null,
            "_view_module": "@jupyter-widgets/base",
            "_view_module_version": "1.2.0",
            "_view_name": "LayoutView",
            "align_content": null,
            "align_items": null,
            "align_self": null,
            "border": null,
            "bottom": null,
            "display": null,
            "flex": null,
            "flex_flow": null,
            "grid_area": null,
            "grid_auto_columns": null,
            "grid_auto_flow": null,
            "grid_auto_rows": null,
            "grid_column": null,
            "grid_gap": null,
            "grid_row": null,
            "grid_template_areas": null,
            "grid_template_columns": null,
            "grid_template_rows": null,
            "height": null,
            "justify_content": null,
            "justify_items": null,
            "left": null,
            "margin": null,
            "max_height": null,
            "max_width": null,
            "min_height": null,
            "min_width": null,
            "object_fit": null,
            "object_position": null,
            "order": null,
            "overflow": null,
            "overflow_x": null,
            "overflow_y": null,
            "padding": null,
            "right": null,
            "top": null,
            "visibility": null,
            "width": null
          }
        },
        "de9aaa93250f4ace9680a13585a17c19": {
          "model_module": "@jupyter-widgets/base",
          "model_module_version": "1.2.0",
          "model_name": "LayoutModel",
          "state": {
            "_model_module": "@jupyter-widgets/base",
            "_model_module_version": "1.2.0",
            "_model_name": "LayoutModel",
            "_view_count": null,
            "_view_module": "@jupyter-widgets/base",
            "_view_module_version": "1.2.0",
            "_view_name": "LayoutView",
            "align_content": null,
            "align_items": null,
            "align_self": null,
            "border": null,
            "bottom": null,
            "display": null,
            "flex": null,
            "flex_flow": null,
            "grid_area": null,
            "grid_auto_columns": null,
            "grid_auto_flow": null,
            "grid_auto_rows": null,
            "grid_column": null,
            "grid_gap": null,
            "grid_row": null,
            "grid_template_areas": null,
            "grid_template_columns": null,
            "grid_template_rows": null,
            "height": null,
            "justify_content": null,
            "justify_items": null,
            "left": null,
            "margin": null,
            "max_height": null,
            "max_width": null,
            "min_height": null,
            "min_width": null,
            "object_fit": null,
            "object_position": null,
            "order": null,
            "overflow": null,
            "overflow_x": null,
            "overflow_y": null,
            "padding": null,
            "right": null,
            "top": null,
            "visibility": null,
            "width": null
          }
        },
        "fd56d530428e45efbbb9895bc38959e6": {
          "model_module": "@jupyter-widgets/base",
          "model_module_version": "1.2.0",
          "model_name": "LayoutModel",
          "state": {
            "_model_module": "@jupyter-widgets/base",
            "_model_module_version": "1.2.0",
            "_model_name": "LayoutModel",
            "_view_count": null,
            "_view_module": "@jupyter-widgets/base",
            "_view_module_version": "1.2.0",
            "_view_name": "LayoutView",
            "align_content": null,
            "align_items": null,
            "align_self": null,
            "border": null,
            "bottom": null,
            "display": null,
            "flex": null,
            "flex_flow": null,
            "grid_area": null,
            "grid_auto_columns": null,
            "grid_auto_flow": null,
            "grid_auto_rows": null,
            "grid_column": null,
            "grid_gap": null,
            "grid_row": null,
            "grid_template_areas": null,
            "grid_template_columns": null,
            "grid_template_rows": null,
            "height": null,
            "justify_content": null,
            "justify_items": null,
            "left": null,
            "margin": null,
            "max_height": null,
            "max_width": null,
            "min_height": null,
            "min_width": null,
            "object_fit": null,
            "object_position": null,
            "order": null,
            "overflow": null,
            "overflow_x": null,
            "overflow_y": null,
            "padding": null,
            "right": null,
            "top": null,
            "visibility": null,
            "width": null
          }
        },
        "fdf8908de8394417b886b2c3778233ed": {
          "model_module": "@jupyter-widgets/controls",
          "model_module_version": "1.5.0",
          "model_name": "LabelModel",
          "state": {
            "_dom_classes": [],
            "_model_module": "@jupyter-widgets/controls",
            "_model_module_version": "1.5.0",
            "_model_name": "LabelModel",
            "_view_count": null,
            "_view_module": "@jupyter-widgets/controls",
            "_view_module_version": "1.5.0",
            "_view_name": "LabelView",
            "description": "",
            "description_tooltip": null,
            "layout": "IPY_MODEL_fd56d530428e45efbbb9895bc38959e6",
            "placeholder": "​",
            "style": "IPY_MODEL_d08b14b8dd7f4235be3f707e3ccf537a",
            "value": "10838.670 MB of 10838.670 MB uploaded\r"
          }
        }
      }
    }
  },
  "nbformat": 4,
  "nbformat_minor": 0
}
