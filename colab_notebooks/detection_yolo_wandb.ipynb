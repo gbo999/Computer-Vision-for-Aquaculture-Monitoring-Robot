{
  "cells": [
    {
      "cell_type": "code",
      "execution_count": null,
      "metadata": {
        "colab": {
          "base_uri": "https://localhost:8080/"
        },
        "id": "21pK62mxFH6H",
        "outputId": "3b2c8e3d-6a62-42df-f8a5-de3827dd12b5"
      },
      "outputs": [
        {
          "name": "stdout",
          "output_type": "stream",
          "text": [
            "Collecting ultralytics\n",
            "  Downloading ultralytics-8.2.43-py3-none-any.whl (793 kB)\n",
            "\u001b[2K     \u001b[90m━━━━━━━━━━━━━━━━━━━━━━━━━━━━━━━━━━━━━━━━\u001b[0m \u001b[32m793.6/793.6 kB\u001b[0m \u001b[31m6.3 MB/s\u001b[0m eta \u001b[36m0:00:00\u001b[0m\n",
            "\u001b[?25hRequirement already satisfied: numpy<2.0.0,>=1.23.5 in /usr/local/lib/python3.10/dist-packages (from ultralytics) (1.25.2)\n",
            "Requirement already satisfied: matplotlib>=3.3.0 in /usr/local/lib/python3.10/dist-packages (from ultralytics) (3.7.1)\n",
            "Requirement already satisfied: opencv-python>=4.6.0 in /usr/local/lib/python3.10/dist-packages (from ultralytics) (4.8.0.76)\n",
            "Requirement already satisfied: pillow>=7.1.2 in /usr/local/lib/python3.10/dist-packages (from ultralytics) (9.4.0)\n",
            "Requirement already satisfied: pyyaml>=5.3.1 in /usr/local/lib/python3.10/dist-packages (from ultralytics) (6.0.1)\n",
            "Requirement already satisfied: requests>=2.23.0 in /usr/local/lib/python3.10/dist-packages (from ultralytics) (2.31.0)\n",
            "Requirement already satisfied: scipy>=1.4.1 in /usr/local/lib/python3.10/dist-packages (from ultralytics) (1.11.4)\n",
            "Requirement already satisfied: torch>=1.8.0 in /usr/local/lib/python3.10/dist-packages (from ultralytics) (2.3.0+cu121)\n",
            "Requirement already satisfied: torchvision>=0.9.0 in /usr/local/lib/python3.10/dist-packages (from ultralytics) (0.18.0+cu121)\n",
            "Requirement already satisfied: tqdm>=4.64.0 in /usr/local/lib/python3.10/dist-packages (from ultralytics) (4.66.4)\n",
            "Requirement already satisfied: psutil in /usr/local/lib/python3.10/dist-packages (from ultralytics) (5.9.5)\n",
            "Requirement already satisfied: py-cpuinfo in /usr/local/lib/python3.10/dist-packages (from ultralytics) (9.0.0)\n",
            "Requirement already satisfied: pandas>=1.1.4 in /usr/local/lib/python3.10/dist-packages (from ultralytics) (2.0.3)\n",
            "Requirement already satisfied: seaborn>=0.11.0 in /usr/local/lib/python3.10/dist-packages (from ultralytics) (0.13.1)\n",
            "Collecting ultralytics-thop>=2.0.0 (from ultralytics)\n",
            "  Downloading ultralytics_thop-2.0.0-py3-none-any.whl (25 kB)\n",
            "Requirement already satisfied: contourpy>=1.0.1 in /usr/local/lib/python3.10/dist-packages (from matplotlib>=3.3.0->ultralytics) (1.2.1)\n",
            "Requirement already satisfied: cycler>=0.10 in /usr/local/lib/python3.10/dist-packages (from matplotlib>=3.3.0->ultralytics) (0.12.1)\n",
            "Requirement already satisfied: fonttools>=4.22.0 in /usr/local/lib/python3.10/dist-packages (from matplotlib>=3.3.0->ultralytics) (4.53.0)\n",
            "Requirement already satisfied: kiwisolver>=1.0.1 in /usr/local/lib/python3.10/dist-packages (from matplotlib>=3.3.0->ultralytics) (1.4.5)\n",
            "Requirement already satisfied: packaging>=20.0 in /usr/local/lib/python3.10/dist-packages (from matplotlib>=3.3.0->ultralytics) (24.1)\n",
            "Requirement already satisfied: pyparsing>=2.3.1 in /usr/local/lib/python3.10/dist-packages (from matplotlib>=3.3.0->ultralytics) (3.1.2)\n",
            "Requirement already satisfied: python-dateutil>=2.7 in /usr/local/lib/python3.10/dist-packages (from matplotlib>=3.3.0->ultralytics) (2.8.2)\n",
            "Requirement already satisfied: pytz>=2020.1 in /usr/local/lib/python3.10/dist-packages (from pandas>=1.1.4->ultralytics) (2023.4)\n",
            "Requirement already satisfied: tzdata>=2022.1 in /usr/local/lib/python3.10/dist-packages (from pandas>=1.1.4->ultralytics) (2024.1)\n",
            "Requirement already satisfied: charset-normalizer<4,>=2 in /usr/local/lib/python3.10/dist-packages (from requests>=2.23.0->ultralytics) (3.3.2)\n",
            "Requirement already satisfied: idna<4,>=2.5 in /usr/local/lib/python3.10/dist-packages (from requests>=2.23.0->ultralytics) (3.7)\n",
            "Requirement already satisfied: urllib3<3,>=1.21.1 in /usr/local/lib/python3.10/dist-packages (from requests>=2.23.0->ultralytics) (2.0.7)\n",
            "Requirement already satisfied: certifi>=2017.4.17 in /usr/local/lib/python3.10/dist-packages (from requests>=2.23.0->ultralytics) (2024.6.2)\n",
            "Requirement already satisfied: filelock in /usr/local/lib/python3.10/dist-packages (from torch>=1.8.0->ultralytics) (3.15.3)\n",
            "Requirement already satisfied: typing-extensions>=4.8.0 in /usr/local/lib/python3.10/dist-packages (from torch>=1.8.0->ultralytics) (4.12.2)\n",
            "Requirement already satisfied: sympy in /usr/local/lib/python3.10/dist-packages (from torch>=1.8.0->ultralytics) (1.12.1)\n",
            "Requirement already satisfied: networkx in /usr/local/lib/python3.10/dist-packages (from torch>=1.8.0->ultralytics) (3.3)\n",
            "Requirement already satisfied: jinja2 in /usr/local/lib/python3.10/dist-packages (from torch>=1.8.0->ultralytics) (3.1.4)\n",
            "Requirement already satisfied: fsspec in /usr/local/lib/python3.10/dist-packages (from torch>=1.8.0->ultralytics) (2023.6.0)\n",
            "Collecting nvidia-cuda-nvrtc-cu12==12.1.105 (from torch>=1.8.0->ultralytics)\n",
            "  Using cached nvidia_cuda_nvrtc_cu12-12.1.105-py3-none-manylinux1_x86_64.whl (23.7 MB)\n",
            "Collecting nvidia-cuda-runtime-cu12==12.1.105 (from torch>=1.8.0->ultralytics)\n",
            "  Using cached nvidia_cuda_runtime_cu12-12.1.105-py3-none-manylinux1_x86_64.whl (823 kB)\n",
            "Collecting nvidia-cuda-cupti-cu12==12.1.105 (from torch>=1.8.0->ultralytics)\n",
            "  Using cached nvidia_cuda_cupti_cu12-12.1.105-py3-none-manylinux1_x86_64.whl (14.1 MB)\n",
            "Collecting nvidia-cudnn-cu12==8.9.2.26 (from torch>=1.8.0->ultralytics)\n",
            "  Using cached nvidia_cudnn_cu12-8.9.2.26-py3-none-manylinux1_x86_64.whl (731.7 MB)\n",
            "Collecting nvidia-cublas-cu12==12.1.3.1 (from torch>=1.8.0->ultralytics)\n",
            "  Using cached nvidia_cublas_cu12-12.1.3.1-py3-none-manylinux1_x86_64.whl (410.6 MB)\n",
            "Collecting nvidia-cufft-cu12==11.0.2.54 (from torch>=1.8.0->ultralytics)\n",
            "  Using cached nvidia_cufft_cu12-11.0.2.54-py3-none-manylinux1_x86_64.whl (121.6 MB)\n",
            "Collecting nvidia-curand-cu12==10.3.2.106 (from torch>=1.8.0->ultralytics)\n",
            "  Using cached nvidia_curand_cu12-10.3.2.106-py3-none-manylinux1_x86_64.whl (56.5 MB)\n",
            "Collecting nvidia-cusolver-cu12==11.4.5.107 (from torch>=1.8.0->ultralytics)\n",
            "  Using cached nvidia_cusolver_cu12-11.4.5.107-py3-none-manylinux1_x86_64.whl (124.2 MB)\n",
            "Collecting nvidia-cusparse-cu12==12.1.0.106 (from torch>=1.8.0->ultralytics)\n",
            "  Using cached nvidia_cusparse_cu12-12.1.0.106-py3-none-manylinux1_x86_64.whl (196.0 MB)\n",
            "Collecting nvidia-nccl-cu12==2.20.5 (from torch>=1.8.0->ultralytics)\n",
            "  Using cached nvidia_nccl_cu12-2.20.5-py3-none-manylinux2014_x86_64.whl (176.2 MB)\n",
            "Collecting nvidia-nvtx-cu12==12.1.105 (from torch>=1.8.0->ultralytics)\n",
            "  Using cached nvidia_nvtx_cu12-12.1.105-py3-none-manylinux1_x86_64.whl (99 kB)\n",
            "Requirement already satisfied: triton==2.3.0 in /usr/local/lib/python3.10/dist-packages (from torch>=1.8.0->ultralytics) (2.3.0)\n",
            "Collecting nvidia-nvjitlink-cu12 (from nvidia-cusolver-cu12==11.4.5.107->torch>=1.8.0->ultralytics)\n",
            "  Downloading nvidia_nvjitlink_cu12-12.5.40-py3-none-manylinux2014_x86_64.whl (21.3 MB)\n",
            "\u001b[2K     \u001b[90m━━━━━━━━━━━━━━━━━━━━━━━━━━━━━━━━━━━━━━━━\u001b[0m \u001b[32m21.3/21.3 MB\u001b[0m \u001b[31m14.3 MB/s\u001b[0m eta \u001b[36m0:00:00\u001b[0m\n",
            "\u001b[?25hRequirement already satisfied: six>=1.5 in /usr/local/lib/python3.10/dist-packages (from python-dateutil>=2.7->matplotlib>=3.3.0->ultralytics) (1.16.0)\n",
            "Requirement already satisfied: MarkupSafe>=2.0 in /usr/local/lib/python3.10/dist-packages (from jinja2->torch>=1.8.0->ultralytics) (2.1.5)\n",
            "Requirement already satisfied: mpmath<1.4.0,>=1.1.0 in /usr/local/lib/python3.10/dist-packages (from sympy->torch>=1.8.0->ultralytics) (1.3.0)\n",
            "Installing collected packages: nvidia-nvtx-cu12, nvidia-nvjitlink-cu12, nvidia-nccl-cu12, nvidia-curand-cu12, nvidia-cufft-cu12, nvidia-cuda-runtime-cu12, nvidia-cuda-nvrtc-cu12, nvidia-cuda-cupti-cu12, nvidia-cublas-cu12, nvidia-cusparse-cu12, nvidia-cudnn-cu12, nvidia-cusolver-cu12, ultralytics-thop, ultralytics\n",
            "Successfully installed nvidia-cublas-cu12-12.1.3.1 nvidia-cuda-cupti-cu12-12.1.105 nvidia-cuda-nvrtc-cu12-12.1.105 nvidia-cuda-runtime-cu12-12.1.105 nvidia-cudnn-cu12-8.9.2.26 nvidia-cufft-cu12-11.0.2.54 nvidia-curand-cu12-10.3.2.106 nvidia-cusolver-cu12-11.4.5.107 nvidia-cusparse-cu12-12.1.0.106 nvidia-nccl-cu12-2.20.5 nvidia-nvjitlink-cu12-12.5.40 nvidia-nvtx-cu12-12.1.105 ultralytics-8.2.43 ultralytics-thop-2.0.0\n",
            "Collecting wandb\n",
            "  Downloading wandb-0.17.3-py3-none-manylinux_2_5_x86_64.manylinux1_x86_64.manylinux_2_17_x86_64.manylinux2014_x86_64.whl (6.9 MB)\n",
            "\u001b[2K     \u001b[90m━━━━━━━━━━━━━━━━━━━━━━━━━━━━━━━━━━━━━━━━\u001b[0m \u001b[32m6.9/6.9 MB\u001b[0m \u001b[31m22.9 MB/s\u001b[0m eta \u001b[36m0:00:00\u001b[0m\n",
            "\u001b[?25hRequirement already satisfied: click!=8.0.0,>=7.1 in /usr/local/lib/python3.10/dist-packages (from wandb) (8.1.7)\n",
            "Collecting docker-pycreds>=0.4.0 (from wandb)\n",
            "  Downloading docker_pycreds-0.4.0-py2.py3-none-any.whl (9.0 kB)\n",
            "Collecting gitpython!=3.1.29,>=1.0.0 (from wandb)\n",
            "  Downloading GitPython-3.1.43-py3-none-any.whl (207 kB)\n",
            "\u001b[2K     \u001b[90m━━━━━━━━━━━━━━━━━━━━━━━━━━━━━━━━━━━━━━━━\u001b[0m \u001b[32m207.3/207.3 kB\u001b[0m \u001b[31m28.3 MB/s\u001b[0m eta \u001b[36m0:00:00\u001b[0m\n",
            "\u001b[?25hRequirement already satisfied: platformdirs in /usr/local/lib/python3.10/dist-packages (from wandb) (4.2.2)\n",
            "Requirement already satisfied: protobuf!=4.21.0,<6,>=3.19.0 in /usr/local/lib/python3.10/dist-packages (from wandb) (3.20.3)\n",
            "Requirement already satisfied: psutil>=5.0.0 in /usr/local/lib/python3.10/dist-packages (from wandb) (5.9.5)\n",
            "Requirement already satisfied: pyyaml in /usr/local/lib/python3.10/dist-packages (from wandb) (6.0.1)\n",
            "Requirement already satisfied: requests<3,>=2.0.0 in /usr/local/lib/python3.10/dist-packages (from wandb) (2.31.0)\n",
            "Collecting sentry-sdk>=1.0.0 (from wandb)\n",
            "  Downloading sentry_sdk-2.7.0-py2.py3-none-any.whl (300 kB)\n",
            "\u001b[2K     \u001b[90m━━━━━━━━━━━━━━━━━━━━━━━━━━━━━━━━━━━━━━━━\u001b[0m \u001b[32m300.1/300.1 kB\u001b[0m \u001b[31m36.0 MB/s\u001b[0m eta \u001b[36m0:00:00\u001b[0m\n",
            "\u001b[?25hCollecting setproctitle (from wandb)\n",
            "  Downloading setproctitle-1.3.3-cp310-cp310-manylinux_2_5_x86_64.manylinux1_x86_64.manylinux_2_17_x86_64.manylinux2014_x86_64.whl (30 kB)\n",
            "Requirement already satisfied: setuptools in /usr/local/lib/python3.10/dist-packages (from wandb) (67.7.2)\n",
            "Requirement already satisfied: six>=1.4.0 in /usr/local/lib/python3.10/dist-packages (from docker-pycreds>=0.4.0->wandb) (1.16.0)\n",
            "Collecting gitdb<5,>=4.0.1 (from gitpython!=3.1.29,>=1.0.0->wandb)\n",
            "  Downloading gitdb-4.0.11-py3-none-any.whl (62 kB)\n",
            "\u001b[2K     \u001b[90m━━━━━━━━━━━━━━━━━━━━━━━━━━━━━━━━━━━━━━━━\u001b[0m \u001b[32m62.7/62.7 kB\u001b[0m \u001b[31m9.5 MB/s\u001b[0m eta \u001b[36m0:00:00\u001b[0m\n",
            "\u001b[?25hRequirement already satisfied: charset-normalizer<4,>=2 in /usr/local/lib/python3.10/dist-packages (from requests<3,>=2.0.0->wandb) (3.3.2)\n",
            "Requirement already satisfied: idna<4,>=2.5 in /usr/local/lib/python3.10/dist-packages (from requests<3,>=2.0.0->wandb) (3.7)\n",
            "Requirement already satisfied: urllib3<3,>=1.21.1 in /usr/local/lib/python3.10/dist-packages (from requests<3,>=2.0.0->wandb) (2.0.7)\n",
            "Requirement already satisfied: certifi>=2017.4.17 in /usr/local/lib/python3.10/dist-packages (from requests<3,>=2.0.0->wandb) (2024.6.2)\n",
            "Collecting smmap<6,>=3.0.1 (from gitdb<5,>=4.0.1->gitpython!=3.1.29,>=1.0.0->wandb)\n",
            "  Downloading smmap-5.0.1-py3-none-any.whl (24 kB)\n",
            "Installing collected packages: smmap, setproctitle, sentry-sdk, docker-pycreds, gitdb, gitpython, wandb\n",
            "Successfully installed docker-pycreds-0.4.0 gitdb-4.0.11 gitpython-3.1.43 sentry-sdk-2.7.0 setproctitle-1.3.3 smmap-5.0.1 wandb-0.17.3\n"
          ]
        }
      ],
      "source": [
        "!pip install ultralytics\n",
        "!pip install wandb"
      ]
    },
    {
      "cell_type": "code",
      "execution_count": null,
      "metadata": {
        "colab": {
          "base_uri": "https://localhost:8080/",
          "height": 243
        },
        "id": "DCgLrDKHpEGW",
        "outputId": "87a55182-8b52-4935-8e47-5958a751cb05"
      },
      "outputs": [
        {
          "data": {
            "application/javascript": "\n        window._wandbApiKey = new Promise((resolve, reject) => {\n            function loadScript(url) {\n            return new Promise(function(resolve, reject) {\n                let newScript = document.createElement(\"script\");\n                newScript.onerror = reject;\n                newScript.onload = resolve;\n                document.body.appendChild(newScript);\n                newScript.src = url;\n            });\n            }\n            loadScript(\"https://cdn.jsdelivr.net/npm/postmate/build/postmate.min.js\").then(() => {\n            const iframe = document.createElement('iframe')\n            iframe.style.cssText = \"width:0;height:0;border:none\"\n            document.body.appendChild(iframe)\n            const handshake = new Postmate({\n                container: iframe,\n                url: 'https://wandb.ai/authorize'\n            });\n            const timeout = setTimeout(() => reject(\"Couldn't auto authenticate\"), 5000)\n            handshake.then(function(child) {\n                child.on('authorize', data => {\n                    clearTimeout(timeout)\n                    resolve(data)\n                });\n            });\n            })\n        });\n    ",
            "text/plain": [
              "<IPython.core.display.Javascript object>"
            ]
          },
          "metadata": {},
          "output_type": "display_data"
        },
        {
          "name": "stderr",
          "output_type": "stream",
          "text": [
            "\u001b[34m\u001b[1mwandb\u001b[0m: Logging into wandb.ai. (Learn how to deploy a W&B server locally: https://wandb.me/wandb-server)\n",
            "\u001b[34m\u001b[1mwandb\u001b[0m: You can find your API key in your browser here: https://wandb.ai/authorize\n",
            "wandb: Paste an API key from your profile and hit enter, or press ctrl+c to quit:"
          ]
        },
        {
          "name": "stdout",
          "output_type": "stream",
          "text": [
            " ··········\n"
          ]
        },
        {
          "name": "stderr",
          "output_type": "stream",
          "text": [
            "\u001b[34m\u001b[1mwandb\u001b[0m: Appending key for api.wandb.ai to your netrc file: /root/.netrc\n"
          ]
        },
        {
          "data": {
            "text/html": [
              "Tracking run with wandb version 0.17.3"
            ],
            "text/plain": [
              "<IPython.core.display.HTML object>"
            ]
          },
          "metadata": {},
          "output_type": "display_data"
        },
        {
          "data": {
            "text/html": [
              "Run data is saved locally in <code>/content/wandb/run-20240625_090548-hfxgmca6</code>"
            ],
            "text/plain": [
              "<IPython.core.display.HTML object>"
            ]
          },
          "metadata": {},
          "output_type": "display_data"
        },
        {
          "data": {
            "text/html": [
              "Syncing run <strong><a href='https://wandb.ai/prawns/uncategorized/runs/hfxgmca6' target=\"_blank\">divine-deluge-19</a></strong> to <a href='https://wandb.ai/prawns/uncategorized' target=\"_blank\">Weights & Biases</a> (<a href='https://wandb.me/run' target=\"_blank\">docs</a>)<br/>"
            ],
            "text/plain": [
              "<IPython.core.display.HTML object>"
            ]
          },
          "metadata": {},
          "output_type": "display_data"
        },
        {
          "data": {
            "text/html": [
              " View project at <a href='https://wandb.ai/prawns/uncategorized' target=\"_blank\">https://wandb.ai/prawns/uncategorized</a>"
            ],
            "text/plain": [
              "<IPython.core.display.HTML object>"
            ]
          },
          "metadata": {},
          "output_type": "display_data"
        },
        {
          "data": {
            "text/html": [
              " View run at <a href='https://wandb.ai/prawns/uncategorized/runs/hfxgmca6' target=\"_blank\">https://wandb.ai/prawns/uncategorized/runs/hfxgmca6</a>"
            ],
            "text/plain": [
              "<IPython.core.display.HTML object>"
            ]
          },
          "metadata": {},
          "output_type": "display_data"
        },
        {
          "name": "stderr",
          "output_type": "stream",
          "text": [
            "\u001b[34m\u001b[1mwandb\u001b[0m: Downloading large artifact yolov8-only_31.12_-segment_segment.pt:v31, 263.64MB. 1 files... \n",
            "\u001b[34m\u001b[1mwandb\u001b[0m:   1 of 1 files downloaded.  \n",
            "Done. 0:0:18.0\n"
          ]
        }
      ],
      "source": [
        "import wandb\n",
        "run = wandb.init()\n",
        "artifact = run.use_artifact('prawns/measurement paper/yolov8-only_31.12_-segment_segment.pt:v31', type='model')\n",
        "artifact_dir = artifact.download()"
      ]
    },
    {
      "cell_type": "code",
      "execution_count": null,
      "metadata": {
        "id": "pj5SYi_yFH6J"
      },
      "outputs": [],
      "source": [
        "from YoloToWandbKeypoint import WandbCallback\n",
        "\n",
        "from pathlib import Path\n",
        "import wandb\n",
        "import re\n",
        "# Load a COCO-pretrained RT-DETR-l model\n",
        "import wandb\n"
      ]
    },
    {
      "cell_type": "code",
      "execution_count": null,
      "metadata": {
        "colab": {
          "base_uri": "https://localhost:8080/"
        },
        "id": "z05Xss1qDayP",
        "outputId": "1b2166d9-1d37-4605-8b47-b7eefa8ffa41"
      },
      "outputs": [
        {
          "name": "stdout",
          "output_type": "stream",
          "text": [
            "Mounted at /content/drive\n"
          ]
        }
      ],
      "source": [
        "from google.colab import drive\n",
        "drive.mount('/content/drive')"
      ]
    },
    {
      "cell_type": "code",
      "execution_count": null,
      "metadata": {
        "colab": {
          "base_uri": "https://localhost:8080/"
        },
        "id": "aVJ76qC82L_L",
        "outputId": "289b2a5d-fffa-4aaa-e9b0-5e58eeb0e3df"
      },
      "outputs": [
        {
          "data": {
            "text/plain": [
              "<module 'yolov8l16' from '/content/yolov8l16.py'>"
            ]
          },
          "execution_count": 5,
          "metadata": {},
          "output_type": "execute_result"
        }
      ],
      "source": [
        "import importlib\n",
        "import yolov8l16\n",
        "\n",
        "importlib.reload(yolov8l16)"
      ]
    },
    {
      "cell_type": "code",
      "execution_count": null,
      "metadata": {
        "colab": {
          "base_uri": "https://localhost:8080/"
        },
        "id": "i14UZlKO2L_L",
        "outputId": "b874c949-438d-4c84-b9b1-64425587b846"
      },
      "outputs": [
        {
          "name": "stdout",
          "output_type": "stream",
          "text": [
            "Downloading https://github.com/ultralytics/assets/releases/download/v8.2.0/yolov8x-seg.pt to 'yolov8x-seg.pt'...\n"
          ]
        },
        {
          "name": "stderr",
          "output_type": "stream",
          "text": [
            "100%|██████████| 137M/137M [00:00<00:00, 322MB/s]\n"
          ]
        }
      ],
      "source": [
        "from ultralytics import RTDETR\n",
        "\n",
        "# Load a COCO-pretrained RT-DETR-l model\n",
        "model = RTDETR(\"rtdetr-l.pt\")"
      ]
    },
    {
      "cell_type": "code",
      "execution_count": null,
      "metadata": {
        "id": "gnJ14wJz2L_L"
      },
      "outputs": [],
      "source": [
        "\n",
        "wandb_logger = WandbCallback(\n",
        "        model,project='measurement paper',run_name='rtdetr-drone',tags=['detection','drone','rtdetr-l']\n",
        "    )\n",
        "\n",
        "for event, callback_fn in wandb_logger.callbacks.items():\n",
        "    model.add_callback(event, callback_fn)"
      ]
    },
    {
      "cell_type": "markdown",
      "metadata": {
        "id": "iOsk1XDEaYRo"
      },
      "source": [
        "## train notice yaml addresses ##"
      ]
    },
    {
      "cell_type": "code",
      "execution_count": null,
      "metadata": {
        "colab": {
          "base_uri": "https://localhost:8080/",
          "height": 1000,
          "referenced_widgets": [
            "1c6bd8120e734e56b5487cd053f83278",
            "fdf8908de8394417b886b2c3778233ed",
            "6ff4c76b803a47289438e0441783a9fc",
            "d8c29e5dae0e4c93be7d7f1fbb6bd108",
            "fd56d530428e45efbbb9895bc38959e6",
            "d08b14b8dd7f4235be3f707e3ccf537a",
            "de9aaa93250f4ace9680a13585a17c19",
            "4870583b9b89419d8c5e6a1950a95273"
          ]
        },
        "id": "cxGXiR4CFH6J",
        "outputId": "2c8387cc-4653-4751-e71f-35e863f1b157"
      },
      "outputs": [
        {
          "name": "stdout",
          "output_type": "stream",
          "text": [
            "Ultralytics YOLOv8.2.43 🚀 Python-3.10.12 torch-2.3.0+cu121 CUDA:0 (Tesla T4, 15102MiB)\n",
            "\u001b[34m\u001b[1mengine/trainer: \u001b[0mtask=segment, mode=train, model=yolov8x-seg.pt, data=/content/drive/MyDrive/colab experiments/to colab only 31-12 segment with 76/data.yaml, epochs=300, time=None, patience=50, batch=8, imgsz=640, save=True, save_period=-1, cache=False, device=None, workers=8, project=None, name=train, exist_ok=False, pretrained=True, optimizer=auto, verbose=True, seed=42, deterministic=True, single_cls=False, rect=False, cos_lr=False, close_mosaic=10, resume=False, amp=True, fraction=1.0, profile=False, freeze=None, multi_scale=False, overlap_mask=True, mask_ratio=4, dropout=0.0, val=True, split=val, save_json=False, save_hybrid=False, conf=None, iou=0.7, max_det=300, half=False, dnn=False, plots=True, source=None, vid_stride=1, stream_buffer=False, visualize=False, augment=False, agnostic_nms=False, classes=None, retina_masks=False, embed=None, show=False, save_frames=False, save_txt=False, save_conf=False, save_crop=False, show_labels=True, show_conf=True, show_boxes=True, line_width=None, format=torchscript, keras=False, optimize=False, int8=False, dynamic=False, simplify=False, opset=None, workspace=4, nms=False, lr0=0.01, lrf=0.01, momentum=0.937, weight_decay=0.0005, warmup_epochs=3.0, warmup_momentum=0.8, warmup_bias_lr=0.1, box=7.5, cls=0.5, dfl=1.5, pose=12.0, kobj=1.0, label_smoothing=0.0, nbs=64, hsv_h=0.015, hsv_s=0.7, hsv_v=0.4, degrees=0.0, translate=0.1, scale=0.5, shear=0.0, perspective=0.0, flipud=0.0, fliplr=0.5, bgr=0.0, mosaic=1.0, mixup=0.0, copy_paste=0.0, auto_augment=randaugment, erasing=0.4, crop_fraction=1.0, cfg=None, tracker=botsort.yaml, save_dir=runs/segment/train\n",
            "Downloading https://ultralytics.com/assets/Arial.ttf to '/root/.config/Ultralytics/Arial.ttf'...\n"
          ]
        },
        {
          "name": "stderr",
          "output_type": "stream",
          "text": [
            "100%|██████████| 755k/755k [00:00<00:00, 23.2MB/s]\n"
          ]
        },
        {
          "name": "stdout",
          "output_type": "stream",
          "text": [
            "Overriding model.yaml nc=80 with nc=1\n",
            "\n",
            "                   from  n    params  module                                       arguments                     \n",
            "  0                  -1  1      2320  ultralytics.nn.modules.conv.Conv             [3, 80, 3, 2]                 \n",
            "  1                  -1  1    115520  ultralytics.nn.modules.conv.Conv             [80, 160, 3, 2]               \n",
            "  2                  -1  3    436800  ultralytics.nn.modules.block.C2f             [160, 160, 3, True]           \n",
            "  3                  -1  1    461440  ultralytics.nn.modules.conv.Conv             [160, 320, 3, 2]              \n",
            "  4                  -1  6   3281920  ultralytics.nn.modules.block.C2f             [320, 320, 6, True]           \n",
            "  5                  -1  1   1844480  ultralytics.nn.modules.conv.Conv             [320, 640, 3, 2]              \n",
            "  6                  -1  6  13117440  ultralytics.nn.modules.block.C2f             [640, 640, 6, True]           \n",
            "  7                  -1  1   3687680  ultralytics.nn.modules.conv.Conv             [640, 640, 3, 2]              \n",
            "  8                  -1  3   6969600  ultralytics.nn.modules.block.C2f             [640, 640, 3, True]           \n",
            "  9                  -1  1   1025920  ultralytics.nn.modules.block.SPPF            [640, 640, 5]                 \n",
            " 10                  -1  1         0  torch.nn.modules.upsampling.Upsample         [None, 2, 'nearest']          \n",
            " 11             [-1, 6]  1         0  ultralytics.nn.modules.conv.Concat           [1]                           \n",
            " 12                  -1  3   7379200  ultralytics.nn.modules.block.C2f             [1280, 640, 3]                \n",
            " 13                  -1  1         0  torch.nn.modules.upsampling.Upsample         [None, 2, 'nearest']          \n",
            " 14             [-1, 4]  1         0  ultralytics.nn.modules.conv.Concat           [1]                           \n",
            " 15                  -1  3   1948800  ultralytics.nn.modules.block.C2f             [960, 320, 3]                 \n",
            " 16                  -1  1    922240  ultralytics.nn.modules.conv.Conv             [320, 320, 3, 2]              \n",
            " 17            [-1, 12]  1         0  ultralytics.nn.modules.conv.Concat           [1]                           \n",
            " 18                  -1  3   7174400  ultralytics.nn.modules.block.C2f             [960, 640, 3]                 \n",
            " 19                  -1  1   3687680  ultralytics.nn.modules.conv.Conv             [640, 640, 3, 2]              \n",
            " 20             [-1, 9]  1         0  ultralytics.nn.modules.conv.Concat           [1]                           \n",
            " 21                  -1  3   7379200  ultralytics.nn.modules.block.C2f             [1280, 640, 3]                \n",
            " 22        [15, 18, 21]  1  12317171  ultralytics.nn.modules.head.Segment          [1, 32, 320, [320, 640, 640]] \n",
            "YOLOv8x-seg summary: 401 layers, 71751811 parameters, 71751795 gradients, 344.5 GFLOPs\n",
            "\n",
            "Transferred 651/657 items from pretrained weights\n"
          ]
        },
        {
          "data": {
            "application/javascript": "\n        window._wandbApiKey = new Promise((resolve, reject) => {\n            function loadScript(url) {\n            return new Promise(function(resolve, reject) {\n                let newScript = document.createElement(\"script\");\n                newScript.onerror = reject;\n                newScript.onload = resolve;\n                document.body.appendChild(newScript);\n                newScript.src = url;\n            });\n            }\n            loadScript(\"https://cdn.jsdelivr.net/npm/postmate/build/postmate.min.js\").then(() => {\n            const iframe = document.createElement('iframe')\n            iframe.style.cssText = \"width:0;height:0;border:none\"\n            document.body.appendChild(iframe)\n            const handshake = new Postmate({\n                container: iframe,\n                url: 'https://wandb.ai/authorize'\n            });\n            const timeout = setTimeout(() => reject(\"Couldn't auto authenticate\"), 5000)\n            handshake.then(function(child) {\n                child.on('authorize', data => {\n                    clearTimeout(timeout)\n                    resolve(data)\n                });\n            });\n            })\n        });\n    ",
            "text/plain": [
              "<IPython.core.display.Javascript object>"
            ]
          },
          "metadata": {},
          "output_type": "display_data"
        },
        {
          "name": "stderr",
          "output_type": "stream",
          "text": [
            "\u001b[34m\u001b[1mwandb\u001b[0m: Logging into wandb.ai. (Learn how to deploy a W&B server locally: https://wandb.me/wandb-server)\n",
            "\u001b[34m\u001b[1mwandb\u001b[0m: You can find your API key in your browser here: https://wandb.ai/authorize\n",
            "wandb: Paste an API key from your profile and hit enter, or press ctrl+c to quit:\u001b[34m\u001b[1mwandb\u001b[0m: Appending key for api.wandb.ai to your netrc file: /root/.netrc\n"
          ]
        },
        {
          "data": {
            "text/html": [
              "Tracking run with wandb version 0.17.3"
            ],
            "text/plain": [
              "<IPython.core.display.HTML object>"
            ]
          },
          "metadata": {},
          "output_type": "display_data"
        },
        {
          "data": {
            "text/html": [
              "Run data is saved locally in <code>/content/wandb/run-20240626_141438-kzau1vak</code>"
            ],
            "text/plain": [
              "<IPython.core.display.HTML object>"
            ]
          },
          "metadata": {},
          "output_type": "display_data"
        },
        {
          "data": {
            "text/html": [
              "Syncing run <strong><a href='https://wandb.ai/prawns/measurement%20paper/runs/kzau1vak' target=\"_blank\">yolov8-only_31.12_-segment_with_76_x</a></strong> to <a href='https://wandb.ai/prawns/measurement%20paper' target=\"_blank\">Weights & Biases</a> (<a href='https://wandb.me/run' target=\"_blank\">docs</a>)<br/>"
            ],
            "text/plain": [
              "<IPython.core.display.HTML object>"
            ]
          },
          "metadata": {},
          "output_type": "display_data"
        },
        {
          "data": {
            "text/html": [
              " View project at <a href='https://wandb.ai/prawns/measurement%20paper' target=\"_blank\">https://wandb.ai/prawns/measurement%20paper</a>"
            ],
            "text/plain": [
              "<IPython.core.display.HTML object>"
            ]
          },
          "metadata": {},
          "output_type": "display_data"
        },
        {
          "data": {
            "text/html": [
              " View run at <a href='https://wandb.ai/prawns/measurement%20paper/runs/kzau1vak' target=\"_blank\">https://wandb.ai/prawns/measurement%20paper/runs/kzau1vak</a>"
            ],
            "text/plain": [
              "<IPython.core.display.HTML object>"
            ]
          },
          "metadata": {},
          "output_type": "display_data"
        },
        {
          "name": "stdout",
          "output_type": "stream",
          "text": [
            "\u001b[34m\u001b[1mTensorBoard: \u001b[0mStart with 'tensorboard --logdir runs/segment/train', view at http://localhost:6006/\n",
            "Freezing layer 'model.22.dfl.conv.weight'\n",
            "\u001b[34m\u001b[1mAMP: \u001b[0mrunning Automatic Mixed Precision (AMP) checks with YOLOv8n...\n",
            "Downloading https://github.com/ultralytics/assets/releases/download/v8.2.0/yolov8n.pt to 'yolov8n.pt'...\n"
          ]
        },
        {
          "name": "stderr",
          "output_type": "stream",
          "text": [
            "100%|██████████| 6.23M/6.23M [00:00<00:00, 109MB/s]\n",
            "/usr/local/lib/python3.10/dist-packages/torch/nn/modules/conv.py:456: UserWarning: Plan failed with a cudnnException: CUDNN_BACKEND_EXECUTION_PLAN_DESCRIPTOR: cudnnFinalize Descriptor Failed cudnn_status: CUDNN_STATUS_NOT_SUPPORTED (Triggered internally at ../aten/src/ATen/native/cudnn/Conv_v8.cpp:919.)\n",
            "  return F.conv2d(input, weight, bias, self.stride,\n"
          ]
        },
        {
          "name": "stdout",
          "output_type": "stream",
          "text": [
            "\u001b[34m\u001b[1mAMP: \u001b[0mchecks passed ✅\n"
          ]
        },
        {
          "name": "stderr",
          "output_type": "stream",
          "text": [
            "\u001b[34m\u001b[1mtrain: \u001b[0mScanning /content/drive/MyDrive/colab experiments/to colab only 31-12 segment with 76/train/labels.cache... 445 images, 1 backgrounds, 0 corrupt: 100%|██████████| 445/445 [00:00<?, ?it/s]\n"
          ]
        },
        {
          "name": "stdout",
          "output_type": "stream",
          "text": [
            "\u001b[34m\u001b[1malbumentations: \u001b[0mBlur(p=0.01, blur_limit=(3, 7)), MedianBlur(p=0.01, blur_limit=(3, 7)), ToGray(p=0.01), CLAHE(p=0.01, clip_limit=(1, 4.0), tile_grid_size=(8, 8))\n"
          ]
        },
        {
          "name": "stderr",
          "output_type": "stream",
          "text": [
            "/usr/lib/python3.10/multiprocessing/popen_fork.py:66: RuntimeWarning: os.fork() was called. os.fork() is incompatible with multithreaded code, and JAX is multithreaded, so this will likely lead to a deadlock.\n",
            "  self.pid = os.fork()\n",
            "\u001b[34m\u001b[1mval: \u001b[0mScanning /content/drive/MyDrive/colab experiments/to colab only 31-12 segment with 76/val/labels.cache... 123 images, 0 backgrounds, 0 corrupt: 100%|██████████| 123/123 [00:00<?, ?it/s]\n"
          ]
        },
        {
          "name": "stdout",
          "output_type": "stream",
          "text": [
            "Plotting labels to runs/segment/train/labels.jpg... \n",
            "\u001b[34m\u001b[1moptimizer:\u001b[0m 'optimizer=auto' found, ignoring 'lr0=0.01' and 'momentum=0.937' and determining best 'optimizer', 'lr0' and 'momentum' automatically... \n",
            "\u001b[34m\u001b[1moptimizer:\u001b[0m AdamW(lr=0.002, momentum=0.9) with parameter groups 106 weight(decay=0.0), 117 weight(decay=0.0005), 116 bias(decay=0.0)\n",
            "\u001b[34m\u001b[1mTensorBoard: \u001b[0mmodel graph visualization added ✅\n",
            "Image sizes 640 train, 640 val\n",
            "Using 2 dataloader workers\n",
            "Logging results to \u001b[1mruns/segment/train\u001b[0m\n",
            "Starting training for 300 epochs...\n",
            "\n",
            "      Epoch    GPU_mem   box_loss   seg_loss   cls_loss   dfl_loss  Instances       Size\n"
          ]
        },
        {
          "name": "stderr",
          "output_type": "stream",
          "text": [
            "      1/300      8.65G      1.714      2.069      2.105      1.507         42        640: 100%|██████████| 56/56 [00:54<00:00,  1.04it/s]\n",
            "                 Class     Images  Instances      Box(P          R      mAP50  mAP50-95)     Mask(P          R      mAP50  mAP50-95): 100%|██████████| 8/8 [00:14<00:00,  1.86s/it]"
          ]
        },
        {
          "name": "stdout",
          "output_type": "stream",
          "text": [
            "                   all        123        528    0.00324      0.225    0.00198   0.000796    0.00284      0.197     0.0017   0.000701\n"
          ]
        },
        {
          "name": "stderr",
          "output_type": "stream",
          "text": [
            "\n",
            "/usr/local/lib/python3.10/dist-packages/torch/nn/modules/conv.py:952: UserWarning: Plan failed with a cudnnException: CUDNN_BACKEND_EXECUTION_PLAN_DESCRIPTOR: cudnnFinalize Descriptor Failed cudnn_status: CUDNN_STATUS_NOT_SUPPORTED (Triggered internally at ../aten/src/ATen/native/cudnn/Conv_v8.cpp:919.)\n",
            "  return F.conv_transpose2d(\n"
          ]
        },
        {
          "name": "stdout",
          "output_type": "stream",
          "text": [
            "\n",
            "      Epoch    GPU_mem   box_loss   seg_loss   cls_loss   dfl_loss  Instances       Size\n"
          ]
        },
        {
          "name": "stderr",
          "output_type": "stream",
          "text": [
            "      2/300      8.54G      1.738      2.085      1.606      1.588         22        640: 100%|██████████| 56/56 [00:46<00:00,  1.20it/s]\n",
            "                 Class     Images  Instances      Box(P          R      mAP50  mAP50-95)     Mask(P          R      mAP50  mAP50-95): 100%|██████████| 8/8 [00:05<00:00,  1.44it/s]"
          ]
        },
        {
          "name": "stdout",
          "output_type": "stream",
          "text": [
            "                   all        123        528     0.0112      0.449    0.00829    0.00387     0.0116      0.462    0.00836    0.00383\n"
          ]
        },
        {
          "name": "stderr",
          "output_type": "stream",
          "text": [
            "\n"
          ]
        },
        {
          "name": "stdout",
          "output_type": "stream",
          "text": [
            "\n",
            "      Epoch    GPU_mem   box_loss   seg_loss   cls_loss   dfl_loss  Instances       Size\n"
          ]
        },
        {
          "name": "stderr",
          "output_type": "stream",
          "text": [
            "      3/300      8.52G      1.774      2.077      1.569      1.633         33        640: 100%|██████████| 56/56 [00:46<00:00,  1.21it/s]\n",
            "                 Class     Images  Instances      Box(P          R      mAP50  mAP50-95)     Mask(P          R      mAP50  mAP50-95): 100%|██████████| 8/8 [00:05<00:00,  1.42it/s]"
          ]
        },
        {
          "name": "stdout",
          "output_type": "stream",
          "text": [
            "                   all        123        528    0.00405      0.235    0.00248    0.00111    0.00402      0.229    0.00231    0.00122\n"
          ]
        },
        {
          "name": "stderr",
          "output_type": "stream",
          "text": [
            "\n"
          ]
        },
        {
          "name": "stdout",
          "output_type": "stream",
          "text": [
            "\n",
            "      Epoch    GPU_mem   box_loss   seg_loss   cls_loss   dfl_loss  Instances       Size\n"
          ]
        },
        {
          "name": "stderr",
          "output_type": "stream",
          "text": [
            "      4/300      8.59G      1.781      2.015      1.488      1.634         31        640: 100%|██████████| 56/56 [00:45<00:00,  1.23it/s]\n",
            "                 Class     Images  Instances      Box(P          R      mAP50  mAP50-95)     Mask(P          R      mAP50  mAP50-95): 100%|██████████| 8/8 [00:05<00:00,  1.48it/s]"
          ]
        },
        {
          "name": "stdout",
          "output_type": "stream",
          "text": [
            "                   all        123        528       0.47      0.496      0.405       0.15      0.507      0.536      0.448      0.197\n"
          ]
        },
        {
          "name": "stderr",
          "output_type": "stream",
          "text": [
            "\n"
          ]
        },
        {
          "name": "stdout",
          "output_type": "stream",
          "text": [
            "\n",
            "      Epoch    GPU_mem   box_loss   seg_loss   cls_loss   dfl_loss  Instances       Size\n"
          ]
        },
        {
          "name": "stderr",
          "output_type": "stream",
          "text": [
            "      5/300      8.57G      1.702      1.944      1.375      1.569         24        640: 100%|██████████| 56/56 [00:45<00:00,  1.22it/s]\n",
            "                 Class     Images  Instances      Box(P          R      mAP50  mAP50-95)     Mask(P          R      mAP50  mAP50-95): 100%|██████████| 8/8 [00:05<00:00,  1.44it/s]"
          ]
        },
        {
          "name": "stdout",
          "output_type": "stream",
          "text": [
            "                   all        123        528      0.614      0.542       0.56      0.227      0.659      0.581      0.598      0.281\n"
          ]
        },
        {
          "name": "stderr",
          "output_type": "stream",
          "text": [
            "\n"
          ]
        },
        {
          "name": "stdout",
          "output_type": "stream",
          "text": [
            "\n",
            "      Epoch    GPU_mem   box_loss   seg_loss   cls_loss   dfl_loss  Instances       Size\n"
          ]
        },
        {
          "name": "stderr",
          "output_type": "stream",
          "text": [
            "      6/300      8.58G       1.66      1.805      1.354      1.554         29        640: 100%|██████████| 56/56 [00:47<00:00,  1.17it/s]\n",
            "                 Class     Images  Instances      Box(P          R      mAP50  mAP50-95)     Mask(P          R      mAP50  mAP50-95): 100%|██████████| 8/8 [00:05<00:00,  1.47it/s]"
          ]
        },
        {
          "name": "stdout",
          "output_type": "stream",
          "text": [
            "                   all        123        528      0.738      0.651      0.717      0.327      0.754      0.653      0.718      0.342\n"
          ]
        },
        {
          "name": "stderr",
          "output_type": "stream",
          "text": [
            "\n"
          ]
        },
        {
          "name": "stdout",
          "output_type": "stream",
          "text": [
            "\n",
            "      Epoch    GPU_mem   box_loss   seg_loss   cls_loss   dfl_loss  Instances       Size\n"
          ]
        },
        {
          "name": "stderr",
          "output_type": "stream",
          "text": [
            "      7/300      8.63G      1.631      1.834      1.279      1.526         31        640: 100%|██████████| 56/56 [00:46<00:00,  1.20it/s]\n",
            "                 Class     Images  Instances      Box(P          R      mAP50  mAP50-95)     Mask(P          R      mAP50  mAP50-95): 100%|██████████| 8/8 [00:04<00:00,  1.63it/s]"
          ]
        },
        {
          "name": "stdout",
          "output_type": "stream",
          "text": [
            "                   all        123        528      0.707      0.669      0.708      0.367      0.733      0.693      0.741      0.379\n"
          ]
        },
        {
          "name": "stderr",
          "output_type": "stream",
          "text": [
            "\n"
          ]
        },
        {
          "name": "stdout",
          "output_type": "stream",
          "text": [
            "\n",
            "      Epoch    GPU_mem   box_loss   seg_loss   cls_loss   dfl_loss  Instances       Size\n"
          ]
        },
        {
          "name": "stderr",
          "output_type": "stream",
          "text": [
            "      8/300      8.51G      1.639      1.754      1.253      1.513         21        640: 100%|██████████| 56/56 [00:47<00:00,  1.17it/s]\n",
            "                 Class     Images  Instances      Box(P          R      mAP50  mAP50-95)     Mask(P          R      mAP50  mAP50-95): 100%|██████████| 8/8 [00:05<00:00,  1.46it/s]"
          ]
        },
        {
          "name": "stdout",
          "output_type": "stream",
          "text": [
            "                   all        123        528       0.72      0.659      0.696      0.341      0.749       0.69      0.727      0.349\n"
          ]
        },
        {
          "name": "stderr",
          "output_type": "stream",
          "text": [
            "\n"
          ]
        },
        {
          "name": "stdout",
          "output_type": "stream",
          "text": [
            "\n",
            "      Epoch    GPU_mem   box_loss   seg_loss   cls_loss   dfl_loss  Instances       Size\n"
          ]
        },
        {
          "name": "stderr",
          "output_type": "stream",
          "text": [
            "      9/300      8.58G      1.601      1.816      1.228      1.514         30        640: 100%|██████████| 56/56 [00:45<00:00,  1.23it/s]\n",
            "                 Class     Images  Instances      Box(P          R      mAP50  mAP50-95)     Mask(P          R      mAP50  mAP50-95): 100%|██████████| 8/8 [00:05<00:00,  1.43it/s]"
          ]
        },
        {
          "name": "stdout",
          "output_type": "stream",
          "text": [
            "                   all        123        528      0.823       0.72      0.786      0.406      0.855      0.735      0.815      0.444\n"
          ]
        },
        {
          "name": "stderr",
          "output_type": "stream",
          "text": [
            "\n"
          ]
        },
        {
          "name": "stdout",
          "output_type": "stream",
          "text": [
            "\n",
            "      Epoch    GPU_mem   box_loss   seg_loss   cls_loss   dfl_loss  Instances       Size\n"
          ]
        },
        {
          "name": "stderr",
          "output_type": "stream",
          "text": [
            "     10/300      8.63G       1.58       1.66       1.16      1.519         32        640: 100%|██████████| 56/56 [00:46<00:00,  1.20it/s]\n",
            "                 Class     Images  Instances      Box(P          R      mAP50  mAP50-95)     Mask(P          R      mAP50  mAP50-95): 100%|██████████| 8/8 [00:04<00:00,  1.61it/s]"
          ]
        },
        {
          "name": "stdout",
          "output_type": "stream",
          "text": [
            "                   all        123        528      0.729      0.621      0.667      0.321      0.761      0.656      0.707      0.372\n"
          ]
        },
        {
          "name": "stderr",
          "output_type": "stream",
          "text": [
            "\n"
          ]
        },
        {
          "name": "stdout",
          "output_type": "stream",
          "text": [
            "\n",
            "      Epoch    GPU_mem   box_loss   seg_loss   cls_loss   dfl_loss  Instances       Size\n"
          ]
        },
        {
          "name": "stderr",
          "output_type": "stream",
          "text": [
            "     11/300      8.62G      1.558      1.645      1.146      1.483         28        640: 100%|██████████| 56/56 [00:45<00:00,  1.23it/s]\n",
            "                 Class     Images  Instances      Box(P          R      mAP50  mAP50-95)     Mask(P          R      mAP50  mAP50-95): 100%|██████████| 8/8 [00:05<00:00,  1.56it/s]"
          ]
        },
        {
          "name": "stdout",
          "output_type": "stream",
          "text": [
            "                   all        123        528      0.767      0.756      0.791      0.419      0.779      0.767      0.813      0.472\n"
          ]
        },
        {
          "name": "stderr",
          "output_type": "stream",
          "text": [
            "\n"
          ]
        },
        {
          "name": "stdout",
          "output_type": "stream",
          "text": [
            "\n",
            "      Epoch    GPU_mem   box_loss   seg_loss   cls_loss   dfl_loss  Instances       Size\n"
          ]
        },
        {
          "name": "stderr",
          "output_type": "stream",
          "text": [
            "     12/300      8.58G      1.523      1.632      1.105      1.457         28        640: 100%|██████████| 56/56 [00:51<00:00,  1.09it/s]\n",
            "                 Class     Images  Instances      Box(P          R      mAP50  mAP50-95)     Mask(P          R      mAP50  mAP50-95): 100%|██████████| 8/8 [00:04<00:00,  1.68it/s]"
          ]
        },
        {
          "name": "stdout",
          "output_type": "stream",
          "text": [
            "                   all        123        528      0.777      0.726      0.789      0.408      0.789      0.784      0.832      0.453\n"
          ]
        },
        {
          "name": "stderr",
          "output_type": "stream",
          "text": [
            "\n"
          ]
        },
        {
          "name": "stdout",
          "output_type": "stream",
          "text": [
            "\n",
            "      Epoch    GPU_mem   box_loss   seg_loss   cls_loss   dfl_loss  Instances       Size\n"
          ]
        },
        {
          "name": "stderr",
          "output_type": "stream",
          "text": [
            "     13/300      8.57G      1.481      1.578      1.066      1.431         34        640: 100%|██████████| 56/56 [00:45<00:00,  1.23it/s]\n",
            "                 Class     Images  Instances      Box(P          R      mAP50  mAP50-95)     Mask(P          R      mAP50  mAP50-95): 100%|██████████| 8/8 [00:05<00:00,  1.56it/s]"
          ]
        },
        {
          "name": "stdout",
          "output_type": "stream",
          "text": [
            "                   all        123        528      0.767      0.753      0.804      0.431      0.801      0.763      0.835      0.465\n"
          ]
        },
        {
          "name": "stderr",
          "output_type": "stream",
          "text": [
            "\n"
          ]
        },
        {
          "name": "stdout",
          "output_type": "stream",
          "text": [
            "\n",
            "      Epoch    GPU_mem   box_loss   seg_loss   cls_loss   dfl_loss  Instances       Size\n"
          ]
        },
        {
          "name": "stderr",
          "output_type": "stream",
          "text": [
            "     14/300      8.59G      1.497       1.62      1.092      1.458         42        640: 100%|██████████| 56/56 [00:47<00:00,  1.19it/s]\n",
            "                 Class     Images  Instances      Box(P          R      mAP50  mAP50-95)     Mask(P          R      mAP50  mAP50-95): 100%|██████████| 8/8 [00:04<00:00,  1.67it/s]"
          ]
        },
        {
          "name": "stdout",
          "output_type": "stream",
          "text": [
            "                   all        123        528      0.773      0.761      0.822      0.445      0.792       0.78      0.847      0.494\n"
          ]
        },
        {
          "name": "stderr",
          "output_type": "stream",
          "text": [
            "\n"
          ]
        },
        {
          "name": "stdout",
          "output_type": "stream",
          "text": [
            "\n",
            "      Epoch    GPU_mem   box_loss   seg_loss   cls_loss   dfl_loss  Instances       Size\n"
          ]
        },
        {
          "name": "stderr",
          "output_type": "stream",
          "text": [
            "     15/300      8.58G      1.471      1.579      1.018       1.43         29        640: 100%|██████████| 56/56 [00:45<00:00,  1.22it/s]\n",
            "                 Class     Images  Instances      Box(P          R      mAP50  mAP50-95)     Mask(P          R      mAP50  mAP50-95): 100%|██████████| 8/8 [00:05<00:00,  1.48it/s]"
          ]
        },
        {
          "name": "stdout",
          "output_type": "stream",
          "text": [
            "                   all        123        528      0.779      0.784      0.825      0.452      0.803       0.81      0.858      0.494\n"
          ]
        },
        {
          "name": "stderr",
          "output_type": "stream",
          "text": [
            "\n"
          ]
        },
        {
          "name": "stdout",
          "output_type": "stream",
          "text": [
            "\n",
            "      Epoch    GPU_mem   box_loss   seg_loss   cls_loss   dfl_loss  Instances       Size\n"
          ]
        },
        {
          "name": "stderr",
          "output_type": "stream",
          "text": [
            "     16/300      8.52G      1.521      1.677       1.12      1.474         35        640: 100%|██████████| 56/56 [00:46<00:00,  1.21it/s]\n",
            "                 Class     Images  Instances      Box(P          R      mAP50  mAP50-95)     Mask(P          R      mAP50  mAP50-95): 100%|██████████| 8/8 [00:04<00:00,  1.67it/s]"
          ]
        },
        {
          "name": "stdout",
          "output_type": "stream",
          "text": [
            "                   all        123        528      0.806      0.747      0.811      0.432       0.82      0.769      0.847      0.474\n"
          ]
        },
        {
          "name": "stderr",
          "output_type": "stream",
          "text": [
            "\n"
          ]
        },
        {
          "name": "stdout",
          "output_type": "stream",
          "text": [
            "\n",
            "      Epoch    GPU_mem   box_loss   seg_loss   cls_loss   dfl_loss  Instances       Size\n"
          ]
        },
        {
          "name": "stderr",
          "output_type": "stream",
          "text": [
            "     17/300      8.54G      1.462       1.61      1.058      1.418         45        640: 100%|██████████| 56/56 [00:45<00:00,  1.23it/s]\n",
            "                 Class     Images  Instances      Box(P          R      mAP50  mAP50-95)     Mask(P          R      mAP50  mAP50-95): 100%|██████████| 8/8 [00:05<00:00,  1.50it/s]"
          ]
        },
        {
          "name": "stdout",
          "output_type": "stream",
          "text": [
            "                   all        123        528        0.8      0.727      0.807       0.43      0.827      0.759      0.845      0.484\n"
          ]
        },
        {
          "name": "stderr",
          "output_type": "stream",
          "text": [
            "\n"
          ]
        },
        {
          "name": "stdout",
          "output_type": "stream",
          "text": [
            "\n",
            "      Epoch    GPU_mem   box_loss   seg_loss   cls_loss   dfl_loss  Instances       Size\n"
          ]
        },
        {
          "name": "stderr",
          "output_type": "stream",
          "text": [
            "     18/300      8.57G      1.438       1.55      1.008      1.403         24        640: 100%|██████████| 56/56 [00:45<00:00,  1.22it/s]\n",
            "                 Class     Images  Instances      Box(P          R      mAP50  mAP50-95)     Mask(P          R      mAP50  mAP50-95): 100%|██████████| 8/8 [00:04<00:00,  1.66it/s]"
          ]
        },
        {
          "name": "stdout",
          "output_type": "stream",
          "text": [
            "                   all        123        528      0.787      0.782      0.826      0.451      0.789      0.812      0.852      0.472\n"
          ]
        },
        {
          "name": "stderr",
          "output_type": "stream",
          "text": [
            "\n"
          ]
        },
        {
          "name": "stdout",
          "output_type": "stream",
          "text": [
            "\n",
            "      Epoch    GPU_mem   box_loss   seg_loss   cls_loss   dfl_loss  Instances       Size\n"
          ]
        },
        {
          "name": "stderr",
          "output_type": "stream",
          "text": [
            "     19/300      8.56G      1.417      1.485     0.9574      1.372         22        640: 100%|██████████| 56/56 [00:45<00:00,  1.22it/s]\n",
            "                 Class     Images  Instances      Box(P          R      mAP50  mAP50-95)     Mask(P          R      mAP50  mAP50-95): 100%|██████████| 8/8 [00:05<00:00,  1.54it/s]"
          ]
        },
        {
          "name": "stdout",
          "output_type": "stream",
          "text": [
            "                   all        123        528      0.851      0.794      0.855      0.469      0.865      0.816      0.886      0.528\n"
          ]
        },
        {
          "name": "stderr",
          "output_type": "stream",
          "text": [
            "\n"
          ]
        },
        {
          "name": "stdout",
          "output_type": "stream",
          "text": [
            "\n",
            "      Epoch    GPU_mem   box_loss   seg_loss   cls_loss   dfl_loss  Instances       Size\n"
          ]
        },
        {
          "name": "stderr",
          "output_type": "stream",
          "text": [
            "     20/300      8.57G      1.406      1.519     0.9484      1.366         30        640: 100%|██████████| 56/56 [00:46<00:00,  1.20it/s]\n",
            "                 Class     Images  Instances      Box(P          R      mAP50  mAP50-95)     Mask(P          R      mAP50  mAP50-95): 100%|██████████| 8/8 [00:04<00:00,  1.60it/s]"
          ]
        },
        {
          "name": "stdout",
          "output_type": "stream",
          "text": [
            "                   all        123        528      0.809      0.805      0.848      0.479      0.829      0.833      0.873      0.516\n"
          ]
        },
        {
          "name": "stderr",
          "output_type": "stream",
          "text": [
            "\n"
          ]
        },
        {
          "name": "stdout",
          "output_type": "stream",
          "text": [
            "\n",
            "      Epoch    GPU_mem   box_loss   seg_loss   cls_loss   dfl_loss  Instances       Size\n"
          ]
        },
        {
          "name": "stderr",
          "output_type": "stream",
          "text": [
            "     21/300      8.59G      1.381      1.474     0.9329      1.334         21        640: 100%|██████████| 56/56 [00:45<00:00,  1.23it/s]\n",
            "                 Class     Images  Instances      Box(P          R      mAP50  mAP50-95)     Mask(P          R      mAP50  mAP50-95): 100%|██████████| 8/8 [00:05<00:00,  1.49it/s]"
          ]
        },
        {
          "name": "stdout",
          "output_type": "stream",
          "text": [
            "                   all        123        528      0.824      0.792      0.847      0.467      0.816      0.816      0.863      0.501\n"
          ]
        },
        {
          "name": "stderr",
          "output_type": "stream",
          "text": [
            "\n"
          ]
        },
        {
          "name": "stdout",
          "output_type": "stream",
          "text": [
            "\n",
            "      Epoch    GPU_mem   box_loss   seg_loss   cls_loss   dfl_loss  Instances       Size\n"
          ]
        },
        {
          "name": "stderr",
          "output_type": "stream",
          "text": [
            "     22/300      8.57G       1.41      1.492     0.9343      1.389         46        640: 100%|██████████| 56/56 [00:45<00:00,  1.24it/s]\n",
            "                 Class     Images  Instances      Box(P          R      mAP50  mAP50-95)     Mask(P          R      mAP50  mAP50-95): 100%|██████████| 8/8 [00:05<00:00,  1.46it/s]"
          ]
        },
        {
          "name": "stdout",
          "output_type": "stream",
          "text": [
            "                   all        123        528      0.864      0.801      0.882      0.488      0.839      0.837      0.895      0.522\n"
          ]
        },
        {
          "name": "stderr",
          "output_type": "stream",
          "text": [
            "\n"
          ]
        },
        {
          "name": "stdout",
          "output_type": "stream",
          "text": [
            "\n",
            "      Epoch    GPU_mem   box_loss   seg_loss   cls_loss   dfl_loss  Instances       Size\n"
          ]
        },
        {
          "name": "stderr",
          "output_type": "stream",
          "text": [
            "     23/300      8.53G      1.406      1.461     0.9011      1.386         29        640: 100%|██████████| 56/56 [00:46<00:00,  1.20it/s]\n",
            "                 Class     Images  Instances      Box(P          R      mAP50  mAP50-95)     Mask(P          R      mAP50  mAP50-95): 100%|██████████| 8/8 [00:05<00:00,  1.58it/s]"
          ]
        },
        {
          "name": "stdout",
          "output_type": "stream",
          "text": [
            "                   all        123        528      0.845      0.754      0.853      0.486      0.821      0.784      0.862      0.532\n"
          ]
        },
        {
          "name": "stderr",
          "output_type": "stream",
          "text": [
            "\n"
          ]
        },
        {
          "name": "stdout",
          "output_type": "stream",
          "text": [
            "\n",
            "      Epoch    GPU_mem   box_loss   seg_loss   cls_loss   dfl_loss  Instances       Size\n"
          ]
        },
        {
          "name": "stderr",
          "output_type": "stream",
          "text": [
            "     24/300       8.6G      1.435      1.509      0.934      1.396         21        640: 100%|██████████| 56/56 [00:46<00:00,  1.20it/s]\n",
            "                 Class     Images  Instances      Box(P          R      mAP50  mAP50-95)     Mask(P          R      mAP50  mAP50-95): 100%|██████████| 8/8 [00:04<00:00,  1.63it/s]"
          ]
        },
        {
          "name": "stdout",
          "output_type": "stream",
          "text": [
            "                   all        123        528      0.811      0.786      0.836      0.454      0.822      0.811      0.869      0.513\n"
          ]
        },
        {
          "name": "stderr",
          "output_type": "stream",
          "text": [
            "\n"
          ]
        },
        {
          "name": "stdout",
          "output_type": "stream",
          "text": [
            "\n",
            "      Epoch    GPU_mem   box_loss   seg_loss   cls_loss   dfl_loss  Instances       Size\n"
          ]
        },
        {
          "name": "stderr",
          "output_type": "stream",
          "text": [
            "     25/300      8.57G      1.392      1.487     0.9163      1.373         40        640: 100%|██████████| 56/56 [00:45<00:00,  1.23it/s]\n",
            "                 Class     Images  Instances      Box(P          R      mAP50  mAP50-95)     Mask(P          R      mAP50  mAP50-95): 100%|██████████| 8/8 [00:05<00:00,  1.53it/s]"
          ]
        },
        {
          "name": "stdout",
          "output_type": "stream",
          "text": [
            "                   all        123        528      0.821      0.766      0.828      0.455      0.854      0.775      0.861      0.491\n"
          ]
        },
        {
          "name": "stderr",
          "output_type": "stream",
          "text": [
            "\n"
          ]
        },
        {
          "name": "stdout",
          "output_type": "stream",
          "text": [
            "\n",
            "      Epoch    GPU_mem   box_loss   seg_loss   cls_loss   dfl_loss  Instances       Size\n"
          ]
        },
        {
          "name": "stderr",
          "output_type": "stream",
          "text": [
            "     26/300      8.59G      1.389      1.516      0.899      1.382         41        640: 100%|██████████| 56/56 [00:45<00:00,  1.22it/s]\n",
            "                 Class     Images  Instances      Box(P          R      mAP50  mAP50-95)     Mask(P          R      mAP50  mAP50-95): 100%|██████████| 8/8 [00:05<00:00,  1.50it/s]"
          ]
        },
        {
          "name": "stdout",
          "output_type": "stream",
          "text": [
            "                   all        123        528      0.856      0.771      0.841      0.482      0.874      0.761       0.85      0.504\n"
          ]
        },
        {
          "name": "stderr",
          "output_type": "stream",
          "text": [
            "\n"
          ]
        },
        {
          "name": "stdout",
          "output_type": "stream",
          "text": [
            "\n",
            "      Epoch    GPU_mem   box_loss   seg_loss   cls_loss   dfl_loss  Instances       Size\n"
          ]
        },
        {
          "name": "stderr",
          "output_type": "stream",
          "text": [
            "     27/300      8.67G      1.373      1.517     0.9138      1.361         39        640: 100%|██████████| 56/56 [00:45<00:00,  1.23it/s]\n",
            "                 Class     Images  Instances      Box(P          R      mAP50  mAP50-95)     Mask(P          R      mAP50  mAP50-95): 100%|██████████| 8/8 [00:04<00:00,  1.65it/s]"
          ]
        },
        {
          "name": "stdout",
          "output_type": "stream",
          "text": [
            "                   all        123        528      0.848      0.794       0.87      0.488      0.865      0.815      0.889      0.523\n"
          ]
        },
        {
          "name": "stderr",
          "output_type": "stream",
          "text": [
            "\n"
          ]
        },
        {
          "name": "stdout",
          "output_type": "stream",
          "text": [
            "\n",
            "      Epoch    GPU_mem   box_loss   seg_loss   cls_loss   dfl_loss  Instances       Size\n"
          ]
        },
        {
          "name": "stderr",
          "output_type": "stream",
          "text": [
            "     28/300      8.63G      1.412      1.511     0.9218      1.394         17        640: 100%|██████████| 56/56 [00:45<00:00,  1.23it/s]\n",
            "                 Class     Images  Instances      Box(P          R      mAP50  mAP50-95)     Mask(P          R      mAP50  mAP50-95): 100%|██████████| 8/8 [00:05<00:00,  1.47it/s]"
          ]
        },
        {
          "name": "stdout",
          "output_type": "stream",
          "text": [
            "                   all        123        528      0.781      0.782      0.828      0.436      0.804      0.803      0.858      0.485\n"
          ]
        },
        {
          "name": "stderr",
          "output_type": "stream",
          "text": [
            "\n"
          ]
        },
        {
          "name": "stdout",
          "output_type": "stream",
          "text": [
            "\n",
            "      Epoch    GPU_mem   box_loss   seg_loss   cls_loss   dfl_loss  Instances       Size\n"
          ]
        },
        {
          "name": "stderr",
          "output_type": "stream",
          "text": [
            "     29/300      8.57G      1.344       1.43     0.8222        1.3         32        640: 100%|██████████| 56/56 [00:45<00:00,  1.23it/s]\n",
            "                 Class     Images  Instances      Box(P          R      mAP50  mAP50-95)     Mask(P          R      mAP50  mAP50-95): 100%|██████████| 8/8 [00:04<00:00,  1.69it/s]"
          ]
        },
        {
          "name": "stdout",
          "output_type": "stream",
          "text": [
            "                   all        123        528      0.809       0.82      0.846      0.476      0.833      0.841      0.877      0.493\n"
          ]
        },
        {
          "name": "stderr",
          "output_type": "stream",
          "text": [
            "\n"
          ]
        },
        {
          "name": "stdout",
          "output_type": "stream",
          "text": [
            "\n",
            "      Epoch    GPU_mem   box_loss   seg_loss   cls_loss   dfl_loss  Instances       Size\n"
          ]
        },
        {
          "name": "stderr",
          "output_type": "stream",
          "text": [
            "     30/300       8.6G      1.341      1.457     0.8671      1.348         32        640: 100%|██████████| 56/56 [00:45<00:00,  1.24it/s]\n",
            "                 Class     Images  Instances      Box(P          R      mAP50  mAP50-95)     Mask(P          R      mAP50  mAP50-95): 100%|██████████| 8/8 [00:04<00:00,  1.62it/s]"
          ]
        },
        {
          "name": "stdout",
          "output_type": "stream",
          "text": [
            "                   all        123        528      0.848      0.794      0.864      0.482      0.853      0.807       0.88       0.52\n"
          ]
        },
        {
          "name": "stderr",
          "output_type": "stream",
          "text": [
            "\n"
          ]
        },
        {
          "name": "stdout",
          "output_type": "stream",
          "text": [
            "\n",
            "      Epoch    GPU_mem   box_loss   seg_loss   cls_loss   dfl_loss  Instances       Size\n"
          ]
        },
        {
          "name": "stderr",
          "output_type": "stream",
          "text": [
            "     31/300      8.57G      1.334      1.486     0.8514      1.336         17        640: 100%|██████████| 56/56 [00:45<00:00,  1.23it/s]\n",
            "                 Class     Images  Instances      Box(P          R      mAP50  mAP50-95)     Mask(P          R      mAP50  mAP50-95): 100%|██████████| 8/8 [00:04<00:00,  1.68it/s]"
          ]
        },
        {
          "name": "stdout",
          "output_type": "stream",
          "text": [
            "                   all        123        528      0.847      0.759      0.852      0.467      0.831      0.812       0.88       0.52\n"
          ]
        },
        {
          "name": "stderr",
          "output_type": "stream",
          "text": [
            "\n"
          ]
        },
        {
          "name": "stdout",
          "output_type": "stream",
          "text": [
            "\n",
            "      Epoch    GPU_mem   box_loss   seg_loss   cls_loss   dfl_loss  Instances       Size\n"
          ]
        },
        {
          "name": "stderr",
          "output_type": "stream",
          "text": [
            "     32/300      8.57G       1.33      1.423     0.8468      1.327         21        640: 100%|██████████| 56/56 [00:45<00:00,  1.23it/s]\n",
            "                 Class     Images  Instances      Box(P          R      mAP50  mAP50-95)     Mask(P          R      mAP50  mAP50-95): 100%|██████████| 8/8 [00:04<00:00,  1.68it/s]"
          ]
        },
        {
          "name": "stdout",
          "output_type": "stream",
          "text": [
            "                   all        123        528      0.855      0.775      0.852      0.471      0.845      0.804      0.871      0.509\n"
          ]
        },
        {
          "name": "stderr",
          "output_type": "stream",
          "text": [
            "\n"
          ]
        },
        {
          "name": "stdout",
          "output_type": "stream",
          "text": [
            "\n",
            "      Epoch    GPU_mem   box_loss   seg_loss   cls_loss   dfl_loss  Instances       Size\n"
          ]
        },
        {
          "name": "stderr",
          "output_type": "stream",
          "text": [
            "     33/300      8.55G      1.336      1.419     0.8861       1.34         24        640: 100%|██████████| 56/56 [00:45<00:00,  1.24it/s]\n",
            "                 Class     Images  Instances      Box(P          R      mAP50  mAP50-95)     Mask(P          R      mAP50  mAP50-95): 100%|██████████| 8/8 [00:05<00:00,  1.44it/s]"
          ]
        },
        {
          "name": "stdout",
          "output_type": "stream",
          "text": [
            "                   all        123        528      0.818      0.782      0.848      0.481       0.84      0.797      0.866       0.51\n"
          ]
        },
        {
          "name": "stderr",
          "output_type": "stream",
          "text": [
            "\n"
          ]
        },
        {
          "name": "stdout",
          "output_type": "stream",
          "text": [
            "\n",
            "      Epoch    GPU_mem   box_loss   seg_loss   cls_loss   dfl_loss  Instances       Size\n"
          ]
        },
        {
          "name": "stderr",
          "output_type": "stream",
          "text": [
            "     34/300      8.57G      1.327      1.434     0.8458      1.321         26        640: 100%|██████████| 56/56 [00:45<00:00,  1.24it/s]\n",
            "                 Class     Images  Instances      Box(P          R      mAP50  mAP50-95)     Mask(P          R      mAP50  mAP50-95): 100%|██████████| 8/8 [00:05<00:00,  1.49it/s]"
          ]
        },
        {
          "name": "stdout",
          "output_type": "stream",
          "text": [
            "                   all        123        528      0.812      0.816      0.863      0.495      0.847      0.827      0.883      0.542\n"
          ]
        },
        {
          "name": "stderr",
          "output_type": "stream",
          "text": [
            "\n"
          ]
        },
        {
          "name": "stdout",
          "output_type": "stream",
          "text": [
            "\n",
            "      Epoch    GPU_mem   box_loss   seg_loss   cls_loss   dfl_loss  Instances       Size\n"
          ]
        },
        {
          "name": "stderr",
          "output_type": "stream",
          "text": [
            "     35/300      8.59G      1.297      1.367     0.8279      1.285         33        640: 100%|██████████| 56/56 [00:46<00:00,  1.21it/s]\n",
            "                 Class     Images  Instances      Box(P          R      mAP50  mAP50-95)     Mask(P          R      mAP50  mAP50-95): 100%|██████████| 8/8 [00:05<00:00,  1.56it/s]"
          ]
        },
        {
          "name": "stdout",
          "output_type": "stream",
          "text": [
            "                   all        123        528      0.855       0.78      0.852      0.486      0.886      0.773      0.869      0.512\n"
          ]
        },
        {
          "name": "stderr",
          "output_type": "stream",
          "text": [
            "\n"
          ]
        },
        {
          "name": "stdout",
          "output_type": "stream",
          "text": [
            "\n",
            "      Epoch    GPU_mem   box_loss   seg_loss   cls_loss   dfl_loss  Instances       Size\n"
          ]
        },
        {
          "name": "stderr",
          "output_type": "stream",
          "text": [
            "     36/300      8.57G      1.306      1.388     0.8683      1.322         35        640: 100%|██████████| 56/56 [00:45<00:00,  1.24it/s]\n",
            "                 Class     Images  Instances      Box(P          R      mAP50  mAP50-95)     Mask(P          R      mAP50  mAP50-95): 100%|██████████| 8/8 [00:04<00:00,  1.63it/s]"
          ]
        },
        {
          "name": "stdout",
          "output_type": "stream",
          "text": [
            "                   all        123        528      0.881       0.78      0.872      0.509      0.894      0.797       0.89      0.536\n"
          ]
        },
        {
          "name": "stderr",
          "output_type": "stream",
          "text": [
            "\n"
          ]
        },
        {
          "name": "stdout",
          "output_type": "stream",
          "text": [
            "\n",
            "      Epoch    GPU_mem   box_loss   seg_loss   cls_loss   dfl_loss  Instances       Size\n"
          ]
        },
        {
          "name": "stderr",
          "output_type": "stream",
          "text": [
            "     37/300      8.55G      1.248       1.35     0.7646      1.269         33        640: 100%|██████████| 56/56 [00:46<00:00,  1.20it/s]\n",
            "                 Class     Images  Instances      Box(P          R      mAP50  mAP50-95)     Mask(P          R      mAP50  mAP50-95): 100%|██████████| 8/8 [00:04<00:00,  1.65it/s]"
          ]
        },
        {
          "name": "stdout",
          "output_type": "stream",
          "text": [
            "                   all        123        528      0.865      0.811       0.88       0.51      0.883      0.843      0.902      0.542\n"
          ]
        },
        {
          "name": "stderr",
          "output_type": "stream",
          "text": [
            "\n"
          ]
        },
        {
          "name": "stdout",
          "output_type": "stream",
          "text": [
            "\n",
            "      Epoch    GPU_mem   box_loss   seg_loss   cls_loss   dfl_loss  Instances       Size\n"
          ]
        },
        {
          "name": "stderr",
          "output_type": "stream",
          "text": [
            "     38/300      8.55G      1.292      1.367     0.8322       1.32         17        640: 100%|██████████| 56/56 [00:45<00:00,  1.22it/s]\n",
            "                 Class     Images  Instances      Box(P          R      mAP50  mAP50-95)     Mask(P          R      mAP50  mAP50-95): 100%|██████████| 8/8 [00:04<00:00,  1.69it/s]"
          ]
        },
        {
          "name": "stdout",
          "output_type": "stream",
          "text": [
            "                   all        123        528      0.849      0.797      0.859      0.491      0.869       0.82      0.882      0.526\n"
          ]
        },
        {
          "name": "stderr",
          "output_type": "stream",
          "text": [
            "\n"
          ]
        },
        {
          "name": "stdout",
          "output_type": "stream",
          "text": [
            "\n",
            "      Epoch    GPU_mem   box_loss   seg_loss   cls_loss   dfl_loss  Instances       Size\n"
          ]
        },
        {
          "name": "stderr",
          "output_type": "stream",
          "text": [
            "     39/300      8.55G      1.292      1.351     0.7912      1.289         34        640: 100%|██████████| 56/56 [00:45<00:00,  1.24it/s]\n",
            "                 Class     Images  Instances      Box(P          R      mAP50  mAP50-95)     Mask(P          R      mAP50  mAP50-95): 100%|██████████| 8/8 [00:05<00:00,  1.57it/s]"
          ]
        },
        {
          "name": "stdout",
          "output_type": "stream",
          "text": [
            "                   all        123        528      0.868      0.784      0.862      0.495      0.881      0.807      0.888      0.535\n"
          ]
        },
        {
          "name": "stderr",
          "output_type": "stream",
          "text": [
            "\n"
          ]
        },
        {
          "name": "stdout",
          "output_type": "stream",
          "text": [
            "\n",
            "      Epoch    GPU_mem   box_loss   seg_loss   cls_loss   dfl_loss  Instances       Size\n"
          ]
        },
        {
          "name": "stderr",
          "output_type": "stream",
          "text": [
            "     40/300      8.63G      1.267       1.38     0.7668      1.276         47        640: 100%|██████████| 56/56 [00:45<00:00,  1.24it/s]\n",
            "                 Class     Images  Instances      Box(P          R      mAP50  mAP50-95)     Mask(P          R      mAP50  mAP50-95): 100%|██████████| 8/8 [00:04<00:00,  1.68it/s]"
          ]
        },
        {
          "name": "stdout",
          "output_type": "stream",
          "text": [
            "                   all        123        528      0.873      0.782      0.871      0.485       0.83      0.843      0.883      0.521\n"
          ]
        },
        {
          "name": "stderr",
          "output_type": "stream",
          "text": [
            "\n"
          ]
        },
        {
          "name": "stdout",
          "output_type": "stream",
          "text": [
            "\n",
            "      Epoch    GPU_mem   box_loss   seg_loss   cls_loss   dfl_loss  Instances       Size\n"
          ]
        },
        {
          "name": "stderr",
          "output_type": "stream",
          "text": [
            "     41/300      8.57G       1.28      1.404     0.7846      1.306         34        640: 100%|██████████| 56/56 [00:45<00:00,  1.23it/s]\n",
            "                 Class     Images  Instances      Box(P          R      mAP50  mAP50-95)     Mask(P          R      mAP50  mAP50-95): 100%|██████████| 8/8 [00:04<00:00,  1.62it/s]"
          ]
        },
        {
          "name": "stdout",
          "output_type": "stream",
          "text": [
            "                   all        123        528      0.852      0.816      0.874      0.505      0.865      0.833      0.899      0.533\n"
          ]
        },
        {
          "name": "stderr",
          "output_type": "stream",
          "text": [
            "\n"
          ]
        },
        {
          "name": "stdout",
          "output_type": "stream",
          "text": [
            "\n",
            "      Epoch    GPU_mem   box_loss   seg_loss   cls_loss   dfl_loss  Instances       Size\n"
          ]
        },
        {
          "name": "stderr",
          "output_type": "stream",
          "text": [
            "     42/300       8.6G      1.251      1.342     0.7574      1.291         23        640: 100%|██████████| 56/56 [00:45<00:00,  1.24it/s]\n",
            "                 Class     Images  Instances      Box(P          R      mAP50  mAP50-95)     Mask(P          R      mAP50  mAP50-95): 100%|██████████| 8/8 [00:05<00:00,  1.48it/s]"
          ]
        },
        {
          "name": "stdout",
          "output_type": "stream",
          "text": [
            "                   all        123        528      0.864      0.763       0.85      0.492      0.879      0.756      0.871      0.522\n"
          ]
        },
        {
          "name": "stderr",
          "output_type": "stream",
          "text": [
            "\n"
          ]
        },
        {
          "name": "stdout",
          "output_type": "stream",
          "text": [
            "\n",
            "      Epoch    GPU_mem   box_loss   seg_loss   cls_loss   dfl_loss  Instances       Size\n"
          ]
        },
        {
          "name": "stderr",
          "output_type": "stream",
          "text": [
            "     43/300      8.63G      1.255      1.374     0.7676      1.287         34        640: 100%|██████████| 56/56 [00:45<00:00,  1.22it/s]\n",
            "                 Class     Images  Instances      Box(P          R      mAP50  mAP50-95)     Mask(P          R      mAP50  mAP50-95): 100%|██████████| 8/8 [00:04<00:00,  1.69it/s]"
          ]
        },
        {
          "name": "stdout",
          "output_type": "stream",
          "text": [
            "                   all        123        528       0.84      0.837      0.888      0.508      0.843      0.853      0.896      0.535\n"
          ]
        },
        {
          "name": "stderr",
          "output_type": "stream",
          "text": [
            "\n"
          ]
        },
        {
          "name": "stdout",
          "output_type": "stream",
          "text": [
            "\n",
            "      Epoch    GPU_mem   box_loss   seg_loss   cls_loss   dfl_loss  Instances       Size\n"
          ]
        },
        {
          "name": "stderr",
          "output_type": "stream",
          "text": [
            "     44/300      8.59G      1.237      1.353     0.7703      1.279         30        640: 100%|██████████| 56/56 [00:45<00:00,  1.23it/s]\n",
            "                 Class     Images  Instances      Box(P          R      mAP50  mAP50-95)     Mask(P          R      mAP50  mAP50-95): 100%|██████████| 8/8 [00:04<00:00,  1.69it/s]"
          ]
        },
        {
          "name": "stdout",
          "output_type": "stream",
          "text": [
            "                   all        123        528      0.845       0.82      0.887      0.501      0.858      0.833      0.902       0.55\n"
          ]
        },
        {
          "name": "stderr",
          "output_type": "stream",
          "text": [
            "\n"
          ]
        },
        {
          "name": "stdout",
          "output_type": "stream",
          "text": [
            "\n",
            "      Epoch    GPU_mem   box_loss   seg_loss   cls_loss   dfl_loss  Instances       Size\n"
          ]
        },
        {
          "name": "stderr",
          "output_type": "stream",
          "text": [
            "     45/300      8.54G      1.271      1.365     0.8113       1.33         41        640: 100%|██████████| 56/56 [00:45<00:00,  1.23it/s]\n",
            "                 Class     Images  Instances      Box(P          R      mAP50  mAP50-95)     Mask(P          R      mAP50  mAP50-95): 100%|██████████| 8/8 [00:04<00:00,  1.68it/s]"
          ]
        },
        {
          "name": "stdout",
          "output_type": "stream",
          "text": [
            "                   all        123        528      0.867      0.816       0.88      0.506      0.881      0.829      0.899      0.531\n"
          ]
        },
        {
          "name": "stderr",
          "output_type": "stream",
          "text": [
            "\n"
          ]
        },
        {
          "name": "stdout",
          "output_type": "stream",
          "text": [
            "\n",
            "      Epoch    GPU_mem   box_loss   seg_loss   cls_loss   dfl_loss  Instances       Size\n"
          ]
        },
        {
          "name": "stderr",
          "output_type": "stream",
          "text": [
            "     46/300      8.65G      1.237      1.326     0.7691      1.262         24        640: 100%|██████████| 56/56 [00:45<00:00,  1.24it/s]\n",
            "                 Class     Images  Instances      Box(P          R      mAP50  mAP50-95)     Mask(P          R      mAP50  mAP50-95): 100%|██████████| 8/8 [00:05<00:00,  1.53it/s]"
          ]
        },
        {
          "name": "stdout",
          "output_type": "stream",
          "text": [
            "                   all        123        528      0.854      0.797      0.865      0.514       0.85      0.803       0.87      0.545\n"
          ]
        },
        {
          "name": "stderr",
          "output_type": "stream",
          "text": [
            "\n"
          ]
        },
        {
          "name": "stdout",
          "output_type": "stream",
          "text": [
            "\n",
            "      Epoch    GPU_mem   box_loss   seg_loss   cls_loss   dfl_loss  Instances       Size\n"
          ]
        },
        {
          "name": "stderr",
          "output_type": "stream",
          "text": [
            "     47/300      8.58G      1.239      1.321     0.7415      1.261         32        640: 100%|██████████| 56/56 [00:49<00:00,  1.13it/s]\n",
            "                 Class     Images  Instances      Box(P          R      mAP50  mAP50-95)     Mask(P          R      mAP50  mAP50-95): 100%|██████████| 8/8 [00:05<00:00,  1.46it/s]"
          ]
        },
        {
          "name": "stdout",
          "output_type": "stream",
          "text": [
            "                   all        123        528      0.837      0.809      0.874      0.495      0.856      0.824       0.89      0.538\n"
          ]
        },
        {
          "name": "stderr",
          "output_type": "stream",
          "text": [
            "\n"
          ]
        },
        {
          "name": "stdout",
          "output_type": "stream",
          "text": [
            "\n",
            "      Epoch    GPU_mem   box_loss   seg_loss   cls_loss   dfl_loss  Instances       Size\n"
          ]
        },
        {
          "name": "stderr",
          "output_type": "stream",
          "text": [
            "     48/300      8.57G      1.212      1.325     0.7421      1.259         16        640: 100%|██████████| 56/56 [00:45<00:00,  1.23it/s]\n",
            "                 Class     Images  Instances      Box(P          R      mAP50  mAP50-95)     Mask(P          R      mAP50  mAP50-95): 100%|██████████| 8/8 [00:05<00:00,  1.56it/s]"
          ]
        },
        {
          "name": "stdout",
          "output_type": "stream",
          "text": [
            "                   all        123        528      0.849      0.801      0.881      0.522      0.865      0.812      0.892      0.547\n"
          ]
        },
        {
          "name": "stderr",
          "output_type": "stream",
          "text": [
            "\n"
          ]
        },
        {
          "name": "stdout",
          "output_type": "stream",
          "text": [
            "\n",
            "      Epoch    GPU_mem   box_loss   seg_loss   cls_loss   dfl_loss  Instances       Size\n"
          ]
        },
        {
          "name": "stderr",
          "output_type": "stream",
          "text": [
            "     49/300      8.57G      1.231      1.306       0.77      1.268         29        640: 100%|██████████| 56/56 [00:45<00:00,  1.23it/s]\n",
            "                 Class     Images  Instances      Box(P          R      mAP50  mAP50-95)     Mask(P          R      mAP50  mAP50-95): 100%|██████████| 8/8 [00:05<00:00,  1.49it/s]"
          ]
        },
        {
          "name": "stdout",
          "output_type": "stream",
          "text": [
            "                   all        123        528      0.823      0.805      0.859      0.483      0.836      0.818      0.874      0.515\n"
          ]
        },
        {
          "name": "stderr",
          "output_type": "stream",
          "text": [
            "\n"
          ]
        },
        {
          "name": "stdout",
          "output_type": "stream",
          "text": [
            "\n",
            "      Epoch    GPU_mem   box_loss   seg_loss   cls_loss   dfl_loss  Instances       Size\n"
          ]
        },
        {
          "name": "stderr",
          "output_type": "stream",
          "text": [
            "     50/300      8.56G      1.198      1.336     0.7331      1.239         19        640: 100%|██████████| 56/56 [00:45<00:00,  1.23it/s]\n",
            "                 Class     Images  Instances      Box(P          R      mAP50  mAP50-95)     Mask(P          R      mAP50  mAP50-95): 100%|██████████| 8/8 [00:04<00:00,  1.67it/s]"
          ]
        },
        {
          "name": "stdout",
          "output_type": "stream",
          "text": [
            "                   all        123        528      0.836      0.826      0.872        0.5      0.864       0.85      0.904      0.531\n"
          ]
        },
        {
          "name": "stderr",
          "output_type": "stream",
          "text": [
            "\n"
          ]
        },
        {
          "name": "stdout",
          "output_type": "stream",
          "text": [
            "\n",
            "      Epoch    GPU_mem   box_loss   seg_loss   cls_loss   dfl_loss  Instances       Size\n"
          ]
        },
        {
          "name": "stderr",
          "output_type": "stream",
          "text": [
            "     51/300      8.64G      1.205      1.327     0.7158      1.261         32        640: 100%|██████████| 56/56 [00:45<00:00,  1.24it/s]\n",
            "                 Class     Images  Instances      Box(P          R      mAP50  mAP50-95)     Mask(P          R      mAP50  mAP50-95): 100%|██████████| 8/8 [00:05<00:00,  1.54it/s]"
          ]
        },
        {
          "name": "stdout",
          "output_type": "stream",
          "text": [
            "                   all        123        528      0.853      0.812      0.881      0.516      0.857      0.822      0.889      0.521\n"
          ]
        },
        {
          "name": "stderr",
          "output_type": "stream",
          "text": [
            "\n"
          ]
        },
        {
          "name": "stdout",
          "output_type": "stream",
          "text": [
            "\n",
            "      Epoch    GPU_mem   box_loss   seg_loss   cls_loss   dfl_loss  Instances       Size\n"
          ]
        },
        {
          "name": "stderr",
          "output_type": "stream",
          "text": [
            "     52/300      8.59G      1.215      1.342     0.7392      1.263         23        640: 100%|██████████| 56/56 [00:45<00:00,  1.23it/s]\n",
            "                 Class     Images  Instances      Box(P          R      mAP50  mAP50-95)     Mask(P          R      mAP50  mAP50-95): 100%|██████████| 8/8 [00:04<00:00,  1.68it/s]"
          ]
        },
        {
          "name": "stdout",
          "output_type": "stream",
          "text": [
            "                   all        123        528      0.843       0.83      0.889       0.53      0.856      0.847        0.9      0.546\n"
          ]
        },
        {
          "name": "stderr",
          "output_type": "stream",
          "text": [
            "\n"
          ]
        },
        {
          "name": "stdout",
          "output_type": "stream",
          "text": [
            "\n",
            "      Epoch    GPU_mem   box_loss   seg_loss   cls_loss   dfl_loss  Instances       Size\n"
          ]
        },
        {
          "name": "stderr",
          "output_type": "stream",
          "text": [
            "     53/300      8.58G      1.195      1.311     0.7155      1.242         28        640: 100%|██████████| 56/56 [00:48<00:00,  1.14it/s]\n",
            "                 Class     Images  Instances      Box(P          R      mAP50  mAP50-95)     Mask(P          R      mAP50  mAP50-95): 100%|██████████| 8/8 [00:04<00:00,  1.68it/s]"
          ]
        },
        {
          "name": "stdout",
          "output_type": "stream",
          "text": [
            "                   all        123        528      0.791      0.818      0.843      0.467      0.813      0.841      0.861      0.507\n"
          ]
        },
        {
          "name": "stderr",
          "output_type": "stream",
          "text": [
            "\n"
          ]
        },
        {
          "name": "stdout",
          "output_type": "stream",
          "text": [
            "\n",
            "      Epoch    GPU_mem   box_loss   seg_loss   cls_loss   dfl_loss  Instances       Size\n"
          ]
        },
        {
          "name": "stderr",
          "output_type": "stream",
          "text": [
            "     54/300      8.52G      1.196      1.306     0.6894      1.242         31        640: 100%|██████████| 56/56 [00:45<00:00,  1.24it/s]\n",
            "                 Class     Images  Instances      Box(P          R      mAP50  mAP50-95)     Mask(P          R      mAP50  mAP50-95): 100%|██████████| 8/8 [00:05<00:00,  1.47it/s]"
          ]
        },
        {
          "name": "stdout",
          "output_type": "stream",
          "text": [
            "                   all        123        528       0.88      0.764       0.85      0.479      0.868      0.786       0.86      0.516\n"
          ]
        },
        {
          "name": "stderr",
          "output_type": "stream",
          "text": [
            "\n"
          ]
        },
        {
          "name": "stdout",
          "output_type": "stream",
          "text": [
            "\n",
            "      Epoch    GPU_mem   box_loss   seg_loss   cls_loss   dfl_loss  Instances       Size\n"
          ]
        },
        {
          "name": "stderr",
          "output_type": "stream",
          "text": [
            "     55/300      8.56G      1.196      1.327     0.7221      1.252         34        640: 100%|██████████| 56/56 [00:45<00:00,  1.23it/s]\n",
            "                 Class     Images  Instances      Box(P          R      mAP50  mAP50-95)     Mask(P          R      mAP50  mAP50-95): 100%|██████████| 8/8 [00:04<00:00,  1.64it/s]"
          ]
        },
        {
          "name": "stdout",
          "output_type": "stream",
          "text": [
            "                   all        123        528      0.862      0.816      0.879      0.521      0.872      0.839      0.894      0.557\n"
          ]
        },
        {
          "name": "stderr",
          "output_type": "stream",
          "text": [
            "\n"
          ]
        },
        {
          "name": "stdout",
          "output_type": "stream",
          "text": [
            "\n",
            "      Epoch    GPU_mem   box_loss   seg_loss   cls_loss   dfl_loss  Instances       Size\n"
          ]
        },
        {
          "name": "stderr",
          "output_type": "stream",
          "text": [
            "     56/300      8.58G      1.196      1.313     0.6795      1.219         36        640: 100%|██████████| 56/56 [00:47<00:00,  1.17it/s]\n",
            "                 Class     Images  Instances      Box(P          R      mAP50  mAP50-95)     Mask(P          R      mAP50  mAP50-95): 100%|██████████| 8/8 [00:04<00:00,  1.69it/s]"
          ]
        },
        {
          "name": "stdout",
          "output_type": "stream",
          "text": [
            "                   all        123        528      0.845      0.828      0.879      0.523      0.874       0.83      0.895      0.545\n"
          ]
        },
        {
          "name": "stderr",
          "output_type": "stream",
          "text": [
            "\n"
          ]
        },
        {
          "name": "stdout",
          "output_type": "stream",
          "text": [
            "\n",
            "      Epoch    GPU_mem   box_loss   seg_loss   cls_loss   dfl_loss  Instances       Size\n"
          ]
        },
        {
          "name": "stderr",
          "output_type": "stream",
          "text": [
            "     57/300      8.53G      1.162      1.238     0.6824      1.215         34        640: 100%|██████████| 56/56 [00:45<00:00,  1.24it/s]\n",
            "                 Class     Images  Instances      Box(P          R      mAP50  mAP50-95)     Mask(P          R      mAP50  mAP50-95): 100%|██████████| 8/8 [00:05<00:00,  1.59it/s]"
          ]
        },
        {
          "name": "stdout",
          "output_type": "stream",
          "text": [
            "                   all        123        528      0.829      0.803      0.864      0.521       0.85      0.835      0.881      0.533\n"
          ]
        },
        {
          "name": "stderr",
          "output_type": "stream",
          "text": [
            "\n"
          ]
        },
        {
          "name": "stdout",
          "output_type": "stream",
          "text": [
            "\n",
            "      Epoch    GPU_mem   box_loss   seg_loss   cls_loss   dfl_loss  Instances       Size\n"
          ]
        },
        {
          "name": "stderr",
          "output_type": "stream",
          "text": [
            "     58/300      8.55G      1.158      1.288     0.6836      1.204         24        640: 100%|██████████| 56/56 [00:45<00:00,  1.23it/s]\n",
            "                 Class     Images  Instances      Box(P          R      mAP50  mAP50-95)     Mask(P          R      mAP50  mAP50-95): 100%|██████████| 8/8 [00:04<00:00,  1.67it/s]"
          ]
        },
        {
          "name": "stdout",
          "output_type": "stream",
          "text": [
            "                   all        123        528       0.82      0.824       0.88      0.524      0.836      0.833      0.893      0.547\n"
          ]
        },
        {
          "name": "stderr",
          "output_type": "stream",
          "text": [
            "\n"
          ]
        },
        {
          "name": "stdout",
          "output_type": "stream",
          "text": [
            "\n",
            "      Epoch    GPU_mem   box_loss   seg_loss   cls_loss   dfl_loss  Instances       Size\n"
          ]
        },
        {
          "name": "stderr",
          "output_type": "stream",
          "text": [
            "     59/300      8.61G       1.13      1.269     0.6512      1.178         20        640: 100%|██████████| 56/56 [00:45<00:00,  1.24it/s]\n",
            "                 Class     Images  Instances      Box(P          R      mAP50  mAP50-95)     Mask(P          R      mAP50  mAP50-95): 100%|██████████| 8/8 [00:05<00:00,  1.57it/s]"
          ]
        },
        {
          "name": "stdout",
          "output_type": "stream",
          "text": [
            "                   all        123        528      0.873      0.803      0.872      0.511      0.884      0.812      0.882      0.541\n"
          ]
        },
        {
          "name": "stderr",
          "output_type": "stream",
          "text": [
            "\n"
          ]
        },
        {
          "name": "stdout",
          "output_type": "stream",
          "text": [
            "\n",
            "      Epoch    GPU_mem   box_loss   seg_loss   cls_loss   dfl_loss  Instances       Size\n"
          ]
        },
        {
          "name": "stderr",
          "output_type": "stream",
          "text": [
            "     60/300      8.54G      1.157      1.267     0.6614      1.221         17        640: 100%|██████████| 56/56 [00:45<00:00,  1.22it/s]\n",
            "                 Class     Images  Instances      Box(P          R      mAP50  mAP50-95)     Mask(P          R      mAP50  mAP50-95): 100%|██████████| 8/8 [00:04<00:00,  1.69it/s]"
          ]
        },
        {
          "name": "stdout",
          "output_type": "stream",
          "text": [
            "                   all        123        528      0.847      0.776      0.842      0.482      0.857      0.782      0.852      0.523\n"
          ]
        },
        {
          "name": "stderr",
          "output_type": "stream",
          "text": [
            "\n"
          ]
        },
        {
          "name": "stdout",
          "output_type": "stream",
          "text": [
            "\n",
            "      Epoch    GPU_mem   box_loss   seg_loss   cls_loss   dfl_loss  Instances       Size\n"
          ]
        },
        {
          "name": "stderr",
          "output_type": "stream",
          "text": [
            "     61/300      8.63G      1.147      1.258     0.6712      1.231         15        640: 100%|██████████| 56/56 [00:45<00:00,  1.24it/s]\n",
            "                 Class     Images  Instances      Box(P          R      mAP50  mAP50-95)     Mask(P          R      mAP50  mAP50-95): 100%|██████████| 8/8 [00:05<00:00,  1.51it/s]"
          ]
        },
        {
          "name": "stdout",
          "output_type": "stream",
          "text": [
            "                   all        123        528      0.865      0.836      0.895      0.508      0.872      0.853      0.907      0.547\n"
          ]
        },
        {
          "name": "stderr",
          "output_type": "stream",
          "text": [
            "\n"
          ]
        },
        {
          "name": "stdout",
          "output_type": "stream",
          "text": [
            "\n",
            "      Epoch    GPU_mem   box_loss   seg_loss   cls_loss   dfl_loss  Instances       Size\n"
          ]
        },
        {
          "name": "stderr",
          "output_type": "stream",
          "text": [
            "     62/300      8.59G      1.122      1.263     0.6645      1.219         18        640: 100%|██████████| 56/56 [00:44<00:00,  1.25it/s]\n",
            "                 Class     Images  Instances      Box(P          R      mAP50  mAP50-95)     Mask(P          R      mAP50  mAP50-95): 100%|██████████| 8/8 [00:05<00:00,  1.51it/s]"
          ]
        },
        {
          "name": "stdout",
          "output_type": "stream",
          "text": [
            "                   all        123        528      0.854      0.828       0.89      0.515      0.853      0.837      0.893      0.554\n"
          ]
        },
        {
          "name": "stderr",
          "output_type": "stream",
          "text": [
            "\n"
          ]
        },
        {
          "name": "stdout",
          "output_type": "stream",
          "text": [
            "\n",
            "      Epoch    GPU_mem   box_loss   seg_loss   cls_loss   dfl_loss  Instances       Size\n"
          ]
        },
        {
          "name": "stderr",
          "output_type": "stream",
          "text": [
            "     63/300      8.55G      1.107      1.213     0.6255      1.191         39        640: 100%|██████████| 56/56 [00:45<00:00,  1.23it/s]\n",
            "                 Class     Images  Instances      Box(P          R      mAP50  mAP50-95)     Mask(P          R      mAP50  mAP50-95): 100%|██████████| 8/8 [00:05<00:00,  1.51it/s]"
          ]
        },
        {
          "name": "stdout",
          "output_type": "stream",
          "text": [
            "                   all        123        528      0.852      0.822      0.886      0.516      0.859      0.833      0.896       0.55\n"
          ]
        },
        {
          "name": "stderr",
          "output_type": "stream",
          "text": [
            "\n"
          ]
        },
        {
          "name": "stdout",
          "output_type": "stream",
          "text": [
            "\n",
            "      Epoch    GPU_mem   box_loss   seg_loss   cls_loss   dfl_loss  Instances       Size\n"
          ]
        },
        {
          "name": "stderr",
          "output_type": "stream",
          "text": [
            "     64/300      8.61G      1.124      1.246      0.668      1.192         19        640: 100%|██████████| 56/56 [00:45<00:00,  1.23it/s]\n",
            "                 Class     Images  Instances      Box(P          R      mAP50  mAP50-95)     Mask(P          R      mAP50  mAP50-95): 100%|██████████| 8/8 [00:04<00:00,  1.60it/s]"
          ]
        },
        {
          "name": "stdout",
          "output_type": "stream",
          "text": [
            "                   all        123        528      0.816      0.795       0.85      0.495       0.83      0.815       0.87      0.509\n"
          ]
        },
        {
          "name": "stderr",
          "output_type": "stream",
          "text": [
            "\n"
          ]
        },
        {
          "name": "stdout",
          "output_type": "stream",
          "text": [
            "\n",
            "      Epoch    GPU_mem   box_loss   seg_loss   cls_loss   dfl_loss  Instances       Size\n"
          ]
        },
        {
          "name": "stderr",
          "output_type": "stream",
          "text": [
            "     65/300      8.56G      1.143      1.276     0.7184        1.2         34        640: 100%|██████████| 56/56 [00:45<00:00,  1.24it/s]\n",
            "                 Class     Images  Instances      Box(P          R      mAP50  mAP50-95)     Mask(P          R      mAP50  mAP50-95): 100%|██████████| 8/8 [00:04<00:00,  1.69it/s]"
          ]
        },
        {
          "name": "stdout",
          "output_type": "stream",
          "text": [
            "                   all        123        528      0.879      0.831      0.888      0.515      0.895      0.847      0.912      0.547\n"
          ]
        },
        {
          "name": "stderr",
          "output_type": "stream",
          "text": [
            "\n"
          ]
        },
        {
          "name": "stdout",
          "output_type": "stream",
          "text": [
            "\n",
            "      Epoch    GPU_mem   box_loss   seg_loss   cls_loss   dfl_loss  Instances       Size\n"
          ]
        },
        {
          "name": "stderr",
          "output_type": "stream",
          "text": [
            "     66/300      8.58G      1.119      1.236     0.6791      1.193         34        640: 100%|██████████| 56/56 [00:45<00:00,  1.24it/s]\n",
            "                 Class     Images  Instances      Box(P          R      mAP50  mAP50-95)     Mask(P          R      mAP50  mAP50-95): 100%|██████████| 8/8 [00:04<00:00,  1.69it/s]"
          ]
        },
        {
          "name": "stdout",
          "output_type": "stream",
          "text": [
            "                   all        123        528      0.836      0.832      0.887      0.522      0.841      0.843      0.895      0.547\n"
          ]
        },
        {
          "name": "stderr",
          "output_type": "stream",
          "text": [
            "\n"
          ]
        },
        {
          "name": "stdout",
          "output_type": "stream",
          "text": [
            "\n",
            "      Epoch    GPU_mem   box_loss   seg_loss   cls_loss   dfl_loss  Instances       Size\n"
          ]
        },
        {
          "name": "stderr",
          "output_type": "stream",
          "text": [
            "     67/300       8.6G      1.091      1.228     0.6601      1.168         28        640: 100%|██████████| 56/56 [00:45<00:00,  1.24it/s]\n",
            "                 Class     Images  Instances      Box(P          R      mAP50  mAP50-95)     Mask(P          R      mAP50  mAP50-95): 100%|██████████| 8/8 [00:05<00:00,  1.52it/s]"
          ]
        },
        {
          "name": "stdout",
          "output_type": "stream",
          "text": [
            "                   all        123        528       0.88      0.793      0.873      0.513      0.884      0.809       0.89      0.554\n"
          ]
        },
        {
          "name": "stderr",
          "output_type": "stream",
          "text": [
            "\n"
          ]
        },
        {
          "name": "stdout",
          "output_type": "stream",
          "text": [
            "\n",
            "      Epoch    GPU_mem   box_loss   seg_loss   cls_loss   dfl_loss  Instances       Size\n"
          ]
        },
        {
          "name": "stderr",
          "output_type": "stream",
          "text": [
            "     68/300      8.62G      1.099      1.211      0.629      1.181         21        640: 100%|██████████| 56/56 [00:45<00:00,  1.24it/s]\n",
            "                 Class     Images  Instances      Box(P          R      mAP50  mAP50-95)     Mask(P          R      mAP50  mAP50-95): 100%|██████████| 8/8 [00:05<00:00,  1.55it/s]"
          ]
        },
        {
          "name": "stdout",
          "output_type": "stream",
          "text": [
            "                   all        123        528      0.858        0.8       0.86      0.502      0.918      0.778      0.883      0.532\n"
          ]
        },
        {
          "name": "stderr",
          "output_type": "stream",
          "text": [
            "\n"
          ]
        },
        {
          "name": "stdout",
          "output_type": "stream",
          "text": [
            "\n",
            "      Epoch    GPU_mem   box_loss   seg_loss   cls_loss   dfl_loss  Instances       Size\n"
          ]
        },
        {
          "name": "stderr",
          "output_type": "stream",
          "text": [
            "     69/300      8.57G      1.109      1.243     0.6511      1.192         35        640: 100%|██████████| 56/56 [00:45<00:00,  1.24it/s]\n",
            "                 Class     Images  Instances      Box(P          R      mAP50  mAP50-95)     Mask(P          R      mAP50  mAP50-95): 100%|██████████| 8/8 [00:04<00:00,  1.60it/s]"
          ]
        },
        {
          "name": "stdout",
          "output_type": "stream",
          "text": [
            "                   all        123        528       0.85      0.824      0.861        0.5      0.865      0.839      0.889      0.539\n"
          ]
        },
        {
          "name": "stderr",
          "output_type": "stream",
          "text": [
            "\n"
          ]
        },
        {
          "name": "stdout",
          "output_type": "stream",
          "text": [
            "\n",
            "      Epoch    GPU_mem   box_loss   seg_loss   cls_loss   dfl_loss  Instances       Size\n"
          ]
        },
        {
          "name": "stderr",
          "output_type": "stream",
          "text": [
            "     70/300      8.56G      1.111       1.26     0.6357      1.181         42        640: 100%|██████████| 56/56 [00:45<00:00,  1.24it/s]\n",
            "                 Class     Images  Instances      Box(P          R      mAP50  mAP50-95)     Mask(P          R      mAP50  mAP50-95): 100%|██████████| 8/8 [00:04<00:00,  1.60it/s]"
          ]
        },
        {
          "name": "stdout",
          "output_type": "stream",
          "text": [
            "                   all        123        528      0.824      0.814      0.867      0.504      0.819       0.85      0.885       0.53\n"
          ]
        },
        {
          "name": "stderr",
          "output_type": "stream",
          "text": [
            "\n"
          ]
        },
        {
          "name": "stdout",
          "output_type": "stream",
          "text": [
            "\n",
            "      Epoch    GPU_mem   box_loss   seg_loss   cls_loss   dfl_loss  Instances       Size\n"
          ]
        },
        {
          "name": "stderr",
          "output_type": "stream",
          "text": [
            "     71/300      8.59G      1.127      1.259     0.6488      1.201         31        640: 100%|██████████| 56/56 [00:45<00:00,  1.23it/s]\n",
            "                 Class     Images  Instances      Box(P          R      mAP50  mAP50-95)     Mask(P          R      mAP50  mAP50-95): 100%|██████████| 8/8 [00:05<00:00,  1.51it/s]"
          ]
        },
        {
          "name": "stdout",
          "output_type": "stream",
          "text": [
            "                   all        123        528      0.872      0.826      0.877      0.505      0.883      0.837      0.888       0.53\n"
          ]
        },
        {
          "name": "stderr",
          "output_type": "stream",
          "text": [
            "\n"
          ]
        },
        {
          "name": "stdout",
          "output_type": "stream",
          "text": [
            "\n",
            "      Epoch    GPU_mem   box_loss   seg_loss   cls_loss   dfl_loss  Instances       Size\n"
          ]
        },
        {
          "name": "stderr",
          "output_type": "stream",
          "text": [
            "     72/300      8.64G      1.091      1.204     0.6348      1.187         27        640: 100%|██████████| 56/56 [00:45<00:00,  1.23it/s]\n",
            "                 Class     Images  Instances      Box(P          R      mAP50  mAP50-95)     Mask(P          R      mAP50  mAP50-95): 100%|██████████| 8/8 [00:05<00:00,  1.48it/s]"
          ]
        },
        {
          "name": "stdout",
          "output_type": "stream",
          "text": [
            "                   all        123        528      0.849      0.841      0.887      0.527      0.858       0.85      0.903      0.536\n"
          ]
        },
        {
          "name": "stderr",
          "output_type": "stream",
          "text": [
            "\n"
          ]
        },
        {
          "name": "stdout",
          "output_type": "stream",
          "text": [
            "\n",
            "      Epoch    GPU_mem   box_loss   seg_loss   cls_loss   dfl_loss  Instances       Size\n"
          ]
        },
        {
          "name": "stderr",
          "output_type": "stream",
          "text": [
            "     73/300      8.61G      1.073      1.198      0.595      1.175         18        640: 100%|██████████| 56/56 [00:44<00:00,  1.25it/s]\n",
            "                 Class     Images  Instances      Box(P          R      mAP50  mAP50-95)     Mask(P          R      mAP50  mAP50-95): 100%|██████████| 8/8 [00:05<00:00,  1.47it/s]"
          ]
        },
        {
          "name": "stdout",
          "output_type": "stream",
          "text": [
            "                   all        123        528      0.843      0.846      0.883      0.516      0.861       0.86        0.9       0.55\n"
          ]
        },
        {
          "name": "stderr",
          "output_type": "stream",
          "text": [
            "\n"
          ]
        },
        {
          "name": "stdout",
          "output_type": "stream",
          "text": [
            "\n",
            "      Epoch    GPU_mem   box_loss   seg_loss   cls_loss   dfl_loss  Instances       Size\n"
          ]
        },
        {
          "name": "stderr",
          "output_type": "stream",
          "text": [
            "     74/300       8.6G      1.085      1.214     0.6124      1.163         38        640: 100%|██████████| 56/56 [00:45<00:00,  1.23it/s]\n",
            "                 Class     Images  Instances      Box(P          R      mAP50  mAP50-95)     Mask(P          R      mAP50  mAP50-95): 100%|██████████| 8/8 [00:04<00:00,  1.61it/s]"
          ]
        },
        {
          "name": "stdout",
          "output_type": "stream",
          "text": [
            "                   all        123        528      0.854      0.826      0.877      0.519      0.877      0.843        0.9      0.555\n"
          ]
        },
        {
          "name": "stderr",
          "output_type": "stream",
          "text": [
            "\n"
          ]
        },
        {
          "name": "stdout",
          "output_type": "stream",
          "text": [
            "\n",
            "      Epoch    GPU_mem   box_loss   seg_loss   cls_loss   dfl_loss  Instances       Size\n"
          ]
        },
        {
          "name": "stderr",
          "output_type": "stream",
          "text": [
            "     75/300      8.56G      1.127      1.242     0.6275      1.201         22        640: 100%|██████████| 56/56 [00:45<00:00,  1.24it/s]\n",
            "                 Class     Images  Instances      Box(P          R      mAP50  mAP50-95)     Mask(P          R      mAP50  mAP50-95): 100%|██████████| 8/8 [00:04<00:00,  1.69it/s]"
          ]
        },
        {
          "name": "stdout",
          "output_type": "stream",
          "text": [
            "                   all        123        528      0.856       0.83       0.88      0.523      0.872       0.85      0.908      0.554\n"
          ]
        },
        {
          "name": "stderr",
          "output_type": "stream",
          "text": [
            "\n"
          ]
        },
        {
          "name": "stdout",
          "output_type": "stream",
          "text": [
            "\n",
            "      Epoch    GPU_mem   box_loss   seg_loss   cls_loss   dfl_loss  Instances       Size\n"
          ]
        },
        {
          "name": "stderr",
          "output_type": "stream",
          "text": [
            "     76/300       8.6G      1.115      1.233     0.6225      1.183         25        640: 100%|██████████| 56/56 [00:48<00:00,  1.16it/s]\n",
            "                 Class     Images  Instances      Box(P          R      mAP50  mAP50-95)     Mask(P          R      mAP50  mAP50-95): 100%|██████████| 8/8 [00:04<00:00,  1.61it/s]"
          ]
        },
        {
          "name": "stdout",
          "output_type": "stream",
          "text": [
            "                   all        123        528      0.857      0.795      0.866      0.491       0.88      0.816      0.892      0.532\n"
          ]
        },
        {
          "name": "stderr",
          "output_type": "stream",
          "text": [
            "\n"
          ]
        },
        {
          "name": "stdout",
          "output_type": "stream",
          "text": [
            "\n",
            "      Epoch    GPU_mem   box_loss   seg_loss   cls_loss   dfl_loss  Instances       Size\n"
          ]
        },
        {
          "name": "stderr",
          "output_type": "stream",
          "text": [
            "     77/300      8.58G      1.131      1.219     0.6289      1.187         28        640: 100%|██████████| 56/56 [00:45<00:00,  1.23it/s]\n",
            "                 Class     Images  Instances      Box(P          R      mAP50  mAP50-95)     Mask(P          R      mAP50  mAP50-95): 100%|██████████| 8/8 [00:04<00:00,  1.69it/s]"
          ]
        },
        {
          "name": "stdout",
          "output_type": "stream",
          "text": [
            "                   all        123        528       0.81      0.841      0.883      0.518      0.816      0.847      0.889      0.539\n"
          ]
        },
        {
          "name": "stderr",
          "output_type": "stream",
          "text": [
            "\n"
          ]
        },
        {
          "name": "stdout",
          "output_type": "stream",
          "text": [
            "\n",
            "      Epoch    GPU_mem   box_loss   seg_loss   cls_loss   dfl_loss  Instances       Size\n"
          ]
        },
        {
          "name": "stderr",
          "output_type": "stream",
          "text": [
            "     78/300      8.61G      1.097      1.235     0.6112      1.184         25        640: 100%|██████████| 56/56 [00:45<00:00,  1.23it/s]\n",
            "                 Class     Images  Instances      Box(P          R      mAP50  mAP50-95)     Mask(P          R      mAP50  mAP50-95): 100%|██████████| 8/8 [00:05<00:00,  1.46it/s]"
          ]
        },
        {
          "name": "stdout",
          "output_type": "stream",
          "text": [
            "                   all        123        528      0.831       0.83      0.879       0.52      0.856      0.854      0.897      0.553\n"
          ]
        },
        {
          "name": "stderr",
          "output_type": "stream",
          "text": [
            "\n"
          ]
        },
        {
          "name": "stdout",
          "output_type": "stream",
          "text": [
            "\n",
            "      Epoch    GPU_mem   box_loss   seg_loss   cls_loss   dfl_loss  Instances       Size\n"
          ]
        },
        {
          "name": "stderr",
          "output_type": "stream",
          "text": [
            "     79/300       8.6G       1.06      1.199     0.5946      1.151         23        640: 100%|██████████| 56/56 [00:45<00:00,  1.23it/s]\n",
            "                 Class     Images  Instances      Box(P          R      mAP50  mAP50-95)     Mask(P          R      mAP50  mAP50-95): 100%|██████████| 8/8 [00:04<00:00,  1.65it/s]"
          ]
        },
        {
          "name": "stdout",
          "output_type": "stream",
          "text": [
            "                   all        123        528       0.87      0.798      0.875      0.521      0.873       0.83      0.901      0.563\n"
          ]
        },
        {
          "name": "stderr",
          "output_type": "stream",
          "text": [
            "\n"
          ]
        },
        {
          "name": "stdout",
          "output_type": "stream",
          "text": [
            "\n",
            "      Epoch    GPU_mem   box_loss   seg_loss   cls_loss   dfl_loss  Instances       Size\n"
          ]
        },
        {
          "name": "stderr",
          "output_type": "stream",
          "text": [
            "     80/300      8.58G      1.043      1.174     0.6037      1.139         17        640: 100%|██████████| 56/56 [00:46<00:00,  1.21it/s]\n",
            "                 Class     Images  Instances      Box(P          R      mAP50  mAP50-95)     Mask(P          R      mAP50  mAP50-95): 100%|██████████| 8/8 [00:05<00:00,  1.55it/s]"
          ]
        },
        {
          "name": "stdout",
          "output_type": "stream",
          "text": [
            "                   all        123        528      0.845      0.809      0.873      0.521      0.854      0.833        0.9      0.547\n"
          ]
        },
        {
          "name": "stderr",
          "output_type": "stream",
          "text": [
            "\n"
          ]
        },
        {
          "name": "stdout",
          "output_type": "stream",
          "text": [
            "\n",
            "      Epoch    GPU_mem   box_loss   seg_loss   cls_loss   dfl_loss  Instances       Size\n"
          ]
        },
        {
          "name": "stderr",
          "output_type": "stream",
          "text": [
            "     81/300      8.58G      1.071      1.176     0.5883      1.172         20        640: 100%|██████████| 56/56 [00:45<00:00,  1.23it/s]\n",
            "                 Class     Images  Instances      Box(P          R      mAP50  mAP50-95)     Mask(P          R      mAP50  mAP50-95): 100%|██████████| 8/8 [00:04<00:00,  1.69it/s]"
          ]
        },
        {
          "name": "stdout",
          "output_type": "stream",
          "text": [
            "                   all        123        528      0.838      0.833      0.865      0.491      0.857      0.856      0.895      0.535\n"
          ]
        },
        {
          "name": "stderr",
          "output_type": "stream",
          "text": [
            "\n"
          ]
        },
        {
          "name": "stdout",
          "output_type": "stream",
          "text": [
            "\n",
            "      Epoch    GPU_mem   box_loss   seg_loss   cls_loss   dfl_loss  Instances       Size\n"
          ]
        },
        {
          "name": "stderr",
          "output_type": "stream",
          "text": [
            "     82/300       8.6G       1.06        1.2     0.6012      1.135         43        640: 100%|██████████| 56/56 [00:45<00:00,  1.24it/s]\n",
            "                 Class     Images  Instances      Box(P          R      mAP50  mAP50-95)     Mask(P          R      mAP50  mAP50-95): 100%|██████████| 8/8 [00:04<00:00,  1.64it/s]"
          ]
        },
        {
          "name": "stdout",
          "output_type": "stream",
          "text": [
            "                   all        123        528      0.841      0.802       0.88       0.53      0.857      0.818      0.895      0.561\n"
          ]
        },
        {
          "name": "stderr",
          "output_type": "stream",
          "text": [
            "\n"
          ]
        },
        {
          "name": "stdout",
          "output_type": "stream",
          "text": [
            "\n",
            "      Epoch    GPU_mem   box_loss   seg_loss   cls_loss   dfl_loss  Instances       Size\n"
          ]
        },
        {
          "name": "stderr",
          "output_type": "stream",
          "text": [
            "     83/300      8.62G     0.9884      1.151     0.5538      1.119         38        640: 100%|██████████| 56/56 [00:48<00:00,  1.16it/s]\n",
            "                 Class     Images  Instances      Box(P          R      mAP50  mAP50-95)     Mask(P          R      mAP50  mAP50-95): 100%|██████████| 8/8 [00:04<00:00,  1.70it/s]"
          ]
        },
        {
          "name": "stdout",
          "output_type": "stream",
          "text": [
            "                   all        123        528      0.896       0.79      0.892      0.524      0.899      0.794      0.894      0.559\n"
          ]
        },
        {
          "name": "stderr",
          "output_type": "stream",
          "text": [
            "\n"
          ]
        },
        {
          "name": "stdout",
          "output_type": "stream",
          "text": [
            "\n",
            "      Epoch    GPU_mem   box_loss   seg_loss   cls_loss   dfl_loss  Instances       Size\n"
          ]
        },
        {
          "name": "stderr",
          "output_type": "stream",
          "text": [
            "     84/300      8.65G      1.013      1.155     0.5851      1.125         34        640: 100%|██████████| 56/56 [00:45<00:00,  1.24it/s]\n",
            "                 Class     Images  Instances      Box(P          R      mAP50  mAP50-95)     Mask(P          R      mAP50  mAP50-95): 100%|██████████| 8/8 [00:05<00:00,  1.53it/s]"
          ]
        },
        {
          "name": "stdout",
          "output_type": "stream",
          "text": [
            "                   all        123        528      0.834      0.805      0.869      0.516      0.854       0.83      0.896      0.552\n"
          ]
        },
        {
          "name": "stderr",
          "output_type": "stream",
          "text": [
            "\n"
          ]
        },
        {
          "name": "stdout",
          "output_type": "stream",
          "text": [
            "\n",
            "      Epoch    GPU_mem   box_loss   seg_loss   cls_loss   dfl_loss  Instances       Size\n"
          ]
        },
        {
          "name": "stderr",
          "output_type": "stream",
          "text": [
            "     85/300      8.57G       1.01      1.183     0.5659      1.123         31        640: 100%|██████████| 56/56 [00:45<00:00,  1.23it/s]\n",
            "                 Class     Images  Instances      Box(P          R      mAP50  mAP50-95)     Mask(P          R      mAP50  mAP50-95): 100%|██████████| 8/8 [00:05<00:00,  1.60it/s]"
          ]
        },
        {
          "name": "stdout",
          "output_type": "stream",
          "text": [
            "                   all        123        528      0.847      0.801      0.867      0.512      0.858      0.812       0.88      0.528\n"
          ]
        },
        {
          "name": "stderr",
          "output_type": "stream",
          "text": [
            "\n"
          ]
        },
        {
          "name": "stdout",
          "output_type": "stream",
          "text": [
            "\n",
            "      Epoch    GPU_mem   box_loss   seg_loss   cls_loss   dfl_loss  Instances       Size\n"
          ]
        },
        {
          "name": "stderr",
          "output_type": "stream",
          "text": [
            "     86/300      8.58G      1.038      1.187     0.5977      1.155         21        640: 100%|██████████| 56/56 [00:45<00:00,  1.23it/s]\n",
            "                 Class     Images  Instances      Box(P          R      mAP50  mAP50-95)     Mask(P          R      mAP50  mAP50-95): 100%|██████████| 8/8 [00:05<00:00,  1.44it/s]"
          ]
        },
        {
          "name": "stdout",
          "output_type": "stream",
          "text": [
            "                   all        123        528      0.829      0.797      0.861      0.505      0.844      0.812      0.879       0.54\n"
          ]
        },
        {
          "name": "stderr",
          "output_type": "stream",
          "text": [
            "\n"
          ]
        },
        {
          "name": "stdout",
          "output_type": "stream",
          "text": [
            "\n",
            "      Epoch    GPU_mem   box_loss   seg_loss   cls_loss   dfl_loss  Instances       Size\n"
          ]
        },
        {
          "name": "stderr",
          "output_type": "stream",
          "text": [
            "     87/300      8.59G      1.042      1.168     0.6016      1.151         26        640: 100%|██████████| 56/56 [00:45<00:00,  1.23it/s]\n",
            "                 Class     Images  Instances      Box(P          R      mAP50  mAP50-95)     Mask(P          R      mAP50  mAP50-95): 100%|██████████| 8/8 [00:04<00:00,  1.61it/s]"
          ]
        },
        {
          "name": "stdout",
          "output_type": "stream",
          "text": [
            "                   all        123        528      0.788      0.826      0.852      0.517      0.834      0.822       0.88      0.536\n"
          ]
        },
        {
          "name": "stderr",
          "output_type": "stream",
          "text": [
            "\n"
          ]
        },
        {
          "name": "stdout",
          "output_type": "stream",
          "text": [
            "\n",
            "      Epoch    GPU_mem   box_loss   seg_loss   cls_loss   dfl_loss  Instances       Size\n"
          ]
        },
        {
          "name": "stderr",
          "output_type": "stream",
          "text": [
            "     88/300      8.61G      1.024      1.145     0.6139      1.138         32        640: 100%|██████████| 56/56 [00:45<00:00,  1.22it/s]\n",
            "                 Class     Images  Instances      Box(P          R      mAP50  mAP50-95)     Mask(P          R      mAP50  mAP50-95): 100%|██████████| 8/8 [00:04<00:00,  1.69it/s]"
          ]
        },
        {
          "name": "stdout",
          "output_type": "stream",
          "text": [
            "                   all        123        528      0.877      0.783      0.876      0.527      0.889      0.795       0.89      0.523\n"
          ]
        },
        {
          "name": "stderr",
          "output_type": "stream",
          "text": [
            "\n"
          ]
        },
        {
          "name": "stdout",
          "output_type": "stream",
          "text": [
            "\n",
            "      Epoch    GPU_mem   box_loss   seg_loss   cls_loss   dfl_loss  Instances       Size\n"
          ]
        },
        {
          "name": "stderr",
          "output_type": "stream",
          "text": [
            "     89/300       8.6G      1.012       1.19     0.5953      1.119         29        640: 100%|██████████| 56/56 [00:45<00:00,  1.23it/s]\n",
            "                 Class     Images  Instances      Box(P          R      mAP50  mAP50-95)     Mask(P          R      mAP50  mAP50-95): 100%|██████████| 8/8 [00:05<00:00,  1.51it/s]"
          ]
        },
        {
          "name": "stdout",
          "output_type": "stream",
          "text": [
            "                   all        123        528       0.82      0.813      0.876      0.527      0.835      0.837      0.898      0.535\n"
          ]
        },
        {
          "name": "stderr",
          "output_type": "stream",
          "text": [
            "\n"
          ]
        },
        {
          "name": "stdout",
          "output_type": "stream",
          "text": [
            "\n",
            "      Epoch    GPU_mem   box_loss   seg_loss   cls_loss   dfl_loss  Instances       Size\n"
          ]
        },
        {
          "name": "stderr",
          "output_type": "stream",
          "text": [
            "     90/300      8.54G     0.9895      1.129     0.5789      1.121         28        640: 100%|██████████| 56/56 [00:45<00:00,  1.24it/s]\n",
            "                 Class     Images  Instances      Box(P          R      mAP50  mAP50-95)     Mask(P          R      mAP50  mAP50-95): 100%|██████████| 8/8 [00:05<00:00,  1.57it/s]"
          ]
        },
        {
          "name": "stdout",
          "output_type": "stream",
          "text": [
            "                   all        123        528      0.873      0.794      0.874      0.515       0.88      0.809      0.892      0.538\n"
          ]
        },
        {
          "name": "stderr",
          "output_type": "stream",
          "text": [
            "\n"
          ]
        },
        {
          "name": "stdout",
          "output_type": "stream",
          "text": [
            "\n",
            "      Epoch    GPU_mem   box_loss   seg_loss   cls_loss   dfl_loss  Instances       Size\n"
          ]
        },
        {
          "name": "stderr",
          "output_type": "stream",
          "text": [
            "     91/300      8.61G      1.044       1.17     0.5794       1.12         26        640: 100%|██████████| 56/56 [00:45<00:00,  1.24it/s]\n",
            "                 Class     Images  Instances      Box(P          R      mAP50  mAP50-95)     Mask(P          R      mAP50  mAP50-95): 100%|██████████| 8/8 [00:04<00:00,  1.66it/s]"
          ]
        },
        {
          "name": "stdout",
          "output_type": "stream",
          "text": [
            "                   all        123        528      0.855      0.827      0.876      0.521      0.866      0.837      0.887       0.53\n"
          ]
        },
        {
          "name": "stderr",
          "output_type": "stream",
          "text": [
            "\n"
          ]
        },
        {
          "name": "stdout",
          "output_type": "stream",
          "text": [
            "\n",
            "      Epoch    GPU_mem   box_loss   seg_loss   cls_loss   dfl_loss  Instances       Size\n"
          ]
        },
        {
          "name": "stderr",
          "output_type": "stream",
          "text": [
            "     92/300      8.57G     0.9992      1.148     0.5589      1.128         19        640: 100%|██████████| 56/56 [00:45<00:00,  1.24it/s]\n",
            "                 Class     Images  Instances      Box(P          R      mAP50  mAP50-95)     Mask(P          R      mAP50  mAP50-95): 100%|██████████| 8/8 [00:05<00:00,  1.50it/s]"
          ]
        },
        {
          "name": "stdout",
          "output_type": "stream",
          "text": [
            "                   all        123        528      0.835      0.833      0.883      0.505      0.839      0.852      0.894      0.514\n"
          ]
        },
        {
          "name": "stderr",
          "output_type": "stream",
          "text": [
            "\n"
          ]
        },
        {
          "name": "stdout",
          "output_type": "stream",
          "text": [
            "\n",
            "      Epoch    GPU_mem   box_loss   seg_loss   cls_loss   dfl_loss  Instances       Size\n"
          ]
        },
        {
          "name": "stderr",
          "output_type": "stream",
          "text": [
            "     93/300      8.56G      1.038      1.168     0.5806      1.164         38        640: 100%|██████████| 56/56 [00:45<00:00,  1.23it/s]\n",
            "                 Class     Images  Instances      Box(P          R      mAP50  mAP50-95)     Mask(P          R      mAP50  mAP50-95): 100%|██████████| 8/8 [00:04<00:00,  1.69it/s]"
          ]
        },
        {
          "name": "stdout",
          "output_type": "stream",
          "text": [
            "                   all        123        528       0.85      0.836      0.895      0.528      0.858      0.855      0.906      0.558\n"
          ]
        },
        {
          "name": "stderr",
          "output_type": "stream",
          "text": [
            "\n"
          ]
        },
        {
          "name": "stdout",
          "output_type": "stream",
          "text": [
            "\n",
            "      Epoch    GPU_mem   box_loss   seg_loss   cls_loss   dfl_loss  Instances       Size\n"
          ]
        },
        {
          "name": "stderr",
          "output_type": "stream",
          "text": [
            "     94/300      8.59G     0.9995       1.14     0.5523      1.125         20        640: 100%|██████████| 56/56 [00:44<00:00,  1.25it/s]\n",
            "                 Class     Images  Instances      Box(P          R      mAP50  mAP50-95)     Mask(P          R      mAP50  mAP50-95): 100%|██████████| 8/8 [00:05<00:00,  1.55it/s]"
          ]
        },
        {
          "name": "stdout",
          "output_type": "stream",
          "text": [
            "                   all        123        528      0.879      0.797      0.867      0.508      0.897      0.816      0.897      0.547\n"
          ]
        },
        {
          "name": "stderr",
          "output_type": "stream",
          "text": [
            "\n"
          ]
        },
        {
          "name": "stdout",
          "output_type": "stream",
          "text": [
            "\n",
            "      Epoch    GPU_mem   box_loss   seg_loss   cls_loss   dfl_loss  Instances       Size\n"
          ]
        },
        {
          "name": "stderr",
          "output_type": "stream",
          "text": [
            "     95/300      8.55G       1.01      1.153     0.5609      1.113         31        640: 100%|██████████| 56/56 [00:45<00:00,  1.23it/s]\n",
            "                 Class     Images  Instances      Box(P          R      mAP50  mAP50-95)     Mask(P          R      mAP50  mAP50-95): 100%|██████████| 8/8 [00:04<00:00,  1.69it/s]"
          ]
        },
        {
          "name": "stdout",
          "output_type": "stream",
          "text": [
            "                   all        123        528       0.82      0.827      0.851        0.5      0.844      0.859      0.875      0.528\n"
          ]
        },
        {
          "name": "stderr",
          "output_type": "stream",
          "text": [
            "\n"
          ]
        },
        {
          "name": "stdout",
          "output_type": "stream",
          "text": [
            "\n",
            "      Epoch    GPU_mem   box_loss   seg_loss   cls_loss   dfl_loss  Instances       Size\n"
          ]
        },
        {
          "name": "stderr",
          "output_type": "stream",
          "text": [
            "     96/300      8.57G     0.9796      1.161     0.5656      1.112         33        640: 100%|██████████| 56/56 [00:45<00:00,  1.23it/s]\n",
            "                 Class     Images  Instances      Box(P          R      mAP50  mAP50-95)     Mask(P          R      mAP50  mAP50-95): 100%|██████████| 8/8 [00:05<00:00,  1.55it/s]"
          ]
        },
        {
          "name": "stdout",
          "output_type": "stream",
          "text": [
            "                   all        123        528      0.851      0.818      0.861      0.503      0.863       0.83      0.876      0.517\n"
          ]
        },
        {
          "name": "stderr",
          "output_type": "stream",
          "text": [
            "\n"
          ]
        },
        {
          "name": "stdout",
          "output_type": "stream",
          "text": [
            "\n",
            "      Epoch    GPU_mem   box_loss   seg_loss   cls_loss   dfl_loss  Instances       Size\n"
          ]
        },
        {
          "name": "stderr",
          "output_type": "stream",
          "text": [
            "     97/300      8.61G     0.9905      1.139      0.567      1.123         25        640: 100%|██████████| 56/56 [00:44<00:00,  1.25it/s]\n",
            "                 Class     Images  Instances      Box(P          R      mAP50  mAP50-95)     Mask(P          R      mAP50  mAP50-95): 100%|██████████| 8/8 [00:05<00:00,  1.50it/s]"
          ]
        },
        {
          "name": "stdout",
          "output_type": "stream",
          "text": [
            "                   all        123        528      0.843      0.845      0.885      0.527      0.835      0.846      0.889       0.54\n"
          ]
        },
        {
          "name": "stderr",
          "output_type": "stream",
          "text": [
            "\n"
          ]
        },
        {
          "name": "stdout",
          "output_type": "stream",
          "text": [
            "\n",
            "      Epoch    GPU_mem   box_loss   seg_loss   cls_loss   dfl_loss  Instances       Size\n"
          ]
        },
        {
          "name": "stderr",
          "output_type": "stream",
          "text": [
            "     98/300      8.55G     0.9645      1.141     0.5375      1.089         41        640: 100%|██████████| 56/56 [00:45<00:00,  1.24it/s]\n",
            "                 Class     Images  Instances      Box(P          R      mAP50  mAP50-95)     Mask(P          R      mAP50  mAP50-95): 100%|██████████| 8/8 [00:05<00:00,  1.58it/s]"
          ]
        },
        {
          "name": "stdout",
          "output_type": "stream",
          "text": [
            "                   all        123        528       0.87      0.784      0.878      0.539       0.84      0.843      0.894      0.542\n"
          ]
        },
        {
          "name": "stderr",
          "output_type": "stream",
          "text": [
            "\n"
          ]
        },
        {
          "name": "stdout",
          "output_type": "stream",
          "text": [
            "\n",
            "      Epoch    GPU_mem   box_loss   seg_loss   cls_loss   dfl_loss  Instances       Size\n"
          ]
        },
        {
          "name": "stderr",
          "output_type": "stream",
          "text": [
            "     99/300      8.54G     0.9879      1.147     0.5548      1.108         27        640: 100%|██████████| 56/56 [00:45<00:00,  1.23it/s]\n",
            "                 Class     Images  Instances      Box(P          R      mAP50  mAP50-95)     Mask(P          R      mAP50  mAP50-95): 100%|██████████| 8/8 [00:04<00:00,  1.68it/s]"
          ]
        },
        {
          "name": "stdout",
          "output_type": "stream",
          "text": [
            "                   all        123        528      0.817      0.845       0.88      0.519       0.84      0.831      0.891      0.536\n"
          ]
        },
        {
          "name": "stderr",
          "output_type": "stream",
          "text": [
            "\n"
          ]
        },
        {
          "name": "stdout",
          "output_type": "stream",
          "text": [
            "\n",
            "      Epoch    GPU_mem   box_loss   seg_loss   cls_loss   dfl_loss  Instances       Size\n"
          ]
        },
        {
          "name": "stderr",
          "output_type": "stream",
          "text": [
            "    100/300      8.56G     0.9777        1.1     0.5355      1.102         42        640: 100%|██████████| 56/56 [00:45<00:00,  1.24it/s]\n",
            "                 Class     Images  Instances      Box(P          R      mAP50  mAP50-95)     Mask(P          R      mAP50  mAP50-95): 100%|██████████| 8/8 [00:05<00:00,  1.56it/s]"
          ]
        },
        {
          "name": "stdout",
          "output_type": "stream",
          "text": [
            "                   all        123        528      0.853      0.802      0.881      0.528      0.823      0.861      0.895      0.545\n"
          ]
        },
        {
          "name": "stderr",
          "output_type": "stream",
          "text": [
            "\n"
          ]
        },
        {
          "name": "stdout",
          "output_type": "stream",
          "text": [
            "\n",
            "      Epoch    GPU_mem   box_loss   seg_loss   cls_loss   dfl_loss  Instances       Size\n"
          ]
        },
        {
          "name": "stderr",
          "output_type": "stream",
          "text": [
            "    101/300      8.57G      0.914      1.101     0.5254      1.078         37        640: 100%|██████████| 56/56 [00:45<00:00,  1.22it/s]\n",
            "                 Class     Images  Instances      Box(P          R      mAP50  mAP50-95)     Mask(P          R      mAP50  mAP50-95): 100%|██████████| 8/8 [00:04<00:00,  1.69it/s]"
          ]
        },
        {
          "name": "stdout",
          "output_type": "stream",
          "text": [
            "                   all        123        528      0.854      0.795      0.864       0.52      0.866      0.807      0.876      0.538\n"
          ]
        },
        {
          "name": "stderr",
          "output_type": "stream",
          "text": [
            "\n"
          ]
        },
        {
          "name": "stdout",
          "output_type": "stream",
          "text": [
            "\n",
            "      Epoch    GPU_mem   box_loss   seg_loss   cls_loss   dfl_loss  Instances       Size\n"
          ]
        },
        {
          "name": "stderr",
          "output_type": "stream",
          "text": [
            "    102/300      8.58G     0.9362      1.087     0.5476      1.093         28        640: 100%|██████████| 56/56 [00:45<00:00,  1.24it/s]\n",
            "                 Class     Images  Instances      Box(P          R      mAP50  mAP50-95)     Mask(P          R      mAP50  mAP50-95): 100%|██████████| 8/8 [00:05<00:00,  1.59it/s]"
          ]
        },
        {
          "name": "stdout",
          "output_type": "stream",
          "text": [
            "                   all        123        528      0.841      0.812      0.872      0.517      0.854      0.826      0.889      0.541\n"
          ]
        },
        {
          "name": "stderr",
          "output_type": "stream",
          "text": [
            "\n"
          ]
        },
        {
          "name": "stdout",
          "output_type": "stream",
          "text": [
            "\n",
            "      Epoch    GPU_mem   box_loss   seg_loss   cls_loss   dfl_loss  Instances       Size\n"
          ]
        },
        {
          "name": "stderr",
          "output_type": "stream",
          "text": [
            "    103/300      8.62G     0.9558      1.105     0.5306      1.087         37        640: 100%|██████████| 56/56 [00:44<00:00,  1.25it/s]\n",
            "                 Class     Images  Instances      Box(P          R      mAP50  mAP50-95)     Mask(P          R      mAP50  mAP50-95): 100%|██████████| 8/8 [00:05<00:00,  1.48it/s]"
          ]
        },
        {
          "name": "stdout",
          "output_type": "stream",
          "text": [
            "                   all        123        528      0.853       0.79      0.865       0.51      0.871      0.807      0.894      0.529\n"
          ]
        },
        {
          "name": "stderr",
          "output_type": "stream",
          "text": [
            "\n"
          ]
        },
        {
          "name": "stdout",
          "output_type": "stream",
          "text": [
            "\n",
            "      Epoch    GPU_mem   box_loss   seg_loss   cls_loss   dfl_loss  Instances       Size\n"
          ]
        },
        {
          "name": "stderr",
          "output_type": "stream",
          "text": [
            "    104/300      8.57G     0.9406      1.086     0.5264      1.075         27        640: 100%|██████████| 56/56 [00:45<00:00,  1.23it/s]\n",
            "                 Class     Images  Instances      Box(P          R      mAP50  mAP50-95)     Mask(P          R      mAP50  mAP50-95): 100%|██████████| 8/8 [00:04<00:00,  1.65it/s]"
          ]
        },
        {
          "name": "stdout",
          "output_type": "stream",
          "text": [
            "                   all        123        528      0.845      0.808      0.865      0.521      0.875      0.838      0.903      0.546\n"
          ]
        },
        {
          "name": "stderr",
          "output_type": "stream",
          "text": [
            "\n"
          ]
        },
        {
          "name": "stdout",
          "output_type": "stream",
          "text": [
            "\n",
            "      Epoch    GPU_mem   box_loss   seg_loss   cls_loss   dfl_loss  Instances       Size\n"
          ]
        },
        {
          "name": "stderr",
          "output_type": "stream",
          "text": [
            "    105/300      8.59G     0.9395      1.102     0.5241      1.089         21        640: 100%|██████████| 56/56 [00:45<00:00,  1.24it/s]\n",
            "                 Class     Images  Instances      Box(P          R      mAP50  mAP50-95)     Mask(P          R      mAP50  mAP50-95): 100%|██████████| 8/8 [00:05<00:00,  1.46it/s]"
          ]
        },
        {
          "name": "stdout",
          "output_type": "stream",
          "text": [
            "                   all        123        528      0.864      0.792      0.872      0.534      0.876      0.804      0.892      0.564\n"
          ]
        },
        {
          "name": "stderr",
          "output_type": "stream",
          "text": [
            "\n"
          ]
        },
        {
          "name": "stdout",
          "output_type": "stream",
          "text": [
            "\n",
            "      Epoch    GPU_mem   box_loss   seg_loss   cls_loss   dfl_loss  Instances       Size\n"
          ]
        },
        {
          "name": "stderr",
          "output_type": "stream",
          "text": [
            "    106/300      8.59G     0.9703      1.109     0.5336      1.084         45        640: 100%|██████████| 56/56 [00:47<00:00,  1.19it/s]\n",
            "                 Class     Images  Instances      Box(P          R      mAP50  mAP50-95)     Mask(P          R      mAP50  mAP50-95): 100%|██████████| 8/8 [00:05<00:00,  1.46it/s]"
          ]
        },
        {
          "name": "stdout",
          "output_type": "stream",
          "text": [
            "                   all        123        528      0.846      0.799      0.864      0.503      0.855      0.814      0.888      0.545\n"
          ]
        },
        {
          "name": "stderr",
          "output_type": "stream",
          "text": [
            "\n"
          ]
        },
        {
          "name": "stdout",
          "output_type": "stream",
          "text": [
            "\n",
            "      Epoch    GPU_mem   box_loss   seg_loss   cls_loss   dfl_loss  Instances       Size\n"
          ]
        },
        {
          "name": "stderr",
          "output_type": "stream",
          "text": [
            "    107/300      8.58G     0.9576      1.134     0.5336      1.092         45        640: 100%|██████████| 56/56 [00:45<00:00,  1.23it/s]\n",
            "                 Class     Images  Instances      Box(P          R      mAP50  mAP50-95)     Mask(P          R      mAP50  mAP50-95): 100%|██████████| 8/8 [00:04<00:00,  1.62it/s]"
          ]
        },
        {
          "name": "stdout",
          "output_type": "stream",
          "text": [
            "                   all        123        528      0.801      0.835      0.866      0.503      0.818      0.851      0.889      0.525\n"
          ]
        },
        {
          "name": "stderr",
          "output_type": "stream",
          "text": [
            "\n"
          ]
        },
        {
          "name": "stdout",
          "output_type": "stream",
          "text": [
            "\n",
            "      Epoch    GPU_mem   box_loss   seg_loss   cls_loss   dfl_loss  Instances       Size\n"
          ]
        },
        {
          "name": "stderr",
          "output_type": "stream",
          "text": [
            "    108/300      8.59G     0.9607      1.114     0.5394      1.117         28        640: 100%|██████████| 56/56 [00:45<00:00,  1.22it/s]\n",
            "                 Class     Images  Instances      Box(P          R      mAP50  mAP50-95)     Mask(P          R      mAP50  mAP50-95): 100%|██████████| 8/8 [00:04<00:00,  1.70it/s]"
          ]
        },
        {
          "name": "stdout",
          "output_type": "stream",
          "text": [
            "                   all        123        528      0.868       0.83      0.887      0.532      0.882      0.843      0.904      0.547\n"
          ]
        },
        {
          "name": "stderr",
          "output_type": "stream",
          "text": [
            "\n"
          ]
        },
        {
          "name": "stdout",
          "output_type": "stream",
          "text": [
            "\n",
            "      Epoch    GPU_mem   box_loss   seg_loss   cls_loss   dfl_loss  Instances       Size\n"
          ]
        },
        {
          "name": "stderr",
          "output_type": "stream",
          "text": [
            "    109/300      8.64G     0.9094      1.051     0.5008       1.06         48        640: 100%|██████████| 56/56 [00:45<00:00,  1.23it/s]\n",
            "                 Class     Images  Instances      Box(P          R      mAP50  mAP50-95)     Mask(P          R      mAP50  mAP50-95): 100%|██████████| 8/8 [00:04<00:00,  1.68it/s]"
          ]
        },
        {
          "name": "stdout",
          "output_type": "stream",
          "text": [
            "                   all        123        528      0.865      0.814      0.869      0.513      0.881       0.83      0.895      0.549\n"
          ]
        },
        {
          "name": "stderr",
          "output_type": "stream",
          "text": [
            "\n"
          ]
        },
        {
          "name": "stdout",
          "output_type": "stream",
          "text": [
            "\n",
            "      Epoch    GPU_mem   box_loss   seg_loss   cls_loss   dfl_loss  Instances       Size\n"
          ]
        },
        {
          "name": "stderr",
          "output_type": "stream",
          "text": [
            "    110/300      8.55G     0.9243      1.074     0.4905       1.07         20        640: 100%|██████████| 56/56 [00:45<00:00,  1.24it/s]\n",
            "                 Class     Images  Instances      Box(P          R      mAP50  mAP50-95)     Mask(P          R      mAP50  mAP50-95): 100%|██████████| 8/8 [00:04<00:00,  1.70it/s]"
          ]
        },
        {
          "name": "stdout",
          "output_type": "stream",
          "text": [
            "                   all        123        528      0.844      0.826      0.874      0.514      0.863      0.841      0.897      0.547\n"
          ]
        },
        {
          "name": "stderr",
          "output_type": "stream",
          "text": [
            "\n"
          ]
        },
        {
          "name": "stdout",
          "output_type": "stream",
          "text": [
            "\n",
            "      Epoch    GPU_mem   box_loss   seg_loss   cls_loss   dfl_loss  Instances       Size\n"
          ]
        },
        {
          "name": "stderr",
          "output_type": "stream",
          "text": [
            "    111/300      8.63G     0.9495      1.112      0.512      1.098         51        640: 100%|██████████| 56/56 [00:45<00:00,  1.24it/s]\n",
            "                 Class     Images  Instances      Box(P          R      mAP50  mAP50-95)     Mask(P          R      mAP50  mAP50-95): 100%|██████████| 8/8 [00:05<00:00,  1.58it/s]"
          ]
        },
        {
          "name": "stdout",
          "output_type": "stream",
          "text": [
            "                   all        123        528      0.877      0.786      0.874       0.51      0.895      0.803      0.897      0.537\n"
          ]
        },
        {
          "name": "stderr",
          "output_type": "stream",
          "text": [
            "\n"
          ]
        },
        {
          "name": "stdout",
          "output_type": "stream",
          "text": [
            "\n",
            "      Epoch    GPU_mem   box_loss   seg_loss   cls_loss   dfl_loss  Instances       Size\n"
          ]
        },
        {
          "name": "stderr",
          "output_type": "stream",
          "text": [
            "    112/300      8.58G     0.9427      1.105     0.5421        1.1         24        640: 100%|██████████| 56/56 [00:45<00:00,  1.24it/s]\n",
            "                 Class     Images  Instances      Box(P          R      mAP50  mAP50-95)     Mask(P          R      mAP50  mAP50-95): 100%|██████████| 8/8 [00:05<00:00,  1.53it/s]"
          ]
        },
        {
          "name": "stdout",
          "output_type": "stream",
          "text": [
            "                   all        123        528      0.823      0.838      0.884      0.515      0.833      0.847       0.89      0.552\n"
          ]
        },
        {
          "name": "stderr",
          "output_type": "stream",
          "text": [
            "\n"
          ]
        },
        {
          "name": "stdout",
          "output_type": "stream",
          "text": [
            "\n",
            "      Epoch    GPU_mem   box_loss   seg_loss   cls_loss   dfl_loss  Instances       Size\n"
          ]
        },
        {
          "name": "stderr",
          "output_type": "stream",
          "text": [
            "    113/300      8.58G     0.9036      1.063     0.4984      1.057         24        640: 100%|██████████| 56/56 [00:45<00:00,  1.24it/s]\n",
            "                 Class     Images  Instances      Box(P          R      mAP50  mAP50-95)     Mask(P          R      mAP50  mAP50-95): 100%|██████████| 8/8 [00:05<00:00,  1.56it/s]"
          ]
        },
        {
          "name": "stdout",
          "output_type": "stream",
          "text": [
            "                   all        123        528      0.837      0.836       0.88      0.525      0.858       0.86       0.91      0.558\n"
          ]
        },
        {
          "name": "stderr",
          "output_type": "stream",
          "text": [
            "\n"
          ]
        },
        {
          "name": "stdout",
          "output_type": "stream",
          "text": [
            "\n",
            "      Epoch    GPU_mem   box_loss   seg_loss   cls_loss   dfl_loss  Instances       Size\n"
          ]
        },
        {
          "name": "stderr",
          "output_type": "stream",
          "text": [
            "    114/300      8.56G      0.899      1.066     0.4917      1.056         36        640: 100%|██████████| 56/56 [00:44<00:00,  1.25it/s]\n",
            "                 Class     Images  Instances      Box(P          R      mAP50  mAP50-95)     Mask(P          R      mAP50  mAP50-95): 100%|██████████| 8/8 [00:05<00:00,  1.57it/s]"
          ]
        },
        {
          "name": "stdout",
          "output_type": "stream",
          "text": [
            "                   all        123        528      0.833      0.832      0.883      0.526      0.865      0.833      0.907      0.546\n"
          ]
        },
        {
          "name": "stderr",
          "output_type": "stream",
          "text": [
            "\n"
          ]
        },
        {
          "name": "stdout",
          "output_type": "stream",
          "text": [
            "\n",
            "      Epoch    GPU_mem   box_loss   seg_loss   cls_loss   dfl_loss  Instances       Size\n"
          ]
        },
        {
          "name": "stderr",
          "output_type": "stream",
          "text": [
            "    115/300      8.59G     0.9332      1.072     0.5108      1.074         38        640: 100%|██████████| 56/56 [00:45<00:00,  1.23it/s]\n",
            "                 Class     Images  Instances      Box(P          R      mAP50  mAP50-95)     Mask(P          R      mAP50  mAP50-95): 100%|██████████| 8/8 [00:05<00:00,  1.56it/s]"
          ]
        },
        {
          "name": "stdout",
          "output_type": "stream",
          "text": [
            "                   all        123        528      0.836      0.828      0.879      0.518      0.863      0.855      0.912      0.565\n"
          ]
        },
        {
          "name": "stderr",
          "output_type": "stream",
          "text": [
            "\n"
          ]
        },
        {
          "name": "stdout",
          "output_type": "stream",
          "text": [
            "\n",
            "      Epoch    GPU_mem   box_loss   seg_loss   cls_loss   dfl_loss  Instances       Size\n"
          ]
        },
        {
          "name": "stderr",
          "output_type": "stream",
          "text": [
            "    116/300      8.58G     0.9138      1.054     0.4978      1.064         35        640: 100%|██████████| 56/56 [00:45<00:00,  1.23it/s]\n",
            "                 Class     Images  Instances      Box(P          R      mAP50  mAP50-95)     Mask(P          R      mAP50  mAP50-95): 100%|██████████| 8/8 [00:04<00:00,  1.70it/s]"
          ]
        },
        {
          "name": "stdout",
          "output_type": "stream",
          "text": [
            "                   all        123        528      0.851      0.803      0.879       0.52      0.831      0.848      0.898       0.55\n"
          ]
        },
        {
          "name": "stderr",
          "output_type": "stream",
          "text": [
            "\n"
          ]
        },
        {
          "name": "stdout",
          "output_type": "stream",
          "text": [
            "\n",
            "      Epoch    GPU_mem   box_loss   seg_loss   cls_loss   dfl_loss  Instances       Size\n"
          ]
        },
        {
          "name": "stderr",
          "output_type": "stream",
          "text": [
            "    117/300       8.6G     0.8964      1.066     0.5078      1.066         27        640: 100%|██████████| 56/56 [00:44<00:00,  1.25it/s]\n",
            "                 Class     Images  Instances      Box(P          R      mAP50  mAP50-95)     Mask(P          R      mAP50  mAP50-95): 100%|██████████| 8/8 [00:05<00:00,  1.48it/s]"
          ]
        },
        {
          "name": "stdout",
          "output_type": "stream",
          "text": [
            "                   all        123        528      0.887      0.782      0.882      0.538      0.871      0.818      0.902      0.576\n"
          ]
        },
        {
          "name": "stderr",
          "output_type": "stream",
          "text": [
            "\n"
          ]
        },
        {
          "name": "stdout",
          "output_type": "stream",
          "text": [
            "\n",
            "      Epoch    GPU_mem   box_loss   seg_loss   cls_loss   dfl_loss  Instances       Size\n"
          ]
        },
        {
          "name": "stderr",
          "output_type": "stream",
          "text": [
            "    118/300      8.55G      0.899      1.051     0.4948      1.059         44        640: 100%|██████████| 56/56 [00:46<00:00,  1.21it/s]\n",
            "                 Class     Images  Instances      Box(P          R      mAP50  mAP50-95)     Mask(P          R      mAP50  mAP50-95): 100%|██████████| 8/8 [00:04<00:00,  1.68it/s]"
          ]
        },
        {
          "name": "stdout",
          "output_type": "stream",
          "text": [
            "                   all        123        528      0.879      0.773      0.857      0.519      0.888      0.794      0.881      0.544\n"
          ]
        },
        {
          "name": "stderr",
          "output_type": "stream",
          "text": [
            "\n"
          ]
        },
        {
          "name": "stdout",
          "output_type": "stream",
          "text": [
            "\n",
            "      Epoch    GPU_mem   box_loss   seg_loss   cls_loss   dfl_loss  Instances       Size\n"
          ]
        },
        {
          "name": "stderr",
          "output_type": "stream",
          "text": [
            "    119/300      8.61G     0.8928      1.099     0.5054      1.065         50        640: 100%|██████████| 56/56 [00:45<00:00,  1.24it/s]\n",
            "                 Class     Images  Instances      Box(P          R      mAP50  mAP50-95)     Mask(P          R      mAP50  mAP50-95): 100%|██████████| 8/8 [00:05<00:00,  1.50it/s]"
          ]
        },
        {
          "name": "stdout",
          "output_type": "stream",
          "text": [
            "                   all        123        528      0.823      0.834      0.878      0.528      0.848      0.848        0.9      0.561\n"
          ]
        },
        {
          "name": "stderr",
          "output_type": "stream",
          "text": [
            "\n"
          ]
        },
        {
          "name": "stdout",
          "output_type": "stream",
          "text": [
            "\n",
            "      Epoch    GPU_mem   box_loss   seg_loss   cls_loss   dfl_loss  Instances       Size\n"
          ]
        },
        {
          "name": "stderr",
          "output_type": "stream",
          "text": [
            "    120/300      8.62G     0.8768      1.066     0.4732      1.057         30        640: 100%|██████████| 56/56 [00:45<00:00,  1.23it/s]\n",
            "                 Class     Images  Instances      Box(P          R      mAP50  mAP50-95)     Mask(P          R      mAP50  mAP50-95): 100%|██████████| 8/8 [00:05<00:00,  1.55it/s]"
          ]
        },
        {
          "name": "stdout",
          "output_type": "stream",
          "text": [
            "                   all        123        528      0.867      0.822      0.878      0.522      0.882      0.837        0.9      0.543\n"
          ]
        },
        {
          "name": "stderr",
          "output_type": "stream",
          "text": [
            "\n"
          ]
        },
        {
          "name": "stdout",
          "output_type": "stream",
          "text": [
            "\n",
            "      Epoch    GPU_mem   box_loss   seg_loss   cls_loss   dfl_loss  Instances       Size\n"
          ]
        },
        {
          "name": "stderr",
          "output_type": "stream",
          "text": [
            "    121/300      8.55G     0.9138       1.05     0.4984      1.063         24        640: 100%|██████████| 56/56 [00:45<00:00,  1.22it/s]\n",
            "                 Class     Images  Instances      Box(P          R      mAP50  mAP50-95)     Mask(P          R      mAP50  mAP50-95): 100%|██████████| 8/8 [00:05<00:00,  1.58it/s]"
          ]
        },
        {
          "name": "stdout",
          "output_type": "stream",
          "text": [
            "                   all        123        528      0.837      0.814       0.87      0.523      0.852      0.828      0.887      0.558\n"
          ]
        },
        {
          "name": "stderr",
          "output_type": "stream",
          "text": [
            "\n"
          ]
        },
        {
          "name": "stdout",
          "output_type": "stream",
          "text": [
            "\n",
            "      Epoch    GPU_mem   box_loss   seg_loss   cls_loss   dfl_loss  Instances       Size\n"
          ]
        },
        {
          "name": "stderr",
          "output_type": "stream",
          "text": [
            "    122/300      8.58G     0.9402      1.065     0.4899      1.074         26        640: 100%|██████████| 56/56 [00:45<00:00,  1.22it/s]\n",
            "                 Class     Images  Instances      Box(P          R      mAP50  mAP50-95)     Mask(P          R      mAP50  mAP50-95): 100%|██████████| 8/8 [00:04<00:00,  1.70it/s]"
          ]
        },
        {
          "name": "stdout",
          "output_type": "stream",
          "text": [
            "                   all        123        528      0.844      0.817       0.87      0.518      0.851       0.83      0.886       0.55\n"
          ]
        },
        {
          "name": "stderr",
          "output_type": "stream",
          "text": [
            "\n"
          ]
        },
        {
          "name": "stdout",
          "output_type": "stream",
          "text": [
            "\n",
            "      Epoch    GPU_mem   box_loss   seg_loss   cls_loss   dfl_loss  Instances       Size\n"
          ]
        },
        {
          "name": "stderr",
          "output_type": "stream",
          "text": [
            "    123/300      8.59G     0.9163       1.12     0.4864      1.071         20        640: 100%|██████████| 56/56 [00:45<00:00,  1.23it/s]\n",
            "                 Class     Images  Instances      Box(P          R      mAP50  mAP50-95)     Mask(P          R      mAP50  mAP50-95): 100%|██████████| 8/8 [00:05<00:00,  1.55it/s]"
          ]
        },
        {
          "name": "stdout",
          "output_type": "stream",
          "text": [
            "                   all        123        528      0.822      0.822      0.875      0.515      0.863      0.822      0.893      0.539\n"
          ]
        },
        {
          "name": "stderr",
          "output_type": "stream",
          "text": [
            "\n"
          ]
        },
        {
          "name": "stdout",
          "output_type": "stream",
          "text": [
            "\n",
            "      Epoch    GPU_mem   box_loss   seg_loss   cls_loss   dfl_loss  Instances       Size\n"
          ]
        },
        {
          "name": "stderr",
          "output_type": "stream",
          "text": [
            "    124/300      8.53G     0.9214      1.081     0.4782      1.069         21        640: 100%|██████████| 56/56 [00:45<00:00,  1.24it/s]\n",
            "                 Class     Images  Instances      Box(P          R      mAP50  mAP50-95)     Mask(P          R      mAP50  mAP50-95): 100%|██████████| 8/8 [00:05<00:00,  1.60it/s]"
          ]
        },
        {
          "name": "stdout",
          "output_type": "stream",
          "text": [
            "                   all        123        528      0.865      0.835      0.881      0.531      0.865      0.852      0.893      0.549\n"
          ]
        },
        {
          "name": "stderr",
          "output_type": "stream",
          "text": [
            "\n"
          ]
        },
        {
          "name": "stdout",
          "output_type": "stream",
          "text": [
            "\n",
            "      Epoch    GPU_mem   box_loss   seg_loss   cls_loss   dfl_loss  Instances       Size\n"
          ]
        },
        {
          "name": "stderr",
          "output_type": "stream",
          "text": [
            "    125/300      8.66G     0.8757      1.075     0.4779      1.058         33        640: 100%|██████████| 56/56 [00:45<00:00,  1.23it/s]\n",
            "                 Class     Images  Instances      Box(P          R      mAP50  mAP50-95)     Mask(P          R      mAP50  mAP50-95): 100%|██████████| 8/8 [00:04<00:00,  1.62it/s]"
          ]
        },
        {
          "name": "stdout",
          "output_type": "stream",
          "text": [
            "                   all        123        528      0.865      0.811       0.88      0.533       0.88       0.82      0.891      0.559\n"
          ]
        },
        {
          "name": "stderr",
          "output_type": "stream",
          "text": [
            "\n"
          ]
        },
        {
          "name": "stdout",
          "output_type": "stream",
          "text": [
            "\n",
            "      Epoch    GPU_mem   box_loss   seg_loss   cls_loss   dfl_loss  Instances       Size\n"
          ]
        },
        {
          "name": "stderr",
          "output_type": "stream",
          "text": [
            "    126/300       8.6G     0.8559      1.037     0.4658      1.051         20        640: 100%|██████████| 56/56 [00:45<00:00,  1.23it/s]\n",
            "                 Class     Images  Instances      Box(P          R      mAP50  mAP50-95)     Mask(P          R      mAP50  mAP50-95): 100%|██████████| 8/8 [00:05<00:00,  1.54it/s]"
          ]
        },
        {
          "name": "stdout",
          "output_type": "stream",
          "text": [
            "                   all        123        528      0.852      0.828      0.873      0.513      0.858      0.837      0.881       0.55\n"
          ]
        },
        {
          "name": "stderr",
          "output_type": "stream",
          "text": [
            "\n"
          ]
        },
        {
          "name": "stdout",
          "output_type": "stream",
          "text": [
            "\n",
            "      Epoch    GPU_mem   box_loss   seg_loss   cls_loss   dfl_loss  Instances       Size\n"
          ]
        },
        {
          "name": "stderr",
          "output_type": "stream",
          "text": [
            "    127/300      8.62G     0.8644      1.029     0.4672      1.047         34        640: 100%|██████████| 56/56 [00:45<00:00,  1.23it/s]\n",
            "                 Class     Images  Instances      Box(P          R      mAP50  mAP50-95)     Mask(P          R      mAP50  mAP50-95): 100%|██████████| 8/8 [00:05<00:00,  1.48it/s]"
          ]
        },
        {
          "name": "stdout",
          "output_type": "stream",
          "text": [
            "                   all        123        528      0.874      0.809      0.865      0.507      0.892      0.826      0.884      0.536\n"
          ]
        },
        {
          "name": "stderr",
          "output_type": "stream",
          "text": [
            "\n"
          ]
        },
        {
          "name": "stdout",
          "output_type": "stream",
          "text": [
            "\n",
            "      Epoch    GPU_mem   box_loss   seg_loss   cls_loss   dfl_loss  Instances       Size\n"
          ]
        },
        {
          "name": "stderr",
          "output_type": "stream",
          "text": [
            "    128/300      8.53G     0.8652      1.063     0.4828      1.059         30        640: 100%|██████████| 56/56 [00:45<00:00,  1.22it/s]\n",
            "                 Class     Images  Instances      Box(P          R      mAP50  mAP50-95)     Mask(P          R      mAP50  mAP50-95): 100%|██████████| 8/8 [00:05<00:00,  1.47it/s]"
          ]
        },
        {
          "name": "stdout",
          "output_type": "stream",
          "text": [
            "                   all        123        528      0.867      0.814      0.859      0.516       0.88      0.835      0.886      0.534\n"
          ]
        },
        {
          "name": "stderr",
          "output_type": "stream",
          "text": [
            "\n"
          ]
        },
        {
          "name": "stdout",
          "output_type": "stream",
          "text": [
            "\n",
            "      Epoch    GPU_mem   box_loss   seg_loss   cls_loss   dfl_loss  Instances       Size\n"
          ]
        },
        {
          "name": "stderr",
          "output_type": "stream",
          "text": [
            "    129/300      8.66G     0.8594      1.071     0.4623      1.023         20        640: 100%|██████████| 56/56 [00:45<00:00,  1.23it/s]\n",
            "                 Class     Images  Instances      Box(P          R      mAP50  mAP50-95)     Mask(P          R      mAP50  mAP50-95): 100%|██████████| 8/8 [00:04<00:00,  1.69it/s]"
          ]
        },
        {
          "name": "stdout",
          "output_type": "stream",
          "text": [
            "                   all        123        528      0.866      0.843      0.885      0.531      0.882      0.868      0.903      0.552\n"
          ]
        },
        {
          "name": "stderr",
          "output_type": "stream",
          "text": [
            "\n"
          ]
        },
        {
          "name": "stdout",
          "output_type": "stream",
          "text": [
            "\n",
            "      Epoch    GPU_mem   box_loss   seg_loss   cls_loss   dfl_loss  Instances       Size\n"
          ]
        },
        {
          "name": "stderr",
          "output_type": "stream",
          "text": [
            "    130/300       8.6G     0.8433      1.039     0.4695      1.033         23        640: 100%|██████████| 56/56 [00:45<00:00,  1.23it/s]\n",
            "                 Class     Images  Instances      Box(P          R      mAP50  mAP50-95)     Mask(P          R      mAP50  mAP50-95): 100%|██████████| 8/8 [00:04<00:00,  1.63it/s]"
          ]
        },
        {
          "name": "stdout",
          "output_type": "stream",
          "text": [
            "                   all        123        528      0.857      0.854      0.884      0.525      0.874      0.873      0.903      0.561\n"
          ]
        },
        {
          "name": "stderr",
          "output_type": "stream",
          "text": [
            "\n"
          ]
        },
        {
          "name": "stdout",
          "output_type": "stream",
          "text": [
            "\n",
            "      Epoch    GPU_mem   box_loss   seg_loss   cls_loss   dfl_loss  Instances       Size\n"
          ]
        },
        {
          "name": "stderr",
          "output_type": "stream",
          "text": [
            "    131/300      8.67G     0.8334      1.007     0.4571      1.025         24        640: 100%|██████████| 56/56 [00:45<00:00,  1.24it/s]\n",
            "                 Class     Images  Instances      Box(P          R      mAP50  mAP50-95)     Mask(P          R      mAP50  mAP50-95): 100%|██████████| 8/8 [00:05<00:00,  1.45it/s]"
          ]
        },
        {
          "name": "stdout",
          "output_type": "stream",
          "text": [
            "                   all        123        528      0.882      0.818      0.881      0.526      0.879      0.848      0.907      0.553\n"
          ]
        },
        {
          "name": "stderr",
          "output_type": "stream",
          "text": [
            "\n"
          ]
        },
        {
          "name": "stdout",
          "output_type": "stream",
          "text": [
            "\n",
            "      Epoch    GPU_mem   box_loss   seg_loss   cls_loss   dfl_loss  Instances       Size\n"
          ]
        },
        {
          "name": "stderr",
          "output_type": "stream",
          "text": [
            "    132/300      8.59G      0.811      1.007     0.4502       1.02         31        640: 100%|██████████| 56/56 [00:45<00:00,  1.23it/s]\n",
            "                 Class     Images  Instances      Box(P          R      mAP50  mAP50-95)     Mask(P          R      mAP50  mAP50-95): 100%|██████████| 8/8 [00:04<00:00,  1.65it/s]"
          ]
        },
        {
          "name": "stdout",
          "output_type": "stream",
          "text": [
            "                   all        123        528      0.854      0.811      0.876      0.509      0.867       0.83      0.892       0.56\n"
          ]
        },
        {
          "name": "stderr",
          "output_type": "stream",
          "text": [
            "\n"
          ]
        },
        {
          "name": "stdout",
          "output_type": "stream",
          "text": [
            "\n",
            "      Epoch    GPU_mem   box_loss   seg_loss   cls_loss   dfl_loss  Instances       Size\n"
          ]
        },
        {
          "name": "stderr",
          "output_type": "stream",
          "text": [
            "    133/300      8.55G     0.8475      1.031      0.467      1.027         31        640: 100%|██████████| 56/56 [00:45<00:00,  1.24it/s]\n",
            "                 Class     Images  Instances      Box(P          R      mAP50  mAP50-95)     Mask(P          R      mAP50  mAP50-95): 100%|██████████| 8/8 [00:05<00:00,  1.48it/s]"
          ]
        },
        {
          "name": "stdout",
          "output_type": "stream",
          "text": [
            "                   all        123        528      0.851      0.822      0.876      0.521      0.873      0.843      0.898      0.569\n"
          ]
        },
        {
          "name": "stderr",
          "output_type": "stream",
          "text": [
            "\n"
          ]
        },
        {
          "name": "stdout",
          "output_type": "stream",
          "text": [
            "\n",
            "      Epoch    GPU_mem   box_loss   seg_loss   cls_loss   dfl_loss  Instances       Size\n"
          ]
        },
        {
          "name": "stderr",
          "output_type": "stream",
          "text": [
            "    134/300      8.56G     0.8177     0.9923     0.4509      1.027         19        640: 100%|██████████| 56/56 [00:45<00:00,  1.24it/s]\n",
            "                 Class     Images  Instances      Box(P          R      mAP50  mAP50-95)     Mask(P          R      mAP50  mAP50-95): 100%|██████████| 8/8 [00:05<00:00,  1.51it/s]"
          ]
        },
        {
          "name": "stdout",
          "output_type": "stream",
          "text": [
            "                   all        123        528      0.855      0.812      0.868      0.512      0.849      0.841      0.881      0.549\n"
          ]
        },
        {
          "name": "stderr",
          "output_type": "stream",
          "text": [
            "\n"
          ]
        },
        {
          "name": "stdout",
          "output_type": "stream",
          "text": [
            "\n",
            "      Epoch    GPU_mem   box_loss   seg_loss   cls_loss   dfl_loss  Instances       Size\n"
          ]
        },
        {
          "name": "stderr",
          "output_type": "stream",
          "text": [
            "    135/300      8.64G     0.8399      1.029     0.4533      1.029         21        640: 100%|██████████| 56/56 [00:45<00:00,  1.24it/s]\n",
            "                 Class     Images  Instances      Box(P          R      mAP50  mAP50-95)     Mask(P          R      mAP50  mAP50-95): 100%|██████████| 8/8 [00:05<00:00,  1.59it/s]"
          ]
        },
        {
          "name": "stdout",
          "output_type": "stream",
          "text": [
            "                   all        123        528      0.816      0.843      0.867      0.503      0.827      0.854      0.884      0.532\n"
          ]
        },
        {
          "name": "stderr",
          "output_type": "stream",
          "text": [
            "\n"
          ]
        },
        {
          "name": "stdout",
          "output_type": "stream",
          "text": [
            "\n",
            "      Epoch    GPU_mem   box_loss   seg_loss   cls_loss   dfl_loss  Instances       Size\n"
          ]
        },
        {
          "name": "stderr",
          "output_type": "stream",
          "text": [
            "    136/300      8.58G     0.8478      1.043     0.4807      1.038         26        640: 100%|██████████| 56/56 [00:44<00:00,  1.25it/s]\n",
            "                 Class     Images  Instances      Box(P          R      mAP50  mAP50-95)     Mask(P          R      mAP50  mAP50-95): 100%|██████████| 8/8 [00:05<00:00,  1.53it/s]"
          ]
        },
        {
          "name": "stdout",
          "output_type": "stream",
          "text": [
            "                   all        123        528      0.874      0.809      0.874      0.516      0.874      0.816      0.886      0.549\n"
          ]
        },
        {
          "name": "stderr",
          "output_type": "stream",
          "text": [
            "\n"
          ]
        },
        {
          "name": "stdout",
          "output_type": "stream",
          "text": [
            "\n",
            "      Epoch    GPU_mem   box_loss   seg_loss   cls_loss   dfl_loss  Instances       Size\n"
          ]
        },
        {
          "name": "stderr",
          "output_type": "stream",
          "text": [
            "    137/300      8.59G     0.8234      1.004     0.4557      1.026         31        640: 100%|██████████| 56/56 [00:45<00:00,  1.24it/s]\n",
            "                 Class     Images  Instances      Box(P          R      mAP50  mAP50-95)     Mask(P          R      mAP50  mAP50-95): 100%|██████████| 8/8 [00:05<00:00,  1.50it/s]"
          ]
        },
        {
          "name": "stdout",
          "output_type": "stream",
          "text": [
            "                   all        123        528       0.86      0.826      0.877      0.527      0.885      0.811      0.892      0.554\n"
          ]
        },
        {
          "name": "stderr",
          "output_type": "stream",
          "text": [
            "\n"
          ]
        },
        {
          "name": "stdout",
          "output_type": "stream",
          "text": [
            "\n",
            "      Epoch    GPU_mem   box_loss   seg_loss   cls_loss   dfl_loss  Instances       Size\n"
          ]
        },
        {
          "name": "stderr",
          "output_type": "stream",
          "text": [
            "    138/300      8.63G     0.8199     0.9893     0.4539      1.015         20        640: 100%|██████████| 56/56 [00:45<00:00,  1.22it/s]\n",
            "                 Class     Images  Instances      Box(P          R      mAP50  mAP50-95)     Mask(P          R      mAP50  mAP50-95): 100%|██████████| 8/8 [00:04<00:00,  1.70it/s]"
          ]
        },
        {
          "name": "stdout",
          "output_type": "stream",
          "text": [
            "                   all        123        528      0.832      0.846      0.868      0.502      0.842      0.855      0.885      0.533\n"
          ]
        },
        {
          "name": "stderr",
          "output_type": "stream",
          "text": [
            "\n"
          ]
        },
        {
          "name": "stdout",
          "output_type": "stream",
          "text": [
            "\n",
            "      Epoch    GPU_mem   box_loss   seg_loss   cls_loss   dfl_loss  Instances       Size\n"
          ]
        },
        {
          "name": "stderr",
          "output_type": "stream",
          "text": [
            "    139/300      8.55G     0.8146      1.012     0.4495      1.009         36        640: 100%|██████████| 56/56 [00:45<00:00,  1.23it/s]\n",
            "                 Class     Images  Instances      Box(P          R      mAP50  mAP50-95)     Mask(P          R      mAP50  mAP50-95): 100%|██████████| 8/8 [00:05<00:00,  1.51it/s]"
          ]
        },
        {
          "name": "stdout",
          "output_type": "stream",
          "text": [
            "                   all        123        528      0.858      0.824      0.882       0.54      0.863      0.836      0.892      0.563\n"
          ]
        },
        {
          "name": "stderr",
          "output_type": "stream",
          "text": [
            "\n"
          ]
        },
        {
          "name": "stdout",
          "output_type": "stream",
          "text": [
            "\n",
            "      Epoch    GPU_mem   box_loss   seg_loss   cls_loss   dfl_loss  Instances       Size\n"
          ]
        },
        {
          "name": "stderr",
          "output_type": "stream",
          "text": [
            "    140/300      8.57G       0.81     0.9833     0.4475      1.022         20        640: 100%|██████████| 56/56 [00:45<00:00,  1.23it/s]\n",
            "                 Class     Images  Instances      Box(P          R      mAP50  mAP50-95)     Mask(P          R      mAP50  mAP50-95): 100%|██████████| 8/8 [00:04<00:00,  1.70it/s]"
          ]
        },
        {
          "name": "stdout",
          "output_type": "stream",
          "text": [
            "                   all        123        528       0.84      0.828      0.874      0.532      0.853      0.834      0.891      0.556\n"
          ]
        },
        {
          "name": "stderr",
          "output_type": "stream",
          "text": [
            "\n"
          ]
        },
        {
          "name": "stdout",
          "output_type": "stream",
          "text": [
            "\n",
            "      Epoch    GPU_mem   box_loss   seg_loss   cls_loss   dfl_loss  Instances       Size\n"
          ]
        },
        {
          "name": "stderr",
          "output_type": "stream",
          "text": [
            "    141/300      8.57G     0.8111      1.009      0.448      1.008         31        640: 100%|██████████| 56/56 [00:45<00:00,  1.24it/s]\n",
            "                 Class     Images  Instances      Box(P          R      mAP50  mAP50-95)     Mask(P          R      mAP50  mAP50-95): 100%|██████████| 8/8 [00:05<00:00,  1.52it/s]"
          ]
        },
        {
          "name": "stdout",
          "output_type": "stream",
          "text": [
            "                   all        123        528       0.85      0.866       0.88      0.534      0.858      0.877       0.89      0.554\n"
          ]
        },
        {
          "name": "stderr",
          "output_type": "stream",
          "text": [
            "\n"
          ]
        },
        {
          "name": "stdout",
          "output_type": "stream",
          "text": [
            "\n",
            "      Epoch    GPU_mem   box_loss   seg_loss   cls_loss   dfl_loss  Instances       Size\n"
          ]
        },
        {
          "name": "stderr",
          "output_type": "stream",
          "text": [
            "    142/300      8.53G     0.8226      1.003      0.446      1.027         23        640: 100%|██████████| 56/56 [00:44<00:00,  1.25it/s]\n",
            "                 Class     Images  Instances      Box(P          R      mAP50  mAP50-95)     Mask(P          R      mAP50  mAP50-95): 100%|██████████| 8/8 [00:05<00:00,  1.49it/s]"
          ]
        },
        {
          "name": "stdout",
          "output_type": "stream",
          "text": [
            "                   all        123        528      0.857      0.829      0.877      0.535      0.867      0.838      0.883      0.556\n"
          ]
        },
        {
          "name": "stderr",
          "output_type": "stream",
          "text": [
            "\n"
          ]
        },
        {
          "name": "stdout",
          "output_type": "stream",
          "text": [
            "\n",
            "      Epoch    GPU_mem   box_loss   seg_loss   cls_loss   dfl_loss  Instances       Size\n"
          ]
        },
        {
          "name": "stderr",
          "output_type": "stream",
          "text": [
            "    143/300      8.58G     0.7952     0.9972     0.4441      1.009         22        640: 100%|██████████| 56/56 [00:45<00:00,  1.24it/s]\n",
            "                 Class     Images  Instances      Box(P          R      mAP50  mAP50-95)     Mask(P          R      mAP50  mAP50-95): 100%|██████████| 8/8 [00:05<00:00,  1.51it/s]"
          ]
        },
        {
          "name": "stdout",
          "output_type": "stream",
          "text": [
            "                   all        123        528      0.846      0.839      0.874      0.527      0.863      0.856      0.903      0.557\n"
          ]
        },
        {
          "name": "stderr",
          "output_type": "stream",
          "text": [
            "\n"
          ]
        },
        {
          "name": "stdout",
          "output_type": "stream",
          "text": [
            "\n",
            "      Epoch    GPU_mem   box_loss   seg_loss   cls_loss   dfl_loss  Instances       Size\n"
          ]
        },
        {
          "name": "stderr",
          "output_type": "stream",
          "text": [
            "    144/300      8.63G     0.7867     0.9866     0.4346     0.9987         30        640: 100%|██████████| 56/56 [00:45<00:00,  1.23it/s]\n",
            "                 Class     Images  Instances      Box(P          R      mAP50  mAP50-95)     Mask(P          R      mAP50  mAP50-95): 100%|██████████| 8/8 [00:05<00:00,  1.51it/s]"
          ]
        },
        {
          "name": "stdout",
          "output_type": "stream",
          "text": [
            "                   all        123        528      0.834      0.817      0.875      0.538       0.86      0.848      0.906      0.566\n"
          ]
        },
        {
          "name": "stderr",
          "output_type": "stream",
          "text": [
            "\n"
          ]
        },
        {
          "name": "stdout",
          "output_type": "stream",
          "text": [
            "\n",
            "      Epoch    GPU_mem   box_loss   seg_loss   cls_loss   dfl_loss  Instances       Size\n"
          ]
        },
        {
          "name": "stderr",
          "output_type": "stream",
          "text": [
            "    145/300      8.58G     0.8063       1.02     0.4515      1.009         24        640: 100%|██████████| 56/56 [00:45<00:00,  1.24it/s]\n",
            "                 Class     Images  Instances      Box(P          R      mAP50  mAP50-95)     Mask(P          R      mAP50  mAP50-95): 100%|██████████| 8/8 [00:05<00:00,  1.60it/s]"
          ]
        },
        {
          "name": "stdout",
          "output_type": "stream",
          "text": [
            "                   all        123        528      0.829       0.82      0.862      0.529      0.841      0.841      0.885      0.552\n"
          ]
        },
        {
          "name": "stderr",
          "output_type": "stream",
          "text": [
            "\n"
          ]
        },
        {
          "name": "stdout",
          "output_type": "stream",
          "text": [
            "\n",
            "      Epoch    GPU_mem   box_loss   seg_loss   cls_loss   dfl_loss  Instances       Size\n"
          ]
        },
        {
          "name": "stderr",
          "output_type": "stream",
          "text": [
            "    146/300      8.61G      0.804      1.002     0.4432      1.009         28        640: 100%|██████████| 56/56 [00:44<00:00,  1.25it/s]\n",
            "                 Class     Images  Instances      Box(P          R      mAP50  mAP50-95)     Mask(P          R      mAP50  mAP50-95): 100%|██████████| 8/8 [00:05<00:00,  1.53it/s]"
          ]
        },
        {
          "name": "stdout",
          "output_type": "stream",
          "text": [
            "                   all        123        528      0.827      0.832       0.86      0.518      0.845      0.843      0.881      0.552\n"
          ]
        },
        {
          "name": "stderr",
          "output_type": "stream",
          "text": [
            "\n"
          ]
        },
        {
          "name": "stdout",
          "output_type": "stream",
          "text": [
            "\n",
            "      Epoch    GPU_mem   box_loss   seg_loss   cls_loss   dfl_loss  Instances       Size\n"
          ]
        },
        {
          "name": "stderr",
          "output_type": "stream",
          "text": [
            "    147/300      8.65G     0.8103     0.9956     0.4604      1.033         12        640: 100%|██████████| 56/56 [00:45<00:00,  1.24it/s]\n",
            "                 Class     Images  Instances      Box(P          R      mAP50  mAP50-95)     Mask(P          R      mAP50  mAP50-95): 100%|██████████| 8/8 [00:05<00:00,  1.48it/s]"
          ]
        },
        {
          "name": "stdout",
          "output_type": "stream",
          "text": [
            "                   all        123        528      0.842      0.799      0.856      0.527      0.863       0.82      0.885      0.543\n"
          ]
        },
        {
          "name": "stderr",
          "output_type": "stream",
          "text": [
            "\n"
          ]
        },
        {
          "name": "stdout",
          "output_type": "stream",
          "text": [
            "\n",
            "      Epoch    GPU_mem   box_loss   seg_loss   cls_loss   dfl_loss  Instances       Size\n"
          ]
        },
        {
          "name": "stderr",
          "output_type": "stream",
          "text": [
            "    148/300      8.61G     0.7711     0.9593     0.4268      1.002         17        640: 100%|██████████| 56/56 [00:45<00:00,  1.24it/s]\n",
            "                 Class     Images  Instances      Box(P          R      mAP50  mAP50-95)     Mask(P          R      mAP50  mAP50-95): 100%|██████████| 8/8 [00:05<00:00,  1.56it/s]"
          ]
        },
        {
          "name": "stdout",
          "output_type": "stream",
          "text": [
            "                   all        123        528      0.827      0.808      0.859       0.53      0.843      0.826      0.883      0.552\n"
          ]
        },
        {
          "name": "stderr",
          "output_type": "stream",
          "text": [
            "\n"
          ]
        },
        {
          "name": "stdout",
          "output_type": "stream",
          "text": [
            "\n",
            "      Epoch    GPU_mem   box_loss   seg_loss   cls_loss   dfl_loss  Instances       Size\n"
          ]
        },
        {
          "name": "stderr",
          "output_type": "stream",
          "text": [
            "    149/300      8.55G     0.7643     0.9708     0.4256      1.002         14        640: 100%|██████████| 56/56 [00:44<00:00,  1.25it/s]\n",
            "                 Class     Images  Instances      Box(P          R      mAP50  mAP50-95)     Mask(P          R      mAP50  mAP50-95): 100%|██████████| 8/8 [00:04<00:00,  1.61it/s]"
          ]
        },
        {
          "name": "stdout",
          "output_type": "stream",
          "text": [
            "                   all        123        528      0.896      0.799       0.87      0.513      0.854      0.848       0.89      0.546\n"
          ]
        },
        {
          "name": "stderr",
          "output_type": "stream",
          "text": [
            "\n"
          ]
        },
        {
          "name": "stdout",
          "output_type": "stream",
          "text": [
            "\n",
            "      Epoch    GPU_mem   box_loss   seg_loss   cls_loss   dfl_loss  Instances       Size\n"
          ]
        },
        {
          "name": "stderr",
          "output_type": "stream",
          "text": [
            "    150/300      8.57G     0.7807     0.9849     0.4234     0.9876         49        640: 100%|██████████| 56/56 [00:45<00:00,  1.24it/s]\n",
            "                 Class     Images  Instances      Box(P          R      mAP50  mAP50-95)     Mask(P          R      mAP50  mAP50-95): 100%|██████████| 8/8 [00:05<00:00,  1.56it/s]"
          ]
        },
        {
          "name": "stdout",
          "output_type": "stream",
          "text": [
            "                   all        123        528      0.881      0.799       0.88      0.539      0.857      0.849      0.899      0.568\n"
          ]
        },
        {
          "name": "stderr",
          "output_type": "stream",
          "text": [
            "\n"
          ]
        },
        {
          "name": "stdout",
          "output_type": "stream",
          "text": [
            "\n",
            "      Epoch    GPU_mem   box_loss   seg_loss   cls_loss   dfl_loss  Instances       Size\n"
          ]
        },
        {
          "name": "stderr",
          "output_type": "stream",
          "text": [
            "    151/300      8.59G     0.7483     0.9488     0.4063      0.977         35        640: 100%|██████████| 56/56 [00:45<00:00,  1.23it/s]\n",
            "                 Class     Images  Instances      Box(P          R      mAP50  mAP50-95)     Mask(P          R      mAP50  mAP50-95): 100%|██████████| 8/8 [00:04<00:00,  1.69it/s]"
          ]
        },
        {
          "name": "stdout",
          "output_type": "stream",
          "text": [
            "                   all        123        528      0.885      0.811      0.879       0.53      0.887      0.821       0.89      0.557\n"
          ]
        },
        {
          "name": "stderr",
          "output_type": "stream",
          "text": [
            "\n"
          ]
        },
        {
          "name": "stdout",
          "output_type": "stream",
          "text": [
            "\n",
            "      Epoch    GPU_mem   box_loss   seg_loss   cls_loss   dfl_loss  Instances       Size\n"
          ]
        },
        {
          "name": "stderr",
          "output_type": "stream",
          "text": [
            "    152/300      8.56G     0.7894     0.9907      0.435      1.005         34        640: 100%|██████████| 56/56 [00:45<00:00,  1.24it/s]\n",
            "                 Class     Images  Instances      Box(P          R      mAP50  mAP50-95)     Mask(P          R      mAP50  mAP50-95): 100%|██████████| 8/8 [00:05<00:00,  1.58it/s]"
          ]
        },
        {
          "name": "stdout",
          "output_type": "stream",
          "text": [
            "                   all        123        528      0.822      0.828      0.871      0.528      0.824       0.83      0.877      0.541\n"
          ]
        },
        {
          "name": "stderr",
          "output_type": "stream",
          "text": [
            "\n"
          ]
        },
        {
          "name": "stdout",
          "output_type": "stream",
          "text": [
            "\n",
            "      Epoch    GPU_mem   box_loss   seg_loss   cls_loss   dfl_loss  Instances       Size\n"
          ]
        },
        {
          "name": "stderr",
          "output_type": "stream",
          "text": [
            "    153/300      8.61G      0.784     0.9817     0.4298      1.008         14        640: 100%|██████████| 56/56 [00:45<00:00,  1.24it/s]\n",
            "                 Class     Images  Instances      Box(P          R      mAP50  mAP50-95)     Mask(P          R      mAP50  mAP50-95): 100%|██████████| 8/8 [00:05<00:00,  1.53it/s]"
          ]
        },
        {
          "name": "stdout",
          "output_type": "stream",
          "text": [
            "                   all        123        528      0.867      0.812      0.886      0.546      0.833      0.848      0.895      0.555\n"
          ]
        },
        {
          "name": "stderr",
          "output_type": "stream",
          "text": [
            "\n"
          ]
        },
        {
          "name": "stdout",
          "output_type": "stream",
          "text": [
            "\n",
            "      Epoch    GPU_mem   box_loss   seg_loss   cls_loss   dfl_loss  Instances       Size\n"
          ]
        },
        {
          "name": "stderr",
          "output_type": "stream",
          "text": [
            "    154/300      8.62G     0.7811     0.9816     0.4322     0.9938         13        640: 100%|██████████| 56/56 [00:45<00:00,  1.22it/s]\n",
            "                 Class     Images  Instances      Box(P          R      mAP50  mAP50-95)     Mask(P          R      mAP50  mAP50-95): 100%|██████████| 8/8 [00:04<00:00,  1.68it/s]"
          ]
        },
        {
          "name": "stdout",
          "output_type": "stream",
          "text": [
            "                   all        123        528      0.834      0.839      0.859      0.516      0.846      0.851      0.879       0.54\n"
          ]
        },
        {
          "name": "stderr",
          "output_type": "stream",
          "text": [
            "\n"
          ]
        },
        {
          "name": "stdout",
          "output_type": "stream",
          "text": [
            "\n",
            "      Epoch    GPU_mem   box_loss   seg_loss   cls_loss   dfl_loss  Instances       Size\n"
          ]
        },
        {
          "name": "stderr",
          "output_type": "stream",
          "text": [
            "    155/300      8.53G     0.7516     0.9614     0.4202     0.9885         38        640: 100%|██████████| 56/56 [00:45<00:00,  1.24it/s]\n",
            "                 Class     Images  Instances      Box(P          R      mAP50  mAP50-95)     Mask(P          R      mAP50  mAP50-95): 100%|██████████| 8/8 [00:05<00:00,  1.53it/s]"
          ]
        },
        {
          "name": "stdout",
          "output_type": "stream",
          "text": [
            "                   all        123        528      0.839      0.828      0.867      0.528      0.851       0.85      0.891      0.545\n"
          ]
        },
        {
          "name": "stderr",
          "output_type": "stream",
          "text": [
            "\n"
          ]
        },
        {
          "name": "stdout",
          "output_type": "stream",
          "text": [
            "\n",
            "      Epoch    GPU_mem   box_loss   seg_loss   cls_loss   dfl_loss  Instances       Size\n"
          ]
        },
        {
          "name": "stderr",
          "output_type": "stream",
          "text": [
            "    156/300      8.55G     0.7529     0.9501     0.4164     0.9824         14        640: 100%|██████████| 56/56 [00:45<00:00,  1.23it/s]\n",
            "                 Class     Images  Instances      Box(P          R      mAP50  mAP50-95)     Mask(P          R      mAP50  mAP50-95): 100%|██████████| 8/8 [00:04<00:00,  1.68it/s]"
          ]
        },
        {
          "name": "stdout",
          "output_type": "stream",
          "text": [
            "                   all        123        528       0.87      0.801      0.867      0.529      0.855      0.835      0.887      0.543\n"
          ]
        },
        {
          "name": "stderr",
          "output_type": "stream",
          "text": [
            "\n"
          ]
        },
        {
          "name": "stdout",
          "output_type": "stream",
          "text": [
            "\n",
            "      Epoch    GPU_mem   box_loss   seg_loss   cls_loss   dfl_loss  Instances       Size\n"
          ]
        },
        {
          "name": "stderr",
          "output_type": "stream",
          "text": [
            "    157/300      8.61G     0.7914     0.9739     0.4232     0.9967         19        640: 100%|██████████| 56/56 [00:45<00:00,  1.23it/s]\n",
            "                 Class     Images  Instances      Box(P          R      mAP50  mAP50-95)     Mask(P          R      mAP50  mAP50-95): 100%|██████████| 8/8 [00:04<00:00,  1.65it/s]"
          ]
        },
        {
          "name": "stdout",
          "output_type": "stream",
          "text": [
            "                   all        123        528      0.868      0.788      0.876      0.528      0.886      0.805      0.896      0.546\n"
          ]
        },
        {
          "name": "stderr",
          "output_type": "stream",
          "text": [
            "\n"
          ]
        },
        {
          "name": "stdout",
          "output_type": "stream",
          "text": [
            "\n",
            "      Epoch    GPU_mem   box_loss   seg_loss   cls_loss   dfl_loss  Instances       Size\n"
          ]
        },
        {
          "name": "stderr",
          "output_type": "stream",
          "text": [
            "    158/300      8.59G     0.7788     0.9797      0.428      1.002         32        640: 100%|██████████| 56/56 [00:45<00:00,  1.22it/s]\n",
            "                 Class     Images  Instances      Box(P          R      mAP50  mAP50-95)     Mask(P          R      mAP50  mAP50-95): 100%|██████████| 8/8 [00:05<00:00,  1.50it/s]"
          ]
        },
        {
          "name": "stdout",
          "output_type": "stream",
          "text": [
            "                   all        123        528      0.849      0.791      0.855      0.507      0.868      0.812      0.876      0.538\n"
          ]
        },
        {
          "name": "stderr",
          "output_type": "stream",
          "text": [
            "\n"
          ]
        },
        {
          "name": "stdout",
          "output_type": "stream",
          "text": [
            "\n",
            "      Epoch    GPU_mem   box_loss   seg_loss   cls_loss   dfl_loss  Instances       Size\n"
          ]
        },
        {
          "name": "stderr",
          "output_type": "stream",
          "text": [
            "    159/300      8.66G     0.7428     0.9211     0.4073     0.9839         38        640: 100%|██████████| 56/56 [00:45<00:00,  1.23it/s]\n",
            "                 Class     Images  Instances      Box(P          R      mAP50  mAP50-95)     Mask(P          R      mAP50  mAP50-95): 100%|██████████| 8/8 [00:04<00:00,  1.70it/s]"
          ]
        },
        {
          "name": "stdout",
          "output_type": "stream",
          "text": [
            "                   all        123        528      0.873      0.806      0.873      0.521      0.851      0.856      0.892      0.548\n"
          ]
        },
        {
          "name": "stderr",
          "output_type": "stream",
          "text": [
            "\n"
          ]
        },
        {
          "name": "stdout",
          "output_type": "stream",
          "text": [
            "\n",
            "      Epoch    GPU_mem   box_loss   seg_loss   cls_loss   dfl_loss  Instances       Size\n"
          ]
        },
        {
          "name": "stderr",
          "output_type": "stream",
          "text": [
            "    160/300       8.6G     0.7538      0.954     0.4143     0.9853         36        640: 100%|██████████| 56/56 [00:45<00:00,  1.23it/s]\n",
            "                 Class     Images  Instances      Box(P          R      mAP50  mAP50-95)     Mask(P          R      mAP50  mAP50-95): 100%|██████████| 8/8 [00:05<00:00,  1.53it/s]"
          ]
        },
        {
          "name": "stdout",
          "output_type": "stream",
          "text": [
            "                   all        123        528      0.859      0.812      0.867       0.52      0.844       0.85      0.881      0.545\n"
          ]
        },
        {
          "name": "stderr",
          "output_type": "stream",
          "text": [
            "\n"
          ]
        },
        {
          "name": "stdout",
          "output_type": "stream",
          "text": [
            "\n",
            "      Epoch    GPU_mem   box_loss   seg_loss   cls_loss   dfl_loss  Instances       Size\n"
          ]
        },
        {
          "name": "stderr",
          "output_type": "stream",
          "text": [
            "    161/300      8.69G     0.7455     0.9367     0.4056     0.9838         29        640: 100%|██████████| 56/56 [00:45<00:00,  1.24it/s]\n",
            "                 Class     Images  Instances      Box(P          R      mAP50  mAP50-95)     Mask(P          R      mAP50  mAP50-95): 100%|██████████| 8/8 [00:05<00:00,  1.52it/s]"
          ]
        },
        {
          "name": "stdout",
          "output_type": "stream",
          "text": [
            "                   all        123        528      0.817       0.82      0.867      0.525      0.841      0.843      0.892      0.545\n"
          ]
        },
        {
          "name": "stderr",
          "output_type": "stream",
          "text": [
            "\n"
          ]
        },
        {
          "name": "stdout",
          "output_type": "stream",
          "text": [
            "\n",
            "      Epoch    GPU_mem   box_loss   seg_loss   cls_loss   dfl_loss  Instances       Size\n"
          ]
        },
        {
          "name": "stderr",
          "output_type": "stream",
          "text": [
            "    162/300      8.56G     0.7414     0.9291     0.4069     0.9809         43        640: 100%|██████████| 56/56 [00:45<00:00,  1.22it/s]\n",
            "                 Class     Images  Instances      Box(P          R      mAP50  mAP50-95)     Mask(P          R      mAP50  mAP50-95): 100%|██████████| 8/8 [00:04<00:00,  1.63it/s]"
          ]
        },
        {
          "name": "stdout",
          "output_type": "stream",
          "text": [
            "                   all        123        528      0.854      0.808      0.871      0.537      0.866      0.819      0.891      0.559\n"
          ]
        },
        {
          "name": "stderr",
          "output_type": "stream",
          "text": [
            "\n"
          ]
        },
        {
          "name": "stdout",
          "output_type": "stream",
          "text": [
            "\n",
            "      Epoch    GPU_mem   box_loss   seg_loss   cls_loss   dfl_loss  Instances       Size\n"
          ]
        },
        {
          "name": "stderr",
          "output_type": "stream",
          "text": [
            "    163/300      8.54G     0.7323      0.918     0.4026     0.9795         23        640: 100%|██████████| 56/56 [00:45<00:00,  1.23it/s]\n",
            "                 Class     Images  Instances      Box(P          R      mAP50  mAP50-95)     Mask(P          R      mAP50  mAP50-95): 100%|██████████| 8/8 [00:05<00:00,  1.46it/s]"
          ]
        },
        {
          "name": "stdout",
          "output_type": "stream",
          "text": [
            "                   all        123        528      0.847      0.837      0.883      0.543      0.851      0.863      0.894      0.569\n"
          ]
        },
        {
          "name": "stderr",
          "output_type": "stream",
          "text": [
            "\n"
          ]
        },
        {
          "name": "stdout",
          "output_type": "stream",
          "text": [
            "\n",
            "      Epoch    GPU_mem   box_loss   seg_loss   cls_loss   dfl_loss  Instances       Size\n"
          ]
        },
        {
          "name": "stderr",
          "output_type": "stream",
          "text": [
            "    164/300      8.55G     0.7349     0.9404     0.4069     0.9667         23        640: 100%|██████████| 56/56 [00:45<00:00,  1.23it/s]\n",
            "                 Class     Images  Instances      Box(P          R      mAP50  mAP50-95)     Mask(P          R      mAP50  mAP50-95): 100%|██████████| 8/8 [00:04<00:00,  1.66it/s]"
          ]
        },
        {
          "name": "stdout",
          "output_type": "stream",
          "text": [
            "                   all        123        528       0.86      0.811      0.872      0.537      0.853      0.826      0.891      0.553\n"
          ]
        },
        {
          "name": "stderr",
          "output_type": "stream",
          "text": [
            "\n"
          ]
        },
        {
          "name": "stdout",
          "output_type": "stream",
          "text": [
            "\n",
            "      Epoch    GPU_mem   box_loss   seg_loss   cls_loss   dfl_loss  Instances       Size\n"
          ]
        },
        {
          "name": "stderr",
          "output_type": "stream",
          "text": [
            "    165/300      8.56G     0.7384     0.9339     0.4052     0.9689         24        640: 100%|██████████| 56/56 [00:45<00:00,  1.24it/s]\n",
            "                 Class     Images  Instances      Box(P          R      mAP50  mAP50-95)     Mask(P          R      mAP50  mAP50-95): 100%|██████████| 8/8 [00:05<00:00,  1.49it/s]"
          ]
        },
        {
          "name": "stdout",
          "output_type": "stream",
          "text": [
            "                   all        123        528       0.87      0.784      0.866      0.532      0.872      0.801      0.895      0.558\n"
          ]
        },
        {
          "name": "stderr",
          "output_type": "stream",
          "text": [
            "\n"
          ]
        },
        {
          "name": "stdout",
          "output_type": "stream",
          "text": [
            "\n",
            "      Epoch    GPU_mem   box_loss   seg_loss   cls_loss   dfl_loss  Instances       Size\n"
          ]
        },
        {
          "name": "stderr",
          "output_type": "stream",
          "text": [
            "    166/300      8.54G     0.7286     0.9501     0.4081     0.9724         27        640: 100%|██████████| 56/56 [00:45<00:00,  1.23it/s]\n",
            "                 Class     Images  Instances      Box(P          R      mAP50  mAP50-95)     Mask(P          R      mAP50  mAP50-95): 100%|██████████| 8/8 [00:05<00:00,  1.55it/s]"
          ]
        },
        {
          "name": "stdout",
          "output_type": "stream",
          "text": [
            "                   all        123        528      0.871      0.799      0.867       0.53      0.876      0.816      0.888      0.556\n"
          ]
        },
        {
          "name": "stderr",
          "output_type": "stream",
          "text": [
            "\n"
          ]
        },
        {
          "name": "stdout",
          "output_type": "stream",
          "text": [
            "\n",
            "      Epoch    GPU_mem   box_loss   seg_loss   cls_loss   dfl_loss  Instances       Size\n"
          ]
        },
        {
          "name": "stderr",
          "output_type": "stream",
          "text": [
            "    167/300      8.64G      0.719     0.9374     0.4022     0.9781         21        640: 100%|██████████| 56/56 [00:45<00:00,  1.24it/s]\n",
            "                 Class     Images  Instances      Box(P          R      mAP50  mAP50-95)     Mask(P          R      mAP50  mAP50-95): 100%|██████████| 8/8 [00:05<00:00,  1.48it/s]"
          ]
        },
        {
          "name": "stdout",
          "output_type": "stream",
          "text": [
            "                   all        123        528      0.855      0.818      0.866      0.525      0.871      0.829      0.886      0.542\n",
            "\u001b[34m\u001b[1mEarlyStopping: \u001b[0mTraining stopped early as no improvement observed in last 50 epochs. Best results observed at epoch 117, best model saved as best.pt.\n",
            "To update EarlyStopping(patience=50) pass a new patience value, i.e. `patience=300` or use `patience=0` to disable EarlyStopping.\n"
          ]
        },
        {
          "name": "stderr",
          "output_type": "stream",
          "text": [
            "\n"
          ]
        },
        {
          "name": "stdout",
          "output_type": "stream",
          "text": [
            "\n",
            "167 epochs completed in 3.004 hours.\n",
            "Optimizer stripped from runs/segment/train/weights/last.pt, 144.0MB\n",
            "Optimizer stripped from runs/segment/train/weights/best.pt, 144.0MB\n",
            "\n",
            "Validating runs/segment/train/weights/best.pt...\n",
            "Ultralytics YOLOv8.2.43 🚀 Python-3.10.12 torch-2.3.0+cu121 CUDA:0 (Tesla T4, 15102MiB)\n",
            "YOLOv8x-seg summary (fused): 295 layers, 71721619 parameters, 0 gradients, 343.7 GFLOPs\n"
          ]
        },
        {
          "name": "stderr",
          "output_type": "stream",
          "text": [
            "                 Class     Images  Instances      Box(P          R      mAP50  mAP50-95)     Mask(P          R      mAP50  mAP50-95): 100%|██████████| 8/8 [00:12<00:00,  1.54s/it]\n"
          ]
        },
        {
          "name": "stdout",
          "output_type": "stream",
          "text": [
            "                   all        123        528      0.878      0.791      0.882      0.537      0.871      0.818      0.902      0.575\n",
            "Speed: 1.1ms preprocess, 32.8ms inference, 0.0ms loss, 9.4ms postprocess per image\n",
            "Results saved to \u001b[1mruns/segment/train\u001b[0m\n"
          ]
        },
        {
          "data": {
            "application/vnd.jupyter.widget-view+json": {
              "model_id": "1c6bd8120e734e56b5487cd053f83278",
              "version_major": 2,
              "version_minor": 0
            },
            "text/plain": [
              "VBox(children=(Label(value='10837.935 MB of 10837.935 MB uploaded\\r'), FloatProgress(value=1.0, max=1.0)))"
            ]
          },
          "metadata": {},
          "output_type": "display_data"
        },
        {
          "data": {
            "text/html": [
              "<style>\n",
              "    table.wandb td:nth-child(1) { padding: 0 10px; text-align: left ; width: auto;} td:nth-child(2) {text-align: left ; width: 100%}\n",
              "    .wandb-row { display: flex; flex-direction: row; flex-wrap: wrap; justify-content: flex-start; width: 100% }\n",
              "    .wandb-col { display: flex; flex-direction: column; flex-basis: 100%; flex: 1; padding: 10px; }\n",
              "    </style>\n",
              "<div class=\"wandb-row\"><div class=\"wandb-col\"><h3>Run history:</h3><br/><table class=\"wandb\"><tr><td>lr/pg0</td><td>▄███▇▇▇▇▇▇▆▆▆▆▆▅▅▅▅▅▄▄▄▄▄▄▃▃▃▃▃▂▂▂▂▂▂▁▁▁</td></tr><tr><td>lr/pg1</td><td>▄███▇▇▇▇▇▇▆▆▆▆▆▅▅▅▅▅▄▄▄▄▄▄▃▃▃▃▃▂▂▂▂▂▂▁▁▁</td></tr><tr><td>lr/pg2</td><td>▄███▇▇▇▇▇▇▆▆▆▆▆▅▅▅▅▅▄▄▄▄▄▄▃▃▃▃▃▂▂▂▂▂▂▁▁▁</td></tr><tr><td>metrics/mAP50(B)</td><td>▁▇▆▇████████████████████████████████████</td></tr><tr><td>metrics/mAP50(M)</td><td>▁▇▆█████████████████████████████████████</td></tr><tr><td>metrics/mAP50-95(B)</td><td>▁▅▅▇▇▇▇▇▇▇████▇▇██▇█████████████████████</td></tr><tr><td>metrics/mAP50-95(M)</td><td>▁▅▆▇▇▇▇▇██████▇▇████████████████████████</td></tr><tr><td>metrics/precision(B)</td><td>▁▇▇▇▇███▇██████▇████████████████████████</td></tr><tr><td>metrics/precision(M)</td><td>▁▇▇▇▇▇█▇▇██████▇████▇██▇█████▇███▇█▇▇█▇█</td></tr><tr><td>metrics/recall(B)</td><td>▁▅▄▇▇▇▇▇█▇█▇██▇▇▇█▇▇▇▇▇▇▇▇██▇██▇▇██▇█▇▇▇</td></tr><tr><td>metrics/recall(M)</td><td>▁▄▄▇▇█▆▇█▇█▇██▇▇▇█▇█▇▇▇██▇██▇███▇██████▇</td></tr><tr><td>model/GFLOPs</td><td>▁</td></tr><tr><td>model/parameters</td><td>▁</td></tr><tr><td>model/speed_PyTorch(ms)</td><td>▁</td></tr><tr><td>train/box_loss</td><td>█▇▇▆▆▆▆▅▅▅▅▄▄▄▄▄▄▄▄▃▃▃▃▃▂▃▂▂▂▂▂▂▂▂▁▁▁▁▁▁</td></tr><tr><td>train/cls_loss</td><td>█▇▅▅▅▄▄▄▄▃▃▃▃▃▂▃▂▂▂▂▂▂▂▂▂▂▁▁▂▁▁▁▁▁▁▁▁▁▁▁</td></tr><tr><td>train/dfl_loss</td><td>██▇▇▆▆▆▅▅▅▄▄▄▄▄▄▃▃▃▃▃▃▃▂▂▂▂▂▂▂▂▂▂▂▁▁▁▁▁▁</td></tr><tr><td>train/seg_loss</td><td>█▆▅▅▅▄▄▄▄▄▃▃▃▃▃▃▃▃▃▂▂▂▂▂▂▂▂▂▂▂▂▁▂▁▁▁▁▁▁▁</td></tr><tr><td>val/box_loss</td><td>█▄▄▂▂▂▂▂▁▂▁▁▁▁▂▂▂▁▂▁▂▁▁▁▁▂▁▁▁▂▁▂▁▁▁▁▁▁▁▁</td></tr><tr><td>val/cls_loss</td><td> ▆█▄▃▂▃▂▃▂▂▂▁▁▂▂▂▁▂▂▂▁▁▂▁▂▁▁▁▁▁▁▁▁▁▁▁▁▁▁</td></tr><tr><td>val/dfl_loss</td><td>█▂▂▁▁▁▁▁▁▁▁▁▁▁▁▁▁▁▁▁▁▁▁▁▁▁▁▁▁▁▁▁▁▁▁▁▁▁▁▂</td></tr><tr><td>val/seg_loss</td><td>█▁▁▁▁▁▁▁▁▁▁▁▁▁▁▁▁▁▁▁▁▁▁▁▁▁▁▁▁▁▁▁▁▁▁▁▁▁▁▁</td></tr></table><br/></div><div class=\"wandb-col\"><h3>Run summary:</h3><br/><table class=\"wandb\"><tr><td>model/GFLOPs</td><td>344.503</td></tr><tr><td>model/parameters</td><td>71751811</td></tr><tr><td>model/speed_PyTorch(ms)</td><td>32.648</td></tr></table><br/></div></div>"
            ],
            "text/plain": [
              "<IPython.core.display.HTML object>"
            ]
          },
          "metadata": {},
          "output_type": "display_data"
        },
        {
          "data": {
            "text/html": [
              " View run <strong style=\"color:#cdcd00\">yolov8-only_31.12_-segment_with_76_x</strong> at: <a href='https://wandb.ai/prawns/measurement%20paper/runs/kzau1vak' target=\"_blank\">https://wandb.ai/prawns/measurement%20paper/runs/kzau1vak</a><br/> View project at: <a href='https://wandb.ai/prawns/measurement%20paper' target=\"_blank\">https://wandb.ai/prawns/measurement%20paper</a><br/>Synced 5 W&B file(s), 29 media file(s), 35 artifact file(s) and 1 other file(s)"
            ],
            "text/plain": [
              "<IPython.core.display.HTML object>"
            ]
          },
          "metadata": {},
          "output_type": "display_data"
        },
        {
          "data": {
            "text/html": [
              "Find logs at: <code>./wandb/run-20240626_141438-kzau1vak/logs</code>"
            ],
            "text/plain": [
              "<IPython.core.display.HTML object>"
            ]
          },
          "metadata": {},
          "output_type": "display_data"
        },
        {
          "data": {
            "text/html": [
              "The new W&B backend becomes opt-out in version 0.18.0; try it out with `wandb.require(\"core\")`! See https://wandb.me/wandb-core for more information."
            ],
            "text/plain": [
              "<IPython.core.display.HTML object>"
            ]
          },
          "metadata": {},
          "output_type": "display_data"
        },
        {
          "data": {
            "text/plain": [
              "ultralytics.utils.metrics.SegmentMetrics object with attributes:\n",
              "\n",
              "ap_class_index: array([0])\n",
              "box: ultralytics.utils.metrics.Metric object\n",
              "confusion_matrix: <ultralytics.utils.metrics.ConfusionMatrix object at 0x7b9a7322f730>\n",
              "curves: ['Precision-Recall(B)', 'F1-Confidence(B)', 'Precision-Confidence(B)', 'Recall-Confidence(B)', 'Precision-Recall(M)', 'F1-Confidence(M)', 'Precision-Confidence(M)', 'Recall-Confidence(M)']\n",
              "curves_results: [[array([          0,    0.001001,    0.002002,    0.003003,    0.004004,    0.005005,    0.006006,    0.007007,    0.008008,    0.009009,     0.01001,    0.011011,    0.012012,    0.013013,    0.014014,    0.015015,    0.016016,    0.017017,    0.018018,    0.019019,     0.02002,    0.021021,    0.022022,    0.023023,\n",
              "          0.024024,    0.025025,    0.026026,    0.027027,    0.028028,    0.029029,     0.03003,    0.031031,    0.032032,    0.033033,    0.034034,    0.035035,    0.036036,    0.037037,    0.038038,    0.039039,     0.04004,    0.041041,    0.042042,    0.043043,    0.044044,    0.045045,    0.046046,    0.047047,\n",
              "          0.048048,    0.049049,     0.05005,    0.051051,    0.052052,    0.053053,    0.054054,    0.055055,    0.056056,    0.057057,    0.058058,    0.059059,     0.06006,    0.061061,    0.062062,    0.063063,    0.064064,    0.065065,    0.066066,    0.067067,    0.068068,    0.069069,     0.07007,    0.071071,\n",
              "          0.072072,    0.073073,    0.074074,    0.075075,    0.076076,    0.077077,    0.078078,    0.079079,     0.08008,    0.081081,    0.082082,    0.083083,    0.084084,    0.085085,    0.086086,    0.087087,    0.088088,    0.089089,     0.09009,    0.091091,    0.092092,    0.093093,    0.094094,    0.095095,\n",
              "          0.096096,    0.097097,    0.098098,    0.099099,      0.1001,      0.1011,      0.1021,      0.1031,      0.1041,     0.10511,     0.10611,     0.10711,     0.10811,     0.10911,     0.11011,     0.11111,     0.11211,     0.11311,     0.11411,     0.11512,     0.11612,     0.11712,     0.11812,     0.11912,\n",
              "           0.12012,     0.12112,     0.12212,     0.12312,     0.12412,     0.12513,     0.12613,     0.12713,     0.12813,     0.12913,     0.13013,     0.13113,     0.13213,     0.13313,     0.13413,     0.13514,     0.13614,     0.13714,     0.13814,     0.13914,     0.14014,     0.14114,     0.14214,     0.14314,\n",
              "           0.14414,     0.14515,     0.14615,     0.14715,     0.14815,     0.14915,     0.15015,     0.15115,     0.15215,     0.15315,     0.15415,     0.15516,     0.15616,     0.15716,     0.15816,     0.15916,     0.16016,     0.16116,     0.16216,     0.16316,     0.16416,     0.16517,     0.16617,     0.16717,\n",
              "           0.16817,     0.16917,     0.17017,     0.17117,     0.17217,     0.17317,     0.17417,     0.17518,     0.17618,     0.17718,     0.17818,     0.17918,     0.18018,     0.18118,     0.18218,     0.18318,     0.18418,     0.18519,     0.18619,     0.18719,     0.18819,     0.18919,     0.19019,     0.19119,\n",
              "           0.19219,     0.19319,     0.19419,      0.1952,      0.1962,      0.1972,      0.1982,      0.1992,      0.2002,      0.2012,      0.2022,      0.2032,      0.2042,     0.20521,     0.20621,     0.20721,     0.20821,     0.20921,     0.21021,     0.21121,     0.21221,     0.21321,     0.21421,     0.21522,\n",
              "           0.21622,     0.21722,     0.21822,     0.21922,     0.22022,     0.22122,     0.22222,     0.22322,     0.22422,     0.22523,     0.22623,     0.22723,     0.22823,     0.22923,     0.23023,     0.23123,     0.23223,     0.23323,     0.23423,     0.23524,     0.23624,     0.23724,     0.23824,     0.23924,\n",
              "           0.24024,     0.24124,     0.24224,     0.24324,     0.24424,     0.24525,     0.24625,     0.24725,     0.24825,     0.24925,     0.25025,     0.25125,     0.25225,     0.25325,     0.25425,     0.25526,     0.25626,     0.25726,     0.25826,     0.25926,     0.26026,     0.26126,     0.26226,     0.26326,\n",
              "           0.26426,     0.26527,     0.26627,     0.26727,     0.26827,     0.26927,     0.27027,     0.27127,     0.27227,     0.27327,     0.27427,     0.27528,     0.27628,     0.27728,     0.27828,     0.27928,     0.28028,     0.28128,     0.28228,     0.28328,     0.28428,     0.28529,     0.28629,     0.28729,\n",
              "           0.28829,     0.28929,     0.29029,     0.29129,     0.29229,     0.29329,     0.29429,      0.2953,      0.2963,      0.2973,      0.2983,      0.2993,      0.3003,      0.3013,      0.3023,      0.3033,      0.3043,     0.30531,     0.30631,     0.30731,     0.30831,     0.30931,     0.31031,     0.31131,\n",
              "           0.31231,     0.31331,     0.31431,     0.31532,     0.31632,     0.31732,     0.31832,     0.31932,     0.32032,     0.32132,     0.32232,     0.32332,     0.32432,     0.32533,     0.32633,     0.32733,     0.32833,     0.32933,     0.33033,     0.33133,     0.33233,     0.33333,     0.33433,     0.33534,\n",
              "           0.33634,     0.33734,     0.33834,     0.33934,     0.34034,     0.34134,     0.34234,     0.34334,     0.34434,     0.34535,     0.34635,     0.34735,     0.34835,     0.34935,     0.35035,     0.35135,     0.35235,     0.35335,     0.35435,     0.35536,     0.35636,     0.35736,     0.35836,     0.35936,\n",
              "           0.36036,     0.36136,     0.36236,     0.36336,     0.36436,     0.36537,     0.36637,     0.36737,     0.36837,     0.36937,     0.37037,     0.37137,     0.37237,     0.37337,     0.37437,     0.37538,     0.37638,     0.37738,     0.37838,     0.37938,     0.38038,     0.38138,     0.38238,     0.38338,\n",
              "           0.38438,     0.38539,     0.38639,     0.38739,     0.38839,     0.38939,     0.39039,     0.39139,     0.39239,     0.39339,     0.39439,      0.3954,      0.3964,      0.3974,      0.3984,      0.3994,      0.4004,      0.4014,      0.4024,      0.4034,      0.4044,     0.40541,     0.40641,     0.40741,\n",
              "           0.40841,     0.40941,     0.41041,     0.41141,     0.41241,     0.41341,     0.41441,     0.41542,     0.41642,     0.41742,     0.41842,     0.41942,     0.42042,     0.42142,     0.42242,     0.42342,     0.42442,     0.42543,     0.42643,     0.42743,     0.42843,     0.42943,     0.43043,     0.43143,\n",
              "           0.43243,     0.43343,     0.43443,     0.43544,     0.43644,     0.43744,     0.43844,     0.43944,     0.44044,     0.44144,     0.44244,     0.44344,     0.44444,     0.44545,     0.44645,     0.44745,     0.44845,     0.44945,     0.45045,     0.45145,     0.45245,     0.45345,     0.45445,     0.45546,\n",
              "           0.45646,     0.45746,     0.45846,     0.45946,     0.46046,     0.46146,     0.46246,     0.46346,     0.46446,     0.46547,     0.46647,     0.46747,     0.46847,     0.46947,     0.47047,     0.47147,     0.47247,     0.47347,     0.47447,     0.47548,     0.47648,     0.47748,     0.47848,     0.47948,\n",
              "           0.48048,     0.48148,     0.48248,     0.48348,     0.48448,     0.48549,     0.48649,     0.48749,     0.48849,     0.48949,     0.49049,     0.49149,     0.49249,     0.49349,     0.49449,      0.4955,      0.4965,      0.4975,      0.4985,      0.4995,      0.5005,      0.5015,      0.5025,      0.5035,\n",
              "            0.5045,     0.50551,     0.50651,     0.50751,     0.50851,     0.50951,     0.51051,     0.51151,     0.51251,     0.51351,     0.51451,     0.51552,     0.51652,     0.51752,     0.51852,     0.51952,     0.52052,     0.52152,     0.52252,     0.52352,     0.52452,     0.52553,     0.52653,     0.52753,\n",
              "           0.52853,     0.52953,     0.53053,     0.53153,     0.53253,     0.53353,     0.53453,     0.53554,     0.53654,     0.53754,     0.53854,     0.53954,     0.54054,     0.54154,     0.54254,     0.54354,     0.54454,     0.54555,     0.54655,     0.54755,     0.54855,     0.54955,     0.55055,     0.55155,\n",
              "           0.55255,     0.55355,     0.55455,     0.55556,     0.55656,     0.55756,     0.55856,     0.55956,     0.56056,     0.56156,     0.56256,     0.56356,     0.56456,     0.56557,     0.56657,     0.56757,     0.56857,     0.56957,     0.57057,     0.57157,     0.57257,     0.57357,     0.57457,     0.57558,\n",
              "           0.57658,     0.57758,     0.57858,     0.57958,     0.58058,     0.58158,     0.58258,     0.58358,     0.58458,     0.58559,     0.58659,     0.58759,     0.58859,     0.58959,     0.59059,     0.59159,     0.59259,     0.59359,     0.59459,      0.5956,      0.5966,      0.5976,      0.5986,      0.5996,\n",
              "            0.6006,      0.6016,      0.6026,      0.6036,      0.6046,     0.60561,     0.60661,     0.60761,     0.60861,     0.60961,     0.61061,     0.61161,     0.61261,     0.61361,     0.61461,     0.61562,     0.61662,     0.61762,     0.61862,     0.61962,     0.62062,     0.62162,     0.62262,     0.62362,\n",
              "           0.62462,     0.62563,     0.62663,     0.62763,     0.62863,     0.62963,     0.63063,     0.63163,     0.63263,     0.63363,     0.63463,     0.63564,     0.63664,     0.63764,     0.63864,     0.63964,     0.64064,     0.64164,     0.64264,     0.64364,     0.64464,     0.64565,     0.64665,     0.64765,\n",
              "           0.64865,     0.64965,     0.65065,     0.65165,     0.65265,     0.65365,     0.65465,     0.65566,     0.65666,     0.65766,     0.65866,     0.65966,     0.66066,     0.66166,     0.66266,     0.66366,     0.66466,     0.66567,     0.66667,     0.66767,     0.66867,     0.66967,     0.67067,     0.67167,\n",
              "           0.67267,     0.67367,     0.67467,     0.67568,     0.67668,     0.67768,     0.67868,     0.67968,     0.68068,     0.68168,     0.68268,     0.68368,     0.68468,     0.68569,     0.68669,     0.68769,     0.68869,     0.68969,     0.69069,     0.69169,     0.69269,     0.69369,     0.69469,      0.6957,\n",
              "            0.6967,      0.6977,      0.6987,      0.6997,      0.7007,      0.7017,      0.7027,      0.7037,      0.7047,     0.70571,     0.70671,     0.70771,     0.70871,     0.70971,     0.71071,     0.71171,     0.71271,     0.71371,     0.71471,     0.71572,     0.71672,     0.71772,     0.71872,     0.71972,\n",
              "           0.72072,     0.72172,     0.72272,     0.72372,     0.72472,     0.72573,     0.72673,     0.72773,     0.72873,     0.72973,     0.73073,     0.73173,     0.73273,     0.73373,     0.73473,     0.73574,     0.73674,     0.73774,     0.73874,     0.73974,     0.74074,     0.74174,     0.74274,     0.74374,\n",
              "           0.74474,     0.74575,     0.74675,     0.74775,     0.74875,     0.74975,     0.75075,     0.75175,     0.75275,     0.75375,     0.75475,     0.75576,     0.75676,     0.75776,     0.75876,     0.75976,     0.76076,     0.76176,     0.76276,     0.76376,     0.76476,     0.76577,     0.76677,     0.76777,\n",
              "           0.76877,     0.76977,     0.77077,     0.77177,     0.77277,     0.77377,     0.77477,     0.77578,     0.77678,     0.77778,     0.77878,     0.77978,     0.78078,     0.78178,     0.78278,     0.78378,     0.78478,     0.78579,     0.78679,     0.78779,     0.78879,     0.78979,     0.79079,     0.79179,\n",
              "           0.79279,     0.79379,     0.79479,      0.7958,      0.7968,      0.7978,      0.7988,      0.7998,      0.8008,      0.8018,      0.8028,      0.8038,      0.8048,     0.80581,     0.80681,     0.80781,     0.80881,     0.80981,     0.81081,     0.81181,     0.81281,     0.81381,     0.81481,     0.81582,\n",
              "           0.81682,     0.81782,     0.81882,     0.81982,     0.82082,     0.82182,     0.82282,     0.82382,     0.82482,     0.82583,     0.82683,     0.82783,     0.82883,     0.82983,     0.83083,     0.83183,     0.83283,     0.83383,     0.83483,     0.83584,     0.83684,     0.83784,     0.83884,     0.83984,\n",
              "           0.84084,     0.84184,     0.84284,     0.84384,     0.84484,     0.84585,     0.84685,     0.84785,     0.84885,     0.84985,     0.85085,     0.85185,     0.85285,     0.85385,     0.85485,     0.85586,     0.85686,     0.85786,     0.85886,     0.85986,     0.86086,     0.86186,     0.86286,     0.86386,\n",
              "           0.86486,     0.86587,     0.86687,     0.86787,     0.86887,     0.86987,     0.87087,     0.87187,     0.87287,     0.87387,     0.87487,     0.87588,     0.87688,     0.87788,     0.87888,     0.87988,     0.88088,     0.88188,     0.88288,     0.88388,     0.88488,     0.88589,     0.88689,     0.88789,\n",
              "           0.88889,     0.88989,     0.89089,     0.89189,     0.89289,     0.89389,     0.89489,      0.8959,      0.8969,      0.8979,      0.8989,      0.8999,      0.9009,      0.9019,      0.9029,      0.9039,      0.9049,     0.90591,     0.90691,     0.90791,     0.90891,     0.90991,     0.91091,     0.91191,\n",
              "           0.91291,     0.91391,     0.91491,     0.91592,     0.91692,     0.91792,     0.91892,     0.91992,     0.92092,     0.92192,     0.92292,     0.92392,     0.92492,     0.92593,     0.92693,     0.92793,     0.92893,     0.92993,     0.93093,     0.93193,     0.93293,     0.93393,     0.93493,     0.93594,\n",
              "           0.93694,     0.93794,     0.93894,     0.93994,     0.94094,     0.94194,     0.94294,     0.94394,     0.94494,     0.94595,     0.94695,     0.94795,     0.94895,     0.94995,     0.95095,     0.95195,     0.95295,     0.95395,     0.95495,     0.95596,     0.95696,     0.95796,     0.95896,     0.95996,\n",
              "           0.96096,     0.96196,     0.96296,     0.96396,     0.96496,     0.96597,     0.96697,     0.96797,     0.96897,     0.96997,     0.97097,     0.97197,     0.97297,     0.97397,     0.97497,     0.97598,     0.97698,     0.97798,     0.97898,     0.97998,     0.98098,     0.98198,     0.98298,     0.98398,\n",
              "           0.98498,     0.98599,     0.98699,     0.98799,     0.98899,     0.98999,     0.99099,     0.99199,     0.99299,     0.99399,     0.99499,       0.996,       0.997,       0.998,       0.999,           1]), array([[          1,           1,           1,           1,           1,           1,           1,           1,           1,           1,           1,           1,           1,           1,           1,           1,           1,           1,           1,           1,           1,           1,           1,\n",
              "                  1,           1,           1,           1,           1,           1,           1,           1,           1,           1,           1,           1,           1,           1,           1,           1,           1,           1,           1,           1,           1,     0.99024,     0.99024,\n",
              "            0.99024,     0.99024,     0.99024,     0.99024,     0.99024,     0.99024,     0.99024,     0.99024,     0.99024,     0.99024,     0.99024,     0.99024,     0.99024,     0.99024,     0.99024,     0.99024,     0.99024,     0.99024,     0.99024,     0.99024,     0.99024,     0.99024,     0.99024,\n",
              "            0.99024,     0.99024,     0.99024,     0.99024,     0.99024,     0.99024,     0.99024,     0.99024,     0.99024,     0.99024,     0.99024,     0.99024,     0.99024,     0.99024,     0.99024,     0.99024,     0.99024,     0.99024,     0.99024,     0.99024,     0.99024,     0.99024,     0.99024,\n",
              "            0.99024,     0.99024,     0.99024,     0.99024,     0.99024,     0.99024,     0.99024,     0.99024,     0.99024,     0.99024,     0.99024,     0.99024,     0.99024,     0.99024,     0.99024,     0.99024,     0.99024,     0.99024,     0.99024,     0.99024,     0.99024,     0.99024,     0.99024,\n",
              "            0.99024,     0.99024,     0.99024,     0.99024,     0.99024,     0.99024,     0.99024,     0.99024,     0.99024,     0.99024,     0.99024,     0.99024,     0.99024,     0.99024,     0.99024,     0.99024,     0.99024,     0.99024,     0.99024,     0.99024,     0.99024,     0.99024,     0.99024,\n",
              "            0.99024,     0.99024,     0.99024,     0.99024,     0.99024,     0.99024,     0.99024,     0.99024,     0.99024,     0.99024,     0.99024,     0.99024,     0.99024,     0.99024,     0.99024,     0.99024,     0.99024,     0.99024,     0.99024,     0.99024,     0.99024,     0.99024,     0.99024,\n",
              "            0.99024,     0.99024,     0.99024,     0.99024,     0.99024,     0.99024,     0.99024,     0.99024,     0.99024,     0.99024,     0.99024,     0.99024,     0.99024,     0.99024,     0.99024,     0.99024,     0.99024,     0.99024,     0.99024,     0.99024,     0.99024,     0.99024,     0.99024,\n",
              "            0.99024,     0.99024,     0.99024,     0.99024,     0.99024,     0.99024,     0.99024,     0.99024,     0.99024,     0.99024,     0.99024,     0.99024,     0.99024,     0.99024,     0.99024,     0.99024,     0.99024,     0.99024,     0.99024,     0.99024,     0.99024,     0.99024,     0.99024,\n",
              "            0.99024,     0.99024,     0.99024,     0.99024,     0.99024,     0.99024,     0.99024,     0.99024,     0.99024,     0.99024,     0.99024,     0.99024,     0.99024,     0.99024,     0.99024,     0.99024,     0.99024,     0.99024,     0.99024,     0.99024,     0.99024,     0.99024,     0.99024,\n",
              "            0.99024,     0.99024,     0.99024,     0.99024,     0.99024,     0.99024,     0.99024,     0.99024,     0.99024,     0.99024,     0.99024,     0.99024,     0.99024,     0.99024,     0.99024,     0.99024,     0.99024,     0.99024,     0.99024,     0.99024,     0.99024,     0.99024,     0.99024,\n",
              "            0.99024,     0.99024,     0.99024,     0.99024,     0.99024,     0.99024,     0.99024,     0.99024,     0.99024,     0.99024,     0.99024,     0.99024,     0.99024,     0.99024,     0.99024,     0.99024,     0.99024,     0.99024,     0.99024,     0.99024,     0.99024,     0.99024,     0.99024,\n",
              "            0.99024,     0.99024,     0.99024,     0.99024,     0.99024,     0.99024,     0.99024,     0.99024,     0.99024,     0.99024,     0.99024,     0.99024,     0.99024,     0.99024,     0.99024,     0.99024,     0.99024,     0.99024,     0.99024,     0.99024,     0.99024,     0.99024,     0.99024,\n",
              "            0.99024,     0.99024,     0.99024,     0.99024,     0.99024,     0.99024,     0.99024,     0.99024,     0.99024,     0.99024,     0.99024,     0.99024,     0.99024,     0.99024,     0.99024,     0.99024,     0.99024,     0.99024,     0.99024,     0.99024,     0.99024,     0.99024,     0.99024,\n",
              "            0.99024,     0.99024,     0.99024,     0.99024,     0.99024,     0.99024,     0.99024,     0.99024,     0.99024,     0.99024,     0.99024,     0.99024,     0.99024,     0.99024,     0.99024,     0.99024,     0.99024,     0.99024,     0.99024,     0.99024,     0.99024,     0.99024,     0.99024,\n",
              "            0.99024,     0.99024,     0.99024,     0.99024,     0.99024,     0.99024,     0.99024,     0.99024,     0.99024,     0.99024,     0.99024,     0.99024,     0.99024,     0.99024,     0.99024,     0.99024,     0.99024,     0.99024,     0.99024,     0.99024,     0.99024,     0.99024,     0.99024,\n",
              "            0.99024,     0.99024,     0.99024,     0.99024,     0.99024,     0.99024,     0.99024,     0.99024,     0.99024,     0.99024,     0.99024,     0.99024,     0.99024,     0.99024,     0.99024,     0.99024,     0.99024,     0.98661,     0.98661,     0.98661,     0.98661,     0.98661,     0.98661,\n",
              "            0.98661,     0.98661,     0.98661,     0.98661,     0.98661,     0.98661,     0.98661,     0.98661,     0.98661,     0.98661,     0.98661,     0.98661,     0.98661,     0.98661,     0.98661,     0.98661,     0.98661,     0.98661,     0.98661,     0.98661,     0.98661,     0.98661,     0.98661,\n",
              "            0.98661,     0.98661,     0.98661,     0.98661,     0.98661,     0.98276,     0.98276,     0.98276,     0.98276,     0.98276,     0.98276,     0.98276,     0.98276,     0.98276,     0.98276,     0.98276,     0.98276,     0.98276,     0.97872,     0.97872,     0.97872,     0.97872,     0.97059,\n",
              "            0.97059,     0.96911,     0.96911,     0.96911,     0.96911,     0.96911,     0.96911,     0.96911,     0.96911,     0.96911,     0.96911,     0.96911,     0.96911,     0.96911,     0.96911,     0.96911,     0.96911,     0.96911,     0.96911,     0.96911,     0.96911,     0.96911,     0.96911,\n",
              "            0.96911,     0.96911,     0.96911,     0.96911,     0.96911,     0.96911,     0.96911,     0.96911,     0.96911,     0.96911,     0.96911,     0.96911,     0.96911,     0.96911,     0.96911,     0.96552,     0.96552,     0.96377,     0.96377,     0.96377,     0.96377,     0.96377,     0.96377,\n",
              "            0.96377,     0.96377,     0.96377,     0.96377,     0.96377,     0.96377,     0.96377,     0.96377,     0.96377,     0.96377,     0.96377,     0.96377,     0.96377,     0.96377,     0.96377,     0.96377,     0.96377,     0.96377,     0.96377,     0.96377,     0.96377,     0.96296,     0.96296,\n",
              "            0.96296,     0.96296,     0.96296,     0.96296,     0.96296,     0.96296,     0.96296,     0.96296,     0.96296,     0.96296,     0.96296,     0.96296,     0.96296,     0.96296,     0.96296,     0.96296,     0.96296,     0.96296,     0.96296,     0.96296,     0.96296,     0.96296,     0.96296,\n",
              "            0.96296,     0.96296,     0.96296,     0.96296,     0.96296,     0.96296,     0.96296,     0.96296,     0.96296,     0.96296,     0.96296,     0.96296,     0.96296,     0.96066,     0.96066,     0.96066,     0.96066,     0.96066,     0.96066,     0.96066,     0.96066,     0.96066,     0.96066,\n",
              "            0.96066,     0.96066,     0.96066,     0.95806,     0.95806,     0.95806,     0.95806,     0.95806,     0.95806,     0.95806,     0.95666,     0.95666,     0.95666,     0.95666,     0.95666,     0.95666,     0.95666,     0.95666,     0.95666,     0.95666,     0.95666,     0.95666,     0.95666,\n",
              "            0.95666,     0.95666,     0.95666,     0.95666,     0.95666,     0.95666,     0.95666,     0.95666,     0.95666,     0.95666,     0.95399,     0.95399,     0.95399,     0.95399,      0.9521,      0.9521,      0.9521,      0.9521,      0.9521,      0.9521,      0.9521,      0.9521,      0.9521,\n",
              "             0.9521,      0.9521,      0.9521,      0.9521,     0.94955,     0.94955,     0.94955,     0.94955,     0.94752,     0.94752,     0.94752,     0.94752,     0.94752,     0.94752,     0.94752,     0.94752,     0.94752,     0.94663,     0.94663,     0.94663,     0.94663,     0.94663,     0.94663,\n",
              "            0.94663,     0.94663,     0.94663,     0.94663,     0.94663,     0.94663,     0.94663,     0.94663,     0.94663,     0.94663,     0.94663,     0.94663,     0.94663,     0.94663,     0.94663,     0.94663,     0.94663,      0.9415,      0.9415,     0.93956,     0.93956,     0.93956,     0.93956,\n",
              "            0.93956,     0.93956,     0.93956,     0.93956,      0.9375,      0.9375,      0.9375,      0.9375,      0.9375,      0.9375,      0.9375,      0.9375,      0.9375,      0.9375,      0.9375,      0.9375,      0.9375,      0.9375,      0.9375,      0.9375,      0.9375,      0.9375,      0.9375,\n",
              "             0.9375,      0.9375,      0.9375,      0.9375,      0.9375,      0.9375,      0.9375,      0.9375,      0.9375,      0.9375,      0.9375,      0.9375,      0.9375,      0.9375,      0.9375,     0.93596,     0.93596,     0.93596,     0.93596,     0.93596,     0.93596,     0.93596,     0.93596,\n",
              "            0.93596,     0.93596,     0.93596,     0.93596,     0.93596,     0.93596,     0.93596,     0.93596,     0.93596,     0.93596,     0.93596,     0.93596,     0.93596,     0.93596,     0.93596,     0.93596,     0.93596,     0.93596,     0.93596,     0.93596,     0.93596,     0.93596,     0.93596,\n",
              "            0.93596,     0.93596,     0.93596,     0.93596,     0.93596,     0.93596,     0.93382,     0.93382,      0.9322,      0.9322,      0.9322,      0.9322,      0.9322,      0.9322,      0.9322,      0.9322,     0.93012,     0.93012,     0.92823,     0.92823,     0.92823,     0.92823,     0.92689,\n",
              "            0.92689,     0.92689,     0.92689,     0.92689,     0.92689,     0.92689,     0.92689,     0.92689,     0.92506,     0.92506,     0.92506,     0.92506,     0.92326,     0.92326,     0.92326,     0.92326,     0.92148,     0.92148,     0.92148,     0.91344,     0.91344,     0.91344,     0.91344,\n",
              "            0.90971,     0.90971,     0.90971,     0.90971,     0.90244,     0.90244,     0.90244,     0.90244,     0.90244,     0.90244,     0.90244,     0.90244,     0.90066,     0.89912,     0.89912,     0.89912,     0.89912,     0.89738,     0.89738,     0.89588,     0.89588,     0.89588,     0.89588,\n",
              "            0.88486,     0.88486,     0.88486,     0.88486,     0.88136,     0.88136,     0.87975,     0.87866,     0.87866,     0.87866,     0.87866,     0.87866,     0.87866,     0.87344,     0.87344,      0.8701,      0.8701,      0.8583,      0.8583,      0.8583,      0.8583,     0.85685,     0.85685,\n",
              "            0.85375,     0.85375,     0.85375,     0.85375,     0.85375,     0.85375,     0.85375,     0.85375,     0.85375,     0.85375,     0.85375,     0.85375,     0.85375,     0.85236,     0.85236,     0.83301,     0.83301,     0.83174,     0.83174,     0.82922,     0.82922,     0.82922,     0.82674,\n",
              "            0.82674,     0.82674,     0.82674,     0.82397,     0.82397,     0.82276,     0.82276,     0.81701,     0.81701,     0.81618,     0.81618,     0.81618,     0.81618,     0.81204,     0.80505,     0.80505,     0.80108,     0.80108,     0.79715,     0.79715,      0.7961,      0.7961,     0.79225,\n",
              "            0.79225,     0.79159,     0.79159,     0.79159,     0.79159,     0.78783,     0.78783,      0.7872,      0.7872,      0.7872,     0.78216,     0.78216,     0.77066,     0.77066,     0.75828,     0.75828,     0.75743,     0.75743,     0.74959,     0.74959,     0.74959,     0.74959,     0.74637,\n",
              "            0.74637,     0.73028,     0.73028,       0.725,     0.72205,     0.72205,     0.72025,     0.72025,     0.71846,     0.71846,     0.71125,     0.71125,     0.69481,     0.69481,     0.69016,     0.69016,     0.67575,     0.67575,     0.67379,     0.67379,     0.67379,     0.66949,     0.66949,\n",
              "            0.66527,     0.66527,      0.6485,      0.6485,     0.64459,     0.64459,     0.64037,     0.64037,     0.64037,     0.64037,     0.62827,     0.62827,     0.62712,     0.62712,     0.62113,     0.61844,     0.61844,     0.60199,     0.60199,     0.60025,     0.60025,     0.59486,     0.59486,\n",
              "            0.57838,     0.57838,     0.55141,     0.55141,     0.49949,     0.49949,     0.48181,     0.48181,     0.40412,     0.36097,     0.36097,     0.30621,     0.30621,     0.30107,     0.29651,     0.29195,     0.28739,     0.28283,     0.27826,      0.2737,     0.26914,     0.26458,     0.26002,\n",
              "            0.25546,     0.25089,     0.24633,     0.24177,     0.23721,     0.23265,     0.22809,     0.22352,     0.21896,      0.2144,     0.20984,     0.20528,     0.20072,     0.19615,     0.19159,     0.18703,     0.18247,     0.17791,     0.17334,     0.16878,     0.16422,     0.15966,      0.1551,\n",
              "            0.15054,     0.14597,     0.14141,     0.13685,     0.13229,     0.12773,     0.12317,      0.1186,     0.11404,     0.10948,     0.10492,     0.10036,    0.095796,    0.091234,    0.086672,    0.082111,    0.077549,    0.072987,    0.068426,    0.063864,    0.059302,     0.05474,    0.050179,\n",
              "           0.045617,    0.041055,    0.036494,    0.031932,     0.02737,    0.022809,    0.018247,    0.013685,   0.0091234,   0.0045617,           0]]), 'Recall', 'Precision'], [array([          0,    0.001001,    0.002002,    0.003003,    0.004004,    0.005005,    0.006006,    0.007007,    0.008008,    0.009009,     0.01001,    0.011011,    0.012012,    0.013013,    0.014014,    0.015015,    0.016016,    0.017017,    0.018018,    0.019019,     0.02002,    0.021021,    0.022022,    0.023023,\n",
              "          0.024024,    0.025025,    0.026026,    0.027027,    0.028028,    0.029029,     0.03003,    0.031031,    0.032032,    0.033033,    0.034034,    0.035035,    0.036036,    0.037037,    0.038038,    0.039039,     0.04004,    0.041041,    0.042042,    0.043043,    0.044044,    0.045045,    0.046046,    0.047047,\n",
              "          0.048048,    0.049049,     0.05005,    0.051051,    0.052052,    0.053053,    0.054054,    0.055055,    0.056056,    0.057057,    0.058058,    0.059059,     0.06006,    0.061061,    0.062062,    0.063063,    0.064064,    0.065065,    0.066066,    0.067067,    0.068068,    0.069069,     0.07007,    0.071071,\n",
              "          0.072072,    0.073073,    0.074074,    0.075075,    0.076076,    0.077077,    0.078078,    0.079079,     0.08008,    0.081081,    0.082082,    0.083083,    0.084084,    0.085085,    0.086086,    0.087087,    0.088088,    0.089089,     0.09009,    0.091091,    0.092092,    0.093093,    0.094094,    0.095095,\n",
              "          0.096096,    0.097097,    0.098098,    0.099099,      0.1001,      0.1011,      0.1021,      0.1031,      0.1041,     0.10511,     0.10611,     0.10711,     0.10811,     0.10911,     0.11011,     0.11111,     0.11211,     0.11311,     0.11411,     0.11512,     0.11612,     0.11712,     0.11812,     0.11912,\n",
              "           0.12012,     0.12112,     0.12212,     0.12312,     0.12412,     0.12513,     0.12613,     0.12713,     0.12813,     0.12913,     0.13013,     0.13113,     0.13213,     0.13313,     0.13413,     0.13514,     0.13614,     0.13714,     0.13814,     0.13914,     0.14014,     0.14114,     0.14214,     0.14314,\n",
              "           0.14414,     0.14515,     0.14615,     0.14715,     0.14815,     0.14915,     0.15015,     0.15115,     0.15215,     0.15315,     0.15415,     0.15516,     0.15616,     0.15716,     0.15816,     0.15916,     0.16016,     0.16116,     0.16216,     0.16316,     0.16416,     0.16517,     0.16617,     0.16717,\n",
              "           0.16817,     0.16917,     0.17017,     0.17117,     0.17217,     0.17317,     0.17417,     0.17518,     0.17618,     0.17718,     0.17818,     0.17918,     0.18018,     0.18118,     0.18218,     0.18318,     0.18418,     0.18519,     0.18619,     0.18719,     0.18819,     0.18919,     0.19019,     0.19119,\n",
              "           0.19219,     0.19319,     0.19419,      0.1952,      0.1962,      0.1972,      0.1982,      0.1992,      0.2002,      0.2012,      0.2022,      0.2032,      0.2042,     0.20521,     0.20621,     0.20721,     0.20821,     0.20921,     0.21021,     0.21121,     0.21221,     0.21321,     0.21421,     0.21522,\n",
              "           0.21622,     0.21722,     0.21822,     0.21922,     0.22022,     0.22122,     0.22222,     0.22322,     0.22422,     0.22523,     0.22623,     0.22723,     0.22823,     0.22923,     0.23023,     0.23123,     0.23223,     0.23323,     0.23423,     0.23524,     0.23624,     0.23724,     0.23824,     0.23924,\n",
              "           0.24024,     0.24124,     0.24224,     0.24324,     0.24424,     0.24525,     0.24625,     0.24725,     0.24825,     0.24925,     0.25025,     0.25125,     0.25225,     0.25325,     0.25425,     0.25526,     0.25626,     0.25726,     0.25826,     0.25926,     0.26026,     0.26126,     0.26226,     0.26326,\n",
              "           0.26426,     0.26527,     0.26627,     0.26727,     0.26827,     0.26927,     0.27027,     0.27127,     0.27227,     0.27327,     0.27427,     0.27528,     0.27628,     0.27728,     0.27828,     0.27928,     0.28028,     0.28128,     0.28228,     0.28328,     0.28428,     0.28529,     0.28629,     0.28729,\n",
              "           0.28829,     0.28929,     0.29029,     0.29129,     0.29229,     0.29329,     0.29429,      0.2953,      0.2963,      0.2973,      0.2983,      0.2993,      0.3003,      0.3013,      0.3023,      0.3033,      0.3043,     0.30531,     0.30631,     0.30731,     0.30831,     0.30931,     0.31031,     0.31131,\n",
              "           0.31231,     0.31331,     0.31431,     0.31532,     0.31632,     0.31732,     0.31832,     0.31932,     0.32032,     0.32132,     0.32232,     0.32332,     0.32432,     0.32533,     0.32633,     0.32733,     0.32833,     0.32933,     0.33033,     0.33133,     0.33233,     0.33333,     0.33433,     0.33534,\n",
              "           0.33634,     0.33734,     0.33834,     0.33934,     0.34034,     0.34134,     0.34234,     0.34334,     0.34434,     0.34535,     0.34635,     0.34735,     0.34835,     0.34935,     0.35035,     0.35135,     0.35235,     0.35335,     0.35435,     0.35536,     0.35636,     0.35736,     0.35836,     0.35936,\n",
              "           0.36036,     0.36136,     0.36236,     0.36336,     0.36436,     0.36537,     0.36637,     0.36737,     0.36837,     0.36937,     0.37037,     0.37137,     0.37237,     0.37337,     0.37437,     0.37538,     0.37638,     0.37738,     0.37838,     0.37938,     0.38038,     0.38138,     0.38238,     0.38338,\n",
              "           0.38438,     0.38539,     0.38639,     0.38739,     0.38839,     0.38939,     0.39039,     0.39139,     0.39239,     0.39339,     0.39439,      0.3954,      0.3964,      0.3974,      0.3984,      0.3994,      0.4004,      0.4014,      0.4024,      0.4034,      0.4044,     0.40541,     0.40641,     0.40741,\n",
              "           0.40841,     0.40941,     0.41041,     0.41141,     0.41241,     0.41341,     0.41441,     0.41542,     0.41642,     0.41742,     0.41842,     0.41942,     0.42042,     0.42142,     0.42242,     0.42342,     0.42442,     0.42543,     0.42643,     0.42743,     0.42843,     0.42943,     0.43043,     0.43143,\n",
              "           0.43243,     0.43343,     0.43443,     0.43544,     0.43644,     0.43744,     0.43844,     0.43944,     0.44044,     0.44144,     0.44244,     0.44344,     0.44444,     0.44545,     0.44645,     0.44745,     0.44845,     0.44945,     0.45045,     0.45145,     0.45245,     0.45345,     0.45445,     0.45546,\n",
              "           0.45646,     0.45746,     0.45846,     0.45946,     0.46046,     0.46146,     0.46246,     0.46346,     0.46446,     0.46547,     0.46647,     0.46747,     0.46847,     0.46947,     0.47047,     0.47147,     0.47247,     0.47347,     0.47447,     0.47548,     0.47648,     0.47748,     0.47848,     0.47948,\n",
              "           0.48048,     0.48148,     0.48248,     0.48348,     0.48448,     0.48549,     0.48649,     0.48749,     0.48849,     0.48949,     0.49049,     0.49149,     0.49249,     0.49349,     0.49449,      0.4955,      0.4965,      0.4975,      0.4985,      0.4995,      0.5005,      0.5015,      0.5025,      0.5035,\n",
              "            0.5045,     0.50551,     0.50651,     0.50751,     0.50851,     0.50951,     0.51051,     0.51151,     0.51251,     0.51351,     0.51451,     0.51552,     0.51652,     0.51752,     0.51852,     0.51952,     0.52052,     0.52152,     0.52252,     0.52352,     0.52452,     0.52553,     0.52653,     0.52753,\n",
              "           0.52853,     0.52953,     0.53053,     0.53153,     0.53253,     0.53353,     0.53453,     0.53554,     0.53654,     0.53754,     0.53854,     0.53954,     0.54054,     0.54154,     0.54254,     0.54354,     0.54454,     0.54555,     0.54655,     0.54755,     0.54855,     0.54955,     0.55055,     0.55155,\n",
              "           0.55255,     0.55355,     0.55455,     0.55556,     0.55656,     0.55756,     0.55856,     0.55956,     0.56056,     0.56156,     0.56256,     0.56356,     0.56456,     0.56557,     0.56657,     0.56757,     0.56857,     0.56957,     0.57057,     0.57157,     0.57257,     0.57357,     0.57457,     0.57558,\n",
              "           0.57658,     0.57758,     0.57858,     0.57958,     0.58058,     0.58158,     0.58258,     0.58358,     0.58458,     0.58559,     0.58659,     0.58759,     0.58859,     0.58959,     0.59059,     0.59159,     0.59259,     0.59359,     0.59459,      0.5956,      0.5966,      0.5976,      0.5986,      0.5996,\n",
              "            0.6006,      0.6016,      0.6026,      0.6036,      0.6046,     0.60561,     0.60661,     0.60761,     0.60861,     0.60961,     0.61061,     0.61161,     0.61261,     0.61361,     0.61461,     0.61562,     0.61662,     0.61762,     0.61862,     0.61962,     0.62062,     0.62162,     0.62262,     0.62362,\n",
              "           0.62462,     0.62563,     0.62663,     0.62763,     0.62863,     0.62963,     0.63063,     0.63163,     0.63263,     0.63363,     0.63463,     0.63564,     0.63664,     0.63764,     0.63864,     0.63964,     0.64064,     0.64164,     0.64264,     0.64364,     0.64464,     0.64565,     0.64665,     0.64765,\n",
              "           0.64865,     0.64965,     0.65065,     0.65165,     0.65265,     0.65365,     0.65465,     0.65566,     0.65666,     0.65766,     0.65866,     0.65966,     0.66066,     0.66166,     0.66266,     0.66366,     0.66466,     0.66567,     0.66667,     0.66767,     0.66867,     0.66967,     0.67067,     0.67167,\n",
              "           0.67267,     0.67367,     0.67467,     0.67568,     0.67668,     0.67768,     0.67868,     0.67968,     0.68068,     0.68168,     0.68268,     0.68368,     0.68468,     0.68569,     0.68669,     0.68769,     0.68869,     0.68969,     0.69069,     0.69169,     0.69269,     0.69369,     0.69469,      0.6957,\n",
              "            0.6967,      0.6977,      0.6987,      0.6997,      0.7007,      0.7017,      0.7027,      0.7037,      0.7047,     0.70571,     0.70671,     0.70771,     0.70871,     0.70971,     0.71071,     0.71171,     0.71271,     0.71371,     0.71471,     0.71572,     0.71672,     0.71772,     0.71872,     0.71972,\n",
              "           0.72072,     0.72172,     0.72272,     0.72372,     0.72472,     0.72573,     0.72673,     0.72773,     0.72873,     0.72973,     0.73073,     0.73173,     0.73273,     0.73373,     0.73473,     0.73574,     0.73674,     0.73774,     0.73874,     0.73974,     0.74074,     0.74174,     0.74274,     0.74374,\n",
              "           0.74474,     0.74575,     0.74675,     0.74775,     0.74875,     0.74975,     0.75075,     0.75175,     0.75275,     0.75375,     0.75475,     0.75576,     0.75676,     0.75776,     0.75876,     0.75976,     0.76076,     0.76176,     0.76276,     0.76376,     0.76476,     0.76577,     0.76677,     0.76777,\n",
              "           0.76877,     0.76977,     0.77077,     0.77177,     0.77277,     0.77377,     0.77477,     0.77578,     0.77678,     0.77778,     0.77878,     0.77978,     0.78078,     0.78178,     0.78278,     0.78378,     0.78478,     0.78579,     0.78679,     0.78779,     0.78879,     0.78979,     0.79079,     0.79179,\n",
              "           0.79279,     0.79379,     0.79479,      0.7958,      0.7968,      0.7978,      0.7988,      0.7998,      0.8008,      0.8018,      0.8028,      0.8038,      0.8048,     0.80581,     0.80681,     0.80781,     0.80881,     0.80981,     0.81081,     0.81181,     0.81281,     0.81381,     0.81481,     0.81582,\n",
              "           0.81682,     0.81782,     0.81882,     0.81982,     0.82082,     0.82182,     0.82282,     0.82382,     0.82482,     0.82583,     0.82683,     0.82783,     0.82883,     0.82983,     0.83083,     0.83183,     0.83283,     0.83383,     0.83483,     0.83584,     0.83684,     0.83784,     0.83884,     0.83984,\n",
              "           0.84084,     0.84184,     0.84284,     0.84384,     0.84484,     0.84585,     0.84685,     0.84785,     0.84885,     0.84985,     0.85085,     0.85185,     0.85285,     0.85385,     0.85485,     0.85586,     0.85686,     0.85786,     0.85886,     0.85986,     0.86086,     0.86186,     0.86286,     0.86386,\n",
              "           0.86486,     0.86587,     0.86687,     0.86787,     0.86887,     0.86987,     0.87087,     0.87187,     0.87287,     0.87387,     0.87487,     0.87588,     0.87688,     0.87788,     0.87888,     0.87988,     0.88088,     0.88188,     0.88288,     0.88388,     0.88488,     0.88589,     0.88689,     0.88789,\n",
              "           0.88889,     0.88989,     0.89089,     0.89189,     0.89289,     0.89389,     0.89489,      0.8959,      0.8969,      0.8979,      0.8989,      0.8999,      0.9009,      0.9019,      0.9029,      0.9039,      0.9049,     0.90591,     0.90691,     0.90791,     0.90891,     0.90991,     0.91091,     0.91191,\n",
              "           0.91291,     0.91391,     0.91491,     0.91592,     0.91692,     0.91792,     0.91892,     0.91992,     0.92092,     0.92192,     0.92292,     0.92392,     0.92492,     0.92593,     0.92693,     0.92793,     0.92893,     0.92993,     0.93093,     0.93193,     0.93293,     0.93393,     0.93493,     0.93594,\n",
              "           0.93694,     0.93794,     0.93894,     0.93994,     0.94094,     0.94194,     0.94294,     0.94394,     0.94494,     0.94595,     0.94695,     0.94795,     0.94895,     0.94995,     0.95095,     0.95195,     0.95295,     0.95395,     0.95495,     0.95596,     0.95696,     0.95796,     0.95896,     0.95996,\n",
              "           0.96096,     0.96196,     0.96296,     0.96396,     0.96496,     0.96597,     0.96697,     0.96797,     0.96897,     0.96997,     0.97097,     0.97197,     0.97297,     0.97397,     0.97497,     0.97598,     0.97698,     0.97798,     0.97898,     0.97998,     0.98098,     0.98198,     0.98298,     0.98398,\n",
              "           0.98498,     0.98599,     0.98699,     0.98799,     0.98899,     0.98999,     0.99099,     0.99199,     0.99299,     0.99399,     0.99499,       0.996,       0.997,       0.998,       0.999,           1]), array([[    0.45648,     0.45648,     0.53611,     0.57612,     0.60717,     0.62708,      0.6405,     0.65204,     0.66442,     0.67371,     0.68252,     0.68759,     0.69054,     0.69544,     0.69923,     0.70708,      0.7112,     0.71599,     0.72002,     0.72206,     0.72247,     0.72387,     0.72598,\n",
              "             0.7258,     0.73025,     0.73373,     0.73604,     0.73746,     0.73883,     0.73961,     0.74213,     0.74219,     0.74223,     0.74314,     0.74469,     0.74695,     0.74777,     0.75048,     0.74946,     0.74997,     0.75195,     0.75283,     0.75423,     0.75376,     0.75371,     0.75488,\n",
              "            0.75538,     0.75605,     0.75691,     0.75788,     0.75848,     0.76171,     0.76293,     0.76358,     0.76467,     0.76399,     0.76484,     0.76574,     0.76774,     0.76715,     0.76777,     0.76803,     0.76829,     0.76862,       0.768,     0.76826,     0.76853,     0.76907,     0.76951,\n",
              "            0.76991,      0.7718,     0.77198,     0.77215,     0.77233,     0.77311,     0.77466,     0.77564,     0.77575,     0.77586,     0.77597,     0.77609,      0.7762,     0.77733,     0.77727,     0.77693,     0.77659,     0.77787,     0.77961,     0.77897,     0.77909,     0.77947,     0.77967,\n",
              "            0.77988,     0.78041,     0.78079,     0.78096,     0.78114,     0.78135,     0.78229,     0.78348,     0.78447,     0.78575,     0.78662,     0.78698,     0.78819,      0.7887,     0.78896,     0.78916,     0.78828,     0.78841,     0.78867,     0.78894,     0.78929,     0.78961,     0.78989,\n",
              "            0.79017,     0.79125,     0.79209,      0.7928,     0.79229,     0.79186,     0.79195,     0.79205,     0.79215,     0.79225,     0.79235,     0.79245,     0.79313,     0.79291,      0.7927,     0.79248,     0.79226,     0.79232,     0.79261,     0.79325,     0.79339,     0.79324,     0.79309,\n",
              "            0.79294,      0.7928,     0.79265,      0.7925,     0.79274,     0.79301,     0.79332,     0.79367,     0.79446,     0.79386,     0.79427,     0.79444,     0.79462,     0.79479,       0.795,     0.79522,     0.79545,     0.79684,     0.79634,     0.79589,     0.79632,     0.79684,     0.79776,\n",
              "            0.80025,     0.80112,     0.80149,     0.80162,     0.80175,     0.80188,     0.80201,     0.80236,     0.80355,     0.80376,     0.80398,      0.8042,     0.80461,     0.80498,     0.80529,     0.80599,     0.80648,     0.80618,     0.80587,     0.80553,     0.80496,     0.80457,     0.80463,\n",
              "            0.80469,     0.80474,      0.8048,     0.80486,     0.80491,     0.80497,     0.80503,     0.80509,     0.80514,      0.8052,     0.80526,     0.80576,     0.80615,     0.80642,      0.8067,     0.80693,     0.80716,     0.80742,     0.80822,     0.80849,     0.80877,     0.80895,      0.8091,\n",
              "            0.80926,     0.80942,     0.80941,     0.80908,     0.80875,     0.80864,      0.8088,     0.80835,     0.80911,     0.80961,     0.80989,     0.81017,      0.8106,     0.81109,     0.81144,     0.81174,     0.81184,     0.81193,     0.81203,     0.81213,     0.81223,     0.81232,     0.81242,\n",
              "             0.8127,     0.81305,     0.81382,     0.81464,     0.81474,     0.81484,     0.81495,     0.81505,     0.81515,     0.81525,     0.81531,     0.81501,     0.81471,     0.81441,     0.81437,     0.81452,     0.81466,     0.81481,     0.81495,     0.81507,     0.81516,     0.81524,     0.81533,\n",
              "            0.81542,     0.81551,      0.8156,     0.81569,     0.81577,     0.81585,     0.81592,       0.816,     0.81607,     0.81615,     0.81622,      0.8163,     0.81637,     0.81645,      0.8166,     0.81678,     0.81697,     0.81716,     0.81759,     0.81824,     0.81951,      0.8197,     0.81989,\n",
              "            0.82008,     0.82065,     0.82063,     0.82027,     0.81991,      0.8204,     0.82063,     0.82071,     0.82079,     0.82088,     0.82096,     0.82105,     0.82113,     0.82122,     0.82131,     0.82207,     0.82219,     0.82231,     0.82243,     0.82254,     0.82266,     0.82278,     0.82249,\n",
              "            0.82218,     0.82187,     0.82167,     0.82157,     0.82147,     0.82137,     0.82127,     0.82117,     0.82107,     0.82097,     0.82087,     0.82077,     0.82067,       0.821,     0.82138,     0.82117,     0.82096,     0.82075,     0.82054,     0.82034,     0.82075,     0.82133,     0.82205,\n",
              "            0.82248,     0.82167,      0.8205,     0.82098,     0.82016,     0.82033,      0.8205,     0.82067,     0.82084,     0.82115,     0.82146,     0.82175,     0.82203,     0.82231,     0.82199,     0.82159,     0.82128,     0.82134,     0.82141,     0.82148,     0.82154,     0.82161,     0.82167,\n",
              "            0.82174,      0.8218,     0.82187,     0.82194,       0.822,     0.82094,     0.82169,     0.82179,     0.82188,     0.82198,     0.82207,     0.82216,     0.82226,     0.82235,     0.82245,     0.82212,     0.82241,     0.82269,      0.8229,     0.82296,     0.82303,     0.82309,     0.82316,\n",
              "            0.82322,     0.82329,     0.82335,     0.82342,     0.82348,     0.82355,     0.82361,     0.82431,     0.82416,     0.82401,     0.82386,     0.82371,     0.82356,     0.82342,     0.82343,     0.82382,     0.82417,     0.82446,     0.82474,      0.8251,     0.82549,     0.82592,     0.82638,\n",
              "             0.8271,     0.82686,     0.82759,     0.82767,     0.82774,     0.82782,     0.82789,     0.82797,     0.82804,     0.82812,      0.8282,     0.82827,     0.82835,     0.82816,     0.82792,     0.82769,     0.82745,     0.82723,     0.82706,      0.8269,     0.82673,     0.82656,      0.8264,\n",
              "            0.82623,     0.82666,      0.8268,     0.82657,     0.82635,     0.82612,      0.8259,     0.82692,     0.82732,     0.82763,     0.82792,     0.82818,      0.8283,     0.82841,     0.82853,     0.82864,     0.82875,     0.82887,     0.82793,     0.82819,     0.82846,     0.82847,     0.82806,\n",
              "            0.82765,     0.82759,     0.82769,     0.82779,     0.82789,     0.82799,     0.82809,     0.82819,     0.82829,     0.82848,     0.82868,     0.82888,     0.82908,     0.82896,     0.82883,      0.8287,     0.82857,     0.82844,     0.82831,     0.82818,     0.82805,     0.82794,     0.82786,\n",
              "            0.82778,      0.8277,     0.82762,     0.82754,     0.82745,     0.82737,     0.82729,     0.82721,     0.82713,     0.82705,     0.82697,     0.82689,     0.82753,     0.82701,     0.82663,     0.82625,     0.82693,     0.82773,      0.8276,     0.82741,     0.82722,     0.82703,     0.82684,\n",
              "             0.8267,     0.82711,      0.8274,     0.82702,     0.82664,     0.82639,     0.82666,     0.82693,     0.82735,     0.82794,     0.82802,      0.8281,     0.82818,     0.82827,     0.82835,     0.82843,     0.82851,     0.82859,     0.82867,     0.82893,     0.82934,     0.82956,     0.82966,\n",
              "            0.82977,     0.82987,     0.82997,     0.83007,     0.83017,     0.83028,     0.83039,     0.83051,     0.83062,     0.83074,     0.83086,     0.83097,     0.83109,     0.83149,      0.8319,      0.8327,     0.83298,     0.83325,     0.83354,     0.83395,     0.83443,     0.83518,     0.83559,\n",
              "            0.83582,     0.83543,     0.83505,     0.83504,     0.83521,     0.83405,     0.83289,     0.83197,     0.83139,     0.83054,     0.82886,       0.829,     0.82914,     0.82927,     0.82941,     0.82955,     0.82953,     0.82994,     0.82988,     0.82959,      0.8293,       0.829,     0.82906,\n",
              "            0.82923,      0.8294,     0.82956,     0.82973,     0.82945,     0.82911,     0.82878,     0.82755,     0.82776,     0.82797,     0.82817,     0.82831,     0.82839,     0.82848,     0.82856,     0.82864,     0.82873,     0.82881,     0.82889,     0.82898,     0.82906,     0.82976,     0.83013,\n",
              "            0.83041,     0.83069,     0.83148,     0.83292,     0.83266,      0.8324,     0.83213,     0.83248,     0.83292,     0.83306,      0.8332,     0.83334,     0.83348,     0.83362,     0.83324,     0.83264,     0.83273,     0.83301,     0.83329,     0.83437,     0.83461,     0.83485,     0.83448,\n",
              "             0.8337,      0.8334,      0.8331,      0.8328,     0.83251,     0.83221,     0.83191,     0.83161,     0.83163,     0.83182,     0.83201,      0.8322,     0.83203,     0.83129,     0.83172,     0.83195,     0.83242,      0.8322,     0.83198,     0.83176,     0.83155,     0.83133,     0.83099,\n",
              "            0.83142,     0.83188,     0.83358,     0.83438,     0.83473,     0.83507,     0.83478,     0.83418,     0.83294,      0.8331,     0.83326,     0.83341,     0.83357,     0.83264,     0.83308,     0.83329,     0.83318,     0.83307,     0.83296,     0.83285,     0.83274,     0.83263,     0.83251,\n",
              "             0.8324,     0.83229,     0.83218,     0.83182,     0.83133,     0.83103,     0.83132,      0.8316,     0.83143,     0.83119,     0.82881,      0.8285,     0.82819,     0.82789,     0.82683,       0.827,     0.82718,     0.82735,     0.82757,     0.82926,      0.8297,     0.82882,     0.82846,\n",
              "            0.82811,     0.82776,     0.82784,     0.82809,     0.82834,     0.82862,     0.82897,     0.82932,     0.82829,     0.82742,     0.82789,     0.82808,     0.82828,     0.82847,      0.8287,     0.82953,     0.82966,     0.82978,     0.82991,     0.83004,     0.83016,     0.83029,     0.83035,\n",
              "            0.83018,     0.83001,     0.82985,     0.82968,     0.82951,     0.82935,     0.82918,     0.82876,     0.82715,     0.82698,     0.82681,     0.82664,     0.82648,     0.82631,     0.82614,     0.82591,     0.82528,     0.82488,     0.82547,     0.82165,     0.82129,     0.82093,     0.81961,\n",
              "            0.82021,     0.82008,     0.81982,     0.81957,     0.81931,     0.81906,     0.81837,     0.81845,     0.81802,     0.81759,     0.81767,     0.81811,     0.81648,     0.81445,     0.81416,     0.81388,     0.81359,      0.8133,     0.81369,     0.81399,     0.81362,     0.81324,     0.81287,\n",
              "            0.81332,     0.81288,     0.81245,     0.81201,     0.81158,     0.80856,     0.80769,     0.80681,     0.80464,     0.80376,     0.80158,      0.8007,     0.79981,     0.79892,     0.79803,     0.79714,     0.79625,     0.79404,     0.79314,     0.79047,      0.7891,     0.78819,     0.78772,\n",
              "            0.78726,     0.78412,     0.78321,     0.78229,     0.77321,     0.77186,     0.77093,     0.76724,     0.76716,     0.76622,     0.76474,     0.76392,     0.76345,     0.76297,     0.76156,     0.75806,     0.75757,     0.75709,     0.75498,     0.75402,     0.74972,     0.74874,     0.74633,\n",
              "             0.7462,     0.74522,     0.74104,     0.73926,     0.73826,     0.73726,     0.73758,     0.73268,     0.73019,     0.72918,     0.72775,      0.7275,     0.72556,     0.72614,      0.7188,     0.71163,      0.7088,     0.70826,     0.70571,     0.70415,     0.70308,     0.69943,     0.69342,\n",
              "            0.69262,     0.69315,     0.69207,     0.68581,     0.68489,     0.68423,     0.67698,     0.67587,     0.66775,     0.66135,     0.65936,     0.65429,     0.64262,     0.64145,     0.63614,     0.63437,     0.63318,     0.62991,     0.62105,     0.61604,     0.61293,     0.60748,     0.60402,\n",
              "            0.60328,     0.60253,     0.60173,     0.59853,      0.5957,     0.59494,     0.59004,     0.58514,     0.57751,     0.56429,     0.56296,     0.54795,     0.53181,     0.52973,     0.52558,     0.52348,     0.51307,     0.50262,     0.50117,     0.49497,     0.48848,     0.47619,     0.47507,\n",
              "            0.47087,     0.46639,     0.45965,     0.44832,     0.44141,     0.42748,     0.41567,     0.41439,     0.41318,     0.39383,      0.3828,      0.3753,     0.36522,     0.36009,     0.34724,     0.32894,      0.3156,     0.30068,     0.29788,     0.29233,     0.28674,       0.283,      0.2824,\n",
              "            0.27723,     0.27153,     0.25579,     0.24995,     0.23389,     0.22186,     0.21879,     0.21274,     0.21068,       0.208,     0.19941,     0.19671,     0.18937,     0.17367,     0.16567,     0.16162,     0.15753,     0.14615,     0.13521,     0.13264,     0.13095,     0.12212,     0.11796,\n",
              "            0.11585,     0.11413,     0.10734,    0.098755,    0.096185,    0.094427,    0.092324,    0.089407,    0.082971,    0.078794,    0.074055,    0.063371,    0.060611,    0.056875,    0.050589,    0.044055,    0.042816,    0.041576,    0.030601,    0.028719,    0.027461,    0.026201,     0.02494,\n",
              "           0.023677,     0.01869,    0.017165,    0.015637,    0.014764,    0.014314,    0.013863,    0.013413,    0.012962,    0.012511,     0.01206,    0.011609,    0.010896,   0.0096147,   0.0083321,   0.0069479,   0.0054044,   0.0038585,           0,           0,           0,           0,           0,\n",
              "                  0,           0,           0,           0,           0,           0,           0,           0,           0,           0,           0,           0,           0,           0,           0,           0,           0,           0,           0,           0,           0,           0,           0,\n",
              "                  0,           0,           0,           0,           0,           0,           0,           0,           0,           0,           0,           0,           0,           0,           0,           0,           0,           0,           0,           0,           0,           0,           0,\n",
              "                  0,           0,           0,           0,           0,           0,           0,           0,           0,           0,           0]]), 'Confidence', 'F1'], [array([          0,    0.001001,    0.002002,    0.003003,    0.004004,    0.005005,    0.006006,    0.007007,    0.008008,    0.009009,     0.01001,    0.011011,    0.012012,    0.013013,    0.014014,    0.015015,    0.016016,    0.017017,    0.018018,    0.019019,     0.02002,    0.021021,    0.022022,    0.023023,\n",
              "          0.024024,    0.025025,    0.026026,    0.027027,    0.028028,    0.029029,     0.03003,    0.031031,    0.032032,    0.033033,    0.034034,    0.035035,    0.036036,    0.037037,    0.038038,    0.039039,     0.04004,    0.041041,    0.042042,    0.043043,    0.044044,    0.045045,    0.046046,    0.047047,\n",
              "          0.048048,    0.049049,     0.05005,    0.051051,    0.052052,    0.053053,    0.054054,    0.055055,    0.056056,    0.057057,    0.058058,    0.059059,     0.06006,    0.061061,    0.062062,    0.063063,    0.064064,    0.065065,    0.066066,    0.067067,    0.068068,    0.069069,     0.07007,    0.071071,\n",
              "          0.072072,    0.073073,    0.074074,    0.075075,    0.076076,    0.077077,    0.078078,    0.079079,     0.08008,    0.081081,    0.082082,    0.083083,    0.084084,    0.085085,    0.086086,    0.087087,    0.088088,    0.089089,     0.09009,    0.091091,    0.092092,    0.093093,    0.094094,    0.095095,\n",
              "          0.096096,    0.097097,    0.098098,    0.099099,      0.1001,      0.1011,      0.1021,      0.1031,      0.1041,     0.10511,     0.10611,     0.10711,     0.10811,     0.10911,     0.11011,     0.11111,     0.11211,     0.11311,     0.11411,     0.11512,     0.11612,     0.11712,     0.11812,     0.11912,\n",
              "           0.12012,     0.12112,     0.12212,     0.12312,     0.12412,     0.12513,     0.12613,     0.12713,     0.12813,     0.12913,     0.13013,     0.13113,     0.13213,     0.13313,     0.13413,     0.13514,     0.13614,     0.13714,     0.13814,     0.13914,     0.14014,     0.14114,     0.14214,     0.14314,\n",
              "           0.14414,     0.14515,     0.14615,     0.14715,     0.14815,     0.14915,     0.15015,     0.15115,     0.15215,     0.15315,     0.15415,     0.15516,     0.15616,     0.15716,     0.15816,     0.15916,     0.16016,     0.16116,     0.16216,     0.16316,     0.16416,     0.16517,     0.16617,     0.16717,\n",
              "           0.16817,     0.16917,     0.17017,     0.17117,     0.17217,     0.17317,     0.17417,     0.17518,     0.17618,     0.17718,     0.17818,     0.17918,     0.18018,     0.18118,     0.18218,     0.18318,     0.18418,     0.18519,     0.18619,     0.18719,     0.18819,     0.18919,     0.19019,     0.19119,\n",
              "           0.19219,     0.19319,     0.19419,      0.1952,      0.1962,      0.1972,      0.1982,      0.1992,      0.2002,      0.2012,      0.2022,      0.2032,      0.2042,     0.20521,     0.20621,     0.20721,     0.20821,     0.20921,     0.21021,     0.21121,     0.21221,     0.21321,     0.21421,     0.21522,\n",
              "           0.21622,     0.21722,     0.21822,     0.21922,     0.22022,     0.22122,     0.22222,     0.22322,     0.22422,     0.22523,     0.22623,     0.22723,     0.22823,     0.22923,     0.23023,     0.23123,     0.23223,     0.23323,     0.23423,     0.23524,     0.23624,     0.23724,     0.23824,     0.23924,\n",
              "           0.24024,     0.24124,     0.24224,     0.24324,     0.24424,     0.24525,     0.24625,     0.24725,     0.24825,     0.24925,     0.25025,     0.25125,     0.25225,     0.25325,     0.25425,     0.25526,     0.25626,     0.25726,     0.25826,     0.25926,     0.26026,     0.26126,     0.26226,     0.26326,\n",
              "           0.26426,     0.26527,     0.26627,     0.26727,     0.26827,     0.26927,     0.27027,     0.27127,     0.27227,     0.27327,     0.27427,     0.27528,     0.27628,     0.27728,     0.27828,     0.27928,     0.28028,     0.28128,     0.28228,     0.28328,     0.28428,     0.28529,     0.28629,     0.28729,\n",
              "           0.28829,     0.28929,     0.29029,     0.29129,     0.29229,     0.29329,     0.29429,      0.2953,      0.2963,      0.2973,      0.2983,      0.2993,      0.3003,      0.3013,      0.3023,      0.3033,      0.3043,     0.30531,     0.30631,     0.30731,     0.30831,     0.30931,     0.31031,     0.31131,\n",
              "           0.31231,     0.31331,     0.31431,     0.31532,     0.31632,     0.31732,     0.31832,     0.31932,     0.32032,     0.32132,     0.32232,     0.32332,     0.32432,     0.32533,     0.32633,     0.32733,     0.32833,     0.32933,     0.33033,     0.33133,     0.33233,     0.33333,     0.33433,     0.33534,\n",
              "           0.33634,     0.33734,     0.33834,     0.33934,     0.34034,     0.34134,     0.34234,     0.34334,     0.34434,     0.34535,     0.34635,     0.34735,     0.34835,     0.34935,     0.35035,     0.35135,     0.35235,     0.35335,     0.35435,     0.35536,     0.35636,     0.35736,     0.35836,     0.35936,\n",
              "           0.36036,     0.36136,     0.36236,     0.36336,     0.36436,     0.36537,     0.36637,     0.36737,     0.36837,     0.36937,     0.37037,     0.37137,     0.37237,     0.37337,     0.37437,     0.37538,     0.37638,     0.37738,     0.37838,     0.37938,     0.38038,     0.38138,     0.38238,     0.38338,\n",
              "           0.38438,     0.38539,     0.38639,     0.38739,     0.38839,     0.38939,     0.39039,     0.39139,     0.39239,     0.39339,     0.39439,      0.3954,      0.3964,      0.3974,      0.3984,      0.3994,      0.4004,      0.4014,      0.4024,      0.4034,      0.4044,     0.40541,     0.40641,     0.40741,\n",
              "           0.40841,     0.40941,     0.41041,     0.41141,     0.41241,     0.41341,     0.41441,     0.41542,     0.41642,     0.41742,     0.41842,     0.41942,     0.42042,     0.42142,     0.42242,     0.42342,     0.42442,     0.42543,     0.42643,     0.42743,     0.42843,     0.42943,     0.43043,     0.43143,\n",
              "           0.43243,     0.43343,     0.43443,     0.43544,     0.43644,     0.43744,     0.43844,     0.43944,     0.44044,     0.44144,     0.44244,     0.44344,     0.44444,     0.44545,     0.44645,     0.44745,     0.44845,     0.44945,     0.45045,     0.45145,     0.45245,     0.45345,     0.45445,     0.45546,\n",
              "           0.45646,     0.45746,     0.45846,     0.45946,     0.46046,     0.46146,     0.46246,     0.46346,     0.46446,     0.46547,     0.46647,     0.46747,     0.46847,     0.46947,     0.47047,     0.47147,     0.47247,     0.47347,     0.47447,     0.47548,     0.47648,     0.47748,     0.47848,     0.47948,\n",
              "           0.48048,     0.48148,     0.48248,     0.48348,     0.48448,     0.48549,     0.48649,     0.48749,     0.48849,     0.48949,     0.49049,     0.49149,     0.49249,     0.49349,     0.49449,      0.4955,      0.4965,      0.4975,      0.4985,      0.4995,      0.5005,      0.5015,      0.5025,      0.5035,\n",
              "            0.5045,     0.50551,     0.50651,     0.50751,     0.50851,     0.50951,     0.51051,     0.51151,     0.51251,     0.51351,     0.51451,     0.51552,     0.51652,     0.51752,     0.51852,     0.51952,     0.52052,     0.52152,     0.52252,     0.52352,     0.52452,     0.52553,     0.52653,     0.52753,\n",
              "           0.52853,     0.52953,     0.53053,     0.53153,     0.53253,     0.53353,     0.53453,     0.53554,     0.53654,     0.53754,     0.53854,     0.53954,     0.54054,     0.54154,     0.54254,     0.54354,     0.54454,     0.54555,     0.54655,     0.54755,     0.54855,     0.54955,     0.55055,     0.55155,\n",
              "           0.55255,     0.55355,     0.55455,     0.55556,     0.55656,     0.55756,     0.55856,     0.55956,     0.56056,     0.56156,     0.56256,     0.56356,     0.56456,     0.56557,     0.56657,     0.56757,     0.56857,     0.56957,     0.57057,     0.57157,     0.57257,     0.57357,     0.57457,     0.57558,\n",
              "           0.57658,     0.57758,     0.57858,     0.57958,     0.58058,     0.58158,     0.58258,     0.58358,     0.58458,     0.58559,     0.58659,     0.58759,     0.58859,     0.58959,     0.59059,     0.59159,     0.59259,     0.59359,     0.59459,      0.5956,      0.5966,      0.5976,      0.5986,      0.5996,\n",
              "            0.6006,      0.6016,      0.6026,      0.6036,      0.6046,     0.60561,     0.60661,     0.60761,     0.60861,     0.60961,     0.61061,     0.61161,     0.61261,     0.61361,     0.61461,     0.61562,     0.61662,     0.61762,     0.61862,     0.61962,     0.62062,     0.62162,     0.62262,     0.62362,\n",
              "           0.62462,     0.62563,     0.62663,     0.62763,     0.62863,     0.62963,     0.63063,     0.63163,     0.63263,     0.63363,     0.63463,     0.63564,     0.63664,     0.63764,     0.63864,     0.63964,     0.64064,     0.64164,     0.64264,     0.64364,     0.64464,     0.64565,     0.64665,     0.64765,\n",
              "           0.64865,     0.64965,     0.65065,     0.65165,     0.65265,     0.65365,     0.65465,     0.65566,     0.65666,     0.65766,     0.65866,     0.65966,     0.66066,     0.66166,     0.66266,     0.66366,     0.66466,     0.66567,     0.66667,     0.66767,     0.66867,     0.66967,     0.67067,     0.67167,\n",
              "           0.67267,     0.67367,     0.67467,     0.67568,     0.67668,     0.67768,     0.67868,     0.67968,     0.68068,     0.68168,     0.68268,     0.68368,     0.68468,     0.68569,     0.68669,     0.68769,     0.68869,     0.68969,     0.69069,     0.69169,     0.69269,     0.69369,     0.69469,      0.6957,\n",
              "            0.6967,      0.6977,      0.6987,      0.6997,      0.7007,      0.7017,      0.7027,      0.7037,      0.7047,     0.70571,     0.70671,     0.70771,     0.70871,     0.70971,     0.71071,     0.71171,     0.71271,     0.71371,     0.71471,     0.71572,     0.71672,     0.71772,     0.71872,     0.71972,\n",
              "           0.72072,     0.72172,     0.72272,     0.72372,     0.72472,     0.72573,     0.72673,     0.72773,     0.72873,     0.72973,     0.73073,     0.73173,     0.73273,     0.73373,     0.73473,     0.73574,     0.73674,     0.73774,     0.73874,     0.73974,     0.74074,     0.74174,     0.74274,     0.74374,\n",
              "           0.74474,     0.74575,     0.74675,     0.74775,     0.74875,     0.74975,     0.75075,     0.75175,     0.75275,     0.75375,     0.75475,     0.75576,     0.75676,     0.75776,     0.75876,     0.75976,     0.76076,     0.76176,     0.76276,     0.76376,     0.76476,     0.76577,     0.76677,     0.76777,\n",
              "           0.76877,     0.76977,     0.77077,     0.77177,     0.77277,     0.77377,     0.77477,     0.77578,     0.77678,     0.77778,     0.77878,     0.77978,     0.78078,     0.78178,     0.78278,     0.78378,     0.78478,     0.78579,     0.78679,     0.78779,     0.78879,     0.78979,     0.79079,     0.79179,\n",
              "           0.79279,     0.79379,     0.79479,      0.7958,      0.7968,      0.7978,      0.7988,      0.7998,      0.8008,      0.8018,      0.8028,      0.8038,      0.8048,     0.80581,     0.80681,     0.80781,     0.80881,     0.80981,     0.81081,     0.81181,     0.81281,     0.81381,     0.81481,     0.81582,\n",
              "           0.81682,     0.81782,     0.81882,     0.81982,     0.82082,     0.82182,     0.82282,     0.82382,     0.82482,     0.82583,     0.82683,     0.82783,     0.82883,     0.82983,     0.83083,     0.83183,     0.83283,     0.83383,     0.83483,     0.83584,     0.83684,     0.83784,     0.83884,     0.83984,\n",
              "           0.84084,     0.84184,     0.84284,     0.84384,     0.84484,     0.84585,     0.84685,     0.84785,     0.84885,     0.84985,     0.85085,     0.85185,     0.85285,     0.85385,     0.85485,     0.85586,     0.85686,     0.85786,     0.85886,     0.85986,     0.86086,     0.86186,     0.86286,     0.86386,\n",
              "           0.86486,     0.86587,     0.86687,     0.86787,     0.86887,     0.86987,     0.87087,     0.87187,     0.87287,     0.87387,     0.87487,     0.87588,     0.87688,     0.87788,     0.87888,     0.87988,     0.88088,     0.88188,     0.88288,     0.88388,     0.88488,     0.88589,     0.88689,     0.88789,\n",
              "           0.88889,     0.88989,     0.89089,     0.89189,     0.89289,     0.89389,     0.89489,      0.8959,      0.8969,      0.8979,      0.8989,      0.8999,      0.9009,      0.9019,      0.9029,      0.9039,      0.9049,     0.90591,     0.90691,     0.90791,     0.90891,     0.90991,     0.91091,     0.91191,\n",
              "           0.91291,     0.91391,     0.91491,     0.91592,     0.91692,     0.91792,     0.91892,     0.91992,     0.92092,     0.92192,     0.92292,     0.92392,     0.92492,     0.92593,     0.92693,     0.92793,     0.92893,     0.92993,     0.93093,     0.93193,     0.93293,     0.93393,     0.93493,     0.93594,\n",
              "           0.93694,     0.93794,     0.93894,     0.93994,     0.94094,     0.94194,     0.94294,     0.94394,     0.94494,     0.94595,     0.94695,     0.94795,     0.94895,     0.94995,     0.95095,     0.95195,     0.95295,     0.95395,     0.95495,     0.95596,     0.95696,     0.95796,     0.95896,     0.95996,\n",
              "           0.96096,     0.96196,     0.96296,     0.96396,     0.96496,     0.96597,     0.96697,     0.96797,     0.96897,     0.96997,     0.97097,     0.97197,     0.97297,     0.97397,     0.97497,     0.97598,     0.97698,     0.97798,     0.97898,     0.97998,     0.98098,     0.98198,     0.98298,     0.98398,\n",
              "           0.98498,     0.98599,     0.98699,     0.98799,     0.98899,     0.98999,     0.99099,     0.99199,     0.99299,     0.99399,     0.99499,       0.996,       0.997,       0.998,       0.999,           1]), array([[    0.30208,     0.30208,     0.37661,     0.41772,     0.45118,     0.47352,     0.48953,      0.5037,     0.51862,     0.53004,     0.54102,     0.54742,     0.55185,     0.55813,     0.56303,     0.57328,     0.57947,     0.58586,     0.59127,     0.59402,     0.59538,     0.59727,     0.60015,\n",
              "            0.60151,     0.60767,     0.61252,     0.61573,     0.61859,     0.62052,      0.6225,     0.62609,     0.62706,     0.62803,     0.62933,     0.63155,     0.63482,     0.63601,     0.63994,     0.63972,     0.64109,     0.64399,     0.64625,     0.64844,     0.64821,     0.64852,     0.65026,\n",
              "              0.651,     0.65199,     0.65327,     0.65473,     0.65563,     0.66046,      0.6623,     0.66327,     0.66493,     0.66493,     0.66622,     0.66758,      0.6717,     0.67293,     0.67389,     0.67429,     0.67468,     0.67559,     0.67533,     0.67574,     0.67615,     0.67698,     0.67766,\n",
              "            0.67829,     0.68123,      0.6815,     0.68178,     0.68205,     0.68326,     0.68569,     0.68723,      0.6874,     0.68758,     0.68776,     0.68794,     0.68811,     0.68989,     0.69006,      0.6899,     0.68975,     0.69189,     0.69477,     0.69448,     0.69498,     0.69559,     0.69591,\n",
              "            0.69623,     0.69708,     0.69768,     0.69796,     0.69824,     0.69859,      0.7001,       0.702,     0.70359,     0.70566,     0.70705,     0.70763,      0.7096,     0.71042,     0.71085,     0.71123,     0.71085,     0.71118,     0.71159,     0.71204,      0.7126,     0.71312,     0.71358,\n",
              "            0.71404,     0.71581,     0.71718,     0.71843,     0.71822,     0.71805,     0.71821,     0.71837,     0.71853,      0.7187,     0.71886,     0.71902,     0.72022,     0.72013,     0.72004,     0.71995,     0.71986,     0.72007,     0.72056,     0.72161,       0.722,     0.72193,     0.72187,\n",
              "            0.72181,     0.72175,     0.72169,     0.72162,     0.72203,      0.7225,     0.72301,     0.72359,     0.72498,      0.7252,     0.72587,     0.72616,     0.72645,     0.72675,     0.72709,     0.72747,     0.72784,     0.73026,     0.73005,      0.7299,     0.73062,     0.73151,     0.73305,\n",
              "            0.73726,     0.73874,     0.73938,      0.7396,     0.73982,     0.74004,     0.74026,     0.74086,     0.74289,     0.74325,     0.74362,       0.744,      0.7447,     0.74534,     0.74586,     0.74845,     0.74953,     0.74941,     0.74929,     0.74916,     0.74893,     0.74881,      0.7489,\n",
              "              0.749,      0.7491,      0.7492,      0.7493,      0.7494,     0.74949,     0.74959,     0.74969,     0.74979,     0.74989,     0.74999,     0.75086,     0.75153,     0.75202,     0.75249,      0.7529,      0.7533,     0.75375,     0.75514,     0.75562,     0.75611,     0.75642,     0.75669,\n",
              "            0.75697,     0.75725,     0.75738,     0.75726,     0.75713,     0.75733,     0.75813,     0.75826,      0.7596,     0.76047,     0.76097,     0.76146,     0.76223,     0.76309,     0.76371,     0.76424,     0.76442,     0.76459,     0.76476,     0.76493,      0.7651,     0.76528,     0.76545,\n",
              "            0.76595,     0.76657,     0.76795,      0.7694,     0.76958,     0.76976,     0.76995,     0.77013,     0.77031,      0.7705,     0.77064,     0.77053,     0.77042,     0.77032,     0.77042,     0.77069,     0.77095,     0.77121,     0.77147,     0.77167,     0.77183,     0.77199,     0.77215,\n",
              "            0.77231,     0.77247,     0.77263,     0.77279,     0.77294,     0.77307,     0.77321,     0.77334,     0.77348,     0.77361,     0.77374,     0.77388,     0.77401,     0.77415,     0.77442,     0.77476,     0.77509,     0.77543,      0.7762,     0.77737,     0.77968,     0.78002,     0.78037,\n",
              "            0.78071,     0.78174,     0.78207,     0.78195,     0.78182,     0.78284,     0.78325,     0.78341,     0.78356,     0.78371,     0.78387,     0.78402,     0.78418,     0.78433,      0.7845,      0.7859,     0.78611,     0.78633,     0.78654,     0.78675,     0.78697,     0.78718,      0.7871,\n",
              "            0.78699,     0.78688,     0.78681,     0.78678,     0.78674,     0.78671,     0.78667,     0.78664,      0.7866,     0.78657,     0.78653,      0.7865,     0.78647,     0.78709,     0.78782,     0.78775,     0.78768,      0.7876,     0.78753,     0.78746,     0.78823,     0.78931,     0.79063,\n",
              "            0.79144,     0.79129,     0.79101,     0.79219,     0.79201,     0.79233,     0.79265,     0.79297,     0.79329,     0.79387,     0.79444,     0.79499,     0.79551,     0.79604,     0.79598,     0.79584,     0.79576,     0.79589,     0.79601,     0.79613,     0.79626,     0.79638,      0.7965,\n",
              "            0.79663,     0.79675,     0.79687,       0.797,     0.79712,      0.7968,     0.79822,      0.7984,     0.79857,     0.79875,     0.79893,     0.79911,     0.79928,     0.79946,     0.79964,     0.80072,     0.80126,      0.8018,      0.8022,     0.80232,     0.80245,     0.80257,     0.80269,\n",
              "            0.80282,     0.80294,     0.80306,     0.80319,     0.80331,     0.80343,     0.80356,     0.80502,     0.80498,     0.80493,     0.80488,     0.80483,     0.80478,     0.80474,     0.80493,     0.80567,     0.80635,      0.8069,     0.80744,     0.80813,     0.80888,     0.80971,     0.81058,\n",
              "            0.81203,     0.81328,     0.81469,     0.81484,     0.81498,     0.81513,     0.81528,     0.81542,     0.81557,     0.81571,     0.81586,     0.81601,     0.81615,     0.81612,     0.81604,     0.81597,      0.8159,     0.81583,     0.81578,     0.81572,     0.81567,     0.81562,     0.81557,\n",
              "            0.81552,     0.81646,     0.81696,     0.81689,     0.81682,     0.81675,     0.81668,     0.81878,     0.81956,     0.82017,     0.82074,     0.82126,     0.82148,     0.82171,     0.82193,     0.82216,     0.82238,      0.8226,     0.82259,     0.82312,     0.82364,     0.82392,      0.8238,\n",
              "            0.82368,     0.82378,     0.82398,     0.82417,     0.82437,     0.82457,     0.82477,     0.82497,     0.82517,     0.82554,     0.82594,     0.82634,     0.82674,      0.8267,     0.82667,     0.82663,     0.82659,     0.82655,     0.82651,     0.82647,     0.82644,      0.8264,     0.82638,\n",
              "            0.82636,     0.82633,     0.82631,     0.82628,     0.82626,     0.82624,     0.82621,     0.82619,     0.82616,     0.82614,     0.82612,     0.82609,     0.82896,     0.82881,      0.8287,     0.82858,     0.83001,     0.83164,     0.83169,     0.83163,     0.83158,     0.83152,     0.83147,\n",
              "            0.83149,      0.8323,       0.833,     0.83289,     0.83278,     0.83281,     0.83335,      0.8339,     0.83476,     0.83596,     0.83612,     0.83629,     0.83646,     0.83662,     0.83679,     0.83695,     0.83712,     0.83728,     0.83745,     0.83798,     0.83881,     0.83927,     0.83948,\n",
              "            0.83969,      0.8399,     0.84011,     0.84032,     0.84052,     0.84073,     0.84097,     0.84121,     0.84145,     0.84169,     0.84192,     0.84216,      0.8424,     0.84322,     0.84408,     0.84572,     0.84629,     0.84686,     0.84745,      0.8483,     0.84929,     0.85085,      0.8517,\n",
              "            0.85234,     0.85224,     0.85214,      0.8526,     0.85366,     0.85336,     0.85306,     0.85282,     0.85267,     0.85245,     0.85214,     0.85243,     0.85272,     0.85301,     0.85331,      0.8536,     0.85568,     0.85656,     0.85681,     0.85673,     0.85666,     0.85658,     0.85684,\n",
              "            0.85719,     0.85755,     0.85791,     0.85826,     0.85822,     0.85814,     0.85806,     0.85794,     0.85838,     0.85883,     0.85928,     0.85957,     0.85975,     0.85993,     0.86011,     0.86029,     0.86047,     0.86065,     0.86083,     0.86101,     0.86119,      0.8627,      0.8635,\n",
              "             0.8641,      0.8647,     0.86642,     0.87005,     0.86998,     0.86992,     0.86986,     0.87085,     0.87181,     0.87212,     0.87243,     0.87274,     0.87305,     0.87336,     0.87335,     0.87321,     0.87366,     0.87428,      0.8749,     0.87728,     0.87782,     0.87835,     0.87855,\n",
              "            0.87838,     0.87831,     0.87825,     0.87818,     0.87812,     0.87805,     0.87798,     0.87792,     0.87817,     0.87859,     0.87901,     0.87943,     0.87968,     0.87976,     0.88072,     0.88362,     0.88485,      0.8848,     0.88475,     0.88471,     0.88466,     0.88462,     0.88628,\n",
              "            0.88726,      0.8883,     0.89218,     0.89403,     0.89482,     0.89562,      0.8958,     0.89568,     0.89569,     0.89605,     0.89642,     0.89678,     0.89715,     0.89752,     0.89852,     0.89911,     0.89909,     0.89907,     0.89905,     0.89903,     0.89901,     0.89899,     0.89897,\n",
              "            0.89895,     0.89893,     0.89891,     0.89884,     0.89875,     0.89884,     0.89952,     0.90019,     0.90059,     0.90181,     0.90196,      0.9019,     0.90184,     0.90179,     0.90196,     0.90237,     0.90279,      0.9032,     0.90372,     0.90775,      0.9088,     0.90949,     0.90943,\n",
              "            0.90937,     0.90931,     0.90974,     0.91034,     0.91095,     0.91163,     0.91248,     0.91333,     0.91326,     0.91312,     0.91534,     0.91582,      0.9163,     0.91678,     0.91733,     0.91938,     0.91969,        0.92,     0.92031,     0.92062,     0.92093,     0.92124,     0.92147,\n",
              "            0.92145,     0.92142,      0.9214,     0.92137,     0.92135,     0.92132,      0.9213,     0.92313,     0.92505,     0.92502,       0.925,     0.92498,     0.92495,     0.92493,      0.9249,     0.92487,     0.92478,     0.92499,     0.92648,     0.92633,     0.92628,     0.92623,     0.92648,\n",
              "              0.928,      0.9282,     0.92816,     0.92813,     0.92809,     0.92806,     0.92936,     0.93009,     0.93003,     0.92998,     0.93062,     0.93177,     0.93197,      0.9317,     0.93166,     0.93163,     0.93159,     0.93155,     0.93275,     0.93381,     0.93376,     0.93371,     0.93367,\n",
              "            0.93591,     0.93586,      0.9358,     0.93575,      0.9357,     0.93532,     0.93521,      0.9351,     0.93482,     0.93471,     0.93444,     0.93432,     0.93421,     0.93409,     0.93398,     0.93387,     0.93375,     0.93346,     0.93335,      0.9353,     0.93745,     0.93734,     0.93728,\n",
              "            0.93723,     0.93684,     0.93673,     0.93661,     0.93547,      0.9353,     0.93518,      0.9347,     0.93714,     0.93702,     0.93931,     0.93921,     0.93915,      0.9391,     0.93979,     0.94616,      0.9461,     0.94605,     0.94582,     0.94572,     0.94525,     0.94514,     0.94487,\n",
              "            0.94751,     0.94741,     0.94696,     0.94949,     0.94939,     0.94928,      0.9513,     0.95159,     0.95134,     0.95124,      0.9511,     0.95391,     0.95443,     0.95645,     0.95599,     0.95532,     0.95506,       0.956,     0.95779,     0.95765,     0.95756,     0.96032,     0.95981,\n",
              "             0.9602,     0.96295,     0.96286,     0.96236,     0.96229,     0.96224,     0.96165,     0.96155,     0.96088,     0.96231,     0.96358,     0.96318,     0.96222,     0.96212,     0.96899,     0.96887,     0.96879,     0.96856,     0.96792,     0.96756,     0.96733,     0.96692,     0.96666,\n",
              "             0.9666,     0.96654,     0.97049,      0.9827,     0.98258,     0.98255,     0.98235,     0.98652,     0.98627,     0.98583,     0.98578,      0.9901,     0.98969,     0.98963,     0.98952,     0.98947,     0.98918,     0.98888,     0.98884,     0.98866,     0.98846,     0.98807,     0.98803,\n",
              "            0.98789,     0.98774,     0.98751,     0.98711,     0.98685,     0.98631,     0.98582,     0.98577,     0.98571,     0.98484,     0.98431,     0.98393,     0.98339,      0.9831,     0.98236,     0.98119,     0.98026,     0.97912,     0.97889,     0.97843,     0.97795,     0.97762,     0.98694,\n",
              "            0.98839,     0.98811,     0.98727,     0.98694,     0.98593,     0.98508,     0.98484,     0.98437,      0.9842,     0.98397,     0.98322,     0.98296,     0.98225,     0.98051,      0.9795,     0.97895,     0.97837,     0.97658,     0.97459,     0.97407,     0.97373,     0.97175,     0.97072,\n",
              "            0.97017,     0.96971,     0.96774,     0.96487,     0.96392,     0.96325,      0.9624,     0.96116,           1,           1,           1,           1,           1,           1,           1,           1,           1,           1,           1,           1,           1,           1,           1,\n",
              "                  1,           1,           1,           1,           1,           1,           1,           1,           1,           1,           1,           1,           1,           1,           1,           1,           1,           1,           1,           1,           1,           1,           1,\n",
              "                  1,           1,           1,           1,           1,           1,           1,           1,           1,           1,           1,           1,           1,           1,           1,           1,           1,           1,           1,           1,           1,           1,           1,\n",
              "                  1,           1,           1,           1,           1,           1,           1,           1,           1,           1,           1,           1,           1,           1,           1,           1,           1,           1,           1,           1,           1,           1,           1,\n",
              "                  1,           1,           1,           1,           1,           1,           1,           1,           1,           1,           1]]), 'Confidence', 'Precision'], [array([          0,    0.001001,    0.002002,    0.003003,    0.004004,    0.005005,    0.006006,    0.007007,    0.008008,    0.009009,     0.01001,    0.011011,    0.012012,    0.013013,    0.014014,    0.015015,    0.016016,    0.017017,    0.018018,    0.019019,     0.02002,    0.021021,    0.022022,    0.023023,\n",
              "          0.024024,    0.025025,    0.026026,    0.027027,    0.028028,    0.029029,     0.03003,    0.031031,    0.032032,    0.033033,    0.034034,    0.035035,    0.036036,    0.037037,    0.038038,    0.039039,     0.04004,    0.041041,    0.042042,    0.043043,    0.044044,    0.045045,    0.046046,    0.047047,\n",
              "          0.048048,    0.049049,     0.05005,    0.051051,    0.052052,    0.053053,    0.054054,    0.055055,    0.056056,    0.057057,    0.058058,    0.059059,     0.06006,    0.061061,    0.062062,    0.063063,    0.064064,    0.065065,    0.066066,    0.067067,    0.068068,    0.069069,     0.07007,    0.071071,\n",
              "          0.072072,    0.073073,    0.074074,    0.075075,    0.076076,    0.077077,    0.078078,    0.079079,     0.08008,    0.081081,    0.082082,    0.083083,    0.084084,    0.085085,    0.086086,    0.087087,    0.088088,    0.089089,     0.09009,    0.091091,    0.092092,    0.093093,    0.094094,    0.095095,\n",
              "          0.096096,    0.097097,    0.098098,    0.099099,      0.1001,      0.1011,      0.1021,      0.1031,      0.1041,     0.10511,     0.10611,     0.10711,     0.10811,     0.10911,     0.11011,     0.11111,     0.11211,     0.11311,     0.11411,     0.11512,     0.11612,     0.11712,     0.11812,     0.11912,\n",
              "           0.12012,     0.12112,     0.12212,     0.12312,     0.12412,     0.12513,     0.12613,     0.12713,     0.12813,     0.12913,     0.13013,     0.13113,     0.13213,     0.13313,     0.13413,     0.13514,     0.13614,     0.13714,     0.13814,     0.13914,     0.14014,     0.14114,     0.14214,     0.14314,\n",
              "           0.14414,     0.14515,     0.14615,     0.14715,     0.14815,     0.14915,     0.15015,     0.15115,     0.15215,     0.15315,     0.15415,     0.15516,     0.15616,     0.15716,     0.15816,     0.15916,     0.16016,     0.16116,     0.16216,     0.16316,     0.16416,     0.16517,     0.16617,     0.16717,\n",
              "           0.16817,     0.16917,     0.17017,     0.17117,     0.17217,     0.17317,     0.17417,     0.17518,     0.17618,     0.17718,     0.17818,     0.17918,     0.18018,     0.18118,     0.18218,     0.18318,     0.18418,     0.18519,     0.18619,     0.18719,     0.18819,     0.18919,     0.19019,     0.19119,\n",
              "           0.19219,     0.19319,     0.19419,      0.1952,      0.1962,      0.1972,      0.1982,      0.1992,      0.2002,      0.2012,      0.2022,      0.2032,      0.2042,     0.20521,     0.20621,     0.20721,     0.20821,     0.20921,     0.21021,     0.21121,     0.21221,     0.21321,     0.21421,     0.21522,\n",
              "           0.21622,     0.21722,     0.21822,     0.21922,     0.22022,     0.22122,     0.22222,     0.22322,     0.22422,     0.22523,     0.22623,     0.22723,     0.22823,     0.22923,     0.23023,     0.23123,     0.23223,     0.23323,     0.23423,     0.23524,     0.23624,     0.23724,     0.23824,     0.23924,\n",
              "           0.24024,     0.24124,     0.24224,     0.24324,     0.24424,     0.24525,     0.24625,     0.24725,     0.24825,     0.24925,     0.25025,     0.25125,     0.25225,     0.25325,     0.25425,     0.25526,     0.25626,     0.25726,     0.25826,     0.25926,     0.26026,     0.26126,     0.26226,     0.26326,\n",
              "           0.26426,     0.26527,     0.26627,     0.26727,     0.26827,     0.26927,     0.27027,     0.27127,     0.27227,     0.27327,     0.27427,     0.27528,     0.27628,     0.27728,     0.27828,     0.27928,     0.28028,     0.28128,     0.28228,     0.28328,     0.28428,     0.28529,     0.28629,     0.28729,\n",
              "           0.28829,     0.28929,     0.29029,     0.29129,     0.29229,     0.29329,     0.29429,      0.2953,      0.2963,      0.2973,      0.2983,      0.2993,      0.3003,      0.3013,      0.3023,      0.3033,      0.3043,     0.30531,     0.30631,     0.30731,     0.30831,     0.30931,     0.31031,     0.31131,\n",
              "           0.31231,     0.31331,     0.31431,     0.31532,     0.31632,     0.31732,     0.31832,     0.31932,     0.32032,     0.32132,     0.32232,     0.32332,     0.32432,     0.32533,     0.32633,     0.32733,     0.32833,     0.32933,     0.33033,     0.33133,     0.33233,     0.33333,     0.33433,     0.33534,\n",
              "           0.33634,     0.33734,     0.33834,     0.33934,     0.34034,     0.34134,     0.34234,     0.34334,     0.34434,     0.34535,     0.34635,     0.34735,     0.34835,     0.34935,     0.35035,     0.35135,     0.35235,     0.35335,     0.35435,     0.35536,     0.35636,     0.35736,     0.35836,     0.35936,\n",
              "           0.36036,     0.36136,     0.36236,     0.36336,     0.36436,     0.36537,     0.36637,     0.36737,     0.36837,     0.36937,     0.37037,     0.37137,     0.37237,     0.37337,     0.37437,     0.37538,     0.37638,     0.37738,     0.37838,     0.37938,     0.38038,     0.38138,     0.38238,     0.38338,\n",
              "           0.38438,     0.38539,     0.38639,     0.38739,     0.38839,     0.38939,     0.39039,     0.39139,     0.39239,     0.39339,     0.39439,      0.3954,      0.3964,      0.3974,      0.3984,      0.3994,      0.4004,      0.4014,      0.4024,      0.4034,      0.4044,     0.40541,     0.40641,     0.40741,\n",
              "           0.40841,     0.40941,     0.41041,     0.41141,     0.41241,     0.41341,     0.41441,     0.41542,     0.41642,     0.41742,     0.41842,     0.41942,     0.42042,     0.42142,     0.42242,     0.42342,     0.42442,     0.42543,     0.42643,     0.42743,     0.42843,     0.42943,     0.43043,     0.43143,\n",
              "           0.43243,     0.43343,     0.43443,     0.43544,     0.43644,     0.43744,     0.43844,     0.43944,     0.44044,     0.44144,     0.44244,     0.44344,     0.44444,     0.44545,     0.44645,     0.44745,     0.44845,     0.44945,     0.45045,     0.45145,     0.45245,     0.45345,     0.45445,     0.45546,\n",
              "           0.45646,     0.45746,     0.45846,     0.45946,     0.46046,     0.46146,     0.46246,     0.46346,     0.46446,     0.46547,     0.46647,     0.46747,     0.46847,     0.46947,     0.47047,     0.47147,     0.47247,     0.47347,     0.47447,     0.47548,     0.47648,     0.47748,     0.47848,     0.47948,\n",
              "           0.48048,     0.48148,     0.48248,     0.48348,     0.48448,     0.48549,     0.48649,     0.48749,     0.48849,     0.48949,     0.49049,     0.49149,     0.49249,     0.49349,     0.49449,      0.4955,      0.4965,      0.4975,      0.4985,      0.4995,      0.5005,      0.5015,      0.5025,      0.5035,\n",
              "            0.5045,     0.50551,     0.50651,     0.50751,     0.50851,     0.50951,     0.51051,     0.51151,     0.51251,     0.51351,     0.51451,     0.51552,     0.51652,     0.51752,     0.51852,     0.51952,     0.52052,     0.52152,     0.52252,     0.52352,     0.52452,     0.52553,     0.52653,     0.52753,\n",
              "           0.52853,     0.52953,     0.53053,     0.53153,     0.53253,     0.53353,     0.53453,     0.53554,     0.53654,     0.53754,     0.53854,     0.53954,     0.54054,     0.54154,     0.54254,     0.54354,     0.54454,     0.54555,     0.54655,     0.54755,     0.54855,     0.54955,     0.55055,     0.55155,\n",
              "           0.55255,     0.55355,     0.55455,     0.55556,     0.55656,     0.55756,     0.55856,     0.55956,     0.56056,     0.56156,     0.56256,     0.56356,     0.56456,     0.56557,     0.56657,     0.56757,     0.56857,     0.56957,     0.57057,     0.57157,     0.57257,     0.57357,     0.57457,     0.57558,\n",
              "           0.57658,     0.57758,     0.57858,     0.57958,     0.58058,     0.58158,     0.58258,     0.58358,     0.58458,     0.58559,     0.58659,     0.58759,     0.58859,     0.58959,     0.59059,     0.59159,     0.59259,     0.59359,     0.59459,      0.5956,      0.5966,      0.5976,      0.5986,      0.5996,\n",
              "            0.6006,      0.6016,      0.6026,      0.6036,      0.6046,     0.60561,     0.60661,     0.60761,     0.60861,     0.60961,     0.61061,     0.61161,     0.61261,     0.61361,     0.61461,     0.61562,     0.61662,     0.61762,     0.61862,     0.61962,     0.62062,     0.62162,     0.62262,     0.62362,\n",
              "           0.62462,     0.62563,     0.62663,     0.62763,     0.62863,     0.62963,     0.63063,     0.63163,     0.63263,     0.63363,     0.63463,     0.63564,     0.63664,     0.63764,     0.63864,     0.63964,     0.64064,     0.64164,     0.64264,     0.64364,     0.64464,     0.64565,     0.64665,     0.64765,\n",
              "           0.64865,     0.64965,     0.65065,     0.65165,     0.65265,     0.65365,     0.65465,     0.65566,     0.65666,     0.65766,     0.65866,     0.65966,     0.66066,     0.66166,     0.66266,     0.66366,     0.66466,     0.66567,     0.66667,     0.66767,     0.66867,     0.66967,     0.67067,     0.67167,\n",
              "           0.67267,     0.67367,     0.67467,     0.67568,     0.67668,     0.67768,     0.67868,     0.67968,     0.68068,     0.68168,     0.68268,     0.68368,     0.68468,     0.68569,     0.68669,     0.68769,     0.68869,     0.68969,     0.69069,     0.69169,     0.69269,     0.69369,     0.69469,      0.6957,\n",
              "            0.6967,      0.6977,      0.6987,      0.6997,      0.7007,      0.7017,      0.7027,      0.7037,      0.7047,     0.70571,     0.70671,     0.70771,     0.70871,     0.70971,     0.71071,     0.71171,     0.71271,     0.71371,     0.71471,     0.71572,     0.71672,     0.71772,     0.71872,     0.71972,\n",
              "           0.72072,     0.72172,     0.72272,     0.72372,     0.72472,     0.72573,     0.72673,     0.72773,     0.72873,     0.72973,     0.73073,     0.73173,     0.73273,     0.73373,     0.73473,     0.73574,     0.73674,     0.73774,     0.73874,     0.73974,     0.74074,     0.74174,     0.74274,     0.74374,\n",
              "           0.74474,     0.74575,     0.74675,     0.74775,     0.74875,     0.74975,     0.75075,     0.75175,     0.75275,     0.75375,     0.75475,     0.75576,     0.75676,     0.75776,     0.75876,     0.75976,     0.76076,     0.76176,     0.76276,     0.76376,     0.76476,     0.76577,     0.76677,     0.76777,\n",
              "           0.76877,     0.76977,     0.77077,     0.77177,     0.77277,     0.77377,     0.77477,     0.77578,     0.77678,     0.77778,     0.77878,     0.77978,     0.78078,     0.78178,     0.78278,     0.78378,     0.78478,     0.78579,     0.78679,     0.78779,     0.78879,     0.78979,     0.79079,     0.79179,\n",
              "           0.79279,     0.79379,     0.79479,      0.7958,      0.7968,      0.7978,      0.7988,      0.7998,      0.8008,      0.8018,      0.8028,      0.8038,      0.8048,     0.80581,     0.80681,     0.80781,     0.80881,     0.80981,     0.81081,     0.81181,     0.81281,     0.81381,     0.81481,     0.81582,\n",
              "           0.81682,     0.81782,     0.81882,     0.81982,     0.82082,     0.82182,     0.82282,     0.82382,     0.82482,     0.82583,     0.82683,     0.82783,     0.82883,     0.82983,     0.83083,     0.83183,     0.83283,     0.83383,     0.83483,     0.83584,     0.83684,     0.83784,     0.83884,     0.83984,\n",
              "           0.84084,     0.84184,     0.84284,     0.84384,     0.84484,     0.84585,     0.84685,     0.84785,     0.84885,     0.84985,     0.85085,     0.85185,     0.85285,     0.85385,     0.85485,     0.85586,     0.85686,     0.85786,     0.85886,     0.85986,     0.86086,     0.86186,     0.86286,     0.86386,\n",
              "           0.86486,     0.86587,     0.86687,     0.86787,     0.86887,     0.86987,     0.87087,     0.87187,     0.87287,     0.87387,     0.87487,     0.87588,     0.87688,     0.87788,     0.87888,     0.87988,     0.88088,     0.88188,     0.88288,     0.88388,     0.88488,     0.88589,     0.88689,     0.88789,\n",
              "           0.88889,     0.88989,     0.89089,     0.89189,     0.89289,     0.89389,     0.89489,      0.8959,      0.8969,      0.8979,      0.8989,      0.8999,      0.9009,      0.9019,      0.9029,      0.9039,      0.9049,     0.90591,     0.90691,     0.90791,     0.90891,     0.90991,     0.91091,     0.91191,\n",
              "           0.91291,     0.91391,     0.91491,     0.91592,     0.91692,     0.91792,     0.91892,     0.91992,     0.92092,     0.92192,     0.92292,     0.92392,     0.92492,     0.92593,     0.92693,     0.92793,     0.92893,     0.92993,     0.93093,     0.93193,     0.93293,     0.93393,     0.93493,     0.93594,\n",
              "           0.93694,     0.93794,     0.93894,     0.93994,     0.94094,     0.94194,     0.94294,     0.94394,     0.94494,     0.94595,     0.94695,     0.94795,     0.94895,     0.94995,     0.95095,     0.95195,     0.95295,     0.95395,     0.95495,     0.95596,     0.95696,     0.95796,     0.95896,     0.95996,\n",
              "           0.96096,     0.96196,     0.96296,     0.96396,     0.96496,     0.96597,     0.96697,     0.96797,     0.96897,     0.96997,     0.97097,     0.97197,     0.97297,     0.97397,     0.97497,     0.97598,     0.97698,     0.97798,     0.97898,     0.97998,     0.98098,     0.98198,     0.98298,     0.98398,\n",
              "           0.98498,     0.98599,     0.98699,     0.98799,     0.98899,     0.98999,     0.99099,     0.99199,     0.99299,     0.99399,     0.99499,       0.996,       0.997,       0.998,       0.999,           1]), array([[    0.93371,     0.93371,     0.92992,     0.92803,     0.92803,     0.92803,     0.92614,     0.92424,     0.92424,     0.92424,     0.92424,     0.92424,     0.92235,     0.92235,     0.92235,     0.92235,     0.92045,     0.92045,     0.92045,     0.92045,     0.91856,     0.91856,     0.91856,\n",
              "            0.91482,     0.91477,     0.91477,     0.91477,     0.91288,     0.91288,     0.91098,     0.91098,     0.90909,      0.9072,      0.9072,      0.9072,      0.9072,      0.9072,      0.9072,     0.90463,     0.90341,     0.90341,     0.90152,     0.90127,     0.90036,     0.89962,     0.89962,\n",
              "            0.89962,     0.89962,     0.89962,     0.89962,     0.89962,     0.89962,     0.89962,     0.89962,     0.89962,     0.89773,     0.89773,     0.89773,     0.89583,     0.89205,     0.89205,     0.89205,     0.89205,     0.89137,     0.89015,     0.89015,     0.89015,     0.89015,     0.89015,\n",
              "            0.89015,     0.89015,     0.89015,     0.89015,     0.89015,     0.89015,     0.89015,     0.89015,     0.89015,     0.89015,     0.89015,     0.89015,     0.89015,     0.89015,     0.88972,     0.88908,     0.88845,     0.88826,     0.88805,     0.88686,     0.88636,     0.88636,     0.88636,\n",
              "            0.88636,     0.88636,     0.88636,     0.88636,     0.88636,     0.88636,     0.88636,     0.88636,     0.88636,     0.88636,     0.88636,     0.88636,     0.88636,     0.88636,     0.88636,     0.88628,     0.88464,     0.88447,     0.88447,     0.88447,     0.88447,     0.88447,     0.88447,\n",
              "            0.88447,     0.88447,     0.88447,     0.88434,      0.8834,     0.88258,     0.88258,     0.88258,     0.88258,     0.88258,     0.88258,     0.88258,     0.88246,     0.88206,     0.88166,     0.88126,     0.88087,     0.88068,     0.88068,     0.88068,     0.88045,     0.88018,      0.8799,\n",
              "            0.87963,     0.87936,     0.87909,     0.87881,     0.87879,     0.87879,     0.87879,     0.87879,     0.87868,     0.87689,     0.87689,     0.87689,     0.87689,     0.87689,     0.87689,     0.87689,     0.87689,     0.87678,     0.87587,       0.875,       0.875,       0.875,       0.875,\n",
              "              0.875,       0.875,       0.875,       0.875,       0.875,       0.875,       0.875,       0.875,       0.875,       0.875,       0.875,       0.875,       0.875,       0.875,       0.875,     0.87311,     0.87281,     0.87225,      0.8717,     0.87108,     0.87005,     0.86932,     0.86932,\n",
              "            0.86932,     0.86932,     0.86932,     0.86932,     0.86932,     0.86932,     0.86932,     0.86932,     0.86932,     0.86932,     0.86932,     0.86932,     0.86932,     0.86932,     0.86932,     0.86932,     0.86932,     0.86932,     0.86932,     0.86932,     0.86932,     0.86932,     0.86932,\n",
              "            0.86932,     0.86932,     0.86911,     0.86851,     0.86792,     0.86742,     0.86673,     0.86553,     0.86553,     0.86553,     0.86553,     0.86553,     0.86553,     0.86553,     0.86553,     0.86553,     0.86553,     0.86553,     0.86553,     0.86553,     0.86553,     0.86553,     0.86553,\n",
              "            0.86553,     0.86553,     0.86553,     0.86553,     0.86553,     0.86553,     0.86553,     0.86553,     0.86553,     0.86553,     0.86546,     0.86493,     0.86439,     0.86386,     0.86364,     0.86364,     0.86364,     0.86364,     0.86364,     0.86364,     0.86364,     0.86364,     0.86364,\n",
              "            0.86364,     0.86364,     0.86364,     0.86364,     0.86364,     0.86364,     0.86364,     0.86364,     0.86364,     0.86364,     0.86364,     0.86364,     0.86364,     0.86364,     0.86364,     0.86364,     0.86364,     0.86364,     0.86364,     0.86364,     0.86364,     0.86364,     0.86364,\n",
              "            0.86364,     0.86364,     0.86319,     0.86254,      0.8619,     0.86174,     0.86174,     0.86174,     0.86174,     0.86174,     0.86174,     0.86174,     0.86174,     0.86174,     0.86174,     0.86174,     0.86174,     0.86174,     0.86174,     0.86174,     0.86174,     0.86174,     0.86122,\n",
              "            0.86067,     0.86011,     0.85976,     0.85958,      0.8594,     0.85923,     0.85905,     0.85887,      0.8587,     0.85852,     0.85834,     0.85817,     0.85799,     0.85795,     0.85792,     0.85755,     0.85719,     0.85682,     0.85645,     0.85608,     0.85606,     0.85606,     0.85606,\n",
              "            0.85606,     0.85448,     0.85227,     0.85194,     0.85038,     0.85038,     0.85038,     0.85038,     0.85038,     0.85038,     0.85038,     0.85038,     0.85038,     0.85038,     0.84975,     0.84905,     0.84848,     0.84848,     0.84848,     0.84848,     0.84848,     0.84848,     0.84848,\n",
              "            0.84848,     0.84848,     0.84848,     0.84848,     0.84848,     0.84659,     0.84659,     0.84659,     0.84659,     0.84659,     0.84659,     0.84659,     0.84659,     0.84659,     0.84659,      0.8447,      0.8447,      0.8447,      0.8447,      0.8447,      0.8447,      0.8447,      0.8447,\n",
              "             0.8447,      0.8447,      0.8447,      0.8447,      0.8447,      0.8447,      0.8447,     0.84454,     0.84428,     0.84402,     0.84376,      0.8435,     0.84324,     0.84298,      0.8428,      0.8428,      0.8428,      0.8428,      0.8428,      0.8428,      0.8428,      0.8428,      0.8428,\n",
              "            0.84274,     0.84091,     0.84091,     0.84091,     0.84091,     0.84091,     0.84091,     0.84091,     0.84091,     0.84091,     0.84091,     0.84091,     0.84091,     0.84057,     0.84016,     0.83975,     0.83934,     0.83896,     0.83867,     0.83838,     0.83809,     0.83781,     0.83752,\n",
              "            0.83723,     0.83712,     0.83687,     0.83648,     0.83609,     0.83571,     0.83532,     0.83523,     0.83523,     0.83523,     0.83523,     0.83523,     0.83523,     0.83523,     0.83523,     0.83523,     0.83523,     0.83523,     0.83333,     0.83333,     0.83333,     0.83307,     0.83236,\n",
              "            0.83166,     0.83144,     0.83144,     0.83144,     0.83144,     0.83144,     0.83144,     0.83144,     0.83144,     0.83144,     0.83144,     0.83144,     0.83144,     0.83122,       0.831,     0.83078,     0.83055,     0.83033,     0.83011,     0.82989,     0.82967,     0.82948,     0.82934,\n",
              "            0.82921,     0.82907,     0.82893,     0.82879,     0.82865,     0.82851,     0.82837,     0.82824,      0.8281,     0.82796,     0.82782,     0.82768,     0.82611,     0.82523,     0.82458,     0.82394,     0.82386,     0.82386,     0.82356,     0.82324,     0.82291,     0.82259,     0.82227,\n",
              "            0.82197,     0.82197,     0.82188,     0.82124,     0.82059,     0.82008,     0.82008,     0.82008,     0.82008,     0.82008,     0.82008,     0.82008,     0.82008,     0.82008,     0.82008,     0.82008,     0.82008,     0.82008,     0.82008,     0.82008,     0.82008,     0.82008,     0.82008,\n",
              "            0.82008,     0.82008,     0.82008,     0.82008,     0.82008,     0.82008,     0.82008,     0.82008,     0.82008,     0.82008,     0.82008,     0.82008,     0.82008,     0.82008,     0.82008,     0.82008,     0.82008,     0.82008,     0.82008,     0.82008,     0.82008,     0.82008,     0.82008,\n",
              "            0.81993,     0.81928,     0.81863,     0.81818,     0.81754,      0.8156,     0.81366,     0.81211,     0.81114,     0.80973,     0.80682,     0.80682,     0.80682,     0.80682,     0.80682,     0.80682,     0.80492,     0.80492,      0.8046,     0.80411,     0.80363,     0.80314,     0.80303,\n",
              "            0.80303,     0.80303,     0.80303,     0.80303,     0.80254,     0.80198,     0.80143,     0.79924,     0.79924,     0.79924,     0.79924,     0.79924,     0.79924,     0.79924,     0.79924,     0.79924,     0.79924,     0.79924,     0.79924,     0.79924,     0.79924,     0.79924,     0.79924,\n",
              "            0.79924,     0.79924,     0.79924,     0.79884,     0.79841,     0.79797,     0.79754,     0.79735,     0.79735,     0.79735,     0.79735,     0.79735,     0.79735,     0.79735,     0.79665,     0.79568,     0.79545,     0.79545,     0.79545,     0.79545,     0.79545,     0.79545,     0.79462,\n",
              "            0.79334,     0.79286,     0.79237,     0.79188,      0.7914,     0.79091,     0.79043,     0.78994,     0.78977,     0.78977,     0.78977,     0.78977,     0.78927,     0.78788,     0.78788,     0.78598,     0.78586,     0.78551,     0.78515,      0.7848,     0.78445,     0.78409,      0.7822,\n",
              "             0.7822,      0.7822,      0.7822,      0.7822,      0.7822,      0.7822,     0.78154,     0.78057,     0.77841,     0.77841,     0.77841,     0.77841,     0.77841,     0.77652,     0.77652,     0.77644,     0.77627,     0.77609,     0.77591,     0.77574,     0.77556,     0.77538,     0.77521,\n",
              "            0.77503,     0.77486,     0.77468,      0.7741,     0.77332,     0.77273,     0.77273,     0.77273,     0.77213,     0.77083,     0.76664,     0.76615,     0.76566,     0.76518,     0.76326,     0.76326,     0.76326,     0.76326,     0.76326,     0.76326,     0.76326,     0.76129,     0.76073,\n",
              "            0.76018,     0.75962,     0.75947,     0.75947,     0.75947,     0.75947,     0.75947,     0.75947,     0.75778,     0.75642,     0.75568,     0.75568,     0.75568,     0.75568,     0.75568,     0.75568,     0.75568,     0.75568,     0.75568,     0.75568,     0.75568,     0.75568,     0.75562,\n",
              "            0.75536,      0.7551,     0.75484,     0.75459,     0.75433,     0.75407,     0.75381,     0.75189,     0.74799,     0.74773,     0.74747,     0.74721,     0.74695,     0.74669,     0.74643,     0.74608,     0.74511,     0.74432,     0.74432,     0.73823,     0.73768,     0.73713,     0.73485,\n",
              "            0.73485,     0.73452,     0.73413,     0.73374,     0.73335,     0.73297,     0.73106,     0.73073,     0.73009,     0.72944,     0.72917,     0.72917,     0.72646,     0.72341,     0.72298,     0.72255,     0.72212,     0.72169,     0.72159,     0.72142,     0.72086,     0.72031,     0.71975,\n",
              "            0.71912,     0.71847,     0.71782,     0.71718,     0.71653,     0.71207,     0.71077,     0.70948,     0.70629,       0.705,     0.70181,     0.70051,     0.69922,     0.69792,     0.69663,     0.69534,     0.69404,     0.69085,     0.68956,     0.68448,     0.68129,        0.68,     0.67931,\n",
              "            0.67867,     0.67422,     0.67292,     0.67163,     0.65891,     0.65705,     0.65575,     0.65067,     0.64938,     0.64808,     0.64489,     0.64377,     0.64312,     0.64248,     0.64015,     0.63234,      0.6317,     0.63105,     0.62823,     0.62693,     0.62122,     0.61992,     0.61674,\n",
              "            0.61544,     0.61415,     0.60867,     0.60525,     0.60395,     0.60266,     0.60227,     0.59565,     0.59246,     0.59117,     0.58936,     0.58795,     0.58523,     0.58523,     0.57591,     0.56699,      0.5635,      0.5625,     0.55867,     0.55676,     0.55547,     0.55001,     0.54278,\n",
              "            0.54167,     0.54145,     0.54016,     0.53273,     0.53163,     0.53086,     0.52235,     0.52106,     0.51166,     0.50379,     0.50115,     0.49542,     0.48239,      0.4811,     0.47349,     0.47156,     0.47027,     0.46672,     0.45721,     0.45187,     0.44859,     0.44286,     0.43925,\n",
              "            0.43847,     0.43769,     0.43604,     0.43031,     0.42741,     0.42663,     0.42165,     0.41592,     0.40829,     0.39527,     0.39398,      0.3788,      0.3636,     0.36166,     0.35782,     0.35588,     0.34636,     0.33694,     0.33564,     0.33012,     0.32439,     0.31369,     0.31272,\n",
              "             0.3091,     0.30526,     0.29953,     0.29002,     0.28429,     0.27288,     0.26336,     0.26234,     0.26137,     0.24613,      0.2376,     0.23187,     0.22425,     0.22041,      0.2109,     0.19759,     0.18807,     0.17761,     0.17567,     0.17183,       0.168,     0.16545,     0.16477,\n",
              "            0.16123,     0.15739,     0.14693,     0.14309,     0.13268,     0.12501,     0.12306,     0.11926,     0.11796,     0.11629,     0.11096,     0.10929,     0.10479,     0.09527,    0.090488,    0.088079,    0.085659,    0.078982,    0.072643,    0.071167,    0.070197,    0.065155,    0.062794,\n",
              "           0.061603,    0.060632,    0.056823,    0.052041,    0.050618,    0.049647,    0.048488,    0.046884,    0.043281,    0.041013,    0.038451,    0.032722,    0.031253,     0.02927,    0.025951,    0.022523,    0.021876,    0.021229,    0.015538,    0.014569,    0.013922,    0.013275,    0.012628,\n",
              "            0.01198,   0.0094333,   0.0086568,   0.0078802,   0.0074369,   0.0072085,   0.0069801,   0.0067517,   0.0065233,    0.006295,   0.0060666,   0.0058382,   0.0054777,   0.0048306,   0.0041835,   0.0034861,   0.0027095,    0.001933,           0,           0,           0,           0,           0,\n",
              "                  0,           0,           0,           0,           0,           0,           0,           0,           0,           0,           0,           0,           0,           0,           0,           0,           0,           0,           0,           0,           0,           0,           0,\n",
              "                  0,           0,           0,           0,           0,           0,           0,           0,           0,           0,           0,           0,           0,           0,           0,           0,           0,           0,           0,           0,           0,           0,           0,\n",
              "                  0,           0,           0,           0,           0,           0,           0,           0,           0,           0,           0]]), 'Confidence', 'Recall'], [array([          0,    0.001001,    0.002002,    0.003003,    0.004004,    0.005005,    0.006006,    0.007007,    0.008008,    0.009009,     0.01001,    0.011011,    0.012012,    0.013013,    0.014014,    0.015015,    0.016016,    0.017017,    0.018018,    0.019019,     0.02002,    0.021021,    0.022022,    0.023023,\n",
              "          0.024024,    0.025025,    0.026026,    0.027027,    0.028028,    0.029029,     0.03003,    0.031031,    0.032032,    0.033033,    0.034034,    0.035035,    0.036036,    0.037037,    0.038038,    0.039039,     0.04004,    0.041041,    0.042042,    0.043043,    0.044044,    0.045045,    0.046046,    0.047047,\n",
              "          0.048048,    0.049049,     0.05005,    0.051051,    0.052052,    0.053053,    0.054054,    0.055055,    0.056056,    0.057057,    0.058058,    0.059059,     0.06006,    0.061061,    0.062062,    0.063063,    0.064064,    0.065065,    0.066066,    0.067067,    0.068068,    0.069069,     0.07007,    0.071071,\n",
              "          0.072072,    0.073073,    0.074074,    0.075075,    0.076076,    0.077077,    0.078078,    0.079079,     0.08008,    0.081081,    0.082082,    0.083083,    0.084084,    0.085085,    0.086086,    0.087087,    0.088088,    0.089089,     0.09009,    0.091091,    0.092092,    0.093093,    0.094094,    0.095095,\n",
              "          0.096096,    0.097097,    0.098098,    0.099099,      0.1001,      0.1011,      0.1021,      0.1031,      0.1041,     0.10511,     0.10611,     0.10711,     0.10811,     0.10911,     0.11011,     0.11111,     0.11211,     0.11311,     0.11411,     0.11512,     0.11612,     0.11712,     0.11812,     0.11912,\n",
              "           0.12012,     0.12112,     0.12212,     0.12312,     0.12412,     0.12513,     0.12613,     0.12713,     0.12813,     0.12913,     0.13013,     0.13113,     0.13213,     0.13313,     0.13413,     0.13514,     0.13614,     0.13714,     0.13814,     0.13914,     0.14014,     0.14114,     0.14214,     0.14314,\n",
              "           0.14414,     0.14515,     0.14615,     0.14715,     0.14815,     0.14915,     0.15015,     0.15115,     0.15215,     0.15315,     0.15415,     0.15516,     0.15616,     0.15716,     0.15816,     0.15916,     0.16016,     0.16116,     0.16216,     0.16316,     0.16416,     0.16517,     0.16617,     0.16717,\n",
              "           0.16817,     0.16917,     0.17017,     0.17117,     0.17217,     0.17317,     0.17417,     0.17518,     0.17618,     0.17718,     0.17818,     0.17918,     0.18018,     0.18118,     0.18218,     0.18318,     0.18418,     0.18519,     0.18619,     0.18719,     0.18819,     0.18919,     0.19019,     0.19119,\n",
              "           0.19219,     0.19319,     0.19419,      0.1952,      0.1962,      0.1972,      0.1982,      0.1992,      0.2002,      0.2012,      0.2022,      0.2032,      0.2042,     0.20521,     0.20621,     0.20721,     0.20821,     0.20921,     0.21021,     0.21121,     0.21221,     0.21321,     0.21421,     0.21522,\n",
              "           0.21622,     0.21722,     0.21822,     0.21922,     0.22022,     0.22122,     0.22222,     0.22322,     0.22422,     0.22523,     0.22623,     0.22723,     0.22823,     0.22923,     0.23023,     0.23123,     0.23223,     0.23323,     0.23423,     0.23524,     0.23624,     0.23724,     0.23824,     0.23924,\n",
              "           0.24024,     0.24124,     0.24224,     0.24324,     0.24424,     0.24525,     0.24625,     0.24725,     0.24825,     0.24925,     0.25025,     0.25125,     0.25225,     0.25325,     0.25425,     0.25526,     0.25626,     0.25726,     0.25826,     0.25926,     0.26026,     0.26126,     0.26226,     0.26326,\n",
              "           0.26426,     0.26527,     0.26627,     0.26727,     0.26827,     0.26927,     0.27027,     0.27127,     0.27227,     0.27327,     0.27427,     0.27528,     0.27628,     0.27728,     0.27828,     0.27928,     0.28028,     0.28128,     0.28228,     0.28328,     0.28428,     0.28529,     0.28629,     0.28729,\n",
              "           0.28829,     0.28929,     0.29029,     0.29129,     0.29229,     0.29329,     0.29429,      0.2953,      0.2963,      0.2973,      0.2983,      0.2993,      0.3003,      0.3013,      0.3023,      0.3033,      0.3043,     0.30531,     0.30631,     0.30731,     0.30831,     0.30931,     0.31031,     0.31131,\n",
              "           0.31231,     0.31331,     0.31431,     0.31532,     0.31632,     0.31732,     0.31832,     0.31932,     0.32032,     0.32132,     0.32232,     0.32332,     0.32432,     0.32533,     0.32633,     0.32733,     0.32833,     0.32933,     0.33033,     0.33133,     0.33233,     0.33333,     0.33433,     0.33534,\n",
              "           0.33634,     0.33734,     0.33834,     0.33934,     0.34034,     0.34134,     0.34234,     0.34334,     0.34434,     0.34535,     0.34635,     0.34735,     0.34835,     0.34935,     0.35035,     0.35135,     0.35235,     0.35335,     0.35435,     0.35536,     0.35636,     0.35736,     0.35836,     0.35936,\n",
              "           0.36036,     0.36136,     0.36236,     0.36336,     0.36436,     0.36537,     0.36637,     0.36737,     0.36837,     0.36937,     0.37037,     0.37137,     0.37237,     0.37337,     0.37437,     0.37538,     0.37638,     0.37738,     0.37838,     0.37938,     0.38038,     0.38138,     0.38238,     0.38338,\n",
              "           0.38438,     0.38539,     0.38639,     0.38739,     0.38839,     0.38939,     0.39039,     0.39139,     0.39239,     0.39339,     0.39439,      0.3954,      0.3964,      0.3974,      0.3984,      0.3994,      0.4004,      0.4014,      0.4024,      0.4034,      0.4044,     0.40541,     0.40641,     0.40741,\n",
              "           0.40841,     0.40941,     0.41041,     0.41141,     0.41241,     0.41341,     0.41441,     0.41542,     0.41642,     0.41742,     0.41842,     0.41942,     0.42042,     0.42142,     0.42242,     0.42342,     0.42442,     0.42543,     0.42643,     0.42743,     0.42843,     0.42943,     0.43043,     0.43143,\n",
              "           0.43243,     0.43343,     0.43443,     0.43544,     0.43644,     0.43744,     0.43844,     0.43944,     0.44044,     0.44144,     0.44244,     0.44344,     0.44444,     0.44545,     0.44645,     0.44745,     0.44845,     0.44945,     0.45045,     0.45145,     0.45245,     0.45345,     0.45445,     0.45546,\n",
              "           0.45646,     0.45746,     0.45846,     0.45946,     0.46046,     0.46146,     0.46246,     0.46346,     0.46446,     0.46547,     0.46647,     0.46747,     0.46847,     0.46947,     0.47047,     0.47147,     0.47247,     0.47347,     0.47447,     0.47548,     0.47648,     0.47748,     0.47848,     0.47948,\n",
              "           0.48048,     0.48148,     0.48248,     0.48348,     0.48448,     0.48549,     0.48649,     0.48749,     0.48849,     0.48949,     0.49049,     0.49149,     0.49249,     0.49349,     0.49449,      0.4955,      0.4965,      0.4975,      0.4985,      0.4995,      0.5005,      0.5015,      0.5025,      0.5035,\n",
              "            0.5045,     0.50551,     0.50651,     0.50751,     0.50851,     0.50951,     0.51051,     0.51151,     0.51251,     0.51351,     0.51451,     0.51552,     0.51652,     0.51752,     0.51852,     0.51952,     0.52052,     0.52152,     0.52252,     0.52352,     0.52452,     0.52553,     0.52653,     0.52753,\n",
              "           0.52853,     0.52953,     0.53053,     0.53153,     0.53253,     0.53353,     0.53453,     0.53554,     0.53654,     0.53754,     0.53854,     0.53954,     0.54054,     0.54154,     0.54254,     0.54354,     0.54454,     0.54555,     0.54655,     0.54755,     0.54855,     0.54955,     0.55055,     0.55155,\n",
              "           0.55255,     0.55355,     0.55455,     0.55556,     0.55656,     0.55756,     0.55856,     0.55956,     0.56056,     0.56156,     0.56256,     0.56356,     0.56456,     0.56557,     0.56657,     0.56757,     0.56857,     0.56957,     0.57057,     0.57157,     0.57257,     0.57357,     0.57457,     0.57558,\n",
              "           0.57658,     0.57758,     0.57858,     0.57958,     0.58058,     0.58158,     0.58258,     0.58358,     0.58458,     0.58559,     0.58659,     0.58759,     0.58859,     0.58959,     0.59059,     0.59159,     0.59259,     0.59359,     0.59459,      0.5956,      0.5966,      0.5976,      0.5986,      0.5996,\n",
              "            0.6006,      0.6016,      0.6026,      0.6036,      0.6046,     0.60561,     0.60661,     0.60761,     0.60861,     0.60961,     0.61061,     0.61161,     0.61261,     0.61361,     0.61461,     0.61562,     0.61662,     0.61762,     0.61862,     0.61962,     0.62062,     0.62162,     0.62262,     0.62362,\n",
              "           0.62462,     0.62563,     0.62663,     0.62763,     0.62863,     0.62963,     0.63063,     0.63163,     0.63263,     0.63363,     0.63463,     0.63564,     0.63664,     0.63764,     0.63864,     0.63964,     0.64064,     0.64164,     0.64264,     0.64364,     0.64464,     0.64565,     0.64665,     0.64765,\n",
              "           0.64865,     0.64965,     0.65065,     0.65165,     0.65265,     0.65365,     0.65465,     0.65566,     0.65666,     0.65766,     0.65866,     0.65966,     0.66066,     0.66166,     0.66266,     0.66366,     0.66466,     0.66567,     0.66667,     0.66767,     0.66867,     0.66967,     0.67067,     0.67167,\n",
              "           0.67267,     0.67367,     0.67467,     0.67568,     0.67668,     0.67768,     0.67868,     0.67968,     0.68068,     0.68168,     0.68268,     0.68368,     0.68468,     0.68569,     0.68669,     0.68769,     0.68869,     0.68969,     0.69069,     0.69169,     0.69269,     0.69369,     0.69469,      0.6957,\n",
              "            0.6967,      0.6977,      0.6987,      0.6997,      0.7007,      0.7017,      0.7027,      0.7037,      0.7047,     0.70571,     0.70671,     0.70771,     0.70871,     0.70971,     0.71071,     0.71171,     0.71271,     0.71371,     0.71471,     0.71572,     0.71672,     0.71772,     0.71872,     0.71972,\n",
              "           0.72072,     0.72172,     0.72272,     0.72372,     0.72472,     0.72573,     0.72673,     0.72773,     0.72873,     0.72973,     0.73073,     0.73173,     0.73273,     0.73373,     0.73473,     0.73574,     0.73674,     0.73774,     0.73874,     0.73974,     0.74074,     0.74174,     0.74274,     0.74374,\n",
              "           0.74474,     0.74575,     0.74675,     0.74775,     0.74875,     0.74975,     0.75075,     0.75175,     0.75275,     0.75375,     0.75475,     0.75576,     0.75676,     0.75776,     0.75876,     0.75976,     0.76076,     0.76176,     0.76276,     0.76376,     0.76476,     0.76577,     0.76677,     0.76777,\n",
              "           0.76877,     0.76977,     0.77077,     0.77177,     0.77277,     0.77377,     0.77477,     0.77578,     0.77678,     0.77778,     0.77878,     0.77978,     0.78078,     0.78178,     0.78278,     0.78378,     0.78478,     0.78579,     0.78679,     0.78779,     0.78879,     0.78979,     0.79079,     0.79179,\n",
              "           0.79279,     0.79379,     0.79479,      0.7958,      0.7968,      0.7978,      0.7988,      0.7998,      0.8008,      0.8018,      0.8028,      0.8038,      0.8048,     0.80581,     0.80681,     0.80781,     0.80881,     0.80981,     0.81081,     0.81181,     0.81281,     0.81381,     0.81481,     0.81582,\n",
              "           0.81682,     0.81782,     0.81882,     0.81982,     0.82082,     0.82182,     0.82282,     0.82382,     0.82482,     0.82583,     0.82683,     0.82783,     0.82883,     0.82983,     0.83083,     0.83183,     0.83283,     0.83383,     0.83483,     0.83584,     0.83684,     0.83784,     0.83884,     0.83984,\n",
              "           0.84084,     0.84184,     0.84284,     0.84384,     0.84484,     0.84585,     0.84685,     0.84785,     0.84885,     0.84985,     0.85085,     0.85185,     0.85285,     0.85385,     0.85485,     0.85586,     0.85686,     0.85786,     0.85886,     0.85986,     0.86086,     0.86186,     0.86286,     0.86386,\n",
              "           0.86486,     0.86587,     0.86687,     0.86787,     0.86887,     0.86987,     0.87087,     0.87187,     0.87287,     0.87387,     0.87487,     0.87588,     0.87688,     0.87788,     0.87888,     0.87988,     0.88088,     0.88188,     0.88288,     0.88388,     0.88488,     0.88589,     0.88689,     0.88789,\n",
              "           0.88889,     0.88989,     0.89089,     0.89189,     0.89289,     0.89389,     0.89489,      0.8959,      0.8969,      0.8979,      0.8989,      0.8999,      0.9009,      0.9019,      0.9029,      0.9039,      0.9049,     0.90591,     0.90691,     0.90791,     0.90891,     0.90991,     0.91091,     0.91191,\n",
              "           0.91291,     0.91391,     0.91491,     0.91592,     0.91692,     0.91792,     0.91892,     0.91992,     0.92092,     0.92192,     0.92292,     0.92392,     0.92492,     0.92593,     0.92693,     0.92793,     0.92893,     0.92993,     0.93093,     0.93193,     0.93293,     0.93393,     0.93493,     0.93594,\n",
              "           0.93694,     0.93794,     0.93894,     0.93994,     0.94094,     0.94194,     0.94294,     0.94394,     0.94494,     0.94595,     0.94695,     0.94795,     0.94895,     0.94995,     0.95095,     0.95195,     0.95295,     0.95395,     0.95495,     0.95596,     0.95696,     0.95796,     0.95896,     0.95996,\n",
              "           0.96096,     0.96196,     0.96296,     0.96396,     0.96496,     0.96597,     0.96697,     0.96797,     0.96897,     0.96997,     0.97097,     0.97197,     0.97297,     0.97397,     0.97497,     0.97598,     0.97698,     0.97798,     0.97898,     0.97998,     0.98098,     0.98198,     0.98298,     0.98398,\n",
              "           0.98498,     0.98599,     0.98699,     0.98799,     0.98899,     0.98999,     0.99099,     0.99199,     0.99299,     0.99399,     0.99499,       0.996,       0.997,       0.998,       0.999,           1]), array([[          1,           1,           1,           1,           1,           1,           1,           1,           1,           1,           1,           1,           1,           1,           1,           1,           1,           1,           1,           1,           1,           1,           1,\n",
              "                  1,           1,           1,           1,           1,           1,           1,           1,           1,           1,           1,           1,           1,           1,           1,           1,           1,           1,           1,           1,           1,     0.99107,     0.99107,\n",
              "            0.99107,     0.99107,     0.99107,     0.99107,     0.99107,     0.99107,     0.99107,     0.99107,     0.99107,     0.99107,     0.99107,     0.99107,     0.99107,     0.99107,     0.99107,     0.99107,     0.99107,     0.99107,     0.99107,     0.99107,     0.99107,     0.99107,     0.99107,\n",
              "            0.99107,     0.99107,     0.99107,     0.99107,     0.99107,     0.99107,     0.99107,     0.99107,     0.99107,     0.99107,     0.99107,     0.99107,     0.99107,     0.99107,     0.99107,     0.99107,     0.99107,     0.99107,     0.99107,     0.99107,     0.99107,     0.99107,     0.99107,\n",
              "            0.99107,     0.99107,     0.99107,     0.99107,     0.99107,     0.99107,     0.99107,     0.99107,     0.99107,     0.99107,     0.99107,     0.99107,     0.99107,     0.99107,     0.99107,     0.99107,     0.99107,     0.99107,     0.99107,     0.99107,     0.99107,     0.99107,     0.99107,\n",
              "            0.99107,     0.99107,     0.99107,     0.99107,     0.99107,     0.99107,     0.99107,     0.99107,     0.99107,     0.99107,     0.99107,     0.99107,     0.99107,     0.99107,     0.99107,     0.99107,     0.99107,     0.99107,     0.99107,     0.99107,     0.99107,     0.99107,     0.99107,\n",
              "            0.99107,     0.99107,     0.99107,     0.99107,     0.99107,     0.99107,     0.99107,     0.99107,     0.99107,     0.99107,     0.99107,     0.99107,     0.99107,     0.99107,     0.99107,     0.99107,     0.99107,     0.99107,     0.99107,     0.99107,     0.99107,     0.99107,     0.99107,\n",
              "            0.99107,     0.99107,     0.99107,     0.99107,     0.99107,     0.99107,     0.99107,     0.99107,     0.99107,     0.99107,     0.99107,     0.99107,     0.99107,     0.99107,     0.99107,     0.99107,     0.99107,     0.99107,     0.99107,     0.99107,     0.99107,     0.99107,     0.99107,\n",
              "            0.99107,     0.99107,     0.99107,     0.99107,     0.99107,     0.99107,     0.99107,     0.99107,     0.99107,     0.99107,     0.99107,     0.99107,     0.99107,     0.99107,     0.99107,     0.99107,     0.99107,     0.99107,     0.99107,     0.99107,     0.99107,     0.99107,     0.99107,\n",
              "            0.99107,     0.99107,     0.99107,     0.99107,     0.99107,     0.99107,     0.99107,     0.99107,     0.99107,     0.99107,     0.99107,     0.99107,     0.99107,     0.99107,     0.99107,     0.99107,     0.99107,     0.99107,     0.99107,     0.99107,     0.99107,     0.99107,     0.99107,\n",
              "            0.99107,     0.99107,     0.99107,     0.99107,     0.99107,     0.99107,     0.99107,     0.99107,     0.99107,     0.99107,     0.99107,     0.99107,     0.99107,     0.99107,     0.99107,     0.99107,     0.99107,     0.99107,     0.99107,     0.99107,     0.99107,     0.99107,     0.99107,\n",
              "            0.99107,     0.99107,     0.99107,     0.99107,     0.99107,     0.99107,     0.99107,     0.99107,     0.99107,     0.99107,     0.99107,     0.99107,     0.99107,     0.99107,     0.99107,     0.99107,     0.99107,     0.99107,     0.99107,     0.99107,     0.99107,     0.99107,     0.99107,\n",
              "            0.99107,     0.99107,     0.99107,     0.99107,     0.99107,     0.99107,     0.99107,     0.99107,     0.99107,     0.99107,     0.99107,     0.99107,     0.99107,     0.99107,     0.99107,     0.99107,     0.99107,     0.99107,     0.99107,     0.99107,     0.99107,     0.99107,     0.99107,\n",
              "            0.99107,     0.99107,     0.99107,     0.99107,     0.99107,     0.99107,     0.99107,     0.99107,     0.99107,     0.99107,     0.99107,     0.99107,     0.99107,     0.99107,     0.99107,     0.99107,     0.99107,     0.99107,     0.99107,     0.99107,     0.99107,     0.99107,     0.99107,\n",
              "            0.99107,     0.99107,     0.99107,     0.99107,     0.99107,     0.99107,     0.99107,     0.99107,     0.99107,     0.99107,     0.99107,     0.99107,     0.99107,     0.99107,     0.99107,     0.99107,     0.99107,     0.99107,     0.99107,     0.99107,     0.99107,     0.99107,     0.99107,\n",
              "            0.99107,     0.99107,     0.99107,     0.99107,     0.99107,     0.99107,     0.99107,     0.99107,     0.99107,     0.99107,     0.99107,     0.99107,     0.99107,     0.99107,     0.99107,     0.99107,     0.99107,     0.99107,     0.99107,     0.99107,     0.99107,     0.99107,     0.99107,\n",
              "            0.99107,     0.99107,     0.99107,     0.99107,     0.99107,     0.99107,     0.99107,     0.99107,     0.99107,     0.99107,     0.99107,     0.99107,     0.99107,     0.99107,     0.99107,     0.99107,     0.99107,     0.99107,     0.99107,     0.99107,     0.99107,     0.99107,     0.99107,\n",
              "            0.99107,     0.99107,     0.99107,     0.99107,     0.99107,     0.99107,     0.99107,     0.99107,     0.99107,     0.99107,     0.99107,     0.99107,     0.99107,     0.99107,     0.99107,     0.99107,     0.99107,     0.99107,     0.99107,     0.99107,     0.99107,     0.99107,     0.99107,\n",
              "            0.99107,     0.99107,     0.99107,     0.99107,     0.99107,     0.99107,     0.99107,     0.98707,     0.98707,     0.98707,     0.98707,     0.98707,     0.98707,     0.98707,     0.98707,     0.98707,     0.98707,     0.98707,     0.98707,     0.98707,     0.98298,     0.98298,     0.98298,\n",
              "            0.98298,     0.97479,     0.97318,     0.97318,     0.97318,     0.97318,     0.97318,     0.97318,     0.97318,     0.97318,     0.97318,     0.97318,     0.97318,     0.97318,     0.97318,     0.97318,     0.97318,     0.97318,     0.97318,     0.97318,     0.97318,     0.97318,     0.97318,\n",
              "            0.97318,     0.97318,     0.97318,     0.97318,     0.97318,     0.97318,     0.97318,     0.97318,     0.97318,     0.97318,     0.97318,     0.97318,     0.97318,     0.97318,     0.97318,     0.97318,     0.97318,     0.97318,     0.97318,     0.97318,     0.97318,     0.97101,     0.97101,\n",
              "            0.97101,     0.97101,     0.97101,     0.97101,     0.97101,     0.97101,     0.97101,     0.97101,     0.97101,     0.97101,     0.97101,     0.97101,     0.97101,     0.97101,     0.97101,     0.97101,     0.97101,     0.97101,     0.97101,     0.97101,     0.97101,     0.97101,     0.97101,\n",
              "            0.97101,     0.97101,     0.97049,     0.97049,     0.97049,     0.97049,     0.97049,     0.97049,     0.97049,     0.97049,     0.97049,     0.97049,     0.97049,     0.97049,     0.97049,     0.97049,     0.97049,     0.97049,     0.97049,     0.97049,     0.97049,     0.97049,     0.97049,\n",
              "            0.97049,     0.97049,     0.97049,     0.97049,     0.97049,     0.97049,     0.97049,     0.97049,     0.97049,     0.97049,     0.97049,     0.97049,     0.97049,     0.97049,     0.97049,     0.97049,     0.97049,     0.97049,     0.97049,     0.97049,     0.97049,     0.97049,     0.97049,\n",
              "            0.97049,     0.97049,     0.97049,     0.97049,     0.97049,     0.97049,     0.97049,     0.97049,     0.97049,     0.96774,     0.96774,     0.96774,     0.96774,     0.96774,     0.96774,     0.96774,     0.96594,     0.96594,     0.96594,     0.96594,     0.96594,     0.96594,     0.96594,\n",
              "            0.96594,     0.96594,     0.96594,     0.96594,     0.96594,     0.96594,     0.96594,     0.96594,     0.96594,     0.96594,     0.96594,     0.96594,     0.96594,     0.96594,     0.96594,     0.96594,     0.96319,     0.96319,     0.96319,     0.96319,     0.96108,     0.96108,     0.96108,\n",
              "            0.96108,     0.96108,     0.96108,     0.96108,     0.96108,     0.96108,     0.96108,     0.96108,     0.96108,     0.96108,     0.95846,     0.95846,     0.95846,     0.95846,     0.95627,     0.95627,     0.95627,     0.95627,     0.95627,     0.95627,     0.95627,     0.95627,     0.95627,\n",
              "            0.95506,     0.95506,     0.95506,     0.95506,     0.95506,     0.95506,     0.95506,     0.95506,     0.95506,     0.95506,     0.95506,     0.95506,     0.95506,     0.95506,     0.95506,     0.95506,     0.95506,     0.95506,     0.95506,     0.95506,     0.95506,     0.95506,     0.95506,\n",
              "            0.94986,     0.94986,      0.9478,      0.9478,      0.9478,      0.9478,      0.9478,      0.9478,      0.9478,     0.94536,     0.94536,     0.94531,     0.94531,     0.94531,     0.94531,     0.94531,     0.94531,     0.94531,     0.94531,     0.94531,     0.94531,     0.94531,     0.94531,\n",
              "            0.94531,     0.94531,     0.94531,     0.94531,     0.94531,     0.94531,     0.94531,     0.94531,     0.94531,     0.94531,     0.94531,     0.94531,     0.94531,     0.94531,     0.94531,     0.94531,     0.94531,     0.94531,     0.94531,     0.94531,     0.94363,     0.94363,     0.94363,\n",
              "            0.94363,     0.94363,     0.94363,     0.94363,     0.94363,     0.94363,     0.94363,     0.94363,     0.94363,     0.94363,     0.94363,     0.94363,     0.94363,     0.94363,     0.94363,     0.94363,     0.94363,     0.94363,     0.94363,     0.94363,     0.94363,     0.94363,     0.94363,\n",
              "            0.94363,     0.94363,     0.94363,     0.94363,     0.94363,     0.94363,     0.94363,     0.94363,     0.94363,     0.94363,     0.94363,     0.94363,     0.94363,     0.94363,     0.94363,     0.94363,     0.94217,     0.94217,     0.94217,     0.94217,     0.94217,     0.94217,     0.94217,\n",
              "            0.94217,     0.94217,     0.94217,     0.94217,     0.94019,     0.94019,     0.94019,     0.94019,     0.93632,     0.93632,     0.93632,     0.93632,     0.93632,     0.93632,     0.93632,     0.93632,     0.93443,     0.93443,     0.93443,     0.93303,     0.93303,     0.93303,     0.93303,\n",
              "            0.93303,     0.93303,     0.93303,     0.93303,     0.93303,     0.93303,     0.92483,     0.92483,     0.92483,     0.92483,     0.92325,     0.92325,     0.92325,     0.92325,     0.92325,     0.91353,     0.91353,     0.91353,     0.91353,     0.91353,     0.91353,      0.9117,      0.9117,\n",
              "            0.91009,     0.91009,     0.91009,     0.91009,      0.9083,      0.9083,     0.90672,     0.90672,     0.90672,     0.89552,     0.89552,     0.89552,     0.89552,     0.89195,     0.89195,      0.8903,      0.8903,     0.88935,     0.88935,     0.88935,     0.88935,     0.88935,     0.88935,\n",
              "            0.88935,     0.88935,     0.88589,     0.88247,     0.88247,     0.87247,     0.87247,     0.87247,     0.87247,     0.87247,     0.87247,     0.87097,     0.87097,     0.86774,     0.86774,     0.86759,     0.86759,     0.86759,     0.86759,     0.86759,     0.86759,     0.86759,     0.86759,\n",
              "            0.86759,     0.86759,     0.86759,     0.86275,     0.86275,     0.85798,     0.85798,     0.84837,     0.84837,      0.8425,      0.8425,      0.8425,      0.8425,     0.83992,     0.83992,     0.83992,     0.83708,     0.83708,      0.8281,      0.8281,     0.82721,     0.82721,     0.82721,\n",
              "            0.82721,     0.82299,     0.82299,     0.81588,     0.81588,     0.81475,     0.81475,     0.81362,     0.80961,     0.80961,     0.80851,     0.80851,     0.80458,     0.80458,     0.80385,     0.80385,     0.80385,     0.80385,         0.8,         0.8,     0.79965,     0.79965,     0.79965,\n",
              "            0.79965,     0.79965,     0.79965,     0.79623,     0.79623,     0.79623,     0.78583,     0.78583,     0.78094,     0.78094,     0.77483,     0.77483,     0.76423,     0.76423,     0.76423,     0.76423,      0.7609,      0.7609,     0.74448,     0.74448,     0.74138,     0.74062,     0.74062,\n",
              "            0.73758,     0.73758,     0.73725,     0.73725,     0.73725,     0.73725,     0.70815,     0.70815,     0.70338,     0.70338,     0.68867,     0.68867,     0.68803,     0.68803,     0.68803,     0.68803,     0.68803,     0.68362,     0.68362,     0.66076,     0.66076,     0.65676,     0.65676,\n",
              "            0.65241,     0.65241,     0.65241,     0.65241,     0.64005,     0.64005,     0.63885,     0.63885,     0.63273,     0.62996,     0.62996,     0.61443,     0.61443,     0.61443,     0.61443,     0.61262,     0.61262,     0.61235,     0.61235,     0.60832,     0.60832,     0.59145,     0.59145,\n",
              "            0.56384,     0.56384,     0.51073,     0.51073,     0.49263,     0.36831,     0.36831,     0.31242,     0.31242,     0.30625,     0.29973,     0.29322,      0.2867,     0.28018,     0.27367,     0.26715,     0.26064,     0.25412,     0.24761,     0.24109,     0.23457,     0.22806,     0.22154,\n",
              "            0.21503,     0.20851,     0.20199,     0.19548,     0.18896,     0.18245,     0.17593,     0.16941,      0.1629,     0.15638,     0.14987,     0.14335,     0.13683,     0.13032,      0.1238,     0.11729,     0.11077,     0.10425,    0.097739,    0.091223,    0.084707,    0.078191,    0.071675,\n",
              "           0.065159,    0.058643,    0.052127,    0.045611,    0.039096,     0.03258,    0.026064,    0.019548,    0.013032,   0.0065159,           0]]), 'Recall', 'Precision'], [array([          0,    0.001001,    0.002002,    0.003003,    0.004004,    0.005005,    0.006006,    0.007007,    0.008008,    0.009009,     0.01001,    0.011011,    0.012012,    0.013013,    0.014014,    0.015015,    0.016016,    0.017017,    0.018018,    0.019019,     0.02002,    0.021021,    0.022022,    0.023023,\n",
              "          0.024024,    0.025025,    0.026026,    0.027027,    0.028028,    0.029029,     0.03003,    0.031031,    0.032032,    0.033033,    0.034034,    0.035035,    0.036036,    0.037037,    0.038038,    0.039039,     0.04004,    0.041041,    0.042042,    0.043043,    0.044044,    0.045045,    0.046046,    0.047047,\n",
              "          0.048048,    0.049049,     0.05005,    0.051051,    0.052052,    0.053053,    0.054054,    0.055055,    0.056056,    0.057057,    0.058058,    0.059059,     0.06006,    0.061061,    0.062062,    0.063063,    0.064064,    0.065065,    0.066066,    0.067067,    0.068068,    0.069069,     0.07007,    0.071071,\n",
              "          0.072072,    0.073073,    0.074074,    0.075075,    0.076076,    0.077077,    0.078078,    0.079079,     0.08008,    0.081081,    0.082082,    0.083083,    0.084084,    0.085085,    0.086086,    0.087087,    0.088088,    0.089089,     0.09009,    0.091091,    0.092092,    0.093093,    0.094094,    0.095095,\n",
              "          0.096096,    0.097097,    0.098098,    0.099099,      0.1001,      0.1011,      0.1021,      0.1031,      0.1041,     0.10511,     0.10611,     0.10711,     0.10811,     0.10911,     0.11011,     0.11111,     0.11211,     0.11311,     0.11411,     0.11512,     0.11612,     0.11712,     0.11812,     0.11912,\n",
              "           0.12012,     0.12112,     0.12212,     0.12312,     0.12412,     0.12513,     0.12613,     0.12713,     0.12813,     0.12913,     0.13013,     0.13113,     0.13213,     0.13313,     0.13413,     0.13514,     0.13614,     0.13714,     0.13814,     0.13914,     0.14014,     0.14114,     0.14214,     0.14314,\n",
              "           0.14414,     0.14515,     0.14615,     0.14715,     0.14815,     0.14915,     0.15015,     0.15115,     0.15215,     0.15315,     0.15415,     0.15516,     0.15616,     0.15716,     0.15816,     0.15916,     0.16016,     0.16116,     0.16216,     0.16316,     0.16416,     0.16517,     0.16617,     0.16717,\n",
              "           0.16817,     0.16917,     0.17017,     0.17117,     0.17217,     0.17317,     0.17417,     0.17518,     0.17618,     0.17718,     0.17818,     0.17918,     0.18018,     0.18118,     0.18218,     0.18318,     0.18418,     0.18519,     0.18619,     0.18719,     0.18819,     0.18919,     0.19019,     0.19119,\n",
              "           0.19219,     0.19319,     0.19419,      0.1952,      0.1962,      0.1972,      0.1982,      0.1992,      0.2002,      0.2012,      0.2022,      0.2032,      0.2042,     0.20521,     0.20621,     0.20721,     0.20821,     0.20921,     0.21021,     0.21121,     0.21221,     0.21321,     0.21421,     0.21522,\n",
              "           0.21622,     0.21722,     0.21822,     0.21922,     0.22022,     0.22122,     0.22222,     0.22322,     0.22422,     0.22523,     0.22623,     0.22723,     0.22823,     0.22923,     0.23023,     0.23123,     0.23223,     0.23323,     0.23423,     0.23524,     0.23624,     0.23724,     0.23824,     0.23924,\n",
              "           0.24024,     0.24124,     0.24224,     0.24324,     0.24424,     0.24525,     0.24625,     0.24725,     0.24825,     0.24925,     0.25025,     0.25125,     0.25225,     0.25325,     0.25425,     0.25526,     0.25626,     0.25726,     0.25826,     0.25926,     0.26026,     0.26126,     0.26226,     0.26326,\n",
              "           0.26426,     0.26527,     0.26627,     0.26727,     0.26827,     0.26927,     0.27027,     0.27127,     0.27227,     0.27327,     0.27427,     0.27528,     0.27628,     0.27728,     0.27828,     0.27928,     0.28028,     0.28128,     0.28228,     0.28328,     0.28428,     0.28529,     0.28629,     0.28729,\n",
              "           0.28829,     0.28929,     0.29029,     0.29129,     0.29229,     0.29329,     0.29429,      0.2953,      0.2963,      0.2973,      0.2983,      0.2993,      0.3003,      0.3013,      0.3023,      0.3033,      0.3043,     0.30531,     0.30631,     0.30731,     0.30831,     0.30931,     0.31031,     0.31131,\n",
              "           0.31231,     0.31331,     0.31431,     0.31532,     0.31632,     0.31732,     0.31832,     0.31932,     0.32032,     0.32132,     0.32232,     0.32332,     0.32432,     0.32533,     0.32633,     0.32733,     0.32833,     0.32933,     0.33033,     0.33133,     0.33233,     0.33333,     0.33433,     0.33534,\n",
              "           0.33634,     0.33734,     0.33834,     0.33934,     0.34034,     0.34134,     0.34234,     0.34334,     0.34434,     0.34535,     0.34635,     0.34735,     0.34835,     0.34935,     0.35035,     0.35135,     0.35235,     0.35335,     0.35435,     0.35536,     0.35636,     0.35736,     0.35836,     0.35936,\n",
              "           0.36036,     0.36136,     0.36236,     0.36336,     0.36436,     0.36537,     0.36637,     0.36737,     0.36837,     0.36937,     0.37037,     0.37137,     0.37237,     0.37337,     0.37437,     0.37538,     0.37638,     0.37738,     0.37838,     0.37938,     0.38038,     0.38138,     0.38238,     0.38338,\n",
              "           0.38438,     0.38539,     0.38639,     0.38739,     0.38839,     0.38939,     0.39039,     0.39139,     0.39239,     0.39339,     0.39439,      0.3954,      0.3964,      0.3974,      0.3984,      0.3994,      0.4004,      0.4014,      0.4024,      0.4034,      0.4044,     0.40541,     0.40641,     0.40741,\n",
              "           0.40841,     0.40941,     0.41041,     0.41141,     0.41241,     0.41341,     0.41441,     0.41542,     0.41642,     0.41742,     0.41842,     0.41942,     0.42042,     0.42142,     0.42242,     0.42342,     0.42442,     0.42543,     0.42643,     0.42743,     0.42843,     0.42943,     0.43043,     0.43143,\n",
              "           0.43243,     0.43343,     0.43443,     0.43544,     0.43644,     0.43744,     0.43844,     0.43944,     0.44044,     0.44144,     0.44244,     0.44344,     0.44444,     0.44545,     0.44645,     0.44745,     0.44845,     0.44945,     0.45045,     0.45145,     0.45245,     0.45345,     0.45445,     0.45546,\n",
              "           0.45646,     0.45746,     0.45846,     0.45946,     0.46046,     0.46146,     0.46246,     0.46346,     0.46446,     0.46547,     0.46647,     0.46747,     0.46847,     0.46947,     0.47047,     0.47147,     0.47247,     0.47347,     0.47447,     0.47548,     0.47648,     0.47748,     0.47848,     0.47948,\n",
              "           0.48048,     0.48148,     0.48248,     0.48348,     0.48448,     0.48549,     0.48649,     0.48749,     0.48849,     0.48949,     0.49049,     0.49149,     0.49249,     0.49349,     0.49449,      0.4955,      0.4965,      0.4975,      0.4985,      0.4995,      0.5005,      0.5015,      0.5025,      0.5035,\n",
              "            0.5045,     0.50551,     0.50651,     0.50751,     0.50851,     0.50951,     0.51051,     0.51151,     0.51251,     0.51351,     0.51451,     0.51552,     0.51652,     0.51752,     0.51852,     0.51952,     0.52052,     0.52152,     0.52252,     0.52352,     0.52452,     0.52553,     0.52653,     0.52753,\n",
              "           0.52853,     0.52953,     0.53053,     0.53153,     0.53253,     0.53353,     0.53453,     0.53554,     0.53654,     0.53754,     0.53854,     0.53954,     0.54054,     0.54154,     0.54254,     0.54354,     0.54454,     0.54555,     0.54655,     0.54755,     0.54855,     0.54955,     0.55055,     0.55155,\n",
              "           0.55255,     0.55355,     0.55455,     0.55556,     0.55656,     0.55756,     0.55856,     0.55956,     0.56056,     0.56156,     0.56256,     0.56356,     0.56456,     0.56557,     0.56657,     0.56757,     0.56857,     0.56957,     0.57057,     0.57157,     0.57257,     0.57357,     0.57457,     0.57558,\n",
              "           0.57658,     0.57758,     0.57858,     0.57958,     0.58058,     0.58158,     0.58258,     0.58358,     0.58458,     0.58559,     0.58659,     0.58759,     0.58859,     0.58959,     0.59059,     0.59159,     0.59259,     0.59359,     0.59459,      0.5956,      0.5966,      0.5976,      0.5986,      0.5996,\n",
              "            0.6006,      0.6016,      0.6026,      0.6036,      0.6046,     0.60561,     0.60661,     0.60761,     0.60861,     0.60961,     0.61061,     0.61161,     0.61261,     0.61361,     0.61461,     0.61562,     0.61662,     0.61762,     0.61862,     0.61962,     0.62062,     0.62162,     0.62262,     0.62362,\n",
              "           0.62462,     0.62563,     0.62663,     0.62763,     0.62863,     0.62963,     0.63063,     0.63163,     0.63263,     0.63363,     0.63463,     0.63564,     0.63664,     0.63764,     0.63864,     0.63964,     0.64064,     0.64164,     0.64264,     0.64364,     0.64464,     0.64565,     0.64665,     0.64765,\n",
              "           0.64865,     0.64965,     0.65065,     0.65165,     0.65265,     0.65365,     0.65465,     0.65566,     0.65666,     0.65766,     0.65866,     0.65966,     0.66066,     0.66166,     0.66266,     0.66366,     0.66466,     0.66567,     0.66667,     0.66767,     0.66867,     0.66967,     0.67067,     0.67167,\n",
              "           0.67267,     0.67367,     0.67467,     0.67568,     0.67668,     0.67768,     0.67868,     0.67968,     0.68068,     0.68168,     0.68268,     0.68368,     0.68468,     0.68569,     0.68669,     0.68769,     0.68869,     0.68969,     0.69069,     0.69169,     0.69269,     0.69369,     0.69469,      0.6957,\n",
              "            0.6967,      0.6977,      0.6987,      0.6997,      0.7007,      0.7017,      0.7027,      0.7037,      0.7047,     0.70571,     0.70671,     0.70771,     0.70871,     0.70971,     0.71071,     0.71171,     0.71271,     0.71371,     0.71471,     0.71572,     0.71672,     0.71772,     0.71872,     0.71972,\n",
              "           0.72072,     0.72172,     0.72272,     0.72372,     0.72472,     0.72573,     0.72673,     0.72773,     0.72873,     0.72973,     0.73073,     0.73173,     0.73273,     0.73373,     0.73473,     0.73574,     0.73674,     0.73774,     0.73874,     0.73974,     0.74074,     0.74174,     0.74274,     0.74374,\n",
              "           0.74474,     0.74575,     0.74675,     0.74775,     0.74875,     0.74975,     0.75075,     0.75175,     0.75275,     0.75375,     0.75475,     0.75576,     0.75676,     0.75776,     0.75876,     0.75976,     0.76076,     0.76176,     0.76276,     0.76376,     0.76476,     0.76577,     0.76677,     0.76777,\n",
              "           0.76877,     0.76977,     0.77077,     0.77177,     0.77277,     0.77377,     0.77477,     0.77578,     0.77678,     0.77778,     0.77878,     0.77978,     0.78078,     0.78178,     0.78278,     0.78378,     0.78478,     0.78579,     0.78679,     0.78779,     0.78879,     0.78979,     0.79079,     0.79179,\n",
              "           0.79279,     0.79379,     0.79479,      0.7958,      0.7968,      0.7978,      0.7988,      0.7998,      0.8008,      0.8018,      0.8028,      0.8038,      0.8048,     0.80581,     0.80681,     0.80781,     0.80881,     0.80981,     0.81081,     0.81181,     0.81281,     0.81381,     0.81481,     0.81582,\n",
              "           0.81682,     0.81782,     0.81882,     0.81982,     0.82082,     0.82182,     0.82282,     0.82382,     0.82482,     0.82583,     0.82683,     0.82783,     0.82883,     0.82983,     0.83083,     0.83183,     0.83283,     0.83383,     0.83483,     0.83584,     0.83684,     0.83784,     0.83884,     0.83984,\n",
              "           0.84084,     0.84184,     0.84284,     0.84384,     0.84484,     0.84585,     0.84685,     0.84785,     0.84885,     0.84985,     0.85085,     0.85185,     0.85285,     0.85385,     0.85485,     0.85586,     0.85686,     0.85786,     0.85886,     0.85986,     0.86086,     0.86186,     0.86286,     0.86386,\n",
              "           0.86486,     0.86587,     0.86687,     0.86787,     0.86887,     0.86987,     0.87087,     0.87187,     0.87287,     0.87387,     0.87487,     0.87588,     0.87688,     0.87788,     0.87888,     0.87988,     0.88088,     0.88188,     0.88288,     0.88388,     0.88488,     0.88589,     0.88689,     0.88789,\n",
              "           0.88889,     0.88989,     0.89089,     0.89189,     0.89289,     0.89389,     0.89489,      0.8959,      0.8969,      0.8979,      0.8989,      0.8999,      0.9009,      0.9019,      0.9029,      0.9039,      0.9049,     0.90591,     0.90691,     0.90791,     0.90891,     0.90991,     0.91091,     0.91191,\n",
              "           0.91291,     0.91391,     0.91491,     0.91592,     0.91692,     0.91792,     0.91892,     0.91992,     0.92092,     0.92192,     0.92292,     0.92392,     0.92492,     0.92593,     0.92693,     0.92793,     0.92893,     0.92993,     0.93093,     0.93193,     0.93293,     0.93393,     0.93493,     0.93594,\n",
              "           0.93694,     0.93794,     0.93894,     0.93994,     0.94094,     0.94194,     0.94294,     0.94394,     0.94494,     0.94595,     0.94695,     0.94795,     0.94895,     0.94995,     0.95095,     0.95195,     0.95295,     0.95395,     0.95495,     0.95596,     0.95696,     0.95796,     0.95896,     0.95996,\n",
              "           0.96096,     0.96196,     0.96296,     0.96396,     0.96496,     0.96597,     0.96697,     0.96797,     0.96897,     0.96997,     0.97097,     0.97197,     0.97297,     0.97397,     0.97497,     0.97598,     0.97698,     0.97798,     0.97898,     0.97998,     0.98098,     0.98198,     0.98298,     0.98398,\n",
              "           0.98498,     0.98599,     0.98699,     0.98799,     0.98899,     0.98999,     0.99099,     0.99199,     0.99299,     0.99399,     0.99499,       0.996,       0.997,       0.998,       0.999,           1]), array([[    0.46574,     0.46574,     0.54703,     0.58905,      0.6208,     0.64116,     0.65491,     0.66674,     0.67939,      0.6889,      0.6979,     0.70308,     0.70614,     0.71115,     0.71502,     0.72305,      0.7273,      0.7322,     0.73632,      0.7384,     0.73886,     0.74029,     0.74095,\n",
              "            0.74082,     0.74385,     0.74741,     0.74975,     0.75123,     0.75262,     0.75345,     0.75602,      0.7561,     0.75618,      0.7571,     0.75868,     0.76099,     0.76182,     0.76458,     0.76358,     0.76412,     0.76614,     0.76706,      0.7685,     0.76803,     0.76799,     0.76918,\n",
              "            0.76969,     0.77037,     0.77125,     0.77224,     0.77286,     0.77614,     0.77739,     0.77804,     0.77916,     0.78011,     0.78097,     0.78189,     0.78397,     0.78331,     0.78244,     0.78271,     0.78297,     0.78332,     0.78271,     0.78298,     0.78324,     0.78379,     0.78424,\n",
              "            0.78465,     0.78658,     0.78676,     0.78694,     0.78712,     0.78791,     0.78949,     0.79049,      0.7906,     0.79072,     0.79083,     0.79095,     0.79106,     0.79221,     0.79216,     0.79183,     0.79149,      0.7928,     0.79457,     0.79394,     0.79408,     0.79446,     0.79467,\n",
              "            0.79487,     0.79541,      0.7958,     0.79598,     0.79616,     0.79638,     0.79734,     0.79855,     0.79956,     0.80086,     0.80174,     0.80211,     0.80335,     0.80387,     0.80413,     0.80441,       0.805,     0.80529,     0.80555,     0.80584,     0.80619,     0.80652,      0.8068,\n",
              "            0.80709,      0.8082,     0.80905,     0.80989,     0.81024,     0.81055,     0.81065,     0.81075,     0.81085,     0.81095,     0.81105,     0.81115,     0.81185,     0.81164,     0.81143,     0.81121,       0.811,     0.81067,     0.81023,     0.81031,     0.81046,     0.81031,     0.81016,\n",
              "            0.81002,     0.80987,     0.80972,     0.80958,     0.80982,     0.81011,     0.81042,     0.81078,     0.81159,     0.81101,     0.81117,     0.81091,     0.81065,     0.81039,     0.81045,     0.81068,     0.81091,     0.81233,     0.81184,     0.81139,     0.81183,     0.81237,      0.8133,\n",
              "            0.81584,     0.81672,     0.81711,     0.81724,     0.81737,      0.8175,     0.81763,       0.818,     0.81921,     0.81942,     0.81964,     0.81987,     0.82028,     0.82066,     0.82097,     0.82172,     0.82223,     0.82193,     0.82163,     0.82129,     0.82073,     0.82035,     0.82041,\n",
              "            0.82047,     0.82052,     0.82058,     0.82064,      0.8207,     0.82076,     0.82081,     0.82087,     0.82093,     0.82099,     0.82104,     0.82156,     0.82195,     0.82224,     0.82251,     0.82275,     0.82299,     0.82325,     0.82406,     0.82435,     0.82463,     0.82481,     0.82497,\n",
              "            0.82513,     0.82529,     0.82548,     0.82571,     0.82594,      0.8263,     0.82648,     0.82604,     0.82682,     0.82732,     0.82761,      0.8279,     0.82834,     0.82884,     0.82919,     0.82946,     0.82932,     0.82918,     0.82904,      0.8289,     0.82876,     0.82862,     0.82848,\n",
              "            0.82871,     0.82906,     0.82985,     0.83068,     0.83079,     0.83089,       0.831,      0.8311,      0.8312,     0.83131,     0.83136,     0.83107,     0.83077,     0.83048,     0.83044,     0.83059,     0.83074,     0.83089,     0.83104,     0.83115,     0.83124,     0.83134,     0.83143,\n",
              "            0.83152,     0.83161,      0.8317,     0.83179,     0.83187,     0.83195,     0.83203,      0.8321,     0.83218,     0.83226,     0.83233,     0.83241,     0.83249,     0.83256,     0.83271,     0.83291,      0.8331,     0.83329,     0.83372,     0.83439,     0.83569,     0.83588,     0.83607,\n",
              "            0.83627,     0.83562,     0.83504,     0.83468,     0.83432,     0.83482,     0.83505,     0.83514,     0.83523,     0.83531,      0.8354,     0.83548,     0.83557,     0.83565,     0.83575,     0.83645,     0.83628,     0.83612,     0.83595,     0.83579,     0.83562,     0.83545,     0.83515,\n",
              "            0.83485,     0.83454,     0.83434,     0.83424,     0.83414,     0.83404,     0.83394,     0.83385,     0.83375,     0.83365,     0.83355,     0.83345,     0.83335,     0.83368,     0.83407,     0.83387,     0.83366,     0.83345,     0.83325,     0.83304,     0.83346,     0.83405,     0.83478,\n",
              "            0.83522,     0.83442,     0.83326,     0.83375,     0.83295,     0.83312,     0.83329,     0.83347,     0.83364,     0.83395,     0.83427,     0.83456,     0.83485,     0.83513,     0.83481,     0.83441,     0.83411,     0.83418,     0.83424,     0.83431,     0.83438,     0.83444,     0.83451,\n",
              "            0.83458,     0.83464,     0.83471,     0.83478,     0.83485,      0.8338,     0.83456,     0.83466,     0.83475,     0.83485,     0.83494,     0.83504,     0.83513,     0.83523,     0.83533,     0.83503,     0.83531,      0.8356,     0.83576,     0.83567,     0.83558,     0.83549,      0.8354,\n",
              "             0.8353,     0.83521,     0.83512,     0.83503,     0.83494,     0.83485,     0.83475,      0.8354,     0.83525,      0.8351,     0.83496,     0.83481,     0.83466,     0.83452,     0.83453,     0.83493,     0.83529,     0.83558,     0.83586,     0.83622,     0.83662,     0.83706,     0.83752,\n",
              "            0.83825,     0.83804,     0.83878,     0.83885,     0.83893,     0.83901,     0.83908,     0.83916,     0.83923,     0.83931,     0.83939,     0.83946,     0.83954,     0.83936,     0.83912,     0.83889,     0.83865,     0.83843,     0.83827,     0.83811,     0.83794,     0.83778,     0.83761,\n",
              "            0.83745,     0.83788,     0.83802,      0.8378,     0.83758,     0.83735,     0.83713,     0.83817,     0.83857,     0.83889,     0.83918,     0.83945,     0.83957,     0.83968,      0.8398,     0.83991,     0.84003,     0.84015,      0.8411,     0.84137,     0.84164,     0.84165,     0.84125,\n",
              "            0.84084,     0.84079,     0.84089,     0.84099,     0.84109,     0.84119,      0.8413,      0.8414,      0.8415,     0.84169,     0.84189,      0.8421,      0.8423,     0.84218,     0.84205,     0.84192,     0.84179,     0.84167,     0.84154,     0.84141,     0.84128,     0.84117,     0.84109,\n",
              "            0.84101,     0.84093,     0.84085,     0.84077,     0.84069,     0.84061,     0.84053,     0.84045,     0.84037,     0.84029,     0.84021,     0.84013,     0.84081,      0.8403,     0.83992,     0.83955,     0.84023,     0.84105,     0.84123,     0.84137,     0.84151,     0.84164,     0.84178,\n",
              "            0.84194,     0.84235,     0.84266,     0.84228,      0.8419,     0.84166,     0.84193,     0.84221,     0.84264,     0.84324,     0.84332,      0.8434,     0.84349,     0.84357,     0.84365,     0.84373,     0.84382,      0.8439,     0.84398,     0.84425,     0.84466,     0.84489,     0.84499,\n",
              "             0.8451,      0.8452,      0.8453,     0.84541,     0.84551,     0.84562,     0.84573,     0.84585,     0.84597,     0.84609,     0.84621,     0.84633,     0.84644,      0.8459,     0.84535,     0.84616,     0.84644,     0.84672,     0.84701,     0.84743,      0.8476,     0.84675,     0.84717,\n",
              "            0.84756,     0.84784,     0.84812,     0.84857,     0.84875,     0.84761,     0.84647,     0.84555,     0.84498,     0.84414,     0.84248,     0.84262,     0.84276,      0.8429,     0.84304,     0.84318,     0.84319,     0.84361,     0.84356,     0.84327,     0.84298,     0.84269,     0.84275,\n",
              "            0.84292,     0.84309,     0.84326,     0.84343,     0.84315,     0.84282,     0.84249,     0.84104,     0.84075,     0.84045,     0.84016,     0.84009,     0.84017,     0.84026,     0.84034,     0.84043,     0.84051,      0.8406,     0.84068,     0.84076,     0.84085,     0.84156,     0.84193,\n",
              "            0.84221,      0.8425,      0.8433,     0.84477,     0.84451,     0.84425,     0.84399,     0.84434,     0.84479,     0.84493,     0.84508,     0.84522,     0.84536,      0.8455,     0.84512,     0.84454,     0.84462,     0.84491,     0.84519,     0.84579,     0.84546,     0.84512,     0.84443,\n",
              "            0.84365,     0.84335,     0.84306,     0.84276,     0.84247,     0.84217,     0.84188,     0.84158,      0.8416,     0.84179,     0.84198,     0.84217,     0.84201,     0.84128,     0.84171,     0.84197,     0.84245,     0.84223,     0.84202,      0.8418,     0.84158,     0.84137,     0.84105,\n",
              "            0.84149,     0.84195,     0.84367,     0.84448,     0.84483,     0.84518,     0.84489,      0.8443,     0.84307,     0.84323,     0.84339,     0.84355,     0.84371,      0.8428,     0.84324,     0.84345,     0.84334,     0.84323,     0.84312,     0.84301,      0.8429,     0.84279,     0.84268,\n",
              "            0.84257,     0.84246,     0.84236,     0.84199,     0.84151,     0.84121,      0.8415,      0.8418,     0.84162,      0.8414,     0.83905,     0.83874,     0.83844,     0.83813,     0.83914,     0.83932,     0.83949,     0.83967,     0.83989,      0.8416,     0.84205,     0.84119,     0.84084,\n",
              "            0.84049,     0.84014,     0.83979,     0.83944,     0.83909,     0.83895,     0.83931,     0.83966,     0.83864,     0.83777,     0.83826,     0.83846,     0.83866,     0.83885,     0.83908,     0.83993,     0.84005,     0.84018,     0.84031,     0.84044,     0.84057,     0.84069,     0.84075,\n",
              "            0.84059,     0.84042,     0.84026,     0.84009,     0.83993,     0.83976,      0.8396,     0.83723,     0.83553,     0.83536,     0.83519,     0.83503,     0.83486,     0.83469,     0.83453,     0.83429,     0.83367,     0.83327,     0.83387,     0.83009,     0.82972,     0.82936,     0.83018,\n",
              "            0.83077,     0.83065,      0.8304,     0.83015,     0.82989,     0.82964,     0.82897,     0.82905,     0.82863,      0.8282,     0.82766,     0.82702,       0.825,     0.82298,     0.82269,     0.82241,     0.82212,     0.82184,     0.82224,     0.82254,     0.82217,      0.8218,     0.82143,\n",
              "            0.81974,     0.81931,     0.81888,     0.81844,     0.81801,     0.81502,     0.81415,     0.81327,     0.81112,     0.81024,     0.80807,     0.80719,     0.80631,     0.80543,     0.80454,     0.80365,     0.80276,     0.80057,     0.79968,     0.79703,     0.79568,     0.79478,      0.7943,\n",
              "            0.79385,     0.79073,     0.78982,     0.78891,     0.77987,     0.77854,     0.77761,     0.77394,     0.77387,     0.77293,     0.77148,     0.77066,     0.77019,     0.76972,     0.76832,     0.76487,     0.76439,     0.76391,     0.76181,     0.76085,     0.75658,      0.7556,      0.7532,\n",
              "            0.75309,     0.75211,     0.74795,      0.7462,     0.74521,     0.74421,     0.74454,     0.73967,     0.73719,     0.73618,     0.73477,     0.73453,     0.73261,     0.73319,     0.72589,     0.71876,     0.71595,     0.71542,     0.71289,     0.71133,     0.71028,     0.70666,     0.70068,\n",
              "            0.69953,       0.698,     0.69692,     0.69069,     0.68977,     0.68911,     0.68189,     0.68078,     0.67269,     0.66632,     0.66435,      0.6593,     0.64767,      0.6465,     0.63868,     0.63692,     0.63573,     0.63246,     0.62362,     0.61862,     0.61552,     0.61008,     0.60663,\n",
              "            0.60588,     0.60514,     0.60434,     0.60117,     0.59834,     0.59758,     0.59269,      0.5878,     0.58019,     0.56699,     0.56567,     0.54795,     0.53181,     0.52973,     0.52558,     0.52348,     0.51307,     0.50262,     0.50117,     0.49497,     0.48848,     0.47619,     0.47507,\n",
              "            0.47087,     0.46639,     0.45965,     0.44832,     0.44141,     0.42748,     0.41567,     0.41439,     0.41318,     0.39383,      0.3828,      0.3753,     0.36522,     0.36009,     0.34724,     0.32894,      0.3156,     0.30068,     0.29788,     0.29233,     0.28674,       0.283,      0.2824,\n",
              "            0.27723,     0.27153,     0.25579,     0.24995,     0.23389,     0.22186,     0.21879,     0.21274,     0.21068,       0.208,     0.19941,     0.19671,     0.18937,     0.17367,     0.16567,     0.16162,     0.15753,     0.14615,     0.13521,     0.13264,     0.13095,     0.12212,     0.11796,\n",
              "            0.11585,     0.11413,     0.10734,    0.098755,    0.096185,    0.094427,    0.092324,    0.089407,    0.082971,    0.078794,    0.074055,    0.063371,    0.060611,    0.056875,    0.050589,    0.044055,    0.042816,    0.041576,    0.030601,    0.028719,    0.027461,    0.026201,     0.02494,\n",
              "           0.023677,     0.01869,    0.017165,    0.015637,    0.014764,    0.014314,    0.013863,    0.013413,    0.012962,    0.012511,     0.01206,    0.011609,    0.010896,   0.0096147,   0.0083321,   0.0069479,   0.0054044,   0.0038585,           0,           0,           0,           0,           0,\n",
              "                  0,           0,           0,           0,           0,           0,           0,           0,           0,           0,           0,           0,           0,           0,           0,           0,           0,           0,           0,           0,           0,           0,           0,\n",
              "                  0,           0,           0,           0,           0,           0,           0,           0,           0,           0,           0,           0,           0,           0,           0,           0,           0,           0,           0,           0,           0,           0,           0,\n",
              "                  0,           0,           0,           0,           0,           0,           0,           0,           0,           0,           0]]), 'Confidence', 'F1'], [array([          0,    0.001001,    0.002002,    0.003003,    0.004004,    0.005005,    0.006006,    0.007007,    0.008008,    0.009009,     0.01001,    0.011011,    0.012012,    0.013013,    0.014014,    0.015015,    0.016016,    0.017017,    0.018018,    0.019019,     0.02002,    0.021021,    0.022022,    0.023023,\n",
              "          0.024024,    0.025025,    0.026026,    0.027027,    0.028028,    0.029029,     0.03003,    0.031031,    0.032032,    0.033033,    0.034034,    0.035035,    0.036036,    0.037037,    0.038038,    0.039039,     0.04004,    0.041041,    0.042042,    0.043043,    0.044044,    0.045045,    0.046046,    0.047047,\n",
              "          0.048048,    0.049049,     0.05005,    0.051051,    0.052052,    0.053053,    0.054054,    0.055055,    0.056056,    0.057057,    0.058058,    0.059059,     0.06006,    0.061061,    0.062062,    0.063063,    0.064064,    0.065065,    0.066066,    0.067067,    0.068068,    0.069069,     0.07007,    0.071071,\n",
              "          0.072072,    0.073073,    0.074074,    0.075075,    0.076076,    0.077077,    0.078078,    0.079079,     0.08008,    0.081081,    0.082082,    0.083083,    0.084084,    0.085085,    0.086086,    0.087087,    0.088088,    0.089089,     0.09009,    0.091091,    0.092092,    0.093093,    0.094094,    0.095095,\n",
              "          0.096096,    0.097097,    0.098098,    0.099099,      0.1001,      0.1011,      0.1021,      0.1031,      0.1041,     0.10511,     0.10611,     0.10711,     0.10811,     0.10911,     0.11011,     0.11111,     0.11211,     0.11311,     0.11411,     0.11512,     0.11612,     0.11712,     0.11812,     0.11912,\n",
              "           0.12012,     0.12112,     0.12212,     0.12312,     0.12412,     0.12513,     0.12613,     0.12713,     0.12813,     0.12913,     0.13013,     0.13113,     0.13213,     0.13313,     0.13413,     0.13514,     0.13614,     0.13714,     0.13814,     0.13914,     0.14014,     0.14114,     0.14214,     0.14314,\n",
              "           0.14414,     0.14515,     0.14615,     0.14715,     0.14815,     0.14915,     0.15015,     0.15115,     0.15215,     0.15315,     0.15415,     0.15516,     0.15616,     0.15716,     0.15816,     0.15916,     0.16016,     0.16116,     0.16216,     0.16316,     0.16416,     0.16517,     0.16617,     0.16717,\n",
              "           0.16817,     0.16917,     0.17017,     0.17117,     0.17217,     0.17317,     0.17417,     0.17518,     0.17618,     0.17718,     0.17818,     0.17918,     0.18018,     0.18118,     0.18218,     0.18318,     0.18418,     0.18519,     0.18619,     0.18719,     0.18819,     0.18919,     0.19019,     0.19119,\n",
              "           0.19219,     0.19319,     0.19419,      0.1952,      0.1962,      0.1972,      0.1982,      0.1992,      0.2002,      0.2012,      0.2022,      0.2032,      0.2042,     0.20521,     0.20621,     0.20721,     0.20821,     0.20921,     0.21021,     0.21121,     0.21221,     0.21321,     0.21421,     0.21522,\n",
              "           0.21622,     0.21722,     0.21822,     0.21922,     0.22022,     0.22122,     0.22222,     0.22322,     0.22422,     0.22523,     0.22623,     0.22723,     0.22823,     0.22923,     0.23023,     0.23123,     0.23223,     0.23323,     0.23423,     0.23524,     0.23624,     0.23724,     0.23824,     0.23924,\n",
              "           0.24024,     0.24124,     0.24224,     0.24324,     0.24424,     0.24525,     0.24625,     0.24725,     0.24825,     0.24925,     0.25025,     0.25125,     0.25225,     0.25325,     0.25425,     0.25526,     0.25626,     0.25726,     0.25826,     0.25926,     0.26026,     0.26126,     0.26226,     0.26326,\n",
              "           0.26426,     0.26527,     0.26627,     0.26727,     0.26827,     0.26927,     0.27027,     0.27127,     0.27227,     0.27327,     0.27427,     0.27528,     0.27628,     0.27728,     0.27828,     0.27928,     0.28028,     0.28128,     0.28228,     0.28328,     0.28428,     0.28529,     0.28629,     0.28729,\n",
              "           0.28829,     0.28929,     0.29029,     0.29129,     0.29229,     0.29329,     0.29429,      0.2953,      0.2963,      0.2973,      0.2983,      0.2993,      0.3003,      0.3013,      0.3023,      0.3033,      0.3043,     0.30531,     0.30631,     0.30731,     0.30831,     0.30931,     0.31031,     0.31131,\n",
              "           0.31231,     0.31331,     0.31431,     0.31532,     0.31632,     0.31732,     0.31832,     0.31932,     0.32032,     0.32132,     0.32232,     0.32332,     0.32432,     0.32533,     0.32633,     0.32733,     0.32833,     0.32933,     0.33033,     0.33133,     0.33233,     0.33333,     0.33433,     0.33534,\n",
              "           0.33634,     0.33734,     0.33834,     0.33934,     0.34034,     0.34134,     0.34234,     0.34334,     0.34434,     0.34535,     0.34635,     0.34735,     0.34835,     0.34935,     0.35035,     0.35135,     0.35235,     0.35335,     0.35435,     0.35536,     0.35636,     0.35736,     0.35836,     0.35936,\n",
              "           0.36036,     0.36136,     0.36236,     0.36336,     0.36436,     0.36537,     0.36637,     0.36737,     0.36837,     0.36937,     0.37037,     0.37137,     0.37237,     0.37337,     0.37437,     0.37538,     0.37638,     0.37738,     0.37838,     0.37938,     0.38038,     0.38138,     0.38238,     0.38338,\n",
              "           0.38438,     0.38539,     0.38639,     0.38739,     0.38839,     0.38939,     0.39039,     0.39139,     0.39239,     0.39339,     0.39439,      0.3954,      0.3964,      0.3974,      0.3984,      0.3994,      0.4004,      0.4014,      0.4024,      0.4034,      0.4044,     0.40541,     0.40641,     0.40741,\n",
              "           0.40841,     0.40941,     0.41041,     0.41141,     0.41241,     0.41341,     0.41441,     0.41542,     0.41642,     0.41742,     0.41842,     0.41942,     0.42042,     0.42142,     0.42242,     0.42342,     0.42442,     0.42543,     0.42643,     0.42743,     0.42843,     0.42943,     0.43043,     0.43143,\n",
              "           0.43243,     0.43343,     0.43443,     0.43544,     0.43644,     0.43744,     0.43844,     0.43944,     0.44044,     0.44144,     0.44244,     0.44344,     0.44444,     0.44545,     0.44645,     0.44745,     0.44845,     0.44945,     0.45045,     0.45145,     0.45245,     0.45345,     0.45445,     0.45546,\n",
              "           0.45646,     0.45746,     0.45846,     0.45946,     0.46046,     0.46146,     0.46246,     0.46346,     0.46446,     0.46547,     0.46647,     0.46747,     0.46847,     0.46947,     0.47047,     0.47147,     0.47247,     0.47347,     0.47447,     0.47548,     0.47648,     0.47748,     0.47848,     0.47948,\n",
              "           0.48048,     0.48148,     0.48248,     0.48348,     0.48448,     0.48549,     0.48649,     0.48749,     0.48849,     0.48949,     0.49049,     0.49149,     0.49249,     0.49349,     0.49449,      0.4955,      0.4965,      0.4975,      0.4985,      0.4995,      0.5005,      0.5015,      0.5025,      0.5035,\n",
              "            0.5045,     0.50551,     0.50651,     0.50751,     0.50851,     0.50951,     0.51051,     0.51151,     0.51251,     0.51351,     0.51451,     0.51552,     0.51652,     0.51752,     0.51852,     0.51952,     0.52052,     0.52152,     0.52252,     0.52352,     0.52452,     0.52553,     0.52653,     0.52753,\n",
              "           0.52853,     0.52953,     0.53053,     0.53153,     0.53253,     0.53353,     0.53453,     0.53554,     0.53654,     0.53754,     0.53854,     0.53954,     0.54054,     0.54154,     0.54254,     0.54354,     0.54454,     0.54555,     0.54655,     0.54755,     0.54855,     0.54955,     0.55055,     0.55155,\n",
              "           0.55255,     0.55355,     0.55455,     0.55556,     0.55656,     0.55756,     0.55856,     0.55956,     0.56056,     0.56156,     0.56256,     0.56356,     0.56456,     0.56557,     0.56657,     0.56757,     0.56857,     0.56957,     0.57057,     0.57157,     0.57257,     0.57357,     0.57457,     0.57558,\n",
              "           0.57658,     0.57758,     0.57858,     0.57958,     0.58058,     0.58158,     0.58258,     0.58358,     0.58458,     0.58559,     0.58659,     0.58759,     0.58859,     0.58959,     0.59059,     0.59159,     0.59259,     0.59359,     0.59459,      0.5956,      0.5966,      0.5976,      0.5986,      0.5996,\n",
              "            0.6006,      0.6016,      0.6026,      0.6036,      0.6046,     0.60561,     0.60661,     0.60761,     0.60861,     0.60961,     0.61061,     0.61161,     0.61261,     0.61361,     0.61461,     0.61562,     0.61662,     0.61762,     0.61862,     0.61962,     0.62062,     0.62162,     0.62262,     0.62362,\n",
              "           0.62462,     0.62563,     0.62663,     0.62763,     0.62863,     0.62963,     0.63063,     0.63163,     0.63263,     0.63363,     0.63463,     0.63564,     0.63664,     0.63764,     0.63864,     0.63964,     0.64064,     0.64164,     0.64264,     0.64364,     0.64464,     0.64565,     0.64665,     0.64765,\n",
              "           0.64865,     0.64965,     0.65065,     0.65165,     0.65265,     0.65365,     0.65465,     0.65566,     0.65666,     0.65766,     0.65866,     0.65966,     0.66066,     0.66166,     0.66266,     0.66366,     0.66466,     0.66567,     0.66667,     0.66767,     0.66867,     0.66967,     0.67067,     0.67167,\n",
              "           0.67267,     0.67367,     0.67467,     0.67568,     0.67668,     0.67768,     0.67868,     0.67968,     0.68068,     0.68168,     0.68268,     0.68368,     0.68468,     0.68569,     0.68669,     0.68769,     0.68869,     0.68969,     0.69069,     0.69169,     0.69269,     0.69369,     0.69469,      0.6957,\n",
              "            0.6967,      0.6977,      0.6987,      0.6997,      0.7007,      0.7017,      0.7027,      0.7037,      0.7047,     0.70571,     0.70671,     0.70771,     0.70871,     0.70971,     0.71071,     0.71171,     0.71271,     0.71371,     0.71471,     0.71572,     0.71672,     0.71772,     0.71872,     0.71972,\n",
              "           0.72072,     0.72172,     0.72272,     0.72372,     0.72472,     0.72573,     0.72673,     0.72773,     0.72873,     0.72973,     0.73073,     0.73173,     0.73273,     0.73373,     0.73473,     0.73574,     0.73674,     0.73774,     0.73874,     0.73974,     0.74074,     0.74174,     0.74274,     0.74374,\n",
              "           0.74474,     0.74575,     0.74675,     0.74775,     0.74875,     0.74975,     0.75075,     0.75175,     0.75275,     0.75375,     0.75475,     0.75576,     0.75676,     0.75776,     0.75876,     0.75976,     0.76076,     0.76176,     0.76276,     0.76376,     0.76476,     0.76577,     0.76677,     0.76777,\n",
              "           0.76877,     0.76977,     0.77077,     0.77177,     0.77277,     0.77377,     0.77477,     0.77578,     0.77678,     0.77778,     0.77878,     0.77978,     0.78078,     0.78178,     0.78278,     0.78378,     0.78478,     0.78579,     0.78679,     0.78779,     0.78879,     0.78979,     0.79079,     0.79179,\n",
              "           0.79279,     0.79379,     0.79479,      0.7958,      0.7968,      0.7978,      0.7988,      0.7998,      0.8008,      0.8018,      0.8028,      0.8038,      0.8048,     0.80581,     0.80681,     0.80781,     0.80881,     0.80981,     0.81081,     0.81181,     0.81281,     0.81381,     0.81481,     0.81582,\n",
              "           0.81682,     0.81782,     0.81882,     0.81982,     0.82082,     0.82182,     0.82282,     0.82382,     0.82482,     0.82583,     0.82683,     0.82783,     0.82883,     0.82983,     0.83083,     0.83183,     0.83283,     0.83383,     0.83483,     0.83584,     0.83684,     0.83784,     0.83884,     0.83984,\n",
              "           0.84084,     0.84184,     0.84284,     0.84384,     0.84484,     0.84585,     0.84685,     0.84785,     0.84885,     0.84985,     0.85085,     0.85185,     0.85285,     0.85385,     0.85485,     0.85586,     0.85686,     0.85786,     0.85886,     0.85986,     0.86086,     0.86186,     0.86286,     0.86386,\n",
              "           0.86486,     0.86587,     0.86687,     0.86787,     0.86887,     0.86987,     0.87087,     0.87187,     0.87287,     0.87387,     0.87487,     0.87588,     0.87688,     0.87788,     0.87888,     0.87988,     0.88088,     0.88188,     0.88288,     0.88388,     0.88488,     0.88589,     0.88689,     0.88789,\n",
              "           0.88889,     0.88989,     0.89089,     0.89189,     0.89289,     0.89389,     0.89489,      0.8959,      0.8969,      0.8979,      0.8989,      0.8999,      0.9009,      0.9019,      0.9029,      0.9039,      0.9049,     0.90591,     0.90691,     0.90791,     0.90891,     0.90991,     0.91091,     0.91191,\n",
              "           0.91291,     0.91391,     0.91491,     0.91592,     0.91692,     0.91792,     0.91892,     0.91992,     0.92092,     0.92192,     0.92292,     0.92392,     0.92492,     0.92593,     0.92693,     0.92793,     0.92893,     0.92993,     0.93093,     0.93193,     0.93293,     0.93393,     0.93493,     0.93594,\n",
              "           0.93694,     0.93794,     0.93894,     0.93994,     0.94094,     0.94194,     0.94294,     0.94394,     0.94494,     0.94595,     0.94695,     0.94795,     0.94895,     0.94995,     0.95095,     0.95195,     0.95295,     0.95395,     0.95495,     0.95596,     0.95696,     0.95796,     0.95896,     0.95996,\n",
              "           0.96096,     0.96196,     0.96296,     0.96396,     0.96496,     0.96597,     0.96697,     0.96797,     0.96897,     0.96997,     0.97097,     0.97197,     0.97297,     0.97397,     0.97497,     0.97598,     0.97698,     0.97798,     0.97898,     0.97998,     0.98098,     0.98198,     0.98298,     0.98398,\n",
              "           0.98498,     0.98599,     0.98699,     0.98799,     0.98899,     0.98999,     0.99099,     0.99199,     0.99299,     0.99399,     0.99499,       0.996,       0.997,       0.998,       0.999,           1]), array([[    0.30821,     0.30821,     0.38428,     0.42709,     0.46131,     0.48415,     0.50054,     0.51505,     0.53031,     0.54199,     0.55322,     0.55976,     0.56431,     0.57074,     0.57575,     0.58623,     0.59259,     0.59912,     0.60465,     0.60747,     0.60888,     0.61082,     0.61253,\n",
              "            0.61396,     0.61899,     0.62393,      0.6272,     0.63014,     0.63211,     0.63415,      0.6378,     0.63882,     0.63983,     0.64115,     0.64342,     0.64675,     0.64796,     0.65196,     0.65178,     0.65319,     0.65614,     0.65846,      0.6607,     0.66048,     0.66081,     0.66258,\n",
              "            0.66333,     0.66434,     0.66565,     0.66713,     0.66805,     0.67298,     0.67485,     0.67584,     0.67752,     0.67896,     0.68027,     0.68167,      0.6859,     0.68711,     0.68677,     0.68717,     0.68758,     0.68851,     0.68826,     0.68868,     0.68909,     0.68994,     0.69064,\n",
              "            0.69128,     0.69427,     0.69455,     0.69483,     0.69511,     0.69635,     0.69882,     0.70039,     0.70057,     0.70075,     0.70093,     0.70111,     0.70129,      0.7031,     0.70328,     0.70313,     0.70299,     0.70516,      0.7081,     0.70783,     0.70835,     0.70897,     0.70929,\n",
              "            0.70962,     0.71048,      0.7111,     0.71138,     0.71167,     0.71202,     0.71356,      0.7155,     0.71712,     0.71923,     0.72065,     0.72124,     0.72324,     0.72409,     0.72452,     0.72497,     0.72593,      0.7264,     0.72683,     0.72729,     0.72786,     0.72839,     0.72886,\n",
              "            0.72933,     0.73114,     0.73253,     0.73392,     0.73449,       0.735,     0.73516,     0.73533,      0.7355,     0.73566,     0.73583,     0.73599,     0.73722,     0.73714,     0.73705,     0.73697,     0.73688,     0.73675,     0.73657,     0.73713,     0.73753,     0.73747,     0.73741,\n",
              "            0.73735,     0.73729,     0.73723,     0.73718,      0.7376,     0.73807,     0.73859,     0.73918,      0.7406,     0.74086,     0.74132,     0.74122,     0.74111,     0.74101,     0.74123,     0.74161,     0.74199,     0.74446,     0.74426,     0.74411,     0.74486,     0.74576,     0.74733,\n",
              "            0.75163,     0.75313,     0.75378,     0.75401,     0.75423,     0.75446,     0.75468,      0.7553,     0.75736,     0.75773,      0.7581,     0.75849,     0.75921,     0.75986,     0.76039,     0.76306,     0.76417,     0.76405,     0.76394,     0.76382,     0.76361,     0.76349,     0.76359,\n",
              "            0.76369,     0.76379,     0.76389,     0.76399,     0.76409,     0.76419,     0.76429,     0.76439,     0.76449,     0.76459,     0.76469,     0.76559,     0.76627,     0.76676,     0.76725,     0.76766,     0.76807,     0.76853,     0.76994,     0.77044,     0.77093,     0.77125,     0.77153,\n",
              "            0.77181,     0.77209,     0.77242,     0.77282,     0.77322,     0.77386,      0.7747,     0.77486,     0.77622,     0.77711,     0.77762,     0.77813,     0.77891,     0.77979,     0.78042,     0.78093,     0.78088,     0.78083,     0.78078,     0.78073,     0.78068,     0.78063,     0.78058,\n",
              "            0.78104,     0.78167,     0.78307,     0.78455,     0.78474,     0.78492,     0.78511,      0.7853,     0.78548,     0.78567,     0.78582,     0.78572,     0.78562,     0.78551,     0.78563,      0.7859,     0.78616,     0.78643,     0.78669,      0.7869,     0.78706,     0.78722,     0.78739,\n",
              "            0.78755,     0.78771,     0.78788,     0.78804,     0.78819,     0.78833,     0.78847,      0.7886,     0.78874,     0.78888,     0.78902,     0.78915,     0.78929,     0.78943,      0.7897,     0.79005,     0.79039,     0.79073,     0.79152,     0.79272,     0.79507,     0.79542,     0.79577,\n",
              "            0.79612,     0.79599,      0.7958,     0.79568,     0.79556,      0.7966,     0.79703,     0.79718,     0.79734,     0.79749,     0.79765,     0.79781,     0.79796,     0.79812,     0.79829,     0.79964,     0.79958,     0.79953,     0.79948,     0.79942,     0.79937,     0.79931,     0.79921,\n",
              "            0.79911,     0.79901,     0.79894,     0.79891,     0.79888,     0.79885,     0.79881,     0.79878,     0.79875,     0.79872,     0.79868,     0.79865,     0.79862,     0.79925,     0.79999,     0.79993,     0.79986,     0.79979,     0.79972,     0.79965,     0.80044,     0.80153,     0.80288,\n",
              "             0.8037,     0.80357,     0.80332,     0.80452,     0.80436,     0.80469,     0.80501,     0.80533,     0.80566,     0.80624,     0.80683,     0.80738,     0.80792,     0.80845,      0.8084,     0.80827,      0.8082,     0.80832,     0.80845,     0.80857,      0.8087,     0.80882,     0.80895,\n",
              "            0.80907,      0.8092,     0.80933,     0.80945,     0.80958,     0.80928,     0.81072,      0.8109,     0.81108,     0.81126,     0.81144,     0.81162,      0.8118,     0.81198,     0.81216,     0.81329,     0.81384,     0.81438,     0.81474,     0.81471,     0.81468,     0.81465,     0.81462,\n",
              "             0.8146,     0.81457,     0.81454,     0.81451,     0.81448,     0.81445,     0.81443,     0.81586,     0.81581,     0.81577,     0.81572,     0.81567,     0.81563,     0.81558,     0.81578,     0.81654,     0.81722,     0.81778,     0.81833,     0.81902,     0.81978,     0.82063,     0.82151,\n",
              "            0.82298,     0.82427,      0.8257,     0.82585,       0.826,     0.82614,     0.82629,     0.82644,     0.82659,     0.82674,     0.82689,     0.82703,     0.82718,     0.82715,     0.82708,     0.82701,     0.82694,     0.82688,     0.82683,     0.82678,     0.82673,     0.82668,     0.82664,\n",
              "            0.82659,     0.82754,     0.82805,     0.82799,     0.82792,     0.82786,     0.82779,     0.82992,     0.83071,     0.83133,      0.8319,     0.83243,     0.83266,     0.83289,     0.83311,     0.83334,     0.83357,      0.8338,     0.83568,     0.83621,     0.83675,     0.83704,     0.83692,\n",
              "            0.83681,     0.83691,     0.83711,     0.83732,     0.83752,     0.83772,     0.83792,     0.83812,     0.83832,     0.83871,     0.83911,     0.83951,     0.83992,     0.83989,     0.83985,     0.83982,     0.83978,     0.83975,     0.83971,     0.83968,     0.83964,     0.83961,     0.83959,\n",
              "            0.83957,     0.83955,     0.83952,      0.8395,     0.83948,     0.83946,     0.83944,     0.83941,     0.83939,     0.83937,     0.83935,     0.83932,     0.84226,     0.84212,     0.84202,     0.84192,     0.84337,     0.84502,     0.84538,     0.84566,     0.84594,     0.84621,     0.84649,\n",
              "            0.84681,     0.84765,     0.84836,     0.84826,     0.84816,     0.84819,     0.84875,     0.84931,     0.85018,      0.8514,     0.85157,     0.85174,     0.85191,     0.85208,     0.85225,     0.85242,     0.85258,     0.85275,     0.85292,     0.85346,     0.85431,     0.85478,     0.85499,\n",
              "             0.8552,     0.85542,     0.85563,     0.85584,     0.85605,     0.85627,      0.8565,     0.85675,     0.85699,     0.85724,     0.85748,     0.85772,     0.85797,     0.85784,     0.85772,      0.8594,     0.85997,     0.86055,     0.86115,     0.86202,      0.8627,     0.86264,     0.86351,\n",
              "            0.86431,     0.86489,     0.86547,     0.86641,      0.8675,     0.86723,     0.86696,     0.86674,     0.86661,     0.86641,     0.86614,     0.86644,     0.86673,     0.86703,     0.86733,     0.86762,     0.86977,     0.87067,     0.87092,     0.87086,     0.87079,     0.87072,     0.87099,\n",
              "            0.87135,     0.87171,     0.87207,     0.87243,      0.8724,     0.87233,     0.87225,     0.87192,     0.87185,     0.87179,     0.87172,      0.8718,     0.87198,     0.87216,     0.87234,     0.87252,     0.87271,     0.87289,     0.87307,     0.87325,     0.87344,     0.87497,     0.87577,\n",
              "            0.87639,       0.877,     0.87874,     0.88242,     0.88237,     0.88231,     0.88226,     0.88326,     0.88424,     0.88455,     0.88486,     0.88518,     0.88549,      0.8858,      0.8858,     0.88568,     0.88614,     0.88677,      0.8874,      0.8893,     0.88923,     0.88916,     0.88902,\n",
              "            0.88886,      0.8888,     0.88874,     0.88868,     0.88862,     0.88856,      0.8885,     0.88844,      0.8887,     0.88913,     0.88955,     0.88998,     0.89023,     0.89034,      0.8913,     0.89427,     0.89551,     0.89547,     0.89542,     0.89538,     0.89534,      0.8953,     0.89701,\n",
              "              0.898,     0.89905,     0.90298,     0.90485,     0.90566,     0.90646,     0.90665,     0.90655,     0.90658,     0.90695,     0.90732,     0.90769,     0.90806,     0.90846,     0.90948,     0.91008,     0.91006,     0.91004,     0.91003,     0.91001,     0.90999,     0.90997,     0.90995,\n",
              "            0.90993,     0.90991,      0.9099,     0.90984,     0.90975,     0.90985,     0.91054,     0.91123,     0.91164,     0.91288,      0.9131,     0.91305,       0.913,     0.91295,     0.91539,     0.91581,     0.91623,     0.91665,     0.91718,     0.92127,     0.92233,     0.92307,     0.92302,\n",
              "            0.92297,     0.92292,     0.92287,     0.92281,     0.92276,     0.92299,     0.92386,     0.92472,     0.92468,     0.92455,     0.92681,      0.9273,     0.92779,     0.92827,     0.92883,      0.9309,     0.93121,     0.93153,     0.93184,     0.93216,     0.93247,     0.93278,     0.93302,\n",
              "              0.933,     0.93298,     0.93296,     0.93294,     0.93291,     0.93289,     0.93287,     0.93257,     0.93442,      0.9344,     0.93437,     0.93435,     0.93433,     0.93431,     0.93429,     0.93426,     0.93418,      0.9344,     0.93591,     0.93583,     0.93579,     0.93575,     0.93842,\n",
              "            0.93996,     0.94017,     0.94014,     0.94011,     0.94008,     0.94005,      0.9414,     0.94214,      0.9421,     0.94205,     0.94199,     0.94192,     0.94169,     0.94146,     0.94143,     0.94139,     0.94136,     0.94133,     0.94254,     0.94361,     0.94357,     0.94353,     0.94349,\n",
              "            0.94331,     0.94326,     0.94321,     0.94316,     0.94312,     0.94278,     0.94268,     0.94259,     0.94234,     0.94225,       0.942,      0.9419,      0.9418,      0.9417,      0.9416,      0.9415,     0.94139,     0.94114,     0.94104,     0.94306,     0.94527,     0.94518,     0.94512,\n",
              "            0.94507,     0.94473,     0.94464,     0.94454,     0.94353,     0.94338,     0.94328,     0.94287,     0.94534,     0.94523,     0.94759,      0.9475,     0.94745,      0.9474,     0.94813,     0.95466,     0.95461,     0.95457,     0.95438,     0.95429,     0.95389,      0.9538,     0.95357,\n",
              "            0.95626,     0.95617,      0.9558,      0.9584,     0.95832,     0.95823,     0.96027,     0.96067,     0.96046,     0.96038,     0.96027,     0.96313,      0.9637,     0.96574,     0.96542,      0.9649,     0.96469,     0.96566,     0.96753,     0.96742,     0.96735,     0.97024,     0.96986,\n",
              "            0.96978,     0.96969,     0.96962,     0.96921,     0.96915,      0.9691,     0.96862,     0.96854,     0.96799,     0.96954,     0.97087,     0.97054,     0.96978,      0.9697,     0.97287,     0.97276,     0.97269,     0.97249,     0.97193,     0.97161,     0.97141,     0.97105,     0.97082,\n",
              "            0.97077,     0.97072,     0.97471,     0.98702,     0.98694,     0.98691,     0.98676,     0.99102,     0.99085,     0.99055,     0.99052,      0.9901,     0.98969,     0.98963,     0.98952,     0.98947,     0.98918,     0.98888,     0.98884,     0.98866,     0.98846,     0.98807,     0.98803,\n",
              "            0.98789,     0.98774,     0.98751,     0.98711,     0.98685,     0.98631,     0.98582,     0.98577,     0.98571,     0.98484,     0.98431,     0.98393,     0.98339,      0.9831,     0.98236,     0.98119,     0.98026,     0.97912,     0.97889,     0.97843,     0.97795,     0.97762,     0.98694,\n",
              "            0.98839,     0.98811,     0.98727,     0.98694,     0.98593,     0.98508,     0.98484,     0.98437,      0.9842,     0.98397,     0.98322,     0.98296,     0.98225,     0.98051,      0.9795,     0.97895,     0.97837,     0.97658,     0.97459,     0.97407,     0.97373,     0.97175,     0.97072,\n",
              "            0.97017,     0.96971,     0.96774,     0.96487,     0.96392,     0.96325,      0.9624,     0.96116,           1,           1,           1,           1,           1,           1,           1,           1,           1,           1,           1,           1,           1,           1,           1,\n",
              "                  1,           1,           1,           1,           1,           1,           1,           1,           1,           1,           1,           1,           1,           1,           1,           1,           1,           1,           1,           1,           1,           1,           1,\n",
              "                  1,           1,           1,           1,           1,           1,           1,           1,           1,           1,           1,           1,           1,           1,           1,           1,           1,           1,           1,           1,           1,           1,           1,\n",
              "                  1,           1,           1,           1,           1,           1,           1,           1,           1,           1,           1,           1,           1,           1,           1,           1,           1,           1,           1,           1,           1,           1,           1,\n",
              "                  1,           1,           1,           1,           1,           1,           1,           1,           1,           1,           1]]), 'Confidence', 'Precision'], [array([          0,    0.001001,    0.002002,    0.003003,    0.004004,    0.005005,    0.006006,    0.007007,    0.008008,    0.009009,     0.01001,    0.011011,    0.012012,    0.013013,    0.014014,    0.015015,    0.016016,    0.017017,    0.018018,    0.019019,     0.02002,    0.021021,    0.022022,    0.023023,\n",
              "          0.024024,    0.025025,    0.026026,    0.027027,    0.028028,    0.029029,     0.03003,    0.031031,    0.032032,    0.033033,    0.034034,    0.035035,    0.036036,    0.037037,    0.038038,    0.039039,     0.04004,    0.041041,    0.042042,    0.043043,    0.044044,    0.045045,    0.046046,    0.047047,\n",
              "          0.048048,    0.049049,     0.05005,    0.051051,    0.052052,    0.053053,    0.054054,    0.055055,    0.056056,    0.057057,    0.058058,    0.059059,     0.06006,    0.061061,    0.062062,    0.063063,    0.064064,    0.065065,    0.066066,    0.067067,    0.068068,    0.069069,     0.07007,    0.071071,\n",
              "          0.072072,    0.073073,    0.074074,    0.075075,    0.076076,    0.077077,    0.078078,    0.079079,     0.08008,    0.081081,    0.082082,    0.083083,    0.084084,    0.085085,    0.086086,    0.087087,    0.088088,    0.089089,     0.09009,    0.091091,    0.092092,    0.093093,    0.094094,    0.095095,\n",
              "          0.096096,    0.097097,    0.098098,    0.099099,      0.1001,      0.1011,      0.1021,      0.1031,      0.1041,     0.10511,     0.10611,     0.10711,     0.10811,     0.10911,     0.11011,     0.11111,     0.11211,     0.11311,     0.11411,     0.11512,     0.11612,     0.11712,     0.11812,     0.11912,\n",
              "           0.12012,     0.12112,     0.12212,     0.12312,     0.12412,     0.12513,     0.12613,     0.12713,     0.12813,     0.12913,     0.13013,     0.13113,     0.13213,     0.13313,     0.13413,     0.13514,     0.13614,     0.13714,     0.13814,     0.13914,     0.14014,     0.14114,     0.14214,     0.14314,\n",
              "           0.14414,     0.14515,     0.14615,     0.14715,     0.14815,     0.14915,     0.15015,     0.15115,     0.15215,     0.15315,     0.15415,     0.15516,     0.15616,     0.15716,     0.15816,     0.15916,     0.16016,     0.16116,     0.16216,     0.16316,     0.16416,     0.16517,     0.16617,     0.16717,\n",
              "           0.16817,     0.16917,     0.17017,     0.17117,     0.17217,     0.17317,     0.17417,     0.17518,     0.17618,     0.17718,     0.17818,     0.17918,     0.18018,     0.18118,     0.18218,     0.18318,     0.18418,     0.18519,     0.18619,     0.18719,     0.18819,     0.18919,     0.19019,     0.19119,\n",
              "           0.19219,     0.19319,     0.19419,      0.1952,      0.1962,      0.1972,      0.1982,      0.1992,      0.2002,      0.2012,      0.2022,      0.2032,      0.2042,     0.20521,     0.20621,     0.20721,     0.20821,     0.20921,     0.21021,     0.21121,     0.21221,     0.21321,     0.21421,     0.21522,\n",
              "           0.21622,     0.21722,     0.21822,     0.21922,     0.22022,     0.22122,     0.22222,     0.22322,     0.22422,     0.22523,     0.22623,     0.22723,     0.22823,     0.22923,     0.23023,     0.23123,     0.23223,     0.23323,     0.23423,     0.23524,     0.23624,     0.23724,     0.23824,     0.23924,\n",
              "           0.24024,     0.24124,     0.24224,     0.24324,     0.24424,     0.24525,     0.24625,     0.24725,     0.24825,     0.24925,     0.25025,     0.25125,     0.25225,     0.25325,     0.25425,     0.25526,     0.25626,     0.25726,     0.25826,     0.25926,     0.26026,     0.26126,     0.26226,     0.26326,\n",
              "           0.26426,     0.26527,     0.26627,     0.26727,     0.26827,     0.26927,     0.27027,     0.27127,     0.27227,     0.27327,     0.27427,     0.27528,     0.27628,     0.27728,     0.27828,     0.27928,     0.28028,     0.28128,     0.28228,     0.28328,     0.28428,     0.28529,     0.28629,     0.28729,\n",
              "           0.28829,     0.28929,     0.29029,     0.29129,     0.29229,     0.29329,     0.29429,      0.2953,      0.2963,      0.2973,      0.2983,      0.2993,      0.3003,      0.3013,      0.3023,      0.3033,      0.3043,     0.30531,     0.30631,     0.30731,     0.30831,     0.30931,     0.31031,     0.31131,\n",
              "           0.31231,     0.31331,     0.31431,     0.31532,     0.31632,     0.31732,     0.31832,     0.31932,     0.32032,     0.32132,     0.32232,     0.32332,     0.32432,     0.32533,     0.32633,     0.32733,     0.32833,     0.32933,     0.33033,     0.33133,     0.33233,     0.33333,     0.33433,     0.33534,\n",
              "           0.33634,     0.33734,     0.33834,     0.33934,     0.34034,     0.34134,     0.34234,     0.34334,     0.34434,     0.34535,     0.34635,     0.34735,     0.34835,     0.34935,     0.35035,     0.35135,     0.35235,     0.35335,     0.35435,     0.35536,     0.35636,     0.35736,     0.35836,     0.35936,\n",
              "           0.36036,     0.36136,     0.36236,     0.36336,     0.36436,     0.36537,     0.36637,     0.36737,     0.36837,     0.36937,     0.37037,     0.37137,     0.37237,     0.37337,     0.37437,     0.37538,     0.37638,     0.37738,     0.37838,     0.37938,     0.38038,     0.38138,     0.38238,     0.38338,\n",
              "           0.38438,     0.38539,     0.38639,     0.38739,     0.38839,     0.38939,     0.39039,     0.39139,     0.39239,     0.39339,     0.39439,      0.3954,      0.3964,      0.3974,      0.3984,      0.3994,      0.4004,      0.4014,      0.4024,      0.4034,      0.4044,     0.40541,     0.40641,     0.40741,\n",
              "           0.40841,     0.40941,     0.41041,     0.41141,     0.41241,     0.41341,     0.41441,     0.41542,     0.41642,     0.41742,     0.41842,     0.41942,     0.42042,     0.42142,     0.42242,     0.42342,     0.42442,     0.42543,     0.42643,     0.42743,     0.42843,     0.42943,     0.43043,     0.43143,\n",
              "           0.43243,     0.43343,     0.43443,     0.43544,     0.43644,     0.43744,     0.43844,     0.43944,     0.44044,     0.44144,     0.44244,     0.44344,     0.44444,     0.44545,     0.44645,     0.44745,     0.44845,     0.44945,     0.45045,     0.45145,     0.45245,     0.45345,     0.45445,     0.45546,\n",
              "           0.45646,     0.45746,     0.45846,     0.45946,     0.46046,     0.46146,     0.46246,     0.46346,     0.46446,     0.46547,     0.46647,     0.46747,     0.46847,     0.46947,     0.47047,     0.47147,     0.47247,     0.47347,     0.47447,     0.47548,     0.47648,     0.47748,     0.47848,     0.47948,\n",
              "           0.48048,     0.48148,     0.48248,     0.48348,     0.48448,     0.48549,     0.48649,     0.48749,     0.48849,     0.48949,     0.49049,     0.49149,     0.49249,     0.49349,     0.49449,      0.4955,      0.4965,      0.4975,      0.4985,      0.4995,      0.5005,      0.5015,      0.5025,      0.5035,\n",
              "            0.5045,     0.50551,     0.50651,     0.50751,     0.50851,     0.50951,     0.51051,     0.51151,     0.51251,     0.51351,     0.51451,     0.51552,     0.51652,     0.51752,     0.51852,     0.51952,     0.52052,     0.52152,     0.52252,     0.52352,     0.52452,     0.52553,     0.52653,     0.52753,\n",
              "           0.52853,     0.52953,     0.53053,     0.53153,     0.53253,     0.53353,     0.53453,     0.53554,     0.53654,     0.53754,     0.53854,     0.53954,     0.54054,     0.54154,     0.54254,     0.54354,     0.54454,     0.54555,     0.54655,     0.54755,     0.54855,     0.54955,     0.55055,     0.55155,\n",
              "           0.55255,     0.55355,     0.55455,     0.55556,     0.55656,     0.55756,     0.55856,     0.55956,     0.56056,     0.56156,     0.56256,     0.56356,     0.56456,     0.56557,     0.56657,     0.56757,     0.56857,     0.56957,     0.57057,     0.57157,     0.57257,     0.57357,     0.57457,     0.57558,\n",
              "           0.57658,     0.57758,     0.57858,     0.57958,     0.58058,     0.58158,     0.58258,     0.58358,     0.58458,     0.58559,     0.58659,     0.58759,     0.58859,     0.58959,     0.59059,     0.59159,     0.59259,     0.59359,     0.59459,      0.5956,      0.5966,      0.5976,      0.5986,      0.5996,\n",
              "            0.6006,      0.6016,      0.6026,      0.6036,      0.6046,     0.60561,     0.60661,     0.60761,     0.60861,     0.60961,     0.61061,     0.61161,     0.61261,     0.61361,     0.61461,     0.61562,     0.61662,     0.61762,     0.61862,     0.61962,     0.62062,     0.62162,     0.62262,     0.62362,\n",
              "           0.62462,     0.62563,     0.62663,     0.62763,     0.62863,     0.62963,     0.63063,     0.63163,     0.63263,     0.63363,     0.63463,     0.63564,     0.63664,     0.63764,     0.63864,     0.63964,     0.64064,     0.64164,     0.64264,     0.64364,     0.64464,     0.64565,     0.64665,     0.64765,\n",
              "           0.64865,     0.64965,     0.65065,     0.65165,     0.65265,     0.65365,     0.65465,     0.65566,     0.65666,     0.65766,     0.65866,     0.65966,     0.66066,     0.66166,     0.66266,     0.66366,     0.66466,     0.66567,     0.66667,     0.66767,     0.66867,     0.66967,     0.67067,     0.67167,\n",
              "           0.67267,     0.67367,     0.67467,     0.67568,     0.67668,     0.67768,     0.67868,     0.67968,     0.68068,     0.68168,     0.68268,     0.68368,     0.68468,     0.68569,     0.68669,     0.68769,     0.68869,     0.68969,     0.69069,     0.69169,     0.69269,     0.69369,     0.69469,      0.6957,\n",
              "            0.6967,      0.6977,      0.6987,      0.6997,      0.7007,      0.7017,      0.7027,      0.7037,      0.7047,     0.70571,     0.70671,     0.70771,     0.70871,     0.70971,     0.71071,     0.71171,     0.71271,     0.71371,     0.71471,     0.71572,     0.71672,     0.71772,     0.71872,     0.71972,\n",
              "           0.72072,     0.72172,     0.72272,     0.72372,     0.72472,     0.72573,     0.72673,     0.72773,     0.72873,     0.72973,     0.73073,     0.73173,     0.73273,     0.73373,     0.73473,     0.73574,     0.73674,     0.73774,     0.73874,     0.73974,     0.74074,     0.74174,     0.74274,     0.74374,\n",
              "           0.74474,     0.74575,     0.74675,     0.74775,     0.74875,     0.74975,     0.75075,     0.75175,     0.75275,     0.75375,     0.75475,     0.75576,     0.75676,     0.75776,     0.75876,     0.75976,     0.76076,     0.76176,     0.76276,     0.76376,     0.76476,     0.76577,     0.76677,     0.76777,\n",
              "           0.76877,     0.76977,     0.77077,     0.77177,     0.77277,     0.77377,     0.77477,     0.77578,     0.77678,     0.77778,     0.77878,     0.77978,     0.78078,     0.78178,     0.78278,     0.78378,     0.78478,     0.78579,     0.78679,     0.78779,     0.78879,     0.78979,     0.79079,     0.79179,\n",
              "           0.79279,     0.79379,     0.79479,      0.7958,      0.7968,      0.7978,      0.7988,      0.7998,      0.8008,      0.8018,      0.8028,      0.8038,      0.8048,     0.80581,     0.80681,     0.80781,     0.80881,     0.80981,     0.81081,     0.81181,     0.81281,     0.81381,     0.81481,     0.81582,\n",
              "           0.81682,     0.81782,     0.81882,     0.81982,     0.82082,     0.82182,     0.82282,     0.82382,     0.82482,     0.82583,     0.82683,     0.82783,     0.82883,     0.82983,     0.83083,     0.83183,     0.83283,     0.83383,     0.83483,     0.83584,     0.83684,     0.83784,     0.83884,     0.83984,\n",
              "           0.84084,     0.84184,     0.84284,     0.84384,     0.84484,     0.84585,     0.84685,     0.84785,     0.84885,     0.84985,     0.85085,     0.85185,     0.85285,     0.85385,     0.85485,     0.85586,     0.85686,     0.85786,     0.85886,     0.85986,     0.86086,     0.86186,     0.86286,     0.86386,\n",
              "           0.86486,     0.86587,     0.86687,     0.86787,     0.86887,     0.86987,     0.87087,     0.87187,     0.87287,     0.87387,     0.87487,     0.87588,     0.87688,     0.87788,     0.87888,     0.87988,     0.88088,     0.88188,     0.88288,     0.88388,     0.88488,     0.88589,     0.88689,     0.88789,\n",
              "           0.88889,     0.88989,     0.89089,     0.89189,     0.89289,     0.89389,     0.89489,      0.8959,      0.8969,      0.8979,      0.8989,      0.8999,      0.9009,      0.9019,      0.9029,      0.9039,      0.9049,     0.90591,     0.90691,     0.90791,     0.90891,     0.90991,     0.91091,     0.91191,\n",
              "           0.91291,     0.91391,     0.91491,     0.91592,     0.91692,     0.91792,     0.91892,     0.91992,     0.92092,     0.92192,     0.92292,     0.92392,     0.92492,     0.92593,     0.92693,     0.92793,     0.92893,     0.92993,     0.93093,     0.93193,     0.93293,     0.93393,     0.93493,     0.93594,\n",
              "           0.93694,     0.93794,     0.93894,     0.93994,     0.94094,     0.94194,     0.94294,     0.94394,     0.94494,     0.94595,     0.94695,     0.94795,     0.94895,     0.94995,     0.95095,     0.95195,     0.95295,     0.95395,     0.95495,     0.95596,     0.95696,     0.95796,     0.95896,     0.95996,\n",
              "           0.96096,     0.96196,     0.96296,     0.96396,     0.96496,     0.96597,     0.96697,     0.96797,     0.96897,     0.96997,     0.97097,     0.97197,     0.97297,     0.97397,     0.97497,     0.97598,     0.97698,     0.97798,     0.97898,     0.97998,     0.98098,     0.98198,     0.98298,     0.98398,\n",
              "           0.98498,     0.98599,     0.98699,     0.98799,     0.98899,     0.98999,     0.99099,     0.99199,     0.99299,     0.99399,     0.99499,       0.996,       0.997,       0.998,       0.999,           1]), array([[    0.95265,     0.95265,     0.94886,     0.94886,     0.94886,     0.94886,     0.94697,     0.94508,     0.94508,     0.94508,     0.94508,     0.94508,     0.94318,     0.94318,     0.94318,     0.94318,     0.94129,     0.94129,     0.94129,     0.94129,     0.93939,     0.93939,      0.9375,\n",
              "            0.93376,     0.93182,     0.93182,     0.93182,     0.92992,     0.92992,     0.92803,     0.92803,     0.92614,     0.92424,     0.92424,     0.92424,     0.92424,     0.92424,     0.92424,     0.92168,     0.92045,     0.92045,     0.91856,     0.91832,     0.91741,     0.91667,     0.91667,\n",
              "            0.91667,     0.91667,     0.91667,     0.91667,     0.91667,     0.91667,     0.91667,     0.91667,     0.91667,     0.91667,     0.91667,     0.91667,     0.91477,     0.91084,     0.90909,     0.90909,     0.90909,     0.90841,      0.9072,      0.9072,      0.9072,      0.9072,      0.9072,\n",
              "             0.9072,      0.9072,      0.9072,      0.9072,      0.9072,      0.9072,      0.9072,      0.9072,      0.9072,      0.9072,      0.9072,      0.9072,      0.9072,      0.9072,     0.90676,     0.90613,     0.90549,      0.9053,      0.9051,      0.9039,     0.90341,     0.90341,     0.90341,\n",
              "            0.90341,     0.90341,     0.90341,     0.90341,     0.90341,     0.90341,     0.90341,     0.90341,     0.90341,     0.90341,     0.90341,     0.90341,     0.90341,     0.90341,     0.90341,     0.90341,     0.90341,     0.90341,     0.90341,     0.90341,     0.90341,     0.90341,     0.90341,\n",
              "            0.90341,     0.90341,     0.90341,     0.90341,     0.90341,     0.90341,     0.90341,     0.90341,     0.90341,     0.90341,     0.90341,     0.90341,     0.90329,     0.90289,     0.90249,      0.9021,      0.9017,     0.90107,     0.90026,     0.89962,     0.89939,     0.89912,     0.89884,\n",
              "            0.89857,      0.8983,     0.89803,     0.89775,     0.89773,     0.89773,     0.89773,     0.89773,     0.89762,     0.89583,     0.89556,     0.89507,     0.89459,      0.8941,     0.89394,     0.89394,     0.89394,     0.89382,     0.89291,     0.89205,     0.89205,     0.89205,     0.89205,\n",
              "            0.89205,     0.89205,     0.89205,     0.89205,     0.89205,     0.89205,     0.89205,     0.89205,     0.89205,     0.89205,     0.89205,     0.89205,     0.89205,     0.89205,     0.89205,     0.89015,     0.88985,      0.8893,     0.88874,     0.88813,     0.88709,     0.88636,     0.88636,\n",
              "            0.88636,     0.88636,     0.88636,     0.88636,     0.88636,     0.88636,     0.88636,     0.88636,     0.88636,     0.88636,     0.88636,     0.88636,     0.88636,     0.88636,     0.88636,     0.88636,     0.88636,     0.88636,     0.88636,     0.88636,     0.88636,     0.88636,     0.88636,\n",
              "            0.88636,     0.88636,     0.88636,     0.88636,     0.88636,     0.88636,     0.88567,     0.88447,     0.88447,     0.88447,     0.88447,     0.88447,     0.88447,     0.88447,     0.88447,     0.88442,     0.88417,     0.88392,     0.88366,     0.88341,     0.88315,      0.8829,     0.88264,\n",
              "            0.88258,     0.88258,     0.88258,     0.88258,     0.88258,     0.88258,     0.88258,     0.88258,     0.88258,     0.88258,     0.88251,     0.88197,     0.88144,      0.8809,     0.88068,     0.88068,     0.88068,     0.88068,     0.88068,     0.88068,     0.88068,     0.88068,     0.88068,\n",
              "            0.88068,     0.88068,     0.88068,     0.88068,     0.88068,     0.88068,     0.88068,     0.88068,     0.88068,     0.88068,     0.88068,     0.88068,     0.88068,     0.88068,     0.88068,     0.88068,     0.88068,     0.88068,     0.88068,     0.88068,     0.88068,     0.88068,     0.88068,\n",
              "            0.88068,     0.87939,     0.87834,     0.87769,     0.87705,     0.87689,     0.87689,     0.87689,     0.87689,     0.87689,     0.87689,     0.87689,     0.87689,     0.87689,     0.87689,     0.87681,     0.87651,     0.87621,     0.87592,     0.87562,     0.87532,     0.87502,     0.87448,\n",
              "            0.87393,     0.87337,     0.87301,     0.87284,     0.87266,     0.87248,     0.87231,     0.87213,     0.87196,     0.87178,      0.8716,     0.87143,     0.87125,     0.87121,     0.87118,     0.87081,     0.87044,     0.87007,      0.8697,     0.86933,     0.86932,     0.86932,     0.86932,\n",
              "            0.86932,     0.86774,     0.86553,     0.86519,     0.86364,     0.86364,     0.86364,     0.86364,     0.86364,     0.86364,     0.86364,     0.86364,     0.86364,     0.86364,     0.86301,      0.8623,     0.86174,     0.86174,     0.86174,     0.86174,     0.86174,     0.86174,     0.86174,\n",
              "            0.86174,     0.86174,     0.86174,     0.86174,     0.86174,     0.85985,     0.85985,     0.85985,     0.85985,     0.85985,     0.85985,     0.85985,     0.85985,     0.85985,     0.85985,     0.85795,     0.85795,     0.85795,      0.8579,     0.85774,     0.85758,     0.85742,     0.85725,\n",
              "            0.85709,     0.85693,     0.85677,     0.85661,     0.85645,     0.85628,     0.85612,      0.8559,     0.85564,     0.85538,     0.85512,     0.85487,     0.85461,     0.85435,     0.85417,     0.85417,     0.85417,     0.85417,     0.85417,     0.85417,     0.85417,     0.85417,     0.85417,\n",
              "             0.8541,     0.85227,     0.85227,     0.85227,     0.85227,     0.85227,     0.85227,     0.85227,     0.85227,     0.85227,     0.85227,     0.85227,     0.85227,     0.85193,     0.85152,     0.85111,      0.8507,     0.85032,     0.85003,     0.84974,     0.84946,     0.84917,     0.84888,\n",
              "            0.84859,     0.84848,     0.84823,     0.84785,     0.84746,     0.84707,     0.84668,     0.84659,     0.84659,     0.84659,     0.84659,     0.84659,     0.84659,     0.84659,     0.84659,     0.84659,     0.84659,     0.84659,     0.84659,     0.84659,     0.84659,     0.84633,     0.84562,\n",
              "            0.84491,      0.8447,      0.8447,      0.8447,      0.8447,      0.8447,      0.8447,      0.8447,      0.8447,      0.8447,      0.8447,      0.8447,      0.8447,     0.84448,     0.84426,     0.84403,     0.84381,     0.84359,     0.84337,     0.84315,     0.84293,     0.84274,      0.8426,\n",
              "            0.84246,     0.84232,     0.84219,     0.84205,     0.84191,     0.84177,     0.84163,     0.84149,     0.84135,     0.84122,     0.84108,     0.84094,     0.83937,     0.83849,     0.83784,     0.83719,     0.83712,     0.83712,     0.83712,     0.83712,     0.83712,     0.83712,     0.83712,\n",
              "            0.83712,     0.83712,     0.83703,     0.83639,     0.83574,     0.83523,     0.83523,     0.83523,     0.83523,     0.83523,     0.83523,     0.83523,     0.83523,     0.83523,     0.83523,     0.83523,     0.83523,     0.83523,     0.83523,     0.83523,     0.83523,     0.83523,     0.83523,\n",
              "            0.83523,     0.83523,     0.83523,     0.83523,     0.83523,     0.83523,     0.83523,     0.83523,     0.83523,     0.83523,     0.83523,     0.83523,     0.83523,     0.83429,     0.83333,     0.83333,     0.83333,     0.83333,     0.83333,     0.83333,     0.83302,     0.83144,     0.83144,\n",
              "            0.83144,     0.83144,     0.83144,     0.83144,      0.8308,     0.82886,     0.82692,     0.82537,      0.8244,     0.82299,     0.82008,     0.82008,     0.82008,     0.82008,     0.82008,     0.82008,     0.81818,     0.81818,     0.81786,     0.81737,     0.81689,      0.8164,     0.81629,\n",
              "            0.81629,     0.81629,     0.81629,     0.81629,     0.81579,     0.81524,     0.81468,     0.81227,     0.81178,      0.8113,     0.81081,     0.81061,     0.81061,     0.81061,     0.81061,     0.81061,     0.81061,     0.81061,     0.81061,     0.81061,     0.81061,     0.81061,     0.81061,\n",
              "            0.81061,     0.81061,     0.81061,      0.8102,     0.80977,     0.80934,     0.80891,     0.80871,     0.80871,     0.80871,     0.80871,     0.80871,     0.80871,     0.80871,     0.80801,     0.80704,     0.80682,     0.80682,     0.80682,     0.80635,      0.8058,     0.80524,     0.80409,\n",
              "            0.80281,     0.80232,     0.80184,     0.80135,     0.80087,     0.80038,      0.7999,     0.79941,     0.79924,     0.79924,     0.79924,     0.79924,     0.79874,     0.79735,     0.79735,     0.79545,     0.79533,     0.79498,     0.79462,     0.79427,     0.79392,     0.79356,     0.79167,\n",
              "            0.79167,     0.79167,     0.79167,     0.79167,     0.79167,     0.79167,     0.79101,     0.79004,     0.78788,     0.78788,     0.78788,     0.78788,     0.78788,     0.78598,     0.78598,     0.78591,     0.78574,     0.78556,     0.78538,     0.78521,     0.78503,     0.78485,     0.78468,\n",
              "             0.7845,     0.78432,     0.78415,     0.78357,     0.78279,      0.7822,      0.7822,      0.7822,      0.7816,      0.7803,      0.7761,     0.77562,     0.77513,     0.77465,     0.77462,     0.77462,     0.77462,     0.77462,     0.77462,     0.77462,     0.77462,     0.77265,      0.7721,\n",
              "            0.77154,     0.77099,     0.77043,     0.76988,     0.76932,     0.76894,     0.76894,     0.76894,     0.76725,     0.76589,     0.76515,     0.76515,     0.76515,     0.76515,     0.76515,     0.76515,     0.76515,     0.76515,     0.76515,     0.76515,     0.76515,     0.76515,     0.76509,\n",
              "            0.76483,     0.76457,     0.76431,     0.76405,      0.7638,     0.76354,     0.76328,     0.75958,     0.75556,      0.7553,     0.75505,     0.75479,     0.75453,     0.75427,     0.75401,     0.75365,     0.75268,     0.75189,     0.75189,     0.74581,     0.74526,      0.7447,     0.74432,\n",
              "            0.74432,     0.74399,      0.7436,     0.74321,     0.74282,     0.74244,     0.74053,      0.7402,     0.73956,     0.73891,     0.73807,      0.7371,     0.73404,     0.73099,     0.73056,     0.73013,      0.7297,     0.72926,     0.72917,     0.72899,     0.72844,     0.72789,     0.72733,\n",
              "             0.7248,     0.72415,      0.7235,     0.72286,     0.72221,     0.71775,     0.71645,     0.71516,     0.71197,     0.71068,     0.70749,     0.70619,      0.7049,     0.70361,     0.70231,     0.70102,     0.69972,     0.69654,     0.69524,     0.69016,     0.68697,     0.68568,     0.68499,\n",
              "            0.68435,      0.6799,     0.67861,     0.67731,     0.66459,     0.66273,     0.66143,     0.65635,     0.65506,     0.65376,     0.65058,     0.64945,      0.6488,     0.64816,     0.64583,     0.63802,     0.63738,     0.63673,     0.63391,     0.63261,      0.6269,     0.62561,     0.62242,\n",
              "            0.62112,     0.61983,     0.61436,     0.61093,     0.60963,     0.60834,     0.60795,     0.60133,     0.59814,     0.59685,     0.59504,     0.59363,     0.59091,     0.59091,     0.58159,     0.57267,     0.56919,     0.56818,     0.56436,     0.56244,     0.56115,     0.55569,     0.54846,\n",
              "            0.54707,     0.54524,     0.54395,     0.53651,     0.53542,     0.53464,     0.52614,     0.52485,     0.51544,     0.50758,     0.50493,      0.4992,     0.48618,     0.48489,     0.47539,     0.47346,     0.47216,     0.46862,      0.4591,     0.45376,     0.45048,     0.44475,     0.44114,\n",
              "            0.44036,     0.43959,     0.43793,      0.4322,      0.4293,     0.42853,     0.42354,     0.41781,     0.41019,     0.39716,     0.39587,      0.3788,      0.3636,     0.36166,     0.35782,     0.35588,     0.34636,     0.33694,     0.33564,     0.33012,     0.32439,     0.31369,     0.31272,\n",
              "             0.3091,     0.30526,     0.29953,     0.29002,     0.28429,     0.27288,     0.26336,     0.26234,     0.26137,     0.24613,      0.2376,     0.23187,     0.22425,     0.22041,      0.2109,     0.19759,     0.18807,     0.17761,     0.17567,     0.17183,       0.168,     0.16545,     0.16477,\n",
              "            0.16123,     0.15739,     0.14693,     0.14309,     0.13268,     0.12501,     0.12306,     0.11926,     0.11796,     0.11629,     0.11096,     0.10929,     0.10479,     0.09527,    0.090488,    0.088079,    0.085659,    0.078982,    0.072643,    0.071167,    0.070197,    0.065155,    0.062794,\n",
              "           0.061603,    0.060632,    0.056823,    0.052041,    0.050618,    0.049647,    0.048488,    0.046884,    0.043281,    0.041013,    0.038451,    0.032722,    0.031253,     0.02927,    0.025951,    0.022523,    0.021876,    0.021229,    0.015538,    0.014569,    0.013922,    0.013275,    0.012628,\n",
              "            0.01198,   0.0094333,   0.0086568,   0.0078802,   0.0074369,   0.0072085,   0.0069801,   0.0067517,   0.0065233,    0.006295,   0.0060666,   0.0058382,   0.0054777,   0.0048306,   0.0041835,   0.0034861,   0.0027095,    0.001933,           0,           0,           0,           0,           0,\n",
              "                  0,           0,           0,           0,           0,           0,           0,           0,           0,           0,           0,           0,           0,           0,           0,           0,           0,           0,           0,           0,           0,           0,           0,\n",
              "                  0,           0,           0,           0,           0,           0,           0,           0,           0,           0,           0,           0,           0,           0,           0,           0,           0,           0,           0,           0,           0,           0,           0,\n",
              "                  0,           0,           0,           0,           0,           0,           0,           0,           0,           0,           0]]), 'Confidence', 'Recall']]\n",
              "fitness: 1.1788541219215927\n",
              "keys: ['metrics/precision(B)', 'metrics/recall(B)', 'metrics/mAP50(B)', 'metrics/mAP50-95(B)', 'metrics/precision(M)', 'metrics/recall(M)', 'metrics/mAP50(M)', 'metrics/mAP50-95(M)']\n",
              "maps: array([     1.1116])\n",
              "names: {0: 'prawn'}\n",
              "plot: True\n",
              "results_dict: {'metrics/precision(B)': 0.8780492865709584, 'metrics/recall(B)': 0.7909137831012831, 'metrics/mAP50(B)': 0.8823128218094426, 'metrics/mAP50-95(B)': 0.5367304193471538, 'metrics/precision(M)': 0.8709228616038652, 'metrics/recall(M)': 0.8178557345224012, 'metrics/mAP50(M)': 0.9020434726808131, 'metrics/mAP50-95(M)': 0.5748456834001427, 'fitness': 1.1788541219215927}\n",
              "save_dir: PosixPath('runs/segment/train')\n",
              "seg: ultralytics.utils.metrics.Metric object\n",
              "speed: {'preprocess': 1.0699605554099976, 'inference': 32.76853832772108, 'loss': 0.0011882161706443723, 'postprocess': 9.397797468231946}\n",
              "task: 'segment'"
            ]
          },
          "execution_count": 7,
          "metadata": {},
          "output_type": "execute_result"
        }
      ],
      "source": [
        "model.train(data=\"/content/drive/MyDrive/colab experiments/to colab only 31-12 segment with 76/data.yaml\",copy_paste=0.15,mixup=0.15, epochs=300, imgsz=640, seed=42,batch=16,patience=50)\n"
      ]
    },
    {
      "cell_type": "code",
      "execution_count": null,
      "metadata": {
        "colab": {
          "base_uri": "https://localhost:8080/",
          "height": 489
        },
        "id": "cLry5CmAsTRO",
        "outputId": "d95b1011-91b0-4219-8734-5ccd42be8b0d"
      },
      "outputs": [
        {
          "name": "stdout",
          "output_type": "stream",
          "text": [
            "Ultralytics YOLOv8.2.43 🚀 Python-3.10.12 torch-2.3.0+cu121 CPU (Intel Xeon 2.20GHz)\n",
            "YOLOv8x-seg summary (fused): 295 layers, 71721619 parameters, 0 gradients, 343.7 GFLOPs\n",
            "\n",
            "\u001b[34m\u001b[1mPyTorch:\u001b[0m starting from '/content/runs/segment/train/weights/best.pt' with input shape (1, 3, 640, 640) BCHW and output shape(s) ((1, 37, 8400), (1, 32, 160, 160)) (137.3 MB)\n",
            "\u001b[31m\u001b[1mrequirements:\u001b[0m Ultralytics requirement ['onnx>=1.12.0'] not found, attempting AutoUpdate...\n",
            "Collecting onnx>=1.12.0\n",
            "  Downloading onnx-1.16.1-cp310-cp310-manylinux_2_17_x86_64.manylinux2014_x86_64.whl (15.9 MB)\n",
            "     ━━━━━━━━━━━━━━━━━━━━━━━━━━━━━━━━━━━━━━━━ 15.9/15.9 MB 73.0 MB/s eta 0:00:00\n",
            "Requirement already satisfied: numpy>=1.20 in /usr/local/lib/python3.10/dist-packages (from onnx>=1.12.0) (1.25.2)\n",
            "Requirement already satisfied: protobuf>=3.20.2 in /usr/local/lib/python3.10/dist-packages (from onnx>=1.12.0) (3.20.3)\n",
            "Installing collected packages: onnx\n",
            "Successfully installed onnx-1.16.1\n",
            "\n",
            "\u001b[31m\u001b[1mrequirements:\u001b[0m AutoUpdate success ✅ 15.4s, installed 1 package: ['onnx>=1.12.0']\n",
            "\u001b[31m\u001b[1mrequirements:\u001b[0m ⚠️ \u001b[1mRestart runtime or rerun command for updates to take effect\u001b[0m\n",
            "\n",
            "\n",
            "\u001b[34m\u001b[1mONNX:\u001b[0m starting export with onnx 1.16.1 opset 17...\n",
            "\u001b[34m\u001b[1mONNX:\u001b[0m export success ✅ 30.8s, saved as '/content/runs/segment/train/weights/best.onnx' (273.8 MB)\n",
            "\n",
            "Export complete (48.8s)\n",
            "Results saved to \u001b[1m/content/runs/segment/train/weights\u001b[0m\n",
            "Predict:         yolo predict task=segment model=/content/runs/segment/train/weights/best.onnx imgsz=640  \n",
            "Validate:        yolo val task=segment model=/content/runs/segment/train/weights/best.onnx imgsz=640 data=/content/drive/MyDrive/colab experiments/to colab only 31-12 segment with 76/data.yaml  \n",
            "Visualize:       https://netron.app\n"
          ]
        },
        {
          "data": {
            "application/vnd.google.colaboratory.intrinsic+json": {
              "type": "string"
            },
            "text/plain": [
              "'/content/runs/segment/train/weights/best.onnx'"
            ]
          },
          "execution_count": 8,
          "metadata": {},
          "output_type": "execute_result"
        }
      ],
      "source": [
        "model = YOLO(\"/content/runs/segment/train/weights/best.pt\")  # load a custom trained model\n",
        "\n",
        "# Export the model\n",
        "model.export(format=\"onnx\")"
      ]
    }
  ],
  "metadata": {
    "accelerator": "GPU",
    "colab": {
      "gpuType": "T4",
      "provenance": []
    },
    "kernelspec": {
      "display_name": "Python 3",
      "name": "python3"
    },
    "language_info": {
      "codemirror_mode": {
        "name": "ipython",
        "version": 3
      },
      "file_extension": ".py",
      "mimetype": "text/x-python",
      "name": "python",
      "nbconvert_exporter": "python",
      "pygments_lexer": "ipython3",
      "version": "3.9.7"
    },
    "orig_nbformat": 4,
    "widgets": {
      "application/vnd.jupyter.widget-state+json": {
        "1c6bd8120e734e56b5487cd053f83278": {
          "model_module": "@jupyter-widgets/controls",
          "model_module_version": "1.5.0",
          "model_name": "VBoxModel",
          "state": {
            "_dom_classes": [],
            "_model_module": "@jupyter-widgets/controls",
            "_model_module_version": "1.5.0",
            "_model_name": "VBoxModel",
            "_view_count": null,
            "_view_module": "@jupyter-widgets/controls",
            "_view_module_version": "1.5.0",
            "_view_name": "VBoxView",
            "box_style": "",
            "children": [
              "IPY_MODEL_fdf8908de8394417b886b2c3778233ed",
              "IPY_MODEL_6ff4c76b803a47289438e0441783a9fc"
            ],
            "layout": "IPY_MODEL_d8c29e5dae0e4c93be7d7f1fbb6bd108"
          }
        },
        "4870583b9b89419d8c5e6a1950a95273": {
          "model_module": "@jupyter-widgets/controls",
          "model_module_version": "1.5.0",
          "model_name": "ProgressStyleModel",
          "state": {
            "_model_module": "@jupyter-widgets/controls",
            "_model_module_version": "1.5.0",
            "_model_name": "ProgressStyleModel",
            "_view_count": null,
            "_view_module": "@jupyter-widgets/base",
            "_view_module_version": "1.2.0",
            "_view_name": "StyleView",
            "bar_color": null,
            "description_width": ""
          }
        },
        "6ff4c76b803a47289438e0441783a9fc": {
          "model_module": "@jupyter-widgets/controls",
          "model_module_version": "1.5.0",
          "model_name": "FloatProgressModel",
          "state": {
            "_dom_classes": [],
            "_model_module": "@jupyter-widgets/controls",
            "_model_module_version": "1.5.0",
            "_model_name": "FloatProgressModel",
            "_view_count": null,
            "_view_module": "@jupyter-widgets/controls",
            "_view_module_version": "1.5.0",
            "_view_name": "ProgressView",
            "bar_style": "",
            "description": "",
            "description_tooltip": null,
            "layout": "IPY_MODEL_de9aaa93250f4ace9680a13585a17c19",
            "max": 1,
            "min": 0,
            "orientation": "horizontal",
            "style": "IPY_MODEL_4870583b9b89419d8c5e6a1950a95273",
            "value": 1
          }
        },
        "d08b14b8dd7f4235be3f707e3ccf537a": {
          "model_module": "@jupyter-widgets/controls",
          "model_module_version": "1.5.0",
          "model_name": "DescriptionStyleModel",
          "state": {
            "_model_module": "@jupyter-widgets/controls",
            "_model_module_version": "1.5.0",
            "_model_name": "DescriptionStyleModel",
            "_view_count": null,
            "_view_module": "@jupyter-widgets/base",
            "_view_module_version": "1.2.0",
            "_view_name": "StyleView",
            "description_width": ""
          }
        },
        "d8c29e5dae0e4c93be7d7f1fbb6bd108": {
          "model_module": "@jupyter-widgets/base",
          "model_module_version": "1.2.0",
          "model_name": "LayoutModel",
          "state": {
            "_model_module": "@jupyter-widgets/base",
            "_model_module_version": "1.2.0",
            "_model_name": "LayoutModel",
            "_view_count": null,
            "_view_module": "@jupyter-widgets/base",
            "_view_module_version": "1.2.0",
            "_view_name": "LayoutView",
            "align_content": null,
            "align_items": null,
            "align_self": null,
            "border": null,
            "bottom": null,
            "display": null,
            "flex": null,
            "flex_flow": null,
            "grid_area": null,
            "grid_auto_columns": null,
            "grid_auto_flow": null,
            "grid_auto_rows": null,
            "grid_column": null,
            "grid_gap": null,
            "grid_row": null,
            "grid_template_areas": null,
            "grid_template_columns": null,
            "grid_template_rows": null,
            "height": null,
            "justify_content": null,
            "justify_items": null,
            "left": null,
            "margin": null,
            "max_height": null,
            "max_width": null,
            "min_height": null,
            "min_width": null,
            "object_fit": null,
            "object_position": null,
            "order": null,
            "overflow": null,
            "overflow_x": null,
            "overflow_y": null,
            "padding": null,
            "right": null,
            "top": null,
            "visibility": null,
            "width": null
          }
        },
        "de9aaa93250f4ace9680a13585a17c19": {
          "model_module": "@jupyter-widgets/base",
          "model_module_version": "1.2.0",
          "model_name": "LayoutModel",
          "state": {
            "_model_module": "@jupyter-widgets/base",
            "_model_module_version": "1.2.0",
            "_model_name": "LayoutModel",
            "_view_count": null,
            "_view_module": "@jupyter-widgets/base",
            "_view_module_version": "1.2.0",
            "_view_name": "LayoutView",
            "align_content": null,
            "align_items": null,
            "align_self": null,
            "border": null,
            "bottom": null,
            "display": null,
            "flex": null,
            "flex_flow": null,
            "grid_area": null,
            "grid_auto_columns": null,
            "grid_auto_flow": null,
            "grid_auto_rows": null,
            "grid_column": null,
            "grid_gap": null,
            "grid_row": null,
            "grid_template_areas": null,
            "grid_template_columns": null,
            "grid_template_rows": null,
            "height": null,
            "justify_content": null,
            "justify_items": null,
            "left": null,
            "margin": null,
            "max_height": null,
            "max_width": null,
            "min_height": null,
            "min_width": null,
            "object_fit": null,
            "object_position": null,
            "order": null,
            "overflow": null,
            "overflow_x": null,
            "overflow_y": null,
            "padding": null,
            "right": null,
            "top": null,
            "visibility": null,
            "width": null
          }
        },
        "fd56d530428e45efbbb9895bc38959e6": {
          "model_module": "@jupyter-widgets/base",
          "model_module_version": "1.2.0",
          "model_name": "LayoutModel",
          "state": {
            "_model_module": "@jupyter-widgets/base",
            "_model_module_version": "1.2.0",
            "_model_name": "LayoutModel",
            "_view_count": null,
            "_view_module": "@jupyter-widgets/base",
            "_view_module_version": "1.2.0",
            "_view_name": "LayoutView",
            "align_content": null,
            "align_items": null,
            "align_self": null,
            "border": null,
            "bottom": null,
            "display": null,
            "flex": null,
            "flex_flow": null,
            "grid_area": null,
            "grid_auto_columns": null,
            "grid_auto_flow": null,
            "grid_auto_rows": null,
            "grid_column": null,
            "grid_gap": null,
            "grid_row": null,
            "grid_template_areas": null,
            "grid_template_columns": null,
            "grid_template_rows": null,
            "height": null,
            "justify_content": null,
            "justify_items": null,
            "left": null,
            "margin": null,
            "max_height": null,
            "max_width": null,
            "min_height": null,
            "min_width": null,
            "object_fit": null,
            "object_position": null,
            "order": null,
            "overflow": null,
            "overflow_x": null,
            "overflow_y": null,
            "padding": null,
            "right": null,
            "top": null,
            "visibility": null,
            "width": null
          }
        },
        "fdf8908de8394417b886b2c3778233ed": {
          "model_module": "@jupyter-widgets/controls",
          "model_module_version": "1.5.0",
          "model_name": "LabelModel",
          "state": {
            "_dom_classes": [],
            "_model_module": "@jupyter-widgets/controls",
            "_model_module_version": "1.5.0",
            "_model_name": "LabelModel",
            "_view_count": null,
            "_view_module": "@jupyter-widgets/controls",
            "_view_module_version": "1.5.0",
            "_view_name": "LabelView",
            "description": "",
            "description_tooltip": null,
            "layout": "IPY_MODEL_fd56d530428e45efbbb9895bc38959e6",
            "placeholder": "​",
            "style": "IPY_MODEL_d08b14b8dd7f4235be3f707e3ccf537a",
            "value": "10838.670 MB of 10838.670 MB uploaded\r"
          }
        }
      }
    }
  },
  "nbformat": 4,
  "nbformat_minor": 0
}
