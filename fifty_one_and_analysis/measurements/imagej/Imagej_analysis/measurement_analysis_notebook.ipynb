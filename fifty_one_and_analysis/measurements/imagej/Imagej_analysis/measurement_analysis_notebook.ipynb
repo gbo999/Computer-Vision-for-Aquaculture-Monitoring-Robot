{
 "cells": [
  {
   "cell_type": "markdown",
   "metadata": {},
   "source": [
    "# 🦐 Carapace/total Measurement Error Analysis: A Deep Dive into Prawn Detection Accuracy\n",
    "\n",
    "## 🎯 Mission Statement\n",
    "Welcome to our comprehensive analysis of carapace measurement errors in prawn detection! This notebook explores the fascinating world of measurement precision, where pixel errors and scale errors dance together in a complex choreography of accuracy and uncertainty.\n",
    "\n",
    "## 🔬 What We'll Discover\n",
    "- **Error Decomposition**: How pixel and scale errors contribute to total measurement uncertainty\n",
    "- **Cancellation Effects**: The surprising ways errors can partially cancel each other out\n",
    "- **Pond-Specific Patterns**: How different pond environments affect measurement accuracy\n",
    "- **Annotation Quality**: Comparing different annotation methods and their impact\n",
    "\n",
    "---\n",
    "\n",
    "## 📚 Essential Imports & Setup"
   ]
  },
  {
   "cell_type": "code",
   "execution_count": 213,
   "metadata": {},
   "outputs": [
    {
     "name": "stdout",
     "output_type": "stream",
     "text": [
      "🚀 Libraries loaded successfully!\n",
      "📊 Ready to dive into prawn measurement mysteries...\n",
      "\n",
      "📈 Dataset loaded: 133 measurements across 3 pond types\n",
      "🏊‍♀️ Pond types: circle_female, circle_male, square\n",
      "\n",
      "📏 All measurements converted to centimeters\n",
      "Pond type: circle_female\n",
      "31\n",
      "Pond type: circle_male\n",
      "5\n",
      "Pond type: square\n",
      "9\n"
     ]
    }
   ],
   "source": [
    "# Core data science libraries\n",
    "import pandas as pd\n",
    "import numpy as np\n",
    "from typing import Dict, List, Tuple, Optional\n",
    "from pathlib import Path\n",
    "import os\n",
    "# Visualization powerhouses\n",
    "import matplotlib.pyplot as plt\n",
    "import seaborn as sns\n",
    "import plotly.graph_objects as go\n",
    "import plotly.express as px\n",
    "from plotly.subplots import make_subplots\n",
    "\n",
    "# Statistical analysis\n",
    "from scipy.stats import median_abs_deviation\n",
    "\n",
    "# Aesthetic improvements\n",
    "plt.style.use('seaborn-v0_8')\n",
    "sns.set_palette(\"husl\")\n",
    "import warnings\n",
    "warnings.filterwarnings('ignore')\n",
    "\n",
    "# 🎨 Custom color palette for pond types\n",
    "POND_COLORS = {\n",
    "    'circle_female': '#FF6B6B',  # Coral red\n",
    "    'circle_male': '#4ECDC4',    # Teal\n",
    "    'square': '#45B7D1'          # Sky blue\n",
    "}\n",
    "\n",
    "print(\"🚀 Libraries loaded successfully!\")\n",
    "print(\"📊 Ready to dive into prawn measurement mysteries...\")\n",
    "\n",
    "# Load the dataset\n",
    "#choose body or carapace as type\n",
    "type='carapace' #body or carapace\n",
    "\n",
    "# Get the project root directory (2 levels up from the notebook)\n",
    "project_root = Path(os.getcwd()).parent.parent\n",
    "DATA_PATH = project_root/'imagej'  /'spreadsheet_files' / f'error_flags_analysis_{type}_all_mean.csv'\n",
    "df = pd.read_csv(DATA_PATH)\n",
    "\n",
    "# Convert millimeter measurements to centimeters\n",
    "mm_columns = ['mean_length', 'Length_fov(mm)', 'mean_scale', 'pred_scale']\n",
    "for col in mm_columns:\n",
    "    if col in df.columns:\n",
    "        df[col] = df[col] \n",
    "\n",
    "print(f\"\\n📈 Dataset loaded: {len(df)} measurements across {df['Pond_Type'].nunique()} pond types\")\n",
    "print(f\"🏊‍♀️ Pond types: {', '.join(df['Pond_Type'].unique())}\")\n",
    "print(\"\\n📏 All measurements converted to centimeters\")\n",
    "# The original code attempts to select two columns 'mean_scale' and 'pred_scale' using incorrect syntax.\n",
    "# The correct way to select multiple columns in a DataFrame is by passing a list of column names.\n",
    "# Additionally, the 'mean' method should not have an argument 'mean_scale' as it is not a valid parameter.\n",
    "# The corrected code is as follows:\n",
    "\n",
    "df['scale_diff'] =abs( df['mean_scale'] - df['pred_scale'])\n",
    "\n",
    "\n",
    "\n",
    "\n",
    "df['mul_length'] = df['mean_pixels'] *(10/ df['mean_scale'])\n",
    "\n",
    "\n",
    "df['MAE']=abs(df['mean_length']-df['Length_fov(mm)'])\n",
    "df['MAPE']=abs(df['mean_length']-df['Length_fov(mm)'])/df['Length_fov(mm)']*100\n",
    "\n",
    "df=df.loc[df['MAE']<5]\n",
    "\n",
    "for pond_type in df['Pond_Type'].unique():\n",
    "    print(f\"Pond type: {pond_type}\")\n",
    "    print(len(df.loc[df['Pond_Type'] == pond_type].groupby('Label').mean('mean_scale')))\n",
    "\n",
    "# df.loc[df['Label'] == 'carapace:undistorted_GX010105_28_816.jpg_gamma'][['Label','mean_scale','std_scale', 'pred_scale','Scale_1','Scale_2','Scale_3','scale_diff','mean_length','mul_length','Length_fov(mm)','mean_pixels','pred_Distance_pixels','Length_ground_truth_annotation_pixels']]"
   ]
  },
  {
   "cell_type": "code",
   "execution_count": 214,
   "metadata": {},
   "outputs": [
    {
     "name": "stdout",
     "output_type": "stream",
     "text": [
      "Pond type: circle_female\n",
      "{'len_within_%': np.float64(83.33333333333334), 'px_within_%': np.float64(76.66666666666667), 'scale_within_%': np.float64(76.66666666666667), 'N': 60}\n",
      "Pond type: circle_male\n",
      "{'len_within_%': np.float64(90.0), 'px_within_%': np.float64(50.0), 'scale_within_%': np.float64(30.0), 'N': 10}\n",
      "Pond type: square\n",
      "{'len_within_%': np.float64(90.0), 'px_within_%': np.float64(50.0), 'scale_within_%': np.float64(60.0), 'N': 10}\n"
     ]
    }
   ],
   "source": [
    "import numpy as np\n",
    "\n",
    "def add_expert_agreement(df, eps=1e-9):\n",
    "    d = df.copy()\n",
    "\n",
    "    # z-scores: model error normalized by expert variability\n",
    "    d[\"z_len\"]  = np.abs(d[\"Length_fov(mm)\"] - d[\"mean_length\"]) / np.maximum(d[\"std_length\"], eps)\n",
    "    d[\"z_px\"]   = np.abs(d[\"pred_Distance_pixels\"] - d[\"mean_pixels\"]) / np.maximum(d[\"std_pixels\"], eps)\n",
    "    d[\"z_scale\"] = np.abs(d[\"pred_scale\"] - d[\"mean_scale\"]) / np.maximum(d[\"std_scale\"], eps)\n",
    "\n",
    "    return d\n",
    "\n",
    "def expert_agreement_percentages(df_with_z, sd=1.0):\n",
    "    \"\"\"% of rows within `sd` standard deviations of expert variability.\"\"\"\n",
    "    return {\n",
    "        \"len_within_%\":  100.0 * (df_with_z[\"z_len\"]  <= sd).mean(),\n",
    "        \"px_within_%\":   100.0 * (df_with_z[\"z_px\"]   <= sd).mean(),\n",
    "        \"scale_within_%\":100.0 * (df_with_z[\"z_scale\"]<= sd).mean(),\n",
    "        \"N\": len(df_with_z)\n",
    "    }\n",
    "for pond_type in df['Pond_Type'].unique():\n",
    "    df_pond = df[df['Pond_Type'] == pond_type]\n",
    "    print(f\"Pond type: {pond_type}\")\n",
    "    dfz = add_expert_agreement(df_pond)\n",
    "    summary = expert_agreement_percentages(dfz, sd=2.0)  # or 2.0\n",
    "    print(summary)"
   ]
  },
  {
   "cell_type": "markdown",
   "metadata": {},
   "source": []
  },
  {
   "cell_type": "markdown",
   "metadata": {},
   "source": []
  },
  {
   "cell_type": "markdown",
   "metadata": {},
   "source": [
    "## Length Error Comparison Visualization\n",
    "\n",
    "The `create_length_error_comparison` function is designed to generate a visualization that compares actual versus predicted lengths, along with their associated error rates. This visualization is similar to a reference image with a dual-axis plot, providing a comprehensive view of measurement accuracy.\n",
    "\n",
    "### Steps to Create the Visualization\n",
    "\n",
    "1. **Data Preparation**:\n",
    "   - The dataframe is sorted by `mean_length` to ensure a smooth progression in the visualization.\n",
    "\n",
    "2. **Error Rate Calculation**:\n",
    "   - The error rate is computed as a percentage, representing the absolute difference between actual and predicted lengths relative to the actual length.\n",
    "\n",
    "3. **Figure Setup**:\n",
    "   - A figure is created with a secondary y-axis to accommodate both length and error rate data.\n",
    "\n",
    "4. **Adding Traces**:\n",
    "   - **Actual Values**: Plotted as a black line with markers.\n",
    "   - **Output Values**: Plotted as a red line with markers.\n",
    "   - **Error Rate**: Displayed as a light gray bar chart.\n",
    "\n",
    "5. **Layout Customization**:\n",
    "   - The layout is customized with a title, background color, dimensions, and a legend. Hover mode is set to unify x-axis interactions.\n",
    "\n",
    "6. **Axes Configuration**:\n",
    "   - The x-axis is labeled \"Measurement Index\" with grid lines.\n",
    "   - The primary y-axis is labeled \"Length (mm)\" with grid lines.\n",
    "   - The secondary y-axis is labeled \"Error Rate (%)\" with a range of 0-25% and no grid lines.\n",
    "\n",
    "7. **Grid Lines**:\n",
    "   - Horizontal grid lines are added at 5% intervals on the secondary y-axis for better visualization of error rates.\n",
    "\n",
    "8. **Display**:\n",
    "   - The plot is displayed using `fig.show()`."
   ]
  },
  {
   "cell_type": "code",
   "execution_count": 215,
   "metadata": {},
   "outputs": [
    {
     "data": {
      "application/vnd.plotly.v1+json": {
       "config": {
        "plotlyServerURL": "https://plot.ly"
       },
       "data": [
        {
         "line": {
          "color": "black",
          "width": 2
         },
         "marker": {
          "size": 6
         },
         "mode": "lines+markers",
         "name": "Actual Values",
         "type": "scatter",
         "x": {
          "bdata": "AAECAwQFBgcICQoLDA0ODxAREhMUFRYXGBkaGxwdHh8gISIjJCUmJygpKissLS4vMDEyMzQ1Njc4OTo7PD0+P0BBQkNERUZHSElKS0xNTk8=",
          "dtype": "i1"
         },
         "xaxis": "x",
         "y": {
          "bdata": "gZVDi2wHM0BZ8oslv9gzQLes1THB4zNAcfbhM+yKNECLsw+fYZc0QBvotIFOGzVA4HoUrkfhNUDNzMzMzOw2QJPR27JWRzhA0CLb+X6qOEBN8GCeqD86QLQPn2FXgDpAo/6NUEaPOkANuwLkXpM6QKWbxCCwsjpAK84+fIa9OkALkHvNheQ6QLpJDAIrBztAbxKDwMohO0DFZ9gVIHc7QAwCK4cWuTtAjZduEoPgO0AED+aJ+vc7QFirY4IHkzxAVw4tsp2vPEAcoYzelrU8QPDu7u7u7jxAx0s3iUFgPUADnTbQaQM+QMVn2BUgFz5A27JWxwTPPkBxPQrXoxA/QCVNqTj7ED9AgU4b6LRBP0AOLbKd72c/QFUOLbKdzz9AWatjggczQEC/nxov3TRAQO/u7u7uXkBAaUrF2YdfQEDflrU6JmhAQM/3U+Ole0BASJpScfaRQECAI5TR27JAQDeJQWDlwEBAzBP1b4TCQEAkBoGVQ8tAQPEZdgXI3UBA7cNn2BXwQECoxks3iQFBQDsmeDBPBEFA8dJNYhAoQUCDwMqhRTZBQFFGb8taPUFAC5B7zYVEQUATg8DKoUVBQHe+nxovjUFAAAAAAACQQUAHOm2g05ZBQHKvuZA0tUFATDeJQWDFQUBqA5020MlBQAvXo3A9ykFAnTbQaQPdQUDIdr6fGg9CQEiaUnH2EUJA8GCeqH8TQkCLbOf7qSFCQPnFkl8sOUJAKhVnHz5jQkCHFtnO93NCQFnyiyW/eEJAUEZvy1p9QkDJdr6fGn9CQL6fGi/dxEJA0GkDnTbQQkAcoYzeluVCQKXi7MNnKENAQ9KUirMPRUDsCpB7zaVFQA==",
          "dtype": "f8"
         },
         "yaxis": "y"
        },
        {
         "line": {
          "color": "red",
          "width": 2
         },
         "marker": {
          "size": 6
         },
         "mode": "lines+markers",
         "name": "Output Values",
         "type": "scatter",
         "x": {
          "bdata": "AAECAwQFBgcICQoLDA0ODxAREhMUFRYXGBkaGxwdHh8gISIjJCUmJygpKissLS4vMDEyMzQ1Njc4OTo7PD0+P0BBQkNERUZHSElKS0xNTk8=",
          "dtype": "i1"
         },
         "xaxis": "x",
         "y": {
          "bdata": "etQ1uqziMkCoT8gmddQxQOXKwATvmzFA8dfCVblZNkDx18JVuVk2QGCclp4qpTdANQUYR3AnNEC2DvZ3JV4zQEbrYfomeTZAw9aBXkquOkBuQHbC+OA2QBPtt/6FDj9A/6gINiYAP0Cxg0GDeGc3QCWJ7L57tDlACJggBZLDO0Bl9igaBl03QPGK3dR3Cz1AomfwDMbdN0CyIjZkkSg5QJq5bxEZ2DZA+b+9JHP7OkCvmOWxRb03QNxgHxEzlDhATjBHPuArQEAyi04nY6A4QEDdMo42xUBAZw1vDFWXPkD/gGLBHWc6QFambx946z9AvWnz6bGTO0B2qZ1Hr9o6QK961GZCRTtA9ykOpXK4PUCMpw86uI0/QGiK9J3N7j9ADTlp228dPEApSJnJO0BBQGTzbZ1jHj5AZ33mC+71PkAII5xaiQ1AQPLB12wTYUBA5mISk0LvQUAQgolkWZM+QI+bVpjQnj9A3JHLOc8+P0DJoFURoIE9QGiK9J3N7j9A67sMO8z1PEC028TCkGNBQBWNE92Ok0BAPzkdx8ZYPkCOO+X6mStAQDQArG126D9A/79lELQPP0BVOEiMIPA+QI8kh5ndcj5AC1rKfA9WQEAH42M5qtdBQHxQuJfoPD9ArH8uCqmyQEA2kD3FaME/QEDdMo42xUBAf7Tbj0eeQEA+Qmsx7M5BQPEoufW46kJAe5TUI7ljQUCU7i2mp7xBQJ7ABEsAOEFAj9WsJZWrQUCekqDxFThCQEaTTIZkO0NAvijzAbkrQUBHoYA3ma9BQKoWBNpcbUBAJkCCIK8LQkAEVxUuAPlAQE6kUToCg0JA3kZG069ZRECv0rK+X5JEQA==",
          "dtype": "f8"
         },
         "yaxis": "y"
        },
        {
         "marker": {
          "color": "lightgray"
         },
         "name": "Error Rate",
         "opacity": 0.7,
         "type": "bar",
         "x": {
          "bdata": "AAECAwQFBgcICQoLDA0ODxAREhMUFRYXGBkaGxwdHh8gISIjJCUmJygpKissLS4vMDEyMzQ1Njc4OTo7PD0+P0BBQkNERUZHSElKS0xNTk8=",
          "dtype": "i1"
         },
         "xaxis": "x",
         "y": {
          "bdata": "8lOip+sj6D+0W39Fx1IkQAJdtJuY7iZAiuhqvMGZIUDik5RKGRYhQCv++fHcDShAddAdIoqNH0BeDGg6oggvQMrhYBixvh1A1egUCztWIEDmt7PTL60pQBW8azh3MDFAB9u0fnS4MECSbzeeGd4nQAaMQTcwwQ1AfIARz7GfDkDwdRuSSz8qQC53ZV732B1AYY5NsZkSKEAG2c5MYswgQFv+NqY/mTFAD3U76YKtCUAnho4BSD4uQNGQJsUU9ytAn4NWZ8d+KUDDllAURXEsQNp2jDUt2S9Aiv/5jcmLEECtyI9EPg8oQFDvBK7WURhApUa0c7j6JECeJU2x/xsrQMQ2/6/JbyhApsIOtKOoE0BCwQ7ophPeP/si9z1/gtg/ADvOaYxxKkCGWRvDEccZQJxTk3+rBSBAWo7XBOnPFUCQOLacS0IBQHPPCiqyJuQ/5crMrPp3IEArSiMz5+UgQFtaMtevhRZAlrutHd0jG0Aq8PaY4U0oQGTrm7ioVxVAPIPKk1wFLUDLs24mhgMCQOo7wYmxtARAri8CjCweJ0B8GWzxUDUYQPtQ5adr1B1AB9uUsFQeJEA5k7ibs+AkQMQIQmubhCpAyOKcOTnuG0BJSIzLBAr3P7chWzm2lydAuzPx3nUnGED++78vNXslQFloG/IR7RZAUE3yqynhG0Coa/VAXzb2PztC9l8uvhJAYuuYI1NjDkDRY+M9vGgBQMVogyLmDBZAAnZodpM2D0A9um77Mkj0P5cg04sEdxBANYn/EzuIHECJH/9NdIcRQJQNoQY19ChA5V0/gYJSEECwaT+cc10kQIrB0dOx+gpA8eYKprEBC0CQ33m+TOETQA==",
          "dtype": "f8"
         },
         "yaxis": "y2"
        }
       ],
       "layout": {
        "height": 600,
        "hovermode": "x unified",
        "legend": {
         "bgcolor": "rgba(255, 255, 255, 0.8)",
         "x": 0.01,
         "xanchor": "left",
         "y": 0.99,
         "yanchor": "top"
        },
        "plot_bgcolor": "white",
        "shapes": [
         {
          "line": {
           "color": "lightgray",
           "dash": "dash"
          },
          "opacity": 0.5,
          "type": "line",
          "x0": 0,
          "x1": 1,
          "xref": "x domain",
          "y0": 0,
          "y1": 0,
          "yref": "y2"
         },
         {
          "line": {
           "color": "lightgray",
           "dash": "dash"
          },
          "opacity": 0.5,
          "type": "line",
          "x0": 0,
          "x1": 1,
          "xref": "x domain",
          "y0": 5,
          "y1": 5,
          "yref": "y2"
         },
         {
          "line": {
           "color": "lightgray",
           "dash": "dash"
          },
          "opacity": 0.5,
          "type": "line",
          "x0": 0,
          "x1": 1,
          "xref": "x domain",
          "y0": 10,
          "y1": 10,
          "yref": "y2"
         },
         {
          "line": {
           "color": "lightgray",
           "dash": "dash"
          },
          "opacity": 0.5,
          "type": "line",
          "x0": 0,
          "x1": 1,
          "xref": "x domain",
          "y0": 15,
          "y1": 15,
          "yref": "y2"
         },
         {
          "line": {
           "color": "lightgray",
           "dash": "dash"
          },
          "opacity": 0.5,
          "type": "line",
          "x0": 0,
          "x1": 1,
          "xref": "x domain",
          "y0": 20,
          "y1": 20,
          "yref": "y2"
         },
         {
          "line": {
           "color": "lightgray",
           "dash": "dash"
          },
          "opacity": 0.5,
          "type": "line",
          "x0": 0,
          "x1": 1,
          "xref": "x domain",
          "y0": 25,
          "y1": 25,
          "yref": "y2"
         }
        ],
        "showlegend": true,
        "template": {
         "data": {
          "bar": [
           {
            "error_x": {
             "color": "#2a3f5f"
            },
            "error_y": {
             "color": "#2a3f5f"
            },
            "marker": {
             "line": {
              "color": "#E5ECF6",
              "width": 0.5
             },
             "pattern": {
              "fillmode": "overlay",
              "size": 10,
              "solidity": 0.2
             }
            },
            "type": "bar"
           }
          ],
          "barpolar": [
           {
            "marker": {
             "line": {
              "color": "#E5ECF6",
              "width": 0.5
             },
             "pattern": {
              "fillmode": "overlay",
              "size": 10,
              "solidity": 0.2
             }
            },
            "type": "barpolar"
           }
          ],
          "carpet": [
           {
            "aaxis": {
             "endlinecolor": "#2a3f5f",
             "gridcolor": "white",
             "linecolor": "white",
             "minorgridcolor": "white",
             "startlinecolor": "#2a3f5f"
            },
            "baxis": {
             "endlinecolor": "#2a3f5f",
             "gridcolor": "white",
             "linecolor": "white",
             "minorgridcolor": "white",
             "startlinecolor": "#2a3f5f"
            },
            "type": "carpet"
           }
          ],
          "choropleth": [
           {
            "colorbar": {
             "outlinewidth": 0,
             "ticks": ""
            },
            "type": "choropleth"
           }
          ],
          "contour": [
           {
            "colorbar": {
             "outlinewidth": 0,
             "ticks": ""
            },
            "colorscale": [
             [
              0,
              "#0d0887"
             ],
             [
              0.1111111111111111,
              "#46039f"
             ],
             [
              0.2222222222222222,
              "#7201a8"
             ],
             [
              0.3333333333333333,
              "#9c179e"
             ],
             [
              0.4444444444444444,
              "#bd3786"
             ],
             [
              0.5555555555555556,
              "#d8576b"
             ],
             [
              0.6666666666666666,
              "#ed7953"
             ],
             [
              0.7777777777777778,
              "#fb9f3a"
             ],
             [
              0.8888888888888888,
              "#fdca26"
             ],
             [
              1,
              "#f0f921"
             ]
            ],
            "type": "contour"
           }
          ],
          "contourcarpet": [
           {
            "colorbar": {
             "outlinewidth": 0,
             "ticks": ""
            },
            "type": "contourcarpet"
           }
          ],
          "heatmap": [
           {
            "colorbar": {
             "outlinewidth": 0,
             "ticks": ""
            },
            "colorscale": [
             [
              0,
              "#0d0887"
             ],
             [
              0.1111111111111111,
              "#46039f"
             ],
             [
              0.2222222222222222,
              "#7201a8"
             ],
             [
              0.3333333333333333,
              "#9c179e"
             ],
             [
              0.4444444444444444,
              "#bd3786"
             ],
             [
              0.5555555555555556,
              "#d8576b"
             ],
             [
              0.6666666666666666,
              "#ed7953"
             ],
             [
              0.7777777777777778,
              "#fb9f3a"
             ],
             [
              0.8888888888888888,
              "#fdca26"
             ],
             [
              1,
              "#f0f921"
             ]
            ],
            "type": "heatmap"
           }
          ],
          "histogram": [
           {
            "marker": {
             "pattern": {
              "fillmode": "overlay",
              "size": 10,
              "solidity": 0.2
             }
            },
            "type": "histogram"
           }
          ],
          "histogram2d": [
           {
            "colorbar": {
             "outlinewidth": 0,
             "ticks": ""
            },
            "colorscale": [
             [
              0,
              "#0d0887"
             ],
             [
              0.1111111111111111,
              "#46039f"
             ],
             [
              0.2222222222222222,
              "#7201a8"
             ],
             [
              0.3333333333333333,
              "#9c179e"
             ],
             [
              0.4444444444444444,
              "#bd3786"
             ],
             [
              0.5555555555555556,
              "#d8576b"
             ],
             [
              0.6666666666666666,
              "#ed7953"
             ],
             [
              0.7777777777777778,
              "#fb9f3a"
             ],
             [
              0.8888888888888888,
              "#fdca26"
             ],
             [
              1,
              "#f0f921"
             ]
            ],
            "type": "histogram2d"
           }
          ],
          "histogram2dcontour": [
           {
            "colorbar": {
             "outlinewidth": 0,
             "ticks": ""
            },
            "colorscale": [
             [
              0,
              "#0d0887"
             ],
             [
              0.1111111111111111,
              "#46039f"
             ],
             [
              0.2222222222222222,
              "#7201a8"
             ],
             [
              0.3333333333333333,
              "#9c179e"
             ],
             [
              0.4444444444444444,
              "#bd3786"
             ],
             [
              0.5555555555555556,
              "#d8576b"
             ],
             [
              0.6666666666666666,
              "#ed7953"
             ],
             [
              0.7777777777777778,
              "#fb9f3a"
             ],
             [
              0.8888888888888888,
              "#fdca26"
             ],
             [
              1,
              "#f0f921"
             ]
            ],
            "type": "histogram2dcontour"
           }
          ],
          "mesh3d": [
           {
            "colorbar": {
             "outlinewidth": 0,
             "ticks": ""
            },
            "type": "mesh3d"
           }
          ],
          "parcoords": [
           {
            "line": {
             "colorbar": {
              "outlinewidth": 0,
              "ticks": ""
             }
            },
            "type": "parcoords"
           }
          ],
          "pie": [
           {
            "automargin": true,
            "type": "pie"
           }
          ],
          "scatter": [
           {
            "fillpattern": {
             "fillmode": "overlay",
             "size": 10,
             "solidity": 0.2
            },
            "type": "scatter"
           }
          ],
          "scatter3d": [
           {
            "line": {
             "colorbar": {
              "outlinewidth": 0,
              "ticks": ""
             }
            },
            "marker": {
             "colorbar": {
              "outlinewidth": 0,
              "ticks": ""
             }
            },
            "type": "scatter3d"
           }
          ],
          "scattercarpet": [
           {
            "marker": {
             "colorbar": {
              "outlinewidth": 0,
              "ticks": ""
             }
            },
            "type": "scattercarpet"
           }
          ],
          "scattergeo": [
           {
            "marker": {
             "colorbar": {
              "outlinewidth": 0,
              "ticks": ""
             }
            },
            "type": "scattergeo"
           }
          ],
          "scattergl": [
           {
            "marker": {
             "colorbar": {
              "outlinewidth": 0,
              "ticks": ""
             }
            },
            "type": "scattergl"
           }
          ],
          "scattermap": [
           {
            "marker": {
             "colorbar": {
              "outlinewidth": 0,
              "ticks": ""
             }
            },
            "type": "scattermap"
           }
          ],
          "scattermapbox": [
           {
            "marker": {
             "colorbar": {
              "outlinewidth": 0,
              "ticks": ""
             }
            },
            "type": "scattermapbox"
           }
          ],
          "scatterpolar": [
           {
            "marker": {
             "colorbar": {
              "outlinewidth": 0,
              "ticks": ""
             }
            },
            "type": "scatterpolar"
           }
          ],
          "scatterpolargl": [
           {
            "marker": {
             "colorbar": {
              "outlinewidth": 0,
              "ticks": ""
             }
            },
            "type": "scatterpolargl"
           }
          ],
          "scatterternary": [
           {
            "marker": {
             "colorbar": {
              "outlinewidth": 0,
              "ticks": ""
             }
            },
            "type": "scatterternary"
           }
          ],
          "surface": [
           {
            "colorbar": {
             "outlinewidth": 0,
             "ticks": ""
            },
            "colorscale": [
             [
              0,
              "#0d0887"
             ],
             [
              0.1111111111111111,
              "#46039f"
             ],
             [
              0.2222222222222222,
              "#7201a8"
             ],
             [
              0.3333333333333333,
              "#9c179e"
             ],
             [
              0.4444444444444444,
              "#bd3786"
             ],
             [
              0.5555555555555556,
              "#d8576b"
             ],
             [
              0.6666666666666666,
              "#ed7953"
             ],
             [
              0.7777777777777778,
              "#fb9f3a"
             ],
             [
              0.8888888888888888,
              "#fdca26"
             ],
             [
              1,
              "#f0f921"
             ]
            ],
            "type": "surface"
           }
          ],
          "table": [
           {
            "cells": {
             "fill": {
              "color": "#EBF0F8"
             },
             "line": {
              "color": "white"
             }
            },
            "header": {
             "fill": {
              "color": "#C8D4E3"
             },
             "line": {
              "color": "white"
             }
            },
            "type": "table"
           }
          ]
         },
         "layout": {
          "annotationdefaults": {
           "arrowcolor": "#2a3f5f",
           "arrowhead": 0,
           "arrowwidth": 1
          },
          "autotypenumbers": "strict",
          "coloraxis": {
           "colorbar": {
            "outlinewidth": 0,
            "ticks": ""
           }
          },
          "colorscale": {
           "diverging": [
            [
             0,
             "#8e0152"
            ],
            [
             0.1,
             "#c51b7d"
            ],
            [
             0.2,
             "#de77ae"
            ],
            [
             0.3,
             "#f1b6da"
            ],
            [
             0.4,
             "#fde0ef"
            ],
            [
             0.5,
             "#f7f7f7"
            ],
            [
             0.6,
             "#e6f5d0"
            ],
            [
             0.7,
             "#b8e186"
            ],
            [
             0.8,
             "#7fbc41"
            ],
            [
             0.9,
             "#4d9221"
            ],
            [
             1,
             "#276419"
            ]
           ],
           "sequential": [
            [
             0,
             "#0d0887"
            ],
            [
             0.1111111111111111,
             "#46039f"
            ],
            [
             0.2222222222222222,
             "#7201a8"
            ],
            [
             0.3333333333333333,
             "#9c179e"
            ],
            [
             0.4444444444444444,
             "#bd3786"
            ],
            [
             0.5555555555555556,
             "#d8576b"
            ],
            [
             0.6666666666666666,
             "#ed7953"
            ],
            [
             0.7777777777777778,
             "#fb9f3a"
            ],
            [
             0.8888888888888888,
             "#fdca26"
            ],
            [
             1,
             "#f0f921"
            ]
           ],
           "sequentialminus": [
            [
             0,
             "#0d0887"
            ],
            [
             0.1111111111111111,
             "#46039f"
            ],
            [
             0.2222222222222222,
             "#7201a8"
            ],
            [
             0.3333333333333333,
             "#9c179e"
            ],
            [
             0.4444444444444444,
             "#bd3786"
            ],
            [
             0.5555555555555556,
             "#d8576b"
            ],
            [
             0.6666666666666666,
             "#ed7953"
            ],
            [
             0.7777777777777778,
             "#fb9f3a"
            ],
            [
             0.8888888888888888,
             "#fdca26"
            ],
            [
             1,
             "#f0f921"
            ]
           ]
          },
          "colorway": [
           "#636efa",
           "#EF553B",
           "#00cc96",
           "#ab63fa",
           "#FFA15A",
           "#19d3f3",
           "#FF6692",
           "#B6E880",
           "#FF97FF",
           "#FECB52"
          ],
          "font": {
           "color": "#2a3f5f"
          },
          "geo": {
           "bgcolor": "white",
           "lakecolor": "white",
           "landcolor": "#E5ECF6",
           "showlakes": true,
           "showland": true,
           "subunitcolor": "white"
          },
          "hoverlabel": {
           "align": "left"
          },
          "hovermode": "closest",
          "mapbox": {
           "style": "light"
          },
          "paper_bgcolor": "white",
          "plot_bgcolor": "#E5ECF6",
          "polar": {
           "angularaxis": {
            "gridcolor": "white",
            "linecolor": "white",
            "ticks": ""
           },
           "bgcolor": "#E5ECF6",
           "radialaxis": {
            "gridcolor": "white",
            "linecolor": "white",
            "ticks": ""
           }
          },
          "scene": {
           "xaxis": {
            "backgroundcolor": "#E5ECF6",
            "gridcolor": "white",
            "gridwidth": 2,
            "linecolor": "white",
            "showbackground": true,
            "ticks": "",
            "zerolinecolor": "white"
           },
           "yaxis": {
            "backgroundcolor": "#E5ECF6",
            "gridcolor": "white",
            "gridwidth": 2,
            "linecolor": "white",
            "showbackground": true,
            "ticks": "",
            "zerolinecolor": "white"
           },
           "zaxis": {
            "backgroundcolor": "#E5ECF6",
            "gridcolor": "white",
            "gridwidth": 2,
            "linecolor": "white",
            "showbackground": true,
            "ticks": "",
            "zerolinecolor": "white"
           }
          },
          "shapedefaults": {
           "line": {
            "color": "#2a3f5f"
           }
          },
          "ternary": {
           "aaxis": {
            "gridcolor": "white",
            "linecolor": "white",
            "ticks": ""
           },
           "baxis": {
            "gridcolor": "white",
            "linecolor": "white",
            "ticks": ""
           },
           "bgcolor": "#E5ECF6",
           "caxis": {
            "gridcolor": "white",
            "linecolor": "white",
            "ticks": ""
           }
          },
          "title": {
           "x": 0.05
          },
          "xaxis": {
           "automargin": true,
           "gridcolor": "white",
           "linecolor": "white",
           "ticks": "",
           "title": {
            "standoff": 15
           },
           "zerolinecolor": "white",
           "zerolinewidth": 2
          },
          "yaxis": {
           "automargin": true,
           "gridcolor": "white",
           "linecolor": "white",
           "ticks": "",
           "title": {
            "standoff": 15
           },
           "zerolinecolor": "white",
           "zerolinewidth": 2
          }
         }
        },
        "title": {
         "text": "Length Measurements and Error Rates"
        },
        "width": 1000,
        "xaxis": {
         "anchor": "y",
         "domain": [
          0,
          0.94
         ],
         "gridcolor": "lightgray",
         "gridwidth": 1,
         "showgrid": true,
         "title": {
          "text": "Measurement Index"
         },
         "zeroline": true,
         "zerolinecolor": "lightgray",
         "zerolinewidth": 1
        },
        "yaxis": {
         "anchor": "x",
         "domain": [
          0,
          1
         ],
         "gridcolor": "lightgray",
         "gridwidth": 1,
         "showgrid": true,
         "title": {
          "text": "Length (mm)"
         },
         "zeroline": true,
         "zerolinecolor": "lightgray",
         "zerolinewidth": 1
        },
        "yaxis2": {
         "anchor": "x",
         "overlaying": "y",
         "range": [
          0,
          25
         ],
         "showgrid": false,
         "side": "right",
         "title": {
          "text": "Error Rate (%)"
         }
        }
       }
      }
     },
     "metadata": {},
     "output_type": "display_data"
    },
    {
     "name": "stdout",
     "output_type": "stream",
     "text": [
      "📊 Length comparison visualization created with error rates!\n"
     ]
    }
   ],
   "source": [
    "def create_length_error_comparison(df: pd.DataFrame) -> None:\n",
    "    \"\"\"\n",
    "    Create a visualization comparing actual vs predicted lengths with error rates.\n",
    "    Similar to the reference image with dual axis plot.\n",
    "    \"\"\"\n",
    "    # Sort the dataframe by actual length to get a nice progression like in the image\n",
    "    df_sorted = df.sort_values('mean_length').reset_index(drop=True)\n",
    "    \n",
    "    # Calculate error rate as percentage\n",
    "    error_rate = abs((df_sorted['mean_length'] - df_sorted['Length_fov(mm)']) / df_sorted['mean_length'] * 100)\n",
    "    \n",
    "    # Create figure with secondary y-axis\n",
    "    fig = make_subplots(specs=[[{\"secondary_y\": True}]])\n",
    "    \n",
    "    # Add traces\n",
    "    fig.add_trace(\n",
    "        go.Scatter(\n",
    "            x=df_sorted.index,\n",
    "            y=df_sorted['mean_length'],\n",
    "            name=\"Actual Values\",\n",
    "            line=dict(color='black', width=2),\n",
    "            mode='lines+markers',\n",
    "            marker=dict(size=6)\n",
    "        ),\n",
    "        secondary_y=False\n",
    "    )\n",
    "    \n",
    "    fig.add_trace(\n",
    "        go.Scatter(\n",
    "            x=df_sorted.index,\n",
    "            y=df_sorted['Length_fov(mm)'],\n",
    "            name=\"Output Values\",\n",
    "            line=dict(color='red', width=2),\n",
    "            mode='lines+markers',\n",
    "            marker=dict(size=6)\n",
    "        ),\n",
    "        secondary_y=False\n",
    "    )\n",
    "    \n",
    "    fig.add_trace(\n",
    "        go.Bar(\n",
    "            x=df_sorted.index,\n",
    "            y=error_rate,\n",
    "            name=\"Error Rate\",\n",
    "            marker_color='lightgray',\n",
    "            opacity=0.7\n",
    "        ),\n",
    "        secondary_y=True\n",
    "    )\n",
    "    \n",
    "    # Update layout\n",
    "    fig.update_layout(\n",
    "        title='Length Measurements and Error Rates',\n",
    "        plot_bgcolor='white',\n",
    "        height=600,\n",
    "        width=1000,\n",
    "        showlegend=True,\n",
    "        legend=dict(\n",
    "            yanchor=\"top\",\n",
    "            y=0.99,\n",
    "            xanchor=\"left\",\n",
    "            x=0.01,\n",
    "            bgcolor='rgba(255, 255, 255, 0.8)'\n",
    "        ),\n",
    "        hovermode='x unified'\n",
    "    )\n",
    "    \n",
    "    # Update axes\n",
    "    fig.update_xaxes(\n",
    "        title_text=\"Measurement Index\",\n",
    "        showgrid=True,\n",
    "        gridwidth=1,\n",
    "        gridcolor='lightgray',\n",
    "        zeroline=True,\n",
    "        zerolinewidth=1,\n",
    "        zerolinecolor='lightgray'\n",
    "    )\n",
    "    \n",
    "    fig.update_yaxes(\n",
    "        title_text=\"Length (mm)\",\n",
    "        showgrid=True,\n",
    "        gridwidth=1,\n",
    "        gridcolor='lightgray',\n",
    "        zeroline=True,\n",
    "        zerolinewidth=1,\n",
    "        zerolinecolor='lightgray',\n",
    "        secondary_y=False\n",
    "    )\n",
    "    \n",
    "    fig.update_yaxes(\n",
    "        title_text=\"Error Rate (%)\",\n",
    "        range=[0, 25],  # Set range to 0-25%\n",
    "        showgrid=False,\n",
    "        secondary_y=True\n",
    "    )\n",
    "    \n",
    "    # Add horizontal grid lines at 5% intervals\n",
    "    for i in range(0, 26, 5):\n",
    "        fig.add_hline(\n",
    "            y=i,\n",
    "            line_dash=\"dash\",\n",
    "            line_color=\"lightgray\",\n",
    "            opacity=0.5,\n",
    "            secondary_y=True\n",
    "        )\n",
    "    \n",
    "    # Show the plot\n",
    "    fig.show()\n",
    "\n",
    "# Create the visualization\n",
    "create_length_error_comparison(df)\n",
    "print(\"📊 Length comparison visualization created with error rates!\")\n"
   ]
  },
  {
   "cell_type": "markdown",
   "metadata": {},
   "source": [
    "# 🔍 Error Decomposition Analysis: The Art of Measurement Precision\n",
    "\n",
    "## 🧮 The Mathematics of Error\n",
    "In the world of computer vision and biometric measurement, errors don't exist in isolation. They interact, compete, and sometimes even cancel each other out! Let's explore this fascinating phenomenon.\n",
    "\n",
    "### 🎭 The Two Main Characters:\n",
    "- **Pixel Error**: How far off our pixel-level measurements are from the ground truth\n",
    "- **Scale Error**: How incorrect our scale estimation is (mm per pixel)\n",
    "\n",
    "### 🎪 The Plot Twist: Error Cancellation\n",
    "Sometimes, when pixel error and scale error have opposite signs, they partially cancel each other out, leading to surprisingly accurate final measurements despite individual component errors!"
   ]
  },
  {
   "cell_type": "code",
   "execution_count": 216,
   "metadata": {},
   "outputs": [],
   "source": [
    "def calculate_error_metrics(df_pond: pd.DataFrame) -> Dict[str, float]:\n",
    "    \"\"\"\n",
    "    Calculate MAE and MAPE for the measurements.\n",
    "    \n",
    "    Args:\n",
    "        df_pond: DataFrame containing measurement data\n",
    "        \n",
    "    Returns:\n",
    "        Dictionary containing MAE and MAPE values\n",
    "    \"\"\"\n",
    "    # Ground truth is mean_length, prediction is Length_fov(mm)\n",
    "    # Both are already in centimeters after our earlier conversion\n",
    "    \n",
    "    # Calculate absolute errors\n",
    "    absolute_errors = abs(df_pond['mean_length'] - df_pond['Length_fov(mm)'])\n",
    "    \n",
    "    # Calculate percentage errors\n",
    "    percentage_errors = (absolute_errors / df_pond['mean_length']) * 100\n",
    "    \n",
    "    # Calculate metrics\n",
    "    mae = absolute_errors.mean()\n",
    "    mape = percentage_errors.mean()\n",
    "    \n",
    "    return {\n",
    "        'mae_mm': mae,\n",
    "        'mape_percent': mape\n",
    "    }\n",
    "\n",
    "\n",
    "def analyze_error_cancellation(df: pd.DataFrame, pond_type: str) -> Dict[str, any]:\n",
    "    \"\"\"\n",
    "    🔍 Analyze error cancellation patterns for a specific pond type.\n",
    "    \n",
    "    This function calculates pixel errors, scale errors, and their interaction\n",
    "    to understand how measurement errors behave in different pond environments.\n",
    "    \n",
    "    Args:\n",
    "        df: DataFrame containing measurement data for a specific pond\n",
    "        pond_type: Name of the pond type being analyzed\n",
    "        \n",
    "    Returns:\n",
    "        Dictionary containing analysis results and processed DataFrame\n",
    "    \"\"\"\n",
    "    df_pond = df[df['Pond_Type'] == pond_type].copy().reset_index(drop=True)\n",
    "    mae_without_cancellation = 0\n",
    "    mape_without_cancellation = 0\n",
    "    relative_error_cancellation_mean = 0\n",
    "    mean_cancellation = 0\n",
    "    cancellation_percent = 0\n",
    "    percent_partial_cancel = 0\n",
    "    # Calculate MAE and MAPE\n",
    "    error_metrics = calculate_error_metrics(df_pond)\n",
    "    \n",
    "    # 📏 Calculate ACTUAL error components that sum to total measurement error\n",
    "    # Total measurement error = Length_fov(mm) - mean_length\n",
    "    # Length_fov(mm) = pred_Distance_pixels × pred_scale\n",
    "    # mean_length = mean_pixels × mean_scale\n",
    "    mm_per_px_gt = 10 / df_pond['mean_scale']  # Convert to cm per pixel\n",
    "    mm_per_px_pred = 10 / df_pond['pred_scale']  # Convert to cm per pixel\n",
    "\n",
    "    # FIXED CALCULATION: These are the ACTUAL contributions to measurement error\n",
    "    df_pond['pixel_contribution_mm'] = (df_pond['pred_Distance_pixels'] - df_pond['mean_pixels']) * mm_per_px_pred\n",
    "    df_pond['scale_contribution_mm'] = df_pond['mean_pixels'] * (mm_per_px_pred - mm_per_px_gt)\n",
    "    \n",
    "    # Verify: total should equal actual measurement error\n",
    "    df_pond['calculated_total_error_mm'] = df_pond['pixel_contribution_mm'] + df_pond['scale_contribution_mm']\n",
    "    df_pond['actual_measurement_error_mm'] = abs(df_pond['Length_fov(mm)'] - df_pond['mean_length'])\n",
    "    df_pond['mae_mm'] = df_pond['actual_measurement_error_mm']\n",
    "    df_pond['mape_percent'] = (df_pond['mae_mm'] / df_pond['mean_length']) * 100\n",
    "    \n",
    "    # 🎭 Identify cancellation patterns (using signed contributions)\n",
    "    partial_cancel_mask = (df_pond['pixel_contribution_mm'] * df_pond['scale_contribution_mm'] < 0)\n",
    "    no_cancel_mask = (df_pond['pixel_contribution_mm'] * df_pond['scale_contribution_mm'] >= 0)    \n",
    "    percent_partial_cancel = 100 * partial_cancel_mask.sum() / len(df_pond) if len(df_pond) > 0 else 0\n",
    "    percent_no_cancel = 100 * no_cancel_mask.sum() / len(df_pond) if len(df_pond) > 0 else 0\n",
    "    \n",
    "    # 📊 Calculate error statistics\n",
    "    # Sum of absolute contributions (what error would be without cancellation)\n",
    "    df_pond['sum_of_absolute_contributions_mm'] = abs(df_pond['pixel_contribution_mm']) + abs(df_pond['scale_contribution_mm'])\n",
    "    # Calculate cancellation magnitude for partial cancellation cases\n",
    "    if partial_cancel_mask.any():\n",
    "        \n",
    "        # For cases where errors partially cancel, calculate how much they cancel\n",
    "        actual_total_error = abs(df_pond.loc[partial_cancel_mask, 'actual_measurement_error_mm'])\n",
    "        sum_of_absolutes = df_pond.loc[partial_cancel_mask, 'sum_of_absolute_contributions_mm']\n",
    "        relative_error_cancellation = df_pond.loc[partial_cancel_mask, 'sum_of_absolute_contributions_mm'].abs().mean() / df_pond.loc[partial_cancel_mask, 'mean_length'].abs().mean()*100\n",
    "        cancellation_magnitude = sum_of_absolutes - actual_total_error\n",
    "        \n",
    "        df_pond.loc[partial_cancel_mask, 'cancellation_magnitude_mm'] = cancellation_magnitude\n",
    "\n",
    "        mean_relative_error_cancellation = relative_error_cancellation.mean()\n",
    "\n",
    "        mean_cancellation = cancellation_magnitude.mean()\n",
    "        cancellation_percent = mean_cancellation / (df_pond[\"Length_fov(mm)\"].abs().mean()) * 100\n",
    "    if no_cancel_mask.any():\n",
    "        mae_without_cancellation = df_pond.loc[no_cancel_mask, 'actual_measurement_error_mm'].abs().mean()\n",
    "        mape_without_cancellation = (mae_without_cancellation / df_pond.loc[no_cancel_mask, 'mean_length'].abs().mean()) * 100\n",
    "    else:\n",
    "        mae_without_cancellation = 0\n",
    "        mape_without_cancellation = 0\n",
    "        relative_error_cancellation_mean = 0\n",
    "\n",
    "    \n",
    "    # 🏆 Determine error dominance\n",
    "    df_pond['dominant_error'] = np.where(\n",
    "        abs(df_pond['scale_contribution_mm']) > abs(df_pond['pixel_contribution_mm']),\n",
    "        'Scale Error', 'Pixel Error'\n",
    "    )\n",
    "    \n",
    "    dominant_stats = df_pond['dominant_error'].value_counts(normalize=True) * 100\n",
    "    \n",
    "    # 📊 Calculate overall error statistics for ALL measurements\n",
    "    mean_actual_error = df_pond['actual_measurement_error_mm'].abs().mean()\n",
    "\n",
    "\n",
    "\n",
    "\n",
    "\n",
    "\n",
    "\n",
    "\n",
    "    \n",
    "    return {\n",
    "        'data': df_pond,\n",
    "        'total_error_components_mean_mm': mean_actual_error, \n",
    "        'mae_without_cancellation': mae_without_cancellation,\n",
    "        'mape_without_cancellation': mape_without_cancellation,\n",
    "        'mean_sum_of_absolutes': sum_of_absolutes.mean(),\n",
    "\n",
    "          # |actual_measurement_error|\n",
    "        'sample_count': len(df_pond),\n",
    "        'cancellation_percent': percent_partial_cancel,\n",
    "        'mean_cancellation_mm': mean_cancellation,\n",
    "        'relative_error_cancellation_mean': mean_relative_error_cancellation,\n",
    "        'cancellation_relative_percent': cancellation_percent,\n",
    "        'percent_no_cancel': percent_no_cancel,\n",
    "        'scale_dominant_percent': dominant_stats.get('Scale Error', 0),\n",
    "        'pixel_dominant_percent': dominant_stats.get('Pixel Error', 0),\n",
    "        'mae_mm': error_metrics['mae_mm'],\n",
    "        'mape_percent': error_metrics['mape_percent']\n",
    "    }\n",
    "\n",
    "def print_error_summary(pond_type: str, results: Dict[str, any]) -> None:\n",
    "    \"\"\"\n",
    "    🎨 Print a beautifully formatted summary of error analysis results.\n",
    "    \"\"\"\n",
    "    print(f\"\\n��‍♀️ === {pond_type.upper()} POND ANALYSIS === 🦐\")\n",
    "    print(f\"📊 Sample Size: {results['sample_count']} measurements\")\n",
    "    \n",
    "    print(f\"\\n📏 ERROR METRICS:\")\n",
    "    print(f\"   🎯 Mean Absolute Error (MAE): {results['mae_mm']:.2f}mm\")\n",
    "    print(f\"   📊 Mean Absolute Percentage Error (MAPE): {results['mape_percent']:.1f}%\")\n",
    "    \n",
    "    print(f\"\\n🎭 ERROR COMPONENT ANALYSIS:\")\n",
    "    print(f\"   🎯 mean sum of absolutes: {results['mean_sum_of_absolutes']:.2f}mm\")\n",
    "    print(f\"   🎯 Total error components (|pixel + scale|): {results['total_error_components_mean_mm']:.2f}mm\")\n",
    "    print(f\"   🎯 Mean absolute error with absolute error without cancellation: {results['mean_sum_of_absolutes']:.2f}mm\")\n",
    "    print(f\"   🎯 Mean absolute error without cancellation: {results['mae_without_cancellation']:.2f}mm\")\n",
    "    print(f\"   🎯 Percentage of measurements without cancellation: {results['percent_no_cancel']:.1f}%\")\n",
    "    print(f\"   🎯 Mean absolute relative error without cancellation: {results['mape_without_cancellation']:.1f}%\")\n",
    "    print(f\"   🎯 Mean absolute relative error with cancellation: {results['relative_error_cancellation_mean']:.1f}%\")\n",
    "    print(f\"   ✨ Partial cancellation occurs in {results['cancellation_percent']:.1f}% of cases\")\n",
    "    print(f\"   🎪 Average cancellation magnitude: {results['mean_cancellation_mm']:.2f}mm\")\n",
    "    print(f\"   📏 Relative to prawn size: {results['cancellation_relative_percent']:.1f}%\")\n",
    "    \n",
    "    print(f\"\\n🏆 ERROR DOMINANCE BATTLE:\")\n",
    "    print(f\"   🔍 Pixel Error wins: {results['pixel_dominant_percent']:.1f}% of the time\")\n",
    "    print(f\"   📐 Scale Error wins: {results['scale_dominant_percent']:.1f}% of the time\")\n",
    "    print(\"─\" * 60)"
   ]
  },
  {
   "cell_type": "code",
   "execution_count": 217,
   "metadata": {},
   "outputs": [
    {
     "name": "stdout",
     "output_type": "stream",
     "text": [
      "\n",
      "��‍♀️ === CIRCLE_FEMALE POND ANALYSIS === 🦐\n",
      "📊 Sample Size: 60 measurements\n",
      "\n",
      "📏 ERROR METRICS:\n",
      "   🎯 Mean Absolute Error (MAE): 2.42mm\n",
      "   📊 Mean Absolute Percentage Error (MAPE): 7.7%\n",
      "\n",
      "🎭 ERROR COMPONENT ANALYSIS:\n",
      "   🎯 mean sum of absolutes: 6.63mm\n",
      "   🎯 Total error components (|pixel + scale|): 2.42mm\n",
      "   🎯 Mean absolute error with absolute error without cancellation: 6.63mm\n",
      "   🎯 Mean absolute error without cancellation: 2.76mm\n",
      "   🎯 Percentage of measurements without cancellation: 21.7%\n",
      "   🎯 Mean absolute relative error without cancellation: 8.8%\n",
      "   🎯 Mean absolute relative error with cancellation: 20.2%\n",
      "   ✨ Partial cancellation occurs in 78.3% of cases\n",
      "   🎪 Average cancellation magnitude: 4.30mm\n",
      "   📏 Relative to prawn size: 13.8%\n",
      "\n",
      "🏆 ERROR DOMINANCE BATTLE:\n",
      "   🔍 Pixel Error wins: 73.3% of the time\n",
      "   📐 Scale Error wins: 26.7% of the time\n",
      "────────────────────────────────────────────────────────────\n",
      "\n",
      "��‍♀️ === CIRCLE_MALE POND ANALYSIS === 🦐\n",
      "📊 Sample Size: 10 measurements\n",
      "\n",
      "📏 ERROR METRICS:\n",
      "   🎯 Mean Absolute Error (MAE): 2.28mm\n",
      "   📊 Mean Absolute Percentage Error (MAPE): 9.4%\n",
      "\n",
      "🎭 ERROR COMPONENT ANALYSIS:\n",
      "   🎯 mean sum of absolutes: 8.93mm\n",
      "   🎯 Total error components (|pixel + scale|): 2.28mm\n",
      "   🎯 Mean absolute error with absolute error without cancellation: 8.93mm\n",
      "   🎯 Mean absolute error without cancellation: 0.00mm\n",
      "   🎯 Percentage of measurements without cancellation: 0.0%\n",
      "   🎯 Mean absolute relative error without cancellation: 0.0%\n",
      "   🎯 Mean absolute relative error with cancellation: 36.3%\n",
      "   ✨ Partial cancellation occurs in 100.0% of cases\n",
      "   🎪 Average cancellation magnitude: 6.66mm\n",
      "   📏 Relative to prawn size: 28.7%\n",
      "\n",
      "🏆 ERROR DOMINANCE BATTLE:\n",
      "   🔍 Pixel Error wins: 70.0% of the time\n",
      "   📐 Scale Error wins: 30.0% of the time\n",
      "────────────────────────────────────────────────────────────\n",
      "\n",
      "��‍♀️ === SQUARE POND ANALYSIS === 🦐\n",
      "📊 Sample Size: 10 measurements\n",
      "\n",
      "📏 ERROR METRICS:\n",
      "   🎯 Mean Absolute Error (MAE): 2.73mm\n",
      "   📊 Mean Absolute Percentage Error (MAPE): 8.7%\n",
      "\n",
      "🎭 ERROR COMPONENT ANALYSIS:\n",
      "   🎯 mean sum of absolutes: 7.58mm\n",
      "   🎯 Total error components (|pixel + scale|): 2.73mm\n",
      "   🎯 Mean absolute error with absolute error without cancellation: 7.58mm\n",
      "   🎯 Mean absolute error without cancellation: 3.35mm\n",
      "   🎯 Percentage of measurements without cancellation: 20.0%\n",
      "   🎯 Mean absolute relative error without cancellation: 12.5%\n",
      "   🎯 Mean absolute relative error with cancellation: 22.5%\n",
      "   ✨ Partial cancellation occurs in 80.0% of cases\n",
      "   🎪 Average cancellation magnitude: 5.01mm\n",
      "   📏 Relative to prawn size: 16.9%\n",
      "\n",
      "🏆 ERROR DOMINANCE BATTLE:\n",
      "   🔍 Pixel Error wins: 80.0% of the time\n",
      "   📐 Scale Error wins: 20.0% of the time\n",
      "────────────────────────────────────────────────────────────\n"
     ]
    }
   ],
   "source": [
    "# Analyze each pond type and collect results\n",
    "pond_types = df['Pond_Type'].unique()\n",
    "all_results = {}\n",
    "\n",
    "\n",
    "df['mae'] = abs(df['mean_length'] - df['Length_fov(mm)'])\n",
    "df['mape_percent'] = (df['mae'] / df['mean_length']) * 100\n",
    "\n",
    "for pond_type in pond_types:\n",
    "    # Filter out IQR outliers before analysis\n",
    "    df_pond = df[df['Pond_Type'] == pond_type].copy()\n",
    "    q1 = df_pond['mae'].quantile(0.25)\n",
    "    q3 = df_pond['mae'].quantile(0.75)\n",
    "    iqr = q3 - q1\n",
    "    outlier_threshold_low = q1 - 1.5 * iqr\n",
    "    outlier_threshold_high = q3 + 1.5 * iqr\n",
    "    df_pond_filtered = df_pond[(df_pond['mae'] >= outlier_threshold_low) & (df_pond['mae'] <= outlier_threshold_high)]\n",
    "    \n",
    "    # Analyze error cancellation on filtered data\n",
    "    results = analyze_error_cancellation(df_pond_filtered, pond_type)\n",
    "    all_results[pond_type] = results\n",
    "    print_error_summary(pond_type, results)\n",
    "\n",
    "# # Create the visualization\n",
    "# create_error_metrics_visualization({\n",
    "#     pond_type: {\n",
    "#         'mae_mm': results['mae_mm'],\n",
    "#         'mape_percent': results['mape_percent']\n",
    "#     }\n",
    "#     for pond_type, results in all_results.items()\n",
    "# })\n"
   ]
  },
  {
   "cell_type": "code",
   "execution_count": 218,
   "metadata": {},
   "outputs": [
    {
     "data": {
      "application/vnd.plotly.v1+json": {
       "config": {
        "plotlyServerURL": "https://plot.ly"
       },
       "data": [
        {
         "customdata": [
          [
           "carapace:undistorted_GX010067_33_625.jpg_gamma",
           "Prawn_1",
           -0.9901528226530019
          ],
          [
           "carapace:undistorted_GX010067_33_625.jpg_gamma",
           "Prawn_3",
           -1.8002962864755263
          ],
          [
           "carapace:undistorted_GX010068_26_666.jpg_gamma",
           "Prawn_1",
           -3.7125987606311854
          ],
          [
           "carapace:undistorted_GX010068_26_666.jpg_gamma",
           "Prawn_2",
           -0.6312341631346688
          ],
          [
           "carapace:undistorted_GX010068_27_795.jpg_gamma",
           "Prawn_1",
           -2.592444327500116
          ],
          [
           "carapace:undistorted_GX010069_19_191.jpg_gamma",
           "Prawn_0",
           0.09907835679606025
          ],
          [
           "carapace:undistorted_GX010069_19_191.jpg_gamma",
           "Prawn_1",
           -2.6291350264691804
          ],
          [
           "carapace:undistorted_GX010069_19_191.jpg_gamma",
           "Prawn_2",
           -2.1641883603340664
          ],
          [
           "carapace:undistorted_GX010069_19_191.jpg_gamma",
           "Prawn_3",
           -1.6021871690690843
          ],
          [
           "carapace:undistorted_GX010069_53_796.jpg_gamma",
           "Prawn_1",
           1.4833899033185876
          ],
          [
           "carapace:undistorted_GX010073_55_1014.jpg_gamma",
           "Prawn_3",
           -4.116773448628527
          ],
          [
           "carapace:undistorted_GX010077_14_237.jpg_gamma",
           "Prawn_0",
           -3.284753193461903
          ],
          [
           "carapace:undistorted_GX010077_14_237.jpg_gamma",
           "Prawn_2",
           -3.86981557568325
          ],
          [
           "carapace:undistorted_GX010080_157_2283.jpg_gamma",
           "Prawn_4",
           -0.7808094257921931
          ],
          [
           "carapace:undistorted_GX010080_157_2283.jpg_gamma",
           "Prawn_3",
           -2.4225112872183674
          ],
          [
           "carapace:undistorted_GX010080_157_2283.jpg_gamma",
           "Prawn_0",
           4.571686733858871
          ],
          [
           "carapace:undistorted_GX010080_193_2640.jpg_gamma",
           "Prawn_0",
           -3.1627786613174544
          ],
          [
           "carapace:undistorted_GX010080_212_2954.jpg_gamma",
           "Prawn_0",
           3.7149016895922395
          ],
          [
           "carapace:undistorted_GX010080_212_2954.jpg_gamma",
           "Prawn_1",
           0.12067119173826857
          ],
          [
           "carapace:undistorted_GX010080_212_2954.jpg_gamma",
           "Prawn_2",
           -1.6753163571284757
          ],
          [
           "carapace:undistorted_GX010080_237_3366.jpg_gamma",
           "Prawn_0",
           1.691933156128684
          ],
          [
           "carapace:undistorted_GX010080_237_3366.jpg_gamma",
           "Prawn_1",
           -2.0169610211625715
          ],
          [
           "carapace:undistorted_GX010080_237_3366.jpg_gamma",
           "Prawn_2",
           -4.1812093278572515
          ],
          [
           "carapace:undistorted_GX010080_238_3392.jpg_gamma",
           "Prawn_0",
           -1.43327515967455
          ],
          [
           "carapace:undistorted_GX010080_238_3392.jpg_gamma",
           "Prawn_4",
           2.80045813353626
          ],
          [
           "carapace:undistorted_GX010082_236_3137.jpg_gamma",
           "Prawn_3",
           2.064168734296304
          ],
          [
           "carapace:undistorted_GX010082_236_3137.jpg_gamma",
           "Prawn_2",
           -1.0126747630888837
          ],
          [
           "carapace:undistorted_GX010082_236_3137.jpg_gamma",
           "Prawn_1",
           2.208354922351025
          ],
          [
           "carapace:undistorted_GX010082_236_3137.jpg_gamma",
           "Prawn_0",
           1.6796215897453988
          ],
          [
           "carapace:undistorted_GX010082_53_796.jpg_gamma",
           "Prawn_1",
           2.5127091308441516
          ],
          [
           "carapace:undistorted_GX010082_53_796.jpg_gamma",
           "Prawn_0",
           -1.5315364038406307
          ],
          [
           "carapace:undistorted_GX010082_65_1070.jpg_gamma",
           "Prawn_0",
           2.063950524204255
          ],
          [
           "carapace:undistorted_GX010082_65_1070.jpg_gamma",
           "Prawn_2",
           -2.095831570129241
          ],
          [
           "carapace:undistorted_GX010082_8_59.jpg_gamma",
           "Prawn_4",
           1.1209038078886058
          ],
          [
           "carapace:undistorted_GX010082_8_59.jpg_gamma",
           "Prawn_3",
           -0.3429031584582979
          ],
          [
           "carapace:undistorted_GX010082_8_59.jpg_gamma",
           "Prawn_1",
           -1.9958858368728156
          ],
          [
           "carapace:undistorted_GX010084_130_1748.jpg_gamma",
           "Prawn_0",
           -3.7998473697392825
          ],
          [
           "carapace:undistorted_GX010084_30_344.jpg_gamma",
           "Prawn_5",
           -2.122829779366411
          ],
          [
           "carapace:undistorted_GX010085_261_3610.jpg_gamma",
           "Prawn_1",
           -0.4403174941265444
          ],
          [
           "carapace:undistorted_GX010085_261_3610.jpg_gamma",
           "Prawn_2",
           -3.4593474967580278
          ],
          [
           "carapace:undistorted_GX010088_209_2904.jpg_gamma",
           "Prawn_1",
           -3.6861417739574587
          ],
          [
           "carapace:undistorted_GX010090_132_1852.jpg_gamma",
           "Prawn_0",
           0.5959582534463479
          ],
          [
           "carapace:undistorted_GX010094_163_2312.jpg_gamma",
           "Prawn_0",
           -0.7617177721789465
          ],
          [
           "carapace:undistorted_GX010094_24_430.jpg_gamma",
           "Prawn_2",
           -2.6105341860697155
          ],
          [
           "carapace:undistorted_GX010094_24_430.jpg_gamma",
           "Prawn_1",
           -2.4269640515017405
          ],
          [
           "carapace:undistorted_GX010094_93_1258.jpg_gamma",
           "Prawn_0",
           4.811158445529157
          ],
          [
           "carapace:undistorted_GX010094_93_1258.jpg_gamma",
           "Prawn_1",
           -1.7107411078195567
          ],
          [
           "carapace:undistorted_GX010094_9_129.jpg_gamma",
           "Prawn_1",
           -4.961138337036509
          ],
          [
           "carapace:undistorted_GX010094_9_129.jpg_gamma",
           "Prawn_0",
           2.019903091652991
          ],
          [
           "carapace:undistorted_GX010096_107_1571.jpg_gamma",
           "Prawn_0",
           -4.613235771420738
          ],
          [
           "carapace:undistorted_GX010097_105_1651.jpg_gamma",
           "Prawn_0",
           -1.6261589162352124
          ],
          [
           "carapace:undistorted_GX010097_105_1651.jpg_gamma",
           "Prawn_1",
           -2.147356555749665
          ],
          [
           "carapace:undistorted_GX010097_105_1651.jpg_gamma",
           "Prawn_2",
           -4.277348589903941
          ],
          [
           "carapace:undistorted_GX010097_105_1651.jpg_gamma",
           "Prawn_3",
           1.827159492429374
          ],
          [
           "carapace:undistorted_GX010097_124_1870.jpg_gamma",
           "Prawn_0",
           1.3511991238785326
          ],
          [
           "carapace:undistorted_GX010097_124_1870.jpg_gamma",
           "Prawn_1",
           -3.810759706202734
          ],
          [
           "carapace:undistorted_GX010097_32_528.jpg_gamma",
           "Prawn_1",
           -3.2633568214191713
          ],
          [
           "carapace:undistorted_GX010097_60_1080.jpg_gamma",
           "Prawn_0",
           -4.5603676152362365
          ],
          [
           "carapace:undistorted_GX010097_60_1080.jpg_gamma",
           "Prawn_1",
           -4.680968843463015
          ],
          [
           "carapace:undistorted_GX010101_12_173.jpg_gamma",
           "Prawn_0",
           -1.3802584558896915
          ]
         ],
         "hovertemplate": "Image: %{customdata[0]}<br>Prawn ID: %{customdata[1]}<br>Pixel Error: %{y:.2f}mm<br>Total Error: %{customdata[2]:.2f}mm<extra></extra>",
         "marker": {
          "color": [
           "#1f77b4",
           "#1f77b4",
           "#1f77b4",
           "#1f77b4",
           "#1f77b4",
           "#1f77b4",
           "#1f77b4",
           "#1f77b4",
           "#1f77b4",
           "#1f77b4",
           "#1f77b4",
           "#1f77b4",
           "#1f77b4",
           "#1f77b4",
           "#1f77b4",
           "#1f77b4",
           "#1f77b4",
           "#1f77b4",
           "#1f77b4",
           "#1f77b4",
           "#1f77b4",
           "#1f77b4",
           "#1f77b4",
           "#1f77b4",
           "#1f77b4",
           "#1f77b4",
           "#1f77b4",
           "#1f77b4",
           "#1f77b4",
           "#1f77b4",
           "#1f77b4",
           "#1f77b4",
           "#1f77b4",
           "#1f77b4",
           "#1f77b4",
           "#1f77b4",
           "#1f77b4",
           "#1f77b4",
           "#1f77b4",
           "#1f77b4",
           "#1f77b4",
           "#1f77b4",
           "#1f77b4",
           "#1f77b4",
           "#1f77b4",
           "#1f77b4",
           "#1f77b4",
           "#1f77b4",
           "#1f77b4",
           "#1f77b4",
           "#1f77b4",
           "#1f77b4",
           "#1f77b4",
           "#1f77b4",
           "#1f77b4",
           "#1f77b4",
           "#1f77b4",
           "#1f77b4",
           "#1f77b4",
           "#1f77b4"
          ]
         },
         "name": "Pixel Error",
         "showlegend": true,
         "type": "bar",
         "x": {
          "bdata": "AAECAwQFBgcICQoLDA8ODRAREhMUFRYXGCMiISAdHB4fGxoZJSQmJygpMC0sLi8rKjE1Njc4OToyMzQ7",
          "dtype": "i1"
         },
         "xaxis": "x",
         "y": {
          "bdata": "ZQDGwKZGBsDKWaK0FTsNwGcPtqgKNxHA5OBTypWn879uEDKrbuX+v//ZWCdeSvW/58wXm+OlEcB610eK4bkOwG6VF7U0YwzAAArPzB2BuT8cjPmwso0TwMpFvP8c/wfA8HLQFa8fC8CGBgJ6z3ggwIyMnhGNtCTAvRYqDxfi97/ALsO2mogXwPX2Mi8mQug/es5FFPA8CsCG5MVdJBIVwHmnDaP/mPc//J8hN+doAcCTBIynVeMQwLs/oRnhAArAaRDYYKPx8j/dL3BPfEW7v1r8Ufrq0xLAq/Dc0Zn7879vxd1f+gfhvxXsjebyqf4/wujHE05DAcAcd9DSwKzhP+v/GkrQTRHAIov+z85ewT8uaq8ctfzwv51jpApjigjA7n3cR1wo/r9BJox23G33vynqy9H3Qw7AACLiR+kPGsB46W+EcU0VwHXpVD0XSgHAIwtwNJuPAcAjlosDcuYTwAtwHI7QgBLAGGvTi4DqCkDPOzYQ7OILwGy3IXj5vh/AileXZogC4L9c9S81PQAZwIZskfM/oBfAfCfCGOefHMAYccgilSEgwDdbbThgJvu/CvMTiQCcBcAoD+g1aP4ewDKJI0tKKxbAlyCitKX2GcB9BnITPt8XwKXnyAZ1MATA",
          "dtype": "f8"
         },
         "yaxis": "y"
        },
        {
         "customdata": [
          [
           "carapace:undistorted_GX010067_33_625.jpg_gamma",
           "Prawn_1",
           -0.9901528226530019
          ],
          [
           "carapace:undistorted_GX010067_33_625.jpg_gamma",
           "Prawn_3",
           -1.8002962864755263
          ],
          [
           "carapace:undistorted_GX010068_26_666.jpg_gamma",
           "Prawn_1",
           -3.7125987606311854
          ],
          [
           "carapace:undistorted_GX010068_26_666.jpg_gamma",
           "Prawn_2",
           -0.6312341631346688
          ],
          [
           "carapace:undistorted_GX010068_27_795.jpg_gamma",
           "Prawn_1",
           -2.592444327500116
          ],
          [
           "carapace:undistorted_GX010069_19_191.jpg_gamma",
           "Prawn_0",
           0.09907835679606025
          ],
          [
           "carapace:undistorted_GX010069_19_191.jpg_gamma",
           "Prawn_1",
           -2.6291350264691804
          ],
          [
           "carapace:undistorted_GX010069_19_191.jpg_gamma",
           "Prawn_2",
           -2.1641883603340664
          ],
          [
           "carapace:undistorted_GX010069_19_191.jpg_gamma",
           "Prawn_3",
           -1.6021871690690843
          ],
          [
           "carapace:undistorted_GX010069_53_796.jpg_gamma",
           "Prawn_1",
           1.4833899033185876
          ],
          [
           "carapace:undistorted_GX010073_55_1014.jpg_gamma",
           "Prawn_3",
           -4.116773448628527
          ],
          [
           "carapace:undistorted_GX010077_14_237.jpg_gamma",
           "Prawn_0",
           -3.284753193461903
          ],
          [
           "carapace:undistorted_GX010077_14_237.jpg_gamma",
           "Prawn_2",
           -3.86981557568325
          ],
          [
           "carapace:undistorted_GX010080_157_2283.jpg_gamma",
           "Prawn_4",
           -0.7808094257921931
          ],
          [
           "carapace:undistorted_GX010080_157_2283.jpg_gamma",
           "Prawn_3",
           -2.4225112872183674
          ],
          [
           "carapace:undistorted_GX010080_157_2283.jpg_gamma",
           "Prawn_0",
           4.571686733858871
          ],
          [
           "carapace:undistorted_GX010080_193_2640.jpg_gamma",
           "Prawn_0",
           -3.1627786613174544
          ],
          [
           "carapace:undistorted_GX010080_212_2954.jpg_gamma",
           "Prawn_0",
           3.7149016895922395
          ],
          [
           "carapace:undistorted_GX010080_212_2954.jpg_gamma",
           "Prawn_1",
           0.12067119173826857
          ],
          [
           "carapace:undistorted_GX010080_212_2954.jpg_gamma",
           "Prawn_2",
           -1.6753163571284757
          ],
          [
           "carapace:undistorted_GX010080_237_3366.jpg_gamma",
           "Prawn_0",
           1.691933156128684
          ],
          [
           "carapace:undistorted_GX010080_237_3366.jpg_gamma",
           "Prawn_1",
           -2.0169610211625715
          ],
          [
           "carapace:undistorted_GX010080_237_3366.jpg_gamma",
           "Prawn_2",
           -4.1812093278572515
          ],
          [
           "carapace:undistorted_GX010080_238_3392.jpg_gamma",
           "Prawn_0",
           -1.43327515967455
          ],
          [
           "carapace:undistorted_GX010080_238_3392.jpg_gamma",
           "Prawn_4",
           2.80045813353626
          ],
          [
           "carapace:undistorted_GX010082_236_3137.jpg_gamma",
           "Prawn_3",
           2.064168734296304
          ],
          [
           "carapace:undistorted_GX010082_236_3137.jpg_gamma",
           "Prawn_2",
           -1.0126747630888837
          ],
          [
           "carapace:undistorted_GX010082_236_3137.jpg_gamma",
           "Prawn_1",
           2.208354922351025
          ],
          [
           "carapace:undistorted_GX010082_236_3137.jpg_gamma",
           "Prawn_0",
           1.6796215897453988
          ],
          [
           "carapace:undistorted_GX010082_53_796.jpg_gamma",
           "Prawn_1",
           2.5127091308441516
          ],
          [
           "carapace:undistorted_GX010082_53_796.jpg_gamma",
           "Prawn_0",
           -1.5315364038406307
          ],
          [
           "carapace:undistorted_GX010082_65_1070.jpg_gamma",
           "Prawn_0",
           2.063950524204255
          ],
          [
           "carapace:undistorted_GX010082_65_1070.jpg_gamma",
           "Prawn_2",
           -2.095831570129241
          ],
          [
           "carapace:undistorted_GX010082_8_59.jpg_gamma",
           "Prawn_4",
           1.1209038078886058
          ],
          [
           "carapace:undistorted_GX010082_8_59.jpg_gamma",
           "Prawn_3",
           -0.3429031584582979
          ],
          [
           "carapace:undistorted_GX010082_8_59.jpg_gamma",
           "Prawn_1",
           -1.9958858368728156
          ],
          [
           "carapace:undistorted_GX010084_130_1748.jpg_gamma",
           "Prawn_0",
           -3.7998473697392825
          ],
          [
           "carapace:undistorted_GX010084_30_344.jpg_gamma",
           "Prawn_5",
           -2.122829779366411
          ],
          [
           "carapace:undistorted_GX010085_261_3610.jpg_gamma",
           "Prawn_1",
           -0.4403174941265444
          ],
          [
           "carapace:undistorted_GX010085_261_3610.jpg_gamma",
           "Prawn_2",
           -3.4593474967580278
          ],
          [
           "carapace:undistorted_GX010088_209_2904.jpg_gamma",
           "Prawn_1",
           -3.6861417739574587
          ],
          [
           "carapace:undistorted_GX010090_132_1852.jpg_gamma",
           "Prawn_0",
           0.5959582534463479
          ],
          [
           "carapace:undistorted_GX010094_163_2312.jpg_gamma",
           "Prawn_0",
           -0.7617177721789465
          ],
          [
           "carapace:undistorted_GX010094_24_430.jpg_gamma",
           "Prawn_2",
           -2.6105341860697155
          ],
          [
           "carapace:undistorted_GX010094_24_430.jpg_gamma",
           "Prawn_1",
           -2.4269640515017405
          ],
          [
           "carapace:undistorted_GX010094_93_1258.jpg_gamma",
           "Prawn_0",
           4.811158445529157
          ],
          [
           "carapace:undistorted_GX010094_93_1258.jpg_gamma",
           "Prawn_1",
           -1.7107411078195567
          ],
          [
           "carapace:undistorted_GX010094_9_129.jpg_gamma",
           "Prawn_1",
           -4.961138337036509
          ],
          [
           "carapace:undistorted_GX010094_9_129.jpg_gamma",
           "Prawn_0",
           2.019903091652991
          ],
          [
           "carapace:undistorted_GX010096_107_1571.jpg_gamma",
           "Prawn_0",
           -4.613235771420738
          ],
          [
           "carapace:undistorted_GX010097_105_1651.jpg_gamma",
           "Prawn_0",
           -1.6261589162352124
          ],
          [
           "carapace:undistorted_GX010097_105_1651.jpg_gamma",
           "Prawn_1",
           -2.147356555749665
          ],
          [
           "carapace:undistorted_GX010097_105_1651.jpg_gamma",
           "Prawn_2",
           -4.277348589903941
          ],
          [
           "carapace:undistorted_GX010097_105_1651.jpg_gamma",
           "Prawn_3",
           1.827159492429374
          ],
          [
           "carapace:undistorted_GX010097_124_1870.jpg_gamma",
           "Prawn_0",
           1.3511991238785326
          ],
          [
           "carapace:undistorted_GX010097_124_1870.jpg_gamma",
           "Prawn_1",
           -3.810759706202734
          ],
          [
           "carapace:undistorted_GX010097_32_528.jpg_gamma",
           "Prawn_1",
           -3.2633568214191713
          ],
          [
           "carapace:undistorted_GX010097_60_1080.jpg_gamma",
           "Prawn_0",
           -4.5603676152362365
          ],
          [
           "carapace:undistorted_GX010097_60_1080.jpg_gamma",
           "Prawn_1",
           -4.680968843463015
          ],
          [
           "carapace:undistorted_GX010101_12_173.jpg_gamma",
           "Prawn_0",
           -1.3802584558896915
          ]
         ],
         "hovertemplate": "Image: %{customdata[0]}<br>Prawn ID: %{customdata[1]}<br>Scale Error: %{y:.2f}mm<br>Total Error: %{customdata[2]:.2f}mm<extra></extra>",
         "marker": {
          "color": [
           "#ff7f0e",
           "#ff7f0e",
           "#ff7f0e",
           "#ff7f0e",
           "#ff7f0e",
           "#ff7f0e",
           "#ff7f0e",
           "#ff7f0e",
           "#ff7f0e",
           "#ff7f0e",
           "#ff7f0e",
           "#ff7f0e",
           "#ff7f0e",
           "#ff7f0e",
           "#ff7f0e",
           "#ff7f0e",
           "#ff7f0e",
           "#ff7f0e",
           "#ff7f0e",
           "#ff7f0e",
           "#ff7f0e",
           "#ff7f0e",
           "#ff7f0e",
           "#ff7f0e",
           "#ff7f0e",
           "#ff7f0e",
           "#ff7f0e",
           "#ff7f0e",
           "#ff7f0e",
           "#ff7f0e",
           "#ff7f0e",
           "#ff7f0e",
           "#ff7f0e",
           "#ff7f0e",
           "#ff7f0e",
           "#ff7f0e",
           "#ff7f0e",
           "#ff7f0e",
           "#ff7f0e",
           "#ff7f0e",
           "#ff7f0e",
           "#ff7f0e",
           "#ff7f0e",
           "#ff7f0e",
           "#ff7f0e",
           "#ff7f0e",
           "#ff7f0e",
           "#ff7f0e",
           "#ff7f0e",
           "#ff7f0e",
           "#ff7f0e",
           "#ff7f0e",
           "#ff7f0e",
           "#ff7f0e",
           "#ff7f0e",
           "#ff7f0e",
           "#ff7f0e",
           "#ff7f0e",
           "#ff7f0e",
           "#ff7f0e"
          ]
         },
         "name": "Scale Error",
         "showlegend": true,
         "type": "bar",
         "x": {
          "bdata": "AAECAwQFBgcICQoLDA8ODRAREhMUFRYXGCMiISAdHB4fGxoZJSQmJygpMC0sLi8rKjE1Njc4OToyMzQ7",
          "dtype": "i1"
         },
         "xaxis": "x",
         "y": {
          "bdata": "ip0WBaO1/D/gVqzuJ6j9Pw/jLVu56uI/HcHOlxkc4z8Q6QV4cCrlv1G9O1cx4PY/NfOniJ6G/D9yYi8bP9P6P1ab22baI/8/O5RSMOUj9j+wju/b+bDoPzo/dHd9QNK/q4JDRJat3r+TTnNyEtIdQEvsuVZzuB9AInIQA+5BGECumm+H1sMFQEV9uNSUpwdA/Hx2iRI0C0BWOGl4PL0MQDpi3ulGycs/5mWAFqxixD92PkG0W+OkP7r0MkQQE/0/eJ89zwnd+T8jVTXIll0BQG9cvLrgjQ1A4CI65YKoC0DFVqQJ3LEBQCDqji03FOM/nYI7rd8K5D+gE7iSkC/4P8j2mDxd1wFAlVqb9b2G7z/jE/YtWgDnP7sVihigJfE/UaiQedCj/r9uBJPKfxLlv43fIqQyvgpAAKpjLhRzCECilMZFVjv6PyWUFwCdDgZAKnBbbzfv9j8CGcVHhOoCQPi7Svs0lwFACeqPL4Al9z+lVwwPpmb8P2lnX6SJzQdAIL9jDWUpBEDYANCEJDH6P5YbBCYQHxFAXviydQIJFEAZ74cBUk4OQLwo++c1MQxASL7HAqE1EEAJrRfWYIAPQFeuDcQ5OwJAw6w1ylLj/j/LzcO3uJf0P3uhkClgS/I/",
          "dtype": "f8"
         },
         "yaxis": "y"
        },
        {
         "customdata": [
          [
           "carapace:undistorted_GX010067_33_625.jpg_gamma",
           "Prawn_1"
          ],
          [
           "carapace:undistorted_GX010067_33_625.jpg_gamma",
           "Prawn_3"
          ],
          [
           "carapace:undistorted_GX010068_26_666.jpg_gamma",
           "Prawn_1"
          ],
          [
           "carapace:undistorted_GX010068_26_666.jpg_gamma",
           "Prawn_2"
          ],
          [
           "carapace:undistorted_GX010068_27_795.jpg_gamma",
           "Prawn_1"
          ],
          [
           "carapace:undistorted_GX010069_19_191.jpg_gamma",
           "Prawn_0"
          ],
          [
           "carapace:undistorted_GX010069_19_191.jpg_gamma",
           "Prawn_1"
          ],
          [
           "carapace:undistorted_GX010069_19_191.jpg_gamma",
           "Prawn_2"
          ],
          [
           "carapace:undistorted_GX010069_19_191.jpg_gamma",
           "Prawn_3"
          ],
          [
           "carapace:undistorted_GX010069_53_796.jpg_gamma",
           "Prawn_1"
          ],
          [
           "carapace:undistorted_GX010073_55_1014.jpg_gamma",
           "Prawn_3"
          ],
          [
           "carapace:undistorted_GX010077_14_237.jpg_gamma",
           "Prawn_0"
          ],
          [
           "carapace:undistorted_GX010077_14_237.jpg_gamma",
           "Prawn_2"
          ],
          [
           "carapace:undistorted_GX010080_157_2283.jpg_gamma",
           "Prawn_4"
          ],
          [
           "carapace:undistorted_GX010080_157_2283.jpg_gamma",
           "Prawn_3"
          ],
          [
           "carapace:undistorted_GX010080_157_2283.jpg_gamma",
           "Prawn_0"
          ],
          [
           "carapace:undistorted_GX010080_193_2640.jpg_gamma",
           "Prawn_0"
          ],
          [
           "carapace:undistorted_GX010080_212_2954.jpg_gamma",
           "Prawn_0"
          ],
          [
           "carapace:undistorted_GX010080_212_2954.jpg_gamma",
           "Prawn_1"
          ],
          [
           "carapace:undistorted_GX010080_212_2954.jpg_gamma",
           "Prawn_2"
          ],
          [
           "carapace:undistorted_GX010080_237_3366.jpg_gamma",
           "Prawn_0"
          ],
          [
           "carapace:undistorted_GX010080_237_3366.jpg_gamma",
           "Prawn_1"
          ],
          [
           "carapace:undistorted_GX010080_237_3366.jpg_gamma",
           "Prawn_2"
          ],
          [
           "carapace:undistorted_GX010080_238_3392.jpg_gamma",
           "Prawn_0"
          ],
          [
           "carapace:undistorted_GX010080_238_3392.jpg_gamma",
           "Prawn_4"
          ],
          [
           "carapace:undistorted_GX010082_236_3137.jpg_gamma",
           "Prawn_3"
          ],
          [
           "carapace:undistorted_GX010082_236_3137.jpg_gamma",
           "Prawn_2"
          ],
          [
           "carapace:undistorted_GX010082_236_3137.jpg_gamma",
           "Prawn_1"
          ],
          [
           "carapace:undistorted_GX010082_236_3137.jpg_gamma",
           "Prawn_0"
          ],
          [
           "carapace:undistorted_GX010082_53_796.jpg_gamma",
           "Prawn_1"
          ],
          [
           "carapace:undistorted_GX010082_53_796.jpg_gamma",
           "Prawn_0"
          ],
          [
           "carapace:undistorted_GX010082_65_1070.jpg_gamma",
           "Prawn_0"
          ],
          [
           "carapace:undistorted_GX010082_65_1070.jpg_gamma",
           "Prawn_2"
          ],
          [
           "carapace:undistorted_GX010082_8_59.jpg_gamma",
           "Prawn_4"
          ],
          [
           "carapace:undistorted_GX010082_8_59.jpg_gamma",
           "Prawn_3"
          ],
          [
           "carapace:undistorted_GX010082_8_59.jpg_gamma",
           "Prawn_1"
          ],
          [
           "carapace:undistorted_GX010084_130_1748.jpg_gamma",
           "Prawn_0"
          ],
          [
           "carapace:undistorted_GX010084_30_344.jpg_gamma",
           "Prawn_5"
          ],
          [
           "carapace:undistorted_GX010085_261_3610.jpg_gamma",
           "Prawn_1"
          ],
          [
           "carapace:undistorted_GX010085_261_3610.jpg_gamma",
           "Prawn_2"
          ],
          [
           "carapace:undistorted_GX010088_209_2904.jpg_gamma",
           "Prawn_1"
          ],
          [
           "carapace:undistorted_GX010090_132_1852.jpg_gamma",
           "Prawn_0"
          ],
          [
           "carapace:undistorted_GX010094_163_2312.jpg_gamma",
           "Prawn_0"
          ],
          [
           "carapace:undistorted_GX010094_24_430.jpg_gamma",
           "Prawn_2"
          ],
          [
           "carapace:undistorted_GX010094_24_430.jpg_gamma",
           "Prawn_1"
          ],
          [
           "carapace:undistorted_GX010094_93_1258.jpg_gamma",
           "Prawn_0"
          ],
          [
           "carapace:undistorted_GX010094_93_1258.jpg_gamma",
           "Prawn_1"
          ],
          [
           "carapace:undistorted_GX010094_9_129.jpg_gamma",
           "Prawn_1"
          ],
          [
           "carapace:undistorted_GX010094_9_129.jpg_gamma",
           "Prawn_0"
          ],
          [
           "carapace:undistorted_GX010096_107_1571.jpg_gamma",
           "Prawn_0"
          ],
          [
           "carapace:undistorted_GX010097_105_1651.jpg_gamma",
           "Prawn_0"
          ],
          [
           "carapace:undistorted_GX010097_105_1651.jpg_gamma",
           "Prawn_1"
          ],
          [
           "carapace:undistorted_GX010097_105_1651.jpg_gamma",
           "Prawn_2"
          ],
          [
           "carapace:undistorted_GX010097_105_1651.jpg_gamma",
           "Prawn_3"
          ],
          [
           "carapace:undistorted_GX010097_124_1870.jpg_gamma",
           "Prawn_0"
          ],
          [
           "carapace:undistorted_GX010097_124_1870.jpg_gamma",
           "Prawn_1"
          ],
          [
           "carapace:undistorted_GX010097_32_528.jpg_gamma",
           "Prawn_1"
          ],
          [
           "carapace:undistorted_GX010097_60_1080.jpg_gamma",
           "Prawn_0"
          ],
          [
           "carapace:undistorted_GX010097_60_1080.jpg_gamma",
           "Prawn_1"
          ],
          [
           "carapace:undistorted_GX010101_12_173.jpg_gamma",
           "Prawn_0"
          ]
         ],
         "hovertemplate": "Image: %{customdata[0]}<br>Prawn ID: %{customdata[1]}<br>Total Error: %{y:.2f}mm<extra></extra>",
         "marker": {
          "color": "purple",
          "size": 10,
          "symbol": "x"
         },
         "mode": "markers",
         "name": "MAPE Outlier",
         "showlegend": true,
         "type": "scatter",
         "x": [],
         "xaxis": "x",
         "y": [],
         "yaxis": "y"
        },
        {
         "customdata": [
          [
           "carapace:undistorted_GX010089_11_236.jpg_gamma",
           "Prawn_0",
           -4.120051083688093
          ],
          [
           "carapace:undistorted_GX010089_11_236.jpg_gamma",
           "Prawn_1",
           -3.5454398384895853
          ],
          [
           "carapace:undistorted_GX010089_11_236.jpg_gamma",
           "Prawn_2",
           -3.096665068870144
          ],
          [
           "carapace:undistorted_GX010091_5_149.jpg_gamma",
           "Prawn_0",
           -2.307723032723488
          ],
          [
           "carapace:undistorted_GX010102_50_1396.jpg_gamma",
           "Prawn_0",
           0.1785310872970145
          ],
          [
           "carapace:undistorted_GX010102_9_165.jpg_gamma",
           "Prawn_0",
           -0.8755882468997416
          ],
          [
           "carapace:undistorted_GX010102_9_165.jpg_gamma",
           "Prawn_3",
           -2.001918988744945
          ],
          [
           "carapace:undistorted_GX010102_9_165.jpg_gamma",
           "Prawn_4",
           -1.7236258206645156
          ],
          [
           "carapace:undistorted_GX010105_28_816.jpg_gamma",
           "Prawn_0",
           0.09590896481894617
          ],
          [
           "carapace:undistorted_GX010105_28_816.jpg_gamma",
           "Prawn_1",
           4.6574029193469215
          ]
         ],
         "hovertemplate": "Image: %{customdata[0]}<br>Prawn ID: %{customdata[1]}<br>Pixel Error: %{y:.2f}mm<br>Total Error: %{customdata[2]:.2f}mm<extra></extra>",
         "marker": {
          "color": [
           "#1f77b4",
           "#1f77b4",
           "#1f77b4",
           "#1f77b4",
           "#1f77b4",
           "#1f77b4",
           "#1f77b4",
           "#1f77b4",
           "#1f77b4",
           "red"
          ]
         },
         "name": "",
         "showlegend": false,
         "type": "bar",
         "x": {
          "bdata": "AAECAwcEBQYICQ==",
          "dtype": "i1"
         },
         "xaxis": "x2",
         "y": {
          "bdata": "ALqNECtQHsDMVwS2rskZwHVKFQqJJBnAOC0ZjQQ1EcC0SbIyE6sXwMbQ/W1KZhPADDbTVW+9E8Bbj2SGdo8TwJkcoXYgOxHAQ8zSaNBk+L8=",
          "dtype": "f8"
         },
         "yaxis": "y2"
        },
        {
         "customdata": [
          [
           "carapace:undistorted_GX010089_11_236.jpg_gamma",
           "Prawn_0",
           -4.120051083688093
          ],
          [
           "carapace:undistorted_GX010089_11_236.jpg_gamma",
           "Prawn_1",
           -3.5454398384895853
          ],
          [
           "carapace:undistorted_GX010089_11_236.jpg_gamma",
           "Prawn_2",
           -3.096665068870144
          ],
          [
           "carapace:undistorted_GX010091_5_149.jpg_gamma",
           "Prawn_0",
           -2.307723032723488
          ],
          [
           "carapace:undistorted_GX010102_50_1396.jpg_gamma",
           "Prawn_0",
           0.1785310872970145
          ],
          [
           "carapace:undistorted_GX010102_9_165.jpg_gamma",
           "Prawn_0",
           -0.8755882468997416
          ],
          [
           "carapace:undistorted_GX010102_9_165.jpg_gamma",
           "Prawn_3",
           -2.001918988744945
          ],
          [
           "carapace:undistorted_GX010102_9_165.jpg_gamma",
           "Prawn_4",
           -1.7236258206645156
          ],
          [
           "carapace:undistorted_GX010105_28_816.jpg_gamma",
           "Prawn_0",
           0.09590896481894617
          ],
          [
           "carapace:undistorted_GX010105_28_816.jpg_gamma",
           "Prawn_1",
           4.6574029193469215
          ]
         ],
         "hovertemplate": "Image: %{customdata[0]}<br>Prawn ID: %{customdata[1]}<br>Scale Error: %{y:.2f}mm<br>Total Error: %{customdata[2]:.2f}mm<extra></extra>",
         "marker": {
          "color": [
           "#ff7f0e",
           "#ff7f0e",
           "#ff7f0e",
           "#ff7f0e",
           "#ff7f0e",
           "#ff7f0e",
           "#ff7f0e",
           "#ff7f0e",
           "#ff7f0e",
           "red"
          ]
         },
         "name": "",
         "showlegend": false,
         "type": "bar",
         "x": {
          "bdata": "AAECAwcEBQYICQ==",
          "dtype": "i1"
         },
         "xaxis": "x2",
         "y": {
          "bdata": "pyJpyXiqC0AYsybcTTYHQPzgPr4ZgwlAXFXIN6Pn/z/xUycN5GEYQGUP0nJgyw9A/TZXkfB2B0AHwja38FQJQClGTmxWnRFAYUJQVWK6GEA=",
          "dtype": "f8"
         },
         "yaxis": "y2"
        },
        {
         "customdata": [
          [
           "carapace:undistorted_GX010089_11_236.jpg_gamma",
           "Prawn_0"
          ],
          [
           "carapace:undistorted_GX010089_11_236.jpg_gamma",
           "Prawn_1"
          ],
          [
           "carapace:undistorted_GX010089_11_236.jpg_gamma",
           "Prawn_2"
          ],
          [
           "carapace:undistorted_GX010091_5_149.jpg_gamma",
           "Prawn_0"
          ],
          [
           "carapace:undistorted_GX010102_50_1396.jpg_gamma",
           "Prawn_0"
          ],
          [
           "carapace:undistorted_GX010102_9_165.jpg_gamma",
           "Prawn_0"
          ],
          [
           "carapace:undistorted_GX010102_9_165.jpg_gamma",
           "Prawn_3"
          ],
          [
           "carapace:undistorted_GX010102_9_165.jpg_gamma",
           "Prawn_4"
          ],
          [
           "carapace:undistorted_GX010105_28_816.jpg_gamma",
           "Prawn_0"
          ],
          [
           "carapace:undistorted_GX010105_28_816.jpg_gamma",
           "Prawn_1"
          ]
         ],
         "hovertemplate": "Image: %{customdata[0]}<br>Prawn ID: %{customdata[1]}<br>Total Error: %{y:.2f}mm<extra></extra>",
         "marker": {
          "color": "purple",
          "size": 10,
          "symbol": "x"
         },
         "mode": "markers",
         "name": "",
         "showlegend": false,
         "type": "scatter",
         "x": [],
         "xaxis": "x2",
         "y": [],
         "yaxis": "y2"
        },
        {
         "customdata": [
          [
           "carapace:undistorted_GX010162_72_927.jpg_gamma.jpg_gamma",
           "Prawn_0",
           -3.4799710365316905
          ],
          [
           "carapace:undistorted_GX010178_107_2118",
           "Prawn_0",
           -3.8931593567949
          ],
          [
           "carapace:undistorted_GX010179_88_1697.jpg_gamma",
           "Prawn_0",
           0.8961008664653844
          ],
          [
           "carapace:undistorted_GX010180_91_1563",
           "Prawn_0",
           -1.837435767019624
          ],
          [
           "carapace:undistorted_GX010180_99_1788",
           "Prawn_0",
           -4.142219869608013
          ],
          [
           "carapace:undistorted_GX010181_101_1542",
           "Prawn_0",
           -1.2748265484130492
          ],
          [
           "carapace:undistorted_GX010183_128_2852.jpg_gamma",
           "Prawn_0",
           -1.7581103499762696
          ],
          [
           "carapace:undistorted_GX010183_128_2852.jpg_gamma",
           "Prawn_1",
           -3.919048074703094
          ],
          [
           "carapace:undistorted_GX010183_37_685.jpg_gamma",
           "Prawn_1",
           -3.1564117778984837
          ],
          [
           "carapace:undistorted_GX010183_80_1633.jpg_gamma",
           "Prawn_1",
           -2.4869820174198223
          ]
         ],
         "hovertemplate": "Image: %{customdata[0]}<br>Prawn ID: %{customdata[1]}<br>Pixel Error: %{y:.2f}mm<br>Total Error: %{customdata[2]:.2f}mm<extra></extra>",
         "marker": {
          "color": [
           "#1f77b4",
           "#1f77b4",
           "#1f77b4",
           "#1f77b4",
           "#1f77b4",
           "#1f77b4",
           "#1f77b4",
           "#1f77b4",
           "#1f77b4",
           "#1f77b4"
          ]
         },
         "name": "",
         "showlegend": false,
         "type": "bar",
         "x": {
          "bdata": "AAECAwQFCAkGBw==",
          "dtype": "i1"
         },
         "xaxis": "x3",
         "y": {
          "bdata": "cudNX1bj/r87wBDCqkcfwB4vQLznFBfAZf30HmNiHcD2IzvFtu0VwJwCcAfOqAjAET+rrewAAMADeStOZOkQwMSIYbaC7fS/yTQxLeZ4DsA=",
          "dtype": "f8"
         },
         "yaxis": "y3"
        },
        {
         "customdata": [
          [
           "carapace:undistorted_GX010162_72_927.jpg_gamma.jpg_gamma",
           "Prawn_0",
           -3.4799710365316905
          ],
          [
           "carapace:undistorted_GX010178_107_2118",
           "Prawn_0",
           -3.8931593567949
          ],
          [
           "carapace:undistorted_GX010179_88_1697.jpg_gamma",
           "Prawn_0",
           0.8961008664653844
          ],
          [
           "carapace:undistorted_GX010180_91_1563",
           "Prawn_0",
           -1.837435767019624
          ],
          [
           "carapace:undistorted_GX010180_99_1788",
           "Prawn_0",
           -4.142219869608013
          ],
          [
           "carapace:undistorted_GX010181_101_1542",
           "Prawn_0",
           -1.2748265484130492
          ],
          [
           "carapace:undistorted_GX010183_128_2852.jpg_gamma",
           "Prawn_0",
           -1.7581103499762696
          ],
          [
           "carapace:undistorted_GX010183_128_2852.jpg_gamma",
           "Prawn_1",
           -3.919048074703094
          ],
          [
           "carapace:undistorted_GX010183_37_685.jpg_gamma",
           "Prawn_1",
           -3.1564117778984837
          ],
          [
           "carapace:undistorted_GX010183_80_1633.jpg_gamma",
           "Prawn_1",
           -2.4869820174198223
          ]
         ],
         "hovertemplate": "Image: %{customdata[0]}<br>Prawn ID: %{customdata[1]}<br>Scale Error: %{y:.2f}mm<br>Total Error: %{customdata[2]:.2f}mm<extra></extra>",
         "marker": {
          "color": [
           "#ff7f0e",
           "#ff7f0e",
           "#ff7f0e",
           "#ff7f0e",
           "#ff7f0e",
           "#ff7f0e",
           "#ff7f0e",
           "#ff7f0e",
           "#ff7f0e",
           "#ff7f0e"
          ]
         },
         "name": "",
         "showlegend": false,
         "type": "bar",
         "x": {
          "bdata": "AAECAwQFCAkGBw==",
          "dtype": "i1"
         },
         "xaxis": "x3",
         "y": {
          "bdata": "Pv3AvJ/K+L8OGYXIJGoPQHm6bTODqhpACZf1W9oIFkAXo1+9UnD1PyjqB4nr6/w/LtK/TggFzz+FQ6TelcTTPz3/iuwmk/2/Bnt5sh4n9T8=",
          "dtype": "f8"
         },
         "yaxis": "y3"
        },
        {
         "customdata": [
          [
           "carapace:undistorted_GX010162_72_927.jpg_gamma.jpg_gamma",
           "Prawn_0"
          ],
          [
           "carapace:undistorted_GX010178_107_2118",
           "Prawn_0"
          ],
          [
           "carapace:undistorted_GX010179_88_1697.jpg_gamma",
           "Prawn_0"
          ],
          [
           "carapace:undistorted_GX010180_91_1563",
           "Prawn_0"
          ],
          [
           "carapace:undistorted_GX010180_99_1788",
           "Prawn_0"
          ],
          [
           "carapace:undistorted_GX010181_101_1542",
           "Prawn_0"
          ],
          [
           "carapace:undistorted_GX010183_128_2852.jpg_gamma",
           "Prawn_0"
          ],
          [
           "carapace:undistorted_GX010183_128_2852.jpg_gamma",
           "Prawn_1"
          ],
          [
           "carapace:undistorted_GX010183_37_685.jpg_gamma",
           "Prawn_1"
          ],
          [
           "carapace:undistorted_GX010183_80_1633.jpg_gamma",
           "Prawn_1"
          ]
         ],
         "hovertemplate": "Image: %{customdata[0]}<br>Prawn ID: %{customdata[1]}<br>Total Error: %{y:.2f}mm<extra></extra>",
         "marker": {
          "color": "purple",
          "size": 10,
          "symbol": "x"
         },
         "mode": "markers",
         "name": "",
         "showlegend": false,
         "type": "scatter",
         "x": [],
         "xaxis": "x3",
         "y": [],
         "yaxis": "y3"
        }
       ],
       "layout": {
        "annotations": [
         {
          "font": {
           "size": 16
          },
          "showarrow": false,
          "text": "Error Components - circle_female",
          "x": 0.14444444444444446,
          "xanchor": "center",
          "xref": "paper",
          "y": 1,
          "yanchor": "bottom",
          "yref": "paper"
         },
         {
          "font": {
           "size": 16
          },
          "showarrow": false,
          "text": "Error Components - circle_male",
          "x": 0.5,
          "xanchor": "center",
          "xref": "paper",
          "y": 1,
          "yanchor": "bottom",
          "yref": "paper"
         },
         {
          "font": {
           "size": 16
          },
          "showarrow": false,
          "text": "Error Components - square",
          "x": 0.8555555555555556,
          "xanchor": "center",
          "xref": "paper",
          "y": 1,
          "yanchor": "bottom",
          "yref": "paper"
         }
        ],
        "barmode": "relative",
        "height": 500,
        "legend": {
         "orientation": "h",
         "x": 1,
         "xanchor": "right",
         "y": 1.02,
         "yanchor": "bottom"
        },
        "showlegend": true,
        "template": {
         "data": {
          "bar": [
           {
            "error_x": {
             "color": "#2a3f5f"
            },
            "error_y": {
             "color": "#2a3f5f"
            },
            "marker": {
             "line": {
              "color": "#E5ECF6",
              "width": 0.5
             },
             "pattern": {
              "fillmode": "overlay",
              "size": 10,
              "solidity": 0.2
             }
            },
            "type": "bar"
           }
          ],
          "barpolar": [
           {
            "marker": {
             "line": {
              "color": "#E5ECF6",
              "width": 0.5
             },
             "pattern": {
              "fillmode": "overlay",
              "size": 10,
              "solidity": 0.2
             }
            },
            "type": "barpolar"
           }
          ],
          "carpet": [
           {
            "aaxis": {
             "endlinecolor": "#2a3f5f",
             "gridcolor": "white",
             "linecolor": "white",
             "minorgridcolor": "white",
             "startlinecolor": "#2a3f5f"
            },
            "baxis": {
             "endlinecolor": "#2a3f5f",
             "gridcolor": "white",
             "linecolor": "white",
             "minorgridcolor": "white",
             "startlinecolor": "#2a3f5f"
            },
            "type": "carpet"
           }
          ],
          "choropleth": [
           {
            "colorbar": {
             "outlinewidth": 0,
             "ticks": ""
            },
            "type": "choropleth"
           }
          ],
          "contour": [
           {
            "colorbar": {
             "outlinewidth": 0,
             "ticks": ""
            },
            "colorscale": [
             [
              0,
              "#0d0887"
             ],
             [
              0.1111111111111111,
              "#46039f"
             ],
             [
              0.2222222222222222,
              "#7201a8"
             ],
             [
              0.3333333333333333,
              "#9c179e"
             ],
             [
              0.4444444444444444,
              "#bd3786"
             ],
             [
              0.5555555555555556,
              "#d8576b"
             ],
             [
              0.6666666666666666,
              "#ed7953"
             ],
             [
              0.7777777777777778,
              "#fb9f3a"
             ],
             [
              0.8888888888888888,
              "#fdca26"
             ],
             [
              1,
              "#f0f921"
             ]
            ],
            "type": "contour"
           }
          ],
          "contourcarpet": [
           {
            "colorbar": {
             "outlinewidth": 0,
             "ticks": ""
            },
            "type": "contourcarpet"
           }
          ],
          "heatmap": [
           {
            "colorbar": {
             "outlinewidth": 0,
             "ticks": ""
            },
            "colorscale": [
             [
              0,
              "#0d0887"
             ],
             [
              0.1111111111111111,
              "#46039f"
             ],
             [
              0.2222222222222222,
              "#7201a8"
             ],
             [
              0.3333333333333333,
              "#9c179e"
             ],
             [
              0.4444444444444444,
              "#bd3786"
             ],
             [
              0.5555555555555556,
              "#d8576b"
             ],
             [
              0.6666666666666666,
              "#ed7953"
             ],
             [
              0.7777777777777778,
              "#fb9f3a"
             ],
             [
              0.8888888888888888,
              "#fdca26"
             ],
             [
              1,
              "#f0f921"
             ]
            ],
            "type": "heatmap"
           }
          ],
          "histogram": [
           {
            "marker": {
             "pattern": {
              "fillmode": "overlay",
              "size": 10,
              "solidity": 0.2
             }
            },
            "type": "histogram"
           }
          ],
          "histogram2d": [
           {
            "colorbar": {
             "outlinewidth": 0,
             "ticks": ""
            },
            "colorscale": [
             [
              0,
              "#0d0887"
             ],
             [
              0.1111111111111111,
              "#46039f"
             ],
             [
              0.2222222222222222,
              "#7201a8"
             ],
             [
              0.3333333333333333,
              "#9c179e"
             ],
             [
              0.4444444444444444,
              "#bd3786"
             ],
             [
              0.5555555555555556,
              "#d8576b"
             ],
             [
              0.6666666666666666,
              "#ed7953"
             ],
             [
              0.7777777777777778,
              "#fb9f3a"
             ],
             [
              0.8888888888888888,
              "#fdca26"
             ],
             [
              1,
              "#f0f921"
             ]
            ],
            "type": "histogram2d"
           }
          ],
          "histogram2dcontour": [
           {
            "colorbar": {
             "outlinewidth": 0,
             "ticks": ""
            },
            "colorscale": [
             [
              0,
              "#0d0887"
             ],
             [
              0.1111111111111111,
              "#46039f"
             ],
             [
              0.2222222222222222,
              "#7201a8"
             ],
             [
              0.3333333333333333,
              "#9c179e"
             ],
             [
              0.4444444444444444,
              "#bd3786"
             ],
             [
              0.5555555555555556,
              "#d8576b"
             ],
             [
              0.6666666666666666,
              "#ed7953"
             ],
             [
              0.7777777777777778,
              "#fb9f3a"
             ],
             [
              0.8888888888888888,
              "#fdca26"
             ],
             [
              1,
              "#f0f921"
             ]
            ],
            "type": "histogram2dcontour"
           }
          ],
          "mesh3d": [
           {
            "colorbar": {
             "outlinewidth": 0,
             "ticks": ""
            },
            "type": "mesh3d"
           }
          ],
          "parcoords": [
           {
            "line": {
             "colorbar": {
              "outlinewidth": 0,
              "ticks": ""
             }
            },
            "type": "parcoords"
           }
          ],
          "pie": [
           {
            "automargin": true,
            "type": "pie"
           }
          ],
          "scatter": [
           {
            "fillpattern": {
             "fillmode": "overlay",
             "size": 10,
             "solidity": 0.2
            },
            "type": "scatter"
           }
          ],
          "scatter3d": [
           {
            "line": {
             "colorbar": {
              "outlinewidth": 0,
              "ticks": ""
             }
            },
            "marker": {
             "colorbar": {
              "outlinewidth": 0,
              "ticks": ""
             }
            },
            "type": "scatter3d"
           }
          ],
          "scattercarpet": [
           {
            "marker": {
             "colorbar": {
              "outlinewidth": 0,
              "ticks": ""
             }
            },
            "type": "scattercarpet"
           }
          ],
          "scattergeo": [
           {
            "marker": {
             "colorbar": {
              "outlinewidth": 0,
              "ticks": ""
             }
            },
            "type": "scattergeo"
           }
          ],
          "scattergl": [
           {
            "marker": {
             "colorbar": {
              "outlinewidth": 0,
              "ticks": ""
             }
            },
            "type": "scattergl"
           }
          ],
          "scattermap": [
           {
            "marker": {
             "colorbar": {
              "outlinewidth": 0,
              "ticks": ""
             }
            },
            "type": "scattermap"
           }
          ],
          "scattermapbox": [
           {
            "marker": {
             "colorbar": {
              "outlinewidth": 0,
              "ticks": ""
             }
            },
            "type": "scattermapbox"
           }
          ],
          "scatterpolar": [
           {
            "marker": {
             "colorbar": {
              "outlinewidth": 0,
              "ticks": ""
             }
            },
            "type": "scatterpolar"
           }
          ],
          "scatterpolargl": [
           {
            "marker": {
             "colorbar": {
              "outlinewidth": 0,
              "ticks": ""
             }
            },
            "type": "scatterpolargl"
           }
          ],
          "scatterternary": [
           {
            "marker": {
             "colorbar": {
              "outlinewidth": 0,
              "ticks": ""
             }
            },
            "type": "scatterternary"
           }
          ],
          "surface": [
           {
            "colorbar": {
             "outlinewidth": 0,
             "ticks": ""
            },
            "colorscale": [
             [
              0,
              "#0d0887"
             ],
             [
              0.1111111111111111,
              "#46039f"
             ],
             [
              0.2222222222222222,
              "#7201a8"
             ],
             [
              0.3333333333333333,
              "#9c179e"
             ],
             [
              0.4444444444444444,
              "#bd3786"
             ],
             [
              0.5555555555555556,
              "#d8576b"
             ],
             [
              0.6666666666666666,
              "#ed7953"
             ],
             [
              0.7777777777777778,
              "#fb9f3a"
             ],
             [
              0.8888888888888888,
              "#fdca26"
             ],
             [
              1,
              "#f0f921"
             ]
            ],
            "type": "surface"
           }
          ],
          "table": [
           {
            "cells": {
             "fill": {
              "color": "#EBF0F8"
             },
             "line": {
              "color": "white"
             }
            },
            "header": {
             "fill": {
              "color": "#C8D4E3"
             },
             "line": {
              "color": "white"
             }
            },
            "type": "table"
           }
          ]
         },
         "layout": {
          "annotationdefaults": {
           "arrowcolor": "#2a3f5f",
           "arrowhead": 0,
           "arrowwidth": 1
          },
          "autotypenumbers": "strict",
          "coloraxis": {
           "colorbar": {
            "outlinewidth": 0,
            "ticks": ""
           }
          },
          "colorscale": {
           "diverging": [
            [
             0,
             "#8e0152"
            ],
            [
             0.1,
             "#c51b7d"
            ],
            [
             0.2,
             "#de77ae"
            ],
            [
             0.3,
             "#f1b6da"
            ],
            [
             0.4,
             "#fde0ef"
            ],
            [
             0.5,
             "#f7f7f7"
            ],
            [
             0.6,
             "#e6f5d0"
            ],
            [
             0.7,
             "#b8e186"
            ],
            [
             0.8,
             "#7fbc41"
            ],
            [
             0.9,
             "#4d9221"
            ],
            [
             1,
             "#276419"
            ]
           ],
           "sequential": [
            [
             0,
             "#0d0887"
            ],
            [
             0.1111111111111111,
             "#46039f"
            ],
            [
             0.2222222222222222,
             "#7201a8"
            ],
            [
             0.3333333333333333,
             "#9c179e"
            ],
            [
             0.4444444444444444,
             "#bd3786"
            ],
            [
             0.5555555555555556,
             "#d8576b"
            ],
            [
             0.6666666666666666,
             "#ed7953"
            ],
            [
             0.7777777777777778,
             "#fb9f3a"
            ],
            [
             0.8888888888888888,
             "#fdca26"
            ],
            [
             1,
             "#f0f921"
            ]
           ],
           "sequentialminus": [
            [
             0,
             "#0d0887"
            ],
            [
             0.1111111111111111,
             "#46039f"
            ],
            [
             0.2222222222222222,
             "#7201a8"
            ],
            [
             0.3333333333333333,
             "#9c179e"
            ],
            [
             0.4444444444444444,
             "#bd3786"
            ],
            [
             0.5555555555555556,
             "#d8576b"
            ],
            [
             0.6666666666666666,
             "#ed7953"
            ],
            [
             0.7777777777777778,
             "#fb9f3a"
            ],
            [
             0.8888888888888888,
             "#fdca26"
            ],
            [
             1,
             "#f0f921"
            ]
           ]
          },
          "colorway": [
           "#636efa",
           "#EF553B",
           "#00cc96",
           "#ab63fa",
           "#FFA15A",
           "#19d3f3",
           "#FF6692",
           "#B6E880",
           "#FF97FF",
           "#FECB52"
          ],
          "font": {
           "color": "#2a3f5f"
          },
          "geo": {
           "bgcolor": "white",
           "lakecolor": "white",
           "landcolor": "#E5ECF6",
           "showlakes": true,
           "showland": true,
           "subunitcolor": "white"
          },
          "hoverlabel": {
           "align": "left"
          },
          "hovermode": "closest",
          "mapbox": {
           "style": "light"
          },
          "paper_bgcolor": "white",
          "plot_bgcolor": "#E5ECF6",
          "polar": {
           "angularaxis": {
            "gridcolor": "white",
            "linecolor": "white",
            "ticks": ""
           },
           "bgcolor": "#E5ECF6",
           "radialaxis": {
            "gridcolor": "white",
            "linecolor": "white",
            "ticks": ""
           }
          },
          "scene": {
           "xaxis": {
            "backgroundcolor": "#E5ECF6",
            "gridcolor": "white",
            "gridwidth": 2,
            "linecolor": "white",
            "showbackground": true,
            "ticks": "",
            "zerolinecolor": "white"
           },
           "yaxis": {
            "backgroundcolor": "#E5ECF6",
            "gridcolor": "white",
            "gridwidth": 2,
            "linecolor": "white",
            "showbackground": true,
            "ticks": "",
            "zerolinecolor": "white"
           },
           "zaxis": {
            "backgroundcolor": "#E5ECF6",
            "gridcolor": "white",
            "gridwidth": 2,
            "linecolor": "white",
            "showbackground": true,
            "ticks": "",
            "zerolinecolor": "white"
           }
          },
          "shapedefaults": {
           "line": {
            "color": "#2a3f5f"
           }
          },
          "ternary": {
           "aaxis": {
            "gridcolor": "white",
            "linecolor": "white",
            "ticks": ""
           },
           "baxis": {
            "gridcolor": "white",
            "linecolor": "white",
            "ticks": ""
           },
           "bgcolor": "#E5ECF6",
           "caxis": {
            "gridcolor": "white",
            "linecolor": "white",
            "ticks": ""
           }
          },
          "title": {
           "x": 0.05
          },
          "xaxis": {
           "automargin": true,
           "gridcolor": "white",
           "linecolor": "white",
           "ticks": "",
           "title": {
            "standoff": 15
           },
           "zerolinecolor": "white",
           "zerolinewidth": 2
          },
          "yaxis": {
           "automargin": true,
           "gridcolor": "white",
           "linecolor": "white",
           "ticks": "",
           "title": {
            "standoff": 15
           },
           "zerolinecolor": "white",
           "zerolinewidth": 2
          }
         }
        },
        "title": {
         "text": "Error Components Analysis by Pond Type"
        },
        "width": 1200,
        "xaxis": {
         "anchor": "y",
         "domain": [
          0,
          0.2888888888888889
         ],
         "title": {
          "text": "Measurement Index"
         }
        },
        "xaxis2": {
         "anchor": "y2",
         "domain": [
          0.35555555555555557,
          0.6444444444444445
         ],
         "title": {
          "text": "Measurement Index"
         }
        },
        "xaxis3": {
         "anchor": "y3",
         "domain": [
          0.7111111111111111,
          1
         ],
         "title": {
          "text": "Measurement Index"
         }
        },
        "yaxis": {
         "anchor": "x",
         "domain": [
          0,
          1
         ],
         "title": {
          "text": "Error (mm)"
         }
        },
        "yaxis2": {
         "anchor": "x2",
         "domain": [
          0,
          1
         ],
         "matches": "y",
         "showticklabels": false
        },
        "yaxis3": {
         "anchor": "x3",
         "domain": [
          0,
          1
         ],
         "matches": "y",
         "showticklabels": false
        }
       }
      }
     },
     "metadata": {},
     "output_type": "display_data"
    }
   ],
   "source": [
    "# Create plotly subplots for error components bar plots\n",
    "pond_types = df['Pond_Type'].unique()\n",
    "n_pond_types = len(pond_types)\n",
    "\n",
    "\n",
    "# Prepare data for all pond types\n",
    "pond_data = {}\n",
    "for pond_type in pond_types:\n",
    "    df_pond = df[df['Pond_Type'] == pond_type].copy()\n",
    "    df_pond = df_pond.reset_index(drop=True)\n",
    "    df_pond=df_pond.sort_values(by='Label')\n",
    "    \n",
    "    # Calculate error components in mm\n",
    "    mm_per_px_gt = 10 / df_pond['mean_scale']\n",
    "    mm_per_px_pred = 10 / df_pond['pred_scale']\n",
    "\n",
    "\n",
    "    df_pond['pixel_error_mm'] = (df_pond['pred_Distance_pixels'] - df_pond['mean_pixels']) * mm_per_px_pred\n",
    "    df_pond['scale_error_mm'] = df_pond['mean_pixels'] * (mm_per_px_pred - mm_per_px_gt)\n",
    "    df_pond['total_error_mm'] = df_pond['pixel_error_mm'] + df_pond['scale_error_mm']\n",
    "\n",
    "    \n",
    "    # Calculate total error and identify outliers using IQR\n",
    "    df_pond['total_error_mm'] = df_pond['pixel_error_mm'] + df_pond['scale_error_mm']\n",
    "    q1_total = df_pond['total_error_mm'].quantile(0.25)\n",
    "    q3_total = df_pond['total_error_mm'].quantile(0.75)\n",
    "    iqr_total = q3_total - q1_total\n",
    "    outlier_threshold_low_total = q1_total - 1.5 * iqr_total\n",
    "    outlier_threshold_high_total = q3_total + 1.5 * iqr_total\n",
    "    df_pond['is_outlier_total'] = (df_pond['total_error_mm'] < outlier_threshold_low_total) | (df_pond['total_error_mm'] > outlier_threshold_high_total)\n",
    "    \n",
    "    # Calculate MAPE outliers using IQR\n",
    "    q1_mape = df_pond['mape_percent'].quantile(0.25)\n",
    "    q3_mape = df_pond['mape_percent'].quantile(0.75)\n",
    "    iqr_mape = q3_mape - q1_mape\n",
    "    outlier_threshold_low_mape = q1_mape - 1.5 * iqr_mape\n",
    "    outlier_threshold_high_mape = q3_mape + 1.5 * iqr_mape\n",
    "    df_pond['is_outlier_mape'] = (df_pond['mape_percent'] < outlier_threshold_low_mape) | (df_pond['mape_percent'] > outlier_threshold_high_mape)\n",
    "    \n",
    "    pond_data[pond_type] = df_pond\n",
    "\n",
    "# Create plotly subplots for error components bar plots\n",
    "fig_bar = make_subplots(\n",
    "    rows=1, cols=n_pond_types,\n",
    "    subplot_titles=[f'Error Components - {pond_type}' for pond_type in pond_types],\n",
    "    shared_yaxes=True\n",
    ")\n",
    "\n",
    "for i, pond_type in enumerate(pond_types):\n",
    "    df_pond = pond_data[pond_type]\n",
    "    \n",
    "    # Add Pixel Error bars\n",
    "    fig_bar.add_trace(\n",
    "        go.Bar(\n",
    "            name='Pixel Error' if i == 0 else '',  # Only show legend for first subplot\n",
    "            x=df_pond.index,\n",
    "            y=df_pond['pixel_error_mm'],\n",
    "            marker_color=['red' if is_outlier else '#1f77b4' for is_outlier in df_pond['is_outlier_total']],\n",
    "            showlegend=(i == 0),  # Only show legend for first subplot\n",
    "            hovertemplate=\"Image: %{customdata[0]}<br>\" +\n",
    "                         \"Prawn ID: %{customdata[1]}<br>\" +\n",
    "                         \"Pixel Error: %{y:.2f}mm<br>\" +\n",
    "                         \"Total Error: %{customdata[2]:.2f}mm<extra></extra>\",  \n",
    "            customdata=list(zip(df_pond['Label'], df_pond['PrawnID'], df_pond['total_error_mm']))\n",
    "        ),\n",
    "        row=1, col=i+1\n",
    "    )\n",
    "    \n",
    "    # Add Scale Error bars\n",
    "    fig_bar.add_trace(\n",
    "        go.Bar(\n",
    "            name='Scale Error' if i == 0 else '',  # Only show legend for first subplot\n",
    "            x=df_pond.index,\n",
    "            y=df_pond['scale_error_mm'],\n",
    "            marker_color=['red' if is_outlier else '#ff7f0e' for is_outlier in df_pond['is_outlier_total']],\n",
    "            showlegend=(i == 0),  # Only show legend for first subplot\n",
    "            hovertemplate=\"Image: %{customdata[0]}<br>\" +\n",
    "                         \"Prawn ID: %{customdata[1]}<br>\" +\n",
    "                         \"Scale Error: %{y:.2f}mm<br>\" +\n",
    "                         \"Total Error: %{customdata[2]:.2f}mm<extra></extra>\",  \n",
    "            customdata=list(zip(df_pond['Label'], df_pond['PrawnID'], df_pond['total_error_mm']))\n",
    "        ),\n",
    "        row=1, col=i+1\n",
    "    )\n",
    "    \n",
    "    # Highlight MAPE outliers\n",
    "    fig_bar.add_trace(\n",
    "        go.Scatter(\n",
    "            x=df_pond.index[df_pond['is_outlier_mape']],\n",
    "            y=df_pond['total_error_mm'][df_pond['is_outlier_mape']],\n",
    "            mode='markers',\n",
    "            marker=dict(color='purple', size=10, symbol='x'),\n",
    "            name='MAPE Outlier' if i == 0 else '',\n",
    "            showlegend=(i == 0),\n",
    "            hovertemplate=\"Image: %{customdata[0]}<br>\" +\n",
    "                         \"Prawn ID: %{customdata[1]}<br>\" +\n",
    "                         \"Total Error: %{y:.2f}mm<extra></extra>\",\n",
    "            customdata=list(zip(df_pond['Label'], df_pond['PrawnID']))\n",
    "        ),\n",
    "        row=1, col=i+1\n",
    "    )\n",
    "\n",
    "# Update layout\n",
    "fig_bar.update_layout(\n",
    "    title='Error Components Analysis by Pond Type',\n",
    "    barmode='relative',  # Shows stacked bars\n",
    "    height=500,\n",
    "    width=1200,\n",
    "    showlegend=True,\n",
    "    legend=dict(\n",
    "        orientation=\"h\",\n",
    "        yanchor=\"bottom\",\n",
    "        y=1.02,\n",
    "        xanchor=\"right\",\n",
    "        x=1\n",
    "    )\n",
    ")\n",
    "\n",
    "# Update axes\n",
    "for i in range(n_pond_types):\n",
    "    fig_bar.update_xaxes(title_text=\"Measurement Index\", row=1, col=i+1)\n",
    "    if i == 0:  # Only show y-axis title for first subplot\n",
    "        fig_bar.update_yaxes(title_text=\"Error (mm)\", row=1, col=i+1)\n",
    "\n",
    "fig_bar.show()\n"
   ]
  },
  {
   "cell_type": "markdown",
   "metadata": {},
   "source": [
    "# 📐 Scale Error Deep Dive: The Calibration Chronicles\n",
    "\n",
    "## 🔍 Understanding Scale Errors\n",
    "Scale errors occur when our algorithm incorrectly estimates the \"mm per pixel\" ratio. This is crucial because even perfect pixel measurements become wrong if we don't know the true scale!\n",
    "\n",
    "### 🎯 Key Questions We'll Answer:\n",
    "- How much do scale errors vary across different pond types?\n",
    "- Which images are most problematic for scale estimation?\n",
    "- Do multiple prawns in the same image share similar scale errors?\n",
    "\n",
    "---\n",
    "\n",
    "## 🛠️ Scale Error Analysis Functions"
   ]
  },
  {
   "cell_type": "code",
   "execution_count": 219,
   "metadata": {},
   "outputs": [
    {
     "name": "stdout",
     "output_type": "stream",
     "text": [
      "\n",
      "🏊‍♀️ Analyzing scale errors for circle_female pond...\n",
      "   📊 Mean scale error: 5.90%\n",
      "   📈 Std scale error: 4.08%\n",
      "   🖼️ Total images: 31\n",
      "   🦐 Total prawns: 60\n",
      "\n",
      "🏊‍♀️ Analyzing scale errors for circle_male pond...\n",
      "   📊 Mean scale error: 14.55%\n",
      "   📈 Std scale error: 4.56%\n",
      "   🖼️ Total images: 5\n",
      "   🦐 Total prawns: 10\n",
      "\n",
      "🏊‍♀️ Analyzing scale errors for square pond...\n",
      "   📊 Mean scale error: 7.84%\n",
      "   📈 Std scale error: 5.72%\n",
      "   🖼️ Total images: 9\n",
      "   🦐 Total prawns: 10\n"
     ]
    },
    {
     "data": {
      "application/vnd.plotly.v1+json": {
       "config": {
        "plotlyServerURL": "https://plot.ly"
       },
       "data": [
        {
         "customdata": [
          [
           "carapace:undistorted_GX010080_157_2283.jpg_gamma",
           3
          ],
          [
           "carapace:undistorted_GX010097_124_1870.jpg_gamma",
           2
          ],
          [
           "carapace:undistorted_GX010097_105_1651.jpg_gamma",
           4
          ],
          [
           "carapace:undistorted_GX010080_212_2954.jpg_gamma",
           3
          ],
          [
           "carapace:undistorted_GX010082_236_3137.jpg_gamma",
           4
          ],
          [
           "carapace:undistorted_GX010085_261_3610.jpg_gamma",
           2
          ],
          [
           "carapace:undistorted_GX010094_9_129.jpg_gamma",
           2
          ],
          [
           "carapace:undistorted_GX010080_193_2640.jpg_gamma",
           1
          ],
          [
           "carapace:undistorted_GX010090_132_1852.jpg_gamma",
           1
          ],
          [
           "carapace:undistorted_GX010097_32_528.jpg_gamma",
           1
          ],
          [
           "carapace:undistorted_GX010067_33_625.jpg_gamma",
           2
          ],
          [
           "carapace:undistorted_GX010094_24_430.jpg_gamma",
           2
          ],
          [
           "carapace:undistorted_GX010082_65_1070.jpg_gamma",
           2
          ],
          [
           "carapace:undistorted_GX010084_130_1748.jpg_gamma",
           1
          ],
          [
           "carapace:undistorted_GX010069_19_191.jpg_gamma",
           4
          ],
          [
           "carapace:undistorted_GX010094_93_1258.jpg_gamma",
           2
          ],
          [
           "carapace:undistorted_GX010097_60_1080.jpg_gamma",
           2
          ],
          [
           "carapace:undistorted_GX010080_238_3392.jpg_gamma",
           2
          ],
          [
           "carapace:undistorted_GX010096_107_1571.jpg_gamma",
           1
          ],
          [
           "carapace:undistorted_GX010088_209_2904.jpg_gamma",
           1
          ],
          [
           "carapace:undistorted_GX010094_163_2312.jpg_gamma",
           1
          ],
          [
           "carapace:undistorted_GX010069_53_796.jpg_gamma",
           1
          ],
          [
           "carapace:undistorted_GX010082_8_59.jpg_gamma",
           3
          ],
          [
           "carapace:undistorted_GX010101_12_173.jpg_gamma",
           1
          ],
          [
           "carapace:undistorted_GX010073_55_1014.jpg_gamma",
           1
          ],
          [
           "carapace:undistorted_GX010082_53_796.jpg_gamma",
           2
          ],
          [
           "carapace:undistorted_GX010084_30_344.jpg_gamma",
           1
          ],
          [
           "carapace:undistorted_GX010068_27_795.jpg_gamma",
           1
          ],
          [
           "carapace:undistorted_GX010068_26_666.jpg_gamma",
           2
          ],
          [
           "carapace:undistorted_GX010077_14_237.jpg_gamma",
           2
          ],
          [
           "carapace:undistorted_GX010080_237_3366.jpg_gamma",
           3
          ]
         ],
         "hovertemplate": "<b>🖼️ Image Details</b><br>📁 Image Name: %{customdata[0]}<br>📐 Scale Error: %{y:.2f}%<br>🦐 Prawn Count: %{customdata[1]}<br>📊 Image Rank: #%{x}<br><extra></extra>",
         "marker": {
          "color": "#333333"
         },
         "name": "Circle Female",
         "opacity": 0.9,
         "showlegend": true,
         "text": {
          "bdata": "AAAAAAAACEAAAAAAAAAAQAAAAAAAABBAAAAAAAAACEAAAAAAAAAQQAAAAAAAAABAAAAAAAAAAEAAAAAAAADwPwAAAAAAAPA/AAAAAAAA8D8AAAAAAAAAQAAAAAAAAABAAAAAAAAAAEAAAAAAAADwPwAAAAAAABBAAAAAAAAAAEAAAAAAAAAAQAAAAAAAAABAAAAAAAAA8D8AAAAAAADwPwAAAAAAAPA/AAAAAAAA8D8AAAAAAAAIQAAAAAAAAPA/AAAAAAAA8D8AAAAAAAAAQAAAAAAAAPA/AAAAAAAA8D8AAAAAAAAAQAAAAAAAAABAAAAAAAAACEA=",
          "dtype": "f8"
         },
         "textfont": {
          "color": "white",
          "family": "Arial Black",
          "size": 12
         },
         "textposition": "inside",
         "type": "bar",
         "x": {
          "bdata": "AAECAwQFBgcICQoLDA0ODxAREhMUFRYXGBkaGxwdHg==",
          "dtype": "i1"
         },
         "xaxis": "x",
         "y": {
          "bdata": "v0O6vt42NEAmkSpsC+AoQAdSkcUj/iVA3Dqo6ZkTJECHi1LVgt4jQIQJrWmzmCJALOLeziAgIkBkbp3xCZUeQByq/2L7PR5A6ZBsaiiBHEBCl51Pd7cbQE9L7lSmKxpAttZ9iYwVF0BSQM7j2CMWQBcahc9muRVAYStDSKSlE0A0OxyssjITQPjGtj8PMBNA9rzkyN0/EkA6KVVvJA4RQMQ2QUFSCA9AMPaHIZdiDUDrzS//pwkHQAjwo88icgVAueFYEPgwBUBa9u1+frsBQI/QE5va4/8/CbW805Hp/D/cq9/Gj/77P3+CoKnjDfQ/WEVGnZvg2D8=",
          "dtype": "f8"
         },
         "yaxis": "y"
        },
        {
         "customdata": [
          [
           "carapace:undistorted_GX010105_28_816.jpg_gamma",
           2
          ],
          [
           "carapace:undistorted_GX010102_50_1396.jpg_gamma",
           1
          ],
          [
           "carapace:undistorted_GX010102_9_165.jpg_gamma",
           3
          ],
          [
           "carapace:undistorted_GX010089_11_236.jpg_gamma",
           3
          ],
          [
           "carapace:undistorted_GX010091_5_149.jpg_gamma",
           1
          ]
         ],
         "hovertemplate": "<b>🖼️ Image Details</b><br>📁 Image Name: %{customdata[0]}<br>📐 Scale Error: %{y:.2f}%<br>🦐 Prawn Count: %{customdata[1]}<br>📊 Image Rank: #%{x}<br><extra></extra>",
         "marker": {
          "color": "#333333"
         },
         "name": "Circle Male",
         "opacity": 0.9,
         "showlegend": true,
         "text": {
          "bdata": "AAAAAAAAAEAAAAAAAADwPwAAAAAAAAhAAAAAAAAACEAAAAAAAADwPw==",
          "dtype": "f8"
         },
         "textfont": {
          "color": "white",
          "family": "Arial Black",
          "size": 12
         },
         "textposition": "inside",
         "type": "bar",
         "x": {
          "bdata": "AAECAwQ=",
          "dtype": "i1"
         },
         "xaxis": "x2",
         "y": {
          "bdata": "tvxG8Zj9NECdv/wY8hsxQEiD/0hzDitAncmspQYtJ0BqXwJSthEjQA==",
          "dtype": "f8"
         },
         "yaxis": "y2"
        },
        {
         "customdata": [
          [
           "carapace:undistorted_GX010179_88_1697.jpg_gamma",
           1
          ],
          [
           "carapace:undistorted_GX010180_91_1563",
           1
          ],
          [
           "carapace:undistorted_GX010178_107_2118",
           1
          ],
          [
           "carapace:undistorted_GX010183_37_685.jpg_gamma",
           1
          ],
          [
           "carapace:undistorted_GX010162_72_927.jpg_gamma.jpg_gamma",
           1
          ],
          [
           "carapace:undistorted_GX010181_101_1542",
           1
          ],
          [
           "carapace:undistorted_GX010180_99_1788",
           1
          ],
          [
           "carapace:undistorted_GX010183_80_1633.jpg_gamma",
           1
          ],
          [
           "carapace:undistorted_GX010183_128_2852.jpg_gamma",
           2
          ]
         ],
         "hovertemplate": "<b>🖼️ Image Details</b><br>📁 Image Name: %{customdata[0]}<br>📐 Scale Error: %{y:.2f}%<br>🦐 Prawn Count: %{customdata[1]}<br>📊 Image Rank: #%{x}<br><extra></extra>",
         "marker": {
          "color": "#333333"
         },
         "name": "Square",
         "opacity": 0.9,
         "showlegend": true,
         "text": {
          "bdata": "AAAAAAAA8D8AAAAAAADwPwAAAAAAAPA/AAAAAAAA8D8AAAAAAADwPwAAAAAAAPA/AAAAAAAA8D8AAAAAAADwPwAAAAAAAABA",
          "dtype": "f8"
         },
         "textfont": {
          "color": "white",
          "family": "Arial Black",
          "size": 12
         },
         "textposition": "inside",
         "type": "bar",
         "x": {
          "bdata": "AAECAwQFBgcI",
          "dtype": "i1"
         },
         "xaxis": "x3",
         "y": {
          "bdata": "PocM/tvpMUBjiuOvn2wuQH/ChFdvNSZAiahl4zXXHEDqT9QpdsYXQBTsPWtfkBNAUScalxO8DUAgqh+6gRENQAYucaMgDu0/",
          "dtype": "f8"
         },
         "yaxis": "y3"
        }
       ],
       "layout": {
        "annotations": [
         {
          "font": {
           "size": 16
          },
          "showarrow": false,
          "text": "📐 Scale Error by Image - Circle Female",
          "x": 0.5,
          "xanchor": "center",
          "xref": "paper",
          "y": 1,
          "yanchor": "bottom",
          "yref": "paper"
         },
         {
          "font": {
           "size": 16
          },
          "showarrow": false,
          "text": "📐 Scale Error by Image - Circle Male",
          "x": 0.5,
          "xanchor": "center",
          "xref": "paper",
          "y": 0.6399999999999999,
          "yanchor": "bottom",
          "yref": "paper"
         },
         {
          "font": {
           "size": 16
          },
          "showarrow": false,
          "text": "📐 Scale Error by Image - Square",
          "x": 0.5,
          "xanchor": "center",
          "xref": "paper",
          "y": 0.27999999999999997,
          "yanchor": "bottom",
          "yref": "paper"
         },
         {
          "showarrow": false,
          "text": "🚨 High Error Threshold (10%)",
          "x": 1,
          "xanchor": "right",
          "xref": "x domain",
          "y": 10,
          "yanchor": "bottom",
          "yref": "y"
         },
         {
          "showarrow": false,
          "text": "Mean: 5.90%",
          "x": 1,
          "xanchor": "right",
          "xref": "x domain",
          "y": 5.9041180054257,
          "yanchor": "top",
          "yref": "y"
         },
         {
          "showarrow": false,
          "text": "🚨 High Error Threshold (10%)",
          "x": 1,
          "xanchor": "right",
          "xref": "x2 domain",
          "y": 10,
          "yanchor": "bottom",
          "yref": "y2"
         },
         {
          "showarrow": false,
          "text": "Mean: 14.55%",
          "x": 1,
          "xanchor": "right",
          "xref": "x2 domain",
          "y": 14.550107319423565,
          "yanchor": "top",
          "yref": "y2"
         },
         {
          "showarrow": false,
          "text": "🚨 High Error Threshold (10%)",
          "x": 1,
          "xanchor": "right",
          "xref": "x3 domain",
          "y": 10,
          "yanchor": "bottom",
          "yref": "y3"
         },
         {
          "showarrow": false,
          "text": "Mean: 7.84%",
          "x": 1,
          "xanchor": "right",
          "xref": "x3 domain",
          "y": 7.837039623860057,
          "yanchor": "top",
          "yref": "y3"
         },
         {
          "font": {
           "color": "gray",
           "size": 14
          },
          "showarrow": false,
          "text": "💡 Hover bars for image name & details",
          "x": 0.5,
          "xanchor": "center",
          "xref": "paper",
          "y": -0.05,
          "yref": "paper"
         }
        ],
        "bargap": 0.25,
        "height": 1350,
        "hovermode": "closest",
        "legend": {
         "orientation": "h",
         "x": 0.5,
         "xanchor": "center",
         "y": 1.02,
         "yanchor": "bottom"
        },
        "shapes": [
         {
          "line": {
           "color": "red",
           "dash": "dash"
          },
          "opacity": 0.7,
          "type": "line",
          "x0": 0,
          "x1": 1,
          "xref": "x domain",
          "y0": 10,
          "y1": 10,
          "yref": "y"
         },
         {
          "line": {
           "dash": "dot"
          },
          "opacity": 0.5,
          "type": "line",
          "x0": 0,
          "x1": 1,
          "xref": "x domain",
          "y0": 5.9041180054257,
          "y1": 5.9041180054257,
          "yref": "y"
         },
         {
          "line": {
           "color": "red",
           "dash": "dash"
          },
          "opacity": 0.7,
          "type": "line",
          "x0": 0,
          "x1": 1,
          "xref": "x2 domain",
          "y0": 10,
          "y1": 10,
          "yref": "y2"
         },
         {
          "line": {
           "dash": "dot"
          },
          "opacity": 0.5,
          "type": "line",
          "x0": 0,
          "x1": 1,
          "xref": "x2 domain",
          "y0": 14.550107319423565,
          "y1": 14.550107319423565,
          "yref": "y2"
         },
         {
          "line": {
           "color": "red",
           "dash": "dash"
          },
          "opacity": 0.7,
          "type": "line",
          "x0": 0,
          "x1": 1,
          "xref": "x3 domain",
          "y0": 10,
          "y1": 10,
          "yref": "y3"
         },
         {
          "line": {
           "dash": "dot"
          },
          "opacity": 0.5,
          "type": "line",
          "x0": 0,
          "x1": 1,
          "xref": "x3 domain",
          "y0": 7.837039623860057,
          "y1": 7.837039623860057,
          "yref": "y3"
         }
        ],
        "showlegend": true,
        "template": {
         "data": {
          "bar": [
           {
            "error_x": {
             "color": "#2a3f5f"
            },
            "error_y": {
             "color": "#2a3f5f"
            },
            "marker": {
             "line": {
              "color": "#E5ECF6",
              "width": 0.5
             },
             "pattern": {
              "fillmode": "overlay",
              "size": 10,
              "solidity": 0.2
             }
            },
            "type": "bar"
           }
          ],
          "barpolar": [
           {
            "marker": {
             "line": {
              "color": "#E5ECF6",
              "width": 0.5
             },
             "pattern": {
              "fillmode": "overlay",
              "size": 10,
              "solidity": 0.2
             }
            },
            "type": "barpolar"
           }
          ],
          "carpet": [
           {
            "aaxis": {
             "endlinecolor": "#2a3f5f",
             "gridcolor": "white",
             "linecolor": "white",
             "minorgridcolor": "white",
             "startlinecolor": "#2a3f5f"
            },
            "baxis": {
             "endlinecolor": "#2a3f5f",
             "gridcolor": "white",
             "linecolor": "white",
             "minorgridcolor": "white",
             "startlinecolor": "#2a3f5f"
            },
            "type": "carpet"
           }
          ],
          "choropleth": [
           {
            "colorbar": {
             "outlinewidth": 0,
             "ticks": ""
            },
            "type": "choropleth"
           }
          ],
          "contour": [
           {
            "colorbar": {
             "outlinewidth": 0,
             "ticks": ""
            },
            "colorscale": [
             [
              0,
              "#0d0887"
             ],
             [
              0.1111111111111111,
              "#46039f"
             ],
             [
              0.2222222222222222,
              "#7201a8"
             ],
             [
              0.3333333333333333,
              "#9c179e"
             ],
             [
              0.4444444444444444,
              "#bd3786"
             ],
             [
              0.5555555555555556,
              "#d8576b"
             ],
             [
              0.6666666666666666,
              "#ed7953"
             ],
             [
              0.7777777777777778,
              "#fb9f3a"
             ],
             [
              0.8888888888888888,
              "#fdca26"
             ],
             [
              1,
              "#f0f921"
             ]
            ],
            "type": "contour"
           }
          ],
          "contourcarpet": [
           {
            "colorbar": {
             "outlinewidth": 0,
             "ticks": ""
            },
            "type": "contourcarpet"
           }
          ],
          "heatmap": [
           {
            "colorbar": {
             "outlinewidth": 0,
             "ticks": ""
            },
            "colorscale": [
             [
              0,
              "#0d0887"
             ],
             [
              0.1111111111111111,
              "#46039f"
             ],
             [
              0.2222222222222222,
              "#7201a8"
             ],
             [
              0.3333333333333333,
              "#9c179e"
             ],
             [
              0.4444444444444444,
              "#bd3786"
             ],
             [
              0.5555555555555556,
              "#d8576b"
             ],
             [
              0.6666666666666666,
              "#ed7953"
             ],
             [
              0.7777777777777778,
              "#fb9f3a"
             ],
             [
              0.8888888888888888,
              "#fdca26"
             ],
             [
              1,
              "#f0f921"
             ]
            ],
            "type": "heatmap"
           }
          ],
          "histogram": [
           {
            "marker": {
             "pattern": {
              "fillmode": "overlay",
              "size": 10,
              "solidity": 0.2
             }
            },
            "type": "histogram"
           }
          ],
          "histogram2d": [
           {
            "colorbar": {
             "outlinewidth": 0,
             "ticks": ""
            },
            "colorscale": [
             [
              0,
              "#0d0887"
             ],
             [
              0.1111111111111111,
              "#46039f"
             ],
             [
              0.2222222222222222,
              "#7201a8"
             ],
             [
              0.3333333333333333,
              "#9c179e"
             ],
             [
              0.4444444444444444,
              "#bd3786"
             ],
             [
              0.5555555555555556,
              "#d8576b"
             ],
             [
              0.6666666666666666,
              "#ed7953"
             ],
             [
              0.7777777777777778,
              "#fb9f3a"
             ],
             [
              0.8888888888888888,
              "#fdca26"
             ],
             [
              1,
              "#f0f921"
             ]
            ],
            "type": "histogram2d"
           }
          ],
          "histogram2dcontour": [
           {
            "colorbar": {
             "outlinewidth": 0,
             "ticks": ""
            },
            "colorscale": [
             [
              0,
              "#0d0887"
             ],
             [
              0.1111111111111111,
              "#46039f"
             ],
             [
              0.2222222222222222,
              "#7201a8"
             ],
             [
              0.3333333333333333,
              "#9c179e"
             ],
             [
              0.4444444444444444,
              "#bd3786"
             ],
             [
              0.5555555555555556,
              "#d8576b"
             ],
             [
              0.6666666666666666,
              "#ed7953"
             ],
             [
              0.7777777777777778,
              "#fb9f3a"
             ],
             [
              0.8888888888888888,
              "#fdca26"
             ],
             [
              1,
              "#f0f921"
             ]
            ],
            "type": "histogram2dcontour"
           }
          ],
          "mesh3d": [
           {
            "colorbar": {
             "outlinewidth": 0,
             "ticks": ""
            },
            "type": "mesh3d"
           }
          ],
          "parcoords": [
           {
            "line": {
             "colorbar": {
              "outlinewidth": 0,
              "ticks": ""
             }
            },
            "type": "parcoords"
           }
          ],
          "pie": [
           {
            "automargin": true,
            "type": "pie"
           }
          ],
          "scatter": [
           {
            "fillpattern": {
             "fillmode": "overlay",
             "size": 10,
             "solidity": 0.2
            },
            "type": "scatter"
           }
          ],
          "scatter3d": [
           {
            "line": {
             "colorbar": {
              "outlinewidth": 0,
              "ticks": ""
             }
            },
            "marker": {
             "colorbar": {
              "outlinewidth": 0,
              "ticks": ""
             }
            },
            "type": "scatter3d"
           }
          ],
          "scattercarpet": [
           {
            "marker": {
             "colorbar": {
              "outlinewidth": 0,
              "ticks": ""
             }
            },
            "type": "scattercarpet"
           }
          ],
          "scattergeo": [
           {
            "marker": {
             "colorbar": {
              "outlinewidth": 0,
              "ticks": ""
             }
            },
            "type": "scattergeo"
           }
          ],
          "scattergl": [
           {
            "marker": {
             "colorbar": {
              "outlinewidth": 0,
              "ticks": ""
             }
            },
            "type": "scattergl"
           }
          ],
          "scattermap": [
           {
            "marker": {
             "colorbar": {
              "outlinewidth": 0,
              "ticks": ""
             }
            },
            "type": "scattermap"
           }
          ],
          "scattermapbox": [
           {
            "marker": {
             "colorbar": {
              "outlinewidth": 0,
              "ticks": ""
             }
            },
            "type": "scattermapbox"
           }
          ],
          "scatterpolar": [
           {
            "marker": {
             "colorbar": {
              "outlinewidth": 0,
              "ticks": ""
             }
            },
            "type": "scatterpolar"
           }
          ],
          "scatterpolargl": [
           {
            "marker": {
             "colorbar": {
              "outlinewidth": 0,
              "ticks": ""
             }
            },
            "type": "scatterpolargl"
           }
          ],
          "scatterternary": [
           {
            "marker": {
             "colorbar": {
              "outlinewidth": 0,
              "ticks": ""
             }
            },
            "type": "scatterternary"
           }
          ],
          "surface": [
           {
            "colorbar": {
             "outlinewidth": 0,
             "ticks": ""
            },
            "colorscale": [
             [
              0,
              "#0d0887"
             ],
             [
              0.1111111111111111,
              "#46039f"
             ],
             [
              0.2222222222222222,
              "#7201a8"
             ],
             [
              0.3333333333333333,
              "#9c179e"
             ],
             [
              0.4444444444444444,
              "#bd3786"
             ],
             [
              0.5555555555555556,
              "#d8576b"
             ],
             [
              0.6666666666666666,
              "#ed7953"
             ],
             [
              0.7777777777777778,
              "#fb9f3a"
             ],
             [
              0.8888888888888888,
              "#fdca26"
             ],
             [
              1,
              "#f0f921"
             ]
            ],
            "type": "surface"
           }
          ],
          "table": [
           {
            "cells": {
             "fill": {
              "color": "#EBF0F8"
             },
             "line": {
              "color": "white"
             }
            },
            "header": {
             "fill": {
              "color": "#C8D4E3"
             },
             "line": {
              "color": "white"
             }
            },
            "type": "table"
           }
          ]
         },
         "layout": {
          "annotationdefaults": {
           "arrowcolor": "#2a3f5f",
           "arrowhead": 0,
           "arrowwidth": 1
          },
          "autotypenumbers": "strict",
          "coloraxis": {
           "colorbar": {
            "outlinewidth": 0,
            "ticks": ""
           }
          },
          "colorscale": {
           "diverging": [
            [
             0,
             "#8e0152"
            ],
            [
             0.1,
             "#c51b7d"
            ],
            [
             0.2,
             "#de77ae"
            ],
            [
             0.3,
             "#f1b6da"
            ],
            [
             0.4,
             "#fde0ef"
            ],
            [
             0.5,
             "#f7f7f7"
            ],
            [
             0.6,
             "#e6f5d0"
            ],
            [
             0.7,
             "#b8e186"
            ],
            [
             0.8,
             "#7fbc41"
            ],
            [
             0.9,
             "#4d9221"
            ],
            [
             1,
             "#276419"
            ]
           ],
           "sequential": [
            [
             0,
             "#0d0887"
            ],
            [
             0.1111111111111111,
             "#46039f"
            ],
            [
             0.2222222222222222,
             "#7201a8"
            ],
            [
             0.3333333333333333,
             "#9c179e"
            ],
            [
             0.4444444444444444,
             "#bd3786"
            ],
            [
             0.5555555555555556,
             "#d8576b"
            ],
            [
             0.6666666666666666,
             "#ed7953"
            ],
            [
             0.7777777777777778,
             "#fb9f3a"
            ],
            [
             0.8888888888888888,
             "#fdca26"
            ],
            [
             1,
             "#f0f921"
            ]
           ],
           "sequentialminus": [
            [
             0,
             "#0d0887"
            ],
            [
             0.1111111111111111,
             "#46039f"
            ],
            [
             0.2222222222222222,
             "#7201a8"
            ],
            [
             0.3333333333333333,
             "#9c179e"
            ],
            [
             0.4444444444444444,
             "#bd3786"
            ],
            [
             0.5555555555555556,
             "#d8576b"
            ],
            [
             0.6666666666666666,
             "#ed7953"
            ],
            [
             0.7777777777777778,
             "#fb9f3a"
            ],
            [
             0.8888888888888888,
             "#fdca26"
            ],
            [
             1,
             "#f0f921"
            ]
           ]
          },
          "colorway": [
           "#636efa",
           "#EF553B",
           "#00cc96",
           "#ab63fa",
           "#FFA15A",
           "#19d3f3",
           "#FF6692",
           "#B6E880",
           "#FF97FF",
           "#FECB52"
          ],
          "font": {
           "color": "#2a3f5f"
          },
          "geo": {
           "bgcolor": "white",
           "lakecolor": "white",
           "landcolor": "#E5ECF6",
           "showlakes": true,
           "showland": true,
           "subunitcolor": "white"
          },
          "hoverlabel": {
           "align": "left"
          },
          "hovermode": "closest",
          "mapbox": {
           "style": "light"
          },
          "paper_bgcolor": "white",
          "plot_bgcolor": "#E5ECF6",
          "polar": {
           "angularaxis": {
            "gridcolor": "white",
            "linecolor": "white",
            "ticks": ""
           },
           "bgcolor": "#E5ECF6",
           "radialaxis": {
            "gridcolor": "white",
            "linecolor": "white",
            "ticks": ""
           }
          },
          "scene": {
           "xaxis": {
            "backgroundcolor": "#E5ECF6",
            "gridcolor": "white",
            "gridwidth": 2,
            "linecolor": "white",
            "showbackground": true,
            "ticks": "",
            "zerolinecolor": "white"
           },
           "yaxis": {
            "backgroundcolor": "#E5ECF6",
            "gridcolor": "white",
            "gridwidth": 2,
            "linecolor": "white",
            "showbackground": true,
            "ticks": "",
            "zerolinecolor": "white"
           },
           "zaxis": {
            "backgroundcolor": "#E5ECF6",
            "gridcolor": "white",
            "gridwidth": 2,
            "linecolor": "white",
            "showbackground": true,
            "ticks": "",
            "zerolinecolor": "white"
           }
          },
          "shapedefaults": {
           "line": {
            "color": "#2a3f5f"
           }
          },
          "ternary": {
           "aaxis": {
            "gridcolor": "white",
            "linecolor": "white",
            "ticks": ""
           },
           "baxis": {
            "gridcolor": "white",
            "linecolor": "white",
            "ticks": ""
           },
           "bgcolor": "#E5ECF6",
           "caxis": {
            "gridcolor": "white",
            "linecolor": "white",
            "ticks": ""
           }
          },
          "title": {
           "x": 0.05
          },
          "xaxis": {
           "automargin": true,
           "gridcolor": "white",
           "linecolor": "white",
           "ticks": "",
           "title": {
            "standoff": 15
           },
           "zerolinecolor": "white",
           "zerolinewidth": 2
          },
          "yaxis": {
           "automargin": true,
           "gridcolor": "white",
           "linecolor": "white",
           "ticks": "",
           "title": {
            "standoff": 15
           },
           "zerolinecolor": "white",
           "zerolinewidth": 2
          }
         }
        },
        "title": {
         "font": {
          "size": 20
         },
         "text": "🎪 Scale Error Analysis Dashboard: Interactive Image Explorer"
        },
        "width": 1200,
        "xaxis": {
         "anchor": "y",
         "domain": [
          0,
          1
         ],
         "gridcolor": "lightgray",
         "gridwidth": 1,
         "showgrid": true,
         "title": {
          "text": "Image Rank (worst → best)"
         }
        },
        "xaxis2": {
         "anchor": "y2",
         "domain": [
          0,
          1
         ],
         "gridcolor": "lightgray",
         "gridwidth": 1,
         "showgrid": true,
         "title": {
          "text": "Image Rank (worst → best)"
         }
        },
        "xaxis3": {
         "anchor": "y3",
         "domain": [
          0,
          1
         ],
         "gridcolor": "lightgray",
         "gridwidth": 1,
         "showgrid": true,
         "title": {
          "text": "Image Rank (worst → best)"
         }
        },
        "yaxis": {
         "anchor": "x",
         "domain": [
          0.72,
          1
         ],
         "gridcolor": "lightgray",
         "gridwidth": 1,
         "rangemode": "tozero",
         "showgrid": true,
         "title": {
          "text": "Scale Error (%)"
         }
        },
        "yaxis2": {
         "anchor": "x2",
         "domain": [
          0.36,
          0.6399999999999999
         ],
         "gridcolor": "lightgray",
         "gridwidth": 1,
         "rangemode": "tozero",
         "showgrid": true,
         "title": {
          "text": "Scale Error (%)"
         }
        },
        "yaxis3": {
         "anchor": "x3",
         "domain": [
          0,
          0.27999999999999997
         ],
         "gridcolor": "lightgray",
         "gridwidth": 1,
         "rangemode": "tozero",
         "showgrid": true,
         "title": {
          "text": "Scale Error (%)"
         }
        }
       }
      }
     },
     "metadata": {},
     "output_type": "display_data"
    }
   ],
   "source": [
    "import numpy as np\n",
    "import pandas as pd\n",
    "import plotly.graph_objects as go\n",
    "from plotly.subplots import make_subplots\n",
    "\n",
    "POND_COLORS = {\n",
    "    # fill your palette here\n",
    "    # 'circular_small_male': '#3b82f6',\n",
    "}\n",
    "DEFAULT_COLOR = '#333333'\n",
    "EPS = 1e-12\n",
    "\n",
    "def _pct_err(gt, pred):\n",
    "    # MAPE-style with epsilon guard\n",
    "    # return 100.0 * np.abs(gt - pred) / np.clip(np.abs(gt), EPS, None)\n",
    "\n",
    "# If you prefer SMAPE instead:\n",
    "# def _pct_err(gt, pred):\n",
    "    return 200.0 * np.abs(gt - pred) / np.clip(np.abs(gt) + np.abs(pred), EPS, None)\n",
    "\n",
    "def create_scale_results_dictionary(df: pd.DataFrame):\n",
    "    pond_types = df['Pond_Type'].dropna().unique()\n",
    "    scale_results = {}\n",
    "\n",
    "    for pond_type in pond_types:\n",
    "        print(f\"\\n🏊‍♀️ Analyzing scale errors for {pond_type} pond...\")\n",
    "\n",
    "        df_pond = df.loc[df['Pond_Type'] == pond_type].copy()\n",
    "\n",
    "        # Guard against missing columns early\n",
    "        needed = {'Label','mean_scale','pred_scale','PrawnID'}\n",
    "        missing = needed - set(df_pond.columns)\n",
    "        if missing:\n",
    "            raise KeyError(f\"Missing columns for {pond_type}: {missing}\")\n",
    "\n",
    "        # Compute % error safely\n",
    "        df_pond['scale_error_percent'] = _pct_err(df_pond['mean_scale'], df_pond['pred_scale'])\n",
    "\n",
    "        # Drop rows with NaNs in essentials\n",
    "        df_pond = df_pond.dropna(subset=['Label','scale_error_percent'])\n",
    "\n",
    "        # Aggregate per image\n",
    "        df_img = (\n",
    "            df_pond.groupby('Label', as_index=False)\n",
    "                   .agg(scale_error_percent=('scale_error_percent','mean'),\n",
    "                        prawn_count=('PrawnID','count'))\n",
    "        )\n",
    "\n",
    "        # Sort worst→best\n",
    "        df_img = df_img.sort_values('scale_error_percent', ascending=False).reset_index(drop=True)\n",
    "\n",
    "        scale_results[pond_type] = {\n",
    "            'image_data': df_img,\n",
    "            'mean_scale_error': float(df_img['scale_error_percent'].mean()) if len(df_img) else np.nan,\n",
    "            'std_scale_error': float(df_img['scale_error_percent'].std(ddof=1)) if len(df_img) > 1 else np.nan,\n",
    "            'total_images': int(len(df_img)),\n",
    "            'total_prawns': int(df_img['prawn_count'].sum()) if len(df_img) else 0\n",
    "        }\n",
    "\n",
    "        m = scale_results[pond_type]['mean_scale_error']\n",
    "        s = scale_results[pond_type]['std_scale_error']\n",
    "        print(f\"   📊 Mean scale error: {m:.2f}%\")\n",
    "        print(f\"   📈 Std scale error: {0 if np.isnan(s) else s:.2f}%\")\n",
    "        print(f\"   🖼️ Total images: {scale_results[pond_type]['total_images']}\")\n",
    "        print(f\"   🦐 Total prawns: {scale_results[pond_type]['total_prawns']}\")\n",
    "\n",
    "    return scale_results\n",
    "\n",
    "\n",
    "def create_scale_error_visualization_plotly(scale_results: Dict[str, Dict]) -> None:\n",
    "    pond_types = list(scale_results.keys())\n",
    "    n_ponds = len(pond_types)\n",
    "\n",
    "    fig = make_subplots(\n",
    "        rows=n_ponds, cols=1,\n",
    "        subplot_titles=[f'📐 Scale Error by Image - {pt.replace(\"_\", \" \").title()}' for pt in pond_types],\n",
    "        vertical_spacing=0.08,\n",
    "        shared_xaxes=False\n",
    "    )\n",
    "\n",
    "    for i, pond_type in enumerate(pond_types, 1):\n",
    "        df_img = scale_results[pond_type]['image_data']\n",
    "        color = POND_COLORS.get(pond_type, DEFAULT_COLOR)\n",
    "\n",
    "        fig.add_trace(\n",
    "            go.Bar(\n",
    "                x=np.arange(len(df_img)),  # rank 0..N-1\n",
    "                y=df_img['scale_error_percent'],\n",
    "                name=pond_type.replace(\"_\", \" \").title(),\n",
    "                marker_color=color,\n",
    "                opacity=0.9,\n",
    "                showlegend=True,\n",
    "                text=df_img['prawn_count'],\n",
    "                textposition='inside',\n",
    "                textfont=dict(color='white', size=12, family=\"Arial Black\"),\n",
    "                customdata=np.stack([df_img['Label'].to_numpy(),\n",
    "                                     df_img['prawn_count'].to_numpy()], axis=1),\n",
    "                hovertemplate=\"<b>🖼️ Image Details</b><br>\" +\n",
    "                              \"📁 Image Name: %{customdata[0]}<br>\" +\n",
    "                              \"📐 Scale Error: %{y:.2f}%<br>\" +\n",
    "                              \"🦐 Prawn Count: %{customdata[1]}<br>\" +\n",
    "                              \"📊 Image Rank: #%{x}<br>\" +\n",
    "                              \"<extra></extra>\",\n",
    "            ),\n",
    "            row=i, col=1\n",
    "        )\n",
    "\n",
    "        # 10% threshold\n",
    "        fig.add_hline(\n",
    "            y=10,\n",
    "            line_dash=\"dash\",\n",
    "            line_color=\"red\",\n",
    "            opacity=0.7,\n",
    "            annotation_text=\"🚨 High Error Threshold (10%)\",\n",
    "            annotation_position=\"top right\",\n",
    "            row=i, col=1\n",
    "        )\n",
    "\n",
    "        # Optional: pond mean line (comment out if you prefer clean look)\n",
    "        pond_mean = scale_results[pond_type]['mean_scale_error']\n",
    "        if not np.isnan(pond_mean):\n",
    "            fig.add_hline(\n",
    "                y=pond_mean,\n",
    "                line_dash=\"dot\",\n",
    "                opacity=0.5,\n",
    "                annotation_text=f\"Mean: {pond_mean:.2f}%\",\n",
    "                annotation_position=\"bottom right\",\n",
    "                row=i, col=1\n",
    "            )\n",
    "\n",
    "    fig.update_layout(\n",
    "        title_text=\"🎪 Scale Error Analysis Dashboard: Interactive Image Explorer\",\n",
    "        title_font_size=20,\n",
    "        height=max(400, 450*n_ponds),\n",
    "        width=1200,\n",
    "        showlegend=True,\n",
    "        legend=dict(orientation=\"h\", yanchor=\"bottom\", y=1.02, xanchor=\"center\", x=0.5),\n",
    "        hovermode='closest',\n",
    "        bargap=0.25\n",
    "    )\n",
    "\n",
    "    for i in range(1, n_ponds + 1):\n",
    "        fig.update_xaxes(title_text=\"Image Rank (worst → best)\", row=i, col=1, showgrid=True, gridwidth=1, gridcolor='lightgray')\n",
    "        fig.update_yaxes(title_text=\"Scale Error (%)\", row=i, col=1, showgrid=True, gridwidth=1, gridcolor='lightgray', rangemode='tozero')\n",
    "\n",
    "    fig.add_annotation(\n",
    "        text=\"💡 Hover bars for image name & details\",\n",
    "        xref=\"paper\", yref=\"paper\", x=0.5, y=-0.05,\n",
    "        showarrow=False, font=dict(size=14, color=\"gray\"), xanchor=\"center\"\n",
    "    )\n",
    "    fig.show()\n",
    "\n",
    "create_scale_error_visualization_plotly(scale_results=create_scale_results_dictionary(df))\n",
    "\n",
    "\n",
    "\n"
   ]
  },
  {
   "cell_type": "markdown",
   "metadata": {},
   "source": [
    "# 🔍 Error Decomposition Analysis: The Art of Measurement Precision\n",
    "\n",
    "## 🧮 The Mathematics of Error\n",
    "In the world of computer vision and biometric measurement, errors don't exist in isolation. They interact, compete, and sometimes even cancel each other out! Let's explore this fascinating phenomenon.\n",
    "\n",
    "### 🎭 The Two Main Characters:\n",
    "- **Pixel Error**: How far off our pixel-level measurements are from the ground truth\n",
    "- **Scale Error**: How incorrect our scale estimation is (mm per pixel)\n",
    "\n",
    "### 🎪 The Plot Twist: Error Cancellation\n",
    "Sometimes, when pixel error and scale error have opposite signs, they partially cancel each other out, leading to surprisingly accurate final measurements despite individual component errors!"
   ]
  },
  {
   "cell_type": "markdown",
   "metadata": {},
   "source": [
    "# 📊 Statistical Deep Dive: Robust Error Metrics\n",
    "\n",
    "## 🎯 Why Use Robust Statistics?\n",
    "Traditional means can be misleading when dealing with outliers. Let's use robust statistical measures to get a clearer picture of our error distributions.\n",
    "\n",
    "### 📈 Our Statistical Arsenal:\n",
    "- **Median**: The middle value, less affected by outliers\n",
    "- **MAD (Median Absolute Deviation)**: A robust measure of spread\n",
    "- **Histograms**: Visual exploration of error distributions\n",
    "\n",
    "---\n",
    "\n",
    "## 🔬 Comprehensive Statistical Analysis"
   ]
  },
  {
   "cell_type": "code",
   "execution_count": 220,
   "metadata": {},
   "outputs": [
    {
     "name": "stdout",
     "output_type": "stream",
     "text": [
      "📊 Starting comprehensive statistical analysis...\n",
      "\n",
      "📊 Circle Female Summary Statistics:\n",
      "  Scale error per measurement: 6.65%\n",
      "\n",
      "Scale Error Statistics:\n",
      "  Median: 4.91%\n",
      "  MAD: 2.26%\n",
      "  Mean: 5.90%\n",
      "  Std Dev: 4.08%\n",
      "\n",
      "Pixel Error Statistics:\n",
      "  Median: 10.18%\n",
      "  MAD: 5.03%\n",
      "  Mean: 10.83%\n",
      "  Std Dev: 7.04%\n",
      "\n",
      "Annotation Error Statistics:\n",
      "  Median: 10.86%\n",
      "  MAD: 5.65%\n",
      "  Mean: 14.36%\n",
      "  Std Dev: 12.85%\n",
      "\n",
      "📊 Circle Male Summary Statistics:\n",
      "  Scale error per measurement: 14.40%\n",
      "\n",
      "Scale Error Statistics:\n",
      "  Median: 13.53%\n",
      "  MAD: 3.58%\n",
      "  Mean: 14.55%\n",
      "  Std Dev: 4.56%\n",
      "\n",
      "Pixel Error Statistics:\n",
      "  Median: 21.70%\n",
      "  MAD: 3.87%\n",
      "  Mean: 20.54%\n",
      "  Std Dev: 6.81%\n",
      "\n",
      "Annotation Error Statistics:\n",
      "  Median: 15.93%\n",
      "  MAD: 11.65%\n",
      "  Mean: 16.35%\n",
      "  Std Dev: 14.17%\n",
      "\n",
      "📊 Square Summary Statistics:\n",
      "  Scale error per measurement: 7.14%\n",
      "\n",
      "Scale Error Statistics:\n",
      "  Median: 5.94%\n",
      "  MAD: 2.31%\n",
      "  Mean: 7.84%\n",
      "  Std Dev: 5.72%\n",
      "\n",
      "Pixel Error Statistics:\n",
      "  Median: 13.08%\n",
      "  MAD: 4.87%\n",
      "  Mean: 13.05%\n",
      "  Std Dev: 6.20%\n",
      "\n",
      "Annotation Error Statistics:\n",
      "  Median: 13.85%\n",
      "  MAD: 3.66%\n",
      "  Mean: 14.20%\n",
      "  Std Dev: 6.14%\n"
     ]
    }
   ],
   "source": [
    "from pathlib import Path\n",
    "import numpy as np\n",
    "import pandas as pd\n",
    "from scipy.stats import median_abs_deviation\n",
    "\n",
    "EPS = 1e-12  # to prevent division by zero\n",
    "\n",
    "\n",
    "def mape(gt, pred):\n",
    "    \"\"\"Mean Absolute Percentage Error (%)\"\"\"\n",
    "    return 100.0 * np.abs(pred - gt) / np.clip(np.abs(gt), EPS, None)\n",
    "\n",
    "\n",
    "def smape(gt, pred):\n",
    "    \"\"\"Symmetric Mean Absolute Percentage Error (%)\"\"\"\n",
    "    return 200.0 * np.abs(pred - gt) / np.clip(np.abs(pred) + np.abs(gt), EPS, None)\n",
    "\n",
    "\n",
    "def pct_error(gt, pred, metric=\"MAPE\"):\n",
    "    metric = metric.upper()\n",
    "    if metric == \"MAPE\":\n",
    "        return mape(gt, pred)\n",
    "    elif metric == \"SMAPE\":\n",
    "        return smape(gt, pred)\n",
    "    else:\n",
    "        raise ValueError(\"metric must be 'MAPE' or 'SMAPE'\")\n",
    "\n",
    "\n",
    "def analyze_statistical_distributions(df: pd.DataFrame, error_metric=\"MAPE\"):\n",
    "    \"\"\"\n",
    "    📊 Perform comprehensive statistical analysis of error distributions.\n",
    "    Supports both MAPE and SMAPE via `error_metric` parameter.\n",
    "    \n",
    "    Args:\n",
    "        df: DataFrame containing measurement data\n",
    "        error_metric: 'MAPE' or 'SMAPE'\n",
    "        \n",
    "    Returns:\n",
    "        statistical_results: Dictionary containing statistical results for each pond type\n",
    "        output_dir: Path where images/plots could be saved\n",
    "    \"\"\"\n",
    "    output_dir = Path(\"/Users/gilbenor/Library/CloudStorage/OneDrive-Personal/phd/\"\n",
    "                     \"paper/images/final images/carapace\")\n",
    "    output_dir.mkdir(parents=True, exist_ok=True)\n",
    "    \n",
    "    statistical_results = {}\n",
    "    \n",
    "    for pond_type in df['Pond_Type'].unique():\n",
    "        df_pond = df[df['Pond_Type'] == pond_type]\n",
    "        \n",
    "        # 📐 Scale Error Analysis (per image)\n",
    "        mean_scale_per_image = df_pond.groupby('Label')['mean_scale'].mean()\n",
    "        pred_scale_per_image = df_pond.groupby('Label')['pred_scale'].mean()\n",
    "        scale_error_percent = pct_error(mean_scale_per_image, pred_scale_per_image, metric=error_metric)\n",
    "        \n",
    "\n",
    "\n",
    "\n",
    "        scale_error_percent_per_measurement = pct_error(df_pond['mean_scale'], df_pond['pred_scale'], metric=error_metric)\n",
    "\n",
    "        # 🔍 Pixel Error Analysis (per measurement)\n",
    "        pixel_error_percent = pct_error(df_pond['mean_pixels'], df_pond['pred_Distance_pixels'], metric=error_metric)\n",
    "        \n",
    "        # 📝 Annotation Error Analysis (per measurement)\n",
    "        annotation_error_percent = pct_error(df_pond['Length_ground_truth_annotation_pixels'],\n",
    "                                             df_pond['pred_Distance_pixels'], metric=error_metric)\n",
    "        \n",
    "        # Store results\n",
    "        statistical_results[pond_type] = {\n",
    "            'scale_error': {\n",
    "                'scale_error_percent_per_measurement': np.mean(scale_error_percent_per_measurement),\n",
    "                'median': np.median(scale_error_percent),\n",
    "                'mad': median_abs_deviation(scale_error_percent),\n",
    "                'mean': np.mean(scale_error_percent),\n",
    "                'std': np.std(scale_error_percent, ddof=1),\n",
    "                'data': scale_error_percent\n",
    "            },\n",
    "            'pixel_error': {\n",
    "                'median': np.median(pixel_error_percent),\n",
    "                'mad': median_abs_deviation(pixel_error_percent),\n",
    "                'mean': np.mean(pixel_error_percent),\n",
    "                'std': np.std(pixel_error_percent, ddof=1),\n",
    "                'data': pixel_error_percent\n",
    "            },\n",
    "            'annotation_error': {\n",
    "                'median': np.median(annotation_error_percent),\n",
    "                'mad': median_abs_deviation(annotation_error_percent),\n",
    "                'mean': np.mean(annotation_error_percent),\n",
    "                'std': np.std(annotation_error_percent, ddof=1),\n",
    "                'data': annotation_error_percent\n",
    "            }\n",
    "        }\n",
    "    \n",
    "    return statistical_results, output_dir\n",
    "\n",
    "def print_statistical_summary(statistical_results):\n",
    "    \"\"\"\n",
    "    📊 Print summary statistics for each pond type.\n",
    "    \"\"\"\n",
    "    for pond_type, results in statistical_results.items():\n",
    "        print(f\"\\n📊 {pond_type.replace('_', ' ').title()} Summary Statistics:\")\n",
    "        print(f\"  Scale error per measurement: {results['scale_error']['scale_error_percent_per_measurement']:.2f}%\")\n",
    "\n",
    "        for error_type, stats in results.items():\n",
    "            print(f\"\\n{error_type.replace('_', ' ').title()} Statistics:\")\n",
    "            print(f\"  Median: {stats['median']:.2f}%\")\n",
    "            print(f\"  MAD: {stats['mad']:.2f}%\")\n",
    "            print(f\"  Mean: {stats['mean']:.2f}%\")\n",
    "            print(f\"  Std Dev: {stats['std']:.2f}%\")\n",
    "\n",
    "\n",
    "# 🚀 Run statistical analysis\n",
    "print(\"📊 Starting comprehensive statistical analysis...\")\n",
    "statistical_results, output_dir = analyze_statistical_distributions(df, error_metric=\"SMAPE\")\n",
    "print_statistical_summary(statistical_results)\n",
    "\n",
    "\n",
    "\n",
    "\n",
    "\n"
   ]
  },
  {
   "cell_type": "code",
   "execution_count": 221,
   "metadata": {},
   "outputs": [
    {
     "name": "stdout",
     "output_type": "stream",
     "text": [
      "\n",
      "🎨 Creating statistical visualizations...\n"
     ]
    },
    {
     "data": {
      "application/vnd.plotly.v1+json": {
       "config": {
        "plotlyServerURL": "https://plot.ly"
       },
       "data": [
        {
         "hovertemplate": "<b>Scale Error</b><br>Range: %{x:.1f}%<br>Count: %{y}<extra></extra>",
         "marker": {
          "color": "#333333"
         },
         "name": "📐 Circle Female",
         "nbinsx": 30,
         "opacity": 0.7,
         "showlegend": true,
         "type": "histogram",
         "x": {
          "bdata": "MoC0SpG2G0Bq8+dEfv77Pwm1vNOR6fw/zZE7rmG3FUAw9ochl2INQLnhWBD4MAVA3iRXYWYO9D/MZ8WtwTY0QGRunfEJlR5AGqarNosTJEBAHT2xid3YP5+s6mwOMBNAFXZqriTeI0BDJsRCQbgBQGCmpiAJFRdANj1hA6AEB0BSQM7j2CMWQI/QE5va4/8/OnkrVzuYIkA6KVVvJA4RQByq/2L7PR5AxDZBQVIID0A74m70FSsaQGErQ0ikpRNAZLU3yQ8fIkD2vOTI3T8SQAQnjI8h/iVAziJ2dGLfKEDpkGxqKIEcQEPSBrJuMhNACPCjzyJyBUA=",
          "dtype": "f8"
         },
         "xaxis": "x",
         "yaxis": "y"
        },
        {
         "hovertemplate": "<b>Scale Error</b><br>Range: %{x:.1f}%<br>Count: %{y}<extra></extra>",
         "marker": {
          "color": "#333333"
         },
         "name": "📐 Circle Male",
         "nbinsx": 30,
         "opacity": 0.7,
         "showlegend": true,
         "type": "histogram",
         "x": {
          "bdata": "TWuyq8osJ0BqXwJSthEjQJ2//BjyGzFASrzK0V0OK0A73e3lmP00QA==",
          "dtype": "f8"
         },
         "xaxis": "x2",
         "yaxis": "y2"
        },
        {
         "hovertemplate": "<b>Scale Error</b><br>Range: %{x:.1f}%<br>Count: %{y}<extra></extra>",
         "marker": {
          "color": "#333333"
         },
         "name": "📐 Square",
         "nbinsx": 30,
         "opacity": 0.7,
         "showlegend": true,
         "type": "histogram",
         "x": {
          "bdata": "6k/UKXbGF0B/woRXbzUmQD6HDP7b6TFAY4rjr59sLkBRJxqXE7wNQBTsPWtfkBNA5H5R3vIM7T+JqGXjNdccQCCqH7qBEQ1A",
          "dtype": "f8"
         },
         "xaxis": "x3",
         "yaxis": "y3"
        },
        {
         "hovertemplate": "<b>Pixel Error</b><br>Range: %{x:.1f}%<br>Count: %{y}<extra></extra>",
         "marker": {
          "color": "#333333"
         },
         "name": "🔍 Circle Female",
         "nbinsx": 30,
         "opacity": 0.7,
         "showlegend": false,
         "type": "histogram",
         "x": {
          "bdata": "OeCFsUeNJEB5tPBUlxIuQBUxsDkzAypAnt9+lNwIDkDg9SC/dOAVQAuyzb8qhRBA8/y3ZkpMK0BQlnP3A14sQJWkRzqXiCZAoAYDCiiZ0D85/xLpzA4yQLnTSTW0myhAscTCqKMpJUACNIJ8NcYSQEhZ3KhLWjtAo3/mOP4YNkDkqB+ydU0xQL2TXqsu+QJAWgjFAcmJI0B8wGwdhHouQLvO92RPzg9AnLlpKM2AGECkLvho+CYtQPqnkYIQliFATY0qdpzZCkBgkwHlhhwiQHcqz4KO+QZAiTgpbNxb3z+aXR6drzgXQCKaDvIl5SBAW5wHZgq4/j/xaxNc3FQoQDo7XwZy0wJAlrGGKLpxDEA60JYEOegnQOBnQmaIbt4/lcqH5B9REkD62gQkyg4XQDC1AZ0vLCRAoZrmqY33NUDonVWEZxgtQH2jb7NbgxdAIu5zAlS5/T80sLHXLxo4QJqJiFXtCCtAJWafzh8YLkCFm8FTHh8lQCYpo2M9wiNA4anwSVYCGEAE7rgezJ0yQNtEtFwqQzJAccRJjfb6MUC/yUebSxs3QH3kY9O20i5AOBxn3GUAMECc0jyKzxY5QBaFun+tthRAR03s2cLpIEB+tBoU+eA4QLl9MyhsDhhA",
          "dtype": "f8"
         },
         "xaxis": "x4",
         "yaxis": "y4"
        },
        {
         "hovertemplate": "<b>Pixel Error</b><br>Range: %{x:.1f}%<br>Count: %{y}<extra></extra>",
         "marker": {
          "color": "#333333"
         },
         "name": "🔍 Circle Male",
         "nbinsx": 30,
         "opacity": 0.7,
         "showlegend": false,
         "type": "histogram",
         "x": {
          "bdata": "1jAGv2WHO0AwqwwrlIk8QDvo5My8RTdAVti8JybFNUD8SmqgAX4wQLc/tXA8UDhAfXQyonKjNUDBgvKbCZEwQEU/6xOHeTRAFMqBWS4zE0A=",
          "dtype": "f8"
         },
         "xaxis": "x5",
         "yaxis": "y5"
        },
        {
         "hovertemplate": "<b>Pixel Error</b><br>Range: %{x:.1f}%<br>Count: %{y}<extra></extra>",
         "marker": {
          "color": "#333333"
         },
         "name": "🔍 Square",
         "nbinsx": 30,
         "opacity": 0.7,
         "showlegend": false,
         "type": "histogram",
         "x": {
          "bdata": "8RPRgIy9H0DpCqHb1GY3QLsqXBVupC5A95+q2nbQNEB466pPSCIwQKAXk1U7+SBAFapByz6/FUB4K2qVs60lQB/hvS5HCRlA5ES0daStL0A=",
          "dtype": "f8"
         },
         "xaxis": "x6",
         "yaxis": "y6"
        },
        {
         "hovertemplate": "<b>Annotation Error</b><br>Range: %{x:.1f}%<br>Count: %{y}<extra></extra>",
         "marker": {
          "color": "#333333"
         },
         "name": "📝 Circle Female",
         "nbinsx": 30,
         "opacity": 0.7,
         "showlegend": false,
         "type": "histogram",
         "x": {
          "bdata": "avrPVBnEHECmISd7a4MzQOtd6HzAsQxAQms67CLD6z8nRQIT8gMQQIKY/BDkJCBADixxHPpxJEBwH94b6SszQJeGTY/HyCZAMR3SSp75HUBt23v45VcaQJbMiu8PYD1ARzEGG+d+KEBOfZrpB3AmQOQPwoTFORtAZJpWGZAVMkD73X1dnyg1QPezDIUeyNQ/pwmHemJGN0D4XWiCCKoVQKFonDhb6SdAOOwfSKJvFkDFnYZeCIcnQMAGIGEFtTlA6BII0sukHkBWij1BG8gfQH06klqwzxhAI6CPZJ5r8j8TRGzkcFgvQL9lUV6TviJA7qh8Vsr2QEBOj04TDQMkQKRbMsgkcztADZBGbOVhHEDmXuYuaBEvQKRbMsgkcztAkLJn7gE/H0DRG0yUtI4eQCwRa4GmCyhANOclyFnrJ0AeXwe9VCdKQEL+AuoP9xRANkABXtQiP0ACby4ZwzguQOwT3dOGtzVAWLlUif7U8z+nkWT1MvBRQISn/AG0BCVAScVZX9HXLUAWhNzUKVD+P07keAx+uBRA8MfIXoLaQED0hezRe8A7QNpHtXPolfQ/RXCB1OCoNUBozDTHdt3nPy8UBtSd/jFA526edt7Y+D9+uVYSwvw5QMIVlLGxGSRA",
          "dtype": "f8"
         },
         "xaxis": "x7",
         "yaxis": "y7"
        },
        {
         "hovertemplate": "<b>Annotation Error</b><br>Range: %{x:.1f}%<br>Count: %{y}<extra></extra>",
         "marker": {
          "color": "#333333"
         },
         "name": "📝 Circle Male",
         "nbinsx": 30,
         "opacity": 0.7,
         "showlegend": false,
         "type": "histogram",
         "x": {
          "bdata": "yPXZlHCyMUAtZJnAh6UGQN1VUclQRS9AdMaB/5IqO0CEdRcB7DQ/QIMqkDwIODBAgi++L9biDkAjPGYoTiQTQLrZHnJh0EVAeKvOBDxa4D8=",
          "dtype": "f8"
         },
         "xaxis": "x8",
         "yaxis": "y8"
        },
        {
         "hovertemplate": "<b>Annotation Error</b><br>Range: %{x:.1f}%<br>Count: %{y}<extra></extra>",
         "marker": {
          "color": "#333333"
         },
         "name": "📝 Square",
         "nbinsx": 30,
         "opacity": 0.7,
         "showlegend": false,
         "type": "histogram",
         "x": {
          "bdata": "C4bw1tblOUBX8lcRANAqQAryqFgYVhlAQmbiZFabLEDzPNUsv500QGbFFU+jLyZAT4Cp9Le5MEChrUJE2ikbQITTbuM3fSNA/ZvqaVYSMUA=",
          "dtype": "f8"
         },
         "xaxis": "x9",
         "yaxis": "y9"
        }
       ],
       "layout": {
        "annotations": [
         {
          "font": {
           "size": 16
          },
          "showarrow": false,
          "text": "Circle Female",
          "x": 0.14666666666666667,
          "xanchor": "center",
          "xref": "paper",
          "y": 1,
          "yanchor": "bottom",
          "yref": "paper"
         },
         {
          "font": {
           "size": 16
          },
          "showarrow": false,
          "text": "Circle Male",
          "x": 0.49,
          "xanchor": "center",
          "xref": "paper",
          "y": 1,
          "yanchor": "bottom",
          "yref": "paper"
         },
         {
          "font": {
           "size": 16
          },
          "showarrow": false,
          "text": "Square",
          "x": 0.8333333333333333,
          "xanchor": "center",
          "xref": "paper",
          "y": 1,
          "yanchor": "bottom",
          "yref": "paper"
         },
         {
          "font": {
           "size": 16
          },
          "showarrow": false,
          "text": "Circle Female",
          "x": 0.14666666666666667,
          "xanchor": "center",
          "xref": "paper",
          "y": 0.6399999999999999,
          "yanchor": "bottom",
          "yref": "paper"
         },
         {
          "font": {
           "size": 16
          },
          "showarrow": false,
          "text": "Circle Male",
          "x": 0.49,
          "xanchor": "center",
          "xref": "paper",
          "y": 0.6399999999999999,
          "yanchor": "bottom",
          "yref": "paper"
         },
         {
          "font": {
           "size": 16
          },
          "showarrow": false,
          "text": "Square",
          "x": 0.8333333333333333,
          "xanchor": "center",
          "xref": "paper",
          "y": 0.6399999999999999,
          "yanchor": "bottom",
          "yref": "paper"
         },
         {
          "font": {
           "size": 16
          },
          "showarrow": false,
          "text": "Circle Female",
          "x": 0.14666666666666667,
          "xanchor": "center",
          "xref": "paper",
          "y": 0.27999999999999997,
          "yanchor": "bottom",
          "yref": "paper"
         },
         {
          "font": {
           "size": 16
          },
          "showarrow": false,
          "text": "Circle Male",
          "x": 0.49,
          "xanchor": "center",
          "xref": "paper",
          "y": 0.27999999999999997,
          "yanchor": "bottom",
          "yref": "paper"
         },
         {
          "font": {
           "size": 16
          },
          "showarrow": false,
          "text": "Square",
          "x": 0.8333333333333333,
          "xanchor": "center",
          "xref": "paper",
          "y": 0.27999999999999997,
          "yanchor": "bottom",
          "yref": "paper"
         },
         {
          "font": {
           "size": 16
          },
          "showarrow": false,
          "text": "📐 Scale Error Distribution",
          "textangle": 90,
          "x": 0.98,
          "xanchor": "left",
          "xref": "paper",
          "y": 0.86,
          "yanchor": "middle",
          "yref": "paper"
         },
         {
          "font": {
           "size": 16
          },
          "showarrow": false,
          "text": "🔍 Pixel Error Distribution",
          "textangle": 90,
          "x": 0.98,
          "xanchor": "left",
          "xref": "paper",
          "y": 0.49999999999999994,
          "yanchor": "middle",
          "yref": "paper"
         },
         {
          "font": {
           "size": 16
          },
          "showarrow": false,
          "text": "📝 Annotation Error Distribution",
          "textangle": 90,
          "x": 0.98,
          "xanchor": "left",
          "xref": "paper",
          "y": 0.13999999999999999,
          "yanchor": "middle",
          "yref": "paper"
         },
         {
          "showarrow": false,
          "text": "Median: 4.9%",
          "x": 4.911759499644945,
          "xanchor": "center",
          "xref": "x",
          "y": 1,
          "yanchor": "bottom",
          "yref": "y domain"
         },
         {
          "showarrow": false,
          "text": "Median: 13.5%",
          "x": 13.528059535978304,
          "xanchor": "center",
          "xref": "x2",
          "y": 1,
          "yanchor": "bottom",
          "yref": "y2 domain"
         },
         {
          "showarrow": false,
          "text": "Median: 5.9%",
          "x": 5.943810132583147,
          "xanchor": "center",
          "xref": "x3",
          "y": 1,
          "yanchor": "bottom",
          "yref": "y3 domain"
         },
         {
          "showarrow": false,
          "text": "Median: 10.2%",
          "x": 10.181119181657188,
          "xanchor": "center",
          "xref": "x4",
          "y": 1,
          "yanchor": "bottom",
          "yref": "y4 domain"
         },
         {
          "showarrow": false,
          "text": "Median: 21.7%",
          "x": 21.70429068609375,
          "xanchor": "center",
          "xref": "x5",
          "y": 1,
          "yanchor": "bottom",
          "yref": "y5 domain"
         },
         {
          "showarrow": false,
          "text": "Median: 13.1%",
          "x": 13.080206554751886,
          "xanchor": "center",
          "xref": "x6",
          "y": 1,
          "yanchor": "bottom",
          "yref": "y6 domain"
         },
         {
          "showarrow": false,
          "text": "Median: 10.9%",
          "x": 10.863998108959281,
          "xanchor": "center",
          "xref": "x7",
          "y": 1,
          "yanchor": "bottom",
          "yref": "y7 domain"
         },
         {
          "showarrow": false,
          "text": "Median: 15.9%",
          "x": 15.927128828227726,
          "xanchor": "center",
          "xref": "x8",
          "y": 1,
          "yanchor": "bottom",
          "yref": "y8 domain"
         },
         {
          "showarrow": false,
          "text": "Median: 13.9%",
          "x": 13.854822013198053,
          "xanchor": "center",
          "xref": "x9",
          "y": 1,
          "yanchor": "bottom",
          "yref": "y9 domain"
         }
        ],
        "height": 800,
        "legend": {
         "orientation": "h",
         "x": 1,
         "xanchor": "right",
         "y": 1.02,
         "yanchor": "bottom"
        },
        "shapes": [
         {
          "line": {
           "color": "red",
           "dash": "dash"
          },
          "type": "line",
          "x0": 4.911759499644945,
          "x1": 4.911759499644945,
          "xref": "x",
          "y0": 0,
          "y1": 1,
          "yref": "y domain"
         },
         {
          "line": {
           "color": "red",
           "dash": "dash"
          },
          "type": "line",
          "x0": 13.528059535978304,
          "x1": 13.528059535978304,
          "xref": "x2",
          "y0": 0,
          "y1": 1,
          "yref": "y2 domain"
         },
         {
          "line": {
           "color": "red",
           "dash": "dash"
          },
          "type": "line",
          "x0": 5.943810132583147,
          "x1": 5.943810132583147,
          "xref": "x3",
          "y0": 0,
          "y1": 1,
          "yref": "y3 domain"
         },
         {
          "line": {
           "color": "red",
           "dash": "dash"
          },
          "type": "line",
          "x0": 10.181119181657188,
          "x1": 10.181119181657188,
          "xref": "x4",
          "y0": 0,
          "y1": 1,
          "yref": "y4 domain"
         },
         {
          "line": {
           "color": "red",
           "dash": "dash"
          },
          "type": "line",
          "x0": 21.70429068609375,
          "x1": 21.70429068609375,
          "xref": "x5",
          "y0": 0,
          "y1": 1,
          "yref": "y5 domain"
         },
         {
          "line": {
           "color": "red",
           "dash": "dash"
          },
          "type": "line",
          "x0": 13.080206554751886,
          "x1": 13.080206554751886,
          "xref": "x6",
          "y0": 0,
          "y1": 1,
          "yref": "y6 domain"
         },
         {
          "line": {
           "color": "red",
           "dash": "dash"
          },
          "type": "line",
          "x0": 10.863998108959281,
          "x1": 10.863998108959281,
          "xref": "x7",
          "y0": 0,
          "y1": 1,
          "yref": "y7 domain"
         },
         {
          "line": {
           "color": "red",
           "dash": "dash"
          },
          "type": "line",
          "x0": 15.927128828227726,
          "x1": 15.927128828227726,
          "xref": "x8",
          "y0": 0,
          "y1": 1,
          "yref": "y8 domain"
         },
         {
          "line": {
           "color": "red",
           "dash": "dash"
          },
          "type": "line",
          "x0": 13.854822013198053,
          "x1": 13.854822013198053,
          "xref": "x9",
          "y0": 0,
          "y1": 1,
          "yref": "y9 domain"
         }
        ],
        "showlegend": true,
        "template": {
         "data": {
          "bar": [
           {
            "error_x": {
             "color": "#2a3f5f"
            },
            "error_y": {
             "color": "#2a3f5f"
            },
            "marker": {
             "line": {
              "color": "#E5ECF6",
              "width": 0.5
             },
             "pattern": {
              "fillmode": "overlay",
              "size": 10,
              "solidity": 0.2
             }
            },
            "type": "bar"
           }
          ],
          "barpolar": [
           {
            "marker": {
             "line": {
              "color": "#E5ECF6",
              "width": 0.5
             },
             "pattern": {
              "fillmode": "overlay",
              "size": 10,
              "solidity": 0.2
             }
            },
            "type": "barpolar"
           }
          ],
          "carpet": [
           {
            "aaxis": {
             "endlinecolor": "#2a3f5f",
             "gridcolor": "white",
             "linecolor": "white",
             "minorgridcolor": "white",
             "startlinecolor": "#2a3f5f"
            },
            "baxis": {
             "endlinecolor": "#2a3f5f",
             "gridcolor": "white",
             "linecolor": "white",
             "minorgridcolor": "white",
             "startlinecolor": "#2a3f5f"
            },
            "type": "carpet"
           }
          ],
          "choropleth": [
           {
            "colorbar": {
             "outlinewidth": 0,
             "ticks": ""
            },
            "type": "choropleth"
           }
          ],
          "contour": [
           {
            "colorbar": {
             "outlinewidth": 0,
             "ticks": ""
            },
            "colorscale": [
             [
              0,
              "#0d0887"
             ],
             [
              0.1111111111111111,
              "#46039f"
             ],
             [
              0.2222222222222222,
              "#7201a8"
             ],
             [
              0.3333333333333333,
              "#9c179e"
             ],
             [
              0.4444444444444444,
              "#bd3786"
             ],
             [
              0.5555555555555556,
              "#d8576b"
             ],
             [
              0.6666666666666666,
              "#ed7953"
             ],
             [
              0.7777777777777778,
              "#fb9f3a"
             ],
             [
              0.8888888888888888,
              "#fdca26"
             ],
             [
              1,
              "#f0f921"
             ]
            ],
            "type": "contour"
           }
          ],
          "contourcarpet": [
           {
            "colorbar": {
             "outlinewidth": 0,
             "ticks": ""
            },
            "type": "contourcarpet"
           }
          ],
          "heatmap": [
           {
            "colorbar": {
             "outlinewidth": 0,
             "ticks": ""
            },
            "colorscale": [
             [
              0,
              "#0d0887"
             ],
             [
              0.1111111111111111,
              "#46039f"
             ],
             [
              0.2222222222222222,
              "#7201a8"
             ],
             [
              0.3333333333333333,
              "#9c179e"
             ],
             [
              0.4444444444444444,
              "#bd3786"
             ],
             [
              0.5555555555555556,
              "#d8576b"
             ],
             [
              0.6666666666666666,
              "#ed7953"
             ],
             [
              0.7777777777777778,
              "#fb9f3a"
             ],
             [
              0.8888888888888888,
              "#fdca26"
             ],
             [
              1,
              "#f0f921"
             ]
            ],
            "type": "heatmap"
           }
          ],
          "histogram": [
           {
            "marker": {
             "pattern": {
              "fillmode": "overlay",
              "size": 10,
              "solidity": 0.2
             }
            },
            "type": "histogram"
           }
          ],
          "histogram2d": [
           {
            "colorbar": {
             "outlinewidth": 0,
             "ticks": ""
            },
            "colorscale": [
             [
              0,
              "#0d0887"
             ],
             [
              0.1111111111111111,
              "#46039f"
             ],
             [
              0.2222222222222222,
              "#7201a8"
             ],
             [
              0.3333333333333333,
              "#9c179e"
             ],
             [
              0.4444444444444444,
              "#bd3786"
             ],
             [
              0.5555555555555556,
              "#d8576b"
             ],
             [
              0.6666666666666666,
              "#ed7953"
             ],
             [
              0.7777777777777778,
              "#fb9f3a"
             ],
             [
              0.8888888888888888,
              "#fdca26"
             ],
             [
              1,
              "#f0f921"
             ]
            ],
            "type": "histogram2d"
           }
          ],
          "histogram2dcontour": [
           {
            "colorbar": {
             "outlinewidth": 0,
             "ticks": ""
            },
            "colorscale": [
             [
              0,
              "#0d0887"
             ],
             [
              0.1111111111111111,
              "#46039f"
             ],
             [
              0.2222222222222222,
              "#7201a8"
             ],
             [
              0.3333333333333333,
              "#9c179e"
             ],
             [
              0.4444444444444444,
              "#bd3786"
             ],
             [
              0.5555555555555556,
              "#d8576b"
             ],
             [
              0.6666666666666666,
              "#ed7953"
             ],
             [
              0.7777777777777778,
              "#fb9f3a"
             ],
             [
              0.8888888888888888,
              "#fdca26"
             ],
             [
              1,
              "#f0f921"
             ]
            ],
            "type": "histogram2dcontour"
           }
          ],
          "mesh3d": [
           {
            "colorbar": {
             "outlinewidth": 0,
             "ticks": ""
            },
            "type": "mesh3d"
           }
          ],
          "parcoords": [
           {
            "line": {
             "colorbar": {
              "outlinewidth": 0,
              "ticks": ""
             }
            },
            "type": "parcoords"
           }
          ],
          "pie": [
           {
            "automargin": true,
            "type": "pie"
           }
          ],
          "scatter": [
           {
            "fillpattern": {
             "fillmode": "overlay",
             "size": 10,
             "solidity": 0.2
            },
            "type": "scatter"
           }
          ],
          "scatter3d": [
           {
            "line": {
             "colorbar": {
              "outlinewidth": 0,
              "ticks": ""
             }
            },
            "marker": {
             "colorbar": {
              "outlinewidth": 0,
              "ticks": ""
             }
            },
            "type": "scatter3d"
           }
          ],
          "scattercarpet": [
           {
            "marker": {
             "colorbar": {
              "outlinewidth": 0,
              "ticks": ""
             }
            },
            "type": "scattercarpet"
           }
          ],
          "scattergeo": [
           {
            "marker": {
             "colorbar": {
              "outlinewidth": 0,
              "ticks": ""
             }
            },
            "type": "scattergeo"
           }
          ],
          "scattergl": [
           {
            "marker": {
             "colorbar": {
              "outlinewidth": 0,
              "ticks": ""
             }
            },
            "type": "scattergl"
           }
          ],
          "scattermap": [
           {
            "marker": {
             "colorbar": {
              "outlinewidth": 0,
              "ticks": ""
             }
            },
            "type": "scattermap"
           }
          ],
          "scattermapbox": [
           {
            "marker": {
             "colorbar": {
              "outlinewidth": 0,
              "ticks": ""
             }
            },
            "type": "scattermapbox"
           }
          ],
          "scatterpolar": [
           {
            "marker": {
             "colorbar": {
              "outlinewidth": 0,
              "ticks": ""
             }
            },
            "type": "scatterpolar"
           }
          ],
          "scatterpolargl": [
           {
            "marker": {
             "colorbar": {
              "outlinewidth": 0,
              "ticks": ""
             }
            },
            "type": "scatterpolargl"
           }
          ],
          "scatterternary": [
           {
            "marker": {
             "colorbar": {
              "outlinewidth": 0,
              "ticks": ""
             }
            },
            "type": "scatterternary"
           }
          ],
          "surface": [
           {
            "colorbar": {
             "outlinewidth": 0,
             "ticks": ""
            },
            "colorscale": [
             [
              0,
              "#0d0887"
             ],
             [
              0.1111111111111111,
              "#46039f"
             ],
             [
              0.2222222222222222,
              "#7201a8"
             ],
             [
              0.3333333333333333,
              "#9c179e"
             ],
             [
              0.4444444444444444,
              "#bd3786"
             ],
             [
              0.5555555555555556,
              "#d8576b"
             ],
             [
              0.6666666666666666,
              "#ed7953"
             ],
             [
              0.7777777777777778,
              "#fb9f3a"
             ],
             [
              0.8888888888888888,
              "#fdca26"
             ],
             [
              1,
              "#f0f921"
             ]
            ],
            "type": "surface"
           }
          ],
          "table": [
           {
            "cells": {
             "fill": {
              "color": "#EBF0F8"
             },
             "line": {
              "color": "white"
             }
            },
            "header": {
             "fill": {
              "color": "#C8D4E3"
             },
             "line": {
              "color": "white"
             }
            },
            "type": "table"
           }
          ]
         },
         "layout": {
          "annotationdefaults": {
           "arrowcolor": "#2a3f5f",
           "arrowhead": 0,
           "arrowwidth": 1
          },
          "autotypenumbers": "strict",
          "coloraxis": {
           "colorbar": {
            "outlinewidth": 0,
            "ticks": ""
           }
          },
          "colorscale": {
           "diverging": [
            [
             0,
             "#8e0152"
            ],
            [
             0.1,
             "#c51b7d"
            ],
            [
             0.2,
             "#de77ae"
            ],
            [
             0.3,
             "#f1b6da"
            ],
            [
             0.4,
             "#fde0ef"
            ],
            [
             0.5,
             "#f7f7f7"
            ],
            [
             0.6,
             "#e6f5d0"
            ],
            [
             0.7,
             "#b8e186"
            ],
            [
             0.8,
             "#7fbc41"
            ],
            [
             0.9,
             "#4d9221"
            ],
            [
             1,
             "#276419"
            ]
           ],
           "sequential": [
            [
             0,
             "#0d0887"
            ],
            [
             0.1111111111111111,
             "#46039f"
            ],
            [
             0.2222222222222222,
             "#7201a8"
            ],
            [
             0.3333333333333333,
             "#9c179e"
            ],
            [
             0.4444444444444444,
             "#bd3786"
            ],
            [
             0.5555555555555556,
             "#d8576b"
            ],
            [
             0.6666666666666666,
             "#ed7953"
            ],
            [
             0.7777777777777778,
             "#fb9f3a"
            ],
            [
             0.8888888888888888,
             "#fdca26"
            ],
            [
             1,
             "#f0f921"
            ]
           ],
           "sequentialminus": [
            [
             0,
             "#0d0887"
            ],
            [
             0.1111111111111111,
             "#46039f"
            ],
            [
             0.2222222222222222,
             "#7201a8"
            ],
            [
             0.3333333333333333,
             "#9c179e"
            ],
            [
             0.4444444444444444,
             "#bd3786"
            ],
            [
             0.5555555555555556,
             "#d8576b"
            ],
            [
             0.6666666666666666,
             "#ed7953"
            ],
            [
             0.7777777777777778,
             "#fb9f3a"
            ],
            [
             0.8888888888888888,
             "#fdca26"
            ],
            [
             1,
             "#f0f921"
            ]
           ]
          },
          "colorway": [
           "#636efa",
           "#EF553B",
           "#00cc96",
           "#ab63fa",
           "#FFA15A",
           "#19d3f3",
           "#FF6692",
           "#B6E880",
           "#FF97FF",
           "#FECB52"
          ],
          "font": {
           "color": "#2a3f5f"
          },
          "geo": {
           "bgcolor": "white",
           "lakecolor": "white",
           "landcolor": "#E5ECF6",
           "showlakes": true,
           "showland": true,
           "subunitcolor": "white"
          },
          "hoverlabel": {
           "align": "left"
          },
          "hovermode": "closest",
          "mapbox": {
           "style": "light"
          },
          "paper_bgcolor": "white",
          "plot_bgcolor": "#E5ECF6",
          "polar": {
           "angularaxis": {
            "gridcolor": "white",
            "linecolor": "white",
            "ticks": ""
           },
           "bgcolor": "#E5ECF6",
           "radialaxis": {
            "gridcolor": "white",
            "linecolor": "white",
            "ticks": ""
           }
          },
          "scene": {
           "xaxis": {
            "backgroundcolor": "#E5ECF6",
            "gridcolor": "white",
            "gridwidth": 2,
            "linecolor": "white",
            "showbackground": true,
            "ticks": "",
            "zerolinecolor": "white"
           },
           "yaxis": {
            "backgroundcolor": "#E5ECF6",
            "gridcolor": "white",
            "gridwidth": 2,
            "linecolor": "white",
            "showbackground": true,
            "ticks": "",
            "zerolinecolor": "white"
           },
           "zaxis": {
            "backgroundcolor": "#E5ECF6",
            "gridcolor": "white",
            "gridwidth": 2,
            "linecolor": "white",
            "showbackground": true,
            "ticks": "",
            "zerolinecolor": "white"
           }
          },
          "shapedefaults": {
           "line": {
            "color": "#2a3f5f"
           }
          },
          "ternary": {
           "aaxis": {
            "gridcolor": "white",
            "linecolor": "white",
            "ticks": ""
           },
           "baxis": {
            "gridcolor": "white",
            "linecolor": "white",
            "ticks": ""
           },
           "bgcolor": "#E5ECF6",
           "caxis": {
            "gridcolor": "white",
            "linecolor": "white",
            "ticks": ""
           }
          },
          "title": {
           "x": 0.05
          },
          "xaxis": {
           "automargin": true,
           "gridcolor": "white",
           "linecolor": "white",
           "ticks": "",
           "title": {
            "standoff": 15
           },
           "zerolinecolor": "white",
           "zerolinewidth": 2
          },
          "yaxis": {
           "automargin": true,
           "gridcolor": "white",
           "linecolor": "white",
           "ticks": "",
           "title": {
            "standoff": 15
           },
           "zerolinecolor": "white",
           "zerolinewidth": 2
          }
         }
        },
        "title": {
         "font": {
          "size": 20
         },
         "text": "🎪 Error Distribution Circus: A Statistical Spectacular"
        },
        "width": 1200,
        "xaxis": {
         "anchor": "y",
         "domain": [
          0,
          0.29333333333333333
         ],
         "title": {
          "text": "Error (%)"
         }
        },
        "xaxis2": {
         "anchor": "y2",
         "domain": [
          0.3433333333333333,
          0.6366666666666667
         ],
         "title": {
          "text": "Error (%)"
         }
        },
        "xaxis3": {
         "anchor": "y3",
         "domain": [
          0.6866666666666666,
          0.98
         ],
         "title": {
          "text": "Error (%)"
         }
        },
        "xaxis4": {
         "anchor": "y4",
         "domain": [
          0,
          0.29333333333333333
         ],
         "title": {
          "text": "Error (%)"
         }
        },
        "xaxis5": {
         "anchor": "y5",
         "domain": [
          0.3433333333333333,
          0.6366666666666667
         ],
         "title": {
          "text": "Error (%)"
         }
        },
        "xaxis6": {
         "anchor": "y6",
         "domain": [
          0.6866666666666666,
          0.98
         ],
         "title": {
          "text": "Error (%)"
         }
        },
        "xaxis7": {
         "anchor": "y7",
         "domain": [
          0,
          0.29333333333333333
         ],
         "title": {
          "text": "Error (%)"
         }
        },
        "xaxis8": {
         "anchor": "y8",
         "domain": [
          0.3433333333333333,
          0.6366666666666667
         ],
         "title": {
          "text": "Error (%)"
         }
        },
        "xaxis9": {
         "anchor": "y9",
         "domain": [
          0.6866666666666666,
          0.98
         ],
         "title": {
          "text": "Error (%)"
         }
        },
        "yaxis": {
         "anchor": "x",
         "domain": [
          0.72,
          1
         ],
         "title": {
          "text": "Frequency"
         }
        },
        "yaxis2": {
         "anchor": "x2",
         "domain": [
          0.72,
          1
         ],
         "title": {
          "text": "Frequency"
         }
        },
        "yaxis3": {
         "anchor": "x3",
         "domain": [
          0.72,
          1
         ],
         "title": {
          "text": "Frequency"
         }
        },
        "yaxis4": {
         "anchor": "x4",
         "domain": [
          0.36,
          0.6399999999999999
         ],
         "title": {
          "text": "Frequency"
         }
        },
        "yaxis5": {
         "anchor": "x5",
         "domain": [
          0.36,
          0.6399999999999999
         ],
         "title": {
          "text": "Frequency"
         }
        },
        "yaxis6": {
         "anchor": "x6",
         "domain": [
          0.36,
          0.6399999999999999
         ],
         "title": {
          "text": "Frequency"
         }
        },
        "yaxis7": {
         "anchor": "x7",
         "domain": [
          0,
          0.27999999999999997
         ],
         "title": {
          "text": "Frequency"
         }
        },
        "yaxis8": {
         "anchor": "x8",
         "domain": [
          0,
          0.27999999999999997
         ],
         "title": {
          "text": "Frequency"
         }
        },
        "yaxis9": {
         "anchor": "x9",
         "domain": [
          0,
          0.27999999999999997
         ],
         "title": {
          "text": "Frequency"
         }
        }
       }
      }
     },
     "metadata": {},
     "output_type": "display_data"
    },
    {
     "name": "stdout",
     "output_type": "stream",
     "text": [
      "💾 Saved: circle_female_scale_error_histogram.png\n",
      "💾 Saved: circle_female_pixel_error_histogram.png\n",
      "💾 Saved: circle_female_annotation_error_histogram.png\n",
      "💾 Saved: circle_male_scale_error_histogram.png\n",
      "💾 Saved: circle_male_pixel_error_histogram.png\n",
      "💾 Saved: circle_male_annotation_error_histogram.png\n",
      "💾 Saved: square_scale_error_histogram.png\n",
      "💾 Saved: square_pixel_error_histogram.png\n",
      "💾 Saved: square_annotation_error_histogram.png\n",
      "✅ All visualizations created and saved!\n"
     ]
    }
   ],
   "source": [
    "def create_statistical_visualizations(statistical_results: Dict[str, Dict], output_dir: Path) -> None:\n",
    "    \"\"\"\n",
    "    🎨 Create beautiful histogram visualizations with consistent colors.\n",
    "    \"\"\"\n",
    "    pond_types = list(statistical_results.keys())\n",
    "    \n",
    "    # Create comprehensive histogram dashboard\n",
    "    fig = make_subplots(\n",
    "        rows=3, cols=len(pond_types),\n",
    "        subplot_titles=[f'{pond_type.replace(\"_\", \" \").title()}' for pond_type in pond_types] * 3,\n",
    "        row_titles=['📐 Scale Error Distribution', '🔍 Pixel Error Distribution', '📝 Annotation Error Distribution'],\n",
    "        vertical_spacing=0.08,\n",
    "        horizontal_spacing=0.05\n",
    "    )\n",
    "    \n",
    "    error_types = ['scale_error', 'pixel_error', 'annotation_error']\n",
    "    error_icons = ['📐', '🔍', '📝']\n",
    "    \n",
    "    for row, (error_type, icon) in enumerate(zip(error_types, error_icons), 1):\n",
    "        for col, pond_type in enumerate(pond_types, 1):\n",
    "            data = statistical_results[pond_type][error_type]['data']\n",
    "            color = POND_COLORS.get(pond_type, '#333333')\n",
    "            \n",
    "            # Add histogram\n",
    "            fig.add_trace(\n",
    "                go.Histogram(\n",
    "                    x=data,\n",
    "                    nbinsx=30,\n",
    "                    name=f'{icon} {pond_type.replace(\"_\", \" \").title()}',\n",
    "                    marker_color=color,\n",
    "                    opacity=0.7,\n",
    "                    showlegend=(row == 1),  # Only show legend for first row\n",
    "                    hovertemplate=f\"<b>{error_type.replace('_', ' ').title()}</b><br>\" +\n",
    "                                f\"Range: %{{x:.1f}}%<br>\" +\n",
    "                                f\"Count: %{{y}}<extra></extra>\"\n",
    "                ),\n",
    "                row=row, col=col\n",
    "            )\n",
    "            \n",
    "            # Add median line\n",
    "            median_val = statistical_results[pond_type][error_type]['median']\n",
    "            fig.add_vline(\n",
    "                x=median_val,\n",
    "                line_dash=\"dash\",\n",
    "                line_color=\"red\",\n",
    "                annotation_text=f\"Median: {median_val:.1f}%\",\n",
    "                annotation_position=\"top\",\n",
    "                row=row, col=col\n",
    "            )\n",
    "    \n",
    "    # Update layout\n",
    "    fig.update_layout(\n",
    "        title_text=\"🎪 Error Distribution Circus: A Statistical Spectacular\",\n",
    "        title_font_size=20,\n",
    "        height=800,\n",
    "        width=400*len(pond_types),\n",
    "        showlegend=True,\n",
    "        legend=dict(\n",
    "            orientation=\"h\",\n",
    "            yanchor=\"bottom\",\n",
    "            y=1.02,\n",
    "            xanchor=\"right\",\n",
    "            x=1\n",
    "        )\n",
    "    )\n",
    "    \n",
    "    # Update axes\n",
    "    for row in range(1, 4):\n",
    "        for col in range(1, len(pond_types) + 1):\n",
    "            fig.update_xaxes(title_text=\"Error (%)\", row=row, col=col)\n",
    "            fig.update_yaxes(title_text=\"Frequency\", row=row, col=col)\n",
    "    \n",
    "    fig.show()\n",
    "    \n",
    "    # Save individual histograms for each error type and pond\n",
    "    for pond_type in pond_types:\n",
    "        color = POND_COLORS.get(pond_type, '#333333')\n",
    "        \n",
    "        for error_type, icon in zip(error_types, error_icons):\n",
    "            data = statistical_results[pond_type][error_type]['data']\n",
    "            \n",
    "            # Create individual histogram\n",
    "            fig_individual = px.histogram(\n",
    "                x=data,\n",
    "                nbins=50,\n",
    "                title=f'{icon} {error_type.replace(\"_\", \" \").title()} Distribution - {pond_type.replace(\"_\", \" \").title()}',\n",
    "                labels={'x': 'Error (%)', 'y': 'Frequency'},\n",
    "                color_discrete_sequence=[color]\n",
    "            )\n",
    "            \n",
    "            # Add median line\n",
    "            median_val = statistical_results[pond_type][error_type]['median']\n",
    "            fig_individual.add_vline(\n",
    "                x=median_val,\n",
    "                line_dash=\"dash\",\n",
    "                line_color=\"red\",\n",
    "                annotation_text=f\"Median: {median_val:.1f}%\"\n",
    "            )\n",
    "            \n",
    "            # Save figure\n",
    "            filename = f'{pond_type}_{error_type}_histogram.png'\n",
    "            fig_individual.write_image(output_dir / filename)\n",
    "            print(f\"💾 Saved: {filename}\")\n",
    "\n",
    "# 🎨 Create visualizations\n",
    "print(\"\\n🎨 Creating statistical visualizations...\")\n",
    "create_statistical_visualizations(statistical_results, output_dir)\n",
    "print(\"✅ All visualizations created and saved!\")\n"
   ]
  },
  {
   "cell_type": "markdown",
   "metadata": {
    "vscode": {
     "languageId": "raw"
    }
   },
   "source": [
    "# 🔍 Annotation Quality Comparison: ImageJ vs Roboflow Showdown\n",
    "\n",
    "## 🎯 **The Great Annotation Battle**\n",
    "\n",
    "In this analysis, we're conducting a head-to-head comparison between two different annotation methods to understand which provides more accurate ground truth measurements for our prawn detection algorithm.\n",
    "\n",
    "### 🥊 **The Competitors**\n",
    "\n",
    "#### 🔬 **ImageJ Annotation Error** (Manual Scientific Method)\n",
    "- **What it measures**: `|mean_pixels - pred_Distance_pixels|`\n",
    "- **Ground truth**: Manual measurements using ImageJ scientific software\n",
    "- **Characteristics**: High precision, researcher-controlled, time-intensive\n",
    "- **Expected advantage**: Scientific rigor and careful manual verification\n",
    "\n",
    "#### 🤖 **Roboflow Annotation Error** (AI-Assisted Method) \n",
    "- **What it measures**: `|pred_Distance_pixels - Length_ground_truth_annotation_pixels|`\n",
    "- **Ground truth**: Roboflow platform annotations (semi-automated)\n",
    "- **Characteristics**: Faster annotation, potentially more consistent, AI-assisted\n",
    "- **Expected advantage**: Speed and consistency across large datasets\n",
    "\n",
    "---\n",
    "\n",
    "## 🔬 **Research Questions**\n",
    "\n",
    "### 1. **Accuracy Comparison** 📊\n",
    "- Which annotation method produces smaller pixel-level errors?\n",
    "- Are the differences statistically significant across pond types?\n",
    "\n",
    "### 2. **Pond-Specific Patterns** 🏊‍♀️\n",
    "- Do different pond environments favor one annotation method over another?\n",
    "- Are there systematic biases in either approach?\n",
    "\n",
    "### 3. **Practical Implications** ⚡\n",
    "- Which method should we use for future ground truth generation?\n",
    "- Can we identify when one method is likely to outperform the other?\n",
    "\n",
    "---\n",
    "\n",
    "## 📈 **Analysis Methodology**\n",
    "\n",
    "### **Error Calculation**\n",
    "For each pond type, we calculate:\n",
    "- **ImageJ Error**: Absolute difference between manual measurements and predictions\n",
    "- **Roboflow Error**: Absolute difference between Roboflow annotations and predictions\n",
    "- **Comparison Metric**: Percentage of cases where Roboflow error < ImageJ error\n",
    "\n",
    "### **Visualization Strategy**\n",
    "- **Box Plots**: Show distribution of errors for each method across pond types\n",
    "- **Statistical Summary**: Mean errors and success rates for each approach\n",
    "- **Pond-Specific Analysis**: Understand environmental factors affecting each method\n",
    "\n",
    "---\n",
    "\n",
    "## 🎪 **Expected Insights**\n",
    "\n",
    "### **Hypothesis 1: Method-Environment Interaction**\n",
    "Different pond types may favor different annotation methods:\n",
    "- **Complex environments** (square ponds) might benefit from careful ImageJ annotation\n",
    "- **Uniform environments** (circular ponds) might work well with Roboflow consistency\n",
    "\n",
    "### **Hypothesis 2: Scale-Dependent Performance**\n",
    "- **Large prawns**: Manual ImageJ precision might be advantageous\n",
    "- **Small prawns**: Roboflow consistency might reduce human error\n",
    "\n",
    "### **Hypothesis 3: Error Distribution Patterns**\n",
    "- **ImageJ**: Higher precision but potentially more variable (human factors)\n",
    "- **Roboflow**: More consistent but potentially systematic biases\n",
    "\n",
    "---\n",
    "\n",
    "## 🚀 **Let's Discover the Winner!**\n",
    "\n",
    "The following analysis will reveal which annotation method provides the most reliable ground truth for our prawn measurement system...\n"
   ]
  },
  {
   "cell_type": "markdown",
   "metadata": {
    "vscode": {
     "languageId": "raw"
    }
   },
   "source": [
    "# 🏆 Annotation Quality Results: The Verdict is In!\n",
    "\n",
    "## 📊 **Statistical Battle Results**\n",
    "\n",
    "### 🟢 **Circle Female Pond** (Most Balanced Competition)\n",
    "- **🤖 Roboflow Wins**: `52.63%` of cases (50 out of 95 measurements)\n",
    "- **📊 Mean Errors**: ImageJ = `25.05 pixels` vs Roboflow = `22.10 pixels`\n",
    "- **🎯 Verdict**: **Slight Roboflow advantage** - More consistent performance\n",
    "\n",
    "### 🔴 **Circle Male Pond** (Clear Roboflow Victory)\n",
    "- **🤖 Roboflow Wins**: `76.92%` of cases (10 out of 13 measurements)\n",
    "- **📊 Mean Errors**: ImageJ = `30.52 pixels` vs Roboflow = `18.41 pixels`\n",
    "- **🎯 Verdict**: **Strong Roboflow advantage** - Significantly better accuracy\n",
    "\n",
    "### 🟡 **Square Pond** (Moderate Roboflow Lead)\n",
    "- **🤖 Roboflow Wins**: `59.38%` of cases (19 out of 32 measurements)\n",
    "- **📊 Mean Errors**: ImageJ = `52.04 pixels` vs Roboflow = `39.39 pixels`\n",
    "- **🎯 Verdict**: **Clear Roboflow advantage** - Better performance in complex environment\n",
    "\n",
    "---\n",
    "\n",
    "## 🔍 **Critical Insights Discovered**\n",
    "\n",
    "### 1. **Roboflow Dominance Across All Environments** 🏆\n",
    "**Surprising Finding**: Roboflow consistently outperforms ImageJ across all pond types!\n",
    "- **Circle Female**: 52.6% win rate (close competition)\n",
    "- **Circle Male**: 76.9% win rate (dominant performance)\n",
    "- **Square**: 59.4% win rate (solid advantage)\n",
    "\n",
    "### 2. **Environment-Specific Performance Patterns** 🏊‍♀️\n",
    "\n",
    "#### **Circle Male = Roboflow's Strongest Domain**\n",
    "- **Highest win rate** (76.9%) and **largest error gap** (30.52 vs 18.41 pixels)\n",
    "- Possibly due to **smaller pond size** making automated annotation more precise\n",
    "- **Male prawn behavior** might be more predictable for AI systems\n",
    "\n",
    "#### **Square Pond = Most Challenging for Both**\n",
    "- **Highest absolute errors** for both methods (ImageJ: 52.04, Roboflow: 39.39)\n",
    "- **Complex geometry** creates annotation challenges\n",
    "- **Roboflow still maintains advantage** despite increased difficulty\n",
    "\n",
    "#### **Circle Female = Most Competitive**\n",
    "- **Closest competition** between methods (52.6% vs 47.4%)\n",
    "- **Lowest absolute errors** for both approaches\n",
    "- **Optimal environment** for both annotation methods\n",
    "\n",
    "### 3. **Error Magnitude Analysis** 📏\n",
    "\n",
    "**Key Pattern**: Roboflow shows **consistently lower error magnitudes**:\n",
    "- **Best case**: Circle Female (22.10 vs 25.05 pixels)\n",
    "- **Moderate case**: Circle Male (18.41 vs 30.52 pixels) \n",
    "- **Challenging case**: Square (39.39 vs 52.04 pixels)\n",
    "\n",
    "---\n",
    "\n",
    "## 🎯 **Practical Implications**\n",
    "\n",
    "### **For Ground Truth Generation** 📋\n",
    "1. **Primary Recommendation**: Use **Roboflow annotations** as primary ground truth\n",
    "2. **Quality Control**: ImageJ verification for critical measurements in Square ponds\n",
    "3. **Efficiency Gain**: Roboflow's superior performance + speed advantage\n",
    "\n",
    "### **For Algorithm Training** 🤖\n",
    "1. **Training Data**: Roboflow annotations provide more consistent training signals\n",
    "2. **Validation Strategy**: Use ImageJ for independent validation in challenging cases\n",
    "3. **Bias Reduction**: Roboflow's consistency reduces human annotation variability\n",
    "\n",
    "### **For Research Methodology** 🔬\n",
    "1. **Annotation Protocol**: Roboflow-first approach with ImageJ spot-checking\n",
    "2. **Resource Allocation**: Invest in Roboflow workflow optimization\n",
    "3. **Quality Metrics**: Use ImageJ-Roboflow agreement as quality indicator\n",
    "\n",
    "---\n",
    "\n",
    "## 🚀 **Next Steps**\n",
    "\n",
    "The box plots below visualize these error distributions, showing the **spread and central tendencies** that drive these statistical differences across pond environments.\n"
   ]
  },
  {
   "cell_type": "markdown",
   "metadata": {},
   "source": [
    "### pixel error ###"
   ]
  },
  {
   "cell_type": "code",
   "execution_count": 222,
   "metadata": {},
   "outputs": [
    {
     "name": "stdout",
     "output_type": "stream",
     "text": [
      "\n",
      "--- Analysis for Pond Type: circle_female ---\n",
      "Percentage of points where the annotation pixel error is smaller (all pixel error samples): 40.0000%\n",
      "Number of points where the annotation pixel error is smaller (all pixel error samples): 24\n",
      "Mean pixel error: 19.09 pixels\n",
      "Mean annotation pixel error: 22.54 pixels\n",
      "----------------------------------------\n",
      "\n",
      "\n",
      "--- Analysis for Pond Type: circle_male ---\n",
      "Percentage of points where the annotation pixel error is smaller (all pixel error samples): 70.0000%\n",
      "Number of points where the annotation pixel error is smaller (all pixel error samples): 7\n",
      "Mean pixel error: 24.39 pixels\n",
      "Mean annotation pixel error: 17.27 pixels\n",
      "----------------------------------------\n",
      "\n",
      "\n",
      "--- Analysis for Pond Type: square ---\n",
      "Percentage of points where the annotation pixel error is smaller (all pixel error samples): 50.0000%\n",
      "Number of points where the annotation pixel error is smaller (all pixel error samples): 5\n",
      "Mean pixel error: 33.01 pixels\n",
      "Mean annotation pixel error: 32.69 pixels\n",
      "----------------------------------------\n",
      "\n",
      "\n",
      "🎨 Traditional Matplotlib Box Plots for Reference:\n"
     ]
    },
    {
     "data": {
      "image/png": "[encoded data removed]",
      "text/plain": [
       "<Figure size 1800x500 with 3 Axes>"
      ]
     },
     "metadata": {},
     "output_type": "display_data"
    }
   ],
   "source": [
    "# Get unique pond types and prepare data\n",
    "pond_types = df['Pond_Type'].unique()\n",
    "n_pond_types = len(pond_types)\n",
    "\n",
    "# Prepare data for all pond types\n",
    "pond_annotation_data = {}\n",
    "\n",
    "for pond_type in pond_types:\n",
    "    df_pond = df[df['Pond_Type'] == pond_type]\n",
    "    df_pond['pixel_error'] = abs(df_pond['mean_pixels'] - df_pond['pred_Distance_pixels'])\n",
    "    df_pond['annotation_pixel_error'] = abs(df_pond['pred_Distance_pixels'] - df_pond['Length_ground_truth_annotation_pixels'])\n",
    "    df_pond['annotation_pixel_error_smaller'] = df_pond['annotation_pixel_error'] < abs(df_pond['pixel_error'])\n",
    "    \n",
    "    # Print statistics\n",
    "    print(f\"\\n--- Analysis for Pond Type: {pond_type} ---\")\n",
    "    print(f\"Percentage of points where the annotation pixel error is smaller (all pixel error samples): {df_pond['annotation_pixel_error_smaller'].mean()*100:.4f}%\")\n",
    "    print(f\"Number of points where the annotation pixel error is smaller (all pixel error samples): {df_pond['annotation_pixel_error_smaller'].sum()}\")\n",
    "    print(f\"Mean pixel error: {df_pond['pixel_error'].mean():.2f} pixels\")\n",
    "    print(f\"Mean annotation pixel error: {df_pond['annotation_pixel_error'].mean():.2f} pixels\")\n",
    "    print(\"----------------------------------------\\n\")\n",
    "\n",
    "    # Prepare data for plotting\n",
    "    df_long = (df_pond[['pixel_error', 'annotation_pixel_error']]\n",
    "               .rename(columns={'pixel_error': 'ImageJ annotation error', \n",
    "                               'annotation_pixel_error': 'Roboflow Annotation error'})\n",
    "               .melt(var_name='Error_type', value_name='Error_px'))\n",
    "    \n",
    "    pond_annotation_data[pond_type] = df_long\n",
    "\n",
    "# 📊 Create Enhanced Interactive Box Plots with Plotly\n",
    "\n",
    "\n",
    "# 📈 Also create the traditional matplotlib version for comparison\n",
    "print(\"\\n🎨 Traditional Matplotlib Box Plots for Reference:\")\n",
    "fig_mpl, axes = plt.subplots(1, n_pond_types, figsize=(6*n_pond_types, 5))\n",
    "\n",
    "# Handle case where there's only one pond type\n",
    "if n_pond_types == 1:\n",
    "    axes = [axes]\n",
    "\n",
    "annotation_colors = {\n",
    "    'ImageJ annotation error': '#FF6B6B',\n",
    "    'Roboflow Annotation error': '#4ECDC4'\n",
    "}\n",
    "\n",
    "for i, pond_type in enumerate(pond_types):\n",
    "    df_long = pond_annotation_data[pond_type]\n",
    "    \n",
    "    # Create box plot for each pond type with custom colors\n",
    "    box_plot = sns.boxplot(data=df_long, x='Error_type', y='Error_px', \n",
    "                          palette=[annotation_colors['ImageJ annotation error'], \n",
    "                                 annotation_colors['Roboflow Annotation error']], \n",
    "                          ax=axes[i])\n",
    "    \n",
    "    # Customize each subplot\n",
    "    axes[i].set_ylabel('Error (pixels)', fontsize=12)\n",
    "    axes[i].set_xlabel('', fontsize=12)\n",
    "    axes[i].set_title(f'🏊‍♀️ {pond_type.replace(\"_\", \" \").title()} Pond\\nImageJ vs Roboflow Errors', \n",
    "                     fontsize=13, pad=15)\n",
    "    \n",
    "    # Rotate x-axis labels for better readability\n",
    "    axes[i].tick_params(axis='x', rotation=45, labelsize=10)\n",
    "    axes[i].tick_params(axis='y', labelsize=11)\n",
    "    \n",
    "    # Add grid for better readability\n",
    "    axes[i].grid(True, alpha=0.3, axis='y')\n",
    "\n",
    "plt.suptitle('📊 Annotation Method Comparison: Error Distribution Analysis', \n",
    "             fontsize=16, y=1.02)\n",
    "plt.tight_layout()\n",
    "plt.show()\n",
    "    "
   ]
  },
  {
   "cell_type": "markdown",
   "metadata": {
    "vscode": {
     "languageId": "raw"
    }
   },
   "source": [
    "# 📊 Measurement Variability Analysis: Understanding Precision Boundaries\n",
    "\n",
    "## 🎯 **The Quest for Measurement Consistency**\n",
    "\n",
    "In this critical analysis, we explore the **variability and precision** of our prawn measurement system by examining how algorithm predictions compare to manual ground truth measurements across different pond environments.\n",
    "\n",
    "### 🔬 **What We're Investigating**\n",
    "\n",
    "#### 📏 **Measurement Precision Questions**\n",
    "- How consistent are our algorithm's measurements compared to manual measurements?\n",
    "- Do different pond types show different levels of measurement variability?\n",
    "- What are the **precision boundaries** within which we can trust our measurements?\n",
    "\n",
    "#### 🎯 **Standard Deviation Analysis**\n",
    "- **Standard Deviation Boundaries**: `±std_length` zones around the perfect agreement line\n",
    "- **Agreement Rates**: Percentage of measurements falling within acceptable precision bounds\n",
    "- **Outlier Identification**: Measurements that fall outside expected variability ranges\n",
    "\n",
    "---\n",
    "\n",
    "## 🧮 **Mathematical Framework**\n",
    "\n",
    "### **Perfect Agreement Line**\n",
    "```\n",
    "y = x (where Manual Measurement = Algorithm Prediction)\n",
    "```\n",
    "\n",
    "### **Precision Boundaries**\n",
    "```\n",
    "Upper Bound: y = x + std_length\n",
    "Lower Bound: y = x - std_length\n",
    "```\n",
    "\n",
    "### **Agreement Metric**\n",
    "```\n",
    "Within Bounds % = (Measurements within ±std boundaries / Total Measurements) × 100\n",
    "```\n",
    "\n",
    "---\n",
    "\n",
    "## 🔍 **Analysis Components**\n",
    "\n",
    "### 1. **Scatter Plot Visualization** 📈\n",
    "- **X-axis**: Manual measurements (ground truth)\n",
    "- **Y-axis**: Algorithm predictions\n",
    "- **Perfect Line**: Diagonal line showing ideal agreement\n",
    "- **Precision Zones**: Shaded areas showing acceptable variability\n",
    "\n",
    "### 2. **Statistical Summary** 📊\n",
    "For each pond type, we calculate:\n",
    "- **Mean Length**: Average prawn size in that environment\n",
    "- **Standard Deviation**: Measurement variability baseline\n",
    "- **Sample Size**: Number of prawns measured\n",
    "- **Agreement Rate**: Percentage within precision boundaries\n",
    "\n",
    "### 3. **Interactive Features** 🖱️\n",
    "- **Hover Information**: Shows image name and prawn ID for each point\n",
    "- **Pond-Specific Analysis**: Separate plots for each environment\n",
    "- **Outlier Investigation**: Easy identification of problematic measurements\n",
    "\n",
    "---\n",
    "\n",
    "## 🎪 **Expected Insights**\n",
    "\n",
    "### **Hypothesis 1: Environment-Dependent Precision** 🏊‍♀️\n",
    "Different pond types may show different measurement precision:\n",
    "- **Circle Female**: Expected high precision (controlled environment)\n",
    "- **Circle Male**: Potentially higher variability (behavioral differences)\n",
    "- **Square**: Possible geometric effects on measurement accuracy\n",
    "\n",
    "### **Hypothesis 2: Size-Dependent Accuracy** 📏\n",
    "- **Larger prawns**: Potentially better measurement precision\n",
    "- **Smaller prawns**: Higher relative measurement uncertainty\n",
    "- **Size-environment interaction**: Combined effects of prawn size and pond type\n",
    "\n",
    "### **Hypothesis 3: Systematic vs Random Errors** 🎯\n",
    "- **Random scatter**: Indicates measurement noise\n",
    "- **Systematic bias**: Consistent over/under-estimation patterns\n",
    "- **Outlier clusters**: Specific problematic conditions\n",
    "\n",
    "---\n",
    "\n",
    "## 🚀 **Practical Applications**\n",
    "\n",
    "### **Quality Control Metrics**\n",
    "- **Acceptance Criteria**: Define measurement precision thresholds\n",
    "- **Outlier Detection**: Identify measurements requiring manual verification\n",
    "- **System Validation**: Establish confidence intervals for automated measurements\n",
    "\n",
    "### **Algorithm Improvement**\n",
    "- **Error Pattern Analysis**: Identify systematic biases for correction\n",
    "- **Environment-Specific Tuning**: Optimize parameters for different pond types\n",
    "- **Precision Enhancement**: Focus development on high-variability conditions\n",
    "\n",
    "---\n",
    "\n",
    "## 📈 **Let's Explore the Precision Landscape!**\n",
    "\n",
    "The following analysis will reveal the **measurement precision characteristics** of our system and establish the **reliability boundaries** for automated prawn measurement across different aquaculture environments...\n"
   ]
  },
  {
   "cell_type": "markdown",
   "metadata": {},
   "source": [
    "#variability"
   ]
  },
  {
   "cell_type": "markdown",
   "metadata": {
    "vscode": {
     "languageId": "raw"
    }
   },
   "source": [
    "# 🎯 Measurement Variability Results: Precision Insights Revealed\n",
    "\n",
    "## 📊 **Statistical Precision Summary**\n",
    "\n",
    "### 🟢 **Circle Female Pond** (Largest & Most Precise)\n",
    "- **📏 Mean Length**: `34.72mm` (largest prawns)\n",
    "- **📊 Standard Deviation**: `3.16mm` (moderate variability)\n",
    "- **🦐 Sample Size**: `95 measurements` (largest dataset)\n",
    "- **🎯 Characteristics**: **Best balance of size and precision**\n",
    "\n",
    "### 🔴 **Circle Male Pond** (Smallest & Most Consistent)\n",
    "- **📏 Mean Length**: `25.09mm` (smallest prawns)\n",
    "- **📊 Standard Deviation**: `3.05mm` (lowest variability)\n",
    "- **🦐 Sample Size**: `13 measurements` (smallest dataset)\n",
    "- **🎯 Characteristics**: **Highest precision despite small size**\n",
    "\n",
    "### 🟡 **Square Pond** (Large with Moderate Precision)\n",
    "- **📏 Mean Length**: `36.66mm` (largest mean size)\n",
    "- **📊 Standard Deviation**: `3.21mm` (highest variability)\n",
    "- **🦐 Sample Size**: `32 measurements` (medium dataset)\n",
    "- **🎯 Characteristics**: **Largest prawns but highest measurement uncertainty**\n",
    "\n",
    "---\n",
    "\n",
    "## 🔍 **Critical Discoveries**\n",
    "\n",
    "### 1. **Size vs Precision Paradox** 📏\n",
    "**Surprising Finding**: Smaller prawns (Circle Male) show **better measurement consistency**!\n",
    "- **Expected**: Larger prawns → better precision\n",
    "- **Reality**: Circle Male (25.09mm) has lowest std (3.05mm)\n",
    "- **Implication**: Algorithm precision is **not simply size-dependent**\n",
    "\n",
    "### 2. **Environment-Specific Precision Patterns** 🏊‍♀️\n",
    "\n",
    "#### **Circle Male = Precision Champion** 🏆\n",
    "- **Lowest variability** (3.05mm std) despite smallest size\n",
    "- Possibly due to **controlled environment** and **behavioral consistency**\n",
    "- **Male prawns** may have more predictable positioning/posture\n",
    "\n",
    "#### **Square Pond = Precision Challenge** ⚠️\n",
    "- **Highest variability** (3.21mm std) despite largest prawns\n",
    "- **Complex geometry** creates measurement challenges\n",
    "- **Lighting/perspective effects** in rectangular environment\n",
    "\n",
    "#### **Circle Female = Balanced Performance** ⚖️\n",
    "- **Moderate precision** (3.16mm std) with largest sample size\n",
    "- **Optimal size-precision balance** for reliable measurements\n",
    "- **Most representative** environment for system validation\n",
    "\n",
    "### 3. **Sample Size vs Reliability** 📈\n",
    "\n",
    "**Statistical Confidence Levels**:\n",
    "- **Circle Female**: 95 measurements → **High statistical confidence**\n",
    "- **Square**: 32 measurements → **Moderate confidence**\n",
    "- **Circle Male**: 13 measurements → **Limited confidence** (needs more data)\n",
    "\n",
    "---\n",
    "\n",
    "## 🎯 **Precision Boundary Analysis**\n",
    "\n",
    "### **±Standard Deviation Zones**\n",
    "The scatter plots show **precision boundaries** where we expect measurements to fall:\n",
    "\n",
    "#### **Acceptable Precision Range**\n",
    "- **Circle Female**: ±3.16mm around perfect agreement\n",
    "- **Circle Male**: ±3.05mm around perfect agreement  \n",
    "- **Square**: ±3.21mm around perfect agreement\n",
    "\n",
    "#### **Quality Control Thresholds**\n",
    "- **Green Zone**: Within ±1 std (68% of measurements expected)\n",
    "- **Yellow Zone**: Within ±2 std (95% of measurements expected)\n",
    "- **Red Zone**: Beyond ±2 std (outliers requiring investigation)\n",
    "\n",
    "---\n",
    "\n",
    "## 🚀 **Practical Implications**\n",
    "\n",
    "### **For Aquaculture Operations** 🐟\n",
    "1. **Circle Female ponds**: **Primary choice** for automated measurement (best balance)\n",
    "2. **Circle Male ponds**: **High precision** but need larger sample sizes\n",
    "3. **Square ponds**: **Exercise caution** - higher measurement uncertainty\n",
    "\n",
    "### **For Algorithm Deployment** 🤖\n",
    "1. **Confidence Intervals**: Use pond-specific std values for uncertainty estimates\n",
    "2. **Quality Control**: Flag measurements beyond ±2 std for manual verification\n",
    "3. **Environment Optimization**: Focus on reducing Square pond measurement variability\n",
    "\n",
    "### **For Research Design** 🔬\n",
    "1. **Sample Size Planning**: Circle Male needs more measurements for statistical power\n",
    "2. **Precision Requirements**: Circle Female provides most reliable baseline\n",
    "3. **Method Validation**: Use environment-specific precision thresholds\n",
    "\n",
    "---\n",
    "\n",
    "## 📈 **Next Steps**\n",
    "\n",
    "The **interactive scatter plots below** allow you to:\n",
    "- **Hover over points** to see specific image names and prawn IDs\n",
    "- **Identify outliers** that fall outside precision boundaries\n",
    "- **Compare agreement patterns** across different pond environments\n",
    "- **Assess systematic biases** in algorithm performance\n"
   ]
  },
  {
   "cell_type": "code",
   "execution_count": 223,
   "metadata": {},
   "outputs": [
    {
     "name": "stdout",
     "output_type": "stream",
     "text": [
      "✅ Error cancellation analysis functions loaded!\n",
      "📋 Available functions:\n",
      "   🔍 analyze_error_cancellation() - Analyze error patterns\n",
      "   🎨 print_error_summary() - Display formatted results\n",
      "   📊 create_error_visualization() - Generate visualizations\n"
     ]
    }
   ],
   "source": [
    "def analyze_error_cancellation(df: pd.DataFrame, pond_type: str) -> Dict[str, any]:\n",
    "    \"\"\"\n",
    "    🔍 Analyze error cancellation patterns for a specific pond type.\n",
    "    \n",
    "    This function calculates pixel errors, scale errors, and their interaction\n",
    "    to understand how measurement errors behave in different pond environments.\n",
    "    \n",
    "    Args:\n",
    "        df: DataFrame containing measurement data for a specific pond\n",
    "        pond_type: Name of the pond type being analyzed\n",
    "        \n",
    "    Returns:\n",
    "        Dictionary containing analysis results and processed DataFrame\n",
    "    \"\"\"\n",
    "    df_pond = df[df['Pond_Type'] == pond_type].copy().reset_index(drop=True)\n",
    "    \n",
    "    # 📏 Calculate error components\n",
    "    mm_per_px_gt = 10 / df_pond['mean_scale']\n",
    "    mm_per_px_pred = 10 / df_pond['pred_scale']\n",
    "    \n",
    "    df_pond['pixel_error_mm'] = abs(df_pond['mean_pixels'] - df_pond['pred_Distance_pixels']) * mm_per_px_gt\n",
    "    df_pond['scale_error_mm'] = df_pond['mean_pixels'] * (mm_per_px_gt - mm_per_px_pred)\n",
    "    \n",
    "    # 🎭 Identify cancellation patterns\n",
    "    partial_cancel_mask = (df_pond['pixel_error_mm'] * df_pond['scale_error_mm'] < 0)\n",
    "    percent_partial_cancel = 100 * partial_cancel_mask.sum() / len(df_pond) if len(df_pond) > 0 else 0\n",
    "    \n",
    "    # 📊 Calculate cancellation magnitude\n",
    "    if partial_cancel_mask.any():\n",
    "        uncancelled_error = (abs(df_pond.loc[partial_cancel_mask, 'pixel_error_mm']) + \n",
    "                           abs(df_pond.loc[partial_cancel_mask, 'scale_error_mm']))\n",
    "        actual_total_error = abs(df_pond.loc[partial_cancel_mask, 'pixel_error_mm'] + \n",
    "                               df_pond.loc[partial_cancel_mask, 'scale_error_mm'])\n",
    "        cancellation_magnitude = uncancelled_error - actual_total_error\n",
    "        \n",
    "        df_pond.loc[partial_cancel_mask, 'cancellation_mm'] = cancellation_magnitude\n",
    "        mean_cancellation = cancellation_magnitude.mean()\n",
    "        cancellation_percent = mean_cancellation / df_pond[\"Length_fov(mm)\"].abs().mean() * 100\n",
    "    else:\n",
    "        mean_cancellation = 0\n",
    "        cancellation_percent = 0\n",
    "    \n",
    "    # 🏆 Determine error dominance\n",
    "    df_pond['dominant_error'] = np.where(\n",
    "        abs(df_pond['scale_error_mm']) > abs(df_pond['pixel_error_mm']),\n",
    "        'Scale Error', 'Pixel Error'\n",
    "    )\n",
    "    \n",
    "    dominant_stats = df_pond['dominant_error'].value_counts(normalize=True) * 100\n",
    "    \n",
    "    return {\n",
    "        'data': df_pond,\n",
    "        'sample_count': len(df_pond),\n",
    "        'cancellation_percent': percent_partial_cancel,\n",
    "        'mean_cancellation_mm': mean_cancellation,\n",
    "        'cancellation_relative_percent': cancellation_percent,\n",
    "        'scale_dominant_percent': dominant_stats.get('Scale Error', 0),\n",
    "        'pixel_dominant_percent': dominant_stats.get('Pixel Error', 0)\n",
    "    }\n",
    "\n",
    "def print_error_summary(pond_type: str, results: Dict[str, any]) -> None:\n",
    "    \"\"\"\n",
    "    🎨 Print a beautifully formatted summary of error analysis results.\n",
    "    \"\"\"\n",
    "    print(f\"\\n🏊‍♀️ === {pond_type.upper()} POND ANALYSIS === 🦐\")\n",
    "    print(f\"📊 Sample Size: {results['sample_count']} measurements\")\n",
    "    print(f\"\\n🎭 ERROR CANCELLATION MAGIC:\")\n",
    "    print(f\"   ✨ Partial cancellation occurs in {results['cancellation_percent']:.1f}% of cases\")\n",
    "    print(f\"   🎪 Average cancellation magnitude: {results['mean_cancellation_mm']:.2f}mm\")\n",
    "    print(f\"   📏 Relative to prawn size: {results['cancellation_relative_percent']:.1f}%\")\n",
    "    print(f\"\\n🏆 ERROR DOMINANCE BATTLE:\")\n",
    "    print(f\"   🔍 Pixel Error wins: {results['pixel_dominant_percent']:.1f}% of the time\")\n",
    "    print(f\"   📐 Scale Error wins: {results['scale_dominant_percent']:.1f}% of the time\")\n",
    "    print(\"─\" * 60)\n",
    "\n",
    "def create_error_visualization(pond_results: Dict[str, Dict]) -> None:\n",
    "    \"\"\"\n",
    "    🎨 Create stunning visualizations of error patterns across pond types.\n",
    "    \"\"\"\n",
    "    pond_types = list(pond_results.keys())\n",
    "    n_ponds = len(pond_types)\n",
    "    \n",
    "    # 🎯 Scatter plot: Error vs Cancellation\n",
    "    fig_scatter, axes = plt.subplots(1, n_ponds, figsize=(6*n_ponds, 5))\n",
    "    if n_ponds == 1:\n",
    "        axes = [axes]\n",
    "    \n",
    "    for i, pond_type in enumerate(pond_types):\n",
    "        df_pond = pond_results[pond_type]['data']\n",
    "        color = POND_COLORS.get(pond_type, '#333333')\n",
    "        \n",
    "        # Only plot points with cancellation data\n",
    "        mask = df_pond['cancellation_mm'].notna()\n",
    "        if mask.any():\n",
    "            axes[i].scatter(df_pond.loc[mask, 'pixel_error_mm'], \n",
    "                          df_pond.loc[mask, 'cancellation_mm'],\n",
    "                          alpha=0.7, s=80, color=color, edgecolors='white', linewidth=0.5,\n",
    "                          label=f'{pond_type.replace(\"_\", \" \").title()}')\n",
    "        \n",
    "        axes[i].set_xlabel('Pixel Error (mm)', fontsize=12)\n",
    "        axes[i].set_ylabel('Cancellation Magnitude (mm)', fontsize=12)\n",
    "        axes[i].set_title(f'🎭 Error Cancellation Dance\\n{pond_type.replace(\"_\", \" \").title()}', \n",
    "                         fontsize=14, pad=20)\n",
    "        axes[i].grid(True, alpha=0.3)\n",
    "        axes[i].legend()\n",
    "    \n",
    "    plt.tight_layout()\n",
    "    plt.show()\n",
    "    \n",
    "    # 📊 Interactive bar plot with Plotly - with consistent colors\n",
    "    fig_bar = make_subplots(\n",
    "        rows=1, cols=n_ponds,\n",
    "        subplot_titles=[f'🦐 {pond_type.replace(\"_\", \" \").title()}' for pond_type in pond_types],\n",
    "        shared_yaxes=True\n",
    "    )\n",
    "    \n",
    "    # Define consistent colors for error types\n",
    "    pixel_error_color = '#FF6B6B'  # Coral red for pixel errors\n",
    "    scale_error_color = '#4ECDC4'  # Teal for scale errors\n",
    "    \n",
    "    for i, pond_type in enumerate(pond_types):\n",
    "        df_pond = pond_results[pond_type]['data']\n",
    "        \n",
    "        # Pixel Error bars - consistent color across all ponds\n",
    "        fig_bar.add_trace(\n",
    "            go.Bar(\n",
    "                name='🔍 Pixel Error' if i == 0 else '',\n",
    "                x=df_pond.index,\n",
    "                y=df_pond['pixel_error_mm'],\n",
    "                marker_color=pixel_error_color,\n",
    "                opacity=0.8,\n",
    "                showlegend=(i == 0),\n",
    "                legendgroup='pixel',  # Group legend items\n",
    "                hovertemplate=\"<b>Measurement #%{x}</b><br>\" +\n",
    "                            \"🖼️ Image: %{customdata[0]}<br>\" +\n",
    "                            \"🦐 Prawn ID: %{customdata[1]}<br>\" +\n",
    "                            \"📏 GT Length: %{customdata[2]:.1f}mm<br>\" +\n",
    "                            \"🤖 Pred Length: %{customdata[3]:.1f}mm<br>\" +\n",
    "                            \"🔍 Pixel Error: %{y:.1f}mm<extra></extra>\",\n",
    "                customdata=df_pond[['Label', 'PrawnID', 'mean_length', 'Length_fov(mm)']].values\n",
    "            ),\n",
    "            row=1, col=i+1\n",
    "        )\n",
    "        \n",
    "        # Scale Error bars - consistent color across all ponds\n",
    "        fig_bar.add_trace(\n",
    "            go.Bar(\n",
    "                name='📐 Scale Error' if i == 0 else '',\n",
    "                x=df_pond.index,\n",
    "                y=df_pond['scale_error_mm'],\n",
    "                marker_color=scale_error_color,\n",
    "                opacity=0.8,\n",
    "                showlegend=(i == 0),\n",
    "                legendgroup='scale',  # Group legend items\n",
    "                hovertemplate=\"<b>Measurement #%{x}</b><br>\" +\n",
    "                            \"🖼️ Image: %{customdata[0]}<br>\" +\n",
    "                            \"🦐 Prawn ID: %{customdata[1]}<br>\" +\n",
    "                            \"📏 GT Length: %{customdata[2]:.1f}mm<br>\" +\n",
    "                            \"🤖 Pred Length: %{customdata[3]:.1f}mm<br>\" +\n",
    "                            \"📐 Scale Error: %{y:.1f}mm<extra></extra>\",\n",
    "                customdata=df_pond[['Label', 'PrawnID', 'mean_length', 'Length_fov(mm)']].values\n",
    "            ),\n",
    "            row=1, col=i+1\n",
    "        )\n",
    "    \n",
    "    fig_bar.update_layout(\n",
    "        barmode='relative',\n",
    "        title_text='🎪 Error Components: The Great Measurement Circus',\n",
    "        title_font_size=18,\n",
    "        width=450*n_ponds,\n",
    "        height=650,\n",
    "        showlegend=True,\n",
    "        legend=dict(\n",
    "            orientation=\"h\",\n",
    "            yanchor=\"bottom\",\n",
    "            y=1.02,\n",
    "            xanchor=\"center\",\n",
    "            x=0.5\n",
    "        )\n",
    "    )\n",
    "    \n",
    "    # Update axes\n",
    "    for i in range(n_ponds):\n",
    "        fig_bar.update_xaxes(title_text='Measurement Index', row=1, col=i+1)\n",
    "    fig_bar.update_yaxes(title_text='Error Magnitude (mm)', row=1, col=1)\n",
    "    \n",
    "    fig_bar.show()\n",
    "\n",
    "# Store the functions for later use\n",
    "print(\"✅ Error cancellation analysis functions loaded!\")\n",
    "print(\"📋 Available functions:\")\n",
    "print(\"   🔍 analyze_error_cancellation() - Analyze error patterns\")\n",
    "print(\"   🎨 print_error_summary() - Display formatted results\")\n",
    "print(\"   📊 create_error_visualization() - Generate visualizations\")\n"
   ]
  },
  {
   "cell_type": "code",
   "execution_count": 224,
   "metadata": {},
   "outputs": [
    {
     "name": "stdout",
     "output_type": "stream",
     "text": [
      "🚀 Starting comprehensive measurement precision analysis...\n",
      "📊 Analyzing algorithm-manual agreement patterns across pond environments\n",
      "================================================================================\n",
      "\n",
      "📈 PHASE 1: Calculating precision metrics for each pond type...\n",
      "\n",
      "🏊‍♀️ --- Circle Female Pond Analysis ---\n",
      "📏 Mean prawn length: 32.43mm\n",
      "📊 Standard deviation: 2.88mm\n",
      "🦐 Sample size: 60 measurements\n",
      "✅ Agreement rate (within ±2.9mm): 68.3%\n",
      "──────────────────────────────────────────────────\n",
      "\n",
      "🏊‍♀️ --- Circle Male Pond Analysis ---\n",
      "📏 Mean prawn length: 24.61mm\n",
      "📊 Standard deviation: 3.42mm\n",
      "🦐 Sample size: 10 measurements\n",
      "✅ Agreement rate (within ±3.4mm): 70.0%\n",
      "──────────────────────────────────────────────────\n",
      "\n",
      "🏊‍♀️ --- Square Pond Analysis ---\n",
      "📏 Mean prawn length: 32.32mm\n",
      "📊 Standard deviation: 3.10mm\n",
      "🦐 Sample size: 10 measurements\n",
      "✅ Agreement rate (within ±3.1mm): 50.0%\n",
      "──────────────────────────────────────────────────\n",
      "\n",
      "🎨 PHASE 2: Creating interactive precision scatter plots...\n",
      "✨ Interactive scatter plot created successfully!\n",
      "🎯 Visualization includes:\n",
      "   📍 Measurement points with detailed hover information\n",
      "   📐 Perfect agreement line (y=x diagonal)\n",
      "   📊 Precision boundaries (±standard deviation)\n",
      "   🏊‍♀️ Pond-specific color coding and statistics\n"
     ]
    },
    {
     "data": {
      "application/vnd.plotly.v1+json": {
       "config": {
        "plotlyServerURL": "https://plot.ly"
       },
       "data": [
        {
         "customdata": [
          [
           "carapace:undistorted_GX010067_33_625.jpg_gamma",
           "Prawn_1",
           -0.9929867889900379
          ],
          [
           "carapace:undistorted_GX010067_33_625.jpg_gamma",
           "Prawn_3",
           -1.8054156587225414
          ],
          [
           "carapace:undistorted_GX010068_26_666.jpg_gamma",
           "Prawn_1",
           -3.6060033572846955
          ],
          [
           "carapace:undistorted_GX010068_26_666.jpg_gamma",
           "Prawn_2",
           -0.707912456920603
          ],
          [
           "carapace:undistorted_GX010068_27_795.jpg_gamma",
           "Prawn_1",
           -2.6377498489411124
          ],
          [
           "carapace:undistorted_GX010069_19_191.jpg_gamma",
           "Prawn_0",
           0.14759232790174082
          ],
          [
           "carapace:undistorted_GX010069_19_191.jpg_gamma",
           "Prawn_1",
           -2.6229591630203473
          ],
          [
           "carapace:undistorted_GX010069_19_191.jpg_gamma",
           "Prawn_2",
           -2.306864835850387
          ],
          [
           "carapace:undistorted_GX010069_19_191.jpg_gamma",
           "Prawn_3",
           -1.5361673266493554
          ],
          [
           "carapace:undistorted_GX010069_53_796.jpg_gamma",
           "Prawn_1",
           1.5206719341821113
          ],
          [
           "carapace:undistorted_GX010073_55_1014.jpg_gamma",
           "Prawn_3",
           -4.082820370347612
          ],
          [
           "carapace:undistorted_GX010077_14_237.jpg_gamma",
           "Prawn_0",
           -3.3698708961454678
          ],
          [
           "carapace:undistorted_GX010077_14_237.jpg_gamma",
           "Prawn_2",
           -3.9662168916371563
          ],
          [
           "carapace:undistorted_GX010080_157_2283.jpg_gamma",
           "Prawn_0",
           4.555398768015376
          ],
          [
           "carapace:undistorted_GX010080_157_2283.jpg_gamma",
           "Prawn_3",
           -2.4526523601488535
          ],
          [
           "carapace:undistorted_GX010080_157_2283.jpg_gamma",
           "Prawn_4",
           -0.8808693162157368
          ],
          [
           "carapace:undistorted_GX010080_193_2640.jpg_gamma",
           "Prawn_0",
           -3.473992023937253
          ],
          [
           "carapace:undistorted_GX010080_212_2954.jpg_gamma",
           "Prawn_0",
           3.6567808616257658
          ],
          [
           "carapace:undistorted_GX010080_212_2954.jpg_gamma",
           "Prawn_1",
           0.12182496662360265
          ],
          [
           "carapace:undistorted_GX010080_212_2954.jpg_gamma",
           "Prawn_2",
           -1.7998417000430678
          ],
          [
           "carapace:undistorted_GX010080_237_3366.jpg_gamma",
           "Prawn_0",
           1.6934361935394193
          ],
          [
           "carapace:undistorted_GX010080_237_3366.jpg_gamma",
           "Prawn_1",
           -2.0091577237569354
          ],
          [
           "carapace:undistorted_GX010080_237_3366.jpg_gamma",
           "Prawn_2",
           -4.21076294327575
          ],
          [
           "carapace:undistorted_GX010080_238_3392.jpg_gamma",
           "Prawn_0",
           -1.4348442229667953
          ],
          [
           "carapace:undistorted_GX010080_238_3392.jpg_gamma",
           "Prawn_4",
           2.7288858591502816
          ],
          [
           "carapace:undistorted_GX010082_8_59.jpg_gamma",
           "Prawn_1",
           -2.0833634014797227
          ],
          [
           "carapace:undistorted_GX010082_8_59.jpg_gamma",
           "Prawn_3",
           -0.467830326648091
          ],
          [
           "carapace:undistorted_GX010082_8_59.jpg_gamma",
           "Prawn_4",
           1.0236135054818654
          ],
          [
           "carapace:undistorted_GX010082_53_796.jpg_gamma",
           "Prawn_0",
           -1.5353847151448718
          ],
          [
           "carapace:undistorted_GX010082_53_796.jpg_gamma",
           "Prawn_1",
           2.5385149050746527
          ],
          [
           "carapace:undistorted_GX010082_65_1070.jpg_gamma",
           "Prawn_0",
           2.01679723366507
          ],
          [
           "carapace:undistorted_GX010082_65_1070.jpg_gamma",
           "Prawn_2",
           -2.146216315551328
          ],
          [
           "carapace:undistorted_GX010082_236_3137.jpg_gamma",
           "Prawn_0",
           1.759150904403576
          ],
          [
           "carapace:undistorted_GX010082_236_3137.jpg_gamma",
           "Prawn_1",
           2.0888245695540064
          ],
          [
           "carapace:undistorted_GX010082_236_3137.jpg_gamma",
           "Prawn_2",
           -1.2921611793541885
          ],
          [
           "carapace:undistorted_GX010082_236_3137.jpg_gamma",
           "Prawn_3",
           1.8078175710702453
          ],
          [
           "carapace:undistorted_GX010084_30_344.jpg_gamma",
           "Prawn_5",
           -2.274317152468697
          ],
          [
           "carapace:undistorted_GX010084_130_1748.jpg_gamma",
           "Prawn_0",
           -3.821161746155319
          ],
          [
           "carapace:undistorted_GX010085_261_3610.jpg_gamma",
           "Prawn_1",
           -0.5014169603610554
          ],
          [
           "carapace:undistorted_GX010085_261_3610.jpg_gamma",
           "Prawn_2",
           -3.6105355518193534
          ],
          [
           "carapace:undistorted_GX010088_209_2904.jpg_gamma",
           "Prawn_1",
           -3.84834867310218
          ],
          [
           "carapace:undistorted_GX010090_132_1852.jpg_gamma",
           "Prawn_0",
           0.5065489963908476
          ],
          [
           "carapace:undistorted_GX010094_9_129.jpg_gamma",
           "Prawn_0",
           2.0148222834577147
          ],
          [
           "carapace:undistorted_GX010094_9_129.jpg_gamma",
           "Prawn_1",
           -4.915519104058998
          ],
          [
           "carapace:undistorted_GX010094_24_430.jpg_gamma",
           "Prawn_1",
           -2.5712762592706255
          ],
          [
           "carapace:undistorted_GX010094_24_430.jpg_gamma",
           "Prawn_2",
           -2.8217505586262064
          ],
          [
           "carapace:undistorted_GX010094_93_1258.jpg_gamma",
           "Prawn_0",
           4.607394067290045
          ],
          [
           "carapace:undistorted_GX010094_93_1258.jpg_gamma",
           "Prawn_1",
           -2.0392725993766234
          ],
          [
           "carapace:undistorted_GX010094_163_2312.jpg_gamma",
           "Prawn_0",
           -0.7891337543223287
          ],
          [
           "carapace:undistorted_GX010096_107_1571.jpg_gamma",
           "Prawn_0",
           -4.654306156641152
          ],
          [
           "carapace:undistorted_GX010097_32_528.jpg_gamma",
           "Prawn_1",
           -3.2317331664463538
          ],
          [
           "carapace:undistorted_GX010097_60_1080.jpg_gamma",
           "Prawn_0",
           -4.683603893283504
          ],
          [
           "carapace:undistorted_GX010097_60_1080.jpg_gamma",
           "Prawn_1",
           -4.87886749098147
          ],
          [
           "carapace:undistorted_GX010097_105_1651.jpg_gamma",
           "Prawn_0",
           -1.6211366941379453
          ],
          [
           "carapace:undistorted_GX010097_105_1651.jpg_gamma",
           "Prawn_1",
           -2.151786430375502
          ],
          [
           "carapace:undistorted_GX010097_105_1651.jpg_gamma",
           "Prawn_2",
           -4.283678613164415
          ],
          [
           "carapace:undistorted_GX010097_105_1651.jpg_gamma",
           "Prawn_3",
           1.829468345093634
          ],
          [
           "carapace:undistorted_GX010097_124_1870.jpg_gamma",
           "Prawn_0",
           1.2151414881824394
          ],
          [
           "carapace:undistorted_GX010097_124_1870.jpg_gamma",
           "Prawn_1",
           -3.7957888741097676
          ],
          [
           "carapace:undistorted_GX010101_12_173.jpg_gamma",
           "Prawn_0",
           -1.4219884046095004
          ]
         ],
         "hovertemplate": "<b>🦐 Prawn Measurement</b><br>🏊‍♀️ Pond: Circle Female<br>🖼️ Image: %{customdata[0]}<br>🆔 Prawn ID: %{customdata[1]}<br>📏 Manual: %{x:.1f}mm<br>🤖 Algorithm: %{y:.1f}mm<br>📊 Difference: %{customdata[2]:.1f}mm<br><extra></extra>",
         "marker": {
          "color": "#FF6B6B",
          "line": {
           "color": "white",
           "width": 1
          },
          "opacity": 0.8,
          "size": 8
         },
         "mode": "markers",
         "name": "🦐 Measurements",
         "showlegend": true,
         "type": "scatter",
         "x": {
          "bdata": "pZvEILCyOkCT0duyVkc4QBODwMqhRUFA35a1OiZoQEBQRm/LWn1CQA4tsp3vZz9A7+7u7u5eQEDFZ9gVIHc7QIFOG+i0QT9AWfKLJb94QkAcoYzelrU8QE3wYJ6oPzpA8dJNYhAoQUC0D59hV4A6QAAAAAAAkEFAOyZ4ME8EQUALkHvNhURBQFcOLbKdrzxAVQ4tsp3PP0DxGXYFyN1AQEiaUnH2EUJA+cWSXyw5QkBxPQrXoxA/QCoVZx8+Y0JASJpScfaRQECDwMqhRTZBQIcW2c73c0JAK84+fIa9OkDQaQOdNtBCQBvotIFOGzVAukkMAisHO0BMN4lBYMVBQIuzD59hlzRAv58aL900QECl4uzDZyhDQHH24TPsijRAzBP1b4TCQEBqA5020MlBQMh2vp8aD0JAA5020GkDPkAcoYzeluVCQAc6baDTlkFA0CLb+X6qOEDtw2fYFfBAQFFGb8taPUFAgCOU0duyQEDw7u7u7u48QAvXo3A9ykFAi2zn+6khQkB3vp8aL41BQNuyVscEzz5Avp8aL93EQkAMAiuHFrk7QMl2vp8af0JA7AqQe82lRUBZq2OCBzNAQMVn2BUgFz5Ax0s3iUFgPUAlTak4+xA/QEPSlIqzD0VA",
          "dtype": "f8"
         },
         "xaxis": "x",
         "y": {
          "bdata": "JYnsvnu0OUBG62H6Jnk2QFU4SIwg8D5ACCOcWokNQEC+KPMBuStBQIynDzq4jT9AZPNtnWMePkCyIjZkkSg5QPcpDqVyuD1ARpNMhmQ7Q0Ayi04nY6A4QG5AdsL44DZAPzkdx8ZYPkAT7bf+hQ4/QAtaynwPVkBAFY0T3Y6TQED/v2UQtA8/QE4wRz7gK0BAaIr0nc3uP0BoivSdze4/QPEoufW46kJAnsAESwA4QUB2qZ1Hr9o6QI/VrCWVq0FA5mISk0LvQUCOO+X6mStAQJ6SoPEVOEJACJggBZLDO0AmQIIgrwtCQGCclp4qpTdA8Yrd1HcLPUCsfy4KqbJAQPHXwlW5WTZAKUiZyTtAQUBOpFE6AoNCQPHXwlW5WTZA3JHLOc8+P0A2kD3FaME/QD5CazHszkFA/4BiwR1nOkAEVxUuAPlAQAfjYzmq10FAw9aBXkquOkDruww7zPU8QDQArG126D9AEIKJZFmTPkBA3TKONsVAQEDdMo42xUBAlO4tpqe8QUCPJIeZ3XI+QL1p8+mxkztAqhYE2lxtQECauW8RGdg2QEehgDeZr0FAr9Kyvl+SREANOWnbbx08QFambx946z9AZw1vDFWXPkCvetRmQkU7QN5GRtOvWURA",
          "dtype": "f8"
         },
         "yaxis": "y"
        },
        {
         "hovertemplate": "Perfect Agreement Line<br>Manual = Algorithm<extra></extra>",
         "line": {
          "color": "black",
          "dash": "dash",
          "width": 2
         },
         "mode": "lines",
         "name": "📐 Perfect Agreement (y=x)",
         "showlegend": true,
         "type": "scatter",
         "x": {
          "bdata": "cfbhM+yKNECUPCMCwsU0QLaCZNCXADVA2cilnm07NUD8DudsQ3Y1QB5VKDsZsTVAQZtpCe/rNUBk4arXxCY2QIYn7KWaYTZAqW0tdHCcNkDMs25CRtc2QO75rxAcEjdAEUDx3vFMN0A0hjKtx4c3QFbMc3udwjdAeRK1SXP9N0CcWPYXSTg4QL6eN+YeczhA4eR4tPStOEAEK7qCyug4QCZx+1CgIzlASbc8H3ZeOUBs/X3tS5k5QI5Dv7sh1DlAsYkAivcOOkDUz0FYzUk6QPYVgyajhDpAGVzE9Hi/OkA8ogXDTvo6QF7oRpEkNTtAgS6IX/pvO0CjdMkt0Ko7QMa6Cvyl5TtA6QBMynsgPEALR42YUVs8QC6NzmYnljxAUNMPNf3QPEB0GVED0ws9QJZfktGoRj1AuKXTn36BPUDb6xRuVLw9QP4xVjwq9z1AIHiXCgAyPkBDvtjY1Ww+QGYEGqerpz5AiEpbdYHiPkCrkJxDVx0/QM7W3REtWD9A8Bwf4AKTP0ATY2Cu2M0/QJvUUD5XBEBArHdxJcIhQEC+GpIMLT9AQM+9svOXXEBA4GDT2gJ6QEDyA/TBbZdAQAOnFKnYtEBAFEo1kEPSQEAm7VV3ru9AQDeQdl4ZDUFASDOXRYQqQUBa1rcs70dBQGt52BNaZUFAfBz5+sSCQUCOvxniL6BBQJ9iOsmavUFAsAVbsAXbQUDCqHuXcPhBQNNLnH7bFUJA5O68ZUYzQkD2kd1MsVBCQAc1/jMcbkJAGNgeG4eLQkAqez8C8qhCQDseYOlcxkJATMGA0MfjQkBeZKG3MgFDQG8Hwp6dHkNAgKrihQg8Q0CSTQNtc1lDQKLwI1TedkNAtJNEO0mUQ0DGNmUitLFDQNbZhQkfz0NA6Hym8InsQ0D6H8fX9AlEQArD575fJ0RAHGYIpspEREAuCSmNNWJEQD6sSXSgf0RAUE9qWwudREBi8opCdrpEQHKVqynh10RAhDjMEEz1RECW2+z3thJFQKZ+Dd8hMEVAuCEuxoxNRUDKxE6t92pFQNpnb5RiiEVA7AqQe82lRUA=",
          "dtype": "f8"
         },
         "xaxis": "x",
         "y": {
          "bdata": "cfbhM+yKNECUPCMCwsU0QLaCZNCXADVA2cilnm07NUD8DudsQ3Y1QB5VKDsZsTVAQZtpCe/rNUBk4arXxCY2QIYn7KWaYTZAqW0tdHCcNkDMs25CRtc2QO75rxAcEjdAEUDx3vFMN0A0hjKtx4c3QFbMc3udwjdAeRK1SXP9N0CcWPYXSTg4QL6eN+YeczhA4eR4tPStOEAEK7qCyug4QCZx+1CgIzlASbc8H3ZeOUBs/X3tS5k5QI5Dv7sh1DlAsYkAivcOOkDUz0FYzUk6QPYVgyajhDpAGVzE9Hi/OkA8ogXDTvo6QF7oRpEkNTtAgS6IX/pvO0CjdMkt0Ko7QMa6Cvyl5TtA6QBMynsgPEALR42YUVs8QC6NzmYnljxAUNMPNf3QPEB0GVED0ws9QJZfktGoRj1AuKXTn36BPUDb6xRuVLw9QP4xVjwq9z1AIHiXCgAyPkBDvtjY1Ww+QGYEGqerpz5AiEpbdYHiPkCrkJxDVx0/QM7W3REtWD9A8Bwf4AKTP0ATY2Cu2M0/QJvUUD5XBEBArHdxJcIhQEC+GpIMLT9AQM+9svOXXEBA4GDT2gJ6QEDyA/TBbZdAQAOnFKnYtEBAFEo1kEPSQEAm7VV3ru9AQDeQdl4ZDUFASDOXRYQqQUBa1rcs70dBQGt52BNaZUFAfBz5+sSCQUCOvxniL6BBQJ9iOsmavUFAsAVbsAXbQUDCqHuXcPhBQNNLnH7bFUJA5O68ZUYzQkD2kd1MsVBCQAc1/jMcbkJAGNgeG4eLQkAqez8C8qhCQDseYOlcxkJATMGA0MfjQkBeZKG3MgFDQG8Hwp6dHkNAgKrihQg8Q0CSTQNtc1lDQKLwI1TedkNAtJNEO0mUQ0DGNmUitLFDQNbZhQkfz0NA6Hym8InsQ0D6H8fX9AlEQArD575fJ0RAHGYIpspEREAuCSmNNWJEQD6sSXSgf0RAUE9qWwudREBi8opCdrpEQHKVqynh10RAhDjMEEz1RECW2+z3thJFQKZ+Dd8hMEVAuCEuxoxNRUDKxE6t92pFQNpnb5RiiEVA7AqQe82lRUA=",
          "dtype": "f8"
         },
         "yaxis": "y"
        },
        {
         "hovertemplate": "Upper Boundary (+2.9mm)<extra></extra>",
         "line": {
          "color": "#2c7fb8",
          "dash": "dot",
          "width": 1
         },
         "mode": "lines",
         "name": "📊 ±2.9mm Boundaries",
         "showlegend": true,
         "type": "scatter",
         "x": {
          "bdata": "cfbhM+yKNECUPCMCwsU0QLaCZNCXADVA2cilnm07NUD8DudsQ3Y1QB5VKDsZsTVAQZtpCe/rNUBk4arXxCY2QIYn7KWaYTZAqW0tdHCcNkDMs25CRtc2QO75rxAcEjdAEUDx3vFMN0A0hjKtx4c3QFbMc3udwjdAeRK1SXP9N0CcWPYXSTg4QL6eN+YeczhA4eR4tPStOEAEK7qCyug4QCZx+1CgIzlASbc8H3ZeOUBs/X3tS5k5QI5Dv7sh1DlAsYkAivcOOkDUz0FYzUk6QPYVgyajhDpAGVzE9Hi/OkA8ogXDTvo6QF7oRpEkNTtAgS6IX/pvO0CjdMkt0Ko7QMa6Cvyl5TtA6QBMynsgPEALR42YUVs8QC6NzmYnljxAUNMPNf3QPEB0GVED0ws9QJZfktGoRj1AuKXTn36BPUDb6xRuVLw9QP4xVjwq9z1AIHiXCgAyPkBDvtjY1Ww+QGYEGqerpz5AiEpbdYHiPkCrkJxDVx0/QM7W3REtWD9A8Bwf4AKTP0ATY2Cu2M0/QJvUUD5XBEBArHdxJcIhQEC+GpIMLT9AQM+9svOXXEBA4GDT2gJ6QEDyA/TBbZdAQAOnFKnYtEBAFEo1kEPSQEAm7VV3ru9AQDeQdl4ZDUFASDOXRYQqQUBa1rcs70dBQGt52BNaZUFAfBz5+sSCQUCOvxniL6BBQJ9iOsmavUFAsAVbsAXbQUDCqHuXcPhBQNNLnH7bFUJA5O68ZUYzQkD2kd1MsVBCQAc1/jMcbkJAGNgeG4eLQkAqez8C8qhCQDseYOlcxkJATMGA0MfjQkBeZKG3MgFDQG8Hwp6dHkNAgKrihQg8Q0CSTQNtc1lDQKLwI1TedkNAtJNEO0mUQ0DGNmUitLFDQNbZhQkfz0NA6Hym8InsQ0D6H8fX9AlEQArD575fJ0RAHGYIpspEREAuCSmNNWJEQD6sSXSgf0RAUE9qWwudREBi8opCdrpEQHKVqynh10RAhDjMEEz1RECW2+z3thJFQKZ+Dd8hMEVAuCEuxoxNRUDKxE6t92pFQNpnb5RiiEVA7AqQe82lRUA=",
          "dtype": "f8"
         },
         "xaxis": "x",
         "y": {
          "bdata": "AJ0seERsN0Aj421GGqc3QEUprxTw4TdAaG/w4sUcOECLtTGxm1c4QK37cn9xkjhA0EG0TUfNOEDzh/UbHQg5QBXONuryQjlAOBR4uMh9OUBbWrmGnrg5QH2g+lR08zlAoOY7I0ouOkDDLH3xH2k6QOVyvr/1ozpACLn/jcveOkAr/0BcoRk7QE1Fgip3VDtAcIvD+EyPO0CT0QTHIso7QLUXRpX4BDxA2F2HY84/PED7o8gxpHo8QB3qCQB6tTxAQDBLzk/wPEBjdoycJSs9QIW8zWr7ZT1AqAIPOdGgPUDLSFAHp9s9QO2OkdV8Fj5AENXSo1JRPkAyGxRyKIw+QFVhVUD+xj5AeKeWDtQBP0Ca7dfcqTw/QL0zGat/dz9A33laeVWyP0ADwJtHK+0/QBOD7ooAFEBAJCYPcmsxQEA1yS9Z1k5AQEdsUEBBbEBAWA9xJ6yJQEBpspEOF6dAQHtVsvWBxEBAjPjS3OzhQECdm/PDV/9AQK8+FKvCHEFAwOE0ki06QUDRhFV5mFdBQOMndmADdUFA9MqWR26SQUAGbrcu2a9BQBcR2BVEzUFAKLT4/K7qQUA6VxnkGQhCQEv6OcuEJUJAXJ1asu9CQkBuQHuZWmBCQH/jm4DFfUJAkIa8ZzCbQkCiKd1Om7hCQLPM/TUG1kJAxG8eHXHzQkDWEj8E3BBDQOe1X+tGLkNA+FiA0rFLQ0AK/KC5HGlDQBufwaCHhkNALELih/KjQ0A+5QJvXcFDQE+II1bI3kNAYCtEPTP8Q0ByzmQknhlEQINxhQsJN0RAlBSm8nNURECmt8bZ3nFEQLda58BJj0RAyP0HqLSsREDaoCiPH8pEQOpDSXaK50RA/OZpXfUERUAOiopEYCJFQB4tqyvLP0VAMNDLEjZdRUBCc+z5oHpFQFIWDeELmEVAZLktyHa1RUB2XE6v4dJFQIb/bpZM8EVAmKKPfbcNRkCqRbBkIitGQLro0EuNSEZAzIvxMvhlRkDeLhIaY4NGQO7RMgHOoEZAAHVT6Di+RkASGHTPo9tGQCK7lLYO+UZANF61nXkWR0A=",
          "dtype": "f8"
         },
         "yaxis": "y"
        },
        {
         "hovertemplate": "Lower Boundary (-2.9mm)<extra></extra>",
         "line": {
          "color": "#2c7fb8",
          "dash": "dot",
          "width": 1
         },
         "mode": "lines",
         "name": "",
         "showlegend": false,
         "type": "scatter",
         "x": {
          "bdata": "cfbhM+yKNECUPCMCwsU0QLaCZNCXADVA2cilnm07NUD8DudsQ3Y1QB5VKDsZsTVAQZtpCe/rNUBk4arXxCY2QIYn7KWaYTZAqW0tdHCcNkDMs25CRtc2QO75rxAcEjdAEUDx3vFMN0A0hjKtx4c3QFbMc3udwjdAeRK1SXP9N0CcWPYXSTg4QL6eN+YeczhA4eR4tPStOEAEK7qCyug4QCZx+1CgIzlASbc8H3ZeOUBs/X3tS5k5QI5Dv7sh1DlAsYkAivcOOkDUz0FYzUk6QPYVgyajhDpAGVzE9Hi/OkA8ogXDTvo6QF7oRpEkNTtAgS6IX/pvO0CjdMkt0Ko7QMa6Cvyl5TtA6QBMynsgPEALR42YUVs8QC6NzmYnljxAUNMPNf3QPEB0GVED0ws9QJZfktGoRj1AuKXTn36BPUDb6xRuVLw9QP4xVjwq9z1AIHiXCgAyPkBDvtjY1Ww+QGYEGqerpz5AiEpbdYHiPkCrkJxDVx0/QM7W3REtWD9A8Bwf4AKTP0ATY2Cu2M0/QJvUUD5XBEBArHdxJcIhQEC+GpIMLT9AQM+9svOXXEBA4GDT2gJ6QEDyA/TBbZdAQAOnFKnYtEBAFEo1kEPSQEAm7VV3ru9AQDeQdl4ZDUFASDOXRYQqQUBa1rcs70dBQGt52BNaZUFAfBz5+sSCQUCOvxniL6BBQJ9iOsmavUFAsAVbsAXbQUDCqHuXcPhBQNNLnH7bFUJA5O68ZUYzQkD2kd1MsVBCQAc1/jMcbkJAGNgeG4eLQkAqez8C8qhCQDseYOlcxkJATMGA0MfjQkBeZKG3MgFDQG8Hwp6dHkNAgKrihQg8Q0CSTQNtc1lDQKLwI1TedkNAtJNEO0mUQ0DGNmUitLFDQNbZhQkfz0NA6Hym8InsQ0D6H8fX9AlEQArD575fJ0RAHGYIpspEREAuCSmNNWJEQD6sSXSgf0RAUE9qWwudREBi8opCdrpEQHKVqynh10RAhDjMEEz1RECW2+z3thJFQKZ+Dd8hMEVAuCEuxoxNRUDKxE6t92pFQNpnb5RiiEVA7AqQe82lRUA=",
          "dtype": "f8"
         },
         "xaxis": "x",
         "y": {
          "bdata": "4k+X75OpMUAFlti9aeQxQCfcGYw/HzJASiJbWhVaMkBtaJwo65QyQI+u3fbAzzJAsvQexZYKM0DVOmCTbEUzQPeAoWFCgDNAGsfiLxi7M0A9DST+7fUzQF9TZczDMDRAgpmmmplrNECl3+dob6Y0QMclKTdF4TRA6mtqBRscNUANsqvT8FY1QC/47KHGkTVAUj4ucJzMNUB1hG8+cgc2QJfKsAxIQjZAuhDy2h19NkDdVjOp87c2QP+cdHfJ8jZAIuO1RZ8tN0BFKfcTdWg3QGdvOOJKozdAirV5sCDeN0Ct+7p+9hg4QM9B/EzMUzhA8oc9G6KOOEAUzn7pd8k4QDcUwLdNBDlAWloBhiM/OUB8oEJU+Xk5QJ/mgyLPtDlAwSzF8KTvOUDlcga/eio6QAe5R41QZTpAKf+IWyagOkBMRcop/No6QG+LC/jRFTtAkdFMxqdQO0C0F46UfYs7QNddz2JTxjtA+aMQMSkBPEAc6lH//js8QD8wk83UdjxAYXbUm6qxPECEvBVqgOw8QKcCVzhWJz1AyUiYBixiPUDtjtnUAZ09QA/VGqPX1z1AMRtcca0SPkBVYZ0/g00+QHen3g1ZiD5Ame0f3C7DPkC9M2GqBP4+QN95onjaOD9AAcDjRrBzP0AlBiUVhq4/QEdMZuNb6T9ANMnT2BgSQEBGbPS/gy9AQFcPFafuTEBAaLI1jllqQEB6VVZ1xIdAQIv4dlwvpUBAnJuXQ5rCQECuPrgqBeBAQL/h2BFw/UBA0IT5+NoaQUDiJxrgRThBQPPKOsewVUFABG5brhtzQUAWEXyVhpBBQCe0nHzxrUFAOFe9Y1zLQUBK+t1Kx+hBQFqd/jEyBkJAbEAfGZ0jQkB+4z8ACEFCQI6GYOdyXkJAoCmBzt17QkCyzKG1SJlCQMJvwpyztkJA1BLjgx7UQkDmtQNrifFCQPZYJFL0DkNACPxEOV8sQ0Aan2UgyklDQCpChgc1Z0NAPOWm7p+EQ0BOiMfVCqJDQF4r6Lx1v0NAcM4IpODcQ0CCcSmLS/pDQJIUSnK2F0RApLdqWSE1REA=",
          "dtype": "f8"
         },
         "yaxis": "y"
        },
        {
         "customdata": [
          [
           "carapace:undistorted_GX010089_11_236.jpg_gamma",
           "Prawn_0",
           -4.229321956742144
          ],
          [
           "carapace:undistorted_GX010089_11_236.jpg_gamma",
           "Prawn_1",
           -3.557240774562242
          ],
          [
           "carapace:undistorted_GX010089_11_236.jpg_gamma",
           "Prawn_2",
           -3.265696738536281
          ],
          [
           "carapace:undistorted_GX010091_5_149.jpg_gamma",
           "Prawn_0",
           -2.280550782774135
          ],
          [
           "carapace:undistorted_GX010102_9_165.jpg_gamma",
           "Prawn_0",
           -0.8947742993110097
          ],
          [
           "carapace:undistorted_GX010102_9_165.jpg_gamma",
           "Prawn_3",
           -2.016754076731278
          ],
          [
           "carapace:undistorted_GX010102_9_165.jpg_gamma",
           "Prawn_4",
           -1.7259430281025452
          ],
          [
           "carapace:undistorted_GX010102_50_1396.jpg_gamma",
           "Prawn_0",
           -0.20759469094239336
          ],
          [
           "carapace:undistorted_GX010105_28_816.jpg_gamma",
           "Prawn_0",
           -0.14355188928405127
          ],
          [
           "carapace:undistorted_GX010105_28_816.jpg_gamma",
           "Prawn_1",
           4.4409163879848705
          ]
         ],
         "hovertemplate": "<b>🦐 Prawn Measurement</b><br>🏊‍♀️ Pond: Circle Male<br>🖼️ Image: %{customdata[0]}<br>🆔 Prawn ID: %{customdata[1]}<br>📏 Manual: %{x:.1f}mm<br>🤖 Algorithm: %{y:.1f}mm<br>📊 Difference: %{customdata[2]:.1f}mm<br><extra></extra>",
         "marker": {
          "color": "#4ECDC4",
          "line": {
           "color": "white",
           "width": 1
          },
          "opacity": 0.8,
          "size": 8
         },
         "mode": "markers",
         "name": "",
         "showlegend": false,
         "type": "scatter",
         "x": {
          "bdata": "BA/mifr3O0DNzMzMzOw2QG8Sg8DKITtAt6zVMcHjM0CNl24Sg+A7QFnyiyW/2DNA4HoUrkfhNUDP91PjpXtAQIGVQ4tsBzNAo/6NUEaPOkA=",
          "dtype": "f8"
         },
         "xaxis": "x2",
         "y": {
          "bdata": "r5jlsUW9N0C2DvZ3JV4zQKJn8AzG3TdA5crABO+bMUD5v70kc/s6QKhPyCZ11DFANQUYR3AnNEDywddsE2FAQHrUNbqs4jJA/6gINiYAP0A=",
          "dtype": "f8"
         },
         "yaxis": "y2"
        },
        {
         "hovertemplate": "Perfect Agreement Line<br>Manual = Algorithm<extra></extra>",
         "line": {
          "color": "black",
          "dash": "dash",
          "width": 2
         },
         "mode": "lines",
         "name": "",
         "showlegend": false,
         "type": "scatter",
         "x": {
          "bdata": "5crABO+bMUC7UTL3pMMxQJHYo+la6zFAZ18V3BATMkA95obOxjoyQBNt+MB8YjJA6PNpszKKMkC+etul6LEyQJQBTZie2TJAaoi+ilQBM0BADzB9CikzQBaWoW/AUDNA7BwTYnZ4M0DCo4RULKAzQJgq9kbixzNAbrFnOZjvM0BEONkrThc0QBm/Sh4EPzRA70W8ELpmNEDFzC0DcI40QJtTn/UltjRAcdoQ6NvdNEBHYYLakQU1QB3o88xHLTVA825lv/1UNUDJ9daxs3w1QJ58SKRppDVAdAO6lh/MNUBKiiuJ1fM1QCARnXuLGzZA9pcObkFDNkDMHoBg92o2QKKl8VKtkjZAeCxjRWO6NkBOs9Q3GeI2QCQ6RirPCTdA+sC3HIUxN0DQRykPO1k3QKbOmgHxgDdAe1UM9KaoN0BR3H3mXNA3QCdj79gS+DdA/elgy8gfOEDTcNK9fkc4QKn3Q7A0bzhAf361ouqWOEBVBSeVoL44QCqMmIdW5jhAABMKegwOOUDWmXtswjU5QKwg7V54XTlAgqdeUS6FOUBYLtBD5Kw5QC61QTaa1DlABDyzKFD8OUDawiQbBiQ6QLBJlg28SzpAhtAHAHJzOkBcV3nyJ5s6QDLe6uTdwjpACGVc15PqOkDe683JSRI7QLNyP7z/OTtAifmwrrVhO0BfgCKha4k7QDUHlJMhsTtAC44FhtfYO0DgFHd4jQA8QLab6GpDKDxAjCJaXflPPEBiqctPr3c8QDgwPUJlnzxADreuNBvHPEDkPSAn0e48QLrEkRmHFj1AkEsDDD0+PUBm0nT+8mU9QDxZ5vCojT1AEuBX4161PUDoZsnVFN09QL7tOsjKBD5AlHSsuoAsPkBq+x2tNlQ+QD+Cj5/sez5AFQkBkqKjPkDrj3KEWMs+QMEW5HYO8z5Al51VacQaP0BtJMdbekI/QEKrOE4waj9AGDKqQOaRP0DuuBsznLk/QMQ/jSVS4T9ATWP/C4QEQEC4JjgFXxhAQCPqcP45LEBAjq2p9xRAQED5cOLw71NAQGQ0G+rKZ0BAz/dT46V7QEA=",
          "dtype": "f8"
         },
         "xaxis": "x2",
         "y": {
          "bdata": "5crABO+bMUC7UTL3pMMxQJHYo+la6zFAZ18V3BATMkA95obOxjoyQBNt+MB8YjJA6PNpszKKMkC+etul6LEyQJQBTZie2TJAaoi+ilQBM0BADzB9CikzQBaWoW/AUDNA7BwTYnZ4M0DCo4RULKAzQJgq9kbixzNAbrFnOZjvM0BEONkrThc0QBm/Sh4EPzRA70W8ELpmNEDFzC0DcI40QJtTn/UltjRAcdoQ6NvdNEBHYYLakQU1QB3o88xHLTVA825lv/1UNUDJ9daxs3w1QJ58SKRppDVAdAO6lh/MNUBKiiuJ1fM1QCARnXuLGzZA9pcObkFDNkDMHoBg92o2QKKl8VKtkjZAeCxjRWO6NkBOs9Q3GeI2QCQ6RirPCTdA+sC3HIUxN0DQRykPO1k3QKbOmgHxgDdAe1UM9KaoN0BR3H3mXNA3QCdj79gS+DdA/elgy8gfOEDTcNK9fkc4QKn3Q7A0bzhAf361ouqWOEBVBSeVoL44QCqMmIdW5jhAABMKegwOOUDWmXtswjU5QKwg7V54XTlAgqdeUS6FOUBYLtBD5Kw5QC61QTaa1DlABDyzKFD8OUDawiQbBiQ6QLBJlg28SzpAhtAHAHJzOkBcV3nyJ5s6QDLe6uTdwjpACGVc15PqOkDe683JSRI7QLNyP7z/OTtAifmwrrVhO0BfgCKha4k7QDUHlJMhsTtAC44FhtfYO0DgFHd4jQA8QLab6GpDKDxAjCJaXflPPEBiqctPr3c8QDgwPUJlnzxADreuNBvHPEDkPSAn0e48QLrEkRmHFj1AkEsDDD0+PUBm0nT+8mU9QDxZ5vCojT1AEuBX4161PUDoZsnVFN09QL7tOsjKBD5AlHSsuoAsPkBq+x2tNlQ+QD+Cj5/sez5AFQkBkqKjPkDrj3KEWMs+QMEW5HYO8z5Al51VacQaP0BtJMdbekI/QEKrOE4waj9AGDKqQOaRP0DuuBsznLk/QMQ/jSVS4T9ATWP/C4QEQEC4JjgFXxhAQCPqcP45LEBAjq2p9xRAQED5cOLw71NAQGQ0G+rKZ0BAz/dT46V7QEA=",
          "dtype": "f8"
         },
         "yaxis": "y2"
        },
        {
         "hovertemplate": "Upper Boundary (+3.4mm)<extra></extra>",
         "line": {
          "color": "#2c7fb8",
          "dash": "dot",
          "width": 1
         },
         "mode": "lines",
         "name": "",
         "showlegend": false,
         "type": "scatter",
         "x": {
          "bdata": "5crABO+bMUC7UTL3pMMxQJHYo+la6zFAZ18V3BATMkA95obOxjoyQBNt+MB8YjJA6PNpszKKMkC+etul6LEyQJQBTZie2TJAaoi+ilQBM0BADzB9CikzQBaWoW/AUDNA7BwTYnZ4M0DCo4RULKAzQJgq9kbixzNAbrFnOZjvM0BEONkrThc0QBm/Sh4EPzRA70W8ELpmNEDFzC0DcI40QJtTn/UltjRAcdoQ6NvdNEBHYYLakQU1QB3o88xHLTVA825lv/1UNUDJ9daxs3w1QJ58SKRppDVAdAO6lh/MNUBKiiuJ1fM1QCARnXuLGzZA9pcObkFDNkDMHoBg92o2QKKl8VKtkjZAeCxjRWO6NkBOs9Q3GeI2QCQ6RirPCTdA+sC3HIUxN0DQRykPO1k3QKbOmgHxgDdAe1UM9KaoN0BR3H3mXNA3QCdj79gS+DdA/elgy8gfOEDTcNK9fkc4QKn3Q7A0bzhAf361ouqWOEBVBSeVoL44QCqMmIdW5jhAABMKegwOOUDWmXtswjU5QKwg7V54XTlAgqdeUS6FOUBYLtBD5Kw5QC61QTaa1DlABDyzKFD8OUDawiQbBiQ6QLBJlg28SzpAhtAHAHJzOkBcV3nyJ5s6QDLe6uTdwjpACGVc15PqOkDe683JSRI7QLNyP7z/OTtAifmwrrVhO0BfgCKha4k7QDUHlJMhsTtAC44FhtfYO0DgFHd4jQA8QLab6GpDKDxAjCJaXflPPEBiqctPr3c8QDgwPUJlnzxADreuNBvHPEDkPSAn0e48QLrEkRmHFj1AkEsDDD0+PUBm0nT+8mU9QDxZ5vCojT1AEuBX4161PUDoZsnVFN09QL7tOsjKBD5AlHSsuoAsPkBq+x2tNlQ+QD+Cj5/sez5AFQkBkqKjPkDrj3KEWMs+QMEW5HYO8z5Al51VacQaP0BtJMdbekI/QEKrOE4waj9AGDKqQOaRP0DuuBsznLk/QMQ/jSVS4T9ATWP/C4QEQEC4JjgFXxhAQCPqcP45LEBAjq2p9xRAQED5cOLw71NAQGQ0G+rKZ0BAz/dT46V7QEA=",
          "dtype": "f8"
         },
         "xaxis": "x2",
         "y": {
          "bdata": "FUdwb1wINUDrzeFhEjA1QMFUU1TIVzVAl9vERn5/NUBtYjY5NKc1QEPppyvqzjVAGHAZHqD2NUDu9ooQVh42QMR9/AIMRjZAmgRu9cFtNkBwi9/nd5U2QEYSUdotvTZAHJnCzOPkNkDyHzS/mQw3QMimpbFPNDdAni0XpAVcN0B0tIiWu4M3QEk7+ohxqzdAH8JreyfTN0D1SN1t3fo3QMvPTmCTIjhAoVbAUklKOEB33TFF/3E4QE1koze1mThAI+sUKmvBOED5cYYcIek4QM749w7XEDlApH9pAY04OUB6BtvzQmA5QFCNTOb4hzlAJhS+2K6vOUD8mi/LZNc5QNIhob0a/zlAqKgSsNAmOkB+L4Sihk46QFS29ZQ8djpAKj1nh/KdOkAAxNh5qMU6QNZKSmxe7TpAq9G7XhQVO0CBWC1Ryjw7QFffnkOAZDtALWYQNjaMO0AD7YEo7LM7QNlz8xqi2ztAr/pkDVgDPECFgdb/DSs8QFoISPLDUjxAMI+55Hl6PEAGFivXL6I8QNycnMnlyTxAsiMOvJvxPECIqn+uURk9QF4x8aAHQT1ANLhik71oPUAKP9SFc5A9QODFRXgpuD1Atky3at/fPUCM0yhdlQc+QGJamk9LLz5AOOELQgFXPkAOaH00t34+QOPu7iZtpj5AuXVgGSPOPkCP/NEL2fU+QGWDQ/6OHT9AOwq18ERFP0AQkSbj+mw/QOYXmNWwlD9AvJ4JyGa8P0CSJXu6HOQ/QDRWdlbpBUBAnxmvT8QZQEAK3edIny1AQHWgIEJ6QUBA4GNZO1VVQEBLJ5I0MGlAQLbqyi0LfUBAIa4DJ+aQQECMcTwgwaRAQPc0dRmcuEBAYvitEnfMQEDNu+YLUuBAQDd/HwUt9EBAokJY/gcIQUANBpH34htBQHjJyfC9L0FA44wC6phDQUBOUDvjc1dBQLkTdNxOa0FAJNes1Sl/QUCPmuXOBJNBQPpdHsjfpkFAZSFXwbq6QUDQ5I+6lc5BQDuoyLNw4kFApmsBrUv2QUARLzqmJgpCQHzycp8BHkJA57WrmNwxQkA=",
          "dtype": "f8"
         },
         "yaxis": "y2"
        },
        {
         "hovertemplate": "Lower Boundary (-3.4mm)<extra></extra>",
         "line": {
          "color": "#2c7fb8",
          "dash": "dot",
          "width": 1
         },
         "mode": "lines",
         "name": "",
         "showlegend": false,
         "type": "scatter",
         "x": {
          "bdata": "5crABO+bMUC7UTL3pMMxQJHYo+la6zFAZ18V3BATMkA95obOxjoyQBNt+MB8YjJA6PNpszKKMkC+etul6LEyQJQBTZie2TJAaoi+ilQBM0BADzB9CikzQBaWoW/AUDNA7BwTYnZ4M0DCo4RULKAzQJgq9kbixzNAbrFnOZjvM0BEONkrThc0QBm/Sh4EPzRA70W8ELpmNEDFzC0DcI40QJtTn/UltjRAcdoQ6NvdNEBHYYLakQU1QB3o88xHLTVA825lv/1UNUDJ9daxs3w1QJ58SKRppDVAdAO6lh/MNUBKiiuJ1fM1QCARnXuLGzZA9pcObkFDNkDMHoBg92o2QKKl8VKtkjZAeCxjRWO6NkBOs9Q3GeI2QCQ6RirPCTdA+sC3HIUxN0DQRykPO1k3QKbOmgHxgDdAe1UM9KaoN0BR3H3mXNA3QCdj79gS+DdA/elgy8gfOEDTcNK9fkc4QKn3Q7A0bzhAf361ouqWOEBVBSeVoL44QCqMmIdW5jhAABMKegwOOUDWmXtswjU5QKwg7V54XTlAgqdeUS6FOUBYLtBD5Kw5QC61QTaa1DlABDyzKFD8OUDawiQbBiQ6QLBJlg28SzpAhtAHAHJzOkBcV3nyJ5s6QDLe6uTdwjpACGVc15PqOkDe683JSRI7QLNyP7z/OTtAifmwrrVhO0BfgCKha4k7QDUHlJMhsTtAC44FhtfYO0DgFHd4jQA8QLab6GpDKDxAjCJaXflPPEBiqctPr3c8QDgwPUJlnzxADreuNBvHPEDkPSAn0e48QLrEkRmHFj1AkEsDDD0+PUBm0nT+8mU9QDxZ5vCojT1AEuBX4161PUDoZsnVFN09QL7tOsjKBD5AlHSsuoAsPkBq+x2tNlQ+QD+Cj5/sez5AFQkBkqKjPkDrj3KEWMs+QMEW5HYO8z5Al51VacQaP0BtJMdbekI/QEKrOE4waj9AGDKqQOaRP0DuuBsznLk/QMQ/jSVS4T9ATWP/C4QEQEC4JjgFXxhAQCPqcP45LEBAjq2p9xRAQED5cOLw71NAQGQ0G+rKZ0BAz/dT46V7QEA=",
          "dtype": "f8"
         },
         "xaxis": "x2",
         "y": {
          "bdata": "a50iNANfLEAXqwUZb64sQMO46P3a/SxAb8bL4kZNLUAb1K7HspwtQMfhkawe7C1Ace90kYo7LkAd/Vd29oouQMkKO1ti2i5AdRgeQM4pL0AhJgElOnkvQM0z5AmmyC9AvKBj9wgMMECSJ9XpvjMwQGiuRtx0WzBAPjW4ziqDMEAUvCnB4KowQOlCm7OW0jBAv8kMpkz6MECVUH6YAiIxQGvX74q4STFAQV5hfW5xMUAX5dJvJJkxQO1rRGLawDFAw/K1VJDoMUCZeSdHRhAyQG4AmTn8NzJARIcKLLJfMkAaDnweaIcyQPCU7RAerzJAxhtfA9TWMkCcotD1if4yQHIpQug/JjNASLCz2vVNM0AeNyXNq3UzQPS9lr9hnTNAykQIshfFM0Cgy3mkzewzQHZS65aDFDRAS9lciTk8NEAhYM5772M0QPfmP26lizRAzW2xYFuzNECj9CJTEds0QHl7lEXHAjVATwIGOH0qNUAliXcqM1I1QPoP6RzpeTVA0JZaD5+hNUCmHcwBVck1QHykPfQK8TVAUiuv5sAYNkAosiDZdkA2QP44ksssaDZA1L8DvuKPNkCqRnWwmLc2QIDN5qJO3zZAVlRYlQQHN0As28mHui43QAJiO3pwVjdA2OisbCZ+N0Cubx5f3KU3QIP2j1GSzTdAWX0BREj1N0AvBHM2/hw4QAWL5Ci0RDhA2xFWG2psOECwmMcNIJQ4QIYfOQDWuzhAXKaq8ovjOEAyLRzlQQs5QAi0jdf3MjlA3jr/ya1aOUC0wXC8Y4I5QIpI4q4ZqjlAYM9Toc/ROUA2VsWThfk5QAzdNoY7ITpA4mOoePFIOkC46hlrp3A6QI5xi11dmDpAZPj8TxPAOkA6f25Cyec6QA8G4DR/DztA5YxRJzU3O0C7E8MZ6147QJGaNAyhhjtAZyGm/lauO0A9qBfxDNY7QBIviePC/TtA6LX61XglPEC+PGzILk08QJTD3brkdDxAakpPrZqcPEBA0cCfUMQ8QBZYMpIG7DxA7N6jhLwTPUDCZRV3cjs9QJjshmkoYz1AbnP4W96KPUA=",
          "dtype": "f8"
         },
         "yaxis": "y2"
        },
        {
         "customdata": [
          [
           "carapace:undistorted_GX010162_72_927.jpg_gamma.jpg_gamma",
           "Prawn_0",
           -3.5292923046742075
          ],
          [
           "carapace:undistorted_GX010178_107_2118",
           "Prawn_0",
           -4.081651310534195
          ],
          [
           "carapace:undistorted_GX010179_88_1697.jpg_gamma",
           "Prawn_0",
           0.7658552495214224
          ],
          [
           "carapace:undistorted_GX010180_91_1563",
           "Prawn_0",
           -1.886629591804077
          ],
          [
           "carapace:undistorted_GX010180_99_1788",
           "Prawn_0",
           -4.177742584388767
          ],
          [
           "carapace:undistorted_GX010181_101_1542",
           "Prawn_0",
           -1.3732458100647946
          ],
          [
           "carapace:undistorted_GX010183_37_685.jpg_gamma",
           "Prawn_1",
           -3.1714840385169367
          ],
          [
           "carapace:undistorted_GX010183_80_1633.jpg_gamma",
           "Prawn_1",
           -2.4901077693832434
          ],
          [
           "carapace:undistorted_GX010183_128_2852.jpg_gamma",
           "Prawn_0",
           -1.785669782220264
          ],
          [
           "carapace:undistorted_GX010183_128_2852.jpg_gamma",
           "Prawn_1",
           -3.9954291145063365
          ]
         ],
         "hovertemplate": "<b>🦐 Prawn Measurement</b><br>🏊‍♀️ Pond: Square<br>🖼️ Image: %{customdata[0]}<br>🆔 Prawn ID: %{customdata[1]}<br>📏 Manual: %{x:.1f}mm<br>🤖 Algorithm: %{y:.1f}mm<br>📊 Difference: %{customdata[2]:.1f}mm<br><extra></extra>",
         "marker": {
          "color": "#45B7D1",
          "line": {
           "color": "white",
           "width": 1
          },
          "opacity": 0.8,
          "size": 8
         },
         "mode": "markers",
         "name": "",
         "showlegend": false,
         "type": "scatter",
         "x": {
          "bdata": "C5B7zYXkOkAkBoGVQ8tAQKjGSzeJAUFAN4lBYOXAQEByr7mQNLVBQPBgnqh/E0JADbsC5F6TOkCdNtBpA91BQGlKxdmHX0BAWKtjggeTPEA=",
          "dtype": "f8"
         },
         "xaxis": "x3",
         "y": {
          "bdata": "ZfYoGgZdN0DJoFURoIE9QLTbxMKQY0FAj5tWmNCeP0B8ULiX6Dw/QHuU1CO5Y0FAsYNBg3hnN0B/tNuPR55AQGd95gvu9T5A3GAfETOUOEA=",
          "dtype": "f8"
         },
         "yaxis": "y3"
        },
        {
         "hovertemplate": "Perfect Agreement Line<br>Manual = Algorithm<extra></extra>",
         "line": {
          "color": "black",
          "dash": "dash",
          "width": 2
         },
         "mode": "lines",
         "name": "",
         "showlegend": false,
         "type": "scatter",
         "x": {
          "bdata": "ZfYoGgZdN0D0UnkiGH43QISvySoqnzdAEwwaMzzAN0CjaGo7TuE3QDLFukNgAjhAwiELTHIjOEBRfltUhEQ4QOHaq1yWZThAcDf8ZKiGOEAAlExtuqc4QI/wnHXMyDhAHk3tfd7pOECuqT2G8Ao5QD0Gjo4CLDlAzWLelhRNOUBcvy6fJm45QOwbf6c4jzlAe3jPr0qwOUAL1R+4XNE5QJoxcMBu8jlAKo7AyIATOkC56hDRkjQ6QElHYdmkVTpA2KOx4bZ2OkBoAALqyJc6QPdcUvLauDpAhrmi+uzZOkAWFvMC//o6QKVyQwsRHDtANc+TEyM9O0DEK+QbNV47QFSINCRHfztA4+SELFmgO0BzQdU0a8E7QAKeJT194jtAkvp1RY8DPEAhV8ZNoSQ8QLCzFlazRTxAQBBnXsVmPEDQbLdm14c8QF/JB2/pqDxA7iVYd/vJPEB+gqh/Des8QA3f+IcfDD1AnTtJkDEtPUAsmJmYQ049QLz06aBVbz1AS1E6qWeQPUDarYqxebE9QGoK27mL0j1A+mYrwp3zPUCJw3vKrxQ+QBggzNLBNT5AqHwc29NWPkA32Wzj5Xc+QMc1vev3mD5AVpIN9Am6PkDm7l38G9s+QHVLrgQu/D5ABaj+DEAdP0CUBE8VUj4/QCRhnx1kXz9As73vJXaAP0BCGkAuiKE/QNJ2kDaawj9AYtPgPqzjP0D4l5gjXwJAQEDGwCfoEkBAiPToK3EjQEDQIhEw+jNAQBdROTSDREBAX39hOAxVQECnrYk8lWVAQO7bsUAedkBANgraRKeGQEB+OAJJMJdAQMZmKk25p0BADpVSUUK4QEBVw3pVy8hAQJ3xollU2UBA5R/LXd3pQEAsTvNhZvpAQHR8G2bvCkFAvKpDangbQUAE2WtuASxBQEsHlHKKPEFAkzW8dhNNQUDbY+R6nF1BQCKSDH8lbkFAasA0g65+QUCy7lyHN49BQPochYvAn0FAQkutj0mwQUCJedWT0sBBQNGn/Zdb0UFAGNYlnOThQUBgBE6gbfJBQKgydqT2AkJA8GCeqH8TQkA=",
          "dtype": "f8"
         },
         "xaxis": "x3",
         "y": {
          "bdata": "ZfYoGgZdN0D0UnkiGH43QISvySoqnzdAEwwaMzzAN0CjaGo7TuE3QDLFukNgAjhAwiELTHIjOEBRfltUhEQ4QOHaq1yWZThAcDf8ZKiGOEAAlExtuqc4QI/wnHXMyDhAHk3tfd7pOECuqT2G8Ao5QD0Gjo4CLDlAzWLelhRNOUBcvy6fJm45QOwbf6c4jzlAe3jPr0qwOUAL1R+4XNE5QJoxcMBu8jlAKo7AyIATOkC56hDRkjQ6QElHYdmkVTpA2KOx4bZ2OkBoAALqyJc6QPdcUvLauDpAhrmi+uzZOkAWFvMC//o6QKVyQwsRHDtANc+TEyM9O0DEK+QbNV47QFSINCRHfztA4+SELFmgO0BzQdU0a8E7QAKeJT194jtAkvp1RY8DPEAhV8ZNoSQ8QLCzFlazRTxAQBBnXsVmPEDQbLdm14c8QF/JB2/pqDxA7iVYd/vJPEB+gqh/Des8QA3f+IcfDD1AnTtJkDEtPUAsmJmYQ049QLz06aBVbz1AS1E6qWeQPUDarYqxebE9QGoK27mL0j1A+mYrwp3zPUCJw3vKrxQ+QBggzNLBNT5AqHwc29NWPkA32Wzj5Xc+QMc1vev3mD5AVpIN9Am6PkDm7l38G9s+QHVLrgQu/D5ABaj+DEAdP0CUBE8VUj4/QCRhnx1kXz9As73vJXaAP0BCGkAuiKE/QNJ2kDaawj9AYtPgPqzjP0D4l5gjXwJAQEDGwCfoEkBAiPToK3EjQEDQIhEw+jNAQBdROTSDREBAX39hOAxVQECnrYk8lWVAQO7bsUAedkBANgraRKeGQEB+OAJJMJdAQMZmKk25p0BADpVSUUK4QEBVw3pVy8hAQJ3xollU2UBA5R/LXd3pQEAsTvNhZvpAQHR8G2bvCkFAvKpDangbQUAE2WtuASxBQEsHlHKKPEFAkzW8dhNNQUDbY+R6nF1BQCKSDH8lbkFAasA0g65+QUCy7lyHN49BQPochYvAn0FAQkutj0mwQUCJedWT0sBBQNGn/Zdb0UFAGNYlnOThQUBgBE6gbfJBQKgydqT2AkJA8GCeqH8TQkA=",
          "dtype": "f8"
         },
         "yaxis": "y3"
        },
        {
         "hovertemplate": "Upper Boundary (+3.1mm)<extra></extra>",
         "line": {
          "color": "#2c7fb8",
          "dash": "dot",
          "width": 1
         },
         "mode": "lines",
         "name": "",
         "showlegend": false,
         "type": "scatter",
         "x": {
          "bdata": "ZfYoGgZdN0D0UnkiGH43QISvySoqnzdAEwwaMzzAN0CjaGo7TuE3QDLFukNgAjhAwiELTHIjOEBRfltUhEQ4QOHaq1yWZThAcDf8ZKiGOEAAlExtuqc4QI/wnHXMyDhAHk3tfd7pOECuqT2G8Ao5QD0Gjo4CLDlAzWLelhRNOUBcvy6fJm45QOwbf6c4jzlAe3jPr0qwOUAL1R+4XNE5QJoxcMBu8jlAKo7AyIATOkC56hDRkjQ6QElHYdmkVTpA2KOx4bZ2OkBoAALqyJc6QPdcUvLauDpAhrmi+uzZOkAWFvMC//o6QKVyQwsRHDtANc+TEyM9O0DEK+QbNV47QFSINCRHfztA4+SELFmgO0BzQdU0a8E7QAKeJT194jtAkvp1RY8DPEAhV8ZNoSQ8QLCzFlazRTxAQBBnXsVmPEDQbLdm14c8QF/JB2/pqDxA7iVYd/vJPEB+gqh/Des8QA3f+IcfDD1AnTtJkDEtPUAsmJmYQ049QLz06aBVbz1AS1E6qWeQPUDarYqxebE9QGoK27mL0j1A+mYrwp3zPUCJw3vKrxQ+QBggzNLBNT5AqHwc29NWPkA32Wzj5Xc+QMc1vev3mD5AVpIN9Am6PkDm7l38G9s+QHVLrgQu/D5ABaj+DEAdP0CUBE8VUj4/QCRhnx1kXz9As73vJXaAP0BCGkAuiKE/QNJ2kDaawj9AYtPgPqzjP0D4l5gjXwJAQEDGwCfoEkBAiPToK3EjQEDQIhEw+jNAQBdROTSDREBAX39hOAxVQECnrYk8lWVAQO7bsUAedkBANgraRKeGQEB+OAJJMJdAQMZmKk25p0BADpVSUUK4QEBVw3pVy8hAQJ3xollU2UBA5R/LXd3pQEAsTvNhZvpAQHR8G2bvCkFAvKpDangbQUAE2WtuASxBQEsHlHKKPEFAkzW8dhNNQUDbY+R6nF1BQCKSDH8lbkFAasA0g65+QUCy7lyHN49BQPochYvAn0FAQkutj0mwQUCJedWT0sBBQNGn/Zdb0UFAGNYlnOThQUBgBE6gbfJBQKgydqT2AkJA8GCeqH8TQkA=",
          "dtype": "f8"
         },
         "xaxis": "x3",
         "y": {
          "bdata": "REkjYjt2OkDTpXNqTZc6QGMCxHJfuDpA8l4Ue3HZOkCCu2SDg/o6QBEYtYuVGztAoXQFlKc8O0Aw0VWcuV07QMAtpqTLfjtAT4r2rN2fO0Df5ka178A7QG5Dl70B4jtA/Z/nxRMDPECN/DfOJSQ8QBxZiNY3RTxArLXY3klmPEA7EinnW4c8QMtuee9tqDxAWsvJ93/JPEDqJxoAkuo8QHmEagikCz1ACeG6ELYsPUCYPQsZyE09QCiaWyHabj1At/arKeyPPUBHU/wx/rA9QNavTDoQ0j1AZQydQiLzPUD1aO1KNBQ+QITFPVNGNT5AFCKOW1hWPkCjft5janc+QDPbLmx8mD5Awjd/dI65PkBSlM98oNo+QOHwH4Wy+z5AcU1wjcQcP0AAqsCV1j0/QI8GEZ7oXj9AH2Nhpvp/P0Cvv7GuDKE/QD4cArcewj9AzXhSvzDjP0CvatFjIQJAQPaY+WeqEkBAPschbDMjQECG9UlwvDNAQM4jcnRFREBAFVKaeM5UQEBdgMJ8V2VAQKWu6oDgdUBA7dwShWmGQEA0CzuJ8pZAQHw5Y417p0BAxGeLkQS4QEALlrOVjchAQFPE25kW2UBAm/IDnp/pQEDjICyiKPpAQCpPVKaxCkFAcn18qjobQUC6q6SuwytBQALazLJMPEFASQj1ttVMQUCRNh27Xl1BQNlkRb/nbUFAIZNtw3B+QUBowZXH+Y5BQLDvvcuCn0FA+B3mzwuwQUBATA7UlMBBQId6Ntgd0UFAz6he3KbhQUAX14bgL/JBQF4Fr+S4AkJApjPX6EETQkDuYf/syiNCQDaQJ/FTNEJAfr5P9dxEQkDF7Hf5ZVVCQA0boP3uZUJAVUnIAXh2QkCcd/AFAYdCQOSlGAqKl0JALNRADhOoQkB0AmkSnLhCQLswkRYlyUJAA1+5Gq7ZQkBLjeEeN+pCQJK7CSPA+kJA2ukxJ0kLQ0AiGFor0htDQGpGgi9bLENAsnSqM+Q8Q0D5otI3bU1DQEHR+jv2XUNAiP8iQH9uQ0DQLUtECH9DQBhcc0iRj0NAYIqbTBqgQ0A=",
          "dtype": "f8"
         },
         "yaxis": "y3"
        },
        {
         "hovertemplate": "Lower Boundary (-3.1mm)<extra></extra>",
         "line": {
          "color": "#2c7fb8",
          "dash": "dot",
          "width": 1
         },
         "mode": "lines",
         "name": "",
         "showlegend": false,
         "type": "scatter",
         "x": {
          "bdata": "ZfYoGgZdN0D0UnkiGH43QISvySoqnzdAEwwaMzzAN0CjaGo7TuE3QDLFukNgAjhAwiELTHIjOEBRfltUhEQ4QOHaq1yWZThAcDf8ZKiGOEAAlExtuqc4QI/wnHXMyDhAHk3tfd7pOECuqT2G8Ao5QD0Gjo4CLDlAzWLelhRNOUBcvy6fJm45QOwbf6c4jzlAe3jPr0qwOUAL1R+4XNE5QJoxcMBu8jlAKo7AyIATOkC56hDRkjQ6QElHYdmkVTpA2KOx4bZ2OkBoAALqyJc6QPdcUvLauDpAhrmi+uzZOkAWFvMC//o6QKVyQwsRHDtANc+TEyM9O0DEK+QbNV47QFSINCRHfztA4+SELFmgO0BzQdU0a8E7QAKeJT194jtAkvp1RY8DPEAhV8ZNoSQ8QLCzFlazRTxAQBBnXsVmPEDQbLdm14c8QF/JB2/pqDxA7iVYd/vJPEB+gqh/Des8QA3f+IcfDD1AnTtJkDEtPUAsmJmYQ049QLz06aBVbz1AS1E6qWeQPUDarYqxebE9QGoK27mL0j1A+mYrwp3zPUCJw3vKrxQ+QBggzNLBNT5AqHwc29NWPkA32Wzj5Xc+QMc1vev3mD5AVpIN9Am6PkDm7l38G9s+QHVLrgQu/D5ABaj+DEAdP0CUBE8VUj4/QCRhnx1kXz9As73vJXaAP0BCGkAuiKE/QNJ2kDaawj9AYtPgPqzjP0D4l5gjXwJAQEDGwCfoEkBAiPToK3EjQEDQIhEw+jNAQBdROTSDREBAX39hOAxVQECnrYk8lWVAQO7bsUAedkBANgraRKeGQEB+OAJJMJdAQMZmKk25p0BADpVSUUK4QEBVw3pVy8hAQJ3xollU2UBA5R/LXd3pQEAsTvNhZvpAQHR8G2bvCkFAvKpDangbQUAE2WtuASxBQEsHlHKKPEFAkzW8dhNNQUDbY+R6nF1BQCKSDH8lbkFAasA0g65+QUCy7lyHN49BQPochYvAn0FAQkutj0mwQUCJedWT0sBBQNGn/Zdb0UFAGNYlnOThQUBgBE6gbfJBQKgydqT2AkJA8GCeqH8TQkA=",
          "dtype": "f8"
         },
         "xaxis": "x3",
         "y": {
          "bdata": "hqMu0tBDNEAVAH/a4mQ0QKVcz+L0hTRANLkf6wanNEDEFXDzGMg0QFNywPsq6TRA484QBD0KNUByK2EMTys1QAKIsRRhTDVAkeQBHXNtNUAhQVIlhY41QLCdoi2XrzVAP/ryNanQNUDPVkM+u/E1QF6zk0bNEjZA7g/kTt8zNkB9bDRX8VQ2QA3JhF8DdjZAnCXVZxWXNkAsgiVwJ7g2QLvedXg52TZASzvGgEv6NkDalxaJXRs3QGr0ZpFvPDdA+VC3mYFdN0CJrQeik343QBgKWKqlnzdAp2aosrfAN0A3w/i6yeE3QMYfScPbAjhAVnyZy+0jOEDl2OnT/0Q4QHU1OtwRZjhABJKK5COHOECU7trsNag4QCNLK/VHyThAs6d7/VnqOEBCBMwFbAs5QNFgHA5+LDlAYb1sFpBNOUDxGb0eom45QIB2DSe0jzlAD9NdL8awOUCfL6432NE5QC6M/j/q8jlAvuhOSPwTOkBNRZ9QDjU6QN2h71ggVjpAbP4/YTJ3OkD7WpBpRJg6QIu34HFWuTpAGxQxemjaOkCqcIGCevs6QDnN0YqMHDtAySkik549O0BYhnKbsF47QOjiwqPCfztAdz8TrNSgO0AHnGO05sE7QJb4s7z44jtAJlUExQoEPEC1sVTNHCU8QEUOpdUuRjxA1Gr13UBnPEBjx0XmUog8QPMjlu5kqTxAg4Dm9nbKPEAR3Tb/iOs8QKE5hwebDD1AMZbXD60tPUDB8icYv049QE9PeCDRbz1A36vIKOOQPUBvCBkx9bE9QP1kaTkH0z1AjcG5QRn0PUAdHgpKKxU+QK16WlI9Nj5APdeqWk9XPkDLM/tiYXg+QFuQS2tzmT5A6+ybc4W6PkB5Sex7l9s+QAmmPISp/D5AmQKNjLsdP0ApX92UzT4/QLe7LZ3fXz9ARxh+pfGAP0DXdM6tA6I/QGXRHrYVwz9A9S1vvifkP0BCxV/jnAJAQIrzh+clE0BA0iGw664jQEAZUNjvNzRAQGF+APTAREBAqKwo+ElVQEDw2lD80mVAQDgJeQBcdkBAgDehBOWGQEA=",
          "dtype": "f8"
         },
         "yaxis": "y3"
        }
       ],
       "layout": {
        "annotations": [
         {
          "font": {
           "size": 16
          },
          "showarrow": false,
          "text": "🏊‍♀️ Circle Female Pond<br><sub>Agreement: 68.3% | n=60</sub>",
          "x": 0.13999999999999999,
          "xanchor": "center",
          "xref": "paper",
          "y": 1,
          "yanchor": "bottom",
          "yref": "paper"
         },
         {
          "font": {
           "size": 16
          },
          "showarrow": false,
          "text": "🏊‍♀️ Circle Male Pond<br><sub>Agreement: 70.0% | n=10</sub>",
          "x": 0.49999999999999994,
          "xanchor": "center",
          "xref": "paper",
          "y": 1,
          "yanchor": "bottom",
          "yref": "paper"
         },
         {
          "font": {
           "size": 16
          },
          "showarrow": false,
          "text": "🏊‍♀️ Square Pond<br><sub>Agreement: 50.0% | n=10</sub>",
          "x": 0.86,
          "xanchor": "center",
          "xref": "paper",
          "y": 1,
          "yanchor": "bottom",
          "yref": "paper"
         },
         {
          "font": {
           "color": "gray",
           "size": 11
          },
          "showarrow": false,
          "text": "💡 Hover over points for detailed measurement info | Points near diagonal = better agreement",
          "x": 0.5,
          "xanchor": "center",
          "xref": "paper",
          "y": -0.08,
          "yref": "paper"
         }
        ],
        "height": 650,
        "legend": {
         "font": {
          "size": 12
         },
         "orientation": "h",
         "x": 0.5,
         "xanchor": "center",
         "y": 1.02,
         "yanchor": "bottom"
        },
        "plot_bgcolor": "white",
        "showlegend": true,
        "template": {
         "data": {
          "bar": [
           {
            "error_x": {
             "color": "#2a3f5f"
            },
            "error_y": {
             "color": "#2a3f5f"
            },
            "marker": {
             "line": {
              "color": "#E5ECF6",
              "width": 0.5
             },
             "pattern": {
              "fillmode": "overlay",
              "size": 10,
              "solidity": 0.2
             }
            },
            "type": "bar"
           }
          ],
          "barpolar": [
           {
            "marker": {
             "line": {
              "color": "#E5ECF6",
              "width": 0.5
             },
             "pattern": {
              "fillmode": "overlay",
              "size": 10,
              "solidity": 0.2
             }
            },
            "type": "barpolar"
           }
          ],
          "carpet": [
           {
            "aaxis": {
             "endlinecolor": "#2a3f5f",
             "gridcolor": "white",
             "linecolor": "white",
             "minorgridcolor": "white",
             "startlinecolor": "#2a3f5f"
            },
            "baxis": {
             "endlinecolor": "#2a3f5f",
             "gridcolor": "white",
             "linecolor": "white",
             "minorgridcolor": "white",
             "startlinecolor": "#2a3f5f"
            },
            "type": "carpet"
           }
          ],
          "choropleth": [
           {
            "colorbar": {
             "outlinewidth": 0,
             "ticks": ""
            },
            "type": "choropleth"
           }
          ],
          "contour": [
           {
            "colorbar": {
             "outlinewidth": 0,
             "ticks": ""
            },
            "colorscale": [
             [
              0,
              "#0d0887"
             ],
             [
              0.1111111111111111,
              "#46039f"
             ],
             [
              0.2222222222222222,
              "#7201a8"
             ],
             [
              0.3333333333333333,
              "#9c179e"
             ],
             [
              0.4444444444444444,
              "#bd3786"
             ],
             [
              0.5555555555555556,
              "#d8576b"
             ],
             [
              0.6666666666666666,
              "#ed7953"
             ],
             [
              0.7777777777777778,
              "#fb9f3a"
             ],
             [
              0.8888888888888888,
              "#fdca26"
             ],
             [
              1,
              "#f0f921"
             ]
            ],
            "type": "contour"
           }
          ],
          "contourcarpet": [
           {
            "colorbar": {
             "outlinewidth": 0,
             "ticks": ""
            },
            "type": "contourcarpet"
           }
          ],
          "heatmap": [
           {
            "colorbar": {
             "outlinewidth": 0,
             "ticks": ""
            },
            "colorscale": [
             [
              0,
              "#0d0887"
             ],
             [
              0.1111111111111111,
              "#46039f"
             ],
             [
              0.2222222222222222,
              "#7201a8"
             ],
             [
              0.3333333333333333,
              "#9c179e"
             ],
             [
              0.4444444444444444,
              "#bd3786"
             ],
             [
              0.5555555555555556,
              "#d8576b"
             ],
             [
              0.6666666666666666,
              "#ed7953"
             ],
             [
              0.7777777777777778,
              "#fb9f3a"
             ],
             [
              0.8888888888888888,
              "#fdca26"
             ],
             [
              1,
              "#f0f921"
             ]
            ],
            "type": "heatmap"
           }
          ],
          "histogram": [
           {
            "marker": {
             "pattern": {
              "fillmode": "overlay",
              "size": 10,
              "solidity": 0.2
             }
            },
            "type": "histogram"
           }
          ],
          "histogram2d": [
           {
            "colorbar": {
             "outlinewidth": 0,
             "ticks": ""
            },
            "colorscale": [
             [
              0,
              "#0d0887"
             ],
             [
              0.1111111111111111,
              "#46039f"
             ],
             [
              0.2222222222222222,
              "#7201a8"
             ],
             [
              0.3333333333333333,
              "#9c179e"
             ],
             [
              0.4444444444444444,
              "#bd3786"
             ],
             [
              0.5555555555555556,
              "#d8576b"
             ],
             [
              0.6666666666666666,
              "#ed7953"
             ],
             [
              0.7777777777777778,
              "#fb9f3a"
             ],
             [
              0.8888888888888888,
              "#fdca26"
             ],
             [
              1,
              "#f0f921"
             ]
            ],
            "type": "histogram2d"
           }
          ],
          "histogram2dcontour": [
           {
            "colorbar": {
             "outlinewidth": 0,
             "ticks": ""
            },
            "colorscale": [
             [
              0,
              "#0d0887"
             ],
             [
              0.1111111111111111,
              "#46039f"
             ],
             [
              0.2222222222222222,
              "#7201a8"
             ],
             [
              0.3333333333333333,
              "#9c179e"
             ],
             [
              0.4444444444444444,
              "#bd3786"
             ],
             [
              0.5555555555555556,
              "#d8576b"
             ],
             [
              0.6666666666666666,
              "#ed7953"
             ],
             [
              0.7777777777777778,
              "#fb9f3a"
             ],
             [
              0.8888888888888888,
              "#fdca26"
             ],
             [
              1,
              "#f0f921"
             ]
            ],
            "type": "histogram2dcontour"
           }
          ],
          "mesh3d": [
           {
            "colorbar": {
             "outlinewidth": 0,
             "ticks": ""
            },
            "type": "mesh3d"
           }
          ],
          "parcoords": [
           {
            "line": {
             "colorbar": {
              "outlinewidth": 0,
              "ticks": ""
             }
            },
            "type": "parcoords"
           }
          ],
          "pie": [
           {
            "automargin": true,
            "type": "pie"
           }
          ],
          "scatter": [
           {
            "fillpattern": {
             "fillmode": "overlay",
             "size": 10,
             "solidity": 0.2
            },
            "type": "scatter"
           }
          ],
          "scatter3d": [
           {
            "line": {
             "colorbar": {
              "outlinewidth": 0,
              "ticks": ""
             }
            },
            "marker": {
             "colorbar": {
              "outlinewidth": 0,
              "ticks": ""
             }
            },
            "type": "scatter3d"
           }
          ],
          "scattercarpet": [
           {
            "marker": {
             "colorbar": {
              "outlinewidth": 0,
              "ticks": ""
             }
            },
            "type": "scattercarpet"
           }
          ],
          "scattergeo": [
           {
            "marker": {
             "colorbar": {
              "outlinewidth": 0,
              "ticks": ""
             }
            },
            "type": "scattergeo"
           }
          ],
          "scattergl": [
           {
            "marker": {
             "colorbar": {
              "outlinewidth": 0,
              "ticks": ""
             }
            },
            "type": "scattergl"
           }
          ],
          "scattermap": [
           {
            "marker": {
             "colorbar": {
              "outlinewidth": 0,
              "ticks": ""
             }
            },
            "type": "scattermap"
           }
          ],
          "scattermapbox": [
           {
            "marker": {
             "colorbar": {
              "outlinewidth": 0,
              "ticks": ""
             }
            },
            "type": "scattermapbox"
           }
          ],
          "scatterpolar": [
           {
            "marker": {
             "colorbar": {
              "outlinewidth": 0,
              "ticks": ""
             }
            },
            "type": "scatterpolar"
           }
          ],
          "scatterpolargl": [
           {
            "marker": {
             "colorbar": {
              "outlinewidth": 0,
              "ticks": ""
             }
            },
            "type": "scatterpolargl"
           }
          ],
          "scatterternary": [
           {
            "marker": {
             "colorbar": {
              "outlinewidth": 0,
              "ticks": ""
             }
            },
            "type": "scatterternary"
           }
          ],
          "surface": [
           {
            "colorbar": {
             "outlinewidth": 0,
             "ticks": ""
            },
            "colorscale": [
             [
              0,
              "#0d0887"
             ],
             [
              0.1111111111111111,
              "#46039f"
             ],
             [
              0.2222222222222222,
              "#7201a8"
             ],
             [
              0.3333333333333333,
              "#9c179e"
             ],
             [
              0.4444444444444444,
              "#bd3786"
             ],
             [
              0.5555555555555556,
              "#d8576b"
             ],
             [
              0.6666666666666666,
              "#ed7953"
             ],
             [
              0.7777777777777778,
              "#fb9f3a"
             ],
             [
              0.8888888888888888,
              "#fdca26"
             ],
             [
              1,
              "#f0f921"
             ]
            ],
            "type": "surface"
           }
          ],
          "table": [
           {
            "cells": {
             "fill": {
              "color": "#EBF0F8"
             },
             "line": {
              "color": "white"
             }
            },
            "header": {
             "fill": {
              "color": "#C8D4E3"
             },
             "line": {
              "color": "white"
             }
            },
            "type": "table"
           }
          ]
         },
         "layout": {
          "annotationdefaults": {
           "arrowcolor": "#2a3f5f",
           "arrowhead": 0,
           "arrowwidth": 1
          },
          "autotypenumbers": "strict",
          "coloraxis": {
           "colorbar": {
            "outlinewidth": 0,
            "ticks": ""
           }
          },
          "colorscale": {
           "diverging": [
            [
             0,
             "#8e0152"
            ],
            [
             0.1,
             "#c51b7d"
            ],
            [
             0.2,
             "#de77ae"
            ],
            [
             0.3,
             "#f1b6da"
            ],
            [
             0.4,
             "#fde0ef"
            ],
            [
             0.5,
             "#f7f7f7"
            ],
            [
             0.6,
             "#e6f5d0"
            ],
            [
             0.7,
             "#b8e186"
            ],
            [
             0.8,
             "#7fbc41"
            ],
            [
             0.9,
             "#4d9221"
            ],
            [
             1,
             "#276419"
            ]
           ],
           "sequential": [
            [
             0,
             "#0d0887"
            ],
            [
             0.1111111111111111,
             "#46039f"
            ],
            [
             0.2222222222222222,
             "#7201a8"
            ],
            [
             0.3333333333333333,
             "#9c179e"
            ],
            [
             0.4444444444444444,
             "#bd3786"
            ],
            [
             0.5555555555555556,
             "#d8576b"
            ],
            [
             0.6666666666666666,
             "#ed7953"
            ],
            [
             0.7777777777777778,
             "#fb9f3a"
            ],
            [
             0.8888888888888888,
             "#fdca26"
            ],
            [
             1,
             "#f0f921"
            ]
           ],
           "sequentialminus": [
            [
             0,
             "#0d0887"
            ],
            [
             0.1111111111111111,
             "#46039f"
            ],
            [
             0.2222222222222222,
             "#7201a8"
            ],
            [
             0.3333333333333333,
             "#9c179e"
            ],
            [
             0.4444444444444444,
             "#bd3786"
            ],
            [
             0.5555555555555556,
             "#d8576b"
            ],
            [
             0.6666666666666666,
             "#ed7953"
            ],
            [
             0.7777777777777778,
             "#fb9f3a"
            ],
            [
             0.8888888888888888,
             "#fdca26"
            ],
            [
             1,
             "#f0f921"
            ]
           ]
          },
          "colorway": [
           "#636efa",
           "#EF553B",
           "#00cc96",
           "#ab63fa",
           "#FFA15A",
           "#19d3f3",
           "#FF6692",
           "#B6E880",
           "#FF97FF",
           "#FECB52"
          ],
          "font": {
           "color": "#2a3f5f"
          },
          "geo": {
           "bgcolor": "white",
           "lakecolor": "white",
           "landcolor": "#E5ECF6",
           "showlakes": true,
           "showland": true,
           "subunitcolor": "white"
          },
          "hoverlabel": {
           "align": "left"
          },
          "hovermode": "closest",
          "mapbox": {
           "style": "light"
          },
          "paper_bgcolor": "white",
          "plot_bgcolor": "#E5ECF6",
          "polar": {
           "angularaxis": {
            "gridcolor": "white",
            "linecolor": "white",
            "ticks": ""
           },
           "bgcolor": "#E5ECF6",
           "radialaxis": {
            "gridcolor": "white",
            "linecolor": "white",
            "ticks": ""
           }
          },
          "scene": {
           "xaxis": {
            "backgroundcolor": "#E5ECF6",
            "gridcolor": "white",
            "gridwidth": 2,
            "linecolor": "white",
            "showbackground": true,
            "ticks": "",
            "zerolinecolor": "white"
           },
           "yaxis": {
            "backgroundcolor": "#E5ECF6",
            "gridcolor": "white",
            "gridwidth": 2,
            "linecolor": "white",
            "showbackground": true,
            "ticks": "",
            "zerolinecolor": "white"
           },
           "zaxis": {
            "backgroundcolor": "#E5ECF6",
            "gridcolor": "white",
            "gridwidth": 2,
            "linecolor": "white",
            "showbackground": true,
            "ticks": "",
            "zerolinecolor": "white"
           }
          },
          "shapedefaults": {
           "line": {
            "color": "#2a3f5f"
           }
          },
          "ternary": {
           "aaxis": {
            "gridcolor": "white",
            "linecolor": "white",
            "ticks": ""
           },
           "baxis": {
            "gridcolor": "white",
            "linecolor": "white",
            "ticks": ""
           },
           "bgcolor": "#E5ECF6",
           "caxis": {
            "gridcolor": "white",
            "linecolor": "white",
            "ticks": ""
           }
          },
          "title": {
           "x": 0.05
          },
          "xaxis": {
           "automargin": true,
           "gridcolor": "white",
           "linecolor": "white",
           "ticks": "",
           "title": {
            "standoff": 15
           },
           "zerolinecolor": "white",
           "zerolinewidth": 2
          },
          "yaxis": {
           "automargin": true,
           "gridcolor": "white",
           "linecolor": "white",
           "ticks": "",
           "title": {
            "standoff": 15
           },
           "zerolinecolor": "white",
           "zerolinewidth": 2
          }
         }
        },
        "title": {
         "font": {
          "size": 18
         },
         "text": "🎯 Measurement Precision Dashboard: Algorithm vs Manual Agreement Analysis"
        },
        "width": 1350,
        "xaxis": {
         "anchor": "y",
         "domain": [
          0,
          0.27999999999999997
         ],
         "gridcolor": "lightgray",
         "gridwidth": 1,
         "showgrid": true,
         "title": {
          "font": {
           "size": 12
          },
          "text": "Manual Measurements (mm)"
         }
        },
        "xaxis2": {
         "anchor": "y2",
         "domain": [
          0.36,
          0.6399999999999999
         ],
         "gridcolor": "lightgray",
         "gridwidth": 1,
         "showgrid": true,
         "title": {
          "font": {
           "size": 12
          },
          "text": "Manual Measurements (mm)"
         }
        },
        "xaxis3": {
         "anchor": "y3",
         "domain": [
          0.72,
          1
         ],
         "gridcolor": "lightgray",
         "gridwidth": 1,
         "showgrid": true,
         "title": {
          "font": {
           "size": 12
          },
          "text": "Manual Measurements (mm)"
         }
        },
        "yaxis": {
         "anchor": "x",
         "domain": [
          0,
          1
         ],
         "gridcolor": "lightgray",
         "gridwidth": 1,
         "scaleanchor": "x",
         "scaleratio": 1,
         "showgrid": true,
         "title": {
          "font": {
           "size": 12
          },
          "text": "Algorithm Predictions (mm)"
         }
        },
        "yaxis2": {
         "anchor": "x2",
         "domain": [
          0,
          1
         ],
         "gridcolor": "lightgray",
         "gridwidth": 1,
         "scaleanchor": "x2",
         "scaleratio": 1,
         "showgrid": true
        },
        "yaxis3": {
         "anchor": "x3",
         "domain": [
          0,
          1
         ],
         "gridcolor": "lightgray",
         "gridwidth": 1,
         "scaleanchor": "x3",
         "scaleratio": 1,
         "showgrid": true
        }
       }
      }
     },
     "metadata": {},
     "output_type": "display_data"
    },
    {
     "name": "stdout",
     "output_type": "stream",
     "text": [
      "\n",
      "================================================================================\n",
      "🎯 MEASUREMENT PRECISION ANALYSIS COMPLETE!\n",
      "================================================================================\n",
      "\n",
      "📋 DETAILED PRECISION SUMMARY:\n",
      "--------------------------------------------------\n",
      "\n",
      "🏊‍♀️ Circle Female Pond Detailed Analysis:\n",
      "   📏 Mean Length: 32.43mm\n",
      "   📊 Std Boundary: ±2.88mm\n",
      "   🦐 Sample Size: 60 measurements\n",
      "   ✅ Within Bounds: 68.3%\n",
      "   📈 Mean Absolute Error: 2.42mm\n",
      "   📉 Mean Bias: -1.23mm\n",
      "   🎯 Precision Range: 0.12 - 4.92mm\n",
      "\n",
      "🏊‍♀️ Circle Male Pond Detailed Analysis:\n",
      "   📏 Mean Length: 24.61mm\n",
      "   📊 Std Boundary: ±3.42mm\n",
      "   🦐 Sample Size: 10 measurements\n",
      "   ✅ Within Bounds: 70.0%\n",
      "   📈 Mean Absolute Error: 2.28mm\n",
      "   📉 Mean Bias: -1.39mm\n",
      "   🎯 Precision Range: 0.14 - 4.44mm\n",
      "\n",
      "🏊‍♀️ Square Pond Detailed Analysis:\n",
      "   📏 Mean Length: 32.32mm\n",
      "   📊 Std Boundary: ±3.10mm\n",
      "   🦐 Sample Size: 10 measurements\n",
      "   ✅ Within Bounds: 50.0%\n",
      "   📈 Mean Absolute Error: 2.73mm\n",
      "   📉 Mean Bias: -2.57mm\n",
      "   🎯 Precision Range: 0.77 - 4.18mm\n",
      "\n",
      "================================================================================\n",
      "🎨 VISUALIZATION FEATURES:\n",
      "   📍 Interactive hover: Shows image name, prawn ID, and measurement details\n",
      "   📐 Perfect agreement line: Black diagonal (y=x)\n",
      "   📊 Precision boundaries: Blue dashed lines (±std)\n",
      "   🏊‍♀️ Color coding: Consistent with previous analyses\n",
      "   📏 Equal aspect ratio: Accurate visual comparison\n",
      "================================================================================\n",
      "\n",
      "🚀 KEY INSIGHTS:\n",
      "   🎯 Points closer to diagonal = better algorithm-manual agreement\n",
      "   📊 Points within blue boundaries = acceptable precision range\n",
      "   🏊‍♀️ Each pond type shows distinct precision characteristics\n",
      "   📈 Hover over any point to see detailed measurement information\n",
      "================================================================================\n"
     ]
    }
   ],
   "source": [
    "# 🎯 COMPREHENSIVE MEASUREMENT PRECISION ANALYSIS\n",
    "# ===============================================\n",
    "\n",
    "print(\"🚀 Starting comprehensive measurement precision analysis...\")\n",
    "print(\"📊 Analyzing algorithm-manual agreement patterns across pond environments\")\n",
    "print(\"=\" * 80)\n",
    "\n",
    "# 📋 Initialize analysis parameters\n",
    "pond_types = df['Pond_Type'].unique()\n",
    "n_pond_types = len(pond_types)\n",
    "\n",
    "# 🎨 Enhanced color scheme for pond types (consistent with previous analyses)\n",
    "pond_colors_enhanced = {\n",
    "    'circle_female': '#FF6B6B',  # Coral red\n",
    "    'circle_male': '#4ECDC4',    # Teal  \n",
    "    'square': '#45B7D1'          # Sky blue\n",
    "}\n",
    "\n",
    "# 📊 PHASE 1: Data Preparation and Statistical Summary\n",
    "# ===================================================\n",
    "\n",
    "print(\"\\n📈 PHASE 1: Calculating precision metrics for each pond type...\")\n",
    "\n",
    "pond_scatter_data = {}\n",
    "precision_summary = {}\n",
    "\n",
    "for pond_type in pond_types:\n",
    "    print(f\"\\n🏊‍♀️ --- {pond_type.replace('_', ' ').title()} Pond Analysis ---\")\n",
    "    \n",
    "    # Extract pond-specific data\n",
    "    df_pond = df[df['Pond_Type'] == pond_type].copy()\n",
    "    \n",
    "    # Calculate basic statistics\n",
    "    mean_length = df_pond['mean_length'].mean()\n",
    "    std_length = df_pond['std_length'].mean()\n",
    "    sample_size = len(df_pond)\n",
    "    \n",
    "    print(f\"📏 Mean prawn length: {mean_length:.2f}mm\")\n",
    "    print(f\"📊 Standard deviation: {std_length:.2f}mm\")\n",
    "    print(f\"🦐 Sample size: {sample_size} measurements\")\n",
    "    \n",
    "    # 🎯 Calculate precision boundaries\n",
    "    min_val = min(df_pond['mean_length'].min(), df_pond['Length_fov(mm)'].min())\n",
    "    max_val = max(df_pond['mean_length'].max(), df_pond['Length_fov(mm)'].max())\n",
    "    x_range = np.linspace(min_val, max_val, 100)\n",
    "    \n",
    "    # 📐 Calculate agreement metrics\n",
    "    within_bounds = ((df_pond['Length_fov(mm)'] <= df_pond['mean_length'] + std_length) & \n",
    "                    (df_pond['Length_fov(mm)'] >= df_pond['mean_length'] - std_length)).mean() * 100\n",
    "    \n",
    "    print(f\"✅ Agreement rate (within ±{std_length:.1f}mm): {within_bounds:.1f}%\")\n",
    "    \n",
    "    # Store processed data\n",
    "    pond_scatter_data[pond_type] = {\n",
    "        'df_pond': df_pond,\n",
    "        'x': x_range,\n",
    "        'median_mad': std_length,\n",
    "        'within_bounds': within_bounds,\n",
    "        'color': pond_colors_enhanced.get(pond_type, '#333333')\n",
    "    }\n",
    "    \n",
    "    precision_summary[pond_type] = {\n",
    "        'mean_length': mean_length,\n",
    "        'std_length': std_length,\n",
    "        'sample_size': sample_size,\n",
    "        'agreement_rate': within_bounds\n",
    "    }\n",
    "    \n",
    "    print(\"─\" * 50)\n",
    "\n",
    "# 📊 PHASE 2: Interactive Scatter Plot Visualization\n",
    "# =================================================\n",
    "\n",
    "print(\"\\n🎨 PHASE 2: Creating interactive precision scatter plots...\")\n",
    "\n",
    "# Create enhanced subplot structure\n",
    "fig = make_subplots(\n",
    "    rows=1, cols=n_pond_types,\n",
    "    subplot_titles=[f'🏊‍♀️ {pond_type.replace(\"_\", \" \").title()} Pond<br>'\n",
    "                   f'<sub>Agreement: {pond_scatter_data[pond_type][\"within_bounds\"]:.1f}% | '\n",
    "                   f'n={precision_summary[pond_type][\"sample_size\"]}</sub>' \n",
    "                   for pond_type in pond_types],\n",
    "    shared_yaxes=False,\n",
    "    horizontal_spacing=0.08\n",
    ")\n",
    "\n",
    "# 🎯 Add traces for each pond type\n",
    "for i, pond_type in enumerate(pond_types, 1):\n",
    "    data = pond_scatter_data[pond_type]\n",
    "    df_pond = data['df_pond']\n",
    "    x_range = data['x']\n",
    "    std_boundary = data['median_mad']\n",
    "    color = data['color']\n",
    "    \n",
    "    # 📍 Add measurement scatter points with enhanced hover\n",
    "    fig.add_trace(\n",
    "        go.Scatter(\n",
    "            x=df_pond['mean_length'],\n",
    "            y=df_pond['Length_fov(mm)'],\n",
    "            mode='markers',\n",
    "            name='🦐 Measurements' if i == 1 else '',\n",
    "            marker=dict(\n",
    "                color=color,\n",
    "                opacity=0.8,\n",
    "                size=8,\n",
    "                line=dict(width=1, color='white')\n",
    "            ),\n",
    "            showlegend=(i == 1),\n",
    "            hovertemplate=\"<b>🦐 Prawn Measurement</b><br>\" +\n",
    "                         \"🏊‍♀️ Pond: \" + pond_type.replace('_', ' ').title() + \"<br>\" +\n",
    "                         \"🖼️ Image: %{customdata[0]}<br>\" +\n",
    "                         \"🆔 Prawn ID: %{customdata[1]}<br>\" +\n",
    "                         \"📏 Manual: %{x:.1f}mm<br>\" +\n",
    "                         \"🤖 Algorithm: %{y:.1f}mm<br>\" +\n",
    "                         \"📊 Difference: %{customdata[2]:.1f}mm<br>\" +\n",
    "                         \"<extra></extra>\",\n",
    "            customdata=df_pond[['Label', 'PrawnID']].assign(\n",
    "                diff=df_pond['Length_fov(mm)'] - df_pond['mean_length']\n",
    "            )[['Label', 'PrawnID', 'diff']].values\n",
    "        ),\n",
    "        row=1, col=i\n",
    "    )\n",
    "    \n",
    "    # ━━ Add perfect agreement line (y=x)\n",
    "    fig.add_trace(\n",
    "        go.Scatter(\n",
    "            x=x_range, y=x_range,\n",
    "            mode='lines',\n",
    "            name='📐 Perfect Agreement (y=x)' if i == 1 else '',\n",
    "            line=dict(color='black', width=2, dash='dash'),\n",
    "            showlegend=(i == 1),\n",
    "            hovertemplate=\"Perfect Agreement Line<br>Manual = Algorithm<extra></extra>\"\n",
    "        ),\n",
    "        row=1, col=i\n",
    "    )\n",
    "    \n",
    "    # ▲ Add upper precision boundary\n",
    "    fig.add_trace(\n",
    "        go.Scatter(\n",
    "            x=x_range, y=x_range + std_boundary,\n",
    "            mode='lines',\n",
    "            name=f'📊 ±{std_boundary:.1f}mm Boundaries' if i == 1 else '',\n",
    "            line=dict(color='#2c7fb8', width=1, dash='dot'),\n",
    "            showlegend=(i == 1),\n",
    "            hovertemplate=f\"Upper Boundary (+{std_boundary:.1f}mm)<extra></extra>\"\n",
    "        ),\n",
    "        row=1, col=i\n",
    "    )\n",
    "    \n",
    "    # ▼ Add lower precision boundary\n",
    "    fig.add_trace(\n",
    "        go.Scatter(\n",
    "            x=x_range, y=x_range - std_boundary,\n",
    "            mode='lines',\n",
    "            name='',  # Don't show in legend (same as upper)\n",
    "            line=dict(color='#2c7fb8', width=1, dash='dot'),\n",
    "            showlegend=False,\n",
    "            hovertemplate=f\"Lower Boundary (-{std_boundary:.1f}mm)<extra></extra>\"\n",
    "        ),\n",
    "        row=1, col=i\n",
    "    )\n",
    "\n",
    "# 🎨 Enhanced layout configuration\n",
    "fig.update_layout(\n",
    "    title_text=\"🎯 Measurement Precision Dashboard: Algorithm vs Manual Agreement Analysis\",\n",
    "    title_font_size=18,\n",
    "    width=450*n_pond_types,\n",
    "    height=650,\n",
    "    showlegend=True,\n",
    "    legend=dict(\n",
    "        orientation=\"h\",\n",
    "        yanchor=\"bottom\",\n",
    "        y=1.02,\n",
    "        xanchor=\"center\",\n",
    "        x=0.5,\n",
    "        font=dict(size=12)\n",
    "    ),\n",
    "    plot_bgcolor='white'\n",
    ")\n",
    "\n",
    "# 📊 Update axes for each subplot\n",
    "for i in range(1, n_pond_types + 1):\n",
    "    fig.update_xaxes(\n",
    "        title_text=\"Manual Measurements (mm)\",\n",
    "        row=1, col=i,\n",
    "        showgrid=True,\n",
    "        gridwidth=1,\n",
    "        gridcolor='lightgray',\n",
    "        title_font_size=12\n",
    "    )\n",
    "    \n",
    "    # Equal aspect ratio for accurate visual comparison\n",
    "    fig.update_yaxes(\n",
    "        scaleanchor=f\"x{i if i > 1 else ''}\",\n",
    "        scaleratio=1,\n",
    "        row=1, col=i,\n",
    "        showgrid=True,\n",
    "        gridwidth=1,\n",
    "        gridcolor='lightgray'\n",
    "    )\n",
    "\n",
    "# Update y-axis title for the first subplot only\n",
    "fig.update_yaxes(\n",
    "    title_text=\"Algorithm Predictions (mm)\",\n",
    "    row=1, col=1,\n",
    "    title_font_size=12\n",
    ")\n",
    "\n",
    "# 📝 Add informative annotations\n",
    "fig.add_annotation(\n",
    "    text=\"💡 Hover over points for detailed measurement info | Points near diagonal = better agreement\",\n",
    "    xref=\"paper\", yref=\"paper\",\n",
    "    x=0.5, y=-0.08,\n",
    "    showarrow=False,\n",
    "    font=dict(size=11, color=\"gray\"),\n",
    "    xanchor=\"center\"\n",
    ")\n",
    "\n",
    "print(\"✨ Interactive scatter plot created successfully!\")\n",
    "print(\"🎯 Visualization includes:\")\n",
    "print(\"   📍 Measurement points with detailed hover information\")\n",
    "print(\"   📐 Perfect agreement line (y=x diagonal)\")\n",
    "print(\"   📊 Precision boundaries (±standard deviation)\")\n",
    "print(\"   🏊‍♀️ Pond-specific color coding and statistics\")\n",
    "\n",
    "# 📈 Display the visualization\n",
    "fig.show()\n",
    "\n",
    "# 📊 PHASE 3: Comprehensive Precision Summary Report\n",
    "# =================================================\n",
    "\n",
    "print(\"\\n\" + \"=\"*80)\n",
    "print(\"🎯 MEASUREMENT PRECISION ANALYSIS COMPLETE!\")\n",
    "print(\"=\"*80)\n",
    "\n",
    "print(\"\\n📋 DETAILED PRECISION SUMMARY:\")\n",
    "print(\"-\" * 50)\n",
    "\n",
    "for pond_type in pond_types:\n",
    "    data = pond_scatter_data[pond_type]\n",
    "    df_pond = data['df_pond']\n",
    "    \n",
    "    # Calculate additional precision metrics\n",
    "    actual_differences = df_pond['Length_fov(mm)'] - df_pond['mean_length']\n",
    "    abs_differences = abs(actual_differences)\n",
    "    \n",
    "    print(f\"\\n🏊‍♀️ {pond_type.replace('_', ' ').title()} Pond Detailed Analysis:\")\n",
    "    print(f\"   📏 Mean Length: {df_pond['mean_length'].mean():.2f}mm\")\n",
    "    print(f\"   📊 Std Boundary: ±{data['median_mad']:.2f}mm\")\n",
    "    print(f\"   🦐 Sample Size: {len(df_pond)} measurements\")\n",
    "    print(f\"   ✅ Within Bounds: {data['within_bounds']:.1f}%\")\n",
    "    print(f\"   📈 Mean Absolute Error: {abs_differences.mean():.2f}mm\")\n",
    "    print(f\"   📉 Mean Bias: {actual_differences.mean():.2f}mm\")\n",
    "    print(f\"   🎯 Precision Range: {abs_differences.min():.2f} - {abs_differences.max():.2f}mm\")\n",
    "\n",
    "print(\"\\n\" + \"=\"*80)\n",
    "print(\"🎨 VISUALIZATION FEATURES:\")\n",
    "print(\"   📍 Interactive hover: Shows image name, prawn ID, and measurement details\")\n",
    "print(\"   📐 Perfect agreement line: Black diagonal (y=x)\")\n",
    "print(\"   📊 Precision boundaries: Blue dashed lines (±std)\")\n",
    "print(\"   🏊‍♀️ Color coding: Consistent with previous analyses\")\n",
    "print(\"   📏 Equal aspect ratio: Accurate visual comparison\")\n",
    "print(\"=\"*80)\n",
    "\n",
    "print(\"\\n🚀 KEY INSIGHTS:\")\n",
    "print(\"   🎯 Points closer to diagonal = better algorithm-manual agreement\")\n",
    "print(\"   📊 Points within blue boundaries = acceptable precision range\")\n",
    "print(\"   🏊‍♀️ Each pond type shows distinct precision characteristics\")\n",
    "print(\"   📈 Hover over any point to see detailed measurement information\")\n",
    "print(\"=\"*80)"
   ]
  }
 ],
 "metadata": {
  "kernelspec": {
   "display_name": ".venv",
   "language": "python",
   "name": "python3"
  },
  "language_info": {
   "codemirror_mode": {
    "name": "ipython",
    "version": 3
   },
   "file_extension": ".py",
   "mimetype": "text/x-python",
   "name": "python",
   "nbconvert_exporter": "python",
   "pygments_lexer": "ipython3",
   "version": "3.12.7"
  }
 },
 "nbformat": 4,
 "nbformat_minor": 2
}
