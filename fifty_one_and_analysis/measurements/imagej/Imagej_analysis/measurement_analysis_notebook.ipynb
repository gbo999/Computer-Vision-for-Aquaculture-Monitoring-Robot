{
 "cells": [
  {
   "cell_type": "markdown",
   "metadata": {},
   "source": [
    "# 🦐 Carapace/total Measurement Error Analysis: A Deep Dive into Prawn Detection Accuracy\n",
    "\n",
    "## 🎯 Mission Statement\n",
    "Welcome to our comprehensive analysis of carapace measurement errors in prawn detection! This notebook explores the fascinating world of measurement precision, where pixel errors and scale errors dance together in a complex choreography of accuracy and uncertainty.\n",
    "\n",
    "## 🔬 What We'll Discover\n",
    "- **Error Decomposition**: How pixel and scale errors contribute to total measurement uncertainty\n",
    "- **Cancellation Effects**: The surprising ways errors can partially cancel each other out\n",
    "- **Pond-Specific Patterns**: How different pond environments affect measurement accuracy\n",
    "- **Annotation Quality**: Comparing different annotation methods and their impact\n",
    "\n",
    "---\n",
    "\n",
    "## 📚 Essential Imports & Setup"
   ]
  },
  {
   "cell_type": "code",
   "execution_count": 52,
   "metadata": {},
   "outputs": [
    {
     "name": "stdout",
     "output_type": "stream",
     "text": [
      "🚀 Libraries loaded successfully!\n",
      "📊 Ready to dive into prawn measurement mysteries...\n",
      "\n",
      "📈 Dataset loaded: 119 measurements across 3 pond types\n",
      "🏊‍♀️ Pond types: circle_female, circle_male, square\n",
      "\n",
      "📏 All measurements converted to centimeters\n"
     ]
    },
    {
     "data": {
      "text/html": [
       "<div>\n",
       "<style scoped>\n",
       "    .dataframe tbody tr th:only-of-type {\n",
       "        vertical-align: middle;\n",
       "    }\n",
       "\n",
       "    .dataframe tbody tr th {\n",
       "        vertical-align: top;\n",
       "    }\n",
       "\n",
       "    .dataframe thead th {\n",
       "        text-align: right;\n",
       "    }\n",
       "</style>\n",
       "<table border=\"1\" class=\"dataframe\">\n",
       "  <thead>\n",
       "    <tr style=\"text-align: right;\">\n",
       "      <th></th>\n",
       "      <th>Label</th>\n",
       "      <th>PrawnID</th>\n",
       "      <th>Pond_Type</th>\n",
       "      <th>mean_length</th>\n",
       "      <th>std_length</th>\n",
       "      <th>Length_fov(mm)</th>\n",
       "      <th>mean_pixels</th>\n",
       "      <th>pred_Distance_pixels</th>\n",
       "      <th>Length_ground_truth_annotation_pixels</th>\n",
       "      <th>mean_scale</th>\n",
       "      <th>pred_scale</th>\n",
       "      <th>std_scale</th>\n",
       "      <th>std_pixels</th>\n",
       "    </tr>\n",
       "  </thead>\n",
       "  <tbody>\n",
       "    <tr>\n",
       "      <th>0</th>\n",
       "      <td>full body:undistorted_GX010077_14_237.jpg_gamma</td>\n",
       "      <td>Prawn_0</td>\n",
       "      <td>circle_female</td>\n",
       "      <td>75.624000</td>\n",
       "      <td>3.484291</td>\n",
       "      <td>88.223862</td>\n",
       "      <td>397.144449</td>\n",
       "      <td>475.986860</td>\n",
       "      <td>381.935664</td>\n",
       "      <td>52.616333</td>\n",
       "      <td>53.952168</td>\n",
       "      <td>3.279847</td>\n",
       "      <td>7.030495</td>\n",
       "    </tr>\n",
       "    <tr>\n",
       "      <th>1</th>\n",
       "      <td>full body:undistorted_GX010077_14_237.jpg_gamma</td>\n",
       "      <td>Prawn_1</td>\n",
       "      <td>circle_female</td>\n",
       "      <td>119.409000</td>\n",
       "      <td>7.534347</td>\n",
       "      <td>130.307259</td>\n",
       "      <td>626.987760</td>\n",
       "      <td>701.859664</td>\n",
       "      <td>703.474985</td>\n",
       "      <td>52.616333</td>\n",
       "      <td>53.861901</td>\n",
       "      <td>3.279847</td>\n",
       "      <td>26.136596</td>\n",
       "    </tr>\n",
       "    <tr>\n",
       "      <th>2</th>\n",
       "      <td>full body:undistorted_GX010077_14_237.jpg_gamma</td>\n",
       "      <td>Prawn_2</td>\n",
       "      <td>circle_female</td>\n",
       "      <td>104.471333</td>\n",
       "      <td>11.118477</td>\n",
       "      <td>121.385411</td>\n",
       "      <td>551.072805</td>\n",
       "      <td>656.609979</td>\n",
       "      <td>580.506159</td>\n",
       "      <td>52.616333</td>\n",
       "      <td>54.092990</td>\n",
       "      <td>3.279847</td>\n",
       "      <td>84.243940</td>\n",
       "    </tr>\n",
       "    <tr>\n",
       "      <th>3</th>\n",
       "      <td>full body:undistorted_GX010067_33_625.jpg_gamma</td>\n",
       "      <td>Prawn_0</td>\n",
       "      <td>circle_female</td>\n",
       "      <td>120.649333</td>\n",
       "      <td>11.749097</td>\n",
       "      <td>139.780255</td>\n",
       "      <td>700.400878</td>\n",
       "      <td>748.301965</td>\n",
       "      <td>684.970469</td>\n",
       "      <td>58.258000</td>\n",
       "      <td>53.534168</td>\n",
       "      <td>3.691984</td>\n",
       "      <td>35.512846</td>\n",
       "    </tr>\n",
       "    <tr>\n",
       "      <th>4</th>\n",
       "      <td>full body:undistorted_GX010067_33_625.jpg_gamma</td>\n",
       "      <td>Prawn_1</td>\n",
       "      <td>circle_female</td>\n",
       "      <td>93.004000</td>\n",
       "      <td>6.587385</td>\n",
       "      <td>102.721787</td>\n",
       "      <td>540.592735</td>\n",
       "      <td>551.039760</td>\n",
       "      <td>531.465367</td>\n",
       "      <td>58.258000</td>\n",
       "      <td>53.643903</td>\n",
       "      <td>3.691984</td>\n",
       "      <td>24.659267</td>\n",
       "    </tr>\n",
       "  </tbody>\n",
       "</table>\n",
       "</div>"
      ],
      "text/plain": [
       "                                             Label  PrawnID      Pond_Type  \\\n",
       "0  full body:undistorted_GX010077_14_237.jpg_gamma  Prawn_0  circle_female   \n",
       "1  full body:undistorted_GX010077_14_237.jpg_gamma  Prawn_1  circle_female   \n",
       "2  full body:undistorted_GX010077_14_237.jpg_gamma  Prawn_2  circle_female   \n",
       "3  full body:undistorted_GX010067_33_625.jpg_gamma  Prawn_0  circle_female   \n",
       "4  full body:undistorted_GX010067_33_625.jpg_gamma  Prawn_1  circle_female   \n",
       "\n",
       "   mean_length  std_length  Length_fov(mm)  mean_pixels  pred_Distance_pixels  \\\n",
       "0    75.624000    3.484291       88.223862   397.144449            475.986860   \n",
       "1   119.409000    7.534347      130.307259   626.987760            701.859664   \n",
       "2   104.471333   11.118477      121.385411   551.072805            656.609979   \n",
       "3   120.649333   11.749097      139.780255   700.400878            748.301965   \n",
       "4    93.004000    6.587385      102.721787   540.592735            551.039760   \n",
       "\n",
       "   Length_ground_truth_annotation_pixels  mean_scale  pred_scale  std_scale  \\\n",
       "0                             381.935664   52.616333   53.952168   3.279847   \n",
       "1                             703.474985   52.616333   53.861901   3.279847   \n",
       "2                             580.506159   52.616333   54.092990   3.279847   \n",
       "3                             684.970469   58.258000   53.534168   3.691984   \n",
       "4                             531.465367   58.258000   53.643903   3.691984   \n",
       "\n",
       "   std_pixels  \n",
       "0    7.030495  \n",
       "1   26.136596  \n",
       "2   84.243940  \n",
       "3   35.512846  \n",
       "4   24.659267  "
      ]
     },
     "execution_count": 52,
     "metadata": {},
     "output_type": "execute_result"
    }
   ],
   "source": [
    "# Core data science libraries\n",
    "import pandas as pd\n",
    "import numpy as np\n",
    "from typing import Dict, List, Tuple, Optional\n",
    "from pathlib import Path\n",
    "import os\n",
    "# Visualization powerhouses\n",
    "import matplotlib.pyplot as plt\n",
    "import seaborn as sns\n",
    "import plotly.graph_objects as go\n",
    "import plotly.express as px\n",
    "from plotly.subplots import make_subplots\n",
    "\n",
    "# Statistical analysis\n",
    "from scipy.stats import median_abs_deviation\n",
    "\n",
    "# Aesthetic improvements\n",
    "plt.style.use('seaborn-v0_8')\n",
    "sns.set_palette(\"husl\")\n",
    "import warnings\n",
    "warnings.filterwarnings('ignore')\n",
    "\n",
    "# 🎨 Custom color palette for pond types\n",
    "POND_COLORS = {\n",
    "    'circle_female': '#FF6B6B',  # Coral red\n",
    "    'circle_male': '#4ECDC4',    # Teal\n",
    "    'square': '#45B7D1'          # Sky blue\n",
    "}\n",
    "\n",
    "print(\"🚀 Libraries loaded successfully!\")\n",
    "print(\"📊 Ready to dive into prawn measurement mysteries...\")\n",
    "\n",
    "# Load the dataset\n",
    "#choose body or carapace as type\n",
    "type='body' #body or carapace\n",
    "\n",
    "# Get the project root directory (2 levels up from the notebook)\n",
    "project_root = Path(os.getcwd()).parent.parent\n",
    "DATA_PATH = project_root/'imagej'  /'spreadsheet_files' / f'error_flags_analysis_{type}_all_mean.csv'\n",
    "df = pd.read_csv(DATA_PATH)\n",
    "\n",
    "# Convert millimeter measurements to centimeters\n",
    "mm_columns = ['mean_length', 'Length_fov(mm)', 'mean_scale', 'pred_scale']\n",
    "for col in mm_columns:\n",
    "    if col in df.columns:\n",
    "        df[col] = df[col] \n",
    "\n",
    "print(f\"\\n📈 Dataset loaded: {len(df)} measurements across {df['Pond_Type'].nunique()} pond types\")\n",
    "print(f\"🏊‍♀️ Pond types: {', '.join(df['Pond_Type'].unique())}\")\n",
    "print(\"\\n📏 All measurements converted to centimeters\")\n",
    "df.head()"
   ]
  },
  {
   "cell_type": "markdown",
   "metadata": {},
   "source": []
  },
  {
   "cell_type": "markdown",
   "metadata": {},
   "source": [
    "## Length Error Comparison Visualization\n",
    "\n",
    "The `create_length_error_comparison` function is designed to generate a visualization that compares actual versus predicted lengths, along with their associated error rates. This visualization is similar to a reference image with a dual-axis plot, providing a comprehensive view of measurement accuracy.\n",
    "\n",
    "### Steps to Create the Visualization\n",
    "\n",
    "1. **Data Preparation**:\n",
    "   - The dataframe is sorted by `mean_length` to ensure a smooth progression in the visualization.\n",
    "\n",
    "2. **Error Rate Calculation**:\n",
    "   - The error rate is computed as a percentage, representing the absolute difference between actual and predicted lengths relative to the actual length.\n",
    "\n",
    "3. **Figure Setup**:\n",
    "   - A figure is created with a secondary y-axis to accommodate both length and error rate data.\n",
    "\n",
    "4. **Adding Traces**:\n",
    "   - **Actual Values**: Plotted as a black line with markers.\n",
    "   - **Output Values**: Plotted as a red line with markers.\n",
    "   - **Error Rate**: Displayed as a light gray bar chart.\n",
    "\n",
    "5. **Layout Customization**:\n",
    "   - The layout is customized with a title, background color, dimensions, and a legend. Hover mode is set to unify x-axis interactions.\n",
    "\n",
    "6. **Axes Configuration**:\n",
    "   - The x-axis is labeled \"Measurement Index\" with grid lines.\n",
    "   - The primary y-axis is labeled \"Length (mm)\" with grid lines.\n",
    "   - The secondary y-axis is labeled \"Error Rate (%)\" with a range of 0-25% and no grid lines.\n",
    "\n",
    "7. **Grid Lines**:\n",
    "   - Horizontal grid lines are added at 5% intervals on the secondary y-axis for better visualization of error rates.\n",
    "\n",
    "8. **Display**:\n",
    "   - The plot is displayed using `fig.show()`."
   ]
  },
  {
   "cell_type": "code",
   "execution_count": 53,
   "metadata": {},
   "outputs": [
    {
     "data": {
      "application/vnd.plotly.v1+json": {
       "config": {
        "plotlyServerURL": "https://plot.ly"
       },
       "data": [
        {
         "line": {
          "color": "black",
          "width": 2
         },
         "marker": {
          "size": 6
         },
         "mode": "lines+markers",
         "name": "Actual Values",
         "type": "scatter",
         "x": {
          "bdata": "AAECAwQFBgcICQoLDA0ODxAREhMUFRYXGBkaGxwdHh8gISIjJCUmJygpKissLS4vMDEyMzQ1Njc4OTo7PD0+P0BBQkNERUZHSElKS0xNTk9QUVJTVFVWV1hZWltcXV5fYGFiY2RlZmdoaWprbG1ub3BxcnN0dXY=",
          "dtype": "i1"
         },
         "xaxis": "x",
         "y": {
          "bdata": "ME/UvxHKR0A/NV66STxMQDfQaQOdNk5Ake18PzU+UEDn+6nx0t1QQIts5/up+VBAqTj78BkGUUDLoUW28xVSQCGwcmiRRVJADy2yne/nUkC4Za2OCcZUQI1QRm/LAlVAUI2XbhJLVUBNqTj78FlVQDsmeDBP7FVAd76fGi91VkDwp8ZLN8FWQG+EMnpb1lZAx0s3iUFAV0AxlvxiyUdXQDVeukkMkldA65jgwTyZV0DRItv5frpXQFpkO99PzVdAXbpJDALrV0Bwy1odE+xXQHsUrkfhWlhAic+wK0CuWEDcay4kTclYQF0Bcq+54FhAzYWkKRXnWEAAjlBGbwNZQACOUEZvM1lA8Bl2BchNWUCaC0lTKnZZQBuhjN6WvVlANewKkHvNWUDwp8ZLNwFaQJoLSVMqHlpA393d3d1lWkC4HoXrUXhaQLmQNKXilFpAg8DKoUX+WkDIBA/miQJbQKhUnH34JFtAJJTR27IuW0AMSVMqzjZbQEGnDXTagFtAjSW/WPLjW0BcHRM8mOdbQMBY8osl71tA4+zDZ9gNXEANdNpApx1cQIGVQ4tsJ1xAF9nO91NLXEAxCKwcWkxcQEsMAiuHblxA/tR46SZxXEBQRm/LWnVcQBT1b4QyelxA8Bl2Bch9XEDR27JWx6xcQAYP5on6z1xAnDbQaQPVXEAMSVMqzt5cQEiaUnH2EV1AvALkXnMxXUCsjgkezDNdQM3MzMzMNF1ARIts5/upXUBcHRM8mL9dQBkEVg4t2l1AAEcoo7f1XUC0VscEDwZeQKK3Za2OKV5AdzBP1L8xXkDflrU6JlheQAyQe82FdF5AdzBP1L95XkBWnH34DMteQLaBThvo3F5AutdcSJoKX0B4d3d3dw9fQEiaUnH2GV9Aw/UoXI+CX0C+LWt1TJhfQJ2ofyOUwV9APzVeuknEX0DdslbHBMdfQHDLWh0T/F9AA+RecyEFYEAjlNHbsgZgQJX8YskvOmBAs1bHBA8+YEDLoUW280VgQOPsw2fYZWBA/tR46SaJYEAX2c73U4tgQIcW2c73x2BA3t3d3d3RYEAYkqZUnNVgQIR5ov6N+GBAbxKDwMr5YECRplScffxgQNyyVscEA2FA/PAZdgUYYUDP91PjpSNhQIMyelvWMmFAyAQP5onWYUBA7jUXkvphQBHK6G1ZD2JANxeSplRIYkDZzvdT43liQFO4HoXrfWJANOwKkHuFYkBhnqh/I9xiQD0K16NwFWNAr7mQNKVqY0Ag95oLSRtlQA==",
          "dtype": "f8"
         },
         "yaxis": "y"
        },
        {
         "line": {
          "color": "red",
          "width": 2
         },
         "marker": {
          "size": 6
         },
         "mode": "lines+markers",
         "name": "Output Values",
         "type": "scatter",
         "x": {
          "bdata": "AAECAwQFBgcICQoLDA0ODxAREhMUFRYXGBkaGxwdHh8gISIjJCUmJygpKissLS4vMDEyMzQ1Njc4OTo7PD0+P0BBQkNERUZHSElKS0xNTk9QUVJTVFVWV1hZWltcXV5fYGFiY2RlZmdoaWprbG1ub3BxcnN0dXY=",
          "dtype": "i1"
         },
         "xaxis": "x",
         "y": {
          "bdata": "30Z0aOnIOEAwHWRm/2hSQN9GdGjpyDhAKNS6Et66VEDOiNGCXDNWQDWSkYhOw1NAnVWv2Vp7VEBTMr/X92NPQATfYdtS0FdA4CWwwFMOVkBdXEdvuCVZQNFPxqJ/v1ZAYqgqb8uSVUCTvuFmVV1aQG1t9GkcIVlAzRu/oBcoV0Dag3Qy915ZQAuFeKE9311AdgmOwzGuWUCGgNHqcrpZQCDUvupeWFtAmkyH6DKWV0BS9iWPXxZeQIB37WYnDF1AsFO262MJXEBow88WCK1eQKv9dYUqal5A0nVCFA5BXEDVQRga+NBaQIvTzI+SJV9Ag5odTU0HX0BxyQEbaulWQM7bI6LLEF9AcFHNjYlKX0BONt/SkLpbQAdZV0pGpV9A97e0CJNKX0AorI/k3dxWQLgCXZSqWF5AkTzDorlnW0DF5YJt+2leQONMdRYcy2FA5HKMfujuX0CID2rjPVVdQF0KANFHKlhAKtM4HlvXX0DqxpuGH/RcQKgn7YBpV1xAh9xOyIsZV0A3/5AuJdVeQKgehLTJK19AdKUuhqGKXUDn2A0Qi5RdQHbuFoIunF5A6dIcjuicYEAUhM4MmJRdQObSlqu7Pl5Ai7JAWvKlWkCqjcgtwCZgQCrlfcdjw1lA6xP3lqtuYUBXh60NlgdfQL0F845hOWBADq3nm7PCYUB2bXNv+CRfQMsavVFZpF5ANShxS8g7YEBas5RcfvNgQGHiQDzvbltA2yK64eJGYUB9aL+U7xpfQAng7A/VSWBA0FAZOrjWYkD3H4T1iwhfQBcUedj3eGFASrw8mRuPYUC+gnWR5J5hQK/Ir0xDZ19A+/EQdMt6XUDQ0P7ZQcpgQKsGhMHU/11Ay07t+UhOX0B8pm2rFBxiQMDOw7Ej2mJAItkwQbXHXkCFKKqZsDlhQJ+cIMI/sF5A36zHQNkoYEBDSmUC1GpbQPM5PvcwEWNAi0b9DrSdYUD+4pLXDXxhQLvCGvKYMmNAemSVyd0WY0BDlZsbyb9gQHbi4SFeDmJA6iYfaMFtYkD7lvrHhhBjQOR3lohmn19AAHB2twLQX0DDW4rEnuNgQB0tAjMO+GFApznugoFfYED96oO/tZxgQKF+Pu7OE19AORSW3yqqYUBAlTKq3lVhQA3jXlDhCmJAi0b9DrSdYUA0Tlm2Zf5iQPNUUfOvu2FAhh81luPfXUAR0UJSqeliQML5/6ZKd19AOe5YTOaWY0DVyQdj/GVkQIYVWwwjg2BAm5gXFTDtY0DLyUnpmBliQA==",
          "dtype": "f8"
         },
         "yaxis": "y"
        },
        {
         "marker": {
          "color": "lightgray"
         },
         "name": "Error Rate",
         "opacity": 0.7,
         "type": "bar",
         "x": {
          "bdata": "AAECAwQFBgcICQoLDA0ODxAREhMUFRYXGBkaGxwdHh8gISIjJCUmJygpKissLS4vMDEyMzQ1Njc4OTo7PD0+P0BBQkNERUZHSElKS0xNTk9QUVJTVFVWV1hZWltcXV5fYGFiY2RlZmdoaWprbG1ub3BxcnN0dXY=",
          "dtype": "i1"
         },
         "xaxis": "x",
         "y": {
          "bdata": "ygA9ODD0R0BiZRRvfWc+QAQ+DFTofU1A0y9gT7ifO0C7GE7AJqA/QNp4HOsEbDBALec7YRVQNEA8SBKPZ28qQCnove6/VD5AQHLSDUSpMEBRTkTy7w01QBlzBicTiSBACxkib1MN9T9g79Jh1Ho3QIriBlADQC1A/XSZtyblCED+zoz6rf4mQB2Itv6yzT5ArrgjDsflJEA1YWyKmQclQON/BnC2AzBAxmgOKVbAqT/9Sqg8bsw6QIZFzAS4CTZANVIWSFI4MUBcrL0YbTs8QMNUGxZ64ThASpAb/R/1LECNtrYjLmEgQJ7FuILpMjlArB07IGWZOEBYJg1W2s0gQCt09muQRTdAVKQ/AWipN0D43Dg5B88hQGyiUBrF8DZACj20aYdFNUA9oMnuKyooQGS/bnOuMDBACAZQgoKGDkCJyb1YuswtQDIMAkpW8EBAQZ8sSwJNMkBjk+c1lzMhQFMqNsl/8yVALDMyD5sjMUD7aDYCZ5EZQKCy9Cr0YAhA2cx5LDYtMUCosG5MOfwkQIrYb7HQLCdAkl+Rv041FUDd2nRpgdUUQOOmFGaPciFAWUV5df9tMUAydtfAvx8SQHfB+HTMghlAwxY1MiE6GUDfnC9hYgQrQPN4lzq5DyNAMpris4JeNkDjhQNwbGwgQJG7nyL9PClA55cbji4zN0ASDsm37YEfQGUFVDLCoBVAlt9c+tltJkAdPe8aLxgwQLyKyUQBSBhAXoUMI+R7MEB+2o3eYT4SQIlunxjwQCJARvu5tpHCOUBSphrClOcKQFD/9YSYti9AkYqBQINOMEBu3mlxXiMwQPI8aVpU6AhAV0BcALEkCkARY9vu6BkiQGETUl+EYgZAX2dZjT9B6z+MWYDcBJwwQH/BJU3aOjVAcBTZ4fCHAkDqivzr1hMiQOdH1zq15QpAzAMCRGHS+z+tc+oWDnErQIi6rRMSOjNASICt88TsI0B2DfSWUjMiQOjxmNP/TTJAukFSehCHMUARoWEsZGUHQCQMxUDJOSRAxB6nRUjlJkC/V2Siq3cuQBNJpAzJHRdAecrKX5O5FUAp2ySGDM7UP0KaFwQWhhdAnJEZ1eRmDEDZkwQX954BQAicEOWQUSFAKfXAgba3CkC3N0JiWlDyP1ObYj2qoBNAu8G7p+Xp8z+EYA6RvJQWQDUnz3Dv8/w/6pxlrixMMkAk8Y7NsOcCQEM5+GXA1i1ANTgMt+EQF0AcmZKZjVAgQE6QJ4MY8ypArl0KBJkCBUBysClzWH0sQA==",
          "dtype": "f8"
         },
         "yaxis": "y2"
        }
       ],
       "layout": {
        "height": 600,
        "hovermode": "x unified",
        "legend": {
         "bgcolor": "rgba(255, 255, 255, 0.8)",
         "x": 0.01,
         "xanchor": "left",
         "y": 0.99,
         "yanchor": "top"
        },
        "plot_bgcolor": "white",
        "shapes": [
         {
          "line": {
           "color": "lightgray",
           "dash": "dash"
          },
          "opacity": 0.5,
          "type": "line",
          "x0": 0,
          "x1": 1,
          "xref": "x domain",
          "y0": 0,
          "y1": 0,
          "yref": "y2"
         },
         {
          "line": {
           "color": "lightgray",
           "dash": "dash"
          },
          "opacity": 0.5,
          "type": "line",
          "x0": 0,
          "x1": 1,
          "xref": "x domain",
          "y0": 5,
          "y1": 5,
          "yref": "y2"
         },
         {
          "line": {
           "color": "lightgray",
           "dash": "dash"
          },
          "opacity": 0.5,
          "type": "line",
          "x0": 0,
          "x1": 1,
          "xref": "x domain",
          "y0": 10,
          "y1": 10,
          "yref": "y2"
         },
         {
          "line": {
           "color": "lightgray",
           "dash": "dash"
          },
          "opacity": 0.5,
          "type": "line",
          "x0": 0,
          "x1": 1,
          "xref": "x domain",
          "y0": 15,
          "y1": 15,
          "yref": "y2"
         },
         {
          "line": {
           "color": "lightgray",
           "dash": "dash"
          },
          "opacity": 0.5,
          "type": "line",
          "x0": 0,
          "x1": 1,
          "xref": "x domain",
          "y0": 20,
          "y1": 20,
          "yref": "y2"
         },
         {
          "line": {
           "color": "lightgray",
           "dash": "dash"
          },
          "opacity": 0.5,
          "type": "line",
          "x0": 0,
          "x1": 1,
          "xref": "x domain",
          "y0": 25,
          "y1": 25,
          "yref": "y2"
         }
        ],
        "showlegend": true,
        "template": {
         "data": {
          "bar": [
           {
            "error_x": {
             "color": "#2a3f5f"
            },
            "error_y": {
             "color": "#2a3f5f"
            },
            "marker": {
             "line": {
              "color": "#E5ECF6",
              "width": 0.5
             },
             "pattern": {
              "fillmode": "overlay",
              "size": 10,
              "solidity": 0.2
             }
            },
            "type": "bar"
           }
          ],
          "barpolar": [
           {
            "marker": {
             "line": {
              "color": "#E5ECF6",
              "width": 0.5
             },
             "pattern": {
              "fillmode": "overlay",
              "size": 10,
              "solidity": 0.2
             }
            },
            "type": "barpolar"
           }
          ],
          "carpet": [
           {
            "aaxis": {
             "endlinecolor": "#2a3f5f",
             "gridcolor": "white",
             "linecolor": "white",
             "minorgridcolor": "white",
             "startlinecolor": "#2a3f5f"
            },
            "baxis": {
             "endlinecolor": "#2a3f5f",
             "gridcolor": "white",
             "linecolor": "white",
             "minorgridcolor": "white",
             "startlinecolor": "#2a3f5f"
            },
            "type": "carpet"
           }
          ],
          "choropleth": [
           {
            "colorbar": {
             "outlinewidth": 0,
             "ticks": ""
            },
            "type": "choropleth"
           }
          ],
          "contour": [
           {
            "colorbar": {
             "outlinewidth": 0,
             "ticks": ""
            },
            "colorscale": [
             [
              0,
              "#0d0887"
             ],
             [
              0.1111111111111111,
              "#46039f"
             ],
             [
              0.2222222222222222,
              "#7201a8"
             ],
             [
              0.3333333333333333,
              "#9c179e"
             ],
             [
              0.4444444444444444,
              "#bd3786"
             ],
             [
              0.5555555555555556,
              "#d8576b"
             ],
             [
              0.6666666666666666,
              "#ed7953"
             ],
             [
              0.7777777777777778,
              "#fb9f3a"
             ],
             [
              0.8888888888888888,
              "#fdca26"
             ],
             [
              1,
              "#f0f921"
             ]
            ],
            "type": "contour"
           }
          ],
          "contourcarpet": [
           {
            "colorbar": {
             "outlinewidth": 0,
             "ticks": ""
            },
            "type": "contourcarpet"
           }
          ],
          "heatmap": [
           {
            "colorbar": {
             "outlinewidth": 0,
             "ticks": ""
            },
            "colorscale": [
             [
              0,
              "#0d0887"
             ],
             [
              0.1111111111111111,
              "#46039f"
             ],
             [
              0.2222222222222222,
              "#7201a8"
             ],
             [
              0.3333333333333333,
              "#9c179e"
             ],
             [
              0.4444444444444444,
              "#bd3786"
             ],
             [
              0.5555555555555556,
              "#d8576b"
             ],
             [
              0.6666666666666666,
              "#ed7953"
             ],
             [
              0.7777777777777778,
              "#fb9f3a"
             ],
             [
              0.8888888888888888,
              "#fdca26"
             ],
             [
              1,
              "#f0f921"
             ]
            ],
            "type": "heatmap"
           }
          ],
          "histogram": [
           {
            "marker": {
             "pattern": {
              "fillmode": "overlay",
              "size": 10,
              "solidity": 0.2
             }
            },
            "type": "histogram"
           }
          ],
          "histogram2d": [
           {
            "colorbar": {
             "outlinewidth": 0,
             "ticks": ""
            },
            "colorscale": [
             [
              0,
              "#0d0887"
             ],
             [
              0.1111111111111111,
              "#46039f"
             ],
             [
              0.2222222222222222,
              "#7201a8"
             ],
             [
              0.3333333333333333,
              "#9c179e"
             ],
             [
              0.4444444444444444,
              "#bd3786"
             ],
             [
              0.5555555555555556,
              "#d8576b"
             ],
             [
              0.6666666666666666,
              "#ed7953"
             ],
             [
              0.7777777777777778,
              "#fb9f3a"
             ],
             [
              0.8888888888888888,
              "#fdca26"
             ],
             [
              1,
              "#f0f921"
             ]
            ],
            "type": "histogram2d"
           }
          ],
          "histogram2dcontour": [
           {
            "colorbar": {
             "outlinewidth": 0,
             "ticks": ""
            },
            "colorscale": [
             [
              0,
              "#0d0887"
             ],
             [
              0.1111111111111111,
              "#46039f"
             ],
             [
              0.2222222222222222,
              "#7201a8"
             ],
             [
              0.3333333333333333,
              "#9c179e"
             ],
             [
              0.4444444444444444,
              "#bd3786"
             ],
             [
              0.5555555555555556,
              "#d8576b"
             ],
             [
              0.6666666666666666,
              "#ed7953"
             ],
             [
              0.7777777777777778,
              "#fb9f3a"
             ],
             [
              0.8888888888888888,
              "#fdca26"
             ],
             [
              1,
              "#f0f921"
             ]
            ],
            "type": "histogram2dcontour"
           }
          ],
          "mesh3d": [
           {
            "colorbar": {
             "outlinewidth": 0,
             "ticks": ""
            },
            "type": "mesh3d"
           }
          ],
          "parcoords": [
           {
            "line": {
             "colorbar": {
              "outlinewidth": 0,
              "ticks": ""
             }
            },
            "type": "parcoords"
           }
          ],
          "pie": [
           {
            "automargin": true,
            "type": "pie"
           }
          ],
          "scatter": [
           {
            "fillpattern": {
             "fillmode": "overlay",
             "size": 10,
             "solidity": 0.2
            },
            "type": "scatter"
           }
          ],
          "scatter3d": [
           {
            "line": {
             "colorbar": {
              "outlinewidth": 0,
              "ticks": ""
             }
            },
            "marker": {
             "colorbar": {
              "outlinewidth": 0,
              "ticks": ""
             }
            },
            "type": "scatter3d"
           }
          ],
          "scattercarpet": [
           {
            "marker": {
             "colorbar": {
              "outlinewidth": 0,
              "ticks": ""
             }
            },
            "type": "scattercarpet"
           }
          ],
          "scattergeo": [
           {
            "marker": {
             "colorbar": {
              "outlinewidth": 0,
              "ticks": ""
             }
            },
            "type": "scattergeo"
           }
          ],
          "scattergl": [
           {
            "marker": {
             "colorbar": {
              "outlinewidth": 0,
              "ticks": ""
             }
            },
            "type": "scattergl"
           }
          ],
          "scattermap": [
           {
            "marker": {
             "colorbar": {
              "outlinewidth": 0,
              "ticks": ""
             }
            },
            "type": "scattermap"
           }
          ],
          "scattermapbox": [
           {
            "marker": {
             "colorbar": {
              "outlinewidth": 0,
              "ticks": ""
             }
            },
            "type": "scattermapbox"
           }
          ],
          "scatterpolar": [
           {
            "marker": {
             "colorbar": {
              "outlinewidth": 0,
              "ticks": ""
             }
            },
            "type": "scatterpolar"
           }
          ],
          "scatterpolargl": [
           {
            "marker": {
             "colorbar": {
              "outlinewidth": 0,
              "ticks": ""
             }
            },
            "type": "scatterpolargl"
           }
          ],
          "scatterternary": [
           {
            "marker": {
             "colorbar": {
              "outlinewidth": 0,
              "ticks": ""
             }
            },
            "type": "scatterternary"
           }
          ],
          "surface": [
           {
            "colorbar": {
             "outlinewidth": 0,
             "ticks": ""
            },
            "colorscale": [
             [
              0,
              "#0d0887"
             ],
             [
              0.1111111111111111,
              "#46039f"
             ],
             [
              0.2222222222222222,
              "#7201a8"
             ],
             [
              0.3333333333333333,
              "#9c179e"
             ],
             [
              0.4444444444444444,
              "#bd3786"
             ],
             [
              0.5555555555555556,
              "#d8576b"
             ],
             [
              0.6666666666666666,
              "#ed7953"
             ],
             [
              0.7777777777777778,
              "#fb9f3a"
             ],
             [
              0.8888888888888888,
              "#fdca26"
             ],
             [
              1,
              "#f0f921"
             ]
            ],
            "type": "surface"
           }
          ],
          "table": [
           {
            "cells": {
             "fill": {
              "color": "#EBF0F8"
             },
             "line": {
              "color": "white"
             }
            },
            "header": {
             "fill": {
              "color": "#C8D4E3"
             },
             "line": {
              "color": "white"
             }
            },
            "type": "table"
           }
          ]
         },
         "layout": {
          "annotationdefaults": {
           "arrowcolor": "#2a3f5f",
           "arrowhead": 0,
           "arrowwidth": 1
          },
          "autotypenumbers": "strict",
          "coloraxis": {
           "colorbar": {
            "outlinewidth": 0,
            "ticks": ""
           }
          },
          "colorscale": {
           "diverging": [
            [
             0,
             "#8e0152"
            ],
            [
             0.1,
             "#c51b7d"
            ],
            [
             0.2,
             "#de77ae"
            ],
            [
             0.3,
             "#f1b6da"
            ],
            [
             0.4,
             "#fde0ef"
            ],
            [
             0.5,
             "#f7f7f7"
            ],
            [
             0.6,
             "#e6f5d0"
            ],
            [
             0.7,
             "#b8e186"
            ],
            [
             0.8,
             "#7fbc41"
            ],
            [
             0.9,
             "#4d9221"
            ],
            [
             1,
             "#276419"
            ]
           ],
           "sequential": [
            [
             0,
             "#0d0887"
            ],
            [
             0.1111111111111111,
             "#46039f"
            ],
            [
             0.2222222222222222,
             "#7201a8"
            ],
            [
             0.3333333333333333,
             "#9c179e"
            ],
            [
             0.4444444444444444,
             "#bd3786"
            ],
            [
             0.5555555555555556,
             "#d8576b"
            ],
            [
             0.6666666666666666,
             "#ed7953"
            ],
            [
             0.7777777777777778,
             "#fb9f3a"
            ],
            [
             0.8888888888888888,
             "#fdca26"
            ],
            [
             1,
             "#f0f921"
            ]
           ],
           "sequentialminus": [
            [
             0,
             "#0d0887"
            ],
            [
             0.1111111111111111,
             "#46039f"
            ],
            [
             0.2222222222222222,
             "#7201a8"
            ],
            [
             0.3333333333333333,
             "#9c179e"
            ],
            [
             0.4444444444444444,
             "#bd3786"
            ],
            [
             0.5555555555555556,
             "#d8576b"
            ],
            [
             0.6666666666666666,
             "#ed7953"
            ],
            [
             0.7777777777777778,
             "#fb9f3a"
            ],
            [
             0.8888888888888888,
             "#fdca26"
            ],
            [
             1,
             "#f0f921"
            ]
           ]
          },
          "colorway": [
           "#636efa",
           "#EF553B",
           "#00cc96",
           "#ab63fa",
           "#FFA15A",
           "#19d3f3",
           "#FF6692",
           "#B6E880",
           "#FF97FF",
           "#FECB52"
          ],
          "font": {
           "color": "#2a3f5f"
          },
          "geo": {
           "bgcolor": "white",
           "lakecolor": "white",
           "landcolor": "#E5ECF6",
           "showlakes": true,
           "showland": true,
           "subunitcolor": "white"
          },
          "hoverlabel": {
           "align": "left"
          },
          "hovermode": "closest",
          "mapbox": {
           "style": "light"
          },
          "paper_bgcolor": "white",
          "plot_bgcolor": "#E5ECF6",
          "polar": {
           "angularaxis": {
            "gridcolor": "white",
            "linecolor": "white",
            "ticks": ""
           },
           "bgcolor": "#E5ECF6",
           "radialaxis": {
            "gridcolor": "white",
            "linecolor": "white",
            "ticks": ""
           }
          },
          "scene": {
           "xaxis": {
            "backgroundcolor": "#E5ECF6",
            "gridcolor": "white",
            "gridwidth": 2,
            "linecolor": "white",
            "showbackground": true,
            "ticks": "",
            "zerolinecolor": "white"
           },
           "yaxis": {
            "backgroundcolor": "#E5ECF6",
            "gridcolor": "white",
            "gridwidth": 2,
            "linecolor": "white",
            "showbackground": true,
            "ticks": "",
            "zerolinecolor": "white"
           },
           "zaxis": {
            "backgroundcolor": "#E5ECF6",
            "gridcolor": "white",
            "gridwidth": 2,
            "linecolor": "white",
            "showbackground": true,
            "ticks": "",
            "zerolinecolor": "white"
           }
          },
          "shapedefaults": {
           "line": {
            "color": "#2a3f5f"
           }
          },
          "ternary": {
           "aaxis": {
            "gridcolor": "white",
            "linecolor": "white",
            "ticks": ""
           },
           "baxis": {
            "gridcolor": "white",
            "linecolor": "white",
            "ticks": ""
           },
           "bgcolor": "#E5ECF6",
           "caxis": {
            "gridcolor": "white",
            "linecolor": "white",
            "ticks": ""
           }
          },
          "title": {
           "x": 0.05
          },
          "xaxis": {
           "automargin": true,
           "gridcolor": "white",
           "linecolor": "white",
           "ticks": "",
           "title": {
            "standoff": 15
           },
           "zerolinecolor": "white",
           "zerolinewidth": 2
          },
          "yaxis": {
           "automargin": true,
           "gridcolor": "white",
           "linecolor": "white",
           "ticks": "",
           "title": {
            "standoff": 15
           },
           "zerolinecolor": "white",
           "zerolinewidth": 2
          }
         }
        },
        "title": {
         "text": "Length Measurements and Error Rates"
        },
        "width": 1000,
        "xaxis": {
         "anchor": "y",
         "domain": [
          0,
          0.94
         ],
         "gridcolor": "lightgray",
         "gridwidth": 1,
         "showgrid": true,
         "title": {
          "text": "Measurement Index"
         },
         "zeroline": true,
         "zerolinecolor": "lightgray",
         "zerolinewidth": 1
        },
        "yaxis": {
         "anchor": "x",
         "domain": [
          0,
          1
         ],
         "gridcolor": "lightgray",
         "gridwidth": 1,
         "showgrid": true,
         "title": {
          "text": "Length (mm)"
         },
         "zeroline": true,
         "zerolinecolor": "lightgray",
         "zerolinewidth": 1
        },
        "yaxis2": {
         "anchor": "x",
         "overlaying": "y",
         "range": [
          0,
          25
         ],
         "showgrid": false,
         "side": "right",
         "title": {
          "text": "Error Rate (%)"
         }
        }
       }
      }
     },
     "metadata": {},
     "output_type": "display_data"
    },
    {
     "name": "stdout",
     "output_type": "stream",
     "text": [
      "📊 Length comparison visualization created with error rates!\n"
     ]
    }
   ],
   "source": [
    "def create_length_error_comparison(df: pd.DataFrame) -> None:\n",
    "    \"\"\"\n",
    "    Create a visualization comparing actual vs predicted lengths with error rates.\n",
    "    Similar to the reference image with dual axis plot.\n",
    "    \"\"\"\n",
    "    # Sort the dataframe by actual length to get a nice progression like in the image\n",
    "    df_sorted = df.sort_values('mean_length').reset_index(drop=True)\n",
    "    \n",
    "    # Calculate error rate as percentage\n",
    "    error_rate = abs((df_sorted['mean_length'] - df_sorted['Length_fov(mm)']) / df_sorted['mean_length'] * 100)\n",
    "    \n",
    "    # Create figure with secondary y-axis\n",
    "    fig = make_subplots(specs=[[{\"secondary_y\": True}]])\n",
    "    \n",
    "    # Add traces\n",
    "    fig.add_trace(\n",
    "        go.Scatter(\n",
    "            x=df_sorted.index,\n",
    "            y=df_sorted['mean_length'],\n",
    "            name=\"Actual Values\",\n",
    "            line=dict(color='black', width=2),\n",
    "            mode='lines+markers',\n",
    "            marker=dict(size=6)\n",
    "        ),\n",
    "        secondary_y=False\n",
    "    )\n",
    "    \n",
    "    fig.add_trace(\n",
    "        go.Scatter(\n",
    "            x=df_sorted.index,\n",
    "            y=df_sorted['Length_fov(mm)'],\n",
    "            name=\"Output Values\",\n",
    "            line=dict(color='red', width=2),\n",
    "            mode='lines+markers',\n",
    "            marker=dict(size=6)\n",
    "        ),\n",
    "        secondary_y=False\n",
    "    )\n",
    "    \n",
    "    fig.add_trace(\n",
    "        go.Bar(\n",
    "            x=df_sorted.index,\n",
    "            y=error_rate,\n",
    "            name=\"Error Rate\",\n",
    "            marker_color='lightgray',\n",
    "            opacity=0.7\n",
    "        ),\n",
    "        secondary_y=True\n",
    "    )\n",
    "    \n",
    "    # Update layout\n",
    "    fig.update_layout(\n",
    "        title='Length Measurements and Error Rates',\n",
    "        plot_bgcolor='white',\n",
    "        height=600,\n",
    "        width=1000,\n",
    "        showlegend=True,\n",
    "        legend=dict(\n",
    "            yanchor=\"top\",\n",
    "            y=0.99,\n",
    "            xanchor=\"left\",\n",
    "            x=0.01,\n",
    "            bgcolor='rgba(255, 255, 255, 0.8)'\n",
    "        ),\n",
    "        hovermode='x unified'\n",
    "    )\n",
    "    \n",
    "    # Update axes\n",
    "    fig.update_xaxes(\n",
    "        title_text=\"Measurement Index\",\n",
    "        showgrid=True,\n",
    "        gridwidth=1,\n",
    "        gridcolor='lightgray',\n",
    "        zeroline=True,\n",
    "        zerolinewidth=1,\n",
    "        zerolinecolor='lightgray'\n",
    "    )\n",
    "    \n",
    "    fig.update_yaxes(\n",
    "        title_text=\"Length (mm)\",\n",
    "        showgrid=True,\n",
    "        gridwidth=1,\n",
    "        gridcolor='lightgray',\n",
    "        zeroline=True,\n",
    "        zerolinewidth=1,\n",
    "        zerolinecolor='lightgray',\n",
    "        secondary_y=False\n",
    "    )\n",
    "    \n",
    "    fig.update_yaxes(\n",
    "        title_text=\"Error Rate (%)\",\n",
    "        range=[0, 25],  # Set range to 0-25%\n",
    "        showgrid=False,\n",
    "        secondary_y=True\n",
    "    )\n",
    "    \n",
    "    # Add horizontal grid lines at 5% intervals\n",
    "    for i in range(0, 26, 5):\n",
    "        fig.add_hline(\n",
    "            y=i,\n",
    "            line_dash=\"dash\",\n",
    "            line_color=\"lightgray\",\n",
    "            opacity=0.5,\n",
    "            secondary_y=True\n",
    "        )\n",
    "    \n",
    "    # Show the plot\n",
    "    fig.show()\n",
    "\n",
    "# Create the visualization\n",
    "create_length_error_comparison(df)\n",
    "print(\"📊 Length comparison visualization created with error rates!\")\n"
   ]
  },
  {
   "cell_type": "markdown",
   "metadata": {},
   "source": [
    "# 🔍 Error Decomposition Analysis: The Art of Measurement Precision\n",
    "\n",
    "## 🧮 The Mathematics of Error\n",
    "In the world of computer vision and biometric measurement, errors don't exist in isolation. They interact, compete, and sometimes even cancel each other out! Let's explore this fascinating phenomenon.\n",
    "\n",
    "### 🎭 The Two Main Characters:\n",
    "- **Pixel Error**: How far off our pixel-level measurements are from the ground truth\n",
    "- **Scale Error**: How incorrect our scale estimation is (mm per pixel)\n",
    "\n",
    "### 🎪 The Plot Twist: Error Cancellation\n",
    "Sometimes, when pixel error and scale error have opposite signs, they partially cancel each other out, leading to surprisingly accurate final measurements despite individual component errors!"
   ]
  },
  {
   "cell_type": "code",
   "execution_count": 54,
   "metadata": {},
   "outputs": [],
   "source": [
    "def calculate_error_metrics(df_pond: pd.DataFrame) -> Dict[str, float]:\n",
    "    \"\"\"\n",
    "    Calculate MAE and MAPE for the measurements.\n",
    "    \n",
    "    Args:\n",
    "        df_pond: DataFrame containing measurement data\n",
    "        \n",
    "    Returns:\n",
    "        Dictionary containing MAE and MAPE values\n",
    "    \"\"\"\n",
    "    # Ground truth is mean_length, prediction is Length_fov(mm)\n",
    "    # Both are already in centimeters after our earlier conversion\n",
    "    \n",
    "    # Calculate absolute errors\n",
    "    absolute_errors = abs(df_pond['mean_length'] - df_pond['Length_fov(mm)'])\n",
    "    \n",
    "    # Calculate percentage errors\n",
    "    percentage_errors = (absolute_errors / df_pond['mean_length']) * 100\n",
    "    \n",
    "    # Calculate metrics\n",
    "    mae = absolute_errors.mean()\n",
    "    mape = percentage_errors.mean()\n",
    "    \n",
    "    return {\n",
    "        'mae_mm': mae,\n",
    "        'mape_percent': mape\n",
    "    }\n",
    "\n",
    "\n",
    "def analyze_error_cancellation(df: pd.DataFrame, pond_type: str) -> Dict[str, any]:\n",
    "    \"\"\"\n",
    "    🔍 Analyze error cancellation patterns for a specific pond type.\n",
    "    \n",
    "    This function calculates pixel errors, scale errors, and their interaction\n",
    "    to understand how measurement errors behave in different pond environments.\n",
    "    \n",
    "    Args:\n",
    "        df: DataFrame containing measurement data for a specific pond\n",
    "        pond_type: Name of the pond type being analyzed\n",
    "        \n",
    "    Returns:\n",
    "        Dictionary containing analysis results and processed DataFrame\n",
    "    \"\"\"\n",
    "    df_pond = df[df['Pond_Type'] == pond_type].copy().reset_index(drop=True)\n",
    "    mae_without_cancellation = 0\n",
    "    mape_without_cancellation = 0\n",
    "    relative_error_cancellation_mean = 0\n",
    "    mean_cancellation = 0\n",
    "    cancellation_percent = 0\n",
    "    percent_partial_cancel = 0\n",
    "    # Calculate MAE and MAPE\n",
    "    error_metrics = calculate_error_metrics(df_pond)\n",
    "    \n",
    "    # 📏 Calculate ACTUAL error components that sum to total measurement error\n",
    "    # Total measurement error = Length_fov(mm) - mean_length\n",
    "    # Length_fov(mm) = pred_Distance_pixels × pred_scale\n",
    "    # mean_length = mean_pixels × mean_scale\n",
    "    mm_per_px_gt = 10 / df_pond['mean_scale']  # Convert to cm per pixel\n",
    "    mm_per_px_pred = 10 / df_pond['pred_scale']  # Convert to cm per pixel\n",
    "\n",
    "    # FIXED CALCULATION: These are the ACTUAL contributions to measurement error\n",
    "    df_pond['pixel_contribution_mm'] = (df_pond['pred_Distance_pixels'] - df_pond['mean_pixels']) * mm_per_px_pred\n",
    "    df_pond['scale_contribution_mm'] = df_pond['mean_pixels'] * (mm_per_px_pred - mm_per_px_gt)\n",
    "    \n",
    "    # Verify: total should equal actual measurement error\n",
    "    df_pond['calculated_total_error_mm'] = df_pond['pixel_contribution_mm'] + df_pond['scale_contribution_mm']\n",
    "    df_pond['actual_measurement_error_mm'] = abs(df_pond['Length_fov(mm)'] - df_pond['mean_length'])\n",
    "    df_pond['mae_mm'] = df_pond['actual_measurement_error_mm']\n",
    "    df_pond['mape_percent'] = (df_pond['mae_mm'] / df_pond['mean_length']) * 100\n",
    "    \n",
    "    # 🎭 Identify cancellation patterns (using signed contributions)\n",
    "    partial_cancel_mask = (df_pond['pixel_contribution_mm'] * df_pond['scale_contribution_mm'] < 0)\n",
    "    no_cancel_mask = (df_pond['pixel_contribution_mm'] * df_pond['scale_contribution_mm'] >= 0)    \n",
    "    percent_partial_cancel = 100 * partial_cancel_mask.sum() / len(df_pond) if len(df_pond) > 0 else 0\n",
    "    percent_no_cancel = 100 * no_cancel_mask.sum() / len(df_pond) if len(df_pond) > 0 else 0\n",
    "    \n",
    "    # 📊 Calculate error statistics\n",
    "    # Sum of absolute contributions (what error would be without cancellation)\n",
    "    df_pond['sum_of_absolute_contributions_mm'] = abs(df_pond['pixel_contribution_mm']) + abs(df_pond['scale_contribution_mm'])\n",
    "    # Calculate cancellation magnitude for partial cancellation cases\n",
    "    if partial_cancel_mask.any():\n",
    "        \n",
    "        # For cases where errors partially cancel, calculate how much they cancel\n",
    "        actual_total_error = abs(df_pond.loc[partial_cancel_mask, 'actual_measurement_error_mm'])\n",
    "        sum_of_absolutes = df_pond.loc[partial_cancel_mask, 'sum_of_absolute_contributions_mm']\n",
    "        relative_error_cancellation = df_pond.loc[partial_cancel_mask, 'sum_of_absolute_contributions_mm'].abs().mean() / df_pond.loc[partial_cancel_mask, 'mean_length'].abs().mean()*100\n",
    "        cancellation_magnitude = sum_of_absolutes - actual_total_error\n",
    "        \n",
    "        df_pond.loc[partial_cancel_mask, 'cancellation_magnitude_mm'] = cancellation_magnitude\n",
    "\n",
    "        mean_relative_error_cancellation = relative_error_cancellation.mean()\n",
    "\n",
    "        mean_cancellation = cancellation_magnitude.mean()\n",
    "        cancellation_percent = mean_cancellation / (df_pond[\"Length_fov(mm)\"].abs().mean()) * 100\n",
    "    if no_cancel_mask.any():\n",
    "        mae_without_cancellation = df_pond.loc[no_cancel_mask, 'actual_measurement_error_mm'].abs().mean()\n",
    "        mape_without_cancellation = (mae_without_cancellation / df_pond.loc[no_cancel_mask, 'mean_length'].abs().mean()) * 100\n",
    "    else:\n",
    "        mae_without_cancellation = 0\n",
    "        mape_without_cancellation = 0\n",
    "        relative_error_cancellation_mean = 0\n",
    "\n",
    "    \n",
    "    # 🏆 Determine error dominance\n",
    "    df_pond['dominant_error'] = np.where(\n",
    "        abs(df_pond['scale_contribution_mm']) > abs(df_pond['pixel_contribution_mm']),\n",
    "        'Scale Error', 'Pixel Error'\n",
    "    )\n",
    "    \n",
    "    dominant_stats = df_pond['dominant_error'].value_counts(normalize=True) * 100\n",
    "    \n",
    "    # 📊 Calculate overall error statistics for ALL measurements\n",
    "    mean_actual_error = df_pond['actual_measurement_error_mm'].abs().mean()\n",
    "\n",
    "\n",
    "\n",
    "\n",
    "\n",
    "\n",
    "\n",
    "\n",
    "    \n",
    "    return {\n",
    "        'data': df_pond,\n",
    "        'total_error_components_mean_mm': mean_actual_error, \n",
    "        'mae_without_cancellation': mae_without_cancellation,\n",
    "        'mape_without_cancellation': mape_without_cancellation,\n",
    "        'mean_sum_of_absolutes': sum_of_absolutes.mean(),\n",
    "\n",
    "          # |actual_measurement_error|\n",
    "        'sample_count': len(df_pond),\n",
    "        'cancellation_percent': percent_partial_cancel,\n",
    "        'mean_cancellation_mm': mean_cancellation,\n",
    "        'relative_error_cancellation_mean': mean_relative_error_cancellation,\n",
    "        'cancellation_relative_percent': cancellation_percent,\n",
    "        'percent_no_cancel': percent_no_cancel,\n",
    "        'scale_dominant_percent': dominant_stats.get('Scale Error', 0),\n",
    "        'pixel_dominant_percent': dominant_stats.get('Pixel Error', 0),\n",
    "        'mae_mm': error_metrics['mae_mm'],\n",
    "        'mape_percent': error_metrics['mape_percent']\n",
    "    }\n",
    "\n",
    "def print_error_summary(pond_type: str, results: Dict[str, any]) -> None:\n",
    "    \"\"\"\n",
    "    🎨 Print a beautifully formatted summary of error analysis results.\n",
    "    \"\"\"\n",
    "    print(f\"\\n��‍♀️ === {pond_type.upper()} POND ANALYSIS === 🦐\")\n",
    "    print(f\"📊 Sample Size: {results['sample_count']} measurements\")\n",
    "    \n",
    "    print(f\"\\n📏 ERROR METRICS:\")\n",
    "    print(f\"   🎯 Mean Absolute Error (MAE): {results['mae_mm']:.2f}mm\")\n",
    "    print(f\"   📊 Mean Absolute Percentage Error (MAPE): {results['mape_percent']:.1f}%\")\n",
    "    \n",
    "    print(f\"\\n🎭 ERROR COMPONENT ANALYSIS:\")\n",
    "    print(f\"   🎯 mean sum of absolutes: {results['mean_sum_of_absolutes']:.2f}mm\")\n",
    "    print(f\"   🎯 Total error components (|pixel + scale|): {results['total_error_components_mean_mm']:.2f}mm\")\n",
    "    print(f\"   🎯 Mean absolute error with absolute error without cancellation: {results['mean_sum_of_absolutes']:.2f}mm\")\n",
    "    print(f\"   🎯 Mean absolute error without cancellation: {results['mae_without_cancellation']:.2f}mm\")\n",
    "    print(f\"   🎯 Percentage of measurements without cancellation: {results['percent_no_cancel']:.1f}%\")\n",
    "    print(f\"   🎯 Mean absolute relative error without cancellation: {results['mape_without_cancellation']:.1f}%\")\n",
    "    print(f\"   🎯 Mean absolute relative error with cancellation: {results['relative_error_cancellation_mean']:.1f}%\")\n",
    "    print(f\"   ✨ Partial cancellation occurs in {results['cancellation_percent']:.1f}% of cases\")\n",
    "    print(f\"   🎪 Average cancellation magnitude: {results['mean_cancellation_mm']:.2f}mm\")\n",
    "    print(f\"   📏 Relative to prawn size: {results['cancellation_relative_percent']:.1f}%\")\n",
    "    \n",
    "    print(f\"\\n🏆 ERROR DOMINANCE BATTLE:\")\n",
    "    print(f\"   🔍 Pixel Error wins: {results['pixel_dominant_percent']:.1f}% of the time\")\n",
    "    print(f\"   📐 Scale Error wins: {results['scale_dominant_percent']:.1f}% of the time\")\n",
    "    print(\"─\" * 60)"
   ]
  },
  {
   "cell_type": "code",
   "execution_count": 55,
   "metadata": {},
   "outputs": [
    {
     "name": "stdout",
     "output_type": "stream",
     "text": [
      "\n",
      "��‍♀️ === CIRCLE_FEMALE POND ANALYSIS === 🦐\n",
      "📊 Sample Size: 92 measurements\n",
      "\n",
      "📏 ERROR METRICS:\n",
      "   🎯 Mean Absolute Error (MAE): 12.90mm\n",
      "   📊 Mean Absolute Percentage Error (MAPE): 11.6%\n",
      "\n",
      "🎭 ERROR COMPONENT ANALYSIS:\n",
      "   🎯 mean sum of absolutes: 17.96mm\n",
      "   🎯 Total error components (|pixel + scale|): 12.90mm\n",
      "   🎯 Mean absolute error with absolute error without cancellation: 17.96mm\n",
      "   🎯 Mean absolute error without cancellation: 16.75mm\n",
      "   🎯 Percentage of measurements without cancellation: 58.7%\n",
      "   🎯 Mean absolute relative error without cancellation: 14.7%\n",
      "   🎯 Mean absolute relative error with cancellation: 14.9%\n",
      "   ✨ Partial cancellation occurs in 41.3% of cases\n",
      "   🎪 Average cancellation magnitude: 10.54mm\n",
      "   📏 Relative to prawn size: 8.3%\n",
      "\n",
      "🏆 ERROR DOMINANCE BATTLE:\n",
      "   🔍 Pixel Error wins: 40.2% of the time\n",
      "   📐 Scale Error wins: 59.8% of the time\n",
      "────────────────────────────────────────────────────────────\n",
      "\n",
      "��‍♀️ === CIRCLE_MALE POND ANALYSIS === 🦐\n",
      "📊 Sample Size: 13 measurements\n",
      "\n",
      "📏 ERROR METRICS:\n",
      "   🎯 Mean Absolute Error (MAE): 17.71mm\n",
      "   📊 Mean Absolute Percentage Error (MAPE): 25.2%\n",
      "\n",
      "🎭 ERROR COMPONENT ANALYSIS:\n",
      "   🎯 mean sum of absolutes: 31.05mm\n",
      "   🎯 Total error components (|pixel + scale|): 17.71mm\n",
      "   🎯 Mean absolute error with absolute error without cancellation: 31.05mm\n",
      "   🎯 Mean absolute error without cancellation: 19.27mm\n",
      "   🎯 Percentage of measurements without cancellation: 46.2%\n",
      "   🎯 Mean absolute relative error without cancellation: 26.2%\n",
      "   🎯 Mean absolute relative error with cancellation: 38.5%\n",
      "   ✨ Partial cancellation occurs in 53.8% of cases\n",
      "   🎪 Average cancellation magnitude: 14.68mm\n",
      "   📏 Relative to prawn size: 17.3%\n",
      "\n",
      "🏆 ERROR DOMINANCE BATTLE:\n",
      "   🔍 Pixel Error wins: 23.1% of the time\n",
      "   📐 Scale Error wins: 76.9% of the time\n",
      "────────────────────────────────────────────────────────────\n",
      "\n",
      "��‍♀️ === SQUARE POND ANALYSIS === 🦐\n",
      "📊 Sample Size: 14 measurements\n",
      "\n",
      "📏 ERROR METRICS:\n",
      "   🎯 Mean Absolute Error (MAE): 13.70mm\n",
      "   📊 Mean Absolute Percentage Error (MAPE): 11.7%\n",
      "\n",
      "🎭 ERROR COMPONENT ANALYSIS:\n",
      "   🎯 mean sum of absolutes: 18.87mm\n",
      "   🎯 Total error components (|pixel + scale|): 13.70mm\n",
      "   🎯 Mean absolute error with absolute error without cancellation: 18.87mm\n",
      "   🎯 Mean absolute error without cancellation: 14.04mm\n",
      "   🎯 Percentage of measurements without cancellation: 71.4%\n",
      "   🎯 Mean absolute relative error without cancellation: 12.0%\n",
      "   🎯 Mean absolute relative error with cancellation: 14.8%\n",
      "   ✨ Partial cancellation occurs in 28.6% of cases\n",
      "   🎪 Average cancellation magnitude: 6.01mm\n",
      "   📏 Relative to prawn size: 5.3%\n",
      "\n",
      "🏆 ERROR DOMINANCE BATTLE:\n",
      "   🔍 Pixel Error wins: 35.7% of the time\n",
      "   📐 Scale Error wins: 64.3% of the time\n",
      "────────────────────────────────────────────────────────────\n"
     ]
    }
   ],
   "source": [
    "# Analyze each pond type and collect results\n",
    "pond_types = df['Pond_Type'].unique()\n",
    "all_results = {}\n",
    "\n",
    "\n",
    "df['mae'] = abs(df['mean_length'] - df['Length_fov(mm)'])\n",
    "df['mape_percent'] = (df['mae'] / df['mean_length']) * 100\n",
    "\n",
    "for pond_type in pond_types:\n",
    "    # Filter out IQR outliers before analysis\n",
    "    df_pond = df[df['Pond_Type'] == pond_type].copy()\n",
    "    q1 = df_pond['mae'].quantile(0.25)\n",
    "    q3 = df_pond['mae'].quantile(0.75)\n",
    "    iqr = q3 - q1\n",
    "    outlier_threshold_low = q1 - 1.5 * iqr\n",
    "    outlier_threshold_high = q3 + 1.5 * iqr\n",
    "    df_pond_filtered = df_pond[(df_pond['mae'] >= outlier_threshold_low) & (df_pond['mae'] <= outlier_threshold_high)]\n",
    "    \n",
    "    # Analyze error cancellation on filtered data\n",
    "    results = analyze_error_cancellation(df_pond_filtered, pond_type)\n",
    "    all_results[pond_type] = results\n",
    "    print_error_summary(pond_type, results)\n",
    "\n",
    "# # Create the visualization\n",
    "# create_error_metrics_visualization({\n",
    "#     pond_type: {\n",
    "#         'mae_mm': results['mae_mm'],\n",
    "#         'mape_percent': results['mape_percent']\n",
    "#     }\n",
    "#     for pond_type, results in all_results.items()\n",
    "# })\n"
   ]
  },
  {
   "cell_type": "code",
   "execution_count": 56,
   "metadata": {},
   "outputs": [
    {
     "data": {
      "application/vnd.plotly.v1+json": {
       "config": {
        "plotlyServerURL": "https://plot.ly"
       },
       "data": [
        {
         "customdata": [
          [
           "full body:undistorted_GX010077_14_237.jpg_gamma",
           "Prawn_0",
           12.74455279085992
          ],
          [
           "full body:undistorted_GX010077_14_237.jpg_gamma",
           "Prawn_1",
           11.145066918819133
          ],
          [
           "full body:undistorted_GX010077_14_237.jpg_gamma",
           "Prawn_2",
           16.65124041362077
          ],
          [
           "full body:undistorted_GX010067_33_625.jpg_gamma",
           "Prawn_0",
           19.556272023483185
          ],
          [
           "full body:undistorted_GX010067_33_625.jpg_gamma",
           "Prawn_1",
           9.928911775824336
          ],
          [
           "full body:undistorted_GX010067_33_625.jpg_gamma",
           "Prawn_2",
           3.910160774295786
          ],
          [
           "full body:undistorted_GX010067_33_625.jpg_gamma",
           "Prawn_3",
           3.122398397067588
          ],
          [
           "full body:undistorted_GX010068_26_666.jpg_gamma",
           "Prawn_0",
           6.323062606115449
          ],
          [
           "full body:undistorted_GX010068_26_666.jpg_gamma",
           "Prawn_1",
           14.854948425979298
          ],
          [
           "full body:undistorted_GX010068_26_666.jpg_gamma",
           "Prawn_2",
           11.365557088687101
          ],
          [
           "full body:undistorted_GX010068_27_795.jpg_gamma",
           "Prawn_0",
           6.692158821791272
          ],
          [
           "full body:undistorted_GX010068_27_795.jpg_gamma",
           "Prawn_1",
           -11.74839563441054
          ],
          [
           "full body:undistorted_GX010069_19_191.jpg_gamma",
           "Prawn_0",
           23.781271912218678
          ],
          [
           "full body:undistorted_GX010069_19_191.jpg_gamma",
           "Prawn_1",
           12.891286480402169
          ],
          [
           "full body:undistorted_GX010069_19_191.jpg_gamma",
           "Prawn_2",
           9.46306742987186
          ],
          [
           "full body:undistorted_GX010069_19_191.jpg_gamma",
           "Prawn_3",
           6.014538988881137
          ],
          [
           "full body:undistorted_GX010071_22_444.jpg_gamma",
           "Prawn_0",
           13.33072654000933
          ],
          [
           "full body:undistorted_GX010071_22_444.jpg_gamma",
           "Prawn_1",
           -2.847120812219716
          ],
          [
           "full body:undistorted_GX010073_42_695.jpg_gamma",
           "Prawn_1",
           7.3373310684578055
          ],
          [
           "full body:undistorted_GX010073_42_695.jpg_gamma",
           "Prawn_2",
           -1.7703016502387432
          ],
          [
           "full body:undistorted_GX010073_55_1014.jpg_gamma",
           "Prawn_0",
           7.33095408703473
          ],
          [
           "full body:undistorted_GX010073_55_1014.jpg_gamma",
           "Prawn_1",
           7.0431701264854585
          ],
          [
           "full body:undistorted_GX010073_55_1014.jpg_gamma",
           "Prawn_2",
           15.122461852934851
          ],
          [
           "full body:undistorted_GX010080_157_2283.jpg_gamma",
           "Prawn_0",
           36.045135328278604
          ],
          [
           "full body:undistorted_GX010080_157_2283.jpg_gamma",
           "Prawn_2",
           25.074598441417137
          ],
          [
           "full body:undistorted_GX010080_157_2283.jpg_gamma",
           "Prawn_3",
           18.624002162505388
          ],
          [
           "full body:undistorted_GX010080_193_2640.jpg_gamma",
           "Prawn_0",
           19.76697088625698
          ],
          [
           "full body:undistorted_GX010080_193_2640.jpg_gamma",
           "Prawn_1",
           9.164884266595951
          ],
          [
           "full body:undistorted_GX010080_193_2640.jpg_gamma",
           "Prawn_2",
           9.518643799179932
          ],
          [
           "full body:undistorted_GX010080_193_2640.jpg_gamma",
           "Prawn_3",
           19.883188649320495
          ],
          [
           "full body:undistorted_GX010080_193_2640.jpg_gamma",
           "Prawn_4",
           19.838137604696644
          ],
          [
           "full body:undistorted_GX010080_212_2954.jpg_gamma",
           "Prawn_0",
           20.64730092356818
          ],
          [
           "full body:undistorted_GX010080_212_2954.jpg_gamma",
           "Prawn_1",
           12.79510693435294
          ],
          [
           "full body:undistorted_GX010080_212_2954.jpg_gamma",
           "Prawn_2",
           -1.779630802117719
          ],
          [
           "full body:undistorted_GX010080_237_3366.jpg_gamma",
           "Prawn_0",
           22.83261759480697
          ],
          [
           "full body:undistorted_GX010080_237_3366.jpg_gamma",
           "Prawn_1",
           20.290322563810804
          ],
          [
           "full body:undistorted_GX010080_237_3366.jpg_gamma",
           "Prawn_2",
           16.574499282908175
          ],
          [
           "full body:undistorted_GX010080_237_3366.jpg_gamma",
           "Prawn_3",
           4.191578687022814
          ],
          [
           "full body:undistorted_GX010080_237_3366.jpg_gamma",
           "Prawn_4",
           8.683038667295989
          ],
          [
           "full body:undistorted_GX010080_238_3392.jpg_gamma",
           "Prawn_0",
           19.875978636528536
          ],
          [
           "full body:undistorted_GX010080_238_3392.jpg_gamma",
           "Prawn_1",
           11.782136688419408
          ],
          [
           "full body:undistorted_GX010080_238_3392.jpg_gamma",
           "Prawn_2",
           9.182754676520066
          ],
          [
           "full body:undistorted_GX010080_238_3392.jpg_gamma",
           "Prawn_3",
           11.745410825986115
          ],
          [
           "full body:undistorted_GX010082_8_59.jpg_gamma",
           "Prawn_1",
           8.39766072440566
          ],
          [
           "full body:undistorted_GX010082_8_59.jpg_gamma",
           "Prawn_2",
           -2.982567803092131
          ],
          [
           "full body:undistorted_GX010082_8_59.jpg_gamma",
           "Prawn_3",
           31.52944808615827
          ],
          [
           "full body:undistorted_GX010082_8_59.jpg_gamma",
           "Prawn_4",
           25.835524416589056
          ],
          [
           "full body:undistorted_GX010082_53_796.jpg_gamma",
           "Prawn_0",
           1.8244947781214842
          ],
          [
           "full body:undistorted_GX010082_53_796.jpg_gamma",
           "Prawn_1",
           8.93270237156339
          ],
          [
           "full body:undistorted_GX010082_65_1070.jpg_gamma",
           "Prawn_0",
           24.21527535660236
          ],
          [
           "full body:undistorted_GX010082_65_1070.jpg_gamma",
           "Prawn_1",
           23.760340723453375
          ],
          [
           "full body:undistorted_GX010082_65_1070.jpg_gamma",
           "Prawn_2",
           18.80052086390387
          ],
          [
           "full body:undistorted_GX010082_236_3137.jpg_gamma",
           "Prawn_0",
           21.500500683734288
          ],
          [
           "full body:undistorted_GX010082_236_3137.jpg_gamma",
           "Prawn_1",
           25.73880067577455
          ],
          [
           "full body:undistorted_GX010082_236_3137.jpg_gamma",
           "Prawn_2",
           27.138071568348757
          ],
          [
           "full body:undistorted_GX010084_30_344.jpg_gamma",
           "Prawn_0",
           12.136700724581512
          ],
          [
           "full body:undistorted_GX010084_30_344.jpg_gamma",
           "Prawn_1",
           13.642438653113214
          ],
          [
           "full body:undistorted_GX010084_30_344.jpg_gamma",
           "Prawn_2",
           4.334805880649969
          ],
          [
           "full body:undistorted_GX010084_30_344.jpg_gamma",
           "Prawn_3",
           -4.280969874874185
          ],
          [
           "full body:undistorted_GX010084_130_1748.jpg_gamma",
           "Prawn_0",
           4.272725528522177
          ],
          [
           "full body:undistorted_GX010084_130_1748.jpg_gamma",
           "Prawn_1",
           16.058881443411963
          ],
          [
           "full body:undistorted_GX010084_130_1748.jpg_gamma",
           "Prawn_2",
           0.5400668591503872
          ],
          [
           "full body:undistorted_GX010085_261_3610.jpg_gamma",
           "Prawn_0",
           3.923036753006775
          ],
          [
           "full body:undistorted_GX010085_261_3610.jpg_gamma",
           "Prawn_1",
           -6.937329800583756
          ],
          [
           "full body:undistorted_GX010088_209_2904.jpg_gamma",
           "Prawn_0",
           4.34509020445063
          ],
          [
           "full body:undistorted_GX010088_209_2904.jpg_gamma",
           "Prawn_1",
           16.194034634223673
          ],
          [
           "full body:undistorted_GX010088_262_3712.jpg_gamma",
           "Prawn_0",
           0.5250528380547479
          ],
          [
           "full body:undistorted_GX010088_262_3712.jpg_gamma",
           "Prawn_1",
           -22.03192778999496
          ],
          [
           "full body:undistorted_GX010088_262_3712.jpg_gamma",
           "Prawn_2",
           -24.027134490823848
          ],
          [
           "full body:undistorted_GX010088_327_4364.jpg_gamma",
           "Prawn_0",
           -3.5360209372535847
          ],
          [
           "full body:undistorted_GX010088_327_4364.jpg_gamma",
           "Prawn_1",
           3.015349512960736
          ],
          [
           "full body:undistorted_GX010088_327_4364.jpg_gamma",
           "Prawn_2",
           4.087850334577943
          ],
          [
           "full body:undistorted_GX010088_327_4364.jpg_gamma",
           "Prawn_3",
           -7.29182239952168
          ],
          [
           "full body:undistorted_GX010090_132_1852.jpg_gamma",
           "Prawn_0",
           27.613598279140344
          ],
          [
           "full body:undistorted_GX010094_9_129.jpg_gamma",
           "Prawn_0",
           20.90122481049557
          ],
          [
           "full body:undistorted_GX010094_9_129.jpg_gamma",
           "Prawn_1",
           10.54599131487186
          ],
          [
           "full body:undistorted_GX010094_24_430.jpg_gamma",
           "Prawn_0",
           6.373762354669737
          ],
          [
           "full body:undistorted_GX010094_93_1258.jpg_gamma",
           "Prawn_0",
           6.14494537363662
          ],
          [
           "full body:undistorted_GX010094_163_2312.jpg_gamma",
           "Prawn_0",
           20.053882851135693
          ],
          [
           "full body:undistorted_GX010097_32_528.jpg_gamma",
           "Prawn_0",
           22.149311080481514
          ],
          [
           "full body:undistorted_GX010097_32_528.jpg_gamma",
           "Prawn_1",
           8.200748245369898
          ],
          [
           "full body:undistorted_GX010097_60_1080.jpg_gamma",
           "Prawn_0",
           5.089741144859687
          ],
          [
           "full body:undistorted_GX010097_60_1080.jpg_gamma",
           "Prawn_1",
           1.6057469079061013
          ],
          [
           "full body:undistorted_GX010097_60_1080.jpg_gamma",
           "Prawn_2",
           15.82012864269979
          ],
          [
           "full body:undistorted_GX010097_60_1080.jpg_gamma",
           "Prawn_3",
           0.0891569199619
          ],
          [
           "full body:undistorted_GX010097_105_1651.jpg_gamma",
           "Prawn_0",
           24.60157209726991
          ],
          [
           "full body:undistorted_GX010097_105_1651.jpg_gamma",
           "Prawn_1",
           12.791322996070212
          ],
          [
           "full body:undistorted_GX010097_105_1651.jpg_gamma",
           "Prawn_2",
           23.75108410243206
          ],
          [
           "full body:undistorted_GX010097_105_1651.jpg_gamma",
           "Prawn_3",
           24.54456659707672
          ],
          [
           "full body:undistorted_GX010097_124_1870.jpg_gamma",
           "Prawn_0",
           24.08175816129633
          ],
          [
           "full body:undistorted_GX010097_124_1870.jpg_gamma",
           "Prawn_1",
           21.204837881488874
          ],
          [
           "full body:undistorted_GX010101_12_173.jpg_gamma",
           "Prawn_0",
           4.222490703857838
          ]
         ],
         "hovertemplate": "Image: %{customdata[0]}<br>Prawn ID: %{customdata[1]}<br>Pixel Error: %{y:.2f}mm<br>Total Error: %{customdata[2]:.2f}mm<extra></extra>",
         "marker": {
          "color": [
           "#1f77b4",
           "#1f77b4",
           "#1f77b4",
           "#1f77b4",
           "#1f77b4",
           "#1f77b4",
           "#1f77b4",
           "#1f77b4",
           "#1f77b4",
           "#1f77b4",
           "#1f77b4",
           "#1f77b4",
           "#1f77b4",
           "#1f77b4",
           "#1f77b4",
           "#1f77b4",
           "#1f77b4",
           "#1f77b4",
           "#1f77b4",
           "#1f77b4",
           "#1f77b4",
           "#1f77b4",
           "#1f77b4",
           "#1f77b4",
           "#1f77b4",
           "#1f77b4",
           "#1f77b4",
           "#1f77b4",
           "#1f77b4",
           "#1f77b4",
           "#1f77b4",
           "#1f77b4",
           "#1f77b4",
           "#1f77b4",
           "#1f77b4",
           "#1f77b4",
           "#1f77b4",
           "#1f77b4",
           "#1f77b4",
           "#1f77b4",
           "#1f77b4",
           "#1f77b4",
           "#1f77b4",
           "#1f77b4",
           "#1f77b4",
           "#1f77b4",
           "#1f77b4",
           "#1f77b4",
           "#1f77b4",
           "#1f77b4",
           "#1f77b4",
           "#1f77b4",
           "#1f77b4",
           "#1f77b4",
           "#1f77b4",
           "#1f77b4",
           "#1f77b4",
           "#1f77b4",
           "#1f77b4",
           "#1f77b4",
           "#1f77b4",
           "#1f77b4",
           "#1f77b4",
           "#1f77b4",
           "#1f77b4",
           "#1f77b4",
           "#1f77b4",
           "red",
           "red",
           "#1f77b4",
           "#1f77b4",
           "#1f77b4",
           "#1f77b4",
           "#1f77b4",
           "#1f77b4",
           "#1f77b4",
           "#1f77b4",
           "#1f77b4",
           "#1f77b4",
           "#1f77b4",
           "#1f77b4",
           "#1f77b4",
           "#1f77b4",
           "#1f77b4",
           "#1f77b4",
           "#1f77b4",
           "#1f77b4",
           "#1f77b4",
           "#1f77b4",
           "#1f77b4",
           "#1f77b4",
           "#1f77b4"
          ]
         },
         "name": "Pixel Error",
         "showlegend": true,
         "type": "bar",
         "x": {
          "bdata": "AAECAwQFBgcICQoLDA0ODxAREhMUFRYXGBkaGxwdHh8gISIjJCUmJygpKissLS4vMDEyMzQ1Njc4OTo7PD0+P0BBQkNERUZHSElKS0xNTk9QUVJTVFVWV1hZWls=",
          "dtype": "i1"
         },
         "xaxis": "x",
         "y": {
          "bdata": "2/igXA46LUAm5V3LKs0rQFC6hZOkgjNA2IY2wUDlIUDFLMhy3Sj/P28LxhomiCTA4IKsO+1sFsCRCOCy/M/0P14Z9UR4NCRAvusVcrS8EUBUqad5IqMpQHUPF2rG5h7A2CcHxsLlKECftOHOwNYGQKsGZK76RAHAalaBOPS5G8BQ2dbYJpwpQBpNZSMc+wPAhMaXQvQEFUBWl6AF6rEWwPFF1QUY7BJAlQ3rXuFyAkAiXIiD6YkpQJzB8xRrPx5AB5it7dHQ/L8QrpK0S/cjwKMXygucUAVAFgtENG77GMB8Z7wi6RQWwDs40Nm9XBBAE4oh+S9CFEDatfWbrv4mQK7+mm5q4g1ASxoQhEa9J8CojcNiYjIpQPHjf2QOGiJAdCF95KRGIUAdpdPvrEAYwJs68SnEQxPAgFvODdBXI0BiIf6KwBvZv+18urHdvuc/x4MsEV7gxz+gi3utuw8QwCdx+lQU/CnA8Pot3PzvNUBPTEQH9YAwQMdmmTL2BRHAt5VOx47VCMCaiI+ng58gQFesrApt/Pc/i9Csqx4D9L/kOp34w5cVQAwS03dVmfQ/KTPD1vy07j82RkQV/OIbQNRAFGKQ5iFAvtWEQsYmxj97Hh7DFWkhwL1RC+sLdPK/wp9yu7BuKkBd8+Bfq+MMwJNXKfQ7qCXABbE7CLdvM8BHD5FNlXUpwJrOfuVBHQjAm3AXKdCwJUBjK2bIoXclwJigmXPRrifA5Hb4omQsFMBu1P6rz88EQJvJe0FXtRFAW4OlpTrHG8CBw4gYaTb2P4jlcxRXmA1AjjzJlNvWK8DgjiLQYczwvw5NHNxyRPm/QwtyiE2BKEA0A+Y5mscnQP8VtMtD+sY/Xycu4l5WBkAqTnifRRUQwHpl5NErEyhAqEiJAaf3CcCeHRaHAMkqQN/b+kc5ignAne8bpOXnKUDGALWJ/P8vQCntktVCbQxANfl/8zLICUBBWs/4TmntPw==",
          "dtype": "f8"
         },
         "yaxis": "y"
        },
        {
         "customdata": [
          [
           "full body:undistorted_GX010077_14_237.jpg_gamma",
           "Prawn_0",
           12.74455279085992
          ],
          [
           "full body:undistorted_GX010077_14_237.jpg_gamma",
           "Prawn_1",
           11.145066918819133
          ],
          [
           "full body:undistorted_GX010077_14_237.jpg_gamma",
           "Prawn_2",
           16.65124041362077
          ],
          [
           "full body:undistorted_GX010067_33_625.jpg_gamma",
           "Prawn_0",
           19.556272023483185
          ],
          [
           "full body:undistorted_GX010067_33_625.jpg_gamma",
           "Prawn_1",
           9.928911775824336
          ],
          [
           "full body:undistorted_GX010067_33_625.jpg_gamma",
           "Prawn_2",
           3.910160774295786
          ],
          [
           "full body:undistorted_GX010067_33_625.jpg_gamma",
           "Prawn_3",
           3.122398397067588
          ],
          [
           "full body:undistorted_GX010068_26_666.jpg_gamma",
           "Prawn_0",
           6.323062606115449
          ],
          [
           "full body:undistorted_GX010068_26_666.jpg_gamma",
           "Prawn_1",
           14.854948425979298
          ],
          [
           "full body:undistorted_GX010068_26_666.jpg_gamma",
           "Prawn_2",
           11.365557088687101
          ],
          [
           "full body:undistorted_GX010068_27_795.jpg_gamma",
           "Prawn_0",
           6.692158821791272
          ],
          [
           "full body:undistorted_GX010068_27_795.jpg_gamma",
           "Prawn_1",
           -11.74839563441054
          ],
          [
           "full body:undistorted_GX010069_19_191.jpg_gamma",
           "Prawn_0",
           23.781271912218678
          ],
          [
           "full body:undistorted_GX010069_19_191.jpg_gamma",
           "Prawn_1",
           12.891286480402169
          ],
          [
           "full body:undistorted_GX010069_19_191.jpg_gamma",
           "Prawn_2",
           9.46306742987186
          ],
          [
           "full body:undistorted_GX010069_19_191.jpg_gamma",
           "Prawn_3",
           6.014538988881137
          ],
          [
           "full body:undistorted_GX010071_22_444.jpg_gamma",
           "Prawn_0",
           13.33072654000933
          ],
          [
           "full body:undistorted_GX010071_22_444.jpg_gamma",
           "Prawn_1",
           -2.847120812219716
          ],
          [
           "full body:undistorted_GX010073_42_695.jpg_gamma",
           "Prawn_1",
           7.3373310684578055
          ],
          [
           "full body:undistorted_GX010073_42_695.jpg_gamma",
           "Prawn_2",
           -1.7703016502387432
          ],
          [
           "full body:undistorted_GX010073_55_1014.jpg_gamma",
           "Prawn_0",
           7.33095408703473
          ],
          [
           "full body:undistorted_GX010073_55_1014.jpg_gamma",
           "Prawn_1",
           7.0431701264854585
          ],
          [
           "full body:undistorted_GX010073_55_1014.jpg_gamma",
           "Prawn_2",
           15.122461852934851
          ],
          [
           "full body:undistorted_GX010080_157_2283.jpg_gamma",
           "Prawn_0",
           36.045135328278604
          ],
          [
           "full body:undistorted_GX010080_157_2283.jpg_gamma",
           "Prawn_2",
           25.074598441417137
          ],
          [
           "full body:undistorted_GX010080_157_2283.jpg_gamma",
           "Prawn_3",
           18.624002162505388
          ],
          [
           "full body:undistorted_GX010080_193_2640.jpg_gamma",
           "Prawn_0",
           19.76697088625698
          ],
          [
           "full body:undistorted_GX010080_193_2640.jpg_gamma",
           "Prawn_1",
           9.164884266595951
          ],
          [
           "full body:undistorted_GX010080_193_2640.jpg_gamma",
           "Prawn_2",
           9.518643799179932
          ],
          [
           "full body:undistorted_GX010080_193_2640.jpg_gamma",
           "Prawn_3",
           19.883188649320495
          ],
          [
           "full body:undistorted_GX010080_193_2640.jpg_gamma",
           "Prawn_4",
           19.838137604696644
          ],
          [
           "full body:undistorted_GX010080_212_2954.jpg_gamma",
           "Prawn_0",
           20.64730092356818
          ],
          [
           "full body:undistorted_GX010080_212_2954.jpg_gamma",
           "Prawn_1",
           12.79510693435294
          ],
          [
           "full body:undistorted_GX010080_212_2954.jpg_gamma",
           "Prawn_2",
           -1.779630802117719
          ],
          [
           "full body:undistorted_GX010080_237_3366.jpg_gamma",
           "Prawn_0",
           22.83261759480697
          ],
          [
           "full body:undistorted_GX010080_237_3366.jpg_gamma",
           "Prawn_1",
           20.290322563810804
          ],
          [
           "full body:undistorted_GX010080_237_3366.jpg_gamma",
           "Prawn_2",
           16.574499282908175
          ],
          [
           "full body:undistorted_GX010080_237_3366.jpg_gamma",
           "Prawn_3",
           4.191578687022814
          ],
          [
           "full body:undistorted_GX010080_237_3366.jpg_gamma",
           "Prawn_4",
           8.683038667295989
          ],
          [
           "full body:undistorted_GX010080_238_3392.jpg_gamma",
           "Prawn_0",
           19.875978636528536
          ],
          [
           "full body:undistorted_GX010080_238_3392.jpg_gamma",
           "Prawn_1",
           11.782136688419408
          ],
          [
           "full body:undistorted_GX010080_238_3392.jpg_gamma",
           "Prawn_2",
           9.182754676520066
          ],
          [
           "full body:undistorted_GX010080_238_3392.jpg_gamma",
           "Prawn_3",
           11.745410825986115
          ],
          [
           "full body:undistorted_GX010082_8_59.jpg_gamma",
           "Prawn_1",
           8.39766072440566
          ],
          [
           "full body:undistorted_GX010082_8_59.jpg_gamma",
           "Prawn_2",
           -2.982567803092131
          ],
          [
           "full body:undistorted_GX010082_8_59.jpg_gamma",
           "Prawn_3",
           31.52944808615827
          ],
          [
           "full body:undistorted_GX010082_8_59.jpg_gamma",
           "Prawn_4",
           25.835524416589056
          ],
          [
           "full body:undistorted_GX010082_53_796.jpg_gamma",
           "Prawn_0",
           1.8244947781214842
          ],
          [
           "full body:undistorted_GX010082_53_796.jpg_gamma",
           "Prawn_1",
           8.93270237156339
          ],
          [
           "full body:undistorted_GX010082_65_1070.jpg_gamma",
           "Prawn_0",
           24.21527535660236
          ],
          [
           "full body:undistorted_GX010082_65_1070.jpg_gamma",
           "Prawn_1",
           23.760340723453375
          ],
          [
           "full body:undistorted_GX010082_65_1070.jpg_gamma",
           "Prawn_2",
           18.80052086390387
          ],
          [
           "full body:undistorted_GX010082_236_3137.jpg_gamma",
           "Prawn_0",
           21.500500683734288
          ],
          [
           "full body:undistorted_GX010082_236_3137.jpg_gamma",
           "Prawn_1",
           25.73880067577455
          ],
          [
           "full body:undistorted_GX010082_236_3137.jpg_gamma",
           "Prawn_2",
           27.138071568348757
          ],
          [
           "full body:undistorted_GX010084_30_344.jpg_gamma",
           "Prawn_0",
           12.136700724581512
          ],
          [
           "full body:undistorted_GX010084_30_344.jpg_gamma",
           "Prawn_1",
           13.642438653113214
          ],
          [
           "full body:undistorted_GX010084_30_344.jpg_gamma",
           "Prawn_2",
           4.334805880649969
          ],
          [
           "full body:undistorted_GX010084_30_344.jpg_gamma",
           "Prawn_3",
           -4.280969874874185
          ],
          [
           "full body:undistorted_GX010084_130_1748.jpg_gamma",
           "Prawn_0",
           4.272725528522177
          ],
          [
           "full body:undistorted_GX010084_130_1748.jpg_gamma",
           "Prawn_1",
           16.058881443411963
          ],
          [
           "full body:undistorted_GX010084_130_1748.jpg_gamma",
           "Prawn_2",
           0.5400668591503872
          ],
          [
           "full body:undistorted_GX010085_261_3610.jpg_gamma",
           "Prawn_0",
           3.923036753006775
          ],
          [
           "full body:undistorted_GX010085_261_3610.jpg_gamma",
           "Prawn_1",
           -6.937329800583756
          ],
          [
           "full body:undistorted_GX010088_209_2904.jpg_gamma",
           "Prawn_0",
           4.34509020445063
          ],
          [
           "full body:undistorted_GX010088_209_2904.jpg_gamma",
           "Prawn_1",
           16.194034634223673
          ],
          [
           "full body:undistorted_GX010088_262_3712.jpg_gamma",
           "Prawn_0",
           0.5250528380547479
          ],
          [
           "full body:undistorted_GX010088_262_3712.jpg_gamma",
           "Prawn_1",
           -22.03192778999496
          ],
          [
           "full body:undistorted_GX010088_262_3712.jpg_gamma",
           "Prawn_2",
           -24.027134490823848
          ],
          [
           "full body:undistorted_GX010088_327_4364.jpg_gamma",
           "Prawn_0",
           -3.5360209372535847
          ],
          [
           "full body:undistorted_GX010088_327_4364.jpg_gamma",
           "Prawn_1",
           3.015349512960736
          ],
          [
           "full body:undistorted_GX010088_327_4364.jpg_gamma",
           "Prawn_2",
           4.087850334577943
          ],
          [
           "full body:undistorted_GX010088_327_4364.jpg_gamma",
           "Prawn_3",
           -7.29182239952168
          ],
          [
           "full body:undistorted_GX010090_132_1852.jpg_gamma",
           "Prawn_0",
           27.613598279140344
          ],
          [
           "full body:undistorted_GX010094_9_129.jpg_gamma",
           "Prawn_0",
           20.90122481049557
          ],
          [
           "full body:undistorted_GX010094_9_129.jpg_gamma",
           "Prawn_1",
           10.54599131487186
          ],
          [
           "full body:undistorted_GX010094_24_430.jpg_gamma",
           "Prawn_0",
           6.373762354669737
          ],
          [
           "full body:undistorted_GX010094_93_1258.jpg_gamma",
           "Prawn_0",
           6.14494537363662
          ],
          [
           "full body:undistorted_GX010094_163_2312.jpg_gamma",
           "Prawn_0",
           20.053882851135693
          ],
          [
           "full body:undistorted_GX010097_32_528.jpg_gamma",
           "Prawn_0",
           22.149311080481514
          ],
          [
           "full body:undistorted_GX010097_32_528.jpg_gamma",
           "Prawn_1",
           8.200748245369898
          ],
          [
           "full body:undistorted_GX010097_60_1080.jpg_gamma",
           "Prawn_0",
           5.089741144859687
          ],
          [
           "full body:undistorted_GX010097_60_1080.jpg_gamma",
           "Prawn_1",
           1.6057469079061013
          ],
          [
           "full body:undistorted_GX010097_60_1080.jpg_gamma",
           "Prawn_2",
           15.82012864269979
          ],
          [
           "full body:undistorted_GX010097_60_1080.jpg_gamma",
           "Prawn_3",
           0.0891569199619
          ],
          [
           "full body:undistorted_GX010097_105_1651.jpg_gamma",
           "Prawn_0",
           24.60157209726991
          ],
          [
           "full body:undistorted_GX010097_105_1651.jpg_gamma",
           "Prawn_1",
           12.791322996070212
          ],
          [
           "full body:undistorted_GX010097_105_1651.jpg_gamma",
           "Prawn_2",
           23.75108410243206
          ],
          [
           "full body:undistorted_GX010097_105_1651.jpg_gamma",
           "Prawn_3",
           24.54456659707672
          ],
          [
           "full body:undistorted_GX010097_124_1870.jpg_gamma",
           "Prawn_0",
           24.08175816129633
          ],
          [
           "full body:undistorted_GX010097_124_1870.jpg_gamma",
           "Prawn_1",
           21.204837881488874
          ],
          [
           "full body:undistorted_GX010101_12_173.jpg_gamma",
           "Prawn_0",
           4.222490703857838
          ]
         ],
         "hovertemplate": "Image: %{customdata[0]}<br>Prawn ID: %{customdata[1]}<br>Scale Error: %{y:.2f}mm<br>Total Error: %{customdata[2]:.2f}mm<extra></extra>",
         "marker": {
          "color": [
           "#ff7f0e",
           "#ff7f0e",
           "#ff7f0e",
           "#ff7f0e",
           "#ff7f0e",
           "#ff7f0e",
           "#ff7f0e",
           "#ff7f0e",
           "#ff7f0e",
           "#ff7f0e",
           "#ff7f0e",
           "#ff7f0e",
           "#ff7f0e",
           "#ff7f0e",
           "#ff7f0e",
           "#ff7f0e",
           "#ff7f0e",
           "#ff7f0e",
           "#ff7f0e",
           "#ff7f0e",
           "#ff7f0e",
           "#ff7f0e",
           "#ff7f0e",
           "#ff7f0e",
           "#ff7f0e",
           "#ff7f0e",
           "#ff7f0e",
           "#ff7f0e",
           "#ff7f0e",
           "#ff7f0e",
           "#ff7f0e",
           "#ff7f0e",
           "#ff7f0e",
           "#ff7f0e",
           "#ff7f0e",
           "#ff7f0e",
           "#ff7f0e",
           "#ff7f0e",
           "#ff7f0e",
           "#ff7f0e",
           "#ff7f0e",
           "#ff7f0e",
           "#ff7f0e",
           "#ff7f0e",
           "#ff7f0e",
           "#ff7f0e",
           "#ff7f0e",
           "#ff7f0e",
           "#ff7f0e",
           "#ff7f0e",
           "#ff7f0e",
           "#ff7f0e",
           "#ff7f0e",
           "#ff7f0e",
           "#ff7f0e",
           "#ff7f0e",
           "#ff7f0e",
           "#ff7f0e",
           "#ff7f0e",
           "#ff7f0e",
           "#ff7f0e",
           "#ff7f0e",
           "#ff7f0e",
           "#ff7f0e",
           "#ff7f0e",
           "#ff7f0e",
           "#ff7f0e",
           "red",
           "red",
           "#ff7f0e",
           "#ff7f0e",
           "#ff7f0e",
           "#ff7f0e",
           "#ff7f0e",
           "#ff7f0e",
           "#ff7f0e",
           "#ff7f0e",
           "#ff7f0e",
           "#ff7f0e",
           "#ff7f0e",
           "#ff7f0e",
           "#ff7f0e",
           "#ff7f0e",
           "#ff7f0e",
           "#ff7f0e",
           "#ff7f0e",
           "#ff7f0e",
           "#ff7f0e",
           "#ff7f0e",
           "#ff7f0e",
           "#ff7f0e",
           "#ff7f0e"
          ]
         },
         "name": "Scale Error",
         "showlegend": true,
         "type": "bar",
         "x": {
          "bdata": "AAECAwQFBgcICQoLDA0ODxAREhMUFRYXGBkaGxwdHh8gISIjJCUmJygpKissLS4vMDEyMzQ1Njc4OTo7PD0+P0BBQkNERUZHSElKS0xNTk9QUVJTVFVWV1hZWls=",
          "dtype": "i1"
         },
         "xaxis": "x",
         "y": {
          "bdata": "9Y0ZtcLm/b9pGjdVkgsGwP8kexNn3wbApo2S7o43JUByGFZJ/ewfQBVzlbImWixAWjuHniF1IUATTMe/0RYUQGAxuw+HAhNA5QHdJqC5G0CyZRKrf4EYwEn9wQKVFxDAm145GUCqJkBO9uB/phIkQJVKL9hVPidACjHEw2vkKUBFt7pF4tLgP00/5RpZXta/pQ5oHPKoAEBbiuIhQDoPQIbJ9zWbzQRAfyawGsTyEkBhdok5J9MCQGnp6TezezxAnBEFASbgOkAT71l1ZJs8QEMywLJEGjFArVQL0CLSLkBBtHU/ABQuQDbzkWDSlS9AiauyYgiMLUDeFN1qvEwiQBv96KV9HiJAxQBUvxouJECj/LN36nckQH/TOcSWeiZAJGdEwf++H0DYkfARbYIkQG1+fFOZ/ypAfWnJN7BoJEDAd6s8UlkoQLMIQiqk4SBAorGaBCUeJ0CDOXoGeNMoQOuscTQBBSRAqf9xGRovI0A87K/M36kiQHBriI4+UhhA1C0h3O4SKEA888DqtM4vQNVB4t/eQjZAoQgt2iANNED39OzRLxowQMGFB7OMczhAIXfQwbAtOkDlZBEx/6gUQEO5Cqy6xBJABXM7KKGlEEA5QR31dLIRQGP6KVdItBVAed7D59O9BkDwSlf53JoQQK6uHzrUgC1AcTxpX4T/KEC00K57IhMxQAQiqH1UNTNAozRXb/yjJMDqjXUOt5gmwJu80x4TXyjAREAq2wce+D9bnhQm/3zaPzt8PxUdttW/ea8zgY051r/vPVU1rjk6QGnvwMirMzFAmOSd4DN3OED5xA8D1LEdQHj6ZEaJ5R5AJ68JAJI0H0A+L5lG2IQkQFJfKmrfCiBA4hFkUmthAkChvlSKjoEWQKWuhVPwQg5AFd/E6D6uCkAZzvG6AGsmQHMaqJu29y9A4gtVdKiYJUDA3yTl1BYhQEKVor9FhzRA3vrx4mn7MUCDB5J2VW0KQA==",
          "dtype": "f8"
         },
         "yaxis": "y"
        },
        {
         "customdata": [
          [
           "full body:undistorted_GX010077_14_237.jpg_gamma",
           "Prawn_0"
          ],
          [
           "full body:undistorted_GX010077_14_237.jpg_gamma",
           "Prawn_1"
          ],
          [
           "full body:undistorted_GX010077_14_237.jpg_gamma",
           "Prawn_2"
          ],
          [
           "full body:undistorted_GX010067_33_625.jpg_gamma",
           "Prawn_0"
          ],
          [
           "full body:undistorted_GX010067_33_625.jpg_gamma",
           "Prawn_1"
          ],
          [
           "full body:undistorted_GX010067_33_625.jpg_gamma",
           "Prawn_2"
          ],
          [
           "full body:undistorted_GX010067_33_625.jpg_gamma",
           "Prawn_3"
          ],
          [
           "full body:undistorted_GX010068_26_666.jpg_gamma",
           "Prawn_0"
          ],
          [
           "full body:undistorted_GX010068_26_666.jpg_gamma",
           "Prawn_1"
          ],
          [
           "full body:undistorted_GX010068_26_666.jpg_gamma",
           "Prawn_2"
          ],
          [
           "full body:undistorted_GX010068_27_795.jpg_gamma",
           "Prawn_0"
          ],
          [
           "full body:undistorted_GX010068_27_795.jpg_gamma",
           "Prawn_1"
          ],
          [
           "full body:undistorted_GX010069_19_191.jpg_gamma",
           "Prawn_0"
          ],
          [
           "full body:undistorted_GX010069_19_191.jpg_gamma",
           "Prawn_1"
          ],
          [
           "full body:undistorted_GX010069_19_191.jpg_gamma",
           "Prawn_2"
          ],
          [
           "full body:undistorted_GX010069_19_191.jpg_gamma",
           "Prawn_3"
          ],
          [
           "full body:undistorted_GX010071_22_444.jpg_gamma",
           "Prawn_0"
          ],
          [
           "full body:undistorted_GX010071_22_444.jpg_gamma",
           "Prawn_1"
          ],
          [
           "full body:undistorted_GX010073_42_695.jpg_gamma",
           "Prawn_1"
          ],
          [
           "full body:undistorted_GX010073_42_695.jpg_gamma",
           "Prawn_2"
          ],
          [
           "full body:undistorted_GX010073_55_1014.jpg_gamma",
           "Prawn_0"
          ],
          [
           "full body:undistorted_GX010073_55_1014.jpg_gamma",
           "Prawn_1"
          ],
          [
           "full body:undistorted_GX010073_55_1014.jpg_gamma",
           "Prawn_2"
          ],
          [
           "full body:undistorted_GX010080_157_2283.jpg_gamma",
           "Prawn_0"
          ],
          [
           "full body:undistorted_GX010080_157_2283.jpg_gamma",
           "Prawn_2"
          ],
          [
           "full body:undistorted_GX010080_157_2283.jpg_gamma",
           "Prawn_3"
          ],
          [
           "full body:undistorted_GX010080_193_2640.jpg_gamma",
           "Prawn_0"
          ],
          [
           "full body:undistorted_GX010080_193_2640.jpg_gamma",
           "Prawn_1"
          ],
          [
           "full body:undistorted_GX010080_193_2640.jpg_gamma",
           "Prawn_2"
          ],
          [
           "full body:undistorted_GX010080_193_2640.jpg_gamma",
           "Prawn_3"
          ],
          [
           "full body:undistorted_GX010080_193_2640.jpg_gamma",
           "Prawn_4"
          ],
          [
           "full body:undistorted_GX010080_212_2954.jpg_gamma",
           "Prawn_0"
          ],
          [
           "full body:undistorted_GX010080_212_2954.jpg_gamma",
           "Prawn_1"
          ],
          [
           "full body:undistorted_GX010080_212_2954.jpg_gamma",
           "Prawn_2"
          ],
          [
           "full body:undistorted_GX010080_237_3366.jpg_gamma",
           "Prawn_0"
          ],
          [
           "full body:undistorted_GX010080_237_3366.jpg_gamma",
           "Prawn_1"
          ],
          [
           "full body:undistorted_GX010080_237_3366.jpg_gamma",
           "Prawn_2"
          ],
          [
           "full body:undistorted_GX010080_237_3366.jpg_gamma",
           "Prawn_3"
          ],
          [
           "full body:undistorted_GX010080_237_3366.jpg_gamma",
           "Prawn_4"
          ],
          [
           "full body:undistorted_GX010080_238_3392.jpg_gamma",
           "Prawn_0"
          ],
          [
           "full body:undistorted_GX010080_238_3392.jpg_gamma",
           "Prawn_1"
          ],
          [
           "full body:undistorted_GX010080_238_3392.jpg_gamma",
           "Prawn_2"
          ],
          [
           "full body:undistorted_GX010080_238_3392.jpg_gamma",
           "Prawn_3"
          ],
          [
           "full body:undistorted_GX010082_8_59.jpg_gamma",
           "Prawn_1"
          ],
          [
           "full body:undistorted_GX010082_8_59.jpg_gamma",
           "Prawn_2"
          ],
          [
           "full body:undistorted_GX010082_8_59.jpg_gamma",
           "Prawn_3"
          ],
          [
           "full body:undistorted_GX010082_8_59.jpg_gamma",
           "Prawn_4"
          ],
          [
           "full body:undistorted_GX010082_53_796.jpg_gamma",
           "Prawn_0"
          ],
          [
           "full body:undistorted_GX010082_53_796.jpg_gamma",
           "Prawn_1"
          ],
          [
           "full body:undistorted_GX010082_65_1070.jpg_gamma",
           "Prawn_0"
          ],
          [
           "full body:undistorted_GX010082_65_1070.jpg_gamma",
           "Prawn_1"
          ],
          [
           "full body:undistorted_GX010082_65_1070.jpg_gamma",
           "Prawn_2"
          ],
          [
           "full body:undistorted_GX010082_236_3137.jpg_gamma",
           "Prawn_0"
          ],
          [
           "full body:undistorted_GX010082_236_3137.jpg_gamma",
           "Prawn_1"
          ],
          [
           "full body:undistorted_GX010082_236_3137.jpg_gamma",
           "Prawn_2"
          ],
          [
           "full body:undistorted_GX010084_30_344.jpg_gamma",
           "Prawn_0"
          ],
          [
           "full body:undistorted_GX010084_30_344.jpg_gamma",
           "Prawn_1"
          ],
          [
           "full body:undistorted_GX010084_30_344.jpg_gamma",
           "Prawn_2"
          ],
          [
           "full body:undistorted_GX010084_30_344.jpg_gamma",
           "Prawn_3"
          ],
          [
           "full body:undistorted_GX010084_130_1748.jpg_gamma",
           "Prawn_0"
          ],
          [
           "full body:undistorted_GX010084_130_1748.jpg_gamma",
           "Prawn_1"
          ],
          [
           "full body:undistorted_GX010084_130_1748.jpg_gamma",
           "Prawn_2"
          ],
          [
           "full body:undistorted_GX010085_261_3610.jpg_gamma",
           "Prawn_0"
          ],
          [
           "full body:undistorted_GX010085_261_3610.jpg_gamma",
           "Prawn_1"
          ],
          [
           "full body:undistorted_GX010088_209_2904.jpg_gamma",
           "Prawn_0"
          ],
          [
           "full body:undistorted_GX010088_209_2904.jpg_gamma",
           "Prawn_1"
          ],
          [
           "full body:undistorted_GX010088_262_3712.jpg_gamma",
           "Prawn_0"
          ],
          [
           "full body:undistorted_GX010088_262_3712.jpg_gamma",
           "Prawn_1"
          ],
          [
           "full body:undistorted_GX010088_262_3712.jpg_gamma",
           "Prawn_2"
          ],
          [
           "full body:undistorted_GX010088_327_4364.jpg_gamma",
           "Prawn_0"
          ],
          [
           "full body:undistorted_GX010088_327_4364.jpg_gamma",
           "Prawn_1"
          ],
          [
           "full body:undistorted_GX010088_327_4364.jpg_gamma",
           "Prawn_2"
          ],
          [
           "full body:undistorted_GX010088_327_4364.jpg_gamma",
           "Prawn_3"
          ],
          [
           "full body:undistorted_GX010090_132_1852.jpg_gamma",
           "Prawn_0"
          ],
          [
           "full body:undistorted_GX010094_9_129.jpg_gamma",
           "Prawn_0"
          ],
          [
           "full body:undistorted_GX010094_9_129.jpg_gamma",
           "Prawn_1"
          ],
          [
           "full body:undistorted_GX010094_24_430.jpg_gamma",
           "Prawn_0"
          ],
          [
           "full body:undistorted_GX010094_93_1258.jpg_gamma",
           "Prawn_0"
          ],
          [
           "full body:undistorted_GX010094_163_2312.jpg_gamma",
           "Prawn_0"
          ],
          [
           "full body:undistorted_GX010097_32_528.jpg_gamma",
           "Prawn_0"
          ],
          [
           "full body:undistorted_GX010097_32_528.jpg_gamma",
           "Prawn_1"
          ],
          [
           "full body:undistorted_GX010097_60_1080.jpg_gamma",
           "Prawn_0"
          ],
          [
           "full body:undistorted_GX010097_60_1080.jpg_gamma",
           "Prawn_1"
          ],
          [
           "full body:undistorted_GX010097_60_1080.jpg_gamma",
           "Prawn_2"
          ],
          [
           "full body:undistorted_GX010097_60_1080.jpg_gamma",
           "Prawn_3"
          ],
          [
           "full body:undistorted_GX010097_105_1651.jpg_gamma",
           "Prawn_0"
          ],
          [
           "full body:undistorted_GX010097_105_1651.jpg_gamma",
           "Prawn_1"
          ],
          [
           "full body:undistorted_GX010097_105_1651.jpg_gamma",
           "Prawn_2"
          ],
          [
           "full body:undistorted_GX010097_105_1651.jpg_gamma",
           "Prawn_3"
          ],
          [
           "full body:undistorted_GX010097_124_1870.jpg_gamma",
           "Prawn_0"
          ],
          [
           "full body:undistorted_GX010097_124_1870.jpg_gamma",
           "Prawn_1"
          ],
          [
           "full body:undistorted_GX010101_12_173.jpg_gamma",
           "Prawn_0"
          ]
         ],
         "hovertemplate": "Image: %{customdata[0]}<br>Prawn ID: %{customdata[1]}<br>Total Error: %{y:.2f}mm<extra></extra>",
         "marker": {
          "color": "purple",
          "size": 10,
          "symbol": "x"
         },
         "mode": "markers",
         "name": "MAPE Outlier",
         "showlegend": true,
         "type": "scatter",
         "x": [],
         "xaxis": "x",
         "y": [],
         "yaxis": "y"
        },
        {
         "customdata": [
          [
           "full body:undistorted_GX010089_11_236.jpg_gamma",
           "Prawn_0",
           22.237860392380068
          ],
          [
           "full body:undistorted_GX010089_11_236.jpg_gamma",
           "Prawn_1",
           18.062567218496227
          ],
          [
           "full body:undistorted_GX010089_11_236.jpg_gamma",
           "Prawn_2",
           17.550015615913903
          ],
          [
           "full body:undistorted_GX010091_5_149.jpg_gamma",
           "Prawn_0",
           -9.686576271957748
          ],
          [
           "full body:undistorted_GX010091_5_149.jpg_gamma",
           "Prawn_1",
           11.132758322920111
          ],
          [
           "full body:undistorted_GX010102_9_165.jpg_gamma",
           "Prawn_1",
           9.848509024503628
          ],
          [
           "full body:undistorted_GX010102_9_165.jpg_gamma",
           "Prawn_2",
           -22.70429941935876
          ],
          [
           "full body:undistorted_GX010102_9_165.jpg_gamma",
           "Prawn_3",
           -35.5820319017712
          ],
          [
           "full body:undistorted_GX010102_9_165.jpg_gamma",
           "Prawn_4",
           11.236003284369515
          ],
          [
           "full body:undistorted_GX010102_9_165.jpg_gamma",
           "Prawn_5",
           14.001390530762935
          ],
          [
           "full body:undistorted_GX010102_50_1396.jpg_gamma",
           "Prawn_0",
           15.249026983370896
          ],
          [
           "full body:undistorted_GX010105_28_816.jpg_gamma",
           "Prawn_0",
           17.391442601835752
          ],
          [
           "full body:undistorted_GX010105_28_816.jpg_gamma",
           "Prawn_1",
           27.35579201336797
          ]
         ],
         "hovertemplate": "Image: %{customdata[0]}<br>Prawn ID: %{customdata[1]}<br>Pixel Error: %{y:.2f}mm<br>Total Error: %{customdata[2]:.2f}mm<extra></extra>",
         "marker": {
          "color": [
           "#1f77b4",
           "#1f77b4",
           "#1f77b4",
           "red",
           "#1f77b4",
           "#1f77b4",
           "red",
           "red",
           "#1f77b4",
           "#1f77b4",
           "#1f77b4",
           "#1f77b4",
           "#1f77b4"
          ]
         },
         "name": "",
         "showlegend": false,
         "type": "bar",
         "x": {
          "bdata": "AAECAwQFBgcICQoLDA==",
          "dtype": "i1"
         },
         "xaxis": "x2",
         "y": {
          "bdata": "8xdthXwxJkAPE5+ImCkgQMOoCdl0lxVAoEE4WebINsCy329G7LUKwBRlhN9c9xXA4vcbIbAuPsA23OMYQotGwJ1p8UMvEbK/e1Bh8t5/BUDCQr3W5+gnwGWv4+oj6wdA1mrwWi/PBkA=",
          "dtype": "f8"
         },
         "yaxis": "y2"
        },
        {
         "customdata": [
          [
           "full body:undistorted_GX010089_11_236.jpg_gamma",
           "Prawn_0",
           22.237860392380068
          ],
          [
           "full body:undistorted_GX010089_11_236.jpg_gamma",
           "Prawn_1",
           18.062567218496227
          ],
          [
           "full body:undistorted_GX010089_11_236.jpg_gamma",
           "Prawn_2",
           17.550015615913903
          ],
          [
           "full body:undistorted_GX010091_5_149.jpg_gamma",
           "Prawn_0",
           -9.686576271957748
          ],
          [
           "full body:undistorted_GX010091_5_149.jpg_gamma",
           "Prawn_1",
           11.132758322920111
          ],
          [
           "full body:undistorted_GX010102_9_165.jpg_gamma",
           "Prawn_1",
           9.848509024503628
          ],
          [
           "full body:undistorted_GX010102_9_165.jpg_gamma",
           "Prawn_2",
           -22.70429941935876
          ],
          [
           "full body:undistorted_GX010102_9_165.jpg_gamma",
           "Prawn_3",
           -35.5820319017712
          ],
          [
           "full body:undistorted_GX010102_9_165.jpg_gamma",
           "Prawn_4",
           11.236003284369515
          ],
          [
           "full body:undistorted_GX010102_9_165.jpg_gamma",
           "Prawn_5",
           14.001390530762935
          ],
          [
           "full body:undistorted_GX010102_50_1396.jpg_gamma",
           "Prawn_0",
           15.249026983370896
          ],
          [
           "full body:undistorted_GX010105_28_816.jpg_gamma",
           "Prawn_0",
           17.391442601835752
          ],
          [
           "full body:undistorted_GX010105_28_816.jpg_gamma",
           "Prawn_1",
           27.35579201336797
          ]
         ],
         "hovertemplate": "Image: %{customdata[0]}<br>Prawn ID: %{customdata[1]}<br>Scale Error: %{y:.2f}mm<br>Total Error: %{customdata[2]:.2f}mm<extra></extra>",
         "marker": {
          "color": [
           "#ff7f0e",
           "#ff7f0e",
           "#ff7f0e",
           "red",
           "#ff7f0e",
           "#ff7f0e",
           "red",
           "red",
           "#ff7f0e",
           "#ff7f0e",
           "#ff7f0e",
           "#ff7f0e",
           "#ff7f0e"
          ]
         },
         "name": "",
         "showlegend": false,
         "type": "bar",
         "x": {
          "bdata": "AAECAwQFBgcICQoLDA==",
          "dtype": "i1"
         },
         "xaxis": "x2",
         "y": {
          "bdata": "i3rvUExIJkBZadtGcPYjQA1zEDnhTShA+PmbxUUyKkBUZbr3c/EsQMJnHzYeri5AJux8pozpHUDPxLBNCAMjQAoesMr3nCZAIvnfhb6gJkCpB9wmNDQ7QMBecS+izSxAkIoXRC+BOEA=",
          "dtype": "f8"
         },
         "yaxis": "y2"
        },
        {
         "customdata": [
          [
           "full body:undistorted_GX010089_11_236.jpg_gamma",
           "Prawn_0"
          ],
          [
           "full body:undistorted_GX010089_11_236.jpg_gamma",
           "Prawn_1"
          ],
          [
           "full body:undistorted_GX010089_11_236.jpg_gamma",
           "Prawn_2"
          ],
          [
           "full body:undistorted_GX010091_5_149.jpg_gamma",
           "Prawn_0"
          ],
          [
           "full body:undistorted_GX010091_5_149.jpg_gamma",
           "Prawn_1"
          ],
          [
           "full body:undistorted_GX010102_9_165.jpg_gamma",
           "Prawn_1"
          ],
          [
           "full body:undistorted_GX010102_9_165.jpg_gamma",
           "Prawn_2"
          ],
          [
           "full body:undistorted_GX010102_9_165.jpg_gamma",
           "Prawn_3"
          ],
          [
           "full body:undistorted_GX010102_9_165.jpg_gamma",
           "Prawn_4"
          ],
          [
           "full body:undistorted_GX010102_9_165.jpg_gamma",
           "Prawn_5"
          ],
          [
           "full body:undistorted_GX010102_50_1396.jpg_gamma",
           "Prawn_0"
          ],
          [
           "full body:undistorted_GX010105_28_816.jpg_gamma",
           "Prawn_0"
          ],
          [
           "full body:undistorted_GX010105_28_816.jpg_gamma",
           "Prawn_1"
          ]
         ],
         "hovertemplate": "Image: %{customdata[0]}<br>Prawn ID: %{customdata[1]}<br>Total Error: %{y:.2f}mm<extra></extra>",
         "marker": {
          "color": "purple",
          "size": 10,
          "symbol": "x"
         },
         "mode": "markers",
         "name": "",
         "showlegend": false,
         "type": "scatter",
         "x": {
          "bdata": "Bw==",
          "dtype": "i1"
         },
         "xaxis": "x2",
         "y": {
          "bdata": "Aqt3BYDKQcA=",
          "dtype": "f8"
         },
         "yaxis": "y2"
        },
        {
         "customdata": [
          [
           "full body:undistorted_GX010152_36_378.jpg_gamma",
           "Prawn_0",
           -6.666293776689755
          ],
          [
           "full body:undistorted_GX010152_36_378.jpg_gamma",
           "Prawn_1",
           -16.8850671046993
          ],
          [
           "full body:undistorted_GX010157_160_2259",
           "Prawn_0",
           -11.872303713420546
          ],
          [
           "full body:undistorted_GX010157_174_2582.jpg_gamma",
           "Prawn_0",
           -12.259930484552036
          ],
          [
           "full body:undistorted_GX010157_177_2665.jpg_gamma",
           "Prawn_0",
           -9.724747423472984
          ],
          [
           "full body:undistorted_GX010161_54_676.jpg_gamma.jpg_gamma",
           "Prawn_0",
           28.32180978676953
          ],
          [
           "full body:undistorted_GX010162_72_927.jpg_gamma.jpg_gamma",
           "Prawn_0",
           -19.15152919489997
          ],
          [
           "full body:undistorted_GX010174_62_790.jpg_gamma",
           "Prawn_0",
           13.13389992532841
          ],
          [
           "full body:undistorted_GX010175_266_3372.jpg_gamma.jpg_gamma",
           "Prawn_0",
           -3.998615921095718
          ],
          [
           "full body:undistorted_GX010177_232_3047",
           "Prawn_0",
           -25.257575001172984
          ],
          [
           "full body:undistorted_GX010178_172_3604.jpg_gamma",
           "Prawn_0",
           -20.053321551376925
          ],
          [
           "full body:undistorted_GX010183_37_685.jpg_gamma",
           "Prawn_0",
           -8.403700426723882
          ],
          [
           "full body:undistorted_GX010183_80_1633.jpg_gamma",
           "Prawn_0",
           4.78028033818545
          ],
          [
           "full body:undistorted_GX010183_128_2852.jpg_gamma",
           "Prawn_0",
           -7.084724917201083
          ]
         ],
         "hovertemplate": "Image: %{customdata[0]}<br>Prawn ID: %{customdata[1]}<br>Pixel Error: %{y:.2f}mm<br>Total Error: %{customdata[2]:.2f}mm<extra></extra>",
         "marker": {
          "color": [
           "#1f77b4",
           "#1f77b4",
           "#1f77b4",
           "#1f77b4",
           "#1f77b4",
           "red",
           "#1f77b4",
           "red",
           "#1f77b4",
           "#1f77b4",
           "#1f77b4",
           "#1f77b4",
           "#1f77b4",
           "#1f77b4"
          ]
         },
         "name": "",
         "showlegend": false,
         "type": "bar",
         "x": {
          "bdata": "AAECAwQFBgcICQoLDA0=",
          "dtype": "i1"
         },
         "xaxis": "x3",
         "y": {
          "bdata": "Qc+1NYanG0DZgCoTw7K2v1QzKq4MEey/WJjPH7nUIMCUneBnDC0WwNAbN3WucjZAaox59RKrGcAsdlc0CDAvQHjL1ym2EdK/uYRgSdFQO8DCVG8L568XwIojOikv8AvAOPfDmVNV9r/g2U+8i1MLwA==",
          "dtype": "f8"
         },
         "yaxis": "y3"
        },
        {
         "customdata": [
          [
           "full body:undistorted_GX010152_36_378.jpg_gamma",
           "Prawn_0",
           -6.666293776689755
          ],
          [
           "full body:undistorted_GX010152_36_378.jpg_gamma",
           "Prawn_1",
           -16.8850671046993
          ],
          [
           "full body:undistorted_GX010157_160_2259",
           "Prawn_0",
           -11.872303713420546
          ],
          [
           "full body:undistorted_GX010157_174_2582.jpg_gamma",
           "Prawn_0",
           -12.259930484552036
          ],
          [
           "full body:undistorted_GX010157_177_2665.jpg_gamma",
           "Prawn_0",
           -9.724747423472984
          ],
          [
           "full body:undistorted_GX010161_54_676.jpg_gamma.jpg_gamma",
           "Prawn_0",
           28.32180978676953
          ],
          [
           "full body:undistorted_GX010162_72_927.jpg_gamma.jpg_gamma",
           "Prawn_0",
           -19.15152919489997
          ],
          [
           "full body:undistorted_GX010174_62_790.jpg_gamma",
           "Prawn_0",
           13.13389992532841
          ],
          [
           "full body:undistorted_GX010175_266_3372.jpg_gamma.jpg_gamma",
           "Prawn_0",
           -3.998615921095718
          ],
          [
           "full body:undistorted_GX010177_232_3047",
           "Prawn_0",
           -25.257575001172984
          ],
          [
           "full body:undistorted_GX010178_172_3604.jpg_gamma",
           "Prawn_0",
           -20.053321551376925
          ],
          [
           "full body:undistorted_GX010183_37_685.jpg_gamma",
           "Prawn_0",
           -8.403700426723882
          ],
          [
           "full body:undistorted_GX010183_80_1633.jpg_gamma",
           "Prawn_0",
           4.78028033818545
          ],
          [
           "full body:undistorted_GX010183_128_2852.jpg_gamma",
           "Prawn_0",
           -7.084724917201083
          ]
         ],
         "hovertemplate": "Image: %{customdata[0]}<br>Prawn ID: %{customdata[1]}<br>Scale Error: %{y:.2f}mm<br>Total Error: %{customdata[2]:.2f}mm<extra></extra>",
         "marker": {
          "color": [
           "#ff7f0e",
           "#ff7f0e",
           "#ff7f0e",
           "#ff7f0e",
           "#ff7f0e",
           "red",
           "#ff7f0e",
           "red",
           "#ff7f0e",
           "#ff7f0e",
           "#ff7f0e",
           "#ff7f0e",
           "#ff7f0e",
           "#ff7f0e"
          ]
         },
         "name": "",
         "showlegend": false,
         "type": "bar",
         "x": {
          "bdata": "AAECAwQFBgcICQoLDA0=",
          "dtype": "i1"
         },
         "xaxis": "x3",
         "y": {
          "bdata": "+LkTkOcoK8BqSOr+4MswwPEAwMyN/SXA77HU73HBDsBjF2bIF7kQwJxlWqzOfhdA5zFUwQt4KcBHEZyx5q0DwG3+15Lzug3A3rSRzwZ3AECYAadwWUMswGWSaxBMpRPAX92JtVa0GEC5bZSF+FkNwA==",
          "dtype": "f8"
         },
         "yaxis": "y3"
        },
        {
         "customdata": [
          [
           "full body:undistorted_GX010152_36_378.jpg_gamma",
           "Prawn_0"
          ],
          [
           "full body:undistorted_GX010152_36_378.jpg_gamma",
           "Prawn_1"
          ],
          [
           "full body:undistorted_GX010157_160_2259",
           "Prawn_0"
          ],
          [
           "full body:undistorted_GX010157_174_2582.jpg_gamma",
           "Prawn_0"
          ],
          [
           "full body:undistorted_GX010157_177_2665.jpg_gamma",
           "Prawn_0"
          ],
          [
           "full body:undistorted_GX010161_54_676.jpg_gamma.jpg_gamma",
           "Prawn_0"
          ],
          [
           "full body:undistorted_GX010162_72_927.jpg_gamma.jpg_gamma",
           "Prawn_0"
          ],
          [
           "full body:undistorted_GX010174_62_790.jpg_gamma",
           "Prawn_0"
          ],
          [
           "full body:undistorted_GX010175_266_3372.jpg_gamma.jpg_gamma",
           "Prawn_0"
          ],
          [
           "full body:undistorted_GX010177_232_3047",
           "Prawn_0"
          ],
          [
           "full body:undistorted_GX010178_172_3604.jpg_gamma",
           "Prawn_0"
          ],
          [
           "full body:undistorted_GX010183_37_685.jpg_gamma",
           "Prawn_0"
          ],
          [
           "full body:undistorted_GX010183_80_1633.jpg_gamma",
           "Prawn_0"
          ],
          [
           "full body:undistorted_GX010183_128_2852.jpg_gamma",
           "Prawn_0"
          ]
         ],
         "hovertemplate": "Image: %{customdata[0]}<br>Prawn ID: %{customdata[1]}<br>Total Error: %{y:.2f}mm<extra></extra>",
         "marker": {
          "color": "purple",
          "size": 10,
          "symbol": "x"
         },
         "mode": "markers",
         "name": "",
         "showlegend": false,
         "type": "scatter",
         "x": {
          "bdata": "BQ==",
          "dtype": "i1"
         },
         "xaxis": "x3",
         "y": {
          "bdata": "N7VNIGJSPEA=",
          "dtype": "f8"
         },
         "yaxis": "y3"
        }
       ],
       "layout": {
        "annotations": [
         {
          "font": {
           "size": 16
          },
          "showarrow": false,
          "text": "Error Components - circle_female",
          "x": 0.14444444444444446,
          "xanchor": "center",
          "xref": "paper",
          "y": 1,
          "yanchor": "bottom",
          "yref": "paper"
         },
         {
          "font": {
           "size": 16
          },
          "showarrow": false,
          "text": "Error Components - circle_male",
          "x": 0.5,
          "xanchor": "center",
          "xref": "paper",
          "y": 1,
          "yanchor": "bottom",
          "yref": "paper"
         },
         {
          "font": {
           "size": 16
          },
          "showarrow": false,
          "text": "Error Components - square",
          "x": 0.8555555555555556,
          "xanchor": "center",
          "xref": "paper",
          "y": 1,
          "yanchor": "bottom",
          "yref": "paper"
         }
        ],
        "barmode": "relative",
        "height": 500,
        "legend": {
         "orientation": "h",
         "x": 1,
         "xanchor": "right",
         "y": 1.02,
         "yanchor": "bottom"
        },
        "showlegend": true,
        "template": {
         "data": {
          "bar": [
           {
            "error_x": {
             "color": "#2a3f5f"
            },
            "error_y": {
             "color": "#2a3f5f"
            },
            "marker": {
             "line": {
              "color": "#E5ECF6",
              "width": 0.5
             },
             "pattern": {
              "fillmode": "overlay",
              "size": 10,
              "solidity": 0.2
             }
            },
            "type": "bar"
           }
          ],
          "barpolar": [
           {
            "marker": {
             "line": {
              "color": "#E5ECF6",
              "width": 0.5
             },
             "pattern": {
              "fillmode": "overlay",
              "size": 10,
              "solidity": 0.2
             }
            },
            "type": "barpolar"
           }
          ],
          "carpet": [
           {
            "aaxis": {
             "endlinecolor": "#2a3f5f",
             "gridcolor": "white",
             "linecolor": "white",
             "minorgridcolor": "white",
             "startlinecolor": "#2a3f5f"
            },
            "baxis": {
             "endlinecolor": "#2a3f5f",
             "gridcolor": "white",
             "linecolor": "white",
             "minorgridcolor": "white",
             "startlinecolor": "#2a3f5f"
            },
            "type": "carpet"
           }
          ],
          "choropleth": [
           {
            "colorbar": {
             "outlinewidth": 0,
             "ticks": ""
            },
            "type": "choropleth"
           }
          ],
          "contour": [
           {
            "colorbar": {
             "outlinewidth": 0,
             "ticks": ""
            },
            "colorscale": [
             [
              0,
              "#0d0887"
             ],
             [
              0.1111111111111111,
              "#46039f"
             ],
             [
              0.2222222222222222,
              "#7201a8"
             ],
             [
              0.3333333333333333,
              "#9c179e"
             ],
             [
              0.4444444444444444,
              "#bd3786"
             ],
             [
              0.5555555555555556,
              "#d8576b"
             ],
             [
              0.6666666666666666,
              "#ed7953"
             ],
             [
              0.7777777777777778,
              "#fb9f3a"
             ],
             [
              0.8888888888888888,
              "#fdca26"
             ],
             [
              1,
              "#f0f921"
             ]
            ],
            "type": "contour"
           }
          ],
          "contourcarpet": [
           {
            "colorbar": {
             "outlinewidth": 0,
             "ticks": ""
            },
            "type": "contourcarpet"
           }
          ],
          "heatmap": [
           {
            "colorbar": {
             "outlinewidth": 0,
             "ticks": ""
            },
            "colorscale": [
             [
              0,
              "#0d0887"
             ],
             [
              0.1111111111111111,
              "#46039f"
             ],
             [
              0.2222222222222222,
              "#7201a8"
             ],
             [
              0.3333333333333333,
              "#9c179e"
             ],
             [
              0.4444444444444444,
              "#bd3786"
             ],
             [
              0.5555555555555556,
              "#d8576b"
             ],
             [
              0.6666666666666666,
              "#ed7953"
             ],
             [
              0.7777777777777778,
              "#fb9f3a"
             ],
             [
              0.8888888888888888,
              "#fdca26"
             ],
             [
              1,
              "#f0f921"
             ]
            ],
            "type": "heatmap"
           }
          ],
          "histogram": [
           {
            "marker": {
             "pattern": {
              "fillmode": "overlay",
              "size": 10,
              "solidity": 0.2
             }
            },
            "type": "histogram"
           }
          ],
          "histogram2d": [
           {
            "colorbar": {
             "outlinewidth": 0,
             "ticks": ""
            },
            "colorscale": [
             [
              0,
              "#0d0887"
             ],
             [
              0.1111111111111111,
              "#46039f"
             ],
             [
              0.2222222222222222,
              "#7201a8"
             ],
             [
              0.3333333333333333,
              "#9c179e"
             ],
             [
              0.4444444444444444,
              "#bd3786"
             ],
             [
              0.5555555555555556,
              "#d8576b"
             ],
             [
              0.6666666666666666,
              "#ed7953"
             ],
             [
              0.7777777777777778,
              "#fb9f3a"
             ],
             [
              0.8888888888888888,
              "#fdca26"
             ],
             [
              1,
              "#f0f921"
             ]
            ],
            "type": "histogram2d"
           }
          ],
          "histogram2dcontour": [
           {
            "colorbar": {
             "outlinewidth": 0,
             "ticks": ""
            },
            "colorscale": [
             [
              0,
              "#0d0887"
             ],
             [
              0.1111111111111111,
              "#46039f"
             ],
             [
              0.2222222222222222,
              "#7201a8"
             ],
             [
              0.3333333333333333,
              "#9c179e"
             ],
             [
              0.4444444444444444,
              "#bd3786"
             ],
             [
              0.5555555555555556,
              "#d8576b"
             ],
             [
              0.6666666666666666,
              "#ed7953"
             ],
             [
              0.7777777777777778,
              "#fb9f3a"
             ],
             [
              0.8888888888888888,
              "#fdca26"
             ],
             [
              1,
              "#f0f921"
             ]
            ],
            "type": "histogram2dcontour"
           }
          ],
          "mesh3d": [
           {
            "colorbar": {
             "outlinewidth": 0,
             "ticks": ""
            },
            "type": "mesh3d"
           }
          ],
          "parcoords": [
           {
            "line": {
             "colorbar": {
              "outlinewidth": 0,
              "ticks": ""
             }
            },
            "type": "parcoords"
           }
          ],
          "pie": [
           {
            "automargin": true,
            "type": "pie"
           }
          ],
          "scatter": [
           {
            "fillpattern": {
             "fillmode": "overlay",
             "size": 10,
             "solidity": 0.2
            },
            "type": "scatter"
           }
          ],
          "scatter3d": [
           {
            "line": {
             "colorbar": {
              "outlinewidth": 0,
              "ticks": ""
             }
            },
            "marker": {
             "colorbar": {
              "outlinewidth": 0,
              "ticks": ""
             }
            },
            "type": "scatter3d"
           }
          ],
          "scattercarpet": [
           {
            "marker": {
             "colorbar": {
              "outlinewidth": 0,
              "ticks": ""
             }
            },
            "type": "scattercarpet"
           }
          ],
          "scattergeo": [
           {
            "marker": {
             "colorbar": {
              "outlinewidth": 0,
              "ticks": ""
             }
            },
            "type": "scattergeo"
           }
          ],
          "scattergl": [
           {
            "marker": {
             "colorbar": {
              "outlinewidth": 0,
              "ticks": ""
             }
            },
            "type": "scattergl"
           }
          ],
          "scattermap": [
           {
            "marker": {
             "colorbar": {
              "outlinewidth": 0,
              "ticks": ""
             }
            },
            "type": "scattermap"
           }
          ],
          "scattermapbox": [
           {
            "marker": {
             "colorbar": {
              "outlinewidth": 0,
              "ticks": ""
             }
            },
            "type": "scattermapbox"
           }
          ],
          "scatterpolar": [
           {
            "marker": {
             "colorbar": {
              "outlinewidth": 0,
              "ticks": ""
             }
            },
            "type": "scatterpolar"
           }
          ],
          "scatterpolargl": [
           {
            "marker": {
             "colorbar": {
              "outlinewidth": 0,
              "ticks": ""
             }
            },
            "type": "scatterpolargl"
           }
          ],
          "scatterternary": [
           {
            "marker": {
             "colorbar": {
              "outlinewidth": 0,
              "ticks": ""
             }
            },
            "type": "scatterternary"
           }
          ],
          "surface": [
           {
            "colorbar": {
             "outlinewidth": 0,
             "ticks": ""
            },
            "colorscale": [
             [
              0,
              "#0d0887"
             ],
             [
              0.1111111111111111,
              "#46039f"
             ],
             [
              0.2222222222222222,
              "#7201a8"
             ],
             [
              0.3333333333333333,
              "#9c179e"
             ],
             [
              0.4444444444444444,
              "#bd3786"
             ],
             [
              0.5555555555555556,
              "#d8576b"
             ],
             [
              0.6666666666666666,
              "#ed7953"
             ],
             [
              0.7777777777777778,
              "#fb9f3a"
             ],
             [
              0.8888888888888888,
              "#fdca26"
             ],
             [
              1,
              "#f0f921"
             ]
            ],
            "type": "surface"
           }
          ],
          "table": [
           {
            "cells": {
             "fill": {
              "color": "#EBF0F8"
             },
             "line": {
              "color": "white"
             }
            },
            "header": {
             "fill": {
              "color": "#C8D4E3"
             },
             "line": {
              "color": "white"
             }
            },
            "type": "table"
           }
          ]
         },
         "layout": {
          "annotationdefaults": {
           "arrowcolor": "#2a3f5f",
           "arrowhead": 0,
           "arrowwidth": 1
          },
          "autotypenumbers": "strict",
          "coloraxis": {
           "colorbar": {
            "outlinewidth": 0,
            "ticks": ""
           }
          },
          "colorscale": {
           "diverging": [
            [
             0,
             "#8e0152"
            ],
            [
             0.1,
             "#c51b7d"
            ],
            [
             0.2,
             "#de77ae"
            ],
            [
             0.3,
             "#f1b6da"
            ],
            [
             0.4,
             "#fde0ef"
            ],
            [
             0.5,
             "#f7f7f7"
            ],
            [
             0.6,
             "#e6f5d0"
            ],
            [
             0.7,
             "#b8e186"
            ],
            [
             0.8,
             "#7fbc41"
            ],
            [
             0.9,
             "#4d9221"
            ],
            [
             1,
             "#276419"
            ]
           ],
           "sequential": [
            [
             0,
             "#0d0887"
            ],
            [
             0.1111111111111111,
             "#46039f"
            ],
            [
             0.2222222222222222,
             "#7201a8"
            ],
            [
             0.3333333333333333,
             "#9c179e"
            ],
            [
             0.4444444444444444,
             "#bd3786"
            ],
            [
             0.5555555555555556,
             "#d8576b"
            ],
            [
             0.6666666666666666,
             "#ed7953"
            ],
            [
             0.7777777777777778,
             "#fb9f3a"
            ],
            [
             0.8888888888888888,
             "#fdca26"
            ],
            [
             1,
             "#f0f921"
            ]
           ],
           "sequentialminus": [
            [
             0,
             "#0d0887"
            ],
            [
             0.1111111111111111,
             "#46039f"
            ],
            [
             0.2222222222222222,
             "#7201a8"
            ],
            [
             0.3333333333333333,
             "#9c179e"
            ],
            [
             0.4444444444444444,
             "#bd3786"
            ],
            [
             0.5555555555555556,
             "#d8576b"
            ],
            [
             0.6666666666666666,
             "#ed7953"
            ],
            [
             0.7777777777777778,
             "#fb9f3a"
            ],
            [
             0.8888888888888888,
             "#fdca26"
            ],
            [
             1,
             "#f0f921"
            ]
           ]
          },
          "colorway": [
           "#636efa",
           "#EF553B",
           "#00cc96",
           "#ab63fa",
           "#FFA15A",
           "#19d3f3",
           "#FF6692",
           "#B6E880",
           "#FF97FF",
           "#FECB52"
          ],
          "font": {
           "color": "#2a3f5f"
          },
          "geo": {
           "bgcolor": "white",
           "lakecolor": "white",
           "landcolor": "#E5ECF6",
           "showlakes": true,
           "showland": true,
           "subunitcolor": "white"
          },
          "hoverlabel": {
           "align": "left"
          },
          "hovermode": "closest",
          "mapbox": {
           "style": "light"
          },
          "paper_bgcolor": "white",
          "plot_bgcolor": "#E5ECF6",
          "polar": {
           "angularaxis": {
            "gridcolor": "white",
            "linecolor": "white",
            "ticks": ""
           },
           "bgcolor": "#E5ECF6",
           "radialaxis": {
            "gridcolor": "white",
            "linecolor": "white",
            "ticks": ""
           }
          },
          "scene": {
           "xaxis": {
            "backgroundcolor": "#E5ECF6",
            "gridcolor": "white",
            "gridwidth": 2,
            "linecolor": "white",
            "showbackground": true,
            "ticks": "",
            "zerolinecolor": "white"
           },
           "yaxis": {
            "backgroundcolor": "#E5ECF6",
            "gridcolor": "white",
            "gridwidth": 2,
            "linecolor": "white",
            "showbackground": true,
            "ticks": "",
            "zerolinecolor": "white"
           },
           "zaxis": {
            "backgroundcolor": "#E5ECF6",
            "gridcolor": "white",
            "gridwidth": 2,
            "linecolor": "white",
            "showbackground": true,
            "ticks": "",
            "zerolinecolor": "white"
           }
          },
          "shapedefaults": {
           "line": {
            "color": "#2a3f5f"
           }
          },
          "ternary": {
           "aaxis": {
            "gridcolor": "white",
            "linecolor": "white",
            "ticks": ""
           },
           "baxis": {
            "gridcolor": "white",
            "linecolor": "white",
            "ticks": ""
           },
           "bgcolor": "#E5ECF6",
           "caxis": {
            "gridcolor": "white",
            "linecolor": "white",
            "ticks": ""
           }
          },
          "title": {
           "x": 0.05
          },
          "xaxis": {
           "automargin": true,
           "gridcolor": "white",
           "linecolor": "white",
           "ticks": "",
           "title": {
            "standoff": 15
           },
           "zerolinecolor": "white",
           "zerolinewidth": 2
          },
          "yaxis": {
           "automargin": true,
           "gridcolor": "white",
           "linecolor": "white",
           "ticks": "",
           "title": {
            "standoff": 15
           },
           "zerolinecolor": "white",
           "zerolinewidth": 2
          }
         }
        },
        "title": {
         "text": "Error Components Analysis by Pond Type"
        },
        "width": 1200,
        "xaxis": {
         "anchor": "y",
         "domain": [
          0,
          0.2888888888888889
         ],
         "title": {
          "text": "Measurement Index"
         }
        },
        "xaxis2": {
         "anchor": "y2",
         "domain": [
          0.35555555555555557,
          0.6444444444444445
         ],
         "title": {
          "text": "Measurement Index"
         }
        },
        "xaxis3": {
         "anchor": "y3",
         "domain": [
          0.7111111111111111,
          1
         ],
         "title": {
          "text": "Measurement Index"
         }
        },
        "yaxis": {
         "anchor": "x",
         "domain": [
          0,
          1
         ],
         "title": {
          "text": "Error (mm)"
         }
        },
        "yaxis2": {
         "anchor": "x2",
         "domain": [
          0,
          1
         ],
         "matches": "y",
         "showticklabels": false
        },
        "yaxis3": {
         "anchor": "x3",
         "domain": [
          0,
          1
         ],
         "matches": "y",
         "showticklabels": false
        }
       }
      }
     },
     "metadata": {},
     "output_type": "display_data"
    }
   ],
   "source": [
    "# Create plotly subplots for error components bar plots\n",
    "pond_types = df['Pond_Type'].unique()\n",
    "n_pond_types = len(pond_types)\n",
    "\n",
    "\n",
    "# Prepare data for all pond types\n",
    "pond_data = {}\n",
    "for pond_type in pond_types:\n",
    "    df_pond = df[df['Pond_Type'] == pond_type].copy()\n",
    "    df_pond = df_pond.reset_index(drop=True)\n",
    "    \n",
    "    # Calculate error components in mm\n",
    "    mm_per_px_gt = 10 / df_pond['mean_scale']\n",
    "    mm_per_px_pred = 10 / df_pond['pred_scale']\n",
    "\n",
    "\n",
    "    df_pond['pixel_error_mm'] = (df_pond['pred_Distance_pixels'] - df_pond['mean_pixels']) * mm_per_px_pred\n",
    "    df_pond['scale_error_mm'] = df_pond['mean_pixels'] * (mm_per_px_pred - mm_per_px_gt)\n",
    "    df_pond['total_error_mm'] = df_pond['pixel_error_mm'] + df_pond['scale_error_mm']\n",
    "\n",
    "    \n",
    "    # Calculate total error and identify outliers using IQR\n",
    "    df_pond['total_error_mm'] = df_pond['pixel_error_mm'] + df_pond['scale_error_mm']\n",
    "    q1_total = df_pond['total_error_mm'].quantile(0.25)\n",
    "    q3_total = df_pond['total_error_mm'].quantile(0.75)\n",
    "    iqr_total = q3_total - q1_total\n",
    "    outlier_threshold_low_total = q1_total - 1.5 * iqr_total\n",
    "    outlier_threshold_high_total = q3_total + 1.5 * iqr_total\n",
    "    df_pond['is_outlier_total'] = (df_pond['total_error_mm'] < outlier_threshold_low_total) | (df_pond['total_error_mm'] > outlier_threshold_high_total)\n",
    "    \n",
    "    # Calculate MAPE outliers using IQR\n",
    "    q1_mape = df_pond['mape_percent'].quantile(0.25)\n",
    "    q3_mape = df_pond['mape_percent'].quantile(0.75)\n",
    "    iqr_mape = q3_mape - q1_mape\n",
    "    outlier_threshold_low_mape = q1_mape - 1.5 * iqr_mape\n",
    "    outlier_threshold_high_mape = q3_mape + 1.5 * iqr_mape\n",
    "    df_pond['is_outlier_mape'] = (df_pond['mape_percent'] < outlier_threshold_low_mape) | (df_pond['mape_percent'] > outlier_threshold_high_mape)\n",
    "    \n",
    "    pond_data[pond_type] = df_pond\n",
    "\n",
    "# Create plotly subplots for error components bar plots\n",
    "fig_bar = make_subplots(\n",
    "    rows=1, cols=n_pond_types,\n",
    "    subplot_titles=[f'Error Components - {pond_type}' for pond_type in pond_types],\n",
    "    shared_yaxes=True\n",
    ")\n",
    "\n",
    "for i, pond_type in enumerate(pond_types):\n",
    "    df_pond = pond_data[pond_type]\n",
    "    \n",
    "    # Add Pixel Error bars\n",
    "    fig_bar.add_trace(\n",
    "        go.Bar(\n",
    "            name='Pixel Error' if i == 0 else '',  # Only show legend for first subplot\n",
    "            x=df_pond.index,\n",
    "            y=df_pond['pixel_error_mm'],\n",
    "            marker_color=['red' if is_outlier else '#1f77b4' for is_outlier in df_pond['is_outlier_total']],\n",
    "            showlegend=(i == 0),  # Only show legend for first subplot\n",
    "            hovertemplate=\"Image: %{customdata[0]}<br>\" +\n",
    "                         \"Prawn ID: %{customdata[1]}<br>\" +\n",
    "                         \"Pixel Error: %{y:.2f}mm<br>\" +\n",
    "                         \"Total Error: %{customdata[2]:.2f}mm<extra></extra>\",  \n",
    "            customdata=list(zip(df_pond['Label'], df_pond['PrawnID'], df_pond['total_error_mm']))\n",
    "        ),\n",
    "        row=1, col=i+1\n",
    "    )\n",
    "    \n",
    "    # Add Scale Error bars\n",
    "    fig_bar.add_trace(\n",
    "        go.Bar(\n",
    "            name='Scale Error' if i == 0 else '',  # Only show legend for first subplot\n",
    "            x=df_pond.index,\n",
    "            y=df_pond['scale_error_mm'],\n",
    "            marker_color=['red' if is_outlier else '#ff7f0e' for is_outlier in df_pond['is_outlier_total']],\n",
    "            showlegend=(i == 0),  # Only show legend for first subplot\n",
    "            hovertemplate=\"Image: %{customdata[0]}<br>\" +\n",
    "                         \"Prawn ID: %{customdata[1]}<br>\" +\n",
    "                         \"Scale Error: %{y:.2f}mm<br>\" +\n",
    "                         \"Total Error: %{customdata[2]:.2f}mm<extra></extra>\",  \n",
    "            customdata=list(zip(df_pond['Label'], df_pond['PrawnID'], df_pond['total_error_mm']))\n",
    "        ),\n",
    "        row=1, col=i+1\n",
    "    )\n",
    "    \n",
    "    # Highlight MAPE outliers\n",
    "    fig_bar.add_trace(\n",
    "        go.Scatter(\n",
    "            x=df_pond.index[df_pond['is_outlier_mape']],\n",
    "            y=df_pond['total_error_mm'][df_pond['is_outlier_mape']],\n",
    "            mode='markers',\n",
    "            marker=dict(color='purple', size=10, symbol='x'),\n",
    "            name='MAPE Outlier' if i == 0 else '',\n",
    "            showlegend=(i == 0),\n",
    "            hovertemplate=\"Image: %{customdata[0]}<br>\" +\n",
    "                         \"Prawn ID: %{customdata[1]}<br>\" +\n",
    "                         \"Total Error: %{y:.2f}mm<extra></extra>\",\n",
    "            customdata=list(zip(df_pond['Label'], df_pond['PrawnID']))\n",
    "        ),\n",
    "        row=1, col=i+1\n",
    "    )\n",
    "\n",
    "# Update layout\n",
    "fig_bar.update_layout(\n",
    "    title='Error Components Analysis by Pond Type',\n",
    "    barmode='relative',  # Shows stacked bars\n",
    "    height=500,\n",
    "    width=1200,\n",
    "    showlegend=True,\n",
    "    legend=dict(\n",
    "        orientation=\"h\",\n",
    "        yanchor=\"bottom\",\n",
    "        y=1.02,\n",
    "        xanchor=\"right\",\n",
    "        x=1\n",
    "    )\n",
    ")\n",
    "\n",
    "# Update axes\n",
    "for i in range(n_pond_types):\n",
    "    fig_bar.update_xaxes(title_text=\"Measurement Index\", row=1, col=i+1)\n",
    "    if i == 0:  # Only show y-axis title for first subplot\n",
    "        fig_bar.update_yaxes(title_text=\"Error (mm)\", row=1, col=i+1)\n",
    "\n",
    "fig_bar.show()\n"
   ]
  },
  {
   "cell_type": "markdown",
   "metadata": {},
   "source": [
    "# 📐 Scale Error Deep Dive: The Calibration Chronicles\n",
    "\n",
    "## 🔍 Understanding Scale Errors\n",
    "Scale errors occur when our algorithm incorrectly estimates the \"mm per pixel\" ratio. This is crucial because even perfect pixel measurements become wrong if we don't know the true scale!\n",
    "\n",
    "### 🎯 Key Questions We'll Answer:\n",
    "- How much do scale errors vary across different pond types?\n",
    "- Which images are most problematic for scale estimation?\n",
    "- Do multiple prawns in the same image share similar scale errors?\n",
    "\n",
    "---\n",
    "\n",
    "## 🛠️ Scale Error Analysis Functions"
   ]
  },
  {
   "cell_type": "code",
   "execution_count": 57,
   "metadata": {},
   "outputs": [
    {
     "name": "stdout",
     "output_type": "stream",
     "text": [
      "\n",
      "🏊‍♀️ Analyzing scale errors for circle_female pond...\n",
      "   📊 Mean scale error: 8.72%\n",
      "   📈 Std scale error: 6.15%\n",
      "   🖼️ Total images: 33\n",
      "   🦐 Total prawns: 92\n",
      "\n",
      "🏊‍♀️ Analyzing scale errors for circle_male pond...\n",
      "   📊 Mean scale error: 17.23%\n",
      "   📈 Std scale error: 3.53%\n",
      "   🖼️ Total images: 5\n",
      "   🦐 Total prawns: 13\n",
      "\n",
      "🏊‍♀️ Analyzing scale errors for square pond...\n",
      "   📊 Mean scale error: 6.06%\n",
      "   📈 Std scale error: 4.05%\n",
      "   🖼️ Total images: 13\n",
      "   🦐 Total prawns: 14\n"
     ]
    },
    {
     "data": {
      "application/vnd.plotly.v1+json": {
       "config": {
        "plotlyServerURL": "https://plot.ly"
       },
       "data": [
        {
         "customdata": [
          [
           "full body:undistorted_GX010080_157_2283.jpg_gamma",
           3
          ],
          [
           "full body:undistorted_GX010082_236_3137.jpg_gamma",
           3
          ],
          [
           "full body:undistorted_GX010090_132_1852.jpg_gamma",
           1
          ],
          [
           "full body:undistorted_GX010094_9_129.jpg_gamma",
           2
          ],
          [
           "full body:undistorted_GX010097_124_1870.jpg_gamma",
           2
          ],
          [
           "full body:undistorted_GX010082_65_1070.jpg_gamma",
           3
          ],
          [
           "full body:undistorted_GX010088_209_2904.jpg_gamma",
           2
          ],
          [
           "full body:undistorted_GX010080_193_2640.jpg_gamma",
           5
          ],
          [
           "full body:undistorted_GX010069_19_191.jpg_gamma",
           4
          ],
          [
           "full body:undistorted_GX010085_261_3610.jpg_gamma",
           2
          ],
          [
           "full body:undistorted_GX010097_105_1651.jpg_gamma",
           4
          ],
          [
           "full body:undistorted_GX010067_33_625.jpg_gamma",
           4
          ],
          [
           "full body:undistorted_GX010097_32_528.jpg_gamma",
           2
          ],
          [
           "full body:undistorted_GX010080_238_3392.jpg_gamma",
           4
          ],
          [
           "full body:undistorted_GX010082_8_59.jpg_gamma",
           4
          ],
          [
           "full body:undistorted_GX010080_237_3366.jpg_gamma",
           5
          ],
          [
           "full body:undistorted_GX010088_262_3712.jpg_gamma",
           3
          ],
          [
           "full body:undistorted_GX010082_53_796.jpg_gamma",
           2
          ],
          [
           "full body:undistorted_GX010080_212_2954.jpg_gamma",
           3
          ],
          [
           "full body:undistorted_GX010094_163_2312.jpg_gamma",
           1
          ],
          [
           "full body:undistorted_GX010094_93_1258.jpg_gamma",
           1
          ],
          [
           "full body:undistorted_GX010094_24_430.jpg_gamma",
           1
          ],
          [
           "full body:undistorted_GX010068_26_666.jpg_gamma",
           3
          ],
          [
           "full body:undistorted_GX010068_27_795.jpg_gamma",
           2
          ],
          [
           "full body:undistorted_GX010084_30_344.jpg_gamma",
           4
          ],
          [
           "full body:undistorted_GX010084_130_1748.jpg_gamma",
           3
          ],
          [
           "full body:undistorted_GX010097_60_1080.jpg_gamma",
           4
          ],
          [
           "full body:undistorted_GX010073_55_1014.jpg_gamma",
           3
          ],
          [
           "full body:undistorted_GX010073_42_695.jpg_gamma",
           2
          ],
          [
           "full body:undistorted_GX010077_14_237.jpg_gamma",
           3
          ],
          [
           "full body:undistorted_GX010101_12_173.jpg_gamma",
           1
          ],
          [
           "full body:undistorted_GX010088_327_4364.jpg_gamma",
           4
          ],
          [
           "full body:undistorted_GX010071_22_444.jpg_gamma",
           2
          ]
         ],
         "hovertemplate": "<b>🖼️ Image Details</b><br>📁 Image Name: %{customdata[0]}<br>📐 Scale Error: %{y:.2f}%<br>🦐 Prawn Count: %{customdata[1]}<br>📊 Image Rank: #%{x}<br><extra></extra>",
         "marker": {
          "color": "#333333"
         },
         "name": "Circle Female",
         "opacity": 0.9,
         "showlegend": true,
         "text": {
          "bdata": "AAAAAAAACEAAAAAAAAAIQAAAAAAAAPA/AAAAAAAAAEAAAAAAAAAAQAAAAAAAAAhAAAAAAAAAAEAAAAAAAAAUQAAAAAAAABBAAAAAAAAAAEAAAAAAAAAQQAAAAAAAABBAAAAAAAAAAEAAAAAAAAAQQAAAAAAAABBAAAAAAAAAFEAAAAAAAAAIQAAAAAAAAABAAAAAAAAACEAAAAAAAADwPwAAAAAAAPA/AAAAAAAA8D8AAAAAAAAIQAAAAAAAAABAAAAAAAAAEEAAAAAAAAAIQAAAAAAAABBAAAAAAAAACEAAAAAAAAAAQAAAAAAAAAhAAAAAAAAA8D8AAAAAAAAQQAAAAAAAAABA",
          "dtype": "f8"
         },
         "textfont": {
          "color": "white",
          "family": "Arial Black",
          "size": 12
         },
         "textposition": "inside",
         "type": "bar",
         "x": {
          "bdata": "AAECAwQFBgcICQoLDA0ODxAREhMUFRYXGBkaGxwdHh8g",
          "dtype": "i1"
         },
         "xaxis": "x",
         "y": {
          "bdata": "FUyBSreON0ClVaxt7Wg0QCbLiNcWPTNAMPbmRnIWM0Ba8P1/jN0xQK0PEx3LIC9AWsIX7M+qLkDlzJ7jy5YpQBkP62B+NSVAkjDS4a3mJEC2P7n4ZHQiQOwRRisxliFAANoEMMZEIUCIhqHBYvIgQEJVAegp3iBAYwznPllAIEDVpieixDQfQKzAIi6uDB5A1SgijKWuG0BpkDf2rpAZQFDIWaLmSxlA79ocbdLDGEBTiPfjQI8SQAytGkahNg5Ad4IguGgtDkCdUzs8A6QLQJBAI/uqCQpAu9ztXET5B0CI+/oRUI8EQHEYKZn0TQRAxODUS33ZAEDfFYQRLa3gP5KJf2JDstU/",
          "dtype": "f8"
         },
         "yaxis": "y"
        },
        {
         "customdata": [
          [
           "full body:undistorted_GX010105_28_816.jpg_gamma",
           2
          ],
          [
           "full body:undistorted_GX010102_50_1396.jpg_gamma",
           1
          ],
          [
           "full body:undistorted_GX010091_5_149.jpg_gamma",
           2
          ],
          [
           "full body:undistorted_GX010102_9_165.jpg_gamma",
           5
          ],
          [
           "full body:undistorted_GX010089_11_236.jpg_gamma",
           3
          ]
         ],
         "hovertemplate": "<b>🖼️ Image Details</b><br>📁 Image Name: %{customdata[0]}<br>📐 Scale Error: %{y:.2f}%<br>🦐 Prawn Count: %{customdata[1]}<br>📊 Image Rank: #%{x}<br><extra></extra>",
         "marker": {
          "color": "#333333"
         },
         "name": "Circle Male",
         "opacity": 0.9,
         "showlegend": true,
         "text": {
          "bdata": "AAAAAAAAAEAAAAAAAADwPwAAAAAAAABAAAAAAAAAFEAAAAAAAAAIQA==",
          "dtype": "f8"
         },
         "textfont": {
          "color": "white",
          "family": "Arial Black",
          "size": 12
         },
         "textposition": "inside",
         "type": "bar",
         "x": {
          "bdata": "AAECAwQ=",
          "dtype": "i1"
         },
         "xaxis": "x2",
         "y": {
          "bdata": "VhBS8Va8NkADOOMLHKkyQPVB4uzqZy9ADZqiclMTLkDkbaPPnREsQA==",
          "dtype": "f8"
         },
         "yaxis": "y2"
        },
        {
         "customdata": [
          [
           "full body:undistorted_GX010152_36_378.jpg_gamma",
           2
          ],
          [
           "full body:undistorted_GX010162_72_927.jpg_gamma.jpg_gamma",
           1
          ],
          [
           "full body:undistorted_GX010157_160_2259",
           1
          ],
          [
           "full body:undistorted_GX010178_172_3604.jpg_gamma",
           1
          ],
          [
           "full body:undistorted_GX010161_54_676.jpg_gamma.jpg_gamma",
           1
          ],
          [
           "full body:undistorted_GX010183_37_685.jpg_gamma",
           1
          ],
          [
           "full body:undistorted_GX010183_80_1633.jpg_gamma",
           1
          ],
          [
           "full body:undistorted_GX010157_177_2665.jpg_gamma",
           1
          ],
          [
           "full body:undistorted_GX010157_174_2582.jpg_gamma",
           1
          ],
          [
           "full body:undistorted_GX010175_266_3372.jpg_gamma.jpg_gamma",
           1
          ],
          [
           "full body:undistorted_GX010183_128_2852.jpg_gamma",
           1
          ],
          [
           "full body:undistorted_GX010174_62_790.jpg_gamma",
           1
          ],
          [
           "full body:undistorted_GX010177_232_3047",
           1
          ]
         ],
         "hovertemplate": "<b>🖼️ Image Details</b><br>📁 Image Name: %{customdata[0]}<br>📐 Scale Error: %{y:.2f}%<br>🦐 Prawn Count: %{customdata[1]}<br>📊 Image Rank: #%{x}<br><extra></extra>",
         "marker": {
          "color": "#333333"
         },
         "name": "Square",
         "opacity": 0.9,
         "showlegend": true,
         "text": {
          "bdata": "AAAAAAAAAEAAAAAAAADwPwAAAAAAAPA/AAAAAAAA8D8AAAAAAADwPwAAAAAAAPA/AAAAAAAA8D8AAAAAAADwPwAAAAAAAPA/AAAAAAAA8D8AAAAAAADwPwAAAAAAAPA/AAAAAAAA8D8=",
          "dtype": "f8"
         },
         "textfont": {
          "color": "white",
          "family": "Arial Black",
          "size": 12
         },
         "textposition": "inside",
         "type": "bar",
         "x": {
          "bdata": "AAECAwQFBgcICQoLDA==",
          "dtype": "i1"
         },
         "xaxis": "x3",
         "y": {
          "bdata": "vobtfF74KkBVQ8q8vDYoQI459WG2VyVABvoG7PN6I0AjYkr8tfcYQBylZUQ6IRRApS5zO4CxEUDfzAteeDcOQPN4J4UVNw5A/sqt0lXDCEAXDOs05yYGQLilyJuc1gFAUA+MQ4eW9j8=",
          "dtype": "f8"
         },
         "yaxis": "y3"
        }
       ],
       "layout": {
        "annotations": [
         {
          "font": {
           "size": 16
          },
          "showarrow": false,
          "text": "📐 Scale Error by Image - Circle Female",
          "x": 0.5,
          "xanchor": "center",
          "xref": "paper",
          "y": 1,
          "yanchor": "bottom",
          "yref": "paper"
         },
         {
          "font": {
           "size": 16
          },
          "showarrow": false,
          "text": "📐 Scale Error by Image - Circle Male",
          "x": 0.5,
          "xanchor": "center",
          "xref": "paper",
          "y": 0.6399999999999999,
          "yanchor": "bottom",
          "yref": "paper"
         },
         {
          "font": {
           "size": 16
          },
          "showarrow": false,
          "text": "📐 Scale Error by Image - Square",
          "x": 0.5,
          "xanchor": "center",
          "xref": "paper",
          "y": 0.27999999999999997,
          "yanchor": "bottom",
          "yref": "paper"
         },
         {
          "showarrow": false,
          "text": "🚨 High Error Threshold (10%)",
          "x": 1,
          "xanchor": "right",
          "xref": "x domain",
          "y": 10,
          "yanchor": "bottom",
          "yref": "y"
         },
         {
          "showarrow": false,
          "text": "Mean: 8.72%",
          "x": 1,
          "xanchor": "right",
          "xref": "x domain",
          "y": 8.718335537187466,
          "yanchor": "top",
          "yref": "y"
         },
         {
          "showarrow": false,
          "text": "🚨 High Error Threshold (10%)",
          "x": 1,
          "xanchor": "right",
          "xref": "x2 domain",
          "y": 10,
          "yanchor": "bottom",
          "yref": "y2"
         },
         {
          "showarrow": false,
          "text": "Mean: 17.23%",
          "x": 1,
          "xanchor": "right",
          "xref": "x2 domain",
          "y": 17.23428064330606,
          "yanchor": "top",
          "yref": "y2"
         },
         {
          "showarrow": false,
          "text": "🚨 High Error Threshold (10%)",
          "x": 1,
          "xanchor": "right",
          "xref": "x3 domain",
          "y": 10,
          "yanchor": "bottom",
          "yref": "y3"
         },
         {
          "showarrow": false,
          "text": "Mean: 6.06%",
          "x": 1,
          "xanchor": "right",
          "xref": "x3 domain",
          "y": 6.05854243466607,
          "yanchor": "top",
          "yref": "y3"
         },
         {
          "font": {
           "color": "gray",
           "size": 14
          },
          "showarrow": false,
          "text": "💡 Hover bars for image name & details",
          "x": 0.5,
          "xanchor": "center",
          "xref": "paper",
          "y": -0.05,
          "yref": "paper"
         }
        ],
        "bargap": 0.25,
        "height": 1350,
        "hovermode": "closest",
        "legend": {
         "orientation": "h",
         "x": 0.5,
         "xanchor": "center",
         "y": 1.02,
         "yanchor": "bottom"
        },
        "shapes": [
         {
          "line": {
           "color": "red",
           "dash": "dash"
          },
          "opacity": 0.7,
          "type": "line",
          "x0": 0,
          "x1": 1,
          "xref": "x domain",
          "y0": 10,
          "y1": 10,
          "yref": "y"
         },
         {
          "line": {
           "dash": "dot"
          },
          "opacity": 0.5,
          "type": "line",
          "x0": 0,
          "x1": 1,
          "xref": "x domain",
          "y0": 8.718335537187466,
          "y1": 8.718335537187466,
          "yref": "y"
         },
         {
          "line": {
           "color": "red",
           "dash": "dash"
          },
          "opacity": 0.7,
          "type": "line",
          "x0": 0,
          "x1": 1,
          "xref": "x2 domain",
          "y0": 10,
          "y1": 10,
          "yref": "y2"
         },
         {
          "line": {
           "dash": "dot"
          },
          "opacity": 0.5,
          "type": "line",
          "x0": 0,
          "x1": 1,
          "xref": "x2 domain",
          "y0": 17.23428064330606,
          "y1": 17.23428064330606,
          "yref": "y2"
         },
         {
          "line": {
           "color": "red",
           "dash": "dash"
          },
          "opacity": 0.7,
          "type": "line",
          "x0": 0,
          "x1": 1,
          "xref": "x3 domain",
          "y0": 10,
          "y1": 10,
          "yref": "y3"
         },
         {
          "line": {
           "dash": "dot"
          },
          "opacity": 0.5,
          "type": "line",
          "x0": 0,
          "x1": 1,
          "xref": "x3 domain",
          "y0": 6.05854243466607,
          "y1": 6.05854243466607,
          "yref": "y3"
         }
        ],
        "showlegend": true,
        "template": {
         "data": {
          "bar": [
           {
            "error_x": {
             "color": "#2a3f5f"
            },
            "error_y": {
             "color": "#2a3f5f"
            },
            "marker": {
             "line": {
              "color": "#E5ECF6",
              "width": 0.5
             },
             "pattern": {
              "fillmode": "overlay",
              "size": 10,
              "solidity": 0.2
             }
            },
            "type": "bar"
           }
          ],
          "barpolar": [
           {
            "marker": {
             "line": {
              "color": "#E5ECF6",
              "width": 0.5
             },
             "pattern": {
              "fillmode": "overlay",
              "size": 10,
              "solidity": 0.2
             }
            },
            "type": "barpolar"
           }
          ],
          "carpet": [
           {
            "aaxis": {
             "endlinecolor": "#2a3f5f",
             "gridcolor": "white",
             "linecolor": "white",
             "minorgridcolor": "white",
             "startlinecolor": "#2a3f5f"
            },
            "baxis": {
             "endlinecolor": "#2a3f5f",
             "gridcolor": "white",
             "linecolor": "white",
             "minorgridcolor": "white",
             "startlinecolor": "#2a3f5f"
            },
            "type": "carpet"
           }
          ],
          "choropleth": [
           {
            "colorbar": {
             "outlinewidth": 0,
             "ticks": ""
            },
            "type": "choropleth"
           }
          ],
          "contour": [
           {
            "colorbar": {
             "outlinewidth": 0,
             "ticks": ""
            },
            "colorscale": [
             [
              0,
              "#0d0887"
             ],
             [
              0.1111111111111111,
              "#46039f"
             ],
             [
              0.2222222222222222,
              "#7201a8"
             ],
             [
              0.3333333333333333,
              "#9c179e"
             ],
             [
              0.4444444444444444,
              "#bd3786"
             ],
             [
              0.5555555555555556,
              "#d8576b"
             ],
             [
              0.6666666666666666,
              "#ed7953"
             ],
             [
              0.7777777777777778,
              "#fb9f3a"
             ],
             [
              0.8888888888888888,
              "#fdca26"
             ],
             [
              1,
              "#f0f921"
             ]
            ],
            "type": "contour"
           }
          ],
          "contourcarpet": [
           {
            "colorbar": {
             "outlinewidth": 0,
             "ticks": ""
            },
            "type": "contourcarpet"
           }
          ],
          "heatmap": [
           {
            "colorbar": {
             "outlinewidth": 0,
             "ticks": ""
            },
            "colorscale": [
             [
              0,
              "#0d0887"
             ],
             [
              0.1111111111111111,
              "#46039f"
             ],
             [
              0.2222222222222222,
              "#7201a8"
             ],
             [
              0.3333333333333333,
              "#9c179e"
             ],
             [
              0.4444444444444444,
              "#bd3786"
             ],
             [
              0.5555555555555556,
              "#d8576b"
             ],
             [
              0.6666666666666666,
              "#ed7953"
             ],
             [
              0.7777777777777778,
              "#fb9f3a"
             ],
             [
              0.8888888888888888,
              "#fdca26"
             ],
             [
              1,
              "#f0f921"
             ]
            ],
            "type": "heatmap"
           }
          ],
          "histogram": [
           {
            "marker": {
             "pattern": {
              "fillmode": "overlay",
              "size": 10,
              "solidity": 0.2
             }
            },
            "type": "histogram"
           }
          ],
          "histogram2d": [
           {
            "colorbar": {
             "outlinewidth": 0,
             "ticks": ""
            },
            "colorscale": [
             [
              0,
              "#0d0887"
             ],
             [
              0.1111111111111111,
              "#46039f"
             ],
             [
              0.2222222222222222,
              "#7201a8"
             ],
             [
              0.3333333333333333,
              "#9c179e"
             ],
             [
              0.4444444444444444,
              "#bd3786"
             ],
             [
              0.5555555555555556,
              "#d8576b"
             ],
             [
              0.6666666666666666,
              "#ed7953"
             ],
             [
              0.7777777777777778,
              "#fb9f3a"
             ],
             [
              0.8888888888888888,
              "#fdca26"
             ],
             [
              1,
              "#f0f921"
             ]
            ],
            "type": "histogram2d"
           }
          ],
          "histogram2dcontour": [
           {
            "colorbar": {
             "outlinewidth": 0,
             "ticks": ""
            },
            "colorscale": [
             [
              0,
              "#0d0887"
             ],
             [
              0.1111111111111111,
              "#46039f"
             ],
             [
              0.2222222222222222,
              "#7201a8"
             ],
             [
              0.3333333333333333,
              "#9c179e"
             ],
             [
              0.4444444444444444,
              "#bd3786"
             ],
             [
              0.5555555555555556,
              "#d8576b"
             ],
             [
              0.6666666666666666,
              "#ed7953"
             ],
             [
              0.7777777777777778,
              "#fb9f3a"
             ],
             [
              0.8888888888888888,
              "#fdca26"
             ],
             [
              1,
              "#f0f921"
             ]
            ],
            "type": "histogram2dcontour"
           }
          ],
          "mesh3d": [
           {
            "colorbar": {
             "outlinewidth": 0,
             "ticks": ""
            },
            "type": "mesh3d"
           }
          ],
          "parcoords": [
           {
            "line": {
             "colorbar": {
              "outlinewidth": 0,
              "ticks": ""
             }
            },
            "type": "parcoords"
           }
          ],
          "pie": [
           {
            "automargin": true,
            "type": "pie"
           }
          ],
          "scatter": [
           {
            "fillpattern": {
             "fillmode": "overlay",
             "size": 10,
             "solidity": 0.2
            },
            "type": "scatter"
           }
          ],
          "scatter3d": [
           {
            "line": {
             "colorbar": {
              "outlinewidth": 0,
              "ticks": ""
             }
            },
            "marker": {
             "colorbar": {
              "outlinewidth": 0,
              "ticks": ""
             }
            },
            "type": "scatter3d"
           }
          ],
          "scattercarpet": [
           {
            "marker": {
             "colorbar": {
              "outlinewidth": 0,
              "ticks": ""
             }
            },
            "type": "scattercarpet"
           }
          ],
          "scattergeo": [
           {
            "marker": {
             "colorbar": {
              "outlinewidth": 0,
              "ticks": ""
             }
            },
            "type": "scattergeo"
           }
          ],
          "scattergl": [
           {
            "marker": {
             "colorbar": {
              "outlinewidth": 0,
              "ticks": ""
             }
            },
            "type": "scattergl"
           }
          ],
          "scattermap": [
           {
            "marker": {
             "colorbar": {
              "outlinewidth": 0,
              "ticks": ""
             }
            },
            "type": "scattermap"
           }
          ],
          "scattermapbox": [
           {
            "marker": {
             "colorbar": {
              "outlinewidth": 0,
              "ticks": ""
             }
            },
            "type": "scattermapbox"
           }
          ],
          "scatterpolar": [
           {
            "marker": {
             "colorbar": {
              "outlinewidth": 0,
              "ticks": ""
             }
            },
            "type": "scatterpolar"
           }
          ],
          "scatterpolargl": [
           {
            "marker": {
             "colorbar": {
              "outlinewidth": 0,
              "ticks": ""
             }
            },
            "type": "scatterpolargl"
           }
          ],
          "scatterternary": [
           {
            "marker": {
             "colorbar": {
              "outlinewidth": 0,
              "ticks": ""
             }
            },
            "type": "scatterternary"
           }
          ],
          "surface": [
           {
            "colorbar": {
             "outlinewidth": 0,
             "ticks": ""
            },
            "colorscale": [
             [
              0,
              "#0d0887"
             ],
             [
              0.1111111111111111,
              "#46039f"
             ],
             [
              0.2222222222222222,
              "#7201a8"
             ],
             [
              0.3333333333333333,
              "#9c179e"
             ],
             [
              0.4444444444444444,
              "#bd3786"
             ],
             [
              0.5555555555555556,
              "#d8576b"
             ],
             [
              0.6666666666666666,
              "#ed7953"
             ],
             [
              0.7777777777777778,
              "#fb9f3a"
             ],
             [
              0.8888888888888888,
              "#fdca26"
             ],
             [
              1,
              "#f0f921"
             ]
            ],
            "type": "surface"
           }
          ],
          "table": [
           {
            "cells": {
             "fill": {
              "color": "#EBF0F8"
             },
             "line": {
              "color": "white"
             }
            },
            "header": {
             "fill": {
              "color": "#C8D4E3"
             },
             "line": {
              "color": "white"
             }
            },
            "type": "table"
           }
          ]
         },
         "layout": {
          "annotationdefaults": {
           "arrowcolor": "#2a3f5f",
           "arrowhead": 0,
           "arrowwidth": 1
          },
          "autotypenumbers": "strict",
          "coloraxis": {
           "colorbar": {
            "outlinewidth": 0,
            "ticks": ""
           }
          },
          "colorscale": {
           "diverging": [
            [
             0,
             "#8e0152"
            ],
            [
             0.1,
             "#c51b7d"
            ],
            [
             0.2,
             "#de77ae"
            ],
            [
             0.3,
             "#f1b6da"
            ],
            [
             0.4,
             "#fde0ef"
            ],
            [
             0.5,
             "#f7f7f7"
            ],
            [
             0.6,
             "#e6f5d0"
            ],
            [
             0.7,
             "#b8e186"
            ],
            [
             0.8,
             "#7fbc41"
            ],
            [
             0.9,
             "#4d9221"
            ],
            [
             1,
             "#276419"
            ]
           ],
           "sequential": [
            [
             0,
             "#0d0887"
            ],
            [
             0.1111111111111111,
             "#46039f"
            ],
            [
             0.2222222222222222,
             "#7201a8"
            ],
            [
             0.3333333333333333,
             "#9c179e"
            ],
            [
             0.4444444444444444,
             "#bd3786"
            ],
            [
             0.5555555555555556,
             "#d8576b"
            ],
            [
             0.6666666666666666,
             "#ed7953"
            ],
            [
             0.7777777777777778,
             "#fb9f3a"
            ],
            [
             0.8888888888888888,
             "#fdca26"
            ],
            [
             1,
             "#f0f921"
            ]
           ],
           "sequentialminus": [
            [
             0,
             "#0d0887"
            ],
            [
             0.1111111111111111,
             "#46039f"
            ],
            [
             0.2222222222222222,
             "#7201a8"
            ],
            [
             0.3333333333333333,
             "#9c179e"
            ],
            [
             0.4444444444444444,
             "#bd3786"
            ],
            [
             0.5555555555555556,
             "#d8576b"
            ],
            [
             0.6666666666666666,
             "#ed7953"
            ],
            [
             0.7777777777777778,
             "#fb9f3a"
            ],
            [
             0.8888888888888888,
             "#fdca26"
            ],
            [
             1,
             "#f0f921"
            ]
           ]
          },
          "colorway": [
           "#636efa",
           "#EF553B",
           "#00cc96",
           "#ab63fa",
           "#FFA15A",
           "#19d3f3",
           "#FF6692",
           "#B6E880",
           "#FF97FF",
           "#FECB52"
          ],
          "font": {
           "color": "#2a3f5f"
          },
          "geo": {
           "bgcolor": "white",
           "lakecolor": "white",
           "landcolor": "#E5ECF6",
           "showlakes": true,
           "showland": true,
           "subunitcolor": "white"
          },
          "hoverlabel": {
           "align": "left"
          },
          "hovermode": "closest",
          "mapbox": {
           "style": "light"
          },
          "paper_bgcolor": "white",
          "plot_bgcolor": "#E5ECF6",
          "polar": {
           "angularaxis": {
            "gridcolor": "white",
            "linecolor": "white",
            "ticks": ""
           },
           "bgcolor": "#E5ECF6",
           "radialaxis": {
            "gridcolor": "white",
            "linecolor": "white",
            "ticks": ""
           }
          },
          "scene": {
           "xaxis": {
            "backgroundcolor": "#E5ECF6",
            "gridcolor": "white",
            "gridwidth": 2,
            "linecolor": "white",
            "showbackground": true,
            "ticks": "",
            "zerolinecolor": "white"
           },
           "yaxis": {
            "backgroundcolor": "#E5ECF6",
            "gridcolor": "white",
            "gridwidth": 2,
            "linecolor": "white",
            "showbackground": true,
            "ticks": "",
            "zerolinecolor": "white"
           },
           "zaxis": {
            "backgroundcolor": "#E5ECF6",
            "gridcolor": "white",
            "gridwidth": 2,
            "linecolor": "white",
            "showbackground": true,
            "ticks": "",
            "zerolinecolor": "white"
           }
          },
          "shapedefaults": {
           "line": {
            "color": "#2a3f5f"
           }
          },
          "ternary": {
           "aaxis": {
            "gridcolor": "white",
            "linecolor": "white",
            "ticks": ""
           },
           "baxis": {
            "gridcolor": "white",
            "linecolor": "white",
            "ticks": ""
           },
           "bgcolor": "#E5ECF6",
           "caxis": {
            "gridcolor": "white",
            "linecolor": "white",
            "ticks": ""
           }
          },
          "title": {
           "x": 0.05
          },
          "xaxis": {
           "automargin": true,
           "gridcolor": "white",
           "linecolor": "white",
           "ticks": "",
           "title": {
            "standoff": 15
           },
           "zerolinecolor": "white",
           "zerolinewidth": 2
          },
          "yaxis": {
           "automargin": true,
           "gridcolor": "white",
           "linecolor": "white",
           "ticks": "",
           "title": {
            "standoff": 15
           },
           "zerolinecolor": "white",
           "zerolinewidth": 2
          }
         }
        },
        "title": {
         "font": {
          "size": 20
         },
         "text": "🎪 Scale Error Analysis Dashboard: Interactive Image Explorer"
        },
        "width": 1200,
        "xaxis": {
         "anchor": "y",
         "domain": [
          0,
          1
         ],
         "gridcolor": "lightgray",
         "gridwidth": 1,
         "showgrid": true,
         "title": {
          "text": "Image Rank (worst → best)"
         }
        },
        "xaxis2": {
         "anchor": "y2",
         "domain": [
          0,
          1
         ],
         "gridcolor": "lightgray",
         "gridwidth": 1,
         "showgrid": true,
         "title": {
          "text": "Image Rank (worst → best)"
         }
        },
        "xaxis3": {
         "anchor": "y3",
         "domain": [
          0,
          1
         ],
         "gridcolor": "lightgray",
         "gridwidth": 1,
         "showgrid": true,
         "title": {
          "text": "Image Rank (worst → best)"
         }
        },
        "yaxis": {
         "anchor": "x",
         "domain": [
          0.72,
          1
         ],
         "gridcolor": "lightgray",
         "gridwidth": 1,
         "rangemode": "tozero",
         "showgrid": true,
         "title": {
          "text": "Scale Error (%)"
         }
        },
        "yaxis2": {
         "anchor": "x2",
         "domain": [
          0.36,
          0.6399999999999999
         ],
         "gridcolor": "lightgray",
         "gridwidth": 1,
         "rangemode": "tozero",
         "showgrid": true,
         "title": {
          "text": "Scale Error (%)"
         }
        },
        "yaxis3": {
         "anchor": "x3",
         "domain": [
          0,
          0.27999999999999997
         ],
         "gridcolor": "lightgray",
         "gridwidth": 1,
         "rangemode": "tozero",
         "showgrid": true,
         "title": {
          "text": "Scale Error (%)"
         }
        }
       }
      }
     },
     "metadata": {},
     "output_type": "display_data"
    }
   ],
   "source": [
    "import numpy as np\n",
    "import pandas as pd\n",
    "import plotly.graph_objects as go\n",
    "from plotly.subplots import make_subplots\n",
    "\n",
    "POND_COLORS = {\n",
    "    # fill your palette here\n",
    "    # 'circular_small_male': '#3b82f6',\n",
    "}\n",
    "DEFAULT_COLOR = '#333333'\n",
    "EPS = 1e-12\n",
    "\n",
    "def _pct_err(gt, pred):\n",
    "    # MAPE-style with epsilon guard\n",
    "    # return 100.0 * np.abs(gt - pred) / np.clip(np.abs(gt), EPS, None)\n",
    "\n",
    "# If you prefer SMAPE instead:\n",
    "# def _pct_err(gt, pred):\n",
    "    return 200.0 * np.abs(gt - pred) / np.clip(np.abs(gt) + np.abs(pred), EPS, None)\n",
    "\n",
    "def create_scale_results_dictionary(df: pd.DataFrame):\n",
    "    pond_types = df['Pond_Type'].dropna().unique()\n",
    "    scale_results = {}\n",
    "\n",
    "    for pond_type in pond_types:\n",
    "        print(f\"\\n🏊‍♀️ Analyzing scale errors for {pond_type} pond...\")\n",
    "\n",
    "        df_pond = df.loc[df['Pond_Type'] == pond_type].copy()\n",
    "\n",
    "        # Guard against missing columns early\n",
    "        needed = {'Label','mean_scale','pred_scale','PrawnID'}\n",
    "        missing = needed - set(df_pond.columns)\n",
    "        if missing:\n",
    "            raise KeyError(f\"Missing columns for {pond_type}: {missing}\")\n",
    "\n",
    "        # Compute % error safely\n",
    "        df_pond['scale_error_percent'] = _pct_err(df_pond['mean_scale'], df_pond['pred_scale'])\n",
    "\n",
    "        # Drop rows with NaNs in essentials\n",
    "        df_pond = df_pond.dropna(subset=['Label','scale_error_percent'])\n",
    "\n",
    "        # Aggregate per image\n",
    "        df_img = (\n",
    "            df_pond.groupby('Label', as_index=False)\n",
    "                   .agg(scale_error_percent=('scale_error_percent','mean'),\n",
    "                        prawn_count=('PrawnID','count'))\n",
    "        )\n",
    "\n",
    "        # Sort worst→best\n",
    "        df_img = df_img.sort_values('scale_error_percent', ascending=False).reset_index(drop=True)\n",
    "\n",
    "        scale_results[pond_type] = {\n",
    "            'image_data': df_img,\n",
    "            'mean_scale_error': float(df_img['scale_error_percent'].mean()) if len(df_img) else np.nan,\n",
    "            'std_scale_error': float(df_img['scale_error_percent'].std(ddof=1)) if len(df_img) > 1 else np.nan,\n",
    "            'total_images': int(len(df_img)),\n",
    "            'total_prawns': int(df_img['prawn_count'].sum()) if len(df_img) else 0\n",
    "        }\n",
    "\n",
    "        m = scale_results[pond_type]['mean_scale_error']\n",
    "        s = scale_results[pond_type]['std_scale_error']\n",
    "        print(f\"   📊 Mean scale error: {m:.2f}%\")\n",
    "        print(f\"   📈 Std scale error: {0 if np.isnan(s) else s:.2f}%\")\n",
    "        print(f\"   🖼️ Total images: {scale_results[pond_type]['total_images']}\")\n",
    "        print(f\"   🦐 Total prawns: {scale_results[pond_type]['total_prawns']}\")\n",
    "\n",
    "    return scale_results\n",
    "\n",
    "\n",
    "def create_scale_error_visualization_plotly(scale_results: Dict[str, Dict]) -> None:\n",
    "    pond_types = list(scale_results.keys())\n",
    "    n_ponds = len(pond_types)\n",
    "\n",
    "    fig = make_subplots(\n",
    "        rows=n_ponds, cols=1,\n",
    "        subplot_titles=[f'📐 Scale Error by Image - {pt.replace(\"_\", \" \").title()}' for pt in pond_types],\n",
    "        vertical_spacing=0.08,\n",
    "        shared_xaxes=False\n",
    "    )\n",
    "\n",
    "    for i, pond_type in enumerate(pond_types, 1):\n",
    "        df_img = scale_results[pond_type]['image_data']\n",
    "        color = POND_COLORS.get(pond_type, DEFAULT_COLOR)\n",
    "\n",
    "        fig.add_trace(\n",
    "            go.Bar(\n",
    "                x=np.arange(len(df_img)),  # rank 0..N-1\n",
    "                y=df_img['scale_error_percent'],\n",
    "                name=pond_type.replace(\"_\", \" \").title(),\n",
    "                marker_color=color,\n",
    "                opacity=0.9,\n",
    "                showlegend=True,\n",
    "                text=df_img['prawn_count'],\n",
    "                textposition='inside',\n",
    "                textfont=dict(color='white', size=12, family=\"Arial Black\"),\n",
    "                customdata=np.stack([df_img['Label'].to_numpy(),\n",
    "                                     df_img['prawn_count'].to_numpy()], axis=1),\n",
    "                hovertemplate=\"<b>🖼️ Image Details</b><br>\" +\n",
    "                              \"📁 Image Name: %{customdata[0]}<br>\" +\n",
    "                              \"📐 Scale Error: %{y:.2f}%<br>\" +\n",
    "                              \"🦐 Prawn Count: %{customdata[1]}<br>\" +\n",
    "                              \"📊 Image Rank: #%{x}<br>\" +\n",
    "                              \"<extra></extra>\",\n",
    "            ),\n",
    "            row=i, col=1\n",
    "        )\n",
    "\n",
    "        # 10% threshold\n",
    "        fig.add_hline(\n",
    "            y=10,\n",
    "            line_dash=\"dash\",\n",
    "            line_color=\"red\",\n",
    "            opacity=0.7,\n",
    "            annotation_text=\"🚨 High Error Threshold (10%)\",\n",
    "            annotation_position=\"top right\",\n",
    "            row=i, col=1\n",
    "        )\n",
    "\n",
    "        # Optional: pond mean line (comment out if you prefer clean look)\n",
    "        pond_mean = scale_results[pond_type]['mean_scale_error']\n",
    "        if not np.isnan(pond_mean):\n",
    "            fig.add_hline(\n",
    "                y=pond_mean,\n",
    "                line_dash=\"dot\",\n",
    "                opacity=0.5,\n",
    "                annotation_text=f\"Mean: {pond_mean:.2f}%\",\n",
    "                annotation_position=\"bottom right\",\n",
    "                row=i, col=1\n",
    "            )\n",
    "\n",
    "    fig.update_layout(\n",
    "        title_text=\"🎪 Scale Error Analysis Dashboard: Interactive Image Explorer\",\n",
    "        title_font_size=20,\n",
    "        height=max(400, 450*n_ponds),\n",
    "        width=1200,\n",
    "        showlegend=True,\n",
    "        legend=dict(orientation=\"h\", yanchor=\"bottom\", y=1.02, xanchor=\"center\", x=0.5),\n",
    "        hovermode='closest',\n",
    "        bargap=0.25\n",
    "    )\n",
    "\n",
    "    for i in range(1, n_ponds + 1):\n",
    "        fig.update_xaxes(title_text=\"Image Rank (worst → best)\", row=i, col=1, showgrid=True, gridwidth=1, gridcolor='lightgray')\n",
    "        fig.update_yaxes(title_text=\"Scale Error (%)\", row=i, col=1, showgrid=True, gridwidth=1, gridcolor='lightgray', rangemode='tozero')\n",
    "\n",
    "    fig.add_annotation(\n",
    "        text=\"💡 Hover bars for image name & details\",\n",
    "        xref=\"paper\", yref=\"paper\", x=0.5, y=-0.05,\n",
    "        showarrow=False, font=dict(size=14, color=\"gray\"), xanchor=\"center\"\n",
    "    )\n",
    "    fig.show()\n",
    "\n",
    "create_scale_error_visualization_plotly(scale_results=create_scale_results_dictionary(df))\n",
    "\n",
    "\n",
    "\n"
   ]
  },
  {
   "cell_type": "markdown",
   "metadata": {},
   "source": [
    "# 🔍 Error Decomposition Analysis: The Art of Measurement Precision\n",
    "\n",
    "## 🧮 The Mathematics of Error\n",
    "In the world of computer vision and biometric measurement, errors don't exist in isolation. They interact, compete, and sometimes even cancel each other out! Let's explore this fascinating phenomenon.\n",
    "\n",
    "### 🎭 The Two Main Characters:\n",
    "- **Pixel Error**: How far off our pixel-level measurements are from the ground truth\n",
    "- **Scale Error**: How incorrect our scale estimation is (mm per pixel)\n",
    "\n",
    "### 🎪 The Plot Twist: Error Cancellation\n",
    "Sometimes, when pixel error and scale error have opposite signs, they partially cancel each other out, leading to surprisingly accurate final measurements despite individual component errors!"
   ]
  },
  {
   "cell_type": "markdown",
   "metadata": {},
   "source": [
    "# 📊 Statistical Deep Dive: Robust Error Metrics\n",
    "\n",
    "## 🎯 Why Use Robust Statistics?\n",
    "Traditional means can be misleading when dealing with outliers. Let's use robust statistical measures to get a clearer picture of our error distributions.\n",
    "\n",
    "### 📈 Our Statistical Arsenal:\n",
    "- **Median**: The middle value, less affected by outliers\n",
    "- **MAD (Median Absolute Deviation)**: A robust measure of spread\n",
    "- **Histograms**: Visual exploration of error distributions\n",
    "\n",
    "---\n",
    "\n",
    "## 🔬 Comprehensive Statistical Analysis"
   ]
  },
  {
   "cell_type": "code",
   "execution_count": 58,
   "metadata": {},
   "outputs": [
    {
     "name": "stdout",
     "output_type": "stream",
     "text": [
      "📊 Starting comprehensive statistical analysis...\n",
      "\n",
      "📊 Circle Female Summary Statistics:\n",
      "  Scale error per measurement: 8.61%\n",
      "\n",
      "Scale Error Statistics:\n",
      "  Median: 7.80%\n",
      "  MAD: 4.03%\n",
      "  Mean: 8.70%\n",
      "  Std Dev: 6.17%\n",
      "\n",
      "Pixel Error Statistics:\n",
      "  Median: 4.85%\n",
      "  MAD: 2.94%\n",
      "  Mean: 5.70%\n",
      "  Std Dev: 4.31%\n",
      "\n",
      "Annotation Error Statistics:\n",
      "  Median: 3.73%\n",
      "  MAD: 2.35%\n",
      "  Mean: 5.57%\n",
      "  Std Dev: 8.38%\n",
      "\n",
      "📊 Circle Male Summary Statistics:\n",
      "  Scale error per measurement: 16.37%\n",
      "\n",
      "Scale Error Statistics:\n",
      "  Median: 15.70%\n",
      "  MAD: 1.67%\n",
      "  Mean: 17.23%\n",
      "  Std Dev: 3.53%\n",
      "\n",
      "Pixel Error Statistics:\n",
      "  Median: 5.51%\n",
      "  MAD: 3.16%\n",
      "  Mean: 19.69%\n",
      "  Std Dev: 30.45%\n",
      "\n",
      "Annotation Error Statistics:\n",
      "  Median: 4.12%\n",
      "  MAD: 2.63%\n",
      "  Mean: 16.14%\n",
      "  Std Dev: 28.89%\n",
      "\n",
      "📊 Square Summary Statistics:\n",
      "  Scale error per measurement: 6.59%\n",
      "\n",
      "Scale Error Statistics:\n",
      "  Median: 4.42%\n",
      "  MAD: 1.82%\n",
      "  Mean: 6.06%\n",
      "  Std Dev: 4.05%\n",
      "\n",
      "Pixel Error Statistics:\n",
      "  Median: 4.81%\n",
      "  MAD: 3.87%\n",
      "  Mean: 6.79%\n",
      "  Std Dev: 6.91%\n",
      "\n",
      "Annotation Error Statistics:\n",
      "  Median: 4.72%\n",
      "  MAD: 2.45%\n",
      "  Mean: 6.30%\n",
      "  Std Dev: 5.98%\n"
     ]
    }
   ],
   "source": [
    "from pathlib import Path\n",
    "import numpy as np\n",
    "import pandas as pd\n",
    "from scipy.stats import median_abs_deviation\n",
    "\n",
    "EPS = 1e-12  # to prevent division by zero\n",
    "\n",
    "\n",
    "def mape(gt, pred):\n",
    "    \"\"\"Mean Absolute Percentage Error (%)\"\"\"\n",
    "    return 100.0 * np.abs(pred - gt) / np.clip(np.abs(gt), EPS, None)\n",
    "\n",
    "\n",
    "def smape(gt, pred):\n",
    "    \"\"\"Symmetric Mean Absolute Percentage Error (%)\"\"\"\n",
    "    return 200.0 * np.abs(pred - gt) / np.clip(np.abs(pred) + np.abs(gt), EPS, None)\n",
    "\n",
    "\n",
    "def pct_error(gt, pred, metric=\"MAPE\"):\n",
    "    metric = metric.upper()\n",
    "    if metric == \"MAPE\":\n",
    "        return mape(gt, pred)\n",
    "    elif metric == \"SMAPE\":\n",
    "        return smape(gt, pred)\n",
    "    else:\n",
    "        raise ValueError(\"metric must be 'MAPE' or 'SMAPE'\")\n",
    "\n",
    "\n",
    "def analyze_statistical_distributions(df: pd.DataFrame, error_metric=\"MAPE\"):\n",
    "    \"\"\"\n",
    "    📊 Perform comprehensive statistical analysis of error distributions.\n",
    "    Supports both MAPE and SMAPE via `error_metric` parameter.\n",
    "    \n",
    "    Args:\n",
    "        df: DataFrame containing measurement data\n",
    "        error_metric: 'MAPE' or 'SMAPE'\n",
    "        \n",
    "    Returns:\n",
    "        statistical_results: Dictionary containing statistical results for each pond type\n",
    "        output_dir: Path where images/plots could be saved\n",
    "    \"\"\"\n",
    "    output_dir = Path(\"/Users/gilbenor/Library/CloudStorage/OneDrive-Personal/phd/\"\n",
    "                     \"paper/images/final images/carapace\")\n",
    "    output_dir.mkdir(parents=True, exist_ok=True)\n",
    "    \n",
    "    statistical_results = {}\n",
    "    \n",
    "    for pond_type in df['Pond_Type'].unique():\n",
    "        df_pond = df[df['Pond_Type'] == pond_type]\n",
    "        \n",
    "        # 📐 Scale Error Analysis (per image)\n",
    "        mean_scale_per_image = df_pond.groupby('Label')['mean_scale'].mean()\n",
    "        pred_scale_per_image = df_pond.groupby('Label')['pred_scale'].mean()\n",
    "        scale_error_percent = pct_error(mean_scale_per_image, pred_scale_per_image, metric=error_metric)\n",
    "        \n",
    "\n",
    "\n",
    "\n",
    "        scale_error_percent_per_measurement = pct_error(df_pond['mean_scale'], df_pond['pred_scale'], metric=error_metric)\n",
    "\n",
    "        # 🔍 Pixel Error Analysis (per measurement)\n",
    "        pixel_error_percent = pct_error(df_pond['mean_pixels'], df_pond['pred_Distance_pixels'], metric=error_metric)\n",
    "        \n",
    "        # 📝 Annotation Error Analysis (per measurement)\n",
    "        annotation_error_percent = pct_error(df_pond['Length_ground_truth_annotation_pixels'],\n",
    "                                             df_pond['pred_Distance_pixels'], metric=error_metric)\n",
    "        \n",
    "        # Store results\n",
    "        statistical_results[pond_type] = {\n",
    "            'scale_error': {\n",
    "                'scale_error_percent_per_measurement': np.mean(scale_error_percent_per_measurement),\n",
    "                'median': np.median(scale_error_percent),\n",
    "                'mad': median_abs_deviation(scale_error_percent),\n",
    "                'mean': np.mean(scale_error_percent),\n",
    "                'std': np.std(scale_error_percent, ddof=1),\n",
    "                'data': scale_error_percent\n",
    "            },\n",
    "            'pixel_error': {\n",
    "                'median': np.median(pixel_error_percent),\n",
    "                'mad': median_abs_deviation(pixel_error_percent),\n",
    "                'mean': np.mean(pixel_error_percent),\n",
    "                'std': np.std(pixel_error_percent, ddof=1),\n",
    "                'data': pixel_error_percent\n",
    "            },\n",
    "            'annotation_error': {\n",
    "                'median': np.median(annotation_error_percent),\n",
    "                'mad': median_abs_deviation(annotation_error_percent),\n",
    "                'mean': np.mean(annotation_error_percent),\n",
    "                'std': np.std(annotation_error_percent, ddof=1),\n",
    "                'data': annotation_error_percent\n",
    "            }\n",
    "        }\n",
    "    \n",
    "    return statistical_results, output_dir\n",
    "\n",
    "def print_statistical_summary(statistical_results):\n",
    "    \"\"\"\n",
    "    📊 Print summary statistics for each pond type.\n",
    "    \"\"\"\n",
    "    for pond_type, results in statistical_results.items():\n",
    "        print(f\"\\n📊 {pond_type.replace('_', ' ').title()} Summary Statistics:\")\n",
    "        print(f\"  Scale error per measurement: {results['scale_error']['scale_error_percent_per_measurement']:.2f}%\")\n",
    "\n",
    "        for error_type, stats in results.items():\n",
    "            print(f\"\\n{error_type.replace('_', ' ').title()} Statistics:\")\n",
    "            print(f\"  Median: {stats['median']:.2f}%\")\n",
    "            print(f\"  MAD: {stats['mad']:.2f}%\")\n",
    "            print(f\"  Mean: {stats['mean']:.2f}%\")\n",
    "            print(f\"  Std Dev: {stats['std']:.2f}%\")\n",
    "\n",
    "\n",
    "# 🚀 Run statistical analysis\n",
    "print(\"📊 Starting comprehensive statistical analysis...\")\n",
    "statistical_results, output_dir = analyze_statistical_distributions(df, error_metric=\"SMAPE\")\n",
    "print_statistical_summary(statistical_results)\n",
    "\n",
    "\n",
    "\n",
    "\n",
    "\n"
   ]
  },
  {
   "cell_type": "code",
   "execution_count": 59,
   "metadata": {},
   "outputs": [
    {
     "name": "stdout",
     "output_type": "stream",
     "text": [
      "\n",
      "🎨 Creating statistical visualizations...\n"
     ]
    },
    {
     "data": {
      "application/vnd.plotly.v1+json": {
       "config": {
        "plotlyServerURL": "https://plot.ly"
       },
       "data": [
        {
         "hovertemplate": "<b>Scale Error</b><br>Range: %{x:.1f}%<br>Count: %{y}<extra></extra>",
         "marker": {
          "color": "#333333"
         },
         "name": "📐 Circle Female",
         "nbinsx": 30,
         "opacity": 0.7,
         "showlegend": true,
         "type": "histogram",
         "x": {
          "bdata": "J0wKsrCVIUARfPLDYo0SQEK6+/TnPA5Ax1qN7Uw1JUCoOTEpKQWvP+PU4REwjwRAFuMdgSTxB0BA2TH7Rk4EQMdUDwiojjdATryHThOWKUDk2NtRkK4bQDl6VXwDQCBAVczVvtzxIECTutnPL2g0QGTzTxEcCx5AhNU2koYgL0D9XE22+9wgQLFmyfWTnwtA8Boa+qwqDkAKhihQfOYkQAiqLiuNqi5AOKywywc1H0Bz/oWku/DNPybLiNcWPTNAaZA39q6QGUDv2hxt0sMYQFDIWaLmSxlA98i5YP4VM0BK9p0QVHIiQKl1qm0q3TFAX5VKvP1CIUB9vu4p9wMKQMTg1Et92QBA",
          "dtype": "f8"
         },
         "xaxis": "x",
         "yaxis": "y"
        },
        {
         "hovertemplate": "<b>Scale Error</b><br>Range: %{x:.1f}%<br>Count: %{y}<extra></extra>",
         "marker": {
          "color": "#333333"
         },
         "name": "📐 Circle Male",
         "nbinsx": 30,
         "opacity": 0.7,
         "showlegend": true,
         "type": "histogram",
         "x": {
          "bdata": "RC6Y8msRLEAwvBpDG2YvQAM44wscqTJAdFlsuQITLkAljA+EVrw2QA==",
          "dtype": "f8"
         },
         "xaxis": "x2",
         "yaxis": "y2"
        },
        {
         "hovertemplate": "<b>Scale Error</b><br>Range: %{x:.1f}%<br>Count: %{y}<extra></extra>",
         "marker": {
          "color": "#333333"
         },
         "name": "📐 Square",
         "nbinsx": 30,
         "opacity": 0.7,
         "showlegend": true,
         "type": "histogram",
         "x": {
          "bdata": "jsriVNX5KkCOOfVhtlclQPN4J4UVNw5A38wLXng3DkAjYkr8tfcYQFVDyry8NihAuKXIm5zWAUD+yq3SVcMIQFAPjEOHlvY/BvoG7PN6I0AXDOs05yYGQBylZUQ6IRRApS5zO4CxEUA=",
          "dtype": "f8"
         },
         "xaxis": "x3",
         "yaxis": "y3"
        },
        {
         "hovertemplate": "<b>Pixel Error</b><br>Range: %{x:.1f}%<br>Count: %{y}<extra></extra>",
         "marker": {
          "color": "#333333"
         },
         "name": "🔍 Circle Female",
         "nbinsx": 30,
         "opacity": 0.7,
         "showlegend": false,
         "type": "histogram",
         "x": {
          "bdata": "Neom9UcPMkDzs/vYkokmQKt6KBBGejFAyu8xaaxzGkBkCxk10p/+P5ghv1/rPxpAZ3eP3d9/F0ABrEUQ4q/xPwQPt3eJMiBAzBaWknjaCkC5xY/PSJYiQFuME4b9GxhA56D2uKqvJEDL1G6RcwwHQFroXkcpK/0/tXCyHZrLFkBBIpn+O40iQLGFSW7XEABAa4EVDXvJF0C+lMQpLF4PQNdtSLbD5w9A6L+HI/sWAEDP3aQgussoQLcCNIE+1BVA3jCn4ob29j8TorskiCseQNDmuSdXo/4/DxHlqCaQE0CBS/FYXWcRQIM0d6hRCQpA4wEcTQoUD0AZru4lGocgQMa0gemAfQVAAFipOw4qIECJ8hCmiTUhQE5izWCedhhAvoOfQpUFIEC2OMt5XxITQFi7xjOoNghAHUMwaSRrHEAJsyEb3ezRP56l8xULe+U/weoEE5hWwT8FVyTTzgkGQOKWFmfUiiRA9hBHvLFlL0ADrd9p/XEtQLm1NS+eQBNAlZD6Da0tAEC84ZJEPUscQMgRjGqLY+8/71cyRAdh7T/J8IUJ6hMZQIYHGVaore0/lzJlDl2v5T/kDeS03kQXQD1FrcQejRxA4V7HPJOlwT/yYKVJo7oZQBC3fWdqVu0/zSuSiCvXKEBylragXHIFQMgG+On9ER9Ar+mYnHdFMEARed2aTvMlQH54UpyScgJAT4Qh5pa5IED0A68Ww1sgQJb5WF0bbR9AlvosKm0aEEArCljdI0MAQBx4//L93A9AlcjeurxfFUAejL7arpftP/SySp51kAxA7G2Id5yDJUBlpQO9NkvrP+IWMGgPLvQ/HSsXgU2NIkD4tcjvLfIjQOYyDY9ycMU/1OWFLpoaA0C2Jn6+z9wGQN9RTN6+0SRA9IdlyNAOC0AE86r7sl0iQOOKEZ6K//4/mYez6Hb+JUAkfZoLHo8rQN7luoHeCQdABorGTmqABkB/N9TF04DiPw==",
          "dtype": "f8"
         },
         "xaxis": "x4",
         "yaxis": "y4"
        },
        {
         "hovertemplate": "<b>Pixel Error</b><br>Range: %{x:.1f}%<br>Count: %{y}<extra></extra>",
         "marker": {
          "color": "#333333"
         },
         "name": "🔍 Circle Male",
         "nbinsx": 30,
         "opacity": 0.7,
         "showlegend": false,
         "type": "histogram",
         "x": {
          "bdata": "bWzQfma9KEBoyKUxfH0kQOKH0zCTDhZAqxdeL9+3PkAFkH2n5eQJQABkDqEtyhRAkUQzdzLsUkBYeKgg/NBXQNsNXxc62LY/aq/NSgGuCkB9ydSu8CsfQFEY6DCYkxBA/hwYmbXOAkA=",
          "dtype": "f8"
         },
         "xaxis": "x5",
         "yaxis": "y5"
        },
        {
         "hovertemplate": "<b>Pixel Error</b><br>Range: %{x:.1f}%<br>Count: %{y}<extra></extra>",
         "marker": {
          "color": "#333333"
         },
         "name": "🔍 Square",
         "nbinsx": 30,
         "opacity": 0.7,
         "showlegend": false,
         "type": "histogram",
         "x": {
          "bdata": "d4Tuz0DQGkCQI07mTbC0P+zQWrez5+w/Q94tWUOYIUD2xGeMkPQUQC1GgNQEvDRAkwugpfTYGkDlEJ8piq4qQP3JwzU3nM4/xKeU5JeDNEDLZ/f00YkRQPQjMZwj6g1AyM4cbq9z7z/3Lj7TqjAFQA==",
          "dtype": "f8"
         },
         "xaxis": "x6",
         "yaxis": "y6"
        },
        {
         "hovertemplate": "<b>Annotation Error</b><br>Range: %{x:.1f}%<br>Count: %{y}<extra></extra>",
         "marker": {
          "color": "#333333"
         },
         "name": "📝 Circle Female",
         "nbinsx": 30,
         "opacity": 0.7,
         "showlegend": false,
         "type": "histogram",
         "x": {
          "bdata": "MQzbyeLsNUCVAJJH2GzNPy0l51damyhAUMIgTrasIUCf8CYGl+4MQPUnG30qmhpAxOkVWQ98EkBCejR89CkFQGfkXsNuf+c/eeEQaGRL9T8w8JUW2w8IQIknDx9u7R1A9jL6mmIrLkCE4WeAhTLwP3wIvwtA8fA/sn/HxjzXEUDthR42lEsPQFT9FPfbmRNACZhSyObT9z/FLsLU+/MQQFrsWnkZEwVAUeAOWsLx5j8LmHPt+XIXQOGiJ4CUwCJArSqESrQ2AkChFJRbZkQVQLV293XEXAhABdKUbT9u9D9QIcWONLgYQKZDq+H/Reo/Xxzq3Tr33D/ymlVApy8WQCzUUKepGARAa/J9YZPUUkD+xxmbBz8gQO1v6uAWvfY/hWRpRjJKIkCluPlsrYbgP1RujJyvO+k/pExMwk7+DUD0P8b8C+AeQBPZRziWIfI/EbAIgSQLwz87kJTRXEbzP+vajuRShRVAqNybE5wxMUAvVk4ZCc0OQEqE8Ab6ryhAEBYF+xkq/T8hrv8rnR38P1+QaDB/bBZAb5/r4PSp+j9ZsyCf9AwiQIrUAideSvs/ekuJwyt/8T+COFz0DBEiQOwm4oEjdQtAnngp6Aeg+D8Re+lxbIcWQHaHLVlV4wRALFlYkfb+/T8EQWcyUAwdQMY3+yzSZBdAWTQG3N5NL0DrahPLlhsRQILI13cEZgNA67llAHFdHUAs/pp4PZwcQA6TdHNbUxVA7K+nEPY2IEBoXeuviFQJQHiyS4Bi5BxAc4S62u5AFUDy9A16154NQJeUGLYdt/M/3PVUOTeuB0De84rXJaAeQKV0iX57X/Q/w7rxAIbbAkDzD9VW5SYhQHjb38MQXAdAidm0tS6jFkDOWyA6QjQkQCpadz0vHQRAPcKZ2ysM5T9TcyDq/nseQJoUI5qtpgdABXp+6iNyHECpow40p7sfQJc331JXFARATSk9QfMwCEDj9jwlO/QAQA==",
          "dtype": "f8"
         },
         "xaxis": "x7",
         "yaxis": "y7"
        },
        {
         "hovertemplate": "<b>Annotation Error</b><br>Range: %{x:.1f}%<br>Count: %{y}<extra></extra>",
         "marker": {
          "color": "#333333"
         },
         "name": "📝 Circle Male",
         "nbinsx": 30,
         "opacity": 0.7,
         "showlegend": false,
         "type": "histogram",
         "x": {
          "bdata": "whyZ9MZeFEBnWRI6014YQFWQkl2u2PM/e2SoRiW0NkDUs+tWYh7QPwfF4uAseRBASrmkO+2ET0D3jH4YRGxXQAfwm7BhyhdAY5oQyw487j+XlJnnCMX3P75/How37gVAMFX30vPFA0A=",
          "dtype": "f8"
         },
         "xaxis": "x8",
         "yaxis": "y8"
        },
        {
         "hovertemplate": "<b>Annotation Error</b><br>Range: %{x:.1f}%<br>Count: %{y}<extra></extra>",
         "marker": {
          "color": "#333333"
         },
         "name": "📝 Square",
         "nbinsx": 30,
         "opacity": 0.7,
         "showlegend": false,
         "type": "histogram",
         "x": {
          "bdata": "VFKFF122B0AbDFFUTjsTQBZJjQiNZAtAI7/9VNqwFkBCuuw9nd4hQPxVk6lG1BlAs2kbopSxMEB2Zs8W/NUfQGKX+YYJfPk/5h+vAPkXNUBJbACgr44SQHXnF8RCNNc/9Vbi/8gMtj8B/pKgdyoMQA==",
          "dtype": "f8"
         },
         "xaxis": "x9",
         "yaxis": "y9"
        }
       ],
       "layout": {
        "annotations": [
         {
          "font": {
           "size": 16
          },
          "showarrow": false,
          "text": "Circle Female",
          "x": 0.14666666666666667,
          "xanchor": "center",
          "xref": "paper",
          "y": 1,
          "yanchor": "bottom",
          "yref": "paper"
         },
         {
          "font": {
           "size": 16
          },
          "showarrow": false,
          "text": "Circle Male",
          "x": 0.49,
          "xanchor": "center",
          "xref": "paper",
          "y": 1,
          "yanchor": "bottom",
          "yref": "paper"
         },
         {
          "font": {
           "size": 16
          },
          "showarrow": false,
          "text": "Square",
          "x": 0.8333333333333333,
          "xanchor": "center",
          "xref": "paper",
          "y": 1,
          "yanchor": "bottom",
          "yref": "paper"
         },
         {
          "font": {
           "size": 16
          },
          "showarrow": false,
          "text": "Circle Female",
          "x": 0.14666666666666667,
          "xanchor": "center",
          "xref": "paper",
          "y": 0.6399999999999999,
          "yanchor": "bottom",
          "yref": "paper"
         },
         {
          "font": {
           "size": 16
          },
          "showarrow": false,
          "text": "Circle Male",
          "x": 0.49,
          "xanchor": "center",
          "xref": "paper",
          "y": 0.6399999999999999,
          "yanchor": "bottom",
          "yref": "paper"
         },
         {
          "font": {
           "size": 16
          },
          "showarrow": false,
          "text": "Square",
          "x": 0.8333333333333333,
          "xanchor": "center",
          "xref": "paper",
          "y": 0.6399999999999999,
          "yanchor": "bottom",
          "yref": "paper"
         },
         {
          "font": {
           "size": 16
          },
          "showarrow": false,
          "text": "Circle Female",
          "x": 0.14666666666666667,
          "xanchor": "center",
          "xref": "paper",
          "y": 0.27999999999999997,
          "yanchor": "bottom",
          "yref": "paper"
         },
         {
          "font": {
           "size": 16
          },
          "showarrow": false,
          "text": "Circle Male",
          "x": 0.49,
          "xanchor": "center",
          "xref": "paper",
          "y": 0.27999999999999997,
          "yanchor": "bottom",
          "yref": "paper"
         },
         {
          "font": {
           "size": 16
          },
          "showarrow": false,
          "text": "Square",
          "x": 0.8333333333333333,
          "xanchor": "center",
          "xref": "paper",
          "y": 0.27999999999999997,
          "yanchor": "bottom",
          "yref": "paper"
         },
         {
          "font": {
           "size": 16
          },
          "showarrow": false,
          "text": "📐 Scale Error Distribution",
          "textangle": 90,
          "x": 0.98,
          "xanchor": "left",
          "xref": "paper",
          "y": 0.86,
          "yanchor": "middle",
          "yref": "paper"
         },
         {
          "font": {
           "size": 16
          },
          "showarrow": false,
          "text": "🔍 Pixel Error Distribution",
          "textangle": 90,
          "x": 0.98,
          "xanchor": "left",
          "xref": "paper",
          "y": 0.49999999999999994,
          "yanchor": "middle",
          "yref": "paper"
         },
         {
          "font": {
           "size": 16
          },
          "showarrow": false,
          "text": "📝 Annotation Error Distribution",
          "textangle": 90,
          "x": 0.98,
          "xanchor": "left",
          "xref": "paper",
          "y": 0.13999999999999999,
          "yanchor": "middle",
          "yref": "paper"
         },
         {
          "showarrow": false,
          "text": "Median: 7.8%",
          "x": 7.801787550600288,
          "xanchor": "center",
          "xref": "x",
          "y": 1,
          "yanchor": "bottom",
          "yref": "y domain"
         },
         {
          "showarrow": false,
          "text": "Median: 15.7%",
          "x": 15.69942674352032,
          "xanchor": "center",
          "xref": "x2",
          "y": 1,
          "yanchor": "bottom",
          "yref": "y2 domain"
         },
         {
          "showarrow": false,
          "text": "Median: 4.4%",
          "x": 4.423340729622997,
          "xanchor": "center",
          "xref": "x3",
          "y": 1,
          "yanchor": "bottom",
          "yref": "y3 domain"
         },
         {
          "showarrow": false,
          "text": "Median: 4.9%",
          "x": 4.851937950436739,
          "xanchor": "center",
          "xref": "x4",
          "y": 1,
          "yanchor": "bottom",
          "yref": "y4 domain"
         },
         {
          "showarrow": false,
          "text": "Median: 5.5%",
          "x": 5.514233363066497,
          "xanchor": "center",
          "xref": "x5",
          "y": 1,
          "yanchor": "bottom",
          "yref": "y5 domain"
         },
         {
          "showarrow": false,
          "text": "Median: 4.8%",
          "x": 4.811711321560864,
          "xanchor": "center",
          "xref": "x6",
          "y": 1,
          "yanchor": "bottom",
          "yref": "y6 domain"
         },
         {
          "showarrow": false,
          "text": "Median: 3.7%",
          "x": 3.725866542579842,
          "xanchor": "center",
          "xref": "x7",
          "y": 1,
          "yanchor": "bottom",
          "yref": "y7 domain"
         },
         {
          "showarrow": false,
          "text": "Median: 4.1%",
          "x": 4.118335260239525,
          "xanchor": "center",
          "xref": "x8",
          "y": 1,
          "yanchor": "bottom",
          "yref": "y8 domain"
         },
         {
          "showarrow": false,
          "text": "Median: 4.7%",
          "x": 4.723628910766864,
          "xanchor": "center",
          "xref": "x9",
          "y": 1,
          "yanchor": "bottom",
          "yref": "y9 domain"
         }
        ],
        "height": 800,
        "legend": {
         "orientation": "h",
         "x": 1,
         "xanchor": "right",
         "y": 1.02,
         "yanchor": "bottom"
        },
        "shapes": [
         {
          "line": {
           "color": "red",
           "dash": "dash"
          },
          "type": "line",
          "x0": 7.801787550600288,
          "x1": 7.801787550600288,
          "xref": "x",
          "y0": 0,
          "y1": 1,
          "yref": "y domain"
         },
         {
          "line": {
           "color": "red",
           "dash": "dash"
          },
          "type": "line",
          "x0": 15.69942674352032,
          "x1": 15.69942674352032,
          "xref": "x2",
          "y0": 0,
          "y1": 1,
          "yref": "y2 domain"
         },
         {
          "line": {
           "color": "red",
           "dash": "dash"
          },
          "type": "line",
          "x0": 4.423340729622997,
          "x1": 4.423340729622997,
          "xref": "x3",
          "y0": 0,
          "y1": 1,
          "yref": "y3 domain"
         },
         {
          "line": {
           "color": "red",
           "dash": "dash"
          },
          "type": "line",
          "x0": 4.851937950436739,
          "x1": 4.851937950436739,
          "xref": "x4",
          "y0": 0,
          "y1": 1,
          "yref": "y4 domain"
         },
         {
          "line": {
           "color": "red",
           "dash": "dash"
          },
          "type": "line",
          "x0": 5.514233363066497,
          "x1": 5.514233363066497,
          "xref": "x5",
          "y0": 0,
          "y1": 1,
          "yref": "y5 domain"
         },
         {
          "line": {
           "color": "red",
           "dash": "dash"
          },
          "type": "line",
          "x0": 4.811711321560864,
          "x1": 4.811711321560864,
          "xref": "x6",
          "y0": 0,
          "y1": 1,
          "yref": "y6 domain"
         },
         {
          "line": {
           "color": "red",
           "dash": "dash"
          },
          "type": "line",
          "x0": 3.725866542579842,
          "x1": 3.725866542579842,
          "xref": "x7",
          "y0": 0,
          "y1": 1,
          "yref": "y7 domain"
         },
         {
          "line": {
           "color": "red",
           "dash": "dash"
          },
          "type": "line",
          "x0": 4.118335260239525,
          "x1": 4.118335260239525,
          "xref": "x8",
          "y0": 0,
          "y1": 1,
          "yref": "y8 domain"
         },
         {
          "line": {
           "color": "red",
           "dash": "dash"
          },
          "type": "line",
          "x0": 4.723628910766864,
          "x1": 4.723628910766864,
          "xref": "x9",
          "y0": 0,
          "y1": 1,
          "yref": "y9 domain"
         }
        ],
        "showlegend": true,
        "template": {
         "data": {
          "bar": [
           {
            "error_x": {
             "color": "#2a3f5f"
            },
            "error_y": {
             "color": "#2a3f5f"
            },
            "marker": {
             "line": {
              "color": "#E5ECF6",
              "width": 0.5
             },
             "pattern": {
              "fillmode": "overlay",
              "size": 10,
              "solidity": 0.2
             }
            },
            "type": "bar"
           }
          ],
          "barpolar": [
           {
            "marker": {
             "line": {
              "color": "#E5ECF6",
              "width": 0.5
             },
             "pattern": {
              "fillmode": "overlay",
              "size": 10,
              "solidity": 0.2
             }
            },
            "type": "barpolar"
           }
          ],
          "carpet": [
           {
            "aaxis": {
             "endlinecolor": "#2a3f5f",
             "gridcolor": "white",
             "linecolor": "white",
             "minorgridcolor": "white",
             "startlinecolor": "#2a3f5f"
            },
            "baxis": {
             "endlinecolor": "#2a3f5f",
             "gridcolor": "white",
             "linecolor": "white",
             "minorgridcolor": "white",
             "startlinecolor": "#2a3f5f"
            },
            "type": "carpet"
           }
          ],
          "choropleth": [
           {
            "colorbar": {
             "outlinewidth": 0,
             "ticks": ""
            },
            "type": "choropleth"
           }
          ],
          "contour": [
           {
            "colorbar": {
             "outlinewidth": 0,
             "ticks": ""
            },
            "colorscale": [
             [
              0,
              "#0d0887"
             ],
             [
              0.1111111111111111,
              "#46039f"
             ],
             [
              0.2222222222222222,
              "#7201a8"
             ],
             [
              0.3333333333333333,
              "#9c179e"
             ],
             [
              0.4444444444444444,
              "#bd3786"
             ],
             [
              0.5555555555555556,
              "#d8576b"
             ],
             [
              0.6666666666666666,
              "#ed7953"
             ],
             [
              0.7777777777777778,
              "#fb9f3a"
             ],
             [
              0.8888888888888888,
              "#fdca26"
             ],
             [
              1,
              "#f0f921"
             ]
            ],
            "type": "contour"
           }
          ],
          "contourcarpet": [
           {
            "colorbar": {
             "outlinewidth": 0,
             "ticks": ""
            },
            "type": "contourcarpet"
           }
          ],
          "heatmap": [
           {
            "colorbar": {
             "outlinewidth": 0,
             "ticks": ""
            },
            "colorscale": [
             [
              0,
              "#0d0887"
             ],
             [
              0.1111111111111111,
              "#46039f"
             ],
             [
              0.2222222222222222,
              "#7201a8"
             ],
             [
              0.3333333333333333,
              "#9c179e"
             ],
             [
              0.4444444444444444,
              "#bd3786"
             ],
             [
              0.5555555555555556,
              "#d8576b"
             ],
             [
              0.6666666666666666,
              "#ed7953"
             ],
             [
              0.7777777777777778,
              "#fb9f3a"
             ],
             [
              0.8888888888888888,
              "#fdca26"
             ],
             [
              1,
              "#f0f921"
             ]
            ],
            "type": "heatmap"
           }
          ],
          "histogram": [
           {
            "marker": {
             "pattern": {
              "fillmode": "overlay",
              "size": 10,
              "solidity": 0.2
             }
            },
            "type": "histogram"
           }
          ],
          "histogram2d": [
           {
            "colorbar": {
             "outlinewidth": 0,
             "ticks": ""
            },
            "colorscale": [
             [
              0,
              "#0d0887"
             ],
             [
              0.1111111111111111,
              "#46039f"
             ],
             [
              0.2222222222222222,
              "#7201a8"
             ],
             [
              0.3333333333333333,
              "#9c179e"
             ],
             [
              0.4444444444444444,
              "#bd3786"
             ],
             [
              0.5555555555555556,
              "#d8576b"
             ],
             [
              0.6666666666666666,
              "#ed7953"
             ],
             [
              0.7777777777777778,
              "#fb9f3a"
             ],
             [
              0.8888888888888888,
              "#fdca26"
             ],
             [
              1,
              "#f0f921"
             ]
            ],
            "type": "histogram2d"
           }
          ],
          "histogram2dcontour": [
           {
            "colorbar": {
             "outlinewidth": 0,
             "ticks": ""
            },
            "colorscale": [
             [
              0,
              "#0d0887"
             ],
             [
              0.1111111111111111,
              "#46039f"
             ],
             [
              0.2222222222222222,
              "#7201a8"
             ],
             [
              0.3333333333333333,
              "#9c179e"
             ],
             [
              0.4444444444444444,
              "#bd3786"
             ],
             [
              0.5555555555555556,
              "#d8576b"
             ],
             [
              0.6666666666666666,
              "#ed7953"
             ],
             [
              0.7777777777777778,
              "#fb9f3a"
             ],
             [
              0.8888888888888888,
              "#fdca26"
             ],
             [
              1,
              "#f0f921"
             ]
            ],
            "type": "histogram2dcontour"
           }
          ],
          "mesh3d": [
           {
            "colorbar": {
             "outlinewidth": 0,
             "ticks": ""
            },
            "type": "mesh3d"
           }
          ],
          "parcoords": [
           {
            "line": {
             "colorbar": {
              "outlinewidth": 0,
              "ticks": ""
             }
            },
            "type": "parcoords"
           }
          ],
          "pie": [
           {
            "automargin": true,
            "type": "pie"
           }
          ],
          "scatter": [
           {
            "fillpattern": {
             "fillmode": "overlay",
             "size": 10,
             "solidity": 0.2
            },
            "type": "scatter"
           }
          ],
          "scatter3d": [
           {
            "line": {
             "colorbar": {
              "outlinewidth": 0,
              "ticks": ""
             }
            },
            "marker": {
             "colorbar": {
              "outlinewidth": 0,
              "ticks": ""
             }
            },
            "type": "scatter3d"
           }
          ],
          "scattercarpet": [
           {
            "marker": {
             "colorbar": {
              "outlinewidth": 0,
              "ticks": ""
             }
            },
            "type": "scattercarpet"
           }
          ],
          "scattergeo": [
           {
            "marker": {
             "colorbar": {
              "outlinewidth": 0,
              "ticks": ""
             }
            },
            "type": "scattergeo"
           }
          ],
          "scattergl": [
           {
            "marker": {
             "colorbar": {
              "outlinewidth": 0,
              "ticks": ""
             }
            },
            "type": "scattergl"
           }
          ],
          "scattermap": [
           {
            "marker": {
             "colorbar": {
              "outlinewidth": 0,
              "ticks": ""
             }
            },
            "type": "scattermap"
           }
          ],
          "scattermapbox": [
           {
            "marker": {
             "colorbar": {
              "outlinewidth": 0,
              "ticks": ""
             }
            },
            "type": "scattermapbox"
           }
          ],
          "scatterpolar": [
           {
            "marker": {
             "colorbar": {
              "outlinewidth": 0,
              "ticks": ""
             }
            },
            "type": "scatterpolar"
           }
          ],
          "scatterpolargl": [
           {
            "marker": {
             "colorbar": {
              "outlinewidth": 0,
              "ticks": ""
             }
            },
            "type": "scatterpolargl"
           }
          ],
          "scatterternary": [
           {
            "marker": {
             "colorbar": {
              "outlinewidth": 0,
              "ticks": ""
             }
            },
            "type": "scatterternary"
           }
          ],
          "surface": [
           {
            "colorbar": {
             "outlinewidth": 0,
             "ticks": ""
            },
            "colorscale": [
             [
              0,
              "#0d0887"
             ],
             [
              0.1111111111111111,
              "#46039f"
             ],
             [
              0.2222222222222222,
              "#7201a8"
             ],
             [
              0.3333333333333333,
              "#9c179e"
             ],
             [
              0.4444444444444444,
              "#bd3786"
             ],
             [
              0.5555555555555556,
              "#d8576b"
             ],
             [
              0.6666666666666666,
              "#ed7953"
             ],
             [
              0.7777777777777778,
              "#fb9f3a"
             ],
             [
              0.8888888888888888,
              "#fdca26"
             ],
             [
              1,
              "#f0f921"
             ]
            ],
            "type": "surface"
           }
          ],
          "table": [
           {
            "cells": {
             "fill": {
              "color": "#EBF0F8"
             },
             "line": {
              "color": "white"
             }
            },
            "header": {
             "fill": {
              "color": "#C8D4E3"
             },
             "line": {
              "color": "white"
             }
            },
            "type": "table"
           }
          ]
         },
         "layout": {
          "annotationdefaults": {
           "arrowcolor": "#2a3f5f",
           "arrowhead": 0,
           "arrowwidth": 1
          },
          "autotypenumbers": "strict",
          "coloraxis": {
           "colorbar": {
            "outlinewidth": 0,
            "ticks": ""
           }
          },
          "colorscale": {
           "diverging": [
            [
             0,
             "#8e0152"
            ],
            [
             0.1,
             "#c51b7d"
            ],
            [
             0.2,
             "#de77ae"
            ],
            [
             0.3,
             "#f1b6da"
            ],
            [
             0.4,
             "#fde0ef"
            ],
            [
             0.5,
             "#f7f7f7"
            ],
            [
             0.6,
             "#e6f5d0"
            ],
            [
             0.7,
             "#b8e186"
            ],
            [
             0.8,
             "#7fbc41"
            ],
            [
             0.9,
             "#4d9221"
            ],
            [
             1,
             "#276419"
            ]
           ],
           "sequential": [
            [
             0,
             "#0d0887"
            ],
            [
             0.1111111111111111,
             "#46039f"
            ],
            [
             0.2222222222222222,
             "#7201a8"
            ],
            [
             0.3333333333333333,
             "#9c179e"
            ],
            [
             0.4444444444444444,
             "#bd3786"
            ],
            [
             0.5555555555555556,
             "#d8576b"
            ],
            [
             0.6666666666666666,
             "#ed7953"
            ],
            [
             0.7777777777777778,
             "#fb9f3a"
            ],
            [
             0.8888888888888888,
             "#fdca26"
            ],
            [
             1,
             "#f0f921"
            ]
           ],
           "sequentialminus": [
            [
             0,
             "#0d0887"
            ],
            [
             0.1111111111111111,
             "#46039f"
            ],
            [
             0.2222222222222222,
             "#7201a8"
            ],
            [
             0.3333333333333333,
             "#9c179e"
            ],
            [
             0.4444444444444444,
             "#bd3786"
            ],
            [
             0.5555555555555556,
             "#d8576b"
            ],
            [
             0.6666666666666666,
             "#ed7953"
            ],
            [
             0.7777777777777778,
             "#fb9f3a"
            ],
            [
             0.8888888888888888,
             "#fdca26"
            ],
            [
             1,
             "#f0f921"
            ]
           ]
          },
          "colorway": [
           "#636efa",
           "#EF553B",
           "#00cc96",
           "#ab63fa",
           "#FFA15A",
           "#19d3f3",
           "#FF6692",
           "#B6E880",
           "#FF97FF",
           "#FECB52"
          ],
          "font": {
           "color": "#2a3f5f"
          },
          "geo": {
           "bgcolor": "white",
           "lakecolor": "white",
           "landcolor": "#E5ECF6",
           "showlakes": true,
           "showland": true,
           "subunitcolor": "white"
          },
          "hoverlabel": {
           "align": "left"
          },
          "hovermode": "closest",
          "mapbox": {
           "style": "light"
          },
          "paper_bgcolor": "white",
          "plot_bgcolor": "#E5ECF6",
          "polar": {
           "angularaxis": {
            "gridcolor": "white",
            "linecolor": "white",
            "ticks": ""
           },
           "bgcolor": "#E5ECF6",
           "radialaxis": {
            "gridcolor": "white",
            "linecolor": "white",
            "ticks": ""
           }
          },
          "scene": {
           "xaxis": {
            "backgroundcolor": "#E5ECF6",
            "gridcolor": "white",
            "gridwidth": 2,
            "linecolor": "white",
            "showbackground": true,
            "ticks": "",
            "zerolinecolor": "white"
           },
           "yaxis": {
            "backgroundcolor": "#E5ECF6",
            "gridcolor": "white",
            "gridwidth": 2,
            "linecolor": "white",
            "showbackground": true,
            "ticks": "",
            "zerolinecolor": "white"
           },
           "zaxis": {
            "backgroundcolor": "#E5ECF6",
            "gridcolor": "white",
            "gridwidth": 2,
            "linecolor": "white",
            "showbackground": true,
            "ticks": "",
            "zerolinecolor": "white"
           }
          },
          "shapedefaults": {
           "line": {
            "color": "#2a3f5f"
           }
          },
          "ternary": {
           "aaxis": {
            "gridcolor": "white",
            "linecolor": "white",
            "ticks": ""
           },
           "baxis": {
            "gridcolor": "white",
            "linecolor": "white",
            "ticks": ""
           },
           "bgcolor": "#E5ECF6",
           "caxis": {
            "gridcolor": "white",
            "linecolor": "white",
            "ticks": ""
           }
          },
          "title": {
           "x": 0.05
          },
          "xaxis": {
           "automargin": true,
           "gridcolor": "white",
           "linecolor": "white",
           "ticks": "",
           "title": {
            "standoff": 15
           },
           "zerolinecolor": "white",
           "zerolinewidth": 2
          },
          "yaxis": {
           "automargin": true,
           "gridcolor": "white",
           "linecolor": "white",
           "ticks": "",
           "title": {
            "standoff": 15
           },
           "zerolinecolor": "white",
           "zerolinewidth": 2
          }
         }
        },
        "title": {
         "font": {
          "size": 20
         },
         "text": "🎪 Error Distribution Circus: A Statistical Spectacular"
        },
        "width": 1200,
        "xaxis": {
         "anchor": "y",
         "domain": [
          0,
          0.29333333333333333
         ],
         "title": {
          "text": "Error (%)"
         }
        },
        "xaxis2": {
         "anchor": "y2",
         "domain": [
          0.3433333333333333,
          0.6366666666666667
         ],
         "title": {
          "text": "Error (%)"
         }
        },
        "xaxis3": {
         "anchor": "y3",
         "domain": [
          0.6866666666666666,
          0.98
         ],
         "title": {
          "text": "Error (%)"
         }
        },
        "xaxis4": {
         "anchor": "y4",
         "domain": [
          0,
          0.29333333333333333
         ],
         "title": {
          "text": "Error (%)"
         }
        },
        "xaxis5": {
         "anchor": "y5",
         "domain": [
          0.3433333333333333,
          0.6366666666666667
         ],
         "title": {
          "text": "Error (%)"
         }
        },
        "xaxis6": {
         "anchor": "y6",
         "domain": [
          0.6866666666666666,
          0.98
         ],
         "title": {
          "text": "Error (%)"
         }
        },
        "xaxis7": {
         "anchor": "y7",
         "domain": [
          0,
          0.29333333333333333
         ],
         "title": {
          "text": "Error (%)"
         }
        },
        "xaxis8": {
         "anchor": "y8",
         "domain": [
          0.3433333333333333,
          0.6366666666666667
         ],
         "title": {
          "text": "Error (%)"
         }
        },
        "xaxis9": {
         "anchor": "y9",
         "domain": [
          0.6866666666666666,
          0.98
         ],
         "title": {
          "text": "Error (%)"
         }
        },
        "yaxis": {
         "anchor": "x",
         "domain": [
          0.72,
          1
         ],
         "title": {
          "text": "Frequency"
         }
        },
        "yaxis2": {
         "anchor": "x2",
         "domain": [
          0.72,
          1
         ],
         "title": {
          "text": "Frequency"
         }
        },
        "yaxis3": {
         "anchor": "x3",
         "domain": [
          0.72,
          1
         ],
         "title": {
          "text": "Frequency"
         }
        },
        "yaxis4": {
         "anchor": "x4",
         "domain": [
          0.36,
          0.6399999999999999
         ],
         "title": {
          "text": "Frequency"
         }
        },
        "yaxis5": {
         "anchor": "x5",
         "domain": [
          0.36,
          0.6399999999999999
         ],
         "title": {
          "text": "Frequency"
         }
        },
        "yaxis6": {
         "anchor": "x6",
         "domain": [
          0.36,
          0.6399999999999999
         ],
         "title": {
          "text": "Frequency"
         }
        },
        "yaxis7": {
         "anchor": "x7",
         "domain": [
          0,
          0.27999999999999997
         ],
         "title": {
          "text": "Frequency"
         }
        },
        "yaxis8": {
         "anchor": "x8",
         "domain": [
          0,
          0.27999999999999997
         ],
         "title": {
          "text": "Frequency"
         }
        },
        "yaxis9": {
         "anchor": "x9",
         "domain": [
          0,
          0.27999999999999997
         ],
         "title": {
          "text": "Frequency"
         }
        }
       }
      }
     },
     "metadata": {},
     "output_type": "display_data"
    },
    {
     "name": "stdout",
     "output_type": "stream",
     "text": [
      "💾 Saved: circle_female_scale_error_histogram.png\n",
      "💾 Saved: circle_female_pixel_error_histogram.png\n",
      "💾 Saved: circle_female_annotation_error_histogram.png\n",
      "💾 Saved: circle_male_scale_error_histogram.png\n",
      "💾 Saved: circle_male_pixel_error_histogram.png\n",
      "💾 Saved: circle_male_annotation_error_histogram.png\n",
      "💾 Saved: square_scale_error_histogram.png\n",
      "💾 Saved: square_pixel_error_histogram.png\n",
      "💾 Saved: square_annotation_error_histogram.png\n",
      "✅ All visualizations created and saved!\n"
     ]
    }
   ],
   "source": [
    "def create_statistical_visualizations(statistical_results: Dict[str, Dict], output_dir: Path) -> None:\n",
    "    \"\"\"\n",
    "    🎨 Create beautiful histogram visualizations with consistent colors.\n",
    "    \"\"\"\n",
    "    pond_types = list(statistical_results.keys())\n",
    "    \n",
    "    # Create comprehensive histogram dashboard\n",
    "    fig = make_subplots(\n",
    "        rows=3, cols=len(pond_types),\n",
    "        subplot_titles=[f'{pond_type.replace(\"_\", \" \").title()}' for pond_type in pond_types] * 3,\n",
    "        row_titles=['📐 Scale Error Distribution', '🔍 Pixel Error Distribution', '📝 Annotation Error Distribution'],\n",
    "        vertical_spacing=0.08,\n",
    "        horizontal_spacing=0.05\n",
    "    )\n",
    "    \n",
    "    error_types = ['scale_error', 'pixel_error', 'annotation_error']\n",
    "    error_icons = ['📐', '🔍', '📝']\n",
    "    \n",
    "    for row, (error_type, icon) in enumerate(zip(error_types, error_icons), 1):\n",
    "        for col, pond_type in enumerate(pond_types, 1):\n",
    "            data = statistical_results[pond_type][error_type]['data']\n",
    "            color = POND_COLORS.get(pond_type, '#333333')\n",
    "            \n",
    "            # Add histogram\n",
    "            fig.add_trace(\n",
    "                go.Histogram(\n",
    "                    x=data,\n",
    "                    nbinsx=30,\n",
    "                    name=f'{icon} {pond_type.replace(\"_\", \" \").title()}',\n",
    "                    marker_color=color,\n",
    "                    opacity=0.7,\n",
    "                    showlegend=(row == 1),  # Only show legend for first row\n",
    "                    hovertemplate=f\"<b>{error_type.replace('_', ' ').title()}</b><br>\" +\n",
    "                                f\"Range: %{{x:.1f}}%<br>\" +\n",
    "                                f\"Count: %{{y}}<extra></extra>\"\n",
    "                ),\n",
    "                row=row, col=col\n",
    "            )\n",
    "            \n",
    "            # Add median line\n",
    "            median_val = statistical_results[pond_type][error_type]['median']\n",
    "            fig.add_vline(\n",
    "                x=median_val,\n",
    "                line_dash=\"dash\",\n",
    "                line_color=\"red\",\n",
    "                annotation_text=f\"Median: {median_val:.1f}%\",\n",
    "                annotation_position=\"top\",\n",
    "                row=row, col=col\n",
    "            )\n",
    "    \n",
    "    # Update layout\n",
    "    fig.update_layout(\n",
    "        title_text=\"🎪 Error Distribution Circus: A Statistical Spectacular\",\n",
    "        title_font_size=20,\n",
    "        height=800,\n",
    "        width=400*len(pond_types),\n",
    "        showlegend=True,\n",
    "        legend=dict(\n",
    "            orientation=\"h\",\n",
    "            yanchor=\"bottom\",\n",
    "            y=1.02,\n",
    "            xanchor=\"right\",\n",
    "            x=1\n",
    "        )\n",
    "    )\n",
    "    \n",
    "    # Update axes\n",
    "    for row in range(1, 4):\n",
    "        for col in range(1, len(pond_types) + 1):\n",
    "            fig.update_xaxes(title_text=\"Error (%)\", row=row, col=col)\n",
    "            fig.update_yaxes(title_text=\"Frequency\", row=row, col=col)\n",
    "    \n",
    "    fig.show()\n",
    "    \n",
    "    # Save individual histograms for each error type and pond\n",
    "    for pond_type in pond_types:\n",
    "        color = POND_COLORS.get(pond_type, '#333333')\n",
    "        \n",
    "        for error_type, icon in zip(error_types, error_icons):\n",
    "            data = statistical_results[pond_type][error_type]['data']\n",
    "            \n",
    "            # Create individual histogram\n",
    "            fig_individual = px.histogram(\n",
    "                x=data,\n",
    "                nbins=50,\n",
    "                title=f'{icon} {error_type.replace(\"_\", \" \").title()} Distribution - {pond_type.replace(\"_\", \" \").title()}',\n",
    "                labels={'x': 'Error (%)', 'y': 'Frequency'},\n",
    "                color_discrete_sequence=[color]\n",
    "            )\n",
    "            \n",
    "            # Add median line\n",
    "            median_val = statistical_results[pond_type][error_type]['median']\n",
    "            fig_individual.add_vline(\n",
    "                x=median_val,\n",
    "                line_dash=\"dash\",\n",
    "                line_color=\"red\",\n",
    "                annotation_text=f\"Median: {median_val:.1f}%\"\n",
    "            )\n",
    "            \n",
    "            # Save figure\n",
    "            filename = f'{pond_type}_{error_type}_histogram.png'\n",
    "            fig_individual.write_image(output_dir / filename)\n",
    "            print(f\"💾 Saved: {filename}\")\n",
    "\n",
    "# 🎨 Create visualizations\n",
    "print(\"\\n🎨 Creating statistical visualizations...\")\n",
    "create_statistical_visualizations(statistical_results, output_dir)\n",
    "print(\"✅ All visualizations created and saved!\")\n"
   ]
  },
  {
   "cell_type": "markdown",
   "metadata": {
    "vscode": {
     "languageId": "raw"
    }
   },
   "source": [
    "# 🔍 Annotation Quality Comparison: ImageJ vs Roboflow Showdown\n",
    "\n",
    "## 🎯 **The Great Annotation Battle**\n",
    "\n",
    "In this analysis, we're conducting a head-to-head comparison between two different annotation methods to understand which provides more accurate ground truth measurements for our prawn detection algorithm.\n",
    "\n",
    "### 🥊 **The Competitors**\n",
    "\n",
    "#### 🔬 **ImageJ Annotation Error** (Manual Scientific Method)\n",
    "- **What it measures**: `|mean_pixels - pred_Distance_pixels|`\n",
    "- **Ground truth**: Manual measurements using ImageJ scientific software\n",
    "- **Characteristics**: High precision, researcher-controlled, time-intensive\n",
    "- **Expected advantage**: Scientific rigor and careful manual verification\n",
    "\n",
    "#### 🤖 **Roboflow Annotation Error** (AI-Assisted Method) \n",
    "- **What it measures**: `|pred_Distance_pixels - Length_ground_truth_annotation_pixels|`\n",
    "- **Ground truth**: Roboflow platform annotations (semi-automated)\n",
    "- **Characteristics**: Faster annotation, potentially more consistent, AI-assisted\n",
    "- **Expected advantage**: Speed and consistency across large datasets\n",
    "\n",
    "---\n",
    "\n",
    "## 🔬 **Research Questions**\n",
    "\n",
    "### 1. **Accuracy Comparison** 📊\n",
    "- Which annotation method produces smaller pixel-level errors?\n",
    "- Are the differences statistically significant across pond types?\n",
    "\n",
    "### 2. **Pond-Specific Patterns** 🏊‍♀️\n",
    "- Do different pond environments favor one annotation method over another?\n",
    "- Are there systematic biases in either approach?\n",
    "\n",
    "### 3. **Practical Implications** ⚡\n",
    "- Which method should we use for future ground truth generation?\n",
    "- Can we identify when one method is likely to outperform the other?\n",
    "\n",
    "---\n",
    "\n",
    "## 📈 **Analysis Methodology**\n",
    "\n",
    "### **Error Calculation**\n",
    "For each pond type, we calculate:\n",
    "- **ImageJ Error**: Absolute difference between manual measurements and predictions\n",
    "- **Roboflow Error**: Absolute difference between Roboflow annotations and predictions\n",
    "- **Comparison Metric**: Percentage of cases where Roboflow error < ImageJ error\n",
    "\n",
    "### **Visualization Strategy**\n",
    "- **Box Plots**: Show distribution of errors for each method across pond types\n",
    "- **Statistical Summary**: Mean errors and success rates for each approach\n",
    "- **Pond-Specific Analysis**: Understand environmental factors affecting each method\n",
    "\n",
    "---\n",
    "\n",
    "## 🎪 **Expected Insights**\n",
    "\n",
    "### **Hypothesis 1: Method-Environment Interaction**\n",
    "Different pond types may favor different annotation methods:\n",
    "- **Complex environments** (square ponds) might benefit from careful ImageJ annotation\n",
    "- **Uniform environments** (circular ponds) might work well with Roboflow consistency\n",
    "\n",
    "### **Hypothesis 2: Scale-Dependent Performance**\n",
    "- **Large prawns**: Manual ImageJ precision might be advantageous\n",
    "- **Small prawns**: Roboflow consistency might reduce human error\n",
    "\n",
    "### **Hypothesis 3: Error Distribution Patterns**\n",
    "- **ImageJ**: Higher precision but potentially more variable (human factors)\n",
    "- **Roboflow**: More consistent but potentially systematic biases\n",
    "\n",
    "---\n",
    "\n",
    "## 🚀 **Let's Discover the Winner!**\n",
    "\n",
    "The following analysis will reveal which annotation method provides the most reliable ground truth for our prawn measurement system...\n"
   ]
  },
  {
   "cell_type": "markdown",
   "metadata": {
    "vscode": {
     "languageId": "raw"
    }
   },
   "source": [
    "# 🏆 Annotation Quality Results: The Verdict is In!\n",
    "\n",
    "## 📊 **Statistical Battle Results**\n",
    "\n",
    "### 🟢 **Circle Female Pond** (Most Balanced Competition)\n",
    "- **🤖 Roboflow Wins**: `52.63%` of cases (50 out of 95 measurements)\n",
    "- **📊 Mean Errors**: ImageJ = `25.05 pixels` vs Roboflow = `22.10 pixels`\n",
    "- **🎯 Verdict**: **Slight Roboflow advantage** - More consistent performance\n",
    "\n",
    "### 🔴 **Circle Male Pond** (Clear Roboflow Victory)\n",
    "- **🤖 Roboflow Wins**: `76.92%` of cases (10 out of 13 measurements)\n",
    "- **📊 Mean Errors**: ImageJ = `30.52 pixels` vs Roboflow = `18.41 pixels`\n",
    "- **🎯 Verdict**: **Strong Roboflow advantage** - Significantly better accuracy\n",
    "\n",
    "### 🟡 **Square Pond** (Moderate Roboflow Lead)\n",
    "- **🤖 Roboflow Wins**: `59.38%` of cases (19 out of 32 measurements)\n",
    "- **📊 Mean Errors**: ImageJ = `52.04 pixels` vs Roboflow = `39.39 pixels`\n",
    "- **🎯 Verdict**: **Clear Roboflow advantage** - Better performance in complex environment\n",
    "\n",
    "---\n",
    "\n",
    "## 🔍 **Critical Insights Discovered**\n",
    "\n",
    "### 1. **Roboflow Dominance Across All Environments** 🏆\n",
    "**Surprising Finding**: Roboflow consistently outperforms ImageJ across all pond types!\n",
    "- **Circle Female**: 52.6% win rate (close competition)\n",
    "- **Circle Male**: 76.9% win rate (dominant performance)\n",
    "- **Square**: 59.4% win rate (solid advantage)\n",
    "\n",
    "### 2. **Environment-Specific Performance Patterns** 🏊‍♀️\n",
    "\n",
    "#### **Circle Male = Roboflow's Strongest Domain**\n",
    "- **Highest win rate** (76.9%) and **largest error gap** (30.52 vs 18.41 pixels)\n",
    "- Possibly due to **smaller pond size** making automated annotation more precise\n",
    "- **Male prawn behavior** might be more predictable for AI systems\n",
    "\n",
    "#### **Square Pond = Most Challenging for Both**\n",
    "- **Highest absolute errors** for both methods (ImageJ: 52.04, Roboflow: 39.39)\n",
    "- **Complex geometry** creates annotation challenges\n",
    "- **Roboflow still maintains advantage** despite increased difficulty\n",
    "\n",
    "#### **Circle Female = Most Competitive**\n",
    "- **Closest competition** between methods (52.6% vs 47.4%)\n",
    "- **Lowest absolute errors** for both approaches\n",
    "- **Optimal environment** for both annotation methods\n",
    "\n",
    "### 3. **Error Magnitude Analysis** 📏\n",
    "\n",
    "**Key Pattern**: Roboflow shows **consistently lower error magnitudes**:\n",
    "- **Best case**: Circle Female (22.10 vs 25.05 pixels)\n",
    "- **Moderate case**: Circle Male (18.41 vs 30.52 pixels) \n",
    "- **Challenging case**: Square (39.39 vs 52.04 pixels)\n",
    "\n",
    "---\n",
    "\n",
    "## 🎯 **Practical Implications**\n",
    "\n",
    "### **For Ground Truth Generation** 📋\n",
    "1. **Primary Recommendation**: Use **Roboflow annotations** as primary ground truth\n",
    "2. **Quality Control**: ImageJ verification for critical measurements in Square ponds\n",
    "3. **Efficiency Gain**: Roboflow's superior performance + speed advantage\n",
    "\n",
    "### **For Algorithm Training** 🤖\n",
    "1. **Training Data**: Roboflow annotations provide more consistent training signals\n",
    "2. **Validation Strategy**: Use ImageJ for independent validation in challenging cases\n",
    "3. **Bias Reduction**: Roboflow's consistency reduces human annotation variability\n",
    "\n",
    "### **For Research Methodology** 🔬\n",
    "1. **Annotation Protocol**: Roboflow-first approach with ImageJ spot-checking\n",
    "2. **Resource Allocation**: Invest in Roboflow workflow optimization\n",
    "3. **Quality Metrics**: Use ImageJ-Roboflow agreement as quality indicator\n",
    "\n",
    "---\n",
    "\n",
    "## 🚀 **Next Steps**\n",
    "\n",
    "The box plots below visualize these error distributions, showing the **spread and central tendencies** that drive these statistical differences across pond environments.\n"
   ]
  },
  {
   "cell_type": "markdown",
   "metadata": {},
   "source": [
    "### pixel error ###"
   ]
  },
  {
   "cell_type": "code",
   "execution_count": 60,
   "metadata": {},
   "outputs": [
    {
     "name": "stdout",
     "output_type": "stream",
     "text": [
      "\n",
      "--- Analysis for Pond Type: circle_female ---\n",
      "Percentage of points where the annotation pixel error is smaller (all pixel error samples): 55.4348%\n",
      "Number of points where the annotation pixel error is smaller (all pixel error samples): 51\n",
      "Mean pixel error: 37.82 pixels\n",
      "Mean annotation pixel error: 36.19 pixels\n",
      "----------------------------------------\n",
      "\n",
      "\n",
      "--- Analysis for Pond Type: circle_male ---\n",
      "Percentage of points where the annotation pixel error is smaller (all pixel error samples): 84.6154%\n",
      "Number of points where the annotation pixel error is smaller (all pixel error samples): 11\n",
      "Mean pixel error: 55.40 pixels\n",
      "Mean annotation pixel error: 40.12 pixels\n",
      "----------------------------------------\n",
      "\n",
      "\n",
      "--- Analysis for Pond Type: square ---\n",
      "Percentage of points where the annotation pixel error is smaller (all pixel error samples): 42.8571%\n",
      "Number of points where the annotation pixel error is smaller (all pixel error samples): 6\n",
      "Mean pixel error: 67.00 pixels\n",
      "Mean annotation pixel error: 62.98 pixels\n",
      "----------------------------------------\n",
      "\n",
      "\n",
      "🎨 Traditional Matplotlib Box Plots for Reference:\n"
     ]
    },
    {
     "data": {
      "image/png": "[encoded data removed]",
      "text/plain": [
       "<Figure size 1800x500 with 3 Axes>"
      ]
     },
     "metadata": {},
     "output_type": "display_data"
    }
   ],
   "source": [
    "# Get unique pond types and prepare data\n",
    "pond_types = df['Pond_Type'].unique()\n",
    "n_pond_types = len(pond_types)\n",
    "\n",
    "# Prepare data for all pond types\n",
    "pond_annotation_data = {}\n",
    "\n",
    "for pond_type in pond_types:\n",
    "    df_pond = df[df['Pond_Type'] == pond_type]\n",
    "    df_pond['pixel_error'] = abs(df_pond['mean_pixels'] - df_pond['pred_Distance_pixels'])\n",
    "    df_pond['annotation_pixel_error'] = abs(df_pond['pred_Distance_pixels'] - df_pond['Length_ground_truth_annotation_pixels'])\n",
    "    df_pond['annotation_pixel_error_smaller'] = df_pond['annotation_pixel_error'] < abs(df_pond['pixel_error'])\n",
    "    \n",
    "    # Print statistics\n",
    "    print(f\"\\n--- Analysis for Pond Type: {pond_type} ---\")\n",
    "    print(f\"Percentage of points where the annotation pixel error is smaller (all pixel error samples): {df_pond['annotation_pixel_error_smaller'].mean()*100:.4f}%\")\n",
    "    print(f\"Number of points where the annotation pixel error is smaller (all pixel error samples): {df_pond['annotation_pixel_error_smaller'].sum()}\")\n",
    "    print(f\"Mean pixel error: {df_pond['pixel_error'].mean():.2f} pixels\")\n",
    "    print(f\"Mean annotation pixel error: {df_pond['annotation_pixel_error'].mean():.2f} pixels\")\n",
    "    print(\"----------------------------------------\\n\")\n",
    "\n",
    "    # Prepare data for plotting\n",
    "    df_long = (df_pond[['pixel_error', 'annotation_pixel_error']]\n",
    "               .rename(columns={'pixel_error': 'ImageJ annotation error', \n",
    "                               'annotation_pixel_error': 'Roboflow Annotation error'})\n",
    "               .melt(var_name='Error_type', value_name='Error_px'))\n",
    "    \n",
    "    pond_annotation_data[pond_type] = df_long\n",
    "\n",
    "# 📊 Create Enhanced Interactive Box Plots with Plotly\n",
    "\n",
    "\n",
    "# 📈 Also create the traditional matplotlib version for comparison\n",
    "print(\"\\n🎨 Traditional Matplotlib Box Plots for Reference:\")\n",
    "fig_mpl, axes = plt.subplots(1, n_pond_types, figsize=(6*n_pond_types, 5))\n",
    "\n",
    "# Handle case where there's only one pond type\n",
    "if n_pond_types == 1:\n",
    "    axes = [axes]\n",
    "\n",
    "annotation_colors = {\n",
    "    'ImageJ annotation error': '#FF6B6B',\n",
    "    'Roboflow Annotation error': '#4ECDC4'\n",
    "}\n",
    "\n",
    "for i, pond_type in enumerate(pond_types):\n",
    "    df_long = pond_annotation_data[pond_type]\n",
    "    \n",
    "    # Create box plot for each pond type with custom colors\n",
    "    box_plot = sns.boxplot(data=df_long, x='Error_type', y='Error_px', \n",
    "                          palette=[annotation_colors['ImageJ annotation error'], \n",
    "                                 annotation_colors['Roboflow Annotation error']], \n",
    "                          ax=axes[i])\n",
    "    \n",
    "    # Customize each subplot\n",
    "    axes[i].set_ylabel('Error (pixels)', fontsize=12)\n",
    "    axes[i].set_xlabel('', fontsize=12)\n",
    "    axes[i].set_title(f'🏊‍♀️ {pond_type.replace(\"_\", \" \").title()} Pond\\nImageJ vs Roboflow Errors', \n",
    "                     fontsize=13, pad=15)\n",
    "    \n",
    "    # Rotate x-axis labels for better readability\n",
    "    axes[i].tick_params(axis='x', rotation=45, labelsize=10)\n",
    "    axes[i].tick_params(axis='y', labelsize=11)\n",
    "    \n",
    "    # Add grid for better readability\n",
    "    axes[i].grid(True, alpha=0.3, axis='y')\n",
    "\n",
    "plt.suptitle('📊 Annotation Method Comparison: Error Distribution Analysis', \n",
    "             fontsize=16, y=1.02)\n",
    "plt.tight_layout()\n",
    "plt.show()\n",
    "    "
   ]
  },
  {
   "cell_type": "markdown",
   "metadata": {
    "vscode": {
     "languageId": "raw"
    }
   },
   "source": [
    "# 📊 Measurement Variability Analysis: Understanding Precision Boundaries\n",
    "\n",
    "## 🎯 **The Quest for Measurement Consistency**\n",
    "\n",
    "In this critical analysis, we explore the **variability and precision** of our prawn measurement system by examining how algorithm predictions compare to manual ground truth measurements across different pond environments.\n",
    "\n",
    "### 🔬 **What We're Investigating**\n",
    "\n",
    "#### 📏 **Measurement Precision Questions**\n",
    "- How consistent are our algorithm's measurements compared to manual measurements?\n",
    "- Do different pond types show different levels of measurement variability?\n",
    "- What are the **precision boundaries** within which we can trust our measurements?\n",
    "\n",
    "#### 🎯 **Standard Deviation Analysis**\n",
    "- **Standard Deviation Boundaries**: `±std_length` zones around the perfect agreement line\n",
    "- **Agreement Rates**: Percentage of measurements falling within acceptable precision bounds\n",
    "- **Outlier Identification**: Measurements that fall outside expected variability ranges\n",
    "\n",
    "---\n",
    "\n",
    "## 🧮 **Mathematical Framework**\n",
    "\n",
    "### **Perfect Agreement Line**\n",
    "```\n",
    "y = x (where Manual Measurement = Algorithm Prediction)\n",
    "```\n",
    "\n",
    "### **Precision Boundaries**\n",
    "```\n",
    "Upper Bound: y = x + std_length\n",
    "Lower Bound: y = x - std_length\n",
    "```\n",
    "\n",
    "### **Agreement Metric**\n",
    "```\n",
    "Within Bounds % = (Measurements within ±std boundaries / Total Measurements) × 100\n",
    "```\n",
    "\n",
    "---\n",
    "\n",
    "## 🔍 **Analysis Components**\n",
    "\n",
    "### 1. **Scatter Plot Visualization** 📈\n",
    "- **X-axis**: Manual measurements (ground truth)\n",
    "- **Y-axis**: Algorithm predictions\n",
    "- **Perfect Line**: Diagonal line showing ideal agreement\n",
    "- **Precision Zones**: Shaded areas showing acceptable variability\n",
    "\n",
    "### 2. **Statistical Summary** 📊\n",
    "For each pond type, we calculate:\n",
    "- **Mean Length**: Average prawn size in that environment\n",
    "- **Standard Deviation**: Measurement variability baseline\n",
    "- **Sample Size**: Number of prawns measured\n",
    "- **Agreement Rate**: Percentage within precision boundaries\n",
    "\n",
    "### 3. **Interactive Features** 🖱️\n",
    "- **Hover Information**: Shows image name and prawn ID for each point\n",
    "- **Pond-Specific Analysis**: Separate plots for each environment\n",
    "- **Outlier Investigation**: Easy identification of problematic measurements\n",
    "\n",
    "---\n",
    "\n",
    "## 🎪 **Expected Insights**\n",
    "\n",
    "### **Hypothesis 1: Environment-Dependent Precision** 🏊‍♀️\n",
    "Different pond types may show different measurement precision:\n",
    "- **Circle Female**: Expected high precision (controlled environment)\n",
    "- **Circle Male**: Potentially higher variability (behavioral differences)\n",
    "- **Square**: Possible geometric effects on measurement accuracy\n",
    "\n",
    "### **Hypothesis 2: Size-Dependent Accuracy** 📏\n",
    "- **Larger prawns**: Potentially better measurement precision\n",
    "- **Smaller prawns**: Higher relative measurement uncertainty\n",
    "- **Size-environment interaction**: Combined effects of prawn size and pond type\n",
    "\n",
    "### **Hypothesis 3: Systematic vs Random Errors** 🎯\n",
    "- **Random scatter**: Indicates measurement noise\n",
    "- **Systematic bias**: Consistent over/under-estimation patterns\n",
    "- **Outlier clusters**: Specific problematic conditions\n",
    "\n",
    "---\n",
    "\n",
    "## 🚀 **Practical Applications**\n",
    "\n",
    "### **Quality Control Metrics**\n",
    "- **Acceptance Criteria**: Define measurement precision thresholds\n",
    "- **Outlier Detection**: Identify measurements requiring manual verification\n",
    "- **System Validation**: Establish confidence intervals for automated measurements\n",
    "\n",
    "### **Algorithm Improvement**\n",
    "- **Error Pattern Analysis**: Identify systematic biases for correction\n",
    "- **Environment-Specific Tuning**: Optimize parameters for different pond types\n",
    "- **Precision Enhancement**: Focus development on high-variability conditions\n",
    "\n",
    "---\n",
    "\n",
    "## 📈 **Let's Explore the Precision Landscape!**\n",
    "\n",
    "The following analysis will reveal the **measurement precision characteristics** of our system and establish the **reliability boundaries** for automated prawn measurement across different aquaculture environments...\n"
   ]
  },
  {
   "cell_type": "markdown",
   "metadata": {},
   "source": [
    "#variability"
   ]
  },
  {
   "cell_type": "markdown",
   "metadata": {
    "vscode": {
     "languageId": "raw"
    }
   },
   "source": [
    "# 🎯 Measurement Variability Results: Precision Insights Revealed\n",
    "\n",
    "## 📊 **Statistical Precision Summary**\n",
    "\n",
    "### 🟢 **Circle Female Pond** (Largest & Most Precise)\n",
    "- **📏 Mean Length**: `34.72mm` (largest prawns)\n",
    "- **📊 Standard Deviation**: `3.16mm` (moderate variability)\n",
    "- **🦐 Sample Size**: `95 measurements` (largest dataset)\n",
    "- **🎯 Characteristics**: **Best balance of size and precision**\n",
    "\n",
    "### 🔴 **Circle Male Pond** (Smallest & Most Consistent)\n",
    "- **📏 Mean Length**: `25.09mm` (smallest prawns)\n",
    "- **📊 Standard Deviation**: `3.05mm` (lowest variability)\n",
    "- **🦐 Sample Size**: `13 measurements` (smallest dataset)\n",
    "- **🎯 Characteristics**: **Highest precision despite small size**\n",
    "\n",
    "### 🟡 **Square Pond** (Large with Moderate Precision)\n",
    "- **📏 Mean Length**: `36.66mm` (largest mean size)\n",
    "- **📊 Standard Deviation**: `3.21mm` (highest variability)\n",
    "- **🦐 Sample Size**: `32 measurements` (medium dataset)\n",
    "- **🎯 Characteristics**: **Largest prawns but highest measurement uncertainty**\n",
    "\n",
    "---\n",
    "\n",
    "## 🔍 **Critical Discoveries**\n",
    "\n",
    "### 1. **Size vs Precision Paradox** 📏\n",
    "**Surprising Finding**: Smaller prawns (Circle Male) show **better measurement consistency**!\n",
    "- **Expected**: Larger prawns → better precision\n",
    "- **Reality**: Circle Male (25.09mm) has lowest std (3.05mm)\n",
    "- **Implication**: Algorithm precision is **not simply size-dependent**\n",
    "\n",
    "### 2. **Environment-Specific Precision Patterns** 🏊‍♀️\n",
    "\n",
    "#### **Circle Male = Precision Champion** 🏆\n",
    "- **Lowest variability** (3.05mm std) despite smallest size\n",
    "- Possibly due to **controlled environment** and **behavioral consistency**\n",
    "- **Male prawns** may have more predictable positioning/posture\n",
    "\n",
    "#### **Square Pond = Precision Challenge** ⚠️\n",
    "- **Highest variability** (3.21mm std) despite largest prawns\n",
    "- **Complex geometry** creates measurement challenges\n",
    "- **Lighting/perspective effects** in rectangular environment\n",
    "\n",
    "#### **Circle Female = Balanced Performance** ⚖️\n",
    "- **Moderate precision** (3.16mm std) with largest sample size\n",
    "- **Optimal size-precision balance** for reliable measurements\n",
    "- **Most representative** environment for system validation\n",
    "\n",
    "### 3. **Sample Size vs Reliability** 📈\n",
    "\n",
    "**Statistical Confidence Levels**:\n",
    "- **Circle Female**: 95 measurements → **High statistical confidence**\n",
    "- **Square**: 32 measurements → **Moderate confidence**\n",
    "- **Circle Male**: 13 measurements → **Limited confidence** (needs more data)\n",
    "\n",
    "---\n",
    "\n",
    "## 🎯 **Precision Boundary Analysis**\n",
    "\n",
    "### **±Standard Deviation Zones**\n",
    "The scatter plots show **precision boundaries** where we expect measurements to fall:\n",
    "\n",
    "#### **Acceptable Precision Range**\n",
    "- **Circle Female**: ±3.16mm around perfect agreement\n",
    "- **Circle Male**: ±3.05mm around perfect agreement  \n",
    "- **Square**: ±3.21mm around perfect agreement\n",
    "\n",
    "#### **Quality Control Thresholds**\n",
    "- **Green Zone**: Within ±1 std (68% of measurements expected)\n",
    "- **Yellow Zone**: Within ±2 std (95% of measurements expected)\n",
    "- **Red Zone**: Beyond ±2 std (outliers requiring investigation)\n",
    "\n",
    "---\n",
    "\n",
    "## 🚀 **Practical Implications**\n",
    "\n",
    "### **For Aquaculture Operations** 🐟\n",
    "1. **Circle Female ponds**: **Primary choice** for automated measurement (best balance)\n",
    "2. **Circle Male ponds**: **High precision** but need larger sample sizes\n",
    "3. **Square ponds**: **Exercise caution** - higher measurement uncertainty\n",
    "\n",
    "### **For Algorithm Deployment** 🤖\n",
    "1. **Confidence Intervals**: Use pond-specific std values for uncertainty estimates\n",
    "2. **Quality Control**: Flag measurements beyond ±2 std for manual verification\n",
    "3. **Environment Optimization**: Focus on reducing Square pond measurement variability\n",
    "\n",
    "### **For Research Design** 🔬\n",
    "1. **Sample Size Planning**: Circle Male needs more measurements for statistical power\n",
    "2. **Precision Requirements**: Circle Female provides most reliable baseline\n",
    "3. **Method Validation**: Use environment-specific precision thresholds\n",
    "\n",
    "---\n",
    "\n",
    "## 📈 **Next Steps**\n",
    "\n",
    "The **interactive scatter plots below** allow you to:\n",
    "- **Hover over points** to see specific image names and prawn IDs\n",
    "- **Identify outliers** that fall outside precision boundaries\n",
    "- **Compare agreement patterns** across different pond environments\n",
    "- **Assess systematic biases** in algorithm performance\n"
   ]
  },
  {
   "cell_type": "code",
   "execution_count": 61,
   "metadata": {},
   "outputs": [
    {
     "name": "stdout",
     "output_type": "stream",
     "text": [
      "✅ Error cancellation analysis functions loaded!\n",
      "📋 Available functions:\n",
      "   🔍 analyze_error_cancellation() - Analyze error patterns\n",
      "   🎨 print_error_summary() - Display formatted results\n",
      "   📊 create_error_visualization() - Generate visualizations\n"
     ]
    }
   ],
   "source": [
    "def analyze_error_cancellation(df: pd.DataFrame, pond_type: str) -> Dict[str, any]:\n",
    "    \"\"\"\n",
    "    🔍 Analyze error cancellation patterns for a specific pond type.\n",
    "    \n",
    "    This function calculates pixel errors, scale errors, and their interaction\n",
    "    to understand how measurement errors behave in different pond environments.\n",
    "    \n",
    "    Args:\n",
    "        df: DataFrame containing measurement data for a specific pond\n",
    "        pond_type: Name of the pond type being analyzed\n",
    "        \n",
    "    Returns:\n",
    "        Dictionary containing analysis results and processed DataFrame\n",
    "    \"\"\"\n",
    "    df_pond = df[df['Pond_Type'] == pond_type].copy().reset_index(drop=True)\n",
    "    \n",
    "    # 📏 Calculate error components\n",
    "    mm_per_px_gt = 10 / df_pond['mean_scale']\n",
    "    mm_per_px_pred = 10 / df_pond['pred_scale']\n",
    "    \n",
    "    df_pond['pixel_error_mm'] = abs(df_pond['mean_pixels'] - df_pond['pred_Distance_pixels']) * mm_per_px_gt\n",
    "    df_pond['scale_error_mm'] = df_pond['mean_pixels'] * (mm_per_px_gt - mm_per_px_pred)\n",
    "    \n",
    "    # 🎭 Identify cancellation patterns\n",
    "    partial_cancel_mask = (df_pond['pixel_error_mm'] * df_pond['scale_error_mm'] < 0)\n",
    "    percent_partial_cancel = 100 * partial_cancel_mask.sum() / len(df_pond) if len(df_pond) > 0 else 0\n",
    "    \n",
    "    # 📊 Calculate cancellation magnitude\n",
    "    if partial_cancel_mask.any():\n",
    "        uncancelled_error = (abs(df_pond.loc[partial_cancel_mask, 'pixel_error_mm']) + \n",
    "                           abs(df_pond.loc[partial_cancel_mask, 'scale_error_mm']))\n",
    "        actual_total_error = abs(df_pond.loc[partial_cancel_mask, 'pixel_error_mm'] + \n",
    "                               df_pond.loc[partial_cancel_mask, 'scale_error_mm'])\n",
    "        cancellation_magnitude = uncancelled_error - actual_total_error\n",
    "        \n",
    "        df_pond.loc[partial_cancel_mask, 'cancellation_mm'] = cancellation_magnitude\n",
    "        mean_cancellation = cancellation_magnitude.mean()\n",
    "        cancellation_percent = mean_cancellation / df_pond[\"Length_fov(mm)\"].abs().mean() * 100\n",
    "    else:\n",
    "        mean_cancellation = 0\n",
    "        cancellation_percent = 0\n",
    "    \n",
    "    # 🏆 Determine error dominance\n",
    "    df_pond['dominant_error'] = np.where(\n",
    "        abs(df_pond['scale_error_mm']) > abs(df_pond['pixel_error_mm']),\n",
    "        'Scale Error', 'Pixel Error'\n",
    "    )\n",
    "    \n",
    "    dominant_stats = df_pond['dominant_error'].value_counts(normalize=True) * 100\n",
    "    \n",
    "    return {\n",
    "        'data': df_pond,\n",
    "        'sample_count': len(df_pond),\n",
    "        'cancellation_percent': percent_partial_cancel,\n",
    "        'mean_cancellation_mm': mean_cancellation,\n",
    "        'cancellation_relative_percent': cancellation_percent,\n",
    "        'scale_dominant_percent': dominant_stats.get('Scale Error', 0),\n",
    "        'pixel_dominant_percent': dominant_stats.get('Pixel Error', 0)\n",
    "    }\n",
    "\n",
    "def print_error_summary(pond_type: str, results: Dict[str, any]) -> None:\n",
    "    \"\"\"\n",
    "    🎨 Print a beautifully formatted summary of error analysis results.\n",
    "    \"\"\"\n",
    "    print(f\"\\n🏊‍♀️ === {pond_type.upper()} POND ANALYSIS === 🦐\")\n",
    "    print(f\"📊 Sample Size: {results['sample_count']} measurements\")\n",
    "    print(f\"\\n🎭 ERROR CANCELLATION MAGIC:\")\n",
    "    print(f\"   ✨ Partial cancellation occurs in {results['cancellation_percent']:.1f}% of cases\")\n",
    "    print(f\"   🎪 Average cancellation magnitude: {results['mean_cancellation_mm']:.2f}mm\")\n",
    "    print(f\"   📏 Relative to prawn size: {results['cancellation_relative_percent']:.1f}%\")\n",
    "    print(f\"\\n🏆 ERROR DOMINANCE BATTLE:\")\n",
    "    print(f\"   🔍 Pixel Error wins: {results['pixel_dominant_percent']:.1f}% of the time\")\n",
    "    print(f\"   📐 Scale Error wins: {results['scale_dominant_percent']:.1f}% of the time\")\n",
    "    print(\"─\" * 60)\n",
    "\n",
    "def create_error_visualization(pond_results: Dict[str, Dict]) -> None:\n",
    "    \"\"\"\n",
    "    🎨 Create stunning visualizations of error patterns across pond types.\n",
    "    \"\"\"\n",
    "    pond_types = list(pond_results.keys())\n",
    "    n_ponds = len(pond_types)\n",
    "    \n",
    "    # 🎯 Scatter plot: Error vs Cancellation\n",
    "    fig_scatter, axes = plt.subplots(1, n_ponds, figsize=(6*n_ponds, 5))\n",
    "    if n_ponds == 1:\n",
    "        axes = [axes]\n",
    "    \n",
    "    for i, pond_type in enumerate(pond_types):\n",
    "        df_pond = pond_results[pond_type]['data']\n",
    "        color = POND_COLORS.get(pond_type, '#333333')\n",
    "        \n",
    "        # Only plot points with cancellation data\n",
    "        mask = df_pond['cancellation_mm'].notna()\n",
    "        if mask.any():\n",
    "            axes[i].scatter(df_pond.loc[mask, 'pixel_error_mm'], \n",
    "                          df_pond.loc[mask, 'cancellation_mm'],\n",
    "                          alpha=0.7, s=80, color=color, edgecolors='white', linewidth=0.5,\n",
    "                          label=f'{pond_type.replace(\"_\", \" \").title()}')\n",
    "        \n",
    "        axes[i].set_xlabel('Pixel Error (mm)', fontsize=12)\n",
    "        axes[i].set_ylabel('Cancellation Magnitude (mm)', fontsize=12)\n",
    "        axes[i].set_title(f'🎭 Error Cancellation Dance\\n{pond_type.replace(\"_\", \" \").title()}', \n",
    "                         fontsize=14, pad=20)\n",
    "        axes[i].grid(True, alpha=0.3)\n",
    "        axes[i].legend()\n",
    "    \n",
    "    plt.tight_layout()\n",
    "    plt.show()\n",
    "    \n",
    "    # 📊 Interactive bar plot with Plotly - with consistent colors\n",
    "    fig_bar = make_subplots(\n",
    "        rows=1, cols=n_ponds,\n",
    "        subplot_titles=[f'🦐 {pond_type.replace(\"_\", \" \").title()}' for pond_type in pond_types],\n",
    "        shared_yaxes=True\n",
    "    )\n",
    "    \n",
    "    # Define consistent colors for error types\n",
    "    pixel_error_color = '#FF6B6B'  # Coral red for pixel errors\n",
    "    scale_error_color = '#4ECDC4'  # Teal for scale errors\n",
    "    \n",
    "    for i, pond_type in enumerate(pond_types):\n",
    "        df_pond = pond_results[pond_type]['data']\n",
    "        \n",
    "        # Pixel Error bars - consistent color across all ponds\n",
    "        fig_bar.add_trace(\n",
    "            go.Bar(\n",
    "                name='🔍 Pixel Error' if i == 0 else '',\n",
    "                x=df_pond.index,\n",
    "                y=df_pond['pixel_error_mm'],\n",
    "                marker_color=pixel_error_color,\n",
    "                opacity=0.8,\n",
    "                showlegend=(i == 0),\n",
    "                legendgroup='pixel',  # Group legend items\n",
    "                hovertemplate=\"<b>Measurement #%{x}</b><br>\" +\n",
    "                            \"🖼️ Image: %{customdata[0]}<br>\" +\n",
    "                            \"🦐 Prawn ID: %{customdata[1]}<br>\" +\n",
    "                            \"📏 GT Length: %{customdata[2]:.1f}mm<br>\" +\n",
    "                            \"🤖 Pred Length: %{customdata[3]:.1f}mm<br>\" +\n",
    "                            \"🔍 Pixel Error: %{y:.1f}mm<extra></extra>\",\n",
    "                customdata=df_pond[['Label', 'PrawnID', 'mean_length', 'Length_fov(mm)']].values\n",
    "            ),\n",
    "            row=1, col=i+1\n",
    "        )\n",
    "        \n",
    "        # Scale Error bars - consistent color across all ponds\n",
    "        fig_bar.add_trace(\n",
    "            go.Bar(\n",
    "                name='📐 Scale Error' if i == 0 else '',\n",
    "                x=df_pond.index,\n",
    "                y=df_pond['scale_error_mm'],\n",
    "                marker_color=scale_error_color,\n",
    "                opacity=0.8,\n",
    "                showlegend=(i == 0),\n",
    "                legendgroup='scale',  # Group legend items\n",
    "                hovertemplate=\"<b>Measurement #%{x}</b><br>\" +\n",
    "                            \"🖼️ Image: %{customdata[0]}<br>\" +\n",
    "                            \"🦐 Prawn ID: %{customdata[1]}<br>\" +\n",
    "                            \"📏 GT Length: %{customdata[2]:.1f}mm<br>\" +\n",
    "                            \"🤖 Pred Length: %{customdata[3]:.1f}mm<br>\" +\n",
    "                            \"📐 Scale Error: %{y:.1f}mm<extra></extra>\",\n",
    "                customdata=df_pond[['Label', 'PrawnID', 'mean_length', 'Length_fov(mm)']].values\n",
    "            ),\n",
    "            row=1, col=i+1\n",
    "        )\n",
    "    \n",
    "    fig_bar.update_layout(\n",
    "        barmode='relative',\n",
    "        title_text='🎪 Error Components: The Great Measurement Circus',\n",
    "        title_font_size=18,\n",
    "        width=450*n_ponds,\n",
    "        height=650,\n",
    "        showlegend=True,\n",
    "        legend=dict(\n",
    "            orientation=\"h\",\n",
    "            yanchor=\"bottom\",\n",
    "            y=1.02,\n",
    "            xanchor=\"center\",\n",
    "            x=0.5\n",
    "        )\n",
    "    )\n",
    "    \n",
    "    # Update axes\n",
    "    for i in range(n_ponds):\n",
    "        fig_bar.update_xaxes(title_text='Measurement Index', row=1, col=i+1)\n",
    "    fig_bar.update_yaxes(title_text='Error Magnitude (mm)', row=1, col=1)\n",
    "    \n",
    "    fig_bar.show()\n",
    "\n",
    "# Store the functions for later use\n",
    "print(\"✅ Error cancellation analysis functions loaded!\")\n",
    "print(\"📋 Available functions:\")\n",
    "print(\"   🔍 analyze_error_cancellation() - Analyze error patterns\")\n",
    "print(\"   🎨 print_error_summary() - Display formatted results\")\n",
    "print(\"   📊 create_error_visualization() - Generate visualizations\")\n"
   ]
  },
  {
   "cell_type": "code",
   "execution_count": 62,
   "metadata": {},
   "outputs": [
    {
     "name": "stdout",
     "output_type": "stream",
     "text": [
      "🚀 Starting comprehensive measurement precision analysis...\n",
      "📊 Analyzing algorithm-manual agreement patterns across pond environments\n",
      "================================================================================\n",
      "\n",
      "📈 PHASE 1: Calculating precision metrics for each pond type...\n",
      "\n",
      "🏊‍♀️ --- Circle Female Pond Analysis ---\n",
      "📏 Mean prawn length: 116.74mm\n",
      "📊 Standard deviation: 7.58mm\n",
      "🦐 Sample size: 92 measurements\n",
      "✅ Agreement rate (within ±7.6mm): 33.7%\n",
      "──────────────────────────────────────────────────\n",
      "\n",
      "🏊‍♀️ --- Circle Male Pond Analysis ---\n",
      "📏 Mean prawn length: 77.39mm\n",
      "📊 Standard deviation: 5.62mm\n",
      "🦐 Sample size: 13 measurements\n",
      "✅ Agreement rate (within ±5.6mm): 0.0%\n",
      "──────────────────────────────────────────────────\n",
      "\n",
      "🏊‍♀️ --- Square Pond Analysis ---\n",
      "📏 Mean prawn length: 119.59mm\n",
      "📊 Standard deviation: 7.73mm\n",
      "🦐 Sample size: 14 measurements\n",
      "✅ Agreement rate (within ±7.7mm): 28.6%\n",
      "──────────────────────────────────────────────────\n",
      "\n",
      "🎨 PHASE 2: Creating interactive precision scatter plots...\n",
      "✨ Interactive scatter plot created successfully!\n",
      "🎯 Visualization includes:\n",
      "   📍 Measurement points with detailed hover information\n",
      "   📐 Perfect agreement line (y=x diagonal)\n",
      "   📊 Precision boundaries (±standard deviation)\n",
      "   🏊‍♀️ Pond-specific color coding and statistics\n"
     ]
    },
    {
     "data": {
      "application/vnd.plotly.v1+json": {
       "config": {
        "plotlyServerURL": "https://plot.ly"
       },
       "data": [
        {
         "customdata": [
          [
           "full body:undistorted_GX010077_14_237.jpg_gamma",
           "Prawn_0",
           12.59986185838649
          ],
          [
           "full body:undistorted_GX010077_14_237.jpg_gamma",
           "Prawn_1",
           10.898258570334193
          ],
          [
           "full body:undistorted_GX010077_14_237.jpg_gamma",
           "Prawn_2",
           16.914078015801778
          ],
          [
           "full body:undistorted_GX010067_33_625.jpg_gamma",
           "Prawn_0",
           19.13092125620659
          ],
          [
           "full body:undistorted_GX010067_33_625.jpg_gamma",
           "Prawn_1",
           9.717787346561394
          ],
          [
           "full body:undistorted_GX010067_33_625.jpg_gamma",
           "Prawn_2",
           3.4929191079152133
          ],
          [
           "full body:undistorted_GX010067_33_625.jpg_gamma",
           "Prawn_3",
           2.7954421335501536
          ],
          [
           "full body:undistorted_GX010068_26_666.jpg_gamma",
           "Prawn_0",
           5.857654380978971
          ],
          [
           "full body:undistorted_GX010068_26_666.jpg_gamma",
           "Prawn_1",
           14.543492317186804
          ],
          [
           "full body:undistorted_GX010068_26_666.jpg_gamma",
           "Prawn_2",
           11.147871851940323
          ],
          [
           "full body:undistorted_GX010068_27_795.jpg_gamma",
           "Prawn_0",
           6.751337477359186
          ],
          [
           "full body:undistorted_GX010068_27_795.jpg_gamma",
           "Prawn_1",
           -11.78482828932134
          ],
          [
           "full body:undistorted_GX010069_19_191.jpg_gamma",
           "Prawn_0",
           23.620081851927978
          ],
          [
           "full body:undistorted_GX010069_19_191.jpg_gamma",
           "Prawn_1",
           12.825025912633265
          ],
          [
           "full body:undistorted_GX010069_19_191.jpg_gamma",
           "Prawn_2",
           9.292235697658725
          ],
          [
           "full body:undistorted_GX010069_19_191.jpg_gamma",
           "Prawn_3",
           5.949775318355265
          ],
          [
           "full body:undistorted_GX010071_22_444.jpg_gamma",
           "Prawn_0",
           13.266324099077423
          ],
          [
           "full body:undistorted_GX010071_22_444.jpg_gamma",
           "Prawn_1",
           -2.9195620940177065
          ],
          [
           "full body:undistorted_GX010073_42_695.jpg_gamma",
           "Prawn_1",
           6.948498606679152
          ],
          [
           "full body:undistorted_GX010073_42_695.jpg_gamma",
           "Prawn_2",
           -2.614438339057358
          ],
          [
           "full body:undistorted_GX010073_55_1014.jpg_gamma",
           "Prawn_0",
           7.2532044842613885
          ],
          [
           "full body:undistorted_GX010073_55_1014.jpg_gamma",
           "Prawn_1",
           6.958090849678655
          ],
          [
           "full body:undistorted_GX010073_55_1014.jpg_gamma",
           "Prawn_2",
           15.098793272358009
          ],
          [
           "full body:undistorted_GX010080_157_2283.jpg_gamma",
           "Prawn_0",
           36.020845344323064
          ],
          [
           "full body:undistorted_GX010080_157_2283.jpg_gamma",
           "Prawn_2",
           25.07573708409538
          ],
          [
           "full body:undistorted_GX010080_157_2283.jpg_gamma",
           "Prawn_3",
           18.635269738031724
          ],
          [
           "full body:undistorted_GX010080_193_2640.jpg_gamma",
           "Prawn_0",
           19.69478563431808
          ],
          [
           "full body:undistorted_GX010080_193_2640.jpg_gamma",
           "Prawn_1",
           9.096329957379254
          ],
          [
           "full body:undistorted_GX010080_193_2640.jpg_gamma",
           "Prawn_2",
           9.418866867823539
          ],
          [
           "full body:undistorted_GX010080_193_2640.jpg_gamma",
           "Prawn_3",
           19.759940327794098
          ],
          [
           "full body:undistorted_GX010080_193_2640.jpg_gamma",
           "Prawn_4",
           19.726388077065096
          ],
          [
           "full body:undistorted_GX010080_212_2954.jpg_gamma",
           "Prawn_0",
           20.635856482977033
          ],
          [
           "full body:undistorted_GX010080_212_2954.jpg_gamma",
           "Prawn_1",
           12.767896470399364
          ],
          [
           "full body:undistorted_GX010080_212_2954.jpg_gamma",
           "Prawn_2",
           -1.7761035296006469
          ],
          [
           "full body:undistorted_GX010080_237_3366.jpg_gamma",
           "Prawn_0",
           22.775240328263152
          ],
          [
           "full body:undistorted_GX010080_237_3366.jpg_gamma",
           "Prawn_1",
           20.162452779229284
          ],
          [
           "full body:undistorted_GX010080_237_3366.jpg_gamma",
           "Prawn_2",
           16.474723678640018
          ],
          [
           "full body:undistorted_GX010080_237_3366.jpg_gamma",
           "Prawn_3",
           4.038875755654814
          ],
          [
           "full body:undistorted_GX010080_237_3366.jpg_gamma",
           "Prawn_4",
           8.544279243811758
          ],
          [
           "full body:undistorted_GX010080_238_3392.jpg_gamma",
           "Prawn_0",
           19.588068058185357
          ],
          [
           "full body:undistorted_GX010080_238_3392.jpg_gamma",
           "Prawn_1",
           11.667356374315972
          ],
          [
           "full body:undistorted_GX010080_238_3392.jpg_gamma",
           "Prawn_2",
           9.068756004950785
          ],
          [
           "full body:undistorted_GX010080_238_3392.jpg_gamma",
           "Prawn_3",
           11.42314098136302
          ],
          [
           "full body:undistorted_GX010082_8_59.jpg_gamma",
           "Prawn_1",
           7.984399973790261
          ],
          [
           "full body:undistorted_GX010082_8_59.jpg_gamma",
           "Prawn_2",
           -3.454306075797078
          ],
          [
           "full body:undistorted_GX010082_8_59.jpg_gamma",
           "Prawn_3",
           30.87065530787595
          ],
          [
           "full body:undistorted_GX010082_8_59.jpg_gamma",
           "Prawn_4",
           25.435582469055603
          ],
          [
           "full body:undistorted_GX010082_53_796.jpg_gamma",
           "Prawn_0",
           1.1206666409091497
          ],
          [
           "full body:undistorted_GX010082_53_796.jpg_gamma",
           "Prawn_1",
           8.119582718936385
          ],
          [
           "full body:undistorted_GX010082_65_1070.jpg_gamma",
           "Prawn_0",
           24.2388452961211
          ],
          [
           "full body:undistorted_GX010082_65_1070.jpg_gamma",
           "Prawn_1",
           23.76283679860461
          ],
          [
           "full body:undistorted_GX010082_65_1070.jpg_gamma",
           "Prawn_2",
           18.799841672036678
          ],
          [
           "full body:undistorted_GX010082_236_3137.jpg_gamma",
           "Prawn_0",
           21.3365214239344
          ],
          [
           "full body:undistorted_GX010082_236_3137.jpg_gamma",
           "Prawn_1",
           25.493112675896185
          ],
          [
           "full body:undistorted_GX010082_236_3137.jpg_gamma",
           "Prawn_2",
           26.75609159389387
          ],
          [
           "full body:undistorted_GX010084_30_344.jpg_gamma",
           "Prawn_0",
           11.711727736408122
          ],
          [
           "full body:undistorted_GX010084_30_344.jpg_gamma",
           "Prawn_1",
           13.095533369391632
          ],
          [
           "full body:undistorted_GX010084_30_344.jpg_gamma",
           "Prawn_2",
           3.792815972325613
          ],
          [
           "full body:undistorted_GX010084_30_344.jpg_gamma",
           "Prawn_3",
           -4.821440497127924
          ],
          [
           "full body:undistorted_GX010084_130_1748.jpg_gamma",
           "Prawn_0",
           1.0575374518196128
          ],
          [
           "full body:undistorted_GX010084_130_1748.jpg_gamma",
           "Prawn_1",
           14.293817655788317
          ],
          [
           "full body:undistorted_GX010084_130_1748.jpg_gamma",
           "Prawn_2",
           -2.993147285157306
          ],
          [
           "full body:undistorted_GX010085_261_3610.jpg_gamma",
           "Prawn_0",
           3.8072992972117845
          ],
          [
           "full body:undistorted_GX010085_261_3610.jpg_gamma",
           "Prawn_1",
           -7.0916482321133
          ],
          [
           "full body:undistorted_GX010088_209_2904.jpg_gamma",
           "Prawn_0",
           4.029038642877623
          ],
          [
           "full body:undistorted_GX010088_209_2904.jpg_gamma",
           "Prawn_1",
           15.377292664565232
          ],
          [
           "full body:undistorted_GX010088_262_3712.jpg_gamma",
           "Prawn_0",
           0.437797493837337
          ],
          [
           "full body:undistorted_GX010088_262_3712.jpg_gamma",
           "Prawn_1",
           -22.07106858255753
          ],
          [
           "full body:undistorted_GX010088_262_3712.jpg_gamma",
           "Prawn_2",
           -24.05275073866747
          ],
          [
           "full body:undistorted_GX010088_327_4364.jpg_gamma",
           "Prawn_0",
           -4.270775168246445
          ],
          [
           "full body:undistorted_GX010088_327_4364.jpg_gamma",
           "Prawn_1",
           2.2095201473148194
          ],
          [
           "full body:undistorted_GX010088_327_4364.jpg_gamma",
           "Prawn_2",
           3.3524810965187584
          ],
          [
           "full body:undistorted_GX010088_327_4364.jpg_gamma",
           "Prawn_3",
           -7.758366849001192
          ],
          [
           "full body:undistorted_GX010090_132_1852.jpg_gamma",
           "Prawn_0",
           26.41119055916795
          ],
          [
           "full body:undistorted_GX010094_9_129.jpg_gamma",
           "Prawn_0",
           20.05300418388387
          ],
          [
           "full body:undistorted_GX010094_9_129.jpg_gamma",
           "Prawn_1",
           9.824338632959396
          ],
          [
           "full body:undistorted_GX010094_24_430.jpg_gamma",
           "Prawn_0",
           6.287284950261935
          ],
          [
           "full body:undistorted_GX010094_93_1258.jpg_gamma",
           "Prawn_0",
           5.427206199889511
          ],
          [
           "full body:undistorted_GX010094_163_2312.jpg_gamma",
           "Prawn_0",
           19.559195525691194
          ],
          [
           "full body:undistorted_GX010097_32_528.jpg_gamma",
           "Prawn_0",
           21.954557576958024
          ],
          [
           "full body:undistorted_GX010097_32_528.jpg_gamma",
           "Prawn_1",
           8.119809606890968
          ],
          [
           "full body:undistorted_GX010097_60_1080.jpg_gamma",
           "Prawn_0",
           5.128780397105899
          ],
          [
           "full body:undistorted_GX010097_60_1080.jpg_gamma",
           "Prawn_1",
           1.5694307659100843
          ],
          [
           "full body:undistorted_GX010097_60_1080.jpg_gamma",
           "Prawn_2",
           15.775970933751708
          ],
          [
           "full body:undistorted_GX010097_60_1080.jpg_gamma",
           "Prawn_3",
           -0.04747613640326165
          ],
          [
           "full body:undistorted_GX010097_105_1651.jpg_gamma",
           "Prawn_0",
           24.598560603017035
          ],
          [
           "full body:undistorted_GX010097_105_1651.jpg_gamma",
           "Prawn_1",
           12.307725606802364
          ],
          [
           "full body:undistorted_GX010097_105_1651.jpg_gamma",
           "Prawn_2",
           23.458762127257813
          ],
          [
           "full body:undistorted_GX010097_105_1651.jpg_gamma",
           "Prawn_3",
           24.503426426165646
          ],
          [
           "full body:undistorted_GX010097_124_1870.jpg_gamma",
           "Prawn_0",
           23.94931229130998
          ],
          [
           "full body:undistorted_GX010097_124_1870.jpg_gamma",
           "Prawn_1",
           20.98190491094701
          ],
          [
           "full body:undistorted_GX010101_12_173.jpg_gamma",
           "Prawn_0",
           4.079452765864858
          ]
         ],
         "hovertemplate": "<b>🦐 Prawn Measurement</b><br>🏊‍♀️ Pond: Circle Female<br>🖼️ Image: %{customdata[0]}<br>🆔 Prawn ID: %{customdata[1]}<br>📏 Manual: %{x:.1f}mm<br>🤖 Algorithm: %{y:.1f}mm<br>📊 Difference: %{customdata[2]:.1f}mm<br><extra></extra>",
         "marker": {
          "color": "#FF6B6B",
          "line": {
           "color": "white",
           "width": 1
          },
          "opacity": 0.8,
          "size": 8
         },
         "mode": "markers",
         "name": "🦐 Measurements",
         "showlegend": true,
         "type": "scatter",
         "x": {
          "bdata": "Dy2yne/nUkAZBFYOLdpdQJoLSVMqHlpAordlrY4pXkDHSzeJQUBXQNnO91PjeWJAd76fGi91VkANdNpApx1cQAYP5on6z1xAVpx9+AzLXkCDMnpb1jJhQNyyVscEA2FAG6GM3pa9WUA7JngwT+xVQMgED+aJAltA4+zDZ9gNXEDj7MNn2GVgQMP1KFyPgl9AjVBGb8sCVUARyuhtWQ9iQEsMAiuHblxADElTKs42W0A1XrpJDJJXQLmQNKXilFpAXQFyr7ngWEAklNHbsi5bQHcwT9S/MV5ADElTKs7eXEDR27JWx6xcQIPAyqFF/lpAF9nO91NLXEB4d3d3dw9fQAPkXnMhBWBAyAQP5onWYUCzVscEDz5gQBfZzvdTi2BAXbpJDALrV0C0VscEDwZeQDTsCpB7hWJA35a1OiZYXkAjlNHbsgZgQJoLSVMqdllAvi1rdUyYX0CEeaL+jfhgQLaBThvo3F5AAEcoo7f1XUDRItv5frpXQFCNl24SS1VAQO41F5L6YUB7FK5H4VpYQJX8YskvOmBArI4JHswzXUDn+6nx0t1QQPAZdgXIfVxAnDbQaQPVXEBcHRM8mOdbQLwC5F5zMV1ADJB7zYV0XkBvEoPAyvlgQLrXXEiaCl9Aic+wK0CuWECRplScffxgQMuhRbbzRWBAzczMzMw0XUDf3d3d3WVaQFBGb8tadVxAGJKmVJzVYEBTuB6F631iQCD3mgtJG2VAnah/I5TBX0A/NV66ScRfQEGnDXTagFtAhxbZzvfHYEBImlJx9hlfQE2pOPvwWVVAgZVDi2wnXEBImlJx9hFdQFwdEzyYv11ARIts5/upXUA17AqQe81ZQNxrLiRNyVhAMQisHFpMXEDP91PjpSNhQLgehetReFpA65jgwTyZV0Bwy1odE/xfQGGeqH8j3GJAAI5QRm8zWUDNhaQpFedYQPAZdgXITVlAWmQ730/NV0CvuZA0pWpjQA==",
          "dtype": "f8"
         },
         "xaxis": "x",
         "y": {
          "bdata": "4CWwwFMOVkAJ4OwP1UlgQLgCXZSqWF5AFxR52Pd4YUB2CY7DMa5ZQBHRQlKp6WJAzRu/oBcoV0Dn2A0Qi5RdQL0F845hOWBA0ND+2UHKYEAN415Q4QpiQKF+Pu7OE19AB1lXSkalX0BtbfRpHCFZQIgPauM9VV1AdKUuhqGKXUB24uEhXg5iQCLZMEG1x15A0U/Gon+/VkDzVFHzr7thQObSlqu7Pl5A6sabhh/0XEAg1L7qXlhbQONMdRYcy2FAi9PMj5IlX0Aq0zgeW9dfQEq8PJkbj2FAdm1zb/gkX0BXh60NlgdfQORyjH7o7l9A6dIcjuicYEB8pm2rFBxiQItG/Q60nWFAi0b9DrSdYUB6ZJXJ3RZjQPuW+seGEGNAsFO262MJXED3H4T1iwhfQDnuWEzmlmNAvoJ1keSeYUD+4pLXDXxhQE4239KQultAhSiqmbA5YUAdLQIzDvhhQKsGhMHU/11A0FAZOrjWYkBS9iWPXxZeQGKoKm/LklVANE5ZtmX+YkCr/XWFKmpeQLvCGvKYMmNAWrOUXH7zYEDOiNGCXDNWQOsT95arbmFADq3nm7PCYUA3/5AuJdVeQDUocUvIO2BAr8ivTENnX0CnOe6CgV9gQMtO7flITl9A0nVCFA5BXED96oO/tZxgQEOVmxvJv2BAYeJAPO9uW0CRPMOiuWdbQKqNyC3AJmBAw1uKxJ7jYEDC+f+mSndfQMvJSemYGWJAn5wgwj+wXkDfrMdA2ShgQKgn7YBpV1xA5HeWiGafX0DAzsOxI9piQJO+4WZVXVpAdu4Wgi6cXkDLGr1RWaReQH1ov5TvGl9A2yK64eJGYUD3t7QIk0pfQNVBGBr40FpAFITODJiUXUBAlTKq3lVhQMXlgm37aV5AmkyH6DKWV0DzOT73MBFjQNXJB2P8ZWRAztsjossQX0CDmh1NTQdfQHBRzY2JSl9AgHftZicMXUCbmBcVMO1jQA==",
          "dtype": "f8"
         },
         "yaxis": "y"
        },
        {
         "hovertemplate": "Perfect Agreement Line<br>Manual = Algorithm<extra></extra>",
         "line": {
          "color": "black",
          "dash": "dash",
          "width": 2
         },
         "mode": "lines",
         "name": "📐 Perfect Agreement (y=x)",
         "showlegend": true,
         "type": "scatter",
         "x": {
          "bdata": "5/up8dLdUEBhHd/sXR9RQNw+FOjoYFFAVmBJ43OiUUDRgX7e/uNRQEujs9mJJVJAxsTo1BRnUkBA5h3Qn6hSQLoHU8sq6lJANSmIxrUrU0CvSr3BQG1TQCps8rzLrlNApI0nuFbwU0Afr1yz4TFUQJnQka5sc1RAFPLGqfe0VECOE/ykgvZUQAg1MaANOFVAg1Zmm5h5VUD9d5uWI7tVQHiZ0JGu/FVA8roFjTk+VkBs3DqIxH9WQOf9b4NPwVZAYh+lftoCV0DcQNp5ZURXQFZiD3XwhVdA0YNEcHvHV0BLpXlrBglYQMbGrmaRSlhAQOjjYRyMWEC6CRldp81YQDUrTlgyD1lAsEyDU71QWUAqbrhOSJJZQKSP7UnT01lAH7EiRV4VWkCZ0ldA6VZaQBT0jDt0mFpAjhXCNv/ZWkAIN/cxihtbQINYLC0VXVtA/nlhKKCeW0B4m5YjK+BbQPK8yx62IVxAbN4AGkFjXEDn/zUVzKRcQGIhaxBX5lxA3EKgC+InXUBWZNUGbWldQNGFCgL4ql1ATKc//YLsXUDGyHT4DS5eQEDqqfOYb15Augvf7iOxXkA1LRTqrvJeQLBOSeU5NF9AKnB+4MR1X0CkkbPbT7dfQB+z6Nba+F9ATOoO6TIdYEAKe6lm+D1gQMcLROS9XmBAhJzeYYN/YEBCLXnfSKBgQP69E10OwWBAvE6u2tPhYEB530hYmQJhQDZw49VeI2FA9AB+UyREYUCxkRjR6WRhQG4is06vhWFALLNNzHSmYUDoQ+hJOsdhQKbUgsf/52FAY2UdRcUIYkAg9rfCiiliQN6GUkBQSmJAmhftvRVrYkBYqIc724tiQBU5IrmgrGJA0sm8NmbNYkCQWle0K+5iQEzr8THxDmNACnyMr7YvY0DHDCctfFBjQISdwapBcWNAQi5cKAeSY0D+vvalzLJjQLxPkSOS02NAeeAroVf0Y0A2ccYeHRVkQPQBYZziNWRAsZL7GahWZEBuI5aXbXdkQCy0MBUzmGRA6ETLkvi4ZECm1WUQvtlkQGNmAI6D+mRAIPeaC0kbZUA=",
          "dtype": "f8"
         },
         "xaxis": "x",
         "y": {
          "bdata": "5/up8dLdUEBhHd/sXR9RQNw+FOjoYFFAVmBJ43OiUUDRgX7e/uNRQEujs9mJJVJAxsTo1BRnUkBA5h3Qn6hSQLoHU8sq6lJANSmIxrUrU0CvSr3BQG1TQCps8rzLrlNApI0nuFbwU0Afr1yz4TFUQJnQka5sc1RAFPLGqfe0VECOE/ykgvZUQAg1MaANOFVAg1Zmm5h5VUD9d5uWI7tVQHiZ0JGu/FVA8roFjTk+VkBs3DqIxH9WQOf9b4NPwVZAYh+lftoCV0DcQNp5ZURXQFZiD3XwhVdA0YNEcHvHV0BLpXlrBglYQMbGrmaRSlhAQOjjYRyMWEC6CRldp81YQDUrTlgyD1lAsEyDU71QWUAqbrhOSJJZQKSP7UnT01lAH7EiRV4VWkCZ0ldA6VZaQBT0jDt0mFpAjhXCNv/ZWkAIN/cxihtbQINYLC0VXVtA/nlhKKCeW0B4m5YjK+BbQPK8yx62IVxAbN4AGkFjXEDn/zUVzKRcQGIhaxBX5lxA3EKgC+InXUBWZNUGbWldQNGFCgL4ql1ATKc//YLsXUDGyHT4DS5eQEDqqfOYb15Augvf7iOxXkA1LRTqrvJeQLBOSeU5NF9AKnB+4MR1X0CkkbPbT7dfQB+z6Nba+F9ATOoO6TIdYEAKe6lm+D1gQMcLROS9XmBAhJzeYYN/YEBCLXnfSKBgQP69E10OwWBAvE6u2tPhYEB530hYmQJhQDZw49VeI2FA9AB+UyREYUCxkRjR6WRhQG4is06vhWFALLNNzHSmYUDoQ+hJOsdhQKbUgsf/52FAY2UdRcUIYkAg9rfCiiliQN6GUkBQSmJAmhftvRVrYkBYqIc724tiQBU5IrmgrGJA0sm8NmbNYkCQWle0K+5iQEzr8THxDmNACnyMr7YvY0DHDCctfFBjQISdwapBcWNAQi5cKAeSY0D+vvalzLJjQLxPkSOS02NAeeAroVf0Y0A2ccYeHRVkQPQBYZziNWRAsZL7GahWZEBuI5aXbXdkQCy0MBUzmGRA6ETLkvi4ZECm1WUQvtlkQGNmAI6D+mRAIPeaC0kbZUA=",
          "dtype": "f8"
         },
         "yaxis": "y"
        },
        {
         "hovertemplate": "Upper Boundary (+7.6mm)<extra></extra>",
         "line": {
          "color": "#2c7fb8",
          "dash": "dot",
          "width": 1
         },
         "mode": "lines",
         "name": "📊 ±7.6mm Boundaries",
         "showlegend": true,
         "type": "scatter",
         "x": {
          "bdata": "5/up8dLdUEBhHd/sXR9RQNw+FOjoYFFAVmBJ43OiUUDRgX7e/uNRQEujs9mJJVJAxsTo1BRnUkBA5h3Qn6hSQLoHU8sq6lJANSmIxrUrU0CvSr3BQG1TQCps8rzLrlNApI0nuFbwU0Afr1yz4TFUQJnQka5sc1RAFPLGqfe0VECOE/ykgvZUQAg1MaANOFVAg1Zmm5h5VUD9d5uWI7tVQHiZ0JGu/FVA8roFjTk+VkBs3DqIxH9WQOf9b4NPwVZAYh+lftoCV0DcQNp5ZURXQFZiD3XwhVdA0YNEcHvHV0BLpXlrBglYQMbGrmaRSlhAQOjjYRyMWEC6CRldp81YQDUrTlgyD1lAsEyDU71QWUAqbrhOSJJZQKSP7UnT01lAH7EiRV4VWkCZ0ldA6VZaQBT0jDt0mFpAjhXCNv/ZWkAIN/cxihtbQINYLC0VXVtA/nlhKKCeW0B4m5YjK+BbQPK8yx62IVxAbN4AGkFjXEDn/zUVzKRcQGIhaxBX5lxA3EKgC+InXUBWZNUGbWldQNGFCgL4ql1ATKc//YLsXUDGyHT4DS5eQEDqqfOYb15Augvf7iOxXkA1LRTqrvJeQLBOSeU5NF9AKnB+4MR1X0CkkbPbT7dfQB+z6Nba+F9ATOoO6TIdYEAKe6lm+D1gQMcLROS9XmBAhJzeYYN/YEBCLXnfSKBgQP69E10OwWBAvE6u2tPhYEB530hYmQJhQDZw49VeI2FA9AB+UyREYUCxkRjR6WRhQG4is06vhWFALLNNzHSmYUDoQ+hJOsdhQKbUgsf/52FAY2UdRcUIYkAg9rfCiiliQN6GUkBQSmJAmhftvRVrYkBYqIc724tiQBU5IrmgrGJA0sm8NmbNYkCQWle0K+5iQEzr8THxDmNACnyMr7YvY0DHDCctfFBjQISdwapBcWNAQi5cKAeSY0D+vvalzLJjQLxPkSOS02NAeeAroVf0Y0A2ccYeHRVkQPQBYZziNWRAsZL7GahWZEBuI5aXbXdkQCy0MBUzmGRA6ETLkvi4ZECm1WUQvtlkQGNmAI6D+mRAIPeaC0kbZUA=",
          "dtype": "f8"
         },
         "xaxis": "x",
         "y": {
          "bdata": "JrN77BnDUkCg1LDnpARTQBr25eIvRlNAlBcb3rqHU0AQOVDZRclTQIpahdTQClRABHy6z1tMVEB+ne/K5o1UQPi+JMZxz1RAdOBZwfwQVUDuAY+8h1JVQGgjxLcSlFVA4kT5sp3VVUBeZi6uKBdWQNiHY6mzWFZAUqmYpD6aVkDMys2fydtWQEbsAptUHVdAwg04lt9eV0A8L22RaqBXQLZQooz14VdAMHLXh4AjWECqkwyDC2VYQCa1QX6WplhAoNZ2eSHoWEAa+Kt0rClZQJQZ4W83a1lAEDsWa8KsWUCKXEtmTe5ZQAR+gGHYL1pAfp+1XGNxWkD4wOpX7rJaQHTiH1N59FpA7gNVTgQ2W0BoJYpJj3dbQOJGv0QauVtAXmj0P6X6W0DYiSk7MDxcQFKrXja7fVxAzMyTMUa/XEBG7sgs0QBdQMIP/idcQl1APDEzI+eDXUC2UmgecsVdQDB0nRn9Bl5AqpXSFIhIXkAmtwcQE4peQKDYPAuey15AGvpxBikNX0CUG6cBtE5fQBA93Pw+kF9Ail4R+MnRX0ACQKN5qglgQL/QPfdvKmBAfGHYdDVLYEA68nLy+mtgQPeCDXDAjGBAtBOo7YWtYEBxpEJrS85gQC813egQ72BA68V3ZtYPYUCpVhLkmzBhQGbnrGFhUWFAI3hH3yZyYUDhCOJc7JJhQJ2ZfNqxs2FAWyoXWHfUYUAYu7HVPPVhQNVLTFMCFmJAk9zm0Mc2YkBQbYFOjVdiQA3+G8xSeGJAy462SRiZYkCHH1HH3bliQEWw60Sj2mJAAkGGwmj7YkC/0SBALhxjQH1iu73zPGNAOfNVO7ldY0D3g/C4fn5jQLQUizZEn2NAcaUltAnAY0AvNsAxz+BjQOvGWq+UAWRAqVf1LFoiZEBm6I+qH0NkQCN5KijlY2RA4QnFpaqEZECdml8jcKVkQFsr+qA1xmRAGLyUHvvmZEDVTC+cwAdlQJPdyRmGKGVAUG5kl0tJZUAN//4UEWplQMuPmZLWimVAhyA0EJyrZUBFsc6NYcxlQAJCaQsn7WVAv9IDiewNZkA=",
          "dtype": "f8"
         },
         "yaxis": "y"
        },
        {
         "hovertemplate": "Lower Boundary (-7.6mm)<extra></extra>",
         "line": {
          "color": "#2c7fb8",
          "dash": "dot",
          "width": 1
         },
         "mode": "lines",
         "name": "",
         "showlegend": false,
         "type": "scatter",
         "x": {
          "bdata": "5/up8dLdUEBhHd/sXR9RQNw+FOjoYFFAVmBJ43OiUUDRgX7e/uNRQEujs9mJJVJAxsTo1BRnUkBA5h3Qn6hSQLoHU8sq6lJANSmIxrUrU0CvSr3BQG1TQCps8rzLrlNApI0nuFbwU0Afr1yz4TFUQJnQka5sc1RAFPLGqfe0VECOE/ykgvZUQAg1MaANOFVAg1Zmm5h5VUD9d5uWI7tVQHiZ0JGu/FVA8roFjTk+VkBs3DqIxH9WQOf9b4NPwVZAYh+lftoCV0DcQNp5ZURXQFZiD3XwhVdA0YNEcHvHV0BLpXlrBglYQMbGrmaRSlhAQOjjYRyMWEC6CRldp81YQDUrTlgyD1lAsEyDU71QWUAqbrhOSJJZQKSP7UnT01lAH7EiRV4VWkCZ0ldA6VZaQBT0jDt0mFpAjhXCNv/ZWkAIN/cxihtbQINYLC0VXVtA/nlhKKCeW0B4m5YjK+BbQPK8yx62IVxAbN4AGkFjXEDn/zUVzKRcQGIhaxBX5lxA3EKgC+InXUBWZNUGbWldQNGFCgL4ql1ATKc//YLsXUDGyHT4DS5eQEDqqfOYb15Augvf7iOxXkA1LRTqrvJeQLBOSeU5NF9AKnB+4MR1X0CkkbPbT7dfQB+z6Nba+F9ATOoO6TIdYEAKe6lm+D1gQMcLROS9XmBAhJzeYYN/YEBCLXnfSKBgQP69E10OwWBAvE6u2tPhYEB530hYmQJhQDZw49VeI2FA9AB+UyREYUCxkRjR6WRhQG4is06vhWFALLNNzHSmYUDoQ+hJOsdhQKbUgsf/52FAY2UdRcUIYkAg9rfCiiliQN6GUkBQSmJAmhftvRVrYkBYqIc724tiQBU5IrmgrGJA0sm8NmbNYkCQWle0K+5iQEzr8THxDmNACnyMr7YvY0DHDCctfFBjQISdwapBcWNAQi5cKAeSY0D+vvalzLJjQLxPkSOS02NAeeAroVf0Y0A2ccYeHRVkQPQBYZziNWRAsZL7GahWZEBuI5aXbXdkQCy0MBUzmGRA6ETLkvi4ZECm1WUQvtlkQGNmAI6D+mRAIPeaC0kbZUA=",
          "dtype": "f8"
         },
         "xaxis": "x",
         "y": {
          "bdata": "UYmw7RfxTUBFzBrkLXROQDsPhdpD905AL1Lv0Fl6T0AllVnHb/1PQAzs4d5CQFBAiA0X2s2BUEACL0zVWMNQQHxQgdDjBFFA9nG2y25GUUBwk+vG+YdRQOy0IMKEyVFAZtZVvQ8LUkDg94q4mkxSQFoZwLMljlJA1jr1rrDPUkBQXCqqOxFTQMp9X6XGUlNARJ+UoFGUU0C+wMmb3NVTQDri/pZnF1RAtAM0kvJYVEAuJWmNfZpUQKhGnogI3FRAJGjTg5MdVUCeiQh/Hl9VQBirPXqpoFVAksxydTTiVUAM7qdwvyNWQIgP3WtKZVZAAjESZ9WmVkB8UkdiYOhWQPZzfF3rKVdAcpWxWHZrV0DstuZTAa1XQGbYG0+M7ldA4PlQShcwWEBaG4ZFonFYQNY8u0Ats1hAUF7wO7j0WEDKfyU3QzZZQEShWjLOd1lAwMKPLVm5WUA65MQo5PpZQLQF+iNvPFpALicvH/p9WkCoSGQahb9aQCRqmRUQAVtAnovOEJtCW0AYrQMMJoRbQJLOOAexxVtADvBtAjwHXECIEaP9xkhcQAIz2PhRilxAfFQN9NzLXED2dULvZw1dQHKXd+ryTl1A7Lis5X2QXUBm2uHgCNJdQOD7FtyTE15AWh1M1x5VXkDWPoHSqZZeQFBgts002F5AyoHryL8ZX0BGoyDESltfQL7EVb/VnF9AOuaKumDeX0DaA+Da9Q9gQJeUeli7MGBAVSUV1oBRYEAStq9TRnJgQM9GStELk2BAjdfkTtGzYEBJaH/MltRgQAf5GUpc9WBAxIm0xyEWYUCBGk9F5zZhQD+r6cKsV2FA+zuEQHJ4YUC5zB6+N5lhQHZduTv9uWFAM+5TucLaYUDxfu42iPthQK0PibRNHGJAa6AjMhM9YkAoMb6v2F1iQOXBWC2efmJAo1LzqmOfYkBf440oKcBiQB10KKbu4GJA2gTDI7QBY0CXlV2heSJjQFUm+B4/Q2NAEreSnARkY0DPRy0ayoRjQI3Yx5ePpWNASWliFVXGY0AH+vySGudjQMSKlxDgB2RAgRsyjqUoZEA=",
          "dtype": "f8"
         },
         "yaxis": "y"
        },
        {
         "customdata": [
          [
           "full body:undistorted_GX010089_11_236.jpg_gamma",
           "Prawn_0",
           22.168057187630936
          ],
          [
           "full body:undistorted_GX010089_11_236.jpg_gamma",
           "Prawn_1",
           17.94780427021975
          ],
          [
           "full body:undistorted_GX010089_11_236.jpg_gamma",
           "Prawn_2",
           17.49504866633886
          ],
          [
           "full body:undistorted_GX010091_5_149.jpg_gamma",
           "Prawn_0",
           -9.56199893917303
          ],
          [
           "full body:undistorted_GX010091_5_149.jpg_gamma",
           "Prawn_1",
           10.464837713035791
          ],
          [
           "full body:undistorted_GX010102_9_165.jpg_gamma",
           "Prawn_1",
           9.79159732620731
          ],
          [
           "full body:undistorted_GX010102_9_165.jpg_gamma",
           "Prawn_2",
           -22.793855142859233
          ],
          [
           "full body:undistorted_GX010102_9_165.jpg_gamma",
           "Prawn_3",
           -35.64185514285924
          ],
          [
           "full body:undistorted_GX010102_9_165.jpg_gamma",
           "Prawn_4",
           11.150668302687933
          ],
          [
           "full body:undistorted_GX010102_9_165.jpg_gamma",
           "Prawn_5",
           13.832086730853746
          ],
          [
           "full body:undistorted_GX010102_50_1396.jpg_gamma",
           "Prawn_0",
           15.143859219402088
          ],
          [
           "full body:undistorted_GX010105_28_816.jpg_gamma",
           "Prawn_0",
           17.169588376777263
          ],
          [
           "full body:undistorted_GX010105_28_816.jpg_gamma",
           "Prawn_1",
           27.01495205328672
          ]
         ],
         "hovertemplate": "<b>🦐 Prawn Measurement</b><br>🏊‍♀️ Pond: Circle Male<br>🖼️ Image: %{customdata[0]}<br>🆔 Prawn ID: %{customdata[1]}<br>📏 Manual: %{x:.1f}mm<br>🤖 Algorithm: %{y:.1f}mm<br>📊 Difference: %{customdata[2]:.1f}mm<br><extra></extra>",
         "marker": {
          "color": "#4ECDC4",
          "line": {
           "color": "white",
           "width": 1
          },
          "opacity": 0.8,
          "size": 8
         },
         "mode": "markers",
         "name": "",
         "showlegend": false,
         "type": "scatter",
         "x": {
          "bdata": "IbByaJFFUkCR7Xw/NT5QQLhlrY4JxlRAy6FFtvMVUkDwp8ZLN8FWQDGW/GLJR1dAME/UvxHKR0A30GkDnTZOQIts5/up+VBAqTj78BkGUUD+1HjpJolgQD81XrpJPExAcMtaHRPsV0A=",
          "dtype": "f8"
         },
         "xaxis": "x2",
         "y": {
          "bdata": "BN9h21LQV0Ao1LoS3rpUQF1cR2+4JVlAUzK/1/djT0Dag3Qy915ZQIaA0epyullA30Z0aOnIOEDfRnRo6cg4QDWSkYhOw1NAnVWv2Vp7VEDqJh9owW1iQDAdZGb/aFJAaMPPFgitXkA=",
          "dtype": "f8"
         },
         "yaxis": "y2"
        },
        {
         "hovertemplate": "Perfect Agreement Line<br>Manual = Algorithm<extra></extra>",
         "line": {
          "color": "black",
          "dash": "dash",
          "width": 2
         },
         "mode": "lines",
         "name": "",
         "showlegend": false,
         "type": "scatter",
         "x": {
          "bdata": "30Z0aOnIOEArGLHzDQY6QHfp7X4yQztAw7oqCleAPEAQjGeVe709QFxdpCCg+j5AVJfwVeIbQED6/46bdLpAQKBoLeEGWUFARtHLJpn3QUDsOWpsK5ZCQJKiCLK9NENAOAun90/TQ0Dec0U94nFEQITc44J0EEVAKkWCyAavRUDQrSAOmU1GQHYWv1Mr7EZAHH9dmb2KR0DC5/veTylIQGhQmiTix0hAD7k4anRmSUC1IdevBgVKQFuKdfWYo0pAAfMTOytCS0CnW7KAveBLQE7EUMZPf0xA9CzvC+IdTUCalY1RdLxNQED+K5cGW05A5mbK3Jj5TkCMz2giK5hPQBmcA7ReG1BAbNDS1qdqUEC/BKL58LlQQBI5cRw6CVFAZW1AP4NYUUC4oQ9izKdRQAvW3oQV91FAXgqup15GUkCxPn3Kp5VSQARzTO3w5FJAV6cbEDo0U0Cq2+oyg4NTQP0PulXM0lNAUESJeBUiVECjeFibXnFUQPasJ76nwFRASeH24PAPVUCcFcYDOl9VQO9JlSaDrlVAQn5kScz9VUCWsjNsFU1WQOnmAo9enFZAPBvSsafrVkCPT6HU8DpXQOKDcPc5ildANbg/GoPZV0CI7A49zChYQNsg3l8VeFhALlWtgl7HWECBiXylpxZZQNS9S8jwZVlAJ/Ia6zm1WUB6JuoNgwRaQM1auTDMU1pAII+IUxWjWkBzw1d2XvJaQMb3JpmnQVtAGSz2u/CQW0BsYMXeOeBbQL+UlAGDL1xAEsljJMx+XEBl/TJHFc5cQLgxAmpeHV1AC2bRjKdsXUBemqCv8LtdQLHOb9I5C15ABAM/9YJaXkBXNw4YzKleQKpr3ToV+V5A/p+sXV5IX0BR1HuAp5dfQKQIS6Pw5l9Aex4N4xwbYECluHR0wUJgQM5S3AVmamBA+OxDlwqSYEAhh6sor7lgQEshE7pT4WBAdLt6S/gIYUCeVeLcnDBhQMfvSW5BWGFA8Ymx/+V/YUAaJBmRiqdhQES+gCIvz2FAbVjos9P2YUCX8k9FeB5iQMCMt9YcRmJA6iYfaMFtYkA=",
          "dtype": "f8"
         },
         "xaxis": "x2",
         "y": {
          "bdata": "30Z0aOnIOEArGLHzDQY6QHfp7X4yQztAw7oqCleAPEAQjGeVe709QFxdpCCg+j5AVJfwVeIbQED6/46bdLpAQKBoLeEGWUFARtHLJpn3QUDsOWpsK5ZCQJKiCLK9NENAOAun90/TQ0Dec0U94nFEQITc44J0EEVAKkWCyAavRUDQrSAOmU1GQHYWv1Mr7EZAHH9dmb2KR0DC5/veTylIQGhQmiTix0hAD7k4anRmSUC1IdevBgVKQFuKdfWYo0pAAfMTOytCS0CnW7KAveBLQE7EUMZPf0xA9CzvC+IdTUCalY1RdLxNQED+K5cGW05A5mbK3Jj5TkCMz2giK5hPQBmcA7ReG1BAbNDS1qdqUEC/BKL58LlQQBI5cRw6CVFAZW1AP4NYUUC4oQ9izKdRQAvW3oQV91FAXgqup15GUkCxPn3Kp5VSQARzTO3w5FJAV6cbEDo0U0Cq2+oyg4NTQP0PulXM0lNAUESJeBUiVECjeFibXnFUQPasJ76nwFRASeH24PAPVUCcFcYDOl9VQO9JlSaDrlVAQn5kScz9VUCWsjNsFU1WQOnmAo9enFZAPBvSsafrVkCPT6HU8DpXQOKDcPc5ildANbg/GoPZV0CI7A49zChYQNsg3l8VeFhALlWtgl7HWECBiXylpxZZQNS9S8jwZVlAJ/Ia6zm1WUB6JuoNgwRaQM1auTDMU1pAII+IUxWjWkBzw1d2XvJaQMb3JpmnQVtAGSz2u/CQW0BsYMXeOeBbQL+UlAGDL1xAEsljJMx+XEBl/TJHFc5cQLgxAmpeHV1AC2bRjKdsXUBemqCv8LtdQLHOb9I5C15ABAM/9YJaXkBXNw4YzKleQKpr3ToV+V5A/p+sXV5IX0BR1HuAp5dfQKQIS6Pw5l9Aex4N4xwbYECluHR0wUJgQM5S3AVmamBA+OxDlwqSYEAhh6sor7lgQEshE7pT4WBAdLt6S/gIYUCeVeLcnDBhQMfvSW5BWGFA8Ymx/+V/YUAaJBmRiqdhQES+gCIvz2FAbVjos9P2YUCX8k9FeB5iQMCMt9YcRmJA6iYfaMFtYkA=",
          "dtype": "f8"
         },
         "yaxis": "y2"
        },
        {
         "hovertemplate": "Upper Boundary (+5.6mm)<extra></extra>",
         "line": {
          "color": "#2c7fb8",
          "dash": "dot",
          "width": 1
         },
         "mode": "lines",
         "name": "",
         "showlegend": false,
         "type": "scatter",
         "x": {
          "bdata": "30Z0aOnIOEArGLHzDQY6QHfp7X4yQztAw7oqCleAPEAQjGeVe709QFxdpCCg+j5AVJfwVeIbQED6/46bdLpAQKBoLeEGWUFARtHLJpn3QUDsOWpsK5ZCQJKiCLK9NENAOAun90/TQ0Dec0U94nFEQITc44J0EEVAKkWCyAavRUDQrSAOmU1GQHYWv1Mr7EZAHH9dmb2KR0DC5/veTylIQGhQmiTix0hAD7k4anRmSUC1IdevBgVKQFuKdfWYo0pAAfMTOytCS0CnW7KAveBLQE7EUMZPf0xA9CzvC+IdTUCalY1RdLxNQED+K5cGW05A5mbK3Jj5TkCMz2giK5hPQBmcA7ReG1BAbNDS1qdqUEC/BKL58LlQQBI5cRw6CVFAZW1AP4NYUUC4oQ9izKdRQAvW3oQV91FAXgqup15GUkCxPn3Kp5VSQARzTO3w5FJAV6cbEDo0U0Cq2+oyg4NTQP0PulXM0lNAUESJeBUiVECjeFibXnFUQPasJ76nwFRASeH24PAPVUCcFcYDOl9VQO9JlSaDrlVAQn5kScz9VUCWsjNsFU1WQOnmAo9enFZAPBvSsafrVkCPT6HU8DpXQOKDcPc5ildANbg/GoPZV0CI7A49zChYQNsg3l8VeFhALlWtgl7HWECBiXylpxZZQNS9S8jwZVlAJ/Ia6zm1WUB6JuoNgwRaQM1auTDMU1pAII+IUxWjWkBzw1d2XvJaQMb3JpmnQVtAGSz2u/CQW0BsYMXeOeBbQL+UlAGDL1xAEsljJMx+XEBl/TJHFc5cQLgxAmpeHV1AC2bRjKdsXUBemqCv8LtdQLHOb9I5C15ABAM/9YJaXkBXNw4YzKleQKpr3ToV+V5A/p+sXV5IX0BR1HuAp5dfQKQIS6Pw5l9Aex4N4xwbYECluHR0wUJgQM5S3AVmamBA+OxDlwqSYEAhh6sor7lgQEshE7pT4WBAdLt6S/gIYUCeVeLcnDBhQMfvSW5BWGFA8Ymx/+V/YUAaJBmRiqdhQES+gCIvz2FAbVjos9P2YUCX8k9FeB5iQMCMt9YcRmJA6iYfaMFtYkA=",
          "dtype": "f8"
         },
         "xaxis": "x2",
         "y": {
          "bdata": "UD9/4s5oPkCcELxt86U/QPRwfPyLcUBAmtkaQh4QQUBBQrmHsK5BQOeqV81CTUJAjRP2EtXrQkAzfJRYZ4pDQNnkMp75KERAf03R44vHREAltm8pHmZFQMseDm+wBEZAcYestEKjRkAX8Er61EFHQL1Y6T9n4EdAY8GHhfl+SEAJKibLix1JQK+SxBAevElAVftiVrBaSkD7YwGcQvlKQKHMn+HUl0tASDU+J2c2TEDundxs+dRMQJQGe7KLc01AOm8Z+B0STkDg17c9sLBOQIdAVoNCT09ALan0yNTtT0DpiEmHM0ZQQDy9GKp8lVBAj/HnzMXkUEDiJbfvDjRRQDVahhJYg1FAiI5VNaHSUUDbwiRY6iFSQC7383ozcVJAgSvDnXzAUkDUX5LAxQ9TQCeUYeMOX1NAesgwBliuU0DN/P8oof1TQCAxz0vqTFRAc2WebjOcVEDGmW2RfOtUQBnOPLTFOlVAbAIM1w6KVUC/Ntv5V9lVQBJrqhyhKFZAZZ95P+p3VkC400hiM8dWQAsIGIV8FldAXjznp8VlV0CycLbKDrVXQAWlhe1XBFhAWNlUEKFTWECrDSQz6qJYQP5B81Uz8lhAUXbCeHxBWUCkqpGbxZBZQPfeYL4O4FlAShMw4VcvWkCdR/8DoX5aQPB7zibqzVpAQ7CdSTMdW0CW5GxsfGxbQOkYPI/Fu1tAPE0Lsg4LXECPgdrUV1pcQOK1qfegqVxANep4Gur4XECIHkg9M0hdQNtSF2B8l11ALofmgsXmXUCBu7WlDjZeQNTvhMhXhV5AJyRU66DUXkB6WCMO6iNfQM2M8jAzc19AIMHBU3zCX0C6eki74ghgQOMUsEyHMGBADa8X3itYYEA3SX9v0H9gQGDj5gB1p2BAiX1OkhnPYECzF7YjvvZgQNyxHbViHmFABkyFRgdGYUAv5uzXq21hQFmAVGlQlWFAghq8+vS8YUCstCOMmeRhQNVOix0+DGJA/+jyruIzYkAog1pAh1tiQFIdwtErg2JAe7cpY9CqYkClUZH0dNJiQM7r+IUZ+mJA+IVgF74hY0A=",
          "dtype": "f8"
         },
         "yaxis": "y2"
        },
        {
         "hovertemplate": "Lower Boundary (-5.6mm)<extra></extra>",
         "line": {
          "color": "#2c7fb8",
          "dash": "dot",
          "width": 1
         },
         "mode": "lines",
         "name": "",
         "showlegend": false,
         "type": "scatter",
         "x": {
          "bdata": "30Z0aOnIOEArGLHzDQY6QHfp7X4yQztAw7oqCleAPEAQjGeVe709QFxdpCCg+j5AVJfwVeIbQED6/46bdLpAQKBoLeEGWUFARtHLJpn3QUDsOWpsK5ZCQJKiCLK9NENAOAun90/TQ0Dec0U94nFEQITc44J0EEVAKkWCyAavRUDQrSAOmU1GQHYWv1Mr7EZAHH9dmb2KR0DC5/veTylIQGhQmiTix0hAD7k4anRmSUC1IdevBgVKQFuKdfWYo0pAAfMTOytCS0CnW7KAveBLQE7EUMZPf0xA9CzvC+IdTUCalY1RdLxNQED+K5cGW05A5mbK3Jj5TkCMz2giK5hPQBmcA7ReG1BAbNDS1qdqUEC/BKL58LlQQBI5cRw6CVFAZW1AP4NYUUC4oQ9izKdRQAvW3oQV91FAXgqup15GUkCxPn3Kp5VSQARzTO3w5FJAV6cbEDo0U0Cq2+oyg4NTQP0PulXM0lNAUESJeBUiVECjeFibXnFUQPasJ76nwFRASeH24PAPVUCcFcYDOl9VQO9JlSaDrlVAQn5kScz9VUCWsjNsFU1WQOnmAo9enFZAPBvSsafrVkCPT6HU8DpXQOKDcPc5ildANbg/GoPZV0CI7A49zChYQNsg3l8VeFhALlWtgl7HWECBiXylpxZZQNS9S8jwZVlAJ/Ia6zm1WUB6JuoNgwRaQM1auTDMU1pAII+IUxWjWkBzw1d2XvJaQMb3JpmnQVtAGSz2u/CQW0BsYMXeOeBbQL+UlAGDL1xAEsljJMx+XEBl/TJHFc5cQLgxAmpeHV1AC2bRjKdsXUBemqCv8LtdQLHOb9I5C15ABAM/9YJaXkBXNw4YzKleQKpr3ToV+V5A/p+sXV5IX0BR1HuAp5dfQKQIS6Pw5l9Aex4N4xwbYECluHR0wUJgQM5S3AVmamBA+OxDlwqSYEAhh6sor7lgQEshE7pT4WBAdLt6S/gIYUCeVeLcnDBhQMfvSW5BWGFA8Ymx/+V/YUAaJBmRiqdhQES+gCIvz2FAbVjos9P2YUCX8k9FeB5iQMCMt9YcRmJA6iYfaMFtYkA=",
          "dtype": "f8"
         },
         "xaxis": "x2",
         "y": {
          "bdata": "bk5p7gMpM0C6H6Z5KGY0QAbx4gRNozVAUsIfkHHgNkCfk1wblh04QOtkmaa6WjlANzbWMd+XOkCDBxO9A9U7QM/YT0goEj1AG6qM00xPPkBne8lecYw/QFkmA/XKZEBA/46hOl0DQUCl9z+A76FBQEtg3sWBQEJA8ch8CxTfQkCXMRtRpn1DQD2auZY4HERA4wJY3Mq6RECJa/YhXVlFQC/UlGfv90VA1jwzrYGWRkB8pdHyEzVHQCIOcDim00dAyHYOfjhySEBu36zDyhBJQBVISwldr0lAu7DpTu9NSkBhGYiUgexKQAeCJtoTi0tArerEH6YpTEBTU2NlOMhMQPm7AavKZk1AnySg8FwFTkBFjT4276NOQOv13HuBQk9AkV57wRPhT0Cc44wD0z9QQO8XXCYcj1BAQkwrSWXeUECVgPprri1RQOi0yY73fFFAO+mYsUDMUUCOHWjUiRtSQOFRN/fSalJANIYGGhy6UkCHutU8ZQlTQNrupF+uWFNALSN0gvenU0CAV0OlQPdTQNOLEsiJRlRAJsDh6tKVVEB69LANHOVUQM0ogDBlNFVAIF1PU66DVUBzkR5299JVQMbF7ZhAIlZAGfq8u4lxVkBsLoze0sBWQL9iWwEcEFdAEpcqJGVfV0Bly/lGrq5XQLj/yGn3/VdACzSYjEBNWEBeaGeviZxYQLGcNtLS61hABNEF9Rs7WUBXBdUXZYpZQKo5pDqu2VlA/W1zXfcoWkBQokKAQHhaQKPWEaOJx1pA9grhxdIWW0BJP7DoG2ZbQJxzfwtltVtA76dOLq4EXEBC3B1R91NcQJUQ7XNAo1xA6ES8lonyXEA7eYu50kFdQI6tWtwbkV1A4uEp/2TgXUA1Fvkhri9eQIhKyET3fl5A2n6XZ0DOXkAus2aKiR1fQIDnNa3SbF9A1BsF0Bu8X0ATKGp5sgVgQD3C0QpXLWBAZlw5nPtUYECQ9qAtoHxgQLmQCL9EpGBA4ypwUOnLYEAMxdfhjfNgQDZfP3MyG2FAX/mmBNdCYUCJkw6We2phQLItdicgkmFA3MfduMS5YUA=",
          "dtype": "f8"
         },
         "yaxis": "y2"
        },
        {
         "customdata": [
          [
           "full body:undistorted_GX010152_36_378.jpg_gamma",
           "Prawn_0",
           -7.175082974261201
          ],
          [
           "full body:undistorted_GX010152_36_378.jpg_gamma",
           "Prawn_1",
           -17.440476642370783
          ],
          [
           "full body:undistorted_GX010157_160_2259",
           "Prawn_0",
           -11.917033341052203
          ],
          [
           "full body:undistorted_GX010157_174_2582.jpg_gamma",
           "Prawn_0",
           -12.567956737227291
          ],
          [
           "full body:undistorted_GX010157_177_2665.jpg_gamma",
           "Prawn_0",
           -10.85636829031833
          ],
          [
           "full body:undistorted_GX010161_54_676.jpg_gamma.jpg_gamma",
           "Prawn_0",
           28.138803308831882
          ],
          [
           "full body:undistorted_GX010162_72_927.jpg_gamma.jpg_gamma",
           "Prawn_0",
           -19.162510022786677
          ],
          [
           "full body:undistorted_GX010174_62_790.jpg_gamma",
           "Prawn_0",
           12.947519438129916
          ],
          [
           "full body:undistorted_GX010175_266_3372.jpg_gamma.jpg_gamma",
           "Prawn_0",
           -3.98366552427791
          ],
          [
           "full body:undistorted_GX010177_232_3047",
           "Prawn_0",
           -26.76206754060297
          ],
          [
           "full body:undistorted_GX010178_172_3604.jpg_gamma",
           "Prawn_0",
           -20.571971647359277
          ],
          [
           "full body:undistorted_GX010183_37_685.jpg_gamma",
           "Prawn_0",
           -8.406565501138388
          ],
          [
           "full body:undistorted_GX010183_80_1633.jpg_gamma",
           "Prawn_0",
           4.567066900688502
          ],
          [
           "full body:undistorted_GX010183_128_2852.jpg_gamma",
           "Prawn_0",
           -7.308167522117344
          ]
         ],
         "hovertemplate": "<b>🦐 Prawn Measurement</b><br>🏊‍♀️ Pond: Square<br>🖼️ Image: %{customdata[0]}<br>🆔 Prawn ID: %{customdata[1]}<br>📏 Manual: %{x:.1f}mm<br>🤖 Algorithm: %{y:.1f}mm<br>📊 Difference: %{customdata[2]:.1f}mm<br><extra></extra>",
         "marker": {
          "color": "#45B7D1",
          "line": {
           "color": "white",
           "width": 1
          },
          "opacity": 0.8,
          "size": 8
         },
         "mode": "markers",
         "name": "",
         "showlegend": false,
         "type": "scatter",
         "x": {
          "bdata": "/tR46SZxXEDdslbHBMdfQKhUnH34JFtA8KfGSzcBWkAU9W+EMnpcQG+EMnpb1lZAjSW/WPLjW0DAWPKLJe9bQHcwT9S/eV5ANxeSplRIYkA9CtejcBVjQACOUEZvA1lA/PAZdgUYYUDe3d3d3dFgQA==",
          "dtype": "f8"
         },
         "xaxis": "x3",
         "y": {
          "bdata": "i7JAWvKlWkBDSmUC1GpbQF0KANFHKlhAKKyP5N3cVkAq5X3HY8NZQAuFeKE9311Ah9xOyIsZV0CoHoS0yStfQPvxEHTLel1Ahh81luPfXUCGFVsMI4NgQHHJARtq6VZAORSW3yqqYUAAcHa3AtBfQA==",
          "dtype": "f8"
         },
         "yaxis": "y3"
        },
        {
         "hovertemplate": "Perfect Agreement Line<br>Manual = Algorithm<extra></extra>",
         "line": {
          "color": "black",
          "dash": "dash",
          "width": 2
         },
         "mode": "lines",
         "name": "",
         "showlegend": false,
         "type": "scatter",
         "x": {
          "bdata": "b4QyelvWVkCEXOu8//1WQJk0pP+jJVdArQxdQkhNV0DC5BWF7HRXQNe8zseQnFdA7JSHCjXEV0ABbUBN2etXQBVF+Y99E1hAKh2y0iE7WEA/9WoVxmJYQFTNI1hqilhAaaXcmg6yWEB9fZXdstlYQJJVTiBXAVlApy0HY/soWUC8BcCln1BZQNDdeOhDeFlA5bUxK+ifWUD6jeptjMdZQA9mo7Aw71lAJD5c89QWWkA4FhU2eT5aQE3uzXgdZlpAYsaGu8GNWkB3nj/+ZbVaQIx2+EAK3VpAoE6xg64EW0C1JmrGUixbQMr+Ign3U1tA39bbS5t7W0D0rpSOP6NbQAiHTdHjyltAHV8GFIjyW0AyN79WLBpcQEcPeJnQQVxAXOcw3HRpXEBwv+keGZFcQIWXomG9uFxAmm9bpGHgXECvRxTnBQhdQMQfzSmqL11A2PeFbE5XXUDtzz6v8n5dQAKo9/GWpl1AF4CwNDvOXUAsWGl33/VdQEAwIrqDHV5AVQjb/CdFXkBq4JM/zGxeQH+4TIJwlF5AlJAFxRS8XkCoaL4HueNeQL1Ad0pdC19A0hgwjQEzX0Dn8OjPpVpfQPzIoRJKgl9AEKFaVe6pX0AleROYktFfQDpRzNo2+V9AqJTCjm0QYECyAB+wPyRgQLxse9EROGBAxtjX8uNLYEDRRDQUtl9gQNywkDWIc2BA5hztVlqHYEDwiEl4LJtgQPr0pZn+rmBABWECu9DCYEAQzV7cotZgQBo5u/106mBAJKUXH0f+YEAuEXRAGRJhQDl90GHrJWFAROksg705YUBOVYmkj01hQFjB5cVhYWFAYi1C5zN1YUBtmZ4IBolhQHgF+ynYnGFAgnFXS6qwYUCM3bNsfMRhQJZJEI5O2GFAobVsryDsYUCrIcnQ8v9hQLaNJfLEE2JAwPmBE5cnYkDKZd40aTtiQNXROlY7T2JA3z2Xdw1jYkDqqfOY33ZiQPQVULqximJA/oGs24OeYkAJ7gj9VbJiQBNaZR4oxmJAHsbBP/rZYkAoMh5hzO1iQDKeeoKeAWNAPQrXo3AVY0A=",
          "dtype": "f8"
         },
         "xaxis": "x3",
         "y": {
          "bdata": "b4QyelvWVkCEXOu8//1WQJk0pP+jJVdArQxdQkhNV0DC5BWF7HRXQNe8zseQnFdA7JSHCjXEV0ABbUBN2etXQBVF+Y99E1hAKh2y0iE7WEA/9WoVxmJYQFTNI1hqilhAaaXcmg6yWEB9fZXdstlYQJJVTiBXAVlApy0HY/soWUC8BcCln1BZQNDdeOhDeFlA5bUxK+ifWUD6jeptjMdZQA9mo7Aw71lAJD5c89QWWkA4FhU2eT5aQE3uzXgdZlpAYsaGu8GNWkB3nj/+ZbVaQIx2+EAK3VpAoE6xg64EW0C1JmrGUixbQMr+Ign3U1tA39bbS5t7W0D0rpSOP6NbQAiHTdHjyltAHV8GFIjyW0AyN79WLBpcQEcPeJnQQVxAXOcw3HRpXEBwv+keGZFcQIWXomG9uFxAmm9bpGHgXECvRxTnBQhdQMQfzSmqL11A2PeFbE5XXUDtzz6v8n5dQAKo9/GWpl1AF4CwNDvOXUAsWGl33/VdQEAwIrqDHV5AVQjb/CdFXkBq4JM/zGxeQH+4TIJwlF5AlJAFxRS8XkCoaL4HueNeQL1Ad0pdC19A0hgwjQEzX0Dn8OjPpVpfQPzIoRJKgl9AEKFaVe6pX0AleROYktFfQDpRzNo2+V9AqJTCjm0QYECyAB+wPyRgQLxse9EROGBAxtjX8uNLYEDRRDQUtl9gQNywkDWIc2BA5hztVlqHYEDwiEl4LJtgQPr0pZn+rmBABWECu9DCYEAQzV7cotZgQBo5u/106mBAJKUXH0f+YEAuEXRAGRJhQDl90GHrJWFAROksg705YUBOVYmkj01hQFjB5cVhYWFAYi1C5zN1YUBtmZ4IBolhQHgF+ynYnGFAgnFXS6qwYUCM3bNsfMRhQJZJEI5O2GFAobVsryDsYUCrIcnQ8v9hQLaNJfLEE2JAwPmBE5cnYkDKZd40aTtiQNXROlY7T2JA3z2Xdw1jYkDqqfOY33ZiQPQVULqximJA/oGs24OeYkAJ7gj9VbJiQBNaZR4oxmJAHsbBP/rZYkAoMh5hzO1iQDKeeoKeAWNAPQrXo3AVY0A=",
          "dtype": "f8"
         },
         "yaxis": "y3"
        },
        {
         "hovertemplate": "Upper Boundary (+7.7mm)<extra></extra>",
         "line": {
          "color": "#2c7fb8",
          "dash": "dot",
          "width": 1
         },
         "mode": "lines",
         "name": "",
         "showlegend": false,
         "type": "scatter",
         "x": {
          "bdata": "b4QyelvWVkCEXOu8//1WQJk0pP+jJVdArQxdQkhNV0DC5BWF7HRXQNe8zseQnFdA7JSHCjXEV0ABbUBN2etXQBVF+Y99E1hAKh2y0iE7WEA/9WoVxmJYQFTNI1hqilhAaaXcmg6yWEB9fZXdstlYQJJVTiBXAVlApy0HY/soWUC8BcCln1BZQNDdeOhDeFlA5bUxK+ifWUD6jeptjMdZQA9mo7Aw71lAJD5c89QWWkA4FhU2eT5aQE3uzXgdZlpAYsaGu8GNWkB3nj/+ZbVaQIx2+EAK3VpAoE6xg64EW0C1JmrGUixbQMr+Ign3U1tA39bbS5t7W0D0rpSOP6NbQAiHTdHjyltAHV8GFIjyW0AyN79WLBpcQEcPeJnQQVxAXOcw3HRpXEBwv+keGZFcQIWXomG9uFxAmm9bpGHgXECvRxTnBQhdQMQfzSmqL11A2PeFbE5XXUDtzz6v8n5dQAKo9/GWpl1AF4CwNDvOXUAsWGl33/VdQEAwIrqDHV5AVQjb/CdFXkBq4JM/zGxeQH+4TIJwlF5AlJAFxRS8XkCoaL4HueNeQL1Ad0pdC19A0hgwjQEzX0Dn8OjPpVpfQPzIoRJKgl9AEKFaVe6pX0AleROYktFfQDpRzNo2+V9AqJTCjm0QYECyAB+wPyRgQLxse9EROGBAxtjX8uNLYEDRRDQUtl9gQNywkDWIc2BA5hztVlqHYEDwiEl4LJtgQPr0pZn+rmBABWECu9DCYEAQzV7cotZgQBo5u/106mBAJKUXH0f+YEAuEXRAGRJhQDl90GHrJWFAROksg705YUBOVYmkj01hQFjB5cVhYWFAYi1C5zN1YUBtmZ4IBolhQHgF+ynYnGFAgnFXS6qwYUCM3bNsfMRhQJZJEI5O2GFAobVsryDsYUCrIcnQ8v9hQLaNJfLEE2JAwPmBE5cnYkDKZd40aTtiQNXROlY7T2JA3z2Xdw1jYkDqqfOY33ZiQPQVULqximJA/oGs24OeYkAJ7gj9VbJiQBNaZR4oxmJAHsbBP/rZYkAoMh5hzO1iQDKeeoKeAWNAPQrXo3AVY0A=",
          "dtype": "f8"
         },
         "xaxis": "x3",
         "y": {
          "bdata": "hBlIXgvFWECZ8QChr+xYQK7JueNTFFlAwqFyJvg7WUDXeStpnGNZQOxR5KtAi1lAASqd7uSyWUAWAlYxidpZQCraDnQtAlpAP7LHttEpWkBUioD5dVFaQGliOTwaeVpAfjryfr6gWkCSEqvBYshaQKfqYwQH8FpAvMIcR6sXW0DRmtWJTz9bQOVyjszzZltA+kpHD5iOW0APIwBSPLZbQCT7uJTg3VtAOdNx14QFXEBNqyoaKS1cQGKD41zNVFxAd1ucn3F8XECMM1XiFaRcQKELDiW6y1xAtePGZ17zXEDKu3+qAhtdQN+TOO2mQl1A9GvxL0tqXUAJRKpy75FdQB0cY7WTuV1AMvQb+DfhXUBHzNQ63AheQFykjX2AMF5AcXxGwCRYXkCFVP8CyX9eQJosuEVtp15ArwRxiBHPXkDE3CnLtfZeQNm04g1aHl9A7YybUP5FX0ACZVSTom1fQBc9DdZGlV9ALBXGGOu8X0BB7X5bj+RfQKriG88ZBmBAtU548OsZYEC/utQRvi1gQMomMTOQQWBA1JKNVGJVYEDe/ul1NGlgQOlqRpcGfWBA89aiuNiQYED+Qv/ZqqRgQAivW/t8uGBAEhu4HE/MYEAdhxQ+IeBgQCfzcF/z82BAMl/NgMUHYUA8yymilxthQEY3hsNpL2FAUKPi5DtDYUBbDz8GDldhQGZ7myfgamFAcOf3SLJ+YUB6U1RqhJJhQIS/sItWpmFAjysNrSi6YUCal2nO+s1hQKQDxu/M4WFArm8iEZ/1YUC4234ycQliQMNH21NDHWJAzrM3dRUxYkDYH5SW50RiQOKL8Le5WGJA7PdM2YtsYkD3Y6n6XYBiQALQBRwwlGJADDxiPQKoYkAWqL5e1LtiQCAUG4Cmz2JAK4B3oXjjYkA17NPCSvdiQEBYMOQcC2NASsSMBe8eY0BUMOkmwTJjQF+cRUiTRmNAaQiiaWVaY0B0dP6KN25jQH7gWqwJgmNAiEy3zduVY0CTuBPvraljQJ0kcBCAvWNAqJDMMVLRY0Cy/ChTJOVjQLxohXT2+GNAx9ThlcgMZEA=",
          "dtype": "f8"
         },
         "yaxis": "y3"
        },
        {
         "hovertemplate": "Lower Boundary (-7.7mm)<extra></extra>",
         "line": {
          "color": "#2c7fb8",
          "dash": "dot",
          "width": 1
         },
         "mode": "lines",
         "name": "",
         "showlegend": false,
         "type": "scatter",
         "x": {
          "bdata": "b4QyelvWVkCEXOu8//1WQJk0pP+jJVdArQxdQkhNV0DC5BWF7HRXQNe8zseQnFdA7JSHCjXEV0ABbUBN2etXQBVF+Y99E1hAKh2y0iE7WEA/9WoVxmJYQFTNI1hqilhAaaXcmg6yWEB9fZXdstlYQJJVTiBXAVlApy0HY/soWUC8BcCln1BZQNDdeOhDeFlA5bUxK+ifWUD6jeptjMdZQA9mo7Aw71lAJD5c89QWWkA4FhU2eT5aQE3uzXgdZlpAYsaGu8GNWkB3nj/+ZbVaQIx2+EAK3VpAoE6xg64EW0C1JmrGUixbQMr+Ign3U1tA39bbS5t7W0D0rpSOP6NbQAiHTdHjyltAHV8GFIjyW0AyN79WLBpcQEcPeJnQQVxAXOcw3HRpXEBwv+keGZFcQIWXomG9uFxAmm9bpGHgXECvRxTnBQhdQMQfzSmqL11A2PeFbE5XXUDtzz6v8n5dQAKo9/GWpl1AF4CwNDvOXUAsWGl33/VdQEAwIrqDHV5AVQjb/CdFXkBq4JM/zGxeQH+4TIJwlF5AlJAFxRS8XkCoaL4HueNeQL1Ad0pdC19A0hgwjQEzX0Dn8OjPpVpfQPzIoRJKgl9AEKFaVe6pX0AleROYktFfQDpRzNo2+V9AqJTCjm0QYECyAB+wPyRgQLxse9EROGBAxtjX8uNLYEDRRDQUtl9gQNywkDWIc2BA5hztVlqHYEDwiEl4LJtgQPr0pZn+rmBABWECu9DCYEAQzV7cotZgQBo5u/106mBAJKUXH0f+YEAuEXRAGRJhQDl90GHrJWFAROksg705YUBOVYmkj01hQFjB5cVhYWFAYi1C5zN1YUBtmZ4IBolhQHgF+ynYnGFAgnFXS6qwYUCM3bNsfMRhQJZJEI5O2GFAobVsryDsYUCrIcnQ8v9hQLaNJfLEE2JAwPmBE5cnYkDKZd40aTtiQNXROlY7T2JA3z2Xdw1jYkDqqfOY33ZiQPQVULqximJA/oGs24OeYkAJ7gj9VbJiQBNaZR4oxmJAHsbBP/rZYkAoMh5hzO1iQDKeeoKeAWNAPQrXo3AVY0A=",
          "dtype": "f8"
         },
         "xaxis": "x3",
         "y": {
          "bdata": "Wu8clqvnVEBvx9XYTw9VQISfjhv0NlVAmHdHXpheVUCtTwChPIZVQMInuePgrVVA1/9xJoXVVUDs1yppKf1VQACw46vNJFZAFYic7nFMVkAqYFUxFnRWQD84DnS6m1ZAVBDHtl7DVkBo6H/5AutWQH3AODynEldAkpjxfks6V0CncKrB72FXQLtIYwSUiVdA0CAcRzixV0Dl+NSJ3NhXQPrQjcyAAFhAD6lGDyUoWEAjgf9RyU9YQDhZuJRtd1hATTFx1xGfWEBiCSoatsZYQHfh4lxa7lhAi7mbn/4VWUCgkVTioj1ZQLVpDSVHZVlAykHGZ+uMWUDfGX+qj7RZQPPxN+0z3FlACMrwL9gDWkAdoqlyfCtaQDJ6YrUgU1pAR1Ib+MR6WkBbKtQ6aaJaQHACjX0NylpAhdpFwLHxWkCasv4CVhlbQK+Kt0X6QFtAw2JwiJ5oW0DYOinLQpBbQO0S4g3nt1tAAuuaUIvfW0AXw1OTLwdcQCubDNbTLlxAQHPFGHhWXEBVS35bHH5cQGojN57ApVxAf/vv4GTNXECT06gjCfVcQKirYWatHF1AvYMaqVFEXUDSW9Pr9WtdQOczjC6ak11A+wtFcT67XUAQ5P2z4uJdQCW8tvaGCl5AO5RvOSsyXkBPbCh8z1leQGNE4b5zgV5AdxyaARipXkCN9FJEvNBeQKPMC4dg+F5At6TEyQQgX0DLfH0MqUdfQN9UNk9Nb19A9SzvkfGWX0ALBajUlb5fQB/dYBc65l9AmtoMLe8GYECkRmlOwRpgQK+yxW+TLmBAuh4ikWVCYEDEin6yN1ZgQM722tMJamBA2GI39dt9YEDjzpMWrpFgQO468DeApWBA+KZMWVK5YEACE6l6JM1gQAx/BZz24GBAF+thvcj0YEAhV77emghhQCzDGgBtHGFANi93IT8wYUBAm9NCEURhQEsHMGTjV2FAVXOMhbVrYUBg3+imh39hQGpLRchZk2FAdLeh6SunYUB/I/4K/rphQImPWizQzmFAlPu2TaLiYUCeZxNvdPZhQKjTb5BGCmJAsz/MsRgeYkA=",
          "dtype": "f8"
         },
         "yaxis": "y3"
        }
       ],
       "layout": {
        "annotations": [
         {
          "font": {
           "size": 16
          },
          "showarrow": false,
          "text": "🏊‍♀️ Circle Female Pond<br><sub>Agreement: 33.7% | n=92</sub>",
          "x": 0.13999999999999999,
          "xanchor": "center",
          "xref": "paper",
          "y": 1,
          "yanchor": "bottom",
          "yref": "paper"
         },
         {
          "font": {
           "size": 16
          },
          "showarrow": false,
          "text": "🏊‍♀️ Circle Male Pond<br><sub>Agreement: 0.0% | n=13</sub>",
          "x": 0.49999999999999994,
          "xanchor": "center",
          "xref": "paper",
          "y": 1,
          "yanchor": "bottom",
          "yref": "paper"
         },
         {
          "font": {
           "size": 16
          },
          "showarrow": false,
          "text": "🏊‍♀️ Square Pond<br><sub>Agreement: 28.6% | n=14</sub>",
          "x": 0.86,
          "xanchor": "center",
          "xref": "paper",
          "y": 1,
          "yanchor": "bottom",
          "yref": "paper"
         },
         {
          "font": {
           "color": "gray",
           "size": 11
          },
          "showarrow": false,
          "text": "💡 Hover over points for detailed measurement info | Points near diagonal = better agreement",
          "x": 0.5,
          "xanchor": "center",
          "xref": "paper",
          "y": -0.08,
          "yref": "paper"
         }
        ],
        "height": 650,
        "legend": {
         "font": {
          "size": 12
         },
         "orientation": "h",
         "x": 0.5,
         "xanchor": "center",
         "y": 1.02,
         "yanchor": "bottom"
        },
        "plot_bgcolor": "white",
        "showlegend": true,
        "template": {
         "data": {
          "bar": [
           {
            "error_x": {
             "color": "#2a3f5f"
            },
            "error_y": {
             "color": "#2a3f5f"
            },
            "marker": {
             "line": {
              "color": "#E5ECF6",
              "width": 0.5
             },
             "pattern": {
              "fillmode": "overlay",
              "size": 10,
              "solidity": 0.2
             }
            },
            "type": "bar"
           }
          ],
          "barpolar": [
           {
            "marker": {
             "line": {
              "color": "#E5ECF6",
              "width": 0.5
             },
             "pattern": {
              "fillmode": "overlay",
              "size": 10,
              "solidity": 0.2
             }
            },
            "type": "barpolar"
           }
          ],
          "carpet": [
           {
            "aaxis": {
             "endlinecolor": "#2a3f5f",
             "gridcolor": "white",
             "linecolor": "white",
             "minorgridcolor": "white",
             "startlinecolor": "#2a3f5f"
            },
            "baxis": {
             "endlinecolor": "#2a3f5f",
             "gridcolor": "white",
             "linecolor": "white",
             "minorgridcolor": "white",
             "startlinecolor": "#2a3f5f"
            },
            "type": "carpet"
           }
          ],
          "choropleth": [
           {
            "colorbar": {
             "outlinewidth": 0,
             "ticks": ""
            },
            "type": "choropleth"
           }
          ],
          "contour": [
           {
            "colorbar": {
             "outlinewidth": 0,
             "ticks": ""
            },
            "colorscale": [
             [
              0,
              "#0d0887"
             ],
             [
              0.1111111111111111,
              "#46039f"
             ],
             [
              0.2222222222222222,
              "#7201a8"
             ],
             [
              0.3333333333333333,
              "#9c179e"
             ],
             [
              0.4444444444444444,
              "#bd3786"
             ],
             [
              0.5555555555555556,
              "#d8576b"
             ],
             [
              0.6666666666666666,
              "#ed7953"
             ],
             [
              0.7777777777777778,
              "#fb9f3a"
             ],
             [
              0.8888888888888888,
              "#fdca26"
             ],
             [
              1,
              "#f0f921"
             ]
            ],
            "type": "contour"
           }
          ],
          "contourcarpet": [
           {
            "colorbar": {
             "outlinewidth": 0,
             "ticks": ""
            },
            "type": "contourcarpet"
           }
          ],
          "heatmap": [
           {
            "colorbar": {
             "outlinewidth": 0,
             "ticks": ""
            },
            "colorscale": [
             [
              0,
              "#0d0887"
             ],
             [
              0.1111111111111111,
              "#46039f"
             ],
             [
              0.2222222222222222,
              "#7201a8"
             ],
             [
              0.3333333333333333,
              "#9c179e"
             ],
             [
              0.4444444444444444,
              "#bd3786"
             ],
             [
              0.5555555555555556,
              "#d8576b"
             ],
             [
              0.6666666666666666,
              "#ed7953"
             ],
             [
              0.7777777777777778,
              "#fb9f3a"
             ],
             [
              0.8888888888888888,
              "#fdca26"
             ],
             [
              1,
              "#f0f921"
             ]
            ],
            "type": "heatmap"
           }
          ],
          "histogram": [
           {
            "marker": {
             "pattern": {
              "fillmode": "overlay",
              "size": 10,
              "solidity": 0.2
             }
            },
            "type": "histogram"
           }
          ],
          "histogram2d": [
           {
            "colorbar": {
             "outlinewidth": 0,
             "ticks": ""
            },
            "colorscale": [
             [
              0,
              "#0d0887"
             ],
             [
              0.1111111111111111,
              "#46039f"
             ],
             [
              0.2222222222222222,
              "#7201a8"
             ],
             [
              0.3333333333333333,
              "#9c179e"
             ],
             [
              0.4444444444444444,
              "#bd3786"
             ],
             [
              0.5555555555555556,
              "#d8576b"
             ],
             [
              0.6666666666666666,
              "#ed7953"
             ],
             [
              0.7777777777777778,
              "#fb9f3a"
             ],
             [
              0.8888888888888888,
              "#fdca26"
             ],
             [
              1,
              "#f0f921"
             ]
            ],
            "type": "histogram2d"
           }
          ],
          "histogram2dcontour": [
           {
            "colorbar": {
             "outlinewidth": 0,
             "ticks": ""
            },
            "colorscale": [
             [
              0,
              "#0d0887"
             ],
             [
              0.1111111111111111,
              "#46039f"
             ],
             [
              0.2222222222222222,
              "#7201a8"
             ],
             [
              0.3333333333333333,
              "#9c179e"
             ],
             [
              0.4444444444444444,
              "#bd3786"
             ],
             [
              0.5555555555555556,
              "#d8576b"
             ],
             [
              0.6666666666666666,
              "#ed7953"
             ],
             [
              0.7777777777777778,
              "#fb9f3a"
             ],
             [
              0.8888888888888888,
              "#fdca26"
             ],
             [
              1,
              "#f0f921"
             ]
            ],
            "type": "histogram2dcontour"
           }
          ],
          "mesh3d": [
           {
            "colorbar": {
             "outlinewidth": 0,
             "ticks": ""
            },
            "type": "mesh3d"
           }
          ],
          "parcoords": [
           {
            "line": {
             "colorbar": {
              "outlinewidth": 0,
              "ticks": ""
             }
            },
            "type": "parcoords"
           }
          ],
          "pie": [
           {
            "automargin": true,
            "type": "pie"
           }
          ],
          "scatter": [
           {
            "fillpattern": {
             "fillmode": "overlay",
             "size": 10,
             "solidity": 0.2
            },
            "type": "scatter"
           }
          ],
          "scatter3d": [
           {
            "line": {
             "colorbar": {
              "outlinewidth": 0,
              "ticks": ""
             }
            },
            "marker": {
             "colorbar": {
              "outlinewidth": 0,
              "ticks": ""
             }
            },
            "type": "scatter3d"
           }
          ],
          "scattercarpet": [
           {
            "marker": {
             "colorbar": {
              "outlinewidth": 0,
              "ticks": ""
             }
            },
            "type": "scattercarpet"
           }
          ],
          "scattergeo": [
           {
            "marker": {
             "colorbar": {
              "outlinewidth": 0,
              "ticks": ""
             }
            },
            "type": "scattergeo"
           }
          ],
          "scattergl": [
           {
            "marker": {
             "colorbar": {
              "outlinewidth": 0,
              "ticks": ""
             }
            },
            "type": "scattergl"
           }
          ],
          "scattermap": [
           {
            "marker": {
             "colorbar": {
              "outlinewidth": 0,
              "ticks": ""
             }
            },
            "type": "scattermap"
           }
          ],
          "scattermapbox": [
           {
            "marker": {
             "colorbar": {
              "outlinewidth": 0,
              "ticks": ""
             }
            },
            "type": "scattermapbox"
           }
          ],
          "scatterpolar": [
           {
            "marker": {
             "colorbar": {
              "outlinewidth": 0,
              "ticks": ""
             }
            },
            "type": "scatterpolar"
           }
          ],
          "scatterpolargl": [
           {
            "marker": {
             "colorbar": {
              "outlinewidth": 0,
              "ticks": ""
             }
            },
            "type": "scatterpolargl"
           }
          ],
          "scatterternary": [
           {
            "marker": {
             "colorbar": {
              "outlinewidth": 0,
              "ticks": ""
             }
            },
            "type": "scatterternary"
           }
          ],
          "surface": [
           {
            "colorbar": {
             "outlinewidth": 0,
             "ticks": ""
            },
            "colorscale": [
             [
              0,
              "#0d0887"
             ],
             [
              0.1111111111111111,
              "#46039f"
             ],
             [
              0.2222222222222222,
              "#7201a8"
             ],
             [
              0.3333333333333333,
              "#9c179e"
             ],
             [
              0.4444444444444444,
              "#bd3786"
             ],
             [
              0.5555555555555556,
              "#d8576b"
             ],
             [
              0.6666666666666666,
              "#ed7953"
             ],
             [
              0.7777777777777778,
              "#fb9f3a"
             ],
             [
              0.8888888888888888,
              "#fdca26"
             ],
             [
              1,
              "#f0f921"
             ]
            ],
            "type": "surface"
           }
          ],
          "table": [
           {
            "cells": {
             "fill": {
              "color": "#EBF0F8"
             },
             "line": {
              "color": "white"
             }
            },
            "header": {
             "fill": {
              "color": "#C8D4E3"
             },
             "line": {
              "color": "white"
             }
            },
            "type": "table"
           }
          ]
         },
         "layout": {
          "annotationdefaults": {
           "arrowcolor": "#2a3f5f",
           "arrowhead": 0,
           "arrowwidth": 1
          },
          "autotypenumbers": "strict",
          "coloraxis": {
           "colorbar": {
            "outlinewidth": 0,
            "ticks": ""
           }
          },
          "colorscale": {
           "diverging": [
            [
             0,
             "#8e0152"
            ],
            [
             0.1,
             "#c51b7d"
            ],
            [
             0.2,
             "#de77ae"
            ],
            [
             0.3,
             "#f1b6da"
            ],
            [
             0.4,
             "#fde0ef"
            ],
            [
             0.5,
             "#f7f7f7"
            ],
            [
             0.6,
             "#e6f5d0"
            ],
            [
             0.7,
             "#b8e186"
            ],
            [
             0.8,
             "#7fbc41"
            ],
            [
             0.9,
             "#4d9221"
            ],
            [
             1,
             "#276419"
            ]
           ],
           "sequential": [
            [
             0,
             "#0d0887"
            ],
            [
             0.1111111111111111,
             "#46039f"
            ],
            [
             0.2222222222222222,
             "#7201a8"
            ],
            [
             0.3333333333333333,
             "#9c179e"
            ],
            [
             0.4444444444444444,
             "#bd3786"
            ],
            [
             0.5555555555555556,
             "#d8576b"
            ],
            [
             0.6666666666666666,
             "#ed7953"
            ],
            [
             0.7777777777777778,
             "#fb9f3a"
            ],
            [
             0.8888888888888888,
             "#fdca26"
            ],
            [
             1,
             "#f0f921"
            ]
           ],
           "sequentialminus": [
            [
             0,
             "#0d0887"
            ],
            [
             0.1111111111111111,
             "#46039f"
            ],
            [
             0.2222222222222222,
             "#7201a8"
            ],
            [
             0.3333333333333333,
             "#9c179e"
            ],
            [
             0.4444444444444444,
             "#bd3786"
            ],
            [
             0.5555555555555556,
             "#d8576b"
            ],
            [
             0.6666666666666666,
             "#ed7953"
            ],
            [
             0.7777777777777778,
             "#fb9f3a"
            ],
            [
             0.8888888888888888,
             "#fdca26"
            ],
            [
             1,
             "#f0f921"
            ]
           ]
          },
          "colorway": [
           "#636efa",
           "#EF553B",
           "#00cc96",
           "#ab63fa",
           "#FFA15A",
           "#19d3f3",
           "#FF6692",
           "#B6E880",
           "#FF97FF",
           "#FECB52"
          ],
          "font": {
           "color": "#2a3f5f"
          },
          "geo": {
           "bgcolor": "white",
           "lakecolor": "white",
           "landcolor": "#E5ECF6",
           "showlakes": true,
           "showland": true,
           "subunitcolor": "white"
          },
          "hoverlabel": {
           "align": "left"
          },
          "hovermode": "closest",
          "mapbox": {
           "style": "light"
          },
          "paper_bgcolor": "white",
          "plot_bgcolor": "#E5ECF6",
          "polar": {
           "angularaxis": {
            "gridcolor": "white",
            "linecolor": "white",
            "ticks": ""
           },
           "bgcolor": "#E5ECF6",
           "radialaxis": {
            "gridcolor": "white",
            "linecolor": "white",
            "ticks": ""
           }
          },
          "scene": {
           "xaxis": {
            "backgroundcolor": "#E5ECF6",
            "gridcolor": "white",
            "gridwidth": 2,
            "linecolor": "white",
            "showbackground": true,
            "ticks": "",
            "zerolinecolor": "white"
           },
           "yaxis": {
            "backgroundcolor": "#E5ECF6",
            "gridcolor": "white",
            "gridwidth": 2,
            "linecolor": "white",
            "showbackground": true,
            "ticks": "",
            "zerolinecolor": "white"
           },
           "zaxis": {
            "backgroundcolor": "#E5ECF6",
            "gridcolor": "white",
            "gridwidth": 2,
            "linecolor": "white",
            "showbackground": true,
            "ticks": "",
            "zerolinecolor": "white"
           }
          },
          "shapedefaults": {
           "line": {
            "color": "#2a3f5f"
           }
          },
          "ternary": {
           "aaxis": {
            "gridcolor": "white",
            "linecolor": "white",
            "ticks": ""
           },
           "baxis": {
            "gridcolor": "white",
            "linecolor": "white",
            "ticks": ""
           },
           "bgcolor": "#E5ECF6",
           "caxis": {
            "gridcolor": "white",
            "linecolor": "white",
            "ticks": ""
           }
          },
          "title": {
           "x": 0.05
          },
          "xaxis": {
           "automargin": true,
           "gridcolor": "white",
           "linecolor": "white",
           "ticks": "",
           "title": {
            "standoff": 15
           },
           "zerolinecolor": "white",
           "zerolinewidth": 2
          },
          "yaxis": {
           "automargin": true,
           "gridcolor": "white",
           "linecolor": "white",
           "ticks": "",
           "title": {
            "standoff": 15
           },
           "zerolinecolor": "white",
           "zerolinewidth": 2
          }
         }
        },
        "title": {
         "font": {
          "size": 18
         },
         "text": "🎯 Measurement Precision Dashboard: Algorithm vs Manual Agreement Analysis"
        },
        "width": 1350,
        "xaxis": {
         "anchor": "y",
         "domain": [
          0,
          0.27999999999999997
         ],
         "gridcolor": "lightgray",
         "gridwidth": 1,
         "showgrid": true,
         "title": {
          "font": {
           "size": 12
          },
          "text": "Manual Measurements (mm)"
         }
        },
        "xaxis2": {
         "anchor": "y2",
         "domain": [
          0.36,
          0.6399999999999999
         ],
         "gridcolor": "lightgray",
         "gridwidth": 1,
         "showgrid": true,
         "title": {
          "font": {
           "size": 12
          },
          "text": "Manual Measurements (mm)"
         }
        },
        "xaxis3": {
         "anchor": "y3",
         "domain": [
          0.72,
          1
         ],
         "gridcolor": "lightgray",
         "gridwidth": 1,
         "showgrid": true,
         "title": {
          "font": {
           "size": 12
          },
          "text": "Manual Measurements (mm)"
         }
        },
        "yaxis": {
         "anchor": "x",
         "domain": [
          0,
          1
         ],
         "gridcolor": "lightgray",
         "gridwidth": 1,
         "scaleanchor": "x",
         "scaleratio": 1,
         "showgrid": true,
         "title": {
          "font": {
           "size": 12
          },
          "text": "Algorithm Predictions (mm)"
         }
        },
        "yaxis2": {
         "anchor": "x2",
         "domain": [
          0,
          1
         ],
         "gridcolor": "lightgray",
         "gridwidth": 1,
         "scaleanchor": "x2",
         "scaleratio": 1,
         "showgrid": true
        },
        "yaxis3": {
         "anchor": "x3",
         "domain": [
          0,
          1
         ],
         "gridcolor": "lightgray",
         "gridwidth": 1,
         "scaleanchor": "x3",
         "scaleratio": 1,
         "showgrid": true
        }
       }
      }
     },
     "metadata": {},
     "output_type": "display_data"
    },
    {
     "name": "stdout",
     "output_type": "stream",
     "text": [
      "\n",
      "================================================================================\n",
      "🎯 MEASUREMENT PRECISION ANALYSIS COMPLETE!\n",
      "================================================================================\n",
      "\n",
      "📋 DETAILED PRECISION SUMMARY:\n",
      "--------------------------------------------------\n",
      "\n",
      "🏊‍♀️ Circle Female Pond Detailed Analysis:\n",
      "   📏 Mean Length: 116.74mm\n",
      "   📊 Std Boundary: ±7.58mm\n",
      "   🦐 Sample Size: 92 measurements\n",
      "   ✅ Within Bounds: 33.7%\n",
      "   📈 Mean Absolute Error: 12.90mm\n",
      "   📉 Mean Bias: 10.82mm\n",
      "   🎯 Precision Range: 0.05 - 36.02mm\n",
      "\n",
      "🏊‍♀️ Circle Male Pond Detailed Analysis:\n",
      "   📏 Mean Length: 77.39mm\n",
      "   📊 Std Boundary: ±5.62mm\n",
      "   🦐 Sample Size: 13 measurements\n",
      "   ✅ Within Bounds: 0.0%\n",
      "   📈 Mean Absolute Error: 17.71mm\n",
      "   📉 Mean Bias: 7.24mm\n",
      "   🎯 Precision Range: 9.56 - 35.64mm\n",
      "\n",
      "🏊‍♀️ Square Pond Detailed Analysis:\n",
      "   📏 Mean Length: 119.59mm\n",
      "   📊 Std Boundary: ±7.73mm\n",
      "   🦐 Sample Size: 14 measurements\n",
      "   ✅ Within Bounds: 28.6%\n",
      "   📈 Mean Absolute Error: 13.70mm\n",
      "   📉 Mean Bias: -7.18mm\n",
      "   🎯 Precision Range: 3.98 - 28.14mm\n",
      "\n",
      "================================================================================\n",
      "🎨 VISUALIZATION FEATURES:\n",
      "   📍 Interactive hover: Shows image name, prawn ID, and measurement details\n",
      "   📐 Perfect agreement line: Black diagonal (y=x)\n",
      "   📊 Precision boundaries: Blue dashed lines (±std)\n",
      "   🏊‍♀️ Color coding: Consistent with previous analyses\n",
      "   📏 Equal aspect ratio: Accurate visual comparison\n",
      "================================================================================\n",
      "\n",
      "🚀 KEY INSIGHTS:\n",
      "   🎯 Points closer to diagonal = better algorithm-manual agreement\n",
      "   📊 Points within blue boundaries = acceptable precision range\n",
      "   🏊‍♀️ Each pond type shows distinct precision characteristics\n",
      "   📈 Hover over any point to see detailed measurement information\n",
      "================================================================================\n"
     ]
    }
   ],
   "source": [
    "# 🎯 COMPREHENSIVE MEASUREMENT PRECISION ANALYSIS\n",
    "# ===============================================\n",
    "\n",
    "print(\"🚀 Starting comprehensive measurement precision analysis...\")\n",
    "print(\"📊 Analyzing algorithm-manual agreement patterns across pond environments\")\n",
    "print(\"=\" * 80)\n",
    "\n",
    "# 📋 Initialize analysis parameters\n",
    "pond_types = df['Pond_Type'].unique()\n",
    "n_pond_types = len(pond_types)\n",
    "\n",
    "# 🎨 Enhanced color scheme for pond types (consistent with previous analyses)\n",
    "pond_colors_enhanced = {\n",
    "    'circle_female': '#FF6B6B',  # Coral red\n",
    "    'circle_male': '#4ECDC4',    # Teal  \n",
    "    'square': '#45B7D1'          # Sky blue\n",
    "}\n",
    "\n",
    "# 📊 PHASE 1: Data Preparation and Statistical Summary\n",
    "# ===================================================\n",
    "\n",
    "print(\"\\n📈 PHASE 1: Calculating precision metrics for each pond type...\")\n",
    "\n",
    "pond_scatter_data = {}\n",
    "precision_summary = {}\n",
    "\n",
    "for pond_type in pond_types:\n",
    "    print(f\"\\n🏊‍♀️ --- {pond_type.replace('_', ' ').title()} Pond Analysis ---\")\n",
    "    \n",
    "    # Extract pond-specific data\n",
    "    df_pond = df[df['Pond_Type'] == pond_type].copy()\n",
    "    \n",
    "    # Calculate basic statistics\n",
    "    mean_length = df_pond['mean_length'].mean()\n",
    "    std_length = df_pond['std_length'].mean()\n",
    "    sample_size = len(df_pond)\n",
    "    \n",
    "    print(f\"📏 Mean prawn length: {mean_length:.2f}mm\")\n",
    "    print(f\"📊 Standard deviation: {std_length:.2f}mm\")\n",
    "    print(f\"🦐 Sample size: {sample_size} measurements\")\n",
    "    \n",
    "    # 🎯 Calculate precision boundaries\n",
    "    min_val = min(df_pond['mean_length'].min(), df_pond['Length_fov(mm)'].min())\n",
    "    max_val = max(df_pond['mean_length'].max(), df_pond['Length_fov(mm)'].max())\n",
    "    x_range = np.linspace(min_val, max_val, 100)\n",
    "    \n",
    "    # 📐 Calculate agreement metrics\n",
    "    within_bounds = ((df_pond['Length_fov(mm)'] <= df_pond['mean_length'] + std_length) & \n",
    "                    (df_pond['Length_fov(mm)'] >= df_pond['mean_length'] - std_length)).mean() * 100\n",
    "    \n",
    "    print(f\"✅ Agreement rate (within ±{std_length:.1f}mm): {within_bounds:.1f}%\")\n",
    "    \n",
    "    # Store processed data\n",
    "    pond_scatter_data[pond_type] = {\n",
    "        'df_pond': df_pond,\n",
    "        'x': x_range,\n",
    "        'median_mad': std_length,\n",
    "        'within_bounds': within_bounds,\n",
    "        'color': pond_colors_enhanced.get(pond_type, '#333333')\n",
    "    }\n",
    "    \n",
    "    precision_summary[pond_type] = {\n",
    "        'mean_length': mean_length,\n",
    "        'std_length': std_length,\n",
    "        'sample_size': sample_size,\n",
    "        'agreement_rate': within_bounds\n",
    "    }\n",
    "    \n",
    "    print(\"─\" * 50)\n",
    "\n",
    "# 📊 PHASE 2: Interactive Scatter Plot Visualization\n",
    "# =================================================\n",
    "\n",
    "print(\"\\n🎨 PHASE 2: Creating interactive precision scatter plots...\")\n",
    "\n",
    "# Create enhanced subplot structure\n",
    "fig = make_subplots(\n",
    "    rows=1, cols=n_pond_types,\n",
    "    subplot_titles=[f'🏊‍♀️ {pond_type.replace(\"_\", \" \").title()} Pond<br>'\n",
    "                   f'<sub>Agreement: {pond_scatter_data[pond_type][\"within_bounds\"]:.1f}% | '\n",
    "                   f'n={precision_summary[pond_type][\"sample_size\"]}</sub>' \n",
    "                   for pond_type in pond_types],\n",
    "    shared_yaxes=False,\n",
    "    horizontal_spacing=0.08\n",
    ")\n",
    "\n",
    "# 🎯 Add traces for each pond type\n",
    "for i, pond_type in enumerate(pond_types, 1):\n",
    "    data = pond_scatter_data[pond_type]\n",
    "    df_pond = data['df_pond']\n",
    "    x_range = data['x']\n",
    "    std_boundary = data['median_mad']\n",
    "    color = data['color']\n",
    "    \n",
    "    # 📍 Add measurement scatter points with enhanced hover\n",
    "    fig.add_trace(\n",
    "        go.Scatter(\n",
    "            x=df_pond['mean_length'],\n",
    "            y=df_pond['Length_fov(mm)'],\n",
    "            mode='markers',\n",
    "            name='🦐 Measurements' if i == 1 else '',\n",
    "            marker=dict(\n",
    "                color=color,\n",
    "                opacity=0.8,\n",
    "                size=8,\n",
    "                line=dict(width=1, color='white')\n",
    "            ),\n",
    "            showlegend=(i == 1),\n",
    "            hovertemplate=\"<b>🦐 Prawn Measurement</b><br>\" +\n",
    "                         \"🏊‍♀️ Pond: \" + pond_type.replace('_', ' ').title() + \"<br>\" +\n",
    "                         \"🖼️ Image: %{customdata[0]}<br>\" +\n",
    "                         \"🆔 Prawn ID: %{customdata[1]}<br>\" +\n",
    "                         \"📏 Manual: %{x:.1f}mm<br>\" +\n",
    "                         \"🤖 Algorithm: %{y:.1f}mm<br>\" +\n",
    "                         \"📊 Difference: %{customdata[2]:.1f}mm<br>\" +\n",
    "                         \"<extra></extra>\",\n",
    "            customdata=df_pond[['Label', 'PrawnID']].assign(\n",
    "                diff=df_pond['Length_fov(mm)'] - df_pond['mean_length']\n",
    "            )[['Label', 'PrawnID', 'diff']].values\n",
    "        ),\n",
    "        row=1, col=i\n",
    "    )\n",
    "    \n",
    "    # ━━ Add perfect agreement line (y=x)\n",
    "    fig.add_trace(\n",
    "        go.Scatter(\n",
    "            x=x_range, y=x_range,\n",
    "            mode='lines',\n",
    "            name='📐 Perfect Agreement (y=x)' if i == 1 else '',\n",
    "            line=dict(color='black', width=2, dash='dash'),\n",
    "            showlegend=(i == 1),\n",
    "            hovertemplate=\"Perfect Agreement Line<br>Manual = Algorithm<extra></extra>\"\n",
    "        ),\n",
    "        row=1, col=i\n",
    "    )\n",
    "    \n",
    "    # ▲ Add upper precision boundary\n",
    "    fig.add_trace(\n",
    "        go.Scatter(\n",
    "            x=x_range, y=x_range + std_boundary,\n",
    "            mode='lines',\n",
    "            name=f'📊 ±{std_boundary:.1f}mm Boundaries' if i == 1 else '',\n",
    "            line=dict(color='#2c7fb8', width=1, dash='dot'),\n",
    "            showlegend=(i == 1),\n",
    "            hovertemplate=f\"Upper Boundary (+{std_boundary:.1f}mm)<extra></extra>\"\n",
    "        ),\n",
    "        row=1, col=i\n",
    "    )\n",
    "    \n",
    "    # ▼ Add lower precision boundary\n",
    "    fig.add_trace(\n",
    "        go.Scatter(\n",
    "            x=x_range, y=x_range - std_boundary,\n",
    "            mode='lines',\n",
    "            name='',  # Don't show in legend (same as upper)\n",
    "            line=dict(color='#2c7fb8', width=1, dash='dot'),\n",
    "            showlegend=False,\n",
    "            hovertemplate=f\"Lower Boundary (-{std_boundary:.1f}mm)<extra></extra>\"\n",
    "        ),\n",
    "        row=1, col=i\n",
    "    )\n",
    "\n",
    "# 🎨 Enhanced layout configuration\n",
    "fig.update_layout(\n",
    "    title_text=\"🎯 Measurement Precision Dashboard: Algorithm vs Manual Agreement Analysis\",\n",
    "    title_font_size=18,\n",
    "    width=450*n_pond_types,\n",
    "    height=650,\n",
    "    showlegend=True,\n",
    "    legend=dict(\n",
    "        orientation=\"h\",\n",
    "        yanchor=\"bottom\",\n",
    "        y=1.02,\n",
    "        xanchor=\"center\",\n",
    "        x=0.5,\n",
    "        font=dict(size=12)\n",
    "    ),\n",
    "    plot_bgcolor='white'\n",
    ")\n",
    "\n",
    "# 📊 Update axes for each subplot\n",
    "for i in range(1, n_pond_types + 1):\n",
    "    fig.update_xaxes(\n",
    "        title_text=\"Manual Measurements (mm)\",\n",
    "        row=1, col=i,\n",
    "        showgrid=True,\n",
    "        gridwidth=1,\n",
    "        gridcolor='lightgray',\n",
    "        title_font_size=12\n",
    "    )\n",
    "    \n",
    "    # Equal aspect ratio for accurate visual comparison\n",
    "    fig.update_yaxes(\n",
    "        scaleanchor=f\"x{i if i > 1 else ''}\",\n",
    "        scaleratio=1,\n",
    "        row=1, col=i,\n",
    "        showgrid=True,\n",
    "        gridwidth=1,\n",
    "        gridcolor='lightgray'\n",
    "    )\n",
    "\n",
    "# Update y-axis title for the first subplot only\n",
    "fig.update_yaxes(\n",
    "    title_text=\"Algorithm Predictions (mm)\",\n",
    "    row=1, col=1,\n",
    "    title_font_size=12\n",
    ")\n",
    "\n",
    "# 📝 Add informative annotations\n",
    "fig.add_annotation(\n",
    "    text=\"💡 Hover over points for detailed measurement info | Points near diagonal = better agreement\",\n",
    "    xref=\"paper\", yref=\"paper\",\n",
    "    x=0.5, y=-0.08,\n",
    "    showarrow=False,\n",
    "    font=dict(size=11, color=\"gray\"),\n",
    "    xanchor=\"center\"\n",
    ")\n",
    "\n",
    "print(\"✨ Interactive scatter plot created successfully!\")\n",
    "print(\"🎯 Visualization includes:\")\n",
    "print(\"   📍 Measurement points with detailed hover information\")\n",
    "print(\"   📐 Perfect agreement line (y=x diagonal)\")\n",
    "print(\"   📊 Precision boundaries (±standard deviation)\")\n",
    "print(\"   🏊‍♀️ Pond-specific color coding and statistics\")\n",
    "\n",
    "# 📈 Display the visualization\n",
    "fig.show()\n",
    "\n",
    "# 📊 PHASE 3: Comprehensive Precision Summary Report\n",
    "# =================================================\n",
    "\n",
    "print(\"\\n\" + \"=\"*80)\n",
    "print(\"🎯 MEASUREMENT PRECISION ANALYSIS COMPLETE!\")\n",
    "print(\"=\"*80)\n",
    "\n",
    "print(\"\\n📋 DETAILED PRECISION SUMMARY:\")\n",
    "print(\"-\" * 50)\n",
    "\n",
    "for pond_type in pond_types:\n",
    "    data = pond_scatter_data[pond_type]\n",
    "    df_pond = data['df_pond']\n",
    "    \n",
    "    # Calculate additional precision metrics\n",
    "    actual_differences = df_pond['Length_fov(mm)'] - df_pond['mean_length']\n",
    "    abs_differences = abs(actual_differences)\n",
    "    \n",
    "    print(f\"\\n🏊‍♀️ {pond_type.replace('_', ' ').title()} Pond Detailed Analysis:\")\n",
    "    print(f\"   📏 Mean Length: {df_pond['mean_length'].mean():.2f}mm\")\n",
    "    print(f\"   📊 Std Boundary: ±{data['median_mad']:.2f}mm\")\n",
    "    print(f\"   🦐 Sample Size: {len(df_pond)} measurements\")\n",
    "    print(f\"   ✅ Within Bounds: {data['within_bounds']:.1f}%\")\n",
    "    print(f\"   📈 Mean Absolute Error: {abs_differences.mean():.2f}mm\")\n",
    "    print(f\"   📉 Mean Bias: {actual_differences.mean():.2f}mm\")\n",
    "    print(f\"   🎯 Precision Range: {abs_differences.min():.2f} - {abs_differences.max():.2f}mm\")\n",
    "\n",
    "print(\"\\n\" + \"=\"*80)\n",
    "print(\"🎨 VISUALIZATION FEATURES:\")\n",
    "print(\"   📍 Interactive hover: Shows image name, prawn ID, and measurement details\")\n",
    "print(\"   📐 Perfect agreement line: Black diagonal (y=x)\")\n",
    "print(\"   📊 Precision boundaries: Blue dashed lines (±std)\")\n",
    "print(\"   🏊‍♀️ Color coding: Consistent with previous analyses\")\n",
    "print(\"   📏 Equal aspect ratio: Accurate visual comparison\")\n",
    "print(\"=\"*80)\n",
    "\n",
    "print(\"\\n🚀 KEY INSIGHTS:\")\n",
    "print(\"   🎯 Points closer to diagonal = better algorithm-manual agreement\")\n",
    "print(\"   📊 Points within blue boundaries = acceptable precision range\")\n",
    "print(\"   🏊‍♀️ Each pond type shows distinct precision characteristics\")\n",
    "print(\"   📈 Hover over any point to see detailed measurement information\")\n",
    "print(\"=\"*80)"
   ]
  }
 ],
 "metadata": {
  "kernelspec": {
   "display_name": ".venv",
   "language": "python",
   "name": "python3"
  },
  "language_info": {
   "codemirror_mode": {
    "name": "ipython",
    "version": 3
   },
   "file_extension": ".py",
   "mimetype": "text/x-python",
   "name": "python",
   "nbconvert_exporter": "python",
   "pygments_lexer": "ipython3",
   "version": "3.12.7"
  }
 },
 "nbformat": 4,
 "nbformat_minor": 2
}
