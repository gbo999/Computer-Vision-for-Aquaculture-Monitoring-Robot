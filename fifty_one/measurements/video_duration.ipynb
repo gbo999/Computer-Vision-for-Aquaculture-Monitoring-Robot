{
 "cells": [
  {
   "cell_type": "code",
   "execution_count": 16,
   "metadata": {},
   "outputs": [
    {
     "name": "stderr",
     "output_type": "stream",
     "text": [
      "0it [00:00, ?it/s]\n",
      "0it [00:00, ?it/s]\n",
      " 14%|█▍        | 1/7 [00:01<00:09,  1.51s/it]"
     ]
    },
    {
     "name": "stdout",
     "output_type": "stream",
     "text": [
      "Processed C:\\Users\\gbo10\\Dropbox\\research videos\\january 2024-kalkar\\1.1.2024\\65-1.1\\GX010080.MP4\n"
     ]
    },
    {
     "name": "stderr",
     "output_type": "stream",
     "text": [
      " 29%|██▊       | 2/7 [00:02<00:06,  1.30s/it]"
     ]
    },
    {
     "name": "stdout",
     "output_type": "stream",
     "text": [
      "Processed C:\\Users\\gbo10\\Dropbox\\research videos\\january 2024-kalkar\\1.1.2024\\65-1.1\\GX010082.MP4\n"
     ]
    },
    {
     "name": "stderr",
     "output_type": "stream",
     "text": [
      " 43%|████▎     | 3/7 [00:03<00:04,  1.18s/it]"
     ]
    },
    {
     "name": "stdout",
     "output_type": "stream",
     "text": [
      "Processed C:\\Users\\gbo10\\Dropbox\\research videos\\january 2024-kalkar\\1.1.2024\\65-1.1\\GX010084.MP4\n"
     ]
    },
    {
     "name": "stderr",
     "output_type": "stream",
     "text": [
      " 57%|█████▋    | 4/7 [00:04<00:03,  1.21s/it]"
     ]
    },
    {
     "name": "stdout",
     "output_type": "stream",
     "text": [
      "Processed C:\\Users\\gbo10\\Dropbox\\research videos\\january 2024-kalkar\\1.1.2024\\65-1.1\\GX010085.MP4\n"
     ]
    },
    {
     "name": "stderr",
     "output_type": "stream",
     "text": [
      " 71%|███████▏  | 5/7 [00:06<00:02,  1.26s/it]"
     ]
    },
    {
     "name": "stdout",
     "output_type": "stream",
     "text": [
      "Processed C:\\Users\\gbo10\\Dropbox\\research videos\\january 2024-kalkar\\1.1.2024\\65-1.1\\GX010087.MP4\n"
     ]
    },
    {
     "name": "stderr",
     "output_type": "stream",
     "text": [
      " 86%|████████▌ | 6/7 [00:07<00:01,  1.21s/it]"
     ]
    },
    {
     "name": "stdout",
     "output_type": "stream",
     "text": [
      "Processed C:\\Users\\gbo10\\Dropbox\\research videos\\january 2024-kalkar\\1.1.2024\\65-1.1\\GX010088.MP4\n"
     ]
    },
    {
     "name": "stderr",
     "output_type": "stream",
     "text": [
      "100%|██████████| 7/7 [00:08<00:00,  1.23s/it]\n"
     ]
    },
    {
     "name": "stdout",
     "output_type": "stream",
     "text": [
      "Processed C:\\Users\\gbo10\\Dropbox\\research videos\\january 2024-kalkar\\1.1.2024\\65-1.1\\GX010090.MP4\n"
     ]
    },
    {
     "name": "stderr",
     "output_type": "stream",
     "text": [
      " 33%|███▎      | 2/6 [00:01<00:02,  1.64it/s]"
     ]
    },
    {
     "name": "stdout",
     "output_type": "stream",
     "text": [
      "Processed C:\\Users\\gbo10\\Dropbox\\research videos\\january 2024-kalkar\\1.1.2024\\70-1.1\\GX010081.MP4\n"
     ]
    },
    {
     "name": "stderr",
     "output_type": "stream",
     "text": [
      " 50%|█████     | 3/6 [00:02<00:02,  1.15it/s]"
     ]
    },
    {
     "name": "stdout",
     "output_type": "stream",
     "text": [
      "Processed C:\\Users\\gbo10\\Dropbox\\research videos\\january 2024-kalkar\\1.1.2024\\70-1.1\\GX010083.MP4\n"
     ]
    },
    {
     "name": "stderr",
     "output_type": "stream",
     "text": [
      " 67%|██████▋   | 4/6 [00:03<00:01,  1.04it/s]"
     ]
    },
    {
     "name": "stdout",
     "output_type": "stream",
     "text": [
      "Processed C:\\Users\\gbo10\\Dropbox\\research videos\\january 2024-kalkar\\1.1.2024\\70-1.1\\GX010086.MP4\n"
     ]
    },
    {
     "name": "stderr",
     "output_type": "stream",
     "text": [
      " 83%|████████▎ | 5/6 [00:04<00:01,  1.02s/it]"
     ]
    },
    {
     "name": "stdout",
     "output_type": "stream",
     "text": [
      "Processed C:\\Users\\gbo10\\Dropbox\\research videos\\january 2024-kalkar\\1.1.2024\\70-1.1\\GX010089.MP4\n"
     ]
    },
    {
     "name": "stderr",
     "output_type": "stream",
     "text": [
      "100%|██████████| 6/6 [00:05<00:00,  1.03it/s]\n"
     ]
    },
    {
     "name": "stdout",
     "output_type": "stream",
     "text": [
      "Processed C:\\Users\\gbo10\\Dropbox\\research videos\\january 2024-kalkar\\1.1.2024\\70-1.1\\GX010091.MP4\n"
     ]
    },
    {
     "name": "stderr",
     "output_type": "stream",
     "text": [
      "100%|██████████| 2/2 [00:00<?, ?it/s]\n",
      " 25%|██▌       | 1/4 [00:01<00:03,  1.28s/it]"
     ]
    },
    {
     "name": "stdout",
     "output_type": "stream",
     "text": [
      "Processed C:\\Users\\gbo10\\Dropbox\\research videos\\january 2024-kalkar\\2.1.2024\\42\\GX010098.MP4\n"
     ]
    },
    {
     "name": "stderr",
     "output_type": "stream",
     "text": [
      " 50%|█████     | 2/4 [00:02<00:02,  1.29s/it]"
     ]
    },
    {
     "name": "stdout",
     "output_type": "stream",
     "text": [
      "Processed C:\\Users\\gbo10\\Dropbox\\research videos\\january 2024-kalkar\\2.1.2024\\42\\GX010099.MP4\n"
     ]
    },
    {
     "name": "stderr",
     "output_type": "stream",
     "text": [
      " 75%|███████▌  | 3/4 [00:03<00:01,  1.27s/it]"
     ]
    },
    {
     "name": "stdout",
     "output_type": "stream",
     "text": [
      "Processed C:\\Users\\gbo10\\Dropbox\\research videos\\january 2024-kalkar\\2.1.2024\\42\\GX010100.MP4\n"
     ]
    },
    {
     "name": "stderr",
     "output_type": "stream",
     "text": [
      "100%|██████████| 4/4 [00:04<00:00,  1.25s/it]\n"
     ]
    },
    {
     "name": "stdout",
     "output_type": "stream",
     "text": [
      "Processed C:\\Users\\gbo10\\Dropbox\\research videos\\january 2024-kalkar\\2.1.2024\\42\\GX010103.MP4\n"
     ]
    },
    {
     "name": "stderr",
     "output_type": "stream",
     "text": [
      " 20%|██        | 1/5 [00:01<00:04,  1.15s/it]"
     ]
    },
    {
     "name": "stdout",
     "output_type": "stream",
     "text": [
      "Processed C:\\Users\\gbo10\\Dropbox\\research videos\\january 2024-kalkar\\2.1.2024\\65\\GX010094.MP4\n"
     ]
    },
    {
     "name": "stderr",
     "output_type": "stream",
     "text": [
      " 40%|████      | 2/5 [00:02<00:03,  1.14s/it]"
     ]
    },
    {
     "name": "stdout",
     "output_type": "stream",
     "text": [
      "Processed C:\\Users\\gbo10\\Dropbox\\research videos\\january 2024-kalkar\\2.1.2024\\65\\GX010096.MP4\n"
     ]
    },
    {
     "name": "stderr",
     "output_type": "stream",
     "text": [
      " 60%|██████    | 3/5 [00:03<00:02,  1.14s/it]"
     ]
    },
    {
     "name": "stdout",
     "output_type": "stream",
     "text": [
      "Processed C:\\Users\\gbo10\\Dropbox\\research videos\\january 2024-kalkar\\2.1.2024\\65\\GX010097.MP4\n"
     ]
    },
    {
     "name": "stderr",
     "output_type": "stream",
     "text": [
      " 80%|████████  | 4/5 [00:04<00:01,  1.10s/it]"
     ]
    },
    {
     "name": "stdout",
     "output_type": "stream",
     "text": [
      "Processed C:\\Users\\gbo10\\Dropbox\\research videos\\january 2024-kalkar\\2.1.2024\\65\\GX010101.MP4\n"
     ]
    },
    {
     "name": "stderr",
     "output_type": "stream",
     "text": [
      "100%|██████████| 5/5 [00:05<00:00,  1.13s/it]\n"
     ]
    },
    {
     "name": "stdout",
     "output_type": "stream",
     "text": [
      "Processed C:\\Users\\gbo10\\Dropbox\\research videos\\january 2024-kalkar\\2.1.2024\\65\\GX010104.MP4\n"
     ]
    },
    {
     "name": "stderr",
     "output_type": "stream",
     "text": [
      " 33%|███▎      | 1/3 [00:01<00:02,  1.14s/it]"
     ]
    },
    {
     "name": "stdout",
     "output_type": "stream",
     "text": [
      "Processed C:\\Users\\gbo10\\Dropbox\\research videos\\january 2024-kalkar\\2.1.2024\\76\\GX010095.MP4\n"
     ]
    },
    {
     "name": "stderr",
     "output_type": "stream",
     "text": [
      " 67%|██████▋   | 2/3 [00:02<00:01,  1.19s/it]"
     ]
    },
    {
     "name": "stdout",
     "output_type": "stream",
     "text": [
      "Processed C:\\Users\\gbo10\\Dropbox\\research videos\\january 2024-kalkar\\2.1.2024\\76\\GX010102.MP4\n"
     ]
    },
    {
     "name": "stderr",
     "output_type": "stream",
     "text": [
      "100%|██████████| 3/3 [00:03<00:00,  1.13s/it]\n"
     ]
    },
    {
     "name": "stdout",
     "output_type": "stream",
     "text": [
      "Processed C:\\Users\\gbo10\\Dropbox\\research videos\\january 2024-kalkar\\2.1.2024\\76\\GX010105.MP4\n"
     ]
    },
    {
     "name": "stderr",
     "output_type": "stream",
     "text": [
      "100%|██████████| 2/2 [00:01<00:00,  1.33it/s]\n"
     ]
    },
    {
     "name": "stdout",
     "output_type": "stream",
     "text": [
      "Processed C:\\Users\\gbo10\\Dropbox\\research videos\\january 2024-kalkar\\31.12\\GX010072.MP4\n"
     ]
    },
    {
     "name": "stderr",
     "output_type": "stream",
     "text": [
      "  1%|          | 1/112 [00:01<02:22,  1.28s/it]"
     ]
    },
    {
     "name": "stdout",
     "output_type": "stream",
     "text": [
      "Processed C:\\Users\\gbo10\\Dropbox\\research videos\\january 2024-kalkar\\31.12\\65-31.12\\GX010065.MP4\n"
     ]
    },
    {
     "name": "stderr",
     "output_type": "stream",
     "text": [
      " 94%|█████████▍| 105/112 [00:02<00:00, 52.34it/s]"
     ]
    },
    {
     "name": "stdout",
     "output_type": "stream",
     "text": [
      "Processed C:\\Users\\gbo10\\Dropbox\\research videos\\january 2024-kalkar\\31.12\\65-31.12\\GX010067.MP4\n",
      "Processed C:\\Users\\gbo10\\Dropbox\\research videos\\january 2024-kalkar\\31.12\\65-31.12\\GX010068.MP4\n",
      "Processed C:\\Users\\gbo10\\Dropbox\\research videos\\january 2024-kalkar\\31.12\\65-31.12\\GX010069.MP4\n",
      "Processed C:\\Users\\gbo10\\Dropbox\\research videos\\january 2024-kalkar\\31.12\\65-31.12\\GX010071.MP4\n",
      "Processed C:\\Users\\gbo10\\Dropbox\\research videos\\january 2024-kalkar\\31.12\\65-31.12\\GX010073.MP4\n",
      "Processed C:\\Users\\gbo10\\Dropbox\\research videos\\january 2024-kalkar\\31.12\\65-31.12\\GX010075.MP4\n"
     ]
    },
    {
     "name": "stderr",
     "output_type": "stream",
     "text": [
      " 99%|█████████▉| 111/112 [00:09<00:00,  9.26it/s]"
     ]
    },
    {
     "name": "stdout",
     "output_type": "stream",
     "text": [
      "Processed C:\\Users\\gbo10\\Dropbox\\research videos\\january 2024-kalkar\\31.12\\65-31.12\\GX010077.MP4\n"
     ]
    },
    {
     "name": "stderr",
     "output_type": "stream",
     "text": [
      "100%|██████████| 112/112 [00:10<00:00, 10.42it/s]\n"
     ]
    },
    {
     "name": "stdout",
     "output_type": "stream",
     "text": [
      "Processed C:\\Users\\gbo10\\Dropbox\\research videos\\january 2024-kalkar\\31.12\\65-31.12\\GX010078.MP4\n"
     ]
    },
    {
     "name": "stderr",
     "output_type": "stream",
     "text": [
      " 20%|██        | 1/5 [00:01<00:04,  1.14s/it]"
     ]
    },
    {
     "name": "stdout",
     "output_type": "stream",
     "text": [
      "Processed C:\\Users\\gbo10\\Dropbox\\research videos\\january 2024-kalkar\\31.12\\76-31.12\\GX010066.MP4\n"
     ]
    },
    {
     "name": "stderr",
     "output_type": "stream",
     "text": [
      " 40%|████      | 2/5 [00:02<00:03,  1.20s/it]"
     ]
    },
    {
     "name": "stdout",
     "output_type": "stream",
     "text": [
      "Processed C:\\Users\\gbo10\\Dropbox\\research videos\\january 2024-kalkar\\31.12\\76-31.12\\GX010070.MP4\n"
     ]
    },
    {
     "name": "stderr",
     "output_type": "stream",
     "text": [
      " 60%|██████    | 3/5 [00:03<00:02,  1.15s/it]"
     ]
    },
    {
     "name": "stdout",
     "output_type": "stream",
     "text": [
      "Processed C:\\Users\\gbo10\\Dropbox\\research videos\\january 2024-kalkar\\31.12\\76-31.12\\GX010074.MP4\n"
     ]
    },
    {
     "name": "stderr",
     "output_type": "stream",
     "text": [
      " 80%|████████  | 4/5 [00:04<00:01,  1.22s/it]"
     ]
    },
    {
     "name": "stdout",
     "output_type": "stream",
     "text": [
      "Processed C:\\Users\\gbo10\\Dropbox\\research videos\\january 2024-kalkar\\31.12\\76-31.12\\GX010076.MP4\n"
     ]
    },
    {
     "name": "stderr",
     "output_type": "stream",
     "text": [
      "100%|██████████| 5/5 [00:06<00:00,  1.23s/it]"
     ]
    },
    {
     "name": "stdout",
     "output_type": "stream",
     "text": [
      "Processed C:\\Users\\gbo10\\Dropbox\\research videos\\january 2024-kalkar\\31.12\\76-31.12\\GX010079.MP4\n"
     ]
    },
    {
     "name": "stderr",
     "output_type": "stream",
     "text": [
      "\n"
     ]
    }
   ],
   "source": [
    "import os\n",
    "from moviepy.editor import VideoFileClip\n",
    "from tqdm import tqdm\n",
    "def get_video_duration(video_path):\n",
    "    \"\"\"\n",
    "    Returns the duration of a video in seconds using moviepy.\n",
    "    \"\"\"\n",
    "    try:\n",
    "        clip = VideoFileClip(video_path)\n",
    "        duration = clip.duration  # Duration in seconds\n",
    "        clip.close()\n",
    "        return duration\n",
    "    except Exception as e:\n",
    "        print(f\"Error processing {video_path}: {str(e)}\")\n",
    "        return 0\n",
    "\n",
    "def get_total_video_duration(folder_path):\n",
    "    \"\"\"\n",
    "    Traverse through the main folder and its subfolders to estimate the total video time.\n",
    "    \"\"\"\n",
    "    total_duration = 0\n",
    "\n",
    "    # Supported video formats\n",
    "    video_extensions = ('.MP4')\n",
    "\n",
    "    # Walk through the folder and subfolders (three levels deep)\n",
    "    for root, _, files in os.walk(folder_path):\n",
    "        for file in tqdm( files):\n",
    "            if file.endswith(video_extensions):\n",
    "                video_path = os.path.join(root, file)\n",
    "                total_duration += get_video_duration(video_path)\n",
    "                print(f\"Processed {video_path}\")\n",
    "            \n",
    "\n",
    "    return total_duration\n",
    "\n",
    "folder_path =r'C:\\Users\\gbo10\\Dropbox\\research videos\\january 2024-kalkar'\n",
    "total_duration = get_total_video_duration(folder_path)\n"
   ]
  },
  {
   "cell_type": "code",
   "execution_count": 18,
   "metadata": {},
   "outputs": [
    {
     "name": "stdout",
     "output_type": "stream",
     "text": [
      "Total video duration: 6.533583333333333 seconds\n"
     ]
    }
   ],
   "source": [
    "print(f\"Total video duration: {total_duration/360} seconds\")"
   ]
  }
 ],
 "metadata": {
  "kernelspec": {
   "display_name": ".venv",
   "language": "python",
   "name": "python3"
  },
  "language_info": {
   "codemirror_mode": {
    "name": "ipython",
    "version": 3
   },
   "file_extension": ".py",
   "mimetype": "text/x-python",
   "name": "python",
   "nbconvert_exporter": "python",
   "pygments_lexer": "ipython3",
   "version": "3.9.7"
  }
 },
 "nbformat": 4,
 "nbformat_minor": 2
}
