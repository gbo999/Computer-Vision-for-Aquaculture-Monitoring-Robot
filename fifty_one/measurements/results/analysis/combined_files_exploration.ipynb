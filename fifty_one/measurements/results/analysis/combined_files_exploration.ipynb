{
 "cells": [
  {
   "cell_type": "code",
   "execution_count": 43,
   "metadata": {},
   "outputs": [
    {
     "name": "stdout",
     "output_type": "stream",
     "text": [
      "Original number of rows: 48\n",
      "Number of rows after removing duplicates: 48\n",
      "Number of duplicate rows removed: 0\n",
      "Images with centers less than 100 pixels apart: 37\n"
     ]
    }
   ],
   "source": [
    "import pandas as pd\n",
    "\n",
    "df = pd.read_csv('/Users/gilbenor/Documents/code projects/msc/counting_research_algorithms/fifty_one/processed_data/combined_body_length_data.csv')\n",
    "\n",
    "\n",
    "# %% cell 2 code\n",
    "\n",
    "# Remove duplicates based on all columns\n",
    "df_no_duplicates = df.drop_duplicates(subset=['meas_image_name'])\n",
    "\n",
    "print(f\"Original number of rows: {len(df)}\")\n",
    "print(f\"Number of rows after removing duplicates: {len(df_no_duplicates)}\")\n",
    "print(f\"Number of duplicate rows removed: {len(df) - len(df_no_duplicates)}\")\n",
    "\n",
    "# Update df to deduped version\n",
    "df = df_no_duplicates\n",
    "\n",
    "df[[ 'length_Length_ground_truth_annotation(mm)','length_Length_fov(mm)','meas_scaled_meas_1','meas_scaled_meas_2','meas_scaled_meas_3','meas_scaled_avg','length_Length_1','length_Length_2','length_Length_3']]\n",
    "\n",
    "#median of the ,'meas_scaled_meas_1','meas_scaled_meas_2','meas_scaled_meas_3','length_Length_1','length_Length_2','length_Length_3' \n",
    "  \n",
    "df['media_all']=df[['meas_scaled_meas_1','meas_scaled_meas_2','meas_scaled_meas_3','length_Length_1','length_Length_2','length_Length_3']].median(axis=1) \n",
    "\n",
    "df['max_all'] = df[['meas_scaled_meas_1','meas_scaled_meas_2','meas_scaled_meas_3','length_Length_1','length_Length_2','length_Length_3']].max(axis=1)\n",
    "\n",
    "df['min_all'] = df[['meas_scaled_meas_1','meas_scaled_meas_2','meas_scaled_meas_3','length_Length_1','length_Length_2','length_Length_3']].min(axis=1)  \n",
    "\n",
    "df['mean_scaled'] = df[['meas_scaled_meas_1','meas_scaled_meas_2','meas_scaled_meas_3']].mean(axis=1)\n",
    "\n",
    "df['mean_length'] = df[['length_Length_1','length_Length_2','length_Length_3']].mean(axis=1)\n",
    "\n",
    "df['mean_all'] = df[['meas_scaled_meas_1','meas_scaled_meas_2','meas_scaled_meas_3','length_Length_1','length_Length_2','length_Length_3']].mean(axis=1)\n",
    "\n",
    "df['std_all'] = df[['meas_scaled_meas_1','meas_scaled_meas_2','meas_scaled_meas_3','length_Length_1','length_Length_2','length_Length_3']].std(axis=1)\n",
    "\n",
    "cols = ['meas_scaled_meas_1','meas_scaled_meas_2','meas_scaled_meas_3','length_Length_1','length_Length_2','length_Length_3']\n",
    "df['MAD_all'] = df[cols].apply(lambda row: (row - row.median()).abs().median(), axis=1)\n",
    "\n",
    "\n",
    "df['mean_all'] = df[cols].mean(axis=1)\n",
    "\n",
    "\n",
    "df['pixels_meas']=df[['meas_meas_1','meas_meas_2','meas_meas_3']].mean(axis=1)\n",
    "\n",
    "df['pixels_length']=df[['length_Length_1_pixels','length_Length_2_pixels','length_Length_3_pixels']].mean(axis=1)\n",
    "\n",
    "df['pixels_difference']=abs(df['pixels_meas']-df['pixels_length'])\n",
    "\n",
    "\n",
    "\n",
    "\n",
    "#dropna in ength_Length_fov(mm)\n",
    "\n",
    "df = df[df['length_Length_fov(mm)'].notna()]\n",
    "\n",
    "df[['length_Length_ground_truth_annotation(mm)','length_Length_fov(mm)', 'media_all','MAD_all']]\n",
    "\n",
    "\n",
    "# within_mad_bounds = ((df['length_Length_fov(mm)'] <= df['media_all'] + df['MAD_all']) & \n",
    "#                      (df['length_Length_fov(mm)'] >= df['media_all'] - df['MAD_all']))\n",
    "\n",
    "# outside_mad_bounds = ~within_mad_bounds\n",
    "\n",
    "# # Calculate distance from bounds\n",
    "upper_bound_distance =abs(df['length_Length_fov(mm)'] - (df['mean_all'] + df['std_all']))\n",
    "lower_bound_distance = abs((df['mean_all'] - df['std_all']) - df['length_Length_fov(mm)'])\n",
    "\n",
    "\n",
    "df['difference'] = abs(df['mean_length'] - df['mean_scaled'])\n",
    "\n",
    "\n",
    "\n",
    "# Read the center analysis file and check distances\n",
    "center_analysis_df = pd.read_csv('/Users/gilbenor/Documents/code projects/msc/counting_research_algorithms/fifty_one/processed_data/center_analysis/body_center_analysis.csv')\n",
    "df['has_close_center'] = df['meas_image_name'].isin(\n",
    "    center_analysis_df[center_analysis_df['distance_to_nearest_bbox'] < 100]['meas_image_name']\n",
    ")\n",
    "print(f\"Images with centers less than 100 pixels apart: {df['has_close_center'].sum()}\")\n",
    "\n",
    "\n",
    "gg=df[df['has_close_center']==True]\n",
    "df['scale_Real']=(1/(df['meas_scale_factor']))*10\n",
    "df['scale_combined']=(1/(df['length_combined_scale']))*10\n",
    "\n",
    "# #print the image name and Id's for the points that are outside the bounds bigger than 20\n",
    "\n",
    "# df_outside = df[(upper_bound_distance > 10) | (lower_bound_distance > 10)]\n",
    "\n",
    "\n",
    "# # print(df['length_Pond_Type'].value_counts())\n",
    "# df = df[~((upper_bound_distance > 25) | (lower_bound_distance > 25))]\n",
    "# gg=df[['mean_length','mean_scaled','difference','length_Length_fov(mm)']]\n",
    "\n",
    "# # df_outside[['meas_image_name', 'length_PrawnID','length_Length_fov(mm)','media_all','MAD_all','length_Length_1','length_Length_2','length_Length_3','meas_scaled_meas_1','meas_scaled_meas_2','meas_scaled_meas_3']]\n",
    "\n",
    "# # df[['length_Length_ground_truth_annotation(mm)','length_Length_fov(mm)', 'media_all','MAD_all']]\n",
    "# df['length_Pond_Type'].value_counts()\n",
    "\n",
    "\n",
    "gg=df[['pixels_meas','pixels_length','pixels_difference','scale_Real','scale_combined','length_Length_fov(mm)','meas_scaled_avg','length_Avg_Length']]\n"
   ]
  },
  {
   "cell_type": "code",
   "execution_count": 44,
   "metadata": {},
   "outputs": [],
   "source": [
    "\n",
    "\n",
    "gg=df[['pixels_meas','pixels_length','pixels_difference','scale_Real','scale_combined','length_Length_fov(mm)','meas_scaled_avg','length_Avg_Length']]\n",
    "\n",
    "\n"
   ]
  },
  {
   "cell_type": "code",
   "execution_count": 45,
   "metadata": {},
   "outputs": [
    {
     "data": {
      "text/html": [
       "<div>\n",
       "<style scoped>\n",
       "    .dataframe tbody tr th:only-of-type {\n",
       "        vertical-align: middle;\n",
       "    }\n",
       "\n",
       "    .dataframe tbody tr th {\n",
       "        vertical-align: top;\n",
       "    }\n",
       "\n",
       "    .dataframe thead th {\n",
       "        text-align: right;\n",
       "    }\n",
       "</style>\n",
       "<table border=\"1\" class=\"dataframe\">\n",
       "  <thead>\n",
       "    <tr style=\"text-align: right;\">\n",
       "      <th></th>\n",
       "      <th>pixels_meas</th>\n",
       "      <th>pixels_length</th>\n",
       "      <th>pixels_difference</th>\n",
       "      <th>scale_Real</th>\n",
       "      <th>scale_combined</th>\n",
       "      <th>length_Length_fov(mm)</th>\n",
       "      <th>meas_scaled_avg</th>\n",
       "      <th>length_Avg_Length</th>\n",
       "    </tr>\n",
       "  </thead>\n",
       "  <tbody>\n",
       "    <tr>\n",
       "      <th>0</th>\n",
       "      <td>573.055467</td>\n",
       "      <td>521.432658</td>\n",
       "      <td>51.622809</td>\n",
       "      <td>54.252</td>\n",
       "      <td>53.081310</td>\n",
       "      <td>92.626442</td>\n",
       "      <td>105.354365</td>\n",
       "      <td>89.831000</td>\n",
       "    </tr>\n",
       "    <tr>\n",
       "      <th>1</th>\n",
       "      <td>618.417933</td>\n",
       "      <td>540.592735</td>\n",
       "      <td>77.825199</td>\n",
       "      <td>54.252</td>\n",
       "      <td>53.643903</td>\n",
       "      <td>102.721787</td>\n",
       "      <td>113.868761</td>\n",
       "      <td>93.004000</td>\n",
       "    </tr>\n",
       "    <tr>\n",
       "      <th>2</th>\n",
       "      <td>760.271700</td>\n",
       "      <td>645.351233</td>\n",
       "      <td>114.920467</td>\n",
       "      <td>52.445</td>\n",
       "      <td>53.918253</td>\n",
       "      <td>129.793159</td>\n",
       "      <td>144.933435</td>\n",
       "      <td>115.249667</td>\n",
       "    </tr>\n",
       "    <tr>\n",
       "      <th>3</th>\n",
       "      <td>732.939467</td>\n",
       "      <td>663.877478</td>\n",
       "      <td>69.061988</td>\n",
       "      <td>55.754</td>\n",
       "      <td>53.068718</td>\n",
       "      <td>118.166109</td>\n",
       "      <td>131.241489</td>\n",
       "      <td>112.216333</td>\n",
       "    </tr>\n",
       "    <tr>\n",
       "      <th>4</th>\n",
       "      <td>521.267133</td>\n",
       "      <td>440.301144</td>\n",
       "      <td>80.965990</td>\n",
       "      <td>50.782</td>\n",
       "      <td>53.573752</td>\n",
       "      <td>134.614295</td>\n",
       "      <td>102.270430</td>\n",
       "      <td>79.953000</td>\n",
       "    </tr>\n",
       "    <tr>\n",
       "      <th>5</th>\n",
       "      <td>633.752433</td>\n",
       "      <td>602.418713</td>\n",
       "      <td>31.333720</td>\n",
       "      <td>57.543</td>\n",
       "      <td>53.072643</td>\n",
       "      <td>115.814424</td>\n",
       "      <td>109.900700</td>\n",
       "      <td>108.856333</td>\n",
       "    </tr>\n",
       "    <tr>\n",
       "      <th>6</th>\n",
       "      <td>502.689367</td>\n",
       "      <td>397.144449</td>\n",
       "      <td>105.544918</td>\n",
       "      <td>58.694</td>\n",
       "      <td>53.952168</td>\n",
       "      <td>88.223862</td>\n",
       "      <td>85.235578</td>\n",
       "      <td>75.624000</td>\n",
       "    </tr>\n",
       "    <tr>\n",
       "      <th>7</th>\n",
       "      <td>757.307367</td>\n",
       "      <td>724.384644</td>\n",
       "      <td>32.922722</td>\n",
       "      <td>57.412</td>\n",
       "      <td>53.743615</td>\n",
       "      <td>142.347179</td>\n",
       "      <td>132.332213</td>\n",
       "      <td>106.326333</td>\n",
       "    </tr>\n",
       "    <tr>\n",
       "      <th>8</th>\n",
       "      <td>712.508267</td>\n",
       "      <td>701.538505</td>\n",
       "      <td>10.969762</td>\n",
       "      <td>52.831</td>\n",
       "      <td>54.114792</td>\n",
       "      <td>124.118534</td>\n",
       "      <td>134.885484</td>\n",
       "      <td>114.699667</td>\n",
       "    </tr>\n",
       "    <tr>\n",
       "      <th>9</th>\n",
       "      <td>662.678800</td>\n",
       "      <td>660.216635</td>\n",
       "      <td>2.462165</td>\n",
       "      <td>52.831</td>\n",
       "      <td>53.397280</td>\n",
       "      <td>127.732940</td>\n",
       "      <td>126.018493</td>\n",
       "      <td>107.973000</td>\n",
       "    </tr>\n",
       "    <tr>\n",
       "      <th>10</th>\n",
       "      <td>529.985067</td>\n",
       "      <td>738.912658</td>\n",
       "      <td>208.927591</td>\n",
       "      <td>52.831</td>\n",
       "      <td>53.619090</td>\n",
       "      <td>140.472119</td>\n",
       "      <td>99.999413</td>\n",
       "      <td>120.777333</td>\n",
       "    </tr>\n",
       "    <tr>\n",
       "      <th>11</th>\n",
       "      <td>905.161900</td>\n",
       "      <td>696.538966</td>\n",
       "      <td>208.622934</td>\n",
       "      <td>53.668</td>\n",
       "      <td>53.498972</td>\n",
       "      <td>124.133542</td>\n",
       "      <td>168.100879</td>\n",
       "      <td>120.094667</td>\n",
       "    </tr>\n",
       "    <tr>\n",
       "      <th>12</th>\n",
       "      <td>780.998400</td>\n",
       "      <td>754.263483</td>\n",
       "      <td>26.734917</td>\n",
       "      <td>53.668</td>\n",
       "      <td>53.831296</td>\n",
       "      <td>152.714574</td>\n",
       "      <td>145.372606</td>\n",
       "      <td>129.939333</td>\n",
       "    </tr>\n",
       "    <tr>\n",
       "      <th>13</th>\n",
       "      <td>858.538200</td>\n",
       "      <td>767.876806</td>\n",
       "      <td>90.661394</td>\n",
       "      <td>53.668</td>\n",
       "      <td>53.523424</td>\n",
       "      <td>152.516453</td>\n",
       "      <td>160.256615</td>\n",
       "      <td>132.354000</td>\n",
       "    </tr>\n",
       "    <tr>\n",
       "      <th>14</th>\n",
       "      <td>737.048600</td>\n",
       "      <td>706.936195</td>\n",
       "      <td>30.112405</td>\n",
       "      <td>55.349</td>\n",
       "      <td>53.843799</td>\n",
       "      <td>140.965401</td>\n",
       "      <td>133.164375</td>\n",
       "      <td>121.377333</td>\n",
       "    </tr>\n",
       "    <tr>\n",
       "      <th>15</th>\n",
       "      <td>617.226033</td>\n",
       "      <td>593.926934</td>\n",
       "      <td>23.299099</td>\n",
       "      <td>55.349</td>\n",
       "      <td>53.908554</td>\n",
       "      <td>110.915089</td>\n",
       "      <td>111.512584</td>\n",
       "      <td>101.846333</td>\n",
       "    </tr>\n",
       "    <tr>\n",
       "      <th>16</th>\n",
       "      <td>831.606700</td>\n",
       "      <td>735.939890</td>\n",
       "      <td>95.666810</td>\n",
       "      <td>55.349</td>\n",
       "      <td>53.477679</td>\n",
       "      <td>137.802808</td>\n",
       "      <td>149.977922</td>\n",
       "      <td>126.379667</td>\n",
       "    </tr>\n",
       "    <tr>\n",
       "      <th>17</th>\n",
       "      <td>518.776600</td>\n",
       "      <td>442.618470</td>\n",
       "      <td>76.158130</td>\n",
       "      <td>52.005</td>\n",
       "      <td>53.069015</td>\n",
       "      <td>88.802521</td>\n",
       "      <td>100.264071</td>\n",
       "      <td>67.466000</td>\n",
       "    </tr>\n",
       "    <tr>\n",
       "      <th>18</th>\n",
       "      <td>442.834800</td>\n",
       "      <td>823.421608</td>\n",
       "      <td>380.586808</td>\n",
       "      <td>50.671</td>\n",
       "      <td>53.105408</td>\n",
       "      <td>151.949916</td>\n",
       "      <td>87.443923</td>\n",
       "      <td>143.830333</td>\n",
       "    </tr>\n",
       "    <tr>\n",
       "      <th>19</th>\n",
       "      <td>749.681200</td>\n",
       "      <td>726.176041</td>\n",
       "      <td>23.505159</td>\n",
       "      <td>53.001</td>\n",
       "      <td>53.059797</td>\n",
       "      <td>135.609175</td>\n",
       "      <td>142.168129</td>\n",
       "      <td>116.809333</td>\n",
       "    </tr>\n",
       "    <tr>\n",
       "      <th>20</th>\n",
       "      <td>602.653767</td>\n",
       "      <td>551.593494</td>\n",
       "      <td>51.060272</td>\n",
       "      <td>52.116</td>\n",
       "      <td>53.116569</td>\n",
       "      <td>120.349582</td>\n",
       "      <td>116.538913</td>\n",
       "      <td>94.914000</td>\n",
       "    </tr>\n",
       "    <tr>\n",
       "      <th>21</th>\n",
       "      <td>757.307433</td>\n",
       "      <td>789.939903</td>\n",
       "      <td>32.632470</td>\n",
       "      <td>52.116</td>\n",
       "      <td>53.458443</td>\n",
       "      <td>143.751733</td>\n",
       "      <td>145.002590</td>\n",
       "      <td>135.767333</td>\n",
       "    </tr>\n",
       "    <tr>\n",
       "      <th>22</th>\n",
       "      <td>747.322833</td>\n",
       "      <td>695.549553</td>\n",
       "      <td>51.773281</td>\n",
       "      <td>52.116</td>\n",
       "      <td>54.013812</td>\n",
       "      <td>150.709989</td>\n",
       "      <td>143.666110</td>\n",
       "      <td>119.839333</td>\n",
       "    </tr>\n",
       "    <tr>\n",
       "      <th>23</th>\n",
       "      <td>836.336100</td>\n",
       "      <td>736.174709</td>\n",
       "      <td>100.161391</td>\n",
       "      <td>54.880</td>\n",
       "      <td>53.928913</td>\n",
       "      <td>132.897186</td>\n",
       "      <td>152.473069</td>\n",
       "      <td>135.890333</td>\n",
       "    </tr>\n",
       "    <tr>\n",
       "      <th>24</th>\n",
       "      <td>553.764067</td>\n",
       "      <td>539.281419</td>\n",
       "      <td>14.482648</td>\n",
       "      <td>54.880</td>\n",
       "      <td>54.036056</td>\n",
       "      <td>113.016484</td>\n",
       "      <td>100.762300</td>\n",
       "      <td>98.722667</td>\n",
       "    </tr>\n",
       "    <tr>\n",
       "      <th>25</th>\n",
       "      <td>819.571933</td>\n",
       "      <td>756.265066</td>\n",
       "      <td>63.306867</td>\n",
       "      <td>NaN</td>\n",
       "      <td>54.138888</td>\n",
       "      <td>130.984560</td>\n",
       "      <td>NaN</td>\n",
       "      <td>135.806000</td>\n",
       "    </tr>\n",
       "    <tr>\n",
       "      <th>26</th>\n",
       "      <td>696.991667</td>\n",
       "      <td>678.065039</td>\n",
       "      <td>18.926628</td>\n",
       "      <td>NaN</td>\n",
       "      <td>54.054747</td>\n",
       "      <td>125.613483</td>\n",
       "      <td>NaN</td>\n",
       "      <td>121.820667</td>\n",
       "    </tr>\n",
       "    <tr>\n",
       "      <th>27</th>\n",
       "      <td>723.745000</td>\n",
       "      <td>699.417402</td>\n",
       "      <td>24.327598</td>\n",
       "      <td>57.682</td>\n",
       "      <td>54.147156</td>\n",
       "      <td>109.733352</td>\n",
       "      <td>125.083423</td>\n",
       "      <td>116.825000</td>\n",
       "    </tr>\n",
       "    <tr>\n",
       "      <th>28</th>\n",
       "      <td>539.583067</td>\n",
       "      <td>739.203224</td>\n",
       "      <td>199.620157</td>\n",
       "      <td>51.191</td>\n",
       "      <td>54.115394</td>\n",
       "      <td>125.863931</td>\n",
       "      <td>105.699732</td>\n",
       "      <td>147.935000</td>\n",
       "    </tr>\n",
       "    <tr>\n",
       "      <th>29</th>\n",
       "      <td>763.966167</td>\n",
       "      <td>843.820108</td>\n",
       "      <td>79.853942</td>\n",
       "      <td>51.191</td>\n",
       "      <td>53.869560</td>\n",
       "      <td>144.799916</td>\n",
       "      <td>149.487605</td>\n",
       "      <td>168.852667</td>\n",
       "    </tr>\n",
       "    <tr>\n",
       "      <th>30</th>\n",
       "      <td>729.404300</td>\n",
       "      <td>672.689159</td>\n",
       "      <td>56.715141</td>\n",
       "      <td>51.191</td>\n",
       "      <td>54.132221</td>\n",
       "      <td>135.113131</td>\n",
       "      <td>142.850755</td>\n",
       "      <td>134.675333</td>\n",
       "    </tr>\n",
       "    <tr>\n",
       "      <th>31</th>\n",
       "      <td>749.458833</td>\n",
       "      <td>678.147362</td>\n",
       "      <td>71.311471</td>\n",
       "      <td>51.478</td>\n",
       "      <td>53.064318</td>\n",
       "      <td>122.753891</td>\n",
       "      <td>146.207603</td>\n",
       "      <td>127.024667</td>\n",
       "    </tr>\n",
       "    <tr>\n",
       "      <th>32</th>\n",
       "      <td>736.229600</td>\n",
       "      <td>718.380570</td>\n",
       "      <td>17.849030</td>\n",
       "      <td>51.478</td>\n",
       "      <td>53.837414</td>\n",
       "      <td>126.490633</td>\n",
       "      <td>143.005167</td>\n",
       "      <td>134.249000</td>\n",
       "    </tr>\n",
       "    <tr>\n",
       "      <th>33</th>\n",
       "      <td>323.791867</td>\n",
       "      <td>301.128637</td>\n",
       "      <td>22.663230</td>\n",
       "      <td>54.692</td>\n",
       "      <td>49.866997</td>\n",
       "      <td>63.048547</td>\n",
       "      <td>59.374973</td>\n",
       "      <td>52.411000</td>\n",
       "    </tr>\n",
       "    <tr>\n",
       "      <th>34</th>\n",
       "      <td>427.737800</td>\n",
       "      <td>372.916142</td>\n",
       "      <td>54.821658</td>\n",
       "      <td>54.692</td>\n",
       "      <td>49.829410</td>\n",
       "      <td>82.919804</td>\n",
       "      <td>78.461237</td>\n",
       "      <td>64.972000</td>\n",
       "    </tr>\n",
       "    <tr>\n",
       "      <th>35</th>\n",
       "      <td>242.150333</td>\n",
       "      <td>213.902759</td>\n",
       "      <td>28.247574</td>\n",
       "      <td>52.005</td>\n",
       "      <td>49.572740</td>\n",
       "      <td>54.900677</td>\n",
       "      <td>47.023805</td>\n",
       "      <td>36.821667</td>\n",
       "    </tr>\n",
       "    <tr>\n",
       "      <th>36</th>\n",
       "      <td>380.124200</td>\n",
       "      <td>422.688885</td>\n",
       "      <td>42.564685</td>\n",
       "      <td>52.005</td>\n",
       "      <td>49.399299</td>\n",
       "      <td>62.781001</td>\n",
       "      <td>72.772003</td>\n",
       "      <td>72.343000</td>\n",
       "    </tr>\n",
       "    <tr>\n",
       "      <th>37</th>\n",
       "      <td>546.845800</td>\n",
       "      <td>657.562283</td>\n",
       "      <td>110.716483</td>\n",
       "      <td>56.673</td>\n",
       "      <td>53.193150</td>\n",
       "      <td>122.567952</td>\n",
       "      <td>95.866833</td>\n",
       "      <td>116.280667</td>\n",
       "    </tr>\n",
       "    <tr>\n",
       "      <th>38</th>\n",
       "      <td>674.991800</td>\n",
       "      <td>585.299548</td>\n",
       "      <td>89.692252</td>\n",
       "      <td>56.195</td>\n",
       "      <td>54.137198</td>\n",
       "      <td>124.114093</td>\n",
       "      <td>120.170193</td>\n",
       "      <td>99.610667</td>\n",
       "    </tr>\n",
       "    <tr>\n",
       "      <th>39</th>\n",
       "      <td>724.415000</td>\n",
       "      <td>590.835837</td>\n",
       "      <td>133.579163</td>\n",
       "      <td>56.195</td>\n",
       "      <td>53.080448</td>\n",
       "      <td>124.262429</td>\n",
       "      <td>128.536738</td>\n",
       "      <td>100.803667</td>\n",
       "    </tr>\n",
       "    <tr>\n",
       "      <th>40</th>\n",
       "      <td>643.370367</td>\n",
       "      <td>579.493687</td>\n",
       "      <td>63.876679</td>\n",
       "      <td>54.799</td>\n",
       "      <td>54.114981</td>\n",
       "      <td>107.265143</td>\n",
       "      <td>117.736674</td>\n",
       "      <td>99.145333</td>\n",
       "    </tr>\n",
       "    <tr>\n",
       "      <th>41</th>\n",
       "      <td>688.773167</td>\n",
       "      <td>625.505108</td>\n",
       "      <td>63.268059</td>\n",
       "      <td>51.019</td>\n",
       "      <td>54.142408</td>\n",
       "      <td>118.321780</td>\n",
       "      <td>135.068778</td>\n",
       "      <td>113.193000</td>\n",
       "    </tr>\n",
       "    <tr>\n",
       "      <th>42</th>\n",
       "      <td>775.601567</td>\n",
       "      <td>757.230833</td>\n",
       "      <td>18.370733</td>\n",
       "      <td>51.019</td>\n",
       "      <td>53.062966</td>\n",
       "      <td>138.683431</td>\n",
       "      <td>151.747702</td>\n",
       "      <td>137.114000</td>\n",
       "    </tr>\n",
       "    <tr>\n",
       "      <th>43</th>\n",
       "      <td>417.007633</td>\n",
       "      <td>363.417367</td>\n",
       "      <td>53.590266</td>\n",
       "      <td>52.684</td>\n",
       "      <td>45.931125</td>\n",
       "      <td>79.051668</td>\n",
       "      <td>78.571008</td>\n",
       "      <td>67.901000</td>\n",
       "    </tr>\n",
       "    <tr>\n",
       "      <th>44</th>\n",
       "      <td>982.638700</td>\n",
       "      <td>930.355184</td>\n",
       "      <td>52.283516</td>\n",
       "      <td>69.346</td>\n",
       "      <td>84.764337</td>\n",
       "      <td>109.669190</td>\n",
       "      <td>140.468390</td>\n",
       "      <td>127.109667</td>\n",
       "    </tr>\n",
       "    <tr>\n",
       "      <th>45</th>\n",
       "      <td>375.938367</td>\n",
       "      <td>818.179164</td>\n",
       "      <td>442.240797</td>\n",
       "      <td>74.626</td>\n",
       "      <td>83.883364</td>\n",
       "      <td>96.660633</td>\n",
       "      <td>50.120333</td>\n",
       "      <td>108.577667</td>\n",
       "    </tr>\n",
       "    <tr>\n",
       "      <th>46</th>\n",
       "      <td>1334.858900</td>\n",
       "      <td>1315.724439</td>\n",
       "      <td>19.134461</td>\n",
       "      <td>83.927</td>\n",
       "      <td>89.618484</td>\n",
       "      <td>119.498266</td>\n",
       "      <td>160.073635</td>\n",
       "      <td>146.260333</td>\n",
       "    </tr>\n",
       "    <tr>\n",
       "      <th>47</th>\n",
       "      <td>648.611033</td>\n",
       "      <td>993.164714</td>\n",
       "      <td>344.553681</td>\n",
       "      <td>68.769</td>\n",
       "      <td>76.007915</td>\n",
       "      <td>127.250166</td>\n",
       "      <td>94.207143</td>\n",
       "      <td>134.558333</td>\n",
       "    </tr>\n",
       "  </tbody>\n",
       "</table>\n",
       "</div>"
      ],
      "text/plain": [
       "    pixels_meas  pixels_length  pixels_difference  scale_Real  scale_combined  \\\n",
       "0    573.055467     521.432658          51.622809      54.252       53.081310   \n",
       "1    618.417933     540.592735          77.825199      54.252       53.643903   \n",
       "2    760.271700     645.351233         114.920467      52.445       53.918253   \n",
       "3    732.939467     663.877478          69.061988      55.754       53.068718   \n",
       "4    521.267133     440.301144          80.965990      50.782       53.573752   \n",
       "5    633.752433     602.418713          31.333720      57.543       53.072643   \n",
       "6    502.689367     397.144449         105.544918      58.694       53.952168   \n",
       "7    757.307367     724.384644          32.922722      57.412       53.743615   \n",
       "8    712.508267     701.538505          10.969762      52.831       54.114792   \n",
       "9    662.678800     660.216635           2.462165      52.831       53.397280   \n",
       "10   529.985067     738.912658         208.927591      52.831       53.619090   \n",
       "11   905.161900     696.538966         208.622934      53.668       53.498972   \n",
       "12   780.998400     754.263483          26.734917      53.668       53.831296   \n",
       "13   858.538200     767.876806          90.661394      53.668       53.523424   \n",
       "14   737.048600     706.936195          30.112405      55.349       53.843799   \n",
       "15   617.226033     593.926934          23.299099      55.349       53.908554   \n",
       "16   831.606700     735.939890          95.666810      55.349       53.477679   \n",
       "17   518.776600     442.618470          76.158130      52.005       53.069015   \n",
       "18   442.834800     823.421608         380.586808      50.671       53.105408   \n",
       "19   749.681200     726.176041          23.505159      53.001       53.059797   \n",
       "20   602.653767     551.593494          51.060272      52.116       53.116569   \n",
       "21   757.307433     789.939903          32.632470      52.116       53.458443   \n",
       "22   747.322833     695.549553          51.773281      52.116       54.013812   \n",
       "23   836.336100     736.174709         100.161391      54.880       53.928913   \n",
       "24   553.764067     539.281419          14.482648      54.880       54.036056   \n",
       "25   819.571933     756.265066          63.306867         NaN       54.138888   \n",
       "26   696.991667     678.065039          18.926628         NaN       54.054747   \n",
       "27   723.745000     699.417402          24.327598      57.682       54.147156   \n",
       "28   539.583067     739.203224         199.620157      51.191       54.115394   \n",
       "29   763.966167     843.820108          79.853942      51.191       53.869560   \n",
       "30   729.404300     672.689159          56.715141      51.191       54.132221   \n",
       "31   749.458833     678.147362          71.311471      51.478       53.064318   \n",
       "32   736.229600     718.380570          17.849030      51.478       53.837414   \n",
       "33   323.791867     301.128637          22.663230      54.692       49.866997   \n",
       "34   427.737800     372.916142          54.821658      54.692       49.829410   \n",
       "35   242.150333     213.902759          28.247574      52.005       49.572740   \n",
       "36   380.124200     422.688885          42.564685      52.005       49.399299   \n",
       "37   546.845800     657.562283         110.716483      56.673       53.193150   \n",
       "38   674.991800     585.299548          89.692252      56.195       54.137198   \n",
       "39   724.415000     590.835837         133.579163      56.195       53.080448   \n",
       "40   643.370367     579.493687          63.876679      54.799       54.114981   \n",
       "41   688.773167     625.505108          63.268059      51.019       54.142408   \n",
       "42   775.601567     757.230833          18.370733      51.019       53.062966   \n",
       "43   417.007633     363.417367          53.590266      52.684       45.931125   \n",
       "44   982.638700     930.355184          52.283516      69.346       84.764337   \n",
       "45   375.938367     818.179164         442.240797      74.626       83.883364   \n",
       "46  1334.858900    1315.724439          19.134461      83.927       89.618484   \n",
       "47   648.611033     993.164714         344.553681      68.769       76.007915   \n",
       "\n",
       "    length_Length_fov(mm)  meas_scaled_avg  length_Avg_Length  \n",
       "0               92.626442       105.354365          89.831000  \n",
       "1              102.721787       113.868761          93.004000  \n",
       "2              129.793159       144.933435         115.249667  \n",
       "3              118.166109       131.241489         112.216333  \n",
       "4              134.614295       102.270430          79.953000  \n",
       "5              115.814424       109.900700         108.856333  \n",
       "6               88.223862        85.235578          75.624000  \n",
       "7              142.347179       132.332213         106.326333  \n",
       "8              124.118534       134.885484         114.699667  \n",
       "9              127.732940       126.018493         107.973000  \n",
       "10             140.472119        99.999413         120.777333  \n",
       "11             124.133542       168.100879         120.094667  \n",
       "12             152.714574       145.372606         129.939333  \n",
       "13             152.516453       160.256615         132.354000  \n",
       "14             140.965401       133.164375         121.377333  \n",
       "15             110.915089       111.512584         101.846333  \n",
       "16             137.802808       149.977922         126.379667  \n",
       "17              88.802521       100.264071          67.466000  \n",
       "18             151.949916        87.443923         143.830333  \n",
       "19             135.609175       142.168129         116.809333  \n",
       "20             120.349582       116.538913          94.914000  \n",
       "21             143.751733       145.002590         135.767333  \n",
       "22             150.709989       143.666110         119.839333  \n",
       "23             132.897186       152.473069         135.890333  \n",
       "24             113.016484       100.762300          98.722667  \n",
       "25             130.984560              NaN         135.806000  \n",
       "26             125.613483              NaN         121.820667  \n",
       "27             109.733352       125.083423         116.825000  \n",
       "28             125.863931       105.699732         147.935000  \n",
       "29             144.799916       149.487605         168.852667  \n",
       "30             135.113131       142.850755         134.675333  \n",
       "31             122.753891       146.207603         127.024667  \n",
       "32             126.490633       143.005167         134.249000  \n",
       "33              63.048547        59.374973          52.411000  \n",
       "34              82.919804        78.461237          64.972000  \n",
       "35              54.900677        47.023805          36.821667  \n",
       "36              62.781001        72.772003          72.343000  \n",
       "37             122.567952        95.866833         116.280667  \n",
       "38             124.114093       120.170193          99.610667  \n",
       "39             124.262429       128.536738         100.803667  \n",
       "40             107.265143       117.736674          99.145333  \n",
       "41             118.321780       135.068778         113.193000  \n",
       "42             138.683431       151.747702         137.114000  \n",
       "43              79.051668        78.571008          67.901000  \n",
       "44             109.669190       140.468390         127.109667  \n",
       "45              96.660633        50.120333         108.577667  \n",
       "46             119.498266       160.073635         146.260333  \n",
       "47             127.250166        94.207143         134.558333  "
      ]
     },
     "execution_count": 45,
     "metadata": {},
     "output_type": "execute_result"
    }
   ],
   "source": [
    "gg"
   ]
  },
  {
   "cell_type": "code",
   "execution_count": 140,
   "metadata": {},
   "outputs": [
    {
     "name": "stdout",
     "output_type": "stream",
     "text": [
      "Number of prawns: 101\n",
      "\n",
      "Length statistics (mm):\n",
      "Mean length: 34.13\n",
      "Standard deviation: 6.89\n",
      "Min length: 11.70\n",
      "Max length: 46.82\n",
      "\n",
      "MAD statistics (mm):\n",
      "Median MAD: 0.91\n",
      "Mean MAD: 1.29\n",
      "Max MAD: 4.14\n"
     ]
    },
    {
     "data": {
      "text/html": [
       "<div>\n",
       "<style scoped>\n",
       "    .dataframe tbody tr th:only-of-type {\n",
       "        vertical-align: middle;\n",
       "    }\n",
       "\n",
       "    .dataframe tbody tr th {\n",
       "        vertical-align: top;\n",
       "    }\n",
       "\n",
       "    .dataframe thead th {\n",
       "        text-align: right;\n",
       "    }\n",
       "</style>\n",
       "<table border=\"1\" class=\"dataframe\">\n",
       "  <thead>\n",
       "    <tr style=\"text-align: right;\">\n",
       "      <th></th>\n",
       "      <th>Metric</th>\n",
       "      <th>Value</th>\n",
       "    </tr>\n",
       "  </thead>\n",
       "  <tbody>\n",
       "    <tr>\n",
       "      <th>0</th>\n",
       "      <td>Number of prawns</td>\n",
       "      <td>101</td>\n",
       "    </tr>\n",
       "    <tr>\n",
       "      <th>1</th>\n",
       "      <td>Mean length (mm)</td>\n",
       "      <td>34.13</td>\n",
       "    </tr>\n",
       "    <tr>\n",
       "      <th>2</th>\n",
       "      <td>Standard deviation (mm)</td>\n",
       "      <td>6.89</td>\n",
       "    </tr>\n",
       "    <tr>\n",
       "      <th>3</th>\n",
       "      <td>Min length (mm)</td>\n",
       "      <td>11.70</td>\n",
       "    </tr>\n",
       "    <tr>\n",
       "      <th>4</th>\n",
       "      <td>Max length (mm)</td>\n",
       "      <td>46.82</td>\n",
       "    </tr>\n",
       "    <tr>\n",
       "      <th>5</th>\n",
       "      <td>Median MAD (mm)</td>\n",
       "      <td>0.91</td>\n",
       "    </tr>\n",
       "    <tr>\n",
       "      <th>6</th>\n",
       "      <td>Mean MAD (mm)</td>\n",
       "      <td>1.29</td>\n",
       "    </tr>\n",
       "    <tr>\n",
       "      <th>7</th>\n",
       "      <td>Max MAD (mm)</td>\n",
       "      <td>4.14</td>\n",
       "    </tr>\n",
       "  </tbody>\n",
       "</table>\n",
       "</div>"
      ],
      "text/plain": [
       "                    Metric  Value\n",
       "0         Number of prawns    101\n",
       "1         Mean length (mm)  34.13\n",
       "2  Standard deviation (mm)   6.89\n",
       "3          Min length (mm)  11.70\n",
       "4          Max length (mm)  46.82\n",
       "5          Median MAD (mm)   0.91\n",
       "6            Mean MAD (mm)   1.29\n",
       "7             Max MAD (mm)   4.14"
      ]
     },
     "metadata": {},
     "output_type": "display_data"
    }
   ],
   "source": [
    "# Calculate basic statistics\n",
    "num_prawns = len(df)\n",
    "mean_length = df['media_all'].mean()\n",
    "std_length = df['media_all'].std()\n",
    "min_length = df['media_all'].min()\n",
    "max_length = df['media_all'].max()\n",
    "\n",
    "print(f\"Number of prawns: {num_prawns}\")\n",
    "print(f\"\\nLength statistics (mm):\")\n",
    "print(f\"Mean length: {mean_length:.2f}\")\n",
    "print(f\"Standard deviation: {std_length:.2f}\")\n",
    "print(f\"Min length: {min_length:.2f}\")\n",
    "print(f\"Max length: {max_length:.2f}\")\n",
    "\n",
    "# Calculate MAD statistics\n",
    "median_mad = df['MAD_all'].median()\n",
    "mean_mad = df['MAD_all'].mean()\n",
    "max_mad = df['MAD_all'].max()\n",
    "\n",
    "print(f\"\\nMAD statistics (mm):\")\n",
    "print(f\"Median MAD: {median_mad:.2f}\")\n",
    "print(f\"Mean MAD: {mean_mad:.2f}\")\n",
    "print(f\"Max MAD: {max_mad:.2f}\")\n",
    "\n",
    "# Create a table with the statistics\n",
    "stats_table = pd.DataFrame({\n",
    "    'Metric': [\n",
    "        'Number of prawns',\n",
    "        'Mean length (mm)', \n",
    "        'Standard deviation (mm)',\n",
    "        'Min length (mm)',\n",
    "        'Max length (mm)',\n",
    "        'Median MAD (mm)',\n",
    "        'Mean MAD (mm)', \n",
    "        'Max MAD (mm)'\n",
    "    ],\n",
    "    'Value': [\n",
    "        num_prawns,\n",
    "        f\"{mean_length:.2f}\",\n",
    "        f\"{std_length:.2f}\", \n",
    "        f\"{min_length:.2f}\",\n",
    "        f\"{max_length:.2f}\",\n",
    "        f\"{median_mad:.2f}\",\n",
    "        f\"{mean_mad:.2f}\",\n",
    "        f\"{max_mad:.2f}\"\n",
    "    ]\n",
    "})\n",
    "\n",
    "display(stats_table)\n"
   ]
  },
  {
   "cell_type": "code",
   "execution_count": 103,
   "metadata": {},
   "outputs": [
    {
     "data": {
      "text/html": [
       "<div>\n",
       "<style scoped>\n",
       "    .dataframe tbody tr th:only-of-type {\n",
       "        vertical-align: middle;\n",
       "    }\n",
       "\n",
       "    .dataframe tbody tr th {\n",
       "        vertical-align: top;\n",
       "    }\n",
       "\n",
       "    .dataframe thead th {\n",
       "        text-align: right;\n",
       "    }\n",
       "</style>\n",
       "<table border=\"1\" class=\"dataframe\">\n",
       "  <thead>\n",
       "    <tr style=\"text-align: right;\">\n",
       "      <th></th>\n",
       "      <th>Metric</th>\n",
       "      <th>Value</th>\n",
       "    </tr>\n",
       "  </thead>\n",
       "  <tbody>\n",
       "    <tr>\n",
       "      <th>0</th>\n",
       "      <td>Number of prawns</td>\n",
       "      <td>54</td>\n",
       "    </tr>\n",
       "    <tr>\n",
       "      <th>1</th>\n",
       "      <td>Mean length (mm)</td>\n",
       "      <td>115.81</td>\n",
       "    </tr>\n",
       "    <tr>\n",
       "      <th>2</th>\n",
       "      <td>Standard deviation (mm)</td>\n",
       "      <td>26.42</td>\n",
       "    </tr>\n",
       "    <tr>\n",
       "      <th>3</th>\n",
       "      <td>Min length (mm)</td>\n",
       "      <td>42.40</td>\n",
       "    </tr>\n",
       "    <tr>\n",
       "      <th>4</th>\n",
       "      <td>Max length (mm)</td>\n",
       "      <td>162.60</td>\n",
       "    </tr>\n",
       "    <tr>\n",
       "      <th>5</th>\n",
       "      <td>Median MAD (mm)</td>\n",
       "      <td>15.26</td>\n",
       "    </tr>\n",
       "    <tr>\n",
       "      <th>6</th>\n",
       "      <td>Mean MAD (mm)</td>\n",
       "      <td>5.29</td>\n",
       "    </tr>\n",
       "    <tr>\n",
       "      <th>7</th>\n",
       "      <td>Max MAD (mm)</td>\n",
       "      <td>15.26</td>\n",
       "    </tr>\n",
       "  </tbody>\n",
       "</table>\n",
       "</div>"
      ],
      "text/plain": [
       "                    Metric   Value\n",
       "0         Number of prawns      54\n",
       "1         Mean length (mm)  115.81\n",
       "2  Standard deviation (mm)   26.42\n",
       "3          Min length (mm)   42.40\n",
       "4          Max length (mm)  162.60\n",
       "5          Median MAD (mm)   15.26\n",
       "6            Mean MAD (mm)    5.29\n",
       "7             Max MAD (mm)   15.26"
      ]
     },
     "metadata": {},
     "output_type": "display_data"
    }
   ],
   "source": [
    "stats_table = pd.DataFrame({\n",
    "    'Metric': [\n",
    "        'Number of prawns',\n",
    "        'Mean length (mm)', \n",
    "        'Standard deviation (mm)',\n",
    "        'Min length (mm)',\n",
    "        'Max length (mm)',\n",
    "        'Median MAD (mm)',\n",
    "        'Mean MAD (mm)', \n",
    "        'Max MAD (mm)'\n",
    "    ],\n",
    "    'Value': [\n",
    "        num_prawns,\n",
    "        f\"{mean_length:.2f}\",\n",
    "        f\"{std_length:.2f}\", \n",
    "        f\"{min_length:.2f}\",\n",
    "        f\"{max_length:.2f}\",\n",
    "        f\"{median_mad:.2f}\",\n",
    "        f\"{mean_mad:.2f}\",\n",
    "        f\"{max_mad:.2f}\"\n",
    "    ]\n",
    "})\n",
    "\n",
    "display(stats_table)\n"
   ]
  },
  {
   "cell_type": "code",
   "execution_count": 149,
   "metadata": {},
   "outputs": [
    {
     "data": {
      "application/vnd.plotly.v1+json": {
       "config": {
        "plotlyServerURL": "https://plot.ly"
       },
       "data": [
        {
         "hoverinfo": "text+x+y",
         "marker": {
          "opacity": 0.7
         },
         "mode": "markers",
         "name": "Measurements",
         "text": [
          "Image: undistorted_GX010067_33_625.jpg_gamma_obj3_cropped0.0593677_0.723095<br>Prawn ID: Prawn_3",
          "Image: undistorted_GX010067_33_625.jpg_gamma_obj1_cropped0.272177_0.696292<br>Prawn ID: Prawn_2",
          "Image: undistorted_GX010067_33_625.jpg_gamma_obj0_cropped0.600462_0.2647<br>Prawn ID: Prawn_0",
          "Image: undistorted_GX010067_33_625.jpg_gamma_obj2_cropped0.730074_0.668993<br>Prawn ID: Prawn_1",
          "Image: undistorted_GX010068_26_666.jpg_gamma_obj2_cropped0.644743_0.8728269999999999<br>Prawn ID: Prawn_2",
          "Image: undistorted_GX010069_19_191.jpg_gamma_obj1_cropped0.165613_0.393015<br>Prawn ID: Prawn_0",
          "Image: undistorted_GX010069_19_191.jpg_gamma_obj0_cropped0.637446_0.168811<br>Prawn ID: Prawn_1",
          "Image: undistorted_GX010069_19_191.jpg_gamma_obj2_cropped0.680402_0.8831689999999999<br>Prawn ID: Prawn_3",
          "Image: undistorted_GX010069_53_796.jpg_gamma_obj1_cropped0.63723_0.18312999999999996<br>Prawn ID: Prawn_0",
          "Image: undistorted_GX010069_53_796.jpg_gamma_obj0_cropped0.82672_0.699938<br>Prawn ID: Prawn_1",
          "Image: undistorted_GX010073_42_695.jpg_gamma_obj1_cropped0.233215_0.16234<br>Prawn ID: Prawn_0",
          "Image: undistorted_GX010073_55_1014.jpg_gamma_obj1_cropped0.589214_0.213622<br>Prawn ID: Prawn_0",
          "Image: undistorted_GX010073_55_1014.jpg_gamma_obj0_cropped0.305851_0.646811<br>Prawn ID: Prawn_3",
          "Image: undistorted_GX010073_55_1014.jpg_gamma_obj2_cropped0.577343_0.508345<br>Prawn ID: Prawn_2",
          "Image: undistorted_GX010077_14_237.jpg_gamma_obj1_cropped0.807605_0.751737<br>Prawn ID: Prawn_2",
          "Image: undistorted_GX010077_14_237.jpg_gamma_obj0_cropped0.444795_0.521214<br>Prawn ID: Prawn_1",
          "Image: undistorted_GX010077_14_237.jpg_gamma_obj2_cropped0.369629_0.12261<br>Prawn ID: Prawn_0",
          "Image: undistorted_GX010080_157_2283.jpg_gamma_obj1_cropped0.318029_0.7344440000000001<br>Prawn ID: Prawn_4",
          "Image: undistorted_GX010080_157_2283.jpg_gamma_obj0_cropped0.484674_0.458543<br>Prawn ID: Prawn_3",
          "Image: undistorted_GX010080_157_2283.jpg_gamma_obj5_cropped0.558066_0.0813684<br>Prawn ID: Prawn_1",
          "Image: undistorted_GX010080_193_2640.jpg_gamma_obj1_cropped0.641363_0.187963<br>Prawn ID: Prawn_1",
          "Image: undistorted_GX010080_212_2954.jpg_gamma_obj1_cropped0.715335_0.24153<br>Prawn ID: Prawn_1",
          "Image: undistorted_GX010080_212_2954.jpg_gamma_obj0_cropped0.45727500000000004_0.41336199999999995<br>Prawn ID: Prawn_0",
          "Image: undistorted_GX010080_237_3366.jpg_gamma_obj1_cropped0.786939_0.100473<br>Prawn ID: Prawn_2",
          "Image: undistorted_GX010080_237_3366.jpg_gamma_obj4_cropped0.278897_0.164793<br>Prawn ID: Prawn_0",
          "Image: undistorted_GX010080_237_3366.jpg_gamma_obj0_cropped0.673871_0.3498629999999999<br>Prawn ID: Prawn_3",
          "Image: undistorted_GX010080_238_3392.jpg_gamma_obj3_cropped0.267366_0.374916<br>Prawn ID: Prawn_0",
          "Image: undistorted_GX010080_238_3392.jpg_gamma_obj1_cropped0.473451_0.308475<br>Prawn ID: Prawn_1",
          "Image: undistorted_GX010080_238_3392.jpg_gamma_obj6_cropped0.575557_0.0703528<br>Prawn ID: Prawn_2",
          "Image: undistorted_GX010080_238_3392.jpg_gamma_obj0_cropped0.608277_0.630681<br>Prawn ID: Prawn_4",
          "Image: undistorted_GX010082_236_3137.jpg_gamma_obj1_cropped0.476971_0.301475<br>Prawn ID: Prawn_1",
          "Image: undistorted_GX010082_236_3137.jpg_gamma_obj4_cropped0.160209_0.848813<br>Prawn ID: Prawn_3",
          "Image: undistorted_GX010082_236_3137.jpg_gamma_obj0_cropped0.732077_0.556452<br>Prawn ID: Prawn_2",
          "Image: undistorted_GX010082_236_3137.jpg_gamma_obj2_cropped0.05702410000000001_0.264227<br>Prawn ID: Prawn_0",
          "Image: undistorted_GX010082_53_796.jpg_gamma_obj0_cropped0.352716_0.58456<br>Prawn ID: Prawn_1",
          "Image: undistorted_GX010082_65_1070.jpg_gamma_obj1_cropped0.8137599999999999_0.256097<br>Prawn ID: Prawn_1",
          "Image: undistorted_GX010082_65_1070.jpg_gamma_obj0_cropped0.487806_0.214278<br>Prawn ID: Prawn_0",
          "Image: undistorted_GX010082_65_1070.jpg_gamma_obj2_cropped0.700407_0.878715<br>Prawn ID: Prawn_2",
          "Image: undistorted_GX010082_8_59.jpg_gamma_obj3_cropped0.320508_0.590259<br>Prawn ID: Prawn_4",
          "Image: undistorted_GX010082_8_59.jpg_gamma_obj1_cropped0.467129_0.147647<br>Prawn ID: Prawn_1",
          "Image: undistorted_GX010082_8_59.jpg_gamma_obj6_cropped0.259021_0.829126<br>Prawn ID: Prawn_5",
          "Image: undistorted_GX010084_130_1748.jpg_gamma_obj3_cropped0.731519_0.587507<br>Prawn ID: Prawn_1",
          "Image: undistorted_GX010084_130_1748.jpg_gamma_obj1_cropped0.176565_0.634902<br>Prawn ID: Prawn_3",
          "Image: undistorted_GX010084_130_1748.jpg_gamma_obj2_cropped0.357819_0.4446010000000001<br>Prawn ID: Prawn_2",
          "Image: undistorted_GX010084_30_344.jpg_gamma_obj3_cropped0.03599_0.301817<br>Prawn ID: Prawn_0",
          "Image: undistorted_GX010084_30_344.jpg_gamma_obj1_cropped0.810401_0.21446000000000004<br>Prawn ID: Prawn_2",
          "Image: undistorted_GX010084_30_344.jpg_gamma_obj0_cropped0.61008_0.44459<br>Prawn ID: Prawn_3",
          "Image: undistorted_GX010084_30_344.jpg_gamma_obj5_cropped0.21105199999999996_0.0952912<br>Prawn ID: Prawn_1",
          "Image: undistorted_GX010084_30_344.jpg_gamma_obj2_cropped0.207125_0.521242<br>Prawn ID: Prawn_5",
          "Image: undistorted_GX010085_261_3610.jpg_gamma_obj0_cropped0.7936910000000001_0.153409<br>Prawn ID: Prawn_1",
          "Image: undistorted_GX010085_263_3738.jpg_gamma_obj3_cropped0.522785_0.8216189999999999<br>Prawn ID: Prawn_3",
          "Image: undistorted_GX010085_263_3738.jpg_gamma_obj0_cropped0.620592_0.102143<br>Prawn ID: Prawn_1",
          "Image: undistorted_GX010085_263_3738.jpg_gamma_obj2_cropped0.506432_0.382421<br>Prawn ID: Prawn_2",
          "Image: undistorted_GX010088_209_2904.jpg_gamma_obj1_cropped0.706544_0.162394<br>Prawn ID: Prawn_0",
          "Image: undistorted_GX010088_262_3712.jpg_gamma_obj3_cropped0.498417_0.390083<br>Prawn ID: Prawn_2",
          "Image: undistorted_GX010088_262_3712.jpg_gamma_obj4_cropped0.589329_0.508396<br>Prawn ID: Prawn_3",
          "Image: undistorted_GX010088_262_3712.jpg_gamma_obj0_cropped0.483077_0.7415270000000002<br>Prawn ID: Prawn_5",
          "Image: undistorted_GX010088_327_4364.jpg_gamma_obj1_cropped0.10054299999999998_0.59776<br>Prawn ID: Prawn_2",
          "Image: undistorted_GX010089_11_236.jpg_gamma_obj3_cropped0.651187_0.840038<br>Prawn ID: Prawn_3",
          "Image: undistorted_GX010089_11_236.jpg_gamma_obj1_cropped0.856459_0.40323700000000007<br>Prawn ID: Prawn_2",
          "Image: undistorted_GX010089_11_236.jpg_gamma_obj0_cropped0.382488_0.357011<br>Prawn ID: Prawn_0",
          "Image: undistorted_GX010089_11_236.jpg_gamma_obj2_cropped0.49302100000000004_0.456011<br>Prawn ID: Prawn_1",
          "Image: undistorted_GX010090_132_1852.jpg_gamma_obj1_cropped0.290046_0.866326<br>Prawn ID: Prawn_1",
          "Image: undistorted_GX010090_132_1852.jpg_gamma_obj0_cropped0.593174_0.420704<br>Prawn ID: Prawn_0",
          "Image: undistorted_GX010091_5_149.jpg_gamma_obj6_cropped0.46567000000000003_0.839688<br>Prawn ID: Prawn_3",
          "Image: undistorted_GX010091_5_149.jpg_gamma_obj2_cropped0.107193_0.133569<br>Prawn ID: Prawn_0",
          "Image: undistorted_GX010094_163_2312.jpg_gamma_obj0_cropped0.390596_0.828977<br>Prawn ID: Prawn_0",
          "Image: undistorted_GX010094_24_430.jpg_gamma_obj1_cropped0.736605_0.309247<br>Prawn ID: Prawn_1",
          "Image: undistorted_GX010094_93_1258.jpg_gamma_obj0_cropped0.375379_0.184899<br>Prawn ID: Prawn_1",
          "Image: undistorted_GX010094_9_129.jpg_gamma_obj0_cropped0.387875_0.717031<br>Prawn ID: Prawn_0",
          "Image: undistorted_GX010096_107_1571.jpg_gamma_obj0_cropped0.574301_0.46668699999999996<br>Prawn ID: Prawn_0",
          "Image: undistorted_GX010097_105_1651.jpg_gamma_obj1_cropped0.511395_0.17872<br>Prawn ID: Prawn_0",
          "Image: undistorted_GX010097_105_1651.jpg_gamma_obj0_cropped0.878674_0.21296999999999996<br>Prawn ID: Prawn_1",
          "Image: undistorted_GX010097_124_1870.jpg_gamma_obj1_cropped0.329382_0.313961<br>Prawn ID: Prawn_0",
          "Image: undistorted_GX010097_124_1870.jpg_gamma_obj0_cropped0.267264_0.7945769999999999<br>Prawn ID: Prawn_1",
          "Image: undistorted_GX010097_32_528.jpg_gamma_obj1_cropped0.661415_0.316431<br>Prawn ID: Prawn_1",
          "Image: undistorted_GX010097_32_528.jpg_gamma_obj0_cropped0.691401_0.0580572<br>Prawn ID: Prawn_0",
          "Image: undistorted_GX010097_32_528.jpg_gamma_obj2_cropped0.8317550000000001_0.863504<br>Prawn ID: Prawn_2",
          "Image: undistorted_GX010097_60_1080.jpg_gamma_obj1_cropped0.359558_0.734083<br>Prawn ID: Prawn_1",
          "Image: undistorted_GX010097_60_1080.jpg_gamma_obj2_cropped0.496912_0.391393<br>Prawn ID: Prawn_0",
          "Image: undistorted_GX010101_12_173.jpg_gamma_obj0_cropped0.613399_0.332871<br>Prawn ID: Prawn_0",
          "Image: undistorted_GX010102_50_1396.jpg_gamma_obj0_cropped0.742883_0.283068<br>Prawn ID: Prawn_0",
          "Image: undistorted_GX010102_9_165.jpg_gamma_obj1_cropped0.448036_0.216305<br>Prawn ID: Prawn_0",
          "Image: undistorted_GX010102_9_165.jpg_gamma_obj0_cropped0.42886599999999997_0.855079<br>Prawn ID: Prawn_4",
          "Image: undistorted_GX010102_9_165.jpg_gamma_obj2_cropped0.4502630000000001_0.499096<br>Prawn ID: Prawn_3",
          "Image: undistorted_GX010105_28_816.jpg_gamma_obj1_cropped0.647012_0.216644<br>Prawn ID: Prawn_0",
          "Image: undistorted_GX010105_28_816.jpg_gamma_obj0_cropped0.76104_0.157493<br>Prawn ID: Prawn_1",
          "Image: undistorted_GX010157_177_2665.jpg_gamma_obj0_cropped0.310833_0.527406<br>Prawn ID: Prawn_0",
          "Image: undistorted_GX010161_54_676.jpg_gamma.jpg_gamma_obj0_cropped0.699212_0.356008<br>Prawn ID: Prawn_0",
          "Image: undistorted_GX010162_72_927.jpg_gamma.jpg_gamma_obj0_cropped0.440538_0.563871<br>Prawn ID: Prawn_0",
          "Image: undistorted_GX010169_121_1249_obj0_cropped0.50692_0.339794<br>Prawn ID: Prawn_0",
          "Image: undistorted_GX010174_104_1236_obj0_cropped0.869861_0.531581<br>Prawn ID: Prawn_0",
          "Image: undistorted_GX010174_62_790.jpg_gamma_obj0_cropped0.726009_0.427389<br>Prawn ID: Prawn_0",
          "Image: undistorted_GX010178_114_2258_obj0_cropped0.86194_0.0996985<br>Prawn ID: Prawn_0",
          "Image: undistorted_GX010178_189_3987.jpg_gamma_obj1_cropped0.312475_0.136874<br>Prawn ID: Prawn_0",
          "Image: undistorted_GX010178_189_3987.jpg_gamma_obj0_cropped0.815087_0.280456<br>Prawn ID: Prawn_1",
          "Image: undistorted_GX010179_88_1697.jpg_gamma_obj0_cropped0.705352_0.444284<br>Prawn ID: Prawn_0",
          "Image: undistorted_GX010180_99_1788_obj0_cropped0.43788_0.339204<br>Prawn ID: Prawn_0",
          "Image: undistorted_GX010181_101_1542_obj0_cropped0.768259_0.257719<br>Prawn ID: Prawn_0",
          "Image: undistorted_GX010183_128_2852.jpg_gamma_obj1_cropped0.10659999999999999_0.73272<br>Prawn ID: Prawn_1",
          "Image: undistorted_GX010183_37_685.jpg_gamma_obj1_cropped0.8260990000000001_0.354157<br>Prawn ID: Prawn_1"
         ],
         "type": "scatter",
         "x": [
          25.736007041215068,
          46.82434395045344,
          41.512690776376914,
          32.15530726977807,
          37.797887072170845,
          33.706461868206766,
          35.3297607884636,
          35.26113606198658,
          39.5311380521291,
          39.08082375103676,
          29.320280808160376,
          39.89004744278192,
          33.13877846132458,
          33.36993205081418,
          36.66934242000886,
          36.410553787439945,
          23.445520325757315,
          38.92345443461297,
          32.2501498641399,
          38.72815798090991,
          38.15129369120403,
          36.53048031865042,
          34.5710243673852,
          32.60305023477678,
          36.57274536036372,
          40.678403145263474,
          38.46270935337586,
          37.970364017416756,
          33.15070788993478,
          36.76147606099478,
          37.22582275742717,
          23.6816363811172,
          42.965988318430924,
          24.237680655706185,
          25.164824001894573,
          40.81082098450973,
          28.66473616535537,
          36.09641250165092,
          30.011217361271015,
          38.41003933532889,
          29.03131679330724,
          39.46895371720117,
          36.27578170553936,
          31.313219752186587,
          29.981,
          36.871,
          35.887,
          32.289,
          30.971,
          43.135796262265515,
          31.866162285233898,
          41.13314184633168,
          34.79808845473492,
          35.59054362802378,
          40.33253892285754,
          40.36464547479049,
          39.85401930026762,
          41.631959283577444,
          15.360921670445403,
          27.84812221165801,
          25.75796277334893,
          23.4865,
          34.79830790419805,
          36.191201459566784,
          11.699365445630228,
          21.10332660321123,
          41.7506838128451,
          38.608914297813776,
          37.9139515754086,
          26.201861288149644,
          36.4945,
          38.5632929531097,
          41.46781573093691,
          35.97297258096743,
          30.849081793907686,
          23.38067545940619,
          44.60650741801858,
          34.777859522984,
          24.952596091652133,
          42.188782610400054,
          46.12264930971191,
          39.51111998402875,
          29.718757117910556,
          19.05137844506871,
          20.89594563814441,
          21.497185625172005,
          26.300412806164573,
          34.04439492636633,
          33.05391742902829,
          30.376899662877932,
          35.98690095846646,
          32.302166329299276,
          38.404,
          45.268681862269645,
          33.86180430313827,
          44.402864190763324,
          39.71195867768595,
          36.66106185200434,
          39.68903180850608,
          28.323859587895708,
          25.56007015896253
         ],
         "y": [
          22.19795548446902,
          39.03213370089752,
          37.75355582799847,
          26.81020146673334,
          34.73729979624052,
          32.33364303397632,
          30.70185340036781,
          30.12266545795801,
          37.25249294020791,
          39.03419386660418,
          23.47374525046514,
          31.80997769642651,
          26.99219420910574,
          26.89449124914613,
          30.44549099282529,
          32.28195207616267,
          24.94316443969545,
          32.27854054244597,
          33.79909058631164,
          32.16057063041294,
          33.72908093913094,
          32.49656977443392,
          31.78460808312776,
          28.17515757805285,
          37.6717765619875,
          32.99200119145986,
          31.68313772442753,
          30.36537650769275,
          32.20506659345552,
          36.29383214420561,
          34.22749565071942,
          23.72612492478941,
          37.88315322674648,
          23.72612492478941,
          21.15671197279154,
          39.07726688167158,
          28.89332411096001,
          33.88843640719921,
          28.59184852876473,
          33.6723705987246,
          26.45912689008243,
          31.40392321944161,
          29.65767293239057,
          32.68076446146913,
          31.44825299952487,
          32.20438528823917,
          32.30128861778331,
          28.72026651808086,
          33.88992313051816,
          35.90870848354313,
          27.56585773231507,
          32.68232601149696,
          31.74650532117314,
          29.9113603068946,
          31.87648418130547,
          31.87648418130547,
          33.44885626731679,
          32.85831741366103,
          16.94533727285808,
          25.36365238898421,
          23.83967190786355,
          19.38509641605611,
          30.85546005141079,
          37.23936474310507,
          13.85217011827191,
          17.55763413780661,
          36.38742129153044,
          35.30074629070312,
          33.64979753414979,
          26.01416340285792,
          30.78771369941601,
          34.1954828549277,
          40.81753685853357,
          31.18986928496678,
          28.278749413969,
          26.85971570222255,
          42.75091767958929,
          29.02747244585838,
          22.50580113323289,
          33.81643194391071,
          41.48255338845136,
          31.82711707142748,
          28.40337607854461,
          20.30684270335733,
          17.53661307324709,
          18.96652793127783,
          31.1533472873859,
          27.7820419233597,
          29.20602533444568,
          23.28591420849031,
          27.45241113816892,
          26.43468208053814,
          30.32908626941265,
          42.88724026804254,
          28.68662359531841,
          34.80647652102144,
          37.4047759871929,
          32.25234387288427,
          35.83906119716944,
          24.85666633499299,
          23.3050865281126
         ]
        },
        {
         "line": {
          "color": "black",
          "dash": "dash"
         },
         "mode": "lines",
         "name": "Perfect match (y=x)",
         "type": "scatter",
         "x": [
          11.699365445630228,
          12.05416320830521,
          12.408960970980193,
          12.763758733655173,
          13.118556496330156,
          13.473354259005138,
          13.82815202168012,
          14.182949784355102,
          14.537747547030083,
          14.892545309705065,
          15.247343072380048,
          15.602140835055028,
          15.956938597730012,
          16.311736360404993,
          16.666534123079977,
          17.021331885754957,
          17.376129648429938,
          17.730927411104922,
          18.085725173779903,
          18.440522936454883,
          18.795320699129867,
          19.150118461804848,
          19.504916224479828,
          19.859713987154812,
          20.214511749829796,
          20.569309512504777,
          20.924107275179757,
          21.27890503785474,
          21.633702800529722,
          21.988500563204703,
          22.343298325879687,
          22.698096088554667,
          23.052893851229648,
          23.407691613904632,
          23.762489376579616,
          24.117287139254593,
          24.472084901929577,
          24.82688266460456,
          25.18168042727954,
          25.536478189954522,
          25.891275952629506,
          26.246073715304487,
          26.600871477979467,
          26.95566924065445,
          27.310467003329432,
          27.665264766004412,
          28.020062528679397,
          28.374860291354377,
          28.72965805402936,
          29.08445581670434,
          29.439253579379326,
          29.794051342054306,
          30.148849104729287,
          30.50364686740427,
          30.85844463007925,
          31.213242392754232,
          31.568040155429216,
          31.922837918104197,
          32.277635680779184,
          32.63243344345416,
          32.98723120612914,
          33.34202896880413,
          33.696826731479106,
          34.05162449415409,
          34.406422256829075,
          34.76122001950405,
          35.116017782179036,
          35.47081554485402,
          35.825613307529,
          36.18041107020398,
          36.535208832878965,
          36.89000659555394,
          37.244804358228926,
          37.59960212090391,
          37.95439988357889,
          38.30919764625387,
          38.663995408928855,
          39.01879317160383,
          39.373590934278816,
          39.7283886969538,
          40.08318645962878,
          40.43798422230377,
          40.792781984978745,
          41.14757974765372,
          41.502377510328714,
          41.85717527300369,
          42.211973035678675,
          42.56677079835366,
          42.921568561028636,
          43.27636632370362,
          43.631164086378604,
          43.98596184905358,
          44.340759611728565,
          44.69555737440355,
          45.050355137078526,
          45.40515289975351,
          45.759950662428494,
          46.11474842510347,
          46.469546187778455,
          46.82434395045344
         ],
         "y": [
          11.699365445630228,
          12.05416320830521,
          12.408960970980193,
          12.763758733655173,
          13.118556496330156,
          13.473354259005138,
          13.82815202168012,
          14.182949784355102,
          14.537747547030083,
          14.892545309705065,
          15.247343072380048,
          15.602140835055028,
          15.956938597730012,
          16.311736360404993,
          16.666534123079977,
          17.021331885754957,
          17.376129648429938,
          17.730927411104922,
          18.085725173779903,
          18.440522936454883,
          18.795320699129867,
          19.150118461804848,
          19.504916224479828,
          19.859713987154812,
          20.214511749829796,
          20.569309512504777,
          20.924107275179757,
          21.27890503785474,
          21.633702800529722,
          21.988500563204703,
          22.343298325879687,
          22.698096088554667,
          23.052893851229648,
          23.407691613904632,
          23.762489376579616,
          24.117287139254593,
          24.472084901929577,
          24.82688266460456,
          25.18168042727954,
          25.536478189954522,
          25.891275952629506,
          26.246073715304487,
          26.600871477979467,
          26.95566924065445,
          27.310467003329432,
          27.665264766004412,
          28.020062528679397,
          28.374860291354377,
          28.72965805402936,
          29.08445581670434,
          29.439253579379326,
          29.794051342054306,
          30.148849104729287,
          30.50364686740427,
          30.85844463007925,
          31.213242392754232,
          31.568040155429216,
          31.922837918104197,
          32.277635680779184,
          32.63243344345416,
          32.98723120612914,
          33.34202896880413,
          33.696826731479106,
          34.05162449415409,
          34.406422256829075,
          34.76122001950405,
          35.116017782179036,
          35.47081554485402,
          35.825613307529,
          36.18041107020398,
          36.535208832878965,
          36.89000659555394,
          37.244804358228926,
          37.59960212090391,
          37.95439988357889,
          38.30919764625387,
          38.663995408928855,
          39.01879317160383,
          39.373590934278816,
          39.7283886969538,
          40.08318645962878,
          40.43798422230377,
          40.792781984978745,
          41.14757974765372,
          41.502377510328714,
          41.85717527300369,
          42.211973035678675,
          42.56677079835366,
          42.921568561028636,
          43.27636632370362,
          43.631164086378604,
          43.98596184905358,
          44.340759611728565,
          44.69555737440355,
          45.050355137078526,
          45.40515289975351,
          45.759950662428494,
          46.11474842510347,
          46.469546187778455,
          46.82434395045344
         ]
        },
        {
         "line": {
          "color": "red",
          "dash": "dash"
         },
         "mode": "lines",
         "name": "Median + mean MAD (1.29 mm)",
         "type": "scatter",
         "x": [
          11.699365445630228,
          12.05416320830521,
          12.408960970980193,
          12.763758733655173,
          13.118556496330156,
          13.473354259005138,
          13.82815202168012,
          14.182949784355102,
          14.537747547030083,
          14.892545309705065,
          15.247343072380048,
          15.602140835055028,
          15.956938597730012,
          16.311736360404993,
          16.666534123079977,
          17.021331885754957,
          17.376129648429938,
          17.730927411104922,
          18.085725173779903,
          18.440522936454883,
          18.795320699129867,
          19.150118461804848,
          19.504916224479828,
          19.859713987154812,
          20.214511749829796,
          20.569309512504777,
          20.924107275179757,
          21.27890503785474,
          21.633702800529722,
          21.988500563204703,
          22.343298325879687,
          22.698096088554667,
          23.052893851229648,
          23.407691613904632,
          23.762489376579616,
          24.117287139254593,
          24.472084901929577,
          24.82688266460456,
          25.18168042727954,
          25.536478189954522,
          25.891275952629506,
          26.246073715304487,
          26.600871477979467,
          26.95566924065445,
          27.310467003329432,
          27.665264766004412,
          28.020062528679397,
          28.374860291354377,
          28.72965805402936,
          29.08445581670434,
          29.439253579379326,
          29.794051342054306,
          30.148849104729287,
          30.50364686740427,
          30.85844463007925,
          31.213242392754232,
          31.568040155429216,
          31.922837918104197,
          32.277635680779184,
          32.63243344345416,
          32.98723120612914,
          33.34202896880413,
          33.696826731479106,
          34.05162449415409,
          34.406422256829075,
          34.76122001950405,
          35.116017782179036,
          35.47081554485402,
          35.825613307529,
          36.18041107020398,
          36.535208832878965,
          36.89000659555394,
          37.244804358228926,
          37.59960212090391,
          37.95439988357889,
          38.30919764625387,
          38.663995408928855,
          39.01879317160383,
          39.373590934278816,
          39.7283886969538,
          40.08318645962878,
          40.43798422230377,
          40.792781984978745,
          41.14757974765372,
          41.502377510328714,
          41.85717527300369,
          42.211973035678675,
          42.56677079835366,
          42.921568561028636,
          43.27636632370362,
          43.631164086378604,
          43.98596184905358,
          44.340759611728565,
          44.69555737440355,
          45.050355137078526,
          45.40515289975351,
          45.759950662428494,
          46.11474842510347,
          46.469546187778455,
          46.82434395045344
         ],
         "y": [
          12.988785607935474,
          13.343583370610457,
          13.698381133285439,
          14.05317889596042,
          14.407976658635402,
          14.762774421310384,
          15.117572183985367,
          15.472369946660349,
          15.82716770933533,
          16.18196547201031,
          16.536763234685296,
          16.891560997360273,
          17.246358760035257,
          17.60115652271024,
          17.955954285385225,
          18.310752048060202,
          18.665549810735186,
          19.02034757341017,
          19.375145336085147,
          19.72994309876013,
          20.084740861435115,
          20.439538624110092,
          20.794336386785076,
          21.14913414946006,
          21.503931912135045,
          21.85872967481002,
          22.213527437485006,
          22.56832520015999,
          22.923122962834967,
          23.27792072550995,
          23.632718488184935,
          23.987516250859912,
          24.342314013534896,
          24.69711177620988,
          25.051909538884864,
          25.40670730155984,
          25.761505064234825,
          26.11630282690981,
          26.471100589584786,
          26.82589835225977,
          27.180696114934754,
          27.53549387760973,
          27.890291640284715,
          28.2450894029597,
          28.599887165634676,
          28.95468492830966,
          29.309482690984645,
          29.66428045365962,
          30.019078216334606,
          30.37387597900959,
          30.728673741684574,
          31.08347150435955,
          31.438269267034535,
          31.79306702970952,
          32.147864792384496,
          32.50266255505948,
          32.857460317734464,
          33.21225808040944,
          33.56705584308443,
          33.92185360575941,
          34.276651368434386,
          34.63144913110938,
          34.986246893784354,
          35.34104465645934,
          35.69584241913432,
          36.0506401818093,
          36.405437944484284,
          36.76023570715927,
          37.115033469834245,
          37.46983123250923,
          37.82462899518421,
          38.17942675785919,
          38.534224520534174,
          38.88902228320916,
          39.243820045884135,
          39.59861780855912,
          39.9534155712341,
          40.30821333390908,
          40.663011096584064,
          41.01780885925905,
          41.372606621934025,
          41.72740438460902,
          42.082202147283994,
          42.43699990995897,
          42.79179767263396,
          43.14659543530894,
          43.50139319798392,
          43.85619096065891,
          44.210988723333884,
          44.56578648600887,
          44.92058424868385,
          45.27538201135883,
          45.63017977403381,
          45.9849775367088,
          46.339775299383774,
          46.69457306205876,
          47.04937082473374,
          47.40416858740872,
          47.7589663500837,
          48.11376411275869
         ]
        },
        {
         "line": {
          "color": "red",
          "dash": "dash"
         },
         "mode": "lines",
         "name": "Median - mean MAD (1.29 mm)",
         "type": "scatter",
         "x": [
          11.699365445630228,
          12.05416320830521,
          12.408960970980193,
          12.763758733655173,
          13.118556496330156,
          13.473354259005138,
          13.82815202168012,
          14.182949784355102,
          14.537747547030083,
          14.892545309705065,
          15.247343072380048,
          15.602140835055028,
          15.956938597730012,
          16.311736360404993,
          16.666534123079977,
          17.021331885754957,
          17.376129648429938,
          17.730927411104922,
          18.085725173779903,
          18.440522936454883,
          18.795320699129867,
          19.150118461804848,
          19.504916224479828,
          19.859713987154812,
          20.214511749829796,
          20.569309512504777,
          20.924107275179757,
          21.27890503785474,
          21.633702800529722,
          21.988500563204703,
          22.343298325879687,
          22.698096088554667,
          23.052893851229648,
          23.407691613904632,
          23.762489376579616,
          24.117287139254593,
          24.472084901929577,
          24.82688266460456,
          25.18168042727954,
          25.536478189954522,
          25.891275952629506,
          26.246073715304487,
          26.600871477979467,
          26.95566924065445,
          27.310467003329432,
          27.665264766004412,
          28.020062528679397,
          28.374860291354377,
          28.72965805402936,
          29.08445581670434,
          29.439253579379326,
          29.794051342054306,
          30.148849104729287,
          30.50364686740427,
          30.85844463007925,
          31.213242392754232,
          31.568040155429216,
          31.922837918104197,
          32.277635680779184,
          32.63243344345416,
          32.98723120612914,
          33.34202896880413,
          33.696826731479106,
          34.05162449415409,
          34.406422256829075,
          34.76122001950405,
          35.116017782179036,
          35.47081554485402,
          35.825613307529,
          36.18041107020398,
          36.535208832878965,
          36.89000659555394,
          37.244804358228926,
          37.59960212090391,
          37.95439988357889,
          38.30919764625387,
          38.663995408928855,
          39.01879317160383,
          39.373590934278816,
          39.7283886969538,
          40.08318645962878,
          40.43798422230377,
          40.792781984978745,
          41.14757974765372,
          41.502377510328714,
          41.85717527300369,
          42.211973035678675,
          42.56677079835366,
          42.921568561028636,
          43.27636632370362,
          43.631164086378604,
          43.98596184905358,
          44.340759611728565,
          44.69555737440355,
          45.050355137078526,
          45.40515289975351,
          45.759950662428494,
          46.11474842510347,
          46.469546187778455,
          46.82434395045344
         ],
         "y": [
          10.409945283324982,
          10.764743045999964,
          11.119540808674946,
          11.474338571349927,
          11.82913633402491,
          12.183934096699891,
          12.538731859374874,
          12.893529622049856,
          13.248327384724837,
          13.603125147399819,
          13.957922910074801,
          14.312720672749782,
          14.667518435424766,
          15.022316198099746,
          15.37711396077473,
          15.731911723449711,
          16.08670948612469,
          16.441507248799674,
          16.796305011474658,
          17.151102774149635,
          17.50590053682462,
          17.860698299499603,
          18.21549606217458,
          18.570293824849564,
          18.92509158752455,
          19.279889350199532,
          19.63468711287451,
          19.989484875549493,
          20.344282638224477,
          20.699080400899454,
          21.05387816357444,
          21.408675926249423,
          21.7634736889244,
          22.118271451599384,
          22.473069214274368,
          22.827866976949345,
          23.18266473962433,
          23.537462502299313,
          23.892260264974297,
          24.247058027649274,
          24.601855790324258,
          24.956653552999242,
          25.31145131567422,
          25.666249078349203,
          26.021046841024187,
          26.375844603699164,
          26.73064236637415,
          27.085440129049132,
          27.440237891724117,
          27.795035654399094,
          28.149833417074078,
          28.50463117974906,
          28.85942894242404,
          29.214226705099023,
          29.569024467774007,
          29.923822230448984,
          30.278619993123968,
          30.633417755798952,
          30.988215518473936,
          31.343013281148913,
          31.69781104382389,
          32.05260880649888,
          32.40740656917386,
          32.76220433184884,
          33.117002094523826,
          33.4717998571988,
          33.82659761987379,
          34.18139538254877,
          34.53619314522375,
          34.89099090789873,
          35.24578867057372,
          35.600586433248694,
          35.95538419592368,
          36.31018195859866,
          36.66497972127364,
          37.01977748394862,
          37.37457524662361,
          37.729373009298584,
          38.08417077197357,
          38.43896853464855,
          38.79376629732353,
          39.14856405999852,
          39.5033618226735,
          39.858159585348474,
          40.212957348023465,
          40.56775511069844,
          40.92255287337343,
          41.27735063604841,
          41.63214839872339,
          41.98694616139837,
          42.341743924073356,
          42.69654168674833,
          43.05133944942332,
          43.4061372120983,
          43.76093497477328,
          44.11573273744826,
          44.470530500123246,
          44.82532826279822,
          45.18012602547321,
          45.53492378814819
         ]
        }
       ],
       "layout": {
        "height": 800,
        "showlegend": true,
        "template": {
         "data": {
          "bar": [
           {
            "error_x": {
             "color": "#2a3f5f"
            },
            "error_y": {
             "color": "#2a3f5f"
            },
            "marker": {
             "line": {
              "color": "#E5ECF6",
              "width": 0.5
             },
             "pattern": {
              "fillmode": "overlay",
              "size": 10,
              "solidity": 0.2
             }
            },
            "type": "bar"
           }
          ],
          "barpolar": [
           {
            "marker": {
             "line": {
              "color": "#E5ECF6",
              "width": 0.5
             },
             "pattern": {
              "fillmode": "overlay",
              "size": 10,
              "solidity": 0.2
             }
            },
            "type": "barpolar"
           }
          ],
          "carpet": [
           {
            "aaxis": {
             "endlinecolor": "#2a3f5f",
             "gridcolor": "white",
             "linecolor": "white",
             "minorgridcolor": "white",
             "startlinecolor": "#2a3f5f"
            },
            "baxis": {
             "endlinecolor": "#2a3f5f",
             "gridcolor": "white",
             "linecolor": "white",
             "minorgridcolor": "white",
             "startlinecolor": "#2a3f5f"
            },
            "type": "carpet"
           }
          ],
          "choropleth": [
           {
            "colorbar": {
             "outlinewidth": 0,
             "ticks": ""
            },
            "type": "choropleth"
           }
          ],
          "contour": [
           {
            "colorbar": {
             "outlinewidth": 0,
             "ticks": ""
            },
            "colorscale": [
             [
              0,
              "#0d0887"
             ],
             [
              0.1111111111111111,
              "#46039f"
             ],
             [
              0.2222222222222222,
              "#7201a8"
             ],
             [
              0.3333333333333333,
              "#9c179e"
             ],
             [
              0.4444444444444444,
              "#bd3786"
             ],
             [
              0.5555555555555556,
              "#d8576b"
             ],
             [
              0.6666666666666666,
              "#ed7953"
             ],
             [
              0.7777777777777778,
              "#fb9f3a"
             ],
             [
              0.8888888888888888,
              "#fdca26"
             ],
             [
              1,
              "#f0f921"
             ]
            ],
            "type": "contour"
           }
          ],
          "contourcarpet": [
           {
            "colorbar": {
             "outlinewidth": 0,
             "ticks": ""
            },
            "type": "contourcarpet"
           }
          ],
          "heatmap": [
           {
            "colorbar": {
             "outlinewidth": 0,
             "ticks": ""
            },
            "colorscale": [
             [
              0,
              "#0d0887"
             ],
             [
              0.1111111111111111,
              "#46039f"
             ],
             [
              0.2222222222222222,
              "#7201a8"
             ],
             [
              0.3333333333333333,
              "#9c179e"
             ],
             [
              0.4444444444444444,
              "#bd3786"
             ],
             [
              0.5555555555555556,
              "#d8576b"
             ],
             [
              0.6666666666666666,
              "#ed7953"
             ],
             [
              0.7777777777777778,
              "#fb9f3a"
             ],
             [
              0.8888888888888888,
              "#fdca26"
             ],
             [
              1,
              "#f0f921"
             ]
            ],
            "type": "heatmap"
           }
          ],
          "heatmapgl": [
           {
            "colorbar": {
             "outlinewidth": 0,
             "ticks": ""
            },
            "colorscale": [
             [
              0,
              "#0d0887"
             ],
             [
              0.1111111111111111,
              "#46039f"
             ],
             [
              0.2222222222222222,
              "#7201a8"
             ],
             [
              0.3333333333333333,
              "#9c179e"
             ],
             [
              0.4444444444444444,
              "#bd3786"
             ],
             [
              0.5555555555555556,
              "#d8576b"
             ],
             [
              0.6666666666666666,
              "#ed7953"
             ],
             [
              0.7777777777777778,
              "#fb9f3a"
             ],
             [
              0.8888888888888888,
              "#fdca26"
             ],
             [
              1,
              "#f0f921"
             ]
            ],
            "type": "heatmapgl"
           }
          ],
          "histogram": [
           {
            "marker": {
             "pattern": {
              "fillmode": "overlay",
              "size": 10,
              "solidity": 0.2
             }
            },
            "type": "histogram"
           }
          ],
          "histogram2d": [
           {
            "colorbar": {
             "outlinewidth": 0,
             "ticks": ""
            },
            "colorscale": [
             [
              0,
              "#0d0887"
             ],
             [
              0.1111111111111111,
              "#46039f"
             ],
             [
              0.2222222222222222,
              "#7201a8"
             ],
             [
              0.3333333333333333,
              "#9c179e"
             ],
             [
              0.4444444444444444,
              "#bd3786"
             ],
             [
              0.5555555555555556,
              "#d8576b"
             ],
             [
              0.6666666666666666,
              "#ed7953"
             ],
             [
              0.7777777777777778,
              "#fb9f3a"
             ],
             [
              0.8888888888888888,
              "#fdca26"
             ],
             [
              1,
              "#f0f921"
             ]
            ],
            "type": "histogram2d"
           }
          ],
          "histogram2dcontour": [
           {
            "colorbar": {
             "outlinewidth": 0,
             "ticks": ""
            },
            "colorscale": [
             [
              0,
              "#0d0887"
             ],
             [
              0.1111111111111111,
              "#46039f"
             ],
             [
              0.2222222222222222,
              "#7201a8"
             ],
             [
              0.3333333333333333,
              "#9c179e"
             ],
             [
              0.4444444444444444,
              "#bd3786"
             ],
             [
              0.5555555555555556,
              "#d8576b"
             ],
             [
              0.6666666666666666,
              "#ed7953"
             ],
             [
              0.7777777777777778,
              "#fb9f3a"
             ],
             [
              0.8888888888888888,
              "#fdca26"
             ],
             [
              1,
              "#f0f921"
             ]
            ],
            "type": "histogram2dcontour"
           }
          ],
          "mesh3d": [
           {
            "colorbar": {
             "outlinewidth": 0,
             "ticks": ""
            },
            "type": "mesh3d"
           }
          ],
          "parcoords": [
           {
            "line": {
             "colorbar": {
              "outlinewidth": 0,
              "ticks": ""
             }
            },
            "type": "parcoords"
           }
          ],
          "pie": [
           {
            "automargin": true,
            "type": "pie"
           }
          ],
          "scatter": [
           {
            "fillpattern": {
             "fillmode": "overlay",
             "size": 10,
             "solidity": 0.2
            },
            "type": "scatter"
           }
          ],
          "scatter3d": [
           {
            "line": {
             "colorbar": {
              "outlinewidth": 0,
              "ticks": ""
             }
            },
            "marker": {
             "colorbar": {
              "outlinewidth": 0,
              "ticks": ""
             }
            },
            "type": "scatter3d"
           }
          ],
          "scattercarpet": [
           {
            "marker": {
             "colorbar": {
              "outlinewidth": 0,
              "ticks": ""
             }
            },
            "type": "scattercarpet"
           }
          ],
          "scattergeo": [
           {
            "marker": {
             "colorbar": {
              "outlinewidth": 0,
              "ticks": ""
             }
            },
            "type": "scattergeo"
           }
          ],
          "scattergl": [
           {
            "marker": {
             "colorbar": {
              "outlinewidth": 0,
              "ticks": ""
             }
            },
            "type": "scattergl"
           }
          ],
          "scattermapbox": [
           {
            "marker": {
             "colorbar": {
              "outlinewidth": 0,
              "ticks": ""
             }
            },
            "type": "scattermapbox"
           }
          ],
          "scatterpolar": [
           {
            "marker": {
             "colorbar": {
              "outlinewidth": 0,
              "ticks": ""
             }
            },
            "type": "scatterpolar"
           }
          ],
          "scatterpolargl": [
           {
            "marker": {
             "colorbar": {
              "outlinewidth": 0,
              "ticks": ""
             }
            },
            "type": "scatterpolargl"
           }
          ],
          "scatterternary": [
           {
            "marker": {
             "colorbar": {
              "outlinewidth": 0,
              "ticks": ""
             }
            },
            "type": "scatterternary"
           }
          ],
          "surface": [
           {
            "colorbar": {
             "outlinewidth": 0,
             "ticks": ""
            },
            "colorscale": [
             [
              0,
              "#0d0887"
             ],
             [
              0.1111111111111111,
              "#46039f"
             ],
             [
              0.2222222222222222,
              "#7201a8"
             ],
             [
              0.3333333333333333,
              "#9c179e"
             ],
             [
              0.4444444444444444,
              "#bd3786"
             ],
             [
              0.5555555555555556,
              "#d8576b"
             ],
             [
              0.6666666666666666,
              "#ed7953"
             ],
             [
              0.7777777777777778,
              "#fb9f3a"
             ],
             [
              0.8888888888888888,
              "#fdca26"
             ],
             [
              1,
              "#f0f921"
             ]
            ],
            "type": "surface"
           }
          ],
          "table": [
           {
            "cells": {
             "fill": {
              "color": "#EBF0F8"
             },
             "line": {
              "color": "white"
             }
            },
            "header": {
             "fill": {
              "color": "#C8D4E3"
             },
             "line": {
              "color": "white"
             }
            },
            "type": "table"
           }
          ]
         },
         "layout": {
          "annotationdefaults": {
           "arrowcolor": "#2a3f5f",
           "arrowhead": 0,
           "arrowwidth": 1
          },
          "autotypenumbers": "strict",
          "coloraxis": {
           "colorbar": {
            "outlinewidth": 0,
            "ticks": ""
           }
          },
          "colorscale": {
           "diverging": [
            [
             0,
             "#8e0152"
            ],
            [
             0.1,
             "#c51b7d"
            ],
            [
             0.2,
             "#de77ae"
            ],
            [
             0.3,
             "#f1b6da"
            ],
            [
             0.4,
             "#fde0ef"
            ],
            [
             0.5,
             "#f7f7f7"
            ],
            [
             0.6,
             "#e6f5d0"
            ],
            [
             0.7,
             "#b8e186"
            ],
            [
             0.8,
             "#7fbc41"
            ],
            [
             0.9,
             "#4d9221"
            ],
            [
             1,
             "#276419"
            ]
           ],
           "sequential": [
            [
             0,
             "#0d0887"
            ],
            [
             0.1111111111111111,
             "#46039f"
            ],
            [
             0.2222222222222222,
             "#7201a8"
            ],
            [
             0.3333333333333333,
             "#9c179e"
            ],
            [
             0.4444444444444444,
             "#bd3786"
            ],
            [
             0.5555555555555556,
             "#d8576b"
            ],
            [
             0.6666666666666666,
             "#ed7953"
            ],
            [
             0.7777777777777778,
             "#fb9f3a"
            ],
            [
             0.8888888888888888,
             "#fdca26"
            ],
            [
             1,
             "#f0f921"
            ]
           ],
           "sequentialminus": [
            [
             0,
             "#0d0887"
            ],
            [
             0.1111111111111111,
             "#46039f"
            ],
            [
             0.2222222222222222,
             "#7201a8"
            ],
            [
             0.3333333333333333,
             "#9c179e"
            ],
            [
             0.4444444444444444,
             "#bd3786"
            ],
            [
             0.5555555555555556,
             "#d8576b"
            ],
            [
             0.6666666666666666,
             "#ed7953"
            ],
            [
             0.7777777777777778,
             "#fb9f3a"
            ],
            [
             0.8888888888888888,
             "#fdca26"
            ],
            [
             1,
             "#f0f921"
            ]
           ]
          },
          "colorway": [
           "#636efa",
           "#EF553B",
           "#00cc96",
           "#ab63fa",
           "#FFA15A",
           "#19d3f3",
           "#FF6692",
           "#B6E880",
           "#FF97FF",
           "#FECB52"
          ],
          "font": {
           "color": "#2a3f5f"
          },
          "geo": {
           "bgcolor": "white",
           "lakecolor": "white",
           "landcolor": "#E5ECF6",
           "showlakes": true,
           "showland": true,
           "subunitcolor": "white"
          },
          "hoverlabel": {
           "align": "left"
          },
          "hovermode": "closest",
          "mapbox": {
           "style": "light"
          },
          "paper_bgcolor": "white",
          "plot_bgcolor": "#E5ECF6",
          "polar": {
           "angularaxis": {
            "gridcolor": "white",
            "linecolor": "white",
            "ticks": ""
           },
           "bgcolor": "#E5ECF6",
           "radialaxis": {
            "gridcolor": "white",
            "linecolor": "white",
            "ticks": ""
           }
          },
          "scene": {
           "xaxis": {
            "backgroundcolor": "#E5ECF6",
            "gridcolor": "white",
            "gridwidth": 2,
            "linecolor": "white",
            "showbackground": true,
            "ticks": "",
            "zerolinecolor": "white"
           },
           "yaxis": {
            "backgroundcolor": "#E5ECF6",
            "gridcolor": "white",
            "gridwidth": 2,
            "linecolor": "white",
            "showbackground": true,
            "ticks": "",
            "zerolinecolor": "white"
           },
           "zaxis": {
            "backgroundcolor": "#E5ECF6",
            "gridcolor": "white",
            "gridwidth": 2,
            "linecolor": "white",
            "showbackground": true,
            "ticks": "",
            "zerolinecolor": "white"
           }
          },
          "shapedefaults": {
           "line": {
            "color": "#2a3f5f"
           }
          },
          "ternary": {
           "aaxis": {
            "gridcolor": "white",
            "linecolor": "white",
            "ticks": ""
           },
           "baxis": {
            "gridcolor": "white",
            "linecolor": "white",
            "ticks": ""
           },
           "bgcolor": "#E5ECF6",
           "caxis": {
            "gridcolor": "white",
            "linecolor": "white",
            "ticks": ""
           }
          },
          "title": {
           "x": 0.05
          },
          "xaxis": {
           "automargin": true,
           "gridcolor": "white",
           "linecolor": "white",
           "ticks": "",
           "title": {
            "standoff": 15
           },
           "zerolinecolor": "white",
           "zerolinewidth": 2
          },
          "yaxis": {
           "automargin": true,
           "gridcolor": "white",
           "linecolor": "white",
           "ticks": "",
           "title": {
            "standoff": 15
           },
           "zerolinecolor": "white",
           "zerolinewidth": 2
          }
         }
        },
        "title": {
         "text": "Model Measurements vs Median Values with MAD Boundaries"
        },
        "width": 800,
        "xaxis": {
         "title": {
          "text": "Median of manual measurements (mm)"
         }
        },
        "yaxis": {
         "scaleanchor": "x",
         "scaleratio": 1,
         "title": {
          "text": "Model Measurements  (mm)"
         }
        }
       }
      }
     },
     "metadata": {},
     "output_type": "display_data"
    }
   ],
   "source": [
    "import plotly.graph_objects as go\n",
    "import numpy as np\n",
    "\n",
    "# Get min and max for diagonal lines\n",
    "min_val = min(df['media_all'].min(), df['length_Length_fov(mm)'].min())\n",
    "max_val = max(df['media_all'].max(), df['length_Length_fov(mm)'].max())\n",
    "x = np.linspace(min_val, max_val, 100)\n",
    "\n",
    "# Calculate median MAD value\n",
    "median_mad = df['MAD_all'].mean()\n",
    "\n",
    "# Create scatter plot\n",
    "scatter = go.Scatter(\n",
    "    x=df['media_all'],\n",
    "    y=df['length_Length_fov(mm)'],\n",
    "    mode='markers',\n",
    "    name='Measurements',\n",
    "    text=df.apply(lambda row: f\"Image: {row['meas_image_name']}<br>Prawn ID: {row['length_PrawnID']}\", axis=1),\n",
    "    hoverinfo='text+x+y',\n",
    "    marker=dict(opacity=0.7)\n",
    ")\n",
    "\n",
    "# Create diagonal lines\n",
    "diag = go.Scatter(x=x, y=x, mode='lines', name='Perfect match (y=x)', \n",
    "                 line=dict(color='black', dash='dash'))\n",
    "upper = go.Scatter(x=x, y=x + median_mad, mode='lines', \n",
    "                  name=f'Median + mean MAD ({median_mad:.2f} mm)',\n",
    "                  line=dict(color='red', dash='dash'))\n",
    "lower = go.Scatter(x=x, y=x - median_mad, mode='lines',\n",
    "                  name=f'Median - mean MAD ({median_mad:.2f} mm)', \n",
    "                  line=dict(color='red', dash='dash'))\n",
    "\n",
    "# Calculate percentage within bounds\n",
    "within_bounds = ((df['length_Length_fov(mm)'] <= df['media_all'] + median_mad) & \n",
    "                 (df['length_Length_fov(mm)'] >= df['media_all'] - median_mad)).mean() * 100\n",
    "\n",
    "# Create layout\n",
    "layout = go.Layout(\n",
    "    title='Model Measurements vs Median Values with MAD Boundaries',\n",
    "    xaxis_title='Median of manual measurements (mm)',\n",
    "    yaxis_title='Model Measurements  (mm)',\n",
    "    showlegend=True,\n",
    "    \n",
    "    width=800,\n",
    "    height=800\n",
    ")\n",
    "\n",
    "# Create figure and add traces\n",
    "fig = go.Figure(data=[scatter, diag, upper, lower], layout=layout)\n",
    "\n",
    "# Update layout for equal aspect ratio\n",
    "fig.update_layout(\n",
    "    yaxis=dict(\n",
    "        scaleanchor=\"x\",\n",
    "        scaleratio=1\n",
    "    )\n",
    ")\n",
    "\n",
    "fig.show()\n"
   ]
  },
  {
   "cell_type": "code",
   "execution_count": 189,
   "metadata": {},
   "outputs": [
    {
     "data": {
      "application/vnd.plotly.v1+json": {
       "config": {
        "plotlyServerURL": "https://plot.ly"
       },
       "data": [
        {
         "hoverinfo": "text+x+y",
         "marker": {
          "opacity": 0.7
         },
         "mode": "markers",
         "name": "Measurements",
         "text": [
          "Image: undistorted_GX010067_33_625.jpg_gamma_obj3_cropped0.0593677_0.723095<br>Prawn ID: 1.jpg",
          "Image: undistorted_GX010067_33_625.jpg_gamma_obj2_cropped0.730074_0.668993<br>Prawn ID: 1.jpg",
          "Image: undistorted_GX010067_33_625.jpg_gamma_obj1_cropped0.272177_0.696292<br>Prawn ID: 1.jpg",
          "Image: undistorted_GX010068_26_666.jpg_gamma_obj2_cropped0.644743_0.8728269999999999<br>Prawn ID: 1.jpg",
          "Image: undistorted_GX010068_26_666.jpg_gamma_obj1_cropped0.540877_0.669256<br>Prawn ID: 1.jpg",
          "Image: undistorted_GX010068_27_795.jpg_gamma_obj1_cropped0.552035_0.17379999999999998<br>Prawn ID: 1.jpg",
          "Image: undistorted_GX010069_19_191.jpg_gamma_obj2_cropped0.680402_0.8831689999999999<br>Prawn ID: 1.jpg",
          "Image: undistorted_GX010071_22_444.jpg_gamma_obj1_cropped0.157858_0.757993<br>Prawn ID: 1.jpg",
          "Image: undistorted_GX010073_42_695.jpg_gamma_obj1_cropped0.233215_0.16234<br>Prawn ID: 1.jpg",
          "Image: undistorted_GX010073_55_1014.jpg_gamma_obj2_cropped0.577343_0.508345<br>Prawn ID: 1.jpg",
          "Image: undistorted_GX010073_55_1014.jpg_gamma_obj1_cropped0.589214_0.213622<br>Prawn ID: 1.jpg",
          "Image: undistorted_GX010077_14_237.jpg_gamma_obj2_cropped0.369629_0.12261<br>Prawn ID: 1.jpg",
          "Image: undistorted_GX010080_157_2283.jpg_gamma_obj1_cropped0.318029_0.7344440000000001<br>Prawn ID: 1.jpg",
          "Image: undistorted_GX010080_193_2640.jpg_gamma_obj3_cropped0.970145_0.215488<br>Prawn ID: 1.jpg",
          "Image: undistorted_GX010080_193_2640.jpg_gamma_obj2_cropped0.610808_0.498642<br>Prawn ID: 1.jpg",
          "Image: undistorted_GX010080_193_2640.jpg_gamma_obj1_cropped0.641363_0.187963<br>Prawn ID: 1.jpg",
          "Image: undistorted_GX010080_212_2954.jpg_gamma_obj1_cropped0.715335_0.24153<br>Prawn ID: 1.jpg",
          "Image: undistorted_GX010080_237_3366.jpg_gamma_obj3_cropped0.734297_0.565961<br>Prawn ID: 1.jpg",
          "Image: undistorted_GX010080_237_3366.jpg_gamma_obj2_cropped0.536768_0.147128<br>Prawn ID: 1.jpg",
          "Image: undistorted_GX010080_237_3366.jpg_gamma_obj1_cropped0.786939_0.100473<br>Prawn ID: 1.jpg",
          "Image: undistorted_GX010080_238_3392.jpg_gamma_obj3_cropped0.267366_0.374916<br>Prawn ID: 1.jpg",
          "Image: undistorted_GX010080_238_3392.jpg_gamma_obj2_cropped0.769997_0.339013<br>Prawn ID: 1.jpg",
          "Image: undistorted_GX010080_238_3392.jpg_gamma_obj1_cropped0.473451_0.308475<br>Prawn ID: 1.jpg",
          "Image: undistorted_GX010082_236_3137.jpg_gamma_obj2_cropped0.05702410000000001_0.264227<br>Prawn ID: 1.jpg",
          "Image: undistorted_GX010082_53_796.jpg_gamma_obj1_cropped0.723353_0.425668<br>Prawn ID: 1.jpg",
          "Image: undistorted_GX010082_65_1070.jpg_gamma_obj2_cropped0.700407_0.878715<br>Prawn ID: 1.jpg",
          "Image: undistorted_GX010082_8_59.jpg_gamma_obj2_cropped0.755945_0.47075700000000004<br>Prawn ID: 1.jpg",
          "Image: undistorted_GX010082_8_59.jpg_gamma_obj1_cropped0.467129_0.147647<br>Prawn ID: 1.jpg",
          "Image: undistorted_GX010084_130_1748.jpg_gamma_obj2_cropped0.357819_0.4446010000000001<br>Prawn ID: 1.jpg",
          "Image: undistorted_GX010084_30_344.jpg_gamma_obj4_cropped0.361298_0.7201640000000001<br>Prawn ID: 1.jpg",
          "Image: undistorted_GX010084_30_344.jpg_gamma_obj2_cropped0.207125_0.521242<br>Prawn ID: 1.jpg",
          "Image: undistorted_GX010084_30_344.jpg_gamma_obj1_cropped0.810401_0.21446000000000004<br>Prawn ID: 1.jpg",
          "Image: undistorted_GX010085_261_3610.jpg_gamma_obj2_cropped0.652377_0.435178<br>Prawn ID: 1.jpg",
          "Image: undistorted_GX010088_209_2904.jpg_gamma_obj1_cropped0.706544_0.162394<br>Prawn ID: 1.jpg",
          "Image: undistorted_GX010088_262_3712.jpg_gamma_obj2_cropped0.0832966_0.156131<br>Prawn ID: 1.jpg",
          "Image: undistorted_GX010088_327_4364.jpg_gamma_obj2_cropped0.0898486_0.872778<br>Prawn ID: 1.jpg",
          "Image: undistorted_GX010088_327_4364.jpg_gamma_obj1_cropped0.10054299999999998_0.59776<br>Prawn ID: 1.jpg",
          "Image: undistorted_GX010089_11_236.jpg_gamma_obj3_cropped0.651187_0.840038<br>Prawn ID: 1.jpg",
          "Image: undistorted_GX010089_11_236.jpg_gamma_obj2_cropped0.49302100000000004_0.456011<br>Prawn ID: 1.jpg",
          "Image: undistorted_GX010089_11_236.jpg_gamma_obj1_cropped0.856459_0.40323700000000007<br>Prawn ID: 1.jpg",
          "Image: undistorted_GX010091_5_149.jpg_gamma_obj4_cropped0.465435_0.828935<br>Prawn ID: 1.jpg",
          "Image: undistorted_GX010091_5_149.jpg_gamma_obj2_cropped0.107193_0.133569<br>Prawn ID: 1.jpg",
          "Image: undistorted_GX010091_5_149.jpg_gamma_obj1_cropped0.48227499999999995_0.498148<br>Prawn ID: 1.jpg",
          "Image: undistorted_GX010094_9_129.jpg_gamma_obj1_cropped0.409259_0.942629<br>Prawn ID: 1.jpg",
          "Image: undistorted_GX010097_105_1651.jpg_gamma_obj2_cropped0.696019_0.307528<br>Prawn ID: 1.jpg",
          "Image: undistorted_GX010097_32_528.jpg_gamma_obj2_cropped0.8317550000000001_0.863504<br>Prawn ID: 1.jpg",
          "Image: undistorted_GX010097_32_528.jpg_gamma_obj1_cropped0.661415_0.316431<br>Prawn ID: 1.jpg",
          "Image: undistorted_GX010097_60_1080.jpg_gamma_obj3_cropped0.284325_0.637667<br>Prawn ID: 1.jpg",
          "Image: undistorted_GX010097_60_1080.jpg_gamma_obj2_cropped0.496912_0.391393<br>Prawn ID: 1.jpg",
          "Image: undistorted_GX010097_60_1080.jpg_gamma_obj1_cropped0.359558_0.734083<br>Prawn ID: 1.jpg",
          "Image: undistorted_GX010102_9_165.jpg_gamma_obj2_cropped0.4502630000000001_0.499096<br>Prawn ID: 1.jpg",
          "Image: undistorted_GX010102_9_165.jpg_gamma_obj1_cropped0.448036_0.216305<br>Prawn ID: 1.jpg",
          "Image: undistorted_GX010105_28_816.jpg_gamma_obj1_cropped0.647012_0.216644<br>Prawn ID: 1.jpg",
          "Image: undistorted_GX010183_37_685.jpg_gamma_obj1_cropped0.8260990000000001_0.354157<br>Prawn ID: 1.jpg"
         ],
         "type": "scatter",
         "x": [
          97.72972497480892,
          103.49694335078276,
          155.87907236599574,
          134.06909622779418,
          124.44429181364603,
          143.98284766622803,
          121.83793194509212,
          131.7425659212557,
          91.29551626560594,
          109.49589283086851,
          114.12917957874981,
          80.63489217523653,
          120.60154342878377,
          124.782615853697,
          116.70335184834663,
          123.88737030657505,
          136.72731755701344,
          158.41542555464463,
          146.16304382499814,
          102.10675724826713,
          127.27059226604517,
          106.68081660915283,
          133.4107336236126,
          83.61056946447458,
          154.40939413405434,
          129.12797377407972,
          131.61768966664107,
          144.6109609077187,
          99.81359888241009,
          135.806,
          121.82066666666667,
          111.61866666666667,
          121.14827545854858,
          110.76475683241188,
          138.5810785945446,
          138.63364953960914,
          118.05335003949905,
          55.80689203783612,
          71.59023827982155,
          83.95663544942587,
          41.69228063006762,
          72.7183897221421,
          99.06906799025735,
          118.96391481423909,
          114.85730090162231,
          108.27541367543203,
          109.47009972201441,
          124.09813337841457,
          144.56805143835302,
          99.97763407423379,
          73.5268071647306,
          94.56062454129021,
          59.42684024401432,
          102.67377584809941
         ],
         "y": [
          92.62644213355016,
          102.7217873465614,
          151.3019191079152,
          134.320538518607,
          129.7931589838535,
          144.3400041440258,
          118.1661086516886,
          123.1204379059823,
          90.9921652733458,
          115.814424183012,
          120.9802044842614,
          88.2238618583865,
          127.3649364046984,
          124.1185335344902,
          127.7329403277941,
          124.5776632907126,
          140.9282298037327,
          156.7156125771451,
          152.5164527792293,
          112.14672367864,
          140.9654013915187,
          110.9150893382841,
          139.8766897076493,
          88.8025214239344,
          151.9499160522697,
          135.60917500537,
          150.7099886412093,
          143.7517333071236,
          113.016484322455,
          130.9845595028721,
          125.6134826389923,
          123.3303944030748,
          109.7333517678867,
          109.6207053095443,
          135.1131308271707,
          126.4906331509988,
          113.3658144298521,
          63.04854650170351,
          82.91980427021974,
          100.5893819996722,
          54.9006774791223,
          62.78100106082697,
          101.4838377130358,
          122.4403386329594,
          124.2624287939245,
          107.2651429402243,
          125.1652242436247,
          118.3217803971059,
          138.6834307659101,
          94.34685719693007,
          79.05166830268793,
          102.913263992874,
          73.64058837677726,
          91.6471011655283
         ]
        },
        {
         "line": {
          "color": "black",
          "dash": "dash"
         },
         "mode": "lines",
         "name": "Perfect match (y=x)",
         "type": "scatter",
         "x": [
          41.69228063006762,
          42.87130229597244,
          44.05032396187726,
          45.229345627782074,
          46.408367293686894,
          47.58738895959171,
          48.76641062549653,
          49.945432291401346,
          51.124453957306166,
          52.303475623210986,
          53.482497289115805,
          54.661518955020625,
          55.84054062092544,
          57.01956228683026,
          58.19858395273508,
          59.37760561863989,
          60.55662728454472,
          61.73564895044953,
          62.91467061635435,
          64.09369228225917,
          65.27271394816398,
          66.45173561406881,
          67.63075727997362,
          68.80977894587843,
          69.98880061178326,
          71.16782227768807,
          72.3468439435929,
          73.52586560949771,
          74.70488727540254,
          75.88390894130735,
          77.06293060721217,
          78.241952273117,
          79.4209739390218,
          80.59999560492662,
          81.77901727083145,
          82.95803893673626,
          84.13706060264107,
          85.3160822685459,
          86.49510393445073,
          87.67412560035552,
          88.85314726626035,
          90.03216893216518,
          91.21119059806999,
          92.3902122639748,
          93.56923392987963,
          94.74825559578444,
          95.92727726168926,
          97.10629892759408,
          98.28532059349891,
          99.46434225940371,
          100.64336392530853,
          101.82238559121336,
          103.00140725711817,
          104.18042892302299,
          105.35945058892781,
          106.53847225483261,
          107.71749392073744,
          108.89651558664227,
          110.0755372525471,
          111.25455891845189,
          112.43358058435672,
          113.61260225026155,
          114.79162391616634,
          115.97064558207117,
          117.149667247976,
          118.3286889138808,
          119.50771057978562,
          120.68673224569045,
          121.86575391159528,
          123.04477557750008,
          124.2237972434049,
          125.40281890930973,
          126.58184057521453,
          127.76086224111936,
          128.93988390702418,
          130.11890557292898,
          131.2979272388338,
          132.47694890473863,
          133.65597057064343,
          134.83499223654826,
          136.0140139024531,
          137.1930355683579,
          138.3720572342627,
          139.55107890016754,
          140.73010056607237,
          141.90912223197716,
          143.088143897882,
          144.26716556378682,
          145.44618722969162,
          146.62520889559644,
          147.80423056150127,
          148.9832522274061,
          150.1622738933109,
          151.34129555921572,
          152.52031722512055,
          153.69933889102535,
          154.87836055693018,
          156.057382222835,
          157.2364038887398,
          158.41542555464463
         ],
         "y": [
          41.69228063006762,
          42.87130229597244,
          44.05032396187726,
          45.229345627782074,
          46.408367293686894,
          47.58738895959171,
          48.76641062549653,
          49.945432291401346,
          51.124453957306166,
          52.303475623210986,
          53.482497289115805,
          54.661518955020625,
          55.84054062092544,
          57.01956228683026,
          58.19858395273508,
          59.37760561863989,
          60.55662728454472,
          61.73564895044953,
          62.91467061635435,
          64.09369228225917,
          65.27271394816398,
          66.45173561406881,
          67.63075727997362,
          68.80977894587843,
          69.98880061178326,
          71.16782227768807,
          72.3468439435929,
          73.52586560949771,
          74.70488727540254,
          75.88390894130735,
          77.06293060721217,
          78.241952273117,
          79.4209739390218,
          80.59999560492662,
          81.77901727083145,
          82.95803893673626,
          84.13706060264107,
          85.3160822685459,
          86.49510393445073,
          87.67412560035552,
          88.85314726626035,
          90.03216893216518,
          91.21119059806999,
          92.3902122639748,
          93.56923392987963,
          94.74825559578444,
          95.92727726168926,
          97.10629892759408,
          98.28532059349891,
          99.46434225940371,
          100.64336392530853,
          101.82238559121336,
          103.00140725711817,
          104.18042892302299,
          105.35945058892781,
          106.53847225483261,
          107.71749392073744,
          108.89651558664227,
          110.0755372525471,
          111.25455891845189,
          112.43358058435672,
          113.61260225026155,
          114.79162391616634,
          115.97064558207117,
          117.149667247976,
          118.3286889138808,
          119.50771057978562,
          120.68673224569045,
          121.86575391159528,
          123.04477557750008,
          124.2237972434049,
          125.40281890930973,
          126.58184057521453,
          127.76086224111936,
          128.93988390702418,
          130.11890557292898,
          131.2979272388338,
          132.47694890473863,
          133.65597057064343,
          134.83499223654826,
          136.0140139024531,
          137.1930355683579,
          138.3720572342627,
          139.55107890016754,
          140.73010056607237,
          141.90912223197716,
          143.088143897882,
          144.26716556378682,
          145.44618722969162,
          146.62520889559644,
          147.80423056150127,
          148.9832522274061,
          150.1622738933109,
          151.34129555921572,
          152.52031722512055,
          153.69933889102535,
          154.87836055693018,
          156.057382222835,
          157.2364038887398,
          158.41542555464463
         ]
        },
        {
         "line": {
          "color": "red",
          "dash": "dash"
         },
         "mode": "lines",
         "name": "Median + MAD (9.20 mm)",
         "type": "scatter",
         "x": [
          41.69228063006762,
          42.87130229597244,
          44.05032396187726,
          45.229345627782074,
          46.408367293686894,
          47.58738895959171,
          48.76641062549653,
          49.945432291401346,
          51.124453957306166,
          52.303475623210986,
          53.482497289115805,
          54.661518955020625,
          55.84054062092544,
          57.01956228683026,
          58.19858395273508,
          59.37760561863989,
          60.55662728454472,
          61.73564895044953,
          62.91467061635435,
          64.09369228225917,
          65.27271394816398,
          66.45173561406881,
          67.63075727997362,
          68.80977894587843,
          69.98880061178326,
          71.16782227768807,
          72.3468439435929,
          73.52586560949771,
          74.70488727540254,
          75.88390894130735,
          77.06293060721217,
          78.241952273117,
          79.4209739390218,
          80.59999560492662,
          81.77901727083145,
          82.95803893673626,
          84.13706060264107,
          85.3160822685459,
          86.49510393445073,
          87.67412560035552,
          88.85314726626035,
          90.03216893216518,
          91.21119059806999,
          92.3902122639748,
          93.56923392987963,
          94.74825559578444,
          95.92727726168926,
          97.10629892759408,
          98.28532059349891,
          99.46434225940371,
          100.64336392530853,
          101.82238559121336,
          103.00140725711817,
          104.18042892302299,
          105.35945058892781,
          106.53847225483261,
          107.71749392073744,
          108.89651558664227,
          110.0755372525471,
          111.25455891845189,
          112.43358058435672,
          113.61260225026155,
          114.79162391616634,
          115.97064558207117,
          117.149667247976,
          118.3286889138808,
          119.50771057978562,
          120.68673224569045,
          121.86575391159528,
          123.04477557750008,
          124.2237972434049,
          125.40281890930973,
          126.58184057521453,
          127.76086224111936,
          128.93988390702418,
          130.11890557292898,
          131.2979272388338,
          132.47694890473863,
          133.65597057064343,
          134.83499223654826,
          136.0140139024531,
          137.1930355683579,
          138.3720572342627,
          139.55107890016754,
          140.73010056607237,
          141.90912223197716,
          143.088143897882,
          144.26716556378682,
          145.44618722969162,
          146.62520889559644,
          147.80423056150127,
          148.9832522274061,
          150.1622738933109,
          151.34129555921572,
          152.52031722512055,
          153.69933889102535,
          154.87836055693018,
          156.057382222835,
          157.2364038887398,
          158.41542555464463
         ],
         "y": [
          50.894462346935434,
          52.073484012840254,
          53.252505678745074,
          54.431527344649886,
          55.610549010554706,
          56.789570676459526,
          57.968592342364346,
          59.14761400826916,
          60.32663567417398,
          61.5056573400788,
          62.68467900598362,
          63.86370067188844,
          65.04272233779325,
          66.22174400369806,
          67.40076566960289,
          68.5797873355077,
          69.75880900141253,
          70.93783066731734,
          72.11685233322216,
          73.29587399912698,
          74.4748956650318,
          75.65391733093662,
          76.83293899684143,
          78.01196066274625,
          79.19098232865107,
          80.37000399455589,
          81.54902566046071,
          82.72804732636553,
          83.90706899227035,
          85.08609065817517,
          86.26511232407998,
          87.4441339899848,
          88.62315565588962,
          89.80217732179443,
          90.98119898769926,
          92.16022065360407,
          93.33924231950888,
          94.51826398541371,
          95.69728565131854,
          96.87630731722334,
          98.05532898312816,
          99.23435064903299,
          100.4133723149378,
          101.59239398084262,
          102.77141564674744,
          103.95043731265226,
          105.12945897855707,
          106.3084806444619,
          107.48750231036672,
          108.66652397627152,
          109.84554564217635,
          111.02456730808117,
          112.20358897398599,
          113.3826106398908,
          114.56163230579563,
          115.74065397170043,
          116.91967563760525,
          118.09869730351008,
          119.2777189694149,
          120.4567406353197,
          121.63576230122453,
          122.81478396712936,
          123.99380563303416,
          125.17282729893898,
          126.35184896484381,
          127.53087063074861,
          128.70989229665344,
          129.88891396255826,
          131.0679356284631,
          132.2469572943679,
          133.42597896027272,
          134.60500062617754,
          135.78402229208234,
          136.96304395798717,
          138.142065623892,
          139.3210872897968,
          140.50010895570162,
          141.67913062160645,
          142.85815228751125,
          144.03717395341607,
          145.2161956193209,
          146.39521728522573,
          147.57423895113052,
          148.75326061703535,
          149.93228228294018,
          151.11130394884498,
          152.2903256147498,
          153.46934728065463,
          154.64836894655943,
          155.82739061246426,
          157.00641227836908,
          158.1854339442739,
          159.3644556101787,
          160.54347727608354,
          161.72249894198836,
          162.90152060789316,
          164.080542273798,
          165.25956393970282,
          166.4385856056076,
          167.61760727151244
         ]
        },
        {
         "line": {
          "color": "red",
          "dash": "dash"
         },
         "mode": "lines",
         "name": "Median - MAD (9.20 mm)",
         "type": "scatter",
         "x": [
          41.69228063006762,
          42.87130229597244,
          44.05032396187726,
          45.229345627782074,
          46.408367293686894,
          47.58738895959171,
          48.76641062549653,
          49.945432291401346,
          51.124453957306166,
          52.303475623210986,
          53.482497289115805,
          54.661518955020625,
          55.84054062092544,
          57.01956228683026,
          58.19858395273508,
          59.37760561863989,
          60.55662728454472,
          61.73564895044953,
          62.91467061635435,
          64.09369228225917,
          65.27271394816398,
          66.45173561406881,
          67.63075727997362,
          68.80977894587843,
          69.98880061178326,
          71.16782227768807,
          72.3468439435929,
          73.52586560949771,
          74.70488727540254,
          75.88390894130735,
          77.06293060721217,
          78.241952273117,
          79.4209739390218,
          80.59999560492662,
          81.77901727083145,
          82.95803893673626,
          84.13706060264107,
          85.3160822685459,
          86.49510393445073,
          87.67412560035552,
          88.85314726626035,
          90.03216893216518,
          91.21119059806999,
          92.3902122639748,
          93.56923392987963,
          94.74825559578444,
          95.92727726168926,
          97.10629892759408,
          98.28532059349891,
          99.46434225940371,
          100.64336392530853,
          101.82238559121336,
          103.00140725711817,
          104.18042892302299,
          105.35945058892781,
          106.53847225483261,
          107.71749392073744,
          108.89651558664227,
          110.0755372525471,
          111.25455891845189,
          112.43358058435672,
          113.61260225026155,
          114.79162391616634,
          115.97064558207117,
          117.149667247976,
          118.3286889138808,
          119.50771057978562,
          120.68673224569045,
          121.86575391159528,
          123.04477557750008,
          124.2237972434049,
          125.40281890930973,
          126.58184057521453,
          127.76086224111936,
          128.93988390702418,
          130.11890557292898,
          131.2979272388338,
          132.47694890473863,
          133.65597057064343,
          134.83499223654826,
          136.0140139024531,
          137.1930355683579,
          138.3720572342627,
          139.55107890016754,
          140.73010056607237,
          141.90912223197716,
          143.088143897882,
          144.26716556378682,
          145.44618722969162,
          146.62520889559644,
          147.80423056150127,
          148.9832522274061,
          150.1622738933109,
          151.34129555921572,
          152.52031722512055,
          153.69933889102535,
          154.87836055693018,
          156.057382222835,
          157.2364038887398,
          158.41542555464463
         ],
         "y": [
          32.49009891319981,
          33.66912057910463,
          34.84814224500945,
          36.02716391091426,
          37.20618557681908,
          38.3852072427239,
          39.56422890862872,
          40.74325057453353,
          41.92227224043835,
          43.10129390634317,
          44.28031557224799,
          45.45933723815281,
          46.638358904057625,
          47.817380569962445,
          48.996402235867265,
          50.17542390177208,
          51.354445567676905,
          52.53346723358172,
          53.71248889948654,
          54.89151056539136,
          56.07053223129617,
          57.249553897201,
          58.42857556310581,
          59.60759722901062,
          60.78661889491545,
          61.96564056082026,
          63.14466222672509,
          64.3236838926299,
          65.50270555853473,
          66.68172722443954,
          67.86074889034435,
          69.03977055624918,
          70.218792222154,
          71.3978138880588,
          72.57683555396363,
          73.75585721986845,
          74.93487888577326,
          76.11390055167809,
          77.29292221758291,
          78.47194388348771,
          79.65096554939254,
          80.82998721529736,
          82.00900888120218,
          83.18803054710699,
          84.36705221301182,
          85.54607387891663,
          86.72509554482144,
          87.90411721072627,
          89.0831388766311,
          90.2621605425359,
          91.44118220844072,
          92.62020387434555,
          93.79922554025036,
          94.97824720615517,
          96.15726887206,
          97.3362905379648,
          98.51531220386963,
          99.69433386977445,
          100.87335553567928,
          102.05237720158408,
          103.2313988674889,
          104.41042053339373,
          105.58944219929853,
          106.76846386520336,
          107.94748553110819,
          109.12650719701298,
          110.30552886291781,
          111.48455052882264,
          112.66357219472746,
          113.84259386063226,
          115.02161552653709,
          116.20063719244192,
          117.37965885834672,
          118.55868052425154,
          119.73770219015637,
          120.91672385606117,
          122.095745521966,
          123.27476718787082,
          124.45378885377562,
          125.63281051968045,
          126.81183218558527,
          127.9908538514901,
          129.1698755173949,
          130.34889718329973,
          131.52791884920455,
          132.70694051510935,
          133.88596218101418,
          135.064983846919,
          136.2440055128238,
          137.42302717872863,
          138.60204884463346,
          139.78107051053829,
          140.96009217644308,
          142.1391138423479,
          143.31813550825274,
          144.49715717415754,
          145.67617884006236,
          146.8552005059672,
          148.034222171872,
          149.21324383777682
         ]
        }
       ],
       "layout": {
        "annotations": [
         {
          "bgcolor": "white",
          "borderpad": 4,
          "showarrow": false,
          "text": "Points within MAD bounds: 70.4%",
          "x": 0.02,
          "xref": "paper",
          "y": 0.02,
          "yref": "paper"
         }
        ],
        "height": 800,
        "showlegend": true,
        "template": {
         "data": {
          "bar": [
           {
            "error_x": {
             "color": "#2a3f5f"
            },
            "error_y": {
             "color": "#2a3f5f"
            },
            "marker": {
             "line": {
              "color": "#E5ECF6",
              "width": 0.5
             },
             "pattern": {
              "fillmode": "overlay",
              "size": 10,
              "solidity": 0.2
             }
            },
            "type": "bar"
           }
          ],
          "barpolar": [
           {
            "marker": {
             "line": {
              "color": "#E5ECF6",
              "width": 0.5
             },
             "pattern": {
              "fillmode": "overlay",
              "size": 10,
              "solidity": 0.2
             }
            },
            "type": "barpolar"
           }
          ],
          "carpet": [
           {
            "aaxis": {
             "endlinecolor": "#2a3f5f",
             "gridcolor": "white",
             "linecolor": "white",
             "minorgridcolor": "white",
             "startlinecolor": "#2a3f5f"
            },
            "baxis": {
             "endlinecolor": "#2a3f5f",
             "gridcolor": "white",
             "linecolor": "white",
             "minorgridcolor": "white",
             "startlinecolor": "#2a3f5f"
            },
            "type": "carpet"
           }
          ],
          "choropleth": [
           {
            "colorbar": {
             "outlinewidth": 0,
             "ticks": ""
            },
            "type": "choropleth"
           }
          ],
          "contour": [
           {
            "colorbar": {
             "outlinewidth": 0,
             "ticks": ""
            },
            "colorscale": [
             [
              0,
              "#0d0887"
             ],
             [
              0.1111111111111111,
              "#46039f"
             ],
             [
              0.2222222222222222,
              "#7201a8"
             ],
             [
              0.3333333333333333,
              "#9c179e"
             ],
             [
              0.4444444444444444,
              "#bd3786"
             ],
             [
              0.5555555555555556,
              "#d8576b"
             ],
             [
              0.6666666666666666,
              "#ed7953"
             ],
             [
              0.7777777777777778,
              "#fb9f3a"
             ],
             [
              0.8888888888888888,
              "#fdca26"
             ],
             [
              1,
              "#f0f921"
             ]
            ],
            "type": "contour"
           }
          ],
          "contourcarpet": [
           {
            "colorbar": {
             "outlinewidth": 0,
             "ticks": ""
            },
            "type": "contourcarpet"
           }
          ],
          "heatmap": [
           {
            "colorbar": {
             "outlinewidth": 0,
             "ticks": ""
            },
            "colorscale": [
             [
              0,
              "#0d0887"
             ],
             [
              0.1111111111111111,
              "#46039f"
             ],
             [
              0.2222222222222222,
              "#7201a8"
             ],
             [
              0.3333333333333333,
              "#9c179e"
             ],
             [
              0.4444444444444444,
              "#bd3786"
             ],
             [
              0.5555555555555556,
              "#d8576b"
             ],
             [
              0.6666666666666666,
              "#ed7953"
             ],
             [
              0.7777777777777778,
              "#fb9f3a"
             ],
             [
              0.8888888888888888,
              "#fdca26"
             ],
             [
              1,
              "#f0f921"
             ]
            ],
            "type": "heatmap"
           }
          ],
          "heatmapgl": [
           {
            "colorbar": {
             "outlinewidth": 0,
             "ticks": ""
            },
            "colorscale": [
             [
              0,
              "#0d0887"
             ],
             [
              0.1111111111111111,
              "#46039f"
             ],
             [
              0.2222222222222222,
              "#7201a8"
             ],
             [
              0.3333333333333333,
              "#9c179e"
             ],
             [
              0.4444444444444444,
              "#bd3786"
             ],
             [
              0.5555555555555556,
              "#d8576b"
             ],
             [
              0.6666666666666666,
              "#ed7953"
             ],
             [
              0.7777777777777778,
              "#fb9f3a"
             ],
             [
              0.8888888888888888,
              "#fdca26"
             ],
             [
              1,
              "#f0f921"
             ]
            ],
            "type": "heatmapgl"
           }
          ],
          "histogram": [
           {
            "marker": {
             "pattern": {
              "fillmode": "overlay",
              "size": 10,
              "solidity": 0.2
             }
            },
            "type": "histogram"
           }
          ],
          "histogram2d": [
           {
            "colorbar": {
             "outlinewidth": 0,
             "ticks": ""
            },
            "colorscale": [
             [
              0,
              "#0d0887"
             ],
             [
              0.1111111111111111,
              "#46039f"
             ],
             [
              0.2222222222222222,
              "#7201a8"
             ],
             [
              0.3333333333333333,
              "#9c179e"
             ],
             [
              0.4444444444444444,
              "#bd3786"
             ],
             [
              0.5555555555555556,
              "#d8576b"
             ],
             [
              0.6666666666666666,
              "#ed7953"
             ],
             [
              0.7777777777777778,
              "#fb9f3a"
             ],
             [
              0.8888888888888888,
              "#fdca26"
             ],
             [
              1,
              "#f0f921"
             ]
            ],
            "type": "histogram2d"
           }
          ],
          "histogram2dcontour": [
           {
            "colorbar": {
             "outlinewidth": 0,
             "ticks": ""
            },
            "colorscale": [
             [
              0,
              "#0d0887"
             ],
             [
              0.1111111111111111,
              "#46039f"
             ],
             [
              0.2222222222222222,
              "#7201a8"
             ],
             [
              0.3333333333333333,
              "#9c179e"
             ],
             [
              0.4444444444444444,
              "#bd3786"
             ],
             [
              0.5555555555555556,
              "#d8576b"
             ],
             [
              0.6666666666666666,
              "#ed7953"
             ],
             [
              0.7777777777777778,
              "#fb9f3a"
             ],
             [
              0.8888888888888888,
              "#fdca26"
             ],
             [
              1,
              "#f0f921"
             ]
            ],
            "type": "histogram2dcontour"
           }
          ],
          "mesh3d": [
           {
            "colorbar": {
             "outlinewidth": 0,
             "ticks": ""
            },
            "type": "mesh3d"
           }
          ],
          "parcoords": [
           {
            "line": {
             "colorbar": {
              "outlinewidth": 0,
              "ticks": ""
             }
            },
            "type": "parcoords"
           }
          ],
          "pie": [
           {
            "automargin": true,
            "type": "pie"
           }
          ],
          "scatter": [
           {
            "fillpattern": {
             "fillmode": "overlay",
             "size": 10,
             "solidity": 0.2
            },
            "type": "scatter"
           }
          ],
          "scatter3d": [
           {
            "line": {
             "colorbar": {
              "outlinewidth": 0,
              "ticks": ""
             }
            },
            "marker": {
             "colorbar": {
              "outlinewidth": 0,
              "ticks": ""
             }
            },
            "type": "scatter3d"
           }
          ],
          "scattercarpet": [
           {
            "marker": {
             "colorbar": {
              "outlinewidth": 0,
              "ticks": ""
             }
            },
            "type": "scattercarpet"
           }
          ],
          "scattergeo": [
           {
            "marker": {
             "colorbar": {
              "outlinewidth": 0,
              "ticks": ""
             }
            },
            "type": "scattergeo"
           }
          ],
          "scattergl": [
           {
            "marker": {
             "colorbar": {
              "outlinewidth": 0,
              "ticks": ""
             }
            },
            "type": "scattergl"
           }
          ],
          "scattermapbox": [
           {
            "marker": {
             "colorbar": {
              "outlinewidth": 0,
              "ticks": ""
             }
            },
            "type": "scattermapbox"
           }
          ],
          "scatterpolar": [
           {
            "marker": {
             "colorbar": {
              "outlinewidth": 0,
              "ticks": ""
             }
            },
            "type": "scatterpolar"
           }
          ],
          "scatterpolargl": [
           {
            "marker": {
             "colorbar": {
              "outlinewidth": 0,
              "ticks": ""
             }
            },
            "type": "scatterpolargl"
           }
          ],
          "scatterternary": [
           {
            "marker": {
             "colorbar": {
              "outlinewidth": 0,
              "ticks": ""
             }
            },
            "type": "scatterternary"
           }
          ],
          "surface": [
           {
            "colorbar": {
             "outlinewidth": 0,
             "ticks": ""
            },
            "colorscale": [
             [
              0,
              "#0d0887"
             ],
             [
              0.1111111111111111,
              "#46039f"
             ],
             [
              0.2222222222222222,
              "#7201a8"
             ],
             [
              0.3333333333333333,
              "#9c179e"
             ],
             [
              0.4444444444444444,
              "#bd3786"
             ],
             [
              0.5555555555555556,
              "#d8576b"
             ],
             [
              0.6666666666666666,
              "#ed7953"
             ],
             [
              0.7777777777777778,
              "#fb9f3a"
             ],
             [
              0.8888888888888888,
              "#fdca26"
             ],
             [
              1,
              "#f0f921"
             ]
            ],
            "type": "surface"
           }
          ],
          "table": [
           {
            "cells": {
             "fill": {
              "color": "#EBF0F8"
             },
             "line": {
              "color": "white"
             }
            },
            "header": {
             "fill": {
              "color": "#C8D4E3"
             },
             "line": {
              "color": "white"
             }
            },
            "type": "table"
           }
          ]
         },
         "layout": {
          "annotationdefaults": {
           "arrowcolor": "#2a3f5f",
           "arrowhead": 0,
           "arrowwidth": 1
          },
          "autotypenumbers": "strict",
          "coloraxis": {
           "colorbar": {
            "outlinewidth": 0,
            "ticks": ""
           }
          },
          "colorscale": {
           "diverging": [
            [
             0,
             "#8e0152"
            ],
            [
             0.1,
             "#c51b7d"
            ],
            [
             0.2,
             "#de77ae"
            ],
            [
             0.3,
             "#f1b6da"
            ],
            [
             0.4,
             "#fde0ef"
            ],
            [
             0.5,
             "#f7f7f7"
            ],
            [
             0.6,
             "#e6f5d0"
            ],
            [
             0.7,
             "#b8e186"
            ],
            [
             0.8,
             "#7fbc41"
            ],
            [
             0.9,
             "#4d9221"
            ],
            [
             1,
             "#276419"
            ]
           ],
           "sequential": [
            [
             0,
             "#0d0887"
            ],
            [
             0.1111111111111111,
             "#46039f"
            ],
            [
             0.2222222222222222,
             "#7201a8"
            ],
            [
             0.3333333333333333,
             "#9c179e"
            ],
            [
             0.4444444444444444,
             "#bd3786"
            ],
            [
             0.5555555555555556,
             "#d8576b"
            ],
            [
             0.6666666666666666,
             "#ed7953"
            ],
            [
             0.7777777777777778,
             "#fb9f3a"
            ],
            [
             0.8888888888888888,
             "#fdca26"
            ],
            [
             1,
             "#f0f921"
            ]
           ],
           "sequentialminus": [
            [
             0,
             "#0d0887"
            ],
            [
             0.1111111111111111,
             "#46039f"
            ],
            [
             0.2222222222222222,
             "#7201a8"
            ],
            [
             0.3333333333333333,
             "#9c179e"
            ],
            [
             0.4444444444444444,
             "#bd3786"
            ],
            [
             0.5555555555555556,
             "#d8576b"
            ],
            [
             0.6666666666666666,
             "#ed7953"
            ],
            [
             0.7777777777777778,
             "#fb9f3a"
            ],
            [
             0.8888888888888888,
             "#fdca26"
            ],
            [
             1,
             "#f0f921"
            ]
           ]
          },
          "colorway": [
           "#636efa",
           "#EF553B",
           "#00cc96",
           "#ab63fa",
           "#FFA15A",
           "#19d3f3",
           "#FF6692",
           "#B6E880",
           "#FF97FF",
           "#FECB52"
          ],
          "font": {
           "color": "#2a3f5f"
          },
          "geo": {
           "bgcolor": "white",
           "lakecolor": "white",
           "landcolor": "#E5ECF6",
           "showlakes": true,
           "showland": true,
           "subunitcolor": "white"
          },
          "hoverlabel": {
           "align": "left"
          },
          "hovermode": "closest",
          "mapbox": {
           "style": "light"
          },
          "paper_bgcolor": "white",
          "plot_bgcolor": "#E5ECF6",
          "polar": {
           "angularaxis": {
            "gridcolor": "white",
            "linecolor": "white",
            "ticks": ""
           },
           "bgcolor": "#E5ECF6",
           "radialaxis": {
            "gridcolor": "white",
            "linecolor": "white",
            "ticks": ""
           }
          },
          "scene": {
           "xaxis": {
            "backgroundcolor": "#E5ECF6",
            "gridcolor": "white",
            "gridwidth": 2,
            "linecolor": "white",
            "showbackground": true,
            "ticks": "",
            "zerolinecolor": "white"
           },
           "yaxis": {
            "backgroundcolor": "#E5ECF6",
            "gridcolor": "white",
            "gridwidth": 2,
            "linecolor": "white",
            "showbackground": true,
            "ticks": "",
            "zerolinecolor": "white"
           },
           "zaxis": {
            "backgroundcolor": "#E5ECF6",
            "gridcolor": "white",
            "gridwidth": 2,
            "linecolor": "white",
            "showbackground": true,
            "ticks": "",
            "zerolinecolor": "white"
           }
          },
          "shapedefaults": {
           "line": {
            "color": "#2a3f5f"
           }
          },
          "ternary": {
           "aaxis": {
            "gridcolor": "white",
            "linecolor": "white",
            "ticks": ""
           },
           "baxis": {
            "gridcolor": "white",
            "linecolor": "white",
            "ticks": ""
           },
           "bgcolor": "#E5ECF6",
           "caxis": {
            "gridcolor": "white",
            "linecolor": "white",
            "ticks": ""
           }
          },
          "title": {
           "x": 0.05
          },
          "xaxis": {
           "automargin": true,
           "gridcolor": "white",
           "linecolor": "white",
           "ticks": "",
           "title": {
            "standoff": 15
           },
           "zerolinecolor": "white",
           "zerolinewidth": 2
          },
          "yaxis": {
           "automargin": true,
           "gridcolor": "white",
           "linecolor": "white",
           "ticks": "",
           "title": {
            "standoff": 15
           },
           "zerolinecolor": "white",
           "zerolinewidth": 2
          }
         }
        },
        "title": {
         "text": "Model Measurements vs Median Values with MAD Boundaries"
        },
        "width": 800,
        "xaxis": {
         "title": {
          "text": "Median of manual measurements (mm)"
         }
        },
        "yaxis": {
         "scaleanchor": "x",
         "scaleratio": 1,
         "title": {
          "text": "Model Measurements  (mm)"
         }
        }
       }
      }
     },
     "metadata": {},
     "output_type": "display_data"
    }
   ],
   "source": [
    "\n",
    "import plotly.graph_objects as go\n",
    "import numpy as np\n",
    "\n",
    "# Get min and max for diagonal lines\n",
    "min_val = min(df['mean_all'].min(), df['length_Length_fov(mm)'].min())\n",
    "max_val = max(df['mean_all'].max(), df['length_Length_fov(mm)'].max())\n",
    "x = np.linspace(min_val, max_val, 100)\n",
    "\n",
    "#std\n",
    "median_mad = df['std_all'].mean()\n",
    "\n",
    "# Create scatter plot\n",
    "scatter = go.Scatter(\n",
    "    x=df['mean_all'],\n",
    "    y=df['length_Length_fov(mm)'],\n",
    "    mode='markers',\n",
    "    name='Measurements',\n",
    "    text=df.apply(lambda row: f\"Image: {row['meas_image_name']}<br>Prawn ID: {row['meas_prawn_id']}\", axis=1),\n",
    "    hoverinfo='text+x+y',\n",
    "    marker=dict(opacity=0.7)\n",
    ")\n",
    "\n",
    "# Create diagonal lines\n",
    "diag = go.Scatter(x=x, y=x, mode='lines', name='Perfect match (y=x)', \n",
    "                 line=dict(color='black', dash='dash'))\n",
    "upper = go.Scatter(x=x, y=x + median_mad, mode='lines', \n",
    "                  name=f'Median + MAD ({median_mad:.2f} mm)',\n",
    "                  line=dict(color='red', dash='dash'))\n",
    "lower = go.Scatter(x=x, y=x - median_mad, mode='lines',\n",
    "                  name=f'Median - MAD ({median_mad:.2f} mm)', \n",
    "                  line=dict(color='red', dash='dash'))\n",
    "\n",
    "# Calculate percentage within bounds\n",
    "within_bounds = ((df['length_Length_fov(mm)'] <= df['mean_all'] + median_mad) & \n",
    "                 (df['length_Length_fov(mm)'] >= df['mean_all'] - median_mad)).mean() * 100\n",
    "\n",
    "# Create layout\n",
    "layout = go.Layout(\n",
    "    title='Model Measurements vs Median Values with MAD Boundaries',\n",
    "    xaxis_title='Median of manual measurements (mm)',\n",
    "    yaxis_title='Model Measurements  (mm)',\n",
    "    showlegend=True,\n",
    "    annotations=[\n",
    "        dict(\n",
    "            x=0.02,\n",
    "            y=0.02,\n",
    "            xref=\"paper\",\n",
    "            yref=\"paper\",\n",
    "            text=f\"Points within MAD bounds: {within_bounds:.1f}%\",\n",
    "            showarrow=False,\n",
    "            bgcolor=\"white\",\n",
    "            borderpad=4\n",
    "        )\n",
    "    ],\n",
    "    width=800,\n",
    "    height=800\n",
    ")\n",
    "\n",
    "# Create figure and add traces\n",
    "fig = go.Figure(data=[scatter, diag, upper, lower], layout=layout)\n",
    "\n",
    "# Update layout for equal aspect ratio\n",
    "fig.update_layout(\n",
    "    yaxis=dict(\n",
    "        scaleanchor=\"x\",\n",
    "        scaleratio=1\n",
    "    )\n",
    ")\n",
    "\n",
    "fig.show()\n"
   ]
  },
  {
   "cell_type": "code",
   "execution_count": null,
   "metadata": {},
   "outputs": [],
   "source": []
  },
  {
   "cell_type": "code",
   "execution_count": 198,
   "metadata": {},
   "outputs": [
    {
     "name": "stdout",
     "output_type": "stream",
     "text": [
      "Std: 9.20218171686781\n",
      "Points within MAD bounds: 33 out of 54 (61.1%)\n",
      "Points outside MAD bounds: 21 out of 54 (38.9%)\n",
      "\n",
      "Distance Beyond MAD Bounds:\n",
      "Mean distance beyond MAD: 4.83 mm\n",
      "Median distance beyond MAD: 4.50 mm\n",
      "Standard deviation of distance beyond MAD: 3.16 mm\n",
      "Standard deviation of percentage beyond MAD: 4.72%\n",
      "Mean percentage beyond MAD: 3.73%\n"
     ]
    }
   ],
   "source": [
    "# Identify points within and outside MAD bounds\n",
    "\n",
    "#print std mean\n",
    "print(f\"Std: {df['std_all'].mean()}\")\n",
    "\n",
    "within_mad_bounds = ((df['length_Length_fov(mm)'] <= df['mean_all'] + df['std_all'] ) & \n",
    "                     (df['length_Length_fov(mm)'] >= df['mean_all'] - df['std_all']))\n",
    "\n",
    "outside_mad_bounds = ~within_mad_bounds\n",
    "\n",
    "# Get dataframes for points inside and outside MAD bounds\n",
    "df_within = df[within_mad_bounds]\n",
    "df_outside = df[outside_mad_bounds]\n",
    "\n",
    "# 1. Basic counts and percentages\n",
    "total_count = len(df)\n",
    "within_count = len(df_within)\n",
    "outside_count = len(df_outside)\n",
    "\n",
    "print(f\"Points within MAD bounds: {within_count} out of {total_count} ({within_count/total_count*100:.1f}%)\")\n",
    "print(f\"Points outside MAD bounds: {outside_count} out of {total_count} ({outside_count/total_count*100:.1f}%)\")\n",
    "\n",
    "# 2. For points OUTSIDE MAD bounds, calculate error statistics\n",
    "if outside_count > 0:\n",
    "    # Calculate absolute errors for points outside MAD bounds\n",
    "    # outside_abs_errors =abs(df_outside['length_Length_fov(mm)'] - df_outside['media_all'])\n",
    "    \n",
    "    # # Calculate error statistics for points outside MAD bounds\n",
    "    # outside_mean_error = outside_abs_errors.mean()\n",
    "    # outside_median_error = outside_abs_errors.median()\n",
    "    # outside_max_error = outside_abs_errors.max()\n",
    "    \n",
    "    # # Calculate percentage errors relative to median value\n",
    "    # outside_percent_errors = (outside_abs_errors / df_outside['media_all']) * 100\n",
    "    # outside_mean_percent_error = outside_percent_errors.mean()\n",
    "    # outside_median_percent_error = outside_percent_errors.median()\n",
    "    \n",
    "    # print(\"\\nError Statistics for Points OUTSIDE MAD Bounds:\")\n",
    "    # print(f\"Mean Absolute Error: {outside_mean_error:.2f} mm\")\n",
    "    # print(f\"Median Absolute Error: {outside_median_error:.2f} mm\")\n",
    "    # print(f\"Maximum Absolute Error: {outside_max_error:.2f} mm\")\n",
    "    \n",
    "    # print(\"\\nPercentage Error Statistics for Points OUTSIDE MAD Bounds:\")\n",
    "    # print(f\"Mean Percentage Error: {outside_mean_percent_error:.2f}%\")\n",
    "    # print(f\"Median Percentage Error: {outside_median_percent_error:.2f}%\")\n",
    "    \n",
    "    # 3. Calculate by how much these points exceed their MAD bounds\n",
    "    # How far beyond the MAD boundary each point is\n",
    "\n",
    "\n",
    "\n",
    "\n",
    "\n",
    "\n",
    "\n",
    "\n",
    "\n",
    "    distance_beyond_mad = df_outside.apply(lambda row: \n",
    "        abs(row['length_Length_fov(mm)'] - (row['mean_all'] + row['std_all'])) \n",
    "        if row['length_Length_fov(mm)'] > row['mean_all'] + row['std_all']\n",
    "        else abs(row['length_Length_fov(mm)'] - (row['mean_all'] - row['std_all'])), axis=1)\n",
    "    mean_distance_beyond = distance_beyond_mad.mean()\n",
    "    median_distance_beyond = distance_beyond_mad.median()\n",
    "    std_distance_beyond = distance_beyond_mad.std()\n",
    "    \n",
    "    print(\"\\nDistance Beyond MAD Bounds:\")\n",
    "    print(f\"Mean distance beyond MAD: {mean_distance_beyond:.2f} mm\")\n",
    "    print(f\"Median distance beyond MAD: {median_distance_beyond:.2f} mm\")\n",
    "    print(f\"Standard deviation of distance beyond MAD: {std_distance_beyond:.2f} mm\")\n",
    "    # As percentage of MAD\n",
    "    percent_beyond_mad = (distance_beyond_mad /abs(df_outside['mean_all'] + df_outside['std_all']))*100\n",
    "    mean_percent_beyond = percent_beyond_mad.median()\n",
    "    \n",
    "    std_percent_beyond = percent_beyond_mad.std()\n",
    "\n",
    "    print(f\"Standard deviation of percentage beyond MAD: {std_percent_beyond:.2f}%\")\n",
    "\n",
    "\n",
    "    print(f\"Mean percentage beyond MAD: {mean_percent_beyond:.2f}%\")\n",
    "else:\n",
    "    print(\"\\nNo points outside MAD bounds\")\n"
   ]
  },
  {
   "cell_type": "code",
   "execution_count": 144,
   "metadata": {},
   "outputs": [
    {
     "data": {
      "text/html": [
       "<div>\n",
       "<style scoped>\n",
       "    .dataframe tbody tr th:only-of-type {\n",
       "        vertical-align: middle;\n",
       "    }\n",
       "\n",
       "    .dataframe tbody tr th {\n",
       "        vertical-align: top;\n",
       "    }\n",
       "\n",
       "    .dataframe thead th {\n",
       "        text-align: right;\n",
       "    }\n",
       "</style>\n",
       "<table border=\"1\" class=\"dataframe\">\n",
       "  <thead>\n",
       "    <tr style=\"text-align: right;\">\n",
       "      <th></th>\n",
       "      <th>Metric</th>\n",
       "      <th>Value</th>\n",
       "    </tr>\n",
       "  </thead>\n",
       "  <tbody>\n",
       "    <tr>\n",
       "      <th>0</th>\n",
       "      <td>Points within MAD bounds</td>\n",
       "      <td>14 (13.9%)</td>\n",
       "    </tr>\n",
       "    <tr>\n",
       "      <th>1</th>\n",
       "      <td>Points outside MAD bounds</td>\n",
       "      <td>87 (86.1%)</td>\n",
       "    </tr>\n",
       "    <tr>\n",
       "      <th>2</th>\n",
       "      <td>Mean Absolute Error (mm)</td>\n",
       "      <td>4.62</td>\n",
       "    </tr>\n",
       "    <tr>\n",
       "      <th>3</th>\n",
       "      <td>Median Absolute Error (mm)</td>\n",
       "      <td>4.41</td>\n",
       "    </tr>\n",
       "    <tr>\n",
       "      <th>4</th>\n",
       "      <td>Maximum Absolute Error (mm)</td>\n",
       "      <td>9.60</td>\n",
       "    </tr>\n",
       "    <tr>\n",
       "      <th>5</th>\n",
       "      <td>Mean Percentage Error (%)</td>\n",
       "      <td>13.35</td>\n",
       "    </tr>\n",
       "    <tr>\n",
       "      <th>6</th>\n",
       "      <td>Median Percentage Error (%)</td>\n",
       "      <td>13.30</td>\n",
       "    </tr>\n",
       "    <tr>\n",
       "      <th>7</th>\n",
       "      <td>Mean Distance Beyond MAD (mm)</td>\n",
       "      <td>1.89</td>\n",
       "    </tr>\n",
       "    <tr>\n",
       "      <th>8</th>\n",
       "      <td>Median Distance Beyond MAD (mm)</td>\n",
       "      <td>1.74</td>\n",
       "    </tr>\n",
       "    <tr>\n",
       "      <th>9</th>\n",
       "      <td>Mean Percentage Beyond MAD (%)</td>\n",
       "      <td>5.44</td>\n",
       "    </tr>\n",
       "  </tbody>\n",
       "</table>\n",
       "</div>"
      ],
      "text/plain": [
       "                            Metric       Value\n",
       "0         Points within MAD bounds  14 (13.9%)\n",
       "1        Points outside MAD bounds  87 (86.1%)\n",
       "2         Mean Absolute Error (mm)        4.62\n",
       "3       Median Absolute Error (mm)        4.41\n",
       "4      Maximum Absolute Error (mm)        9.60\n",
       "5        Mean Percentage Error (%)       13.35\n",
       "6      Median Percentage Error (%)       13.30\n",
       "7    Mean Distance Beyond MAD (mm)        1.89\n",
       "8  Median Distance Beyond MAD (mm)        1.74\n",
       "9   Mean Percentage Beyond MAD (%)        5.44"
      ]
     },
     "metadata": {},
     "output_type": "display_data"
    }
   ],
   "source": [
    "# Create a summary table of the outlier statistics\n",
    "if outside_count > 0:\n",
    "    stats_data = {\n",
    "        'Metric': [\n",
    "            'Points within MAD bounds',\n",
    "            'Points outside MAD bounds',\n",
    "            'Mean Absolute Error (mm)',\n",
    "            'Median Absolute Error (mm)', \n",
    "            'Maximum Absolute Error (mm)',\n",
    "            'Mean Percentage Error (%)',\n",
    "            'Median Percentage Error (%)',\n",
    "            'Mean Distance Beyond MAD (mm)',\n",
    "            'Median Distance Beyond MAD (mm)',\n",
    "            'Mean Percentage Beyond MAD (%)'\n",
    "        ],\n",
    "        'Value': [\n",
    "            f\"{within_count} ({within_count/total_count*100:.1f}%)\",\n",
    "            f\"{outside_count} ({outside_count/total_count*100:.1f}%)\",\n",
    "            f\"{outside_mean_error:.2f}\",\n",
    "            f\"{outside_median_error:.2f}\",\n",
    "            f\"{outside_max_error:.2f}\", \n",
    "            f\"{outside_mean_percent_error:.2f}\",\n",
    "            f\"{outside_median_percent_error:.2f}\",\n",
    "            f\"{mean_distance_beyond:.2f}\",\n",
    "            f\"{median_distance_beyond:.2f}\",\n",
    "            f\"{mean_percent_beyond:.2f}\"\n",
    "        ]\n",
    "    }\n",
    "else:\n",
    "    stats_data = {\n",
    "        'Metric': ['Points within MAD bounds', 'Points outside MAD bounds'],\n",
    "        'Value': [\n",
    "            f\"{within_count} ({within_count/total_count*100:.1f}%)\",\n",
    "            f\"{outside_count} ({outside_count/total_count*100:.1f}%)\"\n",
    "        ]\n",
    "    }\n",
    "\n",
    "# Create and display DataFrame\n",
    "outlier_stats_df = pd.DataFrame(stats_data)\n",
    "display(outlier_stats_df)\n"
   ]
  }
 ],
 "metadata": {
  "kernelspec": {
   "display_name": ".venv",
   "language": "python",
   "name": "python3"
  },
  "language_info": {
   "codemirror_mode": {
    "name": "ipython",
    "version": 3
   },
   "file_extension": ".py",
   "mimetype": "text/x-python",
   "name": "python",
   "nbconvert_exporter": "python",
   "pygments_lexer": "ipython3",
   "version": "3.9.6"
  }
 },
 "nbformat": 4,
 "nbformat_minor": 2
}
