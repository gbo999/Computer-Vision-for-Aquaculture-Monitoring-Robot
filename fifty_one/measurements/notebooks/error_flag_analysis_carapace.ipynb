{
 "cells": [
  {
   "cell_type": "markdown",
   "metadata": {},
   "source": [
    "## imports ##"
   ]
  },
  {
   "cell_type": "code",
   "execution_count": 3,
   "metadata": {},
   "outputs": [
    {
     "data": {
      "text/html": [
       "<div>\n",
       "<style scoped>\n",
       "    .dataframe tbody tr th:only-of-type {\n",
       "        vertical-align: middle;\n",
       "    }\n",
       "\n",
       "    .dataframe tbody tr th {\n",
       "        vertical-align: top;\n",
       "    }\n",
       "\n",
       "    .dataframe thead th {\n",
       "        text-align: right;\n",
       "    }\n",
       "</style>\n",
       "<table border=\"1\" class=\"dataframe\">\n",
       "  <thead>\n",
       "    <tr style=\"text-align: right;\">\n",
       "      <th></th>\n",
       "      <th>Label</th>\n",
       "      <th>PrawnID</th>\n",
       "      <th>Pond_Type</th>\n",
       "      <th>mean_length</th>\n",
       "      <th>std_length</th>\n",
       "      <th>Length_fov(mm)</th>\n",
       "      <th>mean_pixels</th>\n",
       "      <th>pred_Distance_pixels</th>\n",
       "      <th>Length_ground_truth_annotation_pixels</th>\n",
       "      <th>mean_scale</th>\n",
       "      <th>pred_scale</th>\n",
       "    </tr>\n",
       "  </thead>\n",
       "  <tbody>\n",
       "    <tr>\n",
       "      <th>0</th>\n",
       "      <td>carapace:undistorted_GX010067_33_625.jpg_gamma</td>\n",
       "      <td>Prawn_0</td>\n",
       "      <td>circle_female</td>\n",
       "      <td>41.918000</td>\n",
       "      <td>3.100499</td>\n",
       "      <td>37.753556</td>\n",
       "      <td>239.626009</td>\n",
       "      <td>200.202888</td>\n",
       "      <td>187.683244</td>\n",
       "      <td>57.135000</td>\n",
       "      <td>53.028883</td>\n",
       "    </tr>\n",
       "    <tr>\n",
       "      <th>1</th>\n",
       "      <td>carapace:undistorted_GX010067_33_625.jpg_gamma</td>\n",
       "      <td>Prawn_1</td>\n",
       "      <td>circle_female</td>\n",
       "      <td>26.698000</td>\n",
       "      <td>2.256880</td>\n",
       "      <td>26.810201</td>\n",
       "      <td>152.522831</td>\n",
       "      <td>142.683627</td>\n",
       "      <td>128.062485</td>\n",
       "      <td>57.135000</td>\n",
       "      <td>53.219901</td>\n",
       "    </tr>\n",
       "    <tr>\n",
       "      <th>2</th>\n",
       "      <td>carapace:undistorted_GX010067_33_625.jpg_gamma</td>\n",
       "      <td>Prawn_2</td>\n",
       "      <td>circle_female</td>\n",
       "      <td>46.299667</td>\n",
       "      <td>5.608803</td>\n",
       "      <td>39.032134</td>\n",
       "      <td>264.494446</td>\n",
       "      <td>204.018342</td>\n",
       "      <td>233.452351</td>\n",
       "      <td>57.135000</td>\n",
       "      <td>52.269328</td>\n",
       "    </tr>\n",
       "    <tr>\n",
       "      <th>3</th>\n",
       "      <td>carapace:undistorted_GX010067_33_625.jpg_gamma</td>\n",
       "      <td>Prawn_3</td>\n",
       "      <td>circle_female</td>\n",
       "      <td>24.278667</td>\n",
       "      <td>0.676281</td>\n",
       "      <td>22.197955</td>\n",
       "      <td>138.686912</td>\n",
       "      <td>115.751815</td>\n",
       "      <td>145.086181</td>\n",
       "      <td>57.135000</td>\n",
       "      <td>52.145260</td>\n",
       "    </tr>\n",
       "    <tr>\n",
       "      <th>4</th>\n",
       "      <td>carapace:undistorted_GX010068_26_666.jpg_gamma</td>\n",
       "      <td>Prawn_0</td>\n",
       "      <td>circle_female</td>\n",
       "      <td>33.843333</td>\n",
       "      <td>3.193569</td>\n",
       "      <td>28.185298</td>\n",
       "      <td>183.912863</td>\n",
       "      <td>150.119403</td>\n",
       "      <td>162.634560</td>\n",
       "      <td>54.126333</td>\n",
       "      <td>53.261599</td>\n",
       "    </tr>\n",
       "  </tbody>\n",
       "</table>\n",
       "</div>"
      ],
      "text/plain": [
       "                                            Label  PrawnID      Pond_Type  \\\n",
       "0  carapace:undistorted_GX010067_33_625.jpg_gamma  Prawn_0  circle_female   \n",
       "1  carapace:undistorted_GX010067_33_625.jpg_gamma  Prawn_1  circle_female   \n",
       "2  carapace:undistorted_GX010067_33_625.jpg_gamma  Prawn_2  circle_female   \n",
       "3  carapace:undistorted_GX010067_33_625.jpg_gamma  Prawn_3  circle_female   \n",
       "4  carapace:undistorted_GX010068_26_666.jpg_gamma  Prawn_0  circle_female   \n",
       "\n",
       "   mean_length  std_length  Length_fov(mm)  mean_pixels  pred_Distance_pixels  \\\n",
       "0    41.918000    3.100499       37.753556   239.626009            200.202888   \n",
       "1    26.698000    2.256880       26.810201   152.522831            142.683627   \n",
       "2    46.299667    5.608803       39.032134   264.494446            204.018342   \n",
       "3    24.278667    0.676281       22.197955   138.686912            115.751815   \n",
       "4    33.843333    3.193569       28.185298   183.912863            150.119403   \n",
       "\n",
       "   Length_ground_truth_annotation_pixels  mean_scale  pred_scale  \n",
       "0                             187.683244   57.135000   53.028883  \n",
       "1                             128.062485   57.135000   53.219901  \n",
       "2                             233.452351   57.135000   52.269328  \n",
       "3                             145.086181   57.135000   52.145260  \n",
       "4                             162.634560   54.126333   53.261599  "
      ]
     },
     "execution_count": 3,
     "metadata": {},
     "output_type": "execute_result"
    }
   ],
   "source": [
    "import pandas as pd\n",
    "import numpy as np\n",
    "import matplotlib.pyplot as plt\n",
    "import seaborn as sns\n",
    "import plotly.graph_objects as go\n",
    "import plotly.express as px\n",
    "import plotly.subplots as sp\n",
    "from plotly.subplots import make_subplots\n",
    "import plotly.graph_objects as go\n",
    "import plotly.express as px\n",
    "#remove warnings\n",
    "import warnings\n",
    "warnings.filterwarnings('ignore')\n",
    "\n",
    "df=pd.read_csv('/Users/gilbenor/Documents/code_projects/msc/counting_research_algorithms/fifty_one/measurements/results/analysis/error_flags_analysis_carapace_all_mean.csv')\n",
    "df.head()"
   ]
  },
  {
   "cell_type": "markdown",
   "metadata": {},
   "source": [
    "## Error decompoition ##"
   ]
  },
  {
   "cell_type": "markdown",
   "metadata": {},
   "source": [
    "### cancellation magnitude ###"
   ]
  },
  {
   "cell_type": "code",
   "execution_count": 4,
   "metadata": {},
   "outputs": [
    {
     "name": "stdout",
     "output_type": "stream",
     "text": [
      "\n",
      "--- Error Analysis for Pond Type: circle_female ---\n",
      "   - Number of points in df_pond: 95\n",
      "1. Partial Cancellation of Errors:\n",
      "   - Percentage of points with partial cancellation: 67.37%\n",
      "   - Number of points with partial cancellation: 64\n",
      "\n",
      "2. Cancellation Magnitude:\n",
      "   - Mean cancellation magnitude: 4.46\n",
      "   - Standard deviation of cancellation magnitude: 3.21\n",
      "   - Mean percentage of cancellation magnitude relative to Length_fov(mm): 14.00%\n",
      "   - Standard deviation of relative cancellation magnitude: 10.07%\n",
      "\n",
      "----------------------------------------\n",
      "\n",
      "Correlation between actual error and cancellation: -0.11223874525819678\n",
      "\n",
      "3. Dominance of Error Types:\n",
      "   - Number of points where Scale Error is dominant: 28\n",
      "   - Percentage of points where Scale Error is dominant: 29.47%\n",
      "   - Number of points where Pixel Error is dominant: 67\n",
      "   - Percentage of points where Pixel Error is dominant: 70.53%\n"
     ]
    },
    {
     "data": {
      "image/png": "[encoded data removed]",
      "text/plain": [
       "<Figure size 700x600 with 1 Axes>"
      ]
     },
     "metadata": {},
     "output_type": "display_data"
    },
    {
     "data": {
      "application/vnd.plotly.v1+json": {
       "config": {
        "plotlyServerURL": "https://plot.ly"
       },
       "data": [
        {
         "customdata": [
          [
           "carapace:undistorted_GX010067_33_625.jpg_gamma",
           "Prawn_0",
           41.918,
           37.75355582799847
          ],
          [
           "carapace:undistorted_GX010067_33_625.jpg_gamma",
           "Prawn_1",
           26.698,
           26.81020146673334
          ],
          [
           "carapace:undistorted_GX010067_33_625.jpg_gamma",
           "Prawn_2",
           46.29966666666667,
           39.03213370089752
          ],
          [
           "carapace:undistorted_GX010067_33_625.jpg_gamma",
           "Prawn_3",
           24.278666666666663,
           22.19795548446902
          ],
          [
           "carapace:undistorted_GX010068_26_666.jpg_gamma",
           "Prawn_0",
           33.843333333333334,
           28.18529795198593
          ],
          [
           "carapace:undistorted_GX010068_26_666.jpg_gamma",
           "Prawn_1",
           34.544000000000004,
           31.91789364958106
          ],
          [
           "carapace:undistorted_GX010068_26_666.jpg_gamma",
           "Prawn_2",
           32.81366666666667,
           34.73729979624052
          ],
          [
           "carapace:undistorted_GX010068_27_795.jpg_gamma",
           "Prawn_1",
           36.97933333333333,
           34.459308078579
          ],
          [
           "carapace:undistorted_GX010068_27_795.jpg_gamma",
           "Prawn_2",
           33.477666666666664,
           28.36084848037879
          ],
          [
           "carapace:undistorted_GX010069_19_191.jpg_gamma",
           "Prawn_0",
           31.406,
           32.33364303397632
          ],
          [
           "carapace:undistorted_GX010069_19_191.jpg_gamma",
           "Prawn_1",
           32.74166666666667,
           30.70185340036781
          ],
          [
           "carapace:undistorted_GX010069_19_191.jpg_gamma",
           "Prawn_2",
           27.465333333333334,
           26.6135050959192
          ],
          [
           "carapace:undistorted_GX010069_19_191.jpg_gamma",
           "Prawn_3",
           31.256666666666664,
           30.12266545795801
          ],
          [
           "carapace:undistorted_GX010069_53_796.jpg_gamma",
           "Prawn_0",
           42.47733333333333,
           37.25249294020791
          ],
          [
           "carapace:undistorted_GX010069_53_796.jpg_gamma",
           "Prawn_1",
           36.943333333333335,
           39.03419386660418
          ],
          [
           "carapace:undistorted_GX010071_22_444.jpg_gamma",
           "Prawn_0",
           41.95333333333333,
           32.9356320219084
          ],
          [
           "carapace:undistorted_GX010071_22_444.jpg_gamma",
           "Prawn_1",
           39.764,
           34.56556328930257
          ],
          [
           "carapace:undistorted_GX010073_42_695.jpg_gamma",
           "Prawn_0",
           28.94666666666667,
           23.47374525046514
          ],
          [
           "carapace:undistorted_GX010073_42_695.jpg_gamma",
           "Prawn_1",
           46.23366666666666,
           37.42382811719394
          ],
          [
           "carapace:undistorted_GX010073_55_1014.jpg_gamma",
           "Prawn_0",
           37.03866666666666,
           31.80997769642651
          ],
          [
           "carapace:undistorted_GX010073_55_1014.jpg_gamma",
           "Prawn_2",
           37.565000000000005,
           26.89449124914613
          ],
          [
           "carapace:undistorted_GX010073_55_1014.jpg_gamma",
           "Prawn_3",
           28.709333333333333,
           26.99219420910574
          ],
          [
           "carapace:undistorted_GX010077_14_237.jpg_gamma",
           "Prawn_0",
           26.24866666666667,
           24.94316443969545
          ],
          [
           "carapace:undistorted_GX010077_14_237.jpg_gamma",
           "Prawn_1",
           35.995,
           32.28195207616267
          ],
          [
           "carapace:undistorted_GX010077_14_237.jpg_gamma",
           "Prawn_2",
           34.312999999999995,
           30.44549099282529
          ],
          [
           "carapace:undistorted_GX010080_157_2283.jpg_gamma",
           "Prawn_0",
           26.50133333333333,
           35.22626780724914
          ],
          [
           "carapace:undistorted_GX010080_157_2283.jpg_gamma",
           "Prawn_3",
           35.125,
           33.79909058631164
          ],
          [
           "carapace:undistorted_GX010080_157_2283.jpg_gamma",
           "Prawn_4",
           34.03366666666667,
           32.27854054244597
          ],
          [
           "carapace:undistorted_GX010080_193_2640.jpg_gamma",
           "Prawn_0",
           34.535333333333334,
           30.8154545738458
          ],
          [
           "carapace:undistorted_GX010080_193_2640.jpg_gamma",
           "Prawn_1",
           41.434333333333335,
           33.72908093913094
          ],
          [
           "carapace:undistorted_GX010080_193_2640.jpg_gamma",
           "Prawn_4",
           35.702333333333335,
           28.95189174925827
          ],
          [
           "carapace:undistorted_GX010080_212_2954.jpg_gamma",
           "Prawn_0",
           28.686000000000003,
           31.78460808312776
          ],
          [
           "carapace:undistorted_GX010080_212_2954.jpg_gamma",
           "Prawn_1",
           31.811,
           32.49656977443392
          ],
          [
           "carapace:undistorted_GX010080_212_2954.jpg_gamma",
           "Prawn_2",
           33.73266666666667,
           32.49656977443392
          ],
          [
           "carapace:undistorted_GX010080_237_3366.jpg_gamma",
           "Prawn_0",
           36.14033333333333,
           37.6717765619875
          ],
          [
           "carapace:undistorted_GX010080_237_3366.jpg_gamma",
           "Prawn_1",
           36.446666666666665,
           34.98358239316487
          ],
          [
           "carapace:undistorted_GX010080_237_3366.jpg_gamma",
           "Prawn_2",
           31.065,
           28.17515757805285
          ],
          [
           "carapace:undistorted_GX010080_237_3366.jpg_gamma",
           "Prawn_3",
           36.763333333333335,
           32.99200119145986
          ],
          [
           "carapace:undistorted_GX010080_238_3392.jpg_gamma",
           "Prawn_0",
           36.775333333333336,
           31.68313772442753
          ],
          [
           "carapace:undistorted_GX010080_238_3392.jpg_gamma",
           "Prawn_1",
           36.04233333333333,
           30.36537650769275
          ],
          [
           "carapace:undistorted_GX010080_238_3392.jpg_gamma",
           "Prawn_3",
           36.336,
           28.29610929956323
          ],
          [
           "carapace:undistorted_GX010080_238_3392.jpg_gamma",
           "Prawn_4",
           33.14033333333333,
           36.29383214420561
          ],
          [
           "carapace:undistorted_GX010082_8_59.jpg_gamma",
           "Prawn_1",
           34.424,
           33.6723705987246
          ],
          [
           "carapace:undistorted_GX010082_8_59.jpg_gamma",
           "Prawn_2",
           37.46033333333333,
           32.11376421183746
          ],
          [
           "carapace:undistorted_GX010082_8_59.jpg_gamma",
           "Prawn_3",
           36.906,
           37.51925495877773
          ],
          [
           "carapace:undistorted_GX010082_8_59.jpg_gamma",
           "Prawn_4",
           26.740333333333336,
           28.59184852876473
          ],
          [
           "carapace:undistorted_GX010082_53_796.jpg_gamma",
           "Prawn_0",
           37.626666666666665,
           37.83065933444135
          ],
          [
           "carapace:undistorted_GX010082_53_796.jpg_gamma",
           "Prawn_1",
           21.106666666666666,
           21.15671197279154
          ],
          [
           "carapace:undistorted_GX010082_65_1070.jpg_gamma",
           "Prawn_0",
           27.028,
           28.89332411096001
          ],
          [
           "carapace:undistorted_GX010082_65_1070.jpg_gamma",
           "Prawn_1",
           44.07533333333333,
           39.07726688167158
          ],
          [
           "carapace:undistorted_GX010082_65_1070.jpg_gamma",
           "Prawn_2",
           35.542,
           33.88843640719921
          ],
          [
           "carapace:undistorted_GX010082_236_3137.jpg_gamma",
           "Prawn_0",
           20.59133333333333,
           23.72612492478941
          ],
          [
           "carapace:undistorted_GX010082_236_3137.jpg_gamma",
           "Prawn_1",
           32.413000000000004,
           34.22749565071942
          ],
          [
           "carapace:undistorted_GX010082_236_3137.jpg_gamma",
           "Prawn_2",
           38.315666666666665,
           37.88315322674648
          ],
          [
           "carapace:undistorted_GX010082_236_3137.jpg_gamma",
           "Prawn_3",
           20.542666666666666,
           23.72612492478941
          ],
          [
           "carapace:undistorted_GX010084_30_344.jpg_gamma",
           "Prawn_2",
           34.274,
           32.20438528823917
          ],
          [
           "carapace:undistorted_GX010084_30_344.jpg_gamma",
           "Prawn_3",
           36.25266666666666,
           32.30128861778331
          ],
          [
           "carapace:undistorted_GX010084_30_344.jpg_gamma",
           "Prawn_5",
           33.519666666666666,
           33.88992313051816
          ],
          [
           "carapace:undistorted_GX010084_130_1748.jpg_gamma",
           "Prawn_0",
           35.57666666666667,
           31.17453504844051
          ],
          [
           "carapace:undistorted_GX010084_130_1748.jpg_gamma",
           "Prawn_1",
           41.317,
           31.40392321944161
          ],
          [
           "carapace:undistorted_GX010084_130_1748.jpg_gamma",
           "Prawn_3",
           39.387,
           29.65767293239057
          ],
          [
           "carapace:undistorted_GX010084_167_2291.jpg_gamma",
           "Prawn_1",
           45.99366666666666,
           37.16724659490847
          ],
          [
           "carapace:undistorted_GX010085_261_3610.jpg_gamma",
           "Prawn_1",
           36.118,
           35.90870848354313
          ],
          [
           "carapace:undistorted_GX010085_261_3610.jpg_gamma",
           "Prawn_2",
           30.01333333333333,
           24.1220621742473
          ],
          [
           "carapace:undistorted_GX010085_263_3738.jpg_gamma",
           "Prawn_2",
           40.70633333333333,
           31.74650532117314
          ],
          [
           "carapace:undistorted_GX010088_209_2904.jpg_gamma",
           "Prawn_0",
           37.23433333333333,
           29.9113603068946
          ],
          [
           "carapace:undistorted_GX010088_209_2904.jpg_gamma",
           "Prawn_1",
           37.79366666666667,
           35.42982515842814
          ],
          [
           "carapace:undistorted_GX010088_262_3712.jpg_gamma",
           "Prawn_0",
           42.525,
           33.37463157804564
          ],
          [
           "carapace:undistorted_GX010088_262_3712.jpg_gamma",
           "Prawn_1",
           33.435,
           28.97382993900615
          ],
          [
           "carapace:undistorted_GX010088_262_3712.jpg_gamma",
           "Prawn_2",
           40.21266666666667,
           31.87648418130547
          ],
          [
           "carapace:undistorted_GX010088_262_3712.jpg_gamma",
           "Prawn_3",
           42.803666666666665,
           31.87648418130547
          ],
          [
           "carapace:undistorted_GX010088_327_4364.jpg_gamma",
           "Prawn_0",
           37.876666666666665,
           28.79287972362962
          ],
          [
           "carapace:undistorted_GX010088_327_4364.jpg_gamma",
           "Prawn_1",
           37.07266666666666,
           31.70343506965044
          ],
          [
           "carapace:undistorted_GX010088_327_4364.jpg_gamma",
           "Prawn_2",
           38.641333333333336,
           32.85831741366103
          ],
          [
           "carapace:undistorted_GX010088_327_4364.jpg_gamma",
           "Prawn_3",
           42.78733333333333,
           36.92519089419286
          ],
          [
           "carapace:undistorted_GX010090_132_1852.jpg_gamma",
           "Prawn_0",
           35.178333333333335,
           37.23936474310507
          ],
          [
           "carapace:undistorted_GX010094_9_129.jpg_gamma",
           "Prawn_0",
           24.666,
           26.01416340285792
          ],
          [
           "carapace:undistorted_GX010094_9_129.jpg_gamma",
           "Prawn_1",
           33.87566666666667,
           30.36016883552696
          ],
          [
           "carapace:undistorted_GX010094_24_430.jpg_gamma",
           "Prawn_1",
           34.47933333333334,
           35.30074629070312
          ],
          [
           "carapace:undistorted_GX010094_24_430.jpg_gamma",
           "Prawn_2",
           33.397333333333336,
           30.74181019119764
          ],
          [
           "carapace:undistorted_GX010094_93_1258.jpg_gamma",
           "Prawn_0",
           28.933333333333334,
           33.64979753414979
          ],
          [
           "carapace:undistorted_GX010094_93_1258.jpg_gamma",
           "Prawn_1",
           35.580000000000005,
           33.64979753414979
          ],
          [
           "carapace:undistorted_GX010094_163_2312.jpg_gamma",
           "Prawn_0",
           36.263,
           36.38742129153044
          ],
          [
           "carapace:undistorted_GX010096_107_1571.jpg_gamma",
           "Prawn_0",
           35.103,
           30.78771369941601
          ],
          [
           "carapace:undistorted_GX010097_32_528.jpg_gamma",
           "Prawn_1",
           30.808666666666664,
           26.85971570222255
          ],
          [
           "carapace:undistorted_GX010097_32_528.jpg_gamma",
           "Prawn_2",
           28.918,
           29.02747244585838
          ],
          [
           "carapace:undistorted_GX010097_60_1080.jpg_gamma",
           "Prawn_0",
           37.538,
           33.81643194391071
          ],
          [
           "carapace:undistorted_GX010097_60_1080.jpg_gamma",
           "Prawn_1",
           27.723,
           22.50580113323289
          ],
          [
           "carapace:undistorted_GX010097_105_1651.jpg_gamma",
           "Prawn_0",
           36.993,
           34.1954828549277
          ],
          [
           "carapace:undistorted_GX010097_105_1651.jpg_gamma",
           "Prawn_1",
           43.29533333333333,
           40.81753685853357
          ],
          [
           "carapace:undistorted_GX010097_105_1651.jpg_gamma",
           "Prawn_2",
           32.398666666666664,
           28.21818473561181
          ],
          [
           "carapace:undistorted_GX010097_105_1651.jpg_gamma",
           "Prawn_3",
           30.090333333333334,
           32.13693889345043
          ],
          [
           "carapace:undistorted_GX010097_124_1870.jpg_gamma",
           "Prawn_0",
           29.376,
           31.18986928496678
          ],
          [
           "carapace:undistorted_GX010097_124_1870.jpg_gamma",
           "Prawn_1",
           31.066333333333336,
           28.278749413969
          ],
          [
           "carapace:undistorted_GX010101_12_173.jpg_gamma",
           "Prawn_0",
           42.12266666666667,
           41.48255338845136
          ]
         ],
         "hovertemplate": "Image: %{customdata[0]}<br>Prawn ID: %{customdata[1]}<br>Mean Length: %{customdata[2]:.1f}mm<br>Model Length: %{customdata[3]:.1f}mm<br>Pixel Error: %{y:.1f}mm<br>Impact: %{customdata[4]:.1f}%<extra></extra>",
         "marker": {
          "color": "#1f77b4"
         },
         "name": "Pixel Error",
         "type": "bar",
         "x": [
          0,
          1,
          2,
          3,
          4,
          5,
          6,
          7,
          8,
          9,
          10,
          11,
          12,
          13,
          14,
          15,
          16,
          17,
          18,
          19,
          20,
          21,
          22,
          23,
          24,
          25,
          26,
          27,
          28,
          29,
          30,
          31,
          32,
          33,
          34,
          35,
          36,
          37,
          38,
          39,
          40,
          41,
          42,
          43,
          44,
          45,
          46,
          47,
          48,
          49,
          50,
          51,
          52,
          53,
          54,
          55,
          56,
          57,
          58,
          59,
          60,
          61,
          62,
          63,
          64,
          65,
          66,
          67,
          68,
          69,
          70,
          71,
          72,
          73,
          74,
          75,
          76,
          77,
          78,
          79,
          80,
          81,
          82,
          83,
          84,
          85,
          86,
          87,
          88,
          89,
          90,
          91,
          92,
          93,
          94
         ],
         "y": [
          6.899995073091386,
          1.7220975941036865,
          10.58477365228982,
          4.014193964449735,
          6.243441715669151,
          2.918791836545596,
          -0.8315579278353658,
          1.1351613915344398,
          4.932060511006876,
          1.325311444683632,
          3.9720331845665213,
          2.673143122137148,
          3.4567458387775076,
          7.092529008203706,
          -0.10488977314236868,
          9.182879484553563,
          4.90210810231262,
          5.147312112309489,
          8.723695060771686,
          5.9973788659900045,
          12.311013068568462,
          2.508491609369049,
          1.007770033511334,
          3.4829026723808933,
          3.3573148694694672,
          -2.0752502709031475,
          7.749612687092115,
          7.565637467742769,
          5.949021564885207,
          9.829173701497222,
          9.081918222076643,
          -0.09301930761430074,
          2.2523816171723556,
          4.048369166039099,
          -1.3772628981528878,
          2.0219594293923926,
          3.1337549374540785,
          4.204470503269032,
          6.529763591056259,
          7.539630139860906,
          9.244472612346922,
          -1.1532688146766303,
          2.0717564708546634,
          5.964508923926618,
          0.06455990929257163,
          -0.4667883131311101,
          1.7274776819281117,
          0.6502682251027359,
          -0.03547291711430114,
          7.787536756917022,
          4.175804151315758,
          -0.39594157298757227,
          0.7668817902151197,
          3.8321692758078427,
          -0.7804887175384776,
          2.051588827608837,
          3.6843710015616797,
          -1.1559703732956164,
          3.0939844561014302,
          7.632284658552225,
          7.55608069704496,
          10.983115529461951,
          3.3586540254364583,
          8.203747376344989,
          8.431872713889645,
          7.968208569959466,
          3.883250700687209,
          7.349349467139087,
          2.982398174774001,
          6.618969470574009,
          9.230689312661873,
          8.80171374353218,
          4.902258819186177,
          4.8009844290473875,
          4.784297699055911,
          1.077559912370025,
          0.9996871916563986,
          6.971981545726015,
          1.232891495422776,
          4.924615998301363,
          -3.2231139760158416,
          3.2987855773328723,
          1.6105674251006343,
          6.292337905405604,
          6.230850590786145,
          1.4102182338176072,
          5.829857160907621,
          6.341875665904187,
          5.844014672588299,
          7.3125267263726155,
          7.574740347428471,
          0.7457224910189758,
          2.3120338585590767,
          6.131198017963179,
          2.232782632529755
         ]
        },
        {
         "customdata": [
          [
           "carapace:undistorted_GX010067_33_625.jpg_gamma",
           "Prawn_0",
           41.918,
           37.75355582799847
          ],
          [
           "carapace:undistorted_GX010067_33_625.jpg_gamma",
           "Prawn_1",
           26.698,
           26.81020146673334
          ],
          [
           "carapace:undistorted_GX010067_33_625.jpg_gamma",
           "Prawn_2",
           46.29966666666667,
           39.03213370089752
          ],
          [
           "carapace:undistorted_GX010067_33_625.jpg_gamma",
           "Prawn_3",
           24.278666666666663,
           22.19795548446902
          ],
          [
           "carapace:undistorted_GX010068_26_666.jpg_gamma",
           "Prawn_0",
           33.843333333333334,
           28.18529795198593
          ],
          [
           "carapace:undistorted_GX010068_26_666.jpg_gamma",
           "Prawn_1",
           34.544000000000004,
           31.91789364958106
          ],
          [
           "carapace:undistorted_GX010068_26_666.jpg_gamma",
           "Prawn_2",
           32.81366666666667,
           34.73729979624052
          ],
          [
           "carapace:undistorted_GX010068_27_795.jpg_gamma",
           "Prawn_1",
           36.97933333333333,
           34.459308078579
          ],
          [
           "carapace:undistorted_GX010068_27_795.jpg_gamma",
           "Prawn_2",
           33.477666666666664,
           28.36084848037879
          ],
          [
           "carapace:undistorted_GX010069_19_191.jpg_gamma",
           "Prawn_0",
           31.406,
           32.33364303397632
          ],
          [
           "carapace:undistorted_GX010069_19_191.jpg_gamma",
           "Prawn_1",
           32.74166666666667,
           30.70185340036781
          ],
          [
           "carapace:undistorted_GX010069_19_191.jpg_gamma",
           "Prawn_2",
           27.465333333333334,
           26.6135050959192
          ],
          [
           "carapace:undistorted_GX010069_19_191.jpg_gamma",
           "Prawn_3",
           31.256666666666664,
           30.12266545795801
          ],
          [
           "carapace:undistorted_GX010069_53_796.jpg_gamma",
           "Prawn_0",
           42.47733333333333,
           37.25249294020791
          ],
          [
           "carapace:undistorted_GX010069_53_796.jpg_gamma",
           "Prawn_1",
           36.943333333333335,
           39.03419386660418
          ],
          [
           "carapace:undistorted_GX010071_22_444.jpg_gamma",
           "Prawn_0",
           41.95333333333333,
           32.9356320219084
          ],
          [
           "carapace:undistorted_GX010071_22_444.jpg_gamma",
           "Prawn_1",
           39.764,
           34.56556328930257
          ],
          [
           "carapace:undistorted_GX010073_42_695.jpg_gamma",
           "Prawn_0",
           28.94666666666667,
           23.47374525046514
          ],
          [
           "carapace:undistorted_GX010073_42_695.jpg_gamma",
           "Prawn_1",
           46.23366666666666,
           37.42382811719394
          ],
          [
           "carapace:undistorted_GX010073_55_1014.jpg_gamma",
           "Prawn_0",
           37.03866666666666,
           31.80997769642651
          ],
          [
           "carapace:undistorted_GX010073_55_1014.jpg_gamma",
           "Prawn_2",
           37.565000000000005,
           26.89449124914613
          ],
          [
           "carapace:undistorted_GX010073_55_1014.jpg_gamma",
           "Prawn_3",
           28.709333333333333,
           26.99219420910574
          ],
          [
           "carapace:undistorted_GX010077_14_237.jpg_gamma",
           "Prawn_0",
           26.24866666666667,
           24.94316443969545
          ],
          [
           "carapace:undistorted_GX010077_14_237.jpg_gamma",
           "Prawn_1",
           35.995,
           32.28195207616267
          ],
          [
           "carapace:undistorted_GX010077_14_237.jpg_gamma",
           "Prawn_2",
           34.312999999999995,
           30.44549099282529
          ],
          [
           "carapace:undistorted_GX010080_157_2283.jpg_gamma",
           "Prawn_0",
           26.50133333333333,
           35.22626780724914
          ],
          [
           "carapace:undistorted_GX010080_157_2283.jpg_gamma",
           "Prawn_3",
           35.125,
           33.79909058631164
          ],
          [
           "carapace:undistorted_GX010080_157_2283.jpg_gamma",
           "Prawn_4",
           34.03366666666667,
           32.27854054244597
          ],
          [
           "carapace:undistorted_GX010080_193_2640.jpg_gamma",
           "Prawn_0",
           34.535333333333334,
           30.8154545738458
          ],
          [
           "carapace:undistorted_GX010080_193_2640.jpg_gamma",
           "Prawn_1",
           41.434333333333335,
           33.72908093913094
          ],
          [
           "carapace:undistorted_GX010080_193_2640.jpg_gamma",
           "Prawn_4",
           35.702333333333335,
           28.95189174925827
          ],
          [
           "carapace:undistorted_GX010080_212_2954.jpg_gamma",
           "Prawn_0",
           28.686000000000003,
           31.78460808312776
          ],
          [
           "carapace:undistorted_GX010080_212_2954.jpg_gamma",
           "Prawn_1",
           31.811,
           32.49656977443392
          ],
          [
           "carapace:undistorted_GX010080_212_2954.jpg_gamma",
           "Prawn_2",
           33.73266666666667,
           32.49656977443392
          ],
          [
           "carapace:undistorted_GX010080_237_3366.jpg_gamma",
           "Prawn_0",
           36.14033333333333,
           37.6717765619875
          ],
          [
           "carapace:undistorted_GX010080_237_3366.jpg_gamma",
           "Prawn_1",
           36.446666666666665,
           34.98358239316487
          ],
          [
           "carapace:undistorted_GX010080_237_3366.jpg_gamma",
           "Prawn_2",
           31.065,
           28.17515757805285
          ],
          [
           "carapace:undistorted_GX010080_237_3366.jpg_gamma",
           "Prawn_3",
           36.763333333333335,
           32.99200119145986
          ],
          [
           "carapace:undistorted_GX010080_238_3392.jpg_gamma",
           "Prawn_0",
           36.775333333333336,
           31.68313772442753
          ],
          [
           "carapace:undistorted_GX010080_238_3392.jpg_gamma",
           "Prawn_1",
           36.04233333333333,
           30.36537650769275
          ],
          [
           "carapace:undistorted_GX010080_238_3392.jpg_gamma",
           "Prawn_3",
           36.336,
           28.29610929956323
          ],
          [
           "carapace:undistorted_GX010080_238_3392.jpg_gamma",
           "Prawn_4",
           33.14033333333333,
           36.29383214420561
          ],
          [
           "carapace:undistorted_GX010082_8_59.jpg_gamma",
           "Prawn_1",
           34.424,
           33.6723705987246
          ],
          [
           "carapace:undistorted_GX010082_8_59.jpg_gamma",
           "Prawn_2",
           37.46033333333333,
           32.11376421183746
          ],
          [
           "carapace:undistorted_GX010082_8_59.jpg_gamma",
           "Prawn_3",
           36.906,
           37.51925495877773
          ],
          [
           "carapace:undistorted_GX010082_8_59.jpg_gamma",
           "Prawn_4",
           26.740333333333336,
           28.59184852876473
          ],
          [
           "carapace:undistorted_GX010082_53_796.jpg_gamma",
           "Prawn_0",
           37.626666666666665,
           37.83065933444135
          ],
          [
           "carapace:undistorted_GX010082_53_796.jpg_gamma",
           "Prawn_1",
           21.106666666666666,
           21.15671197279154
          ],
          [
           "carapace:undistorted_GX010082_65_1070.jpg_gamma",
           "Prawn_0",
           27.028,
           28.89332411096001
          ],
          [
           "carapace:undistorted_GX010082_65_1070.jpg_gamma",
           "Prawn_1",
           44.07533333333333,
           39.07726688167158
          ],
          [
           "carapace:undistorted_GX010082_65_1070.jpg_gamma",
           "Prawn_2",
           35.542,
           33.88843640719921
          ],
          [
           "carapace:undistorted_GX010082_236_3137.jpg_gamma",
           "Prawn_0",
           20.59133333333333,
           23.72612492478941
          ],
          [
           "carapace:undistorted_GX010082_236_3137.jpg_gamma",
           "Prawn_1",
           32.413000000000004,
           34.22749565071942
          ],
          [
           "carapace:undistorted_GX010082_236_3137.jpg_gamma",
           "Prawn_2",
           38.315666666666665,
           37.88315322674648
          ],
          [
           "carapace:undistorted_GX010082_236_3137.jpg_gamma",
           "Prawn_3",
           20.542666666666666,
           23.72612492478941
          ],
          [
           "carapace:undistorted_GX010084_30_344.jpg_gamma",
           "Prawn_2",
           34.274,
           32.20438528823917
          ],
          [
           "carapace:undistorted_GX010084_30_344.jpg_gamma",
           "Prawn_3",
           36.25266666666666,
           32.30128861778331
          ],
          [
           "carapace:undistorted_GX010084_30_344.jpg_gamma",
           "Prawn_5",
           33.519666666666666,
           33.88992313051816
          ],
          [
           "carapace:undistorted_GX010084_130_1748.jpg_gamma",
           "Prawn_0",
           35.57666666666667,
           31.17453504844051
          ],
          [
           "carapace:undistorted_GX010084_130_1748.jpg_gamma",
           "Prawn_1",
           41.317,
           31.40392321944161
          ],
          [
           "carapace:undistorted_GX010084_130_1748.jpg_gamma",
           "Prawn_3",
           39.387,
           29.65767293239057
          ],
          [
           "carapace:undistorted_GX010084_167_2291.jpg_gamma",
           "Prawn_1",
           45.99366666666666,
           37.16724659490847
          ],
          [
           "carapace:undistorted_GX010085_261_3610.jpg_gamma",
           "Prawn_1",
           36.118,
           35.90870848354313
          ],
          [
           "carapace:undistorted_GX010085_261_3610.jpg_gamma",
           "Prawn_2",
           30.01333333333333,
           24.1220621742473
          ],
          [
           "carapace:undistorted_GX010085_263_3738.jpg_gamma",
           "Prawn_2",
           40.70633333333333,
           31.74650532117314
          ],
          [
           "carapace:undistorted_GX010088_209_2904.jpg_gamma",
           "Prawn_0",
           37.23433333333333,
           29.9113603068946
          ],
          [
           "carapace:undistorted_GX010088_209_2904.jpg_gamma",
           "Prawn_1",
           37.79366666666667,
           35.42982515842814
          ],
          [
           "carapace:undistorted_GX010088_262_3712.jpg_gamma",
           "Prawn_0",
           42.525,
           33.37463157804564
          ],
          [
           "carapace:undistorted_GX010088_262_3712.jpg_gamma",
           "Prawn_1",
           33.435,
           28.97382993900615
          ],
          [
           "carapace:undistorted_GX010088_262_3712.jpg_gamma",
           "Prawn_2",
           40.21266666666667,
           31.87648418130547
          ],
          [
           "carapace:undistorted_GX010088_262_3712.jpg_gamma",
           "Prawn_3",
           42.803666666666665,
           31.87648418130547
          ],
          [
           "carapace:undistorted_GX010088_327_4364.jpg_gamma",
           "Prawn_0",
           37.876666666666665,
           28.79287972362962
          ],
          [
           "carapace:undistorted_GX010088_327_4364.jpg_gamma",
           "Prawn_1",
           37.07266666666666,
           31.70343506965044
          ],
          [
           "carapace:undistorted_GX010088_327_4364.jpg_gamma",
           "Prawn_2",
           38.641333333333336,
           32.85831741366103
          ],
          [
           "carapace:undistorted_GX010088_327_4364.jpg_gamma",
           "Prawn_3",
           42.78733333333333,
           36.92519089419286
          ],
          [
           "carapace:undistorted_GX010090_132_1852.jpg_gamma",
           "Prawn_0",
           35.178333333333335,
           37.23936474310507
          ],
          [
           "carapace:undistorted_GX010094_9_129.jpg_gamma",
           "Prawn_0",
           24.666,
           26.01416340285792
          ],
          [
           "carapace:undistorted_GX010094_9_129.jpg_gamma",
           "Prawn_1",
           33.87566666666667,
           30.36016883552696
          ],
          [
           "carapace:undistorted_GX010094_24_430.jpg_gamma",
           "Prawn_1",
           34.47933333333334,
           35.30074629070312
          ],
          [
           "carapace:undistorted_GX010094_24_430.jpg_gamma",
           "Prawn_2",
           33.397333333333336,
           30.74181019119764
          ],
          [
           "carapace:undistorted_GX010094_93_1258.jpg_gamma",
           "Prawn_0",
           28.933333333333334,
           33.64979753414979
          ],
          [
           "carapace:undistorted_GX010094_93_1258.jpg_gamma",
           "Prawn_1",
           35.580000000000005,
           33.64979753414979
          ],
          [
           "carapace:undistorted_GX010094_163_2312.jpg_gamma",
           "Prawn_0",
           36.263,
           36.38742129153044
          ],
          [
           "carapace:undistorted_GX010096_107_1571.jpg_gamma",
           "Prawn_0",
           35.103,
           30.78771369941601
          ],
          [
           "carapace:undistorted_GX010097_32_528.jpg_gamma",
           "Prawn_1",
           30.808666666666664,
           26.85971570222255
          ],
          [
           "carapace:undistorted_GX010097_32_528.jpg_gamma",
           "Prawn_2",
           28.918,
           29.02747244585838
          ],
          [
           "carapace:undistorted_GX010097_60_1080.jpg_gamma",
           "Prawn_0",
           37.538,
           33.81643194391071
          ],
          [
           "carapace:undistorted_GX010097_60_1080.jpg_gamma",
           "Prawn_1",
           27.723,
           22.50580113323289
          ],
          [
           "carapace:undistorted_GX010097_105_1651.jpg_gamma",
           "Prawn_0",
           36.993,
           34.1954828549277
          ],
          [
           "carapace:undistorted_GX010097_105_1651.jpg_gamma",
           "Prawn_1",
           43.29533333333333,
           40.81753685853357
          ],
          [
           "carapace:undistorted_GX010097_105_1651.jpg_gamma",
           "Prawn_2",
           32.398666666666664,
           28.21818473561181
          ],
          [
           "carapace:undistorted_GX010097_105_1651.jpg_gamma",
           "Prawn_3",
           30.090333333333334,
           32.13693889345043
          ],
          [
           "carapace:undistorted_GX010097_124_1870.jpg_gamma",
           "Prawn_0",
           29.376,
           31.18986928496678
          ],
          [
           "carapace:undistorted_GX010097_124_1870.jpg_gamma",
           "Prawn_1",
           31.066333333333336,
           28.278749413969
          ],
          [
           "carapace:undistorted_GX010101_12_173.jpg_gamma",
           "Prawn_0",
           42.12266666666667,
           41.48255338845136
          ]
         ],
         "hovertemplate": "Image: %{customdata[0]}<br>Prawn ID: %{customdata[1]}<br>Mean Length: %{customdata[2]:.1f}mm<br>Model Length: %{customdata[3]:.1f}mm<br>Scale Error: %{y:.1f}mm<br>Impact: %{customdata[4]:.1f}%<extra></extra>",
         "marker": {
          "color": "#ff7f0e"
         },
         "name": "Scale Error",
         "type": "bar",
         "x": [
          0,
          1,
          2,
          3,
          4,
          5,
          6,
          7,
          8,
          9,
          10,
          11,
          12,
          13,
          14,
          15,
          16,
          17,
          18,
          19,
          20,
          21,
          22,
          23,
          24,
          25,
          26,
          27,
          28,
          29,
          30,
          31,
          32,
          33,
          34,
          35,
          36,
          37,
          38,
          39,
          40,
          41,
          42,
          43,
          44,
          45,
          46,
          47,
          48,
          49,
          50,
          51,
          52,
          53,
          54,
          55,
          56,
          57,
          58,
          59,
          60,
          61,
          62,
          63,
          64,
          65,
          66,
          67,
          68,
          69,
          70,
          71,
          72,
          73,
          74,
          75,
          76,
          77,
          78,
          79,
          80,
          81,
          82,
          83,
          84,
          85,
          86,
          87,
          88,
          89,
          90,
          91,
          92,
          93,
          94
         ],
         "y": [
          -3.2475109257497885,
          -1.9638183952057073,
          -4.309334333566236,
          -2.322717330403941,
          -0.5516609021780672,
          -0.20320723823390427,
          -1.1398012070880263,
          1.38203496362048,
          0.22407119985060708,
          -2.301408564748075,
          -2.191903159207873,
          -2.17697852310418,
          -2.5366695457058257,
          -2.540334727866256,
          -1.9431772088480042,
          -0.31084844839465736,
          0.230410438990873,
          0.15148256743914135,
          0.09451530847684073,
          -0.9366879801717015,
          -2.4485135839723506,
          -0.8298196438538961,
          0.22113207685810726,
          0.18073906372638257,
          0.45881113136904433,
          -6.181608816165377,
          -8.282856730715348,
          -7.606463650237436,
          -3.074841792403837,
          -2.981578275083692,
          -3.4575412890546953,
          -3.0537870675868035,
          -3.160574340369748,
          -3.3390077844785555,
          -0.14707276698887597,
          -0.5834321169509875,
          -0.3041802487285712,
          -0.5446235666840405,
          -1.7498507232267948,
          -2.4288866228021706,
          -1.5701422189799503,
          -2.0019833569268393,
          -1.497988491688345,
          -0.8409407534188578,
          -0.8041535252311494,
          -1.4564991985232991,
          -2.028456648600576,
          -0.6959220031075153,
          -1.874539943491904,
          -3.594634520321132,
          -2.9156718049054215,
          -2.609339908835425,
          -2.766607165114795,
          -4.09134817474198,
          -2.5607974639364035,
          -0.14714042403849945,
          0.23528024648795254,
          0.6129907610064863,
          1.4094844452729474,
          2.5494099227735676,
          2.5794961380605788,
          -2.888942556058627,
          -3.540229843158251,
          -3.396848684286608,
          0.16128871982570817,
          -1.3599624410425228,
          -1.8751118961569673,
          2.1165320881668666,
          1.5861109563623934,
          1.9940979240213887,
          2.1237769124904977,
          -0.18149826531919097,
          0.3508605236631669,
          0.8695093300713913,
          0.9906874766078415,
          -3.330271220400805,
          -2.45234276836123,
          -4.29327999439704,
          -2.2805043159113443,
          -2.9125074521893852,
          -1.52592416473596,
          -1.8723242149417543,
          -1.8443821785566448,
          -2.4595153064281092,
          -2.8200221142714077,
          -1.6109983942483639,
          -2.6434143402668853,
          -1.7185306786663928,
          -3.6120094905612206,
          -5.822708884367692,
          -4.438504205185889,
          -2.8609152273668266,
          -4.627893306930502,
          -4.146618584025015,
          -1.7259784103276974
         ]
        }
       ],
       "layout": {
        "barmode": "relative",
        "height": 600,
        "showlegend": true,
        "template": {
         "data": {
          "bar": [
           {
            "error_x": {
             "color": "#2a3f5f"
            },
            "error_y": {
             "color": "#2a3f5f"
            },
            "marker": {
             "line": {
              "color": "#E5ECF6",
              "width": 0.5
             },
             "pattern": {
              "fillmode": "overlay",
              "size": 10,
              "solidity": 0.2
             }
            },
            "type": "bar"
           }
          ],
          "barpolar": [
           {
            "marker": {
             "line": {
              "color": "#E5ECF6",
              "width": 0.5
             },
             "pattern": {
              "fillmode": "overlay",
              "size": 10,
              "solidity": 0.2
             }
            },
            "type": "barpolar"
           }
          ],
          "carpet": [
           {
            "aaxis": {
             "endlinecolor": "#2a3f5f",
             "gridcolor": "white",
             "linecolor": "white",
             "minorgridcolor": "white",
             "startlinecolor": "#2a3f5f"
            },
            "baxis": {
             "endlinecolor": "#2a3f5f",
             "gridcolor": "white",
             "linecolor": "white",
             "minorgridcolor": "white",
             "startlinecolor": "#2a3f5f"
            },
            "type": "carpet"
           }
          ],
          "choropleth": [
           {
            "colorbar": {
             "outlinewidth": 0,
             "ticks": ""
            },
            "type": "choropleth"
           }
          ],
          "contour": [
           {
            "colorbar": {
             "outlinewidth": 0,
             "ticks": ""
            },
            "colorscale": [
             [
              0,
              "#0d0887"
             ],
             [
              0.1111111111111111,
              "#46039f"
             ],
             [
              0.2222222222222222,
              "#7201a8"
             ],
             [
              0.3333333333333333,
              "#9c179e"
             ],
             [
              0.4444444444444444,
              "#bd3786"
             ],
             [
              0.5555555555555556,
              "#d8576b"
             ],
             [
              0.6666666666666666,
              "#ed7953"
             ],
             [
              0.7777777777777778,
              "#fb9f3a"
             ],
             [
              0.8888888888888888,
              "#fdca26"
             ],
             [
              1,
              "#f0f921"
             ]
            ],
            "type": "contour"
           }
          ],
          "contourcarpet": [
           {
            "colorbar": {
             "outlinewidth": 0,
             "ticks": ""
            },
            "type": "contourcarpet"
           }
          ],
          "heatmap": [
           {
            "colorbar": {
             "outlinewidth": 0,
             "ticks": ""
            },
            "colorscale": [
             [
              0,
              "#0d0887"
             ],
             [
              0.1111111111111111,
              "#46039f"
             ],
             [
              0.2222222222222222,
              "#7201a8"
             ],
             [
              0.3333333333333333,
              "#9c179e"
             ],
             [
              0.4444444444444444,
              "#bd3786"
             ],
             [
              0.5555555555555556,
              "#d8576b"
             ],
             [
              0.6666666666666666,
              "#ed7953"
             ],
             [
              0.7777777777777778,
              "#fb9f3a"
             ],
             [
              0.8888888888888888,
              "#fdca26"
             ],
             [
              1,
              "#f0f921"
             ]
            ],
            "type": "heatmap"
           }
          ],
          "heatmapgl": [
           {
            "colorbar": {
             "outlinewidth": 0,
             "ticks": ""
            },
            "colorscale": [
             [
              0,
              "#0d0887"
             ],
             [
              0.1111111111111111,
              "#46039f"
             ],
             [
              0.2222222222222222,
              "#7201a8"
             ],
             [
              0.3333333333333333,
              "#9c179e"
             ],
             [
              0.4444444444444444,
              "#bd3786"
             ],
             [
              0.5555555555555556,
              "#d8576b"
             ],
             [
              0.6666666666666666,
              "#ed7953"
             ],
             [
              0.7777777777777778,
              "#fb9f3a"
             ],
             [
              0.8888888888888888,
              "#fdca26"
             ],
             [
              1,
              "#f0f921"
             ]
            ],
            "type": "heatmapgl"
           }
          ],
          "histogram": [
           {
            "marker": {
             "pattern": {
              "fillmode": "overlay",
              "size": 10,
              "solidity": 0.2
             }
            },
            "type": "histogram"
           }
          ],
          "histogram2d": [
           {
            "colorbar": {
             "outlinewidth": 0,
             "ticks": ""
            },
            "colorscale": [
             [
              0,
              "#0d0887"
             ],
             [
              0.1111111111111111,
              "#46039f"
             ],
             [
              0.2222222222222222,
              "#7201a8"
             ],
             [
              0.3333333333333333,
              "#9c179e"
             ],
             [
              0.4444444444444444,
              "#bd3786"
             ],
             [
              0.5555555555555556,
              "#d8576b"
             ],
             [
              0.6666666666666666,
              "#ed7953"
             ],
             [
              0.7777777777777778,
              "#fb9f3a"
             ],
             [
              0.8888888888888888,
              "#fdca26"
             ],
             [
              1,
              "#f0f921"
             ]
            ],
            "type": "histogram2d"
           }
          ],
          "histogram2dcontour": [
           {
            "colorbar": {
             "outlinewidth": 0,
             "ticks": ""
            },
            "colorscale": [
             [
              0,
              "#0d0887"
             ],
             [
              0.1111111111111111,
              "#46039f"
             ],
             [
              0.2222222222222222,
              "#7201a8"
             ],
             [
              0.3333333333333333,
              "#9c179e"
             ],
             [
              0.4444444444444444,
              "#bd3786"
             ],
             [
              0.5555555555555556,
              "#d8576b"
             ],
             [
              0.6666666666666666,
              "#ed7953"
             ],
             [
              0.7777777777777778,
              "#fb9f3a"
             ],
             [
              0.8888888888888888,
              "#fdca26"
             ],
             [
              1,
              "#f0f921"
             ]
            ],
            "type": "histogram2dcontour"
           }
          ],
          "mesh3d": [
           {
            "colorbar": {
             "outlinewidth": 0,
             "ticks": ""
            },
            "type": "mesh3d"
           }
          ],
          "parcoords": [
           {
            "line": {
             "colorbar": {
              "outlinewidth": 0,
              "ticks": ""
             }
            },
            "type": "parcoords"
           }
          ],
          "pie": [
           {
            "automargin": true,
            "type": "pie"
           }
          ],
          "scatter": [
           {
            "fillpattern": {
             "fillmode": "overlay",
             "size": 10,
             "solidity": 0.2
            },
            "type": "scatter"
           }
          ],
          "scatter3d": [
           {
            "line": {
             "colorbar": {
              "outlinewidth": 0,
              "ticks": ""
             }
            },
            "marker": {
             "colorbar": {
              "outlinewidth": 0,
              "ticks": ""
             }
            },
            "type": "scatter3d"
           }
          ],
          "scattercarpet": [
           {
            "marker": {
             "colorbar": {
              "outlinewidth": 0,
              "ticks": ""
             }
            },
            "type": "scattercarpet"
           }
          ],
          "scattergeo": [
           {
            "marker": {
             "colorbar": {
              "outlinewidth": 0,
              "ticks": ""
             }
            },
            "type": "scattergeo"
           }
          ],
          "scattergl": [
           {
            "marker": {
             "colorbar": {
              "outlinewidth": 0,
              "ticks": ""
             }
            },
            "type": "scattergl"
           }
          ],
          "scattermapbox": [
           {
            "marker": {
             "colorbar": {
              "outlinewidth": 0,
              "ticks": ""
             }
            },
            "type": "scattermapbox"
           }
          ],
          "scatterpolar": [
           {
            "marker": {
             "colorbar": {
              "outlinewidth": 0,
              "ticks": ""
             }
            },
            "type": "scatterpolar"
           }
          ],
          "scatterpolargl": [
           {
            "marker": {
             "colorbar": {
              "outlinewidth": 0,
              "ticks": ""
             }
            },
            "type": "scatterpolargl"
           }
          ],
          "scatterternary": [
           {
            "marker": {
             "colorbar": {
              "outlinewidth": 0,
              "ticks": ""
             }
            },
            "type": "scatterternary"
           }
          ],
          "surface": [
           {
            "colorbar": {
             "outlinewidth": 0,
             "ticks": ""
            },
            "colorscale": [
             [
              0,
              "#0d0887"
             ],
             [
              0.1111111111111111,
              "#46039f"
             ],
             [
              0.2222222222222222,
              "#7201a8"
             ],
             [
              0.3333333333333333,
              "#9c179e"
             ],
             [
              0.4444444444444444,
              "#bd3786"
             ],
             [
              0.5555555555555556,
              "#d8576b"
             ],
             [
              0.6666666666666666,
              "#ed7953"
             ],
             [
              0.7777777777777778,
              "#fb9f3a"
             ],
             [
              0.8888888888888888,
              "#fdca26"
             ],
             [
              1,
              "#f0f921"
             ]
            ],
            "type": "surface"
           }
          ],
          "table": [
           {
            "cells": {
             "fill": {
              "color": "#EBF0F8"
             },
             "line": {
              "color": "white"
             }
            },
            "header": {
             "fill": {
              "color": "#C8D4E3"
             },
             "line": {
              "color": "white"
             }
            },
            "type": "table"
           }
          ]
         },
         "layout": {
          "annotationdefaults": {
           "arrowcolor": "#2a3f5f",
           "arrowhead": 0,
           "arrowwidth": 1
          },
          "autotypenumbers": "strict",
          "coloraxis": {
           "colorbar": {
            "outlinewidth": 0,
            "ticks": ""
           }
          },
          "colorscale": {
           "diverging": [
            [
             0,
             "#8e0152"
            ],
            [
             0.1,
             "#c51b7d"
            ],
            [
             0.2,
             "#de77ae"
            ],
            [
             0.3,
             "#f1b6da"
            ],
            [
             0.4,
             "#fde0ef"
            ],
            [
             0.5,
             "#f7f7f7"
            ],
            [
             0.6,
             "#e6f5d0"
            ],
            [
             0.7,
             "#b8e186"
            ],
            [
             0.8,
             "#7fbc41"
            ],
            [
             0.9,
             "#4d9221"
            ],
            [
             1,
             "#276419"
            ]
           ],
           "sequential": [
            [
             0,
             "#0d0887"
            ],
            [
             0.1111111111111111,
             "#46039f"
            ],
            [
             0.2222222222222222,
             "#7201a8"
            ],
            [
             0.3333333333333333,
             "#9c179e"
            ],
            [
             0.4444444444444444,
             "#bd3786"
            ],
            [
             0.5555555555555556,
             "#d8576b"
            ],
            [
             0.6666666666666666,
             "#ed7953"
            ],
            [
             0.7777777777777778,
             "#fb9f3a"
            ],
            [
             0.8888888888888888,
             "#fdca26"
            ],
            [
             1,
             "#f0f921"
            ]
           ],
           "sequentialminus": [
            [
             0,
             "#0d0887"
            ],
            [
             0.1111111111111111,
             "#46039f"
            ],
            [
             0.2222222222222222,
             "#7201a8"
            ],
            [
             0.3333333333333333,
             "#9c179e"
            ],
            [
             0.4444444444444444,
             "#bd3786"
            ],
            [
             0.5555555555555556,
             "#d8576b"
            ],
            [
             0.6666666666666666,
             "#ed7953"
            ],
            [
             0.7777777777777778,
             "#fb9f3a"
            ],
            [
             0.8888888888888888,
             "#fdca26"
            ],
            [
             1,
             "#f0f921"
            ]
           ]
          },
          "colorway": [
           "#636efa",
           "#EF553B",
           "#00cc96",
           "#ab63fa",
           "#FFA15A",
           "#19d3f3",
           "#FF6692",
           "#B6E880",
           "#FF97FF",
           "#FECB52"
          ],
          "font": {
           "color": "#2a3f5f"
          },
          "geo": {
           "bgcolor": "white",
           "lakecolor": "white",
           "landcolor": "#E5ECF6",
           "showlakes": true,
           "showland": true,
           "subunitcolor": "white"
          },
          "hoverlabel": {
           "align": "left"
          },
          "hovermode": "closest",
          "mapbox": {
           "style": "light"
          },
          "paper_bgcolor": "white",
          "plot_bgcolor": "#E5ECF6",
          "polar": {
           "angularaxis": {
            "gridcolor": "white",
            "linecolor": "white",
            "ticks": ""
           },
           "bgcolor": "#E5ECF6",
           "radialaxis": {
            "gridcolor": "white",
            "linecolor": "white",
            "ticks": ""
           }
          },
          "scene": {
           "xaxis": {
            "backgroundcolor": "#E5ECF6",
            "gridcolor": "white",
            "gridwidth": 2,
            "linecolor": "white",
            "showbackground": true,
            "ticks": "",
            "zerolinecolor": "white"
           },
           "yaxis": {
            "backgroundcolor": "#E5ECF6",
            "gridcolor": "white",
            "gridwidth": 2,
            "linecolor": "white",
            "showbackground": true,
            "ticks": "",
            "zerolinecolor": "white"
           },
           "zaxis": {
            "backgroundcolor": "#E5ECF6",
            "gridcolor": "white",
            "gridwidth": 2,
            "linecolor": "white",
            "showbackground": true,
            "ticks": "",
            "zerolinecolor": "white"
           }
          },
          "shapedefaults": {
           "line": {
            "color": "#2a3f5f"
           }
          },
          "ternary": {
           "aaxis": {
            "gridcolor": "white",
            "linecolor": "white",
            "ticks": ""
           },
           "baxis": {
            "gridcolor": "white",
            "linecolor": "white",
            "ticks": ""
           },
           "bgcolor": "#E5ECF6",
           "caxis": {
            "gridcolor": "white",
            "linecolor": "white",
            "ticks": ""
           }
          },
          "title": {
           "x": 0.05
          },
          "xaxis": {
           "automargin": true,
           "gridcolor": "white",
           "linecolor": "white",
           "ticks": "",
           "title": {
            "standoff": 15
           },
           "zerolinecolor": "white",
           "zerolinewidth": 2
          },
          "yaxis": {
           "automargin": true,
           "gridcolor": "white",
           "linecolor": "white",
           "ticks": "",
           "title": {
            "standoff": 15
           },
           "zerolinecolor": "white",
           "zerolinewidth": 2
          }
         }
        },
        "title": {
         "text": "Error Components Analysis - circle_female"
        },
        "width": 1000,
        "xaxis": {
         "title": {
          "text": "Measurement Index"
         }
        },
        "yaxis": {
         "title": {
          "text": "Error (mm)"
         }
        }
       }
      }
     },
     "metadata": {},
     "output_type": "display_data"
    },
    {
     "name": "stdout",
     "output_type": "stream",
     "text": [
      "\n",
      "--- Error Analysis for Pond Type: circle_male ---\n",
      "   - Number of points in df_pond: 13\n",
      "1. Partial Cancellation of Errors:\n",
      "   - Percentage of points with partial cancellation: 100.00%\n",
      "   - Number of points with partial cancellation: 13\n",
      "\n",
      "2. Cancellation Magnitude:\n",
      "   - Mean cancellation magnitude: 6.37\n",
      "   - Standard deviation of cancellation magnitude: 1.99\n",
      "   - Mean percentage of cancellation magnitude relative to Length_fov(mm): 28.50%\n",
      "   - Standard deviation of relative cancellation magnitude: 8.91%\n",
      "\n",
      "----------------------------------------\n",
      "\n",
      "Correlation between actual error and cancellation: -0.426111911631618\n",
      "\n",
      "3. Dominance of Error Types:\n",
      "   - Number of points where Scale Error is dominant: 4\n",
      "   - Percentage of points where Scale Error is dominant: 30.77%\n",
      "   - Number of points where Pixel Error is dominant: 9\n",
      "   - Percentage of points where Pixel Error is dominant: 69.23%\n"
     ]
    },
    {
     "data": {
      "image/png": "[encoded data removed]",
      "text/plain": [
       "<Figure size 700x600 with 1 Axes>"
      ]
     },
     "metadata": {},
     "output_type": "display_data"
    },
    {
     "data": {
      "application/vnd.plotly.v1+json": {
       "config": {
        "plotlyServerURL": "https://plot.ly"
       },
       "data": [
        {
         "customdata": [
          [
           "carapace:undistorted_GX010089_11_236.jpg_gamma",
           "Prawn_0",
           27.968666666666664,
           23.83967190786355
          ],
          [
           "carapace:undistorted_GX010089_11_236.jpg_gamma",
           "Prawn_1",
           22.925,
           19.38509641605611
          ],
          [
           "carapace:undistorted_GX010089_11_236.jpg_gamma",
           "Prawn_2",
           27.132,
           25.36365238898421
          ],
          [
           "carapace:undistorted_GX010091_5_149.jpg_gamma",
           "Prawn_0",
           19.889666666666667,
           17.55763413780661
          ],
          [
           "carapace:undistorted_GX010091_5_149.jpg_gamma",
           "Prawn_1",
           31.549333333333337,
           26.32169099525633
          ],
          [
           "carapace:undistorted_GX010091_5_149.jpg_gamma",
           "Prawn_2",
           28.17333333333333,
           23.59952845133371
          ],
          [
           "carapace:undistorted_GX010102_9_165.jpg_gamma",
           "Prawn_0",
           27.877,
           28.40337607854461
          ],
          [
           "carapace:undistorted_GX010102_9_165.jpg_gamma",
           "Prawn_2",
           20.31433333333333,
           6.172165823161512
          ],
          [
           "carapace:undistorted_GX010102_9_165.jpg_gamma",
           "Prawn_3",
           19.846666666666668,
           17.53661307324709
          ],
          [
           "carapace:undistorted_GX010102_9_165.jpg_gamma",
           "Prawn_4",
           21.879999999999995,
           20.30684270335733
          ],
          [
           "carapace:undistorted_GX010102_50_1396.jpg_gamma",
           "Prawn_0",
           32.966,
           31.82711707142748
          ],
          [
           "carapace:undistorted_GX010105_28_816.jpg_gamma",
           "Prawn_0",
           19.029,
           18.96652793127783
          ],
          [
           "carapace:undistorted_GX010105_28_816.jpg_gamma",
           "Prawn_1",
           26.55966666666667,
           31.1533472873859
          ]
         ],
         "hovertemplate": "Image: %{customdata[0]}<br>Prawn ID: %{customdata[1]}<br>Mean Length: %{customdata[2]:.1f}mm<br>Model Length: %{customdata[3]:.1f}mm<br>Pixel Error: %{y:.1f}mm<br>Impact: %{customdata[4]:.1f}%<extra></extra>",
         "marker": {
          "color": "#1f77b4"
         },
         "name": "Pixel Error",
         "type": "bar",
         "x": [
          0,
          1,
          2,
          3,
          4,
          5,
          6,
          7,
          8,
          9,
          10,
          11,
          12
         ],
         "y": [
          6.797205536384249,
          5.878613626950323,
          4.317718104580345,
          4.215307061869471,
          7.1830436863387614,
          7.112577634095222,
          3.150483027166091,
          14.858110286370742,
          4.648769073673414,
          4.276978454979132,
          5.768904033113586,
          3.6099667071750012,
          1.3455880130982991
         ]
        },
        {
         "customdata": [
          [
           "carapace:undistorted_GX010089_11_236.jpg_gamma",
           "Prawn_0",
           27.968666666666664,
           23.83967190786355
          ],
          [
           "carapace:undistorted_GX010089_11_236.jpg_gamma",
           "Prawn_1",
           22.925,
           19.38509641605611
          ],
          [
           "carapace:undistorted_GX010089_11_236.jpg_gamma",
           "Prawn_2",
           27.132,
           25.36365238898421
          ],
          [
           "carapace:undistorted_GX010091_5_149.jpg_gamma",
           "Prawn_0",
           19.889666666666667,
           17.55763413780661
          ],
          [
           "carapace:undistorted_GX010091_5_149.jpg_gamma",
           "Prawn_1",
           31.549333333333337,
           26.32169099525633
          ],
          [
           "carapace:undistorted_GX010091_5_149.jpg_gamma",
           "Prawn_2",
           28.17333333333333,
           23.59952845133371
          ],
          [
           "carapace:undistorted_GX010102_9_165.jpg_gamma",
           "Prawn_0",
           27.877,
           28.40337607854461
          ],
          [
           "carapace:undistorted_GX010102_9_165.jpg_gamma",
           "Prawn_2",
           20.31433333333333,
           6.172165823161512
          ],
          [
           "carapace:undistorted_GX010102_9_165.jpg_gamma",
           "Prawn_3",
           19.846666666666668,
           17.53661307324709
          ],
          [
           "carapace:undistorted_GX010102_9_165.jpg_gamma",
           "Prawn_4",
           21.879999999999995,
           20.30684270335733
          ],
          [
           "carapace:undistorted_GX010102_50_1396.jpg_gamma",
           "Prawn_0",
           32.966,
           31.82711707142748
          ],
          [
           "carapace:undistorted_GX010105_28_816.jpg_gamma",
           "Prawn_0",
           19.029,
           18.96652793127783
          ],
          [
           "carapace:undistorted_GX010105_28_816.jpg_gamma",
           "Prawn_1",
           26.55966666666667,
           31.1533472873859
          ]
         ],
         "hovertemplate": "Image: %{customdata[0]}<br>Prawn ID: %{customdata[1]}<br>Mean Length: %{customdata[2]:.1f}mm<br>Model Length: %{customdata[3]:.1f}mm<br>Scale Error: %{y:.1f}mm<br>Impact: %{customdata[4]:.1f}%<extra></extra>",
         "marker": {
          "color": "#ff7f0e"
         },
         "name": "Scale Error",
         "type": "bar",
         "x": [
          0,
          1,
          2,
          3,
          4,
          5,
          6,
          7,
          8,
          9,
          10,
          11,
          12
         ],
         "y": [
          -3.673832572468873,
          -3.161669308880083,
          -3.236713690756371,
          -2.3544002283634007,
          -2.5323455485719975,
          -3.3823966550668567,
          -4.16733554459904,
          -2.73814407079469,
          -3.074163625807003,
          -3.3637311111906976,
          -6.0954688834075235,
          -4.687559465748574,
          -6.487111494274794
         ]
        }
       ],
       "layout": {
        "barmode": "relative",
        "height": 600,
        "showlegend": true,
        "template": {
         "data": {
          "bar": [
           {
            "error_x": {
             "color": "#2a3f5f"
            },
            "error_y": {
             "color": "#2a3f5f"
            },
            "marker": {
             "line": {
              "color": "#E5ECF6",
              "width": 0.5
             },
             "pattern": {
              "fillmode": "overlay",
              "size": 10,
              "solidity": 0.2
             }
            },
            "type": "bar"
           }
          ],
          "barpolar": [
           {
            "marker": {
             "line": {
              "color": "#E5ECF6",
              "width": 0.5
             },
             "pattern": {
              "fillmode": "overlay",
              "size": 10,
              "solidity": 0.2
             }
            },
            "type": "barpolar"
           }
          ],
          "carpet": [
           {
            "aaxis": {
             "endlinecolor": "#2a3f5f",
             "gridcolor": "white",
             "linecolor": "white",
             "minorgridcolor": "white",
             "startlinecolor": "#2a3f5f"
            },
            "baxis": {
             "endlinecolor": "#2a3f5f",
             "gridcolor": "white",
             "linecolor": "white",
             "minorgridcolor": "white",
             "startlinecolor": "#2a3f5f"
            },
            "type": "carpet"
           }
          ],
          "choropleth": [
           {
            "colorbar": {
             "outlinewidth": 0,
             "ticks": ""
            },
            "type": "choropleth"
           }
          ],
          "contour": [
           {
            "colorbar": {
             "outlinewidth": 0,
             "ticks": ""
            },
            "colorscale": [
             [
              0,
              "#0d0887"
             ],
             [
              0.1111111111111111,
              "#46039f"
             ],
             [
              0.2222222222222222,
              "#7201a8"
             ],
             [
              0.3333333333333333,
              "#9c179e"
             ],
             [
              0.4444444444444444,
              "#bd3786"
             ],
             [
              0.5555555555555556,
              "#d8576b"
             ],
             [
              0.6666666666666666,
              "#ed7953"
             ],
             [
              0.7777777777777778,
              "#fb9f3a"
             ],
             [
              0.8888888888888888,
              "#fdca26"
             ],
             [
              1,
              "#f0f921"
             ]
            ],
            "type": "contour"
           }
          ],
          "contourcarpet": [
           {
            "colorbar": {
             "outlinewidth": 0,
             "ticks": ""
            },
            "type": "contourcarpet"
           }
          ],
          "heatmap": [
           {
            "colorbar": {
             "outlinewidth": 0,
             "ticks": ""
            },
            "colorscale": [
             [
              0,
              "#0d0887"
             ],
             [
              0.1111111111111111,
              "#46039f"
             ],
             [
              0.2222222222222222,
              "#7201a8"
             ],
             [
              0.3333333333333333,
              "#9c179e"
             ],
             [
              0.4444444444444444,
              "#bd3786"
             ],
             [
              0.5555555555555556,
              "#d8576b"
             ],
             [
              0.6666666666666666,
              "#ed7953"
             ],
             [
              0.7777777777777778,
              "#fb9f3a"
             ],
             [
              0.8888888888888888,
              "#fdca26"
             ],
             [
              1,
              "#f0f921"
             ]
            ],
            "type": "heatmap"
           }
          ],
          "heatmapgl": [
           {
            "colorbar": {
             "outlinewidth": 0,
             "ticks": ""
            },
            "colorscale": [
             [
              0,
              "#0d0887"
             ],
             [
              0.1111111111111111,
              "#46039f"
             ],
             [
              0.2222222222222222,
              "#7201a8"
             ],
             [
              0.3333333333333333,
              "#9c179e"
             ],
             [
              0.4444444444444444,
              "#bd3786"
             ],
             [
              0.5555555555555556,
              "#d8576b"
             ],
             [
              0.6666666666666666,
              "#ed7953"
             ],
             [
              0.7777777777777778,
              "#fb9f3a"
             ],
             [
              0.8888888888888888,
              "#fdca26"
             ],
             [
              1,
              "#f0f921"
             ]
            ],
            "type": "heatmapgl"
           }
          ],
          "histogram": [
           {
            "marker": {
             "pattern": {
              "fillmode": "overlay",
              "size": 10,
              "solidity": 0.2
             }
            },
            "type": "histogram"
           }
          ],
          "histogram2d": [
           {
            "colorbar": {
             "outlinewidth": 0,
             "ticks": ""
            },
            "colorscale": [
             [
              0,
              "#0d0887"
             ],
             [
              0.1111111111111111,
              "#46039f"
             ],
             [
              0.2222222222222222,
              "#7201a8"
             ],
             [
              0.3333333333333333,
              "#9c179e"
             ],
             [
              0.4444444444444444,
              "#bd3786"
             ],
             [
              0.5555555555555556,
              "#d8576b"
             ],
             [
              0.6666666666666666,
              "#ed7953"
             ],
             [
              0.7777777777777778,
              "#fb9f3a"
             ],
             [
              0.8888888888888888,
              "#fdca26"
             ],
             [
              1,
              "#f0f921"
             ]
            ],
            "type": "histogram2d"
           }
          ],
          "histogram2dcontour": [
           {
            "colorbar": {
             "outlinewidth": 0,
             "ticks": ""
            },
            "colorscale": [
             [
              0,
              "#0d0887"
             ],
             [
              0.1111111111111111,
              "#46039f"
             ],
             [
              0.2222222222222222,
              "#7201a8"
             ],
             [
              0.3333333333333333,
              "#9c179e"
             ],
             [
              0.4444444444444444,
              "#bd3786"
             ],
             [
              0.5555555555555556,
              "#d8576b"
             ],
             [
              0.6666666666666666,
              "#ed7953"
             ],
             [
              0.7777777777777778,
              "#fb9f3a"
             ],
             [
              0.8888888888888888,
              "#fdca26"
             ],
             [
              1,
              "#f0f921"
             ]
            ],
            "type": "histogram2dcontour"
           }
          ],
          "mesh3d": [
           {
            "colorbar": {
             "outlinewidth": 0,
             "ticks": ""
            },
            "type": "mesh3d"
           }
          ],
          "parcoords": [
           {
            "line": {
             "colorbar": {
              "outlinewidth": 0,
              "ticks": ""
             }
            },
            "type": "parcoords"
           }
          ],
          "pie": [
           {
            "automargin": true,
            "type": "pie"
           }
          ],
          "scatter": [
           {
            "fillpattern": {
             "fillmode": "overlay",
             "size": 10,
             "solidity": 0.2
            },
            "type": "scatter"
           }
          ],
          "scatter3d": [
           {
            "line": {
             "colorbar": {
              "outlinewidth": 0,
              "ticks": ""
             }
            },
            "marker": {
             "colorbar": {
              "outlinewidth": 0,
              "ticks": ""
             }
            },
            "type": "scatter3d"
           }
          ],
          "scattercarpet": [
           {
            "marker": {
             "colorbar": {
              "outlinewidth": 0,
              "ticks": ""
             }
            },
            "type": "scattercarpet"
           }
          ],
          "scattergeo": [
           {
            "marker": {
             "colorbar": {
              "outlinewidth": 0,
              "ticks": ""
             }
            },
            "type": "scattergeo"
           }
          ],
          "scattergl": [
           {
            "marker": {
             "colorbar": {
              "outlinewidth": 0,
              "ticks": ""
             }
            },
            "type": "scattergl"
           }
          ],
          "scattermapbox": [
           {
            "marker": {
             "colorbar": {
              "outlinewidth": 0,
              "ticks": ""
             }
            },
            "type": "scattermapbox"
           }
          ],
          "scatterpolar": [
           {
            "marker": {
             "colorbar": {
              "outlinewidth": 0,
              "ticks": ""
             }
            },
            "type": "scatterpolar"
           }
          ],
          "scatterpolargl": [
           {
            "marker": {
             "colorbar": {
              "outlinewidth": 0,
              "ticks": ""
             }
            },
            "type": "scatterpolargl"
           }
          ],
          "scatterternary": [
           {
            "marker": {
             "colorbar": {
              "outlinewidth": 0,
              "ticks": ""
             }
            },
            "type": "scatterternary"
           }
          ],
          "surface": [
           {
            "colorbar": {
             "outlinewidth": 0,
             "ticks": ""
            },
            "colorscale": [
             [
              0,
              "#0d0887"
             ],
             [
              0.1111111111111111,
              "#46039f"
             ],
             [
              0.2222222222222222,
              "#7201a8"
             ],
             [
              0.3333333333333333,
              "#9c179e"
             ],
             [
              0.4444444444444444,
              "#bd3786"
             ],
             [
              0.5555555555555556,
              "#d8576b"
             ],
             [
              0.6666666666666666,
              "#ed7953"
             ],
             [
              0.7777777777777778,
              "#fb9f3a"
             ],
             [
              0.8888888888888888,
              "#fdca26"
             ],
             [
              1,
              "#f0f921"
             ]
            ],
            "type": "surface"
           }
          ],
          "table": [
           {
            "cells": {
             "fill": {
              "color": "#EBF0F8"
             },
             "line": {
              "color": "white"
             }
            },
            "header": {
             "fill": {
              "color": "#C8D4E3"
             },
             "line": {
              "color": "white"
             }
            },
            "type": "table"
           }
          ]
         },
         "layout": {
          "annotationdefaults": {
           "arrowcolor": "#2a3f5f",
           "arrowhead": 0,
           "arrowwidth": 1
          },
          "autotypenumbers": "strict",
          "coloraxis": {
           "colorbar": {
            "outlinewidth": 0,
            "ticks": ""
           }
          },
          "colorscale": {
           "diverging": [
            [
             0,
             "#8e0152"
            ],
            [
             0.1,
             "#c51b7d"
            ],
            [
             0.2,
             "#de77ae"
            ],
            [
             0.3,
             "#f1b6da"
            ],
            [
             0.4,
             "#fde0ef"
            ],
            [
             0.5,
             "#f7f7f7"
            ],
            [
             0.6,
             "#e6f5d0"
            ],
            [
             0.7,
             "#b8e186"
            ],
            [
             0.8,
             "#7fbc41"
            ],
            [
             0.9,
             "#4d9221"
            ],
            [
             1,
             "#276419"
            ]
           ],
           "sequential": [
            [
             0,
             "#0d0887"
            ],
            [
             0.1111111111111111,
             "#46039f"
            ],
            [
             0.2222222222222222,
             "#7201a8"
            ],
            [
             0.3333333333333333,
             "#9c179e"
            ],
            [
             0.4444444444444444,
             "#bd3786"
            ],
            [
             0.5555555555555556,
             "#d8576b"
            ],
            [
             0.6666666666666666,
             "#ed7953"
            ],
            [
             0.7777777777777778,
             "#fb9f3a"
            ],
            [
             0.8888888888888888,
             "#fdca26"
            ],
            [
             1,
             "#f0f921"
            ]
           ],
           "sequentialminus": [
            [
             0,
             "#0d0887"
            ],
            [
             0.1111111111111111,
             "#46039f"
            ],
            [
             0.2222222222222222,
             "#7201a8"
            ],
            [
             0.3333333333333333,
             "#9c179e"
            ],
            [
             0.4444444444444444,
             "#bd3786"
            ],
            [
             0.5555555555555556,
             "#d8576b"
            ],
            [
             0.6666666666666666,
             "#ed7953"
            ],
            [
             0.7777777777777778,
             "#fb9f3a"
            ],
            [
             0.8888888888888888,
             "#fdca26"
            ],
            [
             1,
             "#f0f921"
            ]
           ]
          },
          "colorway": [
           "#636efa",
           "#EF553B",
           "#00cc96",
           "#ab63fa",
           "#FFA15A",
           "#19d3f3",
           "#FF6692",
           "#B6E880",
           "#FF97FF",
           "#FECB52"
          ],
          "font": {
           "color": "#2a3f5f"
          },
          "geo": {
           "bgcolor": "white",
           "lakecolor": "white",
           "landcolor": "#E5ECF6",
           "showlakes": true,
           "showland": true,
           "subunitcolor": "white"
          },
          "hoverlabel": {
           "align": "left"
          },
          "hovermode": "closest",
          "mapbox": {
           "style": "light"
          },
          "paper_bgcolor": "white",
          "plot_bgcolor": "#E5ECF6",
          "polar": {
           "angularaxis": {
            "gridcolor": "white",
            "linecolor": "white",
            "ticks": ""
           },
           "bgcolor": "#E5ECF6",
           "radialaxis": {
            "gridcolor": "white",
            "linecolor": "white",
            "ticks": ""
           }
          },
          "scene": {
           "xaxis": {
            "backgroundcolor": "#E5ECF6",
            "gridcolor": "white",
            "gridwidth": 2,
            "linecolor": "white",
            "showbackground": true,
            "ticks": "",
            "zerolinecolor": "white"
           },
           "yaxis": {
            "backgroundcolor": "#E5ECF6",
            "gridcolor": "white",
            "gridwidth": 2,
            "linecolor": "white",
            "showbackground": true,
            "ticks": "",
            "zerolinecolor": "white"
           },
           "zaxis": {
            "backgroundcolor": "#E5ECF6",
            "gridcolor": "white",
            "gridwidth": 2,
            "linecolor": "white",
            "showbackground": true,
            "ticks": "",
            "zerolinecolor": "white"
           }
          },
          "shapedefaults": {
           "line": {
            "color": "#2a3f5f"
           }
          },
          "ternary": {
           "aaxis": {
            "gridcolor": "white",
            "linecolor": "white",
            "ticks": ""
           },
           "baxis": {
            "gridcolor": "white",
            "linecolor": "white",
            "ticks": ""
           },
           "bgcolor": "#E5ECF6",
           "caxis": {
            "gridcolor": "white",
            "linecolor": "white",
            "ticks": ""
           }
          },
          "title": {
           "x": 0.05
          },
          "xaxis": {
           "automargin": true,
           "gridcolor": "white",
           "linecolor": "white",
           "ticks": "",
           "title": {
            "standoff": 15
           },
           "zerolinecolor": "white",
           "zerolinewidth": 2
          },
          "yaxis": {
           "automargin": true,
           "gridcolor": "white",
           "linecolor": "white",
           "ticks": "",
           "title": {
            "standoff": 15
           },
           "zerolinecolor": "white",
           "zerolinewidth": 2
          }
         }
        },
        "title": {
         "text": "Error Components Analysis - circle_male"
        },
        "width": 1000,
        "xaxis": {
         "title": {
          "text": "Measurement Index"
         }
        },
        "yaxis": {
         "title": {
          "text": "Error (mm)"
         }
        }
       }
      }
     },
     "metadata": {},
     "output_type": "display_data"
    },
    {
     "name": "stdout",
     "output_type": "stream",
     "text": [
      "\n",
      "--- Error Analysis for Pond Type: square ---\n",
      "   - Number of points in df_pond: 32\n",
      "1. Partial Cancellation of Errors:\n",
      "   - Percentage of points with partial cancellation: 40.62%\n",
      "   - Number of points with partial cancellation: 13\n",
      "\n",
      "2. Cancellation Magnitude:\n",
      "   - Mean cancellation magnitude: 4.59\n",
      "   - Standard deviation of cancellation magnitude: 2.94\n",
      "   - Mean percentage of cancellation magnitude relative to Length_fov(mm): 15.63%\n",
      "   - Standard deviation of relative cancellation magnitude: 10.02%\n",
      "\n",
      "----------------------------------------\n",
      "\n",
      "Correlation between actual error and cancellation: 0.25475539906390093\n",
      "\n",
      "3. Dominance of Error Types:\n",
      "   - Number of points where Scale Error is dominant: 2\n",
      "   - Percentage of points where Scale Error is dominant: 6.25%\n",
      "   - Number of points where Pixel Error is dominant: 30\n",
      "   - Percentage of points where Pixel Error is dominant: 93.75%\n"
     ]
    },
    {
     "data": {
      "image/png": "[encoded data removed]",
      "text/plain": [
       "<Figure size 700x600 with 1 Axes>"
      ]
     },
     "metadata": {},
     "output_type": "display_data"
    },
    {
     "data": {
      "application/vnd.plotly.v1+json": {
       "config": {
        "plotlyServerURL": "https://plot.ly"
       },
       "data": [
        {
         "customdata": [
          [
           "carapace:undistorted_GX010152_36_378.jpg_gamma",
           "Prawn_1",
           41.07966666666667,
           27.80983346709722
          ],
          [
           "carapace:undistorted_GX010152_36_378.jpg_gamma",
           "Prawn_2",
           42.725,
           27.2374528768851
          ],
          [
           "carapace:undistorted_GX010157_68_883",
           "Prawn_0",
           32.98833333333334,
           23.9135019266164
          ],
          [
           "carapace:undistorted_GX010157_160_2259",
           "Prawn_0",
           31.28533333333333,
           24.87274325304476
          ],
          [
           "carapace:undistorted_GX010157_174_2582.jpg_gamma",
           "Prawn_0",
           38.113,
           24.83644625759206
          ],
          [
           "carapace:undistorted_GX010157_177_2665.jpg_gamma",
           "Prawn_0",
           37.30433333333333,
           27.7820419233597
          ],
          [
           "carapace:undistorted_GX010161_54_676.jpg_gamma.jpg_gamma",
           "Prawn_0",
           33.285333333333334,
           29.20602533444568
          ],
          [
           "carapace:undistorted_GX010161_136_2267.jpg_gamma.jpg_gamma",
           "Prawn_0",
           47.38733333333334,
           25.46631530481042
          ],
          [
           "carapace:undistorted_GX010162_72_927.jpg_gamma.jpg_gamma",
           "Prawn_0",
           26.892666666666667,
           23.28591420849031
          ],
          [
           "carapace:undistorted_GX010169_121_1249",
           "Prawn_0",
           35.57933333333333,
           27.45241113816892
          ],
          [
           "carapace:undistorted_GX010174_62_790.jpg_gamma",
           "Prawn_0",
           37.70966666666667,
           30.32908626941265
          ],
          [
           "carapace:undistorted_GX010174_104_1236",
           "Prawn_0",
           32.34433333333333,
           26.43468208053814
          ],
          [
           "carapace:undistorted_GX010175_82_852.jpg_gamma",
           "Prawn_0",
           34.63733333333333,
           27.52157865054213
          ],
          [
           "carapace:undistorted_GX010175_215_2644.jpg_gamma",
           "Prawn_0",
           43.782,
           25.93952568911244
          ],
          [
           "carapace:undistorted_GX010175_266_3372.jpg_gamma.jpg_gamma",
           "Prawn_0",
           32.26466666666667,
           31.26966213883439
          ],
          [
           "carapace:undistorted_GX010177_232_3047",
           "Prawn_0",
           38.13666666666666,
           30.25036876686566
          ],
          [
           "carapace:undistorted_GX010178_107_2118",
           "Prawn_0",
           33.587999999999994,
           25.68363476785836
          ],
          [
           "carapace:undistorted_GX010178_107_2118",
           "Prawn_1",
           35.447,
           31.6247293056771
          ],
          [
           "carapace:undistorted_GX010178_114_2258",
           "Prawn_0",
           50.45366666666666,
           42.88724026804254
          ],
          [
           "carapace:undistorted_GX010178_172_3604.jpg_gamma",
           "Prawn_0",
           46.63933333333333,
           34.89597680318909
          ],
          [
           "carapace:undistorted_GX010178_189_3987.jpg_gamma",
           "Prawn_0",
           37.25899999999999,
           28.68662359531841
          ],
          [
           "carapace:undistorted_GX010178_189_3987.jpg_gamma",
           "Prawn_1",
           42.73233333333334,
           34.80647652102144
          ],
          [
           "carapace:undistorted_GX010179_88_1697.jpg_gamma",
           "Prawn_0",
           34.012,
           37.4047759871929
          ],
          [
           "carapace:undistorted_GX010180_91_1563",
           "Prawn_0",
           33.507,
           30.95143229563158
          ],
          [
           "carapace:undistorted_GX010180_99_1788",
           "Prawn_0",
           35.41566666666667,
           32.25234387288427
          ],
          [
           "carapace:undistorted_GX010181_101_1542",
           "Prawn_0",
           36.15233333333333,
           35.83906119716944
          ],
          [
           "carapace:undistorted_GX010183_37_685.jpg_gamma",
           "Prawn_1",
           26.575666666666667,
           23.3050865281126
          ],
          [
           "carapace:undistorted_GX010183_37_685.jpg_gamma",
           "Prawn_2",
           39.201,
           24.53919118304509
          ],
          [
           "carapace:undistorted_GX010183_80_1633.jpg_gamma",
           "Prawn_0",
           39.565333333333335,
           33.22797780556161
          ],
          [
           "carapace:undistorted_GX010183_80_1633.jpg_gamma",
           "Prawn_1",
           35.72666666666667,
           33.22797780556161
          ],
          [
           "carapace:undistorted_GX010183_128_2852.jpg_gamma",
           "Prawn_0",
           32.74633333333333,
           31.91815846556789
          ],
          [
           "carapace:undistorted_GX010183_128_2852.jpg_gamma",
           "Prawn_1",
           28.57433333333333,
           24.85666633499299
          ]
         ],
         "hovertemplate": "Image: %{customdata[0]}<br>Prawn ID: %{customdata[1]}<br>Mean Length: %{customdata[2]:.1f}mm<br>Model Length: %{customdata[3]:.1f}mm<br>Pixel Error: %{y:.1f}mm<br>Impact: %{customdata[4]:.1f}%<extra></extra>",
         "marker": {
          "color": "#1f77b4"
         },
         "name": "Pixel Error",
         "type": "bar",
         "x": [
          0,
          1,
          2,
          3,
          4,
          5,
          6,
          7,
          8,
          9,
          10,
          11,
          12,
          13,
          14,
          15,
          16,
          17,
          18,
          19,
          20,
          21,
          22,
          23,
          24,
          25,
          26,
          27,
          28,
          29,
          30,
          31
         ],
         "y": [
          8.382309174825705,
          11.755245176266191,
          5.189168046625287,
          3.6265222113979685,
          10.524755083216363,
          5.653513929108684,
          4.549319081184679,
          19.427112962231188,
          2.5440320820316535,
          7.298986849284121,
          6.081864589969674,
          5.449671863921926,
          1.7477537522777213,
          11.266700545215127,
          1.7527722568186062,
          9.964427974929423,
          10.71267040085055,
          7.13619905900404,
          5.068298567583093,
          8.424404160321018,
          7.851214174918734,
          6.931264699832177,
          2.660404167775763,
          6.577661664243378,
          4.312860803275785,
          1.9845841250013474,
          2.410856114208942,
          13.257693749210366,
          7.98647404839116,
          4.18162026898213,
          1.5527456069384507,
          4.346535479355298
         ]
        },
        {
         "customdata": [
          [
           "carapace:undistorted_GX010152_36_378.jpg_gamma",
           "Prawn_1",
           41.07966666666667,
           27.80983346709722
          ],
          [
           "carapace:undistorted_GX010152_36_378.jpg_gamma",
           "Prawn_2",
           42.725,
           27.2374528768851
          ],
          [
           "carapace:undistorted_GX010157_68_883",
           "Prawn_0",
           32.98833333333334,
           23.9135019266164
          ],
          [
           "carapace:undistorted_GX010157_160_2259",
           "Prawn_0",
           31.28533333333333,
           24.87274325304476
          ],
          [
           "carapace:undistorted_GX010157_174_2582.jpg_gamma",
           "Prawn_0",
           38.113,
           24.83644625759206
          ],
          [
           "carapace:undistorted_GX010157_177_2665.jpg_gamma",
           "Prawn_0",
           37.30433333333333,
           27.7820419233597
          ],
          [
           "carapace:undistorted_GX010161_54_676.jpg_gamma.jpg_gamma",
           "Prawn_0",
           33.285333333333334,
           29.20602533444568
          ],
          [
           "carapace:undistorted_GX010161_136_2267.jpg_gamma.jpg_gamma",
           "Prawn_0",
           47.38733333333334,
           25.46631530481042
          ],
          [
           "carapace:undistorted_GX010162_72_927.jpg_gamma.jpg_gamma",
           "Prawn_0",
           26.892666666666667,
           23.28591420849031
          ],
          [
           "carapace:undistorted_GX010169_121_1249",
           "Prawn_0",
           35.57933333333333,
           27.45241113816892
          ],
          [
           "carapace:undistorted_GX010174_62_790.jpg_gamma",
           "Prawn_0",
           37.70966666666667,
           30.32908626941265
          ],
          [
           "carapace:undistorted_GX010174_104_1236",
           "Prawn_0",
           32.34433333333333,
           26.43468208053814
          ],
          [
           "carapace:undistorted_GX010175_82_852.jpg_gamma",
           "Prawn_0",
           34.63733333333333,
           27.52157865054213
          ],
          [
           "carapace:undistorted_GX010175_215_2644.jpg_gamma",
           "Prawn_0",
           43.782,
           25.93952568911244
          ],
          [
           "carapace:undistorted_GX010175_266_3372.jpg_gamma.jpg_gamma",
           "Prawn_0",
           32.26466666666667,
           31.26966213883439
          ],
          [
           "carapace:undistorted_GX010177_232_3047",
           "Prawn_0",
           38.13666666666666,
           30.25036876686566
          ],
          [
           "carapace:undistorted_GX010178_107_2118",
           "Prawn_0",
           33.587999999999994,
           25.68363476785836
          ],
          [
           "carapace:undistorted_GX010178_107_2118",
           "Prawn_1",
           35.447,
           31.6247293056771
          ],
          [
           "carapace:undistorted_GX010178_114_2258",
           "Prawn_0",
           50.45366666666666,
           42.88724026804254
          ],
          [
           "carapace:undistorted_GX010178_172_3604.jpg_gamma",
           "Prawn_0",
           46.63933333333333,
           34.89597680318909
          ],
          [
           "carapace:undistorted_GX010178_189_3987.jpg_gamma",
           "Prawn_0",
           37.25899999999999,
           28.68662359531841
          ],
          [
           "carapace:undistorted_GX010178_189_3987.jpg_gamma",
           "Prawn_1",
           42.73233333333334,
           34.80647652102144
          ],
          [
           "carapace:undistorted_GX010179_88_1697.jpg_gamma",
           "Prawn_0",
           34.012,
           37.4047759871929
          ],
          [
           "carapace:undistorted_GX010180_91_1563",
           "Prawn_0",
           33.507,
           30.95143229563158
          ],
          [
           "carapace:undistorted_GX010180_99_1788",
           "Prawn_0",
           35.41566666666667,
           32.25234387288427
          ],
          [
           "carapace:undistorted_GX010181_101_1542",
           "Prawn_0",
           36.15233333333333,
           35.83906119716944
          ],
          [
           "carapace:undistorted_GX010183_37_685.jpg_gamma",
           "Prawn_1",
           26.575666666666667,
           23.3050865281126
          ],
          [
           "carapace:undistorted_GX010183_37_685.jpg_gamma",
           "Prawn_2",
           39.201,
           24.53919118304509
          ],
          [
           "carapace:undistorted_GX010183_80_1633.jpg_gamma",
           "Prawn_0",
           39.565333333333335,
           33.22797780556161
          ],
          [
           "carapace:undistorted_GX010183_80_1633.jpg_gamma",
           "Prawn_1",
           35.72666666666667,
           33.22797780556161
          ],
          [
           "carapace:undistorted_GX010183_128_2852.jpg_gamma",
           "Prawn_0",
           32.74633333333333,
           31.91815846556789
          ],
          [
           "carapace:undistorted_GX010183_128_2852.jpg_gamma",
           "Prawn_1",
           28.57433333333333,
           24.85666633499299
          ]
         ],
         "hovertemplate": "Image: %{customdata[0]}<br>Prawn ID: %{customdata[1]}<br>Mean Length: %{customdata[2]:.1f}mm<br>Model Length: %{customdata[3]:.1f}mm<br>Scale Error: %{y:.1f}mm<br>Impact: %{customdata[4]:.1f}%<extra></extra>",
         "marker": {
          "color": "#ff7f0e"
         },
         "name": "Scale Error",
         "type": "bar",
         "x": [
          0,
          1,
          2,
          3,
          4,
          5,
          6,
          7,
          8,
          9,
          10,
          11,
          12,
          13,
          14,
          15,
          16,
          17,
          18,
          19,
          20,
          21,
          22,
          23,
          24,
          25,
          26,
          27,
          28,
          29,
          30,
          31
         ],
         "y": [
          6.037783595003038,
          5.276962393186894,
          4.538936824138337,
          3.1152533252749306,
          3.7827689516911795,
          4.464815067237443,
          -0.5645963648792408,
          4.010044959617763,
          1.1194975729703298,
          0.9700791774302906,
          1.5317920025003828,
          0.19982047404190847,
          5.5605713350069035,
          8.62093964068252,
          -1.2246965045421712,
          -2.856399489122497,
          -4.411877546294775,
          -4.174568616341447,
          2.5837568373178565,
          4.020901622697726,
          0.8643826394821564,
          1.1222153486455104,
          -6.710322000976969,
          -5.067545582839243,
          -1.3495746897462864,
          -1.8728204674105997,
          0.9289729205172554,
          2.0896304979184235,
          -2.112970026130919,
          -1.9095835225322868,
          -0.7896026016057589,
          -0.8321734229486794
         ]
        }
       ],
       "layout": {
        "barmode": "relative",
        "height": 600,
        "showlegend": true,
        "template": {
         "data": {
          "bar": [
           {
            "error_x": {
             "color": "#2a3f5f"
            },
            "error_y": {
             "color": "#2a3f5f"
            },
            "marker": {
             "line": {
              "color": "#E5ECF6",
              "width": 0.5
             },
             "pattern": {
              "fillmode": "overlay",
              "size": 10,
              "solidity": 0.2
             }
            },
            "type": "bar"
           }
          ],
          "barpolar": [
           {
            "marker": {
             "line": {
              "color": "#E5ECF6",
              "width": 0.5
             },
             "pattern": {
              "fillmode": "overlay",
              "size": 10,
              "solidity": 0.2
             }
            },
            "type": "barpolar"
           }
          ],
          "carpet": [
           {
            "aaxis": {
             "endlinecolor": "#2a3f5f",
             "gridcolor": "white",
             "linecolor": "white",
             "minorgridcolor": "white",
             "startlinecolor": "#2a3f5f"
            },
            "baxis": {
             "endlinecolor": "#2a3f5f",
             "gridcolor": "white",
             "linecolor": "white",
             "minorgridcolor": "white",
             "startlinecolor": "#2a3f5f"
            },
            "type": "carpet"
           }
          ],
          "choropleth": [
           {
            "colorbar": {
             "outlinewidth": 0,
             "ticks": ""
            },
            "type": "choropleth"
           }
          ],
          "contour": [
           {
            "colorbar": {
             "outlinewidth": 0,
             "ticks": ""
            },
            "colorscale": [
             [
              0,
              "#0d0887"
             ],
             [
              0.1111111111111111,
              "#46039f"
             ],
             [
              0.2222222222222222,
              "#7201a8"
             ],
             [
              0.3333333333333333,
              "#9c179e"
             ],
             [
              0.4444444444444444,
              "#bd3786"
             ],
             [
              0.5555555555555556,
              "#d8576b"
             ],
             [
              0.6666666666666666,
              "#ed7953"
             ],
             [
              0.7777777777777778,
              "#fb9f3a"
             ],
             [
              0.8888888888888888,
              "#fdca26"
             ],
             [
              1,
              "#f0f921"
             ]
            ],
            "type": "contour"
           }
          ],
          "contourcarpet": [
           {
            "colorbar": {
             "outlinewidth": 0,
             "ticks": ""
            },
            "type": "contourcarpet"
           }
          ],
          "heatmap": [
           {
            "colorbar": {
             "outlinewidth": 0,
             "ticks": ""
            },
            "colorscale": [
             [
              0,
              "#0d0887"
             ],
             [
              0.1111111111111111,
              "#46039f"
             ],
             [
              0.2222222222222222,
              "#7201a8"
             ],
             [
              0.3333333333333333,
              "#9c179e"
             ],
             [
              0.4444444444444444,
              "#bd3786"
             ],
             [
              0.5555555555555556,
              "#d8576b"
             ],
             [
              0.6666666666666666,
              "#ed7953"
             ],
             [
              0.7777777777777778,
              "#fb9f3a"
             ],
             [
              0.8888888888888888,
              "#fdca26"
             ],
             [
              1,
              "#f0f921"
             ]
            ],
            "type": "heatmap"
           }
          ],
          "heatmapgl": [
           {
            "colorbar": {
             "outlinewidth": 0,
             "ticks": ""
            },
            "colorscale": [
             [
              0,
              "#0d0887"
             ],
             [
              0.1111111111111111,
              "#46039f"
             ],
             [
              0.2222222222222222,
              "#7201a8"
             ],
             [
              0.3333333333333333,
              "#9c179e"
             ],
             [
              0.4444444444444444,
              "#bd3786"
             ],
             [
              0.5555555555555556,
              "#d8576b"
             ],
             [
              0.6666666666666666,
              "#ed7953"
             ],
             [
              0.7777777777777778,
              "#fb9f3a"
             ],
             [
              0.8888888888888888,
              "#fdca26"
             ],
             [
              1,
              "#f0f921"
             ]
            ],
            "type": "heatmapgl"
           }
          ],
          "histogram": [
           {
            "marker": {
             "pattern": {
              "fillmode": "overlay",
              "size": 10,
              "solidity": 0.2
             }
            },
            "type": "histogram"
           }
          ],
          "histogram2d": [
           {
            "colorbar": {
             "outlinewidth": 0,
             "ticks": ""
            },
            "colorscale": [
             [
              0,
              "#0d0887"
             ],
             [
              0.1111111111111111,
              "#46039f"
             ],
             [
              0.2222222222222222,
              "#7201a8"
             ],
             [
              0.3333333333333333,
              "#9c179e"
             ],
             [
              0.4444444444444444,
              "#bd3786"
             ],
             [
              0.5555555555555556,
              "#d8576b"
             ],
             [
              0.6666666666666666,
              "#ed7953"
             ],
             [
              0.7777777777777778,
              "#fb9f3a"
             ],
             [
              0.8888888888888888,
              "#fdca26"
             ],
             [
              1,
              "#f0f921"
             ]
            ],
            "type": "histogram2d"
           }
          ],
          "histogram2dcontour": [
           {
            "colorbar": {
             "outlinewidth": 0,
             "ticks": ""
            },
            "colorscale": [
             [
              0,
              "#0d0887"
             ],
             [
              0.1111111111111111,
              "#46039f"
             ],
             [
              0.2222222222222222,
              "#7201a8"
             ],
             [
              0.3333333333333333,
              "#9c179e"
             ],
             [
              0.4444444444444444,
              "#bd3786"
             ],
             [
              0.5555555555555556,
              "#d8576b"
             ],
             [
              0.6666666666666666,
              "#ed7953"
             ],
             [
              0.7777777777777778,
              "#fb9f3a"
             ],
             [
              0.8888888888888888,
              "#fdca26"
             ],
             [
              1,
              "#f0f921"
             ]
            ],
            "type": "histogram2dcontour"
           }
          ],
          "mesh3d": [
           {
            "colorbar": {
             "outlinewidth": 0,
             "ticks": ""
            },
            "type": "mesh3d"
           }
          ],
          "parcoords": [
           {
            "line": {
             "colorbar": {
              "outlinewidth": 0,
              "ticks": ""
             }
            },
            "type": "parcoords"
           }
          ],
          "pie": [
           {
            "automargin": true,
            "type": "pie"
           }
          ],
          "scatter": [
           {
            "fillpattern": {
             "fillmode": "overlay",
             "size": 10,
             "solidity": 0.2
            },
            "type": "scatter"
           }
          ],
          "scatter3d": [
           {
            "line": {
             "colorbar": {
              "outlinewidth": 0,
              "ticks": ""
             }
            },
            "marker": {
             "colorbar": {
              "outlinewidth": 0,
              "ticks": ""
             }
            },
            "type": "scatter3d"
           }
          ],
          "scattercarpet": [
           {
            "marker": {
             "colorbar": {
              "outlinewidth": 0,
              "ticks": ""
             }
            },
            "type": "scattercarpet"
           }
          ],
          "scattergeo": [
           {
            "marker": {
             "colorbar": {
              "outlinewidth": 0,
              "ticks": ""
             }
            },
            "type": "scattergeo"
           }
          ],
          "scattergl": [
           {
            "marker": {
             "colorbar": {
              "outlinewidth": 0,
              "ticks": ""
             }
            },
            "type": "scattergl"
           }
          ],
          "scattermapbox": [
           {
            "marker": {
             "colorbar": {
              "outlinewidth": 0,
              "ticks": ""
             }
            },
            "type": "scattermapbox"
           }
          ],
          "scatterpolar": [
           {
            "marker": {
             "colorbar": {
              "outlinewidth": 0,
              "ticks": ""
             }
            },
            "type": "scatterpolar"
           }
          ],
          "scatterpolargl": [
           {
            "marker": {
             "colorbar": {
              "outlinewidth": 0,
              "ticks": ""
             }
            },
            "type": "scatterpolargl"
           }
          ],
          "scatterternary": [
           {
            "marker": {
             "colorbar": {
              "outlinewidth": 0,
              "ticks": ""
             }
            },
            "type": "scatterternary"
           }
          ],
          "surface": [
           {
            "colorbar": {
             "outlinewidth": 0,
             "ticks": ""
            },
            "colorscale": [
             [
              0,
              "#0d0887"
             ],
             [
              0.1111111111111111,
              "#46039f"
             ],
             [
              0.2222222222222222,
              "#7201a8"
             ],
             [
              0.3333333333333333,
              "#9c179e"
             ],
             [
              0.4444444444444444,
              "#bd3786"
             ],
             [
              0.5555555555555556,
              "#d8576b"
             ],
             [
              0.6666666666666666,
              "#ed7953"
             ],
             [
              0.7777777777777778,
              "#fb9f3a"
             ],
             [
              0.8888888888888888,
              "#fdca26"
             ],
             [
              1,
              "#f0f921"
             ]
            ],
            "type": "surface"
           }
          ],
          "table": [
           {
            "cells": {
             "fill": {
              "color": "#EBF0F8"
             },
             "line": {
              "color": "white"
             }
            },
            "header": {
             "fill": {
              "color": "#C8D4E3"
             },
             "line": {
              "color": "white"
             }
            },
            "type": "table"
           }
          ]
         },
         "layout": {
          "annotationdefaults": {
           "arrowcolor": "#2a3f5f",
           "arrowhead": 0,
           "arrowwidth": 1
          },
          "autotypenumbers": "strict",
          "coloraxis": {
           "colorbar": {
            "outlinewidth": 0,
            "ticks": ""
           }
          },
          "colorscale": {
           "diverging": [
            [
             0,
             "#8e0152"
            ],
            [
             0.1,
             "#c51b7d"
            ],
            [
             0.2,
             "#de77ae"
            ],
            [
             0.3,
             "#f1b6da"
            ],
            [
             0.4,
             "#fde0ef"
            ],
            [
             0.5,
             "#f7f7f7"
            ],
            [
             0.6,
             "#e6f5d0"
            ],
            [
             0.7,
             "#b8e186"
            ],
            [
             0.8,
             "#7fbc41"
            ],
            [
             0.9,
             "#4d9221"
            ],
            [
             1,
             "#276419"
            ]
           ],
           "sequential": [
            [
             0,
             "#0d0887"
            ],
            [
             0.1111111111111111,
             "#46039f"
            ],
            [
             0.2222222222222222,
             "#7201a8"
            ],
            [
             0.3333333333333333,
             "#9c179e"
            ],
            [
             0.4444444444444444,
             "#bd3786"
            ],
            [
             0.5555555555555556,
             "#d8576b"
            ],
            [
             0.6666666666666666,
             "#ed7953"
            ],
            [
             0.7777777777777778,
             "#fb9f3a"
            ],
            [
             0.8888888888888888,
             "#fdca26"
            ],
            [
             1,
             "#f0f921"
            ]
           ],
           "sequentialminus": [
            [
             0,
             "#0d0887"
            ],
            [
             0.1111111111111111,
             "#46039f"
            ],
            [
             0.2222222222222222,
             "#7201a8"
            ],
            [
             0.3333333333333333,
             "#9c179e"
            ],
            [
             0.4444444444444444,
             "#bd3786"
            ],
            [
             0.5555555555555556,
             "#d8576b"
            ],
            [
             0.6666666666666666,
             "#ed7953"
            ],
            [
             0.7777777777777778,
             "#fb9f3a"
            ],
            [
             0.8888888888888888,
             "#fdca26"
            ],
            [
             1,
             "#f0f921"
            ]
           ]
          },
          "colorway": [
           "#636efa",
           "#EF553B",
           "#00cc96",
           "#ab63fa",
           "#FFA15A",
           "#19d3f3",
           "#FF6692",
           "#B6E880",
           "#FF97FF",
           "#FECB52"
          ],
          "font": {
           "color": "#2a3f5f"
          },
          "geo": {
           "bgcolor": "white",
           "lakecolor": "white",
           "landcolor": "#E5ECF6",
           "showlakes": true,
           "showland": true,
           "subunitcolor": "white"
          },
          "hoverlabel": {
           "align": "left"
          },
          "hovermode": "closest",
          "mapbox": {
           "style": "light"
          },
          "paper_bgcolor": "white",
          "plot_bgcolor": "#E5ECF6",
          "polar": {
           "angularaxis": {
            "gridcolor": "white",
            "linecolor": "white",
            "ticks": ""
           },
           "bgcolor": "#E5ECF6",
           "radialaxis": {
            "gridcolor": "white",
            "linecolor": "white",
            "ticks": ""
           }
          },
          "scene": {
           "xaxis": {
            "backgroundcolor": "#E5ECF6",
            "gridcolor": "white",
            "gridwidth": 2,
            "linecolor": "white",
            "showbackground": true,
            "ticks": "",
            "zerolinecolor": "white"
           },
           "yaxis": {
            "backgroundcolor": "#E5ECF6",
            "gridcolor": "white",
            "gridwidth": 2,
            "linecolor": "white",
            "showbackground": true,
            "ticks": "",
            "zerolinecolor": "white"
           },
           "zaxis": {
            "backgroundcolor": "#E5ECF6",
            "gridcolor": "white",
            "gridwidth": 2,
            "linecolor": "white",
            "showbackground": true,
            "ticks": "",
            "zerolinecolor": "white"
           }
          },
          "shapedefaults": {
           "line": {
            "color": "#2a3f5f"
           }
          },
          "ternary": {
           "aaxis": {
            "gridcolor": "white",
            "linecolor": "white",
            "ticks": ""
           },
           "baxis": {
            "gridcolor": "white",
            "linecolor": "white",
            "ticks": ""
           },
           "bgcolor": "#E5ECF6",
           "caxis": {
            "gridcolor": "white",
            "linecolor": "white",
            "ticks": ""
           }
          },
          "title": {
           "x": 0.05
          },
          "xaxis": {
           "automargin": true,
           "gridcolor": "white",
           "linecolor": "white",
           "ticks": "",
           "title": {
            "standoff": 15
           },
           "zerolinecolor": "white",
           "zerolinewidth": 2
          },
          "yaxis": {
           "automargin": true,
           "gridcolor": "white",
           "linecolor": "white",
           "ticks": "",
           "title": {
            "standoff": 15
           },
           "zerolinecolor": "white",
           "zerolinewidth": 2
          }
         }
        },
        "title": {
         "text": "Error Components Analysis - square"
        },
        "width": 1000,
        "xaxis": {
         "title": {
          "text": "Measurement Index"
         }
        },
        "yaxis": {
         "title": {
          "text": "Error (mm)"
         }
        }
       }
      }
     },
     "metadata": {},
     "output_type": "display_data"
    }
   ],
   "source": [
    "for pond_type in df['Pond_Type'].unique():\n",
    "    df_pond = df[df['Pond_Type'] == pond_type]\n",
    "    #reset index\n",
    "    df_pond = df_pond.reset_index(drop=True)\n",
    "    df_pond['pixel_error_mm'] = (df_pond['mean_pixels'] - df_pond['pred_Distance_pixels']) * (1/df_pond['mean_scale']) * 10\n",
    "    df_pond['scale_error_mm'] = df_pond['mean_pixels'] * (1/df_pond['mean_scale'] - 1/df_pond['pred_scale']) * 10\n",
    "    partial_cancel_mask_all = (df_pond['pixel_error_mm'] * df_pond['scale_error_mm'] < 0)\n",
    "    percent_partial_cancel_all = 100 * partial_cancel_mask_all.sum() / len(df_pond) if len(df_pond) > 0 else 0\n",
    "    print(\"\\n--- Error Analysis for Pond Type: {} ---\".format(pond_type))\n",
    "    #print number of points in df_pond\n",
    "    print(\"   - Number of points in df_pond: {}\".format(len(df_pond)))\n",
    "    print(\"1. Partial Cancellation of Errors:\")\n",
    "    print(\"   - Percentage of points with partial cancellation: {:.2f}%\".format(percent_partial_cancel_all))\n",
    "    num_partial_cancel_all = partial_cancel_mask_all.sum()\n",
    "    print(\"   - Number of points with partial cancellation: {}\".format(num_partial_cancel_all))\n",
    "    \n",
    "    uncancelled_error = abs(df_pond[partial_cancel_mask_all]['pixel_error_mm']) + abs(df_pond[partial_cancel_mask_all]['scale_error_mm'])\n",
    "    actual_total_error = abs(df_pond[partial_cancel_mask_all]['pixel_error_mm'] + df_pond[partial_cancel_mask_all]['scale_error_mm'])\n",
    "    cancellation_magnitude = uncancelled_error - actual_total_error\n",
    "    \n",
    "    print(\"\\n2. Cancellation Magnitude:\")\n",
    "    print(\"   - Mean cancellation magnitude: {:.2f}\".format(cancellation_magnitude.mean()))\n",
    "    print(\"   - Standard deviation of cancellation magnitude: {:.2f}\".format(cancellation_magnitude.std()))\n",
    "    print(\"   - Mean percentage of cancellation magnitude relative to Length_fov(mm): {:.2f}%\".format(\n",
    "        cancellation_magnitude.mean() / df_pond[\"Length_fov(mm)\"].abs().mean() * 100))\n",
    "    print(\"   - Standard deviation of relative cancellation magnitude: {:.2f}%\".format(cancellation_magnitude.std() / df_pond[\"Length_fov(mm)\"].abs().mean() * 100))\n",
    "  \n",
    "    print(\"\\n----------------------------------------\\n\")\n",
    "\n",
    "    df_pond['actual_error_mm'] = abs(df_pond[partial_cancel_mask_all]['pixel_error_mm'] + df_pond[partial_cancel_mask_all]['scale_error_mm'])\n",
    "    df_pond['cancellation_mm'] = abs(df_pond[partial_cancel_mask_all]['pixel_error_mm']) + abs(df_pond[partial_cancel_mask_all]['scale_error_mm']) - df_pond[partial_cancel_mask_all]['actual_error_mm']\n",
    "\n",
    "    #correlation between actual error and cancellation\n",
    "    print(f\"Correlation between actual error and cancellation: {df_pond['actual_error_mm'].corr(df_pond['cancellation_mm'])}\")\n",
    "\n",
    "\n",
    "    # Calculate the dominance of scale and pixel errors\n",
    "    df_pond['dominant_error'] = np.where(\n",
    "        abs(df_pond['scale_error_mm']) > abs(df_pond['pixel_error_mm']),\n",
    "        'Scale Error',\n",
    "        'Pixel Error'\n",
    "    )\n",
    "\n",
    "    # Count the number of occurrences for each dominant error type\n",
    "    dominant_counts = df_pond['dominant_error'].value_counts()\n",
    "\n",
    "    # Calculate the percentage of each dominant error type\n",
    "    dominant_percentages = df_pond['dominant_error'].value_counts(normalize=True) * 100\n",
    "\n",
    "    # Print the results\n",
    "    print(\"\\n3. Dominance of Error Types:\")\n",
    "    print(\"   - Number of points where Scale Error is dominant: {}\".format(dominant_counts.get('Scale Error', 0)))\n",
    "    print(\"   - Percentage of points where Scale Error is dominant: {:.2f}%\".format(dominant_percentages.get('Scale Error', 0)))\n",
    "    print(\"   - Number of points where Pixel Error is dominant: {}\".format(dominant_counts.get('Pixel Error', 0)))\n",
    "    print(\"   - Percentage of points where Pixel Error is dominant: {:.2f}%\".format(dominant_percentages.get('Pixel Error', 0)))\n",
    "\n",
    "\n",
    "\n",
    "\n",
    "    #scatter plot of actual error vs cancellation\n",
    "    plt.figure(figsize=(7, 6))\n",
    "    sns.scatterplot(data=df_pond, x='pixel_error_mm', y='cancellation_mm',\n",
    "                hue='Pond_Type', alpha=.7, s=60)\n",
    "    plt.xlabel('Actual Error (mm)')\n",
    "    plt.ylabel('Cancellation (mm)')\n",
    "    plt.title(f'Actual Error vs Cancellation for {pond_type}')\n",
    "    plt.legend(title='Pond Type')\n",
    "    plt.show()\n",
    "\n",
    "    #error componenets stack bar plot  \n",
    "    # Create a new figure for the error components analysis\n",
    "    fig = go.Figure()\n",
    "\n",
    "    # Add a bar trace for Pixel Error\n",
    "    fig.add_trace(go.Bar(\n",
    "        name='Pixel Error',\n",
    "        x=df_pond.index,  # Use the index of df_pond for x-axis\n",
    "        y=df_pond['pixel_error_mm'],  # Use pixel_error_mm from df_pond\n",
    "        marker_color='#1f77b4',  # Set the color for Pixel Error bars\n",
    "        hovertemplate=\"Image: %{customdata[0]}<br>\" +\n",
    "                      \"Prawn ID: %{customdata[1]}<br>\" +\n",
    "                      \"Mean Length: %{customdata[2]:.1f}mm<br>\" +\n",
    "                      \"Model Length: %{customdata[3]:.1f}mm<br>\" +\n",
    "                      \"Pixel Error: %{y:.1f}mm<br>\" +\n",
    "                      \"Impact: %{customdata[4]:.1f}%<extra></extra>\",\n",
    "        customdata=df_pond[['Label', 'PrawnID', 'mean_length', 'Length_fov(mm)']].values  # Use df_pond for custom data\n",
    "    ))\n",
    "\n",
    "    # Add a bar trace for Scale Error\n",
    "    fig.add_trace(go.Bar(\n",
    "        name='Scale Error',\n",
    "        x=df_pond.index,  # Use the index of df_pond for x-axis\n",
    "        y=df_pond['scale_error_mm'],  # Use scale_error_mm from df_pond\n",
    "        marker_color='#ff7f0e',  # Set the color for Scale Error bars\n",
    "        hovertemplate=\"Image: %{customdata[0]}<br>\" +\n",
    "                      \"Prawn ID: %{customdata[1]}<br>\" +\n",
    "                      \"Mean Length: %{customdata[2]:.1f}mm<br>\" +\n",
    "                      \"Model Length: %{customdata[3]:.1f}mm<br>\" +\n",
    "                      \"Scale Error: %{y:.1f}mm<br>\" +\n",
    "                      \"Impact: %{customdata[4]:.1f}%<extra></extra>\",\n",
    "        customdata=df_pond[['Label', 'PrawnID', 'mean_length', 'Length_fov(mm)']].values  # Use df_pond for custom data\n",
    "    ))\n",
    "\n",
    "    # Update the layout of the figure\n",
    "    fig.update_layout(\n",
    "        barmode='relative',  # Display bars side by side\n",
    "        title=f'Error Components Analysis - {pond_type}',  # Dynamic title based on pond type\n",
    "        xaxis_title='Measurement Index',  # X-axis label\n",
    "        yaxis_title='Error (mm)',  # Y-axis label\n",
    "        showlegend=True,  # Display legend\n",
    "        width=1000,  # Set the width of the figure\n",
    "        height=600  # Set the height of the figure\n",
    "    )\n",
    "    #show the plot\n",
    "    fig.show()\n",
    "    #save the plot\n"
   ]
  },
  {
   "cell_type": "markdown",
   "metadata": {},
   "source": [
    "### scale error ###"
   ]
  },
  {
   "cell_type": "code",
   "execution_count": 5,
   "metadata": {},
   "outputs": [
    {
     "name": "stdout",
     "output_type": "stream",
     "text": [
      "\n",
      "--- Scale Error Analysis for Pond Type: circle_female ---\n",
      "   - Mean of Scale Error: 2.14 mm\n",
      "   - Standard Deviation of Scale Error: 1.58 mm\n",
      "   - Mean of Scale Error Relative to Length: 6.83%\n",
      "   - Standard Deviation of Scale Error Relative to Length: 5.05%\n",
      "\n",
      "----------------------------------------\n",
      "\n",
      "Percentage of scale error points that share the same image (Label) with at least one other scale error point (all samples): 13.6842%\n",
      "Number of scale error points that share the same image (Label) with at least one other scale error point (all samples): 13\n",
      "Total number of images with shared scale error: 10\n",
      "\n",
      "----------------------------------------\n",
      "\n"
     ]
    },
    {
     "data": {
      "image/png": "[encoded data removed]",
      "text/plain": [
       "<Figure size 1200x400 with 1 Axes>"
      ]
     },
     "metadata": {},
     "output_type": "display_data"
    },
    {
     "name": "stdout",
     "output_type": "stream",
     "text": [
      "\n",
      "--- Scale Error Analysis for Pond Type: circle_male ---\n",
      "   - Mean of Scale Error: 3.77 mm\n",
      "   - Standard Deviation of Scale Error: 1.29 mm\n",
      "   - Mean of Scale Error Relative to Length: 19.99%\n",
      "   - Standard Deviation of Scale Error Relative to Length: 6.83%\n",
      "\n",
      "----------------------------------------\n",
      "\n",
      "Percentage of scale error points that share the same image (Label) with at least one other scale error point (all samples): 84.6154%\n",
      "Number of scale error points that share the same image (Label) with at least one other scale error point (all samples): 11\n",
      "Total number of images with shared scale error: 5\n",
      "\n",
      "----------------------------------------\n",
      "\n"
     ]
    },
    {
     "data": {
      "image/png": "[encoded data removed]",
      "text/plain": [
       "<Figure size 1200x400 with 1 Axes>"
      ]
     },
     "metadata": {},
     "output_type": "display_data"
    },
    {
     "name": "stdout",
     "output_type": "stream",
     "text": [
      "\n",
      "--- Scale Error Analysis for Pond Type: square ---\n",
      "   - Mean of Scale Error: 2.96 mm\n",
      "   - Standard Deviation of Scale Error: 2.10 mm\n",
      "   - Mean of Scale Error Relative to Length: 10.30%\n",
      "   - Standard Deviation of Scale Error Relative to Length: 7.31%\n",
      "\n",
      "----------------------------------------\n",
      "\n",
      "Percentage of scale error points that share the same image (Label) with at least one other scale error point (all samples): 12.5000%\n",
      "Number of scale error points that share the same image (Label) with at least one other scale error point (all samples): 4\n",
      "Total number of images with shared scale error: 12\n",
      "\n",
      "----------------------------------------\n",
      "\n"
     ]
    },
    {
     "data": {
      "image/png": "[encoded data removed]",
      "text/plain": [
       "<Figure size 1200x400 with 1 Axes>"
      ]
     },
     "metadata": {},
     "output_type": "display_data"
    }
   ],
   "source": [
    "for pond_type in df['Pond_Type'].unique():\n",
    "    df_pond = df[df['Pond_Type'] == pond_type]\n",
    "    df_pond['pixel_error_mm'] = (df_pond['mean_pixels'] - df_pond['pred_Distance_pixels']) * (1/df_pond['mean_scale']) * 10\n",
    "    df_pond['scale_error_mm'] = df_pond['mean_pixels'] * (1/df_pond['mean_scale'] - 1/df_pond['pred_scale']) * 10\n",
    "\n",
    "    # Magnitude of scale error\n",
    "    df_pond['scale_error_mm'] = abs(df_pond['scale_error_mm'])\n",
    "    \n",
    "    # Mean and standard deviation of scale error\n",
    "    mean_scale_error = df_pond['scale_error_mm'].mean()\n",
    "    std_scale_error = df_pond['scale_error_mm'].std()\n",
    "    print(f\"\\n--- Scale Error Analysis for Pond Type: {pond_type} ---\")\n",
    "    print(f\"   - Mean of Scale Error: {mean_scale_error:.2f} mm\")\n",
    "    print(f\"   - Standard Deviation of Scale Error: {std_scale_error:.2f} mm\")\n",
    "    \n",
    "    # Mean and standard deviation relative to scale error\n",
    "    mean_relative_scale_error = (mean_scale_error / df_pond['Length_fov(mm)']).abs().mean()*100\n",
    "    std_relative_scale_error = (std_scale_error / df_pond['Length_fov(mm)']).abs().mean()*100   \n",
    "    print(f\"   - Mean of Scale Error Relative to Length: {mean_relative_scale_error:.2f}%\")\n",
    "    print(f\"   - Standard Deviation of Scale Error Relative to Length: {std_relative_scale_error:.2f}%\")\n",
    "    print(\"\\n----------------------------------------\\n\")\n",
    "\n",
    "\n",
    "    #shared scale error in the same image\n",
    "    df_pond['scale_error_percentage'] = (df_pond['scale_error_mm'] / df_pond['Length_fov(mm)']) * 100\n",
    "    shared_label_count = df_pond[df_pond['scale_error_percentage'] > 10]['Label'].duplicated(keep=False).sum()\n",
    "    percent_shared = 100 * shared_label_count / len(df_pond)\n",
    "    print(f\"Percentage of scale error points that share the same image (Label) with at least one other scale error point (all samples): {percent_shared:.4f}%\")\n",
    "    print(f\"Number of scale error points that share the same image (Label) with at least one other scale error point (all samples): {shared_label_count}\")\n",
    "    print(f\"Total number of images with shared scale error: {df_pond[df_pond['scale_error_percentage'] > 10]['Label'].nunique()}\")\n",
    "    print(\"\\n----------------------------------------\\n\")\n",
    "\n",
    "\n",
    "    # ---------- GROUP BY IMAGE ----------------------------------------------\n",
    "    df_img = (df_pond\n",
    "            .groupby(\n",
    "                df_pond['Label'].apply(\n",
    "                    lambda x: tuple(x.split('undistorted_')[-1].split('_')[0:3])\n",
    "                )\n",
    "            )\n",
    "            .agg(scale_err_perc = ('scale_error_percentage', 'mean'),\n",
    "                prawn_count    = ('scale_error_percentage', 'size'))   # <-- NEW\n",
    "            .reset_index())\n",
    "\n",
    "    df_img = df_img.sort_values('scale_err_perc', ascending=False).reset_index(drop=True)\n",
    "\n",
    "    # ---------- PLOT ---------------------------------------------------------\n",
    "    plt.figure(figsize=(12, 4))\n",
    "    sns.barplot(data=df_img, x=df_img.index, y='scale_err_perc', dodge=False)\n",
    "\n",
    "    # put the prawn count inside each bar  ───────────────────────────────────\n",
    "    ax = plt.gca()\n",
    "    for i, bar in enumerate(ax.patches):\n",
    "        count  = df_img.loc[i, 'prawn_count']\n",
    "        height = bar.get_height()\n",
    "        ax.text(\n",
    "            bar.get_x() + bar.get_width() / 2,   # x = middle of bar\n",
    "            height / 2,                          # y = halfway up the bar\n",
    "            str(count),\n",
    "            ha='center', va='center',\n",
    "            fontsize=9, color='white', weight='bold'\n",
    "        )\n",
    "\n",
    "    plt.ylabel('Scale error (%)')\n",
    "    plt.xlabel('Image (Label)')\n",
    "    plt.xticks(ticks=df_img.index,\n",
    "            labels=df_img['Label'], rotation=90, fontsize=8)\n",
    "    plt.title('Per-image scale error  (white number = prawn count)')\n",
    "    plt.tight_layout()\n",
    "    plt.show()"
   ]
  },
  {
   "cell_type": "markdown",
   "metadata": {},
   "source": [
    "### pixel error ###"
   ]
  },
  {
   "cell_type": "code",
   "execution_count": 6,
   "metadata": {},
   "outputs": [
    {
     "name": "stdout",
     "output_type": "stream",
     "text": [
      "\n",
      "--- Analysis for Pond Type: circle_female ---\n",
      "Percentage of points where the annotation pixel error is smaller (all pixel error samples): 52.6316%\n",
      "Number of points where the annotation pixel error is smaller (all pixel error samples): 50\n",
      "Mean pixel error: 4.49 mm\n",
      "Mean annotation pixel error: 3.96 mm\n",
      "----------------------------------------\n",
      "\n"
     ]
    },
    {
     "data": {
      "image/png": "[encoded data removed]",
      "text/plain": [
       "<Figure size 600x400 with 1 Axes>"
      ]
     },
     "metadata": {},
     "output_type": "display_data"
    },
    {
     "name": "stdout",
     "output_type": "stream",
     "text": [
      "\n",
      "--- Analysis for Pond Type: circle_male ---\n",
      "Percentage of points where the annotation pixel error is smaller (all pixel error samples): 76.9231%\n",
      "Number of points where the annotation pixel error is smaller (all pixel error samples): 10\n",
      "Mean pixel error: 5.63 mm\n",
      "Mean annotation pixel error: 3.41 mm\n",
      "----------------------------------------\n",
      "\n"
     ]
    },
    {
     "data": {
      "image/png": "[encoded data removed]",
      "text/plain": [
       "<Figure size 600x400 with 1 Axes>"
      ]
     },
     "metadata": {},
     "output_type": "display_data"
    },
    {
     "name": "stdout",
     "output_type": "stream",
     "text": [
      "\n",
      "--- Analysis for Pond Type: square ---\n",
      "Percentage of points where the annotation pixel error is smaller (all pixel error samples): 59.3750%\n",
      "Number of points where the annotation pixel error is smaller (all pixel error samples): 19\n",
      "Mean pixel error: 6.58 mm\n",
      "Mean annotation pixel error: 4.91 mm\n",
      "----------------------------------------\n",
      "\n"
     ]
    },
    {
     "data": {
      "image/png": "[encoded data removed]",
      "text/plain": [
       "<Figure size 600x400 with 1 Axes>"
      ]
     },
     "metadata": {},
     "output_type": "display_data"
    }
   ],
   "source": [
    "for pond_type in df['Pond_Type'].unique():\n",
    "    df_pond = df[df['Pond_Type'] == pond_type]\n",
    "    df_pond['pixel_error_mm'] = abs(abs(df_pond['mean_pixels'] - df_pond['pred_Distance_pixels']) * (1/df_pond['mean_scale']) * 10)\n",
    "    df_pond['scale_error_mm'] = abs(df_pond['mean_pixels'] * (1/df_pond['mean_scale'] - 1/df_pond['pred_scale']) * 10)\n",
    "    \n",
    "    df_pond['annotation_pixel_error'] = abs(df_pond['pred_Distance_pixels'] - df_pond['Length_ground_truth_annotation_pixels'])\n",
    "    df_pond['annotation_pixel_error_mm'] = abs(df_pond['annotation_pixel_error'] * (1/df_pond['mean_scale']) * 10)\n",
    "    df_pond['annotation_pixel_error_smaller'] = df_pond['annotation_pixel_error_mm'] < abs(df_pond['pixel_error_mm'])\n",
    "    \n",
    "    # Print beautifully formatted output\n",
    "    print(f\"\\n--- Analysis for Pond Type: {pond_type} ---\")\n",
    "    print(f\"Percentage of points where the annotation pixel error is smaller (all pixel error samples): {df_pond['annotation_pixel_error_smaller'].mean()*100:.4f}%\")\n",
    "    print(f\"Number of points where the annotation pixel error is smaller (all pixel error samples): {df_pond['annotation_pixel_error_smaller'].sum()}\")\n",
    "    print(f\"Mean pixel error: {df_pond['pixel_error_mm'].mean():.2f} mm\")\n",
    "    print(f\"Mean annotation pixel error: {df_pond['annotation_pixel_error_mm'].mean():.2f} mm\")\n",
    "    print(\"----------------------------------------\\n\")\n",
    "\n",
    "\n",
    "    df_long = (df_pond[['pixel_error_mm', 'annotation_pixel_error_mm']].rename(columns={'pixel_error_mm': 'Imagej annotation error', 'annotation_pixel_error_mm': 'Robolfow Annotation-error'})\n",
    "            .melt(var_name='Error_type', value_name='Error_px'))\n",
    "\n",
    "    # ░░░  Plot  ░░░\n",
    "    plt.figure(figsize=(6, 4))\n",
    "    sns.boxplot(data=df_long, x='Error_type', y='Error_px', palette='Set2')\n",
    "    plt.ylabel('Error (pixels)')\n",
    "    plt.xlabel('')\n",
    "    plt.title('Imagej annotation error   vs   Robolfow Annotation error')\n",
    "    plt.tight_layout()\n",
    "    plt.show()\n",
    "    "
   ]
  },
  {
   "cell_type": "code",
   "execution_count": 7,
   "metadata": {},
   "outputs": [
    {
     "name": "stdout",
     "output_type": "stream",
     "text": [
      "Mean length for circle_female: 34.71894385964913\n",
      "Std length for circle_female: 3.1592484412607984\n",
      "Number of prawns in circle_female: 95\n"
     ]
    },
    {
     "data": {
      "application/vnd.plotly.v1+json": {
       "config": {
        "plotlyServerURL": "https://plot.ly"
       },
       "data": [
        {
         "hoverinfo": "text+x+y",
         "marker": {
          "color": "#ff7f0e",
          "opacity": 0.7
         },
         "mode": "markers",
         "name": "Measurements",
         "text": [
          "Image: carapace:undistorted_GX010067_33_625.jpg_gamma<br>Prawn ID: Prawn_0",
          "Image: carapace:undistorted_GX010067_33_625.jpg_gamma<br>Prawn ID: Prawn_1",
          "Image: carapace:undistorted_GX010067_33_625.jpg_gamma<br>Prawn ID: Prawn_2",
          "Image: carapace:undistorted_GX010067_33_625.jpg_gamma<br>Prawn ID: Prawn_3",
          "Image: carapace:undistorted_GX010068_26_666.jpg_gamma<br>Prawn ID: Prawn_0",
          "Image: carapace:undistorted_GX010068_26_666.jpg_gamma<br>Prawn ID: Prawn_1",
          "Image: carapace:undistorted_GX010068_26_666.jpg_gamma<br>Prawn ID: Prawn_2",
          "Image: carapace:undistorted_GX010068_27_795.jpg_gamma<br>Prawn ID: Prawn_1",
          "Image: carapace:undistorted_GX010068_27_795.jpg_gamma<br>Prawn ID: Prawn_2",
          "Image: carapace:undistorted_GX010069_19_191.jpg_gamma<br>Prawn ID: Prawn_0",
          "Image: carapace:undistorted_GX010069_19_191.jpg_gamma<br>Prawn ID: Prawn_1",
          "Image: carapace:undistorted_GX010069_19_191.jpg_gamma<br>Prawn ID: Prawn_2",
          "Image: carapace:undistorted_GX010069_19_191.jpg_gamma<br>Prawn ID: Prawn_3",
          "Image: carapace:undistorted_GX010069_53_796.jpg_gamma<br>Prawn ID: Prawn_0",
          "Image: carapace:undistorted_GX010069_53_796.jpg_gamma<br>Prawn ID: Prawn_1",
          "Image: carapace:undistorted_GX010071_22_444.jpg_gamma<br>Prawn ID: Prawn_0",
          "Image: carapace:undistorted_GX010071_22_444.jpg_gamma<br>Prawn ID: Prawn_1",
          "Image: carapace:undistorted_GX010073_42_695.jpg_gamma<br>Prawn ID: Prawn_0",
          "Image: carapace:undistorted_GX010073_42_695.jpg_gamma<br>Prawn ID: Prawn_1",
          "Image: carapace:undistorted_GX010073_55_1014.jpg_gamma<br>Prawn ID: Prawn_0",
          "Image: carapace:undistorted_GX010073_55_1014.jpg_gamma<br>Prawn ID: Prawn_2",
          "Image: carapace:undistorted_GX010073_55_1014.jpg_gamma<br>Prawn ID: Prawn_3",
          "Image: carapace:undistorted_GX010077_14_237.jpg_gamma<br>Prawn ID: Prawn_0",
          "Image: carapace:undistorted_GX010077_14_237.jpg_gamma<br>Prawn ID: Prawn_1",
          "Image: carapace:undistorted_GX010077_14_237.jpg_gamma<br>Prawn ID: Prawn_2",
          "Image: carapace:undistorted_GX010080_157_2283.jpg_gamma<br>Prawn ID: Prawn_0",
          "Image: carapace:undistorted_GX010080_157_2283.jpg_gamma<br>Prawn ID: Prawn_3",
          "Image: carapace:undistorted_GX010080_157_2283.jpg_gamma<br>Prawn ID: Prawn_4",
          "Image: carapace:undistorted_GX010080_193_2640.jpg_gamma<br>Prawn ID: Prawn_0",
          "Image: carapace:undistorted_GX010080_193_2640.jpg_gamma<br>Prawn ID: Prawn_1",
          "Image: carapace:undistorted_GX010080_193_2640.jpg_gamma<br>Prawn ID: Prawn_4",
          "Image: carapace:undistorted_GX010080_212_2954.jpg_gamma<br>Prawn ID: Prawn_0",
          "Image: carapace:undistorted_GX010080_212_2954.jpg_gamma<br>Prawn ID: Prawn_1",
          "Image: carapace:undistorted_GX010080_212_2954.jpg_gamma<br>Prawn ID: Prawn_2",
          "Image: carapace:undistorted_GX010080_237_3366.jpg_gamma<br>Prawn ID: Prawn_0",
          "Image: carapace:undistorted_GX010080_237_3366.jpg_gamma<br>Prawn ID: Prawn_1",
          "Image: carapace:undistorted_GX010080_237_3366.jpg_gamma<br>Prawn ID: Prawn_2",
          "Image: carapace:undistorted_GX010080_237_3366.jpg_gamma<br>Prawn ID: Prawn_3",
          "Image: carapace:undistorted_GX010080_238_3392.jpg_gamma<br>Prawn ID: Prawn_0",
          "Image: carapace:undistorted_GX010080_238_3392.jpg_gamma<br>Prawn ID: Prawn_1",
          "Image: carapace:undistorted_GX010080_238_3392.jpg_gamma<br>Prawn ID: Prawn_3",
          "Image: carapace:undistorted_GX010080_238_3392.jpg_gamma<br>Prawn ID: Prawn_4",
          "Image: carapace:undistorted_GX010082_8_59.jpg_gamma<br>Prawn ID: Prawn_1",
          "Image: carapace:undistorted_GX010082_8_59.jpg_gamma<br>Prawn ID: Prawn_2",
          "Image: carapace:undistorted_GX010082_8_59.jpg_gamma<br>Prawn ID: Prawn_3",
          "Image: carapace:undistorted_GX010082_8_59.jpg_gamma<br>Prawn ID: Prawn_4",
          "Image: carapace:undistorted_GX010082_53_796.jpg_gamma<br>Prawn ID: Prawn_0",
          "Image: carapace:undistorted_GX010082_53_796.jpg_gamma<br>Prawn ID: Prawn_1",
          "Image: carapace:undistorted_GX010082_65_1070.jpg_gamma<br>Prawn ID: Prawn_0",
          "Image: carapace:undistorted_GX010082_65_1070.jpg_gamma<br>Prawn ID: Prawn_1",
          "Image: carapace:undistorted_GX010082_65_1070.jpg_gamma<br>Prawn ID: Prawn_2",
          "Image: carapace:undistorted_GX010082_236_3137.jpg_gamma<br>Prawn ID: Prawn_0",
          "Image: carapace:undistorted_GX010082_236_3137.jpg_gamma<br>Prawn ID: Prawn_1",
          "Image: carapace:undistorted_GX010082_236_3137.jpg_gamma<br>Prawn ID: Prawn_2",
          "Image: carapace:undistorted_GX010082_236_3137.jpg_gamma<br>Prawn ID: Prawn_3",
          "Image: carapace:undistorted_GX010084_30_344.jpg_gamma<br>Prawn ID: Prawn_2",
          "Image: carapace:undistorted_GX010084_30_344.jpg_gamma<br>Prawn ID: Prawn_3",
          "Image: carapace:undistorted_GX010084_30_344.jpg_gamma<br>Prawn ID: Prawn_5",
          "Image: carapace:undistorted_GX010084_130_1748.jpg_gamma<br>Prawn ID: Prawn_0",
          "Image: carapace:undistorted_GX010084_130_1748.jpg_gamma<br>Prawn ID: Prawn_1",
          "Image: carapace:undistorted_GX010084_130_1748.jpg_gamma<br>Prawn ID: Prawn_3",
          "Image: carapace:undistorted_GX010084_167_2291.jpg_gamma<br>Prawn ID: Prawn_1",
          "Image: carapace:undistorted_GX010085_261_3610.jpg_gamma<br>Prawn ID: Prawn_1",
          "Image: carapace:undistorted_GX010085_261_3610.jpg_gamma<br>Prawn ID: Prawn_2",
          "Image: carapace:undistorted_GX010085_263_3738.jpg_gamma<br>Prawn ID: Prawn_2",
          "Image: carapace:undistorted_GX010088_209_2904.jpg_gamma<br>Prawn ID: Prawn_0",
          "Image: carapace:undistorted_GX010088_209_2904.jpg_gamma<br>Prawn ID: Prawn_1",
          "Image: carapace:undistorted_GX010088_262_3712.jpg_gamma<br>Prawn ID: Prawn_0",
          "Image: carapace:undistorted_GX010088_262_3712.jpg_gamma<br>Prawn ID: Prawn_1",
          "Image: carapace:undistorted_GX010088_262_3712.jpg_gamma<br>Prawn ID: Prawn_2",
          "Image: carapace:undistorted_GX010088_262_3712.jpg_gamma<br>Prawn ID: Prawn_3",
          "Image: carapace:undistorted_GX010088_327_4364.jpg_gamma<br>Prawn ID: Prawn_0",
          "Image: carapace:undistorted_GX010088_327_4364.jpg_gamma<br>Prawn ID: Prawn_1",
          "Image: carapace:undistorted_GX010088_327_4364.jpg_gamma<br>Prawn ID: Prawn_2",
          "Image: carapace:undistorted_GX010088_327_4364.jpg_gamma<br>Prawn ID: Prawn_3",
          "Image: carapace:undistorted_GX010090_132_1852.jpg_gamma<br>Prawn ID: Prawn_0",
          "Image: carapace:undistorted_GX010094_9_129.jpg_gamma<br>Prawn ID: Prawn_0",
          "Image: carapace:undistorted_GX010094_9_129.jpg_gamma<br>Prawn ID: Prawn_1",
          "Image: carapace:undistorted_GX010094_24_430.jpg_gamma<br>Prawn ID: Prawn_1",
          "Image: carapace:undistorted_GX010094_24_430.jpg_gamma<br>Prawn ID: Prawn_2",
          "Image: carapace:undistorted_GX010094_93_1258.jpg_gamma<br>Prawn ID: Prawn_0",
          "Image: carapace:undistorted_GX010094_93_1258.jpg_gamma<br>Prawn ID: Prawn_1",
          "Image: carapace:undistorted_GX010094_163_2312.jpg_gamma<br>Prawn ID: Prawn_0",
          "Image: carapace:undistorted_GX010096_107_1571.jpg_gamma<br>Prawn ID: Prawn_0",
          "Image: carapace:undistorted_GX010097_32_528.jpg_gamma<br>Prawn ID: Prawn_1",
          "Image: carapace:undistorted_GX010097_32_528.jpg_gamma<br>Prawn ID: Prawn_2",
          "Image: carapace:undistorted_GX010097_60_1080.jpg_gamma<br>Prawn ID: Prawn_0",
          "Image: carapace:undistorted_GX010097_60_1080.jpg_gamma<br>Prawn ID: Prawn_1",
          "Image: carapace:undistorted_GX010097_105_1651.jpg_gamma<br>Prawn ID: Prawn_0",
          "Image: carapace:undistorted_GX010097_105_1651.jpg_gamma<br>Prawn ID: Prawn_1",
          "Image: carapace:undistorted_GX010097_105_1651.jpg_gamma<br>Prawn ID: Prawn_2",
          "Image: carapace:undistorted_GX010097_105_1651.jpg_gamma<br>Prawn ID: Prawn_3",
          "Image: carapace:undistorted_GX010097_124_1870.jpg_gamma<br>Prawn ID: Prawn_0",
          "Image: carapace:undistorted_GX010097_124_1870.jpg_gamma<br>Prawn ID: Prawn_1",
          "Image: carapace:undistorted_GX010101_12_173.jpg_gamma<br>Prawn ID: Prawn_0"
         ],
         "type": "scatter",
         "x": [
          41.918,
          26.698,
          46.29966666666667,
          24.278666666666663,
          33.843333333333334,
          34.544000000000004,
          32.81366666666667,
          36.97933333333333,
          33.477666666666664,
          31.406,
          32.74166666666667,
          27.465333333333334,
          31.256666666666664,
          42.47733333333333,
          36.943333333333335,
          41.95333333333333,
          39.764,
          28.94666666666667,
          46.23366666666666,
          37.03866666666666,
          37.565000000000005,
          28.709333333333333,
          26.24866666666667,
          35.995,
          34.312999999999995,
          26.50133333333333,
          35.125,
          34.03366666666667,
          34.535333333333334,
          41.434333333333335,
          35.702333333333335,
          28.686000000000003,
          31.811,
          33.73266666666667,
          36.14033333333333,
          36.446666666666665,
          31.065,
          36.763333333333335,
          36.775333333333336,
          36.04233333333333,
          36.336,
          33.14033333333333,
          34.424,
          37.46033333333333,
          36.906,
          26.740333333333336,
          37.626666666666665,
          21.106666666666666,
          27.028,
          44.07533333333333,
          35.542,
          20.59133333333333,
          32.413000000000004,
          38.315666666666665,
          20.542666666666666,
          34.274,
          36.25266666666666,
          33.519666666666666,
          35.57666666666667,
          41.317,
          39.387,
          45.99366666666666,
          36.118,
          30.01333333333333,
          40.70633333333333,
          37.23433333333333,
          37.79366666666667,
          42.525,
          33.435,
          40.21266666666667,
          42.803666666666665,
          37.876666666666665,
          37.07266666666666,
          38.641333333333336,
          42.78733333333333,
          35.178333333333335,
          24.666,
          33.87566666666667,
          34.47933333333334,
          33.397333333333336,
          28.933333333333334,
          35.580000000000005,
          36.263,
          35.103,
          30.808666666666664,
          28.918,
          37.538,
          27.723,
          36.993,
          43.29533333333333,
          32.398666666666664,
          30.090333333333334,
          29.376,
          31.066333333333336,
          42.12266666666667
         ],
         "y": [
          37.75355582799847,
          26.81020146673334,
          39.03213370089752,
          22.19795548446902,
          28.18529795198593,
          31.91789364958106,
          34.73729979624052,
          34.459308078579,
          28.36084848037879,
          32.33364303397632,
          30.70185340036781,
          26.6135050959192,
          30.12266545795801,
          37.25249294020791,
          39.03419386660418,
          32.9356320219084,
          34.56556328930257,
          23.47374525046514,
          37.42382811719394,
          31.80997769642651,
          26.89449124914613,
          26.99219420910574,
          24.94316443969545,
          32.28195207616267,
          30.44549099282529,
          35.22626780724914,
          33.79909058631164,
          32.27854054244597,
          30.8154545738458,
          33.72908093913094,
          28.95189174925827,
          31.78460808312776,
          32.49656977443392,
          32.49656977443392,
          37.6717765619875,
          34.98358239316487,
          28.17515757805285,
          32.99200119145986,
          31.68313772442753,
          30.36537650769275,
          28.29610929956323,
          36.29383214420561,
          33.6723705987246,
          32.11376421183746,
          37.51925495877773,
          28.59184852876473,
          37.83065933444135,
          21.15671197279154,
          28.89332411096001,
          39.07726688167158,
          33.88843640719921,
          23.72612492478941,
          34.22749565071942,
          37.88315322674648,
          23.72612492478941,
          32.20438528823917,
          32.30128861778331,
          33.88992313051816,
          31.17453504844051,
          31.40392321944161,
          29.65767293239057,
          37.16724659490847,
          35.90870848354313,
          24.1220621742473,
          31.74650532117314,
          29.9113603068946,
          35.42982515842814,
          33.37463157804564,
          28.97382993900615,
          31.87648418130547,
          31.87648418130547,
          28.79287972362962,
          31.70343506965044,
          32.85831741366103,
          36.92519089419286,
          37.23936474310507,
          26.01416340285792,
          30.36016883552696,
          35.30074629070312,
          30.74181019119764,
          33.64979753414979,
          33.64979753414979,
          36.38742129153044,
          30.78771369941601,
          26.85971570222255,
          29.02747244585838,
          33.81643194391071,
          22.50580113323289,
          34.1954828549277,
          40.81753685853357,
          28.21818473561181,
          32.13693889345043,
          31.18986928496678,
          28.278749413969,
          41.48255338845136
         ]
        },
        {
         "line": {
          "color": "black",
          "dash": "dash"
         },
         "mode": "lines",
         "name": "Perfect match (y=x)",
         "type": "scatter",
         "x": [
          20.542666666666666,
          20.80283838383838,
          21.0630101010101,
          21.323181818181816,
          21.583353535353535,
          21.84352525252525,
          22.10369696969697,
          22.363868686868685,
          22.624040404040404,
          22.88421212121212,
          23.14438383838384,
          23.404555555555554,
          23.664727272727273,
          23.92489898989899,
          24.185070707070707,
          24.445242424242423,
          24.70541414141414,
          24.965585858585857,
          25.225757575757576,
          25.485929292929292,
          25.746101010101007,
          26.006272727272727,
          26.266444444444442,
          26.52661616161616,
          26.786787878787877,
          27.046959595959596,
          27.30713131313131,
          27.56730303030303,
          27.827474747474746,
          28.08764646464646,
          28.34781818181818,
          28.6079898989899,
          28.868161616161615,
          29.12833333333333,
          29.38850505050505,
          29.64867676767677,
          29.908848484848484,
          30.1690202020202,
          30.42919191919192,
          30.689363636363638,
          30.949535353535353,
          31.20970707070707,
          31.469878787878784,
          31.730050505050503,
          31.990222222222222,
          32.25039393939394,
          32.51056565656565,
          32.770737373737376,
          33.03090909090909,
          33.29108080808081,
          33.55125252525252,
          33.81142424242424,
          34.07159595959596,
          34.331767676767676,
          34.59193939393939,
          34.852111111111114,
          35.11228282828283,
          35.372454545454545,
          35.63262626262626,
          35.892797979797976,
          36.15296969696969,
          36.413141414141414,
          36.67331313131313,
          36.93348484848485,
          37.19365656565657,
          37.45382828282828,
          37.714,
          37.974171717171714,
          38.23434343434343,
          38.494515151515145,
          38.75468686868687,
          39.01485858585858,
          39.275030303030306,
          39.53520202020202,
          39.79537373737374,
          40.05554545454545,
          40.31571717171717,
          40.57588888888888,
          40.836060606060606,
          41.09623232323232,
          41.356404040404044,
          41.61657575757576,
          41.876747474747475,
          42.13691919191919,
          42.397090909090906,
          42.65726262626262,
          42.91743434343434,
          43.17760606060606,
          43.437777777777775,
          43.6979494949495,
          43.95812121212121,
          44.21829292929293,
          44.478464646464644,
          44.73863636363636,
          44.998808080808075,
          45.2589797979798,
          45.51915151515151,
          45.77932323232323,
          46.03949494949495,
          46.29966666666667
         ],
         "y": [
          20.542666666666666,
          20.80283838383838,
          21.0630101010101,
          21.323181818181816,
          21.583353535353535,
          21.84352525252525,
          22.10369696969697,
          22.363868686868685,
          22.624040404040404,
          22.88421212121212,
          23.14438383838384,
          23.404555555555554,
          23.664727272727273,
          23.92489898989899,
          24.185070707070707,
          24.445242424242423,
          24.70541414141414,
          24.965585858585857,
          25.225757575757576,
          25.485929292929292,
          25.746101010101007,
          26.006272727272727,
          26.266444444444442,
          26.52661616161616,
          26.786787878787877,
          27.046959595959596,
          27.30713131313131,
          27.56730303030303,
          27.827474747474746,
          28.08764646464646,
          28.34781818181818,
          28.6079898989899,
          28.868161616161615,
          29.12833333333333,
          29.38850505050505,
          29.64867676767677,
          29.908848484848484,
          30.1690202020202,
          30.42919191919192,
          30.689363636363638,
          30.949535353535353,
          31.20970707070707,
          31.469878787878784,
          31.730050505050503,
          31.990222222222222,
          32.25039393939394,
          32.51056565656565,
          32.770737373737376,
          33.03090909090909,
          33.29108080808081,
          33.55125252525252,
          33.81142424242424,
          34.07159595959596,
          34.331767676767676,
          34.59193939393939,
          34.852111111111114,
          35.11228282828283,
          35.372454545454545,
          35.63262626262626,
          35.892797979797976,
          36.15296969696969,
          36.413141414141414,
          36.67331313131313,
          36.93348484848485,
          37.19365656565657,
          37.45382828282828,
          37.714,
          37.974171717171714,
          38.23434343434343,
          38.494515151515145,
          38.75468686868687,
          39.01485858585858,
          39.275030303030306,
          39.53520202020202,
          39.79537373737374,
          40.05554545454545,
          40.31571717171717,
          40.57588888888888,
          40.836060606060606,
          41.09623232323232,
          41.356404040404044,
          41.61657575757576,
          41.876747474747475,
          42.13691919191919,
          42.397090909090906,
          42.65726262626262,
          42.91743434343434,
          43.17760606060606,
          43.437777777777775,
          43.6979494949495,
          43.95812121212121,
          44.21829292929293,
          44.478464646464644,
          44.73863636363636,
          44.998808080808075,
          45.2589797979798,
          45.51915151515151,
          45.77932323232323,
          46.03949494949495,
          46.29966666666667
         ]
        },
        {
         "line": {
          "color": "#2c7fb8",
          "dash": "dash"
         },
         "mode": "lines",
         "name": "mean + Std (variability) (3.16 mm)",
         "type": "scatter",
         "x": [
          20.542666666666666,
          20.80283838383838,
          21.0630101010101,
          21.323181818181816,
          21.583353535353535,
          21.84352525252525,
          22.10369696969697,
          22.363868686868685,
          22.624040404040404,
          22.88421212121212,
          23.14438383838384,
          23.404555555555554,
          23.664727272727273,
          23.92489898989899,
          24.185070707070707,
          24.445242424242423,
          24.70541414141414,
          24.965585858585857,
          25.225757575757576,
          25.485929292929292,
          25.746101010101007,
          26.006272727272727,
          26.266444444444442,
          26.52661616161616,
          26.786787878787877,
          27.046959595959596,
          27.30713131313131,
          27.56730303030303,
          27.827474747474746,
          28.08764646464646,
          28.34781818181818,
          28.6079898989899,
          28.868161616161615,
          29.12833333333333,
          29.38850505050505,
          29.64867676767677,
          29.908848484848484,
          30.1690202020202,
          30.42919191919192,
          30.689363636363638,
          30.949535353535353,
          31.20970707070707,
          31.469878787878784,
          31.730050505050503,
          31.990222222222222,
          32.25039393939394,
          32.51056565656565,
          32.770737373737376,
          33.03090909090909,
          33.29108080808081,
          33.55125252525252,
          33.81142424242424,
          34.07159595959596,
          34.331767676767676,
          34.59193939393939,
          34.852111111111114,
          35.11228282828283,
          35.372454545454545,
          35.63262626262626,
          35.892797979797976,
          36.15296969696969,
          36.413141414141414,
          36.67331313131313,
          36.93348484848485,
          37.19365656565657,
          37.45382828282828,
          37.714,
          37.974171717171714,
          38.23434343434343,
          38.494515151515145,
          38.75468686868687,
          39.01485858585858,
          39.275030303030306,
          39.53520202020202,
          39.79537373737374,
          40.05554545454545,
          40.31571717171717,
          40.57588888888888,
          40.836060606060606,
          41.09623232323232,
          41.356404040404044,
          41.61657575757576,
          41.876747474747475,
          42.13691919191919,
          42.397090909090906,
          42.65726262626262,
          42.91743434343434,
          43.17760606060606,
          43.437777777777775,
          43.6979494949495,
          43.95812121212121,
          44.21829292929293,
          44.478464646464644,
          44.73863636363636,
          44.998808080808075,
          45.2589797979798,
          45.51915151515151,
          45.77932323232323,
          46.03949494949495,
          46.29966666666667
         ],
         "y": [
          23.701915107927462,
          23.962086825099178,
          24.2222585422709,
          24.482430259442616,
          24.74260197661433,
          25.002773693786047,
          25.26294541095777,
          25.523117128129485,
          25.7832888453012,
          26.043460562472916,
          26.30363227964464,
          26.563803996816354,
          26.82397571398807,
          27.084147431159785,
          27.344319148331508,
          27.604490865503223,
          27.86466258267494,
          28.124834299846654,
          28.385006017018377,
          28.645177734190092,
          28.905349451361808,
          29.165521168533523,
          29.42569288570524,
          29.68586460287696,
          29.946036320048677,
          30.206208037220392,
          30.466379754392108,
          30.72655147156383,
          30.986723188735546,
          31.24689490590726,
          31.507066623078977,
          31.7672383402507,
          32.027410057422415,
          32.28758177459413,
          32.547753491765846,
          32.80792520893757,
          33.068096926109284,
          33.328268643281,
          33.588440360452715,
          33.84861207762444,
          34.10878379479615,
          34.36895551196787,
          34.629127229139584,
          34.8892989463113,
          35.14947066348302,
          35.40964238065474,
          35.66981409782645,
          35.929985814998176,
          36.19015753216989,
          36.45032924934161,
          36.71050096651332,
          36.97067268368504,
          37.23084440085676,
          37.491016118028476,
          37.75118783520019,
          38.011359552371914,
          38.27153126954363,
          38.531702986715345,
          38.79187470388706,
          39.052046421058776,
          39.31221813823049,
          39.572389855402214,
          39.83256157257393,
          40.09273328974565,
          40.35290500691737,
          40.61307672408908,
          40.8732484412608,
          41.133420158432514,
          41.39359187560423,
          41.653763592775945,
          41.91393530994767,
          42.17410702711938,
          42.434278744291106,
          42.69445046146282,
          42.95462217863454,
          43.21479389580625,
          43.47496561297797,
          43.73513733014968,
          43.995309047321406,
          44.25548076449312,
          44.515652481664844,
          44.77582419883656,
          45.035995916008275,
          45.29616763317999,
          45.556339350351706,
          45.81651106752342,
          46.07668278469514,
          46.33685450186686,
          46.597026219038575,
          46.8571979362103,
          47.11736965338201,
          47.37754137055373,
          47.637713087725444,
          47.89788480489716,
          48.158056522068875,
          48.4182282392406,
          48.67839995641231,
          48.93857167358403,
          49.19874339075575,
          49.45891510792747
         ]
        },
        {
         "line": {
          "color": "#2c7fb8",
          "dash": "dash"
         },
         "mode": "lines",
         "name": "mean - Std (variability) (3.16 mm)",
         "type": "scatter",
         "x": [
          20.542666666666666,
          20.80283838383838,
          21.0630101010101,
          21.323181818181816,
          21.583353535353535,
          21.84352525252525,
          22.10369696969697,
          22.363868686868685,
          22.624040404040404,
          22.88421212121212,
          23.14438383838384,
          23.404555555555554,
          23.664727272727273,
          23.92489898989899,
          24.185070707070707,
          24.445242424242423,
          24.70541414141414,
          24.965585858585857,
          25.225757575757576,
          25.485929292929292,
          25.746101010101007,
          26.006272727272727,
          26.266444444444442,
          26.52661616161616,
          26.786787878787877,
          27.046959595959596,
          27.30713131313131,
          27.56730303030303,
          27.827474747474746,
          28.08764646464646,
          28.34781818181818,
          28.6079898989899,
          28.868161616161615,
          29.12833333333333,
          29.38850505050505,
          29.64867676767677,
          29.908848484848484,
          30.1690202020202,
          30.42919191919192,
          30.689363636363638,
          30.949535353535353,
          31.20970707070707,
          31.469878787878784,
          31.730050505050503,
          31.990222222222222,
          32.25039393939394,
          32.51056565656565,
          32.770737373737376,
          33.03090909090909,
          33.29108080808081,
          33.55125252525252,
          33.81142424242424,
          34.07159595959596,
          34.331767676767676,
          34.59193939393939,
          34.852111111111114,
          35.11228282828283,
          35.372454545454545,
          35.63262626262626,
          35.892797979797976,
          36.15296969696969,
          36.413141414141414,
          36.67331313131313,
          36.93348484848485,
          37.19365656565657,
          37.45382828282828,
          37.714,
          37.974171717171714,
          38.23434343434343,
          38.494515151515145,
          38.75468686868687,
          39.01485858585858,
          39.275030303030306,
          39.53520202020202,
          39.79537373737374,
          40.05554545454545,
          40.31571717171717,
          40.57588888888888,
          40.836060606060606,
          41.09623232323232,
          41.356404040404044,
          41.61657575757576,
          41.876747474747475,
          42.13691919191919,
          42.397090909090906,
          42.65726262626262,
          42.91743434343434,
          43.17760606060606,
          43.437777777777775,
          43.6979494949495,
          43.95812121212121,
          44.21829292929293,
          44.478464646464644,
          44.73863636363636,
          44.998808080808075,
          45.2589797979798,
          45.51915151515151,
          45.77932323232323,
          46.03949494949495,
          46.29966666666667
         ],
         "y": [
          17.38341822540587,
          17.643589942577584,
          17.9037616597493,
          18.163933376921015,
          18.424105094092738,
          18.684276811264453,
          18.94444852843617,
          19.204620245607884,
          19.464791962779607,
          19.724963679951323,
          19.985135397123038,
          20.245307114294754,
          20.505478831466476,
          20.76565054863819,
          21.025822265809907,
          21.285993982981623,
          21.546165700153338,
          21.80633741732506,
          22.066509134496776,
          22.326680851668492,
          22.586852568840207,
          22.84702428601193,
          23.107196003183645,
          23.36736772035536,
          23.627539437527076,
          23.8877111546988,
          24.147882871870515,
          24.40805458904223,
          24.668226306213946,
          24.92839802338566,
          25.188569740557384,
          25.4487414577291,
          25.708913174900815,
          25.96908489207253,
          26.229256609244253,
          26.48942832641597,
          26.749600043587684,
          27.0097717607594,
          27.269943477931122,
          27.530115195102837,
          27.790286912274553,
          28.05045862944627,
          28.310630346617984,
          28.570802063789706,
          28.830973780961422,
          29.091145498133137,
          29.351317215304853,
          29.611488932476576,
          29.87166064964829,
          30.131832366820007,
          30.392004083991722,
          30.652175801163438,
          30.91234751833516,
          31.172519235506876,
          31.43269095267859,
          31.692862669850314,
          31.95303438702203,
          32.213206104193745,
          32.47337782136546,
          32.733549538537176,
          32.99372125570889,
          33.253892972880614,
          33.51406469005233,
          33.77423640722405,
          34.03440812439577,
          34.29457984156748,
          34.5547515587392,
          34.814923275910914,
          35.07509499308263,
          35.335266710254345,
          35.59543842742607,
          35.85561014459778,
          36.115781861769506,
          36.37595357894122,
          36.63612529611294,
          36.89629701328465,
          37.15646873045637,
          37.41664044762808,
          37.676812164799806,
          37.93698388197152,
          38.197155599143244,
          38.45732731631496,
          38.717499033486675,
          38.97767075065839,
          39.237842467830106,
          39.49801418500182,
          39.75818590217354,
          40.01835761934526,
          40.278529336516975,
          40.5387010536887,
          40.79887277086041,
          41.05904448803213,
          41.319216205203844,
          41.57938792237556,
          41.839559639547275,
          42.099731356719,
          42.35990307389071,
          42.62007479106243,
          42.88024650823415,
          43.14041822540587
         ]
        }
       ],
       "layout": {
        "height": 800,
        "showlegend": true,
        "template": {
         "data": {
          "bar": [
           {
            "error_x": {
             "color": "#2a3f5f"
            },
            "error_y": {
             "color": "#2a3f5f"
            },
            "marker": {
             "line": {
              "color": "#E5ECF6",
              "width": 0.5
             },
             "pattern": {
              "fillmode": "overlay",
              "size": 10,
              "solidity": 0.2
             }
            },
            "type": "bar"
           }
          ],
          "barpolar": [
           {
            "marker": {
             "line": {
              "color": "#E5ECF6",
              "width": 0.5
             },
             "pattern": {
              "fillmode": "overlay",
              "size": 10,
              "solidity": 0.2
             }
            },
            "type": "barpolar"
           }
          ],
          "carpet": [
           {
            "aaxis": {
             "endlinecolor": "#2a3f5f",
             "gridcolor": "white",
             "linecolor": "white",
             "minorgridcolor": "white",
             "startlinecolor": "#2a3f5f"
            },
            "baxis": {
             "endlinecolor": "#2a3f5f",
             "gridcolor": "white",
             "linecolor": "white",
             "minorgridcolor": "white",
             "startlinecolor": "#2a3f5f"
            },
            "type": "carpet"
           }
          ],
          "choropleth": [
           {
            "colorbar": {
             "outlinewidth": 0,
             "ticks": ""
            },
            "type": "choropleth"
           }
          ],
          "contour": [
           {
            "colorbar": {
             "outlinewidth": 0,
             "ticks": ""
            },
            "colorscale": [
             [
              0,
              "#0d0887"
             ],
             [
              0.1111111111111111,
              "#46039f"
             ],
             [
              0.2222222222222222,
              "#7201a8"
             ],
             [
              0.3333333333333333,
              "#9c179e"
             ],
             [
              0.4444444444444444,
              "#bd3786"
             ],
             [
              0.5555555555555556,
              "#d8576b"
             ],
             [
              0.6666666666666666,
              "#ed7953"
             ],
             [
              0.7777777777777778,
              "#fb9f3a"
             ],
             [
              0.8888888888888888,
              "#fdca26"
             ],
             [
              1,
              "#f0f921"
             ]
            ],
            "type": "contour"
           }
          ],
          "contourcarpet": [
           {
            "colorbar": {
             "outlinewidth": 0,
             "ticks": ""
            },
            "type": "contourcarpet"
           }
          ],
          "heatmap": [
           {
            "colorbar": {
             "outlinewidth": 0,
             "ticks": ""
            },
            "colorscale": [
             [
              0,
              "#0d0887"
             ],
             [
              0.1111111111111111,
              "#46039f"
             ],
             [
              0.2222222222222222,
              "#7201a8"
             ],
             [
              0.3333333333333333,
              "#9c179e"
             ],
             [
              0.4444444444444444,
              "#bd3786"
             ],
             [
              0.5555555555555556,
              "#d8576b"
             ],
             [
              0.6666666666666666,
              "#ed7953"
             ],
             [
              0.7777777777777778,
              "#fb9f3a"
             ],
             [
              0.8888888888888888,
              "#fdca26"
             ],
             [
              1,
              "#f0f921"
             ]
            ],
            "type": "heatmap"
           }
          ],
          "heatmapgl": [
           {
            "colorbar": {
             "outlinewidth": 0,
             "ticks": ""
            },
            "colorscale": [
             [
              0,
              "#0d0887"
             ],
             [
              0.1111111111111111,
              "#46039f"
             ],
             [
              0.2222222222222222,
              "#7201a8"
             ],
             [
              0.3333333333333333,
              "#9c179e"
             ],
             [
              0.4444444444444444,
              "#bd3786"
             ],
             [
              0.5555555555555556,
              "#d8576b"
             ],
             [
              0.6666666666666666,
              "#ed7953"
             ],
             [
              0.7777777777777778,
              "#fb9f3a"
             ],
             [
              0.8888888888888888,
              "#fdca26"
             ],
             [
              1,
              "#f0f921"
             ]
            ],
            "type": "heatmapgl"
           }
          ],
          "histogram": [
           {
            "marker": {
             "pattern": {
              "fillmode": "overlay",
              "size": 10,
              "solidity": 0.2
             }
            },
            "type": "histogram"
           }
          ],
          "histogram2d": [
           {
            "colorbar": {
             "outlinewidth": 0,
             "ticks": ""
            },
            "colorscale": [
             [
              0,
              "#0d0887"
             ],
             [
              0.1111111111111111,
              "#46039f"
             ],
             [
              0.2222222222222222,
              "#7201a8"
             ],
             [
              0.3333333333333333,
              "#9c179e"
             ],
             [
              0.4444444444444444,
              "#bd3786"
             ],
             [
              0.5555555555555556,
              "#d8576b"
             ],
             [
              0.6666666666666666,
              "#ed7953"
             ],
             [
              0.7777777777777778,
              "#fb9f3a"
             ],
             [
              0.8888888888888888,
              "#fdca26"
             ],
             [
              1,
              "#f0f921"
             ]
            ],
            "type": "histogram2d"
           }
          ],
          "histogram2dcontour": [
           {
            "colorbar": {
             "outlinewidth": 0,
             "ticks": ""
            },
            "colorscale": [
             [
              0,
              "#0d0887"
             ],
             [
              0.1111111111111111,
              "#46039f"
             ],
             [
              0.2222222222222222,
              "#7201a8"
             ],
             [
              0.3333333333333333,
              "#9c179e"
             ],
             [
              0.4444444444444444,
              "#bd3786"
             ],
             [
              0.5555555555555556,
              "#d8576b"
             ],
             [
              0.6666666666666666,
              "#ed7953"
             ],
             [
              0.7777777777777778,
              "#fb9f3a"
             ],
             [
              0.8888888888888888,
              "#fdca26"
             ],
             [
              1,
              "#f0f921"
             ]
            ],
            "type": "histogram2dcontour"
           }
          ],
          "mesh3d": [
           {
            "colorbar": {
             "outlinewidth": 0,
             "ticks": ""
            },
            "type": "mesh3d"
           }
          ],
          "parcoords": [
           {
            "line": {
             "colorbar": {
              "outlinewidth": 0,
              "ticks": ""
             }
            },
            "type": "parcoords"
           }
          ],
          "pie": [
           {
            "automargin": true,
            "type": "pie"
           }
          ],
          "scatter": [
           {
            "fillpattern": {
             "fillmode": "overlay",
             "size": 10,
             "solidity": 0.2
            },
            "type": "scatter"
           }
          ],
          "scatter3d": [
           {
            "line": {
             "colorbar": {
              "outlinewidth": 0,
              "ticks": ""
             }
            },
            "marker": {
             "colorbar": {
              "outlinewidth": 0,
              "ticks": ""
             }
            },
            "type": "scatter3d"
           }
          ],
          "scattercarpet": [
           {
            "marker": {
             "colorbar": {
              "outlinewidth": 0,
              "ticks": ""
             }
            },
            "type": "scattercarpet"
           }
          ],
          "scattergeo": [
           {
            "marker": {
             "colorbar": {
              "outlinewidth": 0,
              "ticks": ""
             }
            },
            "type": "scattergeo"
           }
          ],
          "scattergl": [
           {
            "marker": {
             "colorbar": {
              "outlinewidth": 0,
              "ticks": ""
             }
            },
            "type": "scattergl"
           }
          ],
          "scattermapbox": [
           {
            "marker": {
             "colorbar": {
              "outlinewidth": 0,
              "ticks": ""
             }
            },
            "type": "scattermapbox"
           }
          ],
          "scatterpolar": [
           {
            "marker": {
             "colorbar": {
              "outlinewidth": 0,
              "ticks": ""
             }
            },
            "type": "scatterpolar"
           }
          ],
          "scatterpolargl": [
           {
            "marker": {
             "colorbar": {
              "outlinewidth": 0,
              "ticks": ""
             }
            },
            "type": "scatterpolargl"
           }
          ],
          "scatterternary": [
           {
            "marker": {
             "colorbar": {
              "outlinewidth": 0,
              "ticks": ""
             }
            },
            "type": "scatterternary"
           }
          ],
          "surface": [
           {
            "colorbar": {
             "outlinewidth": 0,
             "ticks": ""
            },
            "colorscale": [
             [
              0,
              "#0d0887"
             ],
             [
              0.1111111111111111,
              "#46039f"
             ],
             [
              0.2222222222222222,
              "#7201a8"
             ],
             [
              0.3333333333333333,
              "#9c179e"
             ],
             [
              0.4444444444444444,
              "#bd3786"
             ],
             [
              0.5555555555555556,
              "#d8576b"
             ],
             [
              0.6666666666666666,
              "#ed7953"
             ],
             [
              0.7777777777777778,
              "#fb9f3a"
             ],
             [
              0.8888888888888888,
              "#fdca26"
             ],
             [
              1,
              "#f0f921"
             ]
            ],
            "type": "surface"
           }
          ],
          "table": [
           {
            "cells": {
             "fill": {
              "color": "#EBF0F8"
             },
             "line": {
              "color": "white"
             }
            },
            "header": {
             "fill": {
              "color": "#C8D4E3"
             },
             "line": {
              "color": "white"
             }
            },
            "type": "table"
           }
          ]
         },
         "layout": {
          "annotationdefaults": {
           "arrowcolor": "#2a3f5f",
           "arrowhead": 0,
           "arrowwidth": 1
          },
          "autotypenumbers": "strict",
          "coloraxis": {
           "colorbar": {
            "outlinewidth": 0,
            "ticks": ""
           }
          },
          "colorscale": {
           "diverging": [
            [
             0,
             "#8e0152"
            ],
            [
             0.1,
             "#c51b7d"
            ],
            [
             0.2,
             "#de77ae"
            ],
            [
             0.3,
             "#f1b6da"
            ],
            [
             0.4,
             "#fde0ef"
            ],
            [
             0.5,
             "#f7f7f7"
            ],
            [
             0.6,
             "#e6f5d0"
            ],
            [
             0.7,
             "#b8e186"
            ],
            [
             0.8,
             "#7fbc41"
            ],
            [
             0.9,
             "#4d9221"
            ],
            [
             1,
             "#276419"
            ]
           ],
           "sequential": [
            [
             0,
             "#0d0887"
            ],
            [
             0.1111111111111111,
             "#46039f"
            ],
            [
             0.2222222222222222,
             "#7201a8"
            ],
            [
             0.3333333333333333,
             "#9c179e"
            ],
            [
             0.4444444444444444,
             "#bd3786"
            ],
            [
             0.5555555555555556,
             "#d8576b"
            ],
            [
             0.6666666666666666,
             "#ed7953"
            ],
            [
             0.7777777777777778,
             "#fb9f3a"
            ],
            [
             0.8888888888888888,
             "#fdca26"
            ],
            [
             1,
             "#f0f921"
            ]
           ],
           "sequentialminus": [
            [
             0,
             "#0d0887"
            ],
            [
             0.1111111111111111,
             "#46039f"
            ],
            [
             0.2222222222222222,
             "#7201a8"
            ],
            [
             0.3333333333333333,
             "#9c179e"
            ],
            [
             0.4444444444444444,
             "#bd3786"
            ],
            [
             0.5555555555555556,
             "#d8576b"
            ],
            [
             0.6666666666666666,
             "#ed7953"
            ],
            [
             0.7777777777777778,
             "#fb9f3a"
            ],
            [
             0.8888888888888888,
             "#fdca26"
            ],
            [
             1,
             "#f0f921"
            ]
           ]
          },
          "colorway": [
           "#636efa",
           "#EF553B",
           "#00cc96",
           "#ab63fa",
           "#FFA15A",
           "#19d3f3",
           "#FF6692",
           "#B6E880",
           "#FF97FF",
           "#FECB52"
          ],
          "font": {
           "color": "#2a3f5f"
          },
          "geo": {
           "bgcolor": "white",
           "lakecolor": "white",
           "landcolor": "#E5ECF6",
           "showlakes": true,
           "showland": true,
           "subunitcolor": "white"
          },
          "hoverlabel": {
           "align": "left"
          },
          "hovermode": "closest",
          "mapbox": {
           "style": "light"
          },
          "paper_bgcolor": "white",
          "plot_bgcolor": "#E5ECF6",
          "polar": {
           "angularaxis": {
            "gridcolor": "white",
            "linecolor": "white",
            "ticks": ""
           },
           "bgcolor": "#E5ECF6",
           "radialaxis": {
            "gridcolor": "white",
            "linecolor": "white",
            "ticks": ""
           }
          },
          "scene": {
           "xaxis": {
            "backgroundcolor": "#E5ECF6",
            "gridcolor": "white",
            "gridwidth": 2,
            "linecolor": "white",
            "showbackground": true,
            "ticks": "",
            "zerolinecolor": "white"
           },
           "yaxis": {
            "backgroundcolor": "#E5ECF6",
            "gridcolor": "white",
            "gridwidth": 2,
            "linecolor": "white",
            "showbackground": true,
            "ticks": "",
            "zerolinecolor": "white"
           },
           "zaxis": {
            "backgroundcolor": "#E5ECF6",
            "gridcolor": "white",
            "gridwidth": 2,
            "linecolor": "white",
            "showbackground": true,
            "ticks": "",
            "zerolinecolor": "white"
           }
          },
          "shapedefaults": {
           "line": {
            "color": "#2a3f5f"
           }
          },
          "ternary": {
           "aaxis": {
            "gridcolor": "white",
            "linecolor": "white",
            "ticks": ""
           },
           "baxis": {
            "gridcolor": "white",
            "linecolor": "white",
            "ticks": ""
           },
           "bgcolor": "#E5ECF6",
           "caxis": {
            "gridcolor": "white",
            "linecolor": "white",
            "ticks": ""
           }
          },
          "title": {
           "x": 0.05
          },
          "xaxis": {
           "automargin": true,
           "gridcolor": "white",
           "linecolor": "white",
           "ticks": "",
           "title": {
            "standoff": 15
           },
           "zerolinecolor": "white",
           "zerolinewidth": 2
          },
          "yaxis": {
           "automargin": true,
           "gridcolor": "white",
           "linecolor": "white",
           "ticks": "",
           "title": {
            "standoff": 15
           },
           "zerolinecolor": "white",
           "zerolinewidth": 2
          }
         }
        },
        "title": {
         "text": "Model Measurements vs mean Values with Std (variability) Boundaries - circle_female"
        },
        "width": 800,
        "xaxis": {
         "title": {
          "text": "mean of manual measurements (mm)"
         }
        },
        "yaxis": {
         "scaleanchor": "x",
         "scaleratio": 1,
         "title": {
          "text": "Model Measurements  (mm)"
         }
        }
       }
      }
     },
     "metadata": {},
     "output_type": "display_data"
    },
    {
     "name": "stdout",
     "output_type": "stream",
     "text": [
      "Mean length for circle_male: 25.085435897435897\n",
      "Std length for circle_male: 3.0509964160822687\n",
      "Number of prawns in circle_male: 13\n"
     ]
    },
    {
     "data": {
      "application/vnd.plotly.v1+json": {
       "config": {
        "plotlyServerURL": "https://plot.ly"
       },
       "data": [
        {
         "hoverinfo": "text+x+y",
         "marker": {
          "color": "#ff7f0e",
          "opacity": 0.7
         },
         "mode": "markers",
         "name": "Measurements",
         "text": [
          "Image: carapace:undistorted_GX010089_11_236.jpg_gamma<br>Prawn ID: Prawn_0",
          "Image: carapace:undistorted_GX010089_11_236.jpg_gamma<br>Prawn ID: Prawn_1",
          "Image: carapace:undistorted_GX010089_11_236.jpg_gamma<br>Prawn ID: Prawn_2",
          "Image: carapace:undistorted_GX010091_5_149.jpg_gamma<br>Prawn ID: Prawn_0",
          "Image: carapace:undistorted_GX010091_5_149.jpg_gamma<br>Prawn ID: Prawn_1",
          "Image: carapace:undistorted_GX010091_5_149.jpg_gamma<br>Prawn ID: Prawn_2",
          "Image: carapace:undistorted_GX010102_9_165.jpg_gamma<br>Prawn ID: Prawn_0",
          "Image: carapace:undistorted_GX010102_9_165.jpg_gamma<br>Prawn ID: Prawn_2",
          "Image: carapace:undistorted_GX010102_9_165.jpg_gamma<br>Prawn ID: Prawn_3",
          "Image: carapace:undistorted_GX010102_9_165.jpg_gamma<br>Prawn ID: Prawn_4",
          "Image: carapace:undistorted_GX010102_50_1396.jpg_gamma<br>Prawn ID: Prawn_0",
          "Image: carapace:undistorted_GX010105_28_816.jpg_gamma<br>Prawn ID: Prawn_0",
          "Image: carapace:undistorted_GX010105_28_816.jpg_gamma<br>Prawn ID: Prawn_1"
         ],
         "type": "scatter",
         "x": [
          27.968666666666664,
          22.925,
          27.132,
          19.889666666666667,
          31.549333333333337,
          28.17333333333333,
          27.877,
          20.31433333333333,
          19.846666666666668,
          21.879999999999995,
          32.966,
          19.029,
          26.55966666666667
         ],
         "y": [
          23.83967190786355,
          19.38509641605611,
          25.36365238898421,
          17.55763413780661,
          26.32169099525633,
          23.59952845133371,
          28.40337607854461,
          6.172165823161512,
          17.53661307324709,
          20.30684270335733,
          31.82711707142748,
          18.96652793127783,
          31.1533472873859
         ]
        },
        {
         "line": {
          "color": "black",
          "dash": "dash"
         },
         "mode": "lines",
         "name": "Perfect match (y=x)",
         "type": "scatter",
         "x": [
          6.172165823161512,
          6.442810612826547,
          6.713455402491583,
          6.9841001921566175,
          7.254744981821653,
          7.525389771486688,
          7.796034561151723,
          8.06667935081676,
          8.337324140481794,
          8.607968930146829,
          8.878613719811865,
          9.1492585094769,
          9.419903299141936,
          9.69054808880697,
          9.961192878472005,
          10.23183766813704,
          10.502482457802076,
          10.773127247467112,
          11.043772037132147,
          11.314416826797181,
          11.585061616462216,
          11.855706406127252,
          12.126351195792287,
          12.396995985457323,
          12.667640775122358,
          12.938285564787392,
          13.208930354452429,
          13.479575144117463,
          13.7502199337825,
          14.020864723447534,
          14.291509513112569,
          14.562154302777605,
          14.83279909244264,
          15.103443882107674,
          15.37408867177271,
          15.644733461437745,
          15.915378251102782,
          16.186023040767815,
          16.45666783043285,
          16.727312620097887,
          16.997957409762922,
          17.268602199427956,
          17.539246989092995,
          17.80989177875803,
          18.080536568423064,
          18.3511813580881,
          18.621826147753133,
          18.892470937418167,
          19.163115727083202,
          19.433760516748237,
          19.704405306413275,
          19.97505009607831,
          20.245694885743347,
          20.516339675408382,
          20.786984465073417,
          21.05762925473845,
          21.328274044403486,
          21.59891883406852,
          21.869563623733555,
          22.14020841339859,
          22.410853203063624,
          22.68149799272866,
          22.9521427823937,
          23.222787572058735,
          23.49343236172377,
          23.764077151388804,
          24.03472194105384,
          24.305366730718873,
          24.576011520383908,
          24.846656310048942,
          25.117301099713977,
          25.38794588937901,
          25.658590679044053,
          25.929235468709088,
          26.199880258374122,
          26.470525048039157,
          26.74116983770419,
          27.011814627369226,
          27.28245941703426,
          27.553104206699295,
          27.82374899636433,
          28.094393786029364,
          28.3650385756944,
          28.63568336535944,
          28.906328155024475,
          29.17697294468951,
          29.447617734354544,
          29.71826252401958,
          29.988907313684614,
          30.259552103349648,
          30.530196893014683,
          30.800841682679717,
          31.071486472344752,
          31.342131262009786,
          31.612776051674828,
          31.883420841339863,
          32.1540656310049,
          32.42471042066993,
          32.69535521033497,
          32.966
         ],
         "y": [
          6.172165823161512,
          6.442810612826547,
          6.713455402491583,
          6.9841001921566175,
          7.254744981821653,
          7.525389771486688,
          7.796034561151723,
          8.06667935081676,
          8.337324140481794,
          8.607968930146829,
          8.878613719811865,
          9.1492585094769,
          9.419903299141936,
          9.69054808880697,
          9.961192878472005,
          10.23183766813704,
          10.502482457802076,
          10.773127247467112,
          11.043772037132147,
          11.314416826797181,
          11.585061616462216,
          11.855706406127252,
          12.126351195792287,
          12.396995985457323,
          12.667640775122358,
          12.938285564787392,
          13.208930354452429,
          13.479575144117463,
          13.7502199337825,
          14.020864723447534,
          14.291509513112569,
          14.562154302777605,
          14.83279909244264,
          15.103443882107674,
          15.37408867177271,
          15.644733461437745,
          15.915378251102782,
          16.186023040767815,
          16.45666783043285,
          16.727312620097887,
          16.997957409762922,
          17.268602199427956,
          17.539246989092995,
          17.80989177875803,
          18.080536568423064,
          18.3511813580881,
          18.621826147753133,
          18.892470937418167,
          19.163115727083202,
          19.433760516748237,
          19.704405306413275,
          19.97505009607831,
          20.245694885743347,
          20.516339675408382,
          20.786984465073417,
          21.05762925473845,
          21.328274044403486,
          21.59891883406852,
          21.869563623733555,
          22.14020841339859,
          22.410853203063624,
          22.68149799272866,
          22.9521427823937,
          23.222787572058735,
          23.49343236172377,
          23.764077151388804,
          24.03472194105384,
          24.305366730718873,
          24.576011520383908,
          24.846656310048942,
          25.117301099713977,
          25.38794588937901,
          25.658590679044053,
          25.929235468709088,
          26.199880258374122,
          26.470525048039157,
          26.74116983770419,
          27.011814627369226,
          27.28245941703426,
          27.553104206699295,
          27.82374899636433,
          28.094393786029364,
          28.3650385756944,
          28.63568336535944,
          28.906328155024475,
          29.17697294468951,
          29.447617734354544,
          29.71826252401958,
          29.988907313684614,
          30.259552103349648,
          30.530196893014683,
          30.800841682679717,
          31.071486472344752,
          31.342131262009786,
          31.612776051674828,
          31.883420841339863,
          32.1540656310049,
          32.42471042066993,
          32.69535521033497,
          32.966
         ]
        },
        {
         "line": {
          "color": "#2c7fb8",
          "dash": "dash"
         },
         "mode": "lines",
         "name": "mean + Std (variability) (3.05 mm)",
         "type": "scatter",
         "x": [
          6.172165823161512,
          6.442810612826547,
          6.713455402491583,
          6.9841001921566175,
          7.254744981821653,
          7.525389771486688,
          7.796034561151723,
          8.06667935081676,
          8.337324140481794,
          8.607968930146829,
          8.878613719811865,
          9.1492585094769,
          9.419903299141936,
          9.69054808880697,
          9.961192878472005,
          10.23183766813704,
          10.502482457802076,
          10.773127247467112,
          11.043772037132147,
          11.314416826797181,
          11.585061616462216,
          11.855706406127252,
          12.126351195792287,
          12.396995985457323,
          12.667640775122358,
          12.938285564787392,
          13.208930354452429,
          13.479575144117463,
          13.7502199337825,
          14.020864723447534,
          14.291509513112569,
          14.562154302777605,
          14.83279909244264,
          15.103443882107674,
          15.37408867177271,
          15.644733461437745,
          15.915378251102782,
          16.186023040767815,
          16.45666783043285,
          16.727312620097887,
          16.997957409762922,
          17.268602199427956,
          17.539246989092995,
          17.80989177875803,
          18.080536568423064,
          18.3511813580881,
          18.621826147753133,
          18.892470937418167,
          19.163115727083202,
          19.433760516748237,
          19.704405306413275,
          19.97505009607831,
          20.245694885743347,
          20.516339675408382,
          20.786984465073417,
          21.05762925473845,
          21.328274044403486,
          21.59891883406852,
          21.869563623733555,
          22.14020841339859,
          22.410853203063624,
          22.68149799272866,
          22.9521427823937,
          23.222787572058735,
          23.49343236172377,
          23.764077151388804,
          24.03472194105384,
          24.305366730718873,
          24.576011520383908,
          24.846656310048942,
          25.117301099713977,
          25.38794588937901,
          25.658590679044053,
          25.929235468709088,
          26.199880258374122,
          26.470525048039157,
          26.74116983770419,
          27.011814627369226,
          27.28245941703426,
          27.553104206699295,
          27.82374899636433,
          28.094393786029364,
          28.3650385756944,
          28.63568336535944,
          28.906328155024475,
          29.17697294468951,
          29.447617734354544,
          29.71826252401958,
          29.988907313684614,
          30.259552103349648,
          30.530196893014683,
          30.800841682679717,
          31.071486472344752,
          31.342131262009786,
          31.612776051674828,
          31.883420841339863,
          32.1540656310049,
          32.42471042066993,
          32.69535521033497,
          32.966
         ],
         "y": [
          9.22316223924378,
          9.493807028908815,
          9.764451818573852,
          10.035096608238886,
          10.305741397903923,
          10.576386187568957,
          10.847030977233992,
          11.117675766899028,
          11.388320556564063,
          11.658965346229097,
          11.929610135894134,
          12.200254925559168,
          12.470899715224204,
          12.741544504889239,
          13.012189294554274,
          13.282834084219308,
          13.553478873884345,
          13.824123663549381,
          14.094768453214416,
          14.36541324287945,
          14.636058032544485,
          14.906702822209521,
          15.177347611874556,
          15.447992401539592,
          15.718637191204627,
          15.989281980869661,
          16.259926770534697,
          16.530571560199732,
          16.801216349864767,
          17.0718611395298,
          17.342505929194836,
          17.613150718859874,
          17.88379550852491,
          18.154440298189943,
          18.42508508785498,
          18.695729877520016,
          18.96637466718505,
          19.237019456850085,
          19.50766424651512,
          19.778309036180154,
          20.04895382584519,
          20.319598615510223,
          20.590243405175265,
          20.8608881948403,
          21.131532984505334,
          21.40217777417037,
          21.672822563835403,
          21.943467353500438,
          22.214112143165472,
          22.484756932830507,
          22.75540172249554,
          23.026046512160576,
          23.296691301825618,
          23.567336091490652,
          23.837980881155687,
          24.10862567082072,
          24.379270460485756,
          24.64991525015079,
          24.920560039815825,
          25.19120482948086,
          25.461849619145895,
          25.73249440881093,
          26.00313919847597,
          26.273783988141005,
          26.54442877780604,
          26.815073567471075,
          27.08571835713611,
          27.356363146801144,
          27.62700793646618,
          27.897652726131213,
          28.168297515796247,
          28.438942305461282,
          28.709587095126324,
          28.98023188479136,
          29.250876674456393,
          29.521521464121427,
          29.792166253786462,
          30.062811043451497,
          30.33345583311653,
          30.604100622781566,
          30.8747454124466,
          31.145390202111635,
          31.41603499177667,
          31.68667978144171,
          31.957324571106746,
          32.22796936077178,
          32.498614150436815,
          32.76925894010185,
          33.039903729766884,
          33.31054851943192,
          33.58119330909695,
          33.85183809876199,
          34.12248288842702,
          34.39312767809206,
          34.6637724677571,
          34.93441725742213,
          35.20506204708717,
          35.4757068367522,
          35.74635162641724,
          36.01699641608227
         ]
        },
        {
         "line": {
          "color": "#2c7fb8",
          "dash": "dash"
         },
         "mode": "lines",
         "name": "mean - Std (variability) (3.05 mm)",
         "type": "scatter",
         "x": [
          6.172165823161512,
          6.442810612826547,
          6.713455402491583,
          6.9841001921566175,
          7.254744981821653,
          7.525389771486688,
          7.796034561151723,
          8.06667935081676,
          8.337324140481794,
          8.607968930146829,
          8.878613719811865,
          9.1492585094769,
          9.419903299141936,
          9.69054808880697,
          9.961192878472005,
          10.23183766813704,
          10.502482457802076,
          10.773127247467112,
          11.043772037132147,
          11.314416826797181,
          11.585061616462216,
          11.855706406127252,
          12.126351195792287,
          12.396995985457323,
          12.667640775122358,
          12.938285564787392,
          13.208930354452429,
          13.479575144117463,
          13.7502199337825,
          14.020864723447534,
          14.291509513112569,
          14.562154302777605,
          14.83279909244264,
          15.103443882107674,
          15.37408867177271,
          15.644733461437745,
          15.915378251102782,
          16.186023040767815,
          16.45666783043285,
          16.727312620097887,
          16.997957409762922,
          17.268602199427956,
          17.539246989092995,
          17.80989177875803,
          18.080536568423064,
          18.3511813580881,
          18.621826147753133,
          18.892470937418167,
          19.163115727083202,
          19.433760516748237,
          19.704405306413275,
          19.97505009607831,
          20.245694885743347,
          20.516339675408382,
          20.786984465073417,
          21.05762925473845,
          21.328274044403486,
          21.59891883406852,
          21.869563623733555,
          22.14020841339859,
          22.410853203063624,
          22.68149799272866,
          22.9521427823937,
          23.222787572058735,
          23.49343236172377,
          23.764077151388804,
          24.03472194105384,
          24.305366730718873,
          24.576011520383908,
          24.846656310048942,
          25.117301099713977,
          25.38794588937901,
          25.658590679044053,
          25.929235468709088,
          26.199880258374122,
          26.470525048039157,
          26.74116983770419,
          27.011814627369226,
          27.28245941703426,
          27.553104206699295,
          27.82374899636433,
          28.094393786029364,
          28.3650385756944,
          28.63568336535944,
          28.906328155024475,
          29.17697294468951,
          29.447617734354544,
          29.71826252401958,
          29.988907313684614,
          30.259552103349648,
          30.530196893014683,
          30.800841682679717,
          31.071486472344752,
          31.342131262009786,
          31.612776051674828,
          31.883420841339863,
          32.1540656310049,
          32.42471042066993,
          32.69535521033497,
          32.966
         ],
         "y": [
          3.1211694070792433,
          3.3918141967442788,
          3.662458986409314,
          3.933103776074349,
          4.203748565739384,
          4.47439335540442,
          4.745038145069454,
          5.015682934734491,
          5.286327724399525,
          5.55697251406456,
          5.827617303729596,
          6.098262093394631,
          6.368906883059667,
          6.639551672724702,
          6.910196462389736,
          7.180841252054771,
          7.451486041719807,
          7.722130831384844,
          7.992775621049878,
          8.263420410714913,
          8.534065200379947,
          8.804709990044984,
          9.075354779710018,
          9.345999569375055,
          9.61664435904009,
          9.887289148705124,
          10.15793393837016,
          10.428578728035195,
          10.699223517700231,
          10.969868307365266,
          11.2405130970303,
          11.511157886695337,
          11.781802676360371,
          12.052447466025406,
          12.323092255690442,
          12.593737045355477,
          12.864381835020513,
          13.135026624685546,
          13.40567141435058,
          13.676316204015619,
          13.946960993680653,
          14.217605783345688,
          14.488250573010726,
          14.75889536267576,
          15.029540152340795,
          15.30018494200583,
          15.570829731670864,
          15.841474521335899,
          16.11211931100093,
          16.382764100665966,
          16.653408890331008,
          16.924053679996042,
          17.194698469661077,
          17.46534325932611,
          17.735988048991146,
          18.00663283865618,
          18.277277628321215,
          18.54792241798625,
          18.818567207651284,
          19.08921199731632,
          19.359856786981354,
          19.630501576646388,
          19.90114636631143,
          20.171791155976464,
          20.4424359456415,
          20.713080735306534,
          20.983725524971568,
          21.254370314636603,
          21.525015104301637,
          21.795659893966672,
          22.066304683631706,
          22.33694947329674,
          22.607594262961783,
          22.878239052626817,
          23.148883842291852,
          23.419528631956886,
          23.69017342162192,
          23.960818211286956,
          24.23146300095199,
          24.502107790617025,
          24.77275258028206,
          25.043397369947094,
          25.31404215961213,
          25.58468694927717,
          25.855331738942205,
          26.12597652860724,
          26.396621318272274,
          26.66726610793731,
          26.937910897602343,
          27.208555687267378,
          27.479200476932412,
          27.749845266597447,
          28.02049005626248,
          28.291134845927516,
          28.561779635592558,
          28.832424425257592,
          29.103069214922627,
          29.37371400458766,
          29.644358794252696,
          29.91500358391773
         ]
        }
       ],
       "layout": {
        "height": 800,
        "showlegend": true,
        "template": {
         "data": {
          "bar": [
           {
            "error_x": {
             "color": "#2a3f5f"
            },
            "error_y": {
             "color": "#2a3f5f"
            },
            "marker": {
             "line": {
              "color": "#E5ECF6",
              "width": 0.5
             },
             "pattern": {
              "fillmode": "overlay",
              "size": 10,
              "solidity": 0.2
             }
            },
            "type": "bar"
           }
          ],
          "barpolar": [
           {
            "marker": {
             "line": {
              "color": "#E5ECF6",
              "width": 0.5
             },
             "pattern": {
              "fillmode": "overlay",
              "size": 10,
              "solidity": 0.2
             }
            },
            "type": "barpolar"
           }
          ],
          "carpet": [
           {
            "aaxis": {
             "endlinecolor": "#2a3f5f",
             "gridcolor": "white",
             "linecolor": "white",
             "minorgridcolor": "white",
             "startlinecolor": "#2a3f5f"
            },
            "baxis": {
             "endlinecolor": "#2a3f5f",
             "gridcolor": "white",
             "linecolor": "white",
             "minorgridcolor": "white",
             "startlinecolor": "#2a3f5f"
            },
            "type": "carpet"
           }
          ],
          "choropleth": [
           {
            "colorbar": {
             "outlinewidth": 0,
             "ticks": ""
            },
            "type": "choropleth"
           }
          ],
          "contour": [
           {
            "colorbar": {
             "outlinewidth": 0,
             "ticks": ""
            },
            "colorscale": [
             [
              0,
              "#0d0887"
             ],
             [
              0.1111111111111111,
              "#46039f"
             ],
             [
              0.2222222222222222,
              "#7201a8"
             ],
             [
              0.3333333333333333,
              "#9c179e"
             ],
             [
              0.4444444444444444,
              "#bd3786"
             ],
             [
              0.5555555555555556,
              "#d8576b"
             ],
             [
              0.6666666666666666,
              "#ed7953"
             ],
             [
              0.7777777777777778,
              "#fb9f3a"
             ],
             [
              0.8888888888888888,
              "#fdca26"
             ],
             [
              1,
              "#f0f921"
             ]
            ],
            "type": "contour"
           }
          ],
          "contourcarpet": [
           {
            "colorbar": {
             "outlinewidth": 0,
             "ticks": ""
            },
            "type": "contourcarpet"
           }
          ],
          "heatmap": [
           {
            "colorbar": {
             "outlinewidth": 0,
             "ticks": ""
            },
            "colorscale": [
             [
              0,
              "#0d0887"
             ],
             [
              0.1111111111111111,
              "#46039f"
             ],
             [
              0.2222222222222222,
              "#7201a8"
             ],
             [
              0.3333333333333333,
              "#9c179e"
             ],
             [
              0.4444444444444444,
              "#bd3786"
             ],
             [
              0.5555555555555556,
              "#d8576b"
             ],
             [
              0.6666666666666666,
              "#ed7953"
             ],
             [
              0.7777777777777778,
              "#fb9f3a"
             ],
             [
              0.8888888888888888,
              "#fdca26"
             ],
             [
              1,
              "#f0f921"
             ]
            ],
            "type": "heatmap"
           }
          ],
          "heatmapgl": [
           {
            "colorbar": {
             "outlinewidth": 0,
             "ticks": ""
            },
            "colorscale": [
             [
              0,
              "#0d0887"
             ],
             [
              0.1111111111111111,
              "#46039f"
             ],
             [
              0.2222222222222222,
              "#7201a8"
             ],
             [
              0.3333333333333333,
              "#9c179e"
             ],
             [
              0.4444444444444444,
              "#bd3786"
             ],
             [
              0.5555555555555556,
              "#d8576b"
             ],
             [
              0.6666666666666666,
              "#ed7953"
             ],
             [
              0.7777777777777778,
              "#fb9f3a"
             ],
             [
              0.8888888888888888,
              "#fdca26"
             ],
             [
              1,
              "#f0f921"
             ]
            ],
            "type": "heatmapgl"
           }
          ],
          "histogram": [
           {
            "marker": {
             "pattern": {
              "fillmode": "overlay",
              "size": 10,
              "solidity": 0.2
             }
            },
            "type": "histogram"
           }
          ],
          "histogram2d": [
           {
            "colorbar": {
             "outlinewidth": 0,
             "ticks": ""
            },
            "colorscale": [
             [
              0,
              "#0d0887"
             ],
             [
              0.1111111111111111,
              "#46039f"
             ],
             [
              0.2222222222222222,
              "#7201a8"
             ],
             [
              0.3333333333333333,
              "#9c179e"
             ],
             [
              0.4444444444444444,
              "#bd3786"
             ],
             [
              0.5555555555555556,
              "#d8576b"
             ],
             [
              0.6666666666666666,
              "#ed7953"
             ],
             [
              0.7777777777777778,
              "#fb9f3a"
             ],
             [
              0.8888888888888888,
              "#fdca26"
             ],
             [
              1,
              "#f0f921"
             ]
            ],
            "type": "histogram2d"
           }
          ],
          "histogram2dcontour": [
           {
            "colorbar": {
             "outlinewidth": 0,
             "ticks": ""
            },
            "colorscale": [
             [
              0,
              "#0d0887"
             ],
             [
              0.1111111111111111,
              "#46039f"
             ],
             [
              0.2222222222222222,
              "#7201a8"
             ],
             [
              0.3333333333333333,
              "#9c179e"
             ],
             [
              0.4444444444444444,
              "#bd3786"
             ],
             [
              0.5555555555555556,
              "#d8576b"
             ],
             [
              0.6666666666666666,
              "#ed7953"
             ],
             [
              0.7777777777777778,
              "#fb9f3a"
             ],
             [
              0.8888888888888888,
              "#fdca26"
             ],
             [
              1,
              "#f0f921"
             ]
            ],
            "type": "histogram2dcontour"
           }
          ],
          "mesh3d": [
           {
            "colorbar": {
             "outlinewidth": 0,
             "ticks": ""
            },
            "type": "mesh3d"
           }
          ],
          "parcoords": [
           {
            "line": {
             "colorbar": {
              "outlinewidth": 0,
              "ticks": ""
             }
            },
            "type": "parcoords"
           }
          ],
          "pie": [
           {
            "automargin": true,
            "type": "pie"
           }
          ],
          "scatter": [
           {
            "fillpattern": {
             "fillmode": "overlay",
             "size": 10,
             "solidity": 0.2
            },
            "type": "scatter"
           }
          ],
          "scatter3d": [
           {
            "line": {
             "colorbar": {
              "outlinewidth": 0,
              "ticks": ""
             }
            },
            "marker": {
             "colorbar": {
              "outlinewidth": 0,
              "ticks": ""
             }
            },
            "type": "scatter3d"
           }
          ],
          "scattercarpet": [
           {
            "marker": {
             "colorbar": {
              "outlinewidth": 0,
              "ticks": ""
             }
            },
            "type": "scattercarpet"
           }
          ],
          "scattergeo": [
           {
            "marker": {
             "colorbar": {
              "outlinewidth": 0,
              "ticks": ""
             }
            },
            "type": "scattergeo"
           }
          ],
          "scattergl": [
           {
            "marker": {
             "colorbar": {
              "outlinewidth": 0,
              "ticks": ""
             }
            },
            "type": "scattergl"
           }
          ],
          "scattermapbox": [
           {
            "marker": {
             "colorbar": {
              "outlinewidth": 0,
              "ticks": ""
             }
            },
            "type": "scattermapbox"
           }
          ],
          "scatterpolar": [
           {
            "marker": {
             "colorbar": {
              "outlinewidth": 0,
              "ticks": ""
             }
            },
            "type": "scatterpolar"
           }
          ],
          "scatterpolargl": [
           {
            "marker": {
             "colorbar": {
              "outlinewidth": 0,
              "ticks": ""
             }
            },
            "type": "scatterpolargl"
           }
          ],
          "scatterternary": [
           {
            "marker": {
             "colorbar": {
              "outlinewidth": 0,
              "ticks": ""
             }
            },
            "type": "scatterternary"
           }
          ],
          "surface": [
           {
            "colorbar": {
             "outlinewidth": 0,
             "ticks": ""
            },
            "colorscale": [
             [
              0,
              "#0d0887"
             ],
             [
              0.1111111111111111,
              "#46039f"
             ],
             [
              0.2222222222222222,
              "#7201a8"
             ],
             [
              0.3333333333333333,
              "#9c179e"
             ],
             [
              0.4444444444444444,
              "#bd3786"
             ],
             [
              0.5555555555555556,
              "#d8576b"
             ],
             [
              0.6666666666666666,
              "#ed7953"
             ],
             [
              0.7777777777777778,
              "#fb9f3a"
             ],
             [
              0.8888888888888888,
              "#fdca26"
             ],
             [
              1,
              "#f0f921"
             ]
            ],
            "type": "surface"
           }
          ],
          "table": [
           {
            "cells": {
             "fill": {
              "color": "#EBF0F8"
             },
             "line": {
              "color": "white"
             }
            },
            "header": {
             "fill": {
              "color": "#C8D4E3"
             },
             "line": {
              "color": "white"
             }
            },
            "type": "table"
           }
          ]
         },
         "layout": {
          "annotationdefaults": {
           "arrowcolor": "#2a3f5f",
           "arrowhead": 0,
           "arrowwidth": 1
          },
          "autotypenumbers": "strict",
          "coloraxis": {
           "colorbar": {
            "outlinewidth": 0,
            "ticks": ""
           }
          },
          "colorscale": {
           "diverging": [
            [
             0,
             "#8e0152"
            ],
            [
             0.1,
             "#c51b7d"
            ],
            [
             0.2,
             "#de77ae"
            ],
            [
             0.3,
             "#f1b6da"
            ],
            [
             0.4,
             "#fde0ef"
            ],
            [
             0.5,
             "#f7f7f7"
            ],
            [
             0.6,
             "#e6f5d0"
            ],
            [
             0.7,
             "#b8e186"
            ],
            [
             0.8,
             "#7fbc41"
            ],
            [
             0.9,
             "#4d9221"
            ],
            [
             1,
             "#276419"
            ]
           ],
           "sequential": [
            [
             0,
             "#0d0887"
            ],
            [
             0.1111111111111111,
             "#46039f"
            ],
            [
             0.2222222222222222,
             "#7201a8"
            ],
            [
             0.3333333333333333,
             "#9c179e"
            ],
            [
             0.4444444444444444,
             "#bd3786"
            ],
            [
             0.5555555555555556,
             "#d8576b"
            ],
            [
             0.6666666666666666,
             "#ed7953"
            ],
            [
             0.7777777777777778,
             "#fb9f3a"
            ],
            [
             0.8888888888888888,
             "#fdca26"
            ],
            [
             1,
             "#f0f921"
            ]
           ],
           "sequentialminus": [
            [
             0,
             "#0d0887"
            ],
            [
             0.1111111111111111,
             "#46039f"
            ],
            [
             0.2222222222222222,
             "#7201a8"
            ],
            [
             0.3333333333333333,
             "#9c179e"
            ],
            [
             0.4444444444444444,
             "#bd3786"
            ],
            [
             0.5555555555555556,
             "#d8576b"
            ],
            [
             0.6666666666666666,
             "#ed7953"
            ],
            [
             0.7777777777777778,
             "#fb9f3a"
            ],
            [
             0.8888888888888888,
             "#fdca26"
            ],
            [
             1,
             "#f0f921"
            ]
           ]
          },
          "colorway": [
           "#636efa",
           "#EF553B",
           "#00cc96",
           "#ab63fa",
           "#FFA15A",
           "#19d3f3",
           "#FF6692",
           "#B6E880",
           "#FF97FF",
           "#FECB52"
          ],
          "font": {
           "color": "#2a3f5f"
          },
          "geo": {
           "bgcolor": "white",
           "lakecolor": "white",
           "landcolor": "#E5ECF6",
           "showlakes": true,
           "showland": true,
           "subunitcolor": "white"
          },
          "hoverlabel": {
           "align": "left"
          },
          "hovermode": "closest",
          "mapbox": {
           "style": "light"
          },
          "paper_bgcolor": "white",
          "plot_bgcolor": "#E5ECF6",
          "polar": {
           "angularaxis": {
            "gridcolor": "white",
            "linecolor": "white",
            "ticks": ""
           },
           "bgcolor": "#E5ECF6",
           "radialaxis": {
            "gridcolor": "white",
            "linecolor": "white",
            "ticks": ""
           }
          },
          "scene": {
           "xaxis": {
            "backgroundcolor": "#E5ECF6",
            "gridcolor": "white",
            "gridwidth": 2,
            "linecolor": "white",
            "showbackground": true,
            "ticks": "",
            "zerolinecolor": "white"
           },
           "yaxis": {
            "backgroundcolor": "#E5ECF6",
            "gridcolor": "white",
            "gridwidth": 2,
            "linecolor": "white",
            "showbackground": true,
            "ticks": "",
            "zerolinecolor": "white"
           },
           "zaxis": {
            "backgroundcolor": "#E5ECF6",
            "gridcolor": "white",
            "gridwidth": 2,
            "linecolor": "white",
            "showbackground": true,
            "ticks": "",
            "zerolinecolor": "white"
           }
          },
          "shapedefaults": {
           "line": {
            "color": "#2a3f5f"
           }
          },
          "ternary": {
           "aaxis": {
            "gridcolor": "white",
            "linecolor": "white",
            "ticks": ""
           },
           "baxis": {
            "gridcolor": "white",
            "linecolor": "white",
            "ticks": ""
           },
           "bgcolor": "#E5ECF6",
           "caxis": {
            "gridcolor": "white",
            "linecolor": "white",
            "ticks": ""
           }
          },
          "title": {
           "x": 0.05
          },
          "xaxis": {
           "automargin": true,
           "gridcolor": "white",
           "linecolor": "white",
           "ticks": "",
           "title": {
            "standoff": 15
           },
           "zerolinecolor": "white",
           "zerolinewidth": 2
          },
          "yaxis": {
           "automargin": true,
           "gridcolor": "white",
           "linecolor": "white",
           "ticks": "",
           "title": {
            "standoff": 15
           },
           "zerolinecolor": "white",
           "zerolinewidth": 2
          }
         }
        },
        "title": {
         "text": "Model Measurements vs mean Values with Std (variability) Boundaries - circle_male"
        },
        "width": 800,
        "xaxis": {
         "title": {
          "text": "mean of manual measurements (mm)"
         }
        },
        "yaxis": {
         "scaleanchor": "x",
         "scaleratio": 1,
         "title": {
          "text": "Model Measurements  (mm)"
         }
        }
       }
      }
     },
     "metadata": {},
     "output_type": "display_data"
    },
    {
     "name": "stdout",
     "output_type": "stream",
     "text": [
      "Mean length for square: 36.659708333333334\n",
      "Std length for square: 3.212660797471069\n",
      "Number of prawns in square: 32\n"
     ]
    },
    {
     "data": {
      "application/vnd.plotly.v1+json": {
       "config": {
        "plotlyServerURL": "https://plot.ly"
       },
       "data": [
        {
         "hoverinfo": "text+x+y",
         "marker": {
          "color": "#ff7f0e",
          "opacity": 0.7
         },
         "mode": "markers",
         "name": "Measurements",
         "text": [
          "Image: carapace:undistorted_GX010152_36_378.jpg_gamma<br>Prawn ID: Prawn_1",
          "Image: carapace:undistorted_GX010152_36_378.jpg_gamma<br>Prawn ID: Prawn_2",
          "Image: carapace:undistorted_GX010157_68_883<br>Prawn ID: Prawn_0",
          "Image: carapace:undistorted_GX010157_160_2259<br>Prawn ID: Prawn_0",
          "Image: carapace:undistorted_GX010157_174_2582.jpg_gamma<br>Prawn ID: Prawn_0",
          "Image: carapace:undistorted_GX010157_177_2665.jpg_gamma<br>Prawn ID: Prawn_0",
          "Image: carapace:undistorted_GX010161_54_676.jpg_gamma.jpg_gamma<br>Prawn ID: Prawn_0",
          "Image: carapace:undistorted_GX010161_136_2267.jpg_gamma.jpg_gamma<br>Prawn ID: Prawn_0",
          "Image: carapace:undistorted_GX010162_72_927.jpg_gamma.jpg_gamma<br>Prawn ID: Prawn_0",
          "Image: carapace:undistorted_GX010169_121_1249<br>Prawn ID: Prawn_0",
          "Image: carapace:undistorted_GX010174_62_790.jpg_gamma<br>Prawn ID: Prawn_0",
          "Image: carapace:undistorted_GX010174_104_1236<br>Prawn ID: Prawn_0",
          "Image: carapace:undistorted_GX010175_82_852.jpg_gamma<br>Prawn ID: Prawn_0",
          "Image: carapace:undistorted_GX010175_215_2644.jpg_gamma<br>Prawn ID: Prawn_0",
          "Image: carapace:undistorted_GX010175_266_3372.jpg_gamma.jpg_gamma<br>Prawn ID: Prawn_0",
          "Image: carapace:undistorted_GX010177_232_3047<br>Prawn ID: Prawn_0",
          "Image: carapace:undistorted_GX010178_107_2118<br>Prawn ID: Prawn_0",
          "Image: carapace:undistorted_GX010178_107_2118<br>Prawn ID: Prawn_1",
          "Image: carapace:undistorted_GX010178_114_2258<br>Prawn ID: Prawn_0",
          "Image: carapace:undistorted_GX010178_172_3604.jpg_gamma<br>Prawn ID: Prawn_0",
          "Image: carapace:undistorted_GX010178_189_3987.jpg_gamma<br>Prawn ID: Prawn_0",
          "Image: carapace:undistorted_GX010178_189_3987.jpg_gamma<br>Prawn ID: Prawn_1",
          "Image: carapace:undistorted_GX010179_88_1697.jpg_gamma<br>Prawn ID: Prawn_0",
          "Image: carapace:undistorted_GX010180_91_1563<br>Prawn ID: Prawn_0",
          "Image: carapace:undistorted_GX010180_99_1788<br>Prawn ID: Prawn_0",
          "Image: carapace:undistorted_GX010181_101_1542<br>Prawn ID: Prawn_0",
          "Image: carapace:undistorted_GX010183_37_685.jpg_gamma<br>Prawn ID: Prawn_1",
          "Image: carapace:undistorted_GX010183_37_685.jpg_gamma<br>Prawn ID: Prawn_2",
          "Image: carapace:undistorted_GX010183_80_1633.jpg_gamma<br>Prawn ID: Prawn_0",
          "Image: carapace:undistorted_GX010183_80_1633.jpg_gamma<br>Prawn ID: Prawn_1",
          "Image: carapace:undistorted_GX010183_128_2852.jpg_gamma<br>Prawn ID: Prawn_0",
          "Image: carapace:undistorted_GX010183_128_2852.jpg_gamma<br>Prawn ID: Prawn_1"
         ],
         "type": "scatter",
         "x": [
          41.07966666666667,
          42.725,
          32.98833333333334,
          31.28533333333333,
          38.113,
          37.30433333333333,
          33.285333333333334,
          47.38733333333334,
          26.892666666666667,
          35.57933333333333,
          37.70966666666667,
          32.34433333333333,
          34.63733333333333,
          43.782,
          32.26466666666667,
          38.13666666666666,
          33.587999999999994,
          35.447,
          50.45366666666666,
          46.63933333333333,
          37.25899999999999,
          42.73233333333334,
          34.012,
          33.507,
          35.41566666666667,
          36.15233333333333,
          26.575666666666667,
          39.201,
          39.565333333333335,
          35.72666666666667,
          32.74633333333333,
          28.57433333333333
         ],
         "y": [
          27.80983346709722,
          27.2374528768851,
          23.9135019266164,
          24.87274325304476,
          24.83644625759206,
          27.7820419233597,
          29.20602533444568,
          25.46631530481042,
          23.28591420849031,
          27.45241113816892,
          30.32908626941265,
          26.43468208053814,
          27.52157865054213,
          25.93952568911244,
          31.26966213883439,
          30.25036876686566,
          25.68363476785836,
          31.6247293056771,
          42.88724026804254,
          34.89597680318909,
          28.68662359531841,
          34.80647652102144,
          37.4047759871929,
          30.95143229563158,
          32.25234387288427,
          35.83906119716944,
          23.3050865281126,
          24.53919118304509,
          33.22797780556161,
          33.22797780556161,
          31.91815846556789,
          24.85666633499299
         ]
        },
        {
         "line": {
          "color": "black",
          "dash": "dash"
         },
         "mode": "lines",
         "name": "Perfect match (y=x)",
         "type": "scatter",
         "x": [
          23.28591420849031,
          23.560335950492092,
          23.834757692493874,
          24.109179434495655,
          24.383601176497436,
          24.658022918499217,
          24.932444660500998,
          25.20686640250278,
          25.48128814450456,
          25.75570988650634,
          26.030131628508123,
          26.304553370509907,
          26.578975112511685,
          26.85339685451347,
          27.12781859651525,
          27.402240338517032,
          27.676662080518813,
          27.951083822520594,
          28.225505564522376,
          28.499927306524157,
          28.774349048525938,
          29.04877079052772,
          29.3231925325295,
          29.59761427453128,
          29.872036016533063,
          30.146457758534844,
          30.420879500536625,
          30.695301242538406,
          30.969722984540187,
          31.24414472654197,
          31.518566468543753,
          31.79298821054553,
          32.067409952547315,
          32.34183169454909,
          32.61625343655088,
          32.890675178552655,
          33.16509692055444,
          33.43951866255622,
          33.713940404558,
          33.98836214655978,
          34.262783888561565,
          34.53720563056335,
          34.81162737256513,
          35.086049114566904,
          35.36047085656869,
          35.634892598570474,
          35.90931434057225,
          36.18373608257403,
          36.458157824575814,
          36.7325795665776,
          37.007001308579376,
          37.28142305058116,
          37.55584479258294,
          37.83026653458472,
          38.1046882765865,
          38.379110018588285,
          38.65353176059006,
          38.92795350259185,
          39.202375244593625,
          39.47679698659541,
          39.751218728597195,
          40.02564047059897,
          40.30006221260075,
          40.574483954602535,
          40.84890569660432,
          41.1233274386061,
          41.397749180607875,
          41.67217092260966,
          41.946592664611444,
          42.22101440661322,
          42.495436148615,
          42.769857890616784,
          43.04427963261857,
          43.318701374620346,
          43.593123116622124,
          43.867544858623916,
          44.14196660062569,
          44.41638834262747,
          44.690810084629256,
          44.96523182663104,
          45.23965356863282,
          45.514075310634595,
          45.78849705263638,
          46.062918794638165,
          46.33734053663994,
          46.61176227864172,
          46.886184020643505,
          47.16060576264529,
          47.43502750464707,
          47.709449246648845,
          47.98387098865063,
          48.258292730652414,
          48.53271447265419,
          48.80713621465597,
          49.081557956657754,
          49.35597969865954,
          49.630401440661316,
          49.9048231826631,
          50.179244924664886,
          50.45366666666666
         ],
         "y": [
          23.28591420849031,
          23.560335950492092,
          23.834757692493874,
          24.109179434495655,
          24.383601176497436,
          24.658022918499217,
          24.932444660500998,
          25.20686640250278,
          25.48128814450456,
          25.75570988650634,
          26.030131628508123,
          26.304553370509907,
          26.578975112511685,
          26.85339685451347,
          27.12781859651525,
          27.402240338517032,
          27.676662080518813,
          27.951083822520594,
          28.225505564522376,
          28.499927306524157,
          28.774349048525938,
          29.04877079052772,
          29.3231925325295,
          29.59761427453128,
          29.872036016533063,
          30.146457758534844,
          30.420879500536625,
          30.695301242538406,
          30.969722984540187,
          31.24414472654197,
          31.518566468543753,
          31.79298821054553,
          32.067409952547315,
          32.34183169454909,
          32.61625343655088,
          32.890675178552655,
          33.16509692055444,
          33.43951866255622,
          33.713940404558,
          33.98836214655978,
          34.262783888561565,
          34.53720563056335,
          34.81162737256513,
          35.086049114566904,
          35.36047085656869,
          35.634892598570474,
          35.90931434057225,
          36.18373608257403,
          36.458157824575814,
          36.7325795665776,
          37.007001308579376,
          37.28142305058116,
          37.55584479258294,
          37.83026653458472,
          38.1046882765865,
          38.379110018588285,
          38.65353176059006,
          38.92795350259185,
          39.202375244593625,
          39.47679698659541,
          39.751218728597195,
          40.02564047059897,
          40.30006221260075,
          40.574483954602535,
          40.84890569660432,
          41.1233274386061,
          41.397749180607875,
          41.67217092260966,
          41.946592664611444,
          42.22101440661322,
          42.495436148615,
          42.769857890616784,
          43.04427963261857,
          43.318701374620346,
          43.593123116622124,
          43.867544858623916,
          44.14196660062569,
          44.41638834262747,
          44.690810084629256,
          44.96523182663104,
          45.23965356863282,
          45.514075310634595,
          45.78849705263638,
          46.062918794638165,
          46.33734053663994,
          46.61176227864172,
          46.886184020643505,
          47.16060576264529,
          47.43502750464707,
          47.709449246648845,
          47.98387098865063,
          48.258292730652414,
          48.53271447265419,
          48.80713621465597,
          49.081557956657754,
          49.35597969865954,
          49.630401440661316,
          49.9048231826631,
          50.179244924664886,
          50.45366666666666
         ]
        },
        {
         "line": {
          "color": "#2c7fb8",
          "dash": "dash"
         },
         "mode": "lines",
         "name": "mean + Std (variability) (3.21 mm)",
         "type": "scatter",
         "x": [
          23.28591420849031,
          23.560335950492092,
          23.834757692493874,
          24.109179434495655,
          24.383601176497436,
          24.658022918499217,
          24.932444660500998,
          25.20686640250278,
          25.48128814450456,
          25.75570988650634,
          26.030131628508123,
          26.304553370509907,
          26.578975112511685,
          26.85339685451347,
          27.12781859651525,
          27.402240338517032,
          27.676662080518813,
          27.951083822520594,
          28.225505564522376,
          28.499927306524157,
          28.774349048525938,
          29.04877079052772,
          29.3231925325295,
          29.59761427453128,
          29.872036016533063,
          30.146457758534844,
          30.420879500536625,
          30.695301242538406,
          30.969722984540187,
          31.24414472654197,
          31.518566468543753,
          31.79298821054553,
          32.067409952547315,
          32.34183169454909,
          32.61625343655088,
          32.890675178552655,
          33.16509692055444,
          33.43951866255622,
          33.713940404558,
          33.98836214655978,
          34.262783888561565,
          34.53720563056335,
          34.81162737256513,
          35.086049114566904,
          35.36047085656869,
          35.634892598570474,
          35.90931434057225,
          36.18373608257403,
          36.458157824575814,
          36.7325795665776,
          37.007001308579376,
          37.28142305058116,
          37.55584479258294,
          37.83026653458472,
          38.1046882765865,
          38.379110018588285,
          38.65353176059006,
          38.92795350259185,
          39.202375244593625,
          39.47679698659541,
          39.751218728597195,
          40.02564047059897,
          40.30006221260075,
          40.574483954602535,
          40.84890569660432,
          41.1233274386061,
          41.397749180607875,
          41.67217092260966,
          41.946592664611444,
          42.22101440661322,
          42.495436148615,
          42.769857890616784,
          43.04427963261857,
          43.318701374620346,
          43.593123116622124,
          43.867544858623916,
          44.14196660062569,
          44.41638834262747,
          44.690810084629256,
          44.96523182663104,
          45.23965356863282,
          45.514075310634595,
          45.78849705263638,
          46.062918794638165,
          46.33734053663994,
          46.61176227864172,
          46.886184020643505,
          47.16060576264529,
          47.43502750464707,
          47.709449246648845,
          47.98387098865063,
          48.258292730652414,
          48.53271447265419,
          48.80713621465597,
          49.081557956657754,
          49.35597969865954,
          49.630401440661316,
          49.9048231826631,
          50.179244924664886,
          50.45366666666666
         ],
         "y": [
          26.49857500596138,
          26.772996747963163,
          27.047418489964944,
          27.321840231966725,
          27.596261973968506,
          27.870683715970287,
          28.14510545797207,
          28.41952719997385,
          28.69394894197563,
          28.96837068397741,
          29.242792425979193,
          29.517214167980978,
          29.791635909982755,
          30.06605765198454,
          30.34047939398632,
          30.614901135988102,
          30.889322877989883,
          31.163744619991665,
          31.438166361993446,
          31.712588103995227,
          31.987009845997008,
          32.261431587998786,
          32.53585333000057,
          32.81027507200235,
          33.08469681400413,
          33.35911855600591,
          33.633540298007695,
          33.90796204000947,
          34.18238378201126,
          34.456805524013035,
          34.73122726601482,
          35.0056490080166,
          35.28007075001838,
          35.55449249202016,
          35.828914234021944,
          36.10333597602372,
          36.37775771802551,
          36.652179460027284,
          36.92660120202907,
          37.201022944030846,
          37.47544468603263,
          37.749866428034416,
          38.02428817003619,
          38.29870991203797,
          38.573131654039756,
          38.84755339604154,
          39.12197513804332,
          39.396396880045096,
          39.67081862204688,
          39.945240364048665,
          40.21966210605044,
          40.49408384805223,
          40.768505590054005,
          41.04292733205579,
          41.31734907405757,
          41.59177081605935,
          41.86619255806113,
          42.140614300062914,
          42.41503604206469,
          42.68945778406648,
          42.96387952606826,
          43.23830126807004,
          43.51272301007182,
          43.7871447520736,
          44.061566494075386,
          44.33598823607716,
          44.61040997807894,
          44.884831720080726,
          45.15925346208251,
          45.43367520408429,
          45.708096946086066,
          45.98251868808785,
          46.256940430089635,
          46.53136217209141,
          46.80578391409319,
          47.08020565609498,
          47.35462739809676,
          47.62904914009854,
          47.90347088210032,
          48.17789262410211,
          48.452314366103884,
          48.72673610810566,
          49.00115785010745,
          49.27557959210923,
          49.55000133411101,
          49.82442307611279,
          50.09884481811457,
          50.373266560116356,
          50.647688302118134,
          50.92211004411991,
          51.196531786121696,
          51.47095352812348,
          51.74537527012526,
          52.019797012127036,
          52.29421875412882,
          52.568640496130605,
          52.84306223813238,
          53.11748398013417,
          53.39190572213595,
          53.66632746413773
         ]
        },
        {
         "line": {
          "color": "#2c7fb8",
          "dash": "dash"
         },
         "mode": "lines",
         "name": "mean - Std (variability) (3.21 mm)",
         "type": "scatter",
         "x": [
          23.28591420849031,
          23.560335950492092,
          23.834757692493874,
          24.109179434495655,
          24.383601176497436,
          24.658022918499217,
          24.932444660500998,
          25.20686640250278,
          25.48128814450456,
          25.75570988650634,
          26.030131628508123,
          26.304553370509907,
          26.578975112511685,
          26.85339685451347,
          27.12781859651525,
          27.402240338517032,
          27.676662080518813,
          27.951083822520594,
          28.225505564522376,
          28.499927306524157,
          28.774349048525938,
          29.04877079052772,
          29.3231925325295,
          29.59761427453128,
          29.872036016533063,
          30.146457758534844,
          30.420879500536625,
          30.695301242538406,
          30.969722984540187,
          31.24414472654197,
          31.518566468543753,
          31.79298821054553,
          32.067409952547315,
          32.34183169454909,
          32.61625343655088,
          32.890675178552655,
          33.16509692055444,
          33.43951866255622,
          33.713940404558,
          33.98836214655978,
          34.262783888561565,
          34.53720563056335,
          34.81162737256513,
          35.086049114566904,
          35.36047085656869,
          35.634892598570474,
          35.90931434057225,
          36.18373608257403,
          36.458157824575814,
          36.7325795665776,
          37.007001308579376,
          37.28142305058116,
          37.55584479258294,
          37.83026653458472,
          38.1046882765865,
          38.379110018588285,
          38.65353176059006,
          38.92795350259185,
          39.202375244593625,
          39.47679698659541,
          39.751218728597195,
          40.02564047059897,
          40.30006221260075,
          40.574483954602535,
          40.84890569660432,
          41.1233274386061,
          41.397749180607875,
          41.67217092260966,
          41.946592664611444,
          42.22101440661322,
          42.495436148615,
          42.769857890616784,
          43.04427963261857,
          43.318701374620346,
          43.593123116622124,
          43.867544858623916,
          44.14196660062569,
          44.41638834262747,
          44.690810084629256,
          44.96523182663104,
          45.23965356863282,
          45.514075310634595,
          45.78849705263638,
          46.062918794638165,
          46.33734053663994,
          46.61176227864172,
          46.886184020643505,
          47.16060576264529,
          47.43502750464707,
          47.709449246648845,
          47.98387098865063,
          48.258292730652414,
          48.53271447265419,
          48.80713621465597,
          49.081557956657754,
          49.35597969865954,
          49.630401440661316,
          49.9048231826631,
          50.179244924664886,
          50.45366666666666
         ],
         "y": [
          20.07325341101924,
          20.347675153021022,
          20.622096895022803,
          20.896518637024585,
          21.170940379026366,
          21.445362121028147,
          21.719783863029928,
          21.99420560503171,
          22.26862734703349,
          22.54304908903527,
          22.817470831037053,
          23.091892573038837,
          23.366314315040615,
          23.6407360570424,
          23.91515779904418,
          24.189579541045962,
          24.464001283047743,
          24.738423025049524,
          25.012844767051305,
          25.287266509053087,
          25.561688251054868,
          25.83610999305665,
          26.11053173505843,
          26.38495347706021,
          26.659375219061992,
          26.933796961063774,
          27.208218703065555,
          27.482640445067336,
          27.757062187069117,
          28.031483929070898,
          28.305905671072683,
          28.58032741307446,
          28.854749155076245,
          29.129170897078023,
          29.403592639079807,
          29.678014381081585,
          29.95243612308337,
          30.226857865085147,
          30.501279607086932,
          30.77570134908871,
          31.050123091090494,
          31.32454483309228,
          31.598966575094057,
          31.873388317095834,
          32.14781005909762,
          32.42223180109941,
          32.696653543101185,
          32.97107528510296,
          33.24549702710475,
          33.51991876910653,
          33.79434051110831,
          34.068762253110094,
          34.34318399511187,
          34.61760573711366,
          34.892027479115434,
          35.16644922111722,
          35.440870963118996,
          35.71529270512078,
          35.98971444712256,
          36.26413618912434,
          36.53855793112613,
          36.812979673127906,
          37.08740141512968,
          37.36182315713147,
          37.63624489913325,
          37.91066664113503,
          38.18508838313681,
          38.45951012513859,
          38.73393186714038,
          39.008353609142155,
          39.28277535114393,
          39.55719709314572,
          39.8316188351475,
          40.10604057714928,
          40.38046231915106,
          40.65488406115285,
          40.92930580315463,
          41.203727545156404,
          41.47814928715819,
          41.752571029159974,
          42.02699277116175,
          42.30141451316353,
          42.575836255165314,
          42.8502579971671,
          43.124679739168876,
          43.39910148117065,
          43.67352322317244,
          43.94794496517422,
          44.222366707176,
          44.49678844917778,
          44.77121019117956,
          45.04563193318135,
          45.320053675183125,
          45.5944754171849,
          45.86889715918669,
          46.14331890118847,
          46.41774064319025,
          46.692162385192034,
          46.96658412719382,
          47.2410058691956
         ]
        }
       ],
       "layout": {
        "height": 800,
        "showlegend": true,
        "template": {
         "data": {
          "bar": [
           {
            "error_x": {
             "color": "#2a3f5f"
            },
            "error_y": {
             "color": "#2a3f5f"
            },
            "marker": {
             "line": {
              "color": "#E5ECF6",
              "width": 0.5
             },
             "pattern": {
              "fillmode": "overlay",
              "size": 10,
              "solidity": 0.2
             }
            },
            "type": "bar"
           }
          ],
          "barpolar": [
           {
            "marker": {
             "line": {
              "color": "#E5ECF6",
              "width": 0.5
             },
             "pattern": {
              "fillmode": "overlay",
              "size": 10,
              "solidity": 0.2
             }
            },
            "type": "barpolar"
           }
          ],
          "carpet": [
           {
            "aaxis": {
             "endlinecolor": "#2a3f5f",
             "gridcolor": "white",
             "linecolor": "white",
             "minorgridcolor": "white",
             "startlinecolor": "#2a3f5f"
            },
            "baxis": {
             "endlinecolor": "#2a3f5f",
             "gridcolor": "white",
             "linecolor": "white",
             "minorgridcolor": "white",
             "startlinecolor": "#2a3f5f"
            },
            "type": "carpet"
           }
          ],
          "choropleth": [
           {
            "colorbar": {
             "outlinewidth": 0,
             "ticks": ""
            },
            "type": "choropleth"
           }
          ],
          "contour": [
           {
            "colorbar": {
             "outlinewidth": 0,
             "ticks": ""
            },
            "colorscale": [
             [
              0,
              "#0d0887"
             ],
             [
              0.1111111111111111,
              "#46039f"
             ],
             [
              0.2222222222222222,
              "#7201a8"
             ],
             [
              0.3333333333333333,
              "#9c179e"
             ],
             [
              0.4444444444444444,
              "#bd3786"
             ],
             [
              0.5555555555555556,
              "#d8576b"
             ],
             [
              0.6666666666666666,
              "#ed7953"
             ],
             [
              0.7777777777777778,
              "#fb9f3a"
             ],
             [
              0.8888888888888888,
              "#fdca26"
             ],
             [
              1,
              "#f0f921"
             ]
            ],
            "type": "contour"
           }
          ],
          "contourcarpet": [
           {
            "colorbar": {
             "outlinewidth": 0,
             "ticks": ""
            },
            "type": "contourcarpet"
           }
          ],
          "heatmap": [
           {
            "colorbar": {
             "outlinewidth": 0,
             "ticks": ""
            },
            "colorscale": [
             [
              0,
              "#0d0887"
             ],
             [
              0.1111111111111111,
              "#46039f"
             ],
             [
              0.2222222222222222,
              "#7201a8"
             ],
             [
              0.3333333333333333,
              "#9c179e"
             ],
             [
              0.4444444444444444,
              "#bd3786"
             ],
             [
              0.5555555555555556,
              "#d8576b"
             ],
             [
              0.6666666666666666,
              "#ed7953"
             ],
             [
              0.7777777777777778,
              "#fb9f3a"
             ],
             [
              0.8888888888888888,
              "#fdca26"
             ],
             [
              1,
              "#f0f921"
             ]
            ],
            "type": "heatmap"
           }
          ],
          "heatmapgl": [
           {
            "colorbar": {
             "outlinewidth": 0,
             "ticks": ""
            },
            "colorscale": [
             [
              0,
              "#0d0887"
             ],
             [
              0.1111111111111111,
              "#46039f"
             ],
             [
              0.2222222222222222,
              "#7201a8"
             ],
             [
              0.3333333333333333,
              "#9c179e"
             ],
             [
              0.4444444444444444,
              "#bd3786"
             ],
             [
              0.5555555555555556,
              "#d8576b"
             ],
             [
              0.6666666666666666,
              "#ed7953"
             ],
             [
              0.7777777777777778,
              "#fb9f3a"
             ],
             [
              0.8888888888888888,
              "#fdca26"
             ],
             [
              1,
              "#f0f921"
             ]
            ],
            "type": "heatmapgl"
           }
          ],
          "histogram": [
           {
            "marker": {
             "pattern": {
              "fillmode": "overlay",
              "size": 10,
              "solidity": 0.2
             }
            },
            "type": "histogram"
           }
          ],
          "histogram2d": [
           {
            "colorbar": {
             "outlinewidth": 0,
             "ticks": ""
            },
            "colorscale": [
             [
              0,
              "#0d0887"
             ],
             [
              0.1111111111111111,
              "#46039f"
             ],
             [
              0.2222222222222222,
              "#7201a8"
             ],
             [
              0.3333333333333333,
              "#9c179e"
             ],
             [
              0.4444444444444444,
              "#bd3786"
             ],
             [
              0.5555555555555556,
              "#d8576b"
             ],
             [
              0.6666666666666666,
              "#ed7953"
             ],
             [
              0.7777777777777778,
              "#fb9f3a"
             ],
             [
              0.8888888888888888,
              "#fdca26"
             ],
             [
              1,
              "#f0f921"
             ]
            ],
            "type": "histogram2d"
           }
          ],
          "histogram2dcontour": [
           {
            "colorbar": {
             "outlinewidth": 0,
             "ticks": ""
            },
            "colorscale": [
             [
              0,
              "#0d0887"
             ],
             [
              0.1111111111111111,
              "#46039f"
             ],
             [
              0.2222222222222222,
              "#7201a8"
             ],
             [
              0.3333333333333333,
              "#9c179e"
             ],
             [
              0.4444444444444444,
              "#bd3786"
             ],
             [
              0.5555555555555556,
              "#d8576b"
             ],
             [
              0.6666666666666666,
              "#ed7953"
             ],
             [
              0.7777777777777778,
              "#fb9f3a"
             ],
             [
              0.8888888888888888,
              "#fdca26"
             ],
             [
              1,
              "#f0f921"
             ]
            ],
            "type": "histogram2dcontour"
           }
          ],
          "mesh3d": [
           {
            "colorbar": {
             "outlinewidth": 0,
             "ticks": ""
            },
            "type": "mesh3d"
           }
          ],
          "parcoords": [
           {
            "line": {
             "colorbar": {
              "outlinewidth": 0,
              "ticks": ""
             }
            },
            "type": "parcoords"
           }
          ],
          "pie": [
           {
            "automargin": true,
            "type": "pie"
           }
          ],
          "scatter": [
           {
            "fillpattern": {
             "fillmode": "overlay",
             "size": 10,
             "solidity": 0.2
            },
            "type": "scatter"
           }
          ],
          "scatter3d": [
           {
            "line": {
             "colorbar": {
              "outlinewidth": 0,
              "ticks": ""
             }
            },
            "marker": {
             "colorbar": {
              "outlinewidth": 0,
              "ticks": ""
             }
            },
            "type": "scatter3d"
           }
          ],
          "scattercarpet": [
           {
            "marker": {
             "colorbar": {
              "outlinewidth": 0,
              "ticks": ""
             }
            },
            "type": "scattercarpet"
           }
          ],
          "scattergeo": [
           {
            "marker": {
             "colorbar": {
              "outlinewidth": 0,
              "ticks": ""
             }
            },
            "type": "scattergeo"
           }
          ],
          "scattergl": [
           {
            "marker": {
             "colorbar": {
              "outlinewidth": 0,
              "ticks": ""
             }
            },
            "type": "scattergl"
           }
          ],
          "scattermapbox": [
           {
            "marker": {
             "colorbar": {
              "outlinewidth": 0,
              "ticks": ""
             }
            },
            "type": "scattermapbox"
           }
          ],
          "scatterpolar": [
           {
            "marker": {
             "colorbar": {
              "outlinewidth": 0,
              "ticks": ""
             }
            },
            "type": "scatterpolar"
           }
          ],
          "scatterpolargl": [
           {
            "marker": {
             "colorbar": {
              "outlinewidth": 0,
              "ticks": ""
             }
            },
            "type": "scatterpolargl"
           }
          ],
          "scatterternary": [
           {
            "marker": {
             "colorbar": {
              "outlinewidth": 0,
              "ticks": ""
             }
            },
            "type": "scatterternary"
           }
          ],
          "surface": [
           {
            "colorbar": {
             "outlinewidth": 0,
             "ticks": ""
            },
            "colorscale": [
             [
              0,
              "#0d0887"
             ],
             [
              0.1111111111111111,
              "#46039f"
             ],
             [
              0.2222222222222222,
              "#7201a8"
             ],
             [
              0.3333333333333333,
              "#9c179e"
             ],
             [
              0.4444444444444444,
              "#bd3786"
             ],
             [
              0.5555555555555556,
              "#d8576b"
             ],
             [
              0.6666666666666666,
              "#ed7953"
             ],
             [
              0.7777777777777778,
              "#fb9f3a"
             ],
             [
              0.8888888888888888,
              "#fdca26"
             ],
             [
              1,
              "#f0f921"
             ]
            ],
            "type": "surface"
           }
          ],
          "table": [
           {
            "cells": {
             "fill": {
              "color": "#EBF0F8"
             },
             "line": {
              "color": "white"
             }
            },
            "header": {
             "fill": {
              "color": "#C8D4E3"
             },
             "line": {
              "color": "white"
             }
            },
            "type": "table"
           }
          ]
         },
         "layout": {
          "annotationdefaults": {
           "arrowcolor": "#2a3f5f",
           "arrowhead": 0,
           "arrowwidth": 1
          },
          "autotypenumbers": "strict",
          "coloraxis": {
           "colorbar": {
            "outlinewidth": 0,
            "ticks": ""
           }
          },
          "colorscale": {
           "diverging": [
            [
             0,
             "#8e0152"
            ],
            [
             0.1,
             "#c51b7d"
            ],
            [
             0.2,
             "#de77ae"
            ],
            [
             0.3,
             "#f1b6da"
            ],
            [
             0.4,
             "#fde0ef"
            ],
            [
             0.5,
             "#f7f7f7"
            ],
            [
             0.6,
             "#e6f5d0"
            ],
            [
             0.7,
             "#b8e186"
            ],
            [
             0.8,
             "#7fbc41"
            ],
            [
             0.9,
             "#4d9221"
            ],
            [
             1,
             "#276419"
            ]
           ],
           "sequential": [
            [
             0,
             "#0d0887"
            ],
            [
             0.1111111111111111,
             "#46039f"
            ],
            [
             0.2222222222222222,
             "#7201a8"
            ],
            [
             0.3333333333333333,
             "#9c179e"
            ],
            [
             0.4444444444444444,
             "#bd3786"
            ],
            [
             0.5555555555555556,
             "#d8576b"
            ],
            [
             0.6666666666666666,
             "#ed7953"
            ],
            [
             0.7777777777777778,
             "#fb9f3a"
            ],
            [
             0.8888888888888888,
             "#fdca26"
            ],
            [
             1,
             "#f0f921"
            ]
           ],
           "sequentialminus": [
            [
             0,
             "#0d0887"
            ],
            [
             0.1111111111111111,
             "#46039f"
            ],
            [
             0.2222222222222222,
             "#7201a8"
            ],
            [
             0.3333333333333333,
             "#9c179e"
            ],
            [
             0.4444444444444444,
             "#bd3786"
            ],
            [
             0.5555555555555556,
             "#d8576b"
            ],
            [
             0.6666666666666666,
             "#ed7953"
            ],
            [
             0.7777777777777778,
             "#fb9f3a"
            ],
            [
             0.8888888888888888,
             "#fdca26"
            ],
            [
             1,
             "#f0f921"
            ]
           ]
          },
          "colorway": [
           "#636efa",
           "#EF553B",
           "#00cc96",
           "#ab63fa",
           "#FFA15A",
           "#19d3f3",
           "#FF6692",
           "#B6E880",
           "#FF97FF",
           "#FECB52"
          ],
          "font": {
           "color": "#2a3f5f"
          },
          "geo": {
           "bgcolor": "white",
           "lakecolor": "white",
           "landcolor": "#E5ECF6",
           "showlakes": true,
           "showland": true,
           "subunitcolor": "white"
          },
          "hoverlabel": {
           "align": "left"
          },
          "hovermode": "closest",
          "mapbox": {
           "style": "light"
          },
          "paper_bgcolor": "white",
          "plot_bgcolor": "#E5ECF6",
          "polar": {
           "angularaxis": {
            "gridcolor": "white",
            "linecolor": "white",
            "ticks": ""
           },
           "bgcolor": "#E5ECF6",
           "radialaxis": {
            "gridcolor": "white",
            "linecolor": "white",
            "ticks": ""
           }
          },
          "scene": {
           "xaxis": {
            "backgroundcolor": "#E5ECF6",
            "gridcolor": "white",
            "gridwidth": 2,
            "linecolor": "white",
            "showbackground": true,
            "ticks": "",
            "zerolinecolor": "white"
           },
           "yaxis": {
            "backgroundcolor": "#E5ECF6",
            "gridcolor": "white",
            "gridwidth": 2,
            "linecolor": "white",
            "showbackground": true,
            "ticks": "",
            "zerolinecolor": "white"
           },
           "zaxis": {
            "backgroundcolor": "#E5ECF6",
            "gridcolor": "white",
            "gridwidth": 2,
            "linecolor": "white",
            "showbackground": true,
            "ticks": "",
            "zerolinecolor": "white"
           }
          },
          "shapedefaults": {
           "line": {
            "color": "#2a3f5f"
           }
          },
          "ternary": {
           "aaxis": {
            "gridcolor": "white",
            "linecolor": "white",
            "ticks": ""
           },
           "baxis": {
            "gridcolor": "white",
            "linecolor": "white",
            "ticks": ""
           },
           "bgcolor": "#E5ECF6",
           "caxis": {
            "gridcolor": "white",
            "linecolor": "white",
            "ticks": ""
           }
          },
          "title": {
           "x": 0.05
          },
          "xaxis": {
           "automargin": true,
           "gridcolor": "white",
           "linecolor": "white",
           "ticks": "",
           "title": {
            "standoff": 15
           },
           "zerolinecolor": "white",
           "zerolinewidth": 2
          },
          "yaxis": {
           "automargin": true,
           "gridcolor": "white",
           "linecolor": "white",
           "ticks": "",
           "title": {
            "standoff": 15
           },
           "zerolinecolor": "white",
           "zerolinewidth": 2
          }
         }
        },
        "title": {
         "text": "Model Measurements vs mean Values with Std (variability) Boundaries - square"
        },
        "width": 800,
        "xaxis": {
         "title": {
          "text": "mean of manual measurements (mm)"
         }
        },
        "yaxis": {
         "scaleanchor": "x",
         "scaleratio": 1,
         "title": {
          "text": "Model Measurements  (mm)"
         }
        }
       }
      }
     },
     "metadata": {},
     "output_type": "display_data"
    }
   ],
   "source": [
    "for pond_type in df['Pond_Type'].unique():\n",
    "        print(f\"Mean length for {pond_type}: {df[df['Pond_Type'] == pond_type]['mean_length'].mean()}\")\n",
    "        print(f\"Std length for {pond_type}: {df[df['Pond_Type'] == pond_type]['std_length'].mean()}\")\n",
    "        print(f\"Number of prawns in {pond_type}: {len(df[df['Pond_Type'] == pond_type])}\")\n",
    "        df_pond = df[df['Pond_Type'] == pond_type]\n",
    "\n",
    "        min_val = min(df_pond['mean_length'].min(), df_pond['Length_fov(mm)'].min())\n",
    "        max_val = max(df_pond['mean_length'].max(), df_pond['Length_fov(mm)'].max())\n",
    "        x = np.linspace(min_val, max_val, 100)\n",
    "\n",
    "        median_mad = df_pond['std_length'].mean()\n",
    "\n",
    "        # Create scatter plot\n",
    "        scatter = go.Scatter(\n",
    "            x=df_pond['mean_length'],\n",
    "            y=df_pond['Length_fov(mm)'],\n",
    "            mode='markers',\n",
    "            name='Measurements',\n",
    "            text=df_pond.apply(lambda row: f\"Image: {row['Label']}<br>Prawn ID: {row['PrawnID']}\", axis=1),\n",
    "            hoverinfo='text+x+y',\n",
    "            marker=dict(\n",
    "                color='#ff7f0e',\n",
    "                opacity=0.7\n",
    "            )\n",
    "        )\n",
    "\n",
    "       \n",
    "\n",
    "        # Create diagonal lines\n",
    "        diag = go.Scatter(x=x, y=x, mode='lines', name='Perfect match (y=x)', \n",
    "                        line=dict(color='black', dash='dash'))\n",
    "        upper = go.Scatter(x=x, y=x + median_mad, mode='lines', \n",
    "                        name=f'mean + Std (variability) ({median_mad:.2f} mm)',\n",
    "                        line=dict(color='#2c7fb8', dash='dash'))\n",
    "        lower = go.Scatter(x=x, y=x - median_mad, mode='lines',\n",
    "                        name=f'mean - Std (variability) ({median_mad:.2f} mm)', \n",
    "                        line=dict(color='#2c7fb8', dash='dash'))\n",
    "\n",
    "        # Calculate percentage within bounds for this pond type\n",
    "        within_bounds = ((df_pond['Length_fov(mm)'] <= df_pond['mean_length'] + median_mad) & \n",
    "                        (df_pond['Length_fov(mm)'] >= df_pond['mean_length'] - median_mad)).mean() * 100\n",
    "\n",
    "        # Create layout\n",
    "        layout = go.Layout(\n",
    "            title=f'Model Measurements vs mean Values with Std (variability) Boundaries - {pond_type}',\n",
    "            xaxis_title='mean of manual measurements (mm)',\n",
    "            yaxis_title='Model Measurements  (mm)',\n",
    "            showlegend=True,\n",
    "            width=800,\n",
    "            height=800\n",
    "        )\n",
    "\n",
    "        # Create figure and add traces\n",
    "        fig = go.Figure(data=[scatter, diag, upper, lower], layout=layout)\n",
    "\n",
    "        # Update layout for equal aspect ratio\n",
    "        fig.update_layout(\n",
    "            yaxis=dict(\n",
    "                scaleanchor=\"x\",\n",
    "                scaleratio=1\n",
    "            )\n",
    "        )\n",
    "        fig.show()"
   ]
  },
  {
   "cell_type": "code",
   "execution_count": 10,
   "metadata": {},
   "outputs": [
    {
     "data": {
      "application/vnd.plotly.v1+json": {
       "config": {
        "plotlyServerURL": "https://plot.ly"
       },
       "data": [
        {
         "alignmentgroup": "True",
         "bingroup": "x",
         "hovertemplate": "mean_absolute_error=%{x}<br>count=%{y}<extra></extra>",
         "legendgroup": "",
         "marker": {
          "color": "#636efa",
          "pattern": {
           "shape": ""
          }
         },
         "name": "",
         "nbinsx": 100,
         "offsetgroup": "",
         "orientation": "v",
         "showlegend": false,
         "type": "histogram",
         "x": [
          4.164444172001531,
          0.11220146673333886,
          7.267532965769149,
          2.0807111821976427,
          5.658035381347403,
          2.6261063504189437,
          1.923633129573851,
          2.52002525475433,
          5.1168181862878725,
          0.9276430339763237,
          2.0398132662988573,
          0.8518282374141322,
          1.1340012087086535,
          5.224840393125419,
          2.090860533270842,
          9.017701311424936,
          5.198436710697436,
          5.47292141620153,
          8.809838549472715,
          5.228688970240146,
          10.670508750853873,
          1.717139124227593,
          1.3055022269712175,
          3.7130479238373297,
          3.8675090071747036,
          8.724934473915805,
          1.3259094136883576,
          1.755126124220702,
          3.7198787594875355,
          7.705252394202397,
          6.750441584075066,
          3.0986080831277576,
          0.6855697744339224,
          1.2360968922327444,
          1.5314432286541688,
          1.4630842735017922,
          2.889842421947151,
          3.771332141873472,
          5.092195608905804,
          5.6769568256405805,
          8.039890700436768,
          3.1534988108722786,
          0.7516294012754017,
          5.346569121495868,
          0.6132549587777305,
          1.8515151954313929,
          0.20399266777468483,
          0.050045306124875566,
          1.8653241109600103,
          4.998066451661757,
          1.6535635928007935,
          3.1347915914560787,
          1.8144956507194152,
          0.43251343992018576,
          3.1834582581227444,
          2.0696147117608277,
          3.951378048883356,
          0.37025646385149713,
          4.402131618226157,
          9.913076780558391,
          9.729327067609429,
          8.826420071758193,
          0.20929151645687227,
          5.891271159086028,
          8.959828012160195,
          7.322973026438731,
          2.3638415082385293,
          9.150368421954362,
          4.461170060993851,
          8.3361824853612,
          10.927182485361193,
          9.083786943037044,
          5.369231597016224,
          5.783015919672309,
          5.86214243914047,
          2.0610314097717364,
          1.3481634028579208,
          3.515497831139708,
          0.8214129573697804,
          2.6555231421356957,
          4.716464200816457,
          1.9302024658502148,
          0.1244212915304388,
          4.315286300583992,
          3.948950964444112,
          0.10947244585837979,
          3.721568056089289,
          5.217198866767109,
          2.7975171450723053,
          2.47779647479976,
          4.180481931054853,
          2.0466055601170936,
          1.8138692849667777,
          2.7875839193643372,
          0.6401132782153098
         ],
         "xaxis": "x",
         "yaxis": "y"
        }
       ],
       "layout": {
        "barmode": "relative",
        "legend": {
         "tracegroupgap": 0
        },
        "template": {
         "data": {
          "bar": [
           {
            "error_x": {
             "color": "#2a3f5f"
            },
            "error_y": {
             "color": "#2a3f5f"
            },
            "marker": {
             "line": {
              "color": "#E5ECF6",
              "width": 0.5
             },
             "pattern": {
              "fillmode": "overlay",
              "size": 10,
              "solidity": 0.2
             }
            },
            "type": "bar"
           }
          ],
          "barpolar": [
           {
            "marker": {
             "line": {
              "color": "#E5ECF6",
              "width": 0.5
             },
             "pattern": {
              "fillmode": "overlay",
              "size": 10,
              "solidity": 0.2
             }
            },
            "type": "barpolar"
           }
          ],
          "carpet": [
           {
            "aaxis": {
             "endlinecolor": "#2a3f5f",
             "gridcolor": "white",
             "linecolor": "white",
             "minorgridcolor": "white",
             "startlinecolor": "#2a3f5f"
            },
            "baxis": {
             "endlinecolor": "#2a3f5f",
             "gridcolor": "white",
             "linecolor": "white",
             "minorgridcolor": "white",
             "startlinecolor": "#2a3f5f"
            },
            "type": "carpet"
           }
          ],
          "choropleth": [
           {
            "colorbar": {
             "outlinewidth": 0,
             "ticks": ""
            },
            "type": "choropleth"
           }
          ],
          "contour": [
           {
            "colorbar": {
             "outlinewidth": 0,
             "ticks": ""
            },
            "colorscale": [
             [
              0,
              "#0d0887"
             ],
             [
              0.1111111111111111,
              "#46039f"
             ],
             [
              0.2222222222222222,
              "#7201a8"
             ],
             [
              0.3333333333333333,
              "#9c179e"
             ],
             [
              0.4444444444444444,
              "#bd3786"
             ],
             [
              0.5555555555555556,
              "#d8576b"
             ],
             [
              0.6666666666666666,
              "#ed7953"
             ],
             [
              0.7777777777777778,
              "#fb9f3a"
             ],
             [
              0.8888888888888888,
              "#fdca26"
             ],
             [
              1,
              "#f0f921"
             ]
            ],
            "type": "contour"
           }
          ],
          "contourcarpet": [
           {
            "colorbar": {
             "outlinewidth": 0,
             "ticks": ""
            },
            "type": "contourcarpet"
           }
          ],
          "heatmap": [
           {
            "colorbar": {
             "outlinewidth": 0,
             "ticks": ""
            },
            "colorscale": [
             [
              0,
              "#0d0887"
             ],
             [
              0.1111111111111111,
              "#46039f"
             ],
             [
              0.2222222222222222,
              "#7201a8"
             ],
             [
              0.3333333333333333,
              "#9c179e"
             ],
             [
              0.4444444444444444,
              "#bd3786"
             ],
             [
              0.5555555555555556,
              "#d8576b"
             ],
             [
              0.6666666666666666,
              "#ed7953"
             ],
             [
              0.7777777777777778,
              "#fb9f3a"
             ],
             [
              0.8888888888888888,
              "#fdca26"
             ],
             [
              1,
              "#f0f921"
             ]
            ],
            "type": "heatmap"
           }
          ],
          "heatmapgl": [
           {
            "colorbar": {
             "outlinewidth": 0,
             "ticks": ""
            },
            "colorscale": [
             [
              0,
              "#0d0887"
             ],
             [
              0.1111111111111111,
              "#46039f"
             ],
             [
              0.2222222222222222,
              "#7201a8"
             ],
             [
              0.3333333333333333,
              "#9c179e"
             ],
             [
              0.4444444444444444,
              "#bd3786"
             ],
             [
              0.5555555555555556,
              "#d8576b"
             ],
             [
              0.6666666666666666,
              "#ed7953"
             ],
             [
              0.7777777777777778,
              "#fb9f3a"
             ],
             [
              0.8888888888888888,
              "#fdca26"
             ],
             [
              1,
              "#f0f921"
             ]
            ],
            "type": "heatmapgl"
           }
          ],
          "histogram": [
           {
            "marker": {
             "pattern": {
              "fillmode": "overlay",
              "size": 10,
              "solidity": 0.2
             }
            },
            "type": "histogram"
           }
          ],
          "histogram2d": [
           {
            "colorbar": {
             "outlinewidth": 0,
             "ticks": ""
            },
            "colorscale": [
             [
              0,
              "#0d0887"
             ],
             [
              0.1111111111111111,
              "#46039f"
             ],
             [
              0.2222222222222222,
              "#7201a8"
             ],
             [
              0.3333333333333333,
              "#9c179e"
             ],
             [
              0.4444444444444444,
              "#bd3786"
             ],
             [
              0.5555555555555556,
              "#d8576b"
             ],
             [
              0.6666666666666666,
              "#ed7953"
             ],
             [
              0.7777777777777778,
              "#fb9f3a"
             ],
             [
              0.8888888888888888,
              "#fdca26"
             ],
             [
              1,
              "#f0f921"
             ]
            ],
            "type": "histogram2d"
           }
          ],
          "histogram2dcontour": [
           {
            "colorbar": {
             "outlinewidth": 0,
             "ticks": ""
            },
            "colorscale": [
             [
              0,
              "#0d0887"
             ],
             [
              0.1111111111111111,
              "#46039f"
             ],
             [
              0.2222222222222222,
              "#7201a8"
             ],
             [
              0.3333333333333333,
              "#9c179e"
             ],
             [
              0.4444444444444444,
              "#bd3786"
             ],
             [
              0.5555555555555556,
              "#d8576b"
             ],
             [
              0.6666666666666666,
              "#ed7953"
             ],
             [
              0.7777777777777778,
              "#fb9f3a"
             ],
             [
              0.8888888888888888,
              "#fdca26"
             ],
             [
              1,
              "#f0f921"
             ]
            ],
            "type": "histogram2dcontour"
           }
          ],
          "mesh3d": [
           {
            "colorbar": {
             "outlinewidth": 0,
             "ticks": ""
            },
            "type": "mesh3d"
           }
          ],
          "parcoords": [
           {
            "line": {
             "colorbar": {
              "outlinewidth": 0,
              "ticks": ""
             }
            },
            "type": "parcoords"
           }
          ],
          "pie": [
           {
            "automargin": true,
            "type": "pie"
           }
          ],
          "scatter": [
           {
            "fillpattern": {
             "fillmode": "overlay",
             "size": 10,
             "solidity": 0.2
            },
            "type": "scatter"
           }
          ],
          "scatter3d": [
           {
            "line": {
             "colorbar": {
              "outlinewidth": 0,
              "ticks": ""
             }
            },
            "marker": {
             "colorbar": {
              "outlinewidth": 0,
              "ticks": ""
             }
            },
            "type": "scatter3d"
           }
          ],
          "scattercarpet": [
           {
            "marker": {
             "colorbar": {
              "outlinewidth": 0,
              "ticks": ""
             }
            },
            "type": "scattercarpet"
           }
          ],
          "scattergeo": [
           {
            "marker": {
             "colorbar": {
              "outlinewidth": 0,
              "ticks": ""
             }
            },
            "type": "scattergeo"
           }
          ],
          "scattergl": [
           {
            "marker": {
             "colorbar": {
              "outlinewidth": 0,
              "ticks": ""
             }
            },
            "type": "scattergl"
           }
          ],
          "scattermapbox": [
           {
            "marker": {
             "colorbar": {
              "outlinewidth": 0,
              "ticks": ""
             }
            },
            "type": "scattermapbox"
           }
          ],
          "scatterpolar": [
           {
            "marker": {
             "colorbar": {
              "outlinewidth": 0,
              "ticks": ""
             }
            },
            "type": "scatterpolar"
           }
          ],
          "scatterpolargl": [
           {
            "marker": {
             "colorbar": {
              "outlinewidth": 0,
              "ticks": ""
             }
            },
            "type": "scatterpolargl"
           }
          ],
          "scatterternary": [
           {
            "marker": {
             "colorbar": {
              "outlinewidth": 0,
              "ticks": ""
             }
            },
            "type": "scatterternary"
           }
          ],
          "surface": [
           {
            "colorbar": {
             "outlinewidth": 0,
             "ticks": ""
            },
            "colorscale": [
             [
              0,
              "#0d0887"
             ],
             [
              0.1111111111111111,
              "#46039f"
             ],
             [
              0.2222222222222222,
              "#7201a8"
             ],
             [
              0.3333333333333333,
              "#9c179e"
             ],
             [
              0.4444444444444444,
              "#bd3786"
             ],
             [
              0.5555555555555556,
              "#d8576b"
             ],
             [
              0.6666666666666666,
              "#ed7953"
             ],
             [
              0.7777777777777778,
              "#fb9f3a"
             ],
             [
              0.8888888888888888,
              "#fdca26"
             ],
             [
              1,
              "#f0f921"
             ]
            ],
            "type": "surface"
           }
          ],
          "table": [
           {
            "cells": {
             "fill": {
              "color": "#EBF0F8"
             },
             "line": {
              "color": "white"
             }
            },
            "header": {
             "fill": {
              "color": "#C8D4E3"
             },
             "line": {
              "color": "white"
             }
            },
            "type": "table"
           }
          ]
         },
         "layout": {
          "annotationdefaults": {
           "arrowcolor": "#2a3f5f",
           "arrowhead": 0,
           "arrowwidth": 1
          },
          "autotypenumbers": "strict",
          "coloraxis": {
           "colorbar": {
            "outlinewidth": 0,
            "ticks": ""
           }
          },
          "colorscale": {
           "diverging": [
            [
             0,
             "#8e0152"
            ],
            [
             0.1,
             "#c51b7d"
            ],
            [
             0.2,
             "#de77ae"
            ],
            [
             0.3,
             "#f1b6da"
            ],
            [
             0.4,
             "#fde0ef"
            ],
            [
             0.5,
             "#f7f7f7"
            ],
            [
             0.6,
             "#e6f5d0"
            ],
            [
             0.7,
             "#b8e186"
            ],
            [
             0.8,
             "#7fbc41"
            ],
            [
             0.9,
             "#4d9221"
            ],
            [
             1,
             "#276419"
            ]
           ],
           "sequential": [
            [
             0,
             "#0d0887"
            ],
            [
             0.1111111111111111,
             "#46039f"
            ],
            [
             0.2222222222222222,
             "#7201a8"
            ],
            [
             0.3333333333333333,
             "#9c179e"
            ],
            [
             0.4444444444444444,
             "#bd3786"
            ],
            [
             0.5555555555555556,
             "#d8576b"
            ],
            [
             0.6666666666666666,
             "#ed7953"
            ],
            [
             0.7777777777777778,
             "#fb9f3a"
            ],
            [
             0.8888888888888888,
             "#fdca26"
            ],
            [
             1,
             "#f0f921"
            ]
           ],
           "sequentialminus": [
            [
             0,
             "#0d0887"
            ],
            [
             0.1111111111111111,
             "#46039f"
            ],
            [
             0.2222222222222222,
             "#7201a8"
            ],
            [
             0.3333333333333333,
             "#9c179e"
            ],
            [
             0.4444444444444444,
             "#bd3786"
            ],
            [
             0.5555555555555556,
             "#d8576b"
            ],
            [
             0.6666666666666666,
             "#ed7953"
            ],
            [
             0.7777777777777778,
             "#fb9f3a"
            ],
            [
             0.8888888888888888,
             "#fdca26"
            ],
            [
             1,
             "#f0f921"
            ]
           ]
          },
          "colorway": [
           "#636efa",
           "#EF553B",
           "#00cc96",
           "#ab63fa",
           "#FFA15A",
           "#19d3f3",
           "#FF6692",
           "#B6E880",
           "#FF97FF",
           "#FECB52"
          ],
          "font": {
           "color": "#2a3f5f"
          },
          "geo": {
           "bgcolor": "white",
           "lakecolor": "white",
           "landcolor": "#E5ECF6",
           "showlakes": true,
           "showland": true,
           "subunitcolor": "white"
          },
          "hoverlabel": {
           "align": "left"
          },
          "hovermode": "closest",
          "mapbox": {
           "style": "light"
          },
          "paper_bgcolor": "white",
          "plot_bgcolor": "#E5ECF6",
          "polar": {
           "angularaxis": {
            "gridcolor": "white",
            "linecolor": "white",
            "ticks": ""
           },
           "bgcolor": "#E5ECF6",
           "radialaxis": {
            "gridcolor": "white",
            "linecolor": "white",
            "ticks": ""
           }
          },
          "scene": {
           "xaxis": {
            "backgroundcolor": "#E5ECF6",
            "gridcolor": "white",
            "gridwidth": 2,
            "linecolor": "white",
            "showbackground": true,
            "ticks": "",
            "zerolinecolor": "white"
           },
           "yaxis": {
            "backgroundcolor": "#E5ECF6",
            "gridcolor": "white",
            "gridwidth": 2,
            "linecolor": "white",
            "showbackground": true,
            "ticks": "",
            "zerolinecolor": "white"
           },
           "zaxis": {
            "backgroundcolor": "#E5ECF6",
            "gridcolor": "white",
            "gridwidth": 2,
            "linecolor": "white",
            "showbackground": true,
            "ticks": "",
            "zerolinecolor": "white"
           }
          },
          "shapedefaults": {
           "line": {
            "color": "#2a3f5f"
           }
          },
          "ternary": {
           "aaxis": {
            "gridcolor": "white",
            "linecolor": "white",
            "ticks": ""
           },
           "baxis": {
            "gridcolor": "white",
            "linecolor": "white",
            "ticks": ""
           },
           "bgcolor": "#E5ECF6",
           "caxis": {
            "gridcolor": "white",
            "linecolor": "white",
            "ticks": ""
           }
          },
          "title": {
           "x": 0.05
          },
          "xaxis": {
           "automargin": true,
           "gridcolor": "white",
           "linecolor": "white",
           "ticks": "",
           "title": {
            "standoff": 15
           },
           "zerolinecolor": "white",
           "zerolinewidth": 2
          },
          "yaxis": {
           "automargin": true,
           "gridcolor": "white",
           "linecolor": "white",
           "ticks": "",
           "title": {
            "standoff": 15
           },
           "zerolinecolor": "white",
           "zerolinewidth": 2
          }
         }
        },
        "title": {
         "text": "Histogram of mean absolute error for circle_female"
        },
        "xaxis": {
         "anchor": "y",
         "domain": [
          0,
          1
         ],
         "title": {
          "text": "mean_absolute_error"
         }
        },
        "yaxis": {
         "anchor": "x",
         "domain": [
          0,
          1
         ],
         "title": {
          "text": "count"
         }
        }
       }
      }
     },
     "metadata": {},
     "output_type": "display_data"
    },
    {
     "data": {
      "application/vnd.plotly.v1+json": {
       "config": {
        "plotlyServerURL": "https://plot.ly"
       },
       "data": [
        {
         "alignmentgroup": "True",
         "bingroup": "x",
         "hovertemplate": "mean relative error=%{x}<br>count=%{y}<extra></extra>",
         "legendgroup": "",
         "marker": {
          "color": "#636efa",
          "pattern": {
           "shape": ""
          }
         },
         "name": "",
         "nbinsx": 100,
         "offsetgroup": "",
         "orientation": "v",
         "showlegend": false,
         "type": "histogram",
         "x": [
          9.93473966315552,
          0.4202616927610265,
          15.696728484227709,
          8.57012129522891,
          16.718315910609878,
          7.60220689676628,
          5.8622925292526,
          6.814685467795517,
          15.284273653942048,
          2.953712774553664,
          6.230022701854489,
          3.101466955000724,
          3.628029888158218,
          12.300302262678338,
          5.659642334938668,
          21.494600297373914,
          13.073223797146754,
          18.906914150857425,
          19.055028909970478,
          14.116839078728935,
          28.405453882214488,
          5.981118071571126,
          4.97359444405259,
          10.31545471270268,
          11.271264556216899,
          32.92262454939049,
          3.7748310709988826,
          5.15702918939296,
          10.771225873465443,
          18.59629870767977,
          18.9075641668847,
          10.801813020734006,
          2.1551343071073603,
          3.6643912692921137,
          4.237490602339498,
          4.014315731210331,
          9.302566946554485,
          10.258406406401683,
          13.846769416744387,
          15.75080273837408,
          22.126515578040422,
          9.515591708609685,
          2.1834458554363287,
          14.27261491220723,
          1.6616673678473162,
          6.924054282911181,
          0.5421491879199632,
          0.23710663040844393,
          6.901450758324739,
          11.339826777627145,
          4.652421340388255,
          15.22383976166063,
          5.598049087463101,
          1.1288161672427792,
          15.496811148127854,
          6.038439376089244,
          10.899551432216544,
          1.10459470714157,
          12.373648322569542,
          23.99273127419317,
          24.701873886331605,
          19.19051189314078,
          0.5794659628353515,
          19.628846598465223,
          22.010894321506548,
          19.66725967907415,
          6.254596911930207,
          21.517621215648116,
          13.34281459845626,
          20.73024043508977,
          25.528613168718866,
          23.982540551888704,
          14.482992672992387,
          14.96588088662997,
          13.700649193235858,
          5.858809143237039,
          5.465675029830215,
          10.377649141880726,
          2.3823342215717056,
          7.951302924791487,
          16.301143551208952,
          5.424964771923031,
          0.34310810338482417,
          12.29321226272396,
          12.817662663463029,
          0.3785616081969009,
          9.914135159276704,
          18.819027041687804,
          7.562287851951194,
          5.723010504903747,
          12.903253007494712,
          6.801538346037245,
          6.174663960262723,
          8.973005888574995,
          1.5196409175154544
         ],
         "xaxis": "x",
         "yaxis": "y"
        }
       ],
       "layout": {
        "barmode": "relative",
        "legend": {
         "tracegroupgap": 0
        },
        "template": {
         "data": {
          "bar": [
           {
            "error_x": {
             "color": "#2a3f5f"
            },
            "error_y": {
             "color": "#2a3f5f"
            },
            "marker": {
             "line": {
              "color": "#E5ECF6",
              "width": 0.5
             },
             "pattern": {
              "fillmode": "overlay",
              "size": 10,
              "solidity": 0.2
             }
            },
            "type": "bar"
           }
          ],
          "barpolar": [
           {
            "marker": {
             "line": {
              "color": "#E5ECF6",
              "width": 0.5
             },
             "pattern": {
              "fillmode": "overlay",
              "size": 10,
              "solidity": 0.2
             }
            },
            "type": "barpolar"
           }
          ],
          "carpet": [
           {
            "aaxis": {
             "endlinecolor": "#2a3f5f",
             "gridcolor": "white",
             "linecolor": "white",
             "minorgridcolor": "white",
             "startlinecolor": "#2a3f5f"
            },
            "baxis": {
             "endlinecolor": "#2a3f5f",
             "gridcolor": "white",
             "linecolor": "white",
             "minorgridcolor": "white",
             "startlinecolor": "#2a3f5f"
            },
            "type": "carpet"
           }
          ],
          "choropleth": [
           {
            "colorbar": {
             "outlinewidth": 0,
             "ticks": ""
            },
            "type": "choropleth"
           }
          ],
          "contour": [
           {
            "colorbar": {
             "outlinewidth": 0,
             "ticks": ""
            },
            "colorscale": [
             [
              0,
              "#0d0887"
             ],
             [
              0.1111111111111111,
              "#46039f"
             ],
             [
              0.2222222222222222,
              "#7201a8"
             ],
             [
              0.3333333333333333,
              "#9c179e"
             ],
             [
              0.4444444444444444,
              "#bd3786"
             ],
             [
              0.5555555555555556,
              "#d8576b"
             ],
             [
              0.6666666666666666,
              "#ed7953"
             ],
             [
              0.7777777777777778,
              "#fb9f3a"
             ],
             [
              0.8888888888888888,
              "#fdca26"
             ],
             [
              1,
              "#f0f921"
             ]
            ],
            "type": "contour"
           }
          ],
          "contourcarpet": [
           {
            "colorbar": {
             "outlinewidth": 0,
             "ticks": ""
            },
            "type": "contourcarpet"
           }
          ],
          "heatmap": [
           {
            "colorbar": {
             "outlinewidth": 0,
             "ticks": ""
            },
            "colorscale": [
             [
              0,
              "#0d0887"
             ],
             [
              0.1111111111111111,
              "#46039f"
             ],
             [
              0.2222222222222222,
              "#7201a8"
             ],
             [
              0.3333333333333333,
              "#9c179e"
             ],
             [
              0.4444444444444444,
              "#bd3786"
             ],
             [
              0.5555555555555556,
              "#d8576b"
             ],
             [
              0.6666666666666666,
              "#ed7953"
             ],
             [
              0.7777777777777778,
              "#fb9f3a"
             ],
             [
              0.8888888888888888,
              "#fdca26"
             ],
             [
              1,
              "#f0f921"
             ]
            ],
            "type": "heatmap"
           }
          ],
          "heatmapgl": [
           {
            "colorbar": {
             "outlinewidth": 0,
             "ticks": ""
            },
            "colorscale": [
             [
              0,
              "#0d0887"
             ],
             [
              0.1111111111111111,
              "#46039f"
             ],
             [
              0.2222222222222222,
              "#7201a8"
             ],
             [
              0.3333333333333333,
              "#9c179e"
             ],
             [
              0.4444444444444444,
              "#bd3786"
             ],
             [
              0.5555555555555556,
              "#d8576b"
             ],
             [
              0.6666666666666666,
              "#ed7953"
             ],
             [
              0.7777777777777778,
              "#fb9f3a"
             ],
             [
              0.8888888888888888,
              "#fdca26"
             ],
             [
              1,
              "#f0f921"
             ]
            ],
            "type": "heatmapgl"
           }
          ],
          "histogram": [
           {
            "marker": {
             "pattern": {
              "fillmode": "overlay",
              "size": 10,
              "solidity": 0.2
             }
            },
            "type": "histogram"
           }
          ],
          "histogram2d": [
           {
            "colorbar": {
             "outlinewidth": 0,
             "ticks": ""
            },
            "colorscale": [
             [
              0,
              "#0d0887"
             ],
             [
              0.1111111111111111,
              "#46039f"
             ],
             [
              0.2222222222222222,
              "#7201a8"
             ],
             [
              0.3333333333333333,
              "#9c179e"
             ],
             [
              0.4444444444444444,
              "#bd3786"
             ],
             [
              0.5555555555555556,
              "#d8576b"
             ],
             [
              0.6666666666666666,
              "#ed7953"
             ],
             [
              0.7777777777777778,
              "#fb9f3a"
             ],
             [
              0.8888888888888888,
              "#fdca26"
             ],
             [
              1,
              "#f0f921"
             ]
            ],
            "type": "histogram2d"
           }
          ],
          "histogram2dcontour": [
           {
            "colorbar": {
             "outlinewidth": 0,
             "ticks": ""
            },
            "colorscale": [
             [
              0,
              "#0d0887"
             ],
             [
              0.1111111111111111,
              "#46039f"
             ],
             [
              0.2222222222222222,
              "#7201a8"
             ],
             [
              0.3333333333333333,
              "#9c179e"
             ],
             [
              0.4444444444444444,
              "#bd3786"
             ],
             [
              0.5555555555555556,
              "#d8576b"
             ],
             [
              0.6666666666666666,
              "#ed7953"
             ],
             [
              0.7777777777777778,
              "#fb9f3a"
             ],
             [
              0.8888888888888888,
              "#fdca26"
             ],
             [
              1,
              "#f0f921"
             ]
            ],
            "type": "histogram2dcontour"
           }
          ],
          "mesh3d": [
           {
            "colorbar": {
             "outlinewidth": 0,
             "ticks": ""
            },
            "type": "mesh3d"
           }
          ],
          "parcoords": [
           {
            "line": {
             "colorbar": {
              "outlinewidth": 0,
              "ticks": ""
             }
            },
            "type": "parcoords"
           }
          ],
          "pie": [
           {
            "automargin": true,
            "type": "pie"
           }
          ],
          "scatter": [
           {
            "fillpattern": {
             "fillmode": "overlay",
             "size": 10,
             "solidity": 0.2
            },
            "type": "scatter"
           }
          ],
          "scatter3d": [
           {
            "line": {
             "colorbar": {
              "outlinewidth": 0,
              "ticks": ""
             }
            },
            "marker": {
             "colorbar": {
              "outlinewidth": 0,
              "ticks": ""
             }
            },
            "type": "scatter3d"
           }
          ],
          "scattercarpet": [
           {
            "marker": {
             "colorbar": {
              "outlinewidth": 0,
              "ticks": ""
             }
            },
            "type": "scattercarpet"
           }
          ],
          "scattergeo": [
           {
            "marker": {
             "colorbar": {
              "outlinewidth": 0,
              "ticks": ""
             }
            },
            "type": "scattergeo"
           }
          ],
          "scattergl": [
           {
            "marker": {
             "colorbar": {
              "outlinewidth": 0,
              "ticks": ""
             }
            },
            "type": "scattergl"
           }
          ],
          "scattermapbox": [
           {
            "marker": {
             "colorbar": {
              "outlinewidth": 0,
              "ticks": ""
             }
            },
            "type": "scattermapbox"
           }
          ],
          "scatterpolar": [
           {
            "marker": {
             "colorbar": {
              "outlinewidth": 0,
              "ticks": ""
             }
            },
            "type": "scatterpolar"
           }
          ],
          "scatterpolargl": [
           {
            "marker": {
             "colorbar": {
              "outlinewidth": 0,
              "ticks": ""
             }
            },
            "type": "scatterpolargl"
           }
          ],
          "scatterternary": [
           {
            "marker": {
             "colorbar": {
              "outlinewidth": 0,
              "ticks": ""
             }
            },
            "type": "scatterternary"
           }
          ],
          "surface": [
           {
            "colorbar": {
             "outlinewidth": 0,
             "ticks": ""
            },
            "colorscale": [
             [
              0,
              "#0d0887"
             ],
             [
              0.1111111111111111,
              "#46039f"
             ],
             [
              0.2222222222222222,
              "#7201a8"
             ],
             [
              0.3333333333333333,
              "#9c179e"
             ],
             [
              0.4444444444444444,
              "#bd3786"
             ],
             [
              0.5555555555555556,
              "#d8576b"
             ],
             [
              0.6666666666666666,
              "#ed7953"
             ],
             [
              0.7777777777777778,
              "#fb9f3a"
             ],
             [
              0.8888888888888888,
              "#fdca26"
             ],
             [
              1,
              "#f0f921"
             ]
            ],
            "type": "surface"
           }
          ],
          "table": [
           {
            "cells": {
             "fill": {
              "color": "#EBF0F8"
             },
             "line": {
              "color": "white"
             }
            },
            "header": {
             "fill": {
              "color": "#C8D4E3"
             },
             "line": {
              "color": "white"
             }
            },
            "type": "table"
           }
          ]
         },
         "layout": {
          "annotationdefaults": {
           "arrowcolor": "#2a3f5f",
           "arrowhead": 0,
           "arrowwidth": 1
          },
          "autotypenumbers": "strict",
          "coloraxis": {
           "colorbar": {
            "outlinewidth": 0,
            "ticks": ""
           }
          },
          "colorscale": {
           "diverging": [
            [
             0,
             "#8e0152"
            ],
            [
             0.1,
             "#c51b7d"
            ],
            [
             0.2,
             "#de77ae"
            ],
            [
             0.3,
             "#f1b6da"
            ],
            [
             0.4,
             "#fde0ef"
            ],
            [
             0.5,
             "#f7f7f7"
            ],
            [
             0.6,
             "#e6f5d0"
            ],
            [
             0.7,
             "#b8e186"
            ],
            [
             0.8,
             "#7fbc41"
            ],
            [
             0.9,
             "#4d9221"
            ],
            [
             1,
             "#276419"
            ]
           ],
           "sequential": [
            [
             0,
             "#0d0887"
            ],
            [
             0.1111111111111111,
             "#46039f"
            ],
            [
             0.2222222222222222,
             "#7201a8"
            ],
            [
             0.3333333333333333,
             "#9c179e"
            ],
            [
             0.4444444444444444,
             "#bd3786"
            ],
            [
             0.5555555555555556,
             "#d8576b"
            ],
            [
             0.6666666666666666,
             "#ed7953"
            ],
            [
             0.7777777777777778,
             "#fb9f3a"
            ],
            [
             0.8888888888888888,
             "#fdca26"
            ],
            [
             1,
             "#f0f921"
            ]
           ],
           "sequentialminus": [
            [
             0,
             "#0d0887"
            ],
            [
             0.1111111111111111,
             "#46039f"
            ],
            [
             0.2222222222222222,
             "#7201a8"
            ],
            [
             0.3333333333333333,
             "#9c179e"
            ],
            [
             0.4444444444444444,
             "#bd3786"
            ],
            [
             0.5555555555555556,
             "#d8576b"
            ],
            [
             0.6666666666666666,
             "#ed7953"
            ],
            [
             0.7777777777777778,
             "#fb9f3a"
            ],
            [
             0.8888888888888888,
             "#fdca26"
            ],
            [
             1,
             "#f0f921"
            ]
           ]
          },
          "colorway": [
           "#636efa",
           "#EF553B",
           "#00cc96",
           "#ab63fa",
           "#FFA15A",
           "#19d3f3",
           "#FF6692",
           "#B6E880",
           "#FF97FF",
           "#FECB52"
          ],
          "font": {
           "color": "#2a3f5f"
          },
          "geo": {
           "bgcolor": "white",
           "lakecolor": "white",
           "landcolor": "#E5ECF6",
           "showlakes": true,
           "showland": true,
           "subunitcolor": "white"
          },
          "hoverlabel": {
           "align": "left"
          },
          "hovermode": "closest",
          "mapbox": {
           "style": "light"
          },
          "paper_bgcolor": "white",
          "plot_bgcolor": "#E5ECF6",
          "polar": {
           "angularaxis": {
            "gridcolor": "white",
            "linecolor": "white",
            "ticks": ""
           },
           "bgcolor": "#E5ECF6",
           "radialaxis": {
            "gridcolor": "white",
            "linecolor": "white",
            "ticks": ""
           }
          },
          "scene": {
           "xaxis": {
            "backgroundcolor": "#E5ECF6",
            "gridcolor": "white",
            "gridwidth": 2,
            "linecolor": "white",
            "showbackground": true,
            "ticks": "",
            "zerolinecolor": "white"
           },
           "yaxis": {
            "backgroundcolor": "#E5ECF6",
            "gridcolor": "white",
            "gridwidth": 2,
            "linecolor": "white",
            "showbackground": true,
            "ticks": "",
            "zerolinecolor": "white"
           },
           "zaxis": {
            "backgroundcolor": "#E5ECF6",
            "gridcolor": "white",
            "gridwidth": 2,
            "linecolor": "white",
            "showbackground": true,
            "ticks": "",
            "zerolinecolor": "white"
           }
          },
          "shapedefaults": {
           "line": {
            "color": "#2a3f5f"
           }
          },
          "ternary": {
           "aaxis": {
            "gridcolor": "white",
            "linecolor": "white",
            "ticks": ""
           },
           "baxis": {
            "gridcolor": "white",
            "linecolor": "white",
            "ticks": ""
           },
           "bgcolor": "#E5ECF6",
           "caxis": {
            "gridcolor": "white",
            "linecolor": "white",
            "ticks": ""
           }
          },
          "title": {
           "x": 0.05
          },
          "xaxis": {
           "automargin": true,
           "gridcolor": "white",
           "linecolor": "white",
           "ticks": "",
           "title": {
            "standoff": 15
           },
           "zerolinecolor": "white",
           "zerolinewidth": 2
          },
          "yaxis": {
           "automargin": true,
           "gridcolor": "white",
           "linecolor": "white",
           "ticks": "",
           "title": {
            "standoff": 15
           },
           "zerolinecolor": "white",
           "zerolinewidth": 2
          }
         }
        },
        "title": {
         "text": "Histogram of mean relative error for circle_female"
        },
        "xaxis": {
         "anchor": "y",
         "domain": [
          0,
          1
         ],
         "title": {
          "text": "mean relative error"
         }
        },
        "yaxis": {
         "anchor": "x",
         "domain": [
          0,
          1
         ],
         "title": {
          "text": "count"
         }
        }
       }
      }
     },
     "metadata": {},
     "output_type": "display_data"
    },
    {
     "data": {
      "application/vnd.plotly.v1+json": {
       "config": {
        "plotlyServerURL": "https://plot.ly"
       },
       "data": [
        {
         "alignmentgroup": "True",
         "bingroup": "x",
         "hovertemplate": "mean_absolute_error=%{x}<br>count=%{y}<extra></extra>",
         "legendgroup": "",
         "marker": {
          "color": "#636efa",
          "pattern": {
           "shape": ""
          }
         },
         "name": "",
         "nbinsx": 100,
         "offsetgroup": "",
         "orientation": "v",
         "showlegend": false,
         "type": "histogram",
         "x": [
          4.128994758803113,
          3.5399035839438895,
          1.7683476110157912,
          2.332032528860058,
          5.227642338077008,
          4.573804881999617,
          0.5263760785446117,
          14.142167510171818,
          2.3100535934195783,
          1.5731572966426661,
          1.1388829285725208,
          0.06247206872216893,
          4.59368062071923
         ],
         "xaxis": "x",
         "yaxis": "y"
        }
       ],
       "layout": {
        "barmode": "relative",
        "legend": {
         "tracegroupgap": 0
        },
        "template": {
         "data": {
          "bar": [
           {
            "error_x": {
             "color": "#2a3f5f"
            },
            "error_y": {
             "color": "#2a3f5f"
            },
            "marker": {
             "line": {
              "color": "#E5ECF6",
              "width": 0.5
             },
             "pattern": {
              "fillmode": "overlay",
              "size": 10,
              "solidity": 0.2
             }
            },
            "type": "bar"
           }
          ],
          "barpolar": [
           {
            "marker": {
             "line": {
              "color": "#E5ECF6",
              "width": 0.5
             },
             "pattern": {
              "fillmode": "overlay",
              "size": 10,
              "solidity": 0.2
             }
            },
            "type": "barpolar"
           }
          ],
          "carpet": [
           {
            "aaxis": {
             "endlinecolor": "#2a3f5f",
             "gridcolor": "white",
             "linecolor": "white",
             "minorgridcolor": "white",
             "startlinecolor": "#2a3f5f"
            },
            "baxis": {
             "endlinecolor": "#2a3f5f",
             "gridcolor": "white",
             "linecolor": "white",
             "minorgridcolor": "white",
             "startlinecolor": "#2a3f5f"
            },
            "type": "carpet"
           }
          ],
          "choropleth": [
           {
            "colorbar": {
             "outlinewidth": 0,
             "ticks": ""
            },
            "type": "choropleth"
           }
          ],
          "contour": [
           {
            "colorbar": {
             "outlinewidth": 0,
             "ticks": ""
            },
            "colorscale": [
             [
              0,
              "#0d0887"
             ],
             [
              0.1111111111111111,
              "#46039f"
             ],
             [
              0.2222222222222222,
              "#7201a8"
             ],
             [
              0.3333333333333333,
              "#9c179e"
             ],
             [
              0.4444444444444444,
              "#bd3786"
             ],
             [
              0.5555555555555556,
              "#d8576b"
             ],
             [
              0.6666666666666666,
              "#ed7953"
             ],
             [
              0.7777777777777778,
              "#fb9f3a"
             ],
             [
              0.8888888888888888,
              "#fdca26"
             ],
             [
              1,
              "#f0f921"
             ]
            ],
            "type": "contour"
           }
          ],
          "contourcarpet": [
           {
            "colorbar": {
             "outlinewidth": 0,
             "ticks": ""
            },
            "type": "contourcarpet"
           }
          ],
          "heatmap": [
           {
            "colorbar": {
             "outlinewidth": 0,
             "ticks": ""
            },
            "colorscale": [
             [
              0,
              "#0d0887"
             ],
             [
              0.1111111111111111,
              "#46039f"
             ],
             [
              0.2222222222222222,
              "#7201a8"
             ],
             [
              0.3333333333333333,
              "#9c179e"
             ],
             [
              0.4444444444444444,
              "#bd3786"
             ],
             [
              0.5555555555555556,
              "#d8576b"
             ],
             [
              0.6666666666666666,
              "#ed7953"
             ],
             [
              0.7777777777777778,
              "#fb9f3a"
             ],
             [
              0.8888888888888888,
              "#fdca26"
             ],
             [
              1,
              "#f0f921"
             ]
            ],
            "type": "heatmap"
           }
          ],
          "heatmapgl": [
           {
            "colorbar": {
             "outlinewidth": 0,
             "ticks": ""
            },
            "colorscale": [
             [
              0,
              "#0d0887"
             ],
             [
              0.1111111111111111,
              "#46039f"
             ],
             [
              0.2222222222222222,
              "#7201a8"
             ],
             [
              0.3333333333333333,
              "#9c179e"
             ],
             [
              0.4444444444444444,
              "#bd3786"
             ],
             [
              0.5555555555555556,
              "#d8576b"
             ],
             [
              0.6666666666666666,
              "#ed7953"
             ],
             [
              0.7777777777777778,
              "#fb9f3a"
             ],
             [
              0.8888888888888888,
              "#fdca26"
             ],
             [
              1,
              "#f0f921"
             ]
            ],
            "type": "heatmapgl"
           }
          ],
          "histogram": [
           {
            "marker": {
             "pattern": {
              "fillmode": "overlay",
              "size": 10,
              "solidity": 0.2
             }
            },
            "type": "histogram"
           }
          ],
          "histogram2d": [
           {
            "colorbar": {
             "outlinewidth": 0,
             "ticks": ""
            },
            "colorscale": [
             [
              0,
              "#0d0887"
             ],
             [
              0.1111111111111111,
              "#46039f"
             ],
             [
              0.2222222222222222,
              "#7201a8"
             ],
             [
              0.3333333333333333,
              "#9c179e"
             ],
             [
              0.4444444444444444,
              "#bd3786"
             ],
             [
              0.5555555555555556,
              "#d8576b"
             ],
             [
              0.6666666666666666,
              "#ed7953"
             ],
             [
              0.7777777777777778,
              "#fb9f3a"
             ],
             [
              0.8888888888888888,
              "#fdca26"
             ],
             [
              1,
              "#f0f921"
             ]
            ],
            "type": "histogram2d"
           }
          ],
          "histogram2dcontour": [
           {
            "colorbar": {
             "outlinewidth": 0,
             "ticks": ""
            },
            "colorscale": [
             [
              0,
              "#0d0887"
             ],
             [
              0.1111111111111111,
              "#46039f"
             ],
             [
              0.2222222222222222,
              "#7201a8"
             ],
             [
              0.3333333333333333,
              "#9c179e"
             ],
             [
              0.4444444444444444,
              "#bd3786"
             ],
             [
              0.5555555555555556,
              "#d8576b"
             ],
             [
              0.6666666666666666,
              "#ed7953"
             ],
             [
              0.7777777777777778,
              "#fb9f3a"
             ],
             [
              0.8888888888888888,
              "#fdca26"
             ],
             [
              1,
              "#f0f921"
             ]
            ],
            "type": "histogram2dcontour"
           }
          ],
          "mesh3d": [
           {
            "colorbar": {
             "outlinewidth": 0,
             "ticks": ""
            },
            "type": "mesh3d"
           }
          ],
          "parcoords": [
           {
            "line": {
             "colorbar": {
              "outlinewidth": 0,
              "ticks": ""
             }
            },
            "type": "parcoords"
           }
          ],
          "pie": [
           {
            "automargin": true,
            "type": "pie"
           }
          ],
          "scatter": [
           {
            "fillpattern": {
             "fillmode": "overlay",
             "size": 10,
             "solidity": 0.2
            },
            "type": "scatter"
           }
          ],
          "scatter3d": [
           {
            "line": {
             "colorbar": {
              "outlinewidth": 0,
              "ticks": ""
             }
            },
            "marker": {
             "colorbar": {
              "outlinewidth": 0,
              "ticks": ""
             }
            },
            "type": "scatter3d"
           }
          ],
          "scattercarpet": [
           {
            "marker": {
             "colorbar": {
              "outlinewidth": 0,
              "ticks": ""
             }
            },
            "type": "scattercarpet"
           }
          ],
          "scattergeo": [
           {
            "marker": {
             "colorbar": {
              "outlinewidth": 0,
              "ticks": ""
             }
            },
            "type": "scattergeo"
           }
          ],
          "scattergl": [
           {
            "marker": {
             "colorbar": {
              "outlinewidth": 0,
              "ticks": ""
             }
            },
            "type": "scattergl"
           }
          ],
          "scattermapbox": [
           {
            "marker": {
             "colorbar": {
              "outlinewidth": 0,
              "ticks": ""
             }
            },
            "type": "scattermapbox"
           }
          ],
          "scatterpolar": [
           {
            "marker": {
             "colorbar": {
              "outlinewidth": 0,
              "ticks": ""
             }
            },
            "type": "scatterpolar"
           }
          ],
          "scatterpolargl": [
           {
            "marker": {
             "colorbar": {
              "outlinewidth": 0,
              "ticks": ""
             }
            },
            "type": "scatterpolargl"
           }
          ],
          "scatterternary": [
           {
            "marker": {
             "colorbar": {
              "outlinewidth": 0,
              "ticks": ""
             }
            },
            "type": "scatterternary"
           }
          ],
          "surface": [
           {
            "colorbar": {
             "outlinewidth": 0,
             "ticks": ""
            },
            "colorscale": [
             [
              0,
              "#0d0887"
             ],
             [
              0.1111111111111111,
              "#46039f"
             ],
             [
              0.2222222222222222,
              "#7201a8"
             ],
             [
              0.3333333333333333,
              "#9c179e"
             ],
             [
              0.4444444444444444,
              "#bd3786"
             ],
             [
              0.5555555555555556,
              "#d8576b"
             ],
             [
              0.6666666666666666,
              "#ed7953"
             ],
             [
              0.7777777777777778,
              "#fb9f3a"
             ],
             [
              0.8888888888888888,
              "#fdca26"
             ],
             [
              1,
              "#f0f921"
             ]
            ],
            "type": "surface"
           }
          ],
          "table": [
           {
            "cells": {
             "fill": {
              "color": "#EBF0F8"
             },
             "line": {
              "color": "white"
             }
            },
            "header": {
             "fill": {
              "color": "#C8D4E3"
             },
             "line": {
              "color": "white"
             }
            },
            "type": "table"
           }
          ]
         },
         "layout": {
          "annotationdefaults": {
           "arrowcolor": "#2a3f5f",
           "arrowhead": 0,
           "arrowwidth": 1
          },
          "autotypenumbers": "strict",
          "coloraxis": {
           "colorbar": {
            "outlinewidth": 0,
            "ticks": ""
           }
          },
          "colorscale": {
           "diverging": [
            [
             0,
             "#8e0152"
            ],
            [
             0.1,
             "#c51b7d"
            ],
            [
             0.2,
             "#de77ae"
            ],
            [
             0.3,
             "#f1b6da"
            ],
            [
             0.4,
             "#fde0ef"
            ],
            [
             0.5,
             "#f7f7f7"
            ],
            [
             0.6,
             "#e6f5d0"
            ],
            [
             0.7,
             "#b8e186"
            ],
            [
             0.8,
             "#7fbc41"
            ],
            [
             0.9,
             "#4d9221"
            ],
            [
             1,
             "#276419"
            ]
           ],
           "sequential": [
            [
             0,
             "#0d0887"
            ],
            [
             0.1111111111111111,
             "#46039f"
            ],
            [
             0.2222222222222222,
             "#7201a8"
            ],
            [
             0.3333333333333333,
             "#9c179e"
            ],
            [
             0.4444444444444444,
             "#bd3786"
            ],
            [
             0.5555555555555556,
             "#d8576b"
            ],
            [
             0.6666666666666666,
             "#ed7953"
            ],
            [
             0.7777777777777778,
             "#fb9f3a"
            ],
            [
             0.8888888888888888,
             "#fdca26"
            ],
            [
             1,
             "#f0f921"
            ]
           ],
           "sequentialminus": [
            [
             0,
             "#0d0887"
            ],
            [
             0.1111111111111111,
             "#46039f"
            ],
            [
             0.2222222222222222,
             "#7201a8"
            ],
            [
             0.3333333333333333,
             "#9c179e"
            ],
            [
             0.4444444444444444,
             "#bd3786"
            ],
            [
             0.5555555555555556,
             "#d8576b"
            ],
            [
             0.6666666666666666,
             "#ed7953"
            ],
            [
             0.7777777777777778,
             "#fb9f3a"
            ],
            [
             0.8888888888888888,
             "#fdca26"
            ],
            [
             1,
             "#f0f921"
            ]
           ]
          },
          "colorway": [
           "#636efa",
           "#EF553B",
           "#00cc96",
           "#ab63fa",
           "#FFA15A",
           "#19d3f3",
           "#FF6692",
           "#B6E880",
           "#FF97FF",
           "#FECB52"
          ],
          "font": {
           "color": "#2a3f5f"
          },
          "geo": {
           "bgcolor": "white",
           "lakecolor": "white",
           "landcolor": "#E5ECF6",
           "showlakes": true,
           "showland": true,
           "subunitcolor": "white"
          },
          "hoverlabel": {
           "align": "left"
          },
          "hovermode": "closest",
          "mapbox": {
           "style": "light"
          },
          "paper_bgcolor": "white",
          "plot_bgcolor": "#E5ECF6",
          "polar": {
           "angularaxis": {
            "gridcolor": "white",
            "linecolor": "white",
            "ticks": ""
           },
           "bgcolor": "#E5ECF6",
           "radialaxis": {
            "gridcolor": "white",
            "linecolor": "white",
            "ticks": ""
           }
          },
          "scene": {
           "xaxis": {
            "backgroundcolor": "#E5ECF6",
            "gridcolor": "white",
            "gridwidth": 2,
            "linecolor": "white",
            "showbackground": true,
            "ticks": "",
            "zerolinecolor": "white"
           },
           "yaxis": {
            "backgroundcolor": "#E5ECF6",
            "gridcolor": "white",
            "gridwidth": 2,
            "linecolor": "white",
            "showbackground": true,
            "ticks": "",
            "zerolinecolor": "white"
           },
           "zaxis": {
            "backgroundcolor": "#E5ECF6",
            "gridcolor": "white",
            "gridwidth": 2,
            "linecolor": "white",
            "showbackground": true,
            "ticks": "",
            "zerolinecolor": "white"
           }
          },
          "shapedefaults": {
           "line": {
            "color": "#2a3f5f"
           }
          },
          "ternary": {
           "aaxis": {
            "gridcolor": "white",
            "linecolor": "white",
            "ticks": ""
           },
           "baxis": {
            "gridcolor": "white",
            "linecolor": "white",
            "ticks": ""
           },
           "bgcolor": "#E5ECF6",
           "caxis": {
            "gridcolor": "white",
            "linecolor": "white",
            "ticks": ""
           }
          },
          "title": {
           "x": 0.05
          },
          "xaxis": {
           "automargin": true,
           "gridcolor": "white",
           "linecolor": "white",
           "ticks": "",
           "title": {
            "standoff": 15
           },
           "zerolinecolor": "white",
           "zerolinewidth": 2
          },
          "yaxis": {
           "automargin": true,
           "gridcolor": "white",
           "linecolor": "white",
           "ticks": "",
           "title": {
            "standoff": 15
           },
           "zerolinecolor": "white",
           "zerolinewidth": 2
          }
         }
        },
        "title": {
         "text": "Histogram of mean absolute error for circle_male"
        },
        "xaxis": {
         "anchor": "y",
         "domain": [
          0,
          1
         ],
         "title": {
          "text": "mean_absolute_error"
         }
        },
        "yaxis": {
         "anchor": "x",
         "domain": [
          0,
          1
         ],
         "title": {
          "text": "count"
         }
        }
       }
      }
     },
     "metadata": {},
     "output_type": "display_data"
    },
    {
     "data": {
      "application/vnd.plotly.v1+json": {
       "config": {
        "plotlyServerURL": "https://plot.ly"
       },
       "data": [
        {
         "alignmentgroup": "True",
         "bingroup": "x",
         "hovertemplate": "mean relative error=%{x}<br>count=%{y}<extra></extra>",
         "legendgroup": "",
         "marker": {
          "color": "#636efa",
          "pattern": {
           "shape": ""
          }
         },
         "name": "",
         "nbinsx": 100,
         "offsetgroup": "",
         "orientation": "v",
         "showlegend": false,
         "type": "histogram",
         "x": [
          14.762930274842493,
          15.44123700738883,
          6.517571911454338,
          11.72484470425208,
          16.56973947070305,
          16.234518038332766,
          1.8882091994999881,
          69.61669515861618,
          11.639504165701602,
          7.189932800012187,
          3.4547197978903132,
          0.32829927333106795,
          17.29570132928085
         ],
         "xaxis": "x",
         "yaxis": "y"
        }
       ],
       "layout": {
        "barmode": "relative",
        "legend": {
         "tracegroupgap": 0
        },
        "template": {
         "data": {
          "bar": [
           {
            "error_x": {
             "color": "#2a3f5f"
            },
            "error_y": {
             "color": "#2a3f5f"
            },
            "marker": {
             "line": {
              "color": "#E5ECF6",
              "width": 0.5
             },
             "pattern": {
              "fillmode": "overlay",
              "size": 10,
              "solidity": 0.2
             }
            },
            "type": "bar"
           }
          ],
          "barpolar": [
           {
            "marker": {
             "line": {
              "color": "#E5ECF6",
              "width": 0.5
             },
             "pattern": {
              "fillmode": "overlay",
              "size": 10,
              "solidity": 0.2
             }
            },
            "type": "barpolar"
           }
          ],
          "carpet": [
           {
            "aaxis": {
             "endlinecolor": "#2a3f5f",
             "gridcolor": "white",
             "linecolor": "white",
             "minorgridcolor": "white",
             "startlinecolor": "#2a3f5f"
            },
            "baxis": {
             "endlinecolor": "#2a3f5f",
             "gridcolor": "white",
             "linecolor": "white",
             "minorgridcolor": "white",
             "startlinecolor": "#2a3f5f"
            },
            "type": "carpet"
           }
          ],
          "choropleth": [
           {
            "colorbar": {
             "outlinewidth": 0,
             "ticks": ""
            },
            "type": "choropleth"
           }
          ],
          "contour": [
           {
            "colorbar": {
             "outlinewidth": 0,
             "ticks": ""
            },
            "colorscale": [
             [
              0,
              "#0d0887"
             ],
             [
              0.1111111111111111,
              "#46039f"
             ],
             [
              0.2222222222222222,
              "#7201a8"
             ],
             [
              0.3333333333333333,
              "#9c179e"
             ],
             [
              0.4444444444444444,
              "#bd3786"
             ],
             [
              0.5555555555555556,
              "#d8576b"
             ],
             [
              0.6666666666666666,
              "#ed7953"
             ],
             [
              0.7777777777777778,
              "#fb9f3a"
             ],
             [
              0.8888888888888888,
              "#fdca26"
             ],
             [
              1,
              "#f0f921"
             ]
            ],
            "type": "contour"
           }
          ],
          "contourcarpet": [
           {
            "colorbar": {
             "outlinewidth": 0,
             "ticks": ""
            },
            "type": "contourcarpet"
           }
          ],
          "heatmap": [
           {
            "colorbar": {
             "outlinewidth": 0,
             "ticks": ""
            },
            "colorscale": [
             [
              0,
              "#0d0887"
             ],
             [
              0.1111111111111111,
              "#46039f"
             ],
             [
              0.2222222222222222,
              "#7201a8"
             ],
             [
              0.3333333333333333,
              "#9c179e"
             ],
             [
              0.4444444444444444,
              "#bd3786"
             ],
             [
              0.5555555555555556,
              "#d8576b"
             ],
             [
              0.6666666666666666,
              "#ed7953"
             ],
             [
              0.7777777777777778,
              "#fb9f3a"
             ],
             [
              0.8888888888888888,
              "#fdca26"
             ],
             [
              1,
              "#f0f921"
             ]
            ],
            "type": "heatmap"
           }
          ],
          "heatmapgl": [
           {
            "colorbar": {
             "outlinewidth": 0,
             "ticks": ""
            },
            "colorscale": [
             [
              0,
              "#0d0887"
             ],
             [
              0.1111111111111111,
              "#46039f"
             ],
             [
              0.2222222222222222,
              "#7201a8"
             ],
             [
              0.3333333333333333,
              "#9c179e"
             ],
             [
              0.4444444444444444,
              "#bd3786"
             ],
             [
              0.5555555555555556,
              "#d8576b"
             ],
             [
              0.6666666666666666,
              "#ed7953"
             ],
             [
              0.7777777777777778,
              "#fb9f3a"
             ],
             [
              0.8888888888888888,
              "#fdca26"
             ],
             [
              1,
              "#f0f921"
             ]
            ],
            "type": "heatmapgl"
           }
          ],
          "histogram": [
           {
            "marker": {
             "pattern": {
              "fillmode": "overlay",
              "size": 10,
              "solidity": 0.2
             }
            },
            "type": "histogram"
           }
          ],
          "histogram2d": [
           {
            "colorbar": {
             "outlinewidth": 0,
             "ticks": ""
            },
            "colorscale": [
             [
              0,
              "#0d0887"
             ],
             [
              0.1111111111111111,
              "#46039f"
             ],
             [
              0.2222222222222222,
              "#7201a8"
             ],
             [
              0.3333333333333333,
              "#9c179e"
             ],
             [
              0.4444444444444444,
              "#bd3786"
             ],
             [
              0.5555555555555556,
              "#d8576b"
             ],
             [
              0.6666666666666666,
              "#ed7953"
             ],
             [
              0.7777777777777778,
              "#fb9f3a"
             ],
             [
              0.8888888888888888,
              "#fdca26"
             ],
             [
              1,
              "#f0f921"
             ]
            ],
            "type": "histogram2d"
           }
          ],
          "histogram2dcontour": [
           {
            "colorbar": {
             "outlinewidth": 0,
             "ticks": ""
            },
            "colorscale": [
             [
              0,
              "#0d0887"
             ],
             [
              0.1111111111111111,
              "#46039f"
             ],
             [
              0.2222222222222222,
              "#7201a8"
             ],
             [
              0.3333333333333333,
              "#9c179e"
             ],
             [
              0.4444444444444444,
              "#bd3786"
             ],
             [
              0.5555555555555556,
              "#d8576b"
             ],
             [
              0.6666666666666666,
              "#ed7953"
             ],
             [
              0.7777777777777778,
              "#fb9f3a"
             ],
             [
              0.8888888888888888,
              "#fdca26"
             ],
             [
              1,
              "#f0f921"
             ]
            ],
            "type": "histogram2dcontour"
           }
          ],
          "mesh3d": [
           {
            "colorbar": {
             "outlinewidth": 0,
             "ticks": ""
            },
            "type": "mesh3d"
           }
          ],
          "parcoords": [
           {
            "line": {
             "colorbar": {
              "outlinewidth": 0,
              "ticks": ""
             }
            },
            "type": "parcoords"
           }
          ],
          "pie": [
           {
            "automargin": true,
            "type": "pie"
           }
          ],
          "scatter": [
           {
            "fillpattern": {
             "fillmode": "overlay",
             "size": 10,
             "solidity": 0.2
            },
            "type": "scatter"
           }
          ],
          "scatter3d": [
           {
            "line": {
             "colorbar": {
              "outlinewidth": 0,
              "ticks": ""
             }
            },
            "marker": {
             "colorbar": {
              "outlinewidth": 0,
              "ticks": ""
             }
            },
            "type": "scatter3d"
           }
          ],
          "scattercarpet": [
           {
            "marker": {
             "colorbar": {
              "outlinewidth": 0,
              "ticks": ""
             }
            },
            "type": "scattercarpet"
           }
          ],
          "scattergeo": [
           {
            "marker": {
             "colorbar": {
              "outlinewidth": 0,
              "ticks": ""
             }
            },
            "type": "scattergeo"
           }
          ],
          "scattergl": [
           {
            "marker": {
             "colorbar": {
              "outlinewidth": 0,
              "ticks": ""
             }
            },
            "type": "scattergl"
           }
          ],
          "scattermapbox": [
           {
            "marker": {
             "colorbar": {
              "outlinewidth": 0,
              "ticks": ""
             }
            },
            "type": "scattermapbox"
           }
          ],
          "scatterpolar": [
           {
            "marker": {
             "colorbar": {
              "outlinewidth": 0,
              "ticks": ""
             }
            },
            "type": "scatterpolar"
           }
          ],
          "scatterpolargl": [
           {
            "marker": {
             "colorbar": {
              "outlinewidth": 0,
              "ticks": ""
             }
            },
            "type": "scatterpolargl"
           }
          ],
          "scatterternary": [
           {
            "marker": {
             "colorbar": {
              "outlinewidth": 0,
              "ticks": ""
             }
            },
            "type": "scatterternary"
           }
          ],
          "surface": [
           {
            "colorbar": {
             "outlinewidth": 0,
             "ticks": ""
            },
            "colorscale": [
             [
              0,
              "#0d0887"
             ],
             [
              0.1111111111111111,
              "#46039f"
             ],
             [
              0.2222222222222222,
              "#7201a8"
             ],
             [
              0.3333333333333333,
              "#9c179e"
             ],
             [
              0.4444444444444444,
              "#bd3786"
             ],
             [
              0.5555555555555556,
              "#d8576b"
             ],
             [
              0.6666666666666666,
              "#ed7953"
             ],
             [
              0.7777777777777778,
              "#fb9f3a"
             ],
             [
              0.8888888888888888,
              "#fdca26"
             ],
             [
              1,
              "#f0f921"
             ]
            ],
            "type": "surface"
           }
          ],
          "table": [
           {
            "cells": {
             "fill": {
              "color": "#EBF0F8"
             },
             "line": {
              "color": "white"
             }
            },
            "header": {
             "fill": {
              "color": "#C8D4E3"
             },
             "line": {
              "color": "white"
             }
            },
            "type": "table"
           }
          ]
         },
         "layout": {
          "annotationdefaults": {
           "arrowcolor": "#2a3f5f",
           "arrowhead": 0,
           "arrowwidth": 1
          },
          "autotypenumbers": "strict",
          "coloraxis": {
           "colorbar": {
            "outlinewidth": 0,
            "ticks": ""
           }
          },
          "colorscale": {
           "diverging": [
            [
             0,
             "#8e0152"
            ],
            [
             0.1,
             "#c51b7d"
            ],
            [
             0.2,
             "#de77ae"
            ],
            [
             0.3,
             "#f1b6da"
            ],
            [
             0.4,
             "#fde0ef"
            ],
            [
             0.5,
             "#f7f7f7"
            ],
            [
             0.6,
             "#e6f5d0"
            ],
            [
             0.7,
             "#b8e186"
            ],
            [
             0.8,
             "#7fbc41"
            ],
            [
             0.9,
             "#4d9221"
            ],
            [
             1,
             "#276419"
            ]
           ],
           "sequential": [
            [
             0,
             "#0d0887"
            ],
            [
             0.1111111111111111,
             "#46039f"
            ],
            [
             0.2222222222222222,
             "#7201a8"
            ],
            [
             0.3333333333333333,
             "#9c179e"
            ],
            [
             0.4444444444444444,
             "#bd3786"
            ],
            [
             0.5555555555555556,
             "#d8576b"
            ],
            [
             0.6666666666666666,
             "#ed7953"
            ],
            [
             0.7777777777777778,
             "#fb9f3a"
            ],
            [
             0.8888888888888888,
             "#fdca26"
            ],
            [
             1,
             "#f0f921"
            ]
           ],
           "sequentialminus": [
            [
             0,
             "#0d0887"
            ],
            [
             0.1111111111111111,
             "#46039f"
            ],
            [
             0.2222222222222222,
             "#7201a8"
            ],
            [
             0.3333333333333333,
             "#9c179e"
            ],
            [
             0.4444444444444444,
             "#bd3786"
            ],
            [
             0.5555555555555556,
             "#d8576b"
            ],
            [
             0.6666666666666666,
             "#ed7953"
            ],
            [
             0.7777777777777778,
             "#fb9f3a"
            ],
            [
             0.8888888888888888,
             "#fdca26"
            ],
            [
             1,
             "#f0f921"
            ]
           ]
          },
          "colorway": [
           "#636efa",
           "#EF553B",
           "#00cc96",
           "#ab63fa",
           "#FFA15A",
           "#19d3f3",
           "#FF6692",
           "#B6E880",
           "#FF97FF",
           "#FECB52"
          ],
          "font": {
           "color": "#2a3f5f"
          },
          "geo": {
           "bgcolor": "white",
           "lakecolor": "white",
           "landcolor": "#E5ECF6",
           "showlakes": true,
           "showland": true,
           "subunitcolor": "white"
          },
          "hoverlabel": {
           "align": "left"
          },
          "hovermode": "closest",
          "mapbox": {
           "style": "light"
          },
          "paper_bgcolor": "white",
          "plot_bgcolor": "#E5ECF6",
          "polar": {
           "angularaxis": {
            "gridcolor": "white",
            "linecolor": "white",
            "ticks": ""
           },
           "bgcolor": "#E5ECF6",
           "radialaxis": {
            "gridcolor": "white",
            "linecolor": "white",
            "ticks": ""
           }
          },
          "scene": {
           "xaxis": {
            "backgroundcolor": "#E5ECF6",
            "gridcolor": "white",
            "gridwidth": 2,
            "linecolor": "white",
            "showbackground": true,
            "ticks": "",
            "zerolinecolor": "white"
           },
           "yaxis": {
            "backgroundcolor": "#E5ECF6",
            "gridcolor": "white",
            "gridwidth": 2,
            "linecolor": "white",
            "showbackground": true,
            "ticks": "",
            "zerolinecolor": "white"
           },
           "zaxis": {
            "backgroundcolor": "#E5ECF6",
            "gridcolor": "white",
            "gridwidth": 2,
            "linecolor": "white",
            "showbackground": true,
            "ticks": "",
            "zerolinecolor": "white"
           }
          },
          "shapedefaults": {
           "line": {
            "color": "#2a3f5f"
           }
          },
          "ternary": {
           "aaxis": {
            "gridcolor": "white",
            "linecolor": "white",
            "ticks": ""
           },
           "baxis": {
            "gridcolor": "white",
            "linecolor": "white",
            "ticks": ""
           },
           "bgcolor": "#E5ECF6",
           "caxis": {
            "gridcolor": "white",
            "linecolor": "white",
            "ticks": ""
           }
          },
          "title": {
           "x": 0.05
          },
          "xaxis": {
           "automargin": true,
           "gridcolor": "white",
           "linecolor": "white",
           "ticks": "",
           "title": {
            "standoff": 15
           },
           "zerolinecolor": "white",
           "zerolinewidth": 2
          },
          "yaxis": {
           "automargin": true,
           "gridcolor": "white",
           "linecolor": "white",
           "ticks": "",
           "title": {
            "standoff": 15
           },
           "zerolinecolor": "white",
           "zerolinewidth": 2
          }
         }
        },
        "title": {
         "text": "Histogram of mean relative error for circle_male"
        },
        "xaxis": {
         "anchor": "y",
         "domain": [
          0,
          1
         ],
         "title": {
          "text": "mean relative error"
         }
        },
        "yaxis": {
         "anchor": "x",
         "domain": [
          0,
          1
         ],
         "title": {
          "text": "count"
         }
        }
       }
      }
     },
     "metadata": {},
     "output_type": "display_data"
    },
    {
     "data": {
      "application/vnd.plotly.v1+json": {
       "config": {
        "plotlyServerURL": "https://plot.ly"
       },
       "data": [
        {
         "alignmentgroup": "True",
         "bingroup": "x",
         "hovertemplate": "mean_absolute_error=%{x}<br>count=%{y}<extra></extra>",
         "legendgroup": "",
         "marker": {
          "color": "#636efa",
          "pattern": {
           "shape": ""
          }
         },
         "name": "",
         "nbinsx": 100,
         "offsetgroup": "",
         "orientation": "v",
         "showlegend": false,
         "type": "histogram",
         "x": [
          13.269833199569447,
          15.4875471231149,
          9.074831406716935,
          6.41259008028857,
          13.276553742407941,
          9.522291409973633,
          4.0793079988876535,
          21.92101802852292,
          3.6067524581763557,
          8.126922195164411,
          7.380580397254022,
          5.909651252795193,
          7.115754682791202,
          17.842474310887557,
          0.995004527832279,
          7.886297899801004,
          7.9043652321416324,
          3.822270694322903,
          7.566426398624124,
          11.74335653014424,
          8.572376404681584,
          7.925856812311899,
          3.3927759871928984,
          2.5555677043684177,
          3.163322793782399,
          0.3132721361638886,
          3.2705801385540667,
          14.66180881695491,
          6.337355527771727,
          2.498688861105059,
          0.8281748677654441,
          3.717666998340338
         ],
         "xaxis": "x",
         "yaxis": "y"
        }
       ],
       "layout": {
        "barmode": "relative",
        "legend": {
         "tracegroupgap": 0
        },
        "template": {
         "data": {
          "bar": [
           {
            "error_x": {
             "color": "#2a3f5f"
            },
            "error_y": {
             "color": "#2a3f5f"
            },
            "marker": {
             "line": {
              "color": "#E5ECF6",
              "width": 0.5
             },
             "pattern": {
              "fillmode": "overlay",
              "size": 10,
              "solidity": 0.2
             }
            },
            "type": "bar"
           }
          ],
          "barpolar": [
           {
            "marker": {
             "line": {
              "color": "#E5ECF6",
              "width": 0.5
             },
             "pattern": {
              "fillmode": "overlay",
              "size": 10,
              "solidity": 0.2
             }
            },
            "type": "barpolar"
           }
          ],
          "carpet": [
           {
            "aaxis": {
             "endlinecolor": "#2a3f5f",
             "gridcolor": "white",
             "linecolor": "white",
             "minorgridcolor": "white",
             "startlinecolor": "#2a3f5f"
            },
            "baxis": {
             "endlinecolor": "#2a3f5f",
             "gridcolor": "white",
             "linecolor": "white",
             "minorgridcolor": "white",
             "startlinecolor": "#2a3f5f"
            },
            "type": "carpet"
           }
          ],
          "choropleth": [
           {
            "colorbar": {
             "outlinewidth": 0,
             "ticks": ""
            },
            "type": "choropleth"
           }
          ],
          "contour": [
           {
            "colorbar": {
             "outlinewidth": 0,
             "ticks": ""
            },
            "colorscale": [
             [
              0,
              "#0d0887"
             ],
             [
              0.1111111111111111,
              "#46039f"
             ],
             [
              0.2222222222222222,
              "#7201a8"
             ],
             [
              0.3333333333333333,
              "#9c179e"
             ],
             [
              0.4444444444444444,
              "#bd3786"
             ],
             [
              0.5555555555555556,
              "#d8576b"
             ],
             [
              0.6666666666666666,
              "#ed7953"
             ],
             [
              0.7777777777777778,
              "#fb9f3a"
             ],
             [
              0.8888888888888888,
              "#fdca26"
             ],
             [
              1,
              "#f0f921"
             ]
            ],
            "type": "contour"
           }
          ],
          "contourcarpet": [
           {
            "colorbar": {
             "outlinewidth": 0,
             "ticks": ""
            },
            "type": "contourcarpet"
           }
          ],
          "heatmap": [
           {
            "colorbar": {
             "outlinewidth": 0,
             "ticks": ""
            },
            "colorscale": [
             [
              0,
              "#0d0887"
             ],
             [
              0.1111111111111111,
              "#46039f"
             ],
             [
              0.2222222222222222,
              "#7201a8"
             ],
             [
              0.3333333333333333,
              "#9c179e"
             ],
             [
              0.4444444444444444,
              "#bd3786"
             ],
             [
              0.5555555555555556,
              "#d8576b"
             ],
             [
              0.6666666666666666,
              "#ed7953"
             ],
             [
              0.7777777777777778,
              "#fb9f3a"
             ],
             [
              0.8888888888888888,
              "#fdca26"
             ],
             [
              1,
              "#f0f921"
             ]
            ],
            "type": "heatmap"
           }
          ],
          "heatmapgl": [
           {
            "colorbar": {
             "outlinewidth": 0,
             "ticks": ""
            },
            "colorscale": [
             [
              0,
              "#0d0887"
             ],
             [
              0.1111111111111111,
              "#46039f"
             ],
             [
              0.2222222222222222,
              "#7201a8"
             ],
             [
              0.3333333333333333,
              "#9c179e"
             ],
             [
              0.4444444444444444,
              "#bd3786"
             ],
             [
              0.5555555555555556,
              "#d8576b"
             ],
             [
              0.6666666666666666,
              "#ed7953"
             ],
             [
              0.7777777777777778,
              "#fb9f3a"
             ],
             [
              0.8888888888888888,
              "#fdca26"
             ],
             [
              1,
              "#f0f921"
             ]
            ],
            "type": "heatmapgl"
           }
          ],
          "histogram": [
           {
            "marker": {
             "pattern": {
              "fillmode": "overlay",
              "size": 10,
              "solidity": 0.2
             }
            },
            "type": "histogram"
           }
          ],
          "histogram2d": [
           {
            "colorbar": {
             "outlinewidth": 0,
             "ticks": ""
            },
            "colorscale": [
             [
              0,
              "#0d0887"
             ],
             [
              0.1111111111111111,
              "#46039f"
             ],
             [
              0.2222222222222222,
              "#7201a8"
             ],
             [
              0.3333333333333333,
              "#9c179e"
             ],
             [
              0.4444444444444444,
              "#bd3786"
             ],
             [
              0.5555555555555556,
              "#d8576b"
             ],
             [
              0.6666666666666666,
              "#ed7953"
             ],
             [
              0.7777777777777778,
              "#fb9f3a"
             ],
             [
              0.8888888888888888,
              "#fdca26"
             ],
             [
              1,
              "#f0f921"
             ]
            ],
            "type": "histogram2d"
           }
          ],
          "histogram2dcontour": [
           {
            "colorbar": {
             "outlinewidth": 0,
             "ticks": ""
            },
            "colorscale": [
             [
              0,
              "#0d0887"
             ],
             [
              0.1111111111111111,
              "#46039f"
             ],
             [
              0.2222222222222222,
              "#7201a8"
             ],
             [
              0.3333333333333333,
              "#9c179e"
             ],
             [
              0.4444444444444444,
              "#bd3786"
             ],
             [
              0.5555555555555556,
              "#d8576b"
             ],
             [
              0.6666666666666666,
              "#ed7953"
             ],
             [
              0.7777777777777778,
              "#fb9f3a"
             ],
             [
              0.8888888888888888,
              "#fdca26"
             ],
             [
              1,
              "#f0f921"
             ]
            ],
            "type": "histogram2dcontour"
           }
          ],
          "mesh3d": [
           {
            "colorbar": {
             "outlinewidth": 0,
             "ticks": ""
            },
            "type": "mesh3d"
           }
          ],
          "parcoords": [
           {
            "line": {
             "colorbar": {
              "outlinewidth": 0,
              "ticks": ""
             }
            },
            "type": "parcoords"
           }
          ],
          "pie": [
           {
            "automargin": true,
            "type": "pie"
           }
          ],
          "scatter": [
           {
            "fillpattern": {
             "fillmode": "overlay",
             "size": 10,
             "solidity": 0.2
            },
            "type": "scatter"
           }
          ],
          "scatter3d": [
           {
            "line": {
             "colorbar": {
              "outlinewidth": 0,
              "ticks": ""
             }
            },
            "marker": {
             "colorbar": {
              "outlinewidth": 0,
              "ticks": ""
             }
            },
            "type": "scatter3d"
           }
          ],
          "scattercarpet": [
           {
            "marker": {
             "colorbar": {
              "outlinewidth": 0,
              "ticks": ""
             }
            },
            "type": "scattercarpet"
           }
          ],
          "scattergeo": [
           {
            "marker": {
             "colorbar": {
              "outlinewidth": 0,
              "ticks": ""
             }
            },
            "type": "scattergeo"
           }
          ],
          "scattergl": [
           {
            "marker": {
             "colorbar": {
              "outlinewidth": 0,
              "ticks": ""
             }
            },
            "type": "scattergl"
           }
          ],
          "scattermapbox": [
           {
            "marker": {
             "colorbar": {
              "outlinewidth": 0,
              "ticks": ""
             }
            },
            "type": "scattermapbox"
           }
          ],
          "scatterpolar": [
           {
            "marker": {
             "colorbar": {
              "outlinewidth": 0,
              "ticks": ""
             }
            },
            "type": "scatterpolar"
           }
          ],
          "scatterpolargl": [
           {
            "marker": {
             "colorbar": {
              "outlinewidth": 0,
              "ticks": ""
             }
            },
            "type": "scatterpolargl"
           }
          ],
          "scatterternary": [
           {
            "marker": {
             "colorbar": {
              "outlinewidth": 0,
              "ticks": ""
             }
            },
            "type": "scatterternary"
           }
          ],
          "surface": [
           {
            "colorbar": {
             "outlinewidth": 0,
             "ticks": ""
            },
            "colorscale": [
             [
              0,
              "#0d0887"
             ],
             [
              0.1111111111111111,
              "#46039f"
             ],
             [
              0.2222222222222222,
              "#7201a8"
             ],
             [
              0.3333333333333333,
              "#9c179e"
             ],
             [
              0.4444444444444444,
              "#bd3786"
             ],
             [
              0.5555555555555556,
              "#d8576b"
             ],
             [
              0.6666666666666666,
              "#ed7953"
             ],
             [
              0.7777777777777778,
              "#fb9f3a"
             ],
             [
              0.8888888888888888,
              "#fdca26"
             ],
             [
              1,
              "#f0f921"
             ]
            ],
            "type": "surface"
           }
          ],
          "table": [
           {
            "cells": {
             "fill": {
              "color": "#EBF0F8"
             },
             "line": {
              "color": "white"
             }
            },
            "header": {
             "fill": {
              "color": "#C8D4E3"
             },
             "line": {
              "color": "white"
             }
            },
            "type": "table"
           }
          ]
         },
         "layout": {
          "annotationdefaults": {
           "arrowcolor": "#2a3f5f",
           "arrowhead": 0,
           "arrowwidth": 1
          },
          "autotypenumbers": "strict",
          "coloraxis": {
           "colorbar": {
            "outlinewidth": 0,
            "ticks": ""
           }
          },
          "colorscale": {
           "diverging": [
            [
             0,
             "#8e0152"
            ],
            [
             0.1,
             "#c51b7d"
            ],
            [
             0.2,
             "#de77ae"
            ],
            [
             0.3,
             "#f1b6da"
            ],
            [
             0.4,
             "#fde0ef"
            ],
            [
             0.5,
             "#f7f7f7"
            ],
            [
             0.6,
             "#e6f5d0"
            ],
            [
             0.7,
             "#b8e186"
            ],
            [
             0.8,
             "#7fbc41"
            ],
            [
             0.9,
             "#4d9221"
            ],
            [
             1,
             "#276419"
            ]
           ],
           "sequential": [
            [
             0,
             "#0d0887"
            ],
            [
             0.1111111111111111,
             "#46039f"
            ],
            [
             0.2222222222222222,
             "#7201a8"
            ],
            [
             0.3333333333333333,
             "#9c179e"
            ],
            [
             0.4444444444444444,
             "#bd3786"
            ],
            [
             0.5555555555555556,
             "#d8576b"
            ],
            [
             0.6666666666666666,
             "#ed7953"
            ],
            [
             0.7777777777777778,
             "#fb9f3a"
            ],
            [
             0.8888888888888888,
             "#fdca26"
            ],
            [
             1,
             "#f0f921"
            ]
           ],
           "sequentialminus": [
            [
             0,
             "#0d0887"
            ],
            [
             0.1111111111111111,
             "#46039f"
            ],
            [
             0.2222222222222222,
             "#7201a8"
            ],
            [
             0.3333333333333333,
             "#9c179e"
            ],
            [
             0.4444444444444444,
             "#bd3786"
            ],
            [
             0.5555555555555556,
             "#d8576b"
            ],
            [
             0.6666666666666666,
             "#ed7953"
            ],
            [
             0.7777777777777778,
             "#fb9f3a"
            ],
            [
             0.8888888888888888,
             "#fdca26"
            ],
            [
             1,
             "#f0f921"
            ]
           ]
          },
          "colorway": [
           "#636efa",
           "#EF553B",
           "#00cc96",
           "#ab63fa",
           "#FFA15A",
           "#19d3f3",
           "#FF6692",
           "#B6E880",
           "#FF97FF",
           "#FECB52"
          ],
          "font": {
           "color": "#2a3f5f"
          },
          "geo": {
           "bgcolor": "white",
           "lakecolor": "white",
           "landcolor": "#E5ECF6",
           "showlakes": true,
           "showland": true,
           "subunitcolor": "white"
          },
          "hoverlabel": {
           "align": "left"
          },
          "hovermode": "closest",
          "mapbox": {
           "style": "light"
          },
          "paper_bgcolor": "white",
          "plot_bgcolor": "#E5ECF6",
          "polar": {
           "angularaxis": {
            "gridcolor": "white",
            "linecolor": "white",
            "ticks": ""
           },
           "bgcolor": "#E5ECF6",
           "radialaxis": {
            "gridcolor": "white",
            "linecolor": "white",
            "ticks": ""
           }
          },
          "scene": {
           "xaxis": {
            "backgroundcolor": "#E5ECF6",
            "gridcolor": "white",
            "gridwidth": 2,
            "linecolor": "white",
            "showbackground": true,
            "ticks": "",
            "zerolinecolor": "white"
           },
           "yaxis": {
            "backgroundcolor": "#E5ECF6",
            "gridcolor": "white",
            "gridwidth": 2,
            "linecolor": "white",
            "showbackground": true,
            "ticks": "",
            "zerolinecolor": "white"
           },
           "zaxis": {
            "backgroundcolor": "#E5ECF6",
            "gridcolor": "white",
            "gridwidth": 2,
            "linecolor": "white",
            "showbackground": true,
            "ticks": "",
            "zerolinecolor": "white"
           }
          },
          "shapedefaults": {
           "line": {
            "color": "#2a3f5f"
           }
          },
          "ternary": {
           "aaxis": {
            "gridcolor": "white",
            "linecolor": "white",
            "ticks": ""
           },
           "baxis": {
            "gridcolor": "white",
            "linecolor": "white",
            "ticks": ""
           },
           "bgcolor": "#E5ECF6",
           "caxis": {
            "gridcolor": "white",
            "linecolor": "white",
            "ticks": ""
           }
          },
          "title": {
           "x": 0.05
          },
          "xaxis": {
           "automargin": true,
           "gridcolor": "white",
           "linecolor": "white",
           "ticks": "",
           "title": {
            "standoff": 15
           },
           "zerolinecolor": "white",
           "zerolinewidth": 2
          },
          "yaxis": {
           "automargin": true,
           "gridcolor": "white",
           "linecolor": "white",
           "ticks": "",
           "title": {
            "standoff": 15
           },
           "zerolinecolor": "white",
           "zerolinewidth": 2
          }
         }
        },
        "title": {
         "text": "Histogram of mean absolute error for square"
        },
        "xaxis": {
         "anchor": "y",
         "domain": [
          0,
          1
         ],
         "title": {
          "text": "mean_absolute_error"
         }
        },
        "yaxis": {
         "anchor": "x",
         "domain": [
          0,
          1
         ],
         "title": {
          "text": "count"
         }
        }
       }
      }
     },
     "metadata": {},
     "output_type": "display_data"
    },
    {
     "data": {
      "application/vnd.plotly.v1+json": {
       "config": {
        "plotlyServerURL": "https://plot.ly"
       },
       "data": [
        {
         "alignmentgroup": "True",
         "bingroup": "x",
         "hovertemplate": "mean relative error=%{x}<br>count=%{y}<extra></extra>",
         "legendgroup": "",
         "marker": {
          "color": "#636efa",
          "pattern": {
           "shape": ""
          }
         },
         "name": "",
         "nbinsx": 100,
         "offsetgroup": "",
         "orientation": "v",
         "showlegend": false,
         "type": "histogram",
         "x": [
          32.302679832446174,
          36.24937887212381,
          27.509214591169407,
          20.497112854655764,
          34.83471188940241,
          25.525965910949488,
          12.255572020372297,
          46.259235298862386,
          13.411657917312114,
          22.841693291511213,
          19.57211784048481,
          18.27105598959692,
          20.543598475992773,
          40.752990523245984,
          3.0838828682530286,
          20.67904352714187,
          23.5333012746863,
          10.783058352816607,
          14.996781995277761,
          25.179083170451776,
          23.007532152450647,
          18.547680863776606,
          9.975232233308533,
          7.626966617030524,
          8.93198714443438,
          0.8665336571098831,
          12.30667203790711,
          37.401619389696464,
          16.01744505570127,
          6.9939042576181905,
          2.5290613740941303,
          13.010511758829038
         ],
         "xaxis": "x",
         "yaxis": "y"
        }
       ],
       "layout": {
        "barmode": "relative",
        "legend": {
         "tracegroupgap": 0
        },
        "template": {
         "data": {
          "bar": [
           {
            "error_x": {
             "color": "#2a3f5f"
            },
            "error_y": {
             "color": "#2a3f5f"
            },
            "marker": {
             "line": {
              "color": "#E5ECF6",
              "width": 0.5
             },
             "pattern": {
              "fillmode": "overlay",
              "size": 10,
              "solidity": 0.2
             }
            },
            "type": "bar"
           }
          ],
          "barpolar": [
           {
            "marker": {
             "line": {
              "color": "#E5ECF6",
              "width": 0.5
             },
             "pattern": {
              "fillmode": "overlay",
              "size": 10,
              "solidity": 0.2
             }
            },
            "type": "barpolar"
           }
          ],
          "carpet": [
           {
            "aaxis": {
             "endlinecolor": "#2a3f5f",
             "gridcolor": "white",
             "linecolor": "white",
             "minorgridcolor": "white",
             "startlinecolor": "#2a3f5f"
            },
            "baxis": {
             "endlinecolor": "#2a3f5f",
             "gridcolor": "white",
             "linecolor": "white",
             "minorgridcolor": "white",
             "startlinecolor": "#2a3f5f"
            },
            "type": "carpet"
           }
          ],
          "choropleth": [
           {
            "colorbar": {
             "outlinewidth": 0,
             "ticks": ""
            },
            "type": "choropleth"
           }
          ],
          "contour": [
           {
            "colorbar": {
             "outlinewidth": 0,
             "ticks": ""
            },
            "colorscale": [
             [
              0,
              "#0d0887"
             ],
             [
              0.1111111111111111,
              "#46039f"
             ],
             [
              0.2222222222222222,
              "#7201a8"
             ],
             [
              0.3333333333333333,
              "#9c179e"
             ],
             [
              0.4444444444444444,
              "#bd3786"
             ],
             [
              0.5555555555555556,
              "#d8576b"
             ],
             [
              0.6666666666666666,
              "#ed7953"
             ],
             [
              0.7777777777777778,
              "#fb9f3a"
             ],
             [
              0.8888888888888888,
              "#fdca26"
             ],
             [
              1,
              "#f0f921"
             ]
            ],
            "type": "contour"
           }
          ],
          "contourcarpet": [
           {
            "colorbar": {
             "outlinewidth": 0,
             "ticks": ""
            },
            "type": "contourcarpet"
           }
          ],
          "heatmap": [
           {
            "colorbar": {
             "outlinewidth": 0,
             "ticks": ""
            },
            "colorscale": [
             [
              0,
              "#0d0887"
             ],
             [
              0.1111111111111111,
              "#46039f"
             ],
             [
              0.2222222222222222,
              "#7201a8"
             ],
             [
              0.3333333333333333,
              "#9c179e"
             ],
             [
              0.4444444444444444,
              "#bd3786"
             ],
             [
              0.5555555555555556,
              "#d8576b"
             ],
             [
              0.6666666666666666,
              "#ed7953"
             ],
             [
              0.7777777777777778,
              "#fb9f3a"
             ],
             [
              0.8888888888888888,
              "#fdca26"
             ],
             [
              1,
              "#f0f921"
             ]
            ],
            "type": "heatmap"
           }
          ],
          "heatmapgl": [
           {
            "colorbar": {
             "outlinewidth": 0,
             "ticks": ""
            },
            "colorscale": [
             [
              0,
              "#0d0887"
             ],
             [
              0.1111111111111111,
              "#46039f"
             ],
             [
              0.2222222222222222,
              "#7201a8"
             ],
             [
              0.3333333333333333,
              "#9c179e"
             ],
             [
              0.4444444444444444,
              "#bd3786"
             ],
             [
              0.5555555555555556,
              "#d8576b"
             ],
             [
              0.6666666666666666,
              "#ed7953"
             ],
             [
              0.7777777777777778,
              "#fb9f3a"
             ],
             [
              0.8888888888888888,
              "#fdca26"
             ],
             [
              1,
              "#f0f921"
             ]
            ],
            "type": "heatmapgl"
           }
          ],
          "histogram": [
           {
            "marker": {
             "pattern": {
              "fillmode": "overlay",
              "size": 10,
              "solidity": 0.2
             }
            },
            "type": "histogram"
           }
          ],
          "histogram2d": [
           {
            "colorbar": {
             "outlinewidth": 0,
             "ticks": ""
            },
            "colorscale": [
             [
              0,
              "#0d0887"
             ],
             [
              0.1111111111111111,
              "#46039f"
             ],
             [
              0.2222222222222222,
              "#7201a8"
             ],
             [
              0.3333333333333333,
              "#9c179e"
             ],
             [
              0.4444444444444444,
              "#bd3786"
             ],
             [
              0.5555555555555556,
              "#d8576b"
             ],
             [
              0.6666666666666666,
              "#ed7953"
             ],
             [
              0.7777777777777778,
              "#fb9f3a"
             ],
             [
              0.8888888888888888,
              "#fdca26"
             ],
             [
              1,
              "#f0f921"
             ]
            ],
            "type": "histogram2d"
           }
          ],
          "histogram2dcontour": [
           {
            "colorbar": {
             "outlinewidth": 0,
             "ticks": ""
            },
            "colorscale": [
             [
              0,
              "#0d0887"
             ],
             [
              0.1111111111111111,
              "#46039f"
             ],
             [
              0.2222222222222222,
              "#7201a8"
             ],
             [
              0.3333333333333333,
              "#9c179e"
             ],
             [
              0.4444444444444444,
              "#bd3786"
             ],
             [
              0.5555555555555556,
              "#d8576b"
             ],
             [
              0.6666666666666666,
              "#ed7953"
             ],
             [
              0.7777777777777778,
              "#fb9f3a"
             ],
             [
              0.8888888888888888,
              "#fdca26"
             ],
             [
              1,
              "#f0f921"
             ]
            ],
            "type": "histogram2dcontour"
           }
          ],
          "mesh3d": [
           {
            "colorbar": {
             "outlinewidth": 0,
             "ticks": ""
            },
            "type": "mesh3d"
           }
          ],
          "parcoords": [
           {
            "line": {
             "colorbar": {
              "outlinewidth": 0,
              "ticks": ""
             }
            },
            "type": "parcoords"
           }
          ],
          "pie": [
           {
            "automargin": true,
            "type": "pie"
           }
          ],
          "scatter": [
           {
            "fillpattern": {
             "fillmode": "overlay",
             "size": 10,
             "solidity": 0.2
            },
            "type": "scatter"
           }
          ],
          "scatter3d": [
           {
            "line": {
             "colorbar": {
              "outlinewidth": 0,
              "ticks": ""
             }
            },
            "marker": {
             "colorbar": {
              "outlinewidth": 0,
              "ticks": ""
             }
            },
            "type": "scatter3d"
           }
          ],
          "scattercarpet": [
           {
            "marker": {
             "colorbar": {
              "outlinewidth": 0,
              "ticks": ""
             }
            },
            "type": "scattercarpet"
           }
          ],
          "scattergeo": [
           {
            "marker": {
             "colorbar": {
              "outlinewidth": 0,
              "ticks": ""
             }
            },
            "type": "scattergeo"
           }
          ],
          "scattergl": [
           {
            "marker": {
             "colorbar": {
              "outlinewidth": 0,
              "ticks": ""
             }
            },
            "type": "scattergl"
           }
          ],
          "scattermapbox": [
           {
            "marker": {
             "colorbar": {
              "outlinewidth": 0,
              "ticks": ""
             }
            },
            "type": "scattermapbox"
           }
          ],
          "scatterpolar": [
           {
            "marker": {
             "colorbar": {
              "outlinewidth": 0,
              "ticks": ""
             }
            },
            "type": "scatterpolar"
           }
          ],
          "scatterpolargl": [
           {
            "marker": {
             "colorbar": {
              "outlinewidth": 0,
              "ticks": ""
             }
            },
            "type": "scatterpolargl"
           }
          ],
          "scatterternary": [
           {
            "marker": {
             "colorbar": {
              "outlinewidth": 0,
              "ticks": ""
             }
            },
            "type": "scatterternary"
           }
          ],
          "surface": [
           {
            "colorbar": {
             "outlinewidth": 0,
             "ticks": ""
            },
            "colorscale": [
             [
              0,
              "#0d0887"
             ],
             [
              0.1111111111111111,
              "#46039f"
             ],
             [
              0.2222222222222222,
              "#7201a8"
             ],
             [
              0.3333333333333333,
              "#9c179e"
             ],
             [
              0.4444444444444444,
              "#bd3786"
             ],
             [
              0.5555555555555556,
              "#d8576b"
             ],
             [
              0.6666666666666666,
              "#ed7953"
             ],
             [
              0.7777777777777778,
              "#fb9f3a"
             ],
             [
              0.8888888888888888,
              "#fdca26"
             ],
             [
              1,
              "#f0f921"
             ]
            ],
            "type": "surface"
           }
          ],
          "table": [
           {
            "cells": {
             "fill": {
              "color": "#EBF0F8"
             },
             "line": {
              "color": "white"
             }
            },
            "header": {
             "fill": {
              "color": "#C8D4E3"
             },
             "line": {
              "color": "white"
             }
            },
            "type": "table"
           }
          ]
         },
         "layout": {
          "annotationdefaults": {
           "arrowcolor": "#2a3f5f",
           "arrowhead": 0,
           "arrowwidth": 1
          },
          "autotypenumbers": "strict",
          "coloraxis": {
           "colorbar": {
            "outlinewidth": 0,
            "ticks": ""
           }
          },
          "colorscale": {
           "diverging": [
            [
             0,
             "#8e0152"
            ],
            [
             0.1,
             "#c51b7d"
            ],
            [
             0.2,
             "#de77ae"
            ],
            [
             0.3,
             "#f1b6da"
            ],
            [
             0.4,
             "#fde0ef"
            ],
            [
             0.5,
             "#f7f7f7"
            ],
            [
             0.6,
             "#e6f5d0"
            ],
            [
             0.7,
             "#b8e186"
            ],
            [
             0.8,
             "#7fbc41"
            ],
            [
             0.9,
             "#4d9221"
            ],
            [
             1,
             "#276419"
            ]
           ],
           "sequential": [
            [
             0,
             "#0d0887"
            ],
            [
             0.1111111111111111,
             "#46039f"
            ],
            [
             0.2222222222222222,
             "#7201a8"
            ],
            [
             0.3333333333333333,
             "#9c179e"
            ],
            [
             0.4444444444444444,
             "#bd3786"
            ],
            [
             0.5555555555555556,
             "#d8576b"
            ],
            [
             0.6666666666666666,
             "#ed7953"
            ],
            [
             0.7777777777777778,
             "#fb9f3a"
            ],
            [
             0.8888888888888888,
             "#fdca26"
            ],
            [
             1,
             "#f0f921"
            ]
           ],
           "sequentialminus": [
            [
             0,
             "#0d0887"
            ],
            [
             0.1111111111111111,
             "#46039f"
            ],
            [
             0.2222222222222222,
             "#7201a8"
            ],
            [
             0.3333333333333333,
             "#9c179e"
            ],
            [
             0.4444444444444444,
             "#bd3786"
            ],
            [
             0.5555555555555556,
             "#d8576b"
            ],
            [
             0.6666666666666666,
             "#ed7953"
            ],
            [
             0.7777777777777778,
             "#fb9f3a"
            ],
            [
             0.8888888888888888,
             "#fdca26"
            ],
            [
             1,
             "#f0f921"
            ]
           ]
          },
          "colorway": [
           "#636efa",
           "#EF553B",
           "#00cc96",
           "#ab63fa",
           "#FFA15A",
           "#19d3f3",
           "#FF6692",
           "#B6E880",
           "#FF97FF",
           "#FECB52"
          ],
          "font": {
           "color": "#2a3f5f"
          },
          "geo": {
           "bgcolor": "white",
           "lakecolor": "white",
           "landcolor": "#E5ECF6",
           "showlakes": true,
           "showland": true,
           "subunitcolor": "white"
          },
          "hoverlabel": {
           "align": "left"
          },
          "hovermode": "closest",
          "mapbox": {
           "style": "light"
          },
          "paper_bgcolor": "white",
          "plot_bgcolor": "#E5ECF6",
          "polar": {
           "angularaxis": {
            "gridcolor": "white",
            "linecolor": "white",
            "ticks": ""
           },
           "bgcolor": "#E5ECF6",
           "radialaxis": {
            "gridcolor": "white",
            "linecolor": "white",
            "ticks": ""
           }
          },
          "scene": {
           "xaxis": {
            "backgroundcolor": "#E5ECF6",
            "gridcolor": "white",
            "gridwidth": 2,
            "linecolor": "white",
            "showbackground": true,
            "ticks": "",
            "zerolinecolor": "white"
           },
           "yaxis": {
            "backgroundcolor": "#E5ECF6",
            "gridcolor": "white",
            "gridwidth": 2,
            "linecolor": "white",
            "showbackground": true,
            "ticks": "",
            "zerolinecolor": "white"
           },
           "zaxis": {
            "backgroundcolor": "#E5ECF6",
            "gridcolor": "white",
            "gridwidth": 2,
            "linecolor": "white",
            "showbackground": true,
            "ticks": "",
            "zerolinecolor": "white"
           }
          },
          "shapedefaults": {
           "line": {
            "color": "#2a3f5f"
           }
          },
          "ternary": {
           "aaxis": {
            "gridcolor": "white",
            "linecolor": "white",
            "ticks": ""
           },
           "baxis": {
            "gridcolor": "white",
            "linecolor": "white",
            "ticks": ""
           },
           "bgcolor": "#E5ECF6",
           "caxis": {
            "gridcolor": "white",
            "linecolor": "white",
            "ticks": ""
           }
          },
          "title": {
           "x": 0.05
          },
          "xaxis": {
           "automargin": true,
           "gridcolor": "white",
           "linecolor": "white",
           "ticks": "",
           "title": {
            "standoff": 15
           },
           "zerolinecolor": "white",
           "zerolinewidth": 2
          },
          "yaxis": {
           "automargin": true,
           "gridcolor": "white",
           "linecolor": "white",
           "ticks": "",
           "title": {
            "standoff": 15
           },
           "zerolinecolor": "white",
           "zerolinewidth": 2
          }
         }
        },
        "title": {
         "text": "Histogram of mean relative error for square"
        },
        "xaxis": {
         "anchor": "y",
         "domain": [
          0,
          1
         ],
         "title": {
          "text": "mean relative error"
         }
        },
        "yaxis": {
         "anchor": "x",
         "domain": [
          0,
          1
         ],
         "title": {
          "text": "count"
         }
        }
       }
      }
     },
     "metadata": {},
     "output_type": "display_data"
    }
   ],
   "source": [
    "for pond_type in df['Pond_Type'].unique():\n",
    "    #histogram of meAN absolute error\n",
    "    df_pond = df[df['Pond_Type'] == pond_type]\n",
    "    df_pond['mean_absolute_error'] =abs(df_pond['mean_length'] - df_pond['Length_fov(mm)'])\n",
    "    #histogram of mean absolute error    \n",
    "    df_pond['mean relative error'] = df_pond['mean_absolute_error'] / df_pond['mean_length']*100\n",
    "    #histogram of mean absolute error\n",
    "    fig = px.histogram(df_pond, x='mean_absolute_error', nbins=100, title=f'Histogram of mean absolute error for {pond_type}')\n",
    "    fig.show()\n",
    "    #histogram of mean relative error\n",
    "    fig = px.histogram(df_pond, x='mean relative error', nbins=100, title=f'Histogram of mean relative error for {pond_type}')\n",
    "    fig.show()"
   ]
  }
 ],
 "metadata": {
  "kernelspec": {
   "display_name": ".venv",
   "language": "python",
   "name": "python3"
  },
  "language_info": {
   "codemirror_mode": {
    "name": "ipython",
    "version": 3
   },
   "file_extension": ".py",
   "mimetype": "text/x-python",
   "name": "python",
   "nbconvert_exporter": "python",
   "pygments_lexer": "ipython3",
   "version": "3.9.6"
  }
 },
 "nbformat": 4,
 "nbformat_minor": 2
}
