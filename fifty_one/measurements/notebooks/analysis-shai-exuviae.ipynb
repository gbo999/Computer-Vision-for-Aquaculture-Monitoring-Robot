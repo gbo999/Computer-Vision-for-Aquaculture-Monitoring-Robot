{
 "cells": [
  {
   "cell_type": "code",
   "execution_count": 27,
   "metadata": {},
   "outputs": [],
   "source": [
    "import pandas as pd\n",
    "\n",
    "df_shai_exuviae=pd.read_csv('/Users/gilbenor/Documents/code projects/msc/counting_research_algorithms/fifty_one/measurements/data/Results-shai-exuviae.csv')\n",
    "df_analysis=pd.read_csv('/Users/gilbenor/Documents/code projects/msc/counting_research_algorithms/fifty_one/measurements/data/length_analysis_new_split.csv')\n",
    "\n",
    "\n",
    "# Remove 'colored_' prefix from image_name column\n",
    "df_analysis['image_name'] = df_analysis['image_name'].str.replace('colored_', '')\n",
    "\n",
    "\n",
    "\n"
   ]
  },
  {
   "cell_type": "code",
   "execution_count": 28,
   "metadata": {},
   "outputs": [
    {
     "data": {
      "text/html": [
       "<div>\n",
       "<style scoped>\n",
       "    .dataframe tbody tr th:only-of-type {\n",
       "        vertical-align: middle;\n",
       "    }\n",
       "\n",
       "    .dataframe tbody tr th {\n",
       "        vertical-align: top;\n",
       "    }\n",
       "\n",
       "    .dataframe thead th {\n",
       "        text-align: right;\n",
       "    }\n",
       "</style>\n",
       "<table border=\"1\" class=\"dataframe\">\n",
       "  <thead>\n",
       "    <tr style=\"text-align: right;\">\n",
       "      <th></th>\n",
       "      <th></th>\n",
       "      <th>Label</th>\n",
       "      <th>Area</th>\n",
       "      <th>Mean</th>\n",
       "      <th>Min</th>\n",
       "      <th>Max</th>\n",
       "      <th>BX</th>\n",
       "      <th>BY</th>\n",
       "      <th>Width</th>\n",
       "      <th>Height</th>\n",
       "      <th>Angle</th>\n",
       "      <th>Length</th>\n",
       "    </tr>\n",
       "  </thead>\n",
       "  <tbody>\n",
       "    <tr>\n",
       "      <th>0</th>\n",
       "      <td>1</td>\n",
       "      <td>undistorted_GX010191_5_190</td>\n",
       "      <td>1030</td>\n",
       "      <td>131.196</td>\n",
       "      <td>29.609</td>\n",
       "      <td>166.129</td>\n",
       "      <td>3660</td>\n",
       "      <td>36</td>\n",
       "      <td>41</td>\n",
       "      <td>1029</td>\n",
       "      <td>-87.772</td>\n",
       "      <td>1028.778</td>\n",
       "    </tr>\n",
       "    <tr>\n",
       "      <th>1</th>\n",
       "      <td>2</td>\n",
       "      <td>undistorted_GX010191_8_309</td>\n",
       "      <td>791</td>\n",
       "      <td>156.202</td>\n",
       "      <td>55.333</td>\n",
       "      <td>175.122</td>\n",
       "      <td>2456</td>\n",
       "      <td>1376</td>\n",
       "      <td>733</td>\n",
       "      <td>297</td>\n",
       "      <td>22.017</td>\n",
       "      <td>789.582</td>\n",
       "    </tr>\n",
       "    <tr>\n",
       "      <th>2</th>\n",
       "      <td>3</td>\n",
       "      <td>undistorted_GX010191_8_309</td>\n",
       "      <td>914</td>\n",
       "      <td>136.620</td>\n",
       "      <td>84.361</td>\n",
       "      <td>170.768</td>\n",
       "      <td>3860</td>\n",
       "      <td>1736</td>\n",
       "      <td>157</td>\n",
       "      <td>901</td>\n",
       "      <td>-80.166</td>\n",
       "      <td>913.420</td>\n",
       "    </tr>\n",
       "    <tr>\n",
       "      <th>3</th>\n",
       "      <td>4</td>\n",
       "      <td>undistorted_GX010191_10_370</td>\n",
       "      <td>697</td>\n",
       "      <td>127.490</td>\n",
       "      <td>40.000</td>\n",
       "      <td>189.921</td>\n",
       "      <td>3092</td>\n",
       "      <td>1716</td>\n",
       "      <td>245</td>\n",
       "      <td>653</td>\n",
       "      <td>69.482</td>\n",
       "      <td>696.161</td>\n",
       "    </tr>\n",
       "    <tr>\n",
       "      <th>4</th>\n",
       "      <td>5</td>\n",
       "      <td>undistorted_GX010191_10_370</td>\n",
       "      <td>940</td>\n",
       "      <td>154.028</td>\n",
       "      <td>81.667</td>\n",
       "      <td>180.810</td>\n",
       "      <td>4084</td>\n",
       "      <td>1360</td>\n",
       "      <td>837</td>\n",
       "      <td>429</td>\n",
       "      <td>-27.111</td>\n",
       "      <td>939.191</td>\n",
       "    </tr>\n",
       "    <tr>\n",
       "      <th>...</th>\n",
       "      <td>...</td>\n",
       "      <td>...</td>\n",
       "      <td>...</td>\n",
       "      <td>...</td>\n",
       "      <td>...</td>\n",
       "      <td>...</td>\n",
       "      <td>...</td>\n",
       "      <td>...</td>\n",
       "      <td>...</td>\n",
       "      <td>...</td>\n",
       "      <td>...</td>\n",
       "      <td>...</td>\n",
       "    </tr>\n",
       "    <tr>\n",
       "      <th>80</th>\n",
       "      <td>81</td>\n",
       "      <td>undistorted_GX010194_26_373</td>\n",
       "      <td>1218</td>\n",
       "      <td>150.946</td>\n",
       "      <td>81.667</td>\n",
       "      <td>179.000</td>\n",
       "      <td>1072</td>\n",
       "      <td>1548</td>\n",
       "      <td>1053</td>\n",
       "      <td>613</td>\n",
       "      <td>30.189</td>\n",
       "      <td>1217.065</td>\n",
       "    </tr>\n",
       "    <tr>\n",
       "      <th>81</th>\n",
       "      <td>82</td>\n",
       "      <td>undistorted_GX010194_39_513</td>\n",
       "      <td>1309</td>\n",
       "      <td>156.869</td>\n",
       "      <td>47.333</td>\n",
       "      <td>179.686</td>\n",
       "      <td>2436</td>\n",
       "      <td>1320</td>\n",
       "      <td>33</td>\n",
       "      <td>1309</td>\n",
       "      <td>-91.401</td>\n",
       "      <td>1308.391</td>\n",
       "    </tr>\n",
       "    <tr>\n",
       "      <th>82</th>\n",
       "      <td>83</td>\n",
       "      <td>undistorted_GX010194_60_836</td>\n",
       "      <td>1735</td>\n",
       "      <td>134.509</td>\n",
       "      <td>47.373</td>\n",
       "      <td>170.459</td>\n",
       "      <td>2208</td>\n",
       "      <td>2544</td>\n",
       "      <td>1733</td>\n",
       "      <td>77</td>\n",
       "      <td>177.487</td>\n",
       "      <td>1733.667</td>\n",
       "    </tr>\n",
       "    <tr>\n",
       "      <th>83</th>\n",
       "      <td>84</td>\n",
       "      <td>undistorted_GX010194_60_836</td>\n",
       "      <td>1380</td>\n",
       "      <td>156.280</td>\n",
       "      <td>64.333</td>\n",
       "      <td>181.049</td>\n",
       "      <td>2608</td>\n",
       "      <td>52</td>\n",
       "      <td>561</td>\n",
       "      <td>1261</td>\n",
       "      <td>66.038</td>\n",
       "      <td>1378.840</td>\n",
       "    </tr>\n",
       "    <tr>\n",
       "      <th>84</th>\n",
       "      <td>85</td>\n",
       "      <td>undistorted_GX010194_65_928</td>\n",
       "      <td>1284</td>\n",
       "      <td>139.730</td>\n",
       "      <td>53.000</td>\n",
       "      <td>165.564</td>\n",
       "      <td>1808</td>\n",
       "      <td>440</td>\n",
       "      <td>581</td>\n",
       "      <td>1145</td>\n",
       "      <td>63.115</td>\n",
       "      <td>1282.629</td>\n",
       "    </tr>\n",
       "  </tbody>\n",
       "</table>\n",
       "<p>85 rows × 12 columns</p>\n",
       "</div>"
      ],
      "text/plain": [
       "                              Label  Area     Mean     Min      Max    BX  \\\n",
       "0    1   undistorted_GX010191_5_190  1030  131.196  29.609  166.129  3660   \n",
       "1    2   undistorted_GX010191_8_309   791  156.202  55.333  175.122  2456   \n",
       "2    3   undistorted_GX010191_8_309   914  136.620  84.361  170.768  3860   \n",
       "3    4  undistorted_GX010191_10_370   697  127.490  40.000  189.921  3092   \n",
       "4    5  undistorted_GX010191_10_370   940  154.028  81.667  180.810  4084   \n",
       "..  ..                          ...   ...      ...     ...      ...   ...   \n",
       "80  81  undistorted_GX010194_26_373  1218  150.946  81.667  179.000  1072   \n",
       "81  82  undistorted_GX010194_39_513  1309  156.869  47.333  179.686  2436   \n",
       "82  83  undistorted_GX010194_60_836  1735  134.509  47.373  170.459  2208   \n",
       "83  84  undistorted_GX010194_60_836  1380  156.280  64.333  181.049  2608   \n",
       "84  85  undistorted_GX010194_65_928  1284  139.730  53.000  165.564  1808   \n",
       "\n",
       "      BY  Width  Height    Angle    Length  \n",
       "0     36     41    1029  -87.772  1028.778  \n",
       "1   1376    733     297   22.017   789.582  \n",
       "2   1736    157     901  -80.166   913.420  \n",
       "3   1716    245     653   69.482   696.161  \n",
       "4   1360    837     429  -27.111   939.191  \n",
       "..   ...    ...     ...      ...       ...  \n",
       "80  1548   1053     613   30.189  1217.065  \n",
       "81  1320     33    1309  -91.401  1308.391  \n",
       "82  2544   1733      77  177.487  1733.667  \n",
       "83    52    561    1261   66.038  1378.840  \n",
       "84   440    581    1145   63.115  1282.629  \n",
       "\n",
       "[85 rows x 12 columns]"
      ]
     },
     "execution_count": 28,
     "metadata": {},
     "output_type": "execute_result"
    }
   ],
   "source": [
    "df_shai_exuviae['Label'] = df_shai_exuviae['Label'].str.replace('Shai - exuviae:', '')\n",
    "\n",
    "df_shai_exuviae"
   ]
  },
  {
   "cell_type": "code",
   "execution_count": 29,
   "metadata": {},
   "outputs": [
    {
     "name": "stdout",
     "output_type": "stream",
     "text": [
      "Found 70 matches where lengths are within 20.0% difference\n"
     ]
    },
    {
     "data": {
      "text/html": [
       "<div>\n",
       "<style scoped>\n",
       "    .dataframe tbody tr th:only-of-type {\n",
       "        vertical-align: middle;\n",
       "    }\n",
       "\n",
       "    .dataframe tbody tr th {\n",
       "        vertical-align: top;\n",
       "    }\n",
       "\n",
       "    .dataframe thead th {\n",
       "        text-align: right;\n",
       "    }\n",
       "</style>\n",
       "<table border=\"1\" class=\"dataframe\">\n",
       "  <thead>\n",
       "    <tr style=\"text-align: right;\">\n",
       "      <th></th>\n",
       "      <th></th>\n",
       "      <th>Label</th>\n",
       "      <th>Area</th>\n",
       "      <th>Mean</th>\n",
       "      <th>Min</th>\n",
       "      <th>Max</th>\n",
       "      <th>BX</th>\n",
       "      <th>BY</th>\n",
       "      <th>Width</th>\n",
       "      <th>Height</th>\n",
       "      <th>...</th>\n",
       "      <th>Length</th>\n",
       "      <th>image_name</th>\n",
       "      <th>lobster_size</th>\n",
       "      <th>total_length</th>\n",
       "      <th>carapace_length</th>\n",
       "      <th>eye_x</th>\n",
       "      <th>eye_y</th>\n",
       "      <th>pixels_total_length</th>\n",
       "      <th>pixels_carapace_length</th>\n",
       "      <th>length_diff</th>\n",
       "    </tr>\n",
       "  </thead>\n",
       "  <tbody>\n",
       "    <tr>\n",
       "      <th>35</th>\n",
       "      <td>31</td>\n",
       "      <td>undistorted_GX010191_37_1242</td>\n",
       "      <td>720</td>\n",
       "      <td>148.253</td>\n",
       "      <td>98.659</td>\n",
       "      <td>170.629</td>\n",
       "      <td>2764</td>\n",
       "      <td>948</td>\n",
       "      <td>221</td>\n",
       "      <td>685</td>\n",
       "      <td>...</td>\n",
       "      <td>718.510</td>\n",
       "      <td>undistorted_GX010191_37_1242</td>\n",
       "      <td>small</td>\n",
       "      <td>160.3</td>\n",
       "      <td>39.7</td>\n",
       "      <td>2927.6</td>\n",
       "      <td>1243.5</td>\n",
       "      <td>719.0</td>\n",
       "      <td>178.1</td>\n",
       "      <td>0.490</td>\n",
       "    </tr>\n",
       "    <tr>\n",
       "      <th>17</th>\n",
       "      <td>19</td>\n",
       "      <td>undistorted_GX010191_32_305</td>\n",
       "      <td>791</td>\n",
       "      <td>147.524</td>\n",
       "      <td>87.960</td>\n",
       "      <td>176.063</td>\n",
       "      <td>2516</td>\n",
       "      <td>1328</td>\n",
       "      <td>741</td>\n",
       "      <td>277</td>\n",
       "      <td>...</td>\n",
       "      <td>789.795</td>\n",
       "      <td>undistorted_GX010191_32_305</td>\n",
       "      <td>big</td>\n",
       "      <td>174.5</td>\n",
       "      <td>41.7</td>\n",
       "      <td>2897.1</td>\n",
       "      <td>1454.2</td>\n",
       "      <td>786.3</td>\n",
       "      <td>187.9</td>\n",
       "      <td>3.495</td>\n",
       "    </tr>\n",
       "    <tr>\n",
       "      <th>62</th>\n",
       "      <td>50</td>\n",
       "      <td>undistorted_GX010191_100_1250</td>\n",
       "      <td>734</td>\n",
       "      <td>145.590</td>\n",
       "      <td>35.000</td>\n",
       "      <td>185.270</td>\n",
       "      <td>2776</td>\n",
       "      <td>1088</td>\n",
       "      <td>137</td>\n",
       "      <td>721</td>\n",
       "      <td>...</td>\n",
       "      <td>732.732</td>\n",
       "      <td>undistorted_GX010191_100_1250</td>\n",
       "      <td>small</td>\n",
       "      <td>164.7</td>\n",
       "      <td>43.8</td>\n",
       "      <td>2853.8</td>\n",
       "      <td>1416.3</td>\n",
       "      <td>739.4</td>\n",
       "      <td>196.5</td>\n",
       "      <td>6.668</td>\n",
       "    </tr>\n",
       "    <tr>\n",
       "      <th>57</th>\n",
       "      <td>48</td>\n",
       "      <td>undistorted_GX010191_94_1132</td>\n",
       "      <td>823</td>\n",
       "      <td>153.479</td>\n",
       "      <td>28.338</td>\n",
       "      <td>180.844</td>\n",
       "      <td>3052</td>\n",
       "      <td>368</td>\n",
       "      <td>777</td>\n",
       "      <td>273</td>\n",
       "      <td>...</td>\n",
       "      <td>822.289</td>\n",
       "      <td>undistorted_GX010191_94_1132</td>\n",
       "      <td>big</td>\n",
       "      <td>183.1</td>\n",
       "      <td>39.8</td>\n",
       "      <td>3728.6</td>\n",
       "      <td>1885.2</td>\n",
       "      <td>832.0</td>\n",
       "      <td>181.0</td>\n",
       "      <td>9.711</td>\n",
       "    </tr>\n",
       "    <tr>\n",
       "      <th>29</th>\n",
       "      <td>27</td>\n",
       "      <td>undistorted_GX010191_35_1167</td>\n",
       "      <td>771</td>\n",
       "      <td>154.688</td>\n",
       "      <td>47.898</td>\n",
       "      <td>184.515</td>\n",
       "      <td>2844</td>\n",
       "      <td>644</td>\n",
       "      <td>761</td>\n",
       "      <td>125</td>\n",
       "      <td>...</td>\n",
       "      <td>770.049</td>\n",
       "      <td>undistorted_GX010191_35_1167</td>\n",
       "      <td>big</td>\n",
       "      <td>168.7</td>\n",
       "      <td>39.4</td>\n",
       "      <td>3262.8</td>\n",
       "      <td>683.9</td>\n",
       "      <td>759.4</td>\n",
       "      <td>177.2</td>\n",
       "      <td>10.649</td>\n",
       "    </tr>\n",
       "    <tr>\n",
       "      <th>...</th>\n",
       "      <td>...</td>\n",
       "      <td>...</td>\n",
       "      <td>...</td>\n",
       "      <td>...</td>\n",
       "      <td>...</td>\n",
       "      <td>...</td>\n",
       "      <td>...</td>\n",
       "      <td>...</td>\n",
       "      <td>...</td>\n",
       "      <td>...</td>\n",
       "      <td>...</td>\n",
       "      <td>...</td>\n",
       "      <td>...</td>\n",
       "      <td>...</td>\n",
       "      <td>...</td>\n",
       "      <td>...</td>\n",
       "      <td>...</td>\n",
       "      <td>...</td>\n",
       "      <td>...</td>\n",
       "      <td>...</td>\n",
       "      <td>...</td>\n",
       "    </tr>\n",
       "    <tr>\n",
       "      <th>71</th>\n",
       "      <td>56</td>\n",
       "      <td>undistorted_GX010191_106_1320</td>\n",
       "      <td>966</td>\n",
       "      <td>172.910</td>\n",
       "      <td>70.000</td>\n",
       "      <td>206.571</td>\n",
       "      <td>2560</td>\n",
       "      <td>692</td>\n",
       "      <td>157</td>\n",
       "      <td>953</td>\n",
       "      <td>...</td>\n",
       "      <td>964.697</td>\n",
       "      <td>undistorted_GX010191_106_1320</td>\n",
       "      <td>big</td>\n",
       "      <td>175.9</td>\n",
       "      <td>43.9</td>\n",
       "      <td>2677.7</td>\n",
       "      <td>1177.7</td>\n",
       "      <td>801.8</td>\n",
       "      <td>200.1</td>\n",
       "      <td>162.897</td>\n",
       "    </tr>\n",
       "    <tr>\n",
       "      <th>75</th>\n",
       "      <td>60</td>\n",
       "      <td>undistorted_GX010191_114_1383</td>\n",
       "      <td>938</td>\n",
       "      <td>146.498</td>\n",
       "      <td>96.333</td>\n",
       "      <td>164.144</td>\n",
       "      <td>3448</td>\n",
       "      <td>1576</td>\n",
       "      <td>929</td>\n",
       "      <td>129</td>\n",
       "      <td>...</td>\n",
       "      <td>936.786</td>\n",
       "      <td>undistorted_GX010191_114_1383</td>\n",
       "      <td>big</td>\n",
       "      <td>169.6</td>\n",
       "      <td>37.1</td>\n",
       "      <td>4783.2</td>\n",
       "      <td>521.0</td>\n",
       "      <td>772.3</td>\n",
       "      <td>168.8</td>\n",
       "      <td>164.486</td>\n",
       "    </tr>\n",
       "    <tr>\n",
       "      <th>28</th>\n",
       "      <td>26</td>\n",
       "      <td>undistorted_GX010191_35_367</td>\n",
       "      <td>927</td>\n",
       "      <td>147.180</td>\n",
       "      <td>59.118</td>\n",
       "      <td>170.229</td>\n",
       "      <td>4092</td>\n",
       "      <td>1392</td>\n",
       "      <td>793</td>\n",
       "      <td>481</td>\n",
       "      <td>...</td>\n",
       "      <td>926.102</td>\n",
       "      <td>undistorted_GX010191_35_367</td>\n",
       "      <td>small</td>\n",
       "      <td>168.2</td>\n",
       "      <td>40.7</td>\n",
       "      <td>3237.0</td>\n",
       "      <td>1978.7</td>\n",
       "      <td>752.7</td>\n",
       "      <td>182.2</td>\n",
       "      <td>173.402</td>\n",
       "    </tr>\n",
       "    <tr>\n",
       "      <th>4</th>\n",
       "      <td>5</td>\n",
       "      <td>undistorted_GX010191_10_370</td>\n",
       "      <td>940</td>\n",
       "      <td>154.028</td>\n",
       "      <td>81.667</td>\n",
       "      <td>180.810</td>\n",
       "      <td>4084</td>\n",
       "      <td>1360</td>\n",
       "      <td>837</td>\n",
       "      <td>429</td>\n",
       "      <td>...</td>\n",
       "      <td>939.191</td>\n",
       "      <td>undistorted_GX010191_10_370</td>\n",
       "      <td>small</td>\n",
       "      <td>171.3</td>\n",
       "      <td>42.0</td>\n",
       "      <td>4558.5</td>\n",
       "      <td>1529.4</td>\n",
       "      <td>762.6</td>\n",
       "      <td>186.9</td>\n",
       "      <td>176.591</td>\n",
       "    </tr>\n",
       "    <tr>\n",
       "      <th>88</th>\n",
       "      <td>73</td>\n",
       "      <td>undistorted_GX010193_27_1553</td>\n",
       "      <td>1420</td>\n",
       "      <td>120.455</td>\n",
       "      <td>43.000</td>\n",
       "      <td>155.120</td>\n",
       "      <td>3036</td>\n",
       "      <td>568</td>\n",
       "      <td>1101</td>\n",
       "      <td>897</td>\n",
       "      <td>...</td>\n",
       "      <td>1418.737</td>\n",
       "      <td>undistorted_GX010193_27_1553</td>\n",
       "      <td>small</td>\n",
       "      <td>154.8</td>\n",
       "      <td>37.5</td>\n",
       "      <td>3619.4</td>\n",
       "      <td>1004.6</td>\n",
       "      <td>1217.1</td>\n",
       "      <td>295.1</td>\n",
       "      <td>201.637</td>\n",
       "    </tr>\n",
       "  </tbody>\n",
       "</table>\n",
       "<p>70 rows × 21 columns</p>\n",
       "</div>"
      ],
      "text/plain": [
       "                                Label  Area     Mean     Min      Max    BX  \\\n",
       "35  31   undistorted_GX010191_37_1242   720  148.253  98.659  170.629  2764   \n",
       "17  19    undistorted_GX010191_32_305   791  147.524  87.960  176.063  2516   \n",
       "62  50  undistorted_GX010191_100_1250   734  145.590  35.000  185.270  2776   \n",
       "57  48   undistorted_GX010191_94_1132   823  153.479  28.338  180.844  3052   \n",
       "29  27   undistorted_GX010191_35_1167   771  154.688  47.898  184.515  2844   \n",
       "..  ..                            ...   ...      ...     ...      ...   ...   \n",
       "71  56  undistorted_GX010191_106_1320   966  172.910  70.000  206.571  2560   \n",
       "75  60  undistorted_GX010191_114_1383   938  146.498  96.333  164.144  3448   \n",
       "28  26    undistorted_GX010191_35_367   927  147.180  59.118  170.229  4092   \n",
       "4    5    undistorted_GX010191_10_370   940  154.028  81.667  180.810  4084   \n",
       "88  73   undistorted_GX010193_27_1553  1420  120.455  43.000  155.120  3036   \n",
       "\n",
       "      BY  Width  Height  ...    Length                     image_name  \\\n",
       "35   948    221     685  ...   718.510   undistorted_GX010191_37_1242   \n",
       "17  1328    741     277  ...   789.795    undistorted_GX010191_32_305   \n",
       "62  1088    137     721  ...   732.732  undistorted_GX010191_100_1250   \n",
       "57   368    777     273  ...   822.289   undistorted_GX010191_94_1132   \n",
       "29   644    761     125  ...   770.049   undistorted_GX010191_35_1167   \n",
       "..   ...    ...     ...  ...       ...                            ...   \n",
       "71   692    157     953  ...   964.697  undistorted_GX010191_106_1320   \n",
       "75  1576    929     129  ...   936.786  undistorted_GX010191_114_1383   \n",
       "28  1392    793     481  ...   926.102    undistorted_GX010191_35_367   \n",
       "4   1360    837     429  ...   939.191    undistorted_GX010191_10_370   \n",
       "88   568   1101     897  ...  1418.737   undistorted_GX010193_27_1553   \n",
       "\n",
       "   lobster_size total_length  carapace_length   eye_x   eye_y  \\\n",
       "35        small        160.3             39.7  2927.6  1243.5   \n",
       "17          big        174.5             41.7  2897.1  1454.2   \n",
       "62        small        164.7             43.8  2853.8  1416.3   \n",
       "57          big        183.1             39.8  3728.6  1885.2   \n",
       "29          big        168.7             39.4  3262.8   683.9   \n",
       "..          ...          ...              ...     ...     ...   \n",
       "71          big        175.9             43.9  2677.7  1177.7   \n",
       "75          big        169.6             37.1  4783.2   521.0   \n",
       "28        small        168.2             40.7  3237.0  1978.7   \n",
       "4         small        171.3             42.0  4558.5  1529.4   \n",
       "88        small        154.8             37.5  3619.4  1004.6   \n",
       "\n",
       "    pixels_total_length  pixels_carapace_length  length_diff  \n",
       "35                719.0                   178.1        0.490  \n",
       "17                786.3                   187.9        3.495  \n",
       "62                739.4                   196.5        6.668  \n",
       "57                832.0                   181.0        9.711  \n",
       "29                759.4                   177.2       10.649  \n",
       "..                  ...                     ...          ...  \n",
       "71                801.8                   200.1      162.897  \n",
       "75                772.3                   168.8      164.486  \n",
       "28                752.7                   182.2      173.402  \n",
       "4                 762.6                   186.9      176.591  \n",
       "88               1217.1                   295.1      201.637  \n",
       "\n",
       "[70 rows x 21 columns]"
      ]
     },
     "metadata": {},
     "output_type": "display_data"
    }
   ],
   "source": [
    "# Create a merged dataframe by matching Label with image_name\n",
    "merged_df = pd.merge(\n",
    "    df_shai_exuviae,\n",
    "    df_analysis,\n",
    "    left_on='Label',\n",
    "    right_on='image_name',\n",
    "    how='inner'\n",
    ")\n",
    "\n",
    "# Calculate the absolute difference between Length and pixels_total_length\n",
    "merged_df['length_diff'] = abs(merged_df['Length'] - merged_df['pixels_total_length'])\n",
    "\n",
    "# Filter for rows where the lengths are close (e.g. within 10% difference)\n",
    "threshold = 0.2# 10% threshold\n",
    "close_matches = merged_df[merged_df['length_diff'] / merged_df['Length'] < threshold]\n",
    "\n",
    "# Sort by length difference to see best matches first\n",
    "close_matches = close_matches.sort_values('length_diff')\n",
    "\n",
    "# Display results\n",
    "print(f\"Found {len(close_matches)} matches where lengths are within {threshold*100}% difference\")\n",
    "display(close_matches)\n"
   ]
  },
  {
   "cell_type": "code",
   "execution_count": 30,
   "metadata": {},
   "outputs": [
    {
     "data": {
      "text/html": [
       "<div>\n",
       "<style scoped>\n",
       "    .dataframe tbody tr th:only-of-type {\n",
       "        vertical-align: middle;\n",
       "    }\n",
       "\n",
       "    .dataframe tbody tr th {\n",
       "        vertical-align: top;\n",
       "    }\n",
       "\n",
       "    .dataframe thead th {\n",
       "        text-align: right;\n",
       "    }\n",
       "</style>\n",
       "<table border=\"1\" class=\"dataframe\">\n",
       "  <thead>\n",
       "    <tr style=\"text-align: right;\">\n",
       "      <th></th>\n",
       "      <th>image_name</th>\n",
       "      <th>BX</th>\n",
       "      <th>BY</th>\n",
       "      <th>Width</th>\n",
       "      <th>Height</th>\n",
       "      <th>Length</th>\n",
       "      <th>lobster_size</th>\n",
       "      <th>total_length</th>\n",
       "      <th>pixels_total_length</th>\n",
       "      <th>length_diff</th>\n",
       "    </tr>\n",
       "  </thead>\n",
       "  <tbody>\n",
       "    <tr>\n",
       "      <th>35</th>\n",
       "      <td>undistorted_GX010191_37_1242</td>\n",
       "      <td>2764</td>\n",
       "      <td>948</td>\n",
       "      <td>221</td>\n",
       "      <td>685</td>\n",
       "      <td>718.510</td>\n",
       "      <td>small</td>\n",
       "      <td>160.3</td>\n",
       "      <td>719.0</td>\n",
       "      <td>0.490</td>\n",
       "    </tr>\n",
       "    <tr>\n",
       "      <th>17</th>\n",
       "      <td>undistorted_GX010191_32_305</td>\n",
       "      <td>2516</td>\n",
       "      <td>1328</td>\n",
       "      <td>741</td>\n",
       "      <td>277</td>\n",
       "      <td>789.795</td>\n",
       "      <td>big</td>\n",
       "      <td>174.5</td>\n",
       "      <td>786.3</td>\n",
       "      <td>3.495</td>\n",
       "    </tr>\n",
       "    <tr>\n",
       "      <th>62</th>\n",
       "      <td>undistorted_GX010191_100_1250</td>\n",
       "      <td>2776</td>\n",
       "      <td>1088</td>\n",
       "      <td>137</td>\n",
       "      <td>721</td>\n",
       "      <td>732.732</td>\n",
       "      <td>small</td>\n",
       "      <td>164.7</td>\n",
       "      <td>739.4</td>\n",
       "      <td>6.668</td>\n",
       "    </tr>\n",
       "    <tr>\n",
       "      <th>57</th>\n",
       "      <td>undistorted_GX010191_94_1132</td>\n",
       "      <td>3052</td>\n",
       "      <td>368</td>\n",
       "      <td>777</td>\n",
       "      <td>273</td>\n",
       "      <td>822.289</td>\n",
       "      <td>big</td>\n",
       "      <td>183.1</td>\n",
       "      <td>832.0</td>\n",
       "      <td>9.711</td>\n",
       "    </tr>\n",
       "    <tr>\n",
       "      <th>29</th>\n",
       "      <td>undistorted_GX010191_35_1167</td>\n",
       "      <td>2844</td>\n",
       "      <td>644</td>\n",
       "      <td>761</td>\n",
       "      <td>125</td>\n",
       "      <td>770.049</td>\n",
       "      <td>big</td>\n",
       "      <td>168.7</td>\n",
       "      <td>759.4</td>\n",
       "      <td>10.649</td>\n",
       "    </tr>\n",
       "    <tr>\n",
       "      <th>...</th>\n",
       "      <td>...</td>\n",
       "      <td>...</td>\n",
       "      <td>...</td>\n",
       "      <td>...</td>\n",
       "      <td>...</td>\n",
       "      <td>...</td>\n",
       "      <td>...</td>\n",
       "      <td>...</td>\n",
       "      <td>...</td>\n",
       "      <td>...</td>\n",
       "    </tr>\n",
       "    <tr>\n",
       "      <th>71</th>\n",
       "      <td>undistorted_GX010191_106_1320</td>\n",
       "      <td>2560</td>\n",
       "      <td>692</td>\n",
       "      <td>157</td>\n",
       "      <td>953</td>\n",
       "      <td>964.697</td>\n",
       "      <td>big</td>\n",
       "      <td>175.9</td>\n",
       "      <td>801.8</td>\n",
       "      <td>162.897</td>\n",
       "    </tr>\n",
       "    <tr>\n",
       "      <th>75</th>\n",
       "      <td>undistorted_GX010191_114_1383</td>\n",
       "      <td>3448</td>\n",
       "      <td>1576</td>\n",
       "      <td>929</td>\n",
       "      <td>129</td>\n",
       "      <td>936.786</td>\n",
       "      <td>big</td>\n",
       "      <td>169.6</td>\n",
       "      <td>772.3</td>\n",
       "      <td>164.486</td>\n",
       "    </tr>\n",
       "    <tr>\n",
       "      <th>28</th>\n",
       "      <td>undistorted_GX010191_35_367</td>\n",
       "      <td>4092</td>\n",
       "      <td>1392</td>\n",
       "      <td>793</td>\n",
       "      <td>481</td>\n",
       "      <td>926.102</td>\n",
       "      <td>small</td>\n",
       "      <td>168.2</td>\n",
       "      <td>752.7</td>\n",
       "      <td>173.402</td>\n",
       "    </tr>\n",
       "    <tr>\n",
       "      <th>4</th>\n",
       "      <td>undistorted_GX010191_10_370</td>\n",
       "      <td>4084</td>\n",
       "      <td>1360</td>\n",
       "      <td>837</td>\n",
       "      <td>429</td>\n",
       "      <td>939.191</td>\n",
       "      <td>small</td>\n",
       "      <td>171.3</td>\n",
       "      <td>762.6</td>\n",
       "      <td>176.591</td>\n",
       "    </tr>\n",
       "    <tr>\n",
       "      <th>88</th>\n",
       "      <td>undistorted_GX010193_27_1553</td>\n",
       "      <td>3036</td>\n",
       "      <td>568</td>\n",
       "      <td>1101</td>\n",
       "      <td>897</td>\n",
       "      <td>1418.737</td>\n",
       "      <td>small</td>\n",
       "      <td>154.8</td>\n",
       "      <td>1217.1</td>\n",
       "      <td>201.637</td>\n",
       "    </tr>\n",
       "  </tbody>\n",
       "</table>\n",
       "<p>70 rows × 10 columns</p>\n",
       "</div>"
      ],
      "text/plain": [
       "                       image_name    BX    BY  Width  Height    Length  \\\n",
       "35   undistorted_GX010191_37_1242  2764   948    221     685   718.510   \n",
       "17    undistorted_GX010191_32_305  2516  1328    741     277   789.795   \n",
       "62  undistorted_GX010191_100_1250  2776  1088    137     721   732.732   \n",
       "57   undistorted_GX010191_94_1132  3052   368    777     273   822.289   \n",
       "29   undistorted_GX010191_35_1167  2844   644    761     125   770.049   \n",
       "..                            ...   ...   ...    ...     ...       ...   \n",
       "71  undistorted_GX010191_106_1320  2560   692    157     953   964.697   \n",
       "75  undistorted_GX010191_114_1383  3448  1576    929     129   936.786   \n",
       "28    undistorted_GX010191_35_367  4092  1392    793     481   926.102   \n",
       "4     undistorted_GX010191_10_370  4084  1360    837     429   939.191   \n",
       "88   undistorted_GX010193_27_1553  3036   568   1101     897  1418.737   \n",
       "\n",
       "   lobster_size  total_length  pixels_total_length  length_diff  \n",
       "35        small         160.3                719.0        0.490  \n",
       "17          big         174.5                786.3        3.495  \n",
       "62        small         164.7                739.4        6.668  \n",
       "57          big         183.1                832.0        9.711  \n",
       "29          big         168.7                759.4       10.649  \n",
       "..          ...           ...                  ...          ...  \n",
       "71          big         175.9                801.8      162.897  \n",
       "75          big         169.6                772.3      164.486  \n",
       "28        small         168.2                752.7      173.402  \n",
       "4         small         171.3                762.6      176.591  \n",
       "88        small         154.8               1217.1      201.637  \n",
       "\n",
       "[70 rows x 10 columns]"
      ]
     },
     "metadata": {},
     "output_type": "display_data"
    }
   ],
   "source": [
    "# Select only the specified columns\n",
    "selected_columns = ['image_name', 'BX', 'BY', 'Width', 'Height', 'Length', \n",
    "                   'lobster_size', 'total_length', 'pixels_total_length', 'length_diff']\n",
    "\n",
    "new_df = close_matches[selected_columns]\n",
    "\n",
    "# Display filtered results\n",
    "display(new_df)\n"
   ]
  },
  {
   "cell_type": "code",
   "execution_count": 31,
   "metadata": {},
   "outputs": [
    {
     "name": "stderr",
     "output_type": "stream",
     "text": [
      "/var/folders/9w/y40_ws0n1_n_hby5lpbrj1_m0000gn/T/ipykernel_12714/2314326851.py:2: SettingWithCopyWarning:\n",
      "\n",
      "\n",
      "A value is trying to be set on a copy of a slice from a DataFrame.\n",
      "Try using .loc[row_indexer,col_indexer] = value instead\n",
      "\n",
      "See the caveats in the documentation: https://pandas.pydata.org/pandas-docs/stable/user_guide/indexing.html#returning-a-view-versus-a-copy\n",
      "\n",
      "/var/folders/9w/y40_ws0n1_n_hby5lpbrj1_m0000gn/T/ipykernel_12714/2314326851.py:5: SettingWithCopyWarning:\n",
      "\n",
      "\n",
      "A value is trying to be set on a copy of a slice from a DataFrame.\n",
      "Try using .loc[row_indexer,col_indexer] = value instead\n",
      "\n",
      "See the caveats in the documentation: https://pandas.pydata.org/pandas-docs/stable/user_guide/indexing.html#returning-a-view-versus-a-copy\n",
      "\n",
      "/var/folders/9w/y40_ws0n1_n_hby5lpbrj1_m0000gn/T/ipykernel_12714/2314326851.py:8: SettingWithCopyWarning:\n",
      "\n",
      "\n",
      "A value is trying to be set on a copy of a slice from a DataFrame.\n",
      "Try using .loc[row_indexer,col_indexer] = value instead\n",
      "\n",
      "See the caveats in the documentation: https://pandas.pydata.org/pandas-docs/stable/user_guide/indexing.html#returning-a-view-versus-a-copy\n",
      "\n"
     ]
    },
    {
     "data": {
      "text/html": [
       "<div>\n",
       "<style scoped>\n",
       "    .dataframe tbody tr th:only-of-type {\n",
       "        vertical-align: middle;\n",
       "    }\n",
       "\n",
       "    .dataframe tbody tr th {\n",
       "        vertical-align: top;\n",
       "    }\n",
       "\n",
       "    .dataframe thead th {\n",
       "        text-align: right;\n",
       "    }\n",
       "</style>\n",
       "<table border=\"1\" class=\"dataframe\">\n",
       "  <thead>\n",
       "    <tr style=\"text-align: right;\">\n",
       "      <th></th>\n",
       "      <th>image_name</th>\n",
       "      <th>BX</th>\n",
       "      <th>BY</th>\n",
       "      <th>Width</th>\n",
       "      <th>Height</th>\n",
       "      <th>Length</th>\n",
       "      <th>lobster_size</th>\n",
       "      <th>total_length</th>\n",
       "      <th>pixels_total_length</th>\n",
       "      <th>length_diff</th>\n",
       "      <th>real_length</th>\n",
       "      <th>real_length_abs_diff</th>\n",
       "      <th>real_length_rel_diff</th>\n",
       "    </tr>\n",
       "  </thead>\n",
       "  <tbody>\n",
       "    <tr>\n",
       "      <th>35</th>\n",
       "      <td>undistorted_GX010191_37_1242</td>\n",
       "      <td>2764</td>\n",
       "      <td>948</td>\n",
       "      <td>221</td>\n",
       "      <td>685</td>\n",
       "      <td>718.510</td>\n",
       "      <td>small</td>\n",
       "      <td>160.3</td>\n",
       "      <td>719.0</td>\n",
       "      <td>0.490</td>\n",
       "      <td>145</td>\n",
       "      <td>15.3</td>\n",
       "      <td>10.551724</td>\n",
       "    </tr>\n",
       "    <tr>\n",
       "      <th>17</th>\n",
       "      <td>undistorted_GX010191_32_305</td>\n",
       "      <td>2516</td>\n",
       "      <td>1328</td>\n",
       "      <td>741</td>\n",
       "      <td>277</td>\n",
       "      <td>789.795</td>\n",
       "      <td>big</td>\n",
       "      <td>174.5</td>\n",
       "      <td>786.3</td>\n",
       "      <td>3.495</td>\n",
       "      <td>180</td>\n",
       "      <td>5.5</td>\n",
       "      <td>3.055556</td>\n",
       "    </tr>\n",
       "    <tr>\n",
       "      <th>62</th>\n",
       "      <td>undistorted_GX010191_100_1250</td>\n",
       "      <td>2776</td>\n",
       "      <td>1088</td>\n",
       "      <td>137</td>\n",
       "      <td>721</td>\n",
       "      <td>732.732</td>\n",
       "      <td>small</td>\n",
       "      <td>164.7</td>\n",
       "      <td>739.4</td>\n",
       "      <td>6.668</td>\n",
       "      <td>145</td>\n",
       "      <td>19.7</td>\n",
       "      <td>13.586207</td>\n",
       "    </tr>\n",
       "    <tr>\n",
       "      <th>57</th>\n",
       "      <td>undistorted_GX010191_94_1132</td>\n",
       "      <td>3052</td>\n",
       "      <td>368</td>\n",
       "      <td>777</td>\n",
       "      <td>273</td>\n",
       "      <td>822.289</td>\n",
       "      <td>big</td>\n",
       "      <td>183.1</td>\n",
       "      <td>832.0</td>\n",
       "      <td>9.711</td>\n",
       "      <td>180</td>\n",
       "      <td>3.1</td>\n",
       "      <td>1.722222</td>\n",
       "    </tr>\n",
       "    <tr>\n",
       "      <th>29</th>\n",
       "      <td>undistorted_GX010191_35_1167</td>\n",
       "      <td>2844</td>\n",
       "      <td>644</td>\n",
       "      <td>761</td>\n",
       "      <td>125</td>\n",
       "      <td>770.049</td>\n",
       "      <td>big</td>\n",
       "      <td>168.7</td>\n",
       "      <td>759.4</td>\n",
       "      <td>10.649</td>\n",
       "      <td>180</td>\n",
       "      <td>11.3</td>\n",
       "      <td>6.277778</td>\n",
       "    </tr>\n",
       "    <tr>\n",
       "      <th>...</th>\n",
       "      <td>...</td>\n",
       "      <td>...</td>\n",
       "      <td>...</td>\n",
       "      <td>...</td>\n",
       "      <td>...</td>\n",
       "      <td>...</td>\n",
       "      <td>...</td>\n",
       "      <td>...</td>\n",
       "      <td>...</td>\n",
       "      <td>...</td>\n",
       "      <td>...</td>\n",
       "      <td>...</td>\n",
       "      <td>...</td>\n",
       "    </tr>\n",
       "    <tr>\n",
       "      <th>71</th>\n",
       "      <td>undistorted_GX010191_106_1320</td>\n",
       "      <td>2560</td>\n",
       "      <td>692</td>\n",
       "      <td>157</td>\n",
       "      <td>953</td>\n",
       "      <td>964.697</td>\n",
       "      <td>big</td>\n",
       "      <td>175.9</td>\n",
       "      <td>801.8</td>\n",
       "      <td>162.897</td>\n",
       "      <td>180</td>\n",
       "      <td>4.1</td>\n",
       "      <td>2.277778</td>\n",
       "    </tr>\n",
       "    <tr>\n",
       "      <th>75</th>\n",
       "      <td>undistorted_GX010191_114_1383</td>\n",
       "      <td>3448</td>\n",
       "      <td>1576</td>\n",
       "      <td>929</td>\n",
       "      <td>129</td>\n",
       "      <td>936.786</td>\n",
       "      <td>big</td>\n",
       "      <td>169.6</td>\n",
       "      <td>772.3</td>\n",
       "      <td>164.486</td>\n",
       "      <td>180</td>\n",
       "      <td>10.4</td>\n",
       "      <td>5.777778</td>\n",
       "    </tr>\n",
       "    <tr>\n",
       "      <th>28</th>\n",
       "      <td>undistorted_GX010191_35_367</td>\n",
       "      <td>4092</td>\n",
       "      <td>1392</td>\n",
       "      <td>793</td>\n",
       "      <td>481</td>\n",
       "      <td>926.102</td>\n",
       "      <td>small</td>\n",
       "      <td>168.2</td>\n",
       "      <td>752.7</td>\n",
       "      <td>173.402</td>\n",
       "      <td>145</td>\n",
       "      <td>23.2</td>\n",
       "      <td>16.000000</td>\n",
       "    </tr>\n",
       "    <tr>\n",
       "      <th>4</th>\n",
       "      <td>undistorted_GX010191_10_370</td>\n",
       "      <td>4084</td>\n",
       "      <td>1360</td>\n",
       "      <td>837</td>\n",
       "      <td>429</td>\n",
       "      <td>939.191</td>\n",
       "      <td>small</td>\n",
       "      <td>171.3</td>\n",
       "      <td>762.6</td>\n",
       "      <td>176.591</td>\n",
       "      <td>145</td>\n",
       "      <td>26.3</td>\n",
       "      <td>18.137931</td>\n",
       "    </tr>\n",
       "    <tr>\n",
       "      <th>88</th>\n",
       "      <td>undistorted_GX010193_27_1553</td>\n",
       "      <td>3036</td>\n",
       "      <td>568</td>\n",
       "      <td>1101</td>\n",
       "      <td>897</td>\n",
       "      <td>1418.737</td>\n",
       "      <td>small</td>\n",
       "      <td>154.8</td>\n",
       "      <td>1217.1</td>\n",
       "      <td>201.637</td>\n",
       "      <td>145</td>\n",
       "      <td>9.8</td>\n",
       "      <td>6.758621</td>\n",
       "    </tr>\n",
       "  </tbody>\n",
       "</table>\n",
       "<p>70 rows × 13 columns</p>\n",
       "</div>"
      ],
      "text/plain": [
       "                       image_name    BX    BY  Width  Height    Length  \\\n",
       "35   undistorted_GX010191_37_1242  2764   948    221     685   718.510   \n",
       "17    undistorted_GX010191_32_305  2516  1328    741     277   789.795   \n",
       "62  undistorted_GX010191_100_1250  2776  1088    137     721   732.732   \n",
       "57   undistorted_GX010191_94_1132  3052   368    777     273   822.289   \n",
       "29   undistorted_GX010191_35_1167  2844   644    761     125   770.049   \n",
       "..                            ...   ...   ...    ...     ...       ...   \n",
       "71  undistorted_GX010191_106_1320  2560   692    157     953   964.697   \n",
       "75  undistorted_GX010191_114_1383  3448  1576    929     129   936.786   \n",
       "28    undistorted_GX010191_35_367  4092  1392    793     481   926.102   \n",
       "4     undistorted_GX010191_10_370  4084  1360    837     429   939.191   \n",
       "88   undistorted_GX010193_27_1553  3036   568   1101     897  1418.737   \n",
       "\n",
       "   lobster_size  total_length  pixels_total_length  length_diff  real_length  \\\n",
       "35        small         160.3                719.0        0.490          145   \n",
       "17          big         174.5                786.3        3.495          180   \n",
       "62        small         164.7                739.4        6.668          145   \n",
       "57          big         183.1                832.0        9.711          180   \n",
       "29          big         168.7                759.4       10.649          180   \n",
       "..          ...           ...                  ...          ...          ...   \n",
       "71          big         175.9                801.8      162.897          180   \n",
       "75          big         169.6                772.3      164.486          180   \n",
       "28        small         168.2                752.7      173.402          145   \n",
       "4         small         171.3                762.6      176.591          145   \n",
       "88        small         154.8               1217.1      201.637          145   \n",
       "\n",
       "    real_length_abs_diff  real_length_rel_diff  \n",
       "35                  15.3             10.551724  \n",
       "17                   5.5              3.055556  \n",
       "62                  19.7             13.586207  \n",
       "57                   3.1              1.722222  \n",
       "29                  11.3              6.277778  \n",
       "..                   ...                   ...  \n",
       "71                   4.1              2.277778  \n",
       "75                  10.4              5.777778  \n",
       "28                  23.2             16.000000  \n",
       "4                   26.3             18.137931  \n",
       "88                   9.8              6.758621  \n",
       "\n",
       "[70 rows x 13 columns]"
      ]
     },
     "metadata": {},
     "output_type": "display_data"
    }
   ],
   "source": [
    "# Add real length based on size class\n",
    "new_df['real_length'] = new_df['lobster_size'].map({'small': 145, 'big': 180})\n",
    "\n",
    "# Calculate absolute difference between real length and total length\n",
    "new_df['real_length_abs_diff'] = abs(new_df['total_length'] - new_df['real_length'])\n",
    "\n",
    "# Calculate relative difference as percentage\n",
    "new_df['real_length_rel_diff'] = (new_df['real_length_abs_diff'] / new_df['real_length']) * 100\n",
    "\n",
    "display(new_df)\n"
   ]
  },
  {
   "cell_type": "code",
   "execution_count": 32,
   "metadata": {},
   "outputs": [
    {
     "data": {
      "image/png": "[encoded data removed]",
      "text/plain": [
       "<Figure size 1000x800 with 1 Axes>"
      ]
     },
     "metadata": {},
     "output_type": "display_data"
    }
   ],
   "source": [
    "# Create scatter plot comparing Length vs pixels_total_length\n",
    "\n",
    "import matplotlib.pyplot as plt\n",
    "\n",
    "\n",
    "\n",
    "plt.figure(figsize=(10, 8))\n",
    "\n",
    "# Plot points with different colors based on relative error\n",
    "error_thresholds = [5, 10, 15]\n",
    "colors = ['green', 'yellow', 'orange', 'red']\n",
    "\n",
    "for i in range(len(error_thresholds) + 1):\n",
    "    if i == 0:\n",
    "        mask = new_df['real_length_rel_diff'] <= error_thresholds[0]\n",
    "        label = f'Error ≤ {error_thresholds[0]}%'\n",
    "    elif i == len(error_thresholds):\n",
    "        mask = new_df['real_length_rel_diff'] > error_thresholds[-1]\n",
    "        label = f'Error > {error_thresholds[-1]}%'\n",
    "    else:\n",
    "        mask = (new_df['real_length_rel_diff'] > error_thresholds[i-1]) & \\\n",
    "               (new_df['real_length_rel_diff'] <= error_thresholds[i])\n",
    "        label = f'{error_thresholds[i-1]}% < Error ≤ {error_thresholds[i]}%'\n",
    "    \n",
    "    plt.scatter(new_df[mask]['Length'], \n",
    "               new_df[mask]['pixels_total_length'],\n",
    "               c=colors[i],\n",
    "               alpha=0.6,\n",
    "               label=label)\n",
    "\n",
    "# Add diagonal line representing perfect correlation\n",
    "min_val = min(new_df['Length'].min(), new_df['pixels_total_length'].min())\n",
    "max_val = max(new_df['Length'].max(), new_df['pixels_total_length'].max())\n",
    "plt.plot([min_val, max_val], [min_val, max_val], 'k--', alpha=0.5, label='Perfect correlation')\n",
    "\n",
    "plt.xlabel('Length (pixels)')\n",
    "plt.ylabel('Pixels Total Length')\n",
    "plt.title('Comparison of Length Measurements\\nColored by Relative Error')\n",
    "plt.legend()\n",
    "plt.grid(True, alpha=0.3)\n",
    "\n",
    "# Make plot square\n",
    "plt.axis('equal')\n",
    "plt.tight_layout()\n",
    "plt.show()\n"
   ]
  },
  {
   "cell_type": "code",
   "execution_count": 33,
   "metadata": {},
   "outputs": [
    {
     "data": {
      "application/vnd.plotly.v1+json": {
       "config": {
        "plotlyServerURL": "https://plot.ly"
       },
       "data": [
        {
         "marker": {
          "color": "green",
          "opacity": 0.6,
          "size": 10
         },
         "mode": "markers",
         "name": "Error ≤ 5%",
         "type": "scatter",
         "x": [
          789.795,
          822.289,
          801.568,
          732.535,
          1317.27,
          913.77,
          932.009,
          1279.162,
          1217.065,
          953.889,
          1282.629,
          701.051,
          699.085,
          970.979,
          1295.191,
          993.161,
          947.738,
          964.697
         ],
         "y": [
          786.3,
          832,
          778.6,
          801.8,
          1391.6,
          835.8,
          850.2,
          1194.4,
          1126.2,
          841.5,
          1414.8,
          835.6,
          835.8,
          832,
          1141.9,
          835.6,
          786.3,
          801.8
         ]
        },
        {
         "marker": {
          "color": "yellow",
          "opacity": 0.6,
          "size": 10
         },
         "mode": "markers",
         "name": "5% < Error ≤ 10%",
         "type": "scatter",
         "x": [
          770.049,
          726.823,
          814.607,
          1282.629,
          716.045,
          959.041,
          944.847,
          931.794,
          1325.811,
          928.31,
          792.01,
          978.897,
          965.401,
          1303.202,
          768.843,
          797.847,
          748.428,
          732.732,
          721.177,
          1011.905,
          1016.921,
          936.786,
          1418.737
         ],
         "y": [
          759.4,
          708.1,
          772.3,
          1233.1,
          766.9,
          901.2,
          886.4,
          867.4,
          1257,
          857.3,
          865.9,
          893.4,
          865.9,
          1199.6,
          873,
          689.2,
          867.4,
          867.1,
          857.3,
          873,
          867.1,
          772.3,
          1217.1
         ]
        },
        {
         "marker": {
          "color": "orange",
          "opacity": 0.6,
          "size": 10
         },
         "mode": "markers",
         "name": "10% < Error ≤ 15%",
         "type": "scatter",
         "x": [
          718.51,
          732.732,
          926.102,
          952.68,
          705.238,
          694.447,
          769.259,
          872.624,
          1352,
          950.486,
          876.511,
          982.088,
          992.677,
          1717.882,
          1371.948,
          797.847,
          1008.801,
          1028.778,
          1038.599,
          876.511,
          769.259
         ],
         "y": [
          719,
          739.4,
          905.3,
          928.9,
          730.9,
          720.3,
          740.6,
          905,
          1312.1,
          900.2,
          928,
          920,
          924.6,
          1639.2,
          1292.7,
          900.2,
          905.5,
          917.3,
          908,
          730.9,
          920
         ]
        },
        {
         "marker": {
          "color": "red",
          "opacity": 0.6,
          "size": 10
         },
         "mode": "markers",
         "name": "Error > 15%",
         "type": "scatter",
         "x": [
          913.42,
          706.473,
          716.045,
          696.161,
          872.624,
          699.314,
          926.102,
          939.191
         ],
         "y": [
          958.2,
          752.7,
          767.3,
          762.6,
          786.9,
          786.9,
          752.7,
          762.6
         ]
        },
        {
         "line": {
          "color": "black",
          "dash": "dash",
          "width": 1
         },
         "mode": "lines",
         "name": "Perfect correlation",
         "opacity": 0.5,
         "type": "scatter",
         "x": [
          689.2,
          1717.882
         ],
         "y": [
          689.2,
          1717.882
         ]
        }
       ],
       "layout": {
        "height": 800,
        "plot_bgcolor": "white",
        "showlegend": true,
        "template": {
         "data": {
          "bar": [
           {
            "error_x": {
             "color": "#2a3f5f"
            },
            "error_y": {
             "color": "#2a3f5f"
            },
            "marker": {
             "line": {
              "color": "#E5ECF6",
              "width": 0.5
             },
             "pattern": {
              "fillmode": "overlay",
              "size": 10,
              "solidity": 0.2
             }
            },
            "type": "bar"
           }
          ],
          "barpolar": [
           {
            "marker": {
             "line": {
              "color": "#E5ECF6",
              "width": 0.5
             },
             "pattern": {
              "fillmode": "overlay",
              "size": 10,
              "solidity": 0.2
             }
            },
            "type": "barpolar"
           }
          ],
          "carpet": [
           {
            "aaxis": {
             "endlinecolor": "#2a3f5f",
             "gridcolor": "white",
             "linecolor": "white",
             "minorgridcolor": "white",
             "startlinecolor": "#2a3f5f"
            },
            "baxis": {
             "endlinecolor": "#2a3f5f",
             "gridcolor": "white",
             "linecolor": "white",
             "minorgridcolor": "white",
             "startlinecolor": "#2a3f5f"
            },
            "type": "carpet"
           }
          ],
          "choropleth": [
           {
            "colorbar": {
             "outlinewidth": 0,
             "ticks": ""
            },
            "type": "choropleth"
           }
          ],
          "contour": [
           {
            "colorbar": {
             "outlinewidth": 0,
             "ticks": ""
            },
            "colorscale": [
             [
              0,
              "#0d0887"
             ],
             [
              0.1111111111111111,
              "#46039f"
             ],
             [
              0.2222222222222222,
              "#7201a8"
             ],
             [
              0.3333333333333333,
              "#9c179e"
             ],
             [
              0.4444444444444444,
              "#bd3786"
             ],
             [
              0.5555555555555556,
              "#d8576b"
             ],
             [
              0.6666666666666666,
              "#ed7953"
             ],
             [
              0.7777777777777778,
              "#fb9f3a"
             ],
             [
              0.8888888888888888,
              "#fdca26"
             ],
             [
              1,
              "#f0f921"
             ]
            ],
            "type": "contour"
           }
          ],
          "contourcarpet": [
           {
            "colorbar": {
             "outlinewidth": 0,
             "ticks": ""
            },
            "type": "contourcarpet"
           }
          ],
          "heatmap": [
           {
            "colorbar": {
             "outlinewidth": 0,
             "ticks": ""
            },
            "colorscale": [
             [
              0,
              "#0d0887"
             ],
             [
              0.1111111111111111,
              "#46039f"
             ],
             [
              0.2222222222222222,
              "#7201a8"
             ],
             [
              0.3333333333333333,
              "#9c179e"
             ],
             [
              0.4444444444444444,
              "#bd3786"
             ],
             [
              0.5555555555555556,
              "#d8576b"
             ],
             [
              0.6666666666666666,
              "#ed7953"
             ],
             [
              0.7777777777777778,
              "#fb9f3a"
             ],
             [
              0.8888888888888888,
              "#fdca26"
             ],
             [
              1,
              "#f0f921"
             ]
            ],
            "type": "heatmap"
           }
          ],
          "heatmapgl": [
           {
            "colorbar": {
             "outlinewidth": 0,
             "ticks": ""
            },
            "colorscale": [
             [
              0,
              "#0d0887"
             ],
             [
              0.1111111111111111,
              "#46039f"
             ],
             [
              0.2222222222222222,
              "#7201a8"
             ],
             [
              0.3333333333333333,
              "#9c179e"
             ],
             [
              0.4444444444444444,
              "#bd3786"
             ],
             [
              0.5555555555555556,
              "#d8576b"
             ],
             [
              0.6666666666666666,
              "#ed7953"
             ],
             [
              0.7777777777777778,
              "#fb9f3a"
             ],
             [
              0.8888888888888888,
              "#fdca26"
             ],
             [
              1,
              "#f0f921"
             ]
            ],
            "type": "heatmapgl"
           }
          ],
          "histogram": [
           {
            "marker": {
             "pattern": {
              "fillmode": "overlay",
              "size": 10,
              "solidity": 0.2
             }
            },
            "type": "histogram"
           }
          ],
          "histogram2d": [
           {
            "colorbar": {
             "outlinewidth": 0,
             "ticks": ""
            },
            "colorscale": [
             [
              0,
              "#0d0887"
             ],
             [
              0.1111111111111111,
              "#46039f"
             ],
             [
              0.2222222222222222,
              "#7201a8"
             ],
             [
              0.3333333333333333,
              "#9c179e"
             ],
             [
              0.4444444444444444,
              "#bd3786"
             ],
             [
              0.5555555555555556,
              "#d8576b"
             ],
             [
              0.6666666666666666,
              "#ed7953"
             ],
             [
              0.7777777777777778,
              "#fb9f3a"
             ],
             [
              0.8888888888888888,
              "#fdca26"
             ],
             [
              1,
              "#f0f921"
             ]
            ],
            "type": "histogram2d"
           }
          ],
          "histogram2dcontour": [
           {
            "colorbar": {
             "outlinewidth": 0,
             "ticks": ""
            },
            "colorscale": [
             [
              0,
              "#0d0887"
             ],
             [
              0.1111111111111111,
              "#46039f"
             ],
             [
              0.2222222222222222,
              "#7201a8"
             ],
             [
              0.3333333333333333,
              "#9c179e"
             ],
             [
              0.4444444444444444,
              "#bd3786"
             ],
             [
              0.5555555555555556,
              "#d8576b"
             ],
             [
              0.6666666666666666,
              "#ed7953"
             ],
             [
              0.7777777777777778,
              "#fb9f3a"
             ],
             [
              0.8888888888888888,
              "#fdca26"
             ],
             [
              1,
              "#f0f921"
             ]
            ],
            "type": "histogram2dcontour"
           }
          ],
          "mesh3d": [
           {
            "colorbar": {
             "outlinewidth": 0,
             "ticks": ""
            },
            "type": "mesh3d"
           }
          ],
          "parcoords": [
           {
            "line": {
             "colorbar": {
              "outlinewidth": 0,
              "ticks": ""
             }
            },
            "type": "parcoords"
           }
          ],
          "pie": [
           {
            "automargin": true,
            "type": "pie"
           }
          ],
          "scatter": [
           {
            "fillpattern": {
             "fillmode": "overlay",
             "size": 10,
             "solidity": 0.2
            },
            "type": "scatter"
           }
          ],
          "scatter3d": [
           {
            "line": {
             "colorbar": {
              "outlinewidth": 0,
              "ticks": ""
             }
            },
            "marker": {
             "colorbar": {
              "outlinewidth": 0,
              "ticks": ""
             }
            },
            "type": "scatter3d"
           }
          ],
          "scattercarpet": [
           {
            "marker": {
             "colorbar": {
              "outlinewidth": 0,
              "ticks": ""
             }
            },
            "type": "scattercarpet"
           }
          ],
          "scattergeo": [
           {
            "marker": {
             "colorbar": {
              "outlinewidth": 0,
              "ticks": ""
             }
            },
            "type": "scattergeo"
           }
          ],
          "scattergl": [
           {
            "marker": {
             "colorbar": {
              "outlinewidth": 0,
              "ticks": ""
             }
            },
            "type": "scattergl"
           }
          ],
          "scattermapbox": [
           {
            "marker": {
             "colorbar": {
              "outlinewidth": 0,
              "ticks": ""
             }
            },
            "type": "scattermapbox"
           }
          ],
          "scatterpolar": [
           {
            "marker": {
             "colorbar": {
              "outlinewidth": 0,
              "ticks": ""
             }
            },
            "type": "scatterpolar"
           }
          ],
          "scatterpolargl": [
           {
            "marker": {
             "colorbar": {
              "outlinewidth": 0,
              "ticks": ""
             }
            },
            "type": "scatterpolargl"
           }
          ],
          "scatterternary": [
           {
            "marker": {
             "colorbar": {
              "outlinewidth": 0,
              "ticks": ""
             }
            },
            "type": "scatterternary"
           }
          ],
          "surface": [
           {
            "colorbar": {
             "outlinewidth": 0,
             "ticks": ""
            },
            "colorscale": [
             [
              0,
              "#0d0887"
             ],
             [
              0.1111111111111111,
              "#46039f"
             ],
             [
              0.2222222222222222,
              "#7201a8"
             ],
             [
              0.3333333333333333,
              "#9c179e"
             ],
             [
              0.4444444444444444,
              "#bd3786"
             ],
             [
              0.5555555555555556,
              "#d8576b"
             ],
             [
              0.6666666666666666,
              "#ed7953"
             ],
             [
              0.7777777777777778,
              "#fb9f3a"
             ],
             [
              0.8888888888888888,
              "#fdca26"
             ],
             [
              1,
              "#f0f921"
             ]
            ],
            "type": "surface"
           }
          ],
          "table": [
           {
            "cells": {
             "fill": {
              "color": "#EBF0F8"
             },
             "line": {
              "color": "white"
             }
            },
            "header": {
             "fill": {
              "color": "#C8D4E3"
             },
             "line": {
              "color": "white"
             }
            },
            "type": "table"
           }
          ]
         },
         "layout": {
          "annotationdefaults": {
           "arrowcolor": "#2a3f5f",
           "arrowhead": 0,
           "arrowwidth": 1
          },
          "autotypenumbers": "strict",
          "coloraxis": {
           "colorbar": {
            "outlinewidth": 0,
            "ticks": ""
           }
          },
          "colorscale": {
           "diverging": [
            [
             0,
             "#8e0152"
            ],
            [
             0.1,
             "#c51b7d"
            ],
            [
             0.2,
             "#de77ae"
            ],
            [
             0.3,
             "#f1b6da"
            ],
            [
             0.4,
             "#fde0ef"
            ],
            [
             0.5,
             "#f7f7f7"
            ],
            [
             0.6,
             "#e6f5d0"
            ],
            [
             0.7,
             "#b8e186"
            ],
            [
             0.8,
             "#7fbc41"
            ],
            [
             0.9,
             "#4d9221"
            ],
            [
             1,
             "#276419"
            ]
           ],
           "sequential": [
            [
             0,
             "#0d0887"
            ],
            [
             0.1111111111111111,
             "#46039f"
            ],
            [
             0.2222222222222222,
             "#7201a8"
            ],
            [
             0.3333333333333333,
             "#9c179e"
            ],
            [
             0.4444444444444444,
             "#bd3786"
            ],
            [
             0.5555555555555556,
             "#d8576b"
            ],
            [
             0.6666666666666666,
             "#ed7953"
            ],
            [
             0.7777777777777778,
             "#fb9f3a"
            ],
            [
             0.8888888888888888,
             "#fdca26"
            ],
            [
             1,
             "#f0f921"
            ]
           ],
           "sequentialminus": [
            [
             0,
             "#0d0887"
            ],
            [
             0.1111111111111111,
             "#46039f"
            ],
            [
             0.2222222222222222,
             "#7201a8"
            ],
            [
             0.3333333333333333,
             "#9c179e"
            ],
            [
             0.4444444444444444,
             "#bd3786"
            ],
            [
             0.5555555555555556,
             "#d8576b"
            ],
            [
             0.6666666666666666,
             "#ed7953"
            ],
            [
             0.7777777777777778,
             "#fb9f3a"
            ],
            [
             0.8888888888888888,
             "#fdca26"
            ],
            [
             1,
             "#f0f921"
            ]
           ]
          },
          "colorway": [
           "#636efa",
           "#EF553B",
           "#00cc96",
           "#ab63fa",
           "#FFA15A",
           "#19d3f3",
           "#FF6692",
           "#B6E880",
           "#FF97FF",
           "#FECB52"
          ],
          "font": {
           "color": "#2a3f5f"
          },
          "geo": {
           "bgcolor": "white",
           "lakecolor": "white",
           "landcolor": "#E5ECF6",
           "showlakes": true,
           "showland": true,
           "subunitcolor": "white"
          },
          "hoverlabel": {
           "align": "left"
          },
          "hovermode": "closest",
          "mapbox": {
           "style": "light"
          },
          "paper_bgcolor": "white",
          "plot_bgcolor": "#E5ECF6",
          "polar": {
           "angularaxis": {
            "gridcolor": "white",
            "linecolor": "white",
            "ticks": ""
           },
           "bgcolor": "#E5ECF6",
           "radialaxis": {
            "gridcolor": "white",
            "linecolor": "white",
            "ticks": ""
           }
          },
          "scene": {
           "xaxis": {
            "backgroundcolor": "#E5ECF6",
            "gridcolor": "white",
            "gridwidth": 2,
            "linecolor": "white",
            "showbackground": true,
            "ticks": "",
            "zerolinecolor": "white"
           },
           "yaxis": {
            "backgroundcolor": "#E5ECF6",
            "gridcolor": "white",
            "gridwidth": 2,
            "linecolor": "white",
            "showbackground": true,
            "ticks": "",
            "zerolinecolor": "white"
           },
           "zaxis": {
            "backgroundcolor": "#E5ECF6",
            "gridcolor": "white",
            "gridwidth": 2,
            "linecolor": "white",
            "showbackground": true,
            "ticks": "",
            "zerolinecolor": "white"
           }
          },
          "shapedefaults": {
           "line": {
            "color": "#2a3f5f"
           }
          },
          "ternary": {
           "aaxis": {
            "gridcolor": "white",
            "linecolor": "white",
            "ticks": ""
           },
           "baxis": {
            "gridcolor": "white",
            "linecolor": "white",
            "ticks": ""
           },
           "bgcolor": "#E5ECF6",
           "caxis": {
            "gridcolor": "white",
            "linecolor": "white",
            "ticks": ""
           }
          },
          "title": {
           "x": 0.05
          },
          "xaxis": {
           "automargin": true,
           "gridcolor": "white",
           "linecolor": "white",
           "ticks": "",
           "title": {
            "standoff": 15
           },
           "zerolinecolor": "white",
           "zerolinewidth": 2
          },
          "yaxis": {
           "automargin": true,
           "gridcolor": "white",
           "linecolor": "white",
           "ticks": "",
           "title": {
            "standoff": 15
           },
           "zerolinecolor": "white",
           "zerolinewidth": 2
          }
         }
        },
        "title": {
         "text": "Comparison of Length Measurements<br>Colored by Relative Error"
        },
        "width": 800,
        "xaxis": {
         "gridcolor": "lightgray",
         "gridwidth": 1,
         "range": [
          689.2,
          1717.882
         ],
         "showgrid": true,
         "title": {
          "text": "Length (pixels)"
         }
        },
        "yaxis": {
         "gridcolor": "lightgray",
         "gridwidth": 1,
         "range": [
          689.2,
          1717.882
         ],
         "showgrid": true,
         "title": {
          "text": "Pixels Total Length"
         }
        }
       }
      }
     },
     "metadata": {},
     "output_type": "display_data"
    }
   ],
   "source": [
    "import plotly.express as px\n",
    "import plotly.graph_objects as go\n",
    "\n",
    "# Create scatter plot with plotly\n",
    "fig = go.Figure()\n",
    "\n",
    "# Plot points with different colors based on relative error\n",
    "error_thresholds = [5, 10, 15]\n",
    "colors = ['green', 'yellow', 'orange', 'red']\n",
    "\n",
    "for i in range(len(error_thresholds) + 1):\n",
    "    if i == 0:\n",
    "        mask = new_df['real_length_rel_diff'] <= error_thresholds[0]\n",
    "        label = f'Error ≤ {error_thresholds[0]}%'\n",
    "    elif i == len(error_thresholds):\n",
    "        mask = new_df['real_length_rel_diff'] > error_thresholds[-1]\n",
    "        label = f'Error > {error_thresholds[-1]}%'\n",
    "    else:\n",
    "        mask = (new_df['real_length_rel_diff'] > error_thresholds[i-1]) & \\\n",
    "               (new_df['real_length_rel_diff'] <= error_thresholds[i])\n",
    "        label = f'{error_thresholds[i-1]}% < Error ≤ {error_thresholds[i]}%'\n",
    "    \n",
    "    fig.add_trace(go.Scatter(\n",
    "        x=new_df[mask]['Length'],\n",
    "        y=new_df[mask]['pixels_total_length'],\n",
    "        mode='markers',\n",
    "        name=label,\n",
    "        marker=dict(\n",
    "            color=colors[i],\n",
    "            size=10,\n",
    "            opacity=0.6\n",
    "        )\n",
    "    ))\n",
    "\n",
    "# Add diagonal line for perfect correlation\n",
    "min_val = min(new_df['Length'].min(), new_df['pixels_total_length'].min())\n",
    "max_val = max(new_df['Length'].max(), new_df['pixels_total_length'].max())\n",
    "fig.add_trace(go.Scatter(\n",
    "    x=[min_val, max_val],\n",
    "    y=[min_val, max_val],\n",
    "    mode='lines',\n",
    "    name='Perfect correlation',\n",
    "    line=dict(color='black', dash='dash', width=1),\n",
    "    opacity=0.5\n",
    "))\n",
    "\n",
    "# Update layout\n",
    "fig.update_layout(\n",
    "    title='Comparison of Length Measurements<br>Colored by Relative Error',\n",
    "    xaxis_title='Length (pixels)',\n",
    "    yaxis_title='Pixels Total Length',\n",
    "    showlegend=True,\n",
    "    width=800,\n",
    "    height=800,\n",
    "    xaxis=dict(range=[min_val, max_val]),\n",
    "    yaxis=dict(range=[min_val, max_val]),\n",
    "    plot_bgcolor='white'\n",
    ")\n",
    "\n",
    "# Add grid\n",
    "fig.update_xaxes(showgrid=True, gridwidth=1, gridcolor='lightgray')\n",
    "fig.update_yaxes(showgrid=True, gridwidth=1, gridcolor='lightgray')\n",
    "\n",
    "fig.show()\n"
   ]
  }
 ],
 "metadata": {
  "kernelspec": {
   "display_name": ".venv",
   "language": "python",
   "name": "python3"
  },
  "language_info": {
   "codemirror_mode": {
    "name": "ipython",
    "version": 3
   },
   "file_extension": ".py",
   "mimetype": "text/x-python",
   "name": "python",
   "nbconvert_exporter": "python",
   "pygments_lexer": "ipython3",
   "version": "3.9.6"
  }
 },
 "nbformat": 4,
 "nbformat_minor": 2
}
