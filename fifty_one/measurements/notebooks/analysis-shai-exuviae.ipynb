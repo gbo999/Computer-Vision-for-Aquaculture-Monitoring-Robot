{
 "cells": [
  {
   "cell_type": "code",
   "execution_count": 2,
   "metadata": {},
   "outputs": [],
   "source": [
    "import pandas as pd\n",
    "\n",
    "df_shai_exuviae=pd.read_csv('/Users/gilbenor/Documents/code projects/msc/counting_research_algorithms/fifty_one/measurements/data/Results-shai-exuviae.csv')\n",
    "df_analysis=pd.read_csv('/Users/gilbenor/Documents/code projects/msc/counting_research_algorithms/fifty_one/measurements/length_analysis_new_split.csv')\n",
    "\n",
    "\n",
    "# Remove 'colored_' prefix from image_name column\n",
    "df_analysis['image_name'] = df_analysis['image_name'].str.replace('colored_', '')\n",
    "\n",
    "\n",
    "\n"
   ]
  },
  {
   "cell_type": "code",
   "execution_count": 3,
   "metadata": {},
   "outputs": [
    {
     "data": {
      "text/html": [
       "<div>\n",
       "<style scoped>\n",
       "    .dataframe tbody tr th:only-of-type {\n",
       "        vertical-align: middle;\n",
       "    }\n",
       "\n",
       "    .dataframe tbody tr th {\n",
       "        vertical-align: top;\n",
       "    }\n",
       "\n",
       "    .dataframe thead th {\n",
       "        text-align: right;\n",
       "    }\n",
       "</style>\n",
       "<table border=\"1\" class=\"dataframe\">\n",
       "  <thead>\n",
       "    <tr style=\"text-align: right;\">\n",
       "      <th></th>\n",
       "      <th></th>\n",
       "      <th>Label</th>\n",
       "      <th>Area</th>\n",
       "      <th>Mean</th>\n",
       "      <th>Min</th>\n",
       "      <th>Max</th>\n",
       "      <th>BX</th>\n",
       "      <th>BY</th>\n",
       "      <th>Width</th>\n",
       "      <th>Height</th>\n",
       "      <th>Angle</th>\n",
       "      <th>Length</th>\n",
       "      <th>is_big</th>\n",
       "      <th>is_small</th>\n",
       "    </tr>\n",
       "  </thead>\n",
       "  <tbody>\n",
       "    <tr>\n",
       "      <th>0</th>\n",
       "      <td>1</td>\n",
       "      <td>undistorted_GX010191_5_190</td>\n",
       "      <td>1030</td>\n",
       "      <td>131.196</td>\n",
       "      <td>29.609</td>\n",
       "      <td>166.129</td>\n",
       "      <td>3660</td>\n",
       "      <td>36</td>\n",
       "      <td>41</td>\n",
       "      <td>1029</td>\n",
       "      <td>-87.772</td>\n",
       "      <td>1028.778</td>\n",
       "      <td>False</td>\n",
       "      <td>False</td>\n",
       "    </tr>\n",
       "    <tr>\n",
       "      <th>1</th>\n",
       "      <td>2</td>\n",
       "      <td>undistorted_GX010191_8_309</td>\n",
       "      <td>791</td>\n",
       "      <td>156.202</td>\n",
       "      <td>55.333</td>\n",
       "      <td>175.122</td>\n",
       "      <td>2456</td>\n",
       "      <td>1376</td>\n",
       "      <td>733</td>\n",
       "      <td>297</td>\n",
       "      <td>22.017</td>\n",
       "      <td>789.582</td>\n",
       "      <td>False</td>\n",
       "      <td>True</td>\n",
       "    </tr>\n",
       "    <tr>\n",
       "      <th>2</th>\n",
       "      <td>3</td>\n",
       "      <td>undistorted_GX010191_8_309</td>\n",
       "      <td>914</td>\n",
       "      <td>136.620</td>\n",
       "      <td>84.361</td>\n",
       "      <td>170.768</td>\n",
       "      <td>3860</td>\n",
       "      <td>1736</td>\n",
       "      <td>157</td>\n",
       "      <td>901</td>\n",
       "      <td>-80.166</td>\n",
       "      <td>913.420</td>\n",
       "      <td>True</td>\n",
       "      <td>False</td>\n",
       "    </tr>\n",
       "    <tr>\n",
       "      <th>3</th>\n",
       "      <td>4</td>\n",
       "      <td>undistorted_GX010191_10_370</td>\n",
       "      <td>697</td>\n",
       "      <td>127.490</td>\n",
       "      <td>40.000</td>\n",
       "      <td>189.921</td>\n",
       "      <td>3092</td>\n",
       "      <td>1716</td>\n",
       "      <td>245</td>\n",
       "      <td>653</td>\n",
       "      <td>69.482</td>\n",
       "      <td>696.161</td>\n",
       "      <td>False</td>\n",
       "      <td>True</td>\n",
       "    </tr>\n",
       "    <tr>\n",
       "      <th>4</th>\n",
       "      <td>5</td>\n",
       "      <td>undistorted_GX010191_10_370</td>\n",
       "      <td>940</td>\n",
       "      <td>154.028</td>\n",
       "      <td>81.667</td>\n",
       "      <td>180.810</td>\n",
       "      <td>4084</td>\n",
       "      <td>1360</td>\n",
       "      <td>837</td>\n",
       "      <td>429</td>\n",
       "      <td>-27.111</td>\n",
       "      <td>939.191</td>\n",
       "      <td>True</td>\n",
       "      <td>False</td>\n",
       "    </tr>\n",
       "    <tr>\n",
       "      <th>...</th>\n",
       "      <td>...</td>\n",
       "      <td>...</td>\n",
       "      <td>...</td>\n",
       "      <td>...</td>\n",
       "      <td>...</td>\n",
       "      <td>...</td>\n",
       "      <td>...</td>\n",
       "      <td>...</td>\n",
       "      <td>...</td>\n",
       "      <td>...</td>\n",
       "      <td>...</td>\n",
       "      <td>...</td>\n",
       "      <td>...</td>\n",
       "      <td>...</td>\n",
       "    </tr>\n",
       "    <tr>\n",
       "      <th>80</th>\n",
       "      <td>81</td>\n",
       "      <td>undistorted_GX010194_26_373</td>\n",
       "      <td>1218</td>\n",
       "      <td>150.946</td>\n",
       "      <td>81.667</td>\n",
       "      <td>179.000</td>\n",
       "      <td>1072</td>\n",
       "      <td>1548</td>\n",
       "      <td>1053</td>\n",
       "      <td>613</td>\n",
       "      <td>30.189</td>\n",
       "      <td>1217.065</td>\n",
       "      <td>False</td>\n",
       "      <td>False</td>\n",
       "    </tr>\n",
       "    <tr>\n",
       "      <th>81</th>\n",
       "      <td>82</td>\n",
       "      <td>undistorted_GX010194_39_513</td>\n",
       "      <td>1309</td>\n",
       "      <td>156.869</td>\n",
       "      <td>47.333</td>\n",
       "      <td>179.686</td>\n",
       "      <td>2436</td>\n",
       "      <td>1320</td>\n",
       "      <td>33</td>\n",
       "      <td>1309</td>\n",
       "      <td>-91.401</td>\n",
       "      <td>1308.391</td>\n",
       "      <td>False</td>\n",
       "      <td>False</td>\n",
       "    </tr>\n",
       "    <tr>\n",
       "      <th>82</th>\n",
       "      <td>83</td>\n",
       "      <td>undistorted_GX010194_60_836</td>\n",
       "      <td>1735</td>\n",
       "      <td>134.509</td>\n",
       "      <td>47.373</td>\n",
       "      <td>170.459</td>\n",
       "      <td>2208</td>\n",
       "      <td>2544</td>\n",
       "      <td>1733</td>\n",
       "      <td>77</td>\n",
       "      <td>177.487</td>\n",
       "      <td>1733.667</td>\n",
       "      <td>True</td>\n",
       "      <td>False</td>\n",
       "    </tr>\n",
       "    <tr>\n",
       "      <th>83</th>\n",
       "      <td>84</td>\n",
       "      <td>undistorted_GX010194_60_836</td>\n",
       "      <td>1380</td>\n",
       "      <td>156.280</td>\n",
       "      <td>64.333</td>\n",
       "      <td>181.049</td>\n",
       "      <td>2608</td>\n",
       "      <td>52</td>\n",
       "      <td>561</td>\n",
       "      <td>1261</td>\n",
       "      <td>66.038</td>\n",
       "      <td>1378.840</td>\n",
       "      <td>False</td>\n",
       "      <td>True</td>\n",
       "    </tr>\n",
       "    <tr>\n",
       "      <th>84</th>\n",
       "      <td>85</td>\n",
       "      <td>undistorted_GX010194_65_928</td>\n",
       "      <td>1284</td>\n",
       "      <td>139.730</td>\n",
       "      <td>53.000</td>\n",
       "      <td>165.564</td>\n",
       "      <td>1808</td>\n",
       "      <td>440</td>\n",
       "      <td>581</td>\n",
       "      <td>1145</td>\n",
       "      <td>63.115</td>\n",
       "      <td>1282.629</td>\n",
       "      <td>False</td>\n",
       "      <td>False</td>\n",
       "    </tr>\n",
       "  </tbody>\n",
       "</table>\n",
       "<p>85 rows × 14 columns</p>\n",
       "</div>"
      ],
      "text/plain": [
       "                              Label  Area     Mean     Min      Max    BX  \\\n",
       "0    1   undistorted_GX010191_5_190  1030  131.196  29.609  166.129  3660   \n",
       "1    2   undistorted_GX010191_8_309   791  156.202  55.333  175.122  2456   \n",
       "2    3   undistorted_GX010191_8_309   914  136.620  84.361  170.768  3860   \n",
       "3    4  undistorted_GX010191_10_370   697  127.490  40.000  189.921  3092   \n",
       "4    5  undistorted_GX010191_10_370   940  154.028  81.667  180.810  4084   \n",
       "..  ..                          ...   ...      ...     ...      ...   ...   \n",
       "80  81  undistorted_GX010194_26_373  1218  150.946  81.667  179.000  1072   \n",
       "81  82  undistorted_GX010194_39_513  1309  156.869  47.333  179.686  2436   \n",
       "82  83  undistorted_GX010194_60_836  1735  134.509  47.373  170.459  2208   \n",
       "83  84  undistorted_GX010194_60_836  1380  156.280  64.333  181.049  2608   \n",
       "84  85  undistorted_GX010194_65_928  1284  139.730  53.000  165.564  1808   \n",
       "\n",
       "      BY  Width  Height    Angle    Length  is_big  is_small  \n",
       "0     36     41    1029  -87.772  1028.778   False     False  \n",
       "1   1376    733     297   22.017   789.582   False      True  \n",
       "2   1736    157     901  -80.166   913.420    True     False  \n",
       "3   1716    245     653   69.482   696.161   False      True  \n",
       "4   1360    837     429  -27.111   939.191    True     False  \n",
       "..   ...    ...     ...      ...       ...     ...       ...  \n",
       "80  1548   1053     613   30.189  1217.065   False     False  \n",
       "81  1320     33    1309  -91.401  1308.391   False     False  \n",
       "82  2544   1733      77  177.487  1733.667    True     False  \n",
       "83    52    561    1261   66.038  1378.840   False      True  \n",
       "84   440    581    1145   63.115  1282.629   False     False  \n",
       "\n",
       "[85 rows x 14 columns]"
      ]
     },
     "execution_count": 3,
     "metadata": {},
     "output_type": "execute_result"
    }
   ],
   "source": [
    "# Remove prefix from Label column\n",
    "df_shai_exuviae['Label'] = df_shai_exuviae['Label'].str.replace('Shai - exuviae:', '')\n",
    "\n",
    "# Create columns for big and small lengths\n",
    "df_shai_exuviae['is_big'] = df_shai_exuviae.groupby('Label')['Length'].transform(lambda x: x == x.max() if len(x) > 1 else False)\n",
    "df_shai_exuviae['is_small'] = df_shai_exuviae.groupby('Label')['Length'].transform(lambda x: x == x.min() if len(x) > 1 else False)\n",
    "\n",
    "df_shai_exuviae"
   ]
  },
  {
   "cell_type": "code",
   "execution_count": 4,
   "metadata": {},
   "outputs": [
    {
     "name": "stdout",
     "output_type": "stream",
     "text": [
      "Found 51 matches where lengths are within 10.0% difference\n"
     ]
    },
    {
     "data": {
      "text/html": [
       "<div>\n",
       "<style scoped>\n",
       "    .dataframe tbody tr th:only-of-type {\n",
       "        vertical-align: middle;\n",
       "    }\n",
       "\n",
       "    .dataframe tbody tr th {\n",
       "        vertical-align: top;\n",
       "    }\n",
       "\n",
       "    .dataframe thead th {\n",
       "        text-align: right;\n",
       "    }\n",
       "</style>\n",
       "<table border=\"1\" class=\"dataframe\">\n",
       "  <thead>\n",
       "    <tr style=\"text-align: right;\">\n",
       "      <th></th>\n",
       "      <th></th>\n",
       "      <th>Label</th>\n",
       "      <th>Area</th>\n",
       "      <th>Mean</th>\n",
       "      <th>Min</th>\n",
       "      <th>Max</th>\n",
       "      <th>BX</th>\n",
       "      <th>BY</th>\n",
       "      <th>Width</th>\n",
       "      <th>Height</th>\n",
       "      <th>...</th>\n",
       "      <th>is_small</th>\n",
       "      <th>image_name</th>\n",
       "      <th>lobster_size</th>\n",
       "      <th>total_length</th>\n",
       "      <th>carapace_length</th>\n",
       "      <th>eye_x</th>\n",
       "      <th>eye_y</th>\n",
       "      <th>pixels_total_length</th>\n",
       "      <th>pixels_carapace_length</th>\n",
       "      <th>length_diff</th>\n",
       "    </tr>\n",
       "  </thead>\n",
       "  <tbody>\n",
       "    <tr>\n",
       "      <th>48</th>\n",
       "      <td>31</td>\n",
       "      <td>undistorted_GX010191_37_1242</td>\n",
       "      <td>720</td>\n",
       "      <td>148.253</td>\n",
       "      <td>98.659</td>\n",
       "      <td>170.629</td>\n",
       "      <td>2764</td>\n",
       "      <td>948</td>\n",
       "      <td>221</td>\n",
       "      <td>685</td>\n",
       "      <td>...</td>\n",
       "      <td>True</td>\n",
       "      <td>undistorted_GX010191_37_1242</td>\n",
       "      <td>small</td>\n",
       "      <td>139.2</td>\n",
       "      <td>34.5</td>\n",
       "      <td>2927.6</td>\n",
       "      <td>1243.5</td>\n",
       "      <td>719.0</td>\n",
       "      <td>178.1</td>\n",
       "      <td>0.490</td>\n",
       "    </tr>\n",
       "    <tr>\n",
       "      <th>2</th>\n",
       "      <td>2</td>\n",
       "      <td>undistorted_GX010191_8_309</td>\n",
       "      <td>791</td>\n",
       "      <td>156.202</td>\n",
       "      <td>55.333</td>\n",
       "      <td>175.122</td>\n",
       "      <td>2456</td>\n",
       "      <td>1376</td>\n",
       "      <td>733</td>\n",
       "      <td>297</td>\n",
       "      <td>...</td>\n",
       "      <td>True</td>\n",
       "      <td>undistorted_GX010191_8_309</td>\n",
       "      <td>small</td>\n",
       "      <td>154.8</td>\n",
       "      <td>35.7</td>\n",
       "      <td>2879.4</td>\n",
       "      <td>1465.9</td>\n",
       "      <td>790.1</td>\n",
       "      <td>181.9</td>\n",
       "      <td>0.518</td>\n",
       "    </tr>\n",
       "    <tr>\n",
       "      <th>24</th>\n",
       "      <td>19</td>\n",
       "      <td>undistorted_GX010191_32_305</td>\n",
       "      <td>791</td>\n",
       "      <td>147.524</td>\n",
       "      <td>87.960</td>\n",
       "      <td>176.063</td>\n",
       "      <td>2516</td>\n",
       "      <td>1328</td>\n",
       "      <td>741</td>\n",
       "      <td>277</td>\n",
       "      <td>...</td>\n",
       "      <td>True</td>\n",
       "      <td>undistorted_GX010191_32_305</td>\n",
       "      <td>small</td>\n",
       "      <td>154.2</td>\n",
       "      <td>36.9</td>\n",
       "      <td>2897.1</td>\n",
       "      <td>1454.2</td>\n",
       "      <td>786.3</td>\n",
       "      <td>187.9</td>\n",
       "      <td>3.495</td>\n",
       "    </tr>\n",
       "    <tr>\n",
       "      <th>97</th>\n",
       "      <td>67</td>\n",
       "      <td>undistorted_GX010193_11_1065</td>\n",
       "      <td>1742</td>\n",
       "      <td>130.953</td>\n",
       "      <td>78.167</td>\n",
       "      <td>171.020</td>\n",
       "      <td>2152</td>\n",
       "      <td>1256</td>\n",
       "      <td>973</td>\n",
       "      <td>1445</td>\n",
       "      <td>...</td>\n",
       "      <td>False</td>\n",
       "      <td>undistorted_GX010193_11_1065</td>\n",
       "      <td>big</td>\n",
       "      <td>184.3</td>\n",
       "      <td>44.3</td>\n",
       "      <td>2701.3</td>\n",
       "      <td>2017.7</td>\n",
       "      <td>1745.4</td>\n",
       "      <td>419.2</td>\n",
       "      <td>4.733</td>\n",
       "    </tr>\n",
       "    <tr>\n",
       "      <th>75</th>\n",
       "      <td>50</td>\n",
       "      <td>undistorted_GX010191_100_1250</td>\n",
       "      <td>734</td>\n",
       "      <td>145.590</td>\n",
       "      <td>35.000</td>\n",
       "      <td>185.270</td>\n",
       "      <td>2776</td>\n",
       "      <td>1088</td>\n",
       "      <td>137</td>\n",
       "      <td>721</td>\n",
       "      <td>...</td>\n",
       "      <td>True</td>\n",
       "      <td>undistorted_GX010191_100_1250</td>\n",
       "      <td>small</td>\n",
       "      <td>143.0</td>\n",
       "      <td>38.0</td>\n",
       "      <td>2853.8</td>\n",
       "      <td>1416.3</td>\n",
       "      <td>739.4</td>\n",
       "      <td>196.5</td>\n",
       "      <td>6.668</td>\n",
       "    </tr>\n",
       "    <tr>\n",
       "      <th>102</th>\n",
       "      <td>72</td>\n",
       "      <td>undistorted_GX010193_27_1553</td>\n",
       "      <td>1767</td>\n",
       "      <td>128.617</td>\n",
       "      <td>46.667</td>\n",
       "      <td>162.577</td>\n",
       "      <td>1672</td>\n",
       "      <td>108</td>\n",
       "      <td>253</td>\n",
       "      <td>1749</td>\n",
       "      <td>...</td>\n",
       "      <td>False</td>\n",
       "      <td>undistorted_GX010193_27_1553</td>\n",
       "      <td>big</td>\n",
       "      <td>186.6</td>\n",
       "      <td>47.3</td>\n",
       "      <td>1853.2</td>\n",
       "      <td>762.9</td>\n",
       "      <td>1774.1</td>\n",
       "      <td>449.8</td>\n",
       "      <td>8.029</td>\n",
       "    </tr>\n",
       "    <tr>\n",
       "      <th>114</th>\n",
       "      <td>82</td>\n",
       "      <td>undistorted_GX010194_39_513</td>\n",
       "      <td>1309</td>\n",
       "      <td>156.869</td>\n",
       "      <td>47.333</td>\n",
       "      <td>179.686</td>\n",
       "      <td>2436</td>\n",
       "      <td>1320</td>\n",
       "      <td>33</td>\n",
       "      <td>1309</td>\n",
       "      <td>...</td>\n",
       "      <td>False</td>\n",
       "      <td>undistorted_GX010194_39_513</td>\n",
       "      <td>small</td>\n",
       "      <td>144.1</td>\n",
       "      <td>33.7</td>\n",
       "      <td>2407.7</td>\n",
       "      <td>2016.2</td>\n",
       "      <td>1300.3</td>\n",
       "      <td>303.9</td>\n",
       "      <td>8.091</td>\n",
       "    </tr>\n",
       "    <tr>\n",
       "      <th>70</th>\n",
       "      <td>48</td>\n",
       "      <td>undistorted_GX010191_94_1132</td>\n",
       "      <td>823</td>\n",
       "      <td>153.479</td>\n",
       "      <td>28.338</td>\n",
       "      <td>180.844</td>\n",
       "      <td>3052</td>\n",
       "      <td>368</td>\n",
       "      <td>777</td>\n",
       "      <td>273</td>\n",
       "      <td>...</td>\n",
       "      <td>False</td>\n",
       "      <td>undistorted_GX010191_94_1132</td>\n",
       "      <td>big</td>\n",
       "      <td>156.7</td>\n",
       "      <td>34.1</td>\n",
       "      <td>3728.6</td>\n",
       "      <td>1885.2</td>\n",
       "      <td>832.0</td>\n",
       "      <td>181.0</td>\n",
       "      <td>9.711</td>\n",
       "    </tr>\n",
       "    <tr>\n",
       "      <th>40</th>\n",
       "      <td>27</td>\n",
       "      <td>undistorted_GX010191_35_1167</td>\n",
       "      <td>771</td>\n",
       "      <td>154.688</td>\n",
       "      <td>47.898</td>\n",
       "      <td>184.515</td>\n",
       "      <td>2844</td>\n",
       "      <td>644</td>\n",
       "      <td>761</td>\n",
       "      <td>125</td>\n",
       "      <td>...</td>\n",
       "      <td>True</td>\n",
       "      <td>undistorted_GX010191_35_1167</td>\n",
       "      <td>small</td>\n",
       "      <td>149.2</td>\n",
       "      <td>34.8</td>\n",
       "      <td>3262.8</td>\n",
       "      <td>683.9</td>\n",
       "      <td>759.4</td>\n",
       "      <td>177.2</td>\n",
       "      <td>10.649</td>\n",
       "    </tr>\n",
       "    <tr>\n",
       "      <th>22</th>\n",
       "      <td>18</td>\n",
       "      <td>undistorted_GX010191_31_283</td>\n",
       "      <td>947</td>\n",
       "      <td>138.038</td>\n",
       "      <td>53.297</td>\n",
       "      <td>171.404</td>\n",
       "      <td>3776</td>\n",
       "      <td>1492</td>\n",
       "      <td>105</td>\n",
       "      <td>941</td>\n",
       "      <td>...</td>\n",
       "      <td>False</td>\n",
       "      <td>undistorted_GX010191_31_283</td>\n",
       "      <td>big</td>\n",
       "      <td>174.8</td>\n",
       "      <td>37.3</td>\n",
       "      <td>3796.4</td>\n",
       "      <td>1995.6</td>\n",
       "      <td>931.8</td>\n",
       "      <td>198.7</td>\n",
       "      <td>13.936</td>\n",
       "    </tr>\n",
       "    <tr>\n",
       "      <th>60</th>\n",
       "      <td>40</td>\n",
       "      <td>undistorted_GX010191_42_1339</td>\n",
       "      <td>728</td>\n",
       "      <td>110.807</td>\n",
       "      <td>50.077</td>\n",
       "      <td>174.260</td>\n",
       "      <td>3728</td>\n",
       "      <td>1880</td>\n",
       "      <td>597</td>\n",
       "      <td>417</td>\n",
       "      <td>...</td>\n",
       "      <td>True</td>\n",
       "      <td>undistorted_GX010191_42_1339</td>\n",
       "      <td>small</td>\n",
       "      <td>138.2</td>\n",
       "      <td>30.6</td>\n",
       "      <td>4008.0</td>\n",
       "      <td>2113.0</td>\n",
       "      <td>708.1</td>\n",
       "      <td>156.9</td>\n",
       "      <td>18.723</td>\n",
       "    </tr>\n",
       "    <tr>\n",
       "      <th>37</th>\n",
       "      <td>26</td>\n",
       "      <td>undistorted_GX010191_35_367</td>\n",
       "      <td>927</td>\n",
       "      <td>147.180</td>\n",
       "      <td>59.118</td>\n",
       "      <td>170.229</td>\n",
       "      <td>4092</td>\n",
       "      <td>1392</td>\n",
       "      <td>793</td>\n",
       "      <td>481</td>\n",
       "      <td>...</td>\n",
       "      <td>False</td>\n",
       "      <td>undistorted_GX010191_35_367</td>\n",
       "      <td>big</td>\n",
       "      <td>171.6</td>\n",
       "      <td>40.0</td>\n",
       "      <td>4559.5</td>\n",
       "      <td>1625.5</td>\n",
       "      <td>905.3</td>\n",
       "      <td>211.2</td>\n",
       "      <td>20.802</td>\n",
       "    </tr>\n",
       "    <tr>\n",
       "      <th>18</th>\n",
       "      <td>15</td>\n",
       "      <td>undistorted_GX010191_28_230</td>\n",
       "      <td>803</td>\n",
       "      <td>159.117</td>\n",
       "      <td>98.460</td>\n",
       "      <td>192.796</td>\n",
       "      <td>2348</td>\n",
       "      <td>240</td>\n",
       "      <td>725</td>\n",
       "      <td>345</td>\n",
       "      <td>...</td>\n",
       "      <td>True</td>\n",
       "      <td>undistorted_GX010191_28_230</td>\n",
       "      <td>small</td>\n",
       "      <td>152.7</td>\n",
       "      <td>36.2</td>\n",
       "      <td>2721.0</td>\n",
       "      <td>387.7</td>\n",
       "      <td>778.6</td>\n",
       "      <td>184.6</td>\n",
       "      <td>22.968</td>\n",
       "    </tr>\n",
       "    <tr>\n",
       "      <th>29</th>\n",
       "      <td>22</td>\n",
       "      <td>undistorted_GX010191_34_350</td>\n",
       "      <td>954</td>\n",
       "      <td>151.541</td>\n",
       "      <td>36.333</td>\n",
       "      <td>184.855</td>\n",
       "      <td>4072</td>\n",
       "      <td>1652</td>\n",
       "      <td>601</td>\n",
       "      <td>741</td>\n",
       "      <td>...</td>\n",
       "      <td>False</td>\n",
       "      <td>undistorted_GX010191_34_350</td>\n",
       "      <td>big</td>\n",
       "      <td>175.4</td>\n",
       "      <td>38.9</td>\n",
       "      <td>4423.0</td>\n",
       "      <td>2027.0</td>\n",
       "      <td>928.9</td>\n",
       "      <td>205.9</td>\n",
       "      <td>23.780</td>\n",
       "    </tr>\n",
       "    <tr>\n",
       "      <th>68</th>\n",
       "      <td>46</td>\n",
       "      <td>undistorted_GX010191_88_1016</td>\n",
       "      <td>1039</td>\n",
       "      <td>151.122</td>\n",
       "      <td>67.289</td>\n",
       "      <td>183.855</td>\n",
       "      <td>3104</td>\n",
       "      <td>12</td>\n",
       "      <td>265</td>\n",
       "      <td>1005</td>\n",
       "      <td>...</td>\n",
       "      <td>False</td>\n",
       "      <td>undistorted_GX010191_88_1016</td>\n",
       "      <td>big</td>\n",
       "      <td>190.4</td>\n",
       "      <td>40.7</td>\n",
       "      <td>3254.0</td>\n",
       "      <td>575.4</td>\n",
       "      <td>1014.3</td>\n",
       "      <td>216.7</td>\n",
       "      <td>23.829</td>\n",
       "    </tr>\n",
       "    <tr>\n",
       "      <th>16</th>\n",
       "      <td>13</td>\n",
       "      <td>undistorted_GX010191_17_509</td>\n",
       "      <td>706</td>\n",
       "      <td>121.178</td>\n",
       "      <td>60.000</td>\n",
       "      <td>169.333</td>\n",
       "      <td>4500</td>\n",
       "      <td>2340</td>\n",
       "      <td>473</td>\n",
       "      <td>525</td>\n",
       "      <td>...</td>\n",
       "      <td>True</td>\n",
       "      <td>undistorted_GX010191_17_509</td>\n",
       "      <td>small</td>\n",
       "      <td>142.3</td>\n",
       "      <td>29.9</td>\n",
       "      <td>4704.1</td>\n",
       "      <td>2638.9</td>\n",
       "      <td>730.9</td>\n",
       "      <td>153.4</td>\n",
       "      <td>25.662</td>\n",
       "    </tr>\n",
       "    <tr>\n",
       "      <th>83</th>\n",
       "      <td>55</td>\n",
       "      <td>undistorted_GX010191_105_1312</td>\n",
       "      <td>695</td>\n",
       "      <td>156.956</td>\n",
       "      <td>85.333</td>\n",
       "      <td>186.388</td>\n",
       "      <td>2920</td>\n",
       "      <td>2156</td>\n",
       "      <td>685</td>\n",
       "      <td>121</td>\n",
       "      <td>...</td>\n",
       "      <td>True</td>\n",
       "      <td>undistorted_GX010191_105_1312</td>\n",
       "      <td>small</td>\n",
       "      <td>141.4</td>\n",
       "      <td>35.7</td>\n",
       "      <td>3242.7</td>\n",
       "      <td>2205.3</td>\n",
       "      <td>720.3</td>\n",
       "      <td>181.9</td>\n",
       "      <td>25.853</td>\n",
       "    </tr>\n",
       "    <tr>\n",
       "      <th>49</th>\n",
       "      <td>32</td>\n",
       "      <td>undistorted_GX010191_37_1242</td>\n",
       "      <td>983</td>\n",
       "      <td>138.261</td>\n",
       "      <td>74.632</td>\n",
       "      <td>172.276</td>\n",
       "      <td>3780</td>\n",
       "      <td>608</td>\n",
       "      <td>869</td>\n",
       "      <td>461</td>\n",
       "      <td>...</td>\n",
       "      <td>False</td>\n",
       "      <td>undistorted_GX010191_37_1242</td>\n",
       "      <td>big</td>\n",
       "      <td>181.3</td>\n",
       "      <td>43.4</td>\n",
       "      <td>4276.7</td>\n",
       "      <td>805.7</td>\n",
       "      <td>956.2</td>\n",
       "      <td>228.8</td>\n",
       "      <td>26.156</td>\n",
       "    </tr>\n",
       "    <tr>\n",
       "      <th>44</th>\n",
       "      <td>29</td>\n",
       "      <td>undistorted_GX010191_36_1195</td>\n",
       "      <td>770</td>\n",
       "      <td>133.500</td>\n",
       "      <td>29.564</td>\n",
       "      <td>180.917</td>\n",
       "      <td>2872</td>\n",
       "      <td>548</td>\n",
       "      <td>589</td>\n",
       "      <td>497</td>\n",
       "      <td>...</td>\n",
       "      <td>True</td>\n",
       "      <td>undistorted_GX010191_36_1195</td>\n",
       "      <td>small</td>\n",
       "      <td>144.8</td>\n",
       "      <td>34.1</td>\n",
       "      <td>3189.4</td>\n",
       "      <td>777.3</td>\n",
       "      <td>740.6</td>\n",
       "      <td>173.9</td>\n",
       "      <td>28.659</td>\n",
       "    </tr>\n",
       "    <tr>\n",
       "      <th>64</th>\n",
       "      <td>44</td>\n",
       "      <td>undistorted_GX010191_47_507</td>\n",
       "      <td>874</td>\n",
       "      <td>158.245</td>\n",
       "      <td>77.731</td>\n",
       "      <td>194.811</td>\n",
       "      <td>3184</td>\n",
       "      <td>2032</td>\n",
       "      <td>457</td>\n",
       "      <td>745</td>\n",
       "      <td>...</td>\n",
       "      <td>False</td>\n",
       "      <td>undistorted_GX010191_47_507</td>\n",
       "      <td>big</td>\n",
       "      <td>170.3</td>\n",
       "      <td>41.6</td>\n",
       "      <td>3399.7</td>\n",
       "      <td>2381.2</td>\n",
       "      <td>905.0</td>\n",
       "      <td>220.9</td>\n",
       "      <td>32.376</td>\n",
       "    </tr>\n",
       "    <tr>\n",
       "      <th>98</th>\n",
       "      <td>68</td>\n",
       "      <td>undistorted_GX010193_18_1289</td>\n",
       "      <td>1353</td>\n",
       "      <td>140.387</td>\n",
       "      <td>82.351</td>\n",
       "      <td>168.247</td>\n",
       "      <td>2068</td>\n",
       "      <td>552</td>\n",
       "      <td>521</td>\n",
       "      <td>1249</td>\n",
       "      <td>...</td>\n",
       "      <td>False</td>\n",
       "      <td>undistorted_GX010193_18_1289</td>\n",
       "      <td>small</td>\n",
       "      <td>145.8</td>\n",
       "      <td>32.8</td>\n",
       "      <td>2374.5</td>\n",
       "      <td>1212.8</td>\n",
       "      <td>1312.1</td>\n",
       "      <td>295.3</td>\n",
       "      <td>39.900</td>\n",
       "    </tr>\n",
       "    <tr>\n",
       "      <th>89</th>\n",
       "      <td>61</td>\n",
       "      <td>undistorted_GX010191_114_1383</td>\n",
       "      <td>816</td>\n",
       "      <td>141.493</td>\n",
       "      <td>44.667</td>\n",
       "      <td>163.550</td>\n",
       "      <td>4616</td>\n",
       "      <td>104</td>\n",
       "      <td>261</td>\n",
       "      <td>773</td>\n",
       "      <td>...</td>\n",
       "      <td>True</td>\n",
       "      <td>undistorted_GX010191_114_1383</td>\n",
       "      <td>small</td>\n",
       "      <td>149.5</td>\n",
       "      <td>32.7</td>\n",
       "      <td>4783.2</td>\n",
       "      <td>521.0</td>\n",
       "      <td>772.3</td>\n",
       "      <td>168.8</td>\n",
       "      <td>42.307</td>\n",
       "    </tr>\n",
       "    <tr>\n",
       "      <th>3</th>\n",
       "      <td>3</td>\n",
       "      <td>undistorted_GX010191_8_309</td>\n",
       "      <td>914</td>\n",
       "      <td>136.620</td>\n",
       "      <td>84.361</td>\n",
       "      <td>170.768</td>\n",
       "      <td>3860</td>\n",
       "      <td>1736</td>\n",
       "      <td>157</td>\n",
       "      <td>901</td>\n",
       "      <td>...</td>\n",
       "      <td>False</td>\n",
       "      <td>undistorted_GX010191_8_309</td>\n",
       "      <td>big</td>\n",
       "      <td>179.7</td>\n",
       "      <td>37.3</td>\n",
       "      <td>3907.6</td>\n",
       "      <td>2309.3</td>\n",
       "      <td>958.2</td>\n",
       "      <td>198.9</td>\n",
       "      <td>44.780</td>\n",
       "    </tr>\n",
       "    <tr>\n",
       "      <th>28</th>\n",
       "      <td>21</td>\n",
       "      <td>undistorted_GX010191_34_350</td>\n",
       "      <td>723</td>\n",
       "      <td>136.294</td>\n",
       "      <td>75.475</td>\n",
       "      <td>181.211</td>\n",
       "      <td>2796</td>\n",
       "      <td>1692</td>\n",
       "      <td>489</td>\n",
       "      <td>533</td>\n",
       "      <td>...</td>\n",
       "      <td>True</td>\n",
       "      <td>undistorted_GX010191_34_350</td>\n",
       "      <td>small</td>\n",
       "      <td>149.3</td>\n",
       "      <td>35.5</td>\n",
       "      <td>3124.2</td>\n",
       "      <td>1938.9</td>\n",
       "      <td>766.8</td>\n",
       "      <td>182.4</td>\n",
       "      <td>44.880</td>\n",
       "    </tr>\n",
       "    <tr>\n",
       "      <th>36</th>\n",
       "      <td>25</td>\n",
       "      <td>undistorted_GX010191_35_367</td>\n",
       "      <td>707</td>\n",
       "      <td>142.542</td>\n",
       "      <td>73.667</td>\n",
       "      <td>172.743</td>\n",
       "      <td>3064</td>\n",
       "      <td>1704</td>\n",
       "      <td>253</td>\n",
       "      <td>661</td>\n",
       "      <td>...</td>\n",
       "      <td>True</td>\n",
       "      <td>undistorted_GX010191_35_367</td>\n",
       "      <td>small</td>\n",
       "      <td>146.1</td>\n",
       "      <td>35.4</td>\n",
       "      <td>3237.0</td>\n",
       "      <td>1978.7</td>\n",
       "      <td>752.7</td>\n",
       "      <td>182.2</td>\n",
       "      <td>46.227</td>\n",
       "    </tr>\n",
       "    <tr>\n",
       "      <th>19</th>\n",
       "      <td>16</td>\n",
       "      <td>undistorted_GX010191_28_230</td>\n",
       "      <td>1025</td>\n",
       "      <td>127.749</td>\n",
       "      <td>25.078</td>\n",
       "      <td>156.870</td>\n",
       "      <td>3828</td>\n",
       "      <td>660</td>\n",
       "      <td>181</td>\n",
       "      <td>1009</td>\n",
       "      <td>...</td>\n",
       "      <td>False</td>\n",
       "      <td>undistorted_GX010191_28_230</td>\n",
       "      <td>big</td>\n",
       "      <td>201.1</td>\n",
       "      <td>43.5</td>\n",
       "      <td>3902.7</td>\n",
       "      <td>1261.1</td>\n",
       "      <td>1072.3</td>\n",
       "      <td>231.6</td>\n",
       "      <td>48.355</td>\n",
       "    </tr>\n",
       "    <tr>\n",
       "      <th>33</th>\n",
       "      <td>24</td>\n",
       "      <td>undistorted_GX010191_34_1128</td>\n",
       "      <td>951</td>\n",
       "      <td>138.428</td>\n",
       "      <td>55.012</td>\n",
       "      <td>168.703</td>\n",
       "      <td>3404</td>\n",
       "      <td>1416</td>\n",
       "      <td>561</td>\n",
       "      <td>769</td>\n",
       "      <td>...</td>\n",
       "      <td>False</td>\n",
       "      <td>undistorted_GX010191_34_1128</td>\n",
       "      <td>big</td>\n",
       "      <td>169.7</td>\n",
       "      <td>38.3</td>\n",
       "      <td>3700.6</td>\n",
       "      <td>1825.7</td>\n",
       "      <td>900.2</td>\n",
       "      <td>202.9</td>\n",
       "      <td>50.286</td>\n",
       "    </tr>\n",
       "    <tr>\n",
       "      <th>51</th>\n",
       "      <td>33</td>\n",
       "      <td>undistorted_GX010191_38_1266</td>\n",
       "      <td>717</td>\n",
       "      <td>144.944</td>\n",
       "      <td>37.991</td>\n",
       "      <td>183.498</td>\n",
       "      <td>2768</td>\n",
       "      <td>1296</td>\n",
       "      <td>77</td>\n",
       "      <td>713</td>\n",
       "      <td>...</td>\n",
       "      <td>True</td>\n",
       "      <td>undistorted_GX010191_38_1266</td>\n",
       "      <td>small</td>\n",
       "      <td>150.7</td>\n",
       "      <td>38.1</td>\n",
       "      <td>3861.4</td>\n",
       "      <td>608.0</td>\n",
       "      <td>767.3</td>\n",
       "      <td>193.8</td>\n",
       "      <td>51.255</td>\n",
       "    </tr>\n",
       "    <tr>\n",
       "      <th>13</th>\n",
       "      <td>12</td>\n",
       "      <td>undistorted_GX010191_17_509</td>\n",
       "      <td>878</td>\n",
       "      <td>154.754</td>\n",
       "      <td>40.710</td>\n",
       "      <td>200.667</td>\n",
       "      <td>3220</td>\n",
       "      <td>2060</td>\n",
       "      <td>477</td>\n",
       "      <td>737</td>\n",
       "      <td>...</td>\n",
       "      <td>False</td>\n",
       "      <td>undistorted_GX010191_17_509</td>\n",
       "      <td>big</td>\n",
       "      <td>174.9</td>\n",
       "      <td>42.1</td>\n",
       "      <td>3473.8</td>\n",
       "      <td>2446.9</td>\n",
       "      <td>928.0</td>\n",
       "      <td>223.3</td>\n",
       "      <td>51.489</td>\n",
       "    </tr>\n",
       "    <tr>\n",
       "      <th>53</th>\n",
       "      <td>35</td>\n",
       "      <td>undistorted_GX010191_41_1322</td>\n",
       "      <td>960</td>\n",
       "      <td>152.652</td>\n",
       "      <td>70.867</td>\n",
       "      <td>185.694</td>\n",
       "      <td>2628</td>\n",
       "      <td>764</td>\n",
       "      <td>117</td>\n",
       "      <td>953</td>\n",
       "      <td>...</td>\n",
       "      <td>False</td>\n",
       "      <td>undistorted_GX010191_41_1322</td>\n",
       "      <td>big</td>\n",
       "      <td>169.0</td>\n",
       "      <td>42.9</td>\n",
       "      <td>2649.8</td>\n",
       "      <td>1214.1</td>\n",
       "      <td>901.2</td>\n",
       "      <td>228.9</td>\n",
       "      <td>57.841</td>\n",
       "    </tr>\n",
       "    <tr>\n",
       "      <th>57</th>\n",
       "      <td>39</td>\n",
       "      <td>undistorted_GX010191_42_1339</td>\n",
       "      <td>946</td>\n",
       "      <td>164.634</td>\n",
       "      <td>39.667</td>\n",
       "      <td>201.485</td>\n",
       "      <td>2600</td>\n",
       "      <td>1208</td>\n",
       "      <td>345</td>\n",
       "      <td>881</td>\n",
       "      <td>...</td>\n",
       "      <td>False</td>\n",
       "      <td>undistorted_GX010191_42_1339</td>\n",
       "      <td>big</td>\n",
       "      <td>166.6</td>\n",
       "      <td>41.2</td>\n",
       "      <td>2779.5</td>\n",
       "      <td>1647.0</td>\n",
       "      <td>886.4</td>\n",
       "      <td>219.3</td>\n",
       "      <td>58.447</td>\n",
       "    </tr>\n",
       "    <tr>\n",
       "      <th>45</th>\n",
       "      <td>30</td>\n",
       "      <td>undistorted_GX010191_36_1195</td>\n",
       "      <td>983</td>\n",
       "      <td>114.423</td>\n",
       "      <td>51.395</td>\n",
       "      <td>169.625</td>\n",
       "      <td>4312</td>\n",
       "      <td>720</td>\n",
       "      <td>437</td>\n",
       "      <td>881</td>\n",
       "      <td>...</td>\n",
       "      <td>False</td>\n",
       "      <td>undistorted_GX010191_36_1195</td>\n",
       "      <td>big</td>\n",
       "      <td>172.9</td>\n",
       "      <td>38.1</td>\n",
       "      <td>4586.6</td>\n",
       "      <td>1240.6</td>\n",
       "      <td>920.0</td>\n",
       "      <td>202.7</td>\n",
       "      <td>62.088</td>\n",
       "    </tr>\n",
       "    <tr>\n",
       "      <th>61</th>\n",
       "      <td>41</td>\n",
       "      <td>undistorted_GX010191_43_1353</td>\n",
       "      <td>933</td>\n",
       "      <td>157.502</td>\n",
       "      <td>44.333</td>\n",
       "      <td>189.011</td>\n",
       "      <td>2724</td>\n",
       "      <td>1548</td>\n",
       "      <td>693</td>\n",
       "      <td>625</td>\n",
       "      <td>...</td>\n",
       "      <td>False</td>\n",
       "      <td>undistorted_GX010191_43_1353</td>\n",
       "      <td>big</td>\n",
       "      <td>164.2</td>\n",
       "      <td>40.8</td>\n",
       "      <td>3036.7</td>\n",
       "      <td>1862.5</td>\n",
       "      <td>867.4</td>\n",
       "      <td>215.5</td>\n",
       "      <td>64.394</td>\n",
       "    </tr>\n",
       "    <tr>\n",
       "      <th>5</th>\n",
       "      <td>4</td>\n",
       "      <td>undistorted_GX010191_10_370</td>\n",
       "      <td>697</td>\n",
       "      <td>127.490</td>\n",
       "      <td>40.000</td>\n",
       "      <td>189.921</td>\n",
       "      <td>3092</td>\n",
       "      <td>1716</td>\n",
       "      <td>245</td>\n",
       "      <td>653</td>\n",
       "      <td>...</td>\n",
       "      <td>True</td>\n",
       "      <td>undistorted_GX010191_10_370</td>\n",
       "      <td>small</td>\n",
       "      <td>149.0</td>\n",
       "      <td>36.5</td>\n",
       "      <td>4558.5</td>\n",
       "      <td>1529.4</td>\n",
       "      <td>762.6</td>\n",
       "      <td>186.9</td>\n",
       "      <td>66.439</td>\n",
       "    </tr>\n",
       "    <tr>\n",
       "      <th>80</th>\n",
       "      <td>54</td>\n",
       "      <td>undistorted_GX010191_105_1312</td>\n",
       "      <td>994</td>\n",
       "      <td>172.964</td>\n",
       "      <td>74.000</td>\n",
       "      <td>213.659</td>\n",
       "      <td>2528</td>\n",
       "      <td>536</td>\n",
       "      <td>393</td>\n",
       "      <td>913</td>\n",
       "      <td>...</td>\n",
       "      <td>False</td>\n",
       "      <td>undistorted_GX010191_105_1312</td>\n",
       "      <td>big</td>\n",
       "      <td>174.2</td>\n",
       "      <td>40.4</td>\n",
       "      <td>2780.7</td>\n",
       "      <td>935.6</td>\n",
       "      <td>924.6</td>\n",
       "      <td>214.6</td>\n",
       "      <td>68.077</td>\n",
       "    </tr>\n",
       "    <tr>\n",
       "      <th>95</th>\n",
       "      <td>65</td>\n",
       "      <td>undistorted_GX010192_26_1578</td>\n",
       "      <td>1327</td>\n",
       "      <td>154.548</td>\n",
       "      <td>68.333</td>\n",
       "      <td>180.535</td>\n",
       "      <td>2128</td>\n",
       "      <td>1296</td>\n",
       "      <td>361</td>\n",
       "      <td>1277</td>\n",
       "      <td>...</td>\n",
       "      <td>True</td>\n",
       "      <td>undistorted_GX010192_26_1578</td>\n",
       "      <td>small</td>\n",
       "      <td>139.5</td>\n",
       "      <td>33.9</td>\n",
       "      <td>2318.6</td>\n",
       "      <td>1937.1</td>\n",
       "      <td>1257.0</td>\n",
       "      <td>305.8</td>\n",
       "      <td>68.811</td>\n",
       "    </tr>\n",
       "    <tr>\n",
       "      <th>85</th>\n",
       "      <td>57</td>\n",
       "      <td>undistorted_GX010191_106_1320</td>\n",
       "      <td>734</td>\n",
       "      <td>144.336</td>\n",
       "      <td>36.667</td>\n",
       "      <td>180.274</td>\n",
       "      <td>3092</td>\n",
       "      <td>2220</td>\n",
       "      <td>733</td>\n",
       "      <td>29</td>\n",
       "      <td>...</td>\n",
       "      <td>True</td>\n",
       "      <td>undistorted_GX010191_106_1320</td>\n",
       "      <td>small</td>\n",
       "      <td>155.0</td>\n",
       "      <td>38.7</td>\n",
       "      <td>2677.7</td>\n",
       "      <td>1177.7</td>\n",
       "      <td>801.8</td>\n",
       "      <td>200.1</td>\n",
       "      <td>69.265</td>\n",
       "    </tr>\n",
       "    <tr>\n",
       "      <th>86</th>\n",
       "      <td>58</td>\n",
       "      <td>undistorted_GX010191_110_1355</td>\n",
       "      <td>929</td>\n",
       "      <td>158.782</td>\n",
       "      <td>68.351</td>\n",
       "      <td>192.196</td>\n",
       "      <td>2728</td>\n",
       "      <td>1592</td>\n",
       "      <td>729</td>\n",
       "      <td>577</td>\n",
       "      <td>...</td>\n",
       "      <td>False</td>\n",
       "      <td>undistorted_GX010191_110_1355</td>\n",
       "      <td>big</td>\n",
       "      <td>162.4</td>\n",
       "      <td>39.5</td>\n",
       "      <td>3064.0</td>\n",
       "      <td>1873.2</td>\n",
       "      <td>857.3</td>\n",
       "      <td>208.7</td>\n",
       "      <td>71.010</td>\n",
       "    </tr>\n",
       "    <tr>\n",
       "      <th>25</th>\n",
       "      <td>20</td>\n",
       "      <td>undistorted_GX010191_32_305</td>\n",
       "      <td>949</td>\n",
       "      <td>127.867</td>\n",
       "      <td>35.565</td>\n",
       "      <td>176.388</td>\n",
       "      <td>3908</td>\n",
       "      <td>1728</td>\n",
       "      <td>173</td>\n",
       "      <td>933</td>\n",
       "      <td>...</td>\n",
       "      <td>False</td>\n",
       "      <td>undistorted_GX010191_32_305</td>\n",
       "      <td>big</td>\n",
       "      <td>191.5</td>\n",
       "      <td>39.1</td>\n",
       "      <td>3959.8</td>\n",
       "      <td>2279.7</td>\n",
       "      <td>1020.8</td>\n",
       "      <td>208.7</td>\n",
       "      <td>73.062</td>\n",
       "    </tr>\n",
       "    <tr>\n",
       "      <th>8</th>\n",
       "      <td>7</td>\n",
       "      <td>undistorted_GX010191_14_460</td>\n",
       "      <td>793</td>\n",
       "      <td>141.057</td>\n",
       "      <td>42.333</td>\n",
       "      <td>182.460</td>\n",
       "      <td>3536</td>\n",
       "      <td>2224</td>\n",
       "      <td>793</td>\n",
       "      <td>5</td>\n",
       "      <td>...</td>\n",
       "      <td>False</td>\n",
       "      <td>undistorted_GX010191_14_460</td>\n",
       "      <td>big</td>\n",
       "      <td>162.5</td>\n",
       "      <td>39.7</td>\n",
       "      <td>3227.0</td>\n",
       "      <td>1074.9</td>\n",
       "      <td>865.9</td>\n",
       "      <td>211.6</td>\n",
       "      <td>73.890</td>\n",
       "    </tr>\n",
       "    <tr>\n",
       "      <th>110</th>\n",
       "      <td>78</td>\n",
       "      <td>undistorted_GX010194_7_885</td>\n",
       "      <td>1318</td>\n",
       "      <td>155.960</td>\n",
       "      <td>73.515</td>\n",
       "      <td>176.121</td>\n",
       "      <td>1836</td>\n",
       "      <td>252</td>\n",
       "      <td>661</td>\n",
       "      <td>1141</td>\n",
       "      <td>...</td>\n",
       "      <td>True</td>\n",
       "      <td>undistorted_GX010194_7_885</td>\n",
       "      <td>small</td>\n",
       "      <td>154.7</td>\n",
       "      <td>36.5</td>\n",
       "      <td>2240.9</td>\n",
       "      <td>709.6</td>\n",
       "      <td>1391.6</td>\n",
       "      <td>328.0</td>\n",
       "      <td>74.330</td>\n",
       "    </tr>\n",
       "    <tr>\n",
       "      <th>11</th>\n",
       "      <td>10</td>\n",
       "      <td>undistorted_GX010191_16_495</td>\n",
       "      <td>915</td>\n",
       "      <td>165.486</td>\n",
       "      <td>87.953</td>\n",
       "      <td>193.333</td>\n",
       "      <td>3032</td>\n",
       "      <td>1736</td>\n",
       "      <td>261</td>\n",
       "      <td>877</td>\n",
       "      <td>...</td>\n",
       "      <td>False</td>\n",
       "      <td>undistorted_GX010191_16_495</td>\n",
       "      <td>big</td>\n",
       "      <td>157.0</td>\n",
       "      <td>40.6</td>\n",
       "      <td>3176.2</td>\n",
       "      <td>2184.6</td>\n",
       "      <td>835.8</td>\n",
       "      <td>216.0</td>\n",
       "      <td>77.970</td>\n",
       "    </tr>\n",
       "    <tr>\n",
       "      <th>92</th>\n",
       "      <td>64</td>\n",
       "      <td>undistorted_GX010192_26_1578</td>\n",
       "      <td>1719</td>\n",
       "      <td>129.059</td>\n",
       "      <td>68.585</td>\n",
       "      <td>165.192</td>\n",
       "      <td>3392</td>\n",
       "      <td>204</td>\n",
       "      <td>729</td>\n",
       "      <td>1557</td>\n",
       "      <td>...</td>\n",
       "      <td>False</td>\n",
       "      <td>undistorted_GX010192_26_1578</td>\n",
       "      <td>big</td>\n",
       "      <td>172.9</td>\n",
       "      <td>40.3</td>\n",
       "      <td>3796.9</td>\n",
       "      <td>975.9</td>\n",
       "      <td>1639.2</td>\n",
       "      <td>382.2</td>\n",
       "      <td>78.682</td>\n",
       "    </tr>\n",
       "    <tr>\n",
       "      <th>106</th>\n",
       "      <td>74</td>\n",
       "      <td>undistorted_GX010193_28_1584</td>\n",
       "      <td>1373</td>\n",
       "      <td>132.928</td>\n",
       "      <td>47.000</td>\n",
       "      <td>162.000</td>\n",
       "      <td>2612</td>\n",
       "      <td>108</td>\n",
       "      <td>553</td>\n",
       "      <td>1257</td>\n",
       "      <td>...</td>\n",
       "      <td>True</td>\n",
       "      <td>undistorted_GX010193_28_1584</td>\n",
       "      <td>small</td>\n",
       "      <td>143.6</td>\n",
       "      <td>31.7</td>\n",
       "      <td>2874.9</td>\n",
       "      <td>752.5</td>\n",
       "      <td>1292.7</td>\n",
       "      <td>285.8</td>\n",
       "      <td>79.248</td>\n",
       "    </tr>\n",
       "    <tr>\n",
       "      <th>9</th>\n",
       "      <td>8</td>\n",
       "      <td>undistorted_GX010191_15_479</td>\n",
       "      <td>933</td>\n",
       "      <td>158.736</td>\n",
       "      <td>67.333</td>\n",
       "      <td>196.074</td>\n",
       "      <td>3064</td>\n",
       "      <td>1248</td>\n",
       "      <td>5</td>\n",
       "      <td>933</td>\n",
       "      <td>...</td>\n",
       "      <td>False</td>\n",
       "      <td>undistorted_GX010191_15_479</td>\n",
       "      <td>big</td>\n",
       "      <td>159.4</td>\n",
       "      <td>40.9</td>\n",
       "      <td>3070.0</td>\n",
       "      <td>1734.5</td>\n",
       "      <td>850.2</td>\n",
       "      <td>218.3</td>\n",
       "      <td>81.809</td>\n",
       "    </tr>\n",
       "    <tr>\n",
       "      <th>112</th>\n",
       "      <td>80</td>\n",
       "      <td>undistorted_GX010194_19_285</td>\n",
       "      <td>1280</td>\n",
       "      <td>143.115</td>\n",
       "      <td>40.950</td>\n",
       "      <td>170.281</td>\n",
       "      <td>1584</td>\n",
       "      <td>1032</td>\n",
       "      <td>717</td>\n",
       "      <td>1061</td>\n",
       "      <td>...</td>\n",
       "      <td>False</td>\n",
       "      <td>undistorted_GX010194_19_285</td>\n",
       "      <td>small</td>\n",
       "      <td>133.1</td>\n",
       "      <td>30.3</td>\n",
       "      <td>1929.2</td>\n",
       "      <td>1517.4</td>\n",
       "      <td>1194.4</td>\n",
       "      <td>272.2</td>\n",
       "      <td>84.762</td>\n",
       "    </tr>\n",
       "    <tr>\n",
       "      <th>90</th>\n",
       "      <td>62</td>\n",
       "      <td>undistorted_GX010191_117_1408</td>\n",
       "      <td>980</td>\n",
       "      <td>131.223</td>\n",
       "      <td>64.030</td>\n",
       "      <td>185.075</td>\n",
       "      <td>3760</td>\n",
       "      <td>560</td>\n",
       "      <td>677</td>\n",
       "      <td>709</td>\n",
       "      <td>...</td>\n",
       "      <td>False</td>\n",
       "      <td>undistorted_GX010191_117_1408</td>\n",
       "      <td>big</td>\n",
       "      <td>168.9</td>\n",
       "      <td>40.4</td>\n",
       "      <td>4078.9</td>\n",
       "      <td>984.5</td>\n",
       "      <td>893.4</td>\n",
       "      <td>213.7</td>\n",
       "      <td>85.497</td>\n",
       "    </tr>\n",
       "    <tr>\n",
       "      <th>65</th>\n",
       "      <td>44</td>\n",
       "      <td>undistorted_GX010191_47_507</td>\n",
       "      <td>874</td>\n",
       "      <td>158.245</td>\n",
       "      <td>77.731</td>\n",
       "      <td>194.811</td>\n",
       "      <td>3184</td>\n",
       "      <td>2032</td>\n",
       "      <td>457</td>\n",
       "      <td>745</td>\n",
       "      <td>...</td>\n",
       "      <td>True</td>\n",
       "      <td>undistorted_GX010191_47_507</td>\n",
       "      <td>small</td>\n",
       "      <td>153.4</td>\n",
       "      <td>30.9</td>\n",
       "      <td>4647.7</td>\n",
       "      <td>2664.1</td>\n",
       "      <td>786.9</td>\n",
       "      <td>158.3</td>\n",
       "      <td>85.724</td>\n",
       "    </tr>\n",
       "    <tr>\n",
       "      <th>113</th>\n",
       "      <td>81</td>\n",
       "      <td>undistorted_GX010194_26_373</td>\n",
       "      <td>1218</td>\n",
       "      <td>150.946</td>\n",
       "      <td>81.667</td>\n",
       "      <td>179.000</td>\n",
       "      <td>1072</td>\n",
       "      <td>1548</td>\n",
       "      <td>1053</td>\n",
       "      <td>613</td>\n",
       "      <td>...</td>\n",
       "      <td>False</td>\n",
       "      <td>undistorted_GX010194_26_373</td>\n",
       "      <td>small</td>\n",
       "      <td>126.4</td>\n",
       "      <td>31.8</td>\n",
       "      <td>1586.1</td>\n",
       "      <td>1827.8</td>\n",
       "      <td>1126.2</td>\n",
       "      <td>283.6</td>\n",
       "      <td>90.865</td>\n",
       "    </tr>\n",
       "    <tr>\n",
       "      <th>99</th>\n",
       "      <td>69</td>\n",
       "      <td>undistorted_GX010193_19_1334</td>\n",
       "      <td>1304</td>\n",
       "      <td>130.121</td>\n",
       "      <td>88.811</td>\n",
       "      <td>164.441</td>\n",
       "      <td>1032</td>\n",
       "      <td>752</td>\n",
       "      <td>1045</td>\n",
       "      <td>781</td>\n",
       "      <td>...</td>\n",
       "      <td>True</td>\n",
       "      <td>undistorted_GX010193_19_1334</td>\n",
       "      <td>small</td>\n",
       "      <td>134.3</td>\n",
       "      <td>33.7</td>\n",
       "      <td>1544.6</td>\n",
       "      <td>1118.5</td>\n",
       "      <td>1199.6</td>\n",
       "      <td>300.5</td>\n",
       "      <td>103.602</td>\n",
       "    </tr>\n",
       "    <tr>\n",
       "      <th>101</th>\n",
       "      <td>71</td>\n",
       "      <td>undistorted_GX010193_20_1365</td>\n",
       "      <td>1189</td>\n",
       "      <td>130.869</td>\n",
       "      <td>33.333</td>\n",
       "      <td>153.528</td>\n",
       "      <td>124</td>\n",
       "      <td>1364</td>\n",
       "      <td>1177</td>\n",
       "      <td>169</td>\n",
       "      <td>...</td>\n",
       "      <td>False</td>\n",
       "      <td>undistorted_GX010193_20_1365</td>\n",
       "      <td>small</td>\n",
       "      <td>120.6</td>\n",
       "      <td>32.5</td>\n",
       "      <td>712.5</td>\n",
       "      <td>1441.6</td>\n",
       "      <td>1070.7</td>\n",
       "      <td>288.8</td>\n",
       "      <td>117.239</td>\n",
       "    </tr>\n",
       "  </tbody>\n",
       "</table>\n",
       "<p>51 rows × 23 columns</p>\n",
       "</div>"
      ],
      "text/plain": [
       "                                 Label  Area     Mean     Min      Max    BX  \\\n",
       "48   31   undistorted_GX010191_37_1242   720  148.253  98.659  170.629  2764   \n",
       "2     2     undistorted_GX010191_8_309   791  156.202  55.333  175.122  2456   \n",
       "24   19    undistorted_GX010191_32_305   791  147.524  87.960  176.063  2516   \n",
       "97   67   undistorted_GX010193_11_1065  1742  130.953  78.167  171.020  2152   \n",
       "75   50  undistorted_GX010191_100_1250   734  145.590  35.000  185.270  2776   \n",
       "102  72   undistorted_GX010193_27_1553  1767  128.617  46.667  162.577  1672   \n",
       "114  82    undistorted_GX010194_39_513  1309  156.869  47.333  179.686  2436   \n",
       "70   48   undistorted_GX010191_94_1132   823  153.479  28.338  180.844  3052   \n",
       "40   27   undistorted_GX010191_35_1167   771  154.688  47.898  184.515  2844   \n",
       "22   18    undistorted_GX010191_31_283   947  138.038  53.297  171.404  3776   \n",
       "60   40   undistorted_GX010191_42_1339   728  110.807  50.077  174.260  3728   \n",
       "37   26    undistorted_GX010191_35_367   927  147.180  59.118  170.229  4092   \n",
       "18   15    undistorted_GX010191_28_230   803  159.117  98.460  192.796  2348   \n",
       "29   22    undistorted_GX010191_34_350   954  151.541  36.333  184.855  4072   \n",
       "68   46   undistorted_GX010191_88_1016  1039  151.122  67.289  183.855  3104   \n",
       "16   13    undistorted_GX010191_17_509   706  121.178  60.000  169.333  4500   \n",
       "83   55  undistorted_GX010191_105_1312   695  156.956  85.333  186.388  2920   \n",
       "49   32   undistorted_GX010191_37_1242   983  138.261  74.632  172.276  3780   \n",
       "44   29   undistorted_GX010191_36_1195   770  133.500  29.564  180.917  2872   \n",
       "64   44    undistorted_GX010191_47_507   874  158.245  77.731  194.811  3184   \n",
       "98   68   undistorted_GX010193_18_1289  1353  140.387  82.351  168.247  2068   \n",
       "89   61  undistorted_GX010191_114_1383   816  141.493  44.667  163.550  4616   \n",
       "3     3     undistorted_GX010191_8_309   914  136.620  84.361  170.768  3860   \n",
       "28   21    undistorted_GX010191_34_350   723  136.294  75.475  181.211  2796   \n",
       "36   25    undistorted_GX010191_35_367   707  142.542  73.667  172.743  3064   \n",
       "19   16    undistorted_GX010191_28_230  1025  127.749  25.078  156.870  3828   \n",
       "33   24   undistorted_GX010191_34_1128   951  138.428  55.012  168.703  3404   \n",
       "51   33   undistorted_GX010191_38_1266   717  144.944  37.991  183.498  2768   \n",
       "13   12    undistorted_GX010191_17_509   878  154.754  40.710  200.667  3220   \n",
       "53   35   undistorted_GX010191_41_1322   960  152.652  70.867  185.694  2628   \n",
       "57   39   undistorted_GX010191_42_1339   946  164.634  39.667  201.485  2600   \n",
       "45   30   undistorted_GX010191_36_1195   983  114.423  51.395  169.625  4312   \n",
       "61   41   undistorted_GX010191_43_1353   933  157.502  44.333  189.011  2724   \n",
       "5     4    undistorted_GX010191_10_370   697  127.490  40.000  189.921  3092   \n",
       "80   54  undistorted_GX010191_105_1312   994  172.964  74.000  213.659  2528   \n",
       "95   65   undistorted_GX010192_26_1578  1327  154.548  68.333  180.535  2128   \n",
       "85   57  undistorted_GX010191_106_1320   734  144.336  36.667  180.274  3092   \n",
       "86   58  undistorted_GX010191_110_1355   929  158.782  68.351  192.196  2728   \n",
       "25   20    undistorted_GX010191_32_305   949  127.867  35.565  176.388  3908   \n",
       "8     7    undistorted_GX010191_14_460   793  141.057  42.333  182.460  3536   \n",
       "110  78     undistorted_GX010194_7_885  1318  155.960  73.515  176.121  1836   \n",
       "11   10    undistorted_GX010191_16_495   915  165.486  87.953  193.333  3032   \n",
       "92   64   undistorted_GX010192_26_1578  1719  129.059  68.585  165.192  3392   \n",
       "106  74   undistorted_GX010193_28_1584  1373  132.928  47.000  162.000  2612   \n",
       "9     8    undistorted_GX010191_15_479   933  158.736  67.333  196.074  3064   \n",
       "112  80    undistorted_GX010194_19_285  1280  143.115  40.950  170.281  1584   \n",
       "90   62  undistorted_GX010191_117_1408   980  131.223  64.030  185.075  3760   \n",
       "65   44    undistorted_GX010191_47_507   874  158.245  77.731  194.811  3184   \n",
       "113  81    undistorted_GX010194_26_373  1218  150.946  81.667  179.000  1072   \n",
       "99   69   undistorted_GX010193_19_1334  1304  130.121  88.811  164.441  1032   \n",
       "101  71   undistorted_GX010193_20_1365  1189  130.869  33.333  153.528   124   \n",
       "\n",
       "       BY  Width  Height  ...  is_small                     image_name  \\\n",
       "48    948    221     685  ...      True   undistorted_GX010191_37_1242   \n",
       "2    1376    733     297  ...      True     undistorted_GX010191_8_309   \n",
       "24   1328    741     277  ...      True    undistorted_GX010191_32_305   \n",
       "97   1256    973    1445  ...     False   undistorted_GX010193_11_1065   \n",
       "75   1088    137     721  ...      True  undistorted_GX010191_100_1250   \n",
       "102   108    253    1749  ...     False   undistorted_GX010193_27_1553   \n",
       "114  1320     33    1309  ...     False    undistorted_GX010194_39_513   \n",
       "70    368    777     273  ...     False   undistorted_GX010191_94_1132   \n",
       "40    644    761     125  ...      True   undistorted_GX010191_35_1167   \n",
       "22   1492    105     941  ...     False    undistorted_GX010191_31_283   \n",
       "60   1880    597     417  ...      True   undistorted_GX010191_42_1339   \n",
       "37   1392    793     481  ...     False    undistorted_GX010191_35_367   \n",
       "18    240    725     345  ...      True    undistorted_GX010191_28_230   \n",
       "29   1652    601     741  ...     False    undistorted_GX010191_34_350   \n",
       "68     12    265    1005  ...     False   undistorted_GX010191_88_1016   \n",
       "16   2340    473     525  ...      True    undistorted_GX010191_17_509   \n",
       "83   2156    685     121  ...      True  undistorted_GX010191_105_1312   \n",
       "49    608    869     461  ...     False   undistorted_GX010191_37_1242   \n",
       "44    548    589     497  ...      True   undistorted_GX010191_36_1195   \n",
       "64   2032    457     745  ...     False    undistorted_GX010191_47_507   \n",
       "98    552    521    1249  ...     False   undistorted_GX010193_18_1289   \n",
       "89    104    261     773  ...      True  undistorted_GX010191_114_1383   \n",
       "3    1736    157     901  ...     False     undistorted_GX010191_8_309   \n",
       "28   1692    489     533  ...      True    undistorted_GX010191_34_350   \n",
       "36   1704    253     661  ...      True    undistorted_GX010191_35_367   \n",
       "19    660    181    1009  ...     False    undistorted_GX010191_28_230   \n",
       "33   1416    561     769  ...     False   undistorted_GX010191_34_1128   \n",
       "51   1296     77     713  ...      True   undistorted_GX010191_38_1266   \n",
       "13   2060    477     737  ...     False    undistorted_GX010191_17_509   \n",
       "53    764    117     953  ...     False   undistorted_GX010191_41_1322   \n",
       "57   1208    345     881  ...     False   undistorted_GX010191_42_1339   \n",
       "45    720    437     881  ...     False   undistorted_GX010191_36_1195   \n",
       "61   1548    693     625  ...     False   undistorted_GX010191_43_1353   \n",
       "5    1716    245     653  ...      True    undistorted_GX010191_10_370   \n",
       "80    536    393     913  ...     False  undistorted_GX010191_105_1312   \n",
       "95   1296    361    1277  ...      True   undistorted_GX010192_26_1578   \n",
       "85   2220    733      29  ...      True  undistorted_GX010191_106_1320   \n",
       "86   1592    729     577  ...     False  undistorted_GX010191_110_1355   \n",
       "25   1728    173     933  ...     False    undistorted_GX010191_32_305   \n",
       "8    2224    793       5  ...     False    undistorted_GX010191_14_460   \n",
       "110   252    661    1141  ...      True     undistorted_GX010194_7_885   \n",
       "11   1736    261     877  ...     False    undistorted_GX010191_16_495   \n",
       "92    204    729    1557  ...     False   undistorted_GX010192_26_1578   \n",
       "106   108    553    1257  ...      True   undistorted_GX010193_28_1584   \n",
       "9    1248      5     933  ...     False    undistorted_GX010191_15_479   \n",
       "112  1032    717    1061  ...     False    undistorted_GX010194_19_285   \n",
       "90    560    677     709  ...     False  undistorted_GX010191_117_1408   \n",
       "65   2032    457     745  ...      True    undistorted_GX010191_47_507   \n",
       "113  1548   1053     613  ...     False    undistorted_GX010194_26_373   \n",
       "99    752   1045     781  ...      True   undistorted_GX010193_19_1334   \n",
       "101  1364   1177     169  ...     False   undistorted_GX010193_20_1365   \n",
       "\n",
       "     lobster_size  total_length carapace_length   eye_x   eye_y  \\\n",
       "48          small         139.2            34.5  2927.6  1243.5   \n",
       "2           small         154.8            35.7  2879.4  1465.9   \n",
       "24          small         154.2            36.9  2897.1  1454.2   \n",
       "97            big         184.3            44.3  2701.3  2017.7   \n",
       "75          small         143.0            38.0  2853.8  1416.3   \n",
       "102           big         186.6            47.3  1853.2   762.9   \n",
       "114         small         144.1            33.7  2407.7  2016.2   \n",
       "70            big         156.7            34.1  3728.6  1885.2   \n",
       "40          small         149.2            34.8  3262.8   683.9   \n",
       "22            big         174.8            37.3  3796.4  1995.6   \n",
       "60          small         138.2            30.6  4008.0  2113.0   \n",
       "37            big         171.6            40.0  4559.5  1625.5   \n",
       "18          small         152.7            36.2  2721.0   387.7   \n",
       "29            big         175.4            38.9  4423.0  2027.0   \n",
       "68            big         190.4            40.7  3254.0   575.4   \n",
       "16          small         142.3            29.9  4704.1  2638.9   \n",
       "83          small         141.4            35.7  3242.7  2205.3   \n",
       "49            big         181.3            43.4  4276.7   805.7   \n",
       "44          small         144.8            34.1  3189.4   777.3   \n",
       "64            big         170.3            41.6  3399.7  2381.2   \n",
       "98          small         145.8            32.8  2374.5  1212.8   \n",
       "89          small         149.5            32.7  4783.2   521.0   \n",
       "3             big         179.7            37.3  3907.6  2309.3   \n",
       "28          small         149.3            35.5  3124.2  1938.9   \n",
       "36          small         146.1            35.4  3237.0  1978.7   \n",
       "19            big         201.1            43.5  3902.7  1261.1   \n",
       "33            big         169.7            38.3  3700.6  1825.7   \n",
       "51          small         150.7            38.1  3861.4   608.0   \n",
       "13            big         174.9            42.1  3473.8  2446.9   \n",
       "53            big         169.0            42.9  2649.8  1214.1   \n",
       "57            big         166.6            41.2  2779.5  1647.0   \n",
       "45            big         172.9            38.1  4586.6  1240.6   \n",
       "61            big         164.2            40.8  3036.7  1862.5   \n",
       "5           small         149.0            36.5  4558.5  1529.4   \n",
       "80            big         174.2            40.4  2780.7   935.6   \n",
       "95          small         139.5            33.9  2318.6  1937.1   \n",
       "85          small         155.0            38.7  2677.7  1177.7   \n",
       "86            big         162.4            39.5  3064.0  1873.2   \n",
       "25            big         191.5            39.1  3959.8  2279.7   \n",
       "8             big         162.5            39.7  3227.0  1074.9   \n",
       "110         small         154.7            36.5  2240.9   709.6   \n",
       "11            big         157.0            40.6  3176.2  2184.6   \n",
       "92            big         172.9            40.3  3796.9   975.9   \n",
       "106         small         143.6            31.7  2874.9   752.5   \n",
       "9             big         159.4            40.9  3070.0  1734.5   \n",
       "112         small         133.1            30.3  1929.2  1517.4   \n",
       "90            big         168.9            40.4  4078.9   984.5   \n",
       "65          small         153.4            30.9  4647.7  2664.1   \n",
       "113         small         126.4            31.8  1586.1  1827.8   \n",
       "99          small         134.3            33.7  1544.6  1118.5   \n",
       "101         small         120.6            32.5   712.5  1441.6   \n",
       "\n",
       "     pixels_total_length  pixels_carapace_length  length_diff  \n",
       "48                 719.0                   178.1        0.490  \n",
       "2                  790.1                   181.9        0.518  \n",
       "24                 786.3                   187.9        3.495  \n",
       "97                1745.4                   419.2        4.733  \n",
       "75                 739.4                   196.5        6.668  \n",
       "102               1774.1                   449.8        8.029  \n",
       "114               1300.3                   303.9        8.091  \n",
       "70                 832.0                   181.0        9.711  \n",
       "40                 759.4                   177.2       10.649  \n",
       "22                 931.8                   198.7       13.936  \n",
       "60                 708.1                   156.9       18.723  \n",
       "37                 905.3                   211.2       20.802  \n",
       "18                 778.6                   184.6       22.968  \n",
       "29                 928.9                   205.9       23.780  \n",
       "68                1014.3                   216.7       23.829  \n",
       "16                 730.9                   153.4       25.662  \n",
       "83                 720.3                   181.9       25.853  \n",
       "49                 956.2                   228.8       26.156  \n",
       "44                 740.6                   173.9       28.659  \n",
       "64                 905.0                   220.9       32.376  \n",
       "98                1312.1                   295.3       39.900  \n",
       "89                 772.3                   168.8       42.307  \n",
       "3                  958.2                   198.9       44.780  \n",
       "28                 766.8                   182.4       44.880  \n",
       "36                 752.7                   182.2       46.227  \n",
       "19                1072.3                   231.6       48.355  \n",
       "33                 900.2                   202.9       50.286  \n",
       "51                 767.3                   193.8       51.255  \n",
       "13                 928.0                   223.3       51.489  \n",
       "53                 901.2                   228.9       57.841  \n",
       "57                 886.4                   219.3       58.447  \n",
       "45                 920.0                   202.7       62.088  \n",
       "61                 867.4                   215.5       64.394  \n",
       "5                  762.6                   186.9       66.439  \n",
       "80                 924.6                   214.6       68.077  \n",
       "95                1257.0                   305.8       68.811  \n",
       "85                 801.8                   200.1       69.265  \n",
       "86                 857.3                   208.7       71.010  \n",
       "25                1020.8                   208.7       73.062  \n",
       "8                  865.9                   211.6       73.890  \n",
       "110               1391.6                   328.0       74.330  \n",
       "11                 835.8                   216.0       77.970  \n",
       "92                1639.2                   382.2       78.682  \n",
       "106               1292.7                   285.8       79.248  \n",
       "9                  850.2                   218.3       81.809  \n",
       "112               1194.4                   272.2       84.762  \n",
       "90                 893.4                   213.7       85.497  \n",
       "65                 786.9                   158.3       85.724  \n",
       "113               1126.2                   283.6       90.865  \n",
       "99                1199.6                   300.5      103.602  \n",
       "101               1070.7                   288.8      117.239  \n",
       "\n",
       "[51 rows x 23 columns]"
      ]
     },
     "metadata": {},
     "output_type": "display_data"
    }
   ],
   "source": [
    "# Create a merged dataframe by matching Label with image_name\n",
    "merged_df = pd.merge(\n",
    "    df_shai_exuviae,\n",
    "    df_analysis,\n",
    "    left_on='Label',\n",
    "    right_on='image_name',\n",
    "    how='inner'\n",
    ")\n",
    "\n",
    "# Calculate the absolute difference between Length and pixels_total_length\n",
    "merged_df['length_diff'] = abs(merged_df['Length'] - merged_df['pixels_total_length'])\n",
    "\n",
    "# Filter for rows where the lengths are close (e.g. within 10% difference)\n",
    "threshold = 0.1# 10% threshold\n",
    "\n",
    "# Group by Label to find images with multiple detections\n",
    "duplicate_labels = merged_df.groupby('Label').filter(lambda x: len(x) > 1)['Label'].unique()\n",
    "\n",
    "# For images with multiple detections, match the detections with size classes\n",
    "for label in duplicate_labels:\n",
    "    # Get rows for this label\n",
    "    label_rows = merged_df[merged_df['Label'] == label]\n",
    "    \n",
    "    # Get the big and small detections from Shai's data\n",
    "    shai_big = label_rows[label_rows['is_big']]['Length'].values[0] if any(label_rows['is_big']) else None\n",
    "    shai_small = label_rows[label_rows['is_small']]['Length'].values[0] if any(label_rows['is_small']) else None\n",
    "    \n",
    "    # Get the big and small detections from our measurements\n",
    "    our_big = label_rows[label_rows['lobster_size'] == 'big']['pixels_total_length'].values[0] if any(label_rows['lobster_size'] == 'big') else None\n",
    "    our_small = label_rows[label_rows['lobster_size'] == 'small']['pixels_total_length'].values[0] if any(label_rows['lobster_size'] == 'small') else None\n",
    "    \n",
    "    # Update is_big and is_small flags based on our size classes\n",
    "    merged_df.loc[merged_df['Label'] == label, 'is_big'] = merged_df.loc[merged_df['Label'] == label, 'lobster_size'] == 'big'\n",
    "    merged_df.loc[merged_df['Label'] == label, 'is_small'] = merged_df.loc[merged_df['Label'] == label, 'lobster_size'] == 'small'\n",
    "\n",
    "# Recalculate length difference after matching\n",
    "merged_df['length_diff'] = abs(merged_df['Length'] - merged_df['pixels_total_length'])\n",
    "\n",
    "\n",
    "\n",
    "close_matches = merged_df[merged_df['length_diff'] / merged_df['Length'] < threshold]\n",
    "\n",
    "# Sort by length difference to see best matches first\n",
    "close_matches = close_matches.sort_values('length_diff')\n",
    "\n",
    "# Display results\n",
    "print(f\"Found {len(close_matches)} matches where lengths are within {threshold*100}% difference\")\n",
    "display(close_matches)\n"
   ]
  },
  {
   "cell_type": "code",
   "execution_count": 5,
   "metadata": {},
   "outputs": [
    {
     "data": {
      "text/html": [
       "<div>\n",
       "<style scoped>\n",
       "    .dataframe tbody tr th:only-of-type {\n",
       "        vertical-align: middle;\n",
       "    }\n",
       "\n",
       "    .dataframe tbody tr th {\n",
       "        vertical-align: top;\n",
       "    }\n",
       "\n",
       "    .dataframe thead th {\n",
       "        text-align: right;\n",
       "    }\n",
       "</style>\n",
       "<table border=\"1\" class=\"dataframe\">\n",
       "  <thead>\n",
       "    <tr style=\"text-align: right;\">\n",
       "      <th></th>\n",
       "      <th>image_name</th>\n",
       "      <th>BX</th>\n",
       "      <th>BY</th>\n",
       "      <th>Width</th>\n",
       "      <th>Height</th>\n",
       "      <th>Length</th>\n",
       "      <th>lobster_size</th>\n",
       "      <th>total_length</th>\n",
       "      <th>pixels_total_length</th>\n",
       "      <th>length_diff</th>\n",
       "      <th>is_big</th>\n",
       "      <th>is_small</th>\n",
       "    </tr>\n",
       "  </thead>\n",
       "  <tbody>\n",
       "    <tr>\n",
       "      <th>48</th>\n",
       "      <td>undistorted_GX010191_37_1242</td>\n",
       "      <td>2764</td>\n",
       "      <td>948</td>\n",
       "      <td>221</td>\n",
       "      <td>685</td>\n",
       "      <td>718.510</td>\n",
       "      <td>small</td>\n",
       "      <td>139.2</td>\n",
       "      <td>719.0</td>\n",
       "      <td>0.490</td>\n",
       "      <td>False</td>\n",
       "      <td>True</td>\n",
       "    </tr>\n",
       "    <tr>\n",
       "      <th>2</th>\n",
       "      <td>undistorted_GX010191_8_309</td>\n",
       "      <td>2456</td>\n",
       "      <td>1376</td>\n",
       "      <td>733</td>\n",
       "      <td>297</td>\n",
       "      <td>789.582</td>\n",
       "      <td>small</td>\n",
       "      <td>154.8</td>\n",
       "      <td>790.1</td>\n",
       "      <td>0.518</td>\n",
       "      <td>False</td>\n",
       "      <td>True</td>\n",
       "    </tr>\n",
       "    <tr>\n",
       "      <th>24</th>\n",
       "      <td>undistorted_GX010191_32_305</td>\n",
       "      <td>2516</td>\n",
       "      <td>1328</td>\n",
       "      <td>741</td>\n",
       "      <td>277</td>\n",
       "      <td>789.795</td>\n",
       "      <td>small</td>\n",
       "      <td>154.2</td>\n",
       "      <td>786.3</td>\n",
       "      <td>3.495</td>\n",
       "      <td>False</td>\n",
       "      <td>True</td>\n",
       "    </tr>\n",
       "    <tr>\n",
       "      <th>97</th>\n",
       "      <td>undistorted_GX010193_11_1065</td>\n",
       "      <td>2152</td>\n",
       "      <td>1256</td>\n",
       "      <td>973</td>\n",
       "      <td>1445</td>\n",
       "      <td>1740.667</td>\n",
       "      <td>big</td>\n",
       "      <td>184.3</td>\n",
       "      <td>1745.4</td>\n",
       "      <td>4.733</td>\n",
       "      <td>False</td>\n",
       "      <td>False</td>\n",
       "    </tr>\n",
       "    <tr>\n",
       "      <th>75</th>\n",
       "      <td>undistorted_GX010191_100_1250</td>\n",
       "      <td>2776</td>\n",
       "      <td>1088</td>\n",
       "      <td>137</td>\n",
       "      <td>721</td>\n",
       "      <td>732.732</td>\n",
       "      <td>small</td>\n",
       "      <td>143.0</td>\n",
       "      <td>739.4</td>\n",
       "      <td>6.668</td>\n",
       "      <td>False</td>\n",
       "      <td>True</td>\n",
       "    </tr>\n",
       "    <tr>\n",
       "      <th>102</th>\n",
       "      <td>undistorted_GX010193_27_1553</td>\n",
       "      <td>1672</td>\n",
       "      <td>108</td>\n",
       "      <td>253</td>\n",
       "      <td>1749</td>\n",
       "      <td>1766.071</td>\n",
       "      <td>big</td>\n",
       "      <td>186.6</td>\n",
       "      <td>1774.1</td>\n",
       "      <td>8.029</td>\n",
       "      <td>True</td>\n",
       "      <td>False</td>\n",
       "    </tr>\n",
       "    <tr>\n",
       "      <th>114</th>\n",
       "      <td>undistorted_GX010194_39_513</td>\n",
       "      <td>2436</td>\n",
       "      <td>1320</td>\n",
       "      <td>33</td>\n",
       "      <td>1309</td>\n",
       "      <td>1308.391</td>\n",
       "      <td>small</td>\n",
       "      <td>144.1</td>\n",
       "      <td>1300.3</td>\n",
       "      <td>8.091</td>\n",
       "      <td>False</td>\n",
       "      <td>False</td>\n",
       "    </tr>\n",
       "    <tr>\n",
       "      <th>70</th>\n",
       "      <td>undistorted_GX010191_94_1132</td>\n",
       "      <td>3052</td>\n",
       "      <td>368</td>\n",
       "      <td>777</td>\n",
       "      <td>273</td>\n",
       "      <td>822.289</td>\n",
       "      <td>big</td>\n",
       "      <td>156.7</td>\n",
       "      <td>832.0</td>\n",
       "      <td>9.711</td>\n",
       "      <td>True</td>\n",
       "      <td>False</td>\n",
       "    </tr>\n",
       "    <tr>\n",
       "      <th>40</th>\n",
       "      <td>undistorted_GX010191_35_1167</td>\n",
       "      <td>2844</td>\n",
       "      <td>644</td>\n",
       "      <td>761</td>\n",
       "      <td>125</td>\n",
       "      <td>770.049</td>\n",
       "      <td>small</td>\n",
       "      <td>149.2</td>\n",
       "      <td>759.4</td>\n",
       "      <td>10.649</td>\n",
       "      <td>False</td>\n",
       "      <td>True</td>\n",
       "    </tr>\n",
       "    <tr>\n",
       "      <th>22</th>\n",
       "      <td>undistorted_GX010191_31_283</td>\n",
       "      <td>3776</td>\n",
       "      <td>1492</td>\n",
       "      <td>105</td>\n",
       "      <td>941</td>\n",
       "      <td>945.736</td>\n",
       "      <td>big</td>\n",
       "      <td>174.8</td>\n",
       "      <td>931.8</td>\n",
       "      <td>13.936</td>\n",
       "      <td>True</td>\n",
       "      <td>False</td>\n",
       "    </tr>\n",
       "    <tr>\n",
       "      <th>60</th>\n",
       "      <td>undistorted_GX010191_42_1339</td>\n",
       "      <td>3728</td>\n",
       "      <td>1880</td>\n",
       "      <td>597</td>\n",
       "      <td>417</td>\n",
       "      <td>726.823</td>\n",
       "      <td>small</td>\n",
       "      <td>138.2</td>\n",
       "      <td>708.1</td>\n",
       "      <td>18.723</td>\n",
       "      <td>False</td>\n",
       "      <td>True</td>\n",
       "    </tr>\n",
       "    <tr>\n",
       "      <th>37</th>\n",
       "      <td>undistorted_GX010191_35_367</td>\n",
       "      <td>4092</td>\n",
       "      <td>1392</td>\n",
       "      <td>793</td>\n",
       "      <td>481</td>\n",
       "      <td>926.102</td>\n",
       "      <td>big</td>\n",
       "      <td>171.6</td>\n",
       "      <td>905.3</td>\n",
       "      <td>20.802</td>\n",
       "      <td>True</td>\n",
       "      <td>False</td>\n",
       "    </tr>\n",
       "    <tr>\n",
       "      <th>18</th>\n",
       "      <td>undistorted_GX010191_28_230</td>\n",
       "      <td>2348</td>\n",
       "      <td>240</td>\n",
       "      <td>725</td>\n",
       "      <td>345</td>\n",
       "      <td>801.568</td>\n",
       "      <td>small</td>\n",
       "      <td>152.7</td>\n",
       "      <td>778.6</td>\n",
       "      <td>22.968</td>\n",
       "      <td>False</td>\n",
       "      <td>True</td>\n",
       "    </tr>\n",
       "    <tr>\n",
       "      <th>29</th>\n",
       "      <td>undistorted_GX010191_34_350</td>\n",
       "      <td>4072</td>\n",
       "      <td>1652</td>\n",
       "      <td>601</td>\n",
       "      <td>741</td>\n",
       "      <td>952.680</td>\n",
       "      <td>big</td>\n",
       "      <td>175.4</td>\n",
       "      <td>928.9</td>\n",
       "      <td>23.780</td>\n",
       "      <td>True</td>\n",
       "      <td>False</td>\n",
       "    </tr>\n",
       "    <tr>\n",
       "      <th>68</th>\n",
       "      <td>undistorted_GX010191_88_1016</td>\n",
       "      <td>3104</td>\n",
       "      <td>12</td>\n",
       "      <td>265</td>\n",
       "      <td>1005</td>\n",
       "      <td>1038.129</td>\n",
       "      <td>big</td>\n",
       "      <td>190.4</td>\n",
       "      <td>1014.3</td>\n",
       "      <td>23.829</td>\n",
       "      <td>False</td>\n",
       "      <td>False</td>\n",
       "    </tr>\n",
       "    <tr>\n",
       "      <th>16</th>\n",
       "      <td>undistorted_GX010191_17_509</td>\n",
       "      <td>4500</td>\n",
       "      <td>2340</td>\n",
       "      <td>473</td>\n",
       "      <td>525</td>\n",
       "      <td>705.238</td>\n",
       "      <td>small</td>\n",
       "      <td>142.3</td>\n",
       "      <td>730.9</td>\n",
       "      <td>25.662</td>\n",
       "      <td>False</td>\n",
       "      <td>True</td>\n",
       "    </tr>\n",
       "    <tr>\n",
       "      <th>83</th>\n",
       "      <td>undistorted_GX010191_105_1312</td>\n",
       "      <td>2920</td>\n",
       "      <td>2156</td>\n",
       "      <td>685</td>\n",
       "      <td>121</td>\n",
       "      <td>694.447</td>\n",
       "      <td>small</td>\n",
       "      <td>141.4</td>\n",
       "      <td>720.3</td>\n",
       "      <td>25.853</td>\n",
       "      <td>False</td>\n",
       "      <td>True</td>\n",
       "    </tr>\n",
       "    <tr>\n",
       "      <th>49</th>\n",
       "      <td>undistorted_GX010191_37_1242</td>\n",
       "      <td>3780</td>\n",
       "      <td>608</td>\n",
       "      <td>869</td>\n",
       "      <td>461</td>\n",
       "      <td>982.356</td>\n",
       "      <td>big</td>\n",
       "      <td>181.3</td>\n",
       "      <td>956.2</td>\n",
       "      <td>26.156</td>\n",
       "      <td>True</td>\n",
       "      <td>False</td>\n",
       "    </tr>\n",
       "    <tr>\n",
       "      <th>44</th>\n",
       "      <td>undistorted_GX010191_36_1195</td>\n",
       "      <td>2872</td>\n",
       "      <td>548</td>\n",
       "      <td>589</td>\n",
       "      <td>497</td>\n",
       "      <td>769.259</td>\n",
       "      <td>small</td>\n",
       "      <td>144.8</td>\n",
       "      <td>740.6</td>\n",
       "      <td>28.659</td>\n",
       "      <td>False</td>\n",
       "      <td>True</td>\n",
       "    </tr>\n",
       "    <tr>\n",
       "      <th>64</th>\n",
       "      <td>undistorted_GX010191_47_507</td>\n",
       "      <td>3184</td>\n",
       "      <td>2032</td>\n",
       "      <td>457</td>\n",
       "      <td>745</td>\n",
       "      <td>872.624</td>\n",
       "      <td>big</td>\n",
       "      <td>170.3</td>\n",
       "      <td>905.0</td>\n",
       "      <td>32.376</td>\n",
       "      <td>True</td>\n",
       "      <td>False</td>\n",
       "    </tr>\n",
       "    <tr>\n",
       "      <th>98</th>\n",
       "      <td>undistorted_GX010193_18_1289</td>\n",
       "      <td>2068</td>\n",
       "      <td>552</td>\n",
       "      <td>521</td>\n",
       "      <td>1249</td>\n",
       "      <td>1352.000</td>\n",
       "      <td>small</td>\n",
       "      <td>145.8</td>\n",
       "      <td>1312.1</td>\n",
       "      <td>39.900</td>\n",
       "      <td>False</td>\n",
       "      <td>False</td>\n",
       "    </tr>\n",
       "    <tr>\n",
       "      <th>89</th>\n",
       "      <td>undistorted_GX010191_114_1383</td>\n",
       "      <td>4616</td>\n",
       "      <td>104</td>\n",
       "      <td>261</td>\n",
       "      <td>773</td>\n",
       "      <td>814.607</td>\n",
       "      <td>small</td>\n",
       "      <td>149.5</td>\n",
       "      <td>772.3</td>\n",
       "      <td>42.307</td>\n",
       "      <td>False</td>\n",
       "      <td>True</td>\n",
       "    </tr>\n",
       "    <tr>\n",
       "      <th>3</th>\n",
       "      <td>undistorted_GX010191_8_309</td>\n",
       "      <td>3860</td>\n",
       "      <td>1736</td>\n",
       "      <td>157</td>\n",
       "      <td>901</td>\n",
       "      <td>913.420</td>\n",
       "      <td>big</td>\n",
       "      <td>179.7</td>\n",
       "      <td>958.2</td>\n",
       "      <td>44.780</td>\n",
       "      <td>True</td>\n",
       "      <td>False</td>\n",
       "    </tr>\n",
       "    <tr>\n",
       "      <th>28</th>\n",
       "      <td>undistorted_GX010191_34_350</td>\n",
       "      <td>2796</td>\n",
       "      <td>1692</td>\n",
       "      <td>489</td>\n",
       "      <td>533</td>\n",
       "      <td>721.920</td>\n",
       "      <td>small</td>\n",
       "      <td>149.3</td>\n",
       "      <td>766.8</td>\n",
       "      <td>44.880</td>\n",
       "      <td>False</td>\n",
       "      <td>True</td>\n",
       "    </tr>\n",
       "    <tr>\n",
       "      <th>36</th>\n",
       "      <td>undistorted_GX010191_35_367</td>\n",
       "      <td>3064</td>\n",
       "      <td>1704</td>\n",
       "      <td>253</td>\n",
       "      <td>661</td>\n",
       "      <td>706.473</td>\n",
       "      <td>small</td>\n",
       "      <td>146.1</td>\n",
       "      <td>752.7</td>\n",
       "      <td>46.227</td>\n",
       "      <td>False</td>\n",
       "      <td>True</td>\n",
       "    </tr>\n",
       "    <tr>\n",
       "      <th>19</th>\n",
       "      <td>undistorted_GX010191_28_230</td>\n",
       "      <td>3828</td>\n",
       "      <td>660</td>\n",
       "      <td>181</td>\n",
       "      <td>1009</td>\n",
       "      <td>1023.945</td>\n",
       "      <td>big</td>\n",
       "      <td>201.1</td>\n",
       "      <td>1072.3</td>\n",
       "      <td>48.355</td>\n",
       "      <td>True</td>\n",
       "      <td>False</td>\n",
       "    </tr>\n",
       "    <tr>\n",
       "      <th>33</th>\n",
       "      <td>undistorted_GX010191_34_1128</td>\n",
       "      <td>3404</td>\n",
       "      <td>1416</td>\n",
       "      <td>561</td>\n",
       "      <td>769</td>\n",
       "      <td>950.486</td>\n",
       "      <td>big</td>\n",
       "      <td>169.7</td>\n",
       "      <td>900.2</td>\n",
       "      <td>50.286</td>\n",
       "      <td>True</td>\n",
       "      <td>False</td>\n",
       "    </tr>\n",
       "    <tr>\n",
       "      <th>51</th>\n",
       "      <td>undistorted_GX010191_38_1266</td>\n",
       "      <td>2768</td>\n",
       "      <td>1296</td>\n",
       "      <td>77</td>\n",
       "      <td>713</td>\n",
       "      <td>716.045</td>\n",
       "      <td>small</td>\n",
       "      <td>150.7</td>\n",
       "      <td>767.3</td>\n",
       "      <td>51.255</td>\n",
       "      <td>False</td>\n",
       "      <td>True</td>\n",
       "    </tr>\n",
       "    <tr>\n",
       "      <th>13</th>\n",
       "      <td>undistorted_GX010191_17_509</td>\n",
       "      <td>3220</td>\n",
       "      <td>2060</td>\n",
       "      <td>477</td>\n",
       "      <td>737</td>\n",
       "      <td>876.511</td>\n",
       "      <td>big</td>\n",
       "      <td>174.9</td>\n",
       "      <td>928.0</td>\n",
       "      <td>51.489</td>\n",
       "      <td>True</td>\n",
       "      <td>False</td>\n",
       "    </tr>\n",
       "    <tr>\n",
       "      <th>53</th>\n",
       "      <td>undistorted_GX010191_41_1322</td>\n",
       "      <td>2628</td>\n",
       "      <td>764</td>\n",
       "      <td>117</td>\n",
       "      <td>953</td>\n",
       "      <td>959.041</td>\n",
       "      <td>big</td>\n",
       "      <td>169.0</td>\n",
       "      <td>901.2</td>\n",
       "      <td>57.841</td>\n",
       "      <td>True</td>\n",
       "      <td>False</td>\n",
       "    </tr>\n",
       "    <tr>\n",
       "      <th>57</th>\n",
       "      <td>undistorted_GX010191_42_1339</td>\n",
       "      <td>2600</td>\n",
       "      <td>1208</td>\n",
       "      <td>345</td>\n",
       "      <td>881</td>\n",
       "      <td>944.847</td>\n",
       "      <td>big</td>\n",
       "      <td>166.6</td>\n",
       "      <td>886.4</td>\n",
       "      <td>58.447</td>\n",
       "      <td>True</td>\n",
       "      <td>False</td>\n",
       "    </tr>\n",
       "    <tr>\n",
       "      <th>45</th>\n",
       "      <td>undistorted_GX010191_36_1195</td>\n",
       "      <td>4312</td>\n",
       "      <td>720</td>\n",
       "      <td>437</td>\n",
       "      <td>881</td>\n",
       "      <td>982.088</td>\n",
       "      <td>big</td>\n",
       "      <td>172.9</td>\n",
       "      <td>920.0</td>\n",
       "      <td>62.088</td>\n",
       "      <td>True</td>\n",
       "      <td>False</td>\n",
       "    </tr>\n",
       "    <tr>\n",
       "      <th>61</th>\n",
       "      <td>undistorted_GX010191_43_1353</td>\n",
       "      <td>2724</td>\n",
       "      <td>1548</td>\n",
       "      <td>693</td>\n",
       "      <td>625</td>\n",
       "      <td>931.794</td>\n",
       "      <td>big</td>\n",
       "      <td>164.2</td>\n",
       "      <td>867.4</td>\n",
       "      <td>64.394</td>\n",
       "      <td>True</td>\n",
       "      <td>False</td>\n",
       "    </tr>\n",
       "    <tr>\n",
       "      <th>5</th>\n",
       "      <td>undistorted_GX010191_10_370</td>\n",
       "      <td>3092</td>\n",
       "      <td>1716</td>\n",
       "      <td>245</td>\n",
       "      <td>653</td>\n",
       "      <td>696.161</td>\n",
       "      <td>small</td>\n",
       "      <td>149.0</td>\n",
       "      <td>762.6</td>\n",
       "      <td>66.439</td>\n",
       "      <td>False</td>\n",
       "      <td>True</td>\n",
       "    </tr>\n",
       "    <tr>\n",
       "      <th>80</th>\n",
       "      <td>undistorted_GX010191_105_1312</td>\n",
       "      <td>2528</td>\n",
       "      <td>536</td>\n",
       "      <td>393</td>\n",
       "      <td>913</td>\n",
       "      <td>992.677</td>\n",
       "      <td>big</td>\n",
       "      <td>174.2</td>\n",
       "      <td>924.6</td>\n",
       "      <td>68.077</td>\n",
       "      <td>True</td>\n",
       "      <td>False</td>\n",
       "    </tr>\n",
       "    <tr>\n",
       "      <th>95</th>\n",
       "      <td>undistorted_GX010192_26_1578</td>\n",
       "      <td>2128</td>\n",
       "      <td>1296</td>\n",
       "      <td>361</td>\n",
       "      <td>1277</td>\n",
       "      <td>1325.811</td>\n",
       "      <td>small</td>\n",
       "      <td>139.5</td>\n",
       "      <td>1257.0</td>\n",
       "      <td>68.811</td>\n",
       "      <td>False</td>\n",
       "      <td>True</td>\n",
       "    </tr>\n",
       "    <tr>\n",
       "      <th>85</th>\n",
       "      <td>undistorted_GX010191_106_1320</td>\n",
       "      <td>3092</td>\n",
       "      <td>2220</td>\n",
       "      <td>733</td>\n",
       "      <td>29</td>\n",
       "      <td>732.535</td>\n",
       "      <td>small</td>\n",
       "      <td>155.0</td>\n",
       "      <td>801.8</td>\n",
       "      <td>69.265</td>\n",
       "      <td>False</td>\n",
       "      <td>True</td>\n",
       "    </tr>\n",
       "    <tr>\n",
       "      <th>86</th>\n",
       "      <td>undistorted_GX010191_110_1355</td>\n",
       "      <td>2728</td>\n",
       "      <td>1592</td>\n",
       "      <td>729</td>\n",
       "      <td>577</td>\n",
       "      <td>928.310</td>\n",
       "      <td>big</td>\n",
       "      <td>162.4</td>\n",
       "      <td>857.3</td>\n",
       "      <td>71.010</td>\n",
       "      <td>True</td>\n",
       "      <td>False</td>\n",
       "    </tr>\n",
       "    <tr>\n",
       "      <th>25</th>\n",
       "      <td>undistorted_GX010191_32_305</td>\n",
       "      <td>3908</td>\n",
       "      <td>1728</td>\n",
       "      <td>173</td>\n",
       "      <td>933</td>\n",
       "      <td>947.738</td>\n",
       "      <td>big</td>\n",
       "      <td>191.5</td>\n",
       "      <td>1020.8</td>\n",
       "      <td>73.062</td>\n",
       "      <td>True</td>\n",
       "      <td>False</td>\n",
       "    </tr>\n",
       "    <tr>\n",
       "      <th>8</th>\n",
       "      <td>undistorted_GX010191_14_460</td>\n",
       "      <td>3536</td>\n",
       "      <td>2224</td>\n",
       "      <td>793</td>\n",
       "      <td>5</td>\n",
       "      <td>792.010</td>\n",
       "      <td>big</td>\n",
       "      <td>162.5</td>\n",
       "      <td>865.9</td>\n",
       "      <td>73.890</td>\n",
       "      <td>True</td>\n",
       "      <td>False</td>\n",
       "    </tr>\n",
       "    <tr>\n",
       "      <th>110</th>\n",
       "      <td>undistorted_GX010194_7_885</td>\n",
       "      <td>1836</td>\n",
       "      <td>252</td>\n",
       "      <td>661</td>\n",
       "      <td>1141</td>\n",
       "      <td>1317.270</td>\n",
       "      <td>small</td>\n",
       "      <td>154.7</td>\n",
       "      <td>1391.6</td>\n",
       "      <td>74.330</td>\n",
       "      <td>False</td>\n",
       "      <td>True</td>\n",
       "    </tr>\n",
       "    <tr>\n",
       "      <th>11</th>\n",
       "      <td>undistorted_GX010191_16_495</td>\n",
       "      <td>3032</td>\n",
       "      <td>1736</td>\n",
       "      <td>261</td>\n",
       "      <td>877</td>\n",
       "      <td>913.770</td>\n",
       "      <td>big</td>\n",
       "      <td>157.0</td>\n",
       "      <td>835.8</td>\n",
       "      <td>77.970</td>\n",
       "      <td>True</td>\n",
       "      <td>False</td>\n",
       "    </tr>\n",
       "    <tr>\n",
       "      <th>92</th>\n",
       "      <td>undistorted_GX010192_26_1578</td>\n",
       "      <td>3392</td>\n",
       "      <td>204</td>\n",
       "      <td>729</td>\n",
       "      <td>1557</td>\n",
       "      <td>1717.882</td>\n",
       "      <td>big</td>\n",
       "      <td>172.9</td>\n",
       "      <td>1639.2</td>\n",
       "      <td>78.682</td>\n",
       "      <td>True</td>\n",
       "      <td>False</td>\n",
       "    </tr>\n",
       "    <tr>\n",
       "      <th>106</th>\n",
       "      <td>undistorted_GX010193_28_1584</td>\n",
       "      <td>2612</td>\n",
       "      <td>108</td>\n",
       "      <td>553</td>\n",
       "      <td>1257</td>\n",
       "      <td>1371.948</td>\n",
       "      <td>small</td>\n",
       "      <td>143.6</td>\n",
       "      <td>1292.7</td>\n",
       "      <td>79.248</td>\n",
       "      <td>False</td>\n",
       "      <td>True</td>\n",
       "    </tr>\n",
       "    <tr>\n",
       "      <th>9</th>\n",
       "      <td>undistorted_GX010191_15_479</td>\n",
       "      <td>3064</td>\n",
       "      <td>1248</td>\n",
       "      <td>5</td>\n",
       "      <td>933</td>\n",
       "      <td>932.009</td>\n",
       "      <td>big</td>\n",
       "      <td>159.4</td>\n",
       "      <td>850.2</td>\n",
       "      <td>81.809</td>\n",
       "      <td>True</td>\n",
       "      <td>False</td>\n",
       "    </tr>\n",
       "    <tr>\n",
       "      <th>112</th>\n",
       "      <td>undistorted_GX010194_19_285</td>\n",
       "      <td>1584</td>\n",
       "      <td>1032</td>\n",
       "      <td>717</td>\n",
       "      <td>1061</td>\n",
       "      <td>1279.162</td>\n",
       "      <td>small</td>\n",
       "      <td>133.1</td>\n",
       "      <td>1194.4</td>\n",
       "      <td>84.762</td>\n",
       "      <td>False</td>\n",
       "      <td>False</td>\n",
       "    </tr>\n",
       "    <tr>\n",
       "      <th>90</th>\n",
       "      <td>undistorted_GX010191_117_1408</td>\n",
       "      <td>3760</td>\n",
       "      <td>560</td>\n",
       "      <td>677</td>\n",
       "      <td>709</td>\n",
       "      <td>978.897</td>\n",
       "      <td>big</td>\n",
       "      <td>168.9</td>\n",
       "      <td>893.4</td>\n",
       "      <td>85.497</td>\n",
       "      <td>False</td>\n",
       "      <td>False</td>\n",
       "    </tr>\n",
       "    <tr>\n",
       "      <th>65</th>\n",
       "      <td>undistorted_GX010191_47_507</td>\n",
       "      <td>3184</td>\n",
       "      <td>2032</td>\n",
       "      <td>457</td>\n",
       "      <td>745</td>\n",
       "      <td>872.624</td>\n",
       "      <td>small</td>\n",
       "      <td>153.4</td>\n",
       "      <td>786.9</td>\n",
       "      <td>85.724</td>\n",
       "      <td>False</td>\n",
       "      <td>True</td>\n",
       "    </tr>\n",
       "    <tr>\n",
       "      <th>113</th>\n",
       "      <td>undistorted_GX010194_26_373</td>\n",
       "      <td>1072</td>\n",
       "      <td>1548</td>\n",
       "      <td>1053</td>\n",
       "      <td>613</td>\n",
       "      <td>1217.065</td>\n",
       "      <td>small</td>\n",
       "      <td>126.4</td>\n",
       "      <td>1126.2</td>\n",
       "      <td>90.865</td>\n",
       "      <td>False</td>\n",
       "      <td>False</td>\n",
       "    </tr>\n",
       "    <tr>\n",
       "      <th>99</th>\n",
       "      <td>undistorted_GX010193_19_1334</td>\n",
       "      <td>1032</td>\n",
       "      <td>752</td>\n",
       "      <td>1045</td>\n",
       "      <td>781</td>\n",
       "      <td>1303.202</td>\n",
       "      <td>small</td>\n",
       "      <td>134.3</td>\n",
       "      <td>1199.6</td>\n",
       "      <td>103.602</td>\n",
       "      <td>False</td>\n",
       "      <td>True</td>\n",
       "    </tr>\n",
       "    <tr>\n",
       "      <th>101</th>\n",
       "      <td>undistorted_GX010193_20_1365</td>\n",
       "      <td>124</td>\n",
       "      <td>1364</td>\n",
       "      <td>1177</td>\n",
       "      <td>169</td>\n",
       "      <td>1187.939</td>\n",
       "      <td>small</td>\n",
       "      <td>120.6</td>\n",
       "      <td>1070.7</td>\n",
       "      <td>117.239</td>\n",
       "      <td>False</td>\n",
       "      <td>False</td>\n",
       "    </tr>\n",
       "  </tbody>\n",
       "</table>\n",
       "</div>"
      ],
      "text/plain": [
       "                        image_name    BX    BY  Width  Height    Length  \\\n",
       "48    undistorted_GX010191_37_1242  2764   948    221     685   718.510   \n",
       "2       undistorted_GX010191_8_309  2456  1376    733     297   789.582   \n",
       "24     undistorted_GX010191_32_305  2516  1328    741     277   789.795   \n",
       "97    undistorted_GX010193_11_1065  2152  1256    973    1445  1740.667   \n",
       "75   undistorted_GX010191_100_1250  2776  1088    137     721   732.732   \n",
       "102   undistorted_GX010193_27_1553  1672   108    253    1749  1766.071   \n",
       "114    undistorted_GX010194_39_513  2436  1320     33    1309  1308.391   \n",
       "70    undistorted_GX010191_94_1132  3052   368    777     273   822.289   \n",
       "40    undistorted_GX010191_35_1167  2844   644    761     125   770.049   \n",
       "22     undistorted_GX010191_31_283  3776  1492    105     941   945.736   \n",
       "60    undistorted_GX010191_42_1339  3728  1880    597     417   726.823   \n",
       "37     undistorted_GX010191_35_367  4092  1392    793     481   926.102   \n",
       "18     undistorted_GX010191_28_230  2348   240    725     345   801.568   \n",
       "29     undistorted_GX010191_34_350  4072  1652    601     741   952.680   \n",
       "68    undistorted_GX010191_88_1016  3104    12    265    1005  1038.129   \n",
       "16     undistorted_GX010191_17_509  4500  2340    473     525   705.238   \n",
       "83   undistorted_GX010191_105_1312  2920  2156    685     121   694.447   \n",
       "49    undistorted_GX010191_37_1242  3780   608    869     461   982.356   \n",
       "44    undistorted_GX010191_36_1195  2872   548    589     497   769.259   \n",
       "64     undistorted_GX010191_47_507  3184  2032    457     745   872.624   \n",
       "98    undistorted_GX010193_18_1289  2068   552    521    1249  1352.000   \n",
       "89   undistorted_GX010191_114_1383  4616   104    261     773   814.607   \n",
       "3       undistorted_GX010191_8_309  3860  1736    157     901   913.420   \n",
       "28     undistorted_GX010191_34_350  2796  1692    489     533   721.920   \n",
       "36     undistorted_GX010191_35_367  3064  1704    253     661   706.473   \n",
       "19     undistorted_GX010191_28_230  3828   660    181    1009  1023.945   \n",
       "33    undistorted_GX010191_34_1128  3404  1416    561     769   950.486   \n",
       "51    undistorted_GX010191_38_1266  2768  1296     77     713   716.045   \n",
       "13     undistorted_GX010191_17_509  3220  2060    477     737   876.511   \n",
       "53    undistorted_GX010191_41_1322  2628   764    117     953   959.041   \n",
       "57    undistorted_GX010191_42_1339  2600  1208    345     881   944.847   \n",
       "45    undistorted_GX010191_36_1195  4312   720    437     881   982.088   \n",
       "61    undistorted_GX010191_43_1353  2724  1548    693     625   931.794   \n",
       "5      undistorted_GX010191_10_370  3092  1716    245     653   696.161   \n",
       "80   undistorted_GX010191_105_1312  2528   536    393     913   992.677   \n",
       "95    undistorted_GX010192_26_1578  2128  1296    361    1277  1325.811   \n",
       "85   undistorted_GX010191_106_1320  3092  2220    733      29   732.535   \n",
       "86   undistorted_GX010191_110_1355  2728  1592    729     577   928.310   \n",
       "25     undistorted_GX010191_32_305  3908  1728    173     933   947.738   \n",
       "8      undistorted_GX010191_14_460  3536  2224    793       5   792.010   \n",
       "110     undistorted_GX010194_7_885  1836   252    661    1141  1317.270   \n",
       "11     undistorted_GX010191_16_495  3032  1736    261     877   913.770   \n",
       "92    undistorted_GX010192_26_1578  3392   204    729    1557  1717.882   \n",
       "106   undistorted_GX010193_28_1584  2612   108    553    1257  1371.948   \n",
       "9      undistorted_GX010191_15_479  3064  1248      5     933   932.009   \n",
       "112    undistorted_GX010194_19_285  1584  1032    717    1061  1279.162   \n",
       "90   undistorted_GX010191_117_1408  3760   560    677     709   978.897   \n",
       "65     undistorted_GX010191_47_507  3184  2032    457     745   872.624   \n",
       "113    undistorted_GX010194_26_373  1072  1548   1053     613  1217.065   \n",
       "99    undistorted_GX010193_19_1334  1032   752   1045     781  1303.202   \n",
       "101   undistorted_GX010193_20_1365   124  1364   1177     169  1187.939   \n",
       "\n",
       "    lobster_size  total_length  pixels_total_length  length_diff  is_big  \\\n",
       "48         small         139.2                719.0        0.490   False   \n",
       "2          small         154.8                790.1        0.518   False   \n",
       "24         small         154.2                786.3        3.495   False   \n",
       "97           big         184.3               1745.4        4.733   False   \n",
       "75         small         143.0                739.4        6.668   False   \n",
       "102          big         186.6               1774.1        8.029    True   \n",
       "114        small         144.1               1300.3        8.091   False   \n",
       "70           big         156.7                832.0        9.711    True   \n",
       "40         small         149.2                759.4       10.649   False   \n",
       "22           big         174.8                931.8       13.936    True   \n",
       "60         small         138.2                708.1       18.723   False   \n",
       "37           big         171.6                905.3       20.802    True   \n",
       "18         small         152.7                778.6       22.968   False   \n",
       "29           big         175.4                928.9       23.780    True   \n",
       "68           big         190.4               1014.3       23.829   False   \n",
       "16         small         142.3                730.9       25.662   False   \n",
       "83         small         141.4                720.3       25.853   False   \n",
       "49           big         181.3                956.2       26.156    True   \n",
       "44         small         144.8                740.6       28.659   False   \n",
       "64           big         170.3                905.0       32.376    True   \n",
       "98         small         145.8               1312.1       39.900   False   \n",
       "89         small         149.5                772.3       42.307   False   \n",
       "3            big         179.7                958.2       44.780    True   \n",
       "28         small         149.3                766.8       44.880   False   \n",
       "36         small         146.1                752.7       46.227   False   \n",
       "19           big         201.1               1072.3       48.355    True   \n",
       "33           big         169.7                900.2       50.286    True   \n",
       "51         small         150.7                767.3       51.255   False   \n",
       "13           big         174.9                928.0       51.489    True   \n",
       "53           big         169.0                901.2       57.841    True   \n",
       "57           big         166.6                886.4       58.447    True   \n",
       "45           big         172.9                920.0       62.088    True   \n",
       "61           big         164.2                867.4       64.394    True   \n",
       "5          small         149.0                762.6       66.439   False   \n",
       "80           big         174.2                924.6       68.077    True   \n",
       "95         small         139.5               1257.0       68.811   False   \n",
       "85         small         155.0                801.8       69.265   False   \n",
       "86           big         162.4                857.3       71.010    True   \n",
       "25           big         191.5               1020.8       73.062    True   \n",
       "8            big         162.5                865.9       73.890    True   \n",
       "110        small         154.7               1391.6       74.330   False   \n",
       "11           big         157.0                835.8       77.970    True   \n",
       "92           big         172.9               1639.2       78.682    True   \n",
       "106        small         143.6               1292.7       79.248   False   \n",
       "9            big         159.4                850.2       81.809    True   \n",
       "112        small         133.1               1194.4       84.762   False   \n",
       "90           big         168.9                893.4       85.497   False   \n",
       "65         small         153.4                786.9       85.724   False   \n",
       "113        small         126.4               1126.2       90.865   False   \n",
       "99         small         134.3               1199.6      103.602   False   \n",
       "101        small         120.6               1070.7      117.239   False   \n",
       "\n",
       "     is_small  \n",
       "48       True  \n",
       "2        True  \n",
       "24       True  \n",
       "97      False  \n",
       "75       True  \n",
       "102     False  \n",
       "114     False  \n",
       "70      False  \n",
       "40       True  \n",
       "22      False  \n",
       "60       True  \n",
       "37      False  \n",
       "18       True  \n",
       "29      False  \n",
       "68      False  \n",
       "16       True  \n",
       "83       True  \n",
       "49      False  \n",
       "44       True  \n",
       "64      False  \n",
       "98      False  \n",
       "89       True  \n",
       "3       False  \n",
       "28       True  \n",
       "36       True  \n",
       "19      False  \n",
       "33      False  \n",
       "51       True  \n",
       "13      False  \n",
       "53      False  \n",
       "57      False  \n",
       "45      False  \n",
       "61      False  \n",
       "5        True  \n",
       "80      False  \n",
       "95       True  \n",
       "85       True  \n",
       "86      False  \n",
       "25      False  \n",
       "8       False  \n",
       "110      True  \n",
       "11      False  \n",
       "92      False  \n",
       "106      True  \n",
       "9       False  \n",
       "112     False  \n",
       "90      False  \n",
       "65       True  \n",
       "113     False  \n",
       "99       True  \n",
       "101     False  "
      ]
     },
     "metadata": {},
     "output_type": "display_data"
    }
   ],
   "source": [
    "# Select only the specified columns\n",
    "selected_columns = ['image_name', 'BX', 'BY', 'Width', 'Height', 'Length', \n",
    "                   'lobster_size', 'total_length', 'pixels_total_length', 'length_diff','is_big','is_small']\n",
    "\n",
    "new_df = close_matches[selected_columns]\n",
    "\n",
    "# Display filtered results\n",
    "display(new_df)\n"
   ]
  },
  {
   "cell_type": "code",
   "execution_count": 6,
   "metadata": {},
   "outputs": [
    {
     "name": "stderr",
     "output_type": "stream",
     "text": [
      "/var/folders/9w/y40_ws0n1_n_hby5lpbrj1_m0000gn/T/ipykernel_2379/2314326851.py:2: SettingWithCopyWarning: \n",
      "A value is trying to be set on a copy of a slice from a DataFrame.\n",
      "Try using .loc[row_indexer,col_indexer] = value instead\n",
      "\n",
      "See the caveats in the documentation: https://pandas.pydata.org/pandas-docs/stable/user_guide/indexing.html#returning-a-view-versus-a-copy\n",
      "  new_df['real_length'] = new_df['lobster_size'].map({'small': 145, 'big': 180})\n",
      "/var/folders/9w/y40_ws0n1_n_hby5lpbrj1_m0000gn/T/ipykernel_2379/2314326851.py:5: SettingWithCopyWarning: \n",
      "A value is trying to be set on a copy of a slice from a DataFrame.\n",
      "Try using .loc[row_indexer,col_indexer] = value instead\n",
      "\n",
      "See the caveats in the documentation: https://pandas.pydata.org/pandas-docs/stable/user_guide/indexing.html#returning-a-view-versus-a-copy\n",
      "  new_df['real_length_abs_diff'] = abs(new_df['total_length'] - new_df['real_length'])\n",
      "/var/folders/9w/y40_ws0n1_n_hby5lpbrj1_m0000gn/T/ipykernel_2379/2314326851.py:8: SettingWithCopyWarning: \n",
      "A value is trying to be set on a copy of a slice from a DataFrame.\n",
      "Try using .loc[row_indexer,col_indexer] = value instead\n",
      "\n",
      "See the caveats in the documentation: https://pandas.pydata.org/pandas-docs/stable/user_guide/indexing.html#returning-a-view-versus-a-copy\n",
      "  new_df['real_length_rel_diff'] = (new_df['real_length_abs_diff'] / new_df['real_length']) * 100\n"
     ]
    },
    {
     "data": {
      "text/html": [
       "<div>\n",
       "<style scoped>\n",
       "    .dataframe tbody tr th:only-of-type {\n",
       "        vertical-align: middle;\n",
       "    }\n",
       "\n",
       "    .dataframe tbody tr th {\n",
       "        vertical-align: top;\n",
       "    }\n",
       "\n",
       "    .dataframe thead th {\n",
       "        text-align: right;\n",
       "    }\n",
       "</style>\n",
       "<table border=\"1\" class=\"dataframe\">\n",
       "  <thead>\n",
       "    <tr style=\"text-align: right;\">\n",
       "      <th></th>\n",
       "      <th>image_name</th>\n",
       "      <th>BX</th>\n",
       "      <th>BY</th>\n",
       "      <th>Width</th>\n",
       "      <th>Height</th>\n",
       "      <th>Length</th>\n",
       "      <th>lobster_size</th>\n",
       "      <th>total_length</th>\n",
       "      <th>pixels_total_length</th>\n",
       "      <th>length_diff</th>\n",
       "      <th>is_big</th>\n",
       "      <th>is_small</th>\n",
       "      <th>real_length</th>\n",
       "      <th>real_length_abs_diff</th>\n",
       "      <th>real_length_rel_diff</th>\n",
       "    </tr>\n",
       "  </thead>\n",
       "  <tbody>\n",
       "    <tr>\n",
       "      <th>48</th>\n",
       "      <td>undistorted_GX010191_37_1242</td>\n",
       "      <td>2764</td>\n",
       "      <td>948</td>\n",
       "      <td>221</td>\n",
       "      <td>685</td>\n",
       "      <td>718.510</td>\n",
       "      <td>small</td>\n",
       "      <td>139.2</td>\n",
       "      <td>719.0</td>\n",
       "      <td>0.490</td>\n",
       "      <td>False</td>\n",
       "      <td>True</td>\n",
       "      <td>145</td>\n",
       "      <td>5.8</td>\n",
       "      <td>4.000000</td>\n",
       "    </tr>\n",
       "    <tr>\n",
       "      <th>2</th>\n",
       "      <td>undistorted_GX010191_8_309</td>\n",
       "      <td>2456</td>\n",
       "      <td>1376</td>\n",
       "      <td>733</td>\n",
       "      <td>297</td>\n",
       "      <td>789.582</td>\n",
       "      <td>small</td>\n",
       "      <td>154.8</td>\n",
       "      <td>790.1</td>\n",
       "      <td>0.518</td>\n",
       "      <td>False</td>\n",
       "      <td>True</td>\n",
       "      <td>145</td>\n",
       "      <td>9.8</td>\n",
       "      <td>6.758621</td>\n",
       "    </tr>\n",
       "    <tr>\n",
       "      <th>24</th>\n",
       "      <td>undistorted_GX010191_32_305</td>\n",
       "      <td>2516</td>\n",
       "      <td>1328</td>\n",
       "      <td>741</td>\n",
       "      <td>277</td>\n",
       "      <td>789.795</td>\n",
       "      <td>small</td>\n",
       "      <td>154.2</td>\n",
       "      <td>786.3</td>\n",
       "      <td>3.495</td>\n",
       "      <td>False</td>\n",
       "      <td>True</td>\n",
       "      <td>145</td>\n",
       "      <td>9.2</td>\n",
       "      <td>6.344828</td>\n",
       "    </tr>\n",
       "    <tr>\n",
       "      <th>97</th>\n",
       "      <td>undistorted_GX010193_11_1065</td>\n",
       "      <td>2152</td>\n",
       "      <td>1256</td>\n",
       "      <td>973</td>\n",
       "      <td>1445</td>\n",
       "      <td>1740.667</td>\n",
       "      <td>big</td>\n",
       "      <td>184.3</td>\n",
       "      <td>1745.4</td>\n",
       "      <td>4.733</td>\n",
       "      <td>False</td>\n",
       "      <td>False</td>\n",
       "      <td>180</td>\n",
       "      <td>4.3</td>\n",
       "      <td>2.388889</td>\n",
       "    </tr>\n",
       "    <tr>\n",
       "      <th>75</th>\n",
       "      <td>undistorted_GX010191_100_1250</td>\n",
       "      <td>2776</td>\n",
       "      <td>1088</td>\n",
       "      <td>137</td>\n",
       "      <td>721</td>\n",
       "      <td>732.732</td>\n",
       "      <td>small</td>\n",
       "      <td>143.0</td>\n",
       "      <td>739.4</td>\n",
       "      <td>6.668</td>\n",
       "      <td>False</td>\n",
       "      <td>True</td>\n",
       "      <td>145</td>\n",
       "      <td>2.0</td>\n",
       "      <td>1.379310</td>\n",
       "    </tr>\n",
       "    <tr>\n",
       "      <th>102</th>\n",
       "      <td>undistorted_GX010193_27_1553</td>\n",
       "      <td>1672</td>\n",
       "      <td>108</td>\n",
       "      <td>253</td>\n",
       "      <td>1749</td>\n",
       "      <td>1766.071</td>\n",
       "      <td>big</td>\n",
       "      <td>186.6</td>\n",
       "      <td>1774.1</td>\n",
       "      <td>8.029</td>\n",
       "      <td>True</td>\n",
       "      <td>False</td>\n",
       "      <td>180</td>\n",
       "      <td>6.6</td>\n",
       "      <td>3.666667</td>\n",
       "    </tr>\n",
       "    <tr>\n",
       "      <th>114</th>\n",
       "      <td>undistorted_GX010194_39_513</td>\n",
       "      <td>2436</td>\n",
       "      <td>1320</td>\n",
       "      <td>33</td>\n",
       "      <td>1309</td>\n",
       "      <td>1308.391</td>\n",
       "      <td>small</td>\n",
       "      <td>144.1</td>\n",
       "      <td>1300.3</td>\n",
       "      <td>8.091</td>\n",
       "      <td>False</td>\n",
       "      <td>False</td>\n",
       "      <td>145</td>\n",
       "      <td>0.9</td>\n",
       "      <td>0.620690</td>\n",
       "    </tr>\n",
       "    <tr>\n",
       "      <th>70</th>\n",
       "      <td>undistorted_GX010191_94_1132</td>\n",
       "      <td>3052</td>\n",
       "      <td>368</td>\n",
       "      <td>777</td>\n",
       "      <td>273</td>\n",
       "      <td>822.289</td>\n",
       "      <td>big</td>\n",
       "      <td>156.7</td>\n",
       "      <td>832.0</td>\n",
       "      <td>9.711</td>\n",
       "      <td>True</td>\n",
       "      <td>False</td>\n",
       "      <td>180</td>\n",
       "      <td>23.3</td>\n",
       "      <td>12.944444</td>\n",
       "    </tr>\n",
       "    <tr>\n",
       "      <th>40</th>\n",
       "      <td>undistorted_GX010191_35_1167</td>\n",
       "      <td>2844</td>\n",
       "      <td>644</td>\n",
       "      <td>761</td>\n",
       "      <td>125</td>\n",
       "      <td>770.049</td>\n",
       "      <td>small</td>\n",
       "      <td>149.2</td>\n",
       "      <td>759.4</td>\n",
       "      <td>10.649</td>\n",
       "      <td>False</td>\n",
       "      <td>True</td>\n",
       "      <td>145</td>\n",
       "      <td>4.2</td>\n",
       "      <td>2.896552</td>\n",
       "    </tr>\n",
       "    <tr>\n",
       "      <th>22</th>\n",
       "      <td>undistorted_GX010191_31_283</td>\n",
       "      <td>3776</td>\n",
       "      <td>1492</td>\n",
       "      <td>105</td>\n",
       "      <td>941</td>\n",
       "      <td>945.736</td>\n",
       "      <td>big</td>\n",
       "      <td>174.8</td>\n",
       "      <td>931.8</td>\n",
       "      <td>13.936</td>\n",
       "      <td>True</td>\n",
       "      <td>False</td>\n",
       "      <td>180</td>\n",
       "      <td>5.2</td>\n",
       "      <td>2.888889</td>\n",
       "    </tr>\n",
       "    <tr>\n",
       "      <th>60</th>\n",
       "      <td>undistorted_GX010191_42_1339</td>\n",
       "      <td>3728</td>\n",
       "      <td>1880</td>\n",
       "      <td>597</td>\n",
       "      <td>417</td>\n",
       "      <td>726.823</td>\n",
       "      <td>small</td>\n",
       "      <td>138.2</td>\n",
       "      <td>708.1</td>\n",
       "      <td>18.723</td>\n",
       "      <td>False</td>\n",
       "      <td>True</td>\n",
       "      <td>145</td>\n",
       "      <td>6.8</td>\n",
       "      <td>4.689655</td>\n",
       "    </tr>\n",
       "    <tr>\n",
       "      <th>37</th>\n",
       "      <td>undistorted_GX010191_35_367</td>\n",
       "      <td>4092</td>\n",
       "      <td>1392</td>\n",
       "      <td>793</td>\n",
       "      <td>481</td>\n",
       "      <td>926.102</td>\n",
       "      <td>big</td>\n",
       "      <td>171.6</td>\n",
       "      <td>905.3</td>\n",
       "      <td>20.802</td>\n",
       "      <td>True</td>\n",
       "      <td>False</td>\n",
       "      <td>180</td>\n",
       "      <td>8.4</td>\n",
       "      <td>4.666667</td>\n",
       "    </tr>\n",
       "    <tr>\n",
       "      <th>18</th>\n",
       "      <td>undistorted_GX010191_28_230</td>\n",
       "      <td>2348</td>\n",
       "      <td>240</td>\n",
       "      <td>725</td>\n",
       "      <td>345</td>\n",
       "      <td>801.568</td>\n",
       "      <td>small</td>\n",
       "      <td>152.7</td>\n",
       "      <td>778.6</td>\n",
       "      <td>22.968</td>\n",
       "      <td>False</td>\n",
       "      <td>True</td>\n",
       "      <td>145</td>\n",
       "      <td>7.7</td>\n",
       "      <td>5.310345</td>\n",
       "    </tr>\n",
       "    <tr>\n",
       "      <th>29</th>\n",
       "      <td>undistorted_GX010191_34_350</td>\n",
       "      <td>4072</td>\n",
       "      <td>1652</td>\n",
       "      <td>601</td>\n",
       "      <td>741</td>\n",
       "      <td>952.680</td>\n",
       "      <td>big</td>\n",
       "      <td>175.4</td>\n",
       "      <td>928.9</td>\n",
       "      <td>23.780</td>\n",
       "      <td>True</td>\n",
       "      <td>False</td>\n",
       "      <td>180</td>\n",
       "      <td>4.6</td>\n",
       "      <td>2.555556</td>\n",
       "    </tr>\n",
       "    <tr>\n",
       "      <th>68</th>\n",
       "      <td>undistorted_GX010191_88_1016</td>\n",
       "      <td>3104</td>\n",
       "      <td>12</td>\n",
       "      <td>265</td>\n",
       "      <td>1005</td>\n",
       "      <td>1038.129</td>\n",
       "      <td>big</td>\n",
       "      <td>190.4</td>\n",
       "      <td>1014.3</td>\n",
       "      <td>23.829</td>\n",
       "      <td>False</td>\n",
       "      <td>False</td>\n",
       "      <td>180</td>\n",
       "      <td>10.4</td>\n",
       "      <td>5.777778</td>\n",
       "    </tr>\n",
       "    <tr>\n",
       "      <th>16</th>\n",
       "      <td>undistorted_GX010191_17_509</td>\n",
       "      <td>4500</td>\n",
       "      <td>2340</td>\n",
       "      <td>473</td>\n",
       "      <td>525</td>\n",
       "      <td>705.238</td>\n",
       "      <td>small</td>\n",
       "      <td>142.3</td>\n",
       "      <td>730.9</td>\n",
       "      <td>25.662</td>\n",
       "      <td>False</td>\n",
       "      <td>True</td>\n",
       "      <td>145</td>\n",
       "      <td>2.7</td>\n",
       "      <td>1.862069</td>\n",
       "    </tr>\n",
       "    <tr>\n",
       "      <th>83</th>\n",
       "      <td>undistorted_GX010191_105_1312</td>\n",
       "      <td>2920</td>\n",
       "      <td>2156</td>\n",
       "      <td>685</td>\n",
       "      <td>121</td>\n",
       "      <td>694.447</td>\n",
       "      <td>small</td>\n",
       "      <td>141.4</td>\n",
       "      <td>720.3</td>\n",
       "      <td>25.853</td>\n",
       "      <td>False</td>\n",
       "      <td>True</td>\n",
       "      <td>145</td>\n",
       "      <td>3.6</td>\n",
       "      <td>2.482759</td>\n",
       "    </tr>\n",
       "    <tr>\n",
       "      <th>49</th>\n",
       "      <td>undistorted_GX010191_37_1242</td>\n",
       "      <td>3780</td>\n",
       "      <td>608</td>\n",
       "      <td>869</td>\n",
       "      <td>461</td>\n",
       "      <td>982.356</td>\n",
       "      <td>big</td>\n",
       "      <td>181.3</td>\n",
       "      <td>956.2</td>\n",
       "      <td>26.156</td>\n",
       "      <td>True</td>\n",
       "      <td>False</td>\n",
       "      <td>180</td>\n",
       "      <td>1.3</td>\n",
       "      <td>0.722222</td>\n",
       "    </tr>\n",
       "    <tr>\n",
       "      <th>44</th>\n",
       "      <td>undistorted_GX010191_36_1195</td>\n",
       "      <td>2872</td>\n",
       "      <td>548</td>\n",
       "      <td>589</td>\n",
       "      <td>497</td>\n",
       "      <td>769.259</td>\n",
       "      <td>small</td>\n",
       "      <td>144.8</td>\n",
       "      <td>740.6</td>\n",
       "      <td>28.659</td>\n",
       "      <td>False</td>\n",
       "      <td>True</td>\n",
       "      <td>145</td>\n",
       "      <td>0.2</td>\n",
       "      <td>0.137931</td>\n",
       "    </tr>\n",
       "    <tr>\n",
       "      <th>64</th>\n",
       "      <td>undistorted_GX010191_47_507</td>\n",
       "      <td>3184</td>\n",
       "      <td>2032</td>\n",
       "      <td>457</td>\n",
       "      <td>745</td>\n",
       "      <td>872.624</td>\n",
       "      <td>big</td>\n",
       "      <td>170.3</td>\n",
       "      <td>905.0</td>\n",
       "      <td>32.376</td>\n",
       "      <td>True</td>\n",
       "      <td>False</td>\n",
       "      <td>180</td>\n",
       "      <td>9.7</td>\n",
       "      <td>5.388889</td>\n",
       "    </tr>\n",
       "    <tr>\n",
       "      <th>98</th>\n",
       "      <td>undistorted_GX010193_18_1289</td>\n",
       "      <td>2068</td>\n",
       "      <td>552</td>\n",
       "      <td>521</td>\n",
       "      <td>1249</td>\n",
       "      <td>1352.000</td>\n",
       "      <td>small</td>\n",
       "      <td>145.8</td>\n",
       "      <td>1312.1</td>\n",
       "      <td>39.900</td>\n",
       "      <td>False</td>\n",
       "      <td>False</td>\n",
       "      <td>145</td>\n",
       "      <td>0.8</td>\n",
       "      <td>0.551724</td>\n",
       "    </tr>\n",
       "    <tr>\n",
       "      <th>89</th>\n",
       "      <td>undistorted_GX010191_114_1383</td>\n",
       "      <td>4616</td>\n",
       "      <td>104</td>\n",
       "      <td>261</td>\n",
       "      <td>773</td>\n",
       "      <td>814.607</td>\n",
       "      <td>small</td>\n",
       "      <td>149.5</td>\n",
       "      <td>772.3</td>\n",
       "      <td>42.307</td>\n",
       "      <td>False</td>\n",
       "      <td>True</td>\n",
       "      <td>145</td>\n",
       "      <td>4.5</td>\n",
       "      <td>3.103448</td>\n",
       "    </tr>\n",
       "    <tr>\n",
       "      <th>3</th>\n",
       "      <td>undistorted_GX010191_8_309</td>\n",
       "      <td>3860</td>\n",
       "      <td>1736</td>\n",
       "      <td>157</td>\n",
       "      <td>901</td>\n",
       "      <td>913.420</td>\n",
       "      <td>big</td>\n",
       "      <td>179.7</td>\n",
       "      <td>958.2</td>\n",
       "      <td>44.780</td>\n",
       "      <td>True</td>\n",
       "      <td>False</td>\n",
       "      <td>180</td>\n",
       "      <td>0.3</td>\n",
       "      <td>0.166667</td>\n",
       "    </tr>\n",
       "    <tr>\n",
       "      <th>28</th>\n",
       "      <td>undistorted_GX010191_34_350</td>\n",
       "      <td>2796</td>\n",
       "      <td>1692</td>\n",
       "      <td>489</td>\n",
       "      <td>533</td>\n",
       "      <td>721.920</td>\n",
       "      <td>small</td>\n",
       "      <td>149.3</td>\n",
       "      <td>766.8</td>\n",
       "      <td>44.880</td>\n",
       "      <td>False</td>\n",
       "      <td>True</td>\n",
       "      <td>145</td>\n",
       "      <td>4.3</td>\n",
       "      <td>2.965517</td>\n",
       "    </tr>\n",
       "    <tr>\n",
       "      <th>36</th>\n",
       "      <td>undistorted_GX010191_35_367</td>\n",
       "      <td>3064</td>\n",
       "      <td>1704</td>\n",
       "      <td>253</td>\n",
       "      <td>661</td>\n",
       "      <td>706.473</td>\n",
       "      <td>small</td>\n",
       "      <td>146.1</td>\n",
       "      <td>752.7</td>\n",
       "      <td>46.227</td>\n",
       "      <td>False</td>\n",
       "      <td>True</td>\n",
       "      <td>145</td>\n",
       "      <td>1.1</td>\n",
       "      <td>0.758621</td>\n",
       "    </tr>\n",
       "    <tr>\n",
       "      <th>19</th>\n",
       "      <td>undistorted_GX010191_28_230</td>\n",
       "      <td>3828</td>\n",
       "      <td>660</td>\n",
       "      <td>181</td>\n",
       "      <td>1009</td>\n",
       "      <td>1023.945</td>\n",
       "      <td>big</td>\n",
       "      <td>201.1</td>\n",
       "      <td>1072.3</td>\n",
       "      <td>48.355</td>\n",
       "      <td>True</td>\n",
       "      <td>False</td>\n",
       "      <td>180</td>\n",
       "      <td>21.1</td>\n",
       "      <td>11.722222</td>\n",
       "    </tr>\n",
       "    <tr>\n",
       "      <th>33</th>\n",
       "      <td>undistorted_GX010191_34_1128</td>\n",
       "      <td>3404</td>\n",
       "      <td>1416</td>\n",
       "      <td>561</td>\n",
       "      <td>769</td>\n",
       "      <td>950.486</td>\n",
       "      <td>big</td>\n",
       "      <td>169.7</td>\n",
       "      <td>900.2</td>\n",
       "      <td>50.286</td>\n",
       "      <td>True</td>\n",
       "      <td>False</td>\n",
       "      <td>180</td>\n",
       "      <td>10.3</td>\n",
       "      <td>5.722222</td>\n",
       "    </tr>\n",
       "    <tr>\n",
       "      <th>51</th>\n",
       "      <td>undistorted_GX010191_38_1266</td>\n",
       "      <td>2768</td>\n",
       "      <td>1296</td>\n",
       "      <td>77</td>\n",
       "      <td>713</td>\n",
       "      <td>716.045</td>\n",
       "      <td>small</td>\n",
       "      <td>150.7</td>\n",
       "      <td>767.3</td>\n",
       "      <td>51.255</td>\n",
       "      <td>False</td>\n",
       "      <td>True</td>\n",
       "      <td>145</td>\n",
       "      <td>5.7</td>\n",
       "      <td>3.931034</td>\n",
       "    </tr>\n",
       "    <tr>\n",
       "      <th>13</th>\n",
       "      <td>undistorted_GX010191_17_509</td>\n",
       "      <td>3220</td>\n",
       "      <td>2060</td>\n",
       "      <td>477</td>\n",
       "      <td>737</td>\n",
       "      <td>876.511</td>\n",
       "      <td>big</td>\n",
       "      <td>174.9</td>\n",
       "      <td>928.0</td>\n",
       "      <td>51.489</td>\n",
       "      <td>True</td>\n",
       "      <td>False</td>\n",
       "      <td>180</td>\n",
       "      <td>5.1</td>\n",
       "      <td>2.833333</td>\n",
       "    </tr>\n",
       "    <tr>\n",
       "      <th>53</th>\n",
       "      <td>undistorted_GX010191_41_1322</td>\n",
       "      <td>2628</td>\n",
       "      <td>764</td>\n",
       "      <td>117</td>\n",
       "      <td>953</td>\n",
       "      <td>959.041</td>\n",
       "      <td>big</td>\n",
       "      <td>169.0</td>\n",
       "      <td>901.2</td>\n",
       "      <td>57.841</td>\n",
       "      <td>True</td>\n",
       "      <td>False</td>\n",
       "      <td>180</td>\n",
       "      <td>11.0</td>\n",
       "      <td>6.111111</td>\n",
       "    </tr>\n",
       "    <tr>\n",
       "      <th>57</th>\n",
       "      <td>undistorted_GX010191_42_1339</td>\n",
       "      <td>2600</td>\n",
       "      <td>1208</td>\n",
       "      <td>345</td>\n",
       "      <td>881</td>\n",
       "      <td>944.847</td>\n",
       "      <td>big</td>\n",
       "      <td>166.6</td>\n",
       "      <td>886.4</td>\n",
       "      <td>58.447</td>\n",
       "      <td>True</td>\n",
       "      <td>False</td>\n",
       "      <td>180</td>\n",
       "      <td>13.4</td>\n",
       "      <td>7.444444</td>\n",
       "    </tr>\n",
       "    <tr>\n",
       "      <th>45</th>\n",
       "      <td>undistorted_GX010191_36_1195</td>\n",
       "      <td>4312</td>\n",
       "      <td>720</td>\n",
       "      <td>437</td>\n",
       "      <td>881</td>\n",
       "      <td>982.088</td>\n",
       "      <td>big</td>\n",
       "      <td>172.9</td>\n",
       "      <td>920.0</td>\n",
       "      <td>62.088</td>\n",
       "      <td>True</td>\n",
       "      <td>False</td>\n",
       "      <td>180</td>\n",
       "      <td>7.1</td>\n",
       "      <td>3.944444</td>\n",
       "    </tr>\n",
       "    <tr>\n",
       "      <th>61</th>\n",
       "      <td>undistorted_GX010191_43_1353</td>\n",
       "      <td>2724</td>\n",
       "      <td>1548</td>\n",
       "      <td>693</td>\n",
       "      <td>625</td>\n",
       "      <td>931.794</td>\n",
       "      <td>big</td>\n",
       "      <td>164.2</td>\n",
       "      <td>867.4</td>\n",
       "      <td>64.394</td>\n",
       "      <td>True</td>\n",
       "      <td>False</td>\n",
       "      <td>180</td>\n",
       "      <td>15.8</td>\n",
       "      <td>8.777778</td>\n",
       "    </tr>\n",
       "    <tr>\n",
       "      <th>5</th>\n",
       "      <td>undistorted_GX010191_10_370</td>\n",
       "      <td>3092</td>\n",
       "      <td>1716</td>\n",
       "      <td>245</td>\n",
       "      <td>653</td>\n",
       "      <td>696.161</td>\n",
       "      <td>small</td>\n",
       "      <td>149.0</td>\n",
       "      <td>762.6</td>\n",
       "      <td>66.439</td>\n",
       "      <td>False</td>\n",
       "      <td>True</td>\n",
       "      <td>145</td>\n",
       "      <td>4.0</td>\n",
       "      <td>2.758621</td>\n",
       "    </tr>\n",
       "    <tr>\n",
       "      <th>80</th>\n",
       "      <td>undistorted_GX010191_105_1312</td>\n",
       "      <td>2528</td>\n",
       "      <td>536</td>\n",
       "      <td>393</td>\n",
       "      <td>913</td>\n",
       "      <td>992.677</td>\n",
       "      <td>big</td>\n",
       "      <td>174.2</td>\n",
       "      <td>924.6</td>\n",
       "      <td>68.077</td>\n",
       "      <td>True</td>\n",
       "      <td>False</td>\n",
       "      <td>180</td>\n",
       "      <td>5.8</td>\n",
       "      <td>3.222222</td>\n",
       "    </tr>\n",
       "    <tr>\n",
       "      <th>95</th>\n",
       "      <td>undistorted_GX010192_26_1578</td>\n",
       "      <td>2128</td>\n",
       "      <td>1296</td>\n",
       "      <td>361</td>\n",
       "      <td>1277</td>\n",
       "      <td>1325.811</td>\n",
       "      <td>small</td>\n",
       "      <td>139.5</td>\n",
       "      <td>1257.0</td>\n",
       "      <td>68.811</td>\n",
       "      <td>False</td>\n",
       "      <td>True</td>\n",
       "      <td>145</td>\n",
       "      <td>5.5</td>\n",
       "      <td>3.793103</td>\n",
       "    </tr>\n",
       "    <tr>\n",
       "      <th>85</th>\n",
       "      <td>undistorted_GX010191_106_1320</td>\n",
       "      <td>3092</td>\n",
       "      <td>2220</td>\n",
       "      <td>733</td>\n",
       "      <td>29</td>\n",
       "      <td>732.535</td>\n",
       "      <td>small</td>\n",
       "      <td>155.0</td>\n",
       "      <td>801.8</td>\n",
       "      <td>69.265</td>\n",
       "      <td>False</td>\n",
       "      <td>True</td>\n",
       "      <td>145</td>\n",
       "      <td>10.0</td>\n",
       "      <td>6.896552</td>\n",
       "    </tr>\n",
       "    <tr>\n",
       "      <th>86</th>\n",
       "      <td>undistorted_GX010191_110_1355</td>\n",
       "      <td>2728</td>\n",
       "      <td>1592</td>\n",
       "      <td>729</td>\n",
       "      <td>577</td>\n",
       "      <td>928.310</td>\n",
       "      <td>big</td>\n",
       "      <td>162.4</td>\n",
       "      <td>857.3</td>\n",
       "      <td>71.010</td>\n",
       "      <td>True</td>\n",
       "      <td>False</td>\n",
       "      <td>180</td>\n",
       "      <td>17.6</td>\n",
       "      <td>9.777778</td>\n",
       "    </tr>\n",
       "    <tr>\n",
       "      <th>25</th>\n",
       "      <td>undistorted_GX010191_32_305</td>\n",
       "      <td>3908</td>\n",
       "      <td>1728</td>\n",
       "      <td>173</td>\n",
       "      <td>933</td>\n",
       "      <td>947.738</td>\n",
       "      <td>big</td>\n",
       "      <td>191.5</td>\n",
       "      <td>1020.8</td>\n",
       "      <td>73.062</td>\n",
       "      <td>True</td>\n",
       "      <td>False</td>\n",
       "      <td>180</td>\n",
       "      <td>11.5</td>\n",
       "      <td>6.388889</td>\n",
       "    </tr>\n",
       "    <tr>\n",
       "      <th>8</th>\n",
       "      <td>undistorted_GX010191_14_460</td>\n",
       "      <td>3536</td>\n",
       "      <td>2224</td>\n",
       "      <td>793</td>\n",
       "      <td>5</td>\n",
       "      <td>792.010</td>\n",
       "      <td>big</td>\n",
       "      <td>162.5</td>\n",
       "      <td>865.9</td>\n",
       "      <td>73.890</td>\n",
       "      <td>True</td>\n",
       "      <td>False</td>\n",
       "      <td>180</td>\n",
       "      <td>17.5</td>\n",
       "      <td>9.722222</td>\n",
       "    </tr>\n",
       "    <tr>\n",
       "      <th>110</th>\n",
       "      <td>undistorted_GX010194_7_885</td>\n",
       "      <td>1836</td>\n",
       "      <td>252</td>\n",
       "      <td>661</td>\n",
       "      <td>1141</td>\n",
       "      <td>1317.270</td>\n",
       "      <td>small</td>\n",
       "      <td>154.7</td>\n",
       "      <td>1391.6</td>\n",
       "      <td>74.330</td>\n",
       "      <td>False</td>\n",
       "      <td>True</td>\n",
       "      <td>145</td>\n",
       "      <td>9.7</td>\n",
       "      <td>6.689655</td>\n",
       "    </tr>\n",
       "    <tr>\n",
       "      <th>11</th>\n",
       "      <td>undistorted_GX010191_16_495</td>\n",
       "      <td>3032</td>\n",
       "      <td>1736</td>\n",
       "      <td>261</td>\n",
       "      <td>877</td>\n",
       "      <td>913.770</td>\n",
       "      <td>big</td>\n",
       "      <td>157.0</td>\n",
       "      <td>835.8</td>\n",
       "      <td>77.970</td>\n",
       "      <td>True</td>\n",
       "      <td>False</td>\n",
       "      <td>180</td>\n",
       "      <td>23.0</td>\n",
       "      <td>12.777778</td>\n",
       "    </tr>\n",
       "    <tr>\n",
       "      <th>92</th>\n",
       "      <td>undistorted_GX010192_26_1578</td>\n",
       "      <td>3392</td>\n",
       "      <td>204</td>\n",
       "      <td>729</td>\n",
       "      <td>1557</td>\n",
       "      <td>1717.882</td>\n",
       "      <td>big</td>\n",
       "      <td>172.9</td>\n",
       "      <td>1639.2</td>\n",
       "      <td>78.682</td>\n",
       "      <td>True</td>\n",
       "      <td>False</td>\n",
       "      <td>180</td>\n",
       "      <td>7.1</td>\n",
       "      <td>3.944444</td>\n",
       "    </tr>\n",
       "    <tr>\n",
       "      <th>106</th>\n",
       "      <td>undistorted_GX010193_28_1584</td>\n",
       "      <td>2612</td>\n",
       "      <td>108</td>\n",
       "      <td>553</td>\n",
       "      <td>1257</td>\n",
       "      <td>1371.948</td>\n",
       "      <td>small</td>\n",
       "      <td>143.6</td>\n",
       "      <td>1292.7</td>\n",
       "      <td>79.248</td>\n",
       "      <td>False</td>\n",
       "      <td>True</td>\n",
       "      <td>145</td>\n",
       "      <td>1.4</td>\n",
       "      <td>0.965517</td>\n",
       "    </tr>\n",
       "    <tr>\n",
       "      <th>9</th>\n",
       "      <td>undistorted_GX010191_15_479</td>\n",
       "      <td>3064</td>\n",
       "      <td>1248</td>\n",
       "      <td>5</td>\n",
       "      <td>933</td>\n",
       "      <td>932.009</td>\n",
       "      <td>big</td>\n",
       "      <td>159.4</td>\n",
       "      <td>850.2</td>\n",
       "      <td>81.809</td>\n",
       "      <td>True</td>\n",
       "      <td>False</td>\n",
       "      <td>180</td>\n",
       "      <td>20.6</td>\n",
       "      <td>11.444444</td>\n",
       "    </tr>\n",
       "    <tr>\n",
       "      <th>112</th>\n",
       "      <td>undistorted_GX010194_19_285</td>\n",
       "      <td>1584</td>\n",
       "      <td>1032</td>\n",
       "      <td>717</td>\n",
       "      <td>1061</td>\n",
       "      <td>1279.162</td>\n",
       "      <td>small</td>\n",
       "      <td>133.1</td>\n",
       "      <td>1194.4</td>\n",
       "      <td>84.762</td>\n",
       "      <td>False</td>\n",
       "      <td>False</td>\n",
       "      <td>145</td>\n",
       "      <td>11.9</td>\n",
       "      <td>8.206897</td>\n",
       "    </tr>\n",
       "    <tr>\n",
       "      <th>90</th>\n",
       "      <td>undistorted_GX010191_117_1408</td>\n",
       "      <td>3760</td>\n",
       "      <td>560</td>\n",
       "      <td>677</td>\n",
       "      <td>709</td>\n",
       "      <td>978.897</td>\n",
       "      <td>big</td>\n",
       "      <td>168.9</td>\n",
       "      <td>893.4</td>\n",
       "      <td>85.497</td>\n",
       "      <td>False</td>\n",
       "      <td>False</td>\n",
       "      <td>180</td>\n",
       "      <td>11.1</td>\n",
       "      <td>6.166667</td>\n",
       "    </tr>\n",
       "    <tr>\n",
       "      <th>65</th>\n",
       "      <td>undistorted_GX010191_47_507</td>\n",
       "      <td>3184</td>\n",
       "      <td>2032</td>\n",
       "      <td>457</td>\n",
       "      <td>745</td>\n",
       "      <td>872.624</td>\n",
       "      <td>small</td>\n",
       "      <td>153.4</td>\n",
       "      <td>786.9</td>\n",
       "      <td>85.724</td>\n",
       "      <td>False</td>\n",
       "      <td>True</td>\n",
       "      <td>145</td>\n",
       "      <td>8.4</td>\n",
       "      <td>5.793103</td>\n",
       "    </tr>\n",
       "    <tr>\n",
       "      <th>113</th>\n",
       "      <td>undistorted_GX010194_26_373</td>\n",
       "      <td>1072</td>\n",
       "      <td>1548</td>\n",
       "      <td>1053</td>\n",
       "      <td>613</td>\n",
       "      <td>1217.065</td>\n",
       "      <td>small</td>\n",
       "      <td>126.4</td>\n",
       "      <td>1126.2</td>\n",
       "      <td>90.865</td>\n",
       "      <td>False</td>\n",
       "      <td>False</td>\n",
       "      <td>145</td>\n",
       "      <td>18.6</td>\n",
       "      <td>12.827586</td>\n",
       "    </tr>\n",
       "    <tr>\n",
       "      <th>99</th>\n",
       "      <td>undistorted_GX010193_19_1334</td>\n",
       "      <td>1032</td>\n",
       "      <td>752</td>\n",
       "      <td>1045</td>\n",
       "      <td>781</td>\n",
       "      <td>1303.202</td>\n",
       "      <td>small</td>\n",
       "      <td>134.3</td>\n",
       "      <td>1199.6</td>\n",
       "      <td>103.602</td>\n",
       "      <td>False</td>\n",
       "      <td>True</td>\n",
       "      <td>145</td>\n",
       "      <td>10.7</td>\n",
       "      <td>7.379310</td>\n",
       "    </tr>\n",
       "    <tr>\n",
       "      <th>101</th>\n",
       "      <td>undistorted_GX010193_20_1365</td>\n",
       "      <td>124</td>\n",
       "      <td>1364</td>\n",
       "      <td>1177</td>\n",
       "      <td>169</td>\n",
       "      <td>1187.939</td>\n",
       "      <td>small</td>\n",
       "      <td>120.6</td>\n",
       "      <td>1070.7</td>\n",
       "      <td>117.239</td>\n",
       "      <td>False</td>\n",
       "      <td>False</td>\n",
       "      <td>145</td>\n",
       "      <td>24.4</td>\n",
       "      <td>16.827586</td>\n",
       "    </tr>\n",
       "  </tbody>\n",
       "</table>\n",
       "</div>"
      ],
      "text/plain": [
       "                        image_name    BX    BY  Width  Height    Length  \\\n",
       "48    undistorted_GX010191_37_1242  2764   948    221     685   718.510   \n",
       "2       undistorted_GX010191_8_309  2456  1376    733     297   789.582   \n",
       "24     undistorted_GX010191_32_305  2516  1328    741     277   789.795   \n",
       "97    undistorted_GX010193_11_1065  2152  1256    973    1445  1740.667   \n",
       "75   undistorted_GX010191_100_1250  2776  1088    137     721   732.732   \n",
       "102   undistorted_GX010193_27_1553  1672   108    253    1749  1766.071   \n",
       "114    undistorted_GX010194_39_513  2436  1320     33    1309  1308.391   \n",
       "70    undistorted_GX010191_94_1132  3052   368    777     273   822.289   \n",
       "40    undistorted_GX010191_35_1167  2844   644    761     125   770.049   \n",
       "22     undistorted_GX010191_31_283  3776  1492    105     941   945.736   \n",
       "60    undistorted_GX010191_42_1339  3728  1880    597     417   726.823   \n",
       "37     undistorted_GX010191_35_367  4092  1392    793     481   926.102   \n",
       "18     undistorted_GX010191_28_230  2348   240    725     345   801.568   \n",
       "29     undistorted_GX010191_34_350  4072  1652    601     741   952.680   \n",
       "68    undistorted_GX010191_88_1016  3104    12    265    1005  1038.129   \n",
       "16     undistorted_GX010191_17_509  4500  2340    473     525   705.238   \n",
       "83   undistorted_GX010191_105_1312  2920  2156    685     121   694.447   \n",
       "49    undistorted_GX010191_37_1242  3780   608    869     461   982.356   \n",
       "44    undistorted_GX010191_36_1195  2872   548    589     497   769.259   \n",
       "64     undistorted_GX010191_47_507  3184  2032    457     745   872.624   \n",
       "98    undistorted_GX010193_18_1289  2068   552    521    1249  1352.000   \n",
       "89   undistorted_GX010191_114_1383  4616   104    261     773   814.607   \n",
       "3       undistorted_GX010191_8_309  3860  1736    157     901   913.420   \n",
       "28     undistorted_GX010191_34_350  2796  1692    489     533   721.920   \n",
       "36     undistorted_GX010191_35_367  3064  1704    253     661   706.473   \n",
       "19     undistorted_GX010191_28_230  3828   660    181    1009  1023.945   \n",
       "33    undistorted_GX010191_34_1128  3404  1416    561     769   950.486   \n",
       "51    undistorted_GX010191_38_1266  2768  1296     77     713   716.045   \n",
       "13     undistorted_GX010191_17_509  3220  2060    477     737   876.511   \n",
       "53    undistorted_GX010191_41_1322  2628   764    117     953   959.041   \n",
       "57    undistorted_GX010191_42_1339  2600  1208    345     881   944.847   \n",
       "45    undistorted_GX010191_36_1195  4312   720    437     881   982.088   \n",
       "61    undistorted_GX010191_43_1353  2724  1548    693     625   931.794   \n",
       "5      undistorted_GX010191_10_370  3092  1716    245     653   696.161   \n",
       "80   undistorted_GX010191_105_1312  2528   536    393     913   992.677   \n",
       "95    undistorted_GX010192_26_1578  2128  1296    361    1277  1325.811   \n",
       "85   undistorted_GX010191_106_1320  3092  2220    733      29   732.535   \n",
       "86   undistorted_GX010191_110_1355  2728  1592    729     577   928.310   \n",
       "25     undistorted_GX010191_32_305  3908  1728    173     933   947.738   \n",
       "8      undistorted_GX010191_14_460  3536  2224    793       5   792.010   \n",
       "110     undistorted_GX010194_7_885  1836   252    661    1141  1317.270   \n",
       "11     undistorted_GX010191_16_495  3032  1736    261     877   913.770   \n",
       "92    undistorted_GX010192_26_1578  3392   204    729    1557  1717.882   \n",
       "106   undistorted_GX010193_28_1584  2612   108    553    1257  1371.948   \n",
       "9      undistorted_GX010191_15_479  3064  1248      5     933   932.009   \n",
       "112    undistorted_GX010194_19_285  1584  1032    717    1061  1279.162   \n",
       "90   undistorted_GX010191_117_1408  3760   560    677     709   978.897   \n",
       "65     undistorted_GX010191_47_507  3184  2032    457     745   872.624   \n",
       "113    undistorted_GX010194_26_373  1072  1548   1053     613  1217.065   \n",
       "99    undistorted_GX010193_19_1334  1032   752   1045     781  1303.202   \n",
       "101   undistorted_GX010193_20_1365   124  1364   1177     169  1187.939   \n",
       "\n",
       "    lobster_size  total_length  pixels_total_length  length_diff  is_big  \\\n",
       "48         small         139.2                719.0        0.490   False   \n",
       "2          small         154.8                790.1        0.518   False   \n",
       "24         small         154.2                786.3        3.495   False   \n",
       "97           big         184.3               1745.4        4.733   False   \n",
       "75         small         143.0                739.4        6.668   False   \n",
       "102          big         186.6               1774.1        8.029    True   \n",
       "114        small         144.1               1300.3        8.091   False   \n",
       "70           big         156.7                832.0        9.711    True   \n",
       "40         small         149.2                759.4       10.649   False   \n",
       "22           big         174.8                931.8       13.936    True   \n",
       "60         small         138.2                708.1       18.723   False   \n",
       "37           big         171.6                905.3       20.802    True   \n",
       "18         small         152.7                778.6       22.968   False   \n",
       "29           big         175.4                928.9       23.780    True   \n",
       "68           big         190.4               1014.3       23.829   False   \n",
       "16         small         142.3                730.9       25.662   False   \n",
       "83         small         141.4                720.3       25.853   False   \n",
       "49           big         181.3                956.2       26.156    True   \n",
       "44         small         144.8                740.6       28.659   False   \n",
       "64           big         170.3                905.0       32.376    True   \n",
       "98         small         145.8               1312.1       39.900   False   \n",
       "89         small         149.5                772.3       42.307   False   \n",
       "3            big         179.7                958.2       44.780    True   \n",
       "28         small         149.3                766.8       44.880   False   \n",
       "36         small         146.1                752.7       46.227   False   \n",
       "19           big         201.1               1072.3       48.355    True   \n",
       "33           big         169.7                900.2       50.286    True   \n",
       "51         small         150.7                767.3       51.255   False   \n",
       "13           big         174.9                928.0       51.489    True   \n",
       "53           big         169.0                901.2       57.841    True   \n",
       "57           big         166.6                886.4       58.447    True   \n",
       "45           big         172.9                920.0       62.088    True   \n",
       "61           big         164.2                867.4       64.394    True   \n",
       "5          small         149.0                762.6       66.439   False   \n",
       "80           big         174.2                924.6       68.077    True   \n",
       "95         small         139.5               1257.0       68.811   False   \n",
       "85         small         155.0                801.8       69.265   False   \n",
       "86           big         162.4                857.3       71.010    True   \n",
       "25           big         191.5               1020.8       73.062    True   \n",
       "8            big         162.5                865.9       73.890    True   \n",
       "110        small         154.7               1391.6       74.330   False   \n",
       "11           big         157.0                835.8       77.970    True   \n",
       "92           big         172.9               1639.2       78.682    True   \n",
       "106        small         143.6               1292.7       79.248   False   \n",
       "9            big         159.4                850.2       81.809    True   \n",
       "112        small         133.1               1194.4       84.762   False   \n",
       "90           big         168.9                893.4       85.497   False   \n",
       "65         small         153.4                786.9       85.724   False   \n",
       "113        small         126.4               1126.2       90.865   False   \n",
       "99         small         134.3               1199.6      103.602   False   \n",
       "101        small         120.6               1070.7      117.239   False   \n",
       "\n",
       "     is_small  real_length  real_length_abs_diff  real_length_rel_diff  \n",
       "48       True          145                   5.8              4.000000  \n",
       "2        True          145                   9.8              6.758621  \n",
       "24       True          145                   9.2              6.344828  \n",
       "97      False          180                   4.3              2.388889  \n",
       "75       True          145                   2.0              1.379310  \n",
       "102     False          180                   6.6              3.666667  \n",
       "114     False          145                   0.9              0.620690  \n",
       "70      False          180                  23.3             12.944444  \n",
       "40       True          145                   4.2              2.896552  \n",
       "22      False          180                   5.2              2.888889  \n",
       "60       True          145                   6.8              4.689655  \n",
       "37      False          180                   8.4              4.666667  \n",
       "18       True          145                   7.7              5.310345  \n",
       "29      False          180                   4.6              2.555556  \n",
       "68      False          180                  10.4              5.777778  \n",
       "16       True          145                   2.7              1.862069  \n",
       "83       True          145                   3.6              2.482759  \n",
       "49      False          180                   1.3              0.722222  \n",
       "44       True          145                   0.2              0.137931  \n",
       "64      False          180                   9.7              5.388889  \n",
       "98      False          145                   0.8              0.551724  \n",
       "89       True          145                   4.5              3.103448  \n",
       "3       False          180                   0.3              0.166667  \n",
       "28       True          145                   4.3              2.965517  \n",
       "36       True          145                   1.1              0.758621  \n",
       "19      False          180                  21.1             11.722222  \n",
       "33      False          180                  10.3              5.722222  \n",
       "51       True          145                   5.7              3.931034  \n",
       "13      False          180                   5.1              2.833333  \n",
       "53      False          180                  11.0              6.111111  \n",
       "57      False          180                  13.4              7.444444  \n",
       "45      False          180                   7.1              3.944444  \n",
       "61      False          180                  15.8              8.777778  \n",
       "5        True          145                   4.0              2.758621  \n",
       "80      False          180                   5.8              3.222222  \n",
       "95       True          145                   5.5              3.793103  \n",
       "85       True          145                  10.0              6.896552  \n",
       "86      False          180                  17.6              9.777778  \n",
       "25      False          180                  11.5              6.388889  \n",
       "8       False          180                  17.5              9.722222  \n",
       "110      True          145                   9.7              6.689655  \n",
       "11      False          180                  23.0             12.777778  \n",
       "92      False          180                   7.1              3.944444  \n",
       "106      True          145                   1.4              0.965517  \n",
       "9       False          180                  20.6             11.444444  \n",
       "112     False          145                  11.9              8.206897  \n",
       "90      False          180                  11.1              6.166667  \n",
       "65       True          145                   8.4              5.793103  \n",
       "113     False          145                  18.6             12.827586  \n",
       "99       True          145                  10.7              7.379310  \n",
       "101     False          145                  24.4             16.827586  "
      ]
     },
     "metadata": {},
     "output_type": "display_data"
    }
   ],
   "source": [
    "# Add real length based on size class\n",
    "new_df['real_length'] = new_df['lobster_size'].map({'small': 145, 'big': 180})\n",
    "\n",
    "# Calculate absolute difference between real length and total length\n",
    "new_df['real_length_abs_diff'] = abs(new_df['total_length'] - new_df['real_length'])\n",
    "\n",
    "# Calculate relative difference as percentage\n",
    "new_df['real_length_rel_diff'] = (new_df['real_length_abs_diff'] / new_df['real_length']) * 100\n",
    "\n",
    "display(new_df)\n"
   ]
  },
  {
   "cell_type": "code",
   "execution_count": 7,
   "metadata": {},
   "outputs": [
    {
     "name": "stderr",
     "output_type": "stream",
     "text": [
      "/var/folders/9w/y40_ws0n1_n_hby5lpbrj1_m0000gn/T/ipykernel_2379/2007285494.py:2: SettingWithCopyWarning: \n",
      "A value is trying to be set on a copy of a slice from a DataFrame.\n",
      "Try using .loc[row_indexer,col_indexer] = value instead\n",
      "\n",
      "See the caveats in the documentation: https://pandas.pydata.org/pandas-docs/stable/user_guide/indexing.html#returning-a-view-versus-a-copy\n",
      "  new_df['pixel_abs_diff'] = abs(new_df['pixels_total_length'] - new_df['Length'])\n",
      "/var/folders/9w/y40_ws0n1_n_hby5lpbrj1_m0000gn/T/ipykernel_2379/2007285494.py:5: SettingWithCopyWarning: \n",
      "A value is trying to be set on a copy of a slice from a DataFrame.\n",
      "Try using .loc[row_indexer,col_indexer] = value instead\n",
      "\n",
      "See the caveats in the documentation: https://pandas.pydata.org/pandas-docs/stable/user_guide/indexing.html#returning-a-view-versus-a-copy\n",
      "  new_df['pixel_rel_diff'] = (new_df['pixel_abs_diff'] / new_df['Length']) * 100\n"
     ]
    },
    {
     "data": {
      "text/html": [
       "<div>\n",
       "<style scoped>\n",
       "    .dataframe tbody tr th:only-of-type {\n",
       "        vertical-align: middle;\n",
       "    }\n",
       "\n",
       "    .dataframe tbody tr th {\n",
       "        vertical-align: top;\n",
       "    }\n",
       "\n",
       "    .dataframe thead th {\n",
       "        text-align: right;\n",
       "    }\n",
       "</style>\n",
       "<table border=\"1\" class=\"dataframe\">\n",
       "  <thead>\n",
       "    <tr style=\"text-align: right;\">\n",
       "      <th></th>\n",
       "      <th>image_name</th>\n",
       "      <th>BX</th>\n",
       "      <th>BY</th>\n",
       "      <th>Width</th>\n",
       "      <th>Height</th>\n",
       "      <th>Length</th>\n",
       "      <th>lobster_size</th>\n",
       "      <th>total_length</th>\n",
       "      <th>pixels_total_length</th>\n",
       "      <th>length_diff</th>\n",
       "      <th>is_big</th>\n",
       "      <th>is_small</th>\n",
       "      <th>real_length</th>\n",
       "      <th>real_length_abs_diff</th>\n",
       "      <th>real_length_rel_diff</th>\n",
       "      <th>pixel_abs_diff</th>\n",
       "      <th>pixel_rel_diff</th>\n",
       "    </tr>\n",
       "  </thead>\n",
       "  <tbody>\n",
       "    <tr>\n",
       "      <th>48</th>\n",
       "      <td>undistorted_GX010191_37_1242</td>\n",
       "      <td>2764</td>\n",
       "      <td>948</td>\n",
       "      <td>221</td>\n",
       "      <td>685</td>\n",
       "      <td>718.510</td>\n",
       "      <td>small</td>\n",
       "      <td>139.2</td>\n",
       "      <td>719.0</td>\n",
       "      <td>0.490</td>\n",
       "      <td>False</td>\n",
       "      <td>True</td>\n",
       "      <td>145</td>\n",
       "      <td>5.8</td>\n",
       "      <td>4.000000</td>\n",
       "      <td>0.490</td>\n",
       "      <td>0.068197</td>\n",
       "    </tr>\n",
       "    <tr>\n",
       "      <th>2</th>\n",
       "      <td>undistorted_GX010191_8_309</td>\n",
       "      <td>2456</td>\n",
       "      <td>1376</td>\n",
       "      <td>733</td>\n",
       "      <td>297</td>\n",
       "      <td>789.582</td>\n",
       "      <td>small</td>\n",
       "      <td>154.8</td>\n",
       "      <td>790.1</td>\n",
       "      <td>0.518</td>\n",
       "      <td>False</td>\n",
       "      <td>True</td>\n",
       "      <td>145</td>\n",
       "      <td>9.8</td>\n",
       "      <td>6.758621</td>\n",
       "      <td>0.518</td>\n",
       "      <td>0.065604</td>\n",
       "    </tr>\n",
       "    <tr>\n",
       "      <th>24</th>\n",
       "      <td>undistorted_GX010191_32_305</td>\n",
       "      <td>2516</td>\n",
       "      <td>1328</td>\n",
       "      <td>741</td>\n",
       "      <td>277</td>\n",
       "      <td>789.795</td>\n",
       "      <td>small</td>\n",
       "      <td>154.2</td>\n",
       "      <td>786.3</td>\n",
       "      <td>3.495</td>\n",
       "      <td>False</td>\n",
       "      <td>True</td>\n",
       "      <td>145</td>\n",
       "      <td>9.2</td>\n",
       "      <td>6.344828</td>\n",
       "      <td>3.495</td>\n",
       "      <td>0.442520</td>\n",
       "    </tr>\n",
       "    <tr>\n",
       "      <th>97</th>\n",
       "      <td>undistorted_GX010193_11_1065</td>\n",
       "      <td>2152</td>\n",
       "      <td>1256</td>\n",
       "      <td>973</td>\n",
       "      <td>1445</td>\n",
       "      <td>1740.667</td>\n",
       "      <td>big</td>\n",
       "      <td>184.3</td>\n",
       "      <td>1745.4</td>\n",
       "      <td>4.733</td>\n",
       "      <td>False</td>\n",
       "      <td>False</td>\n",
       "      <td>180</td>\n",
       "      <td>4.3</td>\n",
       "      <td>2.388889</td>\n",
       "      <td>4.733</td>\n",
       "      <td>0.271907</td>\n",
       "    </tr>\n",
       "    <tr>\n",
       "      <th>75</th>\n",
       "      <td>undistorted_GX010191_100_1250</td>\n",
       "      <td>2776</td>\n",
       "      <td>1088</td>\n",
       "      <td>137</td>\n",
       "      <td>721</td>\n",
       "      <td>732.732</td>\n",
       "      <td>small</td>\n",
       "      <td>143.0</td>\n",
       "      <td>739.4</td>\n",
       "      <td>6.668</td>\n",
       "      <td>False</td>\n",
       "      <td>True</td>\n",
       "      <td>145</td>\n",
       "      <td>2.0</td>\n",
       "      <td>1.379310</td>\n",
       "      <td>6.668</td>\n",
       "      <td>0.910019</td>\n",
       "    </tr>\n",
       "    <tr>\n",
       "      <th>102</th>\n",
       "      <td>undistorted_GX010193_27_1553</td>\n",
       "      <td>1672</td>\n",
       "      <td>108</td>\n",
       "      <td>253</td>\n",
       "      <td>1749</td>\n",
       "      <td>1766.071</td>\n",
       "      <td>big</td>\n",
       "      <td>186.6</td>\n",
       "      <td>1774.1</td>\n",
       "      <td>8.029</td>\n",
       "      <td>True</td>\n",
       "      <td>False</td>\n",
       "      <td>180</td>\n",
       "      <td>6.6</td>\n",
       "      <td>3.666667</td>\n",
       "      <td>8.029</td>\n",
       "      <td>0.454625</td>\n",
       "    </tr>\n",
       "    <tr>\n",
       "      <th>114</th>\n",
       "      <td>undistorted_GX010194_39_513</td>\n",
       "      <td>2436</td>\n",
       "      <td>1320</td>\n",
       "      <td>33</td>\n",
       "      <td>1309</td>\n",
       "      <td>1308.391</td>\n",
       "      <td>small</td>\n",
       "      <td>144.1</td>\n",
       "      <td>1300.3</td>\n",
       "      <td>8.091</td>\n",
       "      <td>False</td>\n",
       "      <td>False</td>\n",
       "      <td>145</td>\n",
       "      <td>0.9</td>\n",
       "      <td>0.620690</td>\n",
       "      <td>8.091</td>\n",
       "      <td>0.618393</td>\n",
       "    </tr>\n",
       "    <tr>\n",
       "      <th>70</th>\n",
       "      <td>undistorted_GX010191_94_1132</td>\n",
       "      <td>3052</td>\n",
       "      <td>368</td>\n",
       "      <td>777</td>\n",
       "      <td>273</td>\n",
       "      <td>822.289</td>\n",
       "      <td>big</td>\n",
       "      <td>156.7</td>\n",
       "      <td>832.0</td>\n",
       "      <td>9.711</td>\n",
       "      <td>True</td>\n",
       "      <td>False</td>\n",
       "      <td>180</td>\n",
       "      <td>23.3</td>\n",
       "      <td>12.944444</td>\n",
       "      <td>9.711</td>\n",
       "      <td>1.180972</td>\n",
       "    </tr>\n",
       "    <tr>\n",
       "      <th>40</th>\n",
       "      <td>undistorted_GX010191_35_1167</td>\n",
       "      <td>2844</td>\n",
       "      <td>644</td>\n",
       "      <td>761</td>\n",
       "      <td>125</td>\n",
       "      <td>770.049</td>\n",
       "      <td>small</td>\n",
       "      <td>149.2</td>\n",
       "      <td>759.4</td>\n",
       "      <td>10.649</td>\n",
       "      <td>False</td>\n",
       "      <td>True</td>\n",
       "      <td>145</td>\n",
       "      <td>4.2</td>\n",
       "      <td>2.896552</td>\n",
       "      <td>10.649</td>\n",
       "      <td>1.382899</td>\n",
       "    </tr>\n",
       "    <tr>\n",
       "      <th>22</th>\n",
       "      <td>undistorted_GX010191_31_283</td>\n",
       "      <td>3776</td>\n",
       "      <td>1492</td>\n",
       "      <td>105</td>\n",
       "      <td>941</td>\n",
       "      <td>945.736</td>\n",
       "      <td>big</td>\n",
       "      <td>174.8</td>\n",
       "      <td>931.8</td>\n",
       "      <td>13.936</td>\n",
       "      <td>True</td>\n",
       "      <td>False</td>\n",
       "      <td>180</td>\n",
       "      <td>5.2</td>\n",
       "      <td>2.888889</td>\n",
       "      <td>13.936</td>\n",
       "      <td>1.473561</td>\n",
       "    </tr>\n",
       "    <tr>\n",
       "      <th>60</th>\n",
       "      <td>undistorted_GX010191_42_1339</td>\n",
       "      <td>3728</td>\n",
       "      <td>1880</td>\n",
       "      <td>597</td>\n",
       "      <td>417</td>\n",
       "      <td>726.823</td>\n",
       "      <td>small</td>\n",
       "      <td>138.2</td>\n",
       "      <td>708.1</td>\n",
       "      <td>18.723</td>\n",
       "      <td>False</td>\n",
       "      <td>True</td>\n",
       "      <td>145</td>\n",
       "      <td>6.8</td>\n",
       "      <td>4.689655</td>\n",
       "      <td>18.723</td>\n",
       "      <td>2.576005</td>\n",
       "    </tr>\n",
       "    <tr>\n",
       "      <th>37</th>\n",
       "      <td>undistorted_GX010191_35_367</td>\n",
       "      <td>4092</td>\n",
       "      <td>1392</td>\n",
       "      <td>793</td>\n",
       "      <td>481</td>\n",
       "      <td>926.102</td>\n",
       "      <td>big</td>\n",
       "      <td>171.6</td>\n",
       "      <td>905.3</td>\n",
       "      <td>20.802</td>\n",
       "      <td>True</td>\n",
       "      <td>False</td>\n",
       "      <td>180</td>\n",
       "      <td>8.4</td>\n",
       "      <td>4.666667</td>\n",
       "      <td>20.802</td>\n",
       "      <td>2.246189</td>\n",
       "    </tr>\n",
       "    <tr>\n",
       "      <th>18</th>\n",
       "      <td>undistorted_GX010191_28_230</td>\n",
       "      <td>2348</td>\n",
       "      <td>240</td>\n",
       "      <td>725</td>\n",
       "      <td>345</td>\n",
       "      <td>801.568</td>\n",
       "      <td>small</td>\n",
       "      <td>152.7</td>\n",
       "      <td>778.6</td>\n",
       "      <td>22.968</td>\n",
       "      <td>False</td>\n",
       "      <td>True</td>\n",
       "      <td>145</td>\n",
       "      <td>7.7</td>\n",
       "      <td>5.310345</td>\n",
       "      <td>22.968</td>\n",
       "      <td>2.865384</td>\n",
       "    </tr>\n",
       "    <tr>\n",
       "      <th>29</th>\n",
       "      <td>undistorted_GX010191_34_350</td>\n",
       "      <td>4072</td>\n",
       "      <td>1652</td>\n",
       "      <td>601</td>\n",
       "      <td>741</td>\n",
       "      <td>952.680</td>\n",
       "      <td>big</td>\n",
       "      <td>175.4</td>\n",
       "      <td>928.9</td>\n",
       "      <td>23.780</td>\n",
       "      <td>True</td>\n",
       "      <td>False</td>\n",
       "      <td>180</td>\n",
       "      <td>4.6</td>\n",
       "      <td>2.555556</td>\n",
       "      <td>23.780</td>\n",
       "      <td>2.496116</td>\n",
       "    </tr>\n",
       "    <tr>\n",
       "      <th>68</th>\n",
       "      <td>undistorted_GX010191_88_1016</td>\n",
       "      <td>3104</td>\n",
       "      <td>12</td>\n",
       "      <td>265</td>\n",
       "      <td>1005</td>\n",
       "      <td>1038.129</td>\n",
       "      <td>big</td>\n",
       "      <td>190.4</td>\n",
       "      <td>1014.3</td>\n",
       "      <td>23.829</td>\n",
       "      <td>False</td>\n",
       "      <td>False</td>\n",
       "      <td>180</td>\n",
       "      <td>10.4</td>\n",
       "      <td>5.777778</td>\n",
       "      <td>23.829</td>\n",
       "      <td>2.295379</td>\n",
       "    </tr>\n",
       "    <tr>\n",
       "      <th>16</th>\n",
       "      <td>undistorted_GX010191_17_509</td>\n",
       "      <td>4500</td>\n",
       "      <td>2340</td>\n",
       "      <td>473</td>\n",
       "      <td>525</td>\n",
       "      <td>705.238</td>\n",
       "      <td>small</td>\n",
       "      <td>142.3</td>\n",
       "      <td>730.9</td>\n",
       "      <td>25.662</td>\n",
       "      <td>False</td>\n",
       "      <td>True</td>\n",
       "      <td>145</td>\n",
       "      <td>2.7</td>\n",
       "      <td>1.862069</td>\n",
       "      <td>25.662</td>\n",
       "      <td>3.638772</td>\n",
       "    </tr>\n",
       "    <tr>\n",
       "      <th>83</th>\n",
       "      <td>undistorted_GX010191_105_1312</td>\n",
       "      <td>2920</td>\n",
       "      <td>2156</td>\n",
       "      <td>685</td>\n",
       "      <td>121</td>\n",
       "      <td>694.447</td>\n",
       "      <td>small</td>\n",
       "      <td>141.4</td>\n",
       "      <td>720.3</td>\n",
       "      <td>25.853</td>\n",
       "      <td>False</td>\n",
       "      <td>True</td>\n",
       "      <td>145</td>\n",
       "      <td>3.6</td>\n",
       "      <td>2.482759</td>\n",
       "      <td>25.853</td>\n",
       "      <td>3.722818</td>\n",
       "    </tr>\n",
       "    <tr>\n",
       "      <th>49</th>\n",
       "      <td>undistorted_GX010191_37_1242</td>\n",
       "      <td>3780</td>\n",
       "      <td>608</td>\n",
       "      <td>869</td>\n",
       "      <td>461</td>\n",
       "      <td>982.356</td>\n",
       "      <td>big</td>\n",
       "      <td>181.3</td>\n",
       "      <td>956.2</td>\n",
       "      <td>26.156</td>\n",
       "      <td>True</td>\n",
       "      <td>False</td>\n",
       "      <td>180</td>\n",
       "      <td>1.3</td>\n",
       "      <td>0.722222</td>\n",
       "      <td>26.156</td>\n",
       "      <td>2.662579</td>\n",
       "    </tr>\n",
       "    <tr>\n",
       "      <th>44</th>\n",
       "      <td>undistorted_GX010191_36_1195</td>\n",
       "      <td>2872</td>\n",
       "      <td>548</td>\n",
       "      <td>589</td>\n",
       "      <td>497</td>\n",
       "      <td>769.259</td>\n",
       "      <td>small</td>\n",
       "      <td>144.8</td>\n",
       "      <td>740.6</td>\n",
       "      <td>28.659</td>\n",
       "      <td>False</td>\n",
       "      <td>True</td>\n",
       "      <td>145</td>\n",
       "      <td>0.2</td>\n",
       "      <td>0.137931</td>\n",
       "      <td>28.659</td>\n",
       "      <td>3.725533</td>\n",
       "    </tr>\n",
       "    <tr>\n",
       "      <th>64</th>\n",
       "      <td>undistorted_GX010191_47_507</td>\n",
       "      <td>3184</td>\n",
       "      <td>2032</td>\n",
       "      <td>457</td>\n",
       "      <td>745</td>\n",
       "      <td>872.624</td>\n",
       "      <td>big</td>\n",
       "      <td>170.3</td>\n",
       "      <td>905.0</td>\n",
       "      <td>32.376</td>\n",
       "      <td>True</td>\n",
       "      <td>False</td>\n",
       "      <td>180</td>\n",
       "      <td>9.7</td>\n",
       "      <td>5.388889</td>\n",
       "      <td>32.376</td>\n",
       "      <td>3.710189</td>\n",
       "    </tr>\n",
       "    <tr>\n",
       "      <th>98</th>\n",
       "      <td>undistorted_GX010193_18_1289</td>\n",
       "      <td>2068</td>\n",
       "      <td>552</td>\n",
       "      <td>521</td>\n",
       "      <td>1249</td>\n",
       "      <td>1352.000</td>\n",
       "      <td>small</td>\n",
       "      <td>145.8</td>\n",
       "      <td>1312.1</td>\n",
       "      <td>39.900</td>\n",
       "      <td>False</td>\n",
       "      <td>False</td>\n",
       "      <td>145</td>\n",
       "      <td>0.8</td>\n",
       "      <td>0.551724</td>\n",
       "      <td>39.900</td>\n",
       "      <td>2.951183</td>\n",
       "    </tr>\n",
       "    <tr>\n",
       "      <th>89</th>\n",
       "      <td>undistorted_GX010191_114_1383</td>\n",
       "      <td>4616</td>\n",
       "      <td>104</td>\n",
       "      <td>261</td>\n",
       "      <td>773</td>\n",
       "      <td>814.607</td>\n",
       "      <td>small</td>\n",
       "      <td>149.5</td>\n",
       "      <td>772.3</td>\n",
       "      <td>42.307</td>\n",
       "      <td>False</td>\n",
       "      <td>True</td>\n",
       "      <td>145</td>\n",
       "      <td>4.5</td>\n",
       "      <td>3.103448</td>\n",
       "      <td>42.307</td>\n",
       "      <td>5.193547</td>\n",
       "    </tr>\n",
       "    <tr>\n",
       "      <th>3</th>\n",
       "      <td>undistorted_GX010191_8_309</td>\n",
       "      <td>3860</td>\n",
       "      <td>1736</td>\n",
       "      <td>157</td>\n",
       "      <td>901</td>\n",
       "      <td>913.420</td>\n",
       "      <td>big</td>\n",
       "      <td>179.7</td>\n",
       "      <td>958.2</td>\n",
       "      <td>44.780</td>\n",
       "      <td>True</td>\n",
       "      <td>False</td>\n",
       "      <td>180</td>\n",
       "      <td>0.3</td>\n",
       "      <td>0.166667</td>\n",
       "      <td>44.780</td>\n",
       "      <td>4.902455</td>\n",
       "    </tr>\n",
       "    <tr>\n",
       "      <th>28</th>\n",
       "      <td>undistorted_GX010191_34_350</td>\n",
       "      <td>2796</td>\n",
       "      <td>1692</td>\n",
       "      <td>489</td>\n",
       "      <td>533</td>\n",
       "      <td>721.920</td>\n",
       "      <td>small</td>\n",
       "      <td>149.3</td>\n",
       "      <td>766.8</td>\n",
       "      <td>44.880</td>\n",
       "      <td>False</td>\n",
       "      <td>True</td>\n",
       "      <td>145</td>\n",
       "      <td>4.3</td>\n",
       "      <td>2.965517</td>\n",
       "      <td>44.880</td>\n",
       "      <td>6.216755</td>\n",
       "    </tr>\n",
       "    <tr>\n",
       "      <th>36</th>\n",
       "      <td>undistorted_GX010191_35_367</td>\n",
       "      <td>3064</td>\n",
       "      <td>1704</td>\n",
       "      <td>253</td>\n",
       "      <td>661</td>\n",
       "      <td>706.473</td>\n",
       "      <td>small</td>\n",
       "      <td>146.1</td>\n",
       "      <td>752.7</td>\n",
       "      <td>46.227</td>\n",
       "      <td>False</td>\n",
       "      <td>True</td>\n",
       "      <td>145</td>\n",
       "      <td>1.1</td>\n",
       "      <td>0.758621</td>\n",
       "      <td>46.227</td>\n",
       "      <td>6.543350</td>\n",
       "    </tr>\n",
       "    <tr>\n",
       "      <th>19</th>\n",
       "      <td>undistorted_GX010191_28_230</td>\n",
       "      <td>3828</td>\n",
       "      <td>660</td>\n",
       "      <td>181</td>\n",
       "      <td>1009</td>\n",
       "      <td>1023.945</td>\n",
       "      <td>big</td>\n",
       "      <td>201.1</td>\n",
       "      <td>1072.3</td>\n",
       "      <td>48.355</td>\n",
       "      <td>True</td>\n",
       "      <td>False</td>\n",
       "      <td>180</td>\n",
       "      <td>21.1</td>\n",
       "      <td>11.722222</td>\n",
       "      <td>48.355</td>\n",
       "      <td>4.722422</td>\n",
       "    </tr>\n",
       "    <tr>\n",
       "      <th>33</th>\n",
       "      <td>undistorted_GX010191_34_1128</td>\n",
       "      <td>3404</td>\n",
       "      <td>1416</td>\n",
       "      <td>561</td>\n",
       "      <td>769</td>\n",
       "      <td>950.486</td>\n",
       "      <td>big</td>\n",
       "      <td>169.7</td>\n",
       "      <td>900.2</td>\n",
       "      <td>50.286</td>\n",
       "      <td>True</td>\n",
       "      <td>False</td>\n",
       "      <td>180</td>\n",
       "      <td>10.3</td>\n",
       "      <td>5.722222</td>\n",
       "      <td>50.286</td>\n",
       "      <td>5.290557</td>\n",
       "    </tr>\n",
       "    <tr>\n",
       "      <th>51</th>\n",
       "      <td>undistorted_GX010191_38_1266</td>\n",
       "      <td>2768</td>\n",
       "      <td>1296</td>\n",
       "      <td>77</td>\n",
       "      <td>713</td>\n",
       "      <td>716.045</td>\n",
       "      <td>small</td>\n",
       "      <td>150.7</td>\n",
       "      <td>767.3</td>\n",
       "      <td>51.255</td>\n",
       "      <td>False</td>\n",
       "      <td>True</td>\n",
       "      <td>145</td>\n",
       "      <td>5.7</td>\n",
       "      <td>3.931034</td>\n",
       "      <td>51.255</td>\n",
       "      <td>7.158070</td>\n",
       "    </tr>\n",
       "    <tr>\n",
       "      <th>13</th>\n",
       "      <td>undistorted_GX010191_17_509</td>\n",
       "      <td>3220</td>\n",
       "      <td>2060</td>\n",
       "      <td>477</td>\n",
       "      <td>737</td>\n",
       "      <td>876.511</td>\n",
       "      <td>big</td>\n",
       "      <td>174.9</td>\n",
       "      <td>928.0</td>\n",
       "      <td>51.489</td>\n",
       "      <td>True</td>\n",
       "      <td>False</td>\n",
       "      <td>180</td>\n",
       "      <td>5.1</td>\n",
       "      <td>2.833333</td>\n",
       "      <td>51.489</td>\n",
       "      <td>5.874313</td>\n",
       "    </tr>\n",
       "    <tr>\n",
       "      <th>53</th>\n",
       "      <td>undistorted_GX010191_41_1322</td>\n",
       "      <td>2628</td>\n",
       "      <td>764</td>\n",
       "      <td>117</td>\n",
       "      <td>953</td>\n",
       "      <td>959.041</td>\n",
       "      <td>big</td>\n",
       "      <td>169.0</td>\n",
       "      <td>901.2</td>\n",
       "      <td>57.841</td>\n",
       "      <td>True</td>\n",
       "      <td>False</td>\n",
       "      <td>180</td>\n",
       "      <td>11.0</td>\n",
       "      <td>6.111111</td>\n",
       "      <td>57.841</td>\n",
       "      <td>6.031129</td>\n",
       "    </tr>\n",
       "    <tr>\n",
       "      <th>57</th>\n",
       "      <td>undistorted_GX010191_42_1339</td>\n",
       "      <td>2600</td>\n",
       "      <td>1208</td>\n",
       "      <td>345</td>\n",
       "      <td>881</td>\n",
       "      <td>944.847</td>\n",
       "      <td>big</td>\n",
       "      <td>166.6</td>\n",
       "      <td>886.4</td>\n",
       "      <td>58.447</td>\n",
       "      <td>True</td>\n",
       "      <td>False</td>\n",
       "      <td>180</td>\n",
       "      <td>13.4</td>\n",
       "      <td>7.444444</td>\n",
       "      <td>58.447</td>\n",
       "      <td>6.185869</td>\n",
       "    </tr>\n",
       "    <tr>\n",
       "      <th>45</th>\n",
       "      <td>undistorted_GX010191_36_1195</td>\n",
       "      <td>4312</td>\n",
       "      <td>720</td>\n",
       "      <td>437</td>\n",
       "      <td>881</td>\n",
       "      <td>982.088</td>\n",
       "      <td>big</td>\n",
       "      <td>172.9</td>\n",
       "      <td>920.0</td>\n",
       "      <td>62.088</td>\n",
       "      <td>True</td>\n",
       "      <td>False</td>\n",
       "      <td>180</td>\n",
       "      <td>7.1</td>\n",
       "      <td>3.944444</td>\n",
       "      <td>62.088</td>\n",
       "      <td>6.322040</td>\n",
       "    </tr>\n",
       "    <tr>\n",
       "      <th>61</th>\n",
       "      <td>undistorted_GX010191_43_1353</td>\n",
       "      <td>2724</td>\n",
       "      <td>1548</td>\n",
       "      <td>693</td>\n",
       "      <td>625</td>\n",
       "      <td>931.794</td>\n",
       "      <td>big</td>\n",
       "      <td>164.2</td>\n",
       "      <td>867.4</td>\n",
       "      <td>64.394</td>\n",
       "      <td>True</td>\n",
       "      <td>False</td>\n",
       "      <td>180</td>\n",
       "      <td>15.8</td>\n",
       "      <td>8.777778</td>\n",
       "      <td>64.394</td>\n",
       "      <td>6.910755</td>\n",
       "    </tr>\n",
       "    <tr>\n",
       "      <th>5</th>\n",
       "      <td>undistorted_GX010191_10_370</td>\n",
       "      <td>3092</td>\n",
       "      <td>1716</td>\n",
       "      <td>245</td>\n",
       "      <td>653</td>\n",
       "      <td>696.161</td>\n",
       "      <td>small</td>\n",
       "      <td>149.0</td>\n",
       "      <td>762.6</td>\n",
       "      <td>66.439</td>\n",
       "      <td>False</td>\n",
       "      <td>True</td>\n",
       "      <td>145</td>\n",
       "      <td>4.0</td>\n",
       "      <td>2.758621</td>\n",
       "      <td>66.439</td>\n",
       "      <td>9.543626</td>\n",
       "    </tr>\n",
       "    <tr>\n",
       "      <th>80</th>\n",
       "      <td>undistorted_GX010191_105_1312</td>\n",
       "      <td>2528</td>\n",
       "      <td>536</td>\n",
       "      <td>393</td>\n",
       "      <td>913</td>\n",
       "      <td>992.677</td>\n",
       "      <td>big</td>\n",
       "      <td>174.2</td>\n",
       "      <td>924.6</td>\n",
       "      <td>68.077</td>\n",
       "      <td>True</td>\n",
       "      <td>False</td>\n",
       "      <td>180</td>\n",
       "      <td>5.8</td>\n",
       "      <td>3.222222</td>\n",
       "      <td>68.077</td>\n",
       "      <td>6.857921</td>\n",
       "    </tr>\n",
       "    <tr>\n",
       "      <th>95</th>\n",
       "      <td>undistorted_GX010192_26_1578</td>\n",
       "      <td>2128</td>\n",
       "      <td>1296</td>\n",
       "      <td>361</td>\n",
       "      <td>1277</td>\n",
       "      <td>1325.811</td>\n",
       "      <td>small</td>\n",
       "      <td>139.5</td>\n",
       "      <td>1257.0</td>\n",
       "      <td>68.811</td>\n",
       "      <td>False</td>\n",
       "      <td>True</td>\n",
       "      <td>145</td>\n",
       "      <td>5.5</td>\n",
       "      <td>3.793103</td>\n",
       "      <td>68.811</td>\n",
       "      <td>5.190106</td>\n",
       "    </tr>\n",
       "    <tr>\n",
       "      <th>85</th>\n",
       "      <td>undistorted_GX010191_106_1320</td>\n",
       "      <td>3092</td>\n",
       "      <td>2220</td>\n",
       "      <td>733</td>\n",
       "      <td>29</td>\n",
       "      <td>732.535</td>\n",
       "      <td>small</td>\n",
       "      <td>155.0</td>\n",
       "      <td>801.8</td>\n",
       "      <td>69.265</td>\n",
       "      <td>False</td>\n",
       "      <td>True</td>\n",
       "      <td>145</td>\n",
       "      <td>10.0</td>\n",
       "      <td>6.896552</td>\n",
       "      <td>69.265</td>\n",
       "      <td>9.455521</td>\n",
       "    </tr>\n",
       "    <tr>\n",
       "      <th>86</th>\n",
       "      <td>undistorted_GX010191_110_1355</td>\n",
       "      <td>2728</td>\n",
       "      <td>1592</td>\n",
       "      <td>729</td>\n",
       "      <td>577</td>\n",
       "      <td>928.310</td>\n",
       "      <td>big</td>\n",
       "      <td>162.4</td>\n",
       "      <td>857.3</td>\n",
       "      <td>71.010</td>\n",
       "      <td>True</td>\n",
       "      <td>False</td>\n",
       "      <td>180</td>\n",
       "      <td>17.6</td>\n",
       "      <td>9.777778</td>\n",
       "      <td>71.010</td>\n",
       "      <td>7.649384</td>\n",
       "    </tr>\n",
       "    <tr>\n",
       "      <th>25</th>\n",
       "      <td>undistorted_GX010191_32_305</td>\n",
       "      <td>3908</td>\n",
       "      <td>1728</td>\n",
       "      <td>173</td>\n",
       "      <td>933</td>\n",
       "      <td>947.738</td>\n",
       "      <td>big</td>\n",
       "      <td>191.5</td>\n",
       "      <td>1020.8</td>\n",
       "      <td>73.062</td>\n",
       "      <td>True</td>\n",
       "      <td>False</td>\n",
       "      <td>180</td>\n",
       "      <td>11.5</td>\n",
       "      <td>6.388889</td>\n",
       "      <td>73.062</td>\n",
       "      <td>7.709093</td>\n",
       "    </tr>\n",
       "    <tr>\n",
       "      <th>8</th>\n",
       "      <td>undistorted_GX010191_14_460</td>\n",
       "      <td>3536</td>\n",
       "      <td>2224</td>\n",
       "      <td>793</td>\n",
       "      <td>5</td>\n",
       "      <td>792.010</td>\n",
       "      <td>big</td>\n",
       "      <td>162.5</td>\n",
       "      <td>865.9</td>\n",
       "      <td>73.890</td>\n",
       "      <td>True</td>\n",
       "      <td>False</td>\n",
       "      <td>180</td>\n",
       "      <td>17.5</td>\n",
       "      <td>9.722222</td>\n",
       "      <td>73.890</td>\n",
       "      <td>9.329428</td>\n",
       "    </tr>\n",
       "    <tr>\n",
       "      <th>110</th>\n",
       "      <td>undistorted_GX010194_7_885</td>\n",
       "      <td>1836</td>\n",
       "      <td>252</td>\n",
       "      <td>661</td>\n",
       "      <td>1141</td>\n",
       "      <td>1317.270</td>\n",
       "      <td>small</td>\n",
       "      <td>154.7</td>\n",
       "      <td>1391.6</td>\n",
       "      <td>74.330</td>\n",
       "      <td>False</td>\n",
       "      <td>True</td>\n",
       "      <td>145</td>\n",
       "      <td>9.7</td>\n",
       "      <td>6.689655</td>\n",
       "      <td>74.330</td>\n",
       "      <td>5.642731</td>\n",
       "    </tr>\n",
       "    <tr>\n",
       "      <th>11</th>\n",
       "      <td>undistorted_GX010191_16_495</td>\n",
       "      <td>3032</td>\n",
       "      <td>1736</td>\n",
       "      <td>261</td>\n",
       "      <td>877</td>\n",
       "      <td>913.770</td>\n",
       "      <td>big</td>\n",
       "      <td>157.0</td>\n",
       "      <td>835.8</td>\n",
       "      <td>77.970</td>\n",
       "      <td>True</td>\n",
       "      <td>False</td>\n",
       "      <td>180</td>\n",
       "      <td>23.0</td>\n",
       "      <td>12.777778</td>\n",
       "      <td>77.970</td>\n",
       "      <td>8.532782</td>\n",
       "    </tr>\n",
       "    <tr>\n",
       "      <th>92</th>\n",
       "      <td>undistorted_GX010192_26_1578</td>\n",
       "      <td>3392</td>\n",
       "      <td>204</td>\n",
       "      <td>729</td>\n",
       "      <td>1557</td>\n",
       "      <td>1717.882</td>\n",
       "      <td>big</td>\n",
       "      <td>172.9</td>\n",
       "      <td>1639.2</td>\n",
       "      <td>78.682</td>\n",
       "      <td>True</td>\n",
       "      <td>False</td>\n",
       "      <td>180</td>\n",
       "      <td>7.1</td>\n",
       "      <td>3.944444</td>\n",
       "      <td>78.682</td>\n",
       "      <td>4.580175</td>\n",
       "    </tr>\n",
       "    <tr>\n",
       "      <th>106</th>\n",
       "      <td>undistorted_GX010193_28_1584</td>\n",
       "      <td>2612</td>\n",
       "      <td>108</td>\n",
       "      <td>553</td>\n",
       "      <td>1257</td>\n",
       "      <td>1371.948</td>\n",
       "      <td>small</td>\n",
       "      <td>143.6</td>\n",
       "      <td>1292.7</td>\n",
       "      <td>79.248</td>\n",
       "      <td>False</td>\n",
       "      <td>True</td>\n",
       "      <td>145</td>\n",
       "      <td>1.4</td>\n",
       "      <td>0.965517</td>\n",
       "      <td>79.248</td>\n",
       "      <td>5.776312</td>\n",
       "    </tr>\n",
       "    <tr>\n",
       "      <th>9</th>\n",
       "      <td>undistorted_GX010191_15_479</td>\n",
       "      <td>3064</td>\n",
       "      <td>1248</td>\n",
       "      <td>5</td>\n",
       "      <td>933</td>\n",
       "      <td>932.009</td>\n",
       "      <td>big</td>\n",
       "      <td>159.4</td>\n",
       "      <td>850.2</td>\n",
       "      <td>81.809</td>\n",
       "      <td>True</td>\n",
       "      <td>False</td>\n",
       "      <td>180</td>\n",
       "      <td>20.6</td>\n",
       "      <td>11.444444</td>\n",
       "      <td>81.809</td>\n",
       "      <td>8.777705</td>\n",
       "    </tr>\n",
       "    <tr>\n",
       "      <th>112</th>\n",
       "      <td>undistorted_GX010194_19_285</td>\n",
       "      <td>1584</td>\n",
       "      <td>1032</td>\n",
       "      <td>717</td>\n",
       "      <td>1061</td>\n",
       "      <td>1279.162</td>\n",
       "      <td>small</td>\n",
       "      <td>133.1</td>\n",
       "      <td>1194.4</td>\n",
       "      <td>84.762</td>\n",
       "      <td>False</td>\n",
       "      <td>False</td>\n",
       "      <td>145</td>\n",
       "      <td>11.9</td>\n",
       "      <td>8.206897</td>\n",
       "      <td>84.762</td>\n",
       "      <td>6.626369</td>\n",
       "    </tr>\n",
       "    <tr>\n",
       "      <th>90</th>\n",
       "      <td>undistorted_GX010191_117_1408</td>\n",
       "      <td>3760</td>\n",
       "      <td>560</td>\n",
       "      <td>677</td>\n",
       "      <td>709</td>\n",
       "      <td>978.897</td>\n",
       "      <td>big</td>\n",
       "      <td>168.9</td>\n",
       "      <td>893.4</td>\n",
       "      <td>85.497</td>\n",
       "      <td>False</td>\n",
       "      <td>False</td>\n",
       "      <td>180</td>\n",
       "      <td>11.1</td>\n",
       "      <td>6.166667</td>\n",
       "      <td>85.497</td>\n",
       "      <td>8.734014</td>\n",
       "    </tr>\n",
       "    <tr>\n",
       "      <th>65</th>\n",
       "      <td>undistorted_GX010191_47_507</td>\n",
       "      <td>3184</td>\n",
       "      <td>2032</td>\n",
       "      <td>457</td>\n",
       "      <td>745</td>\n",
       "      <td>872.624</td>\n",
       "      <td>small</td>\n",
       "      <td>153.4</td>\n",
       "      <td>786.9</td>\n",
       "      <td>85.724</td>\n",
       "      <td>False</td>\n",
       "      <td>True</td>\n",
       "      <td>145</td>\n",
       "      <td>8.4</td>\n",
       "      <td>5.793103</td>\n",
       "      <td>85.724</td>\n",
       "      <td>9.823704</td>\n",
       "    </tr>\n",
       "    <tr>\n",
       "      <th>113</th>\n",
       "      <td>undistorted_GX010194_26_373</td>\n",
       "      <td>1072</td>\n",
       "      <td>1548</td>\n",
       "      <td>1053</td>\n",
       "      <td>613</td>\n",
       "      <td>1217.065</td>\n",
       "      <td>small</td>\n",
       "      <td>126.4</td>\n",
       "      <td>1126.2</td>\n",
       "      <td>90.865</td>\n",
       "      <td>False</td>\n",
       "      <td>False</td>\n",
       "      <td>145</td>\n",
       "      <td>18.6</td>\n",
       "      <td>12.827586</td>\n",
       "      <td>90.865</td>\n",
       "      <td>7.465912</td>\n",
       "    </tr>\n",
       "    <tr>\n",
       "      <th>99</th>\n",
       "      <td>undistorted_GX010193_19_1334</td>\n",
       "      <td>1032</td>\n",
       "      <td>752</td>\n",
       "      <td>1045</td>\n",
       "      <td>781</td>\n",
       "      <td>1303.202</td>\n",
       "      <td>small</td>\n",
       "      <td>134.3</td>\n",
       "      <td>1199.6</td>\n",
       "      <td>103.602</td>\n",
       "      <td>False</td>\n",
       "      <td>True</td>\n",
       "      <td>145</td>\n",
       "      <td>10.7</td>\n",
       "      <td>7.379310</td>\n",
       "      <td>103.602</td>\n",
       "      <td>7.949804</td>\n",
       "    </tr>\n",
       "    <tr>\n",
       "      <th>101</th>\n",
       "      <td>undistorted_GX010193_20_1365</td>\n",
       "      <td>124</td>\n",
       "      <td>1364</td>\n",
       "      <td>1177</td>\n",
       "      <td>169</td>\n",
       "      <td>1187.939</td>\n",
       "      <td>small</td>\n",
       "      <td>120.6</td>\n",
       "      <td>1070.7</td>\n",
       "      <td>117.239</td>\n",
       "      <td>False</td>\n",
       "      <td>False</td>\n",
       "      <td>145</td>\n",
       "      <td>24.4</td>\n",
       "      <td>16.827586</td>\n",
       "      <td>117.239</td>\n",
       "      <td>9.869109</td>\n",
       "    </tr>\n",
       "  </tbody>\n",
       "</table>\n",
       "</div>"
      ],
      "text/plain": [
       "                        image_name    BX    BY  Width  Height    Length  \\\n",
       "48    undistorted_GX010191_37_1242  2764   948    221     685   718.510   \n",
       "2       undistorted_GX010191_8_309  2456  1376    733     297   789.582   \n",
       "24     undistorted_GX010191_32_305  2516  1328    741     277   789.795   \n",
       "97    undistorted_GX010193_11_1065  2152  1256    973    1445  1740.667   \n",
       "75   undistorted_GX010191_100_1250  2776  1088    137     721   732.732   \n",
       "102   undistorted_GX010193_27_1553  1672   108    253    1749  1766.071   \n",
       "114    undistorted_GX010194_39_513  2436  1320     33    1309  1308.391   \n",
       "70    undistorted_GX010191_94_1132  3052   368    777     273   822.289   \n",
       "40    undistorted_GX010191_35_1167  2844   644    761     125   770.049   \n",
       "22     undistorted_GX010191_31_283  3776  1492    105     941   945.736   \n",
       "60    undistorted_GX010191_42_1339  3728  1880    597     417   726.823   \n",
       "37     undistorted_GX010191_35_367  4092  1392    793     481   926.102   \n",
       "18     undistorted_GX010191_28_230  2348   240    725     345   801.568   \n",
       "29     undistorted_GX010191_34_350  4072  1652    601     741   952.680   \n",
       "68    undistorted_GX010191_88_1016  3104    12    265    1005  1038.129   \n",
       "16     undistorted_GX010191_17_509  4500  2340    473     525   705.238   \n",
       "83   undistorted_GX010191_105_1312  2920  2156    685     121   694.447   \n",
       "49    undistorted_GX010191_37_1242  3780   608    869     461   982.356   \n",
       "44    undistorted_GX010191_36_1195  2872   548    589     497   769.259   \n",
       "64     undistorted_GX010191_47_507  3184  2032    457     745   872.624   \n",
       "98    undistorted_GX010193_18_1289  2068   552    521    1249  1352.000   \n",
       "89   undistorted_GX010191_114_1383  4616   104    261     773   814.607   \n",
       "3       undistorted_GX010191_8_309  3860  1736    157     901   913.420   \n",
       "28     undistorted_GX010191_34_350  2796  1692    489     533   721.920   \n",
       "36     undistorted_GX010191_35_367  3064  1704    253     661   706.473   \n",
       "19     undistorted_GX010191_28_230  3828   660    181    1009  1023.945   \n",
       "33    undistorted_GX010191_34_1128  3404  1416    561     769   950.486   \n",
       "51    undistorted_GX010191_38_1266  2768  1296     77     713   716.045   \n",
       "13     undistorted_GX010191_17_509  3220  2060    477     737   876.511   \n",
       "53    undistorted_GX010191_41_1322  2628   764    117     953   959.041   \n",
       "57    undistorted_GX010191_42_1339  2600  1208    345     881   944.847   \n",
       "45    undistorted_GX010191_36_1195  4312   720    437     881   982.088   \n",
       "61    undistorted_GX010191_43_1353  2724  1548    693     625   931.794   \n",
       "5      undistorted_GX010191_10_370  3092  1716    245     653   696.161   \n",
       "80   undistorted_GX010191_105_1312  2528   536    393     913   992.677   \n",
       "95    undistorted_GX010192_26_1578  2128  1296    361    1277  1325.811   \n",
       "85   undistorted_GX010191_106_1320  3092  2220    733      29   732.535   \n",
       "86   undistorted_GX010191_110_1355  2728  1592    729     577   928.310   \n",
       "25     undistorted_GX010191_32_305  3908  1728    173     933   947.738   \n",
       "8      undistorted_GX010191_14_460  3536  2224    793       5   792.010   \n",
       "110     undistorted_GX010194_7_885  1836   252    661    1141  1317.270   \n",
       "11     undistorted_GX010191_16_495  3032  1736    261     877   913.770   \n",
       "92    undistorted_GX010192_26_1578  3392   204    729    1557  1717.882   \n",
       "106   undistorted_GX010193_28_1584  2612   108    553    1257  1371.948   \n",
       "9      undistorted_GX010191_15_479  3064  1248      5     933   932.009   \n",
       "112    undistorted_GX010194_19_285  1584  1032    717    1061  1279.162   \n",
       "90   undistorted_GX010191_117_1408  3760   560    677     709   978.897   \n",
       "65     undistorted_GX010191_47_507  3184  2032    457     745   872.624   \n",
       "113    undistorted_GX010194_26_373  1072  1548   1053     613  1217.065   \n",
       "99    undistorted_GX010193_19_1334  1032   752   1045     781  1303.202   \n",
       "101   undistorted_GX010193_20_1365   124  1364   1177     169  1187.939   \n",
       "\n",
       "    lobster_size  total_length  pixels_total_length  length_diff  is_big  \\\n",
       "48         small         139.2                719.0        0.490   False   \n",
       "2          small         154.8                790.1        0.518   False   \n",
       "24         small         154.2                786.3        3.495   False   \n",
       "97           big         184.3               1745.4        4.733   False   \n",
       "75         small         143.0                739.4        6.668   False   \n",
       "102          big         186.6               1774.1        8.029    True   \n",
       "114        small         144.1               1300.3        8.091   False   \n",
       "70           big         156.7                832.0        9.711    True   \n",
       "40         small         149.2                759.4       10.649   False   \n",
       "22           big         174.8                931.8       13.936    True   \n",
       "60         small         138.2                708.1       18.723   False   \n",
       "37           big         171.6                905.3       20.802    True   \n",
       "18         small         152.7                778.6       22.968   False   \n",
       "29           big         175.4                928.9       23.780    True   \n",
       "68           big         190.4               1014.3       23.829   False   \n",
       "16         small         142.3                730.9       25.662   False   \n",
       "83         small         141.4                720.3       25.853   False   \n",
       "49           big         181.3                956.2       26.156    True   \n",
       "44         small         144.8                740.6       28.659   False   \n",
       "64           big         170.3                905.0       32.376    True   \n",
       "98         small         145.8               1312.1       39.900   False   \n",
       "89         small         149.5                772.3       42.307   False   \n",
       "3            big         179.7                958.2       44.780    True   \n",
       "28         small         149.3                766.8       44.880   False   \n",
       "36         small         146.1                752.7       46.227   False   \n",
       "19           big         201.1               1072.3       48.355    True   \n",
       "33           big         169.7                900.2       50.286    True   \n",
       "51         small         150.7                767.3       51.255   False   \n",
       "13           big         174.9                928.0       51.489    True   \n",
       "53           big         169.0                901.2       57.841    True   \n",
       "57           big         166.6                886.4       58.447    True   \n",
       "45           big         172.9                920.0       62.088    True   \n",
       "61           big         164.2                867.4       64.394    True   \n",
       "5          small         149.0                762.6       66.439   False   \n",
       "80           big         174.2                924.6       68.077    True   \n",
       "95         small         139.5               1257.0       68.811   False   \n",
       "85         small         155.0                801.8       69.265   False   \n",
       "86           big         162.4                857.3       71.010    True   \n",
       "25           big         191.5               1020.8       73.062    True   \n",
       "8            big         162.5                865.9       73.890    True   \n",
       "110        small         154.7               1391.6       74.330   False   \n",
       "11           big         157.0                835.8       77.970    True   \n",
       "92           big         172.9               1639.2       78.682    True   \n",
       "106        small         143.6               1292.7       79.248   False   \n",
       "9            big         159.4                850.2       81.809    True   \n",
       "112        small         133.1               1194.4       84.762   False   \n",
       "90           big         168.9                893.4       85.497   False   \n",
       "65         small         153.4                786.9       85.724   False   \n",
       "113        small         126.4               1126.2       90.865   False   \n",
       "99         small         134.3               1199.6      103.602   False   \n",
       "101        small         120.6               1070.7      117.239   False   \n",
       "\n",
       "     is_small  real_length  real_length_abs_diff  real_length_rel_diff  \\\n",
       "48       True          145                   5.8              4.000000   \n",
       "2        True          145                   9.8              6.758621   \n",
       "24       True          145                   9.2              6.344828   \n",
       "97      False          180                   4.3              2.388889   \n",
       "75       True          145                   2.0              1.379310   \n",
       "102     False          180                   6.6              3.666667   \n",
       "114     False          145                   0.9              0.620690   \n",
       "70      False          180                  23.3             12.944444   \n",
       "40       True          145                   4.2              2.896552   \n",
       "22      False          180                   5.2              2.888889   \n",
       "60       True          145                   6.8              4.689655   \n",
       "37      False          180                   8.4              4.666667   \n",
       "18       True          145                   7.7              5.310345   \n",
       "29      False          180                   4.6              2.555556   \n",
       "68      False          180                  10.4              5.777778   \n",
       "16       True          145                   2.7              1.862069   \n",
       "83       True          145                   3.6              2.482759   \n",
       "49      False          180                   1.3              0.722222   \n",
       "44       True          145                   0.2              0.137931   \n",
       "64      False          180                   9.7              5.388889   \n",
       "98      False          145                   0.8              0.551724   \n",
       "89       True          145                   4.5              3.103448   \n",
       "3       False          180                   0.3              0.166667   \n",
       "28       True          145                   4.3              2.965517   \n",
       "36       True          145                   1.1              0.758621   \n",
       "19      False          180                  21.1             11.722222   \n",
       "33      False          180                  10.3              5.722222   \n",
       "51       True          145                   5.7              3.931034   \n",
       "13      False          180                   5.1              2.833333   \n",
       "53      False          180                  11.0              6.111111   \n",
       "57      False          180                  13.4              7.444444   \n",
       "45      False          180                   7.1              3.944444   \n",
       "61      False          180                  15.8              8.777778   \n",
       "5        True          145                   4.0              2.758621   \n",
       "80      False          180                   5.8              3.222222   \n",
       "95       True          145                   5.5              3.793103   \n",
       "85       True          145                  10.0              6.896552   \n",
       "86      False          180                  17.6              9.777778   \n",
       "25      False          180                  11.5              6.388889   \n",
       "8       False          180                  17.5              9.722222   \n",
       "110      True          145                   9.7              6.689655   \n",
       "11      False          180                  23.0             12.777778   \n",
       "92      False          180                   7.1              3.944444   \n",
       "106      True          145                   1.4              0.965517   \n",
       "9       False          180                  20.6             11.444444   \n",
       "112     False          145                  11.9              8.206897   \n",
       "90      False          180                  11.1              6.166667   \n",
       "65       True          145                   8.4              5.793103   \n",
       "113     False          145                  18.6             12.827586   \n",
       "99       True          145                  10.7              7.379310   \n",
       "101     False          145                  24.4             16.827586   \n",
       "\n",
       "     pixel_abs_diff  pixel_rel_diff  \n",
       "48            0.490        0.068197  \n",
       "2             0.518        0.065604  \n",
       "24            3.495        0.442520  \n",
       "97            4.733        0.271907  \n",
       "75            6.668        0.910019  \n",
       "102           8.029        0.454625  \n",
       "114           8.091        0.618393  \n",
       "70            9.711        1.180972  \n",
       "40           10.649        1.382899  \n",
       "22           13.936        1.473561  \n",
       "60           18.723        2.576005  \n",
       "37           20.802        2.246189  \n",
       "18           22.968        2.865384  \n",
       "29           23.780        2.496116  \n",
       "68           23.829        2.295379  \n",
       "16           25.662        3.638772  \n",
       "83           25.853        3.722818  \n",
       "49           26.156        2.662579  \n",
       "44           28.659        3.725533  \n",
       "64           32.376        3.710189  \n",
       "98           39.900        2.951183  \n",
       "89           42.307        5.193547  \n",
       "3            44.780        4.902455  \n",
       "28           44.880        6.216755  \n",
       "36           46.227        6.543350  \n",
       "19           48.355        4.722422  \n",
       "33           50.286        5.290557  \n",
       "51           51.255        7.158070  \n",
       "13           51.489        5.874313  \n",
       "53           57.841        6.031129  \n",
       "57           58.447        6.185869  \n",
       "45           62.088        6.322040  \n",
       "61           64.394        6.910755  \n",
       "5            66.439        9.543626  \n",
       "80           68.077        6.857921  \n",
       "95           68.811        5.190106  \n",
       "85           69.265        9.455521  \n",
       "86           71.010        7.649384  \n",
       "25           73.062        7.709093  \n",
       "8            73.890        9.329428  \n",
       "110          74.330        5.642731  \n",
       "11           77.970        8.532782  \n",
       "92           78.682        4.580175  \n",
       "106          79.248        5.776312  \n",
       "9            81.809        8.777705  \n",
       "112          84.762        6.626369  \n",
       "90           85.497        8.734014  \n",
       "65           85.724        9.823704  \n",
       "113          90.865        7.465912  \n",
       "99          103.602        7.949804  \n",
       "101         117.239        9.869109  "
      ]
     },
     "metadata": {},
     "output_type": "display_data"
    }
   ],
   "source": [
    "# Calculate absolute difference between pixels_total_length and Length\n",
    "new_df['pixel_abs_diff'] = abs(new_df['pixels_total_length'] - new_df['Length'])\n",
    "\n",
    "# Calculate relative difference as percentage \n",
    "new_df['pixel_rel_diff'] = (new_df['pixel_abs_diff'] / new_df['Length']) * 100\n",
    "\n",
    "display(new_df)\n"
   ]
  },
  {
   "cell_type": "code",
   "execution_count": 16,
   "metadata": {},
   "outputs": [],
   "source": [
    "new_df.to_csv('/Users/gilbenor/Documents/code projects/msc/counting_research_algorithms/fifty_one/measurements/data/length_analysis_new_split_shai_exuviae.csv', index=False)"
   ]
  },
  {
   "cell_type": "code",
   "execution_count": 11,
   "metadata": {},
   "outputs": [
    {
     "name": "stdout",
     "output_type": "stream",
     "text": [
      "51\n"
     ]
    },
    {
     "data": {
      "image/png": "[encoded data removed]",
      "text/plain": [
       "<Figure size 1000x800 with 1 Axes>"
      ]
     },
     "metadata": {},
     "output_type": "display_data"
    }
   ],
   "source": [
    "# Create scatter plot comparing Length vs pixels_total_length\n",
    "\n",
    "import matplotlib.pyplot as plt\n",
    "import numpy as np\n",
    "from scipy import stats\n",
    "\n",
    "plt.figure(figsize=(10, 8))\n",
    "\n",
    "# Plot points with different colors based on relative error\n",
    "error_thresholds = [5, 10, 15]\n",
    "colors = ['green', 'yellow', 'orange', 'red']\n",
    "\n",
    "for i in range(len(error_thresholds) + 1):\n",
    "    if i == 0:\n",
    "        mask = new_df['real_length_rel_diff'] <= error_thresholds[0]\n",
    "        label = f'Error ≤ {error_thresholds[0]}%'\n",
    "    elif i == len(error_thresholds):\n",
    "        mask = new_df['real_length_rel_diff'] > error_thresholds[-1]\n",
    "        label = f'Error > {error_thresholds[-1]}%'\n",
    "    else:\n",
    "        mask = (new_df['real_length_rel_diff'] > error_thresholds[i-1]) & \\\n",
    "               (new_df['real_length_rel_diff'] <= error_thresholds[i])\n",
    "        label = f'{error_thresholds[i-1]}% < Error ≤ {error_thresholds[i]}%'\n",
    "    \n",
    "    plt.scatter(new_df[mask]['Length'], \n",
    "               new_df[mask]['pixels_total_length'],\n",
    "               c=colors[i],\n",
    "               alpha=0.6,\n",
    "               label=label)\n",
    "\n",
    "# Calculate trend line and R-squared\n",
    "slope, intercept, r_value, p_value, std_err = stats.linregress(new_df['Length'], new_df['pixels_total_length'])\n",
    "r_squared = r_value**2\n",
    "print(len(new_df))\n",
    "# Add trend line\n",
    "x = np.array([new_df['Length'].min(), new_df['Length'].max()])\n",
    "plt.plot(x, slope * x + intercept, 'b-', label=f'Trend line (R² = {r_squared:.3f})')\n",
    "\n",
    "# Add diagonal line representing perfect correlation\n",
    "min_val = min(new_df['Length'].min(), new_df['pixels_total_length'].min())\n",
    "max_val = max(new_df['Length'].max(), new_df['pixels_total_length'].max())\n",
    "plt.plot([min_val, max_val], [min_val, max_val], 'k--', alpha=0.5, label='Perfect correlation')\n",
    "\n",
    "plt.xlabel('annotated length (pixels)')\n",
    "plt.ylabel('predicted  total length(pixels)')\n",
    "plt.title('Comparison of predicted and annotated pixel length measurements\\nColored by real length Error')\n",
    "plt.legend()\n",
    "plt.grid(True, alpha=0.3)\n",
    "\n",
    "# Make plot square\n",
    "plt.axis('equal')\n",
    "plt.tight_layout()\n",
    "plt.show()\n"
   ]
  },
  {
   "cell_type": "code",
   "execution_count": 15,
   "metadata": {},
   "outputs": [
    {
     "data": {
      "application/vnd.plotly.v1+json": {
       "config": {
        "plotlyServerURL": "https://plot.ly"
       },
       "data": [
        {
         "customdata": [
          [
           "undistorted_GX010191_37_1242",
           139.2,
           "small",
           0.06819668480605824,
           0.4900000000000091,
           5.800000000000011,
           4.000000000000008
          ],
          [
           "undistorted_GX010193_11_1065",
           184.3,
           "big",
           0.2719072631353484,
           4.733000000000175,
           4.300000000000011,
           2.388888888888895
          ],
          [
           "undistorted_GX010191_100_1250",
           143,
           "small",
           0.910018942805829,
           6.668000000000006,
           2,
           1.3793103448275863
          ],
          [
           "undistorted_GX010193_27_1553",
           186.6,
           "big",
           0.45462498393326184,
           8.028999999999996,
           6.599999999999994,
           3.6666666666666634
          ],
          [
           "undistorted_GX010194_39_513",
           144.1,
           "small",
           0.6183931256023713,
           8.091000000000122,
           0.9000000000000057,
           0.6206896551724177
          ],
          [
           "undistorted_GX010191_35_1167",
           149.2,
           "small",
           1.38289901032272,
           10.649000000000001,
           4.199999999999989,
           2.896551724137923
          ],
          [
           "undistorted_GX010191_31_283",
           174.8,
           "big",
           1.4735613321265169,
           13.936000000000035,
           5.199999999999989,
           2.8888888888888826
          ],
          [
           "undistorted_GX010191_42_1339",
           138.2,
           "small",
           2.576005437362323,
           18.722999999999956,
           6.800000000000011,
           4.689655172413801
          ],
          [
           "undistorted_GX010191_35_367",
           171.6,
           "big",
           2.246188864725486,
           20.80200000000002,
           8.400000000000006,
           4.66666666666667
          ],
          [
           "undistorted_GX010191_34_350",
           175.4,
           "big",
           2.4961162195070723,
           23.779999999999973,
           4.599999999999994,
           2.5555555555555522
          ],
          [
           "undistorted_GX010191_17_509",
           142.3,
           "small",
           3.6387715920015538,
           25.66199999999992,
           2.6999999999999886,
           1.8620689655172336
          ],
          [
           "undistorted_GX010191_105_1312",
           141.4,
           "small",
           3.722818300028649,
           25.852999999999952,
           3.5999999999999943,
           2.4827586206896513
          ],
          [
           "undistorted_GX010191_37_1242",
           181.3,
           "big",
           2.662578535683596,
           26.15599999999995,
           1.3000000000000114,
           0.7222222222222285
          ],
          [
           "undistorted_GX010191_36_1195",
           144.8,
           "small",
           3.7255332729288826,
           28.658999999999992,
           0.19999999999998863,
           0.1379310344827508
          ],
          [
           "undistorted_GX010193_18_1289",
           145.8,
           "small",
           2.9511834319526695,
           39.90000000000009,
           0.8000000000000114,
           0.5517241379310424
          ],
          [
           "undistorted_GX010191_114_1383",
           149.5,
           "small",
           5.193547317909129,
           42.307000000000016,
           4.5,
           3.103448275862069
          ],
          [
           "undistorted_GX010191_8_309",
           179.7,
           "big",
           4.902454511615695,
           44.780000000000086,
           0.30000000000001137,
           0.16666666666667299
          ],
          [
           "undistorted_GX010191_34_350",
           149.3,
           "small",
           6.216755319148936,
           44.879999999999995,
           4.300000000000011,
           2.965517241379318
          ],
          [
           "undistorted_GX010191_35_367",
           146.1,
           "small",
           6.543349852011343,
           46.22700000000009,
           1.0999999999999943,
           0.7586206896551685
          ],
          [
           "undistorted_GX010191_38_1266",
           150.7,
           "small",
           7.158069674391972,
           51.254999999999995,
           5.699999999999989,
           3.931034482758613
          ],
          [
           "undistorted_GX010191_17_509",
           174.9,
           "big",
           5.8743130434187405,
           51.48900000000003,
           5.099999999999994,
           2.83333333333333
          ],
          [
           "undistorted_GX010191_36_1195",
           172.9,
           "big",
           6.322040387419454,
           62.087999999999965,
           7.099999999999994,
           3.9444444444444415
          ],
          [
           "undistorted_GX010191_10_370",
           149,
           "small",
           9.54362568428856,
           66.43900000000008,
           4,
           2.7586206896551726
          ],
          [
           "undistorted_GX010191_105_1312",
           174.2,
           "big",
           6.857920552203788,
           68.077,
           5.800000000000011,
           3.2222222222222285
          ],
          [
           "undistorted_GX010192_26_1578",
           139.5,
           "small",
           5.190106282117129,
           68.81099999999992,
           5.5,
           3.793103448275862
          ],
          [
           "undistorted_GX010192_26_1578",
           172.9,
           "big",
           4.580174889777063,
           78.68200000000002,
           7.099999999999994,
           3.9444444444444415
          ],
          [
           "undistorted_GX010193_28_1584",
           143.6,
           "small",
           5.776312221746017,
           79.24800000000005,
           1.4000000000000057,
           0.9655172413793143
          ]
         ],
         "hovertemplate": "<b>Image:</b> %{customdata[0]}<br><b>Pixels Total Length:</b> %{y:.1f}<br><b>Length:</b> %{x:.1f}<br><b>Total Length:</b> %{customdata[1]:.1f}<br><b>Lobster Size:</b> %{customdata[2]}<br><b>Pixel Rel Diff:</b> %{customdata[3]:.1f}%<br><b>Pixel Abs Diff:</b> %{customdata[4]:.1f}<br><b>Real Length Abs Diff:</b> %{customdata[5]:.1f}<br><b>Real Length Rel Diff:</b> %{customdata[6]:.1f}%<br>",
         "marker": {
          "color": "green",
          "opacity": 0.6,
          "size": 10
         },
         "mode": "markers",
         "name": "Error ≤ 5%",
         "type": "scatter",
         "x": [
          718.51,
          1740.667,
          732.732,
          1766.071,
          1308.391,
          770.049,
          945.736,
          726.823,
          926.102,
          952.68,
          705.238,
          694.447,
          982.356,
          769.259,
          1352,
          814.607,
          913.42,
          721.92,
          706.473,
          716.045,
          876.511,
          982.088,
          696.161,
          992.677,
          1325.811,
          1717.882,
          1371.948
         ],
         "y": [
          719,
          1745.4,
          739.4,
          1774.1,
          1300.3,
          759.4,
          931.8,
          708.1,
          905.3,
          928.9,
          730.9,
          720.3,
          956.2,
          740.6,
          1312.1,
          772.3,
          958.2,
          766.8,
          752.7,
          767.3,
          928,
          920,
          762.6,
          924.6,
          1257,
          1639.2,
          1292.7
         ]
        },
        {
         "customdata": [
          [
           "undistorted_GX010191_8_309",
           154.8,
           "small",
           0.06560433241892914,
           0.5180000000000291,
           9.800000000000011,
           6.75862068965518
          ],
          [
           "undistorted_GX010191_32_305",
           154.2,
           "small",
           0.44251989440297856,
           3.4950000000000045,
           9.199999999999989,
           6.344827586206889
          ],
          [
           "undistorted_GX010191_28_230",
           152.7,
           "small",
           2.8653838476585847,
           22.96799999999996,
           7.699999999999989,
           5.310344827586199
          ],
          [
           "undistorted_GX010191_88_1016",
           190.4,
           "big",
           2.2953794759610755,
           23.82899999999995,
           10.400000000000006,
           5.777777777777781
          ],
          [
           "undistorted_GX010191_47_507",
           170.3,
           "big",
           3.7101890390362833,
           32.375999999999976,
           9.699999999999989,
           5.388888888888883
          ],
          [
           "undistorted_GX010191_34_1128",
           169.7,
           "big",
           5.290556620507818,
           50.285999999999945,
           10.300000000000011,
           5.7222222222222285
          ],
          [
           "undistorted_GX010191_41_1322",
           169,
           "big",
           6.0311290132538655,
           57.84100000000001,
           11,
           6.111111111111111
          ],
          [
           "undistorted_GX010191_42_1339",
           166.6,
           "big",
           6.185869246555263,
           58.447,
           13.400000000000006,
           7.444444444444448
          ],
          [
           "undistorted_GX010191_43_1353",
           164.2,
           "big",
           6.91075495227486,
           64.394,
           15.800000000000011,
           8.777777777777784
          ],
          [
           "undistorted_GX010191_106_1320",
           155,
           "small",
           9.455520896612448,
           69.26499999999999,
           10,
           6.896551724137931
          ],
          [
           "undistorted_GX010191_110_1355",
           162.4,
           "big",
           7.649384365136645,
           71.00999999999999,
           17.599999999999994,
           9.777777777777775
          ],
          [
           "undistorted_GX010191_32_305",
           191.5,
           "big",
           7.709092597321189,
           73.0619999999999,
           11.5,
           6.388888888888888
          ],
          [
           "undistorted_GX010191_14_460",
           162.5,
           "big",
           9.32942765874168,
           73.88999999999999,
           17.5,
           9.722222222222223
          ],
          [
           "undistorted_GX010194_7_885",
           154.7,
           "small",
           5.6427307993046165,
           74.32999999999993,
           9.699999999999989,
           6.689655172413786
          ],
          [
           "undistorted_GX010194_19_285",
           133.1,
           "small",
           6.626369451250111,
           84.76199999999994,
           11.900000000000006,
           8.206896551724142
          ],
          [
           "undistorted_GX010191_117_1408",
           168.9,
           "big",
           8.734013895231067,
           85.49700000000007,
           11.099999999999994,
           6.166666666666663
          ],
          [
           "undistorted_GX010191_47_507",
           153.4,
           "small",
           9.82370413832304,
           85.72400000000005,
           8.400000000000006,
           5.793103448275866
          ],
          [
           "undistorted_GX010193_19_1334",
           134.3,
           "small",
           7.949803637502098,
           103.60200000000009,
           10.699999999999989,
           7.379310344827579
          ]
         ],
         "hovertemplate": "<b>Image:</b> %{customdata[0]}<br><b>Pixels Total Length:</b> %{y:.1f}<br><b>Length:</b> %{x:.1f}<br><b>Total Length:</b> %{customdata[1]:.1f}<br><b>Lobster Size:</b> %{customdata[2]}<br><b>Pixel Rel Diff:</b> %{customdata[3]:.1f}%<br><b>Pixel Abs Diff:</b> %{customdata[4]:.1f}<br><b>Real Length Abs Diff:</b> %{customdata[5]:.1f}<br><b>Real Length Rel Diff:</b> %{customdata[6]:.1f}%<br>",
         "marker": {
          "color": "yellow",
          "opacity": 0.6,
          "size": 10
         },
         "mode": "markers",
         "name": "5% < Error ≤ 10%",
         "type": "scatter",
         "x": [
          789.582,
          789.795,
          801.568,
          1038.129,
          872.624,
          950.486,
          959.041,
          944.847,
          931.794,
          732.535,
          928.31,
          947.738,
          792.01,
          1317.27,
          1279.162,
          978.897,
          872.624,
          1303.202
         ],
         "y": [
          790.1,
          786.3,
          778.6,
          1014.3,
          905,
          900.2,
          901.2,
          886.4,
          867.4,
          801.8,
          857.3,
          1020.8,
          865.9,
          1391.6,
          1194.4,
          893.4,
          786.9,
          1199.6
         ]
        },
        {
         "customdata": [
          [
           "undistorted_GX010191_94_1132",
           156.7,
           "big",
           1.1809716535184118,
           9.711000000000013,
           23.30000000000001,
           12.94444444444445
          ],
          [
           "undistorted_GX010191_28_230",
           201.1,
           "big",
           4.7224216144421725,
           48.354999999999905,
           21.099999999999994,
           11.722222222222218
          ],
          [
           "undistorted_GX010191_16_495",
           157,
           "big",
           8.532781772218396,
           77.97000000000003,
           23,
           12.777777777777777
          ],
          [
           "undistorted_GX010191_15_479",
           159.4,
           "big",
           8.77770493632572,
           81.80899999999997,
           20.599999999999994,
           11.444444444444441
          ],
          [
           "undistorted_GX010194_26_373",
           126.4,
           "small",
           7.4659118452999635,
           90.86500000000001,
           18.599999999999994,
           12.82758620689655
          ]
         ],
         "hovertemplate": "<b>Image:</b> %{customdata[0]}<br><b>Pixels Total Length:</b> %{y:.1f}<br><b>Length:</b> %{x:.1f}<br><b>Total Length:</b> %{customdata[1]:.1f}<br><b>Lobster Size:</b> %{customdata[2]}<br><b>Pixel Rel Diff:</b> %{customdata[3]:.1f}%<br><b>Pixel Abs Diff:</b> %{customdata[4]:.1f}<br><b>Real Length Abs Diff:</b> %{customdata[5]:.1f}<br><b>Real Length Rel Diff:</b> %{customdata[6]:.1f}%<br>",
         "marker": {
          "color": "orange",
          "opacity": 0.6,
          "size": 10
         },
         "mode": "markers",
         "name": "10% < Error ≤ 15%",
         "type": "scatter",
         "x": [
          822.289,
          1023.945,
          913.77,
          932.009,
          1217.065
         ],
         "y": [
          832,
          1072.3,
          835.8,
          850.2,
          1126.2
         ]
        },
        {
         "customdata": [
          [
           "undistorted_GX010193_20_1365",
           120.6,
           "small",
           9.869109440804623,
           117.23900000000003,
           24.400000000000006,
           16.827586206896555
          ]
         ],
         "hovertemplate": "<b>Image:</b> %{customdata[0]}<br><b>Pixels Total Length:</b> %{y:.1f}<br><b>Length:</b> %{x:.1f}<br><b>Total Length:</b> %{customdata[1]:.1f}<br><b>Lobster Size:</b> %{customdata[2]}<br><b>Pixel Rel Diff:</b> %{customdata[3]:.1f}%<br><b>Pixel Abs Diff:</b> %{customdata[4]:.1f}<br><b>Real Length Abs Diff:</b> %{customdata[5]:.1f}<br><b>Real Length Rel Diff:</b> %{customdata[6]:.1f}%<br>",
         "marker": {
          "color": "red",
          "opacity": 0.6,
          "size": 10
         },
         "mode": "markers",
         "name": "Error > 15%",
         "type": "scatter",
         "x": [
          1187.939
         ],
         "y": [
          1070.7
         ]
        },
        {
         "line": {
          "color": "black",
          "dash": "dash",
          "width": 1
         },
         "mode": "lines",
         "name": "Perfect correlation",
         "opacity": 0.5,
         "type": "scatter",
         "x": [
          694.447,
          1774.1
         ],
         "y": [
          694.447,
          1774.1
         ]
        }
       ],
       "layout": {
        "height": 800,
        "plot_bgcolor": "white",
        "showlegend": true,
        "template": {
         "data": {
          "bar": [
           {
            "error_x": {
             "color": "#2a3f5f"
            },
            "error_y": {
             "color": "#2a3f5f"
            },
            "marker": {
             "line": {
              "color": "#E5ECF6",
              "width": 0.5
             },
             "pattern": {
              "fillmode": "overlay",
              "size": 10,
              "solidity": 0.2
             }
            },
            "type": "bar"
           }
          ],
          "barpolar": [
           {
            "marker": {
             "line": {
              "color": "#E5ECF6",
              "width": 0.5
             },
             "pattern": {
              "fillmode": "overlay",
              "size": 10,
              "solidity": 0.2
             }
            },
            "type": "barpolar"
           }
          ],
          "carpet": [
           {
            "aaxis": {
             "endlinecolor": "#2a3f5f",
             "gridcolor": "white",
             "linecolor": "white",
             "minorgridcolor": "white",
             "startlinecolor": "#2a3f5f"
            },
            "baxis": {
             "endlinecolor": "#2a3f5f",
             "gridcolor": "white",
             "linecolor": "white",
             "minorgridcolor": "white",
             "startlinecolor": "#2a3f5f"
            },
            "type": "carpet"
           }
          ],
          "choropleth": [
           {
            "colorbar": {
             "outlinewidth": 0,
             "ticks": ""
            },
            "type": "choropleth"
           }
          ],
          "contour": [
           {
            "colorbar": {
             "outlinewidth": 0,
             "ticks": ""
            },
            "colorscale": [
             [
              0,
              "#0d0887"
             ],
             [
              0.1111111111111111,
              "#46039f"
             ],
             [
              0.2222222222222222,
              "#7201a8"
             ],
             [
              0.3333333333333333,
              "#9c179e"
             ],
             [
              0.4444444444444444,
              "#bd3786"
             ],
             [
              0.5555555555555556,
              "#d8576b"
             ],
             [
              0.6666666666666666,
              "#ed7953"
             ],
             [
              0.7777777777777778,
              "#fb9f3a"
             ],
             [
              0.8888888888888888,
              "#fdca26"
             ],
             [
              1,
              "#f0f921"
             ]
            ],
            "type": "contour"
           }
          ],
          "contourcarpet": [
           {
            "colorbar": {
             "outlinewidth": 0,
             "ticks": ""
            },
            "type": "contourcarpet"
           }
          ],
          "heatmap": [
           {
            "colorbar": {
             "outlinewidth": 0,
             "ticks": ""
            },
            "colorscale": [
             [
              0,
              "#0d0887"
             ],
             [
              0.1111111111111111,
              "#46039f"
             ],
             [
              0.2222222222222222,
              "#7201a8"
             ],
             [
              0.3333333333333333,
              "#9c179e"
             ],
             [
              0.4444444444444444,
              "#bd3786"
             ],
             [
              0.5555555555555556,
              "#d8576b"
             ],
             [
              0.6666666666666666,
              "#ed7953"
             ],
             [
              0.7777777777777778,
              "#fb9f3a"
             ],
             [
              0.8888888888888888,
              "#fdca26"
             ],
             [
              1,
              "#f0f921"
             ]
            ],
            "type": "heatmap"
           }
          ],
          "heatmapgl": [
           {
            "colorbar": {
             "outlinewidth": 0,
             "ticks": ""
            },
            "colorscale": [
             [
              0,
              "#0d0887"
             ],
             [
              0.1111111111111111,
              "#46039f"
             ],
             [
              0.2222222222222222,
              "#7201a8"
             ],
             [
              0.3333333333333333,
              "#9c179e"
             ],
             [
              0.4444444444444444,
              "#bd3786"
             ],
             [
              0.5555555555555556,
              "#d8576b"
             ],
             [
              0.6666666666666666,
              "#ed7953"
             ],
             [
              0.7777777777777778,
              "#fb9f3a"
             ],
             [
              0.8888888888888888,
              "#fdca26"
             ],
             [
              1,
              "#f0f921"
             ]
            ],
            "type": "heatmapgl"
           }
          ],
          "histogram": [
           {
            "marker": {
             "pattern": {
              "fillmode": "overlay",
              "size": 10,
              "solidity": 0.2
             }
            },
            "type": "histogram"
           }
          ],
          "histogram2d": [
           {
            "colorbar": {
             "outlinewidth": 0,
             "ticks": ""
            },
            "colorscale": [
             [
              0,
              "#0d0887"
             ],
             [
              0.1111111111111111,
              "#46039f"
             ],
             [
              0.2222222222222222,
              "#7201a8"
             ],
             [
              0.3333333333333333,
              "#9c179e"
             ],
             [
              0.4444444444444444,
              "#bd3786"
             ],
             [
              0.5555555555555556,
              "#d8576b"
             ],
             [
              0.6666666666666666,
              "#ed7953"
             ],
             [
              0.7777777777777778,
              "#fb9f3a"
             ],
             [
              0.8888888888888888,
              "#fdca26"
             ],
             [
              1,
              "#f0f921"
             ]
            ],
            "type": "histogram2d"
           }
          ],
          "histogram2dcontour": [
           {
            "colorbar": {
             "outlinewidth": 0,
             "ticks": ""
            },
            "colorscale": [
             [
              0,
              "#0d0887"
             ],
             [
              0.1111111111111111,
              "#46039f"
             ],
             [
              0.2222222222222222,
              "#7201a8"
             ],
             [
              0.3333333333333333,
              "#9c179e"
             ],
             [
              0.4444444444444444,
              "#bd3786"
             ],
             [
              0.5555555555555556,
              "#d8576b"
             ],
             [
              0.6666666666666666,
              "#ed7953"
             ],
             [
              0.7777777777777778,
              "#fb9f3a"
             ],
             [
              0.8888888888888888,
              "#fdca26"
             ],
             [
              1,
              "#f0f921"
             ]
            ],
            "type": "histogram2dcontour"
           }
          ],
          "mesh3d": [
           {
            "colorbar": {
             "outlinewidth": 0,
             "ticks": ""
            },
            "type": "mesh3d"
           }
          ],
          "parcoords": [
           {
            "line": {
             "colorbar": {
              "outlinewidth": 0,
              "ticks": ""
             }
            },
            "type": "parcoords"
           }
          ],
          "pie": [
           {
            "automargin": true,
            "type": "pie"
           }
          ],
          "scatter": [
           {
            "fillpattern": {
             "fillmode": "overlay",
             "size": 10,
             "solidity": 0.2
            },
            "type": "scatter"
           }
          ],
          "scatter3d": [
           {
            "line": {
             "colorbar": {
              "outlinewidth": 0,
              "ticks": ""
             }
            },
            "marker": {
             "colorbar": {
              "outlinewidth": 0,
              "ticks": ""
             }
            },
            "type": "scatter3d"
           }
          ],
          "scattercarpet": [
           {
            "marker": {
             "colorbar": {
              "outlinewidth": 0,
              "ticks": ""
             }
            },
            "type": "scattercarpet"
           }
          ],
          "scattergeo": [
           {
            "marker": {
             "colorbar": {
              "outlinewidth": 0,
              "ticks": ""
             }
            },
            "type": "scattergeo"
           }
          ],
          "scattergl": [
           {
            "marker": {
             "colorbar": {
              "outlinewidth": 0,
              "ticks": ""
             }
            },
            "type": "scattergl"
           }
          ],
          "scattermapbox": [
           {
            "marker": {
             "colorbar": {
              "outlinewidth": 0,
              "ticks": ""
             }
            },
            "type": "scattermapbox"
           }
          ],
          "scatterpolar": [
           {
            "marker": {
             "colorbar": {
              "outlinewidth": 0,
              "ticks": ""
             }
            },
            "type": "scatterpolar"
           }
          ],
          "scatterpolargl": [
           {
            "marker": {
             "colorbar": {
              "outlinewidth": 0,
              "ticks": ""
             }
            },
            "type": "scatterpolargl"
           }
          ],
          "scatterternary": [
           {
            "marker": {
             "colorbar": {
              "outlinewidth": 0,
              "ticks": ""
             }
            },
            "type": "scatterternary"
           }
          ],
          "surface": [
           {
            "colorbar": {
             "outlinewidth": 0,
             "ticks": ""
            },
            "colorscale": [
             [
              0,
              "#0d0887"
             ],
             [
              0.1111111111111111,
              "#46039f"
             ],
             [
              0.2222222222222222,
              "#7201a8"
             ],
             [
              0.3333333333333333,
              "#9c179e"
             ],
             [
              0.4444444444444444,
              "#bd3786"
             ],
             [
              0.5555555555555556,
              "#d8576b"
             ],
             [
              0.6666666666666666,
              "#ed7953"
             ],
             [
              0.7777777777777778,
              "#fb9f3a"
             ],
             [
              0.8888888888888888,
              "#fdca26"
             ],
             [
              1,
              "#f0f921"
             ]
            ],
            "type": "surface"
           }
          ],
          "table": [
           {
            "cells": {
             "fill": {
              "color": "#EBF0F8"
             },
             "line": {
              "color": "white"
             }
            },
            "header": {
             "fill": {
              "color": "#C8D4E3"
             },
             "line": {
              "color": "white"
             }
            },
            "type": "table"
           }
          ]
         },
         "layout": {
          "annotationdefaults": {
           "arrowcolor": "#2a3f5f",
           "arrowhead": 0,
           "arrowwidth": 1
          },
          "autotypenumbers": "strict",
          "coloraxis": {
           "colorbar": {
            "outlinewidth": 0,
            "ticks": ""
           }
          },
          "colorscale": {
           "diverging": [
            [
             0,
             "#8e0152"
            ],
            [
             0.1,
             "#c51b7d"
            ],
            [
             0.2,
             "#de77ae"
            ],
            [
             0.3,
             "#f1b6da"
            ],
            [
             0.4,
             "#fde0ef"
            ],
            [
             0.5,
             "#f7f7f7"
            ],
            [
             0.6,
             "#e6f5d0"
            ],
            [
             0.7,
             "#b8e186"
            ],
            [
             0.8,
             "#7fbc41"
            ],
            [
             0.9,
             "#4d9221"
            ],
            [
             1,
             "#276419"
            ]
           ],
           "sequential": [
            [
             0,
             "#0d0887"
            ],
            [
             0.1111111111111111,
             "#46039f"
            ],
            [
             0.2222222222222222,
             "#7201a8"
            ],
            [
             0.3333333333333333,
             "#9c179e"
            ],
            [
             0.4444444444444444,
             "#bd3786"
            ],
            [
             0.5555555555555556,
             "#d8576b"
            ],
            [
             0.6666666666666666,
             "#ed7953"
            ],
            [
             0.7777777777777778,
             "#fb9f3a"
            ],
            [
             0.8888888888888888,
             "#fdca26"
            ],
            [
             1,
             "#f0f921"
            ]
           ],
           "sequentialminus": [
            [
             0,
             "#0d0887"
            ],
            [
             0.1111111111111111,
             "#46039f"
            ],
            [
             0.2222222222222222,
             "#7201a8"
            ],
            [
             0.3333333333333333,
             "#9c179e"
            ],
            [
             0.4444444444444444,
             "#bd3786"
            ],
            [
             0.5555555555555556,
             "#d8576b"
            ],
            [
             0.6666666666666666,
             "#ed7953"
            ],
            [
             0.7777777777777778,
             "#fb9f3a"
            ],
            [
             0.8888888888888888,
             "#fdca26"
            ],
            [
             1,
             "#f0f921"
            ]
           ]
          },
          "colorway": [
           "#636efa",
           "#EF553B",
           "#00cc96",
           "#ab63fa",
           "#FFA15A",
           "#19d3f3",
           "#FF6692",
           "#B6E880",
           "#FF97FF",
           "#FECB52"
          ],
          "font": {
           "color": "#2a3f5f"
          },
          "geo": {
           "bgcolor": "white",
           "lakecolor": "white",
           "landcolor": "#E5ECF6",
           "showlakes": true,
           "showland": true,
           "subunitcolor": "white"
          },
          "hoverlabel": {
           "align": "left"
          },
          "hovermode": "closest",
          "mapbox": {
           "style": "light"
          },
          "paper_bgcolor": "white",
          "plot_bgcolor": "#E5ECF6",
          "polar": {
           "angularaxis": {
            "gridcolor": "white",
            "linecolor": "white",
            "ticks": ""
           },
           "bgcolor": "#E5ECF6",
           "radialaxis": {
            "gridcolor": "white",
            "linecolor": "white",
            "ticks": ""
           }
          },
          "scene": {
           "xaxis": {
            "backgroundcolor": "#E5ECF6",
            "gridcolor": "white",
            "gridwidth": 2,
            "linecolor": "white",
            "showbackground": true,
            "ticks": "",
            "zerolinecolor": "white"
           },
           "yaxis": {
            "backgroundcolor": "#E5ECF6",
            "gridcolor": "white",
            "gridwidth": 2,
            "linecolor": "white",
            "showbackground": true,
            "ticks": "",
            "zerolinecolor": "white"
           },
           "zaxis": {
            "backgroundcolor": "#E5ECF6",
            "gridcolor": "white",
            "gridwidth": 2,
            "linecolor": "white",
            "showbackground": true,
            "ticks": "",
            "zerolinecolor": "white"
           }
          },
          "shapedefaults": {
           "line": {
            "color": "#2a3f5f"
           }
          },
          "ternary": {
           "aaxis": {
            "gridcolor": "white",
            "linecolor": "white",
            "ticks": ""
           },
           "baxis": {
            "gridcolor": "white",
            "linecolor": "white",
            "ticks": ""
           },
           "bgcolor": "#E5ECF6",
           "caxis": {
            "gridcolor": "white",
            "linecolor": "white",
            "ticks": ""
           }
          },
          "title": {
           "x": 0.05
          },
          "xaxis": {
           "automargin": true,
           "gridcolor": "white",
           "linecolor": "white",
           "ticks": "",
           "title": {
            "standoff": 15
           },
           "zerolinecolor": "white",
           "zerolinewidth": 2
          },
          "yaxis": {
           "automargin": true,
           "gridcolor": "white",
           "linecolor": "white",
           "ticks": "",
           "title": {
            "standoff": 15
           },
           "zerolinecolor": "white",
           "zerolinewidth": 2
          }
         }
        },
        "title": {
         "text": "Comparison of Length Measurements<br>Colored by Relative Error"
        },
        "width": 800,
        "xaxis": {
         "gridcolor": "lightgray",
         "gridwidth": 1,
         "range": [
          694.447,
          1774.1
         ],
         "showgrid": true,
         "title": {
          "text": "Length (pixels)"
         }
        },
        "yaxis": {
         "gridcolor": "lightgray",
         "gridwidth": 1,
         "range": [
          694.447,
          1774.1
         ],
         "showgrid": true,
         "title": {
          "text": "Pixels Total Length"
         }
        }
       }
      }
     },
     "metadata": {},
     "output_type": "display_data"
    }
   ],
   "source": [
    "import plotly.express as px\n",
    "import plotly.graph_objects as go\n",
    "\n",
    "# Create scatter plot with plotly\n",
    "fig = go.Figure()\n",
    "\n",
    "# Plot points with different colors based on relative error\n",
    "error_thresholds = [5, 10, 15]\n",
    "colors = ['green', 'yellow', 'orange', 'red']\n",
    "\n",
    "for i in range(len(error_thresholds) + 1):\n",
    "    if i == 0:\n",
    "        mask = new_df['real_length_rel_diff'] <= error_thresholds[0]\n",
    "        label = f'Error ≤ {error_thresholds[0]}%'\n",
    "    elif i == len(error_thresholds):\n",
    "        mask = new_df['real_length_rel_diff'] > error_thresholds[-1]\n",
    "        label = f'Error > {error_thresholds[-1]}%'\n",
    "    else:\n",
    "        mask = (new_df['real_length_rel_diff'] > error_thresholds[i-1]) & \\\n",
    "               (new_df['real_length_rel_diff'] <= error_thresholds[i])\n",
    "        label = f'{error_thresholds[i-1]}% < Error ≤ {error_thresholds[i]}%'\n",
    "    \n",
    "    fig.add_trace(go.Scatter(\n",
    "        x=new_df[mask]['Length'],\n",
    "        y=new_df[mask]['pixels_total_length'],\n",
    "        mode='markers',\n",
    "        name=label,\n",
    "        marker=dict(\n",
    "            color=colors[i],\n",
    "            size=10,\n",
    "            opacity=0.6\n",
    "        ),\n",
    "        hovertemplate=\n",
    "        '<b>Image:</b> %{customdata[0]}<br>' +\n",
    "        '<b>Pixels Total Length:</b> %{y:.1f}<br>' +\n",
    "        '<b>Length:</b> %{x:.1f}<br>' +\n",
    "        '<b>Total Length:</b> %{customdata[1]:.1f}<br>' +\n",
    "        '<b>Lobster Size:</b> %{customdata[2]}<br>' +\n",
    "        '<b>Pixel Rel Diff:</b> %{customdata[3]:.1f}%<br>' +\n",
    "        '<b>Pixel Abs Diff:</b> %{customdata[4]:.1f}<br>' +\n",
    "        '<b>Real Length Abs Diff:</b> %{customdata[5]:.1f}<br>' +\n",
    "        '<b>Real Length Rel Diff:</b> %{customdata[6]:.1f}%<br>',\n",
    "        customdata=list(zip(new_df[mask]['image_name'], \n",
    "                          new_df[mask]['total_length'],\n",
    "                          new_df[mask]['lobster_size'],\n",
    "                          new_df[mask]['pixel_rel_diff'],\n",
    "                          new_df[mask]['pixel_abs_diff'],\n",
    "                          new_df[mask]['real_length_abs_diff'],\n",
    "                          new_df[mask]['real_length_rel_diff']\n",
    "                          )\n",
    "                          )\n",
    "    ))\n",
    "\n",
    "# Add diagonal line for perfect correlation\n",
    "min_val = min(new_df['Length'].min(), new_df['pixels_total_length'].min())\n",
    "max_val = max(new_df['Length'].max(), new_df['pixels_total_length'].max())\n",
    "fig.add_trace(go.Scatter(\n",
    "    x=[min_val, max_val],\n",
    "    y=[min_val, max_val],\n",
    "    mode='lines',\n",
    "    name='Perfect correlation',\n",
    "    line=dict(color='black', dash='dash', width=1),\n",
    "    opacity=0.5\n",
    "))\n",
    "\n",
    "# Update layout\n",
    "fig.update_layout(\n",
    "    title='Comparison of Length Measurements<br>Colored by Relative Error',\n",
    "    xaxis_title='Length (pixels)',\n",
    "    yaxis_title='Pixels Total Length',\n",
    "    showlegend=True,\n",
    "    width=800,\n",
    "    height=800,\n",
    "    xaxis=dict(range=[min_val, max_val]),\n",
    "    yaxis=dict(range=[min_val, max_val]),\n",
    "    plot_bgcolor='white'\n",
    ")\n",
    "\n",
    "# Add grid\n",
    "fig.update_xaxes(showgrid=True, gridwidth=1, gridcolor='lightgray')\n",
    "fig.update_yaxes(showgrid=True, gridwidth=1, gridcolor='lightgray')\n",
    "\n",
    "fig.show()\n"
   ]
  },
  {
   "cell_type": "code",
   "execution_count": 15,
   "metadata": {},
   "outputs": [
    {
     "name": "stdout",
     "output_type": "stream",
     "text": [
      "\n",
      "Summary Statistics for Circle Pond (GX010191):\n",
      "============================================\n",
      "lobster_size  count  pixel_rel_diff_mean  pixel_rel_diff_std  pixel_rel_diff_min  pixel_rel_diff_max  pixel_abs_diff_mean  pixel_abs_diff_std  pixel_abs_diff_min  pixel_abs_diff_max  real_abs_diff_mean  real_abs_diff_std  real_abs_diff_min  real_abs_diff_max  real_rel_diff_mean  real_rel_diff_std  real_rel_diff_min  real_rel_diff_max\n",
      "         big     22                 5.45                2.55                1.18                9.33                50.89               23.35                9.71               85.50               11.55               6.79                0.3               23.3                6.42               3.77               0.17              12.94\n",
      "       small     17                 4.31                3.35                0.07                9.82                32.34               25.67                0.49               85.72                5.29               3.00                0.2               10.0                3.65               2.07               0.14               6.90\n",
      "\n",
      "Summary Statistics for Square Pond:\n",
      "=================================\n",
      "lobster_size  count  pixel_rel_diff_mean  pixel_rel_diff_std  pixel_rel_diff_min  pixel_rel_diff_max  pixel_abs_diff_mean  pixel_abs_diff_std  pixel_abs_diff_min  pixel_abs_diff_max  real_abs_diff_mean  real_abs_diff_std  real_abs_diff_min  real_abs_diff_max  real_rel_diff_mean  real_rel_diff_std  real_rel_diff_min  real_rel_diff_max\n",
      "         big      3                 1.77                2.44                0.27                4.58                30.48               41.78                4.73               78.68                6.00               1.49                4.3                7.1                3.33               0.83               2.39               3.94\n",
      "       small      9                 5.79                2.74                0.62                9.87                74.09               32.99                8.09              117.24                9.32               8.24                0.8               24.4                6.43               5.68               0.55              16.83\n",
      "\n",
      "Overall Statistics by Pond Type:\n",
      "==============================\n",
      "Circle Pond:\n",
      "Total samples: 39\n",
      "Mean absolute difference: 8.82\n",
      "Mean relative difference: 5.21%\n",
      "Standard deviation of absolute difference: 6.26\n",
      "Standard deviation of relative difference: 3.40%\n",
      "\n",
      "Square Pond:\n",
      "Total samples: 12\n",
      "Mean absolute difference: 8.49\n",
      "Mean relative difference: 5.66%\n",
      "Standard deviation of absolute difference: 7.21\n",
      "Standard deviation of relative difference: 5.06%\n",
      "\n",
      "Outliers for Circle Pond:\n",
      "=========================\n",
      "\n",
      "Z-score outliers (>3):\n",
      "Number of outliers: 0\n",
      "\n",
      "IQR outliers:\n",
      "Number of outliers: 2\n",
      "Q1: 2.86, Q3: 6.57, IQR: 3.71\n",
      "Lower bound: -2.71, Upper bound: 12.14\n",
      "\n",
      "Outlier Details:\n",
      "                      image_name  pixels_total_length  real_length  real_length_rel_diff\n",
      "70  undistorted_GX010191_94_1132                832.0          180             12.944444\n",
      "11   undistorted_GX010191_16_495                835.8          180             12.777778\n",
      "\n",
      "Outliers for Square Pond:\n",
      "=========================\n",
      "\n",
      "Z-score outliers (>3):\n",
      "Number of outliers: 0\n",
      "\n",
      "IQR outliers:\n",
      "Number of outliers: 1\n",
      "Q1: 2.03, Q3: 7.59, IQR: 5.55\n",
      "Lower bound: -6.30, Upper bound: 15.92\n",
      "\n",
      "Outlier Details:\n",
      "                       image_name  pixels_total_length  real_length  real_length_rel_diff\n",
      "101  undistorted_GX010193_20_1365               1070.7          145             16.827586\n"
     ]
    }
   ],
   "source": [
    "# Split data by pond type (GX010191 is circle pond, others are square)\n",
    "circle_df = new_df[new_df['image_name'].str.contains('GX010191')]\n",
    "square_df = new_df[~new_df['image_name'].str.contains('GX010191')]\n",
    "\n",
    "# Group by lobster size and calculate summary statistics for circle pond\n",
    "circle_stats = circle_df.groupby('lobster_size').agg({\n",
    "    'pixel_rel_diff': ['count', 'mean', 'std', 'min', 'max'],\n",
    "    'pixel_abs_diff': ['mean', 'std', 'min', 'max'],\n",
    "    'real_length_abs_diff': ['mean', 'std', 'min', 'max'],\n",
    "    'real_length_rel_diff': ['mean', 'std', 'min', 'max']\n",
    "}).round(2)\n",
    "\n",
    "# Group by lobster size and calculate summary statistics for square pond\n",
    "square_stats = square_df.groupby('lobster_size').agg({\n",
    "    'pixel_rel_diff': ['count', 'mean', 'std', 'min', 'max'],\n",
    "    'pixel_abs_diff': ['mean', 'std', 'min', 'max'],\n",
    "    'real_length_abs_diff': ['mean', 'std', 'min', 'max'],\n",
    "    'real_length_rel_diff': ['mean', 'std', 'min', 'max']\n",
    "}).round(2)\n",
    "\n",
    "# Rename columns for clarity\n",
    "column_names = [\n",
    "    'count',\n",
    "    'pixel_rel_diff_mean', 'pixel_rel_diff_std', 'pixel_rel_diff_min', 'pixel_rel_diff_max',\n",
    "    'pixel_abs_diff_mean', 'pixel_abs_diff_std', 'pixel_abs_diff_min', 'pixel_abs_diff_max',\n",
    "    'real_abs_diff_mean', 'real_abs_diff_std', 'real_abs_diff_min', 'real_abs_diff_max',\n",
    "    'real_rel_diff_mean', 'real_rel_diff_std', 'real_rel_diff_min', 'real_rel_diff_max'\n",
    "]\n",
    "\n",
    "circle_stats.columns = column_names\n",
    "square_stats.columns = column_names\n",
    "\n",
    "# Reset index to make lobster_size a column\n",
    "circle_stats = circle_stats.reset_index()\n",
    "square_stats = square_stats.reset_index()\n",
    "\n",
    "print(\"\\nSummary Statistics for Circle Pond (GX010191):\")\n",
    "print(\"============================================\")\n",
    "print(circle_stats.to_string(index=False))\n",
    "\n",
    "print(\"\\nSummary Statistics for Square Pond:\")\n",
    "print(\"=================================\")\n",
    "print(square_stats.to_string(index=False))\n",
    "\n",
    "# Calculate overall statistics for each pond type\n",
    "print(\"\\nOverall Statistics by Pond Type:\")\n",
    "print(\"==============================\")\n",
    "print(\"Circle Pond:\")\n",
    "print(f\"Total samples: {len(circle_df)}\")\n",
    "print(f\"Mean absolute difference: {circle_df['real_length_abs_diff'].mean():.2f}\")\n",
    "print(f\"Mean relative difference: {circle_df['real_length_rel_diff'].mean():.2f}%\")\n",
    "print(f\"Standard deviation of absolute difference: {circle_df['real_length_abs_diff'].std():.2f}\")\n",
    "print(f\"Standard deviation of relative difference: {circle_df['real_length_rel_diff'].std():.2f}%\")\n",
    "\n",
    "print(\"\\nSquare Pond:\")\n",
    "print(f\"Total samples: {len(square_df)}\")\n",
    "print(f\"Mean absolute difference: {square_df['real_length_abs_diff'].mean():.2f}\")\n",
    "print(f\"Mean relative difference: {square_df['real_length_rel_diff'].mean():.2f}%\")\n",
    "print(f\"Standard deviation of absolute difference: {square_df['real_length_abs_diff'].std():.2f}\")\n",
    "print(f\"Standard deviation of relative difference: {square_df['real_length_rel_diff'].std():.2f}%\")\n",
    "\n",
    "# Calculate outliers separately for each pond type\n",
    "for pond_df, pond_name in [(circle_df, \"Circle Pond\"), (square_df, \"Square Pond\")]:\n",
    "    # Calculate z-scores\n",
    "    z_scores = stats.zscore(pond_df['real_length_rel_diff'])\n",
    "    outliers_df = pond_df[abs(z_scores) > outlier_threshold].copy()\n",
    "    outliers_df['z_score'] = z_scores[abs(z_scores) > outlier_threshold]\n",
    "    outliers_df = outliers_df.sort_values(by='z_score', key=abs, ascending=False)\n",
    "    \n",
    "    # Calculate IQR outliers\n",
    "    Q1 = pond_df['real_length_rel_diff'].quantile(0.25)\n",
    "    Q3 = pond_df['real_length_rel_diff'].quantile(0.75)\n",
    "    IQR = Q3 - Q1\n",
    "    iqr_outliers_df = pond_df[(pond_df['real_length_rel_diff'] < (Q1 - 1.5 * IQR)) | \n",
    "                             (pond_df['real_length_rel_diff'] > (Q3 + 1.5 * IQR))].copy()\n",
    "    \n",
    "    print(f\"\\nOutliers for {pond_name}:\")\n",
    "    print(\"=\" * (len(f\"Outliers for {pond_name}:\")))\n",
    "    print(f\"\\nZ-score outliers (>3):\")\n",
    "    print(f\"Number of outliers: {len(outliers_df)}\")\n",
    "    if len(outliers_df) > 0:\n",
    "        print(\"\\nOutlier Details:\")\n",
    "        print(outliers_df[['image_name', 'pixels_total_length', 'real_length', 'real_length_rel_diff', 'z_score']].to_string())\n",
    "    \n",
    "    print(f\"\\nIQR outliers:\")\n",
    "    print(f\"Number of outliers: {len(iqr_outliers_df)}\")\n",
    "    print(f\"Q1: {Q1:.2f}, Q3: {Q3:.2f}, IQR: {IQR:.2f}\")\n",
    "    print(f\"Lower bound: {(Q1 - 1.5 * IQR):.2f}, Upper bound: {(Q3 + 1.5 * IQR):.2f}\")\n",
    "    if len(iqr_outliers_df) > 0:\n",
    "        print(\"\\nOutlier Details:\")\n",
    "        print(iqr_outliers_df[['image_name', 'pixels_total_length', 'real_length', 'real_length_rel_diff']].to_string())\n"
   ]
  },
  {
   "cell_type": "code",
   "execution_count": 38,
   "metadata": {},
   "outputs": [
    {
     "name": "stdout",
     "output_type": "stream",
     "text": [
      "\n",
      "Statistics without outliers:\n",
      "===========================\n",
      "Total samples: 49\n",
      "Mean absolute difference: 8.13\n",
      "Mean relative difference: 4.93%\n",
      "Standard deviation of absolute difference: 5.75\n",
      "Standard deviation of relative difference: 3.31%\n",
      "\n",
      "Size-based statistics without outliers:\n",
      "=====================================\n",
      "              Mean Abs Diff  Std Abs Diff  Mean Rel Diff %  Std Rel Diff %  Count\n",
      "lobster_size                                                                     \n",
      "big                  10.367         6.229            5.759           3.461     24\n",
      "small                 5.980         4.362            4.124           3.008     25\n"
     ]
    }
   ],
   "source": [
    "# Remove outliers based on IQR method\n",
    "clean_df = new_df[(new_df['real_length_rel_diff'] >= (Q1 - 1.5 * IQR)) & \n",
    "                  (new_df['real_length_rel_diff'] <= (Q3 + 1.5 * IQR))].copy()\n",
    "\n",
    "print(\"\\nStatistics without outliers:\")\n",
    "print(\"===========================\")\n",
    "print(f\"Total samples: {len(clean_df)}\")\n",
    "print(f\"Mean absolute difference: {clean_df['real_length_abs_diff'].mean():.2f}\")\n",
    "print(f\"Mean relative difference: {clean_df['real_length_rel_diff'].mean():.2f}%\")\n",
    "print(f\"Standard deviation of absolute difference: {clean_df['real_length_abs_diff'].std():.2f}\")\n",
    "print(f\"Standard deviation of relative difference: {clean_df['real_length_rel_diff'].std():.2f}%\")\n",
    "\n",
    "# Calculate size-based statistics without outliers\n",
    "size_stats_clean = clean_df.groupby('lobster_size').agg({\n",
    "    'real_length_abs_diff': ['mean', 'std'],\n",
    "    'real_length_rel_diff': ['mean', 'std'],\n",
    "    'image_name': 'count'\n",
    "}).round(3)\n",
    "\n",
    "size_stats_clean.columns = ['Mean Abs Diff', 'Std Abs Diff', 'Mean Rel Diff %', 'Std Rel Diff %', 'Count']\n",
    "print(\"\\nSize-based statistics without outliers:\")\n",
    "print(\"=====================================\")\n",
    "print(size_stats_clean.to_string())\n"
   ]
  },
  {
   "cell_type": "code",
   "execution_count": 40,
   "metadata": {},
   "outputs": [
    {
     "name": "stdout",
     "output_type": "stream",
     "text": [
      "Images grouped by relative error ranges:\n",
      "======================================\n",
      "\n",
      "Error range ≤5%:\n",
      "----------------\n",
      "Count: 27\n",
      "\n",
      "Details:\n",
      "                        image_name  real_length_rel_diff lobster_size  pixel_rel_diff\n",
      "44    undistorted_GX010191_36_1195              0.137931        small        3.725533\n",
      "3       undistorted_GX010191_8_309              0.166667          big        4.902455\n",
      "98    undistorted_GX010193_18_1289              0.551724        small        2.951183\n",
      "114    undistorted_GX010194_39_513              0.620690        small        0.618393\n",
      "49    undistorted_GX010191_37_1242              0.722222          big        2.662579\n",
      "36     undistorted_GX010191_35_367              0.758621        small        6.543350\n",
      "106   undistorted_GX010193_28_1584              0.965517        small        5.776312\n",
      "75   undistorted_GX010191_100_1250              1.379310        small        0.910019\n",
      "16     undistorted_GX010191_17_509              1.862069        small        3.638772\n",
      "97    undistorted_GX010193_11_1065              2.388889          big        0.271907\n",
      "83   undistorted_GX010191_105_1312              2.482759        small        3.722818\n",
      "29     undistorted_GX010191_34_350              2.555556          big        2.496116\n",
      "5      undistorted_GX010191_10_370              2.758621        small        9.543626\n",
      "13     undistorted_GX010191_17_509              2.833333          big        5.874313\n",
      "22     undistorted_GX010191_31_283              2.888889          big        1.473561\n",
      "40    undistorted_GX010191_35_1167              2.896552        small        1.382899\n",
      "28     undistorted_GX010191_34_350              2.965517        small        6.216755\n",
      "89   undistorted_GX010191_114_1383              3.103448        small        5.193547\n",
      "80   undistorted_GX010191_105_1312              3.222222          big        6.857921\n",
      "102   undistorted_GX010193_27_1553              3.666667          big        0.454625\n",
      "95    undistorted_GX010192_26_1578              3.793103        small        5.190106\n",
      "51    undistorted_GX010191_38_1266              3.931034        small        7.158070\n",
      "92    undistorted_GX010192_26_1578              3.944444          big        4.580175\n",
      "45    undistorted_GX010191_36_1195              3.944444          big        6.322040\n",
      "48    undistorted_GX010191_37_1242              4.000000        small        0.068197\n",
      "37     undistorted_GX010191_35_367              4.666667          big        2.246189\n",
      "60    undistorted_GX010191_42_1339              4.689655        small        2.576005\n",
      "\n",
      "Error range 5-10%:\n",
      "------------------\n",
      "Count: 18\n",
      "\n",
      "Details:\n",
      "                        image_name  real_length_rel_diff lobster_size  pixel_rel_diff\n",
      "18     undistorted_GX010191_28_230              5.310345        small        2.865384\n",
      "64     undistorted_GX010191_47_507              5.388889          big        3.710189\n",
      "33    undistorted_GX010191_34_1128              5.722222          big        5.290557\n",
      "68    undistorted_GX010191_88_1016              5.777778          big        2.295379\n",
      "65     undistorted_GX010191_47_507              5.793103        small        9.823704\n",
      "53    undistorted_GX010191_41_1322              6.111111          big        6.031129\n",
      "90   undistorted_GX010191_117_1408              6.166667          big        8.734014\n",
      "24     undistorted_GX010191_32_305              6.344828        small        0.442520\n",
      "25     undistorted_GX010191_32_305              6.388889          big        7.709093\n",
      "110     undistorted_GX010194_7_885              6.689655        small        5.642731\n",
      "2       undistorted_GX010191_8_309              6.758621        small        0.065604\n",
      "85   undistorted_GX010191_106_1320              6.896552        small        9.455521\n",
      "99    undistorted_GX010193_19_1334              7.379310        small        7.949804\n",
      "57    undistorted_GX010191_42_1339              7.444444          big        6.185869\n",
      "112    undistorted_GX010194_19_285              8.206897        small        6.626369\n",
      "61    undistorted_GX010191_43_1353              8.777778          big        6.910755\n",
      "8      undistorted_GX010191_14_460              9.722222          big        9.329428\n",
      "86   undistorted_GX010191_110_1355              9.777778          big        7.649384\n",
      "\n",
      "Error range 10-15%:\n",
      "-------------------\n",
      "Count: 5\n",
      "\n",
      "Details:\n",
      "                       image_name  real_length_rel_diff lobster_size  pixel_rel_diff\n",
      "9     undistorted_GX010191_15_479             11.444444          big        8.777705\n",
      "19    undistorted_GX010191_28_230             11.722222          big        4.722422\n",
      "11    undistorted_GX010191_16_495             12.777778          big        8.532782\n",
      "113   undistorted_GX010194_26_373             12.827586        small        7.465912\n",
      "70   undistorted_GX010191_94_1132             12.944444          big        1.180972\n",
      "\n",
      "Error range >15%:\n",
      "-----------------\n",
      "Count: 1\n",
      "\n",
      "Details:\n",
      "                       image_name  real_length_rel_diff lobster_size  pixel_rel_diff\n",
      "101  undistorted_GX010193_20_1365             16.827586        small        9.869109\n"
     ]
    }
   ],
   "source": [
    "# Group data by error ranges\n",
    "error_ranges = [(0, 5), (5, 10), (10, 15), (15, float('inf'))]\n",
    "range_labels = ['≤5%', '5-10%', '10-15%', '>15%']\n",
    "\n",
    "print(\"Images grouped by relative error ranges:\")\n",
    "print(\"======================================\")\n",
    "\n",
    "for (lower, upper), label in zip(error_ranges, range_labels):\n",
    "    mask = (new_df['real_length_rel_diff'] > lower) & (new_df['real_length_rel_diff'] <= upper)\n",
    "    group_df = new_df[mask]\n",
    "    \n",
    "    print(f\"\\nError range {label}:\")\n",
    "    print(\"-\" * (13 + len(label)))\n",
    "    print(f\"Count: {len(group_df)}\")\n",
    "    if len(group_df) > 0:\n",
    "        print(\"\\nDetails:\")\n",
    "        print(group_df[['image_name', 'real_length_rel_diff','lobster_size','pixel_rel_diff']].sort_values(['real_length_rel_diff', 'pixel_rel_diff']).to_string())\n"
   ]
  },
  {
   "cell_type": "code",
   "execution_count": 42,
   "metadata": {},
   "outputs": [
    {
     "data": {
      "image/png": "[encoded data removed]",
      "text/plain": [
       "<Figure size 1500x1000 with 4 Axes>"
      ]
     },
     "metadata": {},
     "output_type": "display_data"
    }
   ],
   "source": [
    "import seaborn as sns\n",
    "import matplotlib.pyplot as plt\n",
    "\n",
    "# Create a figure with multiple subplots\n",
    "fig = plt.figure(figsize=(15, 10))\n",
    "\n",
    "# 1. Box Plot\n",
    "plt.subplot(2, 2, 1)\n",
    "sns.boxplot(data=new_df, x='lobster_size', y='real_length_rel_diff')\n",
    "plt.title('Distribution of Real Length Relative Difference by Lobster Size')\n",
    "\n",
    "# 2. Histogram\n",
    "plt.subplot(2, 2, 2)\n",
    "sns.histplot(data=new_df, x='real_length_rel_diff', bins=20)\n",
    "plt.axvline(x=5, color='r', linestyle='--', alpha=0.5)\n",
    "plt.axvline(x=10, color='r', linestyle='--', alpha=0.5)\n",
    "plt.axvline(x=15, color='r', linestyle='--', alpha=0.5)\n",
    "plt.title('Distribution of Real Length Relative Difference')\n",
    "\n",
    "# 3. Scatter Plot\n",
    "plt.subplot(2, 2, 3)\n",
    "sns.scatterplot(data=new_df, x='real_length_rel_diff', y='pixel_rel_diff', \n",
    "                hue='lobster_size', style='lobster_size')\n",
    "plt.axvline(x=5, color='r', linestyle='--', alpha=0.5)\n",
    "plt.axvline(x=10, color='r', linestyle='--', alpha=0.5)\n",
    "plt.axvline(x=15, color='r', linestyle='--', alpha=0.5)\n",
    "plt.title('Real Length vs Pixel Relative Difference')\n",
    "\n",
    "# 4. Violin Plot\n",
    "plt.subplot(2, 2, 4)\n",
    "sns.violinplot(data=new_df, x='lobster_size', y='real_length_rel_diff')\n",
    "plt.title('Distribution of Real Length Relative Difference by Lobster Size')\n",
    "\n",
    "plt.tight_layout()\n",
    "plt.show()"
   ]
  },
  {
   "cell_type": "code",
   "execution_count": 43,
   "metadata": {},
   "outputs": [
    {
     "data": {
      "application/vnd.plotly.v1+json": {
       "config": {
        "plotlyServerURL": "https://plot.ly"
       },
       "data": [
        {
         "customdata": [
          [
           "undistorted_GX010191_37_1242"
          ],
          [
           "undistorted_GX010191_8_309"
          ],
          [
           "undistorted_GX010191_32_305"
          ],
          [
           "undistorted_GX010191_100_1250"
          ],
          [
           "undistorted_GX010194_39_513"
          ],
          [
           "undistorted_GX010191_35_1167"
          ],
          [
           "undistorted_GX010191_42_1339"
          ],
          [
           "undistorted_GX010191_28_230"
          ],
          [
           "undistorted_GX010191_17_509"
          ],
          [
           "undistorted_GX010191_105_1312"
          ],
          [
           "undistorted_GX010191_36_1195"
          ],
          [
           "undistorted_GX010193_18_1289"
          ],
          [
           "undistorted_GX010191_114_1383"
          ],
          [
           "undistorted_GX010191_34_350"
          ],
          [
           "undistorted_GX010191_35_367"
          ],
          [
           "undistorted_GX010191_38_1266"
          ],
          [
           "undistorted_GX010191_10_370"
          ],
          [
           "undistorted_GX010192_26_1578"
          ],
          [
           "undistorted_GX010191_106_1320"
          ],
          [
           "undistorted_GX010194_7_885"
          ],
          [
           "undistorted_GX010193_28_1584"
          ],
          [
           "undistorted_GX010194_19_285"
          ],
          [
           "undistorted_GX010191_47_507"
          ],
          [
           "undistorted_GX010194_26_373"
          ],
          [
           "undistorted_GX010193_19_1334"
          ],
          [
           "undistorted_GX010193_20_1365"
          ]
         ],
         "hovertemplate": "Lobster Size=small<br>Real Length Relative Difference (%)=%{x}<br>Pixel Relative Difference (%)=%{y}<br>image_name=%{customdata[0]}<extra></extra>",
         "legendgroup": "small",
         "marker": {
          "color": "#636efa",
          "symbol": "circle"
         },
         "mode": "markers",
         "name": "small",
         "orientation": "v",
         "showlegend": true,
         "type": "scatter",
         "x": [
          4.000000000000008,
          6.75862068965518,
          6.344827586206889,
          1.3793103448275863,
          0.6206896551724177,
          2.896551724137923,
          4.689655172413801,
          5.310344827586199,
          1.8620689655172336,
          2.4827586206896513,
          0.1379310344827508,
          0.5517241379310424,
          3.103448275862069,
          2.965517241379318,
          0.7586206896551685,
          3.931034482758613,
          2.7586206896551726,
          3.793103448275862,
          6.896551724137931,
          6.689655172413786,
          0.9655172413793143,
          8.206896551724142,
          5.793103448275866,
          12.82758620689655,
          7.379310344827579,
          16.827586206896555
         ],
         "xaxis": "x",
         "y": [
          0.06819668480605824,
          0.06560433241892914,
          0.44251989440297856,
          0.910018942805829,
          0.6183931256023713,
          1.38289901032272,
          2.576005437362323,
          2.8653838476585847,
          3.6387715920015538,
          3.722818300028649,
          3.7255332729288826,
          2.9511834319526695,
          5.193547317909129,
          6.216755319148936,
          6.543349852011343,
          7.158069674391972,
          9.54362568428856,
          5.190106282117129,
          9.455520896612448,
          5.6427307993046165,
          5.776312221746017,
          6.626369451250111,
          9.82370413832304,
          7.4659118452999635,
          7.949803637502098,
          9.869109440804623
         ],
         "yaxis": "y"
        },
        {
         "customdata": [
          [
           "undistorted_GX010193_11_1065"
          ],
          [
           "undistorted_GX010193_27_1553"
          ],
          [
           "undistorted_GX010191_94_1132"
          ],
          [
           "undistorted_GX010191_31_283"
          ],
          [
           "undistorted_GX010191_35_367"
          ],
          [
           "undistorted_GX010191_34_350"
          ],
          [
           "undistorted_GX010191_88_1016"
          ],
          [
           "undistorted_GX010191_37_1242"
          ],
          [
           "undistorted_GX010191_47_507"
          ],
          [
           "undistorted_GX010191_8_309"
          ],
          [
           "undistorted_GX010191_28_230"
          ],
          [
           "undistorted_GX010191_34_1128"
          ],
          [
           "undistorted_GX010191_17_509"
          ],
          [
           "undistorted_GX010191_41_1322"
          ],
          [
           "undistorted_GX010191_42_1339"
          ],
          [
           "undistorted_GX010191_36_1195"
          ],
          [
           "undistorted_GX010191_43_1353"
          ],
          [
           "undistorted_GX010191_105_1312"
          ],
          [
           "undistorted_GX010191_110_1355"
          ],
          [
           "undistorted_GX010191_32_305"
          ],
          [
           "undistorted_GX010191_14_460"
          ],
          [
           "undistorted_GX010191_16_495"
          ],
          [
           "undistorted_GX010192_26_1578"
          ],
          [
           "undistorted_GX010191_15_479"
          ],
          [
           "undistorted_GX010191_117_1408"
          ]
         ],
         "hovertemplate": "Lobster Size=big<br>Real Length Relative Difference (%)=%{x}<br>Pixel Relative Difference (%)=%{y}<br>image_name=%{customdata[0]}<extra></extra>",
         "legendgroup": "big",
         "marker": {
          "color": "#EF553B",
          "symbol": "circle"
         },
         "mode": "markers",
         "name": "big",
         "orientation": "v",
         "showlegend": true,
         "type": "scatter",
         "x": [
          2.388888888888895,
          3.6666666666666634,
          12.94444444444445,
          2.8888888888888826,
          4.66666666666667,
          2.5555555555555522,
          5.777777777777781,
          0.7222222222222285,
          5.388888888888883,
          0.16666666666667299,
          11.722222222222218,
          5.7222222222222285,
          2.83333333333333,
          6.111111111111111,
          7.444444444444448,
          3.9444444444444415,
          8.777777777777784,
          3.2222222222222285,
          9.777777777777775,
          6.388888888888888,
          9.722222222222223,
          12.777777777777777,
          3.9444444444444415,
          11.444444444444441,
          6.166666666666663
         ],
         "xaxis": "x",
         "y": [
          0.2719072631353484,
          0.45462498393326184,
          1.1809716535184118,
          1.4735613321265169,
          2.246188864725486,
          2.4961162195070723,
          2.2953794759610755,
          2.662578535683596,
          3.7101890390362833,
          4.902454511615695,
          4.7224216144421725,
          5.290556620507818,
          5.8743130434187405,
          6.0311290132538655,
          6.185869246555263,
          6.322040387419454,
          6.91075495227486,
          6.857920552203788,
          7.649384365136645,
          7.709092597321189,
          9.32942765874168,
          8.532781772218396,
          4.580174889777063,
          8.77770493632572,
          8.734013895231067
         ],
         "yaxis": "y"
        }
       ],
       "layout": {
        "height": 600,
        "hovermode": "closest",
        "legend": {
         "title": {
          "text": "Lobster Size"
         },
         "tracegroupgap": 0
        },
        "plot_bgcolor": "white",
        "shapes": [
         {
          "line": {
           "color": "red",
           "dash": "dash"
          },
          "opacity": 0.5,
          "type": "line",
          "x0": 5,
          "x1": 5,
          "xref": "x",
          "y0": 0,
          "y1": 1,
          "yref": "y domain"
         },
         {
          "line": {
           "color": "red",
           "dash": "dash"
          },
          "opacity": 0.5,
          "type": "line",
          "x0": 10,
          "x1": 10,
          "xref": "x",
          "y0": 0,
          "y1": 1,
          "yref": "y domain"
         },
         {
          "line": {
           "color": "red",
           "dash": "dash"
          },
          "opacity": 0.5,
          "type": "line",
          "x0": 15,
          "x1": 15,
          "xref": "x",
          "y0": 0,
          "y1": 1,
          "yref": "y domain"
         }
        ],
        "template": {
         "data": {
          "bar": [
           {
            "error_x": {
             "color": "#2a3f5f"
            },
            "error_y": {
             "color": "#2a3f5f"
            },
            "marker": {
             "line": {
              "color": "#E5ECF6",
              "width": 0.5
             },
             "pattern": {
              "fillmode": "overlay",
              "size": 10,
              "solidity": 0.2
             }
            },
            "type": "bar"
           }
          ],
          "barpolar": [
           {
            "marker": {
             "line": {
              "color": "#E5ECF6",
              "width": 0.5
             },
             "pattern": {
              "fillmode": "overlay",
              "size": 10,
              "solidity": 0.2
             }
            },
            "type": "barpolar"
           }
          ],
          "carpet": [
           {
            "aaxis": {
             "endlinecolor": "#2a3f5f",
             "gridcolor": "white",
             "linecolor": "white",
             "minorgridcolor": "white",
             "startlinecolor": "#2a3f5f"
            },
            "baxis": {
             "endlinecolor": "#2a3f5f",
             "gridcolor": "white",
             "linecolor": "white",
             "minorgridcolor": "white",
             "startlinecolor": "#2a3f5f"
            },
            "type": "carpet"
           }
          ],
          "choropleth": [
           {
            "colorbar": {
             "outlinewidth": 0,
             "ticks": ""
            },
            "type": "choropleth"
           }
          ],
          "contour": [
           {
            "colorbar": {
             "outlinewidth": 0,
             "ticks": ""
            },
            "colorscale": [
             [
              0,
              "#0d0887"
             ],
             [
              0.1111111111111111,
              "#46039f"
             ],
             [
              0.2222222222222222,
              "#7201a8"
             ],
             [
              0.3333333333333333,
              "#9c179e"
             ],
             [
              0.4444444444444444,
              "#bd3786"
             ],
             [
              0.5555555555555556,
              "#d8576b"
             ],
             [
              0.6666666666666666,
              "#ed7953"
             ],
             [
              0.7777777777777778,
              "#fb9f3a"
             ],
             [
              0.8888888888888888,
              "#fdca26"
             ],
             [
              1,
              "#f0f921"
             ]
            ],
            "type": "contour"
           }
          ],
          "contourcarpet": [
           {
            "colorbar": {
             "outlinewidth": 0,
             "ticks": ""
            },
            "type": "contourcarpet"
           }
          ],
          "heatmap": [
           {
            "colorbar": {
             "outlinewidth": 0,
             "ticks": ""
            },
            "colorscale": [
             [
              0,
              "#0d0887"
             ],
             [
              0.1111111111111111,
              "#46039f"
             ],
             [
              0.2222222222222222,
              "#7201a8"
             ],
             [
              0.3333333333333333,
              "#9c179e"
             ],
             [
              0.4444444444444444,
              "#bd3786"
             ],
             [
              0.5555555555555556,
              "#d8576b"
             ],
             [
              0.6666666666666666,
              "#ed7953"
             ],
             [
              0.7777777777777778,
              "#fb9f3a"
             ],
             [
              0.8888888888888888,
              "#fdca26"
             ],
             [
              1,
              "#f0f921"
             ]
            ],
            "type": "heatmap"
           }
          ],
          "heatmapgl": [
           {
            "colorbar": {
             "outlinewidth": 0,
             "ticks": ""
            },
            "colorscale": [
             [
              0,
              "#0d0887"
             ],
             [
              0.1111111111111111,
              "#46039f"
             ],
             [
              0.2222222222222222,
              "#7201a8"
             ],
             [
              0.3333333333333333,
              "#9c179e"
             ],
             [
              0.4444444444444444,
              "#bd3786"
             ],
             [
              0.5555555555555556,
              "#d8576b"
             ],
             [
              0.6666666666666666,
              "#ed7953"
             ],
             [
              0.7777777777777778,
              "#fb9f3a"
             ],
             [
              0.8888888888888888,
              "#fdca26"
             ],
             [
              1,
              "#f0f921"
             ]
            ],
            "type": "heatmapgl"
           }
          ],
          "histogram": [
           {
            "marker": {
             "pattern": {
              "fillmode": "overlay",
              "size": 10,
              "solidity": 0.2
             }
            },
            "type": "histogram"
           }
          ],
          "histogram2d": [
           {
            "colorbar": {
             "outlinewidth": 0,
             "ticks": ""
            },
            "colorscale": [
             [
              0,
              "#0d0887"
             ],
             [
              0.1111111111111111,
              "#46039f"
             ],
             [
              0.2222222222222222,
              "#7201a8"
             ],
             [
              0.3333333333333333,
              "#9c179e"
             ],
             [
              0.4444444444444444,
              "#bd3786"
             ],
             [
              0.5555555555555556,
              "#d8576b"
             ],
             [
              0.6666666666666666,
              "#ed7953"
             ],
             [
              0.7777777777777778,
              "#fb9f3a"
             ],
             [
              0.8888888888888888,
              "#fdca26"
             ],
             [
              1,
              "#f0f921"
             ]
            ],
            "type": "histogram2d"
           }
          ],
          "histogram2dcontour": [
           {
            "colorbar": {
             "outlinewidth": 0,
             "ticks": ""
            },
            "colorscale": [
             [
              0,
              "#0d0887"
             ],
             [
              0.1111111111111111,
              "#46039f"
             ],
             [
              0.2222222222222222,
              "#7201a8"
             ],
             [
              0.3333333333333333,
              "#9c179e"
             ],
             [
              0.4444444444444444,
              "#bd3786"
             ],
             [
              0.5555555555555556,
              "#d8576b"
             ],
             [
              0.6666666666666666,
              "#ed7953"
             ],
             [
              0.7777777777777778,
              "#fb9f3a"
             ],
             [
              0.8888888888888888,
              "#fdca26"
             ],
             [
              1,
              "#f0f921"
             ]
            ],
            "type": "histogram2dcontour"
           }
          ],
          "mesh3d": [
           {
            "colorbar": {
             "outlinewidth": 0,
             "ticks": ""
            },
            "type": "mesh3d"
           }
          ],
          "parcoords": [
           {
            "line": {
             "colorbar": {
              "outlinewidth": 0,
              "ticks": ""
             }
            },
            "type": "parcoords"
           }
          ],
          "pie": [
           {
            "automargin": true,
            "type": "pie"
           }
          ],
          "scatter": [
           {
            "fillpattern": {
             "fillmode": "overlay",
             "size": 10,
             "solidity": 0.2
            },
            "type": "scatter"
           }
          ],
          "scatter3d": [
           {
            "line": {
             "colorbar": {
              "outlinewidth": 0,
              "ticks": ""
             }
            },
            "marker": {
             "colorbar": {
              "outlinewidth": 0,
              "ticks": ""
             }
            },
            "type": "scatter3d"
           }
          ],
          "scattercarpet": [
           {
            "marker": {
             "colorbar": {
              "outlinewidth": 0,
              "ticks": ""
             }
            },
            "type": "scattercarpet"
           }
          ],
          "scattergeo": [
           {
            "marker": {
             "colorbar": {
              "outlinewidth": 0,
              "ticks": ""
             }
            },
            "type": "scattergeo"
           }
          ],
          "scattergl": [
           {
            "marker": {
             "colorbar": {
              "outlinewidth": 0,
              "ticks": ""
             }
            },
            "type": "scattergl"
           }
          ],
          "scattermapbox": [
           {
            "marker": {
             "colorbar": {
              "outlinewidth": 0,
              "ticks": ""
             }
            },
            "type": "scattermapbox"
           }
          ],
          "scatterpolar": [
           {
            "marker": {
             "colorbar": {
              "outlinewidth": 0,
              "ticks": ""
             }
            },
            "type": "scatterpolar"
           }
          ],
          "scatterpolargl": [
           {
            "marker": {
             "colorbar": {
              "outlinewidth": 0,
              "ticks": ""
             }
            },
            "type": "scatterpolargl"
           }
          ],
          "scatterternary": [
           {
            "marker": {
             "colorbar": {
              "outlinewidth": 0,
              "ticks": ""
             }
            },
            "type": "scatterternary"
           }
          ],
          "surface": [
           {
            "colorbar": {
             "outlinewidth": 0,
             "ticks": ""
            },
            "colorscale": [
             [
              0,
              "#0d0887"
             ],
             [
              0.1111111111111111,
              "#46039f"
             ],
             [
              0.2222222222222222,
              "#7201a8"
             ],
             [
              0.3333333333333333,
              "#9c179e"
             ],
             [
              0.4444444444444444,
              "#bd3786"
             ],
             [
              0.5555555555555556,
              "#d8576b"
             ],
             [
              0.6666666666666666,
              "#ed7953"
             ],
             [
              0.7777777777777778,
              "#fb9f3a"
             ],
             [
              0.8888888888888888,
              "#fdca26"
             ],
             [
              1,
              "#f0f921"
             ]
            ],
            "type": "surface"
           }
          ],
          "table": [
           {
            "cells": {
             "fill": {
              "color": "#EBF0F8"
             },
             "line": {
              "color": "white"
             }
            },
            "header": {
             "fill": {
              "color": "#C8D4E3"
             },
             "line": {
              "color": "white"
             }
            },
            "type": "table"
           }
          ]
         },
         "layout": {
          "annotationdefaults": {
           "arrowcolor": "#2a3f5f",
           "arrowhead": 0,
           "arrowwidth": 1
          },
          "autotypenumbers": "strict",
          "coloraxis": {
           "colorbar": {
            "outlinewidth": 0,
            "ticks": ""
           }
          },
          "colorscale": {
           "diverging": [
            [
             0,
             "#8e0152"
            ],
            [
             0.1,
             "#c51b7d"
            ],
            [
             0.2,
             "#de77ae"
            ],
            [
             0.3,
             "#f1b6da"
            ],
            [
             0.4,
             "#fde0ef"
            ],
            [
             0.5,
             "#f7f7f7"
            ],
            [
             0.6,
             "#e6f5d0"
            ],
            [
             0.7,
             "#b8e186"
            ],
            [
             0.8,
             "#7fbc41"
            ],
            [
             0.9,
             "#4d9221"
            ],
            [
             1,
             "#276419"
            ]
           ],
           "sequential": [
            [
             0,
             "#0d0887"
            ],
            [
             0.1111111111111111,
             "#46039f"
            ],
            [
             0.2222222222222222,
             "#7201a8"
            ],
            [
             0.3333333333333333,
             "#9c179e"
            ],
            [
             0.4444444444444444,
             "#bd3786"
            ],
            [
             0.5555555555555556,
             "#d8576b"
            ],
            [
             0.6666666666666666,
             "#ed7953"
            ],
            [
             0.7777777777777778,
             "#fb9f3a"
            ],
            [
             0.8888888888888888,
             "#fdca26"
            ],
            [
             1,
             "#f0f921"
            ]
           ],
           "sequentialminus": [
            [
             0,
             "#0d0887"
            ],
            [
             0.1111111111111111,
             "#46039f"
            ],
            [
             0.2222222222222222,
             "#7201a8"
            ],
            [
             0.3333333333333333,
             "#9c179e"
            ],
            [
             0.4444444444444444,
             "#bd3786"
            ],
            [
             0.5555555555555556,
             "#d8576b"
            ],
            [
             0.6666666666666666,
             "#ed7953"
            ],
            [
             0.7777777777777778,
             "#fb9f3a"
            ],
            [
             0.8888888888888888,
             "#fdca26"
            ],
            [
             1,
             "#f0f921"
            ]
           ]
          },
          "colorway": [
           "#636efa",
           "#EF553B",
           "#00cc96",
           "#ab63fa",
           "#FFA15A",
           "#19d3f3",
           "#FF6692",
           "#B6E880",
           "#FF97FF",
           "#FECB52"
          ],
          "font": {
           "color": "#2a3f5f"
          },
          "geo": {
           "bgcolor": "white",
           "lakecolor": "white",
           "landcolor": "#E5ECF6",
           "showlakes": true,
           "showland": true,
           "subunitcolor": "white"
          },
          "hoverlabel": {
           "align": "left"
          },
          "hovermode": "closest",
          "mapbox": {
           "style": "light"
          },
          "paper_bgcolor": "white",
          "plot_bgcolor": "#E5ECF6",
          "polar": {
           "angularaxis": {
            "gridcolor": "white",
            "linecolor": "white",
            "ticks": ""
           },
           "bgcolor": "#E5ECF6",
           "radialaxis": {
            "gridcolor": "white",
            "linecolor": "white",
            "ticks": ""
           }
          },
          "scene": {
           "xaxis": {
            "backgroundcolor": "#E5ECF6",
            "gridcolor": "white",
            "gridwidth": 2,
            "linecolor": "white",
            "showbackground": true,
            "ticks": "",
            "zerolinecolor": "white"
           },
           "yaxis": {
            "backgroundcolor": "#E5ECF6",
            "gridcolor": "white",
            "gridwidth": 2,
            "linecolor": "white",
            "showbackground": true,
            "ticks": "",
            "zerolinecolor": "white"
           },
           "zaxis": {
            "backgroundcolor": "#E5ECF6",
            "gridcolor": "white",
            "gridwidth": 2,
            "linecolor": "white",
            "showbackground": true,
            "ticks": "",
            "zerolinecolor": "white"
           }
          },
          "shapedefaults": {
           "line": {
            "color": "#2a3f5f"
           }
          },
          "ternary": {
           "aaxis": {
            "gridcolor": "white",
            "linecolor": "white",
            "ticks": ""
           },
           "baxis": {
            "gridcolor": "white",
            "linecolor": "white",
            "ticks": ""
           },
           "bgcolor": "#E5ECF6",
           "caxis": {
            "gridcolor": "white",
            "linecolor": "white",
            "ticks": ""
           }
          },
          "title": {
           "x": 0.05
          },
          "xaxis": {
           "automargin": true,
           "gridcolor": "white",
           "linecolor": "white",
           "ticks": "",
           "title": {
            "standoff": 15
           },
           "zerolinecolor": "white",
           "zerolinewidth": 2
          },
          "yaxis": {
           "automargin": true,
           "gridcolor": "white",
           "linecolor": "white",
           "ticks": "",
           "title": {
            "standoff": 15
           },
           "zerolinecolor": "white",
           "zerolinewidth": 2
          }
         }
        },
        "title": {
         "text": "Real Length vs Pixel Relative Difference"
        },
        "width": 900,
        "xaxis": {
         "anchor": "y",
         "domain": [
          0,
          1
         ],
         "gridcolor": "LightGray",
         "gridwidth": 1,
         "showgrid": true,
         "title": {
          "text": "Real Length Relative Difference (%)"
         }
        },
        "yaxis": {
         "anchor": "x",
         "domain": [
          0,
          1
         ],
         "gridcolor": "LightGray",
         "gridwidth": 1,
         "showgrid": true,
         "title": {
          "text": "Pixel Relative Difference (%)"
         }
        }
       }
      }
     },
     "metadata": {},
     "output_type": "display_data"
    }
   ],
   "source": [
    "import plotly.express as px\n",
    "import plotly.graph_objects as go\n",
    "\n",
    "# Create the scatter plot\n",
    "fig = px.scatter(\n",
    "    new_df, \n",
    "    x='real_length_rel_diff',\n",
    "    y='pixel_rel_diff',\n",
    "    color='lobster_size',\n",
    "    hover_data=['image_name', 'real_length_rel_diff', 'pixel_rel_diff'],\n",
    "    title='Real Length vs Pixel Relative Difference',\n",
    "    labels={\n",
    "        'real_length_rel_diff': 'Real Length Relative Difference (%)',\n",
    "        'pixel_rel_diff': 'Pixel Relative Difference (%)',\n",
    "        'lobster_size': 'Lobster Size'\n",
    "    }\n",
    ")\n",
    "\n",
    "# Add vertical lines for error ranges\n",
    "fig.add_vline(x=5, line_dash=\"dash\", line_color=\"red\", opacity=0.5)\n",
    "fig.add_vline(x=10, line_dash=\"dash\", line_color=\"red\", opacity=0.5)\n",
    "fig.add_vline(x=15, line_dash=\"dash\", line_color=\"red\", opacity=0.5)\n",
    "\n",
    "# Update layout for better visualization\n",
    "fig.update_layout(\n",
    "    hovermode='closest',\n",
    "    plot_bgcolor='white',\n",
    "    width=900,\n",
    "    height=600\n",
    ")\n",
    "\n",
    "# Add grid lines\n",
    "fig.update_xaxes(showgrid=True, gridwidth=1, gridcolor='LightGray')\n",
    "fig.update_yaxes(showgrid=True, gridwidth=1, gridcolor='LightGray')\n",
    "\n",
    "# Show the plot\n",
    "fig.show()"
   ]
  },
  {
   "cell_type": "code",
   "execution_count": 31,
   "metadata": {},
   "outputs": [
    {
     "name": "stdout",
     "output_type": "stream",
     "text": [
      "Circle Pond Statistics:\n",
      "R-squared: 0.076\n",
      "Slope: 0.320\n",
      "Intercept: 3.625\n",
      "\n",
      "Square Pond Statistics:\n",
      "R-squared: 0.605\n",
      "Slope: 1.254\n",
      "Intercept: -0.343\n"
     ]
    },
    {
     "data": {
      "application/vnd.plotly.v1+json": {
       "config": {
        "plotlyServerURL": "https://plot.ly"
       },
       "data": [
        {
         "customdata": [
          [
           "undistorted_GX010191_37_1242",
           139.2,
           "small",
           0.06819668480605824,
           0.4900000000000091,
           5.800000000000011,
           4.000000000000008,
           718.51,
           719
          ],
          [
           "undistorted_GX010191_100_1250",
           143,
           "small",
           0.910018942805829,
           6.668000000000006,
           2,
           1.3793103448275863,
           732.732,
           739.4
          ],
          [
           "undistorted_GX010191_35_1167",
           149.2,
           "small",
           1.38289901032272,
           10.649000000000001,
           4.199999999999989,
           2.896551724137923,
           770.049,
           759.4
          ],
          [
           "undistorted_GX010191_31_283",
           174.8,
           "big",
           1.4735613321265169,
           13.936000000000035,
           5.199999999999989,
           2.8888888888888826,
           945.736,
           931.8
          ],
          [
           "undistorted_GX010191_42_1339",
           138.2,
           "small",
           2.576005437362323,
           18.722999999999956,
           6.800000000000011,
           4.689655172413801,
           726.823,
           708.1
          ],
          [
           "undistorted_GX010191_35_367",
           171.6,
           "big",
           2.246188864725486,
           20.80200000000002,
           8.400000000000006,
           4.66666666666667,
           926.102,
           905.3
          ],
          [
           "undistorted_GX010191_34_350",
           175.4,
           "big",
           2.4961162195070723,
           23.779999999999973,
           4.599999999999994,
           2.5555555555555522,
           952.68,
           928.9
          ],
          [
           "undistorted_GX010191_17_509",
           142.3,
           "small",
           3.6387715920015538,
           25.66199999999992,
           2.6999999999999886,
           1.8620689655172336,
           705.238,
           730.9
          ],
          [
           "undistorted_GX010191_105_1312",
           141.4,
           "small",
           3.722818300028649,
           25.852999999999952,
           3.5999999999999943,
           2.4827586206896513,
           694.447,
           720.3
          ],
          [
           "undistorted_GX010191_37_1242",
           181.3,
           "big",
           2.662578535683596,
           26.15599999999995,
           1.3000000000000114,
           0.7222222222222285,
           982.356,
           956.2
          ],
          [
           "undistorted_GX010191_36_1195",
           144.8,
           "small",
           3.7255332729288826,
           28.658999999999992,
           0.19999999999998863,
           0.1379310344827508,
           769.259,
           740.6
          ],
          [
           "undistorted_GX010191_114_1383",
           149.5,
           "small",
           5.193547317909129,
           42.307000000000016,
           4.5,
           3.103448275862069,
           814.607,
           772.3
          ],
          [
           "undistorted_GX010191_8_309",
           179.7,
           "big",
           4.902454511615695,
           44.780000000000086,
           0.30000000000001137,
           0.16666666666667299,
           913.42,
           958.2
          ],
          [
           "undistorted_GX010191_34_350",
           149.3,
           "small",
           6.216755319148936,
           44.879999999999995,
           4.300000000000011,
           2.965517241379318,
           721.92,
           766.8
          ],
          [
           "undistorted_GX010191_35_367",
           146.1,
           "small",
           6.543349852011343,
           46.22700000000009,
           1.0999999999999943,
           0.7586206896551685,
           706.473,
           752.7
          ],
          [
           "undistorted_GX010191_38_1266",
           150.7,
           "small",
           7.158069674391972,
           51.254999999999995,
           5.699999999999989,
           3.931034482758613,
           716.045,
           767.3
          ],
          [
           "undistorted_GX010191_17_509",
           174.9,
           "big",
           5.8743130434187405,
           51.48900000000003,
           5.099999999999994,
           2.83333333333333,
           876.511,
           928
          ],
          [
           "undistorted_GX010191_36_1195",
           172.9,
           "big",
           6.322040387419454,
           62.087999999999965,
           7.099999999999994,
           3.9444444444444415,
           982.088,
           920
          ],
          [
           "undistorted_GX010191_10_370",
           149,
           "small",
           9.54362568428856,
           66.43900000000008,
           4,
           2.7586206896551726,
           696.161,
           762.6
          ],
          [
           "undistorted_GX010191_105_1312",
           174.2,
           "big",
           6.857920552203788,
           68.077,
           5.800000000000011,
           3.2222222222222285,
           992.677,
           924.6
          ]
         ],
         "hovertemplate": "<b>Image:</b> %{customdata[0]}<br><b>Pixels Total Length:</b> %{customdata[8]:.1f}<br><b>Length:</b> %{customdata[7]:.1f}<br><b>Total Length:</b> %{customdata[1]:.1f}<br><b>Lobster Size:</b> %{customdata[2]}<br><b>Pixel Rel Diff:</b> %{customdata[3]:.1f}%<br><b>Pixel Abs Diff:</b> %{customdata[4]:.1f}<br><b>Real Length Abs Diff:</b> %{customdata[5]:.1f}<br><b>Real Length Rel Diff:</b> %{customdata[6]:.1f}%<br>",
         "marker": {
          "color": "green",
          "opacity": 0.6,
          "size": 10
         },
         "mode": "markers",
         "name": "Error ≤ 5%",
         "showlegend": true,
         "type": "scatter",
         "x": [
          0.06819668480605824,
          0.910018942805829,
          1.38289901032272,
          1.4735613321265169,
          2.576005437362323,
          2.246188864725486,
          2.4961162195070723,
          3.6387715920015538,
          3.722818300028649,
          2.662578535683596,
          3.7255332729288826,
          5.193547317909129,
          4.902454511615695,
          6.216755319148936,
          6.543349852011343,
          7.158069674391972,
          5.8743130434187405,
          6.322040387419454,
          9.54362568428856,
          6.857920552203788
         ],
         "xaxis": "x",
         "y": [
          4.000000000000008,
          1.3793103448275863,
          2.896551724137923,
          2.8888888888888826,
          4.689655172413801,
          4.66666666666667,
          2.5555555555555522,
          1.8620689655172336,
          2.4827586206896513,
          0.7222222222222285,
          0.1379310344827508,
          3.103448275862069,
          0.16666666666667299,
          2.965517241379318,
          0.7586206896551685,
          3.931034482758613,
          2.83333333333333,
          3.9444444444444415,
          2.7586206896551726,
          3.2222222222222285
         ],
         "yaxis": "y"
        },
        {
         "customdata": [
          [
           "undistorted_GX010191_8_309",
           154.8,
           "small",
           0.06560433241892914,
           0.5180000000000291,
           9.800000000000011,
           6.75862068965518,
           789.582,
           790.1
          ],
          [
           "undistorted_GX010191_32_305",
           154.2,
           "small",
           0.44251989440297856,
           3.4950000000000045,
           9.199999999999989,
           6.344827586206889,
           789.795,
           786.3
          ],
          [
           "undistorted_GX010191_28_230",
           152.7,
           "small",
           2.8653838476585847,
           22.96799999999996,
           7.699999999999989,
           5.310344827586199,
           801.568,
           778.6
          ],
          [
           "undistorted_GX010191_88_1016",
           190.4,
           "big",
           2.2953794759610755,
           23.82899999999995,
           10.400000000000006,
           5.777777777777781,
           1038.129,
           1014.3
          ],
          [
           "undistorted_GX010191_47_507",
           170.3,
           "big",
           3.7101890390362833,
           32.375999999999976,
           9.699999999999989,
           5.388888888888883,
           872.624,
           905
          ],
          [
           "undistorted_GX010191_34_1128",
           169.7,
           "big",
           5.290556620507818,
           50.285999999999945,
           10.300000000000011,
           5.7222222222222285,
           950.486,
           900.2
          ],
          [
           "undistorted_GX010191_41_1322",
           169,
           "big",
           6.0311290132538655,
           57.84100000000001,
           11,
           6.111111111111111,
           959.041,
           901.2
          ],
          [
           "undistorted_GX010191_42_1339",
           166.6,
           "big",
           6.185869246555263,
           58.447,
           13.400000000000006,
           7.444444444444448,
           944.847,
           886.4
          ],
          [
           "undistorted_GX010191_43_1353",
           164.2,
           "big",
           6.91075495227486,
           64.394,
           15.800000000000011,
           8.777777777777784,
           931.794,
           867.4
          ],
          [
           "undistorted_GX010191_106_1320",
           155,
           "small",
           9.455520896612448,
           69.26499999999999,
           10,
           6.896551724137931,
           732.535,
           801.8
          ],
          [
           "undistorted_GX010191_110_1355",
           162.4,
           "big",
           7.649384365136645,
           71.00999999999999,
           17.599999999999994,
           9.777777777777775,
           928.31,
           857.3
          ],
          [
           "undistorted_GX010191_32_305",
           191.5,
           "big",
           7.709092597321189,
           73.0619999999999,
           11.5,
           6.388888888888888,
           947.738,
           1020.8
          ],
          [
           "undistorted_GX010191_14_460",
           162.5,
           "big",
           9.32942765874168,
           73.88999999999999,
           17.5,
           9.722222222222223,
           792.01,
           865.9
          ],
          [
           "undistorted_GX010191_117_1408",
           168.9,
           "big",
           8.734013895231067,
           85.49700000000007,
           11.099999999999994,
           6.166666666666663,
           978.897,
           893.4
          ],
          [
           "undistorted_GX010191_47_507",
           153.4,
           "small",
           9.82370413832304,
           85.72400000000005,
           8.400000000000006,
           5.793103448275866,
           872.624,
           786.9
          ]
         ],
         "hovertemplate": "<b>Image:</b> %{customdata[0]}<br><b>Pixels Total Length:</b> %{customdata[8]:.1f}<br><b>Length:</b> %{customdata[7]:.1f}<br><b>Total Length:</b> %{customdata[1]:.1f}<br><b>Lobster Size:</b> %{customdata[2]}<br><b>Pixel Rel Diff:</b> %{customdata[3]:.1f}%<br><b>Pixel Abs Diff:</b> %{customdata[4]:.1f}<br><b>Real Length Abs Diff:</b> %{customdata[5]:.1f}<br><b>Real Length Rel Diff:</b> %{customdata[6]:.1f}%<br>",
         "marker": {
          "color": "yellow",
          "opacity": 0.6,
          "size": 10
         },
         "mode": "markers",
         "name": "5% < Error ≤ 10%",
         "showlegend": true,
         "type": "scatter",
         "x": [
          0.06560433241892914,
          0.44251989440297856,
          2.8653838476585847,
          2.2953794759610755,
          3.7101890390362833,
          5.290556620507818,
          6.0311290132538655,
          6.185869246555263,
          6.91075495227486,
          9.455520896612448,
          7.649384365136645,
          7.709092597321189,
          9.32942765874168,
          8.734013895231067,
          9.82370413832304
         ],
         "xaxis": "x",
         "y": [
          6.75862068965518,
          6.344827586206889,
          5.310344827586199,
          5.777777777777781,
          5.388888888888883,
          5.7222222222222285,
          6.111111111111111,
          7.444444444444448,
          8.777777777777784,
          6.896551724137931,
          9.777777777777775,
          6.388888888888888,
          9.722222222222223,
          6.166666666666663,
          5.793103448275866
         ],
         "yaxis": "y"
        },
        {
         "customdata": [
          [
           "undistorted_GX010191_94_1132",
           156.7,
           "big",
           1.1809716535184118,
           9.711000000000013,
           23.30000000000001,
           12.94444444444445,
           822.289,
           832
          ],
          [
           "undistorted_GX010191_28_230",
           201.1,
           "big",
           4.7224216144421725,
           48.354999999999905,
           21.099999999999994,
           11.722222222222218,
           1023.945,
           1072.3
          ],
          [
           "undistorted_GX010191_16_495",
           157,
           "big",
           8.532781772218396,
           77.97000000000003,
           23,
           12.777777777777777,
           913.77,
           835.8
          ],
          [
           "undistorted_GX010191_15_479",
           159.4,
           "big",
           8.77770493632572,
           81.80899999999997,
           20.599999999999994,
           11.444444444444441,
           932.009,
           850.2
          ]
         ],
         "hovertemplate": "<b>Image:</b> %{customdata[0]}<br><b>Pixels Total Length:</b> %{customdata[8]:.1f}<br><b>Length:</b> %{customdata[7]:.1f}<br><b>Total Length:</b> %{customdata[1]:.1f}<br><b>Lobster Size:</b> %{customdata[2]}<br><b>Pixel Rel Diff:</b> %{customdata[3]:.1f}%<br><b>Pixel Abs Diff:</b> %{customdata[4]:.1f}<br><b>Real Length Abs Diff:</b> %{customdata[5]:.1f}<br><b>Real Length Rel Diff:</b> %{customdata[6]:.1f}%<br>",
         "marker": {
          "color": "orange",
          "opacity": 0.6,
          "size": 10
         },
         "mode": "markers",
         "name": "10% < Error ≤ 15%",
         "showlegend": true,
         "type": "scatter",
         "x": [
          1.1809716535184118,
          4.7224216144421725,
          8.532781772218396,
          8.77770493632572
         ],
         "xaxis": "x",
         "y": [
          12.94444444444445,
          11.722222222222218,
          12.777777777777777,
          11.444444444444441
         ],
         "yaxis": "y"
        },
        {
         "customdata": [],
         "hovertemplate": "<b>Image:</b> %{customdata[0]}<br><b>Pixels Total Length:</b> %{customdata[8]:.1f}<br><b>Length:</b> %{customdata[7]:.1f}<br><b>Total Length:</b> %{customdata[1]:.1f}<br><b>Lobster Size:</b> %{customdata[2]}<br><b>Pixel Rel Diff:</b> %{customdata[3]:.1f}%<br><b>Pixel Abs Diff:</b> %{customdata[4]:.1f}<br><b>Real Length Abs Diff:</b> %{customdata[5]:.1f}<br><b>Real Length Rel Diff:</b> %{customdata[6]:.1f}%<br>",
         "marker": {
          "color": "red",
          "opacity": 0.6,
          "size": 10
         },
         "mode": "markers",
         "name": "Error > 15%",
         "showlegend": true,
         "type": "scatter",
         "x": [],
         "xaxis": "x",
         "y": [],
         "yaxis": "y"
        },
        {
         "line": {
          "color": "black",
          "width": 2
         },
         "mode": "lines",
         "name": "Regression (R²=0.076)",
         "showlegend": true,
         "type": "scatter",
         "x": [
          0.06560433241892914,
          0.16417099712503128,
          0.2627376618311334,
          0.36130432653723554,
          0.4598709912433377,
          0.5584376559494398,
          0.6570043206555419,
          0.7555709853616441,
          0.8541376500677462,
          0.9527043147738483,
          1.0512709794799504,
          1.1498376441860525,
          1.2484043088921546,
          1.3469709735982567,
          1.445537638304359,
          1.544104303010461,
          1.6426709677165632,
          1.7412376324226653,
          1.8398042971287674,
          1.9383709618348697,
          2.036937626540972,
          2.135504291247074,
          2.234070955953176,
          2.3326376206592783,
          2.4312042853653804,
          2.5297709500714824,
          2.6283376147775845,
          2.726904279483687,
          2.825470944189789,
          2.9240376088958913,
          3.0226042736019934,
          3.1211709383080954,
          3.2197376030141975,
          3.3183042677202996,
          3.4168709324264017,
          3.515437597132504,
          3.614004261838606,
          3.712570926544708,
          3.8111375912508105,
          3.9097042559569126,
          4.008270920663015,
          4.106837585369116,
          4.205404250075219,
          4.303970914781321,
          4.402537579487423,
          4.501104244193526,
          4.599670908899627,
          4.69823757360573,
          4.7968042383118314,
          4.895370903017934,
          4.993937567724036,
          5.092504232430138,
          5.19107089713624,
          5.289637561842342,
          5.388204226548445,
          5.4867708912545465,
          5.585337555960649,
          5.683904220666751,
          5.782470885372853,
          5.881037550078955,
          5.979604214785057,
          6.078170879491159,
          6.176737544197262,
          6.275304208903363,
          6.373870873609466,
          6.472437538315568,
          6.57100420302167,
          6.6695708677277725,
          6.768137532433874,
          6.866704197139977,
          6.965270861846078,
          7.063837526552181,
          7.1624041912582825,
          7.260970855964385,
          7.359537520670487,
          7.458104185376589,
          7.556670850082692,
          7.655237514788793,
          7.753804179494896,
          7.852370844200998,
          7.9509375089071,
          8.049504173613201,
          8.148070838319303,
          8.246637503025406,
          8.345204167731508,
          8.44377083243761,
          8.542337497143713,
          8.640904161849814,
          8.739470826555916,
          8.838037491262018,
          8.936604155968121,
          9.035170820674223,
          9.133737485380324,
          9.232304150086426,
          9.33087081479253,
          9.429437479498631,
          9.528004144204733,
          9.626570808910836,
          9.725137473616938,
          9.82370413832304
         ],
         "xaxis": "x",
         "y": [
          3.6457686370783,
          3.6773289427634075,
          3.7088892484485148,
          3.740449554133622,
          3.7720098598187293,
          3.803570165503837,
          3.8351304711889442,
          3.8666907768740515,
          3.898251082559159,
          3.9298113882442665,
          3.9613716939293737,
          3.9929319996144814,
          4.024492305299589,
          4.056052610984696,
          4.087612916669803,
          4.1191732223549105,
          4.150733528040018,
          4.182293833725126,
          4.213854139410233,
          4.24541444509534,
          4.276974750780448,
          4.308535056465555,
          4.340095362150662,
          4.37165566783577,
          4.403215973520878,
          4.434776279205985,
          4.466336584891092,
          4.497896890576199,
          4.529457196261307,
          4.561017501946415,
          4.592577807631522,
          4.624138113316629,
          4.6556984190017365,
          4.687258724686844,
          4.718819030371951,
          4.750379336057058,
          4.7819396417421665,
          4.813499947427273,
          4.845060253112381,
          4.876620558797488,
          4.9081808644825955,
          4.939741170167703,
          4.97130147585281,
          5.002861781537918,
          5.034422087223025,
          5.065982392908133,
          5.09754269859324,
          5.129103004278347,
          5.1606633099634545,
          5.192223615648562,
          5.22378392133367,
          5.255344227018777,
          5.286904532703884,
          5.318464838388992,
          5.350025144074099,
          5.381585449759206,
          5.413145755444314,
          5.444706061129422,
          5.476266366814529,
          5.507826672499636,
          5.539386978184743,
          5.570947283869851,
          5.602507589554959,
          5.634067895240065,
          5.665628200925173,
          5.6971885066102805,
          5.728748812295388,
          5.760309117980496,
          5.791869423665602,
          5.8234297293507105,
          5.854990035035817,
          5.886550340720925,
          5.918110646406032,
          5.9496709520911395,
          5.981231257776247,
          6.012791563461354,
          6.044351869146462,
          6.0759121748315685,
          6.107472480516677,
          6.139032786201784,
          6.170593091886891,
          6.2021533975719985,
          6.233713703257106,
          6.265274008942214,
          6.29683431462732,
          6.328394620312428,
          6.359954925997536,
          6.391515231682643,
          6.42307553736775,
          6.454635843052857,
          6.486196148737966,
          6.517756454423072,
          6.54931676010818,
          6.5808770657932865,
          6.612437371478395,
          6.643997677163502,
          6.675557982848609,
          6.707118288533717,
          6.738678594218824,
          6.770238899903932
         ],
         "yaxis": "y"
        },
        {
         "customdata": [
          [
           "undistorted_GX010193_11_1065",
           184.3,
           "big",
           0.2719072631353484,
           4.733000000000175,
           4.300000000000011,
           2.388888888888895,
           1740.667,
           1745.4
          ],
          [
           "undistorted_GX010193_27_1553",
           186.6,
           "big",
           0.45462498393326184,
           8.028999999999996,
           6.599999999999994,
           3.6666666666666634,
           1766.071,
           1774.1
          ],
          [
           "undistorted_GX010194_39_513",
           144.1,
           "small",
           0.6183931256023713,
           8.091000000000122,
           0.9000000000000057,
           0.6206896551724177,
           1308.391,
           1300.3
          ],
          [
           "undistorted_GX010193_18_1289",
           145.8,
           "small",
           2.9511834319526695,
           39.90000000000009,
           0.8000000000000114,
           0.5517241379310424,
           1352,
           1312.1
          ],
          [
           "undistorted_GX010192_26_1578",
           139.5,
           "small",
           5.190106282117129,
           68.81099999999992,
           5.5,
           3.793103448275862,
           1325.811,
           1257
          ],
          [
           "undistorted_GX010192_26_1578",
           172.9,
           "big",
           4.580174889777063,
           78.68200000000002,
           7.099999999999994,
           3.9444444444444415,
           1717.882,
           1639.2
          ],
          [
           "undistorted_GX010193_28_1584",
           143.6,
           "small",
           5.776312221746017,
           79.24800000000005,
           1.4000000000000057,
           0.9655172413793143,
           1371.948,
           1292.7
          ]
         ],
         "hovertemplate": "<b>Image:</b> %{customdata[0]}<br><b>Pixels Total Length:</b> %{customdata[8]:.1f}<br><b>Length:</b> %{customdata[7]:.1f}<br><b>Total Length:</b> %{customdata[1]:.1f}<br><b>Lobster Size:</b> %{customdata[2]}<br><b>Pixel Rel Diff:</b> %{customdata[3]:.1f}%<br><b>Pixel Abs Diff:</b> %{customdata[4]:.1f}<br><b>Real Length Abs Diff:</b> %{customdata[5]:.1f}<br><b>Real Length Rel Diff:</b> %{customdata[6]:.1f}%<br>",
         "marker": {
          "color": "green",
          "opacity": 0.6,
          "size": 10
         },
         "mode": "markers",
         "name": "Error ≤ 5%",
         "showlegend": false,
         "type": "scatter",
         "x": [
          0.2719072631353484,
          0.45462498393326184,
          0.6183931256023713,
          2.9511834319526695,
          5.190106282117129,
          4.580174889777063,
          5.776312221746017
         ],
         "xaxis": "x2",
         "y": [
          2.388888888888895,
          3.6666666666666634,
          0.6206896551724177,
          0.5517241379310424,
          3.793103448275862,
          3.9444444444444415,
          0.9655172413793143
         ],
         "yaxis": "y2"
        },
        {
         "customdata": [
          [
           "undistorted_GX010194_7_885",
           154.7,
           "small",
           5.6427307993046165,
           74.32999999999993,
           9.699999999999989,
           6.689655172413786,
           1317.27,
           1391.6
          ],
          [
           "undistorted_GX010194_19_285",
           133.1,
           "small",
           6.626369451250111,
           84.76199999999994,
           11.900000000000006,
           8.206896551724142,
           1279.162,
           1194.4
          ],
          [
           "undistorted_GX010193_19_1334",
           134.3,
           "small",
           7.949803637502098,
           103.60200000000009,
           10.699999999999989,
           7.379310344827579,
           1303.202,
           1199.6
          ]
         ],
         "hovertemplate": "<b>Image:</b> %{customdata[0]}<br><b>Pixels Total Length:</b> %{customdata[8]:.1f}<br><b>Length:</b> %{customdata[7]:.1f}<br><b>Total Length:</b> %{customdata[1]:.1f}<br><b>Lobster Size:</b> %{customdata[2]}<br><b>Pixel Rel Diff:</b> %{customdata[3]:.1f}%<br><b>Pixel Abs Diff:</b> %{customdata[4]:.1f}<br><b>Real Length Abs Diff:</b> %{customdata[5]:.1f}<br><b>Real Length Rel Diff:</b> %{customdata[6]:.1f}%<br>",
         "marker": {
          "color": "yellow",
          "opacity": 0.6,
          "size": 10
         },
         "mode": "markers",
         "name": "5% < Error ≤ 10%",
         "showlegend": false,
         "type": "scatter",
         "x": [
          5.6427307993046165,
          6.626369451250111,
          7.949803637502098
         ],
         "xaxis": "x2",
         "y": [
          6.689655172413786,
          8.206896551724142,
          7.379310344827579
         ],
         "yaxis": "y2"
        },
        {
         "customdata": [
          [
           "undistorted_GX010194_26_373",
           126.4,
           "small",
           7.4659118452999635,
           90.86500000000001,
           18.599999999999994,
           12.82758620689655,
           1217.065,
           1126.2
          ]
         ],
         "hovertemplate": "<b>Image:</b> %{customdata[0]}<br><b>Pixels Total Length:</b> %{customdata[8]:.1f}<br><b>Length:</b> %{customdata[7]:.1f}<br><b>Total Length:</b> %{customdata[1]:.1f}<br><b>Lobster Size:</b> %{customdata[2]}<br><b>Pixel Rel Diff:</b> %{customdata[3]:.1f}%<br><b>Pixel Abs Diff:</b> %{customdata[4]:.1f}<br><b>Real Length Abs Diff:</b> %{customdata[5]:.1f}<br><b>Real Length Rel Diff:</b> %{customdata[6]:.1f}%<br>",
         "marker": {
          "color": "orange",
          "opacity": 0.6,
          "size": 10
         },
         "mode": "markers",
         "name": "10% < Error ≤ 15%",
         "showlegend": false,
         "type": "scatter",
         "x": [
          7.4659118452999635
         ],
         "xaxis": "x2",
         "y": [
          12.82758620689655
         ],
         "yaxis": "y2"
        },
        {
         "customdata": [
          [
           "undistorted_GX010193_20_1365",
           120.6,
           "small",
           9.869109440804623,
           117.23900000000003,
           24.400000000000006,
           16.827586206896555,
           1187.939,
           1070.7
          ]
         ],
         "hovertemplate": "<b>Image:</b> %{customdata[0]}<br><b>Pixels Total Length:</b> %{customdata[8]:.1f}<br><b>Length:</b> %{customdata[7]:.1f}<br><b>Total Length:</b> %{customdata[1]:.1f}<br><b>Lobster Size:</b> %{customdata[2]}<br><b>Pixel Rel Diff:</b> %{customdata[3]:.1f}%<br><b>Pixel Abs Diff:</b> %{customdata[4]:.1f}<br><b>Real Length Abs Diff:</b> %{customdata[5]:.1f}<br><b>Real Length Rel Diff:</b> %{customdata[6]:.1f}%<br>",
         "marker": {
          "color": "red",
          "opacity": 0.6,
          "size": 10
         },
         "mode": "markers",
         "name": "Error > 15%",
         "showlegend": false,
         "type": "scatter",
         "x": [
          9.869109440804623
         ],
         "xaxis": "x2",
         "y": [
          16.827586206896555
         ],
         "yaxis": "y2"
        },
        {
         "line": {
          "color": "black",
          "width": 2
         },
         "mode": "lines",
         "name": "Regression (R²=0.605)",
         "showlegend": false,
         "type": "scatter",
         "x": [
          0.2719072631353484,
          0.3688486992734219,
          0.4657901354114954,
          0.5627315715495689,
          0.6596730076876423,
          0.7566144438257159,
          0.8535558799637892,
          0.9504973161018627,
          1.0474387522399362,
          1.1443801883780096,
          1.2413216245160832,
          1.3382630606541568,
          1.4352044967922302,
          1.5321459329303035,
          1.629087369068377,
          1.7260288052064507,
          1.8229702413445241,
          1.9199116774825975,
          2.016853113620671,
          2.1137945497587443,
          2.210735985896818,
          2.3076774220348915,
          2.404618858172965,
          2.501560294311038,
          2.5985017304491116,
          2.695443166587185,
          2.792384602725259,
          2.889326038863332,
          2.9862674750014055,
          3.083208911139479,
          3.1801503472775527,
          3.277091783415626,
          3.3740332195536995,
          3.470974655691773,
          3.5679160918298463,
          3.66485752796792,
          3.7617989641059935,
          3.858740400244067,
          3.95568183638214,
          4.052623272520214,
          4.149564708658287,
          4.246506144796361,
          4.343447580934435,
          4.440389017072508,
          4.537330453210582,
          4.634271889348655,
          4.731213325486729,
          4.828154761624802,
          4.925096197762875,
          5.022037633900949,
          5.118979070039022,
          5.215920506177096,
          5.31286194231517,
          5.409803378453243,
          5.5067448145913165,
          5.60368625072939,
          5.700627686867463,
          5.797569123005537,
          5.89451055914361,
          5.991451995281683,
          6.088393431419758,
          6.185334867557831,
          6.282276303695904,
          6.379217739833978,
          6.476159175972051,
          6.5731006121101245,
          6.670042048248198,
          6.766983484386271,
          6.863924920524345,
          6.960866356662419,
          7.057807792800492,
          7.154749228938566,
          7.251690665076639,
          7.348632101214712,
          7.445573537352786,
          7.542514973490859,
          7.639456409628933,
          7.736397845767006,
          7.83333928190508,
          7.930280718043154,
          8.027222154181226,
          8.1241635903193,
          8.221105026457373,
          8.318046462595447,
          8.414987898733521,
          8.511929334871594,
          8.608870771009668,
          8.70581220714774,
          8.802753643285815,
          8.899695079423887,
          8.996636515561962,
          9.093577951700034,
          9.190519387838108,
          9.287460823976183,
          9.384402260114255,
          9.48134369625233,
          9.578285132390402,
          9.675226568528476,
          9.772168004666549,
          9.869109440804623
         ],
         "xaxis": "x2",
         "y": [
          -0.00230588949042404,
          0.11926946875323396,
          0.24084482699689191,
          0.36242018524055,
          0.4839955434842078,
          0.605570901727866,
          0.7271462599715239,
          0.8487216182151818,
          0.9702969764588398,
          1.0918723347024977,
          1.213447692946156,
          1.335023051189814,
          1.4565984094334719,
          1.5781737676771297,
          1.6997491259207878,
          1.821324484164446,
          1.9428998424081039,
          2.0644752006517617,
          2.1860505588954195,
          2.3076259171390774,
          2.429201275382736,
          2.550776633626394,
          2.672351991870052,
          2.7939273501137096,
          2.9155027083573675,
          3.0370780666010253,
          3.1586534248446836,
          3.2802287830883414,
          3.4018041413319993,
          3.523379499575657,
          3.644954857819316,
          3.7665302160629732,
          3.888105574306631,
          4.009680932550289,
          4.131256290793948,
          4.2528316490376055,
          4.374407007281263,
          4.495982365524921,
          4.617557723768579,
          4.739133082012238,
          4.8607084402558955,
          4.982283798499553,
          5.103859156743212,
          5.22543451498687,
          5.347009873230528,
          5.468585231474186,
          5.5901605897178435,
          5.711735947961501,
          5.833311306205159,
          5.954886664448818,
          6.076462022692476,
          6.198037380936134,
          6.319612739179792,
          6.44118809742345,
          6.562763455667108,
          6.684338813910766,
          6.805914172154424,
          6.9274895303980815,
          7.049064888641739,
          7.170640246885397,
          7.292215605129056,
          7.413790963372714,
          7.5353663216163715,
          7.656941679860029,
          7.778517038103688,
          7.900092396347345,
          8.021667754591004,
          8.14324311283466,
          8.26481847107832,
          8.386393829321978,
          8.507969187565635,
          8.629544545809294,
          8.751119904052953,
          8.87269526229661,
          8.994270620540268,
          9.115845978783925,
          9.237421337027584,
          9.358996695271241,
          9.4805720535149,
          9.602147411758558,
          9.723722770002215,
          9.845298128245874,
          9.966873486489531,
          10.08844884473319,
          10.210024202976848,
          10.331599561220505,
          10.453174919464164,
          10.574750277707821,
          10.69632563595148,
          10.817900994195137,
          10.939476352438795,
          11.061051710682452,
          11.182627068926111,
          11.30420242716977,
          11.425777785413427,
          11.547353143657086,
          11.668928501900742,
          11.790503860144401,
          11.912079218388058,
          12.033654576631717
         ],
         "yaxis": "y2"
        }
       ],
       "layout": {
        "annotations": [
         {
          "font": {
           "size": 16
          },
          "showarrow": false,
          "text": "Circle Pond (GX010191)",
          "x": 0.225,
          "xanchor": "center",
          "xref": "paper",
          "y": 1,
          "yanchor": "bottom",
          "yref": "paper"
         },
         {
          "font": {
           "size": 16
          },
          "showarrow": false,
          "text": "Square Pond",
          "x": 0.775,
          "xanchor": "center",
          "xref": "paper",
          "y": 1,
          "yanchor": "bottom",
          "yref": "paper"
         }
        ],
        "height": 800,
        "plot_bgcolor": "white",
        "template": {
         "data": {
          "bar": [
           {
            "error_x": {
             "color": "#2a3f5f"
            },
            "error_y": {
             "color": "#2a3f5f"
            },
            "marker": {
             "line": {
              "color": "#E5ECF6",
              "width": 0.5
             },
             "pattern": {
              "fillmode": "overlay",
              "size": 10,
              "solidity": 0.2
             }
            },
            "type": "bar"
           }
          ],
          "barpolar": [
           {
            "marker": {
             "line": {
              "color": "#E5ECF6",
              "width": 0.5
             },
             "pattern": {
              "fillmode": "overlay",
              "size": 10,
              "solidity": 0.2
             }
            },
            "type": "barpolar"
           }
          ],
          "carpet": [
           {
            "aaxis": {
             "endlinecolor": "#2a3f5f",
             "gridcolor": "white",
             "linecolor": "white",
             "minorgridcolor": "white",
             "startlinecolor": "#2a3f5f"
            },
            "baxis": {
             "endlinecolor": "#2a3f5f",
             "gridcolor": "white",
             "linecolor": "white",
             "minorgridcolor": "white",
             "startlinecolor": "#2a3f5f"
            },
            "type": "carpet"
           }
          ],
          "choropleth": [
           {
            "colorbar": {
             "outlinewidth": 0,
             "ticks": ""
            },
            "type": "choropleth"
           }
          ],
          "contour": [
           {
            "colorbar": {
             "outlinewidth": 0,
             "ticks": ""
            },
            "colorscale": [
             [
              0,
              "#0d0887"
             ],
             [
              0.1111111111111111,
              "#46039f"
             ],
             [
              0.2222222222222222,
              "#7201a8"
             ],
             [
              0.3333333333333333,
              "#9c179e"
             ],
             [
              0.4444444444444444,
              "#bd3786"
             ],
             [
              0.5555555555555556,
              "#d8576b"
             ],
             [
              0.6666666666666666,
              "#ed7953"
             ],
             [
              0.7777777777777778,
              "#fb9f3a"
             ],
             [
              0.8888888888888888,
              "#fdca26"
             ],
             [
              1,
              "#f0f921"
             ]
            ],
            "type": "contour"
           }
          ],
          "contourcarpet": [
           {
            "colorbar": {
             "outlinewidth": 0,
             "ticks": ""
            },
            "type": "contourcarpet"
           }
          ],
          "heatmap": [
           {
            "colorbar": {
             "outlinewidth": 0,
             "ticks": ""
            },
            "colorscale": [
             [
              0,
              "#0d0887"
             ],
             [
              0.1111111111111111,
              "#46039f"
             ],
             [
              0.2222222222222222,
              "#7201a8"
             ],
             [
              0.3333333333333333,
              "#9c179e"
             ],
             [
              0.4444444444444444,
              "#bd3786"
             ],
             [
              0.5555555555555556,
              "#d8576b"
             ],
             [
              0.6666666666666666,
              "#ed7953"
             ],
             [
              0.7777777777777778,
              "#fb9f3a"
             ],
             [
              0.8888888888888888,
              "#fdca26"
             ],
             [
              1,
              "#f0f921"
             ]
            ],
            "type": "heatmap"
           }
          ],
          "heatmapgl": [
           {
            "colorbar": {
             "outlinewidth": 0,
             "ticks": ""
            },
            "colorscale": [
             [
              0,
              "#0d0887"
             ],
             [
              0.1111111111111111,
              "#46039f"
             ],
             [
              0.2222222222222222,
              "#7201a8"
             ],
             [
              0.3333333333333333,
              "#9c179e"
             ],
             [
              0.4444444444444444,
              "#bd3786"
             ],
             [
              0.5555555555555556,
              "#d8576b"
             ],
             [
              0.6666666666666666,
              "#ed7953"
             ],
             [
              0.7777777777777778,
              "#fb9f3a"
             ],
             [
              0.8888888888888888,
              "#fdca26"
             ],
             [
              1,
              "#f0f921"
             ]
            ],
            "type": "heatmapgl"
           }
          ],
          "histogram": [
           {
            "marker": {
             "pattern": {
              "fillmode": "overlay",
              "size": 10,
              "solidity": 0.2
             }
            },
            "type": "histogram"
           }
          ],
          "histogram2d": [
           {
            "colorbar": {
             "outlinewidth": 0,
             "ticks": ""
            },
            "colorscale": [
             [
              0,
              "#0d0887"
             ],
             [
              0.1111111111111111,
              "#46039f"
             ],
             [
              0.2222222222222222,
              "#7201a8"
             ],
             [
              0.3333333333333333,
              "#9c179e"
             ],
             [
              0.4444444444444444,
              "#bd3786"
             ],
             [
              0.5555555555555556,
              "#d8576b"
             ],
             [
              0.6666666666666666,
              "#ed7953"
             ],
             [
              0.7777777777777778,
              "#fb9f3a"
             ],
             [
              0.8888888888888888,
              "#fdca26"
             ],
             [
              1,
              "#f0f921"
             ]
            ],
            "type": "histogram2d"
           }
          ],
          "histogram2dcontour": [
           {
            "colorbar": {
             "outlinewidth": 0,
             "ticks": ""
            },
            "colorscale": [
             [
              0,
              "#0d0887"
             ],
             [
              0.1111111111111111,
              "#46039f"
             ],
             [
              0.2222222222222222,
              "#7201a8"
             ],
             [
              0.3333333333333333,
              "#9c179e"
             ],
             [
              0.4444444444444444,
              "#bd3786"
             ],
             [
              0.5555555555555556,
              "#d8576b"
             ],
             [
              0.6666666666666666,
              "#ed7953"
             ],
             [
              0.7777777777777778,
              "#fb9f3a"
             ],
             [
              0.8888888888888888,
              "#fdca26"
             ],
             [
              1,
              "#f0f921"
             ]
            ],
            "type": "histogram2dcontour"
           }
          ],
          "mesh3d": [
           {
            "colorbar": {
             "outlinewidth": 0,
             "ticks": ""
            },
            "type": "mesh3d"
           }
          ],
          "parcoords": [
           {
            "line": {
             "colorbar": {
              "outlinewidth": 0,
              "ticks": ""
             }
            },
            "type": "parcoords"
           }
          ],
          "pie": [
           {
            "automargin": true,
            "type": "pie"
           }
          ],
          "scatter": [
           {
            "fillpattern": {
             "fillmode": "overlay",
             "size": 10,
             "solidity": 0.2
            },
            "type": "scatter"
           }
          ],
          "scatter3d": [
           {
            "line": {
             "colorbar": {
              "outlinewidth": 0,
              "ticks": ""
             }
            },
            "marker": {
             "colorbar": {
              "outlinewidth": 0,
              "ticks": ""
             }
            },
            "type": "scatter3d"
           }
          ],
          "scattercarpet": [
           {
            "marker": {
             "colorbar": {
              "outlinewidth": 0,
              "ticks": ""
             }
            },
            "type": "scattercarpet"
           }
          ],
          "scattergeo": [
           {
            "marker": {
             "colorbar": {
              "outlinewidth": 0,
              "ticks": ""
             }
            },
            "type": "scattergeo"
           }
          ],
          "scattergl": [
           {
            "marker": {
             "colorbar": {
              "outlinewidth": 0,
              "ticks": ""
             }
            },
            "type": "scattergl"
           }
          ],
          "scattermapbox": [
           {
            "marker": {
             "colorbar": {
              "outlinewidth": 0,
              "ticks": ""
             }
            },
            "type": "scattermapbox"
           }
          ],
          "scatterpolar": [
           {
            "marker": {
             "colorbar": {
              "outlinewidth": 0,
              "ticks": ""
             }
            },
            "type": "scatterpolar"
           }
          ],
          "scatterpolargl": [
           {
            "marker": {
             "colorbar": {
              "outlinewidth": 0,
              "ticks": ""
             }
            },
            "type": "scatterpolargl"
           }
          ],
          "scatterternary": [
           {
            "marker": {
             "colorbar": {
              "outlinewidth": 0,
              "ticks": ""
             }
            },
            "type": "scatterternary"
           }
          ],
          "surface": [
           {
            "colorbar": {
             "outlinewidth": 0,
             "ticks": ""
            },
            "colorscale": [
             [
              0,
              "#0d0887"
             ],
             [
              0.1111111111111111,
              "#46039f"
             ],
             [
              0.2222222222222222,
              "#7201a8"
             ],
             [
              0.3333333333333333,
              "#9c179e"
             ],
             [
              0.4444444444444444,
              "#bd3786"
             ],
             [
              0.5555555555555556,
              "#d8576b"
             ],
             [
              0.6666666666666666,
              "#ed7953"
             ],
             [
              0.7777777777777778,
              "#fb9f3a"
             ],
             [
              0.8888888888888888,
              "#fdca26"
             ],
             [
              1,
              "#f0f921"
             ]
            ],
            "type": "surface"
           }
          ],
          "table": [
           {
            "cells": {
             "fill": {
              "color": "#EBF0F8"
             },
             "line": {
              "color": "white"
             }
            },
            "header": {
             "fill": {
              "color": "#C8D4E3"
             },
             "line": {
              "color": "white"
             }
            },
            "type": "table"
           }
          ]
         },
         "layout": {
          "annotationdefaults": {
           "arrowcolor": "#2a3f5f",
           "arrowhead": 0,
           "arrowwidth": 1
          },
          "autotypenumbers": "strict",
          "coloraxis": {
           "colorbar": {
            "outlinewidth": 0,
            "ticks": ""
           }
          },
          "colorscale": {
           "diverging": [
            [
             0,
             "#8e0152"
            ],
            [
             0.1,
             "#c51b7d"
            ],
            [
             0.2,
             "#de77ae"
            ],
            [
             0.3,
             "#f1b6da"
            ],
            [
             0.4,
             "#fde0ef"
            ],
            [
             0.5,
             "#f7f7f7"
            ],
            [
             0.6,
             "#e6f5d0"
            ],
            [
             0.7,
             "#b8e186"
            ],
            [
             0.8,
             "#7fbc41"
            ],
            [
             0.9,
             "#4d9221"
            ],
            [
             1,
             "#276419"
            ]
           ],
           "sequential": [
            [
             0,
             "#0d0887"
            ],
            [
             0.1111111111111111,
             "#46039f"
            ],
            [
             0.2222222222222222,
             "#7201a8"
            ],
            [
             0.3333333333333333,
             "#9c179e"
            ],
            [
             0.4444444444444444,
             "#bd3786"
            ],
            [
             0.5555555555555556,
             "#d8576b"
            ],
            [
             0.6666666666666666,
             "#ed7953"
            ],
            [
             0.7777777777777778,
             "#fb9f3a"
            ],
            [
             0.8888888888888888,
             "#fdca26"
            ],
            [
             1,
             "#f0f921"
            ]
           ],
           "sequentialminus": [
            [
             0,
             "#0d0887"
            ],
            [
             0.1111111111111111,
             "#46039f"
            ],
            [
             0.2222222222222222,
             "#7201a8"
            ],
            [
             0.3333333333333333,
             "#9c179e"
            ],
            [
             0.4444444444444444,
             "#bd3786"
            ],
            [
             0.5555555555555556,
             "#d8576b"
            ],
            [
             0.6666666666666666,
             "#ed7953"
            ],
            [
             0.7777777777777778,
             "#fb9f3a"
            ],
            [
             0.8888888888888888,
             "#fdca26"
            ],
            [
             1,
             "#f0f921"
            ]
           ]
          },
          "colorway": [
           "#636efa",
           "#EF553B",
           "#00cc96",
           "#ab63fa",
           "#FFA15A",
           "#19d3f3",
           "#FF6692",
           "#B6E880",
           "#FF97FF",
           "#FECB52"
          ],
          "font": {
           "color": "#2a3f5f"
          },
          "geo": {
           "bgcolor": "white",
           "lakecolor": "white",
           "landcolor": "#E5ECF6",
           "showlakes": true,
           "showland": true,
           "subunitcolor": "white"
          },
          "hoverlabel": {
           "align": "left"
          },
          "hovermode": "closest",
          "mapbox": {
           "style": "light"
          },
          "paper_bgcolor": "white",
          "plot_bgcolor": "#E5ECF6",
          "polar": {
           "angularaxis": {
            "gridcolor": "white",
            "linecolor": "white",
            "ticks": ""
           },
           "bgcolor": "#E5ECF6",
           "radialaxis": {
            "gridcolor": "white",
            "linecolor": "white",
            "ticks": ""
           }
          },
          "scene": {
           "xaxis": {
            "backgroundcolor": "#E5ECF6",
            "gridcolor": "white",
            "gridwidth": 2,
            "linecolor": "white",
            "showbackground": true,
            "ticks": "",
            "zerolinecolor": "white"
           },
           "yaxis": {
            "backgroundcolor": "#E5ECF6",
            "gridcolor": "white",
            "gridwidth": 2,
            "linecolor": "white",
            "showbackground": true,
            "ticks": "",
            "zerolinecolor": "white"
           },
           "zaxis": {
            "backgroundcolor": "#E5ECF6",
            "gridcolor": "white",
            "gridwidth": 2,
            "linecolor": "white",
            "showbackground": true,
            "ticks": "",
            "zerolinecolor": "white"
           }
          },
          "shapedefaults": {
           "line": {
            "color": "#2a3f5f"
           }
          },
          "ternary": {
           "aaxis": {
            "gridcolor": "white",
            "linecolor": "white",
            "ticks": ""
           },
           "baxis": {
            "gridcolor": "white",
            "linecolor": "white",
            "ticks": ""
           },
           "bgcolor": "#E5ECF6",
           "caxis": {
            "gridcolor": "white",
            "linecolor": "white",
            "ticks": ""
           }
          },
          "title": {
           "x": 0.05
          },
          "xaxis": {
           "automargin": true,
           "gridcolor": "white",
           "linecolor": "white",
           "ticks": "",
           "title": {
            "standoff": 15
           },
           "zerolinecolor": "white",
           "zerolinewidth": 2
          },
          "yaxis": {
           "automargin": true,
           "gridcolor": "white",
           "linecolor": "white",
           "ticks": "",
           "title": {
            "standoff": 15
           },
           "zerolinecolor": "white",
           "zerolinewidth": 2
          }
         }
        },
        "title": {
         "text": "Relationship between Pixel and Real Length Relative Differences by Pond Type"
        },
        "width": 1600,
        "xaxis": {
         "anchor": "y",
         "domain": [
          0,
          0.45
         ],
         "gridcolor": "lightgray",
         "gridwidth": 1,
         "showgrid": true,
         "title": {
          "text": "Pixel Relative Difference (%)"
         }
        },
        "xaxis2": {
         "anchor": "y2",
         "domain": [
          0.55,
          1
         ],
         "gridcolor": "lightgray",
         "gridwidth": 1,
         "showgrid": true,
         "title": {
          "text": "Pixel Relative Difference (%)"
         }
        },
        "yaxis": {
         "anchor": "x",
         "domain": [
          0,
          1
         ],
         "gridcolor": "lightgray",
         "gridwidth": 1,
         "showgrid": true,
         "title": {
          "text": "Real Length Relative Difference (%)"
         }
        },
        "yaxis2": {
         "anchor": "x2",
         "domain": [
          0,
          1
         ],
         "gridcolor": "lightgray",
         "gridwidth": 1,
         "showgrid": true,
         "title": {
          "text": "Real Length Relative Difference (%)"
         }
        }
       }
      }
     },
     "metadata": {},
     "output_type": "display_data"
    }
   ],
   "source": [
    "# Split data into two groups based on image name\n",
    "circle_df = new_df[new_df['image_name'].str.contains('191')]\n",
    "square_df = new_df[~new_df['image_name'].str.contains('191')]\n",
    "\n",
    "from plotly.subplots import make_subplots\n",
    "\n",
    "import plotly.graph_objects as go\n",
    "import plotly.express as px\n",
    "import plotly.subplots as sp\n",
    "import numpy as np\n",
    "from scipy import stats\n",
    "\n",
    "\n",
    "\n",
    "# Create two subplots\n",
    "fig = make_subplots(rows=1, cols=2, subplot_titles=('Circle Pond (GX010191)', 'Square Pond'))\n",
    "\n",
    "# Helper function to add traces for each dataset\n",
    "def add_error_traces(df, fig, col=1):\n",
    "    error_thresholds = [5, 10, 15]\n",
    "    colors = ['green', 'yellow', 'orange', 'red']\n",
    "    \n",
    "    for i in range(len(error_thresholds) + 1):\n",
    "        if i == 0:\n",
    "            mask = df['real_length_rel_diff'] <= error_thresholds[0]\n",
    "            label = f'Error ≤ {error_thresholds[0]}%'\n",
    "        elif i == len(error_thresholds):\n",
    "            mask = df['real_length_rel_diff'] > error_thresholds[-1]\n",
    "            label = f'Error > {error_thresholds[-1]}%'\n",
    "        else:\n",
    "            mask = (df['real_length_rel_diff'] > error_thresholds[i-1]) & \\\n",
    "                   (df['real_length_rel_diff'] <= error_thresholds[i])\n",
    "            label = f'{error_thresholds[i-1]}% < Error ≤ {error_thresholds[i]}%'\n",
    "        \n",
    "        fig.add_trace(\n",
    "            go.Scatter(\n",
    "                x=df[mask]['pixel_rel_diff'],\n",
    "                y=df[mask]['real_length_rel_diff'],\n",
    "                mode='markers',\n",
    "                name=label,\n",
    "                marker=dict(color=colors[i], size=10, opacity=0.6),\n",
    "                hovertemplate=\n",
    "                '<b>Image:</b> %{customdata[0]}<br>' +\n",
    "                '<b>Pixels Total Length:</b> %{customdata[8]:.1f}<br>' +\n",
    "                '<b>Length:</b> %{customdata[7]:.1f}<br>' +\n",
    "                '<b>Total Length:</b> %{customdata[1]:.1f}<br>' +\n",
    "                '<b>Lobster Size:</b> %{customdata[2]}<br>' +\n",
    "                '<b>Pixel Rel Diff:</b> %{customdata[3]:.1f}%<br>' +\n",
    "                '<b>Pixel Abs Diff:</b> %{customdata[4]:.1f}<br>' +\n",
    "                '<b>Real Length Abs Diff:</b> %{customdata[5]:.1f}<br>' +\n",
    "                '<b>Real Length Rel Diff:</b> %{customdata[6]:.1f}%<br>',\n",
    "                customdata=list(zip(df[mask]['image_name'], \n",
    "                                  df[mask]['total_length'],\n",
    "                                  df[mask]['lobster_size'],\n",
    "                                  df[mask]['pixel_rel_diff'],\n",
    "                                  df[mask]['pixel_abs_diff'],\n",
    "                                  df[mask]['real_length_abs_diff'],\n",
    "                                  df[mask]['real_length_rel_diff'],\n",
    "                                  df[mask]['Length'],\n",
    "                                  df[mask]['pixels_total_length'])),\n",
    "                showlegend=(col==1),  # Only show legend for first column\n",
    "            ),\n",
    "            row=1, col=col\n",
    "        )\n",
    "\n",
    "    # Add regression line\n",
    "    slope, intercept, r_value, p_value, std_err = stats.linregress(\n",
    "        df['pixel_rel_diff'], df['real_length_rel_diff']\n",
    "    )\n",
    "    x_range = np.linspace(df['pixel_rel_diff'].min(), df['pixel_rel_diff'].max(), 100)\n",
    "    y_range = slope * x_range + intercept\n",
    "    \n",
    "    fig.add_trace(\n",
    "        go.Scatter(\n",
    "            x=x_range,\n",
    "            y=y_range,\n",
    "            mode='lines',\n",
    "            name=f'Regression (R²={r_value**2:.3f})',\n",
    "            line=dict(color='black', width=2),\n",
    "            showlegend=(col==1)\n",
    "        ),\n",
    "        row=1, col=col\n",
    "    )\n",
    "    \n",
    "    return r_value**2, slope, intercept\n",
    "\n",
    "# Add traces for both datasets\n",
    "r2_circle, slope_circle, intercept_circle = add_error_traces(circle_df, fig, col=1)\n",
    "r2_square, slope_square, intercept_square = add_error_traces(square_df, fig, col=2)\n",
    "\n",
    "# Update layout\n",
    "fig.update_layout(\n",
    "    title='Relationship between Pixel and Real Length Relative Differences by Pond Type',\n",
    "    width=1600,\n",
    "    height=800,\n",
    "    plot_bgcolor='white'\n",
    ")\n",
    "\n",
    "# Update axes\n",
    "for i in [1, 2]:\n",
    "    fig.update_xaxes(\n",
    "        title='Pixel Relative Difference (%)',\n",
    "        showgrid=True,\n",
    "        gridwidth=1,\n",
    "        gridcolor='lightgray',\n",
    "        row=1, col=i\n",
    "    )\n",
    "    fig.update_yaxes(\n",
    "        title='Real Length Relative Difference (%)',\n",
    "        showgrid=True,\n",
    "        gridwidth=1,\n",
    "        gridcolor='lightgray',\n",
    "        row=1, col=i\n",
    "    )\n",
    "\n",
    "# Print statistics\n",
    "print(\"Circle Pond Statistics:\")\n",
    "print(f\"R-squared: {r2_circle:.3f}\")\n",
    "print(f\"Slope: {slope_circle:.3f}\")\n",
    "print(f\"Intercept: {intercept_circle:.3f}\")\n",
    "print(\"\\nSquare Pond Statistics:\")\n",
    "print(f\"R-squared: {r2_square:.3f}\") \n",
    "print(f\"Slope: {slope_square:.3f}\")\n",
    "print(f\"Intercept: {intercept_square:.3f}\")\n",
    "\n",
    "fig.show()"
   ]
  },
  {
   "cell_type": "code",
   "execution_count": 17,
   "metadata": {},
   "outputs": [
    {
     "name": "stdout",
     "output_type": "stream",
     "text": [
      "Statistical Analysis after removing outliers:\n",
      "Number of points removed: 2\n",
      "Correlation coefficient: 0.462\n",
      "Linear regression results:\n",
      "Slope: 0.530\n",
      "Intercept: 2.334\n",
      "R-squared: 0.213\n",
      "P-value: 8.447e-04\n",
      "Standard error: 0.149\n"
     ]
    },
    {
     "data": {
      "application/vnd.plotly.v1+json": {
       "config": {
        "plotlyServerURL": "https://plot.ly"
       },
       "data": [
        {
         "customdata": [
          [
           "undistorted_GX010191_37_1242",
           139.2,
           "small",
           0.06819668480605824,
           0.4900000000000091,
           5.800000000000011,
           4.000000000000008,
           718.51,
           719
          ],
          [
           "undistorted_GX010193_11_1065",
           184.3,
           "big",
           0.2719072631353484,
           4.733000000000175,
           4.300000000000011,
           2.388888888888895,
           1740.667,
           1745.4
          ],
          [
           "undistorted_GX010191_100_1250",
           143,
           "small",
           0.910018942805829,
           6.668000000000006,
           2,
           1.3793103448275863,
           732.732,
           739.4
          ],
          [
           "undistorted_GX010193_27_1553",
           186.6,
           "big",
           0.45462498393326184,
           8.028999999999996,
           6.599999999999994,
           3.6666666666666634,
           1766.071,
           1774.1
          ],
          [
           "undistorted_GX010194_39_513",
           144.1,
           "small",
           0.6183931256023713,
           8.091000000000122,
           0.9000000000000057,
           0.6206896551724177,
           1308.391,
           1300.3
          ],
          [
           "undistorted_GX010191_35_1167",
           149.2,
           "small",
           1.38289901032272,
           10.649000000000001,
           4.199999999999989,
           2.896551724137923,
           770.049,
           759.4
          ],
          [
           "undistorted_GX010191_31_283",
           174.8,
           "big",
           1.4735613321265169,
           13.936000000000035,
           5.199999999999989,
           2.8888888888888826,
           945.736,
           931.8
          ],
          [
           "undistorted_GX010191_42_1339",
           138.2,
           "small",
           2.576005437362323,
           18.722999999999956,
           6.800000000000011,
           4.689655172413801,
           726.823,
           708.1
          ],
          [
           "undistorted_GX010191_35_367",
           171.6,
           "big",
           2.246188864725486,
           20.80200000000002,
           8.400000000000006,
           4.66666666666667,
           926.102,
           905.3
          ],
          [
           "undistorted_GX010191_34_350",
           175.4,
           "big",
           2.4961162195070723,
           23.779999999999973,
           4.599999999999994,
           2.5555555555555522,
           952.68,
           928.9
          ],
          [
           "undistorted_GX010191_17_509",
           142.3,
           "small",
           3.6387715920015538,
           25.66199999999992,
           2.6999999999999886,
           1.8620689655172336,
           705.238,
           730.9
          ],
          [
           "undistorted_GX010191_105_1312",
           141.4,
           "small",
           3.722818300028649,
           25.852999999999952,
           3.5999999999999943,
           2.4827586206896513,
           694.447,
           720.3
          ],
          [
           "undistorted_GX010191_37_1242",
           181.3,
           "big",
           2.662578535683596,
           26.15599999999995,
           1.3000000000000114,
           0.7222222222222285,
           982.356,
           956.2
          ],
          [
           "undistorted_GX010191_36_1195",
           144.8,
           "small",
           3.7255332729288826,
           28.658999999999992,
           0.19999999999998863,
           0.1379310344827508,
           769.259,
           740.6
          ],
          [
           "undistorted_GX010193_18_1289",
           145.8,
           "small",
           2.9511834319526695,
           39.90000000000009,
           0.8000000000000114,
           0.5517241379310424,
           1352,
           1312.1
          ],
          [
           "undistorted_GX010191_114_1383",
           149.5,
           "small",
           5.193547317909129,
           42.307000000000016,
           4.5,
           3.103448275862069,
           814.607,
           772.3
          ],
          [
           "undistorted_GX010191_8_309",
           179.7,
           "big",
           4.902454511615695,
           44.780000000000086,
           0.30000000000001137,
           0.16666666666667299,
           913.42,
           958.2
          ],
          [
           "undistorted_GX010191_34_350",
           149.3,
           "small",
           6.216755319148936,
           44.879999999999995,
           4.300000000000011,
           2.965517241379318,
           721.92,
           766.8
          ],
          [
           "undistorted_GX010191_35_367",
           146.1,
           "small",
           6.543349852011343,
           46.22700000000009,
           1.0999999999999943,
           0.7586206896551685,
           706.473,
           752.7
          ],
          [
           "undistorted_GX010191_38_1266",
           150.7,
           "small",
           7.158069674391972,
           51.254999999999995,
           5.699999999999989,
           3.931034482758613,
           716.045,
           767.3
          ],
          [
           "undistorted_GX010191_17_509",
           174.9,
           "big",
           5.8743130434187405,
           51.48900000000003,
           5.099999999999994,
           2.83333333333333,
           876.511,
           928
          ],
          [
           "undistorted_GX010191_36_1195",
           172.9,
           "big",
           6.322040387419454,
           62.087999999999965,
           7.099999999999994,
           3.9444444444444415,
           982.088,
           920
          ],
          [
           "undistorted_GX010191_10_370",
           149,
           "small",
           9.54362568428856,
           66.43900000000008,
           4,
           2.7586206896551726,
           696.161,
           762.6
          ],
          [
           "undistorted_GX010191_105_1312",
           174.2,
           "big",
           6.857920552203788,
           68.077,
           5.800000000000011,
           3.2222222222222285,
           992.677,
           924.6
          ],
          [
           "undistorted_GX010192_26_1578",
           139.5,
           "small",
           5.190106282117129,
           68.81099999999992,
           5.5,
           3.793103448275862,
           1325.811,
           1257
          ],
          [
           "undistorted_GX010192_26_1578",
           172.9,
           "big",
           4.580174889777063,
           78.68200000000002,
           7.099999999999994,
           3.9444444444444415,
           1717.882,
           1639.2
          ],
          [
           "undistorted_GX010193_28_1584",
           143.6,
           "small",
           5.776312221746017,
           79.24800000000005,
           1.4000000000000057,
           0.9655172413793143,
           1371.948,
           1292.7
          ]
         ],
         "hovertemplate": "<b>Image:</b> %{customdata[0]}<br><b>Pixels Total Length:</b> %{customdata[8]:.1f}<br><b>Length:</b> %{customdata[7]:.1f}<br><b>Total Length:</b> %{customdata[1]:.1f}<br><b>Lobster Size:</b> %{customdata[2]}<br><b>Pixel Rel Diff:</b> %{customdata[3]:.1f}%<br><b>Pixel Abs Diff:</b> %{customdata[4]:.1f}<br><b>Real Length Abs Diff:</b> %{customdata[5]:.1f}<br><b>Real Length Rel Diff:</b> %{customdata[6]:.1f}%<br>",
         "marker": {
          "color": "green",
          "opacity": 0.6,
          "size": 10
         },
         "mode": "markers",
         "name": "Error ≤ 5%",
         "type": "scatter",
         "x": [
          0.06819668480605824,
          0.2719072631353484,
          0.910018942805829,
          0.45462498393326184,
          0.6183931256023713,
          1.38289901032272,
          1.4735613321265169,
          2.576005437362323,
          2.246188864725486,
          2.4961162195070723,
          3.6387715920015538,
          3.722818300028649,
          2.662578535683596,
          3.7255332729288826,
          2.9511834319526695,
          5.193547317909129,
          4.902454511615695,
          6.216755319148936,
          6.543349852011343,
          7.158069674391972,
          5.8743130434187405,
          6.322040387419454,
          9.54362568428856,
          6.857920552203788,
          5.190106282117129,
          4.580174889777063,
          5.776312221746017
         ],
         "y": [
          4.000000000000008,
          2.388888888888895,
          1.3793103448275863,
          3.6666666666666634,
          0.6206896551724177,
          2.896551724137923,
          2.8888888888888826,
          4.689655172413801,
          4.66666666666667,
          2.5555555555555522,
          1.8620689655172336,
          2.4827586206896513,
          0.7222222222222285,
          0.1379310344827508,
          0.5517241379310424,
          3.103448275862069,
          0.16666666666667299,
          2.965517241379318,
          0.7586206896551685,
          3.931034482758613,
          2.83333333333333,
          3.9444444444444415,
          2.7586206896551726,
          3.2222222222222285,
          3.793103448275862,
          3.9444444444444415,
          0.9655172413793143
         ]
        },
        {
         "customdata": [
          [
           "undistorted_GX010191_8_309",
           154.8,
           "small",
           0.06560433241892914,
           0.5180000000000291,
           9.800000000000011,
           6.75862068965518,
           789.582,
           790.1
          ],
          [
           "undistorted_GX010191_32_305",
           154.2,
           "small",
           0.44251989440297856,
           3.4950000000000045,
           9.199999999999989,
           6.344827586206889,
           789.795,
           786.3
          ],
          [
           "undistorted_GX010191_28_230",
           152.7,
           "small",
           2.8653838476585847,
           22.96799999999996,
           7.699999999999989,
           5.310344827586199,
           801.568,
           778.6
          ],
          [
           "undistorted_GX010191_88_1016",
           190.4,
           "big",
           2.2953794759610755,
           23.82899999999995,
           10.400000000000006,
           5.777777777777781,
           1038.129,
           1014.3
          ],
          [
           "undistorted_GX010191_47_507",
           170.3,
           "big",
           3.7101890390362833,
           32.375999999999976,
           9.699999999999989,
           5.388888888888883,
           872.624,
           905
          ],
          [
           "undistorted_GX010191_34_1128",
           169.7,
           "big",
           5.290556620507818,
           50.285999999999945,
           10.300000000000011,
           5.7222222222222285,
           950.486,
           900.2
          ],
          [
           "undistorted_GX010191_41_1322",
           169,
           "big",
           6.0311290132538655,
           57.84100000000001,
           11,
           6.111111111111111,
           959.041,
           901.2
          ],
          [
           "undistorted_GX010191_42_1339",
           166.6,
           "big",
           6.185869246555263,
           58.447,
           13.400000000000006,
           7.444444444444448,
           944.847,
           886.4
          ],
          [
           "undistorted_GX010191_43_1353",
           164.2,
           "big",
           6.91075495227486,
           64.394,
           15.800000000000011,
           8.777777777777784,
           931.794,
           867.4
          ],
          [
           "undistorted_GX010191_106_1320",
           155,
           "small",
           9.455520896612448,
           69.26499999999999,
           10,
           6.896551724137931,
           732.535,
           801.8
          ],
          [
           "undistorted_GX010191_110_1355",
           162.4,
           "big",
           7.649384365136645,
           71.00999999999999,
           17.599999999999994,
           9.777777777777775,
           928.31,
           857.3
          ],
          [
           "undistorted_GX010191_32_305",
           191.5,
           "big",
           7.709092597321189,
           73.0619999999999,
           11.5,
           6.388888888888888,
           947.738,
           1020.8
          ],
          [
           "undistorted_GX010191_14_460",
           162.5,
           "big",
           9.32942765874168,
           73.88999999999999,
           17.5,
           9.722222222222223,
           792.01,
           865.9
          ],
          [
           "undistorted_GX010194_7_885",
           154.7,
           "small",
           5.6427307993046165,
           74.32999999999993,
           9.699999999999989,
           6.689655172413786,
           1317.27,
           1391.6
          ],
          [
           "undistorted_GX010194_19_285",
           133.1,
           "small",
           6.626369451250111,
           84.76199999999994,
           11.900000000000006,
           8.206896551724142,
           1279.162,
           1194.4
          ],
          [
           "undistorted_GX010191_117_1408",
           168.9,
           "big",
           8.734013895231067,
           85.49700000000007,
           11.099999999999994,
           6.166666666666663,
           978.897,
           893.4
          ],
          [
           "undistorted_GX010191_47_507",
           153.4,
           "small",
           9.82370413832304,
           85.72400000000005,
           8.400000000000006,
           5.793103448275866,
           872.624,
           786.9
          ],
          [
           "undistorted_GX010193_19_1334",
           134.3,
           "small",
           7.949803637502098,
           103.60200000000009,
           10.699999999999989,
           7.379310344827579,
           1303.202,
           1199.6
          ]
         ],
         "hovertemplate": "<b>Image:</b> %{customdata[0]}<br><b>Pixels Total Length:</b> %{customdata[8]:.1f}<br><b>Length:</b> %{customdata[7]:.1f}<br><b>Total Length:</b> %{customdata[1]:.1f}<br><b>Lobster Size:</b> %{customdata[2]}<br><b>Pixel Rel Diff:</b> %{customdata[3]:.1f}%<br><b>Pixel Abs Diff:</b> %{customdata[4]:.1f}<br><b>Real Length Abs Diff:</b> %{customdata[5]:.1f}<br><b>Real Length Rel Diff:</b> %{customdata[6]:.1f}%<br>",
         "marker": {
          "color": "yellow",
          "opacity": 0.6,
          "size": 10
         },
         "mode": "markers",
         "name": "5% < Error ≤ 10%",
         "type": "scatter",
         "x": [
          0.06560433241892914,
          0.44251989440297856,
          2.8653838476585847,
          2.2953794759610755,
          3.7101890390362833,
          5.290556620507818,
          6.0311290132538655,
          6.185869246555263,
          6.91075495227486,
          9.455520896612448,
          7.649384365136645,
          7.709092597321189,
          9.32942765874168,
          5.6427307993046165,
          6.626369451250111,
          8.734013895231067,
          9.82370413832304,
          7.949803637502098
         ],
         "y": [
          6.75862068965518,
          6.344827586206889,
          5.310344827586199,
          5.777777777777781,
          5.388888888888883,
          5.7222222222222285,
          6.111111111111111,
          7.444444444444448,
          8.777777777777784,
          6.896551724137931,
          9.777777777777775,
          6.388888888888888,
          9.722222222222223,
          6.689655172413786,
          8.206896551724142,
          6.166666666666663,
          5.793103448275866,
          7.379310344827579
         ]
        },
        {
         "customdata": [
          [
           "undistorted_GX010191_28_230",
           201.1,
           "big",
           4.7224216144421725,
           48.354999999999905,
           21.099999999999994,
           11.722222222222218,
           1023.945,
           1072.3
          ],
          [
           "undistorted_GX010191_16_495",
           157,
           "big",
           8.532781772218396,
           77.97000000000003,
           23,
           12.777777777777777,
           913.77,
           835.8
          ],
          [
           "undistorted_GX010191_15_479",
           159.4,
           "big",
           8.77770493632572,
           81.80899999999997,
           20.599999999999994,
           11.444444444444441,
           932.009,
           850.2
          ],
          [
           "undistorted_GX010194_26_373",
           126.4,
           "small",
           7.4659118452999635,
           90.86500000000001,
           18.599999999999994,
           12.82758620689655,
           1217.065,
           1126.2
          ]
         ],
         "hovertemplate": "<b>Image:</b> %{customdata[0]}<br><b>Pixels Total Length:</b> %{customdata[8]:.1f}<br><b>Length:</b> %{customdata[7]:.1f}<br><b>Total Length:</b> %{customdata[1]:.1f}<br><b>Lobster Size:</b> %{customdata[2]}<br><b>Pixel Rel Diff:</b> %{customdata[3]:.1f}%<br><b>Pixel Abs Diff:</b> %{customdata[4]:.1f}<br><b>Real Length Abs Diff:</b> %{customdata[5]:.1f}<br><b>Real Length Rel Diff:</b> %{customdata[6]:.1f}%<br>",
         "marker": {
          "color": "orange",
          "opacity": 0.6,
          "size": 10
         },
         "mode": "markers",
         "name": "10% < Error ≤ 15%",
         "type": "scatter",
         "x": [
          4.7224216144421725,
          8.532781772218396,
          8.77770493632572,
          7.4659118452999635
         ],
         "y": [
          11.722222222222218,
          12.777777777777777,
          11.444444444444441,
          12.82758620689655
         ]
        },
        {
         "customdata": [],
         "hovertemplate": "<b>Image:</b> %{customdata[0]}<br><b>Pixels Total Length:</b> %{customdata[8]:.1f}<br><b>Length:</b> %{customdata[7]:.1f}<br><b>Total Length:</b> %{customdata[1]:.1f}<br><b>Lobster Size:</b> %{customdata[2]}<br><b>Pixel Rel Diff:</b> %{customdata[3]:.1f}%<br><b>Pixel Abs Diff:</b> %{customdata[4]:.1f}<br><b>Real Length Abs Diff:</b> %{customdata[5]:.1f}<br><b>Real Length Rel Diff:</b> %{customdata[6]:.1f}%<br>",
         "marker": {
          "color": "red",
          "opacity": 0.6,
          "size": 10
         },
         "mode": "markers",
         "name": "Error > 15%",
         "type": "scatter",
         "x": [],
         "y": []
        },
        {
         "line": {
          "color": "black",
          "width": 2
         },
         "mode": "lines",
         "name": "Regression line (y = 0.530x + 2.334)",
         "type": "scatter",
         "x": [
          0.06560433241892914,
          0.16417099712503128,
          0.2627376618311334,
          0.36130432653723554,
          0.4598709912433377,
          0.5584376559494398,
          0.6570043206555419,
          0.7555709853616441,
          0.8541376500677462,
          0.9527043147738483,
          1.0512709794799504,
          1.1498376441860525,
          1.2484043088921546,
          1.3469709735982567,
          1.445537638304359,
          1.544104303010461,
          1.6426709677165632,
          1.7412376324226653,
          1.8398042971287674,
          1.9383709618348697,
          2.036937626540972,
          2.135504291247074,
          2.234070955953176,
          2.3326376206592783,
          2.4312042853653804,
          2.5297709500714824,
          2.6283376147775845,
          2.726904279483687,
          2.825470944189789,
          2.9240376088958913,
          3.0226042736019934,
          3.1211709383080954,
          3.2197376030141975,
          3.3183042677202996,
          3.4168709324264017,
          3.515437597132504,
          3.614004261838606,
          3.712570926544708,
          3.8111375912508105,
          3.9097042559569126,
          4.008270920663015,
          4.106837585369116,
          4.205404250075219,
          4.303970914781321,
          4.402537579487423,
          4.501104244193526,
          4.599670908899627,
          4.69823757360573,
          4.7968042383118314,
          4.895370903017934,
          4.993937567724036,
          5.092504232430138,
          5.19107089713624,
          5.289637561842342,
          5.388204226548445,
          5.4867708912545465,
          5.585337555960649,
          5.683904220666751,
          5.782470885372853,
          5.881037550078955,
          5.979604214785057,
          6.078170879491159,
          6.176737544197262,
          6.275304208903363,
          6.373870873609466,
          6.472437538315568,
          6.57100420302167,
          6.6695708677277725,
          6.768137532433874,
          6.866704197139977,
          6.965270861846078,
          7.063837526552181,
          7.1624041912582825,
          7.260970855964385,
          7.359537520670487,
          7.458104185376589,
          7.556670850082692,
          7.655237514788793,
          7.753804179494896,
          7.852370844200998,
          7.9509375089071,
          8.049504173613201,
          8.148070838319303,
          8.246637503025406,
          8.345204167731508,
          8.44377083243761,
          8.542337497143713,
          8.640904161849814,
          8.739470826555916,
          8.838037491262018,
          8.936604155968121,
          9.035170820674223,
          9.133737485380324,
          9.232304150086426,
          9.33087081479253,
          9.429437479498631,
          9.528004144204733,
          9.626570808910836,
          9.725137473616938,
          9.82370413832304
         ],
         "y": [
          2.368597544514211,
          2.4208354010917117,
          2.4730732576692125,
          2.5253111142467133,
          2.577548970824214,
          2.6297868274017153,
          2.6820246839792157,
          2.734262540556717,
          2.7865003971342173,
          2.838738253711718,
          2.890976110289219,
          2.9432139668667197,
          2.9954518234442205,
          3.0476896800217212,
          3.099927536599222,
          3.152165393176723,
          3.2044032497542236,
          3.2566411063317244,
          3.3088789629092252,
          3.3611168194867265,
          3.413354676064227,
          3.465592532641728,
          3.5178303892192284,
          3.5700682457967297,
          3.62230610237423,
          3.674543958951731,
          3.7267818155292316,
          3.779019672106733,
          3.831257528684233,
          3.8834953852617344,
          3.935733241839235,
          3.987971098416736,
          4.040208954994236,
          4.092446811571737,
          4.144684668149238,
          4.196922524726739,
          4.24916038130424,
          4.30139823788174,
          4.353636094459241,
          4.405873951036742,
          4.458111807614243,
          4.510349664191743,
          4.562587520769244,
          4.614825377346746,
          4.667063233924246,
          4.719301090501747,
          4.7715389470792475,
          4.823776803656749,
          4.876014660234249,
          4.9282525168117495,
          4.980490373389251,
          5.032728229966752,
          5.084966086544252,
          5.137203943121753,
          5.189441799699255,
          5.241679656276755,
          5.2939175128542555,
          5.346155369431756,
          5.398393226009257,
          5.450631082586758,
          5.502868939164259,
          5.555106795741759,
          5.60734465231926,
          5.6595825088967615,
          5.711820365474262,
          5.764058222051762,
          5.8162960786292635,
          5.868533935206765,
          5.920771791784265,
          5.973009648361765,
          6.025247504939267,
          6.077485361516768,
          6.129723218094268,
          6.181961074671769,
          6.234198931249269,
          6.286436787826771,
          6.338674644404271,
          6.390912500981772,
          6.443150357559273,
          6.495388214136773,
          6.547626070714275,
          6.599863927291775,
          6.652101783869275,
          6.7043396404467765,
          6.756577497024277,
          6.808815353601778,
          6.861053210179279,
          6.91329106675678,
          6.96552892333428,
          7.01776677991178,
          7.070004636489283,
          7.122242493066783,
          7.174480349644283,
          7.226718206221784,
          7.278956062799286,
          7.331193919376786,
          7.3834317759542865,
          7.435669632531788,
          7.487907489109289,
          7.540145345686789
         ]
        }
       ],
       "layout": {
        "height": 800,
        "plot_bgcolor": "white",
        "showlegend": true,
        "template": {
         "data": {
          "bar": [
           {
            "error_x": {
             "color": "#2a3f5f"
            },
            "error_y": {
             "color": "#2a3f5f"
            },
            "marker": {
             "line": {
              "color": "#E5ECF6",
              "width": 0.5
             },
             "pattern": {
              "fillmode": "overlay",
              "size": 10,
              "solidity": 0.2
             }
            },
            "type": "bar"
           }
          ],
          "barpolar": [
           {
            "marker": {
             "line": {
              "color": "#E5ECF6",
              "width": 0.5
             },
             "pattern": {
              "fillmode": "overlay",
              "size": 10,
              "solidity": 0.2
             }
            },
            "type": "barpolar"
           }
          ],
          "carpet": [
           {
            "aaxis": {
             "endlinecolor": "#2a3f5f",
             "gridcolor": "white",
             "linecolor": "white",
             "minorgridcolor": "white",
             "startlinecolor": "#2a3f5f"
            },
            "baxis": {
             "endlinecolor": "#2a3f5f",
             "gridcolor": "white",
             "linecolor": "white",
             "minorgridcolor": "white",
             "startlinecolor": "#2a3f5f"
            },
            "type": "carpet"
           }
          ],
          "choropleth": [
           {
            "colorbar": {
             "outlinewidth": 0,
             "ticks": ""
            },
            "type": "choropleth"
           }
          ],
          "contour": [
           {
            "colorbar": {
             "outlinewidth": 0,
             "ticks": ""
            },
            "colorscale": [
             [
              0,
              "#0d0887"
             ],
             [
              0.1111111111111111,
              "#46039f"
             ],
             [
              0.2222222222222222,
              "#7201a8"
             ],
             [
              0.3333333333333333,
              "#9c179e"
             ],
             [
              0.4444444444444444,
              "#bd3786"
             ],
             [
              0.5555555555555556,
              "#d8576b"
             ],
             [
              0.6666666666666666,
              "#ed7953"
             ],
             [
              0.7777777777777778,
              "#fb9f3a"
             ],
             [
              0.8888888888888888,
              "#fdca26"
             ],
             [
              1,
              "#f0f921"
             ]
            ],
            "type": "contour"
           }
          ],
          "contourcarpet": [
           {
            "colorbar": {
             "outlinewidth": 0,
             "ticks": ""
            },
            "type": "contourcarpet"
           }
          ],
          "heatmap": [
           {
            "colorbar": {
             "outlinewidth": 0,
             "ticks": ""
            },
            "colorscale": [
             [
              0,
              "#0d0887"
             ],
             [
              0.1111111111111111,
              "#46039f"
             ],
             [
              0.2222222222222222,
              "#7201a8"
             ],
             [
              0.3333333333333333,
              "#9c179e"
             ],
             [
              0.4444444444444444,
              "#bd3786"
             ],
             [
              0.5555555555555556,
              "#d8576b"
             ],
             [
              0.6666666666666666,
              "#ed7953"
             ],
             [
              0.7777777777777778,
              "#fb9f3a"
             ],
             [
              0.8888888888888888,
              "#fdca26"
             ],
             [
              1,
              "#f0f921"
             ]
            ],
            "type": "heatmap"
           }
          ],
          "heatmapgl": [
           {
            "colorbar": {
             "outlinewidth": 0,
             "ticks": ""
            },
            "colorscale": [
             [
              0,
              "#0d0887"
             ],
             [
              0.1111111111111111,
              "#46039f"
             ],
             [
              0.2222222222222222,
              "#7201a8"
             ],
             [
              0.3333333333333333,
              "#9c179e"
             ],
             [
              0.4444444444444444,
              "#bd3786"
             ],
             [
              0.5555555555555556,
              "#d8576b"
             ],
             [
              0.6666666666666666,
              "#ed7953"
             ],
             [
              0.7777777777777778,
              "#fb9f3a"
             ],
             [
              0.8888888888888888,
              "#fdca26"
             ],
             [
              1,
              "#f0f921"
             ]
            ],
            "type": "heatmapgl"
           }
          ],
          "histogram": [
           {
            "marker": {
             "pattern": {
              "fillmode": "overlay",
              "size": 10,
              "solidity": 0.2
             }
            },
            "type": "histogram"
           }
          ],
          "histogram2d": [
           {
            "colorbar": {
             "outlinewidth": 0,
             "ticks": ""
            },
            "colorscale": [
             [
              0,
              "#0d0887"
             ],
             [
              0.1111111111111111,
              "#46039f"
             ],
             [
              0.2222222222222222,
              "#7201a8"
             ],
             [
              0.3333333333333333,
              "#9c179e"
             ],
             [
              0.4444444444444444,
              "#bd3786"
             ],
             [
              0.5555555555555556,
              "#d8576b"
             ],
             [
              0.6666666666666666,
              "#ed7953"
             ],
             [
              0.7777777777777778,
              "#fb9f3a"
             ],
             [
              0.8888888888888888,
              "#fdca26"
             ],
             [
              1,
              "#f0f921"
             ]
            ],
            "type": "histogram2d"
           }
          ],
          "histogram2dcontour": [
           {
            "colorbar": {
             "outlinewidth": 0,
             "ticks": ""
            },
            "colorscale": [
             [
              0,
              "#0d0887"
             ],
             [
              0.1111111111111111,
              "#46039f"
             ],
             [
              0.2222222222222222,
              "#7201a8"
             ],
             [
              0.3333333333333333,
              "#9c179e"
             ],
             [
              0.4444444444444444,
              "#bd3786"
             ],
             [
              0.5555555555555556,
              "#d8576b"
             ],
             [
              0.6666666666666666,
              "#ed7953"
             ],
             [
              0.7777777777777778,
              "#fb9f3a"
             ],
             [
              0.8888888888888888,
              "#fdca26"
             ],
             [
              1,
              "#f0f921"
             ]
            ],
            "type": "histogram2dcontour"
           }
          ],
          "mesh3d": [
           {
            "colorbar": {
             "outlinewidth": 0,
             "ticks": ""
            },
            "type": "mesh3d"
           }
          ],
          "parcoords": [
           {
            "line": {
             "colorbar": {
              "outlinewidth": 0,
              "ticks": ""
             }
            },
            "type": "parcoords"
           }
          ],
          "pie": [
           {
            "automargin": true,
            "type": "pie"
           }
          ],
          "scatter": [
           {
            "fillpattern": {
             "fillmode": "overlay",
             "size": 10,
             "solidity": 0.2
            },
            "type": "scatter"
           }
          ],
          "scatter3d": [
           {
            "line": {
             "colorbar": {
              "outlinewidth": 0,
              "ticks": ""
             }
            },
            "marker": {
             "colorbar": {
              "outlinewidth": 0,
              "ticks": ""
             }
            },
            "type": "scatter3d"
           }
          ],
          "scattercarpet": [
           {
            "marker": {
             "colorbar": {
              "outlinewidth": 0,
              "ticks": ""
             }
            },
            "type": "scattercarpet"
           }
          ],
          "scattergeo": [
           {
            "marker": {
             "colorbar": {
              "outlinewidth": 0,
              "ticks": ""
             }
            },
            "type": "scattergeo"
           }
          ],
          "scattergl": [
           {
            "marker": {
             "colorbar": {
              "outlinewidth": 0,
              "ticks": ""
             }
            },
            "type": "scattergl"
           }
          ],
          "scattermapbox": [
           {
            "marker": {
             "colorbar": {
              "outlinewidth": 0,
              "ticks": ""
             }
            },
            "type": "scattermapbox"
           }
          ],
          "scatterpolar": [
           {
            "marker": {
             "colorbar": {
              "outlinewidth": 0,
              "ticks": ""
             }
            },
            "type": "scatterpolar"
           }
          ],
          "scatterpolargl": [
           {
            "marker": {
             "colorbar": {
              "outlinewidth": 0,
              "ticks": ""
             }
            },
            "type": "scatterpolargl"
           }
          ],
          "scatterternary": [
           {
            "marker": {
             "colorbar": {
              "outlinewidth": 0,
              "ticks": ""
             }
            },
            "type": "scatterternary"
           }
          ],
          "surface": [
           {
            "colorbar": {
             "outlinewidth": 0,
             "ticks": ""
            },
            "colorscale": [
             [
              0,
              "#0d0887"
             ],
             [
              0.1111111111111111,
              "#46039f"
             ],
             [
              0.2222222222222222,
              "#7201a8"
             ],
             [
              0.3333333333333333,
              "#9c179e"
             ],
             [
              0.4444444444444444,
              "#bd3786"
             ],
             [
              0.5555555555555556,
              "#d8576b"
             ],
             [
              0.6666666666666666,
              "#ed7953"
             ],
             [
              0.7777777777777778,
              "#fb9f3a"
             ],
             [
              0.8888888888888888,
              "#fdca26"
             ],
             [
              1,
              "#f0f921"
             ]
            ],
            "type": "surface"
           }
          ],
          "table": [
           {
            "cells": {
             "fill": {
              "color": "#EBF0F8"
             },
             "line": {
              "color": "white"
             }
            },
            "header": {
             "fill": {
              "color": "#C8D4E3"
             },
             "line": {
              "color": "white"
             }
            },
            "type": "table"
           }
          ]
         },
         "layout": {
          "annotationdefaults": {
           "arrowcolor": "#2a3f5f",
           "arrowhead": 0,
           "arrowwidth": 1
          },
          "autotypenumbers": "strict",
          "coloraxis": {
           "colorbar": {
            "outlinewidth": 0,
            "ticks": ""
           }
          },
          "colorscale": {
           "diverging": [
            [
             0,
             "#8e0152"
            ],
            [
             0.1,
             "#c51b7d"
            ],
            [
             0.2,
             "#de77ae"
            ],
            [
             0.3,
             "#f1b6da"
            ],
            [
             0.4,
             "#fde0ef"
            ],
            [
             0.5,
             "#f7f7f7"
            ],
            [
             0.6,
             "#e6f5d0"
            ],
            [
             0.7,
             "#b8e186"
            ],
            [
             0.8,
             "#7fbc41"
            ],
            [
             0.9,
             "#4d9221"
            ],
            [
             1,
             "#276419"
            ]
           ],
           "sequential": [
            [
             0,
             "#0d0887"
            ],
            [
             0.1111111111111111,
             "#46039f"
            ],
            [
             0.2222222222222222,
             "#7201a8"
            ],
            [
             0.3333333333333333,
             "#9c179e"
            ],
            [
             0.4444444444444444,
             "#bd3786"
            ],
            [
             0.5555555555555556,
             "#d8576b"
            ],
            [
             0.6666666666666666,
             "#ed7953"
            ],
            [
             0.7777777777777778,
             "#fb9f3a"
            ],
            [
             0.8888888888888888,
             "#fdca26"
            ],
            [
             1,
             "#f0f921"
            ]
           ],
           "sequentialminus": [
            [
             0,
             "#0d0887"
            ],
            [
             0.1111111111111111,
             "#46039f"
            ],
            [
             0.2222222222222222,
             "#7201a8"
            ],
            [
             0.3333333333333333,
             "#9c179e"
            ],
            [
             0.4444444444444444,
             "#bd3786"
            ],
            [
             0.5555555555555556,
             "#d8576b"
            ],
            [
             0.6666666666666666,
             "#ed7953"
            ],
            [
             0.7777777777777778,
             "#fb9f3a"
            ],
            [
             0.8888888888888888,
             "#fdca26"
            ],
            [
             1,
             "#f0f921"
            ]
           ]
          },
          "colorway": [
           "#636efa",
           "#EF553B",
           "#00cc96",
           "#ab63fa",
           "#FFA15A",
           "#19d3f3",
           "#FF6692",
           "#B6E880",
           "#FF97FF",
           "#FECB52"
          ],
          "font": {
           "color": "#2a3f5f"
          },
          "geo": {
           "bgcolor": "white",
           "lakecolor": "white",
           "landcolor": "#E5ECF6",
           "showlakes": true,
           "showland": true,
           "subunitcolor": "white"
          },
          "hoverlabel": {
           "align": "left"
          },
          "hovermode": "closest",
          "mapbox": {
           "style": "light"
          },
          "paper_bgcolor": "white",
          "plot_bgcolor": "#E5ECF6",
          "polar": {
           "angularaxis": {
            "gridcolor": "white",
            "linecolor": "white",
            "ticks": ""
           },
           "bgcolor": "#E5ECF6",
           "radialaxis": {
            "gridcolor": "white",
            "linecolor": "white",
            "ticks": ""
           }
          },
          "scene": {
           "xaxis": {
            "backgroundcolor": "#E5ECF6",
            "gridcolor": "white",
            "gridwidth": 2,
            "linecolor": "white",
            "showbackground": true,
            "ticks": "",
            "zerolinecolor": "white"
           },
           "yaxis": {
            "backgroundcolor": "#E5ECF6",
            "gridcolor": "white",
            "gridwidth": 2,
            "linecolor": "white",
            "showbackground": true,
            "ticks": "",
            "zerolinecolor": "white"
           },
           "zaxis": {
            "backgroundcolor": "#E5ECF6",
            "gridcolor": "white",
            "gridwidth": 2,
            "linecolor": "white",
            "showbackground": true,
            "ticks": "",
            "zerolinecolor": "white"
           }
          },
          "shapedefaults": {
           "line": {
            "color": "#2a3f5f"
           }
          },
          "ternary": {
           "aaxis": {
            "gridcolor": "white",
            "linecolor": "white",
            "ticks": ""
           },
           "baxis": {
            "gridcolor": "white",
            "linecolor": "white",
            "ticks": ""
           },
           "bgcolor": "#E5ECF6",
           "caxis": {
            "gridcolor": "white",
            "linecolor": "white",
            "ticks": ""
           }
          },
          "title": {
           "x": 0.05
          },
          "xaxis": {
           "automargin": true,
           "gridcolor": "white",
           "linecolor": "white",
           "ticks": "",
           "title": {
            "standoff": 15
           },
           "zerolinecolor": "white",
           "zerolinewidth": 2
          },
          "yaxis": {
           "automargin": true,
           "gridcolor": "white",
           "linecolor": "white",
           "ticks": "",
           "title": {
            "standoff": 15
           },
           "zerolinecolor": "white",
           "zerolinewidth": 2
          }
         }
        },
        "title": {
         "text": "Relationship after Removing Outliers<br>Correlation: 0.462, R²: 0.213"
        },
        "width": 800,
        "xaxis": {
         "gridcolor": "lightgray",
         "gridwidth": 1,
         "showgrid": true,
         "title": {
          "text": "Pixel Relative Difference (%)"
         }
        },
        "yaxis": {
         "gridcolor": "lightgray",
         "gridwidth": 1,
         "showgrid": true,
         "title": {
          "text": "Real Length Relative Difference (%)"
         }
        }
       }
      }
     },
     "metadata": {},
     "output_type": "display_data"
    }
   ],
   "source": [
    "import numpy as np\n",
    "from scipy import stats\n",
    "\n",
    "# Remove outliers from the linear relationship between pixel_rel_diff and real_length_rel_diff\n",
    "# Calculate residuals from linear regression\n",
    "slope, intercept, r_value, p_value, std_err = stats.linregress(\n",
    "    new_df['pixel_rel_diff'], \n",
    "    new_df['real_length_rel_diff']\n",
    ")\n",
    "predicted = slope * new_df['pixel_rel_diff'] + intercept\n",
    "residuals = new_df['real_length_rel_diff'] - predicted\n",
    "\n",
    "# Remove points with residuals more than 2 standard deviations from mean\n",
    "residual_std = np.std(residuals)\n",
    "residual_mean = np.mean(residuals)\n",
    "new_df_clean = new_df[\n",
    "    (residuals >= residual_mean - 2*residual_std) & \n",
    "    (residuals <= residual_mean + 2*residual_std)\n",
    "]\n",
    "\n",
    "# Calculate new correlation and regression after removing outliers\n",
    "correlation_clean = new_df_clean['pixel_rel_diff'].corr(new_df_clean['real_length_rel_diff'])\n",
    "slope_clean, intercept_clean, r_value_clean, p_value_clean, std_err_clean = stats.linregress(\n",
    "    new_df_clean['pixel_rel_diff'], \n",
    "    new_df_clean['real_length_rel_diff']\n",
    ")\n",
    "\n",
    "# Create scatter plot with plotly\n",
    "fig = go.Figure()\n",
    "\n",
    "# Plot points with different colors based on relative error\n",
    "error_thresholds = [5, 10, 15]\n",
    "colors = ['green', 'yellow', 'orange', 'red']\n",
    "\n",
    "for i in range(len(error_thresholds) + 1):\n",
    "    if i == 0:\n",
    "        mask = new_df_clean['real_length_rel_diff'] <= error_thresholds[0]\n",
    "        label = f'Error ≤ {error_thresholds[0]}%'\n",
    "    elif i == len(error_thresholds):\n",
    "        mask = new_df_clean['real_length_rel_diff'] > error_thresholds[-1]\n",
    "        label = f'Error > {error_thresholds[-1]}%'\n",
    "    else:\n",
    "        mask = (new_df_clean['real_length_rel_diff'] > error_thresholds[i-1]) & \\\n",
    "               (new_df_clean['real_length_rel_diff'] <= error_thresholds[i])\n",
    "        label = f'{error_thresholds[i-1]}% < Error ≤ {error_thresholds[i]}%'\n",
    "    \n",
    "    fig.add_trace(go.Scatter(\n",
    "        x=new_df_clean[mask]['pixel_rel_diff'],\n",
    "        y=new_df_clean[mask]['real_length_rel_diff'],\n",
    "        mode='markers',\n",
    "        name=label,\n",
    "        marker=dict(\n",
    "            color=colors[i],\n",
    "            size=10,\n",
    "            opacity=0.6\n",
    "        ),\n",
    "        hovertemplate=\n",
    "        '<b>Image:</b> %{customdata[0]}<br>' +\n",
    "        '<b>Pixels Total Length:</b> %{customdata[8]:.1f}<br>' +\n",
    "        '<b>Length:</b> %{customdata[7]:.1f}<br>' +\n",
    "        '<b>Total Length:</b> %{customdata[1]:.1f}<br>' +\n",
    "        '<b>Lobster Size:</b> %{customdata[2]}<br>' +\n",
    "        '<b>Pixel Rel Diff:</b> %{customdata[3]:.1f}%<br>' +\n",
    "        '<b>Pixel Abs Diff:</b> %{customdata[4]:.1f}<br>' +\n",
    "        '<b>Real Length Abs Diff:</b> %{customdata[5]:.1f}<br>' +\n",
    "        '<b>Real Length Rel Diff:</b> %{customdata[6]:.1f}%<br>',\n",
    "        customdata=list(zip(new_df_clean[mask]['image_name'], \n",
    "                          new_df_clean[mask]['total_length'],\n",
    "                          new_df_clean[mask]['lobster_size'],\n",
    "                          new_df_clean[mask]['pixel_rel_diff'],\n",
    "                          new_df_clean[mask]['pixel_abs_diff'],\n",
    "                          new_df_clean[mask]['real_length_abs_diff'],\n",
    "                          new_df_clean[mask]['real_length_rel_diff'],\n",
    "                          new_df_clean[mask]['Length'],\n",
    "                          new_df_clean[mask]['pixels_total_length']\n",
    "                          )\n",
    "                     )\n",
    "    ))\n",
    "\n",
    "# Add regression line\n",
    "x_range = np.linspace(new_df_clean['pixel_rel_diff'].min(), new_df_clean['pixel_rel_diff'].max(), 100)\n",
    "y_range = slope_clean * x_range + intercept_clean\n",
    "\n",
    "fig.add_trace(go.Scatter(\n",
    "    x=x_range,\n",
    "    y=y_range,\n",
    "    mode='lines',\n",
    "    name=f'Regression line (y = {slope_clean:.3f}x + {intercept_clean:.3f})',\n",
    "    line=dict(color='black', width=2),\n",
    "))\n",
    "\n",
    "# Update layout\n",
    "fig.update_layout(\n",
    "    title=f'Relationship after Removing Outliers<br>Correlation: {correlation_clean:.3f}, R²: {r_value_clean**2:.3f}',\n",
    "    xaxis_title='Pixel Relative Difference (%)',\n",
    "    yaxis_title='Real Length Relative Difference (%)',\n",
    "    showlegend=True,\n",
    "    width=800,\n",
    "    height=800,\n",
    "    plot_bgcolor='white'\n",
    ")\n",
    "\n",
    "# Add grid\n",
    "fig.update_xaxes(showgrid=True, gridwidth=1, gridcolor='lightgray')\n",
    "fig.update_yaxes(showgrid=True, gridwidth=1, gridcolor='lightgray')\n",
    "\n",
    "print(f\"Statistical Analysis after removing outliers:\")\n",
    "print(f\"Number of points removed: {len(new_df) - len(new_df_clean)}\")\n",
    "print(f\"Correlation coefficient: {correlation_clean:.3f}\")\n",
    "print(f\"Linear regression results:\")\n",
    "print(f\"Slope: {slope_clean:.3f}\")\n",
    "print(f\"Intercept: {intercept_clean:.3f}\")\n",
    "print(f\"R-squared: {r_value_clean**2:.3f}\")\n",
    "print(f\"P-value: {p_value_clean:.3e}\")\n",
    "print(f\"Standard error: {std_err_clean:.3f}\")\n",
    "\n",
    "fig.show()\n"
   ]
  },
  {
   "cell_type": "code",
   "execution_count": 29,
   "metadata": {},
   "outputs": [
    {
     "name": "stdout",
     "output_type": "stream",
     "text": [
      "Random Forest Model Performance:\n",
      "R² Score: 0.841\n"
     ]
    },
    {
     "data": {
      "application/vnd.plotly.v1+json": {
       "config": {
        "plotlyServerURL": "https://plot.ly"
       },
       "data": [
        {
         "customdata": [
          [
           "undistorted_GX010191_37_1242",
           139.2,
           "small",
           0.06819668480605824,
           0.4900000000000091,
           5.800000000000011,
           4.000000000000008,
           718.51,
           719
          ],
          [
           "undistorted_GX010193_11_1065",
           184.3,
           "big",
           0.2719072631353484,
           4.733000000000175,
           4.300000000000011,
           2.388888888888895,
           1740.667,
           1745.4
          ],
          [
           "undistorted_GX010191_100_1250",
           143,
           "small",
           0.910018942805829,
           6.668000000000006,
           2,
           1.3793103448275863,
           732.732,
           739.4
          ],
          [
           "undistorted_GX010193_27_1553",
           186.6,
           "big",
           0.45462498393326184,
           8.028999999999996,
           6.599999999999994,
           3.6666666666666634,
           1766.071,
           1774.1
          ],
          [
           "undistorted_GX010194_39_513",
           144.1,
           "small",
           0.6183931256023713,
           8.091000000000122,
           0.9000000000000057,
           0.6206896551724177,
           1308.391,
           1300.3
          ],
          [
           "undistorted_GX010191_35_1167",
           149.2,
           "small",
           1.38289901032272,
           10.649000000000001,
           4.199999999999989,
           2.896551724137923,
           770.049,
           759.4
          ],
          [
           "undistorted_GX010191_31_283",
           174.8,
           "big",
           1.4735613321265169,
           13.936000000000035,
           5.199999999999989,
           2.8888888888888826,
           945.736,
           931.8
          ],
          [
           "undistorted_GX010191_42_1339",
           138.2,
           "small",
           2.576005437362323,
           18.722999999999956,
           6.800000000000011,
           4.689655172413801,
           726.823,
           708.1
          ],
          [
           "undistorted_GX010191_35_367",
           171.6,
           "big",
           2.246188864725486,
           20.80200000000002,
           8.400000000000006,
           4.66666666666667,
           926.102,
           905.3
          ],
          [
           "undistorted_GX010191_34_350",
           175.4,
           "big",
           2.4961162195070723,
           23.779999999999973,
           4.599999999999994,
           2.5555555555555522,
           952.68,
           928.9
          ],
          [
           "undistorted_GX010191_17_509",
           142.3,
           "small",
           3.6387715920015538,
           25.66199999999992,
           2.6999999999999886,
           1.8620689655172336,
           705.238,
           730.9
          ],
          [
           "undistorted_GX010191_105_1312",
           141.4,
           "small",
           3.722818300028649,
           25.852999999999952,
           3.5999999999999943,
           2.4827586206896513,
           694.447,
           720.3
          ],
          [
           "undistorted_GX010191_37_1242",
           181.3,
           "big",
           2.662578535683596,
           26.15599999999995,
           1.3000000000000114,
           0.7222222222222285,
           982.356,
           956.2
          ],
          [
           "undistorted_GX010191_36_1195",
           144.8,
           "small",
           3.7255332729288826,
           28.658999999999992,
           0.19999999999998863,
           0.1379310344827508,
           769.259,
           740.6
          ],
          [
           "undistorted_GX010193_18_1289",
           145.8,
           "small",
           2.9511834319526695,
           39.90000000000009,
           0.8000000000000114,
           0.5517241379310424,
           1352,
           1312.1
          ],
          [
           "undistorted_GX010191_114_1383",
           149.5,
           "small",
           5.193547317909129,
           42.307000000000016,
           4.5,
           3.103448275862069,
           814.607,
           772.3
          ],
          [
           "undistorted_GX010191_8_309",
           179.7,
           "big",
           4.902454511615695,
           44.780000000000086,
           0.30000000000001137,
           0.16666666666667299,
           913.42,
           958.2
          ],
          [
           "undistorted_GX010191_34_350",
           149.3,
           "small",
           6.216755319148936,
           44.879999999999995,
           4.300000000000011,
           2.965517241379318,
           721.92,
           766.8
          ],
          [
           "undistorted_GX010191_35_367",
           146.1,
           "small",
           6.543349852011343,
           46.22700000000009,
           1.0999999999999943,
           0.7586206896551685,
           706.473,
           752.7
          ],
          [
           "undistorted_GX010191_38_1266",
           150.7,
           "small",
           7.158069674391972,
           51.254999999999995,
           5.699999999999989,
           3.931034482758613,
           716.045,
           767.3
          ],
          [
           "undistorted_GX010191_17_509",
           174.9,
           "big",
           5.8743130434187405,
           51.48900000000003,
           5.099999999999994,
           2.83333333333333,
           876.511,
           928
          ],
          [
           "undistorted_GX010191_36_1195",
           172.9,
           "big",
           6.322040387419454,
           62.087999999999965,
           7.099999999999994,
           3.9444444444444415,
           982.088,
           920
          ],
          [
           "undistorted_GX010191_10_370",
           149,
           "small",
           9.54362568428856,
           66.43900000000008,
           4,
           2.7586206896551726,
           696.161,
           762.6
          ],
          [
           "undistorted_GX010191_105_1312",
           174.2,
           "big",
           6.857920552203788,
           68.077,
           5.800000000000011,
           3.2222222222222285,
           992.677,
           924.6
          ],
          [
           "undistorted_GX010192_26_1578",
           139.5,
           "small",
           5.190106282117129,
           68.81099999999992,
           5.5,
           3.793103448275862,
           1325.811,
           1257
          ],
          [
           "undistorted_GX010192_26_1578",
           172.9,
           "big",
           4.580174889777063,
           78.68200000000002,
           7.099999999999994,
           3.9444444444444415,
           1717.882,
           1639.2
          ],
          [
           "undistorted_GX010193_28_1584",
           143.6,
           "small",
           5.776312221746017,
           79.24800000000005,
           1.4000000000000057,
           0.9655172413793143,
           1371.948,
           1292.7
          ]
         ],
         "hovertemplate": "<b>Image:</b> %{customdata[0]}<br><b>Pixels Total Length:</b> %{customdata[8]:.1f}<br><b>Length:</b> %{customdata[7]:.1f}<br><b>Total Length:</b> %{customdata[1]:.1f}<br><b>Lobster Size:</b> %{customdata[2]}<br><b>Pixel Rel Diff:</b> %{customdata[3]:.1f}%<br><b>Pixel Abs Diff:</b> %{customdata[4]:.1f}<br><b>Real Length Abs Diff:</b> %{customdata[5]:.1f}<br><b>Real Length Rel Diff:</b> %{customdata[6]:.1f}%<br>",
         "marker": {
          "color": "green",
          "opacity": 0.6,
          "size": 10
         },
         "mode": "markers",
         "name": "Error ≤ 5%",
         "type": "scatter",
         "x": [
          0.06819668480605824,
          0.2719072631353484,
          0.910018942805829,
          0.45462498393326184,
          0.6183931256023713,
          1.38289901032272,
          1.4735613321265169,
          2.576005437362323,
          2.246188864725486,
          2.4961162195070723,
          3.6387715920015538,
          3.722818300028649,
          2.662578535683596,
          3.7255332729288826,
          2.9511834319526695,
          5.193547317909129,
          4.902454511615695,
          6.216755319148936,
          6.543349852011343,
          7.158069674391972,
          5.8743130434187405,
          6.322040387419454,
          9.54362568428856,
          6.857920552203788,
          5.190106282117129,
          4.580174889777063,
          5.776312221746017
         ],
         "y": [
          4.000000000000008,
          2.388888888888895,
          1.3793103448275863,
          3.6666666666666634,
          0.6206896551724177,
          2.896551724137923,
          2.8888888888888826,
          4.689655172413801,
          4.66666666666667,
          2.5555555555555522,
          1.8620689655172336,
          2.4827586206896513,
          0.7222222222222285,
          0.1379310344827508,
          0.5517241379310424,
          3.103448275862069,
          0.16666666666667299,
          2.965517241379318,
          0.7586206896551685,
          3.931034482758613,
          2.83333333333333,
          3.9444444444444415,
          2.7586206896551726,
          3.2222222222222285,
          3.793103448275862,
          3.9444444444444415,
          0.9655172413793143
         ]
        },
        {
         "customdata": [
          [
           "undistorted_GX010191_8_309",
           154.8,
           "small",
           0.06560433241892914,
           0.5180000000000291,
           9.800000000000011,
           6.75862068965518,
           789.582,
           790.1
          ],
          [
           "undistorted_GX010191_32_305",
           154.2,
           "small",
           0.44251989440297856,
           3.4950000000000045,
           9.199999999999989,
           6.344827586206889,
           789.795,
           786.3
          ],
          [
           "undistorted_GX010191_28_230",
           152.7,
           "small",
           2.8653838476585847,
           22.96799999999996,
           7.699999999999989,
           5.310344827586199,
           801.568,
           778.6
          ],
          [
           "undistorted_GX010191_88_1016",
           190.4,
           "big",
           2.2953794759610755,
           23.82899999999995,
           10.400000000000006,
           5.777777777777781,
           1038.129,
           1014.3
          ],
          [
           "undistorted_GX010191_47_507",
           170.3,
           "big",
           3.7101890390362833,
           32.375999999999976,
           9.699999999999989,
           5.388888888888883,
           872.624,
           905
          ],
          [
           "undistorted_GX010191_34_1128",
           169.7,
           "big",
           5.290556620507818,
           50.285999999999945,
           10.300000000000011,
           5.7222222222222285,
           950.486,
           900.2
          ],
          [
           "undistorted_GX010191_41_1322",
           169,
           "big",
           6.0311290132538655,
           57.84100000000001,
           11,
           6.111111111111111,
           959.041,
           901.2
          ],
          [
           "undistorted_GX010191_42_1339",
           166.6,
           "big",
           6.185869246555263,
           58.447,
           13.400000000000006,
           7.444444444444448,
           944.847,
           886.4
          ],
          [
           "undistorted_GX010191_43_1353",
           164.2,
           "big",
           6.91075495227486,
           64.394,
           15.800000000000011,
           8.777777777777784,
           931.794,
           867.4
          ],
          [
           "undistorted_GX010191_106_1320",
           155,
           "small",
           9.455520896612448,
           69.26499999999999,
           10,
           6.896551724137931,
           732.535,
           801.8
          ],
          [
           "undistorted_GX010191_110_1355",
           162.4,
           "big",
           7.649384365136645,
           71.00999999999999,
           17.599999999999994,
           9.777777777777775,
           928.31,
           857.3
          ],
          [
           "undistorted_GX010191_32_305",
           191.5,
           "big",
           7.709092597321189,
           73.0619999999999,
           11.5,
           6.388888888888888,
           947.738,
           1020.8
          ],
          [
           "undistorted_GX010191_14_460",
           162.5,
           "big",
           9.32942765874168,
           73.88999999999999,
           17.5,
           9.722222222222223,
           792.01,
           865.9
          ],
          [
           "undistorted_GX010194_7_885",
           154.7,
           "small",
           5.6427307993046165,
           74.32999999999993,
           9.699999999999989,
           6.689655172413786,
           1317.27,
           1391.6
          ],
          [
           "undistorted_GX010194_19_285",
           133.1,
           "small",
           6.626369451250111,
           84.76199999999994,
           11.900000000000006,
           8.206896551724142,
           1279.162,
           1194.4
          ],
          [
           "undistorted_GX010191_117_1408",
           168.9,
           "big",
           8.734013895231067,
           85.49700000000007,
           11.099999999999994,
           6.166666666666663,
           978.897,
           893.4
          ],
          [
           "undistorted_GX010191_47_507",
           153.4,
           "small",
           9.82370413832304,
           85.72400000000005,
           8.400000000000006,
           5.793103448275866,
           872.624,
           786.9
          ],
          [
           "undistorted_GX010193_19_1334",
           134.3,
           "small",
           7.949803637502098,
           103.60200000000009,
           10.699999999999989,
           7.379310344827579,
           1303.202,
           1199.6
          ]
         ],
         "hovertemplate": "<b>Image:</b> %{customdata[0]}<br><b>Pixels Total Length:</b> %{customdata[8]:.1f}<br><b>Length:</b> %{customdata[7]:.1f}<br><b>Total Length:</b> %{customdata[1]:.1f}<br><b>Lobster Size:</b> %{customdata[2]}<br><b>Pixel Rel Diff:</b> %{customdata[3]:.1f}%<br><b>Pixel Abs Diff:</b> %{customdata[4]:.1f}<br><b>Real Length Abs Diff:</b> %{customdata[5]:.1f}<br><b>Real Length Rel Diff:</b> %{customdata[6]:.1f}%<br>",
         "marker": {
          "color": "yellow",
          "opacity": 0.6,
          "size": 10
         },
         "mode": "markers",
         "name": "5% < Error ≤ 10%",
         "type": "scatter",
         "x": [
          0.06560433241892914,
          0.44251989440297856,
          2.8653838476585847,
          2.2953794759610755,
          3.7101890390362833,
          5.290556620507818,
          6.0311290132538655,
          6.185869246555263,
          6.91075495227486,
          9.455520896612448,
          7.649384365136645,
          7.709092597321189,
          9.32942765874168,
          5.6427307993046165,
          6.626369451250111,
          8.734013895231067,
          9.82370413832304,
          7.949803637502098
         ],
         "y": [
          6.75862068965518,
          6.344827586206889,
          5.310344827586199,
          5.777777777777781,
          5.388888888888883,
          5.7222222222222285,
          6.111111111111111,
          7.444444444444448,
          8.777777777777784,
          6.896551724137931,
          9.777777777777775,
          6.388888888888888,
          9.722222222222223,
          6.689655172413786,
          8.206896551724142,
          6.166666666666663,
          5.793103448275866,
          7.379310344827579
         ]
        },
        {
         "customdata": [
          [
           "undistorted_GX010191_94_1132",
           156.7,
           "big",
           1.1809716535184118,
           9.711000000000013,
           23.30000000000001,
           12.94444444444445,
           822.289,
           832
          ],
          [
           "undistorted_GX010191_28_230",
           201.1,
           "big",
           4.7224216144421725,
           48.354999999999905,
           21.099999999999994,
           11.722222222222218,
           1023.945,
           1072.3
          ],
          [
           "undistorted_GX010191_16_495",
           157,
           "big",
           8.532781772218396,
           77.97000000000003,
           23,
           12.777777777777777,
           913.77,
           835.8
          ],
          [
           "undistorted_GX010191_15_479",
           159.4,
           "big",
           8.77770493632572,
           81.80899999999997,
           20.599999999999994,
           11.444444444444441,
           932.009,
           850.2
          ],
          [
           "undistorted_GX010194_26_373",
           126.4,
           "small",
           7.4659118452999635,
           90.86500000000001,
           18.599999999999994,
           12.82758620689655,
           1217.065,
           1126.2
          ]
         ],
         "hovertemplate": "<b>Image:</b> %{customdata[0]}<br><b>Pixels Total Length:</b> %{customdata[8]:.1f}<br><b>Length:</b> %{customdata[7]:.1f}<br><b>Total Length:</b> %{customdata[1]:.1f}<br><b>Lobster Size:</b> %{customdata[2]}<br><b>Pixel Rel Diff:</b> %{customdata[3]:.1f}%<br><b>Pixel Abs Diff:</b> %{customdata[4]:.1f}<br><b>Real Length Abs Diff:</b> %{customdata[5]:.1f}<br><b>Real Length Rel Diff:</b> %{customdata[6]:.1f}%<br>",
         "marker": {
          "color": "orange",
          "opacity": 0.6,
          "size": 10
         },
         "mode": "markers",
         "name": "10% < Error ≤ 15%",
         "type": "scatter",
         "x": [
          1.1809716535184118,
          4.7224216144421725,
          8.532781772218396,
          8.77770493632572,
          7.4659118452999635
         ],
         "y": [
          12.94444444444445,
          11.722222222222218,
          12.777777777777777,
          11.444444444444441,
          12.82758620689655
         ]
        },
        {
         "customdata": [
          [
           "undistorted_GX010193_20_1365",
           120.6,
           "small",
           9.869109440804623,
           117.23900000000003,
           24.400000000000006,
           16.827586206896555,
           1187.939,
           1070.7
          ]
         ],
         "hovertemplate": "<b>Image:</b> %{customdata[0]}<br><b>Pixels Total Length:</b> %{customdata[8]:.1f}<br><b>Length:</b> %{customdata[7]:.1f}<br><b>Total Length:</b> %{customdata[1]:.1f}<br><b>Lobster Size:</b> %{customdata[2]}<br><b>Pixel Rel Diff:</b> %{customdata[3]:.1f}%<br><b>Pixel Abs Diff:</b> %{customdata[4]:.1f}<br><b>Real Length Abs Diff:</b> %{customdata[5]:.1f}<br><b>Real Length Rel Diff:</b> %{customdata[6]:.1f}%<br>",
         "marker": {
          "color": "red",
          "opacity": 0.6,
          "size": 10
         },
         "mode": "markers",
         "name": "Error > 15%",
         "type": "scatter",
         "x": [
          9.869109440804623
         ],
         "y": [
          16.827586206896555
         ]
        },
        {
         "line": {
          "color": "black",
          "width": 2
         },
         "mode": "lines",
         "name": "Random Forest Prediction",
         "type": "scatter",
         "x": [
          0.06560433241892914,
          0.16462963654403717,
          0.2636549406691452,
          0.36268024479425326,
          0.4617055489193613,
          0.5607308530444692,
          0.6597561571695774,
          0.7587814612946854,
          0.8578067654197934,
          0.9568320695449014,
          1.0558573736700094,
          1.1548826777951173,
          1.2539079819202255,
          1.3529332860453334,
          1.4519585901704415,
          1.5509838942955494,
          1.6500091984206575,
          1.7490345025457656,
          1.8480598066708736,
          1.9470851107959817,
          2.0461104149210896,
          2.145135719046198,
          2.244161023171306,
          2.3431863272964137,
          2.442211631421522,
          2.54123693554663,
          2.640262239671738,
          2.7392875437968462,
          2.838312847921954,
          2.937338152047062,
          3.03636345617217,
          3.1353887602972783,
          3.234414064422386,
          3.333439368547494,
          3.4324646726726025,
          3.5314899767977104,
          3.6305152809228183,
          3.729540585047926,
          3.8285658891730345,
          3.9275911932981424,
          4.02661649742325,
          4.125641801548358,
          4.224667105673467,
          4.323692409798575,
          4.422717713923682,
          4.521743018048791,
          4.620768322173898,
          4.719793626299007,
          4.818818930424115,
          4.917844234549222,
          5.016869538674331,
          5.115894842799439,
          5.2149201469245465,
          5.313945451049655,
          5.412970755174763,
          5.511996059299871,
          5.611021363424979,
          5.710046667550087,
          5.809071971675195,
          5.908097275800303,
          6.007122579925411,
          6.106147884050519,
          6.205173188175627,
          6.304198492300735,
          6.403223796425843,
          6.5022491005509515,
          6.601274404676059,
          6.700299708801167,
          6.799325012926276,
          6.898350317051383,
          6.9973756211764915,
          7.096400925301599,
          7.195426229426707,
          7.294451533551816,
          7.393476837676923,
          7.4925021418020314,
          7.59152744592714,
          7.690552750052247,
          7.789578054177356,
          7.888603358302464,
          7.987628662427571,
          8.086653966552678,
          8.185679270677786,
          8.284704574802895,
          8.383729878928003,
          8.482755183053111,
          8.58178048717822,
          8.680805791303326,
          8.779831095428435,
          8.878856399553543,
          8.977881703678651,
          9.07690700780376,
          9.175932311928866,
          9.274957616053975,
          9.373982920179083,
          9.473008224304191,
          9.5720335284293,
          9.671058832554408,
          9.770084136679515,
          9.869109440804623
         ],
         "y": [
          5.482088122605369,
          4.433812260536401,
          3.601954022988506,
          5.150536398467422,
          4.074176245210725,
          1.7998084291187728,
          1.7897126436781599,
          1.3905938697318012,
          2.1933524904214563,
          3.8687931034482728,
          10.149846743295024,
          10.22570881226054,
          10.286091954022993,
          4.055172413793095,
          4.051954022988496,
          4.051954022988496,
          4.161685823754779,
          3.2127969348658927,
          3.5293486590038254,
          4.589042145593871,
          4.591321839080463,
          4.615459770114946,
          4.615459770114946,
          5.0043486590038295,
          3.30208812260536,
          4.07595785440613,
          2.216398467432957,
          2.4044444444444464,
          3.8854022988505745,
          2.1247126436781647,
          2.1247126436781647,
          2.0612260536398503,
          2.279195402298853,
          2.675593869731797,
          2.744559386973175,
          2.744559386973175,
          2.744559386973175,
          1.3178352490421386,
          1.3856896551724063,
          1.3856896551724063,
          1.3856896551724063,
          1.4065134099616785,
          5.601609195402297,
          5.58580459770115,
          5.58580459770115,
          5.714750957854407,
          5.714750957854407,
          8.98141762452106,
          3.176973180076637,
          3.1663793103448357,
          1.470038314176249,
          3.851398467432956,
          3.596226053639851,
          5.244080459770121,
          5.244080459770121,
          5.982222222222222,
          5.036647509578535,
          2.995402298850571,
          2.2585823754789276,
          3.8013984674329446,
          5.294099616858228,
          5.997662835249035,
          4.0509195402298905,
          3.7535249042145593,
          3.309080459770114,
          2.2000766283524906,
          5.834827586206898,
          5.9894827586206905,
          4.927452107279696,
          7.039482758620696,
          7.097816091954027,
          5.115517241379299,
          5.915095785440602,
          6.010651340996158,
          9.658237547892707,
          11.102586206896548,
          9.18636015325672,
          7.424137931034494,
          7.246206896551735,
          7.430498084291178,
          7.430498084291178,
          7.430498084291178,
          8.443390804597692,
          10.989655172413807,
          11.116570881226071,
          11.116570881226071,
          11.149904214559406,
          8.021819923371643,
          10.396819923371652,
          10.396819923371652,
          10.213486590038316,
          9.674636015325657,
          8.476915708812246,
          8.476915708812246,
          8.467816091954006,
          6.513026819923358,
          4.7750957854406115,
          4.917203065134104,
          7.667547892720296,
          12.743409961685805
         ]
        }
       ],
       "layout": {
        "height": 800,
        "plot_bgcolor": "white",
        "showlegend": true,
        "template": {
         "data": {
          "bar": [
           {
            "error_x": {
             "color": "#2a3f5f"
            },
            "error_y": {
             "color": "#2a3f5f"
            },
            "marker": {
             "line": {
              "color": "#E5ECF6",
              "width": 0.5
             },
             "pattern": {
              "fillmode": "overlay",
              "size": 10,
              "solidity": 0.2
             }
            },
            "type": "bar"
           }
          ],
          "barpolar": [
           {
            "marker": {
             "line": {
              "color": "#E5ECF6",
              "width": 0.5
             },
             "pattern": {
              "fillmode": "overlay",
              "size": 10,
              "solidity": 0.2
             }
            },
            "type": "barpolar"
           }
          ],
          "carpet": [
           {
            "aaxis": {
             "endlinecolor": "#2a3f5f",
             "gridcolor": "white",
             "linecolor": "white",
             "minorgridcolor": "white",
             "startlinecolor": "#2a3f5f"
            },
            "baxis": {
             "endlinecolor": "#2a3f5f",
             "gridcolor": "white",
             "linecolor": "white",
             "minorgridcolor": "white",
             "startlinecolor": "#2a3f5f"
            },
            "type": "carpet"
           }
          ],
          "choropleth": [
           {
            "colorbar": {
             "outlinewidth": 0,
             "ticks": ""
            },
            "type": "choropleth"
           }
          ],
          "contour": [
           {
            "colorbar": {
             "outlinewidth": 0,
             "ticks": ""
            },
            "colorscale": [
             [
              0,
              "#0d0887"
             ],
             [
              0.1111111111111111,
              "#46039f"
             ],
             [
              0.2222222222222222,
              "#7201a8"
             ],
             [
              0.3333333333333333,
              "#9c179e"
             ],
             [
              0.4444444444444444,
              "#bd3786"
             ],
             [
              0.5555555555555556,
              "#d8576b"
             ],
             [
              0.6666666666666666,
              "#ed7953"
             ],
             [
              0.7777777777777778,
              "#fb9f3a"
             ],
             [
              0.8888888888888888,
              "#fdca26"
             ],
             [
              1,
              "#f0f921"
             ]
            ],
            "type": "contour"
           }
          ],
          "contourcarpet": [
           {
            "colorbar": {
             "outlinewidth": 0,
             "ticks": ""
            },
            "type": "contourcarpet"
           }
          ],
          "heatmap": [
           {
            "colorbar": {
             "outlinewidth": 0,
             "ticks": ""
            },
            "colorscale": [
             [
              0,
              "#0d0887"
             ],
             [
              0.1111111111111111,
              "#46039f"
             ],
             [
              0.2222222222222222,
              "#7201a8"
             ],
             [
              0.3333333333333333,
              "#9c179e"
             ],
             [
              0.4444444444444444,
              "#bd3786"
             ],
             [
              0.5555555555555556,
              "#d8576b"
             ],
             [
              0.6666666666666666,
              "#ed7953"
             ],
             [
              0.7777777777777778,
              "#fb9f3a"
             ],
             [
              0.8888888888888888,
              "#fdca26"
             ],
             [
              1,
              "#f0f921"
             ]
            ],
            "type": "heatmap"
           }
          ],
          "heatmapgl": [
           {
            "colorbar": {
             "outlinewidth": 0,
             "ticks": ""
            },
            "colorscale": [
             [
              0,
              "#0d0887"
             ],
             [
              0.1111111111111111,
              "#46039f"
             ],
             [
              0.2222222222222222,
              "#7201a8"
             ],
             [
              0.3333333333333333,
              "#9c179e"
             ],
             [
              0.4444444444444444,
              "#bd3786"
             ],
             [
              0.5555555555555556,
              "#d8576b"
             ],
             [
              0.6666666666666666,
              "#ed7953"
             ],
             [
              0.7777777777777778,
              "#fb9f3a"
             ],
             [
              0.8888888888888888,
              "#fdca26"
             ],
             [
              1,
              "#f0f921"
             ]
            ],
            "type": "heatmapgl"
           }
          ],
          "histogram": [
           {
            "marker": {
             "pattern": {
              "fillmode": "overlay",
              "size": 10,
              "solidity": 0.2
             }
            },
            "type": "histogram"
           }
          ],
          "histogram2d": [
           {
            "colorbar": {
             "outlinewidth": 0,
             "ticks": ""
            },
            "colorscale": [
             [
              0,
              "#0d0887"
             ],
             [
              0.1111111111111111,
              "#46039f"
             ],
             [
              0.2222222222222222,
              "#7201a8"
             ],
             [
              0.3333333333333333,
              "#9c179e"
             ],
             [
              0.4444444444444444,
              "#bd3786"
             ],
             [
              0.5555555555555556,
              "#d8576b"
             ],
             [
              0.6666666666666666,
              "#ed7953"
             ],
             [
              0.7777777777777778,
              "#fb9f3a"
             ],
             [
              0.8888888888888888,
              "#fdca26"
             ],
             [
              1,
              "#f0f921"
             ]
            ],
            "type": "histogram2d"
           }
          ],
          "histogram2dcontour": [
           {
            "colorbar": {
             "outlinewidth": 0,
             "ticks": ""
            },
            "colorscale": [
             [
              0,
              "#0d0887"
             ],
             [
              0.1111111111111111,
              "#46039f"
             ],
             [
              0.2222222222222222,
              "#7201a8"
             ],
             [
              0.3333333333333333,
              "#9c179e"
             ],
             [
              0.4444444444444444,
              "#bd3786"
             ],
             [
              0.5555555555555556,
              "#d8576b"
             ],
             [
              0.6666666666666666,
              "#ed7953"
             ],
             [
              0.7777777777777778,
              "#fb9f3a"
             ],
             [
              0.8888888888888888,
              "#fdca26"
             ],
             [
              1,
              "#f0f921"
             ]
            ],
            "type": "histogram2dcontour"
           }
          ],
          "mesh3d": [
           {
            "colorbar": {
             "outlinewidth": 0,
             "ticks": ""
            },
            "type": "mesh3d"
           }
          ],
          "parcoords": [
           {
            "line": {
             "colorbar": {
              "outlinewidth": 0,
              "ticks": ""
             }
            },
            "type": "parcoords"
           }
          ],
          "pie": [
           {
            "automargin": true,
            "type": "pie"
           }
          ],
          "scatter": [
           {
            "fillpattern": {
             "fillmode": "overlay",
             "size": 10,
             "solidity": 0.2
            },
            "type": "scatter"
           }
          ],
          "scatter3d": [
           {
            "line": {
             "colorbar": {
              "outlinewidth": 0,
              "ticks": ""
             }
            },
            "marker": {
             "colorbar": {
              "outlinewidth": 0,
              "ticks": ""
             }
            },
            "type": "scatter3d"
           }
          ],
          "scattercarpet": [
           {
            "marker": {
             "colorbar": {
              "outlinewidth": 0,
              "ticks": ""
             }
            },
            "type": "scattercarpet"
           }
          ],
          "scattergeo": [
           {
            "marker": {
             "colorbar": {
              "outlinewidth": 0,
              "ticks": ""
             }
            },
            "type": "scattergeo"
           }
          ],
          "scattergl": [
           {
            "marker": {
             "colorbar": {
              "outlinewidth": 0,
              "ticks": ""
             }
            },
            "type": "scattergl"
           }
          ],
          "scattermapbox": [
           {
            "marker": {
             "colorbar": {
              "outlinewidth": 0,
              "ticks": ""
             }
            },
            "type": "scattermapbox"
           }
          ],
          "scatterpolar": [
           {
            "marker": {
             "colorbar": {
              "outlinewidth": 0,
              "ticks": ""
             }
            },
            "type": "scatterpolar"
           }
          ],
          "scatterpolargl": [
           {
            "marker": {
             "colorbar": {
              "outlinewidth": 0,
              "ticks": ""
             }
            },
            "type": "scatterpolargl"
           }
          ],
          "scatterternary": [
           {
            "marker": {
             "colorbar": {
              "outlinewidth": 0,
              "ticks": ""
             }
            },
            "type": "scatterternary"
           }
          ],
          "surface": [
           {
            "colorbar": {
             "outlinewidth": 0,
             "ticks": ""
            },
            "colorscale": [
             [
              0,
              "#0d0887"
             ],
             [
              0.1111111111111111,
              "#46039f"
             ],
             [
              0.2222222222222222,
              "#7201a8"
             ],
             [
              0.3333333333333333,
              "#9c179e"
             ],
             [
              0.4444444444444444,
              "#bd3786"
             ],
             [
              0.5555555555555556,
              "#d8576b"
             ],
             [
              0.6666666666666666,
              "#ed7953"
             ],
             [
              0.7777777777777778,
              "#fb9f3a"
             ],
             [
              0.8888888888888888,
              "#fdca26"
             ],
             [
              1,
              "#f0f921"
             ]
            ],
            "type": "surface"
           }
          ],
          "table": [
           {
            "cells": {
             "fill": {
              "color": "#EBF0F8"
             },
             "line": {
              "color": "white"
             }
            },
            "header": {
             "fill": {
              "color": "#C8D4E3"
             },
             "line": {
              "color": "white"
             }
            },
            "type": "table"
           }
          ]
         },
         "layout": {
          "annotationdefaults": {
           "arrowcolor": "#2a3f5f",
           "arrowhead": 0,
           "arrowwidth": 1
          },
          "autotypenumbers": "strict",
          "coloraxis": {
           "colorbar": {
            "outlinewidth": 0,
            "ticks": ""
           }
          },
          "colorscale": {
           "diverging": [
            [
             0,
             "#8e0152"
            ],
            [
             0.1,
             "#c51b7d"
            ],
            [
             0.2,
             "#de77ae"
            ],
            [
             0.3,
             "#f1b6da"
            ],
            [
             0.4,
             "#fde0ef"
            ],
            [
             0.5,
             "#f7f7f7"
            ],
            [
             0.6,
             "#e6f5d0"
            ],
            [
             0.7,
             "#b8e186"
            ],
            [
             0.8,
             "#7fbc41"
            ],
            [
             0.9,
             "#4d9221"
            ],
            [
             1,
             "#276419"
            ]
           ],
           "sequential": [
            [
             0,
             "#0d0887"
            ],
            [
             0.1111111111111111,
             "#46039f"
            ],
            [
             0.2222222222222222,
             "#7201a8"
            ],
            [
             0.3333333333333333,
             "#9c179e"
            ],
            [
             0.4444444444444444,
             "#bd3786"
            ],
            [
             0.5555555555555556,
             "#d8576b"
            ],
            [
             0.6666666666666666,
             "#ed7953"
            ],
            [
             0.7777777777777778,
             "#fb9f3a"
            ],
            [
             0.8888888888888888,
             "#fdca26"
            ],
            [
             1,
             "#f0f921"
            ]
           ],
           "sequentialminus": [
            [
             0,
             "#0d0887"
            ],
            [
             0.1111111111111111,
             "#46039f"
            ],
            [
             0.2222222222222222,
             "#7201a8"
            ],
            [
             0.3333333333333333,
             "#9c179e"
            ],
            [
             0.4444444444444444,
             "#bd3786"
            ],
            [
             0.5555555555555556,
             "#d8576b"
            ],
            [
             0.6666666666666666,
             "#ed7953"
            ],
            [
             0.7777777777777778,
             "#fb9f3a"
            ],
            [
             0.8888888888888888,
             "#fdca26"
            ],
            [
             1,
             "#f0f921"
            ]
           ]
          },
          "colorway": [
           "#636efa",
           "#EF553B",
           "#00cc96",
           "#ab63fa",
           "#FFA15A",
           "#19d3f3",
           "#FF6692",
           "#B6E880",
           "#FF97FF",
           "#FECB52"
          ],
          "font": {
           "color": "#2a3f5f"
          },
          "geo": {
           "bgcolor": "white",
           "lakecolor": "white",
           "landcolor": "#E5ECF6",
           "showlakes": true,
           "showland": true,
           "subunitcolor": "white"
          },
          "hoverlabel": {
           "align": "left"
          },
          "hovermode": "closest",
          "mapbox": {
           "style": "light"
          },
          "paper_bgcolor": "white",
          "plot_bgcolor": "#E5ECF6",
          "polar": {
           "angularaxis": {
            "gridcolor": "white",
            "linecolor": "white",
            "ticks": ""
           },
           "bgcolor": "#E5ECF6",
           "radialaxis": {
            "gridcolor": "white",
            "linecolor": "white",
            "ticks": ""
           }
          },
          "scene": {
           "xaxis": {
            "backgroundcolor": "#E5ECF6",
            "gridcolor": "white",
            "gridwidth": 2,
            "linecolor": "white",
            "showbackground": true,
            "ticks": "",
            "zerolinecolor": "white"
           },
           "yaxis": {
            "backgroundcolor": "#E5ECF6",
            "gridcolor": "white",
            "gridwidth": 2,
            "linecolor": "white",
            "showbackground": true,
            "ticks": "",
            "zerolinecolor": "white"
           },
           "zaxis": {
            "backgroundcolor": "#E5ECF6",
            "gridcolor": "white",
            "gridwidth": 2,
            "linecolor": "white",
            "showbackground": true,
            "ticks": "",
            "zerolinecolor": "white"
           }
          },
          "shapedefaults": {
           "line": {
            "color": "#2a3f5f"
           }
          },
          "ternary": {
           "aaxis": {
            "gridcolor": "white",
            "linecolor": "white",
            "ticks": ""
           },
           "baxis": {
            "gridcolor": "white",
            "linecolor": "white",
            "ticks": ""
           },
           "bgcolor": "#E5ECF6",
           "caxis": {
            "gridcolor": "white",
            "linecolor": "white",
            "ticks": ""
           }
          },
          "title": {
           "x": 0.05
          },
          "xaxis": {
           "automargin": true,
           "gridcolor": "white",
           "linecolor": "white",
           "ticks": "",
           "title": {
            "standoff": 15
           },
           "zerolinecolor": "white",
           "zerolinewidth": 2
          },
          "yaxis": {
           "automargin": true,
           "gridcolor": "white",
           "linecolor": "white",
           "ticks": "",
           "title": {
            "standoff": 15
           },
           "zerolinecolor": "white",
           "zerolinewidth": 2
          }
         }
        },
        "title": {
         "text": "Random Forest Model of Pixel vs Real Length Relative Differences<br>R²: 0.841"
        },
        "width": 800,
        "xaxis": {
         "gridcolor": "lightgray",
         "gridwidth": 1,
         "showgrid": true,
         "title": {
          "text": "Pixel Relative Difference (%)"
         }
        },
        "yaxis": {
         "gridcolor": "lightgray",
         "gridwidth": 1,
         "showgrid": true,
         "title": {
          "text": "Real Length Relative Difference (%)"
         }
        }
       }
      }
     },
     "metadata": {},
     "output_type": "display_data"
    }
   ],
   "source": [
    "import numpy as np\n",
    "from sklearn.ensemble import RandomForestRegressor\n",
    "import plotly.graph_objects as go\n",
    "\n",
    "# Prepare the data\n",
    "X = new_df[['pixel_rel_diff']].values\n",
    "y = new_df['real_length_rel_diff'].values\n",
    "\n",
    "# Create and train the random forest model\n",
    "rf_model = RandomForestRegressor(n_estimators=100, random_state=42)\n",
    "rf_model.fit(X, y)\n",
    "\n",
    "# Create points for prediction\n",
    "X_plot = np.linspace(X.min(), X.max(), 100).reshape(-1, 1)\n",
    "y_pred = rf_model.predict(X_plot)\n",
    "\n",
    "# Create scatter plot with plotly\n",
    "fig = go.Figure()\n",
    "\n",
    "# Plot original points with different colors based on relative error\n",
    "error_thresholds = [5, 10, 15]\n",
    "colors = ['green', 'yellow', 'orange', 'red']\n",
    "\n",
    "for i in range(len(error_thresholds) + 1):\n",
    "    if i == 0:\n",
    "        mask = new_df['real_length_rel_diff'] <= error_thresholds[0]\n",
    "        label = f'Error ≤ {error_thresholds[0]}%'\n",
    "    elif i == len(error_thresholds):\n",
    "        mask = new_df['real_length_rel_diff'] > error_thresholds[-1]\n",
    "        label = f'Error > {error_thresholds[-1]}%'\n",
    "    else:\n",
    "        mask = (new_df['real_length_rel_diff'] > error_thresholds[i-1]) & \\\n",
    "               (new_df['real_length_rel_diff'] <= error_thresholds[i])\n",
    "        label = f'{error_thresholds[i-1]}% < Error ≤ {error_thresholds[i]}%'\n",
    "    \n",
    "    fig.add_trace(go.Scatter(\n",
    "        x=new_df[mask]['pixel_rel_diff'],\n",
    "        y=new_df[mask]['real_length_rel_diff'],\n",
    "        mode='markers',\n",
    "        name=label,\n",
    "        marker=dict(\n",
    "            color=colors[i],\n",
    "            size=10,\n",
    "            opacity=0.6\n",
    "        ),\n",
    "        hovertemplate=\n",
    "        '<b>Image:</b> %{customdata[0]}<br>' +\n",
    "        '<b>Pixels Total Length:</b> %{customdata[8]:.1f}<br>' +\n",
    "        '<b>Length:</b> %{customdata[7]:.1f}<br>' +\n",
    "        '<b>Total Length:</b> %{customdata[1]:.1f}<br>' +\n",
    "        '<b>Lobster Size:</b> %{customdata[2]}<br>' +\n",
    "        '<b>Pixel Rel Diff:</b> %{customdata[3]:.1f}%<br>' +\n",
    "        '<b>Pixel Abs Diff:</b> %{customdata[4]:.1f}<br>' +\n",
    "        '<b>Real Length Abs Diff:</b> %{customdata[5]:.1f}<br>' +\n",
    "        '<b>Real Length Rel Diff:</b> %{customdata[6]:.1f}%<br>',\n",
    "        customdata=list(zip(new_df[mask]['image_name'], \n",
    "                          new_df[mask]['total_length'],\n",
    "                          new_df[mask]['lobster_size'],\n",
    "                          new_df[mask]['pixel_rel_diff'],\n",
    "                          new_df[mask]['pixel_abs_diff'],\n",
    "                          new_df[mask]['real_length_abs_diff'],\n",
    "                          new_df[mask]['real_length_rel_diff'],\n",
    "                          new_df[mask]['Length'],\n",
    "                          new_df[mask]['pixels_total_length']\n",
    "                          )\n",
    "                     )\n",
    "    ))\n",
    "\n",
    "# Add random forest prediction line\n",
    "fig.add_trace(go.Scatter(\n",
    "    x=X_plot.flatten(),\n",
    "    y=y_pred,\n",
    "    mode='lines',\n",
    "    name='Random Forest Prediction',\n",
    "    line=dict(color='black', width=2),\n",
    "))\n",
    "\n",
    "# Calculate R² score\n",
    "r2_score = rf_model.score(X, y)\n",
    "\n",
    "# Update layout\n",
    "fig.update_layout(\n",
    "    title=f'Random Forest Model of Pixel vs Real Length Relative Differences<br>R²: {r2_score:.3f}',\n",
    "    xaxis_title='Pixel Relative Difference (%)',\n",
    "    yaxis_title='Real Length Relative Difference (%)',\n",
    "    showlegend=True,\n",
    "    width=800,\n",
    "    height=800,\n",
    "    plot_bgcolor='white'\n",
    ")\n",
    "\n",
    "# Add grid\n",
    "fig.update_xaxes(showgrid=True, gridwidth=1, gridcolor='lightgray')\n",
    "fig.update_yaxes(showgrid=True, gridwidth=1, gridcolor='lightgray')\n",
    "\n",
    "# Print model performance metrics\n",
    "print(f\"Random Forest Model Performance:\")\n",
    "print(f\"R² Score: {r2_score:.3f}\")\n",
    "\n",
    "fig.show()"
   ]
  },
  {
   "cell_type": "code",
   "execution_count": 27,
   "metadata": {},
   "outputs": [
    {
     "name": "stdout",
     "output_type": "stream",
     "text": [
      "Random Forest Model Performance:\n",
      "R² Score: 0.841\n"
     ]
    },
    {
     "data": {
      "application/vnd.plotly.v1+json": {
       "config": {
        "plotlyServerURL": "https://plot.ly"
       },
       "data": [
        {
         "customdata": [
          [
           "undistorted_GX010191_37_1242",
           139.2,
           "small",
           0.06819668480605824,
           0.4900000000000091,
           5.800000000000011,
           4.000000000000008,
           718.51,
           719
          ],
          [
           "undistorted_GX010191_8_309",
           154.8,
           "small",
           0.06560433241892914,
           0.5180000000000291,
           9.800000000000011,
           6.75862068965518,
           789.582,
           790.1
          ],
          [
           "undistorted_GX010191_32_305",
           154.2,
           "small",
           0.44251989440297856,
           3.4950000000000045,
           9.199999999999989,
           6.344827586206889,
           789.795,
           786.3
          ],
          [
           "undistorted_GX010193_11_1065",
           184.3,
           "big",
           0.2719072631353484,
           4.733000000000175,
           4.300000000000011,
           2.388888888888895,
           1740.667,
           1745.4
          ],
          [
           "undistorted_GX010191_100_1250",
           143,
           "small",
           0.910018942805829,
           6.668000000000006,
           2,
           1.3793103448275863,
           732.732,
           739.4
          ],
          [
           "undistorted_GX010193_27_1553",
           186.6,
           "big",
           0.45462498393326184,
           8.028999999999996,
           6.599999999999994,
           3.6666666666666634,
           1766.071,
           1774.1
          ],
          [
           "undistorted_GX010194_39_513",
           144.1,
           "small",
           0.6183931256023713,
           8.091000000000122,
           0.9000000000000057,
           0.6206896551724177,
           1308.391,
           1300.3
          ],
          [
           "undistorted_GX010191_94_1132",
           156.7,
           "big",
           1.1809716535184118,
           9.711000000000013,
           23.30000000000001,
           12.94444444444445,
           822.289,
           832
          ],
          [
           "undistorted_GX010191_35_1167",
           149.2,
           "small",
           1.38289901032272,
           10.649000000000001,
           4.199999999999989,
           2.896551724137923,
           770.049,
           759.4
          ],
          [
           "undistorted_GX010191_31_283",
           174.8,
           "big",
           1.4735613321265169,
           13.936000000000035,
           5.199999999999989,
           2.8888888888888826,
           945.736,
           931.8
          ],
          [
           "undistorted_GX010191_42_1339",
           138.2,
           "small",
           2.576005437362323,
           18.722999999999956,
           6.800000000000011,
           4.689655172413801,
           726.823,
           708.1
          ],
          [
           "undistorted_GX010191_35_367",
           171.6,
           "big",
           2.246188864725486,
           20.80200000000002,
           8.400000000000006,
           4.66666666666667,
           926.102,
           905.3
          ],
          [
           "undistorted_GX010191_28_230",
           152.7,
           "small",
           2.8653838476585847,
           22.96799999999996,
           7.699999999999989,
           5.310344827586199,
           801.568,
           778.6
          ],
          [
           "undistorted_GX010191_34_350",
           175.4,
           "big",
           2.4961162195070723,
           23.779999999999973,
           4.599999999999994,
           2.5555555555555522,
           952.68,
           928.9
          ],
          [
           "undistorted_GX010191_88_1016",
           190.4,
           "big",
           2.2953794759610755,
           23.82899999999995,
           10.400000000000006,
           5.777777777777781,
           1038.129,
           1014.3
          ],
          [
           "undistorted_GX010191_17_509",
           142.3,
           "small",
           3.6387715920015538,
           25.66199999999992,
           2.6999999999999886,
           1.8620689655172336,
           705.238,
           730.9
          ],
          [
           "undistorted_GX010191_105_1312",
           141.4,
           "small",
           3.722818300028649,
           25.852999999999952,
           3.5999999999999943,
           2.4827586206896513,
           694.447,
           720.3
          ],
          [
           "undistorted_GX010191_37_1242",
           181.3,
           "big",
           2.662578535683596,
           26.15599999999995,
           1.3000000000000114,
           0.7222222222222285,
           982.356,
           956.2
          ],
          [
           "undistorted_GX010191_36_1195",
           144.8,
           "small",
           3.7255332729288826,
           28.658999999999992,
           0.19999999999998863,
           0.1379310344827508,
           769.259,
           740.6
          ],
          [
           "undistorted_GX010191_47_507",
           170.3,
           "big",
           3.7101890390362833,
           32.375999999999976,
           9.699999999999989,
           5.388888888888883,
           872.624,
           905
          ],
          [
           "undistorted_GX010193_18_1289",
           145.8,
           "small",
           2.9511834319526695,
           39.90000000000009,
           0.8000000000000114,
           0.5517241379310424,
           1352,
           1312.1
          ],
          [
           "undistorted_GX010191_114_1383",
           149.5,
           "small",
           5.193547317909129,
           42.307000000000016,
           4.5,
           3.103448275862069,
           814.607,
           772.3
          ],
          [
           "undistorted_GX010191_8_309",
           179.7,
           "big",
           4.902454511615695,
           44.780000000000086,
           0.30000000000001137,
           0.16666666666667299,
           913.42,
           958.2
          ],
          [
           "undistorted_GX010191_34_350",
           149.3,
           "small",
           6.216755319148936,
           44.879999999999995,
           4.300000000000011,
           2.965517241379318,
           721.92,
           766.8
          ],
          [
           "undistorted_GX010191_35_367",
           146.1,
           "small",
           6.543349852011343,
           46.22700000000009,
           1.0999999999999943,
           0.7586206896551685,
           706.473,
           752.7
          ],
          [
           "undistorted_GX010191_28_230",
           201.1,
           "big",
           4.7224216144421725,
           48.354999999999905,
           21.099999999999994,
           11.722222222222218,
           1023.945,
           1072.3
          ],
          [
           "undistorted_GX010191_34_1128",
           169.7,
           "big",
           5.290556620507818,
           50.285999999999945,
           10.300000000000011,
           5.7222222222222285,
           950.486,
           900.2
          ],
          [
           "undistorted_GX010191_38_1266",
           150.7,
           "small",
           7.158069674391972,
           51.254999999999995,
           5.699999999999989,
           3.931034482758613,
           716.045,
           767.3
          ],
          [
           "undistorted_GX010191_17_509",
           174.9,
           "big",
           5.8743130434187405,
           51.48900000000003,
           5.099999999999994,
           2.83333333333333,
           876.511,
           928
          ],
          [
           "undistorted_GX010191_41_1322",
           169,
           "big",
           6.0311290132538655,
           57.84100000000001,
           11,
           6.111111111111111,
           959.041,
           901.2
          ],
          [
           "undistorted_GX010191_42_1339",
           166.6,
           "big",
           6.185869246555263,
           58.447,
           13.400000000000006,
           7.444444444444448,
           944.847,
           886.4
          ],
          [
           "undistorted_GX010191_36_1195",
           172.9,
           "big",
           6.322040387419454,
           62.087999999999965,
           7.099999999999994,
           3.9444444444444415,
           982.088,
           920
          ],
          [
           "undistorted_GX010191_43_1353",
           164.2,
           "big",
           6.91075495227486,
           64.394,
           15.800000000000011,
           8.777777777777784,
           931.794,
           867.4
          ],
          [
           "undistorted_GX010191_10_370",
           149,
           "small",
           9.54362568428856,
           66.43900000000008,
           4,
           2.7586206896551726,
           696.161,
           762.6
          ],
          [
           "undistorted_GX010191_105_1312",
           174.2,
           "big",
           6.857920552203788,
           68.077,
           5.800000000000011,
           3.2222222222222285,
           992.677,
           924.6
          ],
          [
           "undistorted_GX010192_26_1578",
           139.5,
           "small",
           5.190106282117129,
           68.81099999999992,
           5.5,
           3.793103448275862,
           1325.811,
           1257
          ],
          [
           "undistorted_GX010191_106_1320",
           155,
           "small",
           9.455520896612448,
           69.26499999999999,
           10,
           6.896551724137931,
           732.535,
           801.8
          ],
          [
           "undistorted_GX010191_110_1355",
           162.4,
           "big",
           7.649384365136645,
           71.00999999999999,
           17.599999999999994,
           9.777777777777775,
           928.31,
           857.3
          ],
          [
           "undistorted_GX010191_32_305",
           191.5,
           "big",
           7.709092597321189,
           73.0619999999999,
           11.5,
           6.388888888888888,
           947.738,
           1020.8
          ],
          [
           "undistorted_GX010191_14_460",
           162.5,
           "big",
           9.32942765874168,
           73.88999999999999,
           17.5,
           9.722222222222223,
           792.01,
           865.9
          ],
          [
           "undistorted_GX010194_7_885",
           154.7,
           "small",
           5.6427307993046165,
           74.32999999999993,
           9.699999999999989,
           6.689655172413786,
           1317.27,
           1391.6
          ],
          [
           "undistorted_GX010191_16_495",
           157,
           "big",
           8.532781772218396,
           77.97000000000003,
           23,
           12.777777777777777,
           913.77,
           835.8
          ],
          [
           "undistorted_GX010192_26_1578",
           172.9,
           "big",
           4.580174889777063,
           78.68200000000002,
           7.099999999999994,
           3.9444444444444415,
           1717.882,
           1639.2
          ],
          [
           "undistorted_GX010193_28_1584",
           143.6,
           "small",
           5.776312221746017,
           79.24800000000005,
           1.4000000000000057,
           0.9655172413793143,
           1371.948,
           1292.7
          ],
          [
           "undistorted_GX010191_15_479",
           159.4,
           "big",
           8.77770493632572,
           81.80899999999997,
           20.599999999999994,
           11.444444444444441,
           932.009,
           850.2
          ],
          [
           "undistorted_GX010194_19_285",
           133.1,
           "small",
           6.626369451250111,
           84.76199999999994,
           11.900000000000006,
           8.206896551724142,
           1279.162,
           1194.4
          ],
          [
           "undistorted_GX010191_117_1408",
           168.9,
           "big",
           8.734013895231067,
           85.49700000000007,
           11.099999999999994,
           6.166666666666663,
           978.897,
           893.4
          ],
          [
           "undistorted_GX010191_47_507",
           153.4,
           "small",
           9.82370413832304,
           85.72400000000005,
           8.400000000000006,
           5.793103448275866,
           872.624,
           786.9
          ],
          [
           "undistorted_GX010194_26_373",
           126.4,
           "small",
           7.4659118452999635,
           90.86500000000001,
           18.599999999999994,
           12.82758620689655,
           1217.065,
           1126.2
          ],
          [
           "undistorted_GX010193_19_1334",
           134.3,
           "small",
           7.949803637502098,
           103.60200000000009,
           10.699999999999989,
           7.379310344827579,
           1303.202,
           1199.6
          ],
          [
           "undistorted_GX010193_20_1365",
           120.6,
           "small",
           9.869109440804623,
           117.23900000000003,
           24.400000000000006,
           16.827586206896555,
           1187.939,
           1070.7
          ]
         ],
         "hovertemplate": "<b>Image:</b> %{customdata[0]}<br><b>Total Length:</b> %{customdata[1]:.1f}<br><b>Lobster Size:</b> %{customdata[2]}<br><b>Pixel Rel Diff:</b> %{customdata[3]:.1f}%<br><b>Pixel Abs Diff:</b> %{customdata[4]:.1f}<br><b>Real Length Abs Diff:</b> %{customdata[5]:.1f}<br><b>Real Length Rel Diff:</b> %{customdata[6]:.1f}%<br>",
         "marker": {
          "color": "blue",
          "opacity": 0.5,
          "size": 8
         },
         "mode": "markers",
         "name": "Data Points",
         "type": "scatter",
         "x": [
          0.06819668480605824,
          0.06560433241892914,
          0.44251989440297856,
          0.2719072631353484,
          0.910018942805829,
          0.45462498393326184,
          0.6183931256023713,
          1.1809716535184118,
          1.38289901032272,
          1.4735613321265169,
          2.576005437362323,
          2.246188864725486,
          2.8653838476585847,
          2.4961162195070723,
          2.2953794759610755,
          3.6387715920015538,
          3.722818300028649,
          2.662578535683596,
          3.7255332729288826,
          3.7101890390362833,
          2.9511834319526695,
          5.193547317909129,
          4.902454511615695,
          6.216755319148936,
          6.543349852011343,
          4.7224216144421725,
          5.290556620507818,
          7.158069674391972,
          5.8743130434187405,
          6.0311290132538655,
          6.185869246555263,
          6.322040387419454,
          6.91075495227486,
          9.54362568428856,
          6.857920552203788,
          5.190106282117129,
          9.455520896612448,
          7.649384365136645,
          7.709092597321189,
          9.32942765874168,
          5.6427307993046165,
          8.532781772218396,
          4.580174889777063,
          5.776312221746017,
          8.77770493632572,
          6.626369451250111,
          8.734013895231067,
          9.82370413832304,
          7.4659118452999635,
          7.949803637502098,
          9.869109440804623
         ],
         "y": [
          4.000000000000008,
          6.75862068965518,
          6.344827586206889,
          2.388888888888895,
          1.3793103448275863,
          3.6666666666666634,
          0.6206896551724177,
          12.94444444444445,
          2.896551724137923,
          2.8888888888888826,
          4.689655172413801,
          4.66666666666667,
          5.310344827586199,
          2.5555555555555522,
          5.777777777777781,
          1.8620689655172336,
          2.4827586206896513,
          0.7222222222222285,
          0.1379310344827508,
          5.388888888888883,
          0.5517241379310424,
          3.103448275862069,
          0.16666666666667299,
          2.965517241379318,
          0.7586206896551685,
          11.722222222222218,
          5.7222222222222285,
          3.931034482758613,
          2.83333333333333,
          6.111111111111111,
          7.444444444444448,
          3.9444444444444415,
          8.777777777777784,
          2.7586206896551726,
          3.2222222222222285,
          3.793103448275862,
          6.896551724137931,
          9.777777777777775,
          6.388888888888888,
          9.722222222222223,
          6.689655172413786,
          12.777777777777777,
          3.9444444444444415,
          0.9655172413793143,
          11.444444444444441,
          8.206896551724142,
          6.166666666666663,
          5.793103448275866,
          12.82758620689655,
          7.379310344827579,
          16.827586206896555
         ]
        },
        {
         "line": {
          "color": "black",
          "shape": "spline",
          "smoothing": 1.3,
          "width": 2
         },
         "mode": "lines",
         "name": "Random Forest Prediction",
         "type": "scatter",
         "x": [
          0.06560433241892914,
          0.07050853707545025,
          0.07541274173197136,
          0.08031694638849246,
          0.08522115104501357,
          0.09012535570153468,
          0.09502956035805579,
          0.0999337650145769,
          0.10483796967109801,
          0.10974217432761912,
          0.11464637898414022,
          0.11955058364066133,
          0.12445478829718244,
          0.12935899295370357,
          0.13426319761022465,
          0.13916740226674576,
          0.14407160692326687,
          0.14897581157978798,
          0.1538800162363091,
          0.15878422089283017,
          0.1636884255493513,
          0.1685926302058724,
          0.17349683486239353,
          0.17840103951891462,
          0.18330524417543576,
          0.18820944883195684,
          0.19311365348847798,
          0.19801785814499906,
          0.20292206280152014,
          0.20782626745804128,
          0.21273047211456236,
          0.2176346767710835,
          0.22253888142760458,
          0.22744308608412572,
          0.2323472907406468,
          0.23725149539716794,
          0.24215570005368903,
          0.24705990471021017,
          0.25196410936673125,
          0.25686831402325233,
          0.26177251867977347,
          0.26667672333629455,
          0.2715809279928157,
          0.2764851326493368,
          0.2813893373058579,
          0.286293541962379,
          0.29119774661890013,
          0.2961019512754212,
          0.30100615593194235,
          0.30591036058846344,
          0.3108145652449845,
          0.31571876990150566,
          0.3206229745580268,
          0.3255271792145479,
          0.33043138387106896,
          0.3353355885275901,
          0.3402397931841112,
          0.3451439978406323,
          0.3500482024971534,
          0.35495240715367454,
          0.3598566118101956,
          0.36476081646671676,
          0.36966502112323785,
          0.374569225779759,
          0.37947343043628007,
          0.38437763509280115,
          0.3892818397493223,
          0.39418604440584337,
          0.3990902490623645,
          0.4039944537188856,
          0.40889865837540673,
          0.4138028630319278,
          0.41870706768844895,
          0.42361127234497004,
          0.4285154770014912,
          0.43341968165801226,
          0.43832388631453334,
          0.4432280909710545,
          0.44813229562757556,
          0.4530365002840967,
          0.4579407049406178,
          0.4628449095971389,
          0.46774911425366,
          0.47265331891018114,
          0.4775575235667022,
          0.48246172822322336,
          0.48736593287974445,
          0.49227013753626553,
          0.49717434219278667,
          0.5020785468493077,
          0.5069827515058288,
          0.5118869561623499,
          0.5167911608188711,
          0.5216953654753922,
          0.5265995701319133,
          0.5315037747884344,
          0.5364079794449556,
          0.5413121841014766,
          0.5462163887579977,
          0.5511205934145188,
          0.5560247980710399,
          0.5609290027275611,
          0.5658332073840822,
          0.5707374120406032,
          0.5756416166971244,
          0.5805458213536455,
          0.5854500260101666,
          0.5903542306666877,
          0.5952584353232088,
          0.60016263997973,
          0.605066844636251,
          0.6099710492927721,
          0.6148752539492932,
          0.6197794586058144,
          0.6246836632623355,
          0.6295878679188566,
          0.6344920725753777,
          0.6393962772318988,
          0.6443004818884199,
          0.649204686544941,
          0.6541088912014621,
          0.6590130958579832,
          0.6639173005145044,
          0.6688215051710255,
          0.6737257098275465,
          0.6786299144840676,
          0.6835341191405888,
          0.6884383237971099,
          0.693342528453631,
          0.6982467331101521,
          0.7031509377666731,
          0.7080551424231943,
          0.7129593470797154,
          0.7178635517362365,
          0.7227677563927576,
          0.7276719610492788,
          0.7325761657057999,
          0.737480370362321,
          0.742384575018842,
          0.7472887796753631,
          0.7521929843318843,
          0.7570971889884054,
          0.7620013936449265,
          0.7669055983014476,
          0.7718098029579687,
          0.7767140076144898,
          0.7816182122710109,
          0.786522416927532,
          0.7914266215840532,
          0.7963308262405743,
          0.8012350308970954,
          0.8061392355536164,
          0.8110434402101375,
          0.8159476448666587,
          0.8208518495231798,
          0.8257560541797009,
          0.830660258836222,
          0.8355644634927432,
          0.8404686681492642,
          0.8453728728057853,
          0.8502770774623064,
          0.8551812821188275,
          0.8600854867753487,
          0.8649896914318698,
          0.8698938960883908,
          0.8747981007449119,
          0.8797023054014331,
          0.8846065100579542,
          0.8895107147144753,
          0.8944149193709964,
          0.8993191240275176,
          0.9042233286840387,
          0.9091275333405597,
          0.9140317379970808,
          0.9189359426536019,
          0.9238401473101231,
          0.9287443519666442,
          0.9336485566231653,
          0.9385527612796863,
          0.9434569659362075,
          0.9483611705927286,
          0.9532653752492497,
          0.9581695799057708,
          0.9630737845622919,
          0.9679779892188131,
          0.9728821938753341,
          0.9777863985318552,
          0.9826906031883763,
          0.9875948078448975,
          0.9924990125014186,
          0.9974032171579397,
          1.0023074218144608,
          1.0072116264709818,
          1.012115831127503,
          1.017020035784024,
          1.021924240440545,
          1.0268284450970662,
          1.0317326497535875,
          1.0366368544101086,
          1.0415410590666296,
          1.0464452637231507,
          1.0513494683796718,
          1.0562536730361929,
          1.061157877692714,
          1.066062082349235,
          1.0709662870057561,
          1.0758704916622772,
          1.0807746963187983,
          1.0856789009753196,
          1.0905831056318407,
          1.0954873102883618,
          1.1003915149448829,
          1.105295719601404,
          1.110199924257925,
          1.115104128914446,
          1.1200083335709672,
          1.1249125382274883,
          1.1298167428840096,
          1.1347209475405307,
          1.1396251521970517,
          1.1445293568535728,
          1.149433561510094,
          1.154337766166615,
          1.159241970823136,
          1.1641461754796572,
          1.1690503801361782,
          1.1739545847926995,
          1.1788587894492206,
          1.1837629941057417,
          1.1886671987622628,
          1.1935714034187839,
          1.198475608075305,
          1.203379812731826,
          1.2082840173883471,
          1.2131882220448684,
          1.2180924267013895,
          1.2229966313579106,
          1.2279008360144317,
          1.2328050406709528,
          1.2377092453274738,
          1.242613449983995,
          1.247517654640516,
          1.252421859297037,
          1.2573260639535584,
          1.2622302686100795,
          1.2671344732666006,
          1.2720386779231216,
          1.2769428825796427,
          1.2818470872361638,
          1.286751291892685,
          1.291655496549206,
          1.296559701205727,
          1.3014639058622484,
          1.3063681105187694,
          1.3112723151752905,
          1.3161765198318116,
          1.3210807244883327,
          1.3259849291448538,
          1.3308891338013749,
          1.335793338457896,
          1.340697543114417,
          1.3456017477709383,
          1.3505059524274594,
          1.3554101570839805,
          1.3603143617405016,
          1.3652185663970227,
          1.3701227710535437,
          1.3750269757100648,
          1.379931180366586,
          1.384835385023107,
          1.3897395896796283,
          1.3946437943361494,
          1.3995479989926705,
          1.4044522036491915,
          1.4093564083057126,
          1.4142606129622337,
          1.4191648176187548,
          1.4240690222752759,
          1.428973226931797,
          1.4338774315883183,
          1.4387816362448393,
          1.4436858409013604,
          1.4485900455578815,
          1.4534942502144026,
          1.4583984548709237,
          1.4633026595274448,
          1.4682068641839658,
          1.4731110688404871,
          1.4780152734970082,
          1.4829194781535293,
          1.4878236828100504,
          1.4927278874665715,
          1.4976320921230926,
          1.5025362967796136,
          1.5074405014361347,
          1.5123447060926558,
          1.5172489107491771,
          1.5221531154056982,
          1.5270573200622193,
          1.5319615247187404,
          1.5368657293752614,
          1.5417699340317825,
          1.5466741386883036,
          1.5515783433448247,
          1.5564825480013458,
          1.561386752657867,
          1.5662909573143882,
          1.5711951619709092,
          1.5760993666274303,
          1.5810035712839514,
          1.5859077759404725,
          1.5908119805969936,
          1.5957161852535147,
          1.6006203899100357,
          1.605524594566557,
          1.6104287992230781,
          1.6153330038795992,
          1.6202372085361203,
          1.6251414131926414,
          1.6300456178491625,
          1.6349498225056835,
          1.6398540271622046,
          1.6447582318187257,
          1.649662436475247,
          1.654566641131768,
          1.6594708457882892,
          1.6643750504448103,
          1.6692792551013313,
          1.6741834597578524,
          1.6790876644143735,
          1.6839918690708946,
          1.6888960737274157,
          1.693800278383937,
          1.698704483040458,
          1.7036086876969792,
          1.7085128923535002,
          1.7134170970100213,
          1.7183213016665424,
          1.7232255063230635,
          1.7281297109795846,
          1.7330339156361059,
          1.737938120292627,
          1.742842324949148,
          1.7477465296056691,
          1.7526507342621902,
          1.7575549389187113,
          1.7624591435752324,
          1.7673633482317535,
          1.7722675528882745,
          1.7771717575447958,
          1.782075962201317,
          1.786980166857838,
          1.791884371514359,
          1.7967885761708802,
          1.8016927808274013,
          1.8065969854839223,
          1.8115011901404434,
          1.8164053947969645,
          1.8213095994534858,
          1.8262138041100069,
          1.831118008766528,
          1.836022213423049,
          1.8409264180795701,
          1.8458306227360912,
          1.8507348273926123,
          1.8556390320491334,
          1.8605432367056545,
          1.8654474413621758,
          1.8703516460186969,
          1.875255850675218,
          1.880160055331739,
          1.88506425998826,
          1.8899684646447812,
          1.8948726693013023,
          1.8997768739578234,
          1.9046810786143444,
          1.9095852832708657,
          1.9144894879273868,
          1.919393692583908,
          1.924297897240429,
          1.92920210189695,
          1.9341063065534712,
          1.9390105112099922,
          1.9439147158665133,
          1.9488189205230346,
          1.9537231251795557,
          1.9586273298360768,
          1.9635315344925979,
          1.968435739149119,
          1.97333994380564,
          1.9782441484621611,
          1.9831483531186822,
          1.9880525577752033,
          1.9929567624317246,
          1.9978609670882457,
          2.002765171744767,
          2.007669376401288,
          2.012573581057809,
          2.01747778571433,
          2.0223819903708513,
          2.027286195027372,
          2.0321903996838935,
          2.037094604340415,
          2.0419988089969356,
          2.046903013653457,
          2.051807218309978,
          2.056711422966499,
          2.06161562762302,
          2.0665198322795413,
          2.0714240369360626,
          2.0763282415925834,
          2.0812324462491048,
          2.0861366509056256,
          2.091040855562147,
          2.0959450602186678,
          2.100849264875189,
          2.1057534695317104,
          2.1106576741882312,
          2.1155618788447526,
          2.1204660835012734,
          2.1253702881577947,
          2.1302744928143156,
          2.135178697470837,
          2.1400829021273577,
          2.144987106783879,
          2.1498913114404004,
          2.154795516096921,
          2.1596997207534425,
          2.1646039254099634,
          2.1695081300664847,
          2.1744123347230055,
          2.179316539379527,
          2.1842207440360477,
          2.189124948692569,
          2.1940291533490903,
          2.198933358005611,
          2.2038375626621325,
          2.2087417673186533,
          2.2136459719751747,
          2.2185501766316955,
          2.223454381288217,
          2.2283585859447377,
          2.233262790601259,
          2.2381669952577803,
          2.243071199914301,
          2.2479754045708225,
          2.2528796092273433,
          2.2577838138838646,
          2.2626880185403855,
          2.267592223196907,
          2.2724964278534276,
          2.277400632509949,
          2.2823048371664703,
          2.287209041822991,
          2.2921132464795124,
          2.2970174511360333,
          2.3019216557925546,
          2.3068258604490754,
          2.3117300651055968,
          2.3166342697621176,
          2.321538474418639,
          2.3264426790751602,
          2.331346883731681,
          2.3362510883882024,
          2.3411552930447233,
          2.3460594977012446,
          2.3509637023577654,
          2.3558679070142867,
          2.360772111670808,
          2.365676316327329,
          2.37058052098385,
          2.375484725640371,
          2.3803889302968924,
          2.385293134953413,
          2.3901973396099345,
          2.3951015442664554,
          2.4000057489229767,
          2.404909953579498,
          2.409814158236019,
          2.41471836289254,
          2.419622567549061,
          2.4245267722055823,
          2.429430976862103,
          2.4343351815186245,
          2.4392393861751454,
          2.4441435908316667,
          2.449047795488188,
          2.453952000144709,
          2.45885620480123,
          2.463760409457751,
          2.4686646141142723,
          2.473568818770793,
          2.4784730234273145,
          2.4833772280838353,
          2.4882814327403566,
          2.493185637396878,
          2.498089842053399,
          2.50299404670992,
          2.507898251366441,
          2.5128024560229623,
          2.517706660679483,
          2.5226108653360044,
          2.5275150699925253,
          2.5324192746490466,
          2.537323479305568,
          2.5422276839620888,
          2.54713188861861,
          2.552036093275131,
          2.5569402979316522,
          2.561844502588173,
          2.5667487072446944,
          2.5716529119012153,
          2.5765571165577366,
          2.581461321214258,
          2.5863655258707787,
          2.5912697305273,
          2.596173935183821,
          2.601078139840342,
          2.605982344496863,
          2.6108865491533844,
          2.6157907538099052,
          2.6206949584664265,
          2.625599163122948,
          2.6305033677794687,
          2.63540757243599,
          2.640311777092511,
          2.645215981749032,
          2.650120186405553,
          2.6550243910620743,
          2.659928595718595,
          2.6648328003751165,
          2.669737005031638,
          2.6746412096881587,
          2.67954541434468,
          2.684449619001201,
          2.689353823657722,
          2.694258028314243,
          2.6991622329707643,
          2.704066437627285,
          2.7089706422838065,
          2.7138748469403278,
          2.7187790515968486,
          2.72368325625337,
          2.728587460909891,
          2.733491665566412,
          2.738395870222933,
          2.7433000748794543,
          2.748204279535975,
          2.7531084841924964,
          2.7580126888490177,
          2.7629168935055386,
          2.76782109816206,
          2.7727253028185808,
          2.777629507475102,
          2.782533712131623,
          2.7874379167881442,
          2.792342121444665,
          2.7972463261011864,
          2.8021505307577077,
          2.8070547354142286,
          2.81195894007075,
          2.8168631447272707,
          2.821767349383792,
          2.826671554040313,
          2.831575758696834,
          2.8364799633533555,
          2.8413841680098764,
          2.8462883726663977,
          2.8511925773229185,
          2.85609678197944,
          2.8610009866359607,
          2.865905191292482,
          2.870809395949003,
          2.875713600605524,
          2.8806178052620455,
          2.8855220099185663,
          2.8904262145750876,
          2.8953304192316085,
          2.90023462388813,
          2.9051388285446507,
          2.910043033201172,
          2.914947237857693,
          2.919851442514214,
          2.9247556471707354,
          2.9296598518272563,
          2.9345640564837776,
          2.9394682611402985,
          2.9443724657968198,
          2.9492766704533406,
          2.954180875109862,
          2.959085079766383,
          2.963989284422904,
          2.9688934890794254,
          2.9737976937359463,
          2.9787018983924676,
          2.9836061030489884,
          2.9885103077055097,
          2.9934145123620306,
          2.998318717018552,
          3.0032229216750728,
          3.008127126331594,
          3.0130313309881154,
          3.0179355356446362,
          3.0228397403011575,
          3.0277439449576784,
          3.0326481496141997,
          3.0375523542707206,
          3.042456558927242,
          3.0473607635837627,
          3.052264968240284,
          3.0571691728968053,
          3.062073377553326,
          3.0669775822098475,
          3.0718817868663684,
          3.0767859915228897,
          3.0816901961794105,
          3.086594400835932,
          3.0914986054924527,
          3.096402810148974,
          3.1013070148054953,
          3.106211219462016,
          3.1111154241185375,
          3.1160196287750583,
          3.1209238334315796,
          3.1258280380881005,
          3.130732242744622,
          3.1356364474011427,
          3.140540652057664,
          3.1454448567141853,
          3.150349061370706,
          3.1552532660272274,
          3.1601574706837483,
          3.1650616753402696,
          3.1699658799967905,
          3.1748700846533118,
          3.1797742893098326,
          3.184678493966354,
          3.1895826986228752,
          3.194486903279396,
          3.1993911079359174,
          3.2042953125924383,
          3.2091995172489596,
          3.2141037219054804,
          3.2190079265620017,
          3.2239121312185226,
          3.228816335875044,
          3.233720540531565,
          3.238624745188086,
          3.2435289498446074,
          3.2484331545011282,
          3.2533373591576495,
          3.2582415638141704,
          3.2631457684706917,
          3.2680499731272126,
          3.272954177783734,
          3.277858382440255,
          3.282762587096776,
          3.2876667917532973,
          3.292570996409818,
          3.2974752010663395,
          3.3023794057228604,
          3.3072836103793817,
          3.3121878150359025,
          3.317092019692424,
          3.321996224348945,
          3.326900429005466,
          3.3318046336619873,
          3.336708838318508,
          3.3416130429750295,
          3.3465172476315503,
          3.3514214522880716,
          3.356325656944593,
          3.361229861601114,
          3.366134066257635,
          3.371038270914156,
          3.3759424755706773,
          3.380846680227198,
          3.3857508848837194,
          3.3906550895402403,
          3.3955592941967616,
          3.400463498853283,
          3.405367703509804,
          3.410271908166325,
          3.415176112822846,
          3.4200803174793672,
          3.424984522135888,
          3.4298887267924094,
          3.4347929314489303,
          3.4396971361054516,
          3.444601340761973,
          3.4495055454184937,
          3.454409750075015,
          3.459313954731536,
          3.464218159388057,
          3.469122364044578,
          3.4740265687010994,
          3.4789307733576202,
          3.4838349780141415,
          3.488739182670663,
          3.4936433873271837,
          3.498547591983705,
          3.503451796640226,
          3.508356001296747,
          3.513260205953268,
          3.5181644106097893,
          3.52306861526631,
          3.5279728199228315,
          3.532877024579353,
          3.5377812292358737,
          3.542685433892395,
          3.547589638548916,
          3.552493843205437,
          3.557398047861958,
          3.5623022525184793,
          3.567206457175,
          3.5721106618315215,
          3.577014866488043,
          3.5819190711445636,
          3.586823275801085,
          3.591727480457606,
          3.596631685114127,
          3.601535889770648,
          3.6064400944271693,
          3.61134429908369,
          3.6162485037402115,
          3.6211527083967328,
          3.6260569130532536,
          3.630961117709775,
          3.635865322366296,
          3.640769527022817,
          3.645673731679338,
          3.6505779363358593,
          3.65548214099238,
          3.6603863456489014,
          3.6652905503054227,
          3.6701947549619436,
          3.675098959618465,
          3.6800031642749857,
          3.684907368931507,
          3.689811573588028,
          3.694715778244549,
          3.69961998290107,
          3.7045241875575914,
          3.7094283922141127,
          3.7143325968706336,
          3.719236801527155,
          3.7241410061836757,
          3.729045210840197,
          3.733949415496718,
          3.738853620153239,
          3.74375782480976,
          3.7486620294662814,
          3.7535662341228027,
          3.7584704387793235,
          3.763374643435845,
          3.7682788480923657,
          3.773183052748887,
          3.778087257405408,
          3.782991462061929,
          3.78789566671845,
          3.7927998713749713,
          3.7977040760314926,
          3.8026082806880135,
          3.807512485344535,
          3.8124166900010557,
          3.817320894657577,
          3.822225099314098,
          3.827129303970619,
          3.8320335086271404,
          3.8369377132836613,
          3.8418419179401826,
          3.8467461225967035,
          3.8516503272532248,
          3.8565545319097456,
          3.861458736566267,
          3.866362941222788,
          3.871267145879309,
          3.8761713505358304,
          3.8810755551923513,
          3.8859797598488726,
          3.8908839645053934,
          3.8957881691619147,
          3.9006923738184356,
          3.905596578474957,
          3.9105007831314778,
          3.915404987787999,
          3.9203091924445204,
          3.9252133971010412,
          3.9301176017575625,
          3.9350218064140834,
          3.9399260110706047,
          3.9448302157271256,
          3.949734420383647,
          3.9546386250401677,
          3.959542829696689,
          3.9644470343532103,
          3.969351239009731,
          3.9742554436662525,
          3.9791596483227734,
          3.9840638529792947,
          3.9889680576358155,
          3.993872262292337,
          3.9987764669488577,
          4.0036806716053785,
          4.0085848762619,
          4.013489080918421,
          4.018393285574942,
          4.023297490231463,
          4.028201694887985,
          4.0331058995445055,
          4.038010104201026,
          4.042914308857547,
          4.047818513514069,
          4.05272271817059,
          4.057626922827111,
          4.062531127483632,
          4.067435332140153,
          4.072339536796674,
          4.077243741453196,
          4.082147946109717,
          4.087052150766238,
          4.091956355422759,
          4.09686056007928,
          4.101764764735801,
          4.106668969392322,
          4.111573174048844,
          4.116477378705365,
          4.121381583361885,
          4.126285788018406,
          4.131189992674928,
          4.136094197331449,
          4.14099840198797,
          4.1459026066444915,
          4.150806811301012,
          4.155711015957533,
          4.160615220614054,
          4.165519425270576,
          4.170423629927097,
          4.175327834583618,
          4.180232039240139,
          4.18513624389666,
          4.190040448553181,
          4.194944653209702,
          4.199848857866224,
          4.2047530625227445,
          4.209657267179265,
          4.214561471835786,
          4.219465676492308,
          4.224369881148829,
          4.22927408580535,
          4.234178290461871,
          4.239082495118392,
          4.243986699774913,
          4.248890904431434,
          4.253795109087956,
          4.258699313744477,
          4.2636035184009975,
          4.268507723057519,
          4.27341192771404,
          4.278316132370561,
          4.283220337027082,
          4.288124541683604,
          4.293028746340124,
          4.297932950996645,
          4.302837155653166,
          4.307741360309688,
          4.312645564966209,
          4.31754976962273,
          4.322453974279251,
          4.327358178935772,
          4.332262383592293,
          4.337166588248814,
          4.342070792905336,
          4.346974997561857,
          4.351879202218377,
          4.356783406874899,
          4.36168761153142,
          4.366591816187941,
          4.371496020844462,
          4.3764002255009835,
          4.381304430157504,
          4.386208634814025,
          4.391112839470546,
          4.396017044127068,
          4.400921248783589,
          4.40582545344011,
          4.410729658096631,
          4.415633862753152,
          4.420538067409673,
          4.425442272066194,
          4.430346476722716,
          4.4352506813792365,
          4.440154886035757,
          4.445059090692279,
          4.4499632953488,
          4.454867500005321,
          4.459771704661842,
          4.4646759093183634,
          4.469580113974884,
          4.474484318631405,
          4.479388523287926,
          4.484292727944448,
          4.489196932600969,
          4.4941011372574895,
          4.499005341914011,
          4.503909546570532,
          4.508813751227053,
          4.513717955883574,
          4.518622160540096,
          4.523526365196616,
          4.528430569853137,
          4.533334774509659,
          4.53823897916618,
          4.543143183822701,
          4.548047388479222,
          4.552951593135743,
          4.557855797792264,
          4.562760002448785,
          4.567664207105306,
          4.572568411761828,
          4.577472616418349,
          4.582376821074869,
          4.587281025731391,
          4.592185230387912,
          4.597089435044433,
          4.601993639700954,
          4.6068978443574755,
          4.611802049013996,
          4.616706253670517,
          4.621610458327039,
          4.62651466298356,
          4.631418867640081,
          4.636323072296602,
          4.641227276953123,
          4.646131481609644,
          4.651035686266165,
          4.655939890922687,
          4.660844095579208,
          4.6657483002357285,
          4.670652504892249,
          4.675556709548771,
          4.680460914205292,
          4.685365118861813,
          4.690269323518334,
          4.6951735281748554,
          4.700077732831376,
          4.704981937487897,
          4.709886142144419,
          4.71479034680094,
          4.719694551457461,
          4.7245987561139815,
          4.729502960770503,
          4.734407165427024,
          4.739311370083545,
          4.744215574740067,
          4.749119779396588,
          4.754023984053108,
          4.758928188709629,
          4.763832393366151,
          4.768736598022672,
          4.773640802679193,
          4.778545007335714,
          4.783449211992235,
          4.788353416648756,
          4.793257621305277,
          4.798161825961799,
          4.80306603061832,
          4.807970235274841,
          4.812874439931361,
          4.817778644587883,
          4.822682849244404,
          4.827587053900925,
          4.832491258557447,
          4.8373954632139675,
          4.842299667870488,
          4.847203872527009,
          4.852108077183531,
          4.857012281840052,
          4.861916486496573,
          4.866820691153094,
          4.871724895809615,
          4.876629100466136,
          4.881533305122657,
          4.886437509779179,
          4.8913417144357,
          4.8962459190922205,
          4.901150123748741,
          4.906054328405263,
          4.910958533061784,
          4.915862737718305,
          4.920766942374827,
          4.9256711470313475,
          4.930575351687868,
          4.935479556344389,
          4.940383761000911,
          4.945287965657432,
          4.950192170313953,
          4.9550963749704735,
          4.960000579626995,
          4.964904784283516,
          4.969808988940037,
          4.974713193596559,
          4.97961739825308,
          4.9845216029096004,
          4.989425807566121,
          4.994330012222643,
          4.999234216879164,
          5.004138421535685,
          5.0090426261922065,
          5.013946830848727,
          5.018851035505248,
          5.023755240161769,
          5.028659444818291,
          5.033563649474812,
          5.038467854131333,
          5.043372058787853,
          5.048276263444375,
          5.053180468100896,
          5.058084672757417,
          5.062988877413939,
          5.0678930820704595,
          5.07279728672698,
          5.077701491383501,
          5.082605696040023,
          5.087509900696544,
          5.092414105353065,
          5.0973183100095865,
          5.102222514666107,
          5.107126719322628,
          5.112030923979149,
          5.116935128635671,
          5.121839333292192,
          5.1267435379487125,
          5.131647742605234,
          5.136551947261755,
          5.141456151918276,
          5.146360356574797,
          5.151264561231319,
          5.1561687658878395,
          5.16107297054436,
          5.165977175200881,
          5.170881379857403,
          5.175785584513924,
          5.180689789170445,
          5.185593993826966,
          5.190498198483487,
          5.195402403140008,
          5.200306607796529,
          5.205210812453051,
          5.210115017109572,
          5.2150192217660924,
          5.219923426422614,
          5.224827631079135,
          5.229731835735656,
          5.234636040392177,
          5.2395402450486985,
          5.244444449705219,
          5.24934865436174,
          5.254252859018261,
          5.259157063674783,
          5.264061268331304,
          5.268965472987825,
          5.273869677644346,
          5.278773882300867,
          5.283678086957388,
          5.288582291613909,
          5.293486496270431,
          5.2983907009269515,
          5.303294905583472,
          5.308199110239994,
          5.313103314896515,
          5.318007519553036,
          5.322911724209557,
          5.3278159288660785,
          5.332720133522599,
          5.33762433817912,
          5.342528542835641,
          5.347432747492163,
          5.352336952148684,
          5.3572411568052045,
          5.362145361461726,
          5.367049566118247,
          5.371953770774768,
          5.376857975431289,
          5.381762180087811,
          5.3866663847443315,
          5.391570589400852,
          5.396474794057374,
          5.401378998713895,
          5.406283203370416,
          5.411187408026937,
          5.416091612683458,
          5.420995817339979,
          5.4259000219965,
          5.430804226653021,
          5.435708431309543,
          5.440612635966064,
          5.4455168406225845,
          5.450421045279106,
          5.455325249935627,
          5.460229454592148,
          5.465133659248669,
          5.4700378639051905,
          5.474942068561711,
          5.479846273218232,
          5.484750477874754,
          5.489654682531275,
          5.494558887187796,
          5.499463091844317,
          5.504367296500838,
          5.509271501157359,
          5.51417570581388,
          5.519079910470401,
          5.523984115126923,
          5.5288883197834435,
          5.533792524439964,
          5.538696729096486,
          5.543600933753007,
          5.548505138409528,
          5.553409343066049,
          5.5583135477225705,
          5.563217752379091,
          5.568121957035612,
          5.573026161692134,
          5.577930366348655,
          5.582834571005176,
          5.5877387756616965,
          5.592642980318218,
          5.597547184974739,
          5.60245138963126,
          5.607355594287782,
          5.612259798944303,
          5.6171640036008235,
          5.622068208257344,
          5.626972412913866,
          5.631876617570387,
          5.636780822226908,
          5.641685026883429,
          5.64658923153995,
          5.651493436196471,
          5.656397640852992,
          5.661301845509514,
          5.666206050166035,
          5.671110254822556,
          5.6760144594790765,
          5.680918664135598,
          5.685822868792119,
          5.69072707344864,
          5.695631278105162,
          5.7005354827616825,
          5.705439687418203,
          5.710343892074724,
          5.715248096731246,
          5.720152301387767,
          5.725056506044288,
          5.729960710700809,
          5.73486491535733,
          5.739769120013851,
          5.744673324670372,
          5.749577529326894,
          5.754481733983415,
          5.7593859386399355,
          5.764290143296456,
          5.769194347952978,
          5.774098552609499,
          5.77900275726602,
          5.783906961922542,
          5.7888111665790625,
          5.793715371235583,
          5.798619575892104,
          5.803523780548626,
          5.808427985205147,
          5.813332189861668,
          5.8182363945181885,
          5.82314059917471,
          5.828044803831231,
          5.832949008487752,
          5.837853213144274,
          5.842757417800795,
          5.8476616224573155,
          5.852565827113836,
          5.857470031770358,
          5.862374236426879,
          5.8672784410834,
          5.8721826457399215,
          5.877086850396442,
          5.881991055052963,
          5.886895259709484,
          5.891799464366006,
          5.896703669022527,
          5.901607873679048,
          5.9065120783355685,
          5.91141628299209,
          5.916320487648611,
          5.921224692305132,
          5.926128896961654,
          5.9310331016181745,
          5.935937306274695,
          5.940841510931216,
          5.945745715587738,
          5.950649920244259,
          5.95555412490078,
          5.9604583295573015,
          5.965362534213822,
          5.970266738870343,
          5.975170943526864,
          5.980075148183386,
          5.984979352839907,
          5.9898835574964275,
          5.994787762152948,
          5.99969196680947,
          6.004596171465991,
          6.009500376122512,
          6.014404580779034,
          6.0193087854355545,
          6.024212990092075,
          6.029117194748596,
          6.034021399405118,
          6.038925604061639,
          6.04382980871816,
          6.048734013374681,
          6.053638218031202,
          6.058542422687723,
          6.063446627344244,
          6.068350832000766,
          6.073255036657287,
          6.0781592413138075,
          6.083063445970328,
          6.08796765062685,
          6.092871855283371,
          6.097776059939892,
          6.1026802645964136,
          6.107584469252934,
          6.112488673909455,
          6.117392878565976,
          6.122297083222498,
          6.127201287879019,
          6.13210549253554,
          6.137009697192061,
          6.141913901848582,
          6.146818106505103,
          6.151722311161624,
          6.156626515818146,
          6.1615307204746665,
          6.166434925131187,
          6.171339129787709,
          6.17624333444423,
          6.181147539100751,
          6.186051743757272,
          6.1909559484137935,
          6.195860153070314,
          6.200764357726835,
          6.205668562383356,
          6.210572767039878,
          6.215476971696399,
          6.2203811763529195,
          6.225285381009441,
          6.230189585665962,
          6.235093790322483,
          6.239997994979004,
          6.244902199635526,
          6.2498064042920465,
          6.254710608948567,
          6.259614813605089,
          6.26451901826161,
          6.269423222918131,
          6.274327427574652,
          6.279231632231173,
          6.284135836887694,
          6.289040041544215,
          6.293944246200736,
          6.298848450857258,
          6.303752655513779,
          6.3086568601702995,
          6.313561064826821,
          6.318465269483342,
          6.323369474139863,
          6.328273678796384,
          6.3331778834529056,
          6.338082088109426,
          6.342986292765947,
          6.347890497422469,
          6.35279470207899,
          6.357698906735511,
          6.362603111392032,
          6.367507316048553,
          6.372411520705074,
          6.377315725361595,
          6.382219930018116,
          6.387124134674638,
          6.3920283393311585,
          6.396932543987679,
          6.401836748644201,
          6.406740953300722,
          6.411645157957243,
          6.416549362613764,
          6.4214535672702855,
          6.426357771926806,
          6.431261976583327,
          6.436166181239849,
          6.44107038589637,
          6.445974590552891,
          6.4508787952094115,
          6.455782999865933,
          6.460687204522454,
          6.465591409178975,
          6.470495613835496,
          6.475399818492018,
          6.4803040231485385,
          6.485208227805059,
          6.490112432461581,
          6.495016637118102,
          6.499920841774623,
          6.504825046431144,
          6.509729251087665,
          6.514633455744186,
          6.519537660400707,
          6.524441865057229,
          6.52934606971375,
          6.534250274370271,
          6.5391544790267915,
          6.544058683683313,
          6.548962888339834,
          6.553867092996355,
          6.558771297652876,
          6.563675502309398,
          6.568579706965918,
          6.573483911622439,
          6.578388116278961,
          6.583292320935482,
          6.588196525592003,
          6.593100730248524,
          6.598004934905045,
          6.602909139561566,
          6.607813344218087,
          6.612717548874609,
          6.61762175353113,
          6.6225259581876506,
          6.627430162844171,
          6.632334367500693,
          6.637238572157214,
          6.642142776813735,
          6.647046981470257,
          6.6519511861267775,
          6.656855390783298,
          6.661759595439819,
          6.666663800096341,
          6.671568004752862,
          6.676472209409383,
          6.6813764140659035,
          6.686280618722425,
          6.691184823378946,
          6.696089028035467,
          6.700993232691989,
          6.70589743734851,
          6.7108016420050305,
          6.715705846661551,
          6.720610051318073,
          6.725514255974594,
          6.730418460631115,
          6.735322665287637,
          6.740226869944157,
          6.745131074600678,
          6.750035279257199,
          6.754939483913721,
          6.759843688570242,
          6.764747893226763,
          6.7696520978832835,
          6.774556302539805,
          6.779460507196326,
          6.784364711852847,
          6.789268916509369,
          6.79417312116589,
          6.79907732582241,
          6.803981530478931,
          6.808885735135453,
          6.813789939791974,
          6.818694144448495,
          6.8235983491050165,
          6.828502553761537,
          6.833406758418058,
          6.838310963074579,
          6.843215167731101,
          6.848119372387622,
          6.8530235770441426,
          6.857927781700663,
          6.862831986357185,
          6.867736191013706,
          6.872640395670227,
          6.877544600326749,
          6.8824488049832695,
          6.88735300963979,
          6.892257214296311,
          6.897161418952833,
          6.902065623609354,
          6.906969828265875,
          6.911874032922396,
          6.916778237578917,
          6.921682442235438,
          6.926586646891959,
          6.931490851548481,
          6.936395056205002,
          6.9412992608615225,
          6.946203465518043,
          6.951107670174565,
          6.956011874831086,
          6.960916079487607,
          6.965820284144129,
          6.970724488800649,
          6.97562869345717,
          6.980532898113691,
          6.985437102770213,
          6.990341307426734,
          6.995245512083255,
          7.000149716739776,
          7.005053921396297,
          7.009958126052818,
          7.014862330709339,
          7.019766535365861,
          7.024670740022382,
          7.029574944678902,
          7.034479149335423,
          7.039383353991945,
          7.044287558648466,
          7.049191763304987,
          7.0540959679615085,
          7.059000172618029,
          7.06390437727455,
          7.068808581931071,
          7.073712786587593,
          7.078616991244114,
          7.083521195900635,
          7.088425400557156,
          7.093329605213677,
          7.098233809870198,
          7.103138014526719,
          7.108042219183241,
          7.1129464238397615,
          7.117850628496282,
          7.122754833152804,
          7.127659037809325,
          7.132563242465846,
          7.137467447122367,
          7.142371651778888,
          7.147275856435409,
          7.15218006109193,
          7.157084265748451,
          7.161988470404973,
          7.166892675061494,
          7.1717968797180145,
          7.176701084374536,
          7.181605289031057,
          7.186509493687578,
          7.191413698344099,
          7.196317903000621,
          7.201222107657141,
          7.206126312313662,
          7.211030516970184,
          7.215934721626705,
          7.220838926283226,
          7.225743130939747,
          7.230647335596268,
          7.235551540252789,
          7.24045574490931,
          7.245359949565831,
          7.250264154222353,
          7.255168358878874,
          7.260072563535394,
          7.264976768191916,
          7.269880972848437,
          7.274785177504958,
          7.279689382161479,
          7.2845935868180005,
          7.289497791474521,
          7.294401996131042,
          7.299306200787564,
          7.304210405444085,
          7.309114610100606,
          7.314018814757127,
          7.318923019413648,
          7.323827224070169,
          7.32873142872669,
          7.333635633383211,
          7.338539838039733,
          7.3434440426962535,
          7.348348247352774,
          7.353252452009296,
          7.358156656665817,
          7.363060861322338,
          7.367965065978859,
          7.3728692706353804,
          7.377773475291901,
          7.382677679948422,
          7.387581884604944,
          7.392486089261465,
          7.397390293917986,
          7.4022944985745065,
          7.407198703231028,
          7.412102907887549,
          7.41700711254407,
          7.421911317200591,
          7.426815521857113,
          7.431719726513633,
          7.436623931170154,
          7.441528135826676,
          7.446432340483197,
          7.451336545139718,
          7.456240749796239,
          7.46114495445276,
          7.466049159109281,
          7.470953363765802,
          7.475857568422324,
          7.480761773078845,
          7.485665977735366,
          7.490570182391886,
          7.495474387048408,
          7.500378591704929,
          7.50528279636145,
          7.510187001017971,
          7.5150912056744925,
          7.519995410331013,
          7.524899614987534,
          7.529803819644056,
          7.534708024300577,
          7.539612228957098,
          7.544516433613619,
          7.54942063827014,
          7.554324842926661,
          7.559229047583182,
          7.564133252239704,
          7.569037456896225,
          7.5739416615527455,
          7.578845866209266,
          7.583750070865788,
          7.588654275522309,
          7.59355848017883,
          7.598462684835352,
          7.6033668894918724,
          7.608271094148393,
          7.613175298804914,
          7.618079503461436,
          7.622983708117957,
          7.627887912774478,
          7.6327921174309985,
          7.63769632208752,
          7.642600526744041,
          7.647504731400562,
          7.652408936057084,
          7.657313140713605,
          7.662217345370125,
          7.667121550026646,
          7.672025754683168,
          7.676929959339689,
          7.68183416399621,
          7.6867383686527315,
          7.691642573309252,
          7.696546777965773,
          7.701450982622294,
          7.706355187278816,
          7.711259391935337,
          7.716163596591858,
          7.721067801248378,
          7.7259720059049,
          7.730876210561421,
          7.735780415217942,
          7.740684619874464,
          7.7455888245309845,
          7.750493029187505,
          7.755397233844026,
          7.760301438500548,
          7.765205643157069,
          7.77010984781359,
          7.7750140524701115,
          7.779918257126632,
          7.784822461783153,
          7.789726666439674,
          7.794630871096196,
          7.799535075752717,
          7.8044392804092375,
          7.809343485065758,
          7.81424768972228,
          7.819151894378801,
          7.824056099035322,
          7.828960303691844,
          7.8338645083483645,
          7.838768713004885,
          7.843672917661406,
          7.848577122317928,
          7.853481326974449,
          7.85838553163097,
          7.863289736287491,
          7.868193940944012,
          7.873098145600533,
          7.878002350257054,
          7.882906554913576,
          7.887810759570097,
          7.8927149642266174,
          7.897619168883138,
          7.90252337353966,
          7.907427578196181,
          7.912331782852702,
          7.9172359875092235,
          7.922140192165744,
          7.927044396822265,
          7.931948601478786,
          7.936852806135308,
          7.941757010791829,
          7.94666121544835,
          7.951565420104871,
          7.956469624761392,
          7.961373829417913,
          7.966278034074434,
          7.971182238730956,
          7.9760864433874765,
          7.980990648043997,
          7.985894852700518,
          7.99079905735704,
          7.995703262013561,
          8.00060746667008,
          8.005511671326603,
          8.010415875983124,
          8.015320080639645,
          8.020224285296166,
          8.025128489952687,
          8.030032694609208,
          8.034936899265729,
          8.039841103922251,
          8.044745308578772,
          8.049649513235293,
          8.054553717891814,
          8.059457922548335,
          8.064362127204856,
          8.069266331861376,
          8.074170536517897,
          8.079074741174418,
          8.08397894583094,
          8.088883150487462,
          8.093787355143983,
          8.098691559800503,
          8.103595764457024,
          8.108499969113545,
          8.113404173770066,
          8.118308378426589,
          8.12321258308311,
          8.12811678773963,
          8.133020992396151,
          8.137925197052672,
          8.142829401709193,
          8.147733606365714,
          8.152637811022235,
          8.157542015678757,
          8.162446220335278,
          8.167350424991799,
          8.17225462964832,
          8.17715883430484,
          8.182063038961362,
          8.186967243617882,
          8.191871448274405,
          8.196775652930926,
          8.201679857587447,
          8.206584062243968,
          8.211488266900488,
          8.21639247155701,
          8.22129667621353,
          8.226200880870053,
          8.231105085526574,
          8.236009290183095,
          8.240913494839615,
          8.245817699496136,
          8.250721904152657,
          8.255626108809178,
          8.2605303134657,
          8.265434518122222,
          8.270338722778742,
          8.275242927435263,
          8.280147132091784,
          8.285051336748305,
          8.289955541404826,
          8.294859746061348,
          8.29976395071787,
          8.30466815537439,
          8.309572360030911,
          8.314476564687432,
          8.319380769343953,
          8.324284974000474,
          8.329189178656994,
          8.334093383313517,
          8.338997587970038,
          8.343901792626559,
          8.34880599728308,
          8.3537102019396,
          8.358614406596121,
          8.363518611252642,
          8.368422815909165,
          8.373327020565686,
          8.378231225222207,
          8.383135429878728,
          8.388039634535248,
          8.39294383919177,
          8.39784804384829,
          8.402752248504813,
          8.407656453161334,
          8.412560657817854,
          8.417464862474375,
          8.422369067130896,
          8.427273271787417,
          8.432177476443938,
          8.43708168110046,
          8.441985885756981,
          8.446890090413502,
          8.451794295070023,
          8.456698499726544,
          8.461602704383065,
          8.466506909039586,
          8.471411113696108,
          8.47631531835263,
          8.48121952300915,
          8.486123727665671,
          8.491027932322192,
          8.495932136978713,
          8.500836341635233,
          8.505740546291754,
          8.510644750948277,
          8.515548955604798,
          8.520453160261319,
          8.52535736491784,
          8.53026156957436,
          8.535165774230881,
          8.540069978887402,
          8.544974183543925,
          8.549878388200446,
          8.554782592856967,
          8.559686797513487,
          8.564591002170008,
          8.569495206826529,
          8.57439941148305,
          8.579303616139573,
          8.584207820796093,
          8.589112025452614,
          8.594016230109135,
          8.598920434765656,
          8.603824639422177,
          8.608728844078698,
          8.61363304873522,
          8.618537253391741,
          8.623441458048262,
          8.628345662704783,
          8.633249867361304,
          8.638154072017825,
          8.643058276674346,
          8.647962481330868,
          8.652866685987389,
          8.65777089064391,
          8.66267509530043,
          8.667579299956952,
          8.672483504613473,
          8.677387709269993,
          8.682291913926516,
          8.687196118583037,
          8.692100323239558,
          8.697004527896079,
          8.7019087325526,
          8.70681293720912,
          8.711717141865641,
          8.716621346522162,
          8.721525551178685,
          8.726429755835206,
          8.731333960491726,
          8.736238165148247,
          8.741142369804768,
          8.746046574461289,
          8.75095077911781,
          8.755854983774332,
          8.760759188430853,
          8.765663393087374,
          8.770567597743895,
          8.775471802400416,
          8.780376007056937,
          8.785280211713458,
          8.79018441636998,
          8.795088621026501,
          8.799992825683022,
          8.804897030339543,
          8.809801234996064,
          8.814705439652585,
          8.819609644309105,
          8.824513848965628,
          8.829418053622149,
          8.83432225827867,
          8.83922646293519,
          8.844130667591712,
          8.849034872248232,
          8.853939076904753,
          8.858843281561276,
          8.863747486217797,
          8.868651690874318,
          8.873555895530838,
          8.87846010018736,
          8.88336430484388,
          8.888268509500401,
          8.893172714156922,
          8.898076918813445,
          8.902981123469965,
          8.907885328126486,
          8.912789532783007,
          8.917693737439528,
          8.922597942096049,
          8.92750214675257,
          8.932406351409092,
          8.937310556065613,
          8.942214760722134,
          8.947118965378655,
          8.952023170035176,
          8.956927374691697,
          8.961831579348218,
          8.96673578400474,
          8.971639988661261,
          8.976544193317782,
          8.981448397974303,
          8.986352602630824,
          8.991256807287344,
          8.996161011943865,
          9.001065216600388,
          9.005969421256909,
          9.01087362591343,
          9.01577783056995,
          9.020682035226471,
          9.025586239882992,
          9.030490444539513,
          9.035394649196036,
          9.040298853852557,
          9.045203058509077,
          9.050107263165598,
          9.05501146782212,
          9.05991567247864,
          9.064819877135161,
          9.069724081791682,
          9.074628286448204,
          9.079532491104725,
          9.084436695761246,
          9.089340900417767,
          9.094245105074288,
          9.099149309730809,
          9.10405351438733,
          9.108957719043852,
          9.113861923700373,
          9.118766128356894,
          9.123670333013415,
          9.128574537669936,
          9.133478742326457,
          9.138382946982977,
          9.1432871516395,
          9.14819135629602,
          9.153095560952542,
          9.157999765609063,
          9.162903970265583,
          9.167808174922104,
          9.172712379578625,
          9.177616584235148,
          9.182520788891669,
          9.18742499354819,
          9.19232919820471,
          9.197233402861231,
          9.202137607517752,
          9.207041812174273,
          9.211946016830796,
          9.216850221487316,
          9.221754426143837,
          9.226658630800358,
          9.231562835456879,
          9.2364670401134,
          9.24137124476992,
          9.246275449426443,
          9.251179654082964,
          9.256083858739485,
          9.260988063396006,
          9.265892268052527,
          9.270796472709048,
          9.275700677365569,
          9.28060488202209,
          9.285509086678612,
          9.290413291335133,
          9.295317495991654,
          9.300221700648175,
          9.305125905304696,
          9.310030109961216,
          9.314934314617737,
          9.31983851927426,
          9.32474272393078,
          9.329646928587302,
          9.334551133243822,
          9.339455337900343,
          9.344359542556864,
          9.349263747213385,
          9.354167951869908,
          9.359072156526429,
          9.36397636118295,
          9.36888056583947,
          9.373784770495991,
          9.378688975152512,
          9.383593179809033,
          9.388497384465555,
          9.393401589122076,
          9.398305793778597,
          9.403209998435118,
          9.408114203091639,
          9.41301840774816,
          9.41792261240468,
          9.422826817061203,
          9.427731021717724,
          9.432635226374245,
          9.437539431030766,
          9.442443635687287,
          9.447347840343808,
          9.452252045000328,
          9.45715624965685,
          9.462060454313372,
          9.466964658969893,
          9.471868863626414,
          9.476773068282935,
          9.481677272939455,
          9.486581477595976,
          9.491485682252497,
          9.49638988690902,
          9.50129409156554,
          9.506198296222061,
          9.511102500878582,
          9.516006705535103,
          9.520910910191624,
          9.525815114848145,
          9.530719319504668,
          9.535623524161188,
          9.54052772881771,
          9.54543193347423,
          9.550336138130751,
          9.555240342787272,
          9.560144547443793,
          9.565048752100315,
          9.569952956756836,
          9.574857161413357,
          9.579761366069878,
          9.584665570726399,
          9.58956977538292,
          9.59447398003944,
          9.599378184695963,
          9.604282389352484,
          9.609186594009005,
          9.614090798665526,
          9.618995003322047,
          9.623899207978567,
          9.628803412635088,
          9.633707617291611,
          9.638611821948132,
          9.643516026604653,
          9.648420231261174,
          9.653324435917694,
          9.658228640574215,
          9.663132845230736,
          9.668037049887257,
          9.67294125454378,
          9.6778454592003,
          9.682749663856821,
          9.687653868513342,
          9.692558073169863,
          9.697462277826384,
          9.702366482482905,
          9.707270687139427,
          9.712174891795948,
          9.71707909645247,
          9.72198330110899,
          9.72688750576551,
          9.731791710422032,
          9.736695915078553,
          9.741600119735075,
          9.746504324391596,
          9.751408529048117,
          9.756312733704638,
          9.761216938361159,
          9.76612114301768,
          9.7710253476742,
          9.775929552330723,
          9.780833756987244,
          9.785737961643765,
          9.790642166300286,
          9.795546370956806,
          9.800450575613327,
          9.805354780269848,
          9.81025898492637,
          9.815163189582892,
          9.820067394239413,
          9.824971598895933,
          9.829875803552454,
          9.834780008208975,
          9.839684212865496,
          9.844588417522017,
          9.84949262217854,
          9.85439682683506,
          9.859301031491581,
          9.864205236148102,
          9.869109440804623
         ],
         "y": [
          5.482088122605369,
          4.433812260536401,
          4.433812260536401,
          4.433812260536401,
          4.433812260536401,
          4.433812260536401,
          4.433812260536401,
          4.433812260536401,
          4.433812260536401,
          4.433812260536401,
          4.433812260536401,
          4.433812260536401,
          4.433812260536401,
          4.433812260536401,
          4.433812260536401,
          4.433812260536401,
          4.433812260536401,
          4.433812260536401,
          4.433812260536401,
          4.433812260536401,
          4.433812260536401,
          4.433812260536401,
          3.313333333333338,
          3.313333333333338,
          3.313333333333338,
          3.313333333333338,
          3.313333333333338,
          3.313333333333338,
          3.313333333333338,
          3.313333333333338,
          3.313333333333338,
          3.313333333333338,
          3.313333333333338,
          3.313333333333338,
          3.313333333333338,
          3.313333333333338,
          3.313333333333338,
          3.313333333333338,
          3.313333333333338,
          3.6595402298850574,
          3.601954022988506,
          3.601954022988506,
          3.601954022988506,
          3.601954022988506,
          3.601954022988506,
          3.601954022988506,
          3.601954022988506,
          3.601954022988506,
          3.601954022988506,
          3.601954022988506,
          3.601954022988506,
          3.601954022988506,
          3.601954022988506,
          3.601954022988506,
          3.601954022988506,
          3.601954022988506,
          3.601954022988506,
          3.5681609195402295,
          3.5681609195402295,
          3.5681609195402295,
          5.150536398467422,
          5.278314176245199,
          5.278314176245199,
          5.278314176245199,
          5.278314176245199,
          5.278314176245199,
          5.278314176245199,
          5.278314176245199,
          5.278314176245199,
          5.278314176245199,
          5.278314176245199,
          5.278314176245199,
          5.278314176245199,
          5.278314176245199,
          5.278314176245199,
          5.278314176245199,
          5.278314176245199,
          5.278314176245199,
          5.172222222222212,
          4.074176245210725,
          4.074176245210725,
          4.074176245210725,
          4.074176245210725,
          4.074176245210725,
          4.074176245210725,
          4.074176245210725,
          4.074176245210725,
          4.021762452107277,
          4.021762452107277,
          4.021762452107277,
          4.021762452107277,
          4.021762452107277,
          4.021762452107277,
          4.021762452107277,
          4.021762452107277,
          3.0486590038314154,
          3.0486590038314154,
          1.7998084291187728,
          1.7998084291187728,
          1.7998084291187728,
          1.7998084291187728,
          1.7998084291187728,
          1.7998084291187728,
          1.7998084291187728,
          1.7998084291187728,
          1.7998084291187728,
          1.7998084291187728,
          1.7998084291187728,
          1.7897126436781599,
          1.7897126436781599,
          1.7897126436781599,
          1.7897126436781599,
          1.7897126436781599,
          1.7897126436781599,
          1.7897126436781599,
          1.7897126436781599,
          1.7897126436781599,
          1.7897126436781599,
          1.7897126436781599,
          1.7897126436781599,
          1.7897126436781599,
          1.7897126436781599,
          1.7897126436781599,
          1.7897126436781599,
          1.7897126436781599,
          1.4421264367816091,
          1.1905172413793113,
          1.1905172413793113,
          1.1905172413793113,
          1.1905172413793113,
          1.1905172413793113,
          1.1905172413793113,
          1.1905172413793113,
          1.1905172413793113,
          1.1905172413793113,
          1.3905938697318012,
          1.3905938697318012,
          1.3905938697318012,
          1.3905938697318012,
          1.3905938697318012,
          1.3905938697318012,
          1.3905938697318012,
          1.3905938697318012,
          1.7243869731800772,
          1.7243869731800772,
          1.7243869731800772,
          1.7243869731800772,
          1.7243869731800772,
          1.7243869731800772,
          1.7243869731800772,
          1.7243869731800772,
          1.7243869731800772,
          1.7243869731800772,
          1.7243869731800772,
          2.1882758620689664,
          2.1882758620689664,
          2.1933524904214563,
          2.1933524904214563,
          2.1933524904214563,
          2.1933524904214563,
          2.1933524904214563,
          2.1933524904214563,
          2.1933524904214563,
          2.1933524904214563,
          2.1933524904214563,
          2.1933524904214563,
          2.1933524904214563,
          2.1933524904214563,
          2.1933524904214563,
          2.1933524904214563,
          2.1933524904214563,
          3.918678160919538,
          3.918678160919538,
          3.8841954022988485,
          3.8687931034482728,
          3.8687931034482728,
          3.8687931034482728,
          3.8687931034482728,
          3.8687931034482728,
          3.8687931034482728,
          3.8687931034482728,
          3.8687931034482728,
          3.8687931034482728,
          3.8687931034482728,
          3.8610153256704947,
          3.8610153256704947,
          3.8610153256704947,
          3.8610153256704947,
          3.8610153256704947,
          3.8610153256704947,
          3.8610153256704947,
          4.020325670498079,
          4.020325670498079,
          4.020325670498079,
          4.020325670498079,
          4.020325670498079,
          4.020325670498079,
          4.020325670498079,
          4.020325670498079,
          4.020325670498079,
          10.149846743295024,
          10.149846743295024,
          10.149846743295024,
          10.149846743295024,
          10.149846743295024,
          10.149846743295024,
          10.149846743295024,
          10.149846743295024,
          10.149846743295024,
          10.149846743295024,
          10.149846743295024,
          10.149846743295024,
          10.149846743295024,
          10.149846743295024,
          10.149846743295024,
          10.149846743295024,
          10.149846743295024,
          10.149846743295024,
          10.149846743295024,
          10.149846743295024,
          10.149846743295024,
          10.22570881226054,
          10.22570881226054,
          10.22570881226054,
          10.22570881226054,
          10.22570881226054,
          10.22570881226054,
          10.22570881226054,
          10.22570881226054,
          10.22570881226054,
          10.286091954022993,
          10.286091954022993,
          10.286091954022993,
          10.286091954022993,
          10.286091954022993,
          10.286091954022993,
          10.286091954022993,
          10.286091954022993,
          10.286091954022993,
          10.286091954022993,
          10.286091954022993,
          10.286091954022993,
          10.286091954022993,
          10.286091954022993,
          10.286091954022993,
          10.286091954022993,
          10.286091954022993,
          10.286091954022993,
          10.286091954022993,
          5.664061302681984,
          5.664061302681984,
          5.664061302681984,
          5.664061302681984,
          5.664061302681984,
          5.664061302681984,
          5.664061302681984,
          5.664061302681984,
          5.664061302681984,
          4.055172413793095,
          4.055172413793095,
          4.055172413793095,
          4.055172413793095,
          4.055172413793095,
          4.055172413793095,
          4.055172413793095,
          4.055172413793095,
          4.055172413793095,
          4.055172413793095,
          4.055172413793095,
          4.055172413793095,
          4.055172413793095,
          4.055172413793095,
          4.055172413793095,
          4.055172413793095,
          4.055172413793095,
          4.055172413793095,
          4.055172413793095,
          4.055172413793095,
          4.051954022988496,
          4.051954022988496,
          4.051954022988496,
          4.051954022988496,
          4.051954022988496,
          4.051954022988496,
          4.051954022988496,
          4.051954022988496,
          4.051954022988496,
          4.051954022988496,
          4.051954022988496,
          4.051954022988496,
          4.051954022988496,
          4.051954022988496,
          4.051954022988496,
          4.051954022988496,
          4.051954022988496,
          4.051954022988496,
          4.051954022988496,
          4.051954022988496,
          4.051954022988496,
          4.051954022988496,
          4.051954022988496,
          4.051954022988496,
          4.051954022988496,
          4.051954022988496,
          4.051954022988496,
          4.051954022988496,
          4.051954022988496,
          4.051954022988496,
          4.051954022988496,
          4.117701149425278,
          4.117701149425278,
          4.117701149425278,
          4.117701149425278,
          4.117701149425278,
          4.161685823754779,
          4.161685823754779,
          4.161685823754779,
          4.161685823754779,
          4.161685823754779,
          4.161685823754779,
          4.161685823754779,
          4.161685823754779,
          4.161685823754779,
          4.161685823754779,
          4.161685823754779,
          4.161685823754779,
          4.161685823754779,
          4.161685823754779,
          4.161685823754779,
          4.161685823754779,
          4.161685823754779,
          4.161685823754779,
          4.161685823754779,
          4.161685823754779,
          4.161685823754779,
          4.161685823754779,
          4.161685823754779,
          3.4994636015325593,
          3.4994636015325593,
          3.4994636015325593,
          3.4994636015325593,
          3.4994636015325593,
          3.2127969348658927,
          3.2127969348658927,
          3.2127969348658927,
          3.2127969348658927,
          3.2127969348658927,
          3.2127969348658927,
          3.2127969348658927,
          3.2127969348658927,
          3.2127969348658927,
          3.2127969348658927,
          3.2127969348658927,
          3.2127969348658927,
          3.2127969348658927,
          3.2127969348658927,
          3.2127969348658927,
          3.4429118773946294,
          3.4429118773946294,
          3.4429118773946294,
          3.4429118773946294,
          3.4429118773946294,
          3.5293486590038254,
          3.5293486590038254,
          3.5293486590038254,
          3.5293486590038254,
          4.1693486590038304,
          4.1693486590038304,
          4.1693486590038304,
          4.1693486590038304,
          4.1693486590038304,
          4.602681992337166,
          4.602681992337166,
          4.602681992337166,
          4.602681992337166,
          4.602681992337166,
          4.602681992337166,
          4.602681992337166,
          4.602681992337166,
          4.602681992337166,
          4.602681992337166,
          4.602681992337166,
          4.602681992337166,
          4.589042145593871,
          4.589042145593871,
          4.589042145593871,
          4.589042145593871,
          4.589042145593871,
          4.589042145593871,
          4.589042145593871,
          4.589042145593871,
          4.589042145593871,
          4.559042145593872,
          4.559042145593872,
          4.559042145593872,
          4.559042145593872,
          4.559042145593872,
          4.559042145593872,
          4.559042145593872,
          4.559042145593872,
          4.591321839080463,
          4.591321839080463,
          4.591321839080463,
          4.591321839080463,
          4.591321839080463,
          4.591321839080463,
          4.591321839080463,
          4.591321839080463,
          4.591321839080463,
          4.591321839080463,
          4.591321839080463,
          4.591321839080463,
          4.591321839080463,
          4.591321839080463,
          4.591321839080463,
          4.591321839080463,
          4.591321839080463,
          4.591321839080463,
          4.591321839080463,
          4.591321839080463,
          4.615459770114946,
          4.615459770114946,
          4.615459770114946,
          4.615459770114946,
          4.615459770114946,
          4.615459770114946,
          4.615459770114946,
          4.615459770114946,
          4.615459770114946,
          4.615459770114946,
          4.615459770114946,
          4.615459770114946,
          4.615459770114946,
          4.615459770114946,
          4.615459770114946,
          4.615459770114946,
          4.615459770114946,
          4.615459770114946,
          4.615459770114946,
          4.615459770114946,
          4.615459770114946,
          4.615459770114946,
          4.615459770114946,
          4.615459770114946,
          4.615459770114946,
          4.615459770114946,
          4.615459770114946,
          4.615459770114946,
          4.615459770114946,
          4.615459770114946,
          5.0043486590038295,
          5.0043486590038295,
          5.0043486590038295,
          5.0043486590038295,
          5.0043486590038295,
          5.0043486590038295,
          5.0043486590038295,
          5.0043486590038295,
          5.0043486590038295,
          5.0043486590038295,
          5.0043486590038295,
          5.0043486590038295,
          5.0043486590038295,
          5.0043486590038295,
          5.0043486590038295,
          5.0043486590038295,
          5.0043486590038295,
          5.0043486590038295,
          5.0043486590038295,
          5.0043486590038295,
          5.0043486590038295,
          4.66657088122605,
          4.66657088122605,
          4.66657088122605,
          4.66657088122605,
          4.66657088122605,
          3.4743486590038253,
          3.4743486590038253,
          3.4743486590038253,
          3.476187739463596,
          3.476187739463596,
          3.476187739463596,
          3.476187739463596,
          3.476187739463596,
          3.30208812260536,
          3.30208812260536,
          3.30208812260536,
          3.30208812260536,
          3.30208812260536,
          3.30208812260536,
          3.30208812260536,
          3.30208812260536,
          3.30208812260536,
          3.2009770114942495,
          3.2009770114942495,
          3.2009770114942495,
          3.2009770114942495,
          3.2009770114942495,
          3.2009770114942495,
          3.2009770114942495,
          3.2009770114942495,
          3.2009770114942495,
          3.2009770114942495,
          3.2009770114942495,
          4.07595785440613,
          4.07595785440613,
          4.07595785440613,
          4.07595785440613,
          4.07595785440613,
          4.07595785440613,
          4.07595785440613,
          4.07595785440613,
          4.07595785440613,
          3.736609195402303,
          3.736609195402303,
          3.736609195402303,
          3.736609195402303,
          3.736609195402303,
          3.736609195402303,
          3.736609195402303,
          3.736609195402303,
          2.268659003831424,
          2.216398467432957,
          2.216398467432957,
          2.216398467432957,
          2.216398467432957,
          2.216398467432957,
          2.216398467432957,
          2.216398467432957,
          2.216398467432957,
          2.216398467432957,
          2.216398467432957,
          2.216398467432957,
          2.216398467432957,
          2.326590038314183,
          2.326590038314183,
          2.326590038314183,
          2.326590038314183,
          2.326590038314183,
          2.326590038314183,
          2.326590038314183,
          2.326590038314183,
          2.4044444444444464,
          2.4044444444444464,
          2.4044444444444464,
          2.4044444444444464,
          2.4044444444444464,
          2.4044444444444464,
          2.4044444444444464,
          2.4044444444444464,
          2.4044444444444464,
          3.9041570881226044,
          3.9041570881226044,
          3.9041570881226044,
          3.9041570881226044,
          3.9041570881226044,
          3.9041570881226044,
          3.9041570881226044,
          3.9041570881226044,
          3.8854022988505745,
          3.8854022988505745,
          3.8854022988505745,
          3.8854022988505745,
          3.8854022988505745,
          3.8854022988505745,
          3.8854022988505745,
          3.8854022988505745,
          3.8854022988505745,
          3.8854022988505745,
          3.8854022988505745,
          3.8854022988505745,
          3.8854022988505745,
          3.8854022988505745,
          3.8854022988505745,
          3.8854022988505745,
          3.8854022988505745,
          3.8854022988505745,
          3.8854022988505745,
          3.8854022988505745,
          3.8854022988505745,
          2.1247126436781647,
          2.1247126436781647,
          2.1247126436781647,
          2.1247126436781647,
          2.1247126436781647,
          2.1247126436781647,
          2.1247126436781647,
          2.1247126436781647,
          2.1247126436781647,
          2.1247126436781647,
          2.1247126436781647,
          2.1247126436781647,
          2.1247126436781647,
          2.1247126436781647,
          2.1247126436781647,
          2.1247126436781647,
          2.1247126436781647,
          2.1247126436781647,
          2.1247126436781647,
          2.1247126436781647,
          2.1247126436781647,
          2.1247126436781647,
          2.1247126436781647,
          2.1247126436781647,
          2.1247126436781647,
          2.1247126436781647,
          2.1247126436781647,
          2.1247126436781647,
          2.1247126436781647,
          2.1247126436781647,
          2.1247126436781647,
          2.1247126436781647,
          2.1247126436781647,
          2.1177777777777815,
          2.1177777777777815,
          2.1177777777777815,
          2.1177777777777815,
          2.1177777777777815,
          2.1177777777777815,
          2.1177777777777815,
          2.1177777777777815,
          2.0612260536398503,
          2.0612260536398503,
          2.0612260536398503,
          2.0612260536398503,
          2.0612260536398503,
          2.0612260536398503,
          2.0612260536398503,
          2.082203065134103,
          2.082203065134103,
          2.1391954022988533,
          2.1391954022988533,
          2.1391954022988533,
          2.1391954022988533,
          2.1391954022988533,
          2.1391954022988533,
          2.1391954022988533,
          2.279195402298853,
          2.279195402298853,
          2.279195402298853,
          2.279195402298853,
          2.279195402298853,
          2.279195402298853,
          2.279195402298853,
          2.279195402298853,
          2.279195402298853,
          2.279195402298853,
          2.279195402298853,
          2.279195402298853,
          2.279195402298853,
          1.7274712643678192,
          1.7274712643678192,
          1.7274712643678192,
          1.7274712643678192,
          1.7274712643678192,
          1.7274712643678192,
          1.7274712643678192,
          1.7274712643678192,
          1.7313984674329534,
          1.9500191570881211,
          1.9500191570881211,
          1.9500191570881211,
          1.9500191570881211,
          1.9500191570881211,
          1.9500191570881211,
          1.9500191570881211,
          2.675593869731797,
          2.675593869731797,
          2.744559386973175,
          2.744559386973175,
          2.744559386973175,
          2.744559386973175,
          2.744559386973175,
          2.744559386973175,
          2.744559386973175,
          2.744559386973175,
          2.744559386973175,
          2.744559386973175,
          2.744559386973175,
          2.744559386973175,
          2.744559386973175,
          2.744559386973175,
          2.744559386973175,
          2.744559386973175,
          2.744559386973175,
          2.744559386973175,
          2.744559386973175,
          2.744559386973175,
          2.744559386973175,
          2.744559386973175,
          2.744559386973175,
          2.744559386973175,
          2.744559386973175,
          2.744559386973175,
          2.744559386973175,
          2.744559386973175,
          2.744559386973175,
          2.744559386973175,
          2.744559386973175,
          2.744559386973175,
          2.744559386973175,
          2.744559386973175,
          2.744559386973175,
          2.744559386973175,
          2.744559386973175,
          2.744559386973175,
          2.744559386973175,
          2.744559386973175,
          2.744559386973175,
          2.744559386973175,
          2.744559386973175,
          2.744559386973175,
          2.744559386973175,
          2.744559386973175,
          2.744559386973175,
          2.744559386973175,
          2.744559386973175,
          2.744559386973175,
          2.744559386973175,
          2.744559386973175,
          2.744559386973175,
          2.744559386973175,
          2.744559386973175,
          2.744559386973175,
          2.744559386973175,
          2.744559386973175,
          2.744559386973175,
          2.744559386973175,
          2.744559386973175,
          2.744559386973175,
          2.744559386973175,
          2.744559386973175,
          2.744559386973175,
          2.744559386973175,
          2.744559386973175,
          2.744559386973175,
          4.084750957854394,
          4.084750957854394,
          4.015095785440602,
          4.015095785440602,
          4.015095785440602,
          4.015095785440602,
          4.015095785440602,
          4.015095785440602,
          4.015095785440602,
          2.2225287356321797,
          2.208869731800762,
          1.3178352490421386,
          1.3178352490421386,
          1.3178352490421386,
          1.3178352490421386,
          1.3178352490421386,
          1.3178352490421386,
          1.3178352490421386,
          1.3178352490421386,
          1.3856896551724063,
          1.3856896551724063,
          1.3856896551724063,
          1.3856896551724063,
          1.3856896551724063,
          1.3856896551724063,
          1.3856896551724063,
          1.3856896551724063,
          1.3856896551724063,
          1.3856896551724063,
          1.3856896551724063,
          1.3856896551724063,
          1.3856896551724063,
          1.3856896551724063,
          1.3856896551724063,
          1.3856896551724063,
          1.3856896551724063,
          1.3856896551724063,
          1.3856896551724063,
          1.3856896551724063,
          1.3856896551724063,
          1.3856896551724063,
          1.3856896551724063,
          1.3856896551724063,
          1.3856896551724063,
          1.3856896551724063,
          1.3856896551724063,
          1.3856896551724063,
          1.3856896551724063,
          1.3856896551724063,
          1.3856896551724063,
          1.3856896551724063,
          1.3856896551724063,
          1.3856896551724063,
          1.3856896551724063,
          1.3856896551724063,
          1.3856896551724063,
          1.3856896551724063,
          1.3856896551724063,
          1.3856896551724063,
          1.3856896551724063,
          1.3856896551724063,
          1.3856896551724063,
          1.3856896551724063,
          1.3856896551724063,
          1.3856896551724063,
          1.3856896551724063,
          1.3856896551724063,
          1.3856896551724063,
          1.3856896551724063,
          1.3856896551724063,
          1.3856896551724063,
          1.3856896551724063,
          1.3856896551724063,
          1.3856896551724063,
          1.3856896551724063,
          1.3856896551724063,
          1.3856896551724063,
          1.3856896551724063,
          1.3856896551724063,
          1.3856896551724063,
          1.3856896551724063,
          1.3856896551724063,
          1.3856896551724063,
          1.3856896551724063,
          1.3856896551724063,
          1.3856896551724063,
          1.3856896551724063,
          1.3856896551724063,
          1.3856896551724063,
          1.4065134099616785,
          1.4065134099616785,
          1.4065134099616785,
          1.4065134099616785,
          1.4065134099616785,
          1.4065134099616785,
          1.4065134099616785,
          1.3054022988505671,
          1.3054022988505671,
          3.06187739463601,
          3.06187739463601,
          3.06187739463601,
          3.06187739463601,
          3.06187739463601,
          3.06187739463601,
          3.06187739463601,
          3.06187739463601,
          3.06187739463601,
          3.06187739463601,
          3.06187739463601,
          3.06187739463601,
          3.06187739463601,
          3.3785440613026787,
          5.601609195402297,
          5.601609195402297,
          5.601609195402297,
          5.601609195402297,
          5.601609195402297,
          5.601609195402297,
          5.601609195402297,
          5.601609195402297,
          5.601609195402297,
          5.601609195402297,
          5.584655172413792,
          5.584655172413792,
          5.584655172413792,
          5.584655172413792,
          5.584655172413792,
          5.584655172413792,
          5.584655172413792,
          5.584655172413792,
          5.584655172413792,
          5.58580459770115,
          5.58580459770115,
          5.58580459770115,
          5.58580459770115,
          5.58580459770115,
          5.58580459770115,
          5.58580459770115,
          5.58580459770115,
          5.58580459770115,
          5.58580459770115,
          5.58580459770115,
          5.58580459770115,
          5.58580459770115,
          5.58580459770115,
          5.58580459770115,
          5.58580459770115,
          5.58580459770115,
          5.58580459770115,
          5.58580459770115,
          5.58580459770115,
          5.58580459770115,
          5.58580459770115,
          5.58580459770115,
          5.58580459770115,
          5.58580459770115,
          5.58580459770115,
          5.58580459770115,
          5.58580459770115,
          5.58580459770115,
          5.658908045977012,
          5.658908045977012,
          5.658908045977012,
          5.658908045977012,
          5.658908045977012,
          5.658908045977012,
          5.658908045977012,
          5.658908045977012,
          5.658908045977012,
          5.658908045977012,
          5.714750957854407,
          5.714750957854407,
          5.714750957854407,
          5.714750957854407,
          5.714750957854407,
          5.714750957854407,
          5.714750957854407,
          5.714750957854407,
          5.714750957854407,
          5.714750957854407,
          5.714750957854407,
          5.714750957854407,
          5.714750957854407,
          5.714750957854407,
          5.714750957854407,
          5.714750957854407,
          5.714750957854407,
          5.714750957854407,
          5.714750957854407,
          5.714750957854407,
          5.714750957854407,
          5.714750957854407,
          5.714750957854407,
          5.714750957854407,
          5.714750957854407,
          5.714750957854407,
          5.714750957854407,
          5.714750957854407,
          5.714750957854407,
          5.714750957854407,
          8.98141762452106,
          8.98141762452106,
          8.98141762452106,
          8.98141762452106,
          8.98141762452106,
          8.98141762452106,
          8.98141762452106,
          8.98141762452106,
          8.98141762452106,
          8.98141762452106,
          8.98141762452106,
          8.98141762452106,
          8.98141762452106,
          8.98141762452106,
          8.98141762452106,
          8.98141762452106,
          8.98141762452106,
          8.98141762452106,
          8.376973180076616,
          8.376973180076616,
          8.376973180076616,
          8.376973180076616,
          8.376973180076616,
          8.376973180076616,
          8.376973180076616,
          8.376973180076616,
          8.376973180076616,
          8.376973180076616,
          8.376973180076616,
          8.376973180076616,
          8.376973180076616,
          8.376973180076616,
          3.176973180076637,
          3.176973180076637,
          3.176973180076637,
          3.176973180076637,
          3.176973180076637,
          3.176973180076637,
          3.176973180076637,
          3.176973180076637,
          3.176973180076637,
          3.176973180076637,
          3.176973180076637,
          3.176973180076637,
          3.176973180076637,
          3.176973180076637,
          3.176973180076637,
          3.1663793103448357,
          3.1663793103448357,
          3.1663793103448357,
          3.1663793103448357,
          3.1663793103448357,
          3.1663793103448357,
          3.1663793103448357,
          3.1663793103448357,
          3.1663793103448357,
          3.1663793103448357,
          3.184157088122614,
          3.184157088122614,
          3.184157088122614,
          3.184157088122614,
          3.184157088122614,
          1.6500383141762498,
          1.6500383141762498,
          1.6500383141762498,
          1.6500383141762498,
          1.6500383141762498,
          1.6500383141762498,
          1.6500383141762498,
          1.6500383141762498,
          1.6500383141762498,
          1.6500383141762498,
          1.470038314176249,
          1.470038314176249,
          1.470038314176249,
          1.470038314176249,
          1.470038314176249,
          1.470038314176249,
          1.470038314176249,
          1.470038314176249,
          3.4906130268199296,
          3.4906130268199296,
          3.4906130268199296,
          3.4906130268199296,
          3.4906130268199296,
          3.4906130268199296,
          3.4906130268199296,
          3.4906130268199296,
          3.4906130268199296,
          3.4906130268199296,
          3.823946360153263,
          3.823946360153263,
          3.823946360153263,
          3.851398467432956,
          3.851398467432956,
          3.851398467432956,
          3.851398467432956,
          3.851398467432956,
          3.851398467432956,
          3.851398467432956,
          3.851398467432956,
          3.851398467432956,
          3.851398467432956,
          3.851398467432956,
          3.851398467432956,
          3.851398467432956,
          3.851398467432956,
          3.851398467432956,
          3.851398467432956,
          3.851398467432956,
          3.596226053639851,
          3.596226053639851,
          3.596226053639851,
          3.596226053639851,
          3.596226053639851,
          3.596226053639851,
          3.596226053639851,
          3.596226053639851,
          3.596226053639851,
          3.596226053639851,
          5.113620689655179,
          5.113620689655179,
          5.113620689655179,
          5.113620689655179,
          5.113620689655179,
          5.113620689655179,
          5.244080459770121,
          5.244080459770121,
          5.244080459770121,
          5.244080459770121,
          5.244080459770121,
          5.244080459770121,
          5.244080459770121,
          5.244080459770121,
          5.244080459770121,
          5.244080459770121,
          5.244080459770121,
          5.244080459770121,
          5.244080459770121,
          5.244080459770121,
          5.244080459770121,
          5.244080459770121,
          5.244080459770121,
          5.244080459770121,
          5.244080459770121,
          5.244080459770121,
          5.244080459770121,
          5.244080459770121,
          5.244080459770121,
          5.244080459770121,
          5.244080459770121,
          5.244080459770121,
          5.244080459770121,
          5.244080459770121,
          5.244080459770121,
          5.244080459770121,
          5.684080459770116,
          5.684080459770116,
          5.684080459770116,
          5.684080459770116,
          5.684080459770116,
          5.684080459770116,
          5.684080459770116,
          5.684080459770116,
          5.684080459770116,
          5.684080459770116,
          6.138773946360154,
          6.138773946360154,
          6.138773946360154,
          6.110498084291189,
          5.982222222222222,
          5.982222222222222,
          5.982222222222222,
          5.982222222222222,
          5.982222222222222,
          5.982222222222222,
          5.982222222222222,
          5.982222222222222,
          5.982222222222222,
          5.12601532567049,
          5.123314176245202,
          5.123314176245202,
          5.123314176245202,
          5.123314176245202,
          5.123314176245202,
          5.123314176245202,
          5.123314176245202,
          5.123314176245202,
          5.123314176245202,
          5.036647509578535,
          5.036647509578535,
          5.036647509578535,
          5.036647509578535,
          5.036647509578535,
          5.036647509578535,
          5.036647509578535,
          5.036647509578535,
          5.036647509578535,
          5.036647509578535,
          5.036647509578535,
          5.036647509578535,
          5.036647509578535,
          5.036647509578535,
          5.036647509578535,
          5.036647509578535,
          5.056091954022978,
          5.056091954022978,
          5.056091954022978,
          5.056091954022978,
          5.056091954022978,
          5.056091954022978,
          5.056091954022978,
          5.056091954022978,
          5.056091954022978,
          5.056091954022978,
          2.995402298850571,
          2.995402298850571,
          2.995402298850571,
          2.995402298850571,
          2.995402298850571,
          2.995402298850571,
          3.029846743295016,
          3.029846743295016,
          3.029846743295016,
          3.029846743295016,
          2.2585823754789276,
          2.2585823754789276,
          2.2585823754789276,
          2.2585823754789276,
          2.2585823754789276,
          2.2585823754789276,
          2.2585823754789276,
          2.2585823754789276,
          2.2585823754789276,
          2.2585823754789276,
          2.2585823754789276,
          2.2585823754789276,
          2.2585823754789276,
          2.2585823754789276,
          3.0243869731800754,
          3.0243869731800754,
          2.9781034482758613,
          2.9781034482758613,
          2.9781034482758613,
          2.9781034482758613,
          2.9781034482758613,
          2.9781034482758613,
          2.9781034482758613,
          2.9781034482758613,
          2.9781034482758613,
          2.9781034482758613,
          2.9781034482758613,
          2.9781034482758613,
          2.9781034482758613,
          2.9781034482758613,
          3.8013984674329446,
          3.8013984674329446,
          3.8013984674329446,
          3.8013984674329446,
          3.8013984674329446,
          3.8013984674329446,
          3.8013984674329446,
          3.8013984674329446,
          3.8013984674329446,
          3.8013984674329446,
          5.0797318007662735,
          5.0797318007662735,
          5.0797318007662735,
          5.0797318007662735,
          5.0797318007662735,
          5.0797318007662735,
          5.274099616858227,
          5.274099616858227,
          5.274099616858227,
          5.294099616858228,
          5.294099616858228,
          5.294099616858228,
          5.294099616858228,
          5.294099616858228,
          5.294099616858228,
          5.294099616858228,
          5.985766283524897,
          5.985766283524897,
          5.985766283524897,
          5.997662835249035,
          5.997662835249035,
          5.997662835249035,
          5.997662835249035,
          5.997662835249035,
          5.997662835249035,
          5.997662835249035,
          5.997662835249035,
          5.997662835249035,
          5.997662835249035,
          5.997662835249035,
          5.997662835249035,
          5.997662835249035,
          6.490996168582376,
          6.490996168582376,
          6.490996168582376,
          5.924789272030656,
          5.924789272030656,
          5.924789272030656,
          5.924789272030656,
          5.924789272030656,
          5.924789272030656,
          5.924789272030656,
          5.924789272030656,
          5.924789272030656,
          5.924789272030656,
          5.924789272030656,
          5.708122605363991,
          5.708122605363991,
          5.708122605363991,
          5.708122605363991,
          5.708122605363991,
          4.0509195402298905,
          4.009425287356327,
          4.009425287356327,
          4.009425287356327,
          4.009425287356327,
          4.009425287356327,
          4.009425287356327,
          4.009425287356327,
          4.009425287356327,
          4.009425287356327,
          3.4494252873563265,
          3.4494252873563265,
          3.4494252873563265,
          3.8605747126436785,
          3.8605747126436785,
          3.8605747126436785,
          3.8605747126436785,
          3.7535249042145593,
          3.7535249042145593,
          3.7535249042145593,
          3.7535249042145593,
          3.7535249042145593,
          3.7535249042145593,
          3.7535249042145593,
          3.7535249042145593,
          3.7535249042145593,
          3.7744827586206897,
          3.7744827586206897,
          3.7744827586206897,
          3.7744827586206897,
          3.7744827586206897,
          3.7744827586206897,
          3.7744827586206897,
          3.573908045977011,
          3.573908045977011,
          3.573908045977011,
          3.309080459770114,
          3.309080459770114,
          3.309080459770114,
          3.309080459770114,
          3.309080459770114,
          3.309080459770114,
          3.309080459770114,
          3.309080459770114,
          3.309080459770114,
          3.7283908045977,
          3.7283908045977,
          1.9443295019157083,
          1.9443295019157083,
          1.9443295019157083,
          1.9443295019157083,
          1.9443295019157083,
          1.9443295019157083,
          1.9443295019157083,
          1.9443295019157083,
          2.2000766283524906,
          2.2000766283524906,
          2.2000766283524906,
          2.2000766283524906,
          2.2000766283524906,
          2.2000766283524906,
          2.2000766283524906,
          2.2000766283524906,
          2.2000766283524906,
          2.2000766283524906,
          2.2000766283524906,
          2.2000766283524906,
          2.2000766283524906,
          2.20264367816092,
          2.20264367816092,
          2.215977011494253,
          2.215977011494253,
          2.215977011494253,
          2.215977011494253,
          2.274099616858238,
          2.274099616858238,
          2.274099616858238,
          2.274099616858238,
          5.849272030651341,
          5.834827586206898,
          5.834827586206898,
          5.834827586206898,
          5.834827586206898,
          5.834827586206898,
          5.9798275862068975,
          5.9798275862068975,
          5.9798275862068975,
          5.9798275862068975,
          5.9798275862068975,
          5.9798275862068975,
          5.9798275862068975,
          5.9798275862068975,
          5.9798275862068975,
          5.9798275862068975,
          5.9798275862068975,
          5.9798275862068975,
          5.9798275862068975,
          5.9798275862068975,
          5.9798275862068975,
          5.9894827586206905,
          5.9894827586206905,
          6.457567049808431,
          6.457567049808431,
          6.457567049808431,
          6.457567049808431,
          6.457567049808431,
          6.457567049808431,
          6.858524904214565,
          6.858524904214565,
          6.858524904214565,
          4.864655172413795,
          4.864655172413795,
          4.864655172413795,
          4.864655172413795,
          4.864655172413795,
          4.927452107279696,
          4.927452107279696,
          4.927452107279696,
          4.927452107279696,
          4.927452107279696,
          4.927452107279696,
          4.927452107279696,
          4.927452107279696,
          4.927452107279696,
          4.927452107279696,
          4.927452107279696,
          4.927452107279696,
          4.927452107279696,
          4.927452107279696,
          4.927452107279696,
          4.927452107279696,
          4.927452107279696,
          5.022624521072799,
          5.022624521072799,
          5.022624521072799,
          5.022624521072799,
          5.022624521072799,
          5.022624521072799,
          5.022624521072799,
          7.467068965517251,
          7.039482758620696,
          7.039482758620696,
          7.039482758620696,
          7.039482758620696,
          7.039482758620696,
          7.039482758620696,
          7.039482758620696,
          7.039482758620696,
          7.039482758620696,
          7.039482758620696,
          7.039482758620696,
          7.039482758620696,
          7.039482758620696,
          7.039482758620696,
          7.039482758620696,
          7.039482758620696,
          7.039482758620696,
          7.039482758620696,
          7.039482758620696,
          7.039482758620696,
          7.097816091954027,
          7.097816091954027,
          7.097816091954027,
          7.097816091954027,
          7.204137931034488,
          7.204137931034488,
          7.204137931034488,
          7.204137931034488,
          7.204137931034488,
          5.023103448275851,
          5.023103448275851,
          5.023103448275851,
          5.115517241379299,
          5.115517241379299,
          5.115517241379299,
          5.115517241379299,
          5.115517241379299,
          5.115517241379299,
          5.115517241379299,
          5.115517241379299,
          5.115517241379299,
          5.115517241379299,
          5.115517241379299,
          5.115517241379299,
          5.115517241379299,
          5.115517241379299,
          5.115517241379299,
          5.115517241379299,
          5.115517241379299,
          5.115517241379299,
          5.115517241379299,
          5.115517241379299,
          5.115517241379299,
          5.115517241379299,
          5.115517241379299,
          5.307624521072787,
          5.307624521072787,
          5.307624521072787,
          5.307624521072787,
          5.307624521072787,
          5.307624521072787,
          5.915095785440602,
          5.915095785440602,
          5.915095785440602,
          5.915095785440602,
          5.915095785440602,
          5.915095785440602,
          5.915095785440602,
          5.915095785440602,
          5.915095785440602,
          5.915095785440602,
          5.915095785440602,
          5.915095785440602,
          5.915095785440602,
          5.9806513409961575,
          5.9806513409961575,
          5.9806513409961575,
          5.9806513409961575,
          5.9806513409961575,
          5.9806513409961575,
          6.010651340996158,
          6.010651340996158,
          6.010651340996158,
          6.010651340996158,
          6.010651340996158,
          6.010651340996158,
          9.658237547892707,
          9.658237547892707,
          9.658237547892707,
          9.658237547892707,
          9.658237547892707,
          9.658237547892707,
          9.658237547892707,
          9.658237547892707,
          9.658237547892707,
          9.658237547892707,
          9.658237547892707,
          9.658237547892707,
          9.658237547892707,
          9.658237547892707,
          9.658237547892707,
          9.658237547892707,
          9.658237547892707,
          9.658237547892707,
          9.658237547892707,
          10.94452107279693,
          10.94452107279693,
          10.94452107279693,
          10.94452107279693,
          10.94452107279693,
          10.930536398467428,
          11.102586206896548,
          11.102586206896548,
          11.102586206896548,
          11.102586206896548,
          11.102586206896548,
          11.102586206896548,
          11.102586206896548,
          11.102586206896548,
          11.102586206896548,
          11.102586206896548,
          11.102586206896548,
          11.102586206896548,
          11.102586206896548,
          11.102586206896548,
          11.102586206896548,
          11.102586206896548,
          11.102586206896548,
          11.102586206896548,
          11.102586206896548,
          11.102586206896548,
          11.102586206896548,
          11.102586206896548,
          11.102586206896548,
          11.102586206896548,
          11.206034482758616,
          9.89461685823756,
          9.89461685823756,
          9.89461685823756,
          9.89461685823756,
          9.89461685823756,
          9.89461685823756,
          9.18636015325672,
          9.18636015325672,
          9.18636015325672,
          9.18636015325672,
          9.18636015325672,
          9.18636015325672,
          9.18636015325672,
          9.18636015325672,
          9.18636015325672,
          9.18636015325672,
          9.18636015325672,
          9.18636015325672,
          9.18636015325672,
          9.18636015325672,
          9.18636015325672,
          9.18636015325672,
          9.18636015325672,
          9.18636015325672,
          9.18636015325672,
          7.424137931034494,
          7.424137931034494,
          7.424137931034494,
          7.424137931034494,
          7.424137931034494,
          7.424137931034494,
          7.206206896551735,
          7.206206896551735,
          7.206206896551735,
          7.246206896551735,
          7.246206896551735,
          7.246206896551735,
          7.246206896551735,
          7.246206896551735,
          7.246206896551735,
          7.246206896551735,
          7.246206896551735,
          7.246206896551735,
          7.246206896551735,
          7.246206896551735,
          7.246206896551735,
          7.246206896551735,
          7.246206896551735,
          7.246206896551735,
          7.246206896551735,
          6.886436781609201,
          6.886436781609201,
          6.886436781609201,
          6.886436781609201,
          6.886436781609201,
          6.886436781609201,
          7.342030651340987,
          7.342030651340987,
          7.342030651340987,
          7.430498084291178,
          7.430498084291178,
          7.430498084291178,
          7.430498084291178,
          7.430498084291178,
          7.430498084291178,
          7.430498084291178,
          7.430498084291178,
          7.430498084291178,
          7.430498084291178,
          7.430498084291178,
          7.430498084291178,
          7.430498084291178,
          7.430498084291178,
          7.430498084291178,
          7.430498084291178,
          7.430498084291178,
          7.430498084291178,
          7.430498084291178,
          7.430498084291178,
          7.430498084291178,
          7.430498084291178,
          7.430498084291178,
          7.430498084291178,
          7.430498084291178,
          7.430498084291178,
          7.430498084291178,
          7.430498084291178,
          7.430498084291178,
          7.430498084291178,
          7.430498084291178,
          7.430498084291178,
          7.430498084291178,
          7.430498084291178,
          7.430498084291178,
          7.430498084291178,
          7.430498084291178,
          7.430498084291178,
          7.430498084291178,
          7.430498084291178,
          7.430498084291178,
          7.430498084291178,
          7.430498084291178,
          7.430498084291178,
          7.430498084291178,
          7.430498084291178,
          7.430498084291178,
          7.430498084291178,
          7.430498084291178,
          7.430498084291178,
          7.490498084291178,
          7.490498084291178,
          7.35727969348658,
          7.35727969348658,
          7.35727969348658,
          7.35727969348658,
          8.443390804597692,
          8.443390804597692,
          8.443390804597692,
          8.443390804597692,
          8.443390804597692,
          8.443390804597692,
          8.443390804597692,
          8.443390804597692,
          8.443390804597692,
          8.443390804597692,
          8.443390804597692,
          8.443390804597692,
          8.443390804597692,
          8.443390804597692,
          8.40727969348658,
          8.40727969348658,
          8.40727969348658,
          8.40727969348658,
          8.40727969348658,
          8.40727969348658,
          8.40727969348658,
          8.398390804597689,
          8.398390804597689,
          8.398390804597689,
          8.398390804597689,
          10.989655172413807,
          10.989655172413807,
          10.989655172413807,
          10.989655172413807,
          10.989655172413807,
          10.989655172413807,
          10.989655172413807,
          10.989655172413807,
          10.989655172413807,
          10.989655172413807,
          10.989655172413807,
          10.989655172413807,
          10.989655172413807,
          10.989655172413807,
          10.989655172413807,
          10.989655172413807,
          10.989655172413807,
          10.989655172413807,
          10.989655172413807,
          10.989655172413807,
          10.832011494252889,
          10.832011494252889,
          10.832011494252889,
          10.832011494252889,
          10.832011494252889,
          11.116570881226071,
          11.116570881226071,
          11.116570881226071,
          11.116570881226071,
          11.116570881226071,
          11.116570881226071,
          11.116570881226071,
          11.116570881226071,
          11.116570881226071,
          11.116570881226071,
          11.116570881226071,
          11.116570881226071,
          11.116570881226071,
          11.116570881226071,
          11.116570881226071,
          11.116570881226071,
          11.116570881226071,
          11.116570881226071,
          11.116570881226071,
          11.116570881226071,
          11.116570881226071,
          11.116570881226071,
          11.116570881226071,
          11.116570881226071,
          11.116570881226071,
          11.116570881226071,
          11.116570881226071,
          11.116570881226071,
          11.116570881226071,
          11.116570881226071,
          11.116570881226071,
          11.149904214559406,
          11.149904214559406,
          11.149904214559406,
          11.149904214559406,
          11.149904214559406,
          11.149904214559406,
          11.149904214559406,
          11.149904214559406,
          11.149904214559406,
          11.149904214559406,
          11.149904214559406,
          11.149904214559406,
          11.149904214559406,
          11.160057471264386,
          11.160057471264386,
          11.160057471264386,
          11.160057471264386,
          11.160057471264386,
          11.160057471264386,
          11.160057471264386,
          11.160057471264386,
          11.160057471264386,
          11.160057471264386,
          11.160057471264386,
          8.185057471264365,
          8.208486590038312,
          8.208486590038312,
          8.208486590038312,
          8.021819923371643,
          8.021819923371643,
          8.021819923371643,
          8.021819923371643,
          8.021819923371643,
          8.021819923371643,
          8.021819923371643,
          8.021819923371643,
          8.021819923371643,
          8.021819923371643,
          8.021819923371643,
          8.021819923371643,
          8.021819923371643,
          8.021819923371643,
          8.021819923371643,
          8.021819923371643,
          8.021819923371643,
          8.021819923371643,
          8.021819923371643,
          8.021819923371643,
          8.021819923371643,
          10.396819923371652,
          10.396819923371652,
          10.396819923371652,
          10.396819923371652,
          10.396819923371652,
          10.396819923371652,
          10.396819923371652,
          10.396819923371652,
          10.396819923371652,
          10.396819923371652,
          10.396819923371652,
          10.396819923371652,
          10.396819923371652,
          10.396819923371652,
          10.396819923371652,
          10.396819923371652,
          10.396819923371652,
          10.396819923371652,
          10.396819923371652,
          10.396819923371652,
          10.396819923371652,
          10.396819923371652,
          10.396819923371652,
          10.396819923371652,
          10.396819923371652,
          10.396819923371652,
          10.396819923371652,
          10.396819923371652,
          10.396819923371652,
          10.396819923371652,
          10.396819923371652,
          10.396819923371652,
          10.396819923371652,
          10.396819923371652,
          10.396819923371652,
          10.213486590038316,
          10.213486590038316,
          10.213486590038316,
          10.213486590038316,
          10.213486590038316,
          10.213486590038316,
          10.213486590038316,
          10.213486590038316,
          10.213486590038316,
          10.213486590038316,
          10.213486590038316,
          10.213486590038316,
          10.213486590038316,
          10.03704980842912,
          10.03704980842912,
          10.03704980842912,
          10.03704980842912,
          10.03704980842912,
          10.03704980842912,
          10.03704980842912,
          10.03704980842912,
          10.463716475095785,
          10.36352490421456,
          10.36352490421456,
          10.36352490421456,
          9.674636015325657,
          9.674636015325657,
          9.674636015325657,
          9.674636015325657,
          9.674636015325657,
          9.674636015325657,
          9.674636015325657,
          9.674636015325657,
          9.674636015325657,
          9.71113026819922,
          9.71113026819922,
          9.71113026819922,
          9.71113026819922,
          8.892509578544047,
          8.892509578544047,
          8.892509578544047,
          8.892509578544047,
          8.892509578544047,
          8.824348659003816,
          8.824348659003816,
          8.824348659003816,
          8.824348659003816,
          8.476915708812246,
          8.476915708812246,
          8.476915708812246,
          8.476915708812246,
          8.476915708812246,
          8.476915708812246,
          8.476915708812246,
          8.476915708812246,
          8.476915708812246,
          8.476915708812246,
          8.476915708812246,
          8.476915708812246,
          8.476915708812246,
          8.476915708812246,
          8.476915708812246,
          8.476915708812246,
          8.476915708812246,
          8.476915708812246,
          8.476915708812246,
          8.476915708812246,
          8.476915708812246,
          8.476915708812246,
          8.476915708812246,
          8.476915708812246,
          8.473180076628338,
          8.473180076628338,
          8.473180076628338,
          8.473180076628338,
          8.473180076628338,
          8.360153256704965,
          8.360153256704965,
          8.360153256704965,
          8.360153256704965,
          8.467816091954006,
          8.467816091954006,
          8.467816091954006,
          8.467816091954006,
          8.467816091954006,
          8.467816091954006,
          8.467816091954006,
          8.467816091954006,
          8.467816091954006,
          8.467816091954006,
          8.467816091954006,
          8.467816091954006,
          8.467816091954006,
          8.467816091954006,
          7.139750957854392,
          7.139750957854392,
          7.139750957854392,
          7.139750957854392,
          7.139750957854392,
          7.139750957854392,
          7.139750957854392,
          7.139750957854392,
          7.139750957854392,
          6.513026819923358,
          6.513026819923358,
          6.513026819923358,
          6.513026819923358,
          6.513026819923358,
          6.513026819923358,
          6.513026819923358,
          6.513026819923358,
          6.513026819923358,
          6.513026819923358,
          6.513026819923358,
          6.513026819923358,
          6.513026819923358,
          4.7750957854406115,
          4.7750957854406115,
          4.7750957854406115,
          4.7750957854406115,
          4.7750957854406115,
          4.7750957854406115,
          4.7750957854406115,
          4.7750957854406115,
          4.7750957854406115,
          4.7750957854406115,
          4.7750957854406115,
          4.7750957854406115,
          4.7750957854406115,
          4.7750957854406115,
          4.7750957854406115,
          4.7750957854406115,
          4.735804597701148,
          4.735804597701148,
          4.735804597701148,
          4.735804597701148,
          4.806858237547891,
          4.806858237547891,
          4.806858237547891,
          4.806858237547891,
          4.806858237547891,
          4.806858237547891,
          4.806858237547891,
          4.806858237547891,
          4.806858237547891,
          4.519961685823758,
          4.519961685823758,
          4.519961685823758,
          4.519961685823758,
          4.917203065134104,
          4.917203065134104,
          4.917203065134104,
          4.917203065134104,
          4.917203065134104,
          5.97927203065134,
          5.97927203065134,
          5.97927203065134,
          5.97927203065134,
          7.667547892720296,
          7.667547892720296,
          7.667547892720296,
          7.667547892720296,
          7.667547892720296,
          7.667547892720296,
          7.667547892720296,
          7.667547892720296,
          7.667547892720296,
          7.667547892720296,
          7.667547892720296,
          7.667547892720296,
          7.667547892720296,
          7.667547892720296,
          7.667547892720296,
          7.667547892720296,
          7.667547892720296,
          7.667547892720296,
          7.667547892720296,
          7.667547892720296,
          7.667547892720296,
          7.667547892720296,
          7.667547892720296,
          7.667547892720296,
          7.667547892720296,
          7.667547892720296,
          7.667547892720296,
          7.667547892720296,
          7.667547892720296,
          12.743409961685805,
          12.743409961685805,
          12.743409961685805,
          12.743409961685805,
          12.743409961685805
         ]
        }
       ],
       "layout": {
        "height": 800,
        "plot_bgcolor": "white",
        "showlegend": true,
        "template": {
         "data": {
          "bar": [
           {
            "error_x": {
             "color": "#2a3f5f"
            },
            "error_y": {
             "color": "#2a3f5f"
            },
            "marker": {
             "line": {
              "color": "#E5ECF6",
              "width": 0.5
             },
             "pattern": {
              "fillmode": "overlay",
              "size": 10,
              "solidity": 0.2
             }
            },
            "type": "bar"
           }
          ],
          "barpolar": [
           {
            "marker": {
             "line": {
              "color": "#E5ECF6",
              "width": 0.5
             },
             "pattern": {
              "fillmode": "overlay",
              "size": 10,
              "solidity": 0.2
             }
            },
            "type": "barpolar"
           }
          ],
          "carpet": [
           {
            "aaxis": {
             "endlinecolor": "#2a3f5f",
             "gridcolor": "white",
             "linecolor": "white",
             "minorgridcolor": "white",
             "startlinecolor": "#2a3f5f"
            },
            "baxis": {
             "endlinecolor": "#2a3f5f",
             "gridcolor": "white",
             "linecolor": "white",
             "minorgridcolor": "white",
             "startlinecolor": "#2a3f5f"
            },
            "type": "carpet"
           }
          ],
          "choropleth": [
           {
            "colorbar": {
             "outlinewidth": 0,
             "ticks": ""
            },
            "type": "choropleth"
           }
          ],
          "contour": [
           {
            "colorbar": {
             "outlinewidth": 0,
             "ticks": ""
            },
            "colorscale": [
             [
              0,
              "#0d0887"
             ],
             [
              0.1111111111111111,
              "#46039f"
             ],
             [
              0.2222222222222222,
              "#7201a8"
             ],
             [
              0.3333333333333333,
              "#9c179e"
             ],
             [
              0.4444444444444444,
              "#bd3786"
             ],
             [
              0.5555555555555556,
              "#d8576b"
             ],
             [
              0.6666666666666666,
              "#ed7953"
             ],
             [
              0.7777777777777778,
              "#fb9f3a"
             ],
             [
              0.8888888888888888,
              "#fdca26"
             ],
             [
              1,
              "#f0f921"
             ]
            ],
            "type": "contour"
           }
          ],
          "contourcarpet": [
           {
            "colorbar": {
             "outlinewidth": 0,
             "ticks": ""
            },
            "type": "contourcarpet"
           }
          ],
          "heatmap": [
           {
            "colorbar": {
             "outlinewidth": 0,
             "ticks": ""
            },
            "colorscale": [
             [
              0,
              "#0d0887"
             ],
             [
              0.1111111111111111,
              "#46039f"
             ],
             [
              0.2222222222222222,
              "#7201a8"
             ],
             [
              0.3333333333333333,
              "#9c179e"
             ],
             [
              0.4444444444444444,
              "#bd3786"
             ],
             [
              0.5555555555555556,
              "#d8576b"
             ],
             [
              0.6666666666666666,
              "#ed7953"
             ],
             [
              0.7777777777777778,
              "#fb9f3a"
             ],
             [
              0.8888888888888888,
              "#fdca26"
             ],
             [
              1,
              "#f0f921"
             ]
            ],
            "type": "heatmap"
           }
          ],
          "heatmapgl": [
           {
            "colorbar": {
             "outlinewidth": 0,
             "ticks": ""
            },
            "colorscale": [
             [
              0,
              "#0d0887"
             ],
             [
              0.1111111111111111,
              "#46039f"
             ],
             [
              0.2222222222222222,
              "#7201a8"
             ],
             [
              0.3333333333333333,
              "#9c179e"
             ],
             [
              0.4444444444444444,
              "#bd3786"
             ],
             [
              0.5555555555555556,
              "#d8576b"
             ],
             [
              0.6666666666666666,
              "#ed7953"
             ],
             [
              0.7777777777777778,
              "#fb9f3a"
             ],
             [
              0.8888888888888888,
              "#fdca26"
             ],
             [
              1,
              "#f0f921"
             ]
            ],
            "type": "heatmapgl"
           }
          ],
          "histogram": [
           {
            "marker": {
             "pattern": {
              "fillmode": "overlay",
              "size": 10,
              "solidity": 0.2
             }
            },
            "type": "histogram"
           }
          ],
          "histogram2d": [
           {
            "colorbar": {
             "outlinewidth": 0,
             "ticks": ""
            },
            "colorscale": [
             [
              0,
              "#0d0887"
             ],
             [
              0.1111111111111111,
              "#46039f"
             ],
             [
              0.2222222222222222,
              "#7201a8"
             ],
             [
              0.3333333333333333,
              "#9c179e"
             ],
             [
              0.4444444444444444,
              "#bd3786"
             ],
             [
              0.5555555555555556,
              "#d8576b"
             ],
             [
              0.6666666666666666,
              "#ed7953"
             ],
             [
              0.7777777777777778,
              "#fb9f3a"
             ],
             [
              0.8888888888888888,
              "#fdca26"
             ],
             [
              1,
              "#f0f921"
             ]
            ],
            "type": "histogram2d"
           }
          ],
          "histogram2dcontour": [
           {
            "colorbar": {
             "outlinewidth": 0,
             "ticks": ""
            },
            "colorscale": [
             [
              0,
              "#0d0887"
             ],
             [
              0.1111111111111111,
              "#46039f"
             ],
             [
              0.2222222222222222,
              "#7201a8"
             ],
             [
              0.3333333333333333,
              "#9c179e"
             ],
             [
              0.4444444444444444,
              "#bd3786"
             ],
             [
              0.5555555555555556,
              "#d8576b"
             ],
             [
              0.6666666666666666,
              "#ed7953"
             ],
             [
              0.7777777777777778,
              "#fb9f3a"
             ],
             [
              0.8888888888888888,
              "#fdca26"
             ],
             [
              1,
              "#f0f921"
             ]
            ],
            "type": "histogram2dcontour"
           }
          ],
          "mesh3d": [
           {
            "colorbar": {
             "outlinewidth": 0,
             "ticks": ""
            },
            "type": "mesh3d"
           }
          ],
          "parcoords": [
           {
            "line": {
             "colorbar": {
              "outlinewidth": 0,
              "ticks": ""
             }
            },
            "type": "parcoords"
           }
          ],
          "pie": [
           {
            "automargin": true,
            "type": "pie"
           }
          ],
          "scatter": [
           {
            "fillpattern": {
             "fillmode": "overlay",
             "size": 10,
             "solidity": 0.2
            },
            "type": "scatter"
           }
          ],
          "scatter3d": [
           {
            "line": {
             "colorbar": {
              "outlinewidth": 0,
              "ticks": ""
             }
            },
            "marker": {
             "colorbar": {
              "outlinewidth": 0,
              "ticks": ""
             }
            },
            "type": "scatter3d"
           }
          ],
          "scattercarpet": [
           {
            "marker": {
             "colorbar": {
              "outlinewidth": 0,
              "ticks": ""
             }
            },
            "type": "scattercarpet"
           }
          ],
          "scattergeo": [
           {
            "marker": {
             "colorbar": {
              "outlinewidth": 0,
              "ticks": ""
             }
            },
            "type": "scattergeo"
           }
          ],
          "scattergl": [
           {
            "marker": {
             "colorbar": {
              "outlinewidth": 0,
              "ticks": ""
             }
            },
            "type": "scattergl"
           }
          ],
          "scattermapbox": [
           {
            "marker": {
             "colorbar": {
              "outlinewidth": 0,
              "ticks": ""
             }
            },
            "type": "scattermapbox"
           }
          ],
          "scatterpolar": [
           {
            "marker": {
             "colorbar": {
              "outlinewidth": 0,
              "ticks": ""
             }
            },
            "type": "scatterpolar"
           }
          ],
          "scatterpolargl": [
           {
            "marker": {
             "colorbar": {
              "outlinewidth": 0,
              "ticks": ""
             }
            },
            "type": "scatterpolargl"
           }
          ],
          "scatterternary": [
           {
            "marker": {
             "colorbar": {
              "outlinewidth": 0,
              "ticks": ""
             }
            },
            "type": "scatterternary"
           }
          ],
          "surface": [
           {
            "colorbar": {
             "outlinewidth": 0,
             "ticks": ""
            },
            "colorscale": [
             [
              0,
              "#0d0887"
             ],
             [
              0.1111111111111111,
              "#46039f"
             ],
             [
              0.2222222222222222,
              "#7201a8"
             ],
             [
              0.3333333333333333,
              "#9c179e"
             ],
             [
              0.4444444444444444,
              "#bd3786"
             ],
             [
              0.5555555555555556,
              "#d8576b"
             ],
             [
              0.6666666666666666,
              "#ed7953"
             ],
             [
              0.7777777777777778,
              "#fb9f3a"
             ],
             [
              0.8888888888888888,
              "#fdca26"
             ],
             [
              1,
              "#f0f921"
             ]
            ],
            "type": "surface"
           }
          ],
          "table": [
           {
            "cells": {
             "fill": {
              "color": "#EBF0F8"
             },
             "line": {
              "color": "white"
             }
            },
            "header": {
             "fill": {
              "color": "#C8D4E3"
             },
             "line": {
              "color": "white"
             }
            },
            "type": "table"
           }
          ]
         },
         "layout": {
          "annotationdefaults": {
           "arrowcolor": "#2a3f5f",
           "arrowhead": 0,
           "arrowwidth": 1
          },
          "autotypenumbers": "strict",
          "coloraxis": {
           "colorbar": {
            "outlinewidth": 0,
            "ticks": ""
           }
          },
          "colorscale": {
           "diverging": [
            [
             0,
             "#8e0152"
            ],
            [
             0.1,
             "#c51b7d"
            ],
            [
             0.2,
             "#de77ae"
            ],
            [
             0.3,
             "#f1b6da"
            ],
            [
             0.4,
             "#fde0ef"
            ],
            [
             0.5,
             "#f7f7f7"
            ],
            [
             0.6,
             "#e6f5d0"
            ],
            [
             0.7,
             "#b8e186"
            ],
            [
             0.8,
             "#7fbc41"
            ],
            [
             0.9,
             "#4d9221"
            ],
            [
             1,
             "#276419"
            ]
           ],
           "sequential": [
            [
             0,
             "#0d0887"
            ],
            [
             0.1111111111111111,
             "#46039f"
            ],
            [
             0.2222222222222222,
             "#7201a8"
            ],
            [
             0.3333333333333333,
             "#9c179e"
            ],
            [
             0.4444444444444444,
             "#bd3786"
            ],
            [
             0.5555555555555556,
             "#d8576b"
            ],
            [
             0.6666666666666666,
             "#ed7953"
            ],
            [
             0.7777777777777778,
             "#fb9f3a"
            ],
            [
             0.8888888888888888,
             "#fdca26"
            ],
            [
             1,
             "#f0f921"
            ]
           ],
           "sequentialminus": [
            [
             0,
             "#0d0887"
            ],
            [
             0.1111111111111111,
             "#46039f"
            ],
            [
             0.2222222222222222,
             "#7201a8"
            ],
            [
             0.3333333333333333,
             "#9c179e"
            ],
            [
             0.4444444444444444,
             "#bd3786"
            ],
            [
             0.5555555555555556,
             "#d8576b"
            ],
            [
             0.6666666666666666,
             "#ed7953"
            ],
            [
             0.7777777777777778,
             "#fb9f3a"
            ],
            [
             0.8888888888888888,
             "#fdca26"
            ],
            [
             1,
             "#f0f921"
            ]
           ]
          },
          "colorway": [
           "#636efa",
           "#EF553B",
           "#00cc96",
           "#ab63fa",
           "#FFA15A",
           "#19d3f3",
           "#FF6692",
           "#B6E880",
           "#FF97FF",
           "#FECB52"
          ],
          "font": {
           "color": "#2a3f5f"
          },
          "geo": {
           "bgcolor": "white",
           "lakecolor": "white",
           "landcolor": "#E5ECF6",
           "showlakes": true,
           "showland": true,
           "subunitcolor": "white"
          },
          "hoverlabel": {
           "align": "left"
          },
          "hovermode": "closest",
          "mapbox": {
           "style": "light"
          },
          "paper_bgcolor": "white",
          "plot_bgcolor": "#E5ECF6",
          "polar": {
           "angularaxis": {
            "gridcolor": "white",
            "linecolor": "white",
            "ticks": ""
           },
           "bgcolor": "#E5ECF6",
           "radialaxis": {
            "gridcolor": "white",
            "linecolor": "white",
            "ticks": ""
           }
          },
          "scene": {
           "xaxis": {
            "backgroundcolor": "#E5ECF6",
            "gridcolor": "white",
            "gridwidth": 2,
            "linecolor": "white",
            "showbackground": true,
            "ticks": "",
            "zerolinecolor": "white"
           },
           "yaxis": {
            "backgroundcolor": "#E5ECF6",
            "gridcolor": "white",
            "gridwidth": 2,
            "linecolor": "white",
            "showbackground": true,
            "ticks": "",
            "zerolinecolor": "white"
           },
           "zaxis": {
            "backgroundcolor": "#E5ECF6",
            "gridcolor": "white",
            "gridwidth": 2,
            "linecolor": "white",
            "showbackground": true,
            "ticks": "",
            "zerolinecolor": "white"
           }
          },
          "shapedefaults": {
           "line": {
            "color": "#2a3f5f"
           }
          },
          "ternary": {
           "aaxis": {
            "gridcolor": "white",
            "linecolor": "white",
            "ticks": ""
           },
           "baxis": {
            "gridcolor": "white",
            "linecolor": "white",
            "ticks": ""
           },
           "bgcolor": "#E5ECF6",
           "caxis": {
            "gridcolor": "white",
            "linecolor": "white",
            "ticks": ""
           }
          },
          "title": {
           "x": 0.05
          },
          "xaxis": {
           "automargin": true,
           "gridcolor": "white",
           "linecolor": "white",
           "ticks": "",
           "title": {
            "standoff": 15
           },
           "zerolinecolor": "white",
           "zerolinewidth": 2
          },
          "yaxis": {
           "automargin": true,
           "gridcolor": "white",
           "linecolor": "white",
           "ticks": "",
           "title": {
            "standoff": 15
           },
           "zerolinecolor": "white",
           "zerolinewidth": 2
          }
         }
        },
        "title": {
         "text": "Random Forest Model of Pixel vs Real Length Relative Differences<br>R²: 0.841"
        },
        "width": 800,
        "xaxis": {
         "gridcolor": "lightgray",
         "gridwidth": 1,
         "showgrid": true,
         "title": {
          "text": "Pixel Relative Difference (%)"
         }
        },
        "yaxis": {
         "gridcolor": "lightgray",
         "gridwidth": 1,
         "showgrid": true,
         "title": {
          "text": "Real Length Relative Difference (%)"
         }
        }
       }
      }
     },
     "metadata": {},
     "output_type": "display_data"
    }
   ],
   "source": [
    "# Create an even smoother prediction line by generating more points\n",
    "X_smooth = np.linspace(X.min(), X.max(), 2000).reshape(-1, 1)  # Doubled number of points\n",
    "y_smooth_pred = rf_model.predict(X_smooth)\n",
    "\n",
    "# Create scatter plot with smoother prediction line\n",
    "fig = go.Figure()\n",
    "\n",
    "# Add scatter points\n",
    "fig.add_trace(go.Scatter(\n",
    "    x=X.flatten(),\n",
    "    y=y,\n",
    "    mode='markers',\n",
    "    name='Data Points',\n",
    "    marker=dict(\n",
    "        size=8,\n",
    "        color='blue',\n",
    "        opacity=0.5  # Slightly reduced opacity\n",
    "    ),\n",
    "    hovertemplate=\n",
    "        '<b>Image:</b> %{customdata[0]}<br>' +\n",
    "        '<b>Total Length:</b> %{customdata[1]:.1f}<br>' +\n",
    "        '<b>Lobster Size:</b> %{customdata[2]}<br>' +\n",
    "        '<b>Pixel Rel Diff:</b> %{customdata[3]:.1f}%<br>' +\n",
    "        '<b>Pixel Abs Diff:</b> %{customdata[4]:.1f}<br>' +\n",
    "        '<b>Real Length Abs Diff:</b> %{customdata[5]:.1f}<br>' +\n",
    "        '<b>Real Length Rel Diff:</b> %{customdata[6]:.1f}%<br>',\n",
    "    customdata=list(zip(new_df['image_name'], \n",
    "                      new_df['total_length'],\n",
    "                      new_df['lobster_size'],\n",
    "                      new_df['pixel_rel_diff'],\n",
    "                      new_df['pixel_abs_diff'],\n",
    "                      new_df['real_length_abs_diff'],\n",
    "                      new_df['real_length_rel_diff'],\n",
    "                      new_df['Length'],\n",
    "                      new_df['pixels_total_length']\n",
    "                      )\n",
    "                 )\n",
    "))\n",
    "\n",
    "# Add smoother random forest prediction line with increased smoothness\n",
    "fig.add_trace(go.Scatter(\n",
    "    x=X_smooth.flatten(),\n",
    "    y=y_smooth_pred,\n",
    "    mode='lines',\n",
    "    name='Random Forest Prediction',\n",
    "    line=dict(\n",
    "        color='black', \n",
    "        width=2,\n",
    "        shape='spline',  # Added spline interpolation\n",
    "        smoothing=1.3    # Increased smoothing factor\n",
    "    )\n",
    "))\n",
    "\n",
    "# Calculate R² score\n",
    "r2_score = rf_model.score(X, y)\n",
    "\n",
    "# Update layout\n",
    "fig.update_layout(\n",
    "    title=f'Random Forest Model of Pixel vs Real Length Relative Differences<br>R²: {r2_score:.3f}',\n",
    "    xaxis_title='Pixel Relative Difference (%)',\n",
    "    yaxis_title='Real Length Relative Difference (%)',\n",
    "    showlegend=True,\n",
    "    width=800,\n",
    "    height=800,\n",
    "    plot_bgcolor='white'\n",
    ")\n",
    "\n",
    "# Add grid\n",
    "fig.update_xaxes(showgrid=True, gridwidth=1, gridcolor='lightgray')\n",
    "fig.update_yaxes(showgrid=True, gridwidth=1, gridcolor='lightgray')\n",
    "\n",
    "# Print model performance metrics\n",
    "print(f\"Random Forest Model Performance:\")\n",
    "print(f\"R² Score: {r2_score:.3f}\")\n",
    "\n",
    "fig.show()\n"
   ]
  },
  {
   "cell_type": "code",
   "execution_count": 22,
   "metadata": {},
   "outputs": [
    {
     "name": "stdout",
     "output_type": "stream",
     "text": [
      "Mean relative error: 5.316%\n",
      "Standard deviation of relative error: 3.767%\n",
      "Median relative error: 4.667%\n",
      "Interquartile range of relative error: 2.7959770114942515% to 6.827586206896555%\n"
     ]
    }
   ],
   "source": [
    "#statistic analysis relative error\n",
    "import numpy as np\n",
    "from scipy import stats\n",
    "\n",
    "# Calculate mean and standard deviation of relative error\n",
    "mean_rel_error = np.mean(new_df['real_length_rel_diff'])\n",
    "\n",
    "print(f\"Mean relative error: {mean_rel_error:.3f}%\")\n",
    "print(f\"Standard deviation of relative error: {np.std(new_df['real_length_rel_diff']):.3f}%\")\n",
    "\n",
    "# Calculate median and interquartile range of relative error\n",
    "median_rel_error = np.median(new_df['real_length_rel_diff'])\n",
    "\n",
    "print(f\"Median relative error: {median_rel_error:.3f}%\")\n",
    "print(f\"Interquartile range of relative error: {np.percentile(new_df['real_length_rel_diff'], 25)}% to {np.percentile(new_df['real_length_rel_diff'], 75)}%\")\n",
    "\n",
    "# Calculate percentage of errors within different thresholds\n",
    "thresholds = [5, 10, 15]\n",
    "\n"
   ]
  },
  {
   "cell_type": "code",
   "execution_count": null,
   "metadata": {},
   "outputs": [],
   "source": []
  },
  {
   "cell_type": "code",
   "execution_count": 21,
   "metadata": {},
   "outputs": [
    {
     "name": "stdout",
     "output_type": "stream",
     "text": [
      "Quadratic equation: y = -0.8476x² + 0.9406x + 0.0000\n",
      "R² Score: 0.284\n"
     ]
    },
    {
     "data": {
      "application/vnd.plotly.v1+json": {
       "config": {
        "plotlyServerURL": "https://plot.ly"
       },
       "data": [
        {
         "marker": {
          "color": "green",
          "opacity": 0.6,
          "size": 10
         },
         "mode": "markers",
         "name": "Error ≤ 5%",
         "type": "scatter",
         "x": [
          0.06819668480605824,
          0.2719072631353484,
          0.910018942805829,
          0.45462498393326184,
          0.6183931256023713,
          1.38289901032272,
          1.4735613321265169,
          2.576005437362323,
          2.246188864725486,
          2.4961162195070723,
          3.6387715920015538,
          3.722818300028649,
          2.662578535683596,
          3.7255332729288826,
          2.9511834319526695,
          5.193547317909129,
          4.902454511615695,
          6.216755319148936,
          6.543349852011343,
          7.158069674391972,
          5.8743130434187405,
          6.322040387419454,
          9.54362568428856,
          6.857920552203788,
          5.190106282117129,
          4.580174889777063,
          5.776312221746017
         ],
         "y": [
          4.000000000000008,
          2.388888888888895,
          1.3793103448275863,
          3.6666666666666634,
          0.6206896551724177,
          2.896551724137923,
          2.8888888888888826,
          4.689655172413801,
          4.66666666666667,
          2.5555555555555522,
          1.8620689655172336,
          2.4827586206896513,
          0.7222222222222285,
          0.1379310344827508,
          0.5517241379310424,
          3.103448275862069,
          0.16666666666667299,
          2.965517241379318,
          0.7586206896551685,
          3.931034482758613,
          2.83333333333333,
          3.9444444444444415,
          2.7586206896551726,
          3.2222222222222285,
          3.793103448275862,
          3.9444444444444415,
          0.9655172413793143
         ]
        },
        {
         "marker": {
          "color": "yellow",
          "opacity": 0.6,
          "size": 10
         },
         "mode": "markers",
         "name": "5% < Error ≤ 10%",
         "type": "scatter",
         "x": [
          0.06560433241892914,
          0.44251989440297856,
          2.8653838476585847,
          2.2953794759610755,
          3.7101890390362833,
          5.290556620507818,
          6.0311290132538655,
          6.185869246555263,
          6.91075495227486,
          9.455520896612448,
          7.649384365136645,
          7.709092597321189,
          9.32942765874168,
          5.6427307993046165,
          6.626369451250111,
          8.734013895231067,
          9.82370413832304,
          7.949803637502098
         ],
         "y": [
          6.75862068965518,
          6.344827586206889,
          5.310344827586199,
          5.777777777777781,
          5.388888888888883,
          5.7222222222222285,
          6.111111111111111,
          7.444444444444448,
          8.777777777777784,
          6.896551724137931,
          9.777777777777775,
          6.388888888888888,
          9.722222222222223,
          6.689655172413786,
          8.206896551724142,
          6.166666666666663,
          5.793103448275866,
          7.379310344827579
         ]
        },
        {
         "marker": {
          "color": "orange",
          "opacity": 0.6,
          "size": 10
         },
         "mode": "markers",
         "name": "10% < Error ≤ 15%",
         "type": "scatter",
         "x": [
          1.1809716535184118,
          4.7224216144421725,
          8.532781772218396,
          8.77770493632572,
          7.4659118452999635
         ],
         "y": [
          12.94444444444445,
          11.722222222222218,
          12.777777777777777,
          11.444444444444441,
          12.82758620689655
         ]
        },
        {
         "marker": {
          "color": "red",
          "opacity": 0.6,
          "size": 10
         },
         "mode": "markers",
         "name": "Error > 15%",
         "type": "scatter",
         "x": [
          9.869109440804623
         ],
         "y": [
          16.827586206896555
         ]
        },
        {
         "line": {
          "color": "black",
          "width": 2
         },
         "mode": "lines",
         "name": "Quadratic fit (R² = 0.284)",
         "type": "scatter",
         "x": [
          0.06560433241892914,
          0.16462963654403717,
          0.2636549406691452,
          0.36268024479425326,
          0.4617055489193613,
          0.5607308530444692,
          0.6597561571695774,
          0.7587814612946854,
          0.8578067654197934,
          0.9568320695449014,
          1.0558573736700094,
          1.1548826777951173,
          1.2539079819202255,
          1.3529332860453334,
          1.4519585901704415,
          1.5509838942955494,
          1.6500091984206575,
          1.7490345025457656,
          1.8480598066708736,
          1.9470851107959817,
          2.0461104149210896,
          2.145135719046198,
          2.244161023171306,
          2.3431863272964137,
          2.442211631421522,
          2.54123693554663,
          2.640262239671738,
          2.7392875437968462,
          2.838312847921954,
          2.937338152047062,
          3.03636345617217,
          3.1353887602972783,
          3.234414064422386,
          3.333439368547494,
          3.4324646726726025,
          3.5314899767977104,
          3.6305152809228183,
          3.729540585047926,
          3.8285658891730345,
          3.9275911932981424,
          4.02661649742325,
          4.125641801548358,
          4.224667105673467,
          4.323692409798575,
          4.422717713923682,
          4.521743018048791,
          4.620768322173898,
          4.719793626299007,
          4.818818930424115,
          4.917844234549222,
          5.016869538674331,
          5.115894842799439,
          5.2149201469245465,
          5.313945451049655,
          5.412970755174763,
          5.511996059299871,
          5.611021363424979,
          5.710046667550087,
          5.809071971675195,
          5.908097275800303,
          6.007122579925411,
          6.106147884050519,
          6.205173188175627,
          6.304198492300735,
          6.403223796425843,
          6.5022491005509515,
          6.601274404676059,
          6.700299708801167,
          6.799325012926276,
          6.898350317051383,
          6.9973756211764915,
          7.096400925301599,
          7.195426229426707,
          7.294451533551816,
          7.393476837676923,
          7.4925021418020314,
          7.59152744592714,
          7.690552750052247,
          7.789578054177356,
          7.888603358302464,
          7.987628662427571,
          8.086653966552678,
          8.185679270677786,
          8.284704574802895,
          8.383729878928003,
          8.482755183053111,
          8.58178048717822,
          8.680805791303326,
          8.779831095428435,
          8.878856399553543,
          8.977881703678651,
          9.07690700780376,
          9.175932311928866,
          9.274957616053975,
          9.373982920179083,
          9.473008224304191,
          9.5720335284293,
          9.671058832554408,
          9.770084136679515,
          9.869109440804623
         ],
         "y": [
          4.236200465950638,
          4.310747646619311,
          4.370342949886311,
          4.415962786758987,
          4.448561416378669,
          4.469070946020659,
          4.478401331094236,
          4.477440375142659,
          4.467053729843159,
          4.448084895006948,
          4.421355218579212,
          4.387663896639112,
          4.347787973399791,
          4.302482341208363,
          4.252479740545922,
          4.1984907600275365,
          4.141203836402252,
          4.081285254553093,
          4.019379147497057,
          3.9561074963851204,
          3.8920701305022356,
          3.8278447272673306,
          3.763986812233313,
          3.7010297590870627,
          3.639484789649439,
          3.5798409738752786,
          3.5225652298533903,
          3.468102323806566,
          3.4168748700915685,
          3.3692833311991395,
          3.325706017753998,
          3.2864990885148364,
          3.2519965503743307,
          3.222510258359124,
          3.198329915629844,
          3.1797230734810897,
          3.16693513134144,
          3.160189336773449,
          3.1596867854736477,
          3.1656064212725434,
          3.1781050361346184,
          3.1973172701583383,
          3.2233556115761344,
          3.2563103967544182,
          3.2962498101935918,
          3.343219884528014,
          3.397244500526024,
          3.458325387089948,
          3.5264421212560864,
          3.601552128194702,
          3.6835906812100547,
          3.7724709017403684,
          3.86808375935784,
          3.9702980717686542,
          4.0789605048129705,
          4.193895572464912,
          4.314905636832594,
          4.4417709081581025,
          4.574249444817499,
          4.712077153320831,
          4.854967788312097,
          5.002612952569302,
          5.154682097004409,
          5.310822520663367,
          5.470659370726098,
          5.6337956425065014,
          5.799812179452443,
          5.9682676731457915,
          6.138698663302362,
          6.310619537771954,
          6.483522532538369,
          6.656877731719339,
          6.830133067566638,
          7.002714320465935,
          7.174025118936937,
          7.343446939633322,
          7.510339107342699,
          7.674038794986709,
          7.833861023620948,
          7.9890986624349605,
          8.139022428752323,
          8.282880888030547,
          8.419900453861128,
          8.549285387969563,
          8.670217800215289,
          8.781857648591739,
          8.883342739226322,
          8.97378872638042,
          9.052289112449373,
          9.117915247962557,
          9.169716331583261,
          9.206719410108786,
          9.227929378470385,
          9.23232897973332,
          9.218878805096779,
          9.18651729389397,
          9.134160733592068,
          9.060703259792286,
          8.96501685622965,
          8.845951354773295
         ]
        }
       ],
       "layout": {
        "height": 800,
        "plot_bgcolor": "white",
        "showlegend": true,
        "template": {
         "data": {
          "bar": [
           {
            "error_x": {
             "color": "#2a3f5f"
            },
            "error_y": {
             "color": "#2a3f5f"
            },
            "marker": {
             "line": {
              "color": "#E5ECF6",
              "width": 0.5
             },
             "pattern": {
              "fillmode": "overlay",
              "size": 10,
              "solidity": 0.2
             }
            },
            "type": "bar"
           }
          ],
          "barpolar": [
           {
            "marker": {
             "line": {
              "color": "#E5ECF6",
              "width": 0.5
             },
             "pattern": {
              "fillmode": "overlay",
              "size": 10,
              "solidity": 0.2
             }
            },
            "type": "barpolar"
           }
          ],
          "carpet": [
           {
            "aaxis": {
             "endlinecolor": "#2a3f5f",
             "gridcolor": "white",
             "linecolor": "white",
             "minorgridcolor": "white",
             "startlinecolor": "#2a3f5f"
            },
            "baxis": {
             "endlinecolor": "#2a3f5f",
             "gridcolor": "white",
             "linecolor": "white",
             "minorgridcolor": "white",
             "startlinecolor": "#2a3f5f"
            },
            "type": "carpet"
           }
          ],
          "choropleth": [
           {
            "colorbar": {
             "outlinewidth": 0,
             "ticks": ""
            },
            "type": "choropleth"
           }
          ],
          "contour": [
           {
            "colorbar": {
             "outlinewidth": 0,
             "ticks": ""
            },
            "colorscale": [
             [
              0,
              "#0d0887"
             ],
             [
              0.1111111111111111,
              "#46039f"
             ],
             [
              0.2222222222222222,
              "#7201a8"
             ],
             [
              0.3333333333333333,
              "#9c179e"
             ],
             [
              0.4444444444444444,
              "#bd3786"
             ],
             [
              0.5555555555555556,
              "#d8576b"
             ],
             [
              0.6666666666666666,
              "#ed7953"
             ],
             [
              0.7777777777777778,
              "#fb9f3a"
             ],
             [
              0.8888888888888888,
              "#fdca26"
             ],
             [
              1,
              "#f0f921"
             ]
            ],
            "type": "contour"
           }
          ],
          "contourcarpet": [
           {
            "colorbar": {
             "outlinewidth": 0,
             "ticks": ""
            },
            "type": "contourcarpet"
           }
          ],
          "heatmap": [
           {
            "colorbar": {
             "outlinewidth": 0,
             "ticks": ""
            },
            "colorscale": [
             [
              0,
              "#0d0887"
             ],
             [
              0.1111111111111111,
              "#46039f"
             ],
             [
              0.2222222222222222,
              "#7201a8"
             ],
             [
              0.3333333333333333,
              "#9c179e"
             ],
             [
              0.4444444444444444,
              "#bd3786"
             ],
             [
              0.5555555555555556,
              "#d8576b"
             ],
             [
              0.6666666666666666,
              "#ed7953"
             ],
             [
              0.7777777777777778,
              "#fb9f3a"
             ],
             [
              0.8888888888888888,
              "#fdca26"
             ],
             [
              1,
              "#f0f921"
             ]
            ],
            "type": "heatmap"
           }
          ],
          "heatmapgl": [
           {
            "colorbar": {
             "outlinewidth": 0,
             "ticks": ""
            },
            "colorscale": [
             [
              0,
              "#0d0887"
             ],
             [
              0.1111111111111111,
              "#46039f"
             ],
             [
              0.2222222222222222,
              "#7201a8"
             ],
             [
              0.3333333333333333,
              "#9c179e"
             ],
             [
              0.4444444444444444,
              "#bd3786"
             ],
             [
              0.5555555555555556,
              "#d8576b"
             ],
             [
              0.6666666666666666,
              "#ed7953"
             ],
             [
              0.7777777777777778,
              "#fb9f3a"
             ],
             [
              0.8888888888888888,
              "#fdca26"
             ],
             [
              1,
              "#f0f921"
             ]
            ],
            "type": "heatmapgl"
           }
          ],
          "histogram": [
           {
            "marker": {
             "pattern": {
              "fillmode": "overlay",
              "size": 10,
              "solidity": 0.2
             }
            },
            "type": "histogram"
           }
          ],
          "histogram2d": [
           {
            "colorbar": {
             "outlinewidth": 0,
             "ticks": ""
            },
            "colorscale": [
             [
              0,
              "#0d0887"
             ],
             [
              0.1111111111111111,
              "#46039f"
             ],
             [
              0.2222222222222222,
              "#7201a8"
             ],
             [
              0.3333333333333333,
              "#9c179e"
             ],
             [
              0.4444444444444444,
              "#bd3786"
             ],
             [
              0.5555555555555556,
              "#d8576b"
             ],
             [
              0.6666666666666666,
              "#ed7953"
             ],
             [
              0.7777777777777778,
              "#fb9f3a"
             ],
             [
              0.8888888888888888,
              "#fdca26"
             ],
             [
              1,
              "#f0f921"
             ]
            ],
            "type": "histogram2d"
           }
          ],
          "histogram2dcontour": [
           {
            "colorbar": {
             "outlinewidth": 0,
             "ticks": ""
            },
            "colorscale": [
             [
              0,
              "#0d0887"
             ],
             [
              0.1111111111111111,
              "#46039f"
             ],
             [
              0.2222222222222222,
              "#7201a8"
             ],
             [
              0.3333333333333333,
              "#9c179e"
             ],
             [
              0.4444444444444444,
              "#bd3786"
             ],
             [
              0.5555555555555556,
              "#d8576b"
             ],
             [
              0.6666666666666666,
              "#ed7953"
             ],
             [
              0.7777777777777778,
              "#fb9f3a"
             ],
             [
              0.8888888888888888,
              "#fdca26"
             ],
             [
              1,
              "#f0f921"
             ]
            ],
            "type": "histogram2dcontour"
           }
          ],
          "mesh3d": [
           {
            "colorbar": {
             "outlinewidth": 0,
             "ticks": ""
            },
            "type": "mesh3d"
           }
          ],
          "parcoords": [
           {
            "line": {
             "colorbar": {
              "outlinewidth": 0,
              "ticks": ""
             }
            },
            "type": "parcoords"
           }
          ],
          "pie": [
           {
            "automargin": true,
            "type": "pie"
           }
          ],
          "scatter": [
           {
            "fillpattern": {
             "fillmode": "overlay",
             "size": 10,
             "solidity": 0.2
            },
            "type": "scatter"
           }
          ],
          "scatter3d": [
           {
            "line": {
             "colorbar": {
              "outlinewidth": 0,
              "ticks": ""
             }
            },
            "marker": {
             "colorbar": {
              "outlinewidth": 0,
              "ticks": ""
             }
            },
            "type": "scatter3d"
           }
          ],
          "scattercarpet": [
           {
            "marker": {
             "colorbar": {
              "outlinewidth": 0,
              "ticks": ""
             }
            },
            "type": "scattercarpet"
           }
          ],
          "scattergeo": [
           {
            "marker": {
             "colorbar": {
              "outlinewidth": 0,
              "ticks": ""
             }
            },
            "type": "scattergeo"
           }
          ],
          "scattergl": [
           {
            "marker": {
             "colorbar": {
              "outlinewidth": 0,
              "ticks": ""
             }
            },
            "type": "scattergl"
           }
          ],
          "scattermapbox": [
           {
            "marker": {
             "colorbar": {
              "outlinewidth": 0,
              "ticks": ""
             }
            },
            "type": "scattermapbox"
           }
          ],
          "scatterpolar": [
           {
            "marker": {
             "colorbar": {
              "outlinewidth": 0,
              "ticks": ""
             }
            },
            "type": "scatterpolar"
           }
          ],
          "scatterpolargl": [
           {
            "marker": {
             "colorbar": {
              "outlinewidth": 0,
              "ticks": ""
             }
            },
            "type": "scatterpolargl"
           }
          ],
          "scatterternary": [
           {
            "marker": {
             "colorbar": {
              "outlinewidth": 0,
              "ticks": ""
             }
            },
            "type": "scatterternary"
           }
          ],
          "surface": [
           {
            "colorbar": {
             "outlinewidth": 0,
             "ticks": ""
            },
            "colorscale": [
             [
              0,
              "#0d0887"
             ],
             [
              0.1111111111111111,
              "#46039f"
             ],
             [
              0.2222222222222222,
              "#7201a8"
             ],
             [
              0.3333333333333333,
              "#9c179e"
             ],
             [
              0.4444444444444444,
              "#bd3786"
             ],
             [
              0.5555555555555556,
              "#d8576b"
             ],
             [
              0.6666666666666666,
              "#ed7953"
             ],
             [
              0.7777777777777778,
              "#fb9f3a"
             ],
             [
              0.8888888888888888,
              "#fdca26"
             ],
             [
              1,
              "#f0f921"
             ]
            ],
            "type": "surface"
           }
          ],
          "table": [
           {
            "cells": {
             "fill": {
              "color": "#EBF0F8"
             },
             "line": {
              "color": "white"
             }
            },
            "header": {
             "fill": {
              "color": "#C8D4E3"
             },
             "line": {
              "color": "white"
             }
            },
            "type": "table"
           }
          ]
         },
         "layout": {
          "annotationdefaults": {
           "arrowcolor": "#2a3f5f",
           "arrowhead": 0,
           "arrowwidth": 1
          },
          "autotypenumbers": "strict",
          "coloraxis": {
           "colorbar": {
            "outlinewidth": 0,
            "ticks": ""
           }
          },
          "colorscale": {
           "diverging": [
            [
             0,
             "#8e0152"
            ],
            [
             0.1,
             "#c51b7d"
            ],
            [
             0.2,
             "#de77ae"
            ],
            [
             0.3,
             "#f1b6da"
            ],
            [
             0.4,
             "#fde0ef"
            ],
            [
             0.5,
             "#f7f7f7"
            ],
            [
             0.6,
             "#e6f5d0"
            ],
            [
             0.7,
             "#b8e186"
            ],
            [
             0.8,
             "#7fbc41"
            ],
            [
             0.9,
             "#4d9221"
            ],
            [
             1,
             "#276419"
            ]
           ],
           "sequential": [
            [
             0,
             "#0d0887"
            ],
            [
             0.1111111111111111,
             "#46039f"
            ],
            [
             0.2222222222222222,
             "#7201a8"
            ],
            [
             0.3333333333333333,
             "#9c179e"
            ],
            [
             0.4444444444444444,
             "#bd3786"
            ],
            [
             0.5555555555555556,
             "#d8576b"
            ],
            [
             0.6666666666666666,
             "#ed7953"
            ],
            [
             0.7777777777777778,
             "#fb9f3a"
            ],
            [
             0.8888888888888888,
             "#fdca26"
            ],
            [
             1,
             "#f0f921"
            ]
           ],
           "sequentialminus": [
            [
             0,
             "#0d0887"
            ],
            [
             0.1111111111111111,
             "#46039f"
            ],
            [
             0.2222222222222222,
             "#7201a8"
            ],
            [
             0.3333333333333333,
             "#9c179e"
            ],
            [
             0.4444444444444444,
             "#bd3786"
            ],
            [
             0.5555555555555556,
             "#d8576b"
            ],
            [
             0.6666666666666666,
             "#ed7953"
            ],
            [
             0.7777777777777778,
             "#fb9f3a"
            ],
            [
             0.8888888888888888,
             "#fdca26"
            ],
            [
             1,
             "#f0f921"
            ]
           ]
          },
          "colorway": [
           "#636efa",
           "#EF553B",
           "#00cc96",
           "#ab63fa",
           "#FFA15A",
           "#19d3f3",
           "#FF6692",
           "#B6E880",
           "#FF97FF",
           "#FECB52"
          ],
          "font": {
           "color": "#2a3f5f"
          },
          "geo": {
           "bgcolor": "white",
           "lakecolor": "white",
           "landcolor": "#E5ECF6",
           "showlakes": true,
           "showland": true,
           "subunitcolor": "white"
          },
          "hoverlabel": {
           "align": "left"
          },
          "hovermode": "closest",
          "mapbox": {
           "style": "light"
          },
          "paper_bgcolor": "white",
          "plot_bgcolor": "#E5ECF6",
          "polar": {
           "angularaxis": {
            "gridcolor": "white",
            "linecolor": "white",
            "ticks": ""
           },
           "bgcolor": "#E5ECF6",
           "radialaxis": {
            "gridcolor": "white",
            "linecolor": "white",
            "ticks": ""
           }
          },
          "scene": {
           "xaxis": {
            "backgroundcolor": "#E5ECF6",
            "gridcolor": "white",
            "gridwidth": 2,
            "linecolor": "white",
            "showbackground": true,
            "ticks": "",
            "zerolinecolor": "white"
           },
           "yaxis": {
            "backgroundcolor": "#E5ECF6",
            "gridcolor": "white",
            "gridwidth": 2,
            "linecolor": "white",
            "showbackground": true,
            "ticks": "",
            "zerolinecolor": "white"
           },
           "zaxis": {
            "backgroundcolor": "#E5ECF6",
            "gridcolor": "white",
            "gridwidth": 2,
            "linecolor": "white",
            "showbackground": true,
            "ticks": "",
            "zerolinecolor": "white"
           }
          },
          "shapedefaults": {
           "line": {
            "color": "#2a3f5f"
           }
          },
          "ternary": {
           "aaxis": {
            "gridcolor": "white",
            "linecolor": "white",
            "ticks": ""
           },
           "baxis": {
            "gridcolor": "white",
            "linecolor": "white",
            "ticks": ""
           },
           "bgcolor": "#E5ECF6",
           "caxis": {
            "gridcolor": "white",
            "linecolor": "white",
            "ticks": ""
           }
          },
          "title": {
           "x": 0.05
          },
          "xaxis": {
           "automargin": true,
           "gridcolor": "white",
           "linecolor": "white",
           "ticks": "",
           "title": {
            "standoff": 15
           },
           "zerolinecolor": "white",
           "zerolinewidth": 2
          },
          "yaxis": {
           "automargin": true,
           "gridcolor": "white",
           "linecolor": "white",
           "ticks": "",
           "title": {
            "standoff": 15
           },
           "zerolinecolor": "white",
           "zerolinewidth": 2
          }
         }
        },
        "title": {
         "text": "Quadratic Regression of Pixel vs Real Length Relative Differences<br>R²: 0.284"
        },
        "width": 800,
        "xaxis": {
         "gridcolor": "lightgray",
         "gridwidth": 1,
         "showgrid": true,
         "title": {
          "text": "Pixel Relative Difference (%)"
         }
        },
        "yaxis": {
         "gridcolor": "lightgray",
         "gridwidth": 1,
         "showgrid": true,
         "title": {
          "text": "Real Length Relative Difference (%)"
         }
        }
       }
      }
     },
     "metadata": {},
     "output_type": "display_data"
    }
   ],
   "source": [
    "import numpy as np\n",
    "from sklearn.preprocessing import PolynomialFeatures\n",
    "from sklearn.linear_model import LinearRegression\n",
    "import plotly.graph_objects as go\n",
    "\n",
    "# Prepare the data\n",
    "X = new_df['pixel_rel_diff'].values.reshape(-1, 1)\n",
    "y = new_df['real_length_rel_diff'].values\n",
    "\n",
    "# Create polynomial features (degree=2 for quadratic)\n",
    "poly_features = PolynomialFeatures(degree=4)\n",
    "X_poly = poly_features.fit_transform(X)\n",
    "\n",
    "# Fit polynomial regression\n",
    "poly_reg = LinearRegression()\n",
    "poly_reg.fit(X_poly, y)\n",
    "\n",
    "# Generate points for smooth curve\n",
    "X_smooth = np.linspace(X.min(), X.max(), 100).reshape(-1, 1)\n",
    "X_smooth_poly = poly_features.transform(X_smooth)\n",
    "y_smooth = poly_reg.predict(X_smooth_poly)\n",
    "\n",
    "# Calculate R² score\n",
    "r2_score = poly_reg.score(X_poly, y)\n",
    "\n",
    "# Create scatter plot with plotly\n",
    "fig = go.Figure()\n",
    "\n",
    "# Plot original points with different colors based on relative error\n",
    "error_thresholds = [5, 10, 15]\n",
    "colors = ['green', 'yellow', 'orange', 'red']\n",
    "\n",
    "for i in range(len(error_thresholds) + 1):\n",
    "    if i == 0:\n",
    "        mask = new_df['real_length_rel_diff'] <= error_thresholds[0]\n",
    "        label = f'Error ≤ {error_thresholds[0]}%'\n",
    "    elif i == len(error_thresholds):\n",
    "        mask = new_df['real_length_rel_diff'] > error_thresholds[-1]\n",
    "        label = f'Error > {error_thresholds[-1]}%'\n",
    "    else:\n",
    "        mask = (new_df['real_length_rel_diff'] > error_thresholds[i-1]) & \\\n",
    "               (new_df['real_length_rel_diff'] <= error_thresholds[i])\n",
    "        label = f'{error_thresholds[i-1]}% < Error ≤ {error_thresholds[i]}%'\n",
    "    \n",
    "    fig.add_trace(go.Scatter(\n",
    "        x=new_df[mask]['pixel_rel_diff'],\n",
    "        y=new_df[mask]['real_length_rel_diff'],\n",
    "        mode='markers',\n",
    "        name=label,\n",
    "        marker=dict(\n",
    "            color=colors[i],\n",
    "            size=10,\n",
    "            opacity=0.6\n",
    "        )\n",
    "    ))\n",
    "\n",
    "# Add quadratic regression curve\n",
    "fig.add_trace(go.Scatter(\n",
    "    x=X_smooth.flatten(),\n",
    "    y=y_smooth,\n",
    "    mode='lines',\n",
    "    name=f'Quadratic fit (R² = {r2_score:.3f})',\n",
    "    line=dict(color='black', width=2)\n",
    "))\n",
    "\n",
    "# Update layout\n",
    "fig.update_layout(\n",
    "    title=f'Quadratic Regression of Pixel vs Real Length Relative Differences<br>R²: {r2_score:.3f}',\n",
    "    xaxis_title='Pixel Relative Difference (%)',\n",
    "    yaxis_title='Real Length Relative Difference (%)',\n",
    "    showlegend=True,\n",
    "    width=800,\n",
    "    height=800,\n",
    "    plot_bgcolor='white'\n",
    ")\n",
    "\n",
    "# Add grid\n",
    "fig.update_xaxes(showgrid=True, gridwidth=1, gridcolor='lightgray')\n",
    "fig.update_yaxes(showgrid=True, gridwidth=1, gridcolor='lightgray')\n",
    "\n",
    "# Print the quadratic equation coefficients\n",
    "a = poly_reg.coef_[2]  # coefficient of x²\n",
    "b = poly_reg.coef_[1]  # coefficient of x\n",
    "c = poly_reg.coef_[0]  # constant term\n",
    "\n",
    "print(f\"Quadratic equation: y = {a:.4f}x² + {b:.4f}x + {c:.4f}\")\n",
    "print(f\"R² Score: {r2_score:.3f}\")\n",
    "\n",
    "fig.show()"
   ]
  }
 ],
 "metadata": {
  "kernelspec": {
   "display_name": ".venv",
   "language": "python",
   "name": "python3"
  },
  "language_info": {
   "codemirror_mode": {
    "name": "ipython",
    "version": 3
   },
   "file_extension": ".py",
   "mimetype": "text/x-python",
   "name": "python",
   "nbconvert_exporter": "python",
   "pygments_lexer": "ipython3",
   "version": "3.9.6"
  }
 },
 "nbformat": 4,
 "nbformat_minor": 2
}
