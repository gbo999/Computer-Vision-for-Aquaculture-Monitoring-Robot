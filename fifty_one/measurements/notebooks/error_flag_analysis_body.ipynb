{
 "cells": [
  {
   "cell_type": "markdown",
   "metadata": {},
   "source": [
    "## imports ##"
   ]
  },
  {
   "cell_type": "code",
   "execution_count": 1,
   "metadata": {},
   "outputs": [
    {
     "data": {
      "text/html": [
       "<div>\n",
       "<style scoped>\n",
       "    .dataframe tbody tr th:only-of-type {\n",
       "        vertical-align: middle;\n",
       "    }\n",
       "\n",
       "    .dataframe tbody tr th {\n",
       "        vertical-align: top;\n",
       "    }\n",
       "\n",
       "    .dataframe thead th {\n",
       "        text-align: right;\n",
       "    }\n",
       "</style>\n",
       "<table border=\"1\" class=\"dataframe\">\n",
       "  <thead>\n",
       "    <tr style=\"text-align: right;\">\n",
       "      <th></th>\n",
       "      <th>Label</th>\n",
       "      <th>PrawnID</th>\n",
       "      <th>Pond_Type</th>\n",
       "      <th>mean_length</th>\n",
       "      <th>std_length</th>\n",
       "      <th>Length_fov(mm)</th>\n",
       "      <th>mean_pixels</th>\n",
       "      <th>pred_Distance_pixels</th>\n",
       "      <th>Length_ground_truth_annotation_pixels</th>\n",
       "      <th>mean_scale</th>\n",
       "      <th>pred_scale</th>\n",
       "    </tr>\n",
       "  </thead>\n",
       "  <tbody>\n",
       "    <tr>\n",
       "      <th>0</th>\n",
       "      <td>full body:undistorted_GX010077_14_237.jpg_gamma</td>\n",
       "      <td>Prawn_0</td>\n",
       "      <td>circle_female</td>\n",
       "      <td>75.624000</td>\n",
       "      <td>3.484291</td>\n",
       "      <td>88.223862</td>\n",
       "      <td>397.144449</td>\n",
       "      <td>475.986860</td>\n",
       "      <td>381.935664</td>\n",
       "      <td>52.616333</td>\n",
       "      <td>53.952168</td>\n",
       "    </tr>\n",
       "    <tr>\n",
       "      <th>1</th>\n",
       "      <td>full body:undistorted_GX010077_14_237.jpg_gamma</td>\n",
       "      <td>Prawn_1</td>\n",
       "      <td>circle_female</td>\n",
       "      <td>119.409000</td>\n",
       "      <td>7.534347</td>\n",
       "      <td>130.307259</td>\n",
       "      <td>626.987760</td>\n",
       "      <td>701.859664</td>\n",
       "      <td>703.474985</td>\n",
       "      <td>52.616333</td>\n",
       "      <td>53.861901</td>\n",
       "    </tr>\n",
       "    <tr>\n",
       "      <th>2</th>\n",
       "      <td>full body:undistorted_GX010077_14_237.jpg_gamma</td>\n",
       "      <td>Prawn_2</td>\n",
       "      <td>circle_female</td>\n",
       "      <td>104.471333</td>\n",
       "      <td>11.118477</td>\n",
       "      <td>121.385411</td>\n",
       "      <td>551.072805</td>\n",
       "      <td>656.609979</td>\n",
       "      <td>580.506159</td>\n",
       "      <td>52.616333</td>\n",
       "      <td>54.092990</td>\n",
       "    </tr>\n",
       "    <tr>\n",
       "      <th>3</th>\n",
       "      <td>full body:undistorted_GX010067_33_625.jpg_gamma</td>\n",
       "      <td>Prawn_0</td>\n",
       "      <td>circle_female</td>\n",
       "      <td>120.649333</td>\n",
       "      <td>11.749097</td>\n",
       "      <td>139.780255</td>\n",
       "      <td>700.400878</td>\n",
       "      <td>748.301965</td>\n",
       "      <td>684.970469</td>\n",
       "      <td>58.258000</td>\n",
       "      <td>53.534168</td>\n",
       "    </tr>\n",
       "    <tr>\n",
       "      <th>4</th>\n",
       "      <td>full body:undistorted_GX010067_33_625.jpg_gamma</td>\n",
       "      <td>Prawn_1</td>\n",
       "      <td>circle_female</td>\n",
       "      <td>93.004000</td>\n",
       "      <td>6.587385</td>\n",
       "      <td>102.721787</td>\n",
       "      <td>540.592735</td>\n",
       "      <td>551.039760</td>\n",
       "      <td>531.465367</td>\n",
       "      <td>58.258000</td>\n",
       "      <td>53.643903</td>\n",
       "    </tr>\n",
       "  </tbody>\n",
       "</table>\n",
       "</div>"
      ],
      "text/plain": [
       "                                             Label  PrawnID      Pond_Type  \\\n",
       "0  full body:undistorted_GX010077_14_237.jpg_gamma  Prawn_0  circle_female   \n",
       "1  full body:undistorted_GX010077_14_237.jpg_gamma  Prawn_1  circle_female   \n",
       "2  full body:undistorted_GX010077_14_237.jpg_gamma  Prawn_2  circle_female   \n",
       "3  full body:undistorted_GX010067_33_625.jpg_gamma  Prawn_0  circle_female   \n",
       "4  full body:undistorted_GX010067_33_625.jpg_gamma  Prawn_1  circle_female   \n",
       "\n",
       "   mean_length  std_length  Length_fov(mm)  mean_pixels  pred_Distance_pixels  \\\n",
       "0    75.624000    3.484291       88.223862   397.144449            475.986860   \n",
       "1   119.409000    7.534347      130.307259   626.987760            701.859664   \n",
       "2   104.471333   11.118477      121.385411   551.072805            656.609979   \n",
       "3   120.649333   11.749097      139.780255   700.400878            748.301965   \n",
       "4    93.004000    6.587385      102.721787   540.592735            551.039760   \n",
       "\n",
       "   Length_ground_truth_annotation_pixels  mean_scale  pred_scale  \n",
       "0                             381.935664   52.616333   53.952168  \n",
       "1                             703.474985   52.616333   53.861901  \n",
       "2                             580.506159   52.616333   54.092990  \n",
       "3                             684.970469   58.258000   53.534168  \n",
       "4                             531.465367   58.258000   53.643903  "
      ]
     },
     "execution_count": 1,
     "metadata": {},
     "output_type": "execute_result"
    }
   ],
   "source": [
    "import pandas as pd\n",
    "import numpy as np\n",
    "import matplotlib.pyplot as plt\n",
    "import seaborn as sns\n",
    "import plotly.graph_objects as go\n",
    "import plotly.express as px\n",
    "import plotly.subplots as sp\n",
    "from plotly.subplots import make_subplots\n",
    "import plotly.graph_objects as go\n",
    "import plotly.express as px\n",
    "#remove warnings\n",
    "import warnings\n",
    "warnings.filterwarnings('ignore')\n",
    "\n",
    "df=pd.read_csv('/Users/gilbenor/Documents/code_projects/msc/counting_research_algorithms/fifty_one/measurements/results/analysis/error_flags_analysis_body_all_mean.csv')\n",
    "df.head()"
   ]
  },
  {
   "cell_type": "markdown",
   "metadata": {},
   "source": [
    "## Error decompoition ##"
   ]
  },
  {
   "cell_type": "markdown",
   "metadata": {},
   "source": [
    "### cancellation magnitude ###"
   ]
  },
  {
   "cell_type": "code",
   "execution_count": 11,
   "metadata": {},
   "outputs": [
    {
     "name": "stdout",
     "output_type": "stream",
     "text": [
      "\n",
      "--- Error Analysis for Pond Type: circle_female ---\n",
      "   - Number of points in df_pond: 92\n",
      "1. Partial Cancellation of Errors:\n",
      "   - Percentage of points with partial cancellation: 88.04%\n",
      "\n",
      "2. Cancellation Magnitude:\n",
      "   - Mean cancellation magnitude: 9.38\n",
      "   - Mean percentage of cancellation magnitude relative to Length_fov(mm): 7.35%\n",
      "\n",
      "3. Dominance of Error Types:\n",
      "   - Number of points where Scale Error is dominant: 54\n",
      "   - Percentage of points where Scale Error is dominant: 58.70%\n",
      "   - Number of points where Pixel Error is dominant: 38\n",
      "   - Percentage of points where Pixel Error is dominant: 41.30%\n",
      "\n",
      "----------------------------------------\n",
      "\n",
      "\n",
      "--- Error Analysis for Pond Type: circle_male ---\n",
      "   - Number of points in df_pond: 13\n",
      "1. Partial Cancellation of Errors:\n",
      "   - Percentage of points with partial cancellation: 100.00%\n",
      "\n",
      "2. Cancellation Magnitude:\n",
      "   - Mean cancellation magnitude: 11.68\n",
      "   - Mean percentage of cancellation magnitude relative to Length_fov(mm): 13.80%\n",
      "\n",
      "3. Dominance of Error Types:\n",
      "   - Number of points where Scale Error is dominant: 10\n",
      "   - Percentage of points where Scale Error is dominant: 76.92%\n",
      "   - Number of points where Pixel Error is dominant: 3\n",
      "   - Percentage of points where Pixel Error is dominant: 23.08%\n",
      "\n",
      "----------------------------------------\n",
      "\n",
      "\n",
      "--- Error Analysis for Pond Type: square ---\n",
      "   - Number of points in df_pond: 14\n",
      "1. Partial Cancellation of Errors:\n",
      "   - Percentage of points with partial cancellation: 21.43%\n",
      "\n",
      "2. Cancellation Magnitude:\n",
      "   - Mean cancellation magnitude: 6.18\n",
      "   - Mean percentage of cancellation magnitude relative to Length_fov(mm): 5.50%\n",
      "\n",
      "3. Dominance of Error Types:\n",
      "   - Number of points where Scale Error is dominant: 9\n",
      "   - Percentage of points where Scale Error is dominant: 64.29%\n",
      "   - Number of points where Pixel Error is dominant: 5\n",
      "   - Percentage of points where Pixel Error is dominant: 35.71%\n",
      "\n",
      "----------------------------------------\n",
      "\n"
     ]
    },
    {
     "data": {
      "image/png": "[encoded data removed]",
      "text/plain": [
       "<Figure size 1500x500 with 3 Axes>"
      ]
     },
     "metadata": {},
     "output_type": "display_data"
    },
    {
     "data": {
      "application/vnd.plotly.v1+json": {
       "config": {
        "plotlyServerURL": "https://plot.ly"
       },
       "data": [
        {
         "customdata": [
          [
           "full body:undistorted_GX010077_14_237.jpg_gamma",
           "Prawn_0",
           75.62400000000001,
           88.2238618583865
          ],
          [
           "full body:undistorted_GX010077_14_237.jpg_gamma",
           "Prawn_1",
           119.409,
           130.3072585703342
          ],
          [
           "full body:undistorted_GX010077_14_237.jpg_gamma",
           "Prawn_2",
           104.47133333333332,
           121.3854113491351
          ],
          [
           "full body:undistorted_GX010067_33_625.jpg_gamma",
           "Prawn_0",
           120.64933333333332,
           139.7802545895399
          ],
          [
           "full body:undistorted_GX010067_33_625.jpg_gamma",
           "Prawn_1",
           93.004,
           102.7217873465614
          ],
          [
           "full body:undistorted_GX010067_33_625.jpg_gamma",
           "Prawn_2",
           147.809,
           151.3019191079152
          ],
          [
           "full body:undistorted_GX010067_33_625.jpg_gamma",
           "Prawn_3",
           89.831,
           92.62644213355016
          ],
          [
           "full body:undistorted_GX010068_26_666.jpg_gamma",
           "Prawn_0",
           112.46333333333332,
           118.3209877143123
          ],
          [
           "full body:undistorted_GX010068_26_666.jpg_gamma",
           "Prawn_1",
           115.24966666666668,
           129.7931589838535
          ],
          [
           "full body:undistorted_GX010068_26_666.jpg_gamma",
           "Prawn_2",
           123.17266666666669,
           134.320538518607
          ],
          [
           "full body:undistorted_GX010068_27_795.jpg_gamma",
           "Prawn_0",
           137.58866666666663,
           144.3400041440258
          ],
          [
           "full body:undistorted_GX010068_27_795.jpg_gamma",
           "Prawn_1",
           136.09433333333334,
           124.309505044012
          ],
          [
           "full body:undistorted_GX010069_19_191.jpg_gamma",
           "Prawn_0",
           102.96233333333332,
           126.5824151852613
          ],
          [
           "full body:undistorted_GX010069_19_191.jpg_gamma",
           "Prawn_1",
           87.69233333333334,
           100.5173592459666
          ],
          [
           "full body:undistorted_GX010069_19_191.jpg_gamma",
           "Prawn_2",
           108.03966666666668,
           117.3319023643254
          ],
          [
           "full body:undistorted_GX010069_19_191.jpg_gamma",
           "Prawn_3",
           112.21633333333334,
           118.1661086516886
          ],
          [
           "full body:undistorted_GX010071_22_444.jpg_gamma",
           "Prawn_0",
           131.18266666666668,
           144.4489907657441
          ],
          [
           "full body:undistorted_GX010071_22_444.jpg_gamma",
           "Prawn_1",
           126.04,
           123.1204379059823
          ],
          [
           "full body:undistorted_GX010073_42_695.jpg_gamma",
           "Prawn_1",
           84.04366666666665,
           90.9921652733458
          ],
          [
           "full body:undistorted_GX010073_42_695.jpg_gamma",
           "Prawn_2",
           144.47966666666665,
           141.8652283276093
          ],
          [
           "full body:undistorted_GX010073_55_1014.jpg_gamma",
           "Prawn_0",
           113.72700000000002,
           120.9802044842614
          ],
          [
           "full body:undistorted_GX010073_55_1014.jpg_gamma",
           "Prawn_1",
           108.85633333333334,
           115.814424183012
          ],
          [
           "full body:undistorted_GX010073_55_1014.jpg_gamma",
           "Prawn_2",
           94.282,
           109.380793272358
          ],
          [
           "full body:undistorted_GX010080_157_2283.jpg_gamma",
           "Prawn_0",
           106.32633333333332,
           142.3471786776564
          ],
          [
           "full body:undistorted_GX010080_157_2283.jpg_gamma",
           "Prawn_2",
           99.51133333333333,
           124.5870704174287
          ],
          [
           "full body:undistorted_GX010080_157_2283.jpg_gamma",
           "Prawn_3",
           108.72966666666667,
           127.3649364046984
          ],
          [
           "full body:undistorted_GX010080_193_2640.jpg_gamma",
           "Prawn_0",
           120.77733333333332,
           140.4721189676514
          ],
          [
           "full body:undistorted_GX010080_193_2640.jpg_gamma",
           "Prawn_1",
           115.48133333333334,
           124.5776632907126
          ],
          [
           "full body:undistorted_GX010080_193_2640.jpg_gamma",
           "Prawn_2",
           114.69966666666666,
           124.1185335344902
          ],
          [
           "full body:undistorted_GX010080_193_2640.jpg_gamma",
           "Prawn_3",
           107.973,
           127.7329403277941
          ],
          [
           "full body:undistorted_GX010080_193_2640.jpg_gamma",
           "Prawn_4",
           113.177,
           132.9033880770651
          ],
          [
           "full body:undistorted_GX010080_212_2954.jpg_gamma",
           "Prawn_0",
           124.24166666666667,
           144.8775231496437
          ],
          [
           "full body:undistorted_GX010080_212_2954.jpg_gamma",
           "Prawn_1",
           128.16033333333334,
           140.9282298037327
          ],
          [
           "full body:undistorted_GX010080_212_2954.jpg_gamma",
           "Prawn_2",
           142.70433333333335,
           140.9282298037327
          ],
          [
           "full body:undistorted_GX010080_237_3366.jpg_gamma",
           "Prawn_0",
           129.93933333333334,
           152.7145736615965
          ],
          [
           "full body:undistorted_GX010080_237_3366.jpg_gamma",
           "Prawn_1",
           132.354,
           152.5164527792293
          ],
          [
           "full body:undistorted_GX010080_237_3366.jpg_gamma",
           "Prawn_2",
           95.67199999999998,
           112.14672367864
          ],
          [
           "full body:undistorted_GX010080_237_3366.jpg_gamma",
           "Prawn_3",
           120.09466666666668,
           124.1335424223215
          ],
          [
           "full body:undistorted_GX010080_237_3366.jpg_gamma",
           "Prawn_4",
           148.17133333333334,
           156.7156125771451
          ],
          [
           "full body:undistorted_GX010080_238_3392.jpg_gamma",
           "Prawn_0",
           121.37733333333334,
           140.9654013915187
          ],
          [
           "full body:undistorted_GX010080_238_3392.jpg_gamma",
           "Prawn_1",
           128.20933333333332,
           139.8766897076493
          ],
          [
           "full body:undistorted_GX010080_238_3392.jpg_gamma",
           "Prawn_2",
           101.84633333333332,
           110.9150893382841
          ],
          [
           "full body:undistorted_GX010080_238_3392.jpg_gamma",
           "Prawn_3",
           126.37966666666668,
           137.8028076480297
          ],
          [
           "full body:undistorted_GX010082_8_59.jpg_gamma",
           "Prawn_1",
           135.76733333333334,
           143.7517333071236
          ],
          [
           "full body:undistorted_GX010082_8_59.jpg_gamma",
           "Prawn_2",
           123.45166666666668,
           119.9973605908696
          ],
          [
           "full body:undistorted_GX010082_8_59.jpg_gamma",
           "Prawn_3",
           119.83933333333334,
           150.7099886412093
          ],
          [
           "full body:undistorted_GX010082_8_59.jpg_gamma",
           "Prawn_4",
           94.914,
           120.3495824690556
          ],
          [
           "full body:undistorted_GX010082_53_796.jpg_gamma",
           "Prawn_0",
           85.173,
           86.29366664090915
          ],
          [
           "full body:undistorted_GX010082_53_796.jpg_gamma",
           "Prawn_1",
           143.83033333333333,
           151.9499160522697
          ],
          [
           "full body:undistorted_GX010082_65_1070.jpg_gamma",
           "Prawn_0",
           97.42,
           121.6588452961211
          ],
          [
           "full body:undistorted_GX010082_65_1070.jpg_gamma",
           "Prawn_1",
           129.8183333333333,
           153.5811701319379
          ],
          [
           "full body:undistorted_GX010082_65_1070.jpg_gamma",
           "Prawn_2",
           116.80933333333331,
           135.60917500537
          ],
          [
           "full body:undistorted_GX010082_236_3137.jpg_gamma",
           "Prawn_0",
           67.466,
           88.8025214239344
          ],
          [
           "full body:undistorted_GX010082_236_3137.jpg_gamma",
           "Prawn_1",
           113.96533333333332,
           139.4584460092295
          ],
          [
           "full body:undistorted_GX010082_236_3137.jpg_gamma",
           "Prawn_2",
           115.32833333333332,
           142.0844249272272
          ],
          [
           "full body:undistorted_GX010084_30_344.jpg_gamma",
           "Prawn_0",
           111.61866666666668,
           123.3303944030748
          ],
          [
           "full body:undistorted_GX010084_30_344.jpg_gamma",
           "Prawn_1",
           116.77266666666668,
           129.8682000360583
          ],
          [
           "full body:undistorted_GX010084_30_344.jpg_gamma",
           "Prawn_2",
           121.82066666666668,
           125.6134826389923
          ],
          [
           "full body:undistorted_GX010084_30_344.jpg_gamma",
           "Prawn_3",
           135.806,
           130.9845595028721
          ],
          [
           "full body:undistorted_GX010084_130_1748.jpg_gamma",
           "Prawn_0",
           124.16566666666668,
           125.2232041184863
          ],
          [
           "full body:undistorted_GX010084_130_1748.jpg_gamma",
           "Prawn_1",
           98.72266666666668,
           113.016484322455
          ],
          [
           "full body:undistorted_GX010084_130_1748.jpg_gamma",
           "Prawn_2",
           135.8903333333333,
           132.897186048176
          ],
          [
           "full body:undistorted_GX010085_261_3610.jpg_gamma",
           "Prawn_0",
           130.186,
           133.9932992972118
          ],
          [
           "full body:undistorted_GX010085_261_3610.jpg_gamma",
           "Prawn_1",
           116.825,
           109.7333517678867
          ],
          [
           "full body:undistorted_GX010088_209_2904.jpg_gamma",
           "Prawn_0",
           105.59166666666668,
           109.6207053095443
          ],
          [
           "full body:undistorted_GX010088_209_2904.jpg_gamma",
           "Prawn_1",
           113.83366666666666,
           129.2109593312319
          ],
          [
           "full body:undistorted_GX010088_262_3712.jpg_gamma",
           "Prawn_0",
           134.67533333333336,
           135.1131308271707
          ],
          [
           "full body:undistorted_GX010088_262_3712.jpg_gamma",
           "Prawn_1",
           147.93500000000003,
           125.8639314174425
          ],
          [
           "full body:undistorted_GX010088_262_3712.jpg_gamma",
           "Prawn_2",
           168.85266666666666,
           144.7999159279992
          ],
          [
           "full body:undistorted_GX010088_327_4364.jpg_gamma",
           "Prawn_0",
           127.02466666666665,
           122.7538914984202
          ],
          [
           "full body:undistorted_GX010088_327_4364.jpg_gamma",
           "Prawn_1",
           127.067,
           129.2765201473148
          ],
          [
           "full body:undistorted_GX010088_327_4364.jpg_gamma",
           "Prawn_2",
           110.01333333333334,
           113.3658144298521
          ],
          [
           "full body:undistorted_GX010088_327_4364.jpg_gamma",
           "Prawn_3",
           134.249,
           126.4906331509988
          ],
          [
           "full body:undistorted_GX010090_132_1852.jpg_gamma",
           "Prawn_0",
           124.40566666666666,
           150.8168572258346
          ],
          [
           "full body:undistorted_GX010094_9_129.jpg_gamma",
           "Prawn_0",
           85.40533333333333,
           105.4583375172172
          ],
          [
           "full body:undistorted_GX010094_9_129.jpg_gamma",
           "Prawn_1",
           112.616,
           122.4403386329594
          ],
          [
           "full body:undistorted_GX010094_24_430.jpg_gamma",
           "Prawn_0",
           116.28066666666666,
           122.5679516169286
          ],
          [
           "full body:undistorted_GX010094_93_1258.jpg_gamma",
           "Prawn_0",
           118.99366666666668,
           124.4208728665562
          ],
          [
           "full body:undistorted_GX010094_163_2312.jpg_gamma",
           "Prawn_0",
           118.656,
           138.2151955256912
          ],
          [
           "full body:undistorted_GX010097_32_528.jpg_gamma",
           "Prawn_0",
           103.21066666666668,
           125.1652242436247
          ],
          [
           "full body:undistorted_GX010097_32_528.jpg_gamma",
           "Prawn_1",
           99.14533333333333,
           107.2651429402243
          ],
          [
           "full body:undistorted_GX010097_60_1080.jpg_gamma",
           "Prawn_0",
           113.193,
           118.3217803971059
          ],
          [
           "full body:undistorted_GX010097_60_1080.jpg_gamma",
           "Prawn_1",
           137.114,
           138.6834307659101
          ],
          [
           "full body:undistorted_GX010097_60_1080.jpg_gamma",
           "Prawn_2",
           105.88,
           121.6559709337517
          ],
          [
           "full body:undistorted_GX010097_60_1080.jpg_gamma",
           "Prawn_3",
           94.39433333333334,
           94.34685719693007
          ],
          [
           "full body:undistorted_GX010097_105_1651.jpg_gamma",
           "Prawn_0",
           127.93866666666668,
           152.5372272696837
          ],
          [
           "full body:undistorted_GX010097_105_1651.jpg_gamma",
           "Prawn_1",
           150.87933333333334,
           163.1870589401357
          ],
          [
           "full body:undistorted_GX010097_105_1651.jpg_gamma",
           "Prawn_2",
           100.80366666666669,
           124.2624287939245
          ],
          [
           "full body:undistorted_GX010097_105_1651.jpg_gamma",
           "Prawn_3",
           99.61066666666666,
           124.1140930928323
          ],
          [
           "full body:undistorted_GX010097_124_1870.jpg_gamma",
           "Prawn_0",
           101.21533333333332,
           125.1646456246433
          ],
          [
           "full body:undistorted_GX010097_124_1870.jpg_gamma",
           "Prawn_1",
           95.208,
           116.189904910947
          ],
          [
           "full body:undistorted_GX010101_12_173.jpg_gamma",
           "Prawn_0",
           155.33266666666665,
           159.4121194325315
          ]
         ],
         "hovertemplate": "Image: %{customdata[0]}<br>Prawn ID: %{customdata[1]}<br>Mean Length: %{customdata[2]:.1f}mm<br>Model Length: %{customdata[3]:.1f}mm<br>Pixel Error: %{y:.1f}mm<extra></extra>",
         "marker": {
          "color": "#1f77b4"
         },
         "name": "Pixel Error",
         "showlegend": true,
         "type": "bar",
         "x": [
          0,
          1,
          2,
          3,
          4,
          5,
          6,
          7,
          8,
          9,
          10,
          11,
          12,
          13,
          14,
          15,
          16,
          17,
          18,
          19,
          20,
          21,
          22,
          23,
          24,
          25,
          26,
          27,
          28,
          29,
          30,
          31,
          32,
          33,
          34,
          35,
          36,
          37,
          38,
          39,
          40,
          41,
          42,
          43,
          44,
          45,
          46,
          47,
          48,
          49,
          50,
          51,
          52,
          53,
          54,
          55,
          56,
          57,
          58,
          59,
          60,
          61,
          62,
          63,
          64,
          65,
          66,
          67,
          68,
          69,
          70,
          71,
          72,
          73,
          74,
          75,
          76,
          77,
          78,
          79,
          80,
          81,
          82,
          83,
          84,
          85,
          86,
          87,
          88,
          89,
          90,
          91
         ],
         "xaxis": "x",
         "y": [
          14.98439864404623,
          14.229783798734115,
          20.057873115521442,
          8.222233341338578,
          1.7932345335039097,
          9.36517698454224,
          5.108202533803157,
          1.2449511831746018,
          9.701348455279572,
          4.197650218920986,
          13.415733091942732,
          7.960753895432637,
          11.212694484120833,
          2.5614761715089434,
          1.9487262142669475,
          6.214257416302829,
          12.753845005199521,
          2.504561398620341,
          5.127202097020793,
          5.523633877711077,
          4.624742264204199,
          2.2098530338483644,
          12.458344664396913,
          5.963922865167591,
          1.4180147075076963,
          7.903727719638751,
          2.3337001288330694,
          5.509839570823853,
          4.880011532074123,
          3.568086989602108,
          4.47934873930206,
          10.70870246565679,
          3.4888762924059424,
          11.085861444064717,
          11.678207915928626,
          8.341822839236718,
          7.9756608006507745,
          5.585604467626943,
          4.413689851497947,
          8.919816807291623,
          0.35826807996584487,
          0.6851983415137517,
          0.17086694786589093,
          3.6780577615441272,
          12.014444175372518,
          20.303377321822953,
          15.020681386055394,
          3.9700473617606717,
          2.863288834922599,
          7.1453601041609005,
          1.2796906367188523,
          1.0675131894971444,
          4.356013835150015,
          1.0596047123941468,
          0.7815898869435081,
          6.662200218535192,
          8.603010526509108,
          0.16731673243369793,
          8.429530491411152,
          1.1038126469511476,
          12.839745032273326,
          3.5013507495882057,
          9.725578348725735,
          17.555632615016446,
          10.953153142051395,
          2.576401471378298,
          11.74602995393137,
          11.621459288432055,
          12.762629941516488,
          4.983867755316391,
          2.592970664702122,
          4.440876836427866,
          6.96263275257579,
          1.1446344376226447,
          3.0740224106276703,
          11.422188917697603,
          0.9868481271596665,
          1.4824010574993083,
          11.493698727371042,
          10.812973213833333,
          0.16606611679600095,
          2.7366444741990357,
          3.862242942297843,
          11.622059012225849,
          3.1349996222811494,
          12.313724113935043,
          2.885794504815358,
          11.696357824966707,
          14.735446223090069,
          2.9535323187603533,
          2.7097563027471954,
          0.8999486216951915
         ],
         "yaxis": "y"
        },
        {
         "customdata": [
          [
           "full body:undistorted_GX010077_14_237.jpg_gamma",
           "Prawn_0",
           75.62400000000001,
           88.2238618583865
          ],
          [
           "full body:undistorted_GX010077_14_237.jpg_gamma",
           "Prawn_1",
           119.409,
           130.3072585703342
          ],
          [
           "full body:undistorted_GX010077_14_237.jpg_gamma",
           "Prawn_2",
           104.47133333333332,
           121.3854113491351
          ],
          [
           "full body:undistorted_GX010067_33_625.jpg_gamma",
           "Prawn_0",
           120.64933333333332,
           139.7802545895399
          ],
          [
           "full body:undistorted_GX010067_33_625.jpg_gamma",
           "Prawn_1",
           93.004,
           102.7217873465614
          ],
          [
           "full body:undistorted_GX010067_33_625.jpg_gamma",
           "Prawn_2",
           147.809,
           151.3019191079152
          ],
          [
           "full body:undistorted_GX010067_33_625.jpg_gamma",
           "Prawn_3",
           89.831,
           92.62644213355016
          ],
          [
           "full body:undistorted_GX010068_26_666.jpg_gamma",
           "Prawn_0",
           112.46333333333332,
           118.3209877143123
          ],
          [
           "full body:undistorted_GX010068_26_666.jpg_gamma",
           "Prawn_1",
           115.24966666666668,
           129.7931589838535
          ],
          [
           "full body:undistorted_GX010068_26_666.jpg_gamma",
           "Prawn_2",
           123.17266666666669,
           134.320538518607
          ],
          [
           "full body:undistorted_GX010068_27_795.jpg_gamma",
           "Prawn_0",
           137.58866666666663,
           144.3400041440258
          ],
          [
           "full body:undistorted_GX010068_27_795.jpg_gamma",
           "Prawn_1",
           136.09433333333334,
           124.309505044012
          ],
          [
           "full body:undistorted_GX010069_19_191.jpg_gamma",
           "Prawn_0",
           102.96233333333332,
           126.5824151852613
          ],
          [
           "full body:undistorted_GX010069_19_191.jpg_gamma",
           "Prawn_1",
           87.69233333333334,
           100.5173592459666
          ],
          [
           "full body:undistorted_GX010069_19_191.jpg_gamma",
           "Prawn_2",
           108.03966666666668,
           117.3319023643254
          ],
          [
           "full body:undistorted_GX010069_19_191.jpg_gamma",
           "Prawn_3",
           112.21633333333334,
           118.1661086516886
          ],
          [
           "full body:undistorted_GX010071_22_444.jpg_gamma",
           "Prawn_0",
           131.18266666666668,
           144.4489907657441
          ],
          [
           "full body:undistorted_GX010071_22_444.jpg_gamma",
           "Prawn_1",
           126.04,
           123.1204379059823
          ],
          [
           "full body:undistorted_GX010073_42_695.jpg_gamma",
           "Prawn_1",
           84.04366666666665,
           90.9921652733458
          ],
          [
           "full body:undistorted_GX010073_42_695.jpg_gamma",
           "Prawn_2",
           144.47966666666665,
           141.8652283276093
          ],
          [
           "full body:undistorted_GX010073_55_1014.jpg_gamma",
           "Prawn_0",
           113.72700000000002,
           120.9802044842614
          ],
          [
           "full body:undistorted_GX010073_55_1014.jpg_gamma",
           "Prawn_1",
           108.85633333333334,
           115.814424183012
          ],
          [
           "full body:undistorted_GX010073_55_1014.jpg_gamma",
           "Prawn_2",
           94.282,
           109.380793272358
          ],
          [
           "full body:undistorted_GX010080_157_2283.jpg_gamma",
           "Prawn_0",
           106.32633333333332,
           142.3471786776564
          ],
          [
           "full body:undistorted_GX010080_157_2283.jpg_gamma",
           "Prawn_2",
           99.51133333333333,
           124.5870704174287
          ],
          [
           "full body:undistorted_GX010080_157_2283.jpg_gamma",
           "Prawn_3",
           108.72966666666667,
           127.3649364046984
          ],
          [
           "full body:undistorted_GX010080_193_2640.jpg_gamma",
           "Prawn_0",
           120.77733333333332,
           140.4721189676514
          ],
          [
           "full body:undistorted_GX010080_193_2640.jpg_gamma",
           "Prawn_1",
           115.48133333333334,
           124.5776632907126
          ],
          [
           "full body:undistorted_GX010080_193_2640.jpg_gamma",
           "Prawn_2",
           114.69966666666666,
           124.1185335344902
          ],
          [
           "full body:undistorted_GX010080_193_2640.jpg_gamma",
           "Prawn_3",
           107.973,
           127.7329403277941
          ],
          [
           "full body:undistorted_GX010080_193_2640.jpg_gamma",
           "Prawn_4",
           113.177,
           132.9033880770651
          ],
          [
           "full body:undistorted_GX010080_212_2954.jpg_gamma",
           "Prawn_0",
           124.24166666666667,
           144.8775231496437
          ],
          [
           "full body:undistorted_GX010080_212_2954.jpg_gamma",
           "Prawn_1",
           128.16033333333334,
           140.9282298037327
          ],
          [
           "full body:undistorted_GX010080_212_2954.jpg_gamma",
           "Prawn_2",
           142.70433333333335,
           140.9282298037327
          ],
          [
           "full body:undistorted_GX010080_237_3366.jpg_gamma",
           "Prawn_0",
           129.93933333333334,
           152.7145736615965
          ],
          [
           "full body:undistorted_GX010080_237_3366.jpg_gamma",
           "Prawn_1",
           132.354,
           152.5164527792293
          ],
          [
           "full body:undistorted_GX010080_237_3366.jpg_gamma",
           "Prawn_2",
           95.67199999999998,
           112.14672367864
          ],
          [
           "full body:undistorted_GX010080_237_3366.jpg_gamma",
           "Prawn_3",
           120.09466666666668,
           124.1335424223215
          ],
          [
           "full body:undistorted_GX010080_237_3366.jpg_gamma",
           "Prawn_4",
           148.17133333333334,
           156.7156125771451
          ],
          [
           "full body:undistorted_GX010080_238_3392.jpg_gamma",
           "Prawn_0",
           121.37733333333334,
           140.9654013915187
          ],
          [
           "full body:undistorted_GX010080_238_3392.jpg_gamma",
           "Prawn_1",
           128.20933333333332,
           139.8766897076493
          ],
          [
           "full body:undistorted_GX010080_238_3392.jpg_gamma",
           "Prawn_2",
           101.84633333333332,
           110.9150893382841
          ],
          [
           "full body:undistorted_GX010080_238_3392.jpg_gamma",
           "Prawn_3",
           126.37966666666668,
           137.8028076480297
          ],
          [
           "full body:undistorted_GX010082_8_59.jpg_gamma",
           "Prawn_1",
           135.76733333333334,
           143.7517333071236
          ],
          [
           "full body:undistorted_GX010082_8_59.jpg_gamma",
           "Prawn_2",
           123.45166666666668,
           119.9973605908696
          ],
          [
           "full body:undistorted_GX010082_8_59.jpg_gamma",
           "Prawn_3",
           119.83933333333334,
           150.7099886412093
          ],
          [
           "full body:undistorted_GX010082_8_59.jpg_gamma",
           "Prawn_4",
           94.914,
           120.3495824690556
          ],
          [
           "full body:undistorted_GX010082_53_796.jpg_gamma",
           "Prawn_0",
           85.173,
           86.29366664090915
          ],
          [
           "full body:undistorted_GX010082_53_796.jpg_gamma",
           "Prawn_1",
           143.83033333333333,
           151.9499160522697
          ],
          [
           "full body:undistorted_GX010082_65_1070.jpg_gamma",
           "Prawn_0",
           97.42,
           121.6588452961211
          ],
          [
           "full body:undistorted_GX010082_65_1070.jpg_gamma",
           "Prawn_1",
           129.8183333333333,
           153.5811701319379
          ],
          [
           "full body:undistorted_GX010082_65_1070.jpg_gamma",
           "Prawn_2",
           116.80933333333331,
           135.60917500537
          ],
          [
           "full body:undistorted_GX010082_236_3137.jpg_gamma",
           "Prawn_0",
           67.466,
           88.8025214239344
          ],
          [
           "full body:undistorted_GX010082_236_3137.jpg_gamma",
           "Prawn_1",
           113.96533333333332,
           139.4584460092295
          ],
          [
           "full body:undistorted_GX010082_236_3137.jpg_gamma",
           "Prawn_2",
           115.32833333333332,
           142.0844249272272
          ],
          [
           "full body:undistorted_GX010084_30_344.jpg_gamma",
           "Prawn_0",
           111.61866666666668,
           123.3303944030748
          ],
          [
           "full body:undistorted_GX010084_30_344.jpg_gamma",
           "Prawn_1",
           116.77266666666668,
           129.8682000360583
          ],
          [
           "full body:undistorted_GX010084_30_344.jpg_gamma",
           "Prawn_2",
           121.82066666666668,
           125.6134826389923
          ],
          [
           "full body:undistorted_GX010084_30_344.jpg_gamma",
           "Prawn_3",
           135.806,
           130.9845595028721
          ],
          [
           "full body:undistorted_GX010084_130_1748.jpg_gamma",
           "Prawn_0",
           124.16566666666668,
           125.2232041184863
          ],
          [
           "full body:undistorted_GX010084_130_1748.jpg_gamma",
           "Prawn_1",
           98.72266666666668,
           113.016484322455
          ],
          [
           "full body:undistorted_GX010084_130_1748.jpg_gamma",
           "Prawn_2",
           135.8903333333333,
           132.897186048176
          ],
          [
           "full body:undistorted_GX010085_261_3610.jpg_gamma",
           "Prawn_0",
           130.186,
           133.9932992972118
          ],
          [
           "full body:undistorted_GX010085_261_3610.jpg_gamma",
           "Prawn_1",
           116.825,
           109.7333517678867
          ],
          [
           "full body:undistorted_GX010088_209_2904.jpg_gamma",
           "Prawn_0",
           105.59166666666668,
           109.6207053095443
          ],
          [
           "full body:undistorted_GX010088_209_2904.jpg_gamma",
           "Prawn_1",
           113.83366666666666,
           129.2109593312319
          ],
          [
           "full body:undistorted_GX010088_262_3712.jpg_gamma",
           "Prawn_0",
           134.67533333333336,
           135.1131308271707
          ],
          [
           "full body:undistorted_GX010088_262_3712.jpg_gamma",
           "Prawn_1",
           147.93500000000003,
           125.8639314174425
          ],
          [
           "full body:undistorted_GX010088_262_3712.jpg_gamma",
           "Prawn_2",
           168.85266666666666,
           144.7999159279992
          ],
          [
           "full body:undistorted_GX010088_327_4364.jpg_gamma",
           "Prawn_0",
           127.02466666666665,
           122.7538914984202
          ],
          [
           "full body:undistorted_GX010088_327_4364.jpg_gamma",
           "Prawn_1",
           127.067,
           129.2765201473148
          ],
          [
           "full body:undistorted_GX010088_327_4364.jpg_gamma",
           "Prawn_2",
           110.01333333333334,
           113.3658144298521
          ],
          [
           "full body:undistorted_GX010088_327_4364.jpg_gamma",
           "Prawn_3",
           134.249,
           126.4906331509988
          ],
          [
           "full body:undistorted_GX010090_132_1852.jpg_gamma",
           "Prawn_0",
           124.40566666666666,
           150.8168572258346
          ],
          [
           "full body:undistorted_GX010094_9_129.jpg_gamma",
           "Prawn_0",
           85.40533333333333,
           105.4583375172172
          ],
          [
           "full body:undistorted_GX010094_9_129.jpg_gamma",
           "Prawn_1",
           112.616,
           122.4403386329594
          ],
          [
           "full body:undistorted_GX010094_24_430.jpg_gamma",
           "Prawn_0",
           116.28066666666666,
           122.5679516169286
          ],
          [
           "full body:undistorted_GX010094_93_1258.jpg_gamma",
           "Prawn_0",
           118.99366666666668,
           124.4208728665562
          ],
          [
           "full body:undistorted_GX010094_163_2312.jpg_gamma",
           "Prawn_0",
           118.656,
           138.2151955256912
          ],
          [
           "full body:undistorted_GX010097_32_528.jpg_gamma",
           "Prawn_0",
           103.21066666666668,
           125.1652242436247
          ],
          [
           "full body:undistorted_GX010097_32_528.jpg_gamma",
           "Prawn_1",
           99.14533333333333,
           107.2651429402243
          ],
          [
           "full body:undistorted_GX010097_60_1080.jpg_gamma",
           "Prawn_0",
           113.193,
           118.3217803971059
          ],
          [
           "full body:undistorted_GX010097_60_1080.jpg_gamma",
           "Prawn_1",
           137.114,
           138.6834307659101
          ],
          [
           "full body:undistorted_GX010097_60_1080.jpg_gamma",
           "Prawn_2",
           105.88,
           121.6559709337517
          ],
          [
           "full body:undistorted_GX010097_60_1080.jpg_gamma",
           "Prawn_3",
           94.39433333333334,
           94.34685719693007
          ],
          [
           "full body:undistorted_GX010097_105_1651.jpg_gamma",
           "Prawn_0",
           127.93866666666668,
           152.5372272696837
          ],
          [
           "full body:undistorted_GX010097_105_1651.jpg_gamma",
           "Prawn_1",
           150.87933333333334,
           163.1870589401357
          ],
          [
           "full body:undistorted_GX010097_105_1651.jpg_gamma",
           "Prawn_2",
           100.80366666666669,
           124.2624287939245
          ],
          [
           "full body:undistorted_GX010097_105_1651.jpg_gamma",
           "Prawn_3",
           99.61066666666666,
           124.1140930928323
          ],
          [
           "full body:undistorted_GX010097_124_1870.jpg_gamma",
           "Prawn_0",
           101.21533333333332,
           125.1646456246433
          ],
          [
           "full body:undistorted_GX010097_124_1870.jpg_gamma",
           "Prawn_1",
           95.208,
           116.189904910947
          ],
          [
           "full body:undistorted_GX010101_12_173.jpg_gamma",
           "Prawn_0",
           155.33266666666665,
           159.4121194325315
          ]
         ],
         "hovertemplate": "Image: %{customdata[0]}<br>Prawn ID: %{customdata[1]}<br>Mean Length: %{customdata[2]:.1f}mm<br>Model Length: %{customdata[3]:.1f}mm<br>Scale Error: %{y:.1f}mm<extra></extra>",
         "marker": {
          "color": "#ff7f0e"
         },
         "name": "Scale Error",
         "showlegend": true,
         "type": "bar",
         "x": [
          0,
          1,
          2,
          3,
          4,
          5,
          6,
          7,
          8,
          9,
          10,
          11,
          12,
          13,
          14,
          15,
          16,
          17,
          18,
          19,
          20,
          21,
          22,
          23,
          24,
          25,
          26,
          27,
          28,
          29,
          30,
          31,
          32,
          33,
          34,
          35,
          36,
          37,
          38,
          39,
          40,
          41,
          42,
          43,
          44,
          45,
          46,
          47,
          48,
          49,
          50,
          51,
          52,
          53,
          54,
          55,
          56,
          57,
          58,
          59,
          60,
          61,
          62,
          63,
          64,
          65,
          66,
          67,
          68,
          69,
          70,
          71,
          72,
          73,
          74,
          75,
          76,
          77,
          78,
          79,
          80,
          81,
          82,
          83,
          84,
          85,
          86,
          87,
          88,
          89,
          90,
          91
         ],
         "xaxis": "x",
         "y": [
          1.868838031216794,
          2.7556502015534545,
          2.859083320804188,
          -10.608512359037217,
          -7.981434961204372,
          -14.176076489203789,
          -8.728772119529527,
          -5.0222845044509254,
          -4.7524683435443364,
          -6.93127499317093,
          6.126463578222159,
          4.0230293684865694,
          -11.332520282986755,
          -10.03642654057617,
          -11.621748691342228,
          -12.946134679507413,
          -0.5257426607038062,
          0.3495085489894237,
          -2.0824930400138477,
          -3.9034426352748546,
          -2.6003936973804143,
          -4.737076203347555,
          -2.3531021590304566,
          -28.483203405959475,
          -26.87557989476919,
          -28.607001623589053,
          -17.102610752032216,
          -15.410421849616194,
          -15.039064391248873,
          -15.792620675865333,
          -14.773501476583776,
          -9.149875010955324,
          -9.059552368823054,
          -10.090047816280626,
          -10.234210720749884,
          -11.239431507166726,
          -7.936522502708417,
          -10.254738388649386,
          -13.499216660449031,
          -10.204469436012682,
          -12.174455543452382,
          -8.440705605088032,
          -11.558876174815683,
          -12.413025095386507,
          -10.00977481734886,
          -9.591995997587064,
          -9.331785580134344,
          -6.080316760136029,
          -12.036978606271909,
          -15.903724037221416,
          -22.26121329568726,
          -20.051282535547788,
          -16.10229217562752,
          -24.451365651451628,
          -26.178478349108563,
          -5.165035978972104,
          -4.692118347315332,
          -4.161747578266618,
          -4.424274282370157,
          -5.426057207047594,
          -2.8426893335961805,
          -4.15123357386868,
          -14.751619163863634,
          -12.499056798549846,
          -17.07474492090178,
          -19.208320478008332,
          10.320285300631747,
          11.29827161011686,
          12.185692752215166,
          -1.5073317109236237,
          -0.4138791915779387,
          0.3392403323650261,
          0.347262741254546,
          -26.22531445818998,
          -17.20183996877987,
          -24.465635336444933,
          -7.423660323941697,
          -7.72415647498439,
          -7.801338196364494,
          -10.259462553214345,
          -8.021235768959432,
          -2.297567981413736,
          -5.62652031080473,
          -3.782684948460729,
          -3.335080927379645,
          -11.2089899463818,
          -15.98381506373446,
          -10.798160205251369,
          -8.544593010665169,
          -20.528408028786778,
          -17.98208444984163,
          -3.303385664302289
         ],
         "yaxis": "y"
        },
        {
         "customdata": [
          [
           "full body:undistorted_GX010089_11_236.jpg_gamma",
           "Prawn_0",
           73.087,
           95.25505718763094
          ],
          [
           "full body:undistorted_GX010089_11_236.jpg_gamma",
           "Prawn_1",
           64.972,
           82.91980427021974
          ],
          [
           "full body:undistorted_GX010089_11_236.jpg_gamma",
           "Prawn_2",
           83.09433333333334,
           100.5893819996722
          ],
          [
           "full body:undistorted_GX010091_5_149.jpg_gamma",
           "Prawn_0",
           72.343,
           62.78100106082697
          ],
          [
           "full body:undistorted_GX010091_5_149.jpg_gamma",
           "Prawn_1",
           91.019,
           101.4838377130358
          ],
          [
           "full body:undistorted_GX010102_9_165.jpg_gamma",
           "Prawn_1",
           93.12166666666668,
           102.913263992874
          ],
          [
           "full body:undistorted_GX010102_9_165.jpg_gamma",
           "Prawn_2",
           47.57866666666666,
           24.78481152380743
          ],
          [
           "full body:undistorted_GX010102_9_165.jpg_gamma",
           "Prawn_3",
           60.42666666666667,
           24.78481152380743
          ],
          [
           "full body:undistorted_GX010102_9_165.jpg_gamma",
           "Prawn_4",
           67.901,
           79.05166830268793
          ],
          [
           "full body:undistorted_GX010102_9_165.jpg_gamma",
           "Prawn_5",
           68.09533333333333,
           81.92742006418707
          ],
          [
           "full body:undistorted_GX010102_50_1396.jpg_gamma",
           "Prawn_0",
           132.286,
           147.4298592194021
          ],
          [
           "full body:undistorted_GX010105_28_816.jpg_gamma",
           "Prawn_0",
           56.471,
           73.64058837677726
          ],
          [
           "full body:undistorted_GX010105_28_816.jpg_gamma",
           "Prawn_1",
           95.68866666666668,
           122.7036187199534
          ]
         ],
         "hovertemplate": "Image: %{customdata[0]}<br>Prawn ID: %{customdata[1]}<br>Mean Length: %{customdata[2]:.1f}mm<br>Model Length: %{customdata[3]:.1f}mm<br>Pixel Error: %{y:.1f}mm<extra></extra>",
         "marker": {
          "color": "#1f77b4"
         },
         "name": "",
         "showlegend": false,
         "type": "bar",
         "x": [
          0,
          1,
          2,
          3,
          4,
          5,
          6,
          7,
          8,
          9,
          10,
          11,
          12
         ],
         "xaxis": "x2",
         "y": [
          9.62763631017364,
          7.003435160127463,
          4.708811883555761,
          19.296931321033604,
          2.877878067398948,
          4.714468675710557,
          26.076178279890335,
          38.953910762302776,
          0.06048958119192662,
          2.303722374531398,
          9.914422682237554,
          2.3803634177635526,
          2.2682250813837785
         ],
         "yaxis": "y2"
        },
        {
         "customdata": [
          [
           "full body:undistorted_GX010089_11_236.jpg_gamma",
           "Prawn_0",
           73.087,
           95.25505718763094
          ],
          [
           "full body:undistorted_GX010089_11_236.jpg_gamma",
           "Prawn_1",
           64.972,
           82.91980427021974
          ],
          [
           "full body:undistorted_GX010089_11_236.jpg_gamma",
           "Prawn_2",
           83.09433333333334,
           100.5893819996722
          ],
          [
           "full body:undistorted_GX010091_5_149.jpg_gamma",
           "Prawn_0",
           72.343,
           62.78100106082697
          ],
          [
           "full body:undistorted_GX010091_5_149.jpg_gamma",
           "Prawn_1",
           91.019,
           101.4838377130358
          ],
          [
           "full body:undistorted_GX010102_9_165.jpg_gamma",
           "Prawn_1",
           93.12166666666668,
           102.913263992874
          ],
          [
           "full body:undistorted_GX010102_9_165.jpg_gamma",
           "Prawn_2",
           47.57866666666666,
           24.78481152380743
          ],
          [
           "full body:undistorted_GX010102_9_165.jpg_gamma",
           "Prawn_3",
           60.42666666666667,
           24.78481152380743
          ],
          [
           "full body:undistorted_GX010102_9_165.jpg_gamma",
           "Prawn_4",
           67.901,
           79.05166830268793
          ],
          [
           "full body:undistorted_GX010102_9_165.jpg_gamma",
           "Prawn_5",
           68.09533333333333,
           81.92742006418707
          ],
          [
           "full body:undistorted_GX010102_50_1396.jpg_gamma",
           "Prawn_0",
           132.286,
           147.4298592194021
          ],
          [
           "full body:undistorted_GX010105_28_816.jpg_gamma",
           "Prawn_0",
           56.471,
           73.64058837677726
          ],
          [
           "full body:undistorted_GX010105_28_816.jpg_gamma",
           "Prawn_1",
           95.68866666666668,
           122.7036187199534
          ]
         ],
         "hovertemplate": "Image: %{customdata[0]}<br>Prawn ID: %{customdata[1]}<br>Mean Length: %{customdata[2]:.1f}mm<br>Model Length: %{customdata[3]:.1f}mm<br>Scale Error: %{y:.1f}mm<extra></extra>",
         "marker": {
          "color": "#ff7f0e"
         },
         "name": "",
         "showlegend": false,
         "type": "bar",
         "x": [
          0,
          1,
          2,
          3,
          4,
          5,
          6,
          7,
          8,
          9,
          10,
          11,
          12
         ],
         "xaxis": "x2",
         "y": [
          -11.141207246049154,
          -9.981325353892931,
          -12.152108939416872,
          -13.098188567438214,
          -14.471587888244052,
          -15.34007424481739,
          -7.47807560098139,
          -9.505922725513669,
          -11.306578001021096,
          -11.313953574743724,
          -27.20392077323746,
          -14.401628000821233,
          -24.50462747168291
         ],
         "yaxis": "y2"
        },
        {
         "customdata": [
          [
           "full body:undistorted_GX010152_36_378.jpg_gamma",
           "Prawn_0",
           113.768,
           106.5929170257388
          ],
          [
           "full body:undistorted_GX010152_36_378.jpg_gamma",
           "Prawn_1",
           127.10966666666668,
           109.6691900242959
          ],
          [
           "full body:undistorted_GX010157_160_2259",
           "Prawn_0",
           108.57766666666669,
           96.66063332561448
          ],
          [
           "full body:undistorted_GX010157_174_2582.jpg_gamma",
           "Prawn_0",
           104.019,
           91.45104326277271
          ],
          [
           "full body:undistorted_GX010157_177_2665.jpg_gamma",
           "Prawn_0",
           113.90933333333334,
           103.052965043015
          ],
          [
           "full body:undistorted_GX010161_54_676.jpg_gamma.jpg_gamma",
           "Prawn_0",
           91.34933333333332,
           119.4881366421652
          ],
          [
           "full body:undistorted_GX010162_72_927.jpg_gamma.jpg_gamma",
           "Prawn_0",
           111.56166666666668,
           92.39915664388
          ],
          [
           "full body:undistorted_GX010174_62_790.jpg_gamma",
           "Prawn_0",
           111.73666666666668,
           124.6841861047966
          ],
          [
           "full body:undistorted_GX010175_266_3372.jpg_gamma.jpg_gamma",
           "Prawn_0",
           121.90233333333332,
           117.9186678090554
          ],
          [
           "full body:undistorted_GX010177_232_3047",
           "Prawn_0",
           146.26033333333336,
           119.4982657927304
          ],
          [
           "full body:undistorted_GX010178_172_3604.jpg_gamma",
           "Prawn_0",
           152.67,
           132.0980283526407
          ],
          [
           "full body:undistorted_GX010183_37_685.jpg_gamma",
           "Prawn_0",
           100.05366666666669,
           91.6471011655283
          ],
          [
           "full body:undistorted_GX010183_80_1633.jpg_gamma",
           "Prawn_0",
           136.7506666666667,
           141.3177335673552
          ],
          [
           "full body:undistorted_GX010183_128_2852.jpg_gamma",
           "Prawn_0",
           134.55833333333334,
           127.250165811216
          ]
         ],
         "hovertemplate": "Image: %{customdata[0]}<br>Prawn ID: %{customdata[1]}<br>Mean Length: %{customdata[2]:.1f}mm<br>Model Length: %{customdata[3]:.1f}mm<br>Pixel Error: %{y:.1f}mm<extra></extra>",
         "marker": {
          "color": "#1f77b4"
         },
         "name": "",
         "showlegend": false,
         "type": "bar",
         "x": [
          0,
          1,
          2,
          3,
          4,
          5,
          6,
          7,
          8,
          9,
          10,
          11,
          12,
          13
         ],
         "xaxis": "x3",
         "y": [
          7.855477442146683,
          0.102233753220208,
          0.9759527749126814,
          8.739436511400559,
          5.757424709342583,
          21.089199946843426,
          7.244032799413867,
          15.94544231212612,
          0.2912076250057375,
          26.9327671146449,
          6.528097690435469,
          3.67256086370883,
          1.335425280120299,
          3.511704939579345
         ],
         "yaxis": "y3"
        },
        {
         "customdata": [
          [
           "full body:undistorted_GX010152_36_378.jpg_gamma",
           "Prawn_0",
           113.768,
           106.5929170257388
          ],
          [
           "full body:undistorted_GX010152_36_378.jpg_gamma",
           "Prawn_1",
           127.10966666666668,
           109.6691900242959
          ],
          [
           "full body:undistorted_GX010157_160_2259",
           "Prawn_0",
           108.57766666666669,
           96.66063332561448
          ],
          [
           "full body:undistorted_GX010157_174_2582.jpg_gamma",
           "Prawn_0",
           104.019,
           91.45104326277271
          ],
          [
           "full body:undistorted_GX010157_177_2665.jpg_gamma",
           "Prawn_0",
           113.90933333333334,
           103.052965043015
          ],
          [
           "full body:undistorted_GX010161_54_676.jpg_gamma.jpg_gamma",
           "Prawn_0",
           91.34933333333332,
           119.4881366421652
          ],
          [
           "full body:undistorted_GX010162_72_927.jpg_gamma.jpg_gamma",
           "Prawn_0",
           111.56166666666668,
           92.39915664388
          ],
          [
           "full body:undistorted_GX010174_62_790.jpg_gamma",
           "Prawn_0",
           111.73666666666668,
           124.6841861047966
          ],
          [
           "full body:undistorted_GX010175_266_3372.jpg_gamma.jpg_gamma",
           "Prawn_0",
           121.90233333333332,
           117.9186678090554
          ],
          [
           "full body:undistorted_GX010177_232_3047",
           "Prawn_0",
           146.26033333333336,
           119.4982657927304
          ],
          [
           "full body:undistorted_GX010178_172_3604.jpg_gamma",
           "Prawn_0",
           152.67,
           132.0980283526407
          ],
          [
           "full body:undistorted_GX010183_37_685.jpg_gamma",
           "Prawn_0",
           100.05366666666669,
           91.6471011655283
          ],
          [
           "full body:undistorted_GX010183_80_1633.jpg_gamma",
           "Prawn_0",
           136.7506666666667,
           141.3177335673552
          ],
          [
           "full body:undistorted_GX010183_128_2852.jpg_gamma",
           "Prawn_0",
           134.55833333333334,
           127.250165811216
          ]
         ],
         "hovertemplate": "Image: %{customdata[0]}<br>Prawn ID: %{customdata[1]}<br>Mean Length: %{customdata[2]:.1f}mm<br>Model Length: %{customdata[3]:.1f}mm<br>Scale Error: %{y:.1f}mm<extra></extra>",
         "marker": {
          "color": "#ff7f0e"
         },
         "name": "",
         "showlegend": false,
         "type": "bar",
         "x": [
          0,
          1,
          2,
          3,
          4,
          5,
          6,
          7,
          8,
          9,
          10,
          11,
          12,
          13
         ],
         "xaxis": "x3",
         "y": [
          13.579891683967602,
          16.796401912878004,
          10.995222471654843,
          3.8444555985245112,
          4.180754786711847,
          -5.873835270898237,
          12.734464684989645,
          2.4599126697304743,
          3.716284892288789,
          -2.058118459352598,
          14.131541748415472,
          4.911422974172273,
          -6.176112019099803,
          3.668931048957998
         ],
         "yaxis": "y3"
        }
       ],
       "layout": {
        "annotations": [
         {
          "font": {
           "size": 16
          },
          "showarrow": false,
          "text": "Error Components - circle_female",
          "x": 0.14444444444444446,
          "xanchor": "center",
          "xref": "paper",
          "y": 1,
          "yanchor": "bottom",
          "yref": "paper"
         },
         {
          "font": {
           "size": 16
          },
          "showarrow": false,
          "text": "Error Components - circle_male",
          "x": 0.5,
          "xanchor": "center",
          "xref": "paper",
          "y": 1,
          "yanchor": "bottom",
          "yref": "paper"
         },
         {
          "font": {
           "size": 16
          },
          "showarrow": false,
          "text": "Error Components - square",
          "x": 0.8555555555555556,
          "xanchor": "center",
          "xref": "paper",
          "y": 1,
          "yanchor": "bottom",
          "yref": "paper"
         }
        ],
        "barmode": "relative",
        "height": 600,
        "template": {
         "data": {
          "bar": [
           {
            "error_x": {
             "color": "#2a3f5f"
            },
            "error_y": {
             "color": "#2a3f5f"
            },
            "marker": {
             "line": {
              "color": "#E5ECF6",
              "width": 0.5
             },
             "pattern": {
              "fillmode": "overlay",
              "size": 10,
              "solidity": 0.2
             }
            },
            "type": "bar"
           }
          ],
          "barpolar": [
           {
            "marker": {
             "line": {
              "color": "#E5ECF6",
              "width": 0.5
             },
             "pattern": {
              "fillmode": "overlay",
              "size": 10,
              "solidity": 0.2
             }
            },
            "type": "barpolar"
           }
          ],
          "carpet": [
           {
            "aaxis": {
             "endlinecolor": "#2a3f5f",
             "gridcolor": "white",
             "linecolor": "white",
             "minorgridcolor": "white",
             "startlinecolor": "#2a3f5f"
            },
            "baxis": {
             "endlinecolor": "#2a3f5f",
             "gridcolor": "white",
             "linecolor": "white",
             "minorgridcolor": "white",
             "startlinecolor": "#2a3f5f"
            },
            "type": "carpet"
           }
          ],
          "choropleth": [
           {
            "colorbar": {
             "outlinewidth": 0,
             "ticks": ""
            },
            "type": "choropleth"
           }
          ],
          "contour": [
           {
            "colorbar": {
             "outlinewidth": 0,
             "ticks": ""
            },
            "colorscale": [
             [
              0,
              "#0d0887"
             ],
             [
              0.1111111111111111,
              "#46039f"
             ],
             [
              0.2222222222222222,
              "#7201a8"
             ],
             [
              0.3333333333333333,
              "#9c179e"
             ],
             [
              0.4444444444444444,
              "#bd3786"
             ],
             [
              0.5555555555555556,
              "#d8576b"
             ],
             [
              0.6666666666666666,
              "#ed7953"
             ],
             [
              0.7777777777777778,
              "#fb9f3a"
             ],
             [
              0.8888888888888888,
              "#fdca26"
             ],
             [
              1,
              "#f0f921"
             ]
            ],
            "type": "contour"
           }
          ],
          "contourcarpet": [
           {
            "colorbar": {
             "outlinewidth": 0,
             "ticks": ""
            },
            "type": "contourcarpet"
           }
          ],
          "heatmap": [
           {
            "colorbar": {
             "outlinewidth": 0,
             "ticks": ""
            },
            "colorscale": [
             [
              0,
              "#0d0887"
             ],
             [
              0.1111111111111111,
              "#46039f"
             ],
             [
              0.2222222222222222,
              "#7201a8"
             ],
             [
              0.3333333333333333,
              "#9c179e"
             ],
             [
              0.4444444444444444,
              "#bd3786"
             ],
             [
              0.5555555555555556,
              "#d8576b"
             ],
             [
              0.6666666666666666,
              "#ed7953"
             ],
             [
              0.7777777777777778,
              "#fb9f3a"
             ],
             [
              0.8888888888888888,
              "#fdca26"
             ],
             [
              1,
              "#f0f921"
             ]
            ],
            "type": "heatmap"
           }
          ],
          "heatmapgl": [
           {
            "colorbar": {
             "outlinewidth": 0,
             "ticks": ""
            },
            "colorscale": [
             [
              0,
              "#0d0887"
             ],
             [
              0.1111111111111111,
              "#46039f"
             ],
             [
              0.2222222222222222,
              "#7201a8"
             ],
             [
              0.3333333333333333,
              "#9c179e"
             ],
             [
              0.4444444444444444,
              "#bd3786"
             ],
             [
              0.5555555555555556,
              "#d8576b"
             ],
             [
              0.6666666666666666,
              "#ed7953"
             ],
             [
              0.7777777777777778,
              "#fb9f3a"
             ],
             [
              0.8888888888888888,
              "#fdca26"
             ],
             [
              1,
              "#f0f921"
             ]
            ],
            "type": "heatmapgl"
           }
          ],
          "histogram": [
           {
            "marker": {
             "pattern": {
              "fillmode": "overlay",
              "size": 10,
              "solidity": 0.2
             }
            },
            "type": "histogram"
           }
          ],
          "histogram2d": [
           {
            "colorbar": {
             "outlinewidth": 0,
             "ticks": ""
            },
            "colorscale": [
             [
              0,
              "#0d0887"
             ],
             [
              0.1111111111111111,
              "#46039f"
             ],
             [
              0.2222222222222222,
              "#7201a8"
             ],
             [
              0.3333333333333333,
              "#9c179e"
             ],
             [
              0.4444444444444444,
              "#bd3786"
             ],
             [
              0.5555555555555556,
              "#d8576b"
             ],
             [
              0.6666666666666666,
              "#ed7953"
             ],
             [
              0.7777777777777778,
              "#fb9f3a"
             ],
             [
              0.8888888888888888,
              "#fdca26"
             ],
             [
              1,
              "#f0f921"
             ]
            ],
            "type": "histogram2d"
           }
          ],
          "histogram2dcontour": [
           {
            "colorbar": {
             "outlinewidth": 0,
             "ticks": ""
            },
            "colorscale": [
             [
              0,
              "#0d0887"
             ],
             [
              0.1111111111111111,
              "#46039f"
             ],
             [
              0.2222222222222222,
              "#7201a8"
             ],
             [
              0.3333333333333333,
              "#9c179e"
             ],
             [
              0.4444444444444444,
              "#bd3786"
             ],
             [
              0.5555555555555556,
              "#d8576b"
             ],
             [
              0.6666666666666666,
              "#ed7953"
             ],
             [
              0.7777777777777778,
              "#fb9f3a"
             ],
             [
              0.8888888888888888,
              "#fdca26"
             ],
             [
              1,
              "#f0f921"
             ]
            ],
            "type": "histogram2dcontour"
           }
          ],
          "mesh3d": [
           {
            "colorbar": {
             "outlinewidth": 0,
             "ticks": ""
            },
            "type": "mesh3d"
           }
          ],
          "parcoords": [
           {
            "line": {
             "colorbar": {
              "outlinewidth": 0,
              "ticks": ""
             }
            },
            "type": "parcoords"
           }
          ],
          "pie": [
           {
            "automargin": true,
            "type": "pie"
           }
          ],
          "scatter": [
           {
            "fillpattern": {
             "fillmode": "overlay",
             "size": 10,
             "solidity": 0.2
            },
            "type": "scatter"
           }
          ],
          "scatter3d": [
           {
            "line": {
             "colorbar": {
              "outlinewidth": 0,
              "ticks": ""
             }
            },
            "marker": {
             "colorbar": {
              "outlinewidth": 0,
              "ticks": ""
             }
            },
            "type": "scatter3d"
           }
          ],
          "scattercarpet": [
           {
            "marker": {
             "colorbar": {
              "outlinewidth": 0,
              "ticks": ""
             }
            },
            "type": "scattercarpet"
           }
          ],
          "scattergeo": [
           {
            "marker": {
             "colorbar": {
              "outlinewidth": 0,
              "ticks": ""
             }
            },
            "type": "scattergeo"
           }
          ],
          "scattergl": [
           {
            "marker": {
             "colorbar": {
              "outlinewidth": 0,
              "ticks": ""
             }
            },
            "type": "scattergl"
           }
          ],
          "scattermapbox": [
           {
            "marker": {
             "colorbar": {
              "outlinewidth": 0,
              "ticks": ""
             }
            },
            "type": "scattermapbox"
           }
          ],
          "scatterpolar": [
           {
            "marker": {
             "colorbar": {
              "outlinewidth": 0,
              "ticks": ""
             }
            },
            "type": "scatterpolar"
           }
          ],
          "scatterpolargl": [
           {
            "marker": {
             "colorbar": {
              "outlinewidth": 0,
              "ticks": ""
             }
            },
            "type": "scatterpolargl"
           }
          ],
          "scatterternary": [
           {
            "marker": {
             "colorbar": {
              "outlinewidth": 0,
              "ticks": ""
             }
            },
            "type": "scatterternary"
           }
          ],
          "surface": [
           {
            "colorbar": {
             "outlinewidth": 0,
             "ticks": ""
            },
            "colorscale": [
             [
              0,
              "#0d0887"
             ],
             [
              0.1111111111111111,
              "#46039f"
             ],
             [
              0.2222222222222222,
              "#7201a8"
             ],
             [
              0.3333333333333333,
              "#9c179e"
             ],
             [
              0.4444444444444444,
              "#bd3786"
             ],
             [
              0.5555555555555556,
              "#d8576b"
             ],
             [
              0.6666666666666666,
              "#ed7953"
             ],
             [
              0.7777777777777778,
              "#fb9f3a"
             ],
             [
              0.8888888888888888,
              "#fdca26"
             ],
             [
              1,
              "#f0f921"
             ]
            ],
            "type": "surface"
           }
          ],
          "table": [
           {
            "cells": {
             "fill": {
              "color": "#EBF0F8"
             },
             "line": {
              "color": "white"
             }
            },
            "header": {
             "fill": {
              "color": "#C8D4E3"
             },
             "line": {
              "color": "white"
             }
            },
            "type": "table"
           }
          ]
         },
         "layout": {
          "annotationdefaults": {
           "arrowcolor": "#2a3f5f",
           "arrowhead": 0,
           "arrowwidth": 1
          },
          "autotypenumbers": "strict",
          "coloraxis": {
           "colorbar": {
            "outlinewidth": 0,
            "ticks": ""
           }
          },
          "colorscale": {
           "diverging": [
            [
             0,
             "#8e0152"
            ],
            [
             0.1,
             "#c51b7d"
            ],
            [
             0.2,
             "#de77ae"
            ],
            [
             0.3,
             "#f1b6da"
            ],
            [
             0.4,
             "#fde0ef"
            ],
            [
             0.5,
             "#f7f7f7"
            ],
            [
             0.6,
             "#e6f5d0"
            ],
            [
             0.7,
             "#b8e186"
            ],
            [
             0.8,
             "#7fbc41"
            ],
            [
             0.9,
             "#4d9221"
            ],
            [
             1,
             "#276419"
            ]
           ],
           "sequential": [
            [
             0,
             "#0d0887"
            ],
            [
             0.1111111111111111,
             "#46039f"
            ],
            [
             0.2222222222222222,
             "#7201a8"
            ],
            [
             0.3333333333333333,
             "#9c179e"
            ],
            [
             0.4444444444444444,
             "#bd3786"
            ],
            [
             0.5555555555555556,
             "#d8576b"
            ],
            [
             0.6666666666666666,
             "#ed7953"
            ],
            [
             0.7777777777777778,
             "#fb9f3a"
            ],
            [
             0.8888888888888888,
             "#fdca26"
            ],
            [
             1,
             "#f0f921"
            ]
           ],
           "sequentialminus": [
            [
             0,
             "#0d0887"
            ],
            [
             0.1111111111111111,
             "#46039f"
            ],
            [
             0.2222222222222222,
             "#7201a8"
            ],
            [
             0.3333333333333333,
             "#9c179e"
            ],
            [
             0.4444444444444444,
             "#bd3786"
            ],
            [
             0.5555555555555556,
             "#d8576b"
            ],
            [
             0.6666666666666666,
             "#ed7953"
            ],
            [
             0.7777777777777778,
             "#fb9f3a"
            ],
            [
             0.8888888888888888,
             "#fdca26"
            ],
            [
             1,
             "#f0f921"
            ]
           ]
          },
          "colorway": [
           "#636efa",
           "#EF553B",
           "#00cc96",
           "#ab63fa",
           "#FFA15A",
           "#19d3f3",
           "#FF6692",
           "#B6E880",
           "#FF97FF",
           "#FECB52"
          ],
          "font": {
           "color": "#2a3f5f"
          },
          "geo": {
           "bgcolor": "white",
           "lakecolor": "white",
           "landcolor": "#E5ECF6",
           "showlakes": true,
           "showland": true,
           "subunitcolor": "white"
          },
          "hoverlabel": {
           "align": "left"
          },
          "hovermode": "closest",
          "mapbox": {
           "style": "light"
          },
          "paper_bgcolor": "white",
          "plot_bgcolor": "#E5ECF6",
          "polar": {
           "angularaxis": {
            "gridcolor": "white",
            "linecolor": "white",
            "ticks": ""
           },
           "bgcolor": "#E5ECF6",
           "radialaxis": {
            "gridcolor": "white",
            "linecolor": "white",
            "ticks": ""
           }
          },
          "scene": {
           "xaxis": {
            "backgroundcolor": "#E5ECF6",
            "gridcolor": "white",
            "gridwidth": 2,
            "linecolor": "white",
            "showbackground": true,
            "ticks": "",
            "zerolinecolor": "white"
           },
           "yaxis": {
            "backgroundcolor": "#E5ECF6",
            "gridcolor": "white",
            "gridwidth": 2,
            "linecolor": "white",
            "showbackground": true,
            "ticks": "",
            "zerolinecolor": "white"
           },
           "zaxis": {
            "backgroundcolor": "#E5ECF6",
            "gridcolor": "white",
            "gridwidth": 2,
            "linecolor": "white",
            "showbackground": true,
            "ticks": "",
            "zerolinecolor": "white"
           }
          },
          "shapedefaults": {
           "line": {
            "color": "#2a3f5f"
           }
          },
          "ternary": {
           "aaxis": {
            "gridcolor": "white",
            "linecolor": "white",
            "ticks": ""
           },
           "baxis": {
            "gridcolor": "white",
            "linecolor": "white",
            "ticks": ""
           },
           "bgcolor": "#E5ECF6",
           "caxis": {
            "gridcolor": "white",
            "linecolor": "white",
            "ticks": ""
           }
          },
          "title": {
           "x": 0.05
          },
          "xaxis": {
           "automargin": true,
           "gridcolor": "white",
           "linecolor": "white",
           "ticks": "",
           "title": {
            "standoff": 15
           },
           "zerolinecolor": "white",
           "zerolinewidth": 2
          },
          "yaxis": {
           "automargin": true,
           "gridcolor": "white",
           "linecolor": "white",
           "ticks": "",
           "title": {
            "standoff": 15
           },
           "zerolinecolor": "white",
           "zerolinewidth": 2
          }
         }
        },
        "title": {
         "text": "Error Components Analysis by Pond Type"
        },
        "width": 1200,
        "xaxis": {
         "anchor": "y",
         "domain": [
          0,
          0.2888888888888889
         ],
         "title": {
          "text": "Measurement Index"
         }
        },
        "xaxis2": {
         "anchor": "y2",
         "domain": [
          0.35555555555555557,
          0.6444444444444445
         ],
         "title": {
          "text": "Measurement Index"
         }
        },
        "xaxis3": {
         "anchor": "y3",
         "domain": [
          0.7111111111111111,
          1
         ],
         "title": {
          "text": "Measurement Index"
         }
        },
        "yaxis": {
         "anchor": "x",
         "domain": [
          0,
          1
         ],
         "title": {
          "text": "Error (mm)"
         }
        },
        "yaxis2": {
         "anchor": "x2",
         "domain": [
          0,
          1
         ],
         "matches": "y",
         "showticklabels": false
        },
        "yaxis3": {
         "anchor": "x3",
         "domain": [
          0,
          1
         ],
         "matches": "y",
         "showticklabels": false
        }
       }
      }
     },
     "metadata": {},
     "output_type": "display_data"
    }
   ],
   "source": [
    "# Get unique pond types\n",
    "pond_types = df['Pond_Type'].unique()\n",
    "n_pond_types = len(pond_types)\n",
    "\n",
    "# Prepare data for all pond types\n",
    "pond_data = {}\n",
    "for pond_type in pond_types:\n",
    "    df_pond = df[df['Pond_Type'] == pond_type]\n",
    "    df_pond = df_pond.reset_index(drop=True)\n",
    "    \n",
    "    mm_per_px_gt   = 10 / df_pond['mean_scale']\n",
    "    mm_per_px_pred = 10 / df_pond['pred_scale']\n",
    "    df_pond['pixel_error_mm'] = abs(df_pond['mean_pixels'] - df_pond['pred_Distance_pixels']) * mm_per_px_gt\n",
    "    df_pond['scale_error_mm'] = df_pond['mean_pixels'] * (mm_per_px_gt - mm_per_px_pred)\n",
    "    \n",
    "    partial_cancel_mask_all = (df_pond['pixel_error_mm'] * df_pond['scale_error_mm'] < 0)\n",
    "    percent_partial_cancel_all = 100 * partial_cancel_mask_all.sum() / len(df_pond) if len(df_pond) > 0 else 0\n",
    "    \n",
    "    print(\"\\n--- Error Analysis for Pond Type: {} ---\".format(pond_type))\n",
    "    print(\"   - Number of points in df_pond: {}\".format(len(df_pond)))\n",
    "    print(\"1. Partial Cancellation of Errors:\")\n",
    "    print(\"   - Percentage of points with partial cancellation: {:.2f}%\".format(percent_partial_cancel_all))\n",
    "    \n",
    "    uncancelled_error = abs(df_pond[partial_cancel_mask_all]['pixel_error_mm']) + abs(df_pond[partial_cancel_mask_all]['scale_error_mm'])\n",
    "    actual_total_error = abs(df_pond[partial_cancel_mask_all]['pixel_error_mm'] + df_pond[partial_cancel_mask_all]['scale_error_mm'])\n",
    "    cancellation_magnitude = uncancelled_error - actual_total_error\n",
    "    \n",
    "    print(\"\\n2. Cancellation Magnitude:\")\n",
    "    print(\"   - Mean cancellation magnitude: {:.2f}\".format(cancellation_magnitude.mean()))\n",
    "    print(\"   - Mean percentage of cancellation magnitude relative to Length_fov(mm): {:.2f}%\".format(\n",
    "        cancellation_magnitude.mean() / df_pond[\"Length_fov(mm)\"].abs().mean() * 100))\n",
    "    \n",
    "    df_pond['actual_error_mm'] = abs(df_pond[partial_cancel_mask_all]['pixel_error_mm'] + df_pond[partial_cancel_mask_all]['scale_error_mm'])\n",
    "    df_pond['cancellation_mm'] = abs(df_pond[partial_cancel_mask_all]['pixel_error_mm']) + abs(df_pond[partial_cancel_mask_all]['scale_error_mm']) - df_pond[partial_cancel_mask_all]['actual_error_mm']\n",
    "    \n",
    "    # Calculate the dominance of scale and pixel errors\n",
    "    df_pond['dominant_error'] = np.where(\n",
    "        abs(df_pond['scale_error_mm']) > abs(df_pond['pixel_error_mm']),\n",
    "        'Scale Error',\n",
    "        'Pixel Error'\n",
    "    )\n",
    "    \n",
    "    dominant_counts = df_pond['dominant_error'].value_counts()\n",
    "    dominant_percentages = df_pond['dominant_error'].value_counts(normalize=True) * 100\n",
    "    \n",
    "    print(\"\\n3. Dominance of Error Types:\")\n",
    "    print(\"   - Number of points where Scale Error is dominant: {}\".format(dominant_counts.get('Scale Error', 0)))\n",
    "    print(\"   - Percentage of points where Scale Error is dominant: {:.2f}%\".format(dominant_percentages.get('Scale Error', 0)))\n",
    "    print(\"   - Number of points where Pixel Error is dominant: {}\".format(dominant_counts.get('Pixel Error', 0)))\n",
    "    print(\"   - Percentage of points where Pixel Error is dominant: {:.2f}%\".format(dominant_percentages.get('Pixel Error', 0)))\n",
    "    print(\"\\n----------------------------------------\\n\")\n",
    "    \n",
    "    pond_data[pond_type] = df_pond\n",
    "\n",
    "# Create matplotlib subplots for scatter plots\n",
    "fig_scatter, axes_scatter = plt.subplots(1, n_pond_types, figsize=(5*n_pond_types, 5))\n",
    "if n_pond_types == 1:\n",
    "    axes_scatter = [axes_scatter]\n",
    "\n",
    "for i, pond_type in enumerate(pond_types):\n",
    "    df_pond = pond_data[pond_type]\n",
    "    sns.scatterplot(data=df_pond, x='pixel_error_mm', y='cancellation_mm',\n",
    "                   alpha=0.7, s=60, ax=axes_scatter[i])\n",
    "    axes_scatter[i].set_xlabel('Pixel Error (mm)')\n",
    "    axes_scatter[i].set_ylabel('Cancellation (mm)')\n",
    "    axes_scatter[i].set_title(f'Error vs Cancellation\\n{pond_type}')\n",
    "\n",
    "plt.tight_layout()\n",
    "plt.show()\n",
    "\n",
    "# Create plotly subplots for error components bar plots\n",
    "fig_bar = make_subplots(\n",
    "    rows=1, cols=n_pond_types,\n",
    "    subplot_titles=[f'Error Components - {pond_type}' for pond_type in pond_types],\n",
    "    shared_yaxes=True\n",
    ")\n",
    "\n",
    "for i, pond_type in enumerate(pond_types):\n",
    "    df_pond = pond_data[pond_type]\n",
    "    \n",
    "    # Add Pixel Error bars\n",
    "    fig_bar.add_trace(\n",
    "        go.Bar(\n",
    "            name='Pixel Error' if i == 0 else '',  # Only show legend for first subplot\n",
    "            x=df_pond.index,\n",
    "            y=df_pond['pixel_error_mm'],\n",
    "            marker_color='#1f77b4',\n",
    "            showlegend=(i == 0),  # Only show legend for first subplot\n",
    "            hovertemplate=\"Image: %{customdata[0]}<br>\" +\n",
    "                          \"Prawn ID: %{customdata[1]}<br>\" +\n",
    "                          \"Mean Length: %{customdata[2]:.1f}mm<br>\" +\n",
    "                          \"Model Length: %{customdata[3]:.1f}mm<br>\" +\n",
    "                          \"Pixel Error: %{y:.1f}mm<extra></extra>\",\n",
    "            customdata=df_pond[['Label', 'PrawnID', 'mean_length', 'Length_fov(mm)']].values\n",
    "        ),\n",
    "        row=1, col=i+1\n",
    "    )\n",
    "    \n",
    "    # Add Scale Error bars\n",
    "    fig_bar.add_trace(\n",
    "        go.Bar(\n",
    "            name='Scale Error' if i == 0 else '',  # Only show legend for first subplot\n",
    "            x=df_pond.index,\n",
    "            y=df_pond['scale_error_mm'],\n",
    "            marker_color='#ff7f0e',\n",
    "            showlegend=(i == 0),  # Only show legend for first subplot\n",
    "            hovertemplate=\"Image: %{customdata[0]}<br>\" +\n",
    "                          \"Prawn ID: %{customdata[1]}<br>\" +\n",
    "                          \"Mean Length: %{customdata[2]:.1f}mm<br>\" +\n",
    "                          \"Model Length: %{customdata[3]:.1f}mm<br>\" +\n",
    "                          \"Scale Error: %{y:.1f}mm<extra></extra>\",\n",
    "            customdata=df_pond[['Label', 'PrawnID', 'mean_length', 'Length_fov(mm)']].values\n",
    "        ),\n",
    "        row=1, col=i+1\n",
    "    )\n",
    "\n",
    "# Update layout for bar plots\n",
    "fig_bar.update_layout(\n",
    "    barmode='relative',\n",
    "    title_text='Error Components Analysis by Pond Type',\n",
    "    width=400*n_pond_types,\n",
    "    height=600\n",
    ")\n",
    "\n",
    "# Update x-axis titles\n",
    "for i in range(n_pond_types):\n",
    "    fig_bar.update_xaxes(title_text='Measurement Index', row=1, col=i+1)\n",
    "\n",
    "# Update y-axis title for the first subplot only\n",
    "fig_bar.update_yaxes(title_text='Error (mm)', row=1, col=1)\n",
    "\n",
    "fig_bar.show()\n",
    "\n",
    "    \n",
    "\n",
    "\n",
    "    \n",
    "    #save the plot\n"
   ]
  },
  {
   "cell_type": "code",
   "execution_count": null,
   "metadata": {},
   "outputs": [],
   "source": []
  },
  {
   "cell_type": "code",
   "execution_count": 3,
   "metadata": {},
   "outputs": [
    {
     "name": "stdout",
     "output_type": "stream",
     "text": [
      "✓ copied 2,664 characters\n"
     ]
    }
   ],
   "source": [
    "import pyperclip\n",
    "pyperclip.copy(cap.stdout)     # copies everything that was printed\n",
    "print(\"✓ copied {:,} characters\".format(len(cap.stdout)))"
   ]
  },
  {
   "cell_type": "code",
   "execution_count": null,
   "metadata": {},
   "outputs": [],
   "source": []
  },
  {
   "cell_type": "markdown",
   "metadata": {},
   "source": [
    "### scale error ###"
   ]
  },
  {
   "cell_type": "code",
   "execution_count": 12,
   "metadata": {},
   "outputs": [
    {
     "name": "stdout",
     "output_type": "stream",
     "text": [
      "\n",
      "--- Scale Error Analysis for Pond Type: circle_female ---\n",
      "   - Mean of Scale Error: 8.13%\n",
      "   - Standard Deviation of Scale Error: 5.25%\n",
      "Percentage of scale error points that share the same image (Label) with at least one other scale error point (all samples): 23.9130%\n",
      "Number of scale error points that share the same image (Label) with at least one other scale error point (all samples): 22\n",
      "Total number of images with shared scale error: 10\n",
      "\n",
      "----------------------------------------\n",
      "\n",
      "\n",
      "--- Scale Error Analysis for Pond Type: circle_male ---\n",
      "   - Mean of Scale Error: 15.10%\n",
      "   - Standard Deviation of Scale Error: 2.60%\n",
      "Percentage of scale error points that share the same image (Label) with at least one other scale error point (all samples): 92.3077%\n",
      "Number of scale error points that share the same image (Label) with at least one other scale error point (all samples): 12\n",
      "Total number of images with shared scale error: 5\n",
      "\n",
      "----------------------------------------\n",
      "\n",
      "\n",
      "--- Scale Error Analysis for Pond Type: square ---\n",
      "   - Mean of Scale Error: 6.87%\n",
      "   - Standard Deviation of Scale Error: 4.75%\n",
      "Percentage of scale error points that share the same image (Label) with at least one other scale error point (all samples): 14.2857%\n",
      "Number of scale error points that share the same image (Label) with at least one other scale error point (all samples): 2\n",
      "Total number of images with shared scale error: 4\n",
      "\n",
      "----------------------------------------\n",
      "\n"
     ]
    },
    {
     "data": {
      "image/png": "[encoded data removed]",
      "text/plain": [
       "<Figure size 1400x1500 with 3 Axes>"
      ]
     },
     "metadata": {},
     "output_type": "display_data"
    }
   ],
   "source": [
    "\n",
    "# Get unique pond types and prepare data\n",
    "pond_types = df['Pond_Type'].unique()\n",
    "n_pond_types = len(pond_types)\n",
    "\n",
    "# Prepare data for all pond types\n",
    "pond_scale_data = {}\n",
    "\n",
    "for pond_type in pond_types:\n",
    "    df_pond = df[df['Pond_Type'] == pond_type]\n",
    "    df_pond['scale_error_mm'] = abs((df_pond['mean_scale'] - df_pond['pred_scale']))/df_pond['mean_scale']*100\n",
    "    \n",
    "    # Calculate statistics\n",
    "    mean_scale_error = df_pond['scale_error_mm'].mean()\n",
    "    std_scale_error = df_pond['scale_error_mm'].std()\n",
    "    print(f\"\\n--- Scale Error Analysis for Pond Type: {pond_type} ---\")\n",
    "    print(f\"   - Mean of Scale Error: {mean_scale_error:.2f}%\")\n",
    "    print(f\"   - Standard Deviation of Scale Error: {std_scale_error:.2f}%\")\n",
    "    \n",
    "    # Shared scale error analysis\n",
    "    shared_label_count = df_pond[df_pond['scale_error_mm'] > 10]['Label'].duplicated(keep=False).sum()\n",
    "    percent_shared = 100 * shared_label_count / len(df_pond)\n",
    "    print(f\"Percentage of scale error points that share the same image (Label) with at least one other scale error point (all samples): {percent_shared:.4f}%\")\n",
    "    print(f\"Number of scale error points that share the same image (Label) with at least one other scale error point (all samples): {shared_label_count}\")\n",
    "    print(f\"Total number of images with shared scale error: {df_pond[df_pond['scale_error_mm'] > 10]['Label'].nunique()}\")\n",
    "    print(\"\\n----------------------------------------\\n\")\n",
    "\n",
    "    # Group by image\n",
    "    df_img = (df_pond\n",
    "            .groupby(\n",
    "                df_pond['Label'].apply(\n",
    "                    lambda x: tuple(x.split('undistorted_')[-1].split('_')[0:3])\n",
    "                )\n",
    "            )\n",
    "            .agg(scale_err_perc = ('scale_error_mm', 'mean'),\n",
    "                prawn_count    = ('scale_error_mm', 'size'))\n",
    "            .reset_index())\n",
    "\n",
    "    df_img = df_img.sort_values('scale_err_perc', ascending=False).reset_index(drop=True)\n",
    "    pond_scale_data[pond_type] = df_img\n",
    "\n",
    "# Create subplots in 3 rows\n",
    "fig, axes = plt.subplots(n_pond_types, 1, figsize=(14, 5*n_pond_types))\n",
    "\n",
    "# Handle case where there's only one pond type\n",
    "if n_pond_types == 1:\n",
    "    axes = [axes]\n",
    "\n",
    "for i, pond_type in enumerate(pond_types):\n",
    "    df_img = pond_scale_data[pond_type]\n",
    "    \n",
    "    # Create bar plot\n",
    "    sns.barplot(data=df_img, x=df_img.index, y='scale_err_perc', ax=axes[i])\n",
    "    \n",
    "    # Add prawn count annotations inside each bar with larger font\n",
    "    for j, bar in enumerate(axes[i].patches):\n",
    "        if j < len(df_img):  # Safety check\n",
    "            count = df_img.loc[j, 'prawn_count']\n",
    "            height = bar.get_height()\n",
    "            axes[i].text(\n",
    "                bar.get_x() + bar.get_width() / 2,   # x = middle of bar\n",
    "                height / 2,                          # y = halfway up the bar\n",
    "                str(count),\n",
    "                ha='center', va='center',\n",
    "                fontsize=14, color='white', weight='bold'  # Increased from 9 to 14\n",
    "            )\n",
    "    \n",
    "    # Customize each subplot\n",
    "    axes[i].set_ylabel('Scale error (%)', fontsize=12)\n",
    "    axes[i].set_xlabel('Image (Label)', fontsize=12)\n",
    "    axes[i].set_title(f'Per-image scale error - {pond_type} (white number = prawn count)', fontsize=20)\n",
    "    \n",
    "    # Make y-axis tick labels bigger\n",
    "    axes[i].tick_params(axis='y', labelsize=20)\n",
    "    axes[i].tick_params(axis='x', labelsize=8)\n",
    "    \n",
    "    # Set x-tick labels\n",
    "    axes[i].set_xticks(range(len(df_img)))\n",
    "    axes[i].set_xticklabels(df_img['Label'], rotation=90, fontsize=8)\n",
    "\n",
    "plt.tight_layout()\n",
    "plt.show()"
   ]
  },
  {
   "cell_type": "markdown",
   "metadata": {},
   "source": []
  },
  {
   "cell_type": "markdown",
   "metadata": {},
   "source": [
    "### pixel error ###"
   ]
  },
  {
   "cell_type": "code",
   "execution_count": 13,
   "metadata": {},
   "outputs": [
    {
     "name": "stdout",
     "output_type": "stream",
     "text": [
      "\n",
      "--- Analysis for Pond Type: circle_female ---\n",
      "Percentage of points where the annotation pixel error is smaller (all pixel error samples): 55.4348%\n",
      "Number of points where the annotation pixel error is smaller (all pixel error samples): 51\n",
      "Mean pixel error: 37.82 pixels\n",
      "Mean annotation pixel error: 36.19 pixels\n",
      "----------------------------------------\n",
      "\n",
      "\n",
      "--- Analysis for Pond Type: circle_male ---\n",
      "Percentage of points where the annotation pixel error is smaller (all pixel error samples): 84.6154%\n",
      "Number of points where the annotation pixel error is smaller (all pixel error samples): 11\n",
      "Mean pixel error: 55.40 pixels\n",
      "Mean annotation pixel error: 40.12 pixels\n",
      "----------------------------------------\n",
      "\n",
      "\n",
      "--- Analysis for Pond Type: square ---\n",
      "Percentage of points where the annotation pixel error is smaller (all pixel error samples): 42.8571%\n",
      "Number of points where the annotation pixel error is smaller (all pixel error samples): 6\n",
      "Mean pixel error: 67.00 pixels\n",
      "Mean annotation pixel error: 62.98 pixels\n",
      "----------------------------------------\n",
      "\n"
     ]
    },
    {
     "data": {
      "image/png": "[encoded data removed]",
      "text/plain": [
       "<Figure size 1800x500 with 3 Axes>"
      ]
     },
     "metadata": {},
     "output_type": "display_data"
    }
   ],
   "source": [
    "# Get unique pond types and prepare data\n",
    "pond_types = df['Pond_Type'].unique()\n",
    "n_pond_types = len(pond_types)\n",
    "\n",
    "# Prepare data for all pond types\n",
    "pond_annotation_data = {}\n",
    "\n",
    "for pond_type in pond_types:\n",
    "    df_pond = df[df['Pond_Type'] == pond_type]\n",
    "    df_pond['pixel_error'] = abs(df_pond['mean_pixels'] - df_pond['pred_Distance_pixels'])\n",
    "    df_pond['annotation_pixel_error'] = abs(df_pond['pred_Distance_pixels'] - df_pond['Length_ground_truth_annotation_pixels'])\n",
    "    df_pond['annotation_pixel_error_smaller'] = df_pond['annotation_pixel_error'] < abs(df_pond['pixel_error'])\n",
    "    \n",
    "    # Print statistics\n",
    "    print(f\"\\n--- Analysis for Pond Type: {pond_type} ---\")\n",
    "    print(f\"Percentage of points where the annotation pixel error is smaller (all pixel error samples): {df_pond['annotation_pixel_error_smaller'].mean()*100:.4f}%\")\n",
    "    print(f\"Number of points where the annotation pixel error is smaller (all pixel error samples): {df_pond['annotation_pixel_error_smaller'].sum()}\")\n",
    "    print(f\"Mean pixel error: {df_pond['pixel_error'].mean():.2f} pixels\")\n",
    "    print(f\"Mean annotation pixel error: {df_pond['annotation_pixel_error'].mean():.2f} pixels\")\n",
    "    print(\"----------------------------------------\\n\")\n",
    "\n",
    "    # Prepare data for plotting\n",
    "    df_long = (df_pond[['pixel_error', 'annotation_pixel_error']]\n",
    "               .rename(columns={'pixel_error': 'ImageJ annotation error', \n",
    "                               'annotation_pixel_error': 'Roboflow Annotation error'})\n",
    "               .melt(var_name='Error_type', value_name='Error_px'))\n",
    "    \n",
    "    pond_annotation_data[pond_type] = df_long\n",
    "\n",
    "# Create subplots in a row (3 columns)\n",
    "fig, axes = plt.subplots(1, n_pond_types, figsize=(6*n_pond_types, 5))\n",
    "\n",
    "# Handle case where there's only one pond type\n",
    "if n_pond_types == 1:\n",
    "    axes = [axes]\n",
    "\n",
    "for i, pond_type in enumerate(pond_types):\n",
    "    df_long = pond_annotation_data[pond_type]\n",
    "    \n",
    "    # Create box plot for each pond type\n",
    "    sns.boxplot(data=df_long, x='Error_type', y='Error_px', palette='Set2', ax=axes[i])\n",
    "    \n",
    "    # Customize each subplot\n",
    "    axes[i].set_ylabel('Error (pixels)', fontsize=12)\n",
    "    axes[i].set_xlabel('', fontsize=12)\n",
    "    axes[i].set_title(f'ImageJ vs Roboflow Annotation Error\\n{pond_type}', fontsize=13)\n",
    "    \n",
    "    # Rotate x-axis labels for better readability\n",
    "    axes[i].tick_params(axis='x', rotation=45, labelsize=10)\n",
    "    axes[i].tick_params(axis='y', labelsize=11)\n",
    "\n",
    "plt.tight_layout()\n",
    "plt.show()\n",
    "    "
   ]
  },
  {
   "cell_type": "code",
   "execution_count": 14,
   "metadata": {},
   "outputs": [
    {
     "name": "stdout",
     "output_type": "stream",
     "text": [
      "Mean length for circle_female: 116.7372862318841\n",
      "Std length for circle_female: 7.582457260895332\n",
      "Number of prawns in circle_female: 92\n",
      "Mean length for circle_male: 77.39110256410257\n",
      "Std length for circle_male: 5.624595287016238\n",
      "Number of prawns in circle_male: 13\n",
      "Mean length for square: 119.58761904761907\n",
      "Std length for square: 7.729485531879914\n",
      "Number of prawns in square: 14\n"
     ]
    },
    {
     "data": {
      "application/vnd.plotly.v1+json": {
       "config": {
        "plotlyServerURL": "https://plot.ly"
       },
       "data": [
        {
         "hoverinfo": "text+x+y",
         "marker": {
          "color": "#ff7f0e",
          "opacity": 0.7
         },
         "mode": "markers",
         "name": "Measurements",
         "showlegend": true,
         "text": [
          "Image: full body:undistorted_GX010077_14_237.jpg_gamma<br>Prawn ID: Prawn_0",
          "Image: full body:undistorted_GX010077_14_237.jpg_gamma<br>Prawn ID: Prawn_1",
          "Image: full body:undistorted_GX010077_14_237.jpg_gamma<br>Prawn ID: Prawn_2",
          "Image: full body:undistorted_GX010067_33_625.jpg_gamma<br>Prawn ID: Prawn_0",
          "Image: full body:undistorted_GX010067_33_625.jpg_gamma<br>Prawn ID: Prawn_1",
          "Image: full body:undistorted_GX010067_33_625.jpg_gamma<br>Prawn ID: Prawn_2",
          "Image: full body:undistorted_GX010067_33_625.jpg_gamma<br>Prawn ID: Prawn_3",
          "Image: full body:undistorted_GX010068_26_666.jpg_gamma<br>Prawn ID: Prawn_0",
          "Image: full body:undistorted_GX010068_26_666.jpg_gamma<br>Prawn ID: Prawn_1",
          "Image: full body:undistorted_GX010068_26_666.jpg_gamma<br>Prawn ID: Prawn_2",
          "Image: full body:undistorted_GX010068_27_795.jpg_gamma<br>Prawn ID: Prawn_0",
          "Image: full body:undistorted_GX010068_27_795.jpg_gamma<br>Prawn ID: Prawn_1",
          "Image: full body:undistorted_GX010069_19_191.jpg_gamma<br>Prawn ID: Prawn_0",
          "Image: full body:undistorted_GX010069_19_191.jpg_gamma<br>Prawn ID: Prawn_1",
          "Image: full body:undistorted_GX010069_19_191.jpg_gamma<br>Prawn ID: Prawn_2",
          "Image: full body:undistorted_GX010069_19_191.jpg_gamma<br>Prawn ID: Prawn_3",
          "Image: full body:undistorted_GX010071_22_444.jpg_gamma<br>Prawn ID: Prawn_0",
          "Image: full body:undistorted_GX010071_22_444.jpg_gamma<br>Prawn ID: Prawn_1",
          "Image: full body:undistorted_GX010073_42_695.jpg_gamma<br>Prawn ID: Prawn_1",
          "Image: full body:undistorted_GX010073_42_695.jpg_gamma<br>Prawn ID: Prawn_2",
          "Image: full body:undistorted_GX010073_55_1014.jpg_gamma<br>Prawn ID: Prawn_0",
          "Image: full body:undistorted_GX010073_55_1014.jpg_gamma<br>Prawn ID: Prawn_1",
          "Image: full body:undistorted_GX010073_55_1014.jpg_gamma<br>Prawn ID: Prawn_2",
          "Image: full body:undistorted_GX010080_157_2283.jpg_gamma<br>Prawn ID: Prawn_0",
          "Image: full body:undistorted_GX010080_157_2283.jpg_gamma<br>Prawn ID: Prawn_2",
          "Image: full body:undistorted_GX010080_157_2283.jpg_gamma<br>Prawn ID: Prawn_3",
          "Image: full body:undistorted_GX010080_193_2640.jpg_gamma<br>Prawn ID: Prawn_0",
          "Image: full body:undistorted_GX010080_193_2640.jpg_gamma<br>Prawn ID: Prawn_1",
          "Image: full body:undistorted_GX010080_193_2640.jpg_gamma<br>Prawn ID: Prawn_2",
          "Image: full body:undistorted_GX010080_193_2640.jpg_gamma<br>Prawn ID: Prawn_3",
          "Image: full body:undistorted_GX010080_193_2640.jpg_gamma<br>Prawn ID: Prawn_4",
          "Image: full body:undistorted_GX010080_212_2954.jpg_gamma<br>Prawn ID: Prawn_0",
          "Image: full body:undistorted_GX010080_212_2954.jpg_gamma<br>Prawn ID: Prawn_1",
          "Image: full body:undistorted_GX010080_212_2954.jpg_gamma<br>Prawn ID: Prawn_2",
          "Image: full body:undistorted_GX010080_237_3366.jpg_gamma<br>Prawn ID: Prawn_0",
          "Image: full body:undistorted_GX010080_237_3366.jpg_gamma<br>Prawn ID: Prawn_1",
          "Image: full body:undistorted_GX010080_237_3366.jpg_gamma<br>Prawn ID: Prawn_2",
          "Image: full body:undistorted_GX010080_237_3366.jpg_gamma<br>Prawn ID: Prawn_3",
          "Image: full body:undistorted_GX010080_237_3366.jpg_gamma<br>Prawn ID: Prawn_4",
          "Image: full body:undistorted_GX010080_238_3392.jpg_gamma<br>Prawn ID: Prawn_0",
          "Image: full body:undistorted_GX010080_238_3392.jpg_gamma<br>Prawn ID: Prawn_1",
          "Image: full body:undistorted_GX010080_238_3392.jpg_gamma<br>Prawn ID: Prawn_2",
          "Image: full body:undistorted_GX010080_238_3392.jpg_gamma<br>Prawn ID: Prawn_3",
          "Image: full body:undistorted_GX010082_8_59.jpg_gamma<br>Prawn ID: Prawn_1",
          "Image: full body:undistorted_GX010082_8_59.jpg_gamma<br>Prawn ID: Prawn_2",
          "Image: full body:undistorted_GX010082_8_59.jpg_gamma<br>Prawn ID: Prawn_3",
          "Image: full body:undistorted_GX010082_8_59.jpg_gamma<br>Prawn ID: Prawn_4",
          "Image: full body:undistorted_GX010082_53_796.jpg_gamma<br>Prawn ID: Prawn_0",
          "Image: full body:undistorted_GX010082_53_796.jpg_gamma<br>Prawn ID: Prawn_1",
          "Image: full body:undistorted_GX010082_65_1070.jpg_gamma<br>Prawn ID: Prawn_0",
          "Image: full body:undistorted_GX010082_65_1070.jpg_gamma<br>Prawn ID: Prawn_1",
          "Image: full body:undistorted_GX010082_65_1070.jpg_gamma<br>Prawn ID: Prawn_2",
          "Image: full body:undistorted_GX010082_236_3137.jpg_gamma<br>Prawn ID: Prawn_0",
          "Image: full body:undistorted_GX010082_236_3137.jpg_gamma<br>Prawn ID: Prawn_1",
          "Image: full body:undistorted_GX010082_236_3137.jpg_gamma<br>Prawn ID: Prawn_2",
          "Image: full body:undistorted_GX010084_30_344.jpg_gamma<br>Prawn ID: Prawn_0",
          "Image: full body:undistorted_GX010084_30_344.jpg_gamma<br>Prawn ID: Prawn_1",
          "Image: full body:undistorted_GX010084_30_344.jpg_gamma<br>Prawn ID: Prawn_2",
          "Image: full body:undistorted_GX010084_30_344.jpg_gamma<br>Prawn ID: Prawn_3",
          "Image: full body:undistorted_GX010084_130_1748.jpg_gamma<br>Prawn ID: Prawn_0",
          "Image: full body:undistorted_GX010084_130_1748.jpg_gamma<br>Prawn ID: Prawn_1",
          "Image: full body:undistorted_GX010084_130_1748.jpg_gamma<br>Prawn ID: Prawn_2",
          "Image: full body:undistorted_GX010085_261_3610.jpg_gamma<br>Prawn ID: Prawn_0",
          "Image: full body:undistorted_GX010085_261_3610.jpg_gamma<br>Prawn ID: Prawn_1",
          "Image: full body:undistorted_GX010088_209_2904.jpg_gamma<br>Prawn ID: Prawn_0",
          "Image: full body:undistorted_GX010088_209_2904.jpg_gamma<br>Prawn ID: Prawn_1",
          "Image: full body:undistorted_GX010088_262_3712.jpg_gamma<br>Prawn ID: Prawn_0",
          "Image: full body:undistorted_GX010088_262_3712.jpg_gamma<br>Prawn ID: Prawn_1",
          "Image: full body:undistorted_GX010088_262_3712.jpg_gamma<br>Prawn ID: Prawn_2",
          "Image: full body:undistorted_GX010088_327_4364.jpg_gamma<br>Prawn ID: Prawn_0",
          "Image: full body:undistorted_GX010088_327_4364.jpg_gamma<br>Prawn ID: Prawn_1",
          "Image: full body:undistorted_GX010088_327_4364.jpg_gamma<br>Prawn ID: Prawn_2",
          "Image: full body:undistorted_GX010088_327_4364.jpg_gamma<br>Prawn ID: Prawn_3",
          "Image: full body:undistorted_GX010090_132_1852.jpg_gamma<br>Prawn ID: Prawn_0",
          "Image: full body:undistorted_GX010094_9_129.jpg_gamma<br>Prawn ID: Prawn_0",
          "Image: full body:undistorted_GX010094_9_129.jpg_gamma<br>Prawn ID: Prawn_1",
          "Image: full body:undistorted_GX010094_24_430.jpg_gamma<br>Prawn ID: Prawn_0",
          "Image: full body:undistorted_GX010094_93_1258.jpg_gamma<br>Prawn ID: Prawn_0",
          "Image: full body:undistorted_GX010094_163_2312.jpg_gamma<br>Prawn ID: Prawn_0",
          "Image: full body:undistorted_GX010097_32_528.jpg_gamma<br>Prawn ID: Prawn_0",
          "Image: full body:undistorted_GX010097_32_528.jpg_gamma<br>Prawn ID: Prawn_1",
          "Image: full body:undistorted_GX010097_60_1080.jpg_gamma<br>Prawn ID: Prawn_0",
          "Image: full body:undistorted_GX010097_60_1080.jpg_gamma<br>Prawn ID: Prawn_1",
          "Image: full body:undistorted_GX010097_60_1080.jpg_gamma<br>Prawn ID: Prawn_2",
          "Image: full body:undistorted_GX010097_60_1080.jpg_gamma<br>Prawn ID: Prawn_3",
          "Image: full body:undistorted_GX010097_105_1651.jpg_gamma<br>Prawn ID: Prawn_0",
          "Image: full body:undistorted_GX010097_105_1651.jpg_gamma<br>Prawn ID: Prawn_1",
          "Image: full body:undistorted_GX010097_105_1651.jpg_gamma<br>Prawn ID: Prawn_2",
          "Image: full body:undistorted_GX010097_105_1651.jpg_gamma<br>Prawn ID: Prawn_3",
          "Image: full body:undistorted_GX010097_124_1870.jpg_gamma<br>Prawn ID: Prawn_0",
          "Image: full body:undistorted_GX010097_124_1870.jpg_gamma<br>Prawn ID: Prawn_1",
          "Image: full body:undistorted_GX010101_12_173.jpg_gamma<br>Prawn ID: Prawn_0"
         ],
         "type": "scatter",
         "x": [
          75.62400000000001,
          119.409,
          104.47133333333332,
          120.64933333333332,
          93.004,
          147.809,
          89.831,
          112.46333333333332,
          115.24966666666668,
          123.17266666666669,
          137.58866666666663,
          136.09433333333334,
          102.96233333333332,
          87.69233333333334,
          108.03966666666668,
          112.21633333333334,
          131.18266666666668,
          126.04,
          84.04366666666665,
          144.47966666666665,
          113.72700000000002,
          108.85633333333334,
          94.282,
          106.32633333333332,
          99.51133333333333,
          108.72966666666667,
          120.77733333333332,
          115.48133333333334,
          114.69966666666666,
          107.973,
          113.177,
          124.24166666666667,
          128.16033333333334,
          142.70433333333335,
          129.93933333333334,
          132.354,
          95.67199999999998,
          120.09466666666668,
          148.17133333333334,
          121.37733333333334,
          128.20933333333332,
          101.84633333333332,
          126.37966666666668,
          135.76733333333334,
          123.45166666666668,
          119.83933333333334,
          94.914,
          85.173,
          143.83033333333333,
          97.42,
          129.8183333333333,
          116.80933333333331,
          67.466,
          113.96533333333332,
          115.32833333333332,
          111.61866666666668,
          116.77266666666668,
          121.82066666666668,
          135.806,
          124.16566666666668,
          98.72266666666668,
          135.8903333333333,
          130.186,
          116.825,
          105.59166666666668,
          113.83366666666666,
          134.67533333333336,
          147.93500000000003,
          168.85266666666666,
          127.02466666666665,
          127.067,
          110.01333333333334,
          134.249,
          124.40566666666666,
          85.40533333333333,
          112.616,
          116.28066666666666,
          118.99366666666668,
          118.656,
          103.21066666666668,
          99.14533333333333,
          113.193,
          137.114,
          105.88,
          94.39433333333334,
          127.93866666666668,
          150.87933333333334,
          100.80366666666669,
          99.61066666666666,
          101.21533333333332,
          95.208,
          155.33266666666665
         ],
         "xaxis": "x",
         "y": [
          88.2238618583865,
          130.3072585703342,
          121.3854113491351,
          139.7802545895399,
          102.7217873465614,
          151.3019191079152,
          92.62644213355016,
          118.3209877143123,
          129.7931589838535,
          134.320538518607,
          144.3400041440258,
          124.309505044012,
          126.5824151852613,
          100.5173592459666,
          117.3319023643254,
          118.1661086516886,
          144.4489907657441,
          123.1204379059823,
          90.9921652733458,
          141.8652283276093,
          120.9802044842614,
          115.814424183012,
          109.380793272358,
          142.3471786776564,
          124.5870704174287,
          127.3649364046984,
          140.4721189676514,
          124.5776632907126,
          124.1185335344902,
          127.7329403277941,
          132.9033880770651,
          144.8775231496437,
          140.9282298037327,
          140.9282298037327,
          152.7145736615965,
          152.5164527792293,
          112.14672367864,
          124.1335424223215,
          156.7156125771451,
          140.9654013915187,
          139.8766897076493,
          110.9150893382841,
          137.8028076480297,
          143.7517333071236,
          119.9973605908696,
          150.7099886412093,
          120.3495824690556,
          86.29366664090915,
          151.9499160522697,
          121.6588452961211,
          153.5811701319379,
          135.60917500537,
          88.8025214239344,
          139.4584460092295,
          142.0844249272272,
          123.3303944030748,
          129.8682000360583,
          125.6134826389923,
          130.9845595028721,
          125.2232041184863,
          113.016484322455,
          132.897186048176,
          133.9932992972118,
          109.7333517678867,
          109.6207053095443,
          129.2109593312319,
          135.1131308271707,
          125.8639314174425,
          144.7999159279992,
          122.7538914984202,
          129.2765201473148,
          113.3658144298521,
          126.4906331509988,
          150.8168572258346,
          105.4583375172172,
          122.4403386329594,
          122.5679516169286,
          124.4208728665562,
          138.2151955256912,
          125.1652242436247,
          107.2651429402243,
          118.3217803971059,
          138.6834307659101,
          121.6559709337517,
          94.34685719693007,
          152.5372272696837,
          163.1870589401357,
          124.2624287939245,
          124.1140930928323,
          125.1646456246433,
          116.189904910947,
          159.4121194325315
         ],
         "yaxis": "y"
        },
        {
         "line": {
          "color": "black",
          "dash": "dash"
         },
         "mode": "lines",
         "name": "Perfect match (y=x)",
         "showlegend": true,
         "type": "scatter",
         "x": [
          67.466,
          68.49010774410773,
          69.51421548821548,
          70.53832323232322,
          71.56243097643097,
          72.58653872053871,
          73.61064646464646,
          74.6347542087542,
          75.65886195286194,
          76.68296969696969,
          77.70707744107743,
          78.73118518518518,
          79.75529292929292,
          80.77940067340067,
          81.80350841750841,
          82.82761616161616,
          83.8517239057239,
          84.87583164983164,
          85.89993939393939,
          86.92404713804713,
          87.94815488215488,
          88.97226262626262,
          89.99637037037036,
          91.02047811447811,
          92.04458585858586,
          93.0686936026936,
          94.09280134680134,
          95.11690909090909,
          96.14101683501683,
          97.16512457912458,
          98.18923232323232,
          99.21334006734006,
          100.23744781144781,
          101.26155555555556,
          102.2856632996633,
          103.30977104377104,
          104.33387878787879,
          105.35798653198653,
          106.38209427609428,
          107.40620202020202,
          108.43030976430975,
          109.4544175084175,
          110.47852525252526,
          111.502632996633,
          112.52674074074073,
          113.55084848484847,
          114.57495622895622,
          115.59906397306398,
          116.62317171717172,
          117.64727946127945,
          118.6713872053872,
          119.69549494949496,
          120.7196026936027,
          121.74371043771043,
          122.76781818181817,
          123.79192592592592,
          124.81603367003368,
          125.84014141414141,
          126.86424915824915,
          127.8883569023569,
          128.91246464646463,
          129.9365723905724,
          130.96068013468013,
          131.98478787878787,
          133.00889562289564,
          134.03300336700335,
          135.0571111111111,
          136.08121885521885,
          137.1053265993266,
          138.12943434343435,
          139.1535420875421,
          140.17764983164983,
          141.2017575757576,
          142.2258653198653,
          143.24997306397307,
          144.2740808080808,
          145.29818855218855,
          146.32229629629632,
          147.34640404040402,
          148.3705117845118,
          149.39461952861953,
          150.41872727272727,
          151.44283501683503,
          152.46694276094274,
          153.4910505050505,
          154.51515824915825,
          155.53926599326599,
          156.56337373737375,
          157.58748148148146,
          158.61158922558923,
          159.63569696969697,
          160.6598047138047,
          161.68391245791247,
          162.7080202020202,
          163.73212794612795,
          164.7562356902357,
          165.78034343434342,
          166.8044511784512,
          167.82855892255893,
          168.85266666666666
         ],
         "xaxis": "x",
         "y": [
          67.466,
          68.49010774410773,
          69.51421548821548,
          70.53832323232322,
          71.56243097643097,
          72.58653872053871,
          73.61064646464646,
          74.6347542087542,
          75.65886195286194,
          76.68296969696969,
          77.70707744107743,
          78.73118518518518,
          79.75529292929292,
          80.77940067340067,
          81.80350841750841,
          82.82761616161616,
          83.8517239057239,
          84.87583164983164,
          85.89993939393939,
          86.92404713804713,
          87.94815488215488,
          88.97226262626262,
          89.99637037037036,
          91.02047811447811,
          92.04458585858586,
          93.0686936026936,
          94.09280134680134,
          95.11690909090909,
          96.14101683501683,
          97.16512457912458,
          98.18923232323232,
          99.21334006734006,
          100.23744781144781,
          101.26155555555556,
          102.2856632996633,
          103.30977104377104,
          104.33387878787879,
          105.35798653198653,
          106.38209427609428,
          107.40620202020202,
          108.43030976430975,
          109.4544175084175,
          110.47852525252526,
          111.502632996633,
          112.52674074074073,
          113.55084848484847,
          114.57495622895622,
          115.59906397306398,
          116.62317171717172,
          117.64727946127945,
          118.6713872053872,
          119.69549494949496,
          120.7196026936027,
          121.74371043771043,
          122.76781818181817,
          123.79192592592592,
          124.81603367003368,
          125.84014141414141,
          126.86424915824915,
          127.8883569023569,
          128.91246464646463,
          129.9365723905724,
          130.96068013468013,
          131.98478787878787,
          133.00889562289564,
          134.03300336700335,
          135.0571111111111,
          136.08121885521885,
          137.1053265993266,
          138.12943434343435,
          139.1535420875421,
          140.17764983164983,
          141.2017575757576,
          142.2258653198653,
          143.24997306397307,
          144.2740808080808,
          145.29818855218855,
          146.32229629629632,
          147.34640404040402,
          148.3705117845118,
          149.39461952861953,
          150.41872727272727,
          151.44283501683503,
          152.46694276094274,
          153.4910505050505,
          154.51515824915825,
          155.53926599326599,
          156.56337373737375,
          157.58748148148146,
          158.61158922558923,
          159.63569696969697,
          160.6598047138047,
          161.68391245791247,
          162.7080202020202,
          163.73212794612795,
          164.7562356902357,
          165.78034343434342,
          166.8044511784512,
          167.82855892255893,
          168.85266666666666
         ],
         "yaxis": "y"
        },
        {
         "line": {
          "color": "#2c7fb8",
          "dash": "dash"
         },
         "mode": "lines",
         "name": "±Std boundary (7.6 mm)",
         "showlegend": true,
         "type": "scatter",
         "x": [
          67.466,
          68.49010774410773,
          69.51421548821548,
          70.53832323232322,
          71.56243097643097,
          72.58653872053871,
          73.61064646464646,
          74.6347542087542,
          75.65886195286194,
          76.68296969696969,
          77.70707744107743,
          78.73118518518518,
          79.75529292929292,
          80.77940067340067,
          81.80350841750841,
          82.82761616161616,
          83.8517239057239,
          84.87583164983164,
          85.89993939393939,
          86.92404713804713,
          87.94815488215488,
          88.97226262626262,
          89.99637037037036,
          91.02047811447811,
          92.04458585858586,
          93.0686936026936,
          94.09280134680134,
          95.11690909090909,
          96.14101683501683,
          97.16512457912458,
          98.18923232323232,
          99.21334006734006,
          100.23744781144781,
          101.26155555555556,
          102.2856632996633,
          103.30977104377104,
          104.33387878787879,
          105.35798653198653,
          106.38209427609428,
          107.40620202020202,
          108.43030976430975,
          109.4544175084175,
          110.47852525252526,
          111.502632996633,
          112.52674074074073,
          113.55084848484847,
          114.57495622895622,
          115.59906397306398,
          116.62317171717172,
          117.64727946127945,
          118.6713872053872,
          119.69549494949496,
          120.7196026936027,
          121.74371043771043,
          122.76781818181817,
          123.79192592592592,
          124.81603367003368,
          125.84014141414141,
          126.86424915824915,
          127.8883569023569,
          128.91246464646463,
          129.9365723905724,
          130.96068013468013,
          131.98478787878787,
          133.00889562289564,
          134.03300336700335,
          135.0571111111111,
          136.08121885521885,
          137.1053265993266,
          138.12943434343435,
          139.1535420875421,
          140.17764983164983,
          141.2017575757576,
          142.2258653198653,
          143.24997306397307,
          144.2740808080808,
          145.29818855218855,
          146.32229629629632,
          147.34640404040402,
          148.3705117845118,
          149.39461952861953,
          150.41872727272727,
          151.44283501683503,
          152.46694276094274,
          153.4910505050505,
          154.51515824915825,
          155.53926599326599,
          156.56337373737375,
          157.58748148148146,
          158.61158922558923,
          159.63569696969697,
          160.6598047138047,
          161.68391245791247,
          162.7080202020202,
          163.73212794612795,
          164.7562356902357,
          165.78034343434342,
          166.8044511784512,
          167.82855892255893,
          168.85266666666666
         ],
         "xaxis": "x",
         "y": [
          75.04845726089533,
          76.07256500500307,
          77.09667274911081,
          78.12078049321855,
          79.14488823732631,
          80.16899598143405,
          81.19310372554179,
          82.21721146964953,
          83.24131921375727,
          84.26542695786503,
          85.28953470197277,
          86.31364244608051,
          87.33775019018825,
          88.36185793429601,
          89.38596567840375,
          90.41007342251149,
          91.43418116661923,
          92.45828891072696,
          93.48239665483473,
          94.50650439894247,
          95.5306121430502,
          96.55471988715794,
          97.57882763126568,
          98.60293537537345,
          99.62704311948119,
          100.65115086358892,
          101.67525860769666,
          102.69936635180443,
          103.72347409591217,
          104.7475818400199,
          105.77168958412764,
          106.79579732823538,
          107.81990507234315,
          108.84401281645088,
          109.86812056055862,
          110.89222830466636,
          111.91633604877413,
          112.94044379288187,
          113.9645515369896,
          114.98865928109734,
          116.01276702520508,
          117.03687476931285,
          118.06098251342058,
          119.08509025752832,
          120.10919800163606,
          121.1333057457438,
          122.15741348985156,
          123.1815212339593,
          124.20562897806704,
          125.22973672217478,
          126.25384446628254,
          127.27795221039028,
          128.30205995449802,
          129.32616769860576,
          130.3502754427135,
          131.37438318682126,
          132.398490930929,
          133.42259867503674,
          134.44670641914448,
          135.47081416325224,
          136.49492190735995,
          137.51902965146772,
          138.54313739557546,
          139.5672451396832,
          140.59135288379096,
          141.61546062789867,
          142.63956837200644,
          143.66367611611417,
          144.6877838602219,
          145.71189160432968,
          146.73599934843742,
          147.76010709254516,
          148.78421483665292,
          149.80832258076063,
          150.8324303248684,
          151.85653806897614,
          152.88064581308387,
          153.90475355719164,
          154.92886130129935,
          155.95296904540712,
          156.97707678951485,
          158.0011845336226,
          159.02529227773036,
          160.04940002183807,
          161.07350776594583,
          162.09761551005357,
          163.1217232541613,
          164.14583099826908,
          165.1699387423768,
          166.19404648648455,
          167.2181542305923,
          168.24226197470003,
          169.2663697188078,
          170.29047746291553,
          171.31458520702327,
          172.33869295113104,
          173.36280069523875,
          174.3869084393465,
          175.41101618345425,
          176.435123927562
         ],
         "yaxis": "y"
        },
        {
         "line": {
          "color": "#2c7fb8",
          "dash": "dash"
         },
         "mode": "lines",
         "name": "",
         "showlegend": false,
         "type": "scatter",
         "x": [
          67.466,
          68.49010774410773,
          69.51421548821548,
          70.53832323232322,
          71.56243097643097,
          72.58653872053871,
          73.61064646464646,
          74.6347542087542,
          75.65886195286194,
          76.68296969696969,
          77.70707744107743,
          78.73118518518518,
          79.75529292929292,
          80.77940067340067,
          81.80350841750841,
          82.82761616161616,
          83.8517239057239,
          84.87583164983164,
          85.89993939393939,
          86.92404713804713,
          87.94815488215488,
          88.97226262626262,
          89.99637037037036,
          91.02047811447811,
          92.04458585858586,
          93.0686936026936,
          94.09280134680134,
          95.11690909090909,
          96.14101683501683,
          97.16512457912458,
          98.18923232323232,
          99.21334006734006,
          100.23744781144781,
          101.26155555555556,
          102.2856632996633,
          103.30977104377104,
          104.33387878787879,
          105.35798653198653,
          106.38209427609428,
          107.40620202020202,
          108.43030976430975,
          109.4544175084175,
          110.47852525252526,
          111.502632996633,
          112.52674074074073,
          113.55084848484847,
          114.57495622895622,
          115.59906397306398,
          116.62317171717172,
          117.64727946127945,
          118.6713872053872,
          119.69549494949496,
          120.7196026936027,
          121.74371043771043,
          122.76781818181817,
          123.79192592592592,
          124.81603367003368,
          125.84014141414141,
          126.86424915824915,
          127.8883569023569,
          128.91246464646463,
          129.9365723905724,
          130.96068013468013,
          131.98478787878787,
          133.00889562289564,
          134.03300336700335,
          135.0571111111111,
          136.08121885521885,
          137.1053265993266,
          138.12943434343435,
          139.1535420875421,
          140.17764983164983,
          141.2017575757576,
          142.2258653198653,
          143.24997306397307,
          144.2740808080808,
          145.29818855218855,
          146.32229629629632,
          147.34640404040402,
          148.3705117845118,
          149.39461952861953,
          150.41872727272727,
          151.44283501683503,
          152.46694276094274,
          153.4910505050505,
          154.51515824915825,
          155.53926599326599,
          156.56337373737375,
          157.58748148148146,
          158.61158922558923,
          159.63569696969697,
          160.6598047138047,
          161.68391245791247,
          162.7080202020202,
          163.73212794612795,
          164.7562356902357,
          165.78034343434342,
          166.8044511784512,
          167.82855892255893,
          168.85266666666666
         ],
         "xaxis": "x",
         "y": [
          59.88354273910466,
          60.9076504832124,
          61.93175822732015,
          62.95586597142789,
          63.97997371553564,
          65.00408145964337,
          66.02818920375114,
          67.05229694785888,
          68.07640469196662,
          69.10051243607435,
          70.12462018018209,
          71.14872792428986,
          72.1728356683976,
          73.19694341250533,
          74.22105115661307,
          75.24515890072084,
          76.26926664482858,
          77.29337438893631,
          78.31748213304405,
          79.34158987715179,
          80.36569762125956,
          81.3898053653673,
          82.41391310947503,
          83.43802085358277,
          84.46212859769054,
          85.48623634179827,
          86.51034408590601,
          87.53445183001375,
          88.55855957412149,
          89.58266731822926,
          90.606775062337,
          91.63088280644473,
          92.65499055055247,
          93.67909829466024,
          94.70320603876797,
          95.72731378287571,
          96.75142152698345,
          97.77552927109119,
          98.79963701519895,
          99.82374475930669,
          100.84785250341443,
          101.87196024752217,
          102.89606799162993,
          103.92017573573767,
          104.94428347984541,
          105.96839122395315,
          106.99249896806089,
          108.01660671216865,
          109.04071445627639,
          110.06482220038413,
          111.08892994449187,
          112.11303768859963,
          113.13714543270737,
          114.16125317681511,
          115.18536092092285,
          116.20946866503058,
          117.23357640913835,
          118.25768415324609,
          119.28179189735383,
          120.30589964146156,
          121.3300073855693,
          122.35411512967707,
          123.37822287378481,
          124.40233061789255,
          125.42643836200031,
          126.45054610610802,
          127.47465385021579,
          128.49876159432353,
          129.52286933843126,
          130.54697708253903,
          131.57108482664677,
          132.5951925707545,
          133.61930031486227,
          134.64340805896998,
          135.66751580307775,
          136.6916235471855,
          137.71573129129322,
          138.739839035401,
          139.7639467795087,
          140.78805452361647,
          141.8121622677242,
          142.83627001183194,
          143.8603777559397,
          144.88448550004742,
          145.90859324415518,
          146.93270098826292,
          147.95680873237066,
          148.98091647647843,
          150.00502422058614,
          151.0291319646939,
          152.05323970880164,
          153.07734745290938,
          154.10145519701715,
          155.12556294112488,
          156.14967068523262,
          157.1737784293404,
          158.1978861734481,
          159.22199391755586,
          160.2461016616636,
          161.27020940577134
         ],
         "yaxis": "y"
        },
        {
         "hoverinfo": "text+x+y",
         "marker": {
          "color": "#2ca02c",
          "opacity": 0.7
         },
         "mode": "markers",
         "name": "",
         "showlegend": false,
         "text": [
          "Image: full body:undistorted_GX010089_11_236.jpg_gamma<br>Prawn ID: Prawn_0",
          "Image: full body:undistorted_GX010089_11_236.jpg_gamma<br>Prawn ID: Prawn_1",
          "Image: full body:undistorted_GX010089_11_236.jpg_gamma<br>Prawn ID: Prawn_2",
          "Image: full body:undistorted_GX010091_5_149.jpg_gamma<br>Prawn ID: Prawn_0",
          "Image: full body:undistorted_GX010091_5_149.jpg_gamma<br>Prawn ID: Prawn_1",
          "Image: full body:undistorted_GX010102_9_165.jpg_gamma<br>Prawn ID: Prawn_1",
          "Image: full body:undistorted_GX010102_9_165.jpg_gamma<br>Prawn ID: Prawn_2",
          "Image: full body:undistorted_GX010102_9_165.jpg_gamma<br>Prawn ID: Prawn_3",
          "Image: full body:undistorted_GX010102_9_165.jpg_gamma<br>Prawn ID: Prawn_4",
          "Image: full body:undistorted_GX010102_9_165.jpg_gamma<br>Prawn ID: Prawn_5",
          "Image: full body:undistorted_GX010102_50_1396.jpg_gamma<br>Prawn ID: Prawn_0",
          "Image: full body:undistorted_GX010105_28_816.jpg_gamma<br>Prawn ID: Prawn_0",
          "Image: full body:undistorted_GX010105_28_816.jpg_gamma<br>Prawn ID: Prawn_1"
         ],
         "type": "scatter",
         "x": [
          73.087,
          64.972,
          83.09433333333334,
          72.343,
          91.019,
          93.12166666666668,
          47.57866666666666,
          60.42666666666667,
          67.901,
          68.09533333333333,
          132.286,
          56.471,
          95.68866666666668
         ],
         "xaxis": "x2",
         "y": [
          95.25505718763094,
          82.91980427021974,
          100.5893819996722,
          62.78100106082697,
          101.4838377130358,
          102.913263992874,
          24.78481152380743,
          24.78481152380743,
          79.05166830268793,
          81.92742006418707,
          147.4298592194021,
          73.64058837677726,
          122.7036187199534
         ],
         "yaxis": "y2"
        },
        {
         "line": {
          "color": "black",
          "dash": "dash"
         },
         "mode": "lines",
         "name": "",
         "showlegend": false,
         "type": "scatter",
         "x": [
          24.78481152380743,
          26.023650389419497,
          27.262489255031564,
          28.50132812064363,
          29.7401669862557,
          30.97900585186777,
          32.217844717479835,
          33.4566835830919,
          34.69552244870397,
          35.934361314316035,
          37.1732001799281,
          38.41203904554017,
          39.650877911152236,
          40.8897167767643,
          42.12855564237637,
          43.367394507988436,
          44.6062333736005,
          45.84507223921257,
          47.08391110482464,
          48.3227499704367,
          49.56158883604877,
          50.800427701660844,
          52.03926656727291,
          53.27810543288498,
          54.516944298497044,
          55.75578316410911,
          56.994622029721185,
          58.23346089533325,
          59.47229976094532,
          60.711138626557386,
          61.94997749216945,
          63.18881635778152,
          64.42765522339359,
          65.66649408900565,
          66.90533295461772,
          68.14417182022979,
          69.38301068584185,
          70.62184955145392,
          71.86068841706599,
          73.09952728267805,
          74.33836614829012,
          75.57720501390219,
          76.81604387951425,
          78.05488274512632,
          79.29372161073839,
          80.53256047635045,
          81.77139934196252,
          83.01023820757459,
          84.24907707318665,
          85.48791593879872,
          86.72675480441079,
          87.96559367002286,
          89.20443253563494,
          90.443271401247,
          91.68211026685907,
          92.92094913247114,
          94.1597879980832,
          95.39862686369527,
          96.63746572930734,
          97.8763045949194,
          99.11514346053147,
          100.35398232614354,
          101.5928211917556,
          102.83166005736767,
          104.07049892297974,
          105.3093377885918,
          106.54817665420387,
          107.78701551981594,
          109.025854385428,
          110.26469325104007,
          111.50353211665214,
          112.7423709822642,
          113.98120984787627,
          115.22004871348834,
          116.4588875791004,
          117.69772644471247,
          118.93656531032454,
          120.1754041759366,
          121.41424304154867,
          122.65308190716074,
          123.8919207727728,
          125.13075963838489,
          126.36959850399695,
          127.60843736960902,
          128.84727623522107,
          130.08611510083315,
          131.3249539664452,
          132.5637928320573,
          133.80263169766934,
          135.04147056328142,
          136.28030942889347,
          137.51914829450556,
          138.7579871601176,
          139.9968260257297,
          141.23566489134174,
          142.47450375695382,
          143.71334262256588,
          144.95218148817796,
          146.19102035379,
          147.4298592194021
         ],
         "xaxis": "x2",
         "y": [
          24.78481152380743,
          26.023650389419497,
          27.262489255031564,
          28.50132812064363,
          29.7401669862557,
          30.97900585186777,
          32.217844717479835,
          33.4566835830919,
          34.69552244870397,
          35.934361314316035,
          37.1732001799281,
          38.41203904554017,
          39.650877911152236,
          40.8897167767643,
          42.12855564237637,
          43.367394507988436,
          44.6062333736005,
          45.84507223921257,
          47.08391110482464,
          48.3227499704367,
          49.56158883604877,
          50.800427701660844,
          52.03926656727291,
          53.27810543288498,
          54.516944298497044,
          55.75578316410911,
          56.994622029721185,
          58.23346089533325,
          59.47229976094532,
          60.711138626557386,
          61.94997749216945,
          63.18881635778152,
          64.42765522339359,
          65.66649408900565,
          66.90533295461772,
          68.14417182022979,
          69.38301068584185,
          70.62184955145392,
          71.86068841706599,
          73.09952728267805,
          74.33836614829012,
          75.57720501390219,
          76.81604387951425,
          78.05488274512632,
          79.29372161073839,
          80.53256047635045,
          81.77139934196252,
          83.01023820757459,
          84.24907707318665,
          85.48791593879872,
          86.72675480441079,
          87.96559367002286,
          89.20443253563494,
          90.443271401247,
          91.68211026685907,
          92.92094913247114,
          94.1597879980832,
          95.39862686369527,
          96.63746572930734,
          97.8763045949194,
          99.11514346053147,
          100.35398232614354,
          101.5928211917556,
          102.83166005736767,
          104.07049892297974,
          105.3093377885918,
          106.54817665420387,
          107.78701551981594,
          109.025854385428,
          110.26469325104007,
          111.50353211665214,
          112.7423709822642,
          113.98120984787627,
          115.22004871348834,
          116.4588875791004,
          117.69772644471247,
          118.93656531032454,
          120.1754041759366,
          121.41424304154867,
          122.65308190716074,
          123.8919207727728,
          125.13075963838489,
          126.36959850399695,
          127.60843736960902,
          128.84727623522107,
          130.08611510083315,
          131.3249539664452,
          132.5637928320573,
          133.80263169766934,
          135.04147056328142,
          136.28030942889347,
          137.51914829450556,
          138.7579871601176,
          139.9968260257297,
          141.23566489134174,
          142.47450375695382,
          143.71334262256588,
          144.95218148817796,
          146.19102035379,
          147.4298592194021
         ],
         "yaxis": "y2"
        },
        {
         "line": {
          "color": "#2c7fb8",
          "dash": "dash"
         },
         "mode": "lines",
         "name": "",
         "showlegend": false,
         "type": "scatter",
         "x": [
          24.78481152380743,
          26.023650389419497,
          27.262489255031564,
          28.50132812064363,
          29.7401669862557,
          30.97900585186777,
          32.217844717479835,
          33.4566835830919,
          34.69552244870397,
          35.934361314316035,
          37.1732001799281,
          38.41203904554017,
          39.650877911152236,
          40.8897167767643,
          42.12855564237637,
          43.367394507988436,
          44.6062333736005,
          45.84507223921257,
          47.08391110482464,
          48.3227499704367,
          49.56158883604877,
          50.800427701660844,
          52.03926656727291,
          53.27810543288498,
          54.516944298497044,
          55.75578316410911,
          56.994622029721185,
          58.23346089533325,
          59.47229976094532,
          60.711138626557386,
          61.94997749216945,
          63.18881635778152,
          64.42765522339359,
          65.66649408900565,
          66.90533295461772,
          68.14417182022979,
          69.38301068584185,
          70.62184955145392,
          71.86068841706599,
          73.09952728267805,
          74.33836614829012,
          75.57720501390219,
          76.81604387951425,
          78.05488274512632,
          79.29372161073839,
          80.53256047635045,
          81.77139934196252,
          83.01023820757459,
          84.24907707318665,
          85.48791593879872,
          86.72675480441079,
          87.96559367002286,
          89.20443253563494,
          90.443271401247,
          91.68211026685907,
          92.92094913247114,
          94.1597879980832,
          95.39862686369527,
          96.63746572930734,
          97.8763045949194,
          99.11514346053147,
          100.35398232614354,
          101.5928211917556,
          102.83166005736767,
          104.07049892297974,
          105.3093377885918,
          106.54817665420387,
          107.78701551981594,
          109.025854385428,
          110.26469325104007,
          111.50353211665214,
          112.7423709822642,
          113.98120984787627,
          115.22004871348834,
          116.4588875791004,
          117.69772644471247,
          118.93656531032454,
          120.1754041759366,
          121.41424304154867,
          122.65308190716074,
          123.8919207727728,
          125.13075963838489,
          126.36959850399695,
          127.60843736960902,
          128.84727623522107,
          130.08611510083315,
          131.3249539664452,
          132.5637928320573,
          133.80263169766934,
          135.04147056328142,
          136.28030942889347,
          137.51914829450556,
          138.7579871601176,
          139.9968260257297,
          141.23566489134174,
          142.47450375695382,
          143.71334262256588,
          144.95218148817796,
          146.19102035379,
          147.4298592194021
         ],
         "xaxis": "x2",
         "y": [
          30.40940681082367,
          31.648245676435735,
          32.8870845420478,
          34.12592340765987,
          35.364762273271936,
          36.603601138884,
          37.84244000449607,
          39.081278870108136,
          40.3201177357202,
          41.55895660133227,
          42.797795466944336,
          44.0366343325564,
          45.27547319816847,
          46.51431206378054,
          47.7531509293926,
          48.99198979500467,
          50.23082866061674,
          51.469667526228804,
          52.70850639184087,
          53.94734525745294,
          55.186184123065004,
          56.425022988677085,
          57.66386185428915,
          58.90270071990122,
          60.141539585513286,
          61.38037845112535,
          62.61921731673742,
          63.858056182349486,
          65.09689504796155,
          66.33573391357362,
          67.57457277918569,
          68.81341164479775,
          70.05225051040982,
          71.29108937602189,
          72.52992824163395,
          73.76876710724602,
          75.00760597285809,
          76.24644483847015,
          77.48528370408222,
          78.72412256969429,
          79.96296143530635,
          81.20180030091842,
          82.44063916653049,
          83.67947803214255,
          84.91831689775462,
          86.15715576336669,
          87.39599462897876,
          88.63483349459082,
          89.87367236020289,
          91.11251122581496,
          92.35135009142702,
          93.59018895703909,
          94.82902782265117,
          96.06786668826324,
          97.3067055538753,
          98.54554441948737,
          99.78438328509944,
          101.0232221507115,
          102.26206101632357,
          103.50089988193564,
          104.7397387475477,
          105.97857761315977,
          107.21741647877184,
          108.4562553443839,
          109.69509420999597,
          110.93393307560804,
          112.1727719412201,
          113.41161080683217,
          114.65044967244424,
          115.8892885380563,
          117.12812740366837,
          118.36696626928044,
          119.6058051348925,
          120.84464400050457,
          122.08348286611664,
          123.3223217317287,
          124.56116059734077,
          125.79999946295284,
          127.0388383285649,
          128.277677194177,
          129.51651605978904,
          130.75535492540112,
          131.9941937910132,
          133.23303265662526,
          134.4718715222373,
          135.7107103878494,
          136.94954925346144,
          138.18838811907352,
          139.42722698468557,
          140.66606585029766,
          141.9049047159097,
          143.1437435815218,
          144.38258244713384,
          145.62142131274592,
          146.86026017835798,
          148.09909904397006,
          149.3379379095821,
          150.5767767751942,
          151.81561564080624,
          153.05445450641832
         ],
         "yaxis": "y2"
        },
        {
         "line": {
          "color": "#2c7fb8",
          "dash": "dash"
         },
         "mode": "lines",
         "name": "",
         "showlegend": false,
         "type": "scatter",
         "x": [
          24.78481152380743,
          26.023650389419497,
          27.262489255031564,
          28.50132812064363,
          29.7401669862557,
          30.97900585186777,
          32.217844717479835,
          33.4566835830919,
          34.69552244870397,
          35.934361314316035,
          37.1732001799281,
          38.41203904554017,
          39.650877911152236,
          40.8897167767643,
          42.12855564237637,
          43.367394507988436,
          44.6062333736005,
          45.84507223921257,
          47.08391110482464,
          48.3227499704367,
          49.56158883604877,
          50.800427701660844,
          52.03926656727291,
          53.27810543288498,
          54.516944298497044,
          55.75578316410911,
          56.994622029721185,
          58.23346089533325,
          59.47229976094532,
          60.711138626557386,
          61.94997749216945,
          63.18881635778152,
          64.42765522339359,
          65.66649408900565,
          66.90533295461772,
          68.14417182022979,
          69.38301068584185,
          70.62184955145392,
          71.86068841706599,
          73.09952728267805,
          74.33836614829012,
          75.57720501390219,
          76.81604387951425,
          78.05488274512632,
          79.29372161073839,
          80.53256047635045,
          81.77139934196252,
          83.01023820757459,
          84.24907707318665,
          85.48791593879872,
          86.72675480441079,
          87.96559367002286,
          89.20443253563494,
          90.443271401247,
          91.68211026685907,
          92.92094913247114,
          94.1597879980832,
          95.39862686369527,
          96.63746572930734,
          97.8763045949194,
          99.11514346053147,
          100.35398232614354,
          101.5928211917556,
          102.83166005736767,
          104.07049892297974,
          105.3093377885918,
          106.54817665420387,
          107.78701551981594,
          109.025854385428,
          110.26469325104007,
          111.50353211665214,
          112.7423709822642,
          113.98120984787627,
          115.22004871348834,
          116.4588875791004,
          117.69772644471247,
          118.93656531032454,
          120.1754041759366,
          121.41424304154867,
          122.65308190716074,
          123.8919207727728,
          125.13075963838489,
          126.36959850399695,
          127.60843736960902,
          128.84727623522107,
          130.08611510083315,
          131.3249539664452,
          132.5637928320573,
          133.80263169766934,
          135.04147056328142,
          136.28030942889347,
          137.51914829450556,
          138.7579871601176,
          139.9968260257297,
          141.23566489134174,
          142.47450375695382,
          143.71334262256588,
          144.95218148817796,
          146.19102035379,
          147.4298592194021
         ],
         "xaxis": "x2",
         "y": [
          19.160216236791193,
          20.39905510240326,
          21.637893968015327,
          22.876732833627393,
          24.115571699239464,
          25.35441056485153,
          26.593249430463597,
          27.832088296075664,
          29.07092716168773,
          30.309766027299798,
          31.548604892911865,
          32.787443758523935,
          34.026282624136,
          35.26512148974807,
          36.503960355360135,
          37.7427992209722,
          38.98163808658427,
          40.220476952196336,
          41.4593158178084,
          42.69815468342047,
          43.936993549032536,
          45.1758324146446,
          46.41467128025667,
          47.65351014586874,
          48.8923490114808,
          50.13118787709287,
          51.37002674270495,
          52.60886560831702,
          53.847704473929085,
          55.08654333954115,
          56.32538220515322,
          57.564221070765285,
          58.80305993637735,
          60.04189880198942,
          61.280737667601485,
          62.51957653321355,
          63.75841539882562,
          64.99725426443769,
          66.23609313004975,
          67.47493199566182,
          68.71377086127389,
          69.95260972688595,
          71.19144859249802,
          72.43028745811009,
          73.66912632372215,
          74.90796518933422,
          76.14680405494629,
          77.38564292055835,
          78.62448178617042,
          79.86332065178249,
          81.10215951739455,
          82.34099838300662,
          83.5798372486187,
          84.81867611423077,
          86.05751497984284,
          87.2963538454549,
          88.53519271106697,
          89.77403157667904,
          91.0128704422911,
          92.25170930790317,
          93.49054817351524,
          94.7293870391273,
          95.96822590473937,
          97.20706477035144,
          98.4459036359635,
          99.68474250157557,
          100.92358136718764,
          102.1624202327997,
          103.40125909841177,
          104.64009796402384,
          105.8789368296359,
          107.11777569524797,
          108.35661456086004,
          109.5954534264721,
          110.83429229208417,
          112.07313115769624,
          113.3119700233083,
          114.55080888892037,
          115.78964775453244,
          117.0284866201445,
          118.26732548575657,
          119.50616435136865,
          120.74500321698072,
          121.98384208259279,
          123.22268094820484,
          124.46151981381692,
          125.70035867942897,
          126.93919754504105,
          128.1780364106531,
          129.4168752762652,
          130.65571414187724,
          131.89455300748932,
          133.13339187310137,
          134.37223073871345,
          135.6110696043255,
          136.8499084699376,
          138.08874733554964,
          139.32758620116172,
          140.56642506677377,
          141.80526393238586
         ],
         "yaxis": "y2"
        },
        {
         "hoverinfo": "text+x+y",
         "marker": {
          "color": "#d62728",
          "opacity": 0.7
         },
         "mode": "markers",
         "name": "",
         "showlegend": false,
         "text": [
          "Image: full body:undistorted_GX010152_36_378.jpg_gamma<br>Prawn ID: Prawn_0",
          "Image: full body:undistorted_GX010152_36_378.jpg_gamma<br>Prawn ID: Prawn_1",
          "Image: full body:undistorted_GX010157_160_2259<br>Prawn ID: Prawn_0",
          "Image: full body:undistorted_GX010157_174_2582.jpg_gamma<br>Prawn ID: Prawn_0",
          "Image: full body:undistorted_GX010157_177_2665.jpg_gamma<br>Prawn ID: Prawn_0",
          "Image: full body:undistorted_GX010161_54_676.jpg_gamma.jpg_gamma<br>Prawn ID: Prawn_0",
          "Image: full body:undistorted_GX010162_72_927.jpg_gamma.jpg_gamma<br>Prawn ID: Prawn_0",
          "Image: full body:undistorted_GX010174_62_790.jpg_gamma<br>Prawn ID: Prawn_0",
          "Image: full body:undistorted_GX010175_266_3372.jpg_gamma.jpg_gamma<br>Prawn ID: Prawn_0",
          "Image: full body:undistorted_GX010177_232_3047<br>Prawn ID: Prawn_0",
          "Image: full body:undistorted_GX010178_172_3604.jpg_gamma<br>Prawn ID: Prawn_0",
          "Image: full body:undistorted_GX010183_37_685.jpg_gamma<br>Prawn ID: Prawn_0",
          "Image: full body:undistorted_GX010183_80_1633.jpg_gamma<br>Prawn ID: Prawn_0",
          "Image: full body:undistorted_GX010183_128_2852.jpg_gamma<br>Prawn ID: Prawn_0"
         ],
         "type": "scatter",
         "x": [
          113.768,
          127.10966666666668,
          108.57766666666669,
          104.019,
          113.90933333333334,
          91.34933333333332,
          111.56166666666668,
          111.73666666666668,
          121.90233333333332,
          146.26033333333336,
          152.67,
          100.05366666666669,
          136.7506666666667,
          134.55833333333334
         ],
         "xaxis": "x3",
         "y": [
          106.5929170257388,
          109.6691900242959,
          96.66063332561448,
          91.45104326277271,
          103.052965043015,
          119.4881366421652,
          92.39915664388,
          124.6841861047966,
          117.9186678090554,
          119.4982657927304,
          132.0980283526407,
          91.6471011655283,
          141.3177335673552,
          127.250165811216
         ],
         "yaxis": "y3"
        },
        {
         "line": {
          "color": "black",
          "dash": "dash"
         },
         "mode": "lines",
         "name": "",
         "showlegend": false,
         "type": "scatter",
         "x": [
          91.34933333333332,
          91.968734006734,
          92.58813468013467,
          93.20753535353533,
          93.82693602693601,
          94.44633670033669,
          95.06573737373736,
          95.68513804713804,
          96.3045387205387,
          96.92393939393938,
          97.54334006734005,
          98.16274074074073,
          98.7821414141414,
          99.40154208754207,
          100.02094276094275,
          100.64034343434342,
          101.2597441077441,
          101.87914478114476,
          102.49854545454544,
          103.11794612794611,
          103.73734680134679,
          104.35674747474746,
          104.97614814814813,
          105.5955488215488,
          106.21494949494948,
          106.83435016835016,
          107.45375084175083,
          108.0731515151515,
          108.69255218855217,
          109.31195286195285,
          109.93135353535352,
          110.5507542087542,
          111.17015488215486,
          111.78955555555554,
          112.40895622895621,
          113.02835690235689,
          113.64775757575757,
          114.26715824915823,
          114.8865589225589,
          115.50595959595958,
          116.12536026936026,
          116.74476094276093,
          117.3641616161616,
          117.98356228956227,
          118.60296296296295,
          119.22236363636362,
          119.8417643097643,
          120.46116498316496,
          121.08056565656564,
          121.69996632996632,
          122.31936700336699,
          122.93876767676767,
          123.55816835016833,
          124.177569023569,
          124.79696969696968,
          125.41637037037036,
          126.03577104377104,
          126.6551717171717,
          127.27457239057237,
          127.89397306397305,
          128.51337373737374,
          129.1327744107744,
          129.75217508417506,
          130.37157575757573,
          130.99097643097642,
          131.6103771043771,
          132.22977777777777,
          132.84917845117843,
          133.4685791245791,
          134.08797979797978,
          134.70738047138047,
          135.32678114478114,
          135.9461818181818,
          136.56558249158246,
          137.18498316498315,
          137.80438383838384,
          138.4237845117845,
          139.04318518518517,
          139.66258585858583,
          140.28198653198652,
          140.9013872053872,
          141.52078787878787,
          142.14018855218853,
          142.7595892255892,
          143.3789898989899,
          143.99839057239055,
          144.61779124579124,
          145.2371919191919,
          145.85659259259256,
          146.47599326599325,
          147.09539393939392,
          147.7147946127946,
          148.33419528619527,
          148.95359595959593,
          149.57299663299662,
          150.19239730639728,
          150.81179797979797,
          151.43119865319863,
          152.0505993265993,
          152.67
         ],
         "xaxis": "x3",
         "y": [
          91.34933333333332,
          91.968734006734,
          92.58813468013467,
          93.20753535353533,
          93.82693602693601,
          94.44633670033669,
          95.06573737373736,
          95.68513804713804,
          96.3045387205387,
          96.92393939393938,
          97.54334006734005,
          98.16274074074073,
          98.7821414141414,
          99.40154208754207,
          100.02094276094275,
          100.64034343434342,
          101.2597441077441,
          101.87914478114476,
          102.49854545454544,
          103.11794612794611,
          103.73734680134679,
          104.35674747474746,
          104.97614814814813,
          105.5955488215488,
          106.21494949494948,
          106.83435016835016,
          107.45375084175083,
          108.0731515151515,
          108.69255218855217,
          109.31195286195285,
          109.93135353535352,
          110.5507542087542,
          111.17015488215486,
          111.78955555555554,
          112.40895622895621,
          113.02835690235689,
          113.64775757575757,
          114.26715824915823,
          114.8865589225589,
          115.50595959595958,
          116.12536026936026,
          116.74476094276093,
          117.3641616161616,
          117.98356228956227,
          118.60296296296295,
          119.22236363636362,
          119.8417643097643,
          120.46116498316496,
          121.08056565656564,
          121.69996632996632,
          122.31936700336699,
          122.93876767676767,
          123.55816835016833,
          124.177569023569,
          124.79696969696968,
          125.41637037037036,
          126.03577104377104,
          126.6551717171717,
          127.27457239057237,
          127.89397306397305,
          128.51337373737374,
          129.1327744107744,
          129.75217508417506,
          130.37157575757573,
          130.99097643097642,
          131.6103771043771,
          132.22977777777777,
          132.84917845117843,
          133.4685791245791,
          134.08797979797978,
          134.70738047138047,
          135.32678114478114,
          135.9461818181818,
          136.56558249158246,
          137.18498316498315,
          137.80438383838384,
          138.4237845117845,
          139.04318518518517,
          139.66258585858583,
          140.28198653198652,
          140.9013872053872,
          141.52078787878787,
          142.14018855218853,
          142.7595892255892,
          143.3789898989899,
          143.99839057239055,
          144.61779124579124,
          145.2371919191919,
          145.85659259259256,
          146.47599326599325,
          147.09539393939392,
          147.7147946127946,
          148.33419528619527,
          148.95359595959593,
          149.57299663299662,
          150.19239730639728,
          150.81179797979797,
          151.43119865319863,
          152.0505993265993,
          152.67
         ],
         "yaxis": "y3"
        },
        {
         "line": {
          "color": "#2c7fb8",
          "dash": "dash"
         },
         "mode": "lines",
         "name": "",
         "showlegend": false,
         "type": "scatter",
         "x": [
          91.34933333333332,
          91.968734006734,
          92.58813468013467,
          93.20753535353533,
          93.82693602693601,
          94.44633670033669,
          95.06573737373736,
          95.68513804713804,
          96.3045387205387,
          96.92393939393938,
          97.54334006734005,
          98.16274074074073,
          98.7821414141414,
          99.40154208754207,
          100.02094276094275,
          100.64034343434342,
          101.2597441077441,
          101.87914478114476,
          102.49854545454544,
          103.11794612794611,
          103.73734680134679,
          104.35674747474746,
          104.97614814814813,
          105.5955488215488,
          106.21494949494948,
          106.83435016835016,
          107.45375084175083,
          108.0731515151515,
          108.69255218855217,
          109.31195286195285,
          109.93135353535352,
          110.5507542087542,
          111.17015488215486,
          111.78955555555554,
          112.40895622895621,
          113.02835690235689,
          113.64775757575757,
          114.26715824915823,
          114.8865589225589,
          115.50595959595958,
          116.12536026936026,
          116.74476094276093,
          117.3641616161616,
          117.98356228956227,
          118.60296296296295,
          119.22236363636362,
          119.8417643097643,
          120.46116498316496,
          121.08056565656564,
          121.69996632996632,
          122.31936700336699,
          122.93876767676767,
          123.55816835016833,
          124.177569023569,
          124.79696969696968,
          125.41637037037036,
          126.03577104377104,
          126.6551717171717,
          127.27457239057237,
          127.89397306397305,
          128.51337373737374,
          129.1327744107744,
          129.75217508417506,
          130.37157575757573,
          130.99097643097642,
          131.6103771043771,
          132.22977777777777,
          132.84917845117843,
          133.4685791245791,
          134.08797979797978,
          134.70738047138047,
          135.32678114478114,
          135.9461818181818,
          136.56558249158246,
          137.18498316498315,
          137.80438383838384,
          138.4237845117845,
          139.04318518518517,
          139.66258585858583,
          140.28198653198652,
          140.9013872053872,
          141.52078787878787,
          142.14018855218853,
          142.7595892255892,
          143.3789898989899,
          143.99839057239055,
          144.61779124579124,
          145.2371919191919,
          145.85659259259256,
          146.47599326599325,
          147.09539393939392,
          147.7147946127946,
          148.33419528619527,
          148.95359595959593,
          149.57299663299662,
          150.19239730639728,
          150.81179797979797,
          151.43119865319863,
          152.0505993265993,
          152.67
         ],
         "xaxis": "x3",
         "y": [
          99.07881886521324,
          99.69821953861391,
          100.31762021201459,
          100.93702088541525,
          101.55642155881593,
          102.1758222322166,
          102.79522290561728,
          103.41462357901796,
          104.03402425241862,
          104.6534249258193,
          105.27282559921997,
          105.89222627262065,
          106.51162694602132,
          107.13102761942199,
          107.75042829282266,
          108.36982896622334,
          108.98922963962401,
          109.60863031302468,
          110.22803098642535,
          110.84743165982603,
          111.4668323332267,
          112.08623300662738,
          112.70563368002804,
          113.32503435342872,
          113.9444350268294,
          114.56383570023007,
          115.18323637363075,
          115.80263704703141,
          116.42203772043209,
          117.04143839383276,
          117.66083906723344,
          118.28023974063412,
          118.89964041403478,
          119.51904108743545,
          120.13844176083613,
          120.7578424342368,
          121.37724310763748,
          121.99664378103814,
          122.61604445443882,
          123.2354451278395,
          123.85484580124017,
          124.47424647464085,
          125.09364714804151,
          125.71304782144219,
          126.33244849484286,
          126.95184916824354,
          127.57124984164422,
          128.19065051504487,
          128.81005118844556,
          129.42945186184622,
          130.0488525352469,
          130.66825320864757,
          131.28765388204823,
          131.90705455544892,
          132.52645522884958,
          133.14585590225028,
          133.76525657565094,
          134.3846572490516,
          135.0040579224523,
          135.62345859585295,
          136.24285926925364,
          136.8622599426543,
          137.48166061605497,
          138.10106128945563,
          138.72046196285632,
          139.339862636257,
          139.95926330965767,
          140.57866398305833,
          141.198064656459,
          141.8174653298597,
          142.43686600326038,
          143.05626667666104,
          143.6756673500617,
          144.29506802346236,
          144.91446869686305,
          145.53386937026374,
          146.1532700436644,
          146.77267071706507,
          147.39207139046573,
          148.01147206386642,
          148.6308727372671,
          149.25027341066777,
          149.86967408406844,
          150.4890747574691,
          151.1084754308698,
          151.72787610427045,
          152.34727677767114,
          152.9666774510718,
          153.58607812447246,
          154.20547879787316,
          154.82487947127382,
          155.4442801446745,
          156.06368081807517,
          156.68308149147583,
          157.30248216487652,
          157.92188283827718,
          158.54128351167788,
          159.16068418507854,
          159.7800848584792,
          160.3994855318799
         ],
         "yaxis": "y3"
        },
        {
         "line": {
          "color": "#2c7fb8",
          "dash": "dash"
         },
         "mode": "lines",
         "name": "",
         "showlegend": false,
         "type": "scatter",
         "x": [
          91.34933333333332,
          91.968734006734,
          92.58813468013467,
          93.20753535353533,
          93.82693602693601,
          94.44633670033669,
          95.06573737373736,
          95.68513804713804,
          96.3045387205387,
          96.92393939393938,
          97.54334006734005,
          98.16274074074073,
          98.7821414141414,
          99.40154208754207,
          100.02094276094275,
          100.64034343434342,
          101.2597441077441,
          101.87914478114476,
          102.49854545454544,
          103.11794612794611,
          103.73734680134679,
          104.35674747474746,
          104.97614814814813,
          105.5955488215488,
          106.21494949494948,
          106.83435016835016,
          107.45375084175083,
          108.0731515151515,
          108.69255218855217,
          109.31195286195285,
          109.93135353535352,
          110.5507542087542,
          111.17015488215486,
          111.78955555555554,
          112.40895622895621,
          113.02835690235689,
          113.64775757575757,
          114.26715824915823,
          114.8865589225589,
          115.50595959595958,
          116.12536026936026,
          116.74476094276093,
          117.3641616161616,
          117.98356228956227,
          118.60296296296295,
          119.22236363636362,
          119.8417643097643,
          120.46116498316496,
          121.08056565656564,
          121.69996632996632,
          122.31936700336699,
          122.93876767676767,
          123.55816835016833,
          124.177569023569,
          124.79696969696968,
          125.41637037037036,
          126.03577104377104,
          126.6551717171717,
          127.27457239057237,
          127.89397306397305,
          128.51337373737374,
          129.1327744107744,
          129.75217508417506,
          130.37157575757573,
          130.99097643097642,
          131.6103771043771,
          132.22977777777777,
          132.84917845117843,
          133.4685791245791,
          134.08797979797978,
          134.70738047138047,
          135.32678114478114,
          135.9461818181818,
          136.56558249158246,
          137.18498316498315,
          137.80438383838384,
          138.4237845117845,
          139.04318518518517,
          139.66258585858583,
          140.28198653198652,
          140.9013872053872,
          141.52078787878787,
          142.14018855218853,
          142.7595892255892,
          143.3789898989899,
          143.99839057239055,
          144.61779124579124,
          145.2371919191919,
          145.85659259259256,
          146.47599326599325,
          147.09539393939392,
          147.7147946127946,
          148.33419528619527,
          148.95359595959593,
          149.57299663299662,
          150.19239730639728,
          150.81179797979797,
          151.43119865319863,
          152.0505993265993,
          152.67
         ],
         "xaxis": "x3",
         "y": [
          83.6198478014534,
          84.23924847485408,
          84.85864914825476,
          85.47804982165542,
          86.0974504950561,
          86.71685116845677,
          87.33625184185745,
          87.95565251525812,
          88.57505318865879,
          89.19445386205946,
          89.81385453546014,
          90.43325520886081,
          91.05265588226149,
          91.67205655566215,
          92.29145722906283,
          92.9108579024635,
          93.53025857586418,
          94.14965924926484,
          94.76905992266552,
          95.3884605960662,
          96.00786126946687,
          96.62726194286755,
          97.24666261626821,
          97.86606328966889,
          98.48546396306956,
          99.10486463647024,
          99.72426530987092,
          100.34366598327158,
          100.96306665667225,
          101.58246733007293,
          102.2018680034736,
          102.82126867687428,
          103.44066935027494,
          104.06007002367562,
          104.6794706970763,
          105.29887137047697,
          105.91827204387765,
          106.53767271727831,
          107.15707339067899,
          107.77647406407966,
          108.39587473748034,
          109.01527541088102,
          109.63467608428168,
          110.25407675768236,
          110.87347743108303,
          111.49287810448371,
          112.11227877788438,
          112.73167945128505,
          113.35108012468572,
          113.9704807980864,
          114.58988147148708,
          115.20928214488775,
          115.82868281828841,
          116.44808349168909,
          117.06748416508977,
          117.68688483849044,
          118.30628551189112,
          118.92568618529178,
          119.54508685869246,
          120.16448753209313,
          120.78388820549382,
          121.40328887889449,
          122.02268955229515,
          122.64209022569581,
          123.2614908990965,
          123.88089157249719,
          124.50029224589785,
          125.11969291929852,
          125.73909359269918,
          126.35849426609987,
          126.97789493950056,
          127.59729561290122,
          128.2166962863019,
          128.83609695970256,
          129.45549763310325,
          130.07489830650394,
          130.6942989799046,
          131.31369965330526,
          131.93310032670593,
          132.55250100010662,
          133.1719016735073,
          133.79130234690797,
          134.41070302030863,
          135.0301036937093,
          135.64950436710998,
          136.26890504051065,
          136.88830571391134,
          137.507706387312,
          138.12710706071266,
          138.74650773411335,
          139.365908407514,
          139.9853090809147,
          140.60470975431537,
          141.22411042771603,
          141.84351110111672,
          142.46291177451738,
          143.08231244791807,
          143.70171312131873,
          144.3211137947194,
          144.94051446812009
         ],
         "yaxis": "y3"
        }
       ],
       "layout": {
        "annotations": [
         {
          "font": {
           "size": 16
          },
          "showarrow": false,
          "text": " circle_female",
          "x": 0.14444444444444446,
          "xanchor": "center",
          "xref": "paper",
          "y": 1,
          "yanchor": "bottom",
          "yref": "paper"
         },
         {
          "font": {
           "size": 16
          },
          "showarrow": false,
          "text": " circle_male",
          "x": 0.5,
          "xanchor": "center",
          "xref": "paper",
          "y": 1,
          "yanchor": "bottom",
          "yref": "paper"
         },
         {
          "font": {
           "size": 16
          },
          "showarrow": false,
          "text": " square",
          "x": 0.8555555555555556,
          "xanchor": "center",
          "xref": "paper",
          "y": 1,
          "yanchor": "bottom",
          "yref": "paper"
         }
        ],
        "height": 600,
        "showlegend": true,
        "template": {
         "data": {
          "bar": [
           {
            "error_x": {
             "color": "#2a3f5f"
            },
            "error_y": {
             "color": "#2a3f5f"
            },
            "marker": {
             "line": {
              "color": "#E5ECF6",
              "width": 0.5
             },
             "pattern": {
              "fillmode": "overlay",
              "size": 10,
              "solidity": 0.2
             }
            },
            "type": "bar"
           }
          ],
          "barpolar": [
           {
            "marker": {
             "line": {
              "color": "#E5ECF6",
              "width": 0.5
             },
             "pattern": {
              "fillmode": "overlay",
              "size": 10,
              "solidity": 0.2
             }
            },
            "type": "barpolar"
           }
          ],
          "carpet": [
           {
            "aaxis": {
             "endlinecolor": "#2a3f5f",
             "gridcolor": "white",
             "linecolor": "white",
             "minorgridcolor": "white",
             "startlinecolor": "#2a3f5f"
            },
            "baxis": {
             "endlinecolor": "#2a3f5f",
             "gridcolor": "white",
             "linecolor": "white",
             "minorgridcolor": "white",
             "startlinecolor": "#2a3f5f"
            },
            "type": "carpet"
           }
          ],
          "choropleth": [
           {
            "colorbar": {
             "outlinewidth": 0,
             "ticks": ""
            },
            "type": "choropleth"
           }
          ],
          "contour": [
           {
            "colorbar": {
             "outlinewidth": 0,
             "ticks": ""
            },
            "colorscale": [
             [
              0,
              "#0d0887"
             ],
             [
              0.1111111111111111,
              "#46039f"
             ],
             [
              0.2222222222222222,
              "#7201a8"
             ],
             [
              0.3333333333333333,
              "#9c179e"
             ],
             [
              0.4444444444444444,
              "#bd3786"
             ],
             [
              0.5555555555555556,
              "#d8576b"
             ],
             [
              0.6666666666666666,
              "#ed7953"
             ],
             [
              0.7777777777777778,
              "#fb9f3a"
             ],
             [
              0.8888888888888888,
              "#fdca26"
             ],
             [
              1,
              "#f0f921"
             ]
            ],
            "type": "contour"
           }
          ],
          "contourcarpet": [
           {
            "colorbar": {
             "outlinewidth": 0,
             "ticks": ""
            },
            "type": "contourcarpet"
           }
          ],
          "heatmap": [
           {
            "colorbar": {
             "outlinewidth": 0,
             "ticks": ""
            },
            "colorscale": [
             [
              0,
              "#0d0887"
             ],
             [
              0.1111111111111111,
              "#46039f"
             ],
             [
              0.2222222222222222,
              "#7201a8"
             ],
             [
              0.3333333333333333,
              "#9c179e"
             ],
             [
              0.4444444444444444,
              "#bd3786"
             ],
             [
              0.5555555555555556,
              "#d8576b"
             ],
             [
              0.6666666666666666,
              "#ed7953"
             ],
             [
              0.7777777777777778,
              "#fb9f3a"
             ],
             [
              0.8888888888888888,
              "#fdca26"
             ],
             [
              1,
              "#f0f921"
             ]
            ],
            "type": "heatmap"
           }
          ],
          "heatmapgl": [
           {
            "colorbar": {
             "outlinewidth": 0,
             "ticks": ""
            },
            "colorscale": [
             [
              0,
              "#0d0887"
             ],
             [
              0.1111111111111111,
              "#46039f"
             ],
             [
              0.2222222222222222,
              "#7201a8"
             ],
             [
              0.3333333333333333,
              "#9c179e"
             ],
             [
              0.4444444444444444,
              "#bd3786"
             ],
             [
              0.5555555555555556,
              "#d8576b"
             ],
             [
              0.6666666666666666,
              "#ed7953"
             ],
             [
              0.7777777777777778,
              "#fb9f3a"
             ],
             [
              0.8888888888888888,
              "#fdca26"
             ],
             [
              1,
              "#f0f921"
             ]
            ],
            "type": "heatmapgl"
           }
          ],
          "histogram": [
           {
            "marker": {
             "pattern": {
              "fillmode": "overlay",
              "size": 10,
              "solidity": 0.2
             }
            },
            "type": "histogram"
           }
          ],
          "histogram2d": [
           {
            "colorbar": {
             "outlinewidth": 0,
             "ticks": ""
            },
            "colorscale": [
             [
              0,
              "#0d0887"
             ],
             [
              0.1111111111111111,
              "#46039f"
             ],
             [
              0.2222222222222222,
              "#7201a8"
             ],
             [
              0.3333333333333333,
              "#9c179e"
             ],
             [
              0.4444444444444444,
              "#bd3786"
             ],
             [
              0.5555555555555556,
              "#d8576b"
             ],
             [
              0.6666666666666666,
              "#ed7953"
             ],
             [
              0.7777777777777778,
              "#fb9f3a"
             ],
             [
              0.8888888888888888,
              "#fdca26"
             ],
             [
              1,
              "#f0f921"
             ]
            ],
            "type": "histogram2d"
           }
          ],
          "histogram2dcontour": [
           {
            "colorbar": {
             "outlinewidth": 0,
             "ticks": ""
            },
            "colorscale": [
             [
              0,
              "#0d0887"
             ],
             [
              0.1111111111111111,
              "#46039f"
             ],
             [
              0.2222222222222222,
              "#7201a8"
             ],
             [
              0.3333333333333333,
              "#9c179e"
             ],
             [
              0.4444444444444444,
              "#bd3786"
             ],
             [
              0.5555555555555556,
              "#d8576b"
             ],
             [
              0.6666666666666666,
              "#ed7953"
             ],
             [
              0.7777777777777778,
              "#fb9f3a"
             ],
             [
              0.8888888888888888,
              "#fdca26"
             ],
             [
              1,
              "#f0f921"
             ]
            ],
            "type": "histogram2dcontour"
           }
          ],
          "mesh3d": [
           {
            "colorbar": {
             "outlinewidth": 0,
             "ticks": ""
            },
            "type": "mesh3d"
           }
          ],
          "parcoords": [
           {
            "line": {
             "colorbar": {
              "outlinewidth": 0,
              "ticks": ""
             }
            },
            "type": "parcoords"
           }
          ],
          "pie": [
           {
            "automargin": true,
            "type": "pie"
           }
          ],
          "scatter": [
           {
            "fillpattern": {
             "fillmode": "overlay",
             "size": 10,
             "solidity": 0.2
            },
            "type": "scatter"
           }
          ],
          "scatter3d": [
           {
            "line": {
             "colorbar": {
              "outlinewidth": 0,
              "ticks": ""
             }
            },
            "marker": {
             "colorbar": {
              "outlinewidth": 0,
              "ticks": ""
             }
            },
            "type": "scatter3d"
           }
          ],
          "scattercarpet": [
           {
            "marker": {
             "colorbar": {
              "outlinewidth": 0,
              "ticks": ""
             }
            },
            "type": "scattercarpet"
           }
          ],
          "scattergeo": [
           {
            "marker": {
             "colorbar": {
              "outlinewidth": 0,
              "ticks": ""
             }
            },
            "type": "scattergeo"
           }
          ],
          "scattergl": [
           {
            "marker": {
             "colorbar": {
              "outlinewidth": 0,
              "ticks": ""
             }
            },
            "type": "scattergl"
           }
          ],
          "scattermapbox": [
           {
            "marker": {
             "colorbar": {
              "outlinewidth": 0,
              "ticks": ""
             }
            },
            "type": "scattermapbox"
           }
          ],
          "scatterpolar": [
           {
            "marker": {
             "colorbar": {
              "outlinewidth": 0,
              "ticks": ""
             }
            },
            "type": "scatterpolar"
           }
          ],
          "scatterpolargl": [
           {
            "marker": {
             "colorbar": {
              "outlinewidth": 0,
              "ticks": ""
             }
            },
            "type": "scatterpolargl"
           }
          ],
          "scatterternary": [
           {
            "marker": {
             "colorbar": {
              "outlinewidth": 0,
              "ticks": ""
             }
            },
            "type": "scatterternary"
           }
          ],
          "surface": [
           {
            "colorbar": {
             "outlinewidth": 0,
             "ticks": ""
            },
            "colorscale": [
             [
              0,
              "#0d0887"
             ],
             [
              0.1111111111111111,
              "#46039f"
             ],
             [
              0.2222222222222222,
              "#7201a8"
             ],
             [
              0.3333333333333333,
              "#9c179e"
             ],
             [
              0.4444444444444444,
              "#bd3786"
             ],
             [
              0.5555555555555556,
              "#d8576b"
             ],
             [
              0.6666666666666666,
              "#ed7953"
             ],
             [
              0.7777777777777778,
              "#fb9f3a"
             ],
             [
              0.8888888888888888,
              "#fdca26"
             ],
             [
              1,
              "#f0f921"
             ]
            ],
            "type": "surface"
           }
          ],
          "table": [
           {
            "cells": {
             "fill": {
              "color": "#EBF0F8"
             },
             "line": {
              "color": "white"
             }
            },
            "header": {
             "fill": {
              "color": "#C8D4E3"
             },
             "line": {
              "color": "white"
             }
            },
            "type": "table"
           }
          ]
         },
         "layout": {
          "annotationdefaults": {
           "arrowcolor": "#2a3f5f",
           "arrowhead": 0,
           "arrowwidth": 1
          },
          "autotypenumbers": "strict",
          "coloraxis": {
           "colorbar": {
            "outlinewidth": 0,
            "ticks": ""
           }
          },
          "colorscale": {
           "diverging": [
            [
             0,
             "#8e0152"
            ],
            [
             0.1,
             "#c51b7d"
            ],
            [
             0.2,
             "#de77ae"
            ],
            [
             0.3,
             "#f1b6da"
            ],
            [
             0.4,
             "#fde0ef"
            ],
            [
             0.5,
             "#f7f7f7"
            ],
            [
             0.6,
             "#e6f5d0"
            ],
            [
             0.7,
             "#b8e186"
            ],
            [
             0.8,
             "#7fbc41"
            ],
            [
             0.9,
             "#4d9221"
            ],
            [
             1,
             "#276419"
            ]
           ],
           "sequential": [
            [
             0,
             "#0d0887"
            ],
            [
             0.1111111111111111,
             "#46039f"
            ],
            [
             0.2222222222222222,
             "#7201a8"
            ],
            [
             0.3333333333333333,
             "#9c179e"
            ],
            [
             0.4444444444444444,
             "#bd3786"
            ],
            [
             0.5555555555555556,
             "#d8576b"
            ],
            [
             0.6666666666666666,
             "#ed7953"
            ],
            [
             0.7777777777777778,
             "#fb9f3a"
            ],
            [
             0.8888888888888888,
             "#fdca26"
            ],
            [
             1,
             "#f0f921"
            ]
           ],
           "sequentialminus": [
            [
             0,
             "#0d0887"
            ],
            [
             0.1111111111111111,
             "#46039f"
            ],
            [
             0.2222222222222222,
             "#7201a8"
            ],
            [
             0.3333333333333333,
             "#9c179e"
            ],
            [
             0.4444444444444444,
             "#bd3786"
            ],
            [
             0.5555555555555556,
             "#d8576b"
            ],
            [
             0.6666666666666666,
             "#ed7953"
            ],
            [
             0.7777777777777778,
             "#fb9f3a"
            ],
            [
             0.8888888888888888,
             "#fdca26"
            ],
            [
             1,
             "#f0f921"
            ]
           ]
          },
          "colorway": [
           "#636efa",
           "#EF553B",
           "#00cc96",
           "#ab63fa",
           "#FFA15A",
           "#19d3f3",
           "#FF6692",
           "#B6E880",
           "#FF97FF",
           "#FECB52"
          ],
          "font": {
           "color": "#2a3f5f"
          },
          "geo": {
           "bgcolor": "white",
           "lakecolor": "white",
           "landcolor": "#E5ECF6",
           "showlakes": true,
           "showland": true,
           "subunitcolor": "white"
          },
          "hoverlabel": {
           "align": "left"
          },
          "hovermode": "closest",
          "mapbox": {
           "style": "light"
          },
          "paper_bgcolor": "white",
          "plot_bgcolor": "#E5ECF6",
          "polar": {
           "angularaxis": {
            "gridcolor": "white",
            "linecolor": "white",
            "ticks": ""
           },
           "bgcolor": "#E5ECF6",
           "radialaxis": {
            "gridcolor": "white",
            "linecolor": "white",
            "ticks": ""
           }
          },
          "scene": {
           "xaxis": {
            "backgroundcolor": "#E5ECF6",
            "gridcolor": "white",
            "gridwidth": 2,
            "linecolor": "white",
            "showbackground": true,
            "ticks": "",
            "zerolinecolor": "white"
           },
           "yaxis": {
            "backgroundcolor": "#E5ECF6",
            "gridcolor": "white",
            "gridwidth": 2,
            "linecolor": "white",
            "showbackground": true,
            "ticks": "",
            "zerolinecolor": "white"
           },
           "zaxis": {
            "backgroundcolor": "#E5ECF6",
            "gridcolor": "white",
            "gridwidth": 2,
            "linecolor": "white",
            "showbackground": true,
            "ticks": "",
            "zerolinecolor": "white"
           }
          },
          "shapedefaults": {
           "line": {
            "color": "#2a3f5f"
           }
          },
          "ternary": {
           "aaxis": {
            "gridcolor": "white",
            "linecolor": "white",
            "ticks": ""
           },
           "baxis": {
            "gridcolor": "white",
            "linecolor": "white",
            "ticks": ""
           },
           "bgcolor": "#E5ECF6",
           "caxis": {
            "gridcolor": "white",
            "linecolor": "white",
            "ticks": ""
           }
          },
          "title": {
           "x": 0.05
          },
          "xaxis": {
           "automargin": true,
           "gridcolor": "white",
           "linecolor": "white",
           "ticks": "",
           "title": {
            "standoff": 15
           },
           "zerolinecolor": "white",
           "zerolinewidth": 2
          },
          "yaxis": {
           "automargin": true,
           "gridcolor": "white",
           "linecolor": "white",
           "ticks": "",
           "title": {
            "standoff": 15
           },
           "zerolinecolor": "white",
           "zerolinewidth": 2
          }
         }
        },
        "title": {
         "text": "Model Measurements vs Manual Values with Std Boundaries by Pond Type"
        },
        "width": 1200,
        "xaxis": {
         "anchor": "y",
         "domain": [
          0,
          0.2888888888888889
         ],
         "title": {
          "text": "Mean of manual measurements (mm)"
         }
        },
        "xaxis2": {
         "anchor": "y2",
         "domain": [
          0.35555555555555557,
          0.6444444444444445
         ],
         "title": {
          "text": "Mean of manual measurements (mm)"
         }
        },
        "xaxis3": {
         "anchor": "y3",
         "domain": [
          0.7111111111111111,
          1
         ],
         "title": {
          "text": "Mean of manual measurements (mm)"
         }
        },
        "yaxis": {
         "anchor": "x",
         "domain": [
          0,
          1
         ],
         "scaleanchor": "x",
         "scaleratio": 1,
         "title": {
          "text": "Model Measurements (mm)"
         }
        },
        "yaxis2": {
         "anchor": "x2",
         "domain": [
          0,
          1
         ],
         "scaleanchor": "x2",
         "scaleratio": 1
        },
        "yaxis3": {
         "anchor": "x3",
         "domain": [
          0,
          1
         ],
         "scaleanchor": "x3",
         "scaleratio": 1
        }
       }
      }
     },
     "metadata": {},
     "output_type": "display_data"
    }
   ],
   "source": [
    "# Get unique pond types and prepare data\n",
    "pond_types = df['Pond_Type'].unique()\n",
    "n_pond_types = len(pond_types)\n",
    "\n",
    "# Prepare data for all pond types\n",
    "pond_scatter_data = {}\n",
    "\n",
    "for pond_type in pond_types:\n",
    "    print(f\"Mean length for {pond_type}: {df[df['Pond_Type'] == pond_type]['mean_length'].mean()}\")\n",
    "    print(f\"Std length for {pond_type}: {df[df['Pond_Type'] == pond_type]['std_length'].mean()}\")\n",
    "    print(f\"Number of prawns in {pond_type}: {len(df[df['Pond_Type'] == pond_type])}\")\n",
    "    \n",
    "    df_pond = df[df['Pond_Type'] == pond_type]\n",
    "    min_val = min(df_pond['mean_length'].min(), df_pond['Length_fov(mm)'].min())\n",
    "    max_val = max(df_pond['mean_length'].max(), df_pond['Length_fov(mm)'].max())\n",
    "    x = np.linspace(min_val, max_val, 100)\n",
    "    median_mad = df_pond['std_length'].mean()\n",
    "    \n",
    "    # Calculate percentage within bounds for this pond type\n",
    "    within_bounds = ((df_pond['Length_fov(mm)'] <= df_pond['mean_length'] + median_mad) & \n",
    "                    (df_pond['Length_fov(mm)'] >= df_pond['mean_length'] - median_mad)).mean() * 100\n",
    "    \n",
    "    pond_scatter_data[pond_type] = {\n",
    "        'df_pond': df_pond,\n",
    "        'x': x,\n",
    "        'median_mad': median_mad,\n",
    "        'within_bounds': within_bounds\n",
    "    }\n",
    "\n",
    "# Create subplots in a row (3 columns)\n",
    "fig = make_subplots(\n",
    "    rows=1, cols=n_pond_types,\n",
    "    subplot_titles=[f' {pond_type}' for pond_type in pond_types],\n",
    "    shared_yaxes=False\n",
    ")\n",
    "\n",
    "# Color palette for different pond types\n",
    "colors = ['#ff7f0e', '#2ca02c', '#d62728']\n",
    "\n",
    "for i, pond_type in enumerate(pond_types):\n",
    "    data = pond_scatter_data[pond_type]\n",
    "    df_pond = data['df_pond']\n",
    "    x = data['x']\n",
    "    median_mad = data['median_mad']\n",
    "    \n",
    "    # Add scatter plot\n",
    "    fig.add_trace(\n",
    "        go.Scatter(\n",
    "            x=df_pond['mean_length'],\n",
    "            y=df_pond['Length_fov(mm)'],\n",
    "            mode='markers',\n",
    "            name='Measurements' if i == 0 else '',  # Only show legend for first subplot\n",
    "            text=df_pond.apply(lambda row: f\"Image: {row['Label']}<br>Prawn ID: {row['PrawnID']}\", axis=1),\n",
    "            hoverinfo='text+x+y',\n",
    "            marker=dict(\n",
    "                color=colors[i % len(colors)],\n",
    "                opacity=0.7\n",
    "            ),\n",
    "            showlegend=(i == 0)\n",
    "        ),\n",
    "        row=1, col=i+1\n",
    "    )\n",
    "    \n",
    "    # Add diagonal line (perfect match)\n",
    "    fig.add_trace(\n",
    "        go.Scatter(\n",
    "            x=x, y=x, \n",
    "            mode='lines', \n",
    "            name='Perfect match (y=x)' if i == 0 else '', \n",
    "            line=dict(color='black', dash='dash'),\n",
    "            showlegend=(i == 0)\n",
    "        ),\n",
    "        row=1, col=i+1\n",
    "    )\n",
    "    \n",
    "    # Add upper boundary\n",
    "    fig.add_trace(\n",
    "        go.Scatter(\n",
    "            x=x, y=x + median_mad, \n",
    "            mode='lines', \n",
    "            name=f'±Std boundary ({median_mad:.1f} mm)' if i == 0 else '',\n",
    "            line=dict(color='#2c7fb8', dash='dash'),\n",
    "            showlegend=(i == 0)\n",
    "        ),\n",
    "        row=1, col=i+1\n",
    "    )\n",
    "    \n",
    "    # Add lower boundary\n",
    "    fig.add_trace(\n",
    "        go.Scatter(\n",
    "            x=x, y=x - median_mad, \n",
    "            mode='lines',\n",
    "            name='',  # Don't show in legend (same as upper)\n",
    "            line=dict(color='#2c7fb8', dash='dash'),\n",
    "            showlegend=False\n",
    "        ),\n",
    "        row=1, col=i+1\n",
    "    )\n",
    "\n",
    "# Update layout\n",
    "fig.update_layout(\n",
    "    title_text='Model Measurements vs Manual Values with Std Boundaries by Pond Type',\n",
    "    width=400*n_pond_types,\n",
    "    height=600,\n",
    "    showlegend=True\n",
    ")\n",
    "\n",
    "# Update x and y axes for each subplot\n",
    "for i in range(n_pond_types):\n",
    "    fig.update_xaxes(title_text='Mean of manual measurements (mm)', row=1, col=i+1)\n",
    "    \n",
    "# Update y-axis title for the first subplot only\n",
    "fig.update_yaxes(title_text='Model Measurements (mm)', row=1, col=1)\n",
    "\n",
    "# Update layout for equal aspect ratio for all subplots\n",
    "for i in range(n_pond_types):\n",
    "    fig.update_yaxes(\n",
    "        scaleanchor=f\"x{i+1 if i > 0 else ''}\",\n",
    "        scaleratio=1,\n",
    "        row=1, col=i+1\n",
    "    )\n",
    "\n",
    "fig.show()"
   ]
  },
  {
   "cell_type": "code",
   "execution_count": 7,
   "metadata": {},
   "outputs": [
    {
     "data": {
      "application/vnd.plotly.v1+json": {
       "config": {
        "plotlyServerURL": "https://plot.ly"
       },
       "data": [
        {
         "alignmentgroup": "True",
         "bingroup": "x",
         "hovertemplate": "mean_absolute_error=%{x}<br>count=%{y}<extra></extra>",
         "legendgroup": "",
         "marker": {
          "color": "#636efa",
          "pattern": {
           "shape": ""
          }
         },
         "name": "",
         "nbinsx": 100,
         "offsetgroup": "",
         "orientation": "v",
         "showlegend": false,
         "type": "histogram",
         "x": [
          12.59986185838649,
          10.898258570334193,
          16.914078015801778,
          19.13092125620659,
          9.717787346561394,
          3.4929191079152133,
          2.7954421335501536,
          5.857654380978971,
          14.543492317186804,
          11.147871851940323,
          6.751337477359186,
          11.78482828932134,
          23.620081851927978,
          12.825025912633265,
          9.292235697658725,
          5.949775318355265,
          13.266324099077423,
          2.9195620940177065,
          6.948498606679152,
          2.614438339057358,
          7.2532044842613885,
          6.958090849678655,
          15.098793272358009,
          36.020845344323064,
          25.07573708409538,
          18.635269738031724,
          19.69478563431808,
          9.096329957379254,
          9.418866867823539,
          19.759940327794098,
          19.726388077065096,
          20.635856482977033,
          12.767896470399364,
          1.7761035296006469,
          22.775240328263152,
          20.162452779229284,
          16.474723678640018,
          4.038875755654814,
          8.544279243811758,
          19.588068058185357,
          11.667356374315972,
          9.068756004950785,
          11.42314098136302,
          7.984399973790261,
          3.454306075797078,
          30.87065530787595,
          25.435582469055603,
          1.1206666409091497,
          8.119582718936385,
          24.2388452961211,
          23.76283679860461,
          18.799841672036678,
          21.3365214239344,
          25.493112675896185,
          26.75609159389387,
          11.711727736408122,
          13.095533369391632,
          3.792815972325613,
          4.821440497127924,
          1.0575374518196128,
          14.293817655788317,
          2.993147285157306,
          3.8072992972117845,
          7.0916482321133,
          4.029038642877623,
          15.377292664565232,
          0.437797493837337,
          22.07106858255753,
          24.05275073866747,
          4.270775168246445,
          2.2095201473148194,
          3.3524810965187584,
          7.758366849001192,
          26.41119055916795,
          20.05300418388387,
          9.824338632959396,
          6.287284950261935,
          5.427206199889511,
          19.559195525691194,
          21.954557576958024,
          8.119809606890968,
          5.128780397105899,
          1.5694307659100843,
          15.775970933751708,
          0.04747613640326165,
          24.598560603017035,
          12.307725606802364,
          23.458762127257813,
          24.503426426165646,
          23.94931229130998,
          20.98190491094701,
          4.079452765864858
         ],
         "xaxis": "x",
         "yaxis": "y"
        }
       ],
       "layout": {
        "barmode": "relative",
        "legend": {
         "tracegroupgap": 0
        },
        "template": {
         "data": {
          "bar": [
           {
            "error_x": {
             "color": "#2a3f5f"
            },
            "error_y": {
             "color": "#2a3f5f"
            },
            "marker": {
             "line": {
              "color": "#E5ECF6",
              "width": 0.5
             },
             "pattern": {
              "fillmode": "overlay",
              "size": 10,
              "solidity": 0.2
             }
            },
            "type": "bar"
           }
          ],
          "barpolar": [
           {
            "marker": {
             "line": {
              "color": "#E5ECF6",
              "width": 0.5
             },
             "pattern": {
              "fillmode": "overlay",
              "size": 10,
              "solidity": 0.2
             }
            },
            "type": "barpolar"
           }
          ],
          "carpet": [
           {
            "aaxis": {
             "endlinecolor": "#2a3f5f",
             "gridcolor": "white",
             "linecolor": "white",
             "minorgridcolor": "white",
             "startlinecolor": "#2a3f5f"
            },
            "baxis": {
             "endlinecolor": "#2a3f5f",
             "gridcolor": "white",
             "linecolor": "white",
             "minorgridcolor": "white",
             "startlinecolor": "#2a3f5f"
            },
            "type": "carpet"
           }
          ],
          "choropleth": [
           {
            "colorbar": {
             "outlinewidth": 0,
             "ticks": ""
            },
            "type": "choropleth"
           }
          ],
          "contour": [
           {
            "colorbar": {
             "outlinewidth": 0,
             "ticks": ""
            },
            "colorscale": [
             [
              0,
              "#0d0887"
             ],
             [
              0.1111111111111111,
              "#46039f"
             ],
             [
              0.2222222222222222,
              "#7201a8"
             ],
             [
              0.3333333333333333,
              "#9c179e"
             ],
             [
              0.4444444444444444,
              "#bd3786"
             ],
             [
              0.5555555555555556,
              "#d8576b"
             ],
             [
              0.6666666666666666,
              "#ed7953"
             ],
             [
              0.7777777777777778,
              "#fb9f3a"
             ],
             [
              0.8888888888888888,
              "#fdca26"
             ],
             [
              1,
              "#f0f921"
             ]
            ],
            "type": "contour"
           }
          ],
          "contourcarpet": [
           {
            "colorbar": {
             "outlinewidth": 0,
             "ticks": ""
            },
            "type": "contourcarpet"
           }
          ],
          "heatmap": [
           {
            "colorbar": {
             "outlinewidth": 0,
             "ticks": ""
            },
            "colorscale": [
             [
              0,
              "#0d0887"
             ],
             [
              0.1111111111111111,
              "#46039f"
             ],
             [
              0.2222222222222222,
              "#7201a8"
             ],
             [
              0.3333333333333333,
              "#9c179e"
             ],
             [
              0.4444444444444444,
              "#bd3786"
             ],
             [
              0.5555555555555556,
              "#d8576b"
             ],
             [
              0.6666666666666666,
              "#ed7953"
             ],
             [
              0.7777777777777778,
              "#fb9f3a"
             ],
             [
              0.8888888888888888,
              "#fdca26"
             ],
             [
              1,
              "#f0f921"
             ]
            ],
            "type": "heatmap"
           }
          ],
          "heatmapgl": [
           {
            "colorbar": {
             "outlinewidth": 0,
             "ticks": ""
            },
            "colorscale": [
             [
              0,
              "#0d0887"
             ],
             [
              0.1111111111111111,
              "#46039f"
             ],
             [
              0.2222222222222222,
              "#7201a8"
             ],
             [
              0.3333333333333333,
              "#9c179e"
             ],
             [
              0.4444444444444444,
              "#bd3786"
             ],
             [
              0.5555555555555556,
              "#d8576b"
             ],
             [
              0.6666666666666666,
              "#ed7953"
             ],
             [
              0.7777777777777778,
              "#fb9f3a"
             ],
             [
              0.8888888888888888,
              "#fdca26"
             ],
             [
              1,
              "#f0f921"
             ]
            ],
            "type": "heatmapgl"
           }
          ],
          "histogram": [
           {
            "marker": {
             "pattern": {
              "fillmode": "overlay",
              "size": 10,
              "solidity": 0.2
             }
            },
            "type": "histogram"
           }
          ],
          "histogram2d": [
           {
            "colorbar": {
             "outlinewidth": 0,
             "ticks": ""
            },
            "colorscale": [
             [
              0,
              "#0d0887"
             ],
             [
              0.1111111111111111,
              "#46039f"
             ],
             [
              0.2222222222222222,
              "#7201a8"
             ],
             [
              0.3333333333333333,
              "#9c179e"
             ],
             [
              0.4444444444444444,
              "#bd3786"
             ],
             [
              0.5555555555555556,
              "#d8576b"
             ],
             [
              0.6666666666666666,
              "#ed7953"
             ],
             [
              0.7777777777777778,
              "#fb9f3a"
             ],
             [
              0.8888888888888888,
              "#fdca26"
             ],
             [
              1,
              "#f0f921"
             ]
            ],
            "type": "histogram2d"
           }
          ],
          "histogram2dcontour": [
           {
            "colorbar": {
             "outlinewidth": 0,
             "ticks": ""
            },
            "colorscale": [
             [
              0,
              "#0d0887"
             ],
             [
              0.1111111111111111,
              "#46039f"
             ],
             [
              0.2222222222222222,
              "#7201a8"
             ],
             [
              0.3333333333333333,
              "#9c179e"
             ],
             [
              0.4444444444444444,
              "#bd3786"
             ],
             [
              0.5555555555555556,
              "#d8576b"
             ],
             [
              0.6666666666666666,
              "#ed7953"
             ],
             [
              0.7777777777777778,
              "#fb9f3a"
             ],
             [
              0.8888888888888888,
              "#fdca26"
             ],
             [
              1,
              "#f0f921"
             ]
            ],
            "type": "histogram2dcontour"
           }
          ],
          "mesh3d": [
           {
            "colorbar": {
             "outlinewidth": 0,
             "ticks": ""
            },
            "type": "mesh3d"
           }
          ],
          "parcoords": [
           {
            "line": {
             "colorbar": {
              "outlinewidth": 0,
              "ticks": ""
             }
            },
            "type": "parcoords"
           }
          ],
          "pie": [
           {
            "automargin": true,
            "type": "pie"
           }
          ],
          "scatter": [
           {
            "fillpattern": {
             "fillmode": "overlay",
             "size": 10,
             "solidity": 0.2
            },
            "type": "scatter"
           }
          ],
          "scatter3d": [
           {
            "line": {
             "colorbar": {
              "outlinewidth": 0,
              "ticks": ""
             }
            },
            "marker": {
             "colorbar": {
              "outlinewidth": 0,
              "ticks": ""
             }
            },
            "type": "scatter3d"
           }
          ],
          "scattercarpet": [
           {
            "marker": {
             "colorbar": {
              "outlinewidth": 0,
              "ticks": ""
             }
            },
            "type": "scattercarpet"
           }
          ],
          "scattergeo": [
           {
            "marker": {
             "colorbar": {
              "outlinewidth": 0,
              "ticks": ""
             }
            },
            "type": "scattergeo"
           }
          ],
          "scattergl": [
           {
            "marker": {
             "colorbar": {
              "outlinewidth": 0,
              "ticks": ""
             }
            },
            "type": "scattergl"
           }
          ],
          "scattermapbox": [
           {
            "marker": {
             "colorbar": {
              "outlinewidth": 0,
              "ticks": ""
             }
            },
            "type": "scattermapbox"
           }
          ],
          "scatterpolar": [
           {
            "marker": {
             "colorbar": {
              "outlinewidth": 0,
              "ticks": ""
             }
            },
            "type": "scatterpolar"
           }
          ],
          "scatterpolargl": [
           {
            "marker": {
             "colorbar": {
              "outlinewidth": 0,
              "ticks": ""
             }
            },
            "type": "scatterpolargl"
           }
          ],
          "scatterternary": [
           {
            "marker": {
             "colorbar": {
              "outlinewidth": 0,
              "ticks": ""
             }
            },
            "type": "scatterternary"
           }
          ],
          "surface": [
           {
            "colorbar": {
             "outlinewidth": 0,
             "ticks": ""
            },
            "colorscale": [
             [
              0,
              "#0d0887"
             ],
             [
              0.1111111111111111,
              "#46039f"
             ],
             [
              0.2222222222222222,
              "#7201a8"
             ],
             [
              0.3333333333333333,
              "#9c179e"
             ],
             [
              0.4444444444444444,
              "#bd3786"
             ],
             [
              0.5555555555555556,
              "#d8576b"
             ],
             [
              0.6666666666666666,
              "#ed7953"
             ],
             [
              0.7777777777777778,
              "#fb9f3a"
             ],
             [
              0.8888888888888888,
              "#fdca26"
             ],
             [
              1,
              "#f0f921"
             ]
            ],
            "type": "surface"
           }
          ],
          "table": [
           {
            "cells": {
             "fill": {
              "color": "#EBF0F8"
             },
             "line": {
              "color": "white"
             }
            },
            "header": {
             "fill": {
              "color": "#C8D4E3"
             },
             "line": {
              "color": "white"
             }
            },
            "type": "table"
           }
          ]
         },
         "layout": {
          "annotationdefaults": {
           "arrowcolor": "#2a3f5f",
           "arrowhead": 0,
           "arrowwidth": 1
          },
          "autotypenumbers": "strict",
          "coloraxis": {
           "colorbar": {
            "outlinewidth": 0,
            "ticks": ""
           }
          },
          "colorscale": {
           "diverging": [
            [
             0,
             "#8e0152"
            ],
            [
             0.1,
             "#c51b7d"
            ],
            [
             0.2,
             "#de77ae"
            ],
            [
             0.3,
             "#f1b6da"
            ],
            [
             0.4,
             "#fde0ef"
            ],
            [
             0.5,
             "#f7f7f7"
            ],
            [
             0.6,
             "#e6f5d0"
            ],
            [
             0.7,
             "#b8e186"
            ],
            [
             0.8,
             "#7fbc41"
            ],
            [
             0.9,
             "#4d9221"
            ],
            [
             1,
             "#276419"
            ]
           ],
           "sequential": [
            [
             0,
             "#0d0887"
            ],
            [
             0.1111111111111111,
             "#46039f"
            ],
            [
             0.2222222222222222,
             "#7201a8"
            ],
            [
             0.3333333333333333,
             "#9c179e"
            ],
            [
             0.4444444444444444,
             "#bd3786"
            ],
            [
             0.5555555555555556,
             "#d8576b"
            ],
            [
             0.6666666666666666,
             "#ed7953"
            ],
            [
             0.7777777777777778,
             "#fb9f3a"
            ],
            [
             0.8888888888888888,
             "#fdca26"
            ],
            [
             1,
             "#f0f921"
            ]
           ],
           "sequentialminus": [
            [
             0,
             "#0d0887"
            ],
            [
             0.1111111111111111,
             "#46039f"
            ],
            [
             0.2222222222222222,
             "#7201a8"
            ],
            [
             0.3333333333333333,
             "#9c179e"
            ],
            [
             0.4444444444444444,
             "#bd3786"
            ],
            [
             0.5555555555555556,
             "#d8576b"
            ],
            [
             0.6666666666666666,
             "#ed7953"
            ],
            [
             0.7777777777777778,
             "#fb9f3a"
            ],
            [
             0.8888888888888888,
             "#fdca26"
            ],
            [
             1,
             "#f0f921"
            ]
           ]
          },
          "colorway": [
           "#636efa",
           "#EF553B",
           "#00cc96",
           "#ab63fa",
           "#FFA15A",
           "#19d3f3",
           "#FF6692",
           "#B6E880",
           "#FF97FF",
           "#FECB52"
          ],
          "font": {
           "color": "#2a3f5f"
          },
          "geo": {
           "bgcolor": "white",
           "lakecolor": "white",
           "landcolor": "#E5ECF6",
           "showlakes": true,
           "showland": true,
           "subunitcolor": "white"
          },
          "hoverlabel": {
           "align": "left"
          },
          "hovermode": "closest",
          "mapbox": {
           "style": "light"
          },
          "paper_bgcolor": "white",
          "plot_bgcolor": "#E5ECF6",
          "polar": {
           "angularaxis": {
            "gridcolor": "white",
            "linecolor": "white",
            "ticks": ""
           },
           "bgcolor": "#E5ECF6",
           "radialaxis": {
            "gridcolor": "white",
            "linecolor": "white",
            "ticks": ""
           }
          },
          "scene": {
           "xaxis": {
            "backgroundcolor": "#E5ECF6",
            "gridcolor": "white",
            "gridwidth": 2,
            "linecolor": "white",
            "showbackground": true,
            "ticks": "",
            "zerolinecolor": "white"
           },
           "yaxis": {
            "backgroundcolor": "#E5ECF6",
            "gridcolor": "white",
            "gridwidth": 2,
            "linecolor": "white",
            "showbackground": true,
            "ticks": "",
            "zerolinecolor": "white"
           },
           "zaxis": {
            "backgroundcolor": "#E5ECF6",
            "gridcolor": "white",
            "gridwidth": 2,
            "linecolor": "white",
            "showbackground": true,
            "ticks": "",
            "zerolinecolor": "white"
           }
          },
          "shapedefaults": {
           "line": {
            "color": "#2a3f5f"
           }
          },
          "ternary": {
           "aaxis": {
            "gridcolor": "white",
            "linecolor": "white",
            "ticks": ""
           },
           "baxis": {
            "gridcolor": "white",
            "linecolor": "white",
            "ticks": ""
           },
           "bgcolor": "#E5ECF6",
           "caxis": {
            "gridcolor": "white",
            "linecolor": "white",
            "ticks": ""
           }
          },
          "title": {
           "x": 0.05
          },
          "xaxis": {
           "automargin": true,
           "gridcolor": "white",
           "linecolor": "white",
           "ticks": "",
           "title": {
            "standoff": 15
           },
           "zerolinecolor": "white",
           "zerolinewidth": 2
          },
          "yaxis": {
           "automargin": true,
           "gridcolor": "white",
           "linecolor": "white",
           "ticks": "",
           "title": {
            "standoff": 15
           },
           "zerolinecolor": "white",
           "zerolinewidth": 2
          }
         }
        },
        "title": {
         "text": "Histogram of mean absolute error for circle_female"
        },
        "xaxis": {
         "anchor": "y",
         "domain": [
          0,
          1
         ],
         "title": {
          "text": "mean_absolute_error"
         }
        },
        "yaxis": {
         "anchor": "x",
         "domain": [
          0,
          1
         ],
         "title": {
          "text": "count"
         }
        }
       }
      }
     },
     "metadata": {},
     "output_type": "display_data"
    },
    {
     "data": {
      "application/vnd.plotly.v1+json": {
       "config": {
        "plotlyServerURL": "https://plot.ly"
       },
       "data": [
        {
         "alignmentgroup": "True",
         "bingroup": "x",
         "hovertemplate": "mean_absolute_error=%{x}<br>count=%{y}<extra></extra>",
         "legendgroup": "",
         "marker": {
          "color": "#636efa",
          "pattern": {
           "shape": ""
          }
         },
         "name": "",
         "nbinsx": 100,
         "offsetgroup": "",
         "orientation": "v",
         "showlegend": false,
         "type": "histogram",
         "x": [
          22.168057187630936,
          17.94780427021975,
          17.49504866633886,
          9.56199893917303,
          10.464837713035791,
          9.79159732620731,
          22.793855142859233,
          35.64185514285924,
          11.150668302687933,
          13.832086730853746,
          15.143859219402088,
          17.169588376777263,
          27.01495205328672
         ],
         "xaxis": "x",
         "yaxis": "y"
        }
       ],
       "layout": {
        "barmode": "relative",
        "legend": {
         "tracegroupgap": 0
        },
        "template": {
         "data": {
          "bar": [
           {
            "error_x": {
             "color": "#2a3f5f"
            },
            "error_y": {
             "color": "#2a3f5f"
            },
            "marker": {
             "line": {
              "color": "#E5ECF6",
              "width": 0.5
             },
             "pattern": {
              "fillmode": "overlay",
              "size": 10,
              "solidity": 0.2
             }
            },
            "type": "bar"
           }
          ],
          "barpolar": [
           {
            "marker": {
             "line": {
              "color": "#E5ECF6",
              "width": 0.5
             },
             "pattern": {
              "fillmode": "overlay",
              "size": 10,
              "solidity": 0.2
             }
            },
            "type": "barpolar"
           }
          ],
          "carpet": [
           {
            "aaxis": {
             "endlinecolor": "#2a3f5f",
             "gridcolor": "white",
             "linecolor": "white",
             "minorgridcolor": "white",
             "startlinecolor": "#2a3f5f"
            },
            "baxis": {
             "endlinecolor": "#2a3f5f",
             "gridcolor": "white",
             "linecolor": "white",
             "minorgridcolor": "white",
             "startlinecolor": "#2a3f5f"
            },
            "type": "carpet"
           }
          ],
          "choropleth": [
           {
            "colorbar": {
             "outlinewidth": 0,
             "ticks": ""
            },
            "type": "choropleth"
           }
          ],
          "contour": [
           {
            "colorbar": {
             "outlinewidth": 0,
             "ticks": ""
            },
            "colorscale": [
             [
              0,
              "#0d0887"
             ],
             [
              0.1111111111111111,
              "#46039f"
             ],
             [
              0.2222222222222222,
              "#7201a8"
             ],
             [
              0.3333333333333333,
              "#9c179e"
             ],
             [
              0.4444444444444444,
              "#bd3786"
             ],
             [
              0.5555555555555556,
              "#d8576b"
             ],
             [
              0.6666666666666666,
              "#ed7953"
             ],
             [
              0.7777777777777778,
              "#fb9f3a"
             ],
             [
              0.8888888888888888,
              "#fdca26"
             ],
             [
              1,
              "#f0f921"
             ]
            ],
            "type": "contour"
           }
          ],
          "contourcarpet": [
           {
            "colorbar": {
             "outlinewidth": 0,
             "ticks": ""
            },
            "type": "contourcarpet"
           }
          ],
          "heatmap": [
           {
            "colorbar": {
             "outlinewidth": 0,
             "ticks": ""
            },
            "colorscale": [
             [
              0,
              "#0d0887"
             ],
             [
              0.1111111111111111,
              "#46039f"
             ],
             [
              0.2222222222222222,
              "#7201a8"
             ],
             [
              0.3333333333333333,
              "#9c179e"
             ],
             [
              0.4444444444444444,
              "#bd3786"
             ],
             [
              0.5555555555555556,
              "#d8576b"
             ],
             [
              0.6666666666666666,
              "#ed7953"
             ],
             [
              0.7777777777777778,
              "#fb9f3a"
             ],
             [
              0.8888888888888888,
              "#fdca26"
             ],
             [
              1,
              "#f0f921"
             ]
            ],
            "type": "heatmap"
           }
          ],
          "heatmapgl": [
           {
            "colorbar": {
             "outlinewidth": 0,
             "ticks": ""
            },
            "colorscale": [
             [
              0,
              "#0d0887"
             ],
             [
              0.1111111111111111,
              "#46039f"
             ],
             [
              0.2222222222222222,
              "#7201a8"
             ],
             [
              0.3333333333333333,
              "#9c179e"
             ],
             [
              0.4444444444444444,
              "#bd3786"
             ],
             [
              0.5555555555555556,
              "#d8576b"
             ],
             [
              0.6666666666666666,
              "#ed7953"
             ],
             [
              0.7777777777777778,
              "#fb9f3a"
             ],
             [
              0.8888888888888888,
              "#fdca26"
             ],
             [
              1,
              "#f0f921"
             ]
            ],
            "type": "heatmapgl"
           }
          ],
          "histogram": [
           {
            "marker": {
             "pattern": {
              "fillmode": "overlay",
              "size": 10,
              "solidity": 0.2
             }
            },
            "type": "histogram"
           }
          ],
          "histogram2d": [
           {
            "colorbar": {
             "outlinewidth": 0,
             "ticks": ""
            },
            "colorscale": [
             [
              0,
              "#0d0887"
             ],
             [
              0.1111111111111111,
              "#46039f"
             ],
             [
              0.2222222222222222,
              "#7201a8"
             ],
             [
              0.3333333333333333,
              "#9c179e"
             ],
             [
              0.4444444444444444,
              "#bd3786"
             ],
             [
              0.5555555555555556,
              "#d8576b"
             ],
             [
              0.6666666666666666,
              "#ed7953"
             ],
             [
              0.7777777777777778,
              "#fb9f3a"
             ],
             [
              0.8888888888888888,
              "#fdca26"
             ],
             [
              1,
              "#f0f921"
             ]
            ],
            "type": "histogram2d"
           }
          ],
          "histogram2dcontour": [
           {
            "colorbar": {
             "outlinewidth": 0,
             "ticks": ""
            },
            "colorscale": [
             [
              0,
              "#0d0887"
             ],
             [
              0.1111111111111111,
              "#46039f"
             ],
             [
              0.2222222222222222,
              "#7201a8"
             ],
             [
              0.3333333333333333,
              "#9c179e"
             ],
             [
              0.4444444444444444,
              "#bd3786"
             ],
             [
              0.5555555555555556,
              "#d8576b"
             ],
             [
              0.6666666666666666,
              "#ed7953"
             ],
             [
              0.7777777777777778,
              "#fb9f3a"
             ],
             [
              0.8888888888888888,
              "#fdca26"
             ],
             [
              1,
              "#f0f921"
             ]
            ],
            "type": "histogram2dcontour"
           }
          ],
          "mesh3d": [
           {
            "colorbar": {
             "outlinewidth": 0,
             "ticks": ""
            },
            "type": "mesh3d"
           }
          ],
          "parcoords": [
           {
            "line": {
             "colorbar": {
              "outlinewidth": 0,
              "ticks": ""
             }
            },
            "type": "parcoords"
           }
          ],
          "pie": [
           {
            "automargin": true,
            "type": "pie"
           }
          ],
          "scatter": [
           {
            "fillpattern": {
             "fillmode": "overlay",
             "size": 10,
             "solidity": 0.2
            },
            "type": "scatter"
           }
          ],
          "scatter3d": [
           {
            "line": {
             "colorbar": {
              "outlinewidth": 0,
              "ticks": ""
             }
            },
            "marker": {
             "colorbar": {
              "outlinewidth": 0,
              "ticks": ""
             }
            },
            "type": "scatter3d"
           }
          ],
          "scattercarpet": [
           {
            "marker": {
             "colorbar": {
              "outlinewidth": 0,
              "ticks": ""
             }
            },
            "type": "scattercarpet"
           }
          ],
          "scattergeo": [
           {
            "marker": {
             "colorbar": {
              "outlinewidth": 0,
              "ticks": ""
             }
            },
            "type": "scattergeo"
           }
          ],
          "scattergl": [
           {
            "marker": {
             "colorbar": {
              "outlinewidth": 0,
              "ticks": ""
             }
            },
            "type": "scattergl"
           }
          ],
          "scattermapbox": [
           {
            "marker": {
             "colorbar": {
              "outlinewidth": 0,
              "ticks": ""
             }
            },
            "type": "scattermapbox"
           }
          ],
          "scatterpolar": [
           {
            "marker": {
             "colorbar": {
              "outlinewidth": 0,
              "ticks": ""
             }
            },
            "type": "scatterpolar"
           }
          ],
          "scatterpolargl": [
           {
            "marker": {
             "colorbar": {
              "outlinewidth": 0,
              "ticks": ""
             }
            },
            "type": "scatterpolargl"
           }
          ],
          "scatterternary": [
           {
            "marker": {
             "colorbar": {
              "outlinewidth": 0,
              "ticks": ""
             }
            },
            "type": "scatterternary"
           }
          ],
          "surface": [
           {
            "colorbar": {
             "outlinewidth": 0,
             "ticks": ""
            },
            "colorscale": [
             [
              0,
              "#0d0887"
             ],
             [
              0.1111111111111111,
              "#46039f"
             ],
             [
              0.2222222222222222,
              "#7201a8"
             ],
             [
              0.3333333333333333,
              "#9c179e"
             ],
             [
              0.4444444444444444,
              "#bd3786"
             ],
             [
              0.5555555555555556,
              "#d8576b"
             ],
             [
              0.6666666666666666,
              "#ed7953"
             ],
             [
              0.7777777777777778,
              "#fb9f3a"
             ],
             [
              0.8888888888888888,
              "#fdca26"
             ],
             [
              1,
              "#f0f921"
             ]
            ],
            "type": "surface"
           }
          ],
          "table": [
           {
            "cells": {
             "fill": {
              "color": "#EBF0F8"
             },
             "line": {
              "color": "white"
             }
            },
            "header": {
             "fill": {
              "color": "#C8D4E3"
             },
             "line": {
              "color": "white"
             }
            },
            "type": "table"
           }
          ]
         },
         "layout": {
          "annotationdefaults": {
           "arrowcolor": "#2a3f5f",
           "arrowhead": 0,
           "arrowwidth": 1
          },
          "autotypenumbers": "strict",
          "coloraxis": {
           "colorbar": {
            "outlinewidth": 0,
            "ticks": ""
           }
          },
          "colorscale": {
           "diverging": [
            [
             0,
             "#8e0152"
            ],
            [
             0.1,
             "#c51b7d"
            ],
            [
             0.2,
             "#de77ae"
            ],
            [
             0.3,
             "#f1b6da"
            ],
            [
             0.4,
             "#fde0ef"
            ],
            [
             0.5,
             "#f7f7f7"
            ],
            [
             0.6,
             "#e6f5d0"
            ],
            [
             0.7,
             "#b8e186"
            ],
            [
             0.8,
             "#7fbc41"
            ],
            [
             0.9,
             "#4d9221"
            ],
            [
             1,
             "#276419"
            ]
           ],
           "sequential": [
            [
             0,
             "#0d0887"
            ],
            [
             0.1111111111111111,
             "#46039f"
            ],
            [
             0.2222222222222222,
             "#7201a8"
            ],
            [
             0.3333333333333333,
             "#9c179e"
            ],
            [
             0.4444444444444444,
             "#bd3786"
            ],
            [
             0.5555555555555556,
             "#d8576b"
            ],
            [
             0.6666666666666666,
             "#ed7953"
            ],
            [
             0.7777777777777778,
             "#fb9f3a"
            ],
            [
             0.8888888888888888,
             "#fdca26"
            ],
            [
             1,
             "#f0f921"
            ]
           ],
           "sequentialminus": [
            [
             0,
             "#0d0887"
            ],
            [
             0.1111111111111111,
             "#46039f"
            ],
            [
             0.2222222222222222,
             "#7201a8"
            ],
            [
             0.3333333333333333,
             "#9c179e"
            ],
            [
             0.4444444444444444,
             "#bd3786"
            ],
            [
             0.5555555555555556,
             "#d8576b"
            ],
            [
             0.6666666666666666,
             "#ed7953"
            ],
            [
             0.7777777777777778,
             "#fb9f3a"
            ],
            [
             0.8888888888888888,
             "#fdca26"
            ],
            [
             1,
             "#f0f921"
            ]
           ]
          },
          "colorway": [
           "#636efa",
           "#EF553B",
           "#00cc96",
           "#ab63fa",
           "#FFA15A",
           "#19d3f3",
           "#FF6692",
           "#B6E880",
           "#FF97FF",
           "#FECB52"
          ],
          "font": {
           "color": "#2a3f5f"
          },
          "geo": {
           "bgcolor": "white",
           "lakecolor": "white",
           "landcolor": "#E5ECF6",
           "showlakes": true,
           "showland": true,
           "subunitcolor": "white"
          },
          "hoverlabel": {
           "align": "left"
          },
          "hovermode": "closest",
          "mapbox": {
           "style": "light"
          },
          "paper_bgcolor": "white",
          "plot_bgcolor": "#E5ECF6",
          "polar": {
           "angularaxis": {
            "gridcolor": "white",
            "linecolor": "white",
            "ticks": ""
           },
           "bgcolor": "#E5ECF6",
           "radialaxis": {
            "gridcolor": "white",
            "linecolor": "white",
            "ticks": ""
           }
          },
          "scene": {
           "xaxis": {
            "backgroundcolor": "#E5ECF6",
            "gridcolor": "white",
            "gridwidth": 2,
            "linecolor": "white",
            "showbackground": true,
            "ticks": "",
            "zerolinecolor": "white"
           },
           "yaxis": {
            "backgroundcolor": "#E5ECF6",
            "gridcolor": "white",
            "gridwidth": 2,
            "linecolor": "white",
            "showbackground": true,
            "ticks": "",
            "zerolinecolor": "white"
           },
           "zaxis": {
            "backgroundcolor": "#E5ECF6",
            "gridcolor": "white",
            "gridwidth": 2,
            "linecolor": "white",
            "showbackground": true,
            "ticks": "",
            "zerolinecolor": "white"
           }
          },
          "shapedefaults": {
           "line": {
            "color": "#2a3f5f"
           }
          },
          "ternary": {
           "aaxis": {
            "gridcolor": "white",
            "linecolor": "white",
            "ticks": ""
           },
           "baxis": {
            "gridcolor": "white",
            "linecolor": "white",
            "ticks": ""
           },
           "bgcolor": "#E5ECF6",
           "caxis": {
            "gridcolor": "white",
            "linecolor": "white",
            "ticks": ""
           }
          },
          "title": {
           "x": 0.05
          },
          "xaxis": {
           "automargin": true,
           "gridcolor": "white",
           "linecolor": "white",
           "ticks": "",
           "title": {
            "standoff": 15
           },
           "zerolinecolor": "white",
           "zerolinewidth": 2
          },
          "yaxis": {
           "automargin": true,
           "gridcolor": "white",
           "linecolor": "white",
           "ticks": "",
           "title": {
            "standoff": 15
           },
           "zerolinecolor": "white",
           "zerolinewidth": 2
          }
         }
        },
        "title": {
         "text": "Histogram of mean absolute error for circle_male"
        },
        "xaxis": {
         "anchor": "y",
         "domain": [
          0,
          1
         ],
         "title": {
          "text": "mean_absolute_error"
         }
        },
        "yaxis": {
         "anchor": "x",
         "domain": [
          0,
          1
         ],
         "title": {
          "text": "count"
         }
        }
       }
      }
     },
     "metadata": {},
     "output_type": "display_data"
    },
    {
     "data": {
      "application/vnd.plotly.v1+json": {
       "config": {
        "plotlyServerURL": "https://plot.ly"
       },
       "data": [
        {
         "alignmentgroup": "True",
         "bingroup": "x",
         "hovertemplate": "mean_absolute_error=%{x}<br>count=%{y}<extra></extra>",
         "legendgroup": "",
         "marker": {
          "color": "#636efa",
          "pattern": {
           "shape": ""
          }
         },
         "name": "",
         "nbinsx": 100,
         "offsetgroup": "",
         "orientation": "v",
         "showlegend": false,
         "type": "histogram",
         "x": [
          7.175082974261201,
          17.440476642370783,
          11.917033341052203,
          12.567956737227291,
          10.85636829031833,
          28.138803308831882,
          19.162510022786677,
          12.947519438129916,
          3.98366552427791,
          26.76206754060297,
          20.571971647359277,
          8.406565501138388,
          4.567066900688502,
          7.308167522117344
         ],
         "xaxis": "x",
         "yaxis": "y"
        }
       ],
       "layout": {
        "barmode": "relative",
        "legend": {
         "tracegroupgap": 0
        },
        "template": {
         "data": {
          "bar": [
           {
            "error_x": {
             "color": "#2a3f5f"
            },
            "error_y": {
             "color": "#2a3f5f"
            },
            "marker": {
             "line": {
              "color": "#E5ECF6",
              "width": 0.5
             },
             "pattern": {
              "fillmode": "overlay",
              "size": 10,
              "solidity": 0.2
             }
            },
            "type": "bar"
           }
          ],
          "barpolar": [
           {
            "marker": {
             "line": {
              "color": "#E5ECF6",
              "width": 0.5
             },
             "pattern": {
              "fillmode": "overlay",
              "size": 10,
              "solidity": 0.2
             }
            },
            "type": "barpolar"
           }
          ],
          "carpet": [
           {
            "aaxis": {
             "endlinecolor": "#2a3f5f",
             "gridcolor": "white",
             "linecolor": "white",
             "minorgridcolor": "white",
             "startlinecolor": "#2a3f5f"
            },
            "baxis": {
             "endlinecolor": "#2a3f5f",
             "gridcolor": "white",
             "linecolor": "white",
             "minorgridcolor": "white",
             "startlinecolor": "#2a3f5f"
            },
            "type": "carpet"
           }
          ],
          "choropleth": [
           {
            "colorbar": {
             "outlinewidth": 0,
             "ticks": ""
            },
            "type": "choropleth"
           }
          ],
          "contour": [
           {
            "colorbar": {
             "outlinewidth": 0,
             "ticks": ""
            },
            "colorscale": [
             [
              0,
              "#0d0887"
             ],
             [
              0.1111111111111111,
              "#46039f"
             ],
             [
              0.2222222222222222,
              "#7201a8"
             ],
             [
              0.3333333333333333,
              "#9c179e"
             ],
             [
              0.4444444444444444,
              "#bd3786"
             ],
             [
              0.5555555555555556,
              "#d8576b"
             ],
             [
              0.6666666666666666,
              "#ed7953"
             ],
             [
              0.7777777777777778,
              "#fb9f3a"
             ],
             [
              0.8888888888888888,
              "#fdca26"
             ],
             [
              1,
              "#f0f921"
             ]
            ],
            "type": "contour"
           }
          ],
          "contourcarpet": [
           {
            "colorbar": {
             "outlinewidth": 0,
             "ticks": ""
            },
            "type": "contourcarpet"
           }
          ],
          "heatmap": [
           {
            "colorbar": {
             "outlinewidth": 0,
             "ticks": ""
            },
            "colorscale": [
             [
              0,
              "#0d0887"
             ],
             [
              0.1111111111111111,
              "#46039f"
             ],
             [
              0.2222222222222222,
              "#7201a8"
             ],
             [
              0.3333333333333333,
              "#9c179e"
             ],
             [
              0.4444444444444444,
              "#bd3786"
             ],
             [
              0.5555555555555556,
              "#d8576b"
             ],
             [
              0.6666666666666666,
              "#ed7953"
             ],
             [
              0.7777777777777778,
              "#fb9f3a"
             ],
             [
              0.8888888888888888,
              "#fdca26"
             ],
             [
              1,
              "#f0f921"
             ]
            ],
            "type": "heatmap"
           }
          ],
          "heatmapgl": [
           {
            "colorbar": {
             "outlinewidth": 0,
             "ticks": ""
            },
            "colorscale": [
             [
              0,
              "#0d0887"
             ],
             [
              0.1111111111111111,
              "#46039f"
             ],
             [
              0.2222222222222222,
              "#7201a8"
             ],
             [
              0.3333333333333333,
              "#9c179e"
             ],
             [
              0.4444444444444444,
              "#bd3786"
             ],
             [
              0.5555555555555556,
              "#d8576b"
             ],
             [
              0.6666666666666666,
              "#ed7953"
             ],
             [
              0.7777777777777778,
              "#fb9f3a"
             ],
             [
              0.8888888888888888,
              "#fdca26"
             ],
             [
              1,
              "#f0f921"
             ]
            ],
            "type": "heatmapgl"
           }
          ],
          "histogram": [
           {
            "marker": {
             "pattern": {
              "fillmode": "overlay",
              "size": 10,
              "solidity": 0.2
             }
            },
            "type": "histogram"
           }
          ],
          "histogram2d": [
           {
            "colorbar": {
             "outlinewidth": 0,
             "ticks": ""
            },
            "colorscale": [
             [
              0,
              "#0d0887"
             ],
             [
              0.1111111111111111,
              "#46039f"
             ],
             [
              0.2222222222222222,
              "#7201a8"
             ],
             [
              0.3333333333333333,
              "#9c179e"
             ],
             [
              0.4444444444444444,
              "#bd3786"
             ],
             [
              0.5555555555555556,
              "#d8576b"
             ],
             [
              0.6666666666666666,
              "#ed7953"
             ],
             [
              0.7777777777777778,
              "#fb9f3a"
             ],
             [
              0.8888888888888888,
              "#fdca26"
             ],
             [
              1,
              "#f0f921"
             ]
            ],
            "type": "histogram2d"
           }
          ],
          "histogram2dcontour": [
           {
            "colorbar": {
             "outlinewidth": 0,
             "ticks": ""
            },
            "colorscale": [
             [
              0,
              "#0d0887"
             ],
             [
              0.1111111111111111,
              "#46039f"
             ],
             [
              0.2222222222222222,
              "#7201a8"
             ],
             [
              0.3333333333333333,
              "#9c179e"
             ],
             [
              0.4444444444444444,
              "#bd3786"
             ],
             [
              0.5555555555555556,
              "#d8576b"
             ],
             [
              0.6666666666666666,
              "#ed7953"
             ],
             [
              0.7777777777777778,
              "#fb9f3a"
             ],
             [
              0.8888888888888888,
              "#fdca26"
             ],
             [
              1,
              "#f0f921"
             ]
            ],
            "type": "histogram2dcontour"
           }
          ],
          "mesh3d": [
           {
            "colorbar": {
             "outlinewidth": 0,
             "ticks": ""
            },
            "type": "mesh3d"
           }
          ],
          "parcoords": [
           {
            "line": {
             "colorbar": {
              "outlinewidth": 0,
              "ticks": ""
             }
            },
            "type": "parcoords"
           }
          ],
          "pie": [
           {
            "automargin": true,
            "type": "pie"
           }
          ],
          "scatter": [
           {
            "fillpattern": {
             "fillmode": "overlay",
             "size": 10,
             "solidity": 0.2
            },
            "type": "scatter"
           }
          ],
          "scatter3d": [
           {
            "line": {
             "colorbar": {
              "outlinewidth": 0,
              "ticks": ""
             }
            },
            "marker": {
             "colorbar": {
              "outlinewidth": 0,
              "ticks": ""
             }
            },
            "type": "scatter3d"
           }
          ],
          "scattercarpet": [
           {
            "marker": {
             "colorbar": {
              "outlinewidth": 0,
              "ticks": ""
             }
            },
            "type": "scattercarpet"
           }
          ],
          "scattergeo": [
           {
            "marker": {
             "colorbar": {
              "outlinewidth": 0,
              "ticks": ""
             }
            },
            "type": "scattergeo"
           }
          ],
          "scattergl": [
           {
            "marker": {
             "colorbar": {
              "outlinewidth": 0,
              "ticks": ""
             }
            },
            "type": "scattergl"
           }
          ],
          "scattermapbox": [
           {
            "marker": {
             "colorbar": {
              "outlinewidth": 0,
              "ticks": ""
             }
            },
            "type": "scattermapbox"
           }
          ],
          "scatterpolar": [
           {
            "marker": {
             "colorbar": {
              "outlinewidth": 0,
              "ticks": ""
             }
            },
            "type": "scatterpolar"
           }
          ],
          "scatterpolargl": [
           {
            "marker": {
             "colorbar": {
              "outlinewidth": 0,
              "ticks": ""
             }
            },
            "type": "scatterpolargl"
           }
          ],
          "scatterternary": [
           {
            "marker": {
             "colorbar": {
              "outlinewidth": 0,
              "ticks": ""
             }
            },
            "type": "scatterternary"
           }
          ],
          "surface": [
           {
            "colorbar": {
             "outlinewidth": 0,
             "ticks": ""
            },
            "colorscale": [
             [
              0,
              "#0d0887"
             ],
             [
              0.1111111111111111,
              "#46039f"
             ],
             [
              0.2222222222222222,
              "#7201a8"
             ],
             [
              0.3333333333333333,
              "#9c179e"
             ],
             [
              0.4444444444444444,
              "#bd3786"
             ],
             [
              0.5555555555555556,
              "#d8576b"
             ],
             [
              0.6666666666666666,
              "#ed7953"
             ],
             [
              0.7777777777777778,
              "#fb9f3a"
             ],
             [
              0.8888888888888888,
              "#fdca26"
             ],
             [
              1,
              "#f0f921"
             ]
            ],
            "type": "surface"
           }
          ],
          "table": [
           {
            "cells": {
             "fill": {
              "color": "#EBF0F8"
             },
             "line": {
              "color": "white"
             }
            },
            "header": {
             "fill": {
              "color": "#C8D4E3"
             },
             "line": {
              "color": "white"
             }
            },
            "type": "table"
           }
          ]
         },
         "layout": {
          "annotationdefaults": {
           "arrowcolor": "#2a3f5f",
           "arrowhead": 0,
           "arrowwidth": 1
          },
          "autotypenumbers": "strict",
          "coloraxis": {
           "colorbar": {
            "outlinewidth": 0,
            "ticks": ""
           }
          },
          "colorscale": {
           "diverging": [
            [
             0,
             "#8e0152"
            ],
            [
             0.1,
             "#c51b7d"
            ],
            [
             0.2,
             "#de77ae"
            ],
            [
             0.3,
             "#f1b6da"
            ],
            [
             0.4,
             "#fde0ef"
            ],
            [
             0.5,
             "#f7f7f7"
            ],
            [
             0.6,
             "#e6f5d0"
            ],
            [
             0.7,
             "#b8e186"
            ],
            [
             0.8,
             "#7fbc41"
            ],
            [
             0.9,
             "#4d9221"
            ],
            [
             1,
             "#276419"
            ]
           ],
           "sequential": [
            [
             0,
             "#0d0887"
            ],
            [
             0.1111111111111111,
             "#46039f"
            ],
            [
             0.2222222222222222,
             "#7201a8"
            ],
            [
             0.3333333333333333,
             "#9c179e"
            ],
            [
             0.4444444444444444,
             "#bd3786"
            ],
            [
             0.5555555555555556,
             "#d8576b"
            ],
            [
             0.6666666666666666,
             "#ed7953"
            ],
            [
             0.7777777777777778,
             "#fb9f3a"
            ],
            [
             0.8888888888888888,
             "#fdca26"
            ],
            [
             1,
             "#f0f921"
            ]
           ],
           "sequentialminus": [
            [
             0,
             "#0d0887"
            ],
            [
             0.1111111111111111,
             "#46039f"
            ],
            [
             0.2222222222222222,
             "#7201a8"
            ],
            [
             0.3333333333333333,
             "#9c179e"
            ],
            [
             0.4444444444444444,
             "#bd3786"
            ],
            [
             0.5555555555555556,
             "#d8576b"
            ],
            [
             0.6666666666666666,
             "#ed7953"
            ],
            [
             0.7777777777777778,
             "#fb9f3a"
            ],
            [
             0.8888888888888888,
             "#fdca26"
            ],
            [
             1,
             "#f0f921"
            ]
           ]
          },
          "colorway": [
           "#636efa",
           "#EF553B",
           "#00cc96",
           "#ab63fa",
           "#FFA15A",
           "#19d3f3",
           "#FF6692",
           "#B6E880",
           "#FF97FF",
           "#FECB52"
          ],
          "font": {
           "color": "#2a3f5f"
          },
          "geo": {
           "bgcolor": "white",
           "lakecolor": "white",
           "landcolor": "#E5ECF6",
           "showlakes": true,
           "showland": true,
           "subunitcolor": "white"
          },
          "hoverlabel": {
           "align": "left"
          },
          "hovermode": "closest",
          "mapbox": {
           "style": "light"
          },
          "paper_bgcolor": "white",
          "plot_bgcolor": "#E5ECF6",
          "polar": {
           "angularaxis": {
            "gridcolor": "white",
            "linecolor": "white",
            "ticks": ""
           },
           "bgcolor": "#E5ECF6",
           "radialaxis": {
            "gridcolor": "white",
            "linecolor": "white",
            "ticks": ""
           }
          },
          "scene": {
           "xaxis": {
            "backgroundcolor": "#E5ECF6",
            "gridcolor": "white",
            "gridwidth": 2,
            "linecolor": "white",
            "showbackground": true,
            "ticks": "",
            "zerolinecolor": "white"
           },
           "yaxis": {
            "backgroundcolor": "#E5ECF6",
            "gridcolor": "white",
            "gridwidth": 2,
            "linecolor": "white",
            "showbackground": true,
            "ticks": "",
            "zerolinecolor": "white"
           },
           "zaxis": {
            "backgroundcolor": "#E5ECF6",
            "gridcolor": "white",
            "gridwidth": 2,
            "linecolor": "white",
            "showbackground": true,
            "ticks": "",
            "zerolinecolor": "white"
           }
          },
          "shapedefaults": {
           "line": {
            "color": "#2a3f5f"
           }
          },
          "ternary": {
           "aaxis": {
            "gridcolor": "white",
            "linecolor": "white",
            "ticks": ""
           },
           "baxis": {
            "gridcolor": "white",
            "linecolor": "white",
            "ticks": ""
           },
           "bgcolor": "#E5ECF6",
           "caxis": {
            "gridcolor": "white",
            "linecolor": "white",
            "ticks": ""
           }
          },
          "title": {
           "x": 0.05
          },
          "xaxis": {
           "automargin": true,
           "gridcolor": "white",
           "linecolor": "white",
           "ticks": "",
           "title": {
            "standoff": 15
           },
           "zerolinecolor": "white",
           "zerolinewidth": 2
          },
          "yaxis": {
           "automargin": true,
           "gridcolor": "white",
           "linecolor": "white",
           "ticks": "",
           "title": {
            "standoff": 15
           },
           "zerolinecolor": "white",
           "zerolinewidth": 2
          }
         }
        },
        "title": {
         "text": "Histogram of mean absolute error for square"
        },
        "xaxis": {
         "anchor": "y",
         "domain": [
          0,
          1
         ],
         "title": {
          "text": "mean_absolute_error"
         }
        },
        "yaxis": {
         "anchor": "x",
         "domain": [
          0,
          1
         ],
         "title": {
          "text": "count"
         }
        }
       }
      }
     },
     "metadata": {},
     "output_type": "display_data"
    }
   ],
   "source": [
    "for pond_type in df['Pond_Type'].unique():\n",
    "    #histogram of meAN absolute error\n",
    "    df_pond = df[df['Pond_Type'] == pond_type]\n",
    "    df_pond['mean_absolute_error'] =abs(df_pond['mean_length'] - df_pond['Length_fov(mm)'])\n",
    "    #histogram of mean absolute error    \n",
    "\n",
    "    #histogram of mean absolute error\n",
    "    fig = px.histogram(df_pond, x='mean_absolute_error', nbins=100, title=f'Histogram of mean absolute error for {pond_type}')\n",
    "    fig.show()"
   ]
  },
  {
   "cell_type": "code",
   "execution_count": 8,
   "metadata": {},
   "outputs": [
    {
     "name": "stdout",
     "output_type": "stream",
     "text": [
      "--------------------------------\n",
      "circle_female\n",
      "median 7.807832365578086 +- 4.106775058561918\n",
      "mean 8.203101028248422 +- 5.5468613593849625\n",
      "--------------------------------\n",
      "--------------------------------\n",
      "circle_male\n",
      "median 14.556762602978901 +- 1.4429349406533483\n",
      "mean 15.827847909661832 +- 2.9561427541917924\n",
      "--------------------------------\n",
      "--------------------------------\n",
      "square\n",
      "median 4.327627866598123 +- 1.725366215639359\n",
      "mean 6.285614980324809 +- 4.378281884544316\n",
      "--------------------------------\n"
     ]
    }
   ],
   "source": [
    "from scipy.stats import median_abs_deviation\n",
    "from pathlib import Path\n",
    "out_root = Path(\"/Users/gilbenor/Library/CloudStorage/OneDrive-Personal/phd/\"\n",
    "                \"paper/images/final images/body\")\n",
    "out_root.mkdir(parents=True, exist_ok=True)\n",
    "for pond_type in df['Pond_Type'].unique():\n",
    "    df_pond = df[df['Pond_Type'] == pond_type]\n",
    "\n",
    "\n",
    "\n",
    "    mean_scale_per_image=df_pond['mean_scale'].groupby(df_pond['Label']).mean()\n",
    "    pred_scale_per_image=df_pond['pred_scale'].groupby(df_pond['Label']).mean()\n",
    "\n",
    "\n",
    "    scale_error_mm=abs((mean_scale_per_image - pred_scale_per_image))/mean_scale_per_image*100\n",
    "    \n",
    "    print('--------------------------------')\n",
    "    print(pond_type)\n",
    "    print('median',scale_error_mm.median(),'+-',median_abs_deviation(scale_error_mm))\n",
    "    print('mean',scale_error_mm.mean(),'+-',scale_error_mm.std())\n",
    "\n",
    "    \n",
    "\n",
    "    print('--------------------------------')\n",
    "\n",
    "\n",
    "    #create plotly histogram of scale_error_mm for each pond_type\n",
    "    fig = px.histogram(scale_error_mm, nbins=100, title=f'Scale Error for {pond_type}')\n",
    "    #save figure to png to the folder \\\n",
    "    fig.write_image(out_root / f'{pond_type}_scale_error_histogram.png')\n"
   ]
  },
  {
   "cell_type": "markdown",
   "metadata": {},
   "source": [
    "## pixel Error ##"
   ]
  },
  {
   "cell_type": "code",
   "execution_count": 9,
   "metadata": {},
   "outputs": [
    {
     "name": "stdout",
     "output_type": "stream",
     "text": [
      "--------------------------------\n",
      "circle_female\n",
      "median 4.737012313721348 +- 2.8113553593609497\n",
      "mean 5.822588800298623 +- 4.545849415137343\n",
      "--------------------------------\n",
      "--------------------------------\n",
      "circle_male\n",
      "median 5.67057780979981 +- 3.291682391067505\n",
      "mean 15.504935566363155 +- 20.84191024519792\n",
      "--------------------------------\n",
      "--------------------------------\n",
      "square\n",
      "median 4.697818771804808 +- 3.7243289287362376\n",
      "mean 6.840472695145681 +- 7.1167482638395665\n",
      "--------------------------------\n"
     ]
    }
   ],
   "source": [
    "from scipy.stats import median_abs_deviation\n",
    "from pathlib import Path\n",
    "out_root = Path(\"/Users/gilbenor/Library/CloudStorage/OneDrive-Personal/phd/\"\n",
    "                \"paper/images/final images/body\")\n",
    "out_root.mkdir(parents=True, exist_ok=True)\n",
    "for pond_type in df['Pond_Type'].unique():\n",
    "    df_pond = df[df['Pond_Type'] == pond_type]\n",
    "\n",
    "\n",
    "    pred_distance_pixels=df_pond['pred_Distance_pixels']\n",
    "    mean_pixels=df_pond['mean_pixels']\n",
    "\n",
    "\n",
    "    pixel_error_mm=abs((mean_pixels - pred_distance_pixels))/mean_pixels*100\n",
    "    \n",
    "    print('--------------------------------')\n",
    "    print(pond_type)\n",
    "    print('median',pixel_error_mm.median(),'+-',median_abs_deviation(pixel_error_mm))\n",
    "    print('mean',pixel_error_mm.mean(),'+-',pixel_error_mm.std())\n",
    "\n",
    "    \n",
    "\n",
    "    print('--------------------------------')\n",
    "\n",
    "\n",
    "    #create plotly histogram of scale_error_mm for each pond_type\n",
    "    fig = px.histogram(pixel_error_mm, nbins=100, title=f'Pixel Error for {pond_type}')\n",
    "\n",
    "    #save figure to png to the folder \\\n",
    "    fig.write_image(out_root / f'{pond_type}_pixel_error_histogram.png')"
   ]
  },
  {
   "cell_type": "code",
   "execution_count": 10,
   "metadata": {},
   "outputs": [
    {
     "name": "stdout",
     "output_type": "stream",
     "text": [
      "--------------------------------\n",
      "circle_female\n",
      "median 3.796597439666977 +- 2.3408258658434464\n",
      "mean 6.130523601020218 +- 12.809222990329499\n",
      "--------------------------------\n",
      "--------------------------------\n",
      "circle_male\n",
      "median 4.035242845762852 +- 2.560592385021737\n",
      "mean 12.51084617567577 +- 20.17469383421467\n",
      "--------------------------------\n",
      "--------------------------------\n",
      "square\n",
      "median 4.614606564582114 +- 2.5462711480590654\n",
      "mean 6.052166946067736 +- 5.434147667252807\n",
      "--------------------------------\n"
     ]
    }
   ],
   "source": [
    "from scipy.stats import median_abs_deviation\n",
    "from pathlib import Path\n",
    "out_root = Path(\"/Users/gilbenor/Library/CloudStorage/OneDrive-Personal/phd/\"\n",
    "                \"paper/images/final images/body\")\n",
    "out_root.mkdir(parents=True, exist_ok=True)\n",
    "for pond_type in df['Pond_Type'].unique():\n",
    "    df_pond = df[df['Pond_Type'] == pond_type]\n",
    "\n",
    "    # df_pond['annotation_pixel_error'] = abs(df_pond['pred_Distance_pixels'] - df_pond['Length_ground_truth_annotation_pixels'])\n",
    "\n",
    "    pred_distance_pixels=df_pond['pred_Distance_pixels']\n",
    "    mean_pixels=df_pond['Length_ground_truth_annotation_pixels']\n",
    "\n",
    "\n",
    "    pixel_error_mm=abs((mean_pixels - pred_distance_pixels))/mean_pixels*100\n",
    "    \n",
    "    print('--------------------------------')\n",
    "    print(pond_type)\n",
    "    print('median',pixel_error_mm.median(),'+-',median_abs_deviation(pixel_error_mm))\n",
    "    print('mean',pixel_error_mm.mean(),'+-',pixel_error_mm.std())\n",
    "\n",
    "    \n",
    "\n",
    "    print('--------------------------------')\n",
    "\n",
    "\n",
    "    #create plotly histogram of scale_error_mm for each pond_type\n",
    "    fig = px.histogram(pixel_error_mm, nbins=100, title=f'Pixel Error for {pond_type}')\n",
    "\n",
    "    #save figure to png to the folder \\\n",
    "    fig.write_image(out_root / f'{pond_type}_pixel__annotation_error_histogram.png')"
   ]
  }
 ],
 "metadata": {
  "kernelspec": {
   "display_name": ".venv",
   "language": "python",
   "name": "python3"
  },
  "language_info": {
   "codemirror_mode": {
    "name": "ipython",
    "version": 3
   },
   "file_extension": ".py",
   "mimetype": "text/x-python",
   "name": "python",
   "nbconvert_exporter": "python",
   "pygments_lexer": "ipython3",
   "version": "3.9.6"
  }
 },
 "nbformat": 4,
 "nbformat_minor": 2
}
