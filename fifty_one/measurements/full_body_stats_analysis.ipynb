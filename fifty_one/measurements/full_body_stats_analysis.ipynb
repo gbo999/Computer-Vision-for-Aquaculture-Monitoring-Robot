{
 "cells": [
  {
   "cell_type": "code",
   "execution_count": 1,
   "metadata": {},
   "outputs": [
    {
     "name": "stdout",
     "output_type": "stream",
     "text": [
      "132\n",
      "118\n"
     ]
    },
    {
     "data": {
      "text/plain": [
       "array(['right', 'left', 'car'], dtype=object)"
      ]
     },
     "execution_count": 1,
     "metadata": {},
     "output_type": "execute_result"
    }
   ],
   "source": [
    "import pandas as pd\n",
    "\n",
    "df=pd.read_excel(r'/Users/gilbenor/Documents/code projects/msc/counting_research_algorithms/fifty_one/measurements/Updated_full_Filtered_Data_with_real_length.xlsx')\n",
    "\n",
    "print(len(df))\n",
    "df=df.dropna()\n",
    "print(len(df))\n",
    "\n",
    "# df['Pond_Type'] = df['Pond_Type'].replace({'test-car': 'square-femal', 'test-right': 'circular big male', 'test-left': 'circular small male'})\n",
    "df['Pond_Type'].unique()"
   ]
  },
  {
   "cell_type": "code",
   "execution_count": 2,
   "metadata": {},
   "outputs": [
    {
     "name": "stdout",
     "output_type": "stream",
     "text": [
      "Before replacement: ['right' 'left' 'car']\n",
      "After replacement: ['circle2' 'circle1' 'square']\n"
     ]
    }
   ],
   "source": [
    "# First, let's see what unique values we have before replacement\n",
    "print(\"Before replacement:\", df['Pond_Type'].unique())\n",
    "\n",
    "# Then do a complete replacement that covers all cases\n",
    "df['Pond_Type'] = df['Pond_Type'].replace({\n",
    "    'car': 'square',\n",
    "    # 'test-right': 'circle2',\n",
    "    'right': 'circle2',  # Added this to handle 'right'\n",
    "    'left': 'circle1',\n",
    "    # 'test-left': 'circle1'\n",
    "})\n",
    "\n",
    "print(\"After replacement:\", df['Pond_Type'].unique())"
   ]
  },
  {
   "cell_type": "code",
   "execution_count": 3,
   "metadata": {},
   "outputs": [
    {
     "data": {
      "text/plain": [
       "array(['circle2', 'circle1', 'square'], dtype=object)"
      ]
     },
     "execution_count": 3,
     "metadata": {},
     "output_type": "execute_result"
    }
   ],
   "source": [
    "# left:circl2 ; right: circl2 ; car: square\n",
    "\n",
    "\n",
    "\n",
    "\n",
    "df['Pond_Type'] = df['Pond_Type'].replace({'car': 'square', 'test-right': 'circl2', 'left': 'circl1'})\n",
    "df['Pond_Type'].unique()"
   ]
  },
  {
   "cell_type": "code",
   "execution_count": 5,
   "metadata": {},
   "outputs": [
    {
     "name": "stdout",
     "output_type": "stream",
     "text": [
      "mean difference between min max 13.794686440677964\n",
      "std  difference between min max  8.681768663300264\n",
      "median difference between min max 12.354000000000006\n"
     ]
    },
    {
     "data": {
      "application/vnd.plotly.v1+json": {
       "config": {
        "plotlyServerURL": "https://plot.ly"
       },
       "data": [
        {
         "alignmentgroup": "True",
         "box": {
          "visible": true
         },
         "customdata": [
          [
           "full body:undistorted_GX010077_14_237.jpg_gamma",
           "Prawn_0"
          ],
          [
           "full body:undistorted_GX010077_14_237.jpg_gamma",
           "Prawn_1"
          ],
          [
           "full body:undistorted_GX010077_14_237.jpg_gamma",
           "Prawn_2"
          ],
          [
           "full body:undistorted_GX010067_33_625.jpg_gamma",
           "Prawn_0"
          ],
          [
           "full body:undistorted_GX010067_33_625.jpg_gamma",
           "Prawn_1"
          ],
          [
           "full body:undistorted_GX010067_33_625.jpg_gamma",
           "Prawn_2"
          ],
          [
           "full body:undistorted_GX010067_33_625.jpg_gamma",
           "Prawn_3"
          ],
          [
           "full body:undistorted_GX010068_26_666.jpg_gamma",
           "Prawn_0"
          ],
          [
           "full body:undistorted_GX010068_26_666.jpg_gamma",
           "Prawn_1"
          ],
          [
           "full body:undistorted_GX010068_26_666.jpg_gamma",
           "Prawn_2"
          ],
          [
           "full body:undistorted_GX010068_27_795.jpg_gamma",
           "Prawn_0"
          ],
          [
           "full body:undistorted_GX010068_27_795.jpg_gamma",
           "Prawn_1"
          ],
          [
           "full body:undistorted_GX010069_19_191.jpg_gamma",
           "Prawn_0"
          ],
          [
           "full body:undistorted_GX010069_19_191.jpg_gamma",
           "Prawn_1"
          ],
          [
           "full body:undistorted_GX010069_19_191.jpg_gamma",
           "Prawn_2"
          ],
          [
           "full body:undistorted_GX010069_19_191.jpg_gamma",
           "Prawn_3"
          ],
          [
           "full body:undistorted_GX010071_22_444.jpg_gamma",
           "Prawn_0"
          ],
          [
           "full body:undistorted_GX010071_22_444.jpg_gamma",
           "Prawn_1"
          ],
          [
           "full body:undistorted_GX010073_42_695.jpg_gamma",
           "Prawn_0"
          ],
          [
           "full body:undistorted_GX010073_42_695.jpg_gamma",
           "Prawn_1"
          ],
          [
           "full body:undistorted_GX010073_42_695.jpg_gamma",
           "Prawn_2"
          ],
          [
           "full body:undistorted_GX010073_55_1014.jpg_gamma",
           "Prawn_0"
          ],
          [
           "full body:undistorted_GX010073_55_1014.jpg_gamma",
           "Prawn_1"
          ],
          [
           "full body:undistorted_GX010073_55_1014.jpg_gamma",
           "Prawn_2"
          ],
          [
           "full body:undistorted_GX010080_157_2283.jpg_gamma",
           "Prawn_0"
          ],
          [
           "full body:undistorted_GX010080_157_2283.jpg_gamma",
           "Prawn_2"
          ],
          [
           "full body:undistorted_GX010080_157_2283.jpg_gamma",
           "Prawn_3"
          ],
          [
           "full body:undistorted_GX010080_193_2640.jpg_gamma",
           "Prawn_0"
          ],
          [
           "full body:undistorted_GX010080_193_2640.jpg_gamma",
           "Prawn_1"
          ],
          [
           "full body:undistorted_GX010080_193_2640.jpg_gamma",
           "Prawn_2"
          ],
          [
           "full body:undistorted_GX010080_193_2640.jpg_gamma",
           "Prawn_3"
          ],
          [
           "full body:undistorted_GX010080_193_2640.jpg_gamma",
           "Prawn_4"
          ],
          [
           "full body:undistorted_GX010080_212_2954.jpg_gamma",
           "Prawn_0"
          ],
          [
           "full body:undistorted_GX010080_212_2954.jpg_gamma",
           "Prawn_1"
          ],
          [
           "full body:undistorted_GX010080_212_2954.jpg_gamma",
           "Prawn_2"
          ],
          [
           "full body:undistorted_GX010080_237_3366.jpg_gamma",
           "Prawn_0"
          ],
          [
           "full body:undistorted_GX010080_237_3366.jpg_gamma",
           "Prawn_1"
          ],
          [
           "full body:undistorted_GX010080_237_3366.jpg_gamma",
           "Prawn_2"
          ],
          [
           "full body:undistorted_GX010080_237_3366.jpg_gamma",
           "Prawn_3"
          ],
          [
           "full body:undistorted_GX010080_237_3366.jpg_gamma",
           "Prawn_4"
          ],
          [
           "full body:undistorted_GX010080_238_3392.jpg_gamma",
           "Prawn_0"
          ],
          [
           "full body:undistorted_GX010080_238_3392.jpg_gamma",
           "Prawn_1"
          ],
          [
           "full body:undistorted_GX010080_238_3392.jpg_gamma",
           "Prawn_2"
          ],
          [
           "full body:undistorted_GX010080_238_3392.jpg_gamma",
           "Prawn_3"
          ],
          [
           "full body:undistorted_GX010082_8_59.jpg_gamma",
           "Prawn_1"
          ],
          [
           "full body:undistorted_GX010082_8_59.jpg_gamma",
           "Prawn_2"
          ],
          [
           "full body:undistorted_GX010082_8_59.jpg_gamma",
           "Prawn_3"
          ],
          [
           "full body:undistorted_GX010082_8_59.jpg_gamma",
           "Prawn_4"
          ],
          [
           "full body:undistorted_GX010082_53_796.jpg_gamma",
           "Prawn_0"
          ],
          [
           "full body:undistorted_GX010082_53_796.jpg_gamma",
           "Prawn_1"
          ],
          [
           "full body:undistorted_GX010082_65_1070.jpg_gamma",
           "Prawn_0"
          ],
          [
           "full body:undistorted_GX010082_65_1070.jpg_gamma",
           "Prawn_1"
          ],
          [
           "full body:undistorted_GX010082_65_1070.jpg_gamma",
           "Prawn_2"
          ],
          [
           "full body:undistorted_GX010082_236_3137.jpg_gamma",
           "Prawn_0"
          ],
          [
           "full body:undistorted_GX010082_236_3137.jpg_gamma",
           "Prawn_1"
          ],
          [
           "full body:undistorted_GX010082_236_3137.jpg_gamma",
           "Prawn_2"
          ],
          [
           "full body:undistorted_GX010084_30_344.jpg_gamma",
           "Prawn_0"
          ],
          [
           "full body:undistorted_GX010084_30_344.jpg_gamma",
           "Prawn_1"
          ],
          [
           "full body:undistorted_GX010084_30_344.jpg_gamma",
           "Prawn_2"
          ],
          [
           "full body:undistorted_GX010084_30_344.jpg_gamma",
           "Prawn_3"
          ],
          [
           "full body:undistorted_GX010084_130_1748.jpg_gamma",
           "Prawn_0"
          ],
          [
           "full body:undistorted_GX010084_130_1748.jpg_gamma",
           "Prawn_1"
          ],
          [
           "full body:undistorted_GX010084_130_1748.jpg_gamma",
           "Prawn_2"
          ],
          [
           "full body:undistorted_GX010085_261_3610.jpg_gamma",
           "Prawn_0"
          ],
          [
           "full body:undistorted_GX010085_261_3610.jpg_gamma",
           "Prawn_1"
          ],
          [
           "full body:undistorted_GX010088_209_2904.jpg_gamma",
           "Prawn_0"
          ],
          [
           "full body:undistorted_GX010088_209_2904.jpg_gamma",
           "Prawn_1"
          ],
          [
           "full body:undistorted_GX010088_262_3712.jpg_gamma",
           "Prawn_0"
          ],
          [
           "full body:undistorted_GX010088_262_3712.jpg_gamma",
           "Prawn_1"
          ],
          [
           "full body:undistorted_GX010088_262_3712.jpg_gamma",
           "Prawn_2"
          ],
          [
           "full body:undistorted_GX010088_327_4364.jpg_gamma",
           "Prawn_0"
          ],
          [
           "full body:undistorted_GX010088_327_4364.jpg_gamma",
           "Prawn_1"
          ],
          [
           "full body:undistorted_GX010088_327_4364.jpg_gamma",
           "Prawn_2"
          ],
          [
           "full body:undistorted_GX010088_327_4364.jpg_gamma",
           "Prawn_3"
          ],
          [
           "full body:undistorted_GX010089_11_236.jpg_gamma",
           "Prawn_0"
          ],
          [
           "full body:undistorted_GX010089_11_236.jpg_gamma",
           "Prawn_1"
          ],
          [
           "full body:undistorted_GX010089_11_236.jpg_gamma",
           "Prawn_2"
          ],
          [
           "full body:undistorted_GX010089_11_236.jpg_gamma",
           "Prawn_3"
          ],
          [
           "full body:undistorted_GX010090_132_1852.jpg_gamma",
           "Prawn_0"
          ],
          [
           "full body:undistorted_GX010091_5_149.jpg_gamma",
           "Prawn_0"
          ],
          [
           "full body:undistorted_GX010091_5_149.jpg_gamma",
           "Prawn_1"
          ],
          [
           "full body:undistorted_GX010091_5_149.jpg_gamma",
           "Prawn_2"
          ],
          [
           "full body:undistorted_GX010094_9_129.jpg_gamma",
           "Prawn_0"
          ],
          [
           "full body:undistorted_GX010094_9_129.jpg_gamma",
           "Prawn_1"
          ],
          [
           "full body:undistorted_GX010094_24_430.jpg_gamma",
           "Prawn_0"
          ],
          [
           "full body:undistorted_GX010094_93_1258.jpg_gamma",
           "Prawn_0"
          ],
          [
           "full body:undistorted_GX010094_163_2312.jpg_gamma",
           "Prawn_0"
          ],
          [
           "full body:undistorted_GX010097_32_528.jpg_gamma",
           "Prawn_0"
          ],
          [
           "full body:undistorted_GX010097_32_528.jpg_gamma",
           "Prawn_1"
          ],
          [
           "full body:undistorted_GX010097_60_1080.jpg_gamma",
           "Prawn_0"
          ],
          [
           "full body:undistorted_GX010097_60_1080.jpg_gamma",
           "Prawn_1"
          ],
          [
           "full body:undistorted_GX010097_60_1080.jpg_gamma",
           "Prawn_2"
          ],
          [
           "full body:undistorted_GX010097_60_1080.jpg_gamma",
           "Prawn_3"
          ],
          [
           "full body:undistorted_GX010097_105_1651.jpg_gamma",
           "Prawn_0"
          ],
          [
           "full body:undistorted_GX010097_105_1651.jpg_gamma",
           "Prawn_1"
          ],
          [
           "full body:undistorted_GX010097_105_1651.jpg_gamma",
           "Prawn_2"
          ],
          [
           "full body:undistorted_GX010097_105_1651.jpg_gamma",
           "Prawn_3"
          ],
          [
           "full body:undistorted_GX010097_124_1870.jpg_gamma",
           "Prawn_0"
          ],
          [
           "full body:undistorted_GX010097_124_1870.jpg_gamma",
           "Prawn_1"
          ],
          [
           "full body:undistorted_GX010101_12_173.jpg_gamma",
           "Prawn_0"
          ],
          [
           "full body:undistorted_GX010102_9_165.jpg_gamma",
           "Prawn_1"
          ],
          [
           "full body:undistorted_GX010102_9_165.jpg_gamma",
           "Prawn_2"
          ],
          [
           "full body:undistorted_GX010102_9_165.jpg_gamma",
           "Prawn_3"
          ],
          [
           "full body:undistorted_GX010102_9_165.jpg_gamma",
           "Prawn_4"
          ],
          [
           "full body:undistorted_GX010102_9_165.jpg_gamma",
           "Prawn_5"
          ],
          [
           "full body:undistorted_GX010102_50_1396.jpg_gamma",
           "Prawn_0"
          ],
          [
           "full body:undistorted_GX010105_28_816.jpg_gamma",
           "Prawn_0"
          ],
          [
           "full body:undistorted_GX010105_28_816.jpg_gamma",
           "Prawn_1"
          ],
          [
           "full body:undistorted_GX010152_36_378.jpg_gamma",
           "Prawn_0"
          ],
          [
           "full body:undistorted_GX010152_36_378.jpg_gamma",
           "Prawn_1"
          ],
          [
           "full body:undistorted_GX010157_160_2259",
           "Prawn_0"
          ],
          [
           "full body:undistorted_GX010157_174_2582.jpg_gamma",
           "Prawn_0"
          ],
          [
           "full body:undistorted_GX010157_177_2665.jpg_gamma",
           "Prawn_0"
          ],
          [
           "full body:undistorted_GX010161_54_676.jpg_gamma.jpg_gamma",
           "Prawn_0"
          ],
          [
           "full body:undistorted_GX010162_72_927.jpg_gamma.jpg_gamma",
           "Prawn_0"
          ],
          [
           "full body:undistorted_GX010183_37_685.jpg_gamma",
           "Prawn_0"
          ],
          [
           "full body:undistorted_GX010183_80_1633.jpg_gamma",
           "Prawn_0"
          ],
          [
           "full body:undistorted_GX010183_128_2852.jpg_gamma",
           "Prawn_0"
          ]
         ],
         "hovertemplate": "Pond_Type=%{x}<br>diff_max_min=%{y}<br>Label=%{customdata[0]}<br>PrawnID=%{customdata[1]}<extra></extra>",
         "legendgroup": "",
         "marker": {
          "color": "#636efa"
         },
         "name": "",
         "offsetgroup": "",
         "orientation": "v",
         "points": "all",
         "scalegroup": "True",
         "showlegend": false,
         "type": "violin",
         "x": [
          "circle2",
          "circle2",
          "circle2",
          "circle2",
          "circle2",
          "circle2",
          "circle2",
          "circle2",
          "circle2",
          "circle2",
          "circle2",
          "circle2",
          "circle2",
          "circle2",
          "circle2",
          "circle2",
          "circle2",
          "circle2",
          "circle2",
          "circle2",
          "circle2",
          "circle2",
          "circle2",
          "circle2",
          "circle2",
          "circle2",
          "circle2",
          "circle2",
          "circle2",
          "circle2",
          "circle2",
          "circle2",
          "circle2",
          "circle2",
          "circle2",
          "circle2",
          "circle2",
          "circle2",
          "circle2",
          "circle2",
          "circle2",
          "circle2",
          "circle2",
          "circle2",
          "circle2",
          "circle2",
          "circle2",
          "circle2",
          "circle2",
          "circle2",
          "circle2",
          "circle2",
          "circle2",
          "circle2",
          "circle2",
          "circle2",
          "circle2",
          "circle2",
          "circle2",
          "circle2",
          "circle2",
          "circle2",
          "circle2",
          "circle2",
          "circle2",
          "circle2",
          "circle2",
          "circle2",
          "circle2",
          "circle2",
          "circle2",
          "circle2",
          "circle2",
          "circle2",
          "circle1",
          "circle1",
          "circle1",
          "circle1",
          "circle2",
          "circle1",
          "circle1",
          "circle1",
          "circle2",
          "circle2",
          "circle2",
          "circle2",
          "circle2",
          "circle2",
          "circle2",
          "circle2",
          "circle2",
          "circle2",
          "circle2",
          "circle2",
          "circle2",
          "circle2",
          "circle2",
          "circle2",
          "circle2",
          "circle2",
          "circle1",
          "circle1",
          "circle1",
          "circle1",
          "circle1",
          "circle1",
          "circle1",
          "circle1",
          "square",
          "square",
          "square",
          "square",
          "square",
          "square",
          "square",
          "square",
          "square",
          "square"
         ],
         "x0": " ",
         "xaxis": "x",
         "y": [
          6.5589999999999975,
          15.022999999999996,
          20.58399999999999,
          20.37100000000001,
          12.359000000000009,
          19.778999999999996,
          15.442000000000007,
          15.587999999999994,
          14.279999999999987,
          7.781000000000006,
          14.713999999999999,
          5.068999999999988,
          11.673000000000002,
          4.125999999999991,
          10.435999999999993,
          4.0319999999999965,
          21.93100000000001,
          22.715000000000003,
          5.935000000000002,
          13.052000000000007,
          29.048000000000002,
          6.549000000000007,
          6.932000000000002,
          2.7349999999999994,
          4.6499999999999915,
          5.9539999999999935,
          2.168999999999997,
          6.111000000000004,
          7.162999999999997,
          8.997,
          11.129999999999995,
          10.560000000000002,
          5.4480000000000075,
          6.822999999999993,
          17.106000000000023,
          6.728999999999985,
          11.543999999999983,
          9.346000000000004,
          15.460000000000008,
          13.295999999999992,
          16.384000000000015,
          5.481999999999999,
          8.849999999999994,
          16.912000000000006,
          17.26400000000001,
          19.744000000000014,
          27.531999999999996,
          16.751999999999995,
          22.265,
          25.727000000000004,
          14.35199999999999,
          1.424999999999983,
          6.475999999999999,
          7.550000000000004,
          11.953999999999994,
          18.735,
          16.242999999999995,
          21.004999999999995,
          20.964,
          20.679000000000016,
          49.33500000000001,
          26.163999999999987,
          50.556,
          7.437000000000012,
          13.682000000000002,
          11.588999999999999,
          30,
          18.123000000000005,
          6.496999999999986,
          4.8629999999999995,
          24.551000000000002,
          25.465999999999994,
          29.26899999999999,
          17.070999999999998,
          7.447999999999993,
          13.055999999999997,
          5.664999999999992,
          6.802999999999997,
          28.076999999999998,
          14.800000000000011,
          23.763999999999996,
          4.761999999999993,
          23.200000000000003,
          19.822000000000003,
          6.548000000000002,
          20.259,
          18.209999999999994,
          17.593000000000004,
          6.284000000000006,
          5.079999999999998,
          6.060000000000002,
          4.805999999999997,
          17.605999999999995,
          4.947000000000017,
          23.055000000000007,
          14.206000000000003,
          5.420000000000002,
          10.331000000000003,
          16.807000000000002,
          11.001000000000005,
          8.495000000000005,
          6.848999999999997,
          3.7830000000000013,
          9.707,
          11.768,
          9.290000000000006,
          9.537000000000006,
          13.771,
          18.689000000000007,
          23.32199999999999,
          6.753,
          18.899,
          29.244000000000014,
          12.349000000000004,
          4.143000000000001,
          1.0559999999999974,
          15.244,
          9.167000000000002
         ],
         "y0": " ",
         "yaxis": "y"
        }
       ],
       "layout": {
        "legend": {
         "tracegroupgap": 0
        },
        "template": {
         "data": {
          "bar": [
           {
            "error_x": {
             "color": "#2a3f5f"
            },
            "error_y": {
             "color": "#2a3f5f"
            },
            "marker": {
             "line": {
              "color": "#E5ECF6",
              "width": 0.5
             },
             "pattern": {
              "fillmode": "overlay",
              "size": 10,
              "solidity": 0.2
             }
            },
            "type": "bar"
           }
          ],
          "barpolar": [
           {
            "marker": {
             "line": {
              "color": "#E5ECF6",
              "width": 0.5
             },
             "pattern": {
              "fillmode": "overlay",
              "size": 10,
              "solidity": 0.2
             }
            },
            "type": "barpolar"
           }
          ],
          "carpet": [
           {
            "aaxis": {
             "endlinecolor": "#2a3f5f",
             "gridcolor": "white",
             "linecolor": "white",
             "minorgridcolor": "white",
             "startlinecolor": "#2a3f5f"
            },
            "baxis": {
             "endlinecolor": "#2a3f5f",
             "gridcolor": "white",
             "linecolor": "white",
             "minorgridcolor": "white",
             "startlinecolor": "#2a3f5f"
            },
            "type": "carpet"
           }
          ],
          "choropleth": [
           {
            "colorbar": {
             "outlinewidth": 0,
             "ticks": ""
            },
            "type": "choropleth"
           }
          ],
          "contour": [
           {
            "colorbar": {
             "outlinewidth": 0,
             "ticks": ""
            },
            "colorscale": [
             [
              0,
              "#0d0887"
             ],
             [
              0.1111111111111111,
              "#46039f"
             ],
             [
              0.2222222222222222,
              "#7201a8"
             ],
             [
              0.3333333333333333,
              "#9c179e"
             ],
             [
              0.4444444444444444,
              "#bd3786"
             ],
             [
              0.5555555555555556,
              "#d8576b"
             ],
             [
              0.6666666666666666,
              "#ed7953"
             ],
             [
              0.7777777777777778,
              "#fb9f3a"
             ],
             [
              0.8888888888888888,
              "#fdca26"
             ],
             [
              1,
              "#f0f921"
             ]
            ],
            "type": "contour"
           }
          ],
          "contourcarpet": [
           {
            "colorbar": {
             "outlinewidth": 0,
             "ticks": ""
            },
            "type": "contourcarpet"
           }
          ],
          "heatmap": [
           {
            "colorbar": {
             "outlinewidth": 0,
             "ticks": ""
            },
            "colorscale": [
             [
              0,
              "#0d0887"
             ],
             [
              0.1111111111111111,
              "#46039f"
             ],
             [
              0.2222222222222222,
              "#7201a8"
             ],
             [
              0.3333333333333333,
              "#9c179e"
             ],
             [
              0.4444444444444444,
              "#bd3786"
             ],
             [
              0.5555555555555556,
              "#d8576b"
             ],
             [
              0.6666666666666666,
              "#ed7953"
             ],
             [
              0.7777777777777778,
              "#fb9f3a"
             ],
             [
              0.8888888888888888,
              "#fdca26"
             ],
             [
              1,
              "#f0f921"
             ]
            ],
            "type": "heatmap"
           }
          ],
          "heatmapgl": [
           {
            "colorbar": {
             "outlinewidth": 0,
             "ticks": ""
            },
            "colorscale": [
             [
              0,
              "#0d0887"
             ],
             [
              0.1111111111111111,
              "#46039f"
             ],
             [
              0.2222222222222222,
              "#7201a8"
             ],
             [
              0.3333333333333333,
              "#9c179e"
             ],
             [
              0.4444444444444444,
              "#bd3786"
             ],
             [
              0.5555555555555556,
              "#d8576b"
             ],
             [
              0.6666666666666666,
              "#ed7953"
             ],
             [
              0.7777777777777778,
              "#fb9f3a"
             ],
             [
              0.8888888888888888,
              "#fdca26"
             ],
             [
              1,
              "#f0f921"
             ]
            ],
            "type": "heatmapgl"
           }
          ],
          "histogram": [
           {
            "marker": {
             "pattern": {
              "fillmode": "overlay",
              "size": 10,
              "solidity": 0.2
             }
            },
            "type": "histogram"
           }
          ],
          "histogram2d": [
           {
            "colorbar": {
             "outlinewidth": 0,
             "ticks": ""
            },
            "colorscale": [
             [
              0,
              "#0d0887"
             ],
             [
              0.1111111111111111,
              "#46039f"
             ],
             [
              0.2222222222222222,
              "#7201a8"
             ],
             [
              0.3333333333333333,
              "#9c179e"
             ],
             [
              0.4444444444444444,
              "#bd3786"
             ],
             [
              0.5555555555555556,
              "#d8576b"
             ],
             [
              0.6666666666666666,
              "#ed7953"
             ],
             [
              0.7777777777777778,
              "#fb9f3a"
             ],
             [
              0.8888888888888888,
              "#fdca26"
             ],
             [
              1,
              "#f0f921"
             ]
            ],
            "type": "histogram2d"
           }
          ],
          "histogram2dcontour": [
           {
            "colorbar": {
             "outlinewidth": 0,
             "ticks": ""
            },
            "colorscale": [
             [
              0,
              "#0d0887"
             ],
             [
              0.1111111111111111,
              "#46039f"
             ],
             [
              0.2222222222222222,
              "#7201a8"
             ],
             [
              0.3333333333333333,
              "#9c179e"
             ],
             [
              0.4444444444444444,
              "#bd3786"
             ],
             [
              0.5555555555555556,
              "#d8576b"
             ],
             [
              0.6666666666666666,
              "#ed7953"
             ],
             [
              0.7777777777777778,
              "#fb9f3a"
             ],
             [
              0.8888888888888888,
              "#fdca26"
             ],
             [
              1,
              "#f0f921"
             ]
            ],
            "type": "histogram2dcontour"
           }
          ],
          "mesh3d": [
           {
            "colorbar": {
             "outlinewidth": 0,
             "ticks": ""
            },
            "type": "mesh3d"
           }
          ],
          "parcoords": [
           {
            "line": {
             "colorbar": {
              "outlinewidth": 0,
              "ticks": ""
             }
            },
            "type": "parcoords"
           }
          ],
          "pie": [
           {
            "automargin": true,
            "type": "pie"
           }
          ],
          "scatter": [
           {
            "fillpattern": {
             "fillmode": "overlay",
             "size": 10,
             "solidity": 0.2
            },
            "type": "scatter"
           }
          ],
          "scatter3d": [
           {
            "line": {
             "colorbar": {
              "outlinewidth": 0,
              "ticks": ""
             }
            },
            "marker": {
             "colorbar": {
              "outlinewidth": 0,
              "ticks": ""
             }
            },
            "type": "scatter3d"
           }
          ],
          "scattercarpet": [
           {
            "marker": {
             "colorbar": {
              "outlinewidth": 0,
              "ticks": ""
             }
            },
            "type": "scattercarpet"
           }
          ],
          "scattergeo": [
           {
            "marker": {
             "colorbar": {
              "outlinewidth": 0,
              "ticks": ""
             }
            },
            "type": "scattergeo"
           }
          ],
          "scattergl": [
           {
            "marker": {
             "colorbar": {
              "outlinewidth": 0,
              "ticks": ""
             }
            },
            "type": "scattergl"
           }
          ],
          "scattermapbox": [
           {
            "marker": {
             "colorbar": {
              "outlinewidth": 0,
              "ticks": ""
             }
            },
            "type": "scattermapbox"
           }
          ],
          "scatterpolar": [
           {
            "marker": {
             "colorbar": {
              "outlinewidth": 0,
              "ticks": ""
             }
            },
            "type": "scatterpolar"
           }
          ],
          "scatterpolargl": [
           {
            "marker": {
             "colorbar": {
              "outlinewidth": 0,
              "ticks": ""
             }
            },
            "type": "scatterpolargl"
           }
          ],
          "scatterternary": [
           {
            "marker": {
             "colorbar": {
              "outlinewidth": 0,
              "ticks": ""
             }
            },
            "type": "scatterternary"
           }
          ],
          "surface": [
           {
            "colorbar": {
             "outlinewidth": 0,
             "ticks": ""
            },
            "colorscale": [
             [
              0,
              "#0d0887"
             ],
             [
              0.1111111111111111,
              "#46039f"
             ],
             [
              0.2222222222222222,
              "#7201a8"
             ],
             [
              0.3333333333333333,
              "#9c179e"
             ],
             [
              0.4444444444444444,
              "#bd3786"
             ],
             [
              0.5555555555555556,
              "#d8576b"
             ],
             [
              0.6666666666666666,
              "#ed7953"
             ],
             [
              0.7777777777777778,
              "#fb9f3a"
             ],
             [
              0.8888888888888888,
              "#fdca26"
             ],
             [
              1,
              "#f0f921"
             ]
            ],
            "type": "surface"
           }
          ],
          "table": [
           {
            "cells": {
             "fill": {
              "color": "#EBF0F8"
             },
             "line": {
              "color": "white"
             }
            },
            "header": {
             "fill": {
              "color": "#C8D4E3"
             },
             "line": {
              "color": "white"
             }
            },
            "type": "table"
           }
          ]
         },
         "layout": {
          "annotationdefaults": {
           "arrowcolor": "#2a3f5f",
           "arrowhead": 0,
           "arrowwidth": 1
          },
          "autotypenumbers": "strict",
          "coloraxis": {
           "colorbar": {
            "outlinewidth": 0,
            "ticks": ""
           }
          },
          "colorscale": {
           "diverging": [
            [
             0,
             "#8e0152"
            ],
            [
             0.1,
             "#c51b7d"
            ],
            [
             0.2,
             "#de77ae"
            ],
            [
             0.3,
             "#f1b6da"
            ],
            [
             0.4,
             "#fde0ef"
            ],
            [
             0.5,
             "#f7f7f7"
            ],
            [
             0.6,
             "#e6f5d0"
            ],
            [
             0.7,
             "#b8e186"
            ],
            [
             0.8,
             "#7fbc41"
            ],
            [
             0.9,
             "#4d9221"
            ],
            [
             1,
             "#276419"
            ]
           ],
           "sequential": [
            [
             0,
             "#0d0887"
            ],
            [
             0.1111111111111111,
             "#46039f"
            ],
            [
             0.2222222222222222,
             "#7201a8"
            ],
            [
             0.3333333333333333,
             "#9c179e"
            ],
            [
             0.4444444444444444,
             "#bd3786"
            ],
            [
             0.5555555555555556,
             "#d8576b"
            ],
            [
             0.6666666666666666,
             "#ed7953"
            ],
            [
             0.7777777777777778,
             "#fb9f3a"
            ],
            [
             0.8888888888888888,
             "#fdca26"
            ],
            [
             1,
             "#f0f921"
            ]
           ],
           "sequentialminus": [
            [
             0,
             "#0d0887"
            ],
            [
             0.1111111111111111,
             "#46039f"
            ],
            [
             0.2222222222222222,
             "#7201a8"
            ],
            [
             0.3333333333333333,
             "#9c179e"
            ],
            [
             0.4444444444444444,
             "#bd3786"
            ],
            [
             0.5555555555555556,
             "#d8576b"
            ],
            [
             0.6666666666666666,
             "#ed7953"
            ],
            [
             0.7777777777777778,
             "#fb9f3a"
            ],
            [
             0.8888888888888888,
             "#fdca26"
            ],
            [
             1,
             "#f0f921"
            ]
           ]
          },
          "colorway": [
           "#636efa",
           "#EF553B",
           "#00cc96",
           "#ab63fa",
           "#FFA15A",
           "#19d3f3",
           "#FF6692",
           "#B6E880",
           "#FF97FF",
           "#FECB52"
          ],
          "font": {
           "color": "#2a3f5f"
          },
          "geo": {
           "bgcolor": "white",
           "lakecolor": "white",
           "landcolor": "#E5ECF6",
           "showlakes": true,
           "showland": true,
           "subunitcolor": "white"
          },
          "hoverlabel": {
           "align": "left"
          },
          "hovermode": "closest",
          "mapbox": {
           "style": "light"
          },
          "paper_bgcolor": "white",
          "plot_bgcolor": "#E5ECF6",
          "polar": {
           "angularaxis": {
            "gridcolor": "white",
            "linecolor": "white",
            "ticks": ""
           },
           "bgcolor": "#E5ECF6",
           "radialaxis": {
            "gridcolor": "white",
            "linecolor": "white",
            "ticks": ""
           }
          },
          "scene": {
           "xaxis": {
            "backgroundcolor": "#E5ECF6",
            "gridcolor": "white",
            "gridwidth": 2,
            "linecolor": "white",
            "showbackground": true,
            "ticks": "",
            "zerolinecolor": "white"
           },
           "yaxis": {
            "backgroundcolor": "#E5ECF6",
            "gridcolor": "white",
            "gridwidth": 2,
            "linecolor": "white",
            "showbackground": true,
            "ticks": "",
            "zerolinecolor": "white"
           },
           "zaxis": {
            "backgroundcolor": "#E5ECF6",
            "gridcolor": "white",
            "gridwidth": 2,
            "linecolor": "white",
            "showbackground": true,
            "ticks": "",
            "zerolinecolor": "white"
           }
          },
          "shapedefaults": {
           "line": {
            "color": "#2a3f5f"
           }
          },
          "ternary": {
           "aaxis": {
            "gridcolor": "white",
            "linecolor": "white",
            "ticks": ""
           },
           "baxis": {
            "gridcolor": "white",
            "linecolor": "white",
            "ticks": ""
           },
           "bgcolor": "#E5ECF6",
           "caxis": {
            "gridcolor": "white",
            "linecolor": "white",
            "ticks": ""
           }
          },
          "title": {
           "x": 0.05
          },
          "xaxis": {
           "automargin": true,
           "gridcolor": "white",
           "linecolor": "white",
           "ticks": "",
           "title": {
            "standoff": 15
           },
           "zerolinecolor": "white",
           "zerolinewidth": 2
          },
          "yaxis": {
           "automargin": true,
           "gridcolor": "white",
           "linecolor": "white",
           "ticks": "",
           "title": {
            "standoff": 15
           },
           "zerolinecolor": "white",
           "zerolinewidth": 2
          }
         }
        },
        "title": {
         "text": "Violin plot of diff_max_min in mm"
        },
        "violinmode": "group",
        "xaxis": {
         "anchor": "y",
         "domain": [
          0,
          1
         ],
         "title": {
          "text": "Pond_Type"
         }
        },
        "yaxis": {
         "anchor": "x",
         "domain": [
          0,
          1
         ],
         "title": {
          "text": "diff_max_min"
         }
        }
       }
      }
     },
     "metadata": {},
     "output_type": "display_data"
    },
    {
     "name": "stdout",
     "output_type": "stream",
     "text": [
      "max mae median:\n",
      "Pond_Type\n",
      "circle1    18.316666\n",
      "circle2    18.473935\n",
      "square     21.475770\n",
      "Name: max_mae, dtype: float64\n",
      "max mpe median:\n",
      "Pond_Type\n",
      "circle1    28.875155\n",
      "circle2    16.338081\n",
      "square     17.982039\n",
      "Name: max_mpe, dtype: float64\n"
     ]
    },
    {
     "data": {
      "application/vnd.plotly.v1+json": {
       "config": {
        "plotlyServerURL": "https://plot.ly"
       },
       "data": [
        {
         "alignmentgroup": "True",
         "box": {
          "visible": true
         },
         "customdata": [
          [
           "full body:undistorted_GX010077_14_237.jpg_gamma",
           "Prawn_0"
          ],
          [
           "full body:undistorted_GX010077_14_237.jpg_gamma",
           "Prawn_1"
          ],
          [
           "full body:undistorted_GX010077_14_237.jpg_gamma",
           "Prawn_2"
          ],
          [
           "full body:undistorted_GX010067_33_625.jpg_gamma",
           "Prawn_0"
          ],
          [
           "full body:undistorted_GX010067_33_625.jpg_gamma",
           "Prawn_1"
          ],
          [
           "full body:undistorted_GX010067_33_625.jpg_gamma",
           "Prawn_2"
          ],
          [
           "full body:undistorted_GX010067_33_625.jpg_gamma",
           "Prawn_3"
          ],
          [
           "full body:undistorted_GX010068_26_666.jpg_gamma",
           "Prawn_0"
          ],
          [
           "full body:undistorted_GX010068_26_666.jpg_gamma",
           "Prawn_1"
          ],
          [
           "full body:undistorted_GX010068_26_666.jpg_gamma",
           "Prawn_2"
          ],
          [
           "full body:undistorted_GX010068_27_795.jpg_gamma",
           "Prawn_0"
          ],
          [
           "full body:undistorted_GX010068_27_795.jpg_gamma",
           "Prawn_1"
          ],
          [
           "full body:undistorted_GX010069_19_191.jpg_gamma",
           "Prawn_0"
          ],
          [
           "full body:undistorted_GX010069_19_191.jpg_gamma",
           "Prawn_1"
          ],
          [
           "full body:undistorted_GX010069_19_191.jpg_gamma",
           "Prawn_2"
          ],
          [
           "full body:undistorted_GX010069_19_191.jpg_gamma",
           "Prawn_3"
          ],
          [
           "full body:undistorted_GX010071_22_444.jpg_gamma",
           "Prawn_0"
          ],
          [
           "full body:undistorted_GX010071_22_444.jpg_gamma",
           "Prawn_1"
          ],
          [
           "full body:undistorted_GX010073_42_695.jpg_gamma",
           "Prawn_0"
          ],
          [
           "full body:undistorted_GX010073_42_695.jpg_gamma",
           "Prawn_1"
          ],
          [
           "full body:undistorted_GX010073_42_695.jpg_gamma",
           "Prawn_2"
          ],
          [
           "full body:undistorted_GX010073_55_1014.jpg_gamma",
           "Prawn_0"
          ],
          [
           "full body:undistorted_GX010073_55_1014.jpg_gamma",
           "Prawn_1"
          ],
          [
           "full body:undistorted_GX010073_55_1014.jpg_gamma",
           "Prawn_2"
          ],
          [
           "full body:undistorted_GX010080_157_2283.jpg_gamma",
           "Prawn_0"
          ],
          [
           "full body:undistorted_GX010080_157_2283.jpg_gamma",
           "Prawn_2"
          ],
          [
           "full body:undistorted_GX010080_157_2283.jpg_gamma",
           "Prawn_3"
          ],
          [
           "full body:undistorted_GX010080_193_2640.jpg_gamma",
           "Prawn_0"
          ],
          [
           "full body:undistorted_GX010080_193_2640.jpg_gamma",
           "Prawn_1"
          ],
          [
           "full body:undistorted_GX010080_193_2640.jpg_gamma",
           "Prawn_2"
          ],
          [
           "full body:undistorted_GX010080_193_2640.jpg_gamma",
           "Prawn_3"
          ],
          [
           "full body:undistorted_GX010080_193_2640.jpg_gamma",
           "Prawn_4"
          ],
          [
           "full body:undistorted_GX010080_212_2954.jpg_gamma",
           "Prawn_0"
          ],
          [
           "full body:undistorted_GX010080_212_2954.jpg_gamma",
           "Prawn_1"
          ],
          [
           "full body:undistorted_GX010080_212_2954.jpg_gamma",
           "Prawn_2"
          ],
          [
           "full body:undistorted_GX010080_237_3366.jpg_gamma",
           "Prawn_0"
          ],
          [
           "full body:undistorted_GX010080_237_3366.jpg_gamma",
           "Prawn_1"
          ],
          [
           "full body:undistorted_GX010080_237_3366.jpg_gamma",
           "Prawn_2"
          ],
          [
           "full body:undistorted_GX010080_237_3366.jpg_gamma",
           "Prawn_3"
          ],
          [
           "full body:undistorted_GX010080_237_3366.jpg_gamma",
           "Prawn_4"
          ],
          [
           "full body:undistorted_GX010080_238_3392.jpg_gamma",
           "Prawn_0"
          ],
          [
           "full body:undistorted_GX010080_238_3392.jpg_gamma",
           "Prawn_1"
          ],
          [
           "full body:undistorted_GX010080_238_3392.jpg_gamma",
           "Prawn_2"
          ],
          [
           "full body:undistorted_GX010080_238_3392.jpg_gamma",
           "Prawn_3"
          ],
          [
           "full body:undistorted_GX010082_8_59.jpg_gamma",
           "Prawn_1"
          ],
          [
           "full body:undistorted_GX010082_8_59.jpg_gamma",
           "Prawn_2"
          ],
          [
           "full body:undistorted_GX010082_8_59.jpg_gamma",
           "Prawn_3"
          ],
          [
           "full body:undistorted_GX010082_8_59.jpg_gamma",
           "Prawn_4"
          ],
          [
           "full body:undistorted_GX010082_53_796.jpg_gamma",
           "Prawn_0"
          ],
          [
           "full body:undistorted_GX010082_53_796.jpg_gamma",
           "Prawn_1"
          ],
          [
           "full body:undistorted_GX010082_65_1070.jpg_gamma",
           "Prawn_0"
          ],
          [
           "full body:undistorted_GX010082_65_1070.jpg_gamma",
           "Prawn_1"
          ],
          [
           "full body:undistorted_GX010082_65_1070.jpg_gamma",
           "Prawn_2"
          ],
          [
           "full body:undistorted_GX010082_236_3137.jpg_gamma",
           "Prawn_0"
          ],
          [
           "full body:undistorted_GX010082_236_3137.jpg_gamma",
           "Prawn_1"
          ],
          [
           "full body:undistorted_GX010082_236_3137.jpg_gamma",
           "Prawn_2"
          ],
          [
           "full body:undistorted_GX010084_30_344.jpg_gamma",
           "Prawn_0"
          ],
          [
           "full body:undistorted_GX010084_30_344.jpg_gamma",
           "Prawn_1"
          ],
          [
           "full body:undistorted_GX010084_30_344.jpg_gamma",
           "Prawn_2"
          ],
          [
           "full body:undistorted_GX010084_30_344.jpg_gamma",
           "Prawn_3"
          ],
          [
           "full body:undistorted_GX010084_130_1748.jpg_gamma",
           "Prawn_0"
          ],
          [
           "full body:undistorted_GX010084_130_1748.jpg_gamma",
           "Prawn_1"
          ],
          [
           "full body:undistorted_GX010084_130_1748.jpg_gamma",
           "Prawn_2"
          ],
          [
           "full body:undistorted_GX010085_261_3610.jpg_gamma",
           "Prawn_0"
          ],
          [
           "full body:undistorted_GX010085_261_3610.jpg_gamma",
           "Prawn_1"
          ],
          [
           "full body:undistorted_GX010088_209_2904.jpg_gamma",
           "Prawn_0"
          ],
          [
           "full body:undistorted_GX010088_209_2904.jpg_gamma",
           "Prawn_1"
          ],
          [
           "full body:undistorted_GX010088_262_3712.jpg_gamma",
           "Prawn_0"
          ],
          [
           "full body:undistorted_GX010088_262_3712.jpg_gamma",
           "Prawn_1"
          ],
          [
           "full body:undistorted_GX010088_262_3712.jpg_gamma",
           "Prawn_2"
          ],
          [
           "full body:undistorted_GX010088_327_4364.jpg_gamma",
           "Prawn_0"
          ],
          [
           "full body:undistorted_GX010088_327_4364.jpg_gamma",
           "Prawn_1"
          ],
          [
           "full body:undistorted_GX010088_327_4364.jpg_gamma",
           "Prawn_2"
          ],
          [
           "full body:undistorted_GX010088_327_4364.jpg_gamma",
           "Prawn_3"
          ],
          [
           "full body:undistorted_GX010089_11_236.jpg_gamma",
           "Prawn_0"
          ],
          [
           "full body:undistorted_GX010089_11_236.jpg_gamma",
           "Prawn_1"
          ],
          [
           "full body:undistorted_GX010089_11_236.jpg_gamma",
           "Prawn_2"
          ],
          [
           "full body:undistorted_GX010089_11_236.jpg_gamma",
           "Prawn_3"
          ],
          [
           "full body:undistorted_GX010090_132_1852.jpg_gamma",
           "Prawn_0"
          ],
          [
           "full body:undistorted_GX010091_5_149.jpg_gamma",
           "Prawn_0"
          ],
          [
           "full body:undistorted_GX010091_5_149.jpg_gamma",
           "Prawn_1"
          ],
          [
           "full body:undistorted_GX010091_5_149.jpg_gamma",
           "Prawn_2"
          ],
          [
           "full body:undistorted_GX010094_9_129.jpg_gamma",
           "Prawn_0"
          ],
          [
           "full body:undistorted_GX010094_9_129.jpg_gamma",
           "Prawn_1"
          ],
          [
           "full body:undistorted_GX010094_24_430.jpg_gamma",
           "Prawn_0"
          ],
          [
           "full body:undistorted_GX010094_93_1258.jpg_gamma",
           "Prawn_0"
          ],
          [
           "full body:undistorted_GX010094_163_2312.jpg_gamma",
           "Prawn_0"
          ],
          [
           "full body:undistorted_GX010097_32_528.jpg_gamma",
           "Prawn_0"
          ],
          [
           "full body:undistorted_GX010097_32_528.jpg_gamma",
           "Prawn_1"
          ],
          [
           "full body:undistorted_GX010097_60_1080.jpg_gamma",
           "Prawn_0"
          ],
          [
           "full body:undistorted_GX010097_60_1080.jpg_gamma",
           "Prawn_1"
          ],
          [
           "full body:undistorted_GX010097_60_1080.jpg_gamma",
           "Prawn_2"
          ],
          [
           "full body:undistorted_GX010097_60_1080.jpg_gamma",
           "Prawn_3"
          ],
          [
           "full body:undistorted_GX010097_105_1651.jpg_gamma",
           "Prawn_0"
          ],
          [
           "full body:undistorted_GX010097_105_1651.jpg_gamma",
           "Prawn_1"
          ],
          [
           "full body:undistorted_GX010097_105_1651.jpg_gamma",
           "Prawn_2"
          ],
          [
           "full body:undistorted_GX010097_105_1651.jpg_gamma",
           "Prawn_3"
          ],
          [
           "full body:undistorted_GX010097_124_1870.jpg_gamma",
           "Prawn_0"
          ],
          [
           "full body:undistorted_GX010097_124_1870.jpg_gamma",
           "Prawn_1"
          ],
          [
           "full body:undistorted_GX010101_12_173.jpg_gamma",
           "Prawn_0"
          ],
          [
           "full body:undistorted_GX010102_9_165.jpg_gamma",
           "Prawn_1"
          ],
          [
           "full body:undistorted_GX010102_9_165.jpg_gamma",
           "Prawn_2"
          ],
          [
           "full body:undistorted_GX010102_9_165.jpg_gamma",
           "Prawn_3"
          ],
          [
           "full body:undistorted_GX010102_9_165.jpg_gamma",
           "Prawn_4"
          ],
          [
           "full body:undistorted_GX010102_9_165.jpg_gamma",
           "Prawn_5"
          ],
          [
           "full body:undistorted_GX010102_50_1396.jpg_gamma",
           "Prawn_0"
          ],
          [
           "full body:undistorted_GX010105_28_816.jpg_gamma",
           "Prawn_0"
          ],
          [
           "full body:undistorted_GX010105_28_816.jpg_gamma",
           "Prawn_1"
          ],
          [
           "full body:undistorted_GX010152_36_378.jpg_gamma",
           "Prawn_0"
          ],
          [
           "full body:undistorted_GX010152_36_378.jpg_gamma",
           "Prawn_1"
          ],
          [
           "full body:undistorted_GX010157_160_2259",
           "Prawn_0"
          ],
          [
           "full body:undistorted_GX010157_174_2582.jpg_gamma",
           "Prawn_0"
          ],
          [
           "full body:undistorted_GX010157_177_2665.jpg_gamma",
           "Prawn_0"
          ],
          [
           "full body:undistorted_GX010161_54_676.jpg_gamma.jpg_gamma",
           "Prawn_0"
          ],
          [
           "full body:undistorted_GX010162_72_927.jpg_gamma.jpg_gamma",
           "Prawn_0"
          ],
          [
           "full body:undistorted_GX010183_37_685.jpg_gamma",
           "Prawn_0"
          ],
          [
           "full body:undistorted_GX010183_80_1633.jpg_gamma",
           "Prawn_0"
          ],
          [
           "full body:undistorted_GX010183_128_2852.jpg_gamma",
           "Prawn_0"
          ]
         ],
         "hovertemplate": "Pond_Type=%{x}<br>min_mpe=%{y}<br>Label=%{customdata[0]}<br>PrawnID=%{customdata[1]}<extra></extra>",
         "legendgroup": "",
         "marker": {
          "color": "#636efa"
         },
         "name": "",
         "offsetgroup": "",
         "orientation": "v",
         "points": "all",
         "scalegroup": "True",
         "showlegend": false,
         "type": "violin",
         "x": [
          "circle2",
          "circle2",
          "circle2",
          "circle2",
          "circle2",
          "circle2",
          "circle2",
          "circle2",
          "circle2",
          "circle2",
          "circle2",
          "circle2",
          "circle2",
          "circle2",
          "circle2",
          "circle2",
          "circle2",
          "circle2",
          "circle2",
          "circle2",
          "circle2",
          "circle2",
          "circle2",
          "circle2",
          "circle2",
          "circle2",
          "circle2",
          "circle2",
          "circle2",
          "circle2",
          "circle2",
          "circle2",
          "circle2",
          "circle2",
          "circle2",
          "circle2",
          "circle2",
          "circle2",
          "circle2",
          "circle2",
          "circle2",
          "circle2",
          "circle2",
          "circle2",
          "circle2",
          "circle2",
          "circle2",
          "circle2",
          "circle2",
          "circle2",
          "circle2",
          "circle2",
          "circle2",
          "circle2",
          "circle2",
          "circle2",
          "circle2",
          "circle2",
          "circle2",
          "circle2",
          "circle2",
          "circle2",
          "circle2",
          "circle2",
          "circle2",
          "circle2",
          "circle2",
          "circle2",
          "circle2",
          "circle2",
          "circle2",
          "circle2",
          "circle2",
          "circle2",
          "circle1",
          "circle1",
          "circle1",
          "circle1",
          "circle2",
          "circle1",
          "circle1",
          "circle1",
          "circle2",
          "circle2",
          "circle2",
          "circle2",
          "circle2",
          "circle2",
          "circle2",
          "circle2",
          "circle2",
          "circle2",
          "circle2",
          "circle2",
          "circle2",
          "circle2",
          "circle2",
          "circle2",
          "circle2",
          "circle2",
          "circle1",
          "circle1",
          "circle1",
          "circle1",
          "circle1",
          "circle1",
          "circle1",
          "circle1",
          "square",
          "square",
          "square",
          "square",
          "square",
          "square",
          "square",
          "square",
          "square",
          "square"
         ],
         "x0": " ",
         "xaxis": "x",
         "y": [
          2.421281423920624,
          2.2790954317047,
          1.179122019301638,
          3.510132463074864,
          0.9755198279251313,
          3.625471722020468,
          2.205593234586201,
          0.06523248358767919,
          5.042126614992075,
          4.767052388956683,
          0.02565665426834002,
          7.688236585513467,
          18.43796571729087,
          11.18815588087889,
          3.322911886317208,
          6.337318377211673,
          2.319287460347061,
          1.746285711809765,
          62.93316684171264,
          2.422148109775333,
          3.917435066320502,
          1.075047956806289,
          2.59767868444,
          0.922582444067986,
          25.45073349182059,
          19.20918956202112,
          18.65618170090691,
          13.03863807970361,
          4.150110840367917,
          3.562880636154706,
          13.43841437983268,
          15.80370395106328,
          17.18534404868834,
          7.028126507821178,
          2.851722723145864,
          14.93815099656425,
          12.27088484036831,
          11.83257909866331,
          0.688980169300416,
          2.646865594832973,
          7.029281841598517,
          7.225437728669133,
          2.555128889665478,
          5.163359210595158,
          1.77003154338152,
          1.989836680049934,
          9.167975316040938,
          17.6234112638086,
          4.609502777871398,
          3.741330353282506,
          15.60922182256982,
          14.49810331251859,
          12.49582063867232,
          24.7618951434397,
          17.93314455797464,
          13.41294620886071,
          2.698506731231324,
          0.1704576269770421,
          2.521872952712725,
          3.379838453001133,
          0.2820507244272805,
          4.805934239091289,
          5.356971871299172,
          1.560638103355613,
          3.892295940284753,
          0.7696765885345112,
          2.353326442557879,
          0.5525362375332652,
          12.81874044870958,
          13.44049015996351,
          1.246885713725414,
          6.322295291766284,
          0.5254408555755563,
          0.7173494063894533,
          23.69981165894639,
          15.43935042392528,
          14.54213834687263,
          8.186518109577346,
          5.140557183125971,
          0.4294508391970701,
          4.531164013136316,
          39.47517904830898,
          8.520227077462623,
          4.552350074558036,
          8.837019026742185,
          0.5169542944963031,
          9.152452503598301,
          10.09161772803296,
          815.8061709705132,
          2.791284333333886,
          1.082340531862296,
          12.63950536455119,
          0.1187305314796829,
          20.92977833941899,
          5.259728374645334,
          19.06930836604963,
          20.64615606727618,
          21.3721571048523,
          11.83683284094256,
          0.222718627644952,
          4.177491142458177,
          17.18872842141741,
          1.297189149957074,
          12.1107620660895,
          8.708100580554262,
          11.76974096517108,
          13.6761400863956,
          18.00150151492652,
          4.686237318032786,
          4.317627593591001,
          9.150874936424188,
          5.623276236853235,
          3.586525924216252,
          14.58555673895297,
          13.86909111176104,
          7.350729467642658,
          0.005931046877302525,
          3.015893443504253
         ],
         "y0": " ",
         "yaxis": "y"
        }
       ],
       "layout": {
        "legend": {
         "tracegroupgap": 0
        },
        "template": {
         "data": {
          "bar": [
           {
            "error_x": {
             "color": "#2a3f5f"
            },
            "error_y": {
             "color": "#2a3f5f"
            },
            "marker": {
             "line": {
              "color": "#E5ECF6",
              "width": 0.5
             },
             "pattern": {
              "fillmode": "overlay",
              "size": 10,
              "solidity": 0.2
             }
            },
            "type": "bar"
           }
          ],
          "barpolar": [
           {
            "marker": {
             "line": {
              "color": "#E5ECF6",
              "width": 0.5
             },
             "pattern": {
              "fillmode": "overlay",
              "size": 10,
              "solidity": 0.2
             }
            },
            "type": "barpolar"
           }
          ],
          "carpet": [
           {
            "aaxis": {
             "endlinecolor": "#2a3f5f",
             "gridcolor": "white",
             "linecolor": "white",
             "minorgridcolor": "white",
             "startlinecolor": "#2a3f5f"
            },
            "baxis": {
             "endlinecolor": "#2a3f5f",
             "gridcolor": "white",
             "linecolor": "white",
             "minorgridcolor": "white",
             "startlinecolor": "#2a3f5f"
            },
            "type": "carpet"
           }
          ],
          "choropleth": [
           {
            "colorbar": {
             "outlinewidth": 0,
             "ticks": ""
            },
            "type": "choropleth"
           }
          ],
          "contour": [
           {
            "colorbar": {
             "outlinewidth": 0,
             "ticks": ""
            },
            "colorscale": [
             [
              0,
              "#0d0887"
             ],
             [
              0.1111111111111111,
              "#46039f"
             ],
             [
              0.2222222222222222,
              "#7201a8"
             ],
             [
              0.3333333333333333,
              "#9c179e"
             ],
             [
              0.4444444444444444,
              "#bd3786"
             ],
             [
              0.5555555555555556,
              "#d8576b"
             ],
             [
              0.6666666666666666,
              "#ed7953"
             ],
             [
              0.7777777777777778,
              "#fb9f3a"
             ],
             [
              0.8888888888888888,
              "#fdca26"
             ],
             [
              1,
              "#f0f921"
             ]
            ],
            "type": "contour"
           }
          ],
          "contourcarpet": [
           {
            "colorbar": {
             "outlinewidth": 0,
             "ticks": ""
            },
            "type": "contourcarpet"
           }
          ],
          "heatmap": [
           {
            "colorbar": {
             "outlinewidth": 0,
             "ticks": ""
            },
            "colorscale": [
             [
              0,
              "#0d0887"
             ],
             [
              0.1111111111111111,
              "#46039f"
             ],
             [
              0.2222222222222222,
              "#7201a8"
             ],
             [
              0.3333333333333333,
              "#9c179e"
             ],
             [
              0.4444444444444444,
              "#bd3786"
             ],
             [
              0.5555555555555556,
              "#d8576b"
             ],
             [
              0.6666666666666666,
              "#ed7953"
             ],
             [
              0.7777777777777778,
              "#fb9f3a"
             ],
             [
              0.8888888888888888,
              "#fdca26"
             ],
             [
              1,
              "#f0f921"
             ]
            ],
            "type": "heatmap"
           }
          ],
          "heatmapgl": [
           {
            "colorbar": {
             "outlinewidth": 0,
             "ticks": ""
            },
            "colorscale": [
             [
              0,
              "#0d0887"
             ],
             [
              0.1111111111111111,
              "#46039f"
             ],
             [
              0.2222222222222222,
              "#7201a8"
             ],
             [
              0.3333333333333333,
              "#9c179e"
             ],
             [
              0.4444444444444444,
              "#bd3786"
             ],
             [
              0.5555555555555556,
              "#d8576b"
             ],
             [
              0.6666666666666666,
              "#ed7953"
             ],
             [
              0.7777777777777778,
              "#fb9f3a"
             ],
             [
              0.8888888888888888,
              "#fdca26"
             ],
             [
              1,
              "#f0f921"
             ]
            ],
            "type": "heatmapgl"
           }
          ],
          "histogram": [
           {
            "marker": {
             "pattern": {
              "fillmode": "overlay",
              "size": 10,
              "solidity": 0.2
             }
            },
            "type": "histogram"
           }
          ],
          "histogram2d": [
           {
            "colorbar": {
             "outlinewidth": 0,
             "ticks": ""
            },
            "colorscale": [
             [
              0,
              "#0d0887"
             ],
             [
              0.1111111111111111,
              "#46039f"
             ],
             [
              0.2222222222222222,
              "#7201a8"
             ],
             [
              0.3333333333333333,
              "#9c179e"
             ],
             [
              0.4444444444444444,
              "#bd3786"
             ],
             [
              0.5555555555555556,
              "#d8576b"
             ],
             [
              0.6666666666666666,
              "#ed7953"
             ],
             [
              0.7777777777777778,
              "#fb9f3a"
             ],
             [
              0.8888888888888888,
              "#fdca26"
             ],
             [
              1,
              "#f0f921"
             ]
            ],
            "type": "histogram2d"
           }
          ],
          "histogram2dcontour": [
           {
            "colorbar": {
             "outlinewidth": 0,
             "ticks": ""
            },
            "colorscale": [
             [
              0,
              "#0d0887"
             ],
             [
              0.1111111111111111,
              "#46039f"
             ],
             [
              0.2222222222222222,
              "#7201a8"
             ],
             [
              0.3333333333333333,
              "#9c179e"
             ],
             [
              0.4444444444444444,
              "#bd3786"
             ],
             [
              0.5555555555555556,
              "#d8576b"
             ],
             [
              0.6666666666666666,
              "#ed7953"
             ],
             [
              0.7777777777777778,
              "#fb9f3a"
             ],
             [
              0.8888888888888888,
              "#fdca26"
             ],
             [
              1,
              "#f0f921"
             ]
            ],
            "type": "histogram2dcontour"
           }
          ],
          "mesh3d": [
           {
            "colorbar": {
             "outlinewidth": 0,
             "ticks": ""
            },
            "type": "mesh3d"
           }
          ],
          "parcoords": [
           {
            "line": {
             "colorbar": {
              "outlinewidth": 0,
              "ticks": ""
             }
            },
            "type": "parcoords"
           }
          ],
          "pie": [
           {
            "automargin": true,
            "type": "pie"
           }
          ],
          "scatter": [
           {
            "fillpattern": {
             "fillmode": "overlay",
             "size": 10,
             "solidity": 0.2
            },
            "type": "scatter"
           }
          ],
          "scatter3d": [
           {
            "line": {
             "colorbar": {
              "outlinewidth": 0,
              "ticks": ""
             }
            },
            "marker": {
             "colorbar": {
              "outlinewidth": 0,
              "ticks": ""
             }
            },
            "type": "scatter3d"
           }
          ],
          "scattercarpet": [
           {
            "marker": {
             "colorbar": {
              "outlinewidth": 0,
              "ticks": ""
             }
            },
            "type": "scattercarpet"
           }
          ],
          "scattergeo": [
           {
            "marker": {
             "colorbar": {
              "outlinewidth": 0,
              "ticks": ""
             }
            },
            "type": "scattergeo"
           }
          ],
          "scattergl": [
           {
            "marker": {
             "colorbar": {
              "outlinewidth": 0,
              "ticks": ""
             }
            },
            "type": "scattergl"
           }
          ],
          "scattermapbox": [
           {
            "marker": {
             "colorbar": {
              "outlinewidth": 0,
              "ticks": ""
             }
            },
            "type": "scattermapbox"
           }
          ],
          "scatterpolar": [
           {
            "marker": {
             "colorbar": {
              "outlinewidth": 0,
              "ticks": ""
             }
            },
            "type": "scatterpolar"
           }
          ],
          "scatterpolargl": [
           {
            "marker": {
             "colorbar": {
              "outlinewidth": 0,
              "ticks": ""
             }
            },
            "type": "scatterpolargl"
           }
          ],
          "scatterternary": [
           {
            "marker": {
             "colorbar": {
              "outlinewidth": 0,
              "ticks": ""
             }
            },
            "type": "scatterternary"
           }
          ],
          "surface": [
           {
            "colorbar": {
             "outlinewidth": 0,
             "ticks": ""
            },
            "colorscale": [
             [
              0,
              "#0d0887"
             ],
             [
              0.1111111111111111,
              "#46039f"
             ],
             [
              0.2222222222222222,
              "#7201a8"
             ],
             [
              0.3333333333333333,
              "#9c179e"
             ],
             [
              0.4444444444444444,
              "#bd3786"
             ],
             [
              0.5555555555555556,
              "#d8576b"
             ],
             [
              0.6666666666666666,
              "#ed7953"
             ],
             [
              0.7777777777777778,
              "#fb9f3a"
             ],
             [
              0.8888888888888888,
              "#fdca26"
             ],
             [
              1,
              "#f0f921"
             ]
            ],
            "type": "surface"
           }
          ],
          "table": [
           {
            "cells": {
             "fill": {
              "color": "#EBF0F8"
             },
             "line": {
              "color": "white"
             }
            },
            "header": {
             "fill": {
              "color": "#C8D4E3"
             },
             "line": {
              "color": "white"
             }
            },
            "type": "table"
           }
          ]
         },
         "layout": {
          "annotationdefaults": {
           "arrowcolor": "#2a3f5f",
           "arrowhead": 0,
           "arrowwidth": 1
          },
          "autotypenumbers": "strict",
          "coloraxis": {
           "colorbar": {
            "outlinewidth": 0,
            "ticks": ""
           }
          },
          "colorscale": {
           "diverging": [
            [
             0,
             "#8e0152"
            ],
            [
             0.1,
             "#c51b7d"
            ],
            [
             0.2,
             "#de77ae"
            ],
            [
             0.3,
             "#f1b6da"
            ],
            [
             0.4,
             "#fde0ef"
            ],
            [
             0.5,
             "#f7f7f7"
            ],
            [
             0.6,
             "#e6f5d0"
            ],
            [
             0.7,
             "#b8e186"
            ],
            [
             0.8,
             "#7fbc41"
            ],
            [
             0.9,
             "#4d9221"
            ],
            [
             1,
             "#276419"
            ]
           ],
           "sequential": [
            [
             0,
             "#0d0887"
            ],
            [
             0.1111111111111111,
             "#46039f"
            ],
            [
             0.2222222222222222,
             "#7201a8"
            ],
            [
             0.3333333333333333,
             "#9c179e"
            ],
            [
             0.4444444444444444,
             "#bd3786"
            ],
            [
             0.5555555555555556,
             "#d8576b"
            ],
            [
             0.6666666666666666,
             "#ed7953"
            ],
            [
             0.7777777777777778,
             "#fb9f3a"
            ],
            [
             0.8888888888888888,
             "#fdca26"
            ],
            [
             1,
             "#f0f921"
            ]
           ],
           "sequentialminus": [
            [
             0,
             "#0d0887"
            ],
            [
             0.1111111111111111,
             "#46039f"
            ],
            [
             0.2222222222222222,
             "#7201a8"
            ],
            [
             0.3333333333333333,
             "#9c179e"
            ],
            [
             0.4444444444444444,
             "#bd3786"
            ],
            [
             0.5555555555555556,
             "#d8576b"
            ],
            [
             0.6666666666666666,
             "#ed7953"
            ],
            [
             0.7777777777777778,
             "#fb9f3a"
            ],
            [
             0.8888888888888888,
             "#fdca26"
            ],
            [
             1,
             "#f0f921"
            ]
           ]
          },
          "colorway": [
           "#636efa",
           "#EF553B",
           "#00cc96",
           "#ab63fa",
           "#FFA15A",
           "#19d3f3",
           "#FF6692",
           "#B6E880",
           "#FF97FF",
           "#FECB52"
          ],
          "font": {
           "color": "#2a3f5f"
          },
          "geo": {
           "bgcolor": "white",
           "lakecolor": "white",
           "landcolor": "#E5ECF6",
           "showlakes": true,
           "showland": true,
           "subunitcolor": "white"
          },
          "hoverlabel": {
           "align": "left"
          },
          "hovermode": "closest",
          "mapbox": {
           "style": "light"
          },
          "paper_bgcolor": "white",
          "plot_bgcolor": "#E5ECF6",
          "polar": {
           "angularaxis": {
            "gridcolor": "white",
            "linecolor": "white",
            "ticks": ""
           },
           "bgcolor": "#E5ECF6",
           "radialaxis": {
            "gridcolor": "white",
            "linecolor": "white",
            "ticks": ""
           }
          },
          "scene": {
           "xaxis": {
            "backgroundcolor": "#E5ECF6",
            "gridcolor": "white",
            "gridwidth": 2,
            "linecolor": "white",
            "showbackground": true,
            "ticks": "",
            "zerolinecolor": "white"
           },
           "yaxis": {
            "backgroundcolor": "#E5ECF6",
            "gridcolor": "white",
            "gridwidth": 2,
            "linecolor": "white",
            "showbackground": true,
            "ticks": "",
            "zerolinecolor": "white"
           },
           "zaxis": {
            "backgroundcolor": "#E5ECF6",
            "gridcolor": "white",
            "gridwidth": 2,
            "linecolor": "white",
            "showbackground": true,
            "ticks": "",
            "zerolinecolor": "white"
           }
          },
          "shapedefaults": {
           "line": {
            "color": "#2a3f5f"
           }
          },
          "ternary": {
           "aaxis": {
            "gridcolor": "white",
            "linecolor": "white",
            "ticks": ""
           },
           "baxis": {
            "gridcolor": "white",
            "linecolor": "white",
            "ticks": ""
           },
           "bgcolor": "#E5ECF6",
           "caxis": {
            "gridcolor": "white",
            "linecolor": "white",
            "ticks": ""
           }
          },
          "title": {
           "x": 0.05
          },
          "xaxis": {
           "automargin": true,
           "gridcolor": "white",
           "linecolor": "white",
           "ticks": "",
           "title": {
            "standoff": 15
           },
           "zerolinecolor": "white",
           "zerolinewidth": 2
          },
          "yaxis": {
           "automargin": true,
           "gridcolor": "white",
           "linecolor": "white",
           "ticks": "",
           "title": {
            "standoff": 15
           },
           "zerolinecolor": "white",
           "zerolinewidth": 2
          }
         }
        },
        "title": {
         "text": "Violin plot of min_mpe in mm"
        },
        "violinmode": "group",
        "xaxis": {
         "anchor": "y",
         "domain": [
          0,
          1
         ],
         "title": {
          "text": "Pond_Type"
         }
        },
        "yaxis": {
         "anchor": "x",
         "domain": [
          0,
          1
         ],
         "title": {
          "text": "min_mpe"
         }
        }
       }
      }
     },
     "metadata": {},
     "output_type": "display_data"
    },
    {
     "data": {
      "application/vnd.plotly.v1+json": {
       "config": {
        "plotlyServerURL": "https://plot.ly"
       },
       "data": [
        {
         "alignmentgroup": "True",
         "box": {
          "visible": true
         },
         "customdata": [
          [
           "full body:undistorted_GX010077_14_237.jpg_gamma",
           "Prawn_0"
          ],
          [
           "full body:undistorted_GX010077_14_237.jpg_gamma",
           "Prawn_1"
          ],
          [
           "full body:undistorted_GX010077_14_237.jpg_gamma",
           "Prawn_2"
          ],
          [
           "full body:undistorted_GX010067_33_625.jpg_gamma",
           "Prawn_0"
          ],
          [
           "full body:undistorted_GX010067_33_625.jpg_gamma",
           "Prawn_1"
          ],
          [
           "full body:undistorted_GX010067_33_625.jpg_gamma",
           "Prawn_2"
          ],
          [
           "full body:undistorted_GX010067_33_625.jpg_gamma",
           "Prawn_3"
          ],
          [
           "full body:undistorted_GX010068_26_666.jpg_gamma",
           "Prawn_0"
          ],
          [
           "full body:undistorted_GX010068_26_666.jpg_gamma",
           "Prawn_1"
          ],
          [
           "full body:undistorted_GX010068_26_666.jpg_gamma",
           "Prawn_2"
          ],
          [
           "full body:undistorted_GX010068_27_795.jpg_gamma",
           "Prawn_0"
          ],
          [
           "full body:undistorted_GX010068_27_795.jpg_gamma",
           "Prawn_1"
          ],
          [
           "full body:undistorted_GX010069_19_191.jpg_gamma",
           "Prawn_0"
          ],
          [
           "full body:undistorted_GX010069_19_191.jpg_gamma",
           "Prawn_1"
          ],
          [
           "full body:undistorted_GX010069_19_191.jpg_gamma",
           "Prawn_2"
          ],
          [
           "full body:undistorted_GX010069_19_191.jpg_gamma",
           "Prawn_3"
          ],
          [
           "full body:undistorted_GX010071_22_444.jpg_gamma",
           "Prawn_0"
          ],
          [
           "full body:undistorted_GX010071_22_444.jpg_gamma",
           "Prawn_1"
          ],
          [
           "full body:undistorted_GX010073_42_695.jpg_gamma",
           "Prawn_0"
          ],
          [
           "full body:undistorted_GX010073_42_695.jpg_gamma",
           "Prawn_1"
          ],
          [
           "full body:undistorted_GX010073_42_695.jpg_gamma",
           "Prawn_2"
          ],
          [
           "full body:undistorted_GX010073_55_1014.jpg_gamma",
           "Prawn_0"
          ],
          [
           "full body:undistorted_GX010073_55_1014.jpg_gamma",
           "Prawn_1"
          ],
          [
           "full body:undistorted_GX010073_55_1014.jpg_gamma",
           "Prawn_2"
          ],
          [
           "full body:undistorted_GX010080_157_2283.jpg_gamma",
           "Prawn_0"
          ],
          [
           "full body:undistorted_GX010080_157_2283.jpg_gamma",
           "Prawn_2"
          ],
          [
           "full body:undistorted_GX010080_157_2283.jpg_gamma",
           "Prawn_3"
          ],
          [
           "full body:undistorted_GX010080_193_2640.jpg_gamma",
           "Prawn_0"
          ],
          [
           "full body:undistorted_GX010080_193_2640.jpg_gamma",
           "Prawn_1"
          ],
          [
           "full body:undistorted_GX010080_193_2640.jpg_gamma",
           "Prawn_2"
          ],
          [
           "full body:undistorted_GX010080_193_2640.jpg_gamma",
           "Prawn_3"
          ],
          [
           "full body:undistorted_GX010080_193_2640.jpg_gamma",
           "Prawn_4"
          ],
          [
           "full body:undistorted_GX010080_212_2954.jpg_gamma",
           "Prawn_0"
          ],
          [
           "full body:undistorted_GX010080_212_2954.jpg_gamma",
           "Prawn_1"
          ],
          [
           "full body:undistorted_GX010080_212_2954.jpg_gamma",
           "Prawn_2"
          ],
          [
           "full body:undistorted_GX010080_237_3366.jpg_gamma",
           "Prawn_0"
          ],
          [
           "full body:undistorted_GX010080_237_3366.jpg_gamma",
           "Prawn_1"
          ],
          [
           "full body:undistorted_GX010080_237_3366.jpg_gamma",
           "Prawn_2"
          ],
          [
           "full body:undistorted_GX010080_237_3366.jpg_gamma",
           "Prawn_3"
          ],
          [
           "full body:undistorted_GX010080_237_3366.jpg_gamma",
           "Prawn_4"
          ],
          [
           "full body:undistorted_GX010080_238_3392.jpg_gamma",
           "Prawn_0"
          ],
          [
           "full body:undistorted_GX010080_238_3392.jpg_gamma",
           "Prawn_1"
          ],
          [
           "full body:undistorted_GX010080_238_3392.jpg_gamma",
           "Prawn_2"
          ],
          [
           "full body:undistorted_GX010080_238_3392.jpg_gamma",
           "Prawn_3"
          ],
          [
           "full body:undistorted_GX010082_8_59.jpg_gamma",
           "Prawn_1"
          ],
          [
           "full body:undistorted_GX010082_8_59.jpg_gamma",
           "Prawn_2"
          ],
          [
           "full body:undistorted_GX010082_8_59.jpg_gamma",
           "Prawn_3"
          ],
          [
           "full body:undistorted_GX010082_8_59.jpg_gamma",
           "Prawn_4"
          ],
          [
           "full body:undistorted_GX010082_53_796.jpg_gamma",
           "Prawn_0"
          ],
          [
           "full body:undistorted_GX010082_53_796.jpg_gamma",
           "Prawn_1"
          ],
          [
           "full body:undistorted_GX010082_65_1070.jpg_gamma",
           "Prawn_0"
          ],
          [
           "full body:undistorted_GX010082_65_1070.jpg_gamma",
           "Prawn_1"
          ],
          [
           "full body:undistorted_GX010082_65_1070.jpg_gamma",
           "Prawn_2"
          ],
          [
           "full body:undistorted_GX010082_236_3137.jpg_gamma",
           "Prawn_0"
          ],
          [
           "full body:undistorted_GX010082_236_3137.jpg_gamma",
           "Prawn_1"
          ],
          [
           "full body:undistorted_GX010082_236_3137.jpg_gamma",
           "Prawn_2"
          ],
          [
           "full body:undistorted_GX010084_30_344.jpg_gamma",
           "Prawn_0"
          ],
          [
           "full body:undistorted_GX010084_30_344.jpg_gamma",
           "Prawn_1"
          ],
          [
           "full body:undistorted_GX010084_30_344.jpg_gamma",
           "Prawn_2"
          ],
          [
           "full body:undistorted_GX010084_30_344.jpg_gamma",
           "Prawn_3"
          ],
          [
           "full body:undistorted_GX010084_130_1748.jpg_gamma",
           "Prawn_0"
          ],
          [
           "full body:undistorted_GX010084_130_1748.jpg_gamma",
           "Prawn_1"
          ],
          [
           "full body:undistorted_GX010084_130_1748.jpg_gamma",
           "Prawn_2"
          ],
          [
           "full body:undistorted_GX010085_261_3610.jpg_gamma",
           "Prawn_0"
          ],
          [
           "full body:undistorted_GX010085_261_3610.jpg_gamma",
           "Prawn_1"
          ],
          [
           "full body:undistorted_GX010088_209_2904.jpg_gamma",
           "Prawn_0"
          ],
          [
           "full body:undistorted_GX010088_209_2904.jpg_gamma",
           "Prawn_1"
          ],
          [
           "full body:undistorted_GX010088_262_3712.jpg_gamma",
           "Prawn_0"
          ],
          [
           "full body:undistorted_GX010088_262_3712.jpg_gamma",
           "Prawn_1"
          ],
          [
           "full body:undistorted_GX010088_262_3712.jpg_gamma",
           "Prawn_2"
          ],
          [
           "full body:undistorted_GX010088_327_4364.jpg_gamma",
           "Prawn_0"
          ],
          [
           "full body:undistorted_GX010088_327_4364.jpg_gamma",
           "Prawn_1"
          ],
          [
           "full body:undistorted_GX010088_327_4364.jpg_gamma",
           "Prawn_2"
          ],
          [
           "full body:undistorted_GX010088_327_4364.jpg_gamma",
           "Prawn_3"
          ],
          [
           "full body:undistorted_GX010089_11_236.jpg_gamma",
           "Prawn_0"
          ],
          [
           "full body:undistorted_GX010089_11_236.jpg_gamma",
           "Prawn_1"
          ],
          [
           "full body:undistorted_GX010089_11_236.jpg_gamma",
           "Prawn_2"
          ],
          [
           "full body:undistorted_GX010089_11_236.jpg_gamma",
           "Prawn_3"
          ],
          [
           "full body:undistorted_GX010090_132_1852.jpg_gamma",
           "Prawn_0"
          ],
          [
           "full body:undistorted_GX010091_5_149.jpg_gamma",
           "Prawn_0"
          ],
          [
           "full body:undistorted_GX010091_5_149.jpg_gamma",
           "Prawn_1"
          ],
          [
           "full body:undistorted_GX010091_5_149.jpg_gamma",
           "Prawn_2"
          ],
          [
           "full body:undistorted_GX010094_9_129.jpg_gamma",
           "Prawn_0"
          ],
          [
           "full body:undistorted_GX010094_9_129.jpg_gamma",
           "Prawn_1"
          ],
          [
           "full body:undistorted_GX010094_24_430.jpg_gamma",
           "Prawn_0"
          ],
          [
           "full body:undistorted_GX010094_93_1258.jpg_gamma",
           "Prawn_0"
          ],
          [
           "full body:undistorted_GX010094_163_2312.jpg_gamma",
           "Prawn_0"
          ],
          [
           "full body:undistorted_GX010097_32_528.jpg_gamma",
           "Prawn_0"
          ],
          [
           "full body:undistorted_GX010097_32_528.jpg_gamma",
           "Prawn_1"
          ],
          [
           "full body:undistorted_GX010097_60_1080.jpg_gamma",
           "Prawn_0"
          ],
          [
           "full body:undistorted_GX010097_60_1080.jpg_gamma",
           "Prawn_1"
          ],
          [
           "full body:undistorted_GX010097_60_1080.jpg_gamma",
           "Prawn_2"
          ],
          [
           "full body:undistorted_GX010097_60_1080.jpg_gamma",
           "Prawn_3"
          ],
          [
           "full body:undistorted_GX010097_105_1651.jpg_gamma",
           "Prawn_0"
          ],
          [
           "full body:undistorted_GX010097_105_1651.jpg_gamma",
           "Prawn_1"
          ],
          [
           "full body:undistorted_GX010097_105_1651.jpg_gamma",
           "Prawn_2"
          ],
          [
           "full body:undistorted_GX010097_105_1651.jpg_gamma",
           "Prawn_3"
          ],
          [
           "full body:undistorted_GX010097_124_1870.jpg_gamma",
           "Prawn_0"
          ],
          [
           "full body:undistorted_GX010097_124_1870.jpg_gamma",
           "Prawn_1"
          ],
          [
           "full body:undistorted_GX010101_12_173.jpg_gamma",
           "Prawn_0"
          ],
          [
           "full body:undistorted_GX010102_9_165.jpg_gamma",
           "Prawn_1"
          ],
          [
           "full body:undistorted_GX010102_9_165.jpg_gamma",
           "Prawn_2"
          ],
          [
           "full body:undistorted_GX010102_9_165.jpg_gamma",
           "Prawn_3"
          ],
          [
           "full body:undistorted_GX010102_9_165.jpg_gamma",
           "Prawn_4"
          ],
          [
           "full body:undistorted_GX010102_9_165.jpg_gamma",
           "Prawn_5"
          ],
          [
           "full body:undistorted_GX010102_50_1396.jpg_gamma",
           "Prawn_0"
          ],
          [
           "full body:undistorted_GX010105_28_816.jpg_gamma",
           "Prawn_0"
          ],
          [
           "full body:undistorted_GX010105_28_816.jpg_gamma",
           "Prawn_1"
          ],
          [
           "full body:undistorted_GX010152_36_378.jpg_gamma",
           "Prawn_0"
          ],
          [
           "full body:undistorted_GX010152_36_378.jpg_gamma",
           "Prawn_1"
          ],
          [
           "full body:undistorted_GX010157_160_2259",
           "Prawn_0"
          ],
          [
           "full body:undistorted_GX010157_174_2582.jpg_gamma",
           "Prawn_0"
          ],
          [
           "full body:undistorted_GX010157_177_2665.jpg_gamma",
           "Prawn_0"
          ],
          [
           "full body:undistorted_GX010161_54_676.jpg_gamma.jpg_gamma",
           "Prawn_0"
          ],
          [
           "full body:undistorted_GX010162_72_927.jpg_gamma.jpg_gamma",
           "Prawn_0"
          ],
          [
           "full body:undistorted_GX010183_37_685.jpg_gamma",
           "Prawn_0"
          ],
          [
           "full body:undistorted_GX010183_80_1633.jpg_gamma",
           "Prawn_0"
          ],
          [
           "full body:undistorted_GX010183_128_2852.jpg_gamma",
           "Prawn_0"
          ]
         ],
         "hovertemplate": "Pond_Type=%{x}<br>min_mae=%{y}<br>Label=%{customdata[0]}<br>PrawnID=%{customdata[1]}<extra></extra>",
         "legendgroup": "",
         "marker": {
          "color": "#636efa"
         },
         "name": "",
         "offsetgroup": "",
         "orientation": "v",
         "points": "all",
         "scalegroup": "True",
         "showlegend": false,
         "type": "violin",
         "x": [
          "circle2",
          "circle2",
          "circle2",
          "circle2",
          "circle2",
          "circle2",
          "circle2",
          "circle2",
          "circle2",
          "circle2",
          "circle2",
          "circle2",
          "circle2",
          "circle2",
          "circle2",
          "circle2",
          "circle2",
          "circle2",
          "circle2",
          "circle2",
          "circle2",
          "circle2",
          "circle2",
          "circle2",
          "circle2",
          "circle2",
          "circle2",
          "circle2",
          "circle2",
          "circle2",
          "circle2",
          "circle2",
          "circle2",
          "circle2",
          "circle2",
          "circle2",
          "circle2",
          "circle2",
          "circle2",
          "circle2",
          "circle2",
          "circle2",
          "circle2",
          "circle2",
          "circle2",
          "circle2",
          "circle2",
          "circle2",
          "circle2",
          "circle2",
          "circle2",
          "circle2",
          "circle2",
          "circle2",
          "circle2",
          "circle2",
          "circle2",
          "circle2",
          "circle2",
          "circle2",
          "circle2",
          "circle2",
          "circle2",
          "circle2",
          "circle2",
          "circle2",
          "circle2",
          "circle2",
          "circle2",
          "circle2",
          "circle2",
          "circle2",
          "circle2",
          "circle2",
          "circle1",
          "circle1",
          "circle1",
          "circle1",
          "circle2",
          "circle1",
          "circle1",
          "circle1",
          "circle2",
          "circle2",
          "circle2",
          "circle2",
          "circle2",
          "circle2",
          "circle2",
          "circle2",
          "circle2",
          "circle2",
          "circle2",
          "circle2",
          "circle2",
          "circle2",
          "circle2",
          "circle2",
          "circle2",
          "circle2",
          "circle1",
          "circle1",
          "circle1",
          "circle1",
          "circle1",
          "circle1",
          "circle1",
          "circle1",
          "square",
          "square",
          "square",
          "square",
          "square",
          "square",
          "square",
          "square",
          "square",
          "square"
         ],
         "x0": " ",
         "xaxis": "x",
         "y": [
          1.92692839559875,
          2.900354055433084,
          1.381836676859976,
          4.71115938664056,
          0.9804071822630362,
          5.477715273514065,
          2.136756669734766,
          0.0774420475407851,
          6.161982936181815,
          6.01759324215169,
          0.03557038547762659,
          10.31745973302736,
          19.83353534243261,
          9.971667691950927,
          3.763064794778785,
          7.273213555158293,
          3.242503026812813,
          2.251224225379559,
          52.17348330678503,
          2.240777659315356,
          5.3557996996214,
          1.259676692908201,
          2.933220840109115,
          0.8833357868973337,
          27.75987854153347,
          19.87747726688383,
          20.47030880950309,
          16.27313302813569,
          4.920371412340202,
          4.290492119670219,
          15.38295294059446,
          18.77638066425828,
          21.78826659868902,
          9.23481766874687,
          4.128182331253186,
          19.9101651742607,
          16.72754750554168,
          11.72620421256633,
          0.8717252694056583,
          4.056427398705324,
          9.090899912920946,
          9.39812685367994,
          2.751235031947303,
          6.893084546144536,
          2.569643293104122,
          2.455557955015621,
          12.33908629810634,
          18.1536997087366,
          3.940479544691144,
          5.386243656406691,
          16.56794022691206,
          18.95511023285306,
          15.01660253611169,
          17.47793606804548,
          21.35963048866685,
          16.60643457172836,
          3.033904132856065,
          0.2174749542261196,
          2.995934630363664,
          4.229090461086727,
          0.3654474826259388,
          5.080064728089056,
          7.965549324028302,
          2.072714677828657,
          4.352287474507605,
          0.8568886427813567,
          3.013928708248301,
          0.7395531778511497,
          18.46616474079308,
          22.35341680464171,
          1.524704319600573,
          7.61412988873289,
          0.5788309009105888,
          0.9073967846242113,
          18.06826241254755,
          11.07248455002225,
          12.38844765770079,
          4.622189989848465,
          7.275636203565512,
          0.2794823116410612,
          4.794741823780456,
          15.45966437068925,
          8.433576368084829,
          5.651378429557838,
          10.47982086381356,
          0.6548983784396967,
          11.56659490047242,
          11.33540961301303,
          826.8766607105831,
          3.240011202760641,
          1.517701187398586,
          13.62715631373722,
          0.1150486976984979,
          27.3162909019093,
          8.36075902976873,
          20.21422964034726,
          21.2440687469845,
          22.5798977028475,
          12.09167985200806,
          0.3551872129956166,
          4.012522017242503,
          8.802519711892067,
          0.7685197118920684,
          8.683779724248154,
          6.548665798588416,
          15.96059263063955,
          8.566187104514746,
          18.54154656037431,
          4.978236765319409,
          5.002662387590149,
          9.600640439549437,
          5.373546539174583,
          3.545173280310038,
          14.39331910113357,
          15.14130283944289,
          7.306919120015507,
          0.00854823993284981,
          3.958601416074814
         ],
         "y0": " ",
         "yaxis": "y"
        }
       ],
       "layout": {
        "legend": {
         "tracegroupgap": 0
        },
        "template": {
         "data": {
          "bar": [
           {
            "error_x": {
             "color": "#2a3f5f"
            },
            "error_y": {
             "color": "#2a3f5f"
            },
            "marker": {
             "line": {
              "color": "#E5ECF6",
              "width": 0.5
             },
             "pattern": {
              "fillmode": "overlay",
              "size": 10,
              "solidity": 0.2
             }
            },
            "type": "bar"
           }
          ],
          "barpolar": [
           {
            "marker": {
             "line": {
              "color": "#E5ECF6",
              "width": 0.5
             },
             "pattern": {
              "fillmode": "overlay",
              "size": 10,
              "solidity": 0.2
             }
            },
            "type": "barpolar"
           }
          ],
          "carpet": [
           {
            "aaxis": {
             "endlinecolor": "#2a3f5f",
             "gridcolor": "white",
             "linecolor": "white",
             "minorgridcolor": "white",
             "startlinecolor": "#2a3f5f"
            },
            "baxis": {
             "endlinecolor": "#2a3f5f",
             "gridcolor": "white",
             "linecolor": "white",
             "minorgridcolor": "white",
             "startlinecolor": "#2a3f5f"
            },
            "type": "carpet"
           }
          ],
          "choropleth": [
           {
            "colorbar": {
             "outlinewidth": 0,
             "ticks": ""
            },
            "type": "choropleth"
           }
          ],
          "contour": [
           {
            "colorbar": {
             "outlinewidth": 0,
             "ticks": ""
            },
            "colorscale": [
             [
              0,
              "#0d0887"
             ],
             [
              0.1111111111111111,
              "#46039f"
             ],
             [
              0.2222222222222222,
              "#7201a8"
             ],
             [
              0.3333333333333333,
              "#9c179e"
             ],
             [
              0.4444444444444444,
              "#bd3786"
             ],
             [
              0.5555555555555556,
              "#d8576b"
             ],
             [
              0.6666666666666666,
              "#ed7953"
             ],
             [
              0.7777777777777778,
              "#fb9f3a"
             ],
             [
              0.8888888888888888,
              "#fdca26"
             ],
             [
              1,
              "#f0f921"
             ]
            ],
            "type": "contour"
           }
          ],
          "contourcarpet": [
           {
            "colorbar": {
             "outlinewidth": 0,
             "ticks": ""
            },
            "type": "contourcarpet"
           }
          ],
          "heatmap": [
           {
            "colorbar": {
             "outlinewidth": 0,
             "ticks": ""
            },
            "colorscale": [
             [
              0,
              "#0d0887"
             ],
             [
              0.1111111111111111,
              "#46039f"
             ],
             [
              0.2222222222222222,
              "#7201a8"
             ],
             [
              0.3333333333333333,
              "#9c179e"
             ],
             [
              0.4444444444444444,
              "#bd3786"
             ],
             [
              0.5555555555555556,
              "#d8576b"
             ],
             [
              0.6666666666666666,
              "#ed7953"
             ],
             [
              0.7777777777777778,
              "#fb9f3a"
             ],
             [
              0.8888888888888888,
              "#fdca26"
             ],
             [
              1,
              "#f0f921"
             ]
            ],
            "type": "heatmap"
           }
          ],
          "heatmapgl": [
           {
            "colorbar": {
             "outlinewidth": 0,
             "ticks": ""
            },
            "colorscale": [
             [
              0,
              "#0d0887"
             ],
             [
              0.1111111111111111,
              "#46039f"
             ],
             [
              0.2222222222222222,
              "#7201a8"
             ],
             [
              0.3333333333333333,
              "#9c179e"
             ],
             [
              0.4444444444444444,
              "#bd3786"
             ],
             [
              0.5555555555555556,
              "#d8576b"
             ],
             [
              0.6666666666666666,
              "#ed7953"
             ],
             [
              0.7777777777777778,
              "#fb9f3a"
             ],
             [
              0.8888888888888888,
              "#fdca26"
             ],
             [
              1,
              "#f0f921"
             ]
            ],
            "type": "heatmapgl"
           }
          ],
          "histogram": [
           {
            "marker": {
             "pattern": {
              "fillmode": "overlay",
              "size": 10,
              "solidity": 0.2
             }
            },
            "type": "histogram"
           }
          ],
          "histogram2d": [
           {
            "colorbar": {
             "outlinewidth": 0,
             "ticks": ""
            },
            "colorscale": [
             [
              0,
              "#0d0887"
             ],
             [
              0.1111111111111111,
              "#46039f"
             ],
             [
              0.2222222222222222,
              "#7201a8"
             ],
             [
              0.3333333333333333,
              "#9c179e"
             ],
             [
              0.4444444444444444,
              "#bd3786"
             ],
             [
              0.5555555555555556,
              "#d8576b"
             ],
             [
              0.6666666666666666,
              "#ed7953"
             ],
             [
              0.7777777777777778,
              "#fb9f3a"
             ],
             [
              0.8888888888888888,
              "#fdca26"
             ],
             [
              1,
              "#f0f921"
             ]
            ],
            "type": "histogram2d"
           }
          ],
          "histogram2dcontour": [
           {
            "colorbar": {
             "outlinewidth": 0,
             "ticks": ""
            },
            "colorscale": [
             [
              0,
              "#0d0887"
             ],
             [
              0.1111111111111111,
              "#46039f"
             ],
             [
              0.2222222222222222,
              "#7201a8"
             ],
             [
              0.3333333333333333,
              "#9c179e"
             ],
             [
              0.4444444444444444,
              "#bd3786"
             ],
             [
              0.5555555555555556,
              "#d8576b"
             ],
             [
              0.6666666666666666,
              "#ed7953"
             ],
             [
              0.7777777777777778,
              "#fb9f3a"
             ],
             [
              0.8888888888888888,
              "#fdca26"
             ],
             [
              1,
              "#f0f921"
             ]
            ],
            "type": "histogram2dcontour"
           }
          ],
          "mesh3d": [
           {
            "colorbar": {
             "outlinewidth": 0,
             "ticks": ""
            },
            "type": "mesh3d"
           }
          ],
          "parcoords": [
           {
            "line": {
             "colorbar": {
              "outlinewidth": 0,
              "ticks": ""
             }
            },
            "type": "parcoords"
           }
          ],
          "pie": [
           {
            "automargin": true,
            "type": "pie"
           }
          ],
          "scatter": [
           {
            "fillpattern": {
             "fillmode": "overlay",
             "size": 10,
             "solidity": 0.2
            },
            "type": "scatter"
           }
          ],
          "scatter3d": [
           {
            "line": {
             "colorbar": {
              "outlinewidth": 0,
              "ticks": ""
             }
            },
            "marker": {
             "colorbar": {
              "outlinewidth": 0,
              "ticks": ""
             }
            },
            "type": "scatter3d"
           }
          ],
          "scattercarpet": [
           {
            "marker": {
             "colorbar": {
              "outlinewidth": 0,
              "ticks": ""
             }
            },
            "type": "scattercarpet"
           }
          ],
          "scattergeo": [
           {
            "marker": {
             "colorbar": {
              "outlinewidth": 0,
              "ticks": ""
             }
            },
            "type": "scattergeo"
           }
          ],
          "scattergl": [
           {
            "marker": {
             "colorbar": {
              "outlinewidth": 0,
              "ticks": ""
             }
            },
            "type": "scattergl"
           }
          ],
          "scattermapbox": [
           {
            "marker": {
             "colorbar": {
              "outlinewidth": 0,
              "ticks": ""
             }
            },
            "type": "scattermapbox"
           }
          ],
          "scatterpolar": [
           {
            "marker": {
             "colorbar": {
              "outlinewidth": 0,
              "ticks": ""
             }
            },
            "type": "scatterpolar"
           }
          ],
          "scatterpolargl": [
           {
            "marker": {
             "colorbar": {
              "outlinewidth": 0,
              "ticks": ""
             }
            },
            "type": "scatterpolargl"
           }
          ],
          "scatterternary": [
           {
            "marker": {
             "colorbar": {
              "outlinewidth": 0,
              "ticks": ""
             }
            },
            "type": "scatterternary"
           }
          ],
          "surface": [
           {
            "colorbar": {
             "outlinewidth": 0,
             "ticks": ""
            },
            "colorscale": [
             [
              0,
              "#0d0887"
             ],
             [
              0.1111111111111111,
              "#46039f"
             ],
             [
              0.2222222222222222,
              "#7201a8"
             ],
             [
              0.3333333333333333,
              "#9c179e"
             ],
             [
              0.4444444444444444,
              "#bd3786"
             ],
             [
              0.5555555555555556,
              "#d8576b"
             ],
             [
              0.6666666666666666,
              "#ed7953"
             ],
             [
              0.7777777777777778,
              "#fb9f3a"
             ],
             [
              0.8888888888888888,
              "#fdca26"
             ],
             [
              1,
              "#f0f921"
             ]
            ],
            "type": "surface"
           }
          ],
          "table": [
           {
            "cells": {
             "fill": {
              "color": "#EBF0F8"
             },
             "line": {
              "color": "white"
             }
            },
            "header": {
             "fill": {
              "color": "#C8D4E3"
             },
             "line": {
              "color": "white"
             }
            },
            "type": "table"
           }
          ]
         },
         "layout": {
          "annotationdefaults": {
           "arrowcolor": "#2a3f5f",
           "arrowhead": 0,
           "arrowwidth": 1
          },
          "autotypenumbers": "strict",
          "coloraxis": {
           "colorbar": {
            "outlinewidth": 0,
            "ticks": ""
           }
          },
          "colorscale": {
           "diverging": [
            [
             0,
             "#8e0152"
            ],
            [
             0.1,
             "#c51b7d"
            ],
            [
             0.2,
             "#de77ae"
            ],
            [
             0.3,
             "#f1b6da"
            ],
            [
             0.4,
             "#fde0ef"
            ],
            [
             0.5,
             "#f7f7f7"
            ],
            [
             0.6,
             "#e6f5d0"
            ],
            [
             0.7,
             "#b8e186"
            ],
            [
             0.8,
             "#7fbc41"
            ],
            [
             0.9,
             "#4d9221"
            ],
            [
             1,
             "#276419"
            ]
           ],
           "sequential": [
            [
             0,
             "#0d0887"
            ],
            [
             0.1111111111111111,
             "#46039f"
            ],
            [
             0.2222222222222222,
             "#7201a8"
            ],
            [
             0.3333333333333333,
             "#9c179e"
            ],
            [
             0.4444444444444444,
             "#bd3786"
            ],
            [
             0.5555555555555556,
             "#d8576b"
            ],
            [
             0.6666666666666666,
             "#ed7953"
            ],
            [
             0.7777777777777778,
             "#fb9f3a"
            ],
            [
             0.8888888888888888,
             "#fdca26"
            ],
            [
             1,
             "#f0f921"
            ]
           ],
           "sequentialminus": [
            [
             0,
             "#0d0887"
            ],
            [
             0.1111111111111111,
             "#46039f"
            ],
            [
             0.2222222222222222,
             "#7201a8"
            ],
            [
             0.3333333333333333,
             "#9c179e"
            ],
            [
             0.4444444444444444,
             "#bd3786"
            ],
            [
             0.5555555555555556,
             "#d8576b"
            ],
            [
             0.6666666666666666,
             "#ed7953"
            ],
            [
             0.7777777777777778,
             "#fb9f3a"
            ],
            [
             0.8888888888888888,
             "#fdca26"
            ],
            [
             1,
             "#f0f921"
            ]
           ]
          },
          "colorway": [
           "#636efa",
           "#EF553B",
           "#00cc96",
           "#ab63fa",
           "#FFA15A",
           "#19d3f3",
           "#FF6692",
           "#B6E880",
           "#FF97FF",
           "#FECB52"
          ],
          "font": {
           "color": "#2a3f5f"
          },
          "geo": {
           "bgcolor": "white",
           "lakecolor": "white",
           "landcolor": "#E5ECF6",
           "showlakes": true,
           "showland": true,
           "subunitcolor": "white"
          },
          "hoverlabel": {
           "align": "left"
          },
          "hovermode": "closest",
          "mapbox": {
           "style": "light"
          },
          "paper_bgcolor": "white",
          "plot_bgcolor": "#E5ECF6",
          "polar": {
           "angularaxis": {
            "gridcolor": "white",
            "linecolor": "white",
            "ticks": ""
           },
           "bgcolor": "#E5ECF6",
           "radialaxis": {
            "gridcolor": "white",
            "linecolor": "white",
            "ticks": ""
           }
          },
          "scene": {
           "xaxis": {
            "backgroundcolor": "#E5ECF6",
            "gridcolor": "white",
            "gridwidth": 2,
            "linecolor": "white",
            "showbackground": true,
            "ticks": "",
            "zerolinecolor": "white"
           },
           "yaxis": {
            "backgroundcolor": "#E5ECF6",
            "gridcolor": "white",
            "gridwidth": 2,
            "linecolor": "white",
            "showbackground": true,
            "ticks": "",
            "zerolinecolor": "white"
           },
           "zaxis": {
            "backgroundcolor": "#E5ECF6",
            "gridcolor": "white",
            "gridwidth": 2,
            "linecolor": "white",
            "showbackground": true,
            "ticks": "",
            "zerolinecolor": "white"
           }
          },
          "shapedefaults": {
           "line": {
            "color": "#2a3f5f"
           }
          },
          "ternary": {
           "aaxis": {
            "gridcolor": "white",
            "linecolor": "white",
            "ticks": ""
           },
           "baxis": {
            "gridcolor": "white",
            "linecolor": "white",
            "ticks": ""
           },
           "bgcolor": "#E5ECF6",
           "caxis": {
            "gridcolor": "white",
            "linecolor": "white",
            "ticks": ""
           }
          },
          "title": {
           "x": 0.05
          },
          "xaxis": {
           "automargin": true,
           "gridcolor": "white",
           "linecolor": "white",
           "ticks": "",
           "title": {
            "standoff": 15
           },
           "zerolinecolor": "white",
           "zerolinewidth": 2
          },
          "yaxis": {
           "automargin": true,
           "gridcolor": "white",
           "linecolor": "white",
           "ticks": "",
           "title": {
            "standoff": 15
           },
           "zerolinecolor": "white",
           "zerolinewidth": 2
          }
         }
        },
        "title": {
         "text": "Violin plot of min_mae in mm"
        },
        "violinmode": "group",
        "xaxis": {
         "anchor": "y",
         "domain": [
          0,
          1
         ],
         "title": {
          "text": "Pond_Type"
         }
        },
        "yaxis": {
         "anchor": "x",
         "domain": [
          0,
          1
         ],
         "title": {
          "text": "min_mae"
         }
        }
       }
      }
     },
     "metadata": {},
     "output_type": "display_data"
    },
    {
     "data": {
      "application/vnd.plotly.v1+json": {
       "config": {
        "plotlyServerURL": "https://plot.ly"
       },
       "data": [
        {
         "alignmentgroup": "True",
         "box": {
          "visible": true
         },
         "customdata": [
          [
           "full body:undistorted_GX010077_14_237.jpg_gamma",
           "Prawn_0"
          ],
          [
           "full body:undistorted_GX010077_14_237.jpg_gamma",
           "Prawn_1"
          ],
          [
           "full body:undistorted_GX010077_14_237.jpg_gamma",
           "Prawn_2"
          ],
          [
           "full body:undistorted_GX010067_33_625.jpg_gamma",
           "Prawn_0"
          ],
          [
           "full body:undistorted_GX010067_33_625.jpg_gamma",
           "Prawn_1"
          ],
          [
           "full body:undistorted_GX010067_33_625.jpg_gamma",
           "Prawn_2"
          ],
          [
           "full body:undistorted_GX010067_33_625.jpg_gamma",
           "Prawn_3"
          ],
          [
           "full body:undistorted_GX010068_26_666.jpg_gamma",
           "Prawn_0"
          ],
          [
           "full body:undistorted_GX010068_26_666.jpg_gamma",
           "Prawn_1"
          ],
          [
           "full body:undistorted_GX010068_26_666.jpg_gamma",
           "Prawn_2"
          ],
          [
           "full body:undistorted_GX010068_27_795.jpg_gamma",
           "Prawn_0"
          ],
          [
           "full body:undistorted_GX010068_27_795.jpg_gamma",
           "Prawn_1"
          ],
          [
           "full body:undistorted_GX010069_19_191.jpg_gamma",
           "Prawn_0"
          ],
          [
           "full body:undistorted_GX010069_19_191.jpg_gamma",
           "Prawn_1"
          ],
          [
           "full body:undistorted_GX010069_19_191.jpg_gamma",
           "Prawn_2"
          ],
          [
           "full body:undistorted_GX010069_19_191.jpg_gamma",
           "Prawn_3"
          ],
          [
           "full body:undistorted_GX010071_22_444.jpg_gamma",
           "Prawn_0"
          ],
          [
           "full body:undistorted_GX010071_22_444.jpg_gamma",
           "Prawn_1"
          ],
          [
           "full body:undistorted_GX010073_42_695.jpg_gamma",
           "Prawn_0"
          ],
          [
           "full body:undistorted_GX010073_42_695.jpg_gamma",
           "Prawn_1"
          ],
          [
           "full body:undistorted_GX010073_42_695.jpg_gamma",
           "Prawn_2"
          ],
          [
           "full body:undistorted_GX010073_55_1014.jpg_gamma",
           "Prawn_0"
          ],
          [
           "full body:undistorted_GX010073_55_1014.jpg_gamma",
           "Prawn_1"
          ],
          [
           "full body:undistorted_GX010073_55_1014.jpg_gamma",
           "Prawn_2"
          ],
          [
           "full body:undistorted_GX010080_157_2283.jpg_gamma",
           "Prawn_0"
          ],
          [
           "full body:undistorted_GX010080_157_2283.jpg_gamma",
           "Prawn_2"
          ],
          [
           "full body:undistorted_GX010080_157_2283.jpg_gamma",
           "Prawn_3"
          ],
          [
           "full body:undistorted_GX010080_193_2640.jpg_gamma",
           "Prawn_0"
          ],
          [
           "full body:undistorted_GX010080_193_2640.jpg_gamma",
           "Prawn_1"
          ],
          [
           "full body:undistorted_GX010080_193_2640.jpg_gamma",
           "Prawn_2"
          ],
          [
           "full body:undistorted_GX010080_193_2640.jpg_gamma",
           "Prawn_3"
          ],
          [
           "full body:undistorted_GX010080_193_2640.jpg_gamma",
           "Prawn_4"
          ],
          [
           "full body:undistorted_GX010080_212_2954.jpg_gamma",
           "Prawn_0"
          ],
          [
           "full body:undistorted_GX010080_212_2954.jpg_gamma",
           "Prawn_1"
          ],
          [
           "full body:undistorted_GX010080_212_2954.jpg_gamma",
           "Prawn_2"
          ],
          [
           "full body:undistorted_GX010080_237_3366.jpg_gamma",
           "Prawn_0"
          ],
          [
           "full body:undistorted_GX010080_237_3366.jpg_gamma",
           "Prawn_1"
          ],
          [
           "full body:undistorted_GX010080_237_3366.jpg_gamma",
           "Prawn_2"
          ],
          [
           "full body:undistorted_GX010080_237_3366.jpg_gamma",
           "Prawn_3"
          ],
          [
           "full body:undistorted_GX010080_237_3366.jpg_gamma",
           "Prawn_4"
          ],
          [
           "full body:undistorted_GX010080_238_3392.jpg_gamma",
           "Prawn_0"
          ],
          [
           "full body:undistorted_GX010080_238_3392.jpg_gamma",
           "Prawn_1"
          ],
          [
           "full body:undistorted_GX010080_238_3392.jpg_gamma",
           "Prawn_2"
          ],
          [
           "full body:undistorted_GX010080_238_3392.jpg_gamma",
           "Prawn_3"
          ],
          [
           "full body:undistorted_GX010082_8_59.jpg_gamma",
           "Prawn_1"
          ],
          [
           "full body:undistorted_GX010082_8_59.jpg_gamma",
           "Prawn_2"
          ],
          [
           "full body:undistorted_GX010082_8_59.jpg_gamma",
           "Prawn_3"
          ],
          [
           "full body:undistorted_GX010082_8_59.jpg_gamma",
           "Prawn_4"
          ],
          [
           "full body:undistorted_GX010082_53_796.jpg_gamma",
           "Prawn_0"
          ],
          [
           "full body:undistorted_GX010082_53_796.jpg_gamma",
           "Prawn_1"
          ],
          [
           "full body:undistorted_GX010082_65_1070.jpg_gamma",
           "Prawn_0"
          ],
          [
           "full body:undistorted_GX010082_65_1070.jpg_gamma",
           "Prawn_1"
          ],
          [
           "full body:undistorted_GX010082_65_1070.jpg_gamma",
           "Prawn_2"
          ],
          [
           "full body:undistorted_GX010082_236_3137.jpg_gamma",
           "Prawn_0"
          ],
          [
           "full body:undistorted_GX010082_236_3137.jpg_gamma",
           "Prawn_1"
          ],
          [
           "full body:undistorted_GX010082_236_3137.jpg_gamma",
           "Prawn_2"
          ],
          [
           "full body:undistorted_GX010084_30_344.jpg_gamma",
           "Prawn_0"
          ],
          [
           "full body:undistorted_GX010084_30_344.jpg_gamma",
           "Prawn_1"
          ],
          [
           "full body:undistorted_GX010084_30_344.jpg_gamma",
           "Prawn_2"
          ],
          [
           "full body:undistorted_GX010084_30_344.jpg_gamma",
           "Prawn_3"
          ],
          [
           "full body:undistorted_GX010084_130_1748.jpg_gamma",
           "Prawn_0"
          ],
          [
           "full body:undistorted_GX010084_130_1748.jpg_gamma",
           "Prawn_1"
          ],
          [
           "full body:undistorted_GX010084_130_1748.jpg_gamma",
           "Prawn_2"
          ],
          [
           "full body:undistorted_GX010085_261_3610.jpg_gamma",
           "Prawn_0"
          ],
          [
           "full body:undistorted_GX010085_261_3610.jpg_gamma",
           "Prawn_1"
          ],
          [
           "full body:undistorted_GX010088_209_2904.jpg_gamma",
           "Prawn_0"
          ],
          [
           "full body:undistorted_GX010088_209_2904.jpg_gamma",
           "Prawn_1"
          ],
          [
           "full body:undistorted_GX010088_262_3712.jpg_gamma",
           "Prawn_0"
          ],
          [
           "full body:undistorted_GX010088_262_3712.jpg_gamma",
           "Prawn_1"
          ],
          [
           "full body:undistorted_GX010088_262_3712.jpg_gamma",
           "Prawn_2"
          ],
          [
           "full body:undistorted_GX010088_327_4364.jpg_gamma",
           "Prawn_0"
          ],
          [
           "full body:undistorted_GX010088_327_4364.jpg_gamma",
           "Prawn_1"
          ],
          [
           "full body:undistorted_GX010088_327_4364.jpg_gamma",
           "Prawn_2"
          ],
          [
           "full body:undistorted_GX010088_327_4364.jpg_gamma",
           "Prawn_3"
          ],
          [
           "full body:undistorted_GX010089_11_236.jpg_gamma",
           "Prawn_0"
          ],
          [
           "full body:undistorted_GX010089_11_236.jpg_gamma",
           "Prawn_1"
          ],
          [
           "full body:undistorted_GX010089_11_236.jpg_gamma",
           "Prawn_2"
          ],
          [
           "full body:undistorted_GX010089_11_236.jpg_gamma",
           "Prawn_3"
          ],
          [
           "full body:undistorted_GX010090_132_1852.jpg_gamma",
           "Prawn_0"
          ],
          [
           "full body:undistorted_GX010091_5_149.jpg_gamma",
           "Prawn_0"
          ],
          [
           "full body:undistorted_GX010091_5_149.jpg_gamma",
           "Prawn_1"
          ],
          [
           "full body:undistorted_GX010091_5_149.jpg_gamma",
           "Prawn_2"
          ],
          [
           "full body:undistorted_GX010094_9_129.jpg_gamma",
           "Prawn_0"
          ],
          [
           "full body:undistorted_GX010094_9_129.jpg_gamma",
           "Prawn_1"
          ],
          [
           "full body:undistorted_GX010094_24_430.jpg_gamma",
           "Prawn_0"
          ],
          [
           "full body:undistorted_GX010094_93_1258.jpg_gamma",
           "Prawn_0"
          ],
          [
           "full body:undistorted_GX010094_163_2312.jpg_gamma",
           "Prawn_0"
          ],
          [
           "full body:undistorted_GX010097_32_528.jpg_gamma",
           "Prawn_0"
          ],
          [
           "full body:undistorted_GX010097_32_528.jpg_gamma",
           "Prawn_1"
          ],
          [
           "full body:undistorted_GX010097_60_1080.jpg_gamma",
           "Prawn_0"
          ],
          [
           "full body:undistorted_GX010097_60_1080.jpg_gamma",
           "Prawn_1"
          ],
          [
           "full body:undistorted_GX010097_60_1080.jpg_gamma",
           "Prawn_2"
          ],
          [
           "full body:undistorted_GX010097_60_1080.jpg_gamma",
           "Prawn_3"
          ],
          [
           "full body:undistorted_GX010097_105_1651.jpg_gamma",
           "Prawn_0"
          ],
          [
           "full body:undistorted_GX010097_105_1651.jpg_gamma",
           "Prawn_1"
          ],
          [
           "full body:undistorted_GX010097_105_1651.jpg_gamma",
           "Prawn_2"
          ],
          [
           "full body:undistorted_GX010097_105_1651.jpg_gamma",
           "Prawn_3"
          ],
          [
           "full body:undistorted_GX010097_124_1870.jpg_gamma",
           "Prawn_0"
          ],
          [
           "full body:undistorted_GX010097_124_1870.jpg_gamma",
           "Prawn_1"
          ],
          [
           "full body:undistorted_GX010101_12_173.jpg_gamma",
           "Prawn_0"
          ],
          [
           "full body:undistorted_GX010102_9_165.jpg_gamma",
           "Prawn_1"
          ],
          [
           "full body:undistorted_GX010102_9_165.jpg_gamma",
           "Prawn_2"
          ],
          [
           "full body:undistorted_GX010102_9_165.jpg_gamma",
           "Prawn_3"
          ],
          [
           "full body:undistorted_GX010102_9_165.jpg_gamma",
           "Prawn_4"
          ],
          [
           "full body:undistorted_GX010102_9_165.jpg_gamma",
           "Prawn_5"
          ],
          [
           "full body:undistorted_GX010102_50_1396.jpg_gamma",
           "Prawn_0"
          ],
          [
           "full body:undistorted_GX010105_28_816.jpg_gamma",
           "Prawn_0"
          ],
          [
           "full body:undistorted_GX010105_28_816.jpg_gamma",
           "Prawn_1"
          ],
          [
           "full body:undistorted_GX010152_36_378.jpg_gamma",
           "Prawn_0"
          ],
          [
           "full body:undistorted_GX010152_36_378.jpg_gamma",
           "Prawn_1"
          ],
          [
           "full body:undistorted_GX010157_160_2259",
           "Prawn_0"
          ],
          [
           "full body:undistorted_GX010157_174_2582.jpg_gamma",
           "Prawn_0"
          ],
          [
           "full body:undistorted_GX010157_177_2665.jpg_gamma",
           "Prawn_0"
          ],
          [
           "full body:undistorted_GX010161_54_676.jpg_gamma.jpg_gamma",
           "Prawn_0"
          ],
          [
           "full body:undistorted_GX010162_72_927.jpg_gamma.jpg_gamma",
           "Prawn_0"
          ],
          [
           "full body:undistorted_GX010183_37_685.jpg_gamma",
           "Prawn_0"
          ],
          [
           "full body:undistorted_GX010183_80_1633.jpg_gamma",
           "Prawn_0"
          ],
          [
           "full body:undistorted_GX010183_128_2852.jpg_gamma",
           "Prawn_0"
          ]
         ],
         "hovertemplate": "Pond_Type=%{x}<br>max_mpe=%{y}<br>Label=%{customdata[0]}<br>PrawnID=%{customdata[1]}<extra></extra>",
         "legendgroup": "",
         "marker": {
          "color": "#636efa"
         },
         "name": "",
         "offsetgroup": "",
         "orientation": "v",
         "points": "all",
         "scalegroup": "True",
         "showlegend": false,
         "type": "violin",
         "x": [
          "circle2",
          "circle2",
          "circle2",
          "circle2",
          "circle2",
          "circle2",
          "circle2",
          "circle2",
          "circle2",
          "circle2",
          "circle2",
          "circle2",
          "circle2",
          "circle2",
          "circle2",
          "circle2",
          "circle2",
          "circle2",
          "circle2",
          "circle2",
          "circle2",
          "circle2",
          "circle2",
          "circle2",
          "circle2",
          "circle2",
          "circle2",
          "circle2",
          "circle2",
          "circle2",
          "circle2",
          "circle2",
          "circle2",
          "circle2",
          "circle2",
          "circle2",
          "circle2",
          "circle2",
          "circle2",
          "circle2",
          "circle2",
          "circle2",
          "circle2",
          "circle2",
          "circle2",
          "circle2",
          "circle2",
          "circle2",
          "circle2",
          "circle2",
          "circle2",
          "circle2",
          "circle2",
          "circle2",
          "circle2",
          "circle2",
          "circle2",
          "circle2",
          "circle2",
          "circle2",
          "circle2",
          "circle2",
          "circle2",
          "circle2",
          "circle2",
          "circle2",
          "circle2",
          "circle2",
          "circle2",
          "circle2",
          "circle2",
          "circle2",
          "circle2",
          "circle2",
          "circle1",
          "circle1",
          "circle1",
          "circle1",
          "circle2",
          "circle1",
          "circle1",
          "circle1",
          "circle2",
          "circle2",
          "circle2",
          "circle2",
          "circle2",
          "circle2",
          "circle2",
          "circle2",
          "circle2",
          "circle2",
          "circle2",
          "circle2",
          "circle2",
          "circle2",
          "circle2",
          "circle2",
          "circle2",
          "circle2",
          "circle1",
          "circle1",
          "circle1",
          "circle1",
          "circle1",
          "circle1",
          "circle1",
          "circle1",
          "square",
          "square",
          "square",
          "square",
          "square",
          "square",
          "square",
          "square",
          "square",
          "square"
         ],
         "x0": " ",
         "xaxis": "x",
         "y": [
          11.62073892911748,
          10.80103170512751,
          22.7370783753519,
          22.0318497840402,
          15.13399648551547,
          10.15157218380605,
          16.33808137611312,
          15.19014248905815,
          18.94003792845529,
          11.64910110606127,
          6.915308764033735,
          11.04817346035123,
          32.85490045719593,
          16.58529628116248,
          13.81097635908839,
          10.20915831812445,
          21.35610012879137,
          15.82517923562148,
          75.49693808697774,
          13.60586753169475,
          12.7772356572911,
          7.058690795849228,
          9.30812930141918,
          3.890223507861794,
          31.03710728626209,
          26.4870312913446,
          21.04905286551354,
          18.85837183067306,
          10.84712461946031,
          11.92505462837803,
          25.65604116566137,
          27.10058259977671,
          22.44697913124632,
          12.890080408386,
          6.387702994264187,
          21.04947664988399,
          22.65802244483403,
          23.47747112981598,
          13.13501650453284,
          12.39831049222289,
          22.55513737918541,
          11.94346715067257,
          11.73917028276984,
          20.41812583297127,
          11.48795389520517,
          9.297215501672799,
          37.24285782163365,
          40.46709218815469,
          21.03632659938706,
          14.09731446107814,
          33.68552154582422,
          15.75980747531495,
          18.90340337573699,
          39.70545430727145,
          31.08977862371268,
          33.63480458698475,
          11.99986820786878,
          19.91262263715412,
          8.98266651444268,
          11.28205254853249,
          34.23292817197432,
          22.48805267426773,
          35.04409430570163,
          7.585016692186376,
          14.36995017889052,
          10.75987182653109,
          33.66329364261433,
          7.661100636035215,
          16.5809812762237,
          15.8995757634739,
          14.7634707772888,
          10.52975545271846,
          14.9805037501594,
          12.52291436893943,
          37.09298213773447,
          41.13277284354287,
          22.70160032405003,
          23.00775301028729,
          31.15950201712148,
          18.8779057219558,
          23.11829936287466,
          58.78219926946669,
          41.74231208593594,
          13.58380135203429,
          15.19771234341904,
          18.4205793954055,
          27.52835421198001,
          30.53710426573178,
          876.337825366385,
          7.495775706116111,
          3.385631624430859,
          17.89487837229847,
          14.75586775074581,
          25.69408435489365,
          23.11631018429964,
          37.49562042783857,
          27.35449623187708,
          34.52674958334821,
          33.86061426664174,
          7.648448724715358,
          14.28516836909236,
          35.28136628621807,
          4.602648727698633,
          29.66446177857951,
          28.8751549619895,
          19.98986092975574,
          34.09327313982326,
          36.21305467995194,
          18.94591479772608,
          20.34993130700214,
          14.64487627570068,
          21.20650940884393,
          20.0629448748858,
          30.97577878810371,
          17.01816410696008,
          8.324625841146233,
          11.83441434474124,
          9.347054595744927
         ],
         "y0": " ",
         "yaxis": "y"
        }
       ],
       "layout": {
        "legend": {
         "tracegroupgap": 0
        },
        "template": {
         "data": {
          "bar": [
           {
            "error_x": {
             "color": "#2a3f5f"
            },
            "error_y": {
             "color": "#2a3f5f"
            },
            "marker": {
             "line": {
              "color": "#E5ECF6",
              "width": 0.5
             },
             "pattern": {
              "fillmode": "overlay",
              "size": 10,
              "solidity": 0.2
             }
            },
            "type": "bar"
           }
          ],
          "barpolar": [
           {
            "marker": {
             "line": {
              "color": "#E5ECF6",
              "width": 0.5
             },
             "pattern": {
              "fillmode": "overlay",
              "size": 10,
              "solidity": 0.2
             }
            },
            "type": "barpolar"
           }
          ],
          "carpet": [
           {
            "aaxis": {
             "endlinecolor": "#2a3f5f",
             "gridcolor": "white",
             "linecolor": "white",
             "minorgridcolor": "white",
             "startlinecolor": "#2a3f5f"
            },
            "baxis": {
             "endlinecolor": "#2a3f5f",
             "gridcolor": "white",
             "linecolor": "white",
             "minorgridcolor": "white",
             "startlinecolor": "#2a3f5f"
            },
            "type": "carpet"
           }
          ],
          "choropleth": [
           {
            "colorbar": {
             "outlinewidth": 0,
             "ticks": ""
            },
            "type": "choropleth"
           }
          ],
          "contour": [
           {
            "colorbar": {
             "outlinewidth": 0,
             "ticks": ""
            },
            "colorscale": [
             [
              0,
              "#0d0887"
             ],
             [
              0.1111111111111111,
              "#46039f"
             ],
             [
              0.2222222222222222,
              "#7201a8"
             ],
             [
              0.3333333333333333,
              "#9c179e"
             ],
             [
              0.4444444444444444,
              "#bd3786"
             ],
             [
              0.5555555555555556,
              "#d8576b"
             ],
             [
              0.6666666666666666,
              "#ed7953"
             ],
             [
              0.7777777777777778,
              "#fb9f3a"
             ],
             [
              0.8888888888888888,
              "#fdca26"
             ],
             [
              1,
              "#f0f921"
             ]
            ],
            "type": "contour"
           }
          ],
          "contourcarpet": [
           {
            "colorbar": {
             "outlinewidth": 0,
             "ticks": ""
            },
            "type": "contourcarpet"
           }
          ],
          "heatmap": [
           {
            "colorbar": {
             "outlinewidth": 0,
             "ticks": ""
            },
            "colorscale": [
             [
              0,
              "#0d0887"
             ],
             [
              0.1111111111111111,
              "#46039f"
             ],
             [
              0.2222222222222222,
              "#7201a8"
             ],
             [
              0.3333333333333333,
              "#9c179e"
             ],
             [
              0.4444444444444444,
              "#bd3786"
             ],
             [
              0.5555555555555556,
              "#d8576b"
             ],
             [
              0.6666666666666666,
              "#ed7953"
             ],
             [
              0.7777777777777778,
              "#fb9f3a"
             ],
             [
              0.8888888888888888,
              "#fdca26"
             ],
             [
              1,
              "#f0f921"
             ]
            ],
            "type": "heatmap"
           }
          ],
          "heatmapgl": [
           {
            "colorbar": {
             "outlinewidth": 0,
             "ticks": ""
            },
            "colorscale": [
             [
              0,
              "#0d0887"
             ],
             [
              0.1111111111111111,
              "#46039f"
             ],
             [
              0.2222222222222222,
              "#7201a8"
             ],
             [
              0.3333333333333333,
              "#9c179e"
             ],
             [
              0.4444444444444444,
              "#bd3786"
             ],
             [
              0.5555555555555556,
              "#d8576b"
             ],
             [
              0.6666666666666666,
              "#ed7953"
             ],
             [
              0.7777777777777778,
              "#fb9f3a"
             ],
             [
              0.8888888888888888,
              "#fdca26"
             ],
             [
              1,
              "#f0f921"
             ]
            ],
            "type": "heatmapgl"
           }
          ],
          "histogram": [
           {
            "marker": {
             "pattern": {
              "fillmode": "overlay",
              "size": 10,
              "solidity": 0.2
             }
            },
            "type": "histogram"
           }
          ],
          "histogram2d": [
           {
            "colorbar": {
             "outlinewidth": 0,
             "ticks": ""
            },
            "colorscale": [
             [
              0,
              "#0d0887"
             ],
             [
              0.1111111111111111,
              "#46039f"
             ],
             [
              0.2222222222222222,
              "#7201a8"
             ],
             [
              0.3333333333333333,
              "#9c179e"
             ],
             [
              0.4444444444444444,
              "#bd3786"
             ],
             [
              0.5555555555555556,
              "#d8576b"
             ],
             [
              0.6666666666666666,
              "#ed7953"
             ],
             [
              0.7777777777777778,
              "#fb9f3a"
             ],
             [
              0.8888888888888888,
              "#fdca26"
             ],
             [
              1,
              "#f0f921"
             ]
            ],
            "type": "histogram2d"
           }
          ],
          "histogram2dcontour": [
           {
            "colorbar": {
             "outlinewidth": 0,
             "ticks": ""
            },
            "colorscale": [
             [
              0,
              "#0d0887"
             ],
             [
              0.1111111111111111,
              "#46039f"
             ],
             [
              0.2222222222222222,
              "#7201a8"
             ],
             [
              0.3333333333333333,
              "#9c179e"
             ],
             [
              0.4444444444444444,
              "#bd3786"
             ],
             [
              0.5555555555555556,
              "#d8576b"
             ],
             [
              0.6666666666666666,
              "#ed7953"
             ],
             [
              0.7777777777777778,
              "#fb9f3a"
             ],
             [
              0.8888888888888888,
              "#fdca26"
             ],
             [
              1,
              "#f0f921"
             ]
            ],
            "type": "histogram2dcontour"
           }
          ],
          "mesh3d": [
           {
            "colorbar": {
             "outlinewidth": 0,
             "ticks": ""
            },
            "type": "mesh3d"
           }
          ],
          "parcoords": [
           {
            "line": {
             "colorbar": {
              "outlinewidth": 0,
              "ticks": ""
             }
            },
            "type": "parcoords"
           }
          ],
          "pie": [
           {
            "automargin": true,
            "type": "pie"
           }
          ],
          "scatter": [
           {
            "fillpattern": {
             "fillmode": "overlay",
             "size": 10,
             "solidity": 0.2
            },
            "type": "scatter"
           }
          ],
          "scatter3d": [
           {
            "line": {
             "colorbar": {
              "outlinewidth": 0,
              "ticks": ""
             }
            },
            "marker": {
             "colorbar": {
              "outlinewidth": 0,
              "ticks": ""
             }
            },
            "type": "scatter3d"
           }
          ],
          "scattercarpet": [
           {
            "marker": {
             "colorbar": {
              "outlinewidth": 0,
              "ticks": ""
             }
            },
            "type": "scattercarpet"
           }
          ],
          "scattergeo": [
           {
            "marker": {
             "colorbar": {
              "outlinewidth": 0,
              "ticks": ""
             }
            },
            "type": "scattergeo"
           }
          ],
          "scattergl": [
           {
            "marker": {
             "colorbar": {
              "outlinewidth": 0,
              "ticks": ""
             }
            },
            "type": "scattergl"
           }
          ],
          "scattermapbox": [
           {
            "marker": {
             "colorbar": {
              "outlinewidth": 0,
              "ticks": ""
             }
            },
            "type": "scattermapbox"
           }
          ],
          "scatterpolar": [
           {
            "marker": {
             "colorbar": {
              "outlinewidth": 0,
              "ticks": ""
             }
            },
            "type": "scatterpolar"
           }
          ],
          "scatterpolargl": [
           {
            "marker": {
             "colorbar": {
              "outlinewidth": 0,
              "ticks": ""
             }
            },
            "type": "scatterpolargl"
           }
          ],
          "scatterternary": [
           {
            "marker": {
             "colorbar": {
              "outlinewidth": 0,
              "ticks": ""
             }
            },
            "type": "scatterternary"
           }
          ],
          "surface": [
           {
            "colorbar": {
             "outlinewidth": 0,
             "ticks": ""
            },
            "colorscale": [
             [
              0,
              "#0d0887"
             ],
             [
              0.1111111111111111,
              "#46039f"
             ],
             [
              0.2222222222222222,
              "#7201a8"
             ],
             [
              0.3333333333333333,
              "#9c179e"
             ],
             [
              0.4444444444444444,
              "#bd3786"
             ],
             [
              0.5555555555555556,
              "#d8576b"
             ],
             [
              0.6666666666666666,
              "#ed7953"
             ],
             [
              0.7777777777777778,
              "#fb9f3a"
             ],
             [
              0.8888888888888888,
              "#fdca26"
             ],
             [
              1,
              "#f0f921"
             ]
            ],
            "type": "surface"
           }
          ],
          "table": [
           {
            "cells": {
             "fill": {
              "color": "#EBF0F8"
             },
             "line": {
              "color": "white"
             }
            },
            "header": {
             "fill": {
              "color": "#C8D4E3"
             },
             "line": {
              "color": "white"
             }
            },
            "type": "table"
           }
          ]
         },
         "layout": {
          "annotationdefaults": {
           "arrowcolor": "#2a3f5f",
           "arrowhead": 0,
           "arrowwidth": 1
          },
          "autotypenumbers": "strict",
          "coloraxis": {
           "colorbar": {
            "outlinewidth": 0,
            "ticks": ""
           }
          },
          "colorscale": {
           "diverging": [
            [
             0,
             "#8e0152"
            ],
            [
             0.1,
             "#c51b7d"
            ],
            [
             0.2,
             "#de77ae"
            ],
            [
             0.3,
             "#f1b6da"
            ],
            [
             0.4,
             "#fde0ef"
            ],
            [
             0.5,
             "#f7f7f7"
            ],
            [
             0.6,
             "#e6f5d0"
            ],
            [
             0.7,
             "#b8e186"
            ],
            [
             0.8,
             "#7fbc41"
            ],
            [
             0.9,
             "#4d9221"
            ],
            [
             1,
             "#276419"
            ]
           ],
           "sequential": [
            [
             0,
             "#0d0887"
            ],
            [
             0.1111111111111111,
             "#46039f"
            ],
            [
             0.2222222222222222,
             "#7201a8"
            ],
            [
             0.3333333333333333,
             "#9c179e"
            ],
            [
             0.4444444444444444,
             "#bd3786"
            ],
            [
             0.5555555555555556,
             "#d8576b"
            ],
            [
             0.6666666666666666,
             "#ed7953"
            ],
            [
             0.7777777777777778,
             "#fb9f3a"
            ],
            [
             0.8888888888888888,
             "#fdca26"
            ],
            [
             1,
             "#f0f921"
            ]
           ],
           "sequentialminus": [
            [
             0,
             "#0d0887"
            ],
            [
             0.1111111111111111,
             "#46039f"
            ],
            [
             0.2222222222222222,
             "#7201a8"
            ],
            [
             0.3333333333333333,
             "#9c179e"
            ],
            [
             0.4444444444444444,
             "#bd3786"
            ],
            [
             0.5555555555555556,
             "#d8576b"
            ],
            [
             0.6666666666666666,
             "#ed7953"
            ],
            [
             0.7777777777777778,
             "#fb9f3a"
            ],
            [
             0.8888888888888888,
             "#fdca26"
            ],
            [
             1,
             "#f0f921"
            ]
           ]
          },
          "colorway": [
           "#636efa",
           "#EF553B",
           "#00cc96",
           "#ab63fa",
           "#FFA15A",
           "#19d3f3",
           "#FF6692",
           "#B6E880",
           "#FF97FF",
           "#FECB52"
          ],
          "font": {
           "color": "#2a3f5f"
          },
          "geo": {
           "bgcolor": "white",
           "lakecolor": "white",
           "landcolor": "#E5ECF6",
           "showlakes": true,
           "showland": true,
           "subunitcolor": "white"
          },
          "hoverlabel": {
           "align": "left"
          },
          "hovermode": "closest",
          "mapbox": {
           "style": "light"
          },
          "paper_bgcolor": "white",
          "plot_bgcolor": "#E5ECF6",
          "polar": {
           "angularaxis": {
            "gridcolor": "white",
            "linecolor": "white",
            "ticks": ""
           },
           "bgcolor": "#E5ECF6",
           "radialaxis": {
            "gridcolor": "white",
            "linecolor": "white",
            "ticks": ""
           }
          },
          "scene": {
           "xaxis": {
            "backgroundcolor": "#E5ECF6",
            "gridcolor": "white",
            "gridwidth": 2,
            "linecolor": "white",
            "showbackground": true,
            "ticks": "",
            "zerolinecolor": "white"
           },
           "yaxis": {
            "backgroundcolor": "#E5ECF6",
            "gridcolor": "white",
            "gridwidth": 2,
            "linecolor": "white",
            "showbackground": true,
            "ticks": "",
            "zerolinecolor": "white"
           },
           "zaxis": {
            "backgroundcolor": "#E5ECF6",
            "gridcolor": "white",
            "gridwidth": 2,
            "linecolor": "white",
            "showbackground": true,
            "ticks": "",
            "zerolinecolor": "white"
           }
          },
          "shapedefaults": {
           "line": {
            "color": "#2a3f5f"
           }
          },
          "ternary": {
           "aaxis": {
            "gridcolor": "white",
            "linecolor": "white",
            "ticks": ""
           },
           "baxis": {
            "gridcolor": "white",
            "linecolor": "white",
            "ticks": ""
           },
           "bgcolor": "#E5ECF6",
           "caxis": {
            "gridcolor": "white",
            "linecolor": "white",
            "ticks": ""
           }
          },
          "title": {
           "x": 0.05
          },
          "xaxis": {
           "automargin": true,
           "gridcolor": "white",
           "linecolor": "white",
           "ticks": "",
           "title": {
            "standoff": 15
           },
           "zerolinecolor": "white",
           "zerolinewidth": 2
          },
          "yaxis": {
           "automargin": true,
           "gridcolor": "white",
           "linecolor": "white",
           "ticks": "",
           "title": {
            "standoff": 15
           },
           "zerolinecolor": "white",
           "zerolinewidth": 2
          }
         }
        },
        "title": {
         "text": "Violin plot of max_mpe in mm"
        },
        "violinmode": "group",
        "xaxis": {
         "anchor": "y",
         "domain": [
          0,
          1
         ],
         "title": {
          "text": "Pond_Type"
         }
        },
        "yaxis": {
         "anchor": "x",
         "domain": [
          0,
          1
         ],
         "title": {
          "text": "max_mpe"
         }
        }
       }
      }
     },
     "metadata": {},
     "output_type": "display_data"
    },
    {
     "data": {
      "application/vnd.plotly.v1+json": {
       "config": {
        "plotlyServerURL": "https://plot.ly"
       },
       "data": [
        {
         "alignmentgroup": "True",
         "box": {
          "visible": true
         },
         "customdata": [
          [
           "full body:undistorted_GX010077_14_237.jpg_gamma",
           "Prawn_0"
          ],
          [
           "full body:undistorted_GX010077_14_237.jpg_gamma",
           "Prawn_1"
          ],
          [
           "full body:undistorted_GX010077_14_237.jpg_gamma",
           "Prawn_2"
          ],
          [
           "full body:undistorted_GX010067_33_625.jpg_gamma",
           "Prawn_0"
          ],
          [
           "full body:undistorted_GX010067_33_625.jpg_gamma",
           "Prawn_1"
          ],
          [
           "full body:undistorted_GX010067_33_625.jpg_gamma",
           "Prawn_2"
          ],
          [
           "full body:undistorted_GX010067_33_625.jpg_gamma",
           "Prawn_3"
          ],
          [
           "full body:undistorted_GX010068_26_666.jpg_gamma",
           "Prawn_0"
          ],
          [
           "full body:undistorted_GX010068_26_666.jpg_gamma",
           "Prawn_1"
          ],
          [
           "full body:undistorted_GX010068_26_666.jpg_gamma",
           "Prawn_2"
          ],
          [
           "full body:undistorted_GX010068_27_795.jpg_gamma",
           "Prawn_0"
          ],
          [
           "full body:undistorted_GX010068_27_795.jpg_gamma",
           "Prawn_1"
          ],
          [
           "full body:undistorted_GX010069_19_191.jpg_gamma",
           "Prawn_0"
          ],
          [
           "full body:undistorted_GX010069_19_191.jpg_gamma",
           "Prawn_1"
          ],
          [
           "full body:undistorted_GX010069_19_191.jpg_gamma",
           "Prawn_2"
          ],
          [
           "full body:undistorted_GX010069_19_191.jpg_gamma",
           "Prawn_3"
          ],
          [
           "full body:undistorted_GX010071_22_444.jpg_gamma",
           "Prawn_0"
          ],
          [
           "full body:undistorted_GX010071_22_444.jpg_gamma",
           "Prawn_1"
          ],
          [
           "full body:undistorted_GX010073_42_695.jpg_gamma",
           "Prawn_0"
          ],
          [
           "full body:undistorted_GX010073_42_695.jpg_gamma",
           "Prawn_1"
          ],
          [
           "full body:undistorted_GX010073_42_695.jpg_gamma",
           "Prawn_2"
          ],
          [
           "full body:undistorted_GX010073_55_1014.jpg_gamma",
           "Prawn_0"
          ],
          [
           "full body:undistorted_GX010073_55_1014.jpg_gamma",
           "Prawn_1"
          ],
          [
           "full body:undistorted_GX010073_55_1014.jpg_gamma",
           "Prawn_2"
          ],
          [
           "full body:undistorted_GX010080_157_2283.jpg_gamma",
           "Prawn_0"
          ],
          [
           "full body:undistorted_GX010080_157_2283.jpg_gamma",
           "Prawn_2"
          ],
          [
           "full body:undistorted_GX010080_157_2283.jpg_gamma",
           "Prawn_3"
          ],
          [
           "full body:undistorted_GX010080_193_2640.jpg_gamma",
           "Prawn_0"
          ],
          [
           "full body:undistorted_GX010080_193_2640.jpg_gamma",
           "Prawn_1"
          ],
          [
           "full body:undistorted_GX010080_193_2640.jpg_gamma",
           "Prawn_2"
          ],
          [
           "full body:undistorted_GX010080_193_2640.jpg_gamma",
           "Prawn_3"
          ],
          [
           "full body:undistorted_GX010080_193_2640.jpg_gamma",
           "Prawn_4"
          ],
          [
           "full body:undistorted_GX010080_212_2954.jpg_gamma",
           "Prawn_0"
          ],
          [
           "full body:undistorted_GX010080_212_2954.jpg_gamma",
           "Prawn_1"
          ],
          [
           "full body:undistorted_GX010080_212_2954.jpg_gamma",
           "Prawn_2"
          ],
          [
           "full body:undistorted_GX010080_237_3366.jpg_gamma",
           "Prawn_0"
          ],
          [
           "full body:undistorted_GX010080_237_3366.jpg_gamma",
           "Prawn_1"
          ],
          [
           "full body:undistorted_GX010080_237_3366.jpg_gamma",
           "Prawn_2"
          ],
          [
           "full body:undistorted_GX010080_237_3366.jpg_gamma",
           "Prawn_3"
          ],
          [
           "full body:undistorted_GX010080_237_3366.jpg_gamma",
           "Prawn_4"
          ],
          [
           "full body:undistorted_GX010080_238_3392.jpg_gamma",
           "Prawn_0"
          ],
          [
           "full body:undistorted_GX010080_238_3392.jpg_gamma",
           "Prawn_1"
          ],
          [
           "full body:undistorted_GX010080_238_3392.jpg_gamma",
           "Prawn_2"
          ],
          [
           "full body:undistorted_GX010080_238_3392.jpg_gamma",
           "Prawn_3"
          ],
          [
           "full body:undistorted_GX010082_8_59.jpg_gamma",
           "Prawn_1"
          ],
          [
           "full body:undistorted_GX010082_8_59.jpg_gamma",
           "Prawn_2"
          ],
          [
           "full body:undistorted_GX010082_8_59.jpg_gamma",
           "Prawn_3"
          ],
          [
           "full body:undistorted_GX010082_8_59.jpg_gamma",
           "Prawn_4"
          ],
          [
           "full body:undistorted_GX010082_53_796.jpg_gamma",
           "Prawn_0"
          ],
          [
           "full body:undistorted_GX010082_53_796.jpg_gamma",
           "Prawn_1"
          ],
          [
           "full body:undistorted_GX010082_65_1070.jpg_gamma",
           "Prawn_0"
          ],
          [
           "full body:undistorted_GX010082_65_1070.jpg_gamma",
           "Prawn_1"
          ],
          [
           "full body:undistorted_GX010082_65_1070.jpg_gamma",
           "Prawn_2"
          ],
          [
           "full body:undistorted_GX010082_236_3137.jpg_gamma",
           "Prawn_0"
          ],
          [
           "full body:undistorted_GX010082_236_3137.jpg_gamma",
           "Prawn_1"
          ],
          [
           "full body:undistorted_GX010082_236_3137.jpg_gamma",
           "Prawn_2"
          ],
          [
           "full body:undistorted_GX010084_30_344.jpg_gamma",
           "Prawn_0"
          ],
          [
           "full body:undistorted_GX010084_30_344.jpg_gamma",
           "Prawn_1"
          ],
          [
           "full body:undistorted_GX010084_30_344.jpg_gamma",
           "Prawn_2"
          ],
          [
           "full body:undistorted_GX010084_30_344.jpg_gamma",
           "Prawn_3"
          ],
          [
           "full body:undistorted_GX010084_130_1748.jpg_gamma",
           "Prawn_0"
          ],
          [
           "full body:undistorted_GX010084_130_1748.jpg_gamma",
           "Prawn_1"
          ],
          [
           "full body:undistorted_GX010084_130_1748.jpg_gamma",
           "Prawn_2"
          ],
          [
           "full body:undistorted_GX010085_261_3610.jpg_gamma",
           "Prawn_0"
          ],
          [
           "full body:undistorted_GX010085_261_3610.jpg_gamma",
           "Prawn_1"
          ],
          [
           "full body:undistorted_GX010088_209_2904.jpg_gamma",
           "Prawn_0"
          ],
          [
           "full body:undistorted_GX010088_209_2904.jpg_gamma",
           "Prawn_1"
          ],
          [
           "full body:undistorted_GX010088_262_3712.jpg_gamma",
           "Prawn_0"
          ],
          [
           "full body:undistorted_GX010088_262_3712.jpg_gamma",
           "Prawn_1"
          ],
          [
           "full body:undistorted_GX010088_262_3712.jpg_gamma",
           "Prawn_2"
          ],
          [
           "full body:undistorted_GX010088_327_4364.jpg_gamma",
           "Prawn_0"
          ],
          [
           "full body:undistorted_GX010088_327_4364.jpg_gamma",
           "Prawn_1"
          ],
          [
           "full body:undistorted_GX010088_327_4364.jpg_gamma",
           "Prawn_2"
          ],
          [
           "full body:undistorted_GX010088_327_4364.jpg_gamma",
           "Prawn_3"
          ],
          [
           "full body:undistorted_GX010089_11_236.jpg_gamma",
           "Prawn_0"
          ],
          [
           "full body:undistorted_GX010089_11_236.jpg_gamma",
           "Prawn_1"
          ],
          [
           "full body:undistorted_GX010089_11_236.jpg_gamma",
           "Prawn_2"
          ],
          [
           "full body:undistorted_GX010089_11_236.jpg_gamma",
           "Prawn_3"
          ],
          [
           "full body:undistorted_GX010090_132_1852.jpg_gamma",
           "Prawn_0"
          ],
          [
           "full body:undistorted_GX010091_5_149.jpg_gamma",
           "Prawn_0"
          ],
          [
           "full body:undistorted_GX010091_5_149.jpg_gamma",
           "Prawn_1"
          ],
          [
           "full body:undistorted_GX010091_5_149.jpg_gamma",
           "Prawn_2"
          ],
          [
           "full body:undistorted_GX010094_9_129.jpg_gamma",
           "Prawn_0"
          ],
          [
           "full body:undistorted_GX010094_9_129.jpg_gamma",
           "Prawn_1"
          ],
          [
           "full body:undistorted_GX010094_24_430.jpg_gamma",
           "Prawn_0"
          ],
          [
           "full body:undistorted_GX010094_93_1258.jpg_gamma",
           "Prawn_0"
          ],
          [
           "full body:undistorted_GX010094_163_2312.jpg_gamma",
           "Prawn_0"
          ],
          [
           "full body:undistorted_GX010097_32_528.jpg_gamma",
           "Prawn_0"
          ],
          [
           "full body:undistorted_GX010097_32_528.jpg_gamma",
           "Prawn_1"
          ],
          [
           "full body:undistorted_GX010097_60_1080.jpg_gamma",
           "Prawn_0"
          ],
          [
           "full body:undistorted_GX010097_60_1080.jpg_gamma",
           "Prawn_1"
          ],
          [
           "full body:undistorted_GX010097_60_1080.jpg_gamma",
           "Prawn_2"
          ],
          [
           "full body:undistorted_GX010097_60_1080.jpg_gamma",
           "Prawn_3"
          ],
          [
           "full body:undistorted_GX010097_105_1651.jpg_gamma",
           "Prawn_0"
          ],
          [
           "full body:undistorted_GX010097_105_1651.jpg_gamma",
           "Prawn_1"
          ],
          [
           "full body:undistorted_GX010097_105_1651.jpg_gamma",
           "Prawn_2"
          ],
          [
           "full body:undistorted_GX010097_105_1651.jpg_gamma",
           "Prawn_3"
          ],
          [
           "full body:undistorted_GX010097_124_1870.jpg_gamma",
           "Prawn_0"
          ],
          [
           "full body:undistorted_GX010097_124_1870.jpg_gamma",
           "Prawn_1"
          ],
          [
           "full body:undistorted_GX010101_12_173.jpg_gamma",
           "Prawn_0"
          ],
          [
           "full body:undistorted_GX010102_9_165.jpg_gamma",
           "Prawn_1"
          ],
          [
           "full body:undistorted_GX010102_9_165.jpg_gamma",
           "Prawn_2"
          ],
          [
           "full body:undistorted_GX010102_9_165.jpg_gamma",
           "Prawn_3"
          ],
          [
           "full body:undistorted_GX010102_9_165.jpg_gamma",
           "Prawn_4"
          ],
          [
           "full body:undistorted_GX010102_9_165.jpg_gamma",
           "Prawn_5"
          ],
          [
           "full body:undistorted_GX010102_50_1396.jpg_gamma",
           "Prawn_0"
          ],
          [
           "full body:undistorted_GX010105_28_816.jpg_gamma",
           "Prawn_0"
          ],
          [
           "full body:undistorted_GX010105_28_816.jpg_gamma",
           "Prawn_1"
          ],
          [
           "full body:undistorted_GX010152_36_378.jpg_gamma",
           "Prawn_0"
          ],
          [
           "full body:undistorted_GX010152_36_378.jpg_gamma",
           "Prawn_1"
          ],
          [
           "full body:undistorted_GX010157_160_2259",
           "Prawn_0"
          ],
          [
           "full body:undistorted_GX010157_174_2582.jpg_gamma",
           "Prawn_0"
          ],
          [
           "full body:undistorted_GX010157_177_2665.jpg_gamma",
           "Prawn_0"
          ],
          [
           "full body:undistorted_GX010161_54_676.jpg_gamma.jpg_gamma",
           "Prawn_0"
          ],
          [
           "full body:undistorted_GX010162_72_927.jpg_gamma.jpg_gamma",
           "Prawn_0"
          ],
          [
           "full body:undistorted_GX010183_37_685.jpg_gamma",
           "Prawn_0"
          ],
          [
           "full body:undistorted_GX010183_80_1633.jpg_gamma",
           "Prawn_0"
          ],
          [
           "full body:undistorted_GX010183_128_2852.jpg_gamma",
           "Prawn_0"
          ]
         ],
         "hovertemplate": "Pond_Type=%{x}<br>max_mae=%{y}<br>Label=%{customdata[0]}<br>PrawnID=%{customdata[1]}<extra></extra>",
         "legendgroup": "",
         "marker": {
          "color": "#636efa"
         },
         "name": "",
         "offsetgroup": "",
         "orientation": "v",
         "points": "all",
         "scalegroup": "True",
         "showlegend": false,
         "type": "violin",
         "x": [
          "circle2",
          "circle2",
          "circle2",
          "circle2",
          "circle2",
          "circle2",
          "circle2",
          "circle2",
          "circle2",
          "circle2",
          "circle2",
          "circle2",
          "circle2",
          "circle2",
          "circle2",
          "circle2",
          "circle2",
          "circle2",
          "circle2",
          "circle2",
          "circle2",
          "circle2",
          "circle2",
          "circle2",
          "circle2",
          "circle2",
          "circle2",
          "circle2",
          "circle2",
          "circle2",
          "circle2",
          "circle2",
          "circle2",
          "circle2",
          "circle2",
          "circle2",
          "circle2",
          "circle2",
          "circle2",
          "circle2",
          "circle2",
          "circle2",
          "circle2",
          "circle2",
          "circle2",
          "circle2",
          "circle2",
          "circle2",
          "circle2",
          "circle2",
          "circle2",
          "circle2",
          "circle2",
          "circle2",
          "circle2",
          "circle2",
          "circle2",
          "circle2",
          "circle2",
          "circle2",
          "circle2",
          "circle2",
          "circle2",
          "circle2",
          "circle2",
          "circle2",
          "circle2",
          "circle2",
          "circle2",
          "circle2",
          "circle2",
          "circle2",
          "circle2",
          "circle2",
          "circle1",
          "circle1",
          "circle1",
          "circle1",
          "circle2",
          "circle1",
          "circle1",
          "circle1",
          "circle2",
          "circle2",
          "circle2",
          "circle2",
          "circle2",
          "circle2",
          "circle2",
          "circle2",
          "circle2",
          "circle2",
          "circle2",
          "circle2",
          "circle2",
          "circle2",
          "circle2",
          "circle2",
          "circle2",
          "circle2",
          "circle1",
          "circle1",
          "circle1",
          "circle1",
          "circle1",
          "circle1",
          "circle1",
          "circle1",
          "square",
          "square",
          "square",
          "square",
          "square",
          "square",
          "square",
          "square",
          "square",
          "square"
         ],
         "x0": " ",
         "xaxis": "x",
         "y": [
          8.485928395598748,
          12.12264594456691,
          21.96583667685996,
          25.08215938664057,
          13.33940718226305,
          14.04571527351405,
          13.30524333026524,
          15.66544204754078,
          20.4419829361818,
          13.7985932421517,
          8.969570385477596,
          15.38645973302735,
          31.50653534243261,
          14.09766769195092,
          14.19906479477878,
          11.30521355515829,
          25.17350302681282,
          17.92122422537955,
          58.10848330678503,
          10.81122234068465,
          20.81220030037861,
          7.808676692908207,
          9.865220840109117,
          3.618335786897333,
          32.40987854153346,
          25.83147726688382,
          22.63930880950309,
          22.38413302813569,
          12.0833714123402,
          13.28749211967022,
          26.51295294059446,
          29.33638066425829,
          27.23626659868903,
          16.05781766874686,
          9.596182331253146,
          26.63916517426068,
          28.27154750554166,
          21.07220421256633,
          14.58827473059435,
          17.35242739870532,
          25.47489991292096,
          14.88012685367994,
          11.6012350319473,
          23.80508454614454,
          14.69435670689589,
          12.39755795501563,
          39.87108629810633,
          34.90569970873659,
          15.54247954469113,
          18.45324365640667,
          30.91994022691205,
          20.38011023285304,
          21.49260253611169,
          25.02793606804548,
          33.31363048866685,
          35.34143457172836,
          12.37090413285608,
          21.22247495422612,
          12.02006536963633,
          16.44990953891329,
          33.13644748262598,
          18.47393527191095,
          36.51945067597167,
          9.509714677828669,
          18.03428747450761,
          10.73211135721864,
          33.0139287082483,
          11.04355317785112,
          24.96316474079306,
          27.21641680464171,
          20.91570431960059,
          15.06987011126708,
          14.99183090091057,
          17.97839678462421,
          25.51626241254755,
          24.12848455002225,
          18.05344765770079,
          11.42518998984846,
          35.35263620356551,
          15.07948231164107,
          18.96925817621954,
          20.22166437068924,
          31.63357636808483,
          14.17062157044217,
          17.02782086381356,
          19.6041016215603,
          29.77659490047242,
          28.92840961301303,
          833.1606607105831,
          8.32001120276064,
          4.542298812601416,
          18.43315631373721,
          12.4449513023015,
          32.26329090190931,
          31.41575902976874,
          34.42022964034726,
          26.6640687469845,
          32.91089770284751,
          28.89867985200806,
          11.35618721299562,
          12.50752201724251,
          15.65151971189206,
          2.895480288107933,
          18.39077972424815,
          18.31666579858842,
          25.25059263063956,
          18.10318710451475,
          32.31254656037432,
          23.66723676531942,
          28.32466238759014,
          16.35364043954944,
          24.27254653917458,
          25.69882671968998,
          26.74231910113357,
          19.28430283944289,
          8.362919120015505,
          15.25254823993285,
          13.12560141607482
         ],
         "y0": " ",
         "yaxis": "y"
        }
       ],
       "layout": {
        "legend": {
         "tracegroupgap": 0
        },
        "template": {
         "data": {
          "bar": [
           {
            "error_x": {
             "color": "#2a3f5f"
            },
            "error_y": {
             "color": "#2a3f5f"
            },
            "marker": {
             "line": {
              "color": "#E5ECF6",
              "width": 0.5
             },
             "pattern": {
              "fillmode": "overlay",
              "size": 10,
              "solidity": 0.2
             }
            },
            "type": "bar"
           }
          ],
          "barpolar": [
           {
            "marker": {
             "line": {
              "color": "#E5ECF6",
              "width": 0.5
             },
             "pattern": {
              "fillmode": "overlay",
              "size": 10,
              "solidity": 0.2
             }
            },
            "type": "barpolar"
           }
          ],
          "carpet": [
           {
            "aaxis": {
             "endlinecolor": "#2a3f5f",
             "gridcolor": "white",
             "linecolor": "white",
             "minorgridcolor": "white",
             "startlinecolor": "#2a3f5f"
            },
            "baxis": {
             "endlinecolor": "#2a3f5f",
             "gridcolor": "white",
             "linecolor": "white",
             "minorgridcolor": "white",
             "startlinecolor": "#2a3f5f"
            },
            "type": "carpet"
           }
          ],
          "choropleth": [
           {
            "colorbar": {
             "outlinewidth": 0,
             "ticks": ""
            },
            "type": "choropleth"
           }
          ],
          "contour": [
           {
            "colorbar": {
             "outlinewidth": 0,
             "ticks": ""
            },
            "colorscale": [
             [
              0,
              "#0d0887"
             ],
             [
              0.1111111111111111,
              "#46039f"
             ],
             [
              0.2222222222222222,
              "#7201a8"
             ],
             [
              0.3333333333333333,
              "#9c179e"
             ],
             [
              0.4444444444444444,
              "#bd3786"
             ],
             [
              0.5555555555555556,
              "#d8576b"
             ],
             [
              0.6666666666666666,
              "#ed7953"
             ],
             [
              0.7777777777777778,
              "#fb9f3a"
             ],
             [
              0.8888888888888888,
              "#fdca26"
             ],
             [
              1,
              "#f0f921"
             ]
            ],
            "type": "contour"
           }
          ],
          "contourcarpet": [
           {
            "colorbar": {
             "outlinewidth": 0,
             "ticks": ""
            },
            "type": "contourcarpet"
           }
          ],
          "heatmap": [
           {
            "colorbar": {
             "outlinewidth": 0,
             "ticks": ""
            },
            "colorscale": [
             [
              0,
              "#0d0887"
             ],
             [
              0.1111111111111111,
              "#46039f"
             ],
             [
              0.2222222222222222,
              "#7201a8"
             ],
             [
              0.3333333333333333,
              "#9c179e"
             ],
             [
              0.4444444444444444,
              "#bd3786"
             ],
             [
              0.5555555555555556,
              "#d8576b"
             ],
             [
              0.6666666666666666,
              "#ed7953"
             ],
             [
              0.7777777777777778,
              "#fb9f3a"
             ],
             [
              0.8888888888888888,
              "#fdca26"
             ],
             [
              1,
              "#f0f921"
             ]
            ],
            "type": "heatmap"
           }
          ],
          "heatmapgl": [
           {
            "colorbar": {
             "outlinewidth": 0,
             "ticks": ""
            },
            "colorscale": [
             [
              0,
              "#0d0887"
             ],
             [
              0.1111111111111111,
              "#46039f"
             ],
             [
              0.2222222222222222,
              "#7201a8"
             ],
             [
              0.3333333333333333,
              "#9c179e"
             ],
             [
              0.4444444444444444,
              "#bd3786"
             ],
             [
              0.5555555555555556,
              "#d8576b"
             ],
             [
              0.6666666666666666,
              "#ed7953"
             ],
             [
              0.7777777777777778,
              "#fb9f3a"
             ],
             [
              0.8888888888888888,
              "#fdca26"
             ],
             [
              1,
              "#f0f921"
             ]
            ],
            "type": "heatmapgl"
           }
          ],
          "histogram": [
           {
            "marker": {
             "pattern": {
              "fillmode": "overlay",
              "size": 10,
              "solidity": 0.2
             }
            },
            "type": "histogram"
           }
          ],
          "histogram2d": [
           {
            "colorbar": {
             "outlinewidth": 0,
             "ticks": ""
            },
            "colorscale": [
             [
              0,
              "#0d0887"
             ],
             [
              0.1111111111111111,
              "#46039f"
             ],
             [
              0.2222222222222222,
              "#7201a8"
             ],
             [
              0.3333333333333333,
              "#9c179e"
             ],
             [
              0.4444444444444444,
              "#bd3786"
             ],
             [
              0.5555555555555556,
              "#d8576b"
             ],
             [
              0.6666666666666666,
              "#ed7953"
             ],
             [
              0.7777777777777778,
              "#fb9f3a"
             ],
             [
              0.8888888888888888,
              "#fdca26"
             ],
             [
              1,
              "#f0f921"
             ]
            ],
            "type": "histogram2d"
           }
          ],
          "histogram2dcontour": [
           {
            "colorbar": {
             "outlinewidth": 0,
             "ticks": ""
            },
            "colorscale": [
             [
              0,
              "#0d0887"
             ],
             [
              0.1111111111111111,
              "#46039f"
             ],
             [
              0.2222222222222222,
              "#7201a8"
             ],
             [
              0.3333333333333333,
              "#9c179e"
             ],
             [
              0.4444444444444444,
              "#bd3786"
             ],
             [
              0.5555555555555556,
              "#d8576b"
             ],
             [
              0.6666666666666666,
              "#ed7953"
             ],
             [
              0.7777777777777778,
              "#fb9f3a"
             ],
             [
              0.8888888888888888,
              "#fdca26"
             ],
             [
              1,
              "#f0f921"
             ]
            ],
            "type": "histogram2dcontour"
           }
          ],
          "mesh3d": [
           {
            "colorbar": {
             "outlinewidth": 0,
             "ticks": ""
            },
            "type": "mesh3d"
           }
          ],
          "parcoords": [
           {
            "line": {
             "colorbar": {
              "outlinewidth": 0,
              "ticks": ""
             }
            },
            "type": "parcoords"
           }
          ],
          "pie": [
           {
            "automargin": true,
            "type": "pie"
           }
          ],
          "scatter": [
           {
            "fillpattern": {
             "fillmode": "overlay",
             "size": 10,
             "solidity": 0.2
            },
            "type": "scatter"
           }
          ],
          "scatter3d": [
           {
            "line": {
             "colorbar": {
              "outlinewidth": 0,
              "ticks": ""
             }
            },
            "marker": {
             "colorbar": {
              "outlinewidth": 0,
              "ticks": ""
             }
            },
            "type": "scatter3d"
           }
          ],
          "scattercarpet": [
           {
            "marker": {
             "colorbar": {
              "outlinewidth": 0,
              "ticks": ""
             }
            },
            "type": "scattercarpet"
           }
          ],
          "scattergeo": [
           {
            "marker": {
             "colorbar": {
              "outlinewidth": 0,
              "ticks": ""
             }
            },
            "type": "scattergeo"
           }
          ],
          "scattergl": [
           {
            "marker": {
             "colorbar": {
              "outlinewidth": 0,
              "ticks": ""
             }
            },
            "type": "scattergl"
           }
          ],
          "scattermapbox": [
           {
            "marker": {
             "colorbar": {
              "outlinewidth": 0,
              "ticks": ""
             }
            },
            "type": "scattermapbox"
           }
          ],
          "scatterpolar": [
           {
            "marker": {
             "colorbar": {
              "outlinewidth": 0,
              "ticks": ""
             }
            },
            "type": "scatterpolar"
           }
          ],
          "scatterpolargl": [
           {
            "marker": {
             "colorbar": {
              "outlinewidth": 0,
              "ticks": ""
             }
            },
            "type": "scatterpolargl"
           }
          ],
          "scatterternary": [
           {
            "marker": {
             "colorbar": {
              "outlinewidth": 0,
              "ticks": ""
             }
            },
            "type": "scatterternary"
           }
          ],
          "surface": [
           {
            "colorbar": {
             "outlinewidth": 0,
             "ticks": ""
            },
            "colorscale": [
             [
              0,
              "#0d0887"
             ],
             [
              0.1111111111111111,
              "#46039f"
             ],
             [
              0.2222222222222222,
              "#7201a8"
             ],
             [
              0.3333333333333333,
              "#9c179e"
             ],
             [
              0.4444444444444444,
              "#bd3786"
             ],
             [
              0.5555555555555556,
              "#d8576b"
             ],
             [
              0.6666666666666666,
              "#ed7953"
             ],
             [
              0.7777777777777778,
              "#fb9f3a"
             ],
             [
              0.8888888888888888,
              "#fdca26"
             ],
             [
              1,
              "#f0f921"
             ]
            ],
            "type": "surface"
           }
          ],
          "table": [
           {
            "cells": {
             "fill": {
              "color": "#EBF0F8"
             },
             "line": {
              "color": "white"
             }
            },
            "header": {
             "fill": {
              "color": "#C8D4E3"
             },
             "line": {
              "color": "white"
             }
            },
            "type": "table"
           }
          ]
         },
         "layout": {
          "annotationdefaults": {
           "arrowcolor": "#2a3f5f",
           "arrowhead": 0,
           "arrowwidth": 1
          },
          "autotypenumbers": "strict",
          "coloraxis": {
           "colorbar": {
            "outlinewidth": 0,
            "ticks": ""
           }
          },
          "colorscale": {
           "diverging": [
            [
             0,
             "#8e0152"
            ],
            [
             0.1,
             "#c51b7d"
            ],
            [
             0.2,
             "#de77ae"
            ],
            [
             0.3,
             "#f1b6da"
            ],
            [
             0.4,
             "#fde0ef"
            ],
            [
             0.5,
             "#f7f7f7"
            ],
            [
             0.6,
             "#e6f5d0"
            ],
            [
             0.7,
             "#b8e186"
            ],
            [
             0.8,
             "#7fbc41"
            ],
            [
             0.9,
             "#4d9221"
            ],
            [
             1,
             "#276419"
            ]
           ],
           "sequential": [
            [
             0,
             "#0d0887"
            ],
            [
             0.1111111111111111,
             "#46039f"
            ],
            [
             0.2222222222222222,
             "#7201a8"
            ],
            [
             0.3333333333333333,
             "#9c179e"
            ],
            [
             0.4444444444444444,
             "#bd3786"
            ],
            [
             0.5555555555555556,
             "#d8576b"
            ],
            [
             0.6666666666666666,
             "#ed7953"
            ],
            [
             0.7777777777777778,
             "#fb9f3a"
            ],
            [
             0.8888888888888888,
             "#fdca26"
            ],
            [
             1,
             "#f0f921"
            ]
           ],
           "sequentialminus": [
            [
             0,
             "#0d0887"
            ],
            [
             0.1111111111111111,
             "#46039f"
            ],
            [
             0.2222222222222222,
             "#7201a8"
            ],
            [
             0.3333333333333333,
             "#9c179e"
            ],
            [
             0.4444444444444444,
             "#bd3786"
            ],
            [
             0.5555555555555556,
             "#d8576b"
            ],
            [
             0.6666666666666666,
             "#ed7953"
            ],
            [
             0.7777777777777778,
             "#fb9f3a"
            ],
            [
             0.8888888888888888,
             "#fdca26"
            ],
            [
             1,
             "#f0f921"
            ]
           ]
          },
          "colorway": [
           "#636efa",
           "#EF553B",
           "#00cc96",
           "#ab63fa",
           "#FFA15A",
           "#19d3f3",
           "#FF6692",
           "#B6E880",
           "#FF97FF",
           "#FECB52"
          ],
          "font": {
           "color": "#2a3f5f"
          },
          "geo": {
           "bgcolor": "white",
           "lakecolor": "white",
           "landcolor": "#E5ECF6",
           "showlakes": true,
           "showland": true,
           "subunitcolor": "white"
          },
          "hoverlabel": {
           "align": "left"
          },
          "hovermode": "closest",
          "mapbox": {
           "style": "light"
          },
          "paper_bgcolor": "white",
          "plot_bgcolor": "#E5ECF6",
          "polar": {
           "angularaxis": {
            "gridcolor": "white",
            "linecolor": "white",
            "ticks": ""
           },
           "bgcolor": "#E5ECF6",
           "radialaxis": {
            "gridcolor": "white",
            "linecolor": "white",
            "ticks": ""
           }
          },
          "scene": {
           "xaxis": {
            "backgroundcolor": "#E5ECF6",
            "gridcolor": "white",
            "gridwidth": 2,
            "linecolor": "white",
            "showbackground": true,
            "ticks": "",
            "zerolinecolor": "white"
           },
           "yaxis": {
            "backgroundcolor": "#E5ECF6",
            "gridcolor": "white",
            "gridwidth": 2,
            "linecolor": "white",
            "showbackground": true,
            "ticks": "",
            "zerolinecolor": "white"
           },
           "zaxis": {
            "backgroundcolor": "#E5ECF6",
            "gridcolor": "white",
            "gridwidth": 2,
            "linecolor": "white",
            "showbackground": true,
            "ticks": "",
            "zerolinecolor": "white"
           }
          },
          "shapedefaults": {
           "line": {
            "color": "#2a3f5f"
           }
          },
          "ternary": {
           "aaxis": {
            "gridcolor": "white",
            "linecolor": "white",
            "ticks": ""
           },
           "baxis": {
            "gridcolor": "white",
            "linecolor": "white",
            "ticks": ""
           },
           "bgcolor": "#E5ECF6",
           "caxis": {
            "gridcolor": "white",
            "linecolor": "white",
            "ticks": ""
           }
          },
          "title": {
           "x": 0.05
          },
          "xaxis": {
           "automargin": true,
           "gridcolor": "white",
           "linecolor": "white",
           "ticks": "",
           "title": {
            "standoff": 15
           },
           "zerolinecolor": "white",
           "zerolinewidth": 2
          },
          "yaxis": {
           "automargin": true,
           "gridcolor": "white",
           "linecolor": "white",
           "ticks": "",
           "title": {
            "standoff": 15
           },
           "zerolinecolor": "white",
           "zerolinewidth": 2
          }
         }
        },
        "title": {
         "text": "Violin plot of max_mae in mm"
        },
        "violinmode": "group",
        "xaxis": {
         "anchor": "y",
         "domain": [
          0,
          1
         ],
         "title": {
          "text": "Pond_Type"
         }
        },
        "yaxis": {
         "anchor": "x",
         "domain": [
          0,
          1
         ],
         "title": {
          "text": "max_mae"
         }
        }
       }
      }
     },
     "metadata": {},
     "output_type": "display_data"
    },
    {
     "name": "stdout",
     "output_type": "stream",
     "text": [
      "min mae median:\n",
      "min mae for all pond types:\n",
      "6.089788089166753\n",
      "min mae for each pond type:\n",
      "Pond_Type\n",
      "circle1    8.683780\n",
      "circle2    5.651378\n",
      "square     5.188104\n",
      "Name: min_mae, dtype: float64\n",
      "min mpe median:\n",
      "min mpe for all pond types:\n",
      "5.151958196860564\n",
      "min mpe for each pond type:\n",
      "Pond_Type\n",
      "circle1    12.110762\n",
      "circle2     4.767052\n",
      "square      5.154757\n",
      "Name: min_mpe, dtype: float64\n"
     ]
    },
    {
     "ename": "ValueError",
     "evalue": "Value of 'x' is not the name of a column in 'data_frame'. Expected one of ['Label', 'PrawnID', 'Avg_Length', 'Std_Length', 'Uncertainty', 'Length_1', 'Length_2', 'Length_3', 'BoundingBox_1', 'BoundingBox_2', 'BoundingBox_3', 'Angle_1', 'Angle_2', 'Angle_3', 'Scale_1', 'Scale_2', 'Scale_3', 'Global_Uncertainty', 'Length_ground_truth_annotation(mm)', 'id', 'Length_fov(mm)', 'Height(mm)', 'focal_RealLength(cm)', 'Length_1_pixels', 'Length_2_pixels', 'Length_3_pixels', 'Pond_Type', 'Euclidean_Distance', 'MPError_fov_min', 'MPError_fov_max', 'MPError_fov_median', 'AbsError_fov_min', 'AbsError_fov_max', 'AbsError_fov_median', 'AbsError_focal_min', 'AbsError_focal_max', 'AbsError_focal_median', 'MPError_focal_min', 'MPError_focal_max', 'MPError_focal_median', 'Error_distance_mm_ground_min', 'Error_distance_mm_ground_max', 'Error_distance_mm_ground_median', 'Error_percentage_distance_mm_ground_min', 'Error_percentage_distance_mm_ground_max', 'Error_percentage_distance_mm_ground_median', 'expert_mean', 'expert_std', 'expert_max', 'expert_min', 'diff_max_min', 'min_mpe', 'max_mpe', 'min_mae', 'max_mae'] but received: Height_mm",
     "output_type": "error",
     "traceback": [
      "\u001b[0;31m---------------------------------------------------------------------------\u001b[0m",
      "\u001b[0;31mValueError\u001b[0m                                Traceback (most recent call last)",
      "Cell \u001b[0;32mIn[5], line 187\u001b[0m\n\u001b[1;32m    160\u001b[0m \u001b[38;5;28mprint\u001b[39m(df\u001b[38;5;241m.\u001b[39mgroupby(\u001b[38;5;124m'\u001b[39m\u001b[38;5;124mPond_Type\u001b[39m\u001b[38;5;124m'\u001b[39m)[\u001b[38;5;124m'\u001b[39m\u001b[38;5;124mmin_mpe\u001b[39m\u001b[38;5;124m'\u001b[39m]\u001b[38;5;241m.\u001b[39mmedian())\n\u001b[1;32m    163\u001b[0m \u001b[38;5;66;03m# #scatter plot the_min_diff_percentage_error and  difference_annotation_expert plotly\u001b[39;00m\n\u001b[1;32m    164\u001b[0m \u001b[38;5;66;03m# fig = px.scatter(df, x='min_mpe', y='min difference', color='Pond_Type', hover_data=['Label', 'PrawnID'])\u001b[39;00m\n\u001b[1;32m    165\u001b[0m \u001b[38;5;66;03m# #add title\u001b[39;00m\n\u001b[0;32m   (...)\u001b[0m\n\u001b[1;32m    185\u001b[0m \n\u001b[1;32m    186\u001b[0m \u001b[38;5;66;03m#scatter plot between min_mpe and height\u001b[39;00m\n\u001b[0;32m--> 187\u001b[0m fig \u001b[38;5;241m=\u001b[39m \u001b[43mpx\u001b[49m\u001b[38;5;241;43m.\u001b[39;49m\u001b[43mscatter\u001b[49m\u001b[43m(\u001b[49m\u001b[43mdf\u001b[49m\u001b[43m,\u001b[49m\u001b[43m \u001b[49m\u001b[43mx\u001b[49m\u001b[38;5;241;43m=\u001b[39;49m\u001b[38;5;124;43m'\u001b[39;49m\u001b[38;5;124;43mHeight_mm\u001b[39;49m\u001b[38;5;124;43m'\u001b[39;49m\u001b[43m,\u001b[49m\u001b[43m \u001b[49m\u001b[43my\u001b[49m\u001b[38;5;241;43m=\u001b[39;49m\u001b[38;5;124;43m'\u001b[39;49m\u001b[38;5;124;43mmin_mpe\u001b[39;49m\u001b[38;5;124;43m'\u001b[39;49m\u001b[43m,\u001b[49m\u001b[43m \u001b[49m\u001b[43mhover_data\u001b[49m\u001b[38;5;241;43m=\u001b[39;49m\u001b[43m[\u001b[49m\u001b[38;5;124;43m'\u001b[39;49m\u001b[38;5;124;43mLabel\u001b[39;49m\u001b[38;5;124;43m'\u001b[39;49m\u001b[43m,\u001b[49m\u001b[43m \u001b[49m\u001b[38;5;124;43m'\u001b[39;49m\u001b[38;5;124;43mPrawnID\u001b[39;49m\u001b[38;5;124;43m'\u001b[39;49m\u001b[43m]\u001b[49m\u001b[43m)\u001b[49m\n\u001b[1;32m    188\u001b[0m \u001b[38;5;66;03m#add title\u001b[39;00m\n\u001b[1;32m    189\u001b[0m fig\u001b[38;5;241m.\u001b[39mupdate_layout(title\u001b[38;5;241m=\u001b[39m\u001b[38;5;124m'\u001b[39m\u001b[38;5;124mmin_mpe vs. Height\u001b[39m\u001b[38;5;124m'\u001b[39m)\n",
      "File \u001b[0;32m~/Documents/code projects/msc/counting_research_algorithms/.venv/lib/python3.9/site-packages/plotly/express/_chart_types.py:66\u001b[0m, in \u001b[0;36mscatter\u001b[0;34m(data_frame, x, y, color, symbol, size, hover_name, hover_data, custom_data, text, facet_row, facet_col, facet_col_wrap, facet_row_spacing, facet_col_spacing, error_x, error_x_minus, error_y, error_y_minus, animation_frame, animation_group, category_orders, labels, orientation, color_discrete_sequence, color_discrete_map, color_continuous_scale, range_color, color_continuous_midpoint, symbol_sequence, symbol_map, opacity, size_max, marginal_x, marginal_y, trendline, trendline_options, trendline_color_override, trendline_scope, log_x, log_y, range_x, range_y, render_mode, title, template, width, height)\u001b[0m\n\u001b[1;32m     12\u001b[0m \u001b[38;5;28;01mdef\u001b[39;00m \u001b[38;5;21mscatter\u001b[39m(\n\u001b[1;32m     13\u001b[0m     data_frame\u001b[38;5;241m=\u001b[39m\u001b[38;5;28;01mNone\u001b[39;00m,\n\u001b[1;32m     14\u001b[0m     x\u001b[38;5;241m=\u001b[39m\u001b[38;5;28;01mNone\u001b[39;00m,\n\u001b[0;32m   (...)\u001b[0m\n\u001b[1;32m     60\u001b[0m     height\u001b[38;5;241m=\u001b[39m\u001b[38;5;28;01mNone\u001b[39;00m,\n\u001b[1;32m     61\u001b[0m ) \u001b[38;5;241m-\u001b[39m\u001b[38;5;241m>\u001b[39m go\u001b[38;5;241m.\u001b[39mFigure:\n\u001b[1;32m     62\u001b[0m \u001b[38;5;250m    \u001b[39m\u001b[38;5;124;03m\"\"\"\u001b[39;00m\n\u001b[1;32m     63\u001b[0m \u001b[38;5;124;03m    In a scatter plot, each row of `data_frame` is represented by a symbol\u001b[39;00m\n\u001b[1;32m     64\u001b[0m \u001b[38;5;124;03m    mark in 2D space.\u001b[39;00m\n\u001b[1;32m     65\u001b[0m \u001b[38;5;124;03m    \"\"\"\u001b[39;00m\n\u001b[0;32m---> 66\u001b[0m     \u001b[38;5;28;01mreturn\u001b[39;00m \u001b[43mmake_figure\u001b[49m\u001b[43m(\u001b[49m\u001b[43margs\u001b[49m\u001b[38;5;241;43m=\u001b[39;49m\u001b[38;5;28;43mlocals\u001b[39;49m\u001b[43m(\u001b[49m\u001b[43m)\u001b[49m\u001b[43m,\u001b[49m\u001b[43m \u001b[49m\u001b[43mconstructor\u001b[49m\u001b[38;5;241;43m=\u001b[39;49m\u001b[43mgo\u001b[49m\u001b[38;5;241;43m.\u001b[39;49m\u001b[43mScatter\u001b[49m\u001b[43m)\u001b[49m\n",
      "File \u001b[0;32m~/Documents/code projects/msc/counting_research_algorithms/.venv/lib/python3.9/site-packages/plotly/express/_core.py:1991\u001b[0m, in \u001b[0;36mmake_figure\u001b[0;34m(args, constructor, trace_patch, layout_patch)\u001b[0m\n\u001b[1;32m   1988\u001b[0m layout_patch \u001b[38;5;241m=\u001b[39m layout_patch \u001b[38;5;129;01mor\u001b[39;00m {}\n\u001b[1;32m   1989\u001b[0m apply_default_cascade(args)\n\u001b[0;32m-> 1991\u001b[0m args \u001b[38;5;241m=\u001b[39m \u001b[43mbuild_dataframe\u001b[49m\u001b[43m(\u001b[49m\u001b[43margs\u001b[49m\u001b[43m,\u001b[49m\u001b[43m \u001b[49m\u001b[43mconstructor\u001b[49m\u001b[43m)\u001b[49m\n\u001b[1;32m   1992\u001b[0m \u001b[38;5;28;01mif\u001b[39;00m constructor \u001b[38;5;129;01min\u001b[39;00m [go\u001b[38;5;241m.\u001b[39mTreemap, go\u001b[38;5;241m.\u001b[39mSunburst, go\u001b[38;5;241m.\u001b[39mIcicle] \u001b[38;5;129;01mand\u001b[39;00m args[\u001b[38;5;124m\"\u001b[39m\u001b[38;5;124mpath\u001b[39m\u001b[38;5;124m\"\u001b[39m] \u001b[38;5;129;01mis\u001b[39;00m \u001b[38;5;129;01mnot\u001b[39;00m \u001b[38;5;28;01mNone\u001b[39;00m:\n\u001b[1;32m   1993\u001b[0m     args \u001b[38;5;241m=\u001b[39m process_dataframe_hierarchy(args)\n",
      "File \u001b[0;32m~/Documents/code projects/msc/counting_research_algorithms/.venv/lib/python3.9/site-packages/plotly/express/_core.py:1406\u001b[0m, in \u001b[0;36mbuild_dataframe\u001b[0;34m(args, constructor)\u001b[0m\n\u001b[1;32m   1403\u001b[0m     args[\u001b[38;5;124m\"\u001b[39m\u001b[38;5;124mcolor\u001b[39m\u001b[38;5;124m\"\u001b[39m] \u001b[38;5;241m=\u001b[39m \u001b[38;5;28;01mNone\u001b[39;00m\n\u001b[1;32m   1404\u001b[0m \u001b[38;5;66;03m# now that things have been prepped, we do the systematic rewriting of `args`\u001b[39;00m\n\u001b[0;32m-> 1406\u001b[0m df_output, wide_id_vars \u001b[38;5;241m=\u001b[39m \u001b[43mprocess_args_into_dataframe\u001b[49m\u001b[43m(\u001b[49m\n\u001b[1;32m   1407\u001b[0m \u001b[43m    \u001b[49m\u001b[43margs\u001b[49m\u001b[43m,\u001b[49m\u001b[43m \u001b[49m\u001b[43mwide_mode\u001b[49m\u001b[43m,\u001b[49m\u001b[43m \u001b[49m\u001b[43mvar_name\u001b[49m\u001b[43m,\u001b[49m\u001b[43m \u001b[49m\u001b[43mvalue_name\u001b[49m\n\u001b[1;32m   1408\u001b[0m \u001b[43m\u001b[49m\u001b[43m)\u001b[49m\n\u001b[1;32m   1410\u001b[0m \u001b[38;5;66;03m# now that `df_output` exists and `args` contains only references, we complete\u001b[39;00m\n\u001b[1;32m   1411\u001b[0m \u001b[38;5;66;03m# the special-case and wide-mode handling by further rewriting args and/or mutating\u001b[39;00m\n\u001b[1;32m   1412\u001b[0m \u001b[38;5;66;03m# df_output\u001b[39;00m\n\u001b[1;32m   1414\u001b[0m count_name \u001b[38;5;241m=\u001b[39m _escape_col_name(df_output, \u001b[38;5;124m\"\u001b[39m\u001b[38;5;124mcount\u001b[39m\u001b[38;5;124m\"\u001b[39m, [var_name, value_name])\n",
      "File \u001b[0;32m~/Documents/code projects/msc/counting_research_algorithms/.venv/lib/python3.9/site-packages/plotly/express/_core.py:1208\u001b[0m, in \u001b[0;36mprocess_args_into_dataframe\u001b[0;34m(args, wide_mode, var_name, value_name)\u001b[0m\n\u001b[1;32m   1206\u001b[0m         \u001b[38;5;28;01mif\u001b[39;00m argument \u001b[38;5;241m==\u001b[39m \u001b[38;5;124m\"\u001b[39m\u001b[38;5;124mindex\u001b[39m\u001b[38;5;124m\"\u001b[39m:\n\u001b[1;32m   1207\u001b[0m             err_msg \u001b[38;5;241m+\u001b[39m\u001b[38;5;241m=\u001b[39m \u001b[38;5;124m\"\u001b[39m\u001b[38;5;130;01m\\n\u001b[39;00m\u001b[38;5;124m To use the index, pass it in directly as `df.index`.\u001b[39m\u001b[38;5;124m\"\u001b[39m\n\u001b[0;32m-> 1208\u001b[0m         \u001b[38;5;28;01mraise\u001b[39;00m \u001b[38;5;167;01mValueError\u001b[39;00m(err_msg)\n\u001b[1;32m   1209\u001b[0m \u001b[38;5;28;01melif\u001b[39;00m length \u001b[38;5;129;01mand\u001b[39;00m \u001b[38;5;28mlen\u001b[39m(df_input[argument]) \u001b[38;5;241m!=\u001b[39m length:\n\u001b[1;32m   1210\u001b[0m     \u001b[38;5;28;01mraise\u001b[39;00m \u001b[38;5;167;01mValueError\u001b[39;00m(\n\u001b[1;32m   1211\u001b[0m         \u001b[38;5;124m\"\u001b[39m\u001b[38;5;124mAll arguments should have the same length. \u001b[39m\u001b[38;5;124m\"\u001b[39m\n\u001b[1;32m   1212\u001b[0m         \u001b[38;5;124m\"\u001b[39m\u001b[38;5;124mThe length of column argument `df[\u001b[39m\u001b[38;5;132;01m%s\u001b[39;00m\u001b[38;5;124m]` is \u001b[39m\u001b[38;5;132;01m%d\u001b[39;00m\u001b[38;5;124m, whereas the \u001b[39m\u001b[38;5;124m\"\u001b[39m\n\u001b[0;32m   (...)\u001b[0m\n\u001b[1;32m   1219\u001b[0m         )\n\u001b[1;32m   1220\u001b[0m     )\n",
      "\u001b[0;31mValueError\u001b[0m: Value of 'x' is not the name of a column in 'data_frame'. Expected one of ['Label', 'PrawnID', 'Avg_Length', 'Std_Length', 'Uncertainty', 'Length_1', 'Length_2', 'Length_3', 'BoundingBox_1', 'BoundingBox_2', 'BoundingBox_3', 'Angle_1', 'Angle_2', 'Angle_3', 'Scale_1', 'Scale_2', 'Scale_3', 'Global_Uncertainty', 'Length_ground_truth_annotation(mm)', 'id', 'Length_fov(mm)', 'Height(mm)', 'focal_RealLength(cm)', 'Length_1_pixels', 'Length_2_pixels', 'Length_3_pixels', 'Pond_Type', 'Euclidean_Distance', 'MPError_fov_min', 'MPError_fov_max', 'MPError_fov_median', 'AbsError_fov_min', 'AbsError_fov_max', 'AbsError_fov_median', 'AbsError_focal_min', 'AbsError_focal_max', 'AbsError_focal_median', 'MPError_focal_min', 'MPError_focal_max', 'MPError_focal_median', 'Error_distance_mm_ground_min', 'Error_distance_mm_ground_max', 'Error_distance_mm_ground_median', 'Error_percentage_distance_mm_ground_min', 'Error_percentage_distance_mm_ground_max', 'Error_percentage_distance_mm_ground_median', 'expert_mean', 'expert_std', 'expert_max', 'expert_min', 'diff_max_min', 'min_mpe', 'max_mpe', 'min_mae', 'max_mae'] but received: Height_mm"
     ]
    }
   ],
   "source": [
    "import pandas as pd\n",
    "import seaborn as sns\n",
    "import matplotlib.pyplot as plt\n",
    "from scipy.stats import pearsonr, spearmanr, shapiro, levene\n",
    "# import pingouin as pg\n",
    "import statsmodels.api as sm\n",
    "import numpy as np\n",
    "import plotly.express as px\n",
    "\n",
    "# Load your data\n",
    "\n",
    "# Calculate expert averages and standard deviations\n",
    "df['expert_mean'] = df[['Length_1', 'Length_2', 'Length_3']].median(axis=1)\n",
    "df['expert_std'] = df[['Length_1', 'Length_2', 'Length_3']].std(axis=1)\n",
    "\n",
    "df['expert_max'] = df[['Length_1', 'Length_2', 'Length_3']].max(axis=1)\n",
    "df['expert_min'] = df[['Length_1', 'Length_2', 'Length_3']].min(axis=1)\n",
    "\n",
    "#diffrence in pixels between the min and max of Length_1_pixels, Length_2_pixels, Length_3_pixels\n",
    "\n",
    "df['diff_max_min'] =abs(df[['Length_1', 'Length_2', 'Length_3']].max(axis=1) - df[['Length_1', 'Length_2', 'Length_3']].min(axis=1))\n",
    "\n",
    "print(f'mean difference between min max' ,df['diff_max_min'].mean())\n",
    "print(f'std  difference between min max ',df['diff_max_min'].std())\n",
    "#\n",
    "median_diff_max_min = df['diff_max_min'].median()\n",
    "print(f'median difference between min max', median_diff_max_min)\n",
    "\n",
    "#violoin plot of the difference between the min and max of the three measurements\n",
    "fig = px.violin(df,\n",
    "                x='Pond_Type', \n",
    "                y='diff_max_min', \n",
    "                box=True,  # Include box plot\n",
    "                points=\"all\",  # Show all points\n",
    "                hover_data=['Label', 'PrawnID'],  # Include hover data\n",
    "                title=f'Violin plot of diff_max_min in mm')\n",
    "#Save the plot to png\n",
    "# fig.write_image(f'violin carapace diff_max_min.png')\n",
    "fig.show()\n",
    "\n",
    "#how many Length_ground_truth_annotation(mm) in comparison with lengthe_1, length_2, length_3 bigger than 50%\n",
    "\n",
    "# df['difference_mean_annotation_expert'] = abs(df['Length_ground_truth_annotation(mm)'] - df['expert_mean']/df['Length_ground_truth_annotation(mm)']) \n",
    "# df['difference_max_annotation_expert'] = abs(df['Length_ground_truth_annotation(mm)'] - df['expert_max']/df['Length_ground_truth_annotation(mm)'])\n",
    "# df['difference_min_annotation_expert'] = abs(df['Length_ground_truth_annotation(mm)'] - df['expert_min']/df['Length_ground_truth_annotation(mm)'])\n",
    "\n",
    "# df['min difference'] = df[['difference_mean_annotation_expert', 'difference_max_annotation_expert', 'difference_min_annotation_expert']].min(axis=1)\n",
    "# df['max_difference'] = df[['difference_mean_annotation_expert', 'difference_max_annotation_expert', 'difference_min_annotation_expert']].max(axis=1)    \n",
    "\n",
    "\n",
    "# df['difference_max_annotation_expert'] = abs(df['Length_ground_truth_annotation(mm)'] - df['expert_max']/df['Length_ground_truth_annotation(mm)'])\n",
    "\n",
    "# df['difference_min_annotation_expert'] = abs(df['Length_ground_truth_annotation(mm)'] - df['expert_min']/df['Length_ground_truth_annotation(mm)'])\n",
    "#violin difference_annotation_expert\n",
    "# fig = px.violin(df,\n",
    "#                 x='Pond_Type',\n",
    "#                 y='min difference',\n",
    "#                 box=True,  # Include box plot\n",
    "#                 points=\"all\",  # Show all points\n",
    "#                 hover_data=['Label', 'PrawnID'],  # Include hover data\n",
    "#                 title=f'Violin plot of difference_annotation_expert',)\n",
    "# #Save the plot to png\n",
    "# fig.write_image(f'violin carapace difference_annotation_expert.png')\n",
    "# fig.show()\n",
    "\n",
    "\n",
    "\n",
    "\n",
    "# Calculate differences\n",
    "# df['diff_mean'] =abs(df['Length_fov(mm)'] - df['expert_mean'])\n",
    "# df['diff_max'] =abs(df['Length_fov(mm)'] - df['expert_max'])\n",
    "# df['diff_min'] =abs(df['Length_fov(mm)'] - df['expert_min'])\n",
    "\n",
    "# df['the_min_diff'] = df[['diff_mean', 'diff_max', 'diff_min']].min(axis=1)\n",
    "\n",
    "\n",
    "#the length measurement of the the_min_diff\n",
    "# df['the_min_diff_length'] =df['Length_fov(mm)'] - df['the_min_diff']\n",
    "\n",
    "#the length measurement of the the_max_diff\n",
    "#percent error of the the_min_diff\n",
    "\n",
    "\n",
    "# df['org_min_diff'] = [\n",
    "#     df['Length_fov(mm)'].iloc[i] - df['the_min_diff'].iloc[i] \n",
    "#     if df['the_min_diff'].iloc[i] > 0 \n",
    "#     else df['Length_fov(mm)'].iloc[i] + abs(df['the_min_diff'].iloc[i]) \n",
    "#     for i in range(len(df))\n",
    "# ]\n",
    "\n",
    "\n",
    "# df['min difference']=df[['Error_percentage_distance_mm_ground_min', 'Error_percentage_distance_mm_ground_max','Error_percentage_distance_mm_ground_median']].min(axis=1)\n",
    "\n",
    "# Calculate the percentage error\n",
    "# df['the_min_diff_percentage_error'] = (df['the_min_diff'].abs() / df['org_min_diff'].abs()) * 100\n",
    "\n",
    "# # Cap the error at 100%\n",
    "# df['the_min_diff_percentage_error'] = df['the_min_diff_percentage_error'].apply(lambda x: min(x, 100))\n",
    "\n",
    "# the percentage error of the the_min_diff when smaller than 100%\n",
    "# df['the_min_diff_percentage_error'] = df['the_min_diff_percentage_error']\n",
    "# df['min difference']=df[['Error_percentage_distance_mm_ground_min', 'Error_percentage_distance_mm_ground_max','Error_percentage_distance_mm_ground_median']].min(axis=1)\n",
    "\n",
    "# Calculate the percentage error\n",
    "# df['the_min_diff_percentage_error'] = (df['the_min_diff'].abs() / df['org_min_diff'].abs()) * 100\n",
    "\n",
    "# # Cap the error at 100%\n",
    "# df['the_min_diff_percentage_error'] = df['the_min_diff_percentage_error'].apply(lambda x: min(x, 100))\n",
    "\n",
    "# the percentage error of the the_min_diff when smaller than 100%\n",
    "# df['the_min_diff_percentage_error'] = df['the_min_diff_percentage_error']\n",
    "df['min_mpe']=df[['MPError_fov_min', 'MPError_fov_max','MPError_fov_median']].min(axis=1)\n",
    "\n",
    "df['max_mpe']=df[['MPError_fov_min', 'MPError_fov_max','MPError_fov_median']].max(axis=1)\n",
    "\n",
    "df['min_mae']=df[['AbsError_fov_min', 'AbsError_fov_max','AbsError_fov_median']].min(axis=1)\n",
    "\n",
    "df['max_mae']=df[['AbsError_fov_min', 'AbsError_fov_max','AbsError_fov_median']].max(axis=1)\n",
    "\n",
    "\n",
    "\n",
    "\n",
    "print('max mae median:')\n",
    "print(df.groupby('Pond_Type')['max_mae'].median())\n",
    "\n",
    "#max mpe median\n",
    "print('max mpe median:')\n",
    "print(df.groupby('Pond_Type')['max_mpe'].median())\n",
    "\n",
    "\n",
    "# Create a violin plot using plotly\n",
    "import plotly.express as px\n",
    "#violin plots wiht plotly for mean percentage error and MAE\n",
    "for error in ['min_mpe', 'min_mae', 'max_mpe', 'max_mae']:\n",
    "        # Create a violin plot using plotly \n",
    "    fig = px.violin(df,\n",
    "                    x='Pond_Type', \n",
    "                    y=error, \n",
    "                    box=True,  # Include box plot\n",
    "                    points=\"all\",  # Show all points\n",
    "                    hover_data=['Label', 'PrawnID'],  # Include hover data\n",
    "                    title=f'Violin plot of {error} in mm' )\n",
    "    #Save the plot to png\n",
    "    # fig.write_image(f'violin full {error}_.png')\n",
    "    fig.show()\n",
    "\n",
    "#change name of each pond type if test-car change to square-female if test-right change to circular big male if test-left change to circular small mal\n",
    "\n",
    "print('min mae median:')\n",
    "print(\"min mae for all pond types:\")\n",
    "print(df['min_mae'].median())\n",
    "print(\"min mae for each pond type:\")\n",
    "print(df.groupby('Pond_Type')['min_mae'].median())\n",
    "\n",
    "#min mpe median\n",
    "print('min mpe median:')\n",
    "print(\"min mpe for all pond types:\")\n",
    "print(df['min_mpe'].median())\n",
    "print(\"min mpe for each pond type:\")\n",
    "print(df.groupby('Pond_Type')['min_mpe'].median())\n",
    "\n",
    "\n",
    "# #scatter plot the_min_diff_percentage_error and  difference_annotation_expert plotly\n",
    "# fig = px.scatter(df, x='min_mpe', y='min difference', color='Pond_Type', hover_data=['Label', 'PrawnID'])\n",
    "# #add title\n",
    "# fig.update_layout(title='min_mpe vs. difference_annotation_expert')\n",
    "\n",
    "# #save the plot to png\n",
    "# fig.write_image('the_min_diff_percentage_error vs. difference_annotation_expert.png')\n",
    "# # Add a trendline\n",
    "\n",
    "\n",
    "# fig.show()\n",
    "\n",
    "\n",
    "# #scatter plot the_min_diff_percentage_error and  pose_eval_iou plotly\n",
    "# fig = px.scatter(df, x='min_mpe', y='pose_eval_iou', color='Pond_Type', hover_data=['Label', 'PrawnID'])\n",
    "# #add title\n",
    "# fig.update_layout(title='min_mpe vs. pose_eval_iou')\n",
    "\n",
    "# #save the plot to png\n",
    "# fig.write_image('the_min_diff_percentage_error vs. pose_eval_iou.png')\n",
    "# # Add a trendline\n",
    "# fig.show()\n",
    "\n",
    "#scatter plot between min_mpe and height\n",
    "fig = px.scatter(df, x='Height_mm', y='min_mpe', hover_data=['Label', 'PrawnID'])\n",
    "#add title\n",
    "fig.update_layout(title='min_mpe vs. Height')\n",
    "\n",
    "#save the plot to png\n",
    "fig.write_image('full body_ min_mpe vs. Height.png')\n",
    "# Add a trendline\n",
    "fig.show()\n",
    "\n",
    "#max mae median\n",
    "\n",
    "#total min mae\n",
    "\n",
    "\n",
    "\n",
    "# Normality Test\n"
   ]
  },
  {
   "cell_type": "code",
   "execution_count": 11,
   "metadata": {},
   "outputs": [
    {
     "name": "stdout",
     "output_type": "stream",
     "text": [
      "avg length:\n",
      "Pond_Type\n",
      "car      112.664833\n",
      "left      68.095333\n",
      "right    116.280667\n",
      "Name: Avg_Length, dtype: float64\n"
     ]
    }
   ],
   "source": [
    "#avg length\n",
    "print('avg length:')\n",
    "print(df.groupby('Pond_Type')['Avg_Length'].median())\n"
   ]
  },
  {
   "cell_type": "code",
   "execution_count": 14,
   "metadata": {},
   "outputs": [
    {
     "name": "stdout",
     "output_type": "stream",
     "text": [
      "length range between min and max:\n",
      "          Length_1         Length_2         Length_3        \n",
      "               min     max      min     max      min     max\n",
      "Pond_Type                                                   \n",
      "car          89.03  144.13    86.33  137.24    95.56  140.43\n",
      "left         36.90  135.61    34.40  134.93    39.16  126.32\n",
      "right        68.78  169.07    63.03  171.18    70.58  166.31\n"
     ]
    }
   ],
   "source": [
    "#length range between min and max\n",
    "print('length range between min and max:')\n",
    "print(df.groupby('Pond_Type').agg({\n",
    "    'Length_1': ['min', 'max'],\n",
    "    'Length_2': ['min', 'max'], \n",
    "    'Length_3': ['min', 'max']\n",
    "}).round(2))\n"
   ]
  },
  {
   "cell_type": "code",
   "execution_count": 18,
   "metadata": {},
   "outputs": [
    {
     "name": "stdout",
     "output_type": "stream",
     "text": [
      "median and median absolute deviation of the length:\n",
      "            Length_1              Length_2              Length_3           \n",
      "          <lambda_0> <lambda_1> <lambda_0> <lambda_1> <lambda_0> <lambda_1>\n",
      "Pond_Type                                                                  \n",
      "car           109.16      11.85     111.73      18.69     113.49      20.64\n",
      "left           64.54      22.74      68.79      19.66      71.72      19.98\n",
      "right         113.84      18.84     112.24      20.75     120.17      20.82\n"
     ]
    }
   ],
   "source": [
    "#median and std of the length\n",
    "\n",
    "import scipy.stats as stats\n",
    "\n",
    "from scipy.stats import median_abs_deviation\n",
    "\n",
    "print('median and median absolute deviation of the length:')\n",
    "print(df.groupby('Pond_Type').agg({\n",
    "    'Length_1': [lambda x: np.median(x), lambda x: median_abs_deviation(x, scale='normal')],\n",
    "    'Length_2': [lambda x: np.median(x), lambda x: median_abs_deviation(x, scale='normal')],\n",
    "    'Length_3': [lambda x: np.median(x), lambda x: median_abs_deviation(x, scale='normal')]\n",
    "}).round(2))\n",
    "\n"
   ]
  },
  {
   "cell_type": "code",
   "execution_count": 19,
   "metadata": {},
   "outputs": [
    {
     "name": "stdout",
     "output_type": "stream",
     "text": [
      "Per-Prawn Uncertainty:\n",
      "\n",
      "Overall Uncertainty by Pond Type:\n",
      "  Pond_Type  Overall_Mean_Length  Overall_Uncertainty\n",
      "0       car               114.17                 7.11\n",
      "1      left                73.02                 5.27\n",
      "2     right               116.34                 7.53\n"
     ]
    }
   ],
   "source": [
    "df['Mean_Length'] = df[['Length_1', 'Length_2', 'Length_3']].mean(axis=1)\n",
    "df['Std_Dev_Length'] = df[['Length_1', 'Length_2', 'Length_3']].std(axis=1)\n",
    "\n",
    "# Derive overall uncertainty by pond type\n",
    "overall_stats = df.groupby('Pond_Type').agg({\n",
    "    'Mean_Length': 'mean',\n",
    "    'Std_Dev_Length': 'mean'\n",
    "}).rename(columns={\n",
    "    'Mean_Length': 'Overall_Mean_Length',\n",
    "    'Std_Dev_Length': 'Overall_Uncertainty'\n",
    "}).reset_index()\n",
    "\n",
    "# Print per-prawn uncertainty\n",
    "print(\"Per-Prawn Uncertainty:\")\n",
    "# print(df[['Pond_Type', 'Mean_Length', 'Std_Dev_Length']].round(2))\n",
    "\n",
    "# Print overall uncertainty by pond type\n",
    "print(\"\\nOverall Uncertainty by Pond Type:\")\n",
    "print(overall_stats.round(2))"
   ]
  },
  {
   "cell_type": "code",
   "execution_count": 48,
   "metadata": {},
   "outputs": [
    {
     "data": {
      "application/vnd.plotly.v1+json": {
       "config": {
        "plotlyServerURL": "https://plot.ly"
       },
       "data": [
        {
         "customdata": [
          [
           "full body:undistorted_GX010077_14_237.jpg_gamma",
           "Prawn_0"
          ],
          [
           "full body:undistorted_GX010077_14_237.jpg_gamma",
           "Prawn_1"
          ],
          [
           "full body:undistorted_GX010077_14_237.jpg_gamma",
           "Prawn_2"
          ],
          [
           "full body:undistorted_GX010067_33_625.jpg_gamma",
           "Prawn_0"
          ],
          [
           "full body:undistorted_GX010067_33_625.jpg_gamma",
           "Prawn_1"
          ],
          [
           "full body:undistorted_GX010067_33_625.jpg_gamma",
           "Prawn_2"
          ],
          [
           "full body:undistorted_GX010067_33_625.jpg_gamma",
           "Prawn_3"
          ],
          [
           "full body:undistorted_GX010068_26_666.jpg_gamma",
           "Prawn_0"
          ],
          [
           "full body:undistorted_GX010068_26_666.jpg_gamma",
           "Prawn_1"
          ],
          [
           "full body:undistorted_GX010068_26_666.jpg_gamma",
           "Prawn_2"
          ],
          [
           "full body:undistorted_GX010068_27_795.jpg_gamma",
           "Prawn_0"
          ],
          [
           "full body:undistorted_GX010068_27_795.jpg_gamma",
           "Prawn_1"
          ],
          [
           "full body:undistorted_GX010069_19_191.jpg_gamma",
           "Prawn_0"
          ],
          [
           "full body:undistorted_GX010069_19_191.jpg_gamma",
           "Prawn_1"
          ],
          [
           "full body:undistorted_GX010069_19_191.jpg_gamma",
           "Prawn_2"
          ],
          [
           "full body:undistorted_GX010069_19_191.jpg_gamma",
           "Prawn_3"
          ],
          [
           "full body:undistorted_GX010071_22_444.jpg_gamma",
           "Prawn_0"
          ],
          [
           "full body:undistorted_GX010071_22_444.jpg_gamma",
           "Prawn_1"
          ],
          [
           "full body:undistorted_GX010073_42_695.jpg_gamma",
           "Prawn_0"
          ],
          [
           "full body:undistorted_GX010073_42_695.jpg_gamma",
           "Prawn_1"
          ],
          [
           "full body:undistorted_GX010073_42_695.jpg_gamma",
           "Prawn_2"
          ],
          [
           "full body:undistorted_GX010073_55_1014.jpg_gamma",
           "Prawn_0"
          ],
          [
           "full body:undistorted_GX010073_55_1014.jpg_gamma",
           "Prawn_1"
          ],
          [
           "full body:undistorted_GX010073_55_1014.jpg_gamma",
           "Prawn_2"
          ],
          [
           "full body:undistorted_GX010080_157_2283.jpg_gamma",
           "Prawn_0"
          ],
          [
           "full body:undistorted_GX010080_157_2283.jpg_gamma",
           "Prawn_2"
          ],
          [
           "full body:undistorted_GX010080_157_2283.jpg_gamma",
           "Prawn_3"
          ],
          [
           "full body:undistorted_GX010080_193_2640.jpg_gamma",
           "Prawn_0"
          ],
          [
           "full body:undistorted_GX010080_193_2640.jpg_gamma",
           "Prawn_1"
          ],
          [
           "full body:undistorted_GX010080_193_2640.jpg_gamma",
           "Prawn_2"
          ],
          [
           "full body:undistorted_GX010080_193_2640.jpg_gamma",
           "Prawn_3"
          ],
          [
           "full body:undistorted_GX010080_193_2640.jpg_gamma",
           "Prawn_4"
          ],
          [
           "full body:undistorted_GX010080_212_2954.jpg_gamma",
           "Prawn_0"
          ],
          [
           "full body:undistorted_GX010080_212_2954.jpg_gamma",
           "Prawn_1"
          ],
          [
           "full body:undistorted_GX010080_212_2954.jpg_gamma",
           "Prawn_2"
          ],
          [
           "full body:undistorted_GX010080_237_3366.jpg_gamma",
           "Prawn_0"
          ],
          [
           "full body:undistorted_GX010080_237_3366.jpg_gamma",
           "Prawn_1"
          ],
          [
           "full body:undistorted_GX010080_237_3366.jpg_gamma",
           "Prawn_2"
          ],
          [
           "full body:undistorted_GX010080_237_3366.jpg_gamma",
           "Prawn_3"
          ],
          [
           "full body:undistorted_GX010080_237_3366.jpg_gamma",
           "Prawn_4"
          ],
          [
           "full body:undistorted_GX010080_238_3392.jpg_gamma",
           "Prawn_0"
          ],
          [
           "full body:undistorted_GX010080_238_3392.jpg_gamma",
           "Prawn_1"
          ],
          [
           "full body:undistorted_GX010080_238_3392.jpg_gamma",
           "Prawn_2"
          ],
          [
           "full body:undistorted_GX010080_238_3392.jpg_gamma",
           "Prawn_3"
          ],
          [
           "full body:undistorted_GX010082_8_59.jpg_gamma",
           "Prawn_1"
          ],
          [
           "full body:undistorted_GX010082_8_59.jpg_gamma",
           "Prawn_2"
          ],
          [
           "full body:undistorted_GX010082_8_59.jpg_gamma",
           "Prawn_3"
          ],
          [
           "full body:undistorted_GX010082_8_59.jpg_gamma",
           "Prawn_4"
          ],
          [
           "full body:undistorted_GX010082_53_796.jpg_gamma",
           "Prawn_0"
          ],
          [
           "full body:undistorted_GX010082_53_796.jpg_gamma",
           "Prawn_1"
          ],
          [
           "full body:undistorted_GX010082_65_1070.jpg_gamma",
           "Prawn_0"
          ],
          [
           "full body:undistorted_GX010082_65_1070.jpg_gamma",
           "Prawn_1"
          ],
          [
           "full body:undistorted_GX010082_65_1070.jpg_gamma",
           "Prawn_2"
          ],
          [
           "full body:undistorted_GX010082_236_3137.jpg_gamma",
           "Prawn_0"
          ],
          [
           "full body:undistorted_GX010082_236_3137.jpg_gamma",
           "Prawn_1"
          ],
          [
           "full body:undistorted_GX010082_236_3137.jpg_gamma",
           "Prawn_2"
          ],
          [
           "full body:undistorted_GX010084_30_344.jpg_gamma",
           "Prawn_0"
          ],
          [
           "full body:undistorted_GX010084_30_344.jpg_gamma",
           "Prawn_1"
          ],
          [
           "full body:undistorted_GX010084_30_344.jpg_gamma",
           "Prawn_2"
          ],
          [
           "full body:undistorted_GX010084_30_344.jpg_gamma",
           "Prawn_3"
          ],
          [
           "full body:undistorted_GX010084_130_1748.jpg_gamma",
           "Prawn_0"
          ],
          [
           "full body:undistorted_GX010084_130_1748.jpg_gamma",
           "Prawn_1"
          ],
          [
           "full body:undistorted_GX010084_130_1748.jpg_gamma",
           "Prawn_2"
          ],
          [
           "full body:undistorted_GX010085_261_3610.jpg_gamma",
           "Prawn_0"
          ],
          [
           "full body:undistorted_GX010085_261_3610.jpg_gamma",
           "Prawn_1"
          ],
          [
           "full body:undistorted_GX010088_209_2904.jpg_gamma",
           "Prawn_0"
          ],
          [
           "full body:undistorted_GX010088_209_2904.jpg_gamma",
           "Prawn_1"
          ],
          [
           "full body:undistorted_GX010088_262_3712.jpg_gamma",
           "Prawn_0"
          ],
          [
           "full body:undistorted_GX010088_262_3712.jpg_gamma",
           "Prawn_1"
          ],
          [
           "full body:undistorted_GX010088_262_3712.jpg_gamma",
           "Prawn_2"
          ],
          [
           "full body:undistorted_GX010088_327_4364.jpg_gamma",
           "Prawn_0"
          ],
          [
           "full body:undistorted_GX010088_327_4364.jpg_gamma",
           "Prawn_1"
          ],
          [
           "full body:undistorted_GX010088_327_4364.jpg_gamma",
           "Prawn_2"
          ],
          [
           "full body:undistorted_GX010088_327_4364.jpg_gamma",
           "Prawn_3"
          ],
          [
           "full body:undistorted_GX010090_132_1852.jpg_gamma",
           "Prawn_0"
          ],
          [
           "full body:undistorted_GX010094_9_129.jpg_gamma",
           "Prawn_0"
          ],
          [
           "full body:undistorted_GX010094_9_129.jpg_gamma",
           "Prawn_1"
          ],
          [
           "full body:undistorted_GX010094_24_430.jpg_gamma",
           "Prawn_0"
          ],
          [
           "full body:undistorted_GX010094_93_1258.jpg_gamma",
           "Prawn_0"
          ],
          [
           "full body:undistorted_GX010094_163_2312.jpg_gamma",
           "Prawn_0"
          ],
          [
           "full body:undistorted_GX010097_32_528.jpg_gamma",
           "Prawn_0"
          ],
          [
           "full body:undistorted_GX010097_32_528.jpg_gamma",
           "Prawn_1"
          ],
          [
           "full body:undistorted_GX010097_60_1080.jpg_gamma",
           "Prawn_0"
          ],
          [
           "full body:undistorted_GX010097_60_1080.jpg_gamma",
           "Prawn_1"
          ],
          [
           "full body:undistorted_GX010097_60_1080.jpg_gamma",
           "Prawn_2"
          ],
          [
           "full body:undistorted_GX010097_60_1080.jpg_gamma",
           "Prawn_3"
          ],
          [
           "full body:undistorted_GX010097_105_1651.jpg_gamma",
           "Prawn_0"
          ],
          [
           "full body:undistorted_GX010097_105_1651.jpg_gamma",
           "Prawn_1"
          ],
          [
           "full body:undistorted_GX010097_105_1651.jpg_gamma",
           "Prawn_2"
          ],
          [
           "full body:undistorted_GX010097_105_1651.jpg_gamma",
           "Prawn_3"
          ],
          [
           "full body:undistorted_GX010097_124_1870.jpg_gamma",
           "Prawn_0"
          ],
          [
           "full body:undistorted_GX010097_124_1870.jpg_gamma",
           "Prawn_1"
          ],
          [
           "full body:undistorted_GX010101_12_173.jpg_gamma",
           "Prawn_0"
          ]
         ],
         "hovertemplate": "PondType=circular-big<br>min_mpe=%{x}<br>min_mpe_pixels=%{y}<br>Label=%{customdata[0]}<br>PrawnID=%{customdata[1]}<extra></extra>",
         "legendgroup": "circular-big",
         "marker": {
          "color": "#636efa",
          "symbol": "circle"
         },
         "mode": "markers",
         "name": "circular-big",
         "orientation": "v",
         "showlegend": true,
         "type": "scatter",
         "x": [
          5.945304408505487,
          8.455241844417314,
          1.515158498756725,
          6.791594782267427,
          1.158354732936139,
          2.230836590281231,
          9.10666683576594,
          10.56795825508955,
          13.35001318035945,
          7.103048036814945,
          3.192735655682762,
          1.35674126056174,
          0.8592858266215947,
          15.92971313591953,
          13.91240568192508,
          12.33170727615706,
          8.87300487578375,
          1.066739046747712,
          20.76469988648511,
          4.920383068785219,
          2.262320843955222,
          4.740438899024116,
          6.091419510323511,
          21.43249585045907,
          29.92834528821497,
          29.96089462212668,
          25.22602931968579,
          17.54458431272633,
          12.11788235236907,
          17.59181164990475,
          7.794637029205479,
          20.71931550038067,
          18.40456792720543,
          8.66887908630012,
          2.107080888226245,
          9.616539623397461,
          14.79243064634031,
          14.68808777396873,
          4.785128108775853,
          2.062158347057675,
          10.68392631881961,
          16.42497283197103,
          8.714237925717088,
          11.24828111614709,
          1.693503413135365,
          1.202455148416885,
          2.770219350870582,
          11.27608276791631,
          5.766674587999535,
          1.04689901424448,
          17.99537649030619,
          28.3522675774136,
          14.7964312017854,
          25.76404514273009,
          25.31833639953887,
          0.05802042169670792,
          7.152414619659401,
          5.253905300934747,
          1.562027583937642,
          8.507320081605254,
          3.016172250152385,
          11.49657386206835,
          0.5009595838224843,
          14.71494425780231,
          2.148503726255284,
          10.097833041856,
          3.5495676693248,
          1.753401842794375,
          2.409928211536239,
          2.894888078574604,
          6.489983605123991,
          7.842024317217636,
          5.0462851241997,
          1.331172587777697,
          8.250497842754143,
          12.02944951205384,
          11.62892730307281,
          9.445447177591484,
          0.1040740596784668,
          11.75924950873195,
          11.56662169678167,
          62.68485297131578,
          16.48241489903097,
          9.312651557604314,
          33.40061955368242,
          2.532593449061535,
          32.86130529952187,
          10.05284442989043,
          26.89497366492718,
          42.42377358681658,
          25.98817181134315,
          13.32810860151705,
          1.88067204235004
         ],
         "xaxis": "x",
         "y": [
          12.48288265259098,
          12.3630661771587,
          2.302461802681407,
          4.79379394979899,
          3.521705701962748,
          1.251262055482046,
          7.866630481496505,
          11.04025075258177,
          12.28857120151366,
          0.1545531295499506,
          8.235896624576142,
          3.547171852639298,
          6.284174550886974,
          3.801917223437909,
          8.352226129756223,
          0.5971332416755989,
          10.02305069597079,
          0.7844976728495804,
          11.49194708512599,
          12.85333385122596,
          4.653426343637084,
          3.012236158362412,
          7.107504089273172,
          14.87174805989194,
          3.561324244674857,
          1.968772394790982,
          1.389502622713374,
          5.422067795518918,
          0.9505098606718224,
          5.749922179159776,
          0.1407688617940605,
          8.510985112337126,
          9.060745592957351,
          1.305168726571253,
          2.408782376796231,
          2.453830894990467,
          8.00469404607008,
          7.532818032363887,
          1.456391358325706,
          0.3046994282399219,
          5.288740631981876,
          5.593405925584536,
          1.436294619478988,
          6.538489483927902,
          10.16313671768953,
          1.390084278318477,
          0.8870808198487604,
          11.18678670958008,
          1.657984470547401,
          7.326262887579349,
          1.513216326205908,
          9.024083270320515,
          0.2586862005125452,
          7.623523140329461,
          6.664456041015512,
          15.31972765575682,
          9.588451210192957,
          9.031368863168762,
          4.432014397362575,
          12.62111954315755,
          9.362183451931713,
          0.112583180508155,
          6.144555528286459,
          3.246799469648991,
          1.827999549946229,
          1.237084092399996,
          1.91439924347847,
          5.441691296207077,
          0.2082489240671335,
          1.572164685970141,
          0.1200408359184761,
          2.343416352884153,
          2.064832996418575,
          1.275640580825451,
          0.03055067835738017,
          5.662884595740488,
          0.02631647500835967,
          5.41696868647234,
          0.2571594134149691,
          5.059193281736894,
          8.356147188314587,
          48.89069106258489,
          10.92897965361014,
          8.050252225843554,
          31.45500790156628,
          0.8353493928836849,
          17.45000311961287,
          2.573222803640357,
          21.00886734776372,
          26.18744212931081,
          6.717019531531681,
          1.865800866675482,
          0.6868403601419241
         ],
         "yaxis": "y"
        },
        {
         "customdata": [
          [
           "full body:undistorted_GX010089_11_236.jpg_gamma",
           "Prawn_0"
          ],
          [
           "full body:undistorted_GX010089_11_236.jpg_gamma",
           "Prawn_1"
          ],
          [
           "full body:undistorted_GX010089_11_236.jpg_gamma",
           "Prawn_2"
          ],
          [
           "full body:undistorted_GX010089_11_236.jpg_gamma",
           "Prawn_3"
          ],
          [
           "full body:undistorted_GX010091_5_149.jpg_gamma",
           "Prawn_0"
          ],
          [
           "full body:undistorted_GX010091_5_149.jpg_gamma",
           "Prawn_1"
          ],
          [
           "full body:undistorted_GX010091_5_149.jpg_gamma",
           "Prawn_2"
          ],
          [
           "full body:undistorted_GX010102_9_165.jpg_gamma",
           "Prawn_1"
          ],
          [
           "full body:undistorted_GX010102_9_165.jpg_gamma",
           "Prawn_2"
          ],
          [
           "full body:undistorted_GX010102_9_165.jpg_gamma",
           "Prawn_3"
          ],
          [
           "full body:undistorted_GX010102_9_165.jpg_gamma",
           "Prawn_4"
          ],
          [
           "full body:undistorted_GX010102_9_165.jpg_gamma",
           "Prawn_5"
          ],
          [
           "full body:undistorted_GX010102_50_1396.jpg_gamma",
           "Prawn_0"
          ],
          [
           "full body:undistorted_GX010105_28_816.jpg_gamma",
           "Prawn_0"
          ],
          [
           "full body:undistorted_GX010105_28_816.jpg_gamma",
           "Prawn_1"
          ]
         ],
         "hovertemplate": "PondType=circular-small<br>min_mpe=%{x}<br>min_mpe_pixels=%{y}<br>Label=%{customdata[0]}<br>PrawnID=%{customdata[1]}<extra></extra>",
         "legendgroup": "circular-small",
         "marker": {
          "color": "#EF553B",
          "symbol": "circle"
         },
         "mode": "markers",
         "name": "circular-small",
         "orientation": "v",
         "showlegend": true,
         "type": "scatter",
         "x": [
          31.99160144760634,
          23.82610711128963,
          25.20331023526624,
          5.052812026474951,
          23.12555326069806,
          14.05738437259452,
          95.4678271948721,
          22.69741793004322,
          95.98272265594827,
          59.53951278726044,
          28.81185618126997,
          24.39562164002855,
          15.39666495802374,
          24.69197886822858,
          23.27606391887926
         ],
         "xaxis": "x",
         "y": [
          16.8845892591151,
          9.529332159596644,
          8.838763778924303,
          17.02971209309064,
          4.367160339630132,
          6.986310261478507,
          72.69225960845698,
          2.414808505349144,
          77.92932837715429,
          42.92530860024891,
          10.07024634967029,
          12.00239743573357,
          0.9241595412110951,
          7.266460807549559,
          5.427020057937867
         ],
         "yaxis": "y"
        },
        {
         "customdata": [
          [
           "full body:undistorted_GX010152_36_378.jpg_gamma",
           "Prawn_0"
          ],
          [
           "full body:undistorted_GX010152_36_378.jpg_gamma",
           "Prawn_1"
          ],
          [
           "full body:undistorted_GX010157_160_2259",
           "Prawn_0"
          ],
          [
           "full body:undistorted_GX010157_174_2582.jpg_gamma",
           "Prawn_0"
          ],
          [
           "full body:undistorted_GX010157_177_2665.jpg_gamma",
           "Prawn_0"
          ],
          [
           "full body:undistorted_GX010161_54_676.jpg_gamma.jpg_gamma",
           "Prawn_0"
          ],
          [
           "full body:undistorted_GX010162_72_927.jpg_gamma.jpg_gamma",
           "Prawn_0"
          ],
          [
           "full body:undistorted_GX010174_62_790.jpg_gamma",
           "Prawn_0"
          ],
          [
           "full body:undistorted_GX010175_266_3372.jpg_gamma.jpg_gamma",
           "Prawn_0"
          ],
          [
           "full body:undistorted_GX010177_232_3047",
           "Prawn_0"
          ],
          [
           "full body:undistorted_GX010178_172_3604.jpg_gamma",
           "Prawn_0"
          ],
          [
           "full body:undistorted_GX010183_37_685.jpg_gamma",
           "Prawn_0"
          ],
          [
           "full body:undistorted_GX010183_80_1633.jpg_gamma",
           "Prawn_0"
          ],
          [
           "full body:undistorted_GX010183_128_2852.jpg_gamma",
           "Prawn_0"
          ]
         ],
         "hovertemplate": "PondType=square-female<br>min_mpe=%{x}<br>min_mpe_pixels=%{y}<br>Label=%{customdata[0]}<br>PrawnID=%{customdata[1]}<extra></extra>",
         "legendgroup": "square-female",
         "marker": {
          "color": "#00cc96",
          "symbol": "circle"
         },
         "mode": "markers",
         "name": "square-female",
         "orientation": "v",
         "showlegend": true,
         "type": "scatter",
         "x": [
          0.9388052742723175,
          4.3764895603878,
          4.705978106553222,
          1.296063456460069,
          0.6056386868811566,
          6.078122484892265,
          5.15765909020042,
          0.8808650933232919,
          0.1974332611938016,
          7.139254068718754,
          0.9213217027069058,
          1.721087643436768,
          2.124052760638611,
          4.025913206838674
         ],
         "xaxis": "x",
         "y": [
          7.09343797410378,
          15.24698283582091,
          1.793462869398667,
          1.932398625958991,
          10.9788339630597,
          3.74007539892663,
          0.6916285701722816,
          4.240745578987989,
          2.383726377917921,
          7.470823802020372,
          0.7451242053531523,
          2.348908172385136,
          2.758561866710078,
          0.2111397158470358
         ],
         "yaxis": "y"
        }
       ],
       "layout": {
        "legend": {
         "title": {
          "text": "PondType"
         },
         "tracegroupgap": 0
        },
        "margin": {
         "t": 60
        },
        "template": {
         "data": {
          "bar": [
           {
            "error_x": {
             "color": "#2a3f5f"
            },
            "error_y": {
             "color": "#2a3f5f"
            },
            "marker": {
             "line": {
              "color": "#E5ECF6",
              "width": 0.5
             },
             "pattern": {
              "fillmode": "overlay",
              "size": 10,
              "solidity": 0.2
             }
            },
            "type": "bar"
           }
          ],
          "barpolar": [
           {
            "marker": {
             "line": {
              "color": "#E5ECF6",
              "width": 0.5
             },
             "pattern": {
              "fillmode": "overlay",
              "size": 10,
              "solidity": 0.2
             }
            },
            "type": "barpolar"
           }
          ],
          "carpet": [
           {
            "aaxis": {
             "endlinecolor": "#2a3f5f",
             "gridcolor": "white",
             "linecolor": "white",
             "minorgridcolor": "white",
             "startlinecolor": "#2a3f5f"
            },
            "baxis": {
             "endlinecolor": "#2a3f5f",
             "gridcolor": "white",
             "linecolor": "white",
             "minorgridcolor": "white",
             "startlinecolor": "#2a3f5f"
            },
            "type": "carpet"
           }
          ],
          "choropleth": [
           {
            "colorbar": {
             "outlinewidth": 0,
             "ticks": ""
            },
            "type": "choropleth"
           }
          ],
          "contour": [
           {
            "colorbar": {
             "outlinewidth": 0,
             "ticks": ""
            },
            "colorscale": [
             [
              0,
              "#0d0887"
             ],
             [
              0.1111111111111111,
              "#46039f"
             ],
             [
              0.2222222222222222,
              "#7201a8"
             ],
             [
              0.3333333333333333,
              "#9c179e"
             ],
             [
              0.4444444444444444,
              "#bd3786"
             ],
             [
              0.5555555555555556,
              "#d8576b"
             ],
             [
              0.6666666666666666,
              "#ed7953"
             ],
             [
              0.7777777777777778,
              "#fb9f3a"
             ],
             [
              0.8888888888888888,
              "#fdca26"
             ],
             [
              1,
              "#f0f921"
             ]
            ],
            "type": "contour"
           }
          ],
          "contourcarpet": [
           {
            "colorbar": {
             "outlinewidth": 0,
             "ticks": ""
            },
            "type": "contourcarpet"
           }
          ],
          "heatmap": [
           {
            "colorbar": {
             "outlinewidth": 0,
             "ticks": ""
            },
            "colorscale": [
             [
              0,
              "#0d0887"
             ],
             [
              0.1111111111111111,
              "#46039f"
             ],
             [
              0.2222222222222222,
              "#7201a8"
             ],
             [
              0.3333333333333333,
              "#9c179e"
             ],
             [
              0.4444444444444444,
              "#bd3786"
             ],
             [
              0.5555555555555556,
              "#d8576b"
             ],
             [
              0.6666666666666666,
              "#ed7953"
             ],
             [
              0.7777777777777778,
              "#fb9f3a"
             ],
             [
              0.8888888888888888,
              "#fdca26"
             ],
             [
              1,
              "#f0f921"
             ]
            ],
            "type": "heatmap"
           }
          ],
          "heatmapgl": [
           {
            "colorbar": {
             "outlinewidth": 0,
             "ticks": ""
            },
            "colorscale": [
             [
              0,
              "#0d0887"
             ],
             [
              0.1111111111111111,
              "#46039f"
             ],
             [
              0.2222222222222222,
              "#7201a8"
             ],
             [
              0.3333333333333333,
              "#9c179e"
             ],
             [
              0.4444444444444444,
              "#bd3786"
             ],
             [
              0.5555555555555556,
              "#d8576b"
             ],
             [
              0.6666666666666666,
              "#ed7953"
             ],
             [
              0.7777777777777778,
              "#fb9f3a"
             ],
             [
              0.8888888888888888,
              "#fdca26"
             ],
             [
              1,
              "#f0f921"
             ]
            ],
            "type": "heatmapgl"
           }
          ],
          "histogram": [
           {
            "marker": {
             "pattern": {
              "fillmode": "overlay",
              "size": 10,
              "solidity": 0.2
             }
            },
            "type": "histogram"
           }
          ],
          "histogram2d": [
           {
            "colorbar": {
             "outlinewidth": 0,
             "ticks": ""
            },
            "colorscale": [
             [
              0,
              "#0d0887"
             ],
             [
              0.1111111111111111,
              "#46039f"
             ],
             [
              0.2222222222222222,
              "#7201a8"
             ],
             [
              0.3333333333333333,
              "#9c179e"
             ],
             [
              0.4444444444444444,
              "#bd3786"
             ],
             [
              0.5555555555555556,
              "#d8576b"
             ],
             [
              0.6666666666666666,
              "#ed7953"
             ],
             [
              0.7777777777777778,
              "#fb9f3a"
             ],
             [
              0.8888888888888888,
              "#fdca26"
             ],
             [
              1,
              "#f0f921"
             ]
            ],
            "type": "histogram2d"
           }
          ],
          "histogram2dcontour": [
           {
            "colorbar": {
             "outlinewidth": 0,
             "ticks": ""
            },
            "colorscale": [
             [
              0,
              "#0d0887"
             ],
             [
              0.1111111111111111,
              "#46039f"
             ],
             [
              0.2222222222222222,
              "#7201a8"
             ],
             [
              0.3333333333333333,
              "#9c179e"
             ],
             [
              0.4444444444444444,
              "#bd3786"
             ],
             [
              0.5555555555555556,
              "#d8576b"
             ],
             [
              0.6666666666666666,
              "#ed7953"
             ],
             [
              0.7777777777777778,
              "#fb9f3a"
             ],
             [
              0.8888888888888888,
              "#fdca26"
             ],
             [
              1,
              "#f0f921"
             ]
            ],
            "type": "histogram2dcontour"
           }
          ],
          "mesh3d": [
           {
            "colorbar": {
             "outlinewidth": 0,
             "ticks": ""
            },
            "type": "mesh3d"
           }
          ],
          "parcoords": [
           {
            "line": {
             "colorbar": {
              "outlinewidth": 0,
              "ticks": ""
             }
            },
            "type": "parcoords"
           }
          ],
          "pie": [
           {
            "automargin": true,
            "type": "pie"
           }
          ],
          "scatter": [
           {
            "fillpattern": {
             "fillmode": "overlay",
             "size": 10,
             "solidity": 0.2
            },
            "type": "scatter"
           }
          ],
          "scatter3d": [
           {
            "line": {
             "colorbar": {
              "outlinewidth": 0,
              "ticks": ""
             }
            },
            "marker": {
             "colorbar": {
              "outlinewidth": 0,
              "ticks": ""
             }
            },
            "type": "scatter3d"
           }
          ],
          "scattercarpet": [
           {
            "marker": {
             "colorbar": {
              "outlinewidth": 0,
              "ticks": ""
             }
            },
            "type": "scattercarpet"
           }
          ],
          "scattergeo": [
           {
            "marker": {
             "colorbar": {
              "outlinewidth": 0,
              "ticks": ""
             }
            },
            "type": "scattergeo"
           }
          ],
          "scattergl": [
           {
            "marker": {
             "colorbar": {
              "outlinewidth": 0,
              "ticks": ""
             }
            },
            "type": "scattergl"
           }
          ],
          "scattermapbox": [
           {
            "marker": {
             "colorbar": {
              "outlinewidth": 0,
              "ticks": ""
             }
            },
            "type": "scattermapbox"
           }
          ],
          "scatterpolar": [
           {
            "marker": {
             "colorbar": {
              "outlinewidth": 0,
              "ticks": ""
             }
            },
            "type": "scatterpolar"
           }
          ],
          "scatterpolargl": [
           {
            "marker": {
             "colorbar": {
              "outlinewidth": 0,
              "ticks": ""
             }
            },
            "type": "scatterpolargl"
           }
          ],
          "scatterternary": [
           {
            "marker": {
             "colorbar": {
              "outlinewidth": 0,
              "ticks": ""
             }
            },
            "type": "scatterternary"
           }
          ],
          "surface": [
           {
            "colorbar": {
             "outlinewidth": 0,
             "ticks": ""
            },
            "colorscale": [
             [
              0,
              "#0d0887"
             ],
             [
              0.1111111111111111,
              "#46039f"
             ],
             [
              0.2222222222222222,
              "#7201a8"
             ],
             [
              0.3333333333333333,
              "#9c179e"
             ],
             [
              0.4444444444444444,
              "#bd3786"
             ],
             [
              0.5555555555555556,
              "#d8576b"
             ],
             [
              0.6666666666666666,
              "#ed7953"
             ],
             [
              0.7777777777777778,
              "#fb9f3a"
             ],
             [
              0.8888888888888888,
              "#fdca26"
             ],
             [
              1,
              "#f0f921"
             ]
            ],
            "type": "surface"
           }
          ],
          "table": [
           {
            "cells": {
             "fill": {
              "color": "#EBF0F8"
             },
             "line": {
              "color": "white"
             }
            },
            "header": {
             "fill": {
              "color": "#C8D4E3"
             },
             "line": {
              "color": "white"
             }
            },
            "type": "table"
           }
          ]
         },
         "layout": {
          "annotationdefaults": {
           "arrowcolor": "#2a3f5f",
           "arrowhead": 0,
           "arrowwidth": 1
          },
          "autotypenumbers": "strict",
          "coloraxis": {
           "colorbar": {
            "outlinewidth": 0,
            "ticks": ""
           }
          },
          "colorscale": {
           "diverging": [
            [
             0,
             "#8e0152"
            ],
            [
             0.1,
             "#c51b7d"
            ],
            [
             0.2,
             "#de77ae"
            ],
            [
             0.3,
             "#f1b6da"
            ],
            [
             0.4,
             "#fde0ef"
            ],
            [
             0.5,
             "#f7f7f7"
            ],
            [
             0.6,
             "#e6f5d0"
            ],
            [
             0.7,
             "#b8e186"
            ],
            [
             0.8,
             "#7fbc41"
            ],
            [
             0.9,
             "#4d9221"
            ],
            [
             1,
             "#276419"
            ]
           ],
           "sequential": [
            [
             0,
             "#0d0887"
            ],
            [
             0.1111111111111111,
             "#46039f"
            ],
            [
             0.2222222222222222,
             "#7201a8"
            ],
            [
             0.3333333333333333,
             "#9c179e"
            ],
            [
             0.4444444444444444,
             "#bd3786"
            ],
            [
             0.5555555555555556,
             "#d8576b"
            ],
            [
             0.6666666666666666,
             "#ed7953"
            ],
            [
             0.7777777777777778,
             "#fb9f3a"
            ],
            [
             0.8888888888888888,
             "#fdca26"
            ],
            [
             1,
             "#f0f921"
            ]
           ],
           "sequentialminus": [
            [
             0,
             "#0d0887"
            ],
            [
             0.1111111111111111,
             "#46039f"
            ],
            [
             0.2222222222222222,
             "#7201a8"
            ],
            [
             0.3333333333333333,
             "#9c179e"
            ],
            [
             0.4444444444444444,
             "#bd3786"
            ],
            [
             0.5555555555555556,
             "#d8576b"
            ],
            [
             0.6666666666666666,
             "#ed7953"
            ],
            [
             0.7777777777777778,
             "#fb9f3a"
            ],
            [
             0.8888888888888888,
             "#fdca26"
            ],
            [
             1,
             "#f0f921"
            ]
           ]
          },
          "colorway": [
           "#636efa",
           "#EF553B",
           "#00cc96",
           "#ab63fa",
           "#FFA15A",
           "#19d3f3",
           "#FF6692",
           "#B6E880",
           "#FF97FF",
           "#FECB52"
          ],
          "font": {
           "color": "#2a3f5f"
          },
          "geo": {
           "bgcolor": "white",
           "lakecolor": "white",
           "landcolor": "#E5ECF6",
           "showlakes": true,
           "showland": true,
           "subunitcolor": "white"
          },
          "hoverlabel": {
           "align": "left"
          },
          "hovermode": "closest",
          "mapbox": {
           "style": "light"
          },
          "paper_bgcolor": "white",
          "plot_bgcolor": "#E5ECF6",
          "polar": {
           "angularaxis": {
            "gridcolor": "white",
            "linecolor": "white",
            "ticks": ""
           },
           "bgcolor": "#E5ECF6",
           "radialaxis": {
            "gridcolor": "white",
            "linecolor": "white",
            "ticks": ""
           }
          },
          "scene": {
           "xaxis": {
            "backgroundcolor": "#E5ECF6",
            "gridcolor": "white",
            "gridwidth": 2,
            "linecolor": "white",
            "showbackground": true,
            "ticks": "",
            "zerolinecolor": "white"
           },
           "yaxis": {
            "backgroundcolor": "#E5ECF6",
            "gridcolor": "white",
            "gridwidth": 2,
            "linecolor": "white",
            "showbackground": true,
            "ticks": "",
            "zerolinecolor": "white"
           },
           "zaxis": {
            "backgroundcolor": "#E5ECF6",
            "gridcolor": "white",
            "gridwidth": 2,
            "linecolor": "white",
            "showbackground": true,
            "ticks": "",
            "zerolinecolor": "white"
           }
          },
          "shapedefaults": {
           "line": {
            "color": "#2a3f5f"
           }
          },
          "ternary": {
           "aaxis": {
            "gridcolor": "white",
            "linecolor": "white",
            "ticks": ""
           },
           "baxis": {
            "gridcolor": "white",
            "linecolor": "white",
            "ticks": ""
           },
           "bgcolor": "#E5ECF6",
           "caxis": {
            "gridcolor": "white",
            "linecolor": "white",
            "ticks": ""
           }
          },
          "title": {
           "x": 0.05
          },
          "xaxis": {
           "automargin": true,
           "gridcolor": "white",
           "linecolor": "white",
           "ticks": "",
           "title": {
            "standoff": 15
           },
           "zerolinecolor": "white",
           "zerolinewidth": 2
          },
          "yaxis": {
           "automargin": true,
           "gridcolor": "white",
           "linecolor": "white",
           "ticks": "",
           "title": {
            "standoff": 15
           },
           "zerolinecolor": "white",
           "zerolinewidth": 2
          }
         }
        },
        "title": {
         "text": "min_mpe vs. min_mpe_pixels"
        },
        "xaxis": {
         "anchor": "y",
         "domain": [
          0,
          1
         ],
         "title": {
          "text": "min_mpe"
         }
        },
        "yaxis": {
         "anchor": "x",
         "domain": [
          0,
          1
         ],
         "title": {
          "text": "min_mpe_pixels"
         }
        }
       }
      }
     },
     "metadata": {},
     "output_type": "display_data"
    }
   ],
   "source": [
    "fig = px.scatter(df,color='PondType', x='min_mpe', y='min_mpe_pixels',hover_data=['Label', 'PrawnID'])\n",
    "#add title\n",
    "fig.update_layout(title=f'min_mpe vs. min_mpe_pixels')\n",
    "\n",
    "#save the plot to png\n",
    "fig.write_image(f'full body_min_mpe vs. min_mpe_pixels.png')\n",
    "# Add a trendline\n",
    "fig.show()"
   ]
  },
  {
   "cell_type": "code",
   "execution_count": 47,
   "metadata": {},
   "outputs": [
    {
     "data": {
      "application/vnd.plotly.v1+json": {
       "config": {
        "plotlyServerURL": "https://plot.ly"
       },
       "data": [
        {
         "customdata": [
          [
           "full body:undistorted_GX010077_14_237.jpg_gamma",
           "Prawn_0"
          ],
          [
           "full body:undistorted_GX010077_14_237.jpg_gamma",
           "Prawn_1"
          ],
          [
           "full body:undistorted_GX010077_14_237.jpg_gamma",
           "Prawn_2"
          ],
          [
           "full body:undistorted_GX010067_33_625.jpg_gamma",
           "Prawn_0"
          ],
          [
           "full body:undistorted_GX010067_33_625.jpg_gamma",
           "Prawn_1"
          ],
          [
           "full body:undistorted_GX010067_33_625.jpg_gamma",
           "Prawn_2"
          ],
          [
           "full body:undistorted_GX010067_33_625.jpg_gamma",
           "Prawn_3"
          ],
          [
           "full body:undistorted_GX010068_26_666.jpg_gamma",
           "Prawn_0"
          ],
          [
           "full body:undistorted_GX010068_26_666.jpg_gamma",
           "Prawn_1"
          ],
          [
           "full body:undistorted_GX010068_26_666.jpg_gamma",
           "Prawn_2"
          ],
          [
           "full body:undistorted_GX010068_27_795.jpg_gamma",
           "Prawn_0"
          ],
          [
           "full body:undistorted_GX010068_27_795.jpg_gamma",
           "Prawn_1"
          ],
          [
           "full body:undistorted_GX010069_19_191.jpg_gamma",
           "Prawn_0"
          ],
          [
           "full body:undistorted_GX010069_19_191.jpg_gamma",
           "Prawn_1"
          ],
          [
           "full body:undistorted_GX010069_19_191.jpg_gamma",
           "Prawn_2"
          ],
          [
           "full body:undistorted_GX010069_19_191.jpg_gamma",
           "Prawn_3"
          ],
          [
           "full body:undistorted_GX010071_22_444.jpg_gamma",
           "Prawn_0"
          ],
          [
           "full body:undistorted_GX010071_22_444.jpg_gamma",
           "Prawn_1"
          ],
          [
           "full body:undistorted_GX010073_42_695.jpg_gamma",
           "Prawn_0"
          ],
          [
           "full body:undistorted_GX010073_42_695.jpg_gamma",
           "Prawn_1"
          ],
          [
           "full body:undistorted_GX010073_42_695.jpg_gamma",
           "Prawn_2"
          ],
          [
           "full body:undistorted_GX010073_55_1014.jpg_gamma",
           "Prawn_0"
          ],
          [
           "full body:undistorted_GX010073_55_1014.jpg_gamma",
           "Prawn_1"
          ],
          [
           "full body:undistorted_GX010073_55_1014.jpg_gamma",
           "Prawn_2"
          ],
          [
           "full body:undistorted_GX010080_157_2283.jpg_gamma",
           "Prawn_0"
          ],
          [
           "full body:undistorted_GX010080_157_2283.jpg_gamma",
           "Prawn_2"
          ],
          [
           "full body:undistorted_GX010080_157_2283.jpg_gamma",
           "Prawn_3"
          ],
          [
           "full body:undistorted_GX010080_193_2640.jpg_gamma",
           "Prawn_0"
          ],
          [
           "full body:undistorted_GX010080_193_2640.jpg_gamma",
           "Prawn_1"
          ],
          [
           "full body:undistorted_GX010080_193_2640.jpg_gamma",
           "Prawn_2"
          ],
          [
           "full body:undistorted_GX010080_193_2640.jpg_gamma",
           "Prawn_3"
          ],
          [
           "full body:undistorted_GX010080_193_2640.jpg_gamma",
           "Prawn_4"
          ],
          [
           "full body:undistorted_GX010080_212_2954.jpg_gamma",
           "Prawn_0"
          ],
          [
           "full body:undistorted_GX010080_212_2954.jpg_gamma",
           "Prawn_1"
          ],
          [
           "full body:undistorted_GX010080_212_2954.jpg_gamma",
           "Prawn_2"
          ],
          [
           "full body:undistorted_GX010080_237_3366.jpg_gamma",
           "Prawn_0"
          ],
          [
           "full body:undistorted_GX010080_237_3366.jpg_gamma",
           "Prawn_1"
          ],
          [
           "full body:undistorted_GX010080_237_3366.jpg_gamma",
           "Prawn_2"
          ],
          [
           "full body:undistorted_GX010080_237_3366.jpg_gamma",
           "Prawn_3"
          ],
          [
           "full body:undistorted_GX010080_237_3366.jpg_gamma",
           "Prawn_4"
          ],
          [
           "full body:undistorted_GX010080_238_3392.jpg_gamma",
           "Prawn_0"
          ],
          [
           "full body:undistorted_GX010080_238_3392.jpg_gamma",
           "Prawn_1"
          ],
          [
           "full body:undistorted_GX010080_238_3392.jpg_gamma",
           "Prawn_2"
          ],
          [
           "full body:undistorted_GX010080_238_3392.jpg_gamma",
           "Prawn_3"
          ],
          [
           "full body:undistorted_GX010082_8_59.jpg_gamma",
           "Prawn_1"
          ],
          [
           "full body:undistorted_GX010082_8_59.jpg_gamma",
           "Prawn_2"
          ],
          [
           "full body:undistorted_GX010082_8_59.jpg_gamma",
           "Prawn_3"
          ],
          [
           "full body:undistorted_GX010082_8_59.jpg_gamma",
           "Prawn_4"
          ],
          [
           "full body:undistorted_GX010082_53_796.jpg_gamma",
           "Prawn_0"
          ],
          [
           "full body:undistorted_GX010082_53_796.jpg_gamma",
           "Prawn_1"
          ],
          [
           "full body:undistorted_GX010082_65_1070.jpg_gamma",
           "Prawn_0"
          ],
          [
           "full body:undistorted_GX010082_65_1070.jpg_gamma",
           "Prawn_1"
          ],
          [
           "full body:undistorted_GX010082_65_1070.jpg_gamma",
           "Prawn_2"
          ],
          [
           "full body:undistorted_GX010082_236_3137.jpg_gamma",
           "Prawn_0"
          ],
          [
           "full body:undistorted_GX010082_236_3137.jpg_gamma",
           "Prawn_1"
          ],
          [
           "full body:undistorted_GX010082_236_3137.jpg_gamma",
           "Prawn_2"
          ],
          [
           "full body:undistorted_GX010084_30_344.jpg_gamma",
           "Prawn_0"
          ],
          [
           "full body:undistorted_GX010084_30_344.jpg_gamma",
           "Prawn_1"
          ],
          [
           "full body:undistorted_GX010084_30_344.jpg_gamma",
           "Prawn_2"
          ],
          [
           "full body:undistorted_GX010084_30_344.jpg_gamma",
           "Prawn_3"
          ],
          [
           "full body:undistorted_GX010084_130_1748.jpg_gamma",
           "Prawn_0"
          ],
          [
           "full body:undistorted_GX010084_130_1748.jpg_gamma",
           "Prawn_1"
          ],
          [
           "full body:undistorted_GX010084_130_1748.jpg_gamma",
           "Prawn_2"
          ],
          [
           "full body:undistorted_GX010085_261_3610.jpg_gamma",
           "Prawn_0"
          ],
          [
           "full body:undistorted_GX010085_261_3610.jpg_gamma",
           "Prawn_1"
          ],
          [
           "full body:undistorted_GX010088_209_2904.jpg_gamma",
           "Prawn_0"
          ],
          [
           "full body:undistorted_GX010088_209_2904.jpg_gamma",
           "Prawn_1"
          ],
          [
           "full body:undistorted_GX010088_262_3712.jpg_gamma",
           "Prawn_0"
          ],
          [
           "full body:undistorted_GX010088_262_3712.jpg_gamma",
           "Prawn_1"
          ],
          [
           "full body:undistorted_GX010088_262_3712.jpg_gamma",
           "Prawn_2"
          ],
          [
           "full body:undistorted_GX010088_327_4364.jpg_gamma",
           "Prawn_0"
          ],
          [
           "full body:undistorted_GX010088_327_4364.jpg_gamma",
           "Prawn_1"
          ],
          [
           "full body:undistorted_GX010088_327_4364.jpg_gamma",
           "Prawn_2"
          ],
          [
           "full body:undistorted_GX010088_327_4364.jpg_gamma",
           "Prawn_3"
          ],
          [
           "full body:undistorted_GX010090_132_1852.jpg_gamma",
           "Prawn_0"
          ],
          [
           "full body:undistorted_GX010094_9_129.jpg_gamma",
           "Prawn_0"
          ],
          [
           "full body:undistorted_GX010094_9_129.jpg_gamma",
           "Prawn_1"
          ],
          [
           "full body:undistorted_GX010094_24_430.jpg_gamma",
           "Prawn_0"
          ],
          [
           "full body:undistorted_GX010094_93_1258.jpg_gamma",
           "Prawn_0"
          ],
          [
           "full body:undistorted_GX010094_163_2312.jpg_gamma",
           "Prawn_0"
          ],
          [
           "full body:undistorted_GX010097_32_528.jpg_gamma",
           "Prawn_0"
          ],
          [
           "full body:undistorted_GX010097_32_528.jpg_gamma",
           "Prawn_1"
          ],
          [
           "full body:undistorted_GX010097_60_1080.jpg_gamma",
           "Prawn_0"
          ],
          [
           "full body:undistorted_GX010097_60_1080.jpg_gamma",
           "Prawn_1"
          ],
          [
           "full body:undistorted_GX010097_60_1080.jpg_gamma",
           "Prawn_2"
          ],
          [
           "full body:undistorted_GX010097_60_1080.jpg_gamma",
           "Prawn_3"
          ],
          [
           "full body:undistorted_GX010097_105_1651.jpg_gamma",
           "Prawn_0"
          ],
          [
           "full body:undistorted_GX010097_105_1651.jpg_gamma",
           "Prawn_1"
          ],
          [
           "full body:undistorted_GX010097_105_1651.jpg_gamma",
           "Prawn_2"
          ],
          [
           "full body:undistorted_GX010097_105_1651.jpg_gamma",
           "Prawn_3"
          ],
          [
           "full body:undistorted_GX010097_124_1870.jpg_gamma",
           "Prawn_0"
          ],
          [
           "full body:undistorted_GX010097_124_1870.jpg_gamma",
           "Prawn_1"
          ],
          [
           "full body:undistorted_GX010101_12_173.jpg_gamma",
           "Prawn_0"
          ]
         ],
         "hovertemplate": "min_mpe=%{x}<br>min_mpe_pixels=%{y}<br>Label=%{customdata[0]}<br>PrawnID=%{customdata[1]}<extra></extra>",
         "legendgroup": "",
         "marker": {
          "color": "#636efa",
          "symbol": "circle"
         },
         "mode": "markers",
         "name": "",
         "orientation": "v",
         "showlegend": false,
         "type": "scatter",
         "x": [
          5.945304408505487,
          8.455241844417314,
          1.515158498756725,
          6.791594782267427,
          1.158354732936139,
          2.230836590281231,
          9.10666683576594,
          10.56795825508955,
          13.35001318035945,
          7.103048036814945,
          3.192735655682762,
          1.35674126056174,
          0.8592858266215947,
          15.92971313591953,
          13.91240568192508,
          12.33170727615706,
          8.87300487578375,
          1.066739046747712,
          20.76469988648511,
          4.920383068785219,
          2.262320843955222,
          4.740438899024116,
          6.091419510323511,
          21.43249585045907,
          29.92834528821497,
          29.96089462212668,
          25.22602931968579,
          17.54458431272633,
          12.11788235236907,
          17.59181164990475,
          7.794637029205479,
          20.71931550038067,
          18.40456792720543,
          8.66887908630012,
          2.107080888226245,
          9.616539623397461,
          14.79243064634031,
          14.68808777396873,
          4.785128108775853,
          2.062158347057675,
          10.68392631881961,
          16.42497283197103,
          8.714237925717088,
          11.24828111614709,
          1.693503413135365,
          1.202455148416885,
          2.770219350870582,
          11.27608276791631,
          5.766674587999535,
          1.04689901424448,
          17.99537649030619,
          28.3522675774136,
          14.7964312017854,
          25.76404514273009,
          25.31833639953887,
          0.05802042169670792,
          7.152414619659401,
          5.253905300934747,
          1.562027583937642,
          8.507320081605254,
          3.016172250152385,
          11.49657386206835,
          0.5009595838224843,
          14.71494425780231,
          2.148503726255284,
          10.097833041856,
          3.5495676693248,
          1.753401842794375,
          2.409928211536239,
          2.894888078574604,
          6.489983605123991,
          7.842024317217636,
          5.0462851241997,
          1.331172587777697,
          8.250497842754143,
          12.02944951205384,
          11.62892730307281,
          9.445447177591484,
          0.1040740596784668,
          11.75924950873195,
          11.56662169678167,
          62.68485297131578,
          16.48241489903097,
          9.312651557604314,
          33.40061955368242,
          2.532593449061535,
          32.86130529952187,
          10.05284442989043,
          26.89497366492718,
          42.42377358681658,
          25.98817181134315,
          13.32810860151705,
          1.88067204235004
         ],
         "xaxis": "x",
         "y": [
          12.48288265259098,
          12.3630661771587,
          2.302461802681407,
          4.79379394979899,
          3.521705701962748,
          1.251262055482046,
          7.866630481496505,
          11.04025075258177,
          12.28857120151366,
          0.1545531295499506,
          8.235896624576142,
          3.547171852639298,
          6.284174550886974,
          3.801917223437909,
          8.352226129756223,
          0.5971332416755989,
          10.02305069597079,
          0.7844976728495804,
          11.49194708512599,
          12.85333385122596,
          4.653426343637084,
          3.012236158362412,
          7.107504089273172,
          14.87174805989194,
          3.561324244674857,
          1.968772394790982,
          1.389502622713374,
          5.422067795518918,
          0.9505098606718224,
          5.749922179159776,
          0.1407688617940605,
          8.510985112337126,
          9.060745592957351,
          1.305168726571253,
          2.408782376796231,
          2.453830894990467,
          8.00469404607008,
          7.532818032363887,
          1.456391358325706,
          0.3046994282399219,
          5.288740631981876,
          5.593405925584536,
          1.436294619478988,
          6.538489483927902,
          10.16313671768953,
          1.390084278318477,
          0.8870808198487604,
          11.18678670958008,
          1.657984470547401,
          7.326262887579349,
          1.513216326205908,
          9.024083270320515,
          0.2586862005125452,
          7.623523140329461,
          6.664456041015512,
          15.31972765575682,
          9.588451210192957,
          9.031368863168762,
          4.432014397362575,
          12.62111954315755,
          9.362183451931713,
          0.112583180508155,
          6.144555528286459,
          3.246799469648991,
          1.827999549946229,
          1.237084092399996,
          1.91439924347847,
          5.441691296207077,
          0.2082489240671335,
          1.572164685970141,
          0.1200408359184761,
          2.343416352884153,
          2.064832996418575,
          1.275640580825451,
          0.03055067835738017,
          5.662884595740488,
          0.02631647500835967,
          5.41696868647234,
          0.2571594134149691,
          5.059193281736894,
          8.356147188314587,
          48.89069106258489,
          10.92897965361014,
          8.050252225843554,
          31.45500790156628,
          0.8353493928836849,
          17.45000311961287,
          2.573222803640357,
          21.00886734776372,
          26.18744212931081,
          6.717019531531681,
          1.865800866675482,
          0.6868403601419241
         ],
         "yaxis": "y"
        }
       ],
       "layout": {
        "legend": {
         "tracegroupgap": 0
        },
        "margin": {
         "t": 60
        },
        "template": {
         "data": {
          "bar": [
           {
            "error_x": {
             "color": "#2a3f5f"
            },
            "error_y": {
             "color": "#2a3f5f"
            },
            "marker": {
             "line": {
              "color": "#E5ECF6",
              "width": 0.5
             },
             "pattern": {
              "fillmode": "overlay",
              "size": 10,
              "solidity": 0.2
             }
            },
            "type": "bar"
           }
          ],
          "barpolar": [
           {
            "marker": {
             "line": {
              "color": "#E5ECF6",
              "width": 0.5
             },
             "pattern": {
              "fillmode": "overlay",
              "size": 10,
              "solidity": 0.2
             }
            },
            "type": "barpolar"
           }
          ],
          "carpet": [
           {
            "aaxis": {
             "endlinecolor": "#2a3f5f",
             "gridcolor": "white",
             "linecolor": "white",
             "minorgridcolor": "white",
             "startlinecolor": "#2a3f5f"
            },
            "baxis": {
             "endlinecolor": "#2a3f5f",
             "gridcolor": "white",
             "linecolor": "white",
             "minorgridcolor": "white",
             "startlinecolor": "#2a3f5f"
            },
            "type": "carpet"
           }
          ],
          "choropleth": [
           {
            "colorbar": {
             "outlinewidth": 0,
             "ticks": ""
            },
            "type": "choropleth"
           }
          ],
          "contour": [
           {
            "colorbar": {
             "outlinewidth": 0,
             "ticks": ""
            },
            "colorscale": [
             [
              0,
              "#0d0887"
             ],
             [
              0.1111111111111111,
              "#46039f"
             ],
             [
              0.2222222222222222,
              "#7201a8"
             ],
             [
              0.3333333333333333,
              "#9c179e"
             ],
             [
              0.4444444444444444,
              "#bd3786"
             ],
             [
              0.5555555555555556,
              "#d8576b"
             ],
             [
              0.6666666666666666,
              "#ed7953"
             ],
             [
              0.7777777777777778,
              "#fb9f3a"
             ],
             [
              0.8888888888888888,
              "#fdca26"
             ],
             [
              1,
              "#f0f921"
             ]
            ],
            "type": "contour"
           }
          ],
          "contourcarpet": [
           {
            "colorbar": {
             "outlinewidth": 0,
             "ticks": ""
            },
            "type": "contourcarpet"
           }
          ],
          "heatmap": [
           {
            "colorbar": {
             "outlinewidth": 0,
             "ticks": ""
            },
            "colorscale": [
             [
              0,
              "#0d0887"
             ],
             [
              0.1111111111111111,
              "#46039f"
             ],
             [
              0.2222222222222222,
              "#7201a8"
             ],
             [
              0.3333333333333333,
              "#9c179e"
             ],
             [
              0.4444444444444444,
              "#bd3786"
             ],
             [
              0.5555555555555556,
              "#d8576b"
             ],
             [
              0.6666666666666666,
              "#ed7953"
             ],
             [
              0.7777777777777778,
              "#fb9f3a"
             ],
             [
              0.8888888888888888,
              "#fdca26"
             ],
             [
              1,
              "#f0f921"
             ]
            ],
            "type": "heatmap"
           }
          ],
          "heatmapgl": [
           {
            "colorbar": {
             "outlinewidth": 0,
             "ticks": ""
            },
            "colorscale": [
             [
              0,
              "#0d0887"
             ],
             [
              0.1111111111111111,
              "#46039f"
             ],
             [
              0.2222222222222222,
              "#7201a8"
             ],
             [
              0.3333333333333333,
              "#9c179e"
             ],
             [
              0.4444444444444444,
              "#bd3786"
             ],
             [
              0.5555555555555556,
              "#d8576b"
             ],
             [
              0.6666666666666666,
              "#ed7953"
             ],
             [
              0.7777777777777778,
              "#fb9f3a"
             ],
             [
              0.8888888888888888,
              "#fdca26"
             ],
             [
              1,
              "#f0f921"
             ]
            ],
            "type": "heatmapgl"
           }
          ],
          "histogram": [
           {
            "marker": {
             "pattern": {
              "fillmode": "overlay",
              "size": 10,
              "solidity": 0.2
             }
            },
            "type": "histogram"
           }
          ],
          "histogram2d": [
           {
            "colorbar": {
             "outlinewidth": 0,
             "ticks": ""
            },
            "colorscale": [
             [
              0,
              "#0d0887"
             ],
             [
              0.1111111111111111,
              "#46039f"
             ],
             [
              0.2222222222222222,
              "#7201a8"
             ],
             [
              0.3333333333333333,
              "#9c179e"
             ],
             [
              0.4444444444444444,
              "#bd3786"
             ],
             [
              0.5555555555555556,
              "#d8576b"
             ],
             [
              0.6666666666666666,
              "#ed7953"
             ],
             [
              0.7777777777777778,
              "#fb9f3a"
             ],
             [
              0.8888888888888888,
              "#fdca26"
             ],
             [
              1,
              "#f0f921"
             ]
            ],
            "type": "histogram2d"
           }
          ],
          "histogram2dcontour": [
           {
            "colorbar": {
             "outlinewidth": 0,
             "ticks": ""
            },
            "colorscale": [
             [
              0,
              "#0d0887"
             ],
             [
              0.1111111111111111,
              "#46039f"
             ],
             [
              0.2222222222222222,
              "#7201a8"
             ],
             [
              0.3333333333333333,
              "#9c179e"
             ],
             [
              0.4444444444444444,
              "#bd3786"
             ],
             [
              0.5555555555555556,
              "#d8576b"
             ],
             [
              0.6666666666666666,
              "#ed7953"
             ],
             [
              0.7777777777777778,
              "#fb9f3a"
             ],
             [
              0.8888888888888888,
              "#fdca26"
             ],
             [
              1,
              "#f0f921"
             ]
            ],
            "type": "histogram2dcontour"
           }
          ],
          "mesh3d": [
           {
            "colorbar": {
             "outlinewidth": 0,
             "ticks": ""
            },
            "type": "mesh3d"
           }
          ],
          "parcoords": [
           {
            "line": {
             "colorbar": {
              "outlinewidth": 0,
              "ticks": ""
             }
            },
            "type": "parcoords"
           }
          ],
          "pie": [
           {
            "automargin": true,
            "type": "pie"
           }
          ],
          "scatter": [
           {
            "fillpattern": {
             "fillmode": "overlay",
             "size": 10,
             "solidity": 0.2
            },
            "type": "scatter"
           }
          ],
          "scatter3d": [
           {
            "line": {
             "colorbar": {
              "outlinewidth": 0,
              "ticks": ""
             }
            },
            "marker": {
             "colorbar": {
              "outlinewidth": 0,
              "ticks": ""
             }
            },
            "type": "scatter3d"
           }
          ],
          "scattercarpet": [
           {
            "marker": {
             "colorbar": {
              "outlinewidth": 0,
              "ticks": ""
             }
            },
            "type": "scattercarpet"
           }
          ],
          "scattergeo": [
           {
            "marker": {
             "colorbar": {
              "outlinewidth": 0,
              "ticks": ""
             }
            },
            "type": "scattergeo"
           }
          ],
          "scattergl": [
           {
            "marker": {
             "colorbar": {
              "outlinewidth": 0,
              "ticks": ""
             }
            },
            "type": "scattergl"
           }
          ],
          "scattermapbox": [
           {
            "marker": {
             "colorbar": {
              "outlinewidth": 0,
              "ticks": ""
             }
            },
            "type": "scattermapbox"
           }
          ],
          "scatterpolar": [
           {
            "marker": {
             "colorbar": {
              "outlinewidth": 0,
              "ticks": ""
             }
            },
            "type": "scatterpolar"
           }
          ],
          "scatterpolargl": [
           {
            "marker": {
             "colorbar": {
              "outlinewidth": 0,
              "ticks": ""
             }
            },
            "type": "scatterpolargl"
           }
          ],
          "scatterternary": [
           {
            "marker": {
             "colorbar": {
              "outlinewidth": 0,
              "ticks": ""
             }
            },
            "type": "scatterternary"
           }
          ],
          "surface": [
           {
            "colorbar": {
             "outlinewidth": 0,
             "ticks": ""
            },
            "colorscale": [
             [
              0,
              "#0d0887"
             ],
             [
              0.1111111111111111,
              "#46039f"
             ],
             [
              0.2222222222222222,
              "#7201a8"
             ],
             [
              0.3333333333333333,
              "#9c179e"
             ],
             [
              0.4444444444444444,
              "#bd3786"
             ],
             [
              0.5555555555555556,
              "#d8576b"
             ],
             [
              0.6666666666666666,
              "#ed7953"
             ],
             [
              0.7777777777777778,
              "#fb9f3a"
             ],
             [
              0.8888888888888888,
              "#fdca26"
             ],
             [
              1,
              "#f0f921"
             ]
            ],
            "type": "surface"
           }
          ],
          "table": [
           {
            "cells": {
             "fill": {
              "color": "#EBF0F8"
             },
             "line": {
              "color": "white"
             }
            },
            "header": {
             "fill": {
              "color": "#C8D4E3"
             },
             "line": {
              "color": "white"
             }
            },
            "type": "table"
           }
          ]
         },
         "layout": {
          "annotationdefaults": {
           "arrowcolor": "#2a3f5f",
           "arrowhead": 0,
           "arrowwidth": 1
          },
          "autotypenumbers": "strict",
          "coloraxis": {
           "colorbar": {
            "outlinewidth": 0,
            "ticks": ""
           }
          },
          "colorscale": {
           "diverging": [
            [
             0,
             "#8e0152"
            ],
            [
             0.1,
             "#c51b7d"
            ],
            [
             0.2,
             "#de77ae"
            ],
            [
             0.3,
             "#f1b6da"
            ],
            [
             0.4,
             "#fde0ef"
            ],
            [
             0.5,
             "#f7f7f7"
            ],
            [
             0.6,
             "#e6f5d0"
            ],
            [
             0.7,
             "#b8e186"
            ],
            [
             0.8,
             "#7fbc41"
            ],
            [
             0.9,
             "#4d9221"
            ],
            [
             1,
             "#276419"
            ]
           ],
           "sequential": [
            [
             0,
             "#0d0887"
            ],
            [
             0.1111111111111111,
             "#46039f"
            ],
            [
             0.2222222222222222,
             "#7201a8"
            ],
            [
             0.3333333333333333,
             "#9c179e"
            ],
            [
             0.4444444444444444,
             "#bd3786"
            ],
            [
             0.5555555555555556,
             "#d8576b"
            ],
            [
             0.6666666666666666,
             "#ed7953"
            ],
            [
             0.7777777777777778,
             "#fb9f3a"
            ],
            [
             0.8888888888888888,
             "#fdca26"
            ],
            [
             1,
             "#f0f921"
            ]
           ],
           "sequentialminus": [
            [
             0,
             "#0d0887"
            ],
            [
             0.1111111111111111,
             "#46039f"
            ],
            [
             0.2222222222222222,
             "#7201a8"
            ],
            [
             0.3333333333333333,
             "#9c179e"
            ],
            [
             0.4444444444444444,
             "#bd3786"
            ],
            [
             0.5555555555555556,
             "#d8576b"
            ],
            [
             0.6666666666666666,
             "#ed7953"
            ],
            [
             0.7777777777777778,
             "#fb9f3a"
            ],
            [
             0.8888888888888888,
             "#fdca26"
            ],
            [
             1,
             "#f0f921"
            ]
           ]
          },
          "colorway": [
           "#636efa",
           "#EF553B",
           "#00cc96",
           "#ab63fa",
           "#FFA15A",
           "#19d3f3",
           "#FF6692",
           "#B6E880",
           "#FF97FF",
           "#FECB52"
          ],
          "font": {
           "color": "#2a3f5f"
          },
          "geo": {
           "bgcolor": "white",
           "lakecolor": "white",
           "landcolor": "#E5ECF6",
           "showlakes": true,
           "showland": true,
           "subunitcolor": "white"
          },
          "hoverlabel": {
           "align": "left"
          },
          "hovermode": "closest",
          "mapbox": {
           "style": "light"
          },
          "paper_bgcolor": "white",
          "plot_bgcolor": "#E5ECF6",
          "polar": {
           "angularaxis": {
            "gridcolor": "white",
            "linecolor": "white",
            "ticks": ""
           },
           "bgcolor": "#E5ECF6",
           "radialaxis": {
            "gridcolor": "white",
            "linecolor": "white",
            "ticks": ""
           }
          },
          "scene": {
           "xaxis": {
            "backgroundcolor": "#E5ECF6",
            "gridcolor": "white",
            "gridwidth": 2,
            "linecolor": "white",
            "showbackground": true,
            "ticks": "",
            "zerolinecolor": "white"
           },
           "yaxis": {
            "backgroundcolor": "#E5ECF6",
            "gridcolor": "white",
            "gridwidth": 2,
            "linecolor": "white",
            "showbackground": true,
            "ticks": "",
            "zerolinecolor": "white"
           },
           "zaxis": {
            "backgroundcolor": "#E5ECF6",
            "gridcolor": "white",
            "gridwidth": 2,
            "linecolor": "white",
            "showbackground": true,
            "ticks": "",
            "zerolinecolor": "white"
           }
          },
          "shapedefaults": {
           "line": {
            "color": "#2a3f5f"
           }
          },
          "ternary": {
           "aaxis": {
            "gridcolor": "white",
            "linecolor": "white",
            "ticks": ""
           },
           "baxis": {
            "gridcolor": "white",
            "linecolor": "white",
            "ticks": ""
           },
           "bgcolor": "#E5ECF6",
           "caxis": {
            "gridcolor": "white",
            "linecolor": "white",
            "ticks": ""
           }
          },
          "title": {
           "x": 0.05
          },
          "xaxis": {
           "automargin": true,
           "gridcolor": "white",
           "linecolor": "white",
           "ticks": "",
           "title": {
            "standoff": 15
           },
           "zerolinecolor": "white",
           "zerolinewidth": 2
          },
          "yaxis": {
           "automargin": true,
           "gridcolor": "white",
           "linecolor": "white",
           "ticks": "",
           "title": {
            "standoff": 15
           },
           "zerolinecolor": "white",
           "zerolinewidth": 2
          }
         }
        },
        "title": {
         "text": "min_mpe vs. min_mpe_pixels circular-big"
        },
        "xaxis": {
         "anchor": "y",
         "domain": [
          0,
          1
         ],
         "title": {
          "text": "min_mpe"
         }
        },
        "yaxis": {
         "anchor": "x",
         "domain": [
          0,
          1
         ],
         "title": {
          "text": "min_mpe_pixels"
         }
        }
       }
      }
     },
     "metadata": {},
     "output_type": "display_data"
    },
    {
     "data": {
      "application/vnd.plotly.v1+json": {
       "config": {
        "plotlyServerURL": "https://plot.ly"
       },
       "data": [
        {
         "customdata": [
          [
           "full body:undistorted_GX010089_11_236.jpg_gamma",
           "Prawn_0"
          ],
          [
           "full body:undistorted_GX010089_11_236.jpg_gamma",
           "Prawn_1"
          ],
          [
           "full body:undistorted_GX010089_11_236.jpg_gamma",
           "Prawn_2"
          ],
          [
           "full body:undistorted_GX010089_11_236.jpg_gamma",
           "Prawn_3"
          ],
          [
           "full body:undistorted_GX010091_5_149.jpg_gamma",
           "Prawn_0"
          ],
          [
           "full body:undistorted_GX010091_5_149.jpg_gamma",
           "Prawn_1"
          ],
          [
           "full body:undistorted_GX010091_5_149.jpg_gamma",
           "Prawn_2"
          ],
          [
           "full body:undistorted_GX010102_9_165.jpg_gamma",
           "Prawn_1"
          ],
          [
           "full body:undistorted_GX010102_9_165.jpg_gamma",
           "Prawn_2"
          ],
          [
           "full body:undistorted_GX010102_9_165.jpg_gamma",
           "Prawn_3"
          ],
          [
           "full body:undistorted_GX010102_9_165.jpg_gamma",
           "Prawn_4"
          ],
          [
           "full body:undistorted_GX010102_9_165.jpg_gamma",
           "Prawn_5"
          ],
          [
           "full body:undistorted_GX010102_50_1396.jpg_gamma",
           "Prawn_0"
          ],
          [
           "full body:undistorted_GX010105_28_816.jpg_gamma",
           "Prawn_0"
          ],
          [
           "full body:undistorted_GX010105_28_816.jpg_gamma",
           "Prawn_1"
          ]
         ],
         "hovertemplate": "min_mpe=%{x}<br>min_mpe_pixels=%{y}<br>Label=%{customdata[0]}<br>PrawnID=%{customdata[1]}<extra></extra>",
         "legendgroup": "",
         "marker": {
          "color": "#636efa",
          "symbol": "circle"
         },
         "mode": "markers",
         "name": "",
         "orientation": "v",
         "showlegend": false,
         "type": "scatter",
         "x": [
          31.99160144760634,
          23.82610711128963,
          25.20331023526624,
          5.052812026474951,
          23.12555326069806,
          14.05738437259452,
          95.4678271948721,
          22.69741793004322,
          95.98272265594827,
          59.53951278726044,
          28.81185618126997,
          24.39562164002855,
          15.39666495802374,
          24.69197886822858,
          23.27606391887926
         ],
         "xaxis": "x",
         "y": [
          16.8845892591151,
          9.529332159596644,
          8.838763778924303,
          17.02971209309064,
          4.367160339630132,
          6.986310261478507,
          72.69225960845698,
          2.414808505349144,
          77.92932837715429,
          42.92530860024891,
          10.07024634967029,
          12.00239743573357,
          0.9241595412110951,
          7.266460807549559,
          5.427020057937867
         ],
         "yaxis": "y"
        }
       ],
       "layout": {
        "legend": {
         "tracegroupgap": 0
        },
        "margin": {
         "t": 60
        },
        "template": {
         "data": {
          "bar": [
           {
            "error_x": {
             "color": "#2a3f5f"
            },
            "error_y": {
             "color": "#2a3f5f"
            },
            "marker": {
             "line": {
              "color": "#E5ECF6",
              "width": 0.5
             },
             "pattern": {
              "fillmode": "overlay",
              "size": 10,
              "solidity": 0.2
             }
            },
            "type": "bar"
           }
          ],
          "barpolar": [
           {
            "marker": {
             "line": {
              "color": "#E5ECF6",
              "width": 0.5
             },
             "pattern": {
              "fillmode": "overlay",
              "size": 10,
              "solidity": 0.2
             }
            },
            "type": "barpolar"
           }
          ],
          "carpet": [
           {
            "aaxis": {
             "endlinecolor": "#2a3f5f",
             "gridcolor": "white",
             "linecolor": "white",
             "minorgridcolor": "white",
             "startlinecolor": "#2a3f5f"
            },
            "baxis": {
             "endlinecolor": "#2a3f5f",
             "gridcolor": "white",
             "linecolor": "white",
             "minorgridcolor": "white",
             "startlinecolor": "#2a3f5f"
            },
            "type": "carpet"
           }
          ],
          "choropleth": [
           {
            "colorbar": {
             "outlinewidth": 0,
             "ticks": ""
            },
            "type": "choropleth"
           }
          ],
          "contour": [
           {
            "colorbar": {
             "outlinewidth": 0,
             "ticks": ""
            },
            "colorscale": [
             [
              0,
              "#0d0887"
             ],
             [
              0.1111111111111111,
              "#46039f"
             ],
             [
              0.2222222222222222,
              "#7201a8"
             ],
             [
              0.3333333333333333,
              "#9c179e"
             ],
             [
              0.4444444444444444,
              "#bd3786"
             ],
             [
              0.5555555555555556,
              "#d8576b"
             ],
             [
              0.6666666666666666,
              "#ed7953"
             ],
             [
              0.7777777777777778,
              "#fb9f3a"
             ],
             [
              0.8888888888888888,
              "#fdca26"
             ],
             [
              1,
              "#f0f921"
             ]
            ],
            "type": "contour"
           }
          ],
          "contourcarpet": [
           {
            "colorbar": {
             "outlinewidth": 0,
             "ticks": ""
            },
            "type": "contourcarpet"
           }
          ],
          "heatmap": [
           {
            "colorbar": {
             "outlinewidth": 0,
             "ticks": ""
            },
            "colorscale": [
             [
              0,
              "#0d0887"
             ],
             [
              0.1111111111111111,
              "#46039f"
             ],
             [
              0.2222222222222222,
              "#7201a8"
             ],
             [
              0.3333333333333333,
              "#9c179e"
             ],
             [
              0.4444444444444444,
              "#bd3786"
             ],
             [
              0.5555555555555556,
              "#d8576b"
             ],
             [
              0.6666666666666666,
              "#ed7953"
             ],
             [
              0.7777777777777778,
              "#fb9f3a"
             ],
             [
              0.8888888888888888,
              "#fdca26"
             ],
             [
              1,
              "#f0f921"
             ]
            ],
            "type": "heatmap"
           }
          ],
          "heatmapgl": [
           {
            "colorbar": {
             "outlinewidth": 0,
             "ticks": ""
            },
            "colorscale": [
             [
              0,
              "#0d0887"
             ],
             [
              0.1111111111111111,
              "#46039f"
             ],
             [
              0.2222222222222222,
              "#7201a8"
             ],
             [
              0.3333333333333333,
              "#9c179e"
             ],
             [
              0.4444444444444444,
              "#bd3786"
             ],
             [
              0.5555555555555556,
              "#d8576b"
             ],
             [
              0.6666666666666666,
              "#ed7953"
             ],
             [
              0.7777777777777778,
              "#fb9f3a"
             ],
             [
              0.8888888888888888,
              "#fdca26"
             ],
             [
              1,
              "#f0f921"
             ]
            ],
            "type": "heatmapgl"
           }
          ],
          "histogram": [
           {
            "marker": {
             "pattern": {
              "fillmode": "overlay",
              "size": 10,
              "solidity": 0.2
             }
            },
            "type": "histogram"
           }
          ],
          "histogram2d": [
           {
            "colorbar": {
             "outlinewidth": 0,
             "ticks": ""
            },
            "colorscale": [
             [
              0,
              "#0d0887"
             ],
             [
              0.1111111111111111,
              "#46039f"
             ],
             [
              0.2222222222222222,
              "#7201a8"
             ],
             [
              0.3333333333333333,
              "#9c179e"
             ],
             [
              0.4444444444444444,
              "#bd3786"
             ],
             [
              0.5555555555555556,
              "#d8576b"
             ],
             [
              0.6666666666666666,
              "#ed7953"
             ],
             [
              0.7777777777777778,
              "#fb9f3a"
             ],
             [
              0.8888888888888888,
              "#fdca26"
             ],
             [
              1,
              "#f0f921"
             ]
            ],
            "type": "histogram2d"
           }
          ],
          "histogram2dcontour": [
           {
            "colorbar": {
             "outlinewidth": 0,
             "ticks": ""
            },
            "colorscale": [
             [
              0,
              "#0d0887"
             ],
             [
              0.1111111111111111,
              "#46039f"
             ],
             [
              0.2222222222222222,
              "#7201a8"
             ],
             [
              0.3333333333333333,
              "#9c179e"
             ],
             [
              0.4444444444444444,
              "#bd3786"
             ],
             [
              0.5555555555555556,
              "#d8576b"
             ],
             [
              0.6666666666666666,
              "#ed7953"
             ],
             [
              0.7777777777777778,
              "#fb9f3a"
             ],
             [
              0.8888888888888888,
              "#fdca26"
             ],
             [
              1,
              "#f0f921"
             ]
            ],
            "type": "histogram2dcontour"
           }
          ],
          "mesh3d": [
           {
            "colorbar": {
             "outlinewidth": 0,
             "ticks": ""
            },
            "type": "mesh3d"
           }
          ],
          "parcoords": [
           {
            "line": {
             "colorbar": {
              "outlinewidth": 0,
              "ticks": ""
             }
            },
            "type": "parcoords"
           }
          ],
          "pie": [
           {
            "automargin": true,
            "type": "pie"
           }
          ],
          "scatter": [
           {
            "fillpattern": {
             "fillmode": "overlay",
             "size": 10,
             "solidity": 0.2
            },
            "type": "scatter"
           }
          ],
          "scatter3d": [
           {
            "line": {
             "colorbar": {
              "outlinewidth": 0,
              "ticks": ""
             }
            },
            "marker": {
             "colorbar": {
              "outlinewidth": 0,
              "ticks": ""
             }
            },
            "type": "scatter3d"
           }
          ],
          "scattercarpet": [
           {
            "marker": {
             "colorbar": {
              "outlinewidth": 0,
              "ticks": ""
             }
            },
            "type": "scattercarpet"
           }
          ],
          "scattergeo": [
           {
            "marker": {
             "colorbar": {
              "outlinewidth": 0,
              "ticks": ""
             }
            },
            "type": "scattergeo"
           }
          ],
          "scattergl": [
           {
            "marker": {
             "colorbar": {
              "outlinewidth": 0,
              "ticks": ""
             }
            },
            "type": "scattergl"
           }
          ],
          "scattermapbox": [
           {
            "marker": {
             "colorbar": {
              "outlinewidth": 0,
              "ticks": ""
             }
            },
            "type": "scattermapbox"
           }
          ],
          "scatterpolar": [
           {
            "marker": {
             "colorbar": {
              "outlinewidth": 0,
              "ticks": ""
             }
            },
            "type": "scatterpolar"
           }
          ],
          "scatterpolargl": [
           {
            "marker": {
             "colorbar": {
              "outlinewidth": 0,
              "ticks": ""
             }
            },
            "type": "scatterpolargl"
           }
          ],
          "scatterternary": [
           {
            "marker": {
             "colorbar": {
              "outlinewidth": 0,
              "ticks": ""
             }
            },
            "type": "scatterternary"
           }
          ],
          "surface": [
           {
            "colorbar": {
             "outlinewidth": 0,
             "ticks": ""
            },
            "colorscale": [
             [
              0,
              "#0d0887"
             ],
             [
              0.1111111111111111,
              "#46039f"
             ],
             [
              0.2222222222222222,
              "#7201a8"
             ],
             [
              0.3333333333333333,
              "#9c179e"
             ],
             [
              0.4444444444444444,
              "#bd3786"
             ],
             [
              0.5555555555555556,
              "#d8576b"
             ],
             [
              0.6666666666666666,
              "#ed7953"
             ],
             [
              0.7777777777777778,
              "#fb9f3a"
             ],
             [
              0.8888888888888888,
              "#fdca26"
             ],
             [
              1,
              "#f0f921"
             ]
            ],
            "type": "surface"
           }
          ],
          "table": [
           {
            "cells": {
             "fill": {
              "color": "#EBF0F8"
             },
             "line": {
              "color": "white"
             }
            },
            "header": {
             "fill": {
              "color": "#C8D4E3"
             },
             "line": {
              "color": "white"
             }
            },
            "type": "table"
           }
          ]
         },
         "layout": {
          "annotationdefaults": {
           "arrowcolor": "#2a3f5f",
           "arrowhead": 0,
           "arrowwidth": 1
          },
          "autotypenumbers": "strict",
          "coloraxis": {
           "colorbar": {
            "outlinewidth": 0,
            "ticks": ""
           }
          },
          "colorscale": {
           "diverging": [
            [
             0,
             "#8e0152"
            ],
            [
             0.1,
             "#c51b7d"
            ],
            [
             0.2,
             "#de77ae"
            ],
            [
             0.3,
             "#f1b6da"
            ],
            [
             0.4,
             "#fde0ef"
            ],
            [
             0.5,
             "#f7f7f7"
            ],
            [
             0.6,
             "#e6f5d0"
            ],
            [
             0.7,
             "#b8e186"
            ],
            [
             0.8,
             "#7fbc41"
            ],
            [
             0.9,
             "#4d9221"
            ],
            [
             1,
             "#276419"
            ]
           ],
           "sequential": [
            [
             0,
             "#0d0887"
            ],
            [
             0.1111111111111111,
             "#46039f"
            ],
            [
             0.2222222222222222,
             "#7201a8"
            ],
            [
             0.3333333333333333,
             "#9c179e"
            ],
            [
             0.4444444444444444,
             "#bd3786"
            ],
            [
             0.5555555555555556,
             "#d8576b"
            ],
            [
             0.6666666666666666,
             "#ed7953"
            ],
            [
             0.7777777777777778,
             "#fb9f3a"
            ],
            [
             0.8888888888888888,
             "#fdca26"
            ],
            [
             1,
             "#f0f921"
            ]
           ],
           "sequentialminus": [
            [
             0,
             "#0d0887"
            ],
            [
             0.1111111111111111,
             "#46039f"
            ],
            [
             0.2222222222222222,
             "#7201a8"
            ],
            [
             0.3333333333333333,
             "#9c179e"
            ],
            [
             0.4444444444444444,
             "#bd3786"
            ],
            [
             0.5555555555555556,
             "#d8576b"
            ],
            [
             0.6666666666666666,
             "#ed7953"
            ],
            [
             0.7777777777777778,
             "#fb9f3a"
            ],
            [
             0.8888888888888888,
             "#fdca26"
            ],
            [
             1,
             "#f0f921"
            ]
           ]
          },
          "colorway": [
           "#636efa",
           "#EF553B",
           "#00cc96",
           "#ab63fa",
           "#FFA15A",
           "#19d3f3",
           "#FF6692",
           "#B6E880",
           "#FF97FF",
           "#FECB52"
          ],
          "font": {
           "color": "#2a3f5f"
          },
          "geo": {
           "bgcolor": "white",
           "lakecolor": "white",
           "landcolor": "#E5ECF6",
           "showlakes": true,
           "showland": true,
           "subunitcolor": "white"
          },
          "hoverlabel": {
           "align": "left"
          },
          "hovermode": "closest",
          "mapbox": {
           "style": "light"
          },
          "paper_bgcolor": "white",
          "plot_bgcolor": "#E5ECF6",
          "polar": {
           "angularaxis": {
            "gridcolor": "white",
            "linecolor": "white",
            "ticks": ""
           },
           "bgcolor": "#E5ECF6",
           "radialaxis": {
            "gridcolor": "white",
            "linecolor": "white",
            "ticks": ""
           }
          },
          "scene": {
           "xaxis": {
            "backgroundcolor": "#E5ECF6",
            "gridcolor": "white",
            "gridwidth": 2,
            "linecolor": "white",
            "showbackground": true,
            "ticks": "",
            "zerolinecolor": "white"
           },
           "yaxis": {
            "backgroundcolor": "#E5ECF6",
            "gridcolor": "white",
            "gridwidth": 2,
            "linecolor": "white",
            "showbackground": true,
            "ticks": "",
            "zerolinecolor": "white"
           },
           "zaxis": {
            "backgroundcolor": "#E5ECF6",
            "gridcolor": "white",
            "gridwidth": 2,
            "linecolor": "white",
            "showbackground": true,
            "ticks": "",
            "zerolinecolor": "white"
           }
          },
          "shapedefaults": {
           "line": {
            "color": "#2a3f5f"
           }
          },
          "ternary": {
           "aaxis": {
            "gridcolor": "white",
            "linecolor": "white",
            "ticks": ""
           },
           "baxis": {
            "gridcolor": "white",
            "linecolor": "white",
            "ticks": ""
           },
           "bgcolor": "#E5ECF6",
           "caxis": {
            "gridcolor": "white",
            "linecolor": "white",
            "ticks": ""
           }
          },
          "title": {
           "x": 0.05
          },
          "xaxis": {
           "automargin": true,
           "gridcolor": "white",
           "linecolor": "white",
           "ticks": "",
           "title": {
            "standoff": 15
           },
           "zerolinecolor": "white",
           "zerolinewidth": 2
          },
          "yaxis": {
           "automargin": true,
           "gridcolor": "white",
           "linecolor": "white",
           "ticks": "",
           "title": {
            "standoff": 15
           },
           "zerolinecolor": "white",
           "zerolinewidth": 2
          }
         }
        },
        "title": {
         "text": "min_mpe vs. min_mpe_pixels circular-small"
        },
        "xaxis": {
         "anchor": "y",
         "domain": [
          0,
          1
         ],
         "title": {
          "text": "min_mpe"
         }
        },
        "yaxis": {
         "anchor": "x",
         "domain": [
          0,
          1
         ],
         "title": {
          "text": "min_mpe_pixels"
         }
        }
       }
      }
     },
     "metadata": {},
     "output_type": "display_data"
    },
    {
     "data": {
      "application/vnd.plotly.v1+json": {
       "config": {
        "plotlyServerURL": "https://plot.ly"
       },
       "data": [
        {
         "customdata": [
          [
           "full body:undistorted_GX010152_36_378.jpg_gamma",
           "Prawn_0"
          ],
          [
           "full body:undistorted_GX010152_36_378.jpg_gamma",
           "Prawn_1"
          ],
          [
           "full body:undistorted_GX010157_160_2259",
           "Prawn_0"
          ],
          [
           "full body:undistorted_GX010157_174_2582.jpg_gamma",
           "Prawn_0"
          ],
          [
           "full body:undistorted_GX010157_177_2665.jpg_gamma",
           "Prawn_0"
          ],
          [
           "full body:undistorted_GX010161_54_676.jpg_gamma.jpg_gamma",
           "Prawn_0"
          ],
          [
           "full body:undistorted_GX010162_72_927.jpg_gamma.jpg_gamma",
           "Prawn_0"
          ],
          [
           "full body:undistorted_GX010174_62_790.jpg_gamma",
           "Prawn_0"
          ],
          [
           "full body:undistorted_GX010175_266_3372.jpg_gamma.jpg_gamma",
           "Prawn_0"
          ],
          [
           "full body:undistorted_GX010177_232_3047",
           "Prawn_0"
          ],
          [
           "full body:undistorted_GX010178_172_3604.jpg_gamma",
           "Prawn_0"
          ],
          [
           "full body:undistorted_GX010183_37_685.jpg_gamma",
           "Prawn_0"
          ],
          [
           "full body:undistorted_GX010183_80_1633.jpg_gamma",
           "Prawn_0"
          ],
          [
           "full body:undistorted_GX010183_128_2852.jpg_gamma",
           "Prawn_0"
          ]
         ],
         "hovertemplate": "min_mpe=%{x}<br>min_mpe_pixels=%{y}<br>Label=%{customdata[0]}<br>PrawnID=%{customdata[1]}<extra></extra>",
         "legendgroup": "",
         "marker": {
          "color": "#636efa",
          "symbol": "circle"
         },
         "mode": "markers",
         "name": "",
         "orientation": "v",
         "showlegend": false,
         "type": "scatter",
         "x": [
          0.9388052742723175,
          4.3764895603878,
          4.705978106553222,
          1.296063456460069,
          0.6056386868811566,
          6.078122484892265,
          5.15765909020042,
          0.8808650933232919,
          0.1974332611938016,
          7.139254068718754,
          0.9213217027069058,
          1.721087643436768,
          2.124052760638611,
          4.025913206838674
         ],
         "xaxis": "x",
         "y": [
          7.09343797410378,
          15.24698283582091,
          1.793462869398667,
          1.932398625958991,
          10.9788339630597,
          3.74007539892663,
          0.6916285701722816,
          4.240745578987989,
          2.383726377917921,
          7.470823802020372,
          0.7451242053531523,
          2.348908172385136,
          2.758561866710078,
          0.2111397158470358
         ],
         "yaxis": "y"
        }
       ],
       "layout": {
        "legend": {
         "tracegroupgap": 0
        },
        "margin": {
         "t": 60
        },
        "template": {
         "data": {
          "bar": [
           {
            "error_x": {
             "color": "#2a3f5f"
            },
            "error_y": {
             "color": "#2a3f5f"
            },
            "marker": {
             "line": {
              "color": "#E5ECF6",
              "width": 0.5
             },
             "pattern": {
              "fillmode": "overlay",
              "size": 10,
              "solidity": 0.2
             }
            },
            "type": "bar"
           }
          ],
          "barpolar": [
           {
            "marker": {
             "line": {
              "color": "#E5ECF6",
              "width": 0.5
             },
             "pattern": {
              "fillmode": "overlay",
              "size": 10,
              "solidity": 0.2
             }
            },
            "type": "barpolar"
           }
          ],
          "carpet": [
           {
            "aaxis": {
             "endlinecolor": "#2a3f5f",
             "gridcolor": "white",
             "linecolor": "white",
             "minorgridcolor": "white",
             "startlinecolor": "#2a3f5f"
            },
            "baxis": {
             "endlinecolor": "#2a3f5f",
             "gridcolor": "white",
             "linecolor": "white",
             "minorgridcolor": "white",
             "startlinecolor": "#2a3f5f"
            },
            "type": "carpet"
           }
          ],
          "choropleth": [
           {
            "colorbar": {
             "outlinewidth": 0,
             "ticks": ""
            },
            "type": "choropleth"
           }
          ],
          "contour": [
           {
            "colorbar": {
             "outlinewidth": 0,
             "ticks": ""
            },
            "colorscale": [
             [
              0,
              "#0d0887"
             ],
             [
              0.1111111111111111,
              "#46039f"
             ],
             [
              0.2222222222222222,
              "#7201a8"
             ],
             [
              0.3333333333333333,
              "#9c179e"
             ],
             [
              0.4444444444444444,
              "#bd3786"
             ],
             [
              0.5555555555555556,
              "#d8576b"
             ],
             [
              0.6666666666666666,
              "#ed7953"
             ],
             [
              0.7777777777777778,
              "#fb9f3a"
             ],
             [
              0.8888888888888888,
              "#fdca26"
             ],
             [
              1,
              "#f0f921"
             ]
            ],
            "type": "contour"
           }
          ],
          "contourcarpet": [
           {
            "colorbar": {
             "outlinewidth": 0,
             "ticks": ""
            },
            "type": "contourcarpet"
           }
          ],
          "heatmap": [
           {
            "colorbar": {
             "outlinewidth": 0,
             "ticks": ""
            },
            "colorscale": [
             [
              0,
              "#0d0887"
             ],
             [
              0.1111111111111111,
              "#46039f"
             ],
             [
              0.2222222222222222,
              "#7201a8"
             ],
             [
              0.3333333333333333,
              "#9c179e"
             ],
             [
              0.4444444444444444,
              "#bd3786"
             ],
             [
              0.5555555555555556,
              "#d8576b"
             ],
             [
              0.6666666666666666,
              "#ed7953"
             ],
             [
              0.7777777777777778,
              "#fb9f3a"
             ],
             [
              0.8888888888888888,
              "#fdca26"
             ],
             [
              1,
              "#f0f921"
             ]
            ],
            "type": "heatmap"
           }
          ],
          "heatmapgl": [
           {
            "colorbar": {
             "outlinewidth": 0,
             "ticks": ""
            },
            "colorscale": [
             [
              0,
              "#0d0887"
             ],
             [
              0.1111111111111111,
              "#46039f"
             ],
             [
              0.2222222222222222,
              "#7201a8"
             ],
             [
              0.3333333333333333,
              "#9c179e"
             ],
             [
              0.4444444444444444,
              "#bd3786"
             ],
             [
              0.5555555555555556,
              "#d8576b"
             ],
             [
              0.6666666666666666,
              "#ed7953"
             ],
             [
              0.7777777777777778,
              "#fb9f3a"
             ],
             [
              0.8888888888888888,
              "#fdca26"
             ],
             [
              1,
              "#f0f921"
             ]
            ],
            "type": "heatmapgl"
           }
          ],
          "histogram": [
           {
            "marker": {
             "pattern": {
              "fillmode": "overlay",
              "size": 10,
              "solidity": 0.2
             }
            },
            "type": "histogram"
           }
          ],
          "histogram2d": [
           {
            "colorbar": {
             "outlinewidth": 0,
             "ticks": ""
            },
            "colorscale": [
             [
              0,
              "#0d0887"
             ],
             [
              0.1111111111111111,
              "#46039f"
             ],
             [
              0.2222222222222222,
              "#7201a8"
             ],
             [
              0.3333333333333333,
              "#9c179e"
             ],
             [
              0.4444444444444444,
              "#bd3786"
             ],
             [
              0.5555555555555556,
              "#d8576b"
             ],
             [
              0.6666666666666666,
              "#ed7953"
             ],
             [
              0.7777777777777778,
              "#fb9f3a"
             ],
             [
              0.8888888888888888,
              "#fdca26"
             ],
             [
              1,
              "#f0f921"
             ]
            ],
            "type": "histogram2d"
           }
          ],
          "histogram2dcontour": [
           {
            "colorbar": {
             "outlinewidth": 0,
             "ticks": ""
            },
            "colorscale": [
             [
              0,
              "#0d0887"
             ],
             [
              0.1111111111111111,
              "#46039f"
             ],
             [
              0.2222222222222222,
              "#7201a8"
             ],
             [
              0.3333333333333333,
              "#9c179e"
             ],
             [
              0.4444444444444444,
              "#bd3786"
             ],
             [
              0.5555555555555556,
              "#d8576b"
             ],
             [
              0.6666666666666666,
              "#ed7953"
             ],
             [
              0.7777777777777778,
              "#fb9f3a"
             ],
             [
              0.8888888888888888,
              "#fdca26"
             ],
             [
              1,
              "#f0f921"
             ]
            ],
            "type": "histogram2dcontour"
           }
          ],
          "mesh3d": [
           {
            "colorbar": {
             "outlinewidth": 0,
             "ticks": ""
            },
            "type": "mesh3d"
           }
          ],
          "parcoords": [
           {
            "line": {
             "colorbar": {
              "outlinewidth": 0,
              "ticks": ""
             }
            },
            "type": "parcoords"
           }
          ],
          "pie": [
           {
            "automargin": true,
            "type": "pie"
           }
          ],
          "scatter": [
           {
            "fillpattern": {
             "fillmode": "overlay",
             "size": 10,
             "solidity": 0.2
            },
            "type": "scatter"
           }
          ],
          "scatter3d": [
           {
            "line": {
             "colorbar": {
              "outlinewidth": 0,
              "ticks": ""
             }
            },
            "marker": {
             "colorbar": {
              "outlinewidth": 0,
              "ticks": ""
             }
            },
            "type": "scatter3d"
           }
          ],
          "scattercarpet": [
           {
            "marker": {
             "colorbar": {
              "outlinewidth": 0,
              "ticks": ""
             }
            },
            "type": "scattercarpet"
           }
          ],
          "scattergeo": [
           {
            "marker": {
             "colorbar": {
              "outlinewidth": 0,
              "ticks": ""
             }
            },
            "type": "scattergeo"
           }
          ],
          "scattergl": [
           {
            "marker": {
             "colorbar": {
              "outlinewidth": 0,
              "ticks": ""
             }
            },
            "type": "scattergl"
           }
          ],
          "scattermapbox": [
           {
            "marker": {
             "colorbar": {
              "outlinewidth": 0,
              "ticks": ""
             }
            },
            "type": "scattermapbox"
           }
          ],
          "scatterpolar": [
           {
            "marker": {
             "colorbar": {
              "outlinewidth": 0,
              "ticks": ""
             }
            },
            "type": "scatterpolar"
           }
          ],
          "scatterpolargl": [
           {
            "marker": {
             "colorbar": {
              "outlinewidth": 0,
              "ticks": ""
             }
            },
            "type": "scatterpolargl"
           }
          ],
          "scatterternary": [
           {
            "marker": {
             "colorbar": {
              "outlinewidth": 0,
              "ticks": ""
             }
            },
            "type": "scatterternary"
           }
          ],
          "surface": [
           {
            "colorbar": {
             "outlinewidth": 0,
             "ticks": ""
            },
            "colorscale": [
             [
              0,
              "#0d0887"
             ],
             [
              0.1111111111111111,
              "#46039f"
             ],
             [
              0.2222222222222222,
              "#7201a8"
             ],
             [
              0.3333333333333333,
              "#9c179e"
             ],
             [
              0.4444444444444444,
              "#bd3786"
             ],
             [
              0.5555555555555556,
              "#d8576b"
             ],
             [
              0.6666666666666666,
              "#ed7953"
             ],
             [
              0.7777777777777778,
              "#fb9f3a"
             ],
             [
              0.8888888888888888,
              "#fdca26"
             ],
             [
              1,
              "#f0f921"
             ]
            ],
            "type": "surface"
           }
          ],
          "table": [
           {
            "cells": {
             "fill": {
              "color": "#EBF0F8"
             },
             "line": {
              "color": "white"
             }
            },
            "header": {
             "fill": {
              "color": "#C8D4E3"
             },
             "line": {
              "color": "white"
             }
            },
            "type": "table"
           }
          ]
         },
         "layout": {
          "annotationdefaults": {
           "arrowcolor": "#2a3f5f",
           "arrowhead": 0,
           "arrowwidth": 1
          },
          "autotypenumbers": "strict",
          "coloraxis": {
           "colorbar": {
            "outlinewidth": 0,
            "ticks": ""
           }
          },
          "colorscale": {
           "diverging": [
            [
             0,
             "#8e0152"
            ],
            [
             0.1,
             "#c51b7d"
            ],
            [
             0.2,
             "#de77ae"
            ],
            [
             0.3,
             "#f1b6da"
            ],
            [
             0.4,
             "#fde0ef"
            ],
            [
             0.5,
             "#f7f7f7"
            ],
            [
             0.6,
             "#e6f5d0"
            ],
            [
             0.7,
             "#b8e186"
            ],
            [
             0.8,
             "#7fbc41"
            ],
            [
             0.9,
             "#4d9221"
            ],
            [
             1,
             "#276419"
            ]
           ],
           "sequential": [
            [
             0,
             "#0d0887"
            ],
            [
             0.1111111111111111,
             "#46039f"
            ],
            [
             0.2222222222222222,
             "#7201a8"
            ],
            [
             0.3333333333333333,
             "#9c179e"
            ],
            [
             0.4444444444444444,
             "#bd3786"
            ],
            [
             0.5555555555555556,
             "#d8576b"
            ],
            [
             0.6666666666666666,
             "#ed7953"
            ],
            [
             0.7777777777777778,
             "#fb9f3a"
            ],
            [
             0.8888888888888888,
             "#fdca26"
            ],
            [
             1,
             "#f0f921"
            ]
           ],
           "sequentialminus": [
            [
             0,
             "#0d0887"
            ],
            [
             0.1111111111111111,
             "#46039f"
            ],
            [
             0.2222222222222222,
             "#7201a8"
            ],
            [
             0.3333333333333333,
             "#9c179e"
            ],
            [
             0.4444444444444444,
             "#bd3786"
            ],
            [
             0.5555555555555556,
             "#d8576b"
            ],
            [
             0.6666666666666666,
             "#ed7953"
            ],
            [
             0.7777777777777778,
             "#fb9f3a"
            ],
            [
             0.8888888888888888,
             "#fdca26"
            ],
            [
             1,
             "#f0f921"
            ]
           ]
          },
          "colorway": [
           "#636efa",
           "#EF553B",
           "#00cc96",
           "#ab63fa",
           "#FFA15A",
           "#19d3f3",
           "#FF6692",
           "#B6E880",
           "#FF97FF",
           "#FECB52"
          ],
          "font": {
           "color": "#2a3f5f"
          },
          "geo": {
           "bgcolor": "white",
           "lakecolor": "white",
           "landcolor": "#E5ECF6",
           "showlakes": true,
           "showland": true,
           "subunitcolor": "white"
          },
          "hoverlabel": {
           "align": "left"
          },
          "hovermode": "closest",
          "mapbox": {
           "style": "light"
          },
          "paper_bgcolor": "white",
          "plot_bgcolor": "#E5ECF6",
          "polar": {
           "angularaxis": {
            "gridcolor": "white",
            "linecolor": "white",
            "ticks": ""
           },
           "bgcolor": "#E5ECF6",
           "radialaxis": {
            "gridcolor": "white",
            "linecolor": "white",
            "ticks": ""
           }
          },
          "scene": {
           "xaxis": {
            "backgroundcolor": "#E5ECF6",
            "gridcolor": "white",
            "gridwidth": 2,
            "linecolor": "white",
            "showbackground": true,
            "ticks": "",
            "zerolinecolor": "white"
           },
           "yaxis": {
            "backgroundcolor": "#E5ECF6",
            "gridcolor": "white",
            "gridwidth": 2,
            "linecolor": "white",
            "showbackground": true,
            "ticks": "",
            "zerolinecolor": "white"
           },
           "zaxis": {
            "backgroundcolor": "#E5ECF6",
            "gridcolor": "white",
            "gridwidth": 2,
            "linecolor": "white",
            "showbackground": true,
            "ticks": "",
            "zerolinecolor": "white"
           }
          },
          "shapedefaults": {
           "line": {
            "color": "#2a3f5f"
           }
          },
          "ternary": {
           "aaxis": {
            "gridcolor": "white",
            "linecolor": "white",
            "ticks": ""
           },
           "baxis": {
            "gridcolor": "white",
            "linecolor": "white",
            "ticks": ""
           },
           "bgcolor": "#E5ECF6",
           "caxis": {
            "gridcolor": "white",
            "linecolor": "white",
            "ticks": ""
           }
          },
          "title": {
           "x": 0.05
          },
          "xaxis": {
           "automargin": true,
           "gridcolor": "white",
           "linecolor": "white",
           "ticks": "",
           "title": {
            "standoff": 15
           },
           "zerolinecolor": "white",
           "zerolinewidth": 2
          },
          "yaxis": {
           "automargin": true,
           "gridcolor": "white",
           "linecolor": "white",
           "ticks": "",
           "title": {
            "standoff": 15
           },
           "zerolinecolor": "white",
           "zerolinewidth": 2
          }
         }
        },
        "title": {
         "text": "min_mpe vs. min_mpe_pixels square-female"
        },
        "xaxis": {
         "anchor": "y",
         "domain": [
          0,
          1
         ],
         "title": {
          "text": "min_mpe"
         }
        },
        "yaxis": {
         "anchor": "x",
         "domain": [
          0,
          1
         ],
         "title": {
          "text": "min_mpe_pixels"
         }
        }
       }
      }
     },
     "metadata": {},
     "output_type": "display_data"
    }
   ],
   "source": [
    "#relationship between min_mpe and min_mpe_of_pixels\n",
    "for pond_type in df['PondType'].unique():\n",
    "\n",
    "    fig = px.scatter(df[df['PondType'] == pond_type], x='min_mpe', y='min_mpe_pixels',hover_data=['Label', 'PrawnID'])\n",
    "    #add title\n",
    "    fig.update_layout(title=f'min_mpe vs. min_mpe_pixels {pond_type}')\n",
    "\n",
    "    #save the plot to png\n",
    "    fig.write_image(f'full body_min_mpe vs. min_mpe_pixels {pond_type}.png')\n",
    "    # Add a trendline\n",
    "    fig.show()\n"
   ]
  },
  {
   "cell_type": "code",
   "execution_count": 11,
   "metadata": {},
   "outputs": [
    {
     "data": {
      "application/vnd.plotly.v1+json": {
       "config": {
        "plotlyServerURL": "https://plot.ly"
       },
       "data": [
        {
         "customdata": [
          [
           "full body:undistorted_GX010077_14_237.jpg_gamma",
           "Prawn_0"
          ],
          [
           "full body:undistorted_GX010077_14_237.jpg_gamma",
           "Prawn_1"
          ],
          [
           "full body:undistorted_GX010077_14_237.jpg_gamma",
           "Prawn_2"
          ],
          [
           "full body:undistorted_GX010067_33_625.jpg_gamma",
           "Prawn_0"
          ],
          [
           "full body:undistorted_GX010067_33_625.jpg_gamma",
           "Prawn_1"
          ],
          [
           "full body:undistorted_GX010067_33_625.jpg_gamma",
           "Prawn_2"
          ],
          [
           "full body:undistorted_GX010067_33_625.jpg_gamma",
           "Prawn_3"
          ],
          [
           "full body:undistorted_GX010068_26_666.jpg_gamma",
           "Prawn_0"
          ],
          [
           "full body:undistorted_GX010068_26_666.jpg_gamma",
           "Prawn_1"
          ],
          [
           "full body:undistorted_GX010068_26_666.jpg_gamma",
           "Prawn_2"
          ],
          [
           "full body:undistorted_GX010068_27_795.jpg_gamma",
           "Prawn_0"
          ],
          [
           "full body:undistorted_GX010068_27_795.jpg_gamma",
           "Prawn_1"
          ],
          [
           "full body:undistorted_GX010069_19_191.jpg_gamma",
           "Prawn_0"
          ],
          [
           "full body:undistorted_GX010069_19_191.jpg_gamma",
           "Prawn_1"
          ],
          [
           "full body:undistorted_GX010069_19_191.jpg_gamma",
           "Prawn_2"
          ],
          [
           "full body:undistorted_GX010069_19_191.jpg_gamma",
           "Prawn_3"
          ],
          [
           "full body:undistorted_GX010071_22_444.jpg_gamma",
           "Prawn_0"
          ],
          [
           "full body:undistorted_GX010071_22_444.jpg_gamma",
           "Prawn_1"
          ],
          [
           "full body:undistorted_GX010073_42_695.jpg_gamma",
           "Prawn_0"
          ],
          [
           "full body:undistorted_GX010073_42_695.jpg_gamma",
           "Prawn_1"
          ],
          [
           "full body:undistorted_GX010073_42_695.jpg_gamma",
           "Prawn_2"
          ],
          [
           "full body:undistorted_GX010073_55_1014.jpg_gamma",
           "Prawn_0"
          ],
          [
           "full body:undistorted_GX010073_55_1014.jpg_gamma",
           "Prawn_1"
          ],
          [
           "full body:undistorted_GX010073_55_1014.jpg_gamma",
           "Prawn_2"
          ],
          [
           "full body:undistorted_GX010080_157_2283.jpg_gamma",
           "Prawn_0"
          ],
          [
           "full body:undistorted_GX010080_157_2283.jpg_gamma",
           "Prawn_2"
          ],
          [
           "full body:undistorted_GX010080_157_2283.jpg_gamma",
           "Prawn_3"
          ],
          [
           "full body:undistorted_GX010080_193_2640.jpg_gamma",
           "Prawn_0"
          ],
          [
           "full body:undistorted_GX010080_193_2640.jpg_gamma",
           "Prawn_1"
          ],
          [
           "full body:undistorted_GX010080_193_2640.jpg_gamma",
           "Prawn_2"
          ],
          [
           "full body:undistorted_GX010080_193_2640.jpg_gamma",
           "Prawn_3"
          ],
          [
           "full body:undistorted_GX010080_193_2640.jpg_gamma",
           "Prawn_4"
          ],
          [
           "full body:undistorted_GX010080_212_2954.jpg_gamma",
           "Prawn_0"
          ],
          [
           "full body:undistorted_GX010080_212_2954.jpg_gamma",
           "Prawn_1"
          ],
          [
           "full body:undistorted_GX010080_212_2954.jpg_gamma",
           "Prawn_2"
          ],
          [
           "full body:undistorted_GX010080_237_3366.jpg_gamma",
           "Prawn_0"
          ],
          [
           "full body:undistorted_GX010080_237_3366.jpg_gamma",
           "Prawn_1"
          ],
          [
           "full body:undistorted_GX010080_237_3366.jpg_gamma",
           "Prawn_2"
          ],
          [
           "full body:undistorted_GX010080_237_3366.jpg_gamma",
           "Prawn_3"
          ],
          [
           "full body:undistorted_GX010080_237_3366.jpg_gamma",
           "Prawn_4"
          ],
          [
           "full body:undistorted_GX010080_238_3392.jpg_gamma",
           "Prawn_0"
          ],
          [
           "full body:undistorted_GX010080_238_3392.jpg_gamma",
           "Prawn_1"
          ],
          [
           "full body:undistorted_GX010080_238_3392.jpg_gamma",
           "Prawn_2"
          ],
          [
           "full body:undistorted_GX010080_238_3392.jpg_gamma",
           "Prawn_3"
          ],
          [
           "full body:undistorted_GX010082_8_59.jpg_gamma",
           "Prawn_1"
          ],
          [
           "full body:undistorted_GX010082_8_59.jpg_gamma",
           "Prawn_2"
          ],
          [
           "full body:undistorted_GX010082_8_59.jpg_gamma",
           "Prawn_3"
          ],
          [
           "full body:undistorted_GX010082_8_59.jpg_gamma",
           "Prawn_4"
          ],
          [
           "full body:undistorted_GX010082_53_796.jpg_gamma",
           "Prawn_0"
          ],
          [
           "full body:undistorted_GX010082_53_796.jpg_gamma",
           "Prawn_1"
          ],
          [
           "full body:undistorted_GX010082_65_1070.jpg_gamma",
           "Prawn_0"
          ],
          [
           "full body:undistorted_GX010082_65_1070.jpg_gamma",
           "Prawn_1"
          ],
          [
           "full body:undistorted_GX010082_65_1070.jpg_gamma",
           "Prawn_2"
          ],
          [
           "full body:undistorted_GX010082_236_3137.jpg_gamma",
           "Prawn_0"
          ],
          [
           "full body:undistorted_GX010082_236_3137.jpg_gamma",
           "Prawn_1"
          ],
          [
           "full body:undistorted_GX010082_236_3137.jpg_gamma",
           "Prawn_2"
          ],
          [
           "full body:undistorted_GX010084_30_344.jpg_gamma",
           "Prawn_0"
          ],
          [
           "full body:undistorted_GX010084_30_344.jpg_gamma",
           "Prawn_1"
          ],
          [
           "full body:undistorted_GX010084_30_344.jpg_gamma",
           "Prawn_2"
          ],
          [
           "full body:undistorted_GX010084_30_344.jpg_gamma",
           "Prawn_3"
          ],
          [
           "full body:undistorted_GX010084_130_1748.jpg_gamma",
           "Prawn_0"
          ],
          [
           "full body:undistorted_GX010084_130_1748.jpg_gamma",
           "Prawn_1"
          ],
          [
           "full body:undistorted_GX010084_130_1748.jpg_gamma",
           "Prawn_2"
          ],
          [
           "full body:undistorted_GX010085_261_3610.jpg_gamma",
           "Prawn_0"
          ],
          [
           "full body:undistorted_GX010085_261_3610.jpg_gamma",
           "Prawn_1"
          ],
          [
           "full body:undistorted_GX010088_209_2904.jpg_gamma",
           "Prawn_0"
          ],
          [
           "full body:undistorted_GX010088_209_2904.jpg_gamma",
           "Prawn_1"
          ],
          [
           "full body:undistorted_GX010088_262_3712.jpg_gamma",
           "Prawn_0"
          ],
          [
           "full body:undistorted_GX010088_262_3712.jpg_gamma",
           "Prawn_1"
          ],
          [
           "full body:undistorted_GX010088_262_3712.jpg_gamma",
           "Prawn_2"
          ],
          [
           "full body:undistorted_GX010088_327_4364.jpg_gamma",
           "Prawn_0"
          ],
          [
           "full body:undistorted_GX010088_327_4364.jpg_gamma",
           "Prawn_1"
          ],
          [
           "full body:undistorted_GX010088_327_4364.jpg_gamma",
           "Prawn_2"
          ],
          [
           "full body:undistorted_GX010088_327_4364.jpg_gamma",
           "Prawn_3"
          ],
          [
           "full body:undistorted_GX010089_11_236.jpg_gamma",
           "Prawn_0"
          ],
          [
           "full body:undistorted_GX010089_11_236.jpg_gamma",
           "Prawn_1"
          ],
          [
           "full body:undistorted_GX010089_11_236.jpg_gamma",
           "Prawn_2"
          ],
          [
           "full body:undistorted_GX010089_11_236.jpg_gamma",
           "Prawn_3"
          ],
          [
           "full body:undistorted_GX010090_132_1852.jpg_gamma",
           "Prawn_0"
          ],
          [
           "full body:undistorted_GX010091_5_149.jpg_gamma",
           "Prawn_0"
          ],
          [
           "full body:undistorted_GX010091_5_149.jpg_gamma",
           "Prawn_1"
          ],
          [
           "full body:undistorted_GX010091_5_149.jpg_gamma",
           "Prawn_2"
          ],
          [
           "full body:undistorted_GX010094_9_129.jpg_gamma",
           "Prawn_0"
          ],
          [
           "full body:undistorted_GX010094_9_129.jpg_gamma",
           "Prawn_1"
          ],
          [
           "full body:undistorted_GX010094_24_430.jpg_gamma",
           "Prawn_0"
          ],
          [
           "full body:undistorted_GX010094_93_1258.jpg_gamma",
           "Prawn_0"
          ],
          [
           "full body:undistorted_GX010094_163_2312.jpg_gamma",
           "Prawn_0"
          ],
          [
           "full body:undistorted_GX010097_32_528.jpg_gamma",
           "Prawn_0"
          ],
          [
           "full body:undistorted_GX010097_32_528.jpg_gamma",
           "Prawn_1"
          ],
          [
           "full body:undistorted_GX010097_60_1080.jpg_gamma",
           "Prawn_0"
          ],
          [
           "full body:undistorted_GX010097_60_1080.jpg_gamma",
           "Prawn_1"
          ],
          [
           "full body:undistorted_GX010097_60_1080.jpg_gamma",
           "Prawn_2"
          ],
          [
           "full body:undistorted_GX010097_60_1080.jpg_gamma",
           "Prawn_3"
          ],
          [
           "full body:undistorted_GX010097_105_1651.jpg_gamma",
           "Prawn_0"
          ],
          [
           "full body:undistorted_GX010097_105_1651.jpg_gamma",
           "Prawn_1"
          ],
          [
           "full body:undistorted_GX010097_105_1651.jpg_gamma",
           "Prawn_2"
          ],
          [
           "full body:undistorted_GX010097_105_1651.jpg_gamma",
           "Prawn_3"
          ],
          [
           "full body:undistorted_GX010097_124_1870.jpg_gamma",
           "Prawn_0"
          ],
          [
           "full body:undistorted_GX010097_124_1870.jpg_gamma",
           "Prawn_1"
          ],
          [
           "full body:undistorted_GX010101_12_173.jpg_gamma",
           "Prawn_0"
          ],
          [
           "full body:undistorted_GX010102_9_165.jpg_gamma",
           "Prawn_1"
          ],
          [
           "full body:undistorted_GX010102_9_165.jpg_gamma",
           "Prawn_2"
          ],
          [
           "full body:undistorted_GX010102_9_165.jpg_gamma",
           "Prawn_3"
          ],
          [
           "full body:undistorted_GX010102_9_165.jpg_gamma",
           "Prawn_4"
          ],
          [
           "full body:undistorted_GX010102_9_165.jpg_gamma",
           "Prawn_5"
          ],
          [
           "full body:undistorted_GX010102_50_1396.jpg_gamma",
           "Prawn_0"
          ],
          [
           "full body:undistorted_GX010105_28_816.jpg_gamma",
           "Prawn_0"
          ],
          [
           "full body:undistorted_GX010105_28_816.jpg_gamma",
           "Prawn_1"
          ],
          [
           "full body:undistorted_GX010152_36_378.jpg_gamma",
           "Prawn_0"
          ],
          [
           "full body:undistorted_GX010152_36_378.jpg_gamma",
           "Prawn_1"
          ],
          [
           "full body:undistorted_GX010157_160_2259",
           "Prawn_0"
          ],
          [
           "full body:undistorted_GX010157_174_2582.jpg_gamma",
           "Prawn_0"
          ],
          [
           "full body:undistorted_GX010157_177_2665.jpg_gamma",
           "Prawn_0"
          ],
          [
           "full body:undistorted_GX010161_54_676.jpg_gamma.jpg_gamma",
           "Prawn_0"
          ],
          [
           "full body:undistorted_GX010162_72_927.jpg_gamma.jpg_gamma",
           "Prawn_0"
          ],
          [
           "full body:undistorted_GX010174_62_790.jpg_gamma",
           "Prawn_0"
          ],
          [
           "full body:undistorted_GX010175_266_3372.jpg_gamma.jpg_gamma",
           "Prawn_0"
          ],
          [
           "full body:undistorted_GX010177_232_3047",
           "Prawn_0"
          ],
          [
           "full body:undistorted_GX010178_172_3604.jpg_gamma",
           "Prawn_0"
          ],
          [
           "full body:undistorted_GX010183_37_685.jpg_gamma",
           "Prawn_0"
          ],
          [
           "full body:undistorted_GX010183_80_1633.jpg_gamma",
           "Prawn_0"
          ],
          [
           "full body:undistorted_GX010183_128_2852.jpg_gamma",
           "Prawn_0"
          ]
         ],
         "hovertemplate": "Height_mm=%{x}<br>min_mae=%{y}<br>Label=%{customdata[0]}<br>PrawnID=%{customdata[1]}<extra></extra>",
         "legendgroup": "",
         "marker": {
          "color": "#636efa",
          "symbol": "circle"
         },
         "mode": "markers",
         "name": "",
         "orientation": "v",
         "showlegend": false,
         "type": "scatter",
         "x": [
          650,
          650,
          650,
          650,
          650,
          650,
          650,
          650,
          650,
          650,
          650,
          650,
          650,
          650,
          650,
          650,
          650,
          650,
          650,
          650,
          650,
          650,
          650,
          650,
          650,
          650,
          650,
          650,
          650,
          650,
          650,
          650,
          650,
          650,
          650,
          650,
          650,
          650,
          650,
          650,
          650,
          650,
          650,
          650,
          650,
          650,
          650,
          650,
          650,
          650,
          650,
          650,
          650,
          650,
          650,
          650,
          650,
          650,
          650,
          650,
          650,
          650,
          650,
          650,
          650,
          650,
          650,
          650,
          650,
          650,
          650,
          650,
          650,
          650,
          700,
          700,
          700,
          700,
          650,
          700,
          700,
          700,
          650,
          650,
          650,
          650,
          650,
          650,
          650,
          650,
          650,
          650,
          650,
          650,
          650,
          650,
          650,
          650,
          650,
          650,
          760,
          760,
          760,
          760,
          760,
          760,
          760,
          760,
          415,
          415,
          415,
          415,
          415,
          400,
          400,
          370,
          385,
          385,
          455,
          455,
          455,
          455
         ],
         "xaxis": "x",
         "y": [
          4.731451607420922,
          10.76005621878703,
          1.775644547862981,
          9.11540685296805,
          1.046793588607059,
          3.527822675504837,
          8.822447763821685,
          12.54596300169466,
          16.31505110771728,
          8.96639062831261,
          4.610948833937044,
          1.829131432664127,
          0.9058763041410174,
          14.197675426651,
          15.75524293855288,
          14.15285380669994,
          12.40499319663823,
          1.375186642114812,
          17.21455914689275,
          4.551944784594582,
          3.684981306676463,
          5.554561875542518,
          6.878248168471998,
          20.52075747698053,
          32.64374405621471,
          31.00323414603047,
          27.67900841073204,
          21.89686934318435,
          14.36696131696877,
          21.1844114250483,
          8.922521007331511,
          24.61661874600227,
          23.33404740082814,
          11.39073374181663,
          3.050231364605196,
          12.81730867164907,
          20.16489353278465,
          14.55604186488075,
          6.054335488347562,
          3.160340153199769,
          13.81741506886621,
          21.36396216254471,
          9.383055686515874,
          15.01645529005637,
          2.272952540973762,
          1.603437866759464,
          3.728410522143207,
          11.61538009840291,
          5.118400050384338,
          1.507178634847207,
          19.10065251434079,
          37.06832167606208,
          17.78131526812157,
          18.18529362354461,
          30.15591093539877,
          0.0679430742152789,
          8.535333986370546,
          6.703090000091578,
          2.090211591170316,
          12.40418311818536,
          4.407592832592684,
          11.40166156483927,
          0.7753151094987061,
          19.5432117676724,
          2.696372176450382,
          11.2420185038287,
          4.545966809780964,
          2.527546290406519,
          3.471646184410645,
          4.814604159000567,
          7.936016852181666,
          11.22326994207236,
          6.286359230620533,
          1.766332906722226,
          24.38975711162612,
          17.08713097593247,
          21.47069998942331,
          2.509125396106931,
          11.67725961676365,
          18.47246068911301,
          14.87510242154835,
          37.38806516432776,
          11.90711001051625,
          14.43638293258064,
          11.20135580790574,
          0.1318451817630688,
          14.86098675165017,
          12.99220782091001,
          63.53548642613654,
          19.13212791819919,
          13.05857252013507,
          36.01054396560716,
          2.581852391645782,
          42.88860399861798,
          15.97980044886523,
          28.50974788376941,
          43.65236606989079,
          27.45676340040215,
          13.61506277970771,
          2.999258159698996,
          21.80109689598581,
          49.15371209933767,
          37.45571209933767,
          20.65896523765601,
          18.34599538573427,
          20.87895544962726,
          15.46606788390365,
          23.97434583644564,
          0.9973022309122257,
          5.526412192379695,
          4.937276930490313,
          1.322503150971855,
          0.7757686504129424,
          5.998012830541384,
          5.630771158544505,
          1.008652192411702,
          0.243287136106062,
          8.935418999867707,
          1.293139502268332,
          1.710829961081885,
          3.061333522325612,
          5.284333157032307
         ],
         "yaxis": "y"
        }
       ],
       "layout": {
        "legend": {
         "tracegroupgap": 0
        },
        "margin": {
         "t": 60
        },
        "template": {
         "data": {
          "bar": [
           {
            "error_x": {
             "color": "#2a3f5f"
            },
            "error_y": {
             "color": "#2a3f5f"
            },
            "marker": {
             "line": {
              "color": "#E5ECF6",
              "width": 0.5
             },
             "pattern": {
              "fillmode": "overlay",
              "size": 10,
              "solidity": 0.2
             }
            },
            "type": "bar"
           }
          ],
          "barpolar": [
           {
            "marker": {
             "line": {
              "color": "#E5ECF6",
              "width": 0.5
             },
             "pattern": {
              "fillmode": "overlay",
              "size": 10,
              "solidity": 0.2
             }
            },
            "type": "barpolar"
           }
          ],
          "carpet": [
           {
            "aaxis": {
             "endlinecolor": "#2a3f5f",
             "gridcolor": "white",
             "linecolor": "white",
             "minorgridcolor": "white",
             "startlinecolor": "#2a3f5f"
            },
            "baxis": {
             "endlinecolor": "#2a3f5f",
             "gridcolor": "white",
             "linecolor": "white",
             "minorgridcolor": "white",
             "startlinecolor": "#2a3f5f"
            },
            "type": "carpet"
           }
          ],
          "choropleth": [
           {
            "colorbar": {
             "outlinewidth": 0,
             "ticks": ""
            },
            "type": "choropleth"
           }
          ],
          "contour": [
           {
            "colorbar": {
             "outlinewidth": 0,
             "ticks": ""
            },
            "colorscale": [
             [
              0,
              "#0d0887"
             ],
             [
              0.1111111111111111,
              "#46039f"
             ],
             [
              0.2222222222222222,
              "#7201a8"
             ],
             [
              0.3333333333333333,
              "#9c179e"
             ],
             [
              0.4444444444444444,
              "#bd3786"
             ],
             [
              0.5555555555555556,
              "#d8576b"
             ],
             [
              0.6666666666666666,
              "#ed7953"
             ],
             [
              0.7777777777777778,
              "#fb9f3a"
             ],
             [
              0.8888888888888888,
              "#fdca26"
             ],
             [
              1,
              "#f0f921"
             ]
            ],
            "type": "contour"
           }
          ],
          "contourcarpet": [
           {
            "colorbar": {
             "outlinewidth": 0,
             "ticks": ""
            },
            "type": "contourcarpet"
           }
          ],
          "heatmap": [
           {
            "colorbar": {
             "outlinewidth": 0,
             "ticks": ""
            },
            "colorscale": [
             [
              0,
              "#0d0887"
             ],
             [
              0.1111111111111111,
              "#46039f"
             ],
             [
              0.2222222222222222,
              "#7201a8"
             ],
             [
              0.3333333333333333,
              "#9c179e"
             ],
             [
              0.4444444444444444,
              "#bd3786"
             ],
             [
              0.5555555555555556,
              "#d8576b"
             ],
             [
              0.6666666666666666,
              "#ed7953"
             ],
             [
              0.7777777777777778,
              "#fb9f3a"
             ],
             [
              0.8888888888888888,
              "#fdca26"
             ],
             [
              1,
              "#f0f921"
             ]
            ],
            "type": "heatmap"
           }
          ],
          "heatmapgl": [
           {
            "colorbar": {
             "outlinewidth": 0,
             "ticks": ""
            },
            "colorscale": [
             [
              0,
              "#0d0887"
             ],
             [
              0.1111111111111111,
              "#46039f"
             ],
             [
              0.2222222222222222,
              "#7201a8"
             ],
             [
              0.3333333333333333,
              "#9c179e"
             ],
             [
              0.4444444444444444,
              "#bd3786"
             ],
             [
              0.5555555555555556,
              "#d8576b"
             ],
             [
              0.6666666666666666,
              "#ed7953"
             ],
             [
              0.7777777777777778,
              "#fb9f3a"
             ],
             [
              0.8888888888888888,
              "#fdca26"
             ],
             [
              1,
              "#f0f921"
             ]
            ],
            "type": "heatmapgl"
           }
          ],
          "histogram": [
           {
            "marker": {
             "pattern": {
              "fillmode": "overlay",
              "size": 10,
              "solidity": 0.2
             }
            },
            "type": "histogram"
           }
          ],
          "histogram2d": [
           {
            "colorbar": {
             "outlinewidth": 0,
             "ticks": ""
            },
            "colorscale": [
             [
              0,
              "#0d0887"
             ],
             [
              0.1111111111111111,
              "#46039f"
             ],
             [
              0.2222222222222222,
              "#7201a8"
             ],
             [
              0.3333333333333333,
              "#9c179e"
             ],
             [
              0.4444444444444444,
              "#bd3786"
             ],
             [
              0.5555555555555556,
              "#d8576b"
             ],
             [
              0.6666666666666666,
              "#ed7953"
             ],
             [
              0.7777777777777778,
              "#fb9f3a"
             ],
             [
              0.8888888888888888,
              "#fdca26"
             ],
             [
              1,
              "#f0f921"
             ]
            ],
            "type": "histogram2d"
           }
          ],
          "histogram2dcontour": [
           {
            "colorbar": {
             "outlinewidth": 0,
             "ticks": ""
            },
            "colorscale": [
             [
              0,
              "#0d0887"
             ],
             [
              0.1111111111111111,
              "#46039f"
             ],
             [
              0.2222222222222222,
              "#7201a8"
             ],
             [
              0.3333333333333333,
              "#9c179e"
             ],
             [
              0.4444444444444444,
              "#bd3786"
             ],
             [
              0.5555555555555556,
              "#d8576b"
             ],
             [
              0.6666666666666666,
              "#ed7953"
             ],
             [
              0.7777777777777778,
              "#fb9f3a"
             ],
             [
              0.8888888888888888,
              "#fdca26"
             ],
             [
              1,
              "#f0f921"
             ]
            ],
            "type": "histogram2dcontour"
           }
          ],
          "mesh3d": [
           {
            "colorbar": {
             "outlinewidth": 0,
             "ticks": ""
            },
            "type": "mesh3d"
           }
          ],
          "parcoords": [
           {
            "line": {
             "colorbar": {
              "outlinewidth": 0,
              "ticks": ""
             }
            },
            "type": "parcoords"
           }
          ],
          "pie": [
           {
            "automargin": true,
            "type": "pie"
           }
          ],
          "scatter": [
           {
            "fillpattern": {
             "fillmode": "overlay",
             "size": 10,
             "solidity": 0.2
            },
            "type": "scatter"
           }
          ],
          "scatter3d": [
           {
            "line": {
             "colorbar": {
              "outlinewidth": 0,
              "ticks": ""
             }
            },
            "marker": {
             "colorbar": {
              "outlinewidth": 0,
              "ticks": ""
             }
            },
            "type": "scatter3d"
           }
          ],
          "scattercarpet": [
           {
            "marker": {
             "colorbar": {
              "outlinewidth": 0,
              "ticks": ""
             }
            },
            "type": "scattercarpet"
           }
          ],
          "scattergeo": [
           {
            "marker": {
             "colorbar": {
              "outlinewidth": 0,
              "ticks": ""
             }
            },
            "type": "scattergeo"
           }
          ],
          "scattergl": [
           {
            "marker": {
             "colorbar": {
              "outlinewidth": 0,
              "ticks": ""
             }
            },
            "type": "scattergl"
           }
          ],
          "scattermapbox": [
           {
            "marker": {
             "colorbar": {
              "outlinewidth": 0,
              "ticks": ""
             }
            },
            "type": "scattermapbox"
           }
          ],
          "scatterpolar": [
           {
            "marker": {
             "colorbar": {
              "outlinewidth": 0,
              "ticks": ""
             }
            },
            "type": "scatterpolar"
           }
          ],
          "scatterpolargl": [
           {
            "marker": {
             "colorbar": {
              "outlinewidth": 0,
              "ticks": ""
             }
            },
            "type": "scatterpolargl"
           }
          ],
          "scatterternary": [
           {
            "marker": {
             "colorbar": {
              "outlinewidth": 0,
              "ticks": ""
             }
            },
            "type": "scatterternary"
           }
          ],
          "surface": [
           {
            "colorbar": {
             "outlinewidth": 0,
             "ticks": ""
            },
            "colorscale": [
             [
              0,
              "#0d0887"
             ],
             [
              0.1111111111111111,
              "#46039f"
             ],
             [
              0.2222222222222222,
              "#7201a8"
             ],
             [
              0.3333333333333333,
              "#9c179e"
             ],
             [
              0.4444444444444444,
              "#bd3786"
             ],
             [
              0.5555555555555556,
              "#d8576b"
             ],
             [
              0.6666666666666666,
              "#ed7953"
             ],
             [
              0.7777777777777778,
              "#fb9f3a"
             ],
             [
              0.8888888888888888,
              "#fdca26"
             ],
             [
              1,
              "#f0f921"
             ]
            ],
            "type": "surface"
           }
          ],
          "table": [
           {
            "cells": {
             "fill": {
              "color": "#EBF0F8"
             },
             "line": {
              "color": "white"
             }
            },
            "header": {
             "fill": {
              "color": "#C8D4E3"
             },
             "line": {
              "color": "white"
             }
            },
            "type": "table"
           }
          ]
         },
         "layout": {
          "annotationdefaults": {
           "arrowcolor": "#2a3f5f",
           "arrowhead": 0,
           "arrowwidth": 1
          },
          "autotypenumbers": "strict",
          "coloraxis": {
           "colorbar": {
            "outlinewidth": 0,
            "ticks": ""
           }
          },
          "colorscale": {
           "diverging": [
            [
             0,
             "#8e0152"
            ],
            [
             0.1,
             "#c51b7d"
            ],
            [
             0.2,
             "#de77ae"
            ],
            [
             0.3,
             "#f1b6da"
            ],
            [
             0.4,
             "#fde0ef"
            ],
            [
             0.5,
             "#f7f7f7"
            ],
            [
             0.6,
             "#e6f5d0"
            ],
            [
             0.7,
             "#b8e186"
            ],
            [
             0.8,
             "#7fbc41"
            ],
            [
             0.9,
             "#4d9221"
            ],
            [
             1,
             "#276419"
            ]
           ],
           "sequential": [
            [
             0,
             "#0d0887"
            ],
            [
             0.1111111111111111,
             "#46039f"
            ],
            [
             0.2222222222222222,
             "#7201a8"
            ],
            [
             0.3333333333333333,
             "#9c179e"
            ],
            [
             0.4444444444444444,
             "#bd3786"
            ],
            [
             0.5555555555555556,
             "#d8576b"
            ],
            [
             0.6666666666666666,
             "#ed7953"
            ],
            [
             0.7777777777777778,
             "#fb9f3a"
            ],
            [
             0.8888888888888888,
             "#fdca26"
            ],
            [
             1,
             "#f0f921"
            ]
           ],
           "sequentialminus": [
            [
             0,
             "#0d0887"
            ],
            [
             0.1111111111111111,
             "#46039f"
            ],
            [
             0.2222222222222222,
             "#7201a8"
            ],
            [
             0.3333333333333333,
             "#9c179e"
            ],
            [
             0.4444444444444444,
             "#bd3786"
            ],
            [
             0.5555555555555556,
             "#d8576b"
            ],
            [
             0.6666666666666666,
             "#ed7953"
            ],
            [
             0.7777777777777778,
             "#fb9f3a"
            ],
            [
             0.8888888888888888,
             "#fdca26"
            ],
            [
             1,
             "#f0f921"
            ]
           ]
          },
          "colorway": [
           "#636efa",
           "#EF553B",
           "#00cc96",
           "#ab63fa",
           "#FFA15A",
           "#19d3f3",
           "#FF6692",
           "#B6E880",
           "#FF97FF",
           "#FECB52"
          ],
          "font": {
           "color": "#2a3f5f"
          },
          "geo": {
           "bgcolor": "white",
           "lakecolor": "white",
           "landcolor": "#E5ECF6",
           "showlakes": true,
           "showland": true,
           "subunitcolor": "white"
          },
          "hoverlabel": {
           "align": "left"
          },
          "hovermode": "closest",
          "mapbox": {
           "style": "light"
          },
          "paper_bgcolor": "white",
          "plot_bgcolor": "#E5ECF6",
          "polar": {
           "angularaxis": {
            "gridcolor": "white",
            "linecolor": "white",
            "ticks": ""
           },
           "bgcolor": "#E5ECF6",
           "radialaxis": {
            "gridcolor": "white",
            "linecolor": "white",
            "ticks": ""
           }
          },
          "scene": {
           "xaxis": {
            "backgroundcolor": "#E5ECF6",
            "gridcolor": "white",
            "gridwidth": 2,
            "linecolor": "white",
            "showbackground": true,
            "ticks": "",
            "zerolinecolor": "white"
           },
           "yaxis": {
            "backgroundcolor": "#E5ECF6",
            "gridcolor": "white",
            "gridwidth": 2,
            "linecolor": "white",
            "showbackground": true,
            "ticks": "",
            "zerolinecolor": "white"
           },
           "zaxis": {
            "backgroundcolor": "#E5ECF6",
            "gridcolor": "white",
            "gridwidth": 2,
            "linecolor": "white",
            "showbackground": true,
            "ticks": "",
            "zerolinecolor": "white"
           }
          },
          "shapedefaults": {
           "line": {
            "color": "#2a3f5f"
           }
          },
          "ternary": {
           "aaxis": {
            "gridcolor": "white",
            "linecolor": "white",
            "ticks": ""
           },
           "baxis": {
            "gridcolor": "white",
            "linecolor": "white",
            "ticks": ""
           },
           "bgcolor": "#E5ECF6",
           "caxis": {
            "gridcolor": "white",
            "linecolor": "white",
            "ticks": ""
           }
          },
          "title": {
           "x": 0.05
          },
          "xaxis": {
           "automargin": true,
           "gridcolor": "white",
           "linecolor": "white",
           "ticks": "",
           "title": {
            "standoff": 15
           },
           "zerolinecolor": "white",
           "zerolinewidth": 2
          },
          "yaxis": {
           "automargin": true,
           "gridcolor": "white",
           "linecolor": "white",
           "ticks": "",
           "title": {
            "standoff": 15
           },
           "zerolinecolor": "white",
           "zerolinewidth": 2
          }
         }
        },
        "title": {
         "text": "min_mae vs. Height"
        },
        "xaxis": {
         "anchor": "y",
         "domain": [
          0,
          1
         ],
         "title": {
          "text": "Height_mm"
         }
        },
        "yaxis": {
         "anchor": "x",
         "domain": [
          0,
          1
         ],
         "title": {
          "text": "min_mae"
         }
        }
       }
      }
     },
     "metadata": {},
     "output_type": "display_data"
    }
   ],
   "source": [
    "fig = px.scatter(df, x='Height_mm', y='min_mae', hover_data=['Label', 'PrawnID'])\n",
    "#add title\n",
    "fig.update_layout(title='min_mae vs. Height')\n",
    "\n",
    "#save the plot to png\n",
    "fig.write_image('full body_ min_mae vs. Height.png')\n",
    "# Add a trendline\n",
    "fig.show()"
   ]
  },
  {
   "cell_type": "code",
   "execution_count": 15,
   "metadata": {},
   "outputs": [
    {
     "data": {
      "application/vnd.plotly.v1+json": {
       "config": {
        "plotlyServerURL": "https://plot.ly"
       },
       "data": [
        {
         "customdata": [
          [
           "full body:undistorted_GX010077_14_237.jpg_gamma",
           "Prawn_0"
          ],
          [
           "full body:undistorted_GX010077_14_237.jpg_gamma",
           "Prawn_1"
          ],
          [
           "full body:undistorted_GX010077_14_237.jpg_gamma",
           "Prawn_2"
          ],
          [
           "full body:undistorted_GX010067_33_625.jpg_gamma",
           "Prawn_0"
          ],
          [
           "full body:undistorted_GX010067_33_625.jpg_gamma",
           "Prawn_1"
          ],
          [
           "full body:undistorted_GX010067_33_625.jpg_gamma",
           "Prawn_2"
          ],
          [
           "full body:undistorted_GX010067_33_625.jpg_gamma",
           "Prawn_3"
          ],
          [
           "full body:undistorted_GX010068_26_666.jpg_gamma",
           "Prawn_0"
          ],
          [
           "full body:undistorted_GX010068_26_666.jpg_gamma",
           "Prawn_1"
          ],
          [
           "full body:undistorted_GX010068_26_666.jpg_gamma",
           "Prawn_2"
          ],
          [
           "full body:undistorted_GX010068_27_795.jpg_gamma",
           "Prawn_0"
          ],
          [
           "full body:undistorted_GX010068_27_795.jpg_gamma",
           "Prawn_1"
          ],
          [
           "full body:undistorted_GX010069_19_191.jpg_gamma",
           "Prawn_0"
          ],
          [
           "full body:undistorted_GX010069_19_191.jpg_gamma",
           "Prawn_1"
          ],
          [
           "full body:undistorted_GX010069_19_191.jpg_gamma",
           "Prawn_2"
          ],
          [
           "full body:undistorted_GX010069_19_191.jpg_gamma",
           "Prawn_3"
          ],
          [
           "full body:undistorted_GX010071_22_444.jpg_gamma",
           "Prawn_0"
          ],
          [
           "full body:undistorted_GX010071_22_444.jpg_gamma",
           "Prawn_1"
          ],
          [
           "full body:undistorted_GX010073_42_695.jpg_gamma",
           "Prawn_0"
          ],
          [
           "full body:undistorted_GX010073_42_695.jpg_gamma",
           "Prawn_1"
          ],
          [
           "full body:undistorted_GX010073_42_695.jpg_gamma",
           "Prawn_2"
          ],
          [
           "full body:undistorted_GX010073_55_1014.jpg_gamma",
           "Prawn_0"
          ],
          [
           "full body:undistorted_GX010073_55_1014.jpg_gamma",
           "Prawn_1"
          ],
          [
           "full body:undistorted_GX010073_55_1014.jpg_gamma",
           "Prawn_2"
          ],
          [
           "full body:undistorted_GX010080_157_2283.jpg_gamma",
           "Prawn_0"
          ],
          [
           "full body:undistorted_GX010080_157_2283.jpg_gamma",
           "Prawn_2"
          ],
          [
           "full body:undistorted_GX010080_157_2283.jpg_gamma",
           "Prawn_3"
          ],
          [
           "full body:undistorted_GX010080_193_2640.jpg_gamma",
           "Prawn_0"
          ],
          [
           "full body:undistorted_GX010080_193_2640.jpg_gamma",
           "Prawn_1"
          ],
          [
           "full body:undistorted_GX010080_193_2640.jpg_gamma",
           "Prawn_2"
          ],
          [
           "full body:undistorted_GX010080_193_2640.jpg_gamma",
           "Prawn_3"
          ],
          [
           "full body:undistorted_GX010080_193_2640.jpg_gamma",
           "Prawn_4"
          ],
          [
           "full body:undistorted_GX010080_212_2954.jpg_gamma",
           "Prawn_0"
          ],
          [
           "full body:undistorted_GX010080_212_2954.jpg_gamma",
           "Prawn_1"
          ],
          [
           "full body:undistorted_GX010080_212_2954.jpg_gamma",
           "Prawn_2"
          ],
          [
           "full body:undistorted_GX010080_237_3366.jpg_gamma",
           "Prawn_0"
          ],
          [
           "full body:undistorted_GX010080_237_3366.jpg_gamma",
           "Prawn_1"
          ],
          [
           "full body:undistorted_GX010080_237_3366.jpg_gamma",
           "Prawn_2"
          ],
          [
           "full body:undistorted_GX010080_237_3366.jpg_gamma",
           "Prawn_3"
          ],
          [
           "full body:undistorted_GX010080_237_3366.jpg_gamma",
           "Prawn_4"
          ],
          [
           "full body:undistorted_GX010080_238_3392.jpg_gamma",
           "Prawn_0"
          ],
          [
           "full body:undistorted_GX010080_238_3392.jpg_gamma",
           "Prawn_1"
          ],
          [
           "full body:undistorted_GX010080_238_3392.jpg_gamma",
           "Prawn_2"
          ],
          [
           "full body:undistorted_GX010080_238_3392.jpg_gamma",
           "Prawn_3"
          ],
          [
           "full body:undistorted_GX010082_8_59.jpg_gamma",
           "Prawn_1"
          ],
          [
           "full body:undistorted_GX010082_8_59.jpg_gamma",
           "Prawn_2"
          ],
          [
           "full body:undistorted_GX010082_8_59.jpg_gamma",
           "Prawn_3"
          ],
          [
           "full body:undistorted_GX010082_8_59.jpg_gamma",
           "Prawn_4"
          ],
          [
           "full body:undistorted_GX010082_53_796.jpg_gamma",
           "Prawn_0"
          ],
          [
           "full body:undistorted_GX010082_53_796.jpg_gamma",
           "Prawn_1"
          ],
          [
           "full body:undistorted_GX010082_65_1070.jpg_gamma",
           "Prawn_0"
          ],
          [
           "full body:undistorted_GX010082_65_1070.jpg_gamma",
           "Prawn_1"
          ],
          [
           "full body:undistorted_GX010082_65_1070.jpg_gamma",
           "Prawn_2"
          ],
          [
           "full body:undistorted_GX010082_236_3137.jpg_gamma",
           "Prawn_0"
          ],
          [
           "full body:undistorted_GX010082_236_3137.jpg_gamma",
           "Prawn_1"
          ],
          [
           "full body:undistorted_GX010082_236_3137.jpg_gamma",
           "Prawn_2"
          ],
          [
           "full body:undistorted_GX010084_30_344.jpg_gamma",
           "Prawn_0"
          ],
          [
           "full body:undistorted_GX010084_30_344.jpg_gamma",
           "Prawn_1"
          ],
          [
           "full body:undistorted_GX010084_30_344.jpg_gamma",
           "Prawn_2"
          ],
          [
           "full body:undistorted_GX010084_30_344.jpg_gamma",
           "Prawn_3"
          ],
          [
           "full body:undistorted_GX010084_130_1748.jpg_gamma",
           "Prawn_0"
          ],
          [
           "full body:undistorted_GX010084_130_1748.jpg_gamma",
           "Prawn_1"
          ],
          [
           "full body:undistorted_GX010084_130_1748.jpg_gamma",
           "Prawn_2"
          ],
          [
           "full body:undistorted_GX010085_261_3610.jpg_gamma",
           "Prawn_0"
          ],
          [
           "full body:undistorted_GX010085_261_3610.jpg_gamma",
           "Prawn_1"
          ],
          [
           "full body:undistorted_GX010088_209_2904.jpg_gamma",
           "Prawn_0"
          ],
          [
           "full body:undistorted_GX010088_209_2904.jpg_gamma",
           "Prawn_1"
          ],
          [
           "full body:undistorted_GX010088_262_3712.jpg_gamma",
           "Prawn_0"
          ],
          [
           "full body:undistorted_GX010088_262_3712.jpg_gamma",
           "Prawn_1"
          ],
          [
           "full body:undistorted_GX010088_262_3712.jpg_gamma",
           "Prawn_2"
          ],
          [
           "full body:undistorted_GX010088_327_4364.jpg_gamma",
           "Prawn_0"
          ],
          [
           "full body:undistorted_GX010088_327_4364.jpg_gamma",
           "Prawn_1"
          ],
          [
           "full body:undistorted_GX010088_327_4364.jpg_gamma",
           "Prawn_2"
          ],
          [
           "full body:undistorted_GX010088_327_4364.jpg_gamma",
           "Prawn_3"
          ],
          [
           "full body:undistorted_GX010089_11_236.jpg_gamma",
           "Prawn_0"
          ],
          [
           "full body:undistorted_GX010089_11_236.jpg_gamma",
           "Prawn_1"
          ],
          [
           "full body:undistorted_GX010089_11_236.jpg_gamma",
           "Prawn_2"
          ],
          [
           "full body:undistorted_GX010089_11_236.jpg_gamma",
           "Prawn_3"
          ],
          [
           "full body:undistorted_GX010090_132_1852.jpg_gamma",
           "Prawn_0"
          ],
          [
           "full body:undistorted_GX010091_5_149.jpg_gamma",
           "Prawn_0"
          ],
          [
           "full body:undistorted_GX010091_5_149.jpg_gamma",
           "Prawn_1"
          ],
          [
           "full body:undistorted_GX010091_5_149.jpg_gamma",
           "Prawn_2"
          ],
          [
           "full body:undistorted_GX010094_9_129.jpg_gamma",
           "Prawn_0"
          ],
          [
           "full body:undistorted_GX010094_9_129.jpg_gamma",
           "Prawn_1"
          ],
          [
           "full body:undistorted_GX010094_24_430.jpg_gamma",
           "Prawn_0"
          ],
          [
           "full body:undistorted_GX010094_93_1258.jpg_gamma",
           "Prawn_0"
          ],
          [
           "full body:undistorted_GX010094_163_2312.jpg_gamma",
           "Prawn_0"
          ],
          [
           "full body:undistorted_GX010097_32_528.jpg_gamma",
           "Prawn_0"
          ],
          [
           "full body:undistorted_GX010097_32_528.jpg_gamma",
           "Prawn_1"
          ],
          [
           "full body:undistorted_GX010097_60_1080.jpg_gamma",
           "Prawn_0"
          ],
          [
           "full body:undistorted_GX010097_60_1080.jpg_gamma",
           "Prawn_1"
          ],
          [
           "full body:undistorted_GX010097_60_1080.jpg_gamma",
           "Prawn_2"
          ],
          [
           "full body:undistorted_GX010097_60_1080.jpg_gamma",
           "Prawn_3"
          ],
          [
           "full body:undistorted_GX010097_105_1651.jpg_gamma",
           "Prawn_0"
          ],
          [
           "full body:undistorted_GX010097_105_1651.jpg_gamma",
           "Prawn_1"
          ],
          [
           "full body:undistorted_GX010097_105_1651.jpg_gamma",
           "Prawn_2"
          ],
          [
           "full body:undistorted_GX010097_105_1651.jpg_gamma",
           "Prawn_3"
          ],
          [
           "full body:undistorted_GX010097_124_1870.jpg_gamma",
           "Prawn_0"
          ],
          [
           "full body:undistorted_GX010097_124_1870.jpg_gamma",
           "Prawn_1"
          ],
          [
           "full body:undistorted_GX010101_12_173.jpg_gamma",
           "Prawn_0"
          ],
          [
           "full body:undistorted_GX010102_9_165.jpg_gamma",
           "Prawn_1"
          ],
          [
           "full body:undistorted_GX010102_9_165.jpg_gamma",
           "Prawn_2"
          ],
          [
           "full body:undistorted_GX010102_9_165.jpg_gamma",
           "Prawn_3"
          ],
          [
           "full body:undistorted_GX010102_9_165.jpg_gamma",
           "Prawn_4"
          ],
          [
           "full body:undistorted_GX010102_9_165.jpg_gamma",
           "Prawn_5"
          ],
          [
           "full body:undistorted_GX010102_50_1396.jpg_gamma",
           "Prawn_0"
          ],
          [
           "full body:undistorted_GX010105_28_816.jpg_gamma",
           "Prawn_0"
          ],
          [
           "full body:undistorted_GX010105_28_816.jpg_gamma",
           "Prawn_1"
          ],
          [
           "full body:undistorted_GX010152_36_378.jpg_gamma",
           "Prawn_0"
          ],
          [
           "full body:undistorted_GX010152_36_378.jpg_gamma",
           "Prawn_1"
          ],
          [
           "full body:undistorted_GX010157_160_2259",
           "Prawn_0"
          ],
          [
           "full body:undistorted_GX010157_174_2582.jpg_gamma",
           "Prawn_0"
          ],
          [
           "full body:undistorted_GX010157_177_2665.jpg_gamma",
           "Prawn_0"
          ],
          [
           "full body:undistorted_GX010161_54_676.jpg_gamma.jpg_gamma",
           "Prawn_0"
          ],
          [
           "full body:undistorted_GX010162_72_927.jpg_gamma.jpg_gamma",
           "Prawn_0"
          ],
          [
           "full body:undistorted_GX010174_62_790.jpg_gamma",
           "Prawn_0"
          ],
          [
           "full body:undistorted_GX010175_266_3372.jpg_gamma.jpg_gamma",
           "Prawn_0"
          ],
          [
           "full body:undistorted_GX010177_232_3047",
           "Prawn_0"
          ],
          [
           "full body:undistorted_GX010178_172_3604.jpg_gamma",
           "Prawn_0"
          ],
          [
           "full body:undistorted_GX010183_37_685.jpg_gamma",
           "Prawn_0"
          ],
          [
           "full body:undistorted_GX010183_80_1633.jpg_gamma",
           "Prawn_0"
          ],
          [
           "full body:undistorted_GX010183_128_2852.jpg_gamma",
           "Prawn_0"
          ]
         ],
         "hovertemplate": "Height_mm=%{x}<br>overestimation=%{y}<br>Label=%{customdata[0]}<br>PrawnID=%{customdata[1]}<extra></extra>",
         "legendgroup": "",
         "marker": {
          "color": "#636efa",
          "symbol": "circle"
         },
         "mode": "markers",
         "name": "",
         "orientation": "v",
         "showlegend": false,
         "type": "scatter",
         "x": [
          650,
          650,
          650,
          650,
          650,
          650,
          650,
          650,
          650,
          650,
          650,
          650,
          650,
          650,
          650,
          650,
          650,
          650,
          650,
          650,
          650,
          650,
          650,
          650,
          650,
          650,
          650,
          650,
          650,
          650,
          650,
          650,
          650,
          650,
          650,
          650,
          650,
          650,
          650,
          650,
          650,
          650,
          650,
          650,
          650,
          650,
          650,
          650,
          650,
          650,
          650,
          650,
          650,
          650,
          650,
          650,
          650,
          650,
          650,
          650,
          650,
          650,
          650,
          650,
          650,
          650,
          650,
          650,
          650,
          650,
          650,
          650,
          650,
          650,
          700,
          700,
          700,
          700,
          650,
          700,
          700,
          700,
          650,
          650,
          650,
          650,
          650,
          650,
          650,
          650,
          650,
          650,
          650,
          650,
          650,
          650,
          650,
          650,
          650,
          650,
          760,
          760,
          760,
          760,
          760,
          760,
          760,
          760,
          415,
          415,
          415,
          415,
          415,
          400,
          400,
          370,
          385,
          385,
          455,
          455,
          455,
          455
         ],
         "xaxis": "x",
         "y": [
          4.731451607420922,
          10.760056218787,
          1.7756445478630098,
          9.115406852968079,
          -9.085206411392946,
          3.5278226755047797,
          8.8224477638217,
          12.545963001694687,
          16.31505110771731,
          8.96639062831261,
          4.610948833937016,
          -2.6198685673358,
          -3.0528763041410087,
          14.197675426651003,
          15.755242938552911,
          14.152853806699909,
          12.404993196638202,
          -5.669813357885204,
          17.214559146892796,
          4.551944784594582,
          -3.684981306676491,
          5.55456187554249,
          6.878248168471998,
          20.520757476980506,
          32.643744056214715,
          31.003234146030493,
          27.67900841073201,
          21.896869343184406,
          14.366961316968798,
          21.184411425048296,
          8.922521007331497,
          24.616618746002302,
          23.334047400828084,
          11.390733741816604,
          -8.5182313646051,
          12.817308671649101,
          20.164893532784617,
          14.556041864880797,
          6.05433548834759,
          3.1603401531997974,
          13.817415068866183,
          21.36396216254471,
          9.383055686515902,
          15.016455290056399,
          -13.231952540973822,
          -1.6034378667595206,
          3.728410522143207,
          11.615380098402895,
          -5.544599949615673,
          -14.167178634847204,
          19.10065251434081,
          37.06832167606211,
          17.781315268121602,
          18.18529362354461,
          30.155910935398794,
          -6.6390569257847005,
          8.535333986370503,
          6.703090000091606,
          2.0902115911703163,
          12.404183118185387,
          -4.407592832592712,
          -14.762338435160714,
          -0.7753151094986777,
          19.543211767672375,
          2.69637217645041,
          11.242018503828703,
          4.545966809780992,
          -2.5275462904065193,
          -9.968646184410602,
          -9.677604159000595,
          -11.45498314781841,
          -11.223269942072392,
          -6.286359230620505,
          -12.640332906722307,
          24.389757111626096,
          17.087130975932467,
          21.47069998942331,
          -9.312125396106929,
          11.677259616763621,
          18.472460689113007,
          14.875102421548306,
          37.388065164327756,
          11.907110010516291,
          14.436382932580614,
          11.201355807905685,
          -0.13184518176309723,
          14.860986751650202,
          12.992207820909996,
          63.53548642613649,
          19.132127918199217,
          13.058572520135101,
          36.0105439656071,
          2.5818523916458105,
          42.88860399861798,
          15.979800448865205,
          28.509747883769407,
          43.65236606989079,
          27.456763400402096,
          13.6150627797077,
          2.9992581596989965,
          21.801096895985793,
          49.153712099337696,
          37.455712099337696,
          20.658965237656005,
          18.34599538573427,
          20.878955449627313,
          15.466067883903655,
          23.974345836445593,
          -17.691697769087796,
          -7.3865878076202875,
          -11.690276930490313,
          -11.095496849028095,
          -0.775768650412914,
          5.998012830541398,
          -9.773771158544506,
          1.008652192411688,
          -0.24328713610609043,
          -23.925581000132297,
          -26.888139502268302,
          -2.766829961081882,
          3.061333522325583,
          -14.451333157032309
         ],
         "yaxis": "y"
        }
       ],
       "layout": {
        "legend": {
         "tracegroupgap": 0
        },
        "margin": {
         "t": 60
        },
        "template": {
         "data": {
          "bar": [
           {
            "error_x": {
             "color": "#2a3f5f"
            },
            "error_y": {
             "color": "#2a3f5f"
            },
            "marker": {
             "line": {
              "color": "#E5ECF6",
              "width": 0.5
             },
             "pattern": {
              "fillmode": "overlay",
              "size": 10,
              "solidity": 0.2
             }
            },
            "type": "bar"
           }
          ],
          "barpolar": [
           {
            "marker": {
             "line": {
              "color": "#E5ECF6",
              "width": 0.5
             },
             "pattern": {
              "fillmode": "overlay",
              "size": 10,
              "solidity": 0.2
             }
            },
            "type": "barpolar"
           }
          ],
          "carpet": [
           {
            "aaxis": {
             "endlinecolor": "#2a3f5f",
             "gridcolor": "white",
             "linecolor": "white",
             "minorgridcolor": "white",
             "startlinecolor": "#2a3f5f"
            },
            "baxis": {
             "endlinecolor": "#2a3f5f",
             "gridcolor": "white",
             "linecolor": "white",
             "minorgridcolor": "white",
             "startlinecolor": "#2a3f5f"
            },
            "type": "carpet"
           }
          ],
          "choropleth": [
           {
            "colorbar": {
             "outlinewidth": 0,
             "ticks": ""
            },
            "type": "choropleth"
           }
          ],
          "contour": [
           {
            "colorbar": {
             "outlinewidth": 0,
             "ticks": ""
            },
            "colorscale": [
             [
              0,
              "#0d0887"
             ],
             [
              0.1111111111111111,
              "#46039f"
             ],
             [
              0.2222222222222222,
              "#7201a8"
             ],
             [
              0.3333333333333333,
              "#9c179e"
             ],
             [
              0.4444444444444444,
              "#bd3786"
             ],
             [
              0.5555555555555556,
              "#d8576b"
             ],
             [
              0.6666666666666666,
              "#ed7953"
             ],
             [
              0.7777777777777778,
              "#fb9f3a"
             ],
             [
              0.8888888888888888,
              "#fdca26"
             ],
             [
              1,
              "#f0f921"
             ]
            ],
            "type": "contour"
           }
          ],
          "contourcarpet": [
           {
            "colorbar": {
             "outlinewidth": 0,
             "ticks": ""
            },
            "type": "contourcarpet"
           }
          ],
          "heatmap": [
           {
            "colorbar": {
             "outlinewidth": 0,
             "ticks": ""
            },
            "colorscale": [
             [
              0,
              "#0d0887"
             ],
             [
              0.1111111111111111,
              "#46039f"
             ],
             [
              0.2222222222222222,
              "#7201a8"
             ],
             [
              0.3333333333333333,
              "#9c179e"
             ],
             [
              0.4444444444444444,
              "#bd3786"
             ],
             [
              0.5555555555555556,
              "#d8576b"
             ],
             [
              0.6666666666666666,
              "#ed7953"
             ],
             [
              0.7777777777777778,
              "#fb9f3a"
             ],
             [
              0.8888888888888888,
              "#fdca26"
             ],
             [
              1,
              "#f0f921"
             ]
            ],
            "type": "heatmap"
           }
          ],
          "heatmapgl": [
           {
            "colorbar": {
             "outlinewidth": 0,
             "ticks": ""
            },
            "colorscale": [
             [
              0,
              "#0d0887"
             ],
             [
              0.1111111111111111,
              "#46039f"
             ],
             [
              0.2222222222222222,
              "#7201a8"
             ],
             [
              0.3333333333333333,
              "#9c179e"
             ],
             [
              0.4444444444444444,
              "#bd3786"
             ],
             [
              0.5555555555555556,
              "#d8576b"
             ],
             [
              0.6666666666666666,
              "#ed7953"
             ],
             [
              0.7777777777777778,
              "#fb9f3a"
             ],
             [
              0.8888888888888888,
              "#fdca26"
             ],
             [
              1,
              "#f0f921"
             ]
            ],
            "type": "heatmapgl"
           }
          ],
          "histogram": [
           {
            "marker": {
             "pattern": {
              "fillmode": "overlay",
              "size": 10,
              "solidity": 0.2
             }
            },
            "type": "histogram"
           }
          ],
          "histogram2d": [
           {
            "colorbar": {
             "outlinewidth": 0,
             "ticks": ""
            },
            "colorscale": [
             [
              0,
              "#0d0887"
             ],
             [
              0.1111111111111111,
              "#46039f"
             ],
             [
              0.2222222222222222,
              "#7201a8"
             ],
             [
              0.3333333333333333,
              "#9c179e"
             ],
             [
              0.4444444444444444,
              "#bd3786"
             ],
             [
              0.5555555555555556,
              "#d8576b"
             ],
             [
              0.6666666666666666,
              "#ed7953"
             ],
             [
              0.7777777777777778,
              "#fb9f3a"
             ],
             [
              0.8888888888888888,
              "#fdca26"
             ],
             [
              1,
              "#f0f921"
             ]
            ],
            "type": "histogram2d"
           }
          ],
          "histogram2dcontour": [
           {
            "colorbar": {
             "outlinewidth": 0,
             "ticks": ""
            },
            "colorscale": [
             [
              0,
              "#0d0887"
             ],
             [
              0.1111111111111111,
              "#46039f"
             ],
             [
              0.2222222222222222,
              "#7201a8"
             ],
             [
              0.3333333333333333,
              "#9c179e"
             ],
             [
              0.4444444444444444,
              "#bd3786"
             ],
             [
              0.5555555555555556,
              "#d8576b"
             ],
             [
              0.6666666666666666,
              "#ed7953"
             ],
             [
              0.7777777777777778,
              "#fb9f3a"
             ],
             [
              0.8888888888888888,
              "#fdca26"
             ],
             [
              1,
              "#f0f921"
             ]
            ],
            "type": "histogram2dcontour"
           }
          ],
          "mesh3d": [
           {
            "colorbar": {
             "outlinewidth": 0,
             "ticks": ""
            },
            "type": "mesh3d"
           }
          ],
          "parcoords": [
           {
            "line": {
             "colorbar": {
              "outlinewidth": 0,
              "ticks": ""
             }
            },
            "type": "parcoords"
           }
          ],
          "pie": [
           {
            "automargin": true,
            "type": "pie"
           }
          ],
          "scatter": [
           {
            "fillpattern": {
             "fillmode": "overlay",
             "size": 10,
             "solidity": 0.2
            },
            "type": "scatter"
           }
          ],
          "scatter3d": [
           {
            "line": {
             "colorbar": {
              "outlinewidth": 0,
              "ticks": ""
             }
            },
            "marker": {
             "colorbar": {
              "outlinewidth": 0,
              "ticks": ""
             }
            },
            "type": "scatter3d"
           }
          ],
          "scattercarpet": [
           {
            "marker": {
             "colorbar": {
              "outlinewidth": 0,
              "ticks": ""
             }
            },
            "type": "scattercarpet"
           }
          ],
          "scattergeo": [
           {
            "marker": {
             "colorbar": {
              "outlinewidth": 0,
              "ticks": ""
             }
            },
            "type": "scattergeo"
           }
          ],
          "scattergl": [
           {
            "marker": {
             "colorbar": {
              "outlinewidth": 0,
              "ticks": ""
             }
            },
            "type": "scattergl"
           }
          ],
          "scattermapbox": [
           {
            "marker": {
             "colorbar": {
              "outlinewidth": 0,
              "ticks": ""
             }
            },
            "type": "scattermapbox"
           }
          ],
          "scatterpolar": [
           {
            "marker": {
             "colorbar": {
              "outlinewidth": 0,
              "ticks": ""
             }
            },
            "type": "scatterpolar"
           }
          ],
          "scatterpolargl": [
           {
            "marker": {
             "colorbar": {
              "outlinewidth": 0,
              "ticks": ""
             }
            },
            "type": "scatterpolargl"
           }
          ],
          "scatterternary": [
           {
            "marker": {
             "colorbar": {
              "outlinewidth": 0,
              "ticks": ""
             }
            },
            "type": "scatterternary"
           }
          ],
          "surface": [
           {
            "colorbar": {
             "outlinewidth": 0,
             "ticks": ""
            },
            "colorscale": [
             [
              0,
              "#0d0887"
             ],
             [
              0.1111111111111111,
              "#46039f"
             ],
             [
              0.2222222222222222,
              "#7201a8"
             ],
             [
              0.3333333333333333,
              "#9c179e"
             ],
             [
              0.4444444444444444,
              "#bd3786"
             ],
             [
              0.5555555555555556,
              "#d8576b"
             ],
             [
              0.6666666666666666,
              "#ed7953"
             ],
             [
              0.7777777777777778,
              "#fb9f3a"
             ],
             [
              0.8888888888888888,
              "#fdca26"
             ],
             [
              1,
              "#f0f921"
             ]
            ],
            "type": "surface"
           }
          ],
          "table": [
           {
            "cells": {
             "fill": {
              "color": "#EBF0F8"
             },
             "line": {
              "color": "white"
             }
            },
            "header": {
             "fill": {
              "color": "#C8D4E3"
             },
             "line": {
              "color": "white"
             }
            },
            "type": "table"
           }
          ]
         },
         "layout": {
          "annotationdefaults": {
           "arrowcolor": "#2a3f5f",
           "arrowhead": 0,
           "arrowwidth": 1
          },
          "autotypenumbers": "strict",
          "coloraxis": {
           "colorbar": {
            "outlinewidth": 0,
            "ticks": ""
           }
          },
          "colorscale": {
           "diverging": [
            [
             0,
             "#8e0152"
            ],
            [
             0.1,
             "#c51b7d"
            ],
            [
             0.2,
             "#de77ae"
            ],
            [
             0.3,
             "#f1b6da"
            ],
            [
             0.4,
             "#fde0ef"
            ],
            [
             0.5,
             "#f7f7f7"
            ],
            [
             0.6,
             "#e6f5d0"
            ],
            [
             0.7,
             "#b8e186"
            ],
            [
             0.8,
             "#7fbc41"
            ],
            [
             0.9,
             "#4d9221"
            ],
            [
             1,
             "#276419"
            ]
           ],
           "sequential": [
            [
             0,
             "#0d0887"
            ],
            [
             0.1111111111111111,
             "#46039f"
            ],
            [
             0.2222222222222222,
             "#7201a8"
            ],
            [
             0.3333333333333333,
             "#9c179e"
            ],
            [
             0.4444444444444444,
             "#bd3786"
            ],
            [
             0.5555555555555556,
             "#d8576b"
            ],
            [
             0.6666666666666666,
             "#ed7953"
            ],
            [
             0.7777777777777778,
             "#fb9f3a"
            ],
            [
             0.8888888888888888,
             "#fdca26"
            ],
            [
             1,
             "#f0f921"
            ]
           ],
           "sequentialminus": [
            [
             0,
             "#0d0887"
            ],
            [
             0.1111111111111111,
             "#46039f"
            ],
            [
             0.2222222222222222,
             "#7201a8"
            ],
            [
             0.3333333333333333,
             "#9c179e"
            ],
            [
             0.4444444444444444,
             "#bd3786"
            ],
            [
             0.5555555555555556,
             "#d8576b"
            ],
            [
             0.6666666666666666,
             "#ed7953"
            ],
            [
             0.7777777777777778,
             "#fb9f3a"
            ],
            [
             0.8888888888888888,
             "#fdca26"
            ],
            [
             1,
             "#f0f921"
            ]
           ]
          },
          "colorway": [
           "#636efa",
           "#EF553B",
           "#00cc96",
           "#ab63fa",
           "#FFA15A",
           "#19d3f3",
           "#FF6692",
           "#B6E880",
           "#FF97FF",
           "#FECB52"
          ],
          "font": {
           "color": "#2a3f5f"
          },
          "geo": {
           "bgcolor": "white",
           "lakecolor": "white",
           "landcolor": "#E5ECF6",
           "showlakes": true,
           "showland": true,
           "subunitcolor": "white"
          },
          "hoverlabel": {
           "align": "left"
          },
          "hovermode": "closest",
          "mapbox": {
           "style": "light"
          },
          "paper_bgcolor": "white",
          "plot_bgcolor": "#E5ECF6",
          "polar": {
           "angularaxis": {
            "gridcolor": "white",
            "linecolor": "white",
            "ticks": ""
           },
           "bgcolor": "#E5ECF6",
           "radialaxis": {
            "gridcolor": "white",
            "linecolor": "white",
            "ticks": ""
           }
          },
          "scene": {
           "xaxis": {
            "backgroundcolor": "#E5ECF6",
            "gridcolor": "white",
            "gridwidth": 2,
            "linecolor": "white",
            "showbackground": true,
            "ticks": "",
            "zerolinecolor": "white"
           },
           "yaxis": {
            "backgroundcolor": "#E5ECF6",
            "gridcolor": "white",
            "gridwidth": 2,
            "linecolor": "white",
            "showbackground": true,
            "ticks": "",
            "zerolinecolor": "white"
           },
           "zaxis": {
            "backgroundcolor": "#E5ECF6",
            "gridcolor": "white",
            "gridwidth": 2,
            "linecolor": "white",
            "showbackground": true,
            "ticks": "",
            "zerolinecolor": "white"
           }
          },
          "shapedefaults": {
           "line": {
            "color": "#2a3f5f"
           }
          },
          "ternary": {
           "aaxis": {
            "gridcolor": "white",
            "linecolor": "white",
            "ticks": ""
           },
           "baxis": {
            "gridcolor": "white",
            "linecolor": "white",
            "ticks": ""
           },
           "bgcolor": "#E5ECF6",
           "caxis": {
            "gridcolor": "white",
            "linecolor": "white",
            "ticks": ""
           }
          },
          "title": {
           "x": 0.05
          },
          "xaxis": {
           "automargin": true,
           "gridcolor": "white",
           "linecolor": "white",
           "ticks": "",
           "title": {
            "standoff": 15
           },
           "zerolinecolor": "white",
           "zerolinewidth": 2
          },
          "yaxis": {
           "automargin": true,
           "gridcolor": "white",
           "linecolor": "white",
           "ticks": "",
           "title": {
            "standoff": 15
           },
           "zerolinecolor": "white",
           "zerolinewidth": 2
          }
         }
        },
        "title": {
         "text": "overestimation vs. Height"
        },
        "xaxis": {
         "anchor": "y",
         "domain": [
          0,
          1
         ],
         "title": {
          "text": "Height_mm"
         }
        },
        "yaxis": {
         "anchor": "x",
         "domain": [
          0,
          1
         ],
         "title": {
          "text": "overestimation"
         }
        }
       }
      }
     },
     "metadata": {},
     "output_type": "display_data"
    }
   ],
   "source": [
    "# a graph showing overestimation and underestimation of the length of the prawn\n",
    "df['overestimation'] = df['Length_FOV_box'] - df['expert_max']\n",
    "#show the overestimation of the length of the prawn\n",
    "fig = px.scatter(df, x='Height_mm', y='overestimation', hover_data=['Label', 'PrawnID'])\n",
    "#add title\n",
    "fig.update_layout(title='overestimation vs. Height')\n",
    "\n",
    "#save the plot to png\n",
    "fig.write_image('full body_ overestimation vs. Height.png')\n",
    "# Add a trendline\n",
    "fig.show()\n",
    "\n"
   ]
  },
  {
   "cell_type": "code",
   "execution_count": 23,
   "metadata": {},
   "outputs": [
    {
     "data": {
      "text/plain": [
       "PondType\n",
       "circular-big      33\n",
       "circular-small     5\n",
       "square-female     13\n",
       "Name: Label, dtype: int64"
      ]
     },
     "execution_count": 23,
     "metadata": {},
     "output_type": "execute_result"
    }
   ],
   "source": [
    "#groupby pond type unique label\n",
    "df.groupby('PondType')['Label'].nunique()"
   ]
  },
  {
   "cell_type": "code",
   "execution_count": 11,
   "metadata": {},
   "outputs": [
    {
     "data": {
      "application/vnd.plotly.v1+json": {
       "config": {
        "plotlyServerURL": "https://plot.ly"
       },
       "data": [
        {
         "alignmentgroup": "True",
         "bingroup": "x",
         "hovertemplate": "overestimation=%{x}<br>count=%{y}<extra></extra>",
         "legendgroup": "",
         "marker": {
          "color": "#636efa",
          "pattern": {
           "shape": ""
          }
         },
         "name": "",
         "nbinsx": 30,
         "offsetgroup": "",
         "orientation": "v",
         "showlegend": false,
         "type": "histogram",
         "x": [
          4.731451607420922,
          10.760056218787,
          1.7756445478630098,
          9.115406852968079,
          1.0467935886070592,
          3.5278226755047797,
          8.8224477638217,
          12.545963001694687,
          16.31505110771731,
          8.96639062831261,
          4.610948833937016,
          1.8291314326641839,
          -0.9058763041410032,
          14.197675426651003,
          15.755242938552911,
          14.152853806699909,
          12.404993196638202,
          1.3751866421148122,
          17.214559146892796,
          4.551944784594582,
          -3.684981306676491,
          5.55456187554249,
          6.878248168471998,
          20.520757476980506,
          32.643744056214715,
          31.003234146030493,
          27.67900841073201,
          21.896869343184406,
          14.366961316968798,
          21.184411425048296,
          8.922521007331497,
          24.616618746002302,
          23.334047400828084,
          11.390733741816604,
          -3.0502313646050823,
          12.817308671649101,
          20.164893532784617,
          14.556041864880797,
          6.05433548834759,
          3.1603401531997974,
          13.817415068866183,
          21.36396216254471,
          9.383055686515902,
          15.016455290056399,
          -2.2729525409738187,
          -1.6034378667595206,
          3.728410522143207,
          11.615380098402895,
          5.118400050384324,
          -1.5071786348472074,
          19.10065251434081,
          37.06832167606211,
          17.781315268121602,
          18.18529362354461,
          30.155910935398794,
          0.06794307421529311,
          8.535333986370503,
          6.703090000091606,
          2.0902115911703163,
          12.404183118185387,
          -4.407592832592712,
          11.401661564839273,
          -0.7753151094986777,
          19.543211767672375,
          2.69637217645041,
          11.242018503828703,
          4.545966809780992,
          -2.5275462904065193,
          -3.4716461844106163,
          -4.814604159000595,
          7.936016852181581,
          -11.223269942072392,
          -6.286359230620505,
          -1.7663329067223117,
          11.677259616763621,
          11.907110010516291,
          14.436382932580614,
          11.201355807905685,
          -0.13184518176309723,
          14.860986751650202,
          12.992207820909996,
          63.53548642613649,
          19.132127918199217,
          13.058572520135101,
          36.0105439656071,
          2.5818523916458105,
          42.88860399861798,
          15.979800448865205,
          28.509747883769407,
          43.65236606989079,
          27.456763400402096,
          13.6150627797077,
          2.9992581596989965
         ],
         "xaxis": "x",
         "yaxis": "y"
        },
        {
         "alignmentgroup": "True",
         "customdata": [
          [
           "full body:undistorted_GX010077_14_237.jpg_gamma",
           "Prawn_0"
          ],
          [
           "full body:undistorted_GX010077_14_237.jpg_gamma",
           "Prawn_1"
          ],
          [
           "full body:undistorted_GX010077_14_237.jpg_gamma",
           "Prawn_2"
          ],
          [
           "full body:undistorted_GX010067_33_625.jpg_gamma",
           "Prawn_0"
          ],
          [
           "full body:undistorted_GX010067_33_625.jpg_gamma",
           "Prawn_1"
          ],
          [
           "full body:undistorted_GX010067_33_625.jpg_gamma",
           "Prawn_2"
          ],
          [
           "full body:undistorted_GX010067_33_625.jpg_gamma",
           "Prawn_3"
          ],
          [
           "full body:undistorted_GX010068_26_666.jpg_gamma",
           "Prawn_0"
          ],
          [
           "full body:undistorted_GX010068_26_666.jpg_gamma",
           "Prawn_1"
          ],
          [
           "full body:undistorted_GX010068_26_666.jpg_gamma",
           "Prawn_2"
          ],
          [
           "full body:undistorted_GX010068_27_795.jpg_gamma",
           "Prawn_0"
          ],
          [
           "full body:undistorted_GX010068_27_795.jpg_gamma",
           "Prawn_1"
          ],
          [
           "full body:undistorted_GX010069_19_191.jpg_gamma",
           "Prawn_0"
          ],
          [
           "full body:undistorted_GX010069_19_191.jpg_gamma",
           "Prawn_1"
          ],
          [
           "full body:undistorted_GX010069_19_191.jpg_gamma",
           "Prawn_2"
          ],
          [
           "full body:undistorted_GX010069_19_191.jpg_gamma",
           "Prawn_3"
          ],
          [
           "full body:undistorted_GX010071_22_444.jpg_gamma",
           "Prawn_0"
          ],
          [
           "full body:undistorted_GX010071_22_444.jpg_gamma",
           "Prawn_1"
          ],
          [
           "full body:undistorted_GX010073_42_695.jpg_gamma",
           "Prawn_0"
          ],
          [
           "full body:undistorted_GX010073_42_695.jpg_gamma",
           "Prawn_1"
          ],
          [
           "full body:undistorted_GX010073_42_695.jpg_gamma",
           "Prawn_2"
          ],
          [
           "full body:undistorted_GX010073_55_1014.jpg_gamma",
           "Prawn_0"
          ],
          [
           "full body:undistorted_GX010073_55_1014.jpg_gamma",
           "Prawn_1"
          ],
          [
           "full body:undistorted_GX010073_55_1014.jpg_gamma",
           "Prawn_2"
          ],
          [
           "full body:undistorted_GX010080_157_2283.jpg_gamma",
           "Prawn_0"
          ],
          [
           "full body:undistorted_GX010080_157_2283.jpg_gamma",
           "Prawn_2"
          ],
          [
           "full body:undistorted_GX010080_157_2283.jpg_gamma",
           "Prawn_3"
          ],
          [
           "full body:undistorted_GX010080_193_2640.jpg_gamma",
           "Prawn_0"
          ],
          [
           "full body:undistorted_GX010080_193_2640.jpg_gamma",
           "Prawn_1"
          ],
          [
           "full body:undistorted_GX010080_193_2640.jpg_gamma",
           "Prawn_2"
          ],
          [
           "full body:undistorted_GX010080_193_2640.jpg_gamma",
           "Prawn_3"
          ],
          [
           "full body:undistorted_GX010080_193_2640.jpg_gamma",
           "Prawn_4"
          ],
          [
           "full body:undistorted_GX010080_212_2954.jpg_gamma",
           "Prawn_0"
          ],
          [
           "full body:undistorted_GX010080_212_2954.jpg_gamma",
           "Prawn_1"
          ],
          [
           "full body:undistorted_GX010080_212_2954.jpg_gamma",
           "Prawn_2"
          ],
          [
           "full body:undistorted_GX010080_237_3366.jpg_gamma",
           "Prawn_0"
          ],
          [
           "full body:undistorted_GX010080_237_3366.jpg_gamma",
           "Prawn_1"
          ],
          [
           "full body:undistorted_GX010080_237_3366.jpg_gamma",
           "Prawn_2"
          ],
          [
           "full body:undistorted_GX010080_237_3366.jpg_gamma",
           "Prawn_3"
          ],
          [
           "full body:undistorted_GX010080_237_3366.jpg_gamma",
           "Prawn_4"
          ],
          [
           "full body:undistorted_GX010080_238_3392.jpg_gamma",
           "Prawn_0"
          ],
          [
           "full body:undistorted_GX010080_238_3392.jpg_gamma",
           "Prawn_1"
          ],
          [
           "full body:undistorted_GX010080_238_3392.jpg_gamma",
           "Prawn_2"
          ],
          [
           "full body:undistorted_GX010080_238_3392.jpg_gamma",
           "Prawn_3"
          ],
          [
           "full body:undistorted_GX010082_8_59.jpg_gamma",
           "Prawn_1"
          ],
          [
           "full body:undistorted_GX010082_8_59.jpg_gamma",
           "Prawn_2"
          ],
          [
           "full body:undistorted_GX010082_8_59.jpg_gamma",
           "Prawn_3"
          ],
          [
           "full body:undistorted_GX010082_8_59.jpg_gamma",
           "Prawn_4"
          ],
          [
           "full body:undistorted_GX010082_53_796.jpg_gamma",
           "Prawn_0"
          ],
          [
           "full body:undistorted_GX010082_53_796.jpg_gamma",
           "Prawn_1"
          ],
          [
           "full body:undistorted_GX010082_65_1070.jpg_gamma",
           "Prawn_0"
          ],
          [
           "full body:undistorted_GX010082_65_1070.jpg_gamma",
           "Prawn_1"
          ],
          [
           "full body:undistorted_GX010082_65_1070.jpg_gamma",
           "Prawn_2"
          ],
          [
           "full body:undistorted_GX010082_236_3137.jpg_gamma",
           "Prawn_0"
          ],
          [
           "full body:undistorted_GX010082_236_3137.jpg_gamma",
           "Prawn_1"
          ],
          [
           "full body:undistorted_GX010082_236_3137.jpg_gamma",
           "Prawn_2"
          ],
          [
           "full body:undistorted_GX010084_30_344.jpg_gamma",
           "Prawn_0"
          ],
          [
           "full body:undistorted_GX010084_30_344.jpg_gamma",
           "Prawn_1"
          ],
          [
           "full body:undistorted_GX010084_30_344.jpg_gamma",
           "Prawn_2"
          ],
          [
           "full body:undistorted_GX010084_30_344.jpg_gamma",
           "Prawn_3"
          ],
          [
           "full body:undistorted_GX010084_130_1748.jpg_gamma",
           "Prawn_0"
          ],
          [
           "full body:undistorted_GX010084_130_1748.jpg_gamma",
           "Prawn_1"
          ],
          [
           "full body:undistorted_GX010084_130_1748.jpg_gamma",
           "Prawn_2"
          ],
          [
           "full body:undistorted_GX010085_261_3610.jpg_gamma",
           "Prawn_0"
          ],
          [
           "full body:undistorted_GX010085_261_3610.jpg_gamma",
           "Prawn_1"
          ],
          [
           "full body:undistorted_GX010088_209_2904.jpg_gamma",
           "Prawn_0"
          ],
          [
           "full body:undistorted_GX010088_209_2904.jpg_gamma",
           "Prawn_1"
          ],
          [
           "full body:undistorted_GX010088_262_3712.jpg_gamma",
           "Prawn_0"
          ],
          [
           "full body:undistorted_GX010088_262_3712.jpg_gamma",
           "Prawn_1"
          ],
          [
           "full body:undistorted_GX010088_262_3712.jpg_gamma",
           "Prawn_2"
          ],
          [
           "full body:undistorted_GX010088_327_4364.jpg_gamma",
           "Prawn_0"
          ],
          [
           "full body:undistorted_GX010088_327_4364.jpg_gamma",
           "Prawn_1"
          ],
          [
           "full body:undistorted_GX010088_327_4364.jpg_gamma",
           "Prawn_2"
          ],
          [
           "full body:undistorted_GX010088_327_4364.jpg_gamma",
           "Prawn_3"
          ],
          [
           "full body:undistorted_GX010090_132_1852.jpg_gamma",
           "Prawn_0"
          ],
          [
           "full body:undistorted_GX010094_9_129.jpg_gamma",
           "Prawn_0"
          ],
          [
           "full body:undistorted_GX010094_9_129.jpg_gamma",
           "Prawn_1"
          ],
          [
           "full body:undistorted_GX010094_24_430.jpg_gamma",
           "Prawn_0"
          ],
          [
           "full body:undistorted_GX010094_93_1258.jpg_gamma",
           "Prawn_0"
          ],
          [
           "full body:undistorted_GX010094_163_2312.jpg_gamma",
           "Prawn_0"
          ],
          [
           "full body:undistorted_GX010097_32_528.jpg_gamma",
           "Prawn_0"
          ],
          [
           "full body:undistorted_GX010097_32_528.jpg_gamma",
           "Prawn_1"
          ],
          [
           "full body:undistorted_GX010097_60_1080.jpg_gamma",
           "Prawn_0"
          ],
          [
           "full body:undistorted_GX010097_60_1080.jpg_gamma",
           "Prawn_1"
          ],
          [
           "full body:undistorted_GX010097_60_1080.jpg_gamma",
           "Prawn_2"
          ],
          [
           "full body:undistorted_GX010097_60_1080.jpg_gamma",
           "Prawn_3"
          ],
          [
           "full body:undistorted_GX010097_105_1651.jpg_gamma",
           "Prawn_0"
          ],
          [
           "full body:undistorted_GX010097_105_1651.jpg_gamma",
           "Prawn_1"
          ],
          [
           "full body:undistorted_GX010097_105_1651.jpg_gamma",
           "Prawn_2"
          ],
          [
           "full body:undistorted_GX010097_105_1651.jpg_gamma",
           "Prawn_3"
          ],
          [
           "full body:undistorted_GX010097_124_1870.jpg_gamma",
           "Prawn_0"
          ],
          [
           "full body:undistorted_GX010097_124_1870.jpg_gamma",
           "Prawn_1"
          ],
          [
           "full body:undistorted_GX010101_12_173.jpg_gamma",
           "Prawn_0"
          ]
         ],
         "hovertemplate": "overestimation=%{x}<br>Label=%{customdata[0]}<br>PrawnID=%{customdata[1]}<extra></extra>",
         "legendgroup": "",
         "marker": {
          "color": "#636efa"
         },
         "name": "",
         "notched": true,
         "offsetgroup": "",
         "showlegend": false,
         "type": "box",
         "x": [
          4.731451607420922,
          10.760056218787,
          1.7756445478630098,
          9.115406852968079,
          1.0467935886070592,
          3.5278226755047797,
          8.8224477638217,
          12.545963001694687,
          16.31505110771731,
          8.96639062831261,
          4.610948833937016,
          1.8291314326641839,
          -0.9058763041410032,
          14.197675426651003,
          15.755242938552911,
          14.152853806699909,
          12.404993196638202,
          1.3751866421148122,
          17.214559146892796,
          4.551944784594582,
          -3.684981306676491,
          5.55456187554249,
          6.878248168471998,
          20.520757476980506,
          32.643744056214715,
          31.003234146030493,
          27.67900841073201,
          21.896869343184406,
          14.366961316968798,
          21.184411425048296,
          8.922521007331497,
          24.616618746002302,
          23.334047400828084,
          11.390733741816604,
          -3.0502313646050823,
          12.817308671649101,
          20.164893532784617,
          14.556041864880797,
          6.05433548834759,
          3.1603401531997974,
          13.817415068866183,
          21.36396216254471,
          9.383055686515902,
          15.016455290056399,
          -2.2729525409738187,
          -1.6034378667595206,
          3.728410522143207,
          11.615380098402895,
          5.118400050384324,
          -1.5071786348472074,
          19.10065251434081,
          37.06832167606211,
          17.781315268121602,
          18.18529362354461,
          30.155910935398794,
          0.06794307421529311,
          8.535333986370503,
          6.703090000091606,
          2.0902115911703163,
          12.404183118185387,
          -4.407592832592712,
          11.401661564839273,
          -0.7753151094986777,
          19.543211767672375,
          2.69637217645041,
          11.242018503828703,
          4.545966809780992,
          -2.5275462904065193,
          -3.4716461844106163,
          -4.814604159000595,
          7.936016852181581,
          -11.223269942072392,
          -6.286359230620505,
          -1.7663329067223117,
          11.677259616763621,
          11.907110010516291,
          14.436382932580614,
          11.201355807905685,
          -0.13184518176309723,
          14.860986751650202,
          12.992207820909996,
          63.53548642613649,
          19.132127918199217,
          13.058572520135101,
          36.0105439656071,
          2.5818523916458105,
          42.88860399861798,
          15.979800448865205,
          28.509747883769407,
          43.65236606989079,
          27.456763400402096,
          13.6150627797077,
          2.9992581596989965
         ],
         "xaxis": "x2",
         "yaxis": "y2"
        }
       ],
       "layout": {
        "barmode": "relative",
        "legend": {
         "tracegroupgap": 0
        },
        "shapes": [
         {
          "line": {
           "color": "red",
           "dash": "dash"
          },
          "type": "line",
          "x0": 0,
          "x1": 0,
          "xref": "x",
          "y0": 0,
          "y1": 1,
          "yref": "y domain"
         },
         {
          "line": {
           "color": "red",
           "dash": "dash"
          },
          "type": "line",
          "x0": 0,
          "x1": 0,
          "xref": "x2",
          "y0": 0,
          "y1": 1,
          "yref": "y2 domain"
         }
        ],
        "template": {
         "data": {
          "bar": [
           {
            "error_x": {
             "color": "#2a3f5f"
            },
            "error_y": {
             "color": "#2a3f5f"
            },
            "marker": {
             "line": {
              "color": "#E5ECF6",
              "width": 0.5
             },
             "pattern": {
              "fillmode": "overlay",
              "size": 10,
              "solidity": 0.2
             }
            },
            "type": "bar"
           }
          ],
          "barpolar": [
           {
            "marker": {
             "line": {
              "color": "#E5ECF6",
              "width": 0.5
             },
             "pattern": {
              "fillmode": "overlay",
              "size": 10,
              "solidity": 0.2
             }
            },
            "type": "barpolar"
           }
          ],
          "carpet": [
           {
            "aaxis": {
             "endlinecolor": "#2a3f5f",
             "gridcolor": "white",
             "linecolor": "white",
             "minorgridcolor": "white",
             "startlinecolor": "#2a3f5f"
            },
            "baxis": {
             "endlinecolor": "#2a3f5f",
             "gridcolor": "white",
             "linecolor": "white",
             "minorgridcolor": "white",
             "startlinecolor": "#2a3f5f"
            },
            "type": "carpet"
           }
          ],
          "choropleth": [
           {
            "colorbar": {
             "outlinewidth": 0,
             "ticks": ""
            },
            "type": "choropleth"
           }
          ],
          "contour": [
           {
            "colorbar": {
             "outlinewidth": 0,
             "ticks": ""
            },
            "colorscale": [
             [
              0,
              "#0d0887"
             ],
             [
              0.1111111111111111,
              "#46039f"
             ],
             [
              0.2222222222222222,
              "#7201a8"
             ],
             [
              0.3333333333333333,
              "#9c179e"
             ],
             [
              0.4444444444444444,
              "#bd3786"
             ],
             [
              0.5555555555555556,
              "#d8576b"
             ],
             [
              0.6666666666666666,
              "#ed7953"
             ],
             [
              0.7777777777777778,
              "#fb9f3a"
             ],
             [
              0.8888888888888888,
              "#fdca26"
             ],
             [
              1,
              "#f0f921"
             ]
            ],
            "type": "contour"
           }
          ],
          "contourcarpet": [
           {
            "colorbar": {
             "outlinewidth": 0,
             "ticks": ""
            },
            "type": "contourcarpet"
           }
          ],
          "heatmap": [
           {
            "colorbar": {
             "outlinewidth": 0,
             "ticks": ""
            },
            "colorscale": [
             [
              0,
              "#0d0887"
             ],
             [
              0.1111111111111111,
              "#46039f"
             ],
             [
              0.2222222222222222,
              "#7201a8"
             ],
             [
              0.3333333333333333,
              "#9c179e"
             ],
             [
              0.4444444444444444,
              "#bd3786"
             ],
             [
              0.5555555555555556,
              "#d8576b"
             ],
             [
              0.6666666666666666,
              "#ed7953"
             ],
             [
              0.7777777777777778,
              "#fb9f3a"
             ],
             [
              0.8888888888888888,
              "#fdca26"
             ],
             [
              1,
              "#f0f921"
             ]
            ],
            "type": "heatmap"
           }
          ],
          "heatmapgl": [
           {
            "colorbar": {
             "outlinewidth": 0,
             "ticks": ""
            },
            "colorscale": [
             [
              0,
              "#0d0887"
             ],
             [
              0.1111111111111111,
              "#46039f"
             ],
             [
              0.2222222222222222,
              "#7201a8"
             ],
             [
              0.3333333333333333,
              "#9c179e"
             ],
             [
              0.4444444444444444,
              "#bd3786"
             ],
             [
              0.5555555555555556,
              "#d8576b"
             ],
             [
              0.6666666666666666,
              "#ed7953"
             ],
             [
              0.7777777777777778,
              "#fb9f3a"
             ],
             [
              0.8888888888888888,
              "#fdca26"
             ],
             [
              1,
              "#f0f921"
             ]
            ],
            "type": "heatmapgl"
           }
          ],
          "histogram": [
           {
            "marker": {
             "pattern": {
              "fillmode": "overlay",
              "size": 10,
              "solidity": 0.2
             }
            },
            "type": "histogram"
           }
          ],
          "histogram2d": [
           {
            "colorbar": {
             "outlinewidth": 0,
             "ticks": ""
            },
            "colorscale": [
             [
              0,
              "#0d0887"
             ],
             [
              0.1111111111111111,
              "#46039f"
             ],
             [
              0.2222222222222222,
              "#7201a8"
             ],
             [
              0.3333333333333333,
              "#9c179e"
             ],
             [
              0.4444444444444444,
              "#bd3786"
             ],
             [
              0.5555555555555556,
              "#d8576b"
             ],
             [
              0.6666666666666666,
              "#ed7953"
             ],
             [
              0.7777777777777778,
              "#fb9f3a"
             ],
             [
              0.8888888888888888,
              "#fdca26"
             ],
             [
              1,
              "#f0f921"
             ]
            ],
            "type": "histogram2d"
           }
          ],
          "histogram2dcontour": [
           {
            "colorbar": {
             "outlinewidth": 0,
             "ticks": ""
            },
            "colorscale": [
             [
              0,
              "#0d0887"
             ],
             [
              0.1111111111111111,
              "#46039f"
             ],
             [
              0.2222222222222222,
              "#7201a8"
             ],
             [
              0.3333333333333333,
              "#9c179e"
             ],
             [
              0.4444444444444444,
              "#bd3786"
             ],
             [
              0.5555555555555556,
              "#d8576b"
             ],
             [
              0.6666666666666666,
              "#ed7953"
             ],
             [
              0.7777777777777778,
              "#fb9f3a"
             ],
             [
              0.8888888888888888,
              "#fdca26"
             ],
             [
              1,
              "#f0f921"
             ]
            ],
            "type": "histogram2dcontour"
           }
          ],
          "mesh3d": [
           {
            "colorbar": {
             "outlinewidth": 0,
             "ticks": ""
            },
            "type": "mesh3d"
           }
          ],
          "parcoords": [
           {
            "line": {
             "colorbar": {
              "outlinewidth": 0,
              "ticks": ""
             }
            },
            "type": "parcoords"
           }
          ],
          "pie": [
           {
            "automargin": true,
            "type": "pie"
           }
          ],
          "scatter": [
           {
            "fillpattern": {
             "fillmode": "overlay",
             "size": 10,
             "solidity": 0.2
            },
            "type": "scatter"
           }
          ],
          "scatter3d": [
           {
            "line": {
             "colorbar": {
              "outlinewidth": 0,
              "ticks": ""
             }
            },
            "marker": {
             "colorbar": {
              "outlinewidth": 0,
              "ticks": ""
             }
            },
            "type": "scatter3d"
           }
          ],
          "scattercarpet": [
           {
            "marker": {
             "colorbar": {
              "outlinewidth": 0,
              "ticks": ""
             }
            },
            "type": "scattercarpet"
           }
          ],
          "scattergeo": [
           {
            "marker": {
             "colorbar": {
              "outlinewidth": 0,
              "ticks": ""
             }
            },
            "type": "scattergeo"
           }
          ],
          "scattergl": [
           {
            "marker": {
             "colorbar": {
              "outlinewidth": 0,
              "ticks": ""
             }
            },
            "type": "scattergl"
           }
          ],
          "scattermapbox": [
           {
            "marker": {
             "colorbar": {
              "outlinewidth": 0,
              "ticks": ""
             }
            },
            "type": "scattermapbox"
           }
          ],
          "scatterpolar": [
           {
            "marker": {
             "colorbar": {
              "outlinewidth": 0,
              "ticks": ""
             }
            },
            "type": "scatterpolar"
           }
          ],
          "scatterpolargl": [
           {
            "marker": {
             "colorbar": {
              "outlinewidth": 0,
              "ticks": ""
             }
            },
            "type": "scatterpolargl"
           }
          ],
          "scatterternary": [
           {
            "marker": {
             "colorbar": {
              "outlinewidth": 0,
              "ticks": ""
             }
            },
            "type": "scatterternary"
           }
          ],
          "surface": [
           {
            "colorbar": {
             "outlinewidth": 0,
             "ticks": ""
            },
            "colorscale": [
             [
              0,
              "#0d0887"
             ],
             [
              0.1111111111111111,
              "#46039f"
             ],
             [
              0.2222222222222222,
              "#7201a8"
             ],
             [
              0.3333333333333333,
              "#9c179e"
             ],
             [
              0.4444444444444444,
              "#bd3786"
             ],
             [
              0.5555555555555556,
              "#d8576b"
             ],
             [
              0.6666666666666666,
              "#ed7953"
             ],
             [
              0.7777777777777778,
              "#fb9f3a"
             ],
             [
              0.8888888888888888,
              "#fdca26"
             ],
             [
              1,
              "#f0f921"
             ]
            ],
            "type": "surface"
           }
          ],
          "table": [
           {
            "cells": {
             "fill": {
              "color": "#EBF0F8"
             },
             "line": {
              "color": "white"
             }
            },
            "header": {
             "fill": {
              "color": "#C8D4E3"
             },
             "line": {
              "color": "white"
             }
            },
            "type": "table"
           }
          ]
         },
         "layout": {
          "annotationdefaults": {
           "arrowcolor": "#2a3f5f",
           "arrowhead": 0,
           "arrowwidth": 1
          },
          "autotypenumbers": "strict",
          "coloraxis": {
           "colorbar": {
            "outlinewidth": 0,
            "ticks": ""
           }
          },
          "colorscale": {
           "diverging": [
            [
             0,
             "#8e0152"
            ],
            [
             0.1,
             "#c51b7d"
            ],
            [
             0.2,
             "#de77ae"
            ],
            [
             0.3,
             "#f1b6da"
            ],
            [
             0.4,
             "#fde0ef"
            ],
            [
             0.5,
             "#f7f7f7"
            ],
            [
             0.6,
             "#e6f5d0"
            ],
            [
             0.7,
             "#b8e186"
            ],
            [
             0.8,
             "#7fbc41"
            ],
            [
             0.9,
             "#4d9221"
            ],
            [
             1,
             "#276419"
            ]
           ],
           "sequential": [
            [
             0,
             "#0d0887"
            ],
            [
             0.1111111111111111,
             "#46039f"
            ],
            [
             0.2222222222222222,
             "#7201a8"
            ],
            [
             0.3333333333333333,
             "#9c179e"
            ],
            [
             0.4444444444444444,
             "#bd3786"
            ],
            [
             0.5555555555555556,
             "#d8576b"
            ],
            [
             0.6666666666666666,
             "#ed7953"
            ],
            [
             0.7777777777777778,
             "#fb9f3a"
            ],
            [
             0.8888888888888888,
             "#fdca26"
            ],
            [
             1,
             "#f0f921"
            ]
           ],
           "sequentialminus": [
            [
             0,
             "#0d0887"
            ],
            [
             0.1111111111111111,
             "#46039f"
            ],
            [
             0.2222222222222222,
             "#7201a8"
            ],
            [
             0.3333333333333333,
             "#9c179e"
            ],
            [
             0.4444444444444444,
             "#bd3786"
            ],
            [
             0.5555555555555556,
             "#d8576b"
            ],
            [
             0.6666666666666666,
             "#ed7953"
            ],
            [
             0.7777777777777778,
             "#fb9f3a"
            ],
            [
             0.8888888888888888,
             "#fdca26"
            ],
            [
             1,
             "#f0f921"
            ]
           ]
          },
          "colorway": [
           "#636efa",
           "#EF553B",
           "#00cc96",
           "#ab63fa",
           "#FFA15A",
           "#19d3f3",
           "#FF6692",
           "#B6E880",
           "#FF97FF",
           "#FECB52"
          ],
          "font": {
           "color": "#2a3f5f"
          },
          "geo": {
           "bgcolor": "white",
           "lakecolor": "white",
           "landcolor": "#E5ECF6",
           "showlakes": true,
           "showland": true,
           "subunitcolor": "white"
          },
          "hoverlabel": {
           "align": "left"
          },
          "hovermode": "closest",
          "mapbox": {
           "style": "light"
          },
          "paper_bgcolor": "white",
          "plot_bgcolor": "#E5ECF6",
          "polar": {
           "angularaxis": {
            "gridcolor": "white",
            "linecolor": "white",
            "ticks": ""
           },
           "bgcolor": "#E5ECF6",
           "radialaxis": {
            "gridcolor": "white",
            "linecolor": "white",
            "ticks": ""
           }
          },
          "scene": {
           "xaxis": {
            "backgroundcolor": "#E5ECF6",
            "gridcolor": "white",
            "gridwidth": 2,
            "linecolor": "white",
            "showbackground": true,
            "ticks": "",
            "zerolinecolor": "white"
           },
           "yaxis": {
            "backgroundcolor": "#E5ECF6",
            "gridcolor": "white",
            "gridwidth": 2,
            "linecolor": "white",
            "showbackground": true,
            "ticks": "",
            "zerolinecolor": "white"
           },
           "zaxis": {
            "backgroundcolor": "#E5ECF6",
            "gridcolor": "white",
            "gridwidth": 2,
            "linecolor": "white",
            "showbackground": true,
            "ticks": "",
            "zerolinecolor": "white"
           }
          },
          "shapedefaults": {
           "line": {
            "color": "#2a3f5f"
           }
          },
          "ternary": {
           "aaxis": {
            "gridcolor": "white",
            "linecolor": "white",
            "ticks": ""
           },
           "baxis": {
            "gridcolor": "white",
            "linecolor": "white",
            "ticks": ""
           },
           "bgcolor": "#E5ECF6",
           "caxis": {
            "gridcolor": "white",
            "linecolor": "white",
            "ticks": ""
           }
          },
          "title": {
           "x": 0.05
          },
          "xaxis": {
           "automargin": true,
           "gridcolor": "white",
           "linecolor": "white",
           "ticks": "",
           "title": {
            "standoff": 15
           },
           "zerolinecolor": "white",
           "zerolinewidth": 2
          },
          "yaxis": {
           "automargin": true,
           "gridcolor": "white",
           "linecolor": "white",
           "ticks": "",
           "title": {
            "standoff": 15
           },
           "zerolinecolor": "white",
           "zerolinewidth": 2
          }
         }
        },
        "title": {
         "text": "Histogram of Residuals circular-big Overestimation "
        },
        "xaxis": {
         "anchor": "y",
         "domain": [
          0,
          1
         ],
         "title": {
          "text": "Residuals circular-big (Overestimation vs Underestimation)"
         }
        },
        "xaxis2": {
         "anchor": "y2",
         "domain": [
          0,
          1
         ],
         "matches": "x",
         "showgrid": true,
         "showticklabels": false
        },
        "yaxis": {
         "anchor": "x",
         "domain": [
          0,
          0.8316
         ],
         "title": {
          "text": "Frequency"
         }
        },
        "yaxis2": {
         "anchor": "x2",
         "domain": [
          0.8416,
          1
         ],
         "matches": "y2",
         "showgrid": false,
         "showline": false,
         "showticklabels": false,
         "ticks": ""
        }
       }
      }
     },
     "metadata": {},
     "output_type": "display_data"
    },
    {
     "data": {
      "application/vnd.plotly.v1+json": {
       "config": {
        "plotlyServerURL": "https://plot.ly"
       },
       "data": [
        {
         "alignmentgroup": "True",
         "bingroup": "x",
         "hovertemplate": "overestimation=%{x}<br>count=%{y}<extra></extra>",
         "legendgroup": "",
         "marker": {
          "color": "#636efa",
          "pattern": {
           "shape": ""
          }
         },
         "name": "",
         "nbinsx": 30,
         "offsetgroup": "",
         "orientation": "v",
         "showlegend": false,
         "type": "histogram",
         "x": [
          24.389757111626096,
          17.087130975932467,
          21.47069998942331,
          -2.5091253961069313,
          18.472460689113007,
          14.875102421548306,
          37.388065164327756,
          21.801096895985793,
          49.153712099337696,
          37.455712099337696,
          20.658965237656005,
          18.34599538573427,
          20.878955449627313,
          15.466067883903655,
          23.974345836445593
         ],
         "xaxis": "x",
         "yaxis": "y"
        },
        {
         "alignmentgroup": "True",
         "customdata": [
          [
           "full body:undistorted_GX010089_11_236.jpg_gamma",
           "Prawn_0"
          ],
          [
           "full body:undistorted_GX010089_11_236.jpg_gamma",
           "Prawn_1"
          ],
          [
           "full body:undistorted_GX010089_11_236.jpg_gamma",
           "Prawn_2"
          ],
          [
           "full body:undistorted_GX010089_11_236.jpg_gamma",
           "Prawn_3"
          ],
          [
           "full body:undistorted_GX010091_5_149.jpg_gamma",
           "Prawn_0"
          ],
          [
           "full body:undistorted_GX010091_5_149.jpg_gamma",
           "Prawn_1"
          ],
          [
           "full body:undistorted_GX010091_5_149.jpg_gamma",
           "Prawn_2"
          ],
          [
           "full body:undistorted_GX010102_9_165.jpg_gamma",
           "Prawn_1"
          ],
          [
           "full body:undistorted_GX010102_9_165.jpg_gamma",
           "Prawn_2"
          ],
          [
           "full body:undistorted_GX010102_9_165.jpg_gamma",
           "Prawn_3"
          ],
          [
           "full body:undistorted_GX010102_9_165.jpg_gamma",
           "Prawn_4"
          ],
          [
           "full body:undistorted_GX010102_9_165.jpg_gamma",
           "Prawn_5"
          ],
          [
           "full body:undistorted_GX010102_50_1396.jpg_gamma",
           "Prawn_0"
          ],
          [
           "full body:undistorted_GX010105_28_816.jpg_gamma",
           "Prawn_0"
          ],
          [
           "full body:undistorted_GX010105_28_816.jpg_gamma",
           "Prawn_1"
          ]
         ],
         "hovertemplate": "overestimation=%{x}<br>Label=%{customdata[0]}<br>PrawnID=%{customdata[1]}<extra></extra>",
         "legendgroup": "",
         "marker": {
          "color": "#636efa"
         },
         "name": "",
         "notched": true,
         "offsetgroup": "",
         "showlegend": false,
         "type": "box",
         "x": [
          24.389757111626096,
          17.087130975932467,
          21.47069998942331,
          -2.5091253961069313,
          18.472460689113007,
          14.875102421548306,
          37.388065164327756,
          21.801096895985793,
          49.153712099337696,
          37.455712099337696,
          20.658965237656005,
          18.34599538573427,
          20.878955449627313,
          15.466067883903655,
          23.974345836445593
         ],
         "xaxis": "x2",
         "yaxis": "y2"
        }
       ],
       "layout": {
        "barmode": "relative",
        "legend": {
         "tracegroupgap": 0
        },
        "shapes": [
         {
          "line": {
           "color": "red",
           "dash": "dash"
          },
          "type": "line",
          "x0": 0,
          "x1": 0,
          "xref": "x",
          "y0": 0,
          "y1": 1,
          "yref": "y domain"
         },
         {
          "line": {
           "color": "red",
           "dash": "dash"
          },
          "type": "line",
          "x0": 0,
          "x1": 0,
          "xref": "x2",
          "y0": 0,
          "y1": 1,
          "yref": "y2 domain"
         }
        ],
        "template": {
         "data": {
          "bar": [
           {
            "error_x": {
             "color": "#2a3f5f"
            },
            "error_y": {
             "color": "#2a3f5f"
            },
            "marker": {
             "line": {
              "color": "#E5ECF6",
              "width": 0.5
             },
             "pattern": {
              "fillmode": "overlay",
              "size": 10,
              "solidity": 0.2
             }
            },
            "type": "bar"
           }
          ],
          "barpolar": [
           {
            "marker": {
             "line": {
              "color": "#E5ECF6",
              "width": 0.5
             },
             "pattern": {
              "fillmode": "overlay",
              "size": 10,
              "solidity": 0.2
             }
            },
            "type": "barpolar"
           }
          ],
          "carpet": [
           {
            "aaxis": {
             "endlinecolor": "#2a3f5f",
             "gridcolor": "white",
             "linecolor": "white",
             "minorgridcolor": "white",
             "startlinecolor": "#2a3f5f"
            },
            "baxis": {
             "endlinecolor": "#2a3f5f",
             "gridcolor": "white",
             "linecolor": "white",
             "minorgridcolor": "white",
             "startlinecolor": "#2a3f5f"
            },
            "type": "carpet"
           }
          ],
          "choropleth": [
           {
            "colorbar": {
             "outlinewidth": 0,
             "ticks": ""
            },
            "type": "choropleth"
           }
          ],
          "contour": [
           {
            "colorbar": {
             "outlinewidth": 0,
             "ticks": ""
            },
            "colorscale": [
             [
              0,
              "#0d0887"
             ],
             [
              0.1111111111111111,
              "#46039f"
             ],
             [
              0.2222222222222222,
              "#7201a8"
             ],
             [
              0.3333333333333333,
              "#9c179e"
             ],
             [
              0.4444444444444444,
              "#bd3786"
             ],
             [
              0.5555555555555556,
              "#d8576b"
             ],
             [
              0.6666666666666666,
              "#ed7953"
             ],
             [
              0.7777777777777778,
              "#fb9f3a"
             ],
             [
              0.8888888888888888,
              "#fdca26"
             ],
             [
              1,
              "#f0f921"
             ]
            ],
            "type": "contour"
           }
          ],
          "contourcarpet": [
           {
            "colorbar": {
             "outlinewidth": 0,
             "ticks": ""
            },
            "type": "contourcarpet"
           }
          ],
          "heatmap": [
           {
            "colorbar": {
             "outlinewidth": 0,
             "ticks": ""
            },
            "colorscale": [
             [
              0,
              "#0d0887"
             ],
             [
              0.1111111111111111,
              "#46039f"
             ],
             [
              0.2222222222222222,
              "#7201a8"
             ],
             [
              0.3333333333333333,
              "#9c179e"
             ],
             [
              0.4444444444444444,
              "#bd3786"
             ],
             [
              0.5555555555555556,
              "#d8576b"
             ],
             [
              0.6666666666666666,
              "#ed7953"
             ],
             [
              0.7777777777777778,
              "#fb9f3a"
             ],
             [
              0.8888888888888888,
              "#fdca26"
             ],
             [
              1,
              "#f0f921"
             ]
            ],
            "type": "heatmap"
           }
          ],
          "heatmapgl": [
           {
            "colorbar": {
             "outlinewidth": 0,
             "ticks": ""
            },
            "colorscale": [
             [
              0,
              "#0d0887"
             ],
             [
              0.1111111111111111,
              "#46039f"
             ],
             [
              0.2222222222222222,
              "#7201a8"
             ],
             [
              0.3333333333333333,
              "#9c179e"
             ],
             [
              0.4444444444444444,
              "#bd3786"
             ],
             [
              0.5555555555555556,
              "#d8576b"
             ],
             [
              0.6666666666666666,
              "#ed7953"
             ],
             [
              0.7777777777777778,
              "#fb9f3a"
             ],
             [
              0.8888888888888888,
              "#fdca26"
             ],
             [
              1,
              "#f0f921"
             ]
            ],
            "type": "heatmapgl"
           }
          ],
          "histogram": [
           {
            "marker": {
             "pattern": {
              "fillmode": "overlay",
              "size": 10,
              "solidity": 0.2
             }
            },
            "type": "histogram"
           }
          ],
          "histogram2d": [
           {
            "colorbar": {
             "outlinewidth": 0,
             "ticks": ""
            },
            "colorscale": [
             [
              0,
              "#0d0887"
             ],
             [
              0.1111111111111111,
              "#46039f"
             ],
             [
              0.2222222222222222,
              "#7201a8"
             ],
             [
              0.3333333333333333,
              "#9c179e"
             ],
             [
              0.4444444444444444,
              "#bd3786"
             ],
             [
              0.5555555555555556,
              "#d8576b"
             ],
             [
              0.6666666666666666,
              "#ed7953"
             ],
             [
              0.7777777777777778,
              "#fb9f3a"
             ],
             [
              0.8888888888888888,
              "#fdca26"
             ],
             [
              1,
              "#f0f921"
             ]
            ],
            "type": "histogram2d"
           }
          ],
          "histogram2dcontour": [
           {
            "colorbar": {
             "outlinewidth": 0,
             "ticks": ""
            },
            "colorscale": [
             [
              0,
              "#0d0887"
             ],
             [
              0.1111111111111111,
              "#46039f"
             ],
             [
              0.2222222222222222,
              "#7201a8"
             ],
             [
              0.3333333333333333,
              "#9c179e"
             ],
             [
              0.4444444444444444,
              "#bd3786"
             ],
             [
              0.5555555555555556,
              "#d8576b"
             ],
             [
              0.6666666666666666,
              "#ed7953"
             ],
             [
              0.7777777777777778,
              "#fb9f3a"
             ],
             [
              0.8888888888888888,
              "#fdca26"
             ],
             [
              1,
              "#f0f921"
             ]
            ],
            "type": "histogram2dcontour"
           }
          ],
          "mesh3d": [
           {
            "colorbar": {
             "outlinewidth": 0,
             "ticks": ""
            },
            "type": "mesh3d"
           }
          ],
          "parcoords": [
           {
            "line": {
             "colorbar": {
              "outlinewidth": 0,
              "ticks": ""
             }
            },
            "type": "parcoords"
           }
          ],
          "pie": [
           {
            "automargin": true,
            "type": "pie"
           }
          ],
          "scatter": [
           {
            "fillpattern": {
             "fillmode": "overlay",
             "size": 10,
             "solidity": 0.2
            },
            "type": "scatter"
           }
          ],
          "scatter3d": [
           {
            "line": {
             "colorbar": {
              "outlinewidth": 0,
              "ticks": ""
             }
            },
            "marker": {
             "colorbar": {
              "outlinewidth": 0,
              "ticks": ""
             }
            },
            "type": "scatter3d"
           }
          ],
          "scattercarpet": [
           {
            "marker": {
             "colorbar": {
              "outlinewidth": 0,
              "ticks": ""
             }
            },
            "type": "scattercarpet"
           }
          ],
          "scattergeo": [
           {
            "marker": {
             "colorbar": {
              "outlinewidth": 0,
              "ticks": ""
             }
            },
            "type": "scattergeo"
           }
          ],
          "scattergl": [
           {
            "marker": {
             "colorbar": {
              "outlinewidth": 0,
              "ticks": ""
             }
            },
            "type": "scattergl"
           }
          ],
          "scattermapbox": [
           {
            "marker": {
             "colorbar": {
              "outlinewidth": 0,
              "ticks": ""
             }
            },
            "type": "scattermapbox"
           }
          ],
          "scatterpolar": [
           {
            "marker": {
             "colorbar": {
              "outlinewidth": 0,
              "ticks": ""
             }
            },
            "type": "scatterpolar"
           }
          ],
          "scatterpolargl": [
           {
            "marker": {
             "colorbar": {
              "outlinewidth": 0,
              "ticks": ""
             }
            },
            "type": "scatterpolargl"
           }
          ],
          "scatterternary": [
           {
            "marker": {
             "colorbar": {
              "outlinewidth": 0,
              "ticks": ""
             }
            },
            "type": "scatterternary"
           }
          ],
          "surface": [
           {
            "colorbar": {
             "outlinewidth": 0,
             "ticks": ""
            },
            "colorscale": [
             [
              0,
              "#0d0887"
             ],
             [
              0.1111111111111111,
              "#46039f"
             ],
             [
              0.2222222222222222,
              "#7201a8"
             ],
             [
              0.3333333333333333,
              "#9c179e"
             ],
             [
              0.4444444444444444,
              "#bd3786"
             ],
             [
              0.5555555555555556,
              "#d8576b"
             ],
             [
              0.6666666666666666,
              "#ed7953"
             ],
             [
              0.7777777777777778,
              "#fb9f3a"
             ],
             [
              0.8888888888888888,
              "#fdca26"
             ],
             [
              1,
              "#f0f921"
             ]
            ],
            "type": "surface"
           }
          ],
          "table": [
           {
            "cells": {
             "fill": {
              "color": "#EBF0F8"
             },
             "line": {
              "color": "white"
             }
            },
            "header": {
             "fill": {
              "color": "#C8D4E3"
             },
             "line": {
              "color": "white"
             }
            },
            "type": "table"
           }
          ]
         },
         "layout": {
          "annotationdefaults": {
           "arrowcolor": "#2a3f5f",
           "arrowhead": 0,
           "arrowwidth": 1
          },
          "autotypenumbers": "strict",
          "coloraxis": {
           "colorbar": {
            "outlinewidth": 0,
            "ticks": ""
           }
          },
          "colorscale": {
           "diverging": [
            [
             0,
             "#8e0152"
            ],
            [
             0.1,
             "#c51b7d"
            ],
            [
             0.2,
             "#de77ae"
            ],
            [
             0.3,
             "#f1b6da"
            ],
            [
             0.4,
             "#fde0ef"
            ],
            [
             0.5,
             "#f7f7f7"
            ],
            [
             0.6,
             "#e6f5d0"
            ],
            [
             0.7,
             "#b8e186"
            ],
            [
             0.8,
             "#7fbc41"
            ],
            [
             0.9,
             "#4d9221"
            ],
            [
             1,
             "#276419"
            ]
           ],
           "sequential": [
            [
             0,
             "#0d0887"
            ],
            [
             0.1111111111111111,
             "#46039f"
            ],
            [
             0.2222222222222222,
             "#7201a8"
            ],
            [
             0.3333333333333333,
             "#9c179e"
            ],
            [
             0.4444444444444444,
             "#bd3786"
            ],
            [
             0.5555555555555556,
             "#d8576b"
            ],
            [
             0.6666666666666666,
             "#ed7953"
            ],
            [
             0.7777777777777778,
             "#fb9f3a"
            ],
            [
             0.8888888888888888,
             "#fdca26"
            ],
            [
             1,
             "#f0f921"
            ]
           ],
           "sequentialminus": [
            [
             0,
             "#0d0887"
            ],
            [
             0.1111111111111111,
             "#46039f"
            ],
            [
             0.2222222222222222,
             "#7201a8"
            ],
            [
             0.3333333333333333,
             "#9c179e"
            ],
            [
             0.4444444444444444,
             "#bd3786"
            ],
            [
             0.5555555555555556,
             "#d8576b"
            ],
            [
             0.6666666666666666,
             "#ed7953"
            ],
            [
             0.7777777777777778,
             "#fb9f3a"
            ],
            [
             0.8888888888888888,
             "#fdca26"
            ],
            [
             1,
             "#f0f921"
            ]
           ]
          },
          "colorway": [
           "#636efa",
           "#EF553B",
           "#00cc96",
           "#ab63fa",
           "#FFA15A",
           "#19d3f3",
           "#FF6692",
           "#B6E880",
           "#FF97FF",
           "#FECB52"
          ],
          "font": {
           "color": "#2a3f5f"
          },
          "geo": {
           "bgcolor": "white",
           "lakecolor": "white",
           "landcolor": "#E5ECF6",
           "showlakes": true,
           "showland": true,
           "subunitcolor": "white"
          },
          "hoverlabel": {
           "align": "left"
          },
          "hovermode": "closest",
          "mapbox": {
           "style": "light"
          },
          "paper_bgcolor": "white",
          "plot_bgcolor": "#E5ECF6",
          "polar": {
           "angularaxis": {
            "gridcolor": "white",
            "linecolor": "white",
            "ticks": ""
           },
           "bgcolor": "#E5ECF6",
           "radialaxis": {
            "gridcolor": "white",
            "linecolor": "white",
            "ticks": ""
           }
          },
          "scene": {
           "xaxis": {
            "backgroundcolor": "#E5ECF6",
            "gridcolor": "white",
            "gridwidth": 2,
            "linecolor": "white",
            "showbackground": true,
            "ticks": "",
            "zerolinecolor": "white"
           },
           "yaxis": {
            "backgroundcolor": "#E5ECF6",
            "gridcolor": "white",
            "gridwidth": 2,
            "linecolor": "white",
            "showbackground": true,
            "ticks": "",
            "zerolinecolor": "white"
           },
           "zaxis": {
            "backgroundcolor": "#E5ECF6",
            "gridcolor": "white",
            "gridwidth": 2,
            "linecolor": "white",
            "showbackground": true,
            "ticks": "",
            "zerolinecolor": "white"
           }
          },
          "shapedefaults": {
           "line": {
            "color": "#2a3f5f"
           }
          },
          "ternary": {
           "aaxis": {
            "gridcolor": "white",
            "linecolor": "white",
            "ticks": ""
           },
           "baxis": {
            "gridcolor": "white",
            "linecolor": "white",
            "ticks": ""
           },
           "bgcolor": "#E5ECF6",
           "caxis": {
            "gridcolor": "white",
            "linecolor": "white",
            "ticks": ""
           }
          },
          "title": {
           "x": 0.05
          },
          "xaxis": {
           "automargin": true,
           "gridcolor": "white",
           "linecolor": "white",
           "ticks": "",
           "title": {
            "standoff": 15
           },
           "zerolinecolor": "white",
           "zerolinewidth": 2
          },
          "yaxis": {
           "automargin": true,
           "gridcolor": "white",
           "linecolor": "white",
           "ticks": "",
           "title": {
            "standoff": 15
           },
           "zerolinecolor": "white",
           "zerolinewidth": 2
          }
         }
        },
        "title": {
         "text": "Histogram of Residuals circular-small Overestimation "
        },
        "xaxis": {
         "anchor": "y",
         "domain": [
          0,
          1
         ],
         "title": {
          "text": "Residuals circular-small (Overestimation vs Underestimation)"
         }
        },
        "xaxis2": {
         "anchor": "y2",
         "domain": [
          0,
          1
         ],
         "matches": "x",
         "showgrid": true,
         "showticklabels": false
        },
        "yaxis": {
         "anchor": "x",
         "domain": [
          0,
          0.8316
         ],
         "title": {
          "text": "Frequency"
         }
        },
        "yaxis2": {
         "anchor": "x2",
         "domain": [
          0.8416,
          1
         ],
         "matches": "y2",
         "showgrid": false,
         "showline": false,
         "showticklabels": false,
         "ticks": ""
        }
       }
      }
     },
     "metadata": {},
     "output_type": "display_data"
    },
    {
     "data": {
      "application/vnd.plotly.v1+json": {
       "config": {
        "plotlyServerURL": "https://plot.ly"
       },
       "data": [
        {
         "alignmentgroup": "True",
         "bingroup": "x",
         "hovertemplate": "overestimation=%{x}<br>count=%{y}<extra></extra>",
         "legendgroup": "",
         "marker": {
          "color": "#636efa",
          "pattern": {
           "shape": ""
          }
         },
         "name": "",
         "nbinsx": 30,
         "offsetgroup": "",
         "orientation": "v",
         "showlegend": false,
         "type": "histogram",
         "x": [
          0.9973022309122115,
          5.526412192379695,
          -4.937276930490313,
          1.3225031509718974,
          -0.775768650412914,
          5.998012830541398,
          -5.630771158544505,
          1.008652192411688,
          -0.24328713610609043,
          8.935418999867707,
          -1.2931395022683034,
          -1.7108299610818847,
          3.061333522325583,
          -5.284333157032307
         ],
         "xaxis": "x",
         "yaxis": "y"
        },
        {
         "alignmentgroup": "True",
         "customdata": [
          [
           "full body:undistorted_GX010152_36_378.jpg_gamma",
           "Prawn_0"
          ],
          [
           "full body:undistorted_GX010152_36_378.jpg_gamma",
           "Prawn_1"
          ],
          [
           "full body:undistorted_GX010157_160_2259",
           "Prawn_0"
          ],
          [
           "full body:undistorted_GX010157_174_2582.jpg_gamma",
           "Prawn_0"
          ],
          [
           "full body:undistorted_GX010157_177_2665.jpg_gamma",
           "Prawn_0"
          ],
          [
           "full body:undistorted_GX010161_54_676.jpg_gamma.jpg_gamma",
           "Prawn_0"
          ],
          [
           "full body:undistorted_GX010162_72_927.jpg_gamma.jpg_gamma",
           "Prawn_0"
          ],
          [
           "full body:undistorted_GX010174_62_790.jpg_gamma",
           "Prawn_0"
          ],
          [
           "full body:undistorted_GX010175_266_3372.jpg_gamma.jpg_gamma",
           "Prawn_0"
          ],
          [
           "full body:undistorted_GX010177_232_3047",
           "Prawn_0"
          ],
          [
           "full body:undistorted_GX010178_172_3604.jpg_gamma",
           "Prawn_0"
          ],
          [
           "full body:undistorted_GX010183_37_685.jpg_gamma",
           "Prawn_0"
          ],
          [
           "full body:undistorted_GX010183_80_1633.jpg_gamma",
           "Prawn_0"
          ],
          [
           "full body:undistorted_GX010183_128_2852.jpg_gamma",
           "Prawn_0"
          ]
         ],
         "hovertemplate": "overestimation=%{x}<br>Label=%{customdata[0]}<br>PrawnID=%{customdata[1]}<extra></extra>",
         "legendgroup": "",
         "marker": {
          "color": "#636efa"
         },
         "name": "",
         "notched": true,
         "offsetgroup": "",
         "showlegend": false,
         "type": "box",
         "x": [
          0.9973022309122115,
          5.526412192379695,
          -4.937276930490313,
          1.3225031509718974,
          -0.775768650412914,
          5.998012830541398,
          -5.630771158544505,
          1.008652192411688,
          -0.24328713610609043,
          8.935418999867707,
          -1.2931395022683034,
          -1.7108299610818847,
          3.061333522325583,
          -5.284333157032307
         ],
         "xaxis": "x2",
         "yaxis": "y2"
        }
       ],
       "layout": {
        "barmode": "relative",
        "legend": {
         "tracegroupgap": 0
        },
        "shapes": [
         {
          "line": {
           "color": "red",
           "dash": "dash"
          },
          "type": "line",
          "x0": 0,
          "x1": 0,
          "xref": "x",
          "y0": 0,
          "y1": 1,
          "yref": "y domain"
         },
         {
          "line": {
           "color": "red",
           "dash": "dash"
          },
          "type": "line",
          "x0": 0,
          "x1": 0,
          "xref": "x2",
          "y0": 0,
          "y1": 1,
          "yref": "y2 domain"
         }
        ],
        "template": {
         "data": {
          "bar": [
           {
            "error_x": {
             "color": "#2a3f5f"
            },
            "error_y": {
             "color": "#2a3f5f"
            },
            "marker": {
             "line": {
              "color": "#E5ECF6",
              "width": 0.5
             },
             "pattern": {
              "fillmode": "overlay",
              "size": 10,
              "solidity": 0.2
             }
            },
            "type": "bar"
           }
          ],
          "barpolar": [
           {
            "marker": {
             "line": {
              "color": "#E5ECF6",
              "width": 0.5
             },
             "pattern": {
              "fillmode": "overlay",
              "size": 10,
              "solidity": 0.2
             }
            },
            "type": "barpolar"
           }
          ],
          "carpet": [
           {
            "aaxis": {
             "endlinecolor": "#2a3f5f",
             "gridcolor": "white",
             "linecolor": "white",
             "minorgridcolor": "white",
             "startlinecolor": "#2a3f5f"
            },
            "baxis": {
             "endlinecolor": "#2a3f5f",
             "gridcolor": "white",
             "linecolor": "white",
             "minorgridcolor": "white",
             "startlinecolor": "#2a3f5f"
            },
            "type": "carpet"
           }
          ],
          "choropleth": [
           {
            "colorbar": {
             "outlinewidth": 0,
             "ticks": ""
            },
            "type": "choropleth"
           }
          ],
          "contour": [
           {
            "colorbar": {
             "outlinewidth": 0,
             "ticks": ""
            },
            "colorscale": [
             [
              0,
              "#0d0887"
             ],
             [
              0.1111111111111111,
              "#46039f"
             ],
             [
              0.2222222222222222,
              "#7201a8"
             ],
             [
              0.3333333333333333,
              "#9c179e"
             ],
             [
              0.4444444444444444,
              "#bd3786"
             ],
             [
              0.5555555555555556,
              "#d8576b"
             ],
             [
              0.6666666666666666,
              "#ed7953"
             ],
             [
              0.7777777777777778,
              "#fb9f3a"
             ],
             [
              0.8888888888888888,
              "#fdca26"
             ],
             [
              1,
              "#f0f921"
             ]
            ],
            "type": "contour"
           }
          ],
          "contourcarpet": [
           {
            "colorbar": {
             "outlinewidth": 0,
             "ticks": ""
            },
            "type": "contourcarpet"
           }
          ],
          "heatmap": [
           {
            "colorbar": {
             "outlinewidth": 0,
             "ticks": ""
            },
            "colorscale": [
             [
              0,
              "#0d0887"
             ],
             [
              0.1111111111111111,
              "#46039f"
             ],
             [
              0.2222222222222222,
              "#7201a8"
             ],
             [
              0.3333333333333333,
              "#9c179e"
             ],
             [
              0.4444444444444444,
              "#bd3786"
             ],
             [
              0.5555555555555556,
              "#d8576b"
             ],
             [
              0.6666666666666666,
              "#ed7953"
             ],
             [
              0.7777777777777778,
              "#fb9f3a"
             ],
             [
              0.8888888888888888,
              "#fdca26"
             ],
             [
              1,
              "#f0f921"
             ]
            ],
            "type": "heatmap"
           }
          ],
          "heatmapgl": [
           {
            "colorbar": {
             "outlinewidth": 0,
             "ticks": ""
            },
            "colorscale": [
             [
              0,
              "#0d0887"
             ],
             [
              0.1111111111111111,
              "#46039f"
             ],
             [
              0.2222222222222222,
              "#7201a8"
             ],
             [
              0.3333333333333333,
              "#9c179e"
             ],
             [
              0.4444444444444444,
              "#bd3786"
             ],
             [
              0.5555555555555556,
              "#d8576b"
             ],
             [
              0.6666666666666666,
              "#ed7953"
             ],
             [
              0.7777777777777778,
              "#fb9f3a"
             ],
             [
              0.8888888888888888,
              "#fdca26"
             ],
             [
              1,
              "#f0f921"
             ]
            ],
            "type": "heatmapgl"
           }
          ],
          "histogram": [
           {
            "marker": {
             "pattern": {
              "fillmode": "overlay",
              "size": 10,
              "solidity": 0.2
             }
            },
            "type": "histogram"
           }
          ],
          "histogram2d": [
           {
            "colorbar": {
             "outlinewidth": 0,
             "ticks": ""
            },
            "colorscale": [
             [
              0,
              "#0d0887"
             ],
             [
              0.1111111111111111,
              "#46039f"
             ],
             [
              0.2222222222222222,
              "#7201a8"
             ],
             [
              0.3333333333333333,
              "#9c179e"
             ],
             [
              0.4444444444444444,
              "#bd3786"
             ],
             [
              0.5555555555555556,
              "#d8576b"
             ],
             [
              0.6666666666666666,
              "#ed7953"
             ],
             [
              0.7777777777777778,
              "#fb9f3a"
             ],
             [
              0.8888888888888888,
              "#fdca26"
             ],
             [
              1,
              "#f0f921"
             ]
            ],
            "type": "histogram2d"
           }
          ],
          "histogram2dcontour": [
           {
            "colorbar": {
             "outlinewidth": 0,
             "ticks": ""
            },
            "colorscale": [
             [
              0,
              "#0d0887"
             ],
             [
              0.1111111111111111,
              "#46039f"
             ],
             [
              0.2222222222222222,
              "#7201a8"
             ],
             [
              0.3333333333333333,
              "#9c179e"
             ],
             [
              0.4444444444444444,
              "#bd3786"
             ],
             [
              0.5555555555555556,
              "#d8576b"
             ],
             [
              0.6666666666666666,
              "#ed7953"
             ],
             [
              0.7777777777777778,
              "#fb9f3a"
             ],
             [
              0.8888888888888888,
              "#fdca26"
             ],
             [
              1,
              "#f0f921"
             ]
            ],
            "type": "histogram2dcontour"
           }
          ],
          "mesh3d": [
           {
            "colorbar": {
             "outlinewidth": 0,
             "ticks": ""
            },
            "type": "mesh3d"
           }
          ],
          "parcoords": [
           {
            "line": {
             "colorbar": {
              "outlinewidth": 0,
              "ticks": ""
             }
            },
            "type": "parcoords"
           }
          ],
          "pie": [
           {
            "automargin": true,
            "type": "pie"
           }
          ],
          "scatter": [
           {
            "fillpattern": {
             "fillmode": "overlay",
             "size": 10,
             "solidity": 0.2
            },
            "type": "scatter"
           }
          ],
          "scatter3d": [
           {
            "line": {
             "colorbar": {
              "outlinewidth": 0,
              "ticks": ""
             }
            },
            "marker": {
             "colorbar": {
              "outlinewidth": 0,
              "ticks": ""
             }
            },
            "type": "scatter3d"
           }
          ],
          "scattercarpet": [
           {
            "marker": {
             "colorbar": {
              "outlinewidth": 0,
              "ticks": ""
             }
            },
            "type": "scattercarpet"
           }
          ],
          "scattergeo": [
           {
            "marker": {
             "colorbar": {
              "outlinewidth": 0,
              "ticks": ""
             }
            },
            "type": "scattergeo"
           }
          ],
          "scattergl": [
           {
            "marker": {
             "colorbar": {
              "outlinewidth": 0,
              "ticks": ""
             }
            },
            "type": "scattergl"
           }
          ],
          "scattermapbox": [
           {
            "marker": {
             "colorbar": {
              "outlinewidth": 0,
              "ticks": ""
             }
            },
            "type": "scattermapbox"
           }
          ],
          "scatterpolar": [
           {
            "marker": {
             "colorbar": {
              "outlinewidth": 0,
              "ticks": ""
             }
            },
            "type": "scatterpolar"
           }
          ],
          "scatterpolargl": [
           {
            "marker": {
             "colorbar": {
              "outlinewidth": 0,
              "ticks": ""
             }
            },
            "type": "scatterpolargl"
           }
          ],
          "scatterternary": [
           {
            "marker": {
             "colorbar": {
              "outlinewidth": 0,
              "ticks": ""
             }
            },
            "type": "scatterternary"
           }
          ],
          "surface": [
           {
            "colorbar": {
             "outlinewidth": 0,
             "ticks": ""
            },
            "colorscale": [
             [
              0,
              "#0d0887"
             ],
             [
              0.1111111111111111,
              "#46039f"
             ],
             [
              0.2222222222222222,
              "#7201a8"
             ],
             [
              0.3333333333333333,
              "#9c179e"
             ],
             [
              0.4444444444444444,
              "#bd3786"
             ],
             [
              0.5555555555555556,
              "#d8576b"
             ],
             [
              0.6666666666666666,
              "#ed7953"
             ],
             [
              0.7777777777777778,
              "#fb9f3a"
             ],
             [
              0.8888888888888888,
              "#fdca26"
             ],
             [
              1,
              "#f0f921"
             ]
            ],
            "type": "surface"
           }
          ],
          "table": [
           {
            "cells": {
             "fill": {
              "color": "#EBF0F8"
             },
             "line": {
              "color": "white"
             }
            },
            "header": {
             "fill": {
              "color": "#C8D4E3"
             },
             "line": {
              "color": "white"
             }
            },
            "type": "table"
           }
          ]
         },
         "layout": {
          "annotationdefaults": {
           "arrowcolor": "#2a3f5f",
           "arrowhead": 0,
           "arrowwidth": 1
          },
          "autotypenumbers": "strict",
          "coloraxis": {
           "colorbar": {
            "outlinewidth": 0,
            "ticks": ""
           }
          },
          "colorscale": {
           "diverging": [
            [
             0,
             "#8e0152"
            ],
            [
             0.1,
             "#c51b7d"
            ],
            [
             0.2,
             "#de77ae"
            ],
            [
             0.3,
             "#f1b6da"
            ],
            [
             0.4,
             "#fde0ef"
            ],
            [
             0.5,
             "#f7f7f7"
            ],
            [
             0.6,
             "#e6f5d0"
            ],
            [
             0.7,
             "#b8e186"
            ],
            [
             0.8,
             "#7fbc41"
            ],
            [
             0.9,
             "#4d9221"
            ],
            [
             1,
             "#276419"
            ]
           ],
           "sequential": [
            [
             0,
             "#0d0887"
            ],
            [
             0.1111111111111111,
             "#46039f"
            ],
            [
             0.2222222222222222,
             "#7201a8"
            ],
            [
             0.3333333333333333,
             "#9c179e"
            ],
            [
             0.4444444444444444,
             "#bd3786"
            ],
            [
             0.5555555555555556,
             "#d8576b"
            ],
            [
             0.6666666666666666,
             "#ed7953"
            ],
            [
             0.7777777777777778,
             "#fb9f3a"
            ],
            [
             0.8888888888888888,
             "#fdca26"
            ],
            [
             1,
             "#f0f921"
            ]
           ],
           "sequentialminus": [
            [
             0,
             "#0d0887"
            ],
            [
             0.1111111111111111,
             "#46039f"
            ],
            [
             0.2222222222222222,
             "#7201a8"
            ],
            [
             0.3333333333333333,
             "#9c179e"
            ],
            [
             0.4444444444444444,
             "#bd3786"
            ],
            [
             0.5555555555555556,
             "#d8576b"
            ],
            [
             0.6666666666666666,
             "#ed7953"
            ],
            [
             0.7777777777777778,
             "#fb9f3a"
            ],
            [
             0.8888888888888888,
             "#fdca26"
            ],
            [
             1,
             "#f0f921"
            ]
           ]
          },
          "colorway": [
           "#636efa",
           "#EF553B",
           "#00cc96",
           "#ab63fa",
           "#FFA15A",
           "#19d3f3",
           "#FF6692",
           "#B6E880",
           "#FF97FF",
           "#FECB52"
          ],
          "font": {
           "color": "#2a3f5f"
          },
          "geo": {
           "bgcolor": "white",
           "lakecolor": "white",
           "landcolor": "#E5ECF6",
           "showlakes": true,
           "showland": true,
           "subunitcolor": "white"
          },
          "hoverlabel": {
           "align": "left"
          },
          "hovermode": "closest",
          "mapbox": {
           "style": "light"
          },
          "paper_bgcolor": "white",
          "plot_bgcolor": "#E5ECF6",
          "polar": {
           "angularaxis": {
            "gridcolor": "white",
            "linecolor": "white",
            "ticks": ""
           },
           "bgcolor": "#E5ECF6",
           "radialaxis": {
            "gridcolor": "white",
            "linecolor": "white",
            "ticks": ""
           }
          },
          "scene": {
           "xaxis": {
            "backgroundcolor": "#E5ECF6",
            "gridcolor": "white",
            "gridwidth": 2,
            "linecolor": "white",
            "showbackground": true,
            "ticks": "",
            "zerolinecolor": "white"
           },
           "yaxis": {
            "backgroundcolor": "#E5ECF6",
            "gridcolor": "white",
            "gridwidth": 2,
            "linecolor": "white",
            "showbackground": true,
            "ticks": "",
            "zerolinecolor": "white"
           },
           "zaxis": {
            "backgroundcolor": "#E5ECF6",
            "gridcolor": "white",
            "gridwidth": 2,
            "linecolor": "white",
            "showbackground": true,
            "ticks": "",
            "zerolinecolor": "white"
           }
          },
          "shapedefaults": {
           "line": {
            "color": "#2a3f5f"
           }
          },
          "ternary": {
           "aaxis": {
            "gridcolor": "white",
            "linecolor": "white",
            "ticks": ""
           },
           "baxis": {
            "gridcolor": "white",
            "linecolor": "white",
            "ticks": ""
           },
           "bgcolor": "#E5ECF6",
           "caxis": {
            "gridcolor": "white",
            "linecolor": "white",
            "ticks": ""
           }
          },
          "title": {
           "x": 0.05
          },
          "xaxis": {
           "automargin": true,
           "gridcolor": "white",
           "linecolor": "white",
           "ticks": "",
           "title": {
            "standoff": 15
           },
           "zerolinecolor": "white",
           "zerolinewidth": 2
          },
          "yaxis": {
           "automargin": true,
           "gridcolor": "white",
           "linecolor": "white",
           "ticks": "",
           "title": {
            "standoff": 15
           },
           "zerolinecolor": "white",
           "zerolinewidth": 2
          }
         }
        },
        "title": {
         "text": "Histogram of Residuals square-female Overestimation "
        },
        "xaxis": {
         "anchor": "y",
         "domain": [
          0,
          1
         ],
         "title": {
          "text": "Residuals square-female (Overestimation vs Underestimation)"
         }
        },
        "xaxis2": {
         "anchor": "y2",
         "domain": [
          0,
          1
         ],
         "matches": "x",
         "showgrid": true,
         "showticklabels": false
        },
        "yaxis": {
         "anchor": "x",
         "domain": [
          0,
          0.8316
         ],
         "title": {
          "text": "Frequency"
         }
        },
        "yaxis2": {
         "anchor": "x2",
         "domain": [
          0.8416,
          1
         ],
         "matches": "y2",
         "showgrid": false,
         "showline": false,
         "showticklabels": false,
         "ticks": ""
        }
       }
      }
     },
     "metadata": {},
     "output_type": "display_data"
    }
   ],
   "source": [
    "import plotly.express as px\n",
    "\n",
    "\n",
    "\n",
    "\n",
    "\n",
    "df['min_mpe_length-'] = df.apply(lambda row: row['Length_FOV_box'] - row['Length_FOV_box'] * row['min_mpe']/100, axis=1)\n",
    "                                \n",
    "df['min_mpe_length+']= df.apply(lambda row: row['Length_FOV_box'] + row['Length_FOV_box'] * row['min_mpe']/100, axis=1)\n",
    "\n",
    "df['min_mae_length-'] = df.apply(lambda row: row['Length_FOV_box'] -  row['min_mae'], axis=1)\n",
    "df['min_mae_length+'] = df.apply(lambda row: row['Length_FOV_box'] +  row['min_mae'], axis=1)\n",
    "\n",
    "\n",
    "\n",
    "\n",
    "def get_closest_length_and_distance(row, target_length1,true_length2):\n",
    "    lengths = [row['Length_1'], row['Length_2'], row['Length_3']]\n",
    "    closest_length_1 = min(lengths, key=lambda x: abs(x - target_length1))\n",
    "    distance_1 = abs(closest_length_1 - target_length1)\n",
    "    closest_length_2 = min(lengths, key=lambda x: abs(x - true_length2))\n",
    "    distance_2 = abs(closest_length_2 - true_length2)\n",
    "\n",
    "    if distance_1 < distance_2:\n",
    "        closest_length = closest_length_1\n",
    "        distance = distance_1\n",
    "    else:\n",
    "        closest_length = closest_length_2\n",
    "        distance = distance_2\n",
    "\n",
    "\n",
    "    return closest_length, distance\n",
    "\n",
    "# Apply the function to find the closest length and distance to min_mpe_length-\n",
    "df['closest_length_min_mpe'] = df.apply(\n",
    "    lambda row: (get_closest_length_and_distance(row, row['min_mpe_length-'],row['min_mpe_length+'])), axis=1\n",
    ")\n",
    "\n",
    "df['closest_length_min_mae'] = df.apply( lambda row: (get_closest_length_and_distance(row, row['min_mae_length-'],row['min_mae_length+'])), axis=1)\n",
    "\n",
    "# Apply the function to find the closest length and distance to min_mpe_length+\n",
    "df['closest_length_min_mae_value']=df['closest_length_min_mae'].apply(lambda x: x[0] if isinstance(x, tuple) else x)\n",
    "# Assuming df contains the columns 'predicted_length' and 'true_length'\n",
    "#take the overestimation from the min_percentage_error length\n",
    "# find the true length when min_mpe is used\n",
    "\n",
    "#min_mpe_length will be decided by the min_mpe percentage error \n",
    "\n",
    "\n",
    "df['closest_length_min_mpe_value'] = df['closest_length_min_mpe'].apply(lambda x: x[0] if isinstance(x, tuple) else x)\n",
    "\n",
    "# Calculate overestimation\n",
    "df['overestimation'] = df['Length_FOV_box'] - df['closest_length_min_mae_value']\n",
    "\n",
    "\n",
    "\n",
    "\n",
    "\n",
    "\n",
    "\n",
    "\n",
    "\n",
    "\n",
    "\n",
    "\n",
    "\n",
    "\n",
    "                                 #approximatly equal to length_1 \n",
    "\n",
    "# df['overestimation'] = df['Length_FOV_box'] - df['closest_length_min_mpe']\n",
    "\n",
    "\n",
    "\n",
    "\n",
    "\n",
    "\n",
    "for pond_type in df['PondType'].unique():\n",
    "    fig = px.histogram(df[df['PondType'] == pond_type], x='overestimation', nbins=30, marginal=\"box\", title=f\"Histogram of Residuals {pond_type} Overestimation \",hover_data=['Label', 'PrawnID'])\n",
    "    fig.update_layout(\n",
    "    xaxis_title=f\"Residuals {pond_type} (Overestimation vs Underestimation)\",\n",
    "    yaxis_title=\"Frequency\",\n",
    "    )\n",
    "    # Add a vertical line at 0 to show the separation between overestimation and underestimation\n",
    "    fig.add_vline(x=0, line_dash=\"dash\", line_color=\"red\")\n",
    "\n",
    "    # Save the plot to a file\n",
    "    fig.write_image(f'histogram_residuals {pond_type}.png')\n",
    "\n",
    "    fig.show()\n",
    "\n",
    "# df['underestimation'] = df['Length_FOV_box'] - df['expert_min']\n",
    "\n",
    "# for pond_type in df['PondType'].unique():\n",
    "#     fig = px.histogram(df[df['PondType'] == pond_type], x='underestimation', nbins=30, marginal=\"box\", title=f\"Histogram of Residuals {pond_type}  Underestimation)\",hover_data=['Label', 'PrawnID'])\n",
    "#     fig.update_layout(\n",
    "#     xaxis_title=f\"Residuals {pond_type} (Overestimation vs Underestimation)\",\n",
    "#     yaxis_title=\"Frequency\",\n",
    "#     )\n",
    "#     # Add a vertical line at 0 to show the separation between overestimation and underestimation\n",
    "#     fig.add_vline(x=0, line_dash=\"dash\", line_color=\"red\")\n",
    "\n",
    "#     # Save the plot to a file\n",
    "#     fig.write_image(f'histogram_residuals {pond_type}.png')\n",
    "\n",
    "#     fig.show()\n",
    "\n",
    "# Calculate overestimation and underestimation counts\n",
    "\n",
    "\n"
   ]
  },
  {
   "cell_type": "code",
   "execution_count": 12,
   "metadata": {},
   "outputs": [
    {
     "data": {
      "application/vnd.plotly.v1+json": {
       "config": {
        "plotlyServerURL": "https://plot.ly"
       },
       "data": [
        {
         "customdata": [
          [
           "full body:undistorted_GX010077_14_237.jpg_gamma",
           "Prawn_0"
          ],
          [
           "full body:undistorted_GX010077_14_237.jpg_gamma",
           "Prawn_1"
          ],
          [
           "full body:undistorted_GX010077_14_237.jpg_gamma",
           "Prawn_2"
          ],
          [
           "full body:undistorted_GX010067_33_625.jpg_gamma",
           "Prawn_0"
          ],
          [
           "full body:undistorted_GX010067_33_625.jpg_gamma",
           "Prawn_1"
          ],
          [
           "full body:undistorted_GX010067_33_625.jpg_gamma",
           "Prawn_2"
          ],
          [
           "full body:undistorted_GX010067_33_625.jpg_gamma",
           "Prawn_3"
          ],
          [
           "full body:undistorted_GX010068_26_666.jpg_gamma",
           "Prawn_0"
          ],
          [
           "full body:undistorted_GX010068_26_666.jpg_gamma",
           "Prawn_1"
          ],
          [
           "full body:undistorted_GX010068_26_666.jpg_gamma",
           "Prawn_2"
          ],
          [
           "full body:undistorted_GX010068_27_795.jpg_gamma",
           "Prawn_0"
          ],
          [
           "full body:undistorted_GX010068_27_795.jpg_gamma",
           "Prawn_1"
          ],
          [
           "full body:undistorted_GX010069_19_191.jpg_gamma",
           "Prawn_0"
          ],
          [
           "full body:undistorted_GX010069_19_191.jpg_gamma",
           "Prawn_1"
          ],
          [
           "full body:undistorted_GX010069_19_191.jpg_gamma",
           "Prawn_2"
          ],
          [
           "full body:undistorted_GX010069_19_191.jpg_gamma",
           "Prawn_3"
          ],
          [
           "full body:undistorted_GX010071_22_444.jpg_gamma",
           "Prawn_0"
          ],
          [
           "full body:undistorted_GX010071_22_444.jpg_gamma",
           "Prawn_1"
          ],
          [
           "full body:undistorted_GX010073_42_695.jpg_gamma",
           "Prawn_0"
          ],
          [
           "full body:undistorted_GX010073_42_695.jpg_gamma",
           "Prawn_1"
          ],
          [
           "full body:undistorted_GX010073_42_695.jpg_gamma",
           "Prawn_2"
          ],
          [
           "full body:undistorted_GX010073_55_1014.jpg_gamma",
           "Prawn_0"
          ],
          [
           "full body:undistorted_GX010073_55_1014.jpg_gamma",
           "Prawn_1"
          ],
          [
           "full body:undistorted_GX010073_55_1014.jpg_gamma",
           "Prawn_2"
          ],
          [
           "full body:undistorted_GX010080_157_2283.jpg_gamma",
           "Prawn_0"
          ],
          [
           "full body:undistorted_GX010080_157_2283.jpg_gamma",
           "Prawn_2"
          ],
          [
           "full body:undistorted_GX010080_157_2283.jpg_gamma",
           "Prawn_3"
          ],
          [
           "full body:undistorted_GX010080_193_2640.jpg_gamma",
           "Prawn_0"
          ],
          [
           "full body:undistorted_GX010080_193_2640.jpg_gamma",
           "Prawn_1"
          ],
          [
           "full body:undistorted_GX010080_193_2640.jpg_gamma",
           "Prawn_2"
          ],
          [
           "full body:undistorted_GX010080_193_2640.jpg_gamma",
           "Prawn_3"
          ],
          [
           "full body:undistorted_GX010080_193_2640.jpg_gamma",
           "Prawn_4"
          ],
          [
           "full body:undistorted_GX010080_212_2954.jpg_gamma",
           "Prawn_0"
          ],
          [
           "full body:undistorted_GX010080_212_2954.jpg_gamma",
           "Prawn_1"
          ],
          [
           "full body:undistorted_GX010080_212_2954.jpg_gamma",
           "Prawn_2"
          ],
          [
           "full body:undistorted_GX010080_237_3366.jpg_gamma",
           "Prawn_0"
          ],
          [
           "full body:undistorted_GX010080_237_3366.jpg_gamma",
           "Prawn_1"
          ],
          [
           "full body:undistorted_GX010080_237_3366.jpg_gamma",
           "Prawn_2"
          ],
          [
           "full body:undistorted_GX010080_237_3366.jpg_gamma",
           "Prawn_3"
          ],
          [
           "full body:undistorted_GX010080_237_3366.jpg_gamma",
           "Prawn_4"
          ],
          [
           "full body:undistorted_GX010080_238_3392.jpg_gamma",
           "Prawn_0"
          ],
          [
           "full body:undistorted_GX010080_238_3392.jpg_gamma",
           "Prawn_1"
          ],
          [
           "full body:undistorted_GX010080_238_3392.jpg_gamma",
           "Prawn_2"
          ],
          [
           "full body:undistorted_GX010080_238_3392.jpg_gamma",
           "Prawn_3"
          ],
          [
           "full body:undistorted_GX010082_8_59.jpg_gamma",
           "Prawn_1"
          ],
          [
           "full body:undistorted_GX010082_8_59.jpg_gamma",
           "Prawn_2"
          ],
          [
           "full body:undistorted_GX010082_8_59.jpg_gamma",
           "Prawn_3"
          ],
          [
           "full body:undistorted_GX010082_8_59.jpg_gamma",
           "Prawn_4"
          ],
          [
           "full body:undistorted_GX010082_53_796.jpg_gamma",
           "Prawn_0"
          ],
          [
           "full body:undistorted_GX010082_53_796.jpg_gamma",
           "Prawn_1"
          ],
          [
           "full body:undistorted_GX010082_65_1070.jpg_gamma",
           "Prawn_0"
          ],
          [
           "full body:undistorted_GX010082_65_1070.jpg_gamma",
           "Prawn_1"
          ],
          [
           "full body:undistorted_GX010082_65_1070.jpg_gamma",
           "Prawn_2"
          ],
          [
           "full body:undistorted_GX010082_236_3137.jpg_gamma",
           "Prawn_0"
          ],
          [
           "full body:undistorted_GX010082_236_3137.jpg_gamma",
           "Prawn_1"
          ],
          [
           "full body:undistorted_GX010082_236_3137.jpg_gamma",
           "Prawn_2"
          ],
          [
           "full body:undistorted_GX010084_30_344.jpg_gamma",
           "Prawn_0"
          ],
          [
           "full body:undistorted_GX010084_30_344.jpg_gamma",
           "Prawn_1"
          ],
          [
           "full body:undistorted_GX010084_30_344.jpg_gamma",
           "Prawn_2"
          ],
          [
           "full body:undistorted_GX010084_30_344.jpg_gamma",
           "Prawn_3"
          ],
          [
           "full body:undistorted_GX010084_130_1748.jpg_gamma",
           "Prawn_0"
          ],
          [
           "full body:undistorted_GX010084_130_1748.jpg_gamma",
           "Prawn_1"
          ],
          [
           "full body:undistorted_GX010084_130_1748.jpg_gamma",
           "Prawn_2"
          ],
          [
           "full body:undistorted_GX010085_261_3610.jpg_gamma",
           "Prawn_0"
          ],
          [
           "full body:undistorted_GX010085_261_3610.jpg_gamma",
           "Prawn_1"
          ],
          [
           "full body:undistorted_GX010088_209_2904.jpg_gamma",
           "Prawn_0"
          ],
          [
           "full body:undistorted_GX010088_209_2904.jpg_gamma",
           "Prawn_1"
          ],
          [
           "full body:undistorted_GX010088_262_3712.jpg_gamma",
           "Prawn_0"
          ],
          [
           "full body:undistorted_GX010088_262_3712.jpg_gamma",
           "Prawn_1"
          ],
          [
           "full body:undistorted_GX010088_262_3712.jpg_gamma",
           "Prawn_2"
          ],
          [
           "full body:undistorted_GX010088_327_4364.jpg_gamma",
           "Prawn_0"
          ],
          [
           "full body:undistorted_GX010088_327_4364.jpg_gamma",
           "Prawn_1"
          ],
          [
           "full body:undistorted_GX010088_327_4364.jpg_gamma",
           "Prawn_2"
          ],
          [
           "full body:undistorted_GX010088_327_4364.jpg_gamma",
           "Prawn_3"
          ],
          [
           "full body:undistorted_GX010090_132_1852.jpg_gamma",
           "Prawn_0"
          ],
          [
           "full body:undistorted_GX010094_9_129.jpg_gamma",
           "Prawn_0"
          ],
          [
           "full body:undistorted_GX010094_9_129.jpg_gamma",
           "Prawn_1"
          ],
          [
           "full body:undistorted_GX010094_24_430.jpg_gamma",
           "Prawn_0"
          ],
          [
           "full body:undistorted_GX010094_93_1258.jpg_gamma",
           "Prawn_0"
          ],
          [
           "full body:undistorted_GX010094_163_2312.jpg_gamma",
           "Prawn_0"
          ],
          [
           "full body:undistorted_GX010097_32_528.jpg_gamma",
           "Prawn_0"
          ],
          [
           "full body:undistorted_GX010097_32_528.jpg_gamma",
           "Prawn_1"
          ],
          [
           "full body:undistorted_GX010097_60_1080.jpg_gamma",
           "Prawn_0"
          ],
          [
           "full body:undistorted_GX010097_60_1080.jpg_gamma",
           "Prawn_1"
          ],
          [
           "full body:undistorted_GX010097_60_1080.jpg_gamma",
           "Prawn_2"
          ],
          [
           "full body:undistorted_GX010097_60_1080.jpg_gamma",
           "Prawn_3"
          ],
          [
           "full body:undistorted_GX010097_105_1651.jpg_gamma",
           "Prawn_0"
          ],
          [
           "full body:undistorted_GX010097_105_1651.jpg_gamma",
           "Prawn_1"
          ],
          [
           "full body:undistorted_GX010097_105_1651.jpg_gamma",
           "Prawn_2"
          ],
          [
           "full body:undistorted_GX010097_105_1651.jpg_gamma",
           "Prawn_3"
          ],
          [
           "full body:undistorted_GX010097_124_1870.jpg_gamma",
           "Prawn_0"
          ],
          [
           "full body:undistorted_GX010097_124_1870.jpg_gamma",
           "Prawn_1"
          ],
          [
           "full body:undistorted_GX010101_12_173.jpg_gamma",
           "Prawn_0"
          ]
         ],
         "hovertemplate": "PondType=circular-big<br>Length_box_focal=%{x}<br>closest_length_min_mae_value=%{y}<br>Label=%{customdata[0]}<br>PrawnID=%{customdata[1]}<extra></extra>",
         "legendgroup": "circular-big",
         "marker": {
          "color": "#636efa",
          "symbol": "circle"
         },
         "mode": "markers",
         "name": "circular-big",
         "orientation": "v",
         "showlegend": true,
         "type": "scatter",
         "x": [
          89.3225931271463,
          145.0776899259116,
          124.5061640232233,
          151.3669259331299,
          97.53128588090674,
          172.3179697488545,
          112.7986348828508,
          138.8616191111233,
          147.2809831857683,
          143.8580204267206,
          159.0526285993433,
          145.0325202173814,
          109.7425090686529,
          108.1169612186207,
          136.5015611264421,
          134.8814301466786,
          161.4552851513672,
          139.055303426396,
          104.734325436158,
          102.9215024019198,
          168.0281080465421,
          128.3602797006098,
          127.8483355351542,
          121.7258617483482,
          149.318724908199,
          141.8052887015419,
          144.1527780494477,
          154.8904752301841,
          139.2641899259709,
          148.1762645322376,
          129.097498270393,
          150.0097378242164,
          158.0952529450714,
          150.1146303996482,
          148.5421653819949,
          153.6289685209921,
          165.7215198135448,
          119.9496400322268,
          140.1166355610072,
          166.1114595852776,
          150.3957335152927,
          160.9556724785968,
          122.911607161387,
          157.0888883142919,
          138.8412122381067,
          138.0315024643601,
          144.916581719858,
          122.2381928331087,
          95.27796769930671,
          149.2102626901478,
          132.7419536095947,
          175.6046120998981,
          147.2350271573604,
          94.56692234830982,
          159.1615900681105,
          123.7762719576974,
          135.3413523875269,
          141.5423707932278,
          142.1927322196947,
          168.846529745283,
          148.5829292029564,
          98.16544038100548,
          161.676053817983,
          160.2302986320507,
          134.0730184247936,
          128.1938669556987,
          140.6620669682386,
          148.2258401283365,
          147.1251046309648,
          169.7770831548377,
          136.184212408816,
          139.4433460454079,
          124.8920224203528,
          138.7143900749745,
          160.701828452046,
          117.5214218435436,
          145.3904829807543,
          138.2059781083346,
          134.4926511328605,
          149.0970950340982,
          133.4714213120121,
          175.7712619888993,
          144.3036141720196,
          163.5944746192893,
          151.7531962121001,
          110.9939309133816,
          185.0677222026833,
          183.2104970578907,
          143.4915953637114,
          153.2652518931173,
          139.2966537037788,
          122.4032576010866,
          170.902082237007
         ],
         "xaxis": "x",
         "y": [
          79.583,
          127.259,
          117.192,
          134.216,
          90.369,
          158.139,
          96.879,
          118.717,
          122.21,
          126.233,
          144.42,
          134.818,
          105.422,
          89.127,
          113.246,
          114.768,
          139.806,
          128.915,
          82.903,
          92.512,
          162.885,
          117.174,
          112.917,
          95.746,
          109.073,
          103.479,
          109.724,
          124.807,
          118.56,
          120.422,
          114.47,
          118.81,
          126.784,
          131.398,
          144.761,
          133.284,
          136.319,
          99.101,
          126.524,
          153.254,
          129.329,
          130.07,
          107.675,
          133.5,
          134.216,
          133.347,
          134.589,
          103.009,
          85.486,
          143.966,
          106.142,
          130.742,
          120.173,
          70.584,
          119.107,
          117.102,
          119.335,
          127.583,
          133.814,
          145.806,
          146.132,
          82.15,
          154.766,
          132.812,
          125.5,
          111.331,
          128.071,
          144.151,
          144.056,
          166.314,
          122.281,
          143.117,
          124.574,
          132.69,
          141.534,
          98.983,
          124.142,
          118.59,
          126.684,
          126.377,
          112.325,
          101.357,
          116.076,
          140.224,
          107.814,
          101.945,
          130.514,
          158.958,
          106.004,
          102.896,
          105.651,
          102.153,
          159.478
         ],
         "yaxis": "y"
        },
        {
         "customdata": [
          [
           "full body:undistorted_GX010089_11_236.jpg_gamma",
           "Prawn_0"
          ],
          [
           "full body:undistorted_GX010089_11_236.jpg_gamma",
           "Prawn_1"
          ],
          [
           "full body:undistorted_GX010089_11_236.jpg_gamma",
           "Prawn_2"
          ],
          [
           "full body:undistorted_GX010089_11_236.jpg_gamma",
           "Prawn_3"
          ],
          [
           "full body:undistorted_GX010091_5_149.jpg_gamma",
           "Prawn_0"
          ],
          [
           "full body:undistorted_GX010091_5_149.jpg_gamma",
           "Prawn_1"
          ],
          [
           "full body:undistorted_GX010091_5_149.jpg_gamma",
           "Prawn_2"
          ],
          [
           "full body:undistorted_GX010102_9_165.jpg_gamma",
           "Prawn_1"
          ],
          [
           "full body:undistorted_GX010102_9_165.jpg_gamma",
           "Prawn_2"
          ],
          [
           "full body:undistorted_GX010102_9_165.jpg_gamma",
           "Prawn_3"
          ],
          [
           "full body:undistorted_GX010102_9_165.jpg_gamma",
           "Prawn_4"
          ],
          [
           "full body:undistorted_GX010102_9_165.jpg_gamma",
           "Prawn_5"
          ],
          [
           "full body:undistorted_GX010102_50_1396.jpg_gamma",
           "Prawn_0"
          ],
          [
           "full body:undistorted_GX010105_28_816.jpg_gamma",
           "Prawn_0"
          ],
          [
           "full body:undistorted_GX010105_28_816.jpg_gamma",
           "Prawn_1"
          ]
         ],
         "hovertemplate": "PondType=circular-small<br>Length_box_focal=%{x}<br>closest_length_min_mae_value=%{y}<br>Label=%{customdata[0]}<br>PrawnID=%{customdata[1]}<extra></extra>",
         "legendgroup": "circular-small",
         "marker": {
          "color": "#EF553B",
          "symbol": "circle"
         },
         "mode": "markers",
         "name": "circular-small",
         "orientation": "v",
         "showlegend": true,
         "type": "scatter",
         "x": [
          106.1939041063382,
          93.60894183259354,
          111.6362188797123,
          49.97206309371978,
          102.9783396956927,
          128.8023143643622,
          81.33274116415983,
          124.6906544445414,
          107.1166283045685,
          107.1166283045685,
          97.67019413579531,
          99.01541405292933,
          164.7673635583131,
          82.5056541056218,
          134.0485207682179
         ],
         "xaxis": "x",
         "y": [
          76.238,
          71.716,
          85.19,
          49.658,
          79.879,
          105.817,
          39.163,
          96.051,
          51.211,
          62.909,
          71.703,
          75.202,
          135.607,
          62.636,
          103
         ],
         "yaxis": "y"
        },
        {
         "customdata": [
          [
           "full body:undistorted_GX010152_36_378.jpg_gamma",
           "Prawn_0"
          ],
          [
           "full body:undistorted_GX010152_36_378.jpg_gamma",
           "Prawn_1"
          ],
          [
           "full body:undistorted_GX010157_160_2259",
           "Prawn_0"
          ],
          [
           "full body:undistorted_GX010157_174_2582.jpg_gamma",
           "Prawn_0"
          ],
          [
           "full body:undistorted_GX010157_177_2665.jpg_gamma",
           "Prawn_0"
          ],
          [
           "full body:undistorted_GX010161_54_676.jpg_gamma.jpg_gamma",
           "Prawn_0"
          ],
          [
           "full body:undistorted_GX010162_72_927.jpg_gamma.jpg_gamma",
           "Prawn_0"
          ],
          [
           "full body:undistorted_GX010174_62_790.jpg_gamma",
           "Prawn_0"
          ],
          [
           "full body:undistorted_GX010175_266_3372.jpg_gamma.jpg_gamma",
           "Prawn_0"
          ],
          [
           "full body:undistorted_GX010177_232_3047",
           "Prawn_0"
          ],
          [
           "full body:undistorted_GX010178_172_3604.jpg_gamma",
           "Prawn_0"
          ],
          [
           "full body:undistorted_GX010183_37_685.jpg_gamma",
           "Prawn_0"
          ],
          [
           "full body:undistorted_GX010183_80_1633.jpg_gamma",
           "Prawn_0"
          ],
          [
           "full body:undistorted_GX010183_128_2852.jpg_gamma",
           "Prawn_0"
          ]
         ],
         "hovertemplate": "PondType=square-female<br>Length_box_focal=%{x}<br>closest_length_min_mae_value=%{y}<br>Label=%{customdata[0]}<br>PrawnID=%{customdata[1]}<extra></extra>",
         "legendgroup": "square-female",
         "marker": {
          "color": "#00cc96",
          "symbol": "circle"
         },
         "mode": "markers",
         "name": "square-female",
         "orientation": "v",
         "showlegend": true,
         "type": "scatter",
         "x": [
          108.8791857401872,
          134.3175048505073,
          101.000477397582,
          103.3792504366603,
          127.4926191487934,
          106.1308385340452,
          103.679572290645,
          117.8267796421107,
          125.3593360466124,
          134.1164581298546,
          139.0814935978948,
          97.86650756210543,
          149.869182509896,
          126.4765198649712
         ],
         "xaxis": "x",
         "y": [
          106.231,
          126.275,
          104.915,
          102.04,
          128.091,
          98.682,
          109.173,
          114.507,
          123.225,
          125.159,
          140.357,
          99.404,
          144.127,
          131.258
         ],
         "yaxis": "y"
        },
        {
         "mode": "lines",
         "name": "line",
         "type": "scatter",
         "x": [
          0,
          200
         ],
         "y": [
          0,
          200
         ]
        }
       ],
       "layout": {
        "legend": {
         "title": {
          "text": "PondType"
         },
         "tracegroupgap": 0
        },
        "margin": {
         "t": 60
        },
        "template": {
         "data": {
          "bar": [
           {
            "error_x": {
             "color": "#2a3f5f"
            },
            "error_y": {
             "color": "#2a3f5f"
            },
            "marker": {
             "line": {
              "color": "#E5ECF6",
              "width": 0.5
             },
             "pattern": {
              "fillmode": "overlay",
              "size": 10,
              "solidity": 0.2
             }
            },
            "type": "bar"
           }
          ],
          "barpolar": [
           {
            "marker": {
             "line": {
              "color": "#E5ECF6",
              "width": 0.5
             },
             "pattern": {
              "fillmode": "overlay",
              "size": 10,
              "solidity": 0.2
             }
            },
            "type": "barpolar"
           }
          ],
          "carpet": [
           {
            "aaxis": {
             "endlinecolor": "#2a3f5f",
             "gridcolor": "white",
             "linecolor": "white",
             "minorgridcolor": "white",
             "startlinecolor": "#2a3f5f"
            },
            "baxis": {
             "endlinecolor": "#2a3f5f",
             "gridcolor": "white",
             "linecolor": "white",
             "minorgridcolor": "white",
             "startlinecolor": "#2a3f5f"
            },
            "type": "carpet"
           }
          ],
          "choropleth": [
           {
            "colorbar": {
             "outlinewidth": 0,
             "ticks": ""
            },
            "type": "choropleth"
           }
          ],
          "contour": [
           {
            "colorbar": {
             "outlinewidth": 0,
             "ticks": ""
            },
            "colorscale": [
             [
              0,
              "#0d0887"
             ],
             [
              0.1111111111111111,
              "#46039f"
             ],
             [
              0.2222222222222222,
              "#7201a8"
             ],
             [
              0.3333333333333333,
              "#9c179e"
             ],
             [
              0.4444444444444444,
              "#bd3786"
             ],
             [
              0.5555555555555556,
              "#d8576b"
             ],
             [
              0.6666666666666666,
              "#ed7953"
             ],
             [
              0.7777777777777778,
              "#fb9f3a"
             ],
             [
              0.8888888888888888,
              "#fdca26"
             ],
             [
              1,
              "#f0f921"
             ]
            ],
            "type": "contour"
           }
          ],
          "contourcarpet": [
           {
            "colorbar": {
             "outlinewidth": 0,
             "ticks": ""
            },
            "type": "contourcarpet"
           }
          ],
          "heatmap": [
           {
            "colorbar": {
             "outlinewidth": 0,
             "ticks": ""
            },
            "colorscale": [
             [
              0,
              "#0d0887"
             ],
             [
              0.1111111111111111,
              "#46039f"
             ],
             [
              0.2222222222222222,
              "#7201a8"
             ],
             [
              0.3333333333333333,
              "#9c179e"
             ],
             [
              0.4444444444444444,
              "#bd3786"
             ],
             [
              0.5555555555555556,
              "#d8576b"
             ],
             [
              0.6666666666666666,
              "#ed7953"
             ],
             [
              0.7777777777777778,
              "#fb9f3a"
             ],
             [
              0.8888888888888888,
              "#fdca26"
             ],
             [
              1,
              "#f0f921"
             ]
            ],
            "type": "heatmap"
           }
          ],
          "heatmapgl": [
           {
            "colorbar": {
             "outlinewidth": 0,
             "ticks": ""
            },
            "colorscale": [
             [
              0,
              "#0d0887"
             ],
             [
              0.1111111111111111,
              "#46039f"
             ],
             [
              0.2222222222222222,
              "#7201a8"
             ],
             [
              0.3333333333333333,
              "#9c179e"
             ],
             [
              0.4444444444444444,
              "#bd3786"
             ],
             [
              0.5555555555555556,
              "#d8576b"
             ],
             [
              0.6666666666666666,
              "#ed7953"
             ],
             [
              0.7777777777777778,
              "#fb9f3a"
             ],
             [
              0.8888888888888888,
              "#fdca26"
             ],
             [
              1,
              "#f0f921"
             ]
            ],
            "type": "heatmapgl"
           }
          ],
          "histogram": [
           {
            "marker": {
             "pattern": {
              "fillmode": "overlay",
              "size": 10,
              "solidity": 0.2
             }
            },
            "type": "histogram"
           }
          ],
          "histogram2d": [
           {
            "colorbar": {
             "outlinewidth": 0,
             "ticks": ""
            },
            "colorscale": [
             [
              0,
              "#0d0887"
             ],
             [
              0.1111111111111111,
              "#46039f"
             ],
             [
              0.2222222222222222,
              "#7201a8"
             ],
             [
              0.3333333333333333,
              "#9c179e"
             ],
             [
              0.4444444444444444,
              "#bd3786"
             ],
             [
              0.5555555555555556,
              "#d8576b"
             ],
             [
              0.6666666666666666,
              "#ed7953"
             ],
             [
              0.7777777777777778,
              "#fb9f3a"
             ],
             [
              0.8888888888888888,
              "#fdca26"
             ],
             [
              1,
              "#f0f921"
             ]
            ],
            "type": "histogram2d"
           }
          ],
          "histogram2dcontour": [
           {
            "colorbar": {
             "outlinewidth": 0,
             "ticks": ""
            },
            "colorscale": [
             [
              0,
              "#0d0887"
             ],
             [
              0.1111111111111111,
              "#46039f"
             ],
             [
              0.2222222222222222,
              "#7201a8"
             ],
             [
              0.3333333333333333,
              "#9c179e"
             ],
             [
              0.4444444444444444,
              "#bd3786"
             ],
             [
              0.5555555555555556,
              "#d8576b"
             ],
             [
              0.6666666666666666,
              "#ed7953"
             ],
             [
              0.7777777777777778,
              "#fb9f3a"
             ],
             [
              0.8888888888888888,
              "#fdca26"
             ],
             [
              1,
              "#f0f921"
             ]
            ],
            "type": "histogram2dcontour"
           }
          ],
          "mesh3d": [
           {
            "colorbar": {
             "outlinewidth": 0,
             "ticks": ""
            },
            "type": "mesh3d"
           }
          ],
          "parcoords": [
           {
            "line": {
             "colorbar": {
              "outlinewidth": 0,
              "ticks": ""
             }
            },
            "type": "parcoords"
           }
          ],
          "pie": [
           {
            "automargin": true,
            "type": "pie"
           }
          ],
          "scatter": [
           {
            "fillpattern": {
             "fillmode": "overlay",
             "size": 10,
             "solidity": 0.2
            },
            "type": "scatter"
           }
          ],
          "scatter3d": [
           {
            "line": {
             "colorbar": {
              "outlinewidth": 0,
              "ticks": ""
             }
            },
            "marker": {
             "colorbar": {
              "outlinewidth": 0,
              "ticks": ""
             }
            },
            "type": "scatter3d"
           }
          ],
          "scattercarpet": [
           {
            "marker": {
             "colorbar": {
              "outlinewidth": 0,
              "ticks": ""
             }
            },
            "type": "scattercarpet"
           }
          ],
          "scattergeo": [
           {
            "marker": {
             "colorbar": {
              "outlinewidth": 0,
              "ticks": ""
             }
            },
            "type": "scattergeo"
           }
          ],
          "scattergl": [
           {
            "marker": {
             "colorbar": {
              "outlinewidth": 0,
              "ticks": ""
             }
            },
            "type": "scattergl"
           }
          ],
          "scattermapbox": [
           {
            "marker": {
             "colorbar": {
              "outlinewidth": 0,
              "ticks": ""
             }
            },
            "type": "scattermapbox"
           }
          ],
          "scatterpolar": [
           {
            "marker": {
             "colorbar": {
              "outlinewidth": 0,
              "ticks": ""
             }
            },
            "type": "scatterpolar"
           }
          ],
          "scatterpolargl": [
           {
            "marker": {
             "colorbar": {
              "outlinewidth": 0,
              "ticks": ""
             }
            },
            "type": "scatterpolargl"
           }
          ],
          "scatterternary": [
           {
            "marker": {
             "colorbar": {
              "outlinewidth": 0,
              "ticks": ""
             }
            },
            "type": "scatterternary"
           }
          ],
          "surface": [
           {
            "colorbar": {
             "outlinewidth": 0,
             "ticks": ""
            },
            "colorscale": [
             [
              0,
              "#0d0887"
             ],
             [
              0.1111111111111111,
              "#46039f"
             ],
             [
              0.2222222222222222,
              "#7201a8"
             ],
             [
              0.3333333333333333,
              "#9c179e"
             ],
             [
              0.4444444444444444,
              "#bd3786"
             ],
             [
              0.5555555555555556,
              "#d8576b"
             ],
             [
              0.6666666666666666,
              "#ed7953"
             ],
             [
              0.7777777777777778,
              "#fb9f3a"
             ],
             [
              0.8888888888888888,
              "#fdca26"
             ],
             [
              1,
              "#f0f921"
             ]
            ],
            "type": "surface"
           }
          ],
          "table": [
           {
            "cells": {
             "fill": {
              "color": "#EBF0F8"
             },
             "line": {
              "color": "white"
             }
            },
            "header": {
             "fill": {
              "color": "#C8D4E3"
             },
             "line": {
              "color": "white"
             }
            },
            "type": "table"
           }
          ]
         },
         "layout": {
          "annotationdefaults": {
           "arrowcolor": "#2a3f5f",
           "arrowhead": 0,
           "arrowwidth": 1
          },
          "autotypenumbers": "strict",
          "coloraxis": {
           "colorbar": {
            "outlinewidth": 0,
            "ticks": ""
           }
          },
          "colorscale": {
           "diverging": [
            [
             0,
             "#8e0152"
            ],
            [
             0.1,
             "#c51b7d"
            ],
            [
             0.2,
             "#de77ae"
            ],
            [
             0.3,
             "#f1b6da"
            ],
            [
             0.4,
             "#fde0ef"
            ],
            [
             0.5,
             "#f7f7f7"
            ],
            [
             0.6,
             "#e6f5d0"
            ],
            [
             0.7,
             "#b8e186"
            ],
            [
             0.8,
             "#7fbc41"
            ],
            [
             0.9,
             "#4d9221"
            ],
            [
             1,
             "#276419"
            ]
           ],
           "sequential": [
            [
             0,
             "#0d0887"
            ],
            [
             0.1111111111111111,
             "#46039f"
            ],
            [
             0.2222222222222222,
             "#7201a8"
            ],
            [
             0.3333333333333333,
             "#9c179e"
            ],
            [
             0.4444444444444444,
             "#bd3786"
            ],
            [
             0.5555555555555556,
             "#d8576b"
            ],
            [
             0.6666666666666666,
             "#ed7953"
            ],
            [
             0.7777777777777778,
             "#fb9f3a"
            ],
            [
             0.8888888888888888,
             "#fdca26"
            ],
            [
             1,
             "#f0f921"
            ]
           ],
           "sequentialminus": [
            [
             0,
             "#0d0887"
            ],
            [
             0.1111111111111111,
             "#46039f"
            ],
            [
             0.2222222222222222,
             "#7201a8"
            ],
            [
             0.3333333333333333,
             "#9c179e"
            ],
            [
             0.4444444444444444,
             "#bd3786"
            ],
            [
             0.5555555555555556,
             "#d8576b"
            ],
            [
             0.6666666666666666,
             "#ed7953"
            ],
            [
             0.7777777777777778,
             "#fb9f3a"
            ],
            [
             0.8888888888888888,
             "#fdca26"
            ],
            [
             1,
             "#f0f921"
            ]
           ]
          },
          "colorway": [
           "#636efa",
           "#EF553B",
           "#00cc96",
           "#ab63fa",
           "#FFA15A",
           "#19d3f3",
           "#FF6692",
           "#B6E880",
           "#FF97FF",
           "#FECB52"
          ],
          "font": {
           "color": "#2a3f5f"
          },
          "geo": {
           "bgcolor": "white",
           "lakecolor": "white",
           "landcolor": "#E5ECF6",
           "showlakes": true,
           "showland": true,
           "subunitcolor": "white"
          },
          "hoverlabel": {
           "align": "left"
          },
          "hovermode": "closest",
          "mapbox": {
           "style": "light"
          },
          "paper_bgcolor": "white",
          "plot_bgcolor": "#E5ECF6",
          "polar": {
           "angularaxis": {
            "gridcolor": "white",
            "linecolor": "white",
            "ticks": ""
           },
           "bgcolor": "#E5ECF6",
           "radialaxis": {
            "gridcolor": "white",
            "linecolor": "white",
            "ticks": ""
           }
          },
          "scene": {
           "xaxis": {
            "backgroundcolor": "#E5ECF6",
            "gridcolor": "white",
            "gridwidth": 2,
            "linecolor": "white",
            "showbackground": true,
            "ticks": "",
            "zerolinecolor": "white"
           },
           "yaxis": {
            "backgroundcolor": "#E5ECF6",
            "gridcolor": "white",
            "gridwidth": 2,
            "linecolor": "white",
            "showbackground": true,
            "ticks": "",
            "zerolinecolor": "white"
           },
           "zaxis": {
            "backgroundcolor": "#E5ECF6",
            "gridcolor": "white",
            "gridwidth": 2,
            "linecolor": "white",
            "showbackground": true,
            "ticks": "",
            "zerolinecolor": "white"
           }
          },
          "shapedefaults": {
           "line": {
            "color": "#2a3f5f"
           }
          },
          "ternary": {
           "aaxis": {
            "gridcolor": "white",
            "linecolor": "white",
            "ticks": ""
           },
           "baxis": {
            "gridcolor": "white",
            "linecolor": "white",
            "ticks": ""
           },
           "bgcolor": "#E5ECF6",
           "caxis": {
            "gridcolor": "white",
            "linecolor": "white",
            "ticks": ""
           }
          },
          "title": {
           "x": 0.05
          },
          "xaxis": {
           "automargin": true,
           "gridcolor": "white",
           "linecolor": "white",
           "ticks": "",
           "title": {
            "standoff": 15
           },
           "zerolinecolor": "white",
           "zerolinewidth": 2
          },
          "yaxis": {
           "automargin": true,
           "gridcolor": "white",
           "linecolor": "white",
           "ticks": "",
           "title": {
            "standoff": 15
           },
           "zerolinecolor": "white",
           "zerolinewidth": 2
          }
         }
        },
        "title": {
         "text": "Length_FOV_box vs. closest_length_min_mae_value"
        },
        "xaxis": {
         "anchor": "y",
         "domain": [
          0,
          1
         ],
         "title": {
          "text": "Length_box_focal"
         }
        },
        "yaxis": {
         "anchor": "x",
         "domain": [
          0,
          1
         ],
         "title": {
          "text": "closest_length_min_mae_value"
         }
        }
       }
      }
     },
     "metadata": {},
     "output_type": "display_data"
    }
   ],
   "source": [
    "import plotly.graph_objects as go\n",
    "\n",
    "\n",
    "#scatter plot between length_fov and closest_length_min_mae_value\n",
    "fig = px.scatter(df,color='PondType', x='Length_box_focal', y='closest_length_min_mae_value', hover_data=['Label', 'PrawnID'])\n",
    "#add title\n",
    "fig.update_layout(title=f'pinhole vs. closest_length_min_mae_value')\n",
    "fig.add_trace(go.Scatter(x=[0, 200], y=[0, 200], mode='lines', name='line'))\n",
    "\n",
    "#save the plot to png\n",
    "fig.write_image(f'full focal vs. closest_length_min_mae_value.png')\n",
    "#add a trendline\n",
    "\n",
    "#add line\n",
    "\n",
    "\n",
    "fig.show()\n",
    "#"
   ]
  },
  {
   "cell_type": "code",
   "execution_count": 18,
   "metadata": {},
   "outputs": [
    {
     "data": {
      "application/vnd.plotly.v1+json": {
       "config": {
        "plotlyServerURL": "https://plot.ly"
       },
       "data": [
        {
         "alignmentgroup": "True",
         "hovertemplate": "x=%{x}<br>y=%{y}<extra></extra>",
         "legendgroup": "",
         "marker": {
          "color": "#636efa",
          "pattern": {
           "shape": ""
          }
         },
         "name": "",
         "offsetgroup": "",
         "orientation": "v",
         "showlegend": false,
         "textposition": "auto",
         "type": "bar",
         "x": [
          "Overestimations",
          "Underestimations"
         ],
         "xaxis": "x",
         "y": [
          88,
          34
         ],
         "yaxis": "y"
        }
       ],
       "layout": {
        "barmode": "relative",
        "legend": {
         "tracegroupgap": 0
        },
        "template": {
         "data": {
          "bar": [
           {
            "error_x": {
             "color": "#2a3f5f"
            },
            "error_y": {
             "color": "#2a3f5f"
            },
            "marker": {
             "line": {
              "color": "#E5ECF6",
              "width": 0.5
             },
             "pattern": {
              "fillmode": "overlay",
              "size": 10,
              "solidity": 0.2
             }
            },
            "type": "bar"
           }
          ],
          "barpolar": [
           {
            "marker": {
             "line": {
              "color": "#E5ECF6",
              "width": 0.5
             },
             "pattern": {
              "fillmode": "overlay",
              "size": 10,
              "solidity": 0.2
             }
            },
            "type": "barpolar"
           }
          ],
          "carpet": [
           {
            "aaxis": {
             "endlinecolor": "#2a3f5f",
             "gridcolor": "white",
             "linecolor": "white",
             "minorgridcolor": "white",
             "startlinecolor": "#2a3f5f"
            },
            "baxis": {
             "endlinecolor": "#2a3f5f",
             "gridcolor": "white",
             "linecolor": "white",
             "minorgridcolor": "white",
             "startlinecolor": "#2a3f5f"
            },
            "type": "carpet"
           }
          ],
          "choropleth": [
           {
            "colorbar": {
             "outlinewidth": 0,
             "ticks": ""
            },
            "type": "choropleth"
           }
          ],
          "contour": [
           {
            "colorbar": {
             "outlinewidth": 0,
             "ticks": ""
            },
            "colorscale": [
             [
              0,
              "#0d0887"
             ],
             [
              0.1111111111111111,
              "#46039f"
             ],
             [
              0.2222222222222222,
              "#7201a8"
             ],
             [
              0.3333333333333333,
              "#9c179e"
             ],
             [
              0.4444444444444444,
              "#bd3786"
             ],
             [
              0.5555555555555556,
              "#d8576b"
             ],
             [
              0.6666666666666666,
              "#ed7953"
             ],
             [
              0.7777777777777778,
              "#fb9f3a"
             ],
             [
              0.8888888888888888,
              "#fdca26"
             ],
             [
              1,
              "#f0f921"
             ]
            ],
            "type": "contour"
           }
          ],
          "contourcarpet": [
           {
            "colorbar": {
             "outlinewidth": 0,
             "ticks": ""
            },
            "type": "contourcarpet"
           }
          ],
          "heatmap": [
           {
            "colorbar": {
             "outlinewidth": 0,
             "ticks": ""
            },
            "colorscale": [
             [
              0,
              "#0d0887"
             ],
             [
              0.1111111111111111,
              "#46039f"
             ],
             [
              0.2222222222222222,
              "#7201a8"
             ],
             [
              0.3333333333333333,
              "#9c179e"
             ],
             [
              0.4444444444444444,
              "#bd3786"
             ],
             [
              0.5555555555555556,
              "#d8576b"
             ],
             [
              0.6666666666666666,
              "#ed7953"
             ],
             [
              0.7777777777777778,
              "#fb9f3a"
             ],
             [
              0.8888888888888888,
              "#fdca26"
             ],
             [
              1,
              "#f0f921"
             ]
            ],
            "type": "heatmap"
           }
          ],
          "heatmapgl": [
           {
            "colorbar": {
             "outlinewidth": 0,
             "ticks": ""
            },
            "colorscale": [
             [
              0,
              "#0d0887"
             ],
             [
              0.1111111111111111,
              "#46039f"
             ],
             [
              0.2222222222222222,
              "#7201a8"
             ],
             [
              0.3333333333333333,
              "#9c179e"
             ],
             [
              0.4444444444444444,
              "#bd3786"
             ],
             [
              0.5555555555555556,
              "#d8576b"
             ],
             [
              0.6666666666666666,
              "#ed7953"
             ],
             [
              0.7777777777777778,
              "#fb9f3a"
             ],
             [
              0.8888888888888888,
              "#fdca26"
             ],
             [
              1,
              "#f0f921"
             ]
            ],
            "type": "heatmapgl"
           }
          ],
          "histogram": [
           {
            "marker": {
             "pattern": {
              "fillmode": "overlay",
              "size": 10,
              "solidity": 0.2
             }
            },
            "type": "histogram"
           }
          ],
          "histogram2d": [
           {
            "colorbar": {
             "outlinewidth": 0,
             "ticks": ""
            },
            "colorscale": [
             [
              0,
              "#0d0887"
             ],
             [
              0.1111111111111111,
              "#46039f"
             ],
             [
              0.2222222222222222,
              "#7201a8"
             ],
             [
              0.3333333333333333,
              "#9c179e"
             ],
             [
              0.4444444444444444,
              "#bd3786"
             ],
             [
              0.5555555555555556,
              "#d8576b"
             ],
             [
              0.6666666666666666,
              "#ed7953"
             ],
             [
              0.7777777777777778,
              "#fb9f3a"
             ],
             [
              0.8888888888888888,
              "#fdca26"
             ],
             [
              1,
              "#f0f921"
             ]
            ],
            "type": "histogram2d"
           }
          ],
          "histogram2dcontour": [
           {
            "colorbar": {
             "outlinewidth": 0,
             "ticks": ""
            },
            "colorscale": [
             [
              0,
              "#0d0887"
             ],
             [
              0.1111111111111111,
              "#46039f"
             ],
             [
              0.2222222222222222,
              "#7201a8"
             ],
             [
              0.3333333333333333,
              "#9c179e"
             ],
             [
              0.4444444444444444,
              "#bd3786"
             ],
             [
              0.5555555555555556,
              "#d8576b"
             ],
             [
              0.6666666666666666,
              "#ed7953"
             ],
             [
              0.7777777777777778,
              "#fb9f3a"
             ],
             [
              0.8888888888888888,
              "#fdca26"
             ],
             [
              1,
              "#f0f921"
             ]
            ],
            "type": "histogram2dcontour"
           }
          ],
          "mesh3d": [
           {
            "colorbar": {
             "outlinewidth": 0,
             "ticks": ""
            },
            "type": "mesh3d"
           }
          ],
          "parcoords": [
           {
            "line": {
             "colorbar": {
              "outlinewidth": 0,
              "ticks": ""
             }
            },
            "type": "parcoords"
           }
          ],
          "pie": [
           {
            "automargin": true,
            "type": "pie"
           }
          ],
          "scatter": [
           {
            "fillpattern": {
             "fillmode": "overlay",
             "size": 10,
             "solidity": 0.2
            },
            "type": "scatter"
           }
          ],
          "scatter3d": [
           {
            "line": {
             "colorbar": {
              "outlinewidth": 0,
              "ticks": ""
             }
            },
            "marker": {
             "colorbar": {
              "outlinewidth": 0,
              "ticks": ""
             }
            },
            "type": "scatter3d"
           }
          ],
          "scattercarpet": [
           {
            "marker": {
             "colorbar": {
              "outlinewidth": 0,
              "ticks": ""
             }
            },
            "type": "scattercarpet"
           }
          ],
          "scattergeo": [
           {
            "marker": {
             "colorbar": {
              "outlinewidth": 0,
              "ticks": ""
             }
            },
            "type": "scattergeo"
           }
          ],
          "scattergl": [
           {
            "marker": {
             "colorbar": {
              "outlinewidth": 0,
              "ticks": ""
             }
            },
            "type": "scattergl"
           }
          ],
          "scattermapbox": [
           {
            "marker": {
             "colorbar": {
              "outlinewidth": 0,
              "ticks": ""
             }
            },
            "type": "scattermapbox"
           }
          ],
          "scatterpolar": [
           {
            "marker": {
             "colorbar": {
              "outlinewidth": 0,
              "ticks": ""
             }
            },
            "type": "scatterpolar"
           }
          ],
          "scatterpolargl": [
           {
            "marker": {
             "colorbar": {
              "outlinewidth": 0,
              "ticks": ""
             }
            },
            "type": "scatterpolargl"
           }
          ],
          "scatterternary": [
           {
            "marker": {
             "colorbar": {
              "outlinewidth": 0,
              "ticks": ""
             }
            },
            "type": "scatterternary"
           }
          ],
          "surface": [
           {
            "colorbar": {
             "outlinewidth": 0,
             "ticks": ""
            },
            "colorscale": [
             [
              0,
              "#0d0887"
             ],
             [
              0.1111111111111111,
              "#46039f"
             ],
             [
              0.2222222222222222,
              "#7201a8"
             ],
             [
              0.3333333333333333,
              "#9c179e"
             ],
             [
              0.4444444444444444,
              "#bd3786"
             ],
             [
              0.5555555555555556,
              "#d8576b"
             ],
             [
              0.6666666666666666,
              "#ed7953"
             ],
             [
              0.7777777777777778,
              "#fb9f3a"
             ],
             [
              0.8888888888888888,
              "#fdca26"
             ],
             [
              1,
              "#f0f921"
             ]
            ],
            "type": "surface"
           }
          ],
          "table": [
           {
            "cells": {
             "fill": {
              "color": "#EBF0F8"
             },
             "line": {
              "color": "white"
             }
            },
            "header": {
             "fill": {
              "color": "#C8D4E3"
             },
             "line": {
              "color": "white"
             }
            },
            "type": "table"
           }
          ]
         },
         "layout": {
          "annotationdefaults": {
           "arrowcolor": "#2a3f5f",
           "arrowhead": 0,
           "arrowwidth": 1
          },
          "autotypenumbers": "strict",
          "coloraxis": {
           "colorbar": {
            "outlinewidth": 0,
            "ticks": ""
           }
          },
          "colorscale": {
           "diverging": [
            [
             0,
             "#8e0152"
            ],
            [
             0.1,
             "#c51b7d"
            ],
            [
             0.2,
             "#de77ae"
            ],
            [
             0.3,
             "#f1b6da"
            ],
            [
             0.4,
             "#fde0ef"
            ],
            [
             0.5,
             "#f7f7f7"
            ],
            [
             0.6,
             "#e6f5d0"
            ],
            [
             0.7,
             "#b8e186"
            ],
            [
             0.8,
             "#7fbc41"
            ],
            [
             0.9,
             "#4d9221"
            ],
            [
             1,
             "#276419"
            ]
           ],
           "sequential": [
            [
             0,
             "#0d0887"
            ],
            [
             0.1111111111111111,
             "#46039f"
            ],
            [
             0.2222222222222222,
             "#7201a8"
            ],
            [
             0.3333333333333333,
             "#9c179e"
            ],
            [
             0.4444444444444444,
             "#bd3786"
            ],
            [
             0.5555555555555556,
             "#d8576b"
            ],
            [
             0.6666666666666666,
             "#ed7953"
            ],
            [
             0.7777777777777778,
             "#fb9f3a"
            ],
            [
             0.8888888888888888,
             "#fdca26"
            ],
            [
             1,
             "#f0f921"
            ]
           ],
           "sequentialminus": [
            [
             0,
             "#0d0887"
            ],
            [
             0.1111111111111111,
             "#46039f"
            ],
            [
             0.2222222222222222,
             "#7201a8"
            ],
            [
             0.3333333333333333,
             "#9c179e"
            ],
            [
             0.4444444444444444,
             "#bd3786"
            ],
            [
             0.5555555555555556,
             "#d8576b"
            ],
            [
             0.6666666666666666,
             "#ed7953"
            ],
            [
             0.7777777777777778,
             "#fb9f3a"
            ],
            [
             0.8888888888888888,
             "#fdca26"
            ],
            [
             1,
             "#f0f921"
            ]
           ]
          },
          "colorway": [
           "#636efa",
           "#EF553B",
           "#00cc96",
           "#ab63fa",
           "#FFA15A",
           "#19d3f3",
           "#FF6692",
           "#B6E880",
           "#FF97FF",
           "#FECB52"
          ],
          "font": {
           "color": "#2a3f5f"
          },
          "geo": {
           "bgcolor": "white",
           "lakecolor": "white",
           "landcolor": "#E5ECF6",
           "showlakes": true,
           "showland": true,
           "subunitcolor": "white"
          },
          "hoverlabel": {
           "align": "left"
          },
          "hovermode": "closest",
          "mapbox": {
           "style": "light"
          },
          "paper_bgcolor": "white",
          "plot_bgcolor": "#E5ECF6",
          "polar": {
           "angularaxis": {
            "gridcolor": "white",
            "linecolor": "white",
            "ticks": ""
           },
           "bgcolor": "#E5ECF6",
           "radialaxis": {
            "gridcolor": "white",
            "linecolor": "white",
            "ticks": ""
           }
          },
          "scene": {
           "xaxis": {
            "backgroundcolor": "#E5ECF6",
            "gridcolor": "white",
            "gridwidth": 2,
            "linecolor": "white",
            "showbackground": true,
            "ticks": "",
            "zerolinecolor": "white"
           },
           "yaxis": {
            "backgroundcolor": "#E5ECF6",
            "gridcolor": "white",
            "gridwidth": 2,
            "linecolor": "white",
            "showbackground": true,
            "ticks": "",
            "zerolinecolor": "white"
           },
           "zaxis": {
            "backgroundcolor": "#E5ECF6",
            "gridcolor": "white",
            "gridwidth": 2,
            "linecolor": "white",
            "showbackground": true,
            "ticks": "",
            "zerolinecolor": "white"
           }
          },
          "shapedefaults": {
           "line": {
            "color": "#2a3f5f"
           }
          },
          "ternary": {
           "aaxis": {
            "gridcolor": "white",
            "linecolor": "white",
            "ticks": ""
           },
           "baxis": {
            "gridcolor": "white",
            "linecolor": "white",
            "ticks": ""
           },
           "bgcolor": "#E5ECF6",
           "caxis": {
            "gridcolor": "white",
            "linecolor": "white",
            "ticks": ""
           }
          },
          "title": {
           "x": 0.05
          },
          "xaxis": {
           "automargin": true,
           "gridcolor": "white",
           "linecolor": "white",
           "ticks": "",
           "title": {
            "standoff": 15
           },
           "zerolinecolor": "white",
           "zerolinewidth": 2
          },
          "yaxis": {
           "automargin": true,
           "gridcolor": "white",
           "linecolor": "white",
           "ticks": "",
           "title": {
            "standoff": 15
           },
           "zerolinecolor": "white",
           "zerolinewidth": 2
          }
         }
        },
        "title": {
         "text": "Overestimations vs Underestimations"
        },
        "xaxis": {
         "anchor": "y",
         "domain": [
          0,
          1
         ],
         "title": {
          "text": "x"
         }
        },
        "yaxis": {
         "anchor": "x",
         "domain": [
          0,
          1
         ],
         "title": {
          "text": "Count"
         }
        }
       }
      }
     },
     "metadata": {},
     "output_type": "display_data"
    }
   ],
   "source": [
    "overestimations = len(df[df['overestimation'] > 0])\n",
    "underestimations = len(df[df['overestimation'] < 0])\n",
    "\n",
    "# Create a bar plot\n",
    "fig = px.bar(\n",
    "    x=['Overestimations', 'Underestimations'], \n",
    "    y=[overestimations, underestimations],\n",
    "    title=\"Overestimations vs Underestimations\"\n",
    ")\n",
    "fig.update_layout(\n",
    "    yaxis_title=\"Count\"\n",
    ")\n",
    "# Save the plot to a file\n",
    "fig.write_image('overestimations_vs_underestimations.png')\n",
    "\n",
    "fig.show()"
   ]
  },
  {
   "cell_type": "code",
   "execution_count": 40,
   "metadata": {},
   "outputs": [
    {
     "data": {
      "application/vnd.plotly.v1+json": {
       "config": {
        "plotlyServerURL": "https://plot.ly"
       },
       "data": [
        {
         "customdata": [
          [
           "full body:undistorted_GX010088_327_4364.jpg_gamma",
           "Prawn_1"
          ],
          [
           "full body:undistorted_GX010088_327_4364.jpg_gamma",
           "Prawn_2"
          ],
          [
           "full body:undistorted_GX010088_262_3712.jpg_gamma",
           "Prawn_2"
          ],
          [
           "full body:undistorted_GX010084_130_1748.jpg_gamma",
           "Prawn_0"
          ],
          [
           "full body:undistorted_GX010073_42_695.jpg_gamma",
           "Prawn_2"
          ],
          [
           "full body:undistorted_GX010088_262_3712.jpg_gamma",
           "Prawn_1"
          ],
          [
           "full body:undistorted_GX010080_212_2954.jpg_gamma",
           "Prawn_2"
          ],
          [
           "full body:undistorted_GX010088_262_3712.jpg_gamma",
           "Prawn_0"
          ],
          [
           "full body:undistorted_GX010082_8_59.jpg_gamma",
           "Prawn_1"
          ],
          [
           "full body:undistorted_GX010088_327_4364.jpg_gamma",
           "Prawn_3"
          ],
          [
           "full body:undistorted_GX010082_8_59.jpg_gamma",
           "Prawn_2"
          ],
          [
           "full body:undistorted_GX010082_53_796.jpg_gamma",
           "Prawn_1"
          ],
          [
           "full body:undistorted_GX010069_19_191.jpg_gamma",
           "Prawn_0"
          ],
          [
           "full body:undistorted_GX010084_130_1748.jpg_gamma",
           "Prawn_2"
          ],
          [
           "full body:undistorted_GX010094_93_1258.jpg_gamma",
           "Prawn_0"
          ],
          [
           "full body:undistorted_GX010082_236_3137.jpg_gamma",
           "Prawn_2"
          ],
          [
           "full body:undistorted_GX010067_33_625.jpg_gamma",
           "Prawn_1"
          ],
          [
           "full body:undistorted_GX010071_22_444.jpg_gamma",
           "Prawn_1"
          ],
          [
           "full body:undistorted_GX010077_14_237.jpg_gamma",
           "Prawn_2"
          ],
          [
           "full body:undistorted_GX010068_27_795.jpg_gamma",
           "Prawn_1"
          ],
          [
           "full body:undistorted_GX010084_30_344.jpg_gamma",
           "Prawn_2"
          ],
          [
           "full body:undistorted_GX010097_60_1080.jpg_gamma",
           "Prawn_3"
          ],
          [
           "full body:undistorted_GX010085_261_3610.jpg_gamma",
           "Prawn_1"
          ],
          [
           "full body:undistorted_GX010101_12_173.jpg_gamma",
           "Prawn_0"
          ],
          [
           "full body:undistorted_GX010080_237_3366.jpg_gamma",
           "Prawn_4"
          ],
          [
           "full body:undistorted_GX010067_33_625.jpg_gamma",
           "Prawn_2"
          ],
          [
           "full body:undistorted_GX010082_8_59.jpg_gamma",
           "Prawn_3"
          ],
          [
           "full body:undistorted_GX010088_209_2904.jpg_gamma",
           "Prawn_1"
          ],
          [
           "full body:undistorted_GX010073_42_695.jpg_gamma",
           "Prawn_1"
          ],
          [
           "full body:undistorted_GX010068_27_795.jpg_gamma",
           "Prawn_0"
          ],
          [
           "full body:undistorted_GX010077_14_237.jpg_gamma",
           "Prawn_0"
          ],
          [
           "full body:undistorted_GX010082_53_796.jpg_gamma",
           "Prawn_0"
          ],
          [
           "full body:undistorted_GX010073_55_1014.jpg_gamma",
           "Prawn_0"
          ],
          [
           "full body:undistorted_GX010080_237_3366.jpg_gamma",
           "Prawn_3"
          ],
          [
           "full body:undistorted_GX010084_30_344.jpg_gamma",
           "Prawn_1"
          ],
          [
           "full body:undistorted_GX010073_55_1014.jpg_gamma",
           "Prawn_1"
          ],
          [
           "full body:undistorted_GX010088_327_4364.jpg_gamma",
           "Prawn_0"
          ],
          [
           "full body:undistorted_GX010084_30_344.jpg_gamma",
           "Prawn_0"
          ],
          [
           "full body:undistorted_GX010067_33_625.jpg_gamma",
           "Prawn_3"
          ],
          [
           "full body:undistorted_GX010080_193_2640.jpg_gamma",
           "Prawn_3"
          ],
          [
           "full body:undistorted_GX010068_26_666.jpg_gamma",
           "Prawn_2"
          ],
          [
           "full body:undistorted_GX010067_33_625.jpg_gamma",
           "Prawn_0"
          ],
          [
           "full body:undistorted_GX010080_238_3392.jpg_gamma",
           "Prawn_2"
          ],
          [
           "full body:undistorted_GX010077_14_237.jpg_gamma",
           "Prawn_1"
          ],
          [
           "full body:undistorted_GX010094_24_430.jpg_gamma",
           "Prawn_0"
          ],
          [
           "full body:undistorted_GX010088_209_2904.jpg_gamma",
           "Prawn_0"
          ],
          [
           "full body:undistorted_GX010080_212_2954.jpg_gamma",
           "Prawn_1"
          ],
          [
           "full body:undistorted_GX010084_130_1748.jpg_gamma",
           "Prawn_1"
          ],
          [
           "full body:undistorted_GX010082_8_59.jpg_gamma",
           "Prawn_4"
          ],
          [
           "full body:undistorted_GX010090_132_1852.jpg_gamma",
           "Prawn_0"
          ],
          [
           "full body:undistorted_GX010094_9_129.jpg_gamma",
           "Prawn_0"
          ],
          [
           "full body:undistorted_GX010084_30_344.jpg_gamma",
           "Prawn_3"
          ],
          [
           "full body:undistorted_GX010071_22_444.jpg_gamma",
           "Prawn_0"
          ],
          [
           "full body:undistorted_GX010068_26_666.jpg_gamma",
           "Prawn_0"
          ],
          [
           "full body:undistorted_GX010080_237_3366.jpg_gamma",
           "Prawn_0"
          ],
          [
           "full body:undistorted_GX010097_32_528.jpg_gamma",
           "Prawn_0"
          ],
          [
           "full body:undistorted_GX010097_60_1080.jpg_gamma",
           "Prawn_1"
          ],
          [
           "full body:undistorted_GX010097_124_1870.jpg_gamma",
           "Prawn_1"
          ],
          [
           "full body:undistorted_GX010080_238_3392.jpg_gamma",
           "Prawn_0"
          ],
          [
           "full body:undistorted_GX010069_19_191.jpg_gamma",
           "Prawn_3"
          ],
          [
           "full body:undistorted_GX010069_19_191.jpg_gamma",
           "Prawn_1"
          ],
          [
           "full body:undistorted_GX010080_193_2640.jpg_gamma",
           "Prawn_1"
          ],
          [
           "full body:undistorted_GX010094_9_129.jpg_gamma",
           "Prawn_1"
          ],
          [
           "full body:undistorted_GX010080_237_3366.jpg_gamma",
           "Prawn_2"
          ],
          [
           "full body:undistorted_GX010094_163_2312.jpg_gamma",
           "Prawn_0"
          ],
          [
           "full body:undistorted_GX010080_238_3392.jpg_gamma",
           "Prawn_3"
          ],
          [
           "full body:undistorted_GX010069_19_191.jpg_gamma",
           "Prawn_2"
          ],
          [
           "full body:undistorted_GX010097_105_1651.jpg_gamma",
           "Prawn_1"
          ],
          [
           "full body:undistorted_GX010068_26_666.jpg_gamma",
           "Prawn_1"
          ],
          [
           "full body:undistorted_GX010073_42_695.jpg_gamma",
           "Prawn_0"
          ],
          [
           "full body:undistorted_GX010082_65_1070.jpg_gamma",
           "Prawn_2"
          ],
          [
           "full body:undistorted_GX010082_236_3137.jpg_gamma",
           "Prawn_0"
          ],
          [
           "full body:undistorted_GX010082_65_1070.jpg_gamma",
           "Prawn_0"
          ],
          [
           "full body:undistorted_GX010097_60_1080.jpg_gamma",
           "Prawn_0"
          ],
          [
           "full body:undistorted_GX010085_261_3610.jpg_gamma",
           "Prawn_0"
          ],
          [
           "full body:undistorted_GX010080_237_3366.jpg_gamma",
           "Prawn_1"
          ],
          [
           "full body:undistorted_GX010073_55_1014.jpg_gamma",
           "Prawn_2"
          ],
          [
           "full body:undistorted_GX010080_193_2640.jpg_gamma",
           "Prawn_2"
          ],
          [
           "full body:undistorted_GX010080_238_3392.jpg_gamma",
           "Prawn_1"
          ],
          [
           "full body:undistorted_GX010080_193_2640.jpg_gamma",
           "Prawn_0"
          ],
          [
           "full body:undistorted_GX010080_212_2954.jpg_gamma",
           "Prawn_0"
          ],
          [
           "full body:undistorted_GX010080_193_2640.jpg_gamma",
           "Prawn_4"
          ],
          [
           "full body:undistorted_GX010097_124_1870.jpg_gamma",
           "Prawn_0"
          ],
          [
           "full body:undistorted_GX010080_157_2283.jpg_gamma",
           "Prawn_3"
          ],
          [
           "full body:undistorted_GX010097_105_1651.jpg_gamma",
           "Prawn_2"
          ],
          [
           "full body:undistorted_GX010082_236_3137.jpg_gamma",
           "Prawn_1"
          ],
          [
           "full body:undistorted_GX010080_157_2283.jpg_gamma",
           "Prawn_2"
          ],
          [
           "full body:undistorted_GX010080_157_2283.jpg_gamma",
           "Prawn_0"
          ],
          [
           "full body:undistorted_GX010097_60_1080.jpg_gamma",
           "Prawn_2"
          ],
          [
           "full body:undistorted_GX010082_65_1070.jpg_gamma",
           "Prawn_1"
          ],
          [
           "full body:undistorted_GX010097_105_1651.jpg_gamma",
           "Prawn_0"
          ],
          [
           "full body:undistorted_GX010097_105_1651.jpg_gamma",
           "Prawn_3"
          ],
          [
           "full body:undistorted_GX010097_32_528.jpg_gamma",
           "Prawn_1"
          ]
         ],
         "hovertemplate": "overestimation=%{x}<br>probability=%{y}<br>Label=%{customdata[0]}<br>PrawnID=%{customdata[1]}<extra></extra>",
         "legendgroup": "",
         "line": {
          "dash": "solid",
          "shape": "hv"
         },
         "marker": {
          "color": "#636efa",
          "symbol": "circle"
         },
         "mode": "lines",
         "name": "",
         "orientation": "v",
         "showlegend": false,
         "type": "scatter",
         "x": [
          -11.223269942072392,
          -6.286359230620505,
          -4.814604159000595,
          -4.407592832592712,
          -3.684981306676491,
          -3.4716461844106163,
          -3.0502313646050823,
          -2.5275462904065193,
          -2.2729525409738187,
          -1.7663329067223117,
          -1.6034378667595206,
          -1.5071786348472074,
          -0.9058763041410032,
          -0.7753151094986777,
          -0.13184518176309723,
          0.06794307421529311,
          1.0467935886070592,
          1.3751866421148122,
          1.7756445478630098,
          1.8291314326641839,
          2.0902115911703163,
          2.5818523916458105,
          2.69637217645041,
          2.9992581596989965,
          3.1603401531997974,
          3.5278226755047797,
          3.728410522143207,
          4.545966809780992,
          4.551944784594582,
          4.610948833937016,
          4.731451607420922,
          5.118400050384324,
          5.55456187554249,
          6.05433548834759,
          6.703090000091606,
          6.878248168471998,
          7.936016852181581,
          8.535333986370503,
          8.8224477638217,
          8.922521007331497,
          8.96639062831261,
          9.115406852968079,
          9.383055686515902,
          10.760056218787,
          11.201355807905685,
          11.242018503828703,
          11.390733741816604,
          11.401661564839273,
          11.615380098402895,
          11.677259616763621,
          11.907110010516291,
          12.404183118185387,
          12.404993196638202,
          12.545963001694687,
          12.817308671649101,
          12.992207820909996,
          13.058572520135101,
          13.6150627797077,
          13.817415068866183,
          14.152853806699909,
          14.197675426651003,
          14.366961316968798,
          14.436382932580614,
          14.556041864880797,
          14.860986751650202,
          15.016455290056399,
          15.755242938552911,
          15.979800448865205,
          16.31505110771731,
          17.214559146892796,
          17.781315268121602,
          18.18529362354461,
          19.10065251434081,
          19.132127918199217,
          19.543211767672375,
          20.164893532784617,
          20.520757476980506,
          21.184411425048296,
          21.36396216254471,
          21.896869343184406,
          23.334047400828084,
          24.616618746002302,
          27.456763400402096,
          27.67900841073201,
          28.509747883769407,
          30.155910935398794,
          31.003234146030493,
          32.643744056214715,
          36.0105439656071,
          37.06832167606211,
          42.88860399861798,
          43.65236606989079,
          63.53548642613649
         ],
         "xaxis": "x",
         "y": [
          0.010752688172043012,
          0.021505376344086023,
          0.03225806451612903,
          0.043010752688172046,
          0.053763440860215055,
          0.06451612903225806,
          0.07526881720430108,
          0.08602150537634409,
          0.0967741935483871,
          0.10752688172043011,
          0.11827956989247312,
          0.12903225806451613,
          0.13978494623655913,
          0.15053763440860216,
          0.16129032258064516,
          0.17204301075268819,
          0.1827956989247312,
          0.1935483870967742,
          0.20430107526881722,
          0.21505376344086022,
          0.22580645161290322,
          0.23655913978494625,
          0.24731182795698925,
          0.25806451612903225,
          0.26881720430107525,
          0.27956989247311825,
          0.2903225806451613,
          0.3010752688172043,
          0.3118279569892473,
          0.3225806451612903,
          0.3333333333333333,
          0.34408602150537637,
          0.3548387096774194,
          0.3655913978494624,
          0.3763440860215054,
          0.3870967741935484,
          0.3978494623655914,
          0.40860215053763443,
          0.41935483870967744,
          0.43010752688172044,
          0.44086021505376344,
          0.45161290322580644,
          0.46236559139784944,
          0.4731182795698925,
          0.4838709677419355,
          0.4946236559139785,
          0.5053763440860215,
          0.5161290322580645,
          0.5268817204301075,
          0.5376344086021505,
          0.5483870967741935,
          0.5591397849462365,
          0.5698924731182796,
          0.5806451612903226,
          0.5913978494623656,
          0.6021505376344086,
          0.6129032258064516,
          0.6236559139784946,
          0.6344086021505376,
          0.6451612903225806,
          0.6559139784946236,
          0.6666666666666666,
          0.6774193548387096,
          0.6881720430107527,
          0.6989247311827957,
          0.7096774193548387,
          0.7204301075268817,
          0.7311827956989247,
          0.7419354838709677,
          0.7526881720430108,
          0.7634408602150538,
          0.7741935483870968,
          0.7849462365591398,
          0.7956989247311828,
          0.8064516129032258,
          0.8172043010752689,
          0.8279569892473119,
          0.8387096774193549,
          0.8494623655913979,
          0.8602150537634409,
          0.8709677419354839,
          0.8817204301075269,
          0.8924731182795699,
          0.9032258064516129,
          0.9139784946236559,
          0.9247311827956989,
          0.9354838709677419,
          0.946236559139785,
          0.956989247311828,
          0.967741935483871,
          0.978494623655914,
          0.989247311827957,
          1
         ],
         "yaxis": "y"
        }
       ],
       "layout": {
        "legend": {
         "tracegroupgap": 0
        },
        "shapes": [
         {
          "line": {
           "color": "red",
           "dash": "dash"
          },
          "type": "line",
          "x0": 0,
          "x1": 0,
          "xref": "x",
          "y0": 0,
          "y1": 1,
          "yref": "y domain"
         }
        ],
        "template": {
         "data": {
          "bar": [
           {
            "error_x": {
             "color": "#2a3f5f"
            },
            "error_y": {
             "color": "#2a3f5f"
            },
            "marker": {
             "line": {
              "color": "#E5ECF6",
              "width": 0.5
             },
             "pattern": {
              "fillmode": "overlay",
              "size": 10,
              "solidity": 0.2
             }
            },
            "type": "bar"
           }
          ],
          "barpolar": [
           {
            "marker": {
             "line": {
              "color": "#E5ECF6",
              "width": 0.5
             },
             "pattern": {
              "fillmode": "overlay",
              "size": 10,
              "solidity": 0.2
             }
            },
            "type": "barpolar"
           }
          ],
          "carpet": [
           {
            "aaxis": {
             "endlinecolor": "#2a3f5f",
             "gridcolor": "white",
             "linecolor": "white",
             "minorgridcolor": "white",
             "startlinecolor": "#2a3f5f"
            },
            "baxis": {
             "endlinecolor": "#2a3f5f",
             "gridcolor": "white",
             "linecolor": "white",
             "minorgridcolor": "white",
             "startlinecolor": "#2a3f5f"
            },
            "type": "carpet"
           }
          ],
          "choropleth": [
           {
            "colorbar": {
             "outlinewidth": 0,
             "ticks": ""
            },
            "type": "choropleth"
           }
          ],
          "contour": [
           {
            "colorbar": {
             "outlinewidth": 0,
             "ticks": ""
            },
            "colorscale": [
             [
              0,
              "#0d0887"
             ],
             [
              0.1111111111111111,
              "#46039f"
             ],
             [
              0.2222222222222222,
              "#7201a8"
             ],
             [
              0.3333333333333333,
              "#9c179e"
             ],
             [
              0.4444444444444444,
              "#bd3786"
             ],
             [
              0.5555555555555556,
              "#d8576b"
             ],
             [
              0.6666666666666666,
              "#ed7953"
             ],
             [
              0.7777777777777778,
              "#fb9f3a"
             ],
             [
              0.8888888888888888,
              "#fdca26"
             ],
             [
              1,
              "#f0f921"
             ]
            ],
            "type": "contour"
           }
          ],
          "contourcarpet": [
           {
            "colorbar": {
             "outlinewidth": 0,
             "ticks": ""
            },
            "type": "contourcarpet"
           }
          ],
          "heatmap": [
           {
            "colorbar": {
             "outlinewidth": 0,
             "ticks": ""
            },
            "colorscale": [
             [
              0,
              "#0d0887"
             ],
             [
              0.1111111111111111,
              "#46039f"
             ],
             [
              0.2222222222222222,
              "#7201a8"
             ],
             [
              0.3333333333333333,
              "#9c179e"
             ],
             [
              0.4444444444444444,
              "#bd3786"
             ],
             [
              0.5555555555555556,
              "#d8576b"
             ],
             [
              0.6666666666666666,
              "#ed7953"
             ],
             [
              0.7777777777777778,
              "#fb9f3a"
             ],
             [
              0.8888888888888888,
              "#fdca26"
             ],
             [
              1,
              "#f0f921"
             ]
            ],
            "type": "heatmap"
           }
          ],
          "heatmapgl": [
           {
            "colorbar": {
             "outlinewidth": 0,
             "ticks": ""
            },
            "colorscale": [
             [
              0,
              "#0d0887"
             ],
             [
              0.1111111111111111,
              "#46039f"
             ],
             [
              0.2222222222222222,
              "#7201a8"
             ],
             [
              0.3333333333333333,
              "#9c179e"
             ],
             [
              0.4444444444444444,
              "#bd3786"
             ],
             [
              0.5555555555555556,
              "#d8576b"
             ],
             [
              0.6666666666666666,
              "#ed7953"
             ],
             [
              0.7777777777777778,
              "#fb9f3a"
             ],
             [
              0.8888888888888888,
              "#fdca26"
             ],
             [
              1,
              "#f0f921"
             ]
            ],
            "type": "heatmapgl"
           }
          ],
          "histogram": [
           {
            "marker": {
             "pattern": {
              "fillmode": "overlay",
              "size": 10,
              "solidity": 0.2
             }
            },
            "type": "histogram"
           }
          ],
          "histogram2d": [
           {
            "colorbar": {
             "outlinewidth": 0,
             "ticks": ""
            },
            "colorscale": [
             [
              0,
              "#0d0887"
             ],
             [
              0.1111111111111111,
              "#46039f"
             ],
             [
              0.2222222222222222,
              "#7201a8"
             ],
             [
              0.3333333333333333,
              "#9c179e"
             ],
             [
              0.4444444444444444,
              "#bd3786"
             ],
             [
              0.5555555555555556,
              "#d8576b"
             ],
             [
              0.6666666666666666,
              "#ed7953"
             ],
             [
              0.7777777777777778,
              "#fb9f3a"
             ],
             [
              0.8888888888888888,
              "#fdca26"
             ],
             [
              1,
              "#f0f921"
             ]
            ],
            "type": "histogram2d"
           }
          ],
          "histogram2dcontour": [
           {
            "colorbar": {
             "outlinewidth": 0,
             "ticks": ""
            },
            "colorscale": [
             [
              0,
              "#0d0887"
             ],
             [
              0.1111111111111111,
              "#46039f"
             ],
             [
              0.2222222222222222,
              "#7201a8"
             ],
             [
              0.3333333333333333,
              "#9c179e"
             ],
             [
              0.4444444444444444,
              "#bd3786"
             ],
             [
              0.5555555555555556,
              "#d8576b"
             ],
             [
              0.6666666666666666,
              "#ed7953"
             ],
             [
              0.7777777777777778,
              "#fb9f3a"
             ],
             [
              0.8888888888888888,
              "#fdca26"
             ],
             [
              1,
              "#f0f921"
             ]
            ],
            "type": "histogram2dcontour"
           }
          ],
          "mesh3d": [
           {
            "colorbar": {
             "outlinewidth": 0,
             "ticks": ""
            },
            "type": "mesh3d"
           }
          ],
          "parcoords": [
           {
            "line": {
             "colorbar": {
              "outlinewidth": 0,
              "ticks": ""
             }
            },
            "type": "parcoords"
           }
          ],
          "pie": [
           {
            "automargin": true,
            "type": "pie"
           }
          ],
          "scatter": [
           {
            "fillpattern": {
             "fillmode": "overlay",
             "size": 10,
             "solidity": 0.2
            },
            "type": "scatter"
           }
          ],
          "scatter3d": [
           {
            "line": {
             "colorbar": {
              "outlinewidth": 0,
              "ticks": ""
             }
            },
            "marker": {
             "colorbar": {
              "outlinewidth": 0,
              "ticks": ""
             }
            },
            "type": "scatter3d"
           }
          ],
          "scattercarpet": [
           {
            "marker": {
             "colorbar": {
              "outlinewidth": 0,
              "ticks": ""
             }
            },
            "type": "scattercarpet"
           }
          ],
          "scattergeo": [
           {
            "marker": {
             "colorbar": {
              "outlinewidth": 0,
              "ticks": ""
             }
            },
            "type": "scattergeo"
           }
          ],
          "scattergl": [
           {
            "marker": {
             "colorbar": {
              "outlinewidth": 0,
              "ticks": ""
             }
            },
            "type": "scattergl"
           }
          ],
          "scattermapbox": [
           {
            "marker": {
             "colorbar": {
              "outlinewidth": 0,
              "ticks": ""
             }
            },
            "type": "scattermapbox"
           }
          ],
          "scatterpolar": [
           {
            "marker": {
             "colorbar": {
              "outlinewidth": 0,
              "ticks": ""
             }
            },
            "type": "scatterpolar"
           }
          ],
          "scatterpolargl": [
           {
            "marker": {
             "colorbar": {
              "outlinewidth": 0,
              "ticks": ""
             }
            },
            "type": "scatterpolargl"
           }
          ],
          "scatterternary": [
           {
            "marker": {
             "colorbar": {
              "outlinewidth": 0,
              "ticks": ""
             }
            },
            "type": "scatterternary"
           }
          ],
          "surface": [
           {
            "colorbar": {
             "outlinewidth": 0,
             "ticks": ""
            },
            "colorscale": [
             [
              0,
              "#0d0887"
             ],
             [
              0.1111111111111111,
              "#46039f"
             ],
             [
              0.2222222222222222,
              "#7201a8"
             ],
             [
              0.3333333333333333,
              "#9c179e"
             ],
             [
              0.4444444444444444,
              "#bd3786"
             ],
             [
              0.5555555555555556,
              "#d8576b"
             ],
             [
              0.6666666666666666,
              "#ed7953"
             ],
             [
              0.7777777777777778,
              "#fb9f3a"
             ],
             [
              0.8888888888888888,
              "#fdca26"
             ],
             [
              1,
              "#f0f921"
             ]
            ],
            "type": "surface"
           }
          ],
          "table": [
           {
            "cells": {
             "fill": {
              "color": "#EBF0F8"
             },
             "line": {
              "color": "white"
             }
            },
            "header": {
             "fill": {
              "color": "#C8D4E3"
             },
             "line": {
              "color": "white"
             }
            },
            "type": "table"
           }
          ]
         },
         "layout": {
          "annotationdefaults": {
           "arrowcolor": "#2a3f5f",
           "arrowhead": 0,
           "arrowwidth": 1
          },
          "autotypenumbers": "strict",
          "coloraxis": {
           "colorbar": {
            "outlinewidth": 0,
            "ticks": ""
           }
          },
          "colorscale": {
           "diverging": [
            [
             0,
             "#8e0152"
            ],
            [
             0.1,
             "#c51b7d"
            ],
            [
             0.2,
             "#de77ae"
            ],
            [
             0.3,
             "#f1b6da"
            ],
            [
             0.4,
             "#fde0ef"
            ],
            [
             0.5,
             "#f7f7f7"
            ],
            [
             0.6,
             "#e6f5d0"
            ],
            [
             0.7,
             "#b8e186"
            ],
            [
             0.8,
             "#7fbc41"
            ],
            [
             0.9,
             "#4d9221"
            ],
            [
             1,
             "#276419"
            ]
           ],
           "sequential": [
            [
             0,
             "#0d0887"
            ],
            [
             0.1111111111111111,
             "#46039f"
            ],
            [
             0.2222222222222222,
             "#7201a8"
            ],
            [
             0.3333333333333333,
             "#9c179e"
            ],
            [
             0.4444444444444444,
             "#bd3786"
            ],
            [
             0.5555555555555556,
             "#d8576b"
            ],
            [
             0.6666666666666666,
             "#ed7953"
            ],
            [
             0.7777777777777778,
             "#fb9f3a"
            ],
            [
             0.8888888888888888,
             "#fdca26"
            ],
            [
             1,
             "#f0f921"
            ]
           ],
           "sequentialminus": [
            [
             0,
             "#0d0887"
            ],
            [
             0.1111111111111111,
             "#46039f"
            ],
            [
             0.2222222222222222,
             "#7201a8"
            ],
            [
             0.3333333333333333,
             "#9c179e"
            ],
            [
             0.4444444444444444,
             "#bd3786"
            ],
            [
             0.5555555555555556,
             "#d8576b"
            ],
            [
             0.6666666666666666,
             "#ed7953"
            ],
            [
             0.7777777777777778,
             "#fb9f3a"
            ],
            [
             0.8888888888888888,
             "#fdca26"
            ],
            [
             1,
             "#f0f921"
            ]
           ]
          },
          "colorway": [
           "#636efa",
           "#EF553B",
           "#00cc96",
           "#ab63fa",
           "#FFA15A",
           "#19d3f3",
           "#FF6692",
           "#B6E880",
           "#FF97FF",
           "#FECB52"
          ],
          "font": {
           "color": "#2a3f5f"
          },
          "geo": {
           "bgcolor": "white",
           "lakecolor": "white",
           "landcolor": "#E5ECF6",
           "showlakes": true,
           "showland": true,
           "subunitcolor": "white"
          },
          "hoverlabel": {
           "align": "left"
          },
          "hovermode": "closest",
          "mapbox": {
           "style": "light"
          },
          "paper_bgcolor": "white",
          "plot_bgcolor": "#E5ECF6",
          "polar": {
           "angularaxis": {
            "gridcolor": "white",
            "linecolor": "white",
            "ticks": ""
           },
           "bgcolor": "#E5ECF6",
           "radialaxis": {
            "gridcolor": "white",
            "linecolor": "white",
            "ticks": ""
           }
          },
          "scene": {
           "xaxis": {
            "backgroundcolor": "#E5ECF6",
            "gridcolor": "white",
            "gridwidth": 2,
            "linecolor": "white",
            "showbackground": true,
            "ticks": "",
            "zerolinecolor": "white"
           },
           "yaxis": {
            "backgroundcolor": "#E5ECF6",
            "gridcolor": "white",
            "gridwidth": 2,
            "linecolor": "white",
            "showbackground": true,
            "ticks": "",
            "zerolinecolor": "white"
           },
           "zaxis": {
            "backgroundcolor": "#E5ECF6",
            "gridcolor": "white",
            "gridwidth": 2,
            "linecolor": "white",
            "showbackground": true,
            "ticks": "",
            "zerolinecolor": "white"
           }
          },
          "shapedefaults": {
           "line": {
            "color": "#2a3f5f"
           }
          },
          "ternary": {
           "aaxis": {
            "gridcolor": "white",
            "linecolor": "white",
            "ticks": ""
           },
           "baxis": {
            "gridcolor": "white",
            "linecolor": "white",
            "ticks": ""
           },
           "bgcolor": "#E5ECF6",
           "caxis": {
            "gridcolor": "white",
            "linecolor": "white",
            "ticks": ""
           }
          },
          "title": {
           "x": 0.05
          },
          "xaxis": {
           "automargin": true,
           "gridcolor": "white",
           "linecolor": "white",
           "ticks": "",
           "title": {
            "standoff": 15
           },
           "zerolinecolor": "white",
           "zerolinewidth": 2
          },
          "yaxis": {
           "automargin": true,
           "gridcolor": "white",
           "linecolor": "white",
           "ticks": "",
           "title": {
            "standoff": 15
           },
           "zerolinecolor": "white",
           "zerolinewidth": 2
          }
         }
        },
        "title": {
         "text": "Cumulative Distribution of Residuals (CDF) circular-big"
        },
        "xaxis": {
         "anchor": "y",
         "domain": [
          0,
          1
         ],
         "title": {
          "text": "Residuals (Predicted - True)"
         }
        },
        "yaxis": {
         "anchor": "x",
         "domain": [
          0,
          1
         ],
         "rangemode": "tozero",
         "title": {
          "text": "probability"
         }
        }
       }
      }
     },
     "metadata": {},
     "output_type": "display_data"
    },
    {
     "data": {
      "application/vnd.plotly.v1+json": {
       "config": {
        "plotlyServerURL": "https://plot.ly"
       },
       "data": [
        {
         "customdata": [
          [
           "full body:undistorted_GX010089_11_236.jpg_gamma",
           "Prawn_3"
          ],
          [
           "full body:undistorted_GX010091_5_149.jpg_gamma",
           "Prawn_1"
          ],
          [
           "full body:undistorted_GX010105_28_816.jpg_gamma",
           "Prawn_0"
          ],
          [
           "full body:undistorted_GX010089_11_236.jpg_gamma",
           "Prawn_1"
          ],
          [
           "full body:undistorted_GX010102_9_165.jpg_gamma",
           "Prawn_5"
          ],
          [
           "full body:undistorted_GX010091_5_149.jpg_gamma",
           "Prawn_0"
          ],
          [
           "full body:undistorted_GX010102_9_165.jpg_gamma",
           "Prawn_4"
          ],
          [
           "full body:undistorted_GX010102_50_1396.jpg_gamma",
           "Prawn_0"
          ],
          [
           "full body:undistorted_GX010089_11_236.jpg_gamma",
           "Prawn_2"
          ],
          [
           "full body:undistorted_GX010102_9_165.jpg_gamma",
           "Prawn_1"
          ],
          [
           "full body:undistorted_GX010105_28_816.jpg_gamma",
           "Prawn_1"
          ],
          [
           "full body:undistorted_GX010089_11_236.jpg_gamma",
           "Prawn_0"
          ],
          [
           "full body:undistorted_GX010091_5_149.jpg_gamma",
           "Prawn_2"
          ],
          [
           "full body:undistorted_GX010102_9_165.jpg_gamma",
           "Prawn_3"
          ],
          [
           "full body:undistorted_GX010102_9_165.jpg_gamma",
           "Prawn_2"
          ]
         ],
         "hovertemplate": "overestimation=%{x}<br>probability=%{y}<br>Label=%{customdata[0]}<br>PrawnID=%{customdata[1]}<extra></extra>",
         "legendgroup": "",
         "line": {
          "dash": "solid",
          "shape": "hv"
         },
         "marker": {
          "color": "#636efa",
          "symbol": "circle"
         },
         "mode": "lines",
         "name": "",
         "orientation": "v",
         "showlegend": false,
         "type": "scatter",
         "x": [
          -2.5091253961069313,
          14.875102421548306,
          15.466067883903655,
          17.087130975932467,
          18.34599538573427,
          18.472460689113007,
          20.658965237656005,
          20.878955449627313,
          21.47069998942331,
          21.801096895985793,
          23.974345836445593,
          24.389757111626096,
          37.388065164327756,
          37.455712099337696,
          49.153712099337696
         ],
         "xaxis": "x",
         "y": [
          0.06666666666666667,
          0.13333333333333333,
          0.2,
          0.26666666666666666,
          0.3333333333333333,
          0.4,
          0.4666666666666667,
          0.5333333333333333,
          0.6,
          0.6666666666666666,
          0.7333333333333333,
          0.8,
          0.8666666666666667,
          0.9333333333333333,
          1
         ],
         "yaxis": "y"
        }
       ],
       "layout": {
        "legend": {
         "tracegroupgap": 0
        },
        "shapes": [
         {
          "line": {
           "color": "red",
           "dash": "dash"
          },
          "type": "line",
          "x0": 0,
          "x1": 0,
          "xref": "x",
          "y0": 0,
          "y1": 1,
          "yref": "y domain"
         }
        ],
        "template": {
         "data": {
          "bar": [
           {
            "error_x": {
             "color": "#2a3f5f"
            },
            "error_y": {
             "color": "#2a3f5f"
            },
            "marker": {
             "line": {
              "color": "#E5ECF6",
              "width": 0.5
             },
             "pattern": {
              "fillmode": "overlay",
              "size": 10,
              "solidity": 0.2
             }
            },
            "type": "bar"
           }
          ],
          "barpolar": [
           {
            "marker": {
             "line": {
              "color": "#E5ECF6",
              "width": 0.5
             },
             "pattern": {
              "fillmode": "overlay",
              "size": 10,
              "solidity": 0.2
             }
            },
            "type": "barpolar"
           }
          ],
          "carpet": [
           {
            "aaxis": {
             "endlinecolor": "#2a3f5f",
             "gridcolor": "white",
             "linecolor": "white",
             "minorgridcolor": "white",
             "startlinecolor": "#2a3f5f"
            },
            "baxis": {
             "endlinecolor": "#2a3f5f",
             "gridcolor": "white",
             "linecolor": "white",
             "minorgridcolor": "white",
             "startlinecolor": "#2a3f5f"
            },
            "type": "carpet"
           }
          ],
          "choropleth": [
           {
            "colorbar": {
             "outlinewidth": 0,
             "ticks": ""
            },
            "type": "choropleth"
           }
          ],
          "contour": [
           {
            "colorbar": {
             "outlinewidth": 0,
             "ticks": ""
            },
            "colorscale": [
             [
              0,
              "#0d0887"
             ],
             [
              0.1111111111111111,
              "#46039f"
             ],
             [
              0.2222222222222222,
              "#7201a8"
             ],
             [
              0.3333333333333333,
              "#9c179e"
             ],
             [
              0.4444444444444444,
              "#bd3786"
             ],
             [
              0.5555555555555556,
              "#d8576b"
             ],
             [
              0.6666666666666666,
              "#ed7953"
             ],
             [
              0.7777777777777778,
              "#fb9f3a"
             ],
             [
              0.8888888888888888,
              "#fdca26"
             ],
             [
              1,
              "#f0f921"
             ]
            ],
            "type": "contour"
           }
          ],
          "contourcarpet": [
           {
            "colorbar": {
             "outlinewidth": 0,
             "ticks": ""
            },
            "type": "contourcarpet"
           }
          ],
          "heatmap": [
           {
            "colorbar": {
             "outlinewidth": 0,
             "ticks": ""
            },
            "colorscale": [
             [
              0,
              "#0d0887"
             ],
             [
              0.1111111111111111,
              "#46039f"
             ],
             [
              0.2222222222222222,
              "#7201a8"
             ],
             [
              0.3333333333333333,
              "#9c179e"
             ],
             [
              0.4444444444444444,
              "#bd3786"
             ],
             [
              0.5555555555555556,
              "#d8576b"
             ],
             [
              0.6666666666666666,
              "#ed7953"
             ],
             [
              0.7777777777777778,
              "#fb9f3a"
             ],
             [
              0.8888888888888888,
              "#fdca26"
             ],
             [
              1,
              "#f0f921"
             ]
            ],
            "type": "heatmap"
           }
          ],
          "heatmapgl": [
           {
            "colorbar": {
             "outlinewidth": 0,
             "ticks": ""
            },
            "colorscale": [
             [
              0,
              "#0d0887"
             ],
             [
              0.1111111111111111,
              "#46039f"
             ],
             [
              0.2222222222222222,
              "#7201a8"
             ],
             [
              0.3333333333333333,
              "#9c179e"
             ],
             [
              0.4444444444444444,
              "#bd3786"
             ],
             [
              0.5555555555555556,
              "#d8576b"
             ],
             [
              0.6666666666666666,
              "#ed7953"
             ],
             [
              0.7777777777777778,
              "#fb9f3a"
             ],
             [
              0.8888888888888888,
              "#fdca26"
             ],
             [
              1,
              "#f0f921"
             ]
            ],
            "type": "heatmapgl"
           }
          ],
          "histogram": [
           {
            "marker": {
             "pattern": {
              "fillmode": "overlay",
              "size": 10,
              "solidity": 0.2
             }
            },
            "type": "histogram"
           }
          ],
          "histogram2d": [
           {
            "colorbar": {
             "outlinewidth": 0,
             "ticks": ""
            },
            "colorscale": [
             [
              0,
              "#0d0887"
             ],
             [
              0.1111111111111111,
              "#46039f"
             ],
             [
              0.2222222222222222,
              "#7201a8"
             ],
             [
              0.3333333333333333,
              "#9c179e"
             ],
             [
              0.4444444444444444,
              "#bd3786"
             ],
             [
              0.5555555555555556,
              "#d8576b"
             ],
             [
              0.6666666666666666,
              "#ed7953"
             ],
             [
              0.7777777777777778,
              "#fb9f3a"
             ],
             [
              0.8888888888888888,
              "#fdca26"
             ],
             [
              1,
              "#f0f921"
             ]
            ],
            "type": "histogram2d"
           }
          ],
          "histogram2dcontour": [
           {
            "colorbar": {
             "outlinewidth": 0,
             "ticks": ""
            },
            "colorscale": [
             [
              0,
              "#0d0887"
             ],
             [
              0.1111111111111111,
              "#46039f"
             ],
             [
              0.2222222222222222,
              "#7201a8"
             ],
             [
              0.3333333333333333,
              "#9c179e"
             ],
             [
              0.4444444444444444,
              "#bd3786"
             ],
             [
              0.5555555555555556,
              "#d8576b"
             ],
             [
              0.6666666666666666,
              "#ed7953"
             ],
             [
              0.7777777777777778,
              "#fb9f3a"
             ],
             [
              0.8888888888888888,
              "#fdca26"
             ],
             [
              1,
              "#f0f921"
             ]
            ],
            "type": "histogram2dcontour"
           }
          ],
          "mesh3d": [
           {
            "colorbar": {
             "outlinewidth": 0,
             "ticks": ""
            },
            "type": "mesh3d"
           }
          ],
          "parcoords": [
           {
            "line": {
             "colorbar": {
              "outlinewidth": 0,
              "ticks": ""
             }
            },
            "type": "parcoords"
           }
          ],
          "pie": [
           {
            "automargin": true,
            "type": "pie"
           }
          ],
          "scatter": [
           {
            "fillpattern": {
             "fillmode": "overlay",
             "size": 10,
             "solidity": 0.2
            },
            "type": "scatter"
           }
          ],
          "scatter3d": [
           {
            "line": {
             "colorbar": {
              "outlinewidth": 0,
              "ticks": ""
             }
            },
            "marker": {
             "colorbar": {
              "outlinewidth": 0,
              "ticks": ""
             }
            },
            "type": "scatter3d"
           }
          ],
          "scattercarpet": [
           {
            "marker": {
             "colorbar": {
              "outlinewidth": 0,
              "ticks": ""
             }
            },
            "type": "scattercarpet"
           }
          ],
          "scattergeo": [
           {
            "marker": {
             "colorbar": {
              "outlinewidth": 0,
              "ticks": ""
             }
            },
            "type": "scattergeo"
           }
          ],
          "scattergl": [
           {
            "marker": {
             "colorbar": {
              "outlinewidth": 0,
              "ticks": ""
             }
            },
            "type": "scattergl"
           }
          ],
          "scattermapbox": [
           {
            "marker": {
             "colorbar": {
              "outlinewidth": 0,
              "ticks": ""
             }
            },
            "type": "scattermapbox"
           }
          ],
          "scatterpolar": [
           {
            "marker": {
             "colorbar": {
              "outlinewidth": 0,
              "ticks": ""
             }
            },
            "type": "scatterpolar"
           }
          ],
          "scatterpolargl": [
           {
            "marker": {
             "colorbar": {
              "outlinewidth": 0,
              "ticks": ""
             }
            },
            "type": "scatterpolargl"
           }
          ],
          "scatterternary": [
           {
            "marker": {
             "colorbar": {
              "outlinewidth": 0,
              "ticks": ""
             }
            },
            "type": "scatterternary"
           }
          ],
          "surface": [
           {
            "colorbar": {
             "outlinewidth": 0,
             "ticks": ""
            },
            "colorscale": [
             [
              0,
              "#0d0887"
             ],
             [
              0.1111111111111111,
              "#46039f"
             ],
             [
              0.2222222222222222,
              "#7201a8"
             ],
             [
              0.3333333333333333,
              "#9c179e"
             ],
             [
              0.4444444444444444,
              "#bd3786"
             ],
             [
              0.5555555555555556,
              "#d8576b"
             ],
             [
              0.6666666666666666,
              "#ed7953"
             ],
             [
              0.7777777777777778,
              "#fb9f3a"
             ],
             [
              0.8888888888888888,
              "#fdca26"
             ],
             [
              1,
              "#f0f921"
             ]
            ],
            "type": "surface"
           }
          ],
          "table": [
           {
            "cells": {
             "fill": {
              "color": "#EBF0F8"
             },
             "line": {
              "color": "white"
             }
            },
            "header": {
             "fill": {
              "color": "#C8D4E3"
             },
             "line": {
              "color": "white"
             }
            },
            "type": "table"
           }
          ]
         },
         "layout": {
          "annotationdefaults": {
           "arrowcolor": "#2a3f5f",
           "arrowhead": 0,
           "arrowwidth": 1
          },
          "autotypenumbers": "strict",
          "coloraxis": {
           "colorbar": {
            "outlinewidth": 0,
            "ticks": ""
           }
          },
          "colorscale": {
           "diverging": [
            [
             0,
             "#8e0152"
            ],
            [
             0.1,
             "#c51b7d"
            ],
            [
             0.2,
             "#de77ae"
            ],
            [
             0.3,
             "#f1b6da"
            ],
            [
             0.4,
             "#fde0ef"
            ],
            [
             0.5,
             "#f7f7f7"
            ],
            [
             0.6,
             "#e6f5d0"
            ],
            [
             0.7,
             "#b8e186"
            ],
            [
             0.8,
             "#7fbc41"
            ],
            [
             0.9,
             "#4d9221"
            ],
            [
             1,
             "#276419"
            ]
           ],
           "sequential": [
            [
             0,
             "#0d0887"
            ],
            [
             0.1111111111111111,
             "#46039f"
            ],
            [
             0.2222222222222222,
             "#7201a8"
            ],
            [
             0.3333333333333333,
             "#9c179e"
            ],
            [
             0.4444444444444444,
             "#bd3786"
            ],
            [
             0.5555555555555556,
             "#d8576b"
            ],
            [
             0.6666666666666666,
             "#ed7953"
            ],
            [
             0.7777777777777778,
             "#fb9f3a"
            ],
            [
             0.8888888888888888,
             "#fdca26"
            ],
            [
             1,
             "#f0f921"
            ]
           ],
           "sequentialminus": [
            [
             0,
             "#0d0887"
            ],
            [
             0.1111111111111111,
             "#46039f"
            ],
            [
             0.2222222222222222,
             "#7201a8"
            ],
            [
             0.3333333333333333,
             "#9c179e"
            ],
            [
             0.4444444444444444,
             "#bd3786"
            ],
            [
             0.5555555555555556,
             "#d8576b"
            ],
            [
             0.6666666666666666,
             "#ed7953"
            ],
            [
             0.7777777777777778,
             "#fb9f3a"
            ],
            [
             0.8888888888888888,
             "#fdca26"
            ],
            [
             1,
             "#f0f921"
            ]
           ]
          },
          "colorway": [
           "#636efa",
           "#EF553B",
           "#00cc96",
           "#ab63fa",
           "#FFA15A",
           "#19d3f3",
           "#FF6692",
           "#B6E880",
           "#FF97FF",
           "#FECB52"
          ],
          "font": {
           "color": "#2a3f5f"
          },
          "geo": {
           "bgcolor": "white",
           "lakecolor": "white",
           "landcolor": "#E5ECF6",
           "showlakes": true,
           "showland": true,
           "subunitcolor": "white"
          },
          "hoverlabel": {
           "align": "left"
          },
          "hovermode": "closest",
          "mapbox": {
           "style": "light"
          },
          "paper_bgcolor": "white",
          "plot_bgcolor": "#E5ECF6",
          "polar": {
           "angularaxis": {
            "gridcolor": "white",
            "linecolor": "white",
            "ticks": ""
           },
           "bgcolor": "#E5ECF6",
           "radialaxis": {
            "gridcolor": "white",
            "linecolor": "white",
            "ticks": ""
           }
          },
          "scene": {
           "xaxis": {
            "backgroundcolor": "#E5ECF6",
            "gridcolor": "white",
            "gridwidth": 2,
            "linecolor": "white",
            "showbackground": true,
            "ticks": "",
            "zerolinecolor": "white"
           },
           "yaxis": {
            "backgroundcolor": "#E5ECF6",
            "gridcolor": "white",
            "gridwidth": 2,
            "linecolor": "white",
            "showbackground": true,
            "ticks": "",
            "zerolinecolor": "white"
           },
           "zaxis": {
            "backgroundcolor": "#E5ECF6",
            "gridcolor": "white",
            "gridwidth": 2,
            "linecolor": "white",
            "showbackground": true,
            "ticks": "",
            "zerolinecolor": "white"
           }
          },
          "shapedefaults": {
           "line": {
            "color": "#2a3f5f"
           }
          },
          "ternary": {
           "aaxis": {
            "gridcolor": "white",
            "linecolor": "white",
            "ticks": ""
           },
           "baxis": {
            "gridcolor": "white",
            "linecolor": "white",
            "ticks": ""
           },
           "bgcolor": "#E5ECF6",
           "caxis": {
            "gridcolor": "white",
            "linecolor": "white",
            "ticks": ""
           }
          },
          "title": {
           "x": 0.05
          },
          "xaxis": {
           "automargin": true,
           "gridcolor": "white",
           "linecolor": "white",
           "ticks": "",
           "title": {
            "standoff": 15
           },
           "zerolinecolor": "white",
           "zerolinewidth": 2
          },
          "yaxis": {
           "automargin": true,
           "gridcolor": "white",
           "linecolor": "white",
           "ticks": "",
           "title": {
            "standoff": 15
           },
           "zerolinecolor": "white",
           "zerolinewidth": 2
          }
         }
        },
        "title": {
         "text": "Cumulative Distribution of Residuals (CDF) circular-small"
        },
        "xaxis": {
         "anchor": "y",
         "domain": [
          0,
          1
         ],
         "title": {
          "text": "Residuals (Predicted - True)"
         }
        },
        "yaxis": {
         "anchor": "x",
         "domain": [
          0,
          1
         ],
         "rangemode": "tozero",
         "title": {
          "text": "probability"
         }
        }
       }
      }
     },
     "metadata": {},
     "output_type": "display_data"
    },
    {
     "data": {
      "application/vnd.plotly.v1+json": {
       "config": {
        "plotlyServerURL": "https://plot.ly"
       },
       "data": [
        {
         "customdata": [
          [
           "full body:undistorted_GX010162_72_927.jpg_gamma.jpg_gamma",
           "Prawn_0"
          ],
          [
           "full body:undistorted_GX010183_128_2852.jpg_gamma",
           "Prawn_0"
          ],
          [
           "full body:undistorted_GX010157_160_2259",
           "Prawn_0"
          ],
          [
           "full body:undistorted_GX010183_37_685.jpg_gamma",
           "Prawn_0"
          ],
          [
           "full body:undistorted_GX010178_172_3604.jpg_gamma",
           "Prawn_0"
          ],
          [
           "full body:undistorted_GX010157_177_2665.jpg_gamma",
           "Prawn_0"
          ],
          [
           "full body:undistorted_GX010175_266_3372.jpg_gamma.jpg_gamma",
           "Prawn_0"
          ],
          [
           "full body:undistorted_GX010152_36_378.jpg_gamma",
           "Prawn_0"
          ],
          [
           "full body:undistorted_GX010174_62_790.jpg_gamma",
           "Prawn_0"
          ],
          [
           "full body:undistorted_GX010157_174_2582.jpg_gamma",
           "Prawn_0"
          ],
          [
           "full body:undistorted_GX010183_80_1633.jpg_gamma",
           "Prawn_0"
          ],
          [
           "full body:undistorted_GX010152_36_378.jpg_gamma",
           "Prawn_1"
          ],
          [
           "full body:undistorted_GX010161_54_676.jpg_gamma.jpg_gamma",
           "Prawn_0"
          ],
          [
           "full body:undistorted_GX010177_232_3047",
           "Prawn_0"
          ]
         ],
         "hovertemplate": "overestimation=%{x}<br>probability=%{y}<br>Label=%{customdata[0]}<br>PrawnID=%{customdata[1]}<extra></extra>",
         "legendgroup": "",
         "line": {
          "dash": "solid",
          "shape": "hv"
         },
         "marker": {
          "color": "#636efa",
          "symbol": "circle"
         },
         "mode": "lines",
         "name": "",
         "orientation": "v",
         "showlegend": false,
         "type": "scatter",
         "x": [
          -5.630771158544505,
          -5.284333157032307,
          -4.937276930490313,
          -1.7108299610818847,
          -1.2931395022683034,
          -0.775768650412914,
          -0.24328713610609043,
          0.9973022309122115,
          1.008652192411688,
          1.3225031509718974,
          3.061333522325583,
          5.526412192379695,
          5.998012830541398,
          8.935418999867707
         ],
         "xaxis": "x",
         "y": [
          0.07142857142857142,
          0.14285714285714285,
          0.21428571428571427,
          0.2857142857142857,
          0.35714285714285715,
          0.42857142857142855,
          0.5,
          0.5714285714285714,
          0.6428571428571429,
          0.7142857142857143,
          0.7857142857142857,
          0.8571428571428571,
          0.9285714285714286,
          1
         ],
         "yaxis": "y"
        }
       ],
       "layout": {
        "legend": {
         "tracegroupgap": 0
        },
        "shapes": [
         {
          "line": {
           "color": "red",
           "dash": "dash"
          },
          "type": "line",
          "x0": 0,
          "x1": 0,
          "xref": "x",
          "y0": 0,
          "y1": 1,
          "yref": "y domain"
         }
        ],
        "template": {
         "data": {
          "bar": [
           {
            "error_x": {
             "color": "#2a3f5f"
            },
            "error_y": {
             "color": "#2a3f5f"
            },
            "marker": {
             "line": {
              "color": "#E5ECF6",
              "width": 0.5
             },
             "pattern": {
              "fillmode": "overlay",
              "size": 10,
              "solidity": 0.2
             }
            },
            "type": "bar"
           }
          ],
          "barpolar": [
           {
            "marker": {
             "line": {
              "color": "#E5ECF6",
              "width": 0.5
             },
             "pattern": {
              "fillmode": "overlay",
              "size": 10,
              "solidity": 0.2
             }
            },
            "type": "barpolar"
           }
          ],
          "carpet": [
           {
            "aaxis": {
             "endlinecolor": "#2a3f5f",
             "gridcolor": "white",
             "linecolor": "white",
             "minorgridcolor": "white",
             "startlinecolor": "#2a3f5f"
            },
            "baxis": {
             "endlinecolor": "#2a3f5f",
             "gridcolor": "white",
             "linecolor": "white",
             "minorgridcolor": "white",
             "startlinecolor": "#2a3f5f"
            },
            "type": "carpet"
           }
          ],
          "choropleth": [
           {
            "colorbar": {
             "outlinewidth": 0,
             "ticks": ""
            },
            "type": "choropleth"
           }
          ],
          "contour": [
           {
            "colorbar": {
             "outlinewidth": 0,
             "ticks": ""
            },
            "colorscale": [
             [
              0,
              "#0d0887"
             ],
             [
              0.1111111111111111,
              "#46039f"
             ],
             [
              0.2222222222222222,
              "#7201a8"
             ],
             [
              0.3333333333333333,
              "#9c179e"
             ],
             [
              0.4444444444444444,
              "#bd3786"
             ],
             [
              0.5555555555555556,
              "#d8576b"
             ],
             [
              0.6666666666666666,
              "#ed7953"
             ],
             [
              0.7777777777777778,
              "#fb9f3a"
             ],
             [
              0.8888888888888888,
              "#fdca26"
             ],
             [
              1,
              "#f0f921"
             ]
            ],
            "type": "contour"
           }
          ],
          "contourcarpet": [
           {
            "colorbar": {
             "outlinewidth": 0,
             "ticks": ""
            },
            "type": "contourcarpet"
           }
          ],
          "heatmap": [
           {
            "colorbar": {
             "outlinewidth": 0,
             "ticks": ""
            },
            "colorscale": [
             [
              0,
              "#0d0887"
             ],
             [
              0.1111111111111111,
              "#46039f"
             ],
             [
              0.2222222222222222,
              "#7201a8"
             ],
             [
              0.3333333333333333,
              "#9c179e"
             ],
             [
              0.4444444444444444,
              "#bd3786"
             ],
             [
              0.5555555555555556,
              "#d8576b"
             ],
             [
              0.6666666666666666,
              "#ed7953"
             ],
             [
              0.7777777777777778,
              "#fb9f3a"
             ],
             [
              0.8888888888888888,
              "#fdca26"
             ],
             [
              1,
              "#f0f921"
             ]
            ],
            "type": "heatmap"
           }
          ],
          "heatmapgl": [
           {
            "colorbar": {
             "outlinewidth": 0,
             "ticks": ""
            },
            "colorscale": [
             [
              0,
              "#0d0887"
             ],
             [
              0.1111111111111111,
              "#46039f"
             ],
             [
              0.2222222222222222,
              "#7201a8"
             ],
             [
              0.3333333333333333,
              "#9c179e"
             ],
             [
              0.4444444444444444,
              "#bd3786"
             ],
             [
              0.5555555555555556,
              "#d8576b"
             ],
             [
              0.6666666666666666,
              "#ed7953"
             ],
             [
              0.7777777777777778,
              "#fb9f3a"
             ],
             [
              0.8888888888888888,
              "#fdca26"
             ],
             [
              1,
              "#f0f921"
             ]
            ],
            "type": "heatmapgl"
           }
          ],
          "histogram": [
           {
            "marker": {
             "pattern": {
              "fillmode": "overlay",
              "size": 10,
              "solidity": 0.2
             }
            },
            "type": "histogram"
           }
          ],
          "histogram2d": [
           {
            "colorbar": {
             "outlinewidth": 0,
             "ticks": ""
            },
            "colorscale": [
             [
              0,
              "#0d0887"
             ],
             [
              0.1111111111111111,
              "#46039f"
             ],
             [
              0.2222222222222222,
              "#7201a8"
             ],
             [
              0.3333333333333333,
              "#9c179e"
             ],
             [
              0.4444444444444444,
              "#bd3786"
             ],
             [
              0.5555555555555556,
              "#d8576b"
             ],
             [
              0.6666666666666666,
              "#ed7953"
             ],
             [
              0.7777777777777778,
              "#fb9f3a"
             ],
             [
              0.8888888888888888,
              "#fdca26"
             ],
             [
              1,
              "#f0f921"
             ]
            ],
            "type": "histogram2d"
           }
          ],
          "histogram2dcontour": [
           {
            "colorbar": {
             "outlinewidth": 0,
             "ticks": ""
            },
            "colorscale": [
             [
              0,
              "#0d0887"
             ],
             [
              0.1111111111111111,
              "#46039f"
             ],
             [
              0.2222222222222222,
              "#7201a8"
             ],
             [
              0.3333333333333333,
              "#9c179e"
             ],
             [
              0.4444444444444444,
              "#bd3786"
             ],
             [
              0.5555555555555556,
              "#d8576b"
             ],
             [
              0.6666666666666666,
              "#ed7953"
             ],
             [
              0.7777777777777778,
              "#fb9f3a"
             ],
             [
              0.8888888888888888,
              "#fdca26"
             ],
             [
              1,
              "#f0f921"
             ]
            ],
            "type": "histogram2dcontour"
           }
          ],
          "mesh3d": [
           {
            "colorbar": {
             "outlinewidth": 0,
             "ticks": ""
            },
            "type": "mesh3d"
           }
          ],
          "parcoords": [
           {
            "line": {
             "colorbar": {
              "outlinewidth": 0,
              "ticks": ""
             }
            },
            "type": "parcoords"
           }
          ],
          "pie": [
           {
            "automargin": true,
            "type": "pie"
           }
          ],
          "scatter": [
           {
            "fillpattern": {
             "fillmode": "overlay",
             "size": 10,
             "solidity": 0.2
            },
            "type": "scatter"
           }
          ],
          "scatter3d": [
           {
            "line": {
             "colorbar": {
              "outlinewidth": 0,
              "ticks": ""
             }
            },
            "marker": {
             "colorbar": {
              "outlinewidth": 0,
              "ticks": ""
             }
            },
            "type": "scatter3d"
           }
          ],
          "scattercarpet": [
           {
            "marker": {
             "colorbar": {
              "outlinewidth": 0,
              "ticks": ""
             }
            },
            "type": "scattercarpet"
           }
          ],
          "scattergeo": [
           {
            "marker": {
             "colorbar": {
              "outlinewidth": 0,
              "ticks": ""
             }
            },
            "type": "scattergeo"
           }
          ],
          "scattergl": [
           {
            "marker": {
             "colorbar": {
              "outlinewidth": 0,
              "ticks": ""
             }
            },
            "type": "scattergl"
           }
          ],
          "scattermapbox": [
           {
            "marker": {
             "colorbar": {
              "outlinewidth": 0,
              "ticks": ""
             }
            },
            "type": "scattermapbox"
           }
          ],
          "scatterpolar": [
           {
            "marker": {
             "colorbar": {
              "outlinewidth": 0,
              "ticks": ""
             }
            },
            "type": "scatterpolar"
           }
          ],
          "scatterpolargl": [
           {
            "marker": {
             "colorbar": {
              "outlinewidth": 0,
              "ticks": ""
             }
            },
            "type": "scatterpolargl"
           }
          ],
          "scatterternary": [
           {
            "marker": {
             "colorbar": {
              "outlinewidth": 0,
              "ticks": ""
             }
            },
            "type": "scatterternary"
           }
          ],
          "surface": [
           {
            "colorbar": {
             "outlinewidth": 0,
             "ticks": ""
            },
            "colorscale": [
             [
              0,
              "#0d0887"
             ],
             [
              0.1111111111111111,
              "#46039f"
             ],
             [
              0.2222222222222222,
              "#7201a8"
             ],
             [
              0.3333333333333333,
              "#9c179e"
             ],
             [
              0.4444444444444444,
              "#bd3786"
             ],
             [
              0.5555555555555556,
              "#d8576b"
             ],
             [
              0.6666666666666666,
              "#ed7953"
             ],
             [
              0.7777777777777778,
              "#fb9f3a"
             ],
             [
              0.8888888888888888,
              "#fdca26"
             ],
             [
              1,
              "#f0f921"
             ]
            ],
            "type": "surface"
           }
          ],
          "table": [
           {
            "cells": {
             "fill": {
              "color": "#EBF0F8"
             },
             "line": {
              "color": "white"
             }
            },
            "header": {
             "fill": {
              "color": "#C8D4E3"
             },
             "line": {
              "color": "white"
             }
            },
            "type": "table"
           }
          ]
         },
         "layout": {
          "annotationdefaults": {
           "arrowcolor": "#2a3f5f",
           "arrowhead": 0,
           "arrowwidth": 1
          },
          "autotypenumbers": "strict",
          "coloraxis": {
           "colorbar": {
            "outlinewidth": 0,
            "ticks": ""
           }
          },
          "colorscale": {
           "diverging": [
            [
             0,
             "#8e0152"
            ],
            [
             0.1,
             "#c51b7d"
            ],
            [
             0.2,
             "#de77ae"
            ],
            [
             0.3,
             "#f1b6da"
            ],
            [
             0.4,
             "#fde0ef"
            ],
            [
             0.5,
             "#f7f7f7"
            ],
            [
             0.6,
             "#e6f5d0"
            ],
            [
             0.7,
             "#b8e186"
            ],
            [
             0.8,
             "#7fbc41"
            ],
            [
             0.9,
             "#4d9221"
            ],
            [
             1,
             "#276419"
            ]
           ],
           "sequential": [
            [
             0,
             "#0d0887"
            ],
            [
             0.1111111111111111,
             "#46039f"
            ],
            [
             0.2222222222222222,
             "#7201a8"
            ],
            [
             0.3333333333333333,
             "#9c179e"
            ],
            [
             0.4444444444444444,
             "#bd3786"
            ],
            [
             0.5555555555555556,
             "#d8576b"
            ],
            [
             0.6666666666666666,
             "#ed7953"
            ],
            [
             0.7777777777777778,
             "#fb9f3a"
            ],
            [
             0.8888888888888888,
             "#fdca26"
            ],
            [
             1,
             "#f0f921"
            ]
           ],
           "sequentialminus": [
            [
             0,
             "#0d0887"
            ],
            [
             0.1111111111111111,
             "#46039f"
            ],
            [
             0.2222222222222222,
             "#7201a8"
            ],
            [
             0.3333333333333333,
             "#9c179e"
            ],
            [
             0.4444444444444444,
             "#bd3786"
            ],
            [
             0.5555555555555556,
             "#d8576b"
            ],
            [
             0.6666666666666666,
             "#ed7953"
            ],
            [
             0.7777777777777778,
             "#fb9f3a"
            ],
            [
             0.8888888888888888,
             "#fdca26"
            ],
            [
             1,
             "#f0f921"
            ]
           ]
          },
          "colorway": [
           "#636efa",
           "#EF553B",
           "#00cc96",
           "#ab63fa",
           "#FFA15A",
           "#19d3f3",
           "#FF6692",
           "#B6E880",
           "#FF97FF",
           "#FECB52"
          ],
          "font": {
           "color": "#2a3f5f"
          },
          "geo": {
           "bgcolor": "white",
           "lakecolor": "white",
           "landcolor": "#E5ECF6",
           "showlakes": true,
           "showland": true,
           "subunitcolor": "white"
          },
          "hoverlabel": {
           "align": "left"
          },
          "hovermode": "closest",
          "mapbox": {
           "style": "light"
          },
          "paper_bgcolor": "white",
          "plot_bgcolor": "#E5ECF6",
          "polar": {
           "angularaxis": {
            "gridcolor": "white",
            "linecolor": "white",
            "ticks": ""
           },
           "bgcolor": "#E5ECF6",
           "radialaxis": {
            "gridcolor": "white",
            "linecolor": "white",
            "ticks": ""
           }
          },
          "scene": {
           "xaxis": {
            "backgroundcolor": "#E5ECF6",
            "gridcolor": "white",
            "gridwidth": 2,
            "linecolor": "white",
            "showbackground": true,
            "ticks": "",
            "zerolinecolor": "white"
           },
           "yaxis": {
            "backgroundcolor": "#E5ECF6",
            "gridcolor": "white",
            "gridwidth": 2,
            "linecolor": "white",
            "showbackground": true,
            "ticks": "",
            "zerolinecolor": "white"
           },
           "zaxis": {
            "backgroundcolor": "#E5ECF6",
            "gridcolor": "white",
            "gridwidth": 2,
            "linecolor": "white",
            "showbackground": true,
            "ticks": "",
            "zerolinecolor": "white"
           }
          },
          "shapedefaults": {
           "line": {
            "color": "#2a3f5f"
           }
          },
          "ternary": {
           "aaxis": {
            "gridcolor": "white",
            "linecolor": "white",
            "ticks": ""
           },
           "baxis": {
            "gridcolor": "white",
            "linecolor": "white",
            "ticks": ""
           },
           "bgcolor": "#E5ECF6",
           "caxis": {
            "gridcolor": "white",
            "linecolor": "white",
            "ticks": ""
           }
          },
          "title": {
           "x": 0.05
          },
          "xaxis": {
           "automargin": true,
           "gridcolor": "white",
           "linecolor": "white",
           "ticks": "",
           "title": {
            "standoff": 15
           },
           "zerolinecolor": "white",
           "zerolinewidth": 2
          },
          "yaxis": {
           "automargin": true,
           "gridcolor": "white",
           "linecolor": "white",
           "ticks": "",
           "title": {
            "standoff": 15
           },
           "zerolinecolor": "white",
           "zerolinewidth": 2
          }
         }
        },
        "title": {
         "text": "Cumulative Distribution of Residuals (CDF) square-female"
        },
        "xaxis": {
         "anchor": "y",
         "domain": [
          0,
          1
         ],
         "title": {
          "text": "Residuals (Predicted - True)"
         }
        },
        "yaxis": {
         "anchor": "x",
         "domain": [
          0,
          1
         ],
         "rangemode": "tozero",
         "title": {
          "text": "probability"
         }
        }
       }
      }
     },
     "metadata": {},
     "output_type": "display_data"
    }
   ],
   "source": [
    "    \n",
    "    \n",
    "    \n",
    "for pond_type in df['PondType'].unique():    \n",
    "\n",
    "\n",
    "    fig = px.ecdf(df[df['PondType'] == pond_type], x=\"overestimation\", title=f\"Cumulative Distribution of Residuals (CDF) {pond_type}\",hover_data=['Label', 'PrawnID'])\n",
    "    fig.update_layout(\n",
    "        xaxis_title=\"Residuals (Predicted - True)\"\n",
    "    )\n",
    "    # Add a vertical line at 0 to show the separation between overestimation and underestimation\n",
    "    fig.add_vline(x=0, line_dash=\"dash\", line_color=\"red\")\n",
    "\n",
    "    fig.show()\n"
   ]
  },
  {
   "cell_type": "code",
   "execution_count": 49,
   "metadata": {},
   "outputs": [
    {
     "name": "stdout",
     "output_type": "stream",
     "text": [
      "pond type count:\n",
      "PondType\n",
      "circular-big      93\n",
      "circular-small    15\n",
      "square-female     14\n",
      "Name: count, dtype: int64\n",
      "pond type mean:\n",
      "PondType\n",
      "circular-big      116.341756\n",
      "circular-small     73.021133\n",
      "square-female     119.587619\n",
      "Name: Avg_Length, dtype: float64\n",
      "pond type std:\n",
      "PondType\n",
      "circular-big      18.716363\n",
      "circular-small    23.583171\n",
      "square-female     17.805035\n",
      "Name: Avg_Length, dtype: float64\n",
      "min_mpe fov median:\n",
      "PondType\n",
      "circular-big       8.873005\n",
      "circular-small    24.395622\n",
      "square-female      1.922570\n",
      "Name: min_mpe, dtype: float64\n",
      "min_mae fov median:\n",
      "PondType\n",
      "circular-big      11.390734\n",
      "circular-small    20.878955\n",
      "square-female      2.386082\n",
      "Name: min_mae, dtype: float64\n",
      "max_mpe fov median:\n",
      "PondType\n",
      "circular-big      23.144713\n",
      "circular-small    47.090420\n",
      "square-female     12.111046\n",
      "Name: max_mpe, dtype: float64\n",
      "max_mae fov median:\n",
      "PondType\n",
      "circular-big      24.212128\n",
      "circular-small    30.365965\n",
      "square-female     15.193373\n",
      "Name: max_mae, dtype: float64\n",
      "min_mpe focal length median:\n",
      "PondType\n",
      "circular-big      15.146605\n",
      "circular-small    31.043807\n",
      "square-female      3.199207\n",
      "Name: min_mpe_focal_length, dtype: float64\n",
      "max_mpe focal length median:\n",
      "PondType\n",
      "circular-big      30.007941\n",
      "circular-small    56.092023\n",
      "square-female     11.896526\n",
      "Name: max_mpe_focal_length, dtype: float64\n",
      "min_mae focal length median:\n",
      "PondType\n",
      "circular-big      18.538422\n",
      "circular-small    26.446219\n",
      "square-female      3.617151\n",
      "Name: min_mae_focal_length, dtype: float64\n",
      "max_mae focal length median:\n",
      "PondType\n",
      "circular-big      31.532922\n",
      "circular-small    37.403904\n",
      "square-female     14.994647\n",
      "Name: max_mae_focal_length, dtype: float64\n"
     ]
    }
   ],
   "source": [
    "#min_mpe_focal_length from MPError_focal_min, MPError_focal_max, MPError_focal_median\n",
    "# min_mae_focal_length from AbsError_focal_min, AbsError_focal_max, AbsError_focal_median\n",
    "\n",
    "df['min_mpe_focal_length']=df[['Error_percentage_max_box_focal','Error_percentage_min_box_focal','Error_percentage_median_box_focal']].min(axis=1)\n",
    "\n",
    "df['min_mae_focal_length']=df[['Abs_error_max_box_focal','Abs_error_min_box_focal','Abs_error_median_box_focal']].min(axis=1)\n",
    "\n",
    "df['max_mpe_focal_length']=df[['Error_percentage_max_box_focal','Error_percentage_min_box_focal','Error_percentage_median_box_focal']].max(axis=1)\n",
    "\n",
    "df['max_mae_focal_length']=df[['Abs_error_max_box_focal','Abs_error_min_box_focal','Abs_error_median_box_focal']].max(axis=1)\n",
    "\n",
    "\n",
    "\n",
    "#print title of the prints\n",
    "print('pond type count:')\n",
    "print(df['PondType'].value_counts())\n",
    "\n",
    "print('pond type mean:')\n",
    "print(df.groupby('PondType')['Avg_Length'].mean())\n",
    "\n",
    "print('pond type std:')\n",
    "print(df.groupby('PondType')['Avg_Length'].std())\n",
    "\n",
    "\n",
    "print ('min_mpe fov median:')\n",
    "print(df.groupby('PondType')['min_mpe'].median())\n",
    "#mean and std for each pond type of the lengt_1, length_2, length_\n",
    "\n",
    "#print min_mae median and std for each pond type\n",
    "\n",
    "print('min_mae fov median:')\n",
    "print(df.groupby('PondType')['min_mae'].median())\n",
    "\n",
    "\n",
    "\n",
    "print('max_mpe fov median:')\n",
    "print(df.groupby('PondType')['max_mpe'].median())\n",
    "\n",
    "print('max_mae fov median:')\n",
    "print(df.groupby('PondType')['max_mae'].median())\n",
    "\n",
    "\n",
    "print('min_mpe focal length median:')\n",
    "print(df.groupby('PondType')['min_mpe_focal_length'].median())\n",
    "\n",
    "print('max_mpe focal length median:')\n",
    "print(df.groupby('PondType')['max_mpe_focal_length'].median()) \n",
    "\n",
    "print('min_mae focal length median:')\n",
    "print(df.groupby('PondType')['min_mae_focal_length'].median())\n",
    "\n",
    "print('max_mae focal length median:')   \n",
    "print(df.groupby('PondType')['max_mae_focal_length'].median())\n",
    "\n",
    "\n",
    "\n",
    "\n",
    "\n",
    "\n"
   ]
  },
  {
   "cell_type": "code",
   "execution_count": 14,
   "metadata": {},
   "outputs": [
    {
     "name": "stdout",
     "output_type": "stream",
     "text": [
      "mean difference between min max for each pond type:\n",
      "PondType\n",
      "circular-big      14.402247\n",
      "circular-small     9.966533\n",
      "square-female     14.834071\n",
      "Name: diff_max_min, dtype: float64\n"
     ]
    }
   ],
   "source": [
    "#mean difference between min max of Length_1, Length_2, Length_3 for each pond type\n",
    "print('mean difference between min max for each pond type:')\n",
    "print(df.groupby('PondType')['diff_max_min'].mean())"
   ]
  },
  {
   "cell_type": "code",
   "execution_count": 16,
   "metadata": {},
   "outputs": [
    {
     "name": "stdout",
     "output_type": "stream",
     "text": [
      "uncertainty of the mean:\n",
      "Pond_Type\n",
      "circular big male      0.261743\n",
      "circular small male    0.649817\n",
      "square-femal           0.428996\n",
      "dtype: float64\n"
     ]
    }
   ],
   "source": [
    "#print uncertainty of the mean \n",
    "print('uncertainty of the mean:')\n",
    "print(df.groupby('Pond_Type')['Std_Length'].mean()/np.sqrt(df.groupby('Pond_Type')['Avg_Length'].count()))"
   ]
  },
  {
   "cell_type": "code",
   "execution_count": null,
   "metadata": {},
   "outputs": [],
   "source": [
    "X = df[['camera_distance', 'pose_metric_1', 'pose_metric_2']]  # Add other pose metrics if available\n",
    "X = sm.add_constant(X)\n",
    "y = df['diff']\n",
    "model = sm.OLS(y, X).fit()\n",
    "print(model.summary())\n",
    "\n",
    "\n",
    "\n",
    "\n",
    "melted_df = df.melt(id_vars=['Label','PrawnID'], value_vars=['Length_1', 'Length_2', 'Length_3'],\n",
    "                   var_name='rater', value_name='measurement')\n",
    "icc = pg.intraclass_corr(data=melted_df, targets=['Label','PrawnID'], raters='rater', ratings='measurement')\n",
    "print(icc)\n",
    "\n",
    "\n",
    "# Correlation Analysis\n",
    "pearson_corr, pearson_p = pearsonr(df['keypoint_mm'], df['expert_mean'])\n",
    "spearman_corr, spearman_p = spearmanr(df['keypoint_mm'], df['expert_mean'])\n",
    "print(f\"Pearson Correlation: {pearson_corr:.3f}, p-value: {pearson_p:.3e}\")\n",
    "print(f\"Spearman Correlation: {spearman_corr:.3f}, p-value: {spearman_p:.3e}\")\n",
    "\n",
    "mean_measurements = (df['keypoint_mm'] + df['expert_mean']) / 2\n",
    "diff_measurements = df['diff']\n",
    "md = np.mean(diff_measurements)\n",
    "sd = np.std(diff_measurements)\n",
    "\n",
    "plt.figure(figsize=(10, 6))\n",
    "plt.scatter(mean_measurements, diff_measurements, alpha=0.5)\n",
    "plt.axhline(md, color='gray', linestyle='--', label=f'Mean Diff = {md:.2f} mm')\n",
    "plt.axhline(md + 1.96*sd, color='red', linestyle='--', label=f'+1.96 SD = {md + 1.96*sd:.2f} mm')\n",
    "plt.axhline(md - 1.96*sd, color='red', linestyle='--', label=f'-1.96 SD = {md - 1.96*sd:.2f} mm')\n",
    "plt.xlabel('Mean of Measurements (mm)')\n",
    "plt.ylabel('Difference (Keypoint - Expert) (mm)')\n",
    "plt.title('Bland-Altman Plot')\n",
    "plt.legend()\n",
    "plt.show()\n",
    "\n",
    "\n",
    "\n",
    "stat, p = shapiro(df['diff'])\n",
    "print(f'Shapiro-Wilk Test: stat={stat:.3f}, p-value={p:.3e}')\n",
    "\n",
    "# Homogeneity of Variance\n",
    "# Assuming 'camera_distance_category' is already defined as in the visualization section\n",
    "groups = df.groupby('camera_distance_category')['diff'].apply(list)\n",
    "stat, p = levene(*groups)\n",
    "print(f\"Levene’s Test: stat={stat:.3f}, p-value={p:.3e}\")\n"
   ]
  }
 ],
 "metadata": {
  "kernelspec": {
   "display_name": ".venv",
   "language": "python",
   "name": "python3"
  },
  "language_info": {
   "codemirror_mode": {
    "name": "ipython",
    "version": 3
   },
   "file_extension": ".py",
   "mimetype": "text/x-python",
   "name": "python",
   "nbconvert_exporter": "python",
   "pygments_lexer": "ipython3",
   "version": "3.9.6"
  }
 },
 "nbformat": 4,
 "nbformat_minor": 2
}
