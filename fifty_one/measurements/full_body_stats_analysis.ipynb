{
 "cells": [
  {
   "cell_type": "code",
   "execution_count": 9,
   "metadata": {},
   "outputs": [
    {
     "name": "stdout",
     "output_type": "stream",
     "text": [
      "132\n",
      "122\n"
     ]
    },
    {
     "data": {
      "text/plain": [
       "0      13.531881\n",
       "1      16.244194\n",
       "2      19.428639\n",
       "3      25.854054\n",
       "4       1.158355\n",
       "         ...    \n",
       "127    13.822175\n",
       "128     8.330294\n",
       "129     2.596119\n",
       "130     7.247296\n",
       "131     4.559620\n",
       "Name: Error_percentage_median_box_fov, Length: 122, dtype: float64"
      ]
     },
     "execution_count": 9,
     "metadata": {},
     "output_type": "execute_result"
    }
   ],
   "source": [
    "import pandas as pd\n",
    "\n",
    "df=pd.read_excel(r'C:\\Users\\gbo10\\Videos\\research\\counting_research_algorithms\\fifty_one\\measurements\\Updated_full_Filtered_Data_with_real_length.xlsx')\n",
    "\n",
    "print(len(df))\n",
    "df=df.dropna()\n",
    "print(len(df))\n",
    "\n",
    "# df['Pond_Type'] = df['Pond_Type'].replace({'test-car': 'square-femal', 'test-right': 'circular big male', 'test-left': 'circular small male'})\n",
    "df['Error_percentage_median_box_fov']\n"
   ]
  },
  {
   "cell_type": "code",
   "execution_count": 10,
   "metadata": {},
   "outputs": [
    {
     "name": "stdout",
     "output_type": "stream",
     "text": [
      "mean difference between min max 13.906426229508195\n",
      "std  difference between min max  8.855148117364463\n"
     ]
    },
    {
     "data": {
      "application/vnd.plotly.v1+json": {
       "config": {
        "plotlyServerURL": "https://plot.ly"
       },
       "data": [
        {
         "alignmentgroup": "True",
         "box": {
          "visible": true
         },
         "customdata": [
          [
           "full body:undistorted_GX010077_14_237.jpg_gamma",
           "Prawn_0"
          ],
          [
           "full body:undistorted_GX010077_14_237.jpg_gamma",
           "Prawn_1"
          ],
          [
           "full body:undistorted_GX010077_14_237.jpg_gamma",
           "Prawn_2"
          ],
          [
           "full body:undistorted_GX010067_33_625.jpg_gamma",
           "Prawn_0"
          ],
          [
           "full body:undistorted_GX010067_33_625.jpg_gamma",
           "Prawn_1"
          ],
          [
           "full body:undistorted_GX010067_33_625.jpg_gamma",
           "Prawn_2"
          ],
          [
           "full body:undistorted_GX010067_33_625.jpg_gamma",
           "Prawn_3"
          ],
          [
           "full body:undistorted_GX010068_26_666.jpg_gamma",
           "Prawn_0"
          ],
          [
           "full body:undistorted_GX010068_26_666.jpg_gamma",
           "Prawn_1"
          ],
          [
           "full body:undistorted_GX010068_26_666.jpg_gamma",
           "Prawn_2"
          ],
          [
           "full body:undistorted_GX010068_27_795.jpg_gamma",
           "Prawn_0"
          ],
          [
           "full body:undistorted_GX010068_27_795.jpg_gamma",
           "Prawn_1"
          ],
          [
           "full body:undistorted_GX010069_19_191.jpg_gamma",
           "Prawn_0"
          ],
          [
           "full body:undistorted_GX010069_19_191.jpg_gamma",
           "Prawn_1"
          ],
          [
           "full body:undistorted_GX010069_19_191.jpg_gamma",
           "Prawn_2"
          ],
          [
           "full body:undistorted_GX010069_19_191.jpg_gamma",
           "Prawn_3"
          ],
          [
           "full body:undistorted_GX010071_22_444.jpg_gamma",
           "Prawn_0"
          ],
          [
           "full body:undistorted_GX010071_22_444.jpg_gamma",
           "Prawn_1"
          ],
          [
           "full body:undistorted_GX010073_42_695.jpg_gamma",
           "Prawn_0"
          ],
          [
           "full body:undistorted_GX010073_42_695.jpg_gamma",
           "Prawn_1"
          ],
          [
           "full body:undistorted_GX010073_42_695.jpg_gamma",
           "Prawn_2"
          ],
          [
           "full body:undistorted_GX010073_55_1014.jpg_gamma",
           "Prawn_0"
          ],
          [
           "full body:undistorted_GX010073_55_1014.jpg_gamma",
           "Prawn_1"
          ],
          [
           "full body:undistorted_GX010073_55_1014.jpg_gamma",
           "Prawn_2"
          ],
          [
           "full body:undistorted_GX010080_157_2283.jpg_gamma",
           "Prawn_0"
          ],
          [
           "full body:undistorted_GX010080_157_2283.jpg_gamma",
           "Prawn_2"
          ],
          [
           "full body:undistorted_GX010080_157_2283.jpg_gamma",
           "Prawn_3"
          ],
          [
           "full body:undistorted_GX010080_193_2640.jpg_gamma",
           "Prawn_0"
          ],
          [
           "full body:undistorted_GX010080_193_2640.jpg_gamma",
           "Prawn_1"
          ],
          [
           "full body:undistorted_GX010080_193_2640.jpg_gamma",
           "Prawn_2"
          ],
          [
           "full body:undistorted_GX010080_193_2640.jpg_gamma",
           "Prawn_3"
          ],
          [
           "full body:undistorted_GX010080_193_2640.jpg_gamma",
           "Prawn_4"
          ],
          [
           "full body:undistorted_GX010080_212_2954.jpg_gamma",
           "Prawn_0"
          ],
          [
           "full body:undistorted_GX010080_212_2954.jpg_gamma",
           "Prawn_1"
          ],
          [
           "full body:undistorted_GX010080_212_2954.jpg_gamma",
           "Prawn_2"
          ],
          [
           "full body:undistorted_GX010080_237_3366.jpg_gamma",
           "Prawn_0"
          ],
          [
           "full body:undistorted_GX010080_237_3366.jpg_gamma",
           "Prawn_1"
          ],
          [
           "full body:undistorted_GX010080_237_3366.jpg_gamma",
           "Prawn_2"
          ],
          [
           "full body:undistorted_GX010080_237_3366.jpg_gamma",
           "Prawn_3"
          ],
          [
           "full body:undistorted_GX010080_237_3366.jpg_gamma",
           "Prawn_4"
          ],
          [
           "full body:undistorted_GX010080_238_3392.jpg_gamma",
           "Prawn_0"
          ],
          [
           "full body:undistorted_GX010080_238_3392.jpg_gamma",
           "Prawn_1"
          ],
          [
           "full body:undistorted_GX010080_238_3392.jpg_gamma",
           "Prawn_2"
          ],
          [
           "full body:undistorted_GX010080_238_3392.jpg_gamma",
           "Prawn_3"
          ],
          [
           "full body:undistorted_GX010082_8_59.jpg_gamma",
           "Prawn_1"
          ],
          [
           "full body:undistorted_GX010082_8_59.jpg_gamma",
           "Prawn_2"
          ],
          [
           "full body:undistorted_GX010082_8_59.jpg_gamma",
           "Prawn_3"
          ],
          [
           "full body:undistorted_GX010082_8_59.jpg_gamma",
           "Prawn_4"
          ],
          [
           "full body:undistorted_GX010082_53_796.jpg_gamma",
           "Prawn_0"
          ],
          [
           "full body:undistorted_GX010082_53_796.jpg_gamma",
           "Prawn_1"
          ],
          [
           "full body:undistorted_GX010082_65_1070.jpg_gamma",
           "Prawn_0"
          ],
          [
           "full body:undistorted_GX010082_65_1070.jpg_gamma",
           "Prawn_1"
          ],
          [
           "full body:undistorted_GX010082_65_1070.jpg_gamma",
           "Prawn_2"
          ],
          [
           "full body:undistorted_GX010082_236_3137.jpg_gamma",
           "Prawn_0"
          ],
          [
           "full body:undistorted_GX010082_236_3137.jpg_gamma",
           "Prawn_1"
          ],
          [
           "full body:undistorted_GX010082_236_3137.jpg_gamma",
           "Prawn_2"
          ],
          [
           "full body:undistorted_GX010084_30_344.jpg_gamma",
           "Prawn_0"
          ],
          [
           "full body:undistorted_GX010084_30_344.jpg_gamma",
           "Prawn_1"
          ],
          [
           "full body:undistorted_GX010084_30_344.jpg_gamma",
           "Prawn_2"
          ],
          [
           "full body:undistorted_GX010084_30_344.jpg_gamma",
           "Prawn_3"
          ],
          [
           "full body:undistorted_GX010084_130_1748.jpg_gamma",
           "Prawn_0"
          ],
          [
           "full body:undistorted_GX010084_130_1748.jpg_gamma",
           "Prawn_1"
          ],
          [
           "full body:undistorted_GX010084_130_1748.jpg_gamma",
           "Prawn_2"
          ],
          [
           "full body:undistorted_GX010085_261_3610.jpg_gamma",
           "Prawn_0"
          ],
          [
           "full body:undistorted_GX010085_261_3610.jpg_gamma",
           "Prawn_1"
          ],
          [
           "full body:undistorted_GX010088_209_2904.jpg_gamma",
           "Prawn_0"
          ],
          [
           "full body:undistorted_GX010088_209_2904.jpg_gamma",
           "Prawn_1"
          ],
          [
           "full body:undistorted_GX010088_262_3712.jpg_gamma",
           "Prawn_0"
          ],
          [
           "full body:undistorted_GX010088_262_3712.jpg_gamma",
           "Prawn_1"
          ],
          [
           "full body:undistorted_GX010088_262_3712.jpg_gamma",
           "Prawn_2"
          ],
          [
           "full body:undistorted_GX010088_327_4364.jpg_gamma",
           "Prawn_0"
          ],
          [
           "full body:undistorted_GX010088_327_4364.jpg_gamma",
           "Prawn_1"
          ],
          [
           "full body:undistorted_GX010088_327_4364.jpg_gamma",
           "Prawn_2"
          ],
          [
           "full body:undistorted_GX010088_327_4364.jpg_gamma",
           "Prawn_3"
          ],
          [
           "full body:undistorted_GX010089_11_236.jpg_gamma",
           "Prawn_0"
          ],
          [
           "full body:undistorted_GX010089_11_236.jpg_gamma",
           "Prawn_1"
          ],
          [
           "full body:undistorted_GX010089_11_236.jpg_gamma",
           "Prawn_2"
          ],
          [
           "full body:undistorted_GX010089_11_236.jpg_gamma",
           "Prawn_3"
          ],
          [
           "full body:undistorted_GX010090_132_1852.jpg_gamma",
           "Prawn_0"
          ],
          [
           "full body:undistorted_GX010091_5_149.jpg_gamma",
           "Prawn_0"
          ],
          [
           "full body:undistorted_GX010091_5_149.jpg_gamma",
           "Prawn_1"
          ],
          [
           "full body:undistorted_GX010091_5_149.jpg_gamma",
           "Prawn_2"
          ],
          [
           "full body:undistorted_GX010094_9_129.jpg_gamma",
           "Prawn_0"
          ],
          [
           "full body:undistorted_GX010094_9_129.jpg_gamma",
           "Prawn_1"
          ],
          [
           "full body:undistorted_GX010094_24_430.jpg_gamma",
           "Prawn_0"
          ],
          [
           "full body:undistorted_GX010094_93_1258.jpg_gamma",
           "Prawn_0"
          ],
          [
           "full body:undistorted_GX010094_163_2312.jpg_gamma",
           "Prawn_0"
          ],
          [
           "full body:undistorted_GX010097_32_528.jpg_gamma",
           "Prawn_0"
          ],
          [
           "full body:undistorted_GX010097_32_528.jpg_gamma",
           "Prawn_1"
          ],
          [
           "full body:undistorted_GX010097_60_1080.jpg_gamma",
           "Prawn_0"
          ],
          [
           "full body:undistorted_GX010097_60_1080.jpg_gamma",
           "Prawn_1"
          ],
          [
           "full body:undistorted_GX010097_60_1080.jpg_gamma",
           "Prawn_2"
          ],
          [
           "full body:undistorted_GX010097_60_1080.jpg_gamma",
           "Prawn_3"
          ],
          [
           "full body:undistorted_GX010097_105_1651.jpg_gamma",
           "Prawn_0"
          ],
          [
           "full body:undistorted_GX010097_105_1651.jpg_gamma",
           "Prawn_1"
          ],
          [
           "full body:undistorted_GX010097_105_1651.jpg_gamma",
           "Prawn_2"
          ],
          [
           "full body:undistorted_GX010097_105_1651.jpg_gamma",
           "Prawn_3"
          ],
          [
           "full body:undistorted_GX010097_124_1870.jpg_gamma",
           "Prawn_0"
          ],
          [
           "full body:undistorted_GX010097_124_1870.jpg_gamma",
           "Prawn_1"
          ],
          [
           "full body:undistorted_GX010101_12_173.jpg_gamma",
           "Prawn_0"
          ],
          [
           "full body:undistorted_GX010102_9_165.jpg_gamma",
           "Prawn_1"
          ],
          [
           "full body:undistorted_GX010102_9_165.jpg_gamma",
           "Prawn_2"
          ],
          [
           "full body:undistorted_GX010102_9_165.jpg_gamma",
           "Prawn_3"
          ],
          [
           "full body:undistorted_GX010102_9_165.jpg_gamma",
           "Prawn_4"
          ],
          [
           "full body:undistorted_GX010102_9_165.jpg_gamma",
           "Prawn_5"
          ],
          [
           "full body:undistorted_GX010102_50_1396.jpg_gamma",
           "Prawn_0"
          ],
          [
           "full body:undistorted_GX010105_28_816.jpg_gamma",
           "Prawn_0"
          ],
          [
           "full body:undistorted_GX010105_28_816.jpg_gamma",
           "Prawn_1"
          ],
          [
           "full body:undistorted_GX010152_36_378.jpg_gamma",
           "Prawn_0"
          ],
          [
           "full body:undistorted_GX010152_36_378.jpg_gamma",
           "Prawn_1"
          ],
          [
           "full body:undistorted_GX010157_160_2259",
           "Prawn_0"
          ],
          [
           "full body:undistorted_GX010157_174_2582.jpg_gamma",
           "Prawn_0"
          ],
          [
           "full body:undistorted_GX010157_177_2665.jpg_gamma",
           "Prawn_0"
          ],
          [
           "full body:undistorted_GX010161_54_676.jpg_gamma.jpg_gamma",
           "Prawn_0"
          ],
          [
           "full body:undistorted_GX010162_72_927.jpg_gamma.jpg_gamma",
           "Prawn_0"
          ],
          [
           "full body:undistorted_GX010174_62_790.jpg_gamma",
           "Prawn_0"
          ],
          [
           "full body:undistorted_GX010175_266_3372.jpg_gamma.jpg_gamma",
           "Prawn_0"
          ],
          [
           "full body:undistorted_GX010177_232_3047",
           "Prawn_0"
          ],
          [
           "full body:undistorted_GX010178_172_3604.jpg_gamma",
           "Prawn_0"
          ],
          [
           "full body:undistorted_GX010183_37_685.jpg_gamma",
           "Prawn_0"
          ],
          [
           "full body:undistorted_GX010183_80_1633.jpg_gamma",
           "Prawn_0"
          ],
          [
           "full body:undistorted_GX010183_128_2852.jpg_gamma",
           "Prawn_0"
          ]
         ],
         "hovertemplate": "PondType=%{x}<br>diff_max_min=%{y}<br>Label=%{customdata[0]}<br>PrawnID=%{customdata[1]}<extra></extra>",
         "legendgroup": "",
         "marker": {
          "color": "#636efa"
         },
         "name": "",
         "offsetgroup": "",
         "orientation": "v",
         "points": "all",
         "scalegroup": "True",
         "showlegend": false,
         "type": "violin",
         "x": [
          "circular-big",
          "circular-big",
          "circular-big",
          "circular-big",
          "circular-big",
          "circular-big",
          "circular-big",
          "circular-big",
          "circular-big",
          "circular-big",
          "circular-big",
          "circular-big",
          "circular-big",
          "circular-big",
          "circular-big",
          "circular-big",
          "circular-big",
          "circular-big",
          "circular-big",
          "circular-big",
          "circular-big",
          "circular-big",
          "circular-big",
          "circular-big",
          "circular-big",
          "circular-big",
          "circular-big",
          "circular-big",
          "circular-big",
          "circular-big",
          "circular-big",
          "circular-big",
          "circular-big",
          "circular-big",
          "circular-big",
          "circular-big",
          "circular-big",
          "circular-big",
          "circular-big",
          "circular-big",
          "circular-big",
          "circular-big",
          "circular-big",
          "circular-big",
          "circular-big",
          "circular-big",
          "circular-big",
          "circular-big",
          "circular-big",
          "circular-big",
          "circular-big",
          "circular-big",
          "circular-big",
          "circular-big",
          "circular-big",
          "circular-big",
          "circular-big",
          "circular-big",
          "circular-big",
          "circular-big",
          "circular-big",
          "circular-big",
          "circular-big",
          "circular-big",
          "circular-big",
          "circular-big",
          "circular-big",
          "circular-big",
          "circular-big",
          "circular-big",
          "circular-big",
          "circular-big",
          "circular-big",
          "circular-big",
          "circular-small",
          "circular-small",
          "circular-small",
          "circular-small",
          "circular-big",
          "circular-small",
          "circular-small",
          "circular-small",
          "circular-big",
          "circular-big",
          "circular-big",
          "circular-big",
          "circular-big",
          "circular-big",
          "circular-big",
          "circular-big",
          "circular-big",
          "circular-big",
          "circular-big",
          "circular-big",
          "circular-big",
          "circular-big",
          "circular-big",
          "circular-big",
          "circular-big",
          "circular-big",
          "circular-small",
          "circular-small",
          "circular-small",
          "circular-small",
          "circular-small",
          "circular-small",
          "circular-small",
          "circular-small",
          "square-female",
          "square-female",
          "square-female",
          "square-female",
          "square-female",
          "square-female",
          "square-female",
          "square-female",
          "square-female",
          "square-female",
          "square-female",
          "square-female",
          "square-female",
          "square-female"
         ],
         "x0": " ",
         "xaxis": "x",
         "y": [
          6.5589999999999975,
          15.022999999999996,
          20.58399999999999,
          20.37100000000001,
          12.359000000000009,
          19.778999999999996,
          15.442000000000007,
          15.587999999999994,
          14.279999999999987,
          7.781000000000006,
          14.713999999999999,
          5.068999999999988,
          11.673000000000002,
          4.125999999999991,
          10.435999999999993,
          4.0319999999999965,
          21.93100000000001,
          22.715000000000003,
          5.935000000000002,
          13.052000000000007,
          29.048000000000002,
          6.549000000000007,
          6.932000000000002,
          2.7349999999999994,
          4.6499999999999915,
          5.9539999999999935,
          2.168999999999997,
          6.111000000000004,
          7.162999999999997,
          8.997,
          11.129999999999995,
          10.560000000000002,
          5.4480000000000075,
          6.822999999999993,
          17.106000000000023,
          6.728999999999985,
          11.543999999999983,
          9.346000000000004,
          15.460000000000008,
          13.295999999999992,
          16.384000000000015,
          5.481999999999999,
          8.849999999999994,
          16.912000000000006,
          17.26400000000001,
          19.744000000000014,
          27.531999999999996,
          16.751999999999995,
          22.265,
          25.727000000000004,
          14.35199999999999,
          1.424999999999983,
          6.475999999999999,
          7.550000000000004,
          11.953999999999994,
          18.735,
          16.242999999999995,
          21.004999999999995,
          20.964,
          20.679000000000016,
          49.33500000000001,
          26.163999999999987,
          50.556,
          7.437000000000012,
          13.682000000000002,
          11.588999999999999,
          30,
          18.123000000000005,
          6.496999999999986,
          4.8629999999999995,
          24.551000000000002,
          25.465999999999994,
          29.26899999999999,
          17.070999999999998,
          7.447999999999993,
          13.055999999999997,
          5.664999999999992,
          6.802999999999997,
          28.076999999999998,
          14.800000000000011,
          23.763999999999996,
          4.761999999999993,
          23.200000000000003,
          19.822000000000003,
          6.548000000000002,
          20.259,
          18.209999999999994,
          17.593000000000004,
          6.284000000000006,
          5.079999999999998,
          6.060000000000002,
          4.805999999999997,
          17.605999999999995,
          4.947000000000017,
          23.055000000000007,
          14.206000000000003,
          5.420000000000002,
          10.331000000000003,
          16.807000000000002,
          11.001000000000005,
          8.495000000000005,
          6.848999999999997,
          3.7830000000000013,
          9.707,
          11.768,
          9.290000000000006,
          9.537000000000006,
          13.771,
          18.689000000000007,
          23.32199999999999,
          6.753,
          18.899,
          29.244000000000014,
          12.349000000000004,
          4.143000000000001,
          8.311000000000007,
          2.043999999999997,
          32.861000000000004,
          25.595,
          1.0559999999999974,
          15.244,
          9.167000000000002
         ],
         "y0": " ",
         "yaxis": "y"
        }
       ],
       "layout": {
        "legend": {
         "tracegroupgap": 0
        },
        "template": {
         "data": {
          "bar": [
           {
            "error_x": {
             "color": "#2a3f5f"
            },
            "error_y": {
             "color": "#2a3f5f"
            },
            "marker": {
             "line": {
              "color": "#E5ECF6",
              "width": 0.5
             },
             "pattern": {
              "fillmode": "overlay",
              "size": 10,
              "solidity": 0.2
             }
            },
            "type": "bar"
           }
          ],
          "barpolar": [
           {
            "marker": {
             "line": {
              "color": "#E5ECF6",
              "width": 0.5
             },
             "pattern": {
              "fillmode": "overlay",
              "size": 10,
              "solidity": 0.2
             }
            },
            "type": "barpolar"
           }
          ],
          "carpet": [
           {
            "aaxis": {
             "endlinecolor": "#2a3f5f",
             "gridcolor": "white",
             "linecolor": "white",
             "minorgridcolor": "white",
             "startlinecolor": "#2a3f5f"
            },
            "baxis": {
             "endlinecolor": "#2a3f5f",
             "gridcolor": "white",
             "linecolor": "white",
             "minorgridcolor": "white",
             "startlinecolor": "#2a3f5f"
            },
            "type": "carpet"
           }
          ],
          "choropleth": [
           {
            "colorbar": {
             "outlinewidth": 0,
             "ticks": ""
            },
            "type": "choropleth"
           }
          ],
          "contour": [
           {
            "colorbar": {
             "outlinewidth": 0,
             "ticks": ""
            },
            "colorscale": [
             [
              0,
              "#0d0887"
             ],
             [
              0.1111111111111111,
              "#46039f"
             ],
             [
              0.2222222222222222,
              "#7201a8"
             ],
             [
              0.3333333333333333,
              "#9c179e"
             ],
             [
              0.4444444444444444,
              "#bd3786"
             ],
             [
              0.5555555555555556,
              "#d8576b"
             ],
             [
              0.6666666666666666,
              "#ed7953"
             ],
             [
              0.7777777777777778,
              "#fb9f3a"
             ],
             [
              0.8888888888888888,
              "#fdca26"
             ],
             [
              1,
              "#f0f921"
             ]
            ],
            "type": "contour"
           }
          ],
          "contourcarpet": [
           {
            "colorbar": {
             "outlinewidth": 0,
             "ticks": ""
            },
            "type": "contourcarpet"
           }
          ],
          "heatmap": [
           {
            "colorbar": {
             "outlinewidth": 0,
             "ticks": ""
            },
            "colorscale": [
             [
              0,
              "#0d0887"
             ],
             [
              0.1111111111111111,
              "#46039f"
             ],
             [
              0.2222222222222222,
              "#7201a8"
             ],
             [
              0.3333333333333333,
              "#9c179e"
             ],
             [
              0.4444444444444444,
              "#bd3786"
             ],
             [
              0.5555555555555556,
              "#d8576b"
             ],
             [
              0.6666666666666666,
              "#ed7953"
             ],
             [
              0.7777777777777778,
              "#fb9f3a"
             ],
             [
              0.8888888888888888,
              "#fdca26"
             ],
             [
              1,
              "#f0f921"
             ]
            ],
            "type": "heatmap"
           }
          ],
          "heatmapgl": [
           {
            "colorbar": {
             "outlinewidth": 0,
             "ticks": ""
            },
            "colorscale": [
             [
              0,
              "#0d0887"
             ],
             [
              0.1111111111111111,
              "#46039f"
             ],
             [
              0.2222222222222222,
              "#7201a8"
             ],
             [
              0.3333333333333333,
              "#9c179e"
             ],
             [
              0.4444444444444444,
              "#bd3786"
             ],
             [
              0.5555555555555556,
              "#d8576b"
             ],
             [
              0.6666666666666666,
              "#ed7953"
             ],
             [
              0.7777777777777778,
              "#fb9f3a"
             ],
             [
              0.8888888888888888,
              "#fdca26"
             ],
             [
              1,
              "#f0f921"
             ]
            ],
            "type": "heatmapgl"
           }
          ],
          "histogram": [
           {
            "marker": {
             "pattern": {
              "fillmode": "overlay",
              "size": 10,
              "solidity": 0.2
             }
            },
            "type": "histogram"
           }
          ],
          "histogram2d": [
           {
            "colorbar": {
             "outlinewidth": 0,
             "ticks": ""
            },
            "colorscale": [
             [
              0,
              "#0d0887"
             ],
             [
              0.1111111111111111,
              "#46039f"
             ],
             [
              0.2222222222222222,
              "#7201a8"
             ],
             [
              0.3333333333333333,
              "#9c179e"
             ],
             [
              0.4444444444444444,
              "#bd3786"
             ],
             [
              0.5555555555555556,
              "#d8576b"
             ],
             [
              0.6666666666666666,
              "#ed7953"
             ],
             [
              0.7777777777777778,
              "#fb9f3a"
             ],
             [
              0.8888888888888888,
              "#fdca26"
             ],
             [
              1,
              "#f0f921"
             ]
            ],
            "type": "histogram2d"
           }
          ],
          "histogram2dcontour": [
           {
            "colorbar": {
             "outlinewidth": 0,
             "ticks": ""
            },
            "colorscale": [
             [
              0,
              "#0d0887"
             ],
             [
              0.1111111111111111,
              "#46039f"
             ],
             [
              0.2222222222222222,
              "#7201a8"
             ],
             [
              0.3333333333333333,
              "#9c179e"
             ],
             [
              0.4444444444444444,
              "#bd3786"
             ],
             [
              0.5555555555555556,
              "#d8576b"
             ],
             [
              0.6666666666666666,
              "#ed7953"
             ],
             [
              0.7777777777777778,
              "#fb9f3a"
             ],
             [
              0.8888888888888888,
              "#fdca26"
             ],
             [
              1,
              "#f0f921"
             ]
            ],
            "type": "histogram2dcontour"
           }
          ],
          "mesh3d": [
           {
            "colorbar": {
             "outlinewidth": 0,
             "ticks": ""
            },
            "type": "mesh3d"
           }
          ],
          "parcoords": [
           {
            "line": {
             "colorbar": {
              "outlinewidth": 0,
              "ticks": ""
             }
            },
            "type": "parcoords"
           }
          ],
          "pie": [
           {
            "automargin": true,
            "type": "pie"
           }
          ],
          "scatter": [
           {
            "fillpattern": {
             "fillmode": "overlay",
             "size": 10,
             "solidity": 0.2
            },
            "type": "scatter"
           }
          ],
          "scatter3d": [
           {
            "line": {
             "colorbar": {
              "outlinewidth": 0,
              "ticks": ""
             }
            },
            "marker": {
             "colorbar": {
              "outlinewidth": 0,
              "ticks": ""
             }
            },
            "type": "scatter3d"
           }
          ],
          "scattercarpet": [
           {
            "marker": {
             "colorbar": {
              "outlinewidth": 0,
              "ticks": ""
             }
            },
            "type": "scattercarpet"
           }
          ],
          "scattergeo": [
           {
            "marker": {
             "colorbar": {
              "outlinewidth": 0,
              "ticks": ""
             }
            },
            "type": "scattergeo"
           }
          ],
          "scattergl": [
           {
            "marker": {
             "colorbar": {
              "outlinewidth": 0,
              "ticks": ""
             }
            },
            "type": "scattergl"
           }
          ],
          "scattermapbox": [
           {
            "marker": {
             "colorbar": {
              "outlinewidth": 0,
              "ticks": ""
             }
            },
            "type": "scattermapbox"
           }
          ],
          "scatterpolar": [
           {
            "marker": {
             "colorbar": {
              "outlinewidth": 0,
              "ticks": ""
             }
            },
            "type": "scatterpolar"
           }
          ],
          "scatterpolargl": [
           {
            "marker": {
             "colorbar": {
              "outlinewidth": 0,
              "ticks": ""
             }
            },
            "type": "scatterpolargl"
           }
          ],
          "scatterternary": [
           {
            "marker": {
             "colorbar": {
              "outlinewidth": 0,
              "ticks": ""
             }
            },
            "type": "scatterternary"
           }
          ],
          "surface": [
           {
            "colorbar": {
             "outlinewidth": 0,
             "ticks": ""
            },
            "colorscale": [
             [
              0,
              "#0d0887"
             ],
             [
              0.1111111111111111,
              "#46039f"
             ],
             [
              0.2222222222222222,
              "#7201a8"
             ],
             [
              0.3333333333333333,
              "#9c179e"
             ],
             [
              0.4444444444444444,
              "#bd3786"
             ],
             [
              0.5555555555555556,
              "#d8576b"
             ],
             [
              0.6666666666666666,
              "#ed7953"
             ],
             [
              0.7777777777777778,
              "#fb9f3a"
             ],
             [
              0.8888888888888888,
              "#fdca26"
             ],
             [
              1,
              "#f0f921"
             ]
            ],
            "type": "surface"
           }
          ],
          "table": [
           {
            "cells": {
             "fill": {
              "color": "#EBF0F8"
             },
             "line": {
              "color": "white"
             }
            },
            "header": {
             "fill": {
              "color": "#C8D4E3"
             },
             "line": {
              "color": "white"
             }
            },
            "type": "table"
           }
          ]
         },
         "layout": {
          "annotationdefaults": {
           "arrowcolor": "#2a3f5f",
           "arrowhead": 0,
           "arrowwidth": 1
          },
          "autotypenumbers": "strict",
          "coloraxis": {
           "colorbar": {
            "outlinewidth": 0,
            "ticks": ""
           }
          },
          "colorscale": {
           "diverging": [
            [
             0,
             "#8e0152"
            ],
            [
             0.1,
             "#c51b7d"
            ],
            [
             0.2,
             "#de77ae"
            ],
            [
             0.3,
             "#f1b6da"
            ],
            [
             0.4,
             "#fde0ef"
            ],
            [
             0.5,
             "#f7f7f7"
            ],
            [
             0.6,
             "#e6f5d0"
            ],
            [
             0.7,
             "#b8e186"
            ],
            [
             0.8,
             "#7fbc41"
            ],
            [
             0.9,
             "#4d9221"
            ],
            [
             1,
             "#276419"
            ]
           ],
           "sequential": [
            [
             0,
             "#0d0887"
            ],
            [
             0.1111111111111111,
             "#46039f"
            ],
            [
             0.2222222222222222,
             "#7201a8"
            ],
            [
             0.3333333333333333,
             "#9c179e"
            ],
            [
             0.4444444444444444,
             "#bd3786"
            ],
            [
             0.5555555555555556,
             "#d8576b"
            ],
            [
             0.6666666666666666,
             "#ed7953"
            ],
            [
             0.7777777777777778,
             "#fb9f3a"
            ],
            [
             0.8888888888888888,
             "#fdca26"
            ],
            [
             1,
             "#f0f921"
            ]
           ],
           "sequentialminus": [
            [
             0,
             "#0d0887"
            ],
            [
             0.1111111111111111,
             "#46039f"
            ],
            [
             0.2222222222222222,
             "#7201a8"
            ],
            [
             0.3333333333333333,
             "#9c179e"
            ],
            [
             0.4444444444444444,
             "#bd3786"
            ],
            [
             0.5555555555555556,
             "#d8576b"
            ],
            [
             0.6666666666666666,
             "#ed7953"
            ],
            [
             0.7777777777777778,
             "#fb9f3a"
            ],
            [
             0.8888888888888888,
             "#fdca26"
            ],
            [
             1,
             "#f0f921"
            ]
           ]
          },
          "colorway": [
           "#636efa",
           "#EF553B",
           "#00cc96",
           "#ab63fa",
           "#FFA15A",
           "#19d3f3",
           "#FF6692",
           "#B6E880",
           "#FF97FF",
           "#FECB52"
          ],
          "font": {
           "color": "#2a3f5f"
          },
          "geo": {
           "bgcolor": "white",
           "lakecolor": "white",
           "landcolor": "#E5ECF6",
           "showlakes": true,
           "showland": true,
           "subunitcolor": "white"
          },
          "hoverlabel": {
           "align": "left"
          },
          "hovermode": "closest",
          "mapbox": {
           "style": "light"
          },
          "paper_bgcolor": "white",
          "plot_bgcolor": "#E5ECF6",
          "polar": {
           "angularaxis": {
            "gridcolor": "white",
            "linecolor": "white",
            "ticks": ""
           },
           "bgcolor": "#E5ECF6",
           "radialaxis": {
            "gridcolor": "white",
            "linecolor": "white",
            "ticks": ""
           }
          },
          "scene": {
           "xaxis": {
            "backgroundcolor": "#E5ECF6",
            "gridcolor": "white",
            "gridwidth": 2,
            "linecolor": "white",
            "showbackground": true,
            "ticks": "",
            "zerolinecolor": "white"
           },
           "yaxis": {
            "backgroundcolor": "#E5ECF6",
            "gridcolor": "white",
            "gridwidth": 2,
            "linecolor": "white",
            "showbackground": true,
            "ticks": "",
            "zerolinecolor": "white"
           },
           "zaxis": {
            "backgroundcolor": "#E5ECF6",
            "gridcolor": "white",
            "gridwidth": 2,
            "linecolor": "white",
            "showbackground": true,
            "ticks": "",
            "zerolinecolor": "white"
           }
          },
          "shapedefaults": {
           "line": {
            "color": "#2a3f5f"
           }
          },
          "ternary": {
           "aaxis": {
            "gridcolor": "white",
            "linecolor": "white",
            "ticks": ""
           },
           "baxis": {
            "gridcolor": "white",
            "linecolor": "white",
            "ticks": ""
           },
           "bgcolor": "#E5ECF6",
           "caxis": {
            "gridcolor": "white",
            "linecolor": "white",
            "ticks": ""
           }
          },
          "title": {
           "x": 0.05
          },
          "xaxis": {
           "automargin": true,
           "gridcolor": "white",
           "linecolor": "white",
           "ticks": "",
           "title": {
            "standoff": 15
           },
           "zerolinecolor": "white",
           "zerolinewidth": 2
          },
          "yaxis": {
           "automargin": true,
           "gridcolor": "white",
           "linecolor": "white",
           "ticks": "",
           "title": {
            "standoff": 15
           },
           "zerolinecolor": "white",
           "zerolinewidth": 2
          }
         }
        },
        "title": {
         "text": "Violin plot of diff_max_min"
        },
        "violinmode": "group",
        "xaxis": {
         "anchor": "y",
         "domain": [
          0,
          1
         ],
         "title": {
          "text": "PondType"
         }
        },
        "yaxis": {
         "anchor": "x",
         "domain": [
          0,
          1
         ],
         "title": {
          "text": "diff_max_min"
         }
        }
       }
      }
     },
     "metadata": {},
     "output_type": "display_data"
    },
    {
     "data": {
      "application/vnd.plotly.v1+json": {
       "config": {
        "plotlyServerURL": "https://plot.ly"
       },
       "data": [
        {
         "alignmentgroup": "True",
         "box": {
          "visible": true
         },
         "customdata": [
          [
           "full body:undistorted_GX010077_14_237.jpg_gamma",
           "Prawn_0"
          ],
          [
           "full body:undistorted_GX010077_14_237.jpg_gamma",
           "Prawn_1"
          ],
          [
           "full body:undistorted_GX010077_14_237.jpg_gamma",
           "Prawn_2"
          ],
          [
           "full body:undistorted_GX010067_33_625.jpg_gamma",
           "Prawn_0"
          ],
          [
           "full body:undistorted_GX010067_33_625.jpg_gamma",
           "Prawn_1"
          ],
          [
           "full body:undistorted_GX010067_33_625.jpg_gamma",
           "Prawn_2"
          ],
          [
           "full body:undistorted_GX010067_33_625.jpg_gamma",
           "Prawn_3"
          ],
          [
           "full body:undistorted_GX010068_26_666.jpg_gamma",
           "Prawn_0"
          ],
          [
           "full body:undistorted_GX010068_26_666.jpg_gamma",
           "Prawn_1"
          ],
          [
           "full body:undistorted_GX010068_26_666.jpg_gamma",
           "Prawn_2"
          ],
          [
           "full body:undistorted_GX010068_27_795.jpg_gamma",
           "Prawn_0"
          ],
          [
           "full body:undistorted_GX010068_27_795.jpg_gamma",
           "Prawn_1"
          ],
          [
           "full body:undistorted_GX010069_19_191.jpg_gamma",
           "Prawn_0"
          ],
          [
           "full body:undistorted_GX010069_19_191.jpg_gamma",
           "Prawn_1"
          ],
          [
           "full body:undistorted_GX010069_19_191.jpg_gamma",
           "Prawn_2"
          ],
          [
           "full body:undistorted_GX010069_19_191.jpg_gamma",
           "Prawn_3"
          ],
          [
           "full body:undistorted_GX010071_22_444.jpg_gamma",
           "Prawn_0"
          ],
          [
           "full body:undistorted_GX010071_22_444.jpg_gamma",
           "Prawn_1"
          ],
          [
           "full body:undistorted_GX010073_42_695.jpg_gamma",
           "Prawn_0"
          ],
          [
           "full body:undistorted_GX010073_42_695.jpg_gamma",
           "Prawn_1"
          ],
          [
           "full body:undistorted_GX010073_42_695.jpg_gamma",
           "Prawn_2"
          ],
          [
           "full body:undistorted_GX010073_55_1014.jpg_gamma",
           "Prawn_0"
          ],
          [
           "full body:undistorted_GX010073_55_1014.jpg_gamma",
           "Prawn_1"
          ],
          [
           "full body:undistorted_GX010073_55_1014.jpg_gamma",
           "Prawn_2"
          ],
          [
           "full body:undistorted_GX010080_157_2283.jpg_gamma",
           "Prawn_0"
          ],
          [
           "full body:undistorted_GX010080_157_2283.jpg_gamma",
           "Prawn_2"
          ],
          [
           "full body:undistorted_GX010080_157_2283.jpg_gamma",
           "Prawn_3"
          ],
          [
           "full body:undistorted_GX010080_193_2640.jpg_gamma",
           "Prawn_0"
          ],
          [
           "full body:undistorted_GX010080_193_2640.jpg_gamma",
           "Prawn_1"
          ],
          [
           "full body:undistorted_GX010080_193_2640.jpg_gamma",
           "Prawn_2"
          ],
          [
           "full body:undistorted_GX010080_193_2640.jpg_gamma",
           "Prawn_3"
          ],
          [
           "full body:undistorted_GX010080_193_2640.jpg_gamma",
           "Prawn_4"
          ],
          [
           "full body:undistorted_GX010080_212_2954.jpg_gamma",
           "Prawn_0"
          ],
          [
           "full body:undistorted_GX010080_212_2954.jpg_gamma",
           "Prawn_1"
          ],
          [
           "full body:undistorted_GX010080_212_2954.jpg_gamma",
           "Prawn_2"
          ],
          [
           "full body:undistorted_GX010080_237_3366.jpg_gamma",
           "Prawn_0"
          ],
          [
           "full body:undistorted_GX010080_237_3366.jpg_gamma",
           "Prawn_1"
          ],
          [
           "full body:undistorted_GX010080_237_3366.jpg_gamma",
           "Prawn_2"
          ],
          [
           "full body:undistorted_GX010080_237_3366.jpg_gamma",
           "Prawn_3"
          ],
          [
           "full body:undistorted_GX010080_237_3366.jpg_gamma",
           "Prawn_4"
          ],
          [
           "full body:undistorted_GX010080_238_3392.jpg_gamma",
           "Prawn_0"
          ],
          [
           "full body:undistorted_GX010080_238_3392.jpg_gamma",
           "Prawn_1"
          ],
          [
           "full body:undistorted_GX010080_238_3392.jpg_gamma",
           "Prawn_2"
          ],
          [
           "full body:undistorted_GX010080_238_3392.jpg_gamma",
           "Prawn_3"
          ],
          [
           "full body:undistorted_GX010082_8_59.jpg_gamma",
           "Prawn_1"
          ],
          [
           "full body:undistorted_GX010082_8_59.jpg_gamma",
           "Prawn_2"
          ],
          [
           "full body:undistorted_GX010082_8_59.jpg_gamma",
           "Prawn_3"
          ],
          [
           "full body:undistorted_GX010082_8_59.jpg_gamma",
           "Prawn_4"
          ],
          [
           "full body:undistorted_GX010082_53_796.jpg_gamma",
           "Prawn_0"
          ],
          [
           "full body:undistorted_GX010082_53_796.jpg_gamma",
           "Prawn_1"
          ],
          [
           "full body:undistorted_GX010082_65_1070.jpg_gamma",
           "Prawn_0"
          ],
          [
           "full body:undistorted_GX010082_65_1070.jpg_gamma",
           "Prawn_1"
          ],
          [
           "full body:undistorted_GX010082_65_1070.jpg_gamma",
           "Prawn_2"
          ],
          [
           "full body:undistorted_GX010082_236_3137.jpg_gamma",
           "Prawn_0"
          ],
          [
           "full body:undistorted_GX010082_236_3137.jpg_gamma",
           "Prawn_1"
          ],
          [
           "full body:undistorted_GX010082_236_3137.jpg_gamma",
           "Prawn_2"
          ],
          [
           "full body:undistorted_GX010084_30_344.jpg_gamma",
           "Prawn_0"
          ],
          [
           "full body:undistorted_GX010084_30_344.jpg_gamma",
           "Prawn_1"
          ],
          [
           "full body:undistorted_GX010084_30_344.jpg_gamma",
           "Prawn_2"
          ],
          [
           "full body:undistorted_GX010084_30_344.jpg_gamma",
           "Prawn_3"
          ],
          [
           "full body:undistorted_GX010084_130_1748.jpg_gamma",
           "Prawn_0"
          ],
          [
           "full body:undistorted_GX010084_130_1748.jpg_gamma",
           "Prawn_1"
          ],
          [
           "full body:undistorted_GX010084_130_1748.jpg_gamma",
           "Prawn_2"
          ],
          [
           "full body:undistorted_GX010085_261_3610.jpg_gamma",
           "Prawn_0"
          ],
          [
           "full body:undistorted_GX010085_261_3610.jpg_gamma",
           "Prawn_1"
          ],
          [
           "full body:undistorted_GX010088_209_2904.jpg_gamma",
           "Prawn_0"
          ],
          [
           "full body:undistorted_GX010088_209_2904.jpg_gamma",
           "Prawn_1"
          ],
          [
           "full body:undistorted_GX010088_262_3712.jpg_gamma",
           "Prawn_0"
          ],
          [
           "full body:undistorted_GX010088_262_3712.jpg_gamma",
           "Prawn_1"
          ],
          [
           "full body:undistorted_GX010088_262_3712.jpg_gamma",
           "Prawn_2"
          ],
          [
           "full body:undistorted_GX010088_327_4364.jpg_gamma",
           "Prawn_0"
          ],
          [
           "full body:undistorted_GX010088_327_4364.jpg_gamma",
           "Prawn_1"
          ],
          [
           "full body:undistorted_GX010088_327_4364.jpg_gamma",
           "Prawn_2"
          ],
          [
           "full body:undistorted_GX010088_327_4364.jpg_gamma",
           "Prawn_3"
          ],
          [
           "full body:undistorted_GX010089_11_236.jpg_gamma",
           "Prawn_0"
          ],
          [
           "full body:undistorted_GX010089_11_236.jpg_gamma",
           "Prawn_1"
          ],
          [
           "full body:undistorted_GX010089_11_236.jpg_gamma",
           "Prawn_2"
          ],
          [
           "full body:undistorted_GX010089_11_236.jpg_gamma",
           "Prawn_3"
          ],
          [
           "full body:undistorted_GX010090_132_1852.jpg_gamma",
           "Prawn_0"
          ],
          [
           "full body:undistorted_GX010091_5_149.jpg_gamma",
           "Prawn_0"
          ],
          [
           "full body:undistorted_GX010091_5_149.jpg_gamma",
           "Prawn_1"
          ],
          [
           "full body:undistorted_GX010091_5_149.jpg_gamma",
           "Prawn_2"
          ],
          [
           "full body:undistorted_GX010094_9_129.jpg_gamma",
           "Prawn_0"
          ],
          [
           "full body:undistorted_GX010094_9_129.jpg_gamma",
           "Prawn_1"
          ],
          [
           "full body:undistorted_GX010094_24_430.jpg_gamma",
           "Prawn_0"
          ],
          [
           "full body:undistorted_GX010094_93_1258.jpg_gamma",
           "Prawn_0"
          ],
          [
           "full body:undistorted_GX010094_163_2312.jpg_gamma",
           "Prawn_0"
          ],
          [
           "full body:undistorted_GX010097_32_528.jpg_gamma",
           "Prawn_0"
          ],
          [
           "full body:undistorted_GX010097_32_528.jpg_gamma",
           "Prawn_1"
          ],
          [
           "full body:undistorted_GX010097_60_1080.jpg_gamma",
           "Prawn_0"
          ],
          [
           "full body:undistorted_GX010097_60_1080.jpg_gamma",
           "Prawn_1"
          ],
          [
           "full body:undistorted_GX010097_60_1080.jpg_gamma",
           "Prawn_2"
          ],
          [
           "full body:undistorted_GX010097_60_1080.jpg_gamma",
           "Prawn_3"
          ],
          [
           "full body:undistorted_GX010097_105_1651.jpg_gamma",
           "Prawn_0"
          ],
          [
           "full body:undistorted_GX010097_105_1651.jpg_gamma",
           "Prawn_1"
          ],
          [
           "full body:undistorted_GX010097_105_1651.jpg_gamma",
           "Prawn_2"
          ],
          [
           "full body:undistorted_GX010097_105_1651.jpg_gamma",
           "Prawn_3"
          ],
          [
           "full body:undistorted_GX010097_124_1870.jpg_gamma",
           "Prawn_0"
          ],
          [
           "full body:undistorted_GX010097_124_1870.jpg_gamma",
           "Prawn_1"
          ],
          [
           "full body:undistorted_GX010101_12_173.jpg_gamma",
           "Prawn_0"
          ],
          [
           "full body:undistorted_GX010102_9_165.jpg_gamma",
           "Prawn_1"
          ],
          [
           "full body:undistorted_GX010102_9_165.jpg_gamma",
           "Prawn_2"
          ],
          [
           "full body:undistorted_GX010102_9_165.jpg_gamma",
           "Prawn_3"
          ],
          [
           "full body:undistorted_GX010102_9_165.jpg_gamma",
           "Prawn_4"
          ],
          [
           "full body:undistorted_GX010102_9_165.jpg_gamma",
           "Prawn_5"
          ],
          [
           "full body:undistorted_GX010102_50_1396.jpg_gamma",
           "Prawn_0"
          ],
          [
           "full body:undistorted_GX010105_28_816.jpg_gamma",
           "Prawn_0"
          ],
          [
           "full body:undistorted_GX010105_28_816.jpg_gamma",
           "Prawn_1"
          ],
          [
           "full body:undistorted_GX010152_36_378.jpg_gamma",
           "Prawn_0"
          ],
          [
           "full body:undistorted_GX010152_36_378.jpg_gamma",
           "Prawn_1"
          ],
          [
           "full body:undistorted_GX010157_160_2259",
           "Prawn_0"
          ],
          [
           "full body:undistorted_GX010157_174_2582.jpg_gamma",
           "Prawn_0"
          ],
          [
           "full body:undistorted_GX010157_177_2665.jpg_gamma",
           "Prawn_0"
          ],
          [
           "full body:undistorted_GX010161_54_676.jpg_gamma.jpg_gamma",
           "Prawn_0"
          ],
          [
           "full body:undistorted_GX010162_72_927.jpg_gamma.jpg_gamma",
           "Prawn_0"
          ],
          [
           "full body:undistorted_GX010174_62_790.jpg_gamma",
           "Prawn_0"
          ],
          [
           "full body:undistorted_GX010175_266_3372.jpg_gamma.jpg_gamma",
           "Prawn_0"
          ],
          [
           "full body:undistorted_GX010177_232_3047",
           "Prawn_0"
          ],
          [
           "full body:undistorted_GX010178_172_3604.jpg_gamma",
           "Prawn_0"
          ],
          [
           "full body:undistorted_GX010183_37_685.jpg_gamma",
           "Prawn_0"
          ],
          [
           "full body:undistorted_GX010183_80_1633.jpg_gamma",
           "Prawn_0"
          ],
          [
           "full body:undistorted_GX010183_128_2852.jpg_gamma",
           "Prawn_0"
          ]
         ],
         "hovertemplate": "PondType=%{x}<br>min_mpe=%{y}<br>Label=%{customdata[0]}<br>PrawnID=%{customdata[1]}<extra></extra>",
         "legendgroup": "",
         "marker": {
          "color": "#636efa"
         },
         "name": "",
         "offsetgroup": "",
         "orientation": "v",
         "points": "all",
         "scalegroup": "True",
         "showlegend": false,
         "type": "violin",
         "x": [
          "circular-big",
          "circular-big",
          "circular-big",
          "circular-big",
          "circular-big",
          "circular-big",
          "circular-big",
          "circular-big",
          "circular-big",
          "circular-big",
          "circular-big",
          "circular-big",
          "circular-big",
          "circular-big",
          "circular-big",
          "circular-big",
          "circular-big",
          "circular-big",
          "circular-big",
          "circular-big",
          "circular-big",
          "circular-big",
          "circular-big",
          "circular-big",
          "circular-big",
          "circular-big",
          "circular-big",
          "circular-big",
          "circular-big",
          "circular-big",
          "circular-big",
          "circular-big",
          "circular-big",
          "circular-big",
          "circular-big",
          "circular-big",
          "circular-big",
          "circular-big",
          "circular-big",
          "circular-big",
          "circular-big",
          "circular-big",
          "circular-big",
          "circular-big",
          "circular-big",
          "circular-big",
          "circular-big",
          "circular-big",
          "circular-big",
          "circular-big",
          "circular-big",
          "circular-big",
          "circular-big",
          "circular-big",
          "circular-big",
          "circular-big",
          "circular-big",
          "circular-big",
          "circular-big",
          "circular-big",
          "circular-big",
          "circular-big",
          "circular-big",
          "circular-big",
          "circular-big",
          "circular-big",
          "circular-big",
          "circular-big",
          "circular-big",
          "circular-big",
          "circular-big",
          "circular-big",
          "circular-big",
          "circular-big",
          "circular-small",
          "circular-small",
          "circular-small",
          "circular-small",
          "circular-big",
          "circular-small",
          "circular-small",
          "circular-small",
          "circular-big",
          "circular-big",
          "circular-big",
          "circular-big",
          "circular-big",
          "circular-big",
          "circular-big",
          "circular-big",
          "circular-big",
          "circular-big",
          "circular-big",
          "circular-big",
          "circular-big",
          "circular-big",
          "circular-big",
          "circular-big",
          "circular-big",
          "circular-big",
          "circular-small",
          "circular-small",
          "circular-small",
          "circular-small",
          "circular-small",
          "circular-small",
          "circular-small",
          "circular-small",
          "square-female",
          "square-female",
          "square-female",
          "square-female",
          "square-female",
          "square-female",
          "square-female",
          "square-female",
          "square-female",
          "square-female",
          "square-female",
          "square-female",
          "square-female",
          "square-female"
         ],
         "x0": " ",
         "xaxis": "x",
         "y": [
          5.945304408505487,
          8.455241844417314,
          1.515158498756725,
          6.791594782267427,
          1.158354732936139,
          2.230836590281231,
          9.10666683576594,
          10.56795825508955,
          13.35001318035945,
          7.103048036814945,
          3.192735655682762,
          1.35674126056174,
          0.8592858266215947,
          15.92971313591953,
          13.91240568192508,
          12.33170727615706,
          8.87300487578375,
          1.066739046747712,
          20.76469988648511,
          4.920383068785219,
          2.262320843955222,
          4.740438899024116,
          6.091419510323511,
          21.43249585045907,
          29.92834528821497,
          29.96089462212668,
          25.22602931968579,
          17.54458431272633,
          12.11788235236907,
          17.59181164990475,
          7.794637029205479,
          20.71931550038067,
          18.40456792720543,
          8.66887908630012,
          2.107080888226245,
          9.616539623397461,
          14.79243064634031,
          14.68808777396873,
          4.785128108775853,
          2.062158347057675,
          10.68392631881961,
          16.42497283197103,
          8.714237925717088,
          11.24828111614709,
          1.693503413135365,
          1.202455148416885,
          2.770219350870582,
          11.27608276791631,
          5.766674587999535,
          1.04689901424448,
          17.99537649030619,
          28.3522675774136,
          14.7964312017854,
          25.76404514273009,
          25.31833639953887,
          0.05802042169670792,
          7.152414619659401,
          5.253905300934747,
          1.562027583937642,
          8.507320081605254,
          3.016172250152385,
          11.49657386206835,
          0.5009595838224843,
          14.71494425780231,
          2.148503726255284,
          10.097833041856,
          3.5495676693248,
          1.753401842794375,
          2.409928211536239,
          2.894888078574604,
          6.489983605123991,
          7.842024317217636,
          5.0462851241997,
          1.331172587777697,
          31.99160144760634,
          23.82610711128963,
          25.20331023526624,
          5.052812026474951,
          8.250497842754143,
          23.12555326069806,
          14.05738437259452,
          95.4678271948721,
          12.02944951205384,
          11.62892730307281,
          9.445447177591484,
          0.1040740596784668,
          11.75924950873195,
          11.56662169678167,
          62.68485297131578,
          16.48241489903097,
          9.312651557604314,
          33.40061955368242,
          2.532593449061535,
          32.86130529952187,
          10.05284442989043,
          26.89497366492718,
          42.42377358681658,
          25.98817181134315,
          13.32810860151705,
          1.88067204235004,
          22.69741793004322,
          95.98272265594827,
          59.53951278726044,
          28.81185618126997,
          24.39562164002855,
          15.39666495802374,
          24.69197886822858,
          23.27606391887926,
          0.9388052742723175,
          4.3764895603878,
          4.705978106553222,
          1.296063456460069,
          0.6056386868811566,
          6.078122484892265,
          5.15765909020042,
          0.8808650933232919,
          0.1974332611938016,
          7.139254068718754,
          0.9213217027069058,
          1.721087643436768,
          2.124052760638611,
          4.025913206838674
         ],
         "y0": " ",
         "yaxis": "y"
        }
       ],
       "layout": {
        "legend": {
         "tracegroupgap": 0
        },
        "template": {
         "data": {
          "bar": [
           {
            "error_x": {
             "color": "#2a3f5f"
            },
            "error_y": {
             "color": "#2a3f5f"
            },
            "marker": {
             "line": {
              "color": "#E5ECF6",
              "width": 0.5
             },
             "pattern": {
              "fillmode": "overlay",
              "size": 10,
              "solidity": 0.2
             }
            },
            "type": "bar"
           }
          ],
          "barpolar": [
           {
            "marker": {
             "line": {
              "color": "#E5ECF6",
              "width": 0.5
             },
             "pattern": {
              "fillmode": "overlay",
              "size": 10,
              "solidity": 0.2
             }
            },
            "type": "barpolar"
           }
          ],
          "carpet": [
           {
            "aaxis": {
             "endlinecolor": "#2a3f5f",
             "gridcolor": "white",
             "linecolor": "white",
             "minorgridcolor": "white",
             "startlinecolor": "#2a3f5f"
            },
            "baxis": {
             "endlinecolor": "#2a3f5f",
             "gridcolor": "white",
             "linecolor": "white",
             "minorgridcolor": "white",
             "startlinecolor": "#2a3f5f"
            },
            "type": "carpet"
           }
          ],
          "choropleth": [
           {
            "colorbar": {
             "outlinewidth": 0,
             "ticks": ""
            },
            "type": "choropleth"
           }
          ],
          "contour": [
           {
            "colorbar": {
             "outlinewidth": 0,
             "ticks": ""
            },
            "colorscale": [
             [
              0,
              "#0d0887"
             ],
             [
              0.1111111111111111,
              "#46039f"
             ],
             [
              0.2222222222222222,
              "#7201a8"
             ],
             [
              0.3333333333333333,
              "#9c179e"
             ],
             [
              0.4444444444444444,
              "#bd3786"
             ],
             [
              0.5555555555555556,
              "#d8576b"
             ],
             [
              0.6666666666666666,
              "#ed7953"
             ],
             [
              0.7777777777777778,
              "#fb9f3a"
             ],
             [
              0.8888888888888888,
              "#fdca26"
             ],
             [
              1,
              "#f0f921"
             ]
            ],
            "type": "contour"
           }
          ],
          "contourcarpet": [
           {
            "colorbar": {
             "outlinewidth": 0,
             "ticks": ""
            },
            "type": "contourcarpet"
           }
          ],
          "heatmap": [
           {
            "colorbar": {
             "outlinewidth": 0,
             "ticks": ""
            },
            "colorscale": [
             [
              0,
              "#0d0887"
             ],
             [
              0.1111111111111111,
              "#46039f"
             ],
             [
              0.2222222222222222,
              "#7201a8"
             ],
             [
              0.3333333333333333,
              "#9c179e"
             ],
             [
              0.4444444444444444,
              "#bd3786"
             ],
             [
              0.5555555555555556,
              "#d8576b"
             ],
             [
              0.6666666666666666,
              "#ed7953"
             ],
             [
              0.7777777777777778,
              "#fb9f3a"
             ],
             [
              0.8888888888888888,
              "#fdca26"
             ],
             [
              1,
              "#f0f921"
             ]
            ],
            "type": "heatmap"
           }
          ],
          "heatmapgl": [
           {
            "colorbar": {
             "outlinewidth": 0,
             "ticks": ""
            },
            "colorscale": [
             [
              0,
              "#0d0887"
             ],
             [
              0.1111111111111111,
              "#46039f"
             ],
             [
              0.2222222222222222,
              "#7201a8"
             ],
             [
              0.3333333333333333,
              "#9c179e"
             ],
             [
              0.4444444444444444,
              "#bd3786"
             ],
             [
              0.5555555555555556,
              "#d8576b"
             ],
             [
              0.6666666666666666,
              "#ed7953"
             ],
             [
              0.7777777777777778,
              "#fb9f3a"
             ],
             [
              0.8888888888888888,
              "#fdca26"
             ],
             [
              1,
              "#f0f921"
             ]
            ],
            "type": "heatmapgl"
           }
          ],
          "histogram": [
           {
            "marker": {
             "pattern": {
              "fillmode": "overlay",
              "size": 10,
              "solidity": 0.2
             }
            },
            "type": "histogram"
           }
          ],
          "histogram2d": [
           {
            "colorbar": {
             "outlinewidth": 0,
             "ticks": ""
            },
            "colorscale": [
             [
              0,
              "#0d0887"
             ],
             [
              0.1111111111111111,
              "#46039f"
             ],
             [
              0.2222222222222222,
              "#7201a8"
             ],
             [
              0.3333333333333333,
              "#9c179e"
             ],
             [
              0.4444444444444444,
              "#bd3786"
             ],
             [
              0.5555555555555556,
              "#d8576b"
             ],
             [
              0.6666666666666666,
              "#ed7953"
             ],
             [
              0.7777777777777778,
              "#fb9f3a"
             ],
             [
              0.8888888888888888,
              "#fdca26"
             ],
             [
              1,
              "#f0f921"
             ]
            ],
            "type": "histogram2d"
           }
          ],
          "histogram2dcontour": [
           {
            "colorbar": {
             "outlinewidth": 0,
             "ticks": ""
            },
            "colorscale": [
             [
              0,
              "#0d0887"
             ],
             [
              0.1111111111111111,
              "#46039f"
             ],
             [
              0.2222222222222222,
              "#7201a8"
             ],
             [
              0.3333333333333333,
              "#9c179e"
             ],
             [
              0.4444444444444444,
              "#bd3786"
             ],
             [
              0.5555555555555556,
              "#d8576b"
             ],
             [
              0.6666666666666666,
              "#ed7953"
             ],
             [
              0.7777777777777778,
              "#fb9f3a"
             ],
             [
              0.8888888888888888,
              "#fdca26"
             ],
             [
              1,
              "#f0f921"
             ]
            ],
            "type": "histogram2dcontour"
           }
          ],
          "mesh3d": [
           {
            "colorbar": {
             "outlinewidth": 0,
             "ticks": ""
            },
            "type": "mesh3d"
           }
          ],
          "parcoords": [
           {
            "line": {
             "colorbar": {
              "outlinewidth": 0,
              "ticks": ""
             }
            },
            "type": "parcoords"
           }
          ],
          "pie": [
           {
            "automargin": true,
            "type": "pie"
           }
          ],
          "scatter": [
           {
            "fillpattern": {
             "fillmode": "overlay",
             "size": 10,
             "solidity": 0.2
            },
            "type": "scatter"
           }
          ],
          "scatter3d": [
           {
            "line": {
             "colorbar": {
              "outlinewidth": 0,
              "ticks": ""
             }
            },
            "marker": {
             "colorbar": {
              "outlinewidth": 0,
              "ticks": ""
             }
            },
            "type": "scatter3d"
           }
          ],
          "scattercarpet": [
           {
            "marker": {
             "colorbar": {
              "outlinewidth": 0,
              "ticks": ""
             }
            },
            "type": "scattercarpet"
           }
          ],
          "scattergeo": [
           {
            "marker": {
             "colorbar": {
              "outlinewidth": 0,
              "ticks": ""
             }
            },
            "type": "scattergeo"
           }
          ],
          "scattergl": [
           {
            "marker": {
             "colorbar": {
              "outlinewidth": 0,
              "ticks": ""
             }
            },
            "type": "scattergl"
           }
          ],
          "scattermapbox": [
           {
            "marker": {
             "colorbar": {
              "outlinewidth": 0,
              "ticks": ""
             }
            },
            "type": "scattermapbox"
           }
          ],
          "scatterpolar": [
           {
            "marker": {
             "colorbar": {
              "outlinewidth": 0,
              "ticks": ""
             }
            },
            "type": "scatterpolar"
           }
          ],
          "scatterpolargl": [
           {
            "marker": {
             "colorbar": {
              "outlinewidth": 0,
              "ticks": ""
             }
            },
            "type": "scatterpolargl"
           }
          ],
          "scatterternary": [
           {
            "marker": {
             "colorbar": {
              "outlinewidth": 0,
              "ticks": ""
             }
            },
            "type": "scatterternary"
           }
          ],
          "surface": [
           {
            "colorbar": {
             "outlinewidth": 0,
             "ticks": ""
            },
            "colorscale": [
             [
              0,
              "#0d0887"
             ],
             [
              0.1111111111111111,
              "#46039f"
             ],
             [
              0.2222222222222222,
              "#7201a8"
             ],
             [
              0.3333333333333333,
              "#9c179e"
             ],
             [
              0.4444444444444444,
              "#bd3786"
             ],
             [
              0.5555555555555556,
              "#d8576b"
             ],
             [
              0.6666666666666666,
              "#ed7953"
             ],
             [
              0.7777777777777778,
              "#fb9f3a"
             ],
             [
              0.8888888888888888,
              "#fdca26"
             ],
             [
              1,
              "#f0f921"
             ]
            ],
            "type": "surface"
           }
          ],
          "table": [
           {
            "cells": {
             "fill": {
              "color": "#EBF0F8"
             },
             "line": {
              "color": "white"
             }
            },
            "header": {
             "fill": {
              "color": "#C8D4E3"
             },
             "line": {
              "color": "white"
             }
            },
            "type": "table"
           }
          ]
         },
         "layout": {
          "annotationdefaults": {
           "arrowcolor": "#2a3f5f",
           "arrowhead": 0,
           "arrowwidth": 1
          },
          "autotypenumbers": "strict",
          "coloraxis": {
           "colorbar": {
            "outlinewidth": 0,
            "ticks": ""
           }
          },
          "colorscale": {
           "diverging": [
            [
             0,
             "#8e0152"
            ],
            [
             0.1,
             "#c51b7d"
            ],
            [
             0.2,
             "#de77ae"
            ],
            [
             0.3,
             "#f1b6da"
            ],
            [
             0.4,
             "#fde0ef"
            ],
            [
             0.5,
             "#f7f7f7"
            ],
            [
             0.6,
             "#e6f5d0"
            ],
            [
             0.7,
             "#b8e186"
            ],
            [
             0.8,
             "#7fbc41"
            ],
            [
             0.9,
             "#4d9221"
            ],
            [
             1,
             "#276419"
            ]
           ],
           "sequential": [
            [
             0,
             "#0d0887"
            ],
            [
             0.1111111111111111,
             "#46039f"
            ],
            [
             0.2222222222222222,
             "#7201a8"
            ],
            [
             0.3333333333333333,
             "#9c179e"
            ],
            [
             0.4444444444444444,
             "#bd3786"
            ],
            [
             0.5555555555555556,
             "#d8576b"
            ],
            [
             0.6666666666666666,
             "#ed7953"
            ],
            [
             0.7777777777777778,
             "#fb9f3a"
            ],
            [
             0.8888888888888888,
             "#fdca26"
            ],
            [
             1,
             "#f0f921"
            ]
           ],
           "sequentialminus": [
            [
             0,
             "#0d0887"
            ],
            [
             0.1111111111111111,
             "#46039f"
            ],
            [
             0.2222222222222222,
             "#7201a8"
            ],
            [
             0.3333333333333333,
             "#9c179e"
            ],
            [
             0.4444444444444444,
             "#bd3786"
            ],
            [
             0.5555555555555556,
             "#d8576b"
            ],
            [
             0.6666666666666666,
             "#ed7953"
            ],
            [
             0.7777777777777778,
             "#fb9f3a"
            ],
            [
             0.8888888888888888,
             "#fdca26"
            ],
            [
             1,
             "#f0f921"
            ]
           ]
          },
          "colorway": [
           "#636efa",
           "#EF553B",
           "#00cc96",
           "#ab63fa",
           "#FFA15A",
           "#19d3f3",
           "#FF6692",
           "#B6E880",
           "#FF97FF",
           "#FECB52"
          ],
          "font": {
           "color": "#2a3f5f"
          },
          "geo": {
           "bgcolor": "white",
           "lakecolor": "white",
           "landcolor": "#E5ECF6",
           "showlakes": true,
           "showland": true,
           "subunitcolor": "white"
          },
          "hoverlabel": {
           "align": "left"
          },
          "hovermode": "closest",
          "mapbox": {
           "style": "light"
          },
          "paper_bgcolor": "white",
          "plot_bgcolor": "#E5ECF6",
          "polar": {
           "angularaxis": {
            "gridcolor": "white",
            "linecolor": "white",
            "ticks": ""
           },
           "bgcolor": "#E5ECF6",
           "radialaxis": {
            "gridcolor": "white",
            "linecolor": "white",
            "ticks": ""
           }
          },
          "scene": {
           "xaxis": {
            "backgroundcolor": "#E5ECF6",
            "gridcolor": "white",
            "gridwidth": 2,
            "linecolor": "white",
            "showbackground": true,
            "ticks": "",
            "zerolinecolor": "white"
           },
           "yaxis": {
            "backgroundcolor": "#E5ECF6",
            "gridcolor": "white",
            "gridwidth": 2,
            "linecolor": "white",
            "showbackground": true,
            "ticks": "",
            "zerolinecolor": "white"
           },
           "zaxis": {
            "backgroundcolor": "#E5ECF6",
            "gridcolor": "white",
            "gridwidth": 2,
            "linecolor": "white",
            "showbackground": true,
            "ticks": "",
            "zerolinecolor": "white"
           }
          },
          "shapedefaults": {
           "line": {
            "color": "#2a3f5f"
           }
          },
          "ternary": {
           "aaxis": {
            "gridcolor": "white",
            "linecolor": "white",
            "ticks": ""
           },
           "baxis": {
            "gridcolor": "white",
            "linecolor": "white",
            "ticks": ""
           },
           "bgcolor": "#E5ECF6",
           "caxis": {
            "gridcolor": "white",
            "linecolor": "white",
            "ticks": ""
           }
          },
          "title": {
           "x": 0.05
          },
          "xaxis": {
           "automargin": true,
           "gridcolor": "white",
           "linecolor": "white",
           "ticks": "",
           "title": {
            "standoff": 15
           },
           "zerolinecolor": "white",
           "zerolinewidth": 2
          },
          "yaxis": {
           "automargin": true,
           "gridcolor": "white",
           "linecolor": "white",
           "ticks": "",
           "title": {
            "standoff": 15
           },
           "zerolinecolor": "white",
           "zerolinewidth": 2
          }
         }
        },
        "title": {
         "text": "Violin plot of min_mpe"
        },
        "violinmode": "group",
        "xaxis": {
         "anchor": "y",
         "domain": [
          0,
          1
         ],
         "title": {
          "text": "PondType"
         }
        },
        "yaxis": {
         "anchor": "x",
         "domain": [
          0,
          1
         ],
         "title": {
          "text": "min_mpe"
         }
        }
       }
      }
     },
     "metadata": {},
     "output_type": "display_data"
    },
    {
     "data": {
      "application/vnd.plotly.v1+json": {
       "config": {
        "plotlyServerURL": "https://plot.ly"
       },
       "data": [
        {
         "alignmentgroup": "True",
         "box": {
          "visible": true
         },
         "customdata": [
          [
           "full body:undistorted_GX010077_14_237.jpg_gamma",
           "Prawn_0"
          ],
          [
           "full body:undistorted_GX010077_14_237.jpg_gamma",
           "Prawn_1"
          ],
          [
           "full body:undistorted_GX010077_14_237.jpg_gamma",
           "Prawn_2"
          ],
          [
           "full body:undistorted_GX010067_33_625.jpg_gamma",
           "Prawn_0"
          ],
          [
           "full body:undistorted_GX010067_33_625.jpg_gamma",
           "Prawn_1"
          ],
          [
           "full body:undistorted_GX010067_33_625.jpg_gamma",
           "Prawn_2"
          ],
          [
           "full body:undistorted_GX010067_33_625.jpg_gamma",
           "Prawn_3"
          ],
          [
           "full body:undistorted_GX010068_26_666.jpg_gamma",
           "Prawn_0"
          ],
          [
           "full body:undistorted_GX010068_26_666.jpg_gamma",
           "Prawn_1"
          ],
          [
           "full body:undistorted_GX010068_26_666.jpg_gamma",
           "Prawn_2"
          ],
          [
           "full body:undistorted_GX010068_27_795.jpg_gamma",
           "Prawn_0"
          ],
          [
           "full body:undistorted_GX010068_27_795.jpg_gamma",
           "Prawn_1"
          ],
          [
           "full body:undistorted_GX010069_19_191.jpg_gamma",
           "Prawn_0"
          ],
          [
           "full body:undistorted_GX010069_19_191.jpg_gamma",
           "Prawn_1"
          ],
          [
           "full body:undistorted_GX010069_19_191.jpg_gamma",
           "Prawn_2"
          ],
          [
           "full body:undistorted_GX010069_19_191.jpg_gamma",
           "Prawn_3"
          ],
          [
           "full body:undistorted_GX010071_22_444.jpg_gamma",
           "Prawn_0"
          ],
          [
           "full body:undistorted_GX010071_22_444.jpg_gamma",
           "Prawn_1"
          ],
          [
           "full body:undistorted_GX010073_42_695.jpg_gamma",
           "Prawn_0"
          ],
          [
           "full body:undistorted_GX010073_42_695.jpg_gamma",
           "Prawn_1"
          ],
          [
           "full body:undistorted_GX010073_42_695.jpg_gamma",
           "Prawn_2"
          ],
          [
           "full body:undistorted_GX010073_55_1014.jpg_gamma",
           "Prawn_0"
          ],
          [
           "full body:undistorted_GX010073_55_1014.jpg_gamma",
           "Prawn_1"
          ],
          [
           "full body:undistorted_GX010073_55_1014.jpg_gamma",
           "Prawn_2"
          ],
          [
           "full body:undistorted_GX010080_157_2283.jpg_gamma",
           "Prawn_0"
          ],
          [
           "full body:undistorted_GX010080_157_2283.jpg_gamma",
           "Prawn_2"
          ],
          [
           "full body:undistorted_GX010080_157_2283.jpg_gamma",
           "Prawn_3"
          ],
          [
           "full body:undistorted_GX010080_193_2640.jpg_gamma",
           "Prawn_0"
          ],
          [
           "full body:undistorted_GX010080_193_2640.jpg_gamma",
           "Prawn_1"
          ],
          [
           "full body:undistorted_GX010080_193_2640.jpg_gamma",
           "Prawn_2"
          ],
          [
           "full body:undistorted_GX010080_193_2640.jpg_gamma",
           "Prawn_3"
          ],
          [
           "full body:undistorted_GX010080_193_2640.jpg_gamma",
           "Prawn_4"
          ],
          [
           "full body:undistorted_GX010080_212_2954.jpg_gamma",
           "Prawn_0"
          ],
          [
           "full body:undistorted_GX010080_212_2954.jpg_gamma",
           "Prawn_1"
          ],
          [
           "full body:undistorted_GX010080_212_2954.jpg_gamma",
           "Prawn_2"
          ],
          [
           "full body:undistorted_GX010080_237_3366.jpg_gamma",
           "Prawn_0"
          ],
          [
           "full body:undistorted_GX010080_237_3366.jpg_gamma",
           "Prawn_1"
          ],
          [
           "full body:undistorted_GX010080_237_3366.jpg_gamma",
           "Prawn_2"
          ],
          [
           "full body:undistorted_GX010080_237_3366.jpg_gamma",
           "Prawn_3"
          ],
          [
           "full body:undistorted_GX010080_237_3366.jpg_gamma",
           "Prawn_4"
          ],
          [
           "full body:undistorted_GX010080_238_3392.jpg_gamma",
           "Prawn_0"
          ],
          [
           "full body:undistorted_GX010080_238_3392.jpg_gamma",
           "Prawn_1"
          ],
          [
           "full body:undistorted_GX010080_238_3392.jpg_gamma",
           "Prawn_2"
          ],
          [
           "full body:undistorted_GX010080_238_3392.jpg_gamma",
           "Prawn_3"
          ],
          [
           "full body:undistorted_GX010082_8_59.jpg_gamma",
           "Prawn_1"
          ],
          [
           "full body:undistorted_GX010082_8_59.jpg_gamma",
           "Prawn_2"
          ],
          [
           "full body:undistorted_GX010082_8_59.jpg_gamma",
           "Prawn_3"
          ],
          [
           "full body:undistorted_GX010082_8_59.jpg_gamma",
           "Prawn_4"
          ],
          [
           "full body:undistorted_GX010082_53_796.jpg_gamma",
           "Prawn_0"
          ],
          [
           "full body:undistorted_GX010082_53_796.jpg_gamma",
           "Prawn_1"
          ],
          [
           "full body:undistorted_GX010082_65_1070.jpg_gamma",
           "Prawn_0"
          ],
          [
           "full body:undistorted_GX010082_65_1070.jpg_gamma",
           "Prawn_1"
          ],
          [
           "full body:undistorted_GX010082_65_1070.jpg_gamma",
           "Prawn_2"
          ],
          [
           "full body:undistorted_GX010082_236_3137.jpg_gamma",
           "Prawn_0"
          ],
          [
           "full body:undistorted_GX010082_236_3137.jpg_gamma",
           "Prawn_1"
          ],
          [
           "full body:undistorted_GX010082_236_3137.jpg_gamma",
           "Prawn_2"
          ],
          [
           "full body:undistorted_GX010084_30_344.jpg_gamma",
           "Prawn_0"
          ],
          [
           "full body:undistorted_GX010084_30_344.jpg_gamma",
           "Prawn_1"
          ],
          [
           "full body:undistorted_GX010084_30_344.jpg_gamma",
           "Prawn_2"
          ],
          [
           "full body:undistorted_GX010084_30_344.jpg_gamma",
           "Prawn_3"
          ],
          [
           "full body:undistorted_GX010084_130_1748.jpg_gamma",
           "Prawn_0"
          ],
          [
           "full body:undistorted_GX010084_130_1748.jpg_gamma",
           "Prawn_1"
          ],
          [
           "full body:undistorted_GX010084_130_1748.jpg_gamma",
           "Prawn_2"
          ],
          [
           "full body:undistorted_GX010085_261_3610.jpg_gamma",
           "Prawn_0"
          ],
          [
           "full body:undistorted_GX010085_261_3610.jpg_gamma",
           "Prawn_1"
          ],
          [
           "full body:undistorted_GX010088_209_2904.jpg_gamma",
           "Prawn_0"
          ],
          [
           "full body:undistorted_GX010088_209_2904.jpg_gamma",
           "Prawn_1"
          ],
          [
           "full body:undistorted_GX010088_262_3712.jpg_gamma",
           "Prawn_0"
          ],
          [
           "full body:undistorted_GX010088_262_3712.jpg_gamma",
           "Prawn_1"
          ],
          [
           "full body:undistorted_GX010088_262_3712.jpg_gamma",
           "Prawn_2"
          ],
          [
           "full body:undistorted_GX010088_327_4364.jpg_gamma",
           "Prawn_0"
          ],
          [
           "full body:undistorted_GX010088_327_4364.jpg_gamma",
           "Prawn_1"
          ],
          [
           "full body:undistorted_GX010088_327_4364.jpg_gamma",
           "Prawn_2"
          ],
          [
           "full body:undistorted_GX010088_327_4364.jpg_gamma",
           "Prawn_3"
          ],
          [
           "full body:undistorted_GX010089_11_236.jpg_gamma",
           "Prawn_0"
          ],
          [
           "full body:undistorted_GX010089_11_236.jpg_gamma",
           "Prawn_1"
          ],
          [
           "full body:undistorted_GX010089_11_236.jpg_gamma",
           "Prawn_2"
          ],
          [
           "full body:undistorted_GX010089_11_236.jpg_gamma",
           "Prawn_3"
          ],
          [
           "full body:undistorted_GX010090_132_1852.jpg_gamma",
           "Prawn_0"
          ],
          [
           "full body:undistorted_GX010091_5_149.jpg_gamma",
           "Prawn_0"
          ],
          [
           "full body:undistorted_GX010091_5_149.jpg_gamma",
           "Prawn_1"
          ],
          [
           "full body:undistorted_GX010091_5_149.jpg_gamma",
           "Prawn_2"
          ],
          [
           "full body:undistorted_GX010094_9_129.jpg_gamma",
           "Prawn_0"
          ],
          [
           "full body:undistorted_GX010094_9_129.jpg_gamma",
           "Prawn_1"
          ],
          [
           "full body:undistorted_GX010094_24_430.jpg_gamma",
           "Prawn_0"
          ],
          [
           "full body:undistorted_GX010094_93_1258.jpg_gamma",
           "Prawn_0"
          ],
          [
           "full body:undistorted_GX010094_163_2312.jpg_gamma",
           "Prawn_0"
          ],
          [
           "full body:undistorted_GX010097_32_528.jpg_gamma",
           "Prawn_0"
          ],
          [
           "full body:undistorted_GX010097_32_528.jpg_gamma",
           "Prawn_1"
          ],
          [
           "full body:undistorted_GX010097_60_1080.jpg_gamma",
           "Prawn_0"
          ],
          [
           "full body:undistorted_GX010097_60_1080.jpg_gamma",
           "Prawn_1"
          ],
          [
           "full body:undistorted_GX010097_60_1080.jpg_gamma",
           "Prawn_2"
          ],
          [
           "full body:undistorted_GX010097_60_1080.jpg_gamma",
           "Prawn_3"
          ],
          [
           "full body:undistorted_GX010097_105_1651.jpg_gamma",
           "Prawn_0"
          ],
          [
           "full body:undistorted_GX010097_105_1651.jpg_gamma",
           "Prawn_1"
          ],
          [
           "full body:undistorted_GX010097_105_1651.jpg_gamma",
           "Prawn_2"
          ],
          [
           "full body:undistorted_GX010097_105_1651.jpg_gamma",
           "Prawn_3"
          ],
          [
           "full body:undistorted_GX010097_124_1870.jpg_gamma",
           "Prawn_0"
          ],
          [
           "full body:undistorted_GX010097_124_1870.jpg_gamma",
           "Prawn_1"
          ],
          [
           "full body:undistorted_GX010101_12_173.jpg_gamma",
           "Prawn_0"
          ],
          [
           "full body:undistorted_GX010102_9_165.jpg_gamma",
           "Prawn_1"
          ],
          [
           "full body:undistorted_GX010102_9_165.jpg_gamma",
           "Prawn_2"
          ],
          [
           "full body:undistorted_GX010102_9_165.jpg_gamma",
           "Prawn_3"
          ],
          [
           "full body:undistorted_GX010102_9_165.jpg_gamma",
           "Prawn_4"
          ],
          [
           "full body:undistorted_GX010102_9_165.jpg_gamma",
           "Prawn_5"
          ],
          [
           "full body:undistorted_GX010102_50_1396.jpg_gamma",
           "Prawn_0"
          ],
          [
           "full body:undistorted_GX010105_28_816.jpg_gamma",
           "Prawn_0"
          ],
          [
           "full body:undistorted_GX010105_28_816.jpg_gamma",
           "Prawn_1"
          ],
          [
           "full body:undistorted_GX010152_36_378.jpg_gamma",
           "Prawn_0"
          ],
          [
           "full body:undistorted_GX010152_36_378.jpg_gamma",
           "Prawn_1"
          ],
          [
           "full body:undistorted_GX010157_160_2259",
           "Prawn_0"
          ],
          [
           "full body:undistorted_GX010157_174_2582.jpg_gamma",
           "Prawn_0"
          ],
          [
           "full body:undistorted_GX010157_177_2665.jpg_gamma",
           "Prawn_0"
          ],
          [
           "full body:undistorted_GX010161_54_676.jpg_gamma.jpg_gamma",
           "Prawn_0"
          ],
          [
           "full body:undistorted_GX010162_72_927.jpg_gamma.jpg_gamma",
           "Prawn_0"
          ],
          [
           "full body:undistorted_GX010174_62_790.jpg_gamma",
           "Prawn_0"
          ],
          [
           "full body:undistorted_GX010175_266_3372.jpg_gamma.jpg_gamma",
           "Prawn_0"
          ],
          [
           "full body:undistorted_GX010177_232_3047",
           "Prawn_0"
          ],
          [
           "full body:undistorted_GX010178_172_3604.jpg_gamma",
           "Prawn_0"
          ],
          [
           "full body:undistorted_GX010183_37_685.jpg_gamma",
           "Prawn_0"
          ],
          [
           "full body:undistorted_GX010183_80_1633.jpg_gamma",
           "Prawn_0"
          ],
          [
           "full body:undistorted_GX010183_128_2852.jpg_gamma",
           "Prawn_0"
          ]
         ],
         "hovertemplate": "PondType=%{x}<br>min_mae=%{y}<br>Label=%{customdata[0]}<br>PrawnID=%{customdata[1]}<extra></extra>",
         "legendgroup": "",
         "marker": {
          "color": "#636efa"
         },
         "name": "",
         "offsetgroup": "",
         "orientation": "v",
         "points": "all",
         "scalegroup": "True",
         "showlegend": false,
         "type": "violin",
         "x": [
          "circular-big",
          "circular-big",
          "circular-big",
          "circular-big",
          "circular-big",
          "circular-big",
          "circular-big",
          "circular-big",
          "circular-big",
          "circular-big",
          "circular-big",
          "circular-big",
          "circular-big",
          "circular-big",
          "circular-big",
          "circular-big",
          "circular-big",
          "circular-big",
          "circular-big",
          "circular-big",
          "circular-big",
          "circular-big",
          "circular-big",
          "circular-big",
          "circular-big",
          "circular-big",
          "circular-big",
          "circular-big",
          "circular-big",
          "circular-big",
          "circular-big",
          "circular-big",
          "circular-big",
          "circular-big",
          "circular-big",
          "circular-big",
          "circular-big",
          "circular-big",
          "circular-big",
          "circular-big",
          "circular-big",
          "circular-big",
          "circular-big",
          "circular-big",
          "circular-big",
          "circular-big",
          "circular-big",
          "circular-big",
          "circular-big",
          "circular-big",
          "circular-big",
          "circular-big",
          "circular-big",
          "circular-big",
          "circular-big",
          "circular-big",
          "circular-big",
          "circular-big",
          "circular-big",
          "circular-big",
          "circular-big",
          "circular-big",
          "circular-big",
          "circular-big",
          "circular-big",
          "circular-big",
          "circular-big",
          "circular-big",
          "circular-big",
          "circular-big",
          "circular-big",
          "circular-big",
          "circular-big",
          "circular-big",
          "circular-small",
          "circular-small",
          "circular-small",
          "circular-small",
          "circular-big",
          "circular-small",
          "circular-small",
          "circular-small",
          "circular-big",
          "circular-big",
          "circular-big",
          "circular-big",
          "circular-big",
          "circular-big",
          "circular-big",
          "circular-big",
          "circular-big",
          "circular-big",
          "circular-big",
          "circular-big",
          "circular-big",
          "circular-big",
          "circular-big",
          "circular-big",
          "circular-big",
          "circular-big",
          "circular-small",
          "circular-small",
          "circular-small",
          "circular-small",
          "circular-small",
          "circular-small",
          "circular-small",
          "circular-small",
          "square-female",
          "square-female",
          "square-female",
          "square-female",
          "square-female",
          "square-female",
          "square-female",
          "square-female",
          "square-female",
          "square-female",
          "square-female",
          "square-female",
          "square-female",
          "square-female"
         ],
         "x0": " ",
         "xaxis": "x",
         "y": [
          4.731451607420922,
          10.76005621878703,
          1.775644547862981,
          9.11540685296805,
          1.046793588607059,
          3.527822675504837,
          8.822447763821685,
          12.54596300169466,
          16.31505110771728,
          8.96639062831261,
          4.610948833937044,
          1.829131432664127,
          0.9058763041410174,
          14.197675426651,
          15.75524293855288,
          14.15285380669994,
          12.40499319663823,
          1.375186642114812,
          17.21455914689275,
          4.551944784594582,
          3.684981306676463,
          5.554561875542518,
          6.878248168471998,
          20.52075747698053,
          32.64374405621471,
          31.00323414603047,
          27.67900841073204,
          21.89686934318435,
          14.36696131696877,
          21.1844114250483,
          8.922521007331511,
          24.61661874600227,
          23.33404740082814,
          11.39073374181663,
          3.050231364605196,
          12.81730867164907,
          20.16489353278465,
          14.55604186488075,
          6.054335488347562,
          3.160340153199769,
          13.81741506886621,
          21.36396216254471,
          9.383055686515874,
          15.01645529005637,
          2.272952540973762,
          1.603437866759464,
          3.728410522143207,
          11.61538009840291,
          5.118400050384338,
          1.507178634847207,
          19.10065251434079,
          37.06832167606208,
          17.78131526812157,
          18.18529362354461,
          30.15591093539877,
          0.0679430742152789,
          8.535333986370546,
          6.703090000091578,
          2.090211591170316,
          12.40418311818536,
          4.407592832592684,
          11.40166156483927,
          0.7753151094987061,
          19.5432117676724,
          2.696372176450382,
          11.2420185038287,
          4.545966809780964,
          2.527546290406519,
          3.471646184410645,
          4.814604159000567,
          7.936016852181666,
          11.22326994207236,
          6.286359230620533,
          1.766332906722226,
          24.38975711162612,
          17.08713097593247,
          21.47069998942331,
          2.509125396106931,
          11.67725961676365,
          18.47246068911301,
          14.87510242154835,
          37.38806516432776,
          11.90711001051625,
          14.43638293258064,
          11.20135580790574,
          0.1318451817630688,
          14.86098675165017,
          12.99220782091001,
          63.53548642613654,
          19.13212791819919,
          13.05857252013507,
          36.01054396560716,
          2.581852391645782,
          42.88860399861798,
          15.97980044886523,
          28.50974788376941,
          43.65236606989079,
          27.45676340040215,
          13.61506277970771,
          2.999258159698996,
          21.80109689598581,
          49.15371209933767,
          37.45571209933767,
          20.65896523765601,
          18.34599538573427,
          20.87895544962726,
          15.46606788390365,
          23.97434583644564,
          0.9973022309122257,
          5.526412192379695,
          4.937276930490313,
          1.322503150971855,
          0.7757686504129424,
          5.998012830541384,
          5.630771158544505,
          1.008652192411702,
          0.243287136106062,
          8.935418999867707,
          1.293139502268332,
          1.710829961081885,
          3.061333522325612,
          5.284333157032307
         ],
         "y0": " ",
         "yaxis": "y"
        }
       ],
       "layout": {
        "legend": {
         "tracegroupgap": 0
        },
        "template": {
         "data": {
          "bar": [
           {
            "error_x": {
             "color": "#2a3f5f"
            },
            "error_y": {
             "color": "#2a3f5f"
            },
            "marker": {
             "line": {
              "color": "#E5ECF6",
              "width": 0.5
             },
             "pattern": {
              "fillmode": "overlay",
              "size": 10,
              "solidity": 0.2
             }
            },
            "type": "bar"
           }
          ],
          "barpolar": [
           {
            "marker": {
             "line": {
              "color": "#E5ECF6",
              "width": 0.5
             },
             "pattern": {
              "fillmode": "overlay",
              "size": 10,
              "solidity": 0.2
             }
            },
            "type": "barpolar"
           }
          ],
          "carpet": [
           {
            "aaxis": {
             "endlinecolor": "#2a3f5f",
             "gridcolor": "white",
             "linecolor": "white",
             "minorgridcolor": "white",
             "startlinecolor": "#2a3f5f"
            },
            "baxis": {
             "endlinecolor": "#2a3f5f",
             "gridcolor": "white",
             "linecolor": "white",
             "minorgridcolor": "white",
             "startlinecolor": "#2a3f5f"
            },
            "type": "carpet"
           }
          ],
          "choropleth": [
           {
            "colorbar": {
             "outlinewidth": 0,
             "ticks": ""
            },
            "type": "choropleth"
           }
          ],
          "contour": [
           {
            "colorbar": {
             "outlinewidth": 0,
             "ticks": ""
            },
            "colorscale": [
             [
              0,
              "#0d0887"
             ],
             [
              0.1111111111111111,
              "#46039f"
             ],
             [
              0.2222222222222222,
              "#7201a8"
             ],
             [
              0.3333333333333333,
              "#9c179e"
             ],
             [
              0.4444444444444444,
              "#bd3786"
             ],
             [
              0.5555555555555556,
              "#d8576b"
             ],
             [
              0.6666666666666666,
              "#ed7953"
             ],
             [
              0.7777777777777778,
              "#fb9f3a"
             ],
             [
              0.8888888888888888,
              "#fdca26"
             ],
             [
              1,
              "#f0f921"
             ]
            ],
            "type": "contour"
           }
          ],
          "contourcarpet": [
           {
            "colorbar": {
             "outlinewidth": 0,
             "ticks": ""
            },
            "type": "contourcarpet"
           }
          ],
          "heatmap": [
           {
            "colorbar": {
             "outlinewidth": 0,
             "ticks": ""
            },
            "colorscale": [
             [
              0,
              "#0d0887"
             ],
             [
              0.1111111111111111,
              "#46039f"
             ],
             [
              0.2222222222222222,
              "#7201a8"
             ],
             [
              0.3333333333333333,
              "#9c179e"
             ],
             [
              0.4444444444444444,
              "#bd3786"
             ],
             [
              0.5555555555555556,
              "#d8576b"
             ],
             [
              0.6666666666666666,
              "#ed7953"
             ],
             [
              0.7777777777777778,
              "#fb9f3a"
             ],
             [
              0.8888888888888888,
              "#fdca26"
             ],
             [
              1,
              "#f0f921"
             ]
            ],
            "type": "heatmap"
           }
          ],
          "heatmapgl": [
           {
            "colorbar": {
             "outlinewidth": 0,
             "ticks": ""
            },
            "colorscale": [
             [
              0,
              "#0d0887"
             ],
             [
              0.1111111111111111,
              "#46039f"
             ],
             [
              0.2222222222222222,
              "#7201a8"
             ],
             [
              0.3333333333333333,
              "#9c179e"
             ],
             [
              0.4444444444444444,
              "#bd3786"
             ],
             [
              0.5555555555555556,
              "#d8576b"
             ],
             [
              0.6666666666666666,
              "#ed7953"
             ],
             [
              0.7777777777777778,
              "#fb9f3a"
             ],
             [
              0.8888888888888888,
              "#fdca26"
             ],
             [
              1,
              "#f0f921"
             ]
            ],
            "type": "heatmapgl"
           }
          ],
          "histogram": [
           {
            "marker": {
             "pattern": {
              "fillmode": "overlay",
              "size": 10,
              "solidity": 0.2
             }
            },
            "type": "histogram"
           }
          ],
          "histogram2d": [
           {
            "colorbar": {
             "outlinewidth": 0,
             "ticks": ""
            },
            "colorscale": [
             [
              0,
              "#0d0887"
             ],
             [
              0.1111111111111111,
              "#46039f"
             ],
             [
              0.2222222222222222,
              "#7201a8"
             ],
             [
              0.3333333333333333,
              "#9c179e"
             ],
             [
              0.4444444444444444,
              "#bd3786"
             ],
             [
              0.5555555555555556,
              "#d8576b"
             ],
             [
              0.6666666666666666,
              "#ed7953"
             ],
             [
              0.7777777777777778,
              "#fb9f3a"
             ],
             [
              0.8888888888888888,
              "#fdca26"
             ],
             [
              1,
              "#f0f921"
             ]
            ],
            "type": "histogram2d"
           }
          ],
          "histogram2dcontour": [
           {
            "colorbar": {
             "outlinewidth": 0,
             "ticks": ""
            },
            "colorscale": [
             [
              0,
              "#0d0887"
             ],
             [
              0.1111111111111111,
              "#46039f"
             ],
             [
              0.2222222222222222,
              "#7201a8"
             ],
             [
              0.3333333333333333,
              "#9c179e"
             ],
             [
              0.4444444444444444,
              "#bd3786"
             ],
             [
              0.5555555555555556,
              "#d8576b"
             ],
             [
              0.6666666666666666,
              "#ed7953"
             ],
             [
              0.7777777777777778,
              "#fb9f3a"
             ],
             [
              0.8888888888888888,
              "#fdca26"
             ],
             [
              1,
              "#f0f921"
             ]
            ],
            "type": "histogram2dcontour"
           }
          ],
          "mesh3d": [
           {
            "colorbar": {
             "outlinewidth": 0,
             "ticks": ""
            },
            "type": "mesh3d"
           }
          ],
          "parcoords": [
           {
            "line": {
             "colorbar": {
              "outlinewidth": 0,
              "ticks": ""
             }
            },
            "type": "parcoords"
           }
          ],
          "pie": [
           {
            "automargin": true,
            "type": "pie"
           }
          ],
          "scatter": [
           {
            "fillpattern": {
             "fillmode": "overlay",
             "size": 10,
             "solidity": 0.2
            },
            "type": "scatter"
           }
          ],
          "scatter3d": [
           {
            "line": {
             "colorbar": {
              "outlinewidth": 0,
              "ticks": ""
             }
            },
            "marker": {
             "colorbar": {
              "outlinewidth": 0,
              "ticks": ""
             }
            },
            "type": "scatter3d"
           }
          ],
          "scattercarpet": [
           {
            "marker": {
             "colorbar": {
              "outlinewidth": 0,
              "ticks": ""
             }
            },
            "type": "scattercarpet"
           }
          ],
          "scattergeo": [
           {
            "marker": {
             "colorbar": {
              "outlinewidth": 0,
              "ticks": ""
             }
            },
            "type": "scattergeo"
           }
          ],
          "scattergl": [
           {
            "marker": {
             "colorbar": {
              "outlinewidth": 0,
              "ticks": ""
             }
            },
            "type": "scattergl"
           }
          ],
          "scattermapbox": [
           {
            "marker": {
             "colorbar": {
              "outlinewidth": 0,
              "ticks": ""
             }
            },
            "type": "scattermapbox"
           }
          ],
          "scatterpolar": [
           {
            "marker": {
             "colorbar": {
              "outlinewidth": 0,
              "ticks": ""
             }
            },
            "type": "scatterpolar"
           }
          ],
          "scatterpolargl": [
           {
            "marker": {
             "colorbar": {
              "outlinewidth": 0,
              "ticks": ""
             }
            },
            "type": "scatterpolargl"
           }
          ],
          "scatterternary": [
           {
            "marker": {
             "colorbar": {
              "outlinewidth": 0,
              "ticks": ""
             }
            },
            "type": "scatterternary"
           }
          ],
          "surface": [
           {
            "colorbar": {
             "outlinewidth": 0,
             "ticks": ""
            },
            "colorscale": [
             [
              0,
              "#0d0887"
             ],
             [
              0.1111111111111111,
              "#46039f"
             ],
             [
              0.2222222222222222,
              "#7201a8"
             ],
             [
              0.3333333333333333,
              "#9c179e"
             ],
             [
              0.4444444444444444,
              "#bd3786"
             ],
             [
              0.5555555555555556,
              "#d8576b"
             ],
             [
              0.6666666666666666,
              "#ed7953"
             ],
             [
              0.7777777777777778,
              "#fb9f3a"
             ],
             [
              0.8888888888888888,
              "#fdca26"
             ],
             [
              1,
              "#f0f921"
             ]
            ],
            "type": "surface"
           }
          ],
          "table": [
           {
            "cells": {
             "fill": {
              "color": "#EBF0F8"
             },
             "line": {
              "color": "white"
             }
            },
            "header": {
             "fill": {
              "color": "#C8D4E3"
             },
             "line": {
              "color": "white"
             }
            },
            "type": "table"
           }
          ]
         },
         "layout": {
          "annotationdefaults": {
           "arrowcolor": "#2a3f5f",
           "arrowhead": 0,
           "arrowwidth": 1
          },
          "autotypenumbers": "strict",
          "coloraxis": {
           "colorbar": {
            "outlinewidth": 0,
            "ticks": ""
           }
          },
          "colorscale": {
           "diverging": [
            [
             0,
             "#8e0152"
            ],
            [
             0.1,
             "#c51b7d"
            ],
            [
             0.2,
             "#de77ae"
            ],
            [
             0.3,
             "#f1b6da"
            ],
            [
             0.4,
             "#fde0ef"
            ],
            [
             0.5,
             "#f7f7f7"
            ],
            [
             0.6,
             "#e6f5d0"
            ],
            [
             0.7,
             "#b8e186"
            ],
            [
             0.8,
             "#7fbc41"
            ],
            [
             0.9,
             "#4d9221"
            ],
            [
             1,
             "#276419"
            ]
           ],
           "sequential": [
            [
             0,
             "#0d0887"
            ],
            [
             0.1111111111111111,
             "#46039f"
            ],
            [
             0.2222222222222222,
             "#7201a8"
            ],
            [
             0.3333333333333333,
             "#9c179e"
            ],
            [
             0.4444444444444444,
             "#bd3786"
            ],
            [
             0.5555555555555556,
             "#d8576b"
            ],
            [
             0.6666666666666666,
             "#ed7953"
            ],
            [
             0.7777777777777778,
             "#fb9f3a"
            ],
            [
             0.8888888888888888,
             "#fdca26"
            ],
            [
             1,
             "#f0f921"
            ]
           ],
           "sequentialminus": [
            [
             0,
             "#0d0887"
            ],
            [
             0.1111111111111111,
             "#46039f"
            ],
            [
             0.2222222222222222,
             "#7201a8"
            ],
            [
             0.3333333333333333,
             "#9c179e"
            ],
            [
             0.4444444444444444,
             "#bd3786"
            ],
            [
             0.5555555555555556,
             "#d8576b"
            ],
            [
             0.6666666666666666,
             "#ed7953"
            ],
            [
             0.7777777777777778,
             "#fb9f3a"
            ],
            [
             0.8888888888888888,
             "#fdca26"
            ],
            [
             1,
             "#f0f921"
            ]
           ]
          },
          "colorway": [
           "#636efa",
           "#EF553B",
           "#00cc96",
           "#ab63fa",
           "#FFA15A",
           "#19d3f3",
           "#FF6692",
           "#B6E880",
           "#FF97FF",
           "#FECB52"
          ],
          "font": {
           "color": "#2a3f5f"
          },
          "geo": {
           "bgcolor": "white",
           "lakecolor": "white",
           "landcolor": "#E5ECF6",
           "showlakes": true,
           "showland": true,
           "subunitcolor": "white"
          },
          "hoverlabel": {
           "align": "left"
          },
          "hovermode": "closest",
          "mapbox": {
           "style": "light"
          },
          "paper_bgcolor": "white",
          "plot_bgcolor": "#E5ECF6",
          "polar": {
           "angularaxis": {
            "gridcolor": "white",
            "linecolor": "white",
            "ticks": ""
           },
           "bgcolor": "#E5ECF6",
           "radialaxis": {
            "gridcolor": "white",
            "linecolor": "white",
            "ticks": ""
           }
          },
          "scene": {
           "xaxis": {
            "backgroundcolor": "#E5ECF6",
            "gridcolor": "white",
            "gridwidth": 2,
            "linecolor": "white",
            "showbackground": true,
            "ticks": "",
            "zerolinecolor": "white"
           },
           "yaxis": {
            "backgroundcolor": "#E5ECF6",
            "gridcolor": "white",
            "gridwidth": 2,
            "linecolor": "white",
            "showbackground": true,
            "ticks": "",
            "zerolinecolor": "white"
           },
           "zaxis": {
            "backgroundcolor": "#E5ECF6",
            "gridcolor": "white",
            "gridwidth": 2,
            "linecolor": "white",
            "showbackground": true,
            "ticks": "",
            "zerolinecolor": "white"
           }
          },
          "shapedefaults": {
           "line": {
            "color": "#2a3f5f"
           }
          },
          "ternary": {
           "aaxis": {
            "gridcolor": "white",
            "linecolor": "white",
            "ticks": ""
           },
           "baxis": {
            "gridcolor": "white",
            "linecolor": "white",
            "ticks": ""
           },
           "bgcolor": "#E5ECF6",
           "caxis": {
            "gridcolor": "white",
            "linecolor": "white",
            "ticks": ""
           }
          },
          "title": {
           "x": 0.05
          },
          "xaxis": {
           "automargin": true,
           "gridcolor": "white",
           "linecolor": "white",
           "ticks": "",
           "title": {
            "standoff": 15
           },
           "zerolinecolor": "white",
           "zerolinewidth": 2
          },
          "yaxis": {
           "automargin": true,
           "gridcolor": "white",
           "linecolor": "white",
           "ticks": "",
           "title": {
            "standoff": 15
           },
           "zerolinecolor": "white",
           "zerolinewidth": 2
          }
         }
        },
        "title": {
         "text": "Violin plot of min_mae"
        },
        "violinmode": "group",
        "xaxis": {
         "anchor": "y",
         "domain": [
          0,
          1
         ],
         "title": {
          "text": "PondType"
         }
        },
        "yaxis": {
         "anchor": "x",
         "domain": [
          0,
          1
         ],
         "title": {
          "text": "min_mae"
         }
        }
       }
      }
     },
     "metadata": {},
     "output_type": "display_data"
    },
    {
     "data": {
      "application/vnd.plotly.v1+json": {
       "config": {
        "plotlyServerURL": "https://plot.ly"
       },
       "data": [
        {
         "alignmentgroup": "True",
         "box": {
          "visible": true
         },
         "customdata": [
          [
           "full body:undistorted_GX010077_14_237.jpg_gamma",
           "Prawn_0"
          ],
          [
           "full body:undistorted_GX010077_14_237.jpg_gamma",
           "Prawn_1"
          ],
          [
           "full body:undistorted_GX010077_14_237.jpg_gamma",
           "Prawn_2"
          ],
          [
           "full body:undistorted_GX010067_33_625.jpg_gamma",
           "Prawn_0"
          ],
          [
           "full body:undistorted_GX010067_33_625.jpg_gamma",
           "Prawn_1"
          ],
          [
           "full body:undistorted_GX010067_33_625.jpg_gamma",
           "Prawn_2"
          ],
          [
           "full body:undistorted_GX010067_33_625.jpg_gamma",
           "Prawn_3"
          ],
          [
           "full body:undistorted_GX010068_26_666.jpg_gamma",
           "Prawn_0"
          ],
          [
           "full body:undistorted_GX010068_26_666.jpg_gamma",
           "Prawn_1"
          ],
          [
           "full body:undistorted_GX010068_26_666.jpg_gamma",
           "Prawn_2"
          ],
          [
           "full body:undistorted_GX010068_27_795.jpg_gamma",
           "Prawn_0"
          ],
          [
           "full body:undistorted_GX010068_27_795.jpg_gamma",
           "Prawn_1"
          ],
          [
           "full body:undistorted_GX010069_19_191.jpg_gamma",
           "Prawn_0"
          ],
          [
           "full body:undistorted_GX010069_19_191.jpg_gamma",
           "Prawn_1"
          ],
          [
           "full body:undistorted_GX010069_19_191.jpg_gamma",
           "Prawn_2"
          ],
          [
           "full body:undistorted_GX010069_19_191.jpg_gamma",
           "Prawn_3"
          ],
          [
           "full body:undistorted_GX010071_22_444.jpg_gamma",
           "Prawn_0"
          ],
          [
           "full body:undistorted_GX010071_22_444.jpg_gamma",
           "Prawn_1"
          ],
          [
           "full body:undistorted_GX010073_42_695.jpg_gamma",
           "Prawn_0"
          ],
          [
           "full body:undistorted_GX010073_42_695.jpg_gamma",
           "Prawn_1"
          ],
          [
           "full body:undistorted_GX010073_42_695.jpg_gamma",
           "Prawn_2"
          ],
          [
           "full body:undistorted_GX010073_55_1014.jpg_gamma",
           "Prawn_0"
          ],
          [
           "full body:undistorted_GX010073_55_1014.jpg_gamma",
           "Prawn_1"
          ],
          [
           "full body:undistorted_GX010073_55_1014.jpg_gamma",
           "Prawn_2"
          ],
          [
           "full body:undistorted_GX010080_157_2283.jpg_gamma",
           "Prawn_0"
          ],
          [
           "full body:undistorted_GX010080_157_2283.jpg_gamma",
           "Prawn_2"
          ],
          [
           "full body:undistorted_GX010080_157_2283.jpg_gamma",
           "Prawn_3"
          ],
          [
           "full body:undistorted_GX010080_193_2640.jpg_gamma",
           "Prawn_0"
          ],
          [
           "full body:undistorted_GX010080_193_2640.jpg_gamma",
           "Prawn_1"
          ],
          [
           "full body:undistorted_GX010080_193_2640.jpg_gamma",
           "Prawn_2"
          ],
          [
           "full body:undistorted_GX010080_193_2640.jpg_gamma",
           "Prawn_3"
          ],
          [
           "full body:undistorted_GX010080_193_2640.jpg_gamma",
           "Prawn_4"
          ],
          [
           "full body:undistorted_GX010080_212_2954.jpg_gamma",
           "Prawn_0"
          ],
          [
           "full body:undistorted_GX010080_212_2954.jpg_gamma",
           "Prawn_1"
          ],
          [
           "full body:undistorted_GX010080_212_2954.jpg_gamma",
           "Prawn_2"
          ],
          [
           "full body:undistorted_GX010080_237_3366.jpg_gamma",
           "Prawn_0"
          ],
          [
           "full body:undistorted_GX010080_237_3366.jpg_gamma",
           "Prawn_1"
          ],
          [
           "full body:undistorted_GX010080_237_3366.jpg_gamma",
           "Prawn_2"
          ],
          [
           "full body:undistorted_GX010080_237_3366.jpg_gamma",
           "Prawn_3"
          ],
          [
           "full body:undistorted_GX010080_237_3366.jpg_gamma",
           "Prawn_4"
          ],
          [
           "full body:undistorted_GX010080_238_3392.jpg_gamma",
           "Prawn_0"
          ],
          [
           "full body:undistorted_GX010080_238_3392.jpg_gamma",
           "Prawn_1"
          ],
          [
           "full body:undistorted_GX010080_238_3392.jpg_gamma",
           "Prawn_2"
          ],
          [
           "full body:undistorted_GX010080_238_3392.jpg_gamma",
           "Prawn_3"
          ],
          [
           "full body:undistorted_GX010082_8_59.jpg_gamma",
           "Prawn_1"
          ],
          [
           "full body:undistorted_GX010082_8_59.jpg_gamma",
           "Prawn_2"
          ],
          [
           "full body:undistorted_GX010082_8_59.jpg_gamma",
           "Prawn_3"
          ],
          [
           "full body:undistorted_GX010082_8_59.jpg_gamma",
           "Prawn_4"
          ],
          [
           "full body:undistorted_GX010082_53_796.jpg_gamma",
           "Prawn_0"
          ],
          [
           "full body:undistorted_GX010082_53_796.jpg_gamma",
           "Prawn_1"
          ],
          [
           "full body:undistorted_GX010082_65_1070.jpg_gamma",
           "Prawn_0"
          ],
          [
           "full body:undistorted_GX010082_65_1070.jpg_gamma",
           "Prawn_1"
          ],
          [
           "full body:undistorted_GX010082_65_1070.jpg_gamma",
           "Prawn_2"
          ],
          [
           "full body:undistorted_GX010082_236_3137.jpg_gamma",
           "Prawn_0"
          ],
          [
           "full body:undistorted_GX010082_236_3137.jpg_gamma",
           "Prawn_1"
          ],
          [
           "full body:undistorted_GX010082_236_3137.jpg_gamma",
           "Prawn_2"
          ],
          [
           "full body:undistorted_GX010084_30_344.jpg_gamma",
           "Prawn_0"
          ],
          [
           "full body:undistorted_GX010084_30_344.jpg_gamma",
           "Prawn_1"
          ],
          [
           "full body:undistorted_GX010084_30_344.jpg_gamma",
           "Prawn_2"
          ],
          [
           "full body:undistorted_GX010084_30_344.jpg_gamma",
           "Prawn_3"
          ],
          [
           "full body:undistorted_GX010084_130_1748.jpg_gamma",
           "Prawn_0"
          ],
          [
           "full body:undistorted_GX010084_130_1748.jpg_gamma",
           "Prawn_1"
          ],
          [
           "full body:undistorted_GX010084_130_1748.jpg_gamma",
           "Prawn_2"
          ],
          [
           "full body:undistorted_GX010085_261_3610.jpg_gamma",
           "Prawn_0"
          ],
          [
           "full body:undistorted_GX010085_261_3610.jpg_gamma",
           "Prawn_1"
          ],
          [
           "full body:undistorted_GX010088_209_2904.jpg_gamma",
           "Prawn_0"
          ],
          [
           "full body:undistorted_GX010088_209_2904.jpg_gamma",
           "Prawn_1"
          ],
          [
           "full body:undistorted_GX010088_262_3712.jpg_gamma",
           "Prawn_0"
          ],
          [
           "full body:undistorted_GX010088_262_3712.jpg_gamma",
           "Prawn_1"
          ],
          [
           "full body:undistorted_GX010088_262_3712.jpg_gamma",
           "Prawn_2"
          ],
          [
           "full body:undistorted_GX010088_327_4364.jpg_gamma",
           "Prawn_0"
          ],
          [
           "full body:undistorted_GX010088_327_4364.jpg_gamma",
           "Prawn_1"
          ],
          [
           "full body:undistorted_GX010088_327_4364.jpg_gamma",
           "Prawn_2"
          ],
          [
           "full body:undistorted_GX010088_327_4364.jpg_gamma",
           "Prawn_3"
          ],
          [
           "full body:undistorted_GX010089_11_236.jpg_gamma",
           "Prawn_0"
          ],
          [
           "full body:undistorted_GX010089_11_236.jpg_gamma",
           "Prawn_1"
          ],
          [
           "full body:undistorted_GX010089_11_236.jpg_gamma",
           "Prawn_2"
          ],
          [
           "full body:undistorted_GX010089_11_236.jpg_gamma",
           "Prawn_3"
          ],
          [
           "full body:undistorted_GX010090_132_1852.jpg_gamma",
           "Prawn_0"
          ],
          [
           "full body:undistorted_GX010091_5_149.jpg_gamma",
           "Prawn_0"
          ],
          [
           "full body:undistorted_GX010091_5_149.jpg_gamma",
           "Prawn_1"
          ],
          [
           "full body:undistorted_GX010091_5_149.jpg_gamma",
           "Prawn_2"
          ],
          [
           "full body:undistorted_GX010094_9_129.jpg_gamma",
           "Prawn_0"
          ],
          [
           "full body:undistorted_GX010094_9_129.jpg_gamma",
           "Prawn_1"
          ],
          [
           "full body:undistorted_GX010094_24_430.jpg_gamma",
           "Prawn_0"
          ],
          [
           "full body:undistorted_GX010094_93_1258.jpg_gamma",
           "Prawn_0"
          ],
          [
           "full body:undistorted_GX010094_163_2312.jpg_gamma",
           "Prawn_0"
          ],
          [
           "full body:undistorted_GX010097_32_528.jpg_gamma",
           "Prawn_0"
          ],
          [
           "full body:undistorted_GX010097_32_528.jpg_gamma",
           "Prawn_1"
          ],
          [
           "full body:undistorted_GX010097_60_1080.jpg_gamma",
           "Prawn_0"
          ],
          [
           "full body:undistorted_GX010097_60_1080.jpg_gamma",
           "Prawn_1"
          ],
          [
           "full body:undistorted_GX010097_60_1080.jpg_gamma",
           "Prawn_2"
          ],
          [
           "full body:undistorted_GX010097_60_1080.jpg_gamma",
           "Prawn_3"
          ],
          [
           "full body:undistorted_GX010097_105_1651.jpg_gamma",
           "Prawn_0"
          ],
          [
           "full body:undistorted_GX010097_105_1651.jpg_gamma",
           "Prawn_1"
          ],
          [
           "full body:undistorted_GX010097_105_1651.jpg_gamma",
           "Prawn_2"
          ],
          [
           "full body:undistorted_GX010097_105_1651.jpg_gamma",
           "Prawn_3"
          ],
          [
           "full body:undistorted_GX010097_124_1870.jpg_gamma",
           "Prawn_0"
          ],
          [
           "full body:undistorted_GX010097_124_1870.jpg_gamma",
           "Prawn_1"
          ],
          [
           "full body:undistorted_GX010101_12_173.jpg_gamma",
           "Prawn_0"
          ],
          [
           "full body:undistorted_GX010102_9_165.jpg_gamma",
           "Prawn_1"
          ],
          [
           "full body:undistorted_GX010102_9_165.jpg_gamma",
           "Prawn_2"
          ],
          [
           "full body:undistorted_GX010102_9_165.jpg_gamma",
           "Prawn_3"
          ],
          [
           "full body:undistorted_GX010102_9_165.jpg_gamma",
           "Prawn_4"
          ],
          [
           "full body:undistorted_GX010102_9_165.jpg_gamma",
           "Prawn_5"
          ],
          [
           "full body:undistorted_GX010102_50_1396.jpg_gamma",
           "Prawn_0"
          ],
          [
           "full body:undistorted_GX010105_28_816.jpg_gamma",
           "Prawn_0"
          ],
          [
           "full body:undistorted_GX010105_28_816.jpg_gamma",
           "Prawn_1"
          ],
          [
           "full body:undistorted_GX010152_36_378.jpg_gamma",
           "Prawn_0"
          ],
          [
           "full body:undistorted_GX010152_36_378.jpg_gamma",
           "Prawn_1"
          ],
          [
           "full body:undistorted_GX010157_160_2259",
           "Prawn_0"
          ],
          [
           "full body:undistorted_GX010157_174_2582.jpg_gamma",
           "Prawn_0"
          ],
          [
           "full body:undistorted_GX010157_177_2665.jpg_gamma",
           "Prawn_0"
          ],
          [
           "full body:undistorted_GX010161_54_676.jpg_gamma.jpg_gamma",
           "Prawn_0"
          ],
          [
           "full body:undistorted_GX010162_72_927.jpg_gamma.jpg_gamma",
           "Prawn_0"
          ],
          [
           "full body:undistorted_GX010174_62_790.jpg_gamma",
           "Prawn_0"
          ],
          [
           "full body:undistorted_GX010175_266_3372.jpg_gamma.jpg_gamma",
           "Prawn_0"
          ],
          [
           "full body:undistorted_GX010177_232_3047",
           "Prawn_0"
          ],
          [
           "full body:undistorted_GX010178_172_3604.jpg_gamma",
           "Prawn_0"
          ],
          [
           "full body:undistorted_GX010183_37_685.jpg_gamma",
           "Prawn_0"
          ],
          [
           "full body:undistorted_GX010183_80_1633.jpg_gamma",
           "Prawn_0"
          ],
          [
           "full body:undistorted_GX010183_128_2852.jpg_gamma",
           "Prawn_0"
          ]
         ],
         "hovertemplate": "PondType=%{x}<br>max_mpe=%{y}<br>Label=%{customdata[0]}<br>PrawnID=%{customdata[1]}<extra></extra>",
         "legendgroup": "",
         "marker": {
          "color": "#636efa"
         },
         "name": "",
         "offsetgroup": "",
         "orientation": "v",
         "points": "all",
         "scalegroup": "True",
         "showlegend": false,
         "type": "violin",
         "x": [
          "circular-big",
          "circular-big",
          "circular-big",
          "circular-big",
          "circular-big",
          "circular-big",
          "circular-big",
          "circular-big",
          "circular-big",
          "circular-big",
          "circular-big",
          "circular-big",
          "circular-big",
          "circular-big",
          "circular-big",
          "circular-big",
          "circular-big",
          "circular-big",
          "circular-big",
          "circular-big",
          "circular-big",
          "circular-big",
          "circular-big",
          "circular-big",
          "circular-big",
          "circular-big",
          "circular-big",
          "circular-big",
          "circular-big",
          "circular-big",
          "circular-big",
          "circular-big",
          "circular-big",
          "circular-big",
          "circular-big",
          "circular-big",
          "circular-big",
          "circular-big",
          "circular-big",
          "circular-big",
          "circular-big",
          "circular-big",
          "circular-big",
          "circular-big",
          "circular-big",
          "circular-big",
          "circular-big",
          "circular-big",
          "circular-big",
          "circular-big",
          "circular-big",
          "circular-big",
          "circular-big",
          "circular-big",
          "circular-big",
          "circular-big",
          "circular-big",
          "circular-big",
          "circular-big",
          "circular-big",
          "circular-big",
          "circular-big",
          "circular-big",
          "circular-big",
          "circular-big",
          "circular-big",
          "circular-big",
          "circular-big",
          "circular-big",
          "circular-big",
          "circular-big",
          "circular-big",
          "circular-big",
          "circular-big",
          "circular-small",
          "circular-small",
          "circular-small",
          "circular-small",
          "circular-big",
          "circular-small",
          "circular-small",
          "circular-small",
          "circular-big",
          "circular-big",
          "circular-big",
          "circular-big",
          "circular-big",
          "circular-big",
          "circular-big",
          "circular-big",
          "circular-big",
          "circular-big",
          "circular-big",
          "circular-big",
          "circular-big",
          "circular-big",
          "circular-big",
          "circular-big",
          "circular-big",
          "circular-big",
          "circular-small",
          "circular-small",
          "circular-small",
          "circular-small",
          "circular-small",
          "circular-small",
          "circular-small",
          "circular-small",
          "square-female",
          "square-female",
          "square-female",
          "square-female",
          "square-female",
          "square-female",
          "square-female",
          "square-female",
          "square-female",
          "square-female",
          "square-female",
          "square-female",
          "square-female",
          "square-female"
         ],
         "x0": " ",
         "xaxis": "x",
         "y": [
          15.4612889014857,
          22.97218024411688,
          23.14471322029539,
          25.9004847406281,
          9.039916430078252,
          16.84505830840187,
          29.79536054105836,
          27.28036052099279,
          28.34712416169486,
          14.13854610163831,
          14.89904000889477,
          1.881184033070166,
          8.989033636292405,
          21.55701159592357,
          25.47538463043758,
          16.42180845136173,
          29.12915647646935,
          15.05160196221891,
          30.07686200355051,
          22.15447367807021,
          18.95067783447293,
          10.94107288184635,
          13.03037992968062,
          25.00323346376292,
          35.71410901450322,
          37.89513883212556,
          27.75139083327789,
          23.59630429263358,
          19.32723620651253,
          27.0867502131912,
          19.40441359331479,
          32.49572170531388,
          23.72094629856609,
          14.62069736449257,
          6.45100293367402,
          15.44491222918815,
          25.41285797057474,
          26.63031793758649,
          19.37111529239679,
          11.75805609768628,
          26.73993100081122,
          21.54779124999575,
          18.44984132204995,
          27.38571318665418,
          9.114484271378519,
          15.96838299449887,
          29.19978191257293,
          32.88704696245279,
          22.63061021382752,
          9.045227889907954,
          36.44476796420174,
          29.76663677324873,
          21.33505305163863,
          40.8276384547143,
          39.2988632473181,
          11.51183268383738,
          24.03516663404584,
          25.99794516700592,
          20.4290754020118,
          26.43968377583206,
          46.41404916206838,
          13.87907676791147,
          47.76958534737673,
          21.51961058239076,
          14.64734852747356,
          22.89007489706312,
          35.22546604988322,
          12.37459430411772,
          6.621353400072154,
          5.65356570041569,
          11.18161290646566,
          12.10591500108595,
          24.11483213827129,
          8.804667539719045,
          46.2825368681874,
          51.38617622900183,
          34.12222570188406,
          16.49302243337335,
          35.03905410575253,
          51.12626298669773,
          47.09042012059077,
          122.525697405098,
          46.32583826256054,
          32.83970756574065,
          15.84169847727258,
          18.91205526731213,
          30.57400755466101,
          32.28603620836677,
          73.43776511326723,
          21.81351392680744,
          14.25015094968477,
          39.62463494641887,
          23.9365565060598,
          38.095681189021,
          28.72254508646994,
          46.53232955376959,
          50.34302399553818,
          39.6430585400778,
          35.64556368161099,
          9.429243694106832,
          34.60196548036207,
          126.2402779390867,
          69.74717061755855,
          48.98052332030454,
          47.4729567514807,
          23.88352751381624,
          47.08764361645918,
          42.30165734956756,
          14.16242216545612,
          13.75331175010765,
          10.46877971351713,
          9.693946119125027,
          28.80029879468985,
          21.25144826490611,
          8.625234881697647,
          8.775897578450918,
          1.485969635416389,
          15.14085622081527,
          16.20235941854773,
          2.754160821303884,
          14.20306287278044,
          10.29113986614371
         ],
         "y0": " ",
         "yaxis": "y"
        }
       ],
       "layout": {
        "legend": {
         "tracegroupgap": 0
        },
        "template": {
         "data": {
          "bar": [
           {
            "error_x": {
             "color": "#2a3f5f"
            },
            "error_y": {
             "color": "#2a3f5f"
            },
            "marker": {
             "line": {
              "color": "#E5ECF6",
              "width": 0.5
             },
             "pattern": {
              "fillmode": "overlay",
              "size": 10,
              "solidity": 0.2
             }
            },
            "type": "bar"
           }
          ],
          "barpolar": [
           {
            "marker": {
             "line": {
              "color": "#E5ECF6",
              "width": 0.5
             },
             "pattern": {
              "fillmode": "overlay",
              "size": 10,
              "solidity": 0.2
             }
            },
            "type": "barpolar"
           }
          ],
          "carpet": [
           {
            "aaxis": {
             "endlinecolor": "#2a3f5f",
             "gridcolor": "white",
             "linecolor": "white",
             "minorgridcolor": "white",
             "startlinecolor": "#2a3f5f"
            },
            "baxis": {
             "endlinecolor": "#2a3f5f",
             "gridcolor": "white",
             "linecolor": "white",
             "minorgridcolor": "white",
             "startlinecolor": "#2a3f5f"
            },
            "type": "carpet"
           }
          ],
          "choropleth": [
           {
            "colorbar": {
             "outlinewidth": 0,
             "ticks": ""
            },
            "type": "choropleth"
           }
          ],
          "contour": [
           {
            "colorbar": {
             "outlinewidth": 0,
             "ticks": ""
            },
            "colorscale": [
             [
              0,
              "#0d0887"
             ],
             [
              0.1111111111111111,
              "#46039f"
             ],
             [
              0.2222222222222222,
              "#7201a8"
             ],
             [
              0.3333333333333333,
              "#9c179e"
             ],
             [
              0.4444444444444444,
              "#bd3786"
             ],
             [
              0.5555555555555556,
              "#d8576b"
             ],
             [
              0.6666666666666666,
              "#ed7953"
             ],
             [
              0.7777777777777778,
              "#fb9f3a"
             ],
             [
              0.8888888888888888,
              "#fdca26"
             ],
             [
              1,
              "#f0f921"
             ]
            ],
            "type": "contour"
           }
          ],
          "contourcarpet": [
           {
            "colorbar": {
             "outlinewidth": 0,
             "ticks": ""
            },
            "type": "contourcarpet"
           }
          ],
          "heatmap": [
           {
            "colorbar": {
             "outlinewidth": 0,
             "ticks": ""
            },
            "colorscale": [
             [
              0,
              "#0d0887"
             ],
             [
              0.1111111111111111,
              "#46039f"
             ],
             [
              0.2222222222222222,
              "#7201a8"
             ],
             [
              0.3333333333333333,
              "#9c179e"
             ],
             [
              0.4444444444444444,
              "#bd3786"
             ],
             [
              0.5555555555555556,
              "#d8576b"
             ],
             [
              0.6666666666666666,
              "#ed7953"
             ],
             [
              0.7777777777777778,
              "#fb9f3a"
             ],
             [
              0.8888888888888888,
              "#fdca26"
             ],
             [
              1,
              "#f0f921"
             ]
            ],
            "type": "heatmap"
           }
          ],
          "heatmapgl": [
           {
            "colorbar": {
             "outlinewidth": 0,
             "ticks": ""
            },
            "colorscale": [
             [
              0,
              "#0d0887"
             ],
             [
              0.1111111111111111,
              "#46039f"
             ],
             [
              0.2222222222222222,
              "#7201a8"
             ],
             [
              0.3333333333333333,
              "#9c179e"
             ],
             [
              0.4444444444444444,
              "#bd3786"
             ],
             [
              0.5555555555555556,
              "#d8576b"
             ],
             [
              0.6666666666666666,
              "#ed7953"
             ],
             [
              0.7777777777777778,
              "#fb9f3a"
             ],
             [
              0.8888888888888888,
              "#fdca26"
             ],
             [
              1,
              "#f0f921"
             ]
            ],
            "type": "heatmapgl"
           }
          ],
          "histogram": [
           {
            "marker": {
             "pattern": {
              "fillmode": "overlay",
              "size": 10,
              "solidity": 0.2
             }
            },
            "type": "histogram"
           }
          ],
          "histogram2d": [
           {
            "colorbar": {
             "outlinewidth": 0,
             "ticks": ""
            },
            "colorscale": [
             [
              0,
              "#0d0887"
             ],
             [
              0.1111111111111111,
              "#46039f"
             ],
             [
              0.2222222222222222,
              "#7201a8"
             ],
             [
              0.3333333333333333,
              "#9c179e"
             ],
             [
              0.4444444444444444,
              "#bd3786"
             ],
             [
              0.5555555555555556,
              "#d8576b"
             ],
             [
              0.6666666666666666,
              "#ed7953"
             ],
             [
              0.7777777777777778,
              "#fb9f3a"
             ],
             [
              0.8888888888888888,
              "#fdca26"
             ],
             [
              1,
              "#f0f921"
             ]
            ],
            "type": "histogram2d"
           }
          ],
          "histogram2dcontour": [
           {
            "colorbar": {
             "outlinewidth": 0,
             "ticks": ""
            },
            "colorscale": [
             [
              0,
              "#0d0887"
             ],
             [
              0.1111111111111111,
              "#46039f"
             ],
             [
              0.2222222222222222,
              "#7201a8"
             ],
             [
              0.3333333333333333,
              "#9c179e"
             ],
             [
              0.4444444444444444,
              "#bd3786"
             ],
             [
              0.5555555555555556,
              "#d8576b"
             ],
             [
              0.6666666666666666,
              "#ed7953"
             ],
             [
              0.7777777777777778,
              "#fb9f3a"
             ],
             [
              0.8888888888888888,
              "#fdca26"
             ],
             [
              1,
              "#f0f921"
             ]
            ],
            "type": "histogram2dcontour"
           }
          ],
          "mesh3d": [
           {
            "colorbar": {
             "outlinewidth": 0,
             "ticks": ""
            },
            "type": "mesh3d"
           }
          ],
          "parcoords": [
           {
            "line": {
             "colorbar": {
              "outlinewidth": 0,
              "ticks": ""
             }
            },
            "type": "parcoords"
           }
          ],
          "pie": [
           {
            "automargin": true,
            "type": "pie"
           }
          ],
          "scatter": [
           {
            "fillpattern": {
             "fillmode": "overlay",
             "size": 10,
             "solidity": 0.2
            },
            "type": "scatter"
           }
          ],
          "scatter3d": [
           {
            "line": {
             "colorbar": {
              "outlinewidth": 0,
              "ticks": ""
             }
            },
            "marker": {
             "colorbar": {
              "outlinewidth": 0,
              "ticks": ""
             }
            },
            "type": "scatter3d"
           }
          ],
          "scattercarpet": [
           {
            "marker": {
             "colorbar": {
              "outlinewidth": 0,
              "ticks": ""
             }
            },
            "type": "scattercarpet"
           }
          ],
          "scattergeo": [
           {
            "marker": {
             "colorbar": {
              "outlinewidth": 0,
              "ticks": ""
             }
            },
            "type": "scattergeo"
           }
          ],
          "scattergl": [
           {
            "marker": {
             "colorbar": {
              "outlinewidth": 0,
              "ticks": ""
             }
            },
            "type": "scattergl"
           }
          ],
          "scattermapbox": [
           {
            "marker": {
             "colorbar": {
              "outlinewidth": 0,
              "ticks": ""
             }
            },
            "type": "scattermapbox"
           }
          ],
          "scatterpolar": [
           {
            "marker": {
             "colorbar": {
              "outlinewidth": 0,
              "ticks": ""
             }
            },
            "type": "scatterpolar"
           }
          ],
          "scatterpolargl": [
           {
            "marker": {
             "colorbar": {
              "outlinewidth": 0,
              "ticks": ""
             }
            },
            "type": "scatterpolargl"
           }
          ],
          "scatterternary": [
           {
            "marker": {
             "colorbar": {
              "outlinewidth": 0,
              "ticks": ""
             }
            },
            "type": "scatterternary"
           }
          ],
          "surface": [
           {
            "colorbar": {
             "outlinewidth": 0,
             "ticks": ""
            },
            "colorscale": [
             [
              0,
              "#0d0887"
             ],
             [
              0.1111111111111111,
              "#46039f"
             ],
             [
              0.2222222222222222,
              "#7201a8"
             ],
             [
              0.3333333333333333,
              "#9c179e"
             ],
             [
              0.4444444444444444,
              "#bd3786"
             ],
             [
              0.5555555555555556,
              "#d8576b"
             ],
             [
              0.6666666666666666,
              "#ed7953"
             ],
             [
              0.7777777777777778,
              "#fb9f3a"
             ],
             [
              0.8888888888888888,
              "#fdca26"
             ],
             [
              1,
              "#f0f921"
             ]
            ],
            "type": "surface"
           }
          ],
          "table": [
           {
            "cells": {
             "fill": {
              "color": "#EBF0F8"
             },
             "line": {
              "color": "white"
             }
            },
            "header": {
             "fill": {
              "color": "#C8D4E3"
             },
             "line": {
              "color": "white"
             }
            },
            "type": "table"
           }
          ]
         },
         "layout": {
          "annotationdefaults": {
           "arrowcolor": "#2a3f5f",
           "arrowhead": 0,
           "arrowwidth": 1
          },
          "autotypenumbers": "strict",
          "coloraxis": {
           "colorbar": {
            "outlinewidth": 0,
            "ticks": ""
           }
          },
          "colorscale": {
           "diverging": [
            [
             0,
             "#8e0152"
            ],
            [
             0.1,
             "#c51b7d"
            ],
            [
             0.2,
             "#de77ae"
            ],
            [
             0.3,
             "#f1b6da"
            ],
            [
             0.4,
             "#fde0ef"
            ],
            [
             0.5,
             "#f7f7f7"
            ],
            [
             0.6,
             "#e6f5d0"
            ],
            [
             0.7,
             "#b8e186"
            ],
            [
             0.8,
             "#7fbc41"
            ],
            [
             0.9,
             "#4d9221"
            ],
            [
             1,
             "#276419"
            ]
           ],
           "sequential": [
            [
             0,
             "#0d0887"
            ],
            [
             0.1111111111111111,
             "#46039f"
            ],
            [
             0.2222222222222222,
             "#7201a8"
            ],
            [
             0.3333333333333333,
             "#9c179e"
            ],
            [
             0.4444444444444444,
             "#bd3786"
            ],
            [
             0.5555555555555556,
             "#d8576b"
            ],
            [
             0.6666666666666666,
             "#ed7953"
            ],
            [
             0.7777777777777778,
             "#fb9f3a"
            ],
            [
             0.8888888888888888,
             "#fdca26"
            ],
            [
             1,
             "#f0f921"
            ]
           ],
           "sequentialminus": [
            [
             0,
             "#0d0887"
            ],
            [
             0.1111111111111111,
             "#46039f"
            ],
            [
             0.2222222222222222,
             "#7201a8"
            ],
            [
             0.3333333333333333,
             "#9c179e"
            ],
            [
             0.4444444444444444,
             "#bd3786"
            ],
            [
             0.5555555555555556,
             "#d8576b"
            ],
            [
             0.6666666666666666,
             "#ed7953"
            ],
            [
             0.7777777777777778,
             "#fb9f3a"
            ],
            [
             0.8888888888888888,
             "#fdca26"
            ],
            [
             1,
             "#f0f921"
            ]
           ]
          },
          "colorway": [
           "#636efa",
           "#EF553B",
           "#00cc96",
           "#ab63fa",
           "#FFA15A",
           "#19d3f3",
           "#FF6692",
           "#B6E880",
           "#FF97FF",
           "#FECB52"
          ],
          "font": {
           "color": "#2a3f5f"
          },
          "geo": {
           "bgcolor": "white",
           "lakecolor": "white",
           "landcolor": "#E5ECF6",
           "showlakes": true,
           "showland": true,
           "subunitcolor": "white"
          },
          "hoverlabel": {
           "align": "left"
          },
          "hovermode": "closest",
          "mapbox": {
           "style": "light"
          },
          "paper_bgcolor": "white",
          "plot_bgcolor": "#E5ECF6",
          "polar": {
           "angularaxis": {
            "gridcolor": "white",
            "linecolor": "white",
            "ticks": ""
           },
           "bgcolor": "#E5ECF6",
           "radialaxis": {
            "gridcolor": "white",
            "linecolor": "white",
            "ticks": ""
           }
          },
          "scene": {
           "xaxis": {
            "backgroundcolor": "#E5ECF6",
            "gridcolor": "white",
            "gridwidth": 2,
            "linecolor": "white",
            "showbackground": true,
            "ticks": "",
            "zerolinecolor": "white"
           },
           "yaxis": {
            "backgroundcolor": "#E5ECF6",
            "gridcolor": "white",
            "gridwidth": 2,
            "linecolor": "white",
            "showbackground": true,
            "ticks": "",
            "zerolinecolor": "white"
           },
           "zaxis": {
            "backgroundcolor": "#E5ECF6",
            "gridcolor": "white",
            "gridwidth": 2,
            "linecolor": "white",
            "showbackground": true,
            "ticks": "",
            "zerolinecolor": "white"
           }
          },
          "shapedefaults": {
           "line": {
            "color": "#2a3f5f"
           }
          },
          "ternary": {
           "aaxis": {
            "gridcolor": "white",
            "linecolor": "white",
            "ticks": ""
           },
           "baxis": {
            "gridcolor": "white",
            "linecolor": "white",
            "ticks": ""
           },
           "bgcolor": "#E5ECF6",
           "caxis": {
            "gridcolor": "white",
            "linecolor": "white",
            "ticks": ""
           }
          },
          "title": {
           "x": 0.05
          },
          "xaxis": {
           "automargin": true,
           "gridcolor": "white",
           "linecolor": "white",
           "ticks": "",
           "title": {
            "standoff": 15
           },
           "zerolinecolor": "white",
           "zerolinewidth": 2
          },
          "yaxis": {
           "automargin": true,
           "gridcolor": "white",
           "linecolor": "white",
           "ticks": "",
           "title": {
            "standoff": 15
           },
           "zerolinecolor": "white",
           "zerolinewidth": 2
          }
         }
        },
        "title": {
         "text": "Violin plot of max_mpe"
        },
        "violinmode": "group",
        "xaxis": {
         "anchor": "y",
         "domain": [
          0,
          1
         ],
         "title": {
          "text": "PondType"
         }
        },
        "yaxis": {
         "anchor": "x",
         "domain": [
          0,
          1
         ],
         "title": {
          "text": "max_mpe"
         }
        }
       }
      }
     },
     "metadata": {},
     "output_type": "display_data"
    },
    {
     "data": {
      "application/vnd.plotly.v1+json": {
       "config": {
        "plotlyServerURL": "https://plot.ly"
       },
       "data": [
        {
         "alignmentgroup": "True",
         "box": {
          "visible": true
         },
         "customdata": [
          [
           "full body:undistorted_GX010077_14_237.jpg_gamma",
           "Prawn_0"
          ],
          [
           "full body:undistorted_GX010077_14_237.jpg_gamma",
           "Prawn_1"
          ],
          [
           "full body:undistorted_GX010077_14_237.jpg_gamma",
           "Prawn_2"
          ],
          [
           "full body:undistorted_GX010067_33_625.jpg_gamma",
           "Prawn_0"
          ],
          [
           "full body:undistorted_GX010067_33_625.jpg_gamma",
           "Prawn_1"
          ],
          [
           "full body:undistorted_GX010067_33_625.jpg_gamma",
           "Prawn_2"
          ],
          [
           "full body:undistorted_GX010067_33_625.jpg_gamma",
           "Prawn_3"
          ],
          [
           "full body:undistorted_GX010068_26_666.jpg_gamma",
           "Prawn_0"
          ],
          [
           "full body:undistorted_GX010068_26_666.jpg_gamma",
           "Prawn_1"
          ],
          [
           "full body:undistorted_GX010068_26_666.jpg_gamma",
           "Prawn_2"
          ],
          [
           "full body:undistorted_GX010068_27_795.jpg_gamma",
           "Prawn_0"
          ],
          [
           "full body:undistorted_GX010068_27_795.jpg_gamma",
           "Prawn_1"
          ],
          [
           "full body:undistorted_GX010069_19_191.jpg_gamma",
           "Prawn_0"
          ],
          [
           "full body:undistorted_GX010069_19_191.jpg_gamma",
           "Prawn_1"
          ],
          [
           "full body:undistorted_GX010069_19_191.jpg_gamma",
           "Prawn_2"
          ],
          [
           "full body:undistorted_GX010069_19_191.jpg_gamma",
           "Prawn_3"
          ],
          [
           "full body:undistorted_GX010071_22_444.jpg_gamma",
           "Prawn_0"
          ],
          [
           "full body:undistorted_GX010071_22_444.jpg_gamma",
           "Prawn_1"
          ],
          [
           "full body:undistorted_GX010073_42_695.jpg_gamma",
           "Prawn_0"
          ],
          [
           "full body:undistorted_GX010073_42_695.jpg_gamma",
           "Prawn_1"
          ],
          [
           "full body:undistorted_GX010073_42_695.jpg_gamma",
           "Prawn_2"
          ],
          [
           "full body:undistorted_GX010073_55_1014.jpg_gamma",
           "Prawn_0"
          ],
          [
           "full body:undistorted_GX010073_55_1014.jpg_gamma",
           "Prawn_1"
          ],
          [
           "full body:undistorted_GX010073_55_1014.jpg_gamma",
           "Prawn_2"
          ],
          [
           "full body:undistorted_GX010080_157_2283.jpg_gamma",
           "Prawn_0"
          ],
          [
           "full body:undistorted_GX010080_157_2283.jpg_gamma",
           "Prawn_2"
          ],
          [
           "full body:undistorted_GX010080_157_2283.jpg_gamma",
           "Prawn_3"
          ],
          [
           "full body:undistorted_GX010080_193_2640.jpg_gamma",
           "Prawn_0"
          ],
          [
           "full body:undistorted_GX010080_193_2640.jpg_gamma",
           "Prawn_1"
          ],
          [
           "full body:undistorted_GX010080_193_2640.jpg_gamma",
           "Prawn_2"
          ],
          [
           "full body:undistorted_GX010080_193_2640.jpg_gamma",
           "Prawn_3"
          ],
          [
           "full body:undistorted_GX010080_193_2640.jpg_gamma",
           "Prawn_4"
          ],
          [
           "full body:undistorted_GX010080_212_2954.jpg_gamma",
           "Prawn_0"
          ],
          [
           "full body:undistorted_GX010080_212_2954.jpg_gamma",
           "Prawn_1"
          ],
          [
           "full body:undistorted_GX010080_212_2954.jpg_gamma",
           "Prawn_2"
          ],
          [
           "full body:undistorted_GX010080_237_3366.jpg_gamma",
           "Prawn_0"
          ],
          [
           "full body:undistorted_GX010080_237_3366.jpg_gamma",
           "Prawn_1"
          ],
          [
           "full body:undistorted_GX010080_237_3366.jpg_gamma",
           "Prawn_2"
          ],
          [
           "full body:undistorted_GX010080_237_3366.jpg_gamma",
           "Prawn_3"
          ],
          [
           "full body:undistorted_GX010080_237_3366.jpg_gamma",
           "Prawn_4"
          ],
          [
           "full body:undistorted_GX010080_238_3392.jpg_gamma",
           "Prawn_0"
          ],
          [
           "full body:undistorted_GX010080_238_3392.jpg_gamma",
           "Prawn_1"
          ],
          [
           "full body:undistorted_GX010080_238_3392.jpg_gamma",
           "Prawn_2"
          ],
          [
           "full body:undistorted_GX010080_238_3392.jpg_gamma",
           "Prawn_3"
          ],
          [
           "full body:undistorted_GX010082_8_59.jpg_gamma",
           "Prawn_1"
          ],
          [
           "full body:undistorted_GX010082_8_59.jpg_gamma",
           "Prawn_2"
          ],
          [
           "full body:undistorted_GX010082_8_59.jpg_gamma",
           "Prawn_3"
          ],
          [
           "full body:undistorted_GX010082_8_59.jpg_gamma",
           "Prawn_4"
          ],
          [
           "full body:undistorted_GX010082_53_796.jpg_gamma",
           "Prawn_0"
          ],
          [
           "full body:undistorted_GX010082_53_796.jpg_gamma",
           "Prawn_1"
          ],
          [
           "full body:undistorted_GX010082_65_1070.jpg_gamma",
           "Prawn_0"
          ],
          [
           "full body:undistorted_GX010082_65_1070.jpg_gamma",
           "Prawn_1"
          ],
          [
           "full body:undistorted_GX010082_65_1070.jpg_gamma",
           "Prawn_2"
          ],
          [
           "full body:undistorted_GX010082_236_3137.jpg_gamma",
           "Prawn_0"
          ],
          [
           "full body:undistorted_GX010082_236_3137.jpg_gamma",
           "Prawn_1"
          ],
          [
           "full body:undistorted_GX010082_236_3137.jpg_gamma",
           "Prawn_2"
          ],
          [
           "full body:undistorted_GX010084_30_344.jpg_gamma",
           "Prawn_0"
          ],
          [
           "full body:undistorted_GX010084_30_344.jpg_gamma",
           "Prawn_1"
          ],
          [
           "full body:undistorted_GX010084_30_344.jpg_gamma",
           "Prawn_2"
          ],
          [
           "full body:undistorted_GX010084_30_344.jpg_gamma",
           "Prawn_3"
          ],
          [
           "full body:undistorted_GX010084_130_1748.jpg_gamma",
           "Prawn_0"
          ],
          [
           "full body:undistorted_GX010084_130_1748.jpg_gamma",
           "Prawn_1"
          ],
          [
           "full body:undistorted_GX010084_130_1748.jpg_gamma",
           "Prawn_2"
          ],
          [
           "full body:undistorted_GX010085_261_3610.jpg_gamma",
           "Prawn_0"
          ],
          [
           "full body:undistorted_GX010085_261_3610.jpg_gamma",
           "Prawn_1"
          ],
          [
           "full body:undistorted_GX010088_209_2904.jpg_gamma",
           "Prawn_0"
          ],
          [
           "full body:undistorted_GX010088_209_2904.jpg_gamma",
           "Prawn_1"
          ],
          [
           "full body:undistorted_GX010088_262_3712.jpg_gamma",
           "Prawn_0"
          ],
          [
           "full body:undistorted_GX010088_262_3712.jpg_gamma",
           "Prawn_1"
          ],
          [
           "full body:undistorted_GX010088_262_3712.jpg_gamma",
           "Prawn_2"
          ],
          [
           "full body:undistorted_GX010088_327_4364.jpg_gamma",
           "Prawn_0"
          ],
          [
           "full body:undistorted_GX010088_327_4364.jpg_gamma",
           "Prawn_1"
          ],
          [
           "full body:undistorted_GX010088_327_4364.jpg_gamma",
           "Prawn_2"
          ],
          [
           "full body:undistorted_GX010088_327_4364.jpg_gamma",
           "Prawn_3"
          ],
          [
           "full body:undistorted_GX010089_11_236.jpg_gamma",
           "Prawn_0"
          ],
          [
           "full body:undistorted_GX010089_11_236.jpg_gamma",
           "Prawn_1"
          ],
          [
           "full body:undistorted_GX010089_11_236.jpg_gamma",
           "Prawn_2"
          ],
          [
           "full body:undistorted_GX010089_11_236.jpg_gamma",
           "Prawn_3"
          ],
          [
           "full body:undistorted_GX010090_132_1852.jpg_gamma",
           "Prawn_0"
          ],
          [
           "full body:undistorted_GX010091_5_149.jpg_gamma",
           "Prawn_0"
          ],
          [
           "full body:undistorted_GX010091_5_149.jpg_gamma",
           "Prawn_1"
          ],
          [
           "full body:undistorted_GX010091_5_149.jpg_gamma",
           "Prawn_2"
          ],
          [
           "full body:undistorted_GX010094_9_129.jpg_gamma",
           "Prawn_0"
          ],
          [
           "full body:undistorted_GX010094_9_129.jpg_gamma",
           "Prawn_1"
          ],
          [
           "full body:undistorted_GX010094_24_430.jpg_gamma",
           "Prawn_0"
          ],
          [
           "full body:undistorted_GX010094_93_1258.jpg_gamma",
           "Prawn_0"
          ],
          [
           "full body:undistorted_GX010094_163_2312.jpg_gamma",
           "Prawn_0"
          ],
          [
           "full body:undistorted_GX010097_32_528.jpg_gamma",
           "Prawn_0"
          ],
          [
           "full body:undistorted_GX010097_32_528.jpg_gamma",
           "Prawn_1"
          ],
          [
           "full body:undistorted_GX010097_60_1080.jpg_gamma",
           "Prawn_0"
          ],
          [
           "full body:undistorted_GX010097_60_1080.jpg_gamma",
           "Prawn_1"
          ],
          [
           "full body:undistorted_GX010097_60_1080.jpg_gamma",
           "Prawn_2"
          ],
          [
           "full body:undistorted_GX010097_60_1080.jpg_gamma",
           "Prawn_3"
          ],
          [
           "full body:undistorted_GX010097_105_1651.jpg_gamma",
           "Prawn_0"
          ],
          [
           "full body:undistorted_GX010097_105_1651.jpg_gamma",
           "Prawn_1"
          ],
          [
           "full body:undistorted_GX010097_105_1651.jpg_gamma",
           "Prawn_2"
          ],
          [
           "full body:undistorted_GX010097_105_1651.jpg_gamma",
           "Prawn_3"
          ],
          [
           "full body:undistorted_GX010097_124_1870.jpg_gamma",
           "Prawn_0"
          ],
          [
           "full body:undistorted_GX010097_124_1870.jpg_gamma",
           "Prawn_1"
          ],
          [
           "full body:undistorted_GX010101_12_173.jpg_gamma",
           "Prawn_0"
          ],
          [
           "full body:undistorted_GX010102_9_165.jpg_gamma",
           "Prawn_1"
          ],
          [
           "full body:undistorted_GX010102_9_165.jpg_gamma",
           "Prawn_2"
          ],
          [
           "full body:undistorted_GX010102_9_165.jpg_gamma",
           "Prawn_3"
          ],
          [
           "full body:undistorted_GX010102_9_165.jpg_gamma",
           "Prawn_4"
          ],
          [
           "full body:undistorted_GX010102_9_165.jpg_gamma",
           "Prawn_5"
          ],
          [
           "full body:undistorted_GX010102_50_1396.jpg_gamma",
           "Prawn_0"
          ],
          [
           "full body:undistorted_GX010105_28_816.jpg_gamma",
           "Prawn_0"
          ],
          [
           "full body:undistorted_GX010105_28_816.jpg_gamma",
           "Prawn_1"
          ],
          [
           "full body:undistorted_GX010152_36_378.jpg_gamma",
           "Prawn_0"
          ],
          [
           "full body:undistorted_GX010152_36_378.jpg_gamma",
           "Prawn_1"
          ],
          [
           "full body:undistorted_GX010157_160_2259",
           "Prawn_0"
          ],
          [
           "full body:undistorted_GX010157_174_2582.jpg_gamma",
           "Prawn_0"
          ],
          [
           "full body:undistorted_GX010157_177_2665.jpg_gamma",
           "Prawn_0"
          ],
          [
           "full body:undistorted_GX010161_54_676.jpg_gamma.jpg_gamma",
           "Prawn_0"
          ],
          [
           "full body:undistorted_GX010162_72_927.jpg_gamma.jpg_gamma",
           "Prawn_0"
          ],
          [
           "full body:undistorted_GX010174_62_790.jpg_gamma",
           "Prawn_0"
          ],
          [
           "full body:undistorted_GX010175_266_3372.jpg_gamma.jpg_gamma",
           "Prawn_0"
          ],
          [
           "full body:undistorted_GX010177_232_3047",
           "Prawn_0"
          ],
          [
           "full body:undistorted_GX010178_172_3604.jpg_gamma",
           "Prawn_0"
          ],
          [
           "full body:undistorted_GX010183_37_685.jpg_gamma",
           "Prawn_0"
          ],
          [
           "full body:undistorted_GX010183_80_1633.jpg_gamma",
           "Prawn_0"
          ],
          [
           "full body:undistorted_GX010183_128_2852.jpg_gamma",
           "Prawn_0"
          ]
         ],
         "hovertemplate": "PondType=%{x}<br>max_mae=%{y}<br>Label=%{customdata[0]}<br>PrawnID=%{customdata[1]}<extra></extra>",
         "legendgroup": "",
         "marker": {
          "color": "#636efa"
         },
         "name": "",
         "offsetgroup": "",
         "orientation": "v",
         "points": "all",
         "scalegroup": "True",
         "showlegend": false,
         "type": "violin",
         "x": [
          "circular-big",
          "circular-big",
          "circular-big",
          "circular-big",
          "circular-big",
          "circular-big",
          "circular-big",
          "circular-big",
          "circular-big",
          "circular-big",
          "circular-big",
          "circular-big",
          "circular-big",
          "circular-big",
          "circular-big",
          "circular-big",
          "circular-big",
          "circular-big",
          "circular-big",
          "circular-big",
          "circular-big",
          "circular-big",
          "circular-big",
          "circular-big",
          "circular-big",
          "circular-big",
          "circular-big",
          "circular-big",
          "circular-big",
          "circular-big",
          "circular-big",
          "circular-big",
          "circular-big",
          "circular-big",
          "circular-big",
          "circular-big",
          "circular-big",
          "circular-big",
          "circular-big",
          "circular-big",
          "circular-big",
          "circular-big",
          "circular-big",
          "circular-big",
          "circular-big",
          "circular-big",
          "circular-big",
          "circular-big",
          "circular-big",
          "circular-big",
          "circular-big",
          "circular-big",
          "circular-big",
          "circular-big",
          "circular-big",
          "circular-big",
          "circular-big",
          "circular-big",
          "circular-big",
          "circular-big",
          "circular-big",
          "circular-big",
          "circular-big",
          "circular-big",
          "circular-big",
          "circular-big",
          "circular-big",
          "circular-big",
          "circular-big",
          "circular-big",
          "circular-big",
          "circular-big",
          "circular-big",
          "circular-big",
          "circular-small",
          "circular-small",
          "circular-small",
          "circular-small",
          "circular-big",
          "circular-small",
          "circular-small",
          "circular-small",
          "circular-big",
          "circular-big",
          "circular-big",
          "circular-big",
          "circular-big",
          "circular-big",
          "circular-big",
          "circular-big",
          "circular-big",
          "circular-big",
          "circular-big",
          "circular-big",
          "circular-big",
          "circular-big",
          "circular-big",
          "circular-big",
          "circular-big",
          "circular-big",
          "circular-small",
          "circular-small",
          "circular-small",
          "circular-small",
          "circular-small",
          "circular-small",
          "circular-small",
          "circular-small",
          "square-female",
          "square-female",
          "square-female",
          "square-female",
          "square-female",
          "square-female",
          "square-female",
          "square-female",
          "square-female",
          "square-female",
          "square-female",
          "square-female",
          "square-female",
          "square-female"
         ],
         "x0": " ",
         "xaxis": "x",
         "y": [
          11.29045160742092,
          25.78305621878702,
          22.35964454786297,
          29.48640685296806,
          9.085206411392946,
          23.30682267550483,
          24.26444776382169,
          28.13396300169465,
          30.59505110771727,
          16.74739062831262,
          19.32494883393704,
          2.619868567335828,
          8.620123695858965,
          18.32367542665099,
          26.19124293855288,
          18.18485380669993,
          34.33599319663824,
          17.0451866421148,
          23.14955914689276,
          17.60394478459459,
          25.36301869332354,
          12.10356187554252,
          13.810248168472,
          23.25575747698053,
          37.29374405621471,
          36.95723414603046,
          29.84800841073204,
          28.00786934318435,
          21.52996131696877,
          30.1814114250483,
          20.05252100733151,
          35.17661874600228,
          28.78204740082815,
          18.21373374181663,
          8.587768635394866,
          19.54630867164906,
          31.70889353278463,
          23.90204186488076,
          21.51433548834757,
          16.45634015319976,
          30.20141506886623,
          26.84596216254471,
          18.23305568651587,
          31.92845529005638,
          13.23195254097377,
          18.14056213324055,
          31.2604105221432,
          28.3673800984029,
          16.72040005038433,
          14.16717863484723,
          33.45265251434078,
          38.49332167606207,
          24.25731526812157,
          25.73529362354461,
          42.10991093539876,
          12.09594307421528,
          24.77833398637054,
          27.70809000009157,
          23.05421159117031,
          33.08318311818537,
          44.92740716740732,
          14.76233843516071,
          49.78068489050129,
          26.98021176767242,
          16.37837217645038,
          22.8310185038287,
          34.54596680978096,
          15.59545370959349,
          9.96864618441063,
          9.677604159000566,
          13.09601685218165,
          14.24273005792763,
          22.98264076937946,
          12.64033290672225,
          31.83775711162612,
          30.14313097593246,
          27.1356999894233,
          9.312125396106929,
          39.75425961676365,
          33.27246068911302,
          38.63910242154834,
          42.15006516432775,
          35.10711001051625,
          34.25838293258064,
          17.74935580790574,
          20.12715481823693,
          33.07098675165017,
          30.58520782091001,
          69.81948642613655,
          24.21212791819919,
          19.11857252013507,
          40.81654396560715,
          20.18785239164578,
          47.835603998618,
          39.03480044886524,
          42.71574788376941,
          49.07236606989079,
          37.78776340040216,
          30.42206277970772,
          14.000258159699,
          30.29609689598581,
          56.00271209933766,
          41.23871209933767,
          30.36596523765601,
          30.11399538573427,
          30.16895544962726,
          25.00306788390366,
          37.74534583644564,
          17.69169776908778,
          15.93541219237973,
          11.69027693049031,
          11.09549684902812,
          28.46823134958707,
          18.34701283054139,
          9.773771158544506,
          9.319652192411738,
          1.800712863893935,
          23.9255810001323,
          26.88813950226833,
          2.766829961081882,
          18.30533352232561,
          14.45133315703231
         ],
         "y0": " ",
         "yaxis": "y"
        }
       ],
       "layout": {
        "legend": {
         "tracegroupgap": 0
        },
        "template": {
         "data": {
          "bar": [
           {
            "error_x": {
             "color": "#2a3f5f"
            },
            "error_y": {
             "color": "#2a3f5f"
            },
            "marker": {
             "line": {
              "color": "#E5ECF6",
              "width": 0.5
             },
             "pattern": {
              "fillmode": "overlay",
              "size": 10,
              "solidity": 0.2
             }
            },
            "type": "bar"
           }
          ],
          "barpolar": [
           {
            "marker": {
             "line": {
              "color": "#E5ECF6",
              "width": 0.5
             },
             "pattern": {
              "fillmode": "overlay",
              "size": 10,
              "solidity": 0.2
             }
            },
            "type": "barpolar"
           }
          ],
          "carpet": [
           {
            "aaxis": {
             "endlinecolor": "#2a3f5f",
             "gridcolor": "white",
             "linecolor": "white",
             "minorgridcolor": "white",
             "startlinecolor": "#2a3f5f"
            },
            "baxis": {
             "endlinecolor": "#2a3f5f",
             "gridcolor": "white",
             "linecolor": "white",
             "minorgridcolor": "white",
             "startlinecolor": "#2a3f5f"
            },
            "type": "carpet"
           }
          ],
          "choropleth": [
           {
            "colorbar": {
             "outlinewidth": 0,
             "ticks": ""
            },
            "type": "choropleth"
           }
          ],
          "contour": [
           {
            "colorbar": {
             "outlinewidth": 0,
             "ticks": ""
            },
            "colorscale": [
             [
              0,
              "#0d0887"
             ],
             [
              0.1111111111111111,
              "#46039f"
             ],
             [
              0.2222222222222222,
              "#7201a8"
             ],
             [
              0.3333333333333333,
              "#9c179e"
             ],
             [
              0.4444444444444444,
              "#bd3786"
             ],
             [
              0.5555555555555556,
              "#d8576b"
             ],
             [
              0.6666666666666666,
              "#ed7953"
             ],
             [
              0.7777777777777778,
              "#fb9f3a"
             ],
             [
              0.8888888888888888,
              "#fdca26"
             ],
             [
              1,
              "#f0f921"
             ]
            ],
            "type": "contour"
           }
          ],
          "contourcarpet": [
           {
            "colorbar": {
             "outlinewidth": 0,
             "ticks": ""
            },
            "type": "contourcarpet"
           }
          ],
          "heatmap": [
           {
            "colorbar": {
             "outlinewidth": 0,
             "ticks": ""
            },
            "colorscale": [
             [
              0,
              "#0d0887"
             ],
             [
              0.1111111111111111,
              "#46039f"
             ],
             [
              0.2222222222222222,
              "#7201a8"
             ],
             [
              0.3333333333333333,
              "#9c179e"
             ],
             [
              0.4444444444444444,
              "#bd3786"
             ],
             [
              0.5555555555555556,
              "#d8576b"
             ],
             [
              0.6666666666666666,
              "#ed7953"
             ],
             [
              0.7777777777777778,
              "#fb9f3a"
             ],
             [
              0.8888888888888888,
              "#fdca26"
             ],
             [
              1,
              "#f0f921"
             ]
            ],
            "type": "heatmap"
           }
          ],
          "heatmapgl": [
           {
            "colorbar": {
             "outlinewidth": 0,
             "ticks": ""
            },
            "colorscale": [
             [
              0,
              "#0d0887"
             ],
             [
              0.1111111111111111,
              "#46039f"
             ],
             [
              0.2222222222222222,
              "#7201a8"
             ],
             [
              0.3333333333333333,
              "#9c179e"
             ],
             [
              0.4444444444444444,
              "#bd3786"
             ],
             [
              0.5555555555555556,
              "#d8576b"
             ],
             [
              0.6666666666666666,
              "#ed7953"
             ],
             [
              0.7777777777777778,
              "#fb9f3a"
             ],
             [
              0.8888888888888888,
              "#fdca26"
             ],
             [
              1,
              "#f0f921"
             ]
            ],
            "type": "heatmapgl"
           }
          ],
          "histogram": [
           {
            "marker": {
             "pattern": {
              "fillmode": "overlay",
              "size": 10,
              "solidity": 0.2
             }
            },
            "type": "histogram"
           }
          ],
          "histogram2d": [
           {
            "colorbar": {
             "outlinewidth": 0,
             "ticks": ""
            },
            "colorscale": [
             [
              0,
              "#0d0887"
             ],
             [
              0.1111111111111111,
              "#46039f"
             ],
             [
              0.2222222222222222,
              "#7201a8"
             ],
             [
              0.3333333333333333,
              "#9c179e"
             ],
             [
              0.4444444444444444,
              "#bd3786"
             ],
             [
              0.5555555555555556,
              "#d8576b"
             ],
             [
              0.6666666666666666,
              "#ed7953"
             ],
             [
              0.7777777777777778,
              "#fb9f3a"
             ],
             [
              0.8888888888888888,
              "#fdca26"
             ],
             [
              1,
              "#f0f921"
             ]
            ],
            "type": "histogram2d"
           }
          ],
          "histogram2dcontour": [
           {
            "colorbar": {
             "outlinewidth": 0,
             "ticks": ""
            },
            "colorscale": [
             [
              0,
              "#0d0887"
             ],
             [
              0.1111111111111111,
              "#46039f"
             ],
             [
              0.2222222222222222,
              "#7201a8"
             ],
             [
              0.3333333333333333,
              "#9c179e"
             ],
             [
              0.4444444444444444,
              "#bd3786"
             ],
             [
              0.5555555555555556,
              "#d8576b"
             ],
             [
              0.6666666666666666,
              "#ed7953"
             ],
             [
              0.7777777777777778,
              "#fb9f3a"
             ],
             [
              0.8888888888888888,
              "#fdca26"
             ],
             [
              1,
              "#f0f921"
             ]
            ],
            "type": "histogram2dcontour"
           }
          ],
          "mesh3d": [
           {
            "colorbar": {
             "outlinewidth": 0,
             "ticks": ""
            },
            "type": "mesh3d"
           }
          ],
          "parcoords": [
           {
            "line": {
             "colorbar": {
              "outlinewidth": 0,
              "ticks": ""
             }
            },
            "type": "parcoords"
           }
          ],
          "pie": [
           {
            "automargin": true,
            "type": "pie"
           }
          ],
          "scatter": [
           {
            "fillpattern": {
             "fillmode": "overlay",
             "size": 10,
             "solidity": 0.2
            },
            "type": "scatter"
           }
          ],
          "scatter3d": [
           {
            "line": {
             "colorbar": {
              "outlinewidth": 0,
              "ticks": ""
             }
            },
            "marker": {
             "colorbar": {
              "outlinewidth": 0,
              "ticks": ""
             }
            },
            "type": "scatter3d"
           }
          ],
          "scattercarpet": [
           {
            "marker": {
             "colorbar": {
              "outlinewidth": 0,
              "ticks": ""
             }
            },
            "type": "scattercarpet"
           }
          ],
          "scattergeo": [
           {
            "marker": {
             "colorbar": {
              "outlinewidth": 0,
              "ticks": ""
             }
            },
            "type": "scattergeo"
           }
          ],
          "scattergl": [
           {
            "marker": {
             "colorbar": {
              "outlinewidth": 0,
              "ticks": ""
             }
            },
            "type": "scattergl"
           }
          ],
          "scattermapbox": [
           {
            "marker": {
             "colorbar": {
              "outlinewidth": 0,
              "ticks": ""
             }
            },
            "type": "scattermapbox"
           }
          ],
          "scatterpolar": [
           {
            "marker": {
             "colorbar": {
              "outlinewidth": 0,
              "ticks": ""
             }
            },
            "type": "scatterpolar"
           }
          ],
          "scatterpolargl": [
           {
            "marker": {
             "colorbar": {
              "outlinewidth": 0,
              "ticks": ""
             }
            },
            "type": "scatterpolargl"
           }
          ],
          "scatterternary": [
           {
            "marker": {
             "colorbar": {
              "outlinewidth": 0,
              "ticks": ""
             }
            },
            "type": "scatterternary"
           }
          ],
          "surface": [
           {
            "colorbar": {
             "outlinewidth": 0,
             "ticks": ""
            },
            "colorscale": [
             [
              0,
              "#0d0887"
             ],
             [
              0.1111111111111111,
              "#46039f"
             ],
             [
              0.2222222222222222,
              "#7201a8"
             ],
             [
              0.3333333333333333,
              "#9c179e"
             ],
             [
              0.4444444444444444,
              "#bd3786"
             ],
             [
              0.5555555555555556,
              "#d8576b"
             ],
             [
              0.6666666666666666,
              "#ed7953"
             ],
             [
              0.7777777777777778,
              "#fb9f3a"
             ],
             [
              0.8888888888888888,
              "#fdca26"
             ],
             [
              1,
              "#f0f921"
             ]
            ],
            "type": "surface"
           }
          ],
          "table": [
           {
            "cells": {
             "fill": {
              "color": "#EBF0F8"
             },
             "line": {
              "color": "white"
             }
            },
            "header": {
             "fill": {
              "color": "#C8D4E3"
             },
             "line": {
              "color": "white"
             }
            },
            "type": "table"
           }
          ]
         },
         "layout": {
          "annotationdefaults": {
           "arrowcolor": "#2a3f5f",
           "arrowhead": 0,
           "arrowwidth": 1
          },
          "autotypenumbers": "strict",
          "coloraxis": {
           "colorbar": {
            "outlinewidth": 0,
            "ticks": ""
           }
          },
          "colorscale": {
           "diverging": [
            [
             0,
             "#8e0152"
            ],
            [
             0.1,
             "#c51b7d"
            ],
            [
             0.2,
             "#de77ae"
            ],
            [
             0.3,
             "#f1b6da"
            ],
            [
             0.4,
             "#fde0ef"
            ],
            [
             0.5,
             "#f7f7f7"
            ],
            [
             0.6,
             "#e6f5d0"
            ],
            [
             0.7,
             "#b8e186"
            ],
            [
             0.8,
             "#7fbc41"
            ],
            [
             0.9,
             "#4d9221"
            ],
            [
             1,
             "#276419"
            ]
           ],
           "sequential": [
            [
             0,
             "#0d0887"
            ],
            [
             0.1111111111111111,
             "#46039f"
            ],
            [
             0.2222222222222222,
             "#7201a8"
            ],
            [
             0.3333333333333333,
             "#9c179e"
            ],
            [
             0.4444444444444444,
             "#bd3786"
            ],
            [
             0.5555555555555556,
             "#d8576b"
            ],
            [
             0.6666666666666666,
             "#ed7953"
            ],
            [
             0.7777777777777778,
             "#fb9f3a"
            ],
            [
             0.8888888888888888,
             "#fdca26"
            ],
            [
             1,
             "#f0f921"
            ]
           ],
           "sequentialminus": [
            [
             0,
             "#0d0887"
            ],
            [
             0.1111111111111111,
             "#46039f"
            ],
            [
             0.2222222222222222,
             "#7201a8"
            ],
            [
             0.3333333333333333,
             "#9c179e"
            ],
            [
             0.4444444444444444,
             "#bd3786"
            ],
            [
             0.5555555555555556,
             "#d8576b"
            ],
            [
             0.6666666666666666,
             "#ed7953"
            ],
            [
             0.7777777777777778,
             "#fb9f3a"
            ],
            [
             0.8888888888888888,
             "#fdca26"
            ],
            [
             1,
             "#f0f921"
            ]
           ]
          },
          "colorway": [
           "#636efa",
           "#EF553B",
           "#00cc96",
           "#ab63fa",
           "#FFA15A",
           "#19d3f3",
           "#FF6692",
           "#B6E880",
           "#FF97FF",
           "#FECB52"
          ],
          "font": {
           "color": "#2a3f5f"
          },
          "geo": {
           "bgcolor": "white",
           "lakecolor": "white",
           "landcolor": "#E5ECF6",
           "showlakes": true,
           "showland": true,
           "subunitcolor": "white"
          },
          "hoverlabel": {
           "align": "left"
          },
          "hovermode": "closest",
          "mapbox": {
           "style": "light"
          },
          "paper_bgcolor": "white",
          "plot_bgcolor": "#E5ECF6",
          "polar": {
           "angularaxis": {
            "gridcolor": "white",
            "linecolor": "white",
            "ticks": ""
           },
           "bgcolor": "#E5ECF6",
           "radialaxis": {
            "gridcolor": "white",
            "linecolor": "white",
            "ticks": ""
           }
          },
          "scene": {
           "xaxis": {
            "backgroundcolor": "#E5ECF6",
            "gridcolor": "white",
            "gridwidth": 2,
            "linecolor": "white",
            "showbackground": true,
            "ticks": "",
            "zerolinecolor": "white"
           },
           "yaxis": {
            "backgroundcolor": "#E5ECF6",
            "gridcolor": "white",
            "gridwidth": 2,
            "linecolor": "white",
            "showbackground": true,
            "ticks": "",
            "zerolinecolor": "white"
           },
           "zaxis": {
            "backgroundcolor": "#E5ECF6",
            "gridcolor": "white",
            "gridwidth": 2,
            "linecolor": "white",
            "showbackground": true,
            "ticks": "",
            "zerolinecolor": "white"
           }
          },
          "shapedefaults": {
           "line": {
            "color": "#2a3f5f"
           }
          },
          "ternary": {
           "aaxis": {
            "gridcolor": "white",
            "linecolor": "white",
            "ticks": ""
           },
           "baxis": {
            "gridcolor": "white",
            "linecolor": "white",
            "ticks": ""
           },
           "bgcolor": "#E5ECF6",
           "caxis": {
            "gridcolor": "white",
            "linecolor": "white",
            "ticks": ""
           }
          },
          "title": {
           "x": 0.05
          },
          "xaxis": {
           "automargin": true,
           "gridcolor": "white",
           "linecolor": "white",
           "ticks": "",
           "title": {
            "standoff": 15
           },
           "zerolinecolor": "white",
           "zerolinewidth": 2
          },
          "yaxis": {
           "automargin": true,
           "gridcolor": "white",
           "linecolor": "white",
           "ticks": "",
           "title": {
            "standoff": 15
           },
           "zerolinecolor": "white",
           "zerolinewidth": 2
          }
         }
        },
        "title": {
         "text": "Violin plot of max_mae"
        },
        "violinmode": "group",
        "xaxis": {
         "anchor": "y",
         "domain": [
          0,
          1
         ],
         "title": {
          "text": "PondType"
         }
        },
        "yaxis": {
         "anchor": "x",
         "domain": [
          0,
          1
         ],
         "title": {
          "text": "max_mae"
         }
        }
       }
      }
     },
     "metadata": {},
     "output_type": "display_data"
    },
    {
     "data": {
      "application/vnd.plotly.v1+json": {
       "config": {
        "plotlyServerURL": "https://plot.ly"
       },
       "data": [
        {
         "customdata": [
          [
           "full body:undistorted_GX010077_14_237.jpg_gamma",
           "Prawn_0"
          ],
          [
           "full body:undistorted_GX010077_14_237.jpg_gamma",
           "Prawn_1"
          ],
          [
           "full body:undistorted_GX010077_14_237.jpg_gamma",
           "Prawn_2"
          ],
          [
           "full body:undistorted_GX010067_33_625.jpg_gamma",
           "Prawn_0"
          ],
          [
           "full body:undistorted_GX010067_33_625.jpg_gamma",
           "Prawn_1"
          ],
          [
           "full body:undistorted_GX010067_33_625.jpg_gamma",
           "Prawn_2"
          ],
          [
           "full body:undistorted_GX010067_33_625.jpg_gamma",
           "Prawn_3"
          ],
          [
           "full body:undistorted_GX010068_26_666.jpg_gamma",
           "Prawn_0"
          ],
          [
           "full body:undistorted_GX010068_26_666.jpg_gamma",
           "Prawn_1"
          ],
          [
           "full body:undistorted_GX010068_26_666.jpg_gamma",
           "Prawn_2"
          ],
          [
           "full body:undistorted_GX010068_27_795.jpg_gamma",
           "Prawn_0"
          ],
          [
           "full body:undistorted_GX010068_27_795.jpg_gamma",
           "Prawn_1"
          ],
          [
           "full body:undistorted_GX010069_19_191.jpg_gamma",
           "Prawn_0"
          ],
          [
           "full body:undistorted_GX010069_19_191.jpg_gamma",
           "Prawn_1"
          ],
          [
           "full body:undistorted_GX010069_19_191.jpg_gamma",
           "Prawn_2"
          ],
          [
           "full body:undistorted_GX010069_19_191.jpg_gamma",
           "Prawn_3"
          ],
          [
           "full body:undistorted_GX010071_22_444.jpg_gamma",
           "Prawn_0"
          ],
          [
           "full body:undistorted_GX010071_22_444.jpg_gamma",
           "Prawn_1"
          ],
          [
           "full body:undistorted_GX010073_42_695.jpg_gamma",
           "Prawn_0"
          ],
          [
           "full body:undistorted_GX010073_42_695.jpg_gamma",
           "Prawn_1"
          ],
          [
           "full body:undistorted_GX010073_42_695.jpg_gamma",
           "Prawn_2"
          ],
          [
           "full body:undistorted_GX010073_55_1014.jpg_gamma",
           "Prawn_0"
          ],
          [
           "full body:undistorted_GX010073_55_1014.jpg_gamma",
           "Prawn_1"
          ],
          [
           "full body:undistorted_GX010073_55_1014.jpg_gamma",
           "Prawn_2"
          ],
          [
           "full body:undistorted_GX010080_157_2283.jpg_gamma",
           "Prawn_0"
          ],
          [
           "full body:undistorted_GX010080_157_2283.jpg_gamma",
           "Prawn_2"
          ],
          [
           "full body:undistorted_GX010080_157_2283.jpg_gamma",
           "Prawn_3"
          ],
          [
           "full body:undistorted_GX010080_193_2640.jpg_gamma",
           "Prawn_0"
          ],
          [
           "full body:undistorted_GX010080_193_2640.jpg_gamma",
           "Prawn_1"
          ],
          [
           "full body:undistorted_GX010080_193_2640.jpg_gamma",
           "Prawn_2"
          ],
          [
           "full body:undistorted_GX010080_193_2640.jpg_gamma",
           "Prawn_3"
          ],
          [
           "full body:undistorted_GX010080_193_2640.jpg_gamma",
           "Prawn_4"
          ],
          [
           "full body:undistorted_GX010080_212_2954.jpg_gamma",
           "Prawn_0"
          ],
          [
           "full body:undistorted_GX010080_212_2954.jpg_gamma",
           "Prawn_1"
          ],
          [
           "full body:undistorted_GX010080_212_2954.jpg_gamma",
           "Prawn_2"
          ],
          [
           "full body:undistorted_GX010080_237_3366.jpg_gamma",
           "Prawn_0"
          ],
          [
           "full body:undistorted_GX010080_237_3366.jpg_gamma",
           "Prawn_1"
          ],
          [
           "full body:undistorted_GX010080_237_3366.jpg_gamma",
           "Prawn_2"
          ],
          [
           "full body:undistorted_GX010080_237_3366.jpg_gamma",
           "Prawn_3"
          ],
          [
           "full body:undistorted_GX010080_237_3366.jpg_gamma",
           "Prawn_4"
          ],
          [
           "full body:undistorted_GX010080_238_3392.jpg_gamma",
           "Prawn_0"
          ],
          [
           "full body:undistorted_GX010080_238_3392.jpg_gamma",
           "Prawn_1"
          ],
          [
           "full body:undistorted_GX010080_238_3392.jpg_gamma",
           "Prawn_2"
          ],
          [
           "full body:undistorted_GX010080_238_3392.jpg_gamma",
           "Prawn_3"
          ],
          [
           "full body:undistorted_GX010082_8_59.jpg_gamma",
           "Prawn_1"
          ],
          [
           "full body:undistorted_GX010082_8_59.jpg_gamma",
           "Prawn_2"
          ],
          [
           "full body:undistorted_GX010082_8_59.jpg_gamma",
           "Prawn_3"
          ],
          [
           "full body:undistorted_GX010082_8_59.jpg_gamma",
           "Prawn_4"
          ],
          [
           "full body:undistorted_GX010082_53_796.jpg_gamma",
           "Prawn_0"
          ],
          [
           "full body:undistorted_GX010082_53_796.jpg_gamma",
           "Prawn_1"
          ],
          [
           "full body:undistorted_GX010082_65_1070.jpg_gamma",
           "Prawn_0"
          ],
          [
           "full body:undistorted_GX010082_65_1070.jpg_gamma",
           "Prawn_1"
          ],
          [
           "full body:undistorted_GX010082_65_1070.jpg_gamma",
           "Prawn_2"
          ],
          [
           "full body:undistorted_GX010082_236_3137.jpg_gamma",
           "Prawn_0"
          ],
          [
           "full body:undistorted_GX010082_236_3137.jpg_gamma",
           "Prawn_1"
          ],
          [
           "full body:undistorted_GX010082_236_3137.jpg_gamma",
           "Prawn_2"
          ],
          [
           "full body:undistorted_GX010084_30_344.jpg_gamma",
           "Prawn_0"
          ],
          [
           "full body:undistorted_GX010084_30_344.jpg_gamma",
           "Prawn_1"
          ],
          [
           "full body:undistorted_GX010084_30_344.jpg_gamma",
           "Prawn_2"
          ],
          [
           "full body:undistorted_GX010084_30_344.jpg_gamma",
           "Prawn_3"
          ],
          [
           "full body:undistorted_GX010084_130_1748.jpg_gamma",
           "Prawn_0"
          ],
          [
           "full body:undistorted_GX010084_130_1748.jpg_gamma",
           "Prawn_1"
          ],
          [
           "full body:undistorted_GX010084_130_1748.jpg_gamma",
           "Prawn_2"
          ],
          [
           "full body:undistorted_GX010085_261_3610.jpg_gamma",
           "Prawn_0"
          ],
          [
           "full body:undistorted_GX010085_261_3610.jpg_gamma",
           "Prawn_1"
          ],
          [
           "full body:undistorted_GX010088_209_2904.jpg_gamma",
           "Prawn_0"
          ],
          [
           "full body:undistorted_GX010088_209_2904.jpg_gamma",
           "Prawn_1"
          ],
          [
           "full body:undistorted_GX010088_262_3712.jpg_gamma",
           "Prawn_0"
          ],
          [
           "full body:undistorted_GX010088_262_3712.jpg_gamma",
           "Prawn_1"
          ],
          [
           "full body:undistorted_GX010088_262_3712.jpg_gamma",
           "Prawn_2"
          ],
          [
           "full body:undistorted_GX010088_327_4364.jpg_gamma",
           "Prawn_0"
          ],
          [
           "full body:undistorted_GX010088_327_4364.jpg_gamma",
           "Prawn_1"
          ],
          [
           "full body:undistorted_GX010088_327_4364.jpg_gamma",
           "Prawn_2"
          ],
          [
           "full body:undistorted_GX010088_327_4364.jpg_gamma",
           "Prawn_3"
          ],
          [
           "full body:undistorted_GX010089_11_236.jpg_gamma",
           "Prawn_0"
          ],
          [
           "full body:undistorted_GX010089_11_236.jpg_gamma",
           "Prawn_1"
          ],
          [
           "full body:undistorted_GX010089_11_236.jpg_gamma",
           "Prawn_2"
          ],
          [
           "full body:undistorted_GX010089_11_236.jpg_gamma",
           "Prawn_3"
          ],
          [
           "full body:undistorted_GX010090_132_1852.jpg_gamma",
           "Prawn_0"
          ],
          [
           "full body:undistorted_GX010091_5_149.jpg_gamma",
           "Prawn_0"
          ],
          [
           "full body:undistorted_GX010091_5_149.jpg_gamma",
           "Prawn_1"
          ],
          [
           "full body:undistorted_GX010091_5_149.jpg_gamma",
           "Prawn_2"
          ],
          [
           "full body:undistorted_GX010094_9_129.jpg_gamma",
           "Prawn_0"
          ],
          [
           "full body:undistorted_GX010094_9_129.jpg_gamma",
           "Prawn_1"
          ],
          [
           "full body:undistorted_GX010094_24_430.jpg_gamma",
           "Prawn_0"
          ],
          [
           "full body:undistorted_GX010094_93_1258.jpg_gamma",
           "Prawn_0"
          ],
          [
           "full body:undistorted_GX010094_163_2312.jpg_gamma",
           "Prawn_0"
          ],
          [
           "full body:undistorted_GX010097_32_528.jpg_gamma",
           "Prawn_0"
          ],
          [
           "full body:undistorted_GX010097_32_528.jpg_gamma",
           "Prawn_1"
          ],
          [
           "full body:undistorted_GX010097_60_1080.jpg_gamma",
           "Prawn_0"
          ],
          [
           "full body:undistorted_GX010097_60_1080.jpg_gamma",
           "Prawn_1"
          ],
          [
           "full body:undistorted_GX010097_60_1080.jpg_gamma",
           "Prawn_2"
          ],
          [
           "full body:undistorted_GX010097_60_1080.jpg_gamma",
           "Prawn_3"
          ],
          [
           "full body:undistorted_GX010097_105_1651.jpg_gamma",
           "Prawn_0"
          ],
          [
           "full body:undistorted_GX010097_105_1651.jpg_gamma",
           "Prawn_1"
          ],
          [
           "full body:undistorted_GX010097_105_1651.jpg_gamma",
           "Prawn_2"
          ],
          [
           "full body:undistorted_GX010097_105_1651.jpg_gamma",
           "Prawn_3"
          ],
          [
           "full body:undistorted_GX010097_124_1870.jpg_gamma",
           "Prawn_0"
          ],
          [
           "full body:undistorted_GX010097_124_1870.jpg_gamma",
           "Prawn_1"
          ],
          [
           "full body:undistorted_GX010101_12_173.jpg_gamma",
           "Prawn_0"
          ],
          [
           "full body:undistorted_GX010102_9_165.jpg_gamma",
           "Prawn_1"
          ],
          [
           "full body:undistorted_GX010102_9_165.jpg_gamma",
           "Prawn_2"
          ],
          [
           "full body:undistorted_GX010102_9_165.jpg_gamma",
           "Prawn_3"
          ],
          [
           "full body:undistorted_GX010102_9_165.jpg_gamma",
           "Prawn_4"
          ],
          [
           "full body:undistorted_GX010102_9_165.jpg_gamma",
           "Prawn_5"
          ],
          [
           "full body:undistorted_GX010102_50_1396.jpg_gamma",
           "Prawn_0"
          ],
          [
           "full body:undistorted_GX010105_28_816.jpg_gamma",
           "Prawn_0"
          ],
          [
           "full body:undistorted_GX010105_28_816.jpg_gamma",
           "Prawn_1"
          ],
          [
           "full body:undistorted_GX010152_36_378.jpg_gamma",
           "Prawn_0"
          ],
          [
           "full body:undistorted_GX010152_36_378.jpg_gamma",
           "Prawn_1"
          ],
          [
           "full body:undistorted_GX010157_160_2259",
           "Prawn_0"
          ],
          [
           "full body:undistorted_GX010157_174_2582.jpg_gamma",
           "Prawn_0"
          ],
          [
           "full body:undistorted_GX010157_177_2665.jpg_gamma",
           "Prawn_0"
          ],
          [
           "full body:undistorted_GX010161_54_676.jpg_gamma.jpg_gamma",
           "Prawn_0"
          ],
          [
           "full body:undistorted_GX010162_72_927.jpg_gamma.jpg_gamma",
           "Prawn_0"
          ],
          [
           "full body:undistorted_GX010174_62_790.jpg_gamma",
           "Prawn_0"
          ],
          [
           "full body:undistorted_GX010175_266_3372.jpg_gamma.jpg_gamma",
           "Prawn_0"
          ],
          [
           "full body:undistorted_GX010177_232_3047",
           "Prawn_0"
          ],
          [
           "full body:undistorted_GX010178_172_3604.jpg_gamma",
           "Prawn_0"
          ],
          [
           "full body:undistorted_GX010183_37_685.jpg_gamma",
           "Prawn_0"
          ],
          [
           "full body:undistorted_GX010183_80_1633.jpg_gamma",
           "Prawn_0"
          ],
          [
           "full body:undistorted_GX010183_128_2852.jpg_gamma",
           "Prawn_0"
          ]
         ],
         "hovertemplate": "Height_mm=%{x}<br>min_mpe=%{y}<br>Label=%{customdata[0]}<br>PrawnID=%{customdata[1]}<extra></extra>",
         "legendgroup": "",
         "marker": {
          "color": "#636efa",
          "symbol": "circle"
         },
         "mode": "markers",
         "name": "",
         "orientation": "v",
         "showlegend": false,
         "type": "scatter",
         "x": [
          650,
          650,
          650,
          650,
          650,
          650,
          650,
          650,
          650,
          650,
          650,
          650,
          650,
          650,
          650,
          650,
          650,
          650,
          650,
          650,
          650,
          650,
          650,
          650,
          650,
          650,
          650,
          650,
          650,
          650,
          650,
          650,
          650,
          650,
          650,
          650,
          650,
          650,
          650,
          650,
          650,
          650,
          650,
          650,
          650,
          650,
          650,
          650,
          650,
          650,
          650,
          650,
          650,
          650,
          650,
          650,
          650,
          650,
          650,
          650,
          650,
          650,
          650,
          650,
          650,
          650,
          650,
          650,
          650,
          650,
          650,
          650,
          650,
          650,
          700,
          700,
          700,
          700,
          650,
          700,
          700,
          700,
          650,
          650,
          650,
          650,
          650,
          650,
          650,
          650,
          650,
          650,
          650,
          650,
          650,
          650,
          650,
          650,
          650,
          650,
          760,
          760,
          760,
          760,
          760,
          760,
          760,
          760,
          415,
          415,
          415,
          415,
          415,
          400,
          400,
          370,
          385,
          385,
          455,
          455,
          455,
          455
         ],
         "xaxis": "x",
         "y": [
          5.945304408505487,
          8.455241844417314,
          1.515158498756725,
          6.791594782267427,
          1.158354732936139,
          2.230836590281231,
          9.10666683576594,
          10.56795825508955,
          13.35001318035945,
          7.103048036814945,
          3.192735655682762,
          1.35674126056174,
          0.8592858266215947,
          15.92971313591953,
          13.91240568192508,
          12.33170727615706,
          8.87300487578375,
          1.066739046747712,
          20.76469988648511,
          4.920383068785219,
          2.262320843955222,
          4.740438899024116,
          6.091419510323511,
          21.43249585045907,
          29.92834528821497,
          29.96089462212668,
          25.22602931968579,
          17.54458431272633,
          12.11788235236907,
          17.59181164990475,
          7.794637029205479,
          20.71931550038067,
          18.40456792720543,
          8.66887908630012,
          2.107080888226245,
          9.616539623397461,
          14.79243064634031,
          14.68808777396873,
          4.785128108775853,
          2.062158347057675,
          10.68392631881961,
          16.42497283197103,
          8.714237925717088,
          11.24828111614709,
          1.693503413135365,
          1.202455148416885,
          2.770219350870582,
          11.27608276791631,
          5.766674587999535,
          1.04689901424448,
          17.99537649030619,
          28.3522675774136,
          14.7964312017854,
          25.76404514273009,
          25.31833639953887,
          0.05802042169670792,
          7.152414619659401,
          5.253905300934747,
          1.562027583937642,
          8.507320081605254,
          3.016172250152385,
          11.49657386206835,
          0.5009595838224843,
          14.71494425780231,
          2.148503726255284,
          10.097833041856,
          3.5495676693248,
          1.753401842794375,
          2.409928211536239,
          2.894888078574604,
          6.489983605123991,
          7.842024317217636,
          5.0462851241997,
          1.331172587777697,
          31.99160144760634,
          23.82610711128963,
          25.20331023526624,
          5.052812026474951,
          8.250497842754143,
          23.12555326069806,
          14.05738437259452,
          95.4678271948721,
          12.02944951205384,
          11.62892730307281,
          9.445447177591484,
          0.1040740596784668,
          11.75924950873195,
          11.56662169678167,
          62.68485297131578,
          16.48241489903097,
          9.312651557604314,
          33.40061955368242,
          2.532593449061535,
          32.86130529952187,
          10.05284442989043,
          26.89497366492718,
          42.42377358681658,
          25.98817181134315,
          13.32810860151705,
          1.88067204235004,
          22.69741793004322,
          95.98272265594827,
          59.53951278726044,
          28.81185618126997,
          24.39562164002855,
          15.39666495802374,
          24.69197886822858,
          23.27606391887926,
          0.9388052742723175,
          4.3764895603878,
          4.705978106553222,
          1.296063456460069,
          0.6056386868811566,
          6.078122484892265,
          5.15765909020042,
          0.8808650933232919,
          0.1974332611938016,
          7.139254068718754,
          0.9213217027069058,
          1.721087643436768,
          2.124052760638611,
          4.025913206838674
         ],
         "yaxis": "y"
        }
       ],
       "layout": {
        "legend": {
         "tracegroupgap": 0
        },
        "margin": {
         "t": 60
        },
        "template": {
         "data": {
          "bar": [
           {
            "error_x": {
             "color": "#2a3f5f"
            },
            "error_y": {
             "color": "#2a3f5f"
            },
            "marker": {
             "line": {
              "color": "#E5ECF6",
              "width": 0.5
             },
             "pattern": {
              "fillmode": "overlay",
              "size": 10,
              "solidity": 0.2
             }
            },
            "type": "bar"
           }
          ],
          "barpolar": [
           {
            "marker": {
             "line": {
              "color": "#E5ECF6",
              "width": 0.5
             },
             "pattern": {
              "fillmode": "overlay",
              "size": 10,
              "solidity": 0.2
             }
            },
            "type": "barpolar"
           }
          ],
          "carpet": [
           {
            "aaxis": {
             "endlinecolor": "#2a3f5f",
             "gridcolor": "white",
             "linecolor": "white",
             "minorgridcolor": "white",
             "startlinecolor": "#2a3f5f"
            },
            "baxis": {
             "endlinecolor": "#2a3f5f",
             "gridcolor": "white",
             "linecolor": "white",
             "minorgridcolor": "white",
             "startlinecolor": "#2a3f5f"
            },
            "type": "carpet"
           }
          ],
          "choropleth": [
           {
            "colorbar": {
             "outlinewidth": 0,
             "ticks": ""
            },
            "type": "choropleth"
           }
          ],
          "contour": [
           {
            "colorbar": {
             "outlinewidth": 0,
             "ticks": ""
            },
            "colorscale": [
             [
              0,
              "#0d0887"
             ],
             [
              0.1111111111111111,
              "#46039f"
             ],
             [
              0.2222222222222222,
              "#7201a8"
             ],
             [
              0.3333333333333333,
              "#9c179e"
             ],
             [
              0.4444444444444444,
              "#bd3786"
             ],
             [
              0.5555555555555556,
              "#d8576b"
             ],
             [
              0.6666666666666666,
              "#ed7953"
             ],
             [
              0.7777777777777778,
              "#fb9f3a"
             ],
             [
              0.8888888888888888,
              "#fdca26"
             ],
             [
              1,
              "#f0f921"
             ]
            ],
            "type": "contour"
           }
          ],
          "contourcarpet": [
           {
            "colorbar": {
             "outlinewidth": 0,
             "ticks": ""
            },
            "type": "contourcarpet"
           }
          ],
          "heatmap": [
           {
            "colorbar": {
             "outlinewidth": 0,
             "ticks": ""
            },
            "colorscale": [
             [
              0,
              "#0d0887"
             ],
             [
              0.1111111111111111,
              "#46039f"
             ],
             [
              0.2222222222222222,
              "#7201a8"
             ],
             [
              0.3333333333333333,
              "#9c179e"
             ],
             [
              0.4444444444444444,
              "#bd3786"
             ],
             [
              0.5555555555555556,
              "#d8576b"
             ],
             [
              0.6666666666666666,
              "#ed7953"
             ],
             [
              0.7777777777777778,
              "#fb9f3a"
             ],
             [
              0.8888888888888888,
              "#fdca26"
             ],
             [
              1,
              "#f0f921"
             ]
            ],
            "type": "heatmap"
           }
          ],
          "heatmapgl": [
           {
            "colorbar": {
             "outlinewidth": 0,
             "ticks": ""
            },
            "colorscale": [
             [
              0,
              "#0d0887"
             ],
             [
              0.1111111111111111,
              "#46039f"
             ],
             [
              0.2222222222222222,
              "#7201a8"
             ],
             [
              0.3333333333333333,
              "#9c179e"
             ],
             [
              0.4444444444444444,
              "#bd3786"
             ],
             [
              0.5555555555555556,
              "#d8576b"
             ],
             [
              0.6666666666666666,
              "#ed7953"
             ],
             [
              0.7777777777777778,
              "#fb9f3a"
             ],
             [
              0.8888888888888888,
              "#fdca26"
             ],
             [
              1,
              "#f0f921"
             ]
            ],
            "type": "heatmapgl"
           }
          ],
          "histogram": [
           {
            "marker": {
             "pattern": {
              "fillmode": "overlay",
              "size": 10,
              "solidity": 0.2
             }
            },
            "type": "histogram"
           }
          ],
          "histogram2d": [
           {
            "colorbar": {
             "outlinewidth": 0,
             "ticks": ""
            },
            "colorscale": [
             [
              0,
              "#0d0887"
             ],
             [
              0.1111111111111111,
              "#46039f"
             ],
             [
              0.2222222222222222,
              "#7201a8"
             ],
             [
              0.3333333333333333,
              "#9c179e"
             ],
             [
              0.4444444444444444,
              "#bd3786"
             ],
             [
              0.5555555555555556,
              "#d8576b"
             ],
             [
              0.6666666666666666,
              "#ed7953"
             ],
             [
              0.7777777777777778,
              "#fb9f3a"
             ],
             [
              0.8888888888888888,
              "#fdca26"
             ],
             [
              1,
              "#f0f921"
             ]
            ],
            "type": "histogram2d"
           }
          ],
          "histogram2dcontour": [
           {
            "colorbar": {
             "outlinewidth": 0,
             "ticks": ""
            },
            "colorscale": [
             [
              0,
              "#0d0887"
             ],
             [
              0.1111111111111111,
              "#46039f"
             ],
             [
              0.2222222222222222,
              "#7201a8"
             ],
             [
              0.3333333333333333,
              "#9c179e"
             ],
             [
              0.4444444444444444,
              "#bd3786"
             ],
             [
              0.5555555555555556,
              "#d8576b"
             ],
             [
              0.6666666666666666,
              "#ed7953"
             ],
             [
              0.7777777777777778,
              "#fb9f3a"
             ],
             [
              0.8888888888888888,
              "#fdca26"
             ],
             [
              1,
              "#f0f921"
             ]
            ],
            "type": "histogram2dcontour"
           }
          ],
          "mesh3d": [
           {
            "colorbar": {
             "outlinewidth": 0,
             "ticks": ""
            },
            "type": "mesh3d"
           }
          ],
          "parcoords": [
           {
            "line": {
             "colorbar": {
              "outlinewidth": 0,
              "ticks": ""
             }
            },
            "type": "parcoords"
           }
          ],
          "pie": [
           {
            "automargin": true,
            "type": "pie"
           }
          ],
          "scatter": [
           {
            "fillpattern": {
             "fillmode": "overlay",
             "size": 10,
             "solidity": 0.2
            },
            "type": "scatter"
           }
          ],
          "scatter3d": [
           {
            "line": {
             "colorbar": {
              "outlinewidth": 0,
              "ticks": ""
             }
            },
            "marker": {
             "colorbar": {
              "outlinewidth": 0,
              "ticks": ""
             }
            },
            "type": "scatter3d"
           }
          ],
          "scattercarpet": [
           {
            "marker": {
             "colorbar": {
              "outlinewidth": 0,
              "ticks": ""
             }
            },
            "type": "scattercarpet"
           }
          ],
          "scattergeo": [
           {
            "marker": {
             "colorbar": {
              "outlinewidth": 0,
              "ticks": ""
             }
            },
            "type": "scattergeo"
           }
          ],
          "scattergl": [
           {
            "marker": {
             "colorbar": {
              "outlinewidth": 0,
              "ticks": ""
             }
            },
            "type": "scattergl"
           }
          ],
          "scattermapbox": [
           {
            "marker": {
             "colorbar": {
              "outlinewidth": 0,
              "ticks": ""
             }
            },
            "type": "scattermapbox"
           }
          ],
          "scatterpolar": [
           {
            "marker": {
             "colorbar": {
              "outlinewidth": 0,
              "ticks": ""
             }
            },
            "type": "scatterpolar"
           }
          ],
          "scatterpolargl": [
           {
            "marker": {
             "colorbar": {
              "outlinewidth": 0,
              "ticks": ""
             }
            },
            "type": "scatterpolargl"
           }
          ],
          "scatterternary": [
           {
            "marker": {
             "colorbar": {
              "outlinewidth": 0,
              "ticks": ""
             }
            },
            "type": "scatterternary"
           }
          ],
          "surface": [
           {
            "colorbar": {
             "outlinewidth": 0,
             "ticks": ""
            },
            "colorscale": [
             [
              0,
              "#0d0887"
             ],
             [
              0.1111111111111111,
              "#46039f"
             ],
             [
              0.2222222222222222,
              "#7201a8"
             ],
             [
              0.3333333333333333,
              "#9c179e"
             ],
             [
              0.4444444444444444,
              "#bd3786"
             ],
             [
              0.5555555555555556,
              "#d8576b"
             ],
             [
              0.6666666666666666,
              "#ed7953"
             ],
             [
              0.7777777777777778,
              "#fb9f3a"
             ],
             [
              0.8888888888888888,
              "#fdca26"
             ],
             [
              1,
              "#f0f921"
             ]
            ],
            "type": "surface"
           }
          ],
          "table": [
           {
            "cells": {
             "fill": {
              "color": "#EBF0F8"
             },
             "line": {
              "color": "white"
             }
            },
            "header": {
             "fill": {
              "color": "#C8D4E3"
             },
             "line": {
              "color": "white"
             }
            },
            "type": "table"
           }
          ]
         },
         "layout": {
          "annotationdefaults": {
           "arrowcolor": "#2a3f5f",
           "arrowhead": 0,
           "arrowwidth": 1
          },
          "autotypenumbers": "strict",
          "coloraxis": {
           "colorbar": {
            "outlinewidth": 0,
            "ticks": ""
           }
          },
          "colorscale": {
           "diverging": [
            [
             0,
             "#8e0152"
            ],
            [
             0.1,
             "#c51b7d"
            ],
            [
             0.2,
             "#de77ae"
            ],
            [
             0.3,
             "#f1b6da"
            ],
            [
             0.4,
             "#fde0ef"
            ],
            [
             0.5,
             "#f7f7f7"
            ],
            [
             0.6,
             "#e6f5d0"
            ],
            [
             0.7,
             "#b8e186"
            ],
            [
             0.8,
             "#7fbc41"
            ],
            [
             0.9,
             "#4d9221"
            ],
            [
             1,
             "#276419"
            ]
           ],
           "sequential": [
            [
             0,
             "#0d0887"
            ],
            [
             0.1111111111111111,
             "#46039f"
            ],
            [
             0.2222222222222222,
             "#7201a8"
            ],
            [
             0.3333333333333333,
             "#9c179e"
            ],
            [
             0.4444444444444444,
             "#bd3786"
            ],
            [
             0.5555555555555556,
             "#d8576b"
            ],
            [
             0.6666666666666666,
             "#ed7953"
            ],
            [
             0.7777777777777778,
             "#fb9f3a"
            ],
            [
             0.8888888888888888,
             "#fdca26"
            ],
            [
             1,
             "#f0f921"
            ]
           ],
           "sequentialminus": [
            [
             0,
             "#0d0887"
            ],
            [
             0.1111111111111111,
             "#46039f"
            ],
            [
             0.2222222222222222,
             "#7201a8"
            ],
            [
             0.3333333333333333,
             "#9c179e"
            ],
            [
             0.4444444444444444,
             "#bd3786"
            ],
            [
             0.5555555555555556,
             "#d8576b"
            ],
            [
             0.6666666666666666,
             "#ed7953"
            ],
            [
             0.7777777777777778,
             "#fb9f3a"
            ],
            [
             0.8888888888888888,
             "#fdca26"
            ],
            [
             1,
             "#f0f921"
            ]
           ]
          },
          "colorway": [
           "#636efa",
           "#EF553B",
           "#00cc96",
           "#ab63fa",
           "#FFA15A",
           "#19d3f3",
           "#FF6692",
           "#B6E880",
           "#FF97FF",
           "#FECB52"
          ],
          "font": {
           "color": "#2a3f5f"
          },
          "geo": {
           "bgcolor": "white",
           "lakecolor": "white",
           "landcolor": "#E5ECF6",
           "showlakes": true,
           "showland": true,
           "subunitcolor": "white"
          },
          "hoverlabel": {
           "align": "left"
          },
          "hovermode": "closest",
          "mapbox": {
           "style": "light"
          },
          "paper_bgcolor": "white",
          "plot_bgcolor": "#E5ECF6",
          "polar": {
           "angularaxis": {
            "gridcolor": "white",
            "linecolor": "white",
            "ticks": ""
           },
           "bgcolor": "#E5ECF6",
           "radialaxis": {
            "gridcolor": "white",
            "linecolor": "white",
            "ticks": ""
           }
          },
          "scene": {
           "xaxis": {
            "backgroundcolor": "#E5ECF6",
            "gridcolor": "white",
            "gridwidth": 2,
            "linecolor": "white",
            "showbackground": true,
            "ticks": "",
            "zerolinecolor": "white"
           },
           "yaxis": {
            "backgroundcolor": "#E5ECF6",
            "gridcolor": "white",
            "gridwidth": 2,
            "linecolor": "white",
            "showbackground": true,
            "ticks": "",
            "zerolinecolor": "white"
           },
           "zaxis": {
            "backgroundcolor": "#E5ECF6",
            "gridcolor": "white",
            "gridwidth": 2,
            "linecolor": "white",
            "showbackground": true,
            "ticks": "",
            "zerolinecolor": "white"
           }
          },
          "shapedefaults": {
           "line": {
            "color": "#2a3f5f"
           }
          },
          "ternary": {
           "aaxis": {
            "gridcolor": "white",
            "linecolor": "white",
            "ticks": ""
           },
           "baxis": {
            "gridcolor": "white",
            "linecolor": "white",
            "ticks": ""
           },
           "bgcolor": "#E5ECF6",
           "caxis": {
            "gridcolor": "white",
            "linecolor": "white",
            "ticks": ""
           }
          },
          "title": {
           "x": 0.05
          },
          "xaxis": {
           "automargin": true,
           "gridcolor": "white",
           "linecolor": "white",
           "ticks": "",
           "title": {
            "standoff": 15
           },
           "zerolinecolor": "white",
           "zerolinewidth": 2
          },
          "yaxis": {
           "automargin": true,
           "gridcolor": "white",
           "linecolor": "white",
           "ticks": "",
           "title": {
            "standoff": 15
           },
           "zerolinecolor": "white",
           "zerolinewidth": 2
          }
         }
        },
        "title": {
         "text": "min_mpe vs. Height"
        },
        "xaxis": {
         "anchor": "y",
         "domain": [
          0,
          1
         ],
         "title": {
          "text": "Height_mm"
         }
        },
        "yaxis": {
         "anchor": "x",
         "domain": [
          0,
          1
         ],
         "title": {
          "text": "min_mpe"
         }
        }
       }
      }
     },
     "metadata": {},
     "output_type": "display_data"
    }
   ],
   "source": [
    "import pandas as pd\n",
    "import seaborn as sns\n",
    "import matplotlib.pyplot as plt\n",
    "from scipy.stats import pearsonr, spearmanr, shapiro, levene\n",
    "# import pingouin as pg\n",
    "import statsmodels.api as sm\n",
    "import numpy as np\n",
    "import plotly.express as px\n",
    "\n",
    "# Load your data\n",
    "\n",
    "# Calculate expert averages and standard deviations\n",
    "df['expert_mean'] = df[['Length_1', 'Length_2', 'Length_3']].median(axis=1)\n",
    "df['expert_std'] = df[['Length_1', 'Length_2', 'Length_3']].std(axis=1)\n",
    "\n",
    "df['expert_max'] = df[['Length_1', 'Length_2', 'Length_3']].max(axis=1)\n",
    "df['expert_min'] = df[['Length_1', 'Length_2', 'Length_3']].min(axis=1)\n",
    "\n",
    "#diffrence in pixels between the min and max of Length_1_pixels, Length_2_pixels, Length_3_pixels\n",
    "\n",
    "df['diff_max_min'] =abs(df[['Length_1', 'Length_2', 'Length_3']].max(axis=1) - df[['Length_1', 'Length_2', 'Length_3']].min(axis=1))\n",
    "\n",
    "print(f'mean difference between min max' ,df['diff_max_min'].mean())\n",
    "print(f'std  difference between min max ',df['diff_max_min'].std())\n",
    "\n",
    "\n",
    "#violoin plot of the difference between the min and max of the three measurements\n",
    "fig = px.violin(df,\n",
    "                x='PondType', \n",
    "                y='diff_max_min', \n",
    "                box=True,  # Include box plot\n",
    "                points=\"all\",  # Show all points\n",
    "                hover_data=['Label', 'PrawnID'],  # Include hover data\n",
    "                title=f'Violin plot of diff_max_min',)\n",
    "#Save the plot to png\n",
    "fig.write_image(f'violin carapace diff_max_min.png')\n",
    "fig.show()\n",
    "\n",
    "#how many Length_ground_truth_annotation(mm) in comparison with lengthe_1, length_2, length_3 bigger than 50%\n",
    "\n",
    "# df['difference_mean_annotation_expert'] = abs(df['Length_ground_truth_annotation(mm)'] - df['expert_mean']/df['Length_ground_truth_annotation(mm)']) \n",
    "# df['difference_max_annotation_expert'] = abs(df['Length_ground_truth_annotation(mm)'] - df['expert_max']/df['Length_ground_truth_annotation(mm)'])\n",
    "# df['difference_min_annotation_expert'] = abs(df['Length_ground_truth_annotation(mm)'] - df['expert_min']/df['Length_ground_truth_annotation(mm)'])\n",
    "\n",
    "# df['min difference'] = df[['difference_mean_annotation_expert', 'difference_max_annotation_expert', 'difference_min_annotation_expert']].min(axis=1)\n",
    "# df['max_difference'] = df[['difference_mean_annotation_expert', 'difference_max_annotation_expert', 'difference_min_annotation_expert']].max(axis=1)    \n",
    "\n",
    "\n",
    "# df['difference_max_annotation_expert'] = abs(df['Length_ground_truth_annotation(mm)'] - df['expert_max']/df['Length_ground_truth_annotation(mm)'])\n",
    "\n",
    "# df['difference_min_annotation_expert'] = abs(df['Length_ground_truth_annotation(mm)'] - df['expert_min']/df['Length_ground_truth_annotation(mm)'])\n",
    "#violin difference_annotation_expert\n",
    "# fig = px.violin(df,\n",
    "#                 x='Pond_Type',\n",
    "#                 y='min difference',\n",
    "#                 box=True,  # Include box plot\n",
    "#                 points=\"all\",  # Show all points\n",
    "#                 hover_data=['Label', 'PrawnID'],  # Include hover data\n",
    "#                 title=f'Violin plot of difference_annotation_expert',)\n",
    "# #Save the plot to png\n",
    "# fig.write_image(f'violin carapace difference_annotation_expert.png')\n",
    "# fig.show()\n",
    "\n",
    "\n",
    "\n",
    "\n",
    "# Calculate differences\n",
    "# df['diff_mean'] =abs(df['Length_fov(mm)'] - df['expert_mean'])\n",
    "# df['diff_max'] =abs(df['Length_fov(mm)'] - df['expert_max'])\n",
    "# df['diff_min'] =abs(df['Length_fov(mm)'] - df['expert_min'])\n",
    "\n",
    "# df['the_min_diff'] = df[['diff_mean', 'diff_max', 'diff_min']].min(axis=1)\n",
    "\n",
    "\n",
    "#the length measurement of the the_min_diff\n",
    "# df['the_min_diff_length'] =df['Length_fov(mm)'] - df['the_min_diff']\n",
    "\n",
    "#the length measurement of the the_max_diff\n",
    "#percent error of the the_min_diff\n",
    "\n",
    "\n",
    "# df['org_min_diff'] = [\n",
    "#     df['Length_fov(mm)'].iloc[i] - df['the_min_diff'].iloc[i] \n",
    "#     if df['the_min_diff'].iloc[i] > 0 \n",
    "#     else df['Length_fov(mm)'].iloc[i] + abs(df['the_min_diff'].iloc[i]) \n",
    "#     for i in range(len(df))\n",
    "# ]\n",
    "\n",
    "\n",
    "# df['min difference']=df[['Error_percentage_distance_mm_ground_min', 'Error_percentage_distance_mm_ground_max','Error_percentage_distance_mm_ground_median']].min(axis=1)\n",
    "\n",
    "# Calculate the percentage error\n",
    "# df['the_min_diff_percentage_error'] = (df['the_min_diff'].abs() / df['org_min_diff'].abs()) * 100\n",
    "\n",
    "# # Cap the error at 100%\n",
    "# df['the_min_diff_percentage_error'] = df['the_min_diff_percentage_error'].apply(lambda x: min(x, 100))\n",
    "\n",
    "# the percentage error of the the_min_diff when smaller than 100%\n",
    "# df['the_min_diff_percentage_error'] = df['the_min_diff_percentage_error']\n",
    "df['min_mpe']=df[['Error_percentage_min_box_fov','Error_percentage_max_box_fov','Error_percentage_median_box_fov']].min(axis=1)\n",
    "\n",
    "df['min_mae']=df[['Abs_error_min_box_fov','Abs_error_max_box_fov','Abs_error_median_box_fov']].min(axis=1)\n",
    "\n",
    "df['max_mpe']=df[['Error_percentage_min_box_fov','Error_percentage_max_box_fov','Error_percentage_median_box_fov']].max(axis=1)\n",
    "\n",
    "df['max_mae']=df[['Abs_error_min_box_fov','Abs_error_max_box_fov','Abs_error_median_box_fov']].max(axis=1)    \n",
    "\n",
    "\n",
    "df['min_mpe_pixels']=df[['Error_percentage_min_box_pixels','Error_percentage_max_box_pixels','Error_percentage_median_box_pixels']].min(axis=1)\n",
    "\n",
    "df['min_mae_pixels']=df[['Abs_error_min_box_pixels','Abs_error_max_box_pixels','Abs_error_median_box_pixels']].min(axis=1)\n",
    "\n",
    "df['max_mpe_pixels']=df[['Error_percentage_min_box_pixels','Error_percentage_max_box_pixels','Error_percentage_median_box_pixels']].max(axis=1)\n",
    "\n",
    "df['max_mae_pixels']=df[['Abs_error_min_box_pixels','Abs_error_max_box_pixels','Abs_error_median_box_pixels']].max(axis=1)\n",
    "\n",
    "\n",
    "# Create a violin plot using plotly\n",
    "import plotly.express as px\n",
    "#violin plots wiht plotly for mean percentage error and MAE\n",
    "for error in ['min_mpe', 'min_mae', 'max_mpe', 'max_mae']:\n",
    "        # Create a violin plot using plotly \n",
    "    fig = px.violin(df,\n",
    "                    x='PondType', \n",
    "                    y=error, \n",
    "                    box=True,  # Include box plot\n",
    "                    points=\"all\",  # Show all points\n",
    "                    hover_data=['Label', 'PrawnID'],  # Include hover data\n",
    "                    title=f'Violin plot of {error}',)\n",
    "    #Save the plot to png\n",
    "    fig.write_image(f'violin full {error}_.png')\n",
    "    fig.show()\n",
    "\n",
    "#change name of each pond type if test-car change to square-female if test-right change to circular big male if test-left change to circular small mal\n",
    "\n",
    "\n",
    "\n",
    "\n",
    "# #scatter plot the_min_diff_percentage_error and  difference_annotation_expert plotly\n",
    "# fig = px.scatter(df, x='min_mpe', y='min difference', color='Pond_Type', hover_data=['Label', 'PrawnID'])\n",
    "# #add title\n",
    "# fig.update_layout(title='min_mpe vs. difference_annotation_expert')\n",
    "\n",
    "# #save the plot to png\n",
    "# fig.write_image('the_min_diff_percentage_error vs. difference_annotation_expert.png')\n",
    "# # Add a trendline\n",
    "\n",
    "\n",
    "# fig.show()\n",
    "\n",
    "\n",
    "# #scatter plot the_min_diff_percentage_error and  pose_eval_iou plotly\n",
    "# fig = px.scatter(df, x='min_mpe', y='pose_eval_iou', color='Pond_Type', hover_data=['Label', 'PrawnID'])\n",
    "# #add title\n",
    "# fig.update_layout(title='min_mpe vs. pose_eval_iou')\n",
    "\n",
    "# #save the plot to png\n",
    "# fig.write_image('the_min_diff_percentage_error vs. pose_eval_iou.png')\n",
    "# # Add a trendline\n",
    "# fig.show()\n",
    "\n",
    "#scatter plot between min_mpe and height\n",
    "fig = px.scatter(df, x='Height_mm', y='min_mpe', hover_data=['Label', 'PrawnID'])\n",
    "#add title\n",
    "fig.update_layout(title='min_mpe vs. Height')\n",
    "\n",
    "#save the plot to png\n",
    "fig.write_image('full body_ min_mpe vs. Height.png')\n",
    "# Add a trendline\n",
    "fig.show()\n",
    "\n",
    "\n",
    "\n",
    "\n",
    "# Normality Test\n"
   ]
  },
  {
   "cell_type": "code",
   "execution_count": 48,
   "metadata": {},
   "outputs": [
    {
     "data": {
      "application/vnd.plotly.v1+json": {
       "config": {
        "plotlyServerURL": "https://plot.ly"
       },
       "data": [
        {
         "customdata": [
          [
           "full body:undistorted_GX010077_14_237.jpg_gamma",
           "Prawn_0"
          ],
          [
           "full body:undistorted_GX010077_14_237.jpg_gamma",
           "Prawn_1"
          ],
          [
           "full body:undistorted_GX010077_14_237.jpg_gamma",
           "Prawn_2"
          ],
          [
           "full body:undistorted_GX010067_33_625.jpg_gamma",
           "Prawn_0"
          ],
          [
           "full body:undistorted_GX010067_33_625.jpg_gamma",
           "Prawn_1"
          ],
          [
           "full body:undistorted_GX010067_33_625.jpg_gamma",
           "Prawn_2"
          ],
          [
           "full body:undistorted_GX010067_33_625.jpg_gamma",
           "Prawn_3"
          ],
          [
           "full body:undistorted_GX010068_26_666.jpg_gamma",
           "Prawn_0"
          ],
          [
           "full body:undistorted_GX010068_26_666.jpg_gamma",
           "Prawn_1"
          ],
          [
           "full body:undistorted_GX010068_26_666.jpg_gamma",
           "Prawn_2"
          ],
          [
           "full body:undistorted_GX010068_27_795.jpg_gamma",
           "Prawn_0"
          ],
          [
           "full body:undistorted_GX010068_27_795.jpg_gamma",
           "Prawn_1"
          ],
          [
           "full body:undistorted_GX010069_19_191.jpg_gamma",
           "Prawn_0"
          ],
          [
           "full body:undistorted_GX010069_19_191.jpg_gamma",
           "Prawn_1"
          ],
          [
           "full body:undistorted_GX010069_19_191.jpg_gamma",
           "Prawn_2"
          ],
          [
           "full body:undistorted_GX010069_19_191.jpg_gamma",
           "Prawn_3"
          ],
          [
           "full body:undistorted_GX010071_22_444.jpg_gamma",
           "Prawn_0"
          ],
          [
           "full body:undistorted_GX010071_22_444.jpg_gamma",
           "Prawn_1"
          ],
          [
           "full body:undistorted_GX010073_42_695.jpg_gamma",
           "Prawn_0"
          ],
          [
           "full body:undistorted_GX010073_42_695.jpg_gamma",
           "Prawn_1"
          ],
          [
           "full body:undistorted_GX010073_42_695.jpg_gamma",
           "Prawn_2"
          ],
          [
           "full body:undistorted_GX010073_55_1014.jpg_gamma",
           "Prawn_0"
          ],
          [
           "full body:undistorted_GX010073_55_1014.jpg_gamma",
           "Prawn_1"
          ],
          [
           "full body:undistorted_GX010073_55_1014.jpg_gamma",
           "Prawn_2"
          ],
          [
           "full body:undistorted_GX010080_157_2283.jpg_gamma",
           "Prawn_0"
          ],
          [
           "full body:undistorted_GX010080_157_2283.jpg_gamma",
           "Prawn_2"
          ],
          [
           "full body:undistorted_GX010080_157_2283.jpg_gamma",
           "Prawn_3"
          ],
          [
           "full body:undistorted_GX010080_193_2640.jpg_gamma",
           "Prawn_0"
          ],
          [
           "full body:undistorted_GX010080_193_2640.jpg_gamma",
           "Prawn_1"
          ],
          [
           "full body:undistorted_GX010080_193_2640.jpg_gamma",
           "Prawn_2"
          ],
          [
           "full body:undistorted_GX010080_193_2640.jpg_gamma",
           "Prawn_3"
          ],
          [
           "full body:undistorted_GX010080_193_2640.jpg_gamma",
           "Prawn_4"
          ],
          [
           "full body:undistorted_GX010080_212_2954.jpg_gamma",
           "Prawn_0"
          ],
          [
           "full body:undistorted_GX010080_212_2954.jpg_gamma",
           "Prawn_1"
          ],
          [
           "full body:undistorted_GX010080_212_2954.jpg_gamma",
           "Prawn_2"
          ],
          [
           "full body:undistorted_GX010080_237_3366.jpg_gamma",
           "Prawn_0"
          ],
          [
           "full body:undistorted_GX010080_237_3366.jpg_gamma",
           "Prawn_1"
          ],
          [
           "full body:undistorted_GX010080_237_3366.jpg_gamma",
           "Prawn_2"
          ],
          [
           "full body:undistorted_GX010080_237_3366.jpg_gamma",
           "Prawn_3"
          ],
          [
           "full body:undistorted_GX010080_237_3366.jpg_gamma",
           "Prawn_4"
          ],
          [
           "full body:undistorted_GX010080_238_3392.jpg_gamma",
           "Prawn_0"
          ],
          [
           "full body:undistorted_GX010080_238_3392.jpg_gamma",
           "Prawn_1"
          ],
          [
           "full body:undistorted_GX010080_238_3392.jpg_gamma",
           "Prawn_2"
          ],
          [
           "full body:undistorted_GX010080_238_3392.jpg_gamma",
           "Prawn_3"
          ],
          [
           "full body:undistorted_GX010082_8_59.jpg_gamma",
           "Prawn_1"
          ],
          [
           "full body:undistorted_GX010082_8_59.jpg_gamma",
           "Prawn_2"
          ],
          [
           "full body:undistorted_GX010082_8_59.jpg_gamma",
           "Prawn_3"
          ],
          [
           "full body:undistorted_GX010082_8_59.jpg_gamma",
           "Prawn_4"
          ],
          [
           "full body:undistorted_GX010082_53_796.jpg_gamma",
           "Prawn_0"
          ],
          [
           "full body:undistorted_GX010082_53_796.jpg_gamma",
           "Prawn_1"
          ],
          [
           "full body:undistorted_GX010082_65_1070.jpg_gamma",
           "Prawn_0"
          ],
          [
           "full body:undistorted_GX010082_65_1070.jpg_gamma",
           "Prawn_1"
          ],
          [
           "full body:undistorted_GX010082_65_1070.jpg_gamma",
           "Prawn_2"
          ],
          [
           "full body:undistorted_GX010082_236_3137.jpg_gamma",
           "Prawn_0"
          ],
          [
           "full body:undistorted_GX010082_236_3137.jpg_gamma",
           "Prawn_1"
          ],
          [
           "full body:undistorted_GX010082_236_3137.jpg_gamma",
           "Prawn_2"
          ],
          [
           "full body:undistorted_GX010084_30_344.jpg_gamma",
           "Prawn_0"
          ],
          [
           "full body:undistorted_GX010084_30_344.jpg_gamma",
           "Prawn_1"
          ],
          [
           "full body:undistorted_GX010084_30_344.jpg_gamma",
           "Prawn_2"
          ],
          [
           "full body:undistorted_GX010084_30_344.jpg_gamma",
           "Prawn_3"
          ],
          [
           "full body:undistorted_GX010084_130_1748.jpg_gamma",
           "Prawn_0"
          ],
          [
           "full body:undistorted_GX010084_130_1748.jpg_gamma",
           "Prawn_1"
          ],
          [
           "full body:undistorted_GX010084_130_1748.jpg_gamma",
           "Prawn_2"
          ],
          [
           "full body:undistorted_GX010085_261_3610.jpg_gamma",
           "Prawn_0"
          ],
          [
           "full body:undistorted_GX010085_261_3610.jpg_gamma",
           "Prawn_1"
          ],
          [
           "full body:undistorted_GX010088_209_2904.jpg_gamma",
           "Prawn_0"
          ],
          [
           "full body:undistorted_GX010088_209_2904.jpg_gamma",
           "Prawn_1"
          ],
          [
           "full body:undistorted_GX010088_262_3712.jpg_gamma",
           "Prawn_0"
          ],
          [
           "full body:undistorted_GX010088_262_3712.jpg_gamma",
           "Prawn_1"
          ],
          [
           "full body:undistorted_GX010088_262_3712.jpg_gamma",
           "Prawn_2"
          ],
          [
           "full body:undistorted_GX010088_327_4364.jpg_gamma",
           "Prawn_0"
          ],
          [
           "full body:undistorted_GX010088_327_4364.jpg_gamma",
           "Prawn_1"
          ],
          [
           "full body:undistorted_GX010088_327_4364.jpg_gamma",
           "Prawn_2"
          ],
          [
           "full body:undistorted_GX010088_327_4364.jpg_gamma",
           "Prawn_3"
          ],
          [
           "full body:undistorted_GX010090_132_1852.jpg_gamma",
           "Prawn_0"
          ],
          [
           "full body:undistorted_GX010094_9_129.jpg_gamma",
           "Prawn_0"
          ],
          [
           "full body:undistorted_GX010094_9_129.jpg_gamma",
           "Prawn_1"
          ],
          [
           "full body:undistorted_GX010094_24_430.jpg_gamma",
           "Prawn_0"
          ],
          [
           "full body:undistorted_GX010094_93_1258.jpg_gamma",
           "Prawn_0"
          ],
          [
           "full body:undistorted_GX010094_163_2312.jpg_gamma",
           "Prawn_0"
          ],
          [
           "full body:undistorted_GX010097_32_528.jpg_gamma",
           "Prawn_0"
          ],
          [
           "full body:undistorted_GX010097_32_528.jpg_gamma",
           "Prawn_1"
          ],
          [
           "full body:undistorted_GX010097_60_1080.jpg_gamma",
           "Prawn_0"
          ],
          [
           "full body:undistorted_GX010097_60_1080.jpg_gamma",
           "Prawn_1"
          ],
          [
           "full body:undistorted_GX010097_60_1080.jpg_gamma",
           "Prawn_2"
          ],
          [
           "full body:undistorted_GX010097_60_1080.jpg_gamma",
           "Prawn_3"
          ],
          [
           "full body:undistorted_GX010097_105_1651.jpg_gamma",
           "Prawn_0"
          ],
          [
           "full body:undistorted_GX010097_105_1651.jpg_gamma",
           "Prawn_1"
          ],
          [
           "full body:undistorted_GX010097_105_1651.jpg_gamma",
           "Prawn_2"
          ],
          [
           "full body:undistorted_GX010097_105_1651.jpg_gamma",
           "Prawn_3"
          ],
          [
           "full body:undistorted_GX010097_124_1870.jpg_gamma",
           "Prawn_0"
          ],
          [
           "full body:undistorted_GX010097_124_1870.jpg_gamma",
           "Prawn_1"
          ],
          [
           "full body:undistorted_GX010101_12_173.jpg_gamma",
           "Prawn_0"
          ]
         ],
         "hovertemplate": "PondType=circular-big<br>min_mpe=%{x}<br>min_mpe_pixels=%{y}<br>Label=%{customdata[0]}<br>PrawnID=%{customdata[1]}<extra></extra>",
         "legendgroup": "circular-big",
         "marker": {
          "color": "#636efa",
          "symbol": "circle"
         },
         "mode": "markers",
         "name": "circular-big",
         "orientation": "v",
         "showlegend": true,
         "type": "scatter",
         "x": [
          5.945304408505487,
          8.455241844417314,
          1.515158498756725,
          6.791594782267427,
          1.158354732936139,
          2.230836590281231,
          9.10666683576594,
          10.56795825508955,
          13.35001318035945,
          7.103048036814945,
          3.192735655682762,
          1.35674126056174,
          0.8592858266215947,
          15.92971313591953,
          13.91240568192508,
          12.33170727615706,
          8.87300487578375,
          1.066739046747712,
          20.76469988648511,
          4.920383068785219,
          2.262320843955222,
          4.740438899024116,
          6.091419510323511,
          21.43249585045907,
          29.92834528821497,
          29.96089462212668,
          25.22602931968579,
          17.54458431272633,
          12.11788235236907,
          17.59181164990475,
          7.794637029205479,
          20.71931550038067,
          18.40456792720543,
          8.66887908630012,
          2.107080888226245,
          9.616539623397461,
          14.79243064634031,
          14.68808777396873,
          4.785128108775853,
          2.062158347057675,
          10.68392631881961,
          16.42497283197103,
          8.714237925717088,
          11.24828111614709,
          1.693503413135365,
          1.202455148416885,
          2.770219350870582,
          11.27608276791631,
          5.766674587999535,
          1.04689901424448,
          17.99537649030619,
          28.3522675774136,
          14.7964312017854,
          25.76404514273009,
          25.31833639953887,
          0.05802042169670792,
          7.152414619659401,
          5.253905300934747,
          1.562027583937642,
          8.507320081605254,
          3.016172250152385,
          11.49657386206835,
          0.5009595838224843,
          14.71494425780231,
          2.148503726255284,
          10.097833041856,
          3.5495676693248,
          1.753401842794375,
          2.409928211536239,
          2.894888078574604,
          6.489983605123991,
          7.842024317217636,
          5.0462851241997,
          1.331172587777697,
          8.250497842754143,
          12.02944951205384,
          11.62892730307281,
          9.445447177591484,
          0.1040740596784668,
          11.75924950873195,
          11.56662169678167,
          62.68485297131578,
          16.48241489903097,
          9.312651557604314,
          33.40061955368242,
          2.532593449061535,
          32.86130529952187,
          10.05284442989043,
          26.89497366492718,
          42.42377358681658,
          25.98817181134315,
          13.32810860151705,
          1.88067204235004
         ],
         "xaxis": "x",
         "y": [
          12.48288265259098,
          12.3630661771587,
          2.302461802681407,
          4.79379394979899,
          3.521705701962748,
          1.251262055482046,
          7.866630481496505,
          11.04025075258177,
          12.28857120151366,
          0.1545531295499506,
          8.235896624576142,
          3.547171852639298,
          6.284174550886974,
          3.801917223437909,
          8.352226129756223,
          0.5971332416755989,
          10.02305069597079,
          0.7844976728495804,
          11.49194708512599,
          12.85333385122596,
          4.653426343637084,
          3.012236158362412,
          7.107504089273172,
          14.87174805989194,
          3.561324244674857,
          1.968772394790982,
          1.389502622713374,
          5.422067795518918,
          0.9505098606718224,
          5.749922179159776,
          0.1407688617940605,
          8.510985112337126,
          9.060745592957351,
          1.305168726571253,
          2.408782376796231,
          2.453830894990467,
          8.00469404607008,
          7.532818032363887,
          1.456391358325706,
          0.3046994282399219,
          5.288740631981876,
          5.593405925584536,
          1.436294619478988,
          6.538489483927902,
          10.16313671768953,
          1.390084278318477,
          0.8870808198487604,
          11.18678670958008,
          1.657984470547401,
          7.326262887579349,
          1.513216326205908,
          9.024083270320515,
          0.2586862005125452,
          7.623523140329461,
          6.664456041015512,
          15.31972765575682,
          9.588451210192957,
          9.031368863168762,
          4.432014397362575,
          12.62111954315755,
          9.362183451931713,
          0.112583180508155,
          6.144555528286459,
          3.246799469648991,
          1.827999549946229,
          1.237084092399996,
          1.91439924347847,
          5.441691296207077,
          0.2082489240671335,
          1.572164685970141,
          0.1200408359184761,
          2.343416352884153,
          2.064832996418575,
          1.275640580825451,
          0.03055067835738017,
          5.662884595740488,
          0.02631647500835967,
          5.41696868647234,
          0.2571594134149691,
          5.059193281736894,
          8.356147188314587,
          48.89069106258489,
          10.92897965361014,
          8.050252225843554,
          31.45500790156628,
          0.8353493928836849,
          17.45000311961287,
          2.573222803640357,
          21.00886734776372,
          26.18744212931081,
          6.717019531531681,
          1.865800866675482,
          0.6868403601419241
         ],
         "yaxis": "y"
        },
        {
         "customdata": [
          [
           "full body:undistorted_GX010089_11_236.jpg_gamma",
           "Prawn_0"
          ],
          [
           "full body:undistorted_GX010089_11_236.jpg_gamma",
           "Prawn_1"
          ],
          [
           "full body:undistorted_GX010089_11_236.jpg_gamma",
           "Prawn_2"
          ],
          [
           "full body:undistorted_GX010089_11_236.jpg_gamma",
           "Prawn_3"
          ],
          [
           "full body:undistorted_GX010091_5_149.jpg_gamma",
           "Prawn_0"
          ],
          [
           "full body:undistorted_GX010091_5_149.jpg_gamma",
           "Prawn_1"
          ],
          [
           "full body:undistorted_GX010091_5_149.jpg_gamma",
           "Prawn_2"
          ],
          [
           "full body:undistorted_GX010102_9_165.jpg_gamma",
           "Prawn_1"
          ],
          [
           "full body:undistorted_GX010102_9_165.jpg_gamma",
           "Prawn_2"
          ],
          [
           "full body:undistorted_GX010102_9_165.jpg_gamma",
           "Prawn_3"
          ],
          [
           "full body:undistorted_GX010102_9_165.jpg_gamma",
           "Prawn_4"
          ],
          [
           "full body:undistorted_GX010102_9_165.jpg_gamma",
           "Prawn_5"
          ],
          [
           "full body:undistorted_GX010102_50_1396.jpg_gamma",
           "Prawn_0"
          ],
          [
           "full body:undistorted_GX010105_28_816.jpg_gamma",
           "Prawn_0"
          ],
          [
           "full body:undistorted_GX010105_28_816.jpg_gamma",
           "Prawn_1"
          ]
         ],
         "hovertemplate": "PondType=circular-small<br>min_mpe=%{x}<br>min_mpe_pixels=%{y}<br>Label=%{customdata[0]}<br>PrawnID=%{customdata[1]}<extra></extra>",
         "legendgroup": "circular-small",
         "marker": {
          "color": "#EF553B",
          "symbol": "circle"
         },
         "mode": "markers",
         "name": "circular-small",
         "orientation": "v",
         "showlegend": true,
         "type": "scatter",
         "x": [
          31.99160144760634,
          23.82610711128963,
          25.20331023526624,
          5.052812026474951,
          23.12555326069806,
          14.05738437259452,
          95.4678271948721,
          22.69741793004322,
          95.98272265594827,
          59.53951278726044,
          28.81185618126997,
          24.39562164002855,
          15.39666495802374,
          24.69197886822858,
          23.27606391887926
         ],
         "xaxis": "x",
         "y": [
          16.8845892591151,
          9.529332159596644,
          8.838763778924303,
          17.02971209309064,
          4.367160339630132,
          6.986310261478507,
          72.69225960845698,
          2.414808505349144,
          77.92932837715429,
          42.92530860024891,
          10.07024634967029,
          12.00239743573357,
          0.9241595412110951,
          7.266460807549559,
          5.427020057937867
         ],
         "yaxis": "y"
        },
        {
         "customdata": [
          [
           "full body:undistorted_GX010152_36_378.jpg_gamma",
           "Prawn_0"
          ],
          [
           "full body:undistorted_GX010152_36_378.jpg_gamma",
           "Prawn_1"
          ],
          [
           "full body:undistorted_GX010157_160_2259",
           "Prawn_0"
          ],
          [
           "full body:undistorted_GX010157_174_2582.jpg_gamma",
           "Prawn_0"
          ],
          [
           "full body:undistorted_GX010157_177_2665.jpg_gamma",
           "Prawn_0"
          ],
          [
           "full body:undistorted_GX010161_54_676.jpg_gamma.jpg_gamma",
           "Prawn_0"
          ],
          [
           "full body:undistorted_GX010162_72_927.jpg_gamma.jpg_gamma",
           "Prawn_0"
          ],
          [
           "full body:undistorted_GX010174_62_790.jpg_gamma",
           "Prawn_0"
          ],
          [
           "full body:undistorted_GX010175_266_3372.jpg_gamma.jpg_gamma",
           "Prawn_0"
          ],
          [
           "full body:undistorted_GX010177_232_3047",
           "Prawn_0"
          ],
          [
           "full body:undistorted_GX010178_172_3604.jpg_gamma",
           "Prawn_0"
          ],
          [
           "full body:undistorted_GX010183_37_685.jpg_gamma",
           "Prawn_0"
          ],
          [
           "full body:undistorted_GX010183_80_1633.jpg_gamma",
           "Prawn_0"
          ],
          [
           "full body:undistorted_GX010183_128_2852.jpg_gamma",
           "Prawn_0"
          ]
         ],
         "hovertemplate": "PondType=square-female<br>min_mpe=%{x}<br>min_mpe_pixels=%{y}<br>Label=%{customdata[0]}<br>PrawnID=%{customdata[1]}<extra></extra>",
         "legendgroup": "square-female",
         "marker": {
          "color": "#00cc96",
          "symbol": "circle"
         },
         "mode": "markers",
         "name": "square-female",
         "orientation": "v",
         "showlegend": true,
         "type": "scatter",
         "x": [
          0.9388052742723175,
          4.3764895603878,
          4.705978106553222,
          1.296063456460069,
          0.6056386868811566,
          6.078122484892265,
          5.15765909020042,
          0.8808650933232919,
          0.1974332611938016,
          7.139254068718754,
          0.9213217027069058,
          1.721087643436768,
          2.124052760638611,
          4.025913206838674
         ],
         "xaxis": "x",
         "y": [
          7.09343797410378,
          15.24698283582091,
          1.793462869398667,
          1.932398625958991,
          10.9788339630597,
          3.74007539892663,
          0.6916285701722816,
          4.240745578987989,
          2.383726377917921,
          7.470823802020372,
          0.7451242053531523,
          2.348908172385136,
          2.758561866710078,
          0.2111397158470358
         ],
         "yaxis": "y"
        }
       ],
       "layout": {
        "legend": {
         "title": {
          "text": "PondType"
         },
         "tracegroupgap": 0
        },
        "margin": {
         "t": 60
        },
        "template": {
         "data": {
          "bar": [
           {
            "error_x": {
             "color": "#2a3f5f"
            },
            "error_y": {
             "color": "#2a3f5f"
            },
            "marker": {
             "line": {
              "color": "#E5ECF6",
              "width": 0.5
             },
             "pattern": {
              "fillmode": "overlay",
              "size": 10,
              "solidity": 0.2
             }
            },
            "type": "bar"
           }
          ],
          "barpolar": [
           {
            "marker": {
             "line": {
              "color": "#E5ECF6",
              "width": 0.5
             },
             "pattern": {
              "fillmode": "overlay",
              "size": 10,
              "solidity": 0.2
             }
            },
            "type": "barpolar"
           }
          ],
          "carpet": [
           {
            "aaxis": {
             "endlinecolor": "#2a3f5f",
             "gridcolor": "white",
             "linecolor": "white",
             "minorgridcolor": "white",
             "startlinecolor": "#2a3f5f"
            },
            "baxis": {
             "endlinecolor": "#2a3f5f",
             "gridcolor": "white",
             "linecolor": "white",
             "minorgridcolor": "white",
             "startlinecolor": "#2a3f5f"
            },
            "type": "carpet"
           }
          ],
          "choropleth": [
           {
            "colorbar": {
             "outlinewidth": 0,
             "ticks": ""
            },
            "type": "choropleth"
           }
          ],
          "contour": [
           {
            "colorbar": {
             "outlinewidth": 0,
             "ticks": ""
            },
            "colorscale": [
             [
              0,
              "#0d0887"
             ],
             [
              0.1111111111111111,
              "#46039f"
             ],
             [
              0.2222222222222222,
              "#7201a8"
             ],
             [
              0.3333333333333333,
              "#9c179e"
             ],
             [
              0.4444444444444444,
              "#bd3786"
             ],
             [
              0.5555555555555556,
              "#d8576b"
             ],
             [
              0.6666666666666666,
              "#ed7953"
             ],
             [
              0.7777777777777778,
              "#fb9f3a"
             ],
             [
              0.8888888888888888,
              "#fdca26"
             ],
             [
              1,
              "#f0f921"
             ]
            ],
            "type": "contour"
           }
          ],
          "contourcarpet": [
           {
            "colorbar": {
             "outlinewidth": 0,
             "ticks": ""
            },
            "type": "contourcarpet"
           }
          ],
          "heatmap": [
           {
            "colorbar": {
             "outlinewidth": 0,
             "ticks": ""
            },
            "colorscale": [
             [
              0,
              "#0d0887"
             ],
             [
              0.1111111111111111,
              "#46039f"
             ],
             [
              0.2222222222222222,
              "#7201a8"
             ],
             [
              0.3333333333333333,
              "#9c179e"
             ],
             [
              0.4444444444444444,
              "#bd3786"
             ],
             [
              0.5555555555555556,
              "#d8576b"
             ],
             [
              0.6666666666666666,
              "#ed7953"
             ],
             [
              0.7777777777777778,
              "#fb9f3a"
             ],
             [
              0.8888888888888888,
              "#fdca26"
             ],
             [
              1,
              "#f0f921"
             ]
            ],
            "type": "heatmap"
           }
          ],
          "heatmapgl": [
           {
            "colorbar": {
             "outlinewidth": 0,
             "ticks": ""
            },
            "colorscale": [
             [
              0,
              "#0d0887"
             ],
             [
              0.1111111111111111,
              "#46039f"
             ],
             [
              0.2222222222222222,
              "#7201a8"
             ],
             [
              0.3333333333333333,
              "#9c179e"
             ],
             [
              0.4444444444444444,
              "#bd3786"
             ],
             [
              0.5555555555555556,
              "#d8576b"
             ],
             [
              0.6666666666666666,
              "#ed7953"
             ],
             [
              0.7777777777777778,
              "#fb9f3a"
             ],
             [
              0.8888888888888888,
              "#fdca26"
             ],
             [
              1,
              "#f0f921"
             ]
            ],
            "type": "heatmapgl"
           }
          ],
          "histogram": [
           {
            "marker": {
             "pattern": {
              "fillmode": "overlay",
              "size": 10,
              "solidity": 0.2
             }
            },
            "type": "histogram"
           }
          ],
          "histogram2d": [
           {
            "colorbar": {
             "outlinewidth": 0,
             "ticks": ""
            },
            "colorscale": [
             [
              0,
              "#0d0887"
             ],
             [
              0.1111111111111111,
              "#46039f"
             ],
             [
              0.2222222222222222,
              "#7201a8"
             ],
             [
              0.3333333333333333,
              "#9c179e"
             ],
             [
              0.4444444444444444,
              "#bd3786"
             ],
             [
              0.5555555555555556,
              "#d8576b"
             ],
             [
              0.6666666666666666,
              "#ed7953"
             ],
             [
              0.7777777777777778,
              "#fb9f3a"
             ],
             [
              0.8888888888888888,
              "#fdca26"
             ],
             [
              1,
              "#f0f921"
             ]
            ],
            "type": "histogram2d"
           }
          ],
          "histogram2dcontour": [
           {
            "colorbar": {
             "outlinewidth": 0,
             "ticks": ""
            },
            "colorscale": [
             [
              0,
              "#0d0887"
             ],
             [
              0.1111111111111111,
              "#46039f"
             ],
             [
              0.2222222222222222,
              "#7201a8"
             ],
             [
              0.3333333333333333,
              "#9c179e"
             ],
             [
              0.4444444444444444,
              "#bd3786"
             ],
             [
              0.5555555555555556,
              "#d8576b"
             ],
             [
              0.6666666666666666,
              "#ed7953"
             ],
             [
              0.7777777777777778,
              "#fb9f3a"
             ],
             [
              0.8888888888888888,
              "#fdca26"
             ],
             [
              1,
              "#f0f921"
             ]
            ],
            "type": "histogram2dcontour"
           }
          ],
          "mesh3d": [
           {
            "colorbar": {
             "outlinewidth": 0,
             "ticks": ""
            },
            "type": "mesh3d"
           }
          ],
          "parcoords": [
           {
            "line": {
             "colorbar": {
              "outlinewidth": 0,
              "ticks": ""
             }
            },
            "type": "parcoords"
           }
          ],
          "pie": [
           {
            "automargin": true,
            "type": "pie"
           }
          ],
          "scatter": [
           {
            "fillpattern": {
             "fillmode": "overlay",
             "size": 10,
             "solidity": 0.2
            },
            "type": "scatter"
           }
          ],
          "scatter3d": [
           {
            "line": {
             "colorbar": {
              "outlinewidth": 0,
              "ticks": ""
             }
            },
            "marker": {
             "colorbar": {
              "outlinewidth": 0,
              "ticks": ""
             }
            },
            "type": "scatter3d"
           }
          ],
          "scattercarpet": [
           {
            "marker": {
             "colorbar": {
              "outlinewidth": 0,
              "ticks": ""
             }
            },
            "type": "scattercarpet"
           }
          ],
          "scattergeo": [
           {
            "marker": {
             "colorbar": {
              "outlinewidth": 0,
              "ticks": ""
             }
            },
            "type": "scattergeo"
           }
          ],
          "scattergl": [
           {
            "marker": {
             "colorbar": {
              "outlinewidth": 0,
              "ticks": ""
             }
            },
            "type": "scattergl"
           }
          ],
          "scattermapbox": [
           {
            "marker": {
             "colorbar": {
              "outlinewidth": 0,
              "ticks": ""
             }
            },
            "type": "scattermapbox"
           }
          ],
          "scatterpolar": [
           {
            "marker": {
             "colorbar": {
              "outlinewidth": 0,
              "ticks": ""
             }
            },
            "type": "scatterpolar"
           }
          ],
          "scatterpolargl": [
           {
            "marker": {
             "colorbar": {
              "outlinewidth": 0,
              "ticks": ""
             }
            },
            "type": "scatterpolargl"
           }
          ],
          "scatterternary": [
           {
            "marker": {
             "colorbar": {
              "outlinewidth": 0,
              "ticks": ""
             }
            },
            "type": "scatterternary"
           }
          ],
          "surface": [
           {
            "colorbar": {
             "outlinewidth": 0,
             "ticks": ""
            },
            "colorscale": [
             [
              0,
              "#0d0887"
             ],
             [
              0.1111111111111111,
              "#46039f"
             ],
             [
              0.2222222222222222,
              "#7201a8"
             ],
             [
              0.3333333333333333,
              "#9c179e"
             ],
             [
              0.4444444444444444,
              "#bd3786"
             ],
             [
              0.5555555555555556,
              "#d8576b"
             ],
             [
              0.6666666666666666,
              "#ed7953"
             ],
             [
              0.7777777777777778,
              "#fb9f3a"
             ],
             [
              0.8888888888888888,
              "#fdca26"
             ],
             [
              1,
              "#f0f921"
             ]
            ],
            "type": "surface"
           }
          ],
          "table": [
           {
            "cells": {
             "fill": {
              "color": "#EBF0F8"
             },
             "line": {
              "color": "white"
             }
            },
            "header": {
             "fill": {
              "color": "#C8D4E3"
             },
             "line": {
              "color": "white"
             }
            },
            "type": "table"
           }
          ]
         },
         "layout": {
          "annotationdefaults": {
           "arrowcolor": "#2a3f5f",
           "arrowhead": 0,
           "arrowwidth": 1
          },
          "autotypenumbers": "strict",
          "coloraxis": {
           "colorbar": {
            "outlinewidth": 0,
            "ticks": ""
           }
          },
          "colorscale": {
           "diverging": [
            [
             0,
             "#8e0152"
            ],
            [
             0.1,
             "#c51b7d"
            ],
            [
             0.2,
             "#de77ae"
            ],
            [
             0.3,
             "#f1b6da"
            ],
            [
             0.4,
             "#fde0ef"
            ],
            [
             0.5,
             "#f7f7f7"
            ],
            [
             0.6,
             "#e6f5d0"
            ],
            [
             0.7,
             "#b8e186"
            ],
            [
             0.8,
             "#7fbc41"
            ],
            [
             0.9,
             "#4d9221"
            ],
            [
             1,
             "#276419"
            ]
           ],
           "sequential": [
            [
             0,
             "#0d0887"
            ],
            [
             0.1111111111111111,
             "#46039f"
            ],
            [
             0.2222222222222222,
             "#7201a8"
            ],
            [
             0.3333333333333333,
             "#9c179e"
            ],
            [
             0.4444444444444444,
             "#bd3786"
            ],
            [
             0.5555555555555556,
             "#d8576b"
            ],
            [
             0.6666666666666666,
             "#ed7953"
            ],
            [
             0.7777777777777778,
             "#fb9f3a"
            ],
            [
             0.8888888888888888,
             "#fdca26"
            ],
            [
             1,
             "#f0f921"
            ]
           ],
           "sequentialminus": [
            [
             0,
             "#0d0887"
            ],
            [
             0.1111111111111111,
             "#46039f"
            ],
            [
             0.2222222222222222,
             "#7201a8"
            ],
            [
             0.3333333333333333,
             "#9c179e"
            ],
            [
             0.4444444444444444,
             "#bd3786"
            ],
            [
             0.5555555555555556,
             "#d8576b"
            ],
            [
             0.6666666666666666,
             "#ed7953"
            ],
            [
             0.7777777777777778,
             "#fb9f3a"
            ],
            [
             0.8888888888888888,
             "#fdca26"
            ],
            [
             1,
             "#f0f921"
            ]
           ]
          },
          "colorway": [
           "#636efa",
           "#EF553B",
           "#00cc96",
           "#ab63fa",
           "#FFA15A",
           "#19d3f3",
           "#FF6692",
           "#B6E880",
           "#FF97FF",
           "#FECB52"
          ],
          "font": {
           "color": "#2a3f5f"
          },
          "geo": {
           "bgcolor": "white",
           "lakecolor": "white",
           "landcolor": "#E5ECF6",
           "showlakes": true,
           "showland": true,
           "subunitcolor": "white"
          },
          "hoverlabel": {
           "align": "left"
          },
          "hovermode": "closest",
          "mapbox": {
           "style": "light"
          },
          "paper_bgcolor": "white",
          "plot_bgcolor": "#E5ECF6",
          "polar": {
           "angularaxis": {
            "gridcolor": "white",
            "linecolor": "white",
            "ticks": ""
           },
           "bgcolor": "#E5ECF6",
           "radialaxis": {
            "gridcolor": "white",
            "linecolor": "white",
            "ticks": ""
           }
          },
          "scene": {
           "xaxis": {
            "backgroundcolor": "#E5ECF6",
            "gridcolor": "white",
            "gridwidth": 2,
            "linecolor": "white",
            "showbackground": true,
            "ticks": "",
            "zerolinecolor": "white"
           },
           "yaxis": {
            "backgroundcolor": "#E5ECF6",
            "gridcolor": "white",
            "gridwidth": 2,
            "linecolor": "white",
            "showbackground": true,
            "ticks": "",
            "zerolinecolor": "white"
           },
           "zaxis": {
            "backgroundcolor": "#E5ECF6",
            "gridcolor": "white",
            "gridwidth": 2,
            "linecolor": "white",
            "showbackground": true,
            "ticks": "",
            "zerolinecolor": "white"
           }
          },
          "shapedefaults": {
           "line": {
            "color": "#2a3f5f"
           }
          },
          "ternary": {
           "aaxis": {
            "gridcolor": "white",
            "linecolor": "white",
            "ticks": ""
           },
           "baxis": {
            "gridcolor": "white",
            "linecolor": "white",
            "ticks": ""
           },
           "bgcolor": "#E5ECF6",
           "caxis": {
            "gridcolor": "white",
            "linecolor": "white",
            "ticks": ""
           }
          },
          "title": {
           "x": 0.05
          },
          "xaxis": {
           "automargin": true,
           "gridcolor": "white",
           "linecolor": "white",
           "ticks": "",
           "title": {
            "standoff": 15
           },
           "zerolinecolor": "white",
           "zerolinewidth": 2
          },
          "yaxis": {
           "automargin": true,
           "gridcolor": "white",
           "linecolor": "white",
           "ticks": "",
           "title": {
            "standoff": 15
           },
           "zerolinecolor": "white",
           "zerolinewidth": 2
          }
         }
        },
        "title": {
         "text": "min_mpe vs. min_mpe_pixels"
        },
        "xaxis": {
         "anchor": "y",
         "domain": [
          0,
          1
         ],
         "title": {
          "text": "min_mpe"
         }
        },
        "yaxis": {
         "anchor": "x",
         "domain": [
          0,
          1
         ],
         "title": {
          "text": "min_mpe_pixels"
         }
        }
       }
      }
     },
     "metadata": {},
     "output_type": "display_data"
    }
   ],
   "source": [
    "fig = px.scatter(df,color='PondType', x='min_mpe', y='min_mpe_pixels',hover_data=['Label', 'PrawnID'])\n",
    "#add title\n",
    "fig.update_layout(title=f'min_mpe vs. min_mpe_pixels')\n",
    "\n",
    "#save the plot to png\n",
    "fig.write_image(f'full body_min_mpe vs. min_mpe_pixels.png')\n",
    "# Add a trendline\n",
    "fig.show()"
   ]
  },
  {
   "cell_type": "code",
   "execution_count": 47,
   "metadata": {},
   "outputs": [
    {
     "data": {
      "application/vnd.plotly.v1+json": {
       "config": {
        "plotlyServerURL": "https://plot.ly"
       },
       "data": [
        {
         "customdata": [
          [
           "full body:undistorted_GX010077_14_237.jpg_gamma",
           "Prawn_0"
          ],
          [
           "full body:undistorted_GX010077_14_237.jpg_gamma",
           "Prawn_1"
          ],
          [
           "full body:undistorted_GX010077_14_237.jpg_gamma",
           "Prawn_2"
          ],
          [
           "full body:undistorted_GX010067_33_625.jpg_gamma",
           "Prawn_0"
          ],
          [
           "full body:undistorted_GX010067_33_625.jpg_gamma",
           "Prawn_1"
          ],
          [
           "full body:undistorted_GX010067_33_625.jpg_gamma",
           "Prawn_2"
          ],
          [
           "full body:undistorted_GX010067_33_625.jpg_gamma",
           "Prawn_3"
          ],
          [
           "full body:undistorted_GX010068_26_666.jpg_gamma",
           "Prawn_0"
          ],
          [
           "full body:undistorted_GX010068_26_666.jpg_gamma",
           "Prawn_1"
          ],
          [
           "full body:undistorted_GX010068_26_666.jpg_gamma",
           "Prawn_2"
          ],
          [
           "full body:undistorted_GX010068_27_795.jpg_gamma",
           "Prawn_0"
          ],
          [
           "full body:undistorted_GX010068_27_795.jpg_gamma",
           "Prawn_1"
          ],
          [
           "full body:undistorted_GX010069_19_191.jpg_gamma",
           "Prawn_0"
          ],
          [
           "full body:undistorted_GX010069_19_191.jpg_gamma",
           "Prawn_1"
          ],
          [
           "full body:undistorted_GX010069_19_191.jpg_gamma",
           "Prawn_2"
          ],
          [
           "full body:undistorted_GX010069_19_191.jpg_gamma",
           "Prawn_3"
          ],
          [
           "full body:undistorted_GX010071_22_444.jpg_gamma",
           "Prawn_0"
          ],
          [
           "full body:undistorted_GX010071_22_444.jpg_gamma",
           "Prawn_1"
          ],
          [
           "full body:undistorted_GX010073_42_695.jpg_gamma",
           "Prawn_0"
          ],
          [
           "full body:undistorted_GX010073_42_695.jpg_gamma",
           "Prawn_1"
          ],
          [
           "full body:undistorted_GX010073_42_695.jpg_gamma",
           "Prawn_2"
          ],
          [
           "full body:undistorted_GX010073_55_1014.jpg_gamma",
           "Prawn_0"
          ],
          [
           "full body:undistorted_GX010073_55_1014.jpg_gamma",
           "Prawn_1"
          ],
          [
           "full body:undistorted_GX010073_55_1014.jpg_gamma",
           "Prawn_2"
          ],
          [
           "full body:undistorted_GX010080_157_2283.jpg_gamma",
           "Prawn_0"
          ],
          [
           "full body:undistorted_GX010080_157_2283.jpg_gamma",
           "Prawn_2"
          ],
          [
           "full body:undistorted_GX010080_157_2283.jpg_gamma",
           "Prawn_3"
          ],
          [
           "full body:undistorted_GX010080_193_2640.jpg_gamma",
           "Prawn_0"
          ],
          [
           "full body:undistorted_GX010080_193_2640.jpg_gamma",
           "Prawn_1"
          ],
          [
           "full body:undistorted_GX010080_193_2640.jpg_gamma",
           "Prawn_2"
          ],
          [
           "full body:undistorted_GX010080_193_2640.jpg_gamma",
           "Prawn_3"
          ],
          [
           "full body:undistorted_GX010080_193_2640.jpg_gamma",
           "Prawn_4"
          ],
          [
           "full body:undistorted_GX010080_212_2954.jpg_gamma",
           "Prawn_0"
          ],
          [
           "full body:undistorted_GX010080_212_2954.jpg_gamma",
           "Prawn_1"
          ],
          [
           "full body:undistorted_GX010080_212_2954.jpg_gamma",
           "Prawn_2"
          ],
          [
           "full body:undistorted_GX010080_237_3366.jpg_gamma",
           "Prawn_0"
          ],
          [
           "full body:undistorted_GX010080_237_3366.jpg_gamma",
           "Prawn_1"
          ],
          [
           "full body:undistorted_GX010080_237_3366.jpg_gamma",
           "Prawn_2"
          ],
          [
           "full body:undistorted_GX010080_237_3366.jpg_gamma",
           "Prawn_3"
          ],
          [
           "full body:undistorted_GX010080_237_3366.jpg_gamma",
           "Prawn_4"
          ],
          [
           "full body:undistorted_GX010080_238_3392.jpg_gamma",
           "Prawn_0"
          ],
          [
           "full body:undistorted_GX010080_238_3392.jpg_gamma",
           "Prawn_1"
          ],
          [
           "full body:undistorted_GX010080_238_3392.jpg_gamma",
           "Prawn_2"
          ],
          [
           "full body:undistorted_GX010080_238_3392.jpg_gamma",
           "Prawn_3"
          ],
          [
           "full body:undistorted_GX010082_8_59.jpg_gamma",
           "Prawn_1"
          ],
          [
           "full body:undistorted_GX010082_8_59.jpg_gamma",
           "Prawn_2"
          ],
          [
           "full body:undistorted_GX010082_8_59.jpg_gamma",
           "Prawn_3"
          ],
          [
           "full body:undistorted_GX010082_8_59.jpg_gamma",
           "Prawn_4"
          ],
          [
           "full body:undistorted_GX010082_53_796.jpg_gamma",
           "Prawn_0"
          ],
          [
           "full body:undistorted_GX010082_53_796.jpg_gamma",
           "Prawn_1"
          ],
          [
           "full body:undistorted_GX010082_65_1070.jpg_gamma",
           "Prawn_0"
          ],
          [
           "full body:undistorted_GX010082_65_1070.jpg_gamma",
           "Prawn_1"
          ],
          [
           "full body:undistorted_GX010082_65_1070.jpg_gamma",
           "Prawn_2"
          ],
          [
           "full body:undistorted_GX010082_236_3137.jpg_gamma",
           "Prawn_0"
          ],
          [
           "full body:undistorted_GX010082_236_3137.jpg_gamma",
           "Prawn_1"
          ],
          [
           "full body:undistorted_GX010082_236_3137.jpg_gamma",
           "Prawn_2"
          ],
          [
           "full body:undistorted_GX010084_30_344.jpg_gamma",
           "Prawn_0"
          ],
          [
           "full body:undistorted_GX010084_30_344.jpg_gamma",
           "Prawn_1"
          ],
          [
           "full body:undistorted_GX010084_30_344.jpg_gamma",
           "Prawn_2"
          ],
          [
           "full body:undistorted_GX010084_30_344.jpg_gamma",
           "Prawn_3"
          ],
          [
           "full body:undistorted_GX010084_130_1748.jpg_gamma",
           "Prawn_0"
          ],
          [
           "full body:undistorted_GX010084_130_1748.jpg_gamma",
           "Prawn_1"
          ],
          [
           "full body:undistorted_GX010084_130_1748.jpg_gamma",
           "Prawn_2"
          ],
          [
           "full body:undistorted_GX010085_261_3610.jpg_gamma",
           "Prawn_0"
          ],
          [
           "full body:undistorted_GX010085_261_3610.jpg_gamma",
           "Prawn_1"
          ],
          [
           "full body:undistorted_GX010088_209_2904.jpg_gamma",
           "Prawn_0"
          ],
          [
           "full body:undistorted_GX010088_209_2904.jpg_gamma",
           "Prawn_1"
          ],
          [
           "full body:undistorted_GX010088_262_3712.jpg_gamma",
           "Prawn_0"
          ],
          [
           "full body:undistorted_GX010088_262_3712.jpg_gamma",
           "Prawn_1"
          ],
          [
           "full body:undistorted_GX010088_262_3712.jpg_gamma",
           "Prawn_2"
          ],
          [
           "full body:undistorted_GX010088_327_4364.jpg_gamma",
           "Prawn_0"
          ],
          [
           "full body:undistorted_GX010088_327_4364.jpg_gamma",
           "Prawn_1"
          ],
          [
           "full body:undistorted_GX010088_327_4364.jpg_gamma",
           "Prawn_2"
          ],
          [
           "full body:undistorted_GX010088_327_4364.jpg_gamma",
           "Prawn_3"
          ],
          [
           "full body:undistorted_GX010090_132_1852.jpg_gamma",
           "Prawn_0"
          ],
          [
           "full body:undistorted_GX010094_9_129.jpg_gamma",
           "Prawn_0"
          ],
          [
           "full body:undistorted_GX010094_9_129.jpg_gamma",
           "Prawn_1"
          ],
          [
           "full body:undistorted_GX010094_24_430.jpg_gamma",
           "Prawn_0"
          ],
          [
           "full body:undistorted_GX010094_93_1258.jpg_gamma",
           "Prawn_0"
          ],
          [
           "full body:undistorted_GX010094_163_2312.jpg_gamma",
           "Prawn_0"
          ],
          [
           "full body:undistorted_GX010097_32_528.jpg_gamma",
           "Prawn_0"
          ],
          [
           "full body:undistorted_GX010097_32_528.jpg_gamma",
           "Prawn_1"
          ],
          [
           "full body:undistorted_GX010097_60_1080.jpg_gamma",
           "Prawn_0"
          ],
          [
           "full body:undistorted_GX010097_60_1080.jpg_gamma",
           "Prawn_1"
          ],
          [
           "full body:undistorted_GX010097_60_1080.jpg_gamma",
           "Prawn_2"
          ],
          [
           "full body:undistorted_GX010097_60_1080.jpg_gamma",
           "Prawn_3"
          ],
          [
           "full body:undistorted_GX010097_105_1651.jpg_gamma",
           "Prawn_0"
          ],
          [
           "full body:undistorted_GX010097_105_1651.jpg_gamma",
           "Prawn_1"
          ],
          [
           "full body:undistorted_GX010097_105_1651.jpg_gamma",
           "Prawn_2"
          ],
          [
           "full body:undistorted_GX010097_105_1651.jpg_gamma",
           "Prawn_3"
          ],
          [
           "full body:undistorted_GX010097_124_1870.jpg_gamma",
           "Prawn_0"
          ],
          [
           "full body:undistorted_GX010097_124_1870.jpg_gamma",
           "Prawn_1"
          ],
          [
           "full body:undistorted_GX010101_12_173.jpg_gamma",
           "Prawn_0"
          ]
         ],
         "hovertemplate": "min_mpe=%{x}<br>min_mpe_pixels=%{y}<br>Label=%{customdata[0]}<br>PrawnID=%{customdata[1]}<extra></extra>",
         "legendgroup": "",
         "marker": {
          "color": "#636efa",
          "symbol": "circle"
         },
         "mode": "markers",
         "name": "",
         "orientation": "v",
         "showlegend": false,
         "type": "scatter",
         "x": [
          5.945304408505487,
          8.455241844417314,
          1.515158498756725,
          6.791594782267427,
          1.158354732936139,
          2.230836590281231,
          9.10666683576594,
          10.56795825508955,
          13.35001318035945,
          7.103048036814945,
          3.192735655682762,
          1.35674126056174,
          0.8592858266215947,
          15.92971313591953,
          13.91240568192508,
          12.33170727615706,
          8.87300487578375,
          1.066739046747712,
          20.76469988648511,
          4.920383068785219,
          2.262320843955222,
          4.740438899024116,
          6.091419510323511,
          21.43249585045907,
          29.92834528821497,
          29.96089462212668,
          25.22602931968579,
          17.54458431272633,
          12.11788235236907,
          17.59181164990475,
          7.794637029205479,
          20.71931550038067,
          18.40456792720543,
          8.66887908630012,
          2.107080888226245,
          9.616539623397461,
          14.79243064634031,
          14.68808777396873,
          4.785128108775853,
          2.062158347057675,
          10.68392631881961,
          16.42497283197103,
          8.714237925717088,
          11.24828111614709,
          1.693503413135365,
          1.202455148416885,
          2.770219350870582,
          11.27608276791631,
          5.766674587999535,
          1.04689901424448,
          17.99537649030619,
          28.3522675774136,
          14.7964312017854,
          25.76404514273009,
          25.31833639953887,
          0.05802042169670792,
          7.152414619659401,
          5.253905300934747,
          1.562027583937642,
          8.507320081605254,
          3.016172250152385,
          11.49657386206835,
          0.5009595838224843,
          14.71494425780231,
          2.148503726255284,
          10.097833041856,
          3.5495676693248,
          1.753401842794375,
          2.409928211536239,
          2.894888078574604,
          6.489983605123991,
          7.842024317217636,
          5.0462851241997,
          1.331172587777697,
          8.250497842754143,
          12.02944951205384,
          11.62892730307281,
          9.445447177591484,
          0.1040740596784668,
          11.75924950873195,
          11.56662169678167,
          62.68485297131578,
          16.48241489903097,
          9.312651557604314,
          33.40061955368242,
          2.532593449061535,
          32.86130529952187,
          10.05284442989043,
          26.89497366492718,
          42.42377358681658,
          25.98817181134315,
          13.32810860151705,
          1.88067204235004
         ],
         "xaxis": "x",
         "y": [
          12.48288265259098,
          12.3630661771587,
          2.302461802681407,
          4.79379394979899,
          3.521705701962748,
          1.251262055482046,
          7.866630481496505,
          11.04025075258177,
          12.28857120151366,
          0.1545531295499506,
          8.235896624576142,
          3.547171852639298,
          6.284174550886974,
          3.801917223437909,
          8.352226129756223,
          0.5971332416755989,
          10.02305069597079,
          0.7844976728495804,
          11.49194708512599,
          12.85333385122596,
          4.653426343637084,
          3.012236158362412,
          7.107504089273172,
          14.87174805989194,
          3.561324244674857,
          1.968772394790982,
          1.389502622713374,
          5.422067795518918,
          0.9505098606718224,
          5.749922179159776,
          0.1407688617940605,
          8.510985112337126,
          9.060745592957351,
          1.305168726571253,
          2.408782376796231,
          2.453830894990467,
          8.00469404607008,
          7.532818032363887,
          1.456391358325706,
          0.3046994282399219,
          5.288740631981876,
          5.593405925584536,
          1.436294619478988,
          6.538489483927902,
          10.16313671768953,
          1.390084278318477,
          0.8870808198487604,
          11.18678670958008,
          1.657984470547401,
          7.326262887579349,
          1.513216326205908,
          9.024083270320515,
          0.2586862005125452,
          7.623523140329461,
          6.664456041015512,
          15.31972765575682,
          9.588451210192957,
          9.031368863168762,
          4.432014397362575,
          12.62111954315755,
          9.362183451931713,
          0.112583180508155,
          6.144555528286459,
          3.246799469648991,
          1.827999549946229,
          1.237084092399996,
          1.91439924347847,
          5.441691296207077,
          0.2082489240671335,
          1.572164685970141,
          0.1200408359184761,
          2.343416352884153,
          2.064832996418575,
          1.275640580825451,
          0.03055067835738017,
          5.662884595740488,
          0.02631647500835967,
          5.41696868647234,
          0.2571594134149691,
          5.059193281736894,
          8.356147188314587,
          48.89069106258489,
          10.92897965361014,
          8.050252225843554,
          31.45500790156628,
          0.8353493928836849,
          17.45000311961287,
          2.573222803640357,
          21.00886734776372,
          26.18744212931081,
          6.717019531531681,
          1.865800866675482,
          0.6868403601419241
         ],
         "yaxis": "y"
        }
       ],
       "layout": {
        "legend": {
         "tracegroupgap": 0
        },
        "margin": {
         "t": 60
        },
        "template": {
         "data": {
          "bar": [
           {
            "error_x": {
             "color": "#2a3f5f"
            },
            "error_y": {
             "color": "#2a3f5f"
            },
            "marker": {
             "line": {
              "color": "#E5ECF6",
              "width": 0.5
             },
             "pattern": {
              "fillmode": "overlay",
              "size": 10,
              "solidity": 0.2
             }
            },
            "type": "bar"
           }
          ],
          "barpolar": [
           {
            "marker": {
             "line": {
              "color": "#E5ECF6",
              "width": 0.5
             },
             "pattern": {
              "fillmode": "overlay",
              "size": 10,
              "solidity": 0.2
             }
            },
            "type": "barpolar"
           }
          ],
          "carpet": [
           {
            "aaxis": {
             "endlinecolor": "#2a3f5f",
             "gridcolor": "white",
             "linecolor": "white",
             "minorgridcolor": "white",
             "startlinecolor": "#2a3f5f"
            },
            "baxis": {
             "endlinecolor": "#2a3f5f",
             "gridcolor": "white",
             "linecolor": "white",
             "minorgridcolor": "white",
             "startlinecolor": "#2a3f5f"
            },
            "type": "carpet"
           }
          ],
          "choropleth": [
           {
            "colorbar": {
             "outlinewidth": 0,
             "ticks": ""
            },
            "type": "choropleth"
           }
          ],
          "contour": [
           {
            "colorbar": {
             "outlinewidth": 0,
             "ticks": ""
            },
            "colorscale": [
             [
              0,
              "#0d0887"
             ],
             [
              0.1111111111111111,
              "#46039f"
             ],
             [
              0.2222222222222222,
              "#7201a8"
             ],
             [
              0.3333333333333333,
              "#9c179e"
             ],
             [
              0.4444444444444444,
              "#bd3786"
             ],
             [
              0.5555555555555556,
              "#d8576b"
             ],
             [
              0.6666666666666666,
              "#ed7953"
             ],
             [
              0.7777777777777778,
              "#fb9f3a"
             ],
             [
              0.8888888888888888,
              "#fdca26"
             ],
             [
              1,
              "#f0f921"
             ]
            ],
            "type": "contour"
           }
          ],
          "contourcarpet": [
           {
            "colorbar": {
             "outlinewidth": 0,
             "ticks": ""
            },
            "type": "contourcarpet"
           }
          ],
          "heatmap": [
           {
            "colorbar": {
             "outlinewidth": 0,
             "ticks": ""
            },
            "colorscale": [
             [
              0,
              "#0d0887"
             ],
             [
              0.1111111111111111,
              "#46039f"
             ],
             [
              0.2222222222222222,
              "#7201a8"
             ],
             [
              0.3333333333333333,
              "#9c179e"
             ],
             [
              0.4444444444444444,
              "#bd3786"
             ],
             [
              0.5555555555555556,
              "#d8576b"
             ],
             [
              0.6666666666666666,
              "#ed7953"
             ],
             [
              0.7777777777777778,
              "#fb9f3a"
             ],
             [
              0.8888888888888888,
              "#fdca26"
             ],
             [
              1,
              "#f0f921"
             ]
            ],
            "type": "heatmap"
           }
          ],
          "heatmapgl": [
           {
            "colorbar": {
             "outlinewidth": 0,
             "ticks": ""
            },
            "colorscale": [
             [
              0,
              "#0d0887"
             ],
             [
              0.1111111111111111,
              "#46039f"
             ],
             [
              0.2222222222222222,
              "#7201a8"
             ],
             [
              0.3333333333333333,
              "#9c179e"
             ],
             [
              0.4444444444444444,
              "#bd3786"
             ],
             [
              0.5555555555555556,
              "#d8576b"
             ],
             [
              0.6666666666666666,
              "#ed7953"
             ],
             [
              0.7777777777777778,
              "#fb9f3a"
             ],
             [
              0.8888888888888888,
              "#fdca26"
             ],
             [
              1,
              "#f0f921"
             ]
            ],
            "type": "heatmapgl"
           }
          ],
          "histogram": [
           {
            "marker": {
             "pattern": {
              "fillmode": "overlay",
              "size": 10,
              "solidity": 0.2
             }
            },
            "type": "histogram"
           }
          ],
          "histogram2d": [
           {
            "colorbar": {
             "outlinewidth": 0,
             "ticks": ""
            },
            "colorscale": [
             [
              0,
              "#0d0887"
             ],
             [
              0.1111111111111111,
              "#46039f"
             ],
             [
              0.2222222222222222,
              "#7201a8"
             ],
             [
              0.3333333333333333,
              "#9c179e"
             ],
             [
              0.4444444444444444,
              "#bd3786"
             ],
             [
              0.5555555555555556,
              "#d8576b"
             ],
             [
              0.6666666666666666,
              "#ed7953"
             ],
             [
              0.7777777777777778,
              "#fb9f3a"
             ],
             [
              0.8888888888888888,
              "#fdca26"
             ],
             [
              1,
              "#f0f921"
             ]
            ],
            "type": "histogram2d"
           }
          ],
          "histogram2dcontour": [
           {
            "colorbar": {
             "outlinewidth": 0,
             "ticks": ""
            },
            "colorscale": [
             [
              0,
              "#0d0887"
             ],
             [
              0.1111111111111111,
              "#46039f"
             ],
             [
              0.2222222222222222,
              "#7201a8"
             ],
             [
              0.3333333333333333,
              "#9c179e"
             ],
             [
              0.4444444444444444,
              "#bd3786"
             ],
             [
              0.5555555555555556,
              "#d8576b"
             ],
             [
              0.6666666666666666,
              "#ed7953"
             ],
             [
              0.7777777777777778,
              "#fb9f3a"
             ],
             [
              0.8888888888888888,
              "#fdca26"
             ],
             [
              1,
              "#f0f921"
             ]
            ],
            "type": "histogram2dcontour"
           }
          ],
          "mesh3d": [
           {
            "colorbar": {
             "outlinewidth": 0,
             "ticks": ""
            },
            "type": "mesh3d"
           }
          ],
          "parcoords": [
           {
            "line": {
             "colorbar": {
              "outlinewidth": 0,
              "ticks": ""
             }
            },
            "type": "parcoords"
           }
          ],
          "pie": [
           {
            "automargin": true,
            "type": "pie"
           }
          ],
          "scatter": [
           {
            "fillpattern": {
             "fillmode": "overlay",
             "size": 10,
             "solidity": 0.2
            },
            "type": "scatter"
           }
          ],
          "scatter3d": [
           {
            "line": {
             "colorbar": {
              "outlinewidth": 0,
              "ticks": ""
             }
            },
            "marker": {
             "colorbar": {
              "outlinewidth": 0,
              "ticks": ""
             }
            },
            "type": "scatter3d"
           }
          ],
          "scattercarpet": [
           {
            "marker": {
             "colorbar": {
              "outlinewidth": 0,
              "ticks": ""
             }
            },
            "type": "scattercarpet"
           }
          ],
          "scattergeo": [
           {
            "marker": {
             "colorbar": {
              "outlinewidth": 0,
              "ticks": ""
             }
            },
            "type": "scattergeo"
           }
          ],
          "scattergl": [
           {
            "marker": {
             "colorbar": {
              "outlinewidth": 0,
              "ticks": ""
             }
            },
            "type": "scattergl"
           }
          ],
          "scattermapbox": [
           {
            "marker": {
             "colorbar": {
              "outlinewidth": 0,
              "ticks": ""
             }
            },
            "type": "scattermapbox"
           }
          ],
          "scatterpolar": [
           {
            "marker": {
             "colorbar": {
              "outlinewidth": 0,
              "ticks": ""
             }
            },
            "type": "scatterpolar"
           }
          ],
          "scatterpolargl": [
           {
            "marker": {
             "colorbar": {
              "outlinewidth": 0,
              "ticks": ""
             }
            },
            "type": "scatterpolargl"
           }
          ],
          "scatterternary": [
           {
            "marker": {
             "colorbar": {
              "outlinewidth": 0,
              "ticks": ""
             }
            },
            "type": "scatterternary"
           }
          ],
          "surface": [
           {
            "colorbar": {
             "outlinewidth": 0,
             "ticks": ""
            },
            "colorscale": [
             [
              0,
              "#0d0887"
             ],
             [
              0.1111111111111111,
              "#46039f"
             ],
             [
              0.2222222222222222,
              "#7201a8"
             ],
             [
              0.3333333333333333,
              "#9c179e"
             ],
             [
              0.4444444444444444,
              "#bd3786"
             ],
             [
              0.5555555555555556,
              "#d8576b"
             ],
             [
              0.6666666666666666,
              "#ed7953"
             ],
             [
              0.7777777777777778,
              "#fb9f3a"
             ],
             [
              0.8888888888888888,
              "#fdca26"
             ],
             [
              1,
              "#f0f921"
             ]
            ],
            "type": "surface"
           }
          ],
          "table": [
           {
            "cells": {
             "fill": {
              "color": "#EBF0F8"
             },
             "line": {
              "color": "white"
             }
            },
            "header": {
             "fill": {
              "color": "#C8D4E3"
             },
             "line": {
              "color": "white"
             }
            },
            "type": "table"
           }
          ]
         },
         "layout": {
          "annotationdefaults": {
           "arrowcolor": "#2a3f5f",
           "arrowhead": 0,
           "arrowwidth": 1
          },
          "autotypenumbers": "strict",
          "coloraxis": {
           "colorbar": {
            "outlinewidth": 0,
            "ticks": ""
           }
          },
          "colorscale": {
           "diverging": [
            [
             0,
             "#8e0152"
            ],
            [
             0.1,
             "#c51b7d"
            ],
            [
             0.2,
             "#de77ae"
            ],
            [
             0.3,
             "#f1b6da"
            ],
            [
             0.4,
             "#fde0ef"
            ],
            [
             0.5,
             "#f7f7f7"
            ],
            [
             0.6,
             "#e6f5d0"
            ],
            [
             0.7,
             "#b8e186"
            ],
            [
             0.8,
             "#7fbc41"
            ],
            [
             0.9,
             "#4d9221"
            ],
            [
             1,
             "#276419"
            ]
           ],
           "sequential": [
            [
             0,
             "#0d0887"
            ],
            [
             0.1111111111111111,
             "#46039f"
            ],
            [
             0.2222222222222222,
             "#7201a8"
            ],
            [
             0.3333333333333333,
             "#9c179e"
            ],
            [
             0.4444444444444444,
             "#bd3786"
            ],
            [
             0.5555555555555556,
             "#d8576b"
            ],
            [
             0.6666666666666666,
             "#ed7953"
            ],
            [
             0.7777777777777778,
             "#fb9f3a"
            ],
            [
             0.8888888888888888,
             "#fdca26"
            ],
            [
             1,
             "#f0f921"
            ]
           ],
           "sequentialminus": [
            [
             0,
             "#0d0887"
            ],
            [
             0.1111111111111111,
             "#46039f"
            ],
            [
             0.2222222222222222,
             "#7201a8"
            ],
            [
             0.3333333333333333,
             "#9c179e"
            ],
            [
             0.4444444444444444,
             "#bd3786"
            ],
            [
             0.5555555555555556,
             "#d8576b"
            ],
            [
             0.6666666666666666,
             "#ed7953"
            ],
            [
             0.7777777777777778,
             "#fb9f3a"
            ],
            [
             0.8888888888888888,
             "#fdca26"
            ],
            [
             1,
             "#f0f921"
            ]
           ]
          },
          "colorway": [
           "#636efa",
           "#EF553B",
           "#00cc96",
           "#ab63fa",
           "#FFA15A",
           "#19d3f3",
           "#FF6692",
           "#B6E880",
           "#FF97FF",
           "#FECB52"
          ],
          "font": {
           "color": "#2a3f5f"
          },
          "geo": {
           "bgcolor": "white",
           "lakecolor": "white",
           "landcolor": "#E5ECF6",
           "showlakes": true,
           "showland": true,
           "subunitcolor": "white"
          },
          "hoverlabel": {
           "align": "left"
          },
          "hovermode": "closest",
          "mapbox": {
           "style": "light"
          },
          "paper_bgcolor": "white",
          "plot_bgcolor": "#E5ECF6",
          "polar": {
           "angularaxis": {
            "gridcolor": "white",
            "linecolor": "white",
            "ticks": ""
           },
           "bgcolor": "#E5ECF6",
           "radialaxis": {
            "gridcolor": "white",
            "linecolor": "white",
            "ticks": ""
           }
          },
          "scene": {
           "xaxis": {
            "backgroundcolor": "#E5ECF6",
            "gridcolor": "white",
            "gridwidth": 2,
            "linecolor": "white",
            "showbackground": true,
            "ticks": "",
            "zerolinecolor": "white"
           },
           "yaxis": {
            "backgroundcolor": "#E5ECF6",
            "gridcolor": "white",
            "gridwidth": 2,
            "linecolor": "white",
            "showbackground": true,
            "ticks": "",
            "zerolinecolor": "white"
           },
           "zaxis": {
            "backgroundcolor": "#E5ECF6",
            "gridcolor": "white",
            "gridwidth": 2,
            "linecolor": "white",
            "showbackground": true,
            "ticks": "",
            "zerolinecolor": "white"
           }
          },
          "shapedefaults": {
           "line": {
            "color": "#2a3f5f"
           }
          },
          "ternary": {
           "aaxis": {
            "gridcolor": "white",
            "linecolor": "white",
            "ticks": ""
           },
           "baxis": {
            "gridcolor": "white",
            "linecolor": "white",
            "ticks": ""
           },
           "bgcolor": "#E5ECF6",
           "caxis": {
            "gridcolor": "white",
            "linecolor": "white",
            "ticks": ""
           }
          },
          "title": {
           "x": 0.05
          },
          "xaxis": {
           "automargin": true,
           "gridcolor": "white",
           "linecolor": "white",
           "ticks": "",
           "title": {
            "standoff": 15
           },
           "zerolinecolor": "white",
           "zerolinewidth": 2
          },
          "yaxis": {
           "automargin": true,
           "gridcolor": "white",
           "linecolor": "white",
           "ticks": "",
           "title": {
            "standoff": 15
           },
           "zerolinecolor": "white",
           "zerolinewidth": 2
          }
         }
        },
        "title": {
         "text": "min_mpe vs. min_mpe_pixels circular-big"
        },
        "xaxis": {
         "anchor": "y",
         "domain": [
          0,
          1
         ],
         "title": {
          "text": "min_mpe"
         }
        },
        "yaxis": {
         "anchor": "x",
         "domain": [
          0,
          1
         ],
         "title": {
          "text": "min_mpe_pixels"
         }
        }
       }
      }
     },
     "metadata": {},
     "output_type": "display_data"
    },
    {
     "data": {
      "application/vnd.plotly.v1+json": {
       "config": {
        "plotlyServerURL": "https://plot.ly"
       },
       "data": [
        {
         "customdata": [
          [
           "full body:undistorted_GX010089_11_236.jpg_gamma",
           "Prawn_0"
          ],
          [
           "full body:undistorted_GX010089_11_236.jpg_gamma",
           "Prawn_1"
          ],
          [
           "full body:undistorted_GX010089_11_236.jpg_gamma",
           "Prawn_2"
          ],
          [
           "full body:undistorted_GX010089_11_236.jpg_gamma",
           "Prawn_3"
          ],
          [
           "full body:undistorted_GX010091_5_149.jpg_gamma",
           "Prawn_0"
          ],
          [
           "full body:undistorted_GX010091_5_149.jpg_gamma",
           "Prawn_1"
          ],
          [
           "full body:undistorted_GX010091_5_149.jpg_gamma",
           "Prawn_2"
          ],
          [
           "full body:undistorted_GX010102_9_165.jpg_gamma",
           "Prawn_1"
          ],
          [
           "full body:undistorted_GX010102_9_165.jpg_gamma",
           "Prawn_2"
          ],
          [
           "full body:undistorted_GX010102_9_165.jpg_gamma",
           "Prawn_3"
          ],
          [
           "full body:undistorted_GX010102_9_165.jpg_gamma",
           "Prawn_4"
          ],
          [
           "full body:undistorted_GX010102_9_165.jpg_gamma",
           "Prawn_5"
          ],
          [
           "full body:undistorted_GX010102_50_1396.jpg_gamma",
           "Prawn_0"
          ],
          [
           "full body:undistorted_GX010105_28_816.jpg_gamma",
           "Prawn_0"
          ],
          [
           "full body:undistorted_GX010105_28_816.jpg_gamma",
           "Prawn_1"
          ]
         ],
         "hovertemplate": "min_mpe=%{x}<br>min_mpe_pixels=%{y}<br>Label=%{customdata[0]}<br>PrawnID=%{customdata[1]}<extra></extra>",
         "legendgroup": "",
         "marker": {
          "color": "#636efa",
          "symbol": "circle"
         },
         "mode": "markers",
         "name": "",
         "orientation": "v",
         "showlegend": false,
         "type": "scatter",
         "x": [
          31.99160144760634,
          23.82610711128963,
          25.20331023526624,
          5.052812026474951,
          23.12555326069806,
          14.05738437259452,
          95.4678271948721,
          22.69741793004322,
          95.98272265594827,
          59.53951278726044,
          28.81185618126997,
          24.39562164002855,
          15.39666495802374,
          24.69197886822858,
          23.27606391887926
         ],
         "xaxis": "x",
         "y": [
          16.8845892591151,
          9.529332159596644,
          8.838763778924303,
          17.02971209309064,
          4.367160339630132,
          6.986310261478507,
          72.69225960845698,
          2.414808505349144,
          77.92932837715429,
          42.92530860024891,
          10.07024634967029,
          12.00239743573357,
          0.9241595412110951,
          7.266460807549559,
          5.427020057937867
         ],
         "yaxis": "y"
        }
       ],
       "layout": {
        "legend": {
         "tracegroupgap": 0
        },
        "margin": {
         "t": 60
        },
        "template": {
         "data": {
          "bar": [
           {
            "error_x": {
             "color": "#2a3f5f"
            },
            "error_y": {
             "color": "#2a3f5f"
            },
            "marker": {
             "line": {
              "color": "#E5ECF6",
              "width": 0.5
             },
             "pattern": {
              "fillmode": "overlay",
              "size": 10,
              "solidity": 0.2
             }
            },
            "type": "bar"
           }
          ],
          "barpolar": [
           {
            "marker": {
             "line": {
              "color": "#E5ECF6",
              "width": 0.5
             },
             "pattern": {
              "fillmode": "overlay",
              "size": 10,
              "solidity": 0.2
             }
            },
            "type": "barpolar"
           }
          ],
          "carpet": [
           {
            "aaxis": {
             "endlinecolor": "#2a3f5f",
             "gridcolor": "white",
             "linecolor": "white",
             "minorgridcolor": "white",
             "startlinecolor": "#2a3f5f"
            },
            "baxis": {
             "endlinecolor": "#2a3f5f",
             "gridcolor": "white",
             "linecolor": "white",
             "minorgridcolor": "white",
             "startlinecolor": "#2a3f5f"
            },
            "type": "carpet"
           }
          ],
          "choropleth": [
           {
            "colorbar": {
             "outlinewidth": 0,
             "ticks": ""
            },
            "type": "choropleth"
           }
          ],
          "contour": [
           {
            "colorbar": {
             "outlinewidth": 0,
             "ticks": ""
            },
            "colorscale": [
             [
              0,
              "#0d0887"
             ],
             [
              0.1111111111111111,
              "#46039f"
             ],
             [
              0.2222222222222222,
              "#7201a8"
             ],
             [
              0.3333333333333333,
              "#9c179e"
             ],
             [
              0.4444444444444444,
              "#bd3786"
             ],
             [
              0.5555555555555556,
              "#d8576b"
             ],
             [
              0.6666666666666666,
              "#ed7953"
             ],
             [
              0.7777777777777778,
              "#fb9f3a"
             ],
             [
              0.8888888888888888,
              "#fdca26"
             ],
             [
              1,
              "#f0f921"
             ]
            ],
            "type": "contour"
           }
          ],
          "contourcarpet": [
           {
            "colorbar": {
             "outlinewidth": 0,
             "ticks": ""
            },
            "type": "contourcarpet"
           }
          ],
          "heatmap": [
           {
            "colorbar": {
             "outlinewidth": 0,
             "ticks": ""
            },
            "colorscale": [
             [
              0,
              "#0d0887"
             ],
             [
              0.1111111111111111,
              "#46039f"
             ],
             [
              0.2222222222222222,
              "#7201a8"
             ],
             [
              0.3333333333333333,
              "#9c179e"
             ],
             [
              0.4444444444444444,
              "#bd3786"
             ],
             [
              0.5555555555555556,
              "#d8576b"
             ],
             [
              0.6666666666666666,
              "#ed7953"
             ],
             [
              0.7777777777777778,
              "#fb9f3a"
             ],
             [
              0.8888888888888888,
              "#fdca26"
             ],
             [
              1,
              "#f0f921"
             ]
            ],
            "type": "heatmap"
           }
          ],
          "heatmapgl": [
           {
            "colorbar": {
             "outlinewidth": 0,
             "ticks": ""
            },
            "colorscale": [
             [
              0,
              "#0d0887"
             ],
             [
              0.1111111111111111,
              "#46039f"
             ],
             [
              0.2222222222222222,
              "#7201a8"
             ],
             [
              0.3333333333333333,
              "#9c179e"
             ],
             [
              0.4444444444444444,
              "#bd3786"
             ],
             [
              0.5555555555555556,
              "#d8576b"
             ],
             [
              0.6666666666666666,
              "#ed7953"
             ],
             [
              0.7777777777777778,
              "#fb9f3a"
             ],
             [
              0.8888888888888888,
              "#fdca26"
             ],
             [
              1,
              "#f0f921"
             ]
            ],
            "type": "heatmapgl"
           }
          ],
          "histogram": [
           {
            "marker": {
             "pattern": {
              "fillmode": "overlay",
              "size": 10,
              "solidity": 0.2
             }
            },
            "type": "histogram"
           }
          ],
          "histogram2d": [
           {
            "colorbar": {
             "outlinewidth": 0,
             "ticks": ""
            },
            "colorscale": [
             [
              0,
              "#0d0887"
             ],
             [
              0.1111111111111111,
              "#46039f"
             ],
             [
              0.2222222222222222,
              "#7201a8"
             ],
             [
              0.3333333333333333,
              "#9c179e"
             ],
             [
              0.4444444444444444,
              "#bd3786"
             ],
             [
              0.5555555555555556,
              "#d8576b"
             ],
             [
              0.6666666666666666,
              "#ed7953"
             ],
             [
              0.7777777777777778,
              "#fb9f3a"
             ],
             [
              0.8888888888888888,
              "#fdca26"
             ],
             [
              1,
              "#f0f921"
             ]
            ],
            "type": "histogram2d"
           }
          ],
          "histogram2dcontour": [
           {
            "colorbar": {
             "outlinewidth": 0,
             "ticks": ""
            },
            "colorscale": [
             [
              0,
              "#0d0887"
             ],
             [
              0.1111111111111111,
              "#46039f"
             ],
             [
              0.2222222222222222,
              "#7201a8"
             ],
             [
              0.3333333333333333,
              "#9c179e"
             ],
             [
              0.4444444444444444,
              "#bd3786"
             ],
             [
              0.5555555555555556,
              "#d8576b"
             ],
             [
              0.6666666666666666,
              "#ed7953"
             ],
             [
              0.7777777777777778,
              "#fb9f3a"
             ],
             [
              0.8888888888888888,
              "#fdca26"
             ],
             [
              1,
              "#f0f921"
             ]
            ],
            "type": "histogram2dcontour"
           }
          ],
          "mesh3d": [
           {
            "colorbar": {
             "outlinewidth": 0,
             "ticks": ""
            },
            "type": "mesh3d"
           }
          ],
          "parcoords": [
           {
            "line": {
             "colorbar": {
              "outlinewidth": 0,
              "ticks": ""
             }
            },
            "type": "parcoords"
           }
          ],
          "pie": [
           {
            "automargin": true,
            "type": "pie"
           }
          ],
          "scatter": [
           {
            "fillpattern": {
             "fillmode": "overlay",
             "size": 10,
             "solidity": 0.2
            },
            "type": "scatter"
           }
          ],
          "scatter3d": [
           {
            "line": {
             "colorbar": {
              "outlinewidth": 0,
              "ticks": ""
             }
            },
            "marker": {
             "colorbar": {
              "outlinewidth": 0,
              "ticks": ""
             }
            },
            "type": "scatter3d"
           }
          ],
          "scattercarpet": [
           {
            "marker": {
             "colorbar": {
              "outlinewidth": 0,
              "ticks": ""
             }
            },
            "type": "scattercarpet"
           }
          ],
          "scattergeo": [
           {
            "marker": {
             "colorbar": {
              "outlinewidth": 0,
              "ticks": ""
             }
            },
            "type": "scattergeo"
           }
          ],
          "scattergl": [
           {
            "marker": {
             "colorbar": {
              "outlinewidth": 0,
              "ticks": ""
             }
            },
            "type": "scattergl"
           }
          ],
          "scattermapbox": [
           {
            "marker": {
             "colorbar": {
              "outlinewidth": 0,
              "ticks": ""
             }
            },
            "type": "scattermapbox"
           }
          ],
          "scatterpolar": [
           {
            "marker": {
             "colorbar": {
              "outlinewidth": 0,
              "ticks": ""
             }
            },
            "type": "scatterpolar"
           }
          ],
          "scatterpolargl": [
           {
            "marker": {
             "colorbar": {
              "outlinewidth": 0,
              "ticks": ""
             }
            },
            "type": "scatterpolargl"
           }
          ],
          "scatterternary": [
           {
            "marker": {
             "colorbar": {
              "outlinewidth": 0,
              "ticks": ""
             }
            },
            "type": "scatterternary"
           }
          ],
          "surface": [
           {
            "colorbar": {
             "outlinewidth": 0,
             "ticks": ""
            },
            "colorscale": [
             [
              0,
              "#0d0887"
             ],
             [
              0.1111111111111111,
              "#46039f"
             ],
             [
              0.2222222222222222,
              "#7201a8"
             ],
             [
              0.3333333333333333,
              "#9c179e"
             ],
             [
              0.4444444444444444,
              "#bd3786"
             ],
             [
              0.5555555555555556,
              "#d8576b"
             ],
             [
              0.6666666666666666,
              "#ed7953"
             ],
             [
              0.7777777777777778,
              "#fb9f3a"
             ],
             [
              0.8888888888888888,
              "#fdca26"
             ],
             [
              1,
              "#f0f921"
             ]
            ],
            "type": "surface"
           }
          ],
          "table": [
           {
            "cells": {
             "fill": {
              "color": "#EBF0F8"
             },
             "line": {
              "color": "white"
             }
            },
            "header": {
             "fill": {
              "color": "#C8D4E3"
             },
             "line": {
              "color": "white"
             }
            },
            "type": "table"
           }
          ]
         },
         "layout": {
          "annotationdefaults": {
           "arrowcolor": "#2a3f5f",
           "arrowhead": 0,
           "arrowwidth": 1
          },
          "autotypenumbers": "strict",
          "coloraxis": {
           "colorbar": {
            "outlinewidth": 0,
            "ticks": ""
           }
          },
          "colorscale": {
           "diverging": [
            [
             0,
             "#8e0152"
            ],
            [
             0.1,
             "#c51b7d"
            ],
            [
             0.2,
             "#de77ae"
            ],
            [
             0.3,
             "#f1b6da"
            ],
            [
             0.4,
             "#fde0ef"
            ],
            [
             0.5,
             "#f7f7f7"
            ],
            [
             0.6,
             "#e6f5d0"
            ],
            [
             0.7,
             "#b8e186"
            ],
            [
             0.8,
             "#7fbc41"
            ],
            [
             0.9,
             "#4d9221"
            ],
            [
             1,
             "#276419"
            ]
           ],
           "sequential": [
            [
             0,
             "#0d0887"
            ],
            [
             0.1111111111111111,
             "#46039f"
            ],
            [
             0.2222222222222222,
             "#7201a8"
            ],
            [
             0.3333333333333333,
             "#9c179e"
            ],
            [
             0.4444444444444444,
             "#bd3786"
            ],
            [
             0.5555555555555556,
             "#d8576b"
            ],
            [
             0.6666666666666666,
             "#ed7953"
            ],
            [
             0.7777777777777778,
             "#fb9f3a"
            ],
            [
             0.8888888888888888,
             "#fdca26"
            ],
            [
             1,
             "#f0f921"
            ]
           ],
           "sequentialminus": [
            [
             0,
             "#0d0887"
            ],
            [
             0.1111111111111111,
             "#46039f"
            ],
            [
             0.2222222222222222,
             "#7201a8"
            ],
            [
             0.3333333333333333,
             "#9c179e"
            ],
            [
             0.4444444444444444,
             "#bd3786"
            ],
            [
             0.5555555555555556,
             "#d8576b"
            ],
            [
             0.6666666666666666,
             "#ed7953"
            ],
            [
             0.7777777777777778,
             "#fb9f3a"
            ],
            [
             0.8888888888888888,
             "#fdca26"
            ],
            [
             1,
             "#f0f921"
            ]
           ]
          },
          "colorway": [
           "#636efa",
           "#EF553B",
           "#00cc96",
           "#ab63fa",
           "#FFA15A",
           "#19d3f3",
           "#FF6692",
           "#B6E880",
           "#FF97FF",
           "#FECB52"
          ],
          "font": {
           "color": "#2a3f5f"
          },
          "geo": {
           "bgcolor": "white",
           "lakecolor": "white",
           "landcolor": "#E5ECF6",
           "showlakes": true,
           "showland": true,
           "subunitcolor": "white"
          },
          "hoverlabel": {
           "align": "left"
          },
          "hovermode": "closest",
          "mapbox": {
           "style": "light"
          },
          "paper_bgcolor": "white",
          "plot_bgcolor": "#E5ECF6",
          "polar": {
           "angularaxis": {
            "gridcolor": "white",
            "linecolor": "white",
            "ticks": ""
           },
           "bgcolor": "#E5ECF6",
           "radialaxis": {
            "gridcolor": "white",
            "linecolor": "white",
            "ticks": ""
           }
          },
          "scene": {
           "xaxis": {
            "backgroundcolor": "#E5ECF6",
            "gridcolor": "white",
            "gridwidth": 2,
            "linecolor": "white",
            "showbackground": true,
            "ticks": "",
            "zerolinecolor": "white"
           },
           "yaxis": {
            "backgroundcolor": "#E5ECF6",
            "gridcolor": "white",
            "gridwidth": 2,
            "linecolor": "white",
            "showbackground": true,
            "ticks": "",
            "zerolinecolor": "white"
           },
           "zaxis": {
            "backgroundcolor": "#E5ECF6",
            "gridcolor": "white",
            "gridwidth": 2,
            "linecolor": "white",
            "showbackground": true,
            "ticks": "",
            "zerolinecolor": "white"
           }
          },
          "shapedefaults": {
           "line": {
            "color": "#2a3f5f"
           }
          },
          "ternary": {
           "aaxis": {
            "gridcolor": "white",
            "linecolor": "white",
            "ticks": ""
           },
           "baxis": {
            "gridcolor": "white",
            "linecolor": "white",
            "ticks": ""
           },
           "bgcolor": "#E5ECF6",
           "caxis": {
            "gridcolor": "white",
            "linecolor": "white",
            "ticks": ""
           }
          },
          "title": {
           "x": 0.05
          },
          "xaxis": {
           "automargin": true,
           "gridcolor": "white",
           "linecolor": "white",
           "ticks": "",
           "title": {
            "standoff": 15
           },
           "zerolinecolor": "white",
           "zerolinewidth": 2
          },
          "yaxis": {
           "automargin": true,
           "gridcolor": "white",
           "linecolor": "white",
           "ticks": "",
           "title": {
            "standoff": 15
           },
           "zerolinecolor": "white",
           "zerolinewidth": 2
          }
         }
        },
        "title": {
         "text": "min_mpe vs. min_mpe_pixels circular-small"
        },
        "xaxis": {
         "anchor": "y",
         "domain": [
          0,
          1
         ],
         "title": {
          "text": "min_mpe"
         }
        },
        "yaxis": {
         "anchor": "x",
         "domain": [
          0,
          1
         ],
         "title": {
          "text": "min_mpe_pixels"
         }
        }
       }
      }
     },
     "metadata": {},
     "output_type": "display_data"
    },
    {
     "data": {
      "application/vnd.plotly.v1+json": {
       "config": {
        "plotlyServerURL": "https://plot.ly"
       },
       "data": [
        {
         "customdata": [
          [
           "full body:undistorted_GX010152_36_378.jpg_gamma",
           "Prawn_0"
          ],
          [
           "full body:undistorted_GX010152_36_378.jpg_gamma",
           "Prawn_1"
          ],
          [
           "full body:undistorted_GX010157_160_2259",
           "Prawn_0"
          ],
          [
           "full body:undistorted_GX010157_174_2582.jpg_gamma",
           "Prawn_0"
          ],
          [
           "full body:undistorted_GX010157_177_2665.jpg_gamma",
           "Prawn_0"
          ],
          [
           "full body:undistorted_GX010161_54_676.jpg_gamma.jpg_gamma",
           "Prawn_0"
          ],
          [
           "full body:undistorted_GX010162_72_927.jpg_gamma.jpg_gamma",
           "Prawn_0"
          ],
          [
           "full body:undistorted_GX010174_62_790.jpg_gamma",
           "Prawn_0"
          ],
          [
           "full body:undistorted_GX010175_266_3372.jpg_gamma.jpg_gamma",
           "Prawn_0"
          ],
          [
           "full body:undistorted_GX010177_232_3047",
           "Prawn_0"
          ],
          [
           "full body:undistorted_GX010178_172_3604.jpg_gamma",
           "Prawn_0"
          ],
          [
           "full body:undistorted_GX010183_37_685.jpg_gamma",
           "Prawn_0"
          ],
          [
           "full body:undistorted_GX010183_80_1633.jpg_gamma",
           "Prawn_0"
          ],
          [
           "full body:undistorted_GX010183_128_2852.jpg_gamma",
           "Prawn_0"
          ]
         ],
         "hovertemplate": "min_mpe=%{x}<br>min_mpe_pixels=%{y}<br>Label=%{customdata[0]}<br>PrawnID=%{customdata[1]}<extra></extra>",
         "legendgroup": "",
         "marker": {
          "color": "#636efa",
          "symbol": "circle"
         },
         "mode": "markers",
         "name": "",
         "orientation": "v",
         "showlegend": false,
         "type": "scatter",
         "x": [
          0.9388052742723175,
          4.3764895603878,
          4.705978106553222,
          1.296063456460069,
          0.6056386868811566,
          6.078122484892265,
          5.15765909020042,
          0.8808650933232919,
          0.1974332611938016,
          7.139254068718754,
          0.9213217027069058,
          1.721087643436768,
          2.124052760638611,
          4.025913206838674
         ],
         "xaxis": "x",
         "y": [
          7.09343797410378,
          15.24698283582091,
          1.793462869398667,
          1.932398625958991,
          10.9788339630597,
          3.74007539892663,
          0.6916285701722816,
          4.240745578987989,
          2.383726377917921,
          7.470823802020372,
          0.7451242053531523,
          2.348908172385136,
          2.758561866710078,
          0.2111397158470358
         ],
         "yaxis": "y"
        }
       ],
       "layout": {
        "legend": {
         "tracegroupgap": 0
        },
        "margin": {
         "t": 60
        },
        "template": {
         "data": {
          "bar": [
           {
            "error_x": {
             "color": "#2a3f5f"
            },
            "error_y": {
             "color": "#2a3f5f"
            },
            "marker": {
             "line": {
              "color": "#E5ECF6",
              "width": 0.5
             },
             "pattern": {
              "fillmode": "overlay",
              "size": 10,
              "solidity": 0.2
             }
            },
            "type": "bar"
           }
          ],
          "barpolar": [
           {
            "marker": {
             "line": {
              "color": "#E5ECF6",
              "width": 0.5
             },
             "pattern": {
              "fillmode": "overlay",
              "size": 10,
              "solidity": 0.2
             }
            },
            "type": "barpolar"
           }
          ],
          "carpet": [
           {
            "aaxis": {
             "endlinecolor": "#2a3f5f",
             "gridcolor": "white",
             "linecolor": "white",
             "minorgridcolor": "white",
             "startlinecolor": "#2a3f5f"
            },
            "baxis": {
             "endlinecolor": "#2a3f5f",
             "gridcolor": "white",
             "linecolor": "white",
             "minorgridcolor": "white",
             "startlinecolor": "#2a3f5f"
            },
            "type": "carpet"
           }
          ],
          "choropleth": [
           {
            "colorbar": {
             "outlinewidth": 0,
             "ticks": ""
            },
            "type": "choropleth"
           }
          ],
          "contour": [
           {
            "colorbar": {
             "outlinewidth": 0,
             "ticks": ""
            },
            "colorscale": [
             [
              0,
              "#0d0887"
             ],
             [
              0.1111111111111111,
              "#46039f"
             ],
             [
              0.2222222222222222,
              "#7201a8"
             ],
             [
              0.3333333333333333,
              "#9c179e"
             ],
             [
              0.4444444444444444,
              "#bd3786"
             ],
             [
              0.5555555555555556,
              "#d8576b"
             ],
             [
              0.6666666666666666,
              "#ed7953"
             ],
             [
              0.7777777777777778,
              "#fb9f3a"
             ],
             [
              0.8888888888888888,
              "#fdca26"
             ],
             [
              1,
              "#f0f921"
             ]
            ],
            "type": "contour"
           }
          ],
          "contourcarpet": [
           {
            "colorbar": {
             "outlinewidth": 0,
             "ticks": ""
            },
            "type": "contourcarpet"
           }
          ],
          "heatmap": [
           {
            "colorbar": {
             "outlinewidth": 0,
             "ticks": ""
            },
            "colorscale": [
             [
              0,
              "#0d0887"
             ],
             [
              0.1111111111111111,
              "#46039f"
             ],
             [
              0.2222222222222222,
              "#7201a8"
             ],
             [
              0.3333333333333333,
              "#9c179e"
             ],
             [
              0.4444444444444444,
              "#bd3786"
             ],
             [
              0.5555555555555556,
              "#d8576b"
             ],
             [
              0.6666666666666666,
              "#ed7953"
             ],
             [
              0.7777777777777778,
              "#fb9f3a"
             ],
             [
              0.8888888888888888,
              "#fdca26"
             ],
             [
              1,
              "#f0f921"
             ]
            ],
            "type": "heatmap"
           }
          ],
          "heatmapgl": [
           {
            "colorbar": {
             "outlinewidth": 0,
             "ticks": ""
            },
            "colorscale": [
             [
              0,
              "#0d0887"
             ],
             [
              0.1111111111111111,
              "#46039f"
             ],
             [
              0.2222222222222222,
              "#7201a8"
             ],
             [
              0.3333333333333333,
              "#9c179e"
             ],
             [
              0.4444444444444444,
              "#bd3786"
             ],
             [
              0.5555555555555556,
              "#d8576b"
             ],
             [
              0.6666666666666666,
              "#ed7953"
             ],
             [
              0.7777777777777778,
              "#fb9f3a"
             ],
             [
              0.8888888888888888,
              "#fdca26"
             ],
             [
              1,
              "#f0f921"
             ]
            ],
            "type": "heatmapgl"
           }
          ],
          "histogram": [
           {
            "marker": {
             "pattern": {
              "fillmode": "overlay",
              "size": 10,
              "solidity": 0.2
             }
            },
            "type": "histogram"
           }
          ],
          "histogram2d": [
           {
            "colorbar": {
             "outlinewidth": 0,
             "ticks": ""
            },
            "colorscale": [
             [
              0,
              "#0d0887"
             ],
             [
              0.1111111111111111,
              "#46039f"
             ],
             [
              0.2222222222222222,
              "#7201a8"
             ],
             [
              0.3333333333333333,
              "#9c179e"
             ],
             [
              0.4444444444444444,
              "#bd3786"
             ],
             [
              0.5555555555555556,
              "#d8576b"
             ],
             [
              0.6666666666666666,
              "#ed7953"
             ],
             [
              0.7777777777777778,
              "#fb9f3a"
             ],
             [
              0.8888888888888888,
              "#fdca26"
             ],
             [
              1,
              "#f0f921"
             ]
            ],
            "type": "histogram2d"
           }
          ],
          "histogram2dcontour": [
           {
            "colorbar": {
             "outlinewidth": 0,
             "ticks": ""
            },
            "colorscale": [
             [
              0,
              "#0d0887"
             ],
             [
              0.1111111111111111,
              "#46039f"
             ],
             [
              0.2222222222222222,
              "#7201a8"
             ],
             [
              0.3333333333333333,
              "#9c179e"
             ],
             [
              0.4444444444444444,
              "#bd3786"
             ],
             [
              0.5555555555555556,
              "#d8576b"
             ],
             [
              0.6666666666666666,
              "#ed7953"
             ],
             [
              0.7777777777777778,
              "#fb9f3a"
             ],
             [
              0.8888888888888888,
              "#fdca26"
             ],
             [
              1,
              "#f0f921"
             ]
            ],
            "type": "histogram2dcontour"
           }
          ],
          "mesh3d": [
           {
            "colorbar": {
             "outlinewidth": 0,
             "ticks": ""
            },
            "type": "mesh3d"
           }
          ],
          "parcoords": [
           {
            "line": {
             "colorbar": {
              "outlinewidth": 0,
              "ticks": ""
             }
            },
            "type": "parcoords"
           }
          ],
          "pie": [
           {
            "automargin": true,
            "type": "pie"
           }
          ],
          "scatter": [
           {
            "fillpattern": {
             "fillmode": "overlay",
             "size": 10,
             "solidity": 0.2
            },
            "type": "scatter"
           }
          ],
          "scatter3d": [
           {
            "line": {
             "colorbar": {
              "outlinewidth": 0,
              "ticks": ""
             }
            },
            "marker": {
             "colorbar": {
              "outlinewidth": 0,
              "ticks": ""
             }
            },
            "type": "scatter3d"
           }
          ],
          "scattercarpet": [
           {
            "marker": {
             "colorbar": {
              "outlinewidth": 0,
              "ticks": ""
             }
            },
            "type": "scattercarpet"
           }
          ],
          "scattergeo": [
           {
            "marker": {
             "colorbar": {
              "outlinewidth": 0,
              "ticks": ""
             }
            },
            "type": "scattergeo"
           }
          ],
          "scattergl": [
           {
            "marker": {
             "colorbar": {
              "outlinewidth": 0,
              "ticks": ""
             }
            },
            "type": "scattergl"
           }
          ],
          "scattermapbox": [
           {
            "marker": {
             "colorbar": {
              "outlinewidth": 0,
              "ticks": ""
             }
            },
            "type": "scattermapbox"
           }
          ],
          "scatterpolar": [
           {
            "marker": {
             "colorbar": {
              "outlinewidth": 0,
              "ticks": ""
             }
            },
            "type": "scatterpolar"
           }
          ],
          "scatterpolargl": [
           {
            "marker": {
             "colorbar": {
              "outlinewidth": 0,
              "ticks": ""
             }
            },
            "type": "scatterpolargl"
           }
          ],
          "scatterternary": [
           {
            "marker": {
             "colorbar": {
              "outlinewidth": 0,
              "ticks": ""
             }
            },
            "type": "scatterternary"
           }
          ],
          "surface": [
           {
            "colorbar": {
             "outlinewidth": 0,
             "ticks": ""
            },
            "colorscale": [
             [
              0,
              "#0d0887"
             ],
             [
              0.1111111111111111,
              "#46039f"
             ],
             [
              0.2222222222222222,
              "#7201a8"
             ],
             [
              0.3333333333333333,
              "#9c179e"
             ],
             [
              0.4444444444444444,
              "#bd3786"
             ],
             [
              0.5555555555555556,
              "#d8576b"
             ],
             [
              0.6666666666666666,
              "#ed7953"
             ],
             [
              0.7777777777777778,
              "#fb9f3a"
             ],
             [
              0.8888888888888888,
              "#fdca26"
             ],
             [
              1,
              "#f0f921"
             ]
            ],
            "type": "surface"
           }
          ],
          "table": [
           {
            "cells": {
             "fill": {
              "color": "#EBF0F8"
             },
             "line": {
              "color": "white"
             }
            },
            "header": {
             "fill": {
              "color": "#C8D4E3"
             },
             "line": {
              "color": "white"
             }
            },
            "type": "table"
           }
          ]
         },
         "layout": {
          "annotationdefaults": {
           "arrowcolor": "#2a3f5f",
           "arrowhead": 0,
           "arrowwidth": 1
          },
          "autotypenumbers": "strict",
          "coloraxis": {
           "colorbar": {
            "outlinewidth": 0,
            "ticks": ""
           }
          },
          "colorscale": {
           "diverging": [
            [
             0,
             "#8e0152"
            ],
            [
             0.1,
             "#c51b7d"
            ],
            [
             0.2,
             "#de77ae"
            ],
            [
             0.3,
             "#f1b6da"
            ],
            [
             0.4,
             "#fde0ef"
            ],
            [
             0.5,
             "#f7f7f7"
            ],
            [
             0.6,
             "#e6f5d0"
            ],
            [
             0.7,
             "#b8e186"
            ],
            [
             0.8,
             "#7fbc41"
            ],
            [
             0.9,
             "#4d9221"
            ],
            [
             1,
             "#276419"
            ]
           ],
           "sequential": [
            [
             0,
             "#0d0887"
            ],
            [
             0.1111111111111111,
             "#46039f"
            ],
            [
             0.2222222222222222,
             "#7201a8"
            ],
            [
             0.3333333333333333,
             "#9c179e"
            ],
            [
             0.4444444444444444,
             "#bd3786"
            ],
            [
             0.5555555555555556,
             "#d8576b"
            ],
            [
             0.6666666666666666,
             "#ed7953"
            ],
            [
             0.7777777777777778,
             "#fb9f3a"
            ],
            [
             0.8888888888888888,
             "#fdca26"
            ],
            [
             1,
             "#f0f921"
            ]
           ],
           "sequentialminus": [
            [
             0,
             "#0d0887"
            ],
            [
             0.1111111111111111,
             "#46039f"
            ],
            [
             0.2222222222222222,
             "#7201a8"
            ],
            [
             0.3333333333333333,
             "#9c179e"
            ],
            [
             0.4444444444444444,
             "#bd3786"
            ],
            [
             0.5555555555555556,
             "#d8576b"
            ],
            [
             0.6666666666666666,
             "#ed7953"
            ],
            [
             0.7777777777777778,
             "#fb9f3a"
            ],
            [
             0.8888888888888888,
             "#fdca26"
            ],
            [
             1,
             "#f0f921"
            ]
           ]
          },
          "colorway": [
           "#636efa",
           "#EF553B",
           "#00cc96",
           "#ab63fa",
           "#FFA15A",
           "#19d3f3",
           "#FF6692",
           "#B6E880",
           "#FF97FF",
           "#FECB52"
          ],
          "font": {
           "color": "#2a3f5f"
          },
          "geo": {
           "bgcolor": "white",
           "lakecolor": "white",
           "landcolor": "#E5ECF6",
           "showlakes": true,
           "showland": true,
           "subunitcolor": "white"
          },
          "hoverlabel": {
           "align": "left"
          },
          "hovermode": "closest",
          "mapbox": {
           "style": "light"
          },
          "paper_bgcolor": "white",
          "plot_bgcolor": "#E5ECF6",
          "polar": {
           "angularaxis": {
            "gridcolor": "white",
            "linecolor": "white",
            "ticks": ""
           },
           "bgcolor": "#E5ECF6",
           "radialaxis": {
            "gridcolor": "white",
            "linecolor": "white",
            "ticks": ""
           }
          },
          "scene": {
           "xaxis": {
            "backgroundcolor": "#E5ECF6",
            "gridcolor": "white",
            "gridwidth": 2,
            "linecolor": "white",
            "showbackground": true,
            "ticks": "",
            "zerolinecolor": "white"
           },
           "yaxis": {
            "backgroundcolor": "#E5ECF6",
            "gridcolor": "white",
            "gridwidth": 2,
            "linecolor": "white",
            "showbackground": true,
            "ticks": "",
            "zerolinecolor": "white"
           },
           "zaxis": {
            "backgroundcolor": "#E5ECF6",
            "gridcolor": "white",
            "gridwidth": 2,
            "linecolor": "white",
            "showbackground": true,
            "ticks": "",
            "zerolinecolor": "white"
           }
          },
          "shapedefaults": {
           "line": {
            "color": "#2a3f5f"
           }
          },
          "ternary": {
           "aaxis": {
            "gridcolor": "white",
            "linecolor": "white",
            "ticks": ""
           },
           "baxis": {
            "gridcolor": "white",
            "linecolor": "white",
            "ticks": ""
           },
           "bgcolor": "#E5ECF6",
           "caxis": {
            "gridcolor": "white",
            "linecolor": "white",
            "ticks": ""
           }
          },
          "title": {
           "x": 0.05
          },
          "xaxis": {
           "automargin": true,
           "gridcolor": "white",
           "linecolor": "white",
           "ticks": "",
           "title": {
            "standoff": 15
           },
           "zerolinecolor": "white",
           "zerolinewidth": 2
          },
          "yaxis": {
           "automargin": true,
           "gridcolor": "white",
           "linecolor": "white",
           "ticks": "",
           "title": {
            "standoff": 15
           },
           "zerolinecolor": "white",
           "zerolinewidth": 2
          }
         }
        },
        "title": {
         "text": "min_mpe vs. min_mpe_pixels square-female"
        },
        "xaxis": {
         "anchor": "y",
         "domain": [
          0,
          1
         ],
         "title": {
          "text": "min_mpe"
         }
        },
        "yaxis": {
         "anchor": "x",
         "domain": [
          0,
          1
         ],
         "title": {
          "text": "min_mpe_pixels"
         }
        }
       }
      }
     },
     "metadata": {},
     "output_type": "display_data"
    }
   ],
   "source": [
    "#relationship between min_mpe and min_mpe_of_pixels\n",
    "for pond_type in df['PondType'].unique():\n",
    "\n",
    "    fig = px.scatter(df[df['PondType'] == pond_type], x='min_mpe', y='min_mpe_pixels',hover_data=['Label', 'PrawnID'])\n",
    "    #add title\n",
    "    fig.update_layout(title=f'min_mpe vs. min_mpe_pixels {pond_type}')\n",
    "\n",
    "    #save the plot to png\n",
    "    fig.write_image(f'full body_min_mpe vs. min_mpe_pixels {pond_type}.png')\n",
    "    # Add a trendline\n",
    "    fig.show()\n"
   ]
  },
  {
   "cell_type": "code",
   "execution_count": 11,
   "metadata": {},
   "outputs": [
    {
     "data": {
      "application/vnd.plotly.v1+json": {
       "config": {
        "plotlyServerURL": "https://plot.ly"
       },
       "data": [
        {
         "customdata": [
          [
           "full body:undistorted_GX010077_14_237.jpg_gamma",
           "Prawn_0"
          ],
          [
           "full body:undistorted_GX010077_14_237.jpg_gamma",
           "Prawn_1"
          ],
          [
           "full body:undistorted_GX010077_14_237.jpg_gamma",
           "Prawn_2"
          ],
          [
           "full body:undistorted_GX010067_33_625.jpg_gamma",
           "Prawn_0"
          ],
          [
           "full body:undistorted_GX010067_33_625.jpg_gamma",
           "Prawn_1"
          ],
          [
           "full body:undistorted_GX010067_33_625.jpg_gamma",
           "Prawn_2"
          ],
          [
           "full body:undistorted_GX010067_33_625.jpg_gamma",
           "Prawn_3"
          ],
          [
           "full body:undistorted_GX010068_26_666.jpg_gamma",
           "Prawn_0"
          ],
          [
           "full body:undistorted_GX010068_26_666.jpg_gamma",
           "Prawn_1"
          ],
          [
           "full body:undistorted_GX010068_26_666.jpg_gamma",
           "Prawn_2"
          ],
          [
           "full body:undistorted_GX010068_27_795.jpg_gamma",
           "Prawn_0"
          ],
          [
           "full body:undistorted_GX010068_27_795.jpg_gamma",
           "Prawn_1"
          ],
          [
           "full body:undistorted_GX010069_19_191.jpg_gamma",
           "Prawn_0"
          ],
          [
           "full body:undistorted_GX010069_19_191.jpg_gamma",
           "Prawn_1"
          ],
          [
           "full body:undistorted_GX010069_19_191.jpg_gamma",
           "Prawn_2"
          ],
          [
           "full body:undistorted_GX010069_19_191.jpg_gamma",
           "Prawn_3"
          ],
          [
           "full body:undistorted_GX010071_22_444.jpg_gamma",
           "Prawn_0"
          ],
          [
           "full body:undistorted_GX010071_22_444.jpg_gamma",
           "Prawn_1"
          ],
          [
           "full body:undistorted_GX010073_42_695.jpg_gamma",
           "Prawn_0"
          ],
          [
           "full body:undistorted_GX010073_42_695.jpg_gamma",
           "Prawn_1"
          ],
          [
           "full body:undistorted_GX010073_42_695.jpg_gamma",
           "Prawn_2"
          ],
          [
           "full body:undistorted_GX010073_55_1014.jpg_gamma",
           "Prawn_0"
          ],
          [
           "full body:undistorted_GX010073_55_1014.jpg_gamma",
           "Prawn_1"
          ],
          [
           "full body:undistorted_GX010073_55_1014.jpg_gamma",
           "Prawn_2"
          ],
          [
           "full body:undistorted_GX010080_157_2283.jpg_gamma",
           "Prawn_0"
          ],
          [
           "full body:undistorted_GX010080_157_2283.jpg_gamma",
           "Prawn_2"
          ],
          [
           "full body:undistorted_GX010080_157_2283.jpg_gamma",
           "Prawn_3"
          ],
          [
           "full body:undistorted_GX010080_193_2640.jpg_gamma",
           "Prawn_0"
          ],
          [
           "full body:undistorted_GX010080_193_2640.jpg_gamma",
           "Prawn_1"
          ],
          [
           "full body:undistorted_GX010080_193_2640.jpg_gamma",
           "Prawn_2"
          ],
          [
           "full body:undistorted_GX010080_193_2640.jpg_gamma",
           "Prawn_3"
          ],
          [
           "full body:undistorted_GX010080_193_2640.jpg_gamma",
           "Prawn_4"
          ],
          [
           "full body:undistorted_GX010080_212_2954.jpg_gamma",
           "Prawn_0"
          ],
          [
           "full body:undistorted_GX010080_212_2954.jpg_gamma",
           "Prawn_1"
          ],
          [
           "full body:undistorted_GX010080_212_2954.jpg_gamma",
           "Prawn_2"
          ],
          [
           "full body:undistorted_GX010080_237_3366.jpg_gamma",
           "Prawn_0"
          ],
          [
           "full body:undistorted_GX010080_237_3366.jpg_gamma",
           "Prawn_1"
          ],
          [
           "full body:undistorted_GX010080_237_3366.jpg_gamma",
           "Prawn_2"
          ],
          [
           "full body:undistorted_GX010080_237_3366.jpg_gamma",
           "Prawn_3"
          ],
          [
           "full body:undistorted_GX010080_237_3366.jpg_gamma",
           "Prawn_4"
          ],
          [
           "full body:undistorted_GX010080_238_3392.jpg_gamma",
           "Prawn_0"
          ],
          [
           "full body:undistorted_GX010080_238_3392.jpg_gamma",
           "Prawn_1"
          ],
          [
           "full body:undistorted_GX010080_238_3392.jpg_gamma",
           "Prawn_2"
          ],
          [
           "full body:undistorted_GX010080_238_3392.jpg_gamma",
           "Prawn_3"
          ],
          [
           "full body:undistorted_GX010082_8_59.jpg_gamma",
           "Prawn_1"
          ],
          [
           "full body:undistorted_GX010082_8_59.jpg_gamma",
           "Prawn_2"
          ],
          [
           "full body:undistorted_GX010082_8_59.jpg_gamma",
           "Prawn_3"
          ],
          [
           "full body:undistorted_GX010082_8_59.jpg_gamma",
           "Prawn_4"
          ],
          [
           "full body:undistorted_GX010082_53_796.jpg_gamma",
           "Prawn_0"
          ],
          [
           "full body:undistorted_GX010082_53_796.jpg_gamma",
           "Prawn_1"
          ],
          [
           "full body:undistorted_GX010082_65_1070.jpg_gamma",
           "Prawn_0"
          ],
          [
           "full body:undistorted_GX010082_65_1070.jpg_gamma",
           "Prawn_1"
          ],
          [
           "full body:undistorted_GX010082_65_1070.jpg_gamma",
           "Prawn_2"
          ],
          [
           "full body:undistorted_GX010082_236_3137.jpg_gamma",
           "Prawn_0"
          ],
          [
           "full body:undistorted_GX010082_236_3137.jpg_gamma",
           "Prawn_1"
          ],
          [
           "full body:undistorted_GX010082_236_3137.jpg_gamma",
           "Prawn_2"
          ],
          [
           "full body:undistorted_GX010084_30_344.jpg_gamma",
           "Prawn_0"
          ],
          [
           "full body:undistorted_GX010084_30_344.jpg_gamma",
           "Prawn_1"
          ],
          [
           "full body:undistorted_GX010084_30_344.jpg_gamma",
           "Prawn_2"
          ],
          [
           "full body:undistorted_GX010084_30_344.jpg_gamma",
           "Prawn_3"
          ],
          [
           "full body:undistorted_GX010084_130_1748.jpg_gamma",
           "Prawn_0"
          ],
          [
           "full body:undistorted_GX010084_130_1748.jpg_gamma",
           "Prawn_1"
          ],
          [
           "full body:undistorted_GX010084_130_1748.jpg_gamma",
           "Prawn_2"
          ],
          [
           "full body:undistorted_GX010085_261_3610.jpg_gamma",
           "Prawn_0"
          ],
          [
           "full body:undistorted_GX010085_261_3610.jpg_gamma",
           "Prawn_1"
          ],
          [
           "full body:undistorted_GX010088_209_2904.jpg_gamma",
           "Prawn_0"
          ],
          [
           "full body:undistorted_GX010088_209_2904.jpg_gamma",
           "Prawn_1"
          ],
          [
           "full body:undistorted_GX010088_262_3712.jpg_gamma",
           "Prawn_0"
          ],
          [
           "full body:undistorted_GX010088_262_3712.jpg_gamma",
           "Prawn_1"
          ],
          [
           "full body:undistorted_GX010088_262_3712.jpg_gamma",
           "Prawn_2"
          ],
          [
           "full body:undistorted_GX010088_327_4364.jpg_gamma",
           "Prawn_0"
          ],
          [
           "full body:undistorted_GX010088_327_4364.jpg_gamma",
           "Prawn_1"
          ],
          [
           "full body:undistorted_GX010088_327_4364.jpg_gamma",
           "Prawn_2"
          ],
          [
           "full body:undistorted_GX010088_327_4364.jpg_gamma",
           "Prawn_3"
          ],
          [
           "full body:undistorted_GX010089_11_236.jpg_gamma",
           "Prawn_0"
          ],
          [
           "full body:undistorted_GX010089_11_236.jpg_gamma",
           "Prawn_1"
          ],
          [
           "full body:undistorted_GX010089_11_236.jpg_gamma",
           "Prawn_2"
          ],
          [
           "full body:undistorted_GX010089_11_236.jpg_gamma",
           "Prawn_3"
          ],
          [
           "full body:undistorted_GX010090_132_1852.jpg_gamma",
           "Prawn_0"
          ],
          [
           "full body:undistorted_GX010091_5_149.jpg_gamma",
           "Prawn_0"
          ],
          [
           "full body:undistorted_GX010091_5_149.jpg_gamma",
           "Prawn_1"
          ],
          [
           "full body:undistorted_GX010091_5_149.jpg_gamma",
           "Prawn_2"
          ],
          [
           "full body:undistorted_GX010094_9_129.jpg_gamma",
           "Prawn_0"
          ],
          [
           "full body:undistorted_GX010094_9_129.jpg_gamma",
           "Prawn_1"
          ],
          [
           "full body:undistorted_GX010094_24_430.jpg_gamma",
           "Prawn_0"
          ],
          [
           "full body:undistorted_GX010094_93_1258.jpg_gamma",
           "Prawn_0"
          ],
          [
           "full body:undistorted_GX010094_163_2312.jpg_gamma",
           "Prawn_0"
          ],
          [
           "full body:undistorted_GX010097_32_528.jpg_gamma",
           "Prawn_0"
          ],
          [
           "full body:undistorted_GX010097_32_528.jpg_gamma",
           "Prawn_1"
          ],
          [
           "full body:undistorted_GX010097_60_1080.jpg_gamma",
           "Prawn_0"
          ],
          [
           "full body:undistorted_GX010097_60_1080.jpg_gamma",
           "Prawn_1"
          ],
          [
           "full body:undistorted_GX010097_60_1080.jpg_gamma",
           "Prawn_2"
          ],
          [
           "full body:undistorted_GX010097_60_1080.jpg_gamma",
           "Prawn_3"
          ],
          [
           "full body:undistorted_GX010097_105_1651.jpg_gamma",
           "Prawn_0"
          ],
          [
           "full body:undistorted_GX010097_105_1651.jpg_gamma",
           "Prawn_1"
          ],
          [
           "full body:undistorted_GX010097_105_1651.jpg_gamma",
           "Prawn_2"
          ],
          [
           "full body:undistorted_GX010097_105_1651.jpg_gamma",
           "Prawn_3"
          ],
          [
           "full body:undistorted_GX010097_124_1870.jpg_gamma",
           "Prawn_0"
          ],
          [
           "full body:undistorted_GX010097_124_1870.jpg_gamma",
           "Prawn_1"
          ],
          [
           "full body:undistorted_GX010101_12_173.jpg_gamma",
           "Prawn_0"
          ],
          [
           "full body:undistorted_GX010102_9_165.jpg_gamma",
           "Prawn_1"
          ],
          [
           "full body:undistorted_GX010102_9_165.jpg_gamma",
           "Prawn_2"
          ],
          [
           "full body:undistorted_GX010102_9_165.jpg_gamma",
           "Prawn_3"
          ],
          [
           "full body:undistorted_GX010102_9_165.jpg_gamma",
           "Prawn_4"
          ],
          [
           "full body:undistorted_GX010102_9_165.jpg_gamma",
           "Prawn_5"
          ],
          [
           "full body:undistorted_GX010102_50_1396.jpg_gamma",
           "Prawn_0"
          ],
          [
           "full body:undistorted_GX010105_28_816.jpg_gamma",
           "Prawn_0"
          ],
          [
           "full body:undistorted_GX010105_28_816.jpg_gamma",
           "Prawn_1"
          ],
          [
           "full body:undistorted_GX010152_36_378.jpg_gamma",
           "Prawn_0"
          ],
          [
           "full body:undistorted_GX010152_36_378.jpg_gamma",
           "Prawn_1"
          ],
          [
           "full body:undistorted_GX010157_160_2259",
           "Prawn_0"
          ],
          [
           "full body:undistorted_GX010157_174_2582.jpg_gamma",
           "Prawn_0"
          ],
          [
           "full body:undistorted_GX010157_177_2665.jpg_gamma",
           "Prawn_0"
          ],
          [
           "full body:undistorted_GX010161_54_676.jpg_gamma.jpg_gamma",
           "Prawn_0"
          ],
          [
           "full body:undistorted_GX010162_72_927.jpg_gamma.jpg_gamma",
           "Prawn_0"
          ],
          [
           "full body:undistorted_GX010174_62_790.jpg_gamma",
           "Prawn_0"
          ],
          [
           "full body:undistorted_GX010175_266_3372.jpg_gamma.jpg_gamma",
           "Prawn_0"
          ],
          [
           "full body:undistorted_GX010177_232_3047",
           "Prawn_0"
          ],
          [
           "full body:undistorted_GX010178_172_3604.jpg_gamma",
           "Prawn_0"
          ],
          [
           "full body:undistorted_GX010183_37_685.jpg_gamma",
           "Prawn_0"
          ],
          [
           "full body:undistorted_GX010183_80_1633.jpg_gamma",
           "Prawn_0"
          ],
          [
           "full body:undistorted_GX010183_128_2852.jpg_gamma",
           "Prawn_0"
          ]
         ],
         "hovertemplate": "Height_mm=%{x}<br>min_mae=%{y}<br>Label=%{customdata[0]}<br>PrawnID=%{customdata[1]}<extra></extra>",
         "legendgroup": "",
         "marker": {
          "color": "#636efa",
          "symbol": "circle"
         },
         "mode": "markers",
         "name": "",
         "orientation": "v",
         "showlegend": false,
         "type": "scatter",
         "x": [
          650,
          650,
          650,
          650,
          650,
          650,
          650,
          650,
          650,
          650,
          650,
          650,
          650,
          650,
          650,
          650,
          650,
          650,
          650,
          650,
          650,
          650,
          650,
          650,
          650,
          650,
          650,
          650,
          650,
          650,
          650,
          650,
          650,
          650,
          650,
          650,
          650,
          650,
          650,
          650,
          650,
          650,
          650,
          650,
          650,
          650,
          650,
          650,
          650,
          650,
          650,
          650,
          650,
          650,
          650,
          650,
          650,
          650,
          650,
          650,
          650,
          650,
          650,
          650,
          650,
          650,
          650,
          650,
          650,
          650,
          650,
          650,
          650,
          650,
          700,
          700,
          700,
          700,
          650,
          700,
          700,
          700,
          650,
          650,
          650,
          650,
          650,
          650,
          650,
          650,
          650,
          650,
          650,
          650,
          650,
          650,
          650,
          650,
          650,
          650,
          760,
          760,
          760,
          760,
          760,
          760,
          760,
          760,
          415,
          415,
          415,
          415,
          415,
          400,
          400,
          370,
          385,
          385,
          455,
          455,
          455,
          455
         ],
         "xaxis": "x",
         "y": [
          4.731451607420922,
          10.76005621878703,
          1.775644547862981,
          9.11540685296805,
          1.046793588607059,
          3.527822675504837,
          8.822447763821685,
          12.54596300169466,
          16.31505110771728,
          8.96639062831261,
          4.610948833937044,
          1.829131432664127,
          0.9058763041410174,
          14.197675426651,
          15.75524293855288,
          14.15285380669994,
          12.40499319663823,
          1.375186642114812,
          17.21455914689275,
          4.551944784594582,
          3.684981306676463,
          5.554561875542518,
          6.878248168471998,
          20.52075747698053,
          32.64374405621471,
          31.00323414603047,
          27.67900841073204,
          21.89686934318435,
          14.36696131696877,
          21.1844114250483,
          8.922521007331511,
          24.61661874600227,
          23.33404740082814,
          11.39073374181663,
          3.050231364605196,
          12.81730867164907,
          20.16489353278465,
          14.55604186488075,
          6.054335488347562,
          3.160340153199769,
          13.81741506886621,
          21.36396216254471,
          9.383055686515874,
          15.01645529005637,
          2.272952540973762,
          1.603437866759464,
          3.728410522143207,
          11.61538009840291,
          5.118400050384338,
          1.507178634847207,
          19.10065251434079,
          37.06832167606208,
          17.78131526812157,
          18.18529362354461,
          30.15591093539877,
          0.0679430742152789,
          8.535333986370546,
          6.703090000091578,
          2.090211591170316,
          12.40418311818536,
          4.407592832592684,
          11.40166156483927,
          0.7753151094987061,
          19.5432117676724,
          2.696372176450382,
          11.2420185038287,
          4.545966809780964,
          2.527546290406519,
          3.471646184410645,
          4.814604159000567,
          7.936016852181666,
          11.22326994207236,
          6.286359230620533,
          1.766332906722226,
          24.38975711162612,
          17.08713097593247,
          21.47069998942331,
          2.509125396106931,
          11.67725961676365,
          18.47246068911301,
          14.87510242154835,
          37.38806516432776,
          11.90711001051625,
          14.43638293258064,
          11.20135580790574,
          0.1318451817630688,
          14.86098675165017,
          12.99220782091001,
          63.53548642613654,
          19.13212791819919,
          13.05857252013507,
          36.01054396560716,
          2.581852391645782,
          42.88860399861798,
          15.97980044886523,
          28.50974788376941,
          43.65236606989079,
          27.45676340040215,
          13.61506277970771,
          2.999258159698996,
          21.80109689598581,
          49.15371209933767,
          37.45571209933767,
          20.65896523765601,
          18.34599538573427,
          20.87895544962726,
          15.46606788390365,
          23.97434583644564,
          0.9973022309122257,
          5.526412192379695,
          4.937276930490313,
          1.322503150971855,
          0.7757686504129424,
          5.998012830541384,
          5.630771158544505,
          1.008652192411702,
          0.243287136106062,
          8.935418999867707,
          1.293139502268332,
          1.710829961081885,
          3.061333522325612,
          5.284333157032307
         ],
         "yaxis": "y"
        }
       ],
       "layout": {
        "legend": {
         "tracegroupgap": 0
        },
        "margin": {
         "t": 60
        },
        "template": {
         "data": {
          "bar": [
           {
            "error_x": {
             "color": "#2a3f5f"
            },
            "error_y": {
             "color": "#2a3f5f"
            },
            "marker": {
             "line": {
              "color": "#E5ECF6",
              "width": 0.5
             },
             "pattern": {
              "fillmode": "overlay",
              "size": 10,
              "solidity": 0.2
             }
            },
            "type": "bar"
           }
          ],
          "barpolar": [
           {
            "marker": {
             "line": {
              "color": "#E5ECF6",
              "width": 0.5
             },
             "pattern": {
              "fillmode": "overlay",
              "size": 10,
              "solidity": 0.2
             }
            },
            "type": "barpolar"
           }
          ],
          "carpet": [
           {
            "aaxis": {
             "endlinecolor": "#2a3f5f",
             "gridcolor": "white",
             "linecolor": "white",
             "minorgridcolor": "white",
             "startlinecolor": "#2a3f5f"
            },
            "baxis": {
             "endlinecolor": "#2a3f5f",
             "gridcolor": "white",
             "linecolor": "white",
             "minorgridcolor": "white",
             "startlinecolor": "#2a3f5f"
            },
            "type": "carpet"
           }
          ],
          "choropleth": [
           {
            "colorbar": {
             "outlinewidth": 0,
             "ticks": ""
            },
            "type": "choropleth"
           }
          ],
          "contour": [
           {
            "colorbar": {
             "outlinewidth": 0,
             "ticks": ""
            },
            "colorscale": [
             [
              0,
              "#0d0887"
             ],
             [
              0.1111111111111111,
              "#46039f"
             ],
             [
              0.2222222222222222,
              "#7201a8"
             ],
             [
              0.3333333333333333,
              "#9c179e"
             ],
             [
              0.4444444444444444,
              "#bd3786"
             ],
             [
              0.5555555555555556,
              "#d8576b"
             ],
             [
              0.6666666666666666,
              "#ed7953"
             ],
             [
              0.7777777777777778,
              "#fb9f3a"
             ],
             [
              0.8888888888888888,
              "#fdca26"
             ],
             [
              1,
              "#f0f921"
             ]
            ],
            "type": "contour"
           }
          ],
          "contourcarpet": [
           {
            "colorbar": {
             "outlinewidth": 0,
             "ticks": ""
            },
            "type": "contourcarpet"
           }
          ],
          "heatmap": [
           {
            "colorbar": {
             "outlinewidth": 0,
             "ticks": ""
            },
            "colorscale": [
             [
              0,
              "#0d0887"
             ],
             [
              0.1111111111111111,
              "#46039f"
             ],
             [
              0.2222222222222222,
              "#7201a8"
             ],
             [
              0.3333333333333333,
              "#9c179e"
             ],
             [
              0.4444444444444444,
              "#bd3786"
             ],
             [
              0.5555555555555556,
              "#d8576b"
             ],
             [
              0.6666666666666666,
              "#ed7953"
             ],
             [
              0.7777777777777778,
              "#fb9f3a"
             ],
             [
              0.8888888888888888,
              "#fdca26"
             ],
             [
              1,
              "#f0f921"
             ]
            ],
            "type": "heatmap"
           }
          ],
          "heatmapgl": [
           {
            "colorbar": {
             "outlinewidth": 0,
             "ticks": ""
            },
            "colorscale": [
             [
              0,
              "#0d0887"
             ],
             [
              0.1111111111111111,
              "#46039f"
             ],
             [
              0.2222222222222222,
              "#7201a8"
             ],
             [
              0.3333333333333333,
              "#9c179e"
             ],
             [
              0.4444444444444444,
              "#bd3786"
             ],
             [
              0.5555555555555556,
              "#d8576b"
             ],
             [
              0.6666666666666666,
              "#ed7953"
             ],
             [
              0.7777777777777778,
              "#fb9f3a"
             ],
             [
              0.8888888888888888,
              "#fdca26"
             ],
             [
              1,
              "#f0f921"
             ]
            ],
            "type": "heatmapgl"
           }
          ],
          "histogram": [
           {
            "marker": {
             "pattern": {
              "fillmode": "overlay",
              "size": 10,
              "solidity": 0.2
             }
            },
            "type": "histogram"
           }
          ],
          "histogram2d": [
           {
            "colorbar": {
             "outlinewidth": 0,
             "ticks": ""
            },
            "colorscale": [
             [
              0,
              "#0d0887"
             ],
             [
              0.1111111111111111,
              "#46039f"
             ],
             [
              0.2222222222222222,
              "#7201a8"
             ],
             [
              0.3333333333333333,
              "#9c179e"
             ],
             [
              0.4444444444444444,
              "#bd3786"
             ],
             [
              0.5555555555555556,
              "#d8576b"
             ],
             [
              0.6666666666666666,
              "#ed7953"
             ],
             [
              0.7777777777777778,
              "#fb9f3a"
             ],
             [
              0.8888888888888888,
              "#fdca26"
             ],
             [
              1,
              "#f0f921"
             ]
            ],
            "type": "histogram2d"
           }
          ],
          "histogram2dcontour": [
           {
            "colorbar": {
             "outlinewidth": 0,
             "ticks": ""
            },
            "colorscale": [
             [
              0,
              "#0d0887"
             ],
             [
              0.1111111111111111,
              "#46039f"
             ],
             [
              0.2222222222222222,
              "#7201a8"
             ],
             [
              0.3333333333333333,
              "#9c179e"
             ],
             [
              0.4444444444444444,
              "#bd3786"
             ],
             [
              0.5555555555555556,
              "#d8576b"
             ],
             [
              0.6666666666666666,
              "#ed7953"
             ],
             [
              0.7777777777777778,
              "#fb9f3a"
             ],
             [
              0.8888888888888888,
              "#fdca26"
             ],
             [
              1,
              "#f0f921"
             ]
            ],
            "type": "histogram2dcontour"
           }
          ],
          "mesh3d": [
           {
            "colorbar": {
             "outlinewidth": 0,
             "ticks": ""
            },
            "type": "mesh3d"
           }
          ],
          "parcoords": [
           {
            "line": {
             "colorbar": {
              "outlinewidth": 0,
              "ticks": ""
             }
            },
            "type": "parcoords"
           }
          ],
          "pie": [
           {
            "automargin": true,
            "type": "pie"
           }
          ],
          "scatter": [
           {
            "fillpattern": {
             "fillmode": "overlay",
             "size": 10,
             "solidity": 0.2
            },
            "type": "scatter"
           }
          ],
          "scatter3d": [
           {
            "line": {
             "colorbar": {
              "outlinewidth": 0,
              "ticks": ""
             }
            },
            "marker": {
             "colorbar": {
              "outlinewidth": 0,
              "ticks": ""
             }
            },
            "type": "scatter3d"
           }
          ],
          "scattercarpet": [
           {
            "marker": {
             "colorbar": {
              "outlinewidth": 0,
              "ticks": ""
             }
            },
            "type": "scattercarpet"
           }
          ],
          "scattergeo": [
           {
            "marker": {
             "colorbar": {
              "outlinewidth": 0,
              "ticks": ""
             }
            },
            "type": "scattergeo"
           }
          ],
          "scattergl": [
           {
            "marker": {
             "colorbar": {
              "outlinewidth": 0,
              "ticks": ""
             }
            },
            "type": "scattergl"
           }
          ],
          "scattermapbox": [
           {
            "marker": {
             "colorbar": {
              "outlinewidth": 0,
              "ticks": ""
             }
            },
            "type": "scattermapbox"
           }
          ],
          "scatterpolar": [
           {
            "marker": {
             "colorbar": {
              "outlinewidth": 0,
              "ticks": ""
             }
            },
            "type": "scatterpolar"
           }
          ],
          "scatterpolargl": [
           {
            "marker": {
             "colorbar": {
              "outlinewidth": 0,
              "ticks": ""
             }
            },
            "type": "scatterpolargl"
           }
          ],
          "scatterternary": [
           {
            "marker": {
             "colorbar": {
              "outlinewidth": 0,
              "ticks": ""
             }
            },
            "type": "scatterternary"
           }
          ],
          "surface": [
           {
            "colorbar": {
             "outlinewidth": 0,
             "ticks": ""
            },
            "colorscale": [
             [
              0,
              "#0d0887"
             ],
             [
              0.1111111111111111,
              "#46039f"
             ],
             [
              0.2222222222222222,
              "#7201a8"
             ],
             [
              0.3333333333333333,
              "#9c179e"
             ],
             [
              0.4444444444444444,
              "#bd3786"
             ],
             [
              0.5555555555555556,
              "#d8576b"
             ],
             [
              0.6666666666666666,
              "#ed7953"
             ],
             [
              0.7777777777777778,
              "#fb9f3a"
             ],
             [
              0.8888888888888888,
              "#fdca26"
             ],
             [
              1,
              "#f0f921"
             ]
            ],
            "type": "surface"
           }
          ],
          "table": [
           {
            "cells": {
             "fill": {
              "color": "#EBF0F8"
             },
             "line": {
              "color": "white"
             }
            },
            "header": {
             "fill": {
              "color": "#C8D4E3"
             },
             "line": {
              "color": "white"
             }
            },
            "type": "table"
           }
          ]
         },
         "layout": {
          "annotationdefaults": {
           "arrowcolor": "#2a3f5f",
           "arrowhead": 0,
           "arrowwidth": 1
          },
          "autotypenumbers": "strict",
          "coloraxis": {
           "colorbar": {
            "outlinewidth": 0,
            "ticks": ""
           }
          },
          "colorscale": {
           "diverging": [
            [
             0,
             "#8e0152"
            ],
            [
             0.1,
             "#c51b7d"
            ],
            [
             0.2,
             "#de77ae"
            ],
            [
             0.3,
             "#f1b6da"
            ],
            [
             0.4,
             "#fde0ef"
            ],
            [
             0.5,
             "#f7f7f7"
            ],
            [
             0.6,
             "#e6f5d0"
            ],
            [
             0.7,
             "#b8e186"
            ],
            [
             0.8,
             "#7fbc41"
            ],
            [
             0.9,
             "#4d9221"
            ],
            [
             1,
             "#276419"
            ]
           ],
           "sequential": [
            [
             0,
             "#0d0887"
            ],
            [
             0.1111111111111111,
             "#46039f"
            ],
            [
             0.2222222222222222,
             "#7201a8"
            ],
            [
             0.3333333333333333,
             "#9c179e"
            ],
            [
             0.4444444444444444,
             "#bd3786"
            ],
            [
             0.5555555555555556,
             "#d8576b"
            ],
            [
             0.6666666666666666,
             "#ed7953"
            ],
            [
             0.7777777777777778,
             "#fb9f3a"
            ],
            [
             0.8888888888888888,
             "#fdca26"
            ],
            [
             1,
             "#f0f921"
            ]
           ],
           "sequentialminus": [
            [
             0,
             "#0d0887"
            ],
            [
             0.1111111111111111,
             "#46039f"
            ],
            [
             0.2222222222222222,
             "#7201a8"
            ],
            [
             0.3333333333333333,
             "#9c179e"
            ],
            [
             0.4444444444444444,
             "#bd3786"
            ],
            [
             0.5555555555555556,
             "#d8576b"
            ],
            [
             0.6666666666666666,
             "#ed7953"
            ],
            [
             0.7777777777777778,
             "#fb9f3a"
            ],
            [
             0.8888888888888888,
             "#fdca26"
            ],
            [
             1,
             "#f0f921"
            ]
           ]
          },
          "colorway": [
           "#636efa",
           "#EF553B",
           "#00cc96",
           "#ab63fa",
           "#FFA15A",
           "#19d3f3",
           "#FF6692",
           "#B6E880",
           "#FF97FF",
           "#FECB52"
          ],
          "font": {
           "color": "#2a3f5f"
          },
          "geo": {
           "bgcolor": "white",
           "lakecolor": "white",
           "landcolor": "#E5ECF6",
           "showlakes": true,
           "showland": true,
           "subunitcolor": "white"
          },
          "hoverlabel": {
           "align": "left"
          },
          "hovermode": "closest",
          "mapbox": {
           "style": "light"
          },
          "paper_bgcolor": "white",
          "plot_bgcolor": "#E5ECF6",
          "polar": {
           "angularaxis": {
            "gridcolor": "white",
            "linecolor": "white",
            "ticks": ""
           },
           "bgcolor": "#E5ECF6",
           "radialaxis": {
            "gridcolor": "white",
            "linecolor": "white",
            "ticks": ""
           }
          },
          "scene": {
           "xaxis": {
            "backgroundcolor": "#E5ECF6",
            "gridcolor": "white",
            "gridwidth": 2,
            "linecolor": "white",
            "showbackground": true,
            "ticks": "",
            "zerolinecolor": "white"
           },
           "yaxis": {
            "backgroundcolor": "#E5ECF6",
            "gridcolor": "white",
            "gridwidth": 2,
            "linecolor": "white",
            "showbackground": true,
            "ticks": "",
            "zerolinecolor": "white"
           },
           "zaxis": {
            "backgroundcolor": "#E5ECF6",
            "gridcolor": "white",
            "gridwidth": 2,
            "linecolor": "white",
            "showbackground": true,
            "ticks": "",
            "zerolinecolor": "white"
           }
          },
          "shapedefaults": {
           "line": {
            "color": "#2a3f5f"
           }
          },
          "ternary": {
           "aaxis": {
            "gridcolor": "white",
            "linecolor": "white",
            "ticks": ""
           },
           "baxis": {
            "gridcolor": "white",
            "linecolor": "white",
            "ticks": ""
           },
           "bgcolor": "#E5ECF6",
           "caxis": {
            "gridcolor": "white",
            "linecolor": "white",
            "ticks": ""
           }
          },
          "title": {
           "x": 0.05
          },
          "xaxis": {
           "automargin": true,
           "gridcolor": "white",
           "linecolor": "white",
           "ticks": "",
           "title": {
            "standoff": 15
           },
           "zerolinecolor": "white",
           "zerolinewidth": 2
          },
          "yaxis": {
           "automargin": true,
           "gridcolor": "white",
           "linecolor": "white",
           "ticks": "",
           "title": {
            "standoff": 15
           },
           "zerolinecolor": "white",
           "zerolinewidth": 2
          }
         }
        },
        "title": {
         "text": "min_mae vs. Height"
        },
        "xaxis": {
         "anchor": "y",
         "domain": [
          0,
          1
         ],
         "title": {
          "text": "Height_mm"
         }
        },
        "yaxis": {
         "anchor": "x",
         "domain": [
          0,
          1
         ],
         "title": {
          "text": "min_mae"
         }
        }
       }
      }
     },
     "metadata": {},
     "output_type": "display_data"
    }
   ],
   "source": [
    "fig = px.scatter(df, x='Height_mm', y='min_mae', hover_data=['Label', 'PrawnID'])\n",
    "#add title\n",
    "fig.update_layout(title='min_mae vs. Height')\n",
    "\n",
    "#save the plot to png\n",
    "fig.write_image('full body_ min_mae vs. Height.png')\n",
    "# Add a trendline\n",
    "fig.show()"
   ]
  },
  {
   "cell_type": "code",
   "execution_count": 15,
   "metadata": {},
   "outputs": [
    {
     "data": {
      "application/vnd.plotly.v1+json": {
       "config": {
        "plotlyServerURL": "https://plot.ly"
       },
       "data": [
        {
         "customdata": [
          [
           "full body:undistorted_GX010077_14_237.jpg_gamma",
           "Prawn_0"
          ],
          [
           "full body:undistorted_GX010077_14_237.jpg_gamma",
           "Prawn_1"
          ],
          [
           "full body:undistorted_GX010077_14_237.jpg_gamma",
           "Prawn_2"
          ],
          [
           "full body:undistorted_GX010067_33_625.jpg_gamma",
           "Prawn_0"
          ],
          [
           "full body:undistorted_GX010067_33_625.jpg_gamma",
           "Prawn_1"
          ],
          [
           "full body:undistorted_GX010067_33_625.jpg_gamma",
           "Prawn_2"
          ],
          [
           "full body:undistorted_GX010067_33_625.jpg_gamma",
           "Prawn_3"
          ],
          [
           "full body:undistorted_GX010068_26_666.jpg_gamma",
           "Prawn_0"
          ],
          [
           "full body:undistorted_GX010068_26_666.jpg_gamma",
           "Prawn_1"
          ],
          [
           "full body:undistorted_GX010068_26_666.jpg_gamma",
           "Prawn_2"
          ],
          [
           "full body:undistorted_GX010068_27_795.jpg_gamma",
           "Prawn_0"
          ],
          [
           "full body:undistorted_GX010068_27_795.jpg_gamma",
           "Prawn_1"
          ],
          [
           "full body:undistorted_GX010069_19_191.jpg_gamma",
           "Prawn_0"
          ],
          [
           "full body:undistorted_GX010069_19_191.jpg_gamma",
           "Prawn_1"
          ],
          [
           "full body:undistorted_GX010069_19_191.jpg_gamma",
           "Prawn_2"
          ],
          [
           "full body:undistorted_GX010069_19_191.jpg_gamma",
           "Prawn_3"
          ],
          [
           "full body:undistorted_GX010071_22_444.jpg_gamma",
           "Prawn_0"
          ],
          [
           "full body:undistorted_GX010071_22_444.jpg_gamma",
           "Prawn_1"
          ],
          [
           "full body:undistorted_GX010073_42_695.jpg_gamma",
           "Prawn_0"
          ],
          [
           "full body:undistorted_GX010073_42_695.jpg_gamma",
           "Prawn_1"
          ],
          [
           "full body:undistorted_GX010073_42_695.jpg_gamma",
           "Prawn_2"
          ],
          [
           "full body:undistorted_GX010073_55_1014.jpg_gamma",
           "Prawn_0"
          ],
          [
           "full body:undistorted_GX010073_55_1014.jpg_gamma",
           "Prawn_1"
          ],
          [
           "full body:undistorted_GX010073_55_1014.jpg_gamma",
           "Prawn_2"
          ],
          [
           "full body:undistorted_GX010080_157_2283.jpg_gamma",
           "Prawn_0"
          ],
          [
           "full body:undistorted_GX010080_157_2283.jpg_gamma",
           "Prawn_2"
          ],
          [
           "full body:undistorted_GX010080_157_2283.jpg_gamma",
           "Prawn_3"
          ],
          [
           "full body:undistorted_GX010080_193_2640.jpg_gamma",
           "Prawn_0"
          ],
          [
           "full body:undistorted_GX010080_193_2640.jpg_gamma",
           "Prawn_1"
          ],
          [
           "full body:undistorted_GX010080_193_2640.jpg_gamma",
           "Prawn_2"
          ],
          [
           "full body:undistorted_GX010080_193_2640.jpg_gamma",
           "Prawn_3"
          ],
          [
           "full body:undistorted_GX010080_193_2640.jpg_gamma",
           "Prawn_4"
          ],
          [
           "full body:undistorted_GX010080_212_2954.jpg_gamma",
           "Prawn_0"
          ],
          [
           "full body:undistorted_GX010080_212_2954.jpg_gamma",
           "Prawn_1"
          ],
          [
           "full body:undistorted_GX010080_212_2954.jpg_gamma",
           "Prawn_2"
          ],
          [
           "full body:undistorted_GX010080_237_3366.jpg_gamma",
           "Prawn_0"
          ],
          [
           "full body:undistorted_GX010080_237_3366.jpg_gamma",
           "Prawn_1"
          ],
          [
           "full body:undistorted_GX010080_237_3366.jpg_gamma",
           "Prawn_2"
          ],
          [
           "full body:undistorted_GX010080_237_3366.jpg_gamma",
           "Prawn_3"
          ],
          [
           "full body:undistorted_GX010080_237_3366.jpg_gamma",
           "Prawn_4"
          ],
          [
           "full body:undistorted_GX010080_238_3392.jpg_gamma",
           "Prawn_0"
          ],
          [
           "full body:undistorted_GX010080_238_3392.jpg_gamma",
           "Prawn_1"
          ],
          [
           "full body:undistorted_GX010080_238_3392.jpg_gamma",
           "Prawn_2"
          ],
          [
           "full body:undistorted_GX010080_238_3392.jpg_gamma",
           "Prawn_3"
          ],
          [
           "full body:undistorted_GX010082_8_59.jpg_gamma",
           "Prawn_1"
          ],
          [
           "full body:undistorted_GX010082_8_59.jpg_gamma",
           "Prawn_2"
          ],
          [
           "full body:undistorted_GX010082_8_59.jpg_gamma",
           "Prawn_3"
          ],
          [
           "full body:undistorted_GX010082_8_59.jpg_gamma",
           "Prawn_4"
          ],
          [
           "full body:undistorted_GX010082_53_796.jpg_gamma",
           "Prawn_0"
          ],
          [
           "full body:undistorted_GX010082_53_796.jpg_gamma",
           "Prawn_1"
          ],
          [
           "full body:undistorted_GX010082_65_1070.jpg_gamma",
           "Prawn_0"
          ],
          [
           "full body:undistorted_GX010082_65_1070.jpg_gamma",
           "Prawn_1"
          ],
          [
           "full body:undistorted_GX010082_65_1070.jpg_gamma",
           "Prawn_2"
          ],
          [
           "full body:undistorted_GX010082_236_3137.jpg_gamma",
           "Prawn_0"
          ],
          [
           "full body:undistorted_GX010082_236_3137.jpg_gamma",
           "Prawn_1"
          ],
          [
           "full body:undistorted_GX010082_236_3137.jpg_gamma",
           "Prawn_2"
          ],
          [
           "full body:undistorted_GX010084_30_344.jpg_gamma",
           "Prawn_0"
          ],
          [
           "full body:undistorted_GX010084_30_344.jpg_gamma",
           "Prawn_1"
          ],
          [
           "full body:undistorted_GX010084_30_344.jpg_gamma",
           "Prawn_2"
          ],
          [
           "full body:undistorted_GX010084_30_344.jpg_gamma",
           "Prawn_3"
          ],
          [
           "full body:undistorted_GX010084_130_1748.jpg_gamma",
           "Prawn_0"
          ],
          [
           "full body:undistorted_GX010084_130_1748.jpg_gamma",
           "Prawn_1"
          ],
          [
           "full body:undistorted_GX010084_130_1748.jpg_gamma",
           "Prawn_2"
          ],
          [
           "full body:undistorted_GX010085_261_3610.jpg_gamma",
           "Prawn_0"
          ],
          [
           "full body:undistorted_GX010085_261_3610.jpg_gamma",
           "Prawn_1"
          ],
          [
           "full body:undistorted_GX010088_209_2904.jpg_gamma",
           "Prawn_0"
          ],
          [
           "full body:undistorted_GX010088_209_2904.jpg_gamma",
           "Prawn_1"
          ],
          [
           "full body:undistorted_GX010088_262_3712.jpg_gamma",
           "Prawn_0"
          ],
          [
           "full body:undistorted_GX010088_262_3712.jpg_gamma",
           "Prawn_1"
          ],
          [
           "full body:undistorted_GX010088_262_3712.jpg_gamma",
           "Prawn_2"
          ],
          [
           "full body:undistorted_GX010088_327_4364.jpg_gamma",
           "Prawn_0"
          ],
          [
           "full body:undistorted_GX010088_327_4364.jpg_gamma",
           "Prawn_1"
          ],
          [
           "full body:undistorted_GX010088_327_4364.jpg_gamma",
           "Prawn_2"
          ],
          [
           "full body:undistorted_GX010088_327_4364.jpg_gamma",
           "Prawn_3"
          ],
          [
           "full body:undistorted_GX010089_11_236.jpg_gamma",
           "Prawn_0"
          ],
          [
           "full body:undistorted_GX010089_11_236.jpg_gamma",
           "Prawn_1"
          ],
          [
           "full body:undistorted_GX010089_11_236.jpg_gamma",
           "Prawn_2"
          ],
          [
           "full body:undistorted_GX010089_11_236.jpg_gamma",
           "Prawn_3"
          ],
          [
           "full body:undistorted_GX010090_132_1852.jpg_gamma",
           "Prawn_0"
          ],
          [
           "full body:undistorted_GX010091_5_149.jpg_gamma",
           "Prawn_0"
          ],
          [
           "full body:undistorted_GX010091_5_149.jpg_gamma",
           "Prawn_1"
          ],
          [
           "full body:undistorted_GX010091_5_149.jpg_gamma",
           "Prawn_2"
          ],
          [
           "full body:undistorted_GX010094_9_129.jpg_gamma",
           "Prawn_0"
          ],
          [
           "full body:undistorted_GX010094_9_129.jpg_gamma",
           "Prawn_1"
          ],
          [
           "full body:undistorted_GX010094_24_430.jpg_gamma",
           "Prawn_0"
          ],
          [
           "full body:undistorted_GX010094_93_1258.jpg_gamma",
           "Prawn_0"
          ],
          [
           "full body:undistorted_GX010094_163_2312.jpg_gamma",
           "Prawn_0"
          ],
          [
           "full body:undistorted_GX010097_32_528.jpg_gamma",
           "Prawn_0"
          ],
          [
           "full body:undistorted_GX010097_32_528.jpg_gamma",
           "Prawn_1"
          ],
          [
           "full body:undistorted_GX010097_60_1080.jpg_gamma",
           "Prawn_0"
          ],
          [
           "full body:undistorted_GX010097_60_1080.jpg_gamma",
           "Prawn_1"
          ],
          [
           "full body:undistorted_GX010097_60_1080.jpg_gamma",
           "Prawn_2"
          ],
          [
           "full body:undistorted_GX010097_60_1080.jpg_gamma",
           "Prawn_3"
          ],
          [
           "full body:undistorted_GX010097_105_1651.jpg_gamma",
           "Prawn_0"
          ],
          [
           "full body:undistorted_GX010097_105_1651.jpg_gamma",
           "Prawn_1"
          ],
          [
           "full body:undistorted_GX010097_105_1651.jpg_gamma",
           "Prawn_2"
          ],
          [
           "full body:undistorted_GX010097_105_1651.jpg_gamma",
           "Prawn_3"
          ],
          [
           "full body:undistorted_GX010097_124_1870.jpg_gamma",
           "Prawn_0"
          ],
          [
           "full body:undistorted_GX010097_124_1870.jpg_gamma",
           "Prawn_1"
          ],
          [
           "full body:undistorted_GX010101_12_173.jpg_gamma",
           "Prawn_0"
          ],
          [
           "full body:undistorted_GX010102_9_165.jpg_gamma",
           "Prawn_1"
          ],
          [
           "full body:undistorted_GX010102_9_165.jpg_gamma",
           "Prawn_2"
          ],
          [
           "full body:undistorted_GX010102_9_165.jpg_gamma",
           "Prawn_3"
          ],
          [
           "full body:undistorted_GX010102_9_165.jpg_gamma",
           "Prawn_4"
          ],
          [
           "full body:undistorted_GX010102_9_165.jpg_gamma",
           "Prawn_5"
          ],
          [
           "full body:undistorted_GX010102_50_1396.jpg_gamma",
           "Prawn_0"
          ],
          [
           "full body:undistorted_GX010105_28_816.jpg_gamma",
           "Prawn_0"
          ],
          [
           "full body:undistorted_GX010105_28_816.jpg_gamma",
           "Prawn_1"
          ],
          [
           "full body:undistorted_GX010152_36_378.jpg_gamma",
           "Prawn_0"
          ],
          [
           "full body:undistorted_GX010152_36_378.jpg_gamma",
           "Prawn_1"
          ],
          [
           "full body:undistorted_GX010157_160_2259",
           "Prawn_0"
          ],
          [
           "full body:undistorted_GX010157_174_2582.jpg_gamma",
           "Prawn_0"
          ],
          [
           "full body:undistorted_GX010157_177_2665.jpg_gamma",
           "Prawn_0"
          ],
          [
           "full body:undistorted_GX010161_54_676.jpg_gamma.jpg_gamma",
           "Prawn_0"
          ],
          [
           "full body:undistorted_GX010162_72_927.jpg_gamma.jpg_gamma",
           "Prawn_0"
          ],
          [
           "full body:undistorted_GX010174_62_790.jpg_gamma",
           "Prawn_0"
          ],
          [
           "full body:undistorted_GX010175_266_3372.jpg_gamma.jpg_gamma",
           "Prawn_0"
          ],
          [
           "full body:undistorted_GX010177_232_3047",
           "Prawn_0"
          ],
          [
           "full body:undistorted_GX010178_172_3604.jpg_gamma",
           "Prawn_0"
          ],
          [
           "full body:undistorted_GX010183_37_685.jpg_gamma",
           "Prawn_0"
          ],
          [
           "full body:undistorted_GX010183_80_1633.jpg_gamma",
           "Prawn_0"
          ],
          [
           "full body:undistorted_GX010183_128_2852.jpg_gamma",
           "Prawn_0"
          ]
         ],
         "hovertemplate": "Height_mm=%{x}<br>overestimation=%{y}<br>Label=%{customdata[0]}<br>PrawnID=%{customdata[1]}<extra></extra>",
         "legendgroup": "",
         "marker": {
          "color": "#636efa",
          "symbol": "circle"
         },
         "mode": "markers",
         "name": "",
         "orientation": "v",
         "showlegend": false,
         "type": "scatter",
         "x": [
          650,
          650,
          650,
          650,
          650,
          650,
          650,
          650,
          650,
          650,
          650,
          650,
          650,
          650,
          650,
          650,
          650,
          650,
          650,
          650,
          650,
          650,
          650,
          650,
          650,
          650,
          650,
          650,
          650,
          650,
          650,
          650,
          650,
          650,
          650,
          650,
          650,
          650,
          650,
          650,
          650,
          650,
          650,
          650,
          650,
          650,
          650,
          650,
          650,
          650,
          650,
          650,
          650,
          650,
          650,
          650,
          650,
          650,
          650,
          650,
          650,
          650,
          650,
          650,
          650,
          650,
          650,
          650,
          650,
          650,
          650,
          650,
          650,
          650,
          700,
          700,
          700,
          700,
          650,
          700,
          700,
          700,
          650,
          650,
          650,
          650,
          650,
          650,
          650,
          650,
          650,
          650,
          650,
          650,
          650,
          650,
          650,
          650,
          650,
          650,
          760,
          760,
          760,
          760,
          760,
          760,
          760,
          760,
          415,
          415,
          415,
          415,
          415,
          400,
          400,
          370,
          385,
          385,
          455,
          455,
          455,
          455
         ],
         "xaxis": "x",
         "y": [
          4.731451607420922,
          10.760056218787,
          1.7756445478630098,
          9.115406852968079,
          -9.085206411392946,
          3.5278226755047797,
          8.8224477638217,
          12.545963001694687,
          16.31505110771731,
          8.96639062831261,
          4.610948833937016,
          -2.6198685673358,
          -3.0528763041410087,
          14.197675426651003,
          15.755242938552911,
          14.152853806699909,
          12.404993196638202,
          -5.669813357885204,
          17.214559146892796,
          4.551944784594582,
          -3.684981306676491,
          5.55456187554249,
          6.878248168471998,
          20.520757476980506,
          32.643744056214715,
          31.003234146030493,
          27.67900841073201,
          21.896869343184406,
          14.366961316968798,
          21.184411425048296,
          8.922521007331497,
          24.616618746002302,
          23.334047400828084,
          11.390733741816604,
          -8.5182313646051,
          12.817308671649101,
          20.164893532784617,
          14.556041864880797,
          6.05433548834759,
          3.1603401531997974,
          13.817415068866183,
          21.36396216254471,
          9.383055686515902,
          15.016455290056399,
          -13.231952540973822,
          -1.6034378667595206,
          3.728410522143207,
          11.615380098402895,
          -5.544599949615673,
          -14.167178634847204,
          19.10065251434081,
          37.06832167606211,
          17.781315268121602,
          18.18529362354461,
          30.155910935398794,
          -6.6390569257847005,
          8.535333986370503,
          6.703090000091606,
          2.0902115911703163,
          12.404183118185387,
          -4.407592832592712,
          -14.762338435160714,
          -0.7753151094986777,
          19.543211767672375,
          2.69637217645041,
          11.242018503828703,
          4.545966809780992,
          -2.5275462904065193,
          -9.968646184410602,
          -9.677604159000595,
          -11.45498314781841,
          -11.223269942072392,
          -6.286359230620505,
          -12.640332906722307,
          24.389757111626096,
          17.087130975932467,
          21.47069998942331,
          -9.312125396106929,
          11.677259616763621,
          18.472460689113007,
          14.875102421548306,
          37.388065164327756,
          11.907110010516291,
          14.436382932580614,
          11.201355807905685,
          -0.13184518176309723,
          14.860986751650202,
          12.992207820909996,
          63.53548642613649,
          19.132127918199217,
          13.058572520135101,
          36.0105439656071,
          2.5818523916458105,
          42.88860399861798,
          15.979800448865205,
          28.509747883769407,
          43.65236606989079,
          27.456763400402096,
          13.6150627797077,
          2.9992581596989965,
          21.801096895985793,
          49.153712099337696,
          37.455712099337696,
          20.658965237656005,
          18.34599538573427,
          20.878955449627313,
          15.466067883903655,
          23.974345836445593,
          -17.691697769087796,
          -7.3865878076202875,
          -11.690276930490313,
          -11.095496849028095,
          -0.775768650412914,
          5.998012830541398,
          -9.773771158544506,
          1.008652192411688,
          -0.24328713610609043,
          -23.925581000132297,
          -26.888139502268302,
          -2.766829961081882,
          3.061333522325583,
          -14.451333157032309
         ],
         "yaxis": "y"
        }
       ],
       "layout": {
        "legend": {
         "tracegroupgap": 0
        },
        "margin": {
         "t": 60
        },
        "template": {
         "data": {
          "bar": [
           {
            "error_x": {
             "color": "#2a3f5f"
            },
            "error_y": {
             "color": "#2a3f5f"
            },
            "marker": {
             "line": {
              "color": "#E5ECF6",
              "width": 0.5
             },
             "pattern": {
              "fillmode": "overlay",
              "size": 10,
              "solidity": 0.2
             }
            },
            "type": "bar"
           }
          ],
          "barpolar": [
           {
            "marker": {
             "line": {
              "color": "#E5ECF6",
              "width": 0.5
             },
             "pattern": {
              "fillmode": "overlay",
              "size": 10,
              "solidity": 0.2
             }
            },
            "type": "barpolar"
           }
          ],
          "carpet": [
           {
            "aaxis": {
             "endlinecolor": "#2a3f5f",
             "gridcolor": "white",
             "linecolor": "white",
             "minorgridcolor": "white",
             "startlinecolor": "#2a3f5f"
            },
            "baxis": {
             "endlinecolor": "#2a3f5f",
             "gridcolor": "white",
             "linecolor": "white",
             "minorgridcolor": "white",
             "startlinecolor": "#2a3f5f"
            },
            "type": "carpet"
           }
          ],
          "choropleth": [
           {
            "colorbar": {
             "outlinewidth": 0,
             "ticks": ""
            },
            "type": "choropleth"
           }
          ],
          "contour": [
           {
            "colorbar": {
             "outlinewidth": 0,
             "ticks": ""
            },
            "colorscale": [
             [
              0,
              "#0d0887"
             ],
             [
              0.1111111111111111,
              "#46039f"
             ],
             [
              0.2222222222222222,
              "#7201a8"
             ],
             [
              0.3333333333333333,
              "#9c179e"
             ],
             [
              0.4444444444444444,
              "#bd3786"
             ],
             [
              0.5555555555555556,
              "#d8576b"
             ],
             [
              0.6666666666666666,
              "#ed7953"
             ],
             [
              0.7777777777777778,
              "#fb9f3a"
             ],
             [
              0.8888888888888888,
              "#fdca26"
             ],
             [
              1,
              "#f0f921"
             ]
            ],
            "type": "contour"
           }
          ],
          "contourcarpet": [
           {
            "colorbar": {
             "outlinewidth": 0,
             "ticks": ""
            },
            "type": "contourcarpet"
           }
          ],
          "heatmap": [
           {
            "colorbar": {
             "outlinewidth": 0,
             "ticks": ""
            },
            "colorscale": [
             [
              0,
              "#0d0887"
             ],
             [
              0.1111111111111111,
              "#46039f"
             ],
             [
              0.2222222222222222,
              "#7201a8"
             ],
             [
              0.3333333333333333,
              "#9c179e"
             ],
             [
              0.4444444444444444,
              "#bd3786"
             ],
             [
              0.5555555555555556,
              "#d8576b"
             ],
             [
              0.6666666666666666,
              "#ed7953"
             ],
             [
              0.7777777777777778,
              "#fb9f3a"
             ],
             [
              0.8888888888888888,
              "#fdca26"
             ],
             [
              1,
              "#f0f921"
             ]
            ],
            "type": "heatmap"
           }
          ],
          "heatmapgl": [
           {
            "colorbar": {
             "outlinewidth": 0,
             "ticks": ""
            },
            "colorscale": [
             [
              0,
              "#0d0887"
             ],
             [
              0.1111111111111111,
              "#46039f"
             ],
             [
              0.2222222222222222,
              "#7201a8"
             ],
             [
              0.3333333333333333,
              "#9c179e"
             ],
             [
              0.4444444444444444,
              "#bd3786"
             ],
             [
              0.5555555555555556,
              "#d8576b"
             ],
             [
              0.6666666666666666,
              "#ed7953"
             ],
             [
              0.7777777777777778,
              "#fb9f3a"
             ],
             [
              0.8888888888888888,
              "#fdca26"
             ],
             [
              1,
              "#f0f921"
             ]
            ],
            "type": "heatmapgl"
           }
          ],
          "histogram": [
           {
            "marker": {
             "pattern": {
              "fillmode": "overlay",
              "size": 10,
              "solidity": 0.2
             }
            },
            "type": "histogram"
           }
          ],
          "histogram2d": [
           {
            "colorbar": {
             "outlinewidth": 0,
             "ticks": ""
            },
            "colorscale": [
             [
              0,
              "#0d0887"
             ],
             [
              0.1111111111111111,
              "#46039f"
             ],
             [
              0.2222222222222222,
              "#7201a8"
             ],
             [
              0.3333333333333333,
              "#9c179e"
             ],
             [
              0.4444444444444444,
              "#bd3786"
             ],
             [
              0.5555555555555556,
              "#d8576b"
             ],
             [
              0.6666666666666666,
              "#ed7953"
             ],
             [
              0.7777777777777778,
              "#fb9f3a"
             ],
             [
              0.8888888888888888,
              "#fdca26"
             ],
             [
              1,
              "#f0f921"
             ]
            ],
            "type": "histogram2d"
           }
          ],
          "histogram2dcontour": [
           {
            "colorbar": {
             "outlinewidth": 0,
             "ticks": ""
            },
            "colorscale": [
             [
              0,
              "#0d0887"
             ],
             [
              0.1111111111111111,
              "#46039f"
             ],
             [
              0.2222222222222222,
              "#7201a8"
             ],
             [
              0.3333333333333333,
              "#9c179e"
             ],
             [
              0.4444444444444444,
              "#bd3786"
             ],
             [
              0.5555555555555556,
              "#d8576b"
             ],
             [
              0.6666666666666666,
              "#ed7953"
             ],
             [
              0.7777777777777778,
              "#fb9f3a"
             ],
             [
              0.8888888888888888,
              "#fdca26"
             ],
             [
              1,
              "#f0f921"
             ]
            ],
            "type": "histogram2dcontour"
           }
          ],
          "mesh3d": [
           {
            "colorbar": {
             "outlinewidth": 0,
             "ticks": ""
            },
            "type": "mesh3d"
           }
          ],
          "parcoords": [
           {
            "line": {
             "colorbar": {
              "outlinewidth": 0,
              "ticks": ""
             }
            },
            "type": "parcoords"
           }
          ],
          "pie": [
           {
            "automargin": true,
            "type": "pie"
           }
          ],
          "scatter": [
           {
            "fillpattern": {
             "fillmode": "overlay",
             "size": 10,
             "solidity": 0.2
            },
            "type": "scatter"
           }
          ],
          "scatter3d": [
           {
            "line": {
             "colorbar": {
              "outlinewidth": 0,
              "ticks": ""
             }
            },
            "marker": {
             "colorbar": {
              "outlinewidth": 0,
              "ticks": ""
             }
            },
            "type": "scatter3d"
           }
          ],
          "scattercarpet": [
           {
            "marker": {
             "colorbar": {
              "outlinewidth": 0,
              "ticks": ""
             }
            },
            "type": "scattercarpet"
           }
          ],
          "scattergeo": [
           {
            "marker": {
             "colorbar": {
              "outlinewidth": 0,
              "ticks": ""
             }
            },
            "type": "scattergeo"
           }
          ],
          "scattergl": [
           {
            "marker": {
             "colorbar": {
              "outlinewidth": 0,
              "ticks": ""
             }
            },
            "type": "scattergl"
           }
          ],
          "scattermapbox": [
           {
            "marker": {
             "colorbar": {
              "outlinewidth": 0,
              "ticks": ""
             }
            },
            "type": "scattermapbox"
           }
          ],
          "scatterpolar": [
           {
            "marker": {
             "colorbar": {
              "outlinewidth": 0,
              "ticks": ""
             }
            },
            "type": "scatterpolar"
           }
          ],
          "scatterpolargl": [
           {
            "marker": {
             "colorbar": {
              "outlinewidth": 0,
              "ticks": ""
             }
            },
            "type": "scatterpolargl"
           }
          ],
          "scatterternary": [
           {
            "marker": {
             "colorbar": {
              "outlinewidth": 0,
              "ticks": ""
             }
            },
            "type": "scatterternary"
           }
          ],
          "surface": [
           {
            "colorbar": {
             "outlinewidth": 0,
             "ticks": ""
            },
            "colorscale": [
             [
              0,
              "#0d0887"
             ],
             [
              0.1111111111111111,
              "#46039f"
             ],
             [
              0.2222222222222222,
              "#7201a8"
             ],
             [
              0.3333333333333333,
              "#9c179e"
             ],
             [
              0.4444444444444444,
              "#bd3786"
             ],
             [
              0.5555555555555556,
              "#d8576b"
             ],
             [
              0.6666666666666666,
              "#ed7953"
             ],
             [
              0.7777777777777778,
              "#fb9f3a"
             ],
             [
              0.8888888888888888,
              "#fdca26"
             ],
             [
              1,
              "#f0f921"
             ]
            ],
            "type": "surface"
           }
          ],
          "table": [
           {
            "cells": {
             "fill": {
              "color": "#EBF0F8"
             },
             "line": {
              "color": "white"
             }
            },
            "header": {
             "fill": {
              "color": "#C8D4E3"
             },
             "line": {
              "color": "white"
             }
            },
            "type": "table"
           }
          ]
         },
         "layout": {
          "annotationdefaults": {
           "arrowcolor": "#2a3f5f",
           "arrowhead": 0,
           "arrowwidth": 1
          },
          "autotypenumbers": "strict",
          "coloraxis": {
           "colorbar": {
            "outlinewidth": 0,
            "ticks": ""
           }
          },
          "colorscale": {
           "diverging": [
            [
             0,
             "#8e0152"
            ],
            [
             0.1,
             "#c51b7d"
            ],
            [
             0.2,
             "#de77ae"
            ],
            [
             0.3,
             "#f1b6da"
            ],
            [
             0.4,
             "#fde0ef"
            ],
            [
             0.5,
             "#f7f7f7"
            ],
            [
             0.6,
             "#e6f5d0"
            ],
            [
             0.7,
             "#b8e186"
            ],
            [
             0.8,
             "#7fbc41"
            ],
            [
             0.9,
             "#4d9221"
            ],
            [
             1,
             "#276419"
            ]
           ],
           "sequential": [
            [
             0,
             "#0d0887"
            ],
            [
             0.1111111111111111,
             "#46039f"
            ],
            [
             0.2222222222222222,
             "#7201a8"
            ],
            [
             0.3333333333333333,
             "#9c179e"
            ],
            [
             0.4444444444444444,
             "#bd3786"
            ],
            [
             0.5555555555555556,
             "#d8576b"
            ],
            [
             0.6666666666666666,
             "#ed7953"
            ],
            [
             0.7777777777777778,
             "#fb9f3a"
            ],
            [
             0.8888888888888888,
             "#fdca26"
            ],
            [
             1,
             "#f0f921"
            ]
           ],
           "sequentialminus": [
            [
             0,
             "#0d0887"
            ],
            [
             0.1111111111111111,
             "#46039f"
            ],
            [
             0.2222222222222222,
             "#7201a8"
            ],
            [
             0.3333333333333333,
             "#9c179e"
            ],
            [
             0.4444444444444444,
             "#bd3786"
            ],
            [
             0.5555555555555556,
             "#d8576b"
            ],
            [
             0.6666666666666666,
             "#ed7953"
            ],
            [
             0.7777777777777778,
             "#fb9f3a"
            ],
            [
             0.8888888888888888,
             "#fdca26"
            ],
            [
             1,
             "#f0f921"
            ]
           ]
          },
          "colorway": [
           "#636efa",
           "#EF553B",
           "#00cc96",
           "#ab63fa",
           "#FFA15A",
           "#19d3f3",
           "#FF6692",
           "#B6E880",
           "#FF97FF",
           "#FECB52"
          ],
          "font": {
           "color": "#2a3f5f"
          },
          "geo": {
           "bgcolor": "white",
           "lakecolor": "white",
           "landcolor": "#E5ECF6",
           "showlakes": true,
           "showland": true,
           "subunitcolor": "white"
          },
          "hoverlabel": {
           "align": "left"
          },
          "hovermode": "closest",
          "mapbox": {
           "style": "light"
          },
          "paper_bgcolor": "white",
          "plot_bgcolor": "#E5ECF6",
          "polar": {
           "angularaxis": {
            "gridcolor": "white",
            "linecolor": "white",
            "ticks": ""
           },
           "bgcolor": "#E5ECF6",
           "radialaxis": {
            "gridcolor": "white",
            "linecolor": "white",
            "ticks": ""
           }
          },
          "scene": {
           "xaxis": {
            "backgroundcolor": "#E5ECF6",
            "gridcolor": "white",
            "gridwidth": 2,
            "linecolor": "white",
            "showbackground": true,
            "ticks": "",
            "zerolinecolor": "white"
           },
           "yaxis": {
            "backgroundcolor": "#E5ECF6",
            "gridcolor": "white",
            "gridwidth": 2,
            "linecolor": "white",
            "showbackground": true,
            "ticks": "",
            "zerolinecolor": "white"
           },
           "zaxis": {
            "backgroundcolor": "#E5ECF6",
            "gridcolor": "white",
            "gridwidth": 2,
            "linecolor": "white",
            "showbackground": true,
            "ticks": "",
            "zerolinecolor": "white"
           }
          },
          "shapedefaults": {
           "line": {
            "color": "#2a3f5f"
           }
          },
          "ternary": {
           "aaxis": {
            "gridcolor": "white",
            "linecolor": "white",
            "ticks": ""
           },
           "baxis": {
            "gridcolor": "white",
            "linecolor": "white",
            "ticks": ""
           },
           "bgcolor": "#E5ECF6",
           "caxis": {
            "gridcolor": "white",
            "linecolor": "white",
            "ticks": ""
           }
          },
          "title": {
           "x": 0.05
          },
          "xaxis": {
           "automargin": true,
           "gridcolor": "white",
           "linecolor": "white",
           "ticks": "",
           "title": {
            "standoff": 15
           },
           "zerolinecolor": "white",
           "zerolinewidth": 2
          },
          "yaxis": {
           "automargin": true,
           "gridcolor": "white",
           "linecolor": "white",
           "ticks": "",
           "title": {
            "standoff": 15
           },
           "zerolinecolor": "white",
           "zerolinewidth": 2
          }
         }
        },
        "title": {
         "text": "overestimation vs. Height"
        },
        "xaxis": {
         "anchor": "y",
         "domain": [
          0,
          1
         ],
         "title": {
          "text": "Height_mm"
         }
        },
        "yaxis": {
         "anchor": "x",
         "domain": [
          0,
          1
         ],
         "title": {
          "text": "overestimation"
         }
        }
       }
      }
     },
     "metadata": {},
     "output_type": "display_data"
    }
   ],
   "source": [
    "# a graph showing overestimation and underestimation of the length of the prawn\n",
    "df['overestimation'] = df['Length_FOV_box'] - df['expert_max']\n",
    "#show the overestimation of the length of the prawn\n",
    "fig = px.scatter(df, x='Height_mm', y='overestimation', hover_data=['Label', 'PrawnID'])\n",
    "#add title\n",
    "fig.update_layout(title='overestimation vs. Height')\n",
    "\n",
    "#save the plot to png\n",
    "fig.write_image('full body_ overestimation vs. Height.png')\n",
    "# Add a trendline\n",
    "fig.show()\n",
    "\n"
   ]
  },
  {
   "cell_type": "code",
   "execution_count": 23,
   "metadata": {},
   "outputs": [
    {
     "data": {
      "text/plain": [
       "PondType\n",
       "circular-big      33\n",
       "circular-small     5\n",
       "square-female     13\n",
       "Name: Label, dtype: int64"
      ]
     },
     "execution_count": 23,
     "metadata": {},
     "output_type": "execute_result"
    }
   ],
   "source": [
    "#groupby pond type unique label\n",
    "df.groupby('PondType')['Label'].nunique()"
   ]
  },
  {
   "cell_type": "code",
   "execution_count": 11,
   "metadata": {},
   "outputs": [
    {
     "data": {
      "application/vnd.plotly.v1+json": {
       "config": {
        "plotlyServerURL": "https://plot.ly"
       },
       "data": [
        {
         "alignmentgroup": "True",
         "bingroup": "x",
         "hovertemplate": "overestimation=%{x}<br>count=%{y}<extra></extra>",
         "legendgroup": "",
         "marker": {
          "color": "#636efa",
          "pattern": {
           "shape": ""
          }
         },
         "name": "",
         "nbinsx": 30,
         "offsetgroup": "",
         "orientation": "v",
         "showlegend": false,
         "type": "histogram",
         "x": [
          4.731451607420922,
          10.760056218787,
          1.7756445478630098,
          9.115406852968079,
          1.0467935886070592,
          3.5278226755047797,
          8.8224477638217,
          12.545963001694687,
          16.31505110771731,
          8.96639062831261,
          4.610948833937016,
          1.8291314326641839,
          -0.9058763041410032,
          14.197675426651003,
          15.755242938552911,
          14.152853806699909,
          12.404993196638202,
          1.3751866421148122,
          17.214559146892796,
          4.551944784594582,
          -3.684981306676491,
          5.55456187554249,
          6.878248168471998,
          20.520757476980506,
          32.643744056214715,
          31.003234146030493,
          27.67900841073201,
          21.896869343184406,
          14.366961316968798,
          21.184411425048296,
          8.922521007331497,
          24.616618746002302,
          23.334047400828084,
          11.390733741816604,
          -3.0502313646050823,
          12.817308671649101,
          20.164893532784617,
          14.556041864880797,
          6.05433548834759,
          3.1603401531997974,
          13.817415068866183,
          21.36396216254471,
          9.383055686515902,
          15.016455290056399,
          -2.2729525409738187,
          -1.6034378667595206,
          3.728410522143207,
          11.615380098402895,
          5.118400050384324,
          -1.5071786348472074,
          19.10065251434081,
          37.06832167606211,
          17.781315268121602,
          18.18529362354461,
          30.155910935398794,
          0.06794307421529311,
          8.535333986370503,
          6.703090000091606,
          2.0902115911703163,
          12.404183118185387,
          -4.407592832592712,
          11.401661564839273,
          -0.7753151094986777,
          19.543211767672375,
          2.69637217645041,
          11.242018503828703,
          4.545966809780992,
          -2.5275462904065193,
          -3.4716461844106163,
          -4.814604159000595,
          7.936016852181581,
          -11.223269942072392,
          -6.286359230620505,
          -1.7663329067223117,
          11.677259616763621,
          11.907110010516291,
          14.436382932580614,
          11.201355807905685,
          -0.13184518176309723,
          14.860986751650202,
          12.992207820909996,
          63.53548642613649,
          19.132127918199217,
          13.058572520135101,
          36.0105439656071,
          2.5818523916458105,
          42.88860399861798,
          15.979800448865205,
          28.509747883769407,
          43.65236606989079,
          27.456763400402096,
          13.6150627797077,
          2.9992581596989965
         ],
         "xaxis": "x",
         "yaxis": "y"
        },
        {
         "alignmentgroup": "True",
         "customdata": [
          [
           "full body:undistorted_GX010077_14_237.jpg_gamma",
           "Prawn_0"
          ],
          [
           "full body:undistorted_GX010077_14_237.jpg_gamma",
           "Prawn_1"
          ],
          [
           "full body:undistorted_GX010077_14_237.jpg_gamma",
           "Prawn_2"
          ],
          [
           "full body:undistorted_GX010067_33_625.jpg_gamma",
           "Prawn_0"
          ],
          [
           "full body:undistorted_GX010067_33_625.jpg_gamma",
           "Prawn_1"
          ],
          [
           "full body:undistorted_GX010067_33_625.jpg_gamma",
           "Prawn_2"
          ],
          [
           "full body:undistorted_GX010067_33_625.jpg_gamma",
           "Prawn_3"
          ],
          [
           "full body:undistorted_GX010068_26_666.jpg_gamma",
           "Prawn_0"
          ],
          [
           "full body:undistorted_GX010068_26_666.jpg_gamma",
           "Prawn_1"
          ],
          [
           "full body:undistorted_GX010068_26_666.jpg_gamma",
           "Prawn_2"
          ],
          [
           "full body:undistorted_GX010068_27_795.jpg_gamma",
           "Prawn_0"
          ],
          [
           "full body:undistorted_GX010068_27_795.jpg_gamma",
           "Prawn_1"
          ],
          [
           "full body:undistorted_GX010069_19_191.jpg_gamma",
           "Prawn_0"
          ],
          [
           "full body:undistorted_GX010069_19_191.jpg_gamma",
           "Prawn_1"
          ],
          [
           "full body:undistorted_GX010069_19_191.jpg_gamma",
           "Prawn_2"
          ],
          [
           "full body:undistorted_GX010069_19_191.jpg_gamma",
           "Prawn_3"
          ],
          [
           "full body:undistorted_GX010071_22_444.jpg_gamma",
           "Prawn_0"
          ],
          [
           "full body:undistorted_GX010071_22_444.jpg_gamma",
           "Prawn_1"
          ],
          [
           "full body:undistorted_GX010073_42_695.jpg_gamma",
           "Prawn_0"
          ],
          [
           "full body:undistorted_GX010073_42_695.jpg_gamma",
           "Prawn_1"
          ],
          [
           "full body:undistorted_GX010073_42_695.jpg_gamma",
           "Prawn_2"
          ],
          [
           "full body:undistorted_GX010073_55_1014.jpg_gamma",
           "Prawn_0"
          ],
          [
           "full body:undistorted_GX010073_55_1014.jpg_gamma",
           "Prawn_1"
          ],
          [
           "full body:undistorted_GX010073_55_1014.jpg_gamma",
           "Prawn_2"
          ],
          [
           "full body:undistorted_GX010080_157_2283.jpg_gamma",
           "Prawn_0"
          ],
          [
           "full body:undistorted_GX010080_157_2283.jpg_gamma",
           "Prawn_2"
          ],
          [
           "full body:undistorted_GX010080_157_2283.jpg_gamma",
           "Prawn_3"
          ],
          [
           "full body:undistorted_GX010080_193_2640.jpg_gamma",
           "Prawn_0"
          ],
          [
           "full body:undistorted_GX010080_193_2640.jpg_gamma",
           "Prawn_1"
          ],
          [
           "full body:undistorted_GX010080_193_2640.jpg_gamma",
           "Prawn_2"
          ],
          [
           "full body:undistorted_GX010080_193_2640.jpg_gamma",
           "Prawn_3"
          ],
          [
           "full body:undistorted_GX010080_193_2640.jpg_gamma",
           "Prawn_4"
          ],
          [
           "full body:undistorted_GX010080_212_2954.jpg_gamma",
           "Prawn_0"
          ],
          [
           "full body:undistorted_GX010080_212_2954.jpg_gamma",
           "Prawn_1"
          ],
          [
           "full body:undistorted_GX010080_212_2954.jpg_gamma",
           "Prawn_2"
          ],
          [
           "full body:undistorted_GX010080_237_3366.jpg_gamma",
           "Prawn_0"
          ],
          [
           "full body:undistorted_GX010080_237_3366.jpg_gamma",
           "Prawn_1"
          ],
          [
           "full body:undistorted_GX010080_237_3366.jpg_gamma",
           "Prawn_2"
          ],
          [
           "full body:undistorted_GX010080_237_3366.jpg_gamma",
           "Prawn_3"
          ],
          [
           "full body:undistorted_GX010080_237_3366.jpg_gamma",
           "Prawn_4"
          ],
          [
           "full body:undistorted_GX010080_238_3392.jpg_gamma",
           "Prawn_0"
          ],
          [
           "full body:undistorted_GX010080_238_3392.jpg_gamma",
           "Prawn_1"
          ],
          [
           "full body:undistorted_GX010080_238_3392.jpg_gamma",
           "Prawn_2"
          ],
          [
           "full body:undistorted_GX010080_238_3392.jpg_gamma",
           "Prawn_3"
          ],
          [
           "full body:undistorted_GX010082_8_59.jpg_gamma",
           "Prawn_1"
          ],
          [
           "full body:undistorted_GX010082_8_59.jpg_gamma",
           "Prawn_2"
          ],
          [
           "full body:undistorted_GX010082_8_59.jpg_gamma",
           "Prawn_3"
          ],
          [
           "full body:undistorted_GX010082_8_59.jpg_gamma",
           "Prawn_4"
          ],
          [
           "full body:undistorted_GX010082_53_796.jpg_gamma",
           "Prawn_0"
          ],
          [
           "full body:undistorted_GX010082_53_796.jpg_gamma",
           "Prawn_1"
          ],
          [
           "full body:undistorted_GX010082_65_1070.jpg_gamma",
           "Prawn_0"
          ],
          [
           "full body:undistorted_GX010082_65_1070.jpg_gamma",
           "Prawn_1"
          ],
          [
           "full body:undistorted_GX010082_65_1070.jpg_gamma",
           "Prawn_2"
          ],
          [
           "full body:undistorted_GX010082_236_3137.jpg_gamma",
           "Prawn_0"
          ],
          [
           "full body:undistorted_GX010082_236_3137.jpg_gamma",
           "Prawn_1"
          ],
          [
           "full body:undistorted_GX010082_236_3137.jpg_gamma",
           "Prawn_2"
          ],
          [
           "full body:undistorted_GX010084_30_344.jpg_gamma",
           "Prawn_0"
          ],
          [
           "full body:undistorted_GX010084_30_344.jpg_gamma",
           "Prawn_1"
          ],
          [
           "full body:undistorted_GX010084_30_344.jpg_gamma",
           "Prawn_2"
          ],
          [
           "full body:undistorted_GX010084_30_344.jpg_gamma",
           "Prawn_3"
          ],
          [
           "full body:undistorted_GX010084_130_1748.jpg_gamma",
           "Prawn_0"
          ],
          [
           "full body:undistorted_GX010084_130_1748.jpg_gamma",
           "Prawn_1"
          ],
          [
           "full body:undistorted_GX010084_130_1748.jpg_gamma",
           "Prawn_2"
          ],
          [
           "full body:undistorted_GX010085_261_3610.jpg_gamma",
           "Prawn_0"
          ],
          [
           "full body:undistorted_GX010085_261_3610.jpg_gamma",
           "Prawn_1"
          ],
          [
           "full body:undistorted_GX010088_209_2904.jpg_gamma",
           "Prawn_0"
          ],
          [
           "full body:undistorted_GX010088_209_2904.jpg_gamma",
           "Prawn_1"
          ],
          [
           "full body:undistorted_GX010088_262_3712.jpg_gamma",
           "Prawn_0"
          ],
          [
           "full body:undistorted_GX010088_262_3712.jpg_gamma",
           "Prawn_1"
          ],
          [
           "full body:undistorted_GX010088_262_3712.jpg_gamma",
           "Prawn_2"
          ],
          [
           "full body:undistorted_GX010088_327_4364.jpg_gamma",
           "Prawn_0"
          ],
          [
           "full body:undistorted_GX010088_327_4364.jpg_gamma",
           "Prawn_1"
          ],
          [
           "full body:undistorted_GX010088_327_4364.jpg_gamma",
           "Prawn_2"
          ],
          [
           "full body:undistorted_GX010088_327_4364.jpg_gamma",
           "Prawn_3"
          ],
          [
           "full body:undistorted_GX010090_132_1852.jpg_gamma",
           "Prawn_0"
          ],
          [
           "full body:undistorted_GX010094_9_129.jpg_gamma",
           "Prawn_0"
          ],
          [
           "full body:undistorted_GX010094_9_129.jpg_gamma",
           "Prawn_1"
          ],
          [
           "full body:undistorted_GX010094_24_430.jpg_gamma",
           "Prawn_0"
          ],
          [
           "full body:undistorted_GX010094_93_1258.jpg_gamma",
           "Prawn_0"
          ],
          [
           "full body:undistorted_GX010094_163_2312.jpg_gamma",
           "Prawn_0"
          ],
          [
           "full body:undistorted_GX010097_32_528.jpg_gamma",
           "Prawn_0"
          ],
          [
           "full body:undistorted_GX010097_32_528.jpg_gamma",
           "Prawn_1"
          ],
          [
           "full body:undistorted_GX010097_60_1080.jpg_gamma",
           "Prawn_0"
          ],
          [
           "full body:undistorted_GX010097_60_1080.jpg_gamma",
           "Prawn_1"
          ],
          [
           "full body:undistorted_GX010097_60_1080.jpg_gamma",
           "Prawn_2"
          ],
          [
           "full body:undistorted_GX010097_60_1080.jpg_gamma",
           "Prawn_3"
          ],
          [
           "full body:undistorted_GX010097_105_1651.jpg_gamma",
           "Prawn_0"
          ],
          [
           "full body:undistorted_GX010097_105_1651.jpg_gamma",
           "Prawn_1"
          ],
          [
           "full body:undistorted_GX010097_105_1651.jpg_gamma",
           "Prawn_2"
          ],
          [
           "full body:undistorted_GX010097_105_1651.jpg_gamma",
           "Prawn_3"
          ],
          [
           "full body:undistorted_GX010097_124_1870.jpg_gamma",
           "Prawn_0"
          ],
          [
           "full body:undistorted_GX010097_124_1870.jpg_gamma",
           "Prawn_1"
          ],
          [
           "full body:undistorted_GX010101_12_173.jpg_gamma",
           "Prawn_0"
          ]
         ],
         "hovertemplate": "overestimation=%{x}<br>Label=%{customdata[0]}<br>PrawnID=%{customdata[1]}<extra></extra>",
         "legendgroup": "",
         "marker": {
          "color": "#636efa"
         },
         "name": "",
         "notched": true,
         "offsetgroup": "",
         "showlegend": false,
         "type": "box",
         "x": [
          4.731451607420922,
          10.760056218787,
          1.7756445478630098,
          9.115406852968079,
          1.0467935886070592,
          3.5278226755047797,
          8.8224477638217,
          12.545963001694687,
          16.31505110771731,
          8.96639062831261,
          4.610948833937016,
          1.8291314326641839,
          -0.9058763041410032,
          14.197675426651003,
          15.755242938552911,
          14.152853806699909,
          12.404993196638202,
          1.3751866421148122,
          17.214559146892796,
          4.551944784594582,
          -3.684981306676491,
          5.55456187554249,
          6.878248168471998,
          20.520757476980506,
          32.643744056214715,
          31.003234146030493,
          27.67900841073201,
          21.896869343184406,
          14.366961316968798,
          21.184411425048296,
          8.922521007331497,
          24.616618746002302,
          23.334047400828084,
          11.390733741816604,
          -3.0502313646050823,
          12.817308671649101,
          20.164893532784617,
          14.556041864880797,
          6.05433548834759,
          3.1603401531997974,
          13.817415068866183,
          21.36396216254471,
          9.383055686515902,
          15.016455290056399,
          -2.2729525409738187,
          -1.6034378667595206,
          3.728410522143207,
          11.615380098402895,
          5.118400050384324,
          -1.5071786348472074,
          19.10065251434081,
          37.06832167606211,
          17.781315268121602,
          18.18529362354461,
          30.155910935398794,
          0.06794307421529311,
          8.535333986370503,
          6.703090000091606,
          2.0902115911703163,
          12.404183118185387,
          -4.407592832592712,
          11.401661564839273,
          -0.7753151094986777,
          19.543211767672375,
          2.69637217645041,
          11.242018503828703,
          4.545966809780992,
          -2.5275462904065193,
          -3.4716461844106163,
          -4.814604159000595,
          7.936016852181581,
          -11.223269942072392,
          -6.286359230620505,
          -1.7663329067223117,
          11.677259616763621,
          11.907110010516291,
          14.436382932580614,
          11.201355807905685,
          -0.13184518176309723,
          14.860986751650202,
          12.992207820909996,
          63.53548642613649,
          19.132127918199217,
          13.058572520135101,
          36.0105439656071,
          2.5818523916458105,
          42.88860399861798,
          15.979800448865205,
          28.509747883769407,
          43.65236606989079,
          27.456763400402096,
          13.6150627797077,
          2.9992581596989965
         ],
         "xaxis": "x2",
         "yaxis": "y2"
        }
       ],
       "layout": {
        "barmode": "relative",
        "legend": {
         "tracegroupgap": 0
        },
        "shapes": [
         {
          "line": {
           "color": "red",
           "dash": "dash"
          },
          "type": "line",
          "x0": 0,
          "x1": 0,
          "xref": "x",
          "y0": 0,
          "y1": 1,
          "yref": "y domain"
         },
         {
          "line": {
           "color": "red",
           "dash": "dash"
          },
          "type": "line",
          "x0": 0,
          "x1": 0,
          "xref": "x2",
          "y0": 0,
          "y1": 1,
          "yref": "y2 domain"
         }
        ],
        "template": {
         "data": {
          "bar": [
           {
            "error_x": {
             "color": "#2a3f5f"
            },
            "error_y": {
             "color": "#2a3f5f"
            },
            "marker": {
             "line": {
              "color": "#E5ECF6",
              "width": 0.5
             },
             "pattern": {
              "fillmode": "overlay",
              "size": 10,
              "solidity": 0.2
             }
            },
            "type": "bar"
           }
          ],
          "barpolar": [
           {
            "marker": {
             "line": {
              "color": "#E5ECF6",
              "width": 0.5
             },
             "pattern": {
              "fillmode": "overlay",
              "size": 10,
              "solidity": 0.2
             }
            },
            "type": "barpolar"
           }
          ],
          "carpet": [
           {
            "aaxis": {
             "endlinecolor": "#2a3f5f",
             "gridcolor": "white",
             "linecolor": "white",
             "minorgridcolor": "white",
             "startlinecolor": "#2a3f5f"
            },
            "baxis": {
             "endlinecolor": "#2a3f5f",
             "gridcolor": "white",
             "linecolor": "white",
             "minorgridcolor": "white",
             "startlinecolor": "#2a3f5f"
            },
            "type": "carpet"
           }
          ],
          "choropleth": [
           {
            "colorbar": {
             "outlinewidth": 0,
             "ticks": ""
            },
            "type": "choropleth"
           }
          ],
          "contour": [
           {
            "colorbar": {
             "outlinewidth": 0,
             "ticks": ""
            },
            "colorscale": [
             [
              0,
              "#0d0887"
             ],
             [
              0.1111111111111111,
              "#46039f"
             ],
             [
              0.2222222222222222,
              "#7201a8"
             ],
             [
              0.3333333333333333,
              "#9c179e"
             ],
             [
              0.4444444444444444,
              "#bd3786"
             ],
             [
              0.5555555555555556,
              "#d8576b"
             ],
             [
              0.6666666666666666,
              "#ed7953"
             ],
             [
              0.7777777777777778,
              "#fb9f3a"
             ],
             [
              0.8888888888888888,
              "#fdca26"
             ],
             [
              1,
              "#f0f921"
             ]
            ],
            "type": "contour"
           }
          ],
          "contourcarpet": [
           {
            "colorbar": {
             "outlinewidth": 0,
             "ticks": ""
            },
            "type": "contourcarpet"
           }
          ],
          "heatmap": [
           {
            "colorbar": {
             "outlinewidth": 0,
             "ticks": ""
            },
            "colorscale": [
             [
              0,
              "#0d0887"
             ],
             [
              0.1111111111111111,
              "#46039f"
             ],
             [
              0.2222222222222222,
              "#7201a8"
             ],
             [
              0.3333333333333333,
              "#9c179e"
             ],
             [
              0.4444444444444444,
              "#bd3786"
             ],
             [
              0.5555555555555556,
              "#d8576b"
             ],
             [
              0.6666666666666666,
              "#ed7953"
             ],
             [
              0.7777777777777778,
              "#fb9f3a"
             ],
             [
              0.8888888888888888,
              "#fdca26"
             ],
             [
              1,
              "#f0f921"
             ]
            ],
            "type": "heatmap"
           }
          ],
          "heatmapgl": [
           {
            "colorbar": {
             "outlinewidth": 0,
             "ticks": ""
            },
            "colorscale": [
             [
              0,
              "#0d0887"
             ],
             [
              0.1111111111111111,
              "#46039f"
             ],
             [
              0.2222222222222222,
              "#7201a8"
             ],
             [
              0.3333333333333333,
              "#9c179e"
             ],
             [
              0.4444444444444444,
              "#bd3786"
             ],
             [
              0.5555555555555556,
              "#d8576b"
             ],
             [
              0.6666666666666666,
              "#ed7953"
             ],
             [
              0.7777777777777778,
              "#fb9f3a"
             ],
             [
              0.8888888888888888,
              "#fdca26"
             ],
             [
              1,
              "#f0f921"
             ]
            ],
            "type": "heatmapgl"
           }
          ],
          "histogram": [
           {
            "marker": {
             "pattern": {
              "fillmode": "overlay",
              "size": 10,
              "solidity": 0.2
             }
            },
            "type": "histogram"
           }
          ],
          "histogram2d": [
           {
            "colorbar": {
             "outlinewidth": 0,
             "ticks": ""
            },
            "colorscale": [
             [
              0,
              "#0d0887"
             ],
             [
              0.1111111111111111,
              "#46039f"
             ],
             [
              0.2222222222222222,
              "#7201a8"
             ],
             [
              0.3333333333333333,
              "#9c179e"
             ],
             [
              0.4444444444444444,
              "#bd3786"
             ],
             [
              0.5555555555555556,
              "#d8576b"
             ],
             [
              0.6666666666666666,
              "#ed7953"
             ],
             [
              0.7777777777777778,
              "#fb9f3a"
             ],
             [
              0.8888888888888888,
              "#fdca26"
             ],
             [
              1,
              "#f0f921"
             ]
            ],
            "type": "histogram2d"
           }
          ],
          "histogram2dcontour": [
           {
            "colorbar": {
             "outlinewidth": 0,
             "ticks": ""
            },
            "colorscale": [
             [
              0,
              "#0d0887"
             ],
             [
              0.1111111111111111,
              "#46039f"
             ],
             [
              0.2222222222222222,
              "#7201a8"
             ],
             [
              0.3333333333333333,
              "#9c179e"
             ],
             [
              0.4444444444444444,
              "#bd3786"
             ],
             [
              0.5555555555555556,
              "#d8576b"
             ],
             [
              0.6666666666666666,
              "#ed7953"
             ],
             [
              0.7777777777777778,
              "#fb9f3a"
             ],
             [
              0.8888888888888888,
              "#fdca26"
             ],
             [
              1,
              "#f0f921"
             ]
            ],
            "type": "histogram2dcontour"
           }
          ],
          "mesh3d": [
           {
            "colorbar": {
             "outlinewidth": 0,
             "ticks": ""
            },
            "type": "mesh3d"
           }
          ],
          "parcoords": [
           {
            "line": {
             "colorbar": {
              "outlinewidth": 0,
              "ticks": ""
             }
            },
            "type": "parcoords"
           }
          ],
          "pie": [
           {
            "automargin": true,
            "type": "pie"
           }
          ],
          "scatter": [
           {
            "fillpattern": {
             "fillmode": "overlay",
             "size": 10,
             "solidity": 0.2
            },
            "type": "scatter"
           }
          ],
          "scatter3d": [
           {
            "line": {
             "colorbar": {
              "outlinewidth": 0,
              "ticks": ""
             }
            },
            "marker": {
             "colorbar": {
              "outlinewidth": 0,
              "ticks": ""
             }
            },
            "type": "scatter3d"
           }
          ],
          "scattercarpet": [
           {
            "marker": {
             "colorbar": {
              "outlinewidth": 0,
              "ticks": ""
             }
            },
            "type": "scattercarpet"
           }
          ],
          "scattergeo": [
           {
            "marker": {
             "colorbar": {
              "outlinewidth": 0,
              "ticks": ""
             }
            },
            "type": "scattergeo"
           }
          ],
          "scattergl": [
           {
            "marker": {
             "colorbar": {
              "outlinewidth": 0,
              "ticks": ""
             }
            },
            "type": "scattergl"
           }
          ],
          "scattermapbox": [
           {
            "marker": {
             "colorbar": {
              "outlinewidth": 0,
              "ticks": ""
             }
            },
            "type": "scattermapbox"
           }
          ],
          "scatterpolar": [
           {
            "marker": {
             "colorbar": {
              "outlinewidth": 0,
              "ticks": ""
             }
            },
            "type": "scatterpolar"
           }
          ],
          "scatterpolargl": [
           {
            "marker": {
             "colorbar": {
              "outlinewidth": 0,
              "ticks": ""
             }
            },
            "type": "scatterpolargl"
           }
          ],
          "scatterternary": [
           {
            "marker": {
             "colorbar": {
              "outlinewidth": 0,
              "ticks": ""
             }
            },
            "type": "scatterternary"
           }
          ],
          "surface": [
           {
            "colorbar": {
             "outlinewidth": 0,
             "ticks": ""
            },
            "colorscale": [
             [
              0,
              "#0d0887"
             ],
             [
              0.1111111111111111,
              "#46039f"
             ],
             [
              0.2222222222222222,
              "#7201a8"
             ],
             [
              0.3333333333333333,
              "#9c179e"
             ],
             [
              0.4444444444444444,
              "#bd3786"
             ],
             [
              0.5555555555555556,
              "#d8576b"
             ],
             [
              0.6666666666666666,
              "#ed7953"
             ],
             [
              0.7777777777777778,
              "#fb9f3a"
             ],
             [
              0.8888888888888888,
              "#fdca26"
             ],
             [
              1,
              "#f0f921"
             ]
            ],
            "type": "surface"
           }
          ],
          "table": [
           {
            "cells": {
             "fill": {
              "color": "#EBF0F8"
             },
             "line": {
              "color": "white"
             }
            },
            "header": {
             "fill": {
              "color": "#C8D4E3"
             },
             "line": {
              "color": "white"
             }
            },
            "type": "table"
           }
          ]
         },
         "layout": {
          "annotationdefaults": {
           "arrowcolor": "#2a3f5f",
           "arrowhead": 0,
           "arrowwidth": 1
          },
          "autotypenumbers": "strict",
          "coloraxis": {
           "colorbar": {
            "outlinewidth": 0,
            "ticks": ""
           }
          },
          "colorscale": {
           "diverging": [
            [
             0,
             "#8e0152"
            ],
            [
             0.1,
             "#c51b7d"
            ],
            [
             0.2,
             "#de77ae"
            ],
            [
             0.3,
             "#f1b6da"
            ],
            [
             0.4,
             "#fde0ef"
            ],
            [
             0.5,
             "#f7f7f7"
            ],
            [
             0.6,
             "#e6f5d0"
            ],
            [
             0.7,
             "#b8e186"
            ],
            [
             0.8,
             "#7fbc41"
            ],
            [
             0.9,
             "#4d9221"
            ],
            [
             1,
             "#276419"
            ]
           ],
           "sequential": [
            [
             0,
             "#0d0887"
            ],
            [
             0.1111111111111111,
             "#46039f"
            ],
            [
             0.2222222222222222,
             "#7201a8"
            ],
            [
             0.3333333333333333,
             "#9c179e"
            ],
            [
             0.4444444444444444,
             "#bd3786"
            ],
            [
             0.5555555555555556,
             "#d8576b"
            ],
            [
             0.6666666666666666,
             "#ed7953"
            ],
            [
             0.7777777777777778,
             "#fb9f3a"
            ],
            [
             0.8888888888888888,
             "#fdca26"
            ],
            [
             1,
             "#f0f921"
            ]
           ],
           "sequentialminus": [
            [
             0,
             "#0d0887"
            ],
            [
             0.1111111111111111,
             "#46039f"
            ],
            [
             0.2222222222222222,
             "#7201a8"
            ],
            [
             0.3333333333333333,
             "#9c179e"
            ],
            [
             0.4444444444444444,
             "#bd3786"
            ],
            [
             0.5555555555555556,
             "#d8576b"
            ],
            [
             0.6666666666666666,
             "#ed7953"
            ],
            [
             0.7777777777777778,
             "#fb9f3a"
            ],
            [
             0.8888888888888888,
             "#fdca26"
            ],
            [
             1,
             "#f0f921"
            ]
           ]
          },
          "colorway": [
           "#636efa",
           "#EF553B",
           "#00cc96",
           "#ab63fa",
           "#FFA15A",
           "#19d3f3",
           "#FF6692",
           "#B6E880",
           "#FF97FF",
           "#FECB52"
          ],
          "font": {
           "color": "#2a3f5f"
          },
          "geo": {
           "bgcolor": "white",
           "lakecolor": "white",
           "landcolor": "#E5ECF6",
           "showlakes": true,
           "showland": true,
           "subunitcolor": "white"
          },
          "hoverlabel": {
           "align": "left"
          },
          "hovermode": "closest",
          "mapbox": {
           "style": "light"
          },
          "paper_bgcolor": "white",
          "plot_bgcolor": "#E5ECF6",
          "polar": {
           "angularaxis": {
            "gridcolor": "white",
            "linecolor": "white",
            "ticks": ""
           },
           "bgcolor": "#E5ECF6",
           "radialaxis": {
            "gridcolor": "white",
            "linecolor": "white",
            "ticks": ""
           }
          },
          "scene": {
           "xaxis": {
            "backgroundcolor": "#E5ECF6",
            "gridcolor": "white",
            "gridwidth": 2,
            "linecolor": "white",
            "showbackground": true,
            "ticks": "",
            "zerolinecolor": "white"
           },
           "yaxis": {
            "backgroundcolor": "#E5ECF6",
            "gridcolor": "white",
            "gridwidth": 2,
            "linecolor": "white",
            "showbackground": true,
            "ticks": "",
            "zerolinecolor": "white"
           },
           "zaxis": {
            "backgroundcolor": "#E5ECF6",
            "gridcolor": "white",
            "gridwidth": 2,
            "linecolor": "white",
            "showbackground": true,
            "ticks": "",
            "zerolinecolor": "white"
           }
          },
          "shapedefaults": {
           "line": {
            "color": "#2a3f5f"
           }
          },
          "ternary": {
           "aaxis": {
            "gridcolor": "white",
            "linecolor": "white",
            "ticks": ""
           },
           "baxis": {
            "gridcolor": "white",
            "linecolor": "white",
            "ticks": ""
           },
           "bgcolor": "#E5ECF6",
           "caxis": {
            "gridcolor": "white",
            "linecolor": "white",
            "ticks": ""
           }
          },
          "title": {
           "x": 0.05
          },
          "xaxis": {
           "automargin": true,
           "gridcolor": "white",
           "linecolor": "white",
           "ticks": "",
           "title": {
            "standoff": 15
           },
           "zerolinecolor": "white",
           "zerolinewidth": 2
          },
          "yaxis": {
           "automargin": true,
           "gridcolor": "white",
           "linecolor": "white",
           "ticks": "",
           "title": {
            "standoff": 15
           },
           "zerolinecolor": "white",
           "zerolinewidth": 2
          }
         }
        },
        "title": {
         "text": "Histogram of Residuals circular-big Overestimation "
        },
        "xaxis": {
         "anchor": "y",
         "domain": [
          0,
          1
         ],
         "title": {
          "text": "Residuals circular-big (Overestimation vs Underestimation)"
         }
        },
        "xaxis2": {
         "anchor": "y2",
         "domain": [
          0,
          1
         ],
         "matches": "x",
         "showgrid": true,
         "showticklabels": false
        },
        "yaxis": {
         "anchor": "x",
         "domain": [
          0,
          0.8316
         ],
         "title": {
          "text": "Frequency"
         }
        },
        "yaxis2": {
         "anchor": "x2",
         "domain": [
          0.8416,
          1
         ],
         "matches": "y2",
         "showgrid": false,
         "showline": false,
         "showticklabels": false,
         "ticks": ""
        }
       }
      }
     },
     "metadata": {},
     "output_type": "display_data"
    },
    {
     "data": {
      "application/vnd.plotly.v1+json": {
       "config": {
        "plotlyServerURL": "https://plot.ly"
       },
       "data": [
        {
         "alignmentgroup": "True",
         "bingroup": "x",
         "hovertemplate": "overestimation=%{x}<br>count=%{y}<extra></extra>",
         "legendgroup": "",
         "marker": {
          "color": "#636efa",
          "pattern": {
           "shape": ""
          }
         },
         "name": "",
         "nbinsx": 30,
         "offsetgroup": "",
         "orientation": "v",
         "showlegend": false,
         "type": "histogram",
         "x": [
          24.389757111626096,
          17.087130975932467,
          21.47069998942331,
          -2.5091253961069313,
          18.472460689113007,
          14.875102421548306,
          37.388065164327756,
          21.801096895985793,
          49.153712099337696,
          37.455712099337696,
          20.658965237656005,
          18.34599538573427,
          20.878955449627313,
          15.466067883903655,
          23.974345836445593
         ],
         "xaxis": "x",
         "yaxis": "y"
        },
        {
         "alignmentgroup": "True",
         "customdata": [
          [
           "full body:undistorted_GX010089_11_236.jpg_gamma",
           "Prawn_0"
          ],
          [
           "full body:undistorted_GX010089_11_236.jpg_gamma",
           "Prawn_1"
          ],
          [
           "full body:undistorted_GX010089_11_236.jpg_gamma",
           "Prawn_2"
          ],
          [
           "full body:undistorted_GX010089_11_236.jpg_gamma",
           "Prawn_3"
          ],
          [
           "full body:undistorted_GX010091_5_149.jpg_gamma",
           "Prawn_0"
          ],
          [
           "full body:undistorted_GX010091_5_149.jpg_gamma",
           "Prawn_1"
          ],
          [
           "full body:undistorted_GX010091_5_149.jpg_gamma",
           "Prawn_2"
          ],
          [
           "full body:undistorted_GX010102_9_165.jpg_gamma",
           "Prawn_1"
          ],
          [
           "full body:undistorted_GX010102_9_165.jpg_gamma",
           "Prawn_2"
          ],
          [
           "full body:undistorted_GX010102_9_165.jpg_gamma",
           "Prawn_3"
          ],
          [
           "full body:undistorted_GX010102_9_165.jpg_gamma",
           "Prawn_4"
          ],
          [
           "full body:undistorted_GX010102_9_165.jpg_gamma",
           "Prawn_5"
          ],
          [
           "full body:undistorted_GX010102_50_1396.jpg_gamma",
           "Prawn_0"
          ],
          [
           "full body:undistorted_GX010105_28_816.jpg_gamma",
           "Prawn_0"
          ],
          [
           "full body:undistorted_GX010105_28_816.jpg_gamma",
           "Prawn_1"
          ]
         ],
         "hovertemplate": "overestimation=%{x}<br>Label=%{customdata[0]}<br>PrawnID=%{customdata[1]}<extra></extra>",
         "legendgroup": "",
         "marker": {
          "color": "#636efa"
         },
         "name": "",
         "notched": true,
         "offsetgroup": "",
         "showlegend": false,
         "type": "box",
         "x": [
          24.389757111626096,
          17.087130975932467,
          21.47069998942331,
          -2.5091253961069313,
          18.472460689113007,
          14.875102421548306,
          37.388065164327756,
          21.801096895985793,
          49.153712099337696,
          37.455712099337696,
          20.658965237656005,
          18.34599538573427,
          20.878955449627313,
          15.466067883903655,
          23.974345836445593
         ],
         "xaxis": "x2",
         "yaxis": "y2"
        }
       ],
       "layout": {
        "barmode": "relative",
        "legend": {
         "tracegroupgap": 0
        },
        "shapes": [
         {
          "line": {
           "color": "red",
           "dash": "dash"
          },
          "type": "line",
          "x0": 0,
          "x1": 0,
          "xref": "x",
          "y0": 0,
          "y1": 1,
          "yref": "y domain"
         },
         {
          "line": {
           "color": "red",
           "dash": "dash"
          },
          "type": "line",
          "x0": 0,
          "x1": 0,
          "xref": "x2",
          "y0": 0,
          "y1": 1,
          "yref": "y2 domain"
         }
        ],
        "template": {
         "data": {
          "bar": [
           {
            "error_x": {
             "color": "#2a3f5f"
            },
            "error_y": {
             "color": "#2a3f5f"
            },
            "marker": {
             "line": {
              "color": "#E5ECF6",
              "width": 0.5
             },
             "pattern": {
              "fillmode": "overlay",
              "size": 10,
              "solidity": 0.2
             }
            },
            "type": "bar"
           }
          ],
          "barpolar": [
           {
            "marker": {
             "line": {
              "color": "#E5ECF6",
              "width": 0.5
             },
             "pattern": {
              "fillmode": "overlay",
              "size": 10,
              "solidity": 0.2
             }
            },
            "type": "barpolar"
           }
          ],
          "carpet": [
           {
            "aaxis": {
             "endlinecolor": "#2a3f5f",
             "gridcolor": "white",
             "linecolor": "white",
             "minorgridcolor": "white",
             "startlinecolor": "#2a3f5f"
            },
            "baxis": {
             "endlinecolor": "#2a3f5f",
             "gridcolor": "white",
             "linecolor": "white",
             "minorgridcolor": "white",
             "startlinecolor": "#2a3f5f"
            },
            "type": "carpet"
           }
          ],
          "choropleth": [
           {
            "colorbar": {
             "outlinewidth": 0,
             "ticks": ""
            },
            "type": "choropleth"
           }
          ],
          "contour": [
           {
            "colorbar": {
             "outlinewidth": 0,
             "ticks": ""
            },
            "colorscale": [
             [
              0,
              "#0d0887"
             ],
             [
              0.1111111111111111,
              "#46039f"
             ],
             [
              0.2222222222222222,
              "#7201a8"
             ],
             [
              0.3333333333333333,
              "#9c179e"
             ],
             [
              0.4444444444444444,
              "#bd3786"
             ],
             [
              0.5555555555555556,
              "#d8576b"
             ],
             [
              0.6666666666666666,
              "#ed7953"
             ],
             [
              0.7777777777777778,
              "#fb9f3a"
             ],
             [
              0.8888888888888888,
              "#fdca26"
             ],
             [
              1,
              "#f0f921"
             ]
            ],
            "type": "contour"
           }
          ],
          "contourcarpet": [
           {
            "colorbar": {
             "outlinewidth": 0,
             "ticks": ""
            },
            "type": "contourcarpet"
           }
          ],
          "heatmap": [
           {
            "colorbar": {
             "outlinewidth": 0,
             "ticks": ""
            },
            "colorscale": [
             [
              0,
              "#0d0887"
             ],
             [
              0.1111111111111111,
              "#46039f"
             ],
             [
              0.2222222222222222,
              "#7201a8"
             ],
             [
              0.3333333333333333,
              "#9c179e"
             ],
             [
              0.4444444444444444,
              "#bd3786"
             ],
             [
              0.5555555555555556,
              "#d8576b"
             ],
             [
              0.6666666666666666,
              "#ed7953"
             ],
             [
              0.7777777777777778,
              "#fb9f3a"
             ],
             [
              0.8888888888888888,
              "#fdca26"
             ],
             [
              1,
              "#f0f921"
             ]
            ],
            "type": "heatmap"
           }
          ],
          "heatmapgl": [
           {
            "colorbar": {
             "outlinewidth": 0,
             "ticks": ""
            },
            "colorscale": [
             [
              0,
              "#0d0887"
             ],
             [
              0.1111111111111111,
              "#46039f"
             ],
             [
              0.2222222222222222,
              "#7201a8"
             ],
             [
              0.3333333333333333,
              "#9c179e"
             ],
             [
              0.4444444444444444,
              "#bd3786"
             ],
             [
              0.5555555555555556,
              "#d8576b"
             ],
             [
              0.6666666666666666,
              "#ed7953"
             ],
             [
              0.7777777777777778,
              "#fb9f3a"
             ],
             [
              0.8888888888888888,
              "#fdca26"
             ],
             [
              1,
              "#f0f921"
             ]
            ],
            "type": "heatmapgl"
           }
          ],
          "histogram": [
           {
            "marker": {
             "pattern": {
              "fillmode": "overlay",
              "size": 10,
              "solidity": 0.2
             }
            },
            "type": "histogram"
           }
          ],
          "histogram2d": [
           {
            "colorbar": {
             "outlinewidth": 0,
             "ticks": ""
            },
            "colorscale": [
             [
              0,
              "#0d0887"
             ],
             [
              0.1111111111111111,
              "#46039f"
             ],
             [
              0.2222222222222222,
              "#7201a8"
             ],
             [
              0.3333333333333333,
              "#9c179e"
             ],
             [
              0.4444444444444444,
              "#bd3786"
             ],
             [
              0.5555555555555556,
              "#d8576b"
             ],
             [
              0.6666666666666666,
              "#ed7953"
             ],
             [
              0.7777777777777778,
              "#fb9f3a"
             ],
             [
              0.8888888888888888,
              "#fdca26"
             ],
             [
              1,
              "#f0f921"
             ]
            ],
            "type": "histogram2d"
           }
          ],
          "histogram2dcontour": [
           {
            "colorbar": {
             "outlinewidth": 0,
             "ticks": ""
            },
            "colorscale": [
             [
              0,
              "#0d0887"
             ],
             [
              0.1111111111111111,
              "#46039f"
             ],
             [
              0.2222222222222222,
              "#7201a8"
             ],
             [
              0.3333333333333333,
              "#9c179e"
             ],
             [
              0.4444444444444444,
              "#bd3786"
             ],
             [
              0.5555555555555556,
              "#d8576b"
             ],
             [
              0.6666666666666666,
              "#ed7953"
             ],
             [
              0.7777777777777778,
              "#fb9f3a"
             ],
             [
              0.8888888888888888,
              "#fdca26"
             ],
             [
              1,
              "#f0f921"
             ]
            ],
            "type": "histogram2dcontour"
           }
          ],
          "mesh3d": [
           {
            "colorbar": {
             "outlinewidth": 0,
             "ticks": ""
            },
            "type": "mesh3d"
           }
          ],
          "parcoords": [
           {
            "line": {
             "colorbar": {
              "outlinewidth": 0,
              "ticks": ""
             }
            },
            "type": "parcoords"
           }
          ],
          "pie": [
           {
            "automargin": true,
            "type": "pie"
           }
          ],
          "scatter": [
           {
            "fillpattern": {
             "fillmode": "overlay",
             "size": 10,
             "solidity": 0.2
            },
            "type": "scatter"
           }
          ],
          "scatter3d": [
           {
            "line": {
             "colorbar": {
              "outlinewidth": 0,
              "ticks": ""
             }
            },
            "marker": {
             "colorbar": {
              "outlinewidth": 0,
              "ticks": ""
             }
            },
            "type": "scatter3d"
           }
          ],
          "scattercarpet": [
           {
            "marker": {
             "colorbar": {
              "outlinewidth": 0,
              "ticks": ""
             }
            },
            "type": "scattercarpet"
           }
          ],
          "scattergeo": [
           {
            "marker": {
             "colorbar": {
              "outlinewidth": 0,
              "ticks": ""
             }
            },
            "type": "scattergeo"
           }
          ],
          "scattergl": [
           {
            "marker": {
             "colorbar": {
              "outlinewidth": 0,
              "ticks": ""
             }
            },
            "type": "scattergl"
           }
          ],
          "scattermapbox": [
           {
            "marker": {
             "colorbar": {
              "outlinewidth": 0,
              "ticks": ""
             }
            },
            "type": "scattermapbox"
           }
          ],
          "scatterpolar": [
           {
            "marker": {
             "colorbar": {
              "outlinewidth": 0,
              "ticks": ""
             }
            },
            "type": "scatterpolar"
           }
          ],
          "scatterpolargl": [
           {
            "marker": {
             "colorbar": {
              "outlinewidth": 0,
              "ticks": ""
             }
            },
            "type": "scatterpolargl"
           }
          ],
          "scatterternary": [
           {
            "marker": {
             "colorbar": {
              "outlinewidth": 0,
              "ticks": ""
             }
            },
            "type": "scatterternary"
           }
          ],
          "surface": [
           {
            "colorbar": {
             "outlinewidth": 0,
             "ticks": ""
            },
            "colorscale": [
             [
              0,
              "#0d0887"
             ],
             [
              0.1111111111111111,
              "#46039f"
             ],
             [
              0.2222222222222222,
              "#7201a8"
             ],
             [
              0.3333333333333333,
              "#9c179e"
             ],
             [
              0.4444444444444444,
              "#bd3786"
             ],
             [
              0.5555555555555556,
              "#d8576b"
             ],
             [
              0.6666666666666666,
              "#ed7953"
             ],
             [
              0.7777777777777778,
              "#fb9f3a"
             ],
             [
              0.8888888888888888,
              "#fdca26"
             ],
             [
              1,
              "#f0f921"
             ]
            ],
            "type": "surface"
           }
          ],
          "table": [
           {
            "cells": {
             "fill": {
              "color": "#EBF0F8"
             },
             "line": {
              "color": "white"
             }
            },
            "header": {
             "fill": {
              "color": "#C8D4E3"
             },
             "line": {
              "color": "white"
             }
            },
            "type": "table"
           }
          ]
         },
         "layout": {
          "annotationdefaults": {
           "arrowcolor": "#2a3f5f",
           "arrowhead": 0,
           "arrowwidth": 1
          },
          "autotypenumbers": "strict",
          "coloraxis": {
           "colorbar": {
            "outlinewidth": 0,
            "ticks": ""
           }
          },
          "colorscale": {
           "diverging": [
            [
             0,
             "#8e0152"
            ],
            [
             0.1,
             "#c51b7d"
            ],
            [
             0.2,
             "#de77ae"
            ],
            [
             0.3,
             "#f1b6da"
            ],
            [
             0.4,
             "#fde0ef"
            ],
            [
             0.5,
             "#f7f7f7"
            ],
            [
             0.6,
             "#e6f5d0"
            ],
            [
             0.7,
             "#b8e186"
            ],
            [
             0.8,
             "#7fbc41"
            ],
            [
             0.9,
             "#4d9221"
            ],
            [
             1,
             "#276419"
            ]
           ],
           "sequential": [
            [
             0,
             "#0d0887"
            ],
            [
             0.1111111111111111,
             "#46039f"
            ],
            [
             0.2222222222222222,
             "#7201a8"
            ],
            [
             0.3333333333333333,
             "#9c179e"
            ],
            [
             0.4444444444444444,
             "#bd3786"
            ],
            [
             0.5555555555555556,
             "#d8576b"
            ],
            [
             0.6666666666666666,
             "#ed7953"
            ],
            [
             0.7777777777777778,
             "#fb9f3a"
            ],
            [
             0.8888888888888888,
             "#fdca26"
            ],
            [
             1,
             "#f0f921"
            ]
           ],
           "sequentialminus": [
            [
             0,
             "#0d0887"
            ],
            [
             0.1111111111111111,
             "#46039f"
            ],
            [
             0.2222222222222222,
             "#7201a8"
            ],
            [
             0.3333333333333333,
             "#9c179e"
            ],
            [
             0.4444444444444444,
             "#bd3786"
            ],
            [
             0.5555555555555556,
             "#d8576b"
            ],
            [
             0.6666666666666666,
             "#ed7953"
            ],
            [
             0.7777777777777778,
             "#fb9f3a"
            ],
            [
             0.8888888888888888,
             "#fdca26"
            ],
            [
             1,
             "#f0f921"
            ]
           ]
          },
          "colorway": [
           "#636efa",
           "#EF553B",
           "#00cc96",
           "#ab63fa",
           "#FFA15A",
           "#19d3f3",
           "#FF6692",
           "#B6E880",
           "#FF97FF",
           "#FECB52"
          ],
          "font": {
           "color": "#2a3f5f"
          },
          "geo": {
           "bgcolor": "white",
           "lakecolor": "white",
           "landcolor": "#E5ECF6",
           "showlakes": true,
           "showland": true,
           "subunitcolor": "white"
          },
          "hoverlabel": {
           "align": "left"
          },
          "hovermode": "closest",
          "mapbox": {
           "style": "light"
          },
          "paper_bgcolor": "white",
          "plot_bgcolor": "#E5ECF6",
          "polar": {
           "angularaxis": {
            "gridcolor": "white",
            "linecolor": "white",
            "ticks": ""
           },
           "bgcolor": "#E5ECF6",
           "radialaxis": {
            "gridcolor": "white",
            "linecolor": "white",
            "ticks": ""
           }
          },
          "scene": {
           "xaxis": {
            "backgroundcolor": "#E5ECF6",
            "gridcolor": "white",
            "gridwidth": 2,
            "linecolor": "white",
            "showbackground": true,
            "ticks": "",
            "zerolinecolor": "white"
           },
           "yaxis": {
            "backgroundcolor": "#E5ECF6",
            "gridcolor": "white",
            "gridwidth": 2,
            "linecolor": "white",
            "showbackground": true,
            "ticks": "",
            "zerolinecolor": "white"
           },
           "zaxis": {
            "backgroundcolor": "#E5ECF6",
            "gridcolor": "white",
            "gridwidth": 2,
            "linecolor": "white",
            "showbackground": true,
            "ticks": "",
            "zerolinecolor": "white"
           }
          },
          "shapedefaults": {
           "line": {
            "color": "#2a3f5f"
           }
          },
          "ternary": {
           "aaxis": {
            "gridcolor": "white",
            "linecolor": "white",
            "ticks": ""
           },
           "baxis": {
            "gridcolor": "white",
            "linecolor": "white",
            "ticks": ""
           },
           "bgcolor": "#E5ECF6",
           "caxis": {
            "gridcolor": "white",
            "linecolor": "white",
            "ticks": ""
           }
          },
          "title": {
           "x": 0.05
          },
          "xaxis": {
           "automargin": true,
           "gridcolor": "white",
           "linecolor": "white",
           "ticks": "",
           "title": {
            "standoff": 15
           },
           "zerolinecolor": "white",
           "zerolinewidth": 2
          },
          "yaxis": {
           "automargin": true,
           "gridcolor": "white",
           "linecolor": "white",
           "ticks": "",
           "title": {
            "standoff": 15
           },
           "zerolinecolor": "white",
           "zerolinewidth": 2
          }
         }
        },
        "title": {
         "text": "Histogram of Residuals circular-small Overestimation "
        },
        "xaxis": {
         "anchor": "y",
         "domain": [
          0,
          1
         ],
         "title": {
          "text": "Residuals circular-small (Overestimation vs Underestimation)"
         }
        },
        "xaxis2": {
         "anchor": "y2",
         "domain": [
          0,
          1
         ],
         "matches": "x",
         "showgrid": true,
         "showticklabels": false
        },
        "yaxis": {
         "anchor": "x",
         "domain": [
          0,
          0.8316
         ],
         "title": {
          "text": "Frequency"
         }
        },
        "yaxis2": {
         "anchor": "x2",
         "domain": [
          0.8416,
          1
         ],
         "matches": "y2",
         "showgrid": false,
         "showline": false,
         "showticklabels": false,
         "ticks": ""
        }
       }
      }
     },
     "metadata": {},
     "output_type": "display_data"
    },
    {
     "data": {
      "application/vnd.plotly.v1+json": {
       "config": {
        "plotlyServerURL": "https://plot.ly"
       },
       "data": [
        {
         "alignmentgroup": "True",
         "bingroup": "x",
         "hovertemplate": "overestimation=%{x}<br>count=%{y}<extra></extra>",
         "legendgroup": "",
         "marker": {
          "color": "#636efa",
          "pattern": {
           "shape": ""
          }
         },
         "name": "",
         "nbinsx": 30,
         "offsetgroup": "",
         "orientation": "v",
         "showlegend": false,
         "type": "histogram",
         "x": [
          0.9973022309122115,
          5.526412192379695,
          -4.937276930490313,
          1.3225031509718974,
          -0.775768650412914,
          5.998012830541398,
          -5.630771158544505,
          1.008652192411688,
          -0.24328713610609043,
          8.935418999867707,
          -1.2931395022683034,
          -1.7108299610818847,
          3.061333522325583,
          -5.284333157032307
         ],
         "xaxis": "x",
         "yaxis": "y"
        },
        {
         "alignmentgroup": "True",
         "customdata": [
          [
           "full body:undistorted_GX010152_36_378.jpg_gamma",
           "Prawn_0"
          ],
          [
           "full body:undistorted_GX010152_36_378.jpg_gamma",
           "Prawn_1"
          ],
          [
           "full body:undistorted_GX010157_160_2259",
           "Prawn_0"
          ],
          [
           "full body:undistorted_GX010157_174_2582.jpg_gamma",
           "Prawn_0"
          ],
          [
           "full body:undistorted_GX010157_177_2665.jpg_gamma",
           "Prawn_0"
          ],
          [
           "full body:undistorted_GX010161_54_676.jpg_gamma.jpg_gamma",
           "Prawn_0"
          ],
          [
           "full body:undistorted_GX010162_72_927.jpg_gamma.jpg_gamma",
           "Prawn_0"
          ],
          [
           "full body:undistorted_GX010174_62_790.jpg_gamma",
           "Prawn_0"
          ],
          [
           "full body:undistorted_GX010175_266_3372.jpg_gamma.jpg_gamma",
           "Prawn_0"
          ],
          [
           "full body:undistorted_GX010177_232_3047",
           "Prawn_0"
          ],
          [
           "full body:undistorted_GX010178_172_3604.jpg_gamma",
           "Prawn_0"
          ],
          [
           "full body:undistorted_GX010183_37_685.jpg_gamma",
           "Prawn_0"
          ],
          [
           "full body:undistorted_GX010183_80_1633.jpg_gamma",
           "Prawn_0"
          ],
          [
           "full body:undistorted_GX010183_128_2852.jpg_gamma",
           "Prawn_0"
          ]
         ],
         "hovertemplate": "overestimation=%{x}<br>Label=%{customdata[0]}<br>PrawnID=%{customdata[1]}<extra></extra>",
         "legendgroup": "",
         "marker": {
          "color": "#636efa"
         },
         "name": "",
         "notched": true,
         "offsetgroup": "",
         "showlegend": false,
         "type": "box",
         "x": [
          0.9973022309122115,
          5.526412192379695,
          -4.937276930490313,
          1.3225031509718974,
          -0.775768650412914,
          5.998012830541398,
          -5.630771158544505,
          1.008652192411688,
          -0.24328713610609043,
          8.935418999867707,
          -1.2931395022683034,
          -1.7108299610818847,
          3.061333522325583,
          -5.284333157032307
         ],
         "xaxis": "x2",
         "yaxis": "y2"
        }
       ],
       "layout": {
        "barmode": "relative",
        "legend": {
         "tracegroupgap": 0
        },
        "shapes": [
         {
          "line": {
           "color": "red",
           "dash": "dash"
          },
          "type": "line",
          "x0": 0,
          "x1": 0,
          "xref": "x",
          "y0": 0,
          "y1": 1,
          "yref": "y domain"
         },
         {
          "line": {
           "color": "red",
           "dash": "dash"
          },
          "type": "line",
          "x0": 0,
          "x1": 0,
          "xref": "x2",
          "y0": 0,
          "y1": 1,
          "yref": "y2 domain"
         }
        ],
        "template": {
         "data": {
          "bar": [
           {
            "error_x": {
             "color": "#2a3f5f"
            },
            "error_y": {
             "color": "#2a3f5f"
            },
            "marker": {
             "line": {
              "color": "#E5ECF6",
              "width": 0.5
             },
             "pattern": {
              "fillmode": "overlay",
              "size": 10,
              "solidity": 0.2
             }
            },
            "type": "bar"
           }
          ],
          "barpolar": [
           {
            "marker": {
             "line": {
              "color": "#E5ECF6",
              "width": 0.5
             },
             "pattern": {
              "fillmode": "overlay",
              "size": 10,
              "solidity": 0.2
             }
            },
            "type": "barpolar"
           }
          ],
          "carpet": [
           {
            "aaxis": {
             "endlinecolor": "#2a3f5f",
             "gridcolor": "white",
             "linecolor": "white",
             "minorgridcolor": "white",
             "startlinecolor": "#2a3f5f"
            },
            "baxis": {
             "endlinecolor": "#2a3f5f",
             "gridcolor": "white",
             "linecolor": "white",
             "minorgridcolor": "white",
             "startlinecolor": "#2a3f5f"
            },
            "type": "carpet"
           }
          ],
          "choropleth": [
           {
            "colorbar": {
             "outlinewidth": 0,
             "ticks": ""
            },
            "type": "choropleth"
           }
          ],
          "contour": [
           {
            "colorbar": {
             "outlinewidth": 0,
             "ticks": ""
            },
            "colorscale": [
             [
              0,
              "#0d0887"
             ],
             [
              0.1111111111111111,
              "#46039f"
             ],
             [
              0.2222222222222222,
              "#7201a8"
             ],
             [
              0.3333333333333333,
              "#9c179e"
             ],
             [
              0.4444444444444444,
              "#bd3786"
             ],
             [
              0.5555555555555556,
              "#d8576b"
             ],
             [
              0.6666666666666666,
              "#ed7953"
             ],
             [
              0.7777777777777778,
              "#fb9f3a"
             ],
             [
              0.8888888888888888,
              "#fdca26"
             ],
             [
              1,
              "#f0f921"
             ]
            ],
            "type": "contour"
           }
          ],
          "contourcarpet": [
           {
            "colorbar": {
             "outlinewidth": 0,
             "ticks": ""
            },
            "type": "contourcarpet"
           }
          ],
          "heatmap": [
           {
            "colorbar": {
             "outlinewidth": 0,
             "ticks": ""
            },
            "colorscale": [
             [
              0,
              "#0d0887"
             ],
             [
              0.1111111111111111,
              "#46039f"
             ],
             [
              0.2222222222222222,
              "#7201a8"
             ],
             [
              0.3333333333333333,
              "#9c179e"
             ],
             [
              0.4444444444444444,
              "#bd3786"
             ],
             [
              0.5555555555555556,
              "#d8576b"
             ],
             [
              0.6666666666666666,
              "#ed7953"
             ],
             [
              0.7777777777777778,
              "#fb9f3a"
             ],
             [
              0.8888888888888888,
              "#fdca26"
             ],
             [
              1,
              "#f0f921"
             ]
            ],
            "type": "heatmap"
           }
          ],
          "heatmapgl": [
           {
            "colorbar": {
             "outlinewidth": 0,
             "ticks": ""
            },
            "colorscale": [
             [
              0,
              "#0d0887"
             ],
             [
              0.1111111111111111,
              "#46039f"
             ],
             [
              0.2222222222222222,
              "#7201a8"
             ],
             [
              0.3333333333333333,
              "#9c179e"
             ],
             [
              0.4444444444444444,
              "#bd3786"
             ],
             [
              0.5555555555555556,
              "#d8576b"
             ],
             [
              0.6666666666666666,
              "#ed7953"
             ],
             [
              0.7777777777777778,
              "#fb9f3a"
             ],
             [
              0.8888888888888888,
              "#fdca26"
             ],
             [
              1,
              "#f0f921"
             ]
            ],
            "type": "heatmapgl"
           }
          ],
          "histogram": [
           {
            "marker": {
             "pattern": {
              "fillmode": "overlay",
              "size": 10,
              "solidity": 0.2
             }
            },
            "type": "histogram"
           }
          ],
          "histogram2d": [
           {
            "colorbar": {
             "outlinewidth": 0,
             "ticks": ""
            },
            "colorscale": [
             [
              0,
              "#0d0887"
             ],
             [
              0.1111111111111111,
              "#46039f"
             ],
             [
              0.2222222222222222,
              "#7201a8"
             ],
             [
              0.3333333333333333,
              "#9c179e"
             ],
             [
              0.4444444444444444,
              "#bd3786"
             ],
             [
              0.5555555555555556,
              "#d8576b"
             ],
             [
              0.6666666666666666,
              "#ed7953"
             ],
             [
              0.7777777777777778,
              "#fb9f3a"
             ],
             [
              0.8888888888888888,
              "#fdca26"
             ],
             [
              1,
              "#f0f921"
             ]
            ],
            "type": "histogram2d"
           }
          ],
          "histogram2dcontour": [
           {
            "colorbar": {
             "outlinewidth": 0,
             "ticks": ""
            },
            "colorscale": [
             [
              0,
              "#0d0887"
             ],
             [
              0.1111111111111111,
              "#46039f"
             ],
             [
              0.2222222222222222,
              "#7201a8"
             ],
             [
              0.3333333333333333,
              "#9c179e"
             ],
             [
              0.4444444444444444,
              "#bd3786"
             ],
             [
              0.5555555555555556,
              "#d8576b"
             ],
             [
              0.6666666666666666,
              "#ed7953"
             ],
             [
              0.7777777777777778,
              "#fb9f3a"
             ],
             [
              0.8888888888888888,
              "#fdca26"
             ],
             [
              1,
              "#f0f921"
             ]
            ],
            "type": "histogram2dcontour"
           }
          ],
          "mesh3d": [
           {
            "colorbar": {
             "outlinewidth": 0,
             "ticks": ""
            },
            "type": "mesh3d"
           }
          ],
          "parcoords": [
           {
            "line": {
             "colorbar": {
              "outlinewidth": 0,
              "ticks": ""
             }
            },
            "type": "parcoords"
           }
          ],
          "pie": [
           {
            "automargin": true,
            "type": "pie"
           }
          ],
          "scatter": [
           {
            "fillpattern": {
             "fillmode": "overlay",
             "size": 10,
             "solidity": 0.2
            },
            "type": "scatter"
           }
          ],
          "scatter3d": [
           {
            "line": {
             "colorbar": {
              "outlinewidth": 0,
              "ticks": ""
             }
            },
            "marker": {
             "colorbar": {
              "outlinewidth": 0,
              "ticks": ""
             }
            },
            "type": "scatter3d"
           }
          ],
          "scattercarpet": [
           {
            "marker": {
             "colorbar": {
              "outlinewidth": 0,
              "ticks": ""
             }
            },
            "type": "scattercarpet"
           }
          ],
          "scattergeo": [
           {
            "marker": {
             "colorbar": {
              "outlinewidth": 0,
              "ticks": ""
             }
            },
            "type": "scattergeo"
           }
          ],
          "scattergl": [
           {
            "marker": {
             "colorbar": {
              "outlinewidth": 0,
              "ticks": ""
             }
            },
            "type": "scattergl"
           }
          ],
          "scattermapbox": [
           {
            "marker": {
             "colorbar": {
              "outlinewidth": 0,
              "ticks": ""
             }
            },
            "type": "scattermapbox"
           }
          ],
          "scatterpolar": [
           {
            "marker": {
             "colorbar": {
              "outlinewidth": 0,
              "ticks": ""
             }
            },
            "type": "scatterpolar"
           }
          ],
          "scatterpolargl": [
           {
            "marker": {
             "colorbar": {
              "outlinewidth": 0,
              "ticks": ""
             }
            },
            "type": "scatterpolargl"
           }
          ],
          "scatterternary": [
           {
            "marker": {
             "colorbar": {
              "outlinewidth": 0,
              "ticks": ""
             }
            },
            "type": "scatterternary"
           }
          ],
          "surface": [
           {
            "colorbar": {
             "outlinewidth": 0,
             "ticks": ""
            },
            "colorscale": [
             [
              0,
              "#0d0887"
             ],
             [
              0.1111111111111111,
              "#46039f"
             ],
             [
              0.2222222222222222,
              "#7201a8"
             ],
             [
              0.3333333333333333,
              "#9c179e"
             ],
             [
              0.4444444444444444,
              "#bd3786"
             ],
             [
              0.5555555555555556,
              "#d8576b"
             ],
             [
              0.6666666666666666,
              "#ed7953"
             ],
             [
              0.7777777777777778,
              "#fb9f3a"
             ],
             [
              0.8888888888888888,
              "#fdca26"
             ],
             [
              1,
              "#f0f921"
             ]
            ],
            "type": "surface"
           }
          ],
          "table": [
           {
            "cells": {
             "fill": {
              "color": "#EBF0F8"
             },
             "line": {
              "color": "white"
             }
            },
            "header": {
             "fill": {
              "color": "#C8D4E3"
             },
             "line": {
              "color": "white"
             }
            },
            "type": "table"
           }
          ]
         },
         "layout": {
          "annotationdefaults": {
           "arrowcolor": "#2a3f5f",
           "arrowhead": 0,
           "arrowwidth": 1
          },
          "autotypenumbers": "strict",
          "coloraxis": {
           "colorbar": {
            "outlinewidth": 0,
            "ticks": ""
           }
          },
          "colorscale": {
           "diverging": [
            [
             0,
             "#8e0152"
            ],
            [
             0.1,
             "#c51b7d"
            ],
            [
             0.2,
             "#de77ae"
            ],
            [
             0.3,
             "#f1b6da"
            ],
            [
             0.4,
             "#fde0ef"
            ],
            [
             0.5,
             "#f7f7f7"
            ],
            [
             0.6,
             "#e6f5d0"
            ],
            [
             0.7,
             "#b8e186"
            ],
            [
             0.8,
             "#7fbc41"
            ],
            [
             0.9,
             "#4d9221"
            ],
            [
             1,
             "#276419"
            ]
           ],
           "sequential": [
            [
             0,
             "#0d0887"
            ],
            [
             0.1111111111111111,
             "#46039f"
            ],
            [
             0.2222222222222222,
             "#7201a8"
            ],
            [
             0.3333333333333333,
             "#9c179e"
            ],
            [
             0.4444444444444444,
             "#bd3786"
            ],
            [
             0.5555555555555556,
             "#d8576b"
            ],
            [
             0.6666666666666666,
             "#ed7953"
            ],
            [
             0.7777777777777778,
             "#fb9f3a"
            ],
            [
             0.8888888888888888,
             "#fdca26"
            ],
            [
             1,
             "#f0f921"
            ]
           ],
           "sequentialminus": [
            [
             0,
             "#0d0887"
            ],
            [
             0.1111111111111111,
             "#46039f"
            ],
            [
             0.2222222222222222,
             "#7201a8"
            ],
            [
             0.3333333333333333,
             "#9c179e"
            ],
            [
             0.4444444444444444,
             "#bd3786"
            ],
            [
             0.5555555555555556,
             "#d8576b"
            ],
            [
             0.6666666666666666,
             "#ed7953"
            ],
            [
             0.7777777777777778,
             "#fb9f3a"
            ],
            [
             0.8888888888888888,
             "#fdca26"
            ],
            [
             1,
             "#f0f921"
            ]
           ]
          },
          "colorway": [
           "#636efa",
           "#EF553B",
           "#00cc96",
           "#ab63fa",
           "#FFA15A",
           "#19d3f3",
           "#FF6692",
           "#B6E880",
           "#FF97FF",
           "#FECB52"
          ],
          "font": {
           "color": "#2a3f5f"
          },
          "geo": {
           "bgcolor": "white",
           "lakecolor": "white",
           "landcolor": "#E5ECF6",
           "showlakes": true,
           "showland": true,
           "subunitcolor": "white"
          },
          "hoverlabel": {
           "align": "left"
          },
          "hovermode": "closest",
          "mapbox": {
           "style": "light"
          },
          "paper_bgcolor": "white",
          "plot_bgcolor": "#E5ECF6",
          "polar": {
           "angularaxis": {
            "gridcolor": "white",
            "linecolor": "white",
            "ticks": ""
           },
           "bgcolor": "#E5ECF6",
           "radialaxis": {
            "gridcolor": "white",
            "linecolor": "white",
            "ticks": ""
           }
          },
          "scene": {
           "xaxis": {
            "backgroundcolor": "#E5ECF6",
            "gridcolor": "white",
            "gridwidth": 2,
            "linecolor": "white",
            "showbackground": true,
            "ticks": "",
            "zerolinecolor": "white"
           },
           "yaxis": {
            "backgroundcolor": "#E5ECF6",
            "gridcolor": "white",
            "gridwidth": 2,
            "linecolor": "white",
            "showbackground": true,
            "ticks": "",
            "zerolinecolor": "white"
           },
           "zaxis": {
            "backgroundcolor": "#E5ECF6",
            "gridcolor": "white",
            "gridwidth": 2,
            "linecolor": "white",
            "showbackground": true,
            "ticks": "",
            "zerolinecolor": "white"
           }
          },
          "shapedefaults": {
           "line": {
            "color": "#2a3f5f"
           }
          },
          "ternary": {
           "aaxis": {
            "gridcolor": "white",
            "linecolor": "white",
            "ticks": ""
           },
           "baxis": {
            "gridcolor": "white",
            "linecolor": "white",
            "ticks": ""
           },
           "bgcolor": "#E5ECF6",
           "caxis": {
            "gridcolor": "white",
            "linecolor": "white",
            "ticks": ""
           }
          },
          "title": {
           "x": 0.05
          },
          "xaxis": {
           "automargin": true,
           "gridcolor": "white",
           "linecolor": "white",
           "ticks": "",
           "title": {
            "standoff": 15
           },
           "zerolinecolor": "white",
           "zerolinewidth": 2
          },
          "yaxis": {
           "automargin": true,
           "gridcolor": "white",
           "linecolor": "white",
           "ticks": "",
           "title": {
            "standoff": 15
           },
           "zerolinecolor": "white",
           "zerolinewidth": 2
          }
         }
        },
        "title": {
         "text": "Histogram of Residuals square-female Overestimation "
        },
        "xaxis": {
         "anchor": "y",
         "domain": [
          0,
          1
         ],
         "title": {
          "text": "Residuals square-female (Overestimation vs Underestimation)"
         }
        },
        "xaxis2": {
         "anchor": "y2",
         "domain": [
          0,
          1
         ],
         "matches": "x",
         "showgrid": true,
         "showticklabels": false
        },
        "yaxis": {
         "anchor": "x",
         "domain": [
          0,
          0.8316
         ],
         "title": {
          "text": "Frequency"
         }
        },
        "yaxis2": {
         "anchor": "x2",
         "domain": [
          0.8416,
          1
         ],
         "matches": "y2",
         "showgrid": false,
         "showline": false,
         "showticklabels": false,
         "ticks": ""
        }
       }
      }
     },
     "metadata": {},
     "output_type": "display_data"
    }
   ],
   "source": [
    "import plotly.express as px\n",
    "\n",
    "\n",
    "\n",
    "\n",
    "\n",
    "df['min_mpe_length-'] = df.apply(lambda row: row['Length_FOV_box'] - row['Length_FOV_box'] * row['min_mpe']/100, axis=1)\n",
    "                                \n",
    "df['min_mpe_length+']= df.apply(lambda row: row['Length_FOV_box'] + row['Length_FOV_box'] * row['min_mpe']/100, axis=1)\n",
    "\n",
    "df['min_mae_length-'] = df.apply(lambda row: row['Length_FOV_box'] -  row['min_mae'], axis=1)\n",
    "df['min_mae_length+'] = df.apply(lambda row: row['Length_FOV_box'] +  row['min_mae'], axis=1)\n",
    "\n",
    "\n",
    "\n",
    "\n",
    "def get_closest_length_and_distance(row, target_length1,true_length2):\n",
    "    lengths = [row['Length_1'], row['Length_2'], row['Length_3']]\n",
    "    closest_length_1 = min(lengths, key=lambda x: abs(x - target_length1))\n",
    "    distance_1 = abs(closest_length_1 - target_length1)\n",
    "    closest_length_2 = min(lengths, key=lambda x: abs(x - true_length2))\n",
    "    distance_2 = abs(closest_length_2 - true_length2)\n",
    "\n",
    "    if distance_1 < distance_2:\n",
    "        closest_length = closest_length_1\n",
    "        distance = distance_1\n",
    "    else:\n",
    "        closest_length = closest_length_2\n",
    "        distance = distance_2\n",
    "\n",
    "\n",
    "    return closest_length, distance\n",
    "\n",
    "# Apply the function to find the closest length and distance to min_mpe_length-\n",
    "df['closest_length_min_mpe'] = df.apply(\n",
    "    lambda row: (get_closest_length_and_distance(row, row['min_mpe_length-'],row['min_mpe_length+'])), axis=1\n",
    ")\n",
    "\n",
    "df['closest_length_min_mae'] = df.apply( lambda row: (get_closest_length_and_distance(row, row['min_mae_length-'],row['min_mae_length+'])), axis=1)\n",
    "\n",
    "# Apply the function to find the closest length and distance to min_mpe_length+\n",
    "df['closest_length_min_mae_value']=df['closest_length_min_mae'].apply(lambda x: x[0] if isinstance(x, tuple) else x)\n",
    "# Assuming df contains the columns 'predicted_length' and 'true_length'\n",
    "#take the overestimation from the min_percentage_error length\n",
    "# find the true length when min_mpe is used\n",
    "\n",
    "#min_mpe_length will be decided by the min_mpe percentage error \n",
    "\n",
    "\n",
    "df['closest_length_min_mpe_value'] = df['closest_length_min_mpe'].apply(lambda x: x[0] if isinstance(x, tuple) else x)\n",
    "\n",
    "# Calculate overestimation\n",
    "df['overestimation'] = df['Length_FOV_box'] - df['closest_length_min_mae_value']\n",
    "\n",
    "\n",
    "\n",
    "\n",
    "\n",
    "\n",
    "\n",
    "\n",
    "\n",
    "\n",
    "\n",
    "\n",
    "\n",
    "\n",
    "                                 #approximatly equal to length_1 \n",
    "\n",
    "# df['overestimation'] = df['Length_FOV_box'] - df['closest_length_min_mpe']\n",
    "\n",
    "\n",
    "\n",
    "\n",
    "\n",
    "\n",
    "for pond_type in df['PondType'].unique():\n",
    "    fig = px.histogram(df[df['PondType'] == pond_type], x='overestimation', nbins=30, marginal=\"box\", title=f\"Histogram of Residuals {pond_type} Overestimation \",hover_data=['Label', 'PrawnID'])\n",
    "    fig.update_layout(\n",
    "    xaxis_title=f\"Residuals {pond_type} (Overestimation vs Underestimation)\",\n",
    "    yaxis_title=\"Frequency\",\n",
    "    )\n",
    "    # Add a vertical line at 0 to show the separation between overestimation and underestimation\n",
    "    fig.add_vline(x=0, line_dash=\"dash\", line_color=\"red\")\n",
    "\n",
    "    # Save the plot to a file\n",
    "    fig.write_image(f'histogram_residuals {pond_type}.png')\n",
    "\n",
    "    fig.show()\n",
    "\n",
    "# df['underestimation'] = df['Length_FOV_box'] - df['expert_min']\n",
    "\n",
    "# for pond_type in df['PondType'].unique():\n",
    "#     fig = px.histogram(df[df['PondType'] == pond_type], x='underestimation', nbins=30, marginal=\"box\", title=f\"Histogram of Residuals {pond_type}  Underestimation)\",hover_data=['Label', 'PrawnID'])\n",
    "#     fig.update_layout(\n",
    "#     xaxis_title=f\"Residuals {pond_type} (Overestimation vs Underestimation)\",\n",
    "#     yaxis_title=\"Frequency\",\n",
    "#     )\n",
    "#     # Add a vertical line at 0 to show the separation between overestimation and underestimation\n",
    "#     fig.add_vline(x=0, line_dash=\"dash\", line_color=\"red\")\n",
    "\n",
    "#     # Save the plot to a file\n",
    "#     fig.write_image(f'histogram_residuals {pond_type}.png')\n",
    "\n",
    "#     fig.show()\n",
    "\n",
    "# Calculate overestimation and underestimation counts\n",
    "\n",
    "\n"
   ]
  },
  {
   "cell_type": "code",
   "execution_count": 12,
   "metadata": {},
   "outputs": [
    {
     "data": {
      "application/vnd.plotly.v1+json": {
       "config": {
        "plotlyServerURL": "https://plot.ly"
       },
       "data": [
        {
         "customdata": [
          [
           "full body:undistorted_GX010077_14_237.jpg_gamma",
           "Prawn_0"
          ],
          [
           "full body:undistorted_GX010077_14_237.jpg_gamma",
           "Prawn_1"
          ],
          [
           "full body:undistorted_GX010077_14_237.jpg_gamma",
           "Prawn_2"
          ],
          [
           "full body:undistorted_GX010067_33_625.jpg_gamma",
           "Prawn_0"
          ],
          [
           "full body:undistorted_GX010067_33_625.jpg_gamma",
           "Prawn_1"
          ],
          [
           "full body:undistorted_GX010067_33_625.jpg_gamma",
           "Prawn_2"
          ],
          [
           "full body:undistorted_GX010067_33_625.jpg_gamma",
           "Prawn_3"
          ],
          [
           "full body:undistorted_GX010068_26_666.jpg_gamma",
           "Prawn_0"
          ],
          [
           "full body:undistorted_GX010068_26_666.jpg_gamma",
           "Prawn_1"
          ],
          [
           "full body:undistorted_GX010068_26_666.jpg_gamma",
           "Prawn_2"
          ],
          [
           "full body:undistorted_GX010068_27_795.jpg_gamma",
           "Prawn_0"
          ],
          [
           "full body:undistorted_GX010068_27_795.jpg_gamma",
           "Prawn_1"
          ],
          [
           "full body:undistorted_GX010069_19_191.jpg_gamma",
           "Prawn_0"
          ],
          [
           "full body:undistorted_GX010069_19_191.jpg_gamma",
           "Prawn_1"
          ],
          [
           "full body:undistorted_GX010069_19_191.jpg_gamma",
           "Prawn_2"
          ],
          [
           "full body:undistorted_GX010069_19_191.jpg_gamma",
           "Prawn_3"
          ],
          [
           "full body:undistorted_GX010071_22_444.jpg_gamma",
           "Prawn_0"
          ],
          [
           "full body:undistorted_GX010071_22_444.jpg_gamma",
           "Prawn_1"
          ],
          [
           "full body:undistorted_GX010073_42_695.jpg_gamma",
           "Prawn_0"
          ],
          [
           "full body:undistorted_GX010073_42_695.jpg_gamma",
           "Prawn_1"
          ],
          [
           "full body:undistorted_GX010073_42_695.jpg_gamma",
           "Prawn_2"
          ],
          [
           "full body:undistorted_GX010073_55_1014.jpg_gamma",
           "Prawn_0"
          ],
          [
           "full body:undistorted_GX010073_55_1014.jpg_gamma",
           "Prawn_1"
          ],
          [
           "full body:undistorted_GX010073_55_1014.jpg_gamma",
           "Prawn_2"
          ],
          [
           "full body:undistorted_GX010080_157_2283.jpg_gamma",
           "Prawn_0"
          ],
          [
           "full body:undistorted_GX010080_157_2283.jpg_gamma",
           "Prawn_2"
          ],
          [
           "full body:undistorted_GX010080_157_2283.jpg_gamma",
           "Prawn_3"
          ],
          [
           "full body:undistorted_GX010080_193_2640.jpg_gamma",
           "Prawn_0"
          ],
          [
           "full body:undistorted_GX010080_193_2640.jpg_gamma",
           "Prawn_1"
          ],
          [
           "full body:undistorted_GX010080_193_2640.jpg_gamma",
           "Prawn_2"
          ],
          [
           "full body:undistorted_GX010080_193_2640.jpg_gamma",
           "Prawn_3"
          ],
          [
           "full body:undistorted_GX010080_193_2640.jpg_gamma",
           "Prawn_4"
          ],
          [
           "full body:undistorted_GX010080_212_2954.jpg_gamma",
           "Prawn_0"
          ],
          [
           "full body:undistorted_GX010080_212_2954.jpg_gamma",
           "Prawn_1"
          ],
          [
           "full body:undistorted_GX010080_212_2954.jpg_gamma",
           "Prawn_2"
          ],
          [
           "full body:undistorted_GX010080_237_3366.jpg_gamma",
           "Prawn_0"
          ],
          [
           "full body:undistorted_GX010080_237_3366.jpg_gamma",
           "Prawn_1"
          ],
          [
           "full body:undistorted_GX010080_237_3366.jpg_gamma",
           "Prawn_2"
          ],
          [
           "full body:undistorted_GX010080_237_3366.jpg_gamma",
           "Prawn_3"
          ],
          [
           "full body:undistorted_GX010080_237_3366.jpg_gamma",
           "Prawn_4"
          ],
          [
           "full body:undistorted_GX010080_238_3392.jpg_gamma",
           "Prawn_0"
          ],
          [
           "full body:undistorted_GX010080_238_3392.jpg_gamma",
           "Prawn_1"
          ],
          [
           "full body:undistorted_GX010080_238_3392.jpg_gamma",
           "Prawn_2"
          ],
          [
           "full body:undistorted_GX010080_238_3392.jpg_gamma",
           "Prawn_3"
          ],
          [
           "full body:undistorted_GX010082_8_59.jpg_gamma",
           "Prawn_1"
          ],
          [
           "full body:undistorted_GX010082_8_59.jpg_gamma",
           "Prawn_2"
          ],
          [
           "full body:undistorted_GX010082_8_59.jpg_gamma",
           "Prawn_3"
          ],
          [
           "full body:undistorted_GX010082_8_59.jpg_gamma",
           "Prawn_4"
          ],
          [
           "full body:undistorted_GX010082_53_796.jpg_gamma",
           "Prawn_0"
          ],
          [
           "full body:undistorted_GX010082_53_796.jpg_gamma",
           "Prawn_1"
          ],
          [
           "full body:undistorted_GX010082_65_1070.jpg_gamma",
           "Prawn_0"
          ],
          [
           "full body:undistorted_GX010082_65_1070.jpg_gamma",
           "Prawn_1"
          ],
          [
           "full body:undistorted_GX010082_65_1070.jpg_gamma",
           "Prawn_2"
          ],
          [
           "full body:undistorted_GX010082_236_3137.jpg_gamma",
           "Prawn_0"
          ],
          [
           "full body:undistorted_GX010082_236_3137.jpg_gamma",
           "Prawn_1"
          ],
          [
           "full body:undistorted_GX010082_236_3137.jpg_gamma",
           "Prawn_2"
          ],
          [
           "full body:undistorted_GX010084_30_344.jpg_gamma",
           "Prawn_0"
          ],
          [
           "full body:undistorted_GX010084_30_344.jpg_gamma",
           "Prawn_1"
          ],
          [
           "full body:undistorted_GX010084_30_344.jpg_gamma",
           "Prawn_2"
          ],
          [
           "full body:undistorted_GX010084_30_344.jpg_gamma",
           "Prawn_3"
          ],
          [
           "full body:undistorted_GX010084_130_1748.jpg_gamma",
           "Prawn_0"
          ],
          [
           "full body:undistorted_GX010084_130_1748.jpg_gamma",
           "Prawn_1"
          ],
          [
           "full body:undistorted_GX010084_130_1748.jpg_gamma",
           "Prawn_2"
          ],
          [
           "full body:undistorted_GX010085_261_3610.jpg_gamma",
           "Prawn_0"
          ],
          [
           "full body:undistorted_GX010085_261_3610.jpg_gamma",
           "Prawn_1"
          ],
          [
           "full body:undistorted_GX010088_209_2904.jpg_gamma",
           "Prawn_0"
          ],
          [
           "full body:undistorted_GX010088_209_2904.jpg_gamma",
           "Prawn_1"
          ],
          [
           "full body:undistorted_GX010088_262_3712.jpg_gamma",
           "Prawn_0"
          ],
          [
           "full body:undistorted_GX010088_262_3712.jpg_gamma",
           "Prawn_1"
          ],
          [
           "full body:undistorted_GX010088_262_3712.jpg_gamma",
           "Prawn_2"
          ],
          [
           "full body:undistorted_GX010088_327_4364.jpg_gamma",
           "Prawn_0"
          ],
          [
           "full body:undistorted_GX010088_327_4364.jpg_gamma",
           "Prawn_1"
          ],
          [
           "full body:undistorted_GX010088_327_4364.jpg_gamma",
           "Prawn_2"
          ],
          [
           "full body:undistorted_GX010088_327_4364.jpg_gamma",
           "Prawn_3"
          ],
          [
           "full body:undistorted_GX010090_132_1852.jpg_gamma",
           "Prawn_0"
          ],
          [
           "full body:undistorted_GX010094_9_129.jpg_gamma",
           "Prawn_0"
          ],
          [
           "full body:undistorted_GX010094_9_129.jpg_gamma",
           "Prawn_1"
          ],
          [
           "full body:undistorted_GX010094_24_430.jpg_gamma",
           "Prawn_0"
          ],
          [
           "full body:undistorted_GX010094_93_1258.jpg_gamma",
           "Prawn_0"
          ],
          [
           "full body:undistorted_GX010094_163_2312.jpg_gamma",
           "Prawn_0"
          ],
          [
           "full body:undistorted_GX010097_32_528.jpg_gamma",
           "Prawn_0"
          ],
          [
           "full body:undistorted_GX010097_32_528.jpg_gamma",
           "Prawn_1"
          ],
          [
           "full body:undistorted_GX010097_60_1080.jpg_gamma",
           "Prawn_0"
          ],
          [
           "full body:undistorted_GX010097_60_1080.jpg_gamma",
           "Prawn_1"
          ],
          [
           "full body:undistorted_GX010097_60_1080.jpg_gamma",
           "Prawn_2"
          ],
          [
           "full body:undistorted_GX010097_60_1080.jpg_gamma",
           "Prawn_3"
          ],
          [
           "full body:undistorted_GX010097_105_1651.jpg_gamma",
           "Prawn_0"
          ],
          [
           "full body:undistorted_GX010097_105_1651.jpg_gamma",
           "Prawn_1"
          ],
          [
           "full body:undistorted_GX010097_105_1651.jpg_gamma",
           "Prawn_2"
          ],
          [
           "full body:undistorted_GX010097_105_1651.jpg_gamma",
           "Prawn_3"
          ],
          [
           "full body:undistorted_GX010097_124_1870.jpg_gamma",
           "Prawn_0"
          ],
          [
           "full body:undistorted_GX010097_124_1870.jpg_gamma",
           "Prawn_1"
          ],
          [
           "full body:undistorted_GX010101_12_173.jpg_gamma",
           "Prawn_0"
          ]
         ],
         "hovertemplate": "PondType=circular-big<br>Length_box_focal=%{x}<br>closest_length_min_mae_value=%{y}<br>Label=%{customdata[0]}<br>PrawnID=%{customdata[1]}<extra></extra>",
         "legendgroup": "circular-big",
         "marker": {
          "color": "#636efa",
          "symbol": "circle"
         },
         "mode": "markers",
         "name": "circular-big",
         "orientation": "v",
         "showlegend": true,
         "type": "scatter",
         "x": [
          89.3225931271463,
          145.0776899259116,
          124.5061640232233,
          151.3669259331299,
          97.53128588090674,
          172.3179697488545,
          112.7986348828508,
          138.8616191111233,
          147.2809831857683,
          143.8580204267206,
          159.0526285993433,
          145.0325202173814,
          109.7425090686529,
          108.1169612186207,
          136.5015611264421,
          134.8814301466786,
          161.4552851513672,
          139.055303426396,
          104.734325436158,
          102.9215024019198,
          168.0281080465421,
          128.3602797006098,
          127.8483355351542,
          121.7258617483482,
          149.318724908199,
          141.8052887015419,
          144.1527780494477,
          154.8904752301841,
          139.2641899259709,
          148.1762645322376,
          129.097498270393,
          150.0097378242164,
          158.0952529450714,
          150.1146303996482,
          148.5421653819949,
          153.6289685209921,
          165.7215198135448,
          119.9496400322268,
          140.1166355610072,
          166.1114595852776,
          150.3957335152927,
          160.9556724785968,
          122.911607161387,
          157.0888883142919,
          138.8412122381067,
          138.0315024643601,
          144.916581719858,
          122.2381928331087,
          95.27796769930671,
          149.2102626901478,
          132.7419536095947,
          175.6046120998981,
          147.2350271573604,
          94.56692234830982,
          159.1615900681105,
          123.7762719576974,
          135.3413523875269,
          141.5423707932278,
          142.1927322196947,
          168.846529745283,
          148.5829292029564,
          98.16544038100548,
          161.676053817983,
          160.2302986320507,
          134.0730184247936,
          128.1938669556987,
          140.6620669682386,
          148.2258401283365,
          147.1251046309648,
          169.7770831548377,
          136.184212408816,
          139.4433460454079,
          124.8920224203528,
          138.7143900749745,
          160.701828452046,
          117.5214218435436,
          145.3904829807543,
          138.2059781083346,
          134.4926511328605,
          149.0970950340982,
          133.4714213120121,
          175.7712619888993,
          144.3036141720196,
          163.5944746192893,
          151.7531962121001,
          110.9939309133816,
          185.0677222026833,
          183.2104970578907,
          143.4915953637114,
          153.2652518931173,
          139.2966537037788,
          122.4032576010866,
          170.902082237007
         ],
         "xaxis": "x",
         "y": [
          79.583,
          127.259,
          117.192,
          134.216,
          90.369,
          158.139,
          96.879,
          118.717,
          122.21,
          126.233,
          144.42,
          134.818,
          105.422,
          89.127,
          113.246,
          114.768,
          139.806,
          128.915,
          82.903,
          92.512,
          162.885,
          117.174,
          112.917,
          95.746,
          109.073,
          103.479,
          109.724,
          124.807,
          118.56,
          120.422,
          114.47,
          118.81,
          126.784,
          131.398,
          144.761,
          133.284,
          136.319,
          99.101,
          126.524,
          153.254,
          129.329,
          130.07,
          107.675,
          133.5,
          134.216,
          133.347,
          134.589,
          103.009,
          85.486,
          143.966,
          106.142,
          130.742,
          120.173,
          70.584,
          119.107,
          117.102,
          119.335,
          127.583,
          133.814,
          145.806,
          146.132,
          82.15,
          154.766,
          132.812,
          125.5,
          111.331,
          128.071,
          144.151,
          144.056,
          166.314,
          122.281,
          143.117,
          124.574,
          132.69,
          141.534,
          98.983,
          124.142,
          118.59,
          126.684,
          126.377,
          112.325,
          101.357,
          116.076,
          140.224,
          107.814,
          101.945,
          130.514,
          158.958,
          106.004,
          102.896,
          105.651,
          102.153,
          159.478
         ],
         "yaxis": "y"
        },
        {
         "customdata": [
          [
           "full body:undistorted_GX010089_11_236.jpg_gamma",
           "Prawn_0"
          ],
          [
           "full body:undistorted_GX010089_11_236.jpg_gamma",
           "Prawn_1"
          ],
          [
           "full body:undistorted_GX010089_11_236.jpg_gamma",
           "Prawn_2"
          ],
          [
           "full body:undistorted_GX010089_11_236.jpg_gamma",
           "Prawn_3"
          ],
          [
           "full body:undistorted_GX010091_5_149.jpg_gamma",
           "Prawn_0"
          ],
          [
           "full body:undistorted_GX010091_5_149.jpg_gamma",
           "Prawn_1"
          ],
          [
           "full body:undistorted_GX010091_5_149.jpg_gamma",
           "Prawn_2"
          ],
          [
           "full body:undistorted_GX010102_9_165.jpg_gamma",
           "Prawn_1"
          ],
          [
           "full body:undistorted_GX010102_9_165.jpg_gamma",
           "Prawn_2"
          ],
          [
           "full body:undistorted_GX010102_9_165.jpg_gamma",
           "Prawn_3"
          ],
          [
           "full body:undistorted_GX010102_9_165.jpg_gamma",
           "Prawn_4"
          ],
          [
           "full body:undistorted_GX010102_9_165.jpg_gamma",
           "Prawn_5"
          ],
          [
           "full body:undistorted_GX010102_50_1396.jpg_gamma",
           "Prawn_0"
          ],
          [
           "full body:undistorted_GX010105_28_816.jpg_gamma",
           "Prawn_0"
          ],
          [
           "full body:undistorted_GX010105_28_816.jpg_gamma",
           "Prawn_1"
          ]
         ],
         "hovertemplate": "PondType=circular-small<br>Length_box_focal=%{x}<br>closest_length_min_mae_value=%{y}<br>Label=%{customdata[0]}<br>PrawnID=%{customdata[1]}<extra></extra>",
         "legendgroup": "circular-small",
         "marker": {
          "color": "#EF553B",
          "symbol": "circle"
         },
         "mode": "markers",
         "name": "circular-small",
         "orientation": "v",
         "showlegend": true,
         "type": "scatter",
         "x": [
          106.1939041063382,
          93.60894183259354,
          111.6362188797123,
          49.97206309371978,
          102.9783396956927,
          128.8023143643622,
          81.33274116415983,
          124.6906544445414,
          107.1166283045685,
          107.1166283045685,
          97.67019413579531,
          99.01541405292933,
          164.7673635583131,
          82.5056541056218,
          134.0485207682179
         ],
         "xaxis": "x",
         "y": [
          76.238,
          71.716,
          85.19,
          49.658,
          79.879,
          105.817,
          39.163,
          96.051,
          51.211,
          62.909,
          71.703,
          75.202,
          135.607,
          62.636,
          103
         ],
         "yaxis": "y"
        },
        {
         "customdata": [
          [
           "full body:undistorted_GX010152_36_378.jpg_gamma",
           "Prawn_0"
          ],
          [
           "full body:undistorted_GX010152_36_378.jpg_gamma",
           "Prawn_1"
          ],
          [
           "full body:undistorted_GX010157_160_2259",
           "Prawn_0"
          ],
          [
           "full body:undistorted_GX010157_174_2582.jpg_gamma",
           "Prawn_0"
          ],
          [
           "full body:undistorted_GX010157_177_2665.jpg_gamma",
           "Prawn_0"
          ],
          [
           "full body:undistorted_GX010161_54_676.jpg_gamma.jpg_gamma",
           "Prawn_0"
          ],
          [
           "full body:undistorted_GX010162_72_927.jpg_gamma.jpg_gamma",
           "Prawn_0"
          ],
          [
           "full body:undistorted_GX010174_62_790.jpg_gamma",
           "Prawn_0"
          ],
          [
           "full body:undistorted_GX010175_266_3372.jpg_gamma.jpg_gamma",
           "Prawn_0"
          ],
          [
           "full body:undistorted_GX010177_232_3047",
           "Prawn_0"
          ],
          [
           "full body:undistorted_GX010178_172_3604.jpg_gamma",
           "Prawn_0"
          ],
          [
           "full body:undistorted_GX010183_37_685.jpg_gamma",
           "Prawn_0"
          ],
          [
           "full body:undistorted_GX010183_80_1633.jpg_gamma",
           "Prawn_0"
          ],
          [
           "full body:undistorted_GX010183_128_2852.jpg_gamma",
           "Prawn_0"
          ]
         ],
         "hovertemplate": "PondType=square-female<br>Length_box_focal=%{x}<br>closest_length_min_mae_value=%{y}<br>Label=%{customdata[0]}<br>PrawnID=%{customdata[1]}<extra></extra>",
         "legendgroup": "square-female",
         "marker": {
          "color": "#00cc96",
          "symbol": "circle"
         },
         "mode": "markers",
         "name": "square-female",
         "orientation": "v",
         "showlegend": true,
         "type": "scatter",
         "x": [
          108.8791857401872,
          134.3175048505073,
          101.000477397582,
          103.3792504366603,
          127.4926191487934,
          106.1308385340452,
          103.679572290645,
          117.8267796421107,
          125.3593360466124,
          134.1164581298546,
          139.0814935978948,
          97.86650756210543,
          149.869182509896,
          126.4765198649712
         ],
         "xaxis": "x",
         "y": [
          106.231,
          126.275,
          104.915,
          102.04,
          128.091,
          98.682,
          109.173,
          114.507,
          123.225,
          125.159,
          140.357,
          99.404,
          144.127,
          131.258
         ],
         "yaxis": "y"
        },
        {
         "mode": "lines",
         "name": "line",
         "type": "scatter",
         "x": [
          0,
          200
         ],
         "y": [
          0,
          200
         ]
        }
       ],
       "layout": {
        "legend": {
         "title": {
          "text": "PondType"
         },
         "tracegroupgap": 0
        },
        "margin": {
         "t": 60
        },
        "template": {
         "data": {
          "bar": [
           {
            "error_x": {
             "color": "#2a3f5f"
            },
            "error_y": {
             "color": "#2a3f5f"
            },
            "marker": {
             "line": {
              "color": "#E5ECF6",
              "width": 0.5
             },
             "pattern": {
              "fillmode": "overlay",
              "size": 10,
              "solidity": 0.2
             }
            },
            "type": "bar"
           }
          ],
          "barpolar": [
           {
            "marker": {
             "line": {
              "color": "#E5ECF6",
              "width": 0.5
             },
             "pattern": {
              "fillmode": "overlay",
              "size": 10,
              "solidity": 0.2
             }
            },
            "type": "barpolar"
           }
          ],
          "carpet": [
           {
            "aaxis": {
             "endlinecolor": "#2a3f5f",
             "gridcolor": "white",
             "linecolor": "white",
             "minorgridcolor": "white",
             "startlinecolor": "#2a3f5f"
            },
            "baxis": {
             "endlinecolor": "#2a3f5f",
             "gridcolor": "white",
             "linecolor": "white",
             "minorgridcolor": "white",
             "startlinecolor": "#2a3f5f"
            },
            "type": "carpet"
           }
          ],
          "choropleth": [
           {
            "colorbar": {
             "outlinewidth": 0,
             "ticks": ""
            },
            "type": "choropleth"
           }
          ],
          "contour": [
           {
            "colorbar": {
             "outlinewidth": 0,
             "ticks": ""
            },
            "colorscale": [
             [
              0,
              "#0d0887"
             ],
             [
              0.1111111111111111,
              "#46039f"
             ],
             [
              0.2222222222222222,
              "#7201a8"
             ],
             [
              0.3333333333333333,
              "#9c179e"
             ],
             [
              0.4444444444444444,
              "#bd3786"
             ],
             [
              0.5555555555555556,
              "#d8576b"
             ],
             [
              0.6666666666666666,
              "#ed7953"
             ],
             [
              0.7777777777777778,
              "#fb9f3a"
             ],
             [
              0.8888888888888888,
              "#fdca26"
             ],
             [
              1,
              "#f0f921"
             ]
            ],
            "type": "contour"
           }
          ],
          "contourcarpet": [
           {
            "colorbar": {
             "outlinewidth": 0,
             "ticks": ""
            },
            "type": "contourcarpet"
           }
          ],
          "heatmap": [
           {
            "colorbar": {
             "outlinewidth": 0,
             "ticks": ""
            },
            "colorscale": [
             [
              0,
              "#0d0887"
             ],
             [
              0.1111111111111111,
              "#46039f"
             ],
             [
              0.2222222222222222,
              "#7201a8"
             ],
             [
              0.3333333333333333,
              "#9c179e"
             ],
             [
              0.4444444444444444,
              "#bd3786"
             ],
             [
              0.5555555555555556,
              "#d8576b"
             ],
             [
              0.6666666666666666,
              "#ed7953"
             ],
             [
              0.7777777777777778,
              "#fb9f3a"
             ],
             [
              0.8888888888888888,
              "#fdca26"
             ],
             [
              1,
              "#f0f921"
             ]
            ],
            "type": "heatmap"
           }
          ],
          "heatmapgl": [
           {
            "colorbar": {
             "outlinewidth": 0,
             "ticks": ""
            },
            "colorscale": [
             [
              0,
              "#0d0887"
             ],
             [
              0.1111111111111111,
              "#46039f"
             ],
             [
              0.2222222222222222,
              "#7201a8"
             ],
             [
              0.3333333333333333,
              "#9c179e"
             ],
             [
              0.4444444444444444,
              "#bd3786"
             ],
             [
              0.5555555555555556,
              "#d8576b"
             ],
             [
              0.6666666666666666,
              "#ed7953"
             ],
             [
              0.7777777777777778,
              "#fb9f3a"
             ],
             [
              0.8888888888888888,
              "#fdca26"
             ],
             [
              1,
              "#f0f921"
             ]
            ],
            "type": "heatmapgl"
           }
          ],
          "histogram": [
           {
            "marker": {
             "pattern": {
              "fillmode": "overlay",
              "size": 10,
              "solidity": 0.2
             }
            },
            "type": "histogram"
           }
          ],
          "histogram2d": [
           {
            "colorbar": {
             "outlinewidth": 0,
             "ticks": ""
            },
            "colorscale": [
             [
              0,
              "#0d0887"
             ],
             [
              0.1111111111111111,
              "#46039f"
             ],
             [
              0.2222222222222222,
              "#7201a8"
             ],
             [
              0.3333333333333333,
              "#9c179e"
             ],
             [
              0.4444444444444444,
              "#bd3786"
             ],
             [
              0.5555555555555556,
              "#d8576b"
             ],
             [
              0.6666666666666666,
              "#ed7953"
             ],
             [
              0.7777777777777778,
              "#fb9f3a"
             ],
             [
              0.8888888888888888,
              "#fdca26"
             ],
             [
              1,
              "#f0f921"
             ]
            ],
            "type": "histogram2d"
           }
          ],
          "histogram2dcontour": [
           {
            "colorbar": {
             "outlinewidth": 0,
             "ticks": ""
            },
            "colorscale": [
             [
              0,
              "#0d0887"
             ],
             [
              0.1111111111111111,
              "#46039f"
             ],
             [
              0.2222222222222222,
              "#7201a8"
             ],
             [
              0.3333333333333333,
              "#9c179e"
             ],
             [
              0.4444444444444444,
              "#bd3786"
             ],
             [
              0.5555555555555556,
              "#d8576b"
             ],
             [
              0.6666666666666666,
              "#ed7953"
             ],
             [
              0.7777777777777778,
              "#fb9f3a"
             ],
             [
              0.8888888888888888,
              "#fdca26"
             ],
             [
              1,
              "#f0f921"
             ]
            ],
            "type": "histogram2dcontour"
           }
          ],
          "mesh3d": [
           {
            "colorbar": {
             "outlinewidth": 0,
             "ticks": ""
            },
            "type": "mesh3d"
           }
          ],
          "parcoords": [
           {
            "line": {
             "colorbar": {
              "outlinewidth": 0,
              "ticks": ""
             }
            },
            "type": "parcoords"
           }
          ],
          "pie": [
           {
            "automargin": true,
            "type": "pie"
           }
          ],
          "scatter": [
           {
            "fillpattern": {
             "fillmode": "overlay",
             "size": 10,
             "solidity": 0.2
            },
            "type": "scatter"
           }
          ],
          "scatter3d": [
           {
            "line": {
             "colorbar": {
              "outlinewidth": 0,
              "ticks": ""
             }
            },
            "marker": {
             "colorbar": {
              "outlinewidth": 0,
              "ticks": ""
             }
            },
            "type": "scatter3d"
           }
          ],
          "scattercarpet": [
           {
            "marker": {
             "colorbar": {
              "outlinewidth": 0,
              "ticks": ""
             }
            },
            "type": "scattercarpet"
           }
          ],
          "scattergeo": [
           {
            "marker": {
             "colorbar": {
              "outlinewidth": 0,
              "ticks": ""
             }
            },
            "type": "scattergeo"
           }
          ],
          "scattergl": [
           {
            "marker": {
             "colorbar": {
              "outlinewidth": 0,
              "ticks": ""
             }
            },
            "type": "scattergl"
           }
          ],
          "scattermapbox": [
           {
            "marker": {
             "colorbar": {
              "outlinewidth": 0,
              "ticks": ""
             }
            },
            "type": "scattermapbox"
           }
          ],
          "scatterpolar": [
           {
            "marker": {
             "colorbar": {
              "outlinewidth": 0,
              "ticks": ""
             }
            },
            "type": "scatterpolar"
           }
          ],
          "scatterpolargl": [
           {
            "marker": {
             "colorbar": {
              "outlinewidth": 0,
              "ticks": ""
             }
            },
            "type": "scatterpolargl"
           }
          ],
          "scatterternary": [
           {
            "marker": {
             "colorbar": {
              "outlinewidth": 0,
              "ticks": ""
             }
            },
            "type": "scatterternary"
           }
          ],
          "surface": [
           {
            "colorbar": {
             "outlinewidth": 0,
             "ticks": ""
            },
            "colorscale": [
             [
              0,
              "#0d0887"
             ],
             [
              0.1111111111111111,
              "#46039f"
             ],
             [
              0.2222222222222222,
              "#7201a8"
             ],
             [
              0.3333333333333333,
              "#9c179e"
             ],
             [
              0.4444444444444444,
              "#bd3786"
             ],
             [
              0.5555555555555556,
              "#d8576b"
             ],
             [
              0.6666666666666666,
              "#ed7953"
             ],
             [
              0.7777777777777778,
              "#fb9f3a"
             ],
             [
              0.8888888888888888,
              "#fdca26"
             ],
             [
              1,
              "#f0f921"
             ]
            ],
            "type": "surface"
           }
          ],
          "table": [
           {
            "cells": {
             "fill": {
              "color": "#EBF0F8"
             },
             "line": {
              "color": "white"
             }
            },
            "header": {
             "fill": {
              "color": "#C8D4E3"
             },
             "line": {
              "color": "white"
             }
            },
            "type": "table"
           }
          ]
         },
         "layout": {
          "annotationdefaults": {
           "arrowcolor": "#2a3f5f",
           "arrowhead": 0,
           "arrowwidth": 1
          },
          "autotypenumbers": "strict",
          "coloraxis": {
           "colorbar": {
            "outlinewidth": 0,
            "ticks": ""
           }
          },
          "colorscale": {
           "diverging": [
            [
             0,
             "#8e0152"
            ],
            [
             0.1,
             "#c51b7d"
            ],
            [
             0.2,
             "#de77ae"
            ],
            [
             0.3,
             "#f1b6da"
            ],
            [
             0.4,
             "#fde0ef"
            ],
            [
             0.5,
             "#f7f7f7"
            ],
            [
             0.6,
             "#e6f5d0"
            ],
            [
             0.7,
             "#b8e186"
            ],
            [
             0.8,
             "#7fbc41"
            ],
            [
             0.9,
             "#4d9221"
            ],
            [
             1,
             "#276419"
            ]
           ],
           "sequential": [
            [
             0,
             "#0d0887"
            ],
            [
             0.1111111111111111,
             "#46039f"
            ],
            [
             0.2222222222222222,
             "#7201a8"
            ],
            [
             0.3333333333333333,
             "#9c179e"
            ],
            [
             0.4444444444444444,
             "#bd3786"
            ],
            [
             0.5555555555555556,
             "#d8576b"
            ],
            [
             0.6666666666666666,
             "#ed7953"
            ],
            [
             0.7777777777777778,
             "#fb9f3a"
            ],
            [
             0.8888888888888888,
             "#fdca26"
            ],
            [
             1,
             "#f0f921"
            ]
           ],
           "sequentialminus": [
            [
             0,
             "#0d0887"
            ],
            [
             0.1111111111111111,
             "#46039f"
            ],
            [
             0.2222222222222222,
             "#7201a8"
            ],
            [
             0.3333333333333333,
             "#9c179e"
            ],
            [
             0.4444444444444444,
             "#bd3786"
            ],
            [
             0.5555555555555556,
             "#d8576b"
            ],
            [
             0.6666666666666666,
             "#ed7953"
            ],
            [
             0.7777777777777778,
             "#fb9f3a"
            ],
            [
             0.8888888888888888,
             "#fdca26"
            ],
            [
             1,
             "#f0f921"
            ]
           ]
          },
          "colorway": [
           "#636efa",
           "#EF553B",
           "#00cc96",
           "#ab63fa",
           "#FFA15A",
           "#19d3f3",
           "#FF6692",
           "#B6E880",
           "#FF97FF",
           "#FECB52"
          ],
          "font": {
           "color": "#2a3f5f"
          },
          "geo": {
           "bgcolor": "white",
           "lakecolor": "white",
           "landcolor": "#E5ECF6",
           "showlakes": true,
           "showland": true,
           "subunitcolor": "white"
          },
          "hoverlabel": {
           "align": "left"
          },
          "hovermode": "closest",
          "mapbox": {
           "style": "light"
          },
          "paper_bgcolor": "white",
          "plot_bgcolor": "#E5ECF6",
          "polar": {
           "angularaxis": {
            "gridcolor": "white",
            "linecolor": "white",
            "ticks": ""
           },
           "bgcolor": "#E5ECF6",
           "radialaxis": {
            "gridcolor": "white",
            "linecolor": "white",
            "ticks": ""
           }
          },
          "scene": {
           "xaxis": {
            "backgroundcolor": "#E5ECF6",
            "gridcolor": "white",
            "gridwidth": 2,
            "linecolor": "white",
            "showbackground": true,
            "ticks": "",
            "zerolinecolor": "white"
           },
           "yaxis": {
            "backgroundcolor": "#E5ECF6",
            "gridcolor": "white",
            "gridwidth": 2,
            "linecolor": "white",
            "showbackground": true,
            "ticks": "",
            "zerolinecolor": "white"
           },
           "zaxis": {
            "backgroundcolor": "#E5ECF6",
            "gridcolor": "white",
            "gridwidth": 2,
            "linecolor": "white",
            "showbackground": true,
            "ticks": "",
            "zerolinecolor": "white"
           }
          },
          "shapedefaults": {
           "line": {
            "color": "#2a3f5f"
           }
          },
          "ternary": {
           "aaxis": {
            "gridcolor": "white",
            "linecolor": "white",
            "ticks": ""
           },
           "baxis": {
            "gridcolor": "white",
            "linecolor": "white",
            "ticks": ""
           },
           "bgcolor": "#E5ECF6",
           "caxis": {
            "gridcolor": "white",
            "linecolor": "white",
            "ticks": ""
           }
          },
          "title": {
           "x": 0.05
          },
          "xaxis": {
           "automargin": true,
           "gridcolor": "white",
           "linecolor": "white",
           "ticks": "",
           "title": {
            "standoff": 15
           },
           "zerolinecolor": "white",
           "zerolinewidth": 2
          },
          "yaxis": {
           "automargin": true,
           "gridcolor": "white",
           "linecolor": "white",
           "ticks": "",
           "title": {
            "standoff": 15
           },
           "zerolinecolor": "white",
           "zerolinewidth": 2
          }
         }
        },
        "title": {
         "text": "Length_FOV_box vs. closest_length_min_mae_value"
        },
        "xaxis": {
         "anchor": "y",
         "domain": [
          0,
          1
         ],
         "title": {
          "text": "Length_box_focal"
         }
        },
        "yaxis": {
         "anchor": "x",
         "domain": [
          0,
          1
         ],
         "title": {
          "text": "closest_length_min_mae_value"
         }
        }
       }
      }
     },
     "metadata": {},
     "output_type": "display_data"
    }
   ],
   "source": [
    "import plotly.graph_objects as go\n",
    "\n",
    "\n",
    "#scatter plot between length_fov and closest_length_min_mae_value\n",
    "fig = px.scatter(df,color='PondType', x='Length_box_focal', y='closest_length_min_mae_value', hover_data=['Label', 'PrawnID'])\n",
    "#add title\n",
    "fig.update_layout(title=f'pinhole vs. closest_length_min_mae_value')\n",
    "fig.add_trace(go.Scatter(x=[0, 200], y=[0, 200], mode='lines', name='line'))\n",
    "\n",
    "#save the plot to png\n",
    "fig.write_image(f'full focal vs. closest_length_min_mae_value.png')\n",
    "#add a trendline\n",
    "\n",
    "#add line\n",
    "\n",
    "\n",
    "fig.show()\n",
    "#"
   ]
  },
  {
   "cell_type": "code",
   "execution_count": 18,
   "metadata": {},
   "outputs": [
    {
     "data": {
      "application/vnd.plotly.v1+json": {
       "config": {
        "plotlyServerURL": "https://plot.ly"
       },
       "data": [
        {
         "alignmentgroup": "True",
         "hovertemplate": "x=%{x}<br>y=%{y}<extra></extra>",
         "legendgroup": "",
         "marker": {
          "color": "#636efa",
          "pattern": {
           "shape": ""
          }
         },
         "name": "",
         "offsetgroup": "",
         "orientation": "v",
         "showlegend": false,
         "textposition": "auto",
         "type": "bar",
         "x": [
          "Overestimations",
          "Underestimations"
         ],
         "xaxis": "x",
         "y": [
          88,
          34
         ],
         "yaxis": "y"
        }
       ],
       "layout": {
        "barmode": "relative",
        "legend": {
         "tracegroupgap": 0
        },
        "template": {
         "data": {
          "bar": [
           {
            "error_x": {
             "color": "#2a3f5f"
            },
            "error_y": {
             "color": "#2a3f5f"
            },
            "marker": {
             "line": {
              "color": "#E5ECF6",
              "width": 0.5
             },
             "pattern": {
              "fillmode": "overlay",
              "size": 10,
              "solidity": 0.2
             }
            },
            "type": "bar"
           }
          ],
          "barpolar": [
           {
            "marker": {
             "line": {
              "color": "#E5ECF6",
              "width": 0.5
             },
             "pattern": {
              "fillmode": "overlay",
              "size": 10,
              "solidity": 0.2
             }
            },
            "type": "barpolar"
           }
          ],
          "carpet": [
           {
            "aaxis": {
             "endlinecolor": "#2a3f5f",
             "gridcolor": "white",
             "linecolor": "white",
             "minorgridcolor": "white",
             "startlinecolor": "#2a3f5f"
            },
            "baxis": {
             "endlinecolor": "#2a3f5f",
             "gridcolor": "white",
             "linecolor": "white",
             "minorgridcolor": "white",
             "startlinecolor": "#2a3f5f"
            },
            "type": "carpet"
           }
          ],
          "choropleth": [
           {
            "colorbar": {
             "outlinewidth": 0,
             "ticks": ""
            },
            "type": "choropleth"
           }
          ],
          "contour": [
           {
            "colorbar": {
             "outlinewidth": 0,
             "ticks": ""
            },
            "colorscale": [
             [
              0,
              "#0d0887"
             ],
             [
              0.1111111111111111,
              "#46039f"
             ],
             [
              0.2222222222222222,
              "#7201a8"
             ],
             [
              0.3333333333333333,
              "#9c179e"
             ],
             [
              0.4444444444444444,
              "#bd3786"
             ],
             [
              0.5555555555555556,
              "#d8576b"
             ],
             [
              0.6666666666666666,
              "#ed7953"
             ],
             [
              0.7777777777777778,
              "#fb9f3a"
             ],
             [
              0.8888888888888888,
              "#fdca26"
             ],
             [
              1,
              "#f0f921"
             ]
            ],
            "type": "contour"
           }
          ],
          "contourcarpet": [
           {
            "colorbar": {
             "outlinewidth": 0,
             "ticks": ""
            },
            "type": "contourcarpet"
           }
          ],
          "heatmap": [
           {
            "colorbar": {
             "outlinewidth": 0,
             "ticks": ""
            },
            "colorscale": [
             [
              0,
              "#0d0887"
             ],
             [
              0.1111111111111111,
              "#46039f"
             ],
             [
              0.2222222222222222,
              "#7201a8"
             ],
             [
              0.3333333333333333,
              "#9c179e"
             ],
             [
              0.4444444444444444,
              "#bd3786"
             ],
             [
              0.5555555555555556,
              "#d8576b"
             ],
             [
              0.6666666666666666,
              "#ed7953"
             ],
             [
              0.7777777777777778,
              "#fb9f3a"
             ],
             [
              0.8888888888888888,
              "#fdca26"
             ],
             [
              1,
              "#f0f921"
             ]
            ],
            "type": "heatmap"
           }
          ],
          "heatmapgl": [
           {
            "colorbar": {
             "outlinewidth": 0,
             "ticks": ""
            },
            "colorscale": [
             [
              0,
              "#0d0887"
             ],
             [
              0.1111111111111111,
              "#46039f"
             ],
             [
              0.2222222222222222,
              "#7201a8"
             ],
             [
              0.3333333333333333,
              "#9c179e"
             ],
             [
              0.4444444444444444,
              "#bd3786"
             ],
             [
              0.5555555555555556,
              "#d8576b"
             ],
             [
              0.6666666666666666,
              "#ed7953"
             ],
             [
              0.7777777777777778,
              "#fb9f3a"
             ],
             [
              0.8888888888888888,
              "#fdca26"
             ],
             [
              1,
              "#f0f921"
             ]
            ],
            "type": "heatmapgl"
           }
          ],
          "histogram": [
           {
            "marker": {
             "pattern": {
              "fillmode": "overlay",
              "size": 10,
              "solidity": 0.2
             }
            },
            "type": "histogram"
           }
          ],
          "histogram2d": [
           {
            "colorbar": {
             "outlinewidth": 0,
             "ticks": ""
            },
            "colorscale": [
             [
              0,
              "#0d0887"
             ],
             [
              0.1111111111111111,
              "#46039f"
             ],
             [
              0.2222222222222222,
              "#7201a8"
             ],
             [
              0.3333333333333333,
              "#9c179e"
             ],
             [
              0.4444444444444444,
              "#bd3786"
             ],
             [
              0.5555555555555556,
              "#d8576b"
             ],
             [
              0.6666666666666666,
              "#ed7953"
             ],
             [
              0.7777777777777778,
              "#fb9f3a"
             ],
             [
              0.8888888888888888,
              "#fdca26"
             ],
             [
              1,
              "#f0f921"
             ]
            ],
            "type": "histogram2d"
           }
          ],
          "histogram2dcontour": [
           {
            "colorbar": {
             "outlinewidth": 0,
             "ticks": ""
            },
            "colorscale": [
             [
              0,
              "#0d0887"
             ],
             [
              0.1111111111111111,
              "#46039f"
             ],
             [
              0.2222222222222222,
              "#7201a8"
             ],
             [
              0.3333333333333333,
              "#9c179e"
             ],
             [
              0.4444444444444444,
              "#bd3786"
             ],
             [
              0.5555555555555556,
              "#d8576b"
             ],
             [
              0.6666666666666666,
              "#ed7953"
             ],
             [
              0.7777777777777778,
              "#fb9f3a"
             ],
             [
              0.8888888888888888,
              "#fdca26"
             ],
             [
              1,
              "#f0f921"
             ]
            ],
            "type": "histogram2dcontour"
           }
          ],
          "mesh3d": [
           {
            "colorbar": {
             "outlinewidth": 0,
             "ticks": ""
            },
            "type": "mesh3d"
           }
          ],
          "parcoords": [
           {
            "line": {
             "colorbar": {
              "outlinewidth": 0,
              "ticks": ""
             }
            },
            "type": "parcoords"
           }
          ],
          "pie": [
           {
            "automargin": true,
            "type": "pie"
           }
          ],
          "scatter": [
           {
            "fillpattern": {
             "fillmode": "overlay",
             "size": 10,
             "solidity": 0.2
            },
            "type": "scatter"
           }
          ],
          "scatter3d": [
           {
            "line": {
             "colorbar": {
              "outlinewidth": 0,
              "ticks": ""
             }
            },
            "marker": {
             "colorbar": {
              "outlinewidth": 0,
              "ticks": ""
             }
            },
            "type": "scatter3d"
           }
          ],
          "scattercarpet": [
           {
            "marker": {
             "colorbar": {
              "outlinewidth": 0,
              "ticks": ""
             }
            },
            "type": "scattercarpet"
           }
          ],
          "scattergeo": [
           {
            "marker": {
             "colorbar": {
              "outlinewidth": 0,
              "ticks": ""
             }
            },
            "type": "scattergeo"
           }
          ],
          "scattergl": [
           {
            "marker": {
             "colorbar": {
              "outlinewidth": 0,
              "ticks": ""
             }
            },
            "type": "scattergl"
           }
          ],
          "scattermapbox": [
           {
            "marker": {
             "colorbar": {
              "outlinewidth": 0,
              "ticks": ""
             }
            },
            "type": "scattermapbox"
           }
          ],
          "scatterpolar": [
           {
            "marker": {
             "colorbar": {
              "outlinewidth": 0,
              "ticks": ""
             }
            },
            "type": "scatterpolar"
           }
          ],
          "scatterpolargl": [
           {
            "marker": {
             "colorbar": {
              "outlinewidth": 0,
              "ticks": ""
             }
            },
            "type": "scatterpolargl"
           }
          ],
          "scatterternary": [
           {
            "marker": {
             "colorbar": {
              "outlinewidth": 0,
              "ticks": ""
             }
            },
            "type": "scatterternary"
           }
          ],
          "surface": [
           {
            "colorbar": {
             "outlinewidth": 0,
             "ticks": ""
            },
            "colorscale": [
             [
              0,
              "#0d0887"
             ],
             [
              0.1111111111111111,
              "#46039f"
             ],
             [
              0.2222222222222222,
              "#7201a8"
             ],
             [
              0.3333333333333333,
              "#9c179e"
             ],
             [
              0.4444444444444444,
              "#bd3786"
             ],
             [
              0.5555555555555556,
              "#d8576b"
             ],
             [
              0.6666666666666666,
              "#ed7953"
             ],
             [
              0.7777777777777778,
              "#fb9f3a"
             ],
             [
              0.8888888888888888,
              "#fdca26"
             ],
             [
              1,
              "#f0f921"
             ]
            ],
            "type": "surface"
           }
          ],
          "table": [
           {
            "cells": {
             "fill": {
              "color": "#EBF0F8"
             },
             "line": {
              "color": "white"
             }
            },
            "header": {
             "fill": {
              "color": "#C8D4E3"
             },
             "line": {
              "color": "white"
             }
            },
            "type": "table"
           }
          ]
         },
         "layout": {
          "annotationdefaults": {
           "arrowcolor": "#2a3f5f",
           "arrowhead": 0,
           "arrowwidth": 1
          },
          "autotypenumbers": "strict",
          "coloraxis": {
           "colorbar": {
            "outlinewidth": 0,
            "ticks": ""
           }
          },
          "colorscale": {
           "diverging": [
            [
             0,
             "#8e0152"
            ],
            [
             0.1,
             "#c51b7d"
            ],
            [
             0.2,
             "#de77ae"
            ],
            [
             0.3,
             "#f1b6da"
            ],
            [
             0.4,
             "#fde0ef"
            ],
            [
             0.5,
             "#f7f7f7"
            ],
            [
             0.6,
             "#e6f5d0"
            ],
            [
             0.7,
             "#b8e186"
            ],
            [
             0.8,
             "#7fbc41"
            ],
            [
             0.9,
             "#4d9221"
            ],
            [
             1,
             "#276419"
            ]
           ],
           "sequential": [
            [
             0,
             "#0d0887"
            ],
            [
             0.1111111111111111,
             "#46039f"
            ],
            [
             0.2222222222222222,
             "#7201a8"
            ],
            [
             0.3333333333333333,
             "#9c179e"
            ],
            [
             0.4444444444444444,
             "#bd3786"
            ],
            [
             0.5555555555555556,
             "#d8576b"
            ],
            [
             0.6666666666666666,
             "#ed7953"
            ],
            [
             0.7777777777777778,
             "#fb9f3a"
            ],
            [
             0.8888888888888888,
             "#fdca26"
            ],
            [
             1,
             "#f0f921"
            ]
           ],
           "sequentialminus": [
            [
             0,
             "#0d0887"
            ],
            [
             0.1111111111111111,
             "#46039f"
            ],
            [
             0.2222222222222222,
             "#7201a8"
            ],
            [
             0.3333333333333333,
             "#9c179e"
            ],
            [
             0.4444444444444444,
             "#bd3786"
            ],
            [
             0.5555555555555556,
             "#d8576b"
            ],
            [
             0.6666666666666666,
             "#ed7953"
            ],
            [
             0.7777777777777778,
             "#fb9f3a"
            ],
            [
             0.8888888888888888,
             "#fdca26"
            ],
            [
             1,
             "#f0f921"
            ]
           ]
          },
          "colorway": [
           "#636efa",
           "#EF553B",
           "#00cc96",
           "#ab63fa",
           "#FFA15A",
           "#19d3f3",
           "#FF6692",
           "#B6E880",
           "#FF97FF",
           "#FECB52"
          ],
          "font": {
           "color": "#2a3f5f"
          },
          "geo": {
           "bgcolor": "white",
           "lakecolor": "white",
           "landcolor": "#E5ECF6",
           "showlakes": true,
           "showland": true,
           "subunitcolor": "white"
          },
          "hoverlabel": {
           "align": "left"
          },
          "hovermode": "closest",
          "mapbox": {
           "style": "light"
          },
          "paper_bgcolor": "white",
          "plot_bgcolor": "#E5ECF6",
          "polar": {
           "angularaxis": {
            "gridcolor": "white",
            "linecolor": "white",
            "ticks": ""
           },
           "bgcolor": "#E5ECF6",
           "radialaxis": {
            "gridcolor": "white",
            "linecolor": "white",
            "ticks": ""
           }
          },
          "scene": {
           "xaxis": {
            "backgroundcolor": "#E5ECF6",
            "gridcolor": "white",
            "gridwidth": 2,
            "linecolor": "white",
            "showbackground": true,
            "ticks": "",
            "zerolinecolor": "white"
           },
           "yaxis": {
            "backgroundcolor": "#E5ECF6",
            "gridcolor": "white",
            "gridwidth": 2,
            "linecolor": "white",
            "showbackground": true,
            "ticks": "",
            "zerolinecolor": "white"
           },
           "zaxis": {
            "backgroundcolor": "#E5ECF6",
            "gridcolor": "white",
            "gridwidth": 2,
            "linecolor": "white",
            "showbackground": true,
            "ticks": "",
            "zerolinecolor": "white"
           }
          },
          "shapedefaults": {
           "line": {
            "color": "#2a3f5f"
           }
          },
          "ternary": {
           "aaxis": {
            "gridcolor": "white",
            "linecolor": "white",
            "ticks": ""
           },
           "baxis": {
            "gridcolor": "white",
            "linecolor": "white",
            "ticks": ""
           },
           "bgcolor": "#E5ECF6",
           "caxis": {
            "gridcolor": "white",
            "linecolor": "white",
            "ticks": ""
           }
          },
          "title": {
           "x": 0.05
          },
          "xaxis": {
           "automargin": true,
           "gridcolor": "white",
           "linecolor": "white",
           "ticks": "",
           "title": {
            "standoff": 15
           },
           "zerolinecolor": "white",
           "zerolinewidth": 2
          },
          "yaxis": {
           "automargin": true,
           "gridcolor": "white",
           "linecolor": "white",
           "ticks": "",
           "title": {
            "standoff": 15
           },
           "zerolinecolor": "white",
           "zerolinewidth": 2
          }
         }
        },
        "title": {
         "text": "Overestimations vs Underestimations"
        },
        "xaxis": {
         "anchor": "y",
         "domain": [
          0,
          1
         ],
         "title": {
          "text": "x"
         }
        },
        "yaxis": {
         "anchor": "x",
         "domain": [
          0,
          1
         ],
         "title": {
          "text": "Count"
         }
        }
       }
      }
     },
     "metadata": {},
     "output_type": "display_data"
    }
   ],
   "source": [
    "overestimations = len(df[df['overestimation'] > 0])\n",
    "underestimations = len(df[df['overestimation'] < 0])\n",
    "\n",
    "# Create a bar plot\n",
    "fig = px.bar(\n",
    "    x=['Overestimations', 'Underestimations'], \n",
    "    y=[overestimations, underestimations],\n",
    "    title=\"Overestimations vs Underestimations\"\n",
    ")\n",
    "fig.update_layout(\n",
    "    yaxis_title=\"Count\"\n",
    ")\n",
    "# Save the plot to a file\n",
    "fig.write_image('overestimations_vs_underestimations.png')\n",
    "\n",
    "fig.show()"
   ]
  },
  {
   "cell_type": "code",
   "execution_count": 40,
   "metadata": {},
   "outputs": [
    {
     "data": {
      "application/vnd.plotly.v1+json": {
       "config": {
        "plotlyServerURL": "https://plot.ly"
       },
       "data": [
        {
         "customdata": [
          [
           "full body:undistorted_GX010088_327_4364.jpg_gamma",
           "Prawn_1"
          ],
          [
           "full body:undistorted_GX010088_327_4364.jpg_gamma",
           "Prawn_2"
          ],
          [
           "full body:undistorted_GX010088_262_3712.jpg_gamma",
           "Prawn_2"
          ],
          [
           "full body:undistorted_GX010084_130_1748.jpg_gamma",
           "Prawn_0"
          ],
          [
           "full body:undistorted_GX010073_42_695.jpg_gamma",
           "Prawn_2"
          ],
          [
           "full body:undistorted_GX010088_262_3712.jpg_gamma",
           "Prawn_1"
          ],
          [
           "full body:undistorted_GX010080_212_2954.jpg_gamma",
           "Prawn_2"
          ],
          [
           "full body:undistorted_GX010088_262_3712.jpg_gamma",
           "Prawn_0"
          ],
          [
           "full body:undistorted_GX010082_8_59.jpg_gamma",
           "Prawn_1"
          ],
          [
           "full body:undistorted_GX010088_327_4364.jpg_gamma",
           "Prawn_3"
          ],
          [
           "full body:undistorted_GX010082_8_59.jpg_gamma",
           "Prawn_2"
          ],
          [
           "full body:undistorted_GX010082_53_796.jpg_gamma",
           "Prawn_1"
          ],
          [
           "full body:undistorted_GX010069_19_191.jpg_gamma",
           "Prawn_0"
          ],
          [
           "full body:undistorted_GX010084_130_1748.jpg_gamma",
           "Prawn_2"
          ],
          [
           "full body:undistorted_GX010094_93_1258.jpg_gamma",
           "Prawn_0"
          ],
          [
           "full body:undistorted_GX010082_236_3137.jpg_gamma",
           "Prawn_2"
          ],
          [
           "full body:undistorted_GX010067_33_625.jpg_gamma",
           "Prawn_1"
          ],
          [
           "full body:undistorted_GX010071_22_444.jpg_gamma",
           "Prawn_1"
          ],
          [
           "full body:undistorted_GX010077_14_237.jpg_gamma",
           "Prawn_2"
          ],
          [
           "full body:undistorted_GX010068_27_795.jpg_gamma",
           "Prawn_1"
          ],
          [
           "full body:undistorted_GX010084_30_344.jpg_gamma",
           "Prawn_2"
          ],
          [
           "full body:undistorted_GX010097_60_1080.jpg_gamma",
           "Prawn_3"
          ],
          [
           "full body:undistorted_GX010085_261_3610.jpg_gamma",
           "Prawn_1"
          ],
          [
           "full body:undistorted_GX010101_12_173.jpg_gamma",
           "Prawn_0"
          ],
          [
           "full body:undistorted_GX010080_237_3366.jpg_gamma",
           "Prawn_4"
          ],
          [
           "full body:undistorted_GX010067_33_625.jpg_gamma",
           "Prawn_2"
          ],
          [
           "full body:undistorted_GX010082_8_59.jpg_gamma",
           "Prawn_3"
          ],
          [
           "full body:undistorted_GX010088_209_2904.jpg_gamma",
           "Prawn_1"
          ],
          [
           "full body:undistorted_GX010073_42_695.jpg_gamma",
           "Prawn_1"
          ],
          [
           "full body:undistorted_GX010068_27_795.jpg_gamma",
           "Prawn_0"
          ],
          [
           "full body:undistorted_GX010077_14_237.jpg_gamma",
           "Prawn_0"
          ],
          [
           "full body:undistorted_GX010082_53_796.jpg_gamma",
           "Prawn_0"
          ],
          [
           "full body:undistorted_GX010073_55_1014.jpg_gamma",
           "Prawn_0"
          ],
          [
           "full body:undistorted_GX010080_237_3366.jpg_gamma",
           "Prawn_3"
          ],
          [
           "full body:undistorted_GX010084_30_344.jpg_gamma",
           "Prawn_1"
          ],
          [
           "full body:undistorted_GX010073_55_1014.jpg_gamma",
           "Prawn_1"
          ],
          [
           "full body:undistorted_GX010088_327_4364.jpg_gamma",
           "Prawn_0"
          ],
          [
           "full body:undistorted_GX010084_30_344.jpg_gamma",
           "Prawn_0"
          ],
          [
           "full body:undistorted_GX010067_33_625.jpg_gamma",
           "Prawn_3"
          ],
          [
           "full body:undistorted_GX010080_193_2640.jpg_gamma",
           "Prawn_3"
          ],
          [
           "full body:undistorted_GX010068_26_666.jpg_gamma",
           "Prawn_2"
          ],
          [
           "full body:undistorted_GX010067_33_625.jpg_gamma",
           "Prawn_0"
          ],
          [
           "full body:undistorted_GX010080_238_3392.jpg_gamma",
           "Prawn_2"
          ],
          [
           "full body:undistorted_GX010077_14_237.jpg_gamma",
           "Prawn_1"
          ],
          [
           "full body:undistorted_GX010094_24_430.jpg_gamma",
           "Prawn_0"
          ],
          [
           "full body:undistorted_GX010088_209_2904.jpg_gamma",
           "Prawn_0"
          ],
          [
           "full body:undistorted_GX010080_212_2954.jpg_gamma",
           "Prawn_1"
          ],
          [
           "full body:undistorted_GX010084_130_1748.jpg_gamma",
           "Prawn_1"
          ],
          [
           "full body:undistorted_GX010082_8_59.jpg_gamma",
           "Prawn_4"
          ],
          [
           "full body:undistorted_GX010090_132_1852.jpg_gamma",
           "Prawn_0"
          ],
          [
           "full body:undistorted_GX010094_9_129.jpg_gamma",
           "Prawn_0"
          ],
          [
           "full body:undistorted_GX010084_30_344.jpg_gamma",
           "Prawn_3"
          ],
          [
           "full body:undistorted_GX010071_22_444.jpg_gamma",
           "Prawn_0"
          ],
          [
           "full body:undistorted_GX010068_26_666.jpg_gamma",
           "Prawn_0"
          ],
          [
           "full body:undistorted_GX010080_237_3366.jpg_gamma",
           "Prawn_0"
          ],
          [
           "full body:undistorted_GX010097_32_528.jpg_gamma",
           "Prawn_0"
          ],
          [
           "full body:undistorted_GX010097_60_1080.jpg_gamma",
           "Prawn_1"
          ],
          [
           "full body:undistorted_GX010097_124_1870.jpg_gamma",
           "Prawn_1"
          ],
          [
           "full body:undistorted_GX010080_238_3392.jpg_gamma",
           "Prawn_0"
          ],
          [
           "full body:undistorted_GX010069_19_191.jpg_gamma",
           "Prawn_3"
          ],
          [
           "full body:undistorted_GX010069_19_191.jpg_gamma",
           "Prawn_1"
          ],
          [
           "full body:undistorted_GX010080_193_2640.jpg_gamma",
           "Prawn_1"
          ],
          [
           "full body:undistorted_GX010094_9_129.jpg_gamma",
           "Prawn_1"
          ],
          [
           "full body:undistorted_GX010080_237_3366.jpg_gamma",
           "Prawn_2"
          ],
          [
           "full body:undistorted_GX010094_163_2312.jpg_gamma",
           "Prawn_0"
          ],
          [
           "full body:undistorted_GX010080_238_3392.jpg_gamma",
           "Prawn_3"
          ],
          [
           "full body:undistorted_GX010069_19_191.jpg_gamma",
           "Prawn_2"
          ],
          [
           "full body:undistorted_GX010097_105_1651.jpg_gamma",
           "Prawn_1"
          ],
          [
           "full body:undistorted_GX010068_26_666.jpg_gamma",
           "Prawn_1"
          ],
          [
           "full body:undistorted_GX010073_42_695.jpg_gamma",
           "Prawn_0"
          ],
          [
           "full body:undistorted_GX010082_65_1070.jpg_gamma",
           "Prawn_2"
          ],
          [
           "full body:undistorted_GX010082_236_3137.jpg_gamma",
           "Prawn_0"
          ],
          [
           "full body:undistorted_GX010082_65_1070.jpg_gamma",
           "Prawn_0"
          ],
          [
           "full body:undistorted_GX010097_60_1080.jpg_gamma",
           "Prawn_0"
          ],
          [
           "full body:undistorted_GX010085_261_3610.jpg_gamma",
           "Prawn_0"
          ],
          [
           "full body:undistorted_GX010080_237_3366.jpg_gamma",
           "Prawn_1"
          ],
          [
           "full body:undistorted_GX010073_55_1014.jpg_gamma",
           "Prawn_2"
          ],
          [
           "full body:undistorted_GX010080_193_2640.jpg_gamma",
           "Prawn_2"
          ],
          [
           "full body:undistorted_GX010080_238_3392.jpg_gamma",
           "Prawn_1"
          ],
          [
           "full body:undistorted_GX010080_193_2640.jpg_gamma",
           "Prawn_0"
          ],
          [
           "full body:undistorted_GX010080_212_2954.jpg_gamma",
           "Prawn_0"
          ],
          [
           "full body:undistorted_GX010080_193_2640.jpg_gamma",
           "Prawn_4"
          ],
          [
           "full body:undistorted_GX010097_124_1870.jpg_gamma",
           "Prawn_0"
          ],
          [
           "full body:undistorted_GX010080_157_2283.jpg_gamma",
           "Prawn_3"
          ],
          [
           "full body:undistorted_GX010097_105_1651.jpg_gamma",
           "Prawn_2"
          ],
          [
           "full body:undistorted_GX010082_236_3137.jpg_gamma",
           "Prawn_1"
          ],
          [
           "full body:undistorted_GX010080_157_2283.jpg_gamma",
           "Prawn_2"
          ],
          [
           "full body:undistorted_GX010080_157_2283.jpg_gamma",
           "Prawn_0"
          ],
          [
           "full body:undistorted_GX010097_60_1080.jpg_gamma",
           "Prawn_2"
          ],
          [
           "full body:undistorted_GX010082_65_1070.jpg_gamma",
           "Prawn_1"
          ],
          [
           "full body:undistorted_GX010097_105_1651.jpg_gamma",
           "Prawn_0"
          ],
          [
           "full body:undistorted_GX010097_105_1651.jpg_gamma",
           "Prawn_3"
          ],
          [
           "full body:undistorted_GX010097_32_528.jpg_gamma",
           "Prawn_1"
          ]
         ],
         "hovertemplate": "overestimation=%{x}<br>probability=%{y}<br>Label=%{customdata[0]}<br>PrawnID=%{customdata[1]}<extra></extra>",
         "legendgroup": "",
         "line": {
          "dash": "solid",
          "shape": "hv"
         },
         "marker": {
          "color": "#636efa",
          "symbol": "circle"
         },
         "mode": "lines",
         "name": "",
         "orientation": "v",
         "showlegend": false,
         "type": "scatter",
         "x": [
          -11.223269942072392,
          -6.286359230620505,
          -4.814604159000595,
          -4.407592832592712,
          -3.684981306676491,
          -3.4716461844106163,
          -3.0502313646050823,
          -2.5275462904065193,
          -2.2729525409738187,
          -1.7663329067223117,
          -1.6034378667595206,
          -1.5071786348472074,
          -0.9058763041410032,
          -0.7753151094986777,
          -0.13184518176309723,
          0.06794307421529311,
          1.0467935886070592,
          1.3751866421148122,
          1.7756445478630098,
          1.8291314326641839,
          2.0902115911703163,
          2.5818523916458105,
          2.69637217645041,
          2.9992581596989965,
          3.1603401531997974,
          3.5278226755047797,
          3.728410522143207,
          4.545966809780992,
          4.551944784594582,
          4.610948833937016,
          4.731451607420922,
          5.118400050384324,
          5.55456187554249,
          6.05433548834759,
          6.703090000091606,
          6.878248168471998,
          7.936016852181581,
          8.535333986370503,
          8.8224477638217,
          8.922521007331497,
          8.96639062831261,
          9.115406852968079,
          9.383055686515902,
          10.760056218787,
          11.201355807905685,
          11.242018503828703,
          11.390733741816604,
          11.401661564839273,
          11.615380098402895,
          11.677259616763621,
          11.907110010516291,
          12.404183118185387,
          12.404993196638202,
          12.545963001694687,
          12.817308671649101,
          12.992207820909996,
          13.058572520135101,
          13.6150627797077,
          13.817415068866183,
          14.152853806699909,
          14.197675426651003,
          14.366961316968798,
          14.436382932580614,
          14.556041864880797,
          14.860986751650202,
          15.016455290056399,
          15.755242938552911,
          15.979800448865205,
          16.31505110771731,
          17.214559146892796,
          17.781315268121602,
          18.18529362354461,
          19.10065251434081,
          19.132127918199217,
          19.543211767672375,
          20.164893532784617,
          20.520757476980506,
          21.184411425048296,
          21.36396216254471,
          21.896869343184406,
          23.334047400828084,
          24.616618746002302,
          27.456763400402096,
          27.67900841073201,
          28.509747883769407,
          30.155910935398794,
          31.003234146030493,
          32.643744056214715,
          36.0105439656071,
          37.06832167606211,
          42.88860399861798,
          43.65236606989079,
          63.53548642613649
         ],
         "xaxis": "x",
         "y": [
          0.010752688172043012,
          0.021505376344086023,
          0.03225806451612903,
          0.043010752688172046,
          0.053763440860215055,
          0.06451612903225806,
          0.07526881720430108,
          0.08602150537634409,
          0.0967741935483871,
          0.10752688172043011,
          0.11827956989247312,
          0.12903225806451613,
          0.13978494623655913,
          0.15053763440860216,
          0.16129032258064516,
          0.17204301075268819,
          0.1827956989247312,
          0.1935483870967742,
          0.20430107526881722,
          0.21505376344086022,
          0.22580645161290322,
          0.23655913978494625,
          0.24731182795698925,
          0.25806451612903225,
          0.26881720430107525,
          0.27956989247311825,
          0.2903225806451613,
          0.3010752688172043,
          0.3118279569892473,
          0.3225806451612903,
          0.3333333333333333,
          0.34408602150537637,
          0.3548387096774194,
          0.3655913978494624,
          0.3763440860215054,
          0.3870967741935484,
          0.3978494623655914,
          0.40860215053763443,
          0.41935483870967744,
          0.43010752688172044,
          0.44086021505376344,
          0.45161290322580644,
          0.46236559139784944,
          0.4731182795698925,
          0.4838709677419355,
          0.4946236559139785,
          0.5053763440860215,
          0.5161290322580645,
          0.5268817204301075,
          0.5376344086021505,
          0.5483870967741935,
          0.5591397849462365,
          0.5698924731182796,
          0.5806451612903226,
          0.5913978494623656,
          0.6021505376344086,
          0.6129032258064516,
          0.6236559139784946,
          0.6344086021505376,
          0.6451612903225806,
          0.6559139784946236,
          0.6666666666666666,
          0.6774193548387096,
          0.6881720430107527,
          0.6989247311827957,
          0.7096774193548387,
          0.7204301075268817,
          0.7311827956989247,
          0.7419354838709677,
          0.7526881720430108,
          0.7634408602150538,
          0.7741935483870968,
          0.7849462365591398,
          0.7956989247311828,
          0.8064516129032258,
          0.8172043010752689,
          0.8279569892473119,
          0.8387096774193549,
          0.8494623655913979,
          0.8602150537634409,
          0.8709677419354839,
          0.8817204301075269,
          0.8924731182795699,
          0.9032258064516129,
          0.9139784946236559,
          0.9247311827956989,
          0.9354838709677419,
          0.946236559139785,
          0.956989247311828,
          0.967741935483871,
          0.978494623655914,
          0.989247311827957,
          1
         ],
         "yaxis": "y"
        }
       ],
       "layout": {
        "legend": {
         "tracegroupgap": 0
        },
        "shapes": [
         {
          "line": {
           "color": "red",
           "dash": "dash"
          },
          "type": "line",
          "x0": 0,
          "x1": 0,
          "xref": "x",
          "y0": 0,
          "y1": 1,
          "yref": "y domain"
         }
        ],
        "template": {
         "data": {
          "bar": [
           {
            "error_x": {
             "color": "#2a3f5f"
            },
            "error_y": {
             "color": "#2a3f5f"
            },
            "marker": {
             "line": {
              "color": "#E5ECF6",
              "width": 0.5
             },
             "pattern": {
              "fillmode": "overlay",
              "size": 10,
              "solidity": 0.2
             }
            },
            "type": "bar"
           }
          ],
          "barpolar": [
           {
            "marker": {
             "line": {
              "color": "#E5ECF6",
              "width": 0.5
             },
             "pattern": {
              "fillmode": "overlay",
              "size": 10,
              "solidity": 0.2
             }
            },
            "type": "barpolar"
           }
          ],
          "carpet": [
           {
            "aaxis": {
             "endlinecolor": "#2a3f5f",
             "gridcolor": "white",
             "linecolor": "white",
             "minorgridcolor": "white",
             "startlinecolor": "#2a3f5f"
            },
            "baxis": {
             "endlinecolor": "#2a3f5f",
             "gridcolor": "white",
             "linecolor": "white",
             "minorgridcolor": "white",
             "startlinecolor": "#2a3f5f"
            },
            "type": "carpet"
           }
          ],
          "choropleth": [
           {
            "colorbar": {
             "outlinewidth": 0,
             "ticks": ""
            },
            "type": "choropleth"
           }
          ],
          "contour": [
           {
            "colorbar": {
             "outlinewidth": 0,
             "ticks": ""
            },
            "colorscale": [
             [
              0,
              "#0d0887"
             ],
             [
              0.1111111111111111,
              "#46039f"
             ],
             [
              0.2222222222222222,
              "#7201a8"
             ],
             [
              0.3333333333333333,
              "#9c179e"
             ],
             [
              0.4444444444444444,
              "#bd3786"
             ],
             [
              0.5555555555555556,
              "#d8576b"
             ],
             [
              0.6666666666666666,
              "#ed7953"
             ],
             [
              0.7777777777777778,
              "#fb9f3a"
             ],
             [
              0.8888888888888888,
              "#fdca26"
             ],
             [
              1,
              "#f0f921"
             ]
            ],
            "type": "contour"
           }
          ],
          "contourcarpet": [
           {
            "colorbar": {
             "outlinewidth": 0,
             "ticks": ""
            },
            "type": "contourcarpet"
           }
          ],
          "heatmap": [
           {
            "colorbar": {
             "outlinewidth": 0,
             "ticks": ""
            },
            "colorscale": [
             [
              0,
              "#0d0887"
             ],
             [
              0.1111111111111111,
              "#46039f"
             ],
             [
              0.2222222222222222,
              "#7201a8"
             ],
             [
              0.3333333333333333,
              "#9c179e"
             ],
             [
              0.4444444444444444,
              "#bd3786"
             ],
             [
              0.5555555555555556,
              "#d8576b"
             ],
             [
              0.6666666666666666,
              "#ed7953"
             ],
             [
              0.7777777777777778,
              "#fb9f3a"
             ],
             [
              0.8888888888888888,
              "#fdca26"
             ],
             [
              1,
              "#f0f921"
             ]
            ],
            "type": "heatmap"
           }
          ],
          "heatmapgl": [
           {
            "colorbar": {
             "outlinewidth": 0,
             "ticks": ""
            },
            "colorscale": [
             [
              0,
              "#0d0887"
             ],
             [
              0.1111111111111111,
              "#46039f"
             ],
             [
              0.2222222222222222,
              "#7201a8"
             ],
             [
              0.3333333333333333,
              "#9c179e"
             ],
             [
              0.4444444444444444,
              "#bd3786"
             ],
             [
              0.5555555555555556,
              "#d8576b"
             ],
             [
              0.6666666666666666,
              "#ed7953"
             ],
             [
              0.7777777777777778,
              "#fb9f3a"
             ],
             [
              0.8888888888888888,
              "#fdca26"
             ],
             [
              1,
              "#f0f921"
             ]
            ],
            "type": "heatmapgl"
           }
          ],
          "histogram": [
           {
            "marker": {
             "pattern": {
              "fillmode": "overlay",
              "size": 10,
              "solidity": 0.2
             }
            },
            "type": "histogram"
           }
          ],
          "histogram2d": [
           {
            "colorbar": {
             "outlinewidth": 0,
             "ticks": ""
            },
            "colorscale": [
             [
              0,
              "#0d0887"
             ],
             [
              0.1111111111111111,
              "#46039f"
             ],
             [
              0.2222222222222222,
              "#7201a8"
             ],
             [
              0.3333333333333333,
              "#9c179e"
             ],
             [
              0.4444444444444444,
              "#bd3786"
             ],
             [
              0.5555555555555556,
              "#d8576b"
             ],
             [
              0.6666666666666666,
              "#ed7953"
             ],
             [
              0.7777777777777778,
              "#fb9f3a"
             ],
             [
              0.8888888888888888,
              "#fdca26"
             ],
             [
              1,
              "#f0f921"
             ]
            ],
            "type": "histogram2d"
           }
          ],
          "histogram2dcontour": [
           {
            "colorbar": {
             "outlinewidth": 0,
             "ticks": ""
            },
            "colorscale": [
             [
              0,
              "#0d0887"
             ],
             [
              0.1111111111111111,
              "#46039f"
             ],
             [
              0.2222222222222222,
              "#7201a8"
             ],
             [
              0.3333333333333333,
              "#9c179e"
             ],
             [
              0.4444444444444444,
              "#bd3786"
             ],
             [
              0.5555555555555556,
              "#d8576b"
             ],
             [
              0.6666666666666666,
              "#ed7953"
             ],
             [
              0.7777777777777778,
              "#fb9f3a"
             ],
             [
              0.8888888888888888,
              "#fdca26"
             ],
             [
              1,
              "#f0f921"
             ]
            ],
            "type": "histogram2dcontour"
           }
          ],
          "mesh3d": [
           {
            "colorbar": {
             "outlinewidth": 0,
             "ticks": ""
            },
            "type": "mesh3d"
           }
          ],
          "parcoords": [
           {
            "line": {
             "colorbar": {
              "outlinewidth": 0,
              "ticks": ""
             }
            },
            "type": "parcoords"
           }
          ],
          "pie": [
           {
            "automargin": true,
            "type": "pie"
           }
          ],
          "scatter": [
           {
            "fillpattern": {
             "fillmode": "overlay",
             "size": 10,
             "solidity": 0.2
            },
            "type": "scatter"
           }
          ],
          "scatter3d": [
           {
            "line": {
             "colorbar": {
              "outlinewidth": 0,
              "ticks": ""
             }
            },
            "marker": {
             "colorbar": {
              "outlinewidth": 0,
              "ticks": ""
             }
            },
            "type": "scatter3d"
           }
          ],
          "scattercarpet": [
           {
            "marker": {
             "colorbar": {
              "outlinewidth": 0,
              "ticks": ""
             }
            },
            "type": "scattercarpet"
           }
          ],
          "scattergeo": [
           {
            "marker": {
             "colorbar": {
              "outlinewidth": 0,
              "ticks": ""
             }
            },
            "type": "scattergeo"
           }
          ],
          "scattergl": [
           {
            "marker": {
             "colorbar": {
              "outlinewidth": 0,
              "ticks": ""
             }
            },
            "type": "scattergl"
           }
          ],
          "scattermapbox": [
           {
            "marker": {
             "colorbar": {
              "outlinewidth": 0,
              "ticks": ""
             }
            },
            "type": "scattermapbox"
           }
          ],
          "scatterpolar": [
           {
            "marker": {
             "colorbar": {
              "outlinewidth": 0,
              "ticks": ""
             }
            },
            "type": "scatterpolar"
           }
          ],
          "scatterpolargl": [
           {
            "marker": {
             "colorbar": {
              "outlinewidth": 0,
              "ticks": ""
             }
            },
            "type": "scatterpolargl"
           }
          ],
          "scatterternary": [
           {
            "marker": {
             "colorbar": {
              "outlinewidth": 0,
              "ticks": ""
             }
            },
            "type": "scatterternary"
           }
          ],
          "surface": [
           {
            "colorbar": {
             "outlinewidth": 0,
             "ticks": ""
            },
            "colorscale": [
             [
              0,
              "#0d0887"
             ],
             [
              0.1111111111111111,
              "#46039f"
             ],
             [
              0.2222222222222222,
              "#7201a8"
             ],
             [
              0.3333333333333333,
              "#9c179e"
             ],
             [
              0.4444444444444444,
              "#bd3786"
             ],
             [
              0.5555555555555556,
              "#d8576b"
             ],
             [
              0.6666666666666666,
              "#ed7953"
             ],
             [
              0.7777777777777778,
              "#fb9f3a"
             ],
             [
              0.8888888888888888,
              "#fdca26"
             ],
             [
              1,
              "#f0f921"
             ]
            ],
            "type": "surface"
           }
          ],
          "table": [
           {
            "cells": {
             "fill": {
              "color": "#EBF0F8"
             },
             "line": {
              "color": "white"
             }
            },
            "header": {
             "fill": {
              "color": "#C8D4E3"
             },
             "line": {
              "color": "white"
             }
            },
            "type": "table"
           }
          ]
         },
         "layout": {
          "annotationdefaults": {
           "arrowcolor": "#2a3f5f",
           "arrowhead": 0,
           "arrowwidth": 1
          },
          "autotypenumbers": "strict",
          "coloraxis": {
           "colorbar": {
            "outlinewidth": 0,
            "ticks": ""
           }
          },
          "colorscale": {
           "diverging": [
            [
             0,
             "#8e0152"
            ],
            [
             0.1,
             "#c51b7d"
            ],
            [
             0.2,
             "#de77ae"
            ],
            [
             0.3,
             "#f1b6da"
            ],
            [
             0.4,
             "#fde0ef"
            ],
            [
             0.5,
             "#f7f7f7"
            ],
            [
             0.6,
             "#e6f5d0"
            ],
            [
             0.7,
             "#b8e186"
            ],
            [
             0.8,
             "#7fbc41"
            ],
            [
             0.9,
             "#4d9221"
            ],
            [
             1,
             "#276419"
            ]
           ],
           "sequential": [
            [
             0,
             "#0d0887"
            ],
            [
             0.1111111111111111,
             "#46039f"
            ],
            [
             0.2222222222222222,
             "#7201a8"
            ],
            [
             0.3333333333333333,
             "#9c179e"
            ],
            [
             0.4444444444444444,
             "#bd3786"
            ],
            [
             0.5555555555555556,
             "#d8576b"
            ],
            [
             0.6666666666666666,
             "#ed7953"
            ],
            [
             0.7777777777777778,
             "#fb9f3a"
            ],
            [
             0.8888888888888888,
             "#fdca26"
            ],
            [
             1,
             "#f0f921"
            ]
           ],
           "sequentialminus": [
            [
             0,
             "#0d0887"
            ],
            [
             0.1111111111111111,
             "#46039f"
            ],
            [
             0.2222222222222222,
             "#7201a8"
            ],
            [
             0.3333333333333333,
             "#9c179e"
            ],
            [
             0.4444444444444444,
             "#bd3786"
            ],
            [
             0.5555555555555556,
             "#d8576b"
            ],
            [
             0.6666666666666666,
             "#ed7953"
            ],
            [
             0.7777777777777778,
             "#fb9f3a"
            ],
            [
             0.8888888888888888,
             "#fdca26"
            ],
            [
             1,
             "#f0f921"
            ]
           ]
          },
          "colorway": [
           "#636efa",
           "#EF553B",
           "#00cc96",
           "#ab63fa",
           "#FFA15A",
           "#19d3f3",
           "#FF6692",
           "#B6E880",
           "#FF97FF",
           "#FECB52"
          ],
          "font": {
           "color": "#2a3f5f"
          },
          "geo": {
           "bgcolor": "white",
           "lakecolor": "white",
           "landcolor": "#E5ECF6",
           "showlakes": true,
           "showland": true,
           "subunitcolor": "white"
          },
          "hoverlabel": {
           "align": "left"
          },
          "hovermode": "closest",
          "mapbox": {
           "style": "light"
          },
          "paper_bgcolor": "white",
          "plot_bgcolor": "#E5ECF6",
          "polar": {
           "angularaxis": {
            "gridcolor": "white",
            "linecolor": "white",
            "ticks": ""
           },
           "bgcolor": "#E5ECF6",
           "radialaxis": {
            "gridcolor": "white",
            "linecolor": "white",
            "ticks": ""
           }
          },
          "scene": {
           "xaxis": {
            "backgroundcolor": "#E5ECF6",
            "gridcolor": "white",
            "gridwidth": 2,
            "linecolor": "white",
            "showbackground": true,
            "ticks": "",
            "zerolinecolor": "white"
           },
           "yaxis": {
            "backgroundcolor": "#E5ECF6",
            "gridcolor": "white",
            "gridwidth": 2,
            "linecolor": "white",
            "showbackground": true,
            "ticks": "",
            "zerolinecolor": "white"
           },
           "zaxis": {
            "backgroundcolor": "#E5ECF6",
            "gridcolor": "white",
            "gridwidth": 2,
            "linecolor": "white",
            "showbackground": true,
            "ticks": "",
            "zerolinecolor": "white"
           }
          },
          "shapedefaults": {
           "line": {
            "color": "#2a3f5f"
           }
          },
          "ternary": {
           "aaxis": {
            "gridcolor": "white",
            "linecolor": "white",
            "ticks": ""
           },
           "baxis": {
            "gridcolor": "white",
            "linecolor": "white",
            "ticks": ""
           },
           "bgcolor": "#E5ECF6",
           "caxis": {
            "gridcolor": "white",
            "linecolor": "white",
            "ticks": ""
           }
          },
          "title": {
           "x": 0.05
          },
          "xaxis": {
           "automargin": true,
           "gridcolor": "white",
           "linecolor": "white",
           "ticks": "",
           "title": {
            "standoff": 15
           },
           "zerolinecolor": "white",
           "zerolinewidth": 2
          },
          "yaxis": {
           "automargin": true,
           "gridcolor": "white",
           "linecolor": "white",
           "ticks": "",
           "title": {
            "standoff": 15
           },
           "zerolinecolor": "white",
           "zerolinewidth": 2
          }
         }
        },
        "title": {
         "text": "Cumulative Distribution of Residuals (CDF) circular-big"
        },
        "xaxis": {
         "anchor": "y",
         "domain": [
          0,
          1
         ],
         "title": {
          "text": "Residuals (Predicted - True)"
         }
        },
        "yaxis": {
         "anchor": "x",
         "domain": [
          0,
          1
         ],
         "rangemode": "tozero",
         "title": {
          "text": "probability"
         }
        }
       }
      }
     },
     "metadata": {},
     "output_type": "display_data"
    },
    {
     "data": {
      "application/vnd.plotly.v1+json": {
       "config": {
        "plotlyServerURL": "https://plot.ly"
       },
       "data": [
        {
         "customdata": [
          [
           "full body:undistorted_GX010089_11_236.jpg_gamma",
           "Prawn_3"
          ],
          [
           "full body:undistorted_GX010091_5_149.jpg_gamma",
           "Prawn_1"
          ],
          [
           "full body:undistorted_GX010105_28_816.jpg_gamma",
           "Prawn_0"
          ],
          [
           "full body:undistorted_GX010089_11_236.jpg_gamma",
           "Prawn_1"
          ],
          [
           "full body:undistorted_GX010102_9_165.jpg_gamma",
           "Prawn_5"
          ],
          [
           "full body:undistorted_GX010091_5_149.jpg_gamma",
           "Prawn_0"
          ],
          [
           "full body:undistorted_GX010102_9_165.jpg_gamma",
           "Prawn_4"
          ],
          [
           "full body:undistorted_GX010102_50_1396.jpg_gamma",
           "Prawn_0"
          ],
          [
           "full body:undistorted_GX010089_11_236.jpg_gamma",
           "Prawn_2"
          ],
          [
           "full body:undistorted_GX010102_9_165.jpg_gamma",
           "Prawn_1"
          ],
          [
           "full body:undistorted_GX010105_28_816.jpg_gamma",
           "Prawn_1"
          ],
          [
           "full body:undistorted_GX010089_11_236.jpg_gamma",
           "Prawn_0"
          ],
          [
           "full body:undistorted_GX010091_5_149.jpg_gamma",
           "Prawn_2"
          ],
          [
           "full body:undistorted_GX010102_9_165.jpg_gamma",
           "Prawn_3"
          ],
          [
           "full body:undistorted_GX010102_9_165.jpg_gamma",
           "Prawn_2"
          ]
         ],
         "hovertemplate": "overestimation=%{x}<br>probability=%{y}<br>Label=%{customdata[0]}<br>PrawnID=%{customdata[1]}<extra></extra>",
         "legendgroup": "",
         "line": {
          "dash": "solid",
          "shape": "hv"
         },
         "marker": {
          "color": "#636efa",
          "symbol": "circle"
         },
         "mode": "lines",
         "name": "",
         "orientation": "v",
         "showlegend": false,
         "type": "scatter",
         "x": [
          -2.5091253961069313,
          14.875102421548306,
          15.466067883903655,
          17.087130975932467,
          18.34599538573427,
          18.472460689113007,
          20.658965237656005,
          20.878955449627313,
          21.47069998942331,
          21.801096895985793,
          23.974345836445593,
          24.389757111626096,
          37.388065164327756,
          37.455712099337696,
          49.153712099337696
         ],
         "xaxis": "x",
         "y": [
          0.06666666666666667,
          0.13333333333333333,
          0.2,
          0.26666666666666666,
          0.3333333333333333,
          0.4,
          0.4666666666666667,
          0.5333333333333333,
          0.6,
          0.6666666666666666,
          0.7333333333333333,
          0.8,
          0.8666666666666667,
          0.9333333333333333,
          1
         ],
         "yaxis": "y"
        }
       ],
       "layout": {
        "legend": {
         "tracegroupgap": 0
        },
        "shapes": [
         {
          "line": {
           "color": "red",
           "dash": "dash"
          },
          "type": "line",
          "x0": 0,
          "x1": 0,
          "xref": "x",
          "y0": 0,
          "y1": 1,
          "yref": "y domain"
         }
        ],
        "template": {
         "data": {
          "bar": [
           {
            "error_x": {
             "color": "#2a3f5f"
            },
            "error_y": {
             "color": "#2a3f5f"
            },
            "marker": {
             "line": {
              "color": "#E5ECF6",
              "width": 0.5
             },
             "pattern": {
              "fillmode": "overlay",
              "size": 10,
              "solidity": 0.2
             }
            },
            "type": "bar"
           }
          ],
          "barpolar": [
           {
            "marker": {
             "line": {
              "color": "#E5ECF6",
              "width": 0.5
             },
             "pattern": {
              "fillmode": "overlay",
              "size": 10,
              "solidity": 0.2
             }
            },
            "type": "barpolar"
           }
          ],
          "carpet": [
           {
            "aaxis": {
             "endlinecolor": "#2a3f5f",
             "gridcolor": "white",
             "linecolor": "white",
             "minorgridcolor": "white",
             "startlinecolor": "#2a3f5f"
            },
            "baxis": {
             "endlinecolor": "#2a3f5f",
             "gridcolor": "white",
             "linecolor": "white",
             "minorgridcolor": "white",
             "startlinecolor": "#2a3f5f"
            },
            "type": "carpet"
           }
          ],
          "choropleth": [
           {
            "colorbar": {
             "outlinewidth": 0,
             "ticks": ""
            },
            "type": "choropleth"
           }
          ],
          "contour": [
           {
            "colorbar": {
             "outlinewidth": 0,
             "ticks": ""
            },
            "colorscale": [
             [
              0,
              "#0d0887"
             ],
             [
              0.1111111111111111,
              "#46039f"
             ],
             [
              0.2222222222222222,
              "#7201a8"
             ],
             [
              0.3333333333333333,
              "#9c179e"
             ],
             [
              0.4444444444444444,
              "#bd3786"
             ],
             [
              0.5555555555555556,
              "#d8576b"
             ],
             [
              0.6666666666666666,
              "#ed7953"
             ],
             [
              0.7777777777777778,
              "#fb9f3a"
             ],
             [
              0.8888888888888888,
              "#fdca26"
             ],
             [
              1,
              "#f0f921"
             ]
            ],
            "type": "contour"
           }
          ],
          "contourcarpet": [
           {
            "colorbar": {
             "outlinewidth": 0,
             "ticks": ""
            },
            "type": "contourcarpet"
           }
          ],
          "heatmap": [
           {
            "colorbar": {
             "outlinewidth": 0,
             "ticks": ""
            },
            "colorscale": [
             [
              0,
              "#0d0887"
             ],
             [
              0.1111111111111111,
              "#46039f"
             ],
             [
              0.2222222222222222,
              "#7201a8"
             ],
             [
              0.3333333333333333,
              "#9c179e"
             ],
             [
              0.4444444444444444,
              "#bd3786"
             ],
             [
              0.5555555555555556,
              "#d8576b"
             ],
             [
              0.6666666666666666,
              "#ed7953"
             ],
             [
              0.7777777777777778,
              "#fb9f3a"
             ],
             [
              0.8888888888888888,
              "#fdca26"
             ],
             [
              1,
              "#f0f921"
             ]
            ],
            "type": "heatmap"
           }
          ],
          "heatmapgl": [
           {
            "colorbar": {
             "outlinewidth": 0,
             "ticks": ""
            },
            "colorscale": [
             [
              0,
              "#0d0887"
             ],
             [
              0.1111111111111111,
              "#46039f"
             ],
             [
              0.2222222222222222,
              "#7201a8"
             ],
             [
              0.3333333333333333,
              "#9c179e"
             ],
             [
              0.4444444444444444,
              "#bd3786"
             ],
             [
              0.5555555555555556,
              "#d8576b"
             ],
             [
              0.6666666666666666,
              "#ed7953"
             ],
             [
              0.7777777777777778,
              "#fb9f3a"
             ],
             [
              0.8888888888888888,
              "#fdca26"
             ],
             [
              1,
              "#f0f921"
             ]
            ],
            "type": "heatmapgl"
           }
          ],
          "histogram": [
           {
            "marker": {
             "pattern": {
              "fillmode": "overlay",
              "size": 10,
              "solidity": 0.2
             }
            },
            "type": "histogram"
           }
          ],
          "histogram2d": [
           {
            "colorbar": {
             "outlinewidth": 0,
             "ticks": ""
            },
            "colorscale": [
             [
              0,
              "#0d0887"
             ],
             [
              0.1111111111111111,
              "#46039f"
             ],
             [
              0.2222222222222222,
              "#7201a8"
             ],
             [
              0.3333333333333333,
              "#9c179e"
             ],
             [
              0.4444444444444444,
              "#bd3786"
             ],
             [
              0.5555555555555556,
              "#d8576b"
             ],
             [
              0.6666666666666666,
              "#ed7953"
             ],
             [
              0.7777777777777778,
              "#fb9f3a"
             ],
             [
              0.8888888888888888,
              "#fdca26"
             ],
             [
              1,
              "#f0f921"
             ]
            ],
            "type": "histogram2d"
           }
          ],
          "histogram2dcontour": [
           {
            "colorbar": {
             "outlinewidth": 0,
             "ticks": ""
            },
            "colorscale": [
             [
              0,
              "#0d0887"
             ],
             [
              0.1111111111111111,
              "#46039f"
             ],
             [
              0.2222222222222222,
              "#7201a8"
             ],
             [
              0.3333333333333333,
              "#9c179e"
             ],
             [
              0.4444444444444444,
              "#bd3786"
             ],
             [
              0.5555555555555556,
              "#d8576b"
             ],
             [
              0.6666666666666666,
              "#ed7953"
             ],
             [
              0.7777777777777778,
              "#fb9f3a"
             ],
             [
              0.8888888888888888,
              "#fdca26"
             ],
             [
              1,
              "#f0f921"
             ]
            ],
            "type": "histogram2dcontour"
           }
          ],
          "mesh3d": [
           {
            "colorbar": {
             "outlinewidth": 0,
             "ticks": ""
            },
            "type": "mesh3d"
           }
          ],
          "parcoords": [
           {
            "line": {
             "colorbar": {
              "outlinewidth": 0,
              "ticks": ""
             }
            },
            "type": "parcoords"
           }
          ],
          "pie": [
           {
            "automargin": true,
            "type": "pie"
           }
          ],
          "scatter": [
           {
            "fillpattern": {
             "fillmode": "overlay",
             "size": 10,
             "solidity": 0.2
            },
            "type": "scatter"
           }
          ],
          "scatter3d": [
           {
            "line": {
             "colorbar": {
              "outlinewidth": 0,
              "ticks": ""
             }
            },
            "marker": {
             "colorbar": {
              "outlinewidth": 0,
              "ticks": ""
             }
            },
            "type": "scatter3d"
           }
          ],
          "scattercarpet": [
           {
            "marker": {
             "colorbar": {
              "outlinewidth": 0,
              "ticks": ""
             }
            },
            "type": "scattercarpet"
           }
          ],
          "scattergeo": [
           {
            "marker": {
             "colorbar": {
              "outlinewidth": 0,
              "ticks": ""
             }
            },
            "type": "scattergeo"
           }
          ],
          "scattergl": [
           {
            "marker": {
             "colorbar": {
              "outlinewidth": 0,
              "ticks": ""
             }
            },
            "type": "scattergl"
           }
          ],
          "scattermapbox": [
           {
            "marker": {
             "colorbar": {
              "outlinewidth": 0,
              "ticks": ""
             }
            },
            "type": "scattermapbox"
           }
          ],
          "scatterpolar": [
           {
            "marker": {
             "colorbar": {
              "outlinewidth": 0,
              "ticks": ""
             }
            },
            "type": "scatterpolar"
           }
          ],
          "scatterpolargl": [
           {
            "marker": {
             "colorbar": {
              "outlinewidth": 0,
              "ticks": ""
             }
            },
            "type": "scatterpolargl"
           }
          ],
          "scatterternary": [
           {
            "marker": {
             "colorbar": {
              "outlinewidth": 0,
              "ticks": ""
             }
            },
            "type": "scatterternary"
           }
          ],
          "surface": [
           {
            "colorbar": {
             "outlinewidth": 0,
             "ticks": ""
            },
            "colorscale": [
             [
              0,
              "#0d0887"
             ],
             [
              0.1111111111111111,
              "#46039f"
             ],
             [
              0.2222222222222222,
              "#7201a8"
             ],
             [
              0.3333333333333333,
              "#9c179e"
             ],
             [
              0.4444444444444444,
              "#bd3786"
             ],
             [
              0.5555555555555556,
              "#d8576b"
             ],
             [
              0.6666666666666666,
              "#ed7953"
             ],
             [
              0.7777777777777778,
              "#fb9f3a"
             ],
             [
              0.8888888888888888,
              "#fdca26"
             ],
             [
              1,
              "#f0f921"
             ]
            ],
            "type": "surface"
           }
          ],
          "table": [
           {
            "cells": {
             "fill": {
              "color": "#EBF0F8"
             },
             "line": {
              "color": "white"
             }
            },
            "header": {
             "fill": {
              "color": "#C8D4E3"
             },
             "line": {
              "color": "white"
             }
            },
            "type": "table"
           }
          ]
         },
         "layout": {
          "annotationdefaults": {
           "arrowcolor": "#2a3f5f",
           "arrowhead": 0,
           "arrowwidth": 1
          },
          "autotypenumbers": "strict",
          "coloraxis": {
           "colorbar": {
            "outlinewidth": 0,
            "ticks": ""
           }
          },
          "colorscale": {
           "diverging": [
            [
             0,
             "#8e0152"
            ],
            [
             0.1,
             "#c51b7d"
            ],
            [
             0.2,
             "#de77ae"
            ],
            [
             0.3,
             "#f1b6da"
            ],
            [
             0.4,
             "#fde0ef"
            ],
            [
             0.5,
             "#f7f7f7"
            ],
            [
             0.6,
             "#e6f5d0"
            ],
            [
             0.7,
             "#b8e186"
            ],
            [
             0.8,
             "#7fbc41"
            ],
            [
             0.9,
             "#4d9221"
            ],
            [
             1,
             "#276419"
            ]
           ],
           "sequential": [
            [
             0,
             "#0d0887"
            ],
            [
             0.1111111111111111,
             "#46039f"
            ],
            [
             0.2222222222222222,
             "#7201a8"
            ],
            [
             0.3333333333333333,
             "#9c179e"
            ],
            [
             0.4444444444444444,
             "#bd3786"
            ],
            [
             0.5555555555555556,
             "#d8576b"
            ],
            [
             0.6666666666666666,
             "#ed7953"
            ],
            [
             0.7777777777777778,
             "#fb9f3a"
            ],
            [
             0.8888888888888888,
             "#fdca26"
            ],
            [
             1,
             "#f0f921"
            ]
           ],
           "sequentialminus": [
            [
             0,
             "#0d0887"
            ],
            [
             0.1111111111111111,
             "#46039f"
            ],
            [
             0.2222222222222222,
             "#7201a8"
            ],
            [
             0.3333333333333333,
             "#9c179e"
            ],
            [
             0.4444444444444444,
             "#bd3786"
            ],
            [
             0.5555555555555556,
             "#d8576b"
            ],
            [
             0.6666666666666666,
             "#ed7953"
            ],
            [
             0.7777777777777778,
             "#fb9f3a"
            ],
            [
             0.8888888888888888,
             "#fdca26"
            ],
            [
             1,
             "#f0f921"
            ]
           ]
          },
          "colorway": [
           "#636efa",
           "#EF553B",
           "#00cc96",
           "#ab63fa",
           "#FFA15A",
           "#19d3f3",
           "#FF6692",
           "#B6E880",
           "#FF97FF",
           "#FECB52"
          ],
          "font": {
           "color": "#2a3f5f"
          },
          "geo": {
           "bgcolor": "white",
           "lakecolor": "white",
           "landcolor": "#E5ECF6",
           "showlakes": true,
           "showland": true,
           "subunitcolor": "white"
          },
          "hoverlabel": {
           "align": "left"
          },
          "hovermode": "closest",
          "mapbox": {
           "style": "light"
          },
          "paper_bgcolor": "white",
          "plot_bgcolor": "#E5ECF6",
          "polar": {
           "angularaxis": {
            "gridcolor": "white",
            "linecolor": "white",
            "ticks": ""
           },
           "bgcolor": "#E5ECF6",
           "radialaxis": {
            "gridcolor": "white",
            "linecolor": "white",
            "ticks": ""
           }
          },
          "scene": {
           "xaxis": {
            "backgroundcolor": "#E5ECF6",
            "gridcolor": "white",
            "gridwidth": 2,
            "linecolor": "white",
            "showbackground": true,
            "ticks": "",
            "zerolinecolor": "white"
           },
           "yaxis": {
            "backgroundcolor": "#E5ECF6",
            "gridcolor": "white",
            "gridwidth": 2,
            "linecolor": "white",
            "showbackground": true,
            "ticks": "",
            "zerolinecolor": "white"
           },
           "zaxis": {
            "backgroundcolor": "#E5ECF6",
            "gridcolor": "white",
            "gridwidth": 2,
            "linecolor": "white",
            "showbackground": true,
            "ticks": "",
            "zerolinecolor": "white"
           }
          },
          "shapedefaults": {
           "line": {
            "color": "#2a3f5f"
           }
          },
          "ternary": {
           "aaxis": {
            "gridcolor": "white",
            "linecolor": "white",
            "ticks": ""
           },
           "baxis": {
            "gridcolor": "white",
            "linecolor": "white",
            "ticks": ""
           },
           "bgcolor": "#E5ECF6",
           "caxis": {
            "gridcolor": "white",
            "linecolor": "white",
            "ticks": ""
           }
          },
          "title": {
           "x": 0.05
          },
          "xaxis": {
           "automargin": true,
           "gridcolor": "white",
           "linecolor": "white",
           "ticks": "",
           "title": {
            "standoff": 15
           },
           "zerolinecolor": "white",
           "zerolinewidth": 2
          },
          "yaxis": {
           "automargin": true,
           "gridcolor": "white",
           "linecolor": "white",
           "ticks": "",
           "title": {
            "standoff": 15
           },
           "zerolinecolor": "white",
           "zerolinewidth": 2
          }
         }
        },
        "title": {
         "text": "Cumulative Distribution of Residuals (CDF) circular-small"
        },
        "xaxis": {
         "anchor": "y",
         "domain": [
          0,
          1
         ],
         "title": {
          "text": "Residuals (Predicted - True)"
         }
        },
        "yaxis": {
         "anchor": "x",
         "domain": [
          0,
          1
         ],
         "rangemode": "tozero",
         "title": {
          "text": "probability"
         }
        }
       }
      }
     },
     "metadata": {},
     "output_type": "display_data"
    },
    {
     "data": {
      "application/vnd.plotly.v1+json": {
       "config": {
        "plotlyServerURL": "https://plot.ly"
       },
       "data": [
        {
         "customdata": [
          [
           "full body:undistorted_GX010162_72_927.jpg_gamma.jpg_gamma",
           "Prawn_0"
          ],
          [
           "full body:undistorted_GX010183_128_2852.jpg_gamma",
           "Prawn_0"
          ],
          [
           "full body:undistorted_GX010157_160_2259",
           "Prawn_0"
          ],
          [
           "full body:undistorted_GX010183_37_685.jpg_gamma",
           "Prawn_0"
          ],
          [
           "full body:undistorted_GX010178_172_3604.jpg_gamma",
           "Prawn_0"
          ],
          [
           "full body:undistorted_GX010157_177_2665.jpg_gamma",
           "Prawn_0"
          ],
          [
           "full body:undistorted_GX010175_266_3372.jpg_gamma.jpg_gamma",
           "Prawn_0"
          ],
          [
           "full body:undistorted_GX010152_36_378.jpg_gamma",
           "Prawn_0"
          ],
          [
           "full body:undistorted_GX010174_62_790.jpg_gamma",
           "Prawn_0"
          ],
          [
           "full body:undistorted_GX010157_174_2582.jpg_gamma",
           "Prawn_0"
          ],
          [
           "full body:undistorted_GX010183_80_1633.jpg_gamma",
           "Prawn_0"
          ],
          [
           "full body:undistorted_GX010152_36_378.jpg_gamma",
           "Prawn_1"
          ],
          [
           "full body:undistorted_GX010161_54_676.jpg_gamma.jpg_gamma",
           "Prawn_0"
          ],
          [
           "full body:undistorted_GX010177_232_3047",
           "Prawn_0"
          ]
         ],
         "hovertemplate": "overestimation=%{x}<br>probability=%{y}<br>Label=%{customdata[0]}<br>PrawnID=%{customdata[1]}<extra></extra>",
         "legendgroup": "",
         "line": {
          "dash": "solid",
          "shape": "hv"
         },
         "marker": {
          "color": "#636efa",
          "symbol": "circle"
         },
         "mode": "lines",
         "name": "",
         "orientation": "v",
         "showlegend": false,
         "type": "scatter",
         "x": [
          -5.630771158544505,
          -5.284333157032307,
          -4.937276930490313,
          -1.7108299610818847,
          -1.2931395022683034,
          -0.775768650412914,
          -0.24328713610609043,
          0.9973022309122115,
          1.008652192411688,
          1.3225031509718974,
          3.061333522325583,
          5.526412192379695,
          5.998012830541398,
          8.935418999867707
         ],
         "xaxis": "x",
         "y": [
          0.07142857142857142,
          0.14285714285714285,
          0.21428571428571427,
          0.2857142857142857,
          0.35714285714285715,
          0.42857142857142855,
          0.5,
          0.5714285714285714,
          0.6428571428571429,
          0.7142857142857143,
          0.7857142857142857,
          0.8571428571428571,
          0.9285714285714286,
          1
         ],
         "yaxis": "y"
        }
       ],
       "layout": {
        "legend": {
         "tracegroupgap": 0
        },
        "shapes": [
         {
          "line": {
           "color": "red",
           "dash": "dash"
          },
          "type": "line",
          "x0": 0,
          "x1": 0,
          "xref": "x",
          "y0": 0,
          "y1": 1,
          "yref": "y domain"
         }
        ],
        "template": {
         "data": {
          "bar": [
           {
            "error_x": {
             "color": "#2a3f5f"
            },
            "error_y": {
             "color": "#2a3f5f"
            },
            "marker": {
             "line": {
              "color": "#E5ECF6",
              "width": 0.5
             },
             "pattern": {
              "fillmode": "overlay",
              "size": 10,
              "solidity": 0.2
             }
            },
            "type": "bar"
           }
          ],
          "barpolar": [
           {
            "marker": {
             "line": {
              "color": "#E5ECF6",
              "width": 0.5
             },
             "pattern": {
              "fillmode": "overlay",
              "size": 10,
              "solidity": 0.2
             }
            },
            "type": "barpolar"
           }
          ],
          "carpet": [
           {
            "aaxis": {
             "endlinecolor": "#2a3f5f",
             "gridcolor": "white",
             "linecolor": "white",
             "minorgridcolor": "white",
             "startlinecolor": "#2a3f5f"
            },
            "baxis": {
             "endlinecolor": "#2a3f5f",
             "gridcolor": "white",
             "linecolor": "white",
             "minorgridcolor": "white",
             "startlinecolor": "#2a3f5f"
            },
            "type": "carpet"
           }
          ],
          "choropleth": [
           {
            "colorbar": {
             "outlinewidth": 0,
             "ticks": ""
            },
            "type": "choropleth"
           }
          ],
          "contour": [
           {
            "colorbar": {
             "outlinewidth": 0,
             "ticks": ""
            },
            "colorscale": [
             [
              0,
              "#0d0887"
             ],
             [
              0.1111111111111111,
              "#46039f"
             ],
             [
              0.2222222222222222,
              "#7201a8"
             ],
             [
              0.3333333333333333,
              "#9c179e"
             ],
             [
              0.4444444444444444,
              "#bd3786"
             ],
             [
              0.5555555555555556,
              "#d8576b"
             ],
             [
              0.6666666666666666,
              "#ed7953"
             ],
             [
              0.7777777777777778,
              "#fb9f3a"
             ],
             [
              0.8888888888888888,
              "#fdca26"
             ],
             [
              1,
              "#f0f921"
             ]
            ],
            "type": "contour"
           }
          ],
          "contourcarpet": [
           {
            "colorbar": {
             "outlinewidth": 0,
             "ticks": ""
            },
            "type": "contourcarpet"
           }
          ],
          "heatmap": [
           {
            "colorbar": {
             "outlinewidth": 0,
             "ticks": ""
            },
            "colorscale": [
             [
              0,
              "#0d0887"
             ],
             [
              0.1111111111111111,
              "#46039f"
             ],
             [
              0.2222222222222222,
              "#7201a8"
             ],
             [
              0.3333333333333333,
              "#9c179e"
             ],
             [
              0.4444444444444444,
              "#bd3786"
             ],
             [
              0.5555555555555556,
              "#d8576b"
             ],
             [
              0.6666666666666666,
              "#ed7953"
             ],
             [
              0.7777777777777778,
              "#fb9f3a"
             ],
             [
              0.8888888888888888,
              "#fdca26"
             ],
             [
              1,
              "#f0f921"
             ]
            ],
            "type": "heatmap"
           }
          ],
          "heatmapgl": [
           {
            "colorbar": {
             "outlinewidth": 0,
             "ticks": ""
            },
            "colorscale": [
             [
              0,
              "#0d0887"
             ],
             [
              0.1111111111111111,
              "#46039f"
             ],
             [
              0.2222222222222222,
              "#7201a8"
             ],
             [
              0.3333333333333333,
              "#9c179e"
             ],
             [
              0.4444444444444444,
              "#bd3786"
             ],
             [
              0.5555555555555556,
              "#d8576b"
             ],
             [
              0.6666666666666666,
              "#ed7953"
             ],
             [
              0.7777777777777778,
              "#fb9f3a"
             ],
             [
              0.8888888888888888,
              "#fdca26"
             ],
             [
              1,
              "#f0f921"
             ]
            ],
            "type": "heatmapgl"
           }
          ],
          "histogram": [
           {
            "marker": {
             "pattern": {
              "fillmode": "overlay",
              "size": 10,
              "solidity": 0.2
             }
            },
            "type": "histogram"
           }
          ],
          "histogram2d": [
           {
            "colorbar": {
             "outlinewidth": 0,
             "ticks": ""
            },
            "colorscale": [
             [
              0,
              "#0d0887"
             ],
             [
              0.1111111111111111,
              "#46039f"
             ],
             [
              0.2222222222222222,
              "#7201a8"
             ],
             [
              0.3333333333333333,
              "#9c179e"
             ],
             [
              0.4444444444444444,
              "#bd3786"
             ],
             [
              0.5555555555555556,
              "#d8576b"
             ],
             [
              0.6666666666666666,
              "#ed7953"
             ],
             [
              0.7777777777777778,
              "#fb9f3a"
             ],
             [
              0.8888888888888888,
              "#fdca26"
             ],
             [
              1,
              "#f0f921"
             ]
            ],
            "type": "histogram2d"
           }
          ],
          "histogram2dcontour": [
           {
            "colorbar": {
             "outlinewidth": 0,
             "ticks": ""
            },
            "colorscale": [
             [
              0,
              "#0d0887"
             ],
             [
              0.1111111111111111,
              "#46039f"
             ],
             [
              0.2222222222222222,
              "#7201a8"
             ],
             [
              0.3333333333333333,
              "#9c179e"
             ],
             [
              0.4444444444444444,
              "#bd3786"
             ],
             [
              0.5555555555555556,
              "#d8576b"
             ],
             [
              0.6666666666666666,
              "#ed7953"
             ],
             [
              0.7777777777777778,
              "#fb9f3a"
             ],
             [
              0.8888888888888888,
              "#fdca26"
             ],
             [
              1,
              "#f0f921"
             ]
            ],
            "type": "histogram2dcontour"
           }
          ],
          "mesh3d": [
           {
            "colorbar": {
             "outlinewidth": 0,
             "ticks": ""
            },
            "type": "mesh3d"
           }
          ],
          "parcoords": [
           {
            "line": {
             "colorbar": {
              "outlinewidth": 0,
              "ticks": ""
             }
            },
            "type": "parcoords"
           }
          ],
          "pie": [
           {
            "automargin": true,
            "type": "pie"
           }
          ],
          "scatter": [
           {
            "fillpattern": {
             "fillmode": "overlay",
             "size": 10,
             "solidity": 0.2
            },
            "type": "scatter"
           }
          ],
          "scatter3d": [
           {
            "line": {
             "colorbar": {
              "outlinewidth": 0,
              "ticks": ""
             }
            },
            "marker": {
             "colorbar": {
              "outlinewidth": 0,
              "ticks": ""
             }
            },
            "type": "scatter3d"
           }
          ],
          "scattercarpet": [
           {
            "marker": {
             "colorbar": {
              "outlinewidth": 0,
              "ticks": ""
             }
            },
            "type": "scattercarpet"
           }
          ],
          "scattergeo": [
           {
            "marker": {
             "colorbar": {
              "outlinewidth": 0,
              "ticks": ""
             }
            },
            "type": "scattergeo"
           }
          ],
          "scattergl": [
           {
            "marker": {
             "colorbar": {
              "outlinewidth": 0,
              "ticks": ""
             }
            },
            "type": "scattergl"
           }
          ],
          "scattermapbox": [
           {
            "marker": {
             "colorbar": {
              "outlinewidth": 0,
              "ticks": ""
             }
            },
            "type": "scattermapbox"
           }
          ],
          "scatterpolar": [
           {
            "marker": {
             "colorbar": {
              "outlinewidth": 0,
              "ticks": ""
             }
            },
            "type": "scatterpolar"
           }
          ],
          "scatterpolargl": [
           {
            "marker": {
             "colorbar": {
              "outlinewidth": 0,
              "ticks": ""
             }
            },
            "type": "scatterpolargl"
           }
          ],
          "scatterternary": [
           {
            "marker": {
             "colorbar": {
              "outlinewidth": 0,
              "ticks": ""
             }
            },
            "type": "scatterternary"
           }
          ],
          "surface": [
           {
            "colorbar": {
             "outlinewidth": 0,
             "ticks": ""
            },
            "colorscale": [
             [
              0,
              "#0d0887"
             ],
             [
              0.1111111111111111,
              "#46039f"
             ],
             [
              0.2222222222222222,
              "#7201a8"
             ],
             [
              0.3333333333333333,
              "#9c179e"
             ],
             [
              0.4444444444444444,
              "#bd3786"
             ],
             [
              0.5555555555555556,
              "#d8576b"
             ],
             [
              0.6666666666666666,
              "#ed7953"
             ],
             [
              0.7777777777777778,
              "#fb9f3a"
             ],
             [
              0.8888888888888888,
              "#fdca26"
             ],
             [
              1,
              "#f0f921"
             ]
            ],
            "type": "surface"
           }
          ],
          "table": [
           {
            "cells": {
             "fill": {
              "color": "#EBF0F8"
             },
             "line": {
              "color": "white"
             }
            },
            "header": {
             "fill": {
              "color": "#C8D4E3"
             },
             "line": {
              "color": "white"
             }
            },
            "type": "table"
           }
          ]
         },
         "layout": {
          "annotationdefaults": {
           "arrowcolor": "#2a3f5f",
           "arrowhead": 0,
           "arrowwidth": 1
          },
          "autotypenumbers": "strict",
          "coloraxis": {
           "colorbar": {
            "outlinewidth": 0,
            "ticks": ""
           }
          },
          "colorscale": {
           "diverging": [
            [
             0,
             "#8e0152"
            ],
            [
             0.1,
             "#c51b7d"
            ],
            [
             0.2,
             "#de77ae"
            ],
            [
             0.3,
             "#f1b6da"
            ],
            [
             0.4,
             "#fde0ef"
            ],
            [
             0.5,
             "#f7f7f7"
            ],
            [
             0.6,
             "#e6f5d0"
            ],
            [
             0.7,
             "#b8e186"
            ],
            [
             0.8,
             "#7fbc41"
            ],
            [
             0.9,
             "#4d9221"
            ],
            [
             1,
             "#276419"
            ]
           ],
           "sequential": [
            [
             0,
             "#0d0887"
            ],
            [
             0.1111111111111111,
             "#46039f"
            ],
            [
             0.2222222222222222,
             "#7201a8"
            ],
            [
             0.3333333333333333,
             "#9c179e"
            ],
            [
             0.4444444444444444,
             "#bd3786"
            ],
            [
             0.5555555555555556,
             "#d8576b"
            ],
            [
             0.6666666666666666,
             "#ed7953"
            ],
            [
             0.7777777777777778,
             "#fb9f3a"
            ],
            [
             0.8888888888888888,
             "#fdca26"
            ],
            [
             1,
             "#f0f921"
            ]
           ],
           "sequentialminus": [
            [
             0,
             "#0d0887"
            ],
            [
             0.1111111111111111,
             "#46039f"
            ],
            [
             0.2222222222222222,
             "#7201a8"
            ],
            [
             0.3333333333333333,
             "#9c179e"
            ],
            [
             0.4444444444444444,
             "#bd3786"
            ],
            [
             0.5555555555555556,
             "#d8576b"
            ],
            [
             0.6666666666666666,
             "#ed7953"
            ],
            [
             0.7777777777777778,
             "#fb9f3a"
            ],
            [
             0.8888888888888888,
             "#fdca26"
            ],
            [
             1,
             "#f0f921"
            ]
           ]
          },
          "colorway": [
           "#636efa",
           "#EF553B",
           "#00cc96",
           "#ab63fa",
           "#FFA15A",
           "#19d3f3",
           "#FF6692",
           "#B6E880",
           "#FF97FF",
           "#FECB52"
          ],
          "font": {
           "color": "#2a3f5f"
          },
          "geo": {
           "bgcolor": "white",
           "lakecolor": "white",
           "landcolor": "#E5ECF6",
           "showlakes": true,
           "showland": true,
           "subunitcolor": "white"
          },
          "hoverlabel": {
           "align": "left"
          },
          "hovermode": "closest",
          "mapbox": {
           "style": "light"
          },
          "paper_bgcolor": "white",
          "plot_bgcolor": "#E5ECF6",
          "polar": {
           "angularaxis": {
            "gridcolor": "white",
            "linecolor": "white",
            "ticks": ""
           },
           "bgcolor": "#E5ECF6",
           "radialaxis": {
            "gridcolor": "white",
            "linecolor": "white",
            "ticks": ""
           }
          },
          "scene": {
           "xaxis": {
            "backgroundcolor": "#E5ECF6",
            "gridcolor": "white",
            "gridwidth": 2,
            "linecolor": "white",
            "showbackground": true,
            "ticks": "",
            "zerolinecolor": "white"
           },
           "yaxis": {
            "backgroundcolor": "#E5ECF6",
            "gridcolor": "white",
            "gridwidth": 2,
            "linecolor": "white",
            "showbackground": true,
            "ticks": "",
            "zerolinecolor": "white"
           },
           "zaxis": {
            "backgroundcolor": "#E5ECF6",
            "gridcolor": "white",
            "gridwidth": 2,
            "linecolor": "white",
            "showbackground": true,
            "ticks": "",
            "zerolinecolor": "white"
           }
          },
          "shapedefaults": {
           "line": {
            "color": "#2a3f5f"
           }
          },
          "ternary": {
           "aaxis": {
            "gridcolor": "white",
            "linecolor": "white",
            "ticks": ""
           },
           "baxis": {
            "gridcolor": "white",
            "linecolor": "white",
            "ticks": ""
           },
           "bgcolor": "#E5ECF6",
           "caxis": {
            "gridcolor": "white",
            "linecolor": "white",
            "ticks": ""
           }
          },
          "title": {
           "x": 0.05
          },
          "xaxis": {
           "automargin": true,
           "gridcolor": "white",
           "linecolor": "white",
           "ticks": "",
           "title": {
            "standoff": 15
           },
           "zerolinecolor": "white",
           "zerolinewidth": 2
          },
          "yaxis": {
           "automargin": true,
           "gridcolor": "white",
           "linecolor": "white",
           "ticks": "",
           "title": {
            "standoff": 15
           },
           "zerolinecolor": "white",
           "zerolinewidth": 2
          }
         }
        },
        "title": {
         "text": "Cumulative Distribution of Residuals (CDF) square-female"
        },
        "xaxis": {
         "anchor": "y",
         "domain": [
          0,
          1
         ],
         "title": {
          "text": "Residuals (Predicted - True)"
         }
        },
        "yaxis": {
         "anchor": "x",
         "domain": [
          0,
          1
         ],
         "rangemode": "tozero",
         "title": {
          "text": "probability"
         }
        }
       }
      }
     },
     "metadata": {},
     "output_type": "display_data"
    }
   ],
   "source": [
    "    \n",
    "    \n",
    "    \n",
    "for pond_type in df['PondType'].unique():    \n",
    "\n",
    "\n",
    "    fig = px.ecdf(df[df['PondType'] == pond_type], x=\"overestimation\", title=f\"Cumulative Distribution of Residuals (CDF) {pond_type}\",hover_data=['Label', 'PrawnID'])\n",
    "    fig.update_layout(\n",
    "        xaxis_title=\"Residuals (Predicted - True)\"\n",
    "    )\n",
    "    # Add a vertical line at 0 to show the separation between overestimation and underestimation\n",
    "    fig.add_vline(x=0, line_dash=\"dash\", line_color=\"red\")\n",
    "\n",
    "    fig.show()\n"
   ]
  },
  {
   "cell_type": "code",
   "execution_count": 49,
   "metadata": {},
   "outputs": [
    {
     "name": "stdout",
     "output_type": "stream",
     "text": [
      "pond type count:\n",
      "PondType\n",
      "circular-big      93\n",
      "circular-small    15\n",
      "square-female     14\n",
      "Name: count, dtype: int64\n",
      "pond type mean:\n",
      "PondType\n",
      "circular-big      116.341756\n",
      "circular-small     73.021133\n",
      "square-female     119.587619\n",
      "Name: Avg_Length, dtype: float64\n",
      "pond type std:\n",
      "PondType\n",
      "circular-big      18.716363\n",
      "circular-small    23.583171\n",
      "square-female     17.805035\n",
      "Name: Avg_Length, dtype: float64\n",
      "min_mpe fov median:\n",
      "PondType\n",
      "circular-big       8.873005\n",
      "circular-small    24.395622\n",
      "square-female      1.922570\n",
      "Name: min_mpe, dtype: float64\n",
      "min_mae fov median:\n",
      "PondType\n",
      "circular-big      11.390734\n",
      "circular-small    20.878955\n",
      "square-female      2.386082\n",
      "Name: min_mae, dtype: float64\n",
      "max_mpe fov median:\n",
      "PondType\n",
      "circular-big      23.144713\n",
      "circular-small    47.090420\n",
      "square-female     12.111046\n",
      "Name: max_mpe, dtype: float64\n",
      "max_mae fov median:\n",
      "PondType\n",
      "circular-big      24.212128\n",
      "circular-small    30.365965\n",
      "square-female     15.193373\n",
      "Name: max_mae, dtype: float64\n",
      "min_mpe focal length median:\n",
      "PondType\n",
      "circular-big      15.146605\n",
      "circular-small    31.043807\n",
      "square-female      3.199207\n",
      "Name: min_mpe_focal_length, dtype: float64\n",
      "max_mpe focal length median:\n",
      "PondType\n",
      "circular-big      30.007941\n",
      "circular-small    56.092023\n",
      "square-female     11.896526\n",
      "Name: max_mpe_focal_length, dtype: float64\n",
      "min_mae focal length median:\n",
      "PondType\n",
      "circular-big      18.538422\n",
      "circular-small    26.446219\n",
      "square-female      3.617151\n",
      "Name: min_mae_focal_length, dtype: float64\n",
      "max_mae focal length median:\n",
      "PondType\n",
      "circular-big      31.532922\n",
      "circular-small    37.403904\n",
      "square-female     14.994647\n",
      "Name: max_mae_focal_length, dtype: float64\n"
     ]
    }
   ],
   "source": [
    "#min_mpe_focal_length from MPError_focal_min, MPError_focal_max, MPError_focal_median\n",
    "# min_mae_focal_length from AbsError_focal_min, AbsError_focal_max, AbsError_focal_median\n",
    "\n",
    "df['min_mpe_focal_length']=df[['Error_percentage_max_box_focal','Error_percentage_min_box_focal','Error_percentage_median_box_focal']].min(axis=1)\n",
    "\n",
    "df['min_mae_focal_length']=df[['Abs_error_max_box_focal','Abs_error_min_box_focal','Abs_error_median_box_focal']].min(axis=1)\n",
    "\n",
    "df['max_mpe_focal_length']=df[['Error_percentage_max_box_focal','Error_percentage_min_box_focal','Error_percentage_median_box_focal']].max(axis=1)\n",
    "\n",
    "df['max_mae_focal_length']=df[['Abs_error_max_box_focal','Abs_error_min_box_focal','Abs_error_median_box_focal']].max(axis=1)\n",
    "\n",
    "\n",
    "\n",
    "#print title of the prints\n",
    "print('pond type count:')\n",
    "print(df['PondType'].value_counts())\n",
    "\n",
    "print('pond type mean:')\n",
    "print(df.groupby('PondType')['Avg_Length'].mean())\n",
    "\n",
    "print('pond type std:')\n",
    "print(df.groupby('PondType')['Avg_Length'].std())\n",
    "\n",
    "\n",
    "print ('min_mpe fov median:')\n",
    "print(df.groupby('PondType')['min_mpe'].median())\n",
    "#mean and std for each pond type of the lengt_1, length_2, length_\n",
    "\n",
    "#print min_mae median and std for each pond type\n",
    "\n",
    "print('min_mae fov median:')\n",
    "print(df.groupby('PondType')['min_mae'].median())\n",
    "\n",
    "\n",
    "\n",
    "print('max_mpe fov median:')\n",
    "print(df.groupby('PondType')['max_mpe'].median())\n",
    "\n",
    "print('max_mae fov median:')\n",
    "print(df.groupby('PondType')['max_mae'].median())\n",
    "\n",
    "\n",
    "print('min_mpe focal length median:')\n",
    "print(df.groupby('PondType')['min_mpe_focal_length'].median())\n",
    "\n",
    "print('max_mpe focal length median:')\n",
    "print(df.groupby('PondType')['max_mpe_focal_length'].median()) \n",
    "\n",
    "print('min_mae focal length median:')\n",
    "print(df.groupby('PondType')['min_mae_focal_length'].median())\n",
    "\n",
    "print('max_mae focal length median:')   \n",
    "print(df.groupby('PondType')['max_mae_focal_length'].median())\n",
    "\n",
    "\n",
    "\n",
    "\n",
    "\n",
    "\n"
   ]
  },
  {
   "cell_type": "code",
   "execution_count": 14,
   "metadata": {},
   "outputs": [
    {
     "name": "stdout",
     "output_type": "stream",
     "text": [
      "mean difference between min max for each pond type:\n",
      "PondType\n",
      "circular-big      14.402247\n",
      "circular-small     9.966533\n",
      "square-female     14.834071\n",
      "Name: diff_max_min, dtype: float64\n"
     ]
    }
   ],
   "source": [
    "#mean difference between min max of Length_1, Length_2, Length_3 for each pond type\n",
    "print('mean difference between min max for each pond type:')\n",
    "print(df.groupby('PondType')['diff_max_min'].mean())"
   ]
  },
  {
   "cell_type": "code",
   "execution_count": 16,
   "metadata": {},
   "outputs": [
    {
     "name": "stdout",
     "output_type": "stream",
     "text": [
      "uncertainty of the mean:\n",
      "Pond_Type\n",
      "circular big male      0.261743\n",
      "circular small male    0.649817\n",
      "square-femal           0.428996\n",
      "dtype: float64\n"
     ]
    }
   ],
   "source": [
    "#print uncertainty of the mean \n",
    "print('uncertainty of the mean:')\n",
    "print(df.groupby('Pond_Type')['Std_Length'].mean()/np.sqrt(df.groupby('Pond_Type')['Avg_Length'].count()))"
   ]
  },
  {
   "cell_type": "code",
   "execution_count": null,
   "metadata": {},
   "outputs": [],
   "source": [
    "X = df[['camera_distance', 'pose_metric_1', 'pose_metric_2']]  # Add other pose metrics if available\n",
    "X = sm.add_constant(X)\n",
    "y = df['diff']\n",
    "model = sm.OLS(y, X).fit()\n",
    "print(model.summary())\n",
    "\n",
    "\n",
    "\n",
    "\n",
    "melted_df = df.melt(id_vars=['Label','PrawnID'], value_vars=['Length_1', 'Length_2', 'Length_3'],\n",
    "                   var_name='rater', value_name='measurement')\n",
    "icc = pg.intraclass_corr(data=melted_df, targets=['Label','PrawnID'], raters='rater', ratings='measurement')\n",
    "print(icc)\n",
    "\n",
    "\n",
    "# Correlation Analysis\n",
    "pearson_corr, pearson_p = pearsonr(df['keypoint_mm'], df['expert_mean'])\n",
    "spearman_corr, spearman_p = spearmanr(df['keypoint_mm'], df['expert_mean'])\n",
    "print(f\"Pearson Correlation: {pearson_corr:.3f}, p-value: {pearson_p:.3e}\")\n",
    "print(f\"Spearman Correlation: {spearman_corr:.3f}, p-value: {spearman_p:.3e}\")\n",
    "\n",
    "mean_measurements = (df['keypoint_mm'] + df['expert_mean']) / 2\n",
    "diff_measurements = df['diff']\n",
    "md = np.mean(diff_measurements)\n",
    "sd = np.std(diff_measurements)\n",
    "\n",
    "plt.figure(figsize=(10, 6))\n",
    "plt.scatter(mean_measurements, diff_measurements, alpha=0.5)\n",
    "plt.axhline(md, color='gray', linestyle='--', label=f'Mean Diff = {md:.2f} mm')\n",
    "plt.axhline(md + 1.96*sd, color='red', linestyle='--', label=f'+1.96 SD = {md + 1.96*sd:.2f} mm')\n",
    "plt.axhline(md - 1.96*sd, color='red', linestyle='--', label=f'-1.96 SD = {md - 1.96*sd:.2f} mm')\n",
    "plt.xlabel('Mean of Measurements (mm)')\n",
    "plt.ylabel('Difference (Keypoint - Expert) (mm)')\n",
    "plt.title('Bland-Altman Plot')\n",
    "plt.legend()\n",
    "plt.show()\n",
    "\n",
    "\n",
    "\n",
    "stat, p = shapiro(df['diff'])\n",
    "print(f'Shapiro-Wilk Test: stat={stat:.3f}, p-value={p:.3e}')\n",
    "\n",
    "# Homogeneity of Variance\n",
    "# Assuming 'camera_distance_category' is already defined as in the visualization section\n",
    "groups = df.groupby('camera_distance_category')['diff'].apply(list)\n",
    "stat, p = levene(*groups)\n",
    "print(f\"Levene’s Test: stat={stat:.3f}, p-value={p:.3e}\")\n"
   ]
  }
 ],
 "metadata": {
  "kernelspec": {
   "display_name": ".venv",
   "language": "python",
   "name": "python3"
  },
  "language_info": {
   "codemirror_mode": {
    "name": "ipython",
    "version": 3
   },
   "file_extension": ".py",
   "mimetype": "text/x-python",
   "name": "python",
   "nbconvert_exporter": "python",
   "pygments_lexer": "ipython3",
   "version": "3.9.7"
  }
 },
 "nbformat": 4,
 "nbformat_minor": 2
}
