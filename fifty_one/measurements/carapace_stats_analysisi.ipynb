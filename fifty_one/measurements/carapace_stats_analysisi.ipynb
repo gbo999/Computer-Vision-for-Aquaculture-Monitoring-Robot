{
 "cells": [
  {
   "cell_type": "code",
   "execution_count": 10,
   "metadata": {},
   "outputs": [
    {
     "name": "stdout",
     "output_type": "stream",
     "text": [
      "192\n",
      "148\n"
     ]
    }
   ],
   "source": [
    "import pandas as pd\n",
    "\n",
    "df=pd.read_excel(r'C:\\Users\\gbo10\\Videos\\research\\counting_research_algorithms\\fifty_one\\measurements\\updated_filtered_data_with_lengths.xlsx')\n",
    "\n",
    "print(len(df))\n",
    "df=df.dropna()\n",
    "print(len(df))\n",
    "\n",
    "df['Pond_Type'] = df['Pond_Type'].replace({'test-car': 'square-femal', 'test-right': 'circular big male', 'test-left': 'circular small male'})\n",
    "\n"
   ]
  },
  {
   "cell_type": "code",
   "execution_count": 11,
   "metadata": {},
   "outputs": [
    {
     "name": "stdout",
     "output_type": "stream",
     "text": [
      "mean difference between min max 6.022547297297297\n",
      "std  difference between min max  3.4118945369224236\n"
     ]
    },
    {
     "data": {
      "application/vnd.plotly.v1+json": {
       "config": {
        "plotlyServerURL": "https://plot.ly"
       },
       "data": [
        {
         "alignmentgroup": "True",
         "box": {
          "visible": true
         },
         "customdata": [
          [
           "carapace:undistorted_GX010067_33_625.jpg_gamma",
           "Prawn_0"
          ],
          [
           "carapace:undistorted_GX010067_33_625.jpg_gamma",
           "Prawn_1"
          ],
          [
           "carapace:undistorted_GX010067_33_625.jpg_gamma",
           "Prawn_2"
          ],
          [
           "carapace:undistorted_GX010067_33_625.jpg_gamma",
           "Prawn_3"
          ],
          [
           "carapace:undistorted_GX010068_26_666.jpg_gamma",
           "Prawn_0"
          ],
          [
           "carapace:undistorted_GX010068_26_666.jpg_gamma",
           "Prawn_1"
          ],
          [
           "carapace:undistorted_GX010068_26_666.jpg_gamma",
           "Prawn_2"
          ],
          [
           "carapace:undistorted_GX010068_27_795.jpg_gamma",
           "Prawn_2"
          ],
          [
           "carapace:undistorted_GX010069_19_191.jpg_gamma",
           "Prawn_0"
          ],
          [
           "carapace:undistorted_GX010069_19_191.jpg_gamma",
           "Prawn_1"
          ],
          [
           "carapace:undistorted_GX010069_19_191.jpg_gamma",
           "Prawn_2"
          ],
          [
           "carapace:undistorted_GX010069_19_191.jpg_gamma",
           "Prawn_3"
          ],
          [
           "carapace:undistorted_GX010069_53_796.jpg_gamma",
           "Prawn_1"
          ],
          [
           "carapace:undistorted_GX010071_22_444.jpg_gamma",
           "Prawn_0"
          ],
          [
           "carapace:undistorted_GX010073_42_695.jpg_gamma",
           "Prawn_0"
          ],
          [
           "carapace:undistorted_GX010073_42_695.jpg_gamma",
           "Prawn_1"
          ],
          [
           "carapace:undistorted_GX010073_42_695.jpg_gamma",
           "Prawn_2"
          ],
          [
           "carapace:undistorted_GX010073_55_1014.jpg_gamma",
           "Prawn_0"
          ],
          [
           "carapace:undistorted_GX010073_55_1014.jpg_gamma",
           "Prawn_3"
          ],
          [
           "carapace:undistorted_GX010077_14_237.jpg_gamma",
           "Prawn_0"
          ],
          [
           "carapace:undistorted_GX010077_14_237.jpg_gamma",
           "Prawn_1"
          ],
          [
           "carapace:undistorted_GX010077_14_237.jpg_gamma",
           "Prawn_2"
          ],
          [
           "carapace:undistorted_GX010080_157_2283.jpg_gamma",
           "Prawn_0"
          ],
          [
           "carapace:undistorted_GX010080_157_2283.jpg_gamma",
           "Prawn_1"
          ],
          [
           "carapace:undistorted_GX010080_157_2283.jpg_gamma",
           "Prawn_2"
          ],
          [
           "carapace:undistorted_GX010080_157_2283.jpg_gamma",
           "Prawn_3"
          ],
          [
           "carapace:undistorted_GX010080_157_2283.jpg_gamma",
           "Prawn_4"
          ],
          [
           "carapace:undistorted_GX010080_193_2640.jpg_gamma",
           "Prawn_0"
          ],
          [
           "carapace:undistorted_GX010080_193_2640.jpg_gamma",
           "Prawn_1"
          ],
          [
           "carapace:undistorted_GX010080_193_2640.jpg_gamma",
           "Prawn_4"
          ],
          [
           "carapace:undistorted_GX010080_212_2954.jpg_gamma",
           "Prawn_0"
          ],
          [
           "carapace:undistorted_GX010080_212_2954.jpg_gamma",
           "Prawn_1"
          ],
          [
           "carapace:undistorted_GX010080_212_2954.jpg_gamma",
           "Prawn_2"
          ],
          [
           "carapace:undistorted_GX010080_237_3366.jpg_gamma",
           "Prawn_0"
          ],
          [
           "carapace:undistorted_GX010080_237_3366.jpg_gamma",
           "Prawn_1"
          ],
          [
           "carapace:undistorted_GX010080_237_3366.jpg_gamma",
           "Prawn_2"
          ],
          [
           "carapace:undistorted_GX010080_237_3366.jpg_gamma",
           "Prawn_3"
          ],
          [
           "carapace:undistorted_GX010080_238_3392.jpg_gamma",
           "Prawn_0"
          ],
          [
           "carapace:undistorted_GX010080_238_3392.jpg_gamma",
           "Prawn_1"
          ],
          [
           "carapace:undistorted_GX010080_238_3392.jpg_gamma",
           "Prawn_2"
          ],
          [
           "carapace:undistorted_GX010080_238_3392.jpg_gamma",
           "Prawn_3"
          ],
          [
           "carapace:undistorted_GX010080_238_3392.jpg_gamma",
           "Prawn_4"
          ],
          [
           "carapace:undistorted_GX010082_8_59.jpg_gamma",
           "Prawn_0"
          ],
          [
           "carapace:undistorted_GX010082_8_59.jpg_gamma",
           "Prawn_1"
          ],
          [
           "carapace:undistorted_GX010082_8_59.jpg_gamma",
           "Prawn_2"
          ],
          [
           "carapace:undistorted_GX010082_8_59.jpg_gamma",
           "Prawn_3"
          ],
          [
           "carapace:undistorted_GX010082_8_59.jpg_gamma",
           "Prawn_4"
          ],
          [
           "carapace:undistorted_GX010082_8_59.jpg_gamma",
           "Prawn_5"
          ],
          [
           "carapace:undistorted_GX010082_53_796.jpg_gamma",
           "Prawn_0"
          ],
          [
           "carapace:undistorted_GX010082_53_796.jpg_gamma",
           "Prawn_1"
          ],
          [
           "carapace:undistorted_GX010082_65_1070.jpg_gamma",
           "Prawn_0"
          ],
          [
           "carapace:undistorted_GX010082_65_1070.jpg_gamma",
           "Prawn_1"
          ],
          [
           "carapace:undistorted_GX010082_65_1070.jpg_gamma",
           "Prawn_2"
          ],
          [
           "carapace:undistorted_GX010082_236_3137.jpg_gamma",
           "Prawn_1"
          ],
          [
           "carapace:undistorted_GX010082_236_3137.jpg_gamma",
           "Prawn_2"
          ],
          [
           "carapace:undistorted_GX010084_30_344.jpg_gamma",
           "Prawn_0"
          ],
          [
           "carapace:undistorted_GX010084_30_344.jpg_gamma",
           "Prawn_2"
          ],
          [
           "carapace:undistorted_GX010084_30_344.jpg_gamma",
           "Prawn_3"
          ],
          [
           "carapace:undistorted_GX010084_30_344.jpg_gamma",
           "Prawn_5"
          ],
          [
           "carapace:undistorted_GX010084_130_1748.jpg_gamma",
           "Prawn_0"
          ],
          [
           "carapace:undistorted_GX010084_130_1748.jpg_gamma",
           "Prawn_1"
          ],
          [
           "carapace:undistorted_GX010084_130_1748.jpg_gamma",
           "Prawn_2"
          ],
          [
           "carapace:undistorted_GX010084_130_1748.jpg_gamma",
           "Prawn_3"
          ],
          [
           "carapace:undistorted_GX010084_167_2291.jpg_gamma",
           "Prawn_0"
          ],
          [
           "carapace:undistorted_GX010084_167_2291.jpg_gamma",
           "Prawn_1"
          ],
          [
           "carapace:undistorted_GX010085_261_3610.jpg_gamma",
           "Prawn_0"
          ],
          [
           "carapace:undistorted_GX010085_261_3610.jpg_gamma",
           "Prawn_1"
          ],
          [
           "carapace:undistorted_GX010085_261_3610.jpg_gamma",
           "Prawn_2"
          ],
          [
           "carapace:undistorted_GX010085_263_3738.jpg_gamma",
           "Prawn_1"
          ],
          [
           "carapace:undistorted_GX010085_263_3738.jpg_gamma",
           "Prawn_3"
          ],
          [
           "carapace:undistorted_GX010088_262_3712.jpg_gamma",
           "Prawn_0"
          ],
          [
           "carapace:undistorted_GX010088_262_3712.jpg_gamma",
           "Prawn_2"
          ],
          [
           "carapace:undistorted_GX010088_262_3712.jpg_gamma",
           "Prawn_3"
          ],
          [
           "carapace:undistorted_GX010088_262_3712.jpg_gamma",
           "Prawn_4"
          ],
          [
           "carapace:undistorted_GX010088_262_3712.jpg_gamma",
           "Prawn_5"
          ],
          [
           "carapace:undistorted_GX010088_327_4364.jpg_gamma",
           "Prawn_0"
          ],
          [
           "carapace:undistorted_GX010088_327_4364.jpg_gamma",
           "Prawn_1"
          ],
          [
           "carapace:undistorted_GX010088_327_4364.jpg_gamma",
           "Prawn_2"
          ],
          [
           "carapace:undistorted_GX010088_327_4364.jpg_gamma",
           "Prawn_3"
          ],
          [
           "carapace:undistorted_GX010089_11_236.jpg_gamma",
           "Prawn_0"
          ],
          [
           "carapace:undistorted_GX010089_11_236.jpg_gamma",
           "Prawn_1"
          ],
          [
           "carapace:undistorted_GX010089_11_236.jpg_gamma",
           "Prawn_2"
          ],
          [
           "carapace:undistorted_GX010090_132_1852.jpg_gamma",
           "Prawn_0"
          ],
          [
           "carapace:undistorted_GX010090_132_1852.jpg_gamma",
           "Prawn_1"
          ],
          [
           "carapace:undistorted_GX010091_5_149.jpg_gamma",
           "Prawn_0"
          ],
          [
           "carapace:undistorted_GX010091_5_149.jpg_gamma",
           "Prawn_1"
          ],
          [
           "carapace:undistorted_GX010091_5_149.jpg_gamma",
           "Prawn_2"
          ],
          [
           "carapace:undistorted_GX010091_5_149.jpg_gamma",
           "Prawn_3"
          ],
          [
           "carapace:undistorted_GX010094_9_129.jpg_gamma",
           "Prawn_0"
          ],
          [
           "carapace:undistorted_GX010094_9_129.jpg_gamma",
           "Prawn_1"
          ],
          [
           "carapace:undistorted_GX010094_24_430.jpg_gamma",
           "Prawn_0"
          ],
          [
           "carapace:undistorted_GX010094_24_430.jpg_gamma",
           "Prawn_1"
          ],
          [
           "carapace:undistorted_GX010094_24_430.jpg_gamma",
           "Prawn_2"
          ],
          [
           "carapace:undistorted_GX010094_93_1258.jpg_gamma",
           "Prawn_0"
          ],
          [
           "carapace:undistorted_GX010094_93_1258.jpg_gamma",
           "Prawn_1"
          ],
          [
           "carapace:undistorted_GX010094_163_2312.jpg_gamma",
           "Prawn_0"
          ],
          [
           "carapace:undistorted_GX010096_107_1571.jpg_gamma",
           "Prawn_0"
          ],
          [
           "carapace:undistorted_GX010097_32_528.jpg_gamma",
           "Prawn_0"
          ],
          [
           "carapace:undistorted_GX010097_32_528.jpg_gamma",
           "Prawn_1"
          ],
          [
           "carapace:undistorted_GX010097_60_1080.jpg_gamma",
           "Prawn_1"
          ],
          [
           "carapace:undistorted_GX010097_105_1651.jpg_gamma",
           "Prawn_0"
          ],
          [
           "carapace:undistorted_GX010097_105_1651.jpg_gamma",
           "Prawn_1"
          ],
          [
           "carapace:undistorted_GX010097_105_1651.jpg_gamma",
           "Prawn_2"
          ],
          [
           "carapace:undistorted_GX010097_105_1651.jpg_gamma",
           "Prawn_3"
          ],
          [
           "carapace:undistorted_GX010097_124_1870.jpg_gamma",
           "Prawn_1"
          ],
          [
           "carapace:undistorted_GX010101_12_173.jpg_gamma",
           "Prawn_0"
          ],
          [
           "carapace:undistorted_GX010102_9_165.jpg_gamma",
           "Prawn_0"
          ],
          [
           "carapace:undistorted_GX010102_9_165.jpg_gamma",
           "Prawn_3"
          ],
          [
           "carapace:undistorted_GX010102_9_165.jpg_gamma",
           "Prawn_4"
          ],
          [
           "carapace:undistorted_GX010102_50_1396.jpg_gamma",
           "Prawn_0"
          ],
          [
           "carapace:undistorted_GX010105_28_816.jpg_gamma",
           "Prawn_0"
          ],
          [
           "carapace:undistorted_GX010105_28_816.jpg_gamma",
           "Prawn_1"
          ],
          [
           "carapace:undistorted_GX010152_36_378.jpg_gamma",
           "Prawn_1"
          ],
          [
           "carapace:undistorted_GX010152_36_378.jpg_gamma",
           "Prawn_2"
          ],
          [
           "carapace:undistorted_GX010155_78_1170.jpg_gamma",
           "Prawn_0"
          ],
          [
           "carapace:undistorted_GX010157_68_883",
           "Prawn_0"
          ],
          [
           "carapace:undistorted_GX010157_160_2259",
           "Prawn_0"
          ],
          [
           "carapace:undistorted_GX010157_160_2259",
           "Prawn_1"
          ],
          [
           "carapace:undistorted_GX010157_174_2582.jpg_gamma",
           "Prawn_0"
          ],
          [
           "carapace:undistorted_GX010157_177_2665.jpg_gamma",
           "Prawn_0"
          ],
          [
           "carapace:undistorted_GX010161_54_676.jpg_gamma.jpg_gamma",
           "Prawn_0"
          ],
          [
           "carapace:undistorted_GX010161_136_2267.jpg_gamma.jpg_gamma",
           "Prawn_0"
          ],
          [
           "carapace:undistorted_GX010162_72_927.jpg_gamma.jpg_gamma",
           "Prawn_0"
          ],
          [
           "carapace:undistorted_GX010169_121_1249",
           "Prawn_0"
          ],
          [
           "carapace:undistorted_GX010173_75_922.jpg_gamma",
           "Prawn_0"
          ],
          [
           "carapace:undistorted_GX010174_62_790.jpg_gamma",
           "Prawn_0"
          ],
          [
           "carapace:undistorted_GX010174_104_1236",
           "Prawn_0"
          ],
          [
           "carapace:undistorted_GX010175_82_852.jpg_gamma",
           "Prawn_0"
          ],
          [
           "carapace:undistorted_GX010175_215_2644.jpg_gamma",
           "Prawn_0"
          ],
          [
           "carapace:undistorted_GX010175_266_3372.jpg_gamma.jpg_gamma",
           "Prawn_0"
          ],
          [
           "carapace:undistorted_GX010177_232_3047",
           "Prawn_0"
          ],
          [
           "carapace:undistorted_GX010178_107_2118",
           "Prawn_0"
          ],
          [
           "carapace:undistorted_GX010178_107_2118",
           "Prawn_1"
          ],
          [
           "carapace:undistorted_GX010178_114_2258",
           "Prawn_0"
          ],
          [
           "carapace:undistorted_GX010178_189_3987.jpg_gamma",
           "Prawn_0"
          ],
          [
           "carapace:undistorted_GX010178_189_3987.jpg_gamma",
           "Prawn_1"
          ],
          [
           "carapace:undistorted_GX010179_88_1697.jpg_gamma",
           "Prawn_0"
          ],
          [
           "carapace:undistorted_GX010179_200_3927.jpg_gamma",
           "Prawn_0"
          ],
          [
           "carapace:undistorted_GX010180_91_1563",
           "Prawn_0"
          ],
          [
           "carapace:undistorted_GX010180_99_1788",
           "Prawn_0"
          ],
          [
           "carapace:undistorted_GX010181_101_1542",
           "Prawn_0"
          ],
          [
           "carapace:undistorted_GX010183_37_685.jpg_gamma",
           "Prawn_0"
          ],
          [
           "carapace:undistorted_GX010183_37_685.jpg_gamma",
           "Prawn_1"
          ],
          [
           "carapace:undistorted_GX010183_37_685.jpg_gamma",
           "Prawn_2"
          ],
          [
           "carapace:undistorted_GX010183_80_1633.jpg_gamma",
           "Prawn_0"
          ],
          [
           "carapace:undistorted_GX010183_80_1633.jpg_gamma",
           "Prawn_1"
          ],
          [
           "carapace:undistorted_GX010183_128_2852.jpg_gamma",
           "Prawn_0"
          ],
          [
           "carapace:undistorted_GX010183_128_2852.jpg_gamma",
           "Prawn_1"
          ]
         ],
         "hovertemplate": "Pond_Type=%{x}<br>diff_max_min=%{y}<br>Label=%{customdata[0]}<br>PrawnID=%{customdata[1]}<extra></extra>",
         "legendgroup": "",
         "marker": {
          "color": "#636efa"
         },
         "name": "",
         "offsetgroup": "",
         "orientation": "v",
         "points": "all",
         "scalegroup": "True",
         "showlegend": false,
         "type": "violin",
         "x": [
          "circular big male",
          "circular big male",
          "circular big male",
          "circular big male",
          "circular big male",
          "circular big male",
          "circular big male",
          "circular big male",
          "circular big male",
          "circular big male",
          "circular big male",
          "circular big male",
          "circular big male",
          "circular big male",
          "circular big male",
          "circular big male",
          "circular big male",
          "circular big male",
          "circular big male",
          "circular big male",
          "circular big male",
          "circular big male",
          "circular big male",
          "circular big male",
          "circular big male",
          "circular big male",
          "circular big male",
          "circular big male",
          "circular big male",
          "circular big male",
          "circular big male",
          "circular big male",
          "circular big male",
          "circular big male",
          "circular big male",
          "circular big male",
          "circular big male",
          "circular big male",
          "circular big male",
          "circular big male",
          "circular big male",
          "circular big male",
          "circular big male",
          "circular big male",
          "circular big male",
          "circular big male",
          "circular big male",
          "circular big male",
          "circular big male",
          "circular big male",
          "circular big male",
          "circular big male",
          "circular big male",
          "circular big male",
          "circular big male",
          "circular big male",
          "circular big male",
          "circular big male",
          "circular big male",
          "circular big male",
          "circular big male",
          "circular big male",
          "circular big male",
          "circular big male",
          "circular big male",
          "circular big male",
          "circular big male",
          "circular big male",
          "circular big male",
          "circular big male",
          "circular big male",
          "circular big male",
          "circular big male",
          "circular big male",
          "circular big male",
          "circular big male",
          "circular big male",
          "circular big male",
          "circular big male",
          "circular small male",
          "circular small male",
          "circular small male",
          "circular big male",
          "circular big male",
          "circular small male",
          "circular small male",
          "circular small male",
          "circular small male",
          "circular big male",
          "circular big male",
          "circular big male",
          "circular big male",
          "circular big male",
          "circular big male",
          "circular big male",
          "circular big male",
          "circular big male",
          "circular big male",
          "circular big male",
          "circular big male",
          "circular big male",
          "circular big male",
          "circular big male",
          "circular big male",
          "circular big male",
          "circular big male",
          "circular small male",
          "circular small male",
          "circular small male",
          "circular small male",
          "circular small male",
          "circular small male",
          "square-femal",
          "square-femal",
          "square-femal",
          "square-femal",
          "square-femal",
          "square-femal",
          "square-femal",
          "square-femal",
          "square-femal",
          "square-femal",
          "square-femal",
          "square-femal",
          "square-femal",
          "square-femal",
          "square-femal",
          "square-femal",
          "square-femal",
          "square-femal",
          "square-femal",
          "square-femal",
          "square-femal",
          "square-femal",
          "square-femal",
          "square-femal",
          "square-femal",
          "square-femal",
          "square-femal",
          "square-femal",
          "square-femal",
          "square-femal",
          "square-femal",
          "square-femal",
          "square-femal",
          "square-femal",
          "square-femal",
          "square-femal"
         ],
         "x0": " ",
         "xaxis": "x",
         "y": [
          5.674999999999997,
          4.501999999999999,
          11.183,
          1.227999999999998,
          6.111999999999998,
          6.398999999999997,
          3.426000000000002,
          7.904999999999998,
          2.860000000000003,
          0.7270000000000039,
          7.152999999999999,
          4.640999999999998,
          2.2550000000000026,
          5.599000000000004,
          10.338999999999999,
          5.442999999999998,
          6.239000000000001,
          5.299999999999997,
          5.680999999999997,
          4.625999999999998,
          2.780999999999999,
          4.712,
          4.097000000000001,
          5.578000000000003,
          7.9239999999999995,
          2.746000000000002,
          8.478999999999996,
          10.82,
          5.641000000000005,
          13.049000000000003,
          3.466000000000001,
          4.060000000000002,
          7.413,
          1.1310000000000002,
          2.7149999999999963,
          5.993000000000002,
          6.9239999999999995,
          2.7820000000000036,
          5.388999999999996,
          10.683999999999997,
          4.331000000000003,
          5.895000000000003,
          9.541,
          4.493000000000002,
          3.144999999999996,
          3.936,
          3.870000000000001,
          0.9520000000000017,
          1.2719999999999985,
          8.308999999999997,
          2.8969999999999985,
          7.903999999999996,
          3.2680000000000007,
          4.236000000000001,
          7.780999999999999,
          9.629000000000001,
          8.384999999999998,
          2.9250000000000043,
          8.008000000000003,
          1.2049999999999983,
          6.783000000000001,
          6.670999999999999,
          3.2520000000000024,
          13.736000000000004,
          7.602999999999994,
          13.136999999999997,
          12.580999999999996,
          9.311,
          6.939999999999998,
          8.458999999999996,
          4.966000000000001,
          7.411000000000001,
          3.585000000000001,
          3.6950000000000003,
          4.414999999999999,
          13.003,
          5.069000000000003,
          8.654000000000003,
          7.305,
          7.029,
          1.7379999999999995,
          10.673000000000002,
          5.2039999999999935,
          6.611000000000004,
          5.638999999999999,
          1.791999999999998,
          1.8290000000000006,
          2.286999999999999,
          0.5339999999999989,
          9.239999999999998,
          4.375,
          9.714000000000002,
          16.646,
          8.405999999999999,
          14.412000000000003,
          7.378999999999998,
          4.3160000000000025,
          4.7379999999999995,
          8.701999999999998,
          12.909999999999997,
          2.3249999999999957,
          2.024000000000001,
          2.485000000000003,
          1.904,
          1.0840000000000032,
          5.780999999999999,
          4.132999999999999,
          3.593,
          3.596,
          12.650999999999996,
          8.936,
          7.569000000000003,
          4.552,
          5.100999999999999,
          9.955999999999996,
          7.785,
          3.2940000000000005,
          2.2149999999999963,
          4.430999999999997,
          4.054000000000002,
          2.155999999999999,
          6.756,
          2.0500000000000007,
          6.073999999999998,
          2.2490000000000023,
          2.7149999999999963,
          7.772999999999996,
          5.012999999999998,
          15.93,
          15.953000000000003,
          6.599999999999994,
          8.957,
          3.3740000000000023,
          10.576999999999998,
          4.869999999999997,
          5.123000000000005,
          6.361999999999998,
          9.218999999999994,
          5.027999999999999,
          10.000000000000004,
          4.376999999999995,
          2.0450000000000017,
          6.861999999999998,
          6.858000000000004,
          4.908999999999999,
          4.850000000000001,
          3.7780000000000022,
          7.000999999999998
         ],
         "y0": " ",
         "yaxis": "y"
        }
       ],
       "layout": {
        "legend": {
         "tracegroupgap": 0
        },
        "template": {
         "data": {
          "bar": [
           {
            "error_x": {
             "color": "#2a3f5f"
            },
            "error_y": {
             "color": "#2a3f5f"
            },
            "marker": {
             "line": {
              "color": "#E5ECF6",
              "width": 0.5
             },
             "pattern": {
              "fillmode": "overlay",
              "size": 10,
              "solidity": 0.2
             }
            },
            "type": "bar"
           }
          ],
          "barpolar": [
           {
            "marker": {
             "line": {
              "color": "#E5ECF6",
              "width": 0.5
             },
             "pattern": {
              "fillmode": "overlay",
              "size": 10,
              "solidity": 0.2
             }
            },
            "type": "barpolar"
           }
          ],
          "carpet": [
           {
            "aaxis": {
             "endlinecolor": "#2a3f5f",
             "gridcolor": "white",
             "linecolor": "white",
             "minorgridcolor": "white",
             "startlinecolor": "#2a3f5f"
            },
            "baxis": {
             "endlinecolor": "#2a3f5f",
             "gridcolor": "white",
             "linecolor": "white",
             "minorgridcolor": "white",
             "startlinecolor": "#2a3f5f"
            },
            "type": "carpet"
           }
          ],
          "choropleth": [
           {
            "colorbar": {
             "outlinewidth": 0,
             "ticks": ""
            },
            "type": "choropleth"
           }
          ],
          "contour": [
           {
            "colorbar": {
             "outlinewidth": 0,
             "ticks": ""
            },
            "colorscale": [
             [
              0,
              "#0d0887"
             ],
             [
              0.1111111111111111,
              "#46039f"
             ],
             [
              0.2222222222222222,
              "#7201a8"
             ],
             [
              0.3333333333333333,
              "#9c179e"
             ],
             [
              0.4444444444444444,
              "#bd3786"
             ],
             [
              0.5555555555555556,
              "#d8576b"
             ],
             [
              0.6666666666666666,
              "#ed7953"
             ],
             [
              0.7777777777777778,
              "#fb9f3a"
             ],
             [
              0.8888888888888888,
              "#fdca26"
             ],
             [
              1,
              "#f0f921"
             ]
            ],
            "type": "contour"
           }
          ],
          "contourcarpet": [
           {
            "colorbar": {
             "outlinewidth": 0,
             "ticks": ""
            },
            "type": "contourcarpet"
           }
          ],
          "heatmap": [
           {
            "colorbar": {
             "outlinewidth": 0,
             "ticks": ""
            },
            "colorscale": [
             [
              0,
              "#0d0887"
             ],
             [
              0.1111111111111111,
              "#46039f"
             ],
             [
              0.2222222222222222,
              "#7201a8"
             ],
             [
              0.3333333333333333,
              "#9c179e"
             ],
             [
              0.4444444444444444,
              "#bd3786"
             ],
             [
              0.5555555555555556,
              "#d8576b"
             ],
             [
              0.6666666666666666,
              "#ed7953"
             ],
             [
              0.7777777777777778,
              "#fb9f3a"
             ],
             [
              0.8888888888888888,
              "#fdca26"
             ],
             [
              1,
              "#f0f921"
             ]
            ],
            "type": "heatmap"
           }
          ],
          "heatmapgl": [
           {
            "colorbar": {
             "outlinewidth": 0,
             "ticks": ""
            },
            "colorscale": [
             [
              0,
              "#0d0887"
             ],
             [
              0.1111111111111111,
              "#46039f"
             ],
             [
              0.2222222222222222,
              "#7201a8"
             ],
             [
              0.3333333333333333,
              "#9c179e"
             ],
             [
              0.4444444444444444,
              "#bd3786"
             ],
             [
              0.5555555555555556,
              "#d8576b"
             ],
             [
              0.6666666666666666,
              "#ed7953"
             ],
             [
              0.7777777777777778,
              "#fb9f3a"
             ],
             [
              0.8888888888888888,
              "#fdca26"
             ],
             [
              1,
              "#f0f921"
             ]
            ],
            "type": "heatmapgl"
           }
          ],
          "histogram": [
           {
            "marker": {
             "pattern": {
              "fillmode": "overlay",
              "size": 10,
              "solidity": 0.2
             }
            },
            "type": "histogram"
           }
          ],
          "histogram2d": [
           {
            "colorbar": {
             "outlinewidth": 0,
             "ticks": ""
            },
            "colorscale": [
             [
              0,
              "#0d0887"
             ],
             [
              0.1111111111111111,
              "#46039f"
             ],
             [
              0.2222222222222222,
              "#7201a8"
             ],
             [
              0.3333333333333333,
              "#9c179e"
             ],
             [
              0.4444444444444444,
              "#bd3786"
             ],
             [
              0.5555555555555556,
              "#d8576b"
             ],
             [
              0.6666666666666666,
              "#ed7953"
             ],
             [
              0.7777777777777778,
              "#fb9f3a"
             ],
             [
              0.8888888888888888,
              "#fdca26"
             ],
             [
              1,
              "#f0f921"
             ]
            ],
            "type": "histogram2d"
           }
          ],
          "histogram2dcontour": [
           {
            "colorbar": {
             "outlinewidth": 0,
             "ticks": ""
            },
            "colorscale": [
             [
              0,
              "#0d0887"
             ],
             [
              0.1111111111111111,
              "#46039f"
             ],
             [
              0.2222222222222222,
              "#7201a8"
             ],
             [
              0.3333333333333333,
              "#9c179e"
             ],
             [
              0.4444444444444444,
              "#bd3786"
             ],
             [
              0.5555555555555556,
              "#d8576b"
             ],
             [
              0.6666666666666666,
              "#ed7953"
             ],
             [
              0.7777777777777778,
              "#fb9f3a"
             ],
             [
              0.8888888888888888,
              "#fdca26"
             ],
             [
              1,
              "#f0f921"
             ]
            ],
            "type": "histogram2dcontour"
           }
          ],
          "mesh3d": [
           {
            "colorbar": {
             "outlinewidth": 0,
             "ticks": ""
            },
            "type": "mesh3d"
           }
          ],
          "parcoords": [
           {
            "line": {
             "colorbar": {
              "outlinewidth": 0,
              "ticks": ""
             }
            },
            "type": "parcoords"
           }
          ],
          "pie": [
           {
            "automargin": true,
            "type": "pie"
           }
          ],
          "scatter": [
           {
            "fillpattern": {
             "fillmode": "overlay",
             "size": 10,
             "solidity": 0.2
            },
            "type": "scatter"
           }
          ],
          "scatter3d": [
           {
            "line": {
             "colorbar": {
              "outlinewidth": 0,
              "ticks": ""
             }
            },
            "marker": {
             "colorbar": {
              "outlinewidth": 0,
              "ticks": ""
             }
            },
            "type": "scatter3d"
           }
          ],
          "scattercarpet": [
           {
            "marker": {
             "colorbar": {
              "outlinewidth": 0,
              "ticks": ""
             }
            },
            "type": "scattercarpet"
           }
          ],
          "scattergeo": [
           {
            "marker": {
             "colorbar": {
              "outlinewidth": 0,
              "ticks": ""
             }
            },
            "type": "scattergeo"
           }
          ],
          "scattergl": [
           {
            "marker": {
             "colorbar": {
              "outlinewidth": 0,
              "ticks": ""
             }
            },
            "type": "scattergl"
           }
          ],
          "scattermapbox": [
           {
            "marker": {
             "colorbar": {
              "outlinewidth": 0,
              "ticks": ""
             }
            },
            "type": "scattermapbox"
           }
          ],
          "scatterpolar": [
           {
            "marker": {
             "colorbar": {
              "outlinewidth": 0,
              "ticks": ""
             }
            },
            "type": "scatterpolar"
           }
          ],
          "scatterpolargl": [
           {
            "marker": {
             "colorbar": {
              "outlinewidth": 0,
              "ticks": ""
             }
            },
            "type": "scatterpolargl"
           }
          ],
          "scatterternary": [
           {
            "marker": {
             "colorbar": {
              "outlinewidth": 0,
              "ticks": ""
             }
            },
            "type": "scatterternary"
           }
          ],
          "surface": [
           {
            "colorbar": {
             "outlinewidth": 0,
             "ticks": ""
            },
            "colorscale": [
             [
              0,
              "#0d0887"
             ],
             [
              0.1111111111111111,
              "#46039f"
             ],
             [
              0.2222222222222222,
              "#7201a8"
             ],
             [
              0.3333333333333333,
              "#9c179e"
             ],
             [
              0.4444444444444444,
              "#bd3786"
             ],
             [
              0.5555555555555556,
              "#d8576b"
             ],
             [
              0.6666666666666666,
              "#ed7953"
             ],
             [
              0.7777777777777778,
              "#fb9f3a"
             ],
             [
              0.8888888888888888,
              "#fdca26"
             ],
             [
              1,
              "#f0f921"
             ]
            ],
            "type": "surface"
           }
          ],
          "table": [
           {
            "cells": {
             "fill": {
              "color": "#EBF0F8"
             },
             "line": {
              "color": "white"
             }
            },
            "header": {
             "fill": {
              "color": "#C8D4E3"
             },
             "line": {
              "color": "white"
             }
            },
            "type": "table"
           }
          ]
         },
         "layout": {
          "annotationdefaults": {
           "arrowcolor": "#2a3f5f",
           "arrowhead": 0,
           "arrowwidth": 1
          },
          "autotypenumbers": "strict",
          "coloraxis": {
           "colorbar": {
            "outlinewidth": 0,
            "ticks": ""
           }
          },
          "colorscale": {
           "diverging": [
            [
             0,
             "#8e0152"
            ],
            [
             0.1,
             "#c51b7d"
            ],
            [
             0.2,
             "#de77ae"
            ],
            [
             0.3,
             "#f1b6da"
            ],
            [
             0.4,
             "#fde0ef"
            ],
            [
             0.5,
             "#f7f7f7"
            ],
            [
             0.6,
             "#e6f5d0"
            ],
            [
             0.7,
             "#b8e186"
            ],
            [
             0.8,
             "#7fbc41"
            ],
            [
             0.9,
             "#4d9221"
            ],
            [
             1,
             "#276419"
            ]
           ],
           "sequential": [
            [
             0,
             "#0d0887"
            ],
            [
             0.1111111111111111,
             "#46039f"
            ],
            [
             0.2222222222222222,
             "#7201a8"
            ],
            [
             0.3333333333333333,
             "#9c179e"
            ],
            [
             0.4444444444444444,
             "#bd3786"
            ],
            [
             0.5555555555555556,
             "#d8576b"
            ],
            [
             0.6666666666666666,
             "#ed7953"
            ],
            [
             0.7777777777777778,
             "#fb9f3a"
            ],
            [
             0.8888888888888888,
             "#fdca26"
            ],
            [
             1,
             "#f0f921"
            ]
           ],
           "sequentialminus": [
            [
             0,
             "#0d0887"
            ],
            [
             0.1111111111111111,
             "#46039f"
            ],
            [
             0.2222222222222222,
             "#7201a8"
            ],
            [
             0.3333333333333333,
             "#9c179e"
            ],
            [
             0.4444444444444444,
             "#bd3786"
            ],
            [
             0.5555555555555556,
             "#d8576b"
            ],
            [
             0.6666666666666666,
             "#ed7953"
            ],
            [
             0.7777777777777778,
             "#fb9f3a"
            ],
            [
             0.8888888888888888,
             "#fdca26"
            ],
            [
             1,
             "#f0f921"
            ]
           ]
          },
          "colorway": [
           "#636efa",
           "#EF553B",
           "#00cc96",
           "#ab63fa",
           "#FFA15A",
           "#19d3f3",
           "#FF6692",
           "#B6E880",
           "#FF97FF",
           "#FECB52"
          ],
          "font": {
           "color": "#2a3f5f"
          },
          "geo": {
           "bgcolor": "white",
           "lakecolor": "white",
           "landcolor": "#E5ECF6",
           "showlakes": true,
           "showland": true,
           "subunitcolor": "white"
          },
          "hoverlabel": {
           "align": "left"
          },
          "hovermode": "closest",
          "mapbox": {
           "style": "light"
          },
          "paper_bgcolor": "white",
          "plot_bgcolor": "#E5ECF6",
          "polar": {
           "angularaxis": {
            "gridcolor": "white",
            "linecolor": "white",
            "ticks": ""
           },
           "bgcolor": "#E5ECF6",
           "radialaxis": {
            "gridcolor": "white",
            "linecolor": "white",
            "ticks": ""
           }
          },
          "scene": {
           "xaxis": {
            "backgroundcolor": "#E5ECF6",
            "gridcolor": "white",
            "gridwidth": 2,
            "linecolor": "white",
            "showbackground": true,
            "ticks": "",
            "zerolinecolor": "white"
           },
           "yaxis": {
            "backgroundcolor": "#E5ECF6",
            "gridcolor": "white",
            "gridwidth": 2,
            "linecolor": "white",
            "showbackground": true,
            "ticks": "",
            "zerolinecolor": "white"
           },
           "zaxis": {
            "backgroundcolor": "#E5ECF6",
            "gridcolor": "white",
            "gridwidth": 2,
            "linecolor": "white",
            "showbackground": true,
            "ticks": "",
            "zerolinecolor": "white"
           }
          },
          "shapedefaults": {
           "line": {
            "color": "#2a3f5f"
           }
          },
          "ternary": {
           "aaxis": {
            "gridcolor": "white",
            "linecolor": "white",
            "ticks": ""
           },
           "baxis": {
            "gridcolor": "white",
            "linecolor": "white",
            "ticks": ""
           },
           "bgcolor": "#E5ECF6",
           "caxis": {
            "gridcolor": "white",
            "linecolor": "white",
            "ticks": ""
           }
          },
          "title": {
           "x": 0.05
          },
          "xaxis": {
           "automargin": true,
           "gridcolor": "white",
           "linecolor": "white",
           "ticks": "",
           "title": {
            "standoff": 15
           },
           "zerolinecolor": "white",
           "zerolinewidth": 2
          },
          "yaxis": {
           "automargin": true,
           "gridcolor": "white",
           "linecolor": "white",
           "ticks": "",
           "title": {
            "standoff": 15
           },
           "zerolinecolor": "white",
           "zerolinewidth": 2
          }
         }
        },
        "title": {
         "text": "Violin plot of diff_max_min"
        },
        "violinmode": "group",
        "xaxis": {
         "anchor": "y",
         "domain": [
          0,
          1
         ],
         "title": {
          "text": "Pond_Type"
         }
        },
        "yaxis": {
         "anchor": "x",
         "domain": [
          0,
          1
         ],
         "title": {
          "text": "diff_max_min"
         }
        }
       }
      }
     },
     "metadata": {},
     "output_type": "display_data"
    },
    {
     "data": {
      "application/vnd.plotly.v1+json": {
       "config": {
        "plotlyServerURL": "https://plot.ly"
       },
       "data": [
        {
         "alignmentgroup": "True",
         "box": {
          "visible": true
         },
         "customdata": [
          [
           "carapace:undistorted_GX010067_33_625.jpg_gamma",
           "Prawn_0"
          ],
          [
           "carapace:undistorted_GX010067_33_625.jpg_gamma",
           "Prawn_1"
          ],
          [
           "carapace:undistorted_GX010067_33_625.jpg_gamma",
           "Prawn_2"
          ],
          [
           "carapace:undistorted_GX010067_33_625.jpg_gamma",
           "Prawn_3"
          ],
          [
           "carapace:undistorted_GX010068_26_666.jpg_gamma",
           "Prawn_0"
          ],
          [
           "carapace:undistorted_GX010068_26_666.jpg_gamma",
           "Prawn_1"
          ],
          [
           "carapace:undistorted_GX010068_26_666.jpg_gamma",
           "Prawn_2"
          ],
          [
           "carapace:undistorted_GX010068_27_795.jpg_gamma",
           "Prawn_2"
          ],
          [
           "carapace:undistorted_GX010069_19_191.jpg_gamma",
           "Prawn_0"
          ],
          [
           "carapace:undistorted_GX010069_19_191.jpg_gamma",
           "Prawn_1"
          ],
          [
           "carapace:undistorted_GX010069_19_191.jpg_gamma",
           "Prawn_2"
          ],
          [
           "carapace:undistorted_GX010069_19_191.jpg_gamma",
           "Prawn_3"
          ],
          [
           "carapace:undistorted_GX010069_53_796.jpg_gamma",
           "Prawn_1"
          ],
          [
           "carapace:undistorted_GX010071_22_444.jpg_gamma",
           "Prawn_0"
          ],
          [
           "carapace:undistorted_GX010073_42_695.jpg_gamma",
           "Prawn_0"
          ],
          [
           "carapace:undistorted_GX010073_42_695.jpg_gamma",
           "Prawn_1"
          ],
          [
           "carapace:undistorted_GX010073_42_695.jpg_gamma",
           "Prawn_2"
          ],
          [
           "carapace:undistorted_GX010073_55_1014.jpg_gamma",
           "Prawn_0"
          ],
          [
           "carapace:undistorted_GX010073_55_1014.jpg_gamma",
           "Prawn_3"
          ],
          [
           "carapace:undistorted_GX010077_14_237.jpg_gamma",
           "Prawn_0"
          ],
          [
           "carapace:undistorted_GX010077_14_237.jpg_gamma",
           "Prawn_1"
          ],
          [
           "carapace:undistorted_GX010077_14_237.jpg_gamma",
           "Prawn_2"
          ],
          [
           "carapace:undistorted_GX010080_157_2283.jpg_gamma",
           "Prawn_0"
          ],
          [
           "carapace:undistorted_GX010080_157_2283.jpg_gamma",
           "Prawn_1"
          ],
          [
           "carapace:undistorted_GX010080_157_2283.jpg_gamma",
           "Prawn_2"
          ],
          [
           "carapace:undistorted_GX010080_157_2283.jpg_gamma",
           "Prawn_3"
          ],
          [
           "carapace:undistorted_GX010080_157_2283.jpg_gamma",
           "Prawn_4"
          ],
          [
           "carapace:undistorted_GX010080_193_2640.jpg_gamma",
           "Prawn_0"
          ],
          [
           "carapace:undistorted_GX010080_193_2640.jpg_gamma",
           "Prawn_1"
          ],
          [
           "carapace:undistorted_GX010080_193_2640.jpg_gamma",
           "Prawn_4"
          ],
          [
           "carapace:undistorted_GX010080_212_2954.jpg_gamma",
           "Prawn_0"
          ],
          [
           "carapace:undistorted_GX010080_212_2954.jpg_gamma",
           "Prawn_1"
          ],
          [
           "carapace:undistorted_GX010080_212_2954.jpg_gamma",
           "Prawn_2"
          ],
          [
           "carapace:undistorted_GX010080_237_3366.jpg_gamma",
           "Prawn_0"
          ],
          [
           "carapace:undistorted_GX010080_237_3366.jpg_gamma",
           "Prawn_1"
          ],
          [
           "carapace:undistorted_GX010080_237_3366.jpg_gamma",
           "Prawn_2"
          ],
          [
           "carapace:undistorted_GX010080_237_3366.jpg_gamma",
           "Prawn_3"
          ],
          [
           "carapace:undistorted_GX010080_238_3392.jpg_gamma",
           "Prawn_0"
          ],
          [
           "carapace:undistorted_GX010080_238_3392.jpg_gamma",
           "Prawn_1"
          ],
          [
           "carapace:undistorted_GX010080_238_3392.jpg_gamma",
           "Prawn_2"
          ],
          [
           "carapace:undistorted_GX010080_238_3392.jpg_gamma",
           "Prawn_3"
          ],
          [
           "carapace:undistorted_GX010080_238_3392.jpg_gamma",
           "Prawn_4"
          ],
          [
           "carapace:undistorted_GX010082_8_59.jpg_gamma",
           "Prawn_0"
          ],
          [
           "carapace:undistorted_GX010082_8_59.jpg_gamma",
           "Prawn_1"
          ],
          [
           "carapace:undistorted_GX010082_8_59.jpg_gamma",
           "Prawn_2"
          ],
          [
           "carapace:undistorted_GX010082_8_59.jpg_gamma",
           "Prawn_3"
          ],
          [
           "carapace:undistorted_GX010082_8_59.jpg_gamma",
           "Prawn_4"
          ],
          [
           "carapace:undistorted_GX010082_8_59.jpg_gamma",
           "Prawn_5"
          ],
          [
           "carapace:undistorted_GX010082_53_796.jpg_gamma",
           "Prawn_0"
          ],
          [
           "carapace:undistorted_GX010082_53_796.jpg_gamma",
           "Prawn_1"
          ],
          [
           "carapace:undistorted_GX010082_65_1070.jpg_gamma",
           "Prawn_0"
          ],
          [
           "carapace:undistorted_GX010082_65_1070.jpg_gamma",
           "Prawn_1"
          ],
          [
           "carapace:undistorted_GX010082_65_1070.jpg_gamma",
           "Prawn_2"
          ],
          [
           "carapace:undistorted_GX010082_236_3137.jpg_gamma",
           "Prawn_1"
          ],
          [
           "carapace:undistorted_GX010082_236_3137.jpg_gamma",
           "Prawn_2"
          ],
          [
           "carapace:undistorted_GX010084_30_344.jpg_gamma",
           "Prawn_0"
          ],
          [
           "carapace:undistorted_GX010084_30_344.jpg_gamma",
           "Prawn_2"
          ],
          [
           "carapace:undistorted_GX010084_30_344.jpg_gamma",
           "Prawn_3"
          ],
          [
           "carapace:undistorted_GX010084_30_344.jpg_gamma",
           "Prawn_5"
          ],
          [
           "carapace:undistorted_GX010084_130_1748.jpg_gamma",
           "Prawn_0"
          ],
          [
           "carapace:undistorted_GX010084_130_1748.jpg_gamma",
           "Prawn_1"
          ],
          [
           "carapace:undistorted_GX010084_130_1748.jpg_gamma",
           "Prawn_2"
          ],
          [
           "carapace:undistorted_GX010084_130_1748.jpg_gamma",
           "Prawn_3"
          ],
          [
           "carapace:undistorted_GX010084_167_2291.jpg_gamma",
           "Prawn_0"
          ],
          [
           "carapace:undistorted_GX010084_167_2291.jpg_gamma",
           "Prawn_1"
          ],
          [
           "carapace:undistorted_GX010085_261_3610.jpg_gamma",
           "Prawn_0"
          ],
          [
           "carapace:undistorted_GX010085_261_3610.jpg_gamma",
           "Prawn_1"
          ],
          [
           "carapace:undistorted_GX010085_261_3610.jpg_gamma",
           "Prawn_2"
          ],
          [
           "carapace:undistorted_GX010085_263_3738.jpg_gamma",
           "Prawn_1"
          ],
          [
           "carapace:undistorted_GX010085_263_3738.jpg_gamma",
           "Prawn_3"
          ],
          [
           "carapace:undistorted_GX010088_262_3712.jpg_gamma",
           "Prawn_0"
          ],
          [
           "carapace:undistorted_GX010088_262_3712.jpg_gamma",
           "Prawn_2"
          ],
          [
           "carapace:undistorted_GX010088_262_3712.jpg_gamma",
           "Prawn_3"
          ],
          [
           "carapace:undistorted_GX010088_262_3712.jpg_gamma",
           "Prawn_4"
          ],
          [
           "carapace:undistorted_GX010088_262_3712.jpg_gamma",
           "Prawn_5"
          ],
          [
           "carapace:undistorted_GX010088_327_4364.jpg_gamma",
           "Prawn_0"
          ],
          [
           "carapace:undistorted_GX010088_327_4364.jpg_gamma",
           "Prawn_1"
          ],
          [
           "carapace:undistorted_GX010088_327_4364.jpg_gamma",
           "Prawn_2"
          ],
          [
           "carapace:undistorted_GX010088_327_4364.jpg_gamma",
           "Prawn_3"
          ],
          [
           "carapace:undistorted_GX010089_11_236.jpg_gamma",
           "Prawn_0"
          ],
          [
           "carapace:undistorted_GX010089_11_236.jpg_gamma",
           "Prawn_1"
          ],
          [
           "carapace:undistorted_GX010089_11_236.jpg_gamma",
           "Prawn_2"
          ],
          [
           "carapace:undistorted_GX010090_132_1852.jpg_gamma",
           "Prawn_0"
          ],
          [
           "carapace:undistorted_GX010090_132_1852.jpg_gamma",
           "Prawn_1"
          ],
          [
           "carapace:undistorted_GX010091_5_149.jpg_gamma",
           "Prawn_0"
          ],
          [
           "carapace:undistorted_GX010091_5_149.jpg_gamma",
           "Prawn_1"
          ],
          [
           "carapace:undistorted_GX010091_5_149.jpg_gamma",
           "Prawn_2"
          ],
          [
           "carapace:undistorted_GX010091_5_149.jpg_gamma",
           "Prawn_3"
          ],
          [
           "carapace:undistorted_GX010094_9_129.jpg_gamma",
           "Prawn_0"
          ],
          [
           "carapace:undistorted_GX010094_9_129.jpg_gamma",
           "Prawn_1"
          ],
          [
           "carapace:undistorted_GX010094_24_430.jpg_gamma",
           "Prawn_0"
          ],
          [
           "carapace:undistorted_GX010094_24_430.jpg_gamma",
           "Prawn_1"
          ],
          [
           "carapace:undistorted_GX010094_24_430.jpg_gamma",
           "Prawn_2"
          ],
          [
           "carapace:undistorted_GX010094_93_1258.jpg_gamma",
           "Prawn_0"
          ],
          [
           "carapace:undistorted_GX010094_93_1258.jpg_gamma",
           "Prawn_1"
          ],
          [
           "carapace:undistorted_GX010094_163_2312.jpg_gamma",
           "Prawn_0"
          ],
          [
           "carapace:undistorted_GX010096_107_1571.jpg_gamma",
           "Prawn_0"
          ],
          [
           "carapace:undistorted_GX010097_32_528.jpg_gamma",
           "Prawn_0"
          ],
          [
           "carapace:undistorted_GX010097_32_528.jpg_gamma",
           "Prawn_1"
          ],
          [
           "carapace:undistorted_GX010097_60_1080.jpg_gamma",
           "Prawn_1"
          ],
          [
           "carapace:undistorted_GX010097_105_1651.jpg_gamma",
           "Prawn_0"
          ],
          [
           "carapace:undistorted_GX010097_105_1651.jpg_gamma",
           "Prawn_1"
          ],
          [
           "carapace:undistorted_GX010097_105_1651.jpg_gamma",
           "Prawn_2"
          ],
          [
           "carapace:undistorted_GX010097_105_1651.jpg_gamma",
           "Prawn_3"
          ],
          [
           "carapace:undistorted_GX010097_124_1870.jpg_gamma",
           "Prawn_1"
          ],
          [
           "carapace:undistorted_GX010101_12_173.jpg_gamma",
           "Prawn_0"
          ],
          [
           "carapace:undistorted_GX010102_9_165.jpg_gamma",
           "Prawn_0"
          ],
          [
           "carapace:undistorted_GX010102_9_165.jpg_gamma",
           "Prawn_3"
          ],
          [
           "carapace:undistorted_GX010102_9_165.jpg_gamma",
           "Prawn_4"
          ],
          [
           "carapace:undistorted_GX010102_50_1396.jpg_gamma",
           "Prawn_0"
          ],
          [
           "carapace:undistorted_GX010105_28_816.jpg_gamma",
           "Prawn_0"
          ],
          [
           "carapace:undistorted_GX010105_28_816.jpg_gamma",
           "Prawn_1"
          ],
          [
           "carapace:undistorted_GX010152_36_378.jpg_gamma",
           "Prawn_1"
          ],
          [
           "carapace:undistorted_GX010152_36_378.jpg_gamma",
           "Prawn_2"
          ],
          [
           "carapace:undistorted_GX010155_78_1170.jpg_gamma",
           "Prawn_0"
          ],
          [
           "carapace:undistorted_GX010157_68_883",
           "Prawn_0"
          ],
          [
           "carapace:undistorted_GX010157_160_2259",
           "Prawn_0"
          ],
          [
           "carapace:undistorted_GX010157_160_2259",
           "Prawn_1"
          ],
          [
           "carapace:undistorted_GX010157_174_2582.jpg_gamma",
           "Prawn_0"
          ],
          [
           "carapace:undistorted_GX010157_177_2665.jpg_gamma",
           "Prawn_0"
          ],
          [
           "carapace:undistorted_GX010161_54_676.jpg_gamma.jpg_gamma",
           "Prawn_0"
          ],
          [
           "carapace:undistorted_GX010161_136_2267.jpg_gamma.jpg_gamma",
           "Prawn_0"
          ],
          [
           "carapace:undistorted_GX010162_72_927.jpg_gamma.jpg_gamma",
           "Prawn_0"
          ],
          [
           "carapace:undistorted_GX010169_121_1249",
           "Prawn_0"
          ],
          [
           "carapace:undistorted_GX010173_75_922.jpg_gamma",
           "Prawn_0"
          ],
          [
           "carapace:undistorted_GX010174_62_790.jpg_gamma",
           "Prawn_0"
          ],
          [
           "carapace:undistorted_GX010174_104_1236",
           "Prawn_0"
          ],
          [
           "carapace:undistorted_GX010175_82_852.jpg_gamma",
           "Prawn_0"
          ],
          [
           "carapace:undistorted_GX010175_215_2644.jpg_gamma",
           "Prawn_0"
          ],
          [
           "carapace:undistorted_GX010175_266_3372.jpg_gamma.jpg_gamma",
           "Prawn_0"
          ],
          [
           "carapace:undistorted_GX010177_232_3047",
           "Prawn_0"
          ],
          [
           "carapace:undistorted_GX010178_107_2118",
           "Prawn_0"
          ],
          [
           "carapace:undistorted_GX010178_107_2118",
           "Prawn_1"
          ],
          [
           "carapace:undistorted_GX010178_114_2258",
           "Prawn_0"
          ],
          [
           "carapace:undistorted_GX010178_189_3987.jpg_gamma",
           "Prawn_0"
          ],
          [
           "carapace:undistorted_GX010178_189_3987.jpg_gamma",
           "Prawn_1"
          ],
          [
           "carapace:undistorted_GX010179_88_1697.jpg_gamma",
           "Prawn_0"
          ],
          [
           "carapace:undistorted_GX010179_200_3927.jpg_gamma",
           "Prawn_0"
          ],
          [
           "carapace:undistorted_GX010180_91_1563",
           "Prawn_0"
          ],
          [
           "carapace:undistorted_GX010180_99_1788",
           "Prawn_0"
          ],
          [
           "carapace:undistorted_GX010181_101_1542",
           "Prawn_0"
          ],
          [
           "carapace:undistorted_GX010183_37_685.jpg_gamma",
           "Prawn_0"
          ],
          [
           "carapace:undistorted_GX010183_37_685.jpg_gamma",
           "Prawn_1"
          ],
          [
           "carapace:undistorted_GX010183_37_685.jpg_gamma",
           "Prawn_2"
          ],
          [
           "carapace:undistorted_GX010183_80_1633.jpg_gamma",
           "Prawn_0"
          ],
          [
           "carapace:undistorted_GX010183_80_1633.jpg_gamma",
           "Prawn_1"
          ],
          [
           "carapace:undistorted_GX010183_128_2852.jpg_gamma",
           "Prawn_0"
          ],
          [
           "carapace:undistorted_GX010183_128_2852.jpg_gamma",
           "Prawn_1"
          ]
         ],
         "hovertemplate": "Pond_Type=%{x}<br>min_mpe=%{y}<br>Label=%{customdata[0]}<br>PrawnID=%{customdata[1]}<extra></extra>",
         "legendgroup": "",
         "marker": {
          "color": "#636efa"
         },
         "name": "",
         "offsetgroup": "",
         "orientation": "v",
         "points": "all",
         "scalegroup": "True",
         "showlegend": false,
         "type": "violin",
         "x": [
          "circular big male",
          "circular big male",
          "circular big male",
          "circular big male",
          "circular big male",
          "circular big male",
          "circular big male",
          "circular big male",
          "circular big male",
          "circular big male",
          "circular big male",
          "circular big male",
          "circular big male",
          "circular big male",
          "circular big male",
          "circular big male",
          "circular big male",
          "circular big male",
          "circular big male",
          "circular big male",
          "circular big male",
          "circular big male",
          "circular big male",
          "circular big male",
          "circular big male",
          "circular big male",
          "circular big male",
          "circular big male",
          "circular big male",
          "circular big male",
          "circular big male",
          "circular big male",
          "circular big male",
          "circular big male",
          "circular big male",
          "circular big male",
          "circular big male",
          "circular big male",
          "circular big male",
          "circular big male",
          "circular big male",
          "circular big male",
          "circular big male",
          "circular big male",
          "circular big male",
          "circular big male",
          "circular big male",
          "circular big male",
          "circular big male",
          "circular big male",
          "circular big male",
          "circular big male",
          "circular big male",
          "circular big male",
          "circular big male",
          "circular big male",
          "circular big male",
          "circular big male",
          "circular big male",
          "circular big male",
          "circular big male",
          "circular big male",
          "circular big male",
          "circular big male",
          "circular big male",
          "circular big male",
          "circular big male",
          "circular big male",
          "circular big male",
          "circular big male",
          "circular big male",
          "circular big male",
          "circular big male",
          "circular big male",
          "circular big male",
          "circular big male",
          "circular big male",
          "circular big male",
          "circular big male",
          "circular small male",
          "circular small male",
          "circular small male",
          "circular big male",
          "circular big male",
          "circular small male",
          "circular small male",
          "circular small male",
          "circular small male",
          "circular big male",
          "circular big male",
          "circular big male",
          "circular big male",
          "circular big male",
          "circular big male",
          "circular big male",
          "circular big male",
          "circular big male",
          "circular big male",
          "circular big male",
          "circular big male",
          "circular big male",
          "circular big male",
          "circular big male",
          "circular big male",
          "circular big male",
          "circular big male",
          "circular small male",
          "circular small male",
          "circular small male",
          "circular small male",
          "circular small male",
          "circular small male",
          "square-femal",
          "square-femal",
          "square-femal",
          "square-femal",
          "square-femal",
          "square-femal",
          "square-femal",
          "square-femal",
          "square-femal",
          "square-femal",
          "square-femal",
          "square-femal",
          "square-femal",
          "square-femal",
          "square-femal",
          "square-femal",
          "square-femal",
          "square-femal",
          "square-femal",
          "square-femal",
          "square-femal",
          "square-femal",
          "square-femal",
          "square-femal",
          "square-femal",
          "square-femal",
          "square-femal",
          "square-femal",
          "square-femal",
          "square-femal",
          "square-femal",
          "square-femal",
          "square-femal",
          "square-femal",
          "square-femal",
          "square-femal"
         ],
         "x0": " ",
         "xaxis": "x",
         "y": [
          6.147389440960136,
          0.3171787499571145,
          5.955076437768192,
          4.707340615411802,
          2.560480534260496,
          3.357556297405717,
          3.372352707435531,
          1.521970220707102,
          2.212403386533694,
          1.203228856519706,
          6.596257932630219,
          0.8724756932193755,
          2.047921188323401,
          20.51184471468857,
          2.013342945516055,
          14.58951595321621,
          5.734809369992758,
          6.446212203785505,
          0.6896748809722895,
          6.073869448328788,
          6.632150247266877,
          10.28901824573966,
          8.7352238029981,
          5.930781374142201,
          27.11410409083584,
          2.670273377809907,
          12.61634128873517,
          0.2192743050822953,
          11.26294487514559,
          7.721734632236004,
          5.822866375151829,
          0.9825856854590655,
          3.709929710116012,
          4.377112510226225,
          9.421682615584599,
          4.281471506861308,
          5.778975043600669,
          13.80053391454891,
          0.7526423096053366,
          11.63389310804993,
          7.986148647321285,
          2.009888164384503,
          14.24121168077769,
          5.086659346867308,
          11.00347638062639,
          9.401022190063436,
          1.274262458066279,
          1.009693987232476,
          6.314852070904255,
          6.324566897370046,
          2.528625541547931,
          0.8282226011610048,
          1.167783986760816,
          6.509051836417881,
          8.321796366952237,
          15.55439884680151,
          1.317807462533459,
          15.23523002831029,
          2.321120158830218,
          16.42499081399965,
          8.867815029386994,
          1.485924840967833,
          23.49850170205313,
          22.13293198709697,
          10.75538521666158,
          1.236265422499246,
          5.191969199316217,
          8.809688806317526,
          9.945882180633305,
          30.33117677966997,
          18.87342306568008,
          18.15972279402101,
          24.20080350448996,
          19.72589864559198,
          25.82453568329542,
          3.56950508057413,
          7.38017777134378,
          15.77937429699574,
          16.76722299573514,
          14.11122341390577,
          11.72190199661931,
          8.182463687535597,
          6.441446947641795,
          11.10285243454565,
          7.433783671158896,
          7.686250930420159,
          10.5510429086784,
          73.11549964167735,
          1.278552951756111,
          5.769187117319068,
          0.5389206876288659,
          0.2702572010804538,
          9.975547689572055,
          11.48122800903899,
          1.416171767232312,
          3.151085632180445,
          12.58453755385924,
          16.56292306055936,
          3.989117459842997,
          5.853770474197147,
          6.735308602338192,
          6.005660390057072,
          4.579898850901895,
          7.403654012080136,
          13.16924584675122,
          3.217669070543715,
          8.29556422065076,
          2.273565567581195,
          0.6588626103110806,
          6.885701174274184,
          17.26406764137852,
          2.114173016802061,
          27.39038487616479,
          33.2993286822533,
          18.59154965544419,
          39.20246970178587,
          24.52987776863934,
          58.17607830247056,
          29.77305384234789,
          26.0936257906536,
          22.3944285882912,
          36.88331448196285,
          4.178098370815081,
          21.03104951579584,
          43.85951059047651,
          18.19719965843588,
          0.7890761349963318,
          4.125099197804524,
          36.5443023290299,
          1.628025163823231,
          0.4773034562660036,
          15.92923454390855,
          2.53378776273245,
          2.480717679346082,
          18.46871920014902,
          7.854624970807468,
          1.361949679968942,
          1.474938318204914,
          14.41107827506975,
          5.361087842735911,
          21.75282149788319,
          37.43016489886606,
          7.303861522682109,
          42.96101256030701,
          17.70171247593945,
          10.8891006021457,
          24.8706948044533,
          7.735888744158573
         ],
         "y0": " ",
         "yaxis": "y"
        }
       ],
       "layout": {
        "legend": {
         "tracegroupgap": 0
        },
        "template": {
         "data": {
          "bar": [
           {
            "error_x": {
             "color": "#2a3f5f"
            },
            "error_y": {
             "color": "#2a3f5f"
            },
            "marker": {
             "line": {
              "color": "#E5ECF6",
              "width": 0.5
             },
             "pattern": {
              "fillmode": "overlay",
              "size": 10,
              "solidity": 0.2
             }
            },
            "type": "bar"
           }
          ],
          "barpolar": [
           {
            "marker": {
             "line": {
              "color": "#E5ECF6",
              "width": 0.5
             },
             "pattern": {
              "fillmode": "overlay",
              "size": 10,
              "solidity": 0.2
             }
            },
            "type": "barpolar"
           }
          ],
          "carpet": [
           {
            "aaxis": {
             "endlinecolor": "#2a3f5f",
             "gridcolor": "white",
             "linecolor": "white",
             "minorgridcolor": "white",
             "startlinecolor": "#2a3f5f"
            },
            "baxis": {
             "endlinecolor": "#2a3f5f",
             "gridcolor": "white",
             "linecolor": "white",
             "minorgridcolor": "white",
             "startlinecolor": "#2a3f5f"
            },
            "type": "carpet"
           }
          ],
          "choropleth": [
           {
            "colorbar": {
             "outlinewidth": 0,
             "ticks": ""
            },
            "type": "choropleth"
           }
          ],
          "contour": [
           {
            "colorbar": {
             "outlinewidth": 0,
             "ticks": ""
            },
            "colorscale": [
             [
              0,
              "#0d0887"
             ],
             [
              0.1111111111111111,
              "#46039f"
             ],
             [
              0.2222222222222222,
              "#7201a8"
             ],
             [
              0.3333333333333333,
              "#9c179e"
             ],
             [
              0.4444444444444444,
              "#bd3786"
             ],
             [
              0.5555555555555556,
              "#d8576b"
             ],
             [
              0.6666666666666666,
              "#ed7953"
             ],
             [
              0.7777777777777778,
              "#fb9f3a"
             ],
             [
              0.8888888888888888,
              "#fdca26"
             ],
             [
              1,
              "#f0f921"
             ]
            ],
            "type": "contour"
           }
          ],
          "contourcarpet": [
           {
            "colorbar": {
             "outlinewidth": 0,
             "ticks": ""
            },
            "type": "contourcarpet"
           }
          ],
          "heatmap": [
           {
            "colorbar": {
             "outlinewidth": 0,
             "ticks": ""
            },
            "colorscale": [
             [
              0,
              "#0d0887"
             ],
             [
              0.1111111111111111,
              "#46039f"
             ],
             [
              0.2222222222222222,
              "#7201a8"
             ],
             [
              0.3333333333333333,
              "#9c179e"
             ],
             [
              0.4444444444444444,
              "#bd3786"
             ],
             [
              0.5555555555555556,
              "#d8576b"
             ],
             [
              0.6666666666666666,
              "#ed7953"
             ],
             [
              0.7777777777777778,
              "#fb9f3a"
             ],
             [
              0.8888888888888888,
              "#fdca26"
             ],
             [
              1,
              "#f0f921"
             ]
            ],
            "type": "heatmap"
           }
          ],
          "heatmapgl": [
           {
            "colorbar": {
             "outlinewidth": 0,
             "ticks": ""
            },
            "colorscale": [
             [
              0,
              "#0d0887"
             ],
             [
              0.1111111111111111,
              "#46039f"
             ],
             [
              0.2222222222222222,
              "#7201a8"
             ],
             [
              0.3333333333333333,
              "#9c179e"
             ],
             [
              0.4444444444444444,
              "#bd3786"
             ],
             [
              0.5555555555555556,
              "#d8576b"
             ],
             [
              0.6666666666666666,
              "#ed7953"
             ],
             [
              0.7777777777777778,
              "#fb9f3a"
             ],
             [
              0.8888888888888888,
              "#fdca26"
             ],
             [
              1,
              "#f0f921"
             ]
            ],
            "type": "heatmapgl"
           }
          ],
          "histogram": [
           {
            "marker": {
             "pattern": {
              "fillmode": "overlay",
              "size": 10,
              "solidity": 0.2
             }
            },
            "type": "histogram"
           }
          ],
          "histogram2d": [
           {
            "colorbar": {
             "outlinewidth": 0,
             "ticks": ""
            },
            "colorscale": [
             [
              0,
              "#0d0887"
             ],
             [
              0.1111111111111111,
              "#46039f"
             ],
             [
              0.2222222222222222,
              "#7201a8"
             ],
             [
              0.3333333333333333,
              "#9c179e"
             ],
             [
              0.4444444444444444,
              "#bd3786"
             ],
             [
              0.5555555555555556,
              "#d8576b"
             ],
             [
              0.6666666666666666,
              "#ed7953"
             ],
             [
              0.7777777777777778,
              "#fb9f3a"
             ],
             [
              0.8888888888888888,
              "#fdca26"
             ],
             [
              1,
              "#f0f921"
             ]
            ],
            "type": "histogram2d"
           }
          ],
          "histogram2dcontour": [
           {
            "colorbar": {
             "outlinewidth": 0,
             "ticks": ""
            },
            "colorscale": [
             [
              0,
              "#0d0887"
             ],
             [
              0.1111111111111111,
              "#46039f"
             ],
             [
              0.2222222222222222,
              "#7201a8"
             ],
             [
              0.3333333333333333,
              "#9c179e"
             ],
             [
              0.4444444444444444,
              "#bd3786"
             ],
             [
              0.5555555555555556,
              "#d8576b"
             ],
             [
              0.6666666666666666,
              "#ed7953"
             ],
             [
              0.7777777777777778,
              "#fb9f3a"
             ],
             [
              0.8888888888888888,
              "#fdca26"
             ],
             [
              1,
              "#f0f921"
             ]
            ],
            "type": "histogram2dcontour"
           }
          ],
          "mesh3d": [
           {
            "colorbar": {
             "outlinewidth": 0,
             "ticks": ""
            },
            "type": "mesh3d"
           }
          ],
          "parcoords": [
           {
            "line": {
             "colorbar": {
              "outlinewidth": 0,
              "ticks": ""
             }
            },
            "type": "parcoords"
           }
          ],
          "pie": [
           {
            "automargin": true,
            "type": "pie"
           }
          ],
          "scatter": [
           {
            "fillpattern": {
             "fillmode": "overlay",
             "size": 10,
             "solidity": 0.2
            },
            "type": "scatter"
           }
          ],
          "scatter3d": [
           {
            "line": {
             "colorbar": {
              "outlinewidth": 0,
              "ticks": ""
             }
            },
            "marker": {
             "colorbar": {
              "outlinewidth": 0,
              "ticks": ""
             }
            },
            "type": "scatter3d"
           }
          ],
          "scattercarpet": [
           {
            "marker": {
             "colorbar": {
              "outlinewidth": 0,
              "ticks": ""
             }
            },
            "type": "scattercarpet"
           }
          ],
          "scattergeo": [
           {
            "marker": {
             "colorbar": {
              "outlinewidth": 0,
              "ticks": ""
             }
            },
            "type": "scattergeo"
           }
          ],
          "scattergl": [
           {
            "marker": {
             "colorbar": {
              "outlinewidth": 0,
              "ticks": ""
             }
            },
            "type": "scattergl"
           }
          ],
          "scattermapbox": [
           {
            "marker": {
             "colorbar": {
              "outlinewidth": 0,
              "ticks": ""
             }
            },
            "type": "scattermapbox"
           }
          ],
          "scatterpolar": [
           {
            "marker": {
             "colorbar": {
              "outlinewidth": 0,
              "ticks": ""
             }
            },
            "type": "scatterpolar"
           }
          ],
          "scatterpolargl": [
           {
            "marker": {
             "colorbar": {
              "outlinewidth": 0,
              "ticks": ""
             }
            },
            "type": "scatterpolargl"
           }
          ],
          "scatterternary": [
           {
            "marker": {
             "colorbar": {
              "outlinewidth": 0,
              "ticks": ""
             }
            },
            "type": "scatterternary"
           }
          ],
          "surface": [
           {
            "colorbar": {
             "outlinewidth": 0,
             "ticks": ""
            },
            "colorscale": [
             [
              0,
              "#0d0887"
             ],
             [
              0.1111111111111111,
              "#46039f"
             ],
             [
              0.2222222222222222,
              "#7201a8"
             ],
             [
              0.3333333333333333,
              "#9c179e"
             ],
             [
              0.4444444444444444,
              "#bd3786"
             ],
             [
              0.5555555555555556,
              "#d8576b"
             ],
             [
              0.6666666666666666,
              "#ed7953"
             ],
             [
              0.7777777777777778,
              "#fb9f3a"
             ],
             [
              0.8888888888888888,
              "#fdca26"
             ],
             [
              1,
              "#f0f921"
             ]
            ],
            "type": "surface"
           }
          ],
          "table": [
           {
            "cells": {
             "fill": {
              "color": "#EBF0F8"
             },
             "line": {
              "color": "white"
             }
            },
            "header": {
             "fill": {
              "color": "#C8D4E3"
             },
             "line": {
              "color": "white"
             }
            },
            "type": "table"
           }
          ]
         },
         "layout": {
          "annotationdefaults": {
           "arrowcolor": "#2a3f5f",
           "arrowhead": 0,
           "arrowwidth": 1
          },
          "autotypenumbers": "strict",
          "coloraxis": {
           "colorbar": {
            "outlinewidth": 0,
            "ticks": ""
           }
          },
          "colorscale": {
           "diverging": [
            [
             0,
             "#8e0152"
            ],
            [
             0.1,
             "#c51b7d"
            ],
            [
             0.2,
             "#de77ae"
            ],
            [
             0.3,
             "#f1b6da"
            ],
            [
             0.4,
             "#fde0ef"
            ],
            [
             0.5,
             "#f7f7f7"
            ],
            [
             0.6,
             "#e6f5d0"
            ],
            [
             0.7,
             "#b8e186"
            ],
            [
             0.8,
             "#7fbc41"
            ],
            [
             0.9,
             "#4d9221"
            ],
            [
             1,
             "#276419"
            ]
           ],
           "sequential": [
            [
             0,
             "#0d0887"
            ],
            [
             0.1111111111111111,
             "#46039f"
            ],
            [
             0.2222222222222222,
             "#7201a8"
            ],
            [
             0.3333333333333333,
             "#9c179e"
            ],
            [
             0.4444444444444444,
             "#bd3786"
            ],
            [
             0.5555555555555556,
             "#d8576b"
            ],
            [
             0.6666666666666666,
             "#ed7953"
            ],
            [
             0.7777777777777778,
             "#fb9f3a"
            ],
            [
             0.8888888888888888,
             "#fdca26"
            ],
            [
             1,
             "#f0f921"
            ]
           ],
           "sequentialminus": [
            [
             0,
             "#0d0887"
            ],
            [
             0.1111111111111111,
             "#46039f"
            ],
            [
             0.2222222222222222,
             "#7201a8"
            ],
            [
             0.3333333333333333,
             "#9c179e"
            ],
            [
             0.4444444444444444,
             "#bd3786"
            ],
            [
             0.5555555555555556,
             "#d8576b"
            ],
            [
             0.6666666666666666,
             "#ed7953"
            ],
            [
             0.7777777777777778,
             "#fb9f3a"
            ],
            [
             0.8888888888888888,
             "#fdca26"
            ],
            [
             1,
             "#f0f921"
            ]
           ]
          },
          "colorway": [
           "#636efa",
           "#EF553B",
           "#00cc96",
           "#ab63fa",
           "#FFA15A",
           "#19d3f3",
           "#FF6692",
           "#B6E880",
           "#FF97FF",
           "#FECB52"
          ],
          "font": {
           "color": "#2a3f5f"
          },
          "geo": {
           "bgcolor": "white",
           "lakecolor": "white",
           "landcolor": "#E5ECF6",
           "showlakes": true,
           "showland": true,
           "subunitcolor": "white"
          },
          "hoverlabel": {
           "align": "left"
          },
          "hovermode": "closest",
          "mapbox": {
           "style": "light"
          },
          "paper_bgcolor": "white",
          "plot_bgcolor": "#E5ECF6",
          "polar": {
           "angularaxis": {
            "gridcolor": "white",
            "linecolor": "white",
            "ticks": ""
           },
           "bgcolor": "#E5ECF6",
           "radialaxis": {
            "gridcolor": "white",
            "linecolor": "white",
            "ticks": ""
           }
          },
          "scene": {
           "xaxis": {
            "backgroundcolor": "#E5ECF6",
            "gridcolor": "white",
            "gridwidth": 2,
            "linecolor": "white",
            "showbackground": true,
            "ticks": "",
            "zerolinecolor": "white"
           },
           "yaxis": {
            "backgroundcolor": "#E5ECF6",
            "gridcolor": "white",
            "gridwidth": 2,
            "linecolor": "white",
            "showbackground": true,
            "ticks": "",
            "zerolinecolor": "white"
           },
           "zaxis": {
            "backgroundcolor": "#E5ECF6",
            "gridcolor": "white",
            "gridwidth": 2,
            "linecolor": "white",
            "showbackground": true,
            "ticks": "",
            "zerolinecolor": "white"
           }
          },
          "shapedefaults": {
           "line": {
            "color": "#2a3f5f"
           }
          },
          "ternary": {
           "aaxis": {
            "gridcolor": "white",
            "linecolor": "white",
            "ticks": ""
           },
           "baxis": {
            "gridcolor": "white",
            "linecolor": "white",
            "ticks": ""
           },
           "bgcolor": "#E5ECF6",
           "caxis": {
            "gridcolor": "white",
            "linecolor": "white",
            "ticks": ""
           }
          },
          "title": {
           "x": 0.05
          },
          "xaxis": {
           "automargin": true,
           "gridcolor": "white",
           "linecolor": "white",
           "ticks": "",
           "title": {
            "standoff": 15
           },
           "zerolinecolor": "white",
           "zerolinewidth": 2
          },
          "yaxis": {
           "automargin": true,
           "gridcolor": "white",
           "linecolor": "white",
           "ticks": "",
           "title": {
            "standoff": 15
           },
           "zerolinecolor": "white",
           "zerolinewidth": 2
          }
         }
        },
        "title": {
         "text": "Violin plot of min_mpe"
        },
        "violinmode": "group",
        "xaxis": {
         "anchor": "y",
         "domain": [
          0,
          1
         ],
         "title": {
          "text": "Pond_Type"
         }
        },
        "yaxis": {
         "anchor": "x",
         "domain": [
          0,
          1
         ],
         "title": {
          "text": "min_mpe"
         }
        }
       }
      }
     },
     "metadata": {},
     "output_type": "display_data"
    },
    {
     "data": {
      "application/vnd.plotly.v1+json": {
       "config": {
        "plotlyServerURL": "https://plot.ly"
       },
       "data": [
        {
         "alignmentgroup": "True",
         "box": {
          "visible": true
         },
         "customdata": [
          [
           "carapace:undistorted_GX010067_33_625.jpg_gamma",
           "Prawn_0"
          ],
          [
           "carapace:undistorted_GX010067_33_625.jpg_gamma",
           "Prawn_1"
          ],
          [
           "carapace:undistorted_GX010067_33_625.jpg_gamma",
           "Prawn_2"
          ],
          [
           "carapace:undistorted_GX010067_33_625.jpg_gamma",
           "Prawn_3"
          ],
          [
           "carapace:undistorted_GX010068_26_666.jpg_gamma",
           "Prawn_0"
          ],
          [
           "carapace:undistorted_GX010068_26_666.jpg_gamma",
           "Prawn_1"
          ],
          [
           "carapace:undistorted_GX010068_26_666.jpg_gamma",
           "Prawn_2"
          ],
          [
           "carapace:undistorted_GX010068_27_795.jpg_gamma",
           "Prawn_2"
          ],
          [
           "carapace:undistorted_GX010069_19_191.jpg_gamma",
           "Prawn_0"
          ],
          [
           "carapace:undistorted_GX010069_19_191.jpg_gamma",
           "Prawn_1"
          ],
          [
           "carapace:undistorted_GX010069_19_191.jpg_gamma",
           "Prawn_2"
          ],
          [
           "carapace:undistorted_GX010069_19_191.jpg_gamma",
           "Prawn_3"
          ],
          [
           "carapace:undistorted_GX010069_53_796.jpg_gamma",
           "Prawn_1"
          ],
          [
           "carapace:undistorted_GX010071_22_444.jpg_gamma",
           "Prawn_0"
          ],
          [
           "carapace:undistorted_GX010073_42_695.jpg_gamma",
           "Prawn_0"
          ],
          [
           "carapace:undistorted_GX010073_42_695.jpg_gamma",
           "Prawn_1"
          ],
          [
           "carapace:undistorted_GX010073_42_695.jpg_gamma",
           "Prawn_2"
          ],
          [
           "carapace:undistorted_GX010073_55_1014.jpg_gamma",
           "Prawn_0"
          ],
          [
           "carapace:undistorted_GX010073_55_1014.jpg_gamma",
           "Prawn_3"
          ],
          [
           "carapace:undistorted_GX010077_14_237.jpg_gamma",
           "Prawn_0"
          ],
          [
           "carapace:undistorted_GX010077_14_237.jpg_gamma",
           "Prawn_1"
          ],
          [
           "carapace:undistorted_GX010077_14_237.jpg_gamma",
           "Prawn_2"
          ],
          [
           "carapace:undistorted_GX010080_157_2283.jpg_gamma",
           "Prawn_0"
          ],
          [
           "carapace:undistorted_GX010080_157_2283.jpg_gamma",
           "Prawn_1"
          ],
          [
           "carapace:undistorted_GX010080_157_2283.jpg_gamma",
           "Prawn_2"
          ],
          [
           "carapace:undistorted_GX010080_157_2283.jpg_gamma",
           "Prawn_3"
          ],
          [
           "carapace:undistorted_GX010080_157_2283.jpg_gamma",
           "Prawn_4"
          ],
          [
           "carapace:undistorted_GX010080_193_2640.jpg_gamma",
           "Prawn_0"
          ],
          [
           "carapace:undistorted_GX010080_193_2640.jpg_gamma",
           "Prawn_1"
          ],
          [
           "carapace:undistorted_GX010080_193_2640.jpg_gamma",
           "Prawn_4"
          ],
          [
           "carapace:undistorted_GX010080_212_2954.jpg_gamma",
           "Prawn_0"
          ],
          [
           "carapace:undistorted_GX010080_212_2954.jpg_gamma",
           "Prawn_1"
          ],
          [
           "carapace:undistorted_GX010080_212_2954.jpg_gamma",
           "Prawn_2"
          ],
          [
           "carapace:undistorted_GX010080_237_3366.jpg_gamma",
           "Prawn_0"
          ],
          [
           "carapace:undistorted_GX010080_237_3366.jpg_gamma",
           "Prawn_1"
          ],
          [
           "carapace:undistorted_GX010080_237_3366.jpg_gamma",
           "Prawn_2"
          ],
          [
           "carapace:undistorted_GX010080_237_3366.jpg_gamma",
           "Prawn_3"
          ],
          [
           "carapace:undistorted_GX010080_238_3392.jpg_gamma",
           "Prawn_0"
          ],
          [
           "carapace:undistorted_GX010080_238_3392.jpg_gamma",
           "Prawn_1"
          ],
          [
           "carapace:undistorted_GX010080_238_3392.jpg_gamma",
           "Prawn_2"
          ],
          [
           "carapace:undistorted_GX010080_238_3392.jpg_gamma",
           "Prawn_3"
          ],
          [
           "carapace:undistorted_GX010080_238_3392.jpg_gamma",
           "Prawn_4"
          ],
          [
           "carapace:undistorted_GX010082_8_59.jpg_gamma",
           "Prawn_0"
          ],
          [
           "carapace:undistorted_GX010082_8_59.jpg_gamma",
           "Prawn_1"
          ],
          [
           "carapace:undistorted_GX010082_8_59.jpg_gamma",
           "Prawn_2"
          ],
          [
           "carapace:undistorted_GX010082_8_59.jpg_gamma",
           "Prawn_3"
          ],
          [
           "carapace:undistorted_GX010082_8_59.jpg_gamma",
           "Prawn_4"
          ],
          [
           "carapace:undistorted_GX010082_8_59.jpg_gamma",
           "Prawn_5"
          ],
          [
           "carapace:undistorted_GX010082_53_796.jpg_gamma",
           "Prawn_0"
          ],
          [
           "carapace:undistorted_GX010082_53_796.jpg_gamma",
           "Prawn_1"
          ],
          [
           "carapace:undistorted_GX010082_65_1070.jpg_gamma",
           "Prawn_0"
          ],
          [
           "carapace:undistorted_GX010082_65_1070.jpg_gamma",
           "Prawn_1"
          ],
          [
           "carapace:undistorted_GX010082_65_1070.jpg_gamma",
           "Prawn_2"
          ],
          [
           "carapace:undistorted_GX010082_236_3137.jpg_gamma",
           "Prawn_1"
          ],
          [
           "carapace:undistorted_GX010082_236_3137.jpg_gamma",
           "Prawn_2"
          ],
          [
           "carapace:undistorted_GX010084_30_344.jpg_gamma",
           "Prawn_0"
          ],
          [
           "carapace:undistorted_GX010084_30_344.jpg_gamma",
           "Prawn_2"
          ],
          [
           "carapace:undistorted_GX010084_30_344.jpg_gamma",
           "Prawn_3"
          ],
          [
           "carapace:undistorted_GX010084_30_344.jpg_gamma",
           "Prawn_5"
          ],
          [
           "carapace:undistorted_GX010084_130_1748.jpg_gamma",
           "Prawn_0"
          ],
          [
           "carapace:undistorted_GX010084_130_1748.jpg_gamma",
           "Prawn_1"
          ],
          [
           "carapace:undistorted_GX010084_130_1748.jpg_gamma",
           "Prawn_2"
          ],
          [
           "carapace:undistorted_GX010084_130_1748.jpg_gamma",
           "Prawn_3"
          ],
          [
           "carapace:undistorted_GX010084_167_2291.jpg_gamma",
           "Prawn_0"
          ],
          [
           "carapace:undistorted_GX010084_167_2291.jpg_gamma",
           "Prawn_1"
          ],
          [
           "carapace:undistorted_GX010085_261_3610.jpg_gamma",
           "Prawn_0"
          ],
          [
           "carapace:undistorted_GX010085_261_3610.jpg_gamma",
           "Prawn_1"
          ],
          [
           "carapace:undistorted_GX010085_261_3610.jpg_gamma",
           "Prawn_2"
          ],
          [
           "carapace:undistorted_GX010085_263_3738.jpg_gamma",
           "Prawn_1"
          ],
          [
           "carapace:undistorted_GX010085_263_3738.jpg_gamma",
           "Prawn_3"
          ],
          [
           "carapace:undistorted_GX010088_262_3712.jpg_gamma",
           "Prawn_0"
          ],
          [
           "carapace:undistorted_GX010088_262_3712.jpg_gamma",
           "Prawn_2"
          ],
          [
           "carapace:undistorted_GX010088_262_3712.jpg_gamma",
           "Prawn_3"
          ],
          [
           "carapace:undistorted_GX010088_262_3712.jpg_gamma",
           "Prawn_4"
          ],
          [
           "carapace:undistorted_GX010088_262_3712.jpg_gamma",
           "Prawn_5"
          ],
          [
           "carapace:undistorted_GX010088_327_4364.jpg_gamma",
           "Prawn_0"
          ],
          [
           "carapace:undistorted_GX010088_327_4364.jpg_gamma",
           "Prawn_1"
          ],
          [
           "carapace:undistorted_GX010088_327_4364.jpg_gamma",
           "Prawn_2"
          ],
          [
           "carapace:undistorted_GX010088_327_4364.jpg_gamma",
           "Prawn_3"
          ],
          [
           "carapace:undistorted_GX010089_11_236.jpg_gamma",
           "Prawn_0"
          ],
          [
           "carapace:undistorted_GX010089_11_236.jpg_gamma",
           "Prawn_1"
          ],
          [
           "carapace:undistorted_GX010089_11_236.jpg_gamma",
           "Prawn_2"
          ],
          [
           "carapace:undistorted_GX010090_132_1852.jpg_gamma",
           "Prawn_0"
          ],
          [
           "carapace:undistorted_GX010090_132_1852.jpg_gamma",
           "Prawn_1"
          ],
          [
           "carapace:undistorted_GX010091_5_149.jpg_gamma",
           "Prawn_0"
          ],
          [
           "carapace:undistorted_GX010091_5_149.jpg_gamma",
           "Prawn_1"
          ],
          [
           "carapace:undistorted_GX010091_5_149.jpg_gamma",
           "Prawn_2"
          ],
          [
           "carapace:undistorted_GX010091_5_149.jpg_gamma",
           "Prawn_3"
          ],
          [
           "carapace:undistorted_GX010094_9_129.jpg_gamma",
           "Prawn_0"
          ],
          [
           "carapace:undistorted_GX010094_9_129.jpg_gamma",
           "Prawn_1"
          ],
          [
           "carapace:undistorted_GX010094_24_430.jpg_gamma",
           "Prawn_0"
          ],
          [
           "carapace:undistorted_GX010094_24_430.jpg_gamma",
           "Prawn_1"
          ],
          [
           "carapace:undistorted_GX010094_24_430.jpg_gamma",
           "Prawn_2"
          ],
          [
           "carapace:undistorted_GX010094_93_1258.jpg_gamma",
           "Prawn_0"
          ],
          [
           "carapace:undistorted_GX010094_93_1258.jpg_gamma",
           "Prawn_1"
          ],
          [
           "carapace:undistorted_GX010094_163_2312.jpg_gamma",
           "Prawn_0"
          ],
          [
           "carapace:undistorted_GX010096_107_1571.jpg_gamma",
           "Prawn_0"
          ],
          [
           "carapace:undistorted_GX010097_32_528.jpg_gamma",
           "Prawn_0"
          ],
          [
           "carapace:undistorted_GX010097_32_528.jpg_gamma",
           "Prawn_1"
          ],
          [
           "carapace:undistorted_GX010097_60_1080.jpg_gamma",
           "Prawn_1"
          ],
          [
           "carapace:undistorted_GX010097_105_1651.jpg_gamma",
           "Prawn_0"
          ],
          [
           "carapace:undistorted_GX010097_105_1651.jpg_gamma",
           "Prawn_1"
          ],
          [
           "carapace:undistorted_GX010097_105_1651.jpg_gamma",
           "Prawn_2"
          ],
          [
           "carapace:undistorted_GX010097_105_1651.jpg_gamma",
           "Prawn_3"
          ],
          [
           "carapace:undistorted_GX010097_124_1870.jpg_gamma",
           "Prawn_1"
          ],
          [
           "carapace:undistorted_GX010101_12_173.jpg_gamma",
           "Prawn_0"
          ],
          [
           "carapace:undistorted_GX010102_9_165.jpg_gamma",
           "Prawn_0"
          ],
          [
           "carapace:undistorted_GX010102_9_165.jpg_gamma",
           "Prawn_3"
          ],
          [
           "carapace:undistorted_GX010102_9_165.jpg_gamma",
           "Prawn_4"
          ],
          [
           "carapace:undistorted_GX010102_50_1396.jpg_gamma",
           "Prawn_0"
          ],
          [
           "carapace:undistorted_GX010105_28_816.jpg_gamma",
           "Prawn_0"
          ],
          [
           "carapace:undistorted_GX010105_28_816.jpg_gamma",
           "Prawn_1"
          ],
          [
           "carapace:undistorted_GX010152_36_378.jpg_gamma",
           "Prawn_1"
          ],
          [
           "carapace:undistorted_GX010152_36_378.jpg_gamma",
           "Prawn_2"
          ],
          [
           "carapace:undistorted_GX010155_78_1170.jpg_gamma",
           "Prawn_0"
          ],
          [
           "carapace:undistorted_GX010157_68_883",
           "Prawn_0"
          ],
          [
           "carapace:undistorted_GX010157_160_2259",
           "Prawn_0"
          ],
          [
           "carapace:undistorted_GX010157_160_2259",
           "Prawn_1"
          ],
          [
           "carapace:undistorted_GX010157_174_2582.jpg_gamma",
           "Prawn_0"
          ],
          [
           "carapace:undistorted_GX010157_177_2665.jpg_gamma",
           "Prawn_0"
          ],
          [
           "carapace:undistorted_GX010161_54_676.jpg_gamma.jpg_gamma",
           "Prawn_0"
          ],
          [
           "carapace:undistorted_GX010161_136_2267.jpg_gamma.jpg_gamma",
           "Prawn_0"
          ],
          [
           "carapace:undistorted_GX010162_72_927.jpg_gamma.jpg_gamma",
           "Prawn_0"
          ],
          [
           "carapace:undistorted_GX010169_121_1249",
           "Prawn_0"
          ],
          [
           "carapace:undistorted_GX010173_75_922.jpg_gamma",
           "Prawn_0"
          ],
          [
           "carapace:undistorted_GX010174_62_790.jpg_gamma",
           "Prawn_0"
          ],
          [
           "carapace:undistorted_GX010174_104_1236",
           "Prawn_0"
          ],
          [
           "carapace:undistorted_GX010175_82_852.jpg_gamma",
           "Prawn_0"
          ],
          [
           "carapace:undistorted_GX010175_215_2644.jpg_gamma",
           "Prawn_0"
          ],
          [
           "carapace:undistorted_GX010175_266_3372.jpg_gamma.jpg_gamma",
           "Prawn_0"
          ],
          [
           "carapace:undistorted_GX010177_232_3047",
           "Prawn_0"
          ],
          [
           "carapace:undistorted_GX010178_107_2118",
           "Prawn_0"
          ],
          [
           "carapace:undistorted_GX010178_107_2118",
           "Prawn_1"
          ],
          [
           "carapace:undistorted_GX010178_114_2258",
           "Prawn_0"
          ],
          [
           "carapace:undistorted_GX010178_189_3987.jpg_gamma",
           "Prawn_0"
          ],
          [
           "carapace:undistorted_GX010178_189_3987.jpg_gamma",
           "Prawn_1"
          ],
          [
           "carapace:undistorted_GX010179_88_1697.jpg_gamma",
           "Prawn_0"
          ],
          [
           "carapace:undistorted_GX010179_200_3927.jpg_gamma",
           "Prawn_0"
          ],
          [
           "carapace:undistorted_GX010180_91_1563",
           "Prawn_0"
          ],
          [
           "carapace:undistorted_GX010180_99_1788",
           "Prawn_0"
          ],
          [
           "carapace:undistorted_GX010181_101_1542",
           "Prawn_0"
          ],
          [
           "carapace:undistorted_GX010183_37_685.jpg_gamma",
           "Prawn_0"
          ],
          [
           "carapace:undistorted_GX010183_37_685.jpg_gamma",
           "Prawn_1"
          ],
          [
           "carapace:undistorted_GX010183_37_685.jpg_gamma",
           "Prawn_2"
          ],
          [
           "carapace:undistorted_GX010183_80_1633.jpg_gamma",
           "Prawn_0"
          ],
          [
           "carapace:undistorted_GX010183_80_1633.jpg_gamma",
           "Prawn_1"
          ],
          [
           "carapace:undistorted_GX010183_128_2852.jpg_gamma",
           "Prawn_0"
          ],
          [
           "carapace:undistorted_GX010183_128_2852.jpg_gamma",
           "Prawn_1"
          ]
         ],
         "hovertemplate": "Pond_Type=%{x}<br>min_mae=%{y}<br>Label=%{customdata[0]}<br>PrawnID=%{customdata[1]}<extra></extra>",
         "legendgroup": "",
         "marker": {
          "color": "#636efa"
         },
         "name": "",
         "offsetgroup": "",
         "orientation": "v",
         "points": "all",
         "scalegroup": "True",
         "showlegend": false,
         "type": "violin",
         "x": [
          "circular big male",
          "circular big male",
          "circular big male",
          "circular big male",
          "circular big male",
          "circular big male",
          "circular big male",
          "circular big male",
          "circular big male",
          "circular big male",
          "circular big male",
          "circular big male",
          "circular big male",
          "circular big male",
          "circular big male",
          "circular big male",
          "circular big male",
          "circular big male",
          "circular big male",
          "circular big male",
          "circular big male",
          "circular big male",
          "circular big male",
          "circular big male",
          "circular big male",
          "circular big male",
          "circular big male",
          "circular big male",
          "circular big male",
          "circular big male",
          "circular big male",
          "circular big male",
          "circular big male",
          "circular big male",
          "circular big male",
          "circular big male",
          "circular big male",
          "circular big male",
          "circular big male",
          "circular big male",
          "circular big male",
          "circular big male",
          "circular big male",
          "circular big male",
          "circular big male",
          "circular big male",
          "circular big male",
          "circular big male",
          "circular big male",
          "circular big male",
          "circular big male",
          "circular big male",
          "circular big male",
          "circular big male",
          "circular big male",
          "circular big male",
          "circular big male",
          "circular big male",
          "circular big male",
          "circular big male",
          "circular big male",
          "circular big male",
          "circular big male",
          "circular big male",
          "circular big male",
          "circular big male",
          "circular big male",
          "circular big male",
          "circular big male",
          "circular big male",
          "circular big male",
          "circular big male",
          "circular big male",
          "circular big male",
          "circular big male",
          "circular big male",
          "circular big male",
          "circular big male",
          "circular big male",
          "circular small male",
          "circular small male",
          "circular small male",
          "circular big male",
          "circular big male",
          "circular small male",
          "circular small male",
          "circular small male",
          "circular small male",
          "circular big male",
          "circular big male",
          "circular big male",
          "circular big male",
          "circular big male",
          "circular big male",
          "circular big male",
          "circular big male",
          "circular big male",
          "circular big male",
          "circular big male",
          "circular big male",
          "circular big male",
          "circular big male",
          "circular big male",
          "circular big male",
          "circular big male",
          "circular big male",
          "circular small male",
          "circular small male",
          "circular small male",
          "circular small male",
          "circular small male",
          "circular small male",
          "square-femal",
          "square-femal",
          "square-femal",
          "square-femal",
          "square-femal",
          "square-femal",
          "square-femal",
          "square-femal",
          "square-femal",
          "square-femal",
          "square-femal",
          "square-femal",
          "square-femal",
          "square-femal",
          "square-femal",
          "square-femal",
          "square-femal",
          "square-femal",
          "square-femal",
          "square-femal",
          "square-femal",
          "square-femal",
          "square-femal",
          "square-femal",
          "square-femal",
          "square-femal",
          "square-femal",
          "square-femal",
          "square-femal",
          "square-femal",
          "square-femal",
          "square-femal",
          "square-femal",
          "square-femal",
          "square-femal",
          "square-femal"
         ],
         "x0": " ",
         "xaxis": "x",
         "y": [
          2.446783945290953,
          0.08527667871346978,
          2.409066622134745,
          1.106272118027928,
          0.7745965712244853,
          1.036074722253456,
          1.182852712133013,
          0.4999367780978687,
          0.7295400167094854,
          0.3904718285177751,
          2.079074537785718,
          0.2663755538968076,
          0.7497644262570802,
          7.894598793789338,
          0.4686055705688617,
          6.272470593766243,
          1.713905128316036,
          2.254175945541753,
          0.1774188631301215,
          1.440114446198756,
          2.276551893876828,
          3.247214158355437,
          2.545007455003496,
          1.807287008142353,
          10.48665089817167,
          0.8914440644480592,
          3.825868927797988,
          0.07360161324392323,
          4.344568356138659,
          2.121701024899487,
          1.784009800019017,
          0.316225551151291,
          1.406026260836867,
          1.554575279131946,
          3.561113378212511,
          1.18695234584716,
          1.871578857620513,
          4.939763109373636,
          0.2863352402662542,
          3.866873391253634,
          2.713693310359773,
          0.737086286524729,
          4.442403571701792,
          1.858919658312658,
          3.976656363958377,
          3.330218100608072,
          0.3365964282982077,
          0.254321721504116,
          2.416251847890095,
          1.340871427911424,
          0.7171940623492397,
          0.3563841852795804,
          0.3937767603357472,
          2.236835663585005,
          3.374488426799132,
          4.320389823687588,
          0.3793045219410054,
          5.328216997800958,
          0.7146728969038243,
          5.735606792248678,
          3.4516196438883,
          0.373338616293168,
          8.755541734184995,
          9.928169301452087,
          4.624708089312314,
          0.4283659688959887,
          1.731365968895979,
          2.198634035392665,
          3.684153677350189,
          10.3392915406539,
          7.520115420520227,
          6.805719311515254,
          9.961776746553202,
          7.627018711318136,
          10.80601871131814,
          1.06246318723289,
          2.504610930260938,
          5.424791089564163,
          6.533013095828281,
          3.48025103057158,
          2.555609073302943,
          2.140123377474936,
          2.222331214547445,
          3.844473683985775,
          1.515748490549299,
          2.335467345208166,
          2.877796953342035,
          7.495801023264761,
          0.3191012456992901,
          2.07754197281777,
          0.1628779994220722,
          0.08293382729555887,
          2.541969062256751,
          3.011296482210746,
          0.4082964822107478,
          1.116618704619462,
          4.067322537407307,
          6.754856911787925,
          1.058352753270945,
          1.262658291284325,
          2.439259363422799,
          2.519854986460146,
          1.420684623549768,
          2.319934984685311,
          4.019517217345406,
          1.448819852393719,
          2.162819503608066,
          0.5011847937175986,
          0.1330309496479103,
          2.223461766184876,
          3.718852810629347,
          0.6165774186201531,
          10.69512358259606,
          13.09762495059069,
          5.724709969904374,
          11.4718187088336,
          7.174008052216262,
          21.1056994473533,
          10.68525129348023,
          9.10406603835904,
          7.254899085462817,
          15.89892154059491,
          1.074774024908471,
          6.969479499039583,
          15.0674962682523,
          6.55190173701984,
          0.2282008182409392,
          1.337398410920205,
          13.22538301287592,
          0.4914845167065955,
          0.195307801269486,
          4.505424698399093,
          0.8719017070338637,
          1.126543512544643,
          6.385744350643524,
          3.111059858437422,
          0.480087262189052,
          0.5842230678409663,
          4.500723856087035,
          1.60189304740949,
          7.36333007703346,
          12.38788737492871,
          1.782069172919208,
          15.42429233952702,
          6.517947550765665,
          3.702947550765668,
          7.705687371263767,
          1.951687371263766
         ],
         "y0": " ",
         "yaxis": "y"
        }
       ],
       "layout": {
        "legend": {
         "tracegroupgap": 0
        },
        "template": {
         "data": {
          "bar": [
           {
            "error_x": {
             "color": "#2a3f5f"
            },
            "error_y": {
             "color": "#2a3f5f"
            },
            "marker": {
             "line": {
              "color": "#E5ECF6",
              "width": 0.5
             },
             "pattern": {
              "fillmode": "overlay",
              "size": 10,
              "solidity": 0.2
             }
            },
            "type": "bar"
           }
          ],
          "barpolar": [
           {
            "marker": {
             "line": {
              "color": "#E5ECF6",
              "width": 0.5
             },
             "pattern": {
              "fillmode": "overlay",
              "size": 10,
              "solidity": 0.2
             }
            },
            "type": "barpolar"
           }
          ],
          "carpet": [
           {
            "aaxis": {
             "endlinecolor": "#2a3f5f",
             "gridcolor": "white",
             "linecolor": "white",
             "minorgridcolor": "white",
             "startlinecolor": "#2a3f5f"
            },
            "baxis": {
             "endlinecolor": "#2a3f5f",
             "gridcolor": "white",
             "linecolor": "white",
             "minorgridcolor": "white",
             "startlinecolor": "#2a3f5f"
            },
            "type": "carpet"
           }
          ],
          "choropleth": [
           {
            "colorbar": {
             "outlinewidth": 0,
             "ticks": ""
            },
            "type": "choropleth"
           }
          ],
          "contour": [
           {
            "colorbar": {
             "outlinewidth": 0,
             "ticks": ""
            },
            "colorscale": [
             [
              0,
              "#0d0887"
             ],
             [
              0.1111111111111111,
              "#46039f"
             ],
             [
              0.2222222222222222,
              "#7201a8"
             ],
             [
              0.3333333333333333,
              "#9c179e"
             ],
             [
              0.4444444444444444,
              "#bd3786"
             ],
             [
              0.5555555555555556,
              "#d8576b"
             ],
             [
              0.6666666666666666,
              "#ed7953"
             ],
             [
              0.7777777777777778,
              "#fb9f3a"
             ],
             [
              0.8888888888888888,
              "#fdca26"
             ],
             [
              1,
              "#f0f921"
             ]
            ],
            "type": "contour"
           }
          ],
          "contourcarpet": [
           {
            "colorbar": {
             "outlinewidth": 0,
             "ticks": ""
            },
            "type": "contourcarpet"
           }
          ],
          "heatmap": [
           {
            "colorbar": {
             "outlinewidth": 0,
             "ticks": ""
            },
            "colorscale": [
             [
              0,
              "#0d0887"
             ],
             [
              0.1111111111111111,
              "#46039f"
             ],
             [
              0.2222222222222222,
              "#7201a8"
             ],
             [
              0.3333333333333333,
              "#9c179e"
             ],
             [
              0.4444444444444444,
              "#bd3786"
             ],
             [
              0.5555555555555556,
              "#d8576b"
             ],
             [
              0.6666666666666666,
              "#ed7953"
             ],
             [
              0.7777777777777778,
              "#fb9f3a"
             ],
             [
              0.8888888888888888,
              "#fdca26"
             ],
             [
              1,
              "#f0f921"
             ]
            ],
            "type": "heatmap"
           }
          ],
          "heatmapgl": [
           {
            "colorbar": {
             "outlinewidth": 0,
             "ticks": ""
            },
            "colorscale": [
             [
              0,
              "#0d0887"
             ],
             [
              0.1111111111111111,
              "#46039f"
             ],
             [
              0.2222222222222222,
              "#7201a8"
             ],
             [
              0.3333333333333333,
              "#9c179e"
             ],
             [
              0.4444444444444444,
              "#bd3786"
             ],
             [
              0.5555555555555556,
              "#d8576b"
             ],
             [
              0.6666666666666666,
              "#ed7953"
             ],
             [
              0.7777777777777778,
              "#fb9f3a"
             ],
             [
              0.8888888888888888,
              "#fdca26"
             ],
             [
              1,
              "#f0f921"
             ]
            ],
            "type": "heatmapgl"
           }
          ],
          "histogram": [
           {
            "marker": {
             "pattern": {
              "fillmode": "overlay",
              "size": 10,
              "solidity": 0.2
             }
            },
            "type": "histogram"
           }
          ],
          "histogram2d": [
           {
            "colorbar": {
             "outlinewidth": 0,
             "ticks": ""
            },
            "colorscale": [
             [
              0,
              "#0d0887"
             ],
             [
              0.1111111111111111,
              "#46039f"
             ],
             [
              0.2222222222222222,
              "#7201a8"
             ],
             [
              0.3333333333333333,
              "#9c179e"
             ],
             [
              0.4444444444444444,
              "#bd3786"
             ],
             [
              0.5555555555555556,
              "#d8576b"
             ],
             [
              0.6666666666666666,
              "#ed7953"
             ],
             [
              0.7777777777777778,
              "#fb9f3a"
             ],
             [
              0.8888888888888888,
              "#fdca26"
             ],
             [
              1,
              "#f0f921"
             ]
            ],
            "type": "histogram2d"
           }
          ],
          "histogram2dcontour": [
           {
            "colorbar": {
             "outlinewidth": 0,
             "ticks": ""
            },
            "colorscale": [
             [
              0,
              "#0d0887"
             ],
             [
              0.1111111111111111,
              "#46039f"
             ],
             [
              0.2222222222222222,
              "#7201a8"
             ],
             [
              0.3333333333333333,
              "#9c179e"
             ],
             [
              0.4444444444444444,
              "#bd3786"
             ],
             [
              0.5555555555555556,
              "#d8576b"
             ],
             [
              0.6666666666666666,
              "#ed7953"
             ],
             [
              0.7777777777777778,
              "#fb9f3a"
             ],
             [
              0.8888888888888888,
              "#fdca26"
             ],
             [
              1,
              "#f0f921"
             ]
            ],
            "type": "histogram2dcontour"
           }
          ],
          "mesh3d": [
           {
            "colorbar": {
             "outlinewidth": 0,
             "ticks": ""
            },
            "type": "mesh3d"
           }
          ],
          "parcoords": [
           {
            "line": {
             "colorbar": {
              "outlinewidth": 0,
              "ticks": ""
             }
            },
            "type": "parcoords"
           }
          ],
          "pie": [
           {
            "automargin": true,
            "type": "pie"
           }
          ],
          "scatter": [
           {
            "fillpattern": {
             "fillmode": "overlay",
             "size": 10,
             "solidity": 0.2
            },
            "type": "scatter"
           }
          ],
          "scatter3d": [
           {
            "line": {
             "colorbar": {
              "outlinewidth": 0,
              "ticks": ""
             }
            },
            "marker": {
             "colorbar": {
              "outlinewidth": 0,
              "ticks": ""
             }
            },
            "type": "scatter3d"
           }
          ],
          "scattercarpet": [
           {
            "marker": {
             "colorbar": {
              "outlinewidth": 0,
              "ticks": ""
             }
            },
            "type": "scattercarpet"
           }
          ],
          "scattergeo": [
           {
            "marker": {
             "colorbar": {
              "outlinewidth": 0,
              "ticks": ""
             }
            },
            "type": "scattergeo"
           }
          ],
          "scattergl": [
           {
            "marker": {
             "colorbar": {
              "outlinewidth": 0,
              "ticks": ""
             }
            },
            "type": "scattergl"
           }
          ],
          "scattermapbox": [
           {
            "marker": {
             "colorbar": {
              "outlinewidth": 0,
              "ticks": ""
             }
            },
            "type": "scattermapbox"
           }
          ],
          "scatterpolar": [
           {
            "marker": {
             "colorbar": {
              "outlinewidth": 0,
              "ticks": ""
             }
            },
            "type": "scatterpolar"
           }
          ],
          "scatterpolargl": [
           {
            "marker": {
             "colorbar": {
              "outlinewidth": 0,
              "ticks": ""
             }
            },
            "type": "scatterpolargl"
           }
          ],
          "scatterternary": [
           {
            "marker": {
             "colorbar": {
              "outlinewidth": 0,
              "ticks": ""
             }
            },
            "type": "scatterternary"
           }
          ],
          "surface": [
           {
            "colorbar": {
             "outlinewidth": 0,
             "ticks": ""
            },
            "colorscale": [
             [
              0,
              "#0d0887"
             ],
             [
              0.1111111111111111,
              "#46039f"
             ],
             [
              0.2222222222222222,
              "#7201a8"
             ],
             [
              0.3333333333333333,
              "#9c179e"
             ],
             [
              0.4444444444444444,
              "#bd3786"
             ],
             [
              0.5555555555555556,
              "#d8576b"
             ],
             [
              0.6666666666666666,
              "#ed7953"
             ],
             [
              0.7777777777777778,
              "#fb9f3a"
             ],
             [
              0.8888888888888888,
              "#fdca26"
             ],
             [
              1,
              "#f0f921"
             ]
            ],
            "type": "surface"
           }
          ],
          "table": [
           {
            "cells": {
             "fill": {
              "color": "#EBF0F8"
             },
             "line": {
              "color": "white"
             }
            },
            "header": {
             "fill": {
              "color": "#C8D4E3"
             },
             "line": {
              "color": "white"
             }
            },
            "type": "table"
           }
          ]
         },
         "layout": {
          "annotationdefaults": {
           "arrowcolor": "#2a3f5f",
           "arrowhead": 0,
           "arrowwidth": 1
          },
          "autotypenumbers": "strict",
          "coloraxis": {
           "colorbar": {
            "outlinewidth": 0,
            "ticks": ""
           }
          },
          "colorscale": {
           "diverging": [
            [
             0,
             "#8e0152"
            ],
            [
             0.1,
             "#c51b7d"
            ],
            [
             0.2,
             "#de77ae"
            ],
            [
             0.3,
             "#f1b6da"
            ],
            [
             0.4,
             "#fde0ef"
            ],
            [
             0.5,
             "#f7f7f7"
            ],
            [
             0.6,
             "#e6f5d0"
            ],
            [
             0.7,
             "#b8e186"
            ],
            [
             0.8,
             "#7fbc41"
            ],
            [
             0.9,
             "#4d9221"
            ],
            [
             1,
             "#276419"
            ]
           ],
           "sequential": [
            [
             0,
             "#0d0887"
            ],
            [
             0.1111111111111111,
             "#46039f"
            ],
            [
             0.2222222222222222,
             "#7201a8"
            ],
            [
             0.3333333333333333,
             "#9c179e"
            ],
            [
             0.4444444444444444,
             "#bd3786"
            ],
            [
             0.5555555555555556,
             "#d8576b"
            ],
            [
             0.6666666666666666,
             "#ed7953"
            ],
            [
             0.7777777777777778,
             "#fb9f3a"
            ],
            [
             0.8888888888888888,
             "#fdca26"
            ],
            [
             1,
             "#f0f921"
            ]
           ],
           "sequentialminus": [
            [
             0,
             "#0d0887"
            ],
            [
             0.1111111111111111,
             "#46039f"
            ],
            [
             0.2222222222222222,
             "#7201a8"
            ],
            [
             0.3333333333333333,
             "#9c179e"
            ],
            [
             0.4444444444444444,
             "#bd3786"
            ],
            [
             0.5555555555555556,
             "#d8576b"
            ],
            [
             0.6666666666666666,
             "#ed7953"
            ],
            [
             0.7777777777777778,
             "#fb9f3a"
            ],
            [
             0.8888888888888888,
             "#fdca26"
            ],
            [
             1,
             "#f0f921"
            ]
           ]
          },
          "colorway": [
           "#636efa",
           "#EF553B",
           "#00cc96",
           "#ab63fa",
           "#FFA15A",
           "#19d3f3",
           "#FF6692",
           "#B6E880",
           "#FF97FF",
           "#FECB52"
          ],
          "font": {
           "color": "#2a3f5f"
          },
          "geo": {
           "bgcolor": "white",
           "lakecolor": "white",
           "landcolor": "#E5ECF6",
           "showlakes": true,
           "showland": true,
           "subunitcolor": "white"
          },
          "hoverlabel": {
           "align": "left"
          },
          "hovermode": "closest",
          "mapbox": {
           "style": "light"
          },
          "paper_bgcolor": "white",
          "plot_bgcolor": "#E5ECF6",
          "polar": {
           "angularaxis": {
            "gridcolor": "white",
            "linecolor": "white",
            "ticks": ""
           },
           "bgcolor": "#E5ECF6",
           "radialaxis": {
            "gridcolor": "white",
            "linecolor": "white",
            "ticks": ""
           }
          },
          "scene": {
           "xaxis": {
            "backgroundcolor": "#E5ECF6",
            "gridcolor": "white",
            "gridwidth": 2,
            "linecolor": "white",
            "showbackground": true,
            "ticks": "",
            "zerolinecolor": "white"
           },
           "yaxis": {
            "backgroundcolor": "#E5ECF6",
            "gridcolor": "white",
            "gridwidth": 2,
            "linecolor": "white",
            "showbackground": true,
            "ticks": "",
            "zerolinecolor": "white"
           },
           "zaxis": {
            "backgroundcolor": "#E5ECF6",
            "gridcolor": "white",
            "gridwidth": 2,
            "linecolor": "white",
            "showbackground": true,
            "ticks": "",
            "zerolinecolor": "white"
           }
          },
          "shapedefaults": {
           "line": {
            "color": "#2a3f5f"
           }
          },
          "ternary": {
           "aaxis": {
            "gridcolor": "white",
            "linecolor": "white",
            "ticks": ""
           },
           "baxis": {
            "gridcolor": "white",
            "linecolor": "white",
            "ticks": ""
           },
           "bgcolor": "#E5ECF6",
           "caxis": {
            "gridcolor": "white",
            "linecolor": "white",
            "ticks": ""
           }
          },
          "title": {
           "x": 0.05
          },
          "xaxis": {
           "automargin": true,
           "gridcolor": "white",
           "linecolor": "white",
           "ticks": "",
           "title": {
            "standoff": 15
           },
           "zerolinecolor": "white",
           "zerolinewidth": 2
          },
          "yaxis": {
           "automargin": true,
           "gridcolor": "white",
           "linecolor": "white",
           "ticks": "",
           "title": {
            "standoff": 15
           },
           "zerolinecolor": "white",
           "zerolinewidth": 2
          }
         }
        },
        "title": {
         "text": "Violin plot of min_mae"
        },
        "violinmode": "group",
        "xaxis": {
         "anchor": "y",
         "domain": [
          0,
          1
         ],
         "title": {
          "text": "Pond_Type"
         }
        },
        "yaxis": {
         "anchor": "x",
         "domain": [
          0,
          1
         ],
         "title": {
          "text": "min_mae"
         }
        }
       }
      }
     },
     "metadata": {},
     "output_type": "display_data"
    },
    {
     "data": {
      "application/vnd.plotly.v1+json": {
       "config": {
        "plotlyServerURL": "https://plot.ly"
       },
       "data": [
        {
         "alignmentgroup": "True",
         "box": {
          "visible": true
         },
         "customdata": [
          [
           "carapace:undistorted_GX010067_33_625.jpg_gamma",
           "Prawn_0"
          ],
          [
           "carapace:undistorted_GX010067_33_625.jpg_gamma",
           "Prawn_1"
          ],
          [
           "carapace:undistorted_GX010067_33_625.jpg_gamma",
           "Prawn_2"
          ],
          [
           "carapace:undistorted_GX010067_33_625.jpg_gamma",
           "Prawn_3"
          ],
          [
           "carapace:undistorted_GX010068_26_666.jpg_gamma",
           "Prawn_0"
          ],
          [
           "carapace:undistorted_GX010068_26_666.jpg_gamma",
           "Prawn_1"
          ],
          [
           "carapace:undistorted_GX010068_26_666.jpg_gamma",
           "Prawn_2"
          ],
          [
           "carapace:undistorted_GX010068_27_795.jpg_gamma",
           "Prawn_2"
          ],
          [
           "carapace:undistorted_GX010069_19_191.jpg_gamma",
           "Prawn_0"
          ],
          [
           "carapace:undistorted_GX010069_19_191.jpg_gamma",
           "Prawn_1"
          ],
          [
           "carapace:undistorted_GX010069_19_191.jpg_gamma",
           "Prawn_2"
          ],
          [
           "carapace:undistorted_GX010069_19_191.jpg_gamma",
           "Prawn_3"
          ],
          [
           "carapace:undistorted_GX010069_53_796.jpg_gamma",
           "Prawn_1"
          ],
          [
           "carapace:undistorted_GX010071_22_444.jpg_gamma",
           "Prawn_0"
          ],
          [
           "carapace:undistorted_GX010073_42_695.jpg_gamma",
           "Prawn_0"
          ],
          [
           "carapace:undistorted_GX010073_42_695.jpg_gamma",
           "Prawn_1"
          ],
          [
           "carapace:undistorted_GX010073_42_695.jpg_gamma",
           "Prawn_2"
          ],
          [
           "carapace:undistorted_GX010073_55_1014.jpg_gamma",
           "Prawn_0"
          ],
          [
           "carapace:undistorted_GX010073_55_1014.jpg_gamma",
           "Prawn_3"
          ],
          [
           "carapace:undistorted_GX010077_14_237.jpg_gamma",
           "Prawn_0"
          ],
          [
           "carapace:undistorted_GX010077_14_237.jpg_gamma",
           "Prawn_1"
          ],
          [
           "carapace:undistorted_GX010077_14_237.jpg_gamma",
           "Prawn_2"
          ],
          [
           "carapace:undistorted_GX010080_157_2283.jpg_gamma",
           "Prawn_0"
          ],
          [
           "carapace:undistorted_GX010080_157_2283.jpg_gamma",
           "Prawn_1"
          ],
          [
           "carapace:undistorted_GX010080_157_2283.jpg_gamma",
           "Prawn_2"
          ],
          [
           "carapace:undistorted_GX010080_157_2283.jpg_gamma",
           "Prawn_3"
          ],
          [
           "carapace:undistorted_GX010080_157_2283.jpg_gamma",
           "Prawn_4"
          ],
          [
           "carapace:undistorted_GX010080_193_2640.jpg_gamma",
           "Prawn_0"
          ],
          [
           "carapace:undistorted_GX010080_193_2640.jpg_gamma",
           "Prawn_1"
          ],
          [
           "carapace:undistorted_GX010080_193_2640.jpg_gamma",
           "Prawn_4"
          ],
          [
           "carapace:undistorted_GX010080_212_2954.jpg_gamma",
           "Prawn_0"
          ],
          [
           "carapace:undistorted_GX010080_212_2954.jpg_gamma",
           "Prawn_1"
          ],
          [
           "carapace:undistorted_GX010080_212_2954.jpg_gamma",
           "Prawn_2"
          ],
          [
           "carapace:undistorted_GX010080_237_3366.jpg_gamma",
           "Prawn_0"
          ],
          [
           "carapace:undistorted_GX010080_237_3366.jpg_gamma",
           "Prawn_1"
          ],
          [
           "carapace:undistorted_GX010080_237_3366.jpg_gamma",
           "Prawn_2"
          ],
          [
           "carapace:undistorted_GX010080_237_3366.jpg_gamma",
           "Prawn_3"
          ],
          [
           "carapace:undistorted_GX010080_238_3392.jpg_gamma",
           "Prawn_0"
          ],
          [
           "carapace:undistorted_GX010080_238_3392.jpg_gamma",
           "Prawn_1"
          ],
          [
           "carapace:undistorted_GX010080_238_3392.jpg_gamma",
           "Prawn_2"
          ],
          [
           "carapace:undistorted_GX010080_238_3392.jpg_gamma",
           "Prawn_3"
          ],
          [
           "carapace:undistorted_GX010080_238_3392.jpg_gamma",
           "Prawn_4"
          ],
          [
           "carapace:undistorted_GX010082_8_59.jpg_gamma",
           "Prawn_0"
          ],
          [
           "carapace:undistorted_GX010082_8_59.jpg_gamma",
           "Prawn_1"
          ],
          [
           "carapace:undistorted_GX010082_8_59.jpg_gamma",
           "Prawn_2"
          ],
          [
           "carapace:undistorted_GX010082_8_59.jpg_gamma",
           "Prawn_3"
          ],
          [
           "carapace:undistorted_GX010082_8_59.jpg_gamma",
           "Prawn_4"
          ],
          [
           "carapace:undistorted_GX010082_8_59.jpg_gamma",
           "Prawn_5"
          ],
          [
           "carapace:undistorted_GX010082_53_796.jpg_gamma",
           "Prawn_0"
          ],
          [
           "carapace:undistorted_GX010082_53_796.jpg_gamma",
           "Prawn_1"
          ],
          [
           "carapace:undistorted_GX010082_65_1070.jpg_gamma",
           "Prawn_0"
          ],
          [
           "carapace:undistorted_GX010082_65_1070.jpg_gamma",
           "Prawn_1"
          ],
          [
           "carapace:undistorted_GX010082_65_1070.jpg_gamma",
           "Prawn_2"
          ],
          [
           "carapace:undistorted_GX010082_236_3137.jpg_gamma",
           "Prawn_1"
          ],
          [
           "carapace:undistorted_GX010082_236_3137.jpg_gamma",
           "Prawn_2"
          ],
          [
           "carapace:undistorted_GX010084_30_344.jpg_gamma",
           "Prawn_0"
          ],
          [
           "carapace:undistorted_GX010084_30_344.jpg_gamma",
           "Prawn_2"
          ],
          [
           "carapace:undistorted_GX010084_30_344.jpg_gamma",
           "Prawn_3"
          ],
          [
           "carapace:undistorted_GX010084_30_344.jpg_gamma",
           "Prawn_5"
          ],
          [
           "carapace:undistorted_GX010084_130_1748.jpg_gamma",
           "Prawn_0"
          ],
          [
           "carapace:undistorted_GX010084_130_1748.jpg_gamma",
           "Prawn_1"
          ],
          [
           "carapace:undistorted_GX010084_130_1748.jpg_gamma",
           "Prawn_2"
          ],
          [
           "carapace:undistorted_GX010084_130_1748.jpg_gamma",
           "Prawn_3"
          ],
          [
           "carapace:undistorted_GX010084_167_2291.jpg_gamma",
           "Prawn_0"
          ],
          [
           "carapace:undistorted_GX010084_167_2291.jpg_gamma",
           "Prawn_1"
          ],
          [
           "carapace:undistorted_GX010085_261_3610.jpg_gamma",
           "Prawn_0"
          ],
          [
           "carapace:undistorted_GX010085_261_3610.jpg_gamma",
           "Prawn_1"
          ],
          [
           "carapace:undistorted_GX010085_261_3610.jpg_gamma",
           "Prawn_2"
          ],
          [
           "carapace:undistorted_GX010085_263_3738.jpg_gamma",
           "Prawn_1"
          ],
          [
           "carapace:undistorted_GX010085_263_3738.jpg_gamma",
           "Prawn_3"
          ],
          [
           "carapace:undistorted_GX010088_262_3712.jpg_gamma",
           "Prawn_0"
          ],
          [
           "carapace:undistorted_GX010088_262_3712.jpg_gamma",
           "Prawn_2"
          ],
          [
           "carapace:undistorted_GX010088_262_3712.jpg_gamma",
           "Prawn_3"
          ],
          [
           "carapace:undistorted_GX010088_262_3712.jpg_gamma",
           "Prawn_4"
          ],
          [
           "carapace:undistorted_GX010088_262_3712.jpg_gamma",
           "Prawn_5"
          ],
          [
           "carapace:undistorted_GX010088_327_4364.jpg_gamma",
           "Prawn_0"
          ],
          [
           "carapace:undistorted_GX010088_327_4364.jpg_gamma",
           "Prawn_1"
          ],
          [
           "carapace:undistorted_GX010088_327_4364.jpg_gamma",
           "Prawn_2"
          ],
          [
           "carapace:undistorted_GX010088_327_4364.jpg_gamma",
           "Prawn_3"
          ],
          [
           "carapace:undistorted_GX010089_11_236.jpg_gamma",
           "Prawn_0"
          ],
          [
           "carapace:undistorted_GX010089_11_236.jpg_gamma",
           "Prawn_1"
          ],
          [
           "carapace:undistorted_GX010089_11_236.jpg_gamma",
           "Prawn_2"
          ],
          [
           "carapace:undistorted_GX010090_132_1852.jpg_gamma",
           "Prawn_0"
          ],
          [
           "carapace:undistorted_GX010090_132_1852.jpg_gamma",
           "Prawn_1"
          ],
          [
           "carapace:undistorted_GX010091_5_149.jpg_gamma",
           "Prawn_0"
          ],
          [
           "carapace:undistorted_GX010091_5_149.jpg_gamma",
           "Prawn_1"
          ],
          [
           "carapace:undistorted_GX010091_5_149.jpg_gamma",
           "Prawn_2"
          ],
          [
           "carapace:undistorted_GX010091_5_149.jpg_gamma",
           "Prawn_3"
          ],
          [
           "carapace:undistorted_GX010094_9_129.jpg_gamma",
           "Prawn_0"
          ],
          [
           "carapace:undistorted_GX010094_9_129.jpg_gamma",
           "Prawn_1"
          ],
          [
           "carapace:undistorted_GX010094_24_430.jpg_gamma",
           "Prawn_0"
          ],
          [
           "carapace:undistorted_GX010094_24_430.jpg_gamma",
           "Prawn_1"
          ],
          [
           "carapace:undistorted_GX010094_24_430.jpg_gamma",
           "Prawn_2"
          ],
          [
           "carapace:undistorted_GX010094_93_1258.jpg_gamma",
           "Prawn_0"
          ],
          [
           "carapace:undistorted_GX010094_93_1258.jpg_gamma",
           "Prawn_1"
          ],
          [
           "carapace:undistorted_GX010094_163_2312.jpg_gamma",
           "Prawn_0"
          ],
          [
           "carapace:undistorted_GX010096_107_1571.jpg_gamma",
           "Prawn_0"
          ],
          [
           "carapace:undistorted_GX010097_32_528.jpg_gamma",
           "Prawn_0"
          ],
          [
           "carapace:undistorted_GX010097_32_528.jpg_gamma",
           "Prawn_1"
          ],
          [
           "carapace:undistorted_GX010097_60_1080.jpg_gamma",
           "Prawn_1"
          ],
          [
           "carapace:undistorted_GX010097_105_1651.jpg_gamma",
           "Prawn_0"
          ],
          [
           "carapace:undistorted_GX010097_105_1651.jpg_gamma",
           "Prawn_1"
          ],
          [
           "carapace:undistorted_GX010097_105_1651.jpg_gamma",
           "Prawn_2"
          ],
          [
           "carapace:undistorted_GX010097_105_1651.jpg_gamma",
           "Prawn_3"
          ],
          [
           "carapace:undistorted_GX010097_124_1870.jpg_gamma",
           "Prawn_1"
          ],
          [
           "carapace:undistorted_GX010101_12_173.jpg_gamma",
           "Prawn_0"
          ],
          [
           "carapace:undistorted_GX010102_9_165.jpg_gamma",
           "Prawn_0"
          ],
          [
           "carapace:undistorted_GX010102_9_165.jpg_gamma",
           "Prawn_3"
          ],
          [
           "carapace:undistorted_GX010102_9_165.jpg_gamma",
           "Prawn_4"
          ],
          [
           "carapace:undistorted_GX010102_50_1396.jpg_gamma",
           "Prawn_0"
          ],
          [
           "carapace:undistorted_GX010105_28_816.jpg_gamma",
           "Prawn_0"
          ],
          [
           "carapace:undistorted_GX010105_28_816.jpg_gamma",
           "Prawn_1"
          ],
          [
           "carapace:undistorted_GX010152_36_378.jpg_gamma",
           "Prawn_1"
          ],
          [
           "carapace:undistorted_GX010152_36_378.jpg_gamma",
           "Prawn_2"
          ],
          [
           "carapace:undistorted_GX010155_78_1170.jpg_gamma",
           "Prawn_0"
          ],
          [
           "carapace:undistorted_GX010157_68_883",
           "Prawn_0"
          ],
          [
           "carapace:undistorted_GX010157_160_2259",
           "Prawn_0"
          ],
          [
           "carapace:undistorted_GX010157_160_2259",
           "Prawn_1"
          ],
          [
           "carapace:undistorted_GX010157_174_2582.jpg_gamma",
           "Prawn_0"
          ],
          [
           "carapace:undistorted_GX010157_177_2665.jpg_gamma",
           "Prawn_0"
          ],
          [
           "carapace:undistorted_GX010161_54_676.jpg_gamma.jpg_gamma",
           "Prawn_0"
          ],
          [
           "carapace:undistorted_GX010161_136_2267.jpg_gamma.jpg_gamma",
           "Prawn_0"
          ],
          [
           "carapace:undistorted_GX010162_72_927.jpg_gamma.jpg_gamma",
           "Prawn_0"
          ],
          [
           "carapace:undistorted_GX010169_121_1249",
           "Prawn_0"
          ],
          [
           "carapace:undistorted_GX010173_75_922.jpg_gamma",
           "Prawn_0"
          ],
          [
           "carapace:undistorted_GX010174_62_790.jpg_gamma",
           "Prawn_0"
          ],
          [
           "carapace:undistorted_GX010174_104_1236",
           "Prawn_0"
          ],
          [
           "carapace:undistorted_GX010175_82_852.jpg_gamma",
           "Prawn_0"
          ],
          [
           "carapace:undistorted_GX010175_215_2644.jpg_gamma",
           "Prawn_0"
          ],
          [
           "carapace:undistorted_GX010175_266_3372.jpg_gamma.jpg_gamma",
           "Prawn_0"
          ],
          [
           "carapace:undistorted_GX010177_232_3047",
           "Prawn_0"
          ],
          [
           "carapace:undistorted_GX010178_107_2118",
           "Prawn_0"
          ],
          [
           "carapace:undistorted_GX010178_107_2118",
           "Prawn_1"
          ],
          [
           "carapace:undistorted_GX010178_114_2258",
           "Prawn_0"
          ],
          [
           "carapace:undistorted_GX010178_189_3987.jpg_gamma",
           "Prawn_0"
          ],
          [
           "carapace:undistorted_GX010178_189_3987.jpg_gamma",
           "Prawn_1"
          ],
          [
           "carapace:undistorted_GX010179_88_1697.jpg_gamma",
           "Prawn_0"
          ],
          [
           "carapace:undistorted_GX010179_200_3927.jpg_gamma",
           "Prawn_0"
          ],
          [
           "carapace:undistorted_GX010180_91_1563",
           "Prawn_0"
          ],
          [
           "carapace:undistorted_GX010180_99_1788",
           "Prawn_0"
          ],
          [
           "carapace:undistorted_GX010181_101_1542",
           "Prawn_0"
          ],
          [
           "carapace:undistorted_GX010183_37_685.jpg_gamma",
           "Prawn_0"
          ],
          [
           "carapace:undistorted_GX010183_37_685.jpg_gamma",
           "Prawn_1"
          ],
          [
           "carapace:undistorted_GX010183_37_685.jpg_gamma",
           "Prawn_2"
          ],
          [
           "carapace:undistorted_GX010183_80_1633.jpg_gamma",
           "Prawn_0"
          ],
          [
           "carapace:undistorted_GX010183_80_1633.jpg_gamma",
           "Prawn_1"
          ],
          [
           "carapace:undistorted_GX010183_128_2852.jpg_gamma",
           "Prawn_0"
          ],
          [
           "carapace:undistorted_GX010183_128_2852.jpg_gamma",
           "Prawn_1"
          ]
         ],
         "hovertemplate": "Pond_Type=%{x}<br>max_mpe=%{y}<br>Label=%{customdata[0]}<br>PrawnID=%{customdata[1]}<extra></extra>",
         "legendgroup": "",
         "marker": {
          "color": "#636efa"
         },
         "name": "",
         "offsetgroup": "",
         "orientation": "v",
         "points": "all",
         "scalegroup": "True",
         "showlegend": false,
         "type": "violin",
         "x": [
          "circular big male",
          "circular big male",
          "circular big male",
          "circular big male",
          "circular big male",
          "circular big male",
          "circular big male",
          "circular big male",
          "circular big male",
          "circular big male",
          "circular big male",
          "circular big male",
          "circular big male",
          "circular big male",
          "circular big male",
          "circular big male",
          "circular big male",
          "circular big male",
          "circular big male",
          "circular big male",
          "circular big male",
          "circular big male",
          "circular big male",
          "circular big male",
          "circular big male",
          "circular big male",
          "circular big male",
          "circular big male",
          "circular big male",
          "circular big male",
          "circular big male",
          "circular big male",
          "circular big male",
          "circular big male",
          "circular big male",
          "circular big male",
          "circular big male",
          "circular big male",
          "circular big male",
          "circular big male",
          "circular big male",
          "circular big male",
          "circular big male",
          "circular big male",
          "circular big male",
          "circular big male",
          "circular big male",
          "circular big male",
          "circular big male",
          "circular big male",
          "circular big male",
          "circular big male",
          "circular big male",
          "circular big male",
          "circular big male",
          "circular big male",
          "circular big male",
          "circular big male",
          "circular big male",
          "circular big male",
          "circular big male",
          "circular big male",
          "circular big male",
          "circular big male",
          "circular big male",
          "circular big male",
          "circular big male",
          "circular big male",
          "circular big male",
          "circular big male",
          "circular big male",
          "circular big male",
          "circular big male",
          "circular big male",
          "circular big male",
          "circular big male",
          "circular big male",
          "circular big male",
          "circular big male",
          "circular small male",
          "circular small male",
          "circular small male",
          "circular big male",
          "circular big male",
          "circular small male",
          "circular small male",
          "circular small male",
          "circular small male",
          "circular big male",
          "circular big male",
          "circular big male",
          "circular big male",
          "circular big male",
          "circular big male",
          "circular big male",
          "circular big male",
          "circular big male",
          "circular big male",
          "circular big male",
          "circular big male",
          "circular big male",
          "circular big male",
          "circular big male",
          "circular big male",
          "circular big male",
          "circular big male",
          "circular small male",
          "circular small male",
          "circular small male",
          "circular small male",
          "circular small male",
          "circular small male",
          "square-femal",
          "square-femal",
          "square-femal",
          "square-femal",
          "square-femal",
          "square-femal",
          "square-femal",
          "square-femal",
          "square-femal",
          "square-femal",
          "square-femal",
          "square-femal",
          "square-femal",
          "square-femal",
          "square-femal",
          "square-femal",
          "square-femal",
          "square-femal",
          "square-femal",
          "square-femal",
          "square-femal",
          "square-femal",
          "square-femal",
          "square-femal",
          "square-femal",
          "square-femal",
          "square-femal",
          "square-femal",
          "square-femal",
          "square-femal",
          "square-femal",
          "square-femal",
          "square-femal",
          "square-femal",
          "square-femal",
          "square-femal"
         ],
         "x0": " ",
         "xaxis": "x",
         "y": [
          17.85910228311224,
          10.05101351491201,
          16.99156298364594,
          9.439411694884248,
          18.93795119135542,
          19.95618198527379,
          7.087577136298112,
          14.29841509629852,
          7.074414687997735,
          3.368009368931489,
          20.82379324556464,
          10.82903816705009,
          3.831817092593736,
          30.60675208970749,
          32.15209606285732,
          24.18752703312875,
          22.01496229291636,
          18.75928368109899,
          17.52397993017219,
          21.40780084062236,
          13.62964371648699,
          21.9431356372834,
          26.52770770430345,
          10.4593852926622,
          39.50783454543277,
          10.06765586617233,
          13.47991307095338,
          16.7954449338513,
          22.58411931728749,
          26.96367511005408,
          19.32139629036883,
          7.676210335694216,
          28.92811868017079,
          7.328226810194412,
          17.88983917169063,
          14.25450128767601,
          12.85276301800938,
          20.01701345233731,
          15.62598303394194,
          33.12889529450761,
          18.38817391965696,
          16.7584434124221,
          34.327736766176,
          19.81754542091807,
          18.12818216611524,
          18.46091997105709,
          7.234910783347645,
          1.957384087081924,
          9.970673536509134,
          33.34440359604509,
          14.19223302579611,
          10.63566594175163,
          9.899904726764756,
          21.48373880176908,
          11.6113593527107,
          37.2928480782986,
          21.53921512607349,
          21.77744735289715,
          22.48227459380336,
          19.2127523660863,
          22.39228907340021,
          19.80645799379429,
          29.63946913059093,
          40.38736589942841,
          24.164475888922,
          46.30006243022886,
          19.90143405741431,
          33.58711928152406,
          24.15568568357552,
          44.18241366172444,
          27.86395175407875,
          31.67153651647491,
          30.27347981262448,
          26.72808949791817,
          32.90390780457454,
          27.91932475862119,
          19.41652804763611,
          32.71626679423737,
          29.90838829391433,
          33.16058005355162,
          18.23963072771004,
          26.97506451927364,
          8.190080582243752,
          25.35459340879739,
          15.9613005501104,
          12.82738398610238,
          16.17233697547428,
          78.01898894062333,
          3.492880960118282,
          20.38263809841857,
          13.11601248460047,
          23.83868263831203,
          33.47899481993745,
          15.22138513088013,
          32.38374654346195,
          10.80916332076107,
          22.88274521620076,
          25.24737354580946,
          21.69456829315997,
          33.77999335474383,
          12.36153541273655,
          10.3311695385843,
          11.65702021653416,
          14.35199274467504,
          16.14730499697972,
          11.03852659533782,
          20.84363351633195,
          16.75689776316948,
          15.6767602036739,
          27.9355836836862,
          33.95074926246267,
          37.90496605056799,
          34.97126902588607,
          40.95653092359611,
          38.48215855969464,
          51.97802501844525,
          32.16966211498544,
          60.58268677548006,
          37.4907026127982,
          33.78714574352671,
          27.23691562127465,
          45.4352443556113,
          11.25071658712635,
          33.26315124841145,
          47.30895355094474,
          23.93311399023718,
          21.80579625062256,
          16.96425284746541,
          55.93895436085173,
          28.05660146008039,
          19.8004248412526,
          36.14947154587442,
          6.292091503681403,
          20.90329084738903,
          28.5345645962671,
          18.40794942755008,
          15.08643167552942,
          13.37807264297819,
          26.2796101825396,
          21.0584427096051,
          30.71214083509942,
          41.07136215511429,
          15.80296133487953,
          52.10891312066376,
          27.38305188297547,
          22.01190948827895,
          33.03612488496812,
          27.77749727354565
         ],
         "y0": " ",
         "yaxis": "y"
        }
       ],
       "layout": {
        "legend": {
         "tracegroupgap": 0
        },
        "template": {
         "data": {
          "bar": [
           {
            "error_x": {
             "color": "#2a3f5f"
            },
            "error_y": {
             "color": "#2a3f5f"
            },
            "marker": {
             "line": {
              "color": "#E5ECF6",
              "width": 0.5
             },
             "pattern": {
              "fillmode": "overlay",
              "size": 10,
              "solidity": 0.2
             }
            },
            "type": "bar"
           }
          ],
          "barpolar": [
           {
            "marker": {
             "line": {
              "color": "#E5ECF6",
              "width": 0.5
             },
             "pattern": {
              "fillmode": "overlay",
              "size": 10,
              "solidity": 0.2
             }
            },
            "type": "barpolar"
           }
          ],
          "carpet": [
           {
            "aaxis": {
             "endlinecolor": "#2a3f5f",
             "gridcolor": "white",
             "linecolor": "white",
             "minorgridcolor": "white",
             "startlinecolor": "#2a3f5f"
            },
            "baxis": {
             "endlinecolor": "#2a3f5f",
             "gridcolor": "white",
             "linecolor": "white",
             "minorgridcolor": "white",
             "startlinecolor": "#2a3f5f"
            },
            "type": "carpet"
           }
          ],
          "choropleth": [
           {
            "colorbar": {
             "outlinewidth": 0,
             "ticks": ""
            },
            "type": "choropleth"
           }
          ],
          "contour": [
           {
            "colorbar": {
             "outlinewidth": 0,
             "ticks": ""
            },
            "colorscale": [
             [
              0,
              "#0d0887"
             ],
             [
              0.1111111111111111,
              "#46039f"
             ],
             [
              0.2222222222222222,
              "#7201a8"
             ],
             [
              0.3333333333333333,
              "#9c179e"
             ],
             [
              0.4444444444444444,
              "#bd3786"
             ],
             [
              0.5555555555555556,
              "#d8576b"
             ],
             [
              0.6666666666666666,
              "#ed7953"
             ],
             [
              0.7777777777777778,
              "#fb9f3a"
             ],
             [
              0.8888888888888888,
              "#fdca26"
             ],
             [
              1,
              "#f0f921"
             ]
            ],
            "type": "contour"
           }
          ],
          "contourcarpet": [
           {
            "colorbar": {
             "outlinewidth": 0,
             "ticks": ""
            },
            "type": "contourcarpet"
           }
          ],
          "heatmap": [
           {
            "colorbar": {
             "outlinewidth": 0,
             "ticks": ""
            },
            "colorscale": [
             [
              0,
              "#0d0887"
             ],
             [
              0.1111111111111111,
              "#46039f"
             ],
             [
              0.2222222222222222,
              "#7201a8"
             ],
             [
              0.3333333333333333,
              "#9c179e"
             ],
             [
              0.4444444444444444,
              "#bd3786"
             ],
             [
              0.5555555555555556,
              "#d8576b"
             ],
             [
              0.6666666666666666,
              "#ed7953"
             ],
             [
              0.7777777777777778,
              "#fb9f3a"
             ],
             [
              0.8888888888888888,
              "#fdca26"
             ],
             [
              1,
              "#f0f921"
             ]
            ],
            "type": "heatmap"
           }
          ],
          "heatmapgl": [
           {
            "colorbar": {
             "outlinewidth": 0,
             "ticks": ""
            },
            "colorscale": [
             [
              0,
              "#0d0887"
             ],
             [
              0.1111111111111111,
              "#46039f"
             ],
             [
              0.2222222222222222,
              "#7201a8"
             ],
             [
              0.3333333333333333,
              "#9c179e"
             ],
             [
              0.4444444444444444,
              "#bd3786"
             ],
             [
              0.5555555555555556,
              "#d8576b"
             ],
             [
              0.6666666666666666,
              "#ed7953"
             ],
             [
              0.7777777777777778,
              "#fb9f3a"
             ],
             [
              0.8888888888888888,
              "#fdca26"
             ],
             [
              1,
              "#f0f921"
             ]
            ],
            "type": "heatmapgl"
           }
          ],
          "histogram": [
           {
            "marker": {
             "pattern": {
              "fillmode": "overlay",
              "size": 10,
              "solidity": 0.2
             }
            },
            "type": "histogram"
           }
          ],
          "histogram2d": [
           {
            "colorbar": {
             "outlinewidth": 0,
             "ticks": ""
            },
            "colorscale": [
             [
              0,
              "#0d0887"
             ],
             [
              0.1111111111111111,
              "#46039f"
             ],
             [
              0.2222222222222222,
              "#7201a8"
             ],
             [
              0.3333333333333333,
              "#9c179e"
             ],
             [
              0.4444444444444444,
              "#bd3786"
             ],
             [
              0.5555555555555556,
              "#d8576b"
             ],
             [
              0.6666666666666666,
              "#ed7953"
             ],
             [
              0.7777777777777778,
              "#fb9f3a"
             ],
             [
              0.8888888888888888,
              "#fdca26"
             ],
             [
              1,
              "#f0f921"
             ]
            ],
            "type": "histogram2d"
           }
          ],
          "histogram2dcontour": [
           {
            "colorbar": {
             "outlinewidth": 0,
             "ticks": ""
            },
            "colorscale": [
             [
              0,
              "#0d0887"
             ],
             [
              0.1111111111111111,
              "#46039f"
             ],
             [
              0.2222222222222222,
              "#7201a8"
             ],
             [
              0.3333333333333333,
              "#9c179e"
             ],
             [
              0.4444444444444444,
              "#bd3786"
             ],
             [
              0.5555555555555556,
              "#d8576b"
             ],
             [
              0.6666666666666666,
              "#ed7953"
             ],
             [
              0.7777777777777778,
              "#fb9f3a"
             ],
             [
              0.8888888888888888,
              "#fdca26"
             ],
             [
              1,
              "#f0f921"
             ]
            ],
            "type": "histogram2dcontour"
           }
          ],
          "mesh3d": [
           {
            "colorbar": {
             "outlinewidth": 0,
             "ticks": ""
            },
            "type": "mesh3d"
           }
          ],
          "parcoords": [
           {
            "line": {
             "colorbar": {
              "outlinewidth": 0,
              "ticks": ""
             }
            },
            "type": "parcoords"
           }
          ],
          "pie": [
           {
            "automargin": true,
            "type": "pie"
           }
          ],
          "scatter": [
           {
            "fillpattern": {
             "fillmode": "overlay",
             "size": 10,
             "solidity": 0.2
            },
            "type": "scatter"
           }
          ],
          "scatter3d": [
           {
            "line": {
             "colorbar": {
              "outlinewidth": 0,
              "ticks": ""
             }
            },
            "marker": {
             "colorbar": {
              "outlinewidth": 0,
              "ticks": ""
             }
            },
            "type": "scatter3d"
           }
          ],
          "scattercarpet": [
           {
            "marker": {
             "colorbar": {
              "outlinewidth": 0,
              "ticks": ""
             }
            },
            "type": "scattercarpet"
           }
          ],
          "scattergeo": [
           {
            "marker": {
             "colorbar": {
              "outlinewidth": 0,
              "ticks": ""
             }
            },
            "type": "scattergeo"
           }
          ],
          "scattergl": [
           {
            "marker": {
             "colorbar": {
              "outlinewidth": 0,
              "ticks": ""
             }
            },
            "type": "scattergl"
           }
          ],
          "scattermapbox": [
           {
            "marker": {
             "colorbar": {
              "outlinewidth": 0,
              "ticks": ""
             }
            },
            "type": "scattermapbox"
           }
          ],
          "scatterpolar": [
           {
            "marker": {
             "colorbar": {
              "outlinewidth": 0,
              "ticks": ""
             }
            },
            "type": "scatterpolar"
           }
          ],
          "scatterpolargl": [
           {
            "marker": {
             "colorbar": {
              "outlinewidth": 0,
              "ticks": ""
             }
            },
            "type": "scatterpolargl"
           }
          ],
          "scatterternary": [
           {
            "marker": {
             "colorbar": {
              "outlinewidth": 0,
              "ticks": ""
             }
            },
            "type": "scatterternary"
           }
          ],
          "surface": [
           {
            "colorbar": {
             "outlinewidth": 0,
             "ticks": ""
            },
            "colorscale": [
             [
              0,
              "#0d0887"
             ],
             [
              0.1111111111111111,
              "#46039f"
             ],
             [
              0.2222222222222222,
              "#7201a8"
             ],
             [
              0.3333333333333333,
              "#9c179e"
             ],
             [
              0.4444444444444444,
              "#bd3786"
             ],
             [
              0.5555555555555556,
              "#d8576b"
             ],
             [
              0.6666666666666666,
              "#ed7953"
             ],
             [
              0.7777777777777778,
              "#fb9f3a"
             ],
             [
              0.8888888888888888,
              "#fdca26"
             ],
             [
              1,
              "#f0f921"
             ]
            ],
            "type": "surface"
           }
          ],
          "table": [
           {
            "cells": {
             "fill": {
              "color": "#EBF0F8"
             },
             "line": {
              "color": "white"
             }
            },
            "header": {
             "fill": {
              "color": "#C8D4E3"
             },
             "line": {
              "color": "white"
             }
            },
            "type": "table"
           }
          ]
         },
         "layout": {
          "annotationdefaults": {
           "arrowcolor": "#2a3f5f",
           "arrowhead": 0,
           "arrowwidth": 1
          },
          "autotypenumbers": "strict",
          "coloraxis": {
           "colorbar": {
            "outlinewidth": 0,
            "ticks": ""
           }
          },
          "colorscale": {
           "diverging": [
            [
             0,
             "#8e0152"
            ],
            [
             0.1,
             "#c51b7d"
            ],
            [
             0.2,
             "#de77ae"
            ],
            [
             0.3,
             "#f1b6da"
            ],
            [
             0.4,
             "#fde0ef"
            ],
            [
             0.5,
             "#f7f7f7"
            ],
            [
             0.6,
             "#e6f5d0"
            ],
            [
             0.7,
             "#b8e186"
            ],
            [
             0.8,
             "#7fbc41"
            ],
            [
             0.9,
             "#4d9221"
            ],
            [
             1,
             "#276419"
            ]
           ],
           "sequential": [
            [
             0,
             "#0d0887"
            ],
            [
             0.1111111111111111,
             "#46039f"
            ],
            [
             0.2222222222222222,
             "#7201a8"
            ],
            [
             0.3333333333333333,
             "#9c179e"
            ],
            [
             0.4444444444444444,
             "#bd3786"
            ],
            [
             0.5555555555555556,
             "#d8576b"
            ],
            [
             0.6666666666666666,
             "#ed7953"
            ],
            [
             0.7777777777777778,
             "#fb9f3a"
            ],
            [
             0.8888888888888888,
             "#fdca26"
            ],
            [
             1,
             "#f0f921"
            ]
           ],
           "sequentialminus": [
            [
             0,
             "#0d0887"
            ],
            [
             0.1111111111111111,
             "#46039f"
            ],
            [
             0.2222222222222222,
             "#7201a8"
            ],
            [
             0.3333333333333333,
             "#9c179e"
            ],
            [
             0.4444444444444444,
             "#bd3786"
            ],
            [
             0.5555555555555556,
             "#d8576b"
            ],
            [
             0.6666666666666666,
             "#ed7953"
            ],
            [
             0.7777777777777778,
             "#fb9f3a"
            ],
            [
             0.8888888888888888,
             "#fdca26"
            ],
            [
             1,
             "#f0f921"
            ]
           ]
          },
          "colorway": [
           "#636efa",
           "#EF553B",
           "#00cc96",
           "#ab63fa",
           "#FFA15A",
           "#19d3f3",
           "#FF6692",
           "#B6E880",
           "#FF97FF",
           "#FECB52"
          ],
          "font": {
           "color": "#2a3f5f"
          },
          "geo": {
           "bgcolor": "white",
           "lakecolor": "white",
           "landcolor": "#E5ECF6",
           "showlakes": true,
           "showland": true,
           "subunitcolor": "white"
          },
          "hoverlabel": {
           "align": "left"
          },
          "hovermode": "closest",
          "mapbox": {
           "style": "light"
          },
          "paper_bgcolor": "white",
          "plot_bgcolor": "#E5ECF6",
          "polar": {
           "angularaxis": {
            "gridcolor": "white",
            "linecolor": "white",
            "ticks": ""
           },
           "bgcolor": "#E5ECF6",
           "radialaxis": {
            "gridcolor": "white",
            "linecolor": "white",
            "ticks": ""
           }
          },
          "scene": {
           "xaxis": {
            "backgroundcolor": "#E5ECF6",
            "gridcolor": "white",
            "gridwidth": 2,
            "linecolor": "white",
            "showbackground": true,
            "ticks": "",
            "zerolinecolor": "white"
           },
           "yaxis": {
            "backgroundcolor": "#E5ECF6",
            "gridcolor": "white",
            "gridwidth": 2,
            "linecolor": "white",
            "showbackground": true,
            "ticks": "",
            "zerolinecolor": "white"
           },
           "zaxis": {
            "backgroundcolor": "#E5ECF6",
            "gridcolor": "white",
            "gridwidth": 2,
            "linecolor": "white",
            "showbackground": true,
            "ticks": "",
            "zerolinecolor": "white"
           }
          },
          "shapedefaults": {
           "line": {
            "color": "#2a3f5f"
           }
          },
          "ternary": {
           "aaxis": {
            "gridcolor": "white",
            "linecolor": "white",
            "ticks": ""
           },
           "baxis": {
            "gridcolor": "white",
            "linecolor": "white",
            "ticks": ""
           },
           "bgcolor": "#E5ECF6",
           "caxis": {
            "gridcolor": "white",
            "linecolor": "white",
            "ticks": ""
           }
          },
          "title": {
           "x": 0.05
          },
          "xaxis": {
           "automargin": true,
           "gridcolor": "white",
           "linecolor": "white",
           "ticks": "",
           "title": {
            "standoff": 15
           },
           "zerolinecolor": "white",
           "zerolinewidth": 2
          },
          "yaxis": {
           "automargin": true,
           "gridcolor": "white",
           "linecolor": "white",
           "ticks": "",
           "title": {
            "standoff": 15
           },
           "zerolinecolor": "white",
           "zerolinewidth": 2
          }
         }
        },
        "title": {
         "text": "Violin plot of max_mpe"
        },
        "violinmode": "group",
        "xaxis": {
         "anchor": "y",
         "domain": [
          0,
          1
         ],
         "title": {
          "text": "Pond_Type"
         }
        },
        "yaxis": {
         "anchor": "x",
         "domain": [
          0,
          1
         ],
         "title": {
          "text": "max_mpe"
         }
        }
       }
      }
     },
     "metadata": {},
     "output_type": "display_data"
    },
    {
     "data": {
      "application/vnd.plotly.v1+json": {
       "config": {
        "plotlyServerURL": "https://plot.ly"
       },
       "data": [
        {
         "alignmentgroup": "True",
         "box": {
          "visible": true
         },
         "customdata": [
          [
           "carapace:undistorted_GX010067_33_625.jpg_gamma",
           "Prawn_0"
          ],
          [
           "carapace:undistorted_GX010067_33_625.jpg_gamma",
           "Prawn_1"
          ],
          [
           "carapace:undistorted_GX010067_33_625.jpg_gamma",
           "Prawn_2"
          ],
          [
           "carapace:undistorted_GX010067_33_625.jpg_gamma",
           "Prawn_3"
          ],
          [
           "carapace:undistorted_GX010068_26_666.jpg_gamma",
           "Prawn_0"
          ],
          [
           "carapace:undistorted_GX010068_26_666.jpg_gamma",
           "Prawn_1"
          ],
          [
           "carapace:undistorted_GX010068_26_666.jpg_gamma",
           "Prawn_2"
          ],
          [
           "carapace:undistorted_GX010068_27_795.jpg_gamma",
           "Prawn_2"
          ],
          [
           "carapace:undistorted_GX010069_19_191.jpg_gamma",
           "Prawn_0"
          ],
          [
           "carapace:undistorted_GX010069_19_191.jpg_gamma",
           "Prawn_1"
          ],
          [
           "carapace:undistorted_GX010069_19_191.jpg_gamma",
           "Prawn_2"
          ],
          [
           "carapace:undistorted_GX010069_19_191.jpg_gamma",
           "Prawn_3"
          ],
          [
           "carapace:undistorted_GX010069_53_796.jpg_gamma",
           "Prawn_1"
          ],
          [
           "carapace:undistorted_GX010071_22_444.jpg_gamma",
           "Prawn_0"
          ],
          [
           "carapace:undistorted_GX010073_42_695.jpg_gamma",
           "Prawn_0"
          ],
          [
           "carapace:undistorted_GX010073_42_695.jpg_gamma",
           "Prawn_1"
          ],
          [
           "carapace:undistorted_GX010073_42_695.jpg_gamma",
           "Prawn_2"
          ],
          [
           "carapace:undistorted_GX010073_55_1014.jpg_gamma",
           "Prawn_0"
          ],
          [
           "carapace:undistorted_GX010073_55_1014.jpg_gamma",
           "Prawn_3"
          ],
          [
           "carapace:undistorted_GX010077_14_237.jpg_gamma",
           "Prawn_0"
          ],
          [
           "carapace:undistorted_GX010077_14_237.jpg_gamma",
           "Prawn_1"
          ],
          [
           "carapace:undistorted_GX010077_14_237.jpg_gamma",
           "Prawn_2"
          ],
          [
           "carapace:undistorted_GX010080_157_2283.jpg_gamma",
           "Prawn_0"
          ],
          [
           "carapace:undistorted_GX010080_157_2283.jpg_gamma",
           "Prawn_1"
          ],
          [
           "carapace:undistorted_GX010080_157_2283.jpg_gamma",
           "Prawn_2"
          ],
          [
           "carapace:undistorted_GX010080_157_2283.jpg_gamma",
           "Prawn_3"
          ],
          [
           "carapace:undistorted_GX010080_157_2283.jpg_gamma",
           "Prawn_4"
          ],
          [
           "carapace:undistorted_GX010080_193_2640.jpg_gamma",
           "Prawn_0"
          ],
          [
           "carapace:undistorted_GX010080_193_2640.jpg_gamma",
           "Prawn_1"
          ],
          [
           "carapace:undistorted_GX010080_193_2640.jpg_gamma",
           "Prawn_4"
          ],
          [
           "carapace:undistorted_GX010080_212_2954.jpg_gamma",
           "Prawn_0"
          ],
          [
           "carapace:undistorted_GX010080_212_2954.jpg_gamma",
           "Prawn_1"
          ],
          [
           "carapace:undistorted_GX010080_212_2954.jpg_gamma",
           "Prawn_2"
          ],
          [
           "carapace:undistorted_GX010080_237_3366.jpg_gamma",
           "Prawn_0"
          ],
          [
           "carapace:undistorted_GX010080_237_3366.jpg_gamma",
           "Prawn_1"
          ],
          [
           "carapace:undistorted_GX010080_237_3366.jpg_gamma",
           "Prawn_2"
          ],
          [
           "carapace:undistorted_GX010080_237_3366.jpg_gamma",
           "Prawn_3"
          ],
          [
           "carapace:undistorted_GX010080_238_3392.jpg_gamma",
           "Prawn_0"
          ],
          [
           "carapace:undistorted_GX010080_238_3392.jpg_gamma",
           "Prawn_1"
          ],
          [
           "carapace:undistorted_GX010080_238_3392.jpg_gamma",
           "Prawn_2"
          ],
          [
           "carapace:undistorted_GX010080_238_3392.jpg_gamma",
           "Prawn_3"
          ],
          [
           "carapace:undistorted_GX010080_238_3392.jpg_gamma",
           "Prawn_4"
          ],
          [
           "carapace:undistorted_GX010082_8_59.jpg_gamma",
           "Prawn_0"
          ],
          [
           "carapace:undistorted_GX010082_8_59.jpg_gamma",
           "Prawn_1"
          ],
          [
           "carapace:undistorted_GX010082_8_59.jpg_gamma",
           "Prawn_2"
          ],
          [
           "carapace:undistorted_GX010082_8_59.jpg_gamma",
           "Prawn_3"
          ],
          [
           "carapace:undistorted_GX010082_8_59.jpg_gamma",
           "Prawn_4"
          ],
          [
           "carapace:undistorted_GX010082_8_59.jpg_gamma",
           "Prawn_5"
          ],
          [
           "carapace:undistorted_GX010082_53_796.jpg_gamma",
           "Prawn_0"
          ],
          [
           "carapace:undistorted_GX010082_53_796.jpg_gamma",
           "Prawn_1"
          ],
          [
           "carapace:undistorted_GX010082_65_1070.jpg_gamma",
           "Prawn_0"
          ],
          [
           "carapace:undistorted_GX010082_65_1070.jpg_gamma",
           "Prawn_1"
          ],
          [
           "carapace:undistorted_GX010082_65_1070.jpg_gamma",
           "Prawn_2"
          ],
          [
           "carapace:undistorted_GX010082_236_3137.jpg_gamma",
           "Prawn_1"
          ],
          [
           "carapace:undistorted_GX010082_236_3137.jpg_gamma",
           "Prawn_2"
          ],
          [
           "carapace:undistorted_GX010084_30_344.jpg_gamma",
           "Prawn_0"
          ],
          [
           "carapace:undistorted_GX010084_30_344.jpg_gamma",
           "Prawn_2"
          ],
          [
           "carapace:undistorted_GX010084_30_344.jpg_gamma",
           "Prawn_3"
          ],
          [
           "carapace:undistorted_GX010084_30_344.jpg_gamma",
           "Prawn_5"
          ],
          [
           "carapace:undistorted_GX010084_130_1748.jpg_gamma",
           "Prawn_0"
          ],
          [
           "carapace:undistorted_GX010084_130_1748.jpg_gamma",
           "Prawn_1"
          ],
          [
           "carapace:undistorted_GX010084_130_1748.jpg_gamma",
           "Prawn_2"
          ],
          [
           "carapace:undistorted_GX010084_130_1748.jpg_gamma",
           "Prawn_3"
          ],
          [
           "carapace:undistorted_GX010084_167_2291.jpg_gamma",
           "Prawn_0"
          ],
          [
           "carapace:undistorted_GX010084_167_2291.jpg_gamma",
           "Prawn_1"
          ],
          [
           "carapace:undistorted_GX010085_261_3610.jpg_gamma",
           "Prawn_0"
          ],
          [
           "carapace:undistorted_GX010085_261_3610.jpg_gamma",
           "Prawn_1"
          ],
          [
           "carapace:undistorted_GX010085_261_3610.jpg_gamma",
           "Prawn_2"
          ],
          [
           "carapace:undistorted_GX010085_263_3738.jpg_gamma",
           "Prawn_1"
          ],
          [
           "carapace:undistorted_GX010085_263_3738.jpg_gamma",
           "Prawn_3"
          ],
          [
           "carapace:undistorted_GX010088_262_3712.jpg_gamma",
           "Prawn_0"
          ],
          [
           "carapace:undistorted_GX010088_262_3712.jpg_gamma",
           "Prawn_2"
          ],
          [
           "carapace:undistorted_GX010088_262_3712.jpg_gamma",
           "Prawn_3"
          ],
          [
           "carapace:undistorted_GX010088_262_3712.jpg_gamma",
           "Prawn_4"
          ],
          [
           "carapace:undistorted_GX010088_262_3712.jpg_gamma",
           "Prawn_5"
          ],
          [
           "carapace:undistorted_GX010088_327_4364.jpg_gamma",
           "Prawn_0"
          ],
          [
           "carapace:undistorted_GX010088_327_4364.jpg_gamma",
           "Prawn_1"
          ],
          [
           "carapace:undistorted_GX010088_327_4364.jpg_gamma",
           "Prawn_2"
          ],
          [
           "carapace:undistorted_GX010088_327_4364.jpg_gamma",
           "Prawn_3"
          ],
          [
           "carapace:undistorted_GX010089_11_236.jpg_gamma",
           "Prawn_0"
          ],
          [
           "carapace:undistorted_GX010089_11_236.jpg_gamma",
           "Prawn_1"
          ],
          [
           "carapace:undistorted_GX010089_11_236.jpg_gamma",
           "Prawn_2"
          ],
          [
           "carapace:undistorted_GX010090_132_1852.jpg_gamma",
           "Prawn_0"
          ],
          [
           "carapace:undistorted_GX010090_132_1852.jpg_gamma",
           "Prawn_1"
          ],
          [
           "carapace:undistorted_GX010091_5_149.jpg_gamma",
           "Prawn_0"
          ],
          [
           "carapace:undistorted_GX010091_5_149.jpg_gamma",
           "Prawn_1"
          ],
          [
           "carapace:undistorted_GX010091_5_149.jpg_gamma",
           "Prawn_2"
          ],
          [
           "carapace:undistorted_GX010091_5_149.jpg_gamma",
           "Prawn_3"
          ],
          [
           "carapace:undistorted_GX010094_9_129.jpg_gamma",
           "Prawn_0"
          ],
          [
           "carapace:undistorted_GX010094_9_129.jpg_gamma",
           "Prawn_1"
          ],
          [
           "carapace:undistorted_GX010094_24_430.jpg_gamma",
           "Prawn_0"
          ],
          [
           "carapace:undistorted_GX010094_24_430.jpg_gamma",
           "Prawn_1"
          ],
          [
           "carapace:undistorted_GX010094_24_430.jpg_gamma",
           "Prawn_2"
          ],
          [
           "carapace:undistorted_GX010094_93_1258.jpg_gamma",
           "Prawn_0"
          ],
          [
           "carapace:undistorted_GX010094_93_1258.jpg_gamma",
           "Prawn_1"
          ],
          [
           "carapace:undistorted_GX010094_163_2312.jpg_gamma",
           "Prawn_0"
          ],
          [
           "carapace:undistorted_GX010096_107_1571.jpg_gamma",
           "Prawn_0"
          ],
          [
           "carapace:undistorted_GX010097_32_528.jpg_gamma",
           "Prawn_0"
          ],
          [
           "carapace:undistorted_GX010097_32_528.jpg_gamma",
           "Prawn_1"
          ],
          [
           "carapace:undistorted_GX010097_60_1080.jpg_gamma",
           "Prawn_1"
          ],
          [
           "carapace:undistorted_GX010097_105_1651.jpg_gamma",
           "Prawn_0"
          ],
          [
           "carapace:undistorted_GX010097_105_1651.jpg_gamma",
           "Prawn_1"
          ],
          [
           "carapace:undistorted_GX010097_105_1651.jpg_gamma",
           "Prawn_2"
          ],
          [
           "carapace:undistorted_GX010097_105_1651.jpg_gamma",
           "Prawn_3"
          ],
          [
           "carapace:undistorted_GX010097_124_1870.jpg_gamma",
           "Prawn_1"
          ],
          [
           "carapace:undistorted_GX010101_12_173.jpg_gamma",
           "Prawn_0"
          ],
          [
           "carapace:undistorted_GX010102_9_165.jpg_gamma",
           "Prawn_0"
          ],
          [
           "carapace:undistorted_GX010102_9_165.jpg_gamma",
           "Prawn_3"
          ],
          [
           "carapace:undistorted_GX010102_9_165.jpg_gamma",
           "Prawn_4"
          ],
          [
           "carapace:undistorted_GX010102_50_1396.jpg_gamma",
           "Prawn_0"
          ],
          [
           "carapace:undistorted_GX010105_28_816.jpg_gamma",
           "Prawn_0"
          ],
          [
           "carapace:undistorted_GX010105_28_816.jpg_gamma",
           "Prawn_1"
          ],
          [
           "carapace:undistorted_GX010152_36_378.jpg_gamma",
           "Prawn_1"
          ],
          [
           "carapace:undistorted_GX010152_36_378.jpg_gamma",
           "Prawn_2"
          ],
          [
           "carapace:undistorted_GX010155_78_1170.jpg_gamma",
           "Prawn_0"
          ],
          [
           "carapace:undistorted_GX010157_68_883",
           "Prawn_0"
          ],
          [
           "carapace:undistorted_GX010157_160_2259",
           "Prawn_0"
          ],
          [
           "carapace:undistorted_GX010157_160_2259",
           "Prawn_1"
          ],
          [
           "carapace:undistorted_GX010157_174_2582.jpg_gamma",
           "Prawn_0"
          ],
          [
           "carapace:undistorted_GX010157_177_2665.jpg_gamma",
           "Prawn_0"
          ],
          [
           "carapace:undistorted_GX010161_54_676.jpg_gamma.jpg_gamma",
           "Prawn_0"
          ],
          [
           "carapace:undistorted_GX010161_136_2267.jpg_gamma.jpg_gamma",
           "Prawn_0"
          ],
          [
           "carapace:undistorted_GX010162_72_927.jpg_gamma.jpg_gamma",
           "Prawn_0"
          ],
          [
           "carapace:undistorted_GX010169_121_1249",
           "Prawn_0"
          ],
          [
           "carapace:undistorted_GX010173_75_922.jpg_gamma",
           "Prawn_0"
          ],
          [
           "carapace:undistorted_GX010174_62_790.jpg_gamma",
           "Prawn_0"
          ],
          [
           "carapace:undistorted_GX010174_104_1236",
           "Prawn_0"
          ],
          [
           "carapace:undistorted_GX010175_82_852.jpg_gamma",
           "Prawn_0"
          ],
          [
           "carapace:undistorted_GX010175_215_2644.jpg_gamma",
           "Prawn_0"
          ],
          [
           "carapace:undistorted_GX010175_266_3372.jpg_gamma.jpg_gamma",
           "Prawn_0"
          ],
          [
           "carapace:undistorted_GX010177_232_3047",
           "Prawn_0"
          ],
          [
           "carapace:undistorted_GX010178_107_2118",
           "Prawn_0"
          ],
          [
           "carapace:undistorted_GX010178_107_2118",
           "Prawn_1"
          ],
          [
           "carapace:undistorted_GX010178_114_2258",
           "Prawn_0"
          ],
          [
           "carapace:undistorted_GX010178_189_3987.jpg_gamma",
           "Prawn_0"
          ],
          [
           "carapace:undistorted_GX010178_189_3987.jpg_gamma",
           "Prawn_1"
          ],
          [
           "carapace:undistorted_GX010179_88_1697.jpg_gamma",
           "Prawn_0"
          ],
          [
           "carapace:undistorted_GX010179_200_3927.jpg_gamma",
           "Prawn_0"
          ],
          [
           "carapace:undistorted_GX010180_91_1563",
           "Prawn_0"
          ],
          [
           "carapace:undistorted_GX010180_99_1788",
           "Prawn_0"
          ],
          [
           "carapace:undistorted_GX010181_101_1542",
           "Prawn_0"
          ],
          [
           "carapace:undistorted_GX010183_37_685.jpg_gamma",
           "Prawn_0"
          ],
          [
           "carapace:undistorted_GX010183_37_685.jpg_gamma",
           "Prawn_1"
          ],
          [
           "carapace:undistorted_GX010183_37_685.jpg_gamma",
           "Prawn_2"
          ],
          [
           "carapace:undistorted_GX010183_80_1633.jpg_gamma",
           "Prawn_0"
          ],
          [
           "carapace:undistorted_GX010183_80_1633.jpg_gamma",
           "Prawn_1"
          ],
          [
           "carapace:undistorted_GX010183_128_2852.jpg_gamma",
           "Prawn_0"
          ],
          [
           "carapace:undistorted_GX010183_128_2852.jpg_gamma",
           "Prawn_1"
          ]
         ],
         "hovertemplate": "Pond_Type=%{x}<br>max_mae=%{y}<br>Label=%{customdata[0]}<br>PrawnID=%{customdata[1]}<extra></extra>",
         "legendgroup": "",
         "marker": {
          "color": "#636efa"
         },
         "name": "",
         "offsetgroup": "",
         "orientation": "v",
         "points": "all",
         "scalegroup": "True",
         "showlegend": false,
         "type": "violin",
         "x": [
          "circular big male",
          "circular big male",
          "circular big male",
          "circular big male",
          "circular big male",
          "circular big male",
          "circular big male",
          "circular big male",
          "circular big male",
          "circular big male",
          "circular big male",
          "circular big male",
          "circular big male",
          "circular big male",
          "circular big male",
          "circular big male",
          "circular big male",
          "circular big male",
          "circular big male",
          "circular big male",
          "circular big male",
          "circular big male",
          "circular big male",
          "circular big male",
          "circular big male",
          "circular big male",
          "circular big male",
          "circular big male",
          "circular big male",
          "circular big male",
          "circular big male",
          "circular big male",
          "circular big male",
          "circular big male",
          "circular big male",
          "circular big male",
          "circular big male",
          "circular big male",
          "circular big male",
          "circular big male",
          "circular big male",
          "circular big male",
          "circular big male",
          "circular big male",
          "circular big male",
          "circular big male",
          "circular big male",
          "circular big male",
          "circular big male",
          "circular big male",
          "circular big male",
          "circular big male",
          "circular big male",
          "circular big male",
          "circular big male",
          "circular big male",
          "circular big male",
          "circular big male",
          "circular big male",
          "circular big male",
          "circular big male",
          "circular big male",
          "circular big male",
          "circular big male",
          "circular big male",
          "circular big male",
          "circular big male",
          "circular big male",
          "circular big male",
          "circular big male",
          "circular big male",
          "circular big male",
          "circular big male",
          "circular big male",
          "circular big male",
          "circular big male",
          "circular big male",
          "circular big male",
          "circular big male",
          "circular small male",
          "circular small male",
          "circular small male",
          "circular big male",
          "circular big male",
          "circular small male",
          "circular small male",
          "circular small male",
          "circular small male",
          "circular big male",
          "circular big male",
          "circular big male",
          "circular big male",
          "circular big male",
          "circular big male",
          "circular big male",
          "circular big male",
          "circular big male",
          "circular big male",
          "circular big male",
          "circular big male",
          "circular big male",
          "circular big male",
          "circular big male",
          "circular big male",
          "circular big male",
          "circular big male",
          "circular small male",
          "circular small male",
          "circular small male",
          "circular small male",
          "circular small male",
          "circular small male",
          "square-femal",
          "square-femal",
          "square-femal",
          "square-femal",
          "square-femal",
          "square-femal",
          "square-femal",
          "square-femal",
          "square-femal",
          "square-femal",
          "square-femal",
          "square-femal",
          "square-femal",
          "square-femal",
          "square-femal",
          "square-femal",
          "square-femal",
          "square-femal",
          "square-femal",
          "square-femal",
          "square-femal",
          "square-femal",
          "square-femal",
          "square-femal",
          "square-femal",
          "square-femal",
          "square-femal",
          "square-femal",
          "square-femal",
          "square-femal",
          "square-femal",
          "square-femal",
          "square-femal",
          "square-femal",
          "square-femal",
          "square-femal"
         ],
         "x0": " ",
         "xaxis": "x",
         "y": [
          8.12178394529095,
          2.447723321286521,
          8.773933377865255,
          2.334272118027926,
          6.886596571224484,
          7.435074722253454,
          2.243147287866989,
          5.396936778097874,
          2.130459983290518,
          1.117471828517779,
          5.07392546221428,
          3.675375553896799,
          1.378764426257078,
          13.49359879378934,
          10.80760557056886,
          11.71547059376624,
          7.952905128316036,
          7.554175945541751,
          5.503581136869876,
          6.066114446198753,
          5.057551893876827,
          7.959214158355437,
          6.642007455003498,
          3.77071299185765,
          18.41065089817167,
          3.637444064448061,
          4.653131072202008,
          6.790398386756081,
          9.985568356138664,
          10.92729897510052,
          5.250009800019019,
          2.271774448848703,
          8.819026260836868,
          2.685575279131946,
          6.276113378212507,
          4.806047654152842,
          5.052421142379487,
          7.72176310937364,
          5.102664759733742,
          14.55087339125363,
          7.044693310359776,
          5.157913713475274,
          13.98340357170179,
          6.35191965831266,
          7.121656363958373,
          7.266218100608071,
          2.086403571701794,
          0.4786782784958845,
          3.688251847890093,
          5.636871427911423,
          3.614194062349238,
          5.163615814720416,
          3.661776760335748,
          6.472835663585006,
          3.91348842679912,
          13.94938982368759,
          8.005695478058993,
          8.253216997800962,
          8.722672896903827,
          6.940606792248676,
          10.2346196438883,
          6.297661383706831,
          12.007541734185,
          23.66416930145209,
          12.22770808931231,
          11.10136596889597,
          8.715634031104024,
          11.50963403539266,
          10.62415367735019,
          18.7982915406539,
          12.48611542052023,
          14.21671931151526,
          13.5467767465532,
          11.32201871131814,
          15.22101871131814,
          11.94053681276711,
          7.573610930260941,
          14.07879108956417,
          13.83801309582828,
          10.50925103057158,
          4.293609073302942,
          6.011123377474938,
          2.725331214547431,
          10.45547368398578,
          3.584748490549295,
          4.127467345208164,
          4.706796953342035,
          9.78280102326476,
          0.853101245699289,
          5.745458027182227,
          4.537877999422072,
          9.631066172704443,
          14.10403093774325,
          5.24970351778925,
          14.00370351778925,
          3.813381295380545,
          8.38332253740731,
          11.49285691178792,
          7.643647246729053,
          11.64734170871567,
          4.764259363422795,
          4.543854986460147,
          3.905684623549771,
          4.223934984685311,
          5.103517217345409,
          4.33218014760628,
          6.295819503608065,
          3.091815206282401,
          3.72903094964791,
          7.536461766184864,
          4.517147189370657,
          8.185577418620156,
          15.24712358259606,
          18.19862495059069,
          15.68070996990437,
          19.2568187088336,
          10.46800805221626,
          23.32069944735329,
          15.11625129348023,
          13.15806603835904,
          9.410899085462816,
          22.65492154059491,
          3.124774024908472,
          13.04347949903958,
          17.3164962682523,
          9.266901737019836,
          8.001200818240935,
          6.350398410920203,
          29.15538301287592,
          11.58148451670658,
          6.79530780126948,
          13.46242469839909,
          2.369098292966122,
          11.70354351254464,
          11.25574435064352,
          8.234059858437426,
          4.557912737810948,
          6.027223067840964,
          9.528723856087034,
          8.398106952590513,
          11.74033007703346,
          14.43288737492871,
          4.91393082708079,
          22.28229233952703,
          11.42694755076566,
          8.55294755076567,
          11.48368737126377,
          8.952687371263764
         ],
         "y0": " ",
         "yaxis": "y"
        }
       ],
       "layout": {
        "legend": {
         "tracegroupgap": 0
        },
        "template": {
         "data": {
          "bar": [
           {
            "error_x": {
             "color": "#2a3f5f"
            },
            "error_y": {
             "color": "#2a3f5f"
            },
            "marker": {
             "line": {
              "color": "#E5ECF6",
              "width": 0.5
             },
             "pattern": {
              "fillmode": "overlay",
              "size": 10,
              "solidity": 0.2
             }
            },
            "type": "bar"
           }
          ],
          "barpolar": [
           {
            "marker": {
             "line": {
              "color": "#E5ECF6",
              "width": 0.5
             },
             "pattern": {
              "fillmode": "overlay",
              "size": 10,
              "solidity": 0.2
             }
            },
            "type": "barpolar"
           }
          ],
          "carpet": [
           {
            "aaxis": {
             "endlinecolor": "#2a3f5f",
             "gridcolor": "white",
             "linecolor": "white",
             "minorgridcolor": "white",
             "startlinecolor": "#2a3f5f"
            },
            "baxis": {
             "endlinecolor": "#2a3f5f",
             "gridcolor": "white",
             "linecolor": "white",
             "minorgridcolor": "white",
             "startlinecolor": "#2a3f5f"
            },
            "type": "carpet"
           }
          ],
          "choropleth": [
           {
            "colorbar": {
             "outlinewidth": 0,
             "ticks": ""
            },
            "type": "choropleth"
           }
          ],
          "contour": [
           {
            "colorbar": {
             "outlinewidth": 0,
             "ticks": ""
            },
            "colorscale": [
             [
              0,
              "#0d0887"
             ],
             [
              0.1111111111111111,
              "#46039f"
             ],
             [
              0.2222222222222222,
              "#7201a8"
             ],
             [
              0.3333333333333333,
              "#9c179e"
             ],
             [
              0.4444444444444444,
              "#bd3786"
             ],
             [
              0.5555555555555556,
              "#d8576b"
             ],
             [
              0.6666666666666666,
              "#ed7953"
             ],
             [
              0.7777777777777778,
              "#fb9f3a"
             ],
             [
              0.8888888888888888,
              "#fdca26"
             ],
             [
              1,
              "#f0f921"
             ]
            ],
            "type": "contour"
           }
          ],
          "contourcarpet": [
           {
            "colorbar": {
             "outlinewidth": 0,
             "ticks": ""
            },
            "type": "contourcarpet"
           }
          ],
          "heatmap": [
           {
            "colorbar": {
             "outlinewidth": 0,
             "ticks": ""
            },
            "colorscale": [
             [
              0,
              "#0d0887"
             ],
             [
              0.1111111111111111,
              "#46039f"
             ],
             [
              0.2222222222222222,
              "#7201a8"
             ],
             [
              0.3333333333333333,
              "#9c179e"
             ],
             [
              0.4444444444444444,
              "#bd3786"
             ],
             [
              0.5555555555555556,
              "#d8576b"
             ],
             [
              0.6666666666666666,
              "#ed7953"
             ],
             [
              0.7777777777777778,
              "#fb9f3a"
             ],
             [
              0.8888888888888888,
              "#fdca26"
             ],
             [
              1,
              "#f0f921"
             ]
            ],
            "type": "heatmap"
           }
          ],
          "heatmapgl": [
           {
            "colorbar": {
             "outlinewidth": 0,
             "ticks": ""
            },
            "colorscale": [
             [
              0,
              "#0d0887"
             ],
             [
              0.1111111111111111,
              "#46039f"
             ],
             [
              0.2222222222222222,
              "#7201a8"
             ],
             [
              0.3333333333333333,
              "#9c179e"
             ],
             [
              0.4444444444444444,
              "#bd3786"
             ],
             [
              0.5555555555555556,
              "#d8576b"
             ],
             [
              0.6666666666666666,
              "#ed7953"
             ],
             [
              0.7777777777777778,
              "#fb9f3a"
             ],
             [
              0.8888888888888888,
              "#fdca26"
             ],
             [
              1,
              "#f0f921"
             ]
            ],
            "type": "heatmapgl"
           }
          ],
          "histogram": [
           {
            "marker": {
             "pattern": {
              "fillmode": "overlay",
              "size": 10,
              "solidity": 0.2
             }
            },
            "type": "histogram"
           }
          ],
          "histogram2d": [
           {
            "colorbar": {
             "outlinewidth": 0,
             "ticks": ""
            },
            "colorscale": [
             [
              0,
              "#0d0887"
             ],
             [
              0.1111111111111111,
              "#46039f"
             ],
             [
              0.2222222222222222,
              "#7201a8"
             ],
             [
              0.3333333333333333,
              "#9c179e"
             ],
             [
              0.4444444444444444,
              "#bd3786"
             ],
             [
              0.5555555555555556,
              "#d8576b"
             ],
             [
              0.6666666666666666,
              "#ed7953"
             ],
             [
              0.7777777777777778,
              "#fb9f3a"
             ],
             [
              0.8888888888888888,
              "#fdca26"
             ],
             [
              1,
              "#f0f921"
             ]
            ],
            "type": "histogram2d"
           }
          ],
          "histogram2dcontour": [
           {
            "colorbar": {
             "outlinewidth": 0,
             "ticks": ""
            },
            "colorscale": [
             [
              0,
              "#0d0887"
             ],
             [
              0.1111111111111111,
              "#46039f"
             ],
             [
              0.2222222222222222,
              "#7201a8"
             ],
             [
              0.3333333333333333,
              "#9c179e"
             ],
             [
              0.4444444444444444,
              "#bd3786"
             ],
             [
              0.5555555555555556,
              "#d8576b"
             ],
             [
              0.6666666666666666,
              "#ed7953"
             ],
             [
              0.7777777777777778,
              "#fb9f3a"
             ],
             [
              0.8888888888888888,
              "#fdca26"
             ],
             [
              1,
              "#f0f921"
             ]
            ],
            "type": "histogram2dcontour"
           }
          ],
          "mesh3d": [
           {
            "colorbar": {
             "outlinewidth": 0,
             "ticks": ""
            },
            "type": "mesh3d"
           }
          ],
          "parcoords": [
           {
            "line": {
             "colorbar": {
              "outlinewidth": 0,
              "ticks": ""
             }
            },
            "type": "parcoords"
           }
          ],
          "pie": [
           {
            "automargin": true,
            "type": "pie"
           }
          ],
          "scatter": [
           {
            "fillpattern": {
             "fillmode": "overlay",
             "size": 10,
             "solidity": 0.2
            },
            "type": "scatter"
           }
          ],
          "scatter3d": [
           {
            "line": {
             "colorbar": {
              "outlinewidth": 0,
              "ticks": ""
             }
            },
            "marker": {
             "colorbar": {
              "outlinewidth": 0,
              "ticks": ""
             }
            },
            "type": "scatter3d"
           }
          ],
          "scattercarpet": [
           {
            "marker": {
             "colorbar": {
              "outlinewidth": 0,
              "ticks": ""
             }
            },
            "type": "scattercarpet"
           }
          ],
          "scattergeo": [
           {
            "marker": {
             "colorbar": {
              "outlinewidth": 0,
              "ticks": ""
             }
            },
            "type": "scattergeo"
           }
          ],
          "scattergl": [
           {
            "marker": {
             "colorbar": {
              "outlinewidth": 0,
              "ticks": ""
             }
            },
            "type": "scattergl"
           }
          ],
          "scattermapbox": [
           {
            "marker": {
             "colorbar": {
              "outlinewidth": 0,
              "ticks": ""
             }
            },
            "type": "scattermapbox"
           }
          ],
          "scatterpolar": [
           {
            "marker": {
             "colorbar": {
              "outlinewidth": 0,
              "ticks": ""
             }
            },
            "type": "scatterpolar"
           }
          ],
          "scatterpolargl": [
           {
            "marker": {
             "colorbar": {
              "outlinewidth": 0,
              "ticks": ""
             }
            },
            "type": "scatterpolargl"
           }
          ],
          "scatterternary": [
           {
            "marker": {
             "colorbar": {
              "outlinewidth": 0,
              "ticks": ""
             }
            },
            "type": "scatterternary"
           }
          ],
          "surface": [
           {
            "colorbar": {
             "outlinewidth": 0,
             "ticks": ""
            },
            "colorscale": [
             [
              0,
              "#0d0887"
             ],
             [
              0.1111111111111111,
              "#46039f"
             ],
             [
              0.2222222222222222,
              "#7201a8"
             ],
             [
              0.3333333333333333,
              "#9c179e"
             ],
             [
              0.4444444444444444,
              "#bd3786"
             ],
             [
              0.5555555555555556,
              "#d8576b"
             ],
             [
              0.6666666666666666,
              "#ed7953"
             ],
             [
              0.7777777777777778,
              "#fb9f3a"
             ],
             [
              0.8888888888888888,
              "#fdca26"
             ],
             [
              1,
              "#f0f921"
             ]
            ],
            "type": "surface"
           }
          ],
          "table": [
           {
            "cells": {
             "fill": {
              "color": "#EBF0F8"
             },
             "line": {
              "color": "white"
             }
            },
            "header": {
             "fill": {
              "color": "#C8D4E3"
             },
             "line": {
              "color": "white"
             }
            },
            "type": "table"
           }
          ]
         },
         "layout": {
          "annotationdefaults": {
           "arrowcolor": "#2a3f5f",
           "arrowhead": 0,
           "arrowwidth": 1
          },
          "autotypenumbers": "strict",
          "coloraxis": {
           "colorbar": {
            "outlinewidth": 0,
            "ticks": ""
           }
          },
          "colorscale": {
           "diverging": [
            [
             0,
             "#8e0152"
            ],
            [
             0.1,
             "#c51b7d"
            ],
            [
             0.2,
             "#de77ae"
            ],
            [
             0.3,
             "#f1b6da"
            ],
            [
             0.4,
             "#fde0ef"
            ],
            [
             0.5,
             "#f7f7f7"
            ],
            [
             0.6,
             "#e6f5d0"
            ],
            [
             0.7,
             "#b8e186"
            ],
            [
             0.8,
             "#7fbc41"
            ],
            [
             0.9,
             "#4d9221"
            ],
            [
             1,
             "#276419"
            ]
           ],
           "sequential": [
            [
             0,
             "#0d0887"
            ],
            [
             0.1111111111111111,
             "#46039f"
            ],
            [
             0.2222222222222222,
             "#7201a8"
            ],
            [
             0.3333333333333333,
             "#9c179e"
            ],
            [
             0.4444444444444444,
             "#bd3786"
            ],
            [
             0.5555555555555556,
             "#d8576b"
            ],
            [
             0.6666666666666666,
             "#ed7953"
            ],
            [
             0.7777777777777778,
             "#fb9f3a"
            ],
            [
             0.8888888888888888,
             "#fdca26"
            ],
            [
             1,
             "#f0f921"
            ]
           ],
           "sequentialminus": [
            [
             0,
             "#0d0887"
            ],
            [
             0.1111111111111111,
             "#46039f"
            ],
            [
             0.2222222222222222,
             "#7201a8"
            ],
            [
             0.3333333333333333,
             "#9c179e"
            ],
            [
             0.4444444444444444,
             "#bd3786"
            ],
            [
             0.5555555555555556,
             "#d8576b"
            ],
            [
             0.6666666666666666,
             "#ed7953"
            ],
            [
             0.7777777777777778,
             "#fb9f3a"
            ],
            [
             0.8888888888888888,
             "#fdca26"
            ],
            [
             1,
             "#f0f921"
            ]
           ]
          },
          "colorway": [
           "#636efa",
           "#EF553B",
           "#00cc96",
           "#ab63fa",
           "#FFA15A",
           "#19d3f3",
           "#FF6692",
           "#B6E880",
           "#FF97FF",
           "#FECB52"
          ],
          "font": {
           "color": "#2a3f5f"
          },
          "geo": {
           "bgcolor": "white",
           "lakecolor": "white",
           "landcolor": "#E5ECF6",
           "showlakes": true,
           "showland": true,
           "subunitcolor": "white"
          },
          "hoverlabel": {
           "align": "left"
          },
          "hovermode": "closest",
          "mapbox": {
           "style": "light"
          },
          "paper_bgcolor": "white",
          "plot_bgcolor": "#E5ECF6",
          "polar": {
           "angularaxis": {
            "gridcolor": "white",
            "linecolor": "white",
            "ticks": ""
           },
           "bgcolor": "#E5ECF6",
           "radialaxis": {
            "gridcolor": "white",
            "linecolor": "white",
            "ticks": ""
           }
          },
          "scene": {
           "xaxis": {
            "backgroundcolor": "#E5ECF6",
            "gridcolor": "white",
            "gridwidth": 2,
            "linecolor": "white",
            "showbackground": true,
            "ticks": "",
            "zerolinecolor": "white"
           },
           "yaxis": {
            "backgroundcolor": "#E5ECF6",
            "gridcolor": "white",
            "gridwidth": 2,
            "linecolor": "white",
            "showbackground": true,
            "ticks": "",
            "zerolinecolor": "white"
           },
           "zaxis": {
            "backgroundcolor": "#E5ECF6",
            "gridcolor": "white",
            "gridwidth": 2,
            "linecolor": "white",
            "showbackground": true,
            "ticks": "",
            "zerolinecolor": "white"
           }
          },
          "shapedefaults": {
           "line": {
            "color": "#2a3f5f"
           }
          },
          "ternary": {
           "aaxis": {
            "gridcolor": "white",
            "linecolor": "white",
            "ticks": ""
           },
           "baxis": {
            "gridcolor": "white",
            "linecolor": "white",
            "ticks": ""
           },
           "bgcolor": "#E5ECF6",
           "caxis": {
            "gridcolor": "white",
            "linecolor": "white",
            "ticks": ""
           }
          },
          "title": {
           "x": 0.05
          },
          "xaxis": {
           "automargin": true,
           "gridcolor": "white",
           "linecolor": "white",
           "ticks": "",
           "title": {
            "standoff": 15
           },
           "zerolinecolor": "white",
           "zerolinewidth": 2
          },
          "yaxis": {
           "automargin": true,
           "gridcolor": "white",
           "linecolor": "white",
           "ticks": "",
           "title": {
            "standoff": 15
           },
           "zerolinecolor": "white",
           "zerolinewidth": 2
          }
         }
        },
        "title": {
         "text": "Violin plot of max_mae"
        },
        "violinmode": "group",
        "xaxis": {
         "anchor": "y",
         "domain": [
          0,
          1
         ],
         "title": {
          "text": "Pond_Type"
         }
        },
        "yaxis": {
         "anchor": "x",
         "domain": [
          0,
          1
         ],
         "title": {
          "text": "max_mae"
         }
        }
       }
      }
     },
     "metadata": {},
     "output_type": "display_data"
    },
    {
     "data": {
      "application/vnd.plotly.v1+json": {
       "config": {
        "plotlyServerURL": "https://plot.ly"
       },
       "data": [
        {
         "customdata": [
          [
           "carapace:undistorted_GX010067_33_625.jpg_gamma",
           "Prawn_0"
          ],
          [
           "carapace:undistorted_GX010067_33_625.jpg_gamma",
           "Prawn_1"
          ],
          [
           "carapace:undistorted_GX010067_33_625.jpg_gamma",
           "Prawn_2"
          ],
          [
           "carapace:undistorted_GX010067_33_625.jpg_gamma",
           "Prawn_3"
          ],
          [
           "carapace:undistorted_GX010068_26_666.jpg_gamma",
           "Prawn_0"
          ],
          [
           "carapace:undistorted_GX010068_26_666.jpg_gamma",
           "Prawn_1"
          ],
          [
           "carapace:undistorted_GX010068_26_666.jpg_gamma",
           "Prawn_2"
          ],
          [
           "carapace:undistorted_GX010068_27_795.jpg_gamma",
           "Prawn_2"
          ],
          [
           "carapace:undistorted_GX010069_19_191.jpg_gamma",
           "Prawn_0"
          ],
          [
           "carapace:undistorted_GX010069_19_191.jpg_gamma",
           "Prawn_1"
          ],
          [
           "carapace:undistorted_GX010069_19_191.jpg_gamma",
           "Prawn_2"
          ],
          [
           "carapace:undistorted_GX010069_19_191.jpg_gamma",
           "Prawn_3"
          ],
          [
           "carapace:undistorted_GX010069_53_796.jpg_gamma",
           "Prawn_1"
          ],
          [
           "carapace:undistorted_GX010071_22_444.jpg_gamma",
           "Prawn_0"
          ],
          [
           "carapace:undistorted_GX010073_42_695.jpg_gamma",
           "Prawn_0"
          ],
          [
           "carapace:undistorted_GX010073_42_695.jpg_gamma",
           "Prawn_1"
          ],
          [
           "carapace:undistorted_GX010073_42_695.jpg_gamma",
           "Prawn_2"
          ],
          [
           "carapace:undistorted_GX010073_55_1014.jpg_gamma",
           "Prawn_0"
          ],
          [
           "carapace:undistorted_GX010073_55_1014.jpg_gamma",
           "Prawn_3"
          ],
          [
           "carapace:undistorted_GX010077_14_237.jpg_gamma",
           "Prawn_0"
          ],
          [
           "carapace:undistorted_GX010077_14_237.jpg_gamma",
           "Prawn_1"
          ],
          [
           "carapace:undistorted_GX010077_14_237.jpg_gamma",
           "Prawn_2"
          ],
          [
           "carapace:undistorted_GX010080_157_2283.jpg_gamma",
           "Prawn_0"
          ],
          [
           "carapace:undistorted_GX010080_157_2283.jpg_gamma",
           "Prawn_1"
          ],
          [
           "carapace:undistorted_GX010080_157_2283.jpg_gamma",
           "Prawn_2"
          ],
          [
           "carapace:undistorted_GX010080_157_2283.jpg_gamma",
           "Prawn_3"
          ],
          [
           "carapace:undistorted_GX010080_157_2283.jpg_gamma",
           "Prawn_4"
          ],
          [
           "carapace:undistorted_GX010080_193_2640.jpg_gamma",
           "Prawn_0"
          ],
          [
           "carapace:undistorted_GX010080_193_2640.jpg_gamma",
           "Prawn_1"
          ],
          [
           "carapace:undistorted_GX010080_193_2640.jpg_gamma",
           "Prawn_4"
          ],
          [
           "carapace:undistorted_GX010080_212_2954.jpg_gamma",
           "Prawn_0"
          ],
          [
           "carapace:undistorted_GX010080_212_2954.jpg_gamma",
           "Prawn_1"
          ],
          [
           "carapace:undistorted_GX010080_212_2954.jpg_gamma",
           "Prawn_2"
          ],
          [
           "carapace:undistorted_GX010080_237_3366.jpg_gamma",
           "Prawn_0"
          ],
          [
           "carapace:undistorted_GX010080_237_3366.jpg_gamma",
           "Prawn_1"
          ],
          [
           "carapace:undistorted_GX010080_237_3366.jpg_gamma",
           "Prawn_2"
          ],
          [
           "carapace:undistorted_GX010080_237_3366.jpg_gamma",
           "Prawn_3"
          ],
          [
           "carapace:undistorted_GX010080_238_3392.jpg_gamma",
           "Prawn_0"
          ],
          [
           "carapace:undistorted_GX010080_238_3392.jpg_gamma",
           "Prawn_1"
          ],
          [
           "carapace:undistorted_GX010080_238_3392.jpg_gamma",
           "Prawn_2"
          ],
          [
           "carapace:undistorted_GX010080_238_3392.jpg_gamma",
           "Prawn_3"
          ],
          [
           "carapace:undistorted_GX010080_238_3392.jpg_gamma",
           "Prawn_4"
          ],
          [
           "carapace:undistorted_GX010082_8_59.jpg_gamma",
           "Prawn_0"
          ],
          [
           "carapace:undistorted_GX010082_8_59.jpg_gamma",
           "Prawn_1"
          ],
          [
           "carapace:undistorted_GX010082_8_59.jpg_gamma",
           "Prawn_2"
          ],
          [
           "carapace:undistorted_GX010082_8_59.jpg_gamma",
           "Prawn_3"
          ],
          [
           "carapace:undistorted_GX010082_8_59.jpg_gamma",
           "Prawn_4"
          ],
          [
           "carapace:undistorted_GX010082_8_59.jpg_gamma",
           "Prawn_5"
          ],
          [
           "carapace:undistorted_GX010082_53_796.jpg_gamma",
           "Prawn_0"
          ],
          [
           "carapace:undistorted_GX010082_53_796.jpg_gamma",
           "Prawn_1"
          ],
          [
           "carapace:undistorted_GX010082_65_1070.jpg_gamma",
           "Prawn_0"
          ],
          [
           "carapace:undistorted_GX010082_65_1070.jpg_gamma",
           "Prawn_1"
          ],
          [
           "carapace:undistorted_GX010082_65_1070.jpg_gamma",
           "Prawn_2"
          ],
          [
           "carapace:undistorted_GX010082_236_3137.jpg_gamma",
           "Prawn_1"
          ],
          [
           "carapace:undistorted_GX010082_236_3137.jpg_gamma",
           "Prawn_2"
          ],
          [
           "carapace:undistorted_GX010084_30_344.jpg_gamma",
           "Prawn_0"
          ],
          [
           "carapace:undistorted_GX010084_30_344.jpg_gamma",
           "Prawn_2"
          ],
          [
           "carapace:undistorted_GX010084_30_344.jpg_gamma",
           "Prawn_3"
          ],
          [
           "carapace:undistorted_GX010084_30_344.jpg_gamma",
           "Prawn_5"
          ],
          [
           "carapace:undistorted_GX010084_130_1748.jpg_gamma",
           "Prawn_0"
          ],
          [
           "carapace:undistorted_GX010084_130_1748.jpg_gamma",
           "Prawn_1"
          ],
          [
           "carapace:undistorted_GX010084_130_1748.jpg_gamma",
           "Prawn_2"
          ],
          [
           "carapace:undistorted_GX010084_130_1748.jpg_gamma",
           "Prawn_3"
          ],
          [
           "carapace:undistorted_GX010084_167_2291.jpg_gamma",
           "Prawn_0"
          ],
          [
           "carapace:undistorted_GX010084_167_2291.jpg_gamma",
           "Prawn_1"
          ],
          [
           "carapace:undistorted_GX010085_261_3610.jpg_gamma",
           "Prawn_0"
          ],
          [
           "carapace:undistorted_GX010085_261_3610.jpg_gamma",
           "Prawn_1"
          ],
          [
           "carapace:undistorted_GX010085_261_3610.jpg_gamma",
           "Prawn_2"
          ],
          [
           "carapace:undistorted_GX010085_263_3738.jpg_gamma",
           "Prawn_1"
          ],
          [
           "carapace:undistorted_GX010085_263_3738.jpg_gamma",
           "Prawn_3"
          ],
          [
           "carapace:undistorted_GX010088_262_3712.jpg_gamma",
           "Prawn_0"
          ],
          [
           "carapace:undistorted_GX010088_262_3712.jpg_gamma",
           "Prawn_2"
          ],
          [
           "carapace:undistorted_GX010088_262_3712.jpg_gamma",
           "Prawn_3"
          ],
          [
           "carapace:undistorted_GX010088_262_3712.jpg_gamma",
           "Prawn_4"
          ],
          [
           "carapace:undistorted_GX010088_262_3712.jpg_gamma",
           "Prawn_5"
          ],
          [
           "carapace:undistorted_GX010088_327_4364.jpg_gamma",
           "Prawn_0"
          ],
          [
           "carapace:undistorted_GX010088_327_4364.jpg_gamma",
           "Prawn_1"
          ],
          [
           "carapace:undistorted_GX010088_327_4364.jpg_gamma",
           "Prawn_2"
          ],
          [
           "carapace:undistorted_GX010088_327_4364.jpg_gamma",
           "Prawn_3"
          ],
          [
           "carapace:undistorted_GX010090_132_1852.jpg_gamma",
           "Prawn_0"
          ],
          [
           "carapace:undistorted_GX010090_132_1852.jpg_gamma",
           "Prawn_1"
          ],
          [
           "carapace:undistorted_GX010094_9_129.jpg_gamma",
           "Prawn_0"
          ],
          [
           "carapace:undistorted_GX010094_9_129.jpg_gamma",
           "Prawn_1"
          ],
          [
           "carapace:undistorted_GX010094_24_430.jpg_gamma",
           "Prawn_0"
          ],
          [
           "carapace:undistorted_GX010094_24_430.jpg_gamma",
           "Prawn_1"
          ],
          [
           "carapace:undistorted_GX010094_24_430.jpg_gamma",
           "Prawn_2"
          ],
          [
           "carapace:undistorted_GX010094_93_1258.jpg_gamma",
           "Prawn_0"
          ],
          [
           "carapace:undistorted_GX010094_93_1258.jpg_gamma",
           "Prawn_1"
          ],
          [
           "carapace:undistorted_GX010094_163_2312.jpg_gamma",
           "Prawn_0"
          ],
          [
           "carapace:undistorted_GX010096_107_1571.jpg_gamma",
           "Prawn_0"
          ],
          [
           "carapace:undistorted_GX010097_32_528.jpg_gamma",
           "Prawn_0"
          ],
          [
           "carapace:undistorted_GX010097_32_528.jpg_gamma",
           "Prawn_1"
          ],
          [
           "carapace:undistorted_GX010097_60_1080.jpg_gamma",
           "Prawn_1"
          ],
          [
           "carapace:undistorted_GX010097_105_1651.jpg_gamma",
           "Prawn_0"
          ],
          [
           "carapace:undistorted_GX010097_105_1651.jpg_gamma",
           "Prawn_1"
          ],
          [
           "carapace:undistorted_GX010097_105_1651.jpg_gamma",
           "Prawn_2"
          ],
          [
           "carapace:undistorted_GX010097_105_1651.jpg_gamma",
           "Prawn_3"
          ],
          [
           "carapace:undistorted_GX010097_124_1870.jpg_gamma",
           "Prawn_1"
          ],
          [
           "carapace:undistorted_GX010101_12_173.jpg_gamma",
           "Prawn_0"
          ]
         ],
         "hovertemplate": "Pond_Type=circular big male<br>min_mpe=%{x}<br>min difference=%{y}<br>Label=%{customdata[0]}<br>PrawnID=%{customdata[1]}<extra></extra>",
         "legendgroup": "circular big male",
         "marker": {
          "color": "#636efa",
          "symbol": "circle"
         },
         "mode": "markers",
         "name": "circular big male",
         "orientation": "v",
         "showlegend": true,
         "type": "scatter",
         "x": [
          6.147389440960136,
          0.3171787499571145,
          5.955076437768192,
          4.707340615411802,
          2.560480534260496,
          3.357556297405717,
          3.372352707435531,
          1.521970220707102,
          2.212403386533694,
          1.203228856519706,
          6.596257932630219,
          0.8724756932193755,
          2.047921188323401,
          20.51184471468857,
          2.013342945516055,
          14.58951595321621,
          5.734809369992758,
          6.446212203785505,
          0.6896748809722895,
          6.073869448328788,
          6.632150247266877,
          10.28901824573966,
          8.7352238029981,
          5.930781374142201,
          27.11410409083584,
          2.670273377809907,
          12.61634128873517,
          0.2192743050822953,
          11.26294487514559,
          7.721734632236004,
          5.822866375151829,
          0.9825856854590655,
          3.709929710116012,
          4.377112510226225,
          9.421682615584599,
          4.281471506861308,
          5.778975043600669,
          13.80053391454891,
          0.7526423096053366,
          11.63389310804993,
          7.986148647321285,
          2.009888164384503,
          14.24121168077769,
          5.086659346867308,
          11.00347638062639,
          9.401022190063436,
          1.274262458066279,
          1.009693987232476,
          6.314852070904255,
          6.324566897370046,
          2.528625541547931,
          0.8282226011610048,
          1.167783986760816,
          6.509051836417881,
          8.321796366952237,
          15.55439884680151,
          1.317807462533459,
          15.23523002831029,
          2.321120158830218,
          16.42499081399965,
          8.867815029386994,
          1.485924840967833,
          23.49850170205313,
          22.13293198709697,
          10.75538521666158,
          1.236265422499246,
          5.191969199316217,
          8.809688806317526,
          9.945882180633305,
          30.33117677966997,
          18.87342306568008,
          18.15972279402101,
          24.20080350448996,
          19.72589864559198,
          25.82453568329542,
          3.56950508057413,
          7.38017777134378,
          15.77937429699574,
          16.76722299573514,
          6.441446947641795,
          11.10285243454565,
          1.278552951756111,
          5.769187117319068,
          0.5389206876288659,
          0.2702572010804538,
          9.975547689572055,
          11.48122800903899,
          1.416171767232312,
          3.151085632180445,
          12.58453755385924,
          16.56292306055936,
          3.989117459842997,
          5.853770474197147,
          6.735308602338192,
          6.005660390057072,
          4.579898850901895,
          7.403654012080136,
          13.16924584675122,
          3.217669070543715
         ],
         "xaxis": "x",
         "y": [
          12.11964070658031,
          2.103140779271885,
          6.058226191968818,
          10.57162970668458,
          0.3062758703034287,
          3.653155866078595,
          0.3228419110168543,
          0.3413298346344932,
          3.476757358822121,
          16.31124050585418,
          3.213738037687992,
          1.876117714906675,
          0.8443247667754463,
          15.98457252915011,
          4.784352402026861,
          3.50699209524346,
          2.23112098797983,
          1.603530128604811,
          2.16015775733068,
          28.15096941312942,
          0.6888585497977562,
          2.349524198016177,
          19.48508434443895,
          24.23377430942984,
          30.43283130609899,
          2.461892847475443,
          2.830108957081836,
          15.1342211977591,
          2.732522165487417,
          3.41775294055891,
          5.541672840853481,
          20.21253575698199,
          0.8066194849980433,
          5.367192253258779,
          7.194400339360767,
          14.00345515988876,
          7.836957221175825,
          23.65093860642062,
          15.16763268438185,
          4.523002574301799,
          9.703609637350894,
          4.071266503283471,
          29.51264732279075,
          6.727076714942603,
          24.24987165881253,
          3.342940636961271,
          3.985263885111988,
          8.523480430592564,
          16.64471758288889,
          3.315591670430616,
          19.16613405300408,
          9.010451980616963,
          10.40581096540166,
          7.7836957983621,
          4.935789047829991,
          2.198707389608134,
          10.11346501319684,
          5.241018999652659,
          6.228762464593839,
          15.61797770615709,
          28.82868857252727,
          5.304617638279789,
          30.78032050901544,
          27.13549193159107,
          5.870216953094205,
          14.17077060709012,
          1.044431182040171,
          6.283060239304701,
          0.6859704120574402,
          26.11884452195938,
          38.09788230813015,
          4.236010728366903,
          34.7848295555638,
          2.209610137899664,
          5.555525858381362,
          14.14152697879912,
          0.09185177164700453,
          1.742751697160648,
          4.377777237663802,
          0.3621296965448725,
          6.307335957367505,
          20.24864405037724,
          11.67229429103208,
          24.23660283734594,
          23.78226396820567,
          5.076954576590246,
          38.17519899633913,
          5.02561577945979,
          7.501456627466251,
          23.02096927960199,
          4.188044220205519,
          1.311837968150646,
          11.11951247530057,
          3.558943170625448,
          16.31597183242583,
          8.671009052500255,
          9.474375596995033,
          11.82613855281229,
          0.04469578699165559
         ],
         "yaxis": "y"
        },
        {
         "customdata": [
          [
           "carapace:undistorted_GX010089_11_236.jpg_gamma",
           "Prawn_0"
          ],
          [
           "carapace:undistorted_GX010089_11_236.jpg_gamma",
           "Prawn_1"
          ],
          [
           "carapace:undistorted_GX010089_11_236.jpg_gamma",
           "Prawn_2"
          ],
          [
           "carapace:undistorted_GX010091_5_149.jpg_gamma",
           "Prawn_0"
          ],
          [
           "carapace:undistorted_GX010091_5_149.jpg_gamma",
           "Prawn_1"
          ],
          [
           "carapace:undistorted_GX010091_5_149.jpg_gamma",
           "Prawn_2"
          ],
          [
           "carapace:undistorted_GX010091_5_149.jpg_gamma",
           "Prawn_3"
          ],
          [
           "carapace:undistorted_GX010102_9_165.jpg_gamma",
           "Prawn_0"
          ],
          [
           "carapace:undistorted_GX010102_9_165.jpg_gamma",
           "Prawn_3"
          ],
          [
           "carapace:undistorted_GX010102_9_165.jpg_gamma",
           "Prawn_4"
          ],
          [
           "carapace:undistorted_GX010102_50_1396.jpg_gamma",
           "Prawn_0"
          ],
          [
           "carapace:undistorted_GX010105_28_816.jpg_gamma",
           "Prawn_0"
          ],
          [
           "carapace:undistorted_GX010105_28_816.jpg_gamma",
           "Prawn_1"
          ]
         ],
         "hovertemplate": "Pond_Type=circular small male<br>min_mpe=%{x}<br>min difference=%{y}<br>Label=%{customdata[0]}<br>PrawnID=%{customdata[1]}<extra></extra>",
         "legendgroup": "circular small male",
         "marker": {
          "color": "#EF553B",
          "symbol": "circle"
         },
         "mode": "markers",
         "name": "circular small male",
         "orientation": "v",
         "showlegend": true,
         "type": "scatter",
         "x": [
          14.11122341390577,
          11.72190199661931,
          8.182463687535597,
          7.433783671158896,
          7.686250930420159,
          10.5510429086784,
          73.11549964167735,
          8.29556422065076,
          2.273565567581195,
          0.6588626103110806,
          6.885701174274184,
          17.26406764137852,
          2.114173016802061
         ],
         "xaxis": "x",
         "y": [
          19.02479537758481,
          8.398703256461527,
          6.52730650866097,
          2.917369717770397,
          23.55088087989283,
          19.33896468948902,
          22.86186084169971,
          22.08696324697204,
          4.736151379688358,
          3.321247503403444,
          6.358926618320011,
          8.858515591836255,
          5.788267286859727
         ],
         "yaxis": "y"
        },
        {
         "customdata": [
          [
           "carapace:undistorted_GX010152_36_378.jpg_gamma",
           "Prawn_1"
          ],
          [
           "carapace:undistorted_GX010152_36_378.jpg_gamma",
           "Prawn_2"
          ],
          [
           "carapace:undistorted_GX010155_78_1170.jpg_gamma",
           "Prawn_0"
          ],
          [
           "carapace:undistorted_GX010157_68_883",
           "Prawn_0"
          ],
          [
           "carapace:undistorted_GX010157_160_2259",
           "Prawn_0"
          ],
          [
           "carapace:undistorted_GX010157_160_2259",
           "Prawn_1"
          ],
          [
           "carapace:undistorted_GX010157_174_2582.jpg_gamma",
           "Prawn_0"
          ],
          [
           "carapace:undistorted_GX010157_177_2665.jpg_gamma",
           "Prawn_0"
          ],
          [
           "carapace:undistorted_GX010161_54_676.jpg_gamma.jpg_gamma",
           "Prawn_0"
          ],
          [
           "carapace:undistorted_GX010161_136_2267.jpg_gamma.jpg_gamma",
           "Prawn_0"
          ],
          [
           "carapace:undistorted_GX010162_72_927.jpg_gamma.jpg_gamma",
           "Prawn_0"
          ],
          [
           "carapace:undistorted_GX010169_121_1249",
           "Prawn_0"
          ],
          [
           "carapace:undistorted_GX010173_75_922.jpg_gamma",
           "Prawn_0"
          ],
          [
           "carapace:undistorted_GX010174_62_790.jpg_gamma",
           "Prawn_0"
          ],
          [
           "carapace:undistorted_GX010174_104_1236",
           "Prawn_0"
          ],
          [
           "carapace:undistorted_GX010175_82_852.jpg_gamma",
           "Prawn_0"
          ],
          [
           "carapace:undistorted_GX010175_215_2644.jpg_gamma",
           "Prawn_0"
          ],
          [
           "carapace:undistorted_GX010175_266_3372.jpg_gamma.jpg_gamma",
           "Prawn_0"
          ],
          [
           "carapace:undistorted_GX010177_232_3047",
           "Prawn_0"
          ],
          [
           "carapace:undistorted_GX010178_107_2118",
           "Prawn_0"
          ],
          [
           "carapace:undistorted_GX010178_107_2118",
           "Prawn_1"
          ],
          [
           "carapace:undistorted_GX010178_114_2258",
           "Prawn_0"
          ],
          [
           "carapace:undistorted_GX010178_189_3987.jpg_gamma",
           "Prawn_0"
          ],
          [
           "carapace:undistorted_GX010178_189_3987.jpg_gamma",
           "Prawn_1"
          ],
          [
           "carapace:undistorted_GX010179_88_1697.jpg_gamma",
           "Prawn_0"
          ],
          [
           "carapace:undistorted_GX010179_200_3927.jpg_gamma",
           "Prawn_0"
          ],
          [
           "carapace:undistorted_GX010180_91_1563",
           "Prawn_0"
          ],
          [
           "carapace:undistorted_GX010180_99_1788",
           "Prawn_0"
          ],
          [
           "carapace:undistorted_GX010181_101_1542",
           "Prawn_0"
          ],
          [
           "carapace:undistorted_GX010183_37_685.jpg_gamma",
           "Prawn_0"
          ],
          [
           "carapace:undistorted_GX010183_37_685.jpg_gamma",
           "Prawn_1"
          ],
          [
           "carapace:undistorted_GX010183_37_685.jpg_gamma",
           "Prawn_2"
          ],
          [
           "carapace:undistorted_GX010183_80_1633.jpg_gamma",
           "Prawn_0"
          ],
          [
           "carapace:undistorted_GX010183_80_1633.jpg_gamma",
           "Prawn_1"
          ],
          [
           "carapace:undistorted_GX010183_128_2852.jpg_gamma",
           "Prawn_0"
          ],
          [
           "carapace:undistorted_GX010183_128_2852.jpg_gamma",
           "Prawn_1"
          ]
         ],
         "hovertemplate": "Pond_Type=square-femal<br>min_mpe=%{x}<br>min difference=%{y}<br>Label=%{customdata[0]}<br>PrawnID=%{customdata[1]}<extra></extra>",
         "legendgroup": "square-femal",
         "marker": {
          "color": "#00cc96",
          "symbol": "circle"
         },
         "mode": "markers",
         "name": "square-femal",
         "orientation": "v",
         "showlegend": true,
         "type": "scatter",
         "x": [
          27.39038487616479,
          33.2993286822533,
          18.59154965544419,
          39.20246970178587,
          24.52987776863934,
          58.17607830247056,
          29.77305384234789,
          26.0936257906536,
          22.3944285882912,
          36.88331448196285,
          4.178098370815081,
          21.03104951579584,
          43.85951059047651,
          18.19719965843588,
          0.7890761349963318,
          4.125099197804524,
          36.5443023290299,
          1.628025163823231,
          0.4773034562660036,
          15.92923454390855,
          2.53378776273245,
          2.480717679346082,
          18.46871920014902,
          7.854624970807468,
          1.361949679968942,
          1.474938318204914,
          14.41107827506975,
          5.361087842735911,
          21.75282149788319,
          37.43016489886606,
          7.303861522682109,
          42.96101256030701,
          17.70171247593945,
          10.8891006021457,
          24.8706948044533,
          7.735888744158573
         ],
         "xaxis": "x",
         "y": [
          29.97492881813917,
          37.6047478302651,
          29.34482776692238,
          2.4686645564415,
          9.741880610273304,
          57.76999413279332,
          41.11937639821686,
          26.34557766162095,
          9.878060028818071,
          16.28988373930311,
          9.263317145881162,
          35.60021760426198,
          43.54615602890797,
          37.23706386748857,
          4.00687196268459,
          19.45947131572885,
          7.707969379972301,
          7.449533332804564,
          4.823820513662107,
          3.55186052655524,
          32.29042804258479,
          4.646927023817343,
          10.47509279323445,
          13.25189022262956,
          7.386090221374808,
          0.4255469504723542,
          0.5206611931513184,
          3.674815924883488,
          8.022896789991352,
          35.00184435165629,
          18.3305924934762,
          25.1612306772597,
          32.12461914659642,
          3.725129610425369,
          9.271802244653012,
          17.94185601070591
         ],
         "yaxis": "y"
        }
       ],
       "layout": {
        "legend": {
         "title": {
          "text": "Pond_Type"
         },
         "tracegroupgap": 0
        },
        "margin": {
         "t": 60
        },
        "template": {
         "data": {
          "bar": [
           {
            "error_x": {
             "color": "#2a3f5f"
            },
            "error_y": {
             "color": "#2a3f5f"
            },
            "marker": {
             "line": {
              "color": "#E5ECF6",
              "width": 0.5
             },
             "pattern": {
              "fillmode": "overlay",
              "size": 10,
              "solidity": 0.2
             }
            },
            "type": "bar"
           }
          ],
          "barpolar": [
           {
            "marker": {
             "line": {
              "color": "#E5ECF6",
              "width": 0.5
             },
             "pattern": {
              "fillmode": "overlay",
              "size": 10,
              "solidity": 0.2
             }
            },
            "type": "barpolar"
           }
          ],
          "carpet": [
           {
            "aaxis": {
             "endlinecolor": "#2a3f5f",
             "gridcolor": "white",
             "linecolor": "white",
             "minorgridcolor": "white",
             "startlinecolor": "#2a3f5f"
            },
            "baxis": {
             "endlinecolor": "#2a3f5f",
             "gridcolor": "white",
             "linecolor": "white",
             "minorgridcolor": "white",
             "startlinecolor": "#2a3f5f"
            },
            "type": "carpet"
           }
          ],
          "choropleth": [
           {
            "colorbar": {
             "outlinewidth": 0,
             "ticks": ""
            },
            "type": "choropleth"
           }
          ],
          "contour": [
           {
            "colorbar": {
             "outlinewidth": 0,
             "ticks": ""
            },
            "colorscale": [
             [
              0,
              "#0d0887"
             ],
             [
              0.1111111111111111,
              "#46039f"
             ],
             [
              0.2222222222222222,
              "#7201a8"
             ],
             [
              0.3333333333333333,
              "#9c179e"
             ],
             [
              0.4444444444444444,
              "#bd3786"
             ],
             [
              0.5555555555555556,
              "#d8576b"
             ],
             [
              0.6666666666666666,
              "#ed7953"
             ],
             [
              0.7777777777777778,
              "#fb9f3a"
             ],
             [
              0.8888888888888888,
              "#fdca26"
             ],
             [
              1,
              "#f0f921"
             ]
            ],
            "type": "contour"
           }
          ],
          "contourcarpet": [
           {
            "colorbar": {
             "outlinewidth": 0,
             "ticks": ""
            },
            "type": "contourcarpet"
           }
          ],
          "heatmap": [
           {
            "colorbar": {
             "outlinewidth": 0,
             "ticks": ""
            },
            "colorscale": [
             [
              0,
              "#0d0887"
             ],
             [
              0.1111111111111111,
              "#46039f"
             ],
             [
              0.2222222222222222,
              "#7201a8"
             ],
             [
              0.3333333333333333,
              "#9c179e"
             ],
             [
              0.4444444444444444,
              "#bd3786"
             ],
             [
              0.5555555555555556,
              "#d8576b"
             ],
             [
              0.6666666666666666,
              "#ed7953"
             ],
             [
              0.7777777777777778,
              "#fb9f3a"
             ],
             [
              0.8888888888888888,
              "#fdca26"
             ],
             [
              1,
              "#f0f921"
             ]
            ],
            "type": "heatmap"
           }
          ],
          "heatmapgl": [
           {
            "colorbar": {
             "outlinewidth": 0,
             "ticks": ""
            },
            "colorscale": [
             [
              0,
              "#0d0887"
             ],
             [
              0.1111111111111111,
              "#46039f"
             ],
             [
              0.2222222222222222,
              "#7201a8"
             ],
             [
              0.3333333333333333,
              "#9c179e"
             ],
             [
              0.4444444444444444,
              "#bd3786"
             ],
             [
              0.5555555555555556,
              "#d8576b"
             ],
             [
              0.6666666666666666,
              "#ed7953"
             ],
             [
              0.7777777777777778,
              "#fb9f3a"
             ],
             [
              0.8888888888888888,
              "#fdca26"
             ],
             [
              1,
              "#f0f921"
             ]
            ],
            "type": "heatmapgl"
           }
          ],
          "histogram": [
           {
            "marker": {
             "pattern": {
              "fillmode": "overlay",
              "size": 10,
              "solidity": 0.2
             }
            },
            "type": "histogram"
           }
          ],
          "histogram2d": [
           {
            "colorbar": {
             "outlinewidth": 0,
             "ticks": ""
            },
            "colorscale": [
             [
              0,
              "#0d0887"
             ],
             [
              0.1111111111111111,
              "#46039f"
             ],
             [
              0.2222222222222222,
              "#7201a8"
             ],
             [
              0.3333333333333333,
              "#9c179e"
             ],
             [
              0.4444444444444444,
              "#bd3786"
             ],
             [
              0.5555555555555556,
              "#d8576b"
             ],
             [
              0.6666666666666666,
              "#ed7953"
             ],
             [
              0.7777777777777778,
              "#fb9f3a"
             ],
             [
              0.8888888888888888,
              "#fdca26"
             ],
             [
              1,
              "#f0f921"
             ]
            ],
            "type": "histogram2d"
           }
          ],
          "histogram2dcontour": [
           {
            "colorbar": {
             "outlinewidth": 0,
             "ticks": ""
            },
            "colorscale": [
             [
              0,
              "#0d0887"
             ],
             [
              0.1111111111111111,
              "#46039f"
             ],
             [
              0.2222222222222222,
              "#7201a8"
             ],
             [
              0.3333333333333333,
              "#9c179e"
             ],
             [
              0.4444444444444444,
              "#bd3786"
             ],
             [
              0.5555555555555556,
              "#d8576b"
             ],
             [
              0.6666666666666666,
              "#ed7953"
             ],
             [
              0.7777777777777778,
              "#fb9f3a"
             ],
             [
              0.8888888888888888,
              "#fdca26"
             ],
             [
              1,
              "#f0f921"
             ]
            ],
            "type": "histogram2dcontour"
           }
          ],
          "mesh3d": [
           {
            "colorbar": {
             "outlinewidth": 0,
             "ticks": ""
            },
            "type": "mesh3d"
           }
          ],
          "parcoords": [
           {
            "line": {
             "colorbar": {
              "outlinewidth": 0,
              "ticks": ""
             }
            },
            "type": "parcoords"
           }
          ],
          "pie": [
           {
            "automargin": true,
            "type": "pie"
           }
          ],
          "scatter": [
           {
            "fillpattern": {
             "fillmode": "overlay",
             "size": 10,
             "solidity": 0.2
            },
            "type": "scatter"
           }
          ],
          "scatter3d": [
           {
            "line": {
             "colorbar": {
              "outlinewidth": 0,
              "ticks": ""
             }
            },
            "marker": {
             "colorbar": {
              "outlinewidth": 0,
              "ticks": ""
             }
            },
            "type": "scatter3d"
           }
          ],
          "scattercarpet": [
           {
            "marker": {
             "colorbar": {
              "outlinewidth": 0,
              "ticks": ""
             }
            },
            "type": "scattercarpet"
           }
          ],
          "scattergeo": [
           {
            "marker": {
             "colorbar": {
              "outlinewidth": 0,
              "ticks": ""
             }
            },
            "type": "scattergeo"
           }
          ],
          "scattergl": [
           {
            "marker": {
             "colorbar": {
              "outlinewidth": 0,
              "ticks": ""
             }
            },
            "type": "scattergl"
           }
          ],
          "scattermapbox": [
           {
            "marker": {
             "colorbar": {
              "outlinewidth": 0,
              "ticks": ""
             }
            },
            "type": "scattermapbox"
           }
          ],
          "scatterpolar": [
           {
            "marker": {
             "colorbar": {
              "outlinewidth": 0,
              "ticks": ""
             }
            },
            "type": "scatterpolar"
           }
          ],
          "scatterpolargl": [
           {
            "marker": {
             "colorbar": {
              "outlinewidth": 0,
              "ticks": ""
             }
            },
            "type": "scatterpolargl"
           }
          ],
          "scatterternary": [
           {
            "marker": {
             "colorbar": {
              "outlinewidth": 0,
              "ticks": ""
             }
            },
            "type": "scatterternary"
           }
          ],
          "surface": [
           {
            "colorbar": {
             "outlinewidth": 0,
             "ticks": ""
            },
            "colorscale": [
             [
              0,
              "#0d0887"
             ],
             [
              0.1111111111111111,
              "#46039f"
             ],
             [
              0.2222222222222222,
              "#7201a8"
             ],
             [
              0.3333333333333333,
              "#9c179e"
             ],
             [
              0.4444444444444444,
              "#bd3786"
             ],
             [
              0.5555555555555556,
              "#d8576b"
             ],
             [
              0.6666666666666666,
              "#ed7953"
             ],
             [
              0.7777777777777778,
              "#fb9f3a"
             ],
             [
              0.8888888888888888,
              "#fdca26"
             ],
             [
              1,
              "#f0f921"
             ]
            ],
            "type": "surface"
           }
          ],
          "table": [
           {
            "cells": {
             "fill": {
              "color": "#EBF0F8"
             },
             "line": {
              "color": "white"
             }
            },
            "header": {
             "fill": {
              "color": "#C8D4E3"
             },
             "line": {
              "color": "white"
             }
            },
            "type": "table"
           }
          ]
         },
         "layout": {
          "annotationdefaults": {
           "arrowcolor": "#2a3f5f",
           "arrowhead": 0,
           "arrowwidth": 1
          },
          "autotypenumbers": "strict",
          "coloraxis": {
           "colorbar": {
            "outlinewidth": 0,
            "ticks": ""
           }
          },
          "colorscale": {
           "diverging": [
            [
             0,
             "#8e0152"
            ],
            [
             0.1,
             "#c51b7d"
            ],
            [
             0.2,
             "#de77ae"
            ],
            [
             0.3,
             "#f1b6da"
            ],
            [
             0.4,
             "#fde0ef"
            ],
            [
             0.5,
             "#f7f7f7"
            ],
            [
             0.6,
             "#e6f5d0"
            ],
            [
             0.7,
             "#b8e186"
            ],
            [
             0.8,
             "#7fbc41"
            ],
            [
             0.9,
             "#4d9221"
            ],
            [
             1,
             "#276419"
            ]
           ],
           "sequential": [
            [
             0,
             "#0d0887"
            ],
            [
             0.1111111111111111,
             "#46039f"
            ],
            [
             0.2222222222222222,
             "#7201a8"
            ],
            [
             0.3333333333333333,
             "#9c179e"
            ],
            [
             0.4444444444444444,
             "#bd3786"
            ],
            [
             0.5555555555555556,
             "#d8576b"
            ],
            [
             0.6666666666666666,
             "#ed7953"
            ],
            [
             0.7777777777777778,
             "#fb9f3a"
            ],
            [
             0.8888888888888888,
             "#fdca26"
            ],
            [
             1,
             "#f0f921"
            ]
           ],
           "sequentialminus": [
            [
             0,
             "#0d0887"
            ],
            [
             0.1111111111111111,
             "#46039f"
            ],
            [
             0.2222222222222222,
             "#7201a8"
            ],
            [
             0.3333333333333333,
             "#9c179e"
            ],
            [
             0.4444444444444444,
             "#bd3786"
            ],
            [
             0.5555555555555556,
             "#d8576b"
            ],
            [
             0.6666666666666666,
             "#ed7953"
            ],
            [
             0.7777777777777778,
             "#fb9f3a"
            ],
            [
             0.8888888888888888,
             "#fdca26"
            ],
            [
             1,
             "#f0f921"
            ]
           ]
          },
          "colorway": [
           "#636efa",
           "#EF553B",
           "#00cc96",
           "#ab63fa",
           "#FFA15A",
           "#19d3f3",
           "#FF6692",
           "#B6E880",
           "#FF97FF",
           "#FECB52"
          ],
          "font": {
           "color": "#2a3f5f"
          },
          "geo": {
           "bgcolor": "white",
           "lakecolor": "white",
           "landcolor": "#E5ECF6",
           "showlakes": true,
           "showland": true,
           "subunitcolor": "white"
          },
          "hoverlabel": {
           "align": "left"
          },
          "hovermode": "closest",
          "mapbox": {
           "style": "light"
          },
          "paper_bgcolor": "white",
          "plot_bgcolor": "#E5ECF6",
          "polar": {
           "angularaxis": {
            "gridcolor": "white",
            "linecolor": "white",
            "ticks": ""
           },
           "bgcolor": "#E5ECF6",
           "radialaxis": {
            "gridcolor": "white",
            "linecolor": "white",
            "ticks": ""
           }
          },
          "scene": {
           "xaxis": {
            "backgroundcolor": "#E5ECF6",
            "gridcolor": "white",
            "gridwidth": 2,
            "linecolor": "white",
            "showbackground": true,
            "ticks": "",
            "zerolinecolor": "white"
           },
           "yaxis": {
            "backgroundcolor": "#E5ECF6",
            "gridcolor": "white",
            "gridwidth": 2,
            "linecolor": "white",
            "showbackground": true,
            "ticks": "",
            "zerolinecolor": "white"
           },
           "zaxis": {
            "backgroundcolor": "#E5ECF6",
            "gridcolor": "white",
            "gridwidth": 2,
            "linecolor": "white",
            "showbackground": true,
            "ticks": "",
            "zerolinecolor": "white"
           }
          },
          "shapedefaults": {
           "line": {
            "color": "#2a3f5f"
           }
          },
          "ternary": {
           "aaxis": {
            "gridcolor": "white",
            "linecolor": "white",
            "ticks": ""
           },
           "baxis": {
            "gridcolor": "white",
            "linecolor": "white",
            "ticks": ""
           },
           "bgcolor": "#E5ECF6",
           "caxis": {
            "gridcolor": "white",
            "linecolor": "white",
            "ticks": ""
           }
          },
          "title": {
           "x": 0.05
          },
          "xaxis": {
           "automargin": true,
           "gridcolor": "white",
           "linecolor": "white",
           "ticks": "",
           "title": {
            "standoff": 15
           },
           "zerolinecolor": "white",
           "zerolinewidth": 2
          },
          "yaxis": {
           "automargin": true,
           "gridcolor": "white",
           "linecolor": "white",
           "ticks": "",
           "title": {
            "standoff": 15
           },
           "zerolinecolor": "white",
           "zerolinewidth": 2
          }
         }
        },
        "title": {
         "text": "min_mpe vs. difference_annotation_expert"
        },
        "xaxis": {
         "anchor": "y",
         "domain": [
          0,
          1
         ],
         "title": {
          "text": "min_mpe"
         }
        },
        "yaxis": {
         "anchor": "x",
         "domain": [
          0,
          1
         ],
         "title": {
          "text": "min difference"
         }
        }
       }
      }
     },
     "metadata": {},
     "output_type": "display_data"
    },
    {
     "data": {
      "application/vnd.plotly.v1+json": {
       "config": {
        "plotlyServerURL": "https://plot.ly"
       },
       "data": [
        {
         "customdata": [
          [
           "carapace:undistorted_GX010067_33_625.jpg_gamma",
           "Prawn_0"
          ],
          [
           "carapace:undistorted_GX010067_33_625.jpg_gamma",
           "Prawn_1"
          ],
          [
           "carapace:undistorted_GX010067_33_625.jpg_gamma",
           "Prawn_2"
          ],
          [
           "carapace:undistorted_GX010067_33_625.jpg_gamma",
           "Prawn_3"
          ],
          [
           "carapace:undistorted_GX010068_26_666.jpg_gamma",
           "Prawn_0"
          ],
          [
           "carapace:undistorted_GX010068_26_666.jpg_gamma",
           "Prawn_1"
          ],
          [
           "carapace:undistorted_GX010068_26_666.jpg_gamma",
           "Prawn_2"
          ],
          [
           "carapace:undistorted_GX010068_27_795.jpg_gamma",
           "Prawn_2"
          ],
          [
           "carapace:undistorted_GX010069_19_191.jpg_gamma",
           "Prawn_0"
          ],
          [
           "carapace:undistorted_GX010069_19_191.jpg_gamma",
           "Prawn_1"
          ],
          [
           "carapace:undistorted_GX010069_19_191.jpg_gamma",
           "Prawn_2"
          ],
          [
           "carapace:undistorted_GX010069_19_191.jpg_gamma",
           "Prawn_3"
          ],
          [
           "carapace:undistorted_GX010069_53_796.jpg_gamma",
           "Prawn_1"
          ],
          [
           "carapace:undistorted_GX010071_22_444.jpg_gamma",
           "Prawn_0"
          ],
          [
           "carapace:undistorted_GX010073_42_695.jpg_gamma",
           "Prawn_0"
          ],
          [
           "carapace:undistorted_GX010073_42_695.jpg_gamma",
           "Prawn_1"
          ],
          [
           "carapace:undistorted_GX010073_42_695.jpg_gamma",
           "Prawn_2"
          ],
          [
           "carapace:undistorted_GX010073_55_1014.jpg_gamma",
           "Prawn_0"
          ],
          [
           "carapace:undistorted_GX010073_55_1014.jpg_gamma",
           "Prawn_3"
          ],
          [
           "carapace:undistorted_GX010077_14_237.jpg_gamma",
           "Prawn_0"
          ],
          [
           "carapace:undistorted_GX010077_14_237.jpg_gamma",
           "Prawn_1"
          ],
          [
           "carapace:undistorted_GX010077_14_237.jpg_gamma",
           "Prawn_2"
          ],
          [
           "carapace:undistorted_GX010080_157_2283.jpg_gamma",
           "Prawn_0"
          ],
          [
           "carapace:undistorted_GX010080_157_2283.jpg_gamma",
           "Prawn_1"
          ],
          [
           "carapace:undistorted_GX010080_157_2283.jpg_gamma",
           "Prawn_2"
          ],
          [
           "carapace:undistorted_GX010080_157_2283.jpg_gamma",
           "Prawn_3"
          ],
          [
           "carapace:undistorted_GX010080_157_2283.jpg_gamma",
           "Prawn_4"
          ],
          [
           "carapace:undistorted_GX010080_193_2640.jpg_gamma",
           "Prawn_0"
          ],
          [
           "carapace:undistorted_GX010080_193_2640.jpg_gamma",
           "Prawn_1"
          ],
          [
           "carapace:undistorted_GX010080_193_2640.jpg_gamma",
           "Prawn_4"
          ],
          [
           "carapace:undistorted_GX010080_212_2954.jpg_gamma",
           "Prawn_0"
          ],
          [
           "carapace:undistorted_GX010080_212_2954.jpg_gamma",
           "Prawn_1"
          ],
          [
           "carapace:undistorted_GX010080_212_2954.jpg_gamma",
           "Prawn_2"
          ],
          [
           "carapace:undistorted_GX010080_237_3366.jpg_gamma",
           "Prawn_0"
          ],
          [
           "carapace:undistorted_GX010080_237_3366.jpg_gamma",
           "Prawn_1"
          ],
          [
           "carapace:undistorted_GX010080_237_3366.jpg_gamma",
           "Prawn_2"
          ],
          [
           "carapace:undistorted_GX010080_237_3366.jpg_gamma",
           "Prawn_3"
          ],
          [
           "carapace:undistorted_GX010080_238_3392.jpg_gamma",
           "Prawn_0"
          ],
          [
           "carapace:undistorted_GX010080_238_3392.jpg_gamma",
           "Prawn_1"
          ],
          [
           "carapace:undistorted_GX010080_238_3392.jpg_gamma",
           "Prawn_2"
          ],
          [
           "carapace:undistorted_GX010080_238_3392.jpg_gamma",
           "Prawn_3"
          ],
          [
           "carapace:undistorted_GX010080_238_3392.jpg_gamma",
           "Prawn_4"
          ],
          [
           "carapace:undistorted_GX010082_8_59.jpg_gamma",
           "Prawn_0"
          ],
          [
           "carapace:undistorted_GX010082_8_59.jpg_gamma",
           "Prawn_1"
          ],
          [
           "carapace:undistorted_GX010082_8_59.jpg_gamma",
           "Prawn_2"
          ],
          [
           "carapace:undistorted_GX010082_8_59.jpg_gamma",
           "Prawn_3"
          ],
          [
           "carapace:undistorted_GX010082_8_59.jpg_gamma",
           "Prawn_4"
          ],
          [
           "carapace:undistorted_GX010082_8_59.jpg_gamma",
           "Prawn_5"
          ],
          [
           "carapace:undistorted_GX010082_53_796.jpg_gamma",
           "Prawn_0"
          ],
          [
           "carapace:undistorted_GX010082_53_796.jpg_gamma",
           "Prawn_1"
          ],
          [
           "carapace:undistorted_GX010082_65_1070.jpg_gamma",
           "Prawn_0"
          ],
          [
           "carapace:undistorted_GX010082_65_1070.jpg_gamma",
           "Prawn_1"
          ],
          [
           "carapace:undistorted_GX010082_65_1070.jpg_gamma",
           "Prawn_2"
          ],
          [
           "carapace:undistorted_GX010082_236_3137.jpg_gamma",
           "Prawn_1"
          ],
          [
           "carapace:undistorted_GX010082_236_3137.jpg_gamma",
           "Prawn_2"
          ],
          [
           "carapace:undistorted_GX010084_30_344.jpg_gamma",
           "Prawn_0"
          ],
          [
           "carapace:undistorted_GX010084_30_344.jpg_gamma",
           "Prawn_2"
          ],
          [
           "carapace:undistorted_GX010084_30_344.jpg_gamma",
           "Prawn_3"
          ],
          [
           "carapace:undistorted_GX010084_30_344.jpg_gamma",
           "Prawn_5"
          ],
          [
           "carapace:undistorted_GX010084_130_1748.jpg_gamma",
           "Prawn_0"
          ],
          [
           "carapace:undistorted_GX010084_130_1748.jpg_gamma",
           "Prawn_1"
          ],
          [
           "carapace:undistorted_GX010084_130_1748.jpg_gamma",
           "Prawn_2"
          ],
          [
           "carapace:undistorted_GX010084_130_1748.jpg_gamma",
           "Prawn_3"
          ],
          [
           "carapace:undistorted_GX010084_167_2291.jpg_gamma",
           "Prawn_0"
          ],
          [
           "carapace:undistorted_GX010084_167_2291.jpg_gamma",
           "Prawn_1"
          ],
          [
           "carapace:undistorted_GX010085_261_3610.jpg_gamma",
           "Prawn_0"
          ],
          [
           "carapace:undistorted_GX010085_261_3610.jpg_gamma",
           "Prawn_1"
          ],
          [
           "carapace:undistorted_GX010085_261_3610.jpg_gamma",
           "Prawn_2"
          ],
          [
           "carapace:undistorted_GX010085_263_3738.jpg_gamma",
           "Prawn_1"
          ],
          [
           "carapace:undistorted_GX010085_263_3738.jpg_gamma",
           "Prawn_3"
          ],
          [
           "carapace:undistorted_GX010088_262_3712.jpg_gamma",
           "Prawn_0"
          ],
          [
           "carapace:undistorted_GX010088_262_3712.jpg_gamma",
           "Prawn_2"
          ],
          [
           "carapace:undistorted_GX010088_262_3712.jpg_gamma",
           "Prawn_3"
          ],
          [
           "carapace:undistorted_GX010088_262_3712.jpg_gamma",
           "Prawn_4"
          ],
          [
           "carapace:undistorted_GX010088_262_3712.jpg_gamma",
           "Prawn_5"
          ],
          [
           "carapace:undistorted_GX010088_327_4364.jpg_gamma",
           "Prawn_0"
          ],
          [
           "carapace:undistorted_GX010088_327_4364.jpg_gamma",
           "Prawn_1"
          ],
          [
           "carapace:undistorted_GX010088_327_4364.jpg_gamma",
           "Prawn_2"
          ],
          [
           "carapace:undistorted_GX010088_327_4364.jpg_gamma",
           "Prawn_3"
          ],
          [
           "carapace:undistorted_GX010090_132_1852.jpg_gamma",
           "Prawn_0"
          ],
          [
           "carapace:undistorted_GX010090_132_1852.jpg_gamma",
           "Prawn_1"
          ],
          [
           "carapace:undistorted_GX010094_9_129.jpg_gamma",
           "Prawn_0"
          ],
          [
           "carapace:undistorted_GX010094_9_129.jpg_gamma",
           "Prawn_1"
          ],
          [
           "carapace:undistorted_GX010094_24_430.jpg_gamma",
           "Prawn_0"
          ],
          [
           "carapace:undistorted_GX010094_24_430.jpg_gamma",
           "Prawn_1"
          ],
          [
           "carapace:undistorted_GX010094_24_430.jpg_gamma",
           "Prawn_2"
          ],
          [
           "carapace:undistorted_GX010094_93_1258.jpg_gamma",
           "Prawn_0"
          ],
          [
           "carapace:undistorted_GX010094_93_1258.jpg_gamma",
           "Prawn_1"
          ],
          [
           "carapace:undistorted_GX010094_163_2312.jpg_gamma",
           "Prawn_0"
          ],
          [
           "carapace:undistorted_GX010096_107_1571.jpg_gamma",
           "Prawn_0"
          ],
          [
           "carapace:undistorted_GX010097_32_528.jpg_gamma",
           "Prawn_0"
          ],
          [
           "carapace:undistorted_GX010097_32_528.jpg_gamma",
           "Prawn_1"
          ],
          [
           "carapace:undistorted_GX010097_60_1080.jpg_gamma",
           "Prawn_1"
          ],
          [
           "carapace:undistorted_GX010097_105_1651.jpg_gamma",
           "Prawn_0"
          ],
          [
           "carapace:undistorted_GX010097_105_1651.jpg_gamma",
           "Prawn_1"
          ],
          [
           "carapace:undistorted_GX010097_105_1651.jpg_gamma",
           "Prawn_2"
          ],
          [
           "carapace:undistorted_GX010097_105_1651.jpg_gamma",
           "Prawn_3"
          ],
          [
           "carapace:undistorted_GX010097_124_1870.jpg_gamma",
           "Prawn_1"
          ],
          [
           "carapace:undistorted_GX010101_12_173.jpg_gamma",
           "Prawn_0"
          ]
         ],
         "hovertemplate": "Pond_Type=circular big male<br>min_mpe=%{x}<br>pose_eval_iou=%{y}<br>Label=%{customdata[0]}<br>PrawnID=%{customdata[1]}<extra></extra>",
         "legendgroup": "circular big male",
         "marker": {
          "color": "#636efa",
          "symbol": "circle"
         },
         "mode": "markers",
         "name": "circular big male",
         "orientation": "v",
         "showlegend": true,
         "type": "scatter",
         "x": [
          6.147389440960136,
          0.3171787499571145,
          5.955076437768192,
          4.707340615411802,
          2.560480534260496,
          3.357556297405717,
          3.372352707435531,
          1.521970220707102,
          2.212403386533694,
          1.203228856519706,
          6.596257932630219,
          0.8724756932193755,
          2.047921188323401,
          20.51184471468857,
          2.013342945516055,
          14.58951595321621,
          5.734809369992758,
          6.446212203785505,
          0.6896748809722895,
          6.073869448328788,
          6.632150247266877,
          10.28901824573966,
          8.7352238029981,
          5.930781374142201,
          27.11410409083584,
          2.670273377809907,
          12.61634128873517,
          0.2192743050822953,
          11.26294487514559,
          7.721734632236004,
          5.822866375151829,
          0.9825856854590655,
          3.709929710116012,
          4.377112510226225,
          9.421682615584599,
          4.281471506861308,
          5.778975043600669,
          13.80053391454891,
          0.7526423096053366,
          11.63389310804993,
          7.986148647321285,
          2.009888164384503,
          14.24121168077769,
          5.086659346867308,
          11.00347638062639,
          9.401022190063436,
          1.274262458066279,
          1.009693987232476,
          6.314852070904255,
          6.324566897370046,
          2.528625541547931,
          0.8282226011610048,
          1.167783986760816,
          6.509051836417881,
          8.321796366952237,
          15.55439884680151,
          1.317807462533459,
          15.23523002831029,
          2.321120158830218,
          16.42499081399965,
          8.867815029386994,
          1.485924840967833,
          23.49850170205313,
          22.13293198709697,
          10.75538521666158,
          1.236265422499246,
          5.191969199316217,
          8.809688806317526,
          9.945882180633305,
          30.33117677966997,
          18.87342306568008,
          18.15972279402101,
          24.20080350448996,
          19.72589864559198,
          25.82453568329542,
          3.56950508057413,
          7.38017777134378,
          15.77937429699574,
          16.76722299573514,
          6.441446947641795,
          11.10285243454565,
          1.278552951756111,
          5.769187117319068,
          0.5389206876288659,
          0.2702572010804538,
          9.975547689572055,
          11.48122800903899,
          1.416171767232312,
          3.151085632180445,
          12.58453755385924,
          16.56292306055936,
          3.989117459842997,
          5.853770474197147,
          6.735308602338192,
          6.005660390057072,
          4.579898850901895,
          7.403654012080136,
          13.16924584675122,
          3.217669070543715
         ],
         "xaxis": "x",
         "y": [
          0.931093026812575,
          0.8915517957772378,
          0.9845026843260742,
          0.8703659401413183,
          0.9454158755583952,
          0.9207572384545535,
          0.9980575364141113,
          0.9815142369802182,
          0.9205551337783308,
          0.8846870864854669,
          0.9645534678230094,
          0.7429310512176706,
          0.9394532793075365,
          0.984783433413809,
          0.9904305234937628,
          0.9535429479097384,
          0.8858197179221321,
          0.9649237523910981,
          0.5996241411298566,
          0.9493924387458532,
          0.9627419770822969,
          0.7521633542128734,
          0.9676638995212861,
          0.8686132113593561,
          0.8007044776373631,
          0.9536967273331884,
          0.726951361062332,
          0.9441230731824004,
          0.9523875525999002,
          0.5905874344116662,
          0.8968262805559701,
          0.9259907574710414,
          0.9646970195053299,
          0.9799708671437923,
          0.9478406730988945,
          0.6792319492848132,
          0.8998671896578967,
          0.9572274154754559,
          0.8824117920846783,
          0.7489627966810937,
          0.9571576665365342,
          0.9883236980106775,
          0.8882258618506267,
          0.9013370143492309,
          0.9370641243605071,
          0.8533997831118163,
          0.8882258618506267,
          0.8296636048458956,
          0.8964459112669956,
          0.9849522835179616,
          0.8163262551979622,
          0.7791935043689573,
          0.7603170909204702,
          0.5374726112170195,
          0.9657947331155413,
          0.8172773353988583,
          0.95114991807762,
          0.9713479889305376,
          0.84830529316353,
          0.6656067885610286,
          0.9374135761603815,
          0.8884303546239278,
          0.9577152052623559,
          0.9378491691794111,
          0.9310852892330113,
          0.9909374783237703,
          0.9909374783237703,
          0.9591681250149979,
          0.9870018251029924,
          0.9777425581295268,
          0.7053725327002828,
          0.8373008646873157,
          0.6789197951045104,
          0.9647348684739061,
          0.9647348684739061,
          0.5070727800145864,
          0.8779639211359309,
          0.9725635304842759,
          0.9574301074178719,
          0.9669565747302903,
          0.7326766217741063,
          0.9126972833230009,
          0.9525798151358653,
          0.7513587334080438,
          0.945796104386387,
          0.9699476295327571,
          0.969220422537264,
          0.969220422537264,
          0.9446703969804694,
          0.9838681480465532,
          0.8891602179434477,
          0.9532258813657428,
          0.8500703152957096,
          0.8663864460795556,
          0.8319756932482765,
          0.9252805704727876,
          0.7398062511014591,
          0.9660535759318325,
          0.9477576795858187
         ],
         "yaxis": "y"
        },
        {
         "customdata": [
          [
           "carapace:undistorted_GX010089_11_236.jpg_gamma",
           "Prawn_0"
          ],
          [
           "carapace:undistorted_GX010089_11_236.jpg_gamma",
           "Prawn_1"
          ],
          [
           "carapace:undistorted_GX010089_11_236.jpg_gamma",
           "Prawn_2"
          ],
          [
           "carapace:undistorted_GX010091_5_149.jpg_gamma",
           "Prawn_0"
          ],
          [
           "carapace:undistorted_GX010091_5_149.jpg_gamma",
           "Prawn_1"
          ],
          [
           "carapace:undistorted_GX010091_5_149.jpg_gamma",
           "Prawn_2"
          ],
          [
           "carapace:undistorted_GX010091_5_149.jpg_gamma",
           "Prawn_3"
          ],
          [
           "carapace:undistorted_GX010102_9_165.jpg_gamma",
           "Prawn_0"
          ],
          [
           "carapace:undistorted_GX010102_9_165.jpg_gamma",
           "Prawn_3"
          ],
          [
           "carapace:undistorted_GX010102_9_165.jpg_gamma",
           "Prawn_4"
          ],
          [
           "carapace:undistorted_GX010102_50_1396.jpg_gamma",
           "Prawn_0"
          ],
          [
           "carapace:undistorted_GX010105_28_816.jpg_gamma",
           "Prawn_0"
          ],
          [
           "carapace:undistorted_GX010105_28_816.jpg_gamma",
           "Prawn_1"
          ]
         ],
         "hovertemplate": "Pond_Type=circular small male<br>min_mpe=%{x}<br>pose_eval_iou=%{y}<br>Label=%{customdata[0]}<br>PrawnID=%{customdata[1]}<extra></extra>",
         "legendgroup": "circular small male",
         "marker": {
          "color": "#EF553B",
          "symbol": "circle"
         },
         "mode": "markers",
         "name": "circular small male",
         "orientation": "v",
         "showlegend": true,
         "type": "scatter",
         "x": [
          14.11122341390577,
          11.72190199661931,
          8.182463687535597,
          7.433783671158896,
          7.686250930420159,
          10.5510429086784,
          73.11549964167735,
          8.29556422065076,
          2.273565567581195,
          0.6588626103110806,
          6.885701174274184,
          17.26406764137852,
          2.114173016802061
         ],
         "xaxis": "x",
         "y": [
          0.8969195400135201,
          0.9497255642846731,
          0.6890822725012009,
          0.8059451498950079,
          0.7293635979998015,
          0.7671415334617067,
          0.6767702382023115,
          0.9215651814782921,
          0.9863518547892403,
          0.9473491615640999,
          0.9353287701298009,
          0.8594875576134621,
          0.8748182078014123
         ],
         "yaxis": "y"
        },
        {
         "customdata": [
          [
           "carapace:undistorted_GX010152_36_378.jpg_gamma",
           "Prawn_1"
          ],
          [
           "carapace:undistorted_GX010152_36_378.jpg_gamma",
           "Prawn_2"
          ],
          [
           "carapace:undistorted_GX010155_78_1170.jpg_gamma",
           "Prawn_0"
          ],
          [
           "carapace:undistorted_GX010157_68_883",
           "Prawn_0"
          ],
          [
           "carapace:undistorted_GX010157_160_2259",
           "Prawn_0"
          ],
          [
           "carapace:undistorted_GX010157_160_2259",
           "Prawn_1"
          ],
          [
           "carapace:undistorted_GX010157_174_2582.jpg_gamma",
           "Prawn_0"
          ],
          [
           "carapace:undistorted_GX010157_177_2665.jpg_gamma",
           "Prawn_0"
          ],
          [
           "carapace:undistorted_GX010161_54_676.jpg_gamma.jpg_gamma",
           "Prawn_0"
          ],
          [
           "carapace:undistorted_GX010161_136_2267.jpg_gamma.jpg_gamma",
           "Prawn_0"
          ],
          [
           "carapace:undistorted_GX010162_72_927.jpg_gamma.jpg_gamma",
           "Prawn_0"
          ],
          [
           "carapace:undistorted_GX010169_121_1249",
           "Prawn_0"
          ],
          [
           "carapace:undistorted_GX010173_75_922.jpg_gamma",
           "Prawn_0"
          ],
          [
           "carapace:undistorted_GX010174_62_790.jpg_gamma",
           "Prawn_0"
          ],
          [
           "carapace:undistorted_GX010174_104_1236",
           "Prawn_0"
          ],
          [
           "carapace:undistorted_GX010175_82_852.jpg_gamma",
           "Prawn_0"
          ],
          [
           "carapace:undistorted_GX010175_215_2644.jpg_gamma",
           "Prawn_0"
          ],
          [
           "carapace:undistorted_GX010175_266_3372.jpg_gamma.jpg_gamma",
           "Prawn_0"
          ],
          [
           "carapace:undistorted_GX010177_232_3047",
           "Prawn_0"
          ],
          [
           "carapace:undistorted_GX010178_107_2118",
           "Prawn_0"
          ],
          [
           "carapace:undistorted_GX010178_107_2118",
           "Prawn_1"
          ],
          [
           "carapace:undistorted_GX010178_114_2258",
           "Prawn_0"
          ],
          [
           "carapace:undistorted_GX010178_189_3987.jpg_gamma",
           "Prawn_0"
          ],
          [
           "carapace:undistorted_GX010178_189_3987.jpg_gamma",
           "Prawn_1"
          ],
          [
           "carapace:undistorted_GX010179_88_1697.jpg_gamma",
           "Prawn_0"
          ],
          [
           "carapace:undistorted_GX010179_200_3927.jpg_gamma",
           "Prawn_0"
          ],
          [
           "carapace:undistorted_GX010180_91_1563",
           "Prawn_0"
          ],
          [
           "carapace:undistorted_GX010180_99_1788",
           "Prawn_0"
          ],
          [
           "carapace:undistorted_GX010181_101_1542",
           "Prawn_0"
          ],
          [
           "carapace:undistorted_GX010183_37_685.jpg_gamma",
           "Prawn_0"
          ],
          [
           "carapace:undistorted_GX010183_37_685.jpg_gamma",
           "Prawn_1"
          ],
          [
           "carapace:undistorted_GX010183_37_685.jpg_gamma",
           "Prawn_2"
          ],
          [
           "carapace:undistorted_GX010183_80_1633.jpg_gamma",
           "Prawn_0"
          ],
          [
           "carapace:undistorted_GX010183_80_1633.jpg_gamma",
           "Prawn_1"
          ],
          [
           "carapace:undistorted_GX010183_128_2852.jpg_gamma",
           "Prawn_0"
          ],
          [
           "carapace:undistorted_GX010183_128_2852.jpg_gamma",
           "Prawn_1"
          ]
         ],
         "hovertemplate": "Pond_Type=square-femal<br>min_mpe=%{x}<br>pose_eval_iou=%{y}<br>Label=%{customdata[0]}<br>PrawnID=%{customdata[1]}<extra></extra>",
         "legendgroup": "square-femal",
         "marker": {
          "color": "#00cc96",
          "symbol": "circle"
         },
         "mode": "markers",
         "name": "square-femal",
         "orientation": "v",
         "showlegend": true,
         "type": "scatter",
         "x": [
          27.39038487616479,
          33.2993286822533,
          18.59154965544419,
          39.20246970178587,
          24.52987776863934,
          58.17607830247056,
          29.77305384234789,
          26.0936257906536,
          22.3944285882912,
          36.88331448196285,
          4.178098370815081,
          21.03104951579584,
          43.85951059047651,
          18.19719965843588,
          0.7890761349963318,
          4.125099197804524,
          36.5443023290299,
          1.628025163823231,
          0.4773034562660036,
          15.92923454390855,
          2.53378776273245,
          2.480717679346082,
          18.46871920014902,
          7.854624970807468,
          1.361949679968942,
          1.474938318204914,
          14.41107827506975,
          5.361087842735911,
          21.75282149788319,
          37.43016489886606,
          7.303861522682109,
          42.96101256030701,
          17.70171247593945,
          10.8891006021457,
          24.8706948044533,
          7.735888744158573
         ],
         "xaxis": "x",
         "y": [
          0.9833973078174223,
          0.9907757449843471,
          0.9856888588001179,
          0.9330575156040435,
          0.9911087335870564,
          0.9919337984308336,
          0.7706545249816008,
          0.75307680584626,
          0.9930245413233378,
          0.8900975838396811,
          0.927916565047993,
          0.9587145965443284,
          0.9857749076285354,
          0.6801512291766592,
          0.7477516500442793,
          0.8583861077303945,
          0.7688763153237433,
          0.9231671795781169,
          0.932855857840301,
          0.9031187097197093,
          0.5617760912601703,
          0.9638751121192215,
          0.9536910272539569,
          0.8181881689495749,
          0.9835009794499538,
          0.9889768329223187,
          0.9294947549472434,
          0.7355078140554947,
          0.9498652239219343,
          0.9768361512949595,
          0.8292845851897255,
          0.8581906133878546,
          0.8919470757532783,
          0.8919470757532783,
          0.8017430160414579,
          0.8017430160414579
         ],
         "yaxis": "y"
        }
       ],
       "layout": {
        "legend": {
         "title": {
          "text": "Pond_Type"
         },
         "tracegroupgap": 0
        },
        "margin": {
         "t": 60
        },
        "template": {
         "data": {
          "bar": [
           {
            "error_x": {
             "color": "#2a3f5f"
            },
            "error_y": {
             "color": "#2a3f5f"
            },
            "marker": {
             "line": {
              "color": "#E5ECF6",
              "width": 0.5
             },
             "pattern": {
              "fillmode": "overlay",
              "size": 10,
              "solidity": 0.2
             }
            },
            "type": "bar"
           }
          ],
          "barpolar": [
           {
            "marker": {
             "line": {
              "color": "#E5ECF6",
              "width": 0.5
             },
             "pattern": {
              "fillmode": "overlay",
              "size": 10,
              "solidity": 0.2
             }
            },
            "type": "barpolar"
           }
          ],
          "carpet": [
           {
            "aaxis": {
             "endlinecolor": "#2a3f5f",
             "gridcolor": "white",
             "linecolor": "white",
             "minorgridcolor": "white",
             "startlinecolor": "#2a3f5f"
            },
            "baxis": {
             "endlinecolor": "#2a3f5f",
             "gridcolor": "white",
             "linecolor": "white",
             "minorgridcolor": "white",
             "startlinecolor": "#2a3f5f"
            },
            "type": "carpet"
           }
          ],
          "choropleth": [
           {
            "colorbar": {
             "outlinewidth": 0,
             "ticks": ""
            },
            "type": "choropleth"
           }
          ],
          "contour": [
           {
            "colorbar": {
             "outlinewidth": 0,
             "ticks": ""
            },
            "colorscale": [
             [
              0,
              "#0d0887"
             ],
             [
              0.1111111111111111,
              "#46039f"
             ],
             [
              0.2222222222222222,
              "#7201a8"
             ],
             [
              0.3333333333333333,
              "#9c179e"
             ],
             [
              0.4444444444444444,
              "#bd3786"
             ],
             [
              0.5555555555555556,
              "#d8576b"
             ],
             [
              0.6666666666666666,
              "#ed7953"
             ],
             [
              0.7777777777777778,
              "#fb9f3a"
             ],
             [
              0.8888888888888888,
              "#fdca26"
             ],
             [
              1,
              "#f0f921"
             ]
            ],
            "type": "contour"
           }
          ],
          "contourcarpet": [
           {
            "colorbar": {
             "outlinewidth": 0,
             "ticks": ""
            },
            "type": "contourcarpet"
           }
          ],
          "heatmap": [
           {
            "colorbar": {
             "outlinewidth": 0,
             "ticks": ""
            },
            "colorscale": [
             [
              0,
              "#0d0887"
             ],
             [
              0.1111111111111111,
              "#46039f"
             ],
             [
              0.2222222222222222,
              "#7201a8"
             ],
             [
              0.3333333333333333,
              "#9c179e"
             ],
             [
              0.4444444444444444,
              "#bd3786"
             ],
             [
              0.5555555555555556,
              "#d8576b"
             ],
             [
              0.6666666666666666,
              "#ed7953"
             ],
             [
              0.7777777777777778,
              "#fb9f3a"
             ],
             [
              0.8888888888888888,
              "#fdca26"
             ],
             [
              1,
              "#f0f921"
             ]
            ],
            "type": "heatmap"
           }
          ],
          "heatmapgl": [
           {
            "colorbar": {
             "outlinewidth": 0,
             "ticks": ""
            },
            "colorscale": [
             [
              0,
              "#0d0887"
             ],
             [
              0.1111111111111111,
              "#46039f"
             ],
             [
              0.2222222222222222,
              "#7201a8"
             ],
             [
              0.3333333333333333,
              "#9c179e"
             ],
             [
              0.4444444444444444,
              "#bd3786"
             ],
             [
              0.5555555555555556,
              "#d8576b"
             ],
             [
              0.6666666666666666,
              "#ed7953"
             ],
             [
              0.7777777777777778,
              "#fb9f3a"
             ],
             [
              0.8888888888888888,
              "#fdca26"
             ],
             [
              1,
              "#f0f921"
             ]
            ],
            "type": "heatmapgl"
           }
          ],
          "histogram": [
           {
            "marker": {
             "pattern": {
              "fillmode": "overlay",
              "size": 10,
              "solidity": 0.2
             }
            },
            "type": "histogram"
           }
          ],
          "histogram2d": [
           {
            "colorbar": {
             "outlinewidth": 0,
             "ticks": ""
            },
            "colorscale": [
             [
              0,
              "#0d0887"
             ],
             [
              0.1111111111111111,
              "#46039f"
             ],
             [
              0.2222222222222222,
              "#7201a8"
             ],
             [
              0.3333333333333333,
              "#9c179e"
             ],
             [
              0.4444444444444444,
              "#bd3786"
             ],
             [
              0.5555555555555556,
              "#d8576b"
             ],
             [
              0.6666666666666666,
              "#ed7953"
             ],
             [
              0.7777777777777778,
              "#fb9f3a"
             ],
             [
              0.8888888888888888,
              "#fdca26"
             ],
             [
              1,
              "#f0f921"
             ]
            ],
            "type": "histogram2d"
           }
          ],
          "histogram2dcontour": [
           {
            "colorbar": {
             "outlinewidth": 0,
             "ticks": ""
            },
            "colorscale": [
             [
              0,
              "#0d0887"
             ],
             [
              0.1111111111111111,
              "#46039f"
             ],
             [
              0.2222222222222222,
              "#7201a8"
             ],
             [
              0.3333333333333333,
              "#9c179e"
             ],
             [
              0.4444444444444444,
              "#bd3786"
             ],
             [
              0.5555555555555556,
              "#d8576b"
             ],
             [
              0.6666666666666666,
              "#ed7953"
             ],
             [
              0.7777777777777778,
              "#fb9f3a"
             ],
             [
              0.8888888888888888,
              "#fdca26"
             ],
             [
              1,
              "#f0f921"
             ]
            ],
            "type": "histogram2dcontour"
           }
          ],
          "mesh3d": [
           {
            "colorbar": {
             "outlinewidth": 0,
             "ticks": ""
            },
            "type": "mesh3d"
           }
          ],
          "parcoords": [
           {
            "line": {
             "colorbar": {
              "outlinewidth": 0,
              "ticks": ""
             }
            },
            "type": "parcoords"
           }
          ],
          "pie": [
           {
            "automargin": true,
            "type": "pie"
           }
          ],
          "scatter": [
           {
            "fillpattern": {
             "fillmode": "overlay",
             "size": 10,
             "solidity": 0.2
            },
            "type": "scatter"
           }
          ],
          "scatter3d": [
           {
            "line": {
             "colorbar": {
              "outlinewidth": 0,
              "ticks": ""
             }
            },
            "marker": {
             "colorbar": {
              "outlinewidth": 0,
              "ticks": ""
             }
            },
            "type": "scatter3d"
           }
          ],
          "scattercarpet": [
           {
            "marker": {
             "colorbar": {
              "outlinewidth": 0,
              "ticks": ""
             }
            },
            "type": "scattercarpet"
           }
          ],
          "scattergeo": [
           {
            "marker": {
             "colorbar": {
              "outlinewidth": 0,
              "ticks": ""
             }
            },
            "type": "scattergeo"
           }
          ],
          "scattergl": [
           {
            "marker": {
             "colorbar": {
              "outlinewidth": 0,
              "ticks": ""
             }
            },
            "type": "scattergl"
           }
          ],
          "scattermapbox": [
           {
            "marker": {
             "colorbar": {
              "outlinewidth": 0,
              "ticks": ""
             }
            },
            "type": "scattermapbox"
           }
          ],
          "scatterpolar": [
           {
            "marker": {
             "colorbar": {
              "outlinewidth": 0,
              "ticks": ""
             }
            },
            "type": "scatterpolar"
           }
          ],
          "scatterpolargl": [
           {
            "marker": {
             "colorbar": {
              "outlinewidth": 0,
              "ticks": ""
             }
            },
            "type": "scatterpolargl"
           }
          ],
          "scatterternary": [
           {
            "marker": {
             "colorbar": {
              "outlinewidth": 0,
              "ticks": ""
             }
            },
            "type": "scatterternary"
           }
          ],
          "surface": [
           {
            "colorbar": {
             "outlinewidth": 0,
             "ticks": ""
            },
            "colorscale": [
             [
              0,
              "#0d0887"
             ],
             [
              0.1111111111111111,
              "#46039f"
             ],
             [
              0.2222222222222222,
              "#7201a8"
             ],
             [
              0.3333333333333333,
              "#9c179e"
             ],
             [
              0.4444444444444444,
              "#bd3786"
             ],
             [
              0.5555555555555556,
              "#d8576b"
             ],
             [
              0.6666666666666666,
              "#ed7953"
             ],
             [
              0.7777777777777778,
              "#fb9f3a"
             ],
             [
              0.8888888888888888,
              "#fdca26"
             ],
             [
              1,
              "#f0f921"
             ]
            ],
            "type": "surface"
           }
          ],
          "table": [
           {
            "cells": {
             "fill": {
              "color": "#EBF0F8"
             },
             "line": {
              "color": "white"
             }
            },
            "header": {
             "fill": {
              "color": "#C8D4E3"
             },
             "line": {
              "color": "white"
             }
            },
            "type": "table"
           }
          ]
         },
         "layout": {
          "annotationdefaults": {
           "arrowcolor": "#2a3f5f",
           "arrowhead": 0,
           "arrowwidth": 1
          },
          "autotypenumbers": "strict",
          "coloraxis": {
           "colorbar": {
            "outlinewidth": 0,
            "ticks": ""
           }
          },
          "colorscale": {
           "diverging": [
            [
             0,
             "#8e0152"
            ],
            [
             0.1,
             "#c51b7d"
            ],
            [
             0.2,
             "#de77ae"
            ],
            [
             0.3,
             "#f1b6da"
            ],
            [
             0.4,
             "#fde0ef"
            ],
            [
             0.5,
             "#f7f7f7"
            ],
            [
             0.6,
             "#e6f5d0"
            ],
            [
             0.7,
             "#b8e186"
            ],
            [
             0.8,
             "#7fbc41"
            ],
            [
             0.9,
             "#4d9221"
            ],
            [
             1,
             "#276419"
            ]
           ],
           "sequential": [
            [
             0,
             "#0d0887"
            ],
            [
             0.1111111111111111,
             "#46039f"
            ],
            [
             0.2222222222222222,
             "#7201a8"
            ],
            [
             0.3333333333333333,
             "#9c179e"
            ],
            [
             0.4444444444444444,
             "#bd3786"
            ],
            [
             0.5555555555555556,
             "#d8576b"
            ],
            [
             0.6666666666666666,
             "#ed7953"
            ],
            [
             0.7777777777777778,
             "#fb9f3a"
            ],
            [
             0.8888888888888888,
             "#fdca26"
            ],
            [
             1,
             "#f0f921"
            ]
           ],
           "sequentialminus": [
            [
             0,
             "#0d0887"
            ],
            [
             0.1111111111111111,
             "#46039f"
            ],
            [
             0.2222222222222222,
             "#7201a8"
            ],
            [
             0.3333333333333333,
             "#9c179e"
            ],
            [
             0.4444444444444444,
             "#bd3786"
            ],
            [
             0.5555555555555556,
             "#d8576b"
            ],
            [
             0.6666666666666666,
             "#ed7953"
            ],
            [
             0.7777777777777778,
             "#fb9f3a"
            ],
            [
             0.8888888888888888,
             "#fdca26"
            ],
            [
             1,
             "#f0f921"
            ]
           ]
          },
          "colorway": [
           "#636efa",
           "#EF553B",
           "#00cc96",
           "#ab63fa",
           "#FFA15A",
           "#19d3f3",
           "#FF6692",
           "#B6E880",
           "#FF97FF",
           "#FECB52"
          ],
          "font": {
           "color": "#2a3f5f"
          },
          "geo": {
           "bgcolor": "white",
           "lakecolor": "white",
           "landcolor": "#E5ECF6",
           "showlakes": true,
           "showland": true,
           "subunitcolor": "white"
          },
          "hoverlabel": {
           "align": "left"
          },
          "hovermode": "closest",
          "mapbox": {
           "style": "light"
          },
          "paper_bgcolor": "white",
          "plot_bgcolor": "#E5ECF6",
          "polar": {
           "angularaxis": {
            "gridcolor": "white",
            "linecolor": "white",
            "ticks": ""
           },
           "bgcolor": "#E5ECF6",
           "radialaxis": {
            "gridcolor": "white",
            "linecolor": "white",
            "ticks": ""
           }
          },
          "scene": {
           "xaxis": {
            "backgroundcolor": "#E5ECF6",
            "gridcolor": "white",
            "gridwidth": 2,
            "linecolor": "white",
            "showbackground": true,
            "ticks": "",
            "zerolinecolor": "white"
           },
           "yaxis": {
            "backgroundcolor": "#E5ECF6",
            "gridcolor": "white",
            "gridwidth": 2,
            "linecolor": "white",
            "showbackground": true,
            "ticks": "",
            "zerolinecolor": "white"
           },
           "zaxis": {
            "backgroundcolor": "#E5ECF6",
            "gridcolor": "white",
            "gridwidth": 2,
            "linecolor": "white",
            "showbackground": true,
            "ticks": "",
            "zerolinecolor": "white"
           }
          },
          "shapedefaults": {
           "line": {
            "color": "#2a3f5f"
           }
          },
          "ternary": {
           "aaxis": {
            "gridcolor": "white",
            "linecolor": "white",
            "ticks": ""
           },
           "baxis": {
            "gridcolor": "white",
            "linecolor": "white",
            "ticks": ""
           },
           "bgcolor": "#E5ECF6",
           "caxis": {
            "gridcolor": "white",
            "linecolor": "white",
            "ticks": ""
           }
          },
          "title": {
           "x": 0.05
          },
          "xaxis": {
           "automargin": true,
           "gridcolor": "white",
           "linecolor": "white",
           "ticks": "",
           "title": {
            "standoff": 15
           },
           "zerolinecolor": "white",
           "zerolinewidth": 2
          },
          "yaxis": {
           "automargin": true,
           "gridcolor": "white",
           "linecolor": "white",
           "ticks": "",
           "title": {
            "standoff": 15
           },
           "zerolinecolor": "white",
           "zerolinewidth": 2
          }
         }
        },
        "title": {
         "text": "min_mpe vs. pose_eval_iou"
        },
        "xaxis": {
         "anchor": "y",
         "domain": [
          0,
          1
         ],
         "title": {
          "text": "min_mpe"
         }
        },
        "yaxis": {
         "anchor": "x",
         "domain": [
          0,
          1
         ],
         "title": {
          "text": "pose_eval_iou"
         }
        }
       }
      }
     },
     "metadata": {},
     "output_type": "display_data"
    },
    {
     "data": {
      "application/vnd.plotly.v1+json": {
       "config": {
        "plotlyServerURL": "https://plot.ly"
       },
       "data": [
        {
         "customdata": [
          [
           "carapace:undistorted_GX010067_33_625.jpg_gamma",
           "Prawn_0"
          ],
          [
           "carapace:undistorted_GX010067_33_625.jpg_gamma",
           "Prawn_1"
          ],
          [
           "carapace:undistorted_GX010067_33_625.jpg_gamma",
           "Prawn_2"
          ],
          [
           "carapace:undistorted_GX010067_33_625.jpg_gamma",
           "Prawn_3"
          ],
          [
           "carapace:undistorted_GX010068_26_666.jpg_gamma",
           "Prawn_0"
          ],
          [
           "carapace:undistorted_GX010068_26_666.jpg_gamma",
           "Prawn_1"
          ],
          [
           "carapace:undistorted_GX010068_26_666.jpg_gamma",
           "Prawn_2"
          ],
          [
           "carapace:undistorted_GX010068_27_795.jpg_gamma",
           "Prawn_2"
          ],
          [
           "carapace:undistorted_GX010069_19_191.jpg_gamma",
           "Prawn_0"
          ],
          [
           "carapace:undistorted_GX010069_19_191.jpg_gamma",
           "Prawn_1"
          ],
          [
           "carapace:undistorted_GX010069_19_191.jpg_gamma",
           "Prawn_2"
          ],
          [
           "carapace:undistorted_GX010069_19_191.jpg_gamma",
           "Prawn_3"
          ],
          [
           "carapace:undistorted_GX010069_53_796.jpg_gamma",
           "Prawn_1"
          ],
          [
           "carapace:undistorted_GX010071_22_444.jpg_gamma",
           "Prawn_0"
          ],
          [
           "carapace:undistorted_GX010073_42_695.jpg_gamma",
           "Prawn_0"
          ],
          [
           "carapace:undistorted_GX010073_42_695.jpg_gamma",
           "Prawn_1"
          ],
          [
           "carapace:undistorted_GX010073_42_695.jpg_gamma",
           "Prawn_2"
          ],
          [
           "carapace:undistorted_GX010073_55_1014.jpg_gamma",
           "Prawn_0"
          ],
          [
           "carapace:undistorted_GX010073_55_1014.jpg_gamma",
           "Prawn_3"
          ],
          [
           "carapace:undistorted_GX010077_14_237.jpg_gamma",
           "Prawn_0"
          ],
          [
           "carapace:undistorted_GX010077_14_237.jpg_gamma",
           "Prawn_1"
          ],
          [
           "carapace:undistorted_GX010077_14_237.jpg_gamma",
           "Prawn_2"
          ],
          [
           "carapace:undistorted_GX010080_157_2283.jpg_gamma",
           "Prawn_0"
          ],
          [
           "carapace:undistorted_GX010080_157_2283.jpg_gamma",
           "Prawn_1"
          ],
          [
           "carapace:undistorted_GX010080_157_2283.jpg_gamma",
           "Prawn_2"
          ],
          [
           "carapace:undistorted_GX010080_157_2283.jpg_gamma",
           "Prawn_3"
          ],
          [
           "carapace:undistorted_GX010080_157_2283.jpg_gamma",
           "Prawn_4"
          ],
          [
           "carapace:undistorted_GX010080_193_2640.jpg_gamma",
           "Prawn_0"
          ],
          [
           "carapace:undistorted_GX010080_193_2640.jpg_gamma",
           "Prawn_1"
          ],
          [
           "carapace:undistorted_GX010080_193_2640.jpg_gamma",
           "Prawn_4"
          ],
          [
           "carapace:undistorted_GX010080_212_2954.jpg_gamma",
           "Prawn_0"
          ],
          [
           "carapace:undistorted_GX010080_212_2954.jpg_gamma",
           "Prawn_1"
          ],
          [
           "carapace:undistorted_GX010080_212_2954.jpg_gamma",
           "Prawn_2"
          ],
          [
           "carapace:undistorted_GX010080_237_3366.jpg_gamma",
           "Prawn_0"
          ],
          [
           "carapace:undistorted_GX010080_237_3366.jpg_gamma",
           "Prawn_1"
          ],
          [
           "carapace:undistorted_GX010080_237_3366.jpg_gamma",
           "Prawn_2"
          ],
          [
           "carapace:undistorted_GX010080_237_3366.jpg_gamma",
           "Prawn_3"
          ],
          [
           "carapace:undistorted_GX010080_238_3392.jpg_gamma",
           "Prawn_0"
          ],
          [
           "carapace:undistorted_GX010080_238_3392.jpg_gamma",
           "Prawn_1"
          ],
          [
           "carapace:undistorted_GX010080_238_3392.jpg_gamma",
           "Prawn_2"
          ],
          [
           "carapace:undistorted_GX010080_238_3392.jpg_gamma",
           "Prawn_3"
          ],
          [
           "carapace:undistorted_GX010080_238_3392.jpg_gamma",
           "Prawn_4"
          ],
          [
           "carapace:undistorted_GX010082_8_59.jpg_gamma",
           "Prawn_0"
          ],
          [
           "carapace:undistorted_GX010082_8_59.jpg_gamma",
           "Prawn_1"
          ],
          [
           "carapace:undistorted_GX010082_8_59.jpg_gamma",
           "Prawn_2"
          ],
          [
           "carapace:undistorted_GX010082_8_59.jpg_gamma",
           "Prawn_3"
          ],
          [
           "carapace:undistorted_GX010082_8_59.jpg_gamma",
           "Prawn_4"
          ],
          [
           "carapace:undistorted_GX010082_8_59.jpg_gamma",
           "Prawn_5"
          ],
          [
           "carapace:undistorted_GX010082_53_796.jpg_gamma",
           "Prawn_0"
          ],
          [
           "carapace:undistorted_GX010082_53_796.jpg_gamma",
           "Prawn_1"
          ],
          [
           "carapace:undistorted_GX010082_65_1070.jpg_gamma",
           "Prawn_0"
          ],
          [
           "carapace:undistorted_GX010082_65_1070.jpg_gamma",
           "Prawn_1"
          ],
          [
           "carapace:undistorted_GX010082_65_1070.jpg_gamma",
           "Prawn_2"
          ],
          [
           "carapace:undistorted_GX010082_236_3137.jpg_gamma",
           "Prawn_1"
          ],
          [
           "carapace:undistorted_GX010082_236_3137.jpg_gamma",
           "Prawn_2"
          ],
          [
           "carapace:undistorted_GX010084_30_344.jpg_gamma",
           "Prawn_0"
          ],
          [
           "carapace:undistorted_GX010084_30_344.jpg_gamma",
           "Prawn_2"
          ],
          [
           "carapace:undistorted_GX010084_30_344.jpg_gamma",
           "Prawn_3"
          ],
          [
           "carapace:undistorted_GX010084_30_344.jpg_gamma",
           "Prawn_5"
          ],
          [
           "carapace:undistorted_GX010084_130_1748.jpg_gamma",
           "Prawn_0"
          ],
          [
           "carapace:undistorted_GX010084_130_1748.jpg_gamma",
           "Prawn_1"
          ],
          [
           "carapace:undistorted_GX010084_130_1748.jpg_gamma",
           "Prawn_2"
          ],
          [
           "carapace:undistorted_GX010084_130_1748.jpg_gamma",
           "Prawn_3"
          ],
          [
           "carapace:undistorted_GX010084_167_2291.jpg_gamma",
           "Prawn_0"
          ],
          [
           "carapace:undistorted_GX010084_167_2291.jpg_gamma",
           "Prawn_1"
          ],
          [
           "carapace:undistorted_GX010085_261_3610.jpg_gamma",
           "Prawn_0"
          ],
          [
           "carapace:undistorted_GX010085_261_3610.jpg_gamma",
           "Prawn_1"
          ],
          [
           "carapace:undistorted_GX010085_261_3610.jpg_gamma",
           "Prawn_2"
          ],
          [
           "carapace:undistorted_GX010085_263_3738.jpg_gamma",
           "Prawn_1"
          ],
          [
           "carapace:undistorted_GX010085_263_3738.jpg_gamma",
           "Prawn_3"
          ],
          [
           "carapace:undistorted_GX010088_262_3712.jpg_gamma",
           "Prawn_0"
          ],
          [
           "carapace:undistorted_GX010088_262_3712.jpg_gamma",
           "Prawn_2"
          ],
          [
           "carapace:undistorted_GX010088_262_3712.jpg_gamma",
           "Prawn_3"
          ],
          [
           "carapace:undistorted_GX010088_262_3712.jpg_gamma",
           "Prawn_4"
          ],
          [
           "carapace:undistorted_GX010088_262_3712.jpg_gamma",
           "Prawn_5"
          ],
          [
           "carapace:undistorted_GX010088_327_4364.jpg_gamma",
           "Prawn_0"
          ],
          [
           "carapace:undistorted_GX010088_327_4364.jpg_gamma",
           "Prawn_1"
          ],
          [
           "carapace:undistorted_GX010088_327_4364.jpg_gamma",
           "Prawn_2"
          ],
          [
           "carapace:undistorted_GX010088_327_4364.jpg_gamma",
           "Prawn_3"
          ],
          [
           "carapace:undistorted_GX010089_11_236.jpg_gamma",
           "Prawn_0"
          ],
          [
           "carapace:undistorted_GX010089_11_236.jpg_gamma",
           "Prawn_1"
          ],
          [
           "carapace:undistorted_GX010089_11_236.jpg_gamma",
           "Prawn_2"
          ],
          [
           "carapace:undistorted_GX010090_132_1852.jpg_gamma",
           "Prawn_0"
          ],
          [
           "carapace:undistorted_GX010090_132_1852.jpg_gamma",
           "Prawn_1"
          ],
          [
           "carapace:undistorted_GX010091_5_149.jpg_gamma",
           "Prawn_0"
          ],
          [
           "carapace:undistorted_GX010091_5_149.jpg_gamma",
           "Prawn_1"
          ],
          [
           "carapace:undistorted_GX010091_5_149.jpg_gamma",
           "Prawn_2"
          ],
          [
           "carapace:undistorted_GX010091_5_149.jpg_gamma",
           "Prawn_3"
          ],
          [
           "carapace:undistorted_GX010094_9_129.jpg_gamma",
           "Prawn_0"
          ],
          [
           "carapace:undistorted_GX010094_9_129.jpg_gamma",
           "Prawn_1"
          ],
          [
           "carapace:undistorted_GX010094_24_430.jpg_gamma",
           "Prawn_0"
          ],
          [
           "carapace:undistorted_GX010094_24_430.jpg_gamma",
           "Prawn_1"
          ],
          [
           "carapace:undistorted_GX010094_24_430.jpg_gamma",
           "Prawn_2"
          ],
          [
           "carapace:undistorted_GX010094_93_1258.jpg_gamma",
           "Prawn_0"
          ],
          [
           "carapace:undistorted_GX010094_93_1258.jpg_gamma",
           "Prawn_1"
          ],
          [
           "carapace:undistorted_GX010094_163_2312.jpg_gamma",
           "Prawn_0"
          ],
          [
           "carapace:undistorted_GX010096_107_1571.jpg_gamma",
           "Prawn_0"
          ],
          [
           "carapace:undistorted_GX010097_32_528.jpg_gamma",
           "Prawn_0"
          ],
          [
           "carapace:undistorted_GX010097_32_528.jpg_gamma",
           "Prawn_1"
          ],
          [
           "carapace:undistorted_GX010097_60_1080.jpg_gamma",
           "Prawn_1"
          ],
          [
           "carapace:undistorted_GX010097_105_1651.jpg_gamma",
           "Prawn_0"
          ],
          [
           "carapace:undistorted_GX010097_105_1651.jpg_gamma",
           "Prawn_1"
          ],
          [
           "carapace:undistorted_GX010097_105_1651.jpg_gamma",
           "Prawn_2"
          ],
          [
           "carapace:undistorted_GX010097_105_1651.jpg_gamma",
           "Prawn_3"
          ],
          [
           "carapace:undistorted_GX010097_124_1870.jpg_gamma",
           "Prawn_1"
          ],
          [
           "carapace:undistorted_GX010101_12_173.jpg_gamma",
           "Prawn_0"
          ],
          [
           "carapace:undistorted_GX010102_9_165.jpg_gamma",
           "Prawn_0"
          ],
          [
           "carapace:undistorted_GX010102_9_165.jpg_gamma",
           "Prawn_3"
          ],
          [
           "carapace:undistorted_GX010102_9_165.jpg_gamma",
           "Prawn_4"
          ],
          [
           "carapace:undistorted_GX010102_50_1396.jpg_gamma",
           "Prawn_0"
          ],
          [
           "carapace:undistorted_GX010105_28_816.jpg_gamma",
           "Prawn_0"
          ],
          [
           "carapace:undistorted_GX010105_28_816.jpg_gamma",
           "Prawn_1"
          ],
          [
           "carapace:undistorted_GX010152_36_378.jpg_gamma",
           "Prawn_1"
          ],
          [
           "carapace:undistorted_GX010152_36_378.jpg_gamma",
           "Prawn_2"
          ],
          [
           "carapace:undistorted_GX010155_78_1170.jpg_gamma",
           "Prawn_0"
          ],
          [
           "carapace:undistorted_GX010157_68_883",
           "Prawn_0"
          ],
          [
           "carapace:undistorted_GX010157_160_2259",
           "Prawn_0"
          ],
          [
           "carapace:undistorted_GX010157_160_2259",
           "Prawn_1"
          ],
          [
           "carapace:undistorted_GX010157_174_2582.jpg_gamma",
           "Prawn_0"
          ],
          [
           "carapace:undistorted_GX010157_177_2665.jpg_gamma",
           "Prawn_0"
          ],
          [
           "carapace:undistorted_GX010161_54_676.jpg_gamma.jpg_gamma",
           "Prawn_0"
          ],
          [
           "carapace:undistorted_GX010161_136_2267.jpg_gamma.jpg_gamma",
           "Prawn_0"
          ],
          [
           "carapace:undistorted_GX010162_72_927.jpg_gamma.jpg_gamma",
           "Prawn_0"
          ],
          [
           "carapace:undistorted_GX010169_121_1249",
           "Prawn_0"
          ],
          [
           "carapace:undistorted_GX010173_75_922.jpg_gamma",
           "Prawn_0"
          ],
          [
           "carapace:undistorted_GX010174_62_790.jpg_gamma",
           "Prawn_0"
          ],
          [
           "carapace:undistorted_GX010174_104_1236",
           "Prawn_0"
          ],
          [
           "carapace:undistorted_GX010175_82_852.jpg_gamma",
           "Prawn_0"
          ],
          [
           "carapace:undistorted_GX010175_215_2644.jpg_gamma",
           "Prawn_0"
          ],
          [
           "carapace:undistorted_GX010175_266_3372.jpg_gamma.jpg_gamma",
           "Prawn_0"
          ],
          [
           "carapace:undistorted_GX010177_232_3047",
           "Prawn_0"
          ],
          [
           "carapace:undistorted_GX010178_107_2118",
           "Prawn_0"
          ],
          [
           "carapace:undistorted_GX010178_107_2118",
           "Prawn_1"
          ],
          [
           "carapace:undistorted_GX010178_114_2258",
           "Prawn_0"
          ],
          [
           "carapace:undistorted_GX010178_189_3987.jpg_gamma",
           "Prawn_0"
          ],
          [
           "carapace:undistorted_GX010178_189_3987.jpg_gamma",
           "Prawn_1"
          ],
          [
           "carapace:undistorted_GX010179_88_1697.jpg_gamma",
           "Prawn_0"
          ],
          [
           "carapace:undistorted_GX010179_200_3927.jpg_gamma",
           "Prawn_0"
          ],
          [
           "carapace:undistorted_GX010180_91_1563",
           "Prawn_0"
          ],
          [
           "carapace:undistorted_GX010180_99_1788",
           "Prawn_0"
          ],
          [
           "carapace:undistorted_GX010181_101_1542",
           "Prawn_0"
          ],
          [
           "carapace:undistorted_GX010183_37_685.jpg_gamma",
           "Prawn_0"
          ],
          [
           "carapace:undistorted_GX010183_37_685.jpg_gamma",
           "Prawn_1"
          ],
          [
           "carapace:undistorted_GX010183_37_685.jpg_gamma",
           "Prawn_2"
          ],
          [
           "carapace:undistorted_GX010183_80_1633.jpg_gamma",
           "Prawn_0"
          ],
          [
           "carapace:undistorted_GX010183_80_1633.jpg_gamma",
           "Prawn_1"
          ],
          [
           "carapace:undistorted_GX010183_128_2852.jpg_gamma",
           "Prawn_0"
          ],
          [
           "carapace:undistorted_GX010183_128_2852.jpg_gamma",
           "Prawn_1"
          ]
         ],
         "hovertemplate": "Height(mm)=%{x}<br>min_mpe=%{y}<br>Label=%{customdata[0]}<br>PrawnID=%{customdata[1]}<extra></extra>",
         "legendgroup": "",
         "marker": {
          "color": "#636efa",
          "symbol": "circle"
         },
         "mode": "markers",
         "name": "",
         "orientation": "v",
         "showlegend": false,
         "type": "scatter",
         "x": [
          650,
          650,
          650,
          650,
          650,
          650,
          650,
          650,
          650,
          650,
          650,
          650,
          650,
          650,
          650,
          650,
          650,
          650,
          650,
          650,
          650,
          650,
          650,
          650,
          650,
          650,
          650,
          650,
          650,
          650,
          650,
          650,
          650,
          650,
          650,
          650,
          650,
          650,
          650,
          650,
          650,
          650,
          650,
          650,
          650,
          650,
          650,
          650,
          650,
          650,
          650,
          650,
          650,
          650,
          650,
          650,
          650,
          650,
          650,
          650,
          650,
          650,
          650,
          650,
          650,
          650,
          650,
          650,
          650,
          650,
          650,
          650,
          650,
          650,
          650,
          650,
          650,
          650,
          650,
          700,
          700,
          700,
          650,
          650,
          700,
          700,
          700,
          700,
          650,
          650,
          650,
          650,
          650,
          650,
          650,
          650,
          650,
          650,
          650,
          650,
          650,
          650,
          650,
          650,
          650,
          650,
          760,
          760,
          760,
          760,
          760,
          760,
          415,
          415,
          415,
          415,
          415,
          415,
          415,
          415,
          400,
          400,
          400,
          370,
          370,
          370,
          370,
          385,
          385,
          385,
          385,
          455,
          455,
          455,
          455,
          455,
          455,
          455,
          455,
          455,
          455,
          455,
          455,
          455,
          455,
          455,
          455,
          455
         ],
         "xaxis": "x",
         "y": [
          6.147389440960136,
          0.3171787499571145,
          5.955076437768192,
          4.707340615411802,
          2.560480534260496,
          3.357556297405717,
          3.372352707435531,
          1.521970220707102,
          2.212403386533694,
          1.203228856519706,
          6.596257932630219,
          0.8724756932193755,
          2.047921188323401,
          20.51184471468857,
          2.013342945516055,
          14.58951595321621,
          5.734809369992758,
          6.446212203785505,
          0.6896748809722895,
          6.073869448328788,
          6.632150247266877,
          10.28901824573966,
          8.7352238029981,
          5.930781374142201,
          27.11410409083584,
          2.670273377809907,
          12.61634128873517,
          0.2192743050822953,
          11.26294487514559,
          7.721734632236004,
          5.822866375151829,
          0.9825856854590655,
          3.709929710116012,
          4.377112510226225,
          9.421682615584599,
          4.281471506861308,
          5.778975043600669,
          13.80053391454891,
          0.7526423096053366,
          11.63389310804993,
          7.986148647321285,
          2.009888164384503,
          14.24121168077769,
          5.086659346867308,
          11.00347638062639,
          9.401022190063436,
          1.274262458066279,
          1.009693987232476,
          6.314852070904255,
          6.324566897370046,
          2.528625541547931,
          0.8282226011610048,
          1.167783986760816,
          6.509051836417881,
          8.321796366952237,
          15.55439884680151,
          1.317807462533459,
          15.23523002831029,
          2.321120158830218,
          16.42499081399965,
          8.867815029386994,
          1.485924840967833,
          23.49850170205313,
          22.13293198709697,
          10.75538521666158,
          1.236265422499246,
          5.191969199316217,
          8.809688806317526,
          9.945882180633305,
          30.33117677966997,
          18.87342306568008,
          18.15972279402101,
          24.20080350448996,
          19.72589864559198,
          25.82453568329542,
          3.56950508057413,
          7.38017777134378,
          15.77937429699574,
          16.76722299573514,
          14.11122341390577,
          11.72190199661931,
          8.182463687535597,
          6.441446947641795,
          11.10285243454565,
          7.433783671158896,
          7.686250930420159,
          10.5510429086784,
          73.11549964167735,
          1.278552951756111,
          5.769187117319068,
          0.5389206876288659,
          0.2702572010804538,
          9.975547689572055,
          11.48122800903899,
          1.416171767232312,
          3.151085632180445,
          12.58453755385924,
          16.56292306055936,
          3.989117459842997,
          5.853770474197147,
          6.735308602338192,
          6.005660390057072,
          4.579898850901895,
          7.403654012080136,
          13.16924584675122,
          3.217669070543715,
          8.29556422065076,
          2.273565567581195,
          0.6588626103110806,
          6.885701174274184,
          17.26406764137852,
          2.114173016802061,
          27.39038487616479,
          33.2993286822533,
          18.59154965544419,
          39.20246970178587,
          24.52987776863934,
          58.17607830247056,
          29.77305384234789,
          26.0936257906536,
          22.3944285882912,
          36.88331448196285,
          4.178098370815081,
          21.03104951579584,
          43.85951059047651,
          18.19719965843588,
          0.7890761349963318,
          4.125099197804524,
          36.5443023290299,
          1.628025163823231,
          0.4773034562660036,
          15.92923454390855,
          2.53378776273245,
          2.480717679346082,
          18.46871920014902,
          7.854624970807468,
          1.361949679968942,
          1.474938318204914,
          14.41107827506975,
          5.361087842735911,
          21.75282149788319,
          37.43016489886606,
          7.303861522682109,
          42.96101256030701,
          17.70171247593945,
          10.8891006021457,
          24.8706948044533,
          7.735888744158573
         ],
         "yaxis": "y"
        }
       ],
       "layout": {
        "legend": {
         "tracegroupgap": 0
        },
        "margin": {
         "t": 60
        },
        "template": {
         "data": {
          "bar": [
           {
            "error_x": {
             "color": "#2a3f5f"
            },
            "error_y": {
             "color": "#2a3f5f"
            },
            "marker": {
             "line": {
              "color": "#E5ECF6",
              "width": 0.5
             },
             "pattern": {
              "fillmode": "overlay",
              "size": 10,
              "solidity": 0.2
             }
            },
            "type": "bar"
           }
          ],
          "barpolar": [
           {
            "marker": {
             "line": {
              "color": "#E5ECF6",
              "width": 0.5
             },
             "pattern": {
              "fillmode": "overlay",
              "size": 10,
              "solidity": 0.2
             }
            },
            "type": "barpolar"
           }
          ],
          "carpet": [
           {
            "aaxis": {
             "endlinecolor": "#2a3f5f",
             "gridcolor": "white",
             "linecolor": "white",
             "minorgridcolor": "white",
             "startlinecolor": "#2a3f5f"
            },
            "baxis": {
             "endlinecolor": "#2a3f5f",
             "gridcolor": "white",
             "linecolor": "white",
             "minorgridcolor": "white",
             "startlinecolor": "#2a3f5f"
            },
            "type": "carpet"
           }
          ],
          "choropleth": [
           {
            "colorbar": {
             "outlinewidth": 0,
             "ticks": ""
            },
            "type": "choropleth"
           }
          ],
          "contour": [
           {
            "colorbar": {
             "outlinewidth": 0,
             "ticks": ""
            },
            "colorscale": [
             [
              0,
              "#0d0887"
             ],
             [
              0.1111111111111111,
              "#46039f"
             ],
             [
              0.2222222222222222,
              "#7201a8"
             ],
             [
              0.3333333333333333,
              "#9c179e"
             ],
             [
              0.4444444444444444,
              "#bd3786"
             ],
             [
              0.5555555555555556,
              "#d8576b"
             ],
             [
              0.6666666666666666,
              "#ed7953"
             ],
             [
              0.7777777777777778,
              "#fb9f3a"
             ],
             [
              0.8888888888888888,
              "#fdca26"
             ],
             [
              1,
              "#f0f921"
             ]
            ],
            "type": "contour"
           }
          ],
          "contourcarpet": [
           {
            "colorbar": {
             "outlinewidth": 0,
             "ticks": ""
            },
            "type": "contourcarpet"
           }
          ],
          "heatmap": [
           {
            "colorbar": {
             "outlinewidth": 0,
             "ticks": ""
            },
            "colorscale": [
             [
              0,
              "#0d0887"
             ],
             [
              0.1111111111111111,
              "#46039f"
             ],
             [
              0.2222222222222222,
              "#7201a8"
             ],
             [
              0.3333333333333333,
              "#9c179e"
             ],
             [
              0.4444444444444444,
              "#bd3786"
             ],
             [
              0.5555555555555556,
              "#d8576b"
             ],
             [
              0.6666666666666666,
              "#ed7953"
             ],
             [
              0.7777777777777778,
              "#fb9f3a"
             ],
             [
              0.8888888888888888,
              "#fdca26"
             ],
             [
              1,
              "#f0f921"
             ]
            ],
            "type": "heatmap"
           }
          ],
          "heatmapgl": [
           {
            "colorbar": {
             "outlinewidth": 0,
             "ticks": ""
            },
            "colorscale": [
             [
              0,
              "#0d0887"
             ],
             [
              0.1111111111111111,
              "#46039f"
             ],
             [
              0.2222222222222222,
              "#7201a8"
             ],
             [
              0.3333333333333333,
              "#9c179e"
             ],
             [
              0.4444444444444444,
              "#bd3786"
             ],
             [
              0.5555555555555556,
              "#d8576b"
             ],
             [
              0.6666666666666666,
              "#ed7953"
             ],
             [
              0.7777777777777778,
              "#fb9f3a"
             ],
             [
              0.8888888888888888,
              "#fdca26"
             ],
             [
              1,
              "#f0f921"
             ]
            ],
            "type": "heatmapgl"
           }
          ],
          "histogram": [
           {
            "marker": {
             "pattern": {
              "fillmode": "overlay",
              "size": 10,
              "solidity": 0.2
             }
            },
            "type": "histogram"
           }
          ],
          "histogram2d": [
           {
            "colorbar": {
             "outlinewidth": 0,
             "ticks": ""
            },
            "colorscale": [
             [
              0,
              "#0d0887"
             ],
             [
              0.1111111111111111,
              "#46039f"
             ],
             [
              0.2222222222222222,
              "#7201a8"
             ],
             [
              0.3333333333333333,
              "#9c179e"
             ],
             [
              0.4444444444444444,
              "#bd3786"
             ],
             [
              0.5555555555555556,
              "#d8576b"
             ],
             [
              0.6666666666666666,
              "#ed7953"
             ],
             [
              0.7777777777777778,
              "#fb9f3a"
             ],
             [
              0.8888888888888888,
              "#fdca26"
             ],
             [
              1,
              "#f0f921"
             ]
            ],
            "type": "histogram2d"
           }
          ],
          "histogram2dcontour": [
           {
            "colorbar": {
             "outlinewidth": 0,
             "ticks": ""
            },
            "colorscale": [
             [
              0,
              "#0d0887"
             ],
             [
              0.1111111111111111,
              "#46039f"
             ],
             [
              0.2222222222222222,
              "#7201a8"
             ],
             [
              0.3333333333333333,
              "#9c179e"
             ],
             [
              0.4444444444444444,
              "#bd3786"
             ],
             [
              0.5555555555555556,
              "#d8576b"
             ],
             [
              0.6666666666666666,
              "#ed7953"
             ],
             [
              0.7777777777777778,
              "#fb9f3a"
             ],
             [
              0.8888888888888888,
              "#fdca26"
             ],
             [
              1,
              "#f0f921"
             ]
            ],
            "type": "histogram2dcontour"
           }
          ],
          "mesh3d": [
           {
            "colorbar": {
             "outlinewidth": 0,
             "ticks": ""
            },
            "type": "mesh3d"
           }
          ],
          "parcoords": [
           {
            "line": {
             "colorbar": {
              "outlinewidth": 0,
              "ticks": ""
             }
            },
            "type": "parcoords"
           }
          ],
          "pie": [
           {
            "automargin": true,
            "type": "pie"
           }
          ],
          "scatter": [
           {
            "fillpattern": {
             "fillmode": "overlay",
             "size": 10,
             "solidity": 0.2
            },
            "type": "scatter"
           }
          ],
          "scatter3d": [
           {
            "line": {
             "colorbar": {
              "outlinewidth": 0,
              "ticks": ""
             }
            },
            "marker": {
             "colorbar": {
              "outlinewidth": 0,
              "ticks": ""
             }
            },
            "type": "scatter3d"
           }
          ],
          "scattercarpet": [
           {
            "marker": {
             "colorbar": {
              "outlinewidth": 0,
              "ticks": ""
             }
            },
            "type": "scattercarpet"
           }
          ],
          "scattergeo": [
           {
            "marker": {
             "colorbar": {
              "outlinewidth": 0,
              "ticks": ""
             }
            },
            "type": "scattergeo"
           }
          ],
          "scattergl": [
           {
            "marker": {
             "colorbar": {
              "outlinewidth": 0,
              "ticks": ""
             }
            },
            "type": "scattergl"
           }
          ],
          "scattermapbox": [
           {
            "marker": {
             "colorbar": {
              "outlinewidth": 0,
              "ticks": ""
             }
            },
            "type": "scattermapbox"
           }
          ],
          "scatterpolar": [
           {
            "marker": {
             "colorbar": {
              "outlinewidth": 0,
              "ticks": ""
             }
            },
            "type": "scatterpolar"
           }
          ],
          "scatterpolargl": [
           {
            "marker": {
             "colorbar": {
              "outlinewidth": 0,
              "ticks": ""
             }
            },
            "type": "scatterpolargl"
           }
          ],
          "scatterternary": [
           {
            "marker": {
             "colorbar": {
              "outlinewidth": 0,
              "ticks": ""
             }
            },
            "type": "scatterternary"
           }
          ],
          "surface": [
           {
            "colorbar": {
             "outlinewidth": 0,
             "ticks": ""
            },
            "colorscale": [
             [
              0,
              "#0d0887"
             ],
             [
              0.1111111111111111,
              "#46039f"
             ],
             [
              0.2222222222222222,
              "#7201a8"
             ],
             [
              0.3333333333333333,
              "#9c179e"
             ],
             [
              0.4444444444444444,
              "#bd3786"
             ],
             [
              0.5555555555555556,
              "#d8576b"
             ],
             [
              0.6666666666666666,
              "#ed7953"
             ],
             [
              0.7777777777777778,
              "#fb9f3a"
             ],
             [
              0.8888888888888888,
              "#fdca26"
             ],
             [
              1,
              "#f0f921"
             ]
            ],
            "type": "surface"
           }
          ],
          "table": [
           {
            "cells": {
             "fill": {
              "color": "#EBF0F8"
             },
             "line": {
              "color": "white"
             }
            },
            "header": {
             "fill": {
              "color": "#C8D4E3"
             },
             "line": {
              "color": "white"
             }
            },
            "type": "table"
           }
          ]
         },
         "layout": {
          "annotationdefaults": {
           "arrowcolor": "#2a3f5f",
           "arrowhead": 0,
           "arrowwidth": 1
          },
          "autotypenumbers": "strict",
          "coloraxis": {
           "colorbar": {
            "outlinewidth": 0,
            "ticks": ""
           }
          },
          "colorscale": {
           "diverging": [
            [
             0,
             "#8e0152"
            ],
            [
             0.1,
             "#c51b7d"
            ],
            [
             0.2,
             "#de77ae"
            ],
            [
             0.3,
             "#f1b6da"
            ],
            [
             0.4,
             "#fde0ef"
            ],
            [
             0.5,
             "#f7f7f7"
            ],
            [
             0.6,
             "#e6f5d0"
            ],
            [
             0.7,
             "#b8e186"
            ],
            [
             0.8,
             "#7fbc41"
            ],
            [
             0.9,
             "#4d9221"
            ],
            [
             1,
             "#276419"
            ]
           ],
           "sequential": [
            [
             0,
             "#0d0887"
            ],
            [
             0.1111111111111111,
             "#46039f"
            ],
            [
             0.2222222222222222,
             "#7201a8"
            ],
            [
             0.3333333333333333,
             "#9c179e"
            ],
            [
             0.4444444444444444,
             "#bd3786"
            ],
            [
             0.5555555555555556,
             "#d8576b"
            ],
            [
             0.6666666666666666,
             "#ed7953"
            ],
            [
             0.7777777777777778,
             "#fb9f3a"
            ],
            [
             0.8888888888888888,
             "#fdca26"
            ],
            [
             1,
             "#f0f921"
            ]
           ],
           "sequentialminus": [
            [
             0,
             "#0d0887"
            ],
            [
             0.1111111111111111,
             "#46039f"
            ],
            [
             0.2222222222222222,
             "#7201a8"
            ],
            [
             0.3333333333333333,
             "#9c179e"
            ],
            [
             0.4444444444444444,
             "#bd3786"
            ],
            [
             0.5555555555555556,
             "#d8576b"
            ],
            [
             0.6666666666666666,
             "#ed7953"
            ],
            [
             0.7777777777777778,
             "#fb9f3a"
            ],
            [
             0.8888888888888888,
             "#fdca26"
            ],
            [
             1,
             "#f0f921"
            ]
           ]
          },
          "colorway": [
           "#636efa",
           "#EF553B",
           "#00cc96",
           "#ab63fa",
           "#FFA15A",
           "#19d3f3",
           "#FF6692",
           "#B6E880",
           "#FF97FF",
           "#FECB52"
          ],
          "font": {
           "color": "#2a3f5f"
          },
          "geo": {
           "bgcolor": "white",
           "lakecolor": "white",
           "landcolor": "#E5ECF6",
           "showlakes": true,
           "showland": true,
           "subunitcolor": "white"
          },
          "hoverlabel": {
           "align": "left"
          },
          "hovermode": "closest",
          "mapbox": {
           "style": "light"
          },
          "paper_bgcolor": "white",
          "plot_bgcolor": "#E5ECF6",
          "polar": {
           "angularaxis": {
            "gridcolor": "white",
            "linecolor": "white",
            "ticks": ""
           },
           "bgcolor": "#E5ECF6",
           "radialaxis": {
            "gridcolor": "white",
            "linecolor": "white",
            "ticks": ""
           }
          },
          "scene": {
           "xaxis": {
            "backgroundcolor": "#E5ECF6",
            "gridcolor": "white",
            "gridwidth": 2,
            "linecolor": "white",
            "showbackground": true,
            "ticks": "",
            "zerolinecolor": "white"
           },
           "yaxis": {
            "backgroundcolor": "#E5ECF6",
            "gridcolor": "white",
            "gridwidth": 2,
            "linecolor": "white",
            "showbackground": true,
            "ticks": "",
            "zerolinecolor": "white"
           },
           "zaxis": {
            "backgroundcolor": "#E5ECF6",
            "gridcolor": "white",
            "gridwidth": 2,
            "linecolor": "white",
            "showbackground": true,
            "ticks": "",
            "zerolinecolor": "white"
           }
          },
          "shapedefaults": {
           "line": {
            "color": "#2a3f5f"
           }
          },
          "ternary": {
           "aaxis": {
            "gridcolor": "white",
            "linecolor": "white",
            "ticks": ""
           },
           "baxis": {
            "gridcolor": "white",
            "linecolor": "white",
            "ticks": ""
           },
           "bgcolor": "#E5ECF6",
           "caxis": {
            "gridcolor": "white",
            "linecolor": "white",
            "ticks": ""
           }
          },
          "title": {
           "x": 0.05
          },
          "xaxis": {
           "automargin": true,
           "gridcolor": "white",
           "linecolor": "white",
           "ticks": "",
           "title": {
            "standoff": 15
           },
           "zerolinecolor": "white",
           "zerolinewidth": 2
          },
          "yaxis": {
           "automargin": true,
           "gridcolor": "white",
           "linecolor": "white",
           "ticks": "",
           "title": {
            "standoff": 15
           },
           "zerolinecolor": "white",
           "zerolinewidth": 2
          }
         }
        },
        "title": {
         "text": "min_mpe vs. Height"
        },
        "xaxis": {
         "anchor": "y",
         "domain": [
          0,
          1
         ],
         "title": {
          "text": "Height(mm)"
         }
        },
        "yaxis": {
         "anchor": "x",
         "domain": [
          0,
          1
         ],
         "title": {
          "text": "min_mpe"
         }
        }
       }
      }
     },
     "metadata": {},
     "output_type": "display_data"
    }
   ],
   "source": [
    "import pandas as pd\n",
    "import seaborn as sns\n",
    "import matplotlib.pyplot as plt\n",
    "from scipy.stats import pearsonr, spearmanr, shapiro, levene\n",
    "# import pingouin as pg\n",
    "import statsmodels.api as sm\n",
    "import numpy as np\n",
    "import plotly.express as px\n",
    "\n",
    "# Load your data\n",
    "\n",
    "# Calculate expert averages and standard deviations\n",
    "df['expert_mean'] = df[['Length_1', 'Length_2', 'Length_3']].median(axis=1)\n",
    "df['expert_std'] = df[['Length_1', 'Length_2', 'Length_3']].std(axis=1)\n",
    "\n",
    "df['expert_max'] = df[['Length_1', 'Length_2', 'Length_3']].max(axis=1)\n",
    "df['expert_min'] = df[['Length_1', 'Length_2', 'Length_3']].min(axis=1)\n",
    "\n",
    "#diffrence in pixels between the min and max of Length_1_pixels, Length_2_pixels, Length_3_pixels\n",
    "\n",
    "df['diff_max_min'] =abs(df[['Length_1', 'Length_2', 'Length_3']].max(axis=1) - df[['Length_1', 'Length_2', 'Length_3']].min(axis=1))\n",
    "\n",
    "print(f'mean difference between min max' ,df['diff_max_min'].mean())\n",
    "print(f'std  difference between min max ',df['diff_max_min'].std())\n",
    "\n",
    "\n",
    "#violoin plot of the difference between the min and max of the three measurements\n",
    "fig = px.violin(df,\n",
    "                x='Pond_Type', \n",
    "                y='diff_max_min', \n",
    "                box=True,  # Include box plot\n",
    "                points=\"all\",  # Show all points\n",
    "                hover_data=['Label', 'PrawnID'],  # Include hover data\n",
    "                title=f'Violin plot of diff_max_min',)\n",
    "#Save the plot to png\n",
    "fig.write_image(f'violin carapace diff_max_min.png')\n",
    "fig.show()\n",
    "\n",
    "#how many Length_ground_truth_annotation(mm) in comparison with lengthe_1, length_2, length_3 bigger than 50%\n",
    "\n",
    "# df['difference_mean_annotation_expert'] = abs(df['Length_ground_truth_annotation(mm)'] - df['expert_mean']/df['Length_ground_truth_annotation(mm)']) \n",
    "# df['difference_max_annotation_expert'] = abs(df['Length_ground_truth_annotation(mm)'] - df['expert_max']/df['Length_ground_truth_annotation(mm)'])\n",
    "# df['difference_min_annotation_expert'] = abs(df['Length_ground_truth_annotation(mm)'] - df['expert_min']/df['Length_ground_truth_annotation(mm)'])\n",
    "\n",
    "# df['min difference'] = df[['difference_mean_annotation_expert', 'difference_max_annotation_expert', 'difference_min_annotation_expert']].min(axis=1)\n",
    "# df['max_difference'] = df[['difference_mean_annotation_expert', 'difference_max_annotation_expert', 'difference_min_annotation_expert']].max(axis=1)    \n",
    "\n",
    "\n",
    "# df['difference_max_annotation_expert'] = abs(df['Length_ground_truth_annotation(mm)'] - df['expert_max']/df['Length_ground_truth_annotation(mm)'])\n",
    "\n",
    "# df['difference_min_annotation_expert'] = abs(df['Length_ground_truth_annotation(mm)'] - df['expert_min']/df['Length_ground_truth_annotation(mm)'])\n",
    "#violin difference_annotation_expert\n",
    "# fig = px.violin(df,\n",
    "#                 x='Pond_Type',\n",
    "#                 y='min difference',\n",
    "#                 box=True,  # Include box plot\n",
    "#                 points=\"all\",  # Show all points\n",
    "#                 hover_data=['Label', 'PrawnID'],  # Include hover data\n",
    "#                 title=f'Violin plot of difference_annotation_expert',)\n",
    "# #Save the plot to png\n",
    "# fig.write_image(f'violin carapace difference_annotation_expert.png')\n",
    "# fig.show()\n",
    "\n",
    "\n",
    "\n",
    "\n",
    "# Calculate differences\n",
    "df['diff_mean'] =abs(df['Length_fov(mm)'] - df['expert_mean'])\n",
    "df['diff_max'] =abs(df['Length_fov(mm)'] - df['expert_max'])\n",
    "df['diff_min'] =abs(df['Length_fov(mm)'] - df['expert_min'])\n",
    "\n",
    "df['the_min_diff'] = df[['diff_mean', 'diff_max', 'diff_min']].min(axis=1)\n",
    "\n",
    "\n",
    "#the length measurement of the the_min_diff\n",
    "# df['the_min_diff_length'] =df['Length_fov(mm)'] - df['the_min_diff']\n",
    "\n",
    "#the length measurement of the the_max_diff\n",
    "#percent error of the the_min_diff\n",
    "\n",
    "\n",
    "# df['org_min_diff'] = [\n",
    "#     df['Length_fov(mm)'].iloc[i] - df['the_min_diff'].iloc[i] \n",
    "#     if df['the_min_diff'].iloc[i] > 0 \n",
    "#     else df['Length_fov(mm)'].iloc[i] + abs(df['the_min_diff'].iloc[i]) \n",
    "#     for i in range(len(df))\n",
    "# ]\n",
    "\n",
    "\n",
    "df['min difference']=df[['Error_percentage_distance_mm_ground_min', 'Error_percentage_distance_mm_ground_max','Error_percentage_distance_mm_ground_median']].min(axis=1)\n",
    "\n",
    "# Calculate the percentage error\n",
    "# df['the_min_diff_percentage_error'] = (df['the_min_diff'].abs() / df['org_min_diff'].abs()) * 100\n",
    "\n",
    "# # Cap the error at 100%\n",
    "# df['the_min_diff_percentage_error'] = df['the_min_diff_percentage_error'].apply(lambda x: min(x, 100))\n",
    "\n",
    "# the percentage error of the the_min_diff when smaller than 100%\n",
    "# df['the_min_diff_percentage_error'] = df['the_min_diff_percentage_error']\n",
    "df['min_mpe']=df[['MPError_fov_min', 'MPError_fov_max','MPError_fov_median']].min(axis=1)\n",
    "\n",
    "df['max_mpe']=df[['MPError_fov_min', 'MPError_fov_max','MPError_fov_median']].max(axis=1)\n",
    "\n",
    "df['min_mae']=df[['AbsError_fov_min', 'AbsError_fov_max','AbsError_fov_median']].min(axis=1)\n",
    "\n",
    "df['max_mae']=df[['AbsError_fov_min', 'AbsError_fov_max','AbsError_fov_median']].max(axis=1)\n",
    "\n",
    "\n",
    "# Create a violin plot using plotly\n",
    "import plotly.express as px\n",
    "#violin plots wiht plotly for mean percentage error and MAE\n",
    "for error in ['min_mpe', 'min_mae', 'max_mpe', 'max_mae']:\n",
    "        # Create a violin plot using plotly \n",
    "    fig = px.violin(df,\n",
    "                    x='Pond_Type', \n",
    "                    y=error, \n",
    "                    box=True,  # Include box plot\n",
    "                    points=\"all\",  # Show all points\n",
    "                    hover_data=['Label', 'PrawnID'],  # Include hover data\n",
    "                    title=f'Violin plot of {error}',)\n",
    "    #Save the plot to png\n",
    "    fig.write_image(f'violin carapace {error}_.png')\n",
    "    fig.show()\n",
    "\n",
    "#change name of each pond type if test-car change to square-female if test-right change to circular big male if test-left change to circular small mal\n",
    "\n",
    "\n",
    "\n",
    "\n",
    "#scatter plot the_min_diff_percentage_error and  difference_annotation_expert plotly\n",
    "fig = px.scatter(df, x='min_mpe', y='min difference', color='Pond_Type', hover_data=['Label', 'PrawnID'])\n",
    "#add title\n",
    "fig.update_layout(title='min_mpe vs. difference_annotation_expert')\n",
    "\n",
    "#save the plot to png\n",
    "fig.write_image('the_min_diff_percentage_error vs. difference_annotation_expert.png')\n",
    "# Add a trendline\n",
    "\n",
    "\n",
    "fig.show()\n",
    "\n",
    "\n",
    "#scatter plot the_min_diff_percentage_error and  pose_eval_iou plotly\n",
    "fig = px.scatter(df, x='min_mpe', y='pose_eval_iou', color='Pond_Type', hover_data=['Label', 'PrawnID'])\n",
    "#add title\n",
    "fig.update_layout(title='min_mpe vs. pose_eval_iou')\n",
    "\n",
    "#save the plot to png\n",
    "fig.write_image('the_min_diff_percentage_error vs. pose_eval_iou.png')\n",
    "# Add a trendline\n",
    "fig.show()\n",
    "\n",
    "#scatter plot between min_mpe and height\n",
    "fig = px.scatter(df, x='Height(mm)', y='min_mpe', hover_data=['Label', 'PrawnID'])\n",
    "#add title\n",
    "fig.update_layout(title='min_mpe vs. Height')\n",
    "\n",
    "#save the plot to png\n",
    "fig.write_image('min_mpe vs. Height.png')\n",
    "# Add a trendline\n",
    "fig.show()\n",
    "\n",
    "\n",
    "\n",
    "\n",
    "\n",
    "# Normality Test\n"
   ]
  },
  {
   "cell_type": "code",
   "execution_count": 8,
   "metadata": {},
   "outputs": [
    {
     "name": "stdout",
     "output_type": "stream",
     "text": [
      "pond type count:\n",
      "Pond_Type\n",
      "test-right    99\n",
      "test-car      36\n",
      "test-left     13\n",
      "Name: count, dtype: int64\n",
      "pond type mean:\n",
      "Pond_Type\n",
      "test-car      36.382602\n",
      "test-left     24.400821\n",
      "test-right    35.204135\n",
      "Name: Avg_Length, dtype: float64\n",
      "pond type std:\n",
      "Pond_Type\n",
      "test-car      5.056834\n",
      "test-left     5.935468\n",
      "test-right    5.529236\n",
      "Name: Avg_Length, dtype: float64\n",
      "min_mpe fov median:\n",
      "Pond_Type\n",
      "test-car      18.332959\n",
      "test-left      8.182464\n",
      "test-right     6.147389\n",
      "Name: min_mpe, dtype: float64\n",
      "min_mae fov median:\n",
      "Pond_Type\n",
      "test-car      6.451846\n",
      "test-left     2.223462\n",
      "test-right    2.121701\n",
      "Name: min_mae, dtype: float64\n",
      "max_mpe fov median:\n",
      "Pond_Type\n",
      "test-car      28.295583\n",
      "test-left     20.843634\n",
      "test-right    19.806458\n",
      "Name: max_mpe, dtype: float64\n",
      "max_mae fov median:\n",
      "Pond_Type\n",
      "test-car      11.455317\n",
      "test-left      4.706797\n",
      "test-right     6.940607\n",
      "Name: max_mae, dtype: float64\n",
      "min_mpe focal length median:\n",
      "Pond_Type\n",
      "test-car      17.297178\n",
      "test-left      6.728062\n",
      "test-right     5.131809\n",
      "Name: min_mpe_focal_length, dtype: float64\n",
      "max_mpe focal length median:\n",
      "Pond_Type\n",
      "test-car      27.811693\n",
      "test-left     23.400220\n",
      "test-right    17.856277\n",
      "Name: max_mpe_focal_length, dtype: float64\n",
      "min_mae focal length median:\n",
      "Pond_Type\n",
      "test-car      5.928193\n",
      "test-left     1.725885\n",
      "test-right    1.720302\n",
      "Name: min_mae_focal_length, dtype: float64\n",
      "max_mae focal length median:\n",
      "Pond_Type\n",
      "test-car      11.312074\n",
      "test-left      4.844652\n",
      "test-right     6.453759\n",
      "Name: max_mae_focal_length, dtype: float64\n"
     ]
    }
   ],
   "source": [
    "#min_mpe_focal_length from MPError_focal_min, MPError_focal_max, MPError_focal_median\n",
    "# min_mae_focal_length from AbsError_focal_min, AbsError_focal_max, AbsError_focal_median\n",
    "\n",
    "df['min_mpe_focal_length']=df[['MPError_focal_min', 'MPError_focal_max','MPError_focal_median']].min(axis=1)\n",
    "\n",
    "df['max_mpe_focal_length']=df[['MPError_focal_min', 'MPError_focal_max','MPError_focal_median']].max(axis=1)\n",
    "\n",
    "df['min_mae_focal_length']=df[['AbsError_focal_min', 'AbsError_focal_max','AbsError_focal_median']].min(axis=1)\n",
    "\n",
    "df['max_mae_focal_length']=df[['AbsError_focal_min', 'AbsError_focal_max','AbsError_focal_median']].max(axis=1)\n",
    "\n",
    "\n",
    "#print title of the prints\n",
    "print('pond type count:')\n",
    "print(df['Pond_Type'].value_counts())\n",
    "\n",
    "print('pond type mean:')\n",
    "print(df.groupby('Pond_Type')['Avg_Length'].mean())\n",
    "\n",
    "print('pond type std:')\n",
    "print(df.groupby('Pond_Type')['Avg_Length'].std())\n",
    "\n",
    "\n",
    "print ('min_mpe fov median:')\n",
    "print(df.groupby('Pond_Type')['min_mpe'].median())\n",
    "#mean and std for each pond type of the lengt_1, length_2, length_\n",
    "\n",
    "#print min_mae median and std for each pond type\n",
    "\n",
    "print('min_mae fov median:')\n",
    "print(df.groupby('Pond_Type')['min_mae'].median())\n",
    "\n",
    "\n",
    "\n",
    "print('max_mpe fov median:')\n",
    "print(df.groupby('Pond_Type')['max_mpe'].median())\n",
    "\n",
    "print('max_mae fov median:')\n",
    "print(df.groupby('Pond_Type')['max_mae'].median())\n",
    "\n",
    "\n",
    "print('min_mpe focal length median:')\n",
    "print(df.groupby('Pond_Type')['min_mpe_focal_length'].median())\n",
    "\n",
    "print('max_mpe focal length median:')\n",
    "print(df.groupby('Pond_Type')['max_mpe_focal_length'].median()) \n",
    "\n",
    "print('min_mae focal length median:')\n",
    "print(df.groupby('Pond_Type')['min_mae_focal_length'].median())\n",
    "\n",
    "print('max_mae focal length median:')   \n",
    "print(df.groupby('Pond_Type')['max_mae_focal_length'].median())\n",
    "\n",
    "\n",
    "\n",
    "\n",
    "\n",
    "\n"
   ]
  },
  {
   "cell_type": "code",
   "execution_count": 13,
   "metadata": {},
   "outputs": [
    {
     "name": "stdout",
     "output_type": "stream",
     "text": [
      "uncertainty of the mean:\n"
     ]
    },
    {
     "ename": "ValueError",
     "evalue": "setting an array element with a sequence. The requested array has an inhomogeneous shape after 2 dimensions. The detected shape was (3, 2) + inhomogeneous part.",
     "output_type": "error",
     "traceback": [
      "\u001b[1;31m---------------------------------------------------------------------------\u001b[0m",
      "\u001b[1;31mValueError\u001b[0m                                Traceback (most recent call last)",
      "Cell \u001b[1;32mIn[13], line 3\u001b[0m\n\u001b[0;32m      1\u001b[0m \u001b[38;5;66;03m#print uncertainty of the mean \u001b[39;00m\n\u001b[0;32m      2\u001b[0m \u001b[38;5;28mprint\u001b[39m(\u001b[38;5;124m'\u001b[39m\u001b[38;5;124muncertainty of the mean:\u001b[39m\u001b[38;5;124m'\u001b[39m)\n\u001b[1;32m----> 3\u001b[0m \u001b[38;5;28mprint\u001b[39m(\u001b[43mdf\u001b[49m\u001b[38;5;241;43m.\u001b[39;49m\u001b[43mgroupby\u001b[49m\u001b[43m(\u001b[49m\u001b[38;5;124;43m'\u001b[39;49m\u001b[38;5;124;43mPond_Type\u001b[39;49m\u001b[38;5;124;43m'\u001b[39;49m\u001b[43m)\u001b[49m\u001b[43m[\u001b[49m\u001b[38;5;124;43m'\u001b[39;49m\u001b[38;5;124;43mStd_Length\u001b[39;49m\u001b[38;5;124;43m'\u001b[39;49m\u001b[43m]\u001b[49m\u001b[38;5;241;43m/\u001b[39;49m\u001b[43mnp\u001b[49m\u001b[38;5;241;43m.\u001b[39;49m\u001b[43msqrt\u001b[49m\u001b[43m(\u001b[49m\u001b[43mdf\u001b[49m\u001b[38;5;241;43m.\u001b[39;49m\u001b[43mgroupby\u001b[49m\u001b[43m(\u001b[49m\u001b[38;5;124;43m'\u001b[39;49m\u001b[38;5;124;43mPond_Type\u001b[39;49m\u001b[38;5;124;43m'\u001b[39;49m\u001b[43m)\u001b[49m\u001b[43m[\u001b[49m\u001b[38;5;124;43m'\u001b[39;49m\u001b[38;5;124;43mAvg_Length\u001b[39;49m\u001b[38;5;124;43m'\u001b[39;49m\u001b[43m]\u001b[49m\u001b[38;5;241;43m.\u001b[39;49m\u001b[43mcount\u001b[49m\u001b[43m(\u001b[49m\u001b[43m)\u001b[49m\u001b[43m)\u001b[49m)\n",
      "File \u001b[1;32mc:\\Users\\gbo10\\Videos\\research\\counting_research_algorithms\\.venv\\lib\\site-packages\\pandas\\core\\ops\\common.py:76\u001b[0m, in \u001b[0;36m_unpack_zerodim_and_defer.<locals>.new_method\u001b[1;34m(self, other)\u001b[0m\n\u001b[0;32m     72\u001b[0m             \u001b[38;5;28;01mreturn\u001b[39;00m \u001b[38;5;28mNotImplemented\u001b[39m\n\u001b[0;32m     74\u001b[0m other \u001b[38;5;241m=\u001b[39m item_from_zerodim(other)\n\u001b[1;32m---> 76\u001b[0m \u001b[38;5;28;01mreturn\u001b[39;00m \u001b[43mmethod\u001b[49m\u001b[43m(\u001b[49m\u001b[38;5;28;43mself\u001b[39;49m\u001b[43m,\u001b[49m\u001b[43m \u001b[49m\u001b[43mother\u001b[49m\u001b[43m)\u001b[49m\n",
      "File \u001b[1;32mc:\\Users\\gbo10\\Videos\\research\\counting_research_algorithms\\.venv\\lib\\site-packages\\pandas\\core\\arraylike.py:214\u001b[0m, in \u001b[0;36mOpsMixin.__rtruediv__\u001b[1;34m(self, other)\u001b[0m\n\u001b[0;32m    212\u001b[0m \u001b[38;5;129m@unpack_zerodim_and_defer\u001b[39m(\u001b[38;5;124m\"\u001b[39m\u001b[38;5;124m__rtruediv__\u001b[39m\u001b[38;5;124m\"\u001b[39m)\n\u001b[0;32m    213\u001b[0m \u001b[38;5;28;01mdef\u001b[39;00m \u001b[38;5;21m__rtruediv__\u001b[39m(\u001b[38;5;28mself\u001b[39m, other):\n\u001b[1;32m--> 214\u001b[0m     \u001b[38;5;28;01mreturn\u001b[39;00m \u001b[38;5;28;43mself\u001b[39;49m\u001b[38;5;241;43m.\u001b[39;49m\u001b[43m_arith_method\u001b[49m\u001b[43m(\u001b[49m\u001b[43mother\u001b[49m\u001b[43m,\u001b[49m\u001b[43m \u001b[49m\u001b[43mroperator\u001b[49m\u001b[38;5;241;43m.\u001b[39;49m\u001b[43mrtruediv\u001b[49m\u001b[43m)\u001b[49m\n",
      "File \u001b[1;32mc:\\Users\\gbo10\\Videos\\research\\counting_research_algorithms\\.venv\\lib\\site-packages\\pandas\\core\\series.py:5819\u001b[0m, in \u001b[0;36mSeries._arith_method\u001b[1;34m(self, other, op)\u001b[0m\n\u001b[0;32m   5817\u001b[0m \u001b[38;5;28;01mdef\u001b[39;00m \u001b[38;5;21m_arith_method\u001b[39m(\u001b[38;5;28mself\u001b[39m, other, op):\n\u001b[0;32m   5818\u001b[0m     \u001b[38;5;28mself\u001b[39m, other \u001b[38;5;241m=\u001b[39m \u001b[38;5;28mself\u001b[39m\u001b[38;5;241m.\u001b[39m_align_for_op(other)\n\u001b[1;32m-> 5819\u001b[0m     \u001b[38;5;28;01mreturn\u001b[39;00m \u001b[43mbase\u001b[49m\u001b[38;5;241;43m.\u001b[39;49m\u001b[43mIndexOpsMixin\u001b[49m\u001b[38;5;241;43m.\u001b[39;49m\u001b[43m_arith_method\u001b[49m\u001b[43m(\u001b[49m\u001b[38;5;28;43mself\u001b[39;49m\u001b[43m,\u001b[49m\u001b[43m \u001b[49m\u001b[43mother\u001b[49m\u001b[43m,\u001b[49m\u001b[43m \u001b[49m\u001b[43mop\u001b[49m\u001b[43m)\u001b[49m\n",
      "File \u001b[1;32mc:\\Users\\gbo10\\Videos\\research\\counting_research_algorithms\\.venv\\lib\\site-packages\\pandas\\core\\base.py:1381\u001b[0m, in \u001b[0;36mIndexOpsMixin._arith_method\u001b[1;34m(self, other, op)\u001b[0m\n\u001b[0;32m   1378\u001b[0m     rvalues \u001b[38;5;241m=\u001b[39m np\u001b[38;5;241m.\u001b[39marange(rvalues\u001b[38;5;241m.\u001b[39mstart, rvalues\u001b[38;5;241m.\u001b[39mstop, rvalues\u001b[38;5;241m.\u001b[39mstep)\n\u001b[0;32m   1380\u001b[0m \u001b[38;5;28;01mwith\u001b[39;00m np\u001b[38;5;241m.\u001b[39merrstate(\u001b[38;5;28mall\u001b[39m\u001b[38;5;241m=\u001b[39m\u001b[38;5;124m\"\u001b[39m\u001b[38;5;124mignore\u001b[39m\u001b[38;5;124m\"\u001b[39m):\n\u001b[1;32m-> 1381\u001b[0m     result \u001b[38;5;241m=\u001b[39m \u001b[43mops\u001b[49m\u001b[38;5;241;43m.\u001b[39;49m\u001b[43marithmetic_op\u001b[49m\u001b[43m(\u001b[49m\u001b[43mlvalues\u001b[49m\u001b[43m,\u001b[49m\u001b[43m \u001b[49m\u001b[43mrvalues\u001b[49m\u001b[43m,\u001b[49m\u001b[43m \u001b[49m\u001b[43mop\u001b[49m\u001b[43m)\u001b[49m\n\u001b[0;32m   1383\u001b[0m \u001b[38;5;28;01mreturn\u001b[39;00m \u001b[38;5;28mself\u001b[39m\u001b[38;5;241m.\u001b[39m_construct_result(result, name\u001b[38;5;241m=\u001b[39mres_name)\n",
      "File \u001b[1;32mc:\\Users\\gbo10\\Videos\\research\\counting_research_algorithms\\.venv\\lib\\site-packages\\pandas\\core\\ops\\array_ops.py:285\u001b[0m, in \u001b[0;36marithmetic_op\u001b[1;34m(left, right, op)\u001b[0m\n\u001b[0;32m    281\u001b[0m     _bool_arith_check(op, left, right)  \u001b[38;5;66;03m# type: ignore[arg-type]\u001b[39;00m\n\u001b[0;32m    283\u001b[0m     \u001b[38;5;66;03m# error: Argument 1 to \"_na_arithmetic_op\" has incompatible type\u001b[39;00m\n\u001b[0;32m    284\u001b[0m     \u001b[38;5;66;03m# \"Union[ExtensionArray, ndarray[Any, Any]]\"; expected \"ndarray[Any, Any]\"\u001b[39;00m\n\u001b[1;32m--> 285\u001b[0m     res_values \u001b[38;5;241m=\u001b[39m \u001b[43m_na_arithmetic_op\u001b[49m\u001b[43m(\u001b[49m\u001b[43mleft\u001b[49m\u001b[43m,\u001b[49m\u001b[43m \u001b[49m\u001b[43mright\u001b[49m\u001b[43m,\u001b[49m\u001b[43m \u001b[49m\u001b[43mop\u001b[49m\u001b[43m)\u001b[49m  \u001b[38;5;66;03m# type: ignore[arg-type]\u001b[39;00m\n\u001b[0;32m    287\u001b[0m \u001b[38;5;28;01mreturn\u001b[39;00m res_values\n",
      "File \u001b[1;32mc:\\Users\\gbo10\\Videos\\research\\counting_research_algorithms\\.venv\\lib\\site-packages\\pandas\\core\\ops\\array_ops.py:220\u001b[0m, in \u001b[0;36m_na_arithmetic_op\u001b[1;34m(left, right, op, is_cmp)\u001b[0m\n\u001b[0;32m    217\u001b[0m     func \u001b[38;5;241m=\u001b[39m partial(expressions\u001b[38;5;241m.\u001b[39mevaluate, op)\n\u001b[0;32m    219\u001b[0m \u001b[38;5;28;01mtry\u001b[39;00m:\n\u001b[1;32m--> 220\u001b[0m     result \u001b[38;5;241m=\u001b[39m \u001b[43mfunc\u001b[49m\u001b[43m(\u001b[49m\u001b[43mleft\u001b[49m\u001b[43m,\u001b[49m\u001b[43m \u001b[49m\u001b[43mright\u001b[49m\u001b[43m)\u001b[49m\n\u001b[0;32m    221\u001b[0m \u001b[38;5;28;01mexcept\u001b[39;00m \u001b[38;5;167;01mTypeError\u001b[39;00m:\n\u001b[0;32m    222\u001b[0m     \u001b[38;5;28;01mif\u001b[39;00m \u001b[38;5;129;01mnot\u001b[39;00m is_cmp \u001b[38;5;129;01mand\u001b[39;00m (\n\u001b[0;32m    223\u001b[0m         left\u001b[38;5;241m.\u001b[39mdtype \u001b[38;5;241m==\u001b[39m \u001b[38;5;28mobject\u001b[39m \u001b[38;5;129;01mor\u001b[39;00m \u001b[38;5;28mgetattr\u001b[39m(right, \u001b[38;5;124m\"\u001b[39m\u001b[38;5;124mdtype\u001b[39m\u001b[38;5;124m\"\u001b[39m, \u001b[38;5;28;01mNone\u001b[39;00m) \u001b[38;5;241m==\u001b[39m \u001b[38;5;28mobject\u001b[39m\n\u001b[0;32m    224\u001b[0m     ):\n\u001b[1;32m   (...)\u001b[0m\n\u001b[0;32m    227\u001b[0m         \u001b[38;5;66;03m# Don't do this for comparisons, as that will handle complex numbers\u001b[39;00m\n\u001b[0;32m    228\u001b[0m         \u001b[38;5;66;03m#  incorrectly, see GH#32047\u001b[39;00m\n",
      "File \u001b[1;32mc:\\Users\\gbo10\\Videos\\research\\counting_research_algorithms\\.venv\\lib\\site-packages\\pandas\\core\\computation\\expressions.py:242\u001b[0m, in \u001b[0;36mevaluate\u001b[1;34m(op, a, b, use_numexpr)\u001b[0m\n\u001b[0;32m    239\u001b[0m \u001b[38;5;28;01mif\u001b[39;00m op_str \u001b[38;5;129;01mis\u001b[39;00m \u001b[38;5;129;01mnot\u001b[39;00m \u001b[38;5;28;01mNone\u001b[39;00m:\n\u001b[0;32m    240\u001b[0m     \u001b[38;5;28;01mif\u001b[39;00m use_numexpr:\n\u001b[0;32m    241\u001b[0m         \u001b[38;5;66;03m# error: \"None\" not callable\u001b[39;00m\n\u001b[1;32m--> 242\u001b[0m         \u001b[38;5;28;01mreturn\u001b[39;00m \u001b[43m_evaluate\u001b[49m\u001b[43m(\u001b[49m\u001b[43mop\u001b[49m\u001b[43m,\u001b[49m\u001b[43m \u001b[49m\u001b[43mop_str\u001b[49m\u001b[43m,\u001b[49m\u001b[43m \u001b[49m\u001b[43ma\u001b[49m\u001b[43m,\u001b[49m\u001b[43m \u001b[49m\u001b[43mb\u001b[49m\u001b[43m)\u001b[49m  \u001b[38;5;66;03m# type: ignore[misc]\u001b[39;00m\n\u001b[0;32m    243\u001b[0m \u001b[38;5;28;01mreturn\u001b[39;00m _evaluate_standard(op, op_str, a, b)\n",
      "File \u001b[1;32mc:\\Users\\gbo10\\Videos\\research\\counting_research_algorithms\\.venv\\lib\\site-packages\\pandas\\core\\computation\\expressions.py:73\u001b[0m, in \u001b[0;36m_evaluate_standard\u001b[1;34m(op, op_str, a, b)\u001b[0m\n\u001b[0;32m     71\u001b[0m \u001b[38;5;28;01mif\u001b[39;00m _TEST_MODE:\n\u001b[0;32m     72\u001b[0m     _store_test_result(\u001b[38;5;28;01mFalse\u001b[39;00m)\n\u001b[1;32m---> 73\u001b[0m \u001b[38;5;28;01mreturn\u001b[39;00m \u001b[43mop\u001b[49m\u001b[43m(\u001b[49m\u001b[43ma\u001b[49m\u001b[43m,\u001b[49m\u001b[43m \u001b[49m\u001b[43mb\u001b[49m\u001b[43m)\u001b[49m\n",
      "File \u001b[1;32mc:\\Users\\gbo10\\Videos\\research\\counting_research_algorithms\\.venv\\lib\\site-packages\\pandas\\core\\roperator.py:27\u001b[0m, in \u001b[0;36mrtruediv\u001b[1;34m(left, right)\u001b[0m\n\u001b[0;32m     26\u001b[0m \u001b[38;5;28;01mdef\u001b[39;00m \u001b[38;5;21mrtruediv\u001b[39m(left, right):\n\u001b[1;32m---> 27\u001b[0m     \u001b[38;5;28;01mreturn\u001b[39;00m \u001b[43mright\u001b[49m\u001b[43m \u001b[49m\u001b[38;5;241;43m/\u001b[39;49m\u001b[43m \u001b[49m\u001b[43mleft\u001b[49m\n",
      "\u001b[1;31mValueError\u001b[0m: setting an array element with a sequence. The requested array has an inhomogeneous shape after 2 dimensions. The detected shape was (3, 2) + inhomogeneous part."
     ]
    }
   ],
   "source": [
    "#print uncertainty of the mean \n",
    "print('uncertainty of the mean:')\n",
    "print(df.groupby('Pond_Type')['Std_Length'].mean()/np.sqrt(df.groupby('Pond_Type')['Avg_Length'].count()))"
   ]
  },
  {
   "cell_type": "code",
   "execution_count": null,
   "metadata": {},
   "outputs": [],
   "source": [
    "X = df[['camera_distance', 'pose_metric_1', 'pose_metric_2']]  # Add other pose metrics if available\n",
    "X = sm.add_constant(X)\n",
    "y = df['diff']\n",
    "model = sm.OLS(y, X).fit()\n",
    "print(model.summary())\n",
    "\n",
    "\n",
    "\n",
    "\n",
    "melted_df = df.melt(id_vars=['Label','PrawnID'], value_vars=['Length_1', 'Length_2', 'Length_3'],\n",
    "                   var_name='rater', value_name='measurement')\n",
    "icc = pg.intraclass_corr(data=melted_df, targets=['Label','PrawnID'], raters='rater', ratings='measurement')\n",
    "print(icc)\n",
    "\n",
    "\n",
    "# Correlation Analysis\n",
    "pearson_corr, pearson_p = pearsonr(df['keypoint_mm'], df['expert_mean'])\n",
    "spearman_corr, spearman_p = spearmanr(df['keypoint_mm'], df['expert_mean'])\n",
    "print(f\"Pearson Correlation: {pearson_corr:.3f}, p-value: {pearson_p:.3e}\")\n",
    "print(f\"Spearman Correlation: {spearman_corr:.3f}, p-value: {spearman_p:.3e}\")\n",
    "\n",
    "mean_measurements = (df['keypoint_mm'] + df['expert_mean']) / 2\n",
    "diff_measurements = df['diff']\n",
    "md = np.mean(diff_measurements)\n",
    "sd = np.std(diff_measurements)\n",
    "\n",
    "plt.figure(figsize=(10, 6))\n",
    "plt.scatter(mean_measurements, diff_measurements, alpha=0.5)\n",
    "plt.axhline(md, color='gray', linestyle='--', label=f'Mean Diff = {md:.2f} mm')\n",
    "plt.axhline(md + 1.96*sd, color='red', linestyle='--', label=f'+1.96 SD = {md + 1.96*sd:.2f} mm')\n",
    "plt.axhline(md - 1.96*sd, color='red', linestyle='--', label=f'-1.96 SD = {md - 1.96*sd:.2f} mm')\n",
    "plt.xlabel('Mean of Measurements (mm)')\n",
    "plt.ylabel('Difference (Keypoint - Expert) (mm)')\n",
    "plt.title('Bland-Altman Plot')\n",
    "plt.legend()\n",
    "plt.show()\n",
    "\n",
    "\n",
    "\n",
    "stat, p = shapiro(df['diff'])\n",
    "print(f'Shapiro-Wilk Test: stat={stat:.3f}, p-value={p:.3e}')\n",
    "\n",
    "# Homogeneity of Variance\n",
    "# Assuming 'camera_distance_category' is already defined as in the visualization section\n",
    "groups = df.groupby('camera_distance_category')['diff'].apply(list)\n",
    "stat, p = levene(*groups)\n",
    "print(f\"Levene’s Test: stat={stat:.3f}, p-value={p:.3e}\")\n"
   ]
  }
 ],
 "metadata": {
  "kernelspec": {
   "display_name": ".venv",
   "language": "python",
   "name": "python3"
  },
  "language_info": {
   "codemirror_mode": {
    "name": "ipython",
    "version": 3
   },
   "file_extension": ".py",
   "mimetype": "text/x-python",
   "name": "python",
   "nbconvert_exporter": "python",
   "pygments_lexer": "ipython3",
   "version": "3.9.7"
  }
 },
 "nbformat": 4,
 "nbformat_minor": 2
}
