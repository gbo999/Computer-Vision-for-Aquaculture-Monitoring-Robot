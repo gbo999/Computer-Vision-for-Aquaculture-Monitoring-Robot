{
 "cells": [
  {
   "cell_type": "code",
   "execution_count": 2,
   "metadata": {},
   "outputs": [
    {
     "name": "stdout",
     "output_type": "stream",
     "text": [
      "192\n",
      "148\n"
     ]
    },
    {
     "data": {
      "text/html": [
       "<div>\n",
       "<style scoped>\n",
       "    .dataframe tbody tr th:only-of-type {\n",
       "        vertical-align: middle;\n",
       "    }\n",
       "\n",
       "    .dataframe tbody tr th {\n",
       "        vertical-align: top;\n",
       "    }\n",
       "\n",
       "    .dataframe thead th {\n",
       "        text-align: right;\n",
       "    }\n",
       "</style>\n",
       "<table border=\"1\" class=\"dataframe\">\n",
       "  <thead>\n",
       "    <tr style=\"text-align: right;\">\n",
       "      <th></th>\n",
       "      <th>Unnamed: 0</th>\n",
       "      <th>Label</th>\n",
       "      <th>PrawnID</th>\n",
       "      <th>Avg_Length</th>\n",
       "      <th>Std_Length</th>\n",
       "      <th>Uncertainty</th>\n",
       "      <th>Length_1</th>\n",
       "      <th>Length_2</th>\n",
       "      <th>Length_3</th>\n",
       "      <th>BoundingBox_1</th>\n",
       "      <th>...</th>\n",
       "      <th>id</th>\n",
       "      <th>Length_fov(mm)</th>\n",
       "      <th>Height(mm)</th>\n",
       "      <th>focal_RealLength(cm)</th>\n",
       "      <th>Length_1_pixels</th>\n",
       "      <th>Length_2_pixels</th>\n",
       "      <th>Length_3_pixels</th>\n",
       "      <th>Pond_Type</th>\n",
       "      <th>Euclidean_Distance</th>\n",
       "      <th>pose_eval_iou</th>\n",
       "    </tr>\n",
       "  </thead>\n",
       "  <tbody>\n",
       "    <tr>\n",
       "      <th>0</th>\n",
       "      <td>8</td>\n",
       "      <td>carapace:undistorted_GX010067_33_625.jpg_gamma</td>\n",
       "      <td>Prawn_0</td>\n",
       "      <td>41.918000</td>\n",
       "      <td>2.531547</td>\n",
       "      <td>1.461589</td>\n",
       "      <td>40.475</td>\n",
       "      <td>39.802</td>\n",
       "      <td>45.477</td>\n",
       "      <td>(2996.016573, 737.0050179, 159.9996606, 166.00...</td>\n",
       "      <td>...</td>\n",
       "      <td>66f57dee6e41de5c74ce9c99</td>\n",
       "      <td>37.355216</td>\n",
       "      <td>650.0</td>\n",
       "      <td>39.424257</td>\n",
       "      <td>229.141118</td>\n",
       "      <td>226.556964</td>\n",
       "      <td>263.179947</td>\n",
       "      <td>test-right</td>\n",
       "      <td>200.019794</td>\n",
       "      <td>0.931093</td>\n",
       "    </tr>\n",
       "    <tr>\n",
       "      <th>1</th>\n",
       "      <td>9</td>\n",
       "      <td>carapace:undistorted_GX010067_33_625.jpg_gamma</td>\n",
       "      <td>Prawn_1</td>\n",
       "      <td>26.698000</td>\n",
       "      <td>1.842735</td>\n",
       "      <td>1.063904</td>\n",
       "      <td>28.855</td>\n",
       "      <td>24.353</td>\n",
       "      <td>26.886</td>\n",
       "      <td>(3770.0181864, 1859.0067423, 114.9979869, 117....</td>\n",
       "      <td>...</td>\n",
       "      <td>66f57dee6e41de5c74ce9c9f</td>\n",
       "      <td>26.800723</td>\n",
       "      <td>650.0</td>\n",
       "      <td>28.310057</td>\n",
       "      <td>163.356811</td>\n",
       "      <td>138.619711</td>\n",
       "      <td>155.591971</td>\n",
       "      <td>test-right</td>\n",
       "      <td>143.631668</td>\n",
       "      <td>0.891552</td>\n",
       "    </tr>\n",
       "    <tr>\n",
       "      <th>2</th>\n",
       "      <td>10</td>\n",
       "      <td>carapace:undistorted_GX010067_33_625.jpg_gamma</td>\n",
       "      <td>Prawn_2</td>\n",
       "      <td>46.299667</td>\n",
       "      <td>4.579569</td>\n",
       "      <td>2.644015</td>\n",
       "      <td>51.637</td>\n",
       "      <td>40.454</td>\n",
       "      <td>46.808</td>\n",
       "      <td>(1136.0077806, 2072.0074935, 280.9986255, 84.9...</td>\n",
       "      <td>...</td>\n",
       "      <td>66f57dee6e41de5c74ce9c9b</td>\n",
       "      <td>42.863067</td>\n",
       "      <td>650.0</td>\n",
       "      <td>44.895700</td>\n",
       "      <td>292.332548</td>\n",
       "      <td>230.268213</td>\n",
       "      <td>270.882577</td>\n",
       "      <td>test-right</td>\n",
       "      <td>227.779274</td>\n",
       "      <td>0.984503</td>\n",
       "    </tr>\n",
       "    <tr>\n",
       "      <th>3</th>\n",
       "      <td>11</td>\n",
       "      <td>carapace:undistorted_GX010067_33_625.jpg_gamma</td>\n",
       "      <td>Prawn_3</td>\n",
       "      <td>24.278667</td>\n",
       "      <td>0.552181</td>\n",
       "      <td>0.318802</td>\n",
       "      <td>24.729</td>\n",
       "      <td>24.606</td>\n",
       "      <td>23.501</td>\n",
       "      <td>(368.0014839, 2140.0110291, 141.0003378, 1.002...</td>\n",
       "      <td>...</td>\n",
       "      <td>66f57dee6e41de5c74ce9c9d</td>\n",
       "      <td>22.394728</td>\n",
       "      <td>650.0</td>\n",
       "      <td>23.428450</td>\n",
       "      <td>139.998288</td>\n",
       "      <td>140.059813</td>\n",
       "      <td>136.002637</td>\n",
       "      <td>test-right</td>\n",
       "      <td>118.864734</td>\n",
       "      <td>0.870366</td>\n",
       "    </tr>\n",
       "    <tr>\n",
       "      <th>4</th>\n",
       "      <td>20</td>\n",
       "      <td>carapace:undistorted_GX010068_26_666.jpg_gamma</td>\n",
       "      <td>Prawn_0</td>\n",
       "      <td>33.843333</td>\n",
       "      <td>2.607538</td>\n",
       "      <td>1.505463</td>\n",
       "      <td>36.364</td>\n",
       "      <td>30.252</td>\n",
       "      <td>34.914</td>\n",
       "      <td>(1496.0102131, 2248.0127922, 149.0029833, 149....</td>\n",
       "      <td>...</td>\n",
       "      <td>66f57def6e41de5c74ce9cba</td>\n",
       "      <td>29.477403</td>\n",
       "      <td>650.0</td>\n",
       "      <td>31.111211</td>\n",
       "      <td>209.307548</td>\n",
       "      <td>152.736298</td>\n",
       "      <td>189.694745</td>\n",
       "      <td>test-right</td>\n",
       "      <td>157.843383</td>\n",
       "      <td>0.945416</td>\n",
       "    </tr>\n",
       "    <tr>\n",
       "      <th>...</th>\n",
       "      <td>...</td>\n",
       "      <td>...</td>\n",
       "      <td>...</td>\n",
       "      <td>...</td>\n",
       "      <td>...</td>\n",
       "      <td>...</td>\n",
       "      <td>...</td>\n",
       "      <td>...</td>\n",
       "      <td>...</td>\n",
       "      <td>...</td>\n",
       "      <td>...</td>\n",
       "      <td>...</td>\n",
       "      <td>...</td>\n",
       "      <td>...</td>\n",
       "      <td>...</td>\n",
       "      <td>...</td>\n",
       "      <td>...</td>\n",
       "      <td>...</td>\n",
       "      <td>...</td>\n",
       "      <td>...</td>\n",
       "      <td>...</td>\n",
       "    </tr>\n",
       "    <tr>\n",
       "      <th>187</th>\n",
       "      <td>1077</td>\n",
       "      <td>carapace:undistorted_GX010183_37_685.jpg_gamma</td>\n",
       "      <td>Prawn_2</td>\n",
       "      <td>39.201000</td>\n",
       "      <td>2.805890</td>\n",
       "      <td>1.619981</td>\n",
       "      <td>38.939</td>\n",
       "      <td>35.903</td>\n",
       "      <td>42.761</td>\n",
       "      <td>(1039.9968915, 2155.9928691, 181.0022403, 212....</td>\n",
       "      <td>...</td>\n",
       "      <td>66f57df36e41de5c74cea240</td>\n",
       "      <td>20.478708</td>\n",
       "      <td>455.0</td>\n",
       "      <td>20.657066</td>\n",
       "      <td>278.106232</td>\n",
       "      <td>261.600029</td>\n",
       "      <td>305.523069</td>\n",
       "      <td>test-car</td>\n",
       "      <td>156.560090</td>\n",
       "      <td>0.858191</td>\n",
       "    </tr>\n",
       "    <tr>\n",
       "      <th>188</th>\n",
       "      <td>1086</td>\n",
       "      <td>carapace:undistorted_GX010183_80_1633.jpg_gamma</td>\n",
       "      <td>Prawn_0</td>\n",
       "      <td>39.565333</td>\n",
       "      <td>2.045577</td>\n",
       "      <td>1.181015</td>\n",
       "      <td>41.730</td>\n",
       "      <td>36.821</td>\n",
       "      <td>40.145</td>\n",
       "      <td>(364.0008550000001, 1448.0027236, 60.9995292, ...</td>\n",
       "      <td>...</td>\n",
       "      <td>66f57df36e41de5c74cea255</td>\n",
       "      <td>30.303052</td>\n",
       "      <td>455.0</td>\n",
       "      <td>30.317194</td>\n",
       "      <td>321.646494</td>\n",
       "      <td>296.861948</td>\n",
       "      <td>316.306469</td>\n",
       "      <td>test-car</td>\n",
       "      <td>229.774280</td>\n",
       "      <td>0.891947</td>\n",
       "    </tr>\n",
       "    <tr>\n",
       "      <th>189</th>\n",
       "      <td>1087</td>\n",
       "      <td>carapace:undistorted_GX010183_80_1633.jpg_gamma</td>\n",
       "      <td>Prawn_1</td>\n",
       "      <td>35.726667</td>\n",
       "      <td>2.216436</td>\n",
       "      <td>1.279660</td>\n",
       "      <td>34.318</td>\n",
       "      <td>34.006</td>\n",
       "      <td>38.856</td>\n",
       "      <td>(2732.0065866, 1332.0003336, 249.000479, 93.00...</td>\n",
       "      <td>...</td>\n",
       "      <td>66f57df36e41de5c74cea255</td>\n",
       "      <td>30.303052</td>\n",
       "      <td>455.0</td>\n",
       "      <td>30.317194</td>\n",
       "      <td>264.516280</td>\n",
       "      <td>274.166574</td>\n",
       "      <td>306.150310</td>\n",
       "      <td>test-car</td>\n",
       "      <td>229.774280</td>\n",
       "      <td>0.891947</td>\n",
       "    </tr>\n",
       "    <tr>\n",
       "      <th>190</th>\n",
       "      <td>1096</td>\n",
       "      <td>carapace:undistorted_GX010183_128_2852.jpg_gamma</td>\n",
       "      <td>Prawn_0</td>\n",
       "      <td>32.746333</td>\n",
       "      <td>1.552567</td>\n",
       "      <td>0.896375</td>\n",
       "      <td>34.761</td>\n",
       "      <td>30.983</td>\n",
       "      <td>32.495</td>\n",
       "      <td>(3943.98895, 1279.9998518, 236.9997988, 124.99...</td>\n",
       "      <td>...</td>\n",
       "      <td>66f57df36e41de5c74cea22d</td>\n",
       "      <td>23.277313</td>\n",
       "      <td>455.0</td>\n",
       "      <td>23.280273</td>\n",
       "      <td>266.596013</td>\n",
       "      <td>250.714436</td>\n",
       "      <td>234.776375</td>\n",
       "      <td>test-car</td>\n",
       "      <td>176.441397</td>\n",
       "      <td>0.801743</td>\n",
       "    </tr>\n",
       "    <tr>\n",
       "      <th>191</th>\n",
       "      <td>1097</td>\n",
       "      <td>carapace:undistorted_GX010183_128_2852.jpg_gamma</td>\n",
       "      <td>Prawn_1</td>\n",
       "      <td>28.574333</td>\n",
       "      <td>2.866558</td>\n",
       "      <td>1.655008</td>\n",
       "      <td>25.229</td>\n",
       "      <td>28.264</td>\n",
       "      <td>32.230</td>\n",
       "      <td>(432.0019632, 2183.9920298, 193.000451, 25.002...</td>\n",
       "      <td>...</td>\n",
       "      <td>66f57df36e41de5c74cea22d</td>\n",
       "      <td>23.277313</td>\n",
       "      <td>455.0</td>\n",
       "      <td>23.280273</td>\n",
       "      <td>193.491293</td>\n",
       "      <td>228.712288</td>\n",
       "      <td>232.861750</td>\n",
       "      <td>test-car</td>\n",
       "      <td>176.441397</td>\n",
       "      <td>0.801743</td>\n",
       "    </tr>\n",
       "  </tbody>\n",
       "</table>\n",
       "<p>148 rows × 29 columns</p>\n",
       "</div>"
      ],
      "text/plain": [
       "     Unnamed: 0                                             Label  PrawnID  \\\n",
       "0             8    carapace:undistorted_GX010067_33_625.jpg_gamma  Prawn_0   \n",
       "1             9    carapace:undistorted_GX010067_33_625.jpg_gamma  Prawn_1   \n",
       "2            10    carapace:undistorted_GX010067_33_625.jpg_gamma  Prawn_2   \n",
       "3            11    carapace:undistorted_GX010067_33_625.jpg_gamma  Prawn_3   \n",
       "4            20    carapace:undistorted_GX010068_26_666.jpg_gamma  Prawn_0   \n",
       "..          ...                                               ...      ...   \n",
       "187        1077    carapace:undistorted_GX010183_37_685.jpg_gamma  Prawn_2   \n",
       "188        1086   carapace:undistorted_GX010183_80_1633.jpg_gamma  Prawn_0   \n",
       "189        1087   carapace:undistorted_GX010183_80_1633.jpg_gamma  Prawn_1   \n",
       "190        1096  carapace:undistorted_GX010183_128_2852.jpg_gamma  Prawn_0   \n",
       "191        1097  carapace:undistorted_GX010183_128_2852.jpg_gamma  Prawn_1   \n",
       "\n",
       "     Avg_Length  Std_Length  Uncertainty  Length_1  Length_2  Length_3  \\\n",
       "0     41.918000    2.531547     1.461589    40.475    39.802    45.477   \n",
       "1     26.698000    1.842735     1.063904    28.855    24.353    26.886   \n",
       "2     46.299667    4.579569     2.644015    51.637    40.454    46.808   \n",
       "3     24.278667    0.552181     0.318802    24.729    24.606    23.501   \n",
       "4     33.843333    2.607538     1.505463    36.364    30.252    34.914   \n",
       "..          ...         ...          ...       ...       ...       ...   \n",
       "187   39.201000    2.805890     1.619981    38.939    35.903    42.761   \n",
       "188   39.565333    2.045577     1.181015    41.730    36.821    40.145   \n",
       "189   35.726667    2.216436     1.279660    34.318    34.006    38.856   \n",
       "190   32.746333    1.552567     0.896375    34.761    30.983    32.495   \n",
       "191   28.574333    2.866558     1.655008    25.229    28.264    32.230   \n",
       "\n",
       "                                         BoundingBox_1  ...  \\\n",
       "0    (2996.016573, 737.0050179, 159.9996606, 166.00...  ...   \n",
       "1    (3770.0181864, 1859.0067423, 114.9979869, 117....  ...   \n",
       "2    (1136.0077806, 2072.0074935, 280.9986255, 84.9...  ...   \n",
       "3    (368.0014839, 2140.0110291, 141.0003378, 1.002...  ...   \n",
       "4    (1496.0102131, 2248.0127922, 149.0029833, 149....  ...   \n",
       "..                                                 ...  ...   \n",
       "187  (1039.9968915, 2155.9928691, 181.0022403, 212....  ...   \n",
       "188  (364.0008550000001, 1448.0027236, 60.9995292, ...  ...   \n",
       "189  (2732.0065866, 1332.0003336, 249.000479, 93.00...  ...   \n",
       "190  (3943.98895, 1279.9998518, 236.9997988, 124.99...  ...   \n",
       "191  (432.0019632, 2183.9920298, 193.000451, 25.002...  ...   \n",
       "\n",
       "                           id Length_fov(mm)  Height(mm)  \\\n",
       "0    66f57dee6e41de5c74ce9c99      37.355216       650.0   \n",
       "1    66f57dee6e41de5c74ce9c9f      26.800723       650.0   \n",
       "2    66f57dee6e41de5c74ce9c9b      42.863067       650.0   \n",
       "3    66f57dee6e41de5c74ce9c9d      22.394728       650.0   \n",
       "4    66f57def6e41de5c74ce9cba      29.477403       650.0   \n",
       "..                        ...            ...         ...   \n",
       "187  66f57df36e41de5c74cea240      20.478708       455.0   \n",
       "188  66f57df36e41de5c74cea255      30.303052       455.0   \n",
       "189  66f57df36e41de5c74cea255      30.303052       455.0   \n",
       "190  66f57df36e41de5c74cea22d      23.277313       455.0   \n",
       "191  66f57df36e41de5c74cea22d      23.277313       455.0   \n",
       "\n",
       "     focal_RealLength(cm)  Length_1_pixels  Length_2_pixels  Length_3_pixels  \\\n",
       "0               39.424257       229.141118       226.556964       263.179947   \n",
       "1               28.310057       163.356811       138.619711       155.591971   \n",
       "2               44.895700       292.332548       230.268213       270.882577   \n",
       "3               23.428450       139.998288       140.059813       136.002637   \n",
       "4               31.111211       209.307548       152.736298       189.694745   \n",
       "..                    ...              ...              ...              ...   \n",
       "187             20.657066       278.106232       261.600029       305.523069   \n",
       "188             30.317194       321.646494       296.861948       316.306469   \n",
       "189             30.317194       264.516280       274.166574       306.150310   \n",
       "190             23.280273       266.596013       250.714436       234.776375   \n",
       "191             23.280273       193.491293       228.712288       232.861750   \n",
       "\n",
       "      Pond_Type  Euclidean_Distance pose_eval_iou  \n",
       "0    test-right          200.019794      0.931093  \n",
       "1    test-right          143.631668      0.891552  \n",
       "2    test-right          227.779274      0.984503  \n",
       "3    test-right          118.864734      0.870366  \n",
       "4    test-right          157.843383      0.945416  \n",
       "..          ...                 ...           ...  \n",
       "187    test-car          156.560090      0.858191  \n",
       "188    test-car          229.774280      0.891947  \n",
       "189    test-car          229.774280      0.891947  \n",
       "190    test-car          176.441397      0.801743  \n",
       "191    test-car          176.441397      0.801743  \n",
       "\n",
       "[148 rows x 29 columns]"
      ]
     },
     "execution_count": 2,
     "metadata": {},
     "output_type": "execute_result"
    }
   ],
   "source": [
    "import pandas as pd\n",
    "\n",
    "df=pd.read_excel(r'C:\\Users\\gbo10\\Videos\\research\\counting_research_algorithms\\fifty_one\\measurements\\updated_filtered_data_with_lengths.xlsx')\n",
    "\n",
    "print(len(df))\n",
    "df=df.dropna()\n",
    "print(len(df))\n",
    "df"
   ]
  },
  {
   "cell_type": "code",
   "execution_count": 8,
   "metadata": {},
   "outputs": [
    {
     "name": "stdout",
     "output_type": "stream",
     "text": [
      "mean difference between min max 6.022547297297297\n",
      "std  difference between min max  3.4118945369224236\n"
     ]
    },
    {
     "data": {
      "application/vnd.plotly.v1+json": {
       "config": {
        "plotlyServerURL": "https://plot.ly"
       },
       "data": [
        {
         "alignmentgroup": "True",
         "box": {
          "visible": true
         },
         "customdata": [
          [
           "carapace:undistorted_GX010067_33_625.jpg_gamma",
           "Prawn_0"
          ],
          [
           "carapace:undistorted_GX010067_33_625.jpg_gamma",
           "Prawn_1"
          ],
          [
           "carapace:undistorted_GX010067_33_625.jpg_gamma",
           "Prawn_2"
          ],
          [
           "carapace:undistorted_GX010067_33_625.jpg_gamma",
           "Prawn_3"
          ],
          [
           "carapace:undistorted_GX010068_26_666.jpg_gamma",
           "Prawn_0"
          ],
          [
           "carapace:undistorted_GX010068_26_666.jpg_gamma",
           "Prawn_1"
          ],
          [
           "carapace:undistorted_GX010068_26_666.jpg_gamma",
           "Prawn_2"
          ],
          [
           "carapace:undistorted_GX010068_27_795.jpg_gamma",
           "Prawn_2"
          ],
          [
           "carapace:undistorted_GX010069_19_191.jpg_gamma",
           "Prawn_0"
          ],
          [
           "carapace:undistorted_GX010069_19_191.jpg_gamma",
           "Prawn_1"
          ],
          [
           "carapace:undistorted_GX010069_19_191.jpg_gamma",
           "Prawn_2"
          ],
          [
           "carapace:undistorted_GX010069_19_191.jpg_gamma",
           "Prawn_3"
          ],
          [
           "carapace:undistorted_GX010069_53_796.jpg_gamma",
           "Prawn_1"
          ],
          [
           "carapace:undistorted_GX010071_22_444.jpg_gamma",
           "Prawn_0"
          ],
          [
           "carapace:undistorted_GX010073_42_695.jpg_gamma",
           "Prawn_0"
          ],
          [
           "carapace:undistorted_GX010073_42_695.jpg_gamma",
           "Prawn_1"
          ],
          [
           "carapace:undistorted_GX010073_42_695.jpg_gamma",
           "Prawn_2"
          ],
          [
           "carapace:undistorted_GX010073_55_1014.jpg_gamma",
           "Prawn_0"
          ],
          [
           "carapace:undistorted_GX010073_55_1014.jpg_gamma",
           "Prawn_3"
          ],
          [
           "carapace:undistorted_GX010077_14_237.jpg_gamma",
           "Prawn_0"
          ],
          [
           "carapace:undistorted_GX010077_14_237.jpg_gamma",
           "Prawn_1"
          ],
          [
           "carapace:undistorted_GX010077_14_237.jpg_gamma",
           "Prawn_2"
          ],
          [
           "carapace:undistorted_GX010080_157_2283.jpg_gamma",
           "Prawn_0"
          ],
          [
           "carapace:undistorted_GX010080_157_2283.jpg_gamma",
           "Prawn_1"
          ],
          [
           "carapace:undistorted_GX010080_157_2283.jpg_gamma",
           "Prawn_2"
          ],
          [
           "carapace:undistorted_GX010080_157_2283.jpg_gamma",
           "Prawn_3"
          ],
          [
           "carapace:undistorted_GX010080_157_2283.jpg_gamma",
           "Prawn_4"
          ],
          [
           "carapace:undistorted_GX010080_193_2640.jpg_gamma",
           "Prawn_0"
          ],
          [
           "carapace:undistorted_GX010080_193_2640.jpg_gamma",
           "Prawn_1"
          ],
          [
           "carapace:undistorted_GX010080_193_2640.jpg_gamma",
           "Prawn_4"
          ],
          [
           "carapace:undistorted_GX010080_212_2954.jpg_gamma",
           "Prawn_0"
          ],
          [
           "carapace:undistorted_GX010080_212_2954.jpg_gamma",
           "Prawn_1"
          ],
          [
           "carapace:undistorted_GX010080_212_2954.jpg_gamma",
           "Prawn_2"
          ],
          [
           "carapace:undistorted_GX010080_237_3366.jpg_gamma",
           "Prawn_0"
          ],
          [
           "carapace:undistorted_GX010080_237_3366.jpg_gamma",
           "Prawn_1"
          ],
          [
           "carapace:undistorted_GX010080_237_3366.jpg_gamma",
           "Prawn_2"
          ],
          [
           "carapace:undistorted_GX010080_237_3366.jpg_gamma",
           "Prawn_3"
          ],
          [
           "carapace:undistorted_GX010080_238_3392.jpg_gamma",
           "Prawn_0"
          ],
          [
           "carapace:undistorted_GX010080_238_3392.jpg_gamma",
           "Prawn_1"
          ],
          [
           "carapace:undistorted_GX010080_238_3392.jpg_gamma",
           "Prawn_2"
          ],
          [
           "carapace:undistorted_GX010080_238_3392.jpg_gamma",
           "Prawn_3"
          ],
          [
           "carapace:undistorted_GX010080_238_3392.jpg_gamma",
           "Prawn_4"
          ],
          [
           "carapace:undistorted_GX010082_8_59.jpg_gamma",
           "Prawn_0"
          ],
          [
           "carapace:undistorted_GX010082_8_59.jpg_gamma",
           "Prawn_1"
          ],
          [
           "carapace:undistorted_GX010082_8_59.jpg_gamma",
           "Prawn_2"
          ],
          [
           "carapace:undistorted_GX010082_8_59.jpg_gamma",
           "Prawn_3"
          ],
          [
           "carapace:undistorted_GX010082_8_59.jpg_gamma",
           "Prawn_4"
          ],
          [
           "carapace:undistorted_GX010082_8_59.jpg_gamma",
           "Prawn_5"
          ],
          [
           "carapace:undistorted_GX010082_53_796.jpg_gamma",
           "Prawn_0"
          ],
          [
           "carapace:undistorted_GX010082_53_796.jpg_gamma",
           "Prawn_1"
          ],
          [
           "carapace:undistorted_GX010082_65_1070.jpg_gamma",
           "Prawn_0"
          ],
          [
           "carapace:undistorted_GX010082_65_1070.jpg_gamma",
           "Prawn_1"
          ],
          [
           "carapace:undistorted_GX010082_65_1070.jpg_gamma",
           "Prawn_2"
          ],
          [
           "carapace:undistorted_GX010082_236_3137.jpg_gamma",
           "Prawn_1"
          ],
          [
           "carapace:undistorted_GX010082_236_3137.jpg_gamma",
           "Prawn_2"
          ],
          [
           "carapace:undistorted_GX010084_30_344.jpg_gamma",
           "Prawn_0"
          ],
          [
           "carapace:undistorted_GX010084_30_344.jpg_gamma",
           "Prawn_2"
          ],
          [
           "carapace:undistorted_GX010084_30_344.jpg_gamma",
           "Prawn_3"
          ],
          [
           "carapace:undistorted_GX010084_30_344.jpg_gamma",
           "Prawn_5"
          ],
          [
           "carapace:undistorted_GX010084_130_1748.jpg_gamma",
           "Prawn_0"
          ],
          [
           "carapace:undistorted_GX010084_130_1748.jpg_gamma",
           "Prawn_1"
          ],
          [
           "carapace:undistorted_GX010084_130_1748.jpg_gamma",
           "Prawn_2"
          ],
          [
           "carapace:undistorted_GX010084_130_1748.jpg_gamma",
           "Prawn_3"
          ],
          [
           "carapace:undistorted_GX010084_167_2291.jpg_gamma",
           "Prawn_0"
          ],
          [
           "carapace:undistorted_GX010084_167_2291.jpg_gamma",
           "Prawn_1"
          ],
          [
           "carapace:undistorted_GX010085_261_3610.jpg_gamma",
           "Prawn_0"
          ],
          [
           "carapace:undistorted_GX010085_261_3610.jpg_gamma",
           "Prawn_1"
          ],
          [
           "carapace:undistorted_GX010085_261_3610.jpg_gamma",
           "Prawn_2"
          ],
          [
           "carapace:undistorted_GX010085_263_3738.jpg_gamma",
           "Prawn_1"
          ],
          [
           "carapace:undistorted_GX010085_263_3738.jpg_gamma",
           "Prawn_3"
          ],
          [
           "carapace:undistorted_GX010088_262_3712.jpg_gamma",
           "Prawn_0"
          ],
          [
           "carapace:undistorted_GX010088_262_3712.jpg_gamma",
           "Prawn_2"
          ],
          [
           "carapace:undistorted_GX010088_262_3712.jpg_gamma",
           "Prawn_3"
          ],
          [
           "carapace:undistorted_GX010088_262_3712.jpg_gamma",
           "Prawn_4"
          ],
          [
           "carapace:undistorted_GX010088_262_3712.jpg_gamma",
           "Prawn_5"
          ],
          [
           "carapace:undistorted_GX010088_327_4364.jpg_gamma",
           "Prawn_0"
          ],
          [
           "carapace:undistorted_GX010088_327_4364.jpg_gamma",
           "Prawn_1"
          ],
          [
           "carapace:undistorted_GX010088_327_4364.jpg_gamma",
           "Prawn_2"
          ],
          [
           "carapace:undistorted_GX010088_327_4364.jpg_gamma",
           "Prawn_3"
          ],
          [
           "carapace:undistorted_GX010089_11_236.jpg_gamma",
           "Prawn_0"
          ],
          [
           "carapace:undistorted_GX010089_11_236.jpg_gamma",
           "Prawn_1"
          ],
          [
           "carapace:undistorted_GX010089_11_236.jpg_gamma",
           "Prawn_2"
          ],
          [
           "carapace:undistorted_GX010090_132_1852.jpg_gamma",
           "Prawn_0"
          ],
          [
           "carapace:undistorted_GX010090_132_1852.jpg_gamma",
           "Prawn_1"
          ],
          [
           "carapace:undistorted_GX010091_5_149.jpg_gamma",
           "Prawn_0"
          ],
          [
           "carapace:undistorted_GX010091_5_149.jpg_gamma",
           "Prawn_1"
          ],
          [
           "carapace:undistorted_GX010091_5_149.jpg_gamma",
           "Prawn_2"
          ],
          [
           "carapace:undistorted_GX010091_5_149.jpg_gamma",
           "Prawn_3"
          ],
          [
           "carapace:undistorted_GX010094_9_129.jpg_gamma",
           "Prawn_0"
          ],
          [
           "carapace:undistorted_GX010094_9_129.jpg_gamma",
           "Prawn_1"
          ],
          [
           "carapace:undistorted_GX010094_24_430.jpg_gamma",
           "Prawn_0"
          ],
          [
           "carapace:undistorted_GX010094_24_430.jpg_gamma",
           "Prawn_1"
          ],
          [
           "carapace:undistorted_GX010094_24_430.jpg_gamma",
           "Prawn_2"
          ],
          [
           "carapace:undistorted_GX010094_93_1258.jpg_gamma",
           "Prawn_0"
          ],
          [
           "carapace:undistorted_GX010094_93_1258.jpg_gamma",
           "Prawn_1"
          ],
          [
           "carapace:undistorted_GX010094_163_2312.jpg_gamma",
           "Prawn_0"
          ],
          [
           "carapace:undistorted_GX010096_107_1571.jpg_gamma",
           "Prawn_0"
          ],
          [
           "carapace:undistorted_GX010097_32_528.jpg_gamma",
           "Prawn_0"
          ],
          [
           "carapace:undistorted_GX010097_32_528.jpg_gamma",
           "Prawn_1"
          ],
          [
           "carapace:undistorted_GX010097_60_1080.jpg_gamma",
           "Prawn_1"
          ],
          [
           "carapace:undistorted_GX010097_105_1651.jpg_gamma",
           "Prawn_0"
          ],
          [
           "carapace:undistorted_GX010097_105_1651.jpg_gamma",
           "Prawn_1"
          ],
          [
           "carapace:undistorted_GX010097_105_1651.jpg_gamma",
           "Prawn_2"
          ],
          [
           "carapace:undistorted_GX010097_105_1651.jpg_gamma",
           "Prawn_3"
          ],
          [
           "carapace:undistorted_GX010097_124_1870.jpg_gamma",
           "Prawn_1"
          ],
          [
           "carapace:undistorted_GX010101_12_173.jpg_gamma",
           "Prawn_0"
          ],
          [
           "carapace:undistorted_GX010102_9_165.jpg_gamma",
           "Prawn_0"
          ],
          [
           "carapace:undistorted_GX010102_9_165.jpg_gamma",
           "Prawn_3"
          ],
          [
           "carapace:undistorted_GX010102_9_165.jpg_gamma",
           "Prawn_4"
          ],
          [
           "carapace:undistorted_GX010102_50_1396.jpg_gamma",
           "Prawn_0"
          ],
          [
           "carapace:undistorted_GX010105_28_816.jpg_gamma",
           "Prawn_0"
          ],
          [
           "carapace:undistorted_GX010105_28_816.jpg_gamma",
           "Prawn_1"
          ],
          [
           "carapace:undistorted_GX010152_36_378.jpg_gamma",
           "Prawn_1"
          ],
          [
           "carapace:undistorted_GX010152_36_378.jpg_gamma",
           "Prawn_2"
          ],
          [
           "carapace:undistorted_GX010155_78_1170.jpg_gamma",
           "Prawn_0"
          ],
          [
           "carapace:undistorted_GX010157_68_883",
           "Prawn_0"
          ],
          [
           "carapace:undistorted_GX010157_160_2259",
           "Prawn_0"
          ],
          [
           "carapace:undistorted_GX010157_160_2259",
           "Prawn_1"
          ],
          [
           "carapace:undistorted_GX010157_174_2582.jpg_gamma",
           "Prawn_0"
          ],
          [
           "carapace:undistorted_GX010157_177_2665.jpg_gamma",
           "Prawn_0"
          ],
          [
           "carapace:undistorted_GX010161_54_676.jpg_gamma.jpg_gamma",
           "Prawn_0"
          ],
          [
           "carapace:undistorted_GX010161_136_2267.jpg_gamma.jpg_gamma",
           "Prawn_0"
          ],
          [
           "carapace:undistorted_GX010162_72_927.jpg_gamma.jpg_gamma",
           "Prawn_0"
          ],
          [
           "carapace:undistorted_GX010169_121_1249",
           "Prawn_0"
          ],
          [
           "carapace:undistorted_GX010173_75_922.jpg_gamma",
           "Prawn_0"
          ],
          [
           "carapace:undistorted_GX010174_62_790.jpg_gamma",
           "Prawn_0"
          ],
          [
           "carapace:undistorted_GX010174_104_1236",
           "Prawn_0"
          ],
          [
           "carapace:undistorted_GX010175_82_852.jpg_gamma",
           "Prawn_0"
          ],
          [
           "carapace:undistorted_GX010175_215_2644.jpg_gamma",
           "Prawn_0"
          ],
          [
           "carapace:undistorted_GX010175_266_3372.jpg_gamma.jpg_gamma",
           "Prawn_0"
          ],
          [
           "carapace:undistorted_GX010177_232_3047",
           "Prawn_0"
          ],
          [
           "carapace:undistorted_GX010178_107_2118",
           "Prawn_0"
          ],
          [
           "carapace:undistorted_GX010178_107_2118",
           "Prawn_1"
          ],
          [
           "carapace:undistorted_GX010178_114_2258",
           "Prawn_0"
          ],
          [
           "carapace:undistorted_GX010178_189_3987.jpg_gamma",
           "Prawn_0"
          ],
          [
           "carapace:undistorted_GX010178_189_3987.jpg_gamma",
           "Prawn_1"
          ],
          [
           "carapace:undistorted_GX010179_88_1697.jpg_gamma",
           "Prawn_0"
          ],
          [
           "carapace:undistorted_GX010179_200_3927.jpg_gamma",
           "Prawn_0"
          ],
          [
           "carapace:undistorted_GX010180_91_1563",
           "Prawn_0"
          ],
          [
           "carapace:undistorted_GX010180_99_1788",
           "Prawn_0"
          ],
          [
           "carapace:undistorted_GX010181_101_1542",
           "Prawn_0"
          ],
          [
           "carapace:undistorted_GX010183_37_685.jpg_gamma",
           "Prawn_0"
          ],
          [
           "carapace:undistorted_GX010183_37_685.jpg_gamma",
           "Prawn_1"
          ],
          [
           "carapace:undistorted_GX010183_37_685.jpg_gamma",
           "Prawn_2"
          ],
          [
           "carapace:undistorted_GX010183_80_1633.jpg_gamma",
           "Prawn_0"
          ],
          [
           "carapace:undistorted_GX010183_80_1633.jpg_gamma",
           "Prawn_1"
          ],
          [
           "carapace:undistorted_GX010183_128_2852.jpg_gamma",
           "Prawn_0"
          ],
          [
           "carapace:undistorted_GX010183_128_2852.jpg_gamma",
           "Prawn_1"
          ]
         ],
         "hovertemplate": "Pond_Type=%{x}<br>diff_max_min=%{y}<br>Label=%{customdata[0]}<br>PrawnID=%{customdata[1]}<extra></extra>",
         "legendgroup": "",
         "marker": {
          "color": "#636efa"
         },
         "name": "",
         "offsetgroup": "",
         "orientation": "v",
         "points": "all",
         "scalegroup": "True",
         "showlegend": false,
         "type": "violin",
         "x": [
          "test-right",
          "test-right",
          "test-right",
          "test-right",
          "test-right",
          "test-right",
          "test-right",
          "test-right",
          "test-right",
          "test-right",
          "test-right",
          "test-right",
          "test-right",
          "test-right",
          "test-right",
          "test-right",
          "test-right",
          "test-right",
          "test-right",
          "test-right",
          "test-right",
          "test-right",
          "test-right",
          "test-right",
          "test-right",
          "test-right",
          "test-right",
          "test-right",
          "test-right",
          "test-right",
          "test-right",
          "test-right",
          "test-right",
          "test-right",
          "test-right",
          "test-right",
          "test-right",
          "test-right",
          "test-right",
          "test-right",
          "test-right",
          "test-right",
          "test-right",
          "test-right",
          "test-right",
          "test-right",
          "test-right",
          "test-right",
          "test-right",
          "test-right",
          "test-right",
          "test-right",
          "test-right",
          "test-right",
          "test-right",
          "test-right",
          "test-right",
          "test-right",
          "test-right",
          "test-right",
          "test-right",
          "test-right",
          "test-right",
          "test-right",
          "test-right",
          "test-right",
          "test-right",
          "test-right",
          "test-right",
          "test-right",
          "test-right",
          "test-right",
          "test-right",
          "test-right",
          "test-right",
          "test-right",
          "test-right",
          "test-right",
          "test-right",
          "test-left",
          "test-left",
          "test-left",
          "test-right",
          "test-right",
          "test-left",
          "test-left",
          "test-left",
          "test-left",
          "test-right",
          "test-right",
          "test-right",
          "test-right",
          "test-right",
          "test-right",
          "test-right",
          "test-right",
          "test-right",
          "test-right",
          "test-right",
          "test-right",
          "test-right",
          "test-right",
          "test-right",
          "test-right",
          "test-right",
          "test-right",
          "test-left",
          "test-left",
          "test-left",
          "test-left",
          "test-left",
          "test-left",
          "test-car",
          "test-car",
          "test-car",
          "test-car",
          "test-car",
          "test-car",
          "test-car",
          "test-car",
          "test-car",
          "test-car",
          "test-car",
          "test-car",
          "test-car",
          "test-car",
          "test-car",
          "test-car",
          "test-car",
          "test-car",
          "test-car",
          "test-car",
          "test-car",
          "test-car",
          "test-car",
          "test-car",
          "test-car",
          "test-car",
          "test-car",
          "test-car",
          "test-car",
          "test-car",
          "test-car",
          "test-car",
          "test-car",
          "test-car",
          "test-car",
          "test-car"
         ],
         "x0": " ",
         "xaxis": "x",
         "y": [
          5.674999999999997,
          4.501999999999999,
          11.183,
          1.227999999999998,
          6.111999999999998,
          6.398999999999997,
          3.426000000000002,
          7.904999999999998,
          2.860000000000003,
          0.7270000000000039,
          7.152999999999999,
          4.640999999999998,
          2.2550000000000026,
          5.599000000000004,
          10.338999999999999,
          5.442999999999998,
          6.239000000000001,
          5.299999999999997,
          5.680999999999997,
          4.625999999999998,
          2.780999999999999,
          4.712,
          4.097000000000001,
          5.578000000000003,
          7.9239999999999995,
          2.746000000000002,
          8.478999999999996,
          10.82,
          5.641000000000005,
          13.049000000000003,
          3.466000000000001,
          4.060000000000002,
          7.413,
          1.1310000000000002,
          2.7149999999999963,
          5.993000000000002,
          6.9239999999999995,
          2.7820000000000036,
          5.388999999999996,
          10.683999999999997,
          4.331000000000003,
          5.895000000000003,
          9.541,
          4.493000000000002,
          3.144999999999996,
          3.936,
          3.870000000000001,
          0.9520000000000017,
          1.2719999999999985,
          8.308999999999997,
          2.8969999999999985,
          7.903999999999996,
          3.2680000000000007,
          4.236000000000001,
          7.780999999999999,
          9.629000000000001,
          8.384999999999998,
          2.9250000000000043,
          8.008000000000003,
          1.2049999999999983,
          6.783000000000001,
          6.670999999999999,
          3.2520000000000024,
          13.736000000000004,
          7.602999999999994,
          13.136999999999997,
          12.580999999999996,
          9.311,
          6.939999999999998,
          8.458999999999996,
          4.966000000000001,
          7.411000000000001,
          3.585000000000001,
          3.6950000000000003,
          4.414999999999999,
          13.003,
          5.069000000000003,
          8.654000000000003,
          7.305,
          7.029,
          1.7379999999999995,
          10.673000000000002,
          5.2039999999999935,
          6.611000000000004,
          5.638999999999999,
          1.791999999999998,
          1.8290000000000006,
          2.286999999999999,
          0.5339999999999989,
          9.239999999999998,
          4.375,
          9.714000000000002,
          16.646,
          8.405999999999999,
          14.412000000000003,
          7.378999999999998,
          4.3160000000000025,
          4.7379999999999995,
          8.701999999999998,
          12.909999999999997,
          2.3249999999999957,
          2.024000000000001,
          2.485000000000003,
          1.904,
          1.0840000000000032,
          5.780999999999999,
          4.132999999999999,
          3.593,
          3.596,
          12.650999999999996,
          8.936,
          7.569000000000003,
          4.552,
          5.100999999999999,
          9.955999999999996,
          7.785,
          3.2940000000000005,
          2.2149999999999963,
          4.430999999999997,
          4.054000000000002,
          2.155999999999999,
          6.756,
          2.0500000000000007,
          6.073999999999998,
          2.2490000000000023,
          2.7149999999999963,
          7.772999999999996,
          5.012999999999998,
          15.93,
          15.953000000000003,
          6.599999999999994,
          8.957,
          3.3740000000000023,
          10.576999999999998,
          4.869999999999997,
          5.123000000000005,
          6.361999999999998,
          9.218999999999994,
          5.027999999999999,
          10.000000000000004,
          4.376999999999995,
          2.0450000000000017,
          6.861999999999998,
          6.858000000000004,
          4.908999999999999,
          4.850000000000001,
          3.7780000000000022,
          7.000999999999998
         ],
         "y0": " ",
         "yaxis": "y"
        }
       ],
       "layout": {
        "legend": {
         "tracegroupgap": 0
        },
        "template": {
         "data": {
          "bar": [
           {
            "error_x": {
             "color": "#2a3f5f"
            },
            "error_y": {
             "color": "#2a3f5f"
            },
            "marker": {
             "line": {
              "color": "#E5ECF6",
              "width": 0.5
             },
             "pattern": {
              "fillmode": "overlay",
              "size": 10,
              "solidity": 0.2
             }
            },
            "type": "bar"
           }
          ],
          "barpolar": [
           {
            "marker": {
             "line": {
              "color": "#E5ECF6",
              "width": 0.5
             },
             "pattern": {
              "fillmode": "overlay",
              "size": 10,
              "solidity": 0.2
             }
            },
            "type": "barpolar"
           }
          ],
          "carpet": [
           {
            "aaxis": {
             "endlinecolor": "#2a3f5f",
             "gridcolor": "white",
             "linecolor": "white",
             "minorgridcolor": "white",
             "startlinecolor": "#2a3f5f"
            },
            "baxis": {
             "endlinecolor": "#2a3f5f",
             "gridcolor": "white",
             "linecolor": "white",
             "minorgridcolor": "white",
             "startlinecolor": "#2a3f5f"
            },
            "type": "carpet"
           }
          ],
          "choropleth": [
           {
            "colorbar": {
             "outlinewidth": 0,
             "ticks": ""
            },
            "type": "choropleth"
           }
          ],
          "contour": [
           {
            "colorbar": {
             "outlinewidth": 0,
             "ticks": ""
            },
            "colorscale": [
             [
              0,
              "#0d0887"
             ],
             [
              0.1111111111111111,
              "#46039f"
             ],
             [
              0.2222222222222222,
              "#7201a8"
             ],
             [
              0.3333333333333333,
              "#9c179e"
             ],
             [
              0.4444444444444444,
              "#bd3786"
             ],
             [
              0.5555555555555556,
              "#d8576b"
             ],
             [
              0.6666666666666666,
              "#ed7953"
             ],
             [
              0.7777777777777778,
              "#fb9f3a"
             ],
             [
              0.8888888888888888,
              "#fdca26"
             ],
             [
              1,
              "#f0f921"
             ]
            ],
            "type": "contour"
           }
          ],
          "contourcarpet": [
           {
            "colorbar": {
             "outlinewidth": 0,
             "ticks": ""
            },
            "type": "contourcarpet"
           }
          ],
          "heatmap": [
           {
            "colorbar": {
             "outlinewidth": 0,
             "ticks": ""
            },
            "colorscale": [
             [
              0,
              "#0d0887"
             ],
             [
              0.1111111111111111,
              "#46039f"
             ],
             [
              0.2222222222222222,
              "#7201a8"
             ],
             [
              0.3333333333333333,
              "#9c179e"
             ],
             [
              0.4444444444444444,
              "#bd3786"
             ],
             [
              0.5555555555555556,
              "#d8576b"
             ],
             [
              0.6666666666666666,
              "#ed7953"
             ],
             [
              0.7777777777777778,
              "#fb9f3a"
             ],
             [
              0.8888888888888888,
              "#fdca26"
             ],
             [
              1,
              "#f0f921"
             ]
            ],
            "type": "heatmap"
           }
          ],
          "heatmapgl": [
           {
            "colorbar": {
             "outlinewidth": 0,
             "ticks": ""
            },
            "colorscale": [
             [
              0,
              "#0d0887"
             ],
             [
              0.1111111111111111,
              "#46039f"
             ],
             [
              0.2222222222222222,
              "#7201a8"
             ],
             [
              0.3333333333333333,
              "#9c179e"
             ],
             [
              0.4444444444444444,
              "#bd3786"
             ],
             [
              0.5555555555555556,
              "#d8576b"
             ],
             [
              0.6666666666666666,
              "#ed7953"
             ],
             [
              0.7777777777777778,
              "#fb9f3a"
             ],
             [
              0.8888888888888888,
              "#fdca26"
             ],
             [
              1,
              "#f0f921"
             ]
            ],
            "type": "heatmapgl"
           }
          ],
          "histogram": [
           {
            "marker": {
             "pattern": {
              "fillmode": "overlay",
              "size": 10,
              "solidity": 0.2
             }
            },
            "type": "histogram"
           }
          ],
          "histogram2d": [
           {
            "colorbar": {
             "outlinewidth": 0,
             "ticks": ""
            },
            "colorscale": [
             [
              0,
              "#0d0887"
             ],
             [
              0.1111111111111111,
              "#46039f"
             ],
             [
              0.2222222222222222,
              "#7201a8"
             ],
             [
              0.3333333333333333,
              "#9c179e"
             ],
             [
              0.4444444444444444,
              "#bd3786"
             ],
             [
              0.5555555555555556,
              "#d8576b"
             ],
             [
              0.6666666666666666,
              "#ed7953"
             ],
             [
              0.7777777777777778,
              "#fb9f3a"
             ],
             [
              0.8888888888888888,
              "#fdca26"
             ],
             [
              1,
              "#f0f921"
             ]
            ],
            "type": "histogram2d"
           }
          ],
          "histogram2dcontour": [
           {
            "colorbar": {
             "outlinewidth": 0,
             "ticks": ""
            },
            "colorscale": [
             [
              0,
              "#0d0887"
             ],
             [
              0.1111111111111111,
              "#46039f"
             ],
             [
              0.2222222222222222,
              "#7201a8"
             ],
             [
              0.3333333333333333,
              "#9c179e"
             ],
             [
              0.4444444444444444,
              "#bd3786"
             ],
             [
              0.5555555555555556,
              "#d8576b"
             ],
             [
              0.6666666666666666,
              "#ed7953"
             ],
             [
              0.7777777777777778,
              "#fb9f3a"
             ],
             [
              0.8888888888888888,
              "#fdca26"
             ],
             [
              1,
              "#f0f921"
             ]
            ],
            "type": "histogram2dcontour"
           }
          ],
          "mesh3d": [
           {
            "colorbar": {
             "outlinewidth": 0,
             "ticks": ""
            },
            "type": "mesh3d"
           }
          ],
          "parcoords": [
           {
            "line": {
             "colorbar": {
              "outlinewidth": 0,
              "ticks": ""
             }
            },
            "type": "parcoords"
           }
          ],
          "pie": [
           {
            "automargin": true,
            "type": "pie"
           }
          ],
          "scatter": [
           {
            "fillpattern": {
             "fillmode": "overlay",
             "size": 10,
             "solidity": 0.2
            },
            "type": "scatter"
           }
          ],
          "scatter3d": [
           {
            "line": {
             "colorbar": {
              "outlinewidth": 0,
              "ticks": ""
             }
            },
            "marker": {
             "colorbar": {
              "outlinewidth": 0,
              "ticks": ""
             }
            },
            "type": "scatter3d"
           }
          ],
          "scattercarpet": [
           {
            "marker": {
             "colorbar": {
              "outlinewidth": 0,
              "ticks": ""
             }
            },
            "type": "scattercarpet"
           }
          ],
          "scattergeo": [
           {
            "marker": {
             "colorbar": {
              "outlinewidth": 0,
              "ticks": ""
             }
            },
            "type": "scattergeo"
           }
          ],
          "scattergl": [
           {
            "marker": {
             "colorbar": {
              "outlinewidth": 0,
              "ticks": ""
             }
            },
            "type": "scattergl"
           }
          ],
          "scattermapbox": [
           {
            "marker": {
             "colorbar": {
              "outlinewidth": 0,
              "ticks": ""
             }
            },
            "type": "scattermapbox"
           }
          ],
          "scatterpolar": [
           {
            "marker": {
             "colorbar": {
              "outlinewidth": 0,
              "ticks": ""
             }
            },
            "type": "scatterpolar"
           }
          ],
          "scatterpolargl": [
           {
            "marker": {
             "colorbar": {
              "outlinewidth": 0,
              "ticks": ""
             }
            },
            "type": "scatterpolargl"
           }
          ],
          "scatterternary": [
           {
            "marker": {
             "colorbar": {
              "outlinewidth": 0,
              "ticks": ""
             }
            },
            "type": "scatterternary"
           }
          ],
          "surface": [
           {
            "colorbar": {
             "outlinewidth": 0,
             "ticks": ""
            },
            "colorscale": [
             [
              0,
              "#0d0887"
             ],
             [
              0.1111111111111111,
              "#46039f"
             ],
             [
              0.2222222222222222,
              "#7201a8"
             ],
             [
              0.3333333333333333,
              "#9c179e"
             ],
             [
              0.4444444444444444,
              "#bd3786"
             ],
             [
              0.5555555555555556,
              "#d8576b"
             ],
             [
              0.6666666666666666,
              "#ed7953"
             ],
             [
              0.7777777777777778,
              "#fb9f3a"
             ],
             [
              0.8888888888888888,
              "#fdca26"
             ],
             [
              1,
              "#f0f921"
             ]
            ],
            "type": "surface"
           }
          ],
          "table": [
           {
            "cells": {
             "fill": {
              "color": "#EBF0F8"
             },
             "line": {
              "color": "white"
             }
            },
            "header": {
             "fill": {
              "color": "#C8D4E3"
             },
             "line": {
              "color": "white"
             }
            },
            "type": "table"
           }
          ]
         },
         "layout": {
          "annotationdefaults": {
           "arrowcolor": "#2a3f5f",
           "arrowhead": 0,
           "arrowwidth": 1
          },
          "autotypenumbers": "strict",
          "coloraxis": {
           "colorbar": {
            "outlinewidth": 0,
            "ticks": ""
           }
          },
          "colorscale": {
           "diverging": [
            [
             0,
             "#8e0152"
            ],
            [
             0.1,
             "#c51b7d"
            ],
            [
             0.2,
             "#de77ae"
            ],
            [
             0.3,
             "#f1b6da"
            ],
            [
             0.4,
             "#fde0ef"
            ],
            [
             0.5,
             "#f7f7f7"
            ],
            [
             0.6,
             "#e6f5d0"
            ],
            [
             0.7,
             "#b8e186"
            ],
            [
             0.8,
             "#7fbc41"
            ],
            [
             0.9,
             "#4d9221"
            ],
            [
             1,
             "#276419"
            ]
           ],
           "sequential": [
            [
             0,
             "#0d0887"
            ],
            [
             0.1111111111111111,
             "#46039f"
            ],
            [
             0.2222222222222222,
             "#7201a8"
            ],
            [
             0.3333333333333333,
             "#9c179e"
            ],
            [
             0.4444444444444444,
             "#bd3786"
            ],
            [
             0.5555555555555556,
             "#d8576b"
            ],
            [
             0.6666666666666666,
             "#ed7953"
            ],
            [
             0.7777777777777778,
             "#fb9f3a"
            ],
            [
             0.8888888888888888,
             "#fdca26"
            ],
            [
             1,
             "#f0f921"
            ]
           ],
           "sequentialminus": [
            [
             0,
             "#0d0887"
            ],
            [
             0.1111111111111111,
             "#46039f"
            ],
            [
             0.2222222222222222,
             "#7201a8"
            ],
            [
             0.3333333333333333,
             "#9c179e"
            ],
            [
             0.4444444444444444,
             "#bd3786"
            ],
            [
             0.5555555555555556,
             "#d8576b"
            ],
            [
             0.6666666666666666,
             "#ed7953"
            ],
            [
             0.7777777777777778,
             "#fb9f3a"
            ],
            [
             0.8888888888888888,
             "#fdca26"
            ],
            [
             1,
             "#f0f921"
            ]
           ]
          },
          "colorway": [
           "#636efa",
           "#EF553B",
           "#00cc96",
           "#ab63fa",
           "#FFA15A",
           "#19d3f3",
           "#FF6692",
           "#B6E880",
           "#FF97FF",
           "#FECB52"
          ],
          "font": {
           "color": "#2a3f5f"
          },
          "geo": {
           "bgcolor": "white",
           "lakecolor": "white",
           "landcolor": "#E5ECF6",
           "showlakes": true,
           "showland": true,
           "subunitcolor": "white"
          },
          "hoverlabel": {
           "align": "left"
          },
          "hovermode": "closest",
          "mapbox": {
           "style": "light"
          },
          "paper_bgcolor": "white",
          "plot_bgcolor": "#E5ECF6",
          "polar": {
           "angularaxis": {
            "gridcolor": "white",
            "linecolor": "white",
            "ticks": ""
           },
           "bgcolor": "#E5ECF6",
           "radialaxis": {
            "gridcolor": "white",
            "linecolor": "white",
            "ticks": ""
           }
          },
          "scene": {
           "xaxis": {
            "backgroundcolor": "#E5ECF6",
            "gridcolor": "white",
            "gridwidth": 2,
            "linecolor": "white",
            "showbackground": true,
            "ticks": "",
            "zerolinecolor": "white"
           },
           "yaxis": {
            "backgroundcolor": "#E5ECF6",
            "gridcolor": "white",
            "gridwidth": 2,
            "linecolor": "white",
            "showbackground": true,
            "ticks": "",
            "zerolinecolor": "white"
           },
           "zaxis": {
            "backgroundcolor": "#E5ECF6",
            "gridcolor": "white",
            "gridwidth": 2,
            "linecolor": "white",
            "showbackground": true,
            "ticks": "",
            "zerolinecolor": "white"
           }
          },
          "shapedefaults": {
           "line": {
            "color": "#2a3f5f"
           }
          },
          "ternary": {
           "aaxis": {
            "gridcolor": "white",
            "linecolor": "white",
            "ticks": ""
           },
           "baxis": {
            "gridcolor": "white",
            "linecolor": "white",
            "ticks": ""
           },
           "bgcolor": "#E5ECF6",
           "caxis": {
            "gridcolor": "white",
            "linecolor": "white",
            "ticks": ""
           }
          },
          "title": {
           "x": 0.05
          },
          "xaxis": {
           "automargin": true,
           "gridcolor": "white",
           "linecolor": "white",
           "ticks": "",
           "title": {
            "standoff": 15
           },
           "zerolinecolor": "white",
           "zerolinewidth": 2
          },
          "yaxis": {
           "automargin": true,
           "gridcolor": "white",
           "linecolor": "white",
           "ticks": "",
           "title": {
            "standoff": 15
           },
           "zerolinecolor": "white",
           "zerolinewidth": 2
          }
         }
        },
        "title": {
         "text": "Violin plot of diff_max_min"
        },
        "violinmode": "group",
        "xaxis": {
         "anchor": "y",
         "domain": [
          0,
          1
         ],
         "title": {
          "text": "Pond_Type"
         }
        },
        "yaxis": {
         "anchor": "x",
         "domain": [
          0,
          1
         ],
         "title": {
          "text": "diff_max_min"
         }
        }
       }
      }
     },
     "metadata": {},
     "output_type": "display_data"
    },
    {
     "data": {
      "application/vnd.plotly.v1+json": {
       "config": {
        "plotlyServerURL": "https://plot.ly"
       },
       "data": [
        {
         "alignmentgroup": "True",
         "box": {
          "visible": true
         },
         "customdata": [
          [
           "carapace:undistorted_GX010067_33_625.jpg_gamma",
           "Prawn_0"
          ],
          [
           "carapace:undistorted_GX010067_33_625.jpg_gamma",
           "Prawn_1"
          ],
          [
           "carapace:undistorted_GX010067_33_625.jpg_gamma",
           "Prawn_2"
          ],
          [
           "carapace:undistorted_GX010067_33_625.jpg_gamma",
           "Prawn_3"
          ],
          [
           "carapace:undistorted_GX010068_26_666.jpg_gamma",
           "Prawn_0"
          ],
          [
           "carapace:undistorted_GX010068_26_666.jpg_gamma",
           "Prawn_1"
          ],
          [
           "carapace:undistorted_GX010068_26_666.jpg_gamma",
           "Prawn_2"
          ],
          [
           "carapace:undistorted_GX010068_27_795.jpg_gamma",
           "Prawn_2"
          ],
          [
           "carapace:undistorted_GX010069_19_191.jpg_gamma",
           "Prawn_0"
          ],
          [
           "carapace:undistorted_GX010069_19_191.jpg_gamma",
           "Prawn_1"
          ],
          [
           "carapace:undistorted_GX010069_19_191.jpg_gamma",
           "Prawn_2"
          ],
          [
           "carapace:undistorted_GX010069_19_191.jpg_gamma",
           "Prawn_3"
          ],
          [
           "carapace:undistorted_GX010069_53_796.jpg_gamma",
           "Prawn_1"
          ],
          [
           "carapace:undistorted_GX010071_22_444.jpg_gamma",
           "Prawn_0"
          ],
          [
           "carapace:undistorted_GX010073_42_695.jpg_gamma",
           "Prawn_0"
          ],
          [
           "carapace:undistorted_GX010073_42_695.jpg_gamma",
           "Prawn_1"
          ],
          [
           "carapace:undistorted_GX010073_42_695.jpg_gamma",
           "Prawn_2"
          ],
          [
           "carapace:undistorted_GX010073_55_1014.jpg_gamma",
           "Prawn_0"
          ],
          [
           "carapace:undistorted_GX010073_55_1014.jpg_gamma",
           "Prawn_3"
          ],
          [
           "carapace:undistorted_GX010077_14_237.jpg_gamma",
           "Prawn_0"
          ],
          [
           "carapace:undistorted_GX010077_14_237.jpg_gamma",
           "Prawn_1"
          ],
          [
           "carapace:undistorted_GX010077_14_237.jpg_gamma",
           "Prawn_2"
          ],
          [
           "carapace:undistorted_GX010080_157_2283.jpg_gamma",
           "Prawn_0"
          ],
          [
           "carapace:undistorted_GX010080_157_2283.jpg_gamma",
           "Prawn_1"
          ],
          [
           "carapace:undistorted_GX010080_157_2283.jpg_gamma",
           "Prawn_2"
          ],
          [
           "carapace:undistorted_GX010080_157_2283.jpg_gamma",
           "Prawn_3"
          ],
          [
           "carapace:undistorted_GX010080_157_2283.jpg_gamma",
           "Prawn_4"
          ],
          [
           "carapace:undistorted_GX010080_193_2640.jpg_gamma",
           "Prawn_0"
          ],
          [
           "carapace:undistorted_GX010080_193_2640.jpg_gamma",
           "Prawn_1"
          ],
          [
           "carapace:undistorted_GX010080_193_2640.jpg_gamma",
           "Prawn_4"
          ],
          [
           "carapace:undistorted_GX010080_212_2954.jpg_gamma",
           "Prawn_0"
          ],
          [
           "carapace:undistorted_GX010080_212_2954.jpg_gamma",
           "Prawn_1"
          ],
          [
           "carapace:undistorted_GX010080_212_2954.jpg_gamma",
           "Prawn_2"
          ],
          [
           "carapace:undistorted_GX010080_237_3366.jpg_gamma",
           "Prawn_0"
          ],
          [
           "carapace:undistorted_GX010080_237_3366.jpg_gamma",
           "Prawn_1"
          ],
          [
           "carapace:undistorted_GX010080_237_3366.jpg_gamma",
           "Prawn_2"
          ],
          [
           "carapace:undistorted_GX010080_237_3366.jpg_gamma",
           "Prawn_3"
          ],
          [
           "carapace:undistorted_GX010080_238_3392.jpg_gamma",
           "Prawn_0"
          ],
          [
           "carapace:undistorted_GX010080_238_3392.jpg_gamma",
           "Prawn_1"
          ],
          [
           "carapace:undistorted_GX010080_238_3392.jpg_gamma",
           "Prawn_2"
          ],
          [
           "carapace:undistorted_GX010080_238_3392.jpg_gamma",
           "Prawn_3"
          ],
          [
           "carapace:undistorted_GX010080_238_3392.jpg_gamma",
           "Prawn_4"
          ],
          [
           "carapace:undistorted_GX010082_8_59.jpg_gamma",
           "Prawn_0"
          ],
          [
           "carapace:undistorted_GX010082_8_59.jpg_gamma",
           "Prawn_1"
          ],
          [
           "carapace:undistorted_GX010082_8_59.jpg_gamma",
           "Prawn_2"
          ],
          [
           "carapace:undistorted_GX010082_8_59.jpg_gamma",
           "Prawn_3"
          ],
          [
           "carapace:undistorted_GX010082_8_59.jpg_gamma",
           "Prawn_4"
          ],
          [
           "carapace:undistorted_GX010082_8_59.jpg_gamma",
           "Prawn_5"
          ],
          [
           "carapace:undistorted_GX010082_53_796.jpg_gamma",
           "Prawn_0"
          ],
          [
           "carapace:undistorted_GX010082_53_796.jpg_gamma",
           "Prawn_1"
          ],
          [
           "carapace:undistorted_GX010082_65_1070.jpg_gamma",
           "Prawn_0"
          ],
          [
           "carapace:undistorted_GX010082_65_1070.jpg_gamma",
           "Prawn_1"
          ],
          [
           "carapace:undistorted_GX010082_65_1070.jpg_gamma",
           "Prawn_2"
          ],
          [
           "carapace:undistorted_GX010082_236_3137.jpg_gamma",
           "Prawn_1"
          ],
          [
           "carapace:undistorted_GX010082_236_3137.jpg_gamma",
           "Prawn_2"
          ],
          [
           "carapace:undistorted_GX010084_30_344.jpg_gamma",
           "Prawn_0"
          ],
          [
           "carapace:undistorted_GX010084_30_344.jpg_gamma",
           "Prawn_2"
          ],
          [
           "carapace:undistorted_GX010084_30_344.jpg_gamma",
           "Prawn_3"
          ],
          [
           "carapace:undistorted_GX010084_30_344.jpg_gamma",
           "Prawn_5"
          ],
          [
           "carapace:undistorted_GX010084_130_1748.jpg_gamma",
           "Prawn_0"
          ],
          [
           "carapace:undistorted_GX010084_130_1748.jpg_gamma",
           "Prawn_1"
          ],
          [
           "carapace:undistorted_GX010084_130_1748.jpg_gamma",
           "Prawn_2"
          ],
          [
           "carapace:undistorted_GX010084_130_1748.jpg_gamma",
           "Prawn_3"
          ],
          [
           "carapace:undistorted_GX010084_167_2291.jpg_gamma",
           "Prawn_0"
          ],
          [
           "carapace:undistorted_GX010084_167_2291.jpg_gamma",
           "Prawn_1"
          ],
          [
           "carapace:undistorted_GX010085_261_3610.jpg_gamma",
           "Prawn_0"
          ],
          [
           "carapace:undistorted_GX010085_261_3610.jpg_gamma",
           "Prawn_1"
          ],
          [
           "carapace:undistorted_GX010085_261_3610.jpg_gamma",
           "Prawn_2"
          ],
          [
           "carapace:undistorted_GX010085_263_3738.jpg_gamma",
           "Prawn_1"
          ],
          [
           "carapace:undistorted_GX010085_263_3738.jpg_gamma",
           "Prawn_3"
          ],
          [
           "carapace:undistorted_GX010088_262_3712.jpg_gamma",
           "Prawn_0"
          ],
          [
           "carapace:undistorted_GX010088_262_3712.jpg_gamma",
           "Prawn_2"
          ],
          [
           "carapace:undistorted_GX010088_262_3712.jpg_gamma",
           "Prawn_3"
          ],
          [
           "carapace:undistorted_GX010088_262_3712.jpg_gamma",
           "Prawn_4"
          ],
          [
           "carapace:undistorted_GX010088_262_3712.jpg_gamma",
           "Prawn_5"
          ],
          [
           "carapace:undistorted_GX010088_327_4364.jpg_gamma",
           "Prawn_0"
          ],
          [
           "carapace:undistorted_GX010088_327_4364.jpg_gamma",
           "Prawn_1"
          ],
          [
           "carapace:undistorted_GX010088_327_4364.jpg_gamma",
           "Prawn_2"
          ],
          [
           "carapace:undistorted_GX010088_327_4364.jpg_gamma",
           "Prawn_3"
          ],
          [
           "carapace:undistorted_GX010089_11_236.jpg_gamma",
           "Prawn_0"
          ],
          [
           "carapace:undistorted_GX010089_11_236.jpg_gamma",
           "Prawn_1"
          ],
          [
           "carapace:undistorted_GX010089_11_236.jpg_gamma",
           "Prawn_2"
          ],
          [
           "carapace:undistorted_GX010090_132_1852.jpg_gamma",
           "Prawn_0"
          ],
          [
           "carapace:undistorted_GX010090_132_1852.jpg_gamma",
           "Prawn_1"
          ],
          [
           "carapace:undistorted_GX010091_5_149.jpg_gamma",
           "Prawn_0"
          ],
          [
           "carapace:undistorted_GX010091_5_149.jpg_gamma",
           "Prawn_1"
          ],
          [
           "carapace:undistorted_GX010091_5_149.jpg_gamma",
           "Prawn_2"
          ],
          [
           "carapace:undistorted_GX010091_5_149.jpg_gamma",
           "Prawn_3"
          ],
          [
           "carapace:undistorted_GX010094_9_129.jpg_gamma",
           "Prawn_0"
          ],
          [
           "carapace:undistorted_GX010094_9_129.jpg_gamma",
           "Prawn_1"
          ],
          [
           "carapace:undistorted_GX010094_24_430.jpg_gamma",
           "Prawn_0"
          ],
          [
           "carapace:undistorted_GX010094_24_430.jpg_gamma",
           "Prawn_1"
          ],
          [
           "carapace:undistorted_GX010094_24_430.jpg_gamma",
           "Prawn_2"
          ],
          [
           "carapace:undistorted_GX010094_93_1258.jpg_gamma",
           "Prawn_0"
          ],
          [
           "carapace:undistorted_GX010094_93_1258.jpg_gamma",
           "Prawn_1"
          ],
          [
           "carapace:undistorted_GX010094_163_2312.jpg_gamma",
           "Prawn_0"
          ],
          [
           "carapace:undistorted_GX010096_107_1571.jpg_gamma",
           "Prawn_0"
          ],
          [
           "carapace:undistorted_GX010097_32_528.jpg_gamma",
           "Prawn_0"
          ],
          [
           "carapace:undistorted_GX010097_32_528.jpg_gamma",
           "Prawn_1"
          ],
          [
           "carapace:undistorted_GX010097_60_1080.jpg_gamma",
           "Prawn_1"
          ],
          [
           "carapace:undistorted_GX010097_105_1651.jpg_gamma",
           "Prawn_0"
          ],
          [
           "carapace:undistorted_GX010097_105_1651.jpg_gamma",
           "Prawn_1"
          ],
          [
           "carapace:undistorted_GX010097_105_1651.jpg_gamma",
           "Prawn_2"
          ],
          [
           "carapace:undistorted_GX010097_105_1651.jpg_gamma",
           "Prawn_3"
          ],
          [
           "carapace:undistorted_GX010097_124_1870.jpg_gamma",
           "Prawn_1"
          ],
          [
           "carapace:undistorted_GX010101_12_173.jpg_gamma",
           "Prawn_0"
          ],
          [
           "carapace:undistorted_GX010102_9_165.jpg_gamma",
           "Prawn_0"
          ],
          [
           "carapace:undistorted_GX010102_9_165.jpg_gamma",
           "Prawn_3"
          ],
          [
           "carapace:undistorted_GX010102_9_165.jpg_gamma",
           "Prawn_4"
          ],
          [
           "carapace:undistorted_GX010102_50_1396.jpg_gamma",
           "Prawn_0"
          ],
          [
           "carapace:undistorted_GX010105_28_816.jpg_gamma",
           "Prawn_0"
          ],
          [
           "carapace:undistorted_GX010105_28_816.jpg_gamma",
           "Prawn_1"
          ],
          [
           "carapace:undistorted_GX010152_36_378.jpg_gamma",
           "Prawn_1"
          ],
          [
           "carapace:undistorted_GX010152_36_378.jpg_gamma",
           "Prawn_2"
          ],
          [
           "carapace:undistorted_GX010155_78_1170.jpg_gamma",
           "Prawn_0"
          ],
          [
           "carapace:undistorted_GX010157_68_883",
           "Prawn_0"
          ],
          [
           "carapace:undistorted_GX010157_160_2259",
           "Prawn_0"
          ],
          [
           "carapace:undistorted_GX010157_160_2259",
           "Prawn_1"
          ],
          [
           "carapace:undistorted_GX010157_174_2582.jpg_gamma",
           "Prawn_0"
          ],
          [
           "carapace:undistorted_GX010157_177_2665.jpg_gamma",
           "Prawn_0"
          ],
          [
           "carapace:undistorted_GX010161_54_676.jpg_gamma.jpg_gamma",
           "Prawn_0"
          ],
          [
           "carapace:undistorted_GX010161_136_2267.jpg_gamma.jpg_gamma",
           "Prawn_0"
          ],
          [
           "carapace:undistorted_GX010162_72_927.jpg_gamma.jpg_gamma",
           "Prawn_0"
          ],
          [
           "carapace:undistorted_GX010169_121_1249",
           "Prawn_0"
          ],
          [
           "carapace:undistorted_GX010173_75_922.jpg_gamma",
           "Prawn_0"
          ],
          [
           "carapace:undistorted_GX010174_62_790.jpg_gamma",
           "Prawn_0"
          ],
          [
           "carapace:undistorted_GX010174_104_1236",
           "Prawn_0"
          ],
          [
           "carapace:undistorted_GX010175_82_852.jpg_gamma",
           "Prawn_0"
          ],
          [
           "carapace:undistorted_GX010175_215_2644.jpg_gamma",
           "Prawn_0"
          ],
          [
           "carapace:undistorted_GX010175_266_3372.jpg_gamma.jpg_gamma",
           "Prawn_0"
          ],
          [
           "carapace:undistorted_GX010177_232_3047",
           "Prawn_0"
          ],
          [
           "carapace:undistorted_GX010178_107_2118",
           "Prawn_0"
          ],
          [
           "carapace:undistorted_GX010178_107_2118",
           "Prawn_1"
          ],
          [
           "carapace:undistorted_GX010178_114_2258",
           "Prawn_0"
          ],
          [
           "carapace:undistorted_GX010178_189_3987.jpg_gamma",
           "Prawn_0"
          ],
          [
           "carapace:undistorted_GX010178_189_3987.jpg_gamma",
           "Prawn_1"
          ],
          [
           "carapace:undistorted_GX010179_88_1697.jpg_gamma",
           "Prawn_0"
          ],
          [
           "carapace:undistorted_GX010179_200_3927.jpg_gamma",
           "Prawn_0"
          ],
          [
           "carapace:undistorted_GX010180_91_1563",
           "Prawn_0"
          ],
          [
           "carapace:undistorted_GX010180_99_1788",
           "Prawn_0"
          ],
          [
           "carapace:undistorted_GX010181_101_1542",
           "Prawn_0"
          ],
          [
           "carapace:undistorted_GX010183_37_685.jpg_gamma",
           "Prawn_0"
          ],
          [
           "carapace:undistorted_GX010183_37_685.jpg_gamma",
           "Prawn_1"
          ],
          [
           "carapace:undistorted_GX010183_37_685.jpg_gamma",
           "Prawn_2"
          ],
          [
           "carapace:undistorted_GX010183_80_1633.jpg_gamma",
           "Prawn_0"
          ],
          [
           "carapace:undistorted_GX010183_80_1633.jpg_gamma",
           "Prawn_1"
          ],
          [
           "carapace:undistorted_GX010183_128_2852.jpg_gamma",
           "Prawn_0"
          ],
          [
           "carapace:undistorted_GX010183_128_2852.jpg_gamma",
           "Prawn_1"
          ]
         ],
         "hovertemplate": "Pond_Type=%{x}<br>the_min_diff_percenage_error=%{y}<br>Label=%{customdata[0]}<br>PrawnID=%{customdata[1]}<extra></extra>",
         "legendgroup": "",
         "marker": {
          "color": "#636efa"
         },
         "name": "",
         "offsetgroup": "",
         "orientation": "v",
         "points": "all",
         "scalegroup": "True",
         "showlegend": false,
         "type": "violin",
         "x": [
          "test-right",
          "test-right",
          "test-right",
          "test-right",
          "test-right",
          "test-right",
          "test-right",
          "test-right",
          "test-right",
          "test-right",
          "test-right",
          "test-right",
          "test-right",
          "test-right",
          "test-right",
          "test-right",
          "test-right",
          "test-right",
          "test-right",
          "test-right",
          "test-right",
          "test-right",
          "test-right",
          "test-right",
          "test-right",
          "test-right",
          "test-right",
          "test-right",
          "test-right",
          "test-right",
          "test-right",
          "test-right",
          "test-right",
          "test-right",
          "test-right",
          "test-right",
          "test-right",
          "test-right",
          "test-right",
          "test-right",
          "test-right",
          "test-right",
          "test-right",
          "test-right",
          "test-right",
          "test-right",
          "test-right",
          "test-right",
          "test-right",
          "test-right",
          "test-right",
          "test-right",
          "test-right",
          "test-right",
          "test-right",
          "test-right",
          "test-right",
          "test-right",
          "test-right",
          "test-right",
          "test-right",
          "test-right",
          "test-right",
          "test-right",
          "test-right",
          "test-right",
          "test-right",
          "test-right",
          "test-right",
          "test-right",
          "test-right",
          "test-right",
          "test-right",
          "test-right",
          "test-right",
          "test-right",
          "test-right",
          "test-right",
          "test-right",
          "test-left",
          "test-left",
          "test-left",
          "test-right",
          "test-right",
          "test-left",
          "test-left",
          "test-left",
          "test-left",
          "test-right",
          "test-right",
          "test-right",
          "test-right",
          "test-right",
          "test-right",
          "test-right",
          "test-right",
          "test-right",
          "test-right",
          "test-right",
          "test-right",
          "test-right",
          "test-right",
          "test-right",
          "test-right",
          "test-right",
          "test-right",
          "test-left",
          "test-left",
          "test-left",
          "test-left",
          "test-left",
          "test-left",
          "test-car",
          "test-car",
          "test-car",
          "test-car",
          "test-car",
          "test-car",
          "test-car",
          "test-car",
          "test-car",
          "test-car",
          "test-car",
          "test-car",
          "test-car",
          "test-car",
          "test-car",
          "test-car",
          "test-car",
          "test-car",
          "test-car",
          "test-car",
          "test-car",
          "test-car",
          "test-car",
          "test-car",
          "test-car",
          "test-car",
          "test-car",
          "test-car",
          "test-car",
          "test-car",
          "test-car",
          "test-car",
          "test-car",
          "test-car",
          "test-car",
          "test-car"
         ],
         "x0": " ",
         "xaxis": "x",
         "y": [
          7.00914878566209,
          0.31920364220145864,
          5.955076437768211,
          5.196582271136846,
          2.6986788263208172,
          3.5992499865728305,
          3.616258704064302,
          1.5697525535136585,
          2.3148301476938333,
          1.2328980261642464,
          7.598720315856333,
          0.887970344049,
          2.0479211883234005,
          34.77980313828903,
          2.097815381502918,
          20.60055989906938,
          6.477786821169998,
          7.4002888496712815,
          0.6896748809722755,
          6.913731498821588,
          7.646390454081605,
          12.954877707897303,
          8.735223802998112,
          5.930781374142201,
          59.23758501404919,
          2.8209262638736377,
          13.479913070953376,
          0.21927430508227405,
          14.537688576020683,
          7.721734632236017,
          5.822866375151829,
          1.0022822492776873,
          3.709929710116012,
          4.7970577390650035,
          9.421682615584599,
          4.281471506861308,
          5.77897504360069,
          19.06179207446305,
          0.7641448647224925,
          15.161680517669254,
          9.50418539386311,
          2.094064889105843,
          19.91288344790229,
          5.086659346867308,
          14.108278584042614,
          11.577905032577624,
          1.274262458066293,
          1.0305038582218191,
          6.314852070904255,
          6.324566897370029,
          2.5286255415479313,
          0.8282226011610048,
          1.195710621082823,
          6.509051836417881,
          9.98339136712891,
          22.57820784956341,
          1.3178074625334708,
          21.911880965582288,
          2.434117754614265,
          24.460143440330516,
          10.779654710444666,
          1.485924840967847,
          44.334289023714604,
          39.71162659962821,
          13.703007757930468,
          1.236265422499205,
          5.191969199316195,
          10.693884740143316,
          12.4155551565092,
          77.10470636677223,
          30.31721590444208,
          28.516904354417782,
          46.90224268942206,
          32.57883432222807,
          53.41063018477665,
          3.56950508057413,
          8.658151753600677,
          23.05535619649769,
          25.226936336953344,
          19.65966070207785,
          15.311500058837858,
          8.182463687535611,
          6.57903198598959,
          14.27206508634378,
          8.732023083435388,
          9.082450857499103,
          13.373031490101866,
          158.15254001659082,
          1.2785529517561107,
          6.5216833484627825,
          0.5447926886363558,
          0.2702572010804538,
          9.975547689572055,
          11.481228009039,
          1.416171767232324,
          3.151085632180444,
          16.817295218487,
          24.767301116896636,
          3.9891174598429826,
          5.853770474197164,
          7.783839875837175,
          6.82549214660761,
          5.041709215780596,
          7.403654012080136,
          17.878056191783944,
          3.4389789976430225,
          9.945661733132098,
          2.3818724304668177,
          0.6676605416566326,
          6.885701174274182,
          26.368681747400615,
          2.114173016802049,
          60.572426213681275,
          99.69458127970069,
          29.596413467541126,
          181.53442786944458,
          48.15422074896123,
          355.77006573488643,
          73.59750110148076,
          54.57462006189978,
          40.56142916641948,
          140.59693064701236,
          4.559062612270508,
          36.29929487308039,
          357.1336718084173,
          28.60942977190185,
          0.8017286336271117,
          4.4960306460293396,
          135.79489976157873,
          1.6828185838358667,
          0.47730345626600357,
          23.376690148680776,
          2.5337877627324925,
          2.610222164769353,
          29.286344752979844,
          9.318489828797158,
          1.4000866307423074,
          1.5197696479778606,
          20.246578958550877,
          5.361087842735911,
          38.504414690927554,
          148.88884618498054,
          7.303861522682109,
          305.164719559301,
          27.403484569812893,
          13.920800556613017,
          49.48544062583314,
          9.15184125998792
         ],
         "y0": " ",
         "yaxis": "y"
        }
       ],
       "layout": {
        "legend": {
         "tracegroupgap": 0
        },
        "template": {
         "data": {
          "bar": [
           {
            "error_x": {
             "color": "#2a3f5f"
            },
            "error_y": {
             "color": "#2a3f5f"
            },
            "marker": {
             "line": {
              "color": "#E5ECF6",
              "width": 0.5
             },
             "pattern": {
              "fillmode": "overlay",
              "size": 10,
              "solidity": 0.2
             }
            },
            "type": "bar"
           }
          ],
          "barpolar": [
           {
            "marker": {
             "line": {
              "color": "#E5ECF6",
              "width": 0.5
             },
             "pattern": {
              "fillmode": "overlay",
              "size": 10,
              "solidity": 0.2
             }
            },
            "type": "barpolar"
           }
          ],
          "carpet": [
           {
            "aaxis": {
             "endlinecolor": "#2a3f5f",
             "gridcolor": "white",
             "linecolor": "white",
             "minorgridcolor": "white",
             "startlinecolor": "#2a3f5f"
            },
            "baxis": {
             "endlinecolor": "#2a3f5f",
             "gridcolor": "white",
             "linecolor": "white",
             "minorgridcolor": "white",
             "startlinecolor": "#2a3f5f"
            },
            "type": "carpet"
           }
          ],
          "choropleth": [
           {
            "colorbar": {
             "outlinewidth": 0,
             "ticks": ""
            },
            "type": "choropleth"
           }
          ],
          "contour": [
           {
            "colorbar": {
             "outlinewidth": 0,
             "ticks": ""
            },
            "colorscale": [
             [
              0,
              "#0d0887"
             ],
             [
              0.1111111111111111,
              "#46039f"
             ],
             [
              0.2222222222222222,
              "#7201a8"
             ],
             [
              0.3333333333333333,
              "#9c179e"
             ],
             [
              0.4444444444444444,
              "#bd3786"
             ],
             [
              0.5555555555555556,
              "#d8576b"
             ],
             [
              0.6666666666666666,
              "#ed7953"
             ],
             [
              0.7777777777777778,
              "#fb9f3a"
             ],
             [
              0.8888888888888888,
              "#fdca26"
             ],
             [
              1,
              "#f0f921"
             ]
            ],
            "type": "contour"
           }
          ],
          "contourcarpet": [
           {
            "colorbar": {
             "outlinewidth": 0,
             "ticks": ""
            },
            "type": "contourcarpet"
           }
          ],
          "heatmap": [
           {
            "colorbar": {
             "outlinewidth": 0,
             "ticks": ""
            },
            "colorscale": [
             [
              0,
              "#0d0887"
             ],
             [
              0.1111111111111111,
              "#46039f"
             ],
             [
              0.2222222222222222,
              "#7201a8"
             ],
             [
              0.3333333333333333,
              "#9c179e"
             ],
             [
              0.4444444444444444,
              "#bd3786"
             ],
             [
              0.5555555555555556,
              "#d8576b"
             ],
             [
              0.6666666666666666,
              "#ed7953"
             ],
             [
              0.7777777777777778,
              "#fb9f3a"
             ],
             [
              0.8888888888888888,
              "#fdca26"
             ],
             [
              1,
              "#f0f921"
             ]
            ],
            "type": "heatmap"
           }
          ],
          "heatmapgl": [
           {
            "colorbar": {
             "outlinewidth": 0,
             "ticks": ""
            },
            "colorscale": [
             [
              0,
              "#0d0887"
             ],
             [
              0.1111111111111111,
              "#46039f"
             ],
             [
              0.2222222222222222,
              "#7201a8"
             ],
             [
              0.3333333333333333,
              "#9c179e"
             ],
             [
              0.4444444444444444,
              "#bd3786"
             ],
             [
              0.5555555555555556,
              "#d8576b"
             ],
             [
              0.6666666666666666,
              "#ed7953"
             ],
             [
              0.7777777777777778,
              "#fb9f3a"
             ],
             [
              0.8888888888888888,
              "#fdca26"
             ],
             [
              1,
              "#f0f921"
             ]
            ],
            "type": "heatmapgl"
           }
          ],
          "histogram": [
           {
            "marker": {
             "pattern": {
              "fillmode": "overlay",
              "size": 10,
              "solidity": 0.2
             }
            },
            "type": "histogram"
           }
          ],
          "histogram2d": [
           {
            "colorbar": {
             "outlinewidth": 0,
             "ticks": ""
            },
            "colorscale": [
             [
              0,
              "#0d0887"
             ],
             [
              0.1111111111111111,
              "#46039f"
             ],
             [
              0.2222222222222222,
              "#7201a8"
             ],
             [
              0.3333333333333333,
              "#9c179e"
             ],
             [
              0.4444444444444444,
              "#bd3786"
             ],
             [
              0.5555555555555556,
              "#d8576b"
             ],
             [
              0.6666666666666666,
              "#ed7953"
             ],
             [
              0.7777777777777778,
              "#fb9f3a"
             ],
             [
              0.8888888888888888,
              "#fdca26"
             ],
             [
              1,
              "#f0f921"
             ]
            ],
            "type": "histogram2d"
           }
          ],
          "histogram2dcontour": [
           {
            "colorbar": {
             "outlinewidth": 0,
             "ticks": ""
            },
            "colorscale": [
             [
              0,
              "#0d0887"
             ],
             [
              0.1111111111111111,
              "#46039f"
             ],
             [
              0.2222222222222222,
              "#7201a8"
             ],
             [
              0.3333333333333333,
              "#9c179e"
             ],
             [
              0.4444444444444444,
              "#bd3786"
             ],
             [
              0.5555555555555556,
              "#d8576b"
             ],
             [
              0.6666666666666666,
              "#ed7953"
             ],
             [
              0.7777777777777778,
              "#fb9f3a"
             ],
             [
              0.8888888888888888,
              "#fdca26"
             ],
             [
              1,
              "#f0f921"
             ]
            ],
            "type": "histogram2dcontour"
           }
          ],
          "mesh3d": [
           {
            "colorbar": {
             "outlinewidth": 0,
             "ticks": ""
            },
            "type": "mesh3d"
           }
          ],
          "parcoords": [
           {
            "line": {
             "colorbar": {
              "outlinewidth": 0,
              "ticks": ""
             }
            },
            "type": "parcoords"
           }
          ],
          "pie": [
           {
            "automargin": true,
            "type": "pie"
           }
          ],
          "scatter": [
           {
            "fillpattern": {
             "fillmode": "overlay",
             "size": 10,
             "solidity": 0.2
            },
            "type": "scatter"
           }
          ],
          "scatter3d": [
           {
            "line": {
             "colorbar": {
              "outlinewidth": 0,
              "ticks": ""
             }
            },
            "marker": {
             "colorbar": {
              "outlinewidth": 0,
              "ticks": ""
             }
            },
            "type": "scatter3d"
           }
          ],
          "scattercarpet": [
           {
            "marker": {
             "colorbar": {
              "outlinewidth": 0,
              "ticks": ""
             }
            },
            "type": "scattercarpet"
           }
          ],
          "scattergeo": [
           {
            "marker": {
             "colorbar": {
              "outlinewidth": 0,
              "ticks": ""
             }
            },
            "type": "scattergeo"
           }
          ],
          "scattergl": [
           {
            "marker": {
             "colorbar": {
              "outlinewidth": 0,
              "ticks": ""
             }
            },
            "type": "scattergl"
           }
          ],
          "scattermapbox": [
           {
            "marker": {
             "colorbar": {
              "outlinewidth": 0,
              "ticks": ""
             }
            },
            "type": "scattermapbox"
           }
          ],
          "scatterpolar": [
           {
            "marker": {
             "colorbar": {
              "outlinewidth": 0,
              "ticks": ""
             }
            },
            "type": "scatterpolar"
           }
          ],
          "scatterpolargl": [
           {
            "marker": {
             "colorbar": {
              "outlinewidth": 0,
              "ticks": ""
             }
            },
            "type": "scatterpolargl"
           }
          ],
          "scatterternary": [
           {
            "marker": {
             "colorbar": {
              "outlinewidth": 0,
              "ticks": ""
             }
            },
            "type": "scatterternary"
           }
          ],
          "surface": [
           {
            "colorbar": {
             "outlinewidth": 0,
             "ticks": ""
            },
            "colorscale": [
             [
              0,
              "#0d0887"
             ],
             [
              0.1111111111111111,
              "#46039f"
             ],
             [
              0.2222222222222222,
              "#7201a8"
             ],
             [
              0.3333333333333333,
              "#9c179e"
             ],
             [
              0.4444444444444444,
              "#bd3786"
             ],
             [
              0.5555555555555556,
              "#d8576b"
             ],
             [
              0.6666666666666666,
              "#ed7953"
             ],
             [
              0.7777777777777778,
              "#fb9f3a"
             ],
             [
              0.8888888888888888,
              "#fdca26"
             ],
             [
              1,
              "#f0f921"
             ]
            ],
            "type": "surface"
           }
          ],
          "table": [
           {
            "cells": {
             "fill": {
              "color": "#EBF0F8"
             },
             "line": {
              "color": "white"
             }
            },
            "header": {
             "fill": {
              "color": "#C8D4E3"
             },
             "line": {
              "color": "white"
             }
            },
            "type": "table"
           }
          ]
         },
         "layout": {
          "annotationdefaults": {
           "arrowcolor": "#2a3f5f",
           "arrowhead": 0,
           "arrowwidth": 1
          },
          "autotypenumbers": "strict",
          "coloraxis": {
           "colorbar": {
            "outlinewidth": 0,
            "ticks": ""
           }
          },
          "colorscale": {
           "diverging": [
            [
             0,
             "#8e0152"
            ],
            [
             0.1,
             "#c51b7d"
            ],
            [
             0.2,
             "#de77ae"
            ],
            [
             0.3,
             "#f1b6da"
            ],
            [
             0.4,
             "#fde0ef"
            ],
            [
             0.5,
             "#f7f7f7"
            ],
            [
             0.6,
             "#e6f5d0"
            ],
            [
             0.7,
             "#b8e186"
            ],
            [
             0.8,
             "#7fbc41"
            ],
            [
             0.9,
             "#4d9221"
            ],
            [
             1,
             "#276419"
            ]
           ],
           "sequential": [
            [
             0,
             "#0d0887"
            ],
            [
             0.1111111111111111,
             "#46039f"
            ],
            [
             0.2222222222222222,
             "#7201a8"
            ],
            [
             0.3333333333333333,
             "#9c179e"
            ],
            [
             0.4444444444444444,
             "#bd3786"
            ],
            [
             0.5555555555555556,
             "#d8576b"
            ],
            [
             0.6666666666666666,
             "#ed7953"
            ],
            [
             0.7777777777777778,
             "#fb9f3a"
            ],
            [
             0.8888888888888888,
             "#fdca26"
            ],
            [
             1,
             "#f0f921"
            ]
           ],
           "sequentialminus": [
            [
             0,
             "#0d0887"
            ],
            [
             0.1111111111111111,
             "#46039f"
            ],
            [
             0.2222222222222222,
             "#7201a8"
            ],
            [
             0.3333333333333333,
             "#9c179e"
            ],
            [
             0.4444444444444444,
             "#bd3786"
            ],
            [
             0.5555555555555556,
             "#d8576b"
            ],
            [
             0.6666666666666666,
             "#ed7953"
            ],
            [
             0.7777777777777778,
             "#fb9f3a"
            ],
            [
             0.8888888888888888,
             "#fdca26"
            ],
            [
             1,
             "#f0f921"
            ]
           ]
          },
          "colorway": [
           "#636efa",
           "#EF553B",
           "#00cc96",
           "#ab63fa",
           "#FFA15A",
           "#19d3f3",
           "#FF6692",
           "#B6E880",
           "#FF97FF",
           "#FECB52"
          ],
          "font": {
           "color": "#2a3f5f"
          },
          "geo": {
           "bgcolor": "white",
           "lakecolor": "white",
           "landcolor": "#E5ECF6",
           "showlakes": true,
           "showland": true,
           "subunitcolor": "white"
          },
          "hoverlabel": {
           "align": "left"
          },
          "hovermode": "closest",
          "mapbox": {
           "style": "light"
          },
          "paper_bgcolor": "white",
          "plot_bgcolor": "#E5ECF6",
          "polar": {
           "angularaxis": {
            "gridcolor": "white",
            "linecolor": "white",
            "ticks": ""
           },
           "bgcolor": "#E5ECF6",
           "radialaxis": {
            "gridcolor": "white",
            "linecolor": "white",
            "ticks": ""
           }
          },
          "scene": {
           "xaxis": {
            "backgroundcolor": "#E5ECF6",
            "gridcolor": "white",
            "gridwidth": 2,
            "linecolor": "white",
            "showbackground": true,
            "ticks": "",
            "zerolinecolor": "white"
           },
           "yaxis": {
            "backgroundcolor": "#E5ECF6",
            "gridcolor": "white",
            "gridwidth": 2,
            "linecolor": "white",
            "showbackground": true,
            "ticks": "",
            "zerolinecolor": "white"
           },
           "zaxis": {
            "backgroundcolor": "#E5ECF6",
            "gridcolor": "white",
            "gridwidth": 2,
            "linecolor": "white",
            "showbackground": true,
            "ticks": "",
            "zerolinecolor": "white"
           }
          },
          "shapedefaults": {
           "line": {
            "color": "#2a3f5f"
           }
          },
          "ternary": {
           "aaxis": {
            "gridcolor": "white",
            "linecolor": "white",
            "ticks": ""
           },
           "baxis": {
            "gridcolor": "white",
            "linecolor": "white",
            "ticks": ""
           },
           "bgcolor": "#E5ECF6",
           "caxis": {
            "gridcolor": "white",
            "linecolor": "white",
            "ticks": ""
           }
          },
          "title": {
           "x": 0.05
          },
          "xaxis": {
           "automargin": true,
           "gridcolor": "white",
           "linecolor": "white",
           "ticks": "",
           "title": {
            "standoff": 15
           },
           "zerolinecolor": "white",
           "zerolinewidth": 2
          },
          "yaxis": {
           "automargin": true,
           "gridcolor": "white",
           "linecolor": "white",
           "ticks": "",
           "title": {
            "standoff": 15
           },
           "zerolinecolor": "white",
           "zerolinewidth": 2
          }
         }
        },
        "title": {
         "text": "Violin plot of the_min_diff_percenage_error"
        },
        "violinmode": "group",
        "xaxis": {
         "anchor": "y",
         "domain": [
          0,
          1
         ],
         "title": {
          "text": "Pond_Type"
         }
        },
        "yaxis": {
         "anchor": "x",
         "domain": [
          0,
          1
         ],
         "title": {
          "text": "the_min_diff_percenage_error"
         }
        }
       }
      }
     },
     "metadata": {},
     "output_type": "display_data"
    },
    {
     "data": {
      "application/vnd.plotly.v1+json": {
       "config": {
        "plotlyServerURL": "https://plot.ly"
       },
       "data": [
        {
         "alignmentgroup": "True",
         "box": {
          "visible": true
         },
         "customdata": [
          [
           "carapace:undistorted_GX010067_33_625.jpg_gamma",
           "Prawn_0"
          ],
          [
           "carapace:undistorted_GX010067_33_625.jpg_gamma",
           "Prawn_1"
          ],
          [
           "carapace:undistorted_GX010067_33_625.jpg_gamma",
           "Prawn_2"
          ],
          [
           "carapace:undistorted_GX010067_33_625.jpg_gamma",
           "Prawn_3"
          ],
          [
           "carapace:undistorted_GX010068_26_666.jpg_gamma",
           "Prawn_0"
          ],
          [
           "carapace:undistorted_GX010068_26_666.jpg_gamma",
           "Prawn_1"
          ],
          [
           "carapace:undistorted_GX010068_26_666.jpg_gamma",
           "Prawn_2"
          ],
          [
           "carapace:undistorted_GX010068_27_795.jpg_gamma",
           "Prawn_2"
          ],
          [
           "carapace:undistorted_GX010069_19_191.jpg_gamma",
           "Prawn_0"
          ],
          [
           "carapace:undistorted_GX010069_19_191.jpg_gamma",
           "Prawn_1"
          ],
          [
           "carapace:undistorted_GX010069_19_191.jpg_gamma",
           "Prawn_2"
          ],
          [
           "carapace:undistorted_GX010069_19_191.jpg_gamma",
           "Prawn_3"
          ],
          [
           "carapace:undistorted_GX010069_53_796.jpg_gamma",
           "Prawn_1"
          ],
          [
           "carapace:undistorted_GX010071_22_444.jpg_gamma",
           "Prawn_0"
          ],
          [
           "carapace:undistorted_GX010073_42_695.jpg_gamma",
           "Prawn_0"
          ],
          [
           "carapace:undistorted_GX010073_42_695.jpg_gamma",
           "Prawn_1"
          ],
          [
           "carapace:undistorted_GX010073_42_695.jpg_gamma",
           "Prawn_2"
          ],
          [
           "carapace:undistorted_GX010073_55_1014.jpg_gamma",
           "Prawn_0"
          ],
          [
           "carapace:undistorted_GX010073_55_1014.jpg_gamma",
           "Prawn_3"
          ],
          [
           "carapace:undistorted_GX010077_14_237.jpg_gamma",
           "Prawn_0"
          ],
          [
           "carapace:undistorted_GX010077_14_237.jpg_gamma",
           "Prawn_1"
          ],
          [
           "carapace:undistorted_GX010077_14_237.jpg_gamma",
           "Prawn_2"
          ],
          [
           "carapace:undistorted_GX010080_157_2283.jpg_gamma",
           "Prawn_0"
          ],
          [
           "carapace:undistorted_GX010080_157_2283.jpg_gamma",
           "Prawn_1"
          ],
          [
           "carapace:undistorted_GX010080_157_2283.jpg_gamma",
           "Prawn_2"
          ],
          [
           "carapace:undistorted_GX010080_157_2283.jpg_gamma",
           "Prawn_3"
          ],
          [
           "carapace:undistorted_GX010080_157_2283.jpg_gamma",
           "Prawn_4"
          ],
          [
           "carapace:undistorted_GX010080_193_2640.jpg_gamma",
           "Prawn_0"
          ],
          [
           "carapace:undistorted_GX010080_193_2640.jpg_gamma",
           "Prawn_1"
          ],
          [
           "carapace:undistorted_GX010080_193_2640.jpg_gamma",
           "Prawn_4"
          ],
          [
           "carapace:undistorted_GX010080_212_2954.jpg_gamma",
           "Prawn_0"
          ],
          [
           "carapace:undistorted_GX010080_212_2954.jpg_gamma",
           "Prawn_1"
          ],
          [
           "carapace:undistorted_GX010080_212_2954.jpg_gamma",
           "Prawn_2"
          ],
          [
           "carapace:undistorted_GX010080_237_3366.jpg_gamma",
           "Prawn_0"
          ],
          [
           "carapace:undistorted_GX010080_237_3366.jpg_gamma",
           "Prawn_1"
          ],
          [
           "carapace:undistorted_GX010080_237_3366.jpg_gamma",
           "Prawn_2"
          ],
          [
           "carapace:undistorted_GX010080_237_3366.jpg_gamma",
           "Prawn_3"
          ],
          [
           "carapace:undistorted_GX010080_238_3392.jpg_gamma",
           "Prawn_0"
          ],
          [
           "carapace:undistorted_GX010080_238_3392.jpg_gamma",
           "Prawn_1"
          ],
          [
           "carapace:undistorted_GX010080_238_3392.jpg_gamma",
           "Prawn_2"
          ],
          [
           "carapace:undistorted_GX010080_238_3392.jpg_gamma",
           "Prawn_3"
          ],
          [
           "carapace:undistorted_GX010080_238_3392.jpg_gamma",
           "Prawn_4"
          ],
          [
           "carapace:undistorted_GX010082_8_59.jpg_gamma",
           "Prawn_0"
          ],
          [
           "carapace:undistorted_GX010082_8_59.jpg_gamma",
           "Prawn_1"
          ],
          [
           "carapace:undistorted_GX010082_8_59.jpg_gamma",
           "Prawn_2"
          ],
          [
           "carapace:undistorted_GX010082_8_59.jpg_gamma",
           "Prawn_3"
          ],
          [
           "carapace:undistorted_GX010082_8_59.jpg_gamma",
           "Prawn_4"
          ],
          [
           "carapace:undistorted_GX010082_8_59.jpg_gamma",
           "Prawn_5"
          ],
          [
           "carapace:undistorted_GX010082_53_796.jpg_gamma",
           "Prawn_0"
          ],
          [
           "carapace:undistorted_GX010082_53_796.jpg_gamma",
           "Prawn_1"
          ],
          [
           "carapace:undistorted_GX010082_65_1070.jpg_gamma",
           "Prawn_0"
          ],
          [
           "carapace:undistorted_GX010082_65_1070.jpg_gamma",
           "Prawn_1"
          ],
          [
           "carapace:undistorted_GX010082_65_1070.jpg_gamma",
           "Prawn_2"
          ],
          [
           "carapace:undistorted_GX010082_236_3137.jpg_gamma",
           "Prawn_1"
          ],
          [
           "carapace:undistorted_GX010082_236_3137.jpg_gamma",
           "Prawn_2"
          ],
          [
           "carapace:undistorted_GX010084_30_344.jpg_gamma",
           "Prawn_0"
          ],
          [
           "carapace:undistorted_GX010084_30_344.jpg_gamma",
           "Prawn_2"
          ],
          [
           "carapace:undistorted_GX010084_30_344.jpg_gamma",
           "Prawn_3"
          ],
          [
           "carapace:undistorted_GX010084_30_344.jpg_gamma",
           "Prawn_5"
          ],
          [
           "carapace:undistorted_GX010084_130_1748.jpg_gamma",
           "Prawn_0"
          ],
          [
           "carapace:undistorted_GX010084_130_1748.jpg_gamma",
           "Prawn_1"
          ],
          [
           "carapace:undistorted_GX010084_130_1748.jpg_gamma",
           "Prawn_2"
          ],
          [
           "carapace:undistorted_GX010084_130_1748.jpg_gamma",
           "Prawn_3"
          ],
          [
           "carapace:undistorted_GX010084_167_2291.jpg_gamma",
           "Prawn_0"
          ],
          [
           "carapace:undistorted_GX010084_167_2291.jpg_gamma",
           "Prawn_1"
          ],
          [
           "carapace:undistorted_GX010085_261_3610.jpg_gamma",
           "Prawn_0"
          ],
          [
           "carapace:undistorted_GX010085_261_3610.jpg_gamma",
           "Prawn_1"
          ],
          [
           "carapace:undistorted_GX010085_261_3610.jpg_gamma",
           "Prawn_2"
          ],
          [
           "carapace:undistorted_GX010085_263_3738.jpg_gamma",
           "Prawn_1"
          ],
          [
           "carapace:undistorted_GX010085_263_3738.jpg_gamma",
           "Prawn_3"
          ],
          [
           "carapace:undistorted_GX010088_262_3712.jpg_gamma",
           "Prawn_0"
          ],
          [
           "carapace:undistorted_GX010088_262_3712.jpg_gamma",
           "Prawn_2"
          ],
          [
           "carapace:undistorted_GX010088_262_3712.jpg_gamma",
           "Prawn_3"
          ],
          [
           "carapace:undistorted_GX010088_262_3712.jpg_gamma",
           "Prawn_4"
          ],
          [
           "carapace:undistorted_GX010088_262_3712.jpg_gamma",
           "Prawn_5"
          ],
          [
           "carapace:undistorted_GX010088_327_4364.jpg_gamma",
           "Prawn_0"
          ],
          [
           "carapace:undistorted_GX010088_327_4364.jpg_gamma",
           "Prawn_1"
          ],
          [
           "carapace:undistorted_GX010088_327_4364.jpg_gamma",
           "Prawn_2"
          ],
          [
           "carapace:undistorted_GX010088_327_4364.jpg_gamma",
           "Prawn_3"
          ],
          [
           "carapace:undistorted_GX010089_11_236.jpg_gamma",
           "Prawn_0"
          ],
          [
           "carapace:undistorted_GX010089_11_236.jpg_gamma",
           "Prawn_1"
          ],
          [
           "carapace:undistorted_GX010089_11_236.jpg_gamma",
           "Prawn_2"
          ],
          [
           "carapace:undistorted_GX010090_132_1852.jpg_gamma",
           "Prawn_0"
          ],
          [
           "carapace:undistorted_GX010090_132_1852.jpg_gamma",
           "Prawn_1"
          ],
          [
           "carapace:undistorted_GX010091_5_149.jpg_gamma",
           "Prawn_0"
          ],
          [
           "carapace:undistorted_GX010091_5_149.jpg_gamma",
           "Prawn_1"
          ],
          [
           "carapace:undistorted_GX010091_5_149.jpg_gamma",
           "Prawn_2"
          ],
          [
           "carapace:undistorted_GX010091_5_149.jpg_gamma",
           "Prawn_3"
          ],
          [
           "carapace:undistorted_GX010094_9_129.jpg_gamma",
           "Prawn_0"
          ],
          [
           "carapace:undistorted_GX010094_9_129.jpg_gamma",
           "Prawn_1"
          ],
          [
           "carapace:undistorted_GX010094_24_430.jpg_gamma",
           "Prawn_0"
          ],
          [
           "carapace:undistorted_GX010094_24_430.jpg_gamma",
           "Prawn_1"
          ],
          [
           "carapace:undistorted_GX010094_24_430.jpg_gamma",
           "Prawn_2"
          ],
          [
           "carapace:undistorted_GX010094_93_1258.jpg_gamma",
           "Prawn_0"
          ],
          [
           "carapace:undistorted_GX010094_93_1258.jpg_gamma",
           "Prawn_1"
          ],
          [
           "carapace:undistorted_GX010094_163_2312.jpg_gamma",
           "Prawn_0"
          ],
          [
           "carapace:undistorted_GX010096_107_1571.jpg_gamma",
           "Prawn_0"
          ],
          [
           "carapace:undistorted_GX010097_32_528.jpg_gamma",
           "Prawn_0"
          ],
          [
           "carapace:undistorted_GX010097_32_528.jpg_gamma",
           "Prawn_1"
          ],
          [
           "carapace:undistorted_GX010097_60_1080.jpg_gamma",
           "Prawn_1"
          ],
          [
           "carapace:undistorted_GX010097_105_1651.jpg_gamma",
           "Prawn_0"
          ],
          [
           "carapace:undistorted_GX010097_105_1651.jpg_gamma",
           "Prawn_1"
          ],
          [
           "carapace:undistorted_GX010097_105_1651.jpg_gamma",
           "Prawn_2"
          ],
          [
           "carapace:undistorted_GX010097_105_1651.jpg_gamma",
           "Prawn_3"
          ],
          [
           "carapace:undistorted_GX010097_124_1870.jpg_gamma",
           "Prawn_1"
          ],
          [
           "carapace:undistorted_GX010101_12_173.jpg_gamma",
           "Prawn_0"
          ],
          [
           "carapace:undistorted_GX010102_9_165.jpg_gamma",
           "Prawn_0"
          ],
          [
           "carapace:undistorted_GX010102_9_165.jpg_gamma",
           "Prawn_3"
          ],
          [
           "carapace:undistorted_GX010102_9_165.jpg_gamma",
           "Prawn_4"
          ],
          [
           "carapace:undistorted_GX010102_50_1396.jpg_gamma",
           "Prawn_0"
          ],
          [
           "carapace:undistorted_GX010105_28_816.jpg_gamma",
           "Prawn_0"
          ],
          [
           "carapace:undistorted_GX010105_28_816.jpg_gamma",
           "Prawn_1"
          ],
          [
           "carapace:undistorted_GX010152_36_378.jpg_gamma",
           "Prawn_1"
          ],
          [
           "carapace:undistorted_GX010152_36_378.jpg_gamma",
           "Prawn_2"
          ],
          [
           "carapace:undistorted_GX010155_78_1170.jpg_gamma",
           "Prawn_0"
          ],
          [
           "carapace:undistorted_GX010157_68_883",
           "Prawn_0"
          ],
          [
           "carapace:undistorted_GX010157_160_2259",
           "Prawn_0"
          ],
          [
           "carapace:undistorted_GX010157_160_2259",
           "Prawn_1"
          ],
          [
           "carapace:undistorted_GX010157_174_2582.jpg_gamma",
           "Prawn_0"
          ],
          [
           "carapace:undistorted_GX010157_177_2665.jpg_gamma",
           "Prawn_0"
          ],
          [
           "carapace:undistorted_GX010161_54_676.jpg_gamma.jpg_gamma",
           "Prawn_0"
          ],
          [
           "carapace:undistorted_GX010161_136_2267.jpg_gamma.jpg_gamma",
           "Prawn_0"
          ],
          [
           "carapace:undistorted_GX010162_72_927.jpg_gamma.jpg_gamma",
           "Prawn_0"
          ],
          [
           "carapace:undistorted_GX010169_121_1249",
           "Prawn_0"
          ],
          [
           "carapace:undistorted_GX010173_75_922.jpg_gamma",
           "Prawn_0"
          ],
          [
           "carapace:undistorted_GX010174_62_790.jpg_gamma",
           "Prawn_0"
          ],
          [
           "carapace:undistorted_GX010174_104_1236",
           "Prawn_0"
          ],
          [
           "carapace:undistorted_GX010175_82_852.jpg_gamma",
           "Prawn_0"
          ],
          [
           "carapace:undistorted_GX010175_215_2644.jpg_gamma",
           "Prawn_0"
          ],
          [
           "carapace:undistorted_GX010175_266_3372.jpg_gamma.jpg_gamma",
           "Prawn_0"
          ],
          [
           "carapace:undistorted_GX010177_232_3047",
           "Prawn_0"
          ],
          [
           "carapace:undistorted_GX010178_107_2118",
           "Prawn_0"
          ],
          [
           "carapace:undistorted_GX010178_107_2118",
           "Prawn_1"
          ],
          [
           "carapace:undistorted_GX010178_114_2258",
           "Prawn_0"
          ],
          [
           "carapace:undistorted_GX010178_189_3987.jpg_gamma",
           "Prawn_0"
          ],
          [
           "carapace:undistorted_GX010178_189_3987.jpg_gamma",
           "Prawn_1"
          ],
          [
           "carapace:undistorted_GX010179_88_1697.jpg_gamma",
           "Prawn_0"
          ],
          [
           "carapace:undistorted_GX010179_200_3927.jpg_gamma",
           "Prawn_0"
          ],
          [
           "carapace:undistorted_GX010180_91_1563",
           "Prawn_0"
          ],
          [
           "carapace:undistorted_GX010180_99_1788",
           "Prawn_0"
          ],
          [
           "carapace:undistorted_GX010181_101_1542",
           "Prawn_0"
          ],
          [
           "carapace:undistorted_GX010183_37_685.jpg_gamma",
           "Prawn_0"
          ],
          [
           "carapace:undistorted_GX010183_37_685.jpg_gamma",
           "Prawn_1"
          ],
          [
           "carapace:undistorted_GX010183_37_685.jpg_gamma",
           "Prawn_2"
          ],
          [
           "carapace:undistorted_GX010183_80_1633.jpg_gamma",
           "Prawn_0"
          ],
          [
           "carapace:undistorted_GX010183_80_1633.jpg_gamma",
           "Prawn_1"
          ],
          [
           "carapace:undistorted_GX010183_128_2852.jpg_gamma",
           "Prawn_0"
          ],
          [
           "carapace:undistorted_GX010183_128_2852.jpg_gamma",
           "Prawn_1"
          ]
         ],
         "hovertemplate": "Pond_Type=%{x}<br>the_min_diff=%{y}<br>Label=%{customdata[0]}<br>PrawnID=%{customdata[1]}<extra></extra>",
         "legendgroup": "",
         "marker": {
          "color": "#636efa"
         },
         "name": "",
         "offsetgroup": "",
         "orientation": "v",
         "points": "all",
         "scalegroup": "True",
         "showlegend": false,
         "type": "violin",
         "x": [
          "test-right",
          "test-right",
          "test-right",
          "test-right",
          "test-right",
          "test-right",
          "test-right",
          "test-right",
          "test-right",
          "test-right",
          "test-right",
          "test-right",
          "test-right",
          "test-right",
          "test-right",
          "test-right",
          "test-right",
          "test-right",
          "test-right",
          "test-right",
          "test-right",
          "test-right",
          "test-right",
          "test-right",
          "test-right",
          "test-right",
          "test-right",
          "test-right",
          "test-right",
          "test-right",
          "test-right",
          "test-right",
          "test-right",
          "test-right",
          "test-right",
          "test-right",
          "test-right",
          "test-right",
          "test-right",
          "test-right",
          "test-right",
          "test-right",
          "test-right",
          "test-right",
          "test-right",
          "test-right",
          "test-right",
          "test-right",
          "test-right",
          "test-right",
          "test-right",
          "test-right",
          "test-right",
          "test-right",
          "test-right",
          "test-right",
          "test-right",
          "test-right",
          "test-right",
          "test-right",
          "test-right",
          "test-right",
          "test-right",
          "test-right",
          "test-right",
          "test-right",
          "test-right",
          "test-right",
          "test-right",
          "test-right",
          "test-right",
          "test-right",
          "test-right",
          "test-right",
          "test-right",
          "test-right",
          "test-right",
          "test-right",
          "test-right",
          "test-left",
          "test-left",
          "test-left",
          "test-right",
          "test-right",
          "test-left",
          "test-left",
          "test-left",
          "test-left",
          "test-right",
          "test-right",
          "test-right",
          "test-right",
          "test-right",
          "test-right",
          "test-right",
          "test-right",
          "test-right",
          "test-right",
          "test-right",
          "test-right",
          "test-right",
          "test-right",
          "test-right",
          "test-right",
          "test-right",
          "test-right",
          "test-left",
          "test-left",
          "test-left",
          "test-left",
          "test-left",
          "test-left",
          "test-car",
          "test-car",
          "test-car",
          "test-car",
          "test-car",
          "test-car",
          "test-car",
          "test-car",
          "test-car",
          "test-car",
          "test-car",
          "test-car",
          "test-car",
          "test-car",
          "test-car",
          "test-car",
          "test-car",
          "test-car",
          "test-car",
          "test-car",
          "test-car",
          "test-car",
          "test-car",
          "test-car",
          "test-car",
          "test-car",
          "test-car",
          "test-car",
          "test-car",
          "test-car",
          "test-car",
          "test-car",
          "test-car",
          "test-car",
          "test-car",
          "test-car"
         ],
         "x0": " ",
         "xaxis": "x",
         "y": [
          2.446783945290953,
          0.08527667871348044,
          2.409066622134752,
          1.1062721180279311,
          0.7745965712244889,
          1.0360747222534599,
          1.1828527121330126,
          0.49993677809787584,
          0.7295400167094783,
          0.39047182851777507,
          2.0790745377857185,
          0.26637555389680045,
          0.7497644262570802,
          7.8945987937893385,
          0.4686055705688581,
          6.2724705937662435,
          1.7139051283160391,
          2.2541759455417534,
          0.1774188631301179,
          1.440114446198752,
          2.276551893876828,
          3.2472141583554404,
          2.5450074550035,
          1.807287008142353,
          10.486650898171671,
          0.8914440644480592,
          3.8258689277979876,
          0.07360161324391612,
          4.344568356138659,
          2.1217010248994903,
          1.7840098000190174,
          0.31622555115129813,
          1.4060262608368674,
          1.5545752791319458,
          3.561113378212511,
          1.1869523458471605,
          1.87157885762052,
          4.9397631093736365,
          0.28633524026625423,
          3.8668733912536304,
          2.7136933103597762,
          0.737086286524729,
          4.442403571701789,
          1.858919658312658,
          3.9766563639583836,
          3.3302181006080716,
          0.33659642829821124,
          0.2543217215041196,
          2.416251847890095,
          1.34087142791142,
          0.7171940623492397,
          0.3563841852795804,
          0.39377676033574716,
          2.236835663585005,
          3.374488426799118,
          4.3203898236875915,
          0.37930452194100894,
          5.328216997800958,
          0.7146728969038278,
          5.7356067922486815,
          3.4516196438883,
          0.37333861629317155,
          8.755541734184998,
          9.928169301452087,
          4.624708089312314,
          0.42836596889597445,
          1.7313659688959717,
          2.1986340353926614,
          3.6841536773501886,
          10.3392915406539,
          7.520115420520227,
          6.805719311515258,
          9.961776746553205,
          7.62701871131814,
          10.806018711318142,
          1.0624631872328898,
          2.504610930260938,
          5.424791089564167,
          6.533013095828281,
          3.48025103057158,
          2.5556090733029393,
          2.1401233774749393,
          2.222331214547424,
          3.844473683985779,
          1.5157484905492993,
          2.335467345208162,
          2.877796953342038,
          7.495801023264762,
          0.3191012456992901,
          2.0775419728177695,
          0.1628779994220686,
          0.08293382729555887,
          2.541969062256751,
          3.0112964822107493,
          0.4082964822107513,
          1.1166187046194622,
          4.0673225374073105,
          6.754856911787918,
          1.0583527532709418,
          1.2626582912843283,
          2.4392593634227993,
          2.519854986460146,
          1.4206846235497679,
          2.319934984685311,
          4.01951721734541,
          1.4488198523937186,
          2.1628195036080697,
          0.5011847937176022,
          0.1330309496479103,
          2.223461766184876,
          3.7188528106293397,
          0.6165774186201496,
          10.695123582596068,
          13.097624950590689,
          5.724709969904371,
          11.471818708833602,
          7.174008052216259,
          21.105699447353295,
          10.685251293480231,
          9.10406603835904,
          7.254899085462821,
          15.898921540594902,
          1.0747740249084714,
          6.969479499039583,
          15.067496268252299,
          6.551901737019843,
          0.22820081824094274,
          1.3373984109202084,
          13.225383012875916,
          0.49148451670658133,
          0.195307801269486,
          4.505424698399089,
          0.8719017070338779,
          1.126543512544636,
          6.38574435064352,
          3.1110598584374145,
          0.48008726218905196,
          0.5842230678409663,
          4.500723856087031,
          1.6018930474094901,
          7.36333007703346,
          12.387887374928706,
          1.7820691729192077,
          15.424292339527028,
          6.517947550765669,
          3.7029475507656713,
          7.705687371263771,
          1.9516873712637697
         ],
         "y0": " ",
         "yaxis": "y"
        }
       ],
       "layout": {
        "legend": {
         "tracegroupgap": 0
        },
        "template": {
         "data": {
          "bar": [
           {
            "error_x": {
             "color": "#2a3f5f"
            },
            "error_y": {
             "color": "#2a3f5f"
            },
            "marker": {
             "line": {
              "color": "#E5ECF6",
              "width": 0.5
             },
             "pattern": {
              "fillmode": "overlay",
              "size": 10,
              "solidity": 0.2
             }
            },
            "type": "bar"
           }
          ],
          "barpolar": [
           {
            "marker": {
             "line": {
              "color": "#E5ECF6",
              "width": 0.5
             },
             "pattern": {
              "fillmode": "overlay",
              "size": 10,
              "solidity": 0.2
             }
            },
            "type": "barpolar"
           }
          ],
          "carpet": [
           {
            "aaxis": {
             "endlinecolor": "#2a3f5f",
             "gridcolor": "white",
             "linecolor": "white",
             "minorgridcolor": "white",
             "startlinecolor": "#2a3f5f"
            },
            "baxis": {
             "endlinecolor": "#2a3f5f",
             "gridcolor": "white",
             "linecolor": "white",
             "minorgridcolor": "white",
             "startlinecolor": "#2a3f5f"
            },
            "type": "carpet"
           }
          ],
          "choropleth": [
           {
            "colorbar": {
             "outlinewidth": 0,
             "ticks": ""
            },
            "type": "choropleth"
           }
          ],
          "contour": [
           {
            "colorbar": {
             "outlinewidth": 0,
             "ticks": ""
            },
            "colorscale": [
             [
              0,
              "#0d0887"
             ],
             [
              0.1111111111111111,
              "#46039f"
             ],
             [
              0.2222222222222222,
              "#7201a8"
             ],
             [
              0.3333333333333333,
              "#9c179e"
             ],
             [
              0.4444444444444444,
              "#bd3786"
             ],
             [
              0.5555555555555556,
              "#d8576b"
             ],
             [
              0.6666666666666666,
              "#ed7953"
             ],
             [
              0.7777777777777778,
              "#fb9f3a"
             ],
             [
              0.8888888888888888,
              "#fdca26"
             ],
             [
              1,
              "#f0f921"
             ]
            ],
            "type": "contour"
           }
          ],
          "contourcarpet": [
           {
            "colorbar": {
             "outlinewidth": 0,
             "ticks": ""
            },
            "type": "contourcarpet"
           }
          ],
          "heatmap": [
           {
            "colorbar": {
             "outlinewidth": 0,
             "ticks": ""
            },
            "colorscale": [
             [
              0,
              "#0d0887"
             ],
             [
              0.1111111111111111,
              "#46039f"
             ],
             [
              0.2222222222222222,
              "#7201a8"
             ],
             [
              0.3333333333333333,
              "#9c179e"
             ],
             [
              0.4444444444444444,
              "#bd3786"
             ],
             [
              0.5555555555555556,
              "#d8576b"
             ],
             [
              0.6666666666666666,
              "#ed7953"
             ],
             [
              0.7777777777777778,
              "#fb9f3a"
             ],
             [
              0.8888888888888888,
              "#fdca26"
             ],
             [
              1,
              "#f0f921"
             ]
            ],
            "type": "heatmap"
           }
          ],
          "heatmapgl": [
           {
            "colorbar": {
             "outlinewidth": 0,
             "ticks": ""
            },
            "colorscale": [
             [
              0,
              "#0d0887"
             ],
             [
              0.1111111111111111,
              "#46039f"
             ],
             [
              0.2222222222222222,
              "#7201a8"
             ],
             [
              0.3333333333333333,
              "#9c179e"
             ],
             [
              0.4444444444444444,
              "#bd3786"
             ],
             [
              0.5555555555555556,
              "#d8576b"
             ],
             [
              0.6666666666666666,
              "#ed7953"
             ],
             [
              0.7777777777777778,
              "#fb9f3a"
             ],
             [
              0.8888888888888888,
              "#fdca26"
             ],
             [
              1,
              "#f0f921"
             ]
            ],
            "type": "heatmapgl"
           }
          ],
          "histogram": [
           {
            "marker": {
             "pattern": {
              "fillmode": "overlay",
              "size": 10,
              "solidity": 0.2
             }
            },
            "type": "histogram"
           }
          ],
          "histogram2d": [
           {
            "colorbar": {
             "outlinewidth": 0,
             "ticks": ""
            },
            "colorscale": [
             [
              0,
              "#0d0887"
             ],
             [
              0.1111111111111111,
              "#46039f"
             ],
             [
              0.2222222222222222,
              "#7201a8"
             ],
             [
              0.3333333333333333,
              "#9c179e"
             ],
             [
              0.4444444444444444,
              "#bd3786"
             ],
             [
              0.5555555555555556,
              "#d8576b"
             ],
             [
              0.6666666666666666,
              "#ed7953"
             ],
             [
              0.7777777777777778,
              "#fb9f3a"
             ],
             [
              0.8888888888888888,
              "#fdca26"
             ],
             [
              1,
              "#f0f921"
             ]
            ],
            "type": "histogram2d"
           }
          ],
          "histogram2dcontour": [
           {
            "colorbar": {
             "outlinewidth": 0,
             "ticks": ""
            },
            "colorscale": [
             [
              0,
              "#0d0887"
             ],
             [
              0.1111111111111111,
              "#46039f"
             ],
             [
              0.2222222222222222,
              "#7201a8"
             ],
             [
              0.3333333333333333,
              "#9c179e"
             ],
             [
              0.4444444444444444,
              "#bd3786"
             ],
             [
              0.5555555555555556,
              "#d8576b"
             ],
             [
              0.6666666666666666,
              "#ed7953"
             ],
             [
              0.7777777777777778,
              "#fb9f3a"
             ],
             [
              0.8888888888888888,
              "#fdca26"
             ],
             [
              1,
              "#f0f921"
             ]
            ],
            "type": "histogram2dcontour"
           }
          ],
          "mesh3d": [
           {
            "colorbar": {
             "outlinewidth": 0,
             "ticks": ""
            },
            "type": "mesh3d"
           }
          ],
          "parcoords": [
           {
            "line": {
             "colorbar": {
              "outlinewidth": 0,
              "ticks": ""
             }
            },
            "type": "parcoords"
           }
          ],
          "pie": [
           {
            "automargin": true,
            "type": "pie"
           }
          ],
          "scatter": [
           {
            "fillpattern": {
             "fillmode": "overlay",
             "size": 10,
             "solidity": 0.2
            },
            "type": "scatter"
           }
          ],
          "scatter3d": [
           {
            "line": {
             "colorbar": {
              "outlinewidth": 0,
              "ticks": ""
             }
            },
            "marker": {
             "colorbar": {
              "outlinewidth": 0,
              "ticks": ""
             }
            },
            "type": "scatter3d"
           }
          ],
          "scattercarpet": [
           {
            "marker": {
             "colorbar": {
              "outlinewidth": 0,
              "ticks": ""
             }
            },
            "type": "scattercarpet"
           }
          ],
          "scattergeo": [
           {
            "marker": {
             "colorbar": {
              "outlinewidth": 0,
              "ticks": ""
             }
            },
            "type": "scattergeo"
           }
          ],
          "scattergl": [
           {
            "marker": {
             "colorbar": {
              "outlinewidth": 0,
              "ticks": ""
             }
            },
            "type": "scattergl"
           }
          ],
          "scattermapbox": [
           {
            "marker": {
             "colorbar": {
              "outlinewidth": 0,
              "ticks": ""
             }
            },
            "type": "scattermapbox"
           }
          ],
          "scatterpolar": [
           {
            "marker": {
             "colorbar": {
              "outlinewidth": 0,
              "ticks": ""
             }
            },
            "type": "scatterpolar"
           }
          ],
          "scatterpolargl": [
           {
            "marker": {
             "colorbar": {
              "outlinewidth": 0,
              "ticks": ""
             }
            },
            "type": "scatterpolargl"
           }
          ],
          "scatterternary": [
           {
            "marker": {
             "colorbar": {
              "outlinewidth": 0,
              "ticks": ""
             }
            },
            "type": "scatterternary"
           }
          ],
          "surface": [
           {
            "colorbar": {
             "outlinewidth": 0,
             "ticks": ""
            },
            "colorscale": [
             [
              0,
              "#0d0887"
             ],
             [
              0.1111111111111111,
              "#46039f"
             ],
             [
              0.2222222222222222,
              "#7201a8"
             ],
             [
              0.3333333333333333,
              "#9c179e"
             ],
             [
              0.4444444444444444,
              "#bd3786"
             ],
             [
              0.5555555555555556,
              "#d8576b"
             ],
             [
              0.6666666666666666,
              "#ed7953"
             ],
             [
              0.7777777777777778,
              "#fb9f3a"
             ],
             [
              0.8888888888888888,
              "#fdca26"
             ],
             [
              1,
              "#f0f921"
             ]
            ],
            "type": "surface"
           }
          ],
          "table": [
           {
            "cells": {
             "fill": {
              "color": "#EBF0F8"
             },
             "line": {
              "color": "white"
             }
            },
            "header": {
             "fill": {
              "color": "#C8D4E3"
             },
             "line": {
              "color": "white"
             }
            },
            "type": "table"
           }
          ]
         },
         "layout": {
          "annotationdefaults": {
           "arrowcolor": "#2a3f5f",
           "arrowhead": 0,
           "arrowwidth": 1
          },
          "autotypenumbers": "strict",
          "coloraxis": {
           "colorbar": {
            "outlinewidth": 0,
            "ticks": ""
           }
          },
          "colorscale": {
           "diverging": [
            [
             0,
             "#8e0152"
            ],
            [
             0.1,
             "#c51b7d"
            ],
            [
             0.2,
             "#de77ae"
            ],
            [
             0.3,
             "#f1b6da"
            ],
            [
             0.4,
             "#fde0ef"
            ],
            [
             0.5,
             "#f7f7f7"
            ],
            [
             0.6,
             "#e6f5d0"
            ],
            [
             0.7,
             "#b8e186"
            ],
            [
             0.8,
             "#7fbc41"
            ],
            [
             0.9,
             "#4d9221"
            ],
            [
             1,
             "#276419"
            ]
           ],
           "sequential": [
            [
             0,
             "#0d0887"
            ],
            [
             0.1111111111111111,
             "#46039f"
            ],
            [
             0.2222222222222222,
             "#7201a8"
            ],
            [
             0.3333333333333333,
             "#9c179e"
            ],
            [
             0.4444444444444444,
             "#bd3786"
            ],
            [
             0.5555555555555556,
             "#d8576b"
            ],
            [
             0.6666666666666666,
             "#ed7953"
            ],
            [
             0.7777777777777778,
             "#fb9f3a"
            ],
            [
             0.8888888888888888,
             "#fdca26"
            ],
            [
             1,
             "#f0f921"
            ]
           ],
           "sequentialminus": [
            [
             0,
             "#0d0887"
            ],
            [
             0.1111111111111111,
             "#46039f"
            ],
            [
             0.2222222222222222,
             "#7201a8"
            ],
            [
             0.3333333333333333,
             "#9c179e"
            ],
            [
             0.4444444444444444,
             "#bd3786"
            ],
            [
             0.5555555555555556,
             "#d8576b"
            ],
            [
             0.6666666666666666,
             "#ed7953"
            ],
            [
             0.7777777777777778,
             "#fb9f3a"
            ],
            [
             0.8888888888888888,
             "#fdca26"
            ],
            [
             1,
             "#f0f921"
            ]
           ]
          },
          "colorway": [
           "#636efa",
           "#EF553B",
           "#00cc96",
           "#ab63fa",
           "#FFA15A",
           "#19d3f3",
           "#FF6692",
           "#B6E880",
           "#FF97FF",
           "#FECB52"
          ],
          "font": {
           "color": "#2a3f5f"
          },
          "geo": {
           "bgcolor": "white",
           "lakecolor": "white",
           "landcolor": "#E5ECF6",
           "showlakes": true,
           "showland": true,
           "subunitcolor": "white"
          },
          "hoverlabel": {
           "align": "left"
          },
          "hovermode": "closest",
          "mapbox": {
           "style": "light"
          },
          "paper_bgcolor": "white",
          "plot_bgcolor": "#E5ECF6",
          "polar": {
           "angularaxis": {
            "gridcolor": "white",
            "linecolor": "white",
            "ticks": ""
           },
           "bgcolor": "#E5ECF6",
           "radialaxis": {
            "gridcolor": "white",
            "linecolor": "white",
            "ticks": ""
           }
          },
          "scene": {
           "xaxis": {
            "backgroundcolor": "#E5ECF6",
            "gridcolor": "white",
            "gridwidth": 2,
            "linecolor": "white",
            "showbackground": true,
            "ticks": "",
            "zerolinecolor": "white"
           },
           "yaxis": {
            "backgroundcolor": "#E5ECF6",
            "gridcolor": "white",
            "gridwidth": 2,
            "linecolor": "white",
            "showbackground": true,
            "ticks": "",
            "zerolinecolor": "white"
           },
           "zaxis": {
            "backgroundcolor": "#E5ECF6",
            "gridcolor": "white",
            "gridwidth": 2,
            "linecolor": "white",
            "showbackground": true,
            "ticks": "",
            "zerolinecolor": "white"
           }
          },
          "shapedefaults": {
           "line": {
            "color": "#2a3f5f"
           }
          },
          "ternary": {
           "aaxis": {
            "gridcolor": "white",
            "linecolor": "white",
            "ticks": ""
           },
           "baxis": {
            "gridcolor": "white",
            "linecolor": "white",
            "ticks": ""
           },
           "bgcolor": "#E5ECF6",
           "caxis": {
            "gridcolor": "white",
            "linecolor": "white",
            "ticks": ""
           }
          },
          "title": {
           "x": 0.05
          },
          "xaxis": {
           "automargin": true,
           "gridcolor": "white",
           "linecolor": "white",
           "ticks": "",
           "title": {
            "standoff": 15
           },
           "zerolinecolor": "white",
           "zerolinewidth": 2
          },
          "yaxis": {
           "automargin": true,
           "gridcolor": "white",
           "linecolor": "white",
           "ticks": "",
           "title": {
            "standoff": 15
           },
           "zerolinecolor": "white",
           "zerolinewidth": 2
          }
         }
        },
        "title": {
         "text": "Violin plot of the_min_diff"
        },
        "violinmode": "group",
        "xaxis": {
         "anchor": "y",
         "domain": [
          0,
          1
         ],
         "title": {
          "text": "Pond_Type"
         }
        },
        "yaxis": {
         "anchor": "x",
         "domain": [
          0,
          1
         ],
         "title": {
          "text": "the_min_diff"
         }
        }
       }
      }
     },
     "metadata": {},
     "output_type": "display_data"
    },
    {
     "data": {
      "application/vnd.plotly.v1+json": {
       "config": {
        "plotlyServerURL": "https://plot.ly"
       },
       "data": [
        {
         "alignmentgroup": "True",
         "box": {
          "visible": true
         },
         "customdata": [
          [
           "carapace:undistorted_GX010067_33_625.jpg_gamma",
           "Prawn_0"
          ],
          [
           "carapace:undistorted_GX010067_33_625.jpg_gamma",
           "Prawn_1"
          ],
          [
           "carapace:undistorted_GX010067_33_625.jpg_gamma",
           "Prawn_2"
          ],
          [
           "carapace:undistorted_GX010067_33_625.jpg_gamma",
           "Prawn_3"
          ],
          [
           "carapace:undistorted_GX010068_26_666.jpg_gamma",
           "Prawn_0"
          ],
          [
           "carapace:undistorted_GX010068_26_666.jpg_gamma",
           "Prawn_1"
          ],
          [
           "carapace:undistorted_GX010068_26_666.jpg_gamma",
           "Prawn_2"
          ],
          [
           "carapace:undistorted_GX010068_27_795.jpg_gamma",
           "Prawn_2"
          ],
          [
           "carapace:undistorted_GX010069_19_191.jpg_gamma",
           "Prawn_0"
          ],
          [
           "carapace:undistorted_GX010069_19_191.jpg_gamma",
           "Prawn_1"
          ],
          [
           "carapace:undistorted_GX010069_19_191.jpg_gamma",
           "Prawn_2"
          ],
          [
           "carapace:undistorted_GX010069_19_191.jpg_gamma",
           "Prawn_3"
          ],
          [
           "carapace:undistorted_GX010069_53_796.jpg_gamma",
           "Prawn_1"
          ],
          [
           "carapace:undistorted_GX010071_22_444.jpg_gamma",
           "Prawn_0"
          ],
          [
           "carapace:undistorted_GX010073_42_695.jpg_gamma",
           "Prawn_0"
          ],
          [
           "carapace:undistorted_GX010073_42_695.jpg_gamma",
           "Prawn_1"
          ],
          [
           "carapace:undistorted_GX010073_42_695.jpg_gamma",
           "Prawn_2"
          ],
          [
           "carapace:undistorted_GX010073_55_1014.jpg_gamma",
           "Prawn_0"
          ],
          [
           "carapace:undistorted_GX010073_55_1014.jpg_gamma",
           "Prawn_3"
          ],
          [
           "carapace:undistorted_GX010077_14_237.jpg_gamma",
           "Prawn_0"
          ],
          [
           "carapace:undistorted_GX010077_14_237.jpg_gamma",
           "Prawn_1"
          ],
          [
           "carapace:undistorted_GX010077_14_237.jpg_gamma",
           "Prawn_2"
          ],
          [
           "carapace:undistorted_GX010080_157_2283.jpg_gamma",
           "Prawn_0"
          ],
          [
           "carapace:undistorted_GX010080_157_2283.jpg_gamma",
           "Prawn_1"
          ],
          [
           "carapace:undistorted_GX010080_157_2283.jpg_gamma",
           "Prawn_2"
          ],
          [
           "carapace:undistorted_GX010080_157_2283.jpg_gamma",
           "Prawn_3"
          ],
          [
           "carapace:undistorted_GX010080_157_2283.jpg_gamma",
           "Prawn_4"
          ],
          [
           "carapace:undistorted_GX010080_193_2640.jpg_gamma",
           "Prawn_0"
          ],
          [
           "carapace:undistorted_GX010080_193_2640.jpg_gamma",
           "Prawn_1"
          ],
          [
           "carapace:undistorted_GX010080_193_2640.jpg_gamma",
           "Prawn_4"
          ],
          [
           "carapace:undistorted_GX010080_212_2954.jpg_gamma",
           "Prawn_0"
          ],
          [
           "carapace:undistorted_GX010080_212_2954.jpg_gamma",
           "Prawn_1"
          ],
          [
           "carapace:undistorted_GX010080_212_2954.jpg_gamma",
           "Prawn_2"
          ],
          [
           "carapace:undistorted_GX010080_237_3366.jpg_gamma",
           "Prawn_0"
          ],
          [
           "carapace:undistorted_GX010080_237_3366.jpg_gamma",
           "Prawn_1"
          ],
          [
           "carapace:undistorted_GX010080_237_3366.jpg_gamma",
           "Prawn_2"
          ],
          [
           "carapace:undistorted_GX010080_237_3366.jpg_gamma",
           "Prawn_3"
          ],
          [
           "carapace:undistorted_GX010080_238_3392.jpg_gamma",
           "Prawn_0"
          ],
          [
           "carapace:undistorted_GX010080_238_3392.jpg_gamma",
           "Prawn_1"
          ],
          [
           "carapace:undistorted_GX010080_238_3392.jpg_gamma",
           "Prawn_2"
          ],
          [
           "carapace:undistorted_GX010080_238_3392.jpg_gamma",
           "Prawn_3"
          ],
          [
           "carapace:undistorted_GX010080_238_3392.jpg_gamma",
           "Prawn_4"
          ],
          [
           "carapace:undistorted_GX010082_8_59.jpg_gamma",
           "Prawn_0"
          ],
          [
           "carapace:undistorted_GX010082_8_59.jpg_gamma",
           "Prawn_1"
          ],
          [
           "carapace:undistorted_GX010082_8_59.jpg_gamma",
           "Prawn_2"
          ],
          [
           "carapace:undistorted_GX010082_8_59.jpg_gamma",
           "Prawn_3"
          ],
          [
           "carapace:undistorted_GX010082_8_59.jpg_gamma",
           "Prawn_4"
          ],
          [
           "carapace:undistorted_GX010082_8_59.jpg_gamma",
           "Prawn_5"
          ],
          [
           "carapace:undistorted_GX010082_53_796.jpg_gamma",
           "Prawn_0"
          ],
          [
           "carapace:undistorted_GX010082_53_796.jpg_gamma",
           "Prawn_1"
          ],
          [
           "carapace:undistorted_GX010082_65_1070.jpg_gamma",
           "Prawn_0"
          ],
          [
           "carapace:undistorted_GX010082_65_1070.jpg_gamma",
           "Prawn_1"
          ],
          [
           "carapace:undistorted_GX010082_65_1070.jpg_gamma",
           "Prawn_2"
          ],
          [
           "carapace:undistorted_GX010082_236_3137.jpg_gamma",
           "Prawn_1"
          ],
          [
           "carapace:undistorted_GX010082_236_3137.jpg_gamma",
           "Prawn_2"
          ],
          [
           "carapace:undistorted_GX010084_30_344.jpg_gamma",
           "Prawn_0"
          ],
          [
           "carapace:undistorted_GX010084_30_344.jpg_gamma",
           "Prawn_2"
          ],
          [
           "carapace:undistorted_GX010084_30_344.jpg_gamma",
           "Prawn_3"
          ],
          [
           "carapace:undistorted_GX010084_30_344.jpg_gamma",
           "Prawn_5"
          ],
          [
           "carapace:undistorted_GX010084_130_1748.jpg_gamma",
           "Prawn_0"
          ],
          [
           "carapace:undistorted_GX010084_130_1748.jpg_gamma",
           "Prawn_1"
          ],
          [
           "carapace:undistorted_GX010084_130_1748.jpg_gamma",
           "Prawn_2"
          ],
          [
           "carapace:undistorted_GX010084_130_1748.jpg_gamma",
           "Prawn_3"
          ],
          [
           "carapace:undistorted_GX010084_167_2291.jpg_gamma",
           "Prawn_0"
          ],
          [
           "carapace:undistorted_GX010084_167_2291.jpg_gamma",
           "Prawn_1"
          ],
          [
           "carapace:undistorted_GX010085_261_3610.jpg_gamma",
           "Prawn_0"
          ],
          [
           "carapace:undistorted_GX010085_261_3610.jpg_gamma",
           "Prawn_1"
          ],
          [
           "carapace:undistorted_GX010085_261_3610.jpg_gamma",
           "Prawn_2"
          ],
          [
           "carapace:undistorted_GX010085_263_3738.jpg_gamma",
           "Prawn_1"
          ],
          [
           "carapace:undistorted_GX010085_263_3738.jpg_gamma",
           "Prawn_3"
          ],
          [
           "carapace:undistorted_GX010088_262_3712.jpg_gamma",
           "Prawn_0"
          ],
          [
           "carapace:undistorted_GX010088_262_3712.jpg_gamma",
           "Prawn_2"
          ],
          [
           "carapace:undistorted_GX010088_262_3712.jpg_gamma",
           "Prawn_3"
          ],
          [
           "carapace:undistorted_GX010088_262_3712.jpg_gamma",
           "Prawn_4"
          ],
          [
           "carapace:undistorted_GX010088_262_3712.jpg_gamma",
           "Prawn_5"
          ],
          [
           "carapace:undistorted_GX010088_327_4364.jpg_gamma",
           "Prawn_0"
          ],
          [
           "carapace:undistorted_GX010088_327_4364.jpg_gamma",
           "Prawn_1"
          ],
          [
           "carapace:undistorted_GX010088_327_4364.jpg_gamma",
           "Prawn_2"
          ],
          [
           "carapace:undistorted_GX010088_327_4364.jpg_gamma",
           "Prawn_3"
          ],
          [
           "carapace:undistorted_GX010089_11_236.jpg_gamma",
           "Prawn_0"
          ],
          [
           "carapace:undistorted_GX010089_11_236.jpg_gamma",
           "Prawn_1"
          ],
          [
           "carapace:undistorted_GX010089_11_236.jpg_gamma",
           "Prawn_2"
          ],
          [
           "carapace:undistorted_GX010090_132_1852.jpg_gamma",
           "Prawn_0"
          ],
          [
           "carapace:undistorted_GX010090_132_1852.jpg_gamma",
           "Prawn_1"
          ],
          [
           "carapace:undistorted_GX010091_5_149.jpg_gamma",
           "Prawn_0"
          ],
          [
           "carapace:undistorted_GX010091_5_149.jpg_gamma",
           "Prawn_1"
          ],
          [
           "carapace:undistorted_GX010091_5_149.jpg_gamma",
           "Prawn_2"
          ],
          [
           "carapace:undistorted_GX010091_5_149.jpg_gamma",
           "Prawn_3"
          ],
          [
           "carapace:undistorted_GX010094_9_129.jpg_gamma",
           "Prawn_0"
          ],
          [
           "carapace:undistorted_GX010094_9_129.jpg_gamma",
           "Prawn_1"
          ],
          [
           "carapace:undistorted_GX010094_24_430.jpg_gamma",
           "Prawn_0"
          ],
          [
           "carapace:undistorted_GX010094_24_430.jpg_gamma",
           "Prawn_1"
          ],
          [
           "carapace:undistorted_GX010094_24_430.jpg_gamma",
           "Prawn_2"
          ],
          [
           "carapace:undistorted_GX010094_93_1258.jpg_gamma",
           "Prawn_0"
          ],
          [
           "carapace:undistorted_GX010094_93_1258.jpg_gamma",
           "Prawn_1"
          ],
          [
           "carapace:undistorted_GX010094_163_2312.jpg_gamma",
           "Prawn_0"
          ],
          [
           "carapace:undistorted_GX010096_107_1571.jpg_gamma",
           "Prawn_0"
          ],
          [
           "carapace:undistorted_GX010097_32_528.jpg_gamma",
           "Prawn_0"
          ],
          [
           "carapace:undistorted_GX010097_32_528.jpg_gamma",
           "Prawn_1"
          ],
          [
           "carapace:undistorted_GX010097_60_1080.jpg_gamma",
           "Prawn_1"
          ],
          [
           "carapace:undistorted_GX010097_105_1651.jpg_gamma",
           "Prawn_0"
          ],
          [
           "carapace:undistorted_GX010097_105_1651.jpg_gamma",
           "Prawn_1"
          ],
          [
           "carapace:undistorted_GX010097_105_1651.jpg_gamma",
           "Prawn_2"
          ],
          [
           "carapace:undistorted_GX010097_105_1651.jpg_gamma",
           "Prawn_3"
          ],
          [
           "carapace:undistorted_GX010097_124_1870.jpg_gamma",
           "Prawn_1"
          ],
          [
           "carapace:undistorted_GX010101_12_173.jpg_gamma",
           "Prawn_0"
          ],
          [
           "carapace:undistorted_GX010102_9_165.jpg_gamma",
           "Prawn_0"
          ],
          [
           "carapace:undistorted_GX010102_9_165.jpg_gamma",
           "Prawn_3"
          ],
          [
           "carapace:undistorted_GX010102_9_165.jpg_gamma",
           "Prawn_4"
          ],
          [
           "carapace:undistorted_GX010102_50_1396.jpg_gamma",
           "Prawn_0"
          ],
          [
           "carapace:undistorted_GX010105_28_816.jpg_gamma",
           "Prawn_0"
          ],
          [
           "carapace:undistorted_GX010105_28_816.jpg_gamma",
           "Prawn_1"
          ],
          [
           "carapace:undistorted_GX010152_36_378.jpg_gamma",
           "Prawn_1"
          ],
          [
           "carapace:undistorted_GX010152_36_378.jpg_gamma",
           "Prawn_2"
          ],
          [
           "carapace:undistorted_GX010155_78_1170.jpg_gamma",
           "Prawn_0"
          ],
          [
           "carapace:undistorted_GX010157_68_883",
           "Prawn_0"
          ],
          [
           "carapace:undistorted_GX010157_160_2259",
           "Prawn_0"
          ],
          [
           "carapace:undistorted_GX010157_160_2259",
           "Prawn_1"
          ],
          [
           "carapace:undistorted_GX010157_174_2582.jpg_gamma",
           "Prawn_0"
          ],
          [
           "carapace:undistorted_GX010157_177_2665.jpg_gamma",
           "Prawn_0"
          ],
          [
           "carapace:undistorted_GX010161_54_676.jpg_gamma.jpg_gamma",
           "Prawn_0"
          ],
          [
           "carapace:undistorted_GX010161_136_2267.jpg_gamma.jpg_gamma",
           "Prawn_0"
          ],
          [
           "carapace:undistorted_GX010162_72_927.jpg_gamma.jpg_gamma",
           "Prawn_0"
          ],
          [
           "carapace:undistorted_GX010169_121_1249",
           "Prawn_0"
          ],
          [
           "carapace:undistorted_GX010173_75_922.jpg_gamma",
           "Prawn_0"
          ],
          [
           "carapace:undistorted_GX010174_62_790.jpg_gamma",
           "Prawn_0"
          ],
          [
           "carapace:undistorted_GX010174_104_1236",
           "Prawn_0"
          ],
          [
           "carapace:undistorted_GX010175_82_852.jpg_gamma",
           "Prawn_0"
          ],
          [
           "carapace:undistorted_GX010175_215_2644.jpg_gamma",
           "Prawn_0"
          ],
          [
           "carapace:undistorted_GX010175_266_3372.jpg_gamma.jpg_gamma",
           "Prawn_0"
          ],
          [
           "carapace:undistorted_GX010177_232_3047",
           "Prawn_0"
          ],
          [
           "carapace:undistorted_GX010178_107_2118",
           "Prawn_0"
          ],
          [
           "carapace:undistorted_GX010178_107_2118",
           "Prawn_1"
          ],
          [
           "carapace:undistorted_GX010178_114_2258",
           "Prawn_0"
          ],
          [
           "carapace:undistorted_GX010178_189_3987.jpg_gamma",
           "Prawn_0"
          ],
          [
           "carapace:undistorted_GX010178_189_3987.jpg_gamma",
           "Prawn_1"
          ],
          [
           "carapace:undistorted_GX010179_88_1697.jpg_gamma",
           "Prawn_0"
          ],
          [
           "carapace:undistorted_GX010179_200_3927.jpg_gamma",
           "Prawn_0"
          ],
          [
           "carapace:undistorted_GX010180_91_1563",
           "Prawn_0"
          ],
          [
           "carapace:undistorted_GX010180_99_1788",
           "Prawn_0"
          ],
          [
           "carapace:undistorted_GX010181_101_1542",
           "Prawn_0"
          ],
          [
           "carapace:undistorted_GX010183_37_685.jpg_gamma",
           "Prawn_0"
          ],
          [
           "carapace:undistorted_GX010183_37_685.jpg_gamma",
           "Prawn_1"
          ],
          [
           "carapace:undistorted_GX010183_37_685.jpg_gamma",
           "Prawn_2"
          ],
          [
           "carapace:undistorted_GX010183_80_1633.jpg_gamma",
           "Prawn_0"
          ],
          [
           "carapace:undistorted_GX010183_80_1633.jpg_gamma",
           "Prawn_1"
          ],
          [
           "carapace:undistorted_GX010183_128_2852.jpg_gamma",
           "Prawn_0"
          ],
          [
           "carapace:undistorted_GX010183_128_2852.jpg_gamma",
           "Prawn_1"
          ]
         ],
         "hovertemplate": "Pond_Type=%{x}<br>the_max_diff_percenage_error=%{y}<br>Label=%{customdata[0]}<br>PrawnID=%{customdata[1]}<extra></extra>",
         "legendgroup": "",
         "marker": {
          "color": "#636efa"
         },
         "name": "",
         "offsetgroup": "",
         "orientation": "v",
         "points": "all",
         "scalegroup": "True",
         "showlegend": false,
         "type": "violin",
         "x": [
          "test-right",
          "test-right",
          "test-right",
          "test-right",
          "test-right",
          "test-right",
          "test-right",
          "test-right",
          "test-right",
          "test-right",
          "test-right",
          "test-right",
          "test-right",
          "test-right",
          "test-right",
          "test-right",
          "test-right",
          "test-right",
          "test-right",
          "test-right",
          "test-right",
          "test-right",
          "test-right",
          "test-right",
          "test-right",
          "test-right",
          "test-right",
          "test-right",
          "test-right",
          "test-right",
          "test-right",
          "test-right",
          "test-right",
          "test-right",
          "test-right",
          "test-right",
          "test-right",
          "test-right",
          "test-right",
          "test-right",
          "test-right",
          "test-right",
          "test-right",
          "test-right",
          "test-right",
          "test-right",
          "test-right",
          "test-right",
          "test-right",
          "test-right",
          "test-right",
          "test-right",
          "test-right",
          "test-right",
          "test-right",
          "test-right",
          "test-right",
          "test-right",
          "test-right",
          "test-right",
          "test-right",
          "test-right",
          "test-right",
          "test-right",
          "test-right",
          "test-right",
          "test-right",
          "test-right",
          "test-right",
          "test-right",
          "test-right",
          "test-right",
          "test-right",
          "test-right",
          "test-right",
          "test-right",
          "test-right",
          "test-right",
          "test-right",
          "test-left",
          "test-left",
          "test-left",
          "test-right",
          "test-right",
          "test-left",
          "test-left",
          "test-left",
          "test-left",
          "test-right",
          "test-right",
          "test-right",
          "test-right",
          "test-right",
          "test-right",
          "test-right",
          "test-right",
          "test-right",
          "test-right",
          "test-right",
          "test-right",
          "test-right",
          "test-right",
          "test-right",
          "test-right",
          "test-right",
          "test-right",
          "test-left",
          "test-left",
          "test-left",
          "test-left",
          "test-left",
          "test-left",
          "test-car",
          "test-car",
          "test-car",
          "test-car",
          "test-car",
          "test-car",
          "test-car",
          "test-car",
          "test-car",
          "test-car",
          "test-car",
          "test-car",
          "test-car",
          "test-car",
          "test-car",
          "test-car",
          "test-car",
          "test-car",
          "test-car",
          "test-car",
          "test-car",
          "test-car",
          "test-car",
          "test-car",
          "test-car",
          "test-car",
          "test-car",
          "test-car",
          "test-car",
          "test-car",
          "test-car",
          "test-car",
          "test-car",
          "test-car",
          "test-car",
          "test-car"
         ],
         "x0": " ",
         "xaxis": "x",
         "y": [
          27.78251939386332,
          10.051013514911991,
          25.738211983844366,
          11.6361868618332,
          30.484066437505874,
          33.21179414595728,
          7.087577136298112,
          20.024902444619592,
          7.074414687997758,
          3.611264845605323,
          20.82379324556464,
          13.822788183287466,
          3.831817092593736,
          78.91084626795205,
          90.07247062761988,
          46.852401674515995,
          39.33345118799662,
          30.02377328612883,
          26.97987606315873,
          37.4364362833578,
          18.737297498877435,
          39.10475410509984,
          26.52770770430346,
          13.226128842555887,
          188.27302484176437,
          12.605891395245896,
          16.886863872874848,
          25.29087485194747,
          41.18802452245905,
          58.524255146753475,
          19.32139629036883,
          7.676210335694216,
          28.92811868017079,
          8.586738096865806,
          17.88983917169063,
          19.93887594406603,
          17.29975640481755,
          33.38061973999339,
          15.625983033941942,
          98.18235341673409,
          29.084327290872885,
          16.758443412422103,
          109.5174840226317,
          19.81754542091807,
          28.43920334352903,
          29.26673820878067,
          8.458898269444532,
          1.9573840870819097,
          9.970673536509134,
          33.34440359604507,
          14.192233025796112,
          13.509266949637421,
          12.34399152833489,
          21.48373880176908,
          11.76563557055451,
          146.73960108484073,
          37.84016361721277,
          38.58164005432847,
          40.85053226953971,
          31.202452058303688,
          40.55441092695852,
          32.79916279733498,
          72.78658233593292,
          210.0743952015551,
          46.76598737658379,
          46.300062430228856,
          33.060435662245766,
          102.31939126845384,
          46.73307518981883,
          379.7314822045332,
          62.93795406597226,
          86.39986801114978,
          76.73294510401986,
          57.42564516894129,
          96.23224836544499,
          63.221175198258535,
          31.743498707208335,
          94.64467660068179,
          74.43003759836546,
          98.46117074996266,
          28.71445002943272,
          26.975064519273655,
          8.19008058224373,
          51.4387809244907,
          23.445814334957195,
          17.253808531133014,
          23.904011583284724,
          139.22520385363993,
          3.4928809601182818,
          20.3826380984186,
          17.780090180223006,
          45.560936990930486,
          101.32251172083558,
          21.883253815831637,
          91.91439775590628,
          11.647740134302614,
          42.19222299351572,
          50.99938302008984,
          38.32227064729326,
          104.13063968942133,
          16.421412972461685,
          13.021772281178064,
          15.200983703359528,
          14.351992744675037,
          23.84936412823129,
          11.038526595337817,
          35.74456633340704,
          16.756897763169466,
          22.83694706079569,
          27.935583683686225,
          33.95074926246269,
          37.904966050567964,
          116.34804391043379,
          226.44258844462303,
          167.05455948121804,
          1313.8869461646193,
          90.21046690882478,
          286.2349045227785,
          149.85135236753862,
          104.19863525892285,
          59.826944293038366,
          497.6744419108523,
          14.517322123418325,
          99.3710098660428,
          879.0066326717114,
          45.90712135940123,
          38.67070771790119,
          25.67560038696429,
          470.9495221043369,
          63.9294806796668,
          19.8004248412526,
          130.498528144992,
          7.1978867442391685,
          35.92036944410475,
          66.46630748357623,
          29.133831286663682,
          15.086431675529418,
          18.265112745920387,
          55.394557983181535,
          36.38097718500095,
          79.6152143494193,
          229.99791719987695,
          23.105745338993174,
          1235.4447561183308,
          60.536575804326496,
          39.323707130110684,
          97.37198800672164,
          62.49857996524959
         ],
         "y0": " ",
         "yaxis": "y"
        }
       ],
       "layout": {
        "legend": {
         "tracegroupgap": 0
        },
        "template": {
         "data": {
          "bar": [
           {
            "error_x": {
             "color": "#2a3f5f"
            },
            "error_y": {
             "color": "#2a3f5f"
            },
            "marker": {
             "line": {
              "color": "#E5ECF6",
              "width": 0.5
             },
             "pattern": {
              "fillmode": "overlay",
              "size": 10,
              "solidity": 0.2
             }
            },
            "type": "bar"
           }
          ],
          "barpolar": [
           {
            "marker": {
             "line": {
              "color": "#E5ECF6",
              "width": 0.5
             },
             "pattern": {
              "fillmode": "overlay",
              "size": 10,
              "solidity": 0.2
             }
            },
            "type": "barpolar"
           }
          ],
          "carpet": [
           {
            "aaxis": {
             "endlinecolor": "#2a3f5f",
             "gridcolor": "white",
             "linecolor": "white",
             "minorgridcolor": "white",
             "startlinecolor": "#2a3f5f"
            },
            "baxis": {
             "endlinecolor": "#2a3f5f",
             "gridcolor": "white",
             "linecolor": "white",
             "minorgridcolor": "white",
             "startlinecolor": "#2a3f5f"
            },
            "type": "carpet"
           }
          ],
          "choropleth": [
           {
            "colorbar": {
             "outlinewidth": 0,
             "ticks": ""
            },
            "type": "choropleth"
           }
          ],
          "contour": [
           {
            "colorbar": {
             "outlinewidth": 0,
             "ticks": ""
            },
            "colorscale": [
             [
              0,
              "#0d0887"
             ],
             [
              0.1111111111111111,
              "#46039f"
             ],
             [
              0.2222222222222222,
              "#7201a8"
             ],
             [
              0.3333333333333333,
              "#9c179e"
             ],
             [
              0.4444444444444444,
              "#bd3786"
             ],
             [
              0.5555555555555556,
              "#d8576b"
             ],
             [
              0.6666666666666666,
              "#ed7953"
             ],
             [
              0.7777777777777778,
              "#fb9f3a"
             ],
             [
              0.8888888888888888,
              "#fdca26"
             ],
             [
              1,
              "#f0f921"
             ]
            ],
            "type": "contour"
           }
          ],
          "contourcarpet": [
           {
            "colorbar": {
             "outlinewidth": 0,
             "ticks": ""
            },
            "type": "contourcarpet"
           }
          ],
          "heatmap": [
           {
            "colorbar": {
             "outlinewidth": 0,
             "ticks": ""
            },
            "colorscale": [
             [
              0,
              "#0d0887"
             ],
             [
              0.1111111111111111,
              "#46039f"
             ],
             [
              0.2222222222222222,
              "#7201a8"
             ],
             [
              0.3333333333333333,
              "#9c179e"
             ],
             [
              0.4444444444444444,
              "#bd3786"
             ],
             [
              0.5555555555555556,
              "#d8576b"
             ],
             [
              0.6666666666666666,
              "#ed7953"
             ],
             [
              0.7777777777777778,
              "#fb9f3a"
             ],
             [
              0.8888888888888888,
              "#fdca26"
             ],
             [
              1,
              "#f0f921"
             ]
            ],
            "type": "heatmap"
           }
          ],
          "heatmapgl": [
           {
            "colorbar": {
             "outlinewidth": 0,
             "ticks": ""
            },
            "colorscale": [
             [
              0,
              "#0d0887"
             ],
             [
              0.1111111111111111,
              "#46039f"
             ],
             [
              0.2222222222222222,
              "#7201a8"
             ],
             [
              0.3333333333333333,
              "#9c179e"
             ],
             [
              0.4444444444444444,
              "#bd3786"
             ],
             [
              0.5555555555555556,
              "#d8576b"
             ],
             [
              0.6666666666666666,
              "#ed7953"
             ],
             [
              0.7777777777777778,
              "#fb9f3a"
             ],
             [
              0.8888888888888888,
              "#fdca26"
             ],
             [
              1,
              "#f0f921"
             ]
            ],
            "type": "heatmapgl"
           }
          ],
          "histogram": [
           {
            "marker": {
             "pattern": {
              "fillmode": "overlay",
              "size": 10,
              "solidity": 0.2
             }
            },
            "type": "histogram"
           }
          ],
          "histogram2d": [
           {
            "colorbar": {
             "outlinewidth": 0,
             "ticks": ""
            },
            "colorscale": [
             [
              0,
              "#0d0887"
             ],
             [
              0.1111111111111111,
              "#46039f"
             ],
             [
              0.2222222222222222,
              "#7201a8"
             ],
             [
              0.3333333333333333,
              "#9c179e"
             ],
             [
              0.4444444444444444,
              "#bd3786"
             ],
             [
              0.5555555555555556,
              "#d8576b"
             ],
             [
              0.6666666666666666,
              "#ed7953"
             ],
             [
              0.7777777777777778,
              "#fb9f3a"
             ],
             [
              0.8888888888888888,
              "#fdca26"
             ],
             [
              1,
              "#f0f921"
             ]
            ],
            "type": "histogram2d"
           }
          ],
          "histogram2dcontour": [
           {
            "colorbar": {
             "outlinewidth": 0,
             "ticks": ""
            },
            "colorscale": [
             [
              0,
              "#0d0887"
             ],
             [
              0.1111111111111111,
              "#46039f"
             ],
             [
              0.2222222222222222,
              "#7201a8"
             ],
             [
              0.3333333333333333,
              "#9c179e"
             ],
             [
              0.4444444444444444,
              "#bd3786"
             ],
             [
              0.5555555555555556,
              "#d8576b"
             ],
             [
              0.6666666666666666,
              "#ed7953"
             ],
             [
              0.7777777777777778,
              "#fb9f3a"
             ],
             [
              0.8888888888888888,
              "#fdca26"
             ],
             [
              1,
              "#f0f921"
             ]
            ],
            "type": "histogram2dcontour"
           }
          ],
          "mesh3d": [
           {
            "colorbar": {
             "outlinewidth": 0,
             "ticks": ""
            },
            "type": "mesh3d"
           }
          ],
          "parcoords": [
           {
            "line": {
             "colorbar": {
              "outlinewidth": 0,
              "ticks": ""
             }
            },
            "type": "parcoords"
           }
          ],
          "pie": [
           {
            "automargin": true,
            "type": "pie"
           }
          ],
          "scatter": [
           {
            "fillpattern": {
             "fillmode": "overlay",
             "size": 10,
             "solidity": 0.2
            },
            "type": "scatter"
           }
          ],
          "scatter3d": [
           {
            "line": {
             "colorbar": {
              "outlinewidth": 0,
              "ticks": ""
             }
            },
            "marker": {
             "colorbar": {
              "outlinewidth": 0,
              "ticks": ""
             }
            },
            "type": "scatter3d"
           }
          ],
          "scattercarpet": [
           {
            "marker": {
             "colorbar": {
              "outlinewidth": 0,
              "ticks": ""
             }
            },
            "type": "scattercarpet"
           }
          ],
          "scattergeo": [
           {
            "marker": {
             "colorbar": {
              "outlinewidth": 0,
              "ticks": ""
             }
            },
            "type": "scattergeo"
           }
          ],
          "scattergl": [
           {
            "marker": {
             "colorbar": {
              "outlinewidth": 0,
              "ticks": ""
             }
            },
            "type": "scattergl"
           }
          ],
          "scattermapbox": [
           {
            "marker": {
             "colorbar": {
              "outlinewidth": 0,
              "ticks": ""
             }
            },
            "type": "scattermapbox"
           }
          ],
          "scatterpolar": [
           {
            "marker": {
             "colorbar": {
              "outlinewidth": 0,
              "ticks": ""
             }
            },
            "type": "scatterpolar"
           }
          ],
          "scatterpolargl": [
           {
            "marker": {
             "colorbar": {
              "outlinewidth": 0,
              "ticks": ""
             }
            },
            "type": "scatterpolargl"
           }
          ],
          "scatterternary": [
           {
            "marker": {
             "colorbar": {
              "outlinewidth": 0,
              "ticks": ""
             }
            },
            "type": "scatterternary"
           }
          ],
          "surface": [
           {
            "colorbar": {
             "outlinewidth": 0,
             "ticks": ""
            },
            "colorscale": [
             [
              0,
              "#0d0887"
             ],
             [
              0.1111111111111111,
              "#46039f"
             ],
             [
              0.2222222222222222,
              "#7201a8"
             ],
             [
              0.3333333333333333,
              "#9c179e"
             ],
             [
              0.4444444444444444,
              "#bd3786"
             ],
             [
              0.5555555555555556,
              "#d8576b"
             ],
             [
              0.6666666666666666,
              "#ed7953"
             ],
             [
              0.7777777777777778,
              "#fb9f3a"
             ],
             [
              0.8888888888888888,
              "#fdca26"
             ],
             [
              1,
              "#f0f921"
             ]
            ],
            "type": "surface"
           }
          ],
          "table": [
           {
            "cells": {
             "fill": {
              "color": "#EBF0F8"
             },
             "line": {
              "color": "white"
             }
            },
            "header": {
             "fill": {
              "color": "#C8D4E3"
             },
             "line": {
              "color": "white"
             }
            },
            "type": "table"
           }
          ]
         },
         "layout": {
          "annotationdefaults": {
           "arrowcolor": "#2a3f5f",
           "arrowhead": 0,
           "arrowwidth": 1
          },
          "autotypenumbers": "strict",
          "coloraxis": {
           "colorbar": {
            "outlinewidth": 0,
            "ticks": ""
           }
          },
          "colorscale": {
           "diverging": [
            [
             0,
             "#8e0152"
            ],
            [
             0.1,
             "#c51b7d"
            ],
            [
             0.2,
             "#de77ae"
            ],
            [
             0.3,
             "#f1b6da"
            ],
            [
             0.4,
             "#fde0ef"
            ],
            [
             0.5,
             "#f7f7f7"
            ],
            [
             0.6,
             "#e6f5d0"
            ],
            [
             0.7,
             "#b8e186"
            ],
            [
             0.8,
             "#7fbc41"
            ],
            [
             0.9,
             "#4d9221"
            ],
            [
             1,
             "#276419"
            ]
           ],
           "sequential": [
            [
             0,
             "#0d0887"
            ],
            [
             0.1111111111111111,
             "#46039f"
            ],
            [
             0.2222222222222222,
             "#7201a8"
            ],
            [
             0.3333333333333333,
             "#9c179e"
            ],
            [
             0.4444444444444444,
             "#bd3786"
            ],
            [
             0.5555555555555556,
             "#d8576b"
            ],
            [
             0.6666666666666666,
             "#ed7953"
            ],
            [
             0.7777777777777778,
             "#fb9f3a"
            ],
            [
             0.8888888888888888,
             "#fdca26"
            ],
            [
             1,
             "#f0f921"
            ]
           ],
           "sequentialminus": [
            [
             0,
             "#0d0887"
            ],
            [
             0.1111111111111111,
             "#46039f"
            ],
            [
             0.2222222222222222,
             "#7201a8"
            ],
            [
             0.3333333333333333,
             "#9c179e"
            ],
            [
             0.4444444444444444,
             "#bd3786"
            ],
            [
             0.5555555555555556,
             "#d8576b"
            ],
            [
             0.6666666666666666,
             "#ed7953"
            ],
            [
             0.7777777777777778,
             "#fb9f3a"
            ],
            [
             0.8888888888888888,
             "#fdca26"
            ],
            [
             1,
             "#f0f921"
            ]
           ]
          },
          "colorway": [
           "#636efa",
           "#EF553B",
           "#00cc96",
           "#ab63fa",
           "#FFA15A",
           "#19d3f3",
           "#FF6692",
           "#B6E880",
           "#FF97FF",
           "#FECB52"
          ],
          "font": {
           "color": "#2a3f5f"
          },
          "geo": {
           "bgcolor": "white",
           "lakecolor": "white",
           "landcolor": "#E5ECF6",
           "showlakes": true,
           "showland": true,
           "subunitcolor": "white"
          },
          "hoverlabel": {
           "align": "left"
          },
          "hovermode": "closest",
          "mapbox": {
           "style": "light"
          },
          "paper_bgcolor": "white",
          "plot_bgcolor": "#E5ECF6",
          "polar": {
           "angularaxis": {
            "gridcolor": "white",
            "linecolor": "white",
            "ticks": ""
           },
           "bgcolor": "#E5ECF6",
           "radialaxis": {
            "gridcolor": "white",
            "linecolor": "white",
            "ticks": ""
           }
          },
          "scene": {
           "xaxis": {
            "backgroundcolor": "#E5ECF6",
            "gridcolor": "white",
            "gridwidth": 2,
            "linecolor": "white",
            "showbackground": true,
            "ticks": "",
            "zerolinecolor": "white"
           },
           "yaxis": {
            "backgroundcolor": "#E5ECF6",
            "gridcolor": "white",
            "gridwidth": 2,
            "linecolor": "white",
            "showbackground": true,
            "ticks": "",
            "zerolinecolor": "white"
           },
           "zaxis": {
            "backgroundcolor": "#E5ECF6",
            "gridcolor": "white",
            "gridwidth": 2,
            "linecolor": "white",
            "showbackground": true,
            "ticks": "",
            "zerolinecolor": "white"
           }
          },
          "shapedefaults": {
           "line": {
            "color": "#2a3f5f"
           }
          },
          "ternary": {
           "aaxis": {
            "gridcolor": "white",
            "linecolor": "white",
            "ticks": ""
           },
           "baxis": {
            "gridcolor": "white",
            "linecolor": "white",
            "ticks": ""
           },
           "bgcolor": "#E5ECF6",
           "caxis": {
            "gridcolor": "white",
            "linecolor": "white",
            "ticks": ""
           }
          },
          "title": {
           "x": 0.05
          },
          "xaxis": {
           "automargin": true,
           "gridcolor": "white",
           "linecolor": "white",
           "ticks": "",
           "title": {
            "standoff": 15
           },
           "zerolinecolor": "white",
           "zerolinewidth": 2
          },
          "yaxis": {
           "automargin": true,
           "gridcolor": "white",
           "linecolor": "white",
           "ticks": "",
           "title": {
            "standoff": 15
           },
           "zerolinecolor": "white",
           "zerolinewidth": 2
          }
         }
        },
        "title": {
         "text": "Violin plot of the_max_diff_percenage_error"
        },
        "violinmode": "group",
        "xaxis": {
         "anchor": "y",
         "domain": [
          0,
          1
         ],
         "title": {
          "text": "Pond_Type"
         }
        },
        "yaxis": {
         "anchor": "x",
         "domain": [
          0,
          1
         ],
         "title": {
          "text": "the_max_diff_percenage_error"
         }
        }
       }
      }
     },
     "metadata": {},
     "output_type": "display_data"
    },
    {
     "data": {
      "application/vnd.plotly.v1+json": {
       "config": {
        "plotlyServerURL": "https://plot.ly"
       },
       "data": [
        {
         "alignmentgroup": "True",
         "box": {
          "visible": true
         },
         "customdata": [
          [
           "carapace:undistorted_GX010067_33_625.jpg_gamma",
           "Prawn_0"
          ],
          [
           "carapace:undistorted_GX010067_33_625.jpg_gamma",
           "Prawn_1"
          ],
          [
           "carapace:undistorted_GX010067_33_625.jpg_gamma",
           "Prawn_2"
          ],
          [
           "carapace:undistorted_GX010067_33_625.jpg_gamma",
           "Prawn_3"
          ],
          [
           "carapace:undistorted_GX010068_26_666.jpg_gamma",
           "Prawn_0"
          ],
          [
           "carapace:undistorted_GX010068_26_666.jpg_gamma",
           "Prawn_1"
          ],
          [
           "carapace:undistorted_GX010068_26_666.jpg_gamma",
           "Prawn_2"
          ],
          [
           "carapace:undistorted_GX010068_27_795.jpg_gamma",
           "Prawn_2"
          ],
          [
           "carapace:undistorted_GX010069_19_191.jpg_gamma",
           "Prawn_0"
          ],
          [
           "carapace:undistorted_GX010069_19_191.jpg_gamma",
           "Prawn_1"
          ],
          [
           "carapace:undistorted_GX010069_19_191.jpg_gamma",
           "Prawn_2"
          ],
          [
           "carapace:undistorted_GX010069_19_191.jpg_gamma",
           "Prawn_3"
          ],
          [
           "carapace:undistorted_GX010069_53_796.jpg_gamma",
           "Prawn_1"
          ],
          [
           "carapace:undistorted_GX010071_22_444.jpg_gamma",
           "Prawn_0"
          ],
          [
           "carapace:undistorted_GX010073_42_695.jpg_gamma",
           "Prawn_0"
          ],
          [
           "carapace:undistorted_GX010073_42_695.jpg_gamma",
           "Prawn_1"
          ],
          [
           "carapace:undistorted_GX010073_42_695.jpg_gamma",
           "Prawn_2"
          ],
          [
           "carapace:undistorted_GX010073_55_1014.jpg_gamma",
           "Prawn_0"
          ],
          [
           "carapace:undistorted_GX010073_55_1014.jpg_gamma",
           "Prawn_3"
          ],
          [
           "carapace:undistorted_GX010077_14_237.jpg_gamma",
           "Prawn_0"
          ],
          [
           "carapace:undistorted_GX010077_14_237.jpg_gamma",
           "Prawn_1"
          ],
          [
           "carapace:undistorted_GX010077_14_237.jpg_gamma",
           "Prawn_2"
          ],
          [
           "carapace:undistorted_GX010080_157_2283.jpg_gamma",
           "Prawn_0"
          ],
          [
           "carapace:undistorted_GX010080_157_2283.jpg_gamma",
           "Prawn_1"
          ],
          [
           "carapace:undistorted_GX010080_157_2283.jpg_gamma",
           "Prawn_2"
          ],
          [
           "carapace:undistorted_GX010080_157_2283.jpg_gamma",
           "Prawn_3"
          ],
          [
           "carapace:undistorted_GX010080_157_2283.jpg_gamma",
           "Prawn_4"
          ],
          [
           "carapace:undistorted_GX010080_193_2640.jpg_gamma",
           "Prawn_0"
          ],
          [
           "carapace:undistorted_GX010080_193_2640.jpg_gamma",
           "Prawn_1"
          ],
          [
           "carapace:undistorted_GX010080_193_2640.jpg_gamma",
           "Prawn_4"
          ],
          [
           "carapace:undistorted_GX010080_212_2954.jpg_gamma",
           "Prawn_0"
          ],
          [
           "carapace:undistorted_GX010080_212_2954.jpg_gamma",
           "Prawn_1"
          ],
          [
           "carapace:undistorted_GX010080_212_2954.jpg_gamma",
           "Prawn_2"
          ],
          [
           "carapace:undistorted_GX010080_237_3366.jpg_gamma",
           "Prawn_0"
          ],
          [
           "carapace:undistorted_GX010080_237_3366.jpg_gamma",
           "Prawn_1"
          ],
          [
           "carapace:undistorted_GX010080_237_3366.jpg_gamma",
           "Prawn_2"
          ],
          [
           "carapace:undistorted_GX010080_237_3366.jpg_gamma",
           "Prawn_3"
          ],
          [
           "carapace:undistorted_GX010080_238_3392.jpg_gamma",
           "Prawn_0"
          ],
          [
           "carapace:undistorted_GX010080_238_3392.jpg_gamma",
           "Prawn_1"
          ],
          [
           "carapace:undistorted_GX010080_238_3392.jpg_gamma",
           "Prawn_2"
          ],
          [
           "carapace:undistorted_GX010080_238_3392.jpg_gamma",
           "Prawn_3"
          ],
          [
           "carapace:undistorted_GX010080_238_3392.jpg_gamma",
           "Prawn_4"
          ],
          [
           "carapace:undistorted_GX010082_8_59.jpg_gamma",
           "Prawn_0"
          ],
          [
           "carapace:undistorted_GX010082_8_59.jpg_gamma",
           "Prawn_1"
          ],
          [
           "carapace:undistorted_GX010082_8_59.jpg_gamma",
           "Prawn_2"
          ],
          [
           "carapace:undistorted_GX010082_8_59.jpg_gamma",
           "Prawn_3"
          ],
          [
           "carapace:undistorted_GX010082_8_59.jpg_gamma",
           "Prawn_4"
          ],
          [
           "carapace:undistorted_GX010082_8_59.jpg_gamma",
           "Prawn_5"
          ],
          [
           "carapace:undistorted_GX010082_53_796.jpg_gamma",
           "Prawn_0"
          ],
          [
           "carapace:undistorted_GX010082_53_796.jpg_gamma",
           "Prawn_1"
          ],
          [
           "carapace:undistorted_GX010082_65_1070.jpg_gamma",
           "Prawn_0"
          ],
          [
           "carapace:undistorted_GX010082_65_1070.jpg_gamma",
           "Prawn_1"
          ],
          [
           "carapace:undistorted_GX010082_65_1070.jpg_gamma",
           "Prawn_2"
          ],
          [
           "carapace:undistorted_GX010082_236_3137.jpg_gamma",
           "Prawn_1"
          ],
          [
           "carapace:undistorted_GX010082_236_3137.jpg_gamma",
           "Prawn_2"
          ],
          [
           "carapace:undistorted_GX010084_30_344.jpg_gamma",
           "Prawn_0"
          ],
          [
           "carapace:undistorted_GX010084_30_344.jpg_gamma",
           "Prawn_2"
          ],
          [
           "carapace:undistorted_GX010084_30_344.jpg_gamma",
           "Prawn_3"
          ],
          [
           "carapace:undistorted_GX010084_30_344.jpg_gamma",
           "Prawn_5"
          ],
          [
           "carapace:undistorted_GX010084_130_1748.jpg_gamma",
           "Prawn_0"
          ],
          [
           "carapace:undistorted_GX010084_130_1748.jpg_gamma",
           "Prawn_1"
          ],
          [
           "carapace:undistorted_GX010084_130_1748.jpg_gamma",
           "Prawn_2"
          ],
          [
           "carapace:undistorted_GX010084_130_1748.jpg_gamma",
           "Prawn_3"
          ],
          [
           "carapace:undistorted_GX010084_167_2291.jpg_gamma",
           "Prawn_0"
          ],
          [
           "carapace:undistorted_GX010084_167_2291.jpg_gamma",
           "Prawn_1"
          ],
          [
           "carapace:undistorted_GX010085_261_3610.jpg_gamma",
           "Prawn_0"
          ],
          [
           "carapace:undistorted_GX010085_261_3610.jpg_gamma",
           "Prawn_1"
          ],
          [
           "carapace:undistorted_GX010085_261_3610.jpg_gamma",
           "Prawn_2"
          ],
          [
           "carapace:undistorted_GX010085_263_3738.jpg_gamma",
           "Prawn_1"
          ],
          [
           "carapace:undistorted_GX010085_263_3738.jpg_gamma",
           "Prawn_3"
          ],
          [
           "carapace:undistorted_GX010088_262_3712.jpg_gamma",
           "Prawn_0"
          ],
          [
           "carapace:undistorted_GX010088_262_3712.jpg_gamma",
           "Prawn_2"
          ],
          [
           "carapace:undistorted_GX010088_262_3712.jpg_gamma",
           "Prawn_3"
          ],
          [
           "carapace:undistorted_GX010088_262_3712.jpg_gamma",
           "Prawn_4"
          ],
          [
           "carapace:undistorted_GX010088_262_3712.jpg_gamma",
           "Prawn_5"
          ],
          [
           "carapace:undistorted_GX010088_327_4364.jpg_gamma",
           "Prawn_0"
          ],
          [
           "carapace:undistorted_GX010088_327_4364.jpg_gamma",
           "Prawn_1"
          ],
          [
           "carapace:undistorted_GX010088_327_4364.jpg_gamma",
           "Prawn_2"
          ],
          [
           "carapace:undistorted_GX010088_327_4364.jpg_gamma",
           "Prawn_3"
          ],
          [
           "carapace:undistorted_GX010089_11_236.jpg_gamma",
           "Prawn_0"
          ],
          [
           "carapace:undistorted_GX010089_11_236.jpg_gamma",
           "Prawn_1"
          ],
          [
           "carapace:undistorted_GX010089_11_236.jpg_gamma",
           "Prawn_2"
          ],
          [
           "carapace:undistorted_GX010090_132_1852.jpg_gamma",
           "Prawn_0"
          ],
          [
           "carapace:undistorted_GX010090_132_1852.jpg_gamma",
           "Prawn_1"
          ],
          [
           "carapace:undistorted_GX010091_5_149.jpg_gamma",
           "Prawn_0"
          ],
          [
           "carapace:undistorted_GX010091_5_149.jpg_gamma",
           "Prawn_1"
          ],
          [
           "carapace:undistorted_GX010091_5_149.jpg_gamma",
           "Prawn_2"
          ],
          [
           "carapace:undistorted_GX010091_5_149.jpg_gamma",
           "Prawn_3"
          ],
          [
           "carapace:undistorted_GX010094_9_129.jpg_gamma",
           "Prawn_0"
          ],
          [
           "carapace:undistorted_GX010094_9_129.jpg_gamma",
           "Prawn_1"
          ],
          [
           "carapace:undistorted_GX010094_24_430.jpg_gamma",
           "Prawn_0"
          ],
          [
           "carapace:undistorted_GX010094_24_430.jpg_gamma",
           "Prawn_1"
          ],
          [
           "carapace:undistorted_GX010094_24_430.jpg_gamma",
           "Prawn_2"
          ],
          [
           "carapace:undistorted_GX010094_93_1258.jpg_gamma",
           "Prawn_0"
          ],
          [
           "carapace:undistorted_GX010094_93_1258.jpg_gamma",
           "Prawn_1"
          ],
          [
           "carapace:undistorted_GX010094_163_2312.jpg_gamma",
           "Prawn_0"
          ],
          [
           "carapace:undistorted_GX010096_107_1571.jpg_gamma",
           "Prawn_0"
          ],
          [
           "carapace:undistorted_GX010097_32_528.jpg_gamma",
           "Prawn_0"
          ],
          [
           "carapace:undistorted_GX010097_32_528.jpg_gamma",
           "Prawn_1"
          ],
          [
           "carapace:undistorted_GX010097_60_1080.jpg_gamma",
           "Prawn_1"
          ],
          [
           "carapace:undistorted_GX010097_105_1651.jpg_gamma",
           "Prawn_0"
          ],
          [
           "carapace:undistorted_GX010097_105_1651.jpg_gamma",
           "Prawn_1"
          ],
          [
           "carapace:undistorted_GX010097_105_1651.jpg_gamma",
           "Prawn_2"
          ],
          [
           "carapace:undistorted_GX010097_105_1651.jpg_gamma",
           "Prawn_3"
          ],
          [
           "carapace:undistorted_GX010097_124_1870.jpg_gamma",
           "Prawn_1"
          ],
          [
           "carapace:undistorted_GX010101_12_173.jpg_gamma",
           "Prawn_0"
          ],
          [
           "carapace:undistorted_GX010102_9_165.jpg_gamma",
           "Prawn_0"
          ],
          [
           "carapace:undistorted_GX010102_9_165.jpg_gamma",
           "Prawn_3"
          ],
          [
           "carapace:undistorted_GX010102_9_165.jpg_gamma",
           "Prawn_4"
          ],
          [
           "carapace:undistorted_GX010102_50_1396.jpg_gamma",
           "Prawn_0"
          ],
          [
           "carapace:undistorted_GX010105_28_816.jpg_gamma",
           "Prawn_0"
          ],
          [
           "carapace:undistorted_GX010105_28_816.jpg_gamma",
           "Prawn_1"
          ],
          [
           "carapace:undistorted_GX010152_36_378.jpg_gamma",
           "Prawn_1"
          ],
          [
           "carapace:undistorted_GX010152_36_378.jpg_gamma",
           "Prawn_2"
          ],
          [
           "carapace:undistorted_GX010155_78_1170.jpg_gamma",
           "Prawn_0"
          ],
          [
           "carapace:undistorted_GX010157_68_883",
           "Prawn_0"
          ],
          [
           "carapace:undistorted_GX010157_160_2259",
           "Prawn_0"
          ],
          [
           "carapace:undistorted_GX010157_160_2259",
           "Prawn_1"
          ],
          [
           "carapace:undistorted_GX010157_174_2582.jpg_gamma",
           "Prawn_0"
          ],
          [
           "carapace:undistorted_GX010157_177_2665.jpg_gamma",
           "Prawn_0"
          ],
          [
           "carapace:undistorted_GX010161_54_676.jpg_gamma.jpg_gamma",
           "Prawn_0"
          ],
          [
           "carapace:undistorted_GX010161_136_2267.jpg_gamma.jpg_gamma",
           "Prawn_0"
          ],
          [
           "carapace:undistorted_GX010162_72_927.jpg_gamma.jpg_gamma",
           "Prawn_0"
          ],
          [
           "carapace:undistorted_GX010169_121_1249",
           "Prawn_0"
          ],
          [
           "carapace:undistorted_GX010173_75_922.jpg_gamma",
           "Prawn_0"
          ],
          [
           "carapace:undistorted_GX010174_62_790.jpg_gamma",
           "Prawn_0"
          ],
          [
           "carapace:undistorted_GX010174_104_1236",
           "Prawn_0"
          ],
          [
           "carapace:undistorted_GX010175_82_852.jpg_gamma",
           "Prawn_0"
          ],
          [
           "carapace:undistorted_GX010175_215_2644.jpg_gamma",
           "Prawn_0"
          ],
          [
           "carapace:undistorted_GX010175_266_3372.jpg_gamma.jpg_gamma",
           "Prawn_0"
          ],
          [
           "carapace:undistorted_GX010177_232_3047",
           "Prawn_0"
          ],
          [
           "carapace:undistorted_GX010178_107_2118",
           "Prawn_0"
          ],
          [
           "carapace:undistorted_GX010178_107_2118",
           "Prawn_1"
          ],
          [
           "carapace:undistorted_GX010178_114_2258",
           "Prawn_0"
          ],
          [
           "carapace:undistorted_GX010178_189_3987.jpg_gamma",
           "Prawn_0"
          ],
          [
           "carapace:undistorted_GX010178_189_3987.jpg_gamma",
           "Prawn_1"
          ],
          [
           "carapace:undistorted_GX010179_88_1697.jpg_gamma",
           "Prawn_0"
          ],
          [
           "carapace:undistorted_GX010179_200_3927.jpg_gamma",
           "Prawn_0"
          ],
          [
           "carapace:undistorted_GX010180_91_1563",
           "Prawn_0"
          ],
          [
           "carapace:undistorted_GX010180_99_1788",
           "Prawn_0"
          ],
          [
           "carapace:undistorted_GX010181_101_1542",
           "Prawn_0"
          ],
          [
           "carapace:undistorted_GX010183_37_685.jpg_gamma",
           "Prawn_0"
          ],
          [
           "carapace:undistorted_GX010183_37_685.jpg_gamma",
           "Prawn_1"
          ],
          [
           "carapace:undistorted_GX010183_37_685.jpg_gamma",
           "Prawn_2"
          ],
          [
           "carapace:undistorted_GX010183_80_1633.jpg_gamma",
           "Prawn_0"
          ],
          [
           "carapace:undistorted_GX010183_80_1633.jpg_gamma",
           "Prawn_1"
          ],
          [
           "carapace:undistorted_GX010183_128_2852.jpg_gamma",
           "Prawn_0"
          ],
          [
           "carapace:undistorted_GX010183_128_2852.jpg_gamma",
           "Prawn_1"
          ]
         ],
         "hovertemplate": "Pond_Type=%{x}<br>the_max_diff=%{y}<br>Label=%{customdata[0]}<br>PrawnID=%{customdata[1]}<extra></extra>",
         "legendgroup": "",
         "marker": {
          "color": "#636efa"
         },
         "name": "",
         "offsetgroup": "",
         "orientation": "v",
         "points": "all",
         "scalegroup": "True",
         "showlegend": false,
         "type": "violin",
         "x": [
          "test-right",
          "test-right",
          "test-right",
          "test-right",
          "test-right",
          "test-right",
          "test-right",
          "test-right",
          "test-right",
          "test-right",
          "test-right",
          "test-right",
          "test-right",
          "test-right",
          "test-right",
          "test-right",
          "test-right",
          "test-right",
          "test-right",
          "test-right",
          "test-right",
          "test-right",
          "test-right",
          "test-right",
          "test-right",
          "test-right",
          "test-right",
          "test-right",
          "test-right",
          "test-right",
          "test-right",
          "test-right",
          "test-right",
          "test-right",
          "test-right",
          "test-right",
          "test-right",
          "test-right",
          "test-right",
          "test-right",
          "test-right",
          "test-right",
          "test-right",
          "test-right",
          "test-right",
          "test-right",
          "test-right",
          "test-right",
          "test-right",
          "test-right",
          "test-right",
          "test-right",
          "test-right",
          "test-right",
          "test-right",
          "test-right",
          "test-right",
          "test-right",
          "test-right",
          "test-right",
          "test-right",
          "test-right",
          "test-right",
          "test-right",
          "test-right",
          "test-right",
          "test-right",
          "test-right",
          "test-right",
          "test-right",
          "test-right",
          "test-right",
          "test-right",
          "test-right",
          "test-right",
          "test-right",
          "test-right",
          "test-right",
          "test-right",
          "test-left",
          "test-left",
          "test-left",
          "test-right",
          "test-right",
          "test-left",
          "test-left",
          "test-left",
          "test-left",
          "test-right",
          "test-right",
          "test-right",
          "test-right",
          "test-right",
          "test-right",
          "test-right",
          "test-right",
          "test-right",
          "test-right",
          "test-right",
          "test-right",
          "test-right",
          "test-right",
          "test-right",
          "test-right",
          "test-right",
          "test-right",
          "test-left",
          "test-left",
          "test-left",
          "test-left",
          "test-left",
          "test-left",
          "test-car",
          "test-car",
          "test-car",
          "test-car",
          "test-car",
          "test-car",
          "test-car",
          "test-car",
          "test-car",
          "test-car",
          "test-car",
          "test-car",
          "test-car",
          "test-car",
          "test-car",
          "test-car",
          "test-car",
          "test-car",
          "test-car",
          "test-car",
          "test-car",
          "test-car",
          "test-car",
          "test-car",
          "test-car",
          "test-car",
          "test-car",
          "test-car",
          "test-car",
          "test-car",
          "test-car",
          "test-car",
          "test-car",
          "test-car",
          "test-car",
          "test-car"
         ],
         "x0": " ",
         "xaxis": "x",
         "y": [
          8.12178394529095,
          2.4477233212865173,
          8.773933377865248,
          2.334272118027929,
          6.886596571224487,
          7.435074722253457,
          2.2431472878669894,
          5.396936778097874,
          2.1304599832905247,
          1.117471828517779,
          5.07392546221428,
          3.6753755538967994,
          1.378764426257078,
          13.493598793789342,
          10.807605570568857,
          11.715470593766241,
          7.95290512831604,
          7.5541759455417505,
          5.5035811368698795,
          6.06611444619875,
          5.057551893876827,
          7.95921415835544,
          6.642007455003501,
          3.77071299185765,
          18.41065089817167,
          3.6374440644480615,
          4.653131072202008,
          6.790398386756081,
          9.985568356138664,
          10.927298975100513,
          5.2500098000190185,
          2.271774448848703,
          8.819026260836868,
          2.685575279131946,
          6.276113378212507,
          4.806047654152842,
          5.05242114237948,
          7.72176310937364,
          5.102664759733742,
          14.550873391253628,
          7.044693310359779,
          5.157913713475274,
          13.983403571701789,
          6.35191965831266,
          7.12165636395838,
          7.2662181006080715,
          2.0864035717017906,
          0.47867827849588096,
          3.6882518478900934,
          5.636871427911419,
          3.614194062349238,
          5.163615814720416,
          3.661776760335748,
          6.4728356635850055,
          3.9134884267991197,
          13.949389823687593,
          8.005695478058989,
          8.253216997800962,
          8.72267289690383,
          6.94060679224868,
          10.234619643888301,
          6.297661383706828,
          12.007541734185,
          23.66416930145209,
          12.227708089312308,
          11.101365968895973,
          8.715634031104024,
          11.509634035392661,
          10.624153677350186,
          18.798291540653896,
          12.486115420520228,
          14.21671931151526,
          13.546776746553206,
          11.32201871131814,
          15.221018711318141,
          11.94053681276711,
          7.573610930260941,
          14.07879108956417,
          13.83801309582828,
          10.50925103057158,
          4.293609073302939,
          6.0111233774749415,
          2.725331214547424,
          10.455473683985783,
          3.5847484905492983,
          4.12746734520816,
          4.706796953342039,
          9.78280102326476,
          0.853101245699289,
          5.745458027182234,
          4.537877999422069,
          9.631066172704443,
          14.10403093774325,
          5.249703517789246,
          14.003703517789251,
          3.8133812953805375,
          8.383322537407313,
          11.492856911787918,
          7.643647246729056,
          11.647341708715668,
          4.764259363422795,
          4.543854986460147,
          3.905684623549771,
          4.223934984685311,
          5.103517217345413,
          4.33218014760628,
          6.295819503608069,
          3.091815206282398,
          3.7290309496479104,
          7.536461766184871,
          4.517147189370661,
          8.185577418620152,
          15.247123582596068,
          18.198624950590688,
          15.680709969904367,
          19.256818708833602,
          10.468008052216259,
          23.32069944735329,
          15.116251293480229,
          13.158066038359042,
          9.41089908546282,
          22.654921540594902,
          3.124774024908472,
          13.04347949903958,
          17.3164962682523,
          9.26690173701984,
          8.001200818240939,
          6.3503984109202065,
          29.155383012875916,
          11.581484516706585,
          6.79530780126948,
          13.46242469839909,
          2.3690982929661217,
          11.703543512544634,
          11.255744350643518,
          8.23405985843742,
          4.557912737810948,
          6.027223067840964,
          9.52872385608703,
          8.398106952590513,
          11.740330077033455,
          14.432887374928708,
          4.91393082708079,
          22.282292339527032,
          11.426947550765668,
          8.552947550765673,
          11.483687371263773,
          8.952687371263767
         ],
         "y0": " ",
         "yaxis": "y"
        }
       ],
       "layout": {
        "legend": {
         "tracegroupgap": 0
        },
        "template": {
         "data": {
          "bar": [
           {
            "error_x": {
             "color": "#2a3f5f"
            },
            "error_y": {
             "color": "#2a3f5f"
            },
            "marker": {
             "line": {
              "color": "#E5ECF6",
              "width": 0.5
             },
             "pattern": {
              "fillmode": "overlay",
              "size": 10,
              "solidity": 0.2
             }
            },
            "type": "bar"
           }
          ],
          "barpolar": [
           {
            "marker": {
             "line": {
              "color": "#E5ECF6",
              "width": 0.5
             },
             "pattern": {
              "fillmode": "overlay",
              "size": 10,
              "solidity": 0.2
             }
            },
            "type": "barpolar"
           }
          ],
          "carpet": [
           {
            "aaxis": {
             "endlinecolor": "#2a3f5f",
             "gridcolor": "white",
             "linecolor": "white",
             "minorgridcolor": "white",
             "startlinecolor": "#2a3f5f"
            },
            "baxis": {
             "endlinecolor": "#2a3f5f",
             "gridcolor": "white",
             "linecolor": "white",
             "minorgridcolor": "white",
             "startlinecolor": "#2a3f5f"
            },
            "type": "carpet"
           }
          ],
          "choropleth": [
           {
            "colorbar": {
             "outlinewidth": 0,
             "ticks": ""
            },
            "type": "choropleth"
           }
          ],
          "contour": [
           {
            "colorbar": {
             "outlinewidth": 0,
             "ticks": ""
            },
            "colorscale": [
             [
              0,
              "#0d0887"
             ],
             [
              0.1111111111111111,
              "#46039f"
             ],
             [
              0.2222222222222222,
              "#7201a8"
             ],
             [
              0.3333333333333333,
              "#9c179e"
             ],
             [
              0.4444444444444444,
              "#bd3786"
             ],
             [
              0.5555555555555556,
              "#d8576b"
             ],
             [
              0.6666666666666666,
              "#ed7953"
             ],
             [
              0.7777777777777778,
              "#fb9f3a"
             ],
             [
              0.8888888888888888,
              "#fdca26"
             ],
             [
              1,
              "#f0f921"
             ]
            ],
            "type": "contour"
           }
          ],
          "contourcarpet": [
           {
            "colorbar": {
             "outlinewidth": 0,
             "ticks": ""
            },
            "type": "contourcarpet"
           }
          ],
          "heatmap": [
           {
            "colorbar": {
             "outlinewidth": 0,
             "ticks": ""
            },
            "colorscale": [
             [
              0,
              "#0d0887"
             ],
             [
              0.1111111111111111,
              "#46039f"
             ],
             [
              0.2222222222222222,
              "#7201a8"
             ],
             [
              0.3333333333333333,
              "#9c179e"
             ],
             [
              0.4444444444444444,
              "#bd3786"
             ],
             [
              0.5555555555555556,
              "#d8576b"
             ],
             [
              0.6666666666666666,
              "#ed7953"
             ],
             [
              0.7777777777777778,
              "#fb9f3a"
             ],
             [
              0.8888888888888888,
              "#fdca26"
             ],
             [
              1,
              "#f0f921"
             ]
            ],
            "type": "heatmap"
           }
          ],
          "heatmapgl": [
           {
            "colorbar": {
             "outlinewidth": 0,
             "ticks": ""
            },
            "colorscale": [
             [
              0,
              "#0d0887"
             ],
             [
              0.1111111111111111,
              "#46039f"
             ],
             [
              0.2222222222222222,
              "#7201a8"
             ],
             [
              0.3333333333333333,
              "#9c179e"
             ],
             [
              0.4444444444444444,
              "#bd3786"
             ],
             [
              0.5555555555555556,
              "#d8576b"
             ],
             [
              0.6666666666666666,
              "#ed7953"
             ],
             [
              0.7777777777777778,
              "#fb9f3a"
             ],
             [
              0.8888888888888888,
              "#fdca26"
             ],
             [
              1,
              "#f0f921"
             ]
            ],
            "type": "heatmapgl"
           }
          ],
          "histogram": [
           {
            "marker": {
             "pattern": {
              "fillmode": "overlay",
              "size": 10,
              "solidity": 0.2
             }
            },
            "type": "histogram"
           }
          ],
          "histogram2d": [
           {
            "colorbar": {
             "outlinewidth": 0,
             "ticks": ""
            },
            "colorscale": [
             [
              0,
              "#0d0887"
             ],
             [
              0.1111111111111111,
              "#46039f"
             ],
             [
              0.2222222222222222,
              "#7201a8"
             ],
             [
              0.3333333333333333,
              "#9c179e"
             ],
             [
              0.4444444444444444,
              "#bd3786"
             ],
             [
              0.5555555555555556,
              "#d8576b"
             ],
             [
              0.6666666666666666,
              "#ed7953"
             ],
             [
              0.7777777777777778,
              "#fb9f3a"
             ],
             [
              0.8888888888888888,
              "#fdca26"
             ],
             [
              1,
              "#f0f921"
             ]
            ],
            "type": "histogram2d"
           }
          ],
          "histogram2dcontour": [
           {
            "colorbar": {
             "outlinewidth": 0,
             "ticks": ""
            },
            "colorscale": [
             [
              0,
              "#0d0887"
             ],
             [
              0.1111111111111111,
              "#46039f"
             ],
             [
              0.2222222222222222,
              "#7201a8"
             ],
             [
              0.3333333333333333,
              "#9c179e"
             ],
             [
              0.4444444444444444,
              "#bd3786"
             ],
             [
              0.5555555555555556,
              "#d8576b"
             ],
             [
              0.6666666666666666,
              "#ed7953"
             ],
             [
              0.7777777777777778,
              "#fb9f3a"
             ],
             [
              0.8888888888888888,
              "#fdca26"
             ],
             [
              1,
              "#f0f921"
             ]
            ],
            "type": "histogram2dcontour"
           }
          ],
          "mesh3d": [
           {
            "colorbar": {
             "outlinewidth": 0,
             "ticks": ""
            },
            "type": "mesh3d"
           }
          ],
          "parcoords": [
           {
            "line": {
             "colorbar": {
              "outlinewidth": 0,
              "ticks": ""
             }
            },
            "type": "parcoords"
           }
          ],
          "pie": [
           {
            "automargin": true,
            "type": "pie"
           }
          ],
          "scatter": [
           {
            "fillpattern": {
             "fillmode": "overlay",
             "size": 10,
             "solidity": 0.2
            },
            "type": "scatter"
           }
          ],
          "scatter3d": [
           {
            "line": {
             "colorbar": {
              "outlinewidth": 0,
              "ticks": ""
             }
            },
            "marker": {
             "colorbar": {
              "outlinewidth": 0,
              "ticks": ""
             }
            },
            "type": "scatter3d"
           }
          ],
          "scattercarpet": [
           {
            "marker": {
             "colorbar": {
              "outlinewidth": 0,
              "ticks": ""
             }
            },
            "type": "scattercarpet"
           }
          ],
          "scattergeo": [
           {
            "marker": {
             "colorbar": {
              "outlinewidth": 0,
              "ticks": ""
             }
            },
            "type": "scattergeo"
           }
          ],
          "scattergl": [
           {
            "marker": {
             "colorbar": {
              "outlinewidth": 0,
              "ticks": ""
             }
            },
            "type": "scattergl"
           }
          ],
          "scattermapbox": [
           {
            "marker": {
             "colorbar": {
              "outlinewidth": 0,
              "ticks": ""
             }
            },
            "type": "scattermapbox"
           }
          ],
          "scatterpolar": [
           {
            "marker": {
             "colorbar": {
              "outlinewidth": 0,
              "ticks": ""
             }
            },
            "type": "scatterpolar"
           }
          ],
          "scatterpolargl": [
           {
            "marker": {
             "colorbar": {
              "outlinewidth": 0,
              "ticks": ""
             }
            },
            "type": "scatterpolargl"
           }
          ],
          "scatterternary": [
           {
            "marker": {
             "colorbar": {
              "outlinewidth": 0,
              "ticks": ""
             }
            },
            "type": "scatterternary"
           }
          ],
          "surface": [
           {
            "colorbar": {
             "outlinewidth": 0,
             "ticks": ""
            },
            "colorscale": [
             [
              0,
              "#0d0887"
             ],
             [
              0.1111111111111111,
              "#46039f"
             ],
             [
              0.2222222222222222,
              "#7201a8"
             ],
             [
              0.3333333333333333,
              "#9c179e"
             ],
             [
              0.4444444444444444,
              "#bd3786"
             ],
             [
              0.5555555555555556,
              "#d8576b"
             ],
             [
              0.6666666666666666,
              "#ed7953"
             ],
             [
              0.7777777777777778,
              "#fb9f3a"
             ],
             [
              0.8888888888888888,
              "#fdca26"
             ],
             [
              1,
              "#f0f921"
             ]
            ],
            "type": "surface"
           }
          ],
          "table": [
           {
            "cells": {
             "fill": {
              "color": "#EBF0F8"
             },
             "line": {
              "color": "white"
             }
            },
            "header": {
             "fill": {
              "color": "#C8D4E3"
             },
             "line": {
              "color": "white"
             }
            },
            "type": "table"
           }
          ]
         },
         "layout": {
          "annotationdefaults": {
           "arrowcolor": "#2a3f5f",
           "arrowhead": 0,
           "arrowwidth": 1
          },
          "autotypenumbers": "strict",
          "coloraxis": {
           "colorbar": {
            "outlinewidth": 0,
            "ticks": ""
           }
          },
          "colorscale": {
           "diverging": [
            [
             0,
             "#8e0152"
            ],
            [
             0.1,
             "#c51b7d"
            ],
            [
             0.2,
             "#de77ae"
            ],
            [
             0.3,
             "#f1b6da"
            ],
            [
             0.4,
             "#fde0ef"
            ],
            [
             0.5,
             "#f7f7f7"
            ],
            [
             0.6,
             "#e6f5d0"
            ],
            [
             0.7,
             "#b8e186"
            ],
            [
             0.8,
             "#7fbc41"
            ],
            [
             0.9,
             "#4d9221"
            ],
            [
             1,
             "#276419"
            ]
           ],
           "sequential": [
            [
             0,
             "#0d0887"
            ],
            [
             0.1111111111111111,
             "#46039f"
            ],
            [
             0.2222222222222222,
             "#7201a8"
            ],
            [
             0.3333333333333333,
             "#9c179e"
            ],
            [
             0.4444444444444444,
             "#bd3786"
            ],
            [
             0.5555555555555556,
             "#d8576b"
            ],
            [
             0.6666666666666666,
             "#ed7953"
            ],
            [
             0.7777777777777778,
             "#fb9f3a"
            ],
            [
             0.8888888888888888,
             "#fdca26"
            ],
            [
             1,
             "#f0f921"
            ]
           ],
           "sequentialminus": [
            [
             0,
             "#0d0887"
            ],
            [
             0.1111111111111111,
             "#46039f"
            ],
            [
             0.2222222222222222,
             "#7201a8"
            ],
            [
             0.3333333333333333,
             "#9c179e"
            ],
            [
             0.4444444444444444,
             "#bd3786"
            ],
            [
             0.5555555555555556,
             "#d8576b"
            ],
            [
             0.6666666666666666,
             "#ed7953"
            ],
            [
             0.7777777777777778,
             "#fb9f3a"
            ],
            [
             0.8888888888888888,
             "#fdca26"
            ],
            [
             1,
             "#f0f921"
            ]
           ]
          },
          "colorway": [
           "#636efa",
           "#EF553B",
           "#00cc96",
           "#ab63fa",
           "#FFA15A",
           "#19d3f3",
           "#FF6692",
           "#B6E880",
           "#FF97FF",
           "#FECB52"
          ],
          "font": {
           "color": "#2a3f5f"
          },
          "geo": {
           "bgcolor": "white",
           "lakecolor": "white",
           "landcolor": "#E5ECF6",
           "showlakes": true,
           "showland": true,
           "subunitcolor": "white"
          },
          "hoverlabel": {
           "align": "left"
          },
          "hovermode": "closest",
          "mapbox": {
           "style": "light"
          },
          "paper_bgcolor": "white",
          "plot_bgcolor": "#E5ECF6",
          "polar": {
           "angularaxis": {
            "gridcolor": "white",
            "linecolor": "white",
            "ticks": ""
           },
           "bgcolor": "#E5ECF6",
           "radialaxis": {
            "gridcolor": "white",
            "linecolor": "white",
            "ticks": ""
           }
          },
          "scene": {
           "xaxis": {
            "backgroundcolor": "#E5ECF6",
            "gridcolor": "white",
            "gridwidth": 2,
            "linecolor": "white",
            "showbackground": true,
            "ticks": "",
            "zerolinecolor": "white"
           },
           "yaxis": {
            "backgroundcolor": "#E5ECF6",
            "gridcolor": "white",
            "gridwidth": 2,
            "linecolor": "white",
            "showbackground": true,
            "ticks": "",
            "zerolinecolor": "white"
           },
           "zaxis": {
            "backgroundcolor": "#E5ECF6",
            "gridcolor": "white",
            "gridwidth": 2,
            "linecolor": "white",
            "showbackground": true,
            "ticks": "",
            "zerolinecolor": "white"
           }
          },
          "shapedefaults": {
           "line": {
            "color": "#2a3f5f"
           }
          },
          "ternary": {
           "aaxis": {
            "gridcolor": "white",
            "linecolor": "white",
            "ticks": ""
           },
           "baxis": {
            "gridcolor": "white",
            "linecolor": "white",
            "ticks": ""
           },
           "bgcolor": "#E5ECF6",
           "caxis": {
            "gridcolor": "white",
            "linecolor": "white",
            "ticks": ""
           }
          },
          "title": {
           "x": 0.05
          },
          "xaxis": {
           "automargin": true,
           "gridcolor": "white",
           "linecolor": "white",
           "ticks": "",
           "title": {
            "standoff": 15
           },
           "zerolinecolor": "white",
           "zerolinewidth": 2
          },
          "yaxis": {
           "automargin": true,
           "gridcolor": "white",
           "linecolor": "white",
           "ticks": "",
           "title": {
            "standoff": 15
           },
           "zerolinecolor": "white",
           "zerolinewidth": 2
          }
         }
        },
        "title": {
         "text": "Violin plot of the_max_diff"
        },
        "violinmode": "group",
        "xaxis": {
         "anchor": "y",
         "domain": [
          0,
          1
         ],
         "title": {
          "text": "Pond_Type"
         }
        },
        "yaxis": {
         "anchor": "x",
         "domain": [
          0,
          1
         ],
         "title": {
          "text": "the_max_diff"
         }
        }
       }
      }
     },
     "metadata": {},
     "output_type": "display_data"
    },
    {
     "data": {
      "image/png": "[encoded data removed]",
      "text/plain": [
       "<Figure size 1000x600 with 1 Axes>"
      ]
     },
     "metadata": {},
     "output_type": "display_data"
    },
    {
     "data": {
      "image/png": "[encoded data removed]",
      "text/plain": [
       "<Figure size 1000x600 with 1 Axes>"
      ]
     },
     "metadata": {},
     "output_type": "display_data"
    },
    {
     "data": {
      "image/png": "[encoded data removed]",
      "text/plain": [
       "<Figure size 1000x600 with 1 Axes>"
      ]
     },
     "metadata": {},
     "output_type": "display_data"
    },
    {
     "data": {
      "image/png": "[encoded data removed]",
      "text/plain": [
       "<Figure size 640x480 with 1 Axes>"
      ]
     },
     "metadata": {},
     "output_type": "display_data"
    },
    {
     "data": {
      "image/png": "[encoded data removed]",
      "text/plain": [
       "<Figure size 640x480 with 1 Axes>"
      ]
     },
     "metadata": {},
     "output_type": "display_data"
    },
    {
     "data": {
      "image/png": "[encoded data removed]",
      "text/plain": [
       "<Figure size 640x480 with 1 Axes>"
      ]
     },
     "metadata": {},
     "output_type": "display_data"
    },
    {
     "data": {
      "image/png": "[encoded data removed]",
      "text/plain": [
       "<Figure size 640x480 with 1 Axes>"
      ]
     },
     "metadata": {},
     "output_type": "display_data"
    },
    {
     "data": {
      "image/png": "[encoded data removed]",
      "text/plain": [
       "<Figure size 640x480 with 1 Axes>"
      ]
     },
     "metadata": {},
     "output_type": "display_data"
    },
    {
     "data": {
      "image/png": "[encoded data removed]",
      "text/plain": [
       "<Figure size 640x480 with 1 Axes>"
      ]
     },
     "metadata": {},
     "output_type": "display_data"
    },
    {
     "data": {
      "application/vnd.plotly.v1+json": {
       "config": {
        "plotlyServerURL": "https://plot.ly"
       },
       "data": [
        {
         "alignmentgroup": "True",
         "box": {
          "visible": true
         },
         "customdata": [
          [
           "carapace:undistorted_GX010067_33_625.jpg_gamma",
           "Prawn_0"
          ],
          [
           "carapace:undistorted_GX010067_33_625.jpg_gamma",
           "Prawn_1"
          ],
          [
           "carapace:undistorted_GX010067_33_625.jpg_gamma",
           "Prawn_2"
          ],
          [
           "carapace:undistorted_GX010067_33_625.jpg_gamma",
           "Prawn_3"
          ],
          [
           "carapace:undistorted_GX010068_26_666.jpg_gamma",
           "Prawn_0"
          ],
          [
           "carapace:undistorted_GX010068_26_666.jpg_gamma",
           "Prawn_1"
          ],
          [
           "carapace:undistorted_GX010068_26_666.jpg_gamma",
           "Prawn_2"
          ],
          [
           "carapace:undistorted_GX010068_27_795.jpg_gamma",
           "Prawn_2"
          ],
          [
           "carapace:undistorted_GX010069_19_191.jpg_gamma",
           "Prawn_0"
          ],
          [
           "carapace:undistorted_GX010069_19_191.jpg_gamma",
           "Prawn_1"
          ],
          [
           "carapace:undistorted_GX010069_19_191.jpg_gamma",
           "Prawn_2"
          ],
          [
           "carapace:undistorted_GX010069_19_191.jpg_gamma",
           "Prawn_3"
          ],
          [
           "carapace:undistorted_GX010069_53_796.jpg_gamma",
           "Prawn_1"
          ],
          [
           "carapace:undistorted_GX010071_22_444.jpg_gamma",
           "Prawn_0"
          ],
          [
           "carapace:undistorted_GX010073_42_695.jpg_gamma",
           "Prawn_0"
          ],
          [
           "carapace:undistorted_GX010073_42_695.jpg_gamma",
           "Prawn_1"
          ],
          [
           "carapace:undistorted_GX010073_42_695.jpg_gamma",
           "Prawn_2"
          ],
          [
           "carapace:undistorted_GX010073_55_1014.jpg_gamma",
           "Prawn_0"
          ],
          [
           "carapace:undistorted_GX010073_55_1014.jpg_gamma",
           "Prawn_3"
          ],
          [
           "carapace:undistorted_GX010077_14_237.jpg_gamma",
           "Prawn_0"
          ],
          [
           "carapace:undistorted_GX010077_14_237.jpg_gamma",
           "Prawn_1"
          ],
          [
           "carapace:undistorted_GX010077_14_237.jpg_gamma",
           "Prawn_2"
          ],
          [
           "carapace:undistorted_GX010080_157_2283.jpg_gamma",
           "Prawn_0"
          ],
          [
           "carapace:undistorted_GX010080_157_2283.jpg_gamma",
           "Prawn_1"
          ],
          [
           "carapace:undistorted_GX010080_157_2283.jpg_gamma",
           "Prawn_2"
          ],
          [
           "carapace:undistorted_GX010080_157_2283.jpg_gamma",
           "Prawn_3"
          ],
          [
           "carapace:undistorted_GX010080_157_2283.jpg_gamma",
           "Prawn_4"
          ],
          [
           "carapace:undistorted_GX010080_193_2640.jpg_gamma",
           "Prawn_0"
          ],
          [
           "carapace:undistorted_GX010080_193_2640.jpg_gamma",
           "Prawn_1"
          ],
          [
           "carapace:undistorted_GX010080_193_2640.jpg_gamma",
           "Prawn_4"
          ],
          [
           "carapace:undistorted_GX010080_212_2954.jpg_gamma",
           "Prawn_0"
          ],
          [
           "carapace:undistorted_GX010080_212_2954.jpg_gamma",
           "Prawn_1"
          ],
          [
           "carapace:undistorted_GX010080_212_2954.jpg_gamma",
           "Prawn_2"
          ],
          [
           "carapace:undistorted_GX010080_237_3366.jpg_gamma",
           "Prawn_0"
          ],
          [
           "carapace:undistorted_GX010080_237_3366.jpg_gamma",
           "Prawn_1"
          ],
          [
           "carapace:undistorted_GX010080_237_3366.jpg_gamma",
           "Prawn_2"
          ],
          [
           "carapace:undistorted_GX010080_237_3366.jpg_gamma",
           "Prawn_3"
          ],
          [
           "carapace:undistorted_GX010080_238_3392.jpg_gamma",
           "Prawn_0"
          ],
          [
           "carapace:undistorted_GX010080_238_3392.jpg_gamma",
           "Prawn_1"
          ],
          [
           "carapace:undistorted_GX010080_238_3392.jpg_gamma",
           "Prawn_2"
          ],
          [
           "carapace:undistorted_GX010080_238_3392.jpg_gamma",
           "Prawn_3"
          ],
          [
           "carapace:undistorted_GX010080_238_3392.jpg_gamma",
           "Prawn_4"
          ],
          [
           "carapace:undistorted_GX010082_8_59.jpg_gamma",
           "Prawn_0"
          ],
          [
           "carapace:undistorted_GX010082_8_59.jpg_gamma",
           "Prawn_1"
          ],
          [
           "carapace:undistorted_GX010082_8_59.jpg_gamma",
           "Prawn_2"
          ],
          [
           "carapace:undistorted_GX010082_8_59.jpg_gamma",
           "Prawn_3"
          ],
          [
           "carapace:undistorted_GX010082_8_59.jpg_gamma",
           "Prawn_4"
          ],
          [
           "carapace:undistorted_GX010082_8_59.jpg_gamma",
           "Prawn_5"
          ],
          [
           "carapace:undistorted_GX010082_53_796.jpg_gamma",
           "Prawn_0"
          ],
          [
           "carapace:undistorted_GX010082_53_796.jpg_gamma",
           "Prawn_1"
          ],
          [
           "carapace:undistorted_GX010082_65_1070.jpg_gamma",
           "Prawn_0"
          ],
          [
           "carapace:undistorted_GX010082_65_1070.jpg_gamma",
           "Prawn_1"
          ],
          [
           "carapace:undistorted_GX010082_65_1070.jpg_gamma",
           "Prawn_2"
          ],
          [
           "carapace:undistorted_GX010082_236_3137.jpg_gamma",
           "Prawn_1"
          ],
          [
           "carapace:undistorted_GX010082_236_3137.jpg_gamma",
           "Prawn_2"
          ],
          [
           "carapace:undistorted_GX010084_30_344.jpg_gamma",
           "Prawn_0"
          ],
          [
           "carapace:undistorted_GX010084_30_344.jpg_gamma",
           "Prawn_2"
          ],
          [
           "carapace:undistorted_GX010084_30_344.jpg_gamma",
           "Prawn_3"
          ],
          [
           "carapace:undistorted_GX010084_30_344.jpg_gamma",
           "Prawn_5"
          ],
          [
           "carapace:undistorted_GX010084_130_1748.jpg_gamma",
           "Prawn_0"
          ],
          [
           "carapace:undistorted_GX010084_130_1748.jpg_gamma",
           "Prawn_1"
          ],
          [
           "carapace:undistorted_GX010084_130_1748.jpg_gamma",
           "Prawn_2"
          ],
          [
           "carapace:undistorted_GX010084_130_1748.jpg_gamma",
           "Prawn_3"
          ],
          [
           "carapace:undistorted_GX010084_167_2291.jpg_gamma",
           "Prawn_0"
          ],
          [
           "carapace:undistorted_GX010084_167_2291.jpg_gamma",
           "Prawn_1"
          ],
          [
           "carapace:undistorted_GX010085_261_3610.jpg_gamma",
           "Prawn_0"
          ],
          [
           "carapace:undistorted_GX010085_261_3610.jpg_gamma",
           "Prawn_1"
          ],
          [
           "carapace:undistorted_GX010085_261_3610.jpg_gamma",
           "Prawn_2"
          ],
          [
           "carapace:undistorted_GX010085_263_3738.jpg_gamma",
           "Prawn_1"
          ],
          [
           "carapace:undistorted_GX010085_263_3738.jpg_gamma",
           "Prawn_3"
          ],
          [
           "carapace:undistorted_GX010088_262_3712.jpg_gamma",
           "Prawn_0"
          ],
          [
           "carapace:undistorted_GX010088_262_3712.jpg_gamma",
           "Prawn_2"
          ],
          [
           "carapace:undistorted_GX010088_262_3712.jpg_gamma",
           "Prawn_3"
          ],
          [
           "carapace:undistorted_GX010088_262_3712.jpg_gamma",
           "Prawn_4"
          ],
          [
           "carapace:undistorted_GX010088_262_3712.jpg_gamma",
           "Prawn_5"
          ],
          [
           "carapace:undistorted_GX010088_327_4364.jpg_gamma",
           "Prawn_0"
          ],
          [
           "carapace:undistorted_GX010088_327_4364.jpg_gamma",
           "Prawn_1"
          ],
          [
           "carapace:undistorted_GX010088_327_4364.jpg_gamma",
           "Prawn_2"
          ],
          [
           "carapace:undistorted_GX010088_327_4364.jpg_gamma",
           "Prawn_3"
          ],
          [
           "carapace:undistorted_GX010089_11_236.jpg_gamma",
           "Prawn_0"
          ],
          [
           "carapace:undistorted_GX010089_11_236.jpg_gamma",
           "Prawn_1"
          ],
          [
           "carapace:undistorted_GX010089_11_236.jpg_gamma",
           "Prawn_2"
          ],
          [
           "carapace:undistorted_GX010090_132_1852.jpg_gamma",
           "Prawn_0"
          ],
          [
           "carapace:undistorted_GX010090_132_1852.jpg_gamma",
           "Prawn_1"
          ],
          [
           "carapace:undistorted_GX010091_5_149.jpg_gamma",
           "Prawn_0"
          ],
          [
           "carapace:undistorted_GX010091_5_149.jpg_gamma",
           "Prawn_1"
          ],
          [
           "carapace:undistorted_GX010091_5_149.jpg_gamma",
           "Prawn_2"
          ],
          [
           "carapace:undistorted_GX010091_5_149.jpg_gamma",
           "Prawn_3"
          ],
          [
           "carapace:undistorted_GX010094_9_129.jpg_gamma",
           "Prawn_0"
          ],
          [
           "carapace:undistorted_GX010094_9_129.jpg_gamma",
           "Prawn_1"
          ],
          [
           "carapace:undistorted_GX010094_24_430.jpg_gamma",
           "Prawn_0"
          ],
          [
           "carapace:undistorted_GX010094_24_430.jpg_gamma",
           "Prawn_1"
          ],
          [
           "carapace:undistorted_GX010094_24_430.jpg_gamma",
           "Prawn_2"
          ],
          [
           "carapace:undistorted_GX010094_93_1258.jpg_gamma",
           "Prawn_0"
          ],
          [
           "carapace:undistorted_GX010094_93_1258.jpg_gamma",
           "Prawn_1"
          ],
          [
           "carapace:undistorted_GX010094_163_2312.jpg_gamma",
           "Prawn_0"
          ],
          [
           "carapace:undistorted_GX010096_107_1571.jpg_gamma",
           "Prawn_0"
          ],
          [
           "carapace:undistorted_GX010097_32_528.jpg_gamma",
           "Prawn_0"
          ],
          [
           "carapace:undistorted_GX010097_32_528.jpg_gamma",
           "Prawn_1"
          ],
          [
           "carapace:undistorted_GX010097_60_1080.jpg_gamma",
           "Prawn_1"
          ],
          [
           "carapace:undistorted_GX010097_105_1651.jpg_gamma",
           "Prawn_0"
          ],
          [
           "carapace:undistorted_GX010097_105_1651.jpg_gamma",
           "Prawn_1"
          ],
          [
           "carapace:undistorted_GX010097_105_1651.jpg_gamma",
           "Prawn_2"
          ],
          [
           "carapace:undistorted_GX010097_105_1651.jpg_gamma",
           "Prawn_3"
          ],
          [
           "carapace:undistorted_GX010097_124_1870.jpg_gamma",
           "Prawn_1"
          ],
          [
           "carapace:undistorted_GX010101_12_173.jpg_gamma",
           "Prawn_0"
          ],
          [
           "carapace:undistorted_GX010102_9_165.jpg_gamma",
           "Prawn_0"
          ],
          [
           "carapace:undistorted_GX010102_9_165.jpg_gamma",
           "Prawn_3"
          ],
          [
           "carapace:undistorted_GX010102_9_165.jpg_gamma",
           "Prawn_4"
          ],
          [
           "carapace:undistorted_GX010102_50_1396.jpg_gamma",
           "Prawn_0"
          ],
          [
           "carapace:undistorted_GX010105_28_816.jpg_gamma",
           "Prawn_0"
          ],
          [
           "carapace:undistorted_GX010105_28_816.jpg_gamma",
           "Prawn_1"
          ],
          [
           "carapace:undistorted_GX010152_36_378.jpg_gamma",
           "Prawn_1"
          ],
          [
           "carapace:undistorted_GX010152_36_378.jpg_gamma",
           "Prawn_2"
          ],
          [
           "carapace:undistorted_GX010155_78_1170.jpg_gamma",
           "Prawn_0"
          ],
          [
           "carapace:undistorted_GX010157_68_883",
           "Prawn_0"
          ],
          [
           "carapace:undistorted_GX010157_160_2259",
           "Prawn_0"
          ],
          [
           "carapace:undistorted_GX010157_160_2259",
           "Prawn_1"
          ],
          [
           "carapace:undistorted_GX010157_174_2582.jpg_gamma",
           "Prawn_0"
          ],
          [
           "carapace:undistorted_GX010157_177_2665.jpg_gamma",
           "Prawn_0"
          ],
          [
           "carapace:undistorted_GX010161_54_676.jpg_gamma.jpg_gamma",
           "Prawn_0"
          ],
          [
           "carapace:undistorted_GX010161_136_2267.jpg_gamma.jpg_gamma",
           "Prawn_0"
          ],
          [
           "carapace:undistorted_GX010162_72_927.jpg_gamma.jpg_gamma",
           "Prawn_0"
          ],
          [
           "carapace:undistorted_GX010169_121_1249",
           "Prawn_0"
          ],
          [
           "carapace:undistorted_GX010173_75_922.jpg_gamma",
           "Prawn_0"
          ],
          [
           "carapace:undistorted_GX010174_62_790.jpg_gamma",
           "Prawn_0"
          ],
          [
           "carapace:undistorted_GX010174_104_1236",
           "Prawn_0"
          ],
          [
           "carapace:undistorted_GX010175_82_852.jpg_gamma",
           "Prawn_0"
          ],
          [
           "carapace:undistorted_GX010175_215_2644.jpg_gamma",
           "Prawn_0"
          ],
          [
           "carapace:undistorted_GX010175_266_3372.jpg_gamma.jpg_gamma",
           "Prawn_0"
          ],
          [
           "carapace:undistorted_GX010177_232_3047",
           "Prawn_0"
          ],
          [
           "carapace:undistorted_GX010178_107_2118",
           "Prawn_0"
          ],
          [
           "carapace:undistorted_GX010178_107_2118",
           "Prawn_1"
          ],
          [
           "carapace:undistorted_GX010178_114_2258",
           "Prawn_0"
          ],
          [
           "carapace:undistorted_GX010178_189_3987.jpg_gamma",
           "Prawn_0"
          ],
          [
           "carapace:undistorted_GX010178_189_3987.jpg_gamma",
           "Prawn_1"
          ],
          [
           "carapace:undistorted_GX010179_88_1697.jpg_gamma",
           "Prawn_0"
          ],
          [
           "carapace:undistorted_GX010179_200_3927.jpg_gamma",
           "Prawn_0"
          ],
          [
           "carapace:undistorted_GX010180_91_1563",
           "Prawn_0"
          ],
          [
           "carapace:undistorted_GX010180_99_1788",
           "Prawn_0"
          ],
          [
           "carapace:undistorted_GX010181_101_1542",
           "Prawn_0"
          ],
          [
           "carapace:undistorted_GX010183_37_685.jpg_gamma",
           "Prawn_0"
          ],
          [
           "carapace:undistorted_GX010183_37_685.jpg_gamma",
           "Prawn_1"
          ],
          [
           "carapace:undistorted_GX010183_37_685.jpg_gamma",
           "Prawn_2"
          ],
          [
           "carapace:undistorted_GX010183_80_1633.jpg_gamma",
           "Prawn_0"
          ],
          [
           "carapace:undistorted_GX010183_80_1633.jpg_gamma",
           "Prawn_1"
          ],
          [
           "carapace:undistorted_GX010183_128_2852.jpg_gamma",
           "Prawn_0"
          ],
          [
           "carapace:undistorted_GX010183_128_2852.jpg_gamma",
           "Prawn_1"
          ]
         ],
         "hovertemplate": "Pond_Type=%{x}<br>mean_percenage_error_mean=%{y}<br>Label=%{customdata[0]}<br>PrawnID=%{customdata[1]}<extra></extra>",
         "legendgroup": "",
         "marker": {
          "color": "#636efa"
         },
         "name": "",
         "offsetgroup": "",
         "orientation": "v",
         "points": "all",
         "scalegroup": "True",
         "showlegend": false,
         "type": "violin",
         "x": [
          "test-right",
          "test-right",
          "test-right",
          "test-right",
          "test-right",
          "test-right",
          "test-right",
          "test-right",
          "test-right",
          "test-right",
          "test-right",
          "test-right",
          "test-right",
          "test-right",
          "test-right",
          "test-right",
          "test-right",
          "test-right",
          "test-right",
          "test-right",
          "test-right",
          "test-right",
          "test-right",
          "test-right",
          "test-right",
          "test-right",
          "test-right",
          "test-right",
          "test-right",
          "test-right",
          "test-right",
          "test-right",
          "test-right",
          "test-right",
          "test-right",
          "test-right",
          "test-right",
          "test-right",
          "test-right",
          "test-right",
          "test-right",
          "test-right",
          "test-right",
          "test-right",
          "test-right",
          "test-right",
          "test-right",
          "test-right",
          "test-right",
          "test-right",
          "test-right",
          "test-right",
          "test-right",
          "test-right",
          "test-right",
          "test-right",
          "test-right",
          "test-right",
          "test-right",
          "test-right",
          "test-right",
          "test-right",
          "test-right",
          "test-right",
          "test-right",
          "test-right",
          "test-right",
          "test-right",
          "test-right",
          "test-right",
          "test-right",
          "test-right",
          "test-right",
          "test-right",
          "test-right",
          "test-right",
          "test-right",
          "test-right",
          "test-right",
          "test-left",
          "test-left",
          "test-left",
          "test-right",
          "test-right",
          "test-left",
          "test-left",
          "test-left",
          "test-left",
          "test-right",
          "test-right",
          "test-right",
          "test-right",
          "test-right",
          "test-right",
          "test-right",
          "test-right",
          "test-right",
          "test-right",
          "test-right",
          "test-right",
          "test-right",
          "test-right",
          "test-right",
          "test-right",
          "test-right",
          "test-right",
          "test-left",
          "test-left",
          "test-left",
          "test-left",
          "test-left",
          "test-left",
          "test-car",
          "test-car",
          "test-car",
          "test-car",
          "test-car",
          "test-car",
          "test-car",
          "test-car",
          "test-car",
          "test-car",
          "test-car",
          "test-car",
          "test-car",
          "test-car",
          "test-car",
          "test-car",
          "test-car",
          "test-car",
          "test-car",
          "test-car",
          "test-car",
          "test-car",
          "test-car",
          "test-car",
          "test-car",
          "test-car",
          "test-car",
          "test-car",
          "test-car",
          "test-car",
          "test-car",
          "test-car",
          "test-car",
          "test-car",
          "test-car",
          "test-car"
         ],
         "x0": " ",
         "xaxis": "x",
         "y": [
          7.707928215666349,
          0.31717874995715406,
          8.427904157121107,
          8.986719166170575,
          15.571394200677355,
          16.034785376730753,
          6.857985584598139,
          1.5219702207071233,
          3.5898868648500484,
          1.6336498389819538,
          11.047962967124139,
          0.8724756932193524,
          2.0479211883234005,
          29.321009111214824,
          23.854313948011285,
          22.320761960074126,
          18.270685025575975,
          8.816477912764793,
          10.672073445080114,
          16.592188937073974,
          12.318209383554462,
          19.352875945980692,
          25.064180075810278,
          8.931086700495532,
          38.18396319935895,
          9.39305670351651,
          12.61634128873517,
          0.21927430508227405,
          17.547257205132397,
          24.307740832396966,
          14.776302039149739,
          0.9825856854590874,
          19.784921405652835,
          6.333982236008468,
          13.431100019781436,
          8.962235968487343,
          11.235998192411977,
          14.188906189157976,
          0.880797156497129,
          18.05159842430075,
          14.845148869351469,
          12.405110145371518,
          14.400369805778155,
          10.75391393889737,
          12.968547364320775,
          10.686865087683168,
          1.274262458066293,
          1.0096939872324902,
          8.114739403311793,
          6.324566897370029,
          6.696731103831372,
          0.8282226011610048,
          7.215815914961155,
          11.778395674408335,
          8.321796366952203,
          21.765083965470108,
          20.907204789832097,
          17.394089775687462,
          2.891972803279935,
          18.216636660357803,
          9.792532536209503,
          17.363434611442926,
          29.42519432069376,
          29.851925574783778,
          13.532465275602329,
          1.236265422499205,
          5.191969199316195,
          26.14516967513439,
          18.712755994225176,
          35.64558854470882,
          24.683975443323998,
          19.86183291488847,
          26.585357050713434,
          26.648434823741884,
          28.83808398596419,
          24.98853155404801,
          17.877494265867902,
          24.81769601569425,
          24.810491516144488,
          23.114409751267026,
          17.86629570820185,
          8.182463687535611,
          6.57903198598959,
          20.76419296742633,
          7.433783671158897,
          12.580151297164369,
          13.30370972368444,
          75.93259712945127,
          2.6856566692366304,
          5.769187117319068,
          10.56463062515863,
          4.884284923352214,
          13.989414209512155,
          11.481228009039,
          15.654253498497797,
          3.151085632180444,
          22.28240458121011,
          20.68771422661738,
          10.021026830373291,
          15.805677601370519,
          6.750757449679198,
          10.257713981841682,
          9.401869007834984,
          14.065192288375913,
          14.703476609524676,
          3.523411682162451,
          12.593476287226988,
          13.115333191296386,
          7.404814650761289,
          6.885701174274182,
          17.264067641378485,
          2.9757172151457447,
          30.15574996328449,
          40.92196214779024,
          32.061441228024954,
          45.516073708683784,
          31.17557858502108,
          60.391300635254495,
          33.900475461526966,
          32.28305900459319,
          23.6018569510843,
          44.69431544618226,
          9.31116271121586,
          23.894839466758512,
          43.96390338849526,
          23.30721210556151,
          8.683007059964808,
          8.730652761312538,
          46.638588653396965,
          1.6280251638231853,
          4.958408560373445,
          32.521991822693856,
          2.5337877627324925,
          11.358173563940428,
          25.333715668503565,
          16.783847549905182,
          1.3619496799689417,
          1.4749383182049138,
          19.075183482446878,
          13.71750747551323,
          27.194420222741783,
          39.59127005521794,
          7.303861522682109,
          47.40823426263394,
          24.51599838277662,
          11.6992468989034,
          28.36647906220578,
          17.64324713863491
         ],
         "y0": " ",
         "yaxis": "y"
        }
       ],
       "layout": {
        "legend": {
         "tracegroupgap": 0
        },
        "template": {
         "data": {
          "bar": [
           {
            "error_x": {
             "color": "#2a3f5f"
            },
            "error_y": {
             "color": "#2a3f5f"
            },
            "marker": {
             "line": {
              "color": "#E5ECF6",
              "width": 0.5
             },
             "pattern": {
              "fillmode": "overlay",
              "size": 10,
              "solidity": 0.2
             }
            },
            "type": "bar"
           }
          ],
          "barpolar": [
           {
            "marker": {
             "line": {
              "color": "#E5ECF6",
              "width": 0.5
             },
             "pattern": {
              "fillmode": "overlay",
              "size": 10,
              "solidity": 0.2
             }
            },
            "type": "barpolar"
           }
          ],
          "carpet": [
           {
            "aaxis": {
             "endlinecolor": "#2a3f5f",
             "gridcolor": "white",
             "linecolor": "white",
             "minorgridcolor": "white",
             "startlinecolor": "#2a3f5f"
            },
            "baxis": {
             "endlinecolor": "#2a3f5f",
             "gridcolor": "white",
             "linecolor": "white",
             "minorgridcolor": "white",
             "startlinecolor": "#2a3f5f"
            },
            "type": "carpet"
           }
          ],
          "choropleth": [
           {
            "colorbar": {
             "outlinewidth": 0,
             "ticks": ""
            },
            "type": "choropleth"
           }
          ],
          "contour": [
           {
            "colorbar": {
             "outlinewidth": 0,
             "ticks": ""
            },
            "colorscale": [
             [
              0,
              "#0d0887"
             ],
             [
              0.1111111111111111,
              "#46039f"
             ],
             [
              0.2222222222222222,
              "#7201a8"
             ],
             [
              0.3333333333333333,
              "#9c179e"
             ],
             [
              0.4444444444444444,
              "#bd3786"
             ],
             [
              0.5555555555555556,
              "#d8576b"
             ],
             [
              0.6666666666666666,
              "#ed7953"
             ],
             [
              0.7777777777777778,
              "#fb9f3a"
             ],
             [
              0.8888888888888888,
              "#fdca26"
             ],
             [
              1,
              "#f0f921"
             ]
            ],
            "type": "contour"
           }
          ],
          "contourcarpet": [
           {
            "colorbar": {
             "outlinewidth": 0,
             "ticks": ""
            },
            "type": "contourcarpet"
           }
          ],
          "heatmap": [
           {
            "colorbar": {
             "outlinewidth": 0,
             "ticks": ""
            },
            "colorscale": [
             [
              0,
              "#0d0887"
             ],
             [
              0.1111111111111111,
              "#46039f"
             ],
             [
              0.2222222222222222,
              "#7201a8"
             ],
             [
              0.3333333333333333,
              "#9c179e"
             ],
             [
              0.4444444444444444,
              "#bd3786"
             ],
             [
              0.5555555555555556,
              "#d8576b"
             ],
             [
              0.6666666666666666,
              "#ed7953"
             ],
             [
              0.7777777777777778,
              "#fb9f3a"
             ],
             [
              0.8888888888888888,
              "#fdca26"
             ],
             [
              1,
              "#f0f921"
             ]
            ],
            "type": "heatmap"
           }
          ],
          "heatmapgl": [
           {
            "colorbar": {
             "outlinewidth": 0,
             "ticks": ""
            },
            "colorscale": [
             [
              0,
              "#0d0887"
             ],
             [
              0.1111111111111111,
              "#46039f"
             ],
             [
              0.2222222222222222,
              "#7201a8"
             ],
             [
              0.3333333333333333,
              "#9c179e"
             ],
             [
              0.4444444444444444,
              "#bd3786"
             ],
             [
              0.5555555555555556,
              "#d8576b"
             ],
             [
              0.6666666666666666,
              "#ed7953"
             ],
             [
              0.7777777777777778,
              "#fb9f3a"
             ],
             [
              0.8888888888888888,
              "#fdca26"
             ],
             [
              1,
              "#f0f921"
             ]
            ],
            "type": "heatmapgl"
           }
          ],
          "histogram": [
           {
            "marker": {
             "pattern": {
              "fillmode": "overlay",
              "size": 10,
              "solidity": 0.2
             }
            },
            "type": "histogram"
           }
          ],
          "histogram2d": [
           {
            "colorbar": {
             "outlinewidth": 0,
             "ticks": ""
            },
            "colorscale": [
             [
              0,
              "#0d0887"
             ],
             [
              0.1111111111111111,
              "#46039f"
             ],
             [
              0.2222222222222222,
              "#7201a8"
             ],
             [
              0.3333333333333333,
              "#9c179e"
             ],
             [
              0.4444444444444444,
              "#bd3786"
             ],
             [
              0.5555555555555556,
              "#d8576b"
             ],
             [
              0.6666666666666666,
              "#ed7953"
             ],
             [
              0.7777777777777778,
              "#fb9f3a"
             ],
             [
              0.8888888888888888,
              "#fdca26"
             ],
             [
              1,
              "#f0f921"
             ]
            ],
            "type": "histogram2d"
           }
          ],
          "histogram2dcontour": [
           {
            "colorbar": {
             "outlinewidth": 0,
             "ticks": ""
            },
            "colorscale": [
             [
              0,
              "#0d0887"
             ],
             [
              0.1111111111111111,
              "#46039f"
             ],
             [
              0.2222222222222222,
              "#7201a8"
             ],
             [
              0.3333333333333333,
              "#9c179e"
             ],
             [
              0.4444444444444444,
              "#bd3786"
             ],
             [
              0.5555555555555556,
              "#d8576b"
             ],
             [
              0.6666666666666666,
              "#ed7953"
             ],
             [
              0.7777777777777778,
              "#fb9f3a"
             ],
             [
              0.8888888888888888,
              "#fdca26"
             ],
             [
              1,
              "#f0f921"
             ]
            ],
            "type": "histogram2dcontour"
           }
          ],
          "mesh3d": [
           {
            "colorbar": {
             "outlinewidth": 0,
             "ticks": ""
            },
            "type": "mesh3d"
           }
          ],
          "parcoords": [
           {
            "line": {
             "colorbar": {
              "outlinewidth": 0,
              "ticks": ""
             }
            },
            "type": "parcoords"
           }
          ],
          "pie": [
           {
            "automargin": true,
            "type": "pie"
           }
          ],
          "scatter": [
           {
            "fillpattern": {
             "fillmode": "overlay",
             "size": 10,
             "solidity": 0.2
            },
            "type": "scatter"
           }
          ],
          "scatter3d": [
           {
            "line": {
             "colorbar": {
              "outlinewidth": 0,
              "ticks": ""
             }
            },
            "marker": {
             "colorbar": {
              "outlinewidth": 0,
              "ticks": ""
             }
            },
            "type": "scatter3d"
           }
          ],
          "scattercarpet": [
           {
            "marker": {
             "colorbar": {
              "outlinewidth": 0,
              "ticks": ""
             }
            },
            "type": "scattercarpet"
           }
          ],
          "scattergeo": [
           {
            "marker": {
             "colorbar": {
              "outlinewidth": 0,
              "ticks": ""
             }
            },
            "type": "scattergeo"
           }
          ],
          "scattergl": [
           {
            "marker": {
             "colorbar": {
              "outlinewidth": 0,
              "ticks": ""
             }
            },
            "type": "scattergl"
           }
          ],
          "scattermapbox": [
           {
            "marker": {
             "colorbar": {
              "outlinewidth": 0,
              "ticks": ""
             }
            },
            "type": "scattermapbox"
           }
          ],
          "scatterpolar": [
           {
            "marker": {
             "colorbar": {
              "outlinewidth": 0,
              "ticks": ""
             }
            },
            "type": "scatterpolar"
           }
          ],
          "scatterpolargl": [
           {
            "marker": {
             "colorbar": {
              "outlinewidth": 0,
              "ticks": ""
             }
            },
            "type": "scatterpolargl"
           }
          ],
          "scatterternary": [
           {
            "marker": {
             "colorbar": {
              "outlinewidth": 0,
              "ticks": ""
             }
            },
            "type": "scatterternary"
           }
          ],
          "surface": [
           {
            "colorbar": {
             "outlinewidth": 0,
             "ticks": ""
            },
            "colorscale": [
             [
              0,
              "#0d0887"
             ],
             [
              0.1111111111111111,
              "#46039f"
             ],
             [
              0.2222222222222222,
              "#7201a8"
             ],
             [
              0.3333333333333333,
              "#9c179e"
             ],
             [
              0.4444444444444444,
              "#bd3786"
             ],
             [
              0.5555555555555556,
              "#d8576b"
             ],
             [
              0.6666666666666666,
              "#ed7953"
             ],
             [
              0.7777777777777778,
              "#fb9f3a"
             ],
             [
              0.8888888888888888,
              "#fdca26"
             ],
             [
              1,
              "#f0f921"
             ]
            ],
            "type": "surface"
           }
          ],
          "table": [
           {
            "cells": {
             "fill": {
              "color": "#EBF0F8"
             },
             "line": {
              "color": "white"
             }
            },
            "header": {
             "fill": {
              "color": "#C8D4E3"
             },
             "line": {
              "color": "white"
             }
            },
            "type": "table"
           }
          ]
         },
         "layout": {
          "annotationdefaults": {
           "arrowcolor": "#2a3f5f",
           "arrowhead": 0,
           "arrowwidth": 1
          },
          "autotypenumbers": "strict",
          "coloraxis": {
           "colorbar": {
            "outlinewidth": 0,
            "ticks": ""
           }
          },
          "colorscale": {
           "diverging": [
            [
             0,
             "#8e0152"
            ],
            [
             0.1,
             "#c51b7d"
            ],
            [
             0.2,
             "#de77ae"
            ],
            [
             0.3,
             "#f1b6da"
            ],
            [
             0.4,
             "#fde0ef"
            ],
            [
             0.5,
             "#f7f7f7"
            ],
            [
             0.6,
             "#e6f5d0"
            ],
            [
             0.7,
             "#b8e186"
            ],
            [
             0.8,
             "#7fbc41"
            ],
            [
             0.9,
             "#4d9221"
            ],
            [
             1,
             "#276419"
            ]
           ],
           "sequential": [
            [
             0,
             "#0d0887"
            ],
            [
             0.1111111111111111,
             "#46039f"
            ],
            [
             0.2222222222222222,
             "#7201a8"
            ],
            [
             0.3333333333333333,
             "#9c179e"
            ],
            [
             0.4444444444444444,
             "#bd3786"
            ],
            [
             0.5555555555555556,
             "#d8576b"
            ],
            [
             0.6666666666666666,
             "#ed7953"
            ],
            [
             0.7777777777777778,
             "#fb9f3a"
            ],
            [
             0.8888888888888888,
             "#fdca26"
            ],
            [
             1,
             "#f0f921"
            ]
           ],
           "sequentialminus": [
            [
             0,
             "#0d0887"
            ],
            [
             0.1111111111111111,
             "#46039f"
            ],
            [
             0.2222222222222222,
             "#7201a8"
            ],
            [
             0.3333333333333333,
             "#9c179e"
            ],
            [
             0.4444444444444444,
             "#bd3786"
            ],
            [
             0.5555555555555556,
             "#d8576b"
            ],
            [
             0.6666666666666666,
             "#ed7953"
            ],
            [
             0.7777777777777778,
             "#fb9f3a"
            ],
            [
             0.8888888888888888,
             "#fdca26"
            ],
            [
             1,
             "#f0f921"
            ]
           ]
          },
          "colorway": [
           "#636efa",
           "#EF553B",
           "#00cc96",
           "#ab63fa",
           "#FFA15A",
           "#19d3f3",
           "#FF6692",
           "#B6E880",
           "#FF97FF",
           "#FECB52"
          ],
          "font": {
           "color": "#2a3f5f"
          },
          "geo": {
           "bgcolor": "white",
           "lakecolor": "white",
           "landcolor": "#E5ECF6",
           "showlakes": true,
           "showland": true,
           "subunitcolor": "white"
          },
          "hoverlabel": {
           "align": "left"
          },
          "hovermode": "closest",
          "mapbox": {
           "style": "light"
          },
          "paper_bgcolor": "white",
          "plot_bgcolor": "#E5ECF6",
          "polar": {
           "angularaxis": {
            "gridcolor": "white",
            "linecolor": "white",
            "ticks": ""
           },
           "bgcolor": "#E5ECF6",
           "radialaxis": {
            "gridcolor": "white",
            "linecolor": "white",
            "ticks": ""
           }
          },
          "scene": {
           "xaxis": {
            "backgroundcolor": "#E5ECF6",
            "gridcolor": "white",
            "gridwidth": 2,
            "linecolor": "white",
            "showbackground": true,
            "ticks": "",
            "zerolinecolor": "white"
           },
           "yaxis": {
            "backgroundcolor": "#E5ECF6",
            "gridcolor": "white",
            "gridwidth": 2,
            "linecolor": "white",
            "showbackground": true,
            "ticks": "",
            "zerolinecolor": "white"
           },
           "zaxis": {
            "backgroundcolor": "#E5ECF6",
            "gridcolor": "white",
            "gridwidth": 2,
            "linecolor": "white",
            "showbackground": true,
            "ticks": "",
            "zerolinecolor": "white"
           }
          },
          "shapedefaults": {
           "line": {
            "color": "#2a3f5f"
           }
          },
          "ternary": {
           "aaxis": {
            "gridcolor": "white",
            "linecolor": "white",
            "ticks": ""
           },
           "baxis": {
            "gridcolor": "white",
            "linecolor": "white",
            "ticks": ""
           },
           "bgcolor": "#E5ECF6",
           "caxis": {
            "gridcolor": "white",
            "linecolor": "white",
            "ticks": ""
           }
          },
          "title": {
           "x": 0.05
          },
          "xaxis": {
           "automargin": true,
           "gridcolor": "white",
           "linecolor": "white",
           "ticks": "",
           "title": {
            "standoff": 15
           },
           "zerolinecolor": "white",
           "zerolinewidth": 2
          },
          "yaxis": {
           "automargin": true,
           "gridcolor": "white",
           "linecolor": "white",
           "ticks": "",
           "title": {
            "standoff": 15
           },
           "zerolinecolor": "white",
           "zerolinewidth": 2
          }
         }
        },
        "title": {
         "text": "Violin plot of mean_percenage_error_mean"
        },
        "violinmode": "group",
        "xaxis": {
         "anchor": "y",
         "domain": [
          0,
          1
         ],
         "title": {
          "text": "Pond_Type"
         }
        },
        "yaxis": {
         "anchor": "x",
         "domain": [
          0,
          1
         ],
         "title": {
          "text": "mean_percenage_error_mean"
         }
        }
       }
      }
     },
     "metadata": {},
     "output_type": "display_data"
    },
    {
     "data": {
      "application/vnd.plotly.v1+json": {
       "config": {
        "plotlyServerURL": "https://plot.ly"
       },
       "data": [
        {
         "alignmentgroup": "True",
         "box": {
          "visible": true
         },
         "customdata": [
          [
           "carapace:undistorted_GX010067_33_625.jpg_gamma",
           "Prawn_0"
          ],
          [
           "carapace:undistorted_GX010067_33_625.jpg_gamma",
           "Prawn_1"
          ],
          [
           "carapace:undistorted_GX010067_33_625.jpg_gamma",
           "Prawn_2"
          ],
          [
           "carapace:undistorted_GX010067_33_625.jpg_gamma",
           "Prawn_3"
          ],
          [
           "carapace:undistorted_GX010068_26_666.jpg_gamma",
           "Prawn_0"
          ],
          [
           "carapace:undistorted_GX010068_26_666.jpg_gamma",
           "Prawn_1"
          ],
          [
           "carapace:undistorted_GX010068_26_666.jpg_gamma",
           "Prawn_2"
          ],
          [
           "carapace:undistorted_GX010068_27_795.jpg_gamma",
           "Prawn_2"
          ],
          [
           "carapace:undistorted_GX010069_19_191.jpg_gamma",
           "Prawn_0"
          ],
          [
           "carapace:undistorted_GX010069_19_191.jpg_gamma",
           "Prawn_1"
          ],
          [
           "carapace:undistorted_GX010069_19_191.jpg_gamma",
           "Prawn_2"
          ],
          [
           "carapace:undistorted_GX010069_19_191.jpg_gamma",
           "Prawn_3"
          ],
          [
           "carapace:undistorted_GX010069_53_796.jpg_gamma",
           "Prawn_1"
          ],
          [
           "carapace:undistorted_GX010071_22_444.jpg_gamma",
           "Prawn_0"
          ],
          [
           "carapace:undistorted_GX010073_42_695.jpg_gamma",
           "Prawn_0"
          ],
          [
           "carapace:undistorted_GX010073_42_695.jpg_gamma",
           "Prawn_1"
          ],
          [
           "carapace:undistorted_GX010073_42_695.jpg_gamma",
           "Prawn_2"
          ],
          [
           "carapace:undistorted_GX010073_55_1014.jpg_gamma",
           "Prawn_0"
          ],
          [
           "carapace:undistorted_GX010073_55_1014.jpg_gamma",
           "Prawn_3"
          ],
          [
           "carapace:undistorted_GX010077_14_237.jpg_gamma",
           "Prawn_0"
          ],
          [
           "carapace:undistorted_GX010077_14_237.jpg_gamma",
           "Prawn_1"
          ],
          [
           "carapace:undistorted_GX010077_14_237.jpg_gamma",
           "Prawn_2"
          ],
          [
           "carapace:undistorted_GX010080_157_2283.jpg_gamma",
           "Prawn_0"
          ],
          [
           "carapace:undistorted_GX010080_157_2283.jpg_gamma",
           "Prawn_1"
          ],
          [
           "carapace:undistorted_GX010080_157_2283.jpg_gamma",
           "Prawn_2"
          ],
          [
           "carapace:undistorted_GX010080_157_2283.jpg_gamma",
           "Prawn_3"
          ],
          [
           "carapace:undistorted_GX010080_157_2283.jpg_gamma",
           "Prawn_4"
          ],
          [
           "carapace:undistorted_GX010080_193_2640.jpg_gamma",
           "Prawn_0"
          ],
          [
           "carapace:undistorted_GX010080_193_2640.jpg_gamma",
           "Prawn_1"
          ],
          [
           "carapace:undistorted_GX010080_193_2640.jpg_gamma",
           "Prawn_4"
          ],
          [
           "carapace:undistorted_GX010080_212_2954.jpg_gamma",
           "Prawn_0"
          ],
          [
           "carapace:undistorted_GX010080_212_2954.jpg_gamma",
           "Prawn_1"
          ],
          [
           "carapace:undistorted_GX010080_212_2954.jpg_gamma",
           "Prawn_2"
          ],
          [
           "carapace:undistorted_GX010080_237_3366.jpg_gamma",
           "Prawn_0"
          ],
          [
           "carapace:undistorted_GX010080_237_3366.jpg_gamma",
           "Prawn_1"
          ],
          [
           "carapace:undistorted_GX010080_237_3366.jpg_gamma",
           "Prawn_2"
          ],
          [
           "carapace:undistorted_GX010080_237_3366.jpg_gamma",
           "Prawn_3"
          ],
          [
           "carapace:undistorted_GX010080_238_3392.jpg_gamma",
           "Prawn_0"
          ],
          [
           "carapace:undistorted_GX010080_238_3392.jpg_gamma",
           "Prawn_1"
          ],
          [
           "carapace:undistorted_GX010080_238_3392.jpg_gamma",
           "Prawn_2"
          ],
          [
           "carapace:undistorted_GX010080_238_3392.jpg_gamma",
           "Prawn_3"
          ],
          [
           "carapace:undistorted_GX010080_238_3392.jpg_gamma",
           "Prawn_4"
          ],
          [
           "carapace:undistorted_GX010082_8_59.jpg_gamma",
           "Prawn_0"
          ],
          [
           "carapace:undistorted_GX010082_8_59.jpg_gamma",
           "Prawn_1"
          ],
          [
           "carapace:undistorted_GX010082_8_59.jpg_gamma",
           "Prawn_2"
          ],
          [
           "carapace:undistorted_GX010082_8_59.jpg_gamma",
           "Prawn_3"
          ],
          [
           "carapace:undistorted_GX010082_8_59.jpg_gamma",
           "Prawn_4"
          ],
          [
           "carapace:undistorted_GX010082_8_59.jpg_gamma",
           "Prawn_5"
          ],
          [
           "carapace:undistorted_GX010082_53_796.jpg_gamma",
           "Prawn_0"
          ],
          [
           "carapace:undistorted_GX010082_53_796.jpg_gamma",
           "Prawn_1"
          ],
          [
           "carapace:undistorted_GX010082_65_1070.jpg_gamma",
           "Prawn_0"
          ],
          [
           "carapace:undistorted_GX010082_65_1070.jpg_gamma",
           "Prawn_1"
          ],
          [
           "carapace:undistorted_GX010082_65_1070.jpg_gamma",
           "Prawn_2"
          ],
          [
           "carapace:undistorted_GX010082_236_3137.jpg_gamma",
           "Prawn_1"
          ],
          [
           "carapace:undistorted_GX010082_236_3137.jpg_gamma",
           "Prawn_2"
          ],
          [
           "carapace:undistorted_GX010084_30_344.jpg_gamma",
           "Prawn_0"
          ],
          [
           "carapace:undistorted_GX010084_30_344.jpg_gamma",
           "Prawn_2"
          ],
          [
           "carapace:undistorted_GX010084_30_344.jpg_gamma",
           "Prawn_3"
          ],
          [
           "carapace:undistorted_GX010084_30_344.jpg_gamma",
           "Prawn_5"
          ],
          [
           "carapace:undistorted_GX010084_130_1748.jpg_gamma",
           "Prawn_0"
          ],
          [
           "carapace:undistorted_GX010084_130_1748.jpg_gamma",
           "Prawn_1"
          ],
          [
           "carapace:undistorted_GX010084_130_1748.jpg_gamma",
           "Prawn_2"
          ],
          [
           "carapace:undistorted_GX010084_130_1748.jpg_gamma",
           "Prawn_3"
          ],
          [
           "carapace:undistorted_GX010084_167_2291.jpg_gamma",
           "Prawn_0"
          ],
          [
           "carapace:undistorted_GX010084_167_2291.jpg_gamma",
           "Prawn_1"
          ],
          [
           "carapace:undistorted_GX010085_261_3610.jpg_gamma",
           "Prawn_0"
          ],
          [
           "carapace:undistorted_GX010085_261_3610.jpg_gamma",
           "Prawn_1"
          ],
          [
           "carapace:undistorted_GX010085_261_3610.jpg_gamma",
           "Prawn_2"
          ],
          [
           "carapace:undistorted_GX010085_263_3738.jpg_gamma",
           "Prawn_1"
          ],
          [
           "carapace:undistorted_GX010085_263_3738.jpg_gamma",
           "Prawn_3"
          ],
          [
           "carapace:undistorted_GX010088_262_3712.jpg_gamma",
           "Prawn_0"
          ],
          [
           "carapace:undistorted_GX010088_262_3712.jpg_gamma",
           "Prawn_2"
          ],
          [
           "carapace:undistorted_GX010088_262_3712.jpg_gamma",
           "Prawn_3"
          ],
          [
           "carapace:undistorted_GX010088_262_3712.jpg_gamma",
           "Prawn_4"
          ],
          [
           "carapace:undistorted_GX010088_262_3712.jpg_gamma",
           "Prawn_5"
          ],
          [
           "carapace:undistorted_GX010088_327_4364.jpg_gamma",
           "Prawn_0"
          ],
          [
           "carapace:undistorted_GX010088_327_4364.jpg_gamma",
           "Prawn_1"
          ],
          [
           "carapace:undistorted_GX010088_327_4364.jpg_gamma",
           "Prawn_2"
          ],
          [
           "carapace:undistorted_GX010088_327_4364.jpg_gamma",
           "Prawn_3"
          ],
          [
           "carapace:undistorted_GX010089_11_236.jpg_gamma",
           "Prawn_0"
          ],
          [
           "carapace:undistorted_GX010089_11_236.jpg_gamma",
           "Prawn_1"
          ],
          [
           "carapace:undistorted_GX010089_11_236.jpg_gamma",
           "Prawn_2"
          ],
          [
           "carapace:undistorted_GX010090_132_1852.jpg_gamma",
           "Prawn_0"
          ],
          [
           "carapace:undistorted_GX010090_132_1852.jpg_gamma",
           "Prawn_1"
          ],
          [
           "carapace:undistorted_GX010091_5_149.jpg_gamma",
           "Prawn_0"
          ],
          [
           "carapace:undistorted_GX010091_5_149.jpg_gamma",
           "Prawn_1"
          ],
          [
           "carapace:undistorted_GX010091_5_149.jpg_gamma",
           "Prawn_2"
          ],
          [
           "carapace:undistorted_GX010091_5_149.jpg_gamma",
           "Prawn_3"
          ],
          [
           "carapace:undistorted_GX010094_9_129.jpg_gamma",
           "Prawn_0"
          ],
          [
           "carapace:undistorted_GX010094_9_129.jpg_gamma",
           "Prawn_1"
          ],
          [
           "carapace:undistorted_GX010094_24_430.jpg_gamma",
           "Prawn_0"
          ],
          [
           "carapace:undistorted_GX010094_24_430.jpg_gamma",
           "Prawn_1"
          ],
          [
           "carapace:undistorted_GX010094_24_430.jpg_gamma",
           "Prawn_2"
          ],
          [
           "carapace:undistorted_GX010094_93_1258.jpg_gamma",
           "Prawn_0"
          ],
          [
           "carapace:undistorted_GX010094_93_1258.jpg_gamma",
           "Prawn_1"
          ],
          [
           "carapace:undistorted_GX010094_163_2312.jpg_gamma",
           "Prawn_0"
          ],
          [
           "carapace:undistorted_GX010096_107_1571.jpg_gamma",
           "Prawn_0"
          ],
          [
           "carapace:undistorted_GX010097_32_528.jpg_gamma",
           "Prawn_0"
          ],
          [
           "carapace:undistorted_GX010097_32_528.jpg_gamma",
           "Prawn_1"
          ],
          [
           "carapace:undistorted_GX010097_60_1080.jpg_gamma",
           "Prawn_1"
          ],
          [
           "carapace:undistorted_GX010097_105_1651.jpg_gamma",
           "Prawn_0"
          ],
          [
           "carapace:undistorted_GX010097_105_1651.jpg_gamma",
           "Prawn_1"
          ],
          [
           "carapace:undistorted_GX010097_105_1651.jpg_gamma",
           "Prawn_2"
          ],
          [
           "carapace:undistorted_GX010097_105_1651.jpg_gamma",
           "Prawn_3"
          ],
          [
           "carapace:undistorted_GX010097_124_1870.jpg_gamma",
           "Prawn_1"
          ],
          [
           "carapace:undistorted_GX010101_12_173.jpg_gamma",
           "Prawn_0"
          ],
          [
           "carapace:undistorted_GX010102_9_165.jpg_gamma",
           "Prawn_0"
          ],
          [
           "carapace:undistorted_GX010102_9_165.jpg_gamma",
           "Prawn_3"
          ],
          [
           "carapace:undistorted_GX010102_9_165.jpg_gamma",
           "Prawn_4"
          ],
          [
           "carapace:undistorted_GX010102_50_1396.jpg_gamma",
           "Prawn_0"
          ],
          [
           "carapace:undistorted_GX010105_28_816.jpg_gamma",
           "Prawn_0"
          ],
          [
           "carapace:undistorted_GX010105_28_816.jpg_gamma",
           "Prawn_1"
          ],
          [
           "carapace:undistorted_GX010152_36_378.jpg_gamma",
           "Prawn_1"
          ],
          [
           "carapace:undistorted_GX010152_36_378.jpg_gamma",
           "Prawn_2"
          ],
          [
           "carapace:undistorted_GX010155_78_1170.jpg_gamma",
           "Prawn_0"
          ],
          [
           "carapace:undistorted_GX010157_68_883",
           "Prawn_0"
          ],
          [
           "carapace:undistorted_GX010157_160_2259",
           "Prawn_0"
          ],
          [
           "carapace:undistorted_GX010157_160_2259",
           "Prawn_1"
          ],
          [
           "carapace:undistorted_GX010157_174_2582.jpg_gamma",
           "Prawn_0"
          ],
          [
           "carapace:undistorted_GX010157_177_2665.jpg_gamma",
           "Prawn_0"
          ],
          [
           "carapace:undistorted_GX010161_54_676.jpg_gamma.jpg_gamma",
           "Prawn_0"
          ],
          [
           "carapace:undistorted_GX010161_136_2267.jpg_gamma.jpg_gamma",
           "Prawn_0"
          ],
          [
           "carapace:undistorted_GX010162_72_927.jpg_gamma.jpg_gamma",
           "Prawn_0"
          ],
          [
           "carapace:undistorted_GX010169_121_1249",
           "Prawn_0"
          ],
          [
           "carapace:undistorted_GX010173_75_922.jpg_gamma",
           "Prawn_0"
          ],
          [
           "carapace:undistorted_GX010174_62_790.jpg_gamma",
           "Prawn_0"
          ],
          [
           "carapace:undistorted_GX010174_104_1236",
           "Prawn_0"
          ],
          [
           "carapace:undistorted_GX010175_82_852.jpg_gamma",
           "Prawn_0"
          ],
          [
           "carapace:undistorted_GX010175_215_2644.jpg_gamma",
           "Prawn_0"
          ],
          [
           "carapace:undistorted_GX010175_266_3372.jpg_gamma.jpg_gamma",
           "Prawn_0"
          ],
          [
           "carapace:undistorted_GX010177_232_3047",
           "Prawn_0"
          ],
          [
           "carapace:undistorted_GX010178_107_2118",
           "Prawn_0"
          ],
          [
           "carapace:undistorted_GX010178_107_2118",
           "Prawn_1"
          ],
          [
           "carapace:undistorted_GX010178_114_2258",
           "Prawn_0"
          ],
          [
           "carapace:undistorted_GX010178_189_3987.jpg_gamma",
           "Prawn_0"
          ],
          [
           "carapace:undistorted_GX010178_189_3987.jpg_gamma",
           "Prawn_1"
          ],
          [
           "carapace:undistorted_GX010179_88_1697.jpg_gamma",
           "Prawn_0"
          ],
          [
           "carapace:undistorted_GX010179_200_3927.jpg_gamma",
           "Prawn_0"
          ],
          [
           "carapace:undistorted_GX010180_91_1563",
           "Prawn_0"
          ],
          [
           "carapace:undistorted_GX010180_99_1788",
           "Prawn_0"
          ],
          [
           "carapace:undistorted_GX010181_101_1542",
           "Prawn_0"
          ],
          [
           "carapace:undistorted_GX010183_37_685.jpg_gamma",
           "Prawn_0"
          ],
          [
           "carapace:undistorted_GX010183_37_685.jpg_gamma",
           "Prawn_1"
          ],
          [
           "carapace:undistorted_GX010183_37_685.jpg_gamma",
           "Prawn_2"
          ],
          [
           "carapace:undistorted_GX010183_80_1633.jpg_gamma",
           "Prawn_0"
          ],
          [
           "carapace:undistorted_GX010183_80_1633.jpg_gamma",
           "Prawn_1"
          ],
          [
           "carapace:undistorted_GX010183_128_2852.jpg_gamma",
           "Prawn_0"
          ],
          [
           "carapace:undistorted_GX010183_128_2852.jpg_gamma",
           "Prawn_1"
          ]
         ],
         "hovertemplate": "Pond_Type=%{x}<br>MAE_mean=%{y}<br>Label=%{customdata[0]}<br>PrawnID=%{customdata[1]}<extra></extra>",
         "legendgroup": "",
         "marker": {
          "color": "#636efa"
         },
         "name": "",
         "offsetgroup": "",
         "orientation": "v",
         "points": "all",
         "scalegroup": "True",
         "showlegend": false,
         "type": "violin",
         "x": [
          "test-right",
          "test-right",
          "test-right",
          "test-right",
          "test-right",
          "test-right",
          "test-right",
          "test-right",
          "test-right",
          "test-right",
          "test-right",
          "test-right",
          "test-right",
          "test-right",
          "test-right",
          "test-right",
          "test-right",
          "test-right",
          "test-right",
          "test-right",
          "test-right",
          "test-right",
          "test-right",
          "test-right",
          "test-right",
          "test-right",
          "test-right",
          "test-right",
          "test-right",
          "test-right",
          "test-right",
          "test-right",
          "test-right",
          "test-right",
          "test-right",
          "test-right",
          "test-right",
          "test-right",
          "test-right",
          "test-right",
          "test-right",
          "test-right",
          "test-right",
          "test-right",
          "test-right",
          "test-right",
          "test-right",
          "test-right",
          "test-right",
          "test-right",
          "test-right",
          "test-right",
          "test-right",
          "test-right",
          "test-right",
          "test-right",
          "test-right",
          "test-right",
          "test-right",
          "test-right",
          "test-right",
          "test-right",
          "test-right",
          "test-right",
          "test-right",
          "test-right",
          "test-right",
          "test-right",
          "test-right",
          "test-right",
          "test-right",
          "test-right",
          "test-right",
          "test-right",
          "test-right",
          "test-right",
          "test-right",
          "test-right",
          "test-right",
          "test-left",
          "test-left",
          "test-left",
          "test-right",
          "test-right",
          "test-left",
          "test-left",
          "test-left",
          "test-left",
          "test-right",
          "test-right",
          "test-right",
          "test-right",
          "test-right",
          "test-right",
          "test-right",
          "test-right",
          "test-right",
          "test-right",
          "test-right",
          "test-right",
          "test-right",
          "test-right",
          "test-right",
          "test-right",
          "test-right",
          "test-right",
          "test-left",
          "test-left",
          "test-left",
          "test-left",
          "test-left",
          "test-left",
          "test-car",
          "test-car",
          "test-car",
          "test-car",
          "test-car",
          "test-car",
          "test-car",
          "test-car",
          "test-car",
          "test-car",
          "test-car",
          "test-car",
          "test-car",
          "test-car",
          "test-car",
          "test-car",
          "test-car",
          "test-car",
          "test-car",
          "test-car",
          "test-car",
          "test-car",
          "test-car",
          "test-car",
          "test-car",
          "test-car",
          "test-car",
          "test-car",
          "test-car",
          "test-car",
          "test-car",
          "test-car",
          "test-car",
          "test-car",
          "test-car",
          "test-car"
         ],
         "x0": " ",
         "xaxis": "x",
         "y": [
          3.119783945290955,
          0.08527667871348044,
          3.9449333778652473,
          2.2112721180279316,
          5.4365965712244915,
          5.695074722253462,
          2.1751472878669915,
          0.49993677809787584,
          1.117459983290523,
          0.5324718285177781,
          2.9289254622142806,
          0.26637555389680045,
          0.7497644262570802,
          12.691598793789336,
          7.14460557056886,
          10.55147059376624,
          6.297905128316039,
          3.1631759455417523,
          3.0945811368698806,
          4.4301144461987505,
          4.502551893876827,
          6.794214158355441,
          6.349007455003502,
          3.165712991857646,
          17.412650898171666,
          3.368444064448056,
          4.650131072202008,
          0.07360161324391612,
          7.284568356138664,
          9.505298975100509,
          4.174009800019018,
          0.31622555115129813,
          6.492026260836866,
          2.2965752791319503,
          4.897113378212509,
          2.8460476541528408,
          4.3364211423794785,
          5.101763109373643,
          0.3296647597337454,
          6.469873391253632,
          5.450693310359778,
          3.965913713475274,
          4.5004035717017885,
          3.7289196583126625,
          4.792656363958386,
          3.8402181006080696,
          0.33659642829821124,
          0.2543217215041196,
          3.0532518478900954,
          1.34087142791142,
          1.8251940623492402,
          0.3563841852795804,
          2.5917767603357476,
          3.8568356635850094,
          3.374488426799118,
          6.525389823687593,
          7.708695478058992,
          6.242216997800959,
          0.8956728969038288,
          6.500606792248682,
          3.850619643888301,
          5.35766138370683,
          11.884541734185003,
          14.864169301452087,
          6.005708089312314,
          0.42836596889597445,
          1.7313659688959717,
          8.056634035392662,
          7.679153677350186,
          13.154291540653897,
          10.594115420520225,
          7.601719311515264,
          11.298776746553209,
          11.276018711318141,
          12.57801871131814,
          10.269536812767111,
          6.842610930260939,
          9.55779108956417,
          10.70101309582828,
          6.368251030571578,
          4.1866090733029395,
          2.1401233774749393,
          2.222331214547424,
          8.06647368398578,
          1.5157484905492993,
          4.036467345208159,
          3.743796953342038,
          8.69580102326476,
          0.6611012456992889,
          2.0775419728177695,
          3.5508779994220667,
          1.5800661727044414,
          4.558030937743251,
          3.0112964822107493,
          5.426703517789246,
          1.1166187046194622,
          8.100322537407312,
          8.87585691178792,
          3.0726472467290584,
          4.286341708715671,
          2.4452593634227995,
          4.507854986460146,
          3.0716846235497677,
          4.149934984685313,
          4.568517217345413,
          1.4831801476062836,
          3.4448195036080698,
          2.4978152062823966,
          1.6040309496479104,
          2.223461766184876,
          3.7188528106293397,
          0.8605774186201494,
          12.241123582596074,
          18.17262495059069,
          11.829709969904368,
          14.862818708833604,
          9.99800805221626,
          23.13469944735329,
          12.926251293480231,
          12.29306603835904,
          7.766899085462821,
          21.986921540594903,
          2.530774024908471,
          8.216479499039583,
          15.131496268252299,
          8.950901737019844,
          2.7282008182409427,
          2.973398410920211,
          20.07138301287592,
          0.49148451670658133,
          1.9423078012694859,
          11.460424698399088,
          0.8719017070338779,
          5.674543512544638,
          9.564744350643522,
          7.3610598584374145,
          0.48008726218905196,
          0.5842230678409663,
          6.3007238560870285,
          5.005106952590513,
          9.893330077033461,
          13.57188737492871,
          1.7820691729192077,
          18.46029233952703,
          9.841947550765674,
          4.014947550765669,
          9.217687371263768,
          4.98668737126377
         ],
         "y0": " ",
         "yaxis": "y"
        }
       ],
       "layout": {
        "legend": {
         "tracegroupgap": 0
        },
        "template": {
         "data": {
          "bar": [
           {
            "error_x": {
             "color": "#2a3f5f"
            },
            "error_y": {
             "color": "#2a3f5f"
            },
            "marker": {
             "line": {
              "color": "#E5ECF6",
              "width": 0.5
             },
             "pattern": {
              "fillmode": "overlay",
              "size": 10,
              "solidity": 0.2
             }
            },
            "type": "bar"
           }
          ],
          "barpolar": [
           {
            "marker": {
             "line": {
              "color": "#E5ECF6",
              "width": 0.5
             },
             "pattern": {
              "fillmode": "overlay",
              "size": 10,
              "solidity": 0.2
             }
            },
            "type": "barpolar"
           }
          ],
          "carpet": [
           {
            "aaxis": {
             "endlinecolor": "#2a3f5f",
             "gridcolor": "white",
             "linecolor": "white",
             "minorgridcolor": "white",
             "startlinecolor": "#2a3f5f"
            },
            "baxis": {
             "endlinecolor": "#2a3f5f",
             "gridcolor": "white",
             "linecolor": "white",
             "minorgridcolor": "white",
             "startlinecolor": "#2a3f5f"
            },
            "type": "carpet"
           }
          ],
          "choropleth": [
           {
            "colorbar": {
             "outlinewidth": 0,
             "ticks": ""
            },
            "type": "choropleth"
           }
          ],
          "contour": [
           {
            "colorbar": {
             "outlinewidth": 0,
             "ticks": ""
            },
            "colorscale": [
             [
              0,
              "#0d0887"
             ],
             [
              0.1111111111111111,
              "#46039f"
             ],
             [
              0.2222222222222222,
              "#7201a8"
             ],
             [
              0.3333333333333333,
              "#9c179e"
             ],
             [
              0.4444444444444444,
              "#bd3786"
             ],
             [
              0.5555555555555556,
              "#d8576b"
             ],
             [
              0.6666666666666666,
              "#ed7953"
             ],
             [
              0.7777777777777778,
              "#fb9f3a"
             ],
             [
              0.8888888888888888,
              "#fdca26"
             ],
             [
              1,
              "#f0f921"
             ]
            ],
            "type": "contour"
           }
          ],
          "contourcarpet": [
           {
            "colorbar": {
             "outlinewidth": 0,
             "ticks": ""
            },
            "type": "contourcarpet"
           }
          ],
          "heatmap": [
           {
            "colorbar": {
             "outlinewidth": 0,
             "ticks": ""
            },
            "colorscale": [
             [
              0,
              "#0d0887"
             ],
             [
              0.1111111111111111,
              "#46039f"
             ],
             [
              0.2222222222222222,
              "#7201a8"
             ],
             [
              0.3333333333333333,
              "#9c179e"
             ],
             [
              0.4444444444444444,
              "#bd3786"
             ],
             [
              0.5555555555555556,
              "#d8576b"
             ],
             [
              0.6666666666666666,
              "#ed7953"
             ],
             [
              0.7777777777777778,
              "#fb9f3a"
             ],
             [
              0.8888888888888888,
              "#fdca26"
             ],
             [
              1,
              "#f0f921"
             ]
            ],
            "type": "heatmap"
           }
          ],
          "heatmapgl": [
           {
            "colorbar": {
             "outlinewidth": 0,
             "ticks": ""
            },
            "colorscale": [
             [
              0,
              "#0d0887"
             ],
             [
              0.1111111111111111,
              "#46039f"
             ],
             [
              0.2222222222222222,
              "#7201a8"
             ],
             [
              0.3333333333333333,
              "#9c179e"
             ],
             [
              0.4444444444444444,
              "#bd3786"
             ],
             [
              0.5555555555555556,
              "#d8576b"
             ],
             [
              0.6666666666666666,
              "#ed7953"
             ],
             [
              0.7777777777777778,
              "#fb9f3a"
             ],
             [
              0.8888888888888888,
              "#fdca26"
             ],
             [
              1,
              "#f0f921"
             ]
            ],
            "type": "heatmapgl"
           }
          ],
          "histogram": [
           {
            "marker": {
             "pattern": {
              "fillmode": "overlay",
              "size": 10,
              "solidity": 0.2
             }
            },
            "type": "histogram"
           }
          ],
          "histogram2d": [
           {
            "colorbar": {
             "outlinewidth": 0,
             "ticks": ""
            },
            "colorscale": [
             [
              0,
              "#0d0887"
             ],
             [
              0.1111111111111111,
              "#46039f"
             ],
             [
              0.2222222222222222,
              "#7201a8"
             ],
             [
              0.3333333333333333,
              "#9c179e"
             ],
             [
              0.4444444444444444,
              "#bd3786"
             ],
             [
              0.5555555555555556,
              "#d8576b"
             ],
             [
              0.6666666666666666,
              "#ed7953"
             ],
             [
              0.7777777777777778,
              "#fb9f3a"
             ],
             [
              0.8888888888888888,
              "#fdca26"
             ],
             [
              1,
              "#f0f921"
             ]
            ],
            "type": "histogram2d"
           }
          ],
          "histogram2dcontour": [
           {
            "colorbar": {
             "outlinewidth": 0,
             "ticks": ""
            },
            "colorscale": [
             [
              0,
              "#0d0887"
             ],
             [
              0.1111111111111111,
              "#46039f"
             ],
             [
              0.2222222222222222,
              "#7201a8"
             ],
             [
              0.3333333333333333,
              "#9c179e"
             ],
             [
              0.4444444444444444,
              "#bd3786"
             ],
             [
              0.5555555555555556,
              "#d8576b"
             ],
             [
              0.6666666666666666,
              "#ed7953"
             ],
             [
              0.7777777777777778,
              "#fb9f3a"
             ],
             [
              0.8888888888888888,
              "#fdca26"
             ],
             [
              1,
              "#f0f921"
             ]
            ],
            "type": "histogram2dcontour"
           }
          ],
          "mesh3d": [
           {
            "colorbar": {
             "outlinewidth": 0,
             "ticks": ""
            },
            "type": "mesh3d"
           }
          ],
          "parcoords": [
           {
            "line": {
             "colorbar": {
              "outlinewidth": 0,
              "ticks": ""
             }
            },
            "type": "parcoords"
           }
          ],
          "pie": [
           {
            "automargin": true,
            "type": "pie"
           }
          ],
          "scatter": [
           {
            "fillpattern": {
             "fillmode": "overlay",
             "size": 10,
             "solidity": 0.2
            },
            "type": "scatter"
           }
          ],
          "scatter3d": [
           {
            "line": {
             "colorbar": {
              "outlinewidth": 0,
              "ticks": ""
             }
            },
            "marker": {
             "colorbar": {
              "outlinewidth": 0,
              "ticks": ""
             }
            },
            "type": "scatter3d"
           }
          ],
          "scattercarpet": [
           {
            "marker": {
             "colorbar": {
              "outlinewidth": 0,
              "ticks": ""
             }
            },
            "type": "scattercarpet"
           }
          ],
          "scattergeo": [
           {
            "marker": {
             "colorbar": {
              "outlinewidth": 0,
              "ticks": ""
             }
            },
            "type": "scattergeo"
           }
          ],
          "scattergl": [
           {
            "marker": {
             "colorbar": {
              "outlinewidth": 0,
              "ticks": ""
             }
            },
            "type": "scattergl"
           }
          ],
          "scattermapbox": [
           {
            "marker": {
             "colorbar": {
              "outlinewidth": 0,
              "ticks": ""
             }
            },
            "type": "scattermapbox"
           }
          ],
          "scatterpolar": [
           {
            "marker": {
             "colorbar": {
              "outlinewidth": 0,
              "ticks": ""
             }
            },
            "type": "scatterpolar"
           }
          ],
          "scatterpolargl": [
           {
            "marker": {
             "colorbar": {
              "outlinewidth": 0,
              "ticks": ""
             }
            },
            "type": "scatterpolargl"
           }
          ],
          "scatterternary": [
           {
            "marker": {
             "colorbar": {
              "outlinewidth": 0,
              "ticks": ""
             }
            },
            "type": "scatterternary"
           }
          ],
          "surface": [
           {
            "colorbar": {
             "outlinewidth": 0,
             "ticks": ""
            },
            "colorscale": [
             [
              0,
              "#0d0887"
             ],
             [
              0.1111111111111111,
              "#46039f"
             ],
             [
              0.2222222222222222,
              "#7201a8"
             ],
             [
              0.3333333333333333,
              "#9c179e"
             ],
             [
              0.4444444444444444,
              "#bd3786"
             ],
             [
              0.5555555555555556,
              "#d8576b"
             ],
             [
              0.6666666666666666,
              "#ed7953"
             ],
             [
              0.7777777777777778,
              "#fb9f3a"
             ],
             [
              0.8888888888888888,
              "#fdca26"
             ],
             [
              1,
              "#f0f921"
             ]
            ],
            "type": "surface"
           }
          ],
          "table": [
           {
            "cells": {
             "fill": {
              "color": "#EBF0F8"
             },
             "line": {
              "color": "white"
             }
            },
            "header": {
             "fill": {
              "color": "#C8D4E3"
             },
             "line": {
              "color": "white"
             }
            },
            "type": "table"
           }
          ]
         },
         "layout": {
          "annotationdefaults": {
           "arrowcolor": "#2a3f5f",
           "arrowhead": 0,
           "arrowwidth": 1
          },
          "autotypenumbers": "strict",
          "coloraxis": {
           "colorbar": {
            "outlinewidth": 0,
            "ticks": ""
           }
          },
          "colorscale": {
           "diverging": [
            [
             0,
             "#8e0152"
            ],
            [
             0.1,
             "#c51b7d"
            ],
            [
             0.2,
             "#de77ae"
            ],
            [
             0.3,
             "#f1b6da"
            ],
            [
             0.4,
             "#fde0ef"
            ],
            [
             0.5,
             "#f7f7f7"
            ],
            [
             0.6,
             "#e6f5d0"
            ],
            [
             0.7,
             "#b8e186"
            ],
            [
             0.8,
             "#7fbc41"
            ],
            [
             0.9,
             "#4d9221"
            ],
            [
             1,
             "#276419"
            ]
           ],
           "sequential": [
            [
             0,
             "#0d0887"
            ],
            [
             0.1111111111111111,
             "#46039f"
            ],
            [
             0.2222222222222222,
             "#7201a8"
            ],
            [
             0.3333333333333333,
             "#9c179e"
            ],
            [
             0.4444444444444444,
             "#bd3786"
            ],
            [
             0.5555555555555556,
             "#d8576b"
            ],
            [
             0.6666666666666666,
             "#ed7953"
            ],
            [
             0.7777777777777778,
             "#fb9f3a"
            ],
            [
             0.8888888888888888,
             "#fdca26"
            ],
            [
             1,
             "#f0f921"
            ]
           ],
           "sequentialminus": [
            [
             0,
             "#0d0887"
            ],
            [
             0.1111111111111111,
             "#46039f"
            ],
            [
             0.2222222222222222,
             "#7201a8"
            ],
            [
             0.3333333333333333,
             "#9c179e"
            ],
            [
             0.4444444444444444,
             "#bd3786"
            ],
            [
             0.5555555555555556,
             "#d8576b"
            ],
            [
             0.6666666666666666,
             "#ed7953"
            ],
            [
             0.7777777777777778,
             "#fb9f3a"
            ],
            [
             0.8888888888888888,
             "#fdca26"
            ],
            [
             1,
             "#f0f921"
            ]
           ]
          },
          "colorway": [
           "#636efa",
           "#EF553B",
           "#00cc96",
           "#ab63fa",
           "#FFA15A",
           "#19d3f3",
           "#FF6692",
           "#B6E880",
           "#FF97FF",
           "#FECB52"
          ],
          "font": {
           "color": "#2a3f5f"
          },
          "geo": {
           "bgcolor": "white",
           "lakecolor": "white",
           "landcolor": "#E5ECF6",
           "showlakes": true,
           "showland": true,
           "subunitcolor": "white"
          },
          "hoverlabel": {
           "align": "left"
          },
          "hovermode": "closest",
          "mapbox": {
           "style": "light"
          },
          "paper_bgcolor": "white",
          "plot_bgcolor": "#E5ECF6",
          "polar": {
           "angularaxis": {
            "gridcolor": "white",
            "linecolor": "white",
            "ticks": ""
           },
           "bgcolor": "#E5ECF6",
           "radialaxis": {
            "gridcolor": "white",
            "linecolor": "white",
            "ticks": ""
           }
          },
          "scene": {
           "xaxis": {
            "backgroundcolor": "#E5ECF6",
            "gridcolor": "white",
            "gridwidth": 2,
            "linecolor": "white",
            "showbackground": true,
            "ticks": "",
            "zerolinecolor": "white"
           },
           "yaxis": {
            "backgroundcolor": "#E5ECF6",
            "gridcolor": "white",
            "gridwidth": 2,
            "linecolor": "white",
            "showbackground": true,
            "ticks": "",
            "zerolinecolor": "white"
           },
           "zaxis": {
            "backgroundcolor": "#E5ECF6",
            "gridcolor": "white",
            "gridwidth": 2,
            "linecolor": "white",
            "showbackground": true,
            "ticks": "",
            "zerolinecolor": "white"
           }
          },
          "shapedefaults": {
           "line": {
            "color": "#2a3f5f"
           }
          },
          "ternary": {
           "aaxis": {
            "gridcolor": "white",
            "linecolor": "white",
            "ticks": ""
           },
           "baxis": {
            "gridcolor": "white",
            "linecolor": "white",
            "ticks": ""
           },
           "bgcolor": "#E5ECF6",
           "caxis": {
            "gridcolor": "white",
            "linecolor": "white",
            "ticks": ""
           }
          },
          "title": {
           "x": 0.05
          },
          "xaxis": {
           "automargin": true,
           "gridcolor": "white",
           "linecolor": "white",
           "ticks": "",
           "title": {
            "standoff": 15
           },
           "zerolinecolor": "white",
           "zerolinewidth": 2
          },
          "yaxis": {
           "automargin": true,
           "gridcolor": "white",
           "linecolor": "white",
           "ticks": "",
           "title": {
            "standoff": 15
           },
           "zerolinecolor": "white",
           "zerolinewidth": 2
          }
         }
        },
        "title": {
         "text": "Violin plot of MAE_mean"
        },
        "violinmode": "group",
        "xaxis": {
         "anchor": "y",
         "domain": [
          0,
          1
         ],
         "title": {
          "text": "Pond_Type"
         }
        },
        "yaxis": {
         "anchor": "x",
         "domain": [
          0,
          1
         ],
         "title": {
          "text": "MAE_mean"
         }
        }
       }
      }
     },
     "metadata": {},
     "output_type": "display_data"
    },
    {
     "data": {
      "application/vnd.plotly.v1+json": {
       "config": {
        "plotlyServerURL": "https://plot.ly"
       },
       "data": [
        {
         "alignmentgroup": "True",
         "box": {
          "visible": true
         },
         "customdata": [
          [
           "carapace:undistorted_GX010067_33_625.jpg_gamma",
           "Prawn_0"
          ],
          [
           "carapace:undistorted_GX010067_33_625.jpg_gamma",
           "Prawn_1"
          ],
          [
           "carapace:undistorted_GX010067_33_625.jpg_gamma",
           "Prawn_2"
          ],
          [
           "carapace:undistorted_GX010067_33_625.jpg_gamma",
           "Prawn_3"
          ],
          [
           "carapace:undistorted_GX010068_26_666.jpg_gamma",
           "Prawn_0"
          ],
          [
           "carapace:undistorted_GX010068_26_666.jpg_gamma",
           "Prawn_1"
          ],
          [
           "carapace:undistorted_GX010068_26_666.jpg_gamma",
           "Prawn_2"
          ],
          [
           "carapace:undistorted_GX010068_27_795.jpg_gamma",
           "Prawn_2"
          ],
          [
           "carapace:undistorted_GX010069_19_191.jpg_gamma",
           "Prawn_0"
          ],
          [
           "carapace:undistorted_GX010069_19_191.jpg_gamma",
           "Prawn_1"
          ],
          [
           "carapace:undistorted_GX010069_19_191.jpg_gamma",
           "Prawn_2"
          ],
          [
           "carapace:undistorted_GX010069_19_191.jpg_gamma",
           "Prawn_3"
          ],
          [
           "carapace:undistorted_GX010069_53_796.jpg_gamma",
           "Prawn_1"
          ],
          [
           "carapace:undistorted_GX010071_22_444.jpg_gamma",
           "Prawn_0"
          ],
          [
           "carapace:undistorted_GX010073_42_695.jpg_gamma",
           "Prawn_0"
          ],
          [
           "carapace:undistorted_GX010073_42_695.jpg_gamma",
           "Prawn_1"
          ],
          [
           "carapace:undistorted_GX010073_42_695.jpg_gamma",
           "Prawn_2"
          ],
          [
           "carapace:undistorted_GX010073_55_1014.jpg_gamma",
           "Prawn_0"
          ],
          [
           "carapace:undistorted_GX010073_55_1014.jpg_gamma",
           "Prawn_3"
          ],
          [
           "carapace:undistorted_GX010077_14_237.jpg_gamma",
           "Prawn_0"
          ],
          [
           "carapace:undistorted_GX010077_14_237.jpg_gamma",
           "Prawn_1"
          ],
          [
           "carapace:undistorted_GX010077_14_237.jpg_gamma",
           "Prawn_2"
          ],
          [
           "carapace:undistorted_GX010080_157_2283.jpg_gamma",
           "Prawn_0"
          ],
          [
           "carapace:undistorted_GX010080_157_2283.jpg_gamma",
           "Prawn_1"
          ],
          [
           "carapace:undistorted_GX010080_157_2283.jpg_gamma",
           "Prawn_2"
          ],
          [
           "carapace:undistorted_GX010080_157_2283.jpg_gamma",
           "Prawn_3"
          ],
          [
           "carapace:undistorted_GX010080_157_2283.jpg_gamma",
           "Prawn_4"
          ],
          [
           "carapace:undistorted_GX010080_193_2640.jpg_gamma",
           "Prawn_0"
          ],
          [
           "carapace:undistorted_GX010080_193_2640.jpg_gamma",
           "Prawn_1"
          ],
          [
           "carapace:undistorted_GX010080_193_2640.jpg_gamma",
           "Prawn_4"
          ],
          [
           "carapace:undistorted_GX010080_212_2954.jpg_gamma",
           "Prawn_0"
          ],
          [
           "carapace:undistorted_GX010080_212_2954.jpg_gamma",
           "Prawn_1"
          ],
          [
           "carapace:undistorted_GX010080_212_2954.jpg_gamma",
           "Prawn_2"
          ],
          [
           "carapace:undistorted_GX010080_237_3366.jpg_gamma",
           "Prawn_0"
          ],
          [
           "carapace:undistorted_GX010080_237_3366.jpg_gamma",
           "Prawn_1"
          ],
          [
           "carapace:undistorted_GX010080_237_3366.jpg_gamma",
           "Prawn_2"
          ],
          [
           "carapace:undistorted_GX010080_237_3366.jpg_gamma",
           "Prawn_3"
          ],
          [
           "carapace:undistorted_GX010080_238_3392.jpg_gamma",
           "Prawn_0"
          ],
          [
           "carapace:undistorted_GX010080_238_3392.jpg_gamma",
           "Prawn_1"
          ],
          [
           "carapace:undistorted_GX010080_238_3392.jpg_gamma",
           "Prawn_2"
          ],
          [
           "carapace:undistorted_GX010080_238_3392.jpg_gamma",
           "Prawn_3"
          ],
          [
           "carapace:undistorted_GX010080_238_3392.jpg_gamma",
           "Prawn_4"
          ],
          [
           "carapace:undistorted_GX010082_8_59.jpg_gamma",
           "Prawn_0"
          ],
          [
           "carapace:undistorted_GX010082_8_59.jpg_gamma",
           "Prawn_1"
          ],
          [
           "carapace:undistorted_GX010082_8_59.jpg_gamma",
           "Prawn_2"
          ],
          [
           "carapace:undistorted_GX010082_8_59.jpg_gamma",
           "Prawn_3"
          ],
          [
           "carapace:undistorted_GX010082_8_59.jpg_gamma",
           "Prawn_4"
          ],
          [
           "carapace:undistorted_GX010082_8_59.jpg_gamma",
           "Prawn_5"
          ],
          [
           "carapace:undistorted_GX010082_53_796.jpg_gamma",
           "Prawn_0"
          ],
          [
           "carapace:undistorted_GX010082_53_796.jpg_gamma",
           "Prawn_1"
          ],
          [
           "carapace:undistorted_GX010082_65_1070.jpg_gamma",
           "Prawn_0"
          ],
          [
           "carapace:undistorted_GX010082_65_1070.jpg_gamma",
           "Prawn_1"
          ],
          [
           "carapace:undistorted_GX010082_65_1070.jpg_gamma",
           "Prawn_2"
          ],
          [
           "carapace:undistorted_GX010082_236_3137.jpg_gamma",
           "Prawn_1"
          ],
          [
           "carapace:undistorted_GX010082_236_3137.jpg_gamma",
           "Prawn_2"
          ],
          [
           "carapace:undistorted_GX010084_30_344.jpg_gamma",
           "Prawn_0"
          ],
          [
           "carapace:undistorted_GX010084_30_344.jpg_gamma",
           "Prawn_2"
          ],
          [
           "carapace:undistorted_GX010084_30_344.jpg_gamma",
           "Prawn_3"
          ],
          [
           "carapace:undistorted_GX010084_30_344.jpg_gamma",
           "Prawn_5"
          ],
          [
           "carapace:undistorted_GX010084_130_1748.jpg_gamma",
           "Prawn_0"
          ],
          [
           "carapace:undistorted_GX010084_130_1748.jpg_gamma",
           "Prawn_1"
          ],
          [
           "carapace:undistorted_GX010084_130_1748.jpg_gamma",
           "Prawn_2"
          ],
          [
           "carapace:undistorted_GX010084_130_1748.jpg_gamma",
           "Prawn_3"
          ],
          [
           "carapace:undistorted_GX010084_167_2291.jpg_gamma",
           "Prawn_0"
          ],
          [
           "carapace:undistorted_GX010084_167_2291.jpg_gamma",
           "Prawn_1"
          ],
          [
           "carapace:undistorted_GX010085_261_3610.jpg_gamma",
           "Prawn_0"
          ],
          [
           "carapace:undistorted_GX010085_261_3610.jpg_gamma",
           "Prawn_1"
          ],
          [
           "carapace:undistorted_GX010085_261_3610.jpg_gamma",
           "Prawn_2"
          ],
          [
           "carapace:undistorted_GX010085_263_3738.jpg_gamma",
           "Prawn_1"
          ],
          [
           "carapace:undistorted_GX010085_263_3738.jpg_gamma",
           "Prawn_3"
          ],
          [
           "carapace:undistorted_GX010088_262_3712.jpg_gamma",
           "Prawn_0"
          ],
          [
           "carapace:undistorted_GX010088_262_3712.jpg_gamma",
           "Prawn_2"
          ],
          [
           "carapace:undistorted_GX010088_262_3712.jpg_gamma",
           "Prawn_3"
          ],
          [
           "carapace:undistorted_GX010088_262_3712.jpg_gamma",
           "Prawn_4"
          ],
          [
           "carapace:undistorted_GX010088_262_3712.jpg_gamma",
           "Prawn_5"
          ],
          [
           "carapace:undistorted_GX010088_327_4364.jpg_gamma",
           "Prawn_0"
          ],
          [
           "carapace:undistorted_GX010088_327_4364.jpg_gamma",
           "Prawn_1"
          ],
          [
           "carapace:undistorted_GX010088_327_4364.jpg_gamma",
           "Prawn_2"
          ],
          [
           "carapace:undistorted_GX010088_327_4364.jpg_gamma",
           "Prawn_3"
          ],
          [
           "carapace:undistorted_GX010089_11_236.jpg_gamma",
           "Prawn_0"
          ],
          [
           "carapace:undistorted_GX010089_11_236.jpg_gamma",
           "Prawn_1"
          ],
          [
           "carapace:undistorted_GX010089_11_236.jpg_gamma",
           "Prawn_2"
          ],
          [
           "carapace:undistorted_GX010090_132_1852.jpg_gamma",
           "Prawn_0"
          ],
          [
           "carapace:undistorted_GX010090_132_1852.jpg_gamma",
           "Prawn_1"
          ],
          [
           "carapace:undistorted_GX010091_5_149.jpg_gamma",
           "Prawn_0"
          ],
          [
           "carapace:undistorted_GX010091_5_149.jpg_gamma",
           "Prawn_1"
          ],
          [
           "carapace:undistorted_GX010091_5_149.jpg_gamma",
           "Prawn_2"
          ],
          [
           "carapace:undistorted_GX010091_5_149.jpg_gamma",
           "Prawn_3"
          ],
          [
           "carapace:undistorted_GX010094_9_129.jpg_gamma",
           "Prawn_0"
          ],
          [
           "carapace:undistorted_GX010094_9_129.jpg_gamma",
           "Prawn_1"
          ],
          [
           "carapace:undistorted_GX010094_24_430.jpg_gamma",
           "Prawn_0"
          ],
          [
           "carapace:undistorted_GX010094_24_430.jpg_gamma",
           "Prawn_1"
          ],
          [
           "carapace:undistorted_GX010094_24_430.jpg_gamma",
           "Prawn_2"
          ],
          [
           "carapace:undistorted_GX010094_93_1258.jpg_gamma",
           "Prawn_0"
          ],
          [
           "carapace:undistorted_GX010094_93_1258.jpg_gamma",
           "Prawn_1"
          ],
          [
           "carapace:undistorted_GX010094_163_2312.jpg_gamma",
           "Prawn_0"
          ],
          [
           "carapace:undistorted_GX010096_107_1571.jpg_gamma",
           "Prawn_0"
          ],
          [
           "carapace:undistorted_GX010097_32_528.jpg_gamma",
           "Prawn_0"
          ],
          [
           "carapace:undistorted_GX010097_32_528.jpg_gamma",
           "Prawn_1"
          ],
          [
           "carapace:undistorted_GX010097_60_1080.jpg_gamma",
           "Prawn_1"
          ],
          [
           "carapace:undistorted_GX010097_105_1651.jpg_gamma",
           "Prawn_0"
          ],
          [
           "carapace:undistorted_GX010097_105_1651.jpg_gamma",
           "Prawn_1"
          ],
          [
           "carapace:undistorted_GX010097_105_1651.jpg_gamma",
           "Prawn_2"
          ],
          [
           "carapace:undistorted_GX010097_105_1651.jpg_gamma",
           "Prawn_3"
          ],
          [
           "carapace:undistorted_GX010097_124_1870.jpg_gamma",
           "Prawn_1"
          ],
          [
           "carapace:undistorted_GX010101_12_173.jpg_gamma",
           "Prawn_0"
          ],
          [
           "carapace:undistorted_GX010102_9_165.jpg_gamma",
           "Prawn_0"
          ],
          [
           "carapace:undistorted_GX010102_9_165.jpg_gamma",
           "Prawn_3"
          ],
          [
           "carapace:undistorted_GX010102_9_165.jpg_gamma",
           "Prawn_4"
          ],
          [
           "carapace:undistorted_GX010102_50_1396.jpg_gamma",
           "Prawn_0"
          ],
          [
           "carapace:undistorted_GX010105_28_816.jpg_gamma",
           "Prawn_0"
          ],
          [
           "carapace:undistorted_GX010105_28_816.jpg_gamma",
           "Prawn_1"
          ],
          [
           "carapace:undistorted_GX010152_36_378.jpg_gamma",
           "Prawn_1"
          ],
          [
           "carapace:undistorted_GX010152_36_378.jpg_gamma",
           "Prawn_2"
          ],
          [
           "carapace:undistorted_GX010155_78_1170.jpg_gamma",
           "Prawn_0"
          ],
          [
           "carapace:undistorted_GX010157_68_883",
           "Prawn_0"
          ],
          [
           "carapace:undistorted_GX010157_160_2259",
           "Prawn_0"
          ],
          [
           "carapace:undistorted_GX010157_160_2259",
           "Prawn_1"
          ],
          [
           "carapace:undistorted_GX010157_174_2582.jpg_gamma",
           "Prawn_0"
          ],
          [
           "carapace:undistorted_GX010157_177_2665.jpg_gamma",
           "Prawn_0"
          ],
          [
           "carapace:undistorted_GX010161_54_676.jpg_gamma.jpg_gamma",
           "Prawn_0"
          ],
          [
           "carapace:undistorted_GX010161_136_2267.jpg_gamma.jpg_gamma",
           "Prawn_0"
          ],
          [
           "carapace:undistorted_GX010162_72_927.jpg_gamma.jpg_gamma",
           "Prawn_0"
          ],
          [
           "carapace:undistorted_GX010169_121_1249",
           "Prawn_0"
          ],
          [
           "carapace:undistorted_GX010173_75_922.jpg_gamma",
           "Prawn_0"
          ],
          [
           "carapace:undistorted_GX010174_62_790.jpg_gamma",
           "Prawn_0"
          ],
          [
           "carapace:undistorted_GX010174_104_1236",
           "Prawn_0"
          ],
          [
           "carapace:undistorted_GX010175_82_852.jpg_gamma",
           "Prawn_0"
          ],
          [
           "carapace:undistorted_GX010175_215_2644.jpg_gamma",
           "Prawn_0"
          ],
          [
           "carapace:undistorted_GX010175_266_3372.jpg_gamma.jpg_gamma",
           "Prawn_0"
          ],
          [
           "carapace:undistorted_GX010177_232_3047",
           "Prawn_0"
          ],
          [
           "carapace:undistorted_GX010178_107_2118",
           "Prawn_0"
          ],
          [
           "carapace:undistorted_GX010178_107_2118",
           "Prawn_1"
          ],
          [
           "carapace:undistorted_GX010178_114_2258",
           "Prawn_0"
          ],
          [
           "carapace:undistorted_GX010178_189_3987.jpg_gamma",
           "Prawn_0"
          ],
          [
           "carapace:undistorted_GX010178_189_3987.jpg_gamma",
           "Prawn_1"
          ],
          [
           "carapace:undistorted_GX010179_88_1697.jpg_gamma",
           "Prawn_0"
          ],
          [
           "carapace:undistorted_GX010179_200_3927.jpg_gamma",
           "Prawn_0"
          ],
          [
           "carapace:undistorted_GX010180_91_1563",
           "Prawn_0"
          ],
          [
           "carapace:undistorted_GX010180_99_1788",
           "Prawn_0"
          ],
          [
           "carapace:undistorted_GX010181_101_1542",
           "Prawn_0"
          ],
          [
           "carapace:undistorted_GX010183_37_685.jpg_gamma",
           "Prawn_0"
          ],
          [
           "carapace:undistorted_GX010183_37_685.jpg_gamma",
           "Prawn_1"
          ],
          [
           "carapace:undistorted_GX010183_37_685.jpg_gamma",
           "Prawn_2"
          ],
          [
           "carapace:undistorted_GX010183_80_1633.jpg_gamma",
           "Prawn_0"
          ],
          [
           "carapace:undistorted_GX010183_80_1633.jpg_gamma",
           "Prawn_1"
          ],
          [
           "carapace:undistorted_GX010183_128_2852.jpg_gamma",
           "Prawn_0"
          ],
          [
           "carapace:undistorted_GX010183_128_2852.jpg_gamma",
           "Prawn_1"
          ]
         ],
         "hovertemplate": "Pond_Type=%{x}<br>max_percenage_error_max=%{y}<br>Label=%{customdata[0]}<br>PrawnID=%{customdata[1]}<extra></extra>",
         "legendgroup": "",
         "marker": {
          "color": "#636efa"
         },
         "name": "",
         "offsetgroup": "",
         "orientation": "v",
         "points": "all",
         "scalegroup": "True",
         "showlegend": false,
         "type": "violin",
         "x": [
          "test-right",
          "test-right",
          "test-right",
          "test-right",
          "test-right",
          "test-right",
          "test-right",
          "test-right",
          "test-right",
          "test-right",
          "test-right",
          "test-right",
          "test-right",
          "test-right",
          "test-right",
          "test-right",
          "test-right",
          "test-right",
          "test-right",
          "test-right",
          "test-right",
          "test-right",
          "test-right",
          "test-right",
          "test-right",
          "test-right",
          "test-right",
          "test-right",
          "test-right",
          "test-right",
          "test-right",
          "test-right",
          "test-right",
          "test-right",
          "test-right",
          "test-right",
          "test-right",
          "test-right",
          "test-right",
          "test-right",
          "test-right",
          "test-right",
          "test-right",
          "test-right",
          "test-right",
          "test-right",
          "test-right",
          "test-right",
          "test-right",
          "test-right",
          "test-right",
          "test-right",
          "test-right",
          "test-right",
          "test-right",
          "test-right",
          "test-right",
          "test-right",
          "test-right",
          "test-right",
          "test-right",
          "test-right",
          "test-right",
          "test-right",
          "test-right",
          "test-right",
          "test-right",
          "test-right",
          "test-right",
          "test-right",
          "test-right",
          "test-right",
          "test-right",
          "test-right",
          "test-right",
          "test-right",
          "test-right",
          "test-right",
          "test-right",
          "test-left",
          "test-left",
          "test-left",
          "test-right",
          "test-right",
          "test-left",
          "test-left",
          "test-left",
          "test-left",
          "test-right",
          "test-right",
          "test-right",
          "test-right",
          "test-right",
          "test-right",
          "test-right",
          "test-right",
          "test-right",
          "test-right",
          "test-right",
          "test-right",
          "test-right",
          "test-right",
          "test-right",
          "test-right",
          "test-right",
          "test-right",
          "test-left",
          "test-left",
          "test-left",
          "test-left",
          "test-left",
          "test-left",
          "test-car",
          "test-car",
          "test-car",
          "test-car",
          "test-car",
          "test-car",
          "test-car",
          "test-car",
          "test-car",
          "test-car",
          "test-car",
          "test-car",
          "test-car",
          "test-car",
          "test-car",
          "test-car",
          "test-car",
          "test-car",
          "test-car",
          "test-car",
          "test-car",
          "test-car",
          "test-car",
          "test-car",
          "test-car",
          "test-car",
          "test-car",
          "test-car",
          "test-car",
          "test-car",
          "test-car",
          "test-car",
          "test-car",
          "test-car",
          "test-car",
          "test-car"
         ],
         "x0": " ",
         "xaxis": "x",
         "y": [
          17.859102283112236,
          7.119309231375781,
          16.991562983645927,
          9.439411694884262,
          18.937951191355427,
          19.956181985273794,
          3.372352707435531,
          14.298415096298516,
          2.212403386533672,
          3.368009368931489,
          6.596257932630219,
          10.829038167050086,
          2.2915907988150863,
          30.60675208970749,
          32.15209606285732,
          24.18752703312875,
          22.014962292916373,
          18.75928368109899,
          17.523979930172196,
          21.407800840622354,
          13.629643716486989,
          21.943135637283415,
          8.735223802998112,
          10.4593852926622,
          39.50783454543277,
          10.067655866172325,
          12.623453167852224,
          16.7954449338513,
          22.58411931728749,
          26.96367511005407,
          5.822866375151829,
          5.31340232105571,
          3.709929710116012,
          7.328226810194412,
          9.421682615584599,
          14.254501287676005,
          12.85276301800936,
          20.01701345233731,
          0.7526423096053366,
          33.12889529450761,
          18.388173919656964,
          2.0098881643845035,
          34.32773676617599,
          5.086659346867308,
          18.128182166115263,
          18.460919971057095,
          7.234910783347634,
          1.8629579309014082,
          6.314852070904255,
          10.59779714479487,
          2.5286255415479313,
          10.635665941751629,
          9.899904726764756,
          6.509051836417881,
          9.524418766090973,
          37.292848078298604,
          21.539215126073476,
          21.77744735289715,
          22.482274593803368,
          19.21275236608631,
          22.392289073400214,
          19.806457993794275,
          29.63946913059094,
          40.38736589942841,
          24.164475888921995,
          5.484814439575428,
          19.901434057414313,
          33.587119281524046,
          24.155685683575523,
          44.18241366172444,
          27.863951754078748,
          31.671536516474912,
          30.273479812624494,
          26.728089497918177,
          32.90390780457455,
          27.91932475862119,
          19.41652804763611,
          32.71626679423738,
          29.908388293914328,
          33.16058005355162,
          18.239630727710022,
          14.145330650620688,
          6.441446947641813,
          25.3545934087974,
          15.961300550110415,
          12.827383986102372,
          16.1723369754743,
          78.01898894062333,
          1.2785529517561107,
          9.336705067911094,
          13.116012484600464,
          23.83868263831203,
          33.478994819937455,
          15.221385130880128,
          32.38374654346195,
          9.447013068871172,
          22.882745216200764,
          25.24737354580944,
          21.694568293159982,
          33.77999335474382,
          12.361535412736554,
          10.3311695385843,
          11.65702021653416,
          7.403654012080136,
          16.147304996979727,
          3.2176690705437148,
          20.843633516331963,
          2.273565567581211,
          15.6767602036739,
          12.906049190782321,
          19.8680491463034,
          2.114173016802049,
          34.97126902588607,
          40.9565309235961,
          38.48215855969463,
          51.978025018445265,
          32.16966211498543,
          60.582686775480056,
          37.49070261279819,
          33.78714574352671,
          27.23691562127466,
          45.43524435561129,
          11.250716587126348,
          33.26315124841145,
          47.308953550944736,
          23.93311399023719,
          21.80579625062257,
          16.964252847465424,
          55.938954360851724,
          28.056601460080387,
          0.47730345626600357,
          36.14947154587441,
          6.292091503681403,
          20.903290847389012,
          28.534564596267092,
          18.407949427550065,
          4.932704276778723,
          13.378072642978193,
          26.279610182539592,
          21.058442709605096,
          30.712140835099422,
          41.07136215511428,
          15.802961334879532,
          52.10891312066376,
          27.383051882975483,
          22.01190948827896,
          33.03612488496813,
          27.777497273545666
         ],
         "y0": " ",
         "yaxis": "y"
        }
       ],
       "layout": {
        "legend": {
         "tracegroupgap": 0
        },
        "template": {
         "data": {
          "bar": [
           {
            "error_x": {
             "color": "#2a3f5f"
            },
            "error_y": {
             "color": "#2a3f5f"
            },
            "marker": {
             "line": {
              "color": "#E5ECF6",
              "width": 0.5
             },
             "pattern": {
              "fillmode": "overlay",
              "size": 10,
              "solidity": 0.2
             }
            },
            "type": "bar"
           }
          ],
          "barpolar": [
           {
            "marker": {
             "line": {
              "color": "#E5ECF6",
              "width": 0.5
             },
             "pattern": {
              "fillmode": "overlay",
              "size": 10,
              "solidity": 0.2
             }
            },
            "type": "barpolar"
           }
          ],
          "carpet": [
           {
            "aaxis": {
             "endlinecolor": "#2a3f5f",
             "gridcolor": "white",
             "linecolor": "white",
             "minorgridcolor": "white",
             "startlinecolor": "#2a3f5f"
            },
            "baxis": {
             "endlinecolor": "#2a3f5f",
             "gridcolor": "white",
             "linecolor": "white",
             "minorgridcolor": "white",
             "startlinecolor": "#2a3f5f"
            },
            "type": "carpet"
           }
          ],
          "choropleth": [
           {
            "colorbar": {
             "outlinewidth": 0,
             "ticks": ""
            },
            "type": "choropleth"
           }
          ],
          "contour": [
           {
            "colorbar": {
             "outlinewidth": 0,
             "ticks": ""
            },
            "colorscale": [
             [
              0,
              "#0d0887"
             ],
             [
              0.1111111111111111,
              "#46039f"
             ],
             [
              0.2222222222222222,
              "#7201a8"
             ],
             [
              0.3333333333333333,
              "#9c179e"
             ],
             [
              0.4444444444444444,
              "#bd3786"
             ],
             [
              0.5555555555555556,
              "#d8576b"
             ],
             [
              0.6666666666666666,
              "#ed7953"
             ],
             [
              0.7777777777777778,
              "#fb9f3a"
             ],
             [
              0.8888888888888888,
              "#fdca26"
             ],
             [
              1,
              "#f0f921"
             ]
            ],
            "type": "contour"
           }
          ],
          "contourcarpet": [
           {
            "colorbar": {
             "outlinewidth": 0,
             "ticks": ""
            },
            "type": "contourcarpet"
           }
          ],
          "heatmap": [
           {
            "colorbar": {
             "outlinewidth": 0,
             "ticks": ""
            },
            "colorscale": [
             [
              0,
              "#0d0887"
             ],
             [
              0.1111111111111111,
              "#46039f"
             ],
             [
              0.2222222222222222,
              "#7201a8"
             ],
             [
              0.3333333333333333,
              "#9c179e"
             ],
             [
              0.4444444444444444,
              "#bd3786"
             ],
             [
              0.5555555555555556,
              "#d8576b"
             ],
             [
              0.6666666666666666,
              "#ed7953"
             ],
             [
              0.7777777777777778,
              "#fb9f3a"
             ],
             [
              0.8888888888888888,
              "#fdca26"
             ],
             [
              1,
              "#f0f921"
             ]
            ],
            "type": "heatmap"
           }
          ],
          "heatmapgl": [
           {
            "colorbar": {
             "outlinewidth": 0,
             "ticks": ""
            },
            "colorscale": [
             [
              0,
              "#0d0887"
             ],
             [
              0.1111111111111111,
              "#46039f"
             ],
             [
              0.2222222222222222,
              "#7201a8"
             ],
             [
              0.3333333333333333,
              "#9c179e"
             ],
             [
              0.4444444444444444,
              "#bd3786"
             ],
             [
              0.5555555555555556,
              "#d8576b"
             ],
             [
              0.6666666666666666,
              "#ed7953"
             ],
             [
              0.7777777777777778,
              "#fb9f3a"
             ],
             [
              0.8888888888888888,
              "#fdca26"
             ],
             [
              1,
              "#f0f921"
             ]
            ],
            "type": "heatmapgl"
           }
          ],
          "histogram": [
           {
            "marker": {
             "pattern": {
              "fillmode": "overlay",
              "size": 10,
              "solidity": 0.2
             }
            },
            "type": "histogram"
           }
          ],
          "histogram2d": [
           {
            "colorbar": {
             "outlinewidth": 0,
             "ticks": ""
            },
            "colorscale": [
             [
              0,
              "#0d0887"
             ],
             [
              0.1111111111111111,
              "#46039f"
             ],
             [
              0.2222222222222222,
              "#7201a8"
             ],
             [
              0.3333333333333333,
              "#9c179e"
             ],
             [
              0.4444444444444444,
              "#bd3786"
             ],
             [
              0.5555555555555556,
              "#d8576b"
             ],
             [
              0.6666666666666666,
              "#ed7953"
             ],
             [
              0.7777777777777778,
              "#fb9f3a"
             ],
             [
              0.8888888888888888,
              "#fdca26"
             ],
             [
              1,
              "#f0f921"
             ]
            ],
            "type": "histogram2d"
           }
          ],
          "histogram2dcontour": [
           {
            "colorbar": {
             "outlinewidth": 0,
             "ticks": ""
            },
            "colorscale": [
             [
              0,
              "#0d0887"
             ],
             [
              0.1111111111111111,
              "#46039f"
             ],
             [
              0.2222222222222222,
              "#7201a8"
             ],
             [
              0.3333333333333333,
              "#9c179e"
             ],
             [
              0.4444444444444444,
              "#bd3786"
             ],
             [
              0.5555555555555556,
              "#d8576b"
             ],
             [
              0.6666666666666666,
              "#ed7953"
             ],
             [
              0.7777777777777778,
              "#fb9f3a"
             ],
             [
              0.8888888888888888,
              "#fdca26"
             ],
             [
              1,
              "#f0f921"
             ]
            ],
            "type": "histogram2dcontour"
           }
          ],
          "mesh3d": [
           {
            "colorbar": {
             "outlinewidth": 0,
             "ticks": ""
            },
            "type": "mesh3d"
           }
          ],
          "parcoords": [
           {
            "line": {
             "colorbar": {
              "outlinewidth": 0,
              "ticks": ""
             }
            },
            "type": "parcoords"
           }
          ],
          "pie": [
           {
            "automargin": true,
            "type": "pie"
           }
          ],
          "scatter": [
           {
            "fillpattern": {
             "fillmode": "overlay",
             "size": 10,
             "solidity": 0.2
            },
            "type": "scatter"
           }
          ],
          "scatter3d": [
           {
            "line": {
             "colorbar": {
              "outlinewidth": 0,
              "ticks": ""
             }
            },
            "marker": {
             "colorbar": {
              "outlinewidth": 0,
              "ticks": ""
             }
            },
            "type": "scatter3d"
           }
          ],
          "scattercarpet": [
           {
            "marker": {
             "colorbar": {
              "outlinewidth": 0,
              "ticks": ""
             }
            },
            "type": "scattercarpet"
           }
          ],
          "scattergeo": [
           {
            "marker": {
             "colorbar": {
              "outlinewidth": 0,
              "ticks": ""
             }
            },
            "type": "scattergeo"
           }
          ],
          "scattergl": [
           {
            "marker": {
             "colorbar": {
              "outlinewidth": 0,
              "ticks": ""
             }
            },
            "type": "scattergl"
           }
          ],
          "scattermapbox": [
           {
            "marker": {
             "colorbar": {
              "outlinewidth": 0,
              "ticks": ""
             }
            },
            "type": "scattermapbox"
           }
          ],
          "scatterpolar": [
           {
            "marker": {
             "colorbar": {
              "outlinewidth": 0,
              "ticks": ""
             }
            },
            "type": "scatterpolar"
           }
          ],
          "scatterpolargl": [
           {
            "marker": {
             "colorbar": {
              "outlinewidth": 0,
              "ticks": ""
             }
            },
            "type": "scatterpolargl"
           }
          ],
          "scatterternary": [
           {
            "marker": {
             "colorbar": {
              "outlinewidth": 0,
              "ticks": ""
             }
            },
            "type": "scatterternary"
           }
          ],
          "surface": [
           {
            "colorbar": {
             "outlinewidth": 0,
             "ticks": ""
            },
            "colorscale": [
             [
              0,
              "#0d0887"
             ],
             [
              0.1111111111111111,
              "#46039f"
             ],
             [
              0.2222222222222222,
              "#7201a8"
             ],
             [
              0.3333333333333333,
              "#9c179e"
             ],
             [
              0.4444444444444444,
              "#bd3786"
             ],
             [
              0.5555555555555556,
              "#d8576b"
             ],
             [
              0.6666666666666666,
              "#ed7953"
             ],
             [
              0.7777777777777778,
              "#fb9f3a"
             ],
             [
              0.8888888888888888,
              "#fdca26"
             ],
             [
              1,
              "#f0f921"
             ]
            ],
            "type": "surface"
           }
          ],
          "table": [
           {
            "cells": {
             "fill": {
              "color": "#EBF0F8"
             },
             "line": {
              "color": "white"
             }
            },
            "header": {
             "fill": {
              "color": "#C8D4E3"
             },
             "line": {
              "color": "white"
             }
            },
            "type": "table"
           }
          ]
         },
         "layout": {
          "annotationdefaults": {
           "arrowcolor": "#2a3f5f",
           "arrowhead": 0,
           "arrowwidth": 1
          },
          "autotypenumbers": "strict",
          "coloraxis": {
           "colorbar": {
            "outlinewidth": 0,
            "ticks": ""
           }
          },
          "colorscale": {
           "diverging": [
            [
             0,
             "#8e0152"
            ],
            [
             0.1,
             "#c51b7d"
            ],
            [
             0.2,
             "#de77ae"
            ],
            [
             0.3,
             "#f1b6da"
            ],
            [
             0.4,
             "#fde0ef"
            ],
            [
             0.5,
             "#f7f7f7"
            ],
            [
             0.6,
             "#e6f5d0"
            ],
            [
             0.7,
             "#b8e186"
            ],
            [
             0.8,
             "#7fbc41"
            ],
            [
             0.9,
             "#4d9221"
            ],
            [
             1,
             "#276419"
            ]
           ],
           "sequential": [
            [
             0,
             "#0d0887"
            ],
            [
             0.1111111111111111,
             "#46039f"
            ],
            [
             0.2222222222222222,
             "#7201a8"
            ],
            [
             0.3333333333333333,
             "#9c179e"
            ],
            [
             0.4444444444444444,
             "#bd3786"
            ],
            [
             0.5555555555555556,
             "#d8576b"
            ],
            [
             0.6666666666666666,
             "#ed7953"
            ],
            [
             0.7777777777777778,
             "#fb9f3a"
            ],
            [
             0.8888888888888888,
             "#fdca26"
            ],
            [
             1,
             "#f0f921"
            ]
           ],
           "sequentialminus": [
            [
             0,
             "#0d0887"
            ],
            [
             0.1111111111111111,
             "#46039f"
            ],
            [
             0.2222222222222222,
             "#7201a8"
            ],
            [
             0.3333333333333333,
             "#9c179e"
            ],
            [
             0.4444444444444444,
             "#bd3786"
            ],
            [
             0.5555555555555556,
             "#d8576b"
            ],
            [
             0.6666666666666666,
             "#ed7953"
            ],
            [
             0.7777777777777778,
             "#fb9f3a"
            ],
            [
             0.8888888888888888,
             "#fdca26"
            ],
            [
             1,
             "#f0f921"
            ]
           ]
          },
          "colorway": [
           "#636efa",
           "#EF553B",
           "#00cc96",
           "#ab63fa",
           "#FFA15A",
           "#19d3f3",
           "#FF6692",
           "#B6E880",
           "#FF97FF",
           "#FECB52"
          ],
          "font": {
           "color": "#2a3f5f"
          },
          "geo": {
           "bgcolor": "white",
           "lakecolor": "white",
           "landcolor": "#E5ECF6",
           "showlakes": true,
           "showland": true,
           "subunitcolor": "white"
          },
          "hoverlabel": {
           "align": "left"
          },
          "hovermode": "closest",
          "mapbox": {
           "style": "light"
          },
          "paper_bgcolor": "white",
          "plot_bgcolor": "#E5ECF6",
          "polar": {
           "angularaxis": {
            "gridcolor": "white",
            "linecolor": "white",
            "ticks": ""
           },
           "bgcolor": "#E5ECF6",
           "radialaxis": {
            "gridcolor": "white",
            "linecolor": "white",
            "ticks": ""
           }
          },
          "scene": {
           "xaxis": {
            "backgroundcolor": "#E5ECF6",
            "gridcolor": "white",
            "gridwidth": 2,
            "linecolor": "white",
            "showbackground": true,
            "ticks": "",
            "zerolinecolor": "white"
           },
           "yaxis": {
            "backgroundcolor": "#E5ECF6",
            "gridcolor": "white",
            "gridwidth": 2,
            "linecolor": "white",
            "showbackground": true,
            "ticks": "",
            "zerolinecolor": "white"
           },
           "zaxis": {
            "backgroundcolor": "#E5ECF6",
            "gridcolor": "white",
            "gridwidth": 2,
            "linecolor": "white",
            "showbackground": true,
            "ticks": "",
            "zerolinecolor": "white"
           }
          },
          "shapedefaults": {
           "line": {
            "color": "#2a3f5f"
           }
          },
          "ternary": {
           "aaxis": {
            "gridcolor": "white",
            "linecolor": "white",
            "ticks": ""
           },
           "baxis": {
            "gridcolor": "white",
            "linecolor": "white",
            "ticks": ""
           },
           "bgcolor": "#E5ECF6",
           "caxis": {
            "gridcolor": "white",
            "linecolor": "white",
            "ticks": ""
           }
          },
          "title": {
           "x": 0.05
          },
          "xaxis": {
           "automargin": true,
           "gridcolor": "white",
           "linecolor": "white",
           "ticks": "",
           "title": {
            "standoff": 15
           },
           "zerolinecolor": "white",
           "zerolinewidth": 2
          },
          "yaxis": {
           "automargin": true,
           "gridcolor": "white",
           "linecolor": "white",
           "ticks": "",
           "title": {
            "standoff": 15
           },
           "zerolinecolor": "white",
           "zerolinewidth": 2
          }
         }
        },
        "title": {
         "text": "Violin plot of max_percenage_error_max"
        },
        "violinmode": "group",
        "xaxis": {
         "anchor": "y",
         "domain": [
          0,
          1
         ],
         "title": {
          "text": "Pond_Type"
         }
        },
        "yaxis": {
         "anchor": "x",
         "domain": [
          0,
          1
         ],
         "title": {
          "text": "max_percenage_error_max"
         }
        }
       }
      }
     },
     "metadata": {},
     "output_type": "display_data"
    },
    {
     "data": {
      "application/vnd.plotly.v1+json": {
       "config": {
        "plotlyServerURL": "https://plot.ly"
       },
       "data": [
        {
         "alignmentgroup": "True",
         "box": {
          "visible": true
         },
         "customdata": [
          [
           "carapace:undistorted_GX010067_33_625.jpg_gamma",
           "Prawn_0"
          ],
          [
           "carapace:undistorted_GX010067_33_625.jpg_gamma",
           "Prawn_1"
          ],
          [
           "carapace:undistorted_GX010067_33_625.jpg_gamma",
           "Prawn_2"
          ],
          [
           "carapace:undistorted_GX010067_33_625.jpg_gamma",
           "Prawn_3"
          ],
          [
           "carapace:undistorted_GX010068_26_666.jpg_gamma",
           "Prawn_0"
          ],
          [
           "carapace:undistorted_GX010068_26_666.jpg_gamma",
           "Prawn_1"
          ],
          [
           "carapace:undistorted_GX010068_26_666.jpg_gamma",
           "Prawn_2"
          ],
          [
           "carapace:undistorted_GX010068_27_795.jpg_gamma",
           "Prawn_2"
          ],
          [
           "carapace:undistorted_GX010069_19_191.jpg_gamma",
           "Prawn_0"
          ],
          [
           "carapace:undistorted_GX010069_19_191.jpg_gamma",
           "Prawn_1"
          ],
          [
           "carapace:undistorted_GX010069_19_191.jpg_gamma",
           "Prawn_2"
          ],
          [
           "carapace:undistorted_GX010069_19_191.jpg_gamma",
           "Prawn_3"
          ],
          [
           "carapace:undistorted_GX010069_53_796.jpg_gamma",
           "Prawn_1"
          ],
          [
           "carapace:undistorted_GX010071_22_444.jpg_gamma",
           "Prawn_0"
          ],
          [
           "carapace:undistorted_GX010073_42_695.jpg_gamma",
           "Prawn_0"
          ],
          [
           "carapace:undistorted_GX010073_42_695.jpg_gamma",
           "Prawn_1"
          ],
          [
           "carapace:undistorted_GX010073_42_695.jpg_gamma",
           "Prawn_2"
          ],
          [
           "carapace:undistorted_GX010073_55_1014.jpg_gamma",
           "Prawn_0"
          ],
          [
           "carapace:undistorted_GX010073_55_1014.jpg_gamma",
           "Prawn_3"
          ],
          [
           "carapace:undistorted_GX010077_14_237.jpg_gamma",
           "Prawn_0"
          ],
          [
           "carapace:undistorted_GX010077_14_237.jpg_gamma",
           "Prawn_1"
          ],
          [
           "carapace:undistorted_GX010077_14_237.jpg_gamma",
           "Prawn_2"
          ],
          [
           "carapace:undistorted_GX010080_157_2283.jpg_gamma",
           "Prawn_0"
          ],
          [
           "carapace:undistorted_GX010080_157_2283.jpg_gamma",
           "Prawn_1"
          ],
          [
           "carapace:undistorted_GX010080_157_2283.jpg_gamma",
           "Prawn_2"
          ],
          [
           "carapace:undistorted_GX010080_157_2283.jpg_gamma",
           "Prawn_3"
          ],
          [
           "carapace:undistorted_GX010080_157_2283.jpg_gamma",
           "Prawn_4"
          ],
          [
           "carapace:undistorted_GX010080_193_2640.jpg_gamma",
           "Prawn_0"
          ],
          [
           "carapace:undistorted_GX010080_193_2640.jpg_gamma",
           "Prawn_1"
          ],
          [
           "carapace:undistorted_GX010080_193_2640.jpg_gamma",
           "Prawn_4"
          ],
          [
           "carapace:undistorted_GX010080_212_2954.jpg_gamma",
           "Prawn_0"
          ],
          [
           "carapace:undistorted_GX010080_212_2954.jpg_gamma",
           "Prawn_1"
          ],
          [
           "carapace:undistorted_GX010080_212_2954.jpg_gamma",
           "Prawn_2"
          ],
          [
           "carapace:undistorted_GX010080_237_3366.jpg_gamma",
           "Prawn_0"
          ],
          [
           "carapace:undistorted_GX010080_237_3366.jpg_gamma",
           "Prawn_1"
          ],
          [
           "carapace:undistorted_GX010080_237_3366.jpg_gamma",
           "Prawn_2"
          ],
          [
           "carapace:undistorted_GX010080_237_3366.jpg_gamma",
           "Prawn_3"
          ],
          [
           "carapace:undistorted_GX010080_238_3392.jpg_gamma",
           "Prawn_0"
          ],
          [
           "carapace:undistorted_GX010080_238_3392.jpg_gamma",
           "Prawn_1"
          ],
          [
           "carapace:undistorted_GX010080_238_3392.jpg_gamma",
           "Prawn_2"
          ],
          [
           "carapace:undistorted_GX010080_238_3392.jpg_gamma",
           "Prawn_3"
          ],
          [
           "carapace:undistorted_GX010080_238_3392.jpg_gamma",
           "Prawn_4"
          ],
          [
           "carapace:undistorted_GX010082_8_59.jpg_gamma",
           "Prawn_0"
          ],
          [
           "carapace:undistorted_GX010082_8_59.jpg_gamma",
           "Prawn_1"
          ],
          [
           "carapace:undistorted_GX010082_8_59.jpg_gamma",
           "Prawn_2"
          ],
          [
           "carapace:undistorted_GX010082_8_59.jpg_gamma",
           "Prawn_3"
          ],
          [
           "carapace:undistorted_GX010082_8_59.jpg_gamma",
           "Prawn_4"
          ],
          [
           "carapace:undistorted_GX010082_8_59.jpg_gamma",
           "Prawn_5"
          ],
          [
           "carapace:undistorted_GX010082_53_796.jpg_gamma",
           "Prawn_0"
          ],
          [
           "carapace:undistorted_GX010082_53_796.jpg_gamma",
           "Prawn_1"
          ],
          [
           "carapace:undistorted_GX010082_65_1070.jpg_gamma",
           "Prawn_0"
          ],
          [
           "carapace:undistorted_GX010082_65_1070.jpg_gamma",
           "Prawn_1"
          ],
          [
           "carapace:undistorted_GX010082_65_1070.jpg_gamma",
           "Prawn_2"
          ],
          [
           "carapace:undistorted_GX010082_236_3137.jpg_gamma",
           "Prawn_1"
          ],
          [
           "carapace:undistorted_GX010082_236_3137.jpg_gamma",
           "Prawn_2"
          ],
          [
           "carapace:undistorted_GX010084_30_344.jpg_gamma",
           "Prawn_0"
          ],
          [
           "carapace:undistorted_GX010084_30_344.jpg_gamma",
           "Prawn_2"
          ],
          [
           "carapace:undistorted_GX010084_30_344.jpg_gamma",
           "Prawn_3"
          ],
          [
           "carapace:undistorted_GX010084_30_344.jpg_gamma",
           "Prawn_5"
          ],
          [
           "carapace:undistorted_GX010084_130_1748.jpg_gamma",
           "Prawn_0"
          ],
          [
           "carapace:undistorted_GX010084_130_1748.jpg_gamma",
           "Prawn_1"
          ],
          [
           "carapace:undistorted_GX010084_130_1748.jpg_gamma",
           "Prawn_2"
          ],
          [
           "carapace:undistorted_GX010084_130_1748.jpg_gamma",
           "Prawn_3"
          ],
          [
           "carapace:undistorted_GX010084_167_2291.jpg_gamma",
           "Prawn_0"
          ],
          [
           "carapace:undistorted_GX010084_167_2291.jpg_gamma",
           "Prawn_1"
          ],
          [
           "carapace:undistorted_GX010085_261_3610.jpg_gamma",
           "Prawn_0"
          ],
          [
           "carapace:undistorted_GX010085_261_3610.jpg_gamma",
           "Prawn_1"
          ],
          [
           "carapace:undistorted_GX010085_261_3610.jpg_gamma",
           "Prawn_2"
          ],
          [
           "carapace:undistorted_GX010085_263_3738.jpg_gamma",
           "Prawn_1"
          ],
          [
           "carapace:undistorted_GX010085_263_3738.jpg_gamma",
           "Prawn_3"
          ],
          [
           "carapace:undistorted_GX010088_262_3712.jpg_gamma",
           "Prawn_0"
          ],
          [
           "carapace:undistorted_GX010088_262_3712.jpg_gamma",
           "Prawn_2"
          ],
          [
           "carapace:undistorted_GX010088_262_3712.jpg_gamma",
           "Prawn_3"
          ],
          [
           "carapace:undistorted_GX010088_262_3712.jpg_gamma",
           "Prawn_4"
          ],
          [
           "carapace:undistorted_GX010088_262_3712.jpg_gamma",
           "Prawn_5"
          ],
          [
           "carapace:undistorted_GX010088_327_4364.jpg_gamma",
           "Prawn_0"
          ],
          [
           "carapace:undistorted_GX010088_327_4364.jpg_gamma",
           "Prawn_1"
          ],
          [
           "carapace:undistorted_GX010088_327_4364.jpg_gamma",
           "Prawn_2"
          ],
          [
           "carapace:undistorted_GX010088_327_4364.jpg_gamma",
           "Prawn_3"
          ],
          [
           "carapace:undistorted_GX010089_11_236.jpg_gamma",
           "Prawn_0"
          ],
          [
           "carapace:undistorted_GX010089_11_236.jpg_gamma",
           "Prawn_1"
          ],
          [
           "carapace:undistorted_GX010089_11_236.jpg_gamma",
           "Prawn_2"
          ],
          [
           "carapace:undistorted_GX010090_132_1852.jpg_gamma",
           "Prawn_0"
          ],
          [
           "carapace:undistorted_GX010090_132_1852.jpg_gamma",
           "Prawn_1"
          ],
          [
           "carapace:undistorted_GX010091_5_149.jpg_gamma",
           "Prawn_0"
          ],
          [
           "carapace:undistorted_GX010091_5_149.jpg_gamma",
           "Prawn_1"
          ],
          [
           "carapace:undistorted_GX010091_5_149.jpg_gamma",
           "Prawn_2"
          ],
          [
           "carapace:undistorted_GX010091_5_149.jpg_gamma",
           "Prawn_3"
          ],
          [
           "carapace:undistorted_GX010094_9_129.jpg_gamma",
           "Prawn_0"
          ],
          [
           "carapace:undistorted_GX010094_9_129.jpg_gamma",
           "Prawn_1"
          ],
          [
           "carapace:undistorted_GX010094_24_430.jpg_gamma",
           "Prawn_0"
          ],
          [
           "carapace:undistorted_GX010094_24_430.jpg_gamma",
           "Prawn_1"
          ],
          [
           "carapace:undistorted_GX010094_24_430.jpg_gamma",
           "Prawn_2"
          ],
          [
           "carapace:undistorted_GX010094_93_1258.jpg_gamma",
           "Prawn_0"
          ],
          [
           "carapace:undistorted_GX010094_93_1258.jpg_gamma",
           "Prawn_1"
          ],
          [
           "carapace:undistorted_GX010094_163_2312.jpg_gamma",
           "Prawn_0"
          ],
          [
           "carapace:undistorted_GX010096_107_1571.jpg_gamma",
           "Prawn_0"
          ],
          [
           "carapace:undistorted_GX010097_32_528.jpg_gamma",
           "Prawn_0"
          ],
          [
           "carapace:undistorted_GX010097_32_528.jpg_gamma",
           "Prawn_1"
          ],
          [
           "carapace:undistorted_GX010097_60_1080.jpg_gamma",
           "Prawn_1"
          ],
          [
           "carapace:undistorted_GX010097_105_1651.jpg_gamma",
           "Prawn_0"
          ],
          [
           "carapace:undistorted_GX010097_105_1651.jpg_gamma",
           "Prawn_1"
          ],
          [
           "carapace:undistorted_GX010097_105_1651.jpg_gamma",
           "Prawn_2"
          ],
          [
           "carapace:undistorted_GX010097_105_1651.jpg_gamma",
           "Prawn_3"
          ],
          [
           "carapace:undistorted_GX010097_124_1870.jpg_gamma",
           "Prawn_1"
          ],
          [
           "carapace:undistorted_GX010101_12_173.jpg_gamma",
           "Prawn_0"
          ],
          [
           "carapace:undistorted_GX010102_9_165.jpg_gamma",
           "Prawn_0"
          ],
          [
           "carapace:undistorted_GX010102_9_165.jpg_gamma",
           "Prawn_3"
          ],
          [
           "carapace:undistorted_GX010102_9_165.jpg_gamma",
           "Prawn_4"
          ],
          [
           "carapace:undistorted_GX010102_50_1396.jpg_gamma",
           "Prawn_0"
          ],
          [
           "carapace:undistorted_GX010105_28_816.jpg_gamma",
           "Prawn_0"
          ],
          [
           "carapace:undistorted_GX010105_28_816.jpg_gamma",
           "Prawn_1"
          ],
          [
           "carapace:undistorted_GX010152_36_378.jpg_gamma",
           "Prawn_1"
          ],
          [
           "carapace:undistorted_GX010152_36_378.jpg_gamma",
           "Prawn_2"
          ],
          [
           "carapace:undistorted_GX010155_78_1170.jpg_gamma",
           "Prawn_0"
          ],
          [
           "carapace:undistorted_GX010157_68_883",
           "Prawn_0"
          ],
          [
           "carapace:undistorted_GX010157_160_2259",
           "Prawn_0"
          ],
          [
           "carapace:undistorted_GX010157_160_2259",
           "Prawn_1"
          ],
          [
           "carapace:undistorted_GX010157_174_2582.jpg_gamma",
           "Prawn_0"
          ],
          [
           "carapace:undistorted_GX010157_177_2665.jpg_gamma",
           "Prawn_0"
          ],
          [
           "carapace:undistorted_GX010161_54_676.jpg_gamma.jpg_gamma",
           "Prawn_0"
          ],
          [
           "carapace:undistorted_GX010161_136_2267.jpg_gamma.jpg_gamma",
           "Prawn_0"
          ],
          [
           "carapace:undistorted_GX010162_72_927.jpg_gamma.jpg_gamma",
           "Prawn_0"
          ],
          [
           "carapace:undistorted_GX010169_121_1249",
           "Prawn_0"
          ],
          [
           "carapace:undistorted_GX010173_75_922.jpg_gamma",
           "Prawn_0"
          ],
          [
           "carapace:undistorted_GX010174_62_790.jpg_gamma",
           "Prawn_0"
          ],
          [
           "carapace:undistorted_GX010174_104_1236",
           "Prawn_0"
          ],
          [
           "carapace:undistorted_GX010175_82_852.jpg_gamma",
           "Prawn_0"
          ],
          [
           "carapace:undistorted_GX010175_215_2644.jpg_gamma",
           "Prawn_0"
          ],
          [
           "carapace:undistorted_GX010175_266_3372.jpg_gamma.jpg_gamma",
           "Prawn_0"
          ],
          [
           "carapace:undistorted_GX010177_232_3047",
           "Prawn_0"
          ],
          [
           "carapace:undistorted_GX010178_107_2118",
           "Prawn_0"
          ],
          [
           "carapace:undistorted_GX010178_107_2118",
           "Prawn_1"
          ],
          [
           "carapace:undistorted_GX010178_114_2258",
           "Prawn_0"
          ],
          [
           "carapace:undistorted_GX010178_189_3987.jpg_gamma",
           "Prawn_0"
          ],
          [
           "carapace:undistorted_GX010178_189_3987.jpg_gamma",
           "Prawn_1"
          ],
          [
           "carapace:undistorted_GX010179_88_1697.jpg_gamma",
           "Prawn_0"
          ],
          [
           "carapace:undistorted_GX010179_200_3927.jpg_gamma",
           "Prawn_0"
          ],
          [
           "carapace:undistorted_GX010180_91_1563",
           "Prawn_0"
          ],
          [
           "carapace:undistorted_GX010180_99_1788",
           "Prawn_0"
          ],
          [
           "carapace:undistorted_GX010181_101_1542",
           "Prawn_0"
          ],
          [
           "carapace:undistorted_GX010183_37_685.jpg_gamma",
           "Prawn_0"
          ],
          [
           "carapace:undistorted_GX010183_37_685.jpg_gamma",
           "Prawn_1"
          ],
          [
           "carapace:undistorted_GX010183_37_685.jpg_gamma",
           "Prawn_2"
          ],
          [
           "carapace:undistorted_GX010183_80_1633.jpg_gamma",
           "Prawn_0"
          ],
          [
           "carapace:undistorted_GX010183_80_1633.jpg_gamma",
           "Prawn_1"
          ],
          [
           "carapace:undistorted_GX010183_128_2852.jpg_gamma",
           "Prawn_0"
          ],
          [
           "carapace:undistorted_GX010183_128_2852.jpg_gamma",
           "Prawn_1"
          ]
         ],
         "hovertemplate": "Pond_Type=%{x}<br>MAE_max=%{y}<br>Label=%{customdata[0]}<br>PrawnID=%{customdata[1]}<extra></extra>",
         "legendgroup": "",
         "marker": {
          "color": "#636efa"
         },
         "name": "",
         "offsetgroup": "",
         "orientation": "v",
         "points": "all",
         "scalegroup": "True",
         "showlegend": false,
         "type": "violin",
         "x": [
          "test-right",
          "test-right",
          "test-right",
          "test-right",
          "test-right",
          "test-right",
          "test-right",
          "test-right",
          "test-right",
          "test-right",
          "test-right",
          "test-right",
          "test-right",
          "test-right",
          "test-right",
          "test-right",
          "test-right",
          "test-right",
          "test-right",
          "test-right",
          "test-right",
          "test-right",
          "test-right",
          "test-right",
          "test-right",
          "test-right",
          "test-right",
          "test-right",
          "test-right",
          "test-right",
          "test-right",
          "test-right",
          "test-right",
          "test-right",
          "test-right",
          "test-right",
          "test-right",
          "test-right",
          "test-right",
          "test-right",
          "test-right",
          "test-right",
          "test-right",
          "test-right",
          "test-right",
          "test-right",
          "test-right",
          "test-right",
          "test-right",
          "test-right",
          "test-right",
          "test-right",
          "test-right",
          "test-right",
          "test-right",
          "test-right",
          "test-right",
          "test-right",
          "test-right",
          "test-right",
          "test-right",
          "test-right",
          "test-right",
          "test-right",
          "test-right",
          "test-right",
          "test-right",
          "test-right",
          "test-right",
          "test-right",
          "test-right",
          "test-right",
          "test-right",
          "test-right",
          "test-right",
          "test-right",
          "test-right",
          "test-right",
          "test-right",
          "test-left",
          "test-left",
          "test-left",
          "test-right",
          "test-right",
          "test-left",
          "test-left",
          "test-left",
          "test-left",
          "test-right",
          "test-right",
          "test-right",
          "test-right",
          "test-right",
          "test-right",
          "test-right",
          "test-right",
          "test-right",
          "test-right",
          "test-right",
          "test-right",
          "test-right",
          "test-right",
          "test-right",
          "test-right",
          "test-right",
          "test-right",
          "test-left",
          "test-left",
          "test-left",
          "test-left",
          "test-left",
          "test-left",
          "test-car",
          "test-car",
          "test-car",
          "test-car",
          "test-car",
          "test-car",
          "test-car",
          "test-car",
          "test-car",
          "test-car",
          "test-car",
          "test-car",
          "test-car",
          "test-car",
          "test-car",
          "test-car",
          "test-car",
          "test-car",
          "test-car",
          "test-car",
          "test-car",
          "test-car",
          "test-car",
          "test-car",
          "test-car",
          "test-car",
          "test-car",
          "test-car",
          "test-car",
          "test-car",
          "test-car",
          "test-car",
          "test-car",
          "test-car",
          "test-car",
          "test-car"
         ],
         "x0": " ",
         "xaxis": "x",
         "y": [
          8.12178394529095,
          2.0542766787134816,
          8.773933377865248,
          2.334272118027929,
          6.886596571224487,
          7.435074722253457,
          1.1828527121330126,
          5.396936778097874,
          0.7295400167094783,
          1.117471828517779,
          2.0790745377857185,
          3.6753755538967994,
          0.8762355737429246,
          13.493598793789342,
          10.807605570568857,
          11.715470593766241,
          7.95290512831604,
          7.5541759455417505,
          5.5035811368698795,
          6.06611444619875,
          5.057551893876827,
          7.95921415835544,
          2.5450074550035,
          3.77071299185765,
          18.41065089817167,
          3.6374440644480615,
          4.653131072202008,
          6.790398386756081,
          9.985568356138664,
          10.927298975100513,
          1.7840098000190174,
          1.7882255511512994,
          1.4060262608368674,
          2.685575279131946,
          3.561113378212511,
          4.806047654152842,
          5.05242114237948,
          7.72176310937364,
          0.28633524026625423,
          14.550873391253628,
          7.044693310359779,
          0.737086286524729,
          13.983403571701789,
          1.858919658312658,
          7.12165636395838,
          7.2662181006080715,
          2.0864035717017906,
          0.4733217215041208,
          2.416251847890095,
          2.672128572088578,
          0.7171940623492397,
          5.163615814720416,
          3.661776760335748,
          2.236835663585005,
          3.9134884267991197,
          13.949389823687593,
          8.005695478058989,
          8.253216997800962,
          8.72267289690383,
          6.94060679224868,
          10.234619643888301,
          6.297661383706828,
          12.007541734185,
          23.66416930145209,
          12.227708089312308,
          2.035634031104024,
          8.715634031104024,
          11.509634035392661,
          10.624153677350186,
          18.798291540653896,
          12.486115420520228,
          14.21671931151526,
          13.546776746553206,
          11.32201871131814,
          15.221018711318141,
          11.94053681276711,
          7.573610930260941,
          14.07879108956417,
          13.83801309582828,
          10.50925103057158,
          4.293609073302939,
          4.66187662252506,
          2.4786687854525695,
          10.455473683985783,
          3.5847484905492983,
          4.12746734520816,
          4.706796953342039,
          9.78280102326476,
          0.3191012456992901,
          3.494541972817764,
          4.537877999422069,
          9.631066172704443,
          14.10403093774325,
          5.249703517789246,
          14.003703517789251,
          3.8133812953805375,
          8.383322537407313,
          11.492856911787918,
          7.643647246729056,
          11.647341708715668,
          4.764259363422795,
          4.543854986460147,
          3.905684623549771,
          2.319934984685311,
          5.103517217345413,
          1.4488198523937186,
          6.295819503608069,
          0.5011847937176022,
          3.7290309496479104,
          5.114538233815125,
          4.418852810629339,
          0.6165774186201496,
          15.247123582596068,
          18.198624950590688,
          15.680709969904367,
          19.256818708833602,
          10.468008052216259,
          23.32069944735329,
          15.116251293480229,
          13.158066038359042,
          9.41089908546282,
          22.654921540594902,
          3.124774024908472,
          13.04347949903958,
          17.3164962682523,
          9.26690173701984,
          8.001200818240939,
          6.3503984109202065,
          29.155383012875916,
          11.581484516706585,
          0.195307801269486,
          13.46242469839909,
          2.3690982929661217,
          11.703543512544634,
          11.255744350643518,
          8.23405985843742,
          1.80408726218905,
          6.027223067840964,
          9.52872385608703,
          8.398106952590513,
          11.740330077033455,
          14.432887374928708,
          4.91393082708079,
          22.282292339527032,
          11.426947550765668,
          8.552947550765673,
          11.483687371263773,
          8.952687371263767
         ],
         "y0": " ",
         "yaxis": "y"
        }
       ],
       "layout": {
        "legend": {
         "tracegroupgap": 0
        },
        "template": {
         "data": {
          "bar": [
           {
            "error_x": {
             "color": "#2a3f5f"
            },
            "error_y": {
             "color": "#2a3f5f"
            },
            "marker": {
             "line": {
              "color": "#E5ECF6",
              "width": 0.5
             },
             "pattern": {
              "fillmode": "overlay",
              "size": 10,
              "solidity": 0.2
             }
            },
            "type": "bar"
           }
          ],
          "barpolar": [
           {
            "marker": {
             "line": {
              "color": "#E5ECF6",
              "width": 0.5
             },
             "pattern": {
              "fillmode": "overlay",
              "size": 10,
              "solidity": 0.2
             }
            },
            "type": "barpolar"
           }
          ],
          "carpet": [
           {
            "aaxis": {
             "endlinecolor": "#2a3f5f",
             "gridcolor": "white",
             "linecolor": "white",
             "minorgridcolor": "white",
             "startlinecolor": "#2a3f5f"
            },
            "baxis": {
             "endlinecolor": "#2a3f5f",
             "gridcolor": "white",
             "linecolor": "white",
             "minorgridcolor": "white",
             "startlinecolor": "#2a3f5f"
            },
            "type": "carpet"
           }
          ],
          "choropleth": [
           {
            "colorbar": {
             "outlinewidth": 0,
             "ticks": ""
            },
            "type": "choropleth"
           }
          ],
          "contour": [
           {
            "colorbar": {
             "outlinewidth": 0,
             "ticks": ""
            },
            "colorscale": [
             [
              0,
              "#0d0887"
             ],
             [
              0.1111111111111111,
              "#46039f"
             ],
             [
              0.2222222222222222,
              "#7201a8"
             ],
             [
              0.3333333333333333,
              "#9c179e"
             ],
             [
              0.4444444444444444,
              "#bd3786"
             ],
             [
              0.5555555555555556,
              "#d8576b"
             ],
             [
              0.6666666666666666,
              "#ed7953"
             ],
             [
              0.7777777777777778,
              "#fb9f3a"
             ],
             [
              0.8888888888888888,
              "#fdca26"
             ],
             [
              1,
              "#f0f921"
             ]
            ],
            "type": "contour"
           }
          ],
          "contourcarpet": [
           {
            "colorbar": {
             "outlinewidth": 0,
             "ticks": ""
            },
            "type": "contourcarpet"
           }
          ],
          "heatmap": [
           {
            "colorbar": {
             "outlinewidth": 0,
             "ticks": ""
            },
            "colorscale": [
             [
              0,
              "#0d0887"
             ],
             [
              0.1111111111111111,
              "#46039f"
             ],
             [
              0.2222222222222222,
              "#7201a8"
             ],
             [
              0.3333333333333333,
              "#9c179e"
             ],
             [
              0.4444444444444444,
              "#bd3786"
             ],
             [
              0.5555555555555556,
              "#d8576b"
             ],
             [
              0.6666666666666666,
              "#ed7953"
             ],
             [
              0.7777777777777778,
              "#fb9f3a"
             ],
             [
              0.8888888888888888,
              "#fdca26"
             ],
             [
              1,
              "#f0f921"
             ]
            ],
            "type": "heatmap"
           }
          ],
          "heatmapgl": [
           {
            "colorbar": {
             "outlinewidth": 0,
             "ticks": ""
            },
            "colorscale": [
             [
              0,
              "#0d0887"
             ],
             [
              0.1111111111111111,
              "#46039f"
             ],
             [
              0.2222222222222222,
              "#7201a8"
             ],
             [
              0.3333333333333333,
              "#9c179e"
             ],
             [
              0.4444444444444444,
              "#bd3786"
             ],
             [
              0.5555555555555556,
              "#d8576b"
             ],
             [
              0.6666666666666666,
              "#ed7953"
             ],
             [
              0.7777777777777778,
              "#fb9f3a"
             ],
             [
              0.8888888888888888,
              "#fdca26"
             ],
             [
              1,
              "#f0f921"
             ]
            ],
            "type": "heatmapgl"
           }
          ],
          "histogram": [
           {
            "marker": {
             "pattern": {
              "fillmode": "overlay",
              "size": 10,
              "solidity": 0.2
             }
            },
            "type": "histogram"
           }
          ],
          "histogram2d": [
           {
            "colorbar": {
             "outlinewidth": 0,
             "ticks": ""
            },
            "colorscale": [
             [
              0,
              "#0d0887"
             ],
             [
              0.1111111111111111,
              "#46039f"
             ],
             [
              0.2222222222222222,
              "#7201a8"
             ],
             [
              0.3333333333333333,
              "#9c179e"
             ],
             [
              0.4444444444444444,
              "#bd3786"
             ],
             [
              0.5555555555555556,
              "#d8576b"
             ],
             [
              0.6666666666666666,
              "#ed7953"
             ],
             [
              0.7777777777777778,
              "#fb9f3a"
             ],
             [
              0.8888888888888888,
              "#fdca26"
             ],
             [
              1,
              "#f0f921"
             ]
            ],
            "type": "histogram2d"
           }
          ],
          "histogram2dcontour": [
           {
            "colorbar": {
             "outlinewidth": 0,
             "ticks": ""
            },
            "colorscale": [
             [
              0,
              "#0d0887"
             ],
             [
              0.1111111111111111,
              "#46039f"
             ],
             [
              0.2222222222222222,
              "#7201a8"
             ],
             [
              0.3333333333333333,
              "#9c179e"
             ],
             [
              0.4444444444444444,
              "#bd3786"
             ],
             [
              0.5555555555555556,
              "#d8576b"
             ],
             [
              0.6666666666666666,
              "#ed7953"
             ],
             [
              0.7777777777777778,
              "#fb9f3a"
             ],
             [
              0.8888888888888888,
              "#fdca26"
             ],
             [
              1,
              "#f0f921"
             ]
            ],
            "type": "histogram2dcontour"
           }
          ],
          "mesh3d": [
           {
            "colorbar": {
             "outlinewidth": 0,
             "ticks": ""
            },
            "type": "mesh3d"
           }
          ],
          "parcoords": [
           {
            "line": {
             "colorbar": {
              "outlinewidth": 0,
              "ticks": ""
             }
            },
            "type": "parcoords"
           }
          ],
          "pie": [
           {
            "automargin": true,
            "type": "pie"
           }
          ],
          "scatter": [
           {
            "fillpattern": {
             "fillmode": "overlay",
             "size": 10,
             "solidity": 0.2
            },
            "type": "scatter"
           }
          ],
          "scatter3d": [
           {
            "line": {
             "colorbar": {
              "outlinewidth": 0,
              "ticks": ""
             }
            },
            "marker": {
             "colorbar": {
              "outlinewidth": 0,
              "ticks": ""
             }
            },
            "type": "scatter3d"
           }
          ],
          "scattercarpet": [
           {
            "marker": {
             "colorbar": {
              "outlinewidth": 0,
              "ticks": ""
             }
            },
            "type": "scattercarpet"
           }
          ],
          "scattergeo": [
           {
            "marker": {
             "colorbar": {
              "outlinewidth": 0,
              "ticks": ""
             }
            },
            "type": "scattergeo"
           }
          ],
          "scattergl": [
           {
            "marker": {
             "colorbar": {
              "outlinewidth": 0,
              "ticks": ""
             }
            },
            "type": "scattergl"
           }
          ],
          "scattermapbox": [
           {
            "marker": {
             "colorbar": {
              "outlinewidth": 0,
              "ticks": ""
             }
            },
            "type": "scattermapbox"
           }
          ],
          "scatterpolar": [
           {
            "marker": {
             "colorbar": {
              "outlinewidth": 0,
              "ticks": ""
             }
            },
            "type": "scatterpolar"
           }
          ],
          "scatterpolargl": [
           {
            "marker": {
             "colorbar": {
              "outlinewidth": 0,
              "ticks": ""
             }
            },
            "type": "scatterpolargl"
           }
          ],
          "scatterternary": [
           {
            "marker": {
             "colorbar": {
              "outlinewidth": 0,
              "ticks": ""
             }
            },
            "type": "scatterternary"
           }
          ],
          "surface": [
           {
            "colorbar": {
             "outlinewidth": 0,
             "ticks": ""
            },
            "colorscale": [
             [
              0,
              "#0d0887"
             ],
             [
              0.1111111111111111,
              "#46039f"
             ],
             [
              0.2222222222222222,
              "#7201a8"
             ],
             [
              0.3333333333333333,
              "#9c179e"
             ],
             [
              0.4444444444444444,
              "#bd3786"
             ],
             [
              0.5555555555555556,
              "#d8576b"
             ],
             [
              0.6666666666666666,
              "#ed7953"
             ],
             [
              0.7777777777777778,
              "#fb9f3a"
             ],
             [
              0.8888888888888888,
              "#fdca26"
             ],
             [
              1,
              "#f0f921"
             ]
            ],
            "type": "surface"
           }
          ],
          "table": [
           {
            "cells": {
             "fill": {
              "color": "#EBF0F8"
             },
             "line": {
              "color": "white"
             }
            },
            "header": {
             "fill": {
              "color": "#C8D4E3"
             },
             "line": {
              "color": "white"
             }
            },
            "type": "table"
           }
          ]
         },
         "layout": {
          "annotationdefaults": {
           "arrowcolor": "#2a3f5f",
           "arrowhead": 0,
           "arrowwidth": 1
          },
          "autotypenumbers": "strict",
          "coloraxis": {
           "colorbar": {
            "outlinewidth": 0,
            "ticks": ""
           }
          },
          "colorscale": {
           "diverging": [
            [
             0,
             "#8e0152"
            ],
            [
             0.1,
             "#c51b7d"
            ],
            [
             0.2,
             "#de77ae"
            ],
            [
             0.3,
             "#f1b6da"
            ],
            [
             0.4,
             "#fde0ef"
            ],
            [
             0.5,
             "#f7f7f7"
            ],
            [
             0.6,
             "#e6f5d0"
            ],
            [
             0.7,
             "#b8e186"
            ],
            [
             0.8,
             "#7fbc41"
            ],
            [
             0.9,
             "#4d9221"
            ],
            [
             1,
             "#276419"
            ]
           ],
           "sequential": [
            [
             0,
             "#0d0887"
            ],
            [
             0.1111111111111111,
             "#46039f"
            ],
            [
             0.2222222222222222,
             "#7201a8"
            ],
            [
             0.3333333333333333,
             "#9c179e"
            ],
            [
             0.4444444444444444,
             "#bd3786"
            ],
            [
             0.5555555555555556,
             "#d8576b"
            ],
            [
             0.6666666666666666,
             "#ed7953"
            ],
            [
             0.7777777777777778,
             "#fb9f3a"
            ],
            [
             0.8888888888888888,
             "#fdca26"
            ],
            [
             1,
             "#f0f921"
            ]
           ],
           "sequentialminus": [
            [
             0,
             "#0d0887"
            ],
            [
             0.1111111111111111,
             "#46039f"
            ],
            [
             0.2222222222222222,
             "#7201a8"
            ],
            [
             0.3333333333333333,
             "#9c179e"
            ],
            [
             0.4444444444444444,
             "#bd3786"
            ],
            [
             0.5555555555555556,
             "#d8576b"
            ],
            [
             0.6666666666666666,
             "#ed7953"
            ],
            [
             0.7777777777777778,
             "#fb9f3a"
            ],
            [
             0.8888888888888888,
             "#fdca26"
            ],
            [
             1,
             "#f0f921"
            ]
           ]
          },
          "colorway": [
           "#636efa",
           "#EF553B",
           "#00cc96",
           "#ab63fa",
           "#FFA15A",
           "#19d3f3",
           "#FF6692",
           "#B6E880",
           "#FF97FF",
           "#FECB52"
          ],
          "font": {
           "color": "#2a3f5f"
          },
          "geo": {
           "bgcolor": "white",
           "lakecolor": "white",
           "landcolor": "#E5ECF6",
           "showlakes": true,
           "showland": true,
           "subunitcolor": "white"
          },
          "hoverlabel": {
           "align": "left"
          },
          "hovermode": "closest",
          "mapbox": {
           "style": "light"
          },
          "paper_bgcolor": "white",
          "plot_bgcolor": "#E5ECF6",
          "polar": {
           "angularaxis": {
            "gridcolor": "white",
            "linecolor": "white",
            "ticks": ""
           },
           "bgcolor": "#E5ECF6",
           "radialaxis": {
            "gridcolor": "white",
            "linecolor": "white",
            "ticks": ""
           }
          },
          "scene": {
           "xaxis": {
            "backgroundcolor": "#E5ECF6",
            "gridcolor": "white",
            "gridwidth": 2,
            "linecolor": "white",
            "showbackground": true,
            "ticks": "",
            "zerolinecolor": "white"
           },
           "yaxis": {
            "backgroundcolor": "#E5ECF6",
            "gridcolor": "white",
            "gridwidth": 2,
            "linecolor": "white",
            "showbackground": true,
            "ticks": "",
            "zerolinecolor": "white"
           },
           "zaxis": {
            "backgroundcolor": "#E5ECF6",
            "gridcolor": "white",
            "gridwidth": 2,
            "linecolor": "white",
            "showbackground": true,
            "ticks": "",
            "zerolinecolor": "white"
           }
          },
          "shapedefaults": {
           "line": {
            "color": "#2a3f5f"
           }
          },
          "ternary": {
           "aaxis": {
            "gridcolor": "white",
            "linecolor": "white",
            "ticks": ""
           },
           "baxis": {
            "gridcolor": "white",
            "linecolor": "white",
            "ticks": ""
           },
           "bgcolor": "#E5ECF6",
           "caxis": {
            "gridcolor": "white",
            "linecolor": "white",
            "ticks": ""
           }
          },
          "title": {
           "x": 0.05
          },
          "xaxis": {
           "automargin": true,
           "gridcolor": "white",
           "linecolor": "white",
           "ticks": "",
           "title": {
            "standoff": 15
           },
           "zerolinecolor": "white",
           "zerolinewidth": 2
          },
          "yaxis": {
           "automargin": true,
           "gridcolor": "white",
           "linecolor": "white",
           "ticks": "",
           "title": {
            "standoff": 15
           },
           "zerolinecolor": "white",
           "zerolinewidth": 2
          }
         }
        },
        "title": {
         "text": "Violin plot of MAE_max"
        },
        "violinmode": "group",
        "xaxis": {
         "anchor": "y",
         "domain": [
          0,
          1
         ],
         "title": {
          "text": "Pond_Type"
         }
        },
        "yaxis": {
         "anchor": "x",
         "domain": [
          0,
          1
         ],
         "title": {
          "text": "MAE_max"
         }
        }
       }
      }
     },
     "metadata": {},
     "output_type": "display_data"
    },
    {
     "data": {
      "application/vnd.plotly.v1+json": {
       "config": {
        "plotlyServerURL": "https://plot.ly"
       },
       "data": [
        {
         "alignmentgroup": "True",
         "box": {
          "visible": true
         },
         "customdata": [
          [
           "carapace:undistorted_GX010067_33_625.jpg_gamma",
           "Prawn_0"
          ],
          [
           "carapace:undistorted_GX010067_33_625.jpg_gamma",
           "Prawn_1"
          ],
          [
           "carapace:undistorted_GX010067_33_625.jpg_gamma",
           "Prawn_2"
          ],
          [
           "carapace:undistorted_GX010067_33_625.jpg_gamma",
           "Prawn_3"
          ],
          [
           "carapace:undistorted_GX010068_26_666.jpg_gamma",
           "Prawn_0"
          ],
          [
           "carapace:undistorted_GX010068_26_666.jpg_gamma",
           "Prawn_1"
          ],
          [
           "carapace:undistorted_GX010068_26_666.jpg_gamma",
           "Prawn_2"
          ],
          [
           "carapace:undistorted_GX010068_27_795.jpg_gamma",
           "Prawn_2"
          ],
          [
           "carapace:undistorted_GX010069_19_191.jpg_gamma",
           "Prawn_0"
          ],
          [
           "carapace:undistorted_GX010069_19_191.jpg_gamma",
           "Prawn_1"
          ],
          [
           "carapace:undistorted_GX010069_19_191.jpg_gamma",
           "Prawn_2"
          ],
          [
           "carapace:undistorted_GX010069_19_191.jpg_gamma",
           "Prawn_3"
          ],
          [
           "carapace:undistorted_GX010069_53_796.jpg_gamma",
           "Prawn_1"
          ],
          [
           "carapace:undistorted_GX010071_22_444.jpg_gamma",
           "Prawn_0"
          ],
          [
           "carapace:undistorted_GX010073_42_695.jpg_gamma",
           "Prawn_0"
          ],
          [
           "carapace:undistorted_GX010073_42_695.jpg_gamma",
           "Prawn_1"
          ],
          [
           "carapace:undistorted_GX010073_42_695.jpg_gamma",
           "Prawn_2"
          ],
          [
           "carapace:undistorted_GX010073_55_1014.jpg_gamma",
           "Prawn_0"
          ],
          [
           "carapace:undistorted_GX010073_55_1014.jpg_gamma",
           "Prawn_3"
          ],
          [
           "carapace:undistorted_GX010077_14_237.jpg_gamma",
           "Prawn_0"
          ],
          [
           "carapace:undistorted_GX010077_14_237.jpg_gamma",
           "Prawn_1"
          ],
          [
           "carapace:undistorted_GX010077_14_237.jpg_gamma",
           "Prawn_2"
          ],
          [
           "carapace:undistorted_GX010080_157_2283.jpg_gamma",
           "Prawn_0"
          ],
          [
           "carapace:undistorted_GX010080_157_2283.jpg_gamma",
           "Prawn_1"
          ],
          [
           "carapace:undistorted_GX010080_157_2283.jpg_gamma",
           "Prawn_2"
          ],
          [
           "carapace:undistorted_GX010080_157_2283.jpg_gamma",
           "Prawn_3"
          ],
          [
           "carapace:undistorted_GX010080_157_2283.jpg_gamma",
           "Prawn_4"
          ],
          [
           "carapace:undistorted_GX010080_193_2640.jpg_gamma",
           "Prawn_0"
          ],
          [
           "carapace:undistorted_GX010080_193_2640.jpg_gamma",
           "Prawn_1"
          ],
          [
           "carapace:undistorted_GX010080_193_2640.jpg_gamma",
           "Prawn_4"
          ],
          [
           "carapace:undistorted_GX010080_212_2954.jpg_gamma",
           "Prawn_0"
          ],
          [
           "carapace:undistorted_GX010080_212_2954.jpg_gamma",
           "Prawn_1"
          ],
          [
           "carapace:undistorted_GX010080_212_2954.jpg_gamma",
           "Prawn_2"
          ],
          [
           "carapace:undistorted_GX010080_237_3366.jpg_gamma",
           "Prawn_0"
          ],
          [
           "carapace:undistorted_GX010080_237_3366.jpg_gamma",
           "Prawn_1"
          ],
          [
           "carapace:undistorted_GX010080_237_3366.jpg_gamma",
           "Prawn_2"
          ],
          [
           "carapace:undistorted_GX010080_237_3366.jpg_gamma",
           "Prawn_3"
          ],
          [
           "carapace:undistorted_GX010080_238_3392.jpg_gamma",
           "Prawn_0"
          ],
          [
           "carapace:undistorted_GX010080_238_3392.jpg_gamma",
           "Prawn_1"
          ],
          [
           "carapace:undistorted_GX010080_238_3392.jpg_gamma",
           "Prawn_2"
          ],
          [
           "carapace:undistorted_GX010080_238_3392.jpg_gamma",
           "Prawn_3"
          ],
          [
           "carapace:undistorted_GX010080_238_3392.jpg_gamma",
           "Prawn_4"
          ],
          [
           "carapace:undistorted_GX010082_8_59.jpg_gamma",
           "Prawn_0"
          ],
          [
           "carapace:undistorted_GX010082_8_59.jpg_gamma",
           "Prawn_1"
          ],
          [
           "carapace:undistorted_GX010082_8_59.jpg_gamma",
           "Prawn_2"
          ],
          [
           "carapace:undistorted_GX010082_8_59.jpg_gamma",
           "Prawn_3"
          ],
          [
           "carapace:undistorted_GX010082_8_59.jpg_gamma",
           "Prawn_4"
          ],
          [
           "carapace:undistorted_GX010082_8_59.jpg_gamma",
           "Prawn_5"
          ],
          [
           "carapace:undistorted_GX010082_53_796.jpg_gamma",
           "Prawn_0"
          ],
          [
           "carapace:undistorted_GX010082_53_796.jpg_gamma",
           "Prawn_1"
          ],
          [
           "carapace:undistorted_GX010082_65_1070.jpg_gamma",
           "Prawn_0"
          ],
          [
           "carapace:undistorted_GX010082_65_1070.jpg_gamma",
           "Prawn_1"
          ],
          [
           "carapace:undistorted_GX010082_65_1070.jpg_gamma",
           "Prawn_2"
          ],
          [
           "carapace:undistorted_GX010082_236_3137.jpg_gamma",
           "Prawn_1"
          ],
          [
           "carapace:undistorted_GX010082_236_3137.jpg_gamma",
           "Prawn_2"
          ],
          [
           "carapace:undistorted_GX010084_30_344.jpg_gamma",
           "Prawn_0"
          ],
          [
           "carapace:undistorted_GX010084_30_344.jpg_gamma",
           "Prawn_2"
          ],
          [
           "carapace:undistorted_GX010084_30_344.jpg_gamma",
           "Prawn_3"
          ],
          [
           "carapace:undistorted_GX010084_30_344.jpg_gamma",
           "Prawn_5"
          ],
          [
           "carapace:undistorted_GX010084_130_1748.jpg_gamma",
           "Prawn_0"
          ],
          [
           "carapace:undistorted_GX010084_130_1748.jpg_gamma",
           "Prawn_1"
          ],
          [
           "carapace:undistorted_GX010084_130_1748.jpg_gamma",
           "Prawn_2"
          ],
          [
           "carapace:undistorted_GX010084_130_1748.jpg_gamma",
           "Prawn_3"
          ],
          [
           "carapace:undistorted_GX010084_167_2291.jpg_gamma",
           "Prawn_0"
          ],
          [
           "carapace:undistorted_GX010084_167_2291.jpg_gamma",
           "Prawn_1"
          ],
          [
           "carapace:undistorted_GX010085_261_3610.jpg_gamma",
           "Prawn_0"
          ],
          [
           "carapace:undistorted_GX010085_261_3610.jpg_gamma",
           "Prawn_1"
          ],
          [
           "carapace:undistorted_GX010085_261_3610.jpg_gamma",
           "Prawn_2"
          ],
          [
           "carapace:undistorted_GX010085_263_3738.jpg_gamma",
           "Prawn_1"
          ],
          [
           "carapace:undistorted_GX010085_263_3738.jpg_gamma",
           "Prawn_3"
          ],
          [
           "carapace:undistorted_GX010088_262_3712.jpg_gamma",
           "Prawn_0"
          ],
          [
           "carapace:undistorted_GX010088_262_3712.jpg_gamma",
           "Prawn_2"
          ],
          [
           "carapace:undistorted_GX010088_262_3712.jpg_gamma",
           "Prawn_3"
          ],
          [
           "carapace:undistorted_GX010088_262_3712.jpg_gamma",
           "Prawn_4"
          ],
          [
           "carapace:undistorted_GX010088_262_3712.jpg_gamma",
           "Prawn_5"
          ],
          [
           "carapace:undistorted_GX010088_327_4364.jpg_gamma",
           "Prawn_0"
          ],
          [
           "carapace:undistorted_GX010088_327_4364.jpg_gamma",
           "Prawn_1"
          ],
          [
           "carapace:undistorted_GX010088_327_4364.jpg_gamma",
           "Prawn_2"
          ],
          [
           "carapace:undistorted_GX010088_327_4364.jpg_gamma",
           "Prawn_3"
          ],
          [
           "carapace:undistorted_GX010089_11_236.jpg_gamma",
           "Prawn_0"
          ],
          [
           "carapace:undistorted_GX010089_11_236.jpg_gamma",
           "Prawn_1"
          ],
          [
           "carapace:undistorted_GX010089_11_236.jpg_gamma",
           "Prawn_2"
          ],
          [
           "carapace:undistorted_GX010090_132_1852.jpg_gamma",
           "Prawn_0"
          ],
          [
           "carapace:undistorted_GX010090_132_1852.jpg_gamma",
           "Prawn_1"
          ],
          [
           "carapace:undistorted_GX010091_5_149.jpg_gamma",
           "Prawn_0"
          ],
          [
           "carapace:undistorted_GX010091_5_149.jpg_gamma",
           "Prawn_1"
          ],
          [
           "carapace:undistorted_GX010091_5_149.jpg_gamma",
           "Prawn_2"
          ],
          [
           "carapace:undistorted_GX010091_5_149.jpg_gamma",
           "Prawn_3"
          ],
          [
           "carapace:undistorted_GX010094_9_129.jpg_gamma",
           "Prawn_0"
          ],
          [
           "carapace:undistorted_GX010094_9_129.jpg_gamma",
           "Prawn_1"
          ],
          [
           "carapace:undistorted_GX010094_24_430.jpg_gamma",
           "Prawn_0"
          ],
          [
           "carapace:undistorted_GX010094_24_430.jpg_gamma",
           "Prawn_1"
          ],
          [
           "carapace:undistorted_GX010094_24_430.jpg_gamma",
           "Prawn_2"
          ],
          [
           "carapace:undistorted_GX010094_93_1258.jpg_gamma",
           "Prawn_0"
          ],
          [
           "carapace:undistorted_GX010094_93_1258.jpg_gamma",
           "Prawn_1"
          ],
          [
           "carapace:undistorted_GX010094_163_2312.jpg_gamma",
           "Prawn_0"
          ],
          [
           "carapace:undistorted_GX010096_107_1571.jpg_gamma",
           "Prawn_0"
          ],
          [
           "carapace:undistorted_GX010097_32_528.jpg_gamma",
           "Prawn_0"
          ],
          [
           "carapace:undistorted_GX010097_32_528.jpg_gamma",
           "Prawn_1"
          ],
          [
           "carapace:undistorted_GX010097_60_1080.jpg_gamma",
           "Prawn_1"
          ],
          [
           "carapace:undistorted_GX010097_105_1651.jpg_gamma",
           "Prawn_0"
          ],
          [
           "carapace:undistorted_GX010097_105_1651.jpg_gamma",
           "Prawn_1"
          ],
          [
           "carapace:undistorted_GX010097_105_1651.jpg_gamma",
           "Prawn_2"
          ],
          [
           "carapace:undistorted_GX010097_105_1651.jpg_gamma",
           "Prawn_3"
          ],
          [
           "carapace:undistorted_GX010097_124_1870.jpg_gamma",
           "Prawn_1"
          ],
          [
           "carapace:undistorted_GX010101_12_173.jpg_gamma",
           "Prawn_0"
          ],
          [
           "carapace:undistorted_GX010102_9_165.jpg_gamma",
           "Prawn_0"
          ],
          [
           "carapace:undistorted_GX010102_9_165.jpg_gamma",
           "Prawn_3"
          ],
          [
           "carapace:undistorted_GX010102_9_165.jpg_gamma",
           "Prawn_4"
          ],
          [
           "carapace:undistorted_GX010102_50_1396.jpg_gamma",
           "Prawn_0"
          ],
          [
           "carapace:undistorted_GX010105_28_816.jpg_gamma",
           "Prawn_0"
          ],
          [
           "carapace:undistorted_GX010105_28_816.jpg_gamma",
           "Prawn_1"
          ],
          [
           "carapace:undistorted_GX010152_36_378.jpg_gamma",
           "Prawn_1"
          ],
          [
           "carapace:undistorted_GX010152_36_378.jpg_gamma",
           "Prawn_2"
          ],
          [
           "carapace:undistorted_GX010155_78_1170.jpg_gamma",
           "Prawn_0"
          ],
          [
           "carapace:undistorted_GX010157_68_883",
           "Prawn_0"
          ],
          [
           "carapace:undistorted_GX010157_160_2259",
           "Prawn_0"
          ],
          [
           "carapace:undistorted_GX010157_160_2259",
           "Prawn_1"
          ],
          [
           "carapace:undistorted_GX010157_174_2582.jpg_gamma",
           "Prawn_0"
          ],
          [
           "carapace:undistorted_GX010157_177_2665.jpg_gamma",
           "Prawn_0"
          ],
          [
           "carapace:undistorted_GX010161_54_676.jpg_gamma.jpg_gamma",
           "Prawn_0"
          ],
          [
           "carapace:undistorted_GX010161_136_2267.jpg_gamma.jpg_gamma",
           "Prawn_0"
          ],
          [
           "carapace:undistorted_GX010162_72_927.jpg_gamma.jpg_gamma",
           "Prawn_0"
          ],
          [
           "carapace:undistorted_GX010169_121_1249",
           "Prawn_0"
          ],
          [
           "carapace:undistorted_GX010173_75_922.jpg_gamma",
           "Prawn_0"
          ],
          [
           "carapace:undistorted_GX010174_62_790.jpg_gamma",
           "Prawn_0"
          ],
          [
           "carapace:undistorted_GX010174_104_1236",
           "Prawn_0"
          ],
          [
           "carapace:undistorted_GX010175_82_852.jpg_gamma",
           "Prawn_0"
          ],
          [
           "carapace:undistorted_GX010175_215_2644.jpg_gamma",
           "Prawn_0"
          ],
          [
           "carapace:undistorted_GX010175_266_3372.jpg_gamma.jpg_gamma",
           "Prawn_0"
          ],
          [
           "carapace:undistorted_GX010177_232_3047",
           "Prawn_0"
          ],
          [
           "carapace:undistorted_GX010178_107_2118",
           "Prawn_0"
          ],
          [
           "carapace:undistorted_GX010178_107_2118",
           "Prawn_1"
          ],
          [
           "carapace:undistorted_GX010178_114_2258",
           "Prawn_0"
          ],
          [
           "carapace:undistorted_GX010178_189_3987.jpg_gamma",
           "Prawn_0"
          ],
          [
           "carapace:undistorted_GX010178_189_3987.jpg_gamma",
           "Prawn_1"
          ],
          [
           "carapace:undistorted_GX010179_88_1697.jpg_gamma",
           "Prawn_0"
          ],
          [
           "carapace:undistorted_GX010179_200_3927.jpg_gamma",
           "Prawn_0"
          ],
          [
           "carapace:undistorted_GX010180_91_1563",
           "Prawn_0"
          ],
          [
           "carapace:undistorted_GX010180_99_1788",
           "Prawn_0"
          ],
          [
           "carapace:undistorted_GX010181_101_1542",
           "Prawn_0"
          ],
          [
           "carapace:undistorted_GX010183_37_685.jpg_gamma",
           "Prawn_0"
          ],
          [
           "carapace:undistorted_GX010183_37_685.jpg_gamma",
           "Prawn_1"
          ],
          [
           "carapace:undistorted_GX010183_37_685.jpg_gamma",
           "Prawn_2"
          ],
          [
           "carapace:undistorted_GX010183_80_1633.jpg_gamma",
           "Prawn_0"
          ],
          [
           "carapace:undistorted_GX010183_80_1633.jpg_gamma",
           "Prawn_1"
          ],
          [
           "carapace:undistorted_GX010183_128_2852.jpg_gamma",
           "Prawn_0"
          ],
          [
           "carapace:undistorted_GX010183_128_2852.jpg_gamma",
           "Prawn_1"
          ]
         ],
         "hovertemplate": "Pond_Type=%{x}<br>min_percenage_error_min=%{y}<br>Label=%{customdata[0]}<br>PrawnID=%{customdata[1]}<extra></extra>",
         "legendgroup": "",
         "marker": {
          "color": "#636efa"
         },
         "name": "",
         "offsetgroup": "",
         "orientation": "v",
         "points": "all",
         "scalegroup": "True",
         "showlegend": false,
         "type": "violin",
         "x": [
          "test-right",
          "test-right",
          "test-right",
          "test-right",
          "test-right",
          "test-right",
          "test-right",
          "test-right",
          "test-right",
          "test-right",
          "test-right",
          "test-right",
          "test-right",
          "test-right",
          "test-right",
          "test-right",
          "test-right",
          "test-right",
          "test-right",
          "test-right",
          "test-right",
          "test-right",
          "test-right",
          "test-right",
          "test-right",
          "test-right",
          "test-right",
          "test-right",
          "test-right",
          "test-right",
          "test-right",
          "test-right",
          "test-right",
          "test-right",
          "test-right",
          "test-right",
          "test-right",
          "test-right",
          "test-right",
          "test-right",
          "test-right",
          "test-right",
          "test-right",
          "test-right",
          "test-right",
          "test-right",
          "test-right",
          "test-right",
          "test-right",
          "test-right",
          "test-right",
          "test-right",
          "test-right",
          "test-right",
          "test-right",
          "test-right",
          "test-right",
          "test-right",
          "test-right",
          "test-right",
          "test-right",
          "test-right",
          "test-right",
          "test-right",
          "test-right",
          "test-right",
          "test-right",
          "test-right",
          "test-right",
          "test-right",
          "test-right",
          "test-right",
          "test-right",
          "test-right",
          "test-right",
          "test-right",
          "test-right",
          "test-right",
          "test-right",
          "test-left",
          "test-left",
          "test-left",
          "test-right",
          "test-right",
          "test-left",
          "test-left",
          "test-left",
          "test-left",
          "test-right",
          "test-right",
          "test-right",
          "test-right",
          "test-right",
          "test-right",
          "test-right",
          "test-right",
          "test-right",
          "test-right",
          "test-right",
          "test-right",
          "test-right",
          "test-right",
          "test-right",
          "test-right",
          "test-right",
          "test-right",
          "test-left",
          "test-left",
          "test-left",
          "test-left",
          "test-left",
          "test-left",
          "test-car",
          "test-car",
          "test-car",
          "test-car",
          "test-car",
          "test-car",
          "test-car",
          "test-car",
          "test-car",
          "test-car",
          "test-car",
          "test-car",
          "test-car",
          "test-car",
          "test-car",
          "test-car",
          "test-car",
          "test-car",
          "test-car",
          "test-car",
          "test-car",
          "test-car",
          "test-car",
          "test-car",
          "test-car",
          "test-car",
          "test-car",
          "test-car",
          "test-car",
          "test-car",
          "test-car",
          "test-car",
          "test-car",
          "test-car",
          "test-car",
          "test-car"
         ],
         "x0": " ",
         "xaxis": "x",
         "y": [
          6.1473894409601355,
          10.051013514911991,
          5.955076437768211,
          4.707340615411817,
          2.560480534260508,
          3.357556297405729,
          7.087577136298112,
          8.4050376069106,
          7.074414687997758,
          1.2032288565197062,
          20.82379324556464,
          3.29575905697532,
          3.831817092593736,
          20.511844714688575,
          2.0133429455160394,
          14.589515953216207,
          5.734809369992769,
          6.446212203785505,
          0.6896748809722755,
          6.0738694483287725,
          6.6321502472668765,
          10.28901824573967,
          26.52770770430346,
          5.930781374142201,
          27.114104090835845,
          2.670273377809907,
          13.479913070953376,
          13.60892135509598,
          11.262944875145587,
          7.721734632236017,
          19.32139629036883,
          7.676210335694216,
          28.92811868017079,
          4.377112510226225,
          17.88983917169063,
          4.281471506861308,
          5.77897504360069,
          13.80053391454891,
          15.625983033941942,
          11.633893108049914,
          7.986148647321296,
          16.758443412422103,
          14.241211680777678,
          19.81754542091807,
          11.003476380626408,
          9.401022190063436,
          7.143529430864348,
          1.9573840870819097,
          9.970673536509134,
          33.34440359604507,
          14.192233025796112,
          6.74207593681932,
          1.167783986760816,
          21.48373880176908,
          11.611359352710696,
          15.554398846801526,
          1.3178074625334708,
          15.23523002831029,
          2.32112015883023,
          16.42499081399966,
          8.867815029386994,
          1.485924840967847,
          23.498501702053137,
          22.132931987096967,
          10.755385216661582,
          46.300062430228856,
          12.383833559401442,
          8.809688806317512,
          9.945882180633305,
          30.33117677966997,
          18.87342306568008,
          18.15972279402102,
          24.200803504489972,
          19.725898645591982,
          25.824535683295437,
          3.56950508057413,
          7.38017777134378,
          15.779374296995744,
          16.767222995735136,
          14.111223413905769,
          11.721901996619298,
          26.975064519273655,
          8.19008058224373,
          11.102852434545657,
          12.213148094237223,
          7.686250930420148,
          10.551042908678419,
          73.11549964167735,
          3.4928809601182818,
          20.3826380984186,
          0.5389206876288543,
          0.2702572010804538,
          9.975547689572055,
          12.100971829201981,
          1.416171767232324,
          10.809163320761089,
          12.584537553859255,
          16.562923060559346,
          3.9891174598429826,
          5.853770474197164,
          6.735308602338192,
          6.005660390057072,
          4.579898850901895,
          14.351992744675037,
          13.16924584675123,
          11.038526595337817,
          8.295564220650773,
          16.756897763169466,
          0.6588626103110806,
          27.935583683686225,
          33.95074926246269,
          37.904966050567964,
          27.3903848761648,
          33.2993286822533,
          18.591549655444176,
          39.20246970178588,
          24.529877768639334,
          58.17607830247056,
          29.77305384234788,
          26.093625790653597,
          22.39442858829121,
          36.883314481962834,
          4.178098370815081,
          21.031049515795836,
          43.85951059047651,
          18.197199658435892,
          0.7890761349963441,
          4.125099197804535,
          36.54430232902989,
          17.260978770012706,
          19.8004248412526,
          15.929234543908532,
          2.9316229273408037,
          2.480717679346067,
          18.468719200149007,
          7.85462497080745,
          15.086431675529418,
          8.90711874800198,
          14.411078275069741,
          5.361087842735911,
          21.75282149788319,
          37.430164898866046,
          8.038910464734899,
          42.96101256030702,
          17.701712475939463,
          10.889100602145712,
          24.870694804453315,
          7.735888744158586
         ],
         "y0": " ",
         "yaxis": "y"
        }
       ],
       "layout": {
        "legend": {
         "tracegroupgap": 0
        },
        "template": {
         "data": {
          "bar": [
           {
            "error_x": {
             "color": "#2a3f5f"
            },
            "error_y": {
             "color": "#2a3f5f"
            },
            "marker": {
             "line": {
              "color": "#E5ECF6",
              "width": 0.5
             },
             "pattern": {
              "fillmode": "overlay",
              "size": 10,
              "solidity": 0.2
             }
            },
            "type": "bar"
           }
          ],
          "barpolar": [
           {
            "marker": {
             "line": {
              "color": "#E5ECF6",
              "width": 0.5
             },
             "pattern": {
              "fillmode": "overlay",
              "size": 10,
              "solidity": 0.2
             }
            },
            "type": "barpolar"
           }
          ],
          "carpet": [
           {
            "aaxis": {
             "endlinecolor": "#2a3f5f",
             "gridcolor": "white",
             "linecolor": "white",
             "minorgridcolor": "white",
             "startlinecolor": "#2a3f5f"
            },
            "baxis": {
             "endlinecolor": "#2a3f5f",
             "gridcolor": "white",
             "linecolor": "white",
             "minorgridcolor": "white",
             "startlinecolor": "#2a3f5f"
            },
            "type": "carpet"
           }
          ],
          "choropleth": [
           {
            "colorbar": {
             "outlinewidth": 0,
             "ticks": ""
            },
            "type": "choropleth"
           }
          ],
          "contour": [
           {
            "colorbar": {
             "outlinewidth": 0,
             "ticks": ""
            },
            "colorscale": [
             [
              0,
              "#0d0887"
             ],
             [
              0.1111111111111111,
              "#46039f"
             ],
             [
              0.2222222222222222,
              "#7201a8"
             ],
             [
              0.3333333333333333,
              "#9c179e"
             ],
             [
              0.4444444444444444,
              "#bd3786"
             ],
             [
              0.5555555555555556,
              "#d8576b"
             ],
             [
              0.6666666666666666,
              "#ed7953"
             ],
             [
              0.7777777777777778,
              "#fb9f3a"
             ],
             [
              0.8888888888888888,
              "#fdca26"
             ],
             [
              1,
              "#f0f921"
             ]
            ],
            "type": "contour"
           }
          ],
          "contourcarpet": [
           {
            "colorbar": {
             "outlinewidth": 0,
             "ticks": ""
            },
            "type": "contourcarpet"
           }
          ],
          "heatmap": [
           {
            "colorbar": {
             "outlinewidth": 0,
             "ticks": ""
            },
            "colorscale": [
             [
              0,
              "#0d0887"
             ],
             [
              0.1111111111111111,
              "#46039f"
             ],
             [
              0.2222222222222222,
              "#7201a8"
             ],
             [
              0.3333333333333333,
              "#9c179e"
             ],
             [
              0.4444444444444444,
              "#bd3786"
             ],
             [
              0.5555555555555556,
              "#d8576b"
             ],
             [
              0.6666666666666666,
              "#ed7953"
             ],
             [
              0.7777777777777778,
              "#fb9f3a"
             ],
             [
              0.8888888888888888,
              "#fdca26"
             ],
             [
              1,
              "#f0f921"
             ]
            ],
            "type": "heatmap"
           }
          ],
          "heatmapgl": [
           {
            "colorbar": {
             "outlinewidth": 0,
             "ticks": ""
            },
            "colorscale": [
             [
              0,
              "#0d0887"
             ],
             [
              0.1111111111111111,
              "#46039f"
             ],
             [
              0.2222222222222222,
              "#7201a8"
             ],
             [
              0.3333333333333333,
              "#9c179e"
             ],
             [
              0.4444444444444444,
              "#bd3786"
             ],
             [
              0.5555555555555556,
              "#d8576b"
             ],
             [
              0.6666666666666666,
              "#ed7953"
             ],
             [
              0.7777777777777778,
              "#fb9f3a"
             ],
             [
              0.8888888888888888,
              "#fdca26"
             ],
             [
              1,
              "#f0f921"
             ]
            ],
            "type": "heatmapgl"
           }
          ],
          "histogram": [
           {
            "marker": {
             "pattern": {
              "fillmode": "overlay",
              "size": 10,
              "solidity": 0.2
             }
            },
            "type": "histogram"
           }
          ],
          "histogram2d": [
           {
            "colorbar": {
             "outlinewidth": 0,
             "ticks": ""
            },
            "colorscale": [
             [
              0,
              "#0d0887"
             ],
             [
              0.1111111111111111,
              "#46039f"
             ],
             [
              0.2222222222222222,
              "#7201a8"
             ],
             [
              0.3333333333333333,
              "#9c179e"
             ],
             [
              0.4444444444444444,
              "#bd3786"
             ],
             [
              0.5555555555555556,
              "#d8576b"
             ],
             [
              0.6666666666666666,
              "#ed7953"
             ],
             [
              0.7777777777777778,
              "#fb9f3a"
             ],
             [
              0.8888888888888888,
              "#fdca26"
             ],
             [
              1,
              "#f0f921"
             ]
            ],
            "type": "histogram2d"
           }
          ],
          "histogram2dcontour": [
           {
            "colorbar": {
             "outlinewidth": 0,
             "ticks": ""
            },
            "colorscale": [
             [
              0,
              "#0d0887"
             ],
             [
              0.1111111111111111,
              "#46039f"
             ],
             [
              0.2222222222222222,
              "#7201a8"
             ],
             [
              0.3333333333333333,
              "#9c179e"
             ],
             [
              0.4444444444444444,
              "#bd3786"
             ],
             [
              0.5555555555555556,
              "#d8576b"
             ],
             [
              0.6666666666666666,
              "#ed7953"
             ],
             [
              0.7777777777777778,
              "#fb9f3a"
             ],
             [
              0.8888888888888888,
              "#fdca26"
             ],
             [
              1,
              "#f0f921"
             ]
            ],
            "type": "histogram2dcontour"
           }
          ],
          "mesh3d": [
           {
            "colorbar": {
             "outlinewidth": 0,
             "ticks": ""
            },
            "type": "mesh3d"
           }
          ],
          "parcoords": [
           {
            "line": {
             "colorbar": {
              "outlinewidth": 0,
              "ticks": ""
             }
            },
            "type": "parcoords"
           }
          ],
          "pie": [
           {
            "automargin": true,
            "type": "pie"
           }
          ],
          "scatter": [
           {
            "fillpattern": {
             "fillmode": "overlay",
             "size": 10,
             "solidity": 0.2
            },
            "type": "scatter"
           }
          ],
          "scatter3d": [
           {
            "line": {
             "colorbar": {
              "outlinewidth": 0,
              "ticks": ""
             }
            },
            "marker": {
             "colorbar": {
              "outlinewidth": 0,
              "ticks": ""
             }
            },
            "type": "scatter3d"
           }
          ],
          "scattercarpet": [
           {
            "marker": {
             "colorbar": {
              "outlinewidth": 0,
              "ticks": ""
             }
            },
            "type": "scattercarpet"
           }
          ],
          "scattergeo": [
           {
            "marker": {
             "colorbar": {
              "outlinewidth": 0,
              "ticks": ""
             }
            },
            "type": "scattergeo"
           }
          ],
          "scattergl": [
           {
            "marker": {
             "colorbar": {
              "outlinewidth": 0,
              "ticks": ""
             }
            },
            "type": "scattergl"
           }
          ],
          "scattermapbox": [
           {
            "marker": {
             "colorbar": {
              "outlinewidth": 0,
              "ticks": ""
             }
            },
            "type": "scattermapbox"
           }
          ],
          "scatterpolar": [
           {
            "marker": {
             "colorbar": {
              "outlinewidth": 0,
              "ticks": ""
             }
            },
            "type": "scatterpolar"
           }
          ],
          "scatterpolargl": [
           {
            "marker": {
             "colorbar": {
              "outlinewidth": 0,
              "ticks": ""
             }
            },
            "type": "scatterpolargl"
           }
          ],
          "scatterternary": [
           {
            "marker": {
             "colorbar": {
              "outlinewidth": 0,
              "ticks": ""
             }
            },
            "type": "scatterternary"
           }
          ],
          "surface": [
           {
            "colorbar": {
             "outlinewidth": 0,
             "ticks": ""
            },
            "colorscale": [
             [
              0,
              "#0d0887"
             ],
             [
              0.1111111111111111,
              "#46039f"
             ],
             [
              0.2222222222222222,
              "#7201a8"
             ],
             [
              0.3333333333333333,
              "#9c179e"
             ],
             [
              0.4444444444444444,
              "#bd3786"
             ],
             [
              0.5555555555555556,
              "#d8576b"
             ],
             [
              0.6666666666666666,
              "#ed7953"
             ],
             [
              0.7777777777777778,
              "#fb9f3a"
             ],
             [
              0.8888888888888888,
              "#fdca26"
             ],
             [
              1,
              "#f0f921"
             ]
            ],
            "type": "surface"
           }
          ],
          "table": [
           {
            "cells": {
             "fill": {
              "color": "#EBF0F8"
             },
             "line": {
              "color": "white"
             }
            },
            "header": {
             "fill": {
              "color": "#C8D4E3"
             },
             "line": {
              "color": "white"
             }
            },
            "type": "table"
           }
          ]
         },
         "layout": {
          "annotationdefaults": {
           "arrowcolor": "#2a3f5f",
           "arrowhead": 0,
           "arrowwidth": 1
          },
          "autotypenumbers": "strict",
          "coloraxis": {
           "colorbar": {
            "outlinewidth": 0,
            "ticks": ""
           }
          },
          "colorscale": {
           "diverging": [
            [
             0,
             "#8e0152"
            ],
            [
             0.1,
             "#c51b7d"
            ],
            [
             0.2,
             "#de77ae"
            ],
            [
             0.3,
             "#f1b6da"
            ],
            [
             0.4,
             "#fde0ef"
            ],
            [
             0.5,
             "#f7f7f7"
            ],
            [
             0.6,
             "#e6f5d0"
            ],
            [
             0.7,
             "#b8e186"
            ],
            [
             0.8,
             "#7fbc41"
            ],
            [
             0.9,
             "#4d9221"
            ],
            [
             1,
             "#276419"
            ]
           ],
           "sequential": [
            [
             0,
             "#0d0887"
            ],
            [
             0.1111111111111111,
             "#46039f"
            ],
            [
             0.2222222222222222,
             "#7201a8"
            ],
            [
             0.3333333333333333,
             "#9c179e"
            ],
            [
             0.4444444444444444,
             "#bd3786"
            ],
            [
             0.5555555555555556,
             "#d8576b"
            ],
            [
             0.6666666666666666,
             "#ed7953"
            ],
            [
             0.7777777777777778,
             "#fb9f3a"
            ],
            [
             0.8888888888888888,
             "#fdca26"
            ],
            [
             1,
             "#f0f921"
            ]
           ],
           "sequentialminus": [
            [
             0,
             "#0d0887"
            ],
            [
             0.1111111111111111,
             "#46039f"
            ],
            [
             0.2222222222222222,
             "#7201a8"
            ],
            [
             0.3333333333333333,
             "#9c179e"
            ],
            [
             0.4444444444444444,
             "#bd3786"
            ],
            [
             0.5555555555555556,
             "#d8576b"
            ],
            [
             0.6666666666666666,
             "#ed7953"
            ],
            [
             0.7777777777777778,
             "#fb9f3a"
            ],
            [
             0.8888888888888888,
             "#fdca26"
            ],
            [
             1,
             "#f0f921"
            ]
           ]
          },
          "colorway": [
           "#636efa",
           "#EF553B",
           "#00cc96",
           "#ab63fa",
           "#FFA15A",
           "#19d3f3",
           "#FF6692",
           "#B6E880",
           "#FF97FF",
           "#FECB52"
          ],
          "font": {
           "color": "#2a3f5f"
          },
          "geo": {
           "bgcolor": "white",
           "lakecolor": "white",
           "landcolor": "#E5ECF6",
           "showlakes": true,
           "showland": true,
           "subunitcolor": "white"
          },
          "hoverlabel": {
           "align": "left"
          },
          "hovermode": "closest",
          "mapbox": {
           "style": "light"
          },
          "paper_bgcolor": "white",
          "plot_bgcolor": "#E5ECF6",
          "polar": {
           "angularaxis": {
            "gridcolor": "white",
            "linecolor": "white",
            "ticks": ""
           },
           "bgcolor": "#E5ECF6",
           "radialaxis": {
            "gridcolor": "white",
            "linecolor": "white",
            "ticks": ""
           }
          },
          "scene": {
           "xaxis": {
            "backgroundcolor": "#E5ECF6",
            "gridcolor": "white",
            "gridwidth": 2,
            "linecolor": "white",
            "showbackground": true,
            "ticks": "",
            "zerolinecolor": "white"
           },
           "yaxis": {
            "backgroundcolor": "#E5ECF6",
            "gridcolor": "white",
            "gridwidth": 2,
            "linecolor": "white",
            "showbackground": true,
            "ticks": "",
            "zerolinecolor": "white"
           },
           "zaxis": {
            "backgroundcolor": "#E5ECF6",
            "gridcolor": "white",
            "gridwidth": 2,
            "linecolor": "white",
            "showbackground": true,
            "ticks": "",
            "zerolinecolor": "white"
           }
          },
          "shapedefaults": {
           "line": {
            "color": "#2a3f5f"
           }
          },
          "ternary": {
           "aaxis": {
            "gridcolor": "white",
            "linecolor": "white",
            "ticks": ""
           },
           "baxis": {
            "gridcolor": "white",
            "linecolor": "white",
            "ticks": ""
           },
           "bgcolor": "#E5ECF6",
           "caxis": {
            "gridcolor": "white",
            "linecolor": "white",
            "ticks": ""
           }
          },
          "title": {
           "x": 0.05
          },
          "xaxis": {
           "automargin": true,
           "gridcolor": "white",
           "linecolor": "white",
           "ticks": "",
           "title": {
            "standoff": 15
           },
           "zerolinecolor": "white",
           "zerolinewidth": 2
          },
          "yaxis": {
           "automargin": true,
           "gridcolor": "white",
           "linecolor": "white",
           "ticks": "",
           "title": {
            "standoff": 15
           },
           "zerolinecolor": "white",
           "zerolinewidth": 2
          }
         }
        },
        "title": {
         "text": "Violin plot of min_percenage_error_min"
        },
        "violinmode": "group",
        "xaxis": {
         "anchor": "y",
         "domain": [
          0,
          1
         ],
         "title": {
          "text": "Pond_Type"
         }
        },
        "yaxis": {
         "anchor": "x",
         "domain": [
          0,
          1
         ],
         "title": {
          "text": "min_percenage_error_min"
         }
        }
       }
      }
     },
     "metadata": {},
     "output_type": "display_data"
    },
    {
     "data": {
      "application/vnd.plotly.v1+json": {
       "config": {
        "plotlyServerURL": "https://plot.ly"
       },
       "data": [
        {
         "alignmentgroup": "True",
         "box": {
          "visible": true
         },
         "customdata": [
          [
           "carapace:undistorted_GX010067_33_625.jpg_gamma",
           "Prawn_0"
          ],
          [
           "carapace:undistorted_GX010067_33_625.jpg_gamma",
           "Prawn_1"
          ],
          [
           "carapace:undistorted_GX010067_33_625.jpg_gamma",
           "Prawn_2"
          ],
          [
           "carapace:undistorted_GX010067_33_625.jpg_gamma",
           "Prawn_3"
          ],
          [
           "carapace:undistorted_GX010068_26_666.jpg_gamma",
           "Prawn_0"
          ],
          [
           "carapace:undistorted_GX010068_26_666.jpg_gamma",
           "Prawn_1"
          ],
          [
           "carapace:undistorted_GX010068_26_666.jpg_gamma",
           "Prawn_2"
          ],
          [
           "carapace:undistorted_GX010068_27_795.jpg_gamma",
           "Prawn_2"
          ],
          [
           "carapace:undistorted_GX010069_19_191.jpg_gamma",
           "Prawn_0"
          ],
          [
           "carapace:undistorted_GX010069_19_191.jpg_gamma",
           "Prawn_1"
          ],
          [
           "carapace:undistorted_GX010069_19_191.jpg_gamma",
           "Prawn_2"
          ],
          [
           "carapace:undistorted_GX010069_19_191.jpg_gamma",
           "Prawn_3"
          ],
          [
           "carapace:undistorted_GX010069_53_796.jpg_gamma",
           "Prawn_1"
          ],
          [
           "carapace:undistorted_GX010071_22_444.jpg_gamma",
           "Prawn_0"
          ],
          [
           "carapace:undistorted_GX010073_42_695.jpg_gamma",
           "Prawn_0"
          ],
          [
           "carapace:undistorted_GX010073_42_695.jpg_gamma",
           "Prawn_1"
          ],
          [
           "carapace:undistorted_GX010073_42_695.jpg_gamma",
           "Prawn_2"
          ],
          [
           "carapace:undistorted_GX010073_55_1014.jpg_gamma",
           "Prawn_0"
          ],
          [
           "carapace:undistorted_GX010073_55_1014.jpg_gamma",
           "Prawn_3"
          ],
          [
           "carapace:undistorted_GX010077_14_237.jpg_gamma",
           "Prawn_0"
          ],
          [
           "carapace:undistorted_GX010077_14_237.jpg_gamma",
           "Prawn_1"
          ],
          [
           "carapace:undistorted_GX010077_14_237.jpg_gamma",
           "Prawn_2"
          ],
          [
           "carapace:undistorted_GX010080_157_2283.jpg_gamma",
           "Prawn_0"
          ],
          [
           "carapace:undistorted_GX010080_157_2283.jpg_gamma",
           "Prawn_1"
          ],
          [
           "carapace:undistorted_GX010080_157_2283.jpg_gamma",
           "Prawn_2"
          ],
          [
           "carapace:undistorted_GX010080_157_2283.jpg_gamma",
           "Prawn_3"
          ],
          [
           "carapace:undistorted_GX010080_157_2283.jpg_gamma",
           "Prawn_4"
          ],
          [
           "carapace:undistorted_GX010080_193_2640.jpg_gamma",
           "Prawn_0"
          ],
          [
           "carapace:undistorted_GX010080_193_2640.jpg_gamma",
           "Prawn_1"
          ],
          [
           "carapace:undistorted_GX010080_193_2640.jpg_gamma",
           "Prawn_4"
          ],
          [
           "carapace:undistorted_GX010080_212_2954.jpg_gamma",
           "Prawn_0"
          ],
          [
           "carapace:undistorted_GX010080_212_2954.jpg_gamma",
           "Prawn_1"
          ],
          [
           "carapace:undistorted_GX010080_212_2954.jpg_gamma",
           "Prawn_2"
          ],
          [
           "carapace:undistorted_GX010080_237_3366.jpg_gamma",
           "Prawn_0"
          ],
          [
           "carapace:undistorted_GX010080_237_3366.jpg_gamma",
           "Prawn_1"
          ],
          [
           "carapace:undistorted_GX010080_237_3366.jpg_gamma",
           "Prawn_2"
          ],
          [
           "carapace:undistorted_GX010080_237_3366.jpg_gamma",
           "Prawn_3"
          ],
          [
           "carapace:undistorted_GX010080_238_3392.jpg_gamma",
           "Prawn_0"
          ],
          [
           "carapace:undistorted_GX010080_238_3392.jpg_gamma",
           "Prawn_1"
          ],
          [
           "carapace:undistorted_GX010080_238_3392.jpg_gamma",
           "Prawn_2"
          ],
          [
           "carapace:undistorted_GX010080_238_3392.jpg_gamma",
           "Prawn_3"
          ],
          [
           "carapace:undistorted_GX010080_238_3392.jpg_gamma",
           "Prawn_4"
          ],
          [
           "carapace:undistorted_GX010082_8_59.jpg_gamma",
           "Prawn_0"
          ],
          [
           "carapace:undistorted_GX010082_8_59.jpg_gamma",
           "Prawn_1"
          ],
          [
           "carapace:undistorted_GX010082_8_59.jpg_gamma",
           "Prawn_2"
          ],
          [
           "carapace:undistorted_GX010082_8_59.jpg_gamma",
           "Prawn_3"
          ],
          [
           "carapace:undistorted_GX010082_8_59.jpg_gamma",
           "Prawn_4"
          ],
          [
           "carapace:undistorted_GX010082_8_59.jpg_gamma",
           "Prawn_5"
          ],
          [
           "carapace:undistorted_GX010082_53_796.jpg_gamma",
           "Prawn_0"
          ],
          [
           "carapace:undistorted_GX010082_53_796.jpg_gamma",
           "Prawn_1"
          ],
          [
           "carapace:undistorted_GX010082_65_1070.jpg_gamma",
           "Prawn_0"
          ],
          [
           "carapace:undistorted_GX010082_65_1070.jpg_gamma",
           "Prawn_1"
          ],
          [
           "carapace:undistorted_GX010082_65_1070.jpg_gamma",
           "Prawn_2"
          ],
          [
           "carapace:undistorted_GX010082_236_3137.jpg_gamma",
           "Prawn_1"
          ],
          [
           "carapace:undistorted_GX010082_236_3137.jpg_gamma",
           "Prawn_2"
          ],
          [
           "carapace:undistorted_GX010084_30_344.jpg_gamma",
           "Prawn_0"
          ],
          [
           "carapace:undistorted_GX010084_30_344.jpg_gamma",
           "Prawn_2"
          ],
          [
           "carapace:undistorted_GX010084_30_344.jpg_gamma",
           "Prawn_3"
          ],
          [
           "carapace:undistorted_GX010084_30_344.jpg_gamma",
           "Prawn_5"
          ],
          [
           "carapace:undistorted_GX010084_130_1748.jpg_gamma",
           "Prawn_0"
          ],
          [
           "carapace:undistorted_GX010084_130_1748.jpg_gamma",
           "Prawn_1"
          ],
          [
           "carapace:undistorted_GX010084_130_1748.jpg_gamma",
           "Prawn_2"
          ],
          [
           "carapace:undistorted_GX010084_130_1748.jpg_gamma",
           "Prawn_3"
          ],
          [
           "carapace:undistorted_GX010084_167_2291.jpg_gamma",
           "Prawn_0"
          ],
          [
           "carapace:undistorted_GX010084_167_2291.jpg_gamma",
           "Prawn_1"
          ],
          [
           "carapace:undistorted_GX010085_261_3610.jpg_gamma",
           "Prawn_0"
          ],
          [
           "carapace:undistorted_GX010085_261_3610.jpg_gamma",
           "Prawn_1"
          ],
          [
           "carapace:undistorted_GX010085_261_3610.jpg_gamma",
           "Prawn_2"
          ],
          [
           "carapace:undistorted_GX010085_263_3738.jpg_gamma",
           "Prawn_1"
          ],
          [
           "carapace:undistorted_GX010085_263_3738.jpg_gamma",
           "Prawn_3"
          ],
          [
           "carapace:undistorted_GX010088_262_3712.jpg_gamma",
           "Prawn_0"
          ],
          [
           "carapace:undistorted_GX010088_262_3712.jpg_gamma",
           "Prawn_2"
          ],
          [
           "carapace:undistorted_GX010088_262_3712.jpg_gamma",
           "Prawn_3"
          ],
          [
           "carapace:undistorted_GX010088_262_3712.jpg_gamma",
           "Prawn_4"
          ],
          [
           "carapace:undistorted_GX010088_262_3712.jpg_gamma",
           "Prawn_5"
          ],
          [
           "carapace:undistorted_GX010088_327_4364.jpg_gamma",
           "Prawn_0"
          ],
          [
           "carapace:undistorted_GX010088_327_4364.jpg_gamma",
           "Prawn_1"
          ],
          [
           "carapace:undistorted_GX010088_327_4364.jpg_gamma",
           "Prawn_2"
          ],
          [
           "carapace:undistorted_GX010088_327_4364.jpg_gamma",
           "Prawn_3"
          ],
          [
           "carapace:undistorted_GX010089_11_236.jpg_gamma",
           "Prawn_0"
          ],
          [
           "carapace:undistorted_GX010089_11_236.jpg_gamma",
           "Prawn_1"
          ],
          [
           "carapace:undistorted_GX010089_11_236.jpg_gamma",
           "Prawn_2"
          ],
          [
           "carapace:undistorted_GX010090_132_1852.jpg_gamma",
           "Prawn_0"
          ],
          [
           "carapace:undistorted_GX010090_132_1852.jpg_gamma",
           "Prawn_1"
          ],
          [
           "carapace:undistorted_GX010091_5_149.jpg_gamma",
           "Prawn_0"
          ],
          [
           "carapace:undistorted_GX010091_5_149.jpg_gamma",
           "Prawn_1"
          ],
          [
           "carapace:undistorted_GX010091_5_149.jpg_gamma",
           "Prawn_2"
          ],
          [
           "carapace:undistorted_GX010091_5_149.jpg_gamma",
           "Prawn_3"
          ],
          [
           "carapace:undistorted_GX010094_9_129.jpg_gamma",
           "Prawn_0"
          ],
          [
           "carapace:undistorted_GX010094_9_129.jpg_gamma",
           "Prawn_1"
          ],
          [
           "carapace:undistorted_GX010094_24_430.jpg_gamma",
           "Prawn_0"
          ],
          [
           "carapace:undistorted_GX010094_24_430.jpg_gamma",
           "Prawn_1"
          ],
          [
           "carapace:undistorted_GX010094_24_430.jpg_gamma",
           "Prawn_2"
          ],
          [
           "carapace:undistorted_GX010094_93_1258.jpg_gamma",
           "Prawn_0"
          ],
          [
           "carapace:undistorted_GX010094_93_1258.jpg_gamma",
           "Prawn_1"
          ],
          [
           "carapace:undistorted_GX010094_163_2312.jpg_gamma",
           "Prawn_0"
          ],
          [
           "carapace:undistorted_GX010096_107_1571.jpg_gamma",
           "Prawn_0"
          ],
          [
           "carapace:undistorted_GX010097_32_528.jpg_gamma",
           "Prawn_0"
          ],
          [
           "carapace:undistorted_GX010097_32_528.jpg_gamma",
           "Prawn_1"
          ],
          [
           "carapace:undistorted_GX010097_60_1080.jpg_gamma",
           "Prawn_1"
          ],
          [
           "carapace:undistorted_GX010097_105_1651.jpg_gamma",
           "Prawn_0"
          ],
          [
           "carapace:undistorted_GX010097_105_1651.jpg_gamma",
           "Prawn_1"
          ],
          [
           "carapace:undistorted_GX010097_105_1651.jpg_gamma",
           "Prawn_2"
          ],
          [
           "carapace:undistorted_GX010097_105_1651.jpg_gamma",
           "Prawn_3"
          ],
          [
           "carapace:undistorted_GX010097_124_1870.jpg_gamma",
           "Prawn_1"
          ],
          [
           "carapace:undistorted_GX010101_12_173.jpg_gamma",
           "Prawn_0"
          ],
          [
           "carapace:undistorted_GX010102_9_165.jpg_gamma",
           "Prawn_0"
          ],
          [
           "carapace:undistorted_GX010102_9_165.jpg_gamma",
           "Prawn_3"
          ],
          [
           "carapace:undistorted_GX010102_9_165.jpg_gamma",
           "Prawn_4"
          ],
          [
           "carapace:undistorted_GX010102_50_1396.jpg_gamma",
           "Prawn_0"
          ],
          [
           "carapace:undistorted_GX010105_28_816.jpg_gamma",
           "Prawn_0"
          ],
          [
           "carapace:undistorted_GX010105_28_816.jpg_gamma",
           "Prawn_1"
          ],
          [
           "carapace:undistorted_GX010152_36_378.jpg_gamma",
           "Prawn_1"
          ],
          [
           "carapace:undistorted_GX010152_36_378.jpg_gamma",
           "Prawn_2"
          ],
          [
           "carapace:undistorted_GX010155_78_1170.jpg_gamma",
           "Prawn_0"
          ],
          [
           "carapace:undistorted_GX010157_68_883",
           "Prawn_0"
          ],
          [
           "carapace:undistorted_GX010157_160_2259",
           "Prawn_0"
          ],
          [
           "carapace:undistorted_GX010157_160_2259",
           "Prawn_1"
          ],
          [
           "carapace:undistorted_GX010157_174_2582.jpg_gamma",
           "Prawn_0"
          ],
          [
           "carapace:undistorted_GX010157_177_2665.jpg_gamma",
           "Prawn_0"
          ],
          [
           "carapace:undistorted_GX010161_54_676.jpg_gamma.jpg_gamma",
           "Prawn_0"
          ],
          [
           "carapace:undistorted_GX010161_136_2267.jpg_gamma.jpg_gamma",
           "Prawn_0"
          ],
          [
           "carapace:undistorted_GX010162_72_927.jpg_gamma.jpg_gamma",
           "Prawn_0"
          ],
          [
           "carapace:undistorted_GX010169_121_1249",
           "Prawn_0"
          ],
          [
           "carapace:undistorted_GX010173_75_922.jpg_gamma",
           "Prawn_0"
          ],
          [
           "carapace:undistorted_GX010174_62_790.jpg_gamma",
           "Prawn_0"
          ],
          [
           "carapace:undistorted_GX010174_104_1236",
           "Prawn_0"
          ],
          [
           "carapace:undistorted_GX010175_82_852.jpg_gamma",
           "Prawn_0"
          ],
          [
           "carapace:undistorted_GX010175_215_2644.jpg_gamma",
           "Prawn_0"
          ],
          [
           "carapace:undistorted_GX010175_266_3372.jpg_gamma.jpg_gamma",
           "Prawn_0"
          ],
          [
           "carapace:undistorted_GX010177_232_3047",
           "Prawn_0"
          ],
          [
           "carapace:undistorted_GX010178_107_2118",
           "Prawn_0"
          ],
          [
           "carapace:undistorted_GX010178_107_2118",
           "Prawn_1"
          ],
          [
           "carapace:undistorted_GX010178_114_2258",
           "Prawn_0"
          ],
          [
           "carapace:undistorted_GX010178_189_3987.jpg_gamma",
           "Prawn_0"
          ],
          [
           "carapace:undistorted_GX010178_189_3987.jpg_gamma",
           "Prawn_1"
          ],
          [
           "carapace:undistorted_GX010179_88_1697.jpg_gamma",
           "Prawn_0"
          ],
          [
           "carapace:undistorted_GX010179_200_3927.jpg_gamma",
           "Prawn_0"
          ],
          [
           "carapace:undistorted_GX010180_91_1563",
           "Prawn_0"
          ],
          [
           "carapace:undistorted_GX010180_99_1788",
           "Prawn_0"
          ],
          [
           "carapace:undistorted_GX010181_101_1542",
           "Prawn_0"
          ],
          [
           "carapace:undistorted_GX010183_37_685.jpg_gamma",
           "Prawn_0"
          ],
          [
           "carapace:undistorted_GX010183_37_685.jpg_gamma",
           "Prawn_1"
          ],
          [
           "carapace:undistorted_GX010183_37_685.jpg_gamma",
           "Prawn_2"
          ],
          [
           "carapace:undistorted_GX010183_80_1633.jpg_gamma",
           "Prawn_0"
          ],
          [
           "carapace:undistorted_GX010183_80_1633.jpg_gamma",
           "Prawn_1"
          ],
          [
           "carapace:undistorted_GX010183_128_2852.jpg_gamma",
           "Prawn_0"
          ],
          [
           "carapace:undistorted_GX010183_128_2852.jpg_gamma",
           "Prawn_1"
          ]
         ],
         "hovertemplate": "Pond_Type=%{x}<br>MAE_min=%{y}<br>Label=%{customdata[0]}<br>PrawnID=%{customdata[1]}<extra></extra>",
         "legendgroup": "",
         "marker": {
          "color": "#636efa"
         },
         "name": "",
         "offsetgroup": "",
         "orientation": "v",
         "points": "all",
         "scalegroup": "True",
         "showlegend": false,
         "type": "violin",
         "x": [
          "test-right",
          "test-right",
          "test-right",
          "test-right",
          "test-right",
          "test-right",
          "test-right",
          "test-right",
          "test-right",
          "test-right",
          "test-right",
          "test-right",
          "test-right",
          "test-right",
          "test-right",
          "test-right",
          "test-right",
          "test-right",
          "test-right",
          "test-right",
          "test-right",
          "test-right",
          "test-right",
          "test-right",
          "test-right",
          "test-right",
          "test-right",
          "test-right",
          "test-right",
          "test-right",
          "test-right",
          "test-right",
          "test-right",
          "test-right",
          "test-right",
          "test-right",
          "test-right",
          "test-right",
          "test-right",
          "test-right",
          "test-right",
          "test-right",
          "test-right",
          "test-right",
          "test-right",
          "test-right",
          "test-right",
          "test-right",
          "test-right",
          "test-right",
          "test-right",
          "test-right",
          "test-right",
          "test-right",
          "test-right",
          "test-right",
          "test-right",
          "test-right",
          "test-right",
          "test-right",
          "test-right",
          "test-right",
          "test-right",
          "test-right",
          "test-right",
          "test-right",
          "test-right",
          "test-right",
          "test-right",
          "test-right",
          "test-right",
          "test-right",
          "test-right",
          "test-right",
          "test-right",
          "test-right",
          "test-right",
          "test-right",
          "test-right",
          "test-left",
          "test-left",
          "test-left",
          "test-right",
          "test-right",
          "test-left",
          "test-left",
          "test-left",
          "test-left",
          "test-right",
          "test-right",
          "test-right",
          "test-right",
          "test-right",
          "test-right",
          "test-right",
          "test-right",
          "test-right",
          "test-right",
          "test-right",
          "test-right",
          "test-right",
          "test-right",
          "test-right",
          "test-right",
          "test-right",
          "test-right",
          "test-left",
          "test-left",
          "test-left",
          "test-left",
          "test-left",
          "test-left",
          "test-car",
          "test-car",
          "test-car",
          "test-car",
          "test-car",
          "test-car",
          "test-car",
          "test-car",
          "test-car",
          "test-car",
          "test-car",
          "test-car",
          "test-car",
          "test-car",
          "test-car",
          "test-car",
          "test-car",
          "test-car",
          "test-car",
          "test-car",
          "test-car",
          "test-car",
          "test-car",
          "test-car",
          "test-car",
          "test-car",
          "test-car",
          "test-car",
          "test-car",
          "test-car",
          "test-car",
          "test-car",
          "test-car",
          "test-car",
          "test-car",
          "test-car"
         ],
         "x0": " ",
         "xaxis": "x",
         "y": [
          2.446783945290953,
          2.4477233212865173,
          2.409066622134752,
          1.1062721180279311,
          0.7745965712244889,
          1.0360747222534599,
          2.2431472878669894,
          2.5080632219021233,
          2.1304599832905247,
          0.39047182851777507,
          5.07392546221428,
          0.9656244461031989,
          1.378764426257078,
          7.8945987937893385,
          0.4686055705688581,
          6.2724705937662435,
          1.7139051283160391,
          2.2541759455417534,
          0.1774188631301179,
          1.440114446198752,
          2.276551893876828,
          3.2472141583554404,
          6.642007455003501,
          1.807287008142353,
          10.486650898171671,
          0.8914440644480592,
          3.8258689277979876,
          4.029601613243919,
          4.344568356138659,
          2.1217010248994903,
          5.2500098000190185,
          2.271774448848703,
          8.819026260836868,
          1.5545752791319458,
          6.276113378212507,
          1.1869523458471605,
          1.87157885762052,
          4.9397631093736365,
          5.102664759733742,
          3.8668733912536304,
          2.7136933103597762,
          5.157913713475274,
          4.442403571701789,
          6.35191965831266,
          3.9766563639583836,
          3.3302181006080716,
          1.7835964282982104,
          0.47867827849588096,
          3.6882518478900934,
          5.636871427911419,
          3.614194062349238,
          2.7403841852795807,
          0.39377676033574716,
          6.4728356635850055,
          3.867511573200879,
          4.3203898236875915,
          0.37930452194100894,
          5.328216997800958,
          0.7146728969038278,
          5.7356067922486815,
          3.4516196438883,
          0.37333861629317155,
          8.755541734184998,
          9.928169301452087,
          4.624708089312314,
          11.101365968895973,
          3.865365968895972,
          2.1986340353926614,
          3.6841536773501886,
          10.3392915406539,
          7.520115420520227,
          6.805719311515258,
          9.961776746553205,
          7.62701871131814,
          10.806018711318142,
          1.0624631872328898,
          2.504610930260938,
          5.424791089564167,
          6.533013095828281,
          3.48025103057158,
          2.5556090733029393,
          6.0111233774749415,
          2.725331214547424,
          3.844473683985779,
          2.054251509450701,
          2.335467345208162,
          2.877796953342038,
          7.495801023264762,
          0.853101245699289,
          5.745458027182234,
          0.1628779994220686,
          0.08293382729555887,
          2.541969062256751,
          3.1562964822107524,
          0.4082964822107513,
          3.5656187046194603,
          4.0673225374073105,
          6.754856911787918,
          1.0583527532709418,
          1.2626582912843283,
          2.4392593634227993,
          2.519854986460146,
          1.4206846235497679,
          4.223934984685311,
          4.01951721734541,
          4.33218014760628,
          2.1628195036080697,
          3.091815206282398,
          0.1330309496479103,
          7.536461766184871,
          4.517147189370661,
          8.185577418620152,
          10.695123582596068,
          13.097624950590689,
          5.724709969904371,
          11.471818708833602,
          7.174008052216259,
          21.105699447353295,
          10.685251293480231,
          9.10406603835904,
          7.254899085462821,
          15.898921540594902,
          1.0747740249084714,
          6.969479499039583,
          15.067496268252299,
          6.551901737019843,
          0.22820081824094274,
          1.3373984109202084,
          13.225383012875916,
          4.371515483293418,
          6.79530780126948,
          4.505424698399089,
          1.0049017070338806,
          1.126543512544636,
          6.38574435064352,
          3.1110598584374145,
          4.557912737810948,
          3.19177693215903,
          4.500723856087031,
          1.6018930474094901,
          7.36333007703346,
          12.387887374928706,
          1.9480691729192081,
          15.424292339527028,
          6.517947550765669,
          3.7029475507656713,
          7.705687371263771,
          1.9516873712637697
         ],
         "y0": " ",
         "yaxis": "y"
        }
       ],
       "layout": {
        "legend": {
         "tracegroupgap": 0
        },
        "template": {
         "data": {
          "bar": [
           {
            "error_x": {
             "color": "#2a3f5f"
            },
            "error_y": {
             "color": "#2a3f5f"
            },
            "marker": {
             "line": {
              "color": "#E5ECF6",
              "width": 0.5
             },
             "pattern": {
              "fillmode": "overlay",
              "size": 10,
              "solidity": 0.2
             }
            },
            "type": "bar"
           }
          ],
          "barpolar": [
           {
            "marker": {
             "line": {
              "color": "#E5ECF6",
              "width": 0.5
             },
             "pattern": {
              "fillmode": "overlay",
              "size": 10,
              "solidity": 0.2
             }
            },
            "type": "barpolar"
           }
          ],
          "carpet": [
           {
            "aaxis": {
             "endlinecolor": "#2a3f5f",
             "gridcolor": "white",
             "linecolor": "white",
             "minorgridcolor": "white",
             "startlinecolor": "#2a3f5f"
            },
            "baxis": {
             "endlinecolor": "#2a3f5f",
             "gridcolor": "white",
             "linecolor": "white",
             "minorgridcolor": "white",
             "startlinecolor": "#2a3f5f"
            },
            "type": "carpet"
           }
          ],
          "choropleth": [
           {
            "colorbar": {
             "outlinewidth": 0,
             "ticks": ""
            },
            "type": "choropleth"
           }
          ],
          "contour": [
           {
            "colorbar": {
             "outlinewidth": 0,
             "ticks": ""
            },
            "colorscale": [
             [
              0,
              "#0d0887"
             ],
             [
              0.1111111111111111,
              "#46039f"
             ],
             [
              0.2222222222222222,
              "#7201a8"
             ],
             [
              0.3333333333333333,
              "#9c179e"
             ],
             [
              0.4444444444444444,
              "#bd3786"
             ],
             [
              0.5555555555555556,
              "#d8576b"
             ],
             [
              0.6666666666666666,
              "#ed7953"
             ],
             [
              0.7777777777777778,
              "#fb9f3a"
             ],
             [
              0.8888888888888888,
              "#fdca26"
             ],
             [
              1,
              "#f0f921"
             ]
            ],
            "type": "contour"
           }
          ],
          "contourcarpet": [
           {
            "colorbar": {
             "outlinewidth": 0,
             "ticks": ""
            },
            "type": "contourcarpet"
           }
          ],
          "heatmap": [
           {
            "colorbar": {
             "outlinewidth": 0,
             "ticks": ""
            },
            "colorscale": [
             [
              0,
              "#0d0887"
             ],
             [
              0.1111111111111111,
              "#46039f"
             ],
             [
              0.2222222222222222,
              "#7201a8"
             ],
             [
              0.3333333333333333,
              "#9c179e"
             ],
             [
              0.4444444444444444,
              "#bd3786"
             ],
             [
              0.5555555555555556,
              "#d8576b"
             ],
             [
              0.6666666666666666,
              "#ed7953"
             ],
             [
              0.7777777777777778,
              "#fb9f3a"
             ],
             [
              0.8888888888888888,
              "#fdca26"
             ],
             [
              1,
              "#f0f921"
             ]
            ],
            "type": "heatmap"
           }
          ],
          "heatmapgl": [
           {
            "colorbar": {
             "outlinewidth": 0,
             "ticks": ""
            },
            "colorscale": [
             [
              0,
              "#0d0887"
             ],
             [
              0.1111111111111111,
              "#46039f"
             ],
             [
              0.2222222222222222,
              "#7201a8"
             ],
             [
              0.3333333333333333,
              "#9c179e"
             ],
             [
              0.4444444444444444,
              "#bd3786"
             ],
             [
              0.5555555555555556,
              "#d8576b"
             ],
             [
              0.6666666666666666,
              "#ed7953"
             ],
             [
              0.7777777777777778,
              "#fb9f3a"
             ],
             [
              0.8888888888888888,
              "#fdca26"
             ],
             [
              1,
              "#f0f921"
             ]
            ],
            "type": "heatmapgl"
           }
          ],
          "histogram": [
           {
            "marker": {
             "pattern": {
              "fillmode": "overlay",
              "size": 10,
              "solidity": 0.2
             }
            },
            "type": "histogram"
           }
          ],
          "histogram2d": [
           {
            "colorbar": {
             "outlinewidth": 0,
             "ticks": ""
            },
            "colorscale": [
             [
              0,
              "#0d0887"
             ],
             [
              0.1111111111111111,
              "#46039f"
             ],
             [
              0.2222222222222222,
              "#7201a8"
             ],
             [
              0.3333333333333333,
              "#9c179e"
             ],
             [
              0.4444444444444444,
              "#bd3786"
             ],
             [
              0.5555555555555556,
              "#d8576b"
             ],
             [
              0.6666666666666666,
              "#ed7953"
             ],
             [
              0.7777777777777778,
              "#fb9f3a"
             ],
             [
              0.8888888888888888,
              "#fdca26"
             ],
             [
              1,
              "#f0f921"
             ]
            ],
            "type": "histogram2d"
           }
          ],
          "histogram2dcontour": [
           {
            "colorbar": {
             "outlinewidth": 0,
             "ticks": ""
            },
            "colorscale": [
             [
              0,
              "#0d0887"
             ],
             [
              0.1111111111111111,
              "#46039f"
             ],
             [
              0.2222222222222222,
              "#7201a8"
             ],
             [
              0.3333333333333333,
              "#9c179e"
             ],
             [
              0.4444444444444444,
              "#bd3786"
             ],
             [
              0.5555555555555556,
              "#d8576b"
             ],
             [
              0.6666666666666666,
              "#ed7953"
             ],
             [
              0.7777777777777778,
              "#fb9f3a"
             ],
             [
              0.8888888888888888,
              "#fdca26"
             ],
             [
              1,
              "#f0f921"
             ]
            ],
            "type": "histogram2dcontour"
           }
          ],
          "mesh3d": [
           {
            "colorbar": {
             "outlinewidth": 0,
             "ticks": ""
            },
            "type": "mesh3d"
           }
          ],
          "parcoords": [
           {
            "line": {
             "colorbar": {
              "outlinewidth": 0,
              "ticks": ""
             }
            },
            "type": "parcoords"
           }
          ],
          "pie": [
           {
            "automargin": true,
            "type": "pie"
           }
          ],
          "scatter": [
           {
            "fillpattern": {
             "fillmode": "overlay",
             "size": 10,
             "solidity": 0.2
            },
            "type": "scatter"
           }
          ],
          "scatter3d": [
           {
            "line": {
             "colorbar": {
              "outlinewidth": 0,
              "ticks": ""
             }
            },
            "marker": {
             "colorbar": {
              "outlinewidth": 0,
              "ticks": ""
             }
            },
            "type": "scatter3d"
           }
          ],
          "scattercarpet": [
           {
            "marker": {
             "colorbar": {
              "outlinewidth": 0,
              "ticks": ""
             }
            },
            "type": "scattercarpet"
           }
          ],
          "scattergeo": [
           {
            "marker": {
             "colorbar": {
              "outlinewidth": 0,
              "ticks": ""
             }
            },
            "type": "scattergeo"
           }
          ],
          "scattergl": [
           {
            "marker": {
             "colorbar": {
              "outlinewidth": 0,
              "ticks": ""
             }
            },
            "type": "scattergl"
           }
          ],
          "scattermapbox": [
           {
            "marker": {
             "colorbar": {
              "outlinewidth": 0,
              "ticks": ""
             }
            },
            "type": "scattermapbox"
           }
          ],
          "scatterpolar": [
           {
            "marker": {
             "colorbar": {
              "outlinewidth": 0,
              "ticks": ""
             }
            },
            "type": "scatterpolar"
           }
          ],
          "scatterpolargl": [
           {
            "marker": {
             "colorbar": {
              "outlinewidth": 0,
              "ticks": ""
             }
            },
            "type": "scatterpolargl"
           }
          ],
          "scatterternary": [
           {
            "marker": {
             "colorbar": {
              "outlinewidth": 0,
              "ticks": ""
             }
            },
            "type": "scatterternary"
           }
          ],
          "surface": [
           {
            "colorbar": {
             "outlinewidth": 0,
             "ticks": ""
            },
            "colorscale": [
             [
              0,
              "#0d0887"
             ],
             [
              0.1111111111111111,
              "#46039f"
             ],
             [
              0.2222222222222222,
              "#7201a8"
             ],
             [
              0.3333333333333333,
              "#9c179e"
             ],
             [
              0.4444444444444444,
              "#bd3786"
             ],
             [
              0.5555555555555556,
              "#d8576b"
             ],
             [
              0.6666666666666666,
              "#ed7953"
             ],
             [
              0.7777777777777778,
              "#fb9f3a"
             ],
             [
              0.8888888888888888,
              "#fdca26"
             ],
             [
              1,
              "#f0f921"
             ]
            ],
            "type": "surface"
           }
          ],
          "table": [
           {
            "cells": {
             "fill": {
              "color": "#EBF0F8"
             },
             "line": {
              "color": "white"
             }
            },
            "header": {
             "fill": {
              "color": "#C8D4E3"
             },
             "line": {
              "color": "white"
             }
            },
            "type": "table"
           }
          ]
         },
         "layout": {
          "annotationdefaults": {
           "arrowcolor": "#2a3f5f",
           "arrowhead": 0,
           "arrowwidth": 1
          },
          "autotypenumbers": "strict",
          "coloraxis": {
           "colorbar": {
            "outlinewidth": 0,
            "ticks": ""
           }
          },
          "colorscale": {
           "diverging": [
            [
             0,
             "#8e0152"
            ],
            [
             0.1,
             "#c51b7d"
            ],
            [
             0.2,
             "#de77ae"
            ],
            [
             0.3,
             "#f1b6da"
            ],
            [
             0.4,
             "#fde0ef"
            ],
            [
             0.5,
             "#f7f7f7"
            ],
            [
             0.6,
             "#e6f5d0"
            ],
            [
             0.7,
             "#b8e186"
            ],
            [
             0.8,
             "#7fbc41"
            ],
            [
             0.9,
             "#4d9221"
            ],
            [
             1,
             "#276419"
            ]
           ],
           "sequential": [
            [
             0,
             "#0d0887"
            ],
            [
             0.1111111111111111,
             "#46039f"
            ],
            [
             0.2222222222222222,
             "#7201a8"
            ],
            [
             0.3333333333333333,
             "#9c179e"
            ],
            [
             0.4444444444444444,
             "#bd3786"
            ],
            [
             0.5555555555555556,
             "#d8576b"
            ],
            [
             0.6666666666666666,
             "#ed7953"
            ],
            [
             0.7777777777777778,
             "#fb9f3a"
            ],
            [
             0.8888888888888888,
             "#fdca26"
            ],
            [
             1,
             "#f0f921"
            ]
           ],
           "sequentialminus": [
            [
             0,
             "#0d0887"
            ],
            [
             0.1111111111111111,
             "#46039f"
            ],
            [
             0.2222222222222222,
             "#7201a8"
            ],
            [
             0.3333333333333333,
             "#9c179e"
            ],
            [
             0.4444444444444444,
             "#bd3786"
            ],
            [
             0.5555555555555556,
             "#d8576b"
            ],
            [
             0.6666666666666666,
             "#ed7953"
            ],
            [
             0.7777777777777778,
             "#fb9f3a"
            ],
            [
             0.8888888888888888,
             "#fdca26"
            ],
            [
             1,
             "#f0f921"
            ]
           ]
          },
          "colorway": [
           "#636efa",
           "#EF553B",
           "#00cc96",
           "#ab63fa",
           "#FFA15A",
           "#19d3f3",
           "#FF6692",
           "#B6E880",
           "#FF97FF",
           "#FECB52"
          ],
          "font": {
           "color": "#2a3f5f"
          },
          "geo": {
           "bgcolor": "white",
           "lakecolor": "white",
           "landcolor": "#E5ECF6",
           "showlakes": true,
           "showland": true,
           "subunitcolor": "white"
          },
          "hoverlabel": {
           "align": "left"
          },
          "hovermode": "closest",
          "mapbox": {
           "style": "light"
          },
          "paper_bgcolor": "white",
          "plot_bgcolor": "#E5ECF6",
          "polar": {
           "angularaxis": {
            "gridcolor": "white",
            "linecolor": "white",
            "ticks": ""
           },
           "bgcolor": "#E5ECF6",
           "radialaxis": {
            "gridcolor": "white",
            "linecolor": "white",
            "ticks": ""
           }
          },
          "scene": {
           "xaxis": {
            "backgroundcolor": "#E5ECF6",
            "gridcolor": "white",
            "gridwidth": 2,
            "linecolor": "white",
            "showbackground": true,
            "ticks": "",
            "zerolinecolor": "white"
           },
           "yaxis": {
            "backgroundcolor": "#E5ECF6",
            "gridcolor": "white",
            "gridwidth": 2,
            "linecolor": "white",
            "showbackground": true,
            "ticks": "",
            "zerolinecolor": "white"
           },
           "zaxis": {
            "backgroundcolor": "#E5ECF6",
            "gridcolor": "white",
            "gridwidth": 2,
            "linecolor": "white",
            "showbackground": true,
            "ticks": "",
            "zerolinecolor": "white"
           }
          },
          "shapedefaults": {
           "line": {
            "color": "#2a3f5f"
           }
          },
          "ternary": {
           "aaxis": {
            "gridcolor": "white",
            "linecolor": "white",
            "ticks": ""
           },
           "baxis": {
            "gridcolor": "white",
            "linecolor": "white",
            "ticks": ""
           },
           "bgcolor": "#E5ECF6",
           "caxis": {
            "gridcolor": "white",
            "linecolor": "white",
            "ticks": ""
           }
          },
          "title": {
           "x": 0.05
          },
          "xaxis": {
           "automargin": true,
           "gridcolor": "white",
           "linecolor": "white",
           "ticks": "",
           "title": {
            "standoff": 15
           },
           "zerolinecolor": "white",
           "zerolinewidth": 2
          },
          "yaxis": {
           "automargin": true,
           "gridcolor": "white",
           "linecolor": "white",
           "ticks": "",
           "title": {
            "standoff": 15
           },
           "zerolinecolor": "white",
           "zerolinewidth": 2
          }
         }
        },
        "title": {
         "text": "Violin plot of MAE_min"
        },
        "violinmode": "group",
        "xaxis": {
         "anchor": "y",
         "domain": [
          0,
          1
         ],
         "title": {
          "text": "Pond_Type"
         }
        },
        "yaxis": {
         "anchor": "x",
         "domain": [
          0,
          1
         ],
         "title": {
          "text": "MAE_min"
         }
        }
       }
      }
     },
     "metadata": {},
     "output_type": "display_data"
    }
   ],
   "source": [
    "import pandas as pd\n",
    "import seaborn as sns\n",
    "import matplotlib.pyplot as plt\n",
    "from scipy.stats import pearsonr, spearmanr, shapiro, levene\n",
    "# import pingouin as pg\n",
    "import statsmodels.api as sm\n",
    "import numpy as np\n",
    "\n",
    "# Load your data\n",
    "\n",
    "# Calculate expert averages and standard deviations\n",
    "df['expert_mean'] = df[['Length_1', 'Length_2', 'Length_3']].median(axis=1)\n",
    "df['expert_std'] = df[['Length_1', 'Length_2', 'Length_3']].std(axis=1)\n",
    "\n",
    "df['expert_max'] = df[['Length_1', 'Length_2', 'Length_3']].max(axis=1)\n",
    "df['expert_min'] = df[['Length_1', 'Length_2', 'Length_3']].min(axis=1)\n",
    "\n",
    "#diffrence in pixels between the min and max of Length_1_pixels, Length_2_pixels, Length_3_pixels\n",
    "\n",
    "df['diff_max_min'] =abs(df[['Length_1', 'Length_2', 'Length_3']].max(axis=1) - df[['Length_1', 'Length_2', 'Length_3']].min(axis=1))\n",
    "\n",
    "print(f'mean difference between min max' ,df['diff_max_min'].mean())\n",
    "print(f'std  difference between min max ',df['diff_max_min'].std())\n",
    "\n",
    "\n",
    "#violoin plot of the difference between the min and max of the three measurements\n",
    "fig = px.violin(df,\n",
    "                x='Pond_Type', \n",
    "                y='diff_max_min', \n",
    "                box=True,  # Include box plot\n",
    "                points=\"all\",  # Show all points\n",
    "                hover_data=['Label', 'PrawnID'],  # Include hover data\n",
    "                title=f'Violin plot of diff_max_min',)\n",
    "#Save the plot to png\n",
    "fig.write_image(f'violin carapace diff_max_min.png')\n",
    "fig.show()\n",
    "\n",
    "\n",
    "\n",
    "\n",
    "\n",
    "\n",
    "# Calculate differences\n",
    "df['diff_mean'] =abs(df['Length_fov(mm)'] - df['expert_mean'])\n",
    "df['diff_max'] =abs(df['Length_fov(mm)'] - df['expert_max'])\n",
    "df['diff_min'] =abs(df['Length_fov(mm)'] - df['expert_min'])\n",
    "\n",
    "#scatter betwenn diff_max_min and diff_max\n",
    "sns.scatterplot(x='diff_max_min', y='diff_max', data=df, alpha=0.5)\n",
    "sns.regplot(x='diff_max_min', y='diff_max', data=df, scatter=False, color='red')\n",
    "plt.xlabel('diff_max_min')\n",
    "plt.ylabel('diff_max')\n",
    "plt.title('diff_max vs. diff_max_min')\n",
    "plt.show()\n",
    "\n",
    "\n",
    "#find the minimun error of the three measurements\n",
    "df['the_min_diff'] = df[['diff_mean', 'diff_max', 'diff_min']].min(axis=1)\n",
    "\n",
    "#find the maximum error of the three measurements\n",
    "df['the_max_diff'] = df[['diff_mean', 'diff_max', 'diff_min']].max(axis=1)\n",
    "\n",
    "\n",
    "#the length measurement of the the_min_diff\n",
    "df['the_min_diff_length'] =abs(df['Length_fov(mm)'] - df['the_min_diff'])\n",
    "\n",
    "#the length measurement of the the_max_diff\n",
    "df['the_max_diff_length'] =abs(df['Length_fov(mm)'] - df['the_max_diff'])\n",
    "\n",
    "\n",
    "#percent error of the the_min_diff\n",
    "df['the_min_diff_percenage_error'] = (df['the_min_diff'] / df['the_min_diff_length']) * 100\n",
    "#MAE of the the_min_diff\n",
    "\n",
    "#percent error of the the_max_diff\n",
    "df['the_max_diff_percenage_error'] = (df['the_max_diff'] / df['the_max_diff_length']) * 100\n",
    "\n",
    "\n",
    "\n",
    "# Create a violin plot using plotly\n",
    "import plotly.express as px\n",
    "#violin plots wiht plotly for mean percentage error and MAE\n",
    "for error in ['the_min_diff_percenage_error', 'the_min_diff', 'the_max_diff_percenage_error', 'the_max_diff']:\n",
    "        # Create a violin plot using plotly \n",
    "    fig = px.violin(df,\n",
    "                    x='Pond_Type', \n",
    "                    y=error, \n",
    "                    box=True,  # Include box plot\n",
    "                    points=\"all\",  # Show all points\n",
    "                    hover_data=['Label', 'PrawnID'],  # Include hover data\n",
    "                    title=f'Violin plot of {error}',)\n",
    "    #Save the plot to png\n",
    "    fig.write_image(f'violin carapace {error}_.png')\n",
    "    fig.show()\n",
    "\n",
    "\n",
    "\n",
    "\n",
    "\n",
    "# Inter-Expert Reliability\n",
    "\n",
    "\n",
    "# Bland-Altman Plot\n",
    "\n",
    "\n",
    "# Regression Analysis\n",
    "\n",
    "\n",
    "# # Visualization: Scatter Plot with Regression\n",
    "# sns.lmplot(x='expert_mean', y='Length_fov(mm)', data=df, aspect=1.5, scatter_kws={'alpha':0.5})\n",
    "# plt.xlabel('Expert Mean Measurement (mm)')\n",
    "# plt.ylabel('Keypoint Detection Measurement (mm)')\n",
    "# plt.title('Keypoint vs. Expert Measurements')\n",
    "# plt.show()\n",
    "\n",
    "# Additional plots as needed\n",
    "# Example: Histogram of Differences\n",
    "plt.figure(figsize=(10, 6))\n",
    "sns.histplot(df['diff_mean'], bins=30, kde=True)\n",
    "plt.xlabel('Difference mean (mm)')\n",
    "plt.title('Histogram of Measurement Differences')\n",
    "plt.show()\n",
    "\n",
    "plt.figure(figsize=(10, 6))\n",
    "sns.histplot(df['diff_max'], bins=30, kde=True)\n",
    "plt.xlabel('Difference max (mm)')\n",
    "plt.title('Histogram of Measurement Differences')\n",
    "plt.show()\n",
    "\n",
    "plt.figure(figsize=(10, 6))\n",
    "sns.histplot(df['diff_min'], bins=30, kde=True)\n",
    "plt.xlabel('Difference min (mm)')\n",
    "plt.title('Histogram of Measurement Differences')\n",
    "plt.show()\n",
    "\n",
    "\n",
    "# Example: Effect of Camera Distance\n",
    "sns.scatterplot(x='Height(mm)', y='diff_mean', data=df, alpha=0.5)\n",
    "sns.regplot(x='Height(mm)', y='diff_mean', data=df, scatter=False, color='red')\n",
    "plt.xlabel('Camera Distance')\n",
    "plt.ylabel('Difference mean (mm)')\n",
    "plt.title('Difference mean vs. Camera Distance')\n",
    "plt.show()\n",
    "\n",
    "sns.scatterplot(x='Height(mm)', y='diff_max', data=df, alpha=0.5)\n",
    "sns.regplot(x='Height(mm)', y='diff_max', data=df, scatter=False, color='red')\n",
    "plt.xlabel('Camera Distance')\n",
    "plt.ylabel('Difference max (mm)')\n",
    "plt.title('Difference max vs. Camera Distance')\n",
    "plt.show()\n",
    "\n",
    "sns.scatterplot(x='Height(mm)', y='diff_min', data=df, alpha=0.5)\n",
    "sns.regplot(x='Height(mm)', y='diff_min', data=df, scatter=False, color='red')\n",
    "plt.xlabel('Camera Distance')\n",
    "plt.ylabel('Difference min (mm)')\n",
    "plt.title('Difference min vs. Camera Distance')\n",
    "plt.show()\n",
    "\n",
    "\n",
    "# Example: Pose Metric 1 vs. Difference\n",
    "sns.scatterplot(x='pose_eval_iou', y='diff_mean', data=df, alpha=0.5)\n",
    "sns.regplot(x='pose_eval_iou', y='diff_mean', data=df, scatter=False, color='red')\n",
    "plt.xlabel('pose_eval_iou')\n",
    "plt.ylabel('Difference mean(mm)')\n",
    "plt.title('Difference mean vs. Pose Metric 1')\n",
    "plt.show()\n",
    "\n",
    "sns.scatterplot(x='pose_eval_iou', y='diff_max', data=df, alpha=0.5)\n",
    "sns.regplot(x='pose_eval_iou', y='diff_max', data=df, scatter=False, color='red')\n",
    "plt.xlabel('pose_eval_iou')\n",
    "plt.ylabel('Difference max(mm)')\n",
    "plt.title('Difference max vs. Pose Metric 1')\n",
    "plt.show()\n",
    "\n",
    "sns.scatterplot(x='pose_eval_iou', y='diff_min', data=df, alpha=0.5)\n",
    "sns.regplot(x='pose_eval_iou', y='diff_min', data=df, scatter=False, color='red')\n",
    "plt.xlabel('pose_eval_iou')\n",
    "plt.ylabel('Difference min(mm)')\n",
    "plt.title('Difference min vs. Pose Metric 1')\n",
    "plt.show()\n",
    "\n",
    "\n",
    "\n",
    "\n",
    "\n",
    "df['mean_percenage_error_mean'] = (df['diff'] / df['expert_mean']) * 100\n",
    "df['MAE_mean'] = df['diff']\n",
    "\n",
    "df['max_percenage_error_max'] = (df['diff_max'] / df['expert_max']) * 100\n",
    "df['MAE_max'] = df['diff_max']\n",
    "\n",
    "df['min_percenage_error_min'] = (df['diff_min'] / df['expert_min']) * 100\n",
    "df['MAE_min'] = df['diff_min']\n",
    "\n",
    "\n",
    "\n",
    "# Create a violin plot using plotly\n",
    "import plotly.express as px\n",
    "#violin plots wiht plotly for mean percentage error and MAE\n",
    "for error in ['mean_percenage_error_mean', 'MAE_mean', 'max_percenage_error_max', 'MAE_max', 'min_percenage_error_min', 'MAE_min']:\n",
    "\n",
    "        # Create a violin plot using plotly \n",
    "    fig = px.violin(df,\n",
    "                    x='Pond_Type', \n",
    "                    y=error, \n",
    "                    box=True,  # Include box plot\n",
    "                    points=\"all\",  # Show all points\n",
    "                    hover_data=['Label', 'PrawnID'],  # Include hover data\n",
    "                    title=f'Violin plot of {error}',)\n",
    "    #Save the plot to png\n",
    "    fig.write_image(f'violin carapace {error}_.png')\n",
    "    fig.show()\n",
    "\n",
    "\n",
    "\n",
    "\n",
    "# Normality Test\n"
   ]
  },
  {
   "cell_type": "code",
   "execution_count": null,
   "metadata": {},
   "outputs": [],
   "source": [
    "X = df[['camera_distance', 'pose_metric_1', 'pose_metric_2']]  # Add other pose metrics if available\n",
    "X = sm.add_constant(X)\n",
    "y = df['diff']\n",
    "model = sm.OLS(y, X).fit()\n",
    "print(model.summary())\n",
    "\n",
    "\n",
    "\n",
    "\n",
    "melted_df = df.melt(id_vars=['Label','PrawnID'], value_vars=['Length_1', 'Length_2', 'Length_3'],\n",
    "                   var_name='rater', value_name='measurement')\n",
    "icc = pg.intraclass_corr(data=melted_df, targets=['Label','PrawnID'], raters='rater', ratings='measurement')\n",
    "print(icc)\n",
    "\n",
    "\n",
    "# Correlation Analysis\n",
    "pearson_corr, pearson_p = pearsonr(df['keypoint_mm'], df['expert_mean'])\n",
    "spearman_corr, spearman_p = spearmanr(df['keypoint_mm'], df['expert_mean'])\n",
    "print(f\"Pearson Correlation: {pearson_corr:.3f}, p-value: {pearson_p:.3e}\")\n",
    "print(f\"Spearman Correlation: {spearman_corr:.3f}, p-value: {spearman_p:.3e}\")\n",
    "\n",
    "mean_measurements = (df['keypoint_mm'] + df['expert_mean']) / 2\n",
    "diff_measurements = df['diff']\n",
    "md = np.mean(diff_measurements)\n",
    "sd = np.std(diff_measurements)\n",
    "\n",
    "plt.figure(figsize=(10, 6))\n",
    "plt.scatter(mean_measurements, diff_measurements, alpha=0.5)\n",
    "plt.axhline(md, color='gray', linestyle='--', label=f'Mean Diff = {md:.2f} mm')\n",
    "plt.axhline(md + 1.96*sd, color='red', linestyle='--', label=f'+1.96 SD = {md + 1.96*sd:.2f} mm')\n",
    "plt.axhline(md - 1.96*sd, color='red', linestyle='--', label=f'-1.96 SD = {md - 1.96*sd:.2f} mm')\n",
    "plt.xlabel('Mean of Measurements (mm)')\n",
    "plt.ylabel('Difference (Keypoint - Expert) (mm)')\n",
    "plt.title('Bland-Altman Plot')\n",
    "plt.legend()\n",
    "plt.show()\n",
    "\n",
    "\n",
    "\n",
    "stat, p = shapiro(df['diff'])\n",
    "print(f'Shapiro-Wilk Test: stat={stat:.3f}, p-value={p:.3e}')\n",
    "\n",
    "# Homogeneity of Variance\n",
    "# Assuming 'camera_distance_category' is already defined as in the visualization section\n",
    "groups = df.groupby('camera_distance_category')['diff'].apply(list)\n",
    "stat, p = levene(*groups)\n",
    "print(f\"Levene’s Test: stat={stat:.3f}, p-value={p:.3e}\")\n"
   ]
  }
 ],
 "metadata": {
  "kernelspec": {
   "display_name": ".venv",
   "language": "python",
   "name": "python3"
  },
  "language_info": {
   "codemirror_mode": {
    "name": "ipython",
    "version": 3
   },
   "file_extension": ".py",
   "mimetype": "text/x-python",
   "name": "python",
   "nbconvert_exporter": "python",
   "pygments_lexer": "ipython3",
   "version": "3.9.7"
  }
 },
 "nbformat": 4,
 "nbformat_minor": 2
}
