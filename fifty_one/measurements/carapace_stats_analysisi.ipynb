{
 "cells": [
  {
   "cell_type": "code",
   "execution_count": 2,
   "metadata": {},
   "outputs": [
    {
     "name": "stdout",
     "output_type": "stream",
     "text": [
      "192\n",
      "148\n"
     ]
    },
    {
     "data": {
      "text/plain": [
       "Pond_Type\n",
       "circular big male      36\n",
       "circular small male     5\n",
       "square-femal           28\n",
       "Name: Label, dtype: int64"
      ]
     },
     "execution_count": 2,
     "metadata": {},
     "output_type": "execute_result"
    }
   ],
   "source": [
    "import pandas as pd\n",
    "\n",
    "df=pd.read_excel(r'C:\\Users\\gbo10\\Videos\\research\\counting_research_algorithms\\fifty_one\\measurements\\updated_filtered_data_with_lengths.xlsx')\n",
    "\n",
    "print(len(df))\n",
    "df=df.dropna()\n",
    "print(len(df))\n",
    "\n",
    "df['Pond_Type'] = df['Pond_Type'].replace({'test-car': 'square-femal', 'test-right': 'circular big male', 'test-left': 'circular small male'})\n",
    "\n",
    "df.groupby('Pond_Type')['Label'].nunique()"
   ]
  },
  {
   "cell_type": "code",
   "execution_count": 6,
   "metadata": {},
   "outputs": [
    {
     "data": {
      "text/html": [
       "<div>\n",
       "<style scoped>\n",
       "    .dataframe tbody tr th:only-of-type {\n",
       "        vertical-align: middle;\n",
       "    }\n",
       "\n",
       "    .dataframe tbody tr th {\n",
       "        vertical-align: top;\n",
       "    }\n",
       "\n",
       "    .dataframe thead th {\n",
       "        text-align: right;\n",
       "    }\n",
       "</style>\n",
       "<table border=\"1\" class=\"dataframe\">\n",
       "  <thead>\n",
       "    <tr style=\"text-align: right;\">\n",
       "      <th></th>\n",
       "      <th>Unnamed: 0</th>\n",
       "      <th>Label</th>\n",
       "      <th>PrawnID</th>\n",
       "      <th>Avg_Length</th>\n",
       "      <th>Std_Length</th>\n",
       "      <th>Uncertainty</th>\n",
       "      <th>Length_1</th>\n",
       "      <th>Length_2</th>\n",
       "      <th>Length_3</th>\n",
       "      <th>BoundingBox_1</th>\n",
       "      <th>...</th>\n",
       "      <th>diff_max_min</th>\n",
       "      <th>diff_mean</th>\n",
       "      <th>diff_max</th>\n",
       "      <th>diff_min</th>\n",
       "      <th>the_min_diff</th>\n",
       "      <th>min difference</th>\n",
       "      <th>min_mpe</th>\n",
       "      <th>max_mpe</th>\n",
       "      <th>min_mae</th>\n",
       "      <th>max_mae</th>\n",
       "    </tr>\n",
       "  </thead>\n",
       "  <tbody>\n",
       "    <tr>\n",
       "      <th>0</th>\n",
       "      <td>8</td>\n",
       "      <td>carapace:undistorted_GX010067_33_625.jpg_gamma</td>\n",
       "      <td>Prawn_0</td>\n",
       "      <td>41.918000</td>\n",
       "      <td>2.531547</td>\n",
       "      <td>1.461589</td>\n",
       "      <td>40.475</td>\n",
       "      <td>39.802</td>\n",
       "      <td>45.477</td>\n",
       "      <td>(2996.016573, 737.0050179, 159.9996606, 166.00...</td>\n",
       "      <td>...</td>\n",
       "      <td>5.675</td>\n",
       "      <td>3.119784</td>\n",
       "      <td>8.121784</td>\n",
       "      <td>2.446784</td>\n",
       "      <td>2.446784</td>\n",
       "      <td>12.119641</td>\n",
       "      <td>6.147389</td>\n",
       "      <td>17.859102</td>\n",
       "      <td>2.446784</td>\n",
       "      <td>8.121784</td>\n",
       "    </tr>\n",
       "    <tr>\n",
       "      <th>1</th>\n",
       "      <td>9</td>\n",
       "      <td>carapace:undistorted_GX010067_33_625.jpg_gamma</td>\n",
       "      <td>Prawn_1</td>\n",
       "      <td>26.698000</td>\n",
       "      <td>1.842735</td>\n",
       "      <td>1.063904</td>\n",
       "      <td>28.855</td>\n",
       "      <td>24.353</td>\n",
       "      <td>26.886</td>\n",
       "      <td>(3770.0181864, 1859.0067423, 114.9979869, 117....</td>\n",
       "      <td>...</td>\n",
       "      <td>4.502</td>\n",
       "      <td>0.085277</td>\n",
       "      <td>2.054277</td>\n",
       "      <td>2.447723</td>\n",
       "      <td>0.085277</td>\n",
       "      <td>2.103141</td>\n",
       "      <td>0.317179</td>\n",
       "      <td>10.051014</td>\n",
       "      <td>0.085277</td>\n",
       "      <td>2.447723</td>\n",
       "    </tr>\n",
       "    <tr>\n",
       "      <th>2</th>\n",
       "      <td>10</td>\n",
       "      <td>carapace:undistorted_GX010067_33_625.jpg_gamma</td>\n",
       "      <td>Prawn_2</td>\n",
       "      <td>46.299667</td>\n",
       "      <td>4.579569</td>\n",
       "      <td>2.644015</td>\n",
       "      <td>51.637</td>\n",
       "      <td>40.454</td>\n",
       "      <td>46.808</td>\n",
       "      <td>(1136.0077806, 2072.0074935, 280.9986255, 84.9...</td>\n",
       "      <td>...</td>\n",
       "      <td>11.183</td>\n",
       "      <td>3.944933</td>\n",
       "      <td>8.773933</td>\n",
       "      <td>2.409067</td>\n",
       "      <td>2.409067</td>\n",
       "      <td>6.058226</td>\n",
       "      <td>5.955076</td>\n",
       "      <td>16.991563</td>\n",
       "      <td>2.409067</td>\n",
       "      <td>8.773933</td>\n",
       "    </tr>\n",
       "    <tr>\n",
       "      <th>3</th>\n",
       "      <td>11</td>\n",
       "      <td>carapace:undistorted_GX010067_33_625.jpg_gamma</td>\n",
       "      <td>Prawn_3</td>\n",
       "      <td>24.278667</td>\n",
       "      <td>0.552181</td>\n",
       "      <td>0.318802</td>\n",
       "      <td>24.729</td>\n",
       "      <td>24.606</td>\n",
       "      <td>23.501</td>\n",
       "      <td>(368.0014839, 2140.0110291, 141.0003378, 1.002...</td>\n",
       "      <td>...</td>\n",
       "      <td>1.228</td>\n",
       "      <td>2.211272</td>\n",
       "      <td>2.334272</td>\n",
       "      <td>1.106272</td>\n",
       "      <td>1.106272</td>\n",
       "      <td>10.571630</td>\n",
       "      <td>4.707341</td>\n",
       "      <td>9.439412</td>\n",
       "      <td>1.106272</td>\n",
       "      <td>2.334272</td>\n",
       "    </tr>\n",
       "    <tr>\n",
       "      <th>4</th>\n",
       "      <td>20</td>\n",
       "      <td>carapace:undistorted_GX010068_26_666.jpg_gamma</td>\n",
       "      <td>Prawn_0</td>\n",
       "      <td>33.843333</td>\n",
       "      <td>2.607538</td>\n",
       "      <td>1.505463</td>\n",
       "      <td>36.364</td>\n",
       "      <td>30.252</td>\n",
       "      <td>34.914</td>\n",
       "      <td>(1496.0102131, 2248.0127922, 149.0029833, 149....</td>\n",
       "      <td>...</td>\n",
       "      <td>6.112</td>\n",
       "      <td>5.436597</td>\n",
       "      <td>6.886597</td>\n",
       "      <td>0.774597</td>\n",
       "      <td>0.774597</td>\n",
       "      <td>0.306276</td>\n",
       "      <td>2.560481</td>\n",
       "      <td>18.937951</td>\n",
       "      <td>0.774597</td>\n",
       "      <td>6.886597</td>\n",
       "    </tr>\n",
       "    <tr>\n",
       "      <th>...</th>\n",
       "      <td>...</td>\n",
       "      <td>...</td>\n",
       "      <td>...</td>\n",
       "      <td>...</td>\n",
       "      <td>...</td>\n",
       "      <td>...</td>\n",
       "      <td>...</td>\n",
       "      <td>...</td>\n",
       "      <td>...</td>\n",
       "      <td>...</td>\n",
       "      <td>...</td>\n",
       "      <td>...</td>\n",
       "      <td>...</td>\n",
       "      <td>...</td>\n",
       "      <td>...</td>\n",
       "      <td>...</td>\n",
       "      <td>...</td>\n",
       "      <td>...</td>\n",
       "      <td>...</td>\n",
       "      <td>...</td>\n",
       "      <td>...</td>\n",
       "    </tr>\n",
       "    <tr>\n",
       "      <th>187</th>\n",
       "      <td>1077</td>\n",
       "      <td>carapace:undistorted_GX010183_37_685.jpg_gamma</td>\n",
       "      <td>Prawn_2</td>\n",
       "      <td>39.201000</td>\n",
       "      <td>2.805890</td>\n",
       "      <td>1.619981</td>\n",
       "      <td>38.939</td>\n",
       "      <td>35.903</td>\n",
       "      <td>42.761</td>\n",
       "      <td>(1039.9968915, 2155.9928691, 181.0022403, 212....</td>\n",
       "      <td>...</td>\n",
       "      <td>6.858</td>\n",
       "      <td>18.460292</td>\n",
       "      <td>22.282292</td>\n",
       "      <td>15.424292</td>\n",
       "      <td>15.424292</td>\n",
       "      <td>25.161231</td>\n",
       "      <td>42.961013</td>\n",
       "      <td>52.108913</td>\n",
       "      <td>15.424292</td>\n",
       "      <td>22.282292</td>\n",
       "    </tr>\n",
       "    <tr>\n",
       "      <th>188</th>\n",
       "      <td>1086</td>\n",
       "      <td>carapace:undistorted_GX010183_80_1633.jpg_gamma</td>\n",
       "      <td>Prawn_0</td>\n",
       "      <td>39.565333</td>\n",
       "      <td>2.045577</td>\n",
       "      <td>1.181015</td>\n",
       "      <td>41.730</td>\n",
       "      <td>36.821</td>\n",
       "      <td>40.145</td>\n",
       "      <td>(364.0008550000001, 1448.0027236, 60.9995292, ...</td>\n",
       "      <td>...</td>\n",
       "      <td>4.909</td>\n",
       "      <td>9.841948</td>\n",
       "      <td>11.426948</td>\n",
       "      <td>6.517948</td>\n",
       "      <td>6.517948</td>\n",
       "      <td>32.124619</td>\n",
       "      <td>17.701712</td>\n",
       "      <td>27.383052</td>\n",
       "      <td>6.517948</td>\n",
       "      <td>11.426948</td>\n",
       "    </tr>\n",
       "    <tr>\n",
       "      <th>189</th>\n",
       "      <td>1087</td>\n",
       "      <td>carapace:undistorted_GX010183_80_1633.jpg_gamma</td>\n",
       "      <td>Prawn_1</td>\n",
       "      <td>35.726667</td>\n",
       "      <td>2.216436</td>\n",
       "      <td>1.279660</td>\n",
       "      <td>34.318</td>\n",
       "      <td>34.006</td>\n",
       "      <td>38.856</td>\n",
       "      <td>(2732.0065866, 1332.0003336, 249.000479, 93.00...</td>\n",
       "      <td>...</td>\n",
       "      <td>4.850</td>\n",
       "      <td>4.014948</td>\n",
       "      <td>8.552948</td>\n",
       "      <td>3.702948</td>\n",
       "      <td>3.702948</td>\n",
       "      <td>3.725130</td>\n",
       "      <td>10.889101</td>\n",
       "      <td>22.011909</td>\n",
       "      <td>3.702948</td>\n",
       "      <td>8.552948</td>\n",
       "    </tr>\n",
       "    <tr>\n",
       "      <th>190</th>\n",
       "      <td>1096</td>\n",
       "      <td>carapace:undistorted_GX010183_128_2852.jpg_gamma</td>\n",
       "      <td>Prawn_0</td>\n",
       "      <td>32.746333</td>\n",
       "      <td>1.552567</td>\n",
       "      <td>0.896375</td>\n",
       "      <td>34.761</td>\n",
       "      <td>30.983</td>\n",
       "      <td>32.495</td>\n",
       "      <td>(3943.98895, 1279.9998518, 236.9997988, 124.99...</td>\n",
       "      <td>...</td>\n",
       "      <td>3.778</td>\n",
       "      <td>9.217687</td>\n",
       "      <td>11.483687</td>\n",
       "      <td>7.705687</td>\n",
       "      <td>7.705687</td>\n",
       "      <td>9.271802</td>\n",
       "      <td>24.870695</td>\n",
       "      <td>33.036125</td>\n",
       "      <td>7.705687</td>\n",
       "      <td>11.483687</td>\n",
       "    </tr>\n",
       "    <tr>\n",
       "      <th>191</th>\n",
       "      <td>1097</td>\n",
       "      <td>carapace:undistorted_GX010183_128_2852.jpg_gamma</td>\n",
       "      <td>Prawn_1</td>\n",
       "      <td>28.574333</td>\n",
       "      <td>2.866558</td>\n",
       "      <td>1.655008</td>\n",
       "      <td>25.229</td>\n",
       "      <td>28.264</td>\n",
       "      <td>32.230</td>\n",
       "      <td>(432.0019632, 2183.9920298, 193.000451, 25.002...</td>\n",
       "      <td>...</td>\n",
       "      <td>7.001</td>\n",
       "      <td>4.986687</td>\n",
       "      <td>8.952687</td>\n",
       "      <td>1.951687</td>\n",
       "      <td>1.951687</td>\n",
       "      <td>17.941856</td>\n",
       "      <td>7.735889</td>\n",
       "      <td>27.777497</td>\n",
       "      <td>1.951687</td>\n",
       "      <td>8.952687</td>\n",
       "    </tr>\n",
       "  </tbody>\n",
       "</table>\n",
       "<p>148 rows × 62 columns</p>\n",
       "</div>"
      ],
      "text/plain": [
       "     Unnamed: 0                                             Label  PrawnID  \\\n",
       "0             8    carapace:undistorted_GX010067_33_625.jpg_gamma  Prawn_0   \n",
       "1             9    carapace:undistorted_GX010067_33_625.jpg_gamma  Prawn_1   \n",
       "2            10    carapace:undistorted_GX010067_33_625.jpg_gamma  Prawn_2   \n",
       "3            11    carapace:undistorted_GX010067_33_625.jpg_gamma  Prawn_3   \n",
       "4            20    carapace:undistorted_GX010068_26_666.jpg_gamma  Prawn_0   \n",
       "..          ...                                               ...      ...   \n",
       "187        1077    carapace:undistorted_GX010183_37_685.jpg_gamma  Prawn_2   \n",
       "188        1086   carapace:undistorted_GX010183_80_1633.jpg_gamma  Prawn_0   \n",
       "189        1087   carapace:undistorted_GX010183_80_1633.jpg_gamma  Prawn_1   \n",
       "190        1096  carapace:undistorted_GX010183_128_2852.jpg_gamma  Prawn_0   \n",
       "191        1097  carapace:undistorted_GX010183_128_2852.jpg_gamma  Prawn_1   \n",
       "\n",
       "     Avg_Length  Std_Length  Uncertainty  Length_1  Length_2  Length_3  \\\n",
       "0     41.918000    2.531547     1.461589    40.475    39.802    45.477   \n",
       "1     26.698000    1.842735     1.063904    28.855    24.353    26.886   \n",
       "2     46.299667    4.579569     2.644015    51.637    40.454    46.808   \n",
       "3     24.278667    0.552181     0.318802    24.729    24.606    23.501   \n",
       "4     33.843333    2.607538     1.505463    36.364    30.252    34.914   \n",
       "..          ...         ...          ...       ...       ...       ...   \n",
       "187   39.201000    2.805890     1.619981    38.939    35.903    42.761   \n",
       "188   39.565333    2.045577     1.181015    41.730    36.821    40.145   \n",
       "189   35.726667    2.216436     1.279660    34.318    34.006    38.856   \n",
       "190   32.746333    1.552567     0.896375    34.761    30.983    32.495   \n",
       "191   28.574333    2.866558     1.655008    25.229    28.264    32.230   \n",
       "\n",
       "                                         BoundingBox_1  ... diff_max_min  \\\n",
       "0    (2996.016573, 737.0050179, 159.9996606, 166.00...  ...        5.675   \n",
       "1    (3770.0181864, 1859.0067423, 114.9979869, 117....  ...        4.502   \n",
       "2    (1136.0077806, 2072.0074935, 280.9986255, 84.9...  ...       11.183   \n",
       "3    (368.0014839, 2140.0110291, 141.0003378, 1.002...  ...        1.228   \n",
       "4    (1496.0102131, 2248.0127922, 149.0029833, 149....  ...        6.112   \n",
       "..                                                 ...  ...          ...   \n",
       "187  (1039.9968915, 2155.9928691, 181.0022403, 212....  ...        6.858   \n",
       "188  (364.0008550000001, 1448.0027236, 60.9995292, ...  ...        4.909   \n",
       "189  (2732.0065866, 1332.0003336, 249.000479, 93.00...  ...        4.850   \n",
       "190  (3943.98895, 1279.9998518, 236.9997988, 124.99...  ...        3.778   \n",
       "191  (432.0019632, 2183.9920298, 193.000451, 25.002...  ...        7.001   \n",
       "\n",
       "     diff_mean   diff_max   diff_min  the_min_diff  min difference    min_mpe  \\\n",
       "0     3.119784   8.121784   2.446784      2.446784       12.119641   6.147389   \n",
       "1     0.085277   2.054277   2.447723      0.085277        2.103141   0.317179   \n",
       "2     3.944933   8.773933   2.409067      2.409067        6.058226   5.955076   \n",
       "3     2.211272   2.334272   1.106272      1.106272       10.571630   4.707341   \n",
       "4     5.436597   6.886597   0.774597      0.774597        0.306276   2.560481   \n",
       "..         ...        ...        ...           ...             ...        ...   \n",
       "187  18.460292  22.282292  15.424292     15.424292       25.161231  42.961013   \n",
       "188   9.841948  11.426948   6.517948      6.517948       32.124619  17.701712   \n",
       "189   4.014948   8.552948   3.702948      3.702948        3.725130  10.889101   \n",
       "190   9.217687  11.483687   7.705687      7.705687        9.271802  24.870695   \n",
       "191   4.986687   8.952687   1.951687      1.951687       17.941856   7.735889   \n",
       "\n",
       "       max_mpe    min_mae    max_mae  \n",
       "0    17.859102   2.446784   8.121784  \n",
       "1    10.051014   0.085277   2.447723  \n",
       "2    16.991563   2.409067   8.773933  \n",
       "3     9.439412   1.106272   2.334272  \n",
       "4    18.937951   0.774597   6.886597  \n",
       "..         ...        ...        ...  \n",
       "187  52.108913  15.424292  22.282292  \n",
       "188  27.383052   6.517948  11.426948  \n",
       "189  22.011909   3.702948   8.552948  \n",
       "190  33.036125   7.705687  11.483687  \n",
       "191  27.777497   1.951687   8.952687  \n",
       "\n",
       "[148 rows x 62 columns]"
      ]
     },
     "execution_count": 6,
     "metadata": {},
     "output_type": "execute_result"
    }
   ],
   "source": [
    "df"
   ]
  },
  {
   "cell_type": "code",
   "execution_count": null,
   "metadata": {},
   "outputs": [],
   "source": [
    "import pandas as pd\n",
    "import seaborn as sns\n",
    "import matplotlib.pyplot as plt\n",
    "from scipy.stats import pearsonr, spearmanr, shapiro, levene\n",
    "# import pingouin as pg\n",
    "import statsmodels.api as sm\n",
    "import numpy as np\n",
    "import plotly.express as px\n",
    "\n",
    "# Load your data\n",
    "\n",
    "# Calculate expert averages and standard deviations\n",
    "df['expert_mean'] = df[['Length_1', 'Length_2', 'Length_3']].median(axis=1)\n",
    "df['expert_std'] = df[['Length_1', 'Length_2', 'Length_3']].std(axis=1)\n",
    "\n",
    "df['expert_max'] = df[['Length_1', 'Length_2', 'Length_3']].max(axis=1)\n",
    "df['expert_min'] = df[['Length_1', 'Length_2', 'Length_3']].min(axis=1)\n",
    "\n",
    "#diffrence in pixels between the min and max of Length_1_pixels, Length_2_pixels, Length_3_pixels\n",
    "\n",
    "df['diff_max_min'] =abs(df[['Length_1', 'Length_2', 'Length_3']].max(axis=1) - df[['Length_1', 'Length_2', 'Length_3']].min(axis=1))\n",
    "\n",
    "print(f'mean difference between min max' ,df['diff_max_min'].mean())\n",
    "print(f'std  difference between min max ',df['diff_max_min'].std())\n",
    "\n",
    "\n",
    "#violoin plot of the difference between the min and max of the three measurements\n",
    "fig = px.violin(df,\n",
    "                x='Pond_Type', \n",
    "                y='diff_max_min', \n",
    "                box=True,  # Include box plot\n",
    "                points=\"all\",  # Show all points\n",
    "                hover_data=['Label', 'PrawnID'],  # Include hover data\n",
    "                title=f'Violin plot of diff_max_min',)\n",
    "#Save the plot to png\n",
    "fig.write_image(f'violin carapace diff_max_min.png')\n",
    "fig.show()\n",
    "\n",
    "#how many Length_ground_truth_annotation(mm) in comparison with lengthe_1, length_2, length_3 bigger than 50%\n",
    "\n",
    "# df['difference_mean_annotation_expert'] = abs(df['Length_ground_truth_annotation(mm)'] - df['expert_mean']/df['Length_ground_truth_annotation(mm)']) \n",
    "# df['difference_max_annotation_expert'] = abs(df['Length_ground_truth_annotation(mm)'] - df['expert_max']/df['Length_ground_truth_annotation(mm)'])\n",
    "# df['difference_min_annotation_expert'] = abs(df['Length_ground_truth_annotation(mm)'] - df['expert_min']/df['Length_ground_truth_annotation(mm)'])\n",
    "\n",
    "# df['min difference'] = df[['difference_mean_annotation_expert', 'difference_max_annotation_expert', 'difference_min_annotation_expert']].min(axis=1)\n",
    "# df['max_difference'] = df[['difference_mean_annotation_expert', 'difference_max_annotation_expert', 'difference_min_annotation_expert']].max(axis=1)    \n",
    "\n",
    "\n",
    "# df['difference_max_annotation_expert'] = abs(df['Length_ground_truth_annotation(mm)'] - df['expert_max']/df['Length_ground_truth_annotation(mm)'])\n",
    "\n",
    "# df['difference_min_annotation_expert'] = abs(df['Length_ground_truth_annotation(mm)'] - df['expert_min']/df['Length_ground_truth_annotation(mm)'])\n",
    "#violin difference_annotation_expert\n",
    "# fig = px.violin(df,\n",
    "#                 x='Pond_Type',\n",
    "#                 y='min difference',\n",
    "#                 box=True,  # Include box plot\n",
    "#                 points=\"all\",  # Show all points\n",
    "#                 hover_data=['Label', 'PrawnID'],  # Include hover data\n",
    "#                 title=f'Violin plot of difference_annotation_expert',)\n",
    "# #Save the plot to png\n",
    "# fig.write_image(f'violin carapace difference_annotation_expert.png')\n",
    "# fig.show()\n",
    "\n",
    "\n",
    "\n",
    "\n",
    "# Calculate differences\n",
    "df['diff_mean'] =abs(df['Length_fov(mm)'] - df['expert_mean'])\n",
    "df['diff_max'] =abs(df['Length_fov(mm)'] - df['expert_max'])\n",
    "df['diff_min'] =abs(df['Length_fov(mm)'] - df['expert_min'])\n",
    "\n",
    "df['the_min_diff'] = df[['diff_mean', 'diff_max', 'diff_min']].min(axis=1)\n",
    "\n",
    "\n",
    "#the length measurement of the the_min_diff\n",
    "# df['the_min_diff_length'] =df['Length_fov(mm)'] - df['the_min_diff']\n",
    "\n",
    "#the length measurement of the the_max_diff\n",
    "#percent error of the the_min_diff\n",
    "\n",
    "\n",
    "# df['org_min_diff'] = [\n",
    "#     df['Length_fov(mm)'].iloc[i] - df['the_min_diff'].iloc[i] \n",
    "#     if df['the_min_diff'].iloc[i] > 0 \n",
    "#     else df['Length_fov(mm)'].iloc[i] + abs(df['the_min_diff'].iloc[i]) \n",
    "#     for i in range(len(df))\n",
    "# ]\n",
    "\n",
    "\n",
    "df['min difference']=df[['Error_percentage_distance_mm_ground_min', 'Error_percentage_distance_mm_ground_max','Error_percentage_distance_mm_ground_median']].min(axis=1)\n",
    "\n",
    "# Calculate the percentage error\n",
    "# df['the_min_diff_percentage_error'] = (df['the_min_diff'].abs() / df['org_min_diff'].abs()) * 100\n",
    "\n",
    "# # Cap the error at 100%\n",
    "# df['the_min_diff_percentage_error'] = df['the_min_diff_percentage_error'].apply(lambda x: min(x, 100))\n",
    "\n",
    "# the percentage error of the the_min_diff when smaller than 100%\n",
    "# df['the_min_diff_percentage_error'] = df['the_min_diff_percentage_error']\n",
    "df['min_mpe']=df[['MPError_fov_min', 'MPError_fov_max','MPError_fov_median']].min(axis=1)\n",
    "\n",
    "df['max_mpe']=df[['MPError_fov_min', 'MPError_fov_max','MPError_fov_median']].max(axis=1)\n",
    "\n",
    "df['min_mae']=df[['AbsError_fov_min', 'AbsError_fov_max','AbsError_fov_median']].min(axis=1)\n",
    "\n",
    "df['max_mae']=df[['AbsError_fov_min', 'AbsError_fov_max','AbsError_fov_median']].max(axis=1)\n",
    "\n",
    "\n",
    "# Create a violin plot using plotly\n",
    "import plotly.express as px\n",
    "#violin plots wiht plotly for mean percentage error and MAE\n",
    "for error in ['min_mpe', 'min_mae', 'max_mpe', 'max_mae']:\n",
    "        # Create a violin plot using plotly \n",
    "    fig = px.violin(df,\n",
    "                    x='Pond_Type', \n",
    "                    y=error, \n",
    "                    box=True,  # Include box plot\n",
    "                    points=\"all\",  # Show all points\n",
    "                    hover_data=['Label', 'PrawnID'],  # Include hover data\n",
    "                    title=f'Violin plot of {error}',)\n",
    "    #Save the plot to png\n",
    "    fig.write_image(f'violin carapace {error}_.png')\n",
    "    fig.show()\n",
    "\n",
    "#change name of each pond type if test-car change to square-female if test-right change to circular big male if test-left change to circular small mal\n",
    "\n",
    "\n",
    "\n",
    "\n",
    "#scatter plot the_min_diff_percentage_error and  difference_annotation_expert plotly\n",
    "fig = px.scatter(df, x='min_mpe', y='min difference', color='Pond_Type', hover_data=['Label', 'PrawnID'])\n",
    "#add title\n",
    "fig.update_layout(title='min_mpe vs. difference_annotation_expert')\n",
    "\n",
    "#save the plot to png\n",
    "fig.write_image('the_min_diff_percentage_error vs. difference_annotation_expert.png')\n",
    "# Add a trendline\n",
    "\n",
    "\n",
    "fig.show()\n",
    "\n",
    "\n",
    "#scatter plot the_min_diff_percentage_error and  pose_eval_iou plotly\n",
    "fig = px.scatter(df, x='min_mpe', y='pose_eval_iou', color='Pond_Type', hover_data=['Label', 'PrawnID'])\n",
    "#add title\n",
    "fig.update_layout(title='min_mpe vs. pose_eval_iou')\n",
    "\n",
    "#save the plot to png\n",
    "fig.write_image('the_min_diff_percentage_error vs. pose_eval_iou.png')\n",
    "# Add a trendline\n",
    "fig.show()\n",
    "\n",
    "#scatter plot between min_mpe and height\n",
    "fig = px.scatter(df, x='Height(mm)', y='min_mpe', hover_data=['Label', 'PrawnID'])\n",
    "#add title\n",
    "fig.update_layout(title='min_mpe vs. Height')\n",
    "\n",
    "#save the plot to png\n",
    "fig.write_image('min_mpe vs. Height.png')\n",
    "# Add a trendline\n",
    "fig.show()\n",
    "\n",
    "\n",
    "\n",
    "\n",
    "\n",
    "# Normality Test\n"
   ]
  },
  {
   "cell_type": "code",
   "execution_count": 13,
   "metadata": {},
   "outputs": [
    {
     "data": {
      "application/vnd.plotly.v1+json": {
       "config": {
        "plotlyServerURL": "https://plot.ly"
       },
       "data": [
        {
         "customdata": [
          [
           "carapace:undistorted_GX010067_33_625.jpg_gamma",
           "Prawn_0"
          ],
          [
           "carapace:undistorted_GX010067_33_625.jpg_gamma",
           "Prawn_1"
          ],
          [
           "carapace:undistorted_GX010067_33_625.jpg_gamma",
           "Prawn_2"
          ],
          [
           "carapace:undistorted_GX010067_33_625.jpg_gamma",
           "Prawn_3"
          ],
          [
           "carapace:undistorted_GX010068_26_666.jpg_gamma",
           "Prawn_0"
          ],
          [
           "carapace:undistorted_GX010068_26_666.jpg_gamma",
           "Prawn_1"
          ],
          [
           "carapace:undistorted_GX010068_26_666.jpg_gamma",
           "Prawn_2"
          ],
          [
           "carapace:undistorted_GX010068_27_795.jpg_gamma",
           "Prawn_2"
          ],
          [
           "carapace:undistorted_GX010069_19_191.jpg_gamma",
           "Prawn_0"
          ],
          [
           "carapace:undistorted_GX010069_19_191.jpg_gamma",
           "Prawn_1"
          ],
          [
           "carapace:undistorted_GX010069_19_191.jpg_gamma",
           "Prawn_2"
          ],
          [
           "carapace:undistorted_GX010069_19_191.jpg_gamma",
           "Prawn_3"
          ],
          [
           "carapace:undistorted_GX010069_53_796.jpg_gamma",
           "Prawn_1"
          ],
          [
           "carapace:undistorted_GX010071_22_444.jpg_gamma",
           "Prawn_0"
          ],
          [
           "carapace:undistorted_GX010073_42_695.jpg_gamma",
           "Prawn_0"
          ],
          [
           "carapace:undistorted_GX010073_42_695.jpg_gamma",
           "Prawn_1"
          ],
          [
           "carapace:undistorted_GX010073_42_695.jpg_gamma",
           "Prawn_2"
          ],
          [
           "carapace:undistorted_GX010073_55_1014.jpg_gamma",
           "Prawn_0"
          ],
          [
           "carapace:undistorted_GX010073_55_1014.jpg_gamma",
           "Prawn_3"
          ],
          [
           "carapace:undistorted_GX010077_14_237.jpg_gamma",
           "Prawn_0"
          ],
          [
           "carapace:undistorted_GX010077_14_237.jpg_gamma",
           "Prawn_1"
          ],
          [
           "carapace:undistorted_GX010077_14_237.jpg_gamma",
           "Prawn_2"
          ],
          [
           "carapace:undistorted_GX010080_157_2283.jpg_gamma",
           "Prawn_0"
          ],
          [
           "carapace:undistorted_GX010080_157_2283.jpg_gamma",
           "Prawn_1"
          ],
          [
           "carapace:undistorted_GX010080_157_2283.jpg_gamma",
           "Prawn_2"
          ],
          [
           "carapace:undistorted_GX010080_157_2283.jpg_gamma",
           "Prawn_3"
          ],
          [
           "carapace:undistorted_GX010080_157_2283.jpg_gamma",
           "Prawn_4"
          ],
          [
           "carapace:undistorted_GX010080_193_2640.jpg_gamma",
           "Prawn_0"
          ],
          [
           "carapace:undistorted_GX010080_193_2640.jpg_gamma",
           "Prawn_1"
          ],
          [
           "carapace:undistorted_GX010080_193_2640.jpg_gamma",
           "Prawn_4"
          ],
          [
           "carapace:undistorted_GX010080_212_2954.jpg_gamma",
           "Prawn_0"
          ],
          [
           "carapace:undistorted_GX010080_212_2954.jpg_gamma",
           "Prawn_1"
          ],
          [
           "carapace:undistorted_GX010080_212_2954.jpg_gamma",
           "Prawn_2"
          ],
          [
           "carapace:undistorted_GX010080_237_3366.jpg_gamma",
           "Prawn_0"
          ],
          [
           "carapace:undistorted_GX010080_237_3366.jpg_gamma",
           "Prawn_1"
          ],
          [
           "carapace:undistorted_GX010080_237_3366.jpg_gamma",
           "Prawn_2"
          ],
          [
           "carapace:undistorted_GX010080_237_3366.jpg_gamma",
           "Prawn_3"
          ],
          [
           "carapace:undistorted_GX010080_238_3392.jpg_gamma",
           "Prawn_0"
          ],
          [
           "carapace:undistorted_GX010080_238_3392.jpg_gamma",
           "Prawn_1"
          ],
          [
           "carapace:undistorted_GX010080_238_3392.jpg_gamma",
           "Prawn_2"
          ],
          [
           "carapace:undistorted_GX010080_238_3392.jpg_gamma",
           "Prawn_3"
          ],
          [
           "carapace:undistorted_GX010080_238_3392.jpg_gamma",
           "Prawn_4"
          ],
          [
           "carapace:undistorted_GX010082_8_59.jpg_gamma",
           "Prawn_0"
          ],
          [
           "carapace:undistorted_GX010082_8_59.jpg_gamma",
           "Prawn_1"
          ],
          [
           "carapace:undistorted_GX010082_8_59.jpg_gamma",
           "Prawn_2"
          ],
          [
           "carapace:undistorted_GX010082_8_59.jpg_gamma",
           "Prawn_3"
          ],
          [
           "carapace:undistorted_GX010082_8_59.jpg_gamma",
           "Prawn_4"
          ],
          [
           "carapace:undistorted_GX010082_8_59.jpg_gamma",
           "Prawn_5"
          ],
          [
           "carapace:undistorted_GX010082_53_796.jpg_gamma",
           "Prawn_0"
          ],
          [
           "carapace:undistorted_GX010082_53_796.jpg_gamma",
           "Prawn_1"
          ],
          [
           "carapace:undistorted_GX010082_65_1070.jpg_gamma",
           "Prawn_0"
          ],
          [
           "carapace:undistorted_GX010082_65_1070.jpg_gamma",
           "Prawn_1"
          ],
          [
           "carapace:undistorted_GX010082_65_1070.jpg_gamma",
           "Prawn_2"
          ],
          [
           "carapace:undistorted_GX010082_236_3137.jpg_gamma",
           "Prawn_1"
          ],
          [
           "carapace:undistorted_GX010082_236_3137.jpg_gamma",
           "Prawn_2"
          ],
          [
           "carapace:undistorted_GX010084_30_344.jpg_gamma",
           "Prawn_0"
          ],
          [
           "carapace:undistorted_GX010084_30_344.jpg_gamma",
           "Prawn_2"
          ],
          [
           "carapace:undistorted_GX010084_30_344.jpg_gamma",
           "Prawn_3"
          ],
          [
           "carapace:undistorted_GX010084_30_344.jpg_gamma",
           "Prawn_5"
          ],
          [
           "carapace:undistorted_GX010084_130_1748.jpg_gamma",
           "Prawn_0"
          ],
          [
           "carapace:undistorted_GX010084_130_1748.jpg_gamma",
           "Prawn_1"
          ],
          [
           "carapace:undistorted_GX010084_130_1748.jpg_gamma",
           "Prawn_2"
          ],
          [
           "carapace:undistorted_GX010084_130_1748.jpg_gamma",
           "Prawn_3"
          ],
          [
           "carapace:undistorted_GX010084_167_2291.jpg_gamma",
           "Prawn_0"
          ],
          [
           "carapace:undistorted_GX010084_167_2291.jpg_gamma",
           "Prawn_1"
          ],
          [
           "carapace:undistorted_GX010085_261_3610.jpg_gamma",
           "Prawn_0"
          ],
          [
           "carapace:undistorted_GX010085_261_3610.jpg_gamma",
           "Prawn_1"
          ],
          [
           "carapace:undistorted_GX010085_261_3610.jpg_gamma",
           "Prawn_2"
          ],
          [
           "carapace:undistorted_GX010085_263_3738.jpg_gamma",
           "Prawn_1"
          ],
          [
           "carapace:undistorted_GX010085_263_3738.jpg_gamma",
           "Prawn_3"
          ],
          [
           "carapace:undistorted_GX010088_262_3712.jpg_gamma",
           "Prawn_0"
          ],
          [
           "carapace:undistorted_GX010088_262_3712.jpg_gamma",
           "Prawn_2"
          ],
          [
           "carapace:undistorted_GX010088_262_3712.jpg_gamma",
           "Prawn_3"
          ],
          [
           "carapace:undistorted_GX010088_262_3712.jpg_gamma",
           "Prawn_4"
          ],
          [
           "carapace:undistorted_GX010088_262_3712.jpg_gamma",
           "Prawn_5"
          ],
          [
           "carapace:undistorted_GX010088_327_4364.jpg_gamma",
           "Prawn_0"
          ],
          [
           "carapace:undistorted_GX010088_327_4364.jpg_gamma",
           "Prawn_1"
          ],
          [
           "carapace:undistorted_GX010088_327_4364.jpg_gamma",
           "Prawn_2"
          ],
          [
           "carapace:undistorted_GX010088_327_4364.jpg_gamma",
           "Prawn_3"
          ],
          [
           "carapace:undistorted_GX010090_132_1852.jpg_gamma",
           "Prawn_0"
          ],
          [
           "carapace:undistorted_GX010090_132_1852.jpg_gamma",
           "Prawn_1"
          ],
          [
           "carapace:undistorted_GX010094_9_129.jpg_gamma",
           "Prawn_0"
          ],
          [
           "carapace:undistorted_GX010094_9_129.jpg_gamma",
           "Prawn_1"
          ],
          [
           "carapace:undistorted_GX010094_24_430.jpg_gamma",
           "Prawn_0"
          ],
          [
           "carapace:undistorted_GX010094_24_430.jpg_gamma",
           "Prawn_1"
          ],
          [
           "carapace:undistorted_GX010094_24_430.jpg_gamma",
           "Prawn_2"
          ],
          [
           "carapace:undistorted_GX010094_93_1258.jpg_gamma",
           "Prawn_0"
          ],
          [
           "carapace:undistorted_GX010094_93_1258.jpg_gamma",
           "Prawn_1"
          ],
          [
           "carapace:undistorted_GX010094_163_2312.jpg_gamma",
           "Prawn_0"
          ],
          [
           "carapace:undistorted_GX010096_107_1571.jpg_gamma",
           "Prawn_0"
          ],
          [
           "carapace:undistorted_GX010097_32_528.jpg_gamma",
           "Prawn_0"
          ],
          [
           "carapace:undistorted_GX010097_32_528.jpg_gamma",
           "Prawn_1"
          ],
          [
           "carapace:undistorted_GX010097_60_1080.jpg_gamma",
           "Prawn_1"
          ],
          [
           "carapace:undistorted_GX010097_105_1651.jpg_gamma",
           "Prawn_0"
          ],
          [
           "carapace:undistorted_GX010097_105_1651.jpg_gamma",
           "Prawn_1"
          ],
          [
           "carapace:undistorted_GX010097_105_1651.jpg_gamma",
           "Prawn_2"
          ],
          [
           "carapace:undistorted_GX010097_105_1651.jpg_gamma",
           "Prawn_3"
          ],
          [
           "carapace:undistorted_GX010097_124_1870.jpg_gamma",
           "Prawn_1"
          ],
          [
           "carapace:undistorted_GX010101_12_173.jpg_gamma",
           "Prawn_0"
          ]
         ],
         "hovertemplate": "Pond_Type=circular big male<br>focal_RealLength(cm)=%{x}<br>closest_length_min_mae_value=%{y}<br>Label=%{customdata[0]}<br>PrawnID=%{customdata[1]}<extra></extra>",
         "legendgroup": "circular big male",
         "marker": {
          "color": "#636efa",
          "symbol": "circle"
         },
         "mode": "markers",
         "name": "circular big male",
         "orientation": "v",
         "showlegend": true,
         "type": "scatter",
         "x": [
          39.42425685964275,
          28.31005693306384,
          44.89569952533149,
          23.4284502799093,
          31.11121125845315,
          31.29484491414642,
          35.50906007624683,
          33.99896784113986,
          34.3013568051794,
          33.7572687874512,
          30.81975914013957,
          31.66776903609522,
          39.25517822225937,
          32.18633966463919,
          24.17720398744675,
          38.77907815764956,
          29.47093211384655,
          34.91505110102607,
          27.57969309058211,
          23.66276167937307,
          34.09538788866976,
          30.21154856406327,
          33.24487782032969,
          34.35740925599293,
          30.07437687099942,
          34.33620567683121,
          34.29611036974219,
          35.49222713542581,
          36.47262796494356,
          31.43502512144142,
          34.13433353781024,
          33.37995353067254,
          41.36051660906931,
          35.65029135835977,
          43.66020967603209,
          30.60693864680155,
          36.09183244298664,
          32.38184892499495,
          39.72235375181543,
          31.31760972163682,
          33.26655763354914,
          37.8374520489627,
          27.98827875242617,
          40.49156779534093,
          34.23085162185648,
          34.18766031910848,
          27.98827875242617,
          26.12262468519387,
          43.39585243653489,
          23.69980835184827,
          30.66578121490211,
          46.29831620342251,
          34.86079677150205,
          38.28575134014226,
          39.24645461442449,
          24.74788904089393,
          30.71324904255253,
          31.43136992710871,
          32.0676294562499,
          30.6435079454619,
          37.24803453586532,
          26.70852705715236,
          30.37328768699431,
          36.5452183595065,
          40.14711373068555,
          37.22514379611263,
          37.22514379611263,
          23.92613145938843,
          35.46748611602736,
          24.92495337039063,
          34.49344494185626,
          32.69973564604175,
          33.29506172779579,
          32.50383048039939,
          32.50383048039939,
          32.24953325016637,
          33.19033600120699,
          30.70416500133623,
          34.42751726106706,
          37.79926054079385,
          32.84905992026926,
          26.65919426663017,
          36.1858353563842,
          31.48508151402518,
          32.42200632811969,
          29.35090551531473,
          31.10957845456883,
          31.10957845456883,
          38.53289537952889,
          30.02183995254137,
          35.72791017045907,
          28.94169780106563,
          24.07545816828272,
          35.33965083552826,
          41.37254738455533,
          30.96576907477481,
          35.20049656528234,
          28.08298514634632,
          45.79704356692451
         ],
         "xaxis": "x",
         "y": [
          39.802,
          26.886,
          40.454,
          23.501,
          30.252,
          30.858,
          35.075,
          32.848,
          32.975,
          32.452,
          31.519,
          30.531,
          36.611,
          38.488,
          23.275,
          42.993,
          29.886,
          34.969,
          25.725,
          23.71,
          34.326,
          31.56,
          29.135,
          30.473,
          38.676,
          33.384,
          28.382,
          33.566,
          38.574,
          27.477,
          30.638,
          32.183,
          37.899,
          35.516,
          37.797,
          27.723,
          32.386,
          35.794,
          38.044,
          33.238,
          33.98,
          36.673,
          31.194,
          36.545,
          36.14,
          35.424,
          26.415,
          25.188,
          38.263,
          21.201,
          28.363,
          43.03,
          33.72,
          34.365,
          40.55,
          27.776,
          28.783,
          34.973,
          30.79,
          34.92,
          38.923,
          25.125,
          37.26,
          44.857,
          42.999,
          34.65,
          33.347,
          24.957,
          37.042,
          34.088,
          39.845,
          37.477,
          41.163,
          38.665,
          41.844,
          29.765,
          33.937,
          34.379,
          38.963,
          33.779,
          34.626,
          24.958,
          36.011,
          30.223,
          30.687,
          25.482,
          26.228,
          28.831,
          35.436,
          32.32,
          40.783,
          26.531,
          21.57,
          36.216,
          41.958,
          31.02,
          31.335,
          30.522,
          45.027
         ],
         "yaxis": "y"
        },
        {
         "customdata": [
          [
           "carapace:undistorted_GX010089_11_236.jpg_gamma",
           "Prawn_0"
          ],
          [
           "carapace:undistorted_GX010089_11_236.jpg_gamma",
           "Prawn_1"
          ],
          [
           "carapace:undistorted_GX010089_11_236.jpg_gamma",
           "Prawn_2"
          ],
          [
           "carapace:undistorted_GX010091_5_149.jpg_gamma",
           "Prawn_0"
          ],
          [
           "carapace:undistorted_GX010091_5_149.jpg_gamma",
           "Prawn_1"
          ],
          [
           "carapace:undistorted_GX010091_5_149.jpg_gamma",
           "Prawn_2"
          ],
          [
           "carapace:undistorted_GX010091_5_149.jpg_gamma",
           "Prawn_3"
          ],
          [
           "carapace:undistorted_GX010102_9_165.jpg_gamma",
           "Prawn_0"
          ],
          [
           "carapace:undistorted_GX010102_9_165.jpg_gamma",
           "Prawn_3"
          ],
          [
           "carapace:undistorted_GX010102_9_165.jpg_gamma",
           "Prawn_4"
          ],
          [
           "carapace:undistorted_GX010102_50_1396.jpg_gamma",
           "Prawn_0"
          ],
          [
           "carapace:undistorted_GX010105_28_816.jpg_gamma",
           "Prawn_0"
          ],
          [
           "carapace:undistorted_GX010105_28_816.jpg_gamma",
           "Prawn_1"
          ]
         ],
         "hovertemplate": "Pond_Type=circular small male<br>focal_RealLength(cm)=%{x}<br>closest_length_min_mae_value=%{y}<br>Label=%{customdata[0]}<br>PrawnID=%{customdata[1]}<extra></extra>",
         "legendgroup": "circular small male",
         "marker": {
          "color": "#EF553B",
          "symbol": "circle"
         },
         "mode": "markers",
         "name": "circular small male",
         "orientation": "v",
         "showlegend": true,
         "type": "scatter",
         "x": [
          22.47277084777525,
          20.33514796235023,
          30.12159256229596,
          19.78908098266481,
          29.93586524038823,
          25.5491145106465,
          2.893592324685713,
          25.36034771760088,
          22.76857451628019,
          21.24085529754919,
          36.26653580881793,
          18.78341469261274,
          31.39703645419367
         ],
         "xaxis": "x",
         "y": [
          24.663,
          21.802,
          26.155,
          20.39,
          30.385,
          27.275,
          10.252,
          26.072,
          22.044,
          20.191,
          32.291,
          21.541,
          29.164
         ],
         "yaxis": "y"
        },
        {
         "customdata": [
          [
           "carapace:undistorted_GX010152_36_378.jpg_gamma",
           "Prawn_1"
          ],
          [
           "carapace:undistorted_GX010152_36_378.jpg_gamma",
           "Prawn_2"
          ],
          [
           "carapace:undistorted_GX010155_78_1170.jpg_gamma",
           "Prawn_0"
          ],
          [
           "carapace:undistorted_GX010157_68_883",
           "Prawn_0"
          ],
          [
           "carapace:undistorted_GX010157_160_2259",
           "Prawn_0"
          ],
          [
           "carapace:undistorted_GX010157_160_2259",
           "Prawn_1"
          ],
          [
           "carapace:undistorted_GX010157_174_2582.jpg_gamma",
           "Prawn_0"
          ],
          [
           "carapace:undistorted_GX010157_177_2665.jpg_gamma",
           "Prawn_0"
          ],
          [
           "carapace:undistorted_GX010161_54_676.jpg_gamma.jpg_gamma",
           "Prawn_0"
          ],
          [
           "carapace:undistorted_GX010161_136_2267.jpg_gamma.jpg_gamma",
           "Prawn_0"
          ],
          [
           "carapace:undistorted_GX010162_72_927.jpg_gamma.jpg_gamma",
           "Prawn_0"
          ],
          [
           "carapace:undistorted_GX010169_121_1249",
           "Prawn_0"
          ],
          [
           "carapace:undistorted_GX010173_75_922.jpg_gamma",
           "Prawn_0"
          ],
          [
           "carapace:undistorted_GX010174_62_790.jpg_gamma",
           "Prawn_0"
          ],
          [
           "carapace:undistorted_GX010174_104_1236",
           "Prawn_0"
          ],
          [
           "carapace:undistorted_GX010175_82_852.jpg_gamma",
           "Prawn_0"
          ],
          [
           "carapace:undistorted_GX010175_215_2644.jpg_gamma",
           "Prawn_0"
          ],
          [
           "carapace:undistorted_GX010175_266_3372.jpg_gamma.jpg_gamma",
           "Prawn_0"
          ],
          [
           "carapace:undistorted_GX010177_232_3047",
           "Prawn_0"
          ],
          [
           "carapace:undistorted_GX010178_107_2118",
           "Prawn_0"
          ],
          [
           "carapace:undistorted_GX010178_107_2118",
           "Prawn_1"
          ],
          [
           "carapace:undistorted_GX010178_114_2258",
           "Prawn_0"
          ],
          [
           "carapace:undistorted_GX010178_189_3987.jpg_gamma",
           "Prawn_0"
          ],
          [
           "carapace:undistorted_GX010178_189_3987.jpg_gamma",
           "Prawn_1"
          ],
          [
           "carapace:undistorted_GX010179_88_1697.jpg_gamma",
           "Prawn_0"
          ],
          [
           "carapace:undistorted_GX010179_200_3927.jpg_gamma",
           "Prawn_0"
          ],
          [
           "carapace:undistorted_GX010180_91_1563",
           "Prawn_0"
          ],
          [
           "carapace:undistorted_GX010180_99_1788",
           "Prawn_0"
          ],
          [
           "carapace:undistorted_GX010181_101_1542",
           "Prawn_0"
          ],
          [
           "carapace:undistorted_GX010183_37_685.jpg_gamma",
           "Prawn_0"
          ],
          [
           "carapace:undistorted_GX010183_37_685.jpg_gamma",
           "Prawn_1"
          ],
          [
           "carapace:undistorted_GX010183_37_685.jpg_gamma",
           "Prawn_2"
          ],
          [
           "carapace:undistorted_GX010183_80_1633.jpg_gamma",
           "Prawn_0"
          ],
          [
           "carapace:undistorted_GX010183_80_1633.jpg_gamma",
           "Prawn_1"
          ],
          [
           "carapace:undistorted_GX010183_128_2852.jpg_gamma",
           "Prawn_0"
          ],
          [
           "carapace:undistorted_GX010183_128_2852.jpg_gamma",
           "Prawn_1"
          ]
         ],
         "hovertemplate": "Pond_Type=square-femal<br>focal_RealLength(cm)=%{x}<br>closest_length_min_mae_value=%{y}<br>Label=%{customdata[0]}<br>PrawnID=%{customdata[1]}<extra></extra>",
         "legendgroup": "square-femal",
         "marker": {
          "color": "#00cc96",
          "symbol": "circle"
         },
         "mode": "markers",
         "name": "square-femal",
         "orientation": "v",
         "showlegend": true,
         "type": "scatter",
         "x": [
          28.88577660030482,
          26.42481755062565,
          25.22527182170814,
          18.14622085111023,
          22.23286535323977,
          15.34258262381278,
          25.20945894183832,
          26.31400534123903,
          25.51644585360476,
          27.31676919520205,
          24.66331307283585,
          26.28642264188944,
          19.60425047518709,
          30.00269418526771,
          28.73836432228059,
          31.11989486994812,
          22.97512836817724,
          29.78070345543679,
          41.94821215100872,
          24.16105877713304,
          35.96522251994786,
          44.35540633050358,
          28.721920765215,
          37.2397192482389,
          35.47065066958163,
          39.18930317492293,
          26.85293956664093,
          32.10811877198707,
          27.01565766881514,
          21.06409936106715,
          26.71135133448309,
          20.65706647850809,
          30.31719375076593,
          30.31719375076593,
          23.28027321029692,
          23.28027321029692
         ],
         "xaxis": "x",
         "y": [
          39.047,
          39.333,
          30.792,
          29.263,
          29.246,
          36.279,
          35.889,
          34.89,
          32.396,
          43.106,
          25.724,
          33.139,
          34.354,
          36.005,
          28.92,
          32.421,
          36.19,
          30.189,
          40.919,
          28.284,
          34.411,
          45.412,
          34.576,
          39.608,
          35.25,
          39.61,
          31.231,
          29.88,
          33.85,
          33.096,
          24.399,
          35.903,
          36.821,
          34.006,
          30.983,
          25.229
         ],
         "yaxis": "y"
        },
        {
         "mode": "lines",
         "name": "line",
         "type": "scatter",
         "x": [
          0,
          50
         ],
         "y": [
          0,
          50
         ]
        }
       ],
       "layout": {
        "legend": {
         "title": {
          "text": "Pond_Type"
         },
         "tracegroupgap": 0
        },
        "margin": {
         "t": 60
        },
        "template": {
         "data": {
          "bar": [
           {
            "error_x": {
             "color": "#2a3f5f"
            },
            "error_y": {
             "color": "#2a3f5f"
            },
            "marker": {
             "line": {
              "color": "#E5ECF6",
              "width": 0.5
             },
             "pattern": {
              "fillmode": "overlay",
              "size": 10,
              "solidity": 0.2
             }
            },
            "type": "bar"
           }
          ],
          "barpolar": [
           {
            "marker": {
             "line": {
              "color": "#E5ECF6",
              "width": 0.5
             },
             "pattern": {
              "fillmode": "overlay",
              "size": 10,
              "solidity": 0.2
             }
            },
            "type": "barpolar"
           }
          ],
          "carpet": [
           {
            "aaxis": {
             "endlinecolor": "#2a3f5f",
             "gridcolor": "white",
             "linecolor": "white",
             "minorgridcolor": "white",
             "startlinecolor": "#2a3f5f"
            },
            "baxis": {
             "endlinecolor": "#2a3f5f",
             "gridcolor": "white",
             "linecolor": "white",
             "minorgridcolor": "white",
             "startlinecolor": "#2a3f5f"
            },
            "type": "carpet"
           }
          ],
          "choropleth": [
           {
            "colorbar": {
             "outlinewidth": 0,
             "ticks": ""
            },
            "type": "choropleth"
           }
          ],
          "contour": [
           {
            "colorbar": {
             "outlinewidth": 0,
             "ticks": ""
            },
            "colorscale": [
             [
              0,
              "#0d0887"
             ],
             [
              0.1111111111111111,
              "#46039f"
             ],
             [
              0.2222222222222222,
              "#7201a8"
             ],
             [
              0.3333333333333333,
              "#9c179e"
             ],
             [
              0.4444444444444444,
              "#bd3786"
             ],
             [
              0.5555555555555556,
              "#d8576b"
             ],
             [
              0.6666666666666666,
              "#ed7953"
             ],
             [
              0.7777777777777778,
              "#fb9f3a"
             ],
             [
              0.8888888888888888,
              "#fdca26"
             ],
             [
              1,
              "#f0f921"
             ]
            ],
            "type": "contour"
           }
          ],
          "contourcarpet": [
           {
            "colorbar": {
             "outlinewidth": 0,
             "ticks": ""
            },
            "type": "contourcarpet"
           }
          ],
          "heatmap": [
           {
            "colorbar": {
             "outlinewidth": 0,
             "ticks": ""
            },
            "colorscale": [
             [
              0,
              "#0d0887"
             ],
             [
              0.1111111111111111,
              "#46039f"
             ],
             [
              0.2222222222222222,
              "#7201a8"
             ],
             [
              0.3333333333333333,
              "#9c179e"
             ],
             [
              0.4444444444444444,
              "#bd3786"
             ],
             [
              0.5555555555555556,
              "#d8576b"
             ],
             [
              0.6666666666666666,
              "#ed7953"
             ],
             [
              0.7777777777777778,
              "#fb9f3a"
             ],
             [
              0.8888888888888888,
              "#fdca26"
             ],
             [
              1,
              "#f0f921"
             ]
            ],
            "type": "heatmap"
           }
          ],
          "heatmapgl": [
           {
            "colorbar": {
             "outlinewidth": 0,
             "ticks": ""
            },
            "colorscale": [
             [
              0,
              "#0d0887"
             ],
             [
              0.1111111111111111,
              "#46039f"
             ],
             [
              0.2222222222222222,
              "#7201a8"
             ],
             [
              0.3333333333333333,
              "#9c179e"
             ],
             [
              0.4444444444444444,
              "#bd3786"
             ],
             [
              0.5555555555555556,
              "#d8576b"
             ],
             [
              0.6666666666666666,
              "#ed7953"
             ],
             [
              0.7777777777777778,
              "#fb9f3a"
             ],
             [
              0.8888888888888888,
              "#fdca26"
             ],
             [
              1,
              "#f0f921"
             ]
            ],
            "type": "heatmapgl"
           }
          ],
          "histogram": [
           {
            "marker": {
             "pattern": {
              "fillmode": "overlay",
              "size": 10,
              "solidity": 0.2
             }
            },
            "type": "histogram"
           }
          ],
          "histogram2d": [
           {
            "colorbar": {
             "outlinewidth": 0,
             "ticks": ""
            },
            "colorscale": [
             [
              0,
              "#0d0887"
             ],
             [
              0.1111111111111111,
              "#46039f"
             ],
             [
              0.2222222222222222,
              "#7201a8"
             ],
             [
              0.3333333333333333,
              "#9c179e"
             ],
             [
              0.4444444444444444,
              "#bd3786"
             ],
             [
              0.5555555555555556,
              "#d8576b"
             ],
             [
              0.6666666666666666,
              "#ed7953"
             ],
             [
              0.7777777777777778,
              "#fb9f3a"
             ],
             [
              0.8888888888888888,
              "#fdca26"
             ],
             [
              1,
              "#f0f921"
             ]
            ],
            "type": "histogram2d"
           }
          ],
          "histogram2dcontour": [
           {
            "colorbar": {
             "outlinewidth": 0,
             "ticks": ""
            },
            "colorscale": [
             [
              0,
              "#0d0887"
             ],
             [
              0.1111111111111111,
              "#46039f"
             ],
             [
              0.2222222222222222,
              "#7201a8"
             ],
             [
              0.3333333333333333,
              "#9c179e"
             ],
             [
              0.4444444444444444,
              "#bd3786"
             ],
             [
              0.5555555555555556,
              "#d8576b"
             ],
             [
              0.6666666666666666,
              "#ed7953"
             ],
             [
              0.7777777777777778,
              "#fb9f3a"
             ],
             [
              0.8888888888888888,
              "#fdca26"
             ],
             [
              1,
              "#f0f921"
             ]
            ],
            "type": "histogram2dcontour"
           }
          ],
          "mesh3d": [
           {
            "colorbar": {
             "outlinewidth": 0,
             "ticks": ""
            },
            "type": "mesh3d"
           }
          ],
          "parcoords": [
           {
            "line": {
             "colorbar": {
              "outlinewidth": 0,
              "ticks": ""
             }
            },
            "type": "parcoords"
           }
          ],
          "pie": [
           {
            "automargin": true,
            "type": "pie"
           }
          ],
          "scatter": [
           {
            "fillpattern": {
             "fillmode": "overlay",
             "size": 10,
             "solidity": 0.2
            },
            "type": "scatter"
           }
          ],
          "scatter3d": [
           {
            "line": {
             "colorbar": {
              "outlinewidth": 0,
              "ticks": ""
             }
            },
            "marker": {
             "colorbar": {
              "outlinewidth": 0,
              "ticks": ""
             }
            },
            "type": "scatter3d"
           }
          ],
          "scattercarpet": [
           {
            "marker": {
             "colorbar": {
              "outlinewidth": 0,
              "ticks": ""
             }
            },
            "type": "scattercarpet"
           }
          ],
          "scattergeo": [
           {
            "marker": {
             "colorbar": {
              "outlinewidth": 0,
              "ticks": ""
             }
            },
            "type": "scattergeo"
           }
          ],
          "scattergl": [
           {
            "marker": {
             "colorbar": {
              "outlinewidth": 0,
              "ticks": ""
             }
            },
            "type": "scattergl"
           }
          ],
          "scattermapbox": [
           {
            "marker": {
             "colorbar": {
              "outlinewidth": 0,
              "ticks": ""
             }
            },
            "type": "scattermapbox"
           }
          ],
          "scatterpolar": [
           {
            "marker": {
             "colorbar": {
              "outlinewidth": 0,
              "ticks": ""
             }
            },
            "type": "scatterpolar"
           }
          ],
          "scatterpolargl": [
           {
            "marker": {
             "colorbar": {
              "outlinewidth": 0,
              "ticks": ""
             }
            },
            "type": "scatterpolargl"
           }
          ],
          "scatterternary": [
           {
            "marker": {
             "colorbar": {
              "outlinewidth": 0,
              "ticks": ""
             }
            },
            "type": "scatterternary"
           }
          ],
          "surface": [
           {
            "colorbar": {
             "outlinewidth": 0,
             "ticks": ""
            },
            "colorscale": [
             [
              0,
              "#0d0887"
             ],
             [
              0.1111111111111111,
              "#46039f"
             ],
             [
              0.2222222222222222,
              "#7201a8"
             ],
             [
              0.3333333333333333,
              "#9c179e"
             ],
             [
              0.4444444444444444,
              "#bd3786"
             ],
             [
              0.5555555555555556,
              "#d8576b"
             ],
             [
              0.6666666666666666,
              "#ed7953"
             ],
             [
              0.7777777777777778,
              "#fb9f3a"
             ],
             [
              0.8888888888888888,
              "#fdca26"
             ],
             [
              1,
              "#f0f921"
             ]
            ],
            "type": "surface"
           }
          ],
          "table": [
           {
            "cells": {
             "fill": {
              "color": "#EBF0F8"
             },
             "line": {
              "color": "white"
             }
            },
            "header": {
             "fill": {
              "color": "#C8D4E3"
             },
             "line": {
              "color": "white"
             }
            },
            "type": "table"
           }
          ]
         },
         "layout": {
          "annotationdefaults": {
           "arrowcolor": "#2a3f5f",
           "arrowhead": 0,
           "arrowwidth": 1
          },
          "autotypenumbers": "strict",
          "coloraxis": {
           "colorbar": {
            "outlinewidth": 0,
            "ticks": ""
           }
          },
          "colorscale": {
           "diverging": [
            [
             0,
             "#8e0152"
            ],
            [
             0.1,
             "#c51b7d"
            ],
            [
             0.2,
             "#de77ae"
            ],
            [
             0.3,
             "#f1b6da"
            ],
            [
             0.4,
             "#fde0ef"
            ],
            [
             0.5,
             "#f7f7f7"
            ],
            [
             0.6,
             "#e6f5d0"
            ],
            [
             0.7,
             "#b8e186"
            ],
            [
             0.8,
             "#7fbc41"
            ],
            [
             0.9,
             "#4d9221"
            ],
            [
             1,
             "#276419"
            ]
           ],
           "sequential": [
            [
             0,
             "#0d0887"
            ],
            [
             0.1111111111111111,
             "#46039f"
            ],
            [
             0.2222222222222222,
             "#7201a8"
            ],
            [
             0.3333333333333333,
             "#9c179e"
            ],
            [
             0.4444444444444444,
             "#bd3786"
            ],
            [
             0.5555555555555556,
             "#d8576b"
            ],
            [
             0.6666666666666666,
             "#ed7953"
            ],
            [
             0.7777777777777778,
             "#fb9f3a"
            ],
            [
             0.8888888888888888,
             "#fdca26"
            ],
            [
             1,
             "#f0f921"
            ]
           ],
           "sequentialminus": [
            [
             0,
             "#0d0887"
            ],
            [
             0.1111111111111111,
             "#46039f"
            ],
            [
             0.2222222222222222,
             "#7201a8"
            ],
            [
             0.3333333333333333,
             "#9c179e"
            ],
            [
             0.4444444444444444,
             "#bd3786"
            ],
            [
             0.5555555555555556,
             "#d8576b"
            ],
            [
             0.6666666666666666,
             "#ed7953"
            ],
            [
             0.7777777777777778,
             "#fb9f3a"
            ],
            [
             0.8888888888888888,
             "#fdca26"
            ],
            [
             1,
             "#f0f921"
            ]
           ]
          },
          "colorway": [
           "#636efa",
           "#EF553B",
           "#00cc96",
           "#ab63fa",
           "#FFA15A",
           "#19d3f3",
           "#FF6692",
           "#B6E880",
           "#FF97FF",
           "#FECB52"
          ],
          "font": {
           "color": "#2a3f5f"
          },
          "geo": {
           "bgcolor": "white",
           "lakecolor": "white",
           "landcolor": "#E5ECF6",
           "showlakes": true,
           "showland": true,
           "subunitcolor": "white"
          },
          "hoverlabel": {
           "align": "left"
          },
          "hovermode": "closest",
          "mapbox": {
           "style": "light"
          },
          "paper_bgcolor": "white",
          "plot_bgcolor": "#E5ECF6",
          "polar": {
           "angularaxis": {
            "gridcolor": "white",
            "linecolor": "white",
            "ticks": ""
           },
           "bgcolor": "#E5ECF6",
           "radialaxis": {
            "gridcolor": "white",
            "linecolor": "white",
            "ticks": ""
           }
          },
          "scene": {
           "xaxis": {
            "backgroundcolor": "#E5ECF6",
            "gridcolor": "white",
            "gridwidth": 2,
            "linecolor": "white",
            "showbackground": true,
            "ticks": "",
            "zerolinecolor": "white"
           },
           "yaxis": {
            "backgroundcolor": "#E5ECF6",
            "gridcolor": "white",
            "gridwidth": 2,
            "linecolor": "white",
            "showbackground": true,
            "ticks": "",
            "zerolinecolor": "white"
           },
           "zaxis": {
            "backgroundcolor": "#E5ECF6",
            "gridcolor": "white",
            "gridwidth": 2,
            "linecolor": "white",
            "showbackground": true,
            "ticks": "",
            "zerolinecolor": "white"
           }
          },
          "shapedefaults": {
           "line": {
            "color": "#2a3f5f"
           }
          },
          "ternary": {
           "aaxis": {
            "gridcolor": "white",
            "linecolor": "white",
            "ticks": ""
           },
           "baxis": {
            "gridcolor": "white",
            "linecolor": "white",
            "ticks": ""
           },
           "bgcolor": "#E5ECF6",
           "caxis": {
            "gridcolor": "white",
            "linecolor": "white",
            "ticks": ""
           }
          },
          "title": {
           "x": 0.05
          },
          "xaxis": {
           "automargin": true,
           "gridcolor": "white",
           "linecolor": "white",
           "ticks": "",
           "title": {
            "standoff": 15
           },
           "zerolinecolor": "white",
           "zerolinewidth": 2
          },
          "yaxis": {
           "automargin": true,
           "gridcolor": "white",
           "linecolor": "white",
           "ticks": "",
           "title": {
            "standoff": 15
           },
           "zerolinecolor": "white",
           "zerolinewidth": 2
          }
         }
        },
        "title": {
         "text": "Length_FOV_box vs. closest_length_min_mae_value"
        },
        "xaxis": {
         "anchor": "y",
         "domain": [
          0,
          1
         ],
         "title": {
          "text": "focal_RealLength(cm)"
         }
        },
        "yaxis": {
         "anchor": "x",
         "domain": [
          0,
          1
         ],
         "title": {
          "text": "closest_length_min_mae_value"
         }
        }
       }
      }
     },
     "metadata": {},
     "output_type": "display_data"
    }
   ],
   "source": [
    "import plotly.express as px\n",
    "\n",
    "\n",
    "\n",
    "\n",
    "\n",
    "df['min_mpe_length-'] = df.apply(lambda row: row['Length_fov(mm)'] - row['Length_fov(mm)'] * row['min_mpe']/100, axis=1)\n",
    "                                \n",
    "df['min_mpe_length+']= df.apply(lambda row: row['Length_fov(mm)'] + row['Length_fov(mm)'] * row['min_mpe']/100, axis=1)\n",
    "\n",
    "df['min_mae_length-'] = df.apply(lambda row: row['Length_fov(mm)'] -  row['min_mae'], axis=1)\n",
    "df['min_mae_length+'] = df.apply(lambda row: row['Length_fov(mm)'] +  row['min_mae'], axis=1)\n",
    "\n",
    "\n",
    "\n",
    "\n",
    "def get_closest_length_and_distance(row, target_length1,true_length2):\n",
    "    lengths = [row['Length_1'], row['Length_2'], row['Length_3']]\n",
    "    closest_length_1 = min(lengths, key=lambda x: abs(x - target_length1))\n",
    "    distance_1 = abs(closest_length_1 - target_length1)\n",
    "    closest_length_2 = min(lengths, key=lambda x: abs(x - true_length2))\n",
    "    distance_2 = abs(closest_length_2 - true_length2)\n",
    "\n",
    "    if distance_1 < distance_2:\n",
    "        closest_length = closest_length_1\n",
    "        distance = distance_1\n",
    "    else:\n",
    "        closest_length = closest_length_2\n",
    "        distance = distance_2\n",
    "\n",
    "\n",
    "    return closest_length, distance\n",
    "\n",
    "# Apply the function to find the closest length and distance to min_mpe_length-\n",
    "df['closest_length_min_mpe'] = df.apply(\n",
    "    lambda row: (get_closest_length_and_distance(row, row['min_mpe_length-'],row['min_mpe_length+'])), axis=1\n",
    ")\n",
    "\n",
    "df['closest_length_min_mae'] = df.apply( lambda row: (get_closest_length_and_distance(row, row['min_mae_length-'],row['min_mae_length+'])), axis=1)\n",
    "\n",
    "# Apply the function to find the closest length and distance to min_mpe_length+\n",
    "df['closest_length_min_mae_value']=df['closest_length_min_mae'].apply(lambda x: x[0] if isinstance(x, tuple) else x)\n",
    "# Assuming df cont\n",
    "\n",
    "\n",
    "\n",
    "import plotly.graph_objects as go\n",
    "\n",
    "\n",
    "#scatter plot between length_fov and closest_length_min_mae_value\n",
    "fig = px.scatter(df,color='Pond_Type',x= 'focal_RealLength(cm)', y='closest_length_min_mae_value', hover_data=['Label', 'PrawnID'])\n",
    "#add title\n",
    "fig.update_layout(title=f'pinhole vs. closest_length_min_mae_value')\n",
    "fig.add_trace(go.Scatter(x=[0, 50], y=[0, 50], mode='lines', name='line'))\n",
    "\n",
    "#save the plot to png\n",
    "fig.write_image(f'carapace pinhole vs. closest_length_min_mae_value.png')\n",
    "#add a trendline\n",
    "\n",
    "#add line\n",
    "\n",
    "\n",
    "fig.show()\n",
    "#\n",
    "#"
   ]
  },
  {
   "cell_type": "code",
   "execution_count": 8,
   "metadata": {},
   "outputs": [
    {
     "name": "stdout",
     "output_type": "stream",
     "text": [
      "pond type count:\n",
      "Pond_Type\n",
      "test-right    99\n",
      "test-car      36\n",
      "test-left     13\n",
      "Name: count, dtype: int64\n",
      "pond type mean:\n",
      "Pond_Type\n",
      "test-car      36.382602\n",
      "test-left     24.400821\n",
      "test-right    35.204135\n",
      "Name: Avg_Length, dtype: float64\n",
      "pond type std:\n",
      "Pond_Type\n",
      "test-car      5.056834\n",
      "test-left     5.935468\n",
      "test-right    5.529236\n",
      "Name: Avg_Length, dtype: float64\n",
      "min_mpe fov median:\n",
      "Pond_Type\n",
      "test-car      18.332959\n",
      "test-left      8.182464\n",
      "test-right     6.147389\n",
      "Name: min_mpe, dtype: float64\n",
      "min_mae fov median:\n",
      "Pond_Type\n",
      "test-car      6.451846\n",
      "test-left     2.223462\n",
      "test-right    2.121701\n",
      "Name: min_mae, dtype: float64\n",
      "max_mpe fov median:\n",
      "Pond_Type\n",
      "test-car      28.295583\n",
      "test-left     20.843634\n",
      "test-right    19.806458\n",
      "Name: max_mpe, dtype: float64\n",
      "max_mae fov median:\n",
      "Pond_Type\n",
      "test-car      11.455317\n",
      "test-left      4.706797\n",
      "test-right     6.940607\n",
      "Name: max_mae, dtype: float64\n",
      "min_mpe focal length median:\n",
      "Pond_Type\n",
      "test-car      17.297178\n",
      "test-left      6.728062\n",
      "test-right     5.131809\n",
      "Name: min_mpe_focal_length, dtype: float64\n",
      "max_mpe focal length median:\n",
      "Pond_Type\n",
      "test-car      27.811693\n",
      "test-left     23.400220\n",
      "test-right    17.856277\n",
      "Name: max_mpe_focal_length, dtype: float64\n",
      "min_mae focal length median:\n",
      "Pond_Type\n",
      "test-car      5.928193\n",
      "test-left     1.725885\n",
      "test-right    1.720302\n",
      "Name: min_mae_focal_length, dtype: float64\n",
      "max_mae focal length median:\n",
      "Pond_Type\n",
      "test-car      11.312074\n",
      "test-left      4.844652\n",
      "test-right     6.453759\n",
      "Name: max_mae_focal_length, dtype: float64\n"
     ]
    }
   ],
   "source": [
    "#min_mpe_focal_length from MPError_focal_min, MPError_focal_max, MPError_focal_median\n",
    "# min_mae_focal_length from AbsError_focal_min, AbsError_focal_max, AbsError_focal_median\n",
    "\n",
    "df['min_mpe_focal_length']=df[['MPError_focal_min', 'MPError_focal_max','MPError_focal_median']].min(axis=1)\n",
    "\n",
    "df['max_mpe_focal_length']=df[['MPError_focal_min', 'MPError_focal_max','MPError_focal_median']].max(axis=1)\n",
    "\n",
    "df['min_mae_focal_length']=df[['AbsError_focal_min', 'AbsError_focal_max','AbsError_focal_median']].min(axis=1)\n",
    "\n",
    "df['max_mae_focal_length']=df[['AbsError_focal_min', 'AbsError_focal_max','AbsError_focal_median']].max(axis=1)\n",
    "\n",
    "\n",
    "#print title of the prints\n",
    "print('pond type count:')\n",
    "print(df['Pond_Type'].value_counts())\n",
    "\n",
    "print('pond type mean:')\n",
    "print(df.groupby('Pond_Type')['Avg_Length'].mean())\n",
    "\n",
    "print('pond type std:')\n",
    "print(df.groupby('Pond_Type')['Avg_Length'].std())\n",
    "\n",
    "\n",
    "print ('min_mpe fov median:')\n",
    "print(df.groupby('Pond_Type')['min_mpe'].median())\n",
    "#mean and std for each pond type of the lengt_1, length_2, length_\n",
    "\n",
    "#print min_mae median and std for each pond type\n",
    "\n",
    "print('min_mae fov median:')\n",
    "print(df.groupby('Pond_Type')['min_mae'].median())\n",
    "\n",
    "\n",
    "\n",
    "print('max_mpe fov median:')\n",
    "print(df.groupby('Pond_Type')['max_mpe'].median())\n",
    "\n",
    "print('max_mae fov median:')\n",
    "print(df.groupby('Pond_Type')['max_mae'].median())\n",
    "\n",
    "\n",
    "print('min_mpe focal length median:')\n",
    "print(df.groupby('Pond_Type')['min_mpe_focal_length'].median())\n",
    "\n",
    "print('max_mpe focal length median:')\n",
    "print(df.groupby('Pond_Type')['max_mpe_focal_length'].median()) \n",
    "\n",
    "print('min_mae focal length median:')\n",
    "print(df.groupby('Pond_Type')['min_mae_focal_length'].median())\n",
    "\n",
    "print('max_mae focal length median:')   \n",
    "print(df.groupby('Pond_Type')['max_mae_focal_length'].median())\n",
    "\n",
    "\n",
    "\n",
    "\n",
    "\n",
    "\n"
   ]
  },
  {
   "cell_type": "code",
   "execution_count": 18,
   "metadata": {},
   "outputs": [
    {
     "name": "stdout",
     "output_type": "stream",
     "text": [
      "mean difference between min max for each pond type:\n",
      "Pond_Type\n",
      "circular big male      3.423313\n",
      "circular small male    3.619078\n",
      "square-femal           3.387604\n",
      "Name: diff_max_min, dtype: float64\n"
     ]
    }
   ],
   "source": [
    "#mean difference between min max of Length_1, Length_2, Length_3 for each pond type\n",
    "print('mean difference between min max for each pond type:')\n",
    "print(df.groupby('Pond_Type')['diff_max_min'].std())"
   ]
  },
  {
   "cell_type": "code",
   "execution_count": 16,
   "metadata": {},
   "outputs": [
    {
     "name": "stdout",
     "output_type": "stream",
     "text": [
      "uncertainty of the mean:\n",
      "Pond_Type\n",
      "circular big male      0.261743\n",
      "circular small male    0.649817\n",
      "square-femal           0.428996\n",
      "dtype: float64\n"
     ]
    }
   ],
   "source": [
    "#print uncertainty of the mean \n",
    "print('uncertainty of the mean:')\n",
    "print(df.groupby('Pond_Type')['Std_Length'].mean()/np.sqrt(df.groupby('Pond_Type')['Avg_Length'].count()))"
   ]
  },
  {
   "cell_type": "code",
   "execution_count": null,
   "metadata": {},
   "outputs": [],
   "source": [
    "X = df[['camera_distance', 'pose_metric_1', 'pose_metric_2']]  # Add other pose metrics if available\n",
    "X = sm.add_constant(X)\n",
    "y = df['diff']\n",
    "model = sm.OLS(y, X).fit()\n",
    "print(model.summary())\n",
    "\n",
    "\n",
    "\n",
    "\n",
    "melted_df = df.melt(id_vars=['Label','PrawnID'], value_vars=['Length_1', 'Length_2', 'Length_3'],\n",
    "                   var_name='rater', value_name='measurement')\n",
    "icc = pg.intraclass_corr(data=melted_df, targets=['Label','PrawnID'], raters='rater', ratings='measurement')\n",
    "print(icc)\n",
    "\n",
    "\n",
    "# Correlation Analysis\n",
    "pearson_corr, pearson_p = pearsonr(df['keypoint_mm'], df['expert_mean'])\n",
    "spearman_corr, spearman_p = spearmanr(df['keypoint_mm'], df['expert_mean'])\n",
    "print(f\"Pearson Correlation: {pearson_corr:.3f}, p-value: {pearson_p:.3e}\")\n",
    "print(f\"Spearman Correlation: {spearman_corr:.3f}, p-value: {spearman_p:.3e}\")\n",
    "\n",
    "mean_measurements = (df['keypoint_mm'] + df['expert_mean']) / 2\n",
    "diff_measurements = df['diff']\n",
    "md = np.mean(diff_measurements)\n",
    "sd = np.std(diff_measurements)\n",
    "\n",
    "plt.figure(figsize=(10, 6))\n",
    "plt.scatter(mean_measurements, diff_measurements, alpha=0.5)\n",
    "plt.axhline(md, color='gray', linestyle='--', label=f'Mean Diff = {md:.2f} mm')\n",
    "plt.axhline(md + 1.96*sd, color='red', linestyle='--', label=f'+1.96 SD = {md + 1.96*sd:.2f} mm')\n",
    "plt.axhline(md - 1.96*sd, color='red', linestyle='--', label=f'-1.96 SD = {md - 1.96*sd:.2f} mm')\n",
    "plt.xlabel('Mean of Measurements (mm)')\n",
    "plt.ylabel('Difference (Keypoint - Expert) (mm)')\n",
    "plt.title('Bland-Altman Plot')\n",
    "plt.legend()\n",
    "plt.show()\n",
    "\n",
    "\n",
    "\n",
    "stat, p = shapiro(df['diff'])\n",
    "print(f'Shapiro-Wilk Test: stat={stat:.3f}, p-value={p:.3e}')\n",
    "\n",
    "# Homogeneity of Variance\n",
    "# Assuming 'camera_distance_category' is already defined as in the visualization section\n",
    "groups = df.groupby('camera_distance_category')['diff'].apply(list)\n",
    "stat, p = levene(*groups)\n",
    "print(f\"Levene’s Test: stat={stat:.3f}, p-value={p:.3e}\")\n"
   ]
  }
 ],
 "metadata": {
  "kernelspec": {
   "display_name": ".venv",
   "language": "python",
   "name": "python3"
  },
  "language_info": {
   "codemirror_mode": {
    "name": "ipython",
    "version": 3
   },
   "file_extension": ".py",
   "mimetype": "text/x-python",
   "name": "python",
   "nbconvert_exporter": "python",
   "pygments_lexer": "ipython3",
   "version": "3.9.7"
  }
 },
 "nbformat": 4,
 "nbformat_minor": 2
}
