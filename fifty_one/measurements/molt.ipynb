{
 "cells": [
  {
   "cell_type": "markdown",
   "metadata": {},
   "source": [
    "# good"
   ]
  },
  {
   "cell_type": "code",
   "execution_count": 14,
   "metadata": {},
   "outputs": [],
   "source": [
    "from utils import calculate_euclidean_distance, calculate_real_width\n",
    "from skeletonization import skeletonize_mask,create_filled_binary_mask, skeletonize_mask, find_longest_path\n",
    "import cv2\n",
    "import fiftyone as fo\n",
    "import numpy as np\n",
    "\n",
    "from scipy.spatial.distance import pdist, squareform\n",
    "\n",
    "from scipy.spatial.distance import pdist, squareform\n",
    "\n",
    "# def find_furthest_points(contour):\n",
    "#     \"\"\"\n",
    "#     Find the pair of points in the convex hull that are furthest apart.\n",
    "\n",
    "#     Parameters:\n",
    "#     - contour: np.ndarray of shape (n_points, 1, 2)\n",
    "\n",
    "#     Returns:\n",
    "#     - hull: np.ndarray of shape (m, 2) representing the convex hull points\n",
    "#     - pair: Tuple containing the two furthest points as np.ndarrays\n",
    "#     - max_distance: The maximum Euclidean distance between the pair\n",
    "#     \"\"\"\n",
    "#     # Compute the convex hull\n",
    "#     hull = cv2.convexHull(contour, returnPoints=True).reshape(-1, 2)\n",
    "    \n",
    "#     # Ensure there are at least two points in the hull\n",
    "#     if len(hull) < 2:\n",
    "#         raise ValueError(\"Convex hull must contain at least two points.\")\n",
    "    \n",
    "#     # Compute pairwise distances\n",
    "#     distances = pdist(hull, metric='euclidean')\n",
    "    \n",
    "#     # Convert to a square distance matrix\n",
    "#     distance_matrix = squareform(distances)\n",
    "    \n",
    "#     # Find the indices of the maximum distance\n",
    "#     i, j = np.unravel_index(np.argmax(distance_matrix), distance_matrix.shape)\n",
    "    \n",
    "#     # Retrieve the pair of points\n",
    "#     pair = (hull[i], hull[j])\n",
    "    \n",
    "#     # Retrieve the maximum distance\n",
    "#     max_distance = distance_matrix[i, j]\n",
    "    \n",
    "#     return hull, pair, max_distance\n",
    "\n",
    "\n",
    "\n",
    "\n",
    "def process_segmentations(segmentation_path):\n",
    "    \"\"\"\n",
    "    Process the segmentations from the TXT file, calculate the minimum enclosing circle for each prawn.\n",
    "    \"\"\"\n",
    "    segmentations = []\n",
    "    # skeletons=[]\n",
    "    # hulls=[]\n",
    "    # # skeletons_straight=[]\n",
    "    # # skeletons_straight_2=[]\n",
    "    # seg_closeds=[]\n",
    "    # skeletons_2=[]\n",
    "    # box_diagonal=[] \n",
    "    boxes=[]\n",
    "    # masks=[]\n",
    "    # convexs=[]\n",
    "    # cont_pair=[]\n",
    "\n",
    "\n",
    "\n",
    "\n",
    "\n",
    "\n",
    "    \n",
    "    # Open the segmentation file and process each line\n",
    "    with open(segmentation_path, 'r') as file:\n",
    "        for line in file:\n",
    "            coords = [float(x) for x in line.strip().split()]\n",
    "            coords_array = np.array(coords).reshape(-1, 2)\n",
    "            \n",
    "\n",
    "            \n",
    "            binary_mask_no = create_filled_binary_mask(coords_array, 360, 640, gaussian_blur=False) \n",
    "            \n",
    "            if np.sum(binary_mask_no) == 0:   \n",
    "                continue\n",
    "\n",
    "\n",
    "\n",
    "\n",
    "\n",
    "            # binary_dilated = cv2.dilate(binary_mask_no, np.ones((15, 15), np.uint8), iterations=1)     \n",
    "\n",
    "\n",
    "            # #contour dilated\n",
    "            # contures_dil, _ = cv2.findContours(binary_dilated, cv2.RETR_EXTERNAL, cv2.CHAIN_APPROX_SIMPLE)    \n",
    "\n",
    "\n",
    "            # prawn_conture_dil = max(contures_dil, key=cv2.contourArea)\n",
    "\n",
    "            # coords_contour_dil = np.column_stack(prawn_conture_dil).flatten()\n",
    "\n",
    "            # normalized_coords_bin=[(coords_contour_dil[i]/640, coords_contour_dil[i+1]/360) for i in range(0, len(coords_contour_dil), 2)]  # Extract points (x, y)\n",
    "\n",
    "\n",
    "            # masks.append(fo.Polyline(\n",
    "            #     points=[normalized_coords_bin],\n",
    "            #     closed=True,\n",
    "            #     filled=False,\n",
    "            # ))\n",
    "\n",
    "\n",
    "            \n",
    "            # thinned_2=skeletonize_mask(binary_mask_no)\n",
    "\n",
    "            # # skeleton = skeletonize_mask(binary_mask)\n",
    "            # skeleton_2 = thinned_2\n",
    "            # skeleton_coords_2 = np.column_stack(np.nonzero(skeleton_2))\n",
    "            # normalized_coords_2,max_length_2 = find_longest_path(skeleton_coords_2,(360,640),(2988,5312))\n",
    "\n",
    "            # normalized_coords_2 = [(x, y) for y, x in normalized_coords_2]  # Convert to (y, x) format\n",
    "\n",
    "            # #only the first and last points of the skeleton\n",
    "            # normalized_coords_straight_2 = [normalized_coords_2[0], normalized_coords_2[-1]]  \n",
    "\n",
    "\n",
    "\n",
    "\n",
    "\n",
    "             \n",
    "            #convex hull diameter\n",
    "            contures, _ = cv2.findContours(binary_mask_no, cv2.RETR_EXTERNAL, cv2.CHAIN_APPROX_SIMPLE)\n",
    "\n",
    "            \n",
    "            prawn_conture = max(contures, key=cv2.contourArea) \n",
    "            \n",
    "        \n",
    "\n",
    "            # Compute the minimum area rectangle enclosing the shrimp\n",
    "            rect = cv2.minAreaRect(prawn_conture)\n",
    "            box_points = cv2.boxPoints(rect)\n",
    "            # box_points = np.int0(box_points)\n",
    "\n",
    "            original_size = (640, 360)\n",
    "            new_size = (5312, 2988)\n",
    "\n",
    "            # Scaling factors\n",
    "            scale_x = new_size[0] / original_size[0]  # 5312 / 640\n",
    "            scale_y = new_size[1] / original_size[1]  # 2988 / 640\n",
    "\n",
    "            # print(f\"Scale X: {scale_x}, Scale Y: {scale_y}\")  # Should both be 8.3\n",
    "\n",
    "\n",
    "            # pair, max_length_cont=find_furthest_points(prawn_conture)\n",
    "            # if len(pair) < 2:\n",
    "            #     raise ValueError(f\"Expected pair to contain at least two points, but got {len(pair)}\")\n",
    "                \n",
    "            # normalized_pair= [(pair[0][0]/640, pair[0][1]/360), (pair[1][0]/640, pair[1][1]/360)]\n",
    "\n",
    "            # cont_pair.append(fo.Polyline(\n",
    "            #     points=[normalized_pair],\n",
    "            #     closed=False,\n",
    "            #     filled=False,\n",
    "            #     max_length=max_length_cont\n",
    "            # ))\n",
    "\n",
    "\n",
    "\n",
    "            # scaled_pair= [(pair[0][0] * scale_x, pair[0][1] * scale_y), (pair[1][0] * scale_x, pair[1][1] * scale_y)]\n",
    "               \n",
    "            # max_length_cont=np.linalg.norm(np.array(scaled_pair[0])-np.array(scaled_pair[1]))\n",
    "\n",
    "\n",
    "\n",
    "\n",
    "            box_points_scaled = np.array([(point[0] * scale_x, point[1] * scale_y) for point in box_points])\n",
    "\n",
    "            rotated_rect_width = rect[1][0] * scale_x\n",
    "            rotated_rect_height = rect[1][1] * scale_y\n",
    "\n",
    "# The max length of the rectangle is the longer side\n",
    "            max_length_box = max(rotated_rect_width, rotated_rect_height)\n",
    "\n",
    "            # print(f\"Rotated Rect Width: {rotated_rect_width}, Height: {rotated_rect_height}, Max Length Box: {max_length_box}\")\n",
    "\n",
    "        \n",
    "            # Convert theta from degrees to radians for FiftyOne\n",
    "            theta_radians = np.deg2rad(rect[2])\n",
    "            # normalized_bounding_box = [(box_points[i][0]/640, box_points[i][1]/640) for i in range(0, len(box_points))] \n",
    "            \n",
    "            # image_center_x = 640 / 2\n",
    "\n",
    "            # xc_adjusted = rect[0][0] - image_center_x\n",
    "\n",
    "            # Extract points (x, y) \n",
    "            box=fo.Polyline.from_rotated_box(\n",
    "                xc=rect[0][0] ,\n",
    "                yc=rect[0][1],\n",
    "                w=rect[1][0],\n",
    "                h=rect[1][1],\n",
    "                theta =theta_radians,\n",
    "                frame_size=(640, 360)\n",
    "\n",
    "            )\n",
    "\n",
    "\n",
    "            boxes.append(box)\n",
    "\n",
    "\n",
    "            # hull_points = cv2.convexHull(prawn_conture, returnPoints=True)\n",
    "\n",
    "            \n",
    "#             points,furthest_pair, max_length_cont = find_furthest_points(prawn_conture)\n",
    "\n",
    "# # Scaling ffurthest_pair, max_length_cont = find_furthest_points(prawn_contour)\n",
    "\n",
    "#             # If you need to scale the points and distance\n",
    "#             original_size = (640, 360)\n",
    "#             new_size = (5312, 2988)\n",
    "\n",
    "#             scale_x = new_size[0] / original_size[0]\n",
    "#             scale_y = new_size[1] / original_size[1]\n",
    "\n",
    "#             scaled_pair = [(p[0] * scale_x, p[1] * scale_y) for p in furthest_pair]\n",
    "\n",
    "\n",
    "#             #eucledian distance between scaled pair\n",
    "#             max_distance = np.linalg.norm(np.array(scaled_pair[0])-np.array(scaled_pair[1]))\n",
    "\n",
    "\n",
    "#             # The result is max_distance (in pixels) in the 5312x2988 image\n",
    "\n",
    "\n",
    "#             normalzied_points_hull = [(point[0]/640, point[1]/360) for point in points]  # Extract points (x, y)\n",
    "\n",
    "#             hull=fo.Polyline(\n",
    "#                 points=[[(point[0]/640, point[1]/360) for point in furthest_pair]],\n",
    "#                 closed=False,\n",
    "#                 filled=False,\n",
    "#                 max_length=max_distance\n",
    "#             )\n",
    "\n",
    "           \n",
    "#             hull_convex=fo.Polyline(\n",
    "#                 points=[normalzied_points_hull],\n",
    "#                 closed=False,\n",
    "#                 filled=False,\n",
    "#                 max_length=max_distance\n",
    "#             )\n",
    "               \n",
    "               \n",
    "#             convexs.append(hull_convex)\n",
    "\n",
    "\n",
    "\n",
    "\n",
    "\n",
    "                    \n",
    "\n",
    "        # skeleton_straight=fo.Polyline(\n",
    "        #     points=[normalized_coords_straight],\n",
    "        #     closed=False,\n",
    "        #     filled=False,\n",
    "        #     max_length=max_length\n",
    "        # )\n",
    "        # skeletons_straight.append(skeleton_straight)\n",
    "\n",
    "            # skeleton_straight_2=fo.Polyline(\n",
    "            #     points=[normalized_coords_straight_2],\n",
    "            #     closed=False,\n",
    "            #     filled=False,\n",
    "            #     max_length=max_length_2,\n",
    "                \n",
    "            # )\n",
    "            # skeletons_straight_2.append(skeleton_straight_2)\n",
    "\n",
    "\n",
    "\n",
    "\n",
    "            # hulls.append(hull)\n",
    "\n",
    "            # skeleton=fo.Polyline(\n",
    "            #     points=[normalized_coords],\n",
    "            #     closed=False,\n",
    "            #     filled=False,\n",
    "            #     max_length=max_length\n",
    "            # )\n",
    "\n",
    "            # skeletons.append(skeleton)\n",
    "            \n",
    "            # skeleton_2=fo.Polyline( \n",
    "            #     points=[normalized_coords_2],\n",
    "            #     closed=False,\n",
    "            #     filled=False,\n",
    "            #     max_length=max_length_2)\n",
    "            # skeletons_2.append(skeleton_2)\n",
    "              # Convert the line to a list of floats\n",
    "            normalzied_points = [(coords[i]/640, coords[i + 1]/360) for i in range(0, len(coords), 2)]  # Extract points (x, y)\n",
    "            # points = [Point(x*5312, y*2988) for x, y in normalzied_points] \n",
    "            \n",
    "\n",
    "            scaled_contour = []\n",
    "            for point in prawn_conture:\n",
    "                scaled_x = int(point[0][0] * scale_x)\n",
    "                scaled_y = int(point[0][1] * scale_y)\n",
    "                scaled_contour.append([[scaled_x, scaled_y]])\n",
    "\n",
    "            scaled_contour = np.array(scaled_contour, dtype=np.int32)\n",
    "\n",
    "             # Convert to Point objects    \n",
    "            # Calculate the minimum enclosing circle (center and radius)\n",
    "            center, radius = cv2.minEnclosingCircle(scaled_contour)\n",
    "\n",
    "\n",
    "\n",
    "            diameter = radius * 2\n",
    "\n",
    "\n",
    "            #center in 640x360\n",
    "            center_640 = (center[0] / scale_x, center[1] / scale_y)\n",
    "        \n",
    "\n",
    "            segmentation = fo.Polyline(\n",
    "                points=[normalzied_points],\n",
    "                closed=True,\n",
    "                filled=False,\n",
    "                diameter=diameter,\n",
    "                center=center_640,\n",
    "                max_length_box=max_length_box,\n",
    "                rect=rect,\n",
    "                # max_length_cont=max_length_cont\n",
    "            )\n",
    "\n",
    "            #smooth segmentation  wirh closing\n",
    "            # seg_closed=fo.Polyline(\n",
    "            #     points=[normalized_coords_bin],\n",
    "            #     closed=True,\n",
    "            #     filled=False,\n",
    "            #     max_length=max_length\n",
    "            # )\n",
    "\n",
    "            # seg_closeds.append(seg_closed)                \n",
    "\n",
    "\n",
    "            segmentations.append(segmentation)\n",
    "\n",
    "            \n",
    "            # # Calculate diagonal of the rotated rectangle\n",
    "            # rect_diagonal = np.linalg.norm(np.array(box_points_scaled[0]) - np.array(box_points_scaled[2]))\n",
    "\n",
    "            # # Compare with the convex hull furthest distance\n",
    "            # print(f\"Rect Diagonal: {rect_diagonal}\")\n",
    "            # print(f\"Convex Hull Max Distance: {max_distance}\")\n",
    "            # if rect_diagonal < max_distance:\n",
    "            #     print(\"Unexpected: Rect diagonal is smaller than hull's furthest distance.\")\n",
    "\n",
    "\n",
    "\n",
    "\n",
    "                     # Store the segmentation information (center, radius, and diameter)\n",
    "\n",
    "    return segmentations,boxes"
   ]
  },
  {
   "cell_type": "code",
   "execution_count": 2,
   "metadata": {},
   "outputs": [],
   "source": [
    "import fiftyone.core.labels as fol\n",
    "from tqdm import tqdm\n",
    "import fiftyone as fo\n",
    "import os\n",
    "\n",
    "def process_images(image_paths, prediction_folder_path, dataset,tag):\n",
    "    print(\"Processing images...\")\n",
    "    \n",
    "    \"\"\"\n",
    "    Processes images by matching segmentation with bounding boxes and calculating prawn sizes.\n",
    "    \"\"\"\n",
    "    for image_path in tqdm(image_paths):\n",
    "        # filename = os.path.splitext(os.path.basename(image_path))[0]\n",
    "        \n",
    "\n",
    "           \n",
    "        # prediction_txt_path = os.path.join(prediction_folder_path, f\"{os.path.basename(image_path).split('.')[0]}_segmentations.txt\")\n",
    "\n",
    "        core_name = os.path.splitext(os.path.basename(image_path))[0]\n",
    "\n",
    "        # Construct the path to the corresponding segmentation file\n",
    "\n",
    "\n",
    "\n",
    "        #check if txt exist\n",
    "\n",
    "        if not os.path.exists(os.path.join(prediction_folder_path, f\"{core_name}_segmentations.txt\")):\n",
    "            print(f\"No segmentation file found for {core_name}\")\n",
    "            continue\n",
    "\n",
    "\n",
    "\n",
    "        prediction_txt_path = os.path.join(prediction_folder_path, f\"{core_name}_segmentations.txt\")\n",
    "\n",
    "        # core_name=filename.split('.')[0]\n",
    "        # # Construct the path to the prediction (segmentation) file\n",
    "        # prediction_txt_path = os.path.join(prediction_folder_path, f\"{core_name}_segmentations.txt\")\n",
    "        # if not os.path.exists(prediction_txt_path):\n",
    "        #     print(f\"No segmentation file found for {filename}\")\n",
    "        #     continue\n",
    "\n",
    "\n",
    "        # Parse the segmentations to get the minimum enclosing circles\n",
    "        segmentations,boxes= process_segmentations(prediction_txt_path)\n",
    "\n",
    "        # Save the modified image (with circles drawn)\n",
    "\n",
    "        # Create a new sample for FiftyOne\n",
    "        sample = fo.Sample(filepath=image_path)\n",
    "\n",
    "        \n",
    "\n",
    "        # Iterate over each bounding box in the filtered data\n",
    "        sample[\"segmentations\"] = fol.Polylines(polylines=segmentations)\n",
    "\n",
    "        # sample[\"skeletons\"] = fol.Polylines(polylines=skeletons)\n",
    "\n",
    "\n",
    "        # sample[\"skeletons_straight\"] = fol.Polylines(polylines=skeletons_straight)\n",
    "\n",
    "        # sample['seg_closeds']=fol.Polylines(polylines=seg_closeds)\n",
    "        \n",
    "        # sample['skeletons_no_smooth']=fol.Polylines(polylines=skeletons_2)\n",
    "\n",
    "        # sample[\"skeletons_straight_no_smooth\"] = fol.Polylines(polylines=skeletons_straight_2)\n",
    "\n",
    "        sample['boxes']=fol.Polylines(polylines=boxes)\n",
    "\n",
    "        # Add the processed sample to the FiftyOne dataset\n",
    "        sample.tags.append(tag)\n",
    "        dataset.add_sample(sample)"
   ]
  },
  {
   "cell_type": "code",
   "execution_count": 55,
   "metadata": {},
   "outputs": [],
   "source": [
    "import math\n",
    "import cv2\n",
    "\n",
    "class ObjectLengthMeasurer:\n",
    "    def __init__(self, image_width, image_height, horizontal_fov, vertical_fov, distance_mm):\n",
    "        self.image_width = image_width\n",
    "        self.image_height = image_height\n",
    "        self.horizontal_fov = horizontal_fov\n",
    "        self.vertical_fov = vertical_fov\n",
    "        self.distance_mm = distance_mm\n",
    "        self.scale_x, self.scale_y = self.calculate_scaling_factors()\n",
    "        self.to_scale_x=image_width/640\n",
    "        self.to_scale_y=image_height/360\n",
    "\n",
    "\n",
    "\n",
    "    def calculate_scaling_factors(self):\n",
    "        fov_x_rad = math.radians(self.horizontal_fov)\n",
    "        fov_y_rad = math.radians(self.vertical_fov)\n",
    "        scale_x = (2 * self.distance_mm * math.tan(fov_x_rad / 2)) / self.image_width\n",
    "        scale_y = (2 * self.distance_mm * math.tan(fov_y_rad / 2)) / self.image_height\n",
    "        # print(f\"Scale X: {scale_x}, Scale Y: {scale_y}\")  # Debugging\n",
    "        return scale_x, scale_y\n",
    "\n",
    "    def normalize_angle(self, angle):\n",
    "        if angle < -45:\n",
    "            angle += 90\n",
    "        normalized = abs(angle)\n",
    "        # print(f\"Original Angle: {angle}, Normalized Angle: {normalized}\")  # Debugging\n",
    "        return normalized\n",
    "\n",
    "    def compute_length(self, predicted_box_length, angle_deg):\n",
    "        angle_rad = math.radians(angle_deg)\n",
    "        combined_scale = math.sqrt((self.scale_x * math.cos(angle_rad)) ** 2 + \n",
    "                               (self.scale_y * math.sin(angle_rad)) ** 2)\n",
    "        length_mm = predicted_box_length * combined_scale\n",
    "        # print(f\"Predicted Length (pixels): {predicted_box_length}, Length (mm): {length_mm}\")  # Debugging\n",
    "        return length_mm\n",
    "\n",
    "    def measure_object_length(self, rect):\n",
    "        angle = rect[-1]\n",
    "        normalized_angle = self.normalize_angle(angle)\n",
    "        predicted_box_length = max(rect[1])*8.3\n",
    "    \n",
    "        length_mm = self.compute_length(predicted_box_length, normalized_angle)\n",
    "\n",
    "        if length_mm > 130 and length_mm < 250:\n",
    "            print(f'angle: {angle}, normalized_angle: {normalized_angle}')\n",
    "            print(f'scaling factors: {self.scale_x}, {self.scale_y}') \n",
    "            print(f\"Object Length: {length_mm:.2f}\" )  # Debugging\n",
    "\n",
    "\n",
    "        return length_mm, normalized_angle\n",
    "\n",
    "# Usage Example with Debugging\n",
    "\n",
    "\n",
    "# # Assuming you have detected_contours from some method\n",
    "# measurements = []\n",
    "# for contour in detected_contours:\n",
    "#     length_mm, angle = measurer.measure_object_length(contour)\n",
    "#     measurements.append((length_mm, angle))\n",
    "#     print(f\"Object Length: {length_mm:.2f} mm at angle {angle:.2f}°\")\n",
    "\n",
    "\n",
    "def process_detection_by_circle(segmentation, sample,i,dataframe):\n",
    "    \"\"\"\n",
    "    Process the prawn detection based on the enclosing circle's diameter.\n",
    "    Update the filtered dataframe with the real-world size of the prawn.\n",
    "    \"\"\"\n",
    "    poly=segmentation\n",
    "\n",
    "    if 'right' in str(sample.tags[0]):\n",
    "        height_mm =700-30\n",
    "        focal_length = 23.64     \n",
    "    else:\n",
    "        height_mm=410-30\n",
    "        focal_length=24.72\n",
    "    \n",
    "    image_width = 5312\n",
    "    image_height = 2988\n",
    "    diagonal_image_size = math.sqrt(image_width ** 2 + image_height ** 2)\n",
    "    horizontal_fov = 75.2\n",
    "    vertical_fov = 46\n",
    "    diagonal_fov = 84.6 \n",
    "   \n",
    "    predicted_box_length=poly['max_length_box']\n",
    "    rect=poly['rect'] \n",
    "\n",
    "  \n",
    "\n",
    "\n",
    "\n",
    "\n",
    "    # normalized_angle=normalize_angle(angle)\n",
    "    # scale_x, scale_y = calculate_scaling_factors(\n",
    "    #     horizontal_fov, vertical_fov, image_width, image_height, height_mm\n",
    "    # )\n",
    "    \n",
    "    # object_length = compute_object_length(predicted_box_length, normalized_angle, scale_x, scale_y)\n",
    "\n",
    "    \n",
    "    # if -15 <= angle <= 15 or abs(angle) > 165:  # Object is close to horizontal (aligned with the horizontal axis)\n",
    "    #     print('horizontal', angle)\n",
    "    #     FOV_width = 2 * height_mm * math.tan(math.radians(horizontal_fov / 2))\n",
    "    #     object_length = FOV_width * predicted_box_length / image_width  # Use the width of the image (5312)\n",
    "\n",
    "    # elif 75 <= abs(angle) <= 105:  # Object is close to vertical (aligned with the vertical axis)\n",
    "    #     print('vertical', angle)\n",
    "    #     FOV_height = 2 * height_mm * math.tan(math.radians(vertical_fov / 2))\n",
    "    #     object_length = FOV_height * predicted_box_length / image_height  # Use the height of the image (2988)\n",
    "\n",
    "    # else:  # Diagonal case (any orientation between horizontal and vertical)\n",
    "    #     print('diagonal', angle)\n",
    "    #     FOV_diagonal = 2 * height_mm * math.tan(math.radians(diagonal_fov / 2))\n",
    "    #     object_length = FOV_diagonal * predicted_box_length / diagonal_image_size\n",
    "\n",
    "    \n",
    "    \n",
    "    \n",
    "    \n",
    "    measurer = ObjectLengthMeasurer(\n",
    "        image_width=5312,\n",
    "        image_height=2988,\n",
    "        horizontal_fov=75.2,\n",
    "        vertical_fov=46.0,\n",
    "        distance_mm=height_mm  # Example distance\n",
    "    )\n",
    "\n",
    "    object_length, normalized_angle = measurer.measure_object_length(rect)\n",
    "    \n",
    "    \n",
    "    \n",
    "    \n",
    "    \n",
    "\n",
    "    if object_length < 125 or object_length > 220:\n",
    "        \n",
    "        return poly\n",
    "\n",
    "    image_path = sample.filepath.split('\\\\')[-1]\n",
    "\n",
    "    if object_length < 165:\n",
    "        best_true_length = 143\n",
    "        if object_length < 143 and 'smaller than 143mm' not in sample.tags:\n",
    "\n",
    "            print('smaller than 143mm',object_length)\n",
    "            sample.tags.append('smaller than 143mm')\n",
    "        if object_length < 143:      \n",
    "            dataframe.loc[(dataframe['index'] == i) & (dataframe['image_path'] == image_path), 'smaller'] = 'yes'\n",
    "        else:\n",
    "            dataframe.loc[(dataframe['index'] == i) & (dataframe['image_path'] == image_path), 'smaller'] = 'no'   \n",
    "\n",
    "    else:\n",
    "        best_true_length = 180\n",
    "        if object_length < 180 and 'smaller than 180mm' not in sample.tags:\n",
    "\n",
    "            print('smaller than 180mm',object_length)\n",
    "            sample.tags.append('smaller than 180mm')\n",
    "\n",
    "        if object_length < 180:\n",
    "            dataframe.loc[(dataframe['index'] == i) & (dataframe['image_path'] == image_path), 'smaller'] = 'yes'\n",
    "        \n",
    "        else:\n",
    "            dataframe.loc[(dataframe['index'] == i) & (dataframe['image_path'] == image_path), 'smaller'] = 'no'\n",
    "\n",
    "    # for true_length in [143, 180]:\n",
    "        \n",
    "    \n",
    "\n",
    "       \n",
    "    #     error_percentage_hull_fov = abs(hull_length_fov - true_length) / true_length * 100\n",
    "        \n",
    "\n",
    "\n",
    "    #     if error_percentage_hull_fov < min_error_percentage:\n",
    "    #         min_error_percentage = error_percentage_hull_fov\n",
    "    #         best_true_length = true_length\n",
    "\n",
    "    if best_true_length == 143:\n",
    "        height_mm = height_mm\n",
    "    else:\n",
    "        height_mm = height_mm - 15\n",
    "\n",
    "    measurer = ObjectLengthMeasurer(\n",
    "        image_width=5312,\n",
    "        image_height=2988,\n",
    "        horizontal_fov=75.2,\n",
    "        vertical_fov=46.0,\n",
    "        distance_mm=height_mm  # Example distance\n",
    "    )\n",
    "\n",
    "    object_length, normalized_angle = measurer.measure_object_length(rect)\n",
    "\n",
    "  \n",
    "    # print(f\"height_mm: {height_mm}, tag: {tag}\")\n",
    "\n",
    "    # focal_length = 24.22  # Camera focal length\n",
    "    pixel_size = 0.00716844  # Pixel size in mm\n",
    "\n",
    "    \n",
    "\n",
    "    # fov=84.6\n",
    "    # FOV_width=2*height_mm*math.tan(math.radians(fov/2))\n",
    "\n",
    "\n",
    "\n",
    "    # # Get the diameter of the circle in pixels\n",
    "    # predicted_diameter_pixels = poly['diameter']\n",
    "\n",
    "\n",
    "    # predicted_skeleton_length=poly['max_length_skeleton']  \n",
    "\n",
    "    # predicted_hull_length=poly['max_length_hull']\n",
    "\n",
    "     \n",
    "    predicted_box_length=poly['max_length_box']\n",
    "\n",
    "    # predicted_cnt_pair=poly['max_length_cont']  \n",
    "    \n",
    "    center=poly['center']\n",
    "\n",
    "\n",
    "    \n",
    "\n",
    "\n",
    "    #add true lenght to datafram\n",
    "    dataframe.loc[(dataframe['index'] == i) & (dataframe['image_path'] == image_path), 'true_length'] = best_true_length\n",
    "\n",
    "\n",
    "    dataframe.loc[(dataframe['index'] == i) & (dataframe['image_path'] == image_path), 'center'] = str(center)\n",
    "\n",
    "    # dataframe.loc[(dataframe['index'] == i) & (dataframe['image_path'] == image_path), 'Hull_Length_pixels'] = predicted_hull_length\n",
    "    # dataframe.loc[(dataframe['index'] == i) & (dataframe['image_path'] == image_path), 'Diameter_pixels'] = predicted_diameter_pixels\n",
    "    # dataframe.loc[(dataframe['index'] == i) & (dataframe['image_path'] == image_path), 'Skeleton_Length_pixels'] = predicted_skeleton_length\n",
    "    dataframe.loc[(dataframe['index'] == i) & (dataframe['image_path'] == image_path), 'Box_Length_pixels'] = predicted_box_length\n",
    "\n",
    "\n",
    "\n",
    "    # Calculate the real-world prawn size using the box\n",
    "    focal_box = calculate_real_width(focal_length, height_mm, predicted_box_length, pixel_size) \n",
    "\n",
    "\n",
    "    # focal_hull = calculate_real_width(focal_length, height_mm, predicted_hull_length, pixel_size)    \n",
    "    # # Calculate the real-world prawn size using the enclosing circle's diameter\n",
    "    # focal_MEC = calculate_real_width(focal_length, height_mm, predicted_diameter_pixels, pixel_size)\n",
    "\n",
    "    # focal_ske = calculate_real_width(focal_length, height_mm, predicted_skeleton_length, pixel_size)    \n",
    "\n",
    "\n",
    "    # Update the filtered dataframe with the real-world size of the prawn\n",
    "    dataframe.loc[(dataframe['index'] == i) & (dataframe['image_path'] == image_path), 'Focal_Box'] = focal_box\n",
    "    # dataframe.loc[(dataframe['index'] == i) & (dataframe['image_path'] == image_path), 'Focal_Hull'] = focal_hull\n",
    "    # dataframe.loc[(dataframe['index'] == i) & (dataframe['image_path'] == image_path), 'Focal_MEC'] = focal_MEC\n",
    "    # dataframe.loc[(dataframe['index'] == i) & (dataframe['image_path'] == image_path), 'Focal_Skeleton'] = focal_ske\n",
    "\n",
    "\n",
    "\n",
    "    # hull_length_fov=FOV_width*predicted_hull_length/5312\n",
    "    # diameter_length_fov=FOV_width*predicted_diameter_pixels/5312\n",
    "    # skeleton_length_fov=FOV_width*predicted_skeleton_length/5312\n",
    "\n",
    "  \n",
    "\n",
    "    # cnt_pair=FOV_width*predicted_cnt_pair/5312\n",
    "\n",
    "    # dataframe.loc[(dataframe['index'] == i) & (dataframe['image_path'] == image_path), 'Hull_Length_fov'] = hull_length_fov\n",
    "    # dataframe.loc[(dataframe['index'] == i) & (dataframe['image_path'] == image_path), 'Diameter_fov'] = diameter_length_fov\n",
    "    # dataframe.loc[(dataframe['index'] == i) & (dataframe['image_path'] == image_path), 'Skeleton_Length_fov'] = skeleton_length_fov\n",
    "    dataframe.loc[(dataframe['index'] == i) & (dataframe['image_path'] == image_path), 'Box_Length_fov'] = object_length\n",
    "\n",
    "    # error_percentage_cnt_pair = abs(cnt_pair - best_true_length) / best_true_length * 100\n",
    "\n",
    "\n",
    "    # error_percentage_hull_fov = abs(hull_length_fov - best_true_length) / best_true_length * 100\n",
    "\n",
    "    # error_percentage_skeleton_fov = abs(skeleton_length_fov - best_true_length) / best_true_length * 100  \n",
    "\n",
    "\n",
    "    error_percentage_box_fov = abs(object_length - best_true_length) / best_true_length * 100\n",
    "\n",
    "\n",
    "    # error_percentage_MEC_fov = abs(diameter_length_fov - best_true_length) / best_true_length * 100\n",
    "\n",
    "\n",
    "    # MAE_hull_fov = abs(hull_length_fov - best_true_length)\n",
    "    # MAE_skeleton_fov = abs(skeleton_length_fov - best_true_length)\n",
    "    MAE_box_fov = abs(object_length - best_true_length)\n",
    "    # MAE_MEC_fov = abs(diameter_length_fov - best_true_length)\n",
    "\n",
    "    # dataframe.loc[(dataframe['index'] == i) & (dataframe['image_path'] == image_path), 'MAE_Hull_fov'] = MAE_hull_fov\n",
    "    # dataframe.loc[(dataframe['index'] == i) & (dataframe['image_path'] == image_path), 'MAE_Skeleton_fov'] = MAE_skeleton_fov\n",
    "\n",
    "    # dataframe.loc[(dataframe['index'] == i) & (dataframe['image_path'] == image_path), 'MAE_MEC_fov'] = MAE_MEC_fov\n",
    "\n",
    "    dataframe.loc[(dataframe['index'] == i) & (dataframe['image_path'] == image_path), 'MAE_Box_fov'] = MAE_box_fov\n",
    "    dataframe.loc[(dataframe['index'] == i) & (dataframe['image_path'] ==image_path), 'Error_percentage_Box_fov'] = error_percentage_box_fov\n",
    "    # dataframe.loc[(dataframe['index'] == i) & (dataframe['image_path'] == image_path), 'Error_percentage_Hull_fov'] = error_percentage_hull_fov\n",
    "    # dataframe.loc[(dataframe['index'] == i) & (dataframe['image_path'] == image_path), 'Error_percentage_Skeleton_fov'] = error_percentage_skeleton_fov\n",
    "    error_percentage_box_focal = abs(focal_box - best_true_length) / best_true_length * 100\n",
    "    dataframe.loc[(dataframe['index'] == i) & (dataframe['image_path'] == image_path), 'Error_percentage_Box_focal'] = error_percentage_box_focal\n",
    "    \n",
    "    #focal mae box\n",
    "    focal_MAE_box = abs(focal_box - best_true_length)\n",
    "    dataframe.loc[(dataframe['index'] == i) & (dataframe['image_path'] == image_path), 'MAE_Box_focal'] = focal_MAE_box\n",
    "\n",
    "    #\n",
    "\n",
    "    # # dataframe.loc[(dataframe['index'] == i) & (dataframe['image_path'] == image_path), 'Error_percentage_MEC_fov'] = error_percentage_MEC_fov\n",
    "\n",
    "    # error_percentage_hull_focal = abs(focal_hull - best_true_length) / best_true_length * 100\n",
    "\n",
    "    # error_percentage_skeleton_focal = abs(focal_ske - best_true_length) / best_true_length * 100\n",
    "\n",
    "\n",
    "    # error_percentage_MEC_focal = abs(focal_MEC - best_true_length) / best_true_length * 100\n",
    "\n",
    "    # dataframe.loc[(dataframe['index'] == i) & (dataframe['image_path'] == image_path), 'Error_percentage_Hull_focal'] = error_percentage_hull_focal\n",
    "    # dataframe.loc[(dataframe['index'] == i) & (dataframe['image_path'] == image_path), 'Error_percentage_Skeleton_focal'] = error_percentage_skeleton_focal\n",
    "\n",
    "\n",
    "    # dataframe.loc[(dataframe['index'] == i) & (dataframe['image_path'] == image_path), 'Error_percentage_MEC_focal'] = error_percentage_MEC_focal  \n",
    "\n",
    "\n",
    "\n",
    "\n",
    "\n",
    "    closest_detection_label = f'index:{i} ,true length: {best_true_length:.2f}mm,  MPError_hull: {error_percentage_box_fov:.2f}%, pred length: {object_length:.2f}mm, MAE: {MAE_box_fov:.2f}mm'\n",
    "    # Update the filtered dataframe with the real-world size of the prawn\n",
    "\n",
    "\n",
    "\n",
    "    if error_percentage_box_fov > 25 and f'>25% error' not in sample.tags:\n",
    "\n",
    "        sample.tags.append(f'>25% error')\n",
    "\n",
    "    elif error_percentage_box_fov > 15 and f'15-25% error' not in sample.tags:\n",
    "\n",
    "        sample.tags.append(f'15-25% error')\n",
    "\n",
    "    elif error_percentage_box_fov > 10  and f'10-15% error' not in sample.tags:\n",
    "\n",
    "        sample.tags.append(f'10-15% error')\n",
    "\n",
    "    elif error_percentage_box_fov < 10 and f'5-10% error' not in sample.tags:\n",
    "\n",
    "        sample.tags.append(f'5-10% error')\n",
    "    \n",
    "    elif error_percentage_box_fov < 5 and f'<5% error' not in sample.tags:\n",
    "\n",
    "        sample.tags.append(f'<5% error')\n",
    "\n",
    "\n",
    "    if error_percentage_box_fov<5 and error_percentage_box_fov > best_true_length and f'very good' not in sample.tags:\n",
    "        sample.tags.append('very good')\n",
    "\n",
    "\n",
    "\n",
    "\n",
    "\n",
    "    poly.label = closest_detection_label \n",
    "    return poly\n",
    "  \n",
    "\n"
   ]
  },
  {
   "cell_type": "code",
   "execution_count": 56,
   "metadata": {},
   "outputs": [
    {
     "name": "stdout",
     "output_type": "stream",
     "text": [
      "Processing images...\n"
     ]
    },
    {
     "name": "stderr",
     "output_type": "stream",
     "text": [
      "100%|██████████| 66/66 [00:02<00:00, 28.99it/s]\n"
     ]
    },
    {
     "name": "stdout",
     "output_type": "stream",
     "text": [
      "Processing images...\n"
     ]
    },
    {
     "name": "stderr",
     "output_type": "stream",
     "text": [
      "100%|██████████| 56/56 [00:02<00:00, 26.55it/s]\n"
     ]
    },
    {
     "name": "stdout",
     "output_type": "stream",
     "text": [
      "Skipping not prawm C:\\Users\\gbo10\\OneDrive\\measurement_paper_images\\molt\\image processed\\good\\640360\\right\\color_images\\undistorted_GX010191_100_1250.jpg index 0\n",
      "Skipping seg error C:\\Users\\gbo10\\OneDrive\\measurement_paper_images\\molt\\image processed\\good\\640360\\right\\color_images\\undistorted_GX010191_100_1250.jpg index 1\n",
      "Skipping seg error C:\\Users\\gbo10\\OneDrive\\measurement_paper_images\\molt\\image processed\\good\\640360\\right\\color_images\\undistorted_GX010191_100_1250.jpg index 2\n",
      "angle: 84.64417266845703, normalized_angle: 84.64417266845703\n",
      "scaling factors: 0.19426561011476987, 0.1903601920083234\n",
      "Object Length: 142.98\n",
      "smaller than 143mm 142.98050346081868\n",
      "angle: 84.64417266845703, normalized_angle: 84.64417266845703\n",
      "scaling factors: 0.19426561011476987, 0.1903601920083234\n",
      "Object Length: 142.98\n",
      "angle: 67.69379425048828, normalized_angle: 67.69379425048828\n",
      "scaling factors: 0.19426561011476987, 0.1903601920083234\n",
      "Object Length: 140.41\n",
      "smaller than 143mm 140.4087096471602\n",
      "angle: 67.69379425048828, normalized_angle: 67.69379425048828\n",
      "scaling factors: 0.19426561011476987, 0.1903601920083234\n",
      "Object Length: 140.41\n",
      "angle: 53.746158599853516, normalized_angle: 53.746158599853516\n",
      "scaling factors: 0.19426561011476987, 0.1903601920083234\n",
      "Object Length: 147.41\n",
      "angle: 53.746158599853516, normalized_angle: 53.746158599853516\n",
      "scaling factors: 0.19426561011476987, 0.1903601920083234\n",
      "Object Length: 147.41\n",
      "Skipping not prawm C:\\Users\\gbo10\\OneDrive\\measurement_paper_images\\molt\\image processed\\good\\640360\\right\\color_images\\undistorted_GX010191_103_1289.jpg index 1\n",
      "Skipping image error C:\\Users\\gbo10\\OneDrive\\measurement_paper_images\\molt\\image processed\\good\\640360\\right\\color_images\\undistorted_GX010191_104_1301.jpg index 0\n",
      "Skipping image error C:\\Users\\gbo10\\OneDrive\\measurement_paper_images\\molt\\image processed\\good\\640360\\right\\color_images\\undistorted_GX010191_104_1301.jpg index 1\n",
      "Skipping image error C:\\Users\\gbo10\\OneDrive\\measurement_paper_images\\molt\\image processed\\good\\640360\\right\\color_images\\undistorted_GX010191_104_1301.jpg index 2\n",
      "angle: 10.30484676361084, normalized_angle: 10.30484676361084\n",
      "scaling factors: 0.19426561011476987, 0.1903601920083234\n",
      "Object Length: 148.02\n",
      "angle: 10.30484676361084, normalized_angle: 10.30484676361084\n",
      "scaling factors: 0.19426561011476987, 0.1903601920083234\n",
      "Object Length: 148.02\n",
      "angle: 70.97439575195312, normalized_angle: 70.97439575195312\n",
      "scaling factors: 0.19426561011476987, 0.1903601920083234\n",
      "Object Length: 152.33\n",
      "angle: 70.97439575195312, normalized_angle: 70.97439575195312\n",
      "scaling factors: 0.19426561011476987, 0.1903601920083234\n",
      "Object Length: 152.33\n",
      "Skipping not prawm C:\\Users\\gbo10\\OneDrive\\measurement_paper_images\\molt\\image processed\\good\\640360\\right\\color_images\\undistorted_GX010191_107_1330.jpg index 1\n",
      "Skipping not prawm C:\\Users\\gbo10\\OneDrive\\measurement_paper_images\\molt\\image processed\\good\\640360\\right\\color_images\\undistorted_GX010191_108_1337.jpg index 1\n",
      "Skipping seg error C:\\Users\\gbo10\\OneDrive\\measurement_paper_images\\molt\\image processed\\good\\640360\\right\\color_images\\undistorted_GX010191_108_1337.jpg index 2\n",
      "angle: 19.5024471282959, normalized_angle: 19.5024471282959\n",
      "scaling factors: 0.19426561011476987, 0.1903601920083234\n",
      "Object Length: 144.29\n",
      "angle: 19.5024471282959, normalized_angle: 19.5024471282959\n",
      "scaling factors: 0.19426561011476987, 0.1903601920083234\n",
      "Object Length: 144.29\n",
      "Skipping seg error C:\\Users\\gbo10\\OneDrive\\measurement_paper_images\\molt\\image processed\\good\\640360\\right\\color_images\\undistorted_GX010191_110_1355.jpg index 0\n",
      "Skipping seg error C:\\Users\\gbo10\\OneDrive\\measurement_paper_images\\molt\\image processed\\good\\640360\\right\\color_images\\undistorted_GX010191_110_1355.jpg index 1\n",
      "angle: 27.58203125, normalized_angle: 27.58203125\n",
      "scaling factors: 0.19426561011476987, 0.1903601920083234\n",
      "Object Length: 144.13\n",
      "angle: 27.58203125, normalized_angle: 27.58203125\n",
      "scaling factors: 0.19426561011476987, 0.1903601920083234\n",
      "Object Length: 144.13\n",
      "angle: 54.46232223510742, normalized_angle: 54.46232223510742\n",
      "scaling factors: 0.19426561011476987, 0.1903601920083234\n",
      "Object Length: 195.12\n",
      "angle: 54.46232223510742, normalized_angle: 54.46232223510742\n",
      "scaling factors: 0.18991638003757352, 0.18609839666485348\n",
      "Object Length: 190.76\n",
      "Skipping not prawm C:\\Users\\gbo10\\OneDrive\\measurement_paper_images\\molt\\image processed\\good\\640360\\right\\color_images\\undistorted_GX010191_116_1399.jpg index 2\n",
      "Skipping seg error C:\\Users\\gbo10\\OneDrive\\measurement_paper_images\\molt\\image processed\\good\\640360\\right\\color_images\\undistorted_GX010191_118_1415.jpg index 0\n",
      "Skipping seg error C:\\Users\\gbo10\\OneDrive\\measurement_paper_images\\molt\\image processed\\good\\640360\\right\\color_images\\undistorted_GX010191_11_391.jpg index 0\n",
      "Skipping seg error C:\\Users\\gbo10\\OneDrive\\measurement_paper_images\\molt\\image processed\\good\\640360\\right\\color_images\\undistorted_GX010191_12_410.jpg index 0\n",
      "Skipping seg error C:\\Users\\gbo10\\OneDrive\\measurement_paper_images\\molt\\image processed\\good\\640360\\right\\color_images\\undistorted_GX010191_12_410.jpg index 3\n",
      "angle: 14.237279891967773, normalized_angle: 14.237279891967773\n",
      "scaling factors: 0.19426561011476987, 0.1903601920083234\n",
      "Object Length: 147.99\n",
      "angle: 14.237279891967773, normalized_angle: 14.237279891967773\n",
      "scaling factors: 0.19426561011476987, 0.1903601920083234\n",
      "Object Length: 147.99\n",
      "Skipping not prawm C:\\Users\\gbo10\\OneDrive\\measurement_paper_images\\molt\\image processed\\good\\640360\\right\\color_images\\undistorted_GX010191_13_439.jpg index 2\n",
      "Skipping seg error C:\\Users\\gbo10\\OneDrive\\measurement_paper_images\\molt\\image processed\\good\\640360\\right\\color_images\\undistorted_GX010191_14_460.jpg index 0\n",
      "Skipping not prawm C:\\Users\\gbo10\\OneDrive\\measurement_paper_images\\molt\\image processed\\good\\640360\\right\\color_images\\undistorted_GX010191_14_460.jpg index 1\n",
      "Skipping not prawm C:\\Users\\gbo10\\OneDrive\\measurement_paper_images\\molt\\image processed\\good\\640360\\right\\color_images\\undistorted_GX010191_14_460.jpg index 2\n",
      "angle: 75.55596160888672, normalized_angle: 75.55596160888672\n",
      "scaling factors: 0.19426561011476987, 0.1903601920083234\n",
      "Object Length: 139.79\n",
      "smaller than 143mm 139.78528541703756\n",
      "angle: 75.55596160888672, normalized_angle: 75.55596160888672\n",
      "scaling factors: 0.19426561011476987, 0.1903601920083234\n",
      "Object Length: 139.79\n",
      "Skipping seg error C:\\Users\\gbo10\\OneDrive\\measurement_paper_images\\molt\\image processed\\good\\640360\\right\\color_images\\undistorted_GX010191_15_479.jpg index 1\n",
      "Skipping seg error C:\\Users\\gbo10\\OneDrive\\measurement_paper_images\\molt\\image processed\\good\\640360\\right\\color_images\\undistorted_GX010191_16_495.jpg index 0\n",
      "angle: 71.56505584716797, normalized_angle: 71.56505584716797\n",
      "scaling factors: 0.19426561011476987, 0.1903601920083234\n",
      "Object Length: 179.74\n",
      "smaller than 180mm 179.74089802704228\n",
      "angle: 71.56505584716797, normalized_angle: 71.56505584716797\n",
      "scaling factors: 0.18991638003757352, 0.18609839666485348\n",
      "Object Length: 175.72\n",
      "angle: 73.73979187011719, normalized_angle: 73.73979187011719\n",
      "scaling factors: 0.19426561011476987, 0.1903601920083234\n",
      "Object Length: 134.39\n",
      "smaller than 143mm 134.39054838853562\n",
      "angle: 73.73979187011719, normalized_angle: 73.73979187011719\n",
      "scaling factors: 0.19426561011476987, 0.1903601920083234\n",
      "Object Length: 134.39\n",
      "angle: 76.86598205566406, normalized_angle: 76.86598205566406\n",
      "scaling factors: 0.19426561011476987, 0.1903601920083234\n",
      "Object Length: 132.31\n",
      "angle: 76.86598205566406, normalized_angle: 76.86598205566406\n",
      "scaling factors: 0.19426561011476987, 0.1903601920083234\n",
      "Object Length: 132.31\n",
      "Skipping seg error C:\\Users\\gbo10\\OneDrive\\measurement_paper_images\\molt\\image processed\\good\\640360\\right\\color_images\\undistorted_GX010191_17_509.jpg index 0\n",
      "angle: 55.203975677490234, normalized_angle: 55.203975677490234\n",
      "scaling factors: 0.19426561011476987, 0.1903601920083234\n",
      "Object Length: 175.36\n",
      "smaller than 180mm 175.36256735218845\n",
      "angle: 55.203975677490234, normalized_angle: 55.203975677490234\n",
      "scaling factors: 0.18991638003757352, 0.18609839666485348\n",
      "Object Length: 171.44\n",
      "Skipping not prawm C:\\Users\\gbo10\\OneDrive\\measurement_paper_images\\molt\\image processed\\good\\640360\\right\\color_images\\undistorted_GX010191_17_509.jpg index 2\n",
      "angle: 37.04247283935547, normalized_angle: 37.04247283935547\n",
      "scaling factors: 0.19426561011476987, 0.1903601920083234\n",
      "Object Length: 175.74\n",
      "smaller than 180mm 175.7405987080276\n",
      "angle: 37.04247283935547, normalized_angle: 37.04247283935547\n",
      "scaling factors: 0.18991638003757352, 0.18609839666485348\n",
      "Object Length: 171.81\n",
      "angle: 10.512626647949219, normalized_angle: 10.512626647949219\n",
      "scaling factors: 0.19426561011476987, 0.1903601920083234\n",
      "Object Length: 177.69\n",
      "smaller than 180mm 177.68538379560684\n",
      "angle: 10.512626647949219, normalized_angle: 10.512626647949219\n",
      "scaling factors: 0.18991638003757352, 0.18609839666485348\n",
      "Object Length: 173.71\n",
      "Skipping image error C:\\Users\\gbo10\\OneDrive\\measurement_paper_images\\molt\\image processed\\good\\640360\\right\\color_images\\undistorted_GX010191_26_199.jpg index 0\n",
      "Skipping image error C:\\Users\\gbo10\\OneDrive\\measurement_paper_images\\molt\\image processed\\good\\640360\\right\\color_images\\undistorted_GX010191_26_199.jpg index 1\n",
      "Skipping not prawm C:\\Users\\gbo10\\OneDrive\\measurement_paper_images\\molt\\image processed\\good\\640360\\right\\color_images\\undistorted_GX010191_26_199.jpg index 2\n",
      "Skipping image error C:\\Users\\gbo10\\OneDrive\\measurement_paper_images\\molt\\image processed\\good\\640360\\right\\color_images\\undistorted_GX010191_26_199.jpg index 3\n",
      "Skipping image error C:\\Users\\gbo10\\OneDrive\\measurement_paper_images\\molt\\image processed\\good\\640360\\right\\color_images\\undistorted_GX010191_26_199.jpg index 4\n",
      "Skipping not prawm C:\\Users\\gbo10\\OneDrive\\measurement_paper_images\\molt\\image processed\\good\\640360\\right\\color_images\\undistorted_GX010191_26_199.jpg index 5\n",
      "Skipping image error C:\\Users\\gbo10\\OneDrive\\measurement_paper_images\\molt\\image processed\\good\\640360\\right\\color_images\\undistorted_GX010191_27_215.jpg index 0\n",
      "Skipping image error C:\\Users\\gbo10\\OneDrive\\measurement_paper_images\\molt\\image processed\\good\\640360\\right\\color_images\\undistorted_GX010191_27_215.jpg index 1\n",
      "Skipping seg error C:\\Users\\gbo10\\OneDrive\\measurement_paper_images\\molt\\image processed\\good\\640360\\right\\color_images\\undistorted_GX010191_28_230.jpg index 0\n",
      "Skipping seg error C:\\Users\\gbo10\\OneDrive\\measurement_paper_images\\molt\\image processed\\good\\640360\\right\\color_images\\undistorted_GX010191_28_230.jpg index 1\n",
      "Skipping not prawm C:\\Users\\gbo10\\OneDrive\\measurement_paper_images\\molt\\image processed\\good\\640360\\right\\color_images\\undistorted_GX010191_28_230.jpg index 3\n",
      "Skipping seg error C:\\Users\\gbo10\\OneDrive\\measurement_paper_images\\molt\\image processed\\good\\640360\\right\\color_images\\undistorted_GX010191_28_230.jpg index 4\n",
      "Skipping seg error C:\\Users\\gbo10\\OneDrive\\measurement_paper_images\\molt\\image processed\\good\\640360\\right\\color_images\\undistorted_GX010191_28_230.jpg index 5\n",
      "Skipping not prawm C:\\Users\\gbo10\\OneDrive\\measurement_paper_images\\molt\\image processed\\good\\640360\\right\\color_images\\undistorted_GX010191_28_230.jpg index 6\n",
      "angle: 79.69515228271484, normalized_angle: 79.69515228271484\n",
      "scaling factors: 0.19426561011476987, 0.1903601920083234\n",
      "Object Length: 202.50\n",
      "angle: 79.69515228271484, normalized_angle: 79.69515228271484\n",
      "scaling factors: 0.18991638003757352, 0.18609839666485348\n",
      "Object Length: 197.97\n",
      "Skipping seg error C:\\Users\\gbo10\\OneDrive\\measurement_paper_images\\molt\\image processed\\good\\640360\\right\\color_images\\undistorted_GX010191_29_257.jpg index 2\n",
      "Skipping not prawm C:\\Users\\gbo10\\OneDrive\\measurement_paper_images\\molt\\image processed\\good\\640360\\right\\color_images\\undistorted_GX010191_29_257.jpg index 3\n",
      "angle: 77.93511962890625, normalized_angle: 77.93511962890625\n",
      "scaling factors: 0.19426561011476987, 0.1903601920083234\n",
      "Object Length: 223.21\n",
      "angle: 83.0656509399414, normalized_angle: 83.0656509399414\n",
      "scaling factors: 0.19426561011476987, 0.1903601920083234\n",
      "Object Length: 188.04\n",
      "angle: 83.0656509399414, normalized_angle: 83.0656509399414\n",
      "scaling factors: 0.18991638003757352, 0.18609839666485348\n",
      "Object Length: 183.83\n",
      "angle: 71.1310043334961, normalized_angle: 71.1310043334961\n",
      "scaling factors: 0.19426561011476987, 0.1903601920083234\n",
      "Object Length: 137.75\n",
      "smaller than 143mm 137.75054618219698\n",
      "angle: 71.1310043334961, normalized_angle: 71.1310043334961\n",
      "scaling factors: 0.19426561011476987, 0.1903601920083234\n",
      "Object Length: 137.75\n",
      "angle: 41.12147521972656, normalized_angle: 41.12147521972656\n",
      "scaling factors: 0.19426561011476987, 0.1903601920083234\n",
      "Object Length: 195.80\n",
      "angle: 41.12147521972656, normalized_angle: 41.12147521972656\n",
      "scaling factors: 0.18991638003757352, 0.18609839666485348\n",
      "Object Length: 191.42\n",
      "Skipping not prawm C:\\Users\\gbo10\\OneDrive\\measurement_paper_images\\molt\\image processed\\good\\640360\\right\\color_images\\undistorted_GX010191_32_1049.jpg index 3\n",
      "Skipping seg error C:\\Users\\gbo10\\OneDrive\\measurement_paper_images\\molt\\image processed\\good\\640360\\right\\color_images\\undistorted_GX010191_32_305.jpg index 0\n",
      "Skipping seg error C:\\Users\\gbo10\\OneDrive\\measurement_paper_images\\molt\\image processed\\good\\640360\\right\\color_images\\undistorted_GX010191_32_305.jpg index 2\n",
      "Skipping seg error C:\\Users\\gbo10\\OneDrive\\measurement_paper_images\\molt\\image processed\\good\\640360\\right\\color_images\\undistorted_GX010191_32_305.jpg index 3\n",
      "Skipping not prawm C:\\Users\\gbo10\\OneDrive\\measurement_paper_images\\molt\\image processed\\good\\640360\\right\\color_images\\undistorted_GX010191_32_305.jpg index 4\n",
      "angle: 43.4234504699707, normalized_angle: 43.4234504699707\n",
      "scaling factors: 0.19426561011476987, 0.1903601920083234\n",
      "Object Length: 193.39\n",
      "angle: 43.4234504699707, normalized_angle: 43.4234504699707\n",
      "scaling factors: 0.18991638003757352, 0.18609839666485348\n",
      "Object Length: 189.06\n",
      "Skipping not prawm C:\\Users\\gbo10\\OneDrive\\measurement_paper_images\\molt\\image processed\\good\\640360\\right\\color_images\\undistorted_GX010191_33_1087.jpg index 2\n",
      "angle: 66.43460845947266, normalized_angle: 66.43460845947266\n",
      "scaling factors: 0.19426561011476987, 0.1903601920083234\n",
      "Object Length: 188.51\n",
      "angle: 66.43460845947266, normalized_angle: 66.43460845947266\n",
      "scaling factors: 0.18991638003757352, 0.18609839666485348\n",
      "Object Length: 184.29\n",
      "Skipping not prawm C:\\Users\\gbo10\\OneDrive\\measurement_paper_images\\molt\\image processed\\good\\640360\\right\\color_images\\undistorted_GX010191_33_331.jpg index 1\n",
      "angle: 68.62937927246094, normalized_angle: 68.62937927246094\n",
      "scaling factors: 0.19426561011476987, 0.1903601920083234\n",
      "Object Length: 188.66\n",
      "angle: 68.62937927246094, normalized_angle: 68.62937927246094\n",
      "scaling factors: 0.18991638003757352, 0.18609839666485348\n",
      "Object Length: 184.43\n",
      "angle: 90.0, normalized_angle: 90.0\n",
      "scaling factors: 0.19426561011476987, 0.1903601920083234\n",
      "Object Length: 237.00\n",
      "angle: 7.406912326812744, normalized_angle: 7.406912326812744\n",
      "scaling factors: 0.19426561011476987, 0.1903601920083234\n",
      "Object Length: 243.71\n",
      "angle: 34.40266418457031, normalized_angle: 34.40266418457031\n",
      "scaling factors: 0.19426561011476987, 0.1903601920083234\n",
      "Object Length: 189.71\n",
      "angle: 34.40266418457031, normalized_angle: 34.40266418457031\n",
      "scaling factors: 0.18991638003757352, 0.18609839666485348\n",
      "Object Length: 185.46\n",
      "angle: 23.09682273864746, normalized_angle: 23.09682273864746\n",
      "scaling factors: 0.19426561011476987, 0.1903601920083234\n",
      "Object Length: 156.65\n",
      "angle: 23.09682273864746, normalized_angle: 23.09682273864746\n",
      "scaling factors: 0.19426561011476987, 0.1903601920083234\n",
      "Object Length: 156.65\n",
      "Skipping not prawm C:\\Users\\gbo10\\OneDrive\\measurement_paper_images\\molt\\image processed\\good\\640360\\right\\color_images\\undistorted_GX010191_34_350.jpg index 0\n",
      "Skipping not prawm C:\\Users\\gbo10\\OneDrive\\measurement_paper_images\\molt\\image processed\\good\\640360\\right\\color_images\\undistorted_GX010191_34_350.jpg index 1\n",
      "Skipping seg error C:\\Users\\gbo10\\OneDrive\\measurement_paper_images\\molt\\image processed\\good\\640360\\right\\color_images\\undistorted_GX010191_34_350.jpg index 2\n",
      "angle: 4.236394882202148, normalized_angle: 4.236394882202148\n",
      "scaling factors: 0.19426561011476987, 0.1903601920083234\n",
      "Object Length: 201.10\n",
      "angle: 4.236394882202148, normalized_angle: 4.236394882202148\n",
      "scaling factors: 0.18991638003757352, 0.18609839666485348\n",
      "Object Length: 196.59\n",
      "angle: 81.32682800292969, normalized_angle: 81.32682800292969\n",
      "scaling factors: 0.19426561011476987, 0.1903601920083234\n",
      "Object Length: 155.50\n",
      "angle: 81.32682800292969, normalized_angle: 81.32682800292969\n",
      "scaling factors: 0.19426561011476987, 0.1903601920083234\n",
      "Object Length: 155.50\n",
      "angle: 4.236394882202148, normalized_angle: 4.236394882202148\n",
      "scaling factors: 0.19426561011476987, 0.1903601920083234\n",
      "Object Length: 201.10\n",
      "angle: 4.236394882202148, normalized_angle: 4.236394882202148\n",
      "scaling factors: 0.18991638003757352, 0.18609839666485348\n",
      "Object Length: 196.59\n",
      "angle: 25.559961318969727, normalized_angle: 25.559961318969727\n",
      "scaling factors: 0.19426561011476987, 0.1903601920083234\n",
      "Object Length: 143.22\n",
      "angle: 25.559961318969727, normalized_angle: 25.559961318969727\n",
      "scaling factors: 0.19426561011476987, 0.1903601920083234\n",
      "Object Length: 143.22\n",
      "Skipping not prawm C:\\Users\\gbo10\\OneDrive\\measurement_paper_images\\molt\\image processed\\good\\640360\\right\\color_images\\undistorted_GX010191_35_367.jpg index 1\n",
      "Skipping seg error C:\\Users\\gbo10\\OneDrive\\measurement_paper_images\\molt\\image processed\\good\\640360\\right\\color_images\\undistorted_GX010191_36_1195.jpg index 0\n",
      "angle: 48.8140754699707, normalized_angle: 48.8140754699707\n",
      "scaling factors: 0.19426561011476987, 0.1903601920083234\n",
      "Object Length: 153.71\n",
      "angle: 48.8140754699707, normalized_angle: 48.8140754699707\n",
      "scaling factors: 0.19426561011476987, 0.1903601920083234\n",
      "Object Length: 153.71\n",
      "Skipping seg error C:\\Users\\gbo10\\OneDrive\\measurement_paper_images\\molt\\image processed\\good\\640360\\right\\color_images\\undistorted_GX010191_36_1195.jpg index 2\n",
      "angle: 7.125016689300537, normalized_angle: 7.125016689300537\n",
      "scaling factors: 0.19426561011476987, 0.1903601920083234\n",
      "Object Length: 145.15\n",
      "angle: 7.125016689300537, normalized_angle: 7.125016689300537\n",
      "scaling factors: 0.19426561011476987, 0.1903601920083234\n",
      "Object Length: 145.15\n",
      "Skipping seg error C:\\Users\\gbo10\\OneDrive\\measurement_paper_images\\molt\\image processed\\good\\640360\\right\\color_images\\undistorted_GX010191_37_1242.jpg index 0\n",
      "Skipping not prawm C:\\Users\\gbo10\\OneDrive\\measurement_paper_images\\molt\\image processed\\good\\640360\\right\\color_images\\undistorted_GX010191_37_1242.jpg index 1\n",
      "Skipping seg error C:\\Users\\gbo10\\OneDrive\\measurement_paper_images\\molt\\image processed\\good\\640360\\right\\color_images\\undistorted_GX010191_37_392.jpg index 0\n",
      "angle: 85.31410217285156, normalized_angle: 85.31410217285156\n",
      "scaling factors: 0.19426561011476987, 0.1903601920083234\n",
      "Object Length: 142.88\n",
      "smaller than 143mm 142.87940203569667\n",
      "angle: 85.31410217285156, normalized_angle: 85.31410217285156\n",
      "scaling factors: 0.19426561011476987, 0.1903601920083234\n",
      "Object Length: 142.88\n",
      "angle: 62.3005256652832, normalized_angle: 62.3005256652832\n",
      "scaling factors: 0.19426561011476987, 0.1903601920083234\n",
      "Object Length: 161.21\n",
      "angle: 62.3005256652832, normalized_angle: 62.3005256652832\n",
      "scaling factors: 0.19426561011476987, 0.1903601920083234\n",
      "Object Length: 161.21\n",
      "Skipping seg error C:\\Users\\gbo10\\OneDrive\\measurement_paper_images\\molt\\image processed\\good\\640360\\right\\color_images\\undistorted_GX010191_38_404.jpg index 1\n",
      "Skipping seg error C:\\Users\\gbo10\\OneDrive\\measurement_paper_images\\molt\\image processed\\good\\640360\\right\\color_images\\undistorted_GX010191_39_1284.jpg index 0\n",
      "angle: 47.04541015625, normalized_angle: 47.04541015625\n",
      "scaling factors: 0.19426561011476987, 0.1903601920083234\n",
      "Object Length: 135.79\n",
      "smaller than 143mm 135.7877732320219\n",
      "angle: 47.04541015625, normalized_angle: 47.04541015625\n",
      "scaling factors: 0.19426561011476987, 0.1903601920083234\n",
      "Object Length: 135.79\n",
      "Skipping seg error C:\\Users\\gbo10\\OneDrive\\measurement_paper_images\\molt\\image processed\\good\\640360\\right\\color_images\\undistorted_GX010191_41_445.jpg index 0\n",
      "angle: 57.3194465637207, normalized_angle: 57.3194465637207\n",
      "scaling factors: 0.19426561011476987, 0.1903601920083234\n",
      "Object Length: 144.29\n",
      "angle: 57.3194465637207, normalized_angle: 57.3194465637207\n",
      "scaling factors: 0.19426561011476987, 0.1903601920083234\n",
      "Object Length: 144.29\n",
      "angle: 67.3194351196289, normalized_angle: 67.3194351196289\n",
      "scaling factors: 0.19426561011476987, 0.1903601920083234\n",
      "Object Length: 191.89\n",
      "angle: 67.3194351196289, normalized_angle: 67.3194351196289\n",
      "scaling factors: 0.18991638003757352, 0.18609839666485348\n",
      "Object Length: 187.59\n",
      "angle: 66.9031753540039, normalized_angle: 66.9031753540039\n",
      "scaling factors: 0.19426561011476987, 0.1903601920083234\n",
      "Object Length: 138.23\n",
      "smaller than 143mm 138.22851049440493\n",
      "angle: 66.9031753540039, normalized_angle: 66.9031753540039\n",
      "scaling factors: 0.19426561011476987, 0.1903601920083234\n",
      "Object Length: 138.23\n",
      "angle: 2.82712459564209, normalized_angle: 2.82712459564209\n",
      "scaling factors: 0.19426561011476987, 0.1903601920083234\n",
      "Object Length: 156.36\n",
      "angle: 2.82712459564209, normalized_angle: 2.82712459564209\n",
      "scaling factors: 0.19426561011476987, 0.1903601920083234\n",
      "Object Length: 156.36\n",
      "Skipping not prawm C:\\Users\\gbo10\\OneDrive\\measurement_paper_images\\molt\\image processed\\good\\640360\\right\\color_images\\undistorted_GX010191_42_457.jpg index 2\n",
      "angle: 0.8303154110908508, normalized_angle: 0.8303154110908508\n",
      "scaling factors: 0.19426561011476987, 0.1903601920083234\n",
      "Object Length: 136.85\n",
      "smaller than 143mm 136.85251145934095\n",
      "angle: 0.8303154110908508, normalized_angle: 0.8303154110908508\n",
      "scaling factors: 0.19426561011476987, 0.1903601920083234\n",
      "Object Length: 136.85\n",
      "angle: 31.12247085571289, normalized_angle: 31.12247085571289\n",
      "scaling factors: 0.19426561011476987, 0.1903601920083234\n",
      "Object Length: 148.20\n",
      "angle: 31.12247085571289, normalized_angle: 31.12247085571289\n",
      "scaling factors: 0.19426561011476987, 0.1903601920083234\n",
      "Object Length: 148.20\n",
      "angle: 42.22083282470703, normalized_angle: 42.22083282470703\n",
      "scaling factors: 0.19426561011476987, 0.1903601920083234\n",
      "Object Length: 186.81\n",
      "angle: 42.22083282470703, normalized_angle: 42.22083282470703\n",
      "scaling factors: 0.18991638003757352, 0.18609839666485348\n",
      "Object Length: 182.63\n",
      "Skipping seg error C:\\Users\\gbo10\\OneDrive\\measurement_paper_images\\molt\\image processed\\good\\640360\\right\\color_images\\undistorted_GX010191_43_468.jpg index 0\n",
      "Skipping seg error C:\\Users\\gbo10\\OneDrive\\measurement_paper_images\\molt\\image processed\\good\\640360\\right\\color_images\\undistorted_GX010191_43_468.jpg index 2\n",
      "Skipping not prawm C:\\Users\\gbo10\\OneDrive\\measurement_paper_images\\molt\\image processed\\good\\640360\\right\\color_images\\undistorted_GX010191_43_468.jpg index 3\n",
      "Skipping seg error C:\\Users\\gbo10\\OneDrive\\measurement_paper_images\\molt\\image processed\\good\\640360\\right\\color_images\\undistorted_GX010191_43_468.jpg index 4\n",
      "angle: 76.37300109863281, normalized_angle: 76.37300109863281\n",
      "scaling factors: 0.19426561011476987, 0.1903601920083234\n",
      "Object Length: 149.21\n",
      "angle: 76.37300109863281, normalized_angle: 76.37300109863281\n",
      "scaling factors: 0.19426561011476987, 0.1903601920083234\n",
      "Object Length: 149.21\n",
      "angle: 90.0, normalized_angle: 90.0\n",
      "scaling factors: 0.19426561011476987, 0.1903601920083234\n",
      "Object Length: 183.28\n",
      "angle: 90.0, normalized_angle: 90.0\n",
      "scaling factors: 0.18991638003757352, 0.18609839666485348\n",
      "Object Length: 179.18\n",
      "Skipping image error C:\\Users\\gbo10\\OneDrive\\measurement_paper_images\\molt\\image processed\\good\\640360\\right\\color_images\\undistorted_GX010191_45_489.jpg index 0\n",
      "Skipping image error C:\\Users\\gbo10\\OneDrive\\measurement_paper_images\\molt\\image processed\\good\\640360\\right\\color_images\\undistorted_GX010191_45_489.jpg index 1\n",
      "Skipping image error C:\\Users\\gbo10\\OneDrive\\measurement_paper_images\\molt\\image processed\\good\\640360\\right\\color_images\\undistorted_GX010191_45_489.jpg index 2\n",
      "Skipping image error C:\\Users\\gbo10\\OneDrive\\measurement_paper_images\\molt\\image processed\\good\\640360\\right\\color_images\\undistorted_GX010191_45_489.jpg index 3\n",
      "Skipping not prawm C:\\Users\\gbo10\\OneDrive\\measurement_paper_images\\molt\\image processed\\good\\640360\\right\\color_images\\undistorted_GX010191_45_489.jpg index 4\n",
      "Skipping seg error C:\\Users\\gbo10\\OneDrive\\measurement_paper_images\\molt\\image processed\\good\\640360\\right\\color_images\\undistorted_GX010191_46_497.jpg index 0\n",
      "angle: 90.0, normalized_angle: 90.0\n",
      "scaling factors: 0.19426561011476987, 0.1903601920083234\n",
      "Object Length: 139.04\n",
      "smaller than 143mm 139.03908424287943\n",
      "angle: 90.0, normalized_angle: 90.0\n",
      "scaling factors: 0.19426561011476987, 0.1903601920083234\n",
      "Object Length: 139.04\n",
      "Skipping seg error C:\\Users\\gbo10\\OneDrive\\measurement_paper_images\\molt\\image processed\\good\\640360\\right\\color_images\\undistorted_GX010191_47_507.jpg index 0\n",
      "Skipping seg error C:\\Users\\gbo10\\OneDrive\\measurement_paper_images\\molt\\image processed\\good\\640360\\right\\color_images\\undistorted_GX010191_47_507.jpg index 1\n",
      "Skipping not prawm C:\\Users\\gbo10\\OneDrive\\measurement_paper_images\\molt\\image processed\\good\\640360\\right\\color_images\\undistorted_GX010191_47_507.jpg index 2\n",
      "angle: 19.005983352661133, normalized_angle: 19.005983352661133\n",
      "scaling factors: 0.19426561011476987, 0.1903601920083234\n",
      "Object Length: 176.45\n",
      "smaller than 180mm 176.45183078308847\n",
      "angle: 19.005983352661133, normalized_angle: 19.005983352661133\n",
      "scaling factors: 0.18991638003757352, 0.18609839666485348\n",
      "Object Length: 172.50\n",
      "Skipping seg error C:\\Users\\gbo10\\OneDrive\\measurement_paper_images\\molt\\image processed\\good\\640360\\right\\color_images\\undistorted_GX010191_5_190.jpg index 0\n",
      "angle: 82.64761352539062, normalized_angle: 82.64761352539062\n",
      "scaling factors: 0.19426561011476987, 0.1903601920083234\n",
      "Object Length: 199.03\n",
      "angle: 82.64761352539062, normalized_angle: 82.64761352539062\n",
      "scaling factors: 0.18991638003757352, 0.18609839666485348\n",
      "Object Length: 194.57\n",
      "angle: 79.82449340820312, normalized_angle: 79.82449340820312\n",
      "scaling factors: 0.19426561011476987, 0.1903601920083234\n",
      "Object Length: 195.99\n",
      "angle: 79.82449340820312, normalized_angle: 79.82449340820312\n",
      "scaling factors: 0.18991638003757352, 0.18609839666485348\n",
      "Object Length: 191.61\n",
      "angle: 14.38139533996582, normalized_angle: 14.38139533996582\n",
      "scaling factors: 0.19426561011476987, 0.1903601920083234\n",
      "Object Length: 209.83\n",
      "angle: 14.38139533996582, normalized_angle: 14.38139533996582\n",
      "scaling factors: 0.18991638003757352, 0.18609839666485348\n",
      "Object Length: 205.14\n",
      "Skipping seg error C:\\Users\\gbo10\\OneDrive\\measurement_paper_images\\molt\\image processed\\good\\640360\\right\\color_images\\undistorted_GX010191_8_309.jpg index 1\n",
      "Skipping seg error C:\\Users\\gbo10\\OneDrive\\measurement_paper_images\\molt\\image processed\\good\\640360\\right\\color_images\\undistorted_GX010191_8_309.jpg index 2\n",
      "angle: 44.49297332763672, normalized_angle: 44.49297332763672\n",
      "scaling factors: 0.19426561011476987, 0.1903601920083234\n",
      "Object Length: 195.45\n",
      "angle: 44.49297332763672, normalized_angle: 44.49297332763672\n",
      "scaling factors: 0.18991638003757352, 0.18609839666485348\n",
      "Object Length: 191.07\n",
      "Skipping not prawm C:\\Users\\gbo10\\OneDrive\\measurement_paper_images\\molt\\image processed\\good\\640360\\right\\color_images\\undistorted_GX010191_91_1066.jpg index 4\n",
      "Skipping not prawm C:\\Users\\gbo10\\OneDrive\\measurement_paper_images\\molt\\image processed\\good\\640360\\right\\color_images\\undistorted_GX010191_91_1066.jpg index 5\n",
      "angle: 43.4234504699707, normalized_angle: 43.4234504699707\n",
      "scaling factors: 0.19426561011476987, 0.1903601920083234\n",
      "Object Length: 193.39\n",
      "angle: 43.4234504699707, normalized_angle: 43.4234504699707\n",
      "scaling factors: 0.18991638003757352, 0.18609839666485348\n",
      "Object Length: 189.06\n",
      "Skipping not prawm C:\\Users\\gbo10\\OneDrive\\measurement_paper_images\\molt\\image processed\\good\\640360\\right\\color_images\\undistorted_GX010191_92_1087.jpg index 2\n",
      "angle: 19.79887580871582, normalized_angle: 19.79887580871582\n",
      "scaling factors: 0.19426561011476987, 0.1903601920083234\n",
      "Object Length: 164.02\n",
      "angle: 19.79887580871582, normalized_angle: 19.79887580871582\n",
      "scaling factors: 0.19426561011476987, 0.1903601920083234\n",
      "Object Length: 164.02\n",
      "angle: 14.03624439239502, normalized_angle: 14.03624439239502\n",
      "scaling factors: 0.19426561011476987, 0.1903601920083234\n",
      "Object Length: 200.77\n",
      "angle: 14.03624439239502, normalized_angle: 14.03624439239502\n",
      "scaling factors: 0.18991638003757352, 0.18609839666485348\n",
      "Object Length: 196.28\n",
      "angle: 2.2311747074127197, normalized_angle: 2.2311747074127197\n",
      "scaling factors: 0.19426561011476987, 0.1903601920083234\n",
      "Object Length: 154.29\n",
      "angle: 2.2311747074127197, normalized_angle: 2.2311747074127197\n",
      "scaling factors: 0.19426561011476987, 0.1903601920083234\n",
      "Object Length: 154.29\n",
      "Skipping not prawm C:\\Users\\gbo10\\OneDrive\\measurement_paper_images\\molt\\image processed\\good\\640360\\right\\color_images\\undistorted_GX010191_95_1157.jpg index 2\n",
      "angle: 85.76361083984375, normalized_angle: 85.76361083984375\n",
      "scaling factors: 0.19426561011476987, 0.1903601920083234\n",
      "Object Length: 191.61\n",
      "angle: 85.76361083984375, normalized_angle: 85.76361083984375\n",
      "scaling factors: 0.18991638003757352, 0.18609839666485348\n",
      "Object Length: 187.32\n",
      "angle: 67.81598663330078, normalized_angle: 67.81598663330078\n",
      "scaling factors: 0.19426561011476987, 0.1903601920083234\n",
      "Object Length: 203.61\n",
      "angle: 67.81598663330078, normalized_angle: 67.81598663330078\n",
      "scaling factors: 0.18991638003757352, 0.18609839666485348\n",
      "Object Length: 199.05\n",
      "Skipping seg error C:\\Users\\gbo10\\OneDrive\\measurement_paper_images\\molt\\image processed\\good\\640360\\right\\color_images\\undistorted_GX010191_97_1190.jpg index 1\n",
      "angle: 40.1354866027832, normalized_angle: 40.1354866027832\n",
      "scaling factors: 0.19426561011476987, 0.1903601920083234\n",
      "Object Length: 152.24\n",
      "angle: 40.1354866027832, normalized_angle: 40.1354866027832\n",
      "scaling factors: 0.19426561011476987, 0.1903601920083234\n",
      "Object Length: 152.24\n",
      "angle: 49.55377197265625, normalized_angle: 49.55377197265625\n",
      "scaling factors: 0.19426561011476987, 0.1903601920083234\n",
      "Object Length: 205.21\n",
      "angle: 49.55377197265625, normalized_angle: 49.55377197265625\n",
      "scaling factors: 0.18991638003757352, 0.18609839666485348\n",
      "Object Length: 200.61\n",
      "Skipping not prawm C:\\Users\\gbo10\\OneDrive\\measurement_paper_images\\molt\\image processed\\good\\640360\\right\\color_images\\undistorted_GX010191_99_1233.jpg index 0\n",
      "angle: 23.198591232299805, normalized_angle: 23.198591232299805\n",
      "scaling factors: 0.19426561011476987, 0.1903601920083234\n",
      "Object Length: 156.40\n",
      "angle: 23.198591232299805, normalized_angle: 23.198591232299805\n",
      "scaling factors: 0.19426561011476987, 0.1903601920083234\n",
      "Object Length: 156.40\n",
      "Skipping not prawm C:\\Users\\gbo10\\OneDrive\\measurement_paper_images\\molt\\image processed\\good\\640360\\right\\color_images\\undistorted_GX010191_9_346.jpg index 0\n",
      "Skipping not prawm C:\\Users\\gbo10\\OneDrive\\measurement_paper_images\\molt\\image processed\\good\\640360\\right\\color_images\\undistorted_GX010191_9_346.jpg index 1\n",
      "Skipping seg error C:\\Users\\gbo10\\OneDrive\\measurement_paper_images\\molt\\image processed\\good\\640360\\right\\color_images\\undistorted_GX010191_9_346.jpg index 2\n",
      "Skipping seg error c:\\Users\\gbo10\\OneDrive\\measurement_paper_images\\molt\\image processed\\good\\640360\\square\\color_images\\undistorted_GX010192_10_696.jpg index 1\n",
      "Skipping seg error c:\\Users\\gbo10\\OneDrive\\measurement_paper_images\\molt\\image processed\\good\\640360\\square\\color_images\\undistorted_GX010192_11_745.jpg index 0\n",
      "Skipping seg error c:\\Users\\gbo10\\OneDrive\\measurement_paper_images\\molt\\image processed\\good\\640360\\square\\color_images\\undistorted_GX010192_16_1005.jpg index 0\n",
      "angle: 0.0, normalized_angle: 0.0\n",
      "scaling factors: 0.11018049528897396, 0.10796548203457149\n",
      "Object Length: 157.29\n",
      "angle: 0.0, normalized_angle: 0.0\n",
      "scaling factors: 0.11018049528897396, 0.10796548203457149\n",
      "Object Length: 157.29\n",
      "angle: 29.05460548400879, normalized_angle: 29.05460548400879\n",
      "scaling factors: 0.11018049528897396, 0.10796548203457149\n",
      "Object Length: 150.91\n",
      "angle: 29.05460548400879, normalized_angle: 29.05460548400879\n",
      "scaling factors: 0.11018049528897396, 0.10796548203457149\n",
      "Object Length: 150.91\n",
      "angle: 9.462321281433105, normalized_angle: 9.462321281433105\n",
      "scaling factors: 0.11018049528897396, 0.10796548203457149\n",
      "Object Length: 155.37\n",
      "angle: 9.462321281433105, normalized_angle: 9.462321281433105\n",
      "scaling factors: 0.11018049528897396, 0.10796548203457149\n",
      "Object Length: 155.37\n",
      "Skipping seg error c:\\Users\\gbo10\\OneDrive\\measurement_paper_images\\molt\\image processed\\good\\640360\\square\\color_images\\undistorted_GX010192_8_593.jpg index 0\n",
      "angle: 15.945395469665527, normalized_angle: 15.945395469665527\n",
      "scaling factors: 0.11018049528897396, 0.10796548203457149\n",
      "Object Length: 155.28\n",
      "angle: 15.945395469665527, normalized_angle: 15.945395469665527\n",
      "scaling factors: 0.11018049528897396, 0.10796548203457149\n",
      "Object Length: 155.28\n",
      "angle: 63.43495178222656, normalized_angle: 63.43495178222656\n",
      "scaling factors: 0.11018049528897396, 0.10796548203457149\n",
      "Object Length: 188.33\n",
      "angle: 63.43495178222656, normalized_angle: 63.43495178222656\n",
      "scaling factors: 0.10583126521177762, 0.10370368669110155\n",
      "Object Length: 180.89\n",
      "Skipping seg error c:\\Users\\gbo10\\OneDrive\\measurement_paper_images\\molt\\image processed\\good\\640360\\square\\color_images\\undistorted_GX010193_10_1039.jpg index 1\n",
      "Skipping not prawm c:\\Users\\gbo10\\OneDrive\\measurement_paper_images\\molt\\image processed\\good\\640360\\square\\color_images\\undistorted_GX010193_10_1039.jpg index 2\n",
      "angle: 55.491477966308594, normalized_angle: 55.491477966308594\n",
      "scaling factors: 0.11018049528897396, 0.10796548203457149\n",
      "Object Length: 195.96\n",
      "angle: 55.491477966308594, normalized_angle: 55.491477966308594\n",
      "scaling factors: 0.10583126521177762, 0.10370368669110155\n",
      "Object Length: 188.23\n",
      "Skipping seg error c:\\Users\\gbo10\\OneDrive\\measurement_paper_images\\molt\\image processed\\good\\640360\\square\\color_images\\undistorted_GX010193_16_1232.jpg index 0\n",
      "angle: 87.9726791381836, normalized_angle: 87.9726791381836\n",
      "scaling factors: 0.11018049528897396, 0.10796548203457149\n",
      "Object Length: 146.30\n",
      "angle: 87.9726791381836, normalized_angle: 87.9726791381836\n",
      "scaling factors: 0.11018049528897396, 0.10796548203457149\n",
      "Object Length: 146.30\n",
      "angle: 65.13629913330078, normalized_angle: 65.13629913330078\n",
      "scaling factors: 0.11018049528897396, 0.10796548203457149\n",
      "Object Length: 150.96\n",
      "angle: 65.13629913330078, normalized_angle: 65.13629913330078\n",
      "scaling factors: 0.11018049528897396, 0.10796548203457149\n",
      "Object Length: 150.96\n",
      "angle: 33.996456146240234, normalized_angle: 33.996456146240234\n",
      "scaling factors: 0.11018049528897396, 0.10796548203457149\n",
      "Object Length: 154.46\n",
      "angle: 33.996456146240234, normalized_angle: 33.996456146240234\n",
      "scaling factors: 0.11018049528897396, 0.10796548203457149\n",
      "Object Length: 154.46\n",
      "Skipping not prawm c:\\Users\\gbo10\\OneDrive\\measurement_paper_images\\molt\\image processed\\good\\640360\\square\\color_images\\undistorted_GX010193_20_1365.jpg index 0\n",
      "angle: 7.95308256149292, normalized_angle: 7.95308256149292\n",
      "scaling factors: 0.11018049528897396, 0.10796548203457149\n",
      "Object Length: 143.28\n",
      "angle: 7.95308256149292, normalized_angle: 7.95308256149292\n",
      "scaling factors: 0.11018049528897396, 0.10796548203457149\n",
      "Object Length: 143.28\n",
      "Skipping seg error c:\\Users\\gbo10\\OneDrive\\measurement_paper_images\\molt\\image processed\\good\\640360\\square\\color_images\\undistorted_GX010193_26_1530.jpg index 0\n",
      "Skipping seg error c:\\Users\\gbo10\\OneDrive\\measurement_paper_images\\molt\\image processed\\good\\640360\\square\\color_images\\undistorted_GX010193_26_1530.jpg index 1\n",
      "Skipping seg error c:\\Users\\gbo10\\OneDrive\\measurement_paper_images\\molt\\image processed\\good\\640360\\square\\color_images\\undistorted_GX010193_27_1553.jpg index 0\n",
      "angle: 10.713123321533203, normalized_angle: 10.713123321533203\n",
      "scaling factors: 0.11018049528897396, 0.10796548203457149\n",
      "Object Length: 200.85\n",
      "angle: 10.713123321533203, normalized_angle: 10.713123321533203\n",
      "scaling factors: 0.10583126521177762, 0.10370368669110155\n",
      "Object Length: 192.92\n",
      "Skipping seg error c:\\Users\\gbo10\\OneDrive\\measurement_paper_images\\molt\\image processed\\good\\640360\\square\\color_images\\undistorted_GX010193_28_1584.jpg index 0\n",
      "Skipping seg error c:\\Users\\gbo10\\OneDrive\\measurement_paper_images\\molt\\image processed\\good\\640360\\square\\color_images\\undistorted_GX010193_28_1584.jpg index 1\n",
      "Skipping seg error c:\\Users\\gbo10\\OneDrive\\measurement_paper_images\\molt\\image processed\\good\\640360\\square\\color_images\\undistorted_GX010193_28_1584.jpg index 2\n",
      "angle: 51.280006408691406, normalized_angle: 51.280006408691406\n",
      "scaling factors: 0.11018049528897396, 0.10796548203457149\n",
      "Object Length: 206.98\n",
      "angle: 51.280006408691406, normalized_angle: 51.280006408691406\n",
      "scaling factors: 0.10583126521177762, 0.10370368669110155\n",
      "Object Length: 198.81\n",
      "Skipping seg error c:\\Users\\gbo10\\OneDrive\\measurement_paper_images\\molt\\image processed\\good\\640360\\square\\color_images\\undistorted_GX010193_4_283.jpg index 0\n",
      "angle: 59.095619201660156, normalized_angle: 59.095619201660156\n",
      "scaling factors: 0.11018049528897396, 0.10796548203457149\n",
      "Object Length: 191.69\n",
      "angle: 59.095619201660156, normalized_angle: 59.095619201660156\n",
      "scaling factors: 0.10583126521177762, 0.10370368669110155\n",
      "Object Length: 184.12\n",
      "Skipping seg error c:\\Users\\gbo10\\OneDrive\\measurement_paper_images\\molt\\image processed\\good\\640360\\square\\color_images\\undistorted_GX010193_5_305.jpg index 0\n",
      "Skipping seg error c:\\Users\\gbo10\\OneDrive\\measurement_paper_images\\molt\\image processed\\good\\640360\\square\\color_images\\undistorted_GX010193_6_330.jpg index 0\n",
      "Skipping seg error c:\\Users\\gbo10\\OneDrive\\measurement_paper_images\\molt\\image processed\\good\\640360\\square\\color_images\\undistorted_GX010193_7_360.jpg index 0\n",
      "Skipping seg error c:\\Users\\gbo10\\OneDrive\\measurement_paper_images\\molt\\image processed\\good\\640360\\square\\color_images\\undistorted_GX010193_7_360.jpg index 2\n",
      "angle: 57.7243537902832, normalized_angle: 57.7243537902832\n",
      "scaling factors: 0.11018049528897396, 0.10796548203457149\n",
      "Object Length: 202.08\n",
      "angle: 57.7243537902832, normalized_angle: 57.7243537902832\n",
      "scaling factors: 0.10583126521177762, 0.10370368669110155\n",
      "Object Length: 194.10\n",
      "angle: 45.32740020751953, normalized_angle: 45.32740020751953\n",
      "scaling factors: 0.11018049528897396, 0.10796548203457149\n",
      "Object Length: 195.24\n",
      "angle: 45.32740020751953, normalized_angle: 45.32740020751953\n",
      "scaling factors: 0.10583126521177762, 0.10370368669110155\n",
      "Object Length: 187.53\n",
      "Skipping seg error c:\\Users\\gbo10\\OneDrive\\measurement_paper_images\\molt\\image processed\\good\\640360\\square\\color_images\\undistorted_GX010194_17_257.jpg index 0\n",
      "angle: 33.575931549072266, normalized_angle: 33.575931549072266\n",
      "scaling factors: 0.11018049528897396, 0.10796548203457149\n",
      "Object Length: 199.65\n",
      "angle: 33.575931549072266, normalized_angle: 33.575931549072266\n",
      "scaling factors: 0.10583126521177762, 0.10370368669110155\n",
      "Object Length: 191.77\n",
      "angle: 15.376252174377441, normalized_angle: 15.376252174377441\n",
      "scaling factors: 0.11018049528897396, 0.10796548203457149\n",
      "Object Length: 202.81\n",
      "angle: 15.376252174377441, normalized_angle: 15.376252174377441\n",
      "scaling factors: 0.10583126521177762, 0.10370368669110155\n",
      "Object Length: 194.80\n",
      "Skipping seg error c:\\Users\\gbo10\\OneDrive\\measurement_paper_images\\molt\\image processed\\good\\640360\\square\\color_images\\undistorted_GX010194_18_272.jpg index 3\n",
      "angle: 31.970802307128906, normalized_angle: 31.970802307128906\n",
      "scaling factors: 0.11018049528897396, 0.10796548203457149\n",
      "Object Length: 189.68\n",
      "angle: 31.970802307128906, normalized_angle: 31.970802307128906\n",
      "scaling factors: 0.10583126521177762, 0.10370368669110155\n",
      "Object Length: 182.19\n",
      "Skipping seg error c:\\Users\\gbo10\\OneDrive\\measurement_paper_images\\molt\\image processed\\good\\640360\\square\\color_images\\undistorted_GX010194_19_285.jpg index 1\n",
      "Skipping seg error c:\\Users\\gbo10\\OneDrive\\measurement_paper_images\\molt\\image processed\\good\\640360\\square\\color_images\\undistorted_GX010194_20_299.jpg index 0\n",
      "Skipping seg error c:\\Users\\gbo10\\OneDrive\\measurement_paper_images\\molt\\image processed\\good\\640360\\square\\color_images\\undistorted_GX010194_21_312.jpg index 0\n",
      "Skipping image error c:\\Users\\gbo10\\OneDrive\\measurement_paper_images\\molt\\image processed\\good\\640360\\square\\color_images\\undistorted_GX010194_21_312.jpg index 1\n",
      "Skipping image error c:\\Users\\gbo10\\OneDrive\\measurement_paper_images\\molt\\image processed\\good\\640360\\square\\color_images\\undistorted_GX010194_21_312.jpg index 2\n",
      "Skipping seg error c:\\Users\\gbo10\\OneDrive\\measurement_paper_images\\molt\\image processed\\good\\640360\\square\\color_images\\undistorted_GX010194_22_323.jpg index 0\n",
      "Skipping seg error c:\\Users\\gbo10\\OneDrive\\measurement_paper_images\\molt\\image processed\\good\\640360\\square\\color_images\\undistorted_GX010194_24_352.jpg index 0\n",
      "Skipping seg error c:\\Users\\gbo10\\OneDrive\\measurement_paper_images\\molt\\image processed\\good\\640360\\square\\color_images\\undistorted_GX010194_2_285.jpg index 0\n",
      "Skipping seg error c:\\Users\\gbo10\\OneDrive\\measurement_paper_images\\molt\\image processed\\good\\640360\\square\\color_images\\undistorted_GX010194_2_285.jpg index 1\n",
      "Skipping seg error c:\\Users\\gbo10\\OneDrive\\measurement_paper_images\\molt\\image processed\\good\\640360\\square\\color_images\\undistorted_GX010194_30_407.jpg index 1\n",
      "Skipping seg error c:\\Users\\gbo10\\OneDrive\\measurement_paper_images\\molt\\image processed\\good\\640360\\square\\color_images\\undistorted_GX010194_31_414.jpg index 0\n",
      "angle: 5.6359405517578125, normalized_angle: 5.6359405517578125\n",
      "scaling factors: 0.11018049528897396, 0.10796548203457149\n",
      "Object Length: 145.60\n",
      "angle: 5.6359405517578125, normalized_angle: 5.6359405517578125\n",
      "scaling factors: 0.11018049528897396, 0.10796548203457149\n",
      "Object Length: 145.60\n",
      "angle: 90.0, normalized_angle: 90.0\n",
      "scaling factors: 0.11018049528897396, 0.10796548203457149\n",
      "Object Length: 146.07\n",
      "angle: 90.0, normalized_angle: 90.0\n",
      "scaling factors: 0.11018049528897396, 0.10796548203457149\n",
      "Object Length: 146.07\n",
      "angle: 1.9749339818954468, normalized_angle: 1.9749339818954468\n",
      "scaling factors: 0.11018049528897396, 0.10796548203457149\n",
      "Object Length: 150.42\n",
      "angle: 1.9749339818954468, normalized_angle: 1.9749339818954468\n",
      "scaling factors: 0.11018049528897396, 0.10796548203457149\n",
      "Object Length: 150.42\n",
      "angle: 1.9525090456008911, normalized_angle: 1.9525090456008911\n",
      "scaling factors: 0.11018049528897396, 0.10796548203457149\n",
      "Object Length: 149.07\n",
      "angle: 1.9525090456008911, normalized_angle: 1.9525090456008911\n",
      "scaling factors: 0.11018049528897396, 0.10796548203457149\n",
      "Object Length: 149.07\n",
      "Skipping not prawm c:\\Users\\gbo10\\OneDrive\\measurement_paper_images\\molt\\image processed\\good\\640360\\square\\color_images\\undistorted_GX010194_43_570.jpg index 0\n",
      "Skipping seg error c:\\Users\\gbo10\\OneDrive\\measurement_paper_images\\molt\\image processed\\good\\640360\\square\\color_images\\undistorted_GX010194_43_570.jpg index 3\n",
      "angle: 70.91888427734375, normalized_angle: 70.91888427734375\n",
      "scaling factors: 0.11018049528897396, 0.10796548203457149\n",
      "Object Length: 196.23\n",
      "angle: 70.91888427734375, normalized_angle: 70.91888427734375\n",
      "scaling factors: 0.10583126521177762, 0.10370368669110155\n",
      "Object Length: 188.48\n",
      "Skipping seg error c:\\Users\\gbo10\\OneDrive\\measurement_paper_images\\molt\\image processed\\good\\640360\\square\\color_images\\undistorted_GX010194_47_640.jpg index 0\n",
      "Skipping seg error c:\\Users\\gbo10\\OneDrive\\measurement_paper_images\\molt\\image processed\\good\\640360\\square\\color_images\\undistorted_GX010194_47_640.jpg index 2\n",
      "Skipping seg error c:\\Users\\gbo10\\OneDrive\\measurement_paper_images\\molt\\image processed\\good\\640360\\square\\color_images\\undistorted_GX010194_55_768.jpg index 0\n",
      "angle: 53.44752502441406, normalized_angle: 53.44752502441406\n",
      "scaling factors: 0.11018049528897396, 0.10796548203457149\n",
      "Object Length: 197.84\n",
      "angle: 53.44752502441406, normalized_angle: 53.44752502441406\n",
      "scaling factors: 0.10583126521177762, 0.10370368669110155\n",
      "Object Length: 190.03\n",
      "angle: 55.64566421508789, normalized_angle: 55.64566421508789\n",
      "scaling factors: 0.11018049528897396, 0.10796548203457149\n",
      "Object Length: 212.32\n",
      "angle: 55.64566421508789, normalized_angle: 55.64566421508789\n",
      "scaling factors: 0.10583126521177762, 0.10370368669110155\n",
      "Object Length: 203.94\n",
      "angle: 64.52357482910156, normalized_angle: 64.52357482910156\n",
      "scaling factors: 0.11018049528897396, 0.10796548203457149\n",
      "Object Length: 205.24\n",
      "angle: 64.52357482910156, normalized_angle: 64.52357482910156\n",
      "scaling factors: 0.10583126521177762, 0.10370368669110155\n",
      "Object Length: 197.14\n",
      "Skipping not prawm c:\\Users\\gbo10\\OneDrive\\measurement_paper_images\\molt\\image processed\\good\\640360\\square\\color_images\\undistorted_GX010194_57_798.jpg index 1\n",
      "angle: 73.1785888671875, normalized_angle: 73.1785888671875\n",
      "scaling factors: 0.11018049528897396, 0.10796548203457149\n",
      "Object Length: 208.42\n",
      "angle: 73.1785888671875, normalized_angle: 73.1785888671875\n",
      "scaling factors: 0.10583126521177762, 0.10370368669110155\n",
      "Object Length: 200.19\n",
      "Skipping seg error c:\\Users\\gbo10\\OneDrive\\measurement_paper_images\\molt\\image processed\\good\\640360\\square\\color_images\\undistorted_GX010194_5_757.jpg index 0\n",
      "angle: 6.968256950378418, normalized_angle: 6.968256950378418\n",
      "scaling factors: 0.11018049528897396, 0.10796548203457149\n",
      "Object Length: 155.37\n",
      "angle: 6.968256950378418, normalized_angle: 6.968256950378418\n",
      "scaling factors: 0.11018049528897396, 0.10796548203457149\n",
      "Object Length: 155.37\n",
      "Skipping seg error c:\\Users\\gbo10\\OneDrive\\measurement_paper_images\\molt\\image processed\\good\\640360\\square\\color_images\\undistorted_GX010194_61_852.jpg index 0\n",
      "Skipping seg error c:\\Users\\gbo10\\OneDrive\\measurement_paper_images\\molt\\image processed\\good\\640360\\square\\color_images\\undistorted_GX010194_62_878.jpg index 0\n",
      "Skipping seg error c:\\Users\\gbo10\\OneDrive\\measurement_paper_images\\molt\\image processed\\good\\640360\\square\\color_images\\undistorted_GX010194_62_878.jpg index 1\n",
      "Skipping seg error c:\\Users\\gbo10\\OneDrive\\measurement_paper_images\\molt\\image processed\\good\\640360\\square\\color_images\\undistorted_GX010194_63_894.jpg index 0\n",
      "Skipping seg error c:\\Users\\gbo10\\OneDrive\\measurement_paper_images\\molt\\image processed\\good\\640360\\square\\color_images\\undistorted_GX010194_63_894.jpg index 3\n",
      "Skipping seg error c:\\Users\\gbo10\\OneDrive\\measurement_paper_images\\molt\\image processed\\good\\640360\\square\\color_images\\undistorted_GX010194_64_911.jpg index 0\n",
      "Skipping seg error c:\\Users\\gbo10\\OneDrive\\measurement_paper_images\\molt\\image processed\\good\\640360\\square\\color_images\\undistorted_GX010194_64_911.jpg index 1\n",
      "Skipping seg error c:\\Users\\gbo10\\OneDrive\\measurement_paper_images\\molt\\image processed\\good\\640360\\square\\color_images\\undistorted_GX010194_65_928.jpg index 0\n",
      "Skipping seg error c:\\Users\\gbo10\\OneDrive\\measurement_paper_images\\molt\\image processed\\good\\640360\\square\\color_images\\undistorted_GX010194_6_101.jpg index 1\n",
      "Skipping seg error c:\\Users\\gbo10\\OneDrive\\measurement_paper_images\\molt\\image processed\\good\\640360\\square\\color_images\\undistorted_GX010194_6_101.jpg index 2\n",
      "Skipping seg error c:\\Users\\gbo10\\OneDrive\\measurement_paper_images\\molt\\image processed\\good\\640360\\square\\color_images\\undistorted_GX010194_6_845.jpg index 0\n",
      "Skipping seg error c:\\Users\\gbo10\\OneDrive\\measurement_paper_images\\molt\\image processed\\good\\640360\\square\\color_images\\undistorted_GX010194_7_885.jpg index 0\n"
     ]
    },
    {
     "data": {
      "text/html": [
       "\n",
       "        <iframe\n",
       "            width=\"100%\"\n",
       "            height=\"800\"\n",
       "            src=\"http://localhost:5152/?notebook=True&subscription=698352fc-baa4-4cb4-80d3-f8b625659627\"\n",
       "            frameborder=\"0\"\n",
       "            allowfullscreen\n",
       "            \n",
       "        ></iframe>\n",
       "        "
      ],
      "text/plain": [
       "<IPython.lib.display.IFrame at 0x2712b6328b0>"
      ]
     },
     "metadata": {},
     "output_type": "display_data"
    }
   ],
   "source": [
    "molt_right_image_path = r\"C:\\Users\\gbo10\\OneDrive\\measurement_paper_images\\molt\\image processed\\good\\640360\\right\\color_images\"\n",
    "\n",
    "molt_square_image_path=r\"c:\\Users\\gbo10\\OneDrive\\measurement_paper_images\\molt\\image processed\\good\\640360\\square\\color_images\"\n",
    "\n",
    "molt_prediction_right=r'C:\\Users\\gbo10\\OneDrive\\measurement_paper_images\\molt\\image processed\\good\\640360\\right\\segmentations'\n",
    "\n",
    "molt_prediction_sqaure=r'c:\\Users\\gbo10\\OneDrive\\measurement_paper_images\\molt\\image processed\\good\\640360\\square\\segmentations'\n",
    "\n",
    "\n",
    "import pandas as pd\n",
    "\n",
    "\n",
    "import fiftyone as fo\n",
    "dataset = fo.Dataset(\"molt\", overwrite=True,persistent=True)\n",
    "\n",
    "# Load the dataset\n",
    "right_image_paths = [os.path.join(molt_right_image_path, image) for image in os.listdir(molt_right_image_path) if image.endswith(('.jpg', '.jpeg', '.png', '.bmp', '.tiff'))]\n",
    "\n",
    "square_image_paths = [os.path.join(molt_square_image_path, image) for image in os.listdir(molt_square_image_path) if image.endswith(('.jpg', '.jpeg', '.png', '.bmp', '.tiff'))]\n",
    "\n",
    "for molt_prediction in [molt_prediction_right,molt_prediction_sqaure]:\n",
    "    prediction_paths_text = [os.path.join(molt_prediction, txt) for txt in os.listdir(molt_prediction) if txt.endswith('.txt')]\n",
    "\n",
    "\n",
    "\n",
    "\n",
    "    tag = molt_prediction.split('\\\\')[-2]\n",
    "\n",
    "    if 'right' in molt_prediction:\n",
    "        image_paths = right_image_paths\n",
    "        process_images(image_paths, molt_prediction, dataset, tag)\n",
    "    else:\n",
    "        image_paths = square_image_paths\n",
    "        process_images(image_paths, molt_prediction, dataset, tag)\n",
    "\n",
    "# Process segmentations\n",
    "dataframe = pd.DataFrame(columns=['image_path', 'index', 'pond'])\n",
    "\n",
    "df_clean=pd.read_csv(r'C:\\Users\\gbo10\\Videos\\research\\counting_research_algorithms\\fifty_one\\measurements\\samples_index.csv')\n",
    "\n",
    "df_seg_error=pd.read_csv(r'C:\\Users\\gbo10\\Videos\\research\\counting_research_algorithms\\fifty_one\\measurements\\molt_seg_error.csv')\n",
    "\n",
    "df_seg_error_other=pd.read_csv(r\"C:\\Users\\gbo10\\OneDrive\\research\\thesis and paper\\molt_seg_error.csv\")\n",
    "\n",
    "\n",
    "# df_seg_error=pd.concat([df_seg_error,df_seg_error_other])\n",
    "\n",
    "for sample in dataset:\n",
    "\n",
    "    tag = sample.tags[0]    \n",
    "    # Access the polylines for each sample\n",
    "    for i, segmentation in enumerate(sample[\"segmentations\"].polylines):\n",
    "\n",
    "\n",
    "        if sample.filepath.split('\\\\')[-1] in df_clean['sample'].values and i in df_clean.loc[df_clean['sample'] == sample.filepath.split('\\\\')[-1], 'index'].values:\n",
    "            print(f\"Skipping not prawm {sample.filepath} index {i}\")\n",
    "            continue\n",
    "        if sample.filepath.split('\\\\')[-1] in df_seg_error_other['image_path'].values and i in df_seg_error_other.loc[df_seg_error_other['image_path'] == sample.filepath.split('\\\\')[-1], 'index'].values:\n",
    "            print(f\"Skipping seg error {sample.filepath} index {i}\")\n",
    "            continue\n",
    "        if sample.filepath.split('\\\\')[-1] =='undistorted_GX010191_45_489.jpg' or sample.filepath.split('\\\\')[-1] =='undistorted_GX010191_27_215.jpg' or sample.filepath.split('\\\\')[-1] =='undistorted_GX010191_104_1301.jpg' or sample.filepath.split('\\\\')[-1]=='undistorted_GX010194_21_312.jpg' or sample.filepath.split('\\\\')[-1] =='undistorted_GX010191_26_199.jpg':\n",
    "            print(f\"Skipping image error {sample.filepath} index {i}\")\n",
    "            continue\n",
    "        image_path = sample.filepath.split('\\\\')[-1]\n",
    "\n",
    "        dataframe = dataframe._append({'image_path': image_path, 'index': i, 'pond': tag}, ignore_index=True)\n",
    "        # Process and modify the segmentation\n",
    "        updated_segmentation = process_detection_by_circle(segmentation, sample, i, dataframe)\n",
    "\n",
    "        # Save the updated segmentation back into the sample\n",
    "        sample[\"segmentations\"].polylines[i] = updated_segmentation\n",
    "\n",
    "        sample.save()\n",
    "\n",
    "dataframe.to_csv('molt.csv')\n",
    "session = fo.launch_app(dataset, port=5152)"
   ]
  },
  {
   "cell_type": "code",
   "execution_count": 6,
   "metadata": {},
   "outputs": [
    {
     "data": {
      "text/html": [
       "\n",
       "<style>\n",
       "@import url(\"https://fonts.googleapis.com/css2?family=Palanquin&display=swap\");\n",
       "\n",
       "body, html {\n",
       "  margin: 0;\n",
       "  padding: 0;\n",
       "  width: 100%;\n",
       "}\n",
       "\n",
       "#focontainer-b3f11401-027e-4ab1-8946-0b4a6d895204 {\n",
       "  position: relative;\n",
       "  height: 800px;\n",
       "  display: block !important;\n",
       "}\n",
       "#foactivate-b3f11401-027e-4ab1-8946-0b4a6d895204 {\n",
       "  font-weight: bold;\n",
       "  cursor: pointer;\n",
       "  font-size: 24px;\n",
       "  border-radius: 3px;\n",
       "  text-align: center;\n",
       "  padding: 0.5em;\n",
       "  color: rgb(255, 255, 255);\n",
       "  font-family: \"Palanquin\", sans-serif;\n",
       "  position: absolute;\n",
       "  left: 50%;\n",
       "  top: 50%;\n",
       "  width: 160px;\n",
       "  margin-left: -80px;\n",
       "  margin-top: -23px;\n",
       "  background: hsla(210,11%,15%, 0.8);\n",
       "  border: none;\n",
       "}\n",
       "#foactivate-b3f11401-027e-4ab1-8946-0b4a6d895204:focus {\n",
       "  outline: none;\n",
       "}\n",
       "#fooverlay-b3f11401-027e-4ab1-8946-0b4a6d895204 {\n",
       "  width: 100%;\n",
       "  height: 100%;\n",
       "  background: hsla(208, 7%, 46%, 0.7);\n",
       "  position: absolute;\n",
       "  top: 0;\n",
       "  left: 0;\n",
       "  display: none;\n",
       "  cursor: pointer;\n",
       "}\n",
       "</style>\n",
       "\n",
       "<div id=\"focontainer-b3f11401-027e-4ab1-8946-0b4a6d895204\">\n",
       "   <div id=\"fooverlay-b3f11401-027e-4ab1-8946-0b4a6d895204\" style=\"display: none;\">\n",
       "      <button id=\"foactivate-b3f11401-027e-4ab1-8946-0b4a6d895204\" >Activate</button>\n",
       "   </div>\n",
       "   <img src='data:image/jpeg;base64,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' style=\"width: 100%; max-width: 1140px;\"/>\n",
       "</div>\n",
       "\n",
       "<script type=\"text/javascript\">\n",
       "   (function() {\n",
       "     var container = document.getElementById(\"focontainer-b3f11401-027e-4ab1-8946-0b4a6d895204\");\n",
       "     var overlay = document.getElementById(\"fooverlay-b3f11401-027e-4ab1-8946-0b4a6d895204\");\n",
       "     fetch(`http://localhost:5152/fiftyone`)\n",
       "     .then(() => {\n",
       "        overlay.addEventListener(\"click\", () => {\n",
       "          fetch(`http://localhost:5152/event`, {\n",
       "            method: \"POST\",\n",
       "            body: JSON.stringify({\n",
       "              event: \"reactivate_notebook_cell\",\n",
       "              data: { subscription: \"b3f11401-027e-4ab1-8946-0b4a6d895204\" },\n",
       "              subscription: \"b3f11401-027e-4ab1-8946-0b4a6d895204\"\n",
       "            })\n",
       "          })\n",
       "        });\n",
       "        container.addEventListener(\"mouseenter\", () => overlay.style.display = \"block\");\n",
       "        container.addEventListener(\"mouseleave\", () => overlay.style.display = \"none\");\n",
       "     });\n",
       "   })();\n",
       "</script>"
      ],
      "text/plain": [
       "<IPython.core.display.HTML object>"
      ]
     },
     "metadata": {},
     "output_type": "display_data"
    }
   ],
   "source": [
    "import fiftyone as fo\n",
    "\n",
    "dataset=fo.load_dataset(\"molt\")\n",
    "\n",
    "session = fo.launch_app(dataset, port=5152)"
   ]
  },
  {
   "cell_type": "code",
   "execution_count": null,
   "metadata": {},
   "outputs": [],
   "source": [
    "\n",
    "# Load the dataset\n",
    "\n",
    "\n",
    "for sample in dataset:\n",
    "    for i, segmentation in enumerate(sample[\"segmentations\"].polylines):\n",
    "        print(f\"index: {i}, label: {segmentation.tags}\")"
   ]
  },
  {
   "cell_type": "code",
   "execution_count": 81,
   "metadata": {},
   "outputs": [
    {
     "name": "stdout",
     "output_type": "stream",
     "text": [
      "None\n"
     ]
    }
   ],
   "source": [
    "print(session.view)"
   ]
  },
  {
   "cell_type": "code",
   "execution_count": 80,
   "metadata": {},
   "outputs": [
    {
     "ename": "TypeError",
     "evalue": "'NoneType' object is not iterable",
     "output_type": "error",
     "traceback": [
      "\u001b[1;31m---------------------------------------------------------------------------\u001b[0m",
      "\u001b[1;31mTypeError\u001b[0m                                 Traceback (most recent call last)",
      "Cell \u001b[1;32mIn[80], line 6\u001b[0m\n\u001b[0;32m      4\u001b[0m \u001b[38;5;28;01mfrom\u001b[39;00m \u001b[38;5;21;01mtqdm\u001b[39;00m \u001b[38;5;28;01mimport\u001b[39;00m tqdm\n\u001b[0;32m      5\u001b[0m \u001b[38;5;66;03m# \u001b[39;00m\n\u001b[1;32m----> 6\u001b[0m \u001b[38;5;28;01mfor\u001b[39;00m sample \u001b[38;5;129;01min\u001b[39;00m view:\n\u001b[0;32m      7\u001b[0m     \u001b[38;5;28;01mfor\u001b[39;00m i, segmentation \u001b[38;5;129;01min\u001b[39;00m \u001b[38;5;28menumerate\u001b[39m(sample[\u001b[38;5;124m\"\u001b[39m\u001b[38;5;124msegmentations\u001b[39m\u001b[38;5;124m\"\u001b[39m]\u001b[38;5;241m.\u001b[39mpolylines):\n\u001b[0;32m      8\u001b[0m         \u001b[38;5;28;01mif\u001b[39;00m segmentation\u001b[38;5;241m.\u001b[39mlabel \u001b[38;5;129;01mis\u001b[39;00m \u001b[38;5;129;01mnot\u001b[39;00m \u001b[38;5;28;01mNone\u001b[39;00m:\n",
      "\u001b[1;31mTypeError\u001b[0m: 'NoneType' object is not iterable"
     ]
    }
   ],
   "source": [
    "\n",
    "\n",
    "dataframe_seg=pd.DataFrame(columns=['image_path','index'])\n",
    "from tqdm import tqdm\n",
    "# \n",
    "for sample in view:\n",
    "    for i, segmentation in enumerate(sample[\"segmentations\"].polylines):\n",
    "        if segmentation.label is not None:\n",
    "            print(len(segmentation.tags))\n",
    "            if len(segmentation.tags)>0:\n",
    "                \n",
    "                if segmentation.tags[0]=='under' or segmentation.tags[0]=='over':\n",
    "                    print(f\"under or over {sample.filepath} index {i}\")\n",
    "                    dataframe_seg=dataframe_seg._append({'image_path':sample.filepath.split('\\\\')[-1],'index':i},ignore_index=True)\n",
    "\n",
    "            \n",
    "dataframe_seg.to_csv('molt_seg_error.csv')"
   ]
  },
  {
   "cell_type": "code",
   "execution_count": 1,
   "metadata": {},
   "outputs": [
    {
     "name": "stderr",
     "output_type": "stream",
     "text": [
      "C:\\Users\\gbo10\\AppData\\Local\\Temp\\ipykernel_35108\\1391189737.py:30: SettingWithCopyWarning: \n",
      "A value is trying to be set on a copy of a slice from a DataFrame\n",
      "\n",
      "See the caveats in the documentation: https://pandas.pydata.org/pandas-docs/stable/user_guide/indexing.html#returning-a-view-versus-a-copy\n",
      "  df_clean.dropna(inplace=True)\n",
      "C:\\Users\\gbo10\\AppData\\Local\\Temp\\ipykernel_35108\\1391189737.py:32: SettingWithCopyWarning: \n",
      "A value is trying to be set on a copy of a slice from a DataFrame.\n",
      "Try using .loc[row_indexer,col_indexer] = value instead\n",
      "\n",
      "See the caveats in the documentation: https://pandas.pydata.org/pandas-docs/stable/user_guide/indexing.html#returning-a-view-versus-a-copy\n",
      "  df_clean.loc[:, 'error_Box_fov'] = df['Box_Length_fov'] - df['true_length']\n",
      "C:\\Users\\gbo10\\AppData\\Local\\Temp\\ipykernel_35108\\1391189737.py:33: SettingWithCopyWarning: \n",
      "A value is trying to be set on a copy of a slice from a DataFrame.\n",
      "Try using .loc[row_indexer,col_indexer] = value instead\n",
      "\n",
      "See the caveats in the documentation: https://pandas.pydata.org/pandas-docs/stable/user_guide/indexing.html#returning-a-view-versus-a-copy\n",
      "  df_clean.loc[:, 'error_Box_focal'] = df['Focal_Box'] - df['true_length']\n",
      "C:\\Users\\gbo10\\AppData\\Local\\Temp\\ipykernel_35108\\1391189737.py:35: SettingWithCopyWarning: \n",
      "A value is trying to be set on a copy of a slice from a DataFrame.\n",
      "Try using .loc[row_indexer,col_indexer] = value instead\n",
      "\n",
      "See the caveats in the documentation: https://pandas.pydata.org/pandas-docs/stable/user_guide/indexing.html#returning-a-view-versus-a-copy\n",
      "  df_clean.loc[:, 'sign_Error_percentage_Box_fov'] = (df['Box_Length_fov'] - df['true_length']) / df['true_length'] * 100\n",
      "C:\\Users\\gbo10\\AppData\\Local\\Temp\\ipykernel_35108\\1391189737.py:39: SettingWithCopyWarning: \n",
      "A value is trying to be set on a copy of a slice from a DataFrame.\n",
      "Try using .loc[row_indexer,col_indexer] = value instead\n",
      "\n",
      "See the caveats in the documentation: https://pandas.pydata.org/pandas-docs/stable/user_guide/indexing.html#returning-a-view-versus-a-copy\n",
      "  df_clean['center_x'] = df_clean['center'].apply(lambda x: ast.literal_eval(x)[0])\n",
      "C:\\Users\\gbo10\\AppData\\Local\\Temp\\ipykernel_35108\\1391189737.py:40: SettingWithCopyWarning: \n",
      "A value is trying to be set on a copy of a slice from a DataFrame.\n",
      "Try using .loc[row_indexer,col_indexer] = value instead\n",
      "\n",
      "See the caveats in the documentation: https://pandas.pydata.org/pandas-docs/stable/user_guide/indexing.html#returning-a-view-versus-a-copy\n",
      "  df_clean['center_y'] = df_clean['center'].apply(lambda x: ast.literal_eval(x)[1])\n"
     ]
    },
    {
     "name": "stdout",
     "output_type": "stream",
     "text": [
      "Plotting Error_percentage_Box_fov for 700...\n"
     ]
    },
    {
     "data": {
      "application/vnd.plotly.v1+json": {
       "config": {
        "plotlyServerURL": "https://plot.ly"
       },
       "data": [
        {
         "customdata": [
          [
           "undistorted_GX010191_101_1265.jpg",
           0
          ],
          [
           "undistorted_GX010191_102_1277.jpg",
           0
          ],
          [
           "undistorted_GX010191_103_1289.jpg",
           0
          ],
          [
           "undistorted_GX010191_105_1312.jpg",
           0
          ],
          [
           "undistorted_GX010191_107_1330.jpg",
           0
          ],
          [
           "undistorted_GX010191_10_370.jpg",
           0
          ],
          [
           "undistorted_GX010191_110_1355.jpg",
           3
          ],
          [
           "undistorted_GX010191_116_1399.jpg",
           0
          ],
          [
           "undistorted_GX010191_13_439.jpg",
           0
          ],
          [
           "undistorted_GX010191_15_479.jpg",
           0
          ],
          [
           "undistorted_GX010191_16_495.jpg",
           1
          ],
          [
           "undistorted_GX010191_16_495.jpg",
           2
          ],
          [
           "undistorted_GX010191_16_495.jpg",
           3
          ],
          [
           "undistorted_GX010191_17_509.jpg",
           1
          ],
          [
           "undistorted_GX010191_18_521.jpg",
           0
          ],
          [
           "undistorted_GX010191_19_537.jpg",
           0
          ],
          [
           "undistorted_GX010191_29_257.jpg",
           1
          ],
          [
           "undistorted_GX010191_31_283.jpg",
           1
          ],
          [
           "undistorted_GX010191_31_283.jpg",
           2
          ],
          [
           "undistorted_GX010191_32_1049.jpg",
           0
          ],
          [
           "undistorted_GX010191_33_1087.jpg",
           1
          ],
          [
           "undistorted_GX010191_33_331.jpg",
           0
          ],
          [
           "undistorted_GX010191_33_331.jpg",
           2
          ],
          [
           "undistorted_GX010191_34_1128.jpg",
           0
          ],
          [
           "undistorted_GX010191_34_1128.jpg",
           1
          ],
          [
           "undistorted_GX010191_35_1167.jpg",
           0
          ],
          [
           "undistorted_GX010191_35_1167.jpg",
           1
          ],
          [
           "undistorted_GX010191_35_1167.jpg",
           4
          ],
          [
           "undistorted_GX010191_35_367.jpg",
           0
          ],
          [
           "undistorted_GX010191_36_1195.jpg",
           1
          ],
          [
           "undistorted_GX010191_36_381.jpg",
           0
          ],
          [
           "undistorted_GX010191_38_1266.jpg",
           0
          ],
          [
           "undistorted_GX010191_38_404.jpg",
           0
          ],
          [
           "undistorted_GX010191_39_416.jpg",
           0
          ],
          [
           "undistorted_GX010191_42_1339.jpg",
           0
          ],
          [
           "undistorted_GX010191_42_1339.jpg",
           1
          ],
          [
           "undistorted_GX010191_42_1339.jpg",
           5
          ],
          [
           "undistorted_GX010191_42_457.jpg",
           0
          ],
          [
           "undistorted_GX010191_42_457.jpg",
           3
          ],
          [
           "undistorted_GX010191_43_1353.jpg",
           0
          ],
          [
           "undistorted_GX010191_43_1353.jpg",
           3
          ],
          [
           "undistorted_GX010191_44_478.jpg",
           0
          ],
          [
           "undistorted_GX010191_44_478.jpg",
           1
          ],
          [
           "undistorted_GX010191_46_497.jpg",
           1
          ],
          [
           "undistorted_GX010191_51_535.jpg",
           0
          ],
          [
           "undistorted_GX010191_5_190.jpg",
           2
          ],
          [
           "undistorted_GX010191_6_219.jpg",
           0
          ],
          [
           "undistorted_GX010191_88_1016.jpg",
           0
          ],
          [
           "undistorted_GX010191_91_1066.jpg",
           2
          ],
          [
           "undistorted_GX010191_92_1087.jpg",
           1
          ],
          [
           "undistorted_GX010191_94_1132.jpg",
           0
          ],
          [
           "undistorted_GX010191_95_1157.jpg",
           0
          ],
          [
           "undistorted_GX010191_95_1157.jpg",
           1
          ],
          [
           "undistorted_GX010191_96_1175.jpg",
           0
          ],
          [
           "undistorted_GX010191_97_1190.jpg",
           0
          ],
          [
           "undistorted_GX010191_98_1211.jpg",
           0
          ],
          [
           "undistorted_GX010191_98_1211.jpg",
           1
          ],
          [
           "undistorted_GX010191_99_1233.jpg",
           1
          ]
         ],
         "hovertemplate": "pond=700<br>center_x=%{x}<br>center_y=%{y}<br>image_path=%{customdata[0]}<br>index=%{customdata[1]}<br>Error_percentage_Box_fov=%{marker.color}<extra></extra>",
         "legendgroup": "700",
         "marker": {
          "color": [
           0.0136339434834394,
           1.8120911558320223,
           3.0838703603720217,
           3.5086558535308177,
           6.523901796366389,
           0.9025717256256096,
           0.7907783035648408,
           5.975328763042885,
           3.490852602670701,
           2.2480521559177924,
           2.3795288493261384,
           6.020595532492573,
           7.4739923956431396,
           4.757477930610763,
           4.552162393235445,
           3.4959151027176936,
           9.982622441140812,
           2.1254162027206447,
           3.6709467257363744,
           6.34178633248581,
           5.034060359877436,
           2.3807099979088755,
           2.463762370738086,
           3.032872955451956,
           9.542442818122137,
           9.219436018739612,
           8.73964039356084,
           9.219436018739612,
           0.1534263883963409,
           7.490828660084523,
           1.504410211067814,
           0.0843342407715586,
           12.732974238210325,
           5.043515222362314,
           0.9014701318457716,
           4.217648410474498,
           3.3367059479685808,
           9.345717752923829,
           4.298943035425912,
           3.63803935094563,
           1.4590067072199986,
           4.342093941077574,
           0.4580353839328034,
           2.7698711588255764,
           4.165879632733878,
           8.094449440723537,
           6.448006215154514,
           13.964859161644211,
           6.151975926031684,
           5.034060359877436,
           14.696641619990332,
           9.042962638362296,
           7.8966419597379875,
           4.067762424874752,
           10.581690640514047,
           6.458114107124242,
           11.452303694513988,
           9.369667907702883
          ],
          "coloraxis": "coloraxis",
          "size": 10,
          "symbol": "square"
         },
         "mode": "markers",
         "name": "700",
         "orientation": "v",
         "showlegend": true,
         "type": "scatter",
         "x": [
          339.99999999999994,
          338.8004753388554,
          342.4698795180723,
          390.4216867469879,
          432.4698795180723,
          389.4578313253012,
          530.4819277108434,
          489.99999999999994,
          472.4698795180723,
          485.4819277108433,
          385.510930440512,
          68.43373493975903,
          41.1379784273814,
          415.96385542168673,
          468.97590361445776,
          535.4819277108434,
          472.6840467338102,
          465.4216867469879,
          416.92771084337346,
          388.91566265060237,
          404.57916627447287,
          500.4819277108433,
          500.4819277108433,
          444.4578313253012,
          408.91566265060237,
          496.27894390060237,
          389.93975903614455,
          496.1544615963855,
          386.075336502259,
          386.4457831325301,
          408.91566265060237,
          341.4457831325301,
          429.4578313253012,
          429.4578313253012,
          482.95180722891564,
          330.96385542168673,
          342.4698795180723,
          478.4939759036144,
          484.4578313253012,
          528.9759036144578,
          366.92771084337346,
          481.4457831325301,
          367.95183664344876,
          88.97590361445782,
          530.4819277108434,
          441.1177522590361,
          462.04292756965356,
          393.433734939759,
          394.4578313253012,
          404.57916627447287,
          410.48192771084337,
          481.92771084337346,
          394.93975903614455,
          518.9156626506024,
          537.9518072289156,
          378.91566265060237,
          550.5027532003012,
          357.4096385542168
         ],
         "xaxis": "x",
         "y": [
          163.5542168674699,
          145.464308405497,
          127.04819277108436,
          97.59036144578317,
          98.5542168674699,
          116.50602409638557,
          159.0963855421687,
          212.59036144578315,
          148.5542168674699,
          51.08433734939763,
          100.45027767319277,
          41.08433734939763,
          40.96838525978916,
          68.5542168674699,
          69.57831325301208,
          109.57831325301208,
          174.74722620952562,
          127.59036144578315,
          41.566265060240994,
          246.0843373493976,
          189.05798486916416,
          96.08433734939763,
          96.08433734939763,
          144.57831325301206,
          304.03614457831327,
          154.5642678134413,
          270.5421686746988,
          154.57832796027864,
          116.57633953783886,
          260.5421686746988,
          124.03614457831327,
          163.5542168674699,
          154.51807228915663,
          159.03614457831327,
          108.5542168674699,
          162.04819277108436,
          148.5542168674699,
          103.07228915662654,
          100.60240963855426,
          150.54216867469881,
          136.566265060241,
          54.578313253012084,
          156.99698206890062,
          45.06024096385545,
          100.06024096385545,
          296.02376547204443,
          236.70989622552713,
          298.0120481927711,
          226.02409638554218,
          189.05798486916416,
          294.09638554216866,
          141.50602409638557,
          277.04819277108436,
          175.54216867469881,
          206.02409638554218,
          246.566265060241,
          241.66375953030874,
          215
         ],
         "yaxis": "y"
        }
       ],
       "layout": {
        "coloraxis": {
         "colorbar": {
          "title": {
           "text": "Error_percentage_Box_fov"
          }
         },
         "colorscale": [
          [
           0,
           "rgb(0,104,55)"
          ],
          [
           0.1,
           "rgb(26,152,80)"
          ],
          [
           0.2,
           "rgb(102,189,99)"
          ],
          [
           0.3,
           "rgb(166,217,106)"
          ],
          [
           0.4,
           "rgb(217,239,139)"
          ],
          [
           0.5,
           "rgb(255,255,191)"
          ],
          [
           0.6,
           "rgb(254,224,139)"
          ],
          [
           0.7,
           "rgb(253,174,97)"
          ],
          [
           0.8,
           "rgb(244,109,67)"
          ],
          [
           0.9,
           "rgb(215,48,39)"
          ],
          [
           1,
           "rgb(165,0,38)"
          ]
         ]
        },
        "legend": {
         "title": {
          "text": "pond"
         },
         "tracegroupgap": 0,
         "x": 0.01,
         "xanchor": "left",
         "y": 0.99,
         "yanchor": "top"
        },
        "margin": {
         "b": 0,
         "l": 0,
         "r": 0,
         "t": 0
        },
        "template": {
         "data": {
          "bar": [
           {
            "error_x": {
             "color": "#2a3f5f"
            },
            "error_y": {
             "color": "#2a3f5f"
            },
            "marker": {
             "line": {
              "color": "#E5ECF6",
              "width": 0.5
             },
             "pattern": {
              "fillmode": "overlay",
              "size": 10,
              "solidity": 0.2
             }
            },
            "type": "bar"
           }
          ],
          "barpolar": [
           {
            "marker": {
             "line": {
              "color": "#E5ECF6",
              "width": 0.5
             },
             "pattern": {
              "fillmode": "overlay",
              "size": 10,
              "solidity": 0.2
             }
            },
            "type": "barpolar"
           }
          ],
          "carpet": [
           {
            "aaxis": {
             "endlinecolor": "#2a3f5f",
             "gridcolor": "white",
             "linecolor": "white",
             "minorgridcolor": "white",
             "startlinecolor": "#2a3f5f"
            },
            "baxis": {
             "endlinecolor": "#2a3f5f",
             "gridcolor": "white",
             "linecolor": "white",
             "minorgridcolor": "white",
             "startlinecolor": "#2a3f5f"
            },
            "type": "carpet"
           }
          ],
          "choropleth": [
           {
            "colorbar": {
             "outlinewidth": 0,
             "ticks": ""
            },
            "type": "choropleth"
           }
          ],
          "contour": [
           {
            "colorbar": {
             "outlinewidth": 0,
             "ticks": ""
            },
            "colorscale": [
             [
              0,
              "#0d0887"
             ],
             [
              0.1111111111111111,
              "#46039f"
             ],
             [
              0.2222222222222222,
              "#7201a8"
             ],
             [
              0.3333333333333333,
              "#9c179e"
             ],
             [
              0.4444444444444444,
              "#bd3786"
             ],
             [
              0.5555555555555556,
              "#d8576b"
             ],
             [
              0.6666666666666666,
              "#ed7953"
             ],
             [
              0.7777777777777778,
              "#fb9f3a"
             ],
             [
              0.8888888888888888,
              "#fdca26"
             ],
             [
              1,
              "#f0f921"
             ]
            ],
            "type": "contour"
           }
          ],
          "contourcarpet": [
           {
            "colorbar": {
             "outlinewidth": 0,
             "ticks": ""
            },
            "type": "contourcarpet"
           }
          ],
          "heatmap": [
           {
            "colorbar": {
             "outlinewidth": 0,
             "ticks": ""
            },
            "colorscale": [
             [
              0,
              "#0d0887"
             ],
             [
              0.1111111111111111,
              "#46039f"
             ],
             [
              0.2222222222222222,
              "#7201a8"
             ],
             [
              0.3333333333333333,
              "#9c179e"
             ],
             [
              0.4444444444444444,
              "#bd3786"
             ],
             [
              0.5555555555555556,
              "#d8576b"
             ],
             [
              0.6666666666666666,
              "#ed7953"
             ],
             [
              0.7777777777777778,
              "#fb9f3a"
             ],
             [
              0.8888888888888888,
              "#fdca26"
             ],
             [
              1,
              "#f0f921"
             ]
            ],
            "type": "heatmap"
           }
          ],
          "heatmapgl": [
           {
            "colorbar": {
             "outlinewidth": 0,
             "ticks": ""
            },
            "colorscale": [
             [
              0,
              "#0d0887"
             ],
             [
              0.1111111111111111,
              "#46039f"
             ],
             [
              0.2222222222222222,
              "#7201a8"
             ],
             [
              0.3333333333333333,
              "#9c179e"
             ],
             [
              0.4444444444444444,
              "#bd3786"
             ],
             [
              0.5555555555555556,
              "#d8576b"
             ],
             [
              0.6666666666666666,
              "#ed7953"
             ],
             [
              0.7777777777777778,
              "#fb9f3a"
             ],
             [
              0.8888888888888888,
              "#fdca26"
             ],
             [
              1,
              "#f0f921"
             ]
            ],
            "type": "heatmapgl"
           }
          ],
          "histogram": [
           {
            "marker": {
             "pattern": {
              "fillmode": "overlay",
              "size": 10,
              "solidity": 0.2
             }
            },
            "type": "histogram"
           }
          ],
          "histogram2d": [
           {
            "colorbar": {
             "outlinewidth": 0,
             "ticks": ""
            },
            "colorscale": [
             [
              0,
              "#0d0887"
             ],
             [
              0.1111111111111111,
              "#46039f"
             ],
             [
              0.2222222222222222,
              "#7201a8"
             ],
             [
              0.3333333333333333,
              "#9c179e"
             ],
             [
              0.4444444444444444,
              "#bd3786"
             ],
             [
              0.5555555555555556,
              "#d8576b"
             ],
             [
              0.6666666666666666,
              "#ed7953"
             ],
             [
              0.7777777777777778,
              "#fb9f3a"
             ],
             [
              0.8888888888888888,
              "#fdca26"
             ],
             [
              1,
              "#f0f921"
             ]
            ],
            "type": "histogram2d"
           }
          ],
          "histogram2dcontour": [
           {
            "colorbar": {
             "outlinewidth": 0,
             "ticks": ""
            },
            "colorscale": [
             [
              0,
              "#0d0887"
             ],
             [
              0.1111111111111111,
              "#46039f"
             ],
             [
              0.2222222222222222,
              "#7201a8"
             ],
             [
              0.3333333333333333,
              "#9c179e"
             ],
             [
              0.4444444444444444,
              "#bd3786"
             ],
             [
              0.5555555555555556,
              "#d8576b"
             ],
             [
              0.6666666666666666,
              "#ed7953"
             ],
             [
              0.7777777777777778,
              "#fb9f3a"
             ],
             [
              0.8888888888888888,
              "#fdca26"
             ],
             [
              1,
              "#f0f921"
             ]
            ],
            "type": "histogram2dcontour"
           }
          ],
          "mesh3d": [
           {
            "colorbar": {
             "outlinewidth": 0,
             "ticks": ""
            },
            "type": "mesh3d"
           }
          ],
          "parcoords": [
           {
            "line": {
             "colorbar": {
              "outlinewidth": 0,
              "ticks": ""
             }
            },
            "type": "parcoords"
           }
          ],
          "pie": [
           {
            "automargin": true,
            "type": "pie"
           }
          ],
          "scatter": [
           {
            "fillpattern": {
             "fillmode": "overlay",
             "size": 10,
             "solidity": 0.2
            },
            "type": "scatter"
           }
          ],
          "scatter3d": [
           {
            "line": {
             "colorbar": {
              "outlinewidth": 0,
              "ticks": ""
             }
            },
            "marker": {
             "colorbar": {
              "outlinewidth": 0,
              "ticks": ""
             }
            },
            "type": "scatter3d"
           }
          ],
          "scattercarpet": [
           {
            "marker": {
             "colorbar": {
              "outlinewidth": 0,
              "ticks": ""
             }
            },
            "type": "scattercarpet"
           }
          ],
          "scattergeo": [
           {
            "marker": {
             "colorbar": {
              "outlinewidth": 0,
              "ticks": ""
             }
            },
            "type": "scattergeo"
           }
          ],
          "scattergl": [
           {
            "marker": {
             "colorbar": {
              "outlinewidth": 0,
              "ticks": ""
             }
            },
            "type": "scattergl"
           }
          ],
          "scattermapbox": [
           {
            "marker": {
             "colorbar": {
              "outlinewidth": 0,
              "ticks": ""
             }
            },
            "type": "scattermapbox"
           }
          ],
          "scatterpolar": [
           {
            "marker": {
             "colorbar": {
              "outlinewidth": 0,
              "ticks": ""
             }
            },
            "type": "scatterpolar"
           }
          ],
          "scatterpolargl": [
           {
            "marker": {
             "colorbar": {
              "outlinewidth": 0,
              "ticks": ""
             }
            },
            "type": "scatterpolargl"
           }
          ],
          "scatterternary": [
           {
            "marker": {
             "colorbar": {
              "outlinewidth": 0,
              "ticks": ""
             }
            },
            "type": "scatterternary"
           }
          ],
          "surface": [
           {
            "colorbar": {
             "outlinewidth": 0,
             "ticks": ""
            },
            "colorscale": [
             [
              0,
              "#0d0887"
             ],
             [
              0.1111111111111111,
              "#46039f"
             ],
             [
              0.2222222222222222,
              "#7201a8"
             ],
             [
              0.3333333333333333,
              "#9c179e"
             ],
             [
              0.4444444444444444,
              "#bd3786"
             ],
             [
              0.5555555555555556,
              "#d8576b"
             ],
             [
              0.6666666666666666,
              "#ed7953"
             ],
             [
              0.7777777777777778,
              "#fb9f3a"
             ],
             [
              0.8888888888888888,
              "#fdca26"
             ],
             [
              1,
              "#f0f921"
             ]
            ],
            "type": "surface"
           }
          ],
          "table": [
           {
            "cells": {
             "fill": {
              "color": "#EBF0F8"
             },
             "line": {
              "color": "white"
             }
            },
            "header": {
             "fill": {
              "color": "#C8D4E3"
             },
             "line": {
              "color": "white"
             }
            },
            "type": "table"
           }
          ]
         },
         "layout": {
          "annotationdefaults": {
           "arrowcolor": "#2a3f5f",
           "arrowhead": 0,
           "arrowwidth": 1
          },
          "autotypenumbers": "strict",
          "coloraxis": {
           "colorbar": {
            "outlinewidth": 0,
            "ticks": ""
           }
          },
          "colorscale": {
           "diverging": [
            [
             0,
             "#8e0152"
            ],
            [
             0.1,
             "#c51b7d"
            ],
            [
             0.2,
             "#de77ae"
            ],
            [
             0.3,
             "#f1b6da"
            ],
            [
             0.4,
             "#fde0ef"
            ],
            [
             0.5,
             "#f7f7f7"
            ],
            [
             0.6,
             "#e6f5d0"
            ],
            [
             0.7,
             "#b8e186"
            ],
            [
             0.8,
             "#7fbc41"
            ],
            [
             0.9,
             "#4d9221"
            ],
            [
             1,
             "#276419"
            ]
           ],
           "sequential": [
            [
             0,
             "#0d0887"
            ],
            [
             0.1111111111111111,
             "#46039f"
            ],
            [
             0.2222222222222222,
             "#7201a8"
            ],
            [
             0.3333333333333333,
             "#9c179e"
            ],
            [
             0.4444444444444444,
             "#bd3786"
            ],
            [
             0.5555555555555556,
             "#d8576b"
            ],
            [
             0.6666666666666666,
             "#ed7953"
            ],
            [
             0.7777777777777778,
             "#fb9f3a"
            ],
            [
             0.8888888888888888,
             "#fdca26"
            ],
            [
             1,
             "#f0f921"
            ]
           ],
           "sequentialminus": [
            [
             0,
             "#0d0887"
            ],
            [
             0.1111111111111111,
             "#46039f"
            ],
            [
             0.2222222222222222,
             "#7201a8"
            ],
            [
             0.3333333333333333,
             "#9c179e"
            ],
            [
             0.4444444444444444,
             "#bd3786"
            ],
            [
             0.5555555555555556,
             "#d8576b"
            ],
            [
             0.6666666666666666,
             "#ed7953"
            ],
            [
             0.7777777777777778,
             "#fb9f3a"
            ],
            [
             0.8888888888888888,
             "#fdca26"
            ],
            [
             1,
             "#f0f921"
            ]
           ]
          },
          "colorway": [
           "#636efa",
           "#EF553B",
           "#00cc96",
           "#ab63fa",
           "#FFA15A",
           "#19d3f3",
           "#FF6692",
           "#B6E880",
           "#FF97FF",
           "#FECB52"
          ],
          "font": {
           "color": "#2a3f5f"
          },
          "geo": {
           "bgcolor": "white",
           "lakecolor": "white",
           "landcolor": "#E5ECF6",
           "showlakes": true,
           "showland": true,
           "subunitcolor": "white"
          },
          "hoverlabel": {
           "align": "left"
          },
          "hovermode": "closest",
          "mapbox": {
           "style": "light"
          },
          "paper_bgcolor": "white",
          "plot_bgcolor": "#E5ECF6",
          "polar": {
           "angularaxis": {
            "gridcolor": "white",
            "linecolor": "white",
            "ticks": ""
           },
           "bgcolor": "#E5ECF6",
           "radialaxis": {
            "gridcolor": "white",
            "linecolor": "white",
            "ticks": ""
           }
          },
          "scene": {
           "xaxis": {
            "backgroundcolor": "#E5ECF6",
            "gridcolor": "white",
            "gridwidth": 2,
            "linecolor": "white",
            "showbackground": true,
            "ticks": "",
            "zerolinecolor": "white"
           },
           "yaxis": {
            "backgroundcolor": "#E5ECF6",
            "gridcolor": "white",
            "gridwidth": 2,
            "linecolor": "white",
            "showbackground": true,
            "ticks": "",
            "zerolinecolor": "white"
           },
           "zaxis": {
            "backgroundcolor": "#E5ECF6",
            "gridcolor": "white",
            "gridwidth": 2,
            "linecolor": "white",
            "showbackground": true,
            "ticks": "",
            "zerolinecolor": "white"
           }
          },
          "shapedefaults": {
           "line": {
            "color": "#2a3f5f"
           }
          },
          "ternary": {
           "aaxis": {
            "gridcolor": "white",
            "linecolor": "white",
            "ticks": ""
           },
           "baxis": {
            "gridcolor": "white",
            "linecolor": "white",
            "ticks": ""
           },
           "bgcolor": "#E5ECF6",
           "caxis": {
            "gridcolor": "white",
            "linecolor": "white",
            "ticks": ""
           }
          },
          "title": {
           "x": 0.05
          },
          "xaxis": {
           "automargin": true,
           "gridcolor": "white",
           "linecolor": "white",
           "ticks": "",
           "title": {
            "standoff": 15
           },
           "zerolinecolor": "white",
           "zerolinewidth": 2
          },
          "yaxis": {
           "automargin": true,
           "gridcolor": "white",
           "linecolor": "white",
           "ticks": "",
           "title": {
            "standoff": 15
           },
           "zerolinecolor": "white",
           "zerolinewidth": 2
          }
         }
        },
        "title": {
         "text": "Error_percentage_Box_fov of Hull Length Prediction"
        },
        "xaxis": {
         "anchor": "y",
         "domain": [
          0,
          1
         ],
         "title": {
          "text": "center_x"
         }
        },
        "yaxis": {
         "anchor": "x",
         "domain": [
          0,
          1
         ],
         "title": {
          "text": "center_y"
         }
        }
       }
      }
     },
     "metadata": {},
     "output_type": "display_data"
    },
    {
     "name": "stdout",
     "output_type": "stream",
     "text": [
      "Plotting Error_percentage_Box_fov for 410...\n"
     ]
    },
    {
     "data": {
      "application/vnd.plotly.v1+json": {
       "config": {
        "plotlyServerURL": "https://plot.ly"
       },
       "data": [
        {
         "customdata": [
          [
           "undistorted_GX010192_17_1035.jpg",
           0
          ],
          [
           "undistorted_GX010192_25_1553.jpg",
           0
          ],
          [
           "undistorted_GX010192_26_1578.jpg",
           0
          ],
          [
           "undistorted_GX010192_9_675.jpg",
           1
          ],
          [
           "undistorted_GX010193_10_1039.jpg",
           0
          ],
          [
           "undistorted_GX010193_11_1065.jpg",
           0
          ],
          [
           "undistorted_GX010193_17_1264.jpg",
           0
          ],
          [
           "undistorted_GX010193_18_1289.jpg",
           0
          ],
          [
           "undistorted_GX010193_19_1334.jpg",
           0
          ],
          [
           "undistorted_GX010193_20_1365.jpg",
           2
          ],
          [
           "undistorted_GX010193_27_1553.jpg",
           1
          ],
          [
           "undistorted_GX010193_3_251.jpg",
           0
          ],
          [
           "undistorted_GX010193_4_283.jpg",
           1
          ],
          [
           "undistorted_GX010194_15_231.jpg",
           0
          ],
          [
           "undistorted_GX010194_16_240.jpg",
           0
          ],
          [
           "undistorted_GX010194_17_257.jpg",
           1
          ],
          [
           "undistorted_GX010194_18_272.jpg",
           0
          ],
          [
           "undistorted_GX010194_19_285.jpg",
           0
          ],
          [
           "undistorted_GX010194_36_485.jpg",
           1
          ],
          [
           "undistorted_GX010194_37_496.jpg",
           1
          ],
          [
           "undistorted_GX010194_38_504.jpg",
           1
          ],
          [
           "undistorted_GX010194_39_513.jpg",
           1
          ],
          [
           "undistorted_GX010194_46_620.jpg",
           1
          ],
          [
           "undistorted_GX010194_55_768.jpg",
           2
          ],
          [
           "undistorted_GX010194_56_784.jpg",
           0
          ],
          [
           "undistorted_GX010194_57_798.jpg",
           0
          ],
          [
           "undistorted_GX010194_58_810.jpg",
           2
          ],
          [
           "undistorted_GX010194_60_836.jpg",
           0
          ]
         ],
         "hovertemplate": "pond=410<br>center_x=%{x}<br>center_y=%{y}<br>image_path=%{customdata[0]}<br>index=%{customdata[1]}<br>Error_percentage_Box_fov=%{marker.color}<extra></extra>",
         "legendgroup": "410",
         "marker": {
          "color": [
           9.995576975202264,
           5.530807753530357,
           8.65074244162312,
           8.586574040417847,
           0.497087777198099,
           4.569637525714635,
           2.3048032597630663,
           5.569928099730795,
           8.012448263440499,
           0.195391278349227,
           7.177365986099475,
           10.450913297142424,
           2.288543257793773,
           7.836043125359062,
           4.18524990540427,
           6.538605793011637,
           8.223544063252081,
           1.2165370732050935,
           1.8156707089410569,
           2.144406045155077,
           5.189384970073551,
           4.2424359200103945,
           4.711842119229664,
           5.570269280039733,
           13.301510088956045,
           9.521202213306278,
           11.218246915477042,
           8.650497269164068
          ],
          "coloraxis": "coloraxis",
          "size": 10,
          "symbol": "square"
         },
         "mode": "markers",
         "name": "410",
         "orientation": "v",
         "showlegend": true,
         "type": "scatter",
         "x": [
          255.61564617846383,
          295.78639754329816,
          283.9759036144578,
          337.16390954442767,
          294.39759036144574,
          325.96385542168673,
          359.81821818524094,
          275.6279708678464,
          186.50637707078312,
          89.4578313253012,
          222.95180722891564,
          384.4578313253012,
          407.4698795180723,
          455.96385542168673,
          431.17031602974396,
          422.4698795180723,
          431.92771084337346,
          448.433734939759,
          288.5998093938253,
          290.4216867469879,
          288.433734939759,
          287.64733739646084,
          86.92771084337349,
          365.48192771084337,
          375.4216867469879,
          381.4457831325301,
          385.2791733339608,
          351.2028485033885
         ],
         "xaxis": "x",
         "y": [
          90.0549757624247,
          247.38245217196913,
          126.02409638554218,
          146.40152896743226,
          183.5542168674699,
          126.02409638554218,
          177.3257483057229,
          214.49277579066268,
          214.1999688205949,
          176.56626506024097,
          248.0722891566265,
          281.0240963855422,
          198.0722891566265,
          161.566265060241,
          175.36918180534641,
          150.06024096385545,
          111.566265060241,
          76.08433734939763,
          256.1419383589044,
          208.5542168674699,
          171.566265060241,
          123.57898390436748,
          96.02409638554218,
          227.10843373493978,
          183.0120481927711,
          146.566265060241,
          98.62451760165663,
          281.14065147307986
         ],
         "yaxis": "y"
        }
       ],
       "layout": {
        "coloraxis": {
         "colorbar": {
          "title": {
           "text": "Error_percentage_Box_fov"
          }
         },
         "colorscale": [
          [
           0,
           "rgb(0,104,55)"
          ],
          [
           0.1,
           "rgb(26,152,80)"
          ],
          [
           0.2,
           "rgb(102,189,99)"
          ],
          [
           0.3,
           "rgb(166,217,106)"
          ],
          [
           0.4,
           "rgb(217,239,139)"
          ],
          [
           0.5,
           "rgb(255,255,191)"
          ],
          [
           0.6,
           "rgb(254,224,139)"
          ],
          [
           0.7,
           "rgb(253,174,97)"
          ],
          [
           0.8,
           "rgb(244,109,67)"
          ],
          [
           0.9,
           "rgb(215,48,39)"
          ],
          [
           1,
           "rgb(165,0,38)"
          ]
         ]
        },
        "legend": {
         "title": {
          "text": "pond"
         },
         "tracegroupgap": 0,
         "x": 0.01,
         "xanchor": "left",
         "y": 0.99,
         "yanchor": "top"
        },
        "margin": {
         "b": 0,
         "l": 0,
         "r": 0,
         "t": 0
        },
        "template": {
         "data": {
          "bar": [
           {
            "error_x": {
             "color": "#2a3f5f"
            },
            "error_y": {
             "color": "#2a3f5f"
            },
            "marker": {
             "line": {
              "color": "#E5ECF6",
              "width": 0.5
             },
             "pattern": {
              "fillmode": "overlay",
              "size": 10,
              "solidity": 0.2
             }
            },
            "type": "bar"
           }
          ],
          "barpolar": [
           {
            "marker": {
             "line": {
              "color": "#E5ECF6",
              "width": 0.5
             },
             "pattern": {
              "fillmode": "overlay",
              "size": 10,
              "solidity": 0.2
             }
            },
            "type": "barpolar"
           }
          ],
          "carpet": [
           {
            "aaxis": {
             "endlinecolor": "#2a3f5f",
             "gridcolor": "white",
             "linecolor": "white",
             "minorgridcolor": "white",
             "startlinecolor": "#2a3f5f"
            },
            "baxis": {
             "endlinecolor": "#2a3f5f",
             "gridcolor": "white",
             "linecolor": "white",
             "minorgridcolor": "white",
             "startlinecolor": "#2a3f5f"
            },
            "type": "carpet"
           }
          ],
          "choropleth": [
           {
            "colorbar": {
             "outlinewidth": 0,
             "ticks": ""
            },
            "type": "choropleth"
           }
          ],
          "contour": [
           {
            "colorbar": {
             "outlinewidth": 0,
             "ticks": ""
            },
            "colorscale": [
             [
              0,
              "#0d0887"
             ],
             [
              0.1111111111111111,
              "#46039f"
             ],
             [
              0.2222222222222222,
              "#7201a8"
             ],
             [
              0.3333333333333333,
              "#9c179e"
             ],
             [
              0.4444444444444444,
              "#bd3786"
             ],
             [
              0.5555555555555556,
              "#d8576b"
             ],
             [
              0.6666666666666666,
              "#ed7953"
             ],
             [
              0.7777777777777778,
              "#fb9f3a"
             ],
             [
              0.8888888888888888,
              "#fdca26"
             ],
             [
              1,
              "#f0f921"
             ]
            ],
            "type": "contour"
           }
          ],
          "contourcarpet": [
           {
            "colorbar": {
             "outlinewidth": 0,
             "ticks": ""
            },
            "type": "contourcarpet"
           }
          ],
          "heatmap": [
           {
            "colorbar": {
             "outlinewidth": 0,
             "ticks": ""
            },
            "colorscale": [
             [
              0,
              "#0d0887"
             ],
             [
              0.1111111111111111,
              "#46039f"
             ],
             [
              0.2222222222222222,
              "#7201a8"
             ],
             [
              0.3333333333333333,
              "#9c179e"
             ],
             [
              0.4444444444444444,
              "#bd3786"
             ],
             [
              0.5555555555555556,
              "#d8576b"
             ],
             [
              0.6666666666666666,
              "#ed7953"
             ],
             [
              0.7777777777777778,
              "#fb9f3a"
             ],
             [
              0.8888888888888888,
              "#fdca26"
             ],
             [
              1,
              "#f0f921"
             ]
            ],
            "type": "heatmap"
           }
          ],
          "heatmapgl": [
           {
            "colorbar": {
             "outlinewidth": 0,
             "ticks": ""
            },
            "colorscale": [
             [
              0,
              "#0d0887"
             ],
             [
              0.1111111111111111,
              "#46039f"
             ],
             [
              0.2222222222222222,
              "#7201a8"
             ],
             [
              0.3333333333333333,
              "#9c179e"
             ],
             [
              0.4444444444444444,
              "#bd3786"
             ],
             [
              0.5555555555555556,
              "#d8576b"
             ],
             [
              0.6666666666666666,
              "#ed7953"
             ],
             [
              0.7777777777777778,
              "#fb9f3a"
             ],
             [
              0.8888888888888888,
              "#fdca26"
             ],
             [
              1,
              "#f0f921"
             ]
            ],
            "type": "heatmapgl"
           }
          ],
          "histogram": [
           {
            "marker": {
             "pattern": {
              "fillmode": "overlay",
              "size": 10,
              "solidity": 0.2
             }
            },
            "type": "histogram"
           }
          ],
          "histogram2d": [
           {
            "colorbar": {
             "outlinewidth": 0,
             "ticks": ""
            },
            "colorscale": [
             [
              0,
              "#0d0887"
             ],
             [
              0.1111111111111111,
              "#46039f"
             ],
             [
              0.2222222222222222,
              "#7201a8"
             ],
             [
              0.3333333333333333,
              "#9c179e"
             ],
             [
              0.4444444444444444,
              "#bd3786"
             ],
             [
              0.5555555555555556,
              "#d8576b"
             ],
             [
              0.6666666666666666,
              "#ed7953"
             ],
             [
              0.7777777777777778,
              "#fb9f3a"
             ],
             [
              0.8888888888888888,
              "#fdca26"
             ],
             [
              1,
              "#f0f921"
             ]
            ],
            "type": "histogram2d"
           }
          ],
          "histogram2dcontour": [
           {
            "colorbar": {
             "outlinewidth": 0,
             "ticks": ""
            },
            "colorscale": [
             [
              0,
              "#0d0887"
             ],
             [
              0.1111111111111111,
              "#46039f"
             ],
             [
              0.2222222222222222,
              "#7201a8"
             ],
             [
              0.3333333333333333,
              "#9c179e"
             ],
             [
              0.4444444444444444,
              "#bd3786"
             ],
             [
              0.5555555555555556,
              "#d8576b"
             ],
             [
              0.6666666666666666,
              "#ed7953"
             ],
             [
              0.7777777777777778,
              "#fb9f3a"
             ],
             [
              0.8888888888888888,
              "#fdca26"
             ],
             [
              1,
              "#f0f921"
             ]
            ],
            "type": "histogram2dcontour"
           }
          ],
          "mesh3d": [
           {
            "colorbar": {
             "outlinewidth": 0,
             "ticks": ""
            },
            "type": "mesh3d"
           }
          ],
          "parcoords": [
           {
            "line": {
             "colorbar": {
              "outlinewidth": 0,
              "ticks": ""
             }
            },
            "type": "parcoords"
           }
          ],
          "pie": [
           {
            "automargin": true,
            "type": "pie"
           }
          ],
          "scatter": [
           {
            "fillpattern": {
             "fillmode": "overlay",
             "size": 10,
             "solidity": 0.2
            },
            "type": "scatter"
           }
          ],
          "scatter3d": [
           {
            "line": {
             "colorbar": {
              "outlinewidth": 0,
              "ticks": ""
             }
            },
            "marker": {
             "colorbar": {
              "outlinewidth": 0,
              "ticks": ""
             }
            },
            "type": "scatter3d"
           }
          ],
          "scattercarpet": [
           {
            "marker": {
             "colorbar": {
              "outlinewidth": 0,
              "ticks": ""
             }
            },
            "type": "scattercarpet"
           }
          ],
          "scattergeo": [
           {
            "marker": {
             "colorbar": {
              "outlinewidth": 0,
              "ticks": ""
             }
            },
            "type": "scattergeo"
           }
          ],
          "scattergl": [
           {
            "marker": {
             "colorbar": {
              "outlinewidth": 0,
              "ticks": ""
             }
            },
            "type": "scattergl"
           }
          ],
          "scattermapbox": [
           {
            "marker": {
             "colorbar": {
              "outlinewidth": 0,
              "ticks": ""
             }
            },
            "type": "scattermapbox"
           }
          ],
          "scatterpolar": [
           {
            "marker": {
             "colorbar": {
              "outlinewidth": 0,
              "ticks": ""
             }
            },
            "type": "scatterpolar"
           }
          ],
          "scatterpolargl": [
           {
            "marker": {
             "colorbar": {
              "outlinewidth": 0,
              "ticks": ""
             }
            },
            "type": "scatterpolargl"
           }
          ],
          "scatterternary": [
           {
            "marker": {
             "colorbar": {
              "outlinewidth": 0,
              "ticks": ""
             }
            },
            "type": "scatterternary"
           }
          ],
          "surface": [
           {
            "colorbar": {
             "outlinewidth": 0,
             "ticks": ""
            },
            "colorscale": [
             [
              0,
              "#0d0887"
             ],
             [
              0.1111111111111111,
              "#46039f"
             ],
             [
              0.2222222222222222,
              "#7201a8"
             ],
             [
              0.3333333333333333,
              "#9c179e"
             ],
             [
              0.4444444444444444,
              "#bd3786"
             ],
             [
              0.5555555555555556,
              "#d8576b"
             ],
             [
              0.6666666666666666,
              "#ed7953"
             ],
             [
              0.7777777777777778,
              "#fb9f3a"
             ],
             [
              0.8888888888888888,
              "#fdca26"
             ],
             [
              1,
              "#f0f921"
             ]
            ],
            "type": "surface"
           }
          ],
          "table": [
           {
            "cells": {
             "fill": {
              "color": "#EBF0F8"
             },
             "line": {
              "color": "white"
             }
            },
            "header": {
             "fill": {
              "color": "#C8D4E3"
             },
             "line": {
              "color": "white"
             }
            },
            "type": "table"
           }
          ]
         },
         "layout": {
          "annotationdefaults": {
           "arrowcolor": "#2a3f5f",
           "arrowhead": 0,
           "arrowwidth": 1
          },
          "autotypenumbers": "strict",
          "coloraxis": {
           "colorbar": {
            "outlinewidth": 0,
            "ticks": ""
           }
          },
          "colorscale": {
           "diverging": [
            [
             0,
             "#8e0152"
            ],
            [
             0.1,
             "#c51b7d"
            ],
            [
             0.2,
             "#de77ae"
            ],
            [
             0.3,
             "#f1b6da"
            ],
            [
             0.4,
             "#fde0ef"
            ],
            [
             0.5,
             "#f7f7f7"
            ],
            [
             0.6,
             "#e6f5d0"
            ],
            [
             0.7,
             "#b8e186"
            ],
            [
             0.8,
             "#7fbc41"
            ],
            [
             0.9,
             "#4d9221"
            ],
            [
             1,
             "#276419"
            ]
           ],
           "sequential": [
            [
             0,
             "#0d0887"
            ],
            [
             0.1111111111111111,
             "#46039f"
            ],
            [
             0.2222222222222222,
             "#7201a8"
            ],
            [
             0.3333333333333333,
             "#9c179e"
            ],
            [
             0.4444444444444444,
             "#bd3786"
            ],
            [
             0.5555555555555556,
             "#d8576b"
            ],
            [
             0.6666666666666666,
             "#ed7953"
            ],
            [
             0.7777777777777778,
             "#fb9f3a"
            ],
            [
             0.8888888888888888,
             "#fdca26"
            ],
            [
             1,
             "#f0f921"
            ]
           ],
           "sequentialminus": [
            [
             0,
             "#0d0887"
            ],
            [
             0.1111111111111111,
             "#46039f"
            ],
            [
             0.2222222222222222,
             "#7201a8"
            ],
            [
             0.3333333333333333,
             "#9c179e"
            ],
            [
             0.4444444444444444,
             "#bd3786"
            ],
            [
             0.5555555555555556,
             "#d8576b"
            ],
            [
             0.6666666666666666,
             "#ed7953"
            ],
            [
             0.7777777777777778,
             "#fb9f3a"
            ],
            [
             0.8888888888888888,
             "#fdca26"
            ],
            [
             1,
             "#f0f921"
            ]
           ]
          },
          "colorway": [
           "#636efa",
           "#EF553B",
           "#00cc96",
           "#ab63fa",
           "#FFA15A",
           "#19d3f3",
           "#FF6692",
           "#B6E880",
           "#FF97FF",
           "#FECB52"
          ],
          "font": {
           "color": "#2a3f5f"
          },
          "geo": {
           "bgcolor": "white",
           "lakecolor": "white",
           "landcolor": "#E5ECF6",
           "showlakes": true,
           "showland": true,
           "subunitcolor": "white"
          },
          "hoverlabel": {
           "align": "left"
          },
          "hovermode": "closest",
          "mapbox": {
           "style": "light"
          },
          "paper_bgcolor": "white",
          "plot_bgcolor": "#E5ECF6",
          "polar": {
           "angularaxis": {
            "gridcolor": "white",
            "linecolor": "white",
            "ticks": ""
           },
           "bgcolor": "#E5ECF6",
           "radialaxis": {
            "gridcolor": "white",
            "linecolor": "white",
            "ticks": ""
           }
          },
          "scene": {
           "xaxis": {
            "backgroundcolor": "#E5ECF6",
            "gridcolor": "white",
            "gridwidth": 2,
            "linecolor": "white",
            "showbackground": true,
            "ticks": "",
            "zerolinecolor": "white"
           },
           "yaxis": {
            "backgroundcolor": "#E5ECF6",
            "gridcolor": "white",
            "gridwidth": 2,
            "linecolor": "white",
            "showbackground": true,
            "ticks": "",
            "zerolinecolor": "white"
           },
           "zaxis": {
            "backgroundcolor": "#E5ECF6",
            "gridcolor": "white",
            "gridwidth": 2,
            "linecolor": "white",
            "showbackground": true,
            "ticks": "",
            "zerolinecolor": "white"
           }
          },
          "shapedefaults": {
           "line": {
            "color": "#2a3f5f"
           }
          },
          "ternary": {
           "aaxis": {
            "gridcolor": "white",
            "linecolor": "white",
            "ticks": ""
           },
           "baxis": {
            "gridcolor": "white",
            "linecolor": "white",
            "ticks": ""
           },
           "bgcolor": "#E5ECF6",
           "caxis": {
            "gridcolor": "white",
            "linecolor": "white",
            "ticks": ""
           }
          },
          "title": {
           "x": 0.05
          },
          "xaxis": {
           "automargin": true,
           "gridcolor": "white",
           "linecolor": "white",
           "ticks": "",
           "title": {
            "standoff": 15
           },
           "zerolinecolor": "white",
           "zerolinewidth": 2
          },
          "yaxis": {
           "automargin": true,
           "gridcolor": "white",
           "linecolor": "white",
           "ticks": "",
           "title": {
            "standoff": 15
           },
           "zerolinecolor": "white",
           "zerolinewidth": 2
          }
         }
        },
        "title": {
         "text": "Error_percentage_Box_fov of Hull Length Prediction"
        },
        "xaxis": {
         "anchor": "y",
         "domain": [
          0,
          1
         ],
         "title": {
          "text": "center_x"
         }
        },
        "yaxis": {
         "anchor": "x",
         "domain": [
          0,
          1
         ],
         "title": {
          "text": "center_y"
         }
        }
       }
      }
     },
     "metadata": {},
     "output_type": "display_data"
    },
    {
     "name": "stdout",
     "output_type": "stream",
     "text": [
      "Plotting MAE_Box_fov for 700...\n"
     ]
    },
    {
     "data": {
      "application/vnd.plotly.v1+json": {
       "config": {
        "plotlyServerURL": "https://plot.ly"
       },
       "data": [
        {
         "customdata": [
          [
           "undistorted_GX010191_101_1265.jpg",
           0
          ],
          [
           "undistorted_GX010191_102_1277.jpg",
           0
          ],
          [
           "undistorted_GX010191_103_1289.jpg",
           0
          ],
          [
           "undistorted_GX010191_105_1312.jpg",
           0
          ],
          [
           "undistorted_GX010191_107_1330.jpg",
           0
          ],
          [
           "undistorted_GX010191_10_370.jpg",
           0
          ],
          [
           "undistorted_GX010191_110_1355.jpg",
           3
          ],
          [
           "undistorted_GX010191_116_1399.jpg",
           0
          ],
          [
           "undistorted_GX010191_13_439.jpg",
           0
          ],
          [
           "undistorted_GX010191_15_479.jpg",
           0
          ],
          [
           "undistorted_GX010191_16_495.jpg",
           1
          ],
          [
           "undistorted_GX010191_16_495.jpg",
           2
          ],
          [
           "undistorted_GX010191_16_495.jpg",
           3
          ],
          [
           "undistorted_GX010191_17_509.jpg",
           1
          ],
          [
           "undistorted_GX010191_18_521.jpg",
           0
          ],
          [
           "undistorted_GX010191_19_537.jpg",
           0
          ],
          [
           "undistorted_GX010191_29_257.jpg",
           1
          ],
          [
           "undistorted_GX010191_31_283.jpg",
           1
          ],
          [
           "undistorted_GX010191_31_283.jpg",
           2
          ],
          [
           "undistorted_GX010191_32_1049.jpg",
           0
          ],
          [
           "undistorted_GX010191_33_1087.jpg",
           1
          ],
          [
           "undistorted_GX010191_33_331.jpg",
           0
          ],
          [
           "undistorted_GX010191_33_331.jpg",
           2
          ],
          [
           "undistorted_GX010191_34_1128.jpg",
           0
          ],
          [
           "undistorted_GX010191_34_1128.jpg",
           1
          ],
          [
           "undistorted_GX010191_35_1167.jpg",
           0
          ],
          [
           "undistorted_GX010191_35_1167.jpg",
           1
          ],
          [
           "undistorted_GX010191_35_1167.jpg",
           4
          ],
          [
           "undistorted_GX010191_35_367.jpg",
           0
          ],
          [
           "undistorted_GX010191_36_1195.jpg",
           1
          ],
          [
           "undistorted_GX010191_36_381.jpg",
           0
          ],
          [
           "undistorted_GX010191_38_1266.jpg",
           0
          ],
          [
           "undistorted_GX010191_38_404.jpg",
           0
          ],
          [
           "undistorted_GX010191_39_416.jpg",
           0
          ],
          [
           "undistorted_GX010191_42_1339.jpg",
           0
          ],
          [
           "undistorted_GX010191_42_1339.jpg",
           1
          ],
          [
           "undistorted_GX010191_42_1339.jpg",
           5
          ],
          [
           "undistorted_GX010191_42_457.jpg",
           0
          ],
          [
           "undistorted_GX010191_42_457.jpg",
           3
          ],
          [
           "undistorted_GX010191_43_1353.jpg",
           0
          ],
          [
           "undistorted_GX010191_43_1353.jpg",
           3
          ],
          [
           "undistorted_GX010191_44_478.jpg",
           0
          ],
          [
           "undistorted_GX010191_44_478.jpg",
           1
          ],
          [
           "undistorted_GX010191_46_497.jpg",
           1
          ],
          [
           "undistorted_GX010191_51_535.jpg",
           0
          ],
          [
           "undistorted_GX010191_5_190.jpg",
           2
          ],
          [
           "undistorted_GX010191_6_219.jpg",
           0
          ],
          [
           "undistorted_GX010191_88_1016.jpg",
           0
          ],
          [
           "undistorted_GX010191_91_1066.jpg",
           2
          ],
          [
           "undistorted_GX010191_92_1087.jpg",
           1
          ],
          [
           "undistorted_GX010191_94_1132.jpg",
           0
          ],
          [
           "undistorted_GX010191_95_1157.jpg",
           0
          ],
          [
           "undistorted_GX010191_95_1157.jpg",
           1
          ],
          [
           "undistorted_GX010191_96_1175.jpg",
           0
          ],
          [
           "undistorted_GX010191_97_1190.jpg",
           0
          ],
          [
           "undistorted_GX010191_98_1211.jpg",
           0
          ],
          [
           "undistorted_GX010191_98_1211.jpg",
           1
          ],
          [
           "undistorted_GX010191_99_1233.jpg",
           1
          ]
         ],
         "hovertemplate": "pond=700<br>center_x=%{x}<br>center_y=%{y}<br>image_path=%{customdata[0]}<br>index=%{customdata[1]}<br>MAE_Box_fov=%{marker.color}<extra></extra>",
         "legendgroup": "700",
         "marker": {
          "color": [
           0.0194965391813184,
           2.591290352839792,
           4.409934615331991,
           5.017377870549069,
           9.329179568803935,
           1.2906775676446216,
           1.1308129740977222,
           10.755591773477192,
           4.991919221819103,
           3.2147145829624435,
           4.283151928787049,
           8.60945161146438,
           10.68780912576969,
           8.563460275099374,
           8.193892307823802,
           6.292647184891848,
           17.968720394053463,
           3.825749164897161,
           5.249453817803016,
           11.41521539847446,
           9.061308647779384,
           4.285277996235976,
           4.434772267328555,
           5.459171319813521,
           13.645693229914656,
           16.594984833731303,
           12.497685762792004,
           16.594984833731303,
           0.2193997354067676,
           10.711884983920868,
           2.151306601826974,
           0.1205979643033288,
           18.20815316064076,
           7.212226767978109,
           1.2891022885394534,
           7.591767138854095,
           4.771489505595071,
           13.364376386681071,
           6.147488540659055,
           5.202396271852251,
           2.626212072995997,
           6.209194335740932,
           0.8244636910790462,
           3.960915757120574,
           7.49858333892098,
           14.570008993302366,
           11.606411187278129,
           25.13674649095958,
           11.07355666685703,
           9.061308647779384,
           21.01619751658617,
           16.277332749052135,
           11.292198002425325,
           7.321972364774552,
           19.047043152925283,
           9.235103173187667,
           20.61414665012518,
           13.398625108015125
          ],
          "coloraxis": "coloraxis",
          "size": 10,
          "symbol": "square"
         },
         "mode": "markers",
         "name": "700",
         "orientation": "v",
         "showlegend": true,
         "type": "scatter",
         "x": [
          339.99999999999994,
          338.8004753388554,
          342.4698795180723,
          390.4216867469879,
          432.4698795180723,
          389.4578313253012,
          530.4819277108434,
          489.99999999999994,
          472.4698795180723,
          485.4819277108433,
          385.510930440512,
          68.43373493975903,
          41.1379784273814,
          415.96385542168673,
          468.97590361445776,
          535.4819277108434,
          472.6840467338102,
          465.4216867469879,
          416.92771084337346,
          388.91566265060237,
          404.57916627447287,
          500.4819277108433,
          500.4819277108433,
          444.4578313253012,
          408.91566265060237,
          496.27894390060237,
          389.93975903614455,
          496.1544615963855,
          386.075336502259,
          386.4457831325301,
          408.91566265060237,
          341.4457831325301,
          429.4578313253012,
          429.4578313253012,
          482.95180722891564,
          330.96385542168673,
          342.4698795180723,
          478.4939759036144,
          484.4578313253012,
          528.9759036144578,
          366.92771084337346,
          481.4457831325301,
          367.95183664344876,
          88.97590361445782,
          530.4819277108434,
          441.1177522590361,
          462.04292756965356,
          393.433734939759,
          394.4578313253012,
          404.57916627447287,
          410.48192771084337,
          481.92771084337346,
          394.93975903614455,
          518.9156626506024,
          537.9518072289156,
          378.91566265060237,
          550.5027532003012,
          357.4096385542168
         ],
         "xaxis": "x",
         "y": [
          163.5542168674699,
          145.464308405497,
          127.04819277108436,
          97.59036144578317,
          98.5542168674699,
          116.50602409638557,
          159.0963855421687,
          212.59036144578315,
          148.5542168674699,
          51.08433734939763,
          100.45027767319277,
          41.08433734939763,
          40.96838525978916,
          68.5542168674699,
          69.57831325301208,
          109.57831325301208,
          174.74722620952562,
          127.59036144578315,
          41.566265060240994,
          246.0843373493976,
          189.05798486916416,
          96.08433734939763,
          96.08433734939763,
          144.57831325301206,
          304.03614457831327,
          154.5642678134413,
          270.5421686746988,
          154.57832796027864,
          116.57633953783886,
          260.5421686746988,
          124.03614457831327,
          163.5542168674699,
          154.51807228915663,
          159.03614457831327,
          108.5542168674699,
          162.04819277108436,
          148.5542168674699,
          103.07228915662654,
          100.60240963855426,
          150.54216867469881,
          136.566265060241,
          54.578313253012084,
          156.99698206890062,
          45.06024096385545,
          100.06024096385545,
          296.02376547204443,
          236.70989622552713,
          298.0120481927711,
          226.02409638554218,
          189.05798486916416,
          294.09638554216866,
          141.50602409638557,
          277.04819277108436,
          175.54216867469881,
          206.02409638554218,
          246.566265060241,
          241.66375953030874,
          215
         ],
         "yaxis": "y"
        }
       ],
       "layout": {
        "coloraxis": {
         "colorbar": {
          "title": {
           "text": "MAE_Box_fov"
          }
         },
         "colorscale": [
          [
           0,
           "rgb(0,104,55)"
          ],
          [
           0.1,
           "rgb(26,152,80)"
          ],
          [
           0.2,
           "rgb(102,189,99)"
          ],
          [
           0.3,
           "rgb(166,217,106)"
          ],
          [
           0.4,
           "rgb(217,239,139)"
          ],
          [
           0.5,
           "rgb(255,255,191)"
          ],
          [
           0.6,
           "rgb(254,224,139)"
          ],
          [
           0.7,
           "rgb(253,174,97)"
          ],
          [
           0.8,
           "rgb(244,109,67)"
          ],
          [
           0.9,
           "rgb(215,48,39)"
          ],
          [
           1,
           "rgb(165,0,38)"
          ]
         ]
        },
        "legend": {
         "title": {
          "text": "pond"
         },
         "tracegroupgap": 0,
         "x": 0.01,
         "xanchor": "left",
         "y": 0.99,
         "yanchor": "top"
        },
        "margin": {
         "b": 0,
         "l": 0,
         "r": 0,
         "t": 0
        },
        "template": {
         "data": {
          "bar": [
           {
            "error_x": {
             "color": "#2a3f5f"
            },
            "error_y": {
             "color": "#2a3f5f"
            },
            "marker": {
             "line": {
              "color": "#E5ECF6",
              "width": 0.5
             },
             "pattern": {
              "fillmode": "overlay",
              "size": 10,
              "solidity": 0.2
             }
            },
            "type": "bar"
           }
          ],
          "barpolar": [
           {
            "marker": {
             "line": {
              "color": "#E5ECF6",
              "width": 0.5
             },
             "pattern": {
              "fillmode": "overlay",
              "size": 10,
              "solidity": 0.2
             }
            },
            "type": "barpolar"
           }
          ],
          "carpet": [
           {
            "aaxis": {
             "endlinecolor": "#2a3f5f",
             "gridcolor": "white",
             "linecolor": "white",
             "minorgridcolor": "white",
             "startlinecolor": "#2a3f5f"
            },
            "baxis": {
             "endlinecolor": "#2a3f5f",
             "gridcolor": "white",
             "linecolor": "white",
             "minorgridcolor": "white",
             "startlinecolor": "#2a3f5f"
            },
            "type": "carpet"
           }
          ],
          "choropleth": [
           {
            "colorbar": {
             "outlinewidth": 0,
             "ticks": ""
            },
            "type": "choropleth"
           }
          ],
          "contour": [
           {
            "colorbar": {
             "outlinewidth": 0,
             "ticks": ""
            },
            "colorscale": [
             [
              0,
              "#0d0887"
             ],
             [
              0.1111111111111111,
              "#46039f"
             ],
             [
              0.2222222222222222,
              "#7201a8"
             ],
             [
              0.3333333333333333,
              "#9c179e"
             ],
             [
              0.4444444444444444,
              "#bd3786"
             ],
             [
              0.5555555555555556,
              "#d8576b"
             ],
             [
              0.6666666666666666,
              "#ed7953"
             ],
             [
              0.7777777777777778,
              "#fb9f3a"
             ],
             [
              0.8888888888888888,
              "#fdca26"
             ],
             [
              1,
              "#f0f921"
             ]
            ],
            "type": "contour"
           }
          ],
          "contourcarpet": [
           {
            "colorbar": {
             "outlinewidth": 0,
             "ticks": ""
            },
            "type": "contourcarpet"
           }
          ],
          "heatmap": [
           {
            "colorbar": {
             "outlinewidth": 0,
             "ticks": ""
            },
            "colorscale": [
             [
              0,
              "#0d0887"
             ],
             [
              0.1111111111111111,
              "#46039f"
             ],
             [
              0.2222222222222222,
              "#7201a8"
             ],
             [
              0.3333333333333333,
              "#9c179e"
             ],
             [
              0.4444444444444444,
              "#bd3786"
             ],
             [
              0.5555555555555556,
              "#d8576b"
             ],
             [
              0.6666666666666666,
              "#ed7953"
             ],
             [
              0.7777777777777778,
              "#fb9f3a"
             ],
             [
              0.8888888888888888,
              "#fdca26"
             ],
             [
              1,
              "#f0f921"
             ]
            ],
            "type": "heatmap"
           }
          ],
          "heatmapgl": [
           {
            "colorbar": {
             "outlinewidth": 0,
             "ticks": ""
            },
            "colorscale": [
             [
              0,
              "#0d0887"
             ],
             [
              0.1111111111111111,
              "#46039f"
             ],
             [
              0.2222222222222222,
              "#7201a8"
             ],
             [
              0.3333333333333333,
              "#9c179e"
             ],
             [
              0.4444444444444444,
              "#bd3786"
             ],
             [
              0.5555555555555556,
              "#d8576b"
             ],
             [
              0.6666666666666666,
              "#ed7953"
             ],
             [
              0.7777777777777778,
              "#fb9f3a"
             ],
             [
              0.8888888888888888,
              "#fdca26"
             ],
             [
              1,
              "#f0f921"
             ]
            ],
            "type": "heatmapgl"
           }
          ],
          "histogram": [
           {
            "marker": {
             "pattern": {
              "fillmode": "overlay",
              "size": 10,
              "solidity": 0.2
             }
            },
            "type": "histogram"
           }
          ],
          "histogram2d": [
           {
            "colorbar": {
             "outlinewidth": 0,
             "ticks": ""
            },
            "colorscale": [
             [
              0,
              "#0d0887"
             ],
             [
              0.1111111111111111,
              "#46039f"
             ],
             [
              0.2222222222222222,
              "#7201a8"
             ],
             [
              0.3333333333333333,
              "#9c179e"
             ],
             [
              0.4444444444444444,
              "#bd3786"
             ],
             [
              0.5555555555555556,
              "#d8576b"
             ],
             [
              0.6666666666666666,
              "#ed7953"
             ],
             [
              0.7777777777777778,
              "#fb9f3a"
             ],
             [
              0.8888888888888888,
              "#fdca26"
             ],
             [
              1,
              "#f0f921"
             ]
            ],
            "type": "histogram2d"
           }
          ],
          "histogram2dcontour": [
           {
            "colorbar": {
             "outlinewidth": 0,
             "ticks": ""
            },
            "colorscale": [
             [
              0,
              "#0d0887"
             ],
             [
              0.1111111111111111,
              "#46039f"
             ],
             [
              0.2222222222222222,
              "#7201a8"
             ],
             [
              0.3333333333333333,
              "#9c179e"
             ],
             [
              0.4444444444444444,
              "#bd3786"
             ],
             [
              0.5555555555555556,
              "#d8576b"
             ],
             [
              0.6666666666666666,
              "#ed7953"
             ],
             [
              0.7777777777777778,
              "#fb9f3a"
             ],
             [
              0.8888888888888888,
              "#fdca26"
             ],
             [
              1,
              "#f0f921"
             ]
            ],
            "type": "histogram2dcontour"
           }
          ],
          "mesh3d": [
           {
            "colorbar": {
             "outlinewidth": 0,
             "ticks": ""
            },
            "type": "mesh3d"
           }
          ],
          "parcoords": [
           {
            "line": {
             "colorbar": {
              "outlinewidth": 0,
              "ticks": ""
             }
            },
            "type": "parcoords"
           }
          ],
          "pie": [
           {
            "automargin": true,
            "type": "pie"
           }
          ],
          "scatter": [
           {
            "fillpattern": {
             "fillmode": "overlay",
             "size": 10,
             "solidity": 0.2
            },
            "type": "scatter"
           }
          ],
          "scatter3d": [
           {
            "line": {
             "colorbar": {
              "outlinewidth": 0,
              "ticks": ""
             }
            },
            "marker": {
             "colorbar": {
              "outlinewidth": 0,
              "ticks": ""
             }
            },
            "type": "scatter3d"
           }
          ],
          "scattercarpet": [
           {
            "marker": {
             "colorbar": {
              "outlinewidth": 0,
              "ticks": ""
             }
            },
            "type": "scattercarpet"
           }
          ],
          "scattergeo": [
           {
            "marker": {
             "colorbar": {
              "outlinewidth": 0,
              "ticks": ""
             }
            },
            "type": "scattergeo"
           }
          ],
          "scattergl": [
           {
            "marker": {
             "colorbar": {
              "outlinewidth": 0,
              "ticks": ""
             }
            },
            "type": "scattergl"
           }
          ],
          "scattermapbox": [
           {
            "marker": {
             "colorbar": {
              "outlinewidth": 0,
              "ticks": ""
             }
            },
            "type": "scattermapbox"
           }
          ],
          "scatterpolar": [
           {
            "marker": {
             "colorbar": {
              "outlinewidth": 0,
              "ticks": ""
             }
            },
            "type": "scatterpolar"
           }
          ],
          "scatterpolargl": [
           {
            "marker": {
             "colorbar": {
              "outlinewidth": 0,
              "ticks": ""
             }
            },
            "type": "scatterpolargl"
           }
          ],
          "scatterternary": [
           {
            "marker": {
             "colorbar": {
              "outlinewidth": 0,
              "ticks": ""
             }
            },
            "type": "scatterternary"
           }
          ],
          "surface": [
           {
            "colorbar": {
             "outlinewidth": 0,
             "ticks": ""
            },
            "colorscale": [
             [
              0,
              "#0d0887"
             ],
             [
              0.1111111111111111,
              "#46039f"
             ],
             [
              0.2222222222222222,
              "#7201a8"
             ],
             [
              0.3333333333333333,
              "#9c179e"
             ],
             [
              0.4444444444444444,
              "#bd3786"
             ],
             [
              0.5555555555555556,
              "#d8576b"
             ],
             [
              0.6666666666666666,
              "#ed7953"
             ],
             [
              0.7777777777777778,
              "#fb9f3a"
             ],
             [
              0.8888888888888888,
              "#fdca26"
             ],
             [
              1,
              "#f0f921"
             ]
            ],
            "type": "surface"
           }
          ],
          "table": [
           {
            "cells": {
             "fill": {
              "color": "#EBF0F8"
             },
             "line": {
              "color": "white"
             }
            },
            "header": {
             "fill": {
              "color": "#C8D4E3"
             },
             "line": {
              "color": "white"
             }
            },
            "type": "table"
           }
          ]
         },
         "layout": {
          "annotationdefaults": {
           "arrowcolor": "#2a3f5f",
           "arrowhead": 0,
           "arrowwidth": 1
          },
          "autotypenumbers": "strict",
          "coloraxis": {
           "colorbar": {
            "outlinewidth": 0,
            "ticks": ""
           }
          },
          "colorscale": {
           "diverging": [
            [
             0,
             "#8e0152"
            ],
            [
             0.1,
             "#c51b7d"
            ],
            [
             0.2,
             "#de77ae"
            ],
            [
             0.3,
             "#f1b6da"
            ],
            [
             0.4,
             "#fde0ef"
            ],
            [
             0.5,
             "#f7f7f7"
            ],
            [
             0.6,
             "#e6f5d0"
            ],
            [
             0.7,
             "#b8e186"
            ],
            [
             0.8,
             "#7fbc41"
            ],
            [
             0.9,
             "#4d9221"
            ],
            [
             1,
             "#276419"
            ]
           ],
           "sequential": [
            [
             0,
             "#0d0887"
            ],
            [
             0.1111111111111111,
             "#46039f"
            ],
            [
             0.2222222222222222,
             "#7201a8"
            ],
            [
             0.3333333333333333,
             "#9c179e"
            ],
            [
             0.4444444444444444,
             "#bd3786"
            ],
            [
             0.5555555555555556,
             "#d8576b"
            ],
            [
             0.6666666666666666,
             "#ed7953"
            ],
            [
             0.7777777777777778,
             "#fb9f3a"
            ],
            [
             0.8888888888888888,
             "#fdca26"
            ],
            [
             1,
             "#f0f921"
            ]
           ],
           "sequentialminus": [
            [
             0,
             "#0d0887"
            ],
            [
             0.1111111111111111,
             "#46039f"
            ],
            [
             0.2222222222222222,
             "#7201a8"
            ],
            [
             0.3333333333333333,
             "#9c179e"
            ],
            [
             0.4444444444444444,
             "#bd3786"
            ],
            [
             0.5555555555555556,
             "#d8576b"
            ],
            [
             0.6666666666666666,
             "#ed7953"
            ],
            [
             0.7777777777777778,
             "#fb9f3a"
            ],
            [
             0.8888888888888888,
             "#fdca26"
            ],
            [
             1,
             "#f0f921"
            ]
           ]
          },
          "colorway": [
           "#636efa",
           "#EF553B",
           "#00cc96",
           "#ab63fa",
           "#FFA15A",
           "#19d3f3",
           "#FF6692",
           "#B6E880",
           "#FF97FF",
           "#FECB52"
          ],
          "font": {
           "color": "#2a3f5f"
          },
          "geo": {
           "bgcolor": "white",
           "lakecolor": "white",
           "landcolor": "#E5ECF6",
           "showlakes": true,
           "showland": true,
           "subunitcolor": "white"
          },
          "hoverlabel": {
           "align": "left"
          },
          "hovermode": "closest",
          "mapbox": {
           "style": "light"
          },
          "paper_bgcolor": "white",
          "plot_bgcolor": "#E5ECF6",
          "polar": {
           "angularaxis": {
            "gridcolor": "white",
            "linecolor": "white",
            "ticks": ""
           },
           "bgcolor": "#E5ECF6",
           "radialaxis": {
            "gridcolor": "white",
            "linecolor": "white",
            "ticks": ""
           }
          },
          "scene": {
           "xaxis": {
            "backgroundcolor": "#E5ECF6",
            "gridcolor": "white",
            "gridwidth": 2,
            "linecolor": "white",
            "showbackground": true,
            "ticks": "",
            "zerolinecolor": "white"
           },
           "yaxis": {
            "backgroundcolor": "#E5ECF6",
            "gridcolor": "white",
            "gridwidth": 2,
            "linecolor": "white",
            "showbackground": true,
            "ticks": "",
            "zerolinecolor": "white"
           },
           "zaxis": {
            "backgroundcolor": "#E5ECF6",
            "gridcolor": "white",
            "gridwidth": 2,
            "linecolor": "white",
            "showbackground": true,
            "ticks": "",
            "zerolinecolor": "white"
           }
          },
          "shapedefaults": {
           "line": {
            "color": "#2a3f5f"
           }
          },
          "ternary": {
           "aaxis": {
            "gridcolor": "white",
            "linecolor": "white",
            "ticks": ""
           },
           "baxis": {
            "gridcolor": "white",
            "linecolor": "white",
            "ticks": ""
           },
           "bgcolor": "#E5ECF6",
           "caxis": {
            "gridcolor": "white",
            "linecolor": "white",
            "ticks": ""
           }
          },
          "title": {
           "x": 0.05
          },
          "xaxis": {
           "automargin": true,
           "gridcolor": "white",
           "linecolor": "white",
           "ticks": "",
           "title": {
            "standoff": 15
           },
           "zerolinecolor": "white",
           "zerolinewidth": 2
          },
          "yaxis": {
           "automargin": true,
           "gridcolor": "white",
           "linecolor": "white",
           "ticks": "",
           "title": {
            "standoff": 15
           },
           "zerolinecolor": "white",
           "zerolinewidth": 2
          }
         }
        },
        "title": {
         "text": "MAE_Box_fov of Hull Length Prediction"
        },
        "xaxis": {
         "anchor": "y",
         "domain": [
          0,
          1
         ],
         "title": {
          "text": "center_x"
         }
        },
        "yaxis": {
         "anchor": "x",
         "domain": [
          0,
          1
         ],
         "title": {
          "text": "center_y"
         }
        }
       }
      }
     },
     "metadata": {},
     "output_type": "display_data"
    },
    {
     "name": "stdout",
     "output_type": "stream",
     "text": [
      "Plotting MAE_Box_fov for 410...\n"
     ]
    },
    {
     "data": {
      "application/vnd.plotly.v1+json": {
       "config": {
        "plotlyServerURL": "https://plot.ly"
       },
       "data": [
        {
         "customdata": [
          [
           "undistorted_GX010192_17_1035.jpg",
           0
          ],
          [
           "undistorted_GX010192_25_1553.jpg",
           0
          ],
          [
           "undistorted_GX010192_26_1578.jpg",
           0
          ],
          [
           "undistorted_GX010192_9_675.jpg",
           1
          ],
          [
           "undistorted_GX010193_10_1039.jpg",
           0
          ],
          [
           "undistorted_GX010193_11_1065.jpg",
           0
          ],
          [
           "undistorted_GX010193_17_1264.jpg",
           0
          ],
          [
           "undistorted_GX010193_18_1289.jpg",
           0
          ],
          [
           "undistorted_GX010193_19_1334.jpg",
           0
          ],
          [
           "undistorted_GX010193_20_1365.jpg",
           2
          ],
          [
           "undistorted_GX010193_27_1553.jpg",
           1
          ],
          [
           "undistorted_GX010193_3_251.jpg",
           0
          ],
          [
           "undistorted_GX010193_4_283.jpg",
           1
          ],
          [
           "undistorted_GX010194_15_231.jpg",
           0
          ],
          [
           "undistorted_GX010194_16_240.jpg",
           0
          ],
          [
           "undistorted_GX010194_17_257.jpg",
           1
          ],
          [
           "undistorted_GX010194_18_272.jpg",
           0
          ],
          [
           "undistorted_GX010194_19_285.jpg",
           0
          ],
          [
           "undistorted_GX010194_36_485.jpg",
           1
          ],
          [
           "undistorted_GX010194_37_496.jpg",
           1
          ],
          [
           "undistorted_GX010194_38_504.jpg",
           1
          ],
          [
           "undistorted_GX010194_39_513.jpg",
           1
          ],
          [
           "undistorted_GX010194_46_620.jpg",
           1
          ],
          [
           "undistorted_GX010194_55_768.jpg",
           2
          ],
          [
           "undistorted_GX010194_56_784.jpg",
           0
          ],
          [
           "undistorted_GX010194_57_798.jpg",
           0
          ],
          [
           "undistorted_GX010194_58_810.jpg",
           2
          ],
          [
           "undistorted_GX010194_60_836.jpg",
           0
          ]
         ],
         "hovertemplate": "pond=410<br>center_x=%{x}<br>center_y=%{y}<br>image_path=%{customdata[0]}<br>index=%{customdata[1]}<br>MAE_Box_fov=%{marker.color}<extra></extra>",
         "legendgroup": "410",
         "marker": {
          "color": [
           14.293675074539236,
           7.90905508754841,
           12.37056169152106,
           12.278800877797522,
           0.8947579989565781,
           8.225347546286343,
           3.295868661461185,
           7.964997182615036,
           11.457801016719912,
           0.2794095280393947,
           12.919258774979056,
           18.811643934856363,
           4.119377864028792,
           14.10487762564631,
           7.533449829727687,
           11.769490427420948,
           14.802379313853748,
           2.1897667317691685,
           2.596409113785711,
           3.066500644571761,
           7.420820507205178,
           6.066683365614864,
           8.481315814613396,
           10.02648470407152,
           23.94271816012088,
           17.1381639839513,
           20.192844447858675,
           12.37021109490462
          ],
          "coloraxis": "coloraxis",
          "size": 10,
          "symbol": "square"
         },
         "mode": "markers",
         "name": "410",
         "orientation": "v",
         "showlegend": true,
         "type": "scatter",
         "x": [
          255.61564617846383,
          295.78639754329816,
          283.9759036144578,
          337.16390954442767,
          294.39759036144574,
          325.96385542168673,
          359.81821818524094,
          275.6279708678464,
          186.50637707078312,
          89.4578313253012,
          222.95180722891564,
          384.4578313253012,
          407.4698795180723,
          455.96385542168673,
          431.17031602974396,
          422.4698795180723,
          431.92771084337346,
          448.433734939759,
          288.5998093938253,
          290.4216867469879,
          288.433734939759,
          287.64733739646084,
          86.92771084337349,
          365.48192771084337,
          375.4216867469879,
          381.4457831325301,
          385.2791733339608,
          351.2028485033885
         ],
         "xaxis": "x",
         "y": [
          90.0549757624247,
          247.38245217196913,
          126.02409638554218,
          146.40152896743226,
          183.5542168674699,
          126.02409638554218,
          177.3257483057229,
          214.49277579066268,
          214.1999688205949,
          176.56626506024097,
          248.0722891566265,
          281.0240963855422,
          198.0722891566265,
          161.566265060241,
          175.36918180534641,
          150.06024096385545,
          111.566265060241,
          76.08433734939763,
          256.1419383589044,
          208.5542168674699,
          171.566265060241,
          123.57898390436748,
          96.02409638554218,
          227.10843373493978,
          183.0120481927711,
          146.566265060241,
          98.62451760165663,
          281.14065147307986
         ],
         "yaxis": "y"
        }
       ],
       "layout": {
        "coloraxis": {
         "colorbar": {
          "title": {
           "text": "MAE_Box_fov"
          }
         },
         "colorscale": [
          [
           0,
           "rgb(0,104,55)"
          ],
          [
           0.1,
           "rgb(26,152,80)"
          ],
          [
           0.2,
           "rgb(102,189,99)"
          ],
          [
           0.3,
           "rgb(166,217,106)"
          ],
          [
           0.4,
           "rgb(217,239,139)"
          ],
          [
           0.5,
           "rgb(255,255,191)"
          ],
          [
           0.6,
           "rgb(254,224,139)"
          ],
          [
           0.7,
           "rgb(253,174,97)"
          ],
          [
           0.8,
           "rgb(244,109,67)"
          ],
          [
           0.9,
           "rgb(215,48,39)"
          ],
          [
           1,
           "rgb(165,0,38)"
          ]
         ]
        },
        "legend": {
         "title": {
          "text": "pond"
         },
         "tracegroupgap": 0,
         "x": 0.01,
         "xanchor": "left",
         "y": 0.99,
         "yanchor": "top"
        },
        "margin": {
         "b": 0,
         "l": 0,
         "r": 0,
         "t": 0
        },
        "template": {
         "data": {
          "bar": [
           {
            "error_x": {
             "color": "#2a3f5f"
            },
            "error_y": {
             "color": "#2a3f5f"
            },
            "marker": {
             "line": {
              "color": "#E5ECF6",
              "width": 0.5
             },
             "pattern": {
              "fillmode": "overlay",
              "size": 10,
              "solidity": 0.2
             }
            },
            "type": "bar"
           }
          ],
          "barpolar": [
           {
            "marker": {
             "line": {
              "color": "#E5ECF6",
              "width": 0.5
             },
             "pattern": {
              "fillmode": "overlay",
              "size": 10,
              "solidity": 0.2
             }
            },
            "type": "barpolar"
           }
          ],
          "carpet": [
           {
            "aaxis": {
             "endlinecolor": "#2a3f5f",
             "gridcolor": "white",
             "linecolor": "white",
             "minorgridcolor": "white",
             "startlinecolor": "#2a3f5f"
            },
            "baxis": {
             "endlinecolor": "#2a3f5f",
             "gridcolor": "white",
             "linecolor": "white",
             "minorgridcolor": "white",
             "startlinecolor": "#2a3f5f"
            },
            "type": "carpet"
           }
          ],
          "choropleth": [
           {
            "colorbar": {
             "outlinewidth": 0,
             "ticks": ""
            },
            "type": "choropleth"
           }
          ],
          "contour": [
           {
            "colorbar": {
             "outlinewidth": 0,
             "ticks": ""
            },
            "colorscale": [
             [
              0,
              "#0d0887"
             ],
             [
              0.1111111111111111,
              "#46039f"
             ],
             [
              0.2222222222222222,
              "#7201a8"
             ],
             [
              0.3333333333333333,
              "#9c179e"
             ],
             [
              0.4444444444444444,
              "#bd3786"
             ],
             [
              0.5555555555555556,
              "#d8576b"
             ],
             [
              0.6666666666666666,
              "#ed7953"
             ],
             [
              0.7777777777777778,
              "#fb9f3a"
             ],
             [
              0.8888888888888888,
              "#fdca26"
             ],
             [
              1,
              "#f0f921"
             ]
            ],
            "type": "contour"
           }
          ],
          "contourcarpet": [
           {
            "colorbar": {
             "outlinewidth": 0,
             "ticks": ""
            },
            "type": "contourcarpet"
           }
          ],
          "heatmap": [
           {
            "colorbar": {
             "outlinewidth": 0,
             "ticks": ""
            },
            "colorscale": [
             [
              0,
              "#0d0887"
             ],
             [
              0.1111111111111111,
              "#46039f"
             ],
             [
              0.2222222222222222,
              "#7201a8"
             ],
             [
              0.3333333333333333,
              "#9c179e"
             ],
             [
              0.4444444444444444,
              "#bd3786"
             ],
             [
              0.5555555555555556,
              "#d8576b"
             ],
             [
              0.6666666666666666,
              "#ed7953"
             ],
             [
              0.7777777777777778,
              "#fb9f3a"
             ],
             [
              0.8888888888888888,
              "#fdca26"
             ],
             [
              1,
              "#f0f921"
             ]
            ],
            "type": "heatmap"
           }
          ],
          "heatmapgl": [
           {
            "colorbar": {
             "outlinewidth": 0,
             "ticks": ""
            },
            "colorscale": [
             [
              0,
              "#0d0887"
             ],
             [
              0.1111111111111111,
              "#46039f"
             ],
             [
              0.2222222222222222,
              "#7201a8"
             ],
             [
              0.3333333333333333,
              "#9c179e"
             ],
             [
              0.4444444444444444,
              "#bd3786"
             ],
             [
              0.5555555555555556,
              "#d8576b"
             ],
             [
              0.6666666666666666,
              "#ed7953"
             ],
             [
              0.7777777777777778,
              "#fb9f3a"
             ],
             [
              0.8888888888888888,
              "#fdca26"
             ],
             [
              1,
              "#f0f921"
             ]
            ],
            "type": "heatmapgl"
           }
          ],
          "histogram": [
           {
            "marker": {
             "pattern": {
              "fillmode": "overlay",
              "size": 10,
              "solidity": 0.2
             }
            },
            "type": "histogram"
           }
          ],
          "histogram2d": [
           {
            "colorbar": {
             "outlinewidth": 0,
             "ticks": ""
            },
            "colorscale": [
             [
              0,
              "#0d0887"
             ],
             [
              0.1111111111111111,
              "#46039f"
             ],
             [
              0.2222222222222222,
              "#7201a8"
             ],
             [
              0.3333333333333333,
              "#9c179e"
             ],
             [
              0.4444444444444444,
              "#bd3786"
             ],
             [
              0.5555555555555556,
              "#d8576b"
             ],
             [
              0.6666666666666666,
              "#ed7953"
             ],
             [
              0.7777777777777778,
              "#fb9f3a"
             ],
             [
              0.8888888888888888,
              "#fdca26"
             ],
             [
              1,
              "#f0f921"
             ]
            ],
            "type": "histogram2d"
           }
          ],
          "histogram2dcontour": [
           {
            "colorbar": {
             "outlinewidth": 0,
             "ticks": ""
            },
            "colorscale": [
             [
              0,
              "#0d0887"
             ],
             [
              0.1111111111111111,
              "#46039f"
             ],
             [
              0.2222222222222222,
              "#7201a8"
             ],
             [
              0.3333333333333333,
              "#9c179e"
             ],
             [
              0.4444444444444444,
              "#bd3786"
             ],
             [
              0.5555555555555556,
              "#d8576b"
             ],
             [
              0.6666666666666666,
              "#ed7953"
             ],
             [
              0.7777777777777778,
              "#fb9f3a"
             ],
             [
              0.8888888888888888,
              "#fdca26"
             ],
             [
              1,
              "#f0f921"
             ]
            ],
            "type": "histogram2dcontour"
           }
          ],
          "mesh3d": [
           {
            "colorbar": {
             "outlinewidth": 0,
             "ticks": ""
            },
            "type": "mesh3d"
           }
          ],
          "parcoords": [
           {
            "line": {
             "colorbar": {
              "outlinewidth": 0,
              "ticks": ""
             }
            },
            "type": "parcoords"
           }
          ],
          "pie": [
           {
            "automargin": true,
            "type": "pie"
           }
          ],
          "scatter": [
           {
            "fillpattern": {
             "fillmode": "overlay",
             "size": 10,
             "solidity": 0.2
            },
            "type": "scatter"
           }
          ],
          "scatter3d": [
           {
            "line": {
             "colorbar": {
              "outlinewidth": 0,
              "ticks": ""
             }
            },
            "marker": {
             "colorbar": {
              "outlinewidth": 0,
              "ticks": ""
             }
            },
            "type": "scatter3d"
           }
          ],
          "scattercarpet": [
           {
            "marker": {
             "colorbar": {
              "outlinewidth": 0,
              "ticks": ""
             }
            },
            "type": "scattercarpet"
           }
          ],
          "scattergeo": [
           {
            "marker": {
             "colorbar": {
              "outlinewidth": 0,
              "ticks": ""
             }
            },
            "type": "scattergeo"
           }
          ],
          "scattergl": [
           {
            "marker": {
             "colorbar": {
              "outlinewidth": 0,
              "ticks": ""
             }
            },
            "type": "scattergl"
           }
          ],
          "scattermapbox": [
           {
            "marker": {
             "colorbar": {
              "outlinewidth": 0,
              "ticks": ""
             }
            },
            "type": "scattermapbox"
           }
          ],
          "scatterpolar": [
           {
            "marker": {
             "colorbar": {
              "outlinewidth": 0,
              "ticks": ""
             }
            },
            "type": "scatterpolar"
           }
          ],
          "scatterpolargl": [
           {
            "marker": {
             "colorbar": {
              "outlinewidth": 0,
              "ticks": ""
             }
            },
            "type": "scatterpolargl"
           }
          ],
          "scatterternary": [
           {
            "marker": {
             "colorbar": {
              "outlinewidth": 0,
              "ticks": ""
             }
            },
            "type": "scatterternary"
           }
          ],
          "surface": [
           {
            "colorbar": {
             "outlinewidth": 0,
             "ticks": ""
            },
            "colorscale": [
             [
              0,
              "#0d0887"
             ],
             [
              0.1111111111111111,
              "#46039f"
             ],
             [
              0.2222222222222222,
              "#7201a8"
             ],
             [
              0.3333333333333333,
              "#9c179e"
             ],
             [
              0.4444444444444444,
              "#bd3786"
             ],
             [
              0.5555555555555556,
              "#d8576b"
             ],
             [
              0.6666666666666666,
              "#ed7953"
             ],
             [
              0.7777777777777778,
              "#fb9f3a"
             ],
             [
              0.8888888888888888,
              "#fdca26"
             ],
             [
              1,
              "#f0f921"
             ]
            ],
            "type": "surface"
           }
          ],
          "table": [
           {
            "cells": {
             "fill": {
              "color": "#EBF0F8"
             },
             "line": {
              "color": "white"
             }
            },
            "header": {
             "fill": {
              "color": "#C8D4E3"
             },
             "line": {
              "color": "white"
             }
            },
            "type": "table"
           }
          ]
         },
         "layout": {
          "annotationdefaults": {
           "arrowcolor": "#2a3f5f",
           "arrowhead": 0,
           "arrowwidth": 1
          },
          "autotypenumbers": "strict",
          "coloraxis": {
           "colorbar": {
            "outlinewidth": 0,
            "ticks": ""
           }
          },
          "colorscale": {
           "diverging": [
            [
             0,
             "#8e0152"
            ],
            [
             0.1,
             "#c51b7d"
            ],
            [
             0.2,
             "#de77ae"
            ],
            [
             0.3,
             "#f1b6da"
            ],
            [
             0.4,
             "#fde0ef"
            ],
            [
             0.5,
             "#f7f7f7"
            ],
            [
             0.6,
             "#e6f5d0"
            ],
            [
             0.7,
             "#b8e186"
            ],
            [
             0.8,
             "#7fbc41"
            ],
            [
             0.9,
             "#4d9221"
            ],
            [
             1,
             "#276419"
            ]
           ],
           "sequential": [
            [
             0,
             "#0d0887"
            ],
            [
             0.1111111111111111,
             "#46039f"
            ],
            [
             0.2222222222222222,
             "#7201a8"
            ],
            [
             0.3333333333333333,
             "#9c179e"
            ],
            [
             0.4444444444444444,
             "#bd3786"
            ],
            [
             0.5555555555555556,
             "#d8576b"
            ],
            [
             0.6666666666666666,
             "#ed7953"
            ],
            [
             0.7777777777777778,
             "#fb9f3a"
            ],
            [
             0.8888888888888888,
             "#fdca26"
            ],
            [
             1,
             "#f0f921"
            ]
           ],
           "sequentialminus": [
            [
             0,
             "#0d0887"
            ],
            [
             0.1111111111111111,
             "#46039f"
            ],
            [
             0.2222222222222222,
             "#7201a8"
            ],
            [
             0.3333333333333333,
             "#9c179e"
            ],
            [
             0.4444444444444444,
             "#bd3786"
            ],
            [
             0.5555555555555556,
             "#d8576b"
            ],
            [
             0.6666666666666666,
             "#ed7953"
            ],
            [
             0.7777777777777778,
             "#fb9f3a"
            ],
            [
             0.8888888888888888,
             "#fdca26"
            ],
            [
             1,
             "#f0f921"
            ]
           ]
          },
          "colorway": [
           "#636efa",
           "#EF553B",
           "#00cc96",
           "#ab63fa",
           "#FFA15A",
           "#19d3f3",
           "#FF6692",
           "#B6E880",
           "#FF97FF",
           "#FECB52"
          ],
          "font": {
           "color": "#2a3f5f"
          },
          "geo": {
           "bgcolor": "white",
           "lakecolor": "white",
           "landcolor": "#E5ECF6",
           "showlakes": true,
           "showland": true,
           "subunitcolor": "white"
          },
          "hoverlabel": {
           "align": "left"
          },
          "hovermode": "closest",
          "mapbox": {
           "style": "light"
          },
          "paper_bgcolor": "white",
          "plot_bgcolor": "#E5ECF6",
          "polar": {
           "angularaxis": {
            "gridcolor": "white",
            "linecolor": "white",
            "ticks": ""
           },
           "bgcolor": "#E5ECF6",
           "radialaxis": {
            "gridcolor": "white",
            "linecolor": "white",
            "ticks": ""
           }
          },
          "scene": {
           "xaxis": {
            "backgroundcolor": "#E5ECF6",
            "gridcolor": "white",
            "gridwidth": 2,
            "linecolor": "white",
            "showbackground": true,
            "ticks": "",
            "zerolinecolor": "white"
           },
           "yaxis": {
            "backgroundcolor": "#E5ECF6",
            "gridcolor": "white",
            "gridwidth": 2,
            "linecolor": "white",
            "showbackground": true,
            "ticks": "",
            "zerolinecolor": "white"
           },
           "zaxis": {
            "backgroundcolor": "#E5ECF6",
            "gridcolor": "white",
            "gridwidth": 2,
            "linecolor": "white",
            "showbackground": true,
            "ticks": "",
            "zerolinecolor": "white"
           }
          },
          "shapedefaults": {
           "line": {
            "color": "#2a3f5f"
           }
          },
          "ternary": {
           "aaxis": {
            "gridcolor": "white",
            "linecolor": "white",
            "ticks": ""
           },
           "baxis": {
            "gridcolor": "white",
            "linecolor": "white",
            "ticks": ""
           },
           "bgcolor": "#E5ECF6",
           "caxis": {
            "gridcolor": "white",
            "linecolor": "white",
            "ticks": ""
           }
          },
          "title": {
           "x": 0.05
          },
          "xaxis": {
           "automargin": true,
           "gridcolor": "white",
           "linecolor": "white",
           "ticks": "",
           "title": {
            "standoff": 15
           },
           "zerolinecolor": "white",
           "zerolinewidth": 2
          },
          "yaxis": {
           "automargin": true,
           "gridcolor": "white",
           "linecolor": "white",
           "ticks": "",
           "title": {
            "standoff": 15
           },
           "zerolinecolor": "white",
           "zerolinewidth": 2
          }
         }
        },
        "title": {
         "text": "MAE_Box_fov of Hull Length Prediction"
        },
        "xaxis": {
         "anchor": "y",
         "domain": [
          0,
          1
         ],
         "title": {
          "text": "center_x"
         }
        },
        "yaxis": {
         "anchor": "x",
         "domain": [
          0,
          1
         ],
         "title": {
          "text": "center_y"
         }
        }
       }
      }
     },
     "metadata": {},
     "output_type": "display_data"
    },
    {
     "name": "stdout",
     "output_type": "stream",
     "text": [
      "Plotting sign_Error_percentage_Box_fov for 700...\n"
     ]
    },
    {
     "data": {
      "application/vnd.plotly.v1+json": {
       "config": {
        "plotlyServerURL": "https://plot.ly"
       },
       "data": [
        {
         "customdata": [
          [
           "undistorted_GX010191_101_1265.jpg",
           0
          ],
          [
           "undistorted_GX010191_102_1277.jpg",
           0
          ],
          [
           "undistorted_GX010191_103_1289.jpg",
           0
          ],
          [
           "undistorted_GX010191_105_1312.jpg",
           0
          ],
          [
           "undistorted_GX010191_107_1330.jpg",
           0
          ],
          [
           "undistorted_GX010191_10_370.jpg",
           0
          ],
          [
           "undistorted_GX010191_110_1355.jpg",
           3
          ],
          [
           "undistorted_GX010191_116_1399.jpg",
           0
          ],
          [
           "undistorted_GX010191_13_439.jpg",
           0
          ],
          [
           "undistorted_GX010191_15_479.jpg",
           0
          ],
          [
           "undistorted_GX010191_16_495.jpg",
           1
          ],
          [
           "undistorted_GX010191_16_495.jpg",
           2
          ],
          [
           "undistorted_GX010191_16_495.jpg",
           3
          ],
          [
           "undistorted_GX010191_17_509.jpg",
           1
          ],
          [
           "undistorted_GX010191_18_521.jpg",
           0
          ],
          [
           "undistorted_GX010191_19_537.jpg",
           0
          ],
          [
           "undistorted_GX010191_29_257.jpg",
           1
          ],
          [
           "undistorted_GX010191_31_283.jpg",
           1
          ],
          [
           "undistorted_GX010191_31_283.jpg",
           2
          ],
          [
           "undistorted_GX010191_32_1049.jpg",
           0
          ],
          [
           "undistorted_GX010191_33_1087.jpg",
           1
          ],
          [
           "undistorted_GX010191_33_331.jpg",
           0
          ],
          [
           "undistorted_GX010191_33_331.jpg",
           2
          ],
          [
           "undistorted_GX010191_34_1128.jpg",
           0
          ],
          [
           "undistorted_GX010191_34_1128.jpg",
           1
          ],
          [
           "undistorted_GX010191_35_1167.jpg",
           0
          ],
          [
           "undistorted_GX010191_35_1167.jpg",
           1
          ],
          [
           "undistorted_GX010191_35_1167.jpg",
           4
          ],
          [
           "undistorted_GX010191_35_367.jpg",
           0
          ],
          [
           "undistorted_GX010191_36_1195.jpg",
           1
          ],
          [
           "undistorted_GX010191_36_381.jpg",
           0
          ],
          [
           "undistorted_GX010191_38_1266.jpg",
           0
          ],
          [
           "undistorted_GX010191_38_404.jpg",
           0
          ],
          [
           "undistorted_GX010191_39_416.jpg",
           0
          ],
          [
           "undistorted_GX010191_42_1339.jpg",
           0
          ],
          [
           "undistorted_GX010191_42_1339.jpg",
           1
          ],
          [
           "undistorted_GX010191_42_1339.jpg",
           5
          ],
          [
           "undistorted_GX010191_42_457.jpg",
           0
          ],
          [
           "undistorted_GX010191_42_457.jpg",
           3
          ],
          [
           "undistorted_GX010191_43_1353.jpg",
           0
          ],
          [
           "undistorted_GX010191_43_1353.jpg",
           3
          ],
          [
           "undistorted_GX010191_44_478.jpg",
           0
          ],
          [
           "undistorted_GX010191_44_478.jpg",
           1
          ],
          [
           "undistorted_GX010191_46_497.jpg",
           1
          ],
          [
           "undistorted_GX010191_51_535.jpg",
           0
          ],
          [
           "undistorted_GX010191_5_190.jpg",
           2
          ],
          [
           "undistorted_GX010191_6_219.jpg",
           0
          ],
          [
           "undistorted_GX010191_88_1016.jpg",
           0
          ],
          [
           "undistorted_GX010191_91_1066.jpg",
           2
          ],
          [
           "undistorted_GX010191_92_1087.jpg",
           1
          ],
          [
           "undistorted_GX010191_94_1132.jpg",
           0
          ],
          [
           "undistorted_GX010191_95_1157.jpg",
           0
          ],
          [
           "undistorted_GX010191_95_1157.jpg",
           1
          ],
          [
           "undistorted_GX010191_96_1175.jpg",
           0
          ],
          [
           "undistorted_GX010191_97_1190.jpg",
           0
          ],
          [
           "undistorted_GX010191_98_1211.jpg",
           0
          ],
          [
           "undistorted_GX010191_98_1211.jpg",
           1
          ],
          [
           "undistorted_GX010191_99_1233.jpg",
           1
          ]
         ],
         "hovertemplate": "pond=700<br>center_x=%{x}<br>center_y=%{y}<br>image_path=%{customdata[0]}<br>index=%{customdata[1]}<br>sign_Error_percentage_Box_fov=%{marker.color}<extra></extra>",
         "legendgroup": "700",
         "marker": {
          "color": [
           -0.013633943483439466,
           -1.8120911558320223,
           3.0838703603720217,
           3.5086558535308177,
           6.523901796366389,
           0.9025717256256095,
           0.7907783035648408,
           5.975328763042885,
           3.490852602670701,
           -2.2480521559177924,
           -2.3795288493261384,
           -6.020595532492573,
           -7.4739923956431396,
           -4.757477930610763,
           -4.552162393235445,
           -3.4959151027176936,
           9.982622441140796,
           2.1254162027206607,
           -3.6709467257363744,
           6.3417863324858255,
           5.0340603598774205,
           2.3807099979088915,
           2.46376237073807,
           3.032872955451956,
           9.542442818122137,
           9.219436018739612,
           8.73964039356084,
           9.219436018739612,
           0.15342638839634098,
           7.490828660084523,
           1.5044102110678141,
           -0.08433424077155861,
           12.732974238210323,
           -5.043515222362314,
           0.9014701318457716,
           4.217648410474498,
           -3.3367059479685808,
           9.345717752923827,
           -4.298943035425892,
           3.63803935094563,
           1.4590067072199986,
           4.342093941077574,
           -0.4580353839328034,
           -2.7698711588255764,
           -4.165879632733878,
           8.094449440723553,
           6.448006215154514,
           13.964859161644227,
           6.1519759260316835,
           5.0340603598774205,
           14.696641619990311,
           9.042962638362281,
           7.8966419597379875,
           4.0677624248747355,
           10.581690640514047,
           6.458114107124242,
           11.452303694514004,
           9.369667907702885
          ],
          "coloraxis": "coloraxis",
          "size": 10,
          "symbol": "square"
         },
         "mode": "markers",
         "name": "700",
         "orientation": "v",
         "showlegend": true,
         "type": "scatter",
         "x": [
          339.99999999999994,
          338.8004753388554,
          342.4698795180723,
          390.4216867469879,
          432.4698795180723,
          389.4578313253012,
          530.4819277108434,
          489.99999999999994,
          472.4698795180723,
          485.4819277108433,
          385.510930440512,
          68.43373493975903,
          41.1379784273814,
          415.96385542168673,
          468.97590361445776,
          535.4819277108434,
          472.6840467338102,
          465.4216867469879,
          416.92771084337346,
          388.91566265060237,
          404.57916627447287,
          500.4819277108433,
          500.4819277108433,
          444.4578313253012,
          408.91566265060237,
          496.27894390060237,
          389.93975903614455,
          496.1544615963855,
          386.075336502259,
          386.4457831325301,
          408.91566265060237,
          341.4457831325301,
          429.4578313253012,
          429.4578313253012,
          482.95180722891564,
          330.96385542168673,
          342.4698795180723,
          478.4939759036144,
          484.4578313253012,
          528.9759036144578,
          366.92771084337346,
          481.4457831325301,
          367.95183664344876,
          88.97590361445782,
          530.4819277108434,
          441.1177522590361,
          462.04292756965356,
          393.433734939759,
          394.4578313253012,
          404.57916627447287,
          410.48192771084337,
          481.92771084337346,
          394.93975903614455,
          518.9156626506024,
          537.9518072289156,
          378.91566265060237,
          550.5027532003012,
          357.4096385542168
         ],
         "xaxis": "x",
         "y": [
          163.5542168674699,
          145.464308405497,
          127.04819277108436,
          97.59036144578317,
          98.5542168674699,
          116.50602409638557,
          159.0963855421687,
          212.59036144578315,
          148.5542168674699,
          51.08433734939763,
          100.45027767319277,
          41.08433734939763,
          40.96838525978916,
          68.5542168674699,
          69.57831325301208,
          109.57831325301208,
          174.74722620952562,
          127.59036144578315,
          41.566265060240994,
          246.0843373493976,
          189.05798486916416,
          96.08433734939763,
          96.08433734939763,
          144.57831325301206,
          304.03614457831327,
          154.5642678134413,
          270.5421686746988,
          154.57832796027864,
          116.57633953783886,
          260.5421686746988,
          124.03614457831327,
          163.5542168674699,
          154.51807228915663,
          159.03614457831327,
          108.5542168674699,
          162.04819277108436,
          148.5542168674699,
          103.07228915662654,
          100.60240963855426,
          150.54216867469881,
          136.566265060241,
          54.578313253012084,
          156.99698206890062,
          45.06024096385545,
          100.06024096385545,
          296.02376547204443,
          236.70989622552713,
          298.0120481927711,
          226.02409638554218,
          189.05798486916416,
          294.09638554216866,
          141.50602409638557,
          277.04819277108436,
          175.54216867469881,
          206.02409638554218,
          246.566265060241,
          241.66375953030874,
          215
         ],
         "yaxis": "y"
        }
       ],
       "layout": {
        "coloraxis": {
         "colorbar": {
          "title": {
           "text": "sign_Error_percentage_Box_fov"
          }
         },
         "colorscale": [
          [
           0,
           "rgb(0,104,55)"
          ],
          [
           0.1,
           "rgb(26,152,80)"
          ],
          [
           0.2,
           "rgb(102,189,99)"
          ],
          [
           0.3,
           "rgb(166,217,106)"
          ],
          [
           0.4,
           "rgb(217,239,139)"
          ],
          [
           0.5,
           "rgb(255,255,191)"
          ],
          [
           0.6,
           "rgb(254,224,139)"
          ],
          [
           0.7,
           "rgb(253,174,97)"
          ],
          [
           0.8,
           "rgb(244,109,67)"
          ],
          [
           0.9,
           "rgb(215,48,39)"
          ],
          [
           1,
           "rgb(165,0,38)"
          ]
         ]
        },
        "legend": {
         "title": {
          "text": "pond"
         },
         "tracegroupgap": 0,
         "x": 0.01,
         "xanchor": "left",
         "y": 0.99,
         "yanchor": "top"
        },
        "margin": {
         "b": 0,
         "l": 0,
         "r": 0,
         "t": 0
        },
        "template": {
         "data": {
          "bar": [
           {
            "error_x": {
             "color": "#2a3f5f"
            },
            "error_y": {
             "color": "#2a3f5f"
            },
            "marker": {
             "line": {
              "color": "#E5ECF6",
              "width": 0.5
             },
             "pattern": {
              "fillmode": "overlay",
              "size": 10,
              "solidity": 0.2
             }
            },
            "type": "bar"
           }
          ],
          "barpolar": [
           {
            "marker": {
             "line": {
              "color": "#E5ECF6",
              "width": 0.5
             },
             "pattern": {
              "fillmode": "overlay",
              "size": 10,
              "solidity": 0.2
             }
            },
            "type": "barpolar"
           }
          ],
          "carpet": [
           {
            "aaxis": {
             "endlinecolor": "#2a3f5f",
             "gridcolor": "white",
             "linecolor": "white",
             "minorgridcolor": "white",
             "startlinecolor": "#2a3f5f"
            },
            "baxis": {
             "endlinecolor": "#2a3f5f",
             "gridcolor": "white",
             "linecolor": "white",
             "minorgridcolor": "white",
             "startlinecolor": "#2a3f5f"
            },
            "type": "carpet"
           }
          ],
          "choropleth": [
           {
            "colorbar": {
             "outlinewidth": 0,
             "ticks": ""
            },
            "type": "choropleth"
           }
          ],
          "contour": [
           {
            "colorbar": {
             "outlinewidth": 0,
             "ticks": ""
            },
            "colorscale": [
             [
              0,
              "#0d0887"
             ],
             [
              0.1111111111111111,
              "#46039f"
             ],
             [
              0.2222222222222222,
              "#7201a8"
             ],
             [
              0.3333333333333333,
              "#9c179e"
             ],
             [
              0.4444444444444444,
              "#bd3786"
             ],
             [
              0.5555555555555556,
              "#d8576b"
             ],
             [
              0.6666666666666666,
              "#ed7953"
             ],
             [
              0.7777777777777778,
              "#fb9f3a"
             ],
             [
              0.8888888888888888,
              "#fdca26"
             ],
             [
              1,
              "#f0f921"
             ]
            ],
            "type": "contour"
           }
          ],
          "contourcarpet": [
           {
            "colorbar": {
             "outlinewidth": 0,
             "ticks": ""
            },
            "type": "contourcarpet"
           }
          ],
          "heatmap": [
           {
            "colorbar": {
             "outlinewidth": 0,
             "ticks": ""
            },
            "colorscale": [
             [
              0,
              "#0d0887"
             ],
             [
              0.1111111111111111,
              "#46039f"
             ],
             [
              0.2222222222222222,
              "#7201a8"
             ],
             [
              0.3333333333333333,
              "#9c179e"
             ],
             [
              0.4444444444444444,
              "#bd3786"
             ],
             [
              0.5555555555555556,
              "#d8576b"
             ],
             [
              0.6666666666666666,
              "#ed7953"
             ],
             [
              0.7777777777777778,
              "#fb9f3a"
             ],
             [
              0.8888888888888888,
              "#fdca26"
             ],
             [
              1,
              "#f0f921"
             ]
            ],
            "type": "heatmap"
           }
          ],
          "heatmapgl": [
           {
            "colorbar": {
             "outlinewidth": 0,
             "ticks": ""
            },
            "colorscale": [
             [
              0,
              "#0d0887"
             ],
             [
              0.1111111111111111,
              "#46039f"
             ],
             [
              0.2222222222222222,
              "#7201a8"
             ],
             [
              0.3333333333333333,
              "#9c179e"
             ],
             [
              0.4444444444444444,
              "#bd3786"
             ],
             [
              0.5555555555555556,
              "#d8576b"
             ],
             [
              0.6666666666666666,
              "#ed7953"
             ],
             [
              0.7777777777777778,
              "#fb9f3a"
             ],
             [
              0.8888888888888888,
              "#fdca26"
             ],
             [
              1,
              "#f0f921"
             ]
            ],
            "type": "heatmapgl"
           }
          ],
          "histogram": [
           {
            "marker": {
             "pattern": {
              "fillmode": "overlay",
              "size": 10,
              "solidity": 0.2
             }
            },
            "type": "histogram"
           }
          ],
          "histogram2d": [
           {
            "colorbar": {
             "outlinewidth": 0,
             "ticks": ""
            },
            "colorscale": [
             [
              0,
              "#0d0887"
             ],
             [
              0.1111111111111111,
              "#46039f"
             ],
             [
              0.2222222222222222,
              "#7201a8"
             ],
             [
              0.3333333333333333,
              "#9c179e"
             ],
             [
              0.4444444444444444,
              "#bd3786"
             ],
             [
              0.5555555555555556,
              "#d8576b"
             ],
             [
              0.6666666666666666,
              "#ed7953"
             ],
             [
              0.7777777777777778,
              "#fb9f3a"
             ],
             [
              0.8888888888888888,
              "#fdca26"
             ],
             [
              1,
              "#f0f921"
             ]
            ],
            "type": "histogram2d"
           }
          ],
          "histogram2dcontour": [
           {
            "colorbar": {
             "outlinewidth": 0,
             "ticks": ""
            },
            "colorscale": [
             [
              0,
              "#0d0887"
             ],
             [
              0.1111111111111111,
              "#46039f"
             ],
             [
              0.2222222222222222,
              "#7201a8"
             ],
             [
              0.3333333333333333,
              "#9c179e"
             ],
             [
              0.4444444444444444,
              "#bd3786"
             ],
             [
              0.5555555555555556,
              "#d8576b"
             ],
             [
              0.6666666666666666,
              "#ed7953"
             ],
             [
              0.7777777777777778,
              "#fb9f3a"
             ],
             [
              0.8888888888888888,
              "#fdca26"
             ],
             [
              1,
              "#f0f921"
             ]
            ],
            "type": "histogram2dcontour"
           }
          ],
          "mesh3d": [
           {
            "colorbar": {
             "outlinewidth": 0,
             "ticks": ""
            },
            "type": "mesh3d"
           }
          ],
          "parcoords": [
           {
            "line": {
             "colorbar": {
              "outlinewidth": 0,
              "ticks": ""
             }
            },
            "type": "parcoords"
           }
          ],
          "pie": [
           {
            "automargin": true,
            "type": "pie"
           }
          ],
          "scatter": [
           {
            "fillpattern": {
             "fillmode": "overlay",
             "size": 10,
             "solidity": 0.2
            },
            "type": "scatter"
           }
          ],
          "scatter3d": [
           {
            "line": {
             "colorbar": {
              "outlinewidth": 0,
              "ticks": ""
             }
            },
            "marker": {
             "colorbar": {
              "outlinewidth": 0,
              "ticks": ""
             }
            },
            "type": "scatter3d"
           }
          ],
          "scattercarpet": [
           {
            "marker": {
             "colorbar": {
              "outlinewidth": 0,
              "ticks": ""
             }
            },
            "type": "scattercarpet"
           }
          ],
          "scattergeo": [
           {
            "marker": {
             "colorbar": {
              "outlinewidth": 0,
              "ticks": ""
             }
            },
            "type": "scattergeo"
           }
          ],
          "scattergl": [
           {
            "marker": {
             "colorbar": {
              "outlinewidth": 0,
              "ticks": ""
             }
            },
            "type": "scattergl"
           }
          ],
          "scattermapbox": [
           {
            "marker": {
             "colorbar": {
              "outlinewidth": 0,
              "ticks": ""
             }
            },
            "type": "scattermapbox"
           }
          ],
          "scatterpolar": [
           {
            "marker": {
             "colorbar": {
              "outlinewidth": 0,
              "ticks": ""
             }
            },
            "type": "scatterpolar"
           }
          ],
          "scatterpolargl": [
           {
            "marker": {
             "colorbar": {
              "outlinewidth": 0,
              "ticks": ""
             }
            },
            "type": "scatterpolargl"
           }
          ],
          "scatterternary": [
           {
            "marker": {
             "colorbar": {
              "outlinewidth": 0,
              "ticks": ""
             }
            },
            "type": "scatterternary"
           }
          ],
          "surface": [
           {
            "colorbar": {
             "outlinewidth": 0,
             "ticks": ""
            },
            "colorscale": [
             [
              0,
              "#0d0887"
             ],
             [
              0.1111111111111111,
              "#46039f"
             ],
             [
              0.2222222222222222,
              "#7201a8"
             ],
             [
              0.3333333333333333,
              "#9c179e"
             ],
             [
              0.4444444444444444,
              "#bd3786"
             ],
             [
              0.5555555555555556,
              "#d8576b"
             ],
             [
              0.6666666666666666,
              "#ed7953"
             ],
             [
              0.7777777777777778,
              "#fb9f3a"
             ],
             [
              0.8888888888888888,
              "#fdca26"
             ],
             [
              1,
              "#f0f921"
             ]
            ],
            "type": "surface"
           }
          ],
          "table": [
           {
            "cells": {
             "fill": {
              "color": "#EBF0F8"
             },
             "line": {
              "color": "white"
             }
            },
            "header": {
             "fill": {
              "color": "#C8D4E3"
             },
             "line": {
              "color": "white"
             }
            },
            "type": "table"
           }
          ]
         },
         "layout": {
          "annotationdefaults": {
           "arrowcolor": "#2a3f5f",
           "arrowhead": 0,
           "arrowwidth": 1
          },
          "autotypenumbers": "strict",
          "coloraxis": {
           "colorbar": {
            "outlinewidth": 0,
            "ticks": ""
           }
          },
          "colorscale": {
           "diverging": [
            [
             0,
             "#8e0152"
            ],
            [
             0.1,
             "#c51b7d"
            ],
            [
             0.2,
             "#de77ae"
            ],
            [
             0.3,
             "#f1b6da"
            ],
            [
             0.4,
             "#fde0ef"
            ],
            [
             0.5,
             "#f7f7f7"
            ],
            [
             0.6,
             "#e6f5d0"
            ],
            [
             0.7,
             "#b8e186"
            ],
            [
             0.8,
             "#7fbc41"
            ],
            [
             0.9,
             "#4d9221"
            ],
            [
             1,
             "#276419"
            ]
           ],
           "sequential": [
            [
             0,
             "#0d0887"
            ],
            [
             0.1111111111111111,
             "#46039f"
            ],
            [
             0.2222222222222222,
             "#7201a8"
            ],
            [
             0.3333333333333333,
             "#9c179e"
            ],
            [
             0.4444444444444444,
             "#bd3786"
            ],
            [
             0.5555555555555556,
             "#d8576b"
            ],
            [
             0.6666666666666666,
             "#ed7953"
            ],
            [
             0.7777777777777778,
             "#fb9f3a"
            ],
            [
             0.8888888888888888,
             "#fdca26"
            ],
            [
             1,
             "#f0f921"
            ]
           ],
           "sequentialminus": [
            [
             0,
             "#0d0887"
            ],
            [
             0.1111111111111111,
             "#46039f"
            ],
            [
             0.2222222222222222,
             "#7201a8"
            ],
            [
             0.3333333333333333,
             "#9c179e"
            ],
            [
             0.4444444444444444,
             "#bd3786"
            ],
            [
             0.5555555555555556,
             "#d8576b"
            ],
            [
             0.6666666666666666,
             "#ed7953"
            ],
            [
             0.7777777777777778,
             "#fb9f3a"
            ],
            [
             0.8888888888888888,
             "#fdca26"
            ],
            [
             1,
             "#f0f921"
            ]
           ]
          },
          "colorway": [
           "#636efa",
           "#EF553B",
           "#00cc96",
           "#ab63fa",
           "#FFA15A",
           "#19d3f3",
           "#FF6692",
           "#B6E880",
           "#FF97FF",
           "#FECB52"
          ],
          "font": {
           "color": "#2a3f5f"
          },
          "geo": {
           "bgcolor": "white",
           "lakecolor": "white",
           "landcolor": "#E5ECF6",
           "showlakes": true,
           "showland": true,
           "subunitcolor": "white"
          },
          "hoverlabel": {
           "align": "left"
          },
          "hovermode": "closest",
          "mapbox": {
           "style": "light"
          },
          "paper_bgcolor": "white",
          "plot_bgcolor": "#E5ECF6",
          "polar": {
           "angularaxis": {
            "gridcolor": "white",
            "linecolor": "white",
            "ticks": ""
           },
           "bgcolor": "#E5ECF6",
           "radialaxis": {
            "gridcolor": "white",
            "linecolor": "white",
            "ticks": ""
           }
          },
          "scene": {
           "xaxis": {
            "backgroundcolor": "#E5ECF6",
            "gridcolor": "white",
            "gridwidth": 2,
            "linecolor": "white",
            "showbackground": true,
            "ticks": "",
            "zerolinecolor": "white"
           },
           "yaxis": {
            "backgroundcolor": "#E5ECF6",
            "gridcolor": "white",
            "gridwidth": 2,
            "linecolor": "white",
            "showbackground": true,
            "ticks": "",
            "zerolinecolor": "white"
           },
           "zaxis": {
            "backgroundcolor": "#E5ECF6",
            "gridcolor": "white",
            "gridwidth": 2,
            "linecolor": "white",
            "showbackground": true,
            "ticks": "",
            "zerolinecolor": "white"
           }
          },
          "shapedefaults": {
           "line": {
            "color": "#2a3f5f"
           }
          },
          "ternary": {
           "aaxis": {
            "gridcolor": "white",
            "linecolor": "white",
            "ticks": ""
           },
           "baxis": {
            "gridcolor": "white",
            "linecolor": "white",
            "ticks": ""
           },
           "bgcolor": "#E5ECF6",
           "caxis": {
            "gridcolor": "white",
            "linecolor": "white",
            "ticks": ""
           }
          },
          "title": {
           "x": 0.05
          },
          "xaxis": {
           "automargin": true,
           "gridcolor": "white",
           "linecolor": "white",
           "ticks": "",
           "title": {
            "standoff": 15
           },
           "zerolinecolor": "white",
           "zerolinewidth": 2
          },
          "yaxis": {
           "automargin": true,
           "gridcolor": "white",
           "linecolor": "white",
           "ticks": "",
           "title": {
            "standoff": 15
           },
           "zerolinecolor": "white",
           "zerolinewidth": 2
          }
         }
        },
        "title": {
         "text": "sign_Error_percentage_Box_fov of Hull Length Prediction"
        },
        "xaxis": {
         "anchor": "y",
         "domain": [
          0,
          1
         ],
         "title": {
          "text": "center_x"
         }
        },
        "yaxis": {
         "anchor": "x",
         "domain": [
          0,
          1
         ],
         "title": {
          "text": "center_y"
         }
        }
       }
      }
     },
     "metadata": {},
     "output_type": "display_data"
    },
    {
     "name": "stdout",
     "output_type": "stream",
     "text": [
      "Plotting sign_Error_percentage_Box_fov for 410...\n"
     ]
    },
    {
     "data": {
      "application/vnd.plotly.v1+json": {
       "config": {
        "plotlyServerURL": "https://plot.ly"
       },
       "data": [
        {
         "customdata": [
          [
           "undistorted_GX010192_17_1035.jpg",
           0
          ],
          [
           "undistorted_GX010192_25_1553.jpg",
           0
          ],
          [
           "undistorted_GX010192_26_1578.jpg",
           0
          ],
          [
           "undistorted_GX010192_9_675.jpg",
           1
          ],
          [
           "undistorted_GX010193_10_1039.jpg",
           0
          ],
          [
           "undistorted_GX010193_11_1065.jpg",
           0
          ],
          [
           "undistorted_GX010193_17_1264.jpg",
           0
          ],
          [
           "undistorted_GX010193_18_1289.jpg",
           0
          ],
          [
           "undistorted_GX010193_19_1334.jpg",
           0
          ],
          [
           "undistorted_GX010193_20_1365.jpg",
           2
          ],
          [
           "undistorted_GX010193_27_1553.jpg",
           1
          ],
          [
           "undistorted_GX010193_3_251.jpg",
           0
          ],
          [
           "undistorted_GX010193_4_283.jpg",
           1
          ],
          [
           "undistorted_GX010194_15_231.jpg",
           0
          ],
          [
           "undistorted_GX010194_16_240.jpg",
           0
          ],
          [
           "undistorted_GX010194_17_257.jpg",
           1
          ],
          [
           "undistorted_GX010194_18_272.jpg",
           0
          ],
          [
           "undistorted_GX010194_19_285.jpg",
           0
          ],
          [
           "undistorted_GX010194_36_485.jpg",
           1
          ],
          [
           "undistorted_GX010194_37_496.jpg",
           1
          ],
          [
           "undistorted_GX010194_38_504.jpg",
           1
          ],
          [
           "undistorted_GX010194_39_513.jpg",
           1
          ],
          [
           "undistorted_GX010194_46_620.jpg",
           1
          ],
          [
           "undistorted_GX010194_55_768.jpg",
           2
          ],
          [
           "undistorted_GX010194_56_784.jpg",
           0
          ],
          [
           "undistorted_GX010194_57_798.jpg",
           0
          ],
          [
           "undistorted_GX010194_58_810.jpg",
           2
          ],
          [
           "undistorted_GX010194_60_836.jpg",
           0
          ]
         ],
         "hovertemplate": "pond=410<br>center_x=%{x}<br>center_y=%{y}<br>image_path=%{customdata[0]}<br>index=%{customdata[1]}<br>sign_Error_percentage_Box_fov=%{marker.color}<extra></extra>",
         "legendgroup": "410",
         "marker": {
          "color": [
           9.995576975202264,
           5.530807753530357,
           8.65074244162312,
           8.586574040417847,
           0.49708777719808317,
           4.569637525714651,
           2.3048032597630663,
           5.569928099730795,
           8.012448263440499,
           0.19539127834922707,
           7.17736598609946,
           10.45091329714244,
           2.288543257793773,
           7.836043125359062,
           4.18524990540427,
           6.538605793011622,
           8.223544063252067,
           1.2165370732051093,
           1.8156707089410566,
           2.1444060451550775,
           5.189384970073551,
           4.2424359200103945,
           4.711842119229664,
           5.570269280039733,
           13.301510088956043,
           9.521202213306278,
           11.218246915477042,
           8.650497269164068
          ],
          "coloraxis": "coloraxis",
          "size": 10,
          "symbol": "square"
         },
         "mode": "markers",
         "name": "410",
         "orientation": "v",
         "showlegend": true,
         "type": "scatter",
         "x": [
          255.61564617846383,
          295.78639754329816,
          283.9759036144578,
          337.16390954442767,
          294.39759036144574,
          325.96385542168673,
          359.81821818524094,
          275.6279708678464,
          186.50637707078312,
          89.4578313253012,
          222.95180722891564,
          384.4578313253012,
          407.4698795180723,
          455.96385542168673,
          431.17031602974396,
          422.4698795180723,
          431.92771084337346,
          448.433734939759,
          288.5998093938253,
          290.4216867469879,
          288.433734939759,
          287.64733739646084,
          86.92771084337349,
          365.48192771084337,
          375.4216867469879,
          381.4457831325301,
          385.2791733339608,
          351.2028485033885
         ],
         "xaxis": "x",
         "y": [
          90.0549757624247,
          247.38245217196913,
          126.02409638554218,
          146.40152896743226,
          183.5542168674699,
          126.02409638554218,
          177.3257483057229,
          214.49277579066268,
          214.1999688205949,
          176.56626506024097,
          248.0722891566265,
          281.0240963855422,
          198.0722891566265,
          161.566265060241,
          175.36918180534641,
          150.06024096385545,
          111.566265060241,
          76.08433734939763,
          256.1419383589044,
          208.5542168674699,
          171.566265060241,
          123.57898390436748,
          96.02409638554218,
          227.10843373493978,
          183.0120481927711,
          146.566265060241,
          98.62451760165663,
          281.14065147307986
         ],
         "yaxis": "y"
        }
       ],
       "layout": {
        "coloraxis": {
         "colorbar": {
          "title": {
           "text": "sign_Error_percentage_Box_fov"
          }
         },
         "colorscale": [
          [
           0,
           "rgb(0,104,55)"
          ],
          [
           0.1,
           "rgb(26,152,80)"
          ],
          [
           0.2,
           "rgb(102,189,99)"
          ],
          [
           0.3,
           "rgb(166,217,106)"
          ],
          [
           0.4,
           "rgb(217,239,139)"
          ],
          [
           0.5,
           "rgb(255,255,191)"
          ],
          [
           0.6,
           "rgb(254,224,139)"
          ],
          [
           0.7,
           "rgb(253,174,97)"
          ],
          [
           0.8,
           "rgb(244,109,67)"
          ],
          [
           0.9,
           "rgb(215,48,39)"
          ],
          [
           1,
           "rgb(165,0,38)"
          ]
         ]
        },
        "legend": {
         "title": {
          "text": "pond"
         },
         "tracegroupgap": 0,
         "x": 0.01,
         "xanchor": "left",
         "y": 0.99,
         "yanchor": "top"
        },
        "margin": {
         "b": 0,
         "l": 0,
         "r": 0,
         "t": 0
        },
        "template": {
         "data": {
          "bar": [
           {
            "error_x": {
             "color": "#2a3f5f"
            },
            "error_y": {
             "color": "#2a3f5f"
            },
            "marker": {
             "line": {
              "color": "#E5ECF6",
              "width": 0.5
             },
             "pattern": {
              "fillmode": "overlay",
              "size": 10,
              "solidity": 0.2
             }
            },
            "type": "bar"
           }
          ],
          "barpolar": [
           {
            "marker": {
             "line": {
              "color": "#E5ECF6",
              "width": 0.5
             },
             "pattern": {
              "fillmode": "overlay",
              "size": 10,
              "solidity": 0.2
             }
            },
            "type": "barpolar"
           }
          ],
          "carpet": [
           {
            "aaxis": {
             "endlinecolor": "#2a3f5f",
             "gridcolor": "white",
             "linecolor": "white",
             "minorgridcolor": "white",
             "startlinecolor": "#2a3f5f"
            },
            "baxis": {
             "endlinecolor": "#2a3f5f",
             "gridcolor": "white",
             "linecolor": "white",
             "minorgridcolor": "white",
             "startlinecolor": "#2a3f5f"
            },
            "type": "carpet"
           }
          ],
          "choropleth": [
           {
            "colorbar": {
             "outlinewidth": 0,
             "ticks": ""
            },
            "type": "choropleth"
           }
          ],
          "contour": [
           {
            "colorbar": {
             "outlinewidth": 0,
             "ticks": ""
            },
            "colorscale": [
             [
              0,
              "#0d0887"
             ],
             [
              0.1111111111111111,
              "#46039f"
             ],
             [
              0.2222222222222222,
              "#7201a8"
             ],
             [
              0.3333333333333333,
              "#9c179e"
             ],
             [
              0.4444444444444444,
              "#bd3786"
             ],
             [
              0.5555555555555556,
              "#d8576b"
             ],
             [
              0.6666666666666666,
              "#ed7953"
             ],
             [
              0.7777777777777778,
              "#fb9f3a"
             ],
             [
              0.8888888888888888,
              "#fdca26"
             ],
             [
              1,
              "#f0f921"
             ]
            ],
            "type": "contour"
           }
          ],
          "contourcarpet": [
           {
            "colorbar": {
             "outlinewidth": 0,
             "ticks": ""
            },
            "type": "contourcarpet"
           }
          ],
          "heatmap": [
           {
            "colorbar": {
             "outlinewidth": 0,
             "ticks": ""
            },
            "colorscale": [
             [
              0,
              "#0d0887"
             ],
             [
              0.1111111111111111,
              "#46039f"
             ],
             [
              0.2222222222222222,
              "#7201a8"
             ],
             [
              0.3333333333333333,
              "#9c179e"
             ],
             [
              0.4444444444444444,
              "#bd3786"
             ],
             [
              0.5555555555555556,
              "#d8576b"
             ],
             [
              0.6666666666666666,
              "#ed7953"
             ],
             [
              0.7777777777777778,
              "#fb9f3a"
             ],
             [
              0.8888888888888888,
              "#fdca26"
             ],
             [
              1,
              "#f0f921"
             ]
            ],
            "type": "heatmap"
           }
          ],
          "heatmapgl": [
           {
            "colorbar": {
             "outlinewidth": 0,
             "ticks": ""
            },
            "colorscale": [
             [
              0,
              "#0d0887"
             ],
             [
              0.1111111111111111,
              "#46039f"
             ],
             [
              0.2222222222222222,
              "#7201a8"
             ],
             [
              0.3333333333333333,
              "#9c179e"
             ],
             [
              0.4444444444444444,
              "#bd3786"
             ],
             [
              0.5555555555555556,
              "#d8576b"
             ],
             [
              0.6666666666666666,
              "#ed7953"
             ],
             [
              0.7777777777777778,
              "#fb9f3a"
             ],
             [
              0.8888888888888888,
              "#fdca26"
             ],
             [
              1,
              "#f0f921"
             ]
            ],
            "type": "heatmapgl"
           }
          ],
          "histogram": [
           {
            "marker": {
             "pattern": {
              "fillmode": "overlay",
              "size": 10,
              "solidity": 0.2
             }
            },
            "type": "histogram"
           }
          ],
          "histogram2d": [
           {
            "colorbar": {
             "outlinewidth": 0,
             "ticks": ""
            },
            "colorscale": [
             [
              0,
              "#0d0887"
             ],
             [
              0.1111111111111111,
              "#46039f"
             ],
             [
              0.2222222222222222,
              "#7201a8"
             ],
             [
              0.3333333333333333,
              "#9c179e"
             ],
             [
              0.4444444444444444,
              "#bd3786"
             ],
             [
              0.5555555555555556,
              "#d8576b"
             ],
             [
              0.6666666666666666,
              "#ed7953"
             ],
             [
              0.7777777777777778,
              "#fb9f3a"
             ],
             [
              0.8888888888888888,
              "#fdca26"
             ],
             [
              1,
              "#f0f921"
             ]
            ],
            "type": "histogram2d"
           }
          ],
          "histogram2dcontour": [
           {
            "colorbar": {
             "outlinewidth": 0,
             "ticks": ""
            },
            "colorscale": [
             [
              0,
              "#0d0887"
             ],
             [
              0.1111111111111111,
              "#46039f"
             ],
             [
              0.2222222222222222,
              "#7201a8"
             ],
             [
              0.3333333333333333,
              "#9c179e"
             ],
             [
              0.4444444444444444,
              "#bd3786"
             ],
             [
              0.5555555555555556,
              "#d8576b"
             ],
             [
              0.6666666666666666,
              "#ed7953"
             ],
             [
              0.7777777777777778,
              "#fb9f3a"
             ],
             [
              0.8888888888888888,
              "#fdca26"
             ],
             [
              1,
              "#f0f921"
             ]
            ],
            "type": "histogram2dcontour"
           }
          ],
          "mesh3d": [
           {
            "colorbar": {
             "outlinewidth": 0,
             "ticks": ""
            },
            "type": "mesh3d"
           }
          ],
          "parcoords": [
           {
            "line": {
             "colorbar": {
              "outlinewidth": 0,
              "ticks": ""
             }
            },
            "type": "parcoords"
           }
          ],
          "pie": [
           {
            "automargin": true,
            "type": "pie"
           }
          ],
          "scatter": [
           {
            "fillpattern": {
             "fillmode": "overlay",
             "size": 10,
             "solidity": 0.2
            },
            "type": "scatter"
           }
          ],
          "scatter3d": [
           {
            "line": {
             "colorbar": {
              "outlinewidth": 0,
              "ticks": ""
             }
            },
            "marker": {
             "colorbar": {
              "outlinewidth": 0,
              "ticks": ""
             }
            },
            "type": "scatter3d"
           }
          ],
          "scattercarpet": [
           {
            "marker": {
             "colorbar": {
              "outlinewidth": 0,
              "ticks": ""
             }
            },
            "type": "scattercarpet"
           }
          ],
          "scattergeo": [
           {
            "marker": {
             "colorbar": {
              "outlinewidth": 0,
              "ticks": ""
             }
            },
            "type": "scattergeo"
           }
          ],
          "scattergl": [
           {
            "marker": {
             "colorbar": {
              "outlinewidth": 0,
              "ticks": ""
             }
            },
            "type": "scattergl"
           }
          ],
          "scattermapbox": [
           {
            "marker": {
             "colorbar": {
              "outlinewidth": 0,
              "ticks": ""
             }
            },
            "type": "scattermapbox"
           }
          ],
          "scatterpolar": [
           {
            "marker": {
             "colorbar": {
              "outlinewidth": 0,
              "ticks": ""
             }
            },
            "type": "scatterpolar"
           }
          ],
          "scatterpolargl": [
           {
            "marker": {
             "colorbar": {
              "outlinewidth": 0,
              "ticks": ""
             }
            },
            "type": "scatterpolargl"
           }
          ],
          "scatterternary": [
           {
            "marker": {
             "colorbar": {
              "outlinewidth": 0,
              "ticks": ""
             }
            },
            "type": "scatterternary"
           }
          ],
          "surface": [
           {
            "colorbar": {
             "outlinewidth": 0,
             "ticks": ""
            },
            "colorscale": [
             [
              0,
              "#0d0887"
             ],
             [
              0.1111111111111111,
              "#46039f"
             ],
             [
              0.2222222222222222,
              "#7201a8"
             ],
             [
              0.3333333333333333,
              "#9c179e"
             ],
             [
              0.4444444444444444,
              "#bd3786"
             ],
             [
              0.5555555555555556,
              "#d8576b"
             ],
             [
              0.6666666666666666,
              "#ed7953"
             ],
             [
              0.7777777777777778,
              "#fb9f3a"
             ],
             [
              0.8888888888888888,
              "#fdca26"
             ],
             [
              1,
              "#f0f921"
             ]
            ],
            "type": "surface"
           }
          ],
          "table": [
           {
            "cells": {
             "fill": {
              "color": "#EBF0F8"
             },
             "line": {
              "color": "white"
             }
            },
            "header": {
             "fill": {
              "color": "#C8D4E3"
             },
             "line": {
              "color": "white"
             }
            },
            "type": "table"
           }
          ]
         },
         "layout": {
          "annotationdefaults": {
           "arrowcolor": "#2a3f5f",
           "arrowhead": 0,
           "arrowwidth": 1
          },
          "autotypenumbers": "strict",
          "coloraxis": {
           "colorbar": {
            "outlinewidth": 0,
            "ticks": ""
           }
          },
          "colorscale": {
           "diverging": [
            [
             0,
             "#8e0152"
            ],
            [
             0.1,
             "#c51b7d"
            ],
            [
             0.2,
             "#de77ae"
            ],
            [
             0.3,
             "#f1b6da"
            ],
            [
             0.4,
             "#fde0ef"
            ],
            [
             0.5,
             "#f7f7f7"
            ],
            [
             0.6,
             "#e6f5d0"
            ],
            [
             0.7,
             "#b8e186"
            ],
            [
             0.8,
             "#7fbc41"
            ],
            [
             0.9,
             "#4d9221"
            ],
            [
             1,
             "#276419"
            ]
           ],
           "sequential": [
            [
             0,
             "#0d0887"
            ],
            [
             0.1111111111111111,
             "#46039f"
            ],
            [
             0.2222222222222222,
             "#7201a8"
            ],
            [
             0.3333333333333333,
             "#9c179e"
            ],
            [
             0.4444444444444444,
             "#bd3786"
            ],
            [
             0.5555555555555556,
             "#d8576b"
            ],
            [
             0.6666666666666666,
             "#ed7953"
            ],
            [
             0.7777777777777778,
             "#fb9f3a"
            ],
            [
             0.8888888888888888,
             "#fdca26"
            ],
            [
             1,
             "#f0f921"
            ]
           ],
           "sequentialminus": [
            [
             0,
             "#0d0887"
            ],
            [
             0.1111111111111111,
             "#46039f"
            ],
            [
             0.2222222222222222,
             "#7201a8"
            ],
            [
             0.3333333333333333,
             "#9c179e"
            ],
            [
             0.4444444444444444,
             "#bd3786"
            ],
            [
             0.5555555555555556,
             "#d8576b"
            ],
            [
             0.6666666666666666,
             "#ed7953"
            ],
            [
             0.7777777777777778,
             "#fb9f3a"
            ],
            [
             0.8888888888888888,
             "#fdca26"
            ],
            [
             1,
             "#f0f921"
            ]
           ]
          },
          "colorway": [
           "#636efa",
           "#EF553B",
           "#00cc96",
           "#ab63fa",
           "#FFA15A",
           "#19d3f3",
           "#FF6692",
           "#B6E880",
           "#FF97FF",
           "#FECB52"
          ],
          "font": {
           "color": "#2a3f5f"
          },
          "geo": {
           "bgcolor": "white",
           "lakecolor": "white",
           "landcolor": "#E5ECF6",
           "showlakes": true,
           "showland": true,
           "subunitcolor": "white"
          },
          "hoverlabel": {
           "align": "left"
          },
          "hovermode": "closest",
          "mapbox": {
           "style": "light"
          },
          "paper_bgcolor": "white",
          "plot_bgcolor": "#E5ECF6",
          "polar": {
           "angularaxis": {
            "gridcolor": "white",
            "linecolor": "white",
            "ticks": ""
           },
           "bgcolor": "#E5ECF6",
           "radialaxis": {
            "gridcolor": "white",
            "linecolor": "white",
            "ticks": ""
           }
          },
          "scene": {
           "xaxis": {
            "backgroundcolor": "#E5ECF6",
            "gridcolor": "white",
            "gridwidth": 2,
            "linecolor": "white",
            "showbackground": true,
            "ticks": "",
            "zerolinecolor": "white"
           },
           "yaxis": {
            "backgroundcolor": "#E5ECF6",
            "gridcolor": "white",
            "gridwidth": 2,
            "linecolor": "white",
            "showbackground": true,
            "ticks": "",
            "zerolinecolor": "white"
           },
           "zaxis": {
            "backgroundcolor": "#E5ECF6",
            "gridcolor": "white",
            "gridwidth": 2,
            "linecolor": "white",
            "showbackground": true,
            "ticks": "",
            "zerolinecolor": "white"
           }
          },
          "shapedefaults": {
           "line": {
            "color": "#2a3f5f"
           }
          },
          "ternary": {
           "aaxis": {
            "gridcolor": "white",
            "linecolor": "white",
            "ticks": ""
           },
           "baxis": {
            "gridcolor": "white",
            "linecolor": "white",
            "ticks": ""
           },
           "bgcolor": "#E5ECF6",
           "caxis": {
            "gridcolor": "white",
            "linecolor": "white",
            "ticks": ""
           }
          },
          "title": {
           "x": 0.05
          },
          "xaxis": {
           "automargin": true,
           "gridcolor": "white",
           "linecolor": "white",
           "ticks": "",
           "title": {
            "standoff": 15
           },
           "zerolinecolor": "white",
           "zerolinewidth": 2
          },
          "yaxis": {
           "automargin": true,
           "gridcolor": "white",
           "linecolor": "white",
           "ticks": "",
           "title": {
            "standoff": 15
           },
           "zerolinecolor": "white",
           "zerolinewidth": 2
          }
         }
        },
        "title": {
         "text": "sign_Error_percentage_Box_fov of Hull Length Prediction"
        },
        "xaxis": {
         "anchor": "y",
         "domain": [
          0,
          1
         ],
         "title": {
          "text": "center_x"
         }
        },
        "yaxis": {
         "anchor": "x",
         "domain": [
          0,
          1
         ],
         "title": {
          "text": "center_y"
         }
        }
       }
      }
     },
     "metadata": {},
     "output_type": "display_data"
    }
   ],
   "source": [
    "import ast\n",
    "import folium\n",
    "from folium.plugins import MarkerCluster    \n",
    "import pandas as pd\n",
    "import plotly.express as px\n",
    "\n",
    "# Read the data\n",
    "\n",
    "# samples_index = pd.read_csv('samples_index.csv')  # Ensure this is read correctly\n",
    "\n",
    "# # Update the 'not' column based on samples_index\n",
    "# for _, sample in samples_index.iterrows():\n",
    "#     df.loc[(df['image_path'] == sample['sample']) & (df['index'] == sample['index']), 'not'] = 'not'\n",
    "# df.to_csv('molt_CLEAN.csv')\n",
    "\n",
    "# # Clean the data\n",
    "# df_clean = df[df['not'] != 'not']\n",
    "# df_clean = df_clean.dropna()\n",
    "\n",
    "\n",
    "df = pd.read_csv('molt.csv')\n",
    "df_clean = df.dropna()\n",
    "\n",
    "df_clean.loc[(df['image_path'] == 'undistorted_GX010191_43_1353.jpg') & (df['index'] == 6)] = None\n",
    "#undistorted_GX010194_21_312.jpg\n",
    "\n",
    "df_clean.loc[(df['image_path'] == 'undistorted_GX010194_21_312.jpg') & (df['index'] == 1)] = None\n",
    "\n",
    "\n",
    "df_clean.dropna(inplace=True)\n",
    "\n",
    "df_clean.loc[:, 'error_Box_fov'] = df['Box_Length_fov'] - df['true_length']\n",
    "df_clean.loc[:, 'error_Box_focal'] = df['Focal_Box'] - df['true_length']\n",
    "#percentage error with sign\n",
    "df_clean.loc[:, 'sign_Error_percentage_Box_fov'] = (df['Box_Length_fov'] - df['true_length']) / df['true_length'] * 100\n",
    "\n",
    "\n",
    "# Extract center_x and center_y from the 'center' column\n",
    "df_clean['center_x'] = df_clean['center'].apply(lambda x: ast.literal_eval(x)[0])\n",
    "df_clean['center_y'] = df_clean['center'].apply(lambda x: ast.literal_eval(x)[1])\n",
    "\n",
    "\n",
    "# Filter the DataFrame for specific conditions\n",
    "# df_positive = df_clean[(df_clean['Box_Length_fov'] > df_clean['true_length'])]\n",
    "df_clean.loc[df_clean['pond']=='right','pond']=700\n",
    "df_clean.loc[df_clean['pond']=='square','pond']=410\n",
    "\n",
    "# Create a new DataFrame for visualization with necessary columns\n",
    "df_visual = df_clean[['center_x', 'center_y', 'Error_percentage_Box_fov', 'image_path', 'index', 'pond', 'MAE_Box_fov','error_Box_fov','sign_Error_percentage_Box_fov']].copy()\n",
    "\n",
    "# Ensure image paths are correct\n",
    "df_visual['image_path'] = df_visual['image_path'].apply(lambda x: x.replace('\\\\', '/'))\n",
    "\n",
    "\n",
    "# Adjust center_y coordinate to be opposite to the image\n",
    "df_visual['center_y'] = 360 - df_visual['center_y']\n",
    "\n",
    "symbols = {'right': 'circle', 'square': 'square'}\n",
    "# Generate scatter plots\n",
    "for error in ['Error_percentage_Box_fov', 'MAE_Box_fov','sign_Error_percentage_Box_fov']:\n",
    "    for pond in [700, 410]:\n",
    "        print(f\"Plotting {error} for {pond}...\")\n",
    "\n",
    "        \n",
    "\n",
    "\n",
    "\n",
    "        # Create an interactive scatter plot using plotly\n",
    "        fig = px.scatter(df_visual[df_visual['pond'] == pond], \n",
    "                        symbol='pond',\n",
    "                        symbol_map=symbols,\n",
    "                            x='center_x', \n",
    "                            y='center_y', \n",
    "                            color=error,\n",
    "                            hover_data=['image_path', 'index'],\n",
    "                            color_continuous_scale='RdYlGn_r', \n",
    "                            title=f'{error} of Hull Length Prediction',)\n",
    "        #\n",
    "        # Customize the color bar\n",
    "        fig.update_layout(coloraxis_colorbar=dict(title=error))\n",
    "        fig.update_traces(marker=dict(size=10))\n",
    "        #tighten the layout\n",
    "        #fix legend overlapping\n",
    "        fig.update_layout(legend=dict(\n",
    "            yanchor=\"top\",\n",
    "            y=0.99,\n",
    "            xanchor=\"left\",\n",
    "            x=0.01\n",
    "        ))    \n",
    "\n",
    "        fig.update_layout(margin=dict(l=0, r=0, t=0, b=0))\n",
    "        #save the plot as png\n",
    "        fig.write_image(f'{error}_{pond}.png')\n",
    "        # Show the plot\n",
    "        fig.show()"
   ]
  },
  {
   "cell_type": "code",
   "execution_count": 7,
   "metadata": {},
   "outputs": [
    {
     "data": {
      "application/vnd.plotly.v1+json": {
       "config": {
        "plotlyServerURL": "https://plot.ly"
       },
       "data": [
        {
         "hovertemplate": "pond=700<br>Box_Length_fov=%{x}<br>true_length=%{y}<extra></extra>",
         "legendgroup": "700",
         "marker": {
          "color": "#636efa",
          "symbol": "circle"
         },
         "mode": "markers",
         "name": "700",
         "orientation": "v",
         "showlegend": true,
         "type": "scatter",
         "x": [
          142.98050346081868,
          140.4087096471602,
          147.409934615332,
          148.01737787054907,
          152.32917956880394,
          144.29067756764462,
          144.13081297409772,
          147.9919192218191,
          139.78528541703756,
          134.39054838853562,
          132.3121908742303,
          137.75054618219698,
          156.64569322991466,
          155.497685762792,
          143.21939973540677,
          153.71188498392087,
          145.15130660182697,
          142.87940203569667,
          161.20815316064076,
          135.7877732320219,
          144.28910228853945,
          138.22851049440493,
          156.36437638668107,
          136.85251145934097,
          148.20239627185225,
          149.20919433574093,
          139.03908424287943,
          164.01619751658615,
          154.29219800242532,
          152.23510317318767,
          156.39862510801512
         ],
         "xaxis": "x",
         "y": [
          143,
          143,
          143,
          143,
          143,
          143,
          143,
          143,
          143,
          143,
          143,
          143,
          143,
          143,
          143,
          143,
          143,
          143,
          143,
          143,
          143,
          143,
          143,
          143,
          143,
          143,
          143,
          143,
          143,
          143,
          143
         ],
         "yaxis": "y"
        },
        {
         "hovertemplate": "pond=410<br>Box_Length_fov=%{x}<br>true_length=%{y}<extra></extra>",
         "legendgroup": "410",
         "marker": {
          "color": "#EF553B",
          "symbol": "circle"
         },
         "mode": "markers",
         "name": "410",
         "orientation": "v",
         "showlegend": true,
         "type": "scatter",
         "x": [
          157.29367507453924,
          150.9090550875484,
          155.37056169152106,
          155.27880087779752,
          146.29586866146118,
          150.96499718261504,
          154.4578010167199,
          143.2794095280394,
          145.5964091137857,
          146.06650064457176,
          150.42082050720518,
          149.06668336561486,
          155.37021109490462
         ],
         "xaxis": "x",
         "y": [
          143,
          143,
          143,
          143,
          143,
          143,
          143,
          143,
          143,
          143,
          143,
          143,
          143
         ],
         "yaxis": "y"
        }
       ],
       "layout": {
        "legend": {
         "title": {
          "text": "pond"
         },
         "tracegroupgap": 0
        },
        "margin": {
         "t": 60
        },
        "template": {
         "data": {
          "bar": [
           {
            "error_x": {
             "color": "#2a3f5f"
            },
            "error_y": {
             "color": "#2a3f5f"
            },
            "marker": {
             "line": {
              "color": "#E5ECF6",
              "width": 0.5
             },
             "pattern": {
              "fillmode": "overlay",
              "size": 10,
              "solidity": 0.2
             }
            },
            "type": "bar"
           }
          ],
          "barpolar": [
           {
            "marker": {
             "line": {
              "color": "#E5ECF6",
              "width": 0.5
             },
             "pattern": {
              "fillmode": "overlay",
              "size": 10,
              "solidity": 0.2
             }
            },
            "type": "barpolar"
           }
          ],
          "carpet": [
           {
            "aaxis": {
             "endlinecolor": "#2a3f5f",
             "gridcolor": "white",
             "linecolor": "white",
             "minorgridcolor": "white",
             "startlinecolor": "#2a3f5f"
            },
            "baxis": {
             "endlinecolor": "#2a3f5f",
             "gridcolor": "white",
             "linecolor": "white",
             "minorgridcolor": "white",
             "startlinecolor": "#2a3f5f"
            },
            "type": "carpet"
           }
          ],
          "choropleth": [
           {
            "colorbar": {
             "outlinewidth": 0,
             "ticks": ""
            },
            "type": "choropleth"
           }
          ],
          "contour": [
           {
            "colorbar": {
             "outlinewidth": 0,
             "ticks": ""
            },
            "colorscale": [
             [
              0,
              "#0d0887"
             ],
             [
              0.1111111111111111,
              "#46039f"
             ],
             [
              0.2222222222222222,
              "#7201a8"
             ],
             [
              0.3333333333333333,
              "#9c179e"
             ],
             [
              0.4444444444444444,
              "#bd3786"
             ],
             [
              0.5555555555555556,
              "#d8576b"
             ],
             [
              0.6666666666666666,
              "#ed7953"
             ],
             [
              0.7777777777777778,
              "#fb9f3a"
             ],
             [
              0.8888888888888888,
              "#fdca26"
             ],
             [
              1,
              "#f0f921"
             ]
            ],
            "type": "contour"
           }
          ],
          "contourcarpet": [
           {
            "colorbar": {
             "outlinewidth": 0,
             "ticks": ""
            },
            "type": "contourcarpet"
           }
          ],
          "heatmap": [
           {
            "colorbar": {
             "outlinewidth": 0,
             "ticks": ""
            },
            "colorscale": [
             [
              0,
              "#0d0887"
             ],
             [
              0.1111111111111111,
              "#46039f"
             ],
             [
              0.2222222222222222,
              "#7201a8"
             ],
             [
              0.3333333333333333,
              "#9c179e"
             ],
             [
              0.4444444444444444,
              "#bd3786"
             ],
             [
              0.5555555555555556,
              "#d8576b"
             ],
             [
              0.6666666666666666,
              "#ed7953"
             ],
             [
              0.7777777777777778,
              "#fb9f3a"
             ],
             [
              0.8888888888888888,
              "#fdca26"
             ],
             [
              1,
              "#f0f921"
             ]
            ],
            "type": "heatmap"
           }
          ],
          "heatmapgl": [
           {
            "colorbar": {
             "outlinewidth": 0,
             "ticks": ""
            },
            "colorscale": [
             [
              0,
              "#0d0887"
             ],
             [
              0.1111111111111111,
              "#46039f"
             ],
             [
              0.2222222222222222,
              "#7201a8"
             ],
             [
              0.3333333333333333,
              "#9c179e"
             ],
             [
              0.4444444444444444,
              "#bd3786"
             ],
             [
              0.5555555555555556,
              "#d8576b"
             ],
             [
              0.6666666666666666,
              "#ed7953"
             ],
             [
              0.7777777777777778,
              "#fb9f3a"
             ],
             [
              0.8888888888888888,
              "#fdca26"
             ],
             [
              1,
              "#f0f921"
             ]
            ],
            "type": "heatmapgl"
           }
          ],
          "histogram": [
           {
            "marker": {
             "pattern": {
              "fillmode": "overlay",
              "size": 10,
              "solidity": 0.2
             }
            },
            "type": "histogram"
           }
          ],
          "histogram2d": [
           {
            "colorbar": {
             "outlinewidth": 0,
             "ticks": ""
            },
            "colorscale": [
             [
              0,
              "#0d0887"
             ],
             [
              0.1111111111111111,
              "#46039f"
             ],
             [
              0.2222222222222222,
              "#7201a8"
             ],
             [
              0.3333333333333333,
              "#9c179e"
             ],
             [
              0.4444444444444444,
              "#bd3786"
             ],
             [
              0.5555555555555556,
              "#d8576b"
             ],
             [
              0.6666666666666666,
              "#ed7953"
             ],
             [
              0.7777777777777778,
              "#fb9f3a"
             ],
             [
              0.8888888888888888,
              "#fdca26"
             ],
             [
              1,
              "#f0f921"
             ]
            ],
            "type": "histogram2d"
           }
          ],
          "histogram2dcontour": [
           {
            "colorbar": {
             "outlinewidth": 0,
             "ticks": ""
            },
            "colorscale": [
             [
              0,
              "#0d0887"
             ],
             [
              0.1111111111111111,
              "#46039f"
             ],
             [
              0.2222222222222222,
              "#7201a8"
             ],
             [
              0.3333333333333333,
              "#9c179e"
             ],
             [
              0.4444444444444444,
              "#bd3786"
             ],
             [
              0.5555555555555556,
              "#d8576b"
             ],
             [
              0.6666666666666666,
              "#ed7953"
             ],
             [
              0.7777777777777778,
              "#fb9f3a"
             ],
             [
              0.8888888888888888,
              "#fdca26"
             ],
             [
              1,
              "#f0f921"
             ]
            ],
            "type": "histogram2dcontour"
           }
          ],
          "mesh3d": [
           {
            "colorbar": {
             "outlinewidth": 0,
             "ticks": ""
            },
            "type": "mesh3d"
           }
          ],
          "parcoords": [
           {
            "line": {
             "colorbar": {
              "outlinewidth": 0,
              "ticks": ""
             }
            },
            "type": "parcoords"
           }
          ],
          "pie": [
           {
            "automargin": true,
            "type": "pie"
           }
          ],
          "scatter": [
           {
            "fillpattern": {
             "fillmode": "overlay",
             "size": 10,
             "solidity": 0.2
            },
            "type": "scatter"
           }
          ],
          "scatter3d": [
           {
            "line": {
             "colorbar": {
              "outlinewidth": 0,
              "ticks": ""
             }
            },
            "marker": {
             "colorbar": {
              "outlinewidth": 0,
              "ticks": ""
             }
            },
            "type": "scatter3d"
           }
          ],
          "scattercarpet": [
           {
            "marker": {
             "colorbar": {
              "outlinewidth": 0,
              "ticks": ""
             }
            },
            "type": "scattercarpet"
           }
          ],
          "scattergeo": [
           {
            "marker": {
             "colorbar": {
              "outlinewidth": 0,
              "ticks": ""
             }
            },
            "type": "scattergeo"
           }
          ],
          "scattergl": [
           {
            "marker": {
             "colorbar": {
              "outlinewidth": 0,
              "ticks": ""
             }
            },
            "type": "scattergl"
           }
          ],
          "scattermapbox": [
           {
            "marker": {
             "colorbar": {
              "outlinewidth": 0,
              "ticks": ""
             }
            },
            "type": "scattermapbox"
           }
          ],
          "scatterpolar": [
           {
            "marker": {
             "colorbar": {
              "outlinewidth": 0,
              "ticks": ""
             }
            },
            "type": "scatterpolar"
           }
          ],
          "scatterpolargl": [
           {
            "marker": {
             "colorbar": {
              "outlinewidth": 0,
              "ticks": ""
             }
            },
            "type": "scatterpolargl"
           }
          ],
          "scatterternary": [
           {
            "marker": {
             "colorbar": {
              "outlinewidth": 0,
              "ticks": ""
             }
            },
            "type": "scatterternary"
           }
          ],
          "surface": [
           {
            "colorbar": {
             "outlinewidth": 0,
             "ticks": ""
            },
            "colorscale": [
             [
              0,
              "#0d0887"
             ],
             [
              0.1111111111111111,
              "#46039f"
             ],
             [
              0.2222222222222222,
              "#7201a8"
             ],
             [
              0.3333333333333333,
              "#9c179e"
             ],
             [
              0.4444444444444444,
              "#bd3786"
             ],
             [
              0.5555555555555556,
              "#d8576b"
             ],
             [
              0.6666666666666666,
              "#ed7953"
             ],
             [
              0.7777777777777778,
              "#fb9f3a"
             ],
             [
              0.8888888888888888,
              "#fdca26"
             ],
             [
              1,
              "#f0f921"
             ]
            ],
            "type": "surface"
           }
          ],
          "table": [
           {
            "cells": {
             "fill": {
              "color": "#EBF0F8"
             },
             "line": {
              "color": "white"
             }
            },
            "header": {
             "fill": {
              "color": "#C8D4E3"
             },
             "line": {
              "color": "white"
             }
            },
            "type": "table"
           }
          ]
         },
         "layout": {
          "annotationdefaults": {
           "arrowcolor": "#2a3f5f",
           "arrowhead": 0,
           "arrowwidth": 1
          },
          "autotypenumbers": "strict",
          "coloraxis": {
           "colorbar": {
            "outlinewidth": 0,
            "ticks": ""
           }
          },
          "colorscale": {
           "diverging": [
            [
             0,
             "#8e0152"
            ],
            [
             0.1,
             "#c51b7d"
            ],
            [
             0.2,
             "#de77ae"
            ],
            [
             0.3,
             "#f1b6da"
            ],
            [
             0.4,
             "#fde0ef"
            ],
            [
             0.5,
             "#f7f7f7"
            ],
            [
             0.6,
             "#e6f5d0"
            ],
            [
             0.7,
             "#b8e186"
            ],
            [
             0.8,
             "#7fbc41"
            ],
            [
             0.9,
             "#4d9221"
            ],
            [
             1,
             "#276419"
            ]
           ],
           "sequential": [
            [
             0,
             "#0d0887"
            ],
            [
             0.1111111111111111,
             "#46039f"
            ],
            [
             0.2222222222222222,
             "#7201a8"
            ],
            [
             0.3333333333333333,
             "#9c179e"
            ],
            [
             0.4444444444444444,
             "#bd3786"
            ],
            [
             0.5555555555555556,
             "#d8576b"
            ],
            [
             0.6666666666666666,
             "#ed7953"
            ],
            [
             0.7777777777777778,
             "#fb9f3a"
            ],
            [
             0.8888888888888888,
             "#fdca26"
            ],
            [
             1,
             "#f0f921"
            ]
           ],
           "sequentialminus": [
            [
             0,
             "#0d0887"
            ],
            [
             0.1111111111111111,
             "#46039f"
            ],
            [
             0.2222222222222222,
             "#7201a8"
            ],
            [
             0.3333333333333333,
             "#9c179e"
            ],
            [
             0.4444444444444444,
             "#bd3786"
            ],
            [
             0.5555555555555556,
             "#d8576b"
            ],
            [
             0.6666666666666666,
             "#ed7953"
            ],
            [
             0.7777777777777778,
             "#fb9f3a"
            ],
            [
             0.8888888888888888,
             "#fdca26"
            ],
            [
             1,
             "#f0f921"
            ]
           ]
          },
          "colorway": [
           "#636efa",
           "#EF553B",
           "#00cc96",
           "#ab63fa",
           "#FFA15A",
           "#19d3f3",
           "#FF6692",
           "#B6E880",
           "#FF97FF",
           "#FECB52"
          ],
          "font": {
           "color": "#2a3f5f"
          },
          "geo": {
           "bgcolor": "white",
           "lakecolor": "white",
           "landcolor": "#E5ECF6",
           "showlakes": true,
           "showland": true,
           "subunitcolor": "white"
          },
          "hoverlabel": {
           "align": "left"
          },
          "hovermode": "closest",
          "mapbox": {
           "style": "light"
          },
          "paper_bgcolor": "white",
          "plot_bgcolor": "#E5ECF6",
          "polar": {
           "angularaxis": {
            "gridcolor": "white",
            "linecolor": "white",
            "ticks": ""
           },
           "bgcolor": "#E5ECF6",
           "radialaxis": {
            "gridcolor": "white",
            "linecolor": "white",
            "ticks": ""
           }
          },
          "scene": {
           "xaxis": {
            "backgroundcolor": "#E5ECF6",
            "gridcolor": "white",
            "gridwidth": 2,
            "linecolor": "white",
            "showbackground": true,
            "ticks": "",
            "zerolinecolor": "white"
           },
           "yaxis": {
            "backgroundcolor": "#E5ECF6",
            "gridcolor": "white",
            "gridwidth": 2,
            "linecolor": "white",
            "showbackground": true,
            "ticks": "",
            "zerolinecolor": "white"
           },
           "zaxis": {
            "backgroundcolor": "#E5ECF6",
            "gridcolor": "white",
            "gridwidth": 2,
            "linecolor": "white",
            "showbackground": true,
            "ticks": "",
            "zerolinecolor": "white"
           }
          },
          "shapedefaults": {
           "line": {
            "color": "#2a3f5f"
           }
          },
          "ternary": {
           "aaxis": {
            "gridcolor": "white",
            "linecolor": "white",
            "ticks": ""
           },
           "baxis": {
            "gridcolor": "white",
            "linecolor": "white",
            "ticks": ""
           },
           "bgcolor": "#E5ECF6",
           "caxis": {
            "gridcolor": "white",
            "linecolor": "white",
            "ticks": ""
           }
          },
          "title": {
           "x": 0.05
          },
          "xaxis": {
           "automargin": true,
           "gridcolor": "white",
           "linecolor": "white",
           "ticks": "",
           "title": {
            "standoff": 15
           },
           "zerolinecolor": "white",
           "zerolinewidth": 2
          },
          "yaxis": {
           "automargin": true,
           "gridcolor": "white",
           "linecolor": "white",
           "ticks": "",
           "title": {
            "standoff": 15
           },
           "zerolinecolor": "white",
           "zerolinewidth": 2
          }
         }
        },
        "title": {
         "text": "Length_FOV_box vs. closest_length_min_mae_value"
        },
        "xaxis": {
         "anchor": "y",
         "domain": [
          0,
          1
         ],
         "title": {
          "text": "Box_Length_fov"
         }
        },
        "yaxis": {
         "anchor": "x",
         "domain": [
          0,
          1
         ],
         "title": {
          "text": "true_length"
         }
        }
       }
      }
     },
     "metadata": {},
     "output_type": "display_data"
    },
    {
     "data": {
      "application/vnd.plotly.v1+json": {
       "config": {
        "plotlyServerURL": "https://plot.ly"
       },
       "data": [
        {
         "hovertemplate": "pond=700<br>Box_Length_fov=%{x}<br>true_length=%{y}<extra></extra>",
         "legendgroup": "700",
         "marker": {
          "color": "#636efa",
          "symbol": "circle"
         },
         "mode": "markers",
         "name": "700",
         "orientation": "v",
         "showlegend": true,
         "type": "scatter",
         "x": [
          190.7555917734772,
          175.71684807121295,
          171.43653972490063,
          171.8061076921762,
          173.70735281510815,
          197.96872039405343,
          183.8257491648972,
          191.4152153984745,
          189.06130864777936,
          184.285277996236,
          184.43477226732853,
          185.45917131981352,
          196.5949848337313,
          196.5949848337313,
          187.5917671388541,
          182.626212072996,
          179.17553630892095,
          172.50141666107902,
          194.5700089933024,
          191.60641118727813,
          205.1367464909596,
          191.07355666685703,
          189.06130864777936,
          196.2773327490521,
          187.32197236477452,
          199.04704315292528,
          200.6141466501252
         ],
         "xaxis": "x",
         "y": [
          180,
          180,
          180,
          180,
          180,
          180,
          180,
          180,
          180,
          180,
          180,
          180,
          180,
          180,
          180,
          180,
          180,
          180,
          180,
          180,
          180,
          180,
          180,
          180,
          180,
          180,
          180
         ],
         "yaxis": "y"
        },
        {
         "hovertemplate": "pond=410<br>Box_Length_fov=%{x}<br>true_length=%{y}<extra></extra>",
         "legendgroup": "410",
         "marker": {
          "color": "#EF553B",
          "symbol": "circle"
         },
         "mode": "markers",
         "name": "410",
         "orientation": "v",
         "showlegend": true,
         "type": "scatter",
         "x": [
          180.89475799895655,
          188.22534754628637,
          192.91925877497903,
          198.8116439348564,
          184.1193778640288,
          194.1048776256463,
          187.5334498297277,
          191.76949042742092,
          194.80237931385372,
          182.1897667317692,
          188.4813158146134,
          190.02648470407152,
          203.94271816012088,
          197.1381639839513,
          200.19284444785868
         ],
         "xaxis": "x",
         "y": [
          180,
          180,
          180,
          180,
          180,
          180,
          180,
          180,
          180,
          180,
          180,
          180,
          180,
          180,
          180
         ],
         "yaxis": "y"
        }
       ],
       "layout": {
        "legend": {
         "title": {
          "text": "pond"
         },
         "tracegroupgap": 0
        },
        "margin": {
         "t": 60
        },
        "template": {
         "data": {
          "bar": [
           {
            "error_x": {
             "color": "#2a3f5f"
            },
            "error_y": {
             "color": "#2a3f5f"
            },
            "marker": {
             "line": {
              "color": "#E5ECF6",
              "width": 0.5
             },
             "pattern": {
              "fillmode": "overlay",
              "size": 10,
              "solidity": 0.2
             }
            },
            "type": "bar"
           }
          ],
          "barpolar": [
           {
            "marker": {
             "line": {
              "color": "#E5ECF6",
              "width": 0.5
             },
             "pattern": {
              "fillmode": "overlay",
              "size": 10,
              "solidity": 0.2
             }
            },
            "type": "barpolar"
           }
          ],
          "carpet": [
           {
            "aaxis": {
             "endlinecolor": "#2a3f5f",
             "gridcolor": "white",
             "linecolor": "white",
             "minorgridcolor": "white",
             "startlinecolor": "#2a3f5f"
            },
            "baxis": {
             "endlinecolor": "#2a3f5f",
             "gridcolor": "white",
             "linecolor": "white",
             "minorgridcolor": "white",
             "startlinecolor": "#2a3f5f"
            },
            "type": "carpet"
           }
          ],
          "choropleth": [
           {
            "colorbar": {
             "outlinewidth": 0,
             "ticks": ""
            },
            "type": "choropleth"
           }
          ],
          "contour": [
           {
            "colorbar": {
             "outlinewidth": 0,
             "ticks": ""
            },
            "colorscale": [
             [
              0,
              "#0d0887"
             ],
             [
              0.1111111111111111,
              "#46039f"
             ],
             [
              0.2222222222222222,
              "#7201a8"
             ],
             [
              0.3333333333333333,
              "#9c179e"
             ],
             [
              0.4444444444444444,
              "#bd3786"
             ],
             [
              0.5555555555555556,
              "#d8576b"
             ],
             [
              0.6666666666666666,
              "#ed7953"
             ],
             [
              0.7777777777777778,
              "#fb9f3a"
             ],
             [
              0.8888888888888888,
              "#fdca26"
             ],
             [
              1,
              "#f0f921"
             ]
            ],
            "type": "contour"
           }
          ],
          "contourcarpet": [
           {
            "colorbar": {
             "outlinewidth": 0,
             "ticks": ""
            },
            "type": "contourcarpet"
           }
          ],
          "heatmap": [
           {
            "colorbar": {
             "outlinewidth": 0,
             "ticks": ""
            },
            "colorscale": [
             [
              0,
              "#0d0887"
             ],
             [
              0.1111111111111111,
              "#46039f"
             ],
             [
              0.2222222222222222,
              "#7201a8"
             ],
             [
              0.3333333333333333,
              "#9c179e"
             ],
             [
              0.4444444444444444,
              "#bd3786"
             ],
             [
              0.5555555555555556,
              "#d8576b"
             ],
             [
              0.6666666666666666,
              "#ed7953"
             ],
             [
              0.7777777777777778,
              "#fb9f3a"
             ],
             [
              0.8888888888888888,
              "#fdca26"
             ],
             [
              1,
              "#f0f921"
             ]
            ],
            "type": "heatmap"
           }
          ],
          "heatmapgl": [
           {
            "colorbar": {
             "outlinewidth": 0,
             "ticks": ""
            },
            "colorscale": [
             [
              0,
              "#0d0887"
             ],
             [
              0.1111111111111111,
              "#46039f"
             ],
             [
              0.2222222222222222,
              "#7201a8"
             ],
             [
              0.3333333333333333,
              "#9c179e"
             ],
             [
              0.4444444444444444,
              "#bd3786"
             ],
             [
              0.5555555555555556,
              "#d8576b"
             ],
             [
              0.6666666666666666,
              "#ed7953"
             ],
             [
              0.7777777777777778,
              "#fb9f3a"
             ],
             [
              0.8888888888888888,
              "#fdca26"
             ],
             [
              1,
              "#f0f921"
             ]
            ],
            "type": "heatmapgl"
           }
          ],
          "histogram": [
           {
            "marker": {
             "pattern": {
              "fillmode": "overlay",
              "size": 10,
              "solidity": 0.2
             }
            },
            "type": "histogram"
           }
          ],
          "histogram2d": [
           {
            "colorbar": {
             "outlinewidth": 0,
             "ticks": ""
            },
            "colorscale": [
             [
              0,
              "#0d0887"
             ],
             [
              0.1111111111111111,
              "#46039f"
             ],
             [
              0.2222222222222222,
              "#7201a8"
             ],
             [
              0.3333333333333333,
              "#9c179e"
             ],
             [
              0.4444444444444444,
              "#bd3786"
             ],
             [
              0.5555555555555556,
              "#d8576b"
             ],
             [
              0.6666666666666666,
              "#ed7953"
             ],
             [
              0.7777777777777778,
              "#fb9f3a"
             ],
             [
              0.8888888888888888,
              "#fdca26"
             ],
             [
              1,
              "#f0f921"
             ]
            ],
            "type": "histogram2d"
           }
          ],
          "histogram2dcontour": [
           {
            "colorbar": {
             "outlinewidth": 0,
             "ticks": ""
            },
            "colorscale": [
             [
              0,
              "#0d0887"
             ],
             [
              0.1111111111111111,
              "#46039f"
             ],
             [
              0.2222222222222222,
              "#7201a8"
             ],
             [
              0.3333333333333333,
              "#9c179e"
             ],
             [
              0.4444444444444444,
              "#bd3786"
             ],
             [
              0.5555555555555556,
              "#d8576b"
             ],
             [
              0.6666666666666666,
              "#ed7953"
             ],
             [
              0.7777777777777778,
              "#fb9f3a"
             ],
             [
              0.8888888888888888,
              "#fdca26"
             ],
             [
              1,
              "#f0f921"
             ]
            ],
            "type": "histogram2dcontour"
           }
          ],
          "mesh3d": [
           {
            "colorbar": {
             "outlinewidth": 0,
             "ticks": ""
            },
            "type": "mesh3d"
           }
          ],
          "parcoords": [
           {
            "line": {
             "colorbar": {
              "outlinewidth": 0,
              "ticks": ""
             }
            },
            "type": "parcoords"
           }
          ],
          "pie": [
           {
            "automargin": true,
            "type": "pie"
           }
          ],
          "scatter": [
           {
            "fillpattern": {
             "fillmode": "overlay",
             "size": 10,
             "solidity": 0.2
            },
            "type": "scatter"
           }
          ],
          "scatter3d": [
           {
            "line": {
             "colorbar": {
              "outlinewidth": 0,
              "ticks": ""
             }
            },
            "marker": {
             "colorbar": {
              "outlinewidth": 0,
              "ticks": ""
             }
            },
            "type": "scatter3d"
           }
          ],
          "scattercarpet": [
           {
            "marker": {
             "colorbar": {
              "outlinewidth": 0,
              "ticks": ""
             }
            },
            "type": "scattercarpet"
           }
          ],
          "scattergeo": [
           {
            "marker": {
             "colorbar": {
              "outlinewidth": 0,
              "ticks": ""
             }
            },
            "type": "scattergeo"
           }
          ],
          "scattergl": [
           {
            "marker": {
             "colorbar": {
              "outlinewidth": 0,
              "ticks": ""
             }
            },
            "type": "scattergl"
           }
          ],
          "scattermapbox": [
           {
            "marker": {
             "colorbar": {
              "outlinewidth": 0,
              "ticks": ""
             }
            },
            "type": "scattermapbox"
           }
          ],
          "scatterpolar": [
           {
            "marker": {
             "colorbar": {
              "outlinewidth": 0,
              "ticks": ""
             }
            },
            "type": "scatterpolar"
           }
          ],
          "scatterpolargl": [
           {
            "marker": {
             "colorbar": {
              "outlinewidth": 0,
              "ticks": ""
             }
            },
            "type": "scatterpolargl"
           }
          ],
          "scatterternary": [
           {
            "marker": {
             "colorbar": {
              "outlinewidth": 0,
              "ticks": ""
             }
            },
            "type": "scatterternary"
           }
          ],
          "surface": [
           {
            "colorbar": {
             "outlinewidth": 0,
             "ticks": ""
            },
            "colorscale": [
             [
              0,
              "#0d0887"
             ],
             [
              0.1111111111111111,
              "#46039f"
             ],
             [
              0.2222222222222222,
              "#7201a8"
             ],
             [
              0.3333333333333333,
              "#9c179e"
             ],
             [
              0.4444444444444444,
              "#bd3786"
             ],
             [
              0.5555555555555556,
              "#d8576b"
             ],
             [
              0.6666666666666666,
              "#ed7953"
             ],
             [
              0.7777777777777778,
              "#fb9f3a"
             ],
             [
              0.8888888888888888,
              "#fdca26"
             ],
             [
              1,
              "#f0f921"
             ]
            ],
            "type": "surface"
           }
          ],
          "table": [
           {
            "cells": {
             "fill": {
              "color": "#EBF0F8"
             },
             "line": {
              "color": "white"
             }
            },
            "header": {
             "fill": {
              "color": "#C8D4E3"
             },
             "line": {
              "color": "white"
             }
            },
            "type": "table"
           }
          ]
         },
         "layout": {
          "annotationdefaults": {
           "arrowcolor": "#2a3f5f",
           "arrowhead": 0,
           "arrowwidth": 1
          },
          "autotypenumbers": "strict",
          "coloraxis": {
           "colorbar": {
            "outlinewidth": 0,
            "ticks": ""
           }
          },
          "colorscale": {
           "diverging": [
            [
             0,
             "#8e0152"
            ],
            [
             0.1,
             "#c51b7d"
            ],
            [
             0.2,
             "#de77ae"
            ],
            [
             0.3,
             "#f1b6da"
            ],
            [
             0.4,
             "#fde0ef"
            ],
            [
             0.5,
             "#f7f7f7"
            ],
            [
             0.6,
             "#e6f5d0"
            ],
            [
             0.7,
             "#b8e186"
            ],
            [
             0.8,
             "#7fbc41"
            ],
            [
             0.9,
             "#4d9221"
            ],
            [
             1,
             "#276419"
            ]
           ],
           "sequential": [
            [
             0,
             "#0d0887"
            ],
            [
             0.1111111111111111,
             "#46039f"
            ],
            [
             0.2222222222222222,
             "#7201a8"
            ],
            [
             0.3333333333333333,
             "#9c179e"
            ],
            [
             0.4444444444444444,
             "#bd3786"
            ],
            [
             0.5555555555555556,
             "#d8576b"
            ],
            [
             0.6666666666666666,
             "#ed7953"
            ],
            [
             0.7777777777777778,
             "#fb9f3a"
            ],
            [
             0.8888888888888888,
             "#fdca26"
            ],
            [
             1,
             "#f0f921"
            ]
           ],
           "sequentialminus": [
            [
             0,
             "#0d0887"
            ],
            [
             0.1111111111111111,
             "#46039f"
            ],
            [
             0.2222222222222222,
             "#7201a8"
            ],
            [
             0.3333333333333333,
             "#9c179e"
            ],
            [
             0.4444444444444444,
             "#bd3786"
            ],
            [
             0.5555555555555556,
             "#d8576b"
            ],
            [
             0.6666666666666666,
             "#ed7953"
            ],
            [
             0.7777777777777778,
             "#fb9f3a"
            ],
            [
             0.8888888888888888,
             "#fdca26"
            ],
            [
             1,
             "#f0f921"
            ]
           ]
          },
          "colorway": [
           "#636efa",
           "#EF553B",
           "#00cc96",
           "#ab63fa",
           "#FFA15A",
           "#19d3f3",
           "#FF6692",
           "#B6E880",
           "#FF97FF",
           "#FECB52"
          ],
          "font": {
           "color": "#2a3f5f"
          },
          "geo": {
           "bgcolor": "white",
           "lakecolor": "white",
           "landcolor": "#E5ECF6",
           "showlakes": true,
           "showland": true,
           "subunitcolor": "white"
          },
          "hoverlabel": {
           "align": "left"
          },
          "hovermode": "closest",
          "mapbox": {
           "style": "light"
          },
          "paper_bgcolor": "white",
          "plot_bgcolor": "#E5ECF6",
          "polar": {
           "angularaxis": {
            "gridcolor": "white",
            "linecolor": "white",
            "ticks": ""
           },
           "bgcolor": "#E5ECF6",
           "radialaxis": {
            "gridcolor": "white",
            "linecolor": "white",
            "ticks": ""
           }
          },
          "scene": {
           "xaxis": {
            "backgroundcolor": "#E5ECF6",
            "gridcolor": "white",
            "gridwidth": 2,
            "linecolor": "white",
            "showbackground": true,
            "ticks": "",
            "zerolinecolor": "white"
           },
           "yaxis": {
            "backgroundcolor": "#E5ECF6",
            "gridcolor": "white",
            "gridwidth": 2,
            "linecolor": "white",
            "showbackground": true,
            "ticks": "",
            "zerolinecolor": "white"
           },
           "zaxis": {
            "backgroundcolor": "#E5ECF6",
            "gridcolor": "white",
            "gridwidth": 2,
            "linecolor": "white",
            "showbackground": true,
            "ticks": "",
            "zerolinecolor": "white"
           }
          },
          "shapedefaults": {
           "line": {
            "color": "#2a3f5f"
           }
          },
          "ternary": {
           "aaxis": {
            "gridcolor": "white",
            "linecolor": "white",
            "ticks": ""
           },
           "baxis": {
            "gridcolor": "white",
            "linecolor": "white",
            "ticks": ""
           },
           "bgcolor": "#E5ECF6",
           "caxis": {
            "gridcolor": "white",
            "linecolor": "white",
            "ticks": ""
           }
          },
          "title": {
           "x": 0.05
          },
          "xaxis": {
           "automargin": true,
           "gridcolor": "white",
           "linecolor": "white",
           "ticks": "",
           "title": {
            "standoff": 15
           },
           "zerolinecolor": "white",
           "zerolinewidth": 2
          },
          "yaxis": {
           "automargin": true,
           "gridcolor": "white",
           "linecolor": "white",
           "ticks": "",
           "title": {
            "standoff": 15
           },
           "zerolinecolor": "white",
           "zerolinewidth": 2
          }
         }
        },
        "title": {
         "text": "Length_FOV_box vs. closest_length_min_mae_value"
        },
        "xaxis": {
         "anchor": "y",
         "domain": [
          0,
          1
         ],
         "title": {
          "text": "Box_Length_fov"
         }
        },
        "yaxis": {
         "anchor": "x",
         "domain": [
          0,
          1
         ],
         "title": {
          "text": "true_length"
         }
        }
       }
      }
     },
     "metadata": {},
     "output_type": "display_data"
    }
   ],
   "source": [
    "import plotly.graph_objects as go\n",
    "\n",
    "for true_length in [143, 180]:\n",
    "    df_true_length= df_clean[df_clean['true_length'] == true_length]\n",
    "    fig = go.Figure()\n",
    "    for pond in [700, 410]:\n",
    "        df_pond = df_true_length[df_true_length['pond'] == pond]\n",
    "        # fig.add_trace(go.Scatter\n",
    "    # for pond in [700, 410]:\n",
    "    #     df_pond = df_true_length[df_true_length['pond'] == pond]\n",
    "        # fig.add_trace(go.Scatter\n",
    "#scatter plot between length_fov and closest_length_min_mae_value\n",
    "        fig = px.scatter(df_pond\n",
    "                        ,color='pond', x='Box_Length_fov', y='true_length')\n",
    "        #add title\n",
    "        fig.update_layout(title=f'Length_FOV_box vs. closest_length_min_mae_value')\n",
    "        # fig.add_trace(go.Scatter(x=[120, 200], y=[120, 200], mode='lines', name='line'))\n",
    "\n",
    "        #save the plot to png\n",
    "        fig.write_image(f'full body_Length_FOV_box vs. closest_length_min_mae_value.png')\n",
    "        #add a trendline\n",
    "\n",
    "        #add line\n",
    "\n",
    "\n",
    "        fig.show()\n",
    "#"
   ]
  },
  {
   "cell_type": "code",
   "execution_count": 11,
   "metadata": {},
   "outputs": [
    {
     "name": "stdout",
     "output_type": "stream",
     "text": [
      "43\n",
      "29\n"
     ]
    }
   ],
   "source": [
    "for pond in [700, 410]:\n",
    "  print(len (df_clean[df_clean['pond'] == pond]['image_path'].unique()))"
   ]
  },
  {
   "cell_type": "code",
   "execution_count": 14,
   "metadata": {},
   "outputs": [
    {
     "data": {
      "text/plain": [
       "true_length\n",
       "143.0    43\n",
       "180.0    42\n",
       "Name: count, dtype: int64"
      ]
     },
     "execution_count": 14,
     "metadata": {},
     "output_type": "execute_result"
    }
   ],
   "source": [
    "df_clean['true_length'].value_counts()"
   ]
  },
  {
   "cell_type": "code",
   "execution_count": 63,
   "metadata": {},
   "outputs": [
    {
     "name": "stdout",
     "output_type": "stream",
     "text": [
      "Mean fov Error Percentage for 143mm in pond 700:\n",
      "4.899529730238061\n",
      "Mean fov MAE for 143mm in pond 700:\n",
      "7.006327514240428\n",
      "Mean fov Prediction Length for 143mm in pond 700:\n",
      "146.61375109064838\n",
      "Std fov Prediction Length for 143mm in pond 700:\n",
      "8.14282327866182\n",
      "Mean focal Error Percentage for 143mm in pond 700:\n",
      "8.436450554594506\n",
      "Mean focal MAE for 143mm in pond 700:\n",
      "12.064124293070146\n",
      "Mean Focal Length for 143mm in pond 700:\n",
      "154.93912140851393\n",
      "Std Focal Length for 143mm in pond 700:\n",
      "8.236981827344096\n",
      "Count of 143mm in pond 700:\n",
      "31\n",
      "Mean fov Error Percentage for 143mm in pond 410:\n",
      "5.452974386569332\n",
      "Mean fov MAE for 143mm in pond 410:\n",
      "7.797753372794146\n",
      "Mean fov Prediction Length for 143mm in pond 410:\n",
      "150.79775337279415\n",
      "Std fov Prediction Length for 143mm in pond 410:\n",
      "4.535975774416189\n",
      "Mean focal Error Percentage for 143mm in pond 410:\n",
      "6.040163616376347\n",
      "Mean focal MAE for 143mm in pond 410:\n",
      "8.637433971418176\n",
      "Mean Focal Length for 143mm in pond 410:\n",
      "151.63743397141818\n",
      "Std Focal Length for 143mm in pond 410:\n",
      "4.272302709449057\n",
      "Count of 143mm in pond 410:\n",
      "13\n",
      "Mean fov Error Percentage for 180mm in pond 700:\n",
      "5.781450236029387\n",
      "Mean fov MAE for 180mm in pond 700:\n",
      "10.406610424852895\n",
      "Mean fov Prediction Length for 180mm in pond 700:\n",
      "187.76541051917866\n",
      "Std fov Prediction Length for 180mm in pond 700:\n",
      "9.335248092347655\n",
      "Mean focal Error Percentage for 180mm in pond 700:\n",
      "10.359522295616694\n",
      "Mean focal MAE for 180mm in pond 700:\n",
      "18.64714013211005\n",
      "Mean Focal Length for 180mm in pond 700:\n",
      "198.64714013211002\n",
      "Std Focal Length for 180mm in pond 700:\n",
      "9.852803262083826\n",
      "Count of 180mm in pond 700:\n",
      "27\n",
      "Mean fov Error Percentage for 180mm in pond 410:\n",
      "6.48710656141262\n",
      "Mean fov MAE for 180mm in pond 410:\n",
      "11.676791810542717\n",
      "Mean fov Prediction Length for 180mm in pond 410:\n",
      "191.67679181054274\n",
      "Std fov Prediction Length for 180mm in pond 410:\n",
      "6.688533642033929\n",
      "Mean focal Error Percentage for 180mm in pond 410:\n",
      "7.756007555380738\n",
      "Mean focal MAE for 180mm in pond 410:\n",
      "13.96081359968533\n",
      "Mean Focal Length for 180mm in pond 410:\n",
      "193.96081359968534\n",
      "Std Focal Length for 180mm in pond 410:\n",
      "6.944530514583651\n",
      "Count of 180mm in pond 410:\n",
      "15\n"
     ]
    },
    {
     "name": "stderr",
     "output_type": "stream",
     "text": [
      "C:\\Users\\gbo10\\AppData\\Local\\Temp\\ipykernel_51412\\940956615.py:48: FutureWarning:\n",
      "\n",
      "The behavior of DataFrame concatenation with empty or all-NA entries is deprecated. In a future version, this will no longer exclude empty or all-NA columns when determining the result dtypes. To retain the old behavior, exclude the relevant entries before the concat operation.\n",
      "\n"
     ]
    },
    {
     "data": {
      "text/html": [
       "<div>\n",
       "<style scoped>\n",
       "    .dataframe tbody tr th:only-of-type {\n",
       "        vertical-align: middle;\n",
       "    }\n",
       "\n",
       "    .dataframe tbody tr th {\n",
       "        vertical-align: top;\n",
       "    }\n",
       "\n",
       "    .dataframe thead th {\n",
       "        text-align: right;\n",
       "    }\n",
       "</style>\n",
       "<table border=\"1\" class=\"dataframe\">\n",
       "  <thead>\n",
       "    <tr style=\"text-align: right;\">\n",
       "      <th></th>\n",
       "      <th>true_length</th>\n",
       "      <th>pond</th>\n",
       "      <th>mean_error</th>\n",
       "      <th>mean_error_percentage</th>\n",
       "      <th>mean_mae</th>\n",
       "      <th>mean_prediction_length</th>\n",
       "      <th>std_prediction_length</th>\n",
       "      <th>mean_error_focal</th>\n",
       "      <th>mean_error_percentage_focal</th>\n",
       "      <th>mean_mae_focal</th>\n",
       "      <th>mean_prediction_length_focal</th>\n",
       "      <th>std_prediction_length_focal</th>\n",
       "    </tr>\n",
       "  </thead>\n",
       "  <tbody>\n",
       "    <tr>\n",
       "      <th>0</th>\n",
       "      <td>143.0</td>\n",
       "      <td>700.0</td>\n",
       "      <td>3.613751</td>\n",
       "      <td>4.899530</td>\n",
       "      <td>7.006328</td>\n",
       "      <td>146.613751</td>\n",
       "      <td>8.142823</td>\n",
       "      <td>11.939121</td>\n",
       "      <td>8.436451</td>\n",
       "      <td>12.064124</td>\n",
       "      <td>154.939121</td>\n",
       "      <td>8.236982</td>\n",
       "    </tr>\n",
       "    <tr>\n",
       "      <th>1</th>\n",
       "      <td>143.0</td>\n",
       "      <td>410.0</td>\n",
       "      <td>7.797753</td>\n",
       "      <td>5.452974</td>\n",
       "      <td>7.797753</td>\n",
       "      <td>150.797753</td>\n",
       "      <td>4.535976</td>\n",
       "      <td>8.637434</td>\n",
       "      <td>6.040164</td>\n",
       "      <td>8.637434</td>\n",
       "      <td>151.637434</td>\n",
       "      <td>4.272303</td>\n",
       "    </tr>\n",
       "    <tr>\n",
       "      <th>2</th>\n",
       "      <td>180.0</td>\n",
       "      <td>700.0</td>\n",
       "      <td>7.765411</td>\n",
       "      <td>5.781450</td>\n",
       "      <td>10.406610</td>\n",
       "      <td>187.765411</td>\n",
       "      <td>9.335248</td>\n",
       "      <td>18.647140</td>\n",
       "      <td>10.359522</td>\n",
       "      <td>18.647140</td>\n",
       "      <td>198.647140</td>\n",
       "      <td>9.852803</td>\n",
       "    </tr>\n",
       "    <tr>\n",
       "      <th>3</th>\n",
       "      <td>180.0</td>\n",
       "      <td>410.0</td>\n",
       "      <td>11.676792</td>\n",
       "      <td>6.487107</td>\n",
       "      <td>11.676792</td>\n",
       "      <td>191.676792</td>\n",
       "      <td>6.688534</td>\n",
       "      <td>13.960814</td>\n",
       "      <td>7.756008</td>\n",
       "      <td>13.960814</td>\n",
       "      <td>193.960814</td>\n",
       "      <td>6.944531</td>\n",
       "    </tr>\n",
       "  </tbody>\n",
       "</table>\n",
       "</div>"
      ],
      "text/plain": [
       "   true_length   pond  mean_error  mean_error_percentage   mean_mae  \\\n",
       "0        143.0  700.0    3.613751               4.899530   7.006328   \n",
       "1        143.0  410.0    7.797753               5.452974   7.797753   \n",
       "2        180.0  700.0    7.765411               5.781450  10.406610   \n",
       "3        180.0  410.0   11.676792               6.487107  11.676792   \n",
       "\n",
       "   mean_prediction_length  std_prediction_length  mean_error_focal  \\\n",
       "0              146.613751               8.142823         11.939121   \n",
       "1              150.797753               4.535976          8.637434   \n",
       "2              187.765411               9.335248         18.647140   \n",
       "3              191.676792               6.688534         13.960814   \n",
       "\n",
       "   mean_error_percentage_focal  mean_mae_focal  mean_prediction_length_focal  \\\n",
       "0                     8.436451       12.064124                    154.939121   \n",
       "1                     6.040164        8.637434                    151.637434   \n",
       "2                    10.359522       18.647140                    198.647140   \n",
       "3                     7.756008       13.960814                    193.960814   \n",
       "\n",
       "   std_prediction_length_focal  \n",
       "0                     8.236982  \n",
       "1                     4.272303  \n",
       "2                     9.852803  \n",
       "3                     6.944531  "
      ]
     },
     "execution_count": 63,
     "metadata": {},
     "output_type": "execute_result"
    }
   ],
   "source": [
    "error_data=pd.DataFrame(columns=['true_length','pond','mean_error','mean_error_percentage','mean_mae','mean_prediction_length','std_prediction_length'])\n",
    "\n",
    "\n",
    "for true_length in [143, 180]:\n",
    "    for pond in [700, 410]:\n",
    "       #mean errors \n",
    "        # print(f\"Mean Error for {true_length}mm in pond {pond}:\")\n",
    "        # print(df_clean[(df_clean['true_length'] == true_length) & (df_clean['pond'] == pond)]['error_Box_fov'].mean())\n",
    "        # #mean error percentage\n",
    "        print(f\"Mean fov Error Percentage for {true_length}mm in pond {pond}:\")\n",
    "        print(df_clean[(df_clean['true_length'] == true_length) & (df_clean['pond'] == pond)]['Error_percentage_Box_fov'].mean())\n",
    "        #mean mae\n",
    "        print(f\"Mean fov MAE for {true_length}mm in pond {pond}:\")\n",
    "        print(df_clean[(df_clean['true_length'] == true_length) & (df_clean['pond'] == pond)]['MAE_Box_fov'].mean())\n",
    "\n",
    "        #mean prediction length and std\n",
    "        print(f\"Mean fov Prediction Length for {true_length}mm in pond {pond}:\")\n",
    "        print(df_clean[(df_clean['true_length'] == true_length) & (df_clean['pond'] == pond)]['Box_Length_fov'].mean())\n",
    "        print(f\"Std fov Prediction Length for {true_length}mm in pond {pond}:\")\n",
    "        print(df_clean[(df_clean['true_length'] == true_length) & (df_clean['pond'] == pond)]['Box_Length_fov'].std())\n",
    "\n",
    "\n",
    "\n",
    "        #mean error percentage focal\n",
    "        print(f\"Mean focal Error Percentage for {true_length}mm in pond {pond}:\")\n",
    "        print(df_clean[(df_clean['true_length'] == true_length) & (df_clean['pond'] == pond)]['Error_percentage_Box_focal'].mean())\n",
    "\n",
    "        #mean mae focal\n",
    "        print(f\"Mean focal MAE for {true_length}mm in pond {pond}:\")\n",
    "        print(df_clean[(df_clean['true_length'] == true_length) & (df_clean['pond'] == pond)]['MAE_Box_focal'].mean())\n",
    "\n",
    "        #mean focal length and std\n",
    "        print(f\"Mean Focal Length for {true_length}mm in pond {pond}:\")\n",
    "        print(df_clean[(df_clean['true_length'] == true_length) & (df_clean['pond'] == pond)]['Focal_Box'].mean())\n",
    "        print(f\"Std Focal Length for {true_length}mm in pond {pond}:\")\n",
    "        print(df_clean[(df_clean['true_length'] == true_length) & (df_clean['pond'] == pond)]['Focal_Box'].std())\n",
    "\n",
    "        # #mean error focal\n",
    "        # print(f\"Mean Error for {true_length}mm in pond {pond}:\")\n",
    "        # print(df_clean[(df_clean['true_length'] == true_length) & (df_clean['pond'] == pond)]['error_Box_focal'].mean())\n",
    "\n",
    "       \n",
    "        #count of prawns\n",
    "        print(f\"Count of {true_length}mm in pond {pond}:\")\n",
    "        print(len(df_clean[(df_clean['true_length'] == true_length) & (df_clean['pond'] == pond)]))\n",
    "\n",
    "        #add all to datafraem including focal   \n",
    "        error_data=error_data._append({'true_length':true_length,'pond':pond,'mean_error':df_clean[(df_clean['true_length'] == true_length) & (df_clean['pond'] == pond)]['error_Box_fov'].mean(),'mean_error_percentage':df_clean[(df_clean['true_length'] == true_length) & (df_clean['pond'] == pond)]['Error_percentage_Box_fov'].mean(),'mean_mae':df_clean[(df_clean['true_length'] == true_length) & (df_clean['pond'] == pond)]['MAE_Box_fov'].mean(),'mean_prediction_length':df_clean[(df_clean['true_length'] == true_length) & (df_clean['pond'] == pond)]['Box_Length_fov'].mean(),'std_prediction_length':df_clean[(df_clean['true_length'] == true_length) & (df_clean['pond'] == pond)]['Box_Length_fov'].std(),'mean_error_focal':df_clean[(df_clean['true_length'] == true_length) & (df_clean['pond'] == pond)]['error_Box_focal'].mean(),'mean_error_percentage_focal':df_clean[(df_clean['true_length'] == true_length) & (df_clean['pond'] == pond)]['Error_percentage_Box_focal'].mean(),'mean_mae_focal':df_clean[(df_clean['true_length'] == true_length) & (df_clean['pond'] == pond)]['MAE_Box_focal'].mean(),'mean_prediction_length_focal':df_clean[(df_clean['true_length'] == true_length) & (df_clean['pond'] == pond)]['Focal_Box'].mean(),'std_prediction_length_focal':df_clean[(df_clean['true_length'] == true_length) & (df_clean['pond'] == pond)]['Focal_Box'].std()},ignore_index=True)\n",
    "\n",
    "error_data\n",
    "\n",
    "        "
   ]
  },
  {
   "cell_type": "code",
   "execution_count": 64,
   "metadata": {},
   "outputs": [],
   "source": [
    "#remove mean_error and mean_error_focal\n",
    "error_data.drop(['mean_error','mean_error_focal'],axis=1,inplace=True)  "
   ]
  },
  {
   "cell_type": "code",
   "execution_count": 67,
   "metadata": {},
   "outputs": [],
   "source": [
    "#without index\n",
    "error_data.to_csv('error_data.csv',index=False)"
   ]
  },
  {
   "cell_type": "code",
   "execution_count": 59,
   "metadata": {},
   "outputs": [
    {
     "data": {
      "application/vnd.plotly.v1+json": {
       "config": {
        "plotlyServerURL": "https://plot.ly"
       },
       "data": [
        {
         "alignmentgroup": "True",
         "boxpoints": "all",
         "customdata": [
          [
           "undistorted_GX010191_101_1265.jpg",
           0
          ],
          [
           "undistorted_GX010191_102_1277.jpg",
           0
          ],
          [
           "undistorted_GX010191_103_1289.jpg",
           0
          ],
          [
           "undistorted_GX010191_105_1312.jpg",
           0
          ],
          [
           "undistorted_GX010191_107_1330.jpg",
           0
          ],
          [
           "undistorted_GX010191_10_370.jpg",
           0
          ],
          [
           "undistorted_GX010191_110_1355.jpg",
           3
          ],
          [
           "undistorted_GX010191_13_439.jpg",
           0
          ],
          [
           "undistorted_GX010191_15_479.jpg",
           0
          ],
          [
           "undistorted_GX010191_16_495.jpg",
           2
          ],
          [
           "undistorted_GX010191_16_495.jpg",
           3
          ],
          [
           "undistorted_GX010191_31_283.jpg",
           2
          ],
          [
           "undistorted_GX010191_34_1128.jpg",
           1
          ],
          [
           "undistorted_GX010191_35_1167.jpg",
           1
          ],
          [
           "undistorted_GX010191_35_367.jpg",
           0
          ],
          [
           "undistorted_GX010191_36_1195.jpg",
           1
          ],
          [
           "undistorted_GX010191_36_381.jpg",
           0
          ],
          [
           "undistorted_GX010191_38_1266.jpg",
           0
          ],
          [
           "undistorted_GX010191_38_404.jpg",
           0
          ],
          [
           "undistorted_GX010191_39_416.jpg",
           0
          ],
          [
           "undistorted_GX010191_42_1339.jpg",
           0
          ],
          [
           "undistorted_GX010191_42_1339.jpg",
           5
          ],
          [
           "undistorted_GX010191_42_457.jpg",
           0
          ],
          [
           "undistorted_GX010191_42_457.jpg",
           3
          ],
          [
           "undistorted_GX010191_43_1353.jpg",
           0
          ],
          [
           "undistorted_GX010191_44_478.jpg",
           0
          ],
          [
           "undistorted_GX010191_46_497.jpg",
           1
          ],
          [
           "undistorted_GX010191_94_1132.jpg",
           0
          ],
          [
           "undistorted_GX010191_95_1157.jpg",
           1
          ],
          [
           "undistorted_GX010191_98_1211.jpg",
           0
          ],
          [
           "undistorted_GX010191_99_1233.jpg",
           1
          ],
          [
           "undistorted_GX010192_17_1035.jpg",
           0
          ],
          [
           "undistorted_GX010192_25_1553.jpg",
           0
          ],
          [
           "undistorted_GX010192_26_1578.jpg",
           0
          ],
          [
           "undistorted_GX010192_9_675.jpg",
           1
          ],
          [
           "undistorted_GX010193_17_1264.jpg",
           0
          ],
          [
           "undistorted_GX010193_18_1289.jpg",
           0
          ],
          [
           "undistorted_GX010193_19_1334.jpg",
           0
          ],
          [
           "undistorted_GX010193_20_1365.jpg",
           2
          ],
          [
           "undistorted_GX010194_36_485.jpg",
           1
          ],
          [
           "undistorted_GX010194_37_496.jpg",
           1
          ],
          [
           "undistorted_GX010194_38_504.jpg",
           1
          ],
          [
           "undistorted_GX010194_39_513.jpg",
           1
          ],
          [
           "undistorted_GX010194_60_836.jpg",
           0
          ]
         ],
         "hovertemplate": "pond=%{x}<br>Error_percentage_Box_fov=%{y}<br>image_path=%{customdata[0]}<br>index=%{customdata[1]}<extra></extra>",
         "legendgroup": "",
         "marker": {
          "color": "#636efa"
         },
         "name": "",
         "notched": false,
         "offsetgroup": "",
         "orientation": "v",
         "showlegend": false,
         "type": "box",
         "x": [
          700,
          700,
          700,
          700,
          700,
          700,
          700,
          700,
          700,
          700,
          700,
          700,
          700,
          700,
          700,
          700,
          700,
          700,
          700,
          700,
          700,
          700,
          700,
          700,
          700,
          700,
          700,
          700,
          700,
          700,
          700,
          410,
          410,
          410,
          410,
          410,
          410,
          410,
          410,
          410,
          410,
          410,
          410,
          410
         ],
         "x0": " ",
         "xaxis": "x",
         "y": [
          0.0136339434834394,
          1.8120911558320223,
          3.0838703603720217,
          3.5086558535308177,
          6.523901796366389,
          0.9025717256256096,
          0.7907783035648408,
          3.490852602670701,
          2.2480521559177924,
          6.020595532492573,
          7.4739923956431396,
          3.6709467257363744,
          9.542442818122137,
          8.73964039356084,
          0.1534263883963409,
          7.490828660084523,
          1.504410211067814,
          0.0843342407715586,
          12.732974238210325,
          5.043515222362314,
          0.9014701318457716,
          3.3367059479685808,
          9.345717752923829,
          4.298943035425912,
          3.63803935094563,
          4.342093941077574,
          2.7698711588255764,
          14.696641619990332,
          7.8966419597379875,
          6.458114107124242,
          9.369667907702883,
          9.995576975202264,
          5.530807753530357,
          8.65074244162312,
          8.586574040417847,
          2.3048032597630663,
          5.569928099730795,
          8.012448263440499,
          0.195391278349227,
          1.8156707089410569,
          2.144406045155077,
          5.189384970073551,
          4.2424359200103945,
          8.650497269164068
         ],
         "y0": " ",
         "yaxis": "y"
        }
       ],
       "layout": {
        "boxmode": "group",
        "legend": {
         "tracegroupgap": 0
        },
        "template": {
         "data": {
          "bar": [
           {
            "error_x": {
             "color": "#2a3f5f"
            },
            "error_y": {
             "color": "#2a3f5f"
            },
            "marker": {
             "line": {
              "color": "#E5ECF6",
              "width": 0.5
             },
             "pattern": {
              "fillmode": "overlay",
              "size": 10,
              "solidity": 0.2
             }
            },
            "type": "bar"
           }
          ],
          "barpolar": [
           {
            "marker": {
             "line": {
              "color": "#E5ECF6",
              "width": 0.5
             },
             "pattern": {
              "fillmode": "overlay",
              "size": 10,
              "solidity": 0.2
             }
            },
            "type": "barpolar"
           }
          ],
          "carpet": [
           {
            "aaxis": {
             "endlinecolor": "#2a3f5f",
             "gridcolor": "white",
             "linecolor": "white",
             "minorgridcolor": "white",
             "startlinecolor": "#2a3f5f"
            },
            "baxis": {
             "endlinecolor": "#2a3f5f",
             "gridcolor": "white",
             "linecolor": "white",
             "minorgridcolor": "white",
             "startlinecolor": "#2a3f5f"
            },
            "type": "carpet"
           }
          ],
          "choropleth": [
           {
            "colorbar": {
             "outlinewidth": 0,
             "ticks": ""
            },
            "type": "choropleth"
           }
          ],
          "contour": [
           {
            "colorbar": {
             "outlinewidth": 0,
             "ticks": ""
            },
            "colorscale": [
             [
              0,
              "#0d0887"
             ],
             [
              0.1111111111111111,
              "#46039f"
             ],
             [
              0.2222222222222222,
              "#7201a8"
             ],
             [
              0.3333333333333333,
              "#9c179e"
             ],
             [
              0.4444444444444444,
              "#bd3786"
             ],
             [
              0.5555555555555556,
              "#d8576b"
             ],
             [
              0.6666666666666666,
              "#ed7953"
             ],
             [
              0.7777777777777778,
              "#fb9f3a"
             ],
             [
              0.8888888888888888,
              "#fdca26"
             ],
             [
              1,
              "#f0f921"
             ]
            ],
            "type": "contour"
           }
          ],
          "contourcarpet": [
           {
            "colorbar": {
             "outlinewidth": 0,
             "ticks": ""
            },
            "type": "contourcarpet"
           }
          ],
          "heatmap": [
           {
            "colorbar": {
             "outlinewidth": 0,
             "ticks": ""
            },
            "colorscale": [
             [
              0,
              "#0d0887"
             ],
             [
              0.1111111111111111,
              "#46039f"
             ],
             [
              0.2222222222222222,
              "#7201a8"
             ],
             [
              0.3333333333333333,
              "#9c179e"
             ],
             [
              0.4444444444444444,
              "#bd3786"
             ],
             [
              0.5555555555555556,
              "#d8576b"
             ],
             [
              0.6666666666666666,
              "#ed7953"
             ],
             [
              0.7777777777777778,
              "#fb9f3a"
             ],
             [
              0.8888888888888888,
              "#fdca26"
             ],
             [
              1,
              "#f0f921"
             ]
            ],
            "type": "heatmap"
           }
          ],
          "heatmapgl": [
           {
            "colorbar": {
             "outlinewidth": 0,
             "ticks": ""
            },
            "colorscale": [
             [
              0,
              "#0d0887"
             ],
             [
              0.1111111111111111,
              "#46039f"
             ],
             [
              0.2222222222222222,
              "#7201a8"
             ],
             [
              0.3333333333333333,
              "#9c179e"
             ],
             [
              0.4444444444444444,
              "#bd3786"
             ],
             [
              0.5555555555555556,
              "#d8576b"
             ],
             [
              0.6666666666666666,
              "#ed7953"
             ],
             [
              0.7777777777777778,
              "#fb9f3a"
             ],
             [
              0.8888888888888888,
              "#fdca26"
             ],
             [
              1,
              "#f0f921"
             ]
            ],
            "type": "heatmapgl"
           }
          ],
          "histogram": [
           {
            "marker": {
             "pattern": {
              "fillmode": "overlay",
              "size": 10,
              "solidity": 0.2
             }
            },
            "type": "histogram"
           }
          ],
          "histogram2d": [
           {
            "colorbar": {
             "outlinewidth": 0,
             "ticks": ""
            },
            "colorscale": [
             [
              0,
              "#0d0887"
             ],
             [
              0.1111111111111111,
              "#46039f"
             ],
             [
              0.2222222222222222,
              "#7201a8"
             ],
             [
              0.3333333333333333,
              "#9c179e"
             ],
             [
              0.4444444444444444,
              "#bd3786"
             ],
             [
              0.5555555555555556,
              "#d8576b"
             ],
             [
              0.6666666666666666,
              "#ed7953"
             ],
             [
              0.7777777777777778,
              "#fb9f3a"
             ],
             [
              0.8888888888888888,
              "#fdca26"
             ],
             [
              1,
              "#f0f921"
             ]
            ],
            "type": "histogram2d"
           }
          ],
          "histogram2dcontour": [
           {
            "colorbar": {
             "outlinewidth": 0,
             "ticks": ""
            },
            "colorscale": [
             [
              0,
              "#0d0887"
             ],
             [
              0.1111111111111111,
              "#46039f"
             ],
             [
              0.2222222222222222,
              "#7201a8"
             ],
             [
              0.3333333333333333,
              "#9c179e"
             ],
             [
              0.4444444444444444,
              "#bd3786"
             ],
             [
              0.5555555555555556,
              "#d8576b"
             ],
             [
              0.6666666666666666,
              "#ed7953"
             ],
             [
              0.7777777777777778,
              "#fb9f3a"
             ],
             [
              0.8888888888888888,
              "#fdca26"
             ],
             [
              1,
              "#f0f921"
             ]
            ],
            "type": "histogram2dcontour"
           }
          ],
          "mesh3d": [
           {
            "colorbar": {
             "outlinewidth": 0,
             "ticks": ""
            },
            "type": "mesh3d"
           }
          ],
          "parcoords": [
           {
            "line": {
             "colorbar": {
              "outlinewidth": 0,
              "ticks": ""
             }
            },
            "type": "parcoords"
           }
          ],
          "pie": [
           {
            "automargin": true,
            "type": "pie"
           }
          ],
          "scatter": [
           {
            "fillpattern": {
             "fillmode": "overlay",
             "size": 10,
             "solidity": 0.2
            },
            "type": "scatter"
           }
          ],
          "scatter3d": [
           {
            "line": {
             "colorbar": {
              "outlinewidth": 0,
              "ticks": ""
             }
            },
            "marker": {
             "colorbar": {
              "outlinewidth": 0,
              "ticks": ""
             }
            },
            "type": "scatter3d"
           }
          ],
          "scattercarpet": [
           {
            "marker": {
             "colorbar": {
              "outlinewidth": 0,
              "ticks": ""
             }
            },
            "type": "scattercarpet"
           }
          ],
          "scattergeo": [
           {
            "marker": {
             "colorbar": {
              "outlinewidth": 0,
              "ticks": ""
             }
            },
            "type": "scattergeo"
           }
          ],
          "scattergl": [
           {
            "marker": {
             "colorbar": {
              "outlinewidth": 0,
              "ticks": ""
             }
            },
            "type": "scattergl"
           }
          ],
          "scattermapbox": [
           {
            "marker": {
             "colorbar": {
              "outlinewidth": 0,
              "ticks": ""
             }
            },
            "type": "scattermapbox"
           }
          ],
          "scatterpolar": [
           {
            "marker": {
             "colorbar": {
              "outlinewidth": 0,
              "ticks": ""
             }
            },
            "type": "scatterpolar"
           }
          ],
          "scatterpolargl": [
           {
            "marker": {
             "colorbar": {
              "outlinewidth": 0,
              "ticks": ""
             }
            },
            "type": "scatterpolargl"
           }
          ],
          "scatterternary": [
           {
            "marker": {
             "colorbar": {
              "outlinewidth": 0,
              "ticks": ""
             }
            },
            "type": "scatterternary"
           }
          ],
          "surface": [
           {
            "colorbar": {
             "outlinewidth": 0,
             "ticks": ""
            },
            "colorscale": [
             [
              0,
              "#0d0887"
             ],
             [
              0.1111111111111111,
              "#46039f"
             ],
             [
              0.2222222222222222,
              "#7201a8"
             ],
             [
              0.3333333333333333,
              "#9c179e"
             ],
             [
              0.4444444444444444,
              "#bd3786"
             ],
             [
              0.5555555555555556,
              "#d8576b"
             ],
             [
              0.6666666666666666,
              "#ed7953"
             ],
             [
              0.7777777777777778,
              "#fb9f3a"
             ],
             [
              0.8888888888888888,
              "#fdca26"
             ],
             [
              1,
              "#f0f921"
             ]
            ],
            "type": "surface"
           }
          ],
          "table": [
           {
            "cells": {
             "fill": {
              "color": "#EBF0F8"
             },
             "line": {
              "color": "white"
             }
            },
            "header": {
             "fill": {
              "color": "#C8D4E3"
             },
             "line": {
              "color": "white"
             }
            },
            "type": "table"
           }
          ]
         },
         "layout": {
          "annotationdefaults": {
           "arrowcolor": "#2a3f5f",
           "arrowhead": 0,
           "arrowwidth": 1
          },
          "autotypenumbers": "strict",
          "coloraxis": {
           "colorbar": {
            "outlinewidth": 0,
            "ticks": ""
           }
          },
          "colorscale": {
           "diverging": [
            [
             0,
             "#8e0152"
            ],
            [
             0.1,
             "#c51b7d"
            ],
            [
             0.2,
             "#de77ae"
            ],
            [
             0.3,
             "#f1b6da"
            ],
            [
             0.4,
             "#fde0ef"
            ],
            [
             0.5,
             "#f7f7f7"
            ],
            [
             0.6,
             "#e6f5d0"
            ],
            [
             0.7,
             "#b8e186"
            ],
            [
             0.8,
             "#7fbc41"
            ],
            [
             0.9,
             "#4d9221"
            ],
            [
             1,
             "#276419"
            ]
           ],
           "sequential": [
            [
             0,
             "#0d0887"
            ],
            [
             0.1111111111111111,
             "#46039f"
            ],
            [
             0.2222222222222222,
             "#7201a8"
            ],
            [
             0.3333333333333333,
             "#9c179e"
            ],
            [
             0.4444444444444444,
             "#bd3786"
            ],
            [
             0.5555555555555556,
             "#d8576b"
            ],
            [
             0.6666666666666666,
             "#ed7953"
            ],
            [
             0.7777777777777778,
             "#fb9f3a"
            ],
            [
             0.8888888888888888,
             "#fdca26"
            ],
            [
             1,
             "#f0f921"
            ]
           ],
           "sequentialminus": [
            [
             0,
             "#0d0887"
            ],
            [
             0.1111111111111111,
             "#46039f"
            ],
            [
             0.2222222222222222,
             "#7201a8"
            ],
            [
             0.3333333333333333,
             "#9c179e"
            ],
            [
             0.4444444444444444,
             "#bd3786"
            ],
            [
             0.5555555555555556,
             "#d8576b"
            ],
            [
             0.6666666666666666,
             "#ed7953"
            ],
            [
             0.7777777777777778,
             "#fb9f3a"
            ],
            [
             0.8888888888888888,
             "#fdca26"
            ],
            [
             1,
             "#f0f921"
            ]
           ]
          },
          "colorway": [
           "#636efa",
           "#EF553B",
           "#00cc96",
           "#ab63fa",
           "#FFA15A",
           "#19d3f3",
           "#FF6692",
           "#B6E880",
           "#FF97FF",
           "#FECB52"
          ],
          "font": {
           "color": "#2a3f5f"
          },
          "geo": {
           "bgcolor": "white",
           "lakecolor": "white",
           "landcolor": "#E5ECF6",
           "showlakes": true,
           "showland": true,
           "subunitcolor": "white"
          },
          "hoverlabel": {
           "align": "left"
          },
          "hovermode": "closest",
          "mapbox": {
           "style": "light"
          },
          "paper_bgcolor": "white",
          "plot_bgcolor": "#E5ECF6",
          "polar": {
           "angularaxis": {
            "gridcolor": "white",
            "linecolor": "white",
            "ticks": ""
           },
           "bgcolor": "#E5ECF6",
           "radialaxis": {
            "gridcolor": "white",
            "linecolor": "white",
            "ticks": ""
           }
          },
          "scene": {
           "xaxis": {
            "backgroundcolor": "#E5ECF6",
            "gridcolor": "white",
            "gridwidth": 2,
            "linecolor": "white",
            "showbackground": true,
            "ticks": "",
            "zerolinecolor": "white"
           },
           "yaxis": {
            "backgroundcolor": "#E5ECF6",
            "gridcolor": "white",
            "gridwidth": 2,
            "linecolor": "white",
            "showbackground": true,
            "ticks": "",
            "zerolinecolor": "white"
           },
           "zaxis": {
            "backgroundcolor": "#E5ECF6",
            "gridcolor": "white",
            "gridwidth": 2,
            "linecolor": "white",
            "showbackground": true,
            "ticks": "",
            "zerolinecolor": "white"
           }
          },
          "shapedefaults": {
           "line": {
            "color": "#2a3f5f"
           }
          },
          "ternary": {
           "aaxis": {
            "gridcolor": "white",
            "linecolor": "white",
            "ticks": ""
           },
           "baxis": {
            "gridcolor": "white",
            "linecolor": "white",
            "ticks": ""
           },
           "bgcolor": "#E5ECF6",
           "caxis": {
            "gridcolor": "white",
            "linecolor": "white",
            "ticks": ""
           }
          },
          "title": {
           "x": 0.05
          },
          "xaxis": {
           "automargin": true,
           "gridcolor": "white",
           "linecolor": "white",
           "ticks": "",
           "title": {
            "standoff": 15
           },
           "zerolinecolor": "white",
           "zerolinewidth": 2
          },
          "yaxis": {
           "automargin": true,
           "gridcolor": "white",
           "linecolor": "white",
           "ticks": "",
           "title": {
            "standoff": 15
           },
           "zerolinecolor": "white",
           "zerolinewidth": 2
          }
         }
        },
        "title": {
         "text": "Box plot of Error_percentage_Box_fov for 143mm"
        },
        "xaxis": {
         "anchor": "y",
         "domain": [
          0,
          1
         ],
         "title": {
          "text": "pond"
         }
        },
        "yaxis": {
         "anchor": "x",
         "domain": [
          0,
          1
         ],
         "title": {
          "text": "Error_percentage_Box_fov"
         }
        }
       }
      }
     },
     "metadata": {},
     "output_type": "display_data"
    },
    {
     "data": {
      "application/vnd.plotly.v1+json": {
       "config": {
        "plotlyServerURL": "https://plot.ly"
       },
       "data": [
        {
         "alignmentgroup": "True",
         "boxpoints": "all",
         "customdata": [
          [
           "undistorted_GX010191_116_1399.jpg",
           0
          ],
          [
           "undistorted_GX010191_16_495.jpg",
           1
          ],
          [
           "undistorted_GX010191_17_509.jpg",
           1
          ],
          [
           "undistorted_GX010191_18_521.jpg",
           0
          ],
          [
           "undistorted_GX010191_19_537.jpg",
           0
          ],
          [
           "undistorted_GX010191_29_257.jpg",
           1
          ],
          [
           "undistorted_GX010191_31_283.jpg",
           1
          ],
          [
           "undistorted_GX010191_32_1049.jpg",
           0
          ],
          [
           "undistorted_GX010191_33_1087.jpg",
           1
          ],
          [
           "undistorted_GX010191_33_331.jpg",
           0
          ],
          [
           "undistorted_GX010191_33_331.jpg",
           2
          ],
          [
           "undistorted_GX010191_34_1128.jpg",
           0
          ],
          [
           "undistorted_GX010191_35_1167.jpg",
           0
          ],
          [
           "undistorted_GX010191_35_1167.jpg",
           4
          ],
          [
           "undistorted_GX010191_42_1339.jpg",
           1
          ],
          [
           "undistorted_GX010191_43_1353.jpg",
           3
          ],
          [
           "undistorted_GX010191_44_478.jpg",
           1
          ],
          [
           "undistorted_GX010191_51_535.jpg",
           0
          ],
          [
           "undistorted_GX010191_5_190.jpg",
           2
          ],
          [
           "undistorted_GX010191_6_219.jpg",
           0
          ],
          [
           "undistorted_GX010191_88_1016.jpg",
           0
          ],
          [
           "undistorted_GX010191_91_1066.jpg",
           2
          ],
          [
           "undistorted_GX010191_92_1087.jpg",
           1
          ],
          [
           "undistorted_GX010191_95_1157.jpg",
           0
          ],
          [
           "undistorted_GX010191_96_1175.jpg",
           0
          ],
          [
           "undistorted_GX010191_97_1190.jpg",
           0
          ],
          [
           "undistorted_GX010191_98_1211.jpg",
           1
          ],
          [
           "undistorted_GX010193_10_1039.jpg",
           0
          ],
          [
           "undistorted_GX010193_11_1065.jpg",
           0
          ],
          [
           "undistorted_GX010193_27_1553.jpg",
           1
          ],
          [
           "undistorted_GX010193_3_251.jpg",
           0
          ],
          [
           "undistorted_GX010193_4_283.jpg",
           1
          ],
          [
           "undistorted_GX010194_15_231.jpg",
           0
          ],
          [
           "undistorted_GX010194_16_240.jpg",
           0
          ],
          [
           "undistorted_GX010194_17_257.jpg",
           1
          ],
          [
           "undistorted_GX010194_18_272.jpg",
           0
          ],
          [
           "undistorted_GX010194_19_285.jpg",
           0
          ],
          [
           "undistorted_GX010194_46_620.jpg",
           1
          ],
          [
           "undistorted_GX010194_55_768.jpg",
           2
          ],
          [
           "undistorted_GX010194_56_784.jpg",
           0
          ],
          [
           "undistorted_GX010194_57_798.jpg",
           0
          ],
          [
           "undistorted_GX010194_58_810.jpg",
           2
          ]
         ],
         "hovertemplate": "pond=%{x}<br>Error_percentage_Box_fov=%{y}<br>image_path=%{customdata[0]}<br>index=%{customdata[1]}<extra></extra>",
         "legendgroup": "",
         "marker": {
          "color": "#636efa"
         },
         "name": "",
         "notched": false,
         "offsetgroup": "",
         "orientation": "v",
         "showlegend": false,
         "type": "box",
         "x": [
          700,
          700,
          700,
          700,
          700,
          700,
          700,
          700,
          700,
          700,
          700,
          700,
          700,
          700,
          700,
          700,
          700,
          700,
          700,
          700,
          700,
          700,
          700,
          700,
          700,
          700,
          700,
          410,
          410,
          410,
          410,
          410,
          410,
          410,
          410,
          410,
          410,
          410,
          410,
          410,
          410,
          410
         ],
         "x0": " ",
         "xaxis": "x",
         "y": [
          5.975328763042885,
          2.3795288493261384,
          4.757477930610763,
          4.552162393235445,
          3.4959151027176936,
          9.982622441140812,
          2.1254162027206447,
          6.34178633248581,
          5.034060359877436,
          2.3807099979088755,
          2.463762370738086,
          3.032872955451956,
          9.219436018739612,
          9.219436018739612,
          4.217648410474498,
          1.4590067072199986,
          0.4580353839328034,
          4.165879632733878,
          8.094449440723537,
          6.448006215154514,
          13.964859161644211,
          6.151975926031684,
          5.034060359877436,
          9.042962638362296,
          4.067762424874752,
          10.581690640514047,
          11.452303694513988,
          0.497087777198099,
          4.569637525714635,
          7.177365986099475,
          10.450913297142424,
          2.288543257793773,
          7.836043125359062,
          4.18524990540427,
          6.538605793011637,
          8.223544063252081,
          1.2165370732050935,
          4.711842119229664,
          5.570269280039733,
          13.301510088956045,
          9.521202213306278,
          11.218246915477042
         ],
         "y0": " ",
         "yaxis": "y"
        }
       ],
       "layout": {
        "boxmode": "group",
        "legend": {
         "tracegroupgap": 0
        },
        "template": {
         "data": {
          "bar": [
           {
            "error_x": {
             "color": "#2a3f5f"
            },
            "error_y": {
             "color": "#2a3f5f"
            },
            "marker": {
             "line": {
              "color": "#E5ECF6",
              "width": 0.5
             },
             "pattern": {
              "fillmode": "overlay",
              "size": 10,
              "solidity": 0.2
             }
            },
            "type": "bar"
           }
          ],
          "barpolar": [
           {
            "marker": {
             "line": {
              "color": "#E5ECF6",
              "width": 0.5
             },
             "pattern": {
              "fillmode": "overlay",
              "size": 10,
              "solidity": 0.2
             }
            },
            "type": "barpolar"
           }
          ],
          "carpet": [
           {
            "aaxis": {
             "endlinecolor": "#2a3f5f",
             "gridcolor": "white",
             "linecolor": "white",
             "minorgridcolor": "white",
             "startlinecolor": "#2a3f5f"
            },
            "baxis": {
             "endlinecolor": "#2a3f5f",
             "gridcolor": "white",
             "linecolor": "white",
             "minorgridcolor": "white",
             "startlinecolor": "#2a3f5f"
            },
            "type": "carpet"
           }
          ],
          "choropleth": [
           {
            "colorbar": {
             "outlinewidth": 0,
             "ticks": ""
            },
            "type": "choropleth"
           }
          ],
          "contour": [
           {
            "colorbar": {
             "outlinewidth": 0,
             "ticks": ""
            },
            "colorscale": [
             [
              0,
              "#0d0887"
             ],
             [
              0.1111111111111111,
              "#46039f"
             ],
             [
              0.2222222222222222,
              "#7201a8"
             ],
             [
              0.3333333333333333,
              "#9c179e"
             ],
             [
              0.4444444444444444,
              "#bd3786"
             ],
             [
              0.5555555555555556,
              "#d8576b"
             ],
             [
              0.6666666666666666,
              "#ed7953"
             ],
             [
              0.7777777777777778,
              "#fb9f3a"
             ],
             [
              0.8888888888888888,
              "#fdca26"
             ],
             [
              1,
              "#f0f921"
             ]
            ],
            "type": "contour"
           }
          ],
          "contourcarpet": [
           {
            "colorbar": {
             "outlinewidth": 0,
             "ticks": ""
            },
            "type": "contourcarpet"
           }
          ],
          "heatmap": [
           {
            "colorbar": {
             "outlinewidth": 0,
             "ticks": ""
            },
            "colorscale": [
             [
              0,
              "#0d0887"
             ],
             [
              0.1111111111111111,
              "#46039f"
             ],
             [
              0.2222222222222222,
              "#7201a8"
             ],
             [
              0.3333333333333333,
              "#9c179e"
             ],
             [
              0.4444444444444444,
              "#bd3786"
             ],
             [
              0.5555555555555556,
              "#d8576b"
             ],
             [
              0.6666666666666666,
              "#ed7953"
             ],
             [
              0.7777777777777778,
              "#fb9f3a"
             ],
             [
              0.8888888888888888,
              "#fdca26"
             ],
             [
              1,
              "#f0f921"
             ]
            ],
            "type": "heatmap"
           }
          ],
          "heatmapgl": [
           {
            "colorbar": {
             "outlinewidth": 0,
             "ticks": ""
            },
            "colorscale": [
             [
              0,
              "#0d0887"
             ],
             [
              0.1111111111111111,
              "#46039f"
             ],
             [
              0.2222222222222222,
              "#7201a8"
             ],
             [
              0.3333333333333333,
              "#9c179e"
             ],
             [
              0.4444444444444444,
              "#bd3786"
             ],
             [
              0.5555555555555556,
              "#d8576b"
             ],
             [
              0.6666666666666666,
              "#ed7953"
             ],
             [
              0.7777777777777778,
              "#fb9f3a"
             ],
             [
              0.8888888888888888,
              "#fdca26"
             ],
             [
              1,
              "#f0f921"
             ]
            ],
            "type": "heatmapgl"
           }
          ],
          "histogram": [
           {
            "marker": {
             "pattern": {
              "fillmode": "overlay",
              "size": 10,
              "solidity": 0.2
             }
            },
            "type": "histogram"
           }
          ],
          "histogram2d": [
           {
            "colorbar": {
             "outlinewidth": 0,
             "ticks": ""
            },
            "colorscale": [
             [
              0,
              "#0d0887"
             ],
             [
              0.1111111111111111,
              "#46039f"
             ],
             [
              0.2222222222222222,
              "#7201a8"
             ],
             [
              0.3333333333333333,
              "#9c179e"
             ],
             [
              0.4444444444444444,
              "#bd3786"
             ],
             [
              0.5555555555555556,
              "#d8576b"
             ],
             [
              0.6666666666666666,
              "#ed7953"
             ],
             [
              0.7777777777777778,
              "#fb9f3a"
             ],
             [
              0.8888888888888888,
              "#fdca26"
             ],
             [
              1,
              "#f0f921"
             ]
            ],
            "type": "histogram2d"
           }
          ],
          "histogram2dcontour": [
           {
            "colorbar": {
             "outlinewidth": 0,
             "ticks": ""
            },
            "colorscale": [
             [
              0,
              "#0d0887"
             ],
             [
              0.1111111111111111,
              "#46039f"
             ],
             [
              0.2222222222222222,
              "#7201a8"
             ],
             [
              0.3333333333333333,
              "#9c179e"
             ],
             [
              0.4444444444444444,
              "#bd3786"
             ],
             [
              0.5555555555555556,
              "#d8576b"
             ],
             [
              0.6666666666666666,
              "#ed7953"
             ],
             [
              0.7777777777777778,
              "#fb9f3a"
             ],
             [
              0.8888888888888888,
              "#fdca26"
             ],
             [
              1,
              "#f0f921"
             ]
            ],
            "type": "histogram2dcontour"
           }
          ],
          "mesh3d": [
           {
            "colorbar": {
             "outlinewidth": 0,
             "ticks": ""
            },
            "type": "mesh3d"
           }
          ],
          "parcoords": [
           {
            "line": {
             "colorbar": {
              "outlinewidth": 0,
              "ticks": ""
             }
            },
            "type": "parcoords"
           }
          ],
          "pie": [
           {
            "automargin": true,
            "type": "pie"
           }
          ],
          "scatter": [
           {
            "fillpattern": {
             "fillmode": "overlay",
             "size": 10,
             "solidity": 0.2
            },
            "type": "scatter"
           }
          ],
          "scatter3d": [
           {
            "line": {
             "colorbar": {
              "outlinewidth": 0,
              "ticks": ""
             }
            },
            "marker": {
             "colorbar": {
              "outlinewidth": 0,
              "ticks": ""
             }
            },
            "type": "scatter3d"
           }
          ],
          "scattercarpet": [
           {
            "marker": {
             "colorbar": {
              "outlinewidth": 0,
              "ticks": ""
             }
            },
            "type": "scattercarpet"
           }
          ],
          "scattergeo": [
           {
            "marker": {
             "colorbar": {
              "outlinewidth": 0,
              "ticks": ""
             }
            },
            "type": "scattergeo"
           }
          ],
          "scattergl": [
           {
            "marker": {
             "colorbar": {
              "outlinewidth": 0,
              "ticks": ""
             }
            },
            "type": "scattergl"
           }
          ],
          "scattermapbox": [
           {
            "marker": {
             "colorbar": {
              "outlinewidth": 0,
              "ticks": ""
             }
            },
            "type": "scattermapbox"
           }
          ],
          "scatterpolar": [
           {
            "marker": {
             "colorbar": {
              "outlinewidth": 0,
              "ticks": ""
             }
            },
            "type": "scatterpolar"
           }
          ],
          "scatterpolargl": [
           {
            "marker": {
             "colorbar": {
              "outlinewidth": 0,
              "ticks": ""
             }
            },
            "type": "scatterpolargl"
           }
          ],
          "scatterternary": [
           {
            "marker": {
             "colorbar": {
              "outlinewidth": 0,
              "ticks": ""
             }
            },
            "type": "scatterternary"
           }
          ],
          "surface": [
           {
            "colorbar": {
             "outlinewidth": 0,
             "ticks": ""
            },
            "colorscale": [
             [
              0,
              "#0d0887"
             ],
             [
              0.1111111111111111,
              "#46039f"
             ],
             [
              0.2222222222222222,
              "#7201a8"
             ],
             [
              0.3333333333333333,
              "#9c179e"
             ],
             [
              0.4444444444444444,
              "#bd3786"
             ],
             [
              0.5555555555555556,
              "#d8576b"
             ],
             [
              0.6666666666666666,
              "#ed7953"
             ],
             [
              0.7777777777777778,
              "#fb9f3a"
             ],
             [
              0.8888888888888888,
              "#fdca26"
             ],
             [
              1,
              "#f0f921"
             ]
            ],
            "type": "surface"
           }
          ],
          "table": [
           {
            "cells": {
             "fill": {
              "color": "#EBF0F8"
             },
             "line": {
              "color": "white"
             }
            },
            "header": {
             "fill": {
              "color": "#C8D4E3"
             },
             "line": {
              "color": "white"
             }
            },
            "type": "table"
           }
          ]
         },
         "layout": {
          "annotationdefaults": {
           "arrowcolor": "#2a3f5f",
           "arrowhead": 0,
           "arrowwidth": 1
          },
          "autotypenumbers": "strict",
          "coloraxis": {
           "colorbar": {
            "outlinewidth": 0,
            "ticks": ""
           }
          },
          "colorscale": {
           "diverging": [
            [
             0,
             "#8e0152"
            ],
            [
             0.1,
             "#c51b7d"
            ],
            [
             0.2,
             "#de77ae"
            ],
            [
             0.3,
             "#f1b6da"
            ],
            [
             0.4,
             "#fde0ef"
            ],
            [
             0.5,
             "#f7f7f7"
            ],
            [
             0.6,
             "#e6f5d0"
            ],
            [
             0.7,
             "#b8e186"
            ],
            [
             0.8,
             "#7fbc41"
            ],
            [
             0.9,
             "#4d9221"
            ],
            [
             1,
             "#276419"
            ]
           ],
           "sequential": [
            [
             0,
             "#0d0887"
            ],
            [
             0.1111111111111111,
             "#46039f"
            ],
            [
             0.2222222222222222,
             "#7201a8"
            ],
            [
             0.3333333333333333,
             "#9c179e"
            ],
            [
             0.4444444444444444,
             "#bd3786"
            ],
            [
             0.5555555555555556,
             "#d8576b"
            ],
            [
             0.6666666666666666,
             "#ed7953"
            ],
            [
             0.7777777777777778,
             "#fb9f3a"
            ],
            [
             0.8888888888888888,
             "#fdca26"
            ],
            [
             1,
             "#f0f921"
            ]
           ],
           "sequentialminus": [
            [
             0,
             "#0d0887"
            ],
            [
             0.1111111111111111,
             "#46039f"
            ],
            [
             0.2222222222222222,
             "#7201a8"
            ],
            [
             0.3333333333333333,
             "#9c179e"
            ],
            [
             0.4444444444444444,
             "#bd3786"
            ],
            [
             0.5555555555555556,
             "#d8576b"
            ],
            [
             0.6666666666666666,
             "#ed7953"
            ],
            [
             0.7777777777777778,
             "#fb9f3a"
            ],
            [
             0.8888888888888888,
             "#fdca26"
            ],
            [
             1,
             "#f0f921"
            ]
           ]
          },
          "colorway": [
           "#636efa",
           "#EF553B",
           "#00cc96",
           "#ab63fa",
           "#FFA15A",
           "#19d3f3",
           "#FF6692",
           "#B6E880",
           "#FF97FF",
           "#FECB52"
          ],
          "font": {
           "color": "#2a3f5f"
          },
          "geo": {
           "bgcolor": "white",
           "lakecolor": "white",
           "landcolor": "#E5ECF6",
           "showlakes": true,
           "showland": true,
           "subunitcolor": "white"
          },
          "hoverlabel": {
           "align": "left"
          },
          "hovermode": "closest",
          "mapbox": {
           "style": "light"
          },
          "paper_bgcolor": "white",
          "plot_bgcolor": "#E5ECF6",
          "polar": {
           "angularaxis": {
            "gridcolor": "white",
            "linecolor": "white",
            "ticks": ""
           },
           "bgcolor": "#E5ECF6",
           "radialaxis": {
            "gridcolor": "white",
            "linecolor": "white",
            "ticks": ""
           }
          },
          "scene": {
           "xaxis": {
            "backgroundcolor": "#E5ECF6",
            "gridcolor": "white",
            "gridwidth": 2,
            "linecolor": "white",
            "showbackground": true,
            "ticks": "",
            "zerolinecolor": "white"
           },
           "yaxis": {
            "backgroundcolor": "#E5ECF6",
            "gridcolor": "white",
            "gridwidth": 2,
            "linecolor": "white",
            "showbackground": true,
            "ticks": "",
            "zerolinecolor": "white"
           },
           "zaxis": {
            "backgroundcolor": "#E5ECF6",
            "gridcolor": "white",
            "gridwidth": 2,
            "linecolor": "white",
            "showbackground": true,
            "ticks": "",
            "zerolinecolor": "white"
           }
          },
          "shapedefaults": {
           "line": {
            "color": "#2a3f5f"
           }
          },
          "ternary": {
           "aaxis": {
            "gridcolor": "white",
            "linecolor": "white",
            "ticks": ""
           },
           "baxis": {
            "gridcolor": "white",
            "linecolor": "white",
            "ticks": ""
           },
           "bgcolor": "#E5ECF6",
           "caxis": {
            "gridcolor": "white",
            "linecolor": "white",
            "ticks": ""
           }
          },
          "title": {
           "x": 0.05
          },
          "xaxis": {
           "automargin": true,
           "gridcolor": "white",
           "linecolor": "white",
           "ticks": "",
           "title": {
            "standoff": 15
           },
           "zerolinecolor": "white",
           "zerolinewidth": 2
          },
          "yaxis": {
           "automargin": true,
           "gridcolor": "white",
           "linecolor": "white",
           "ticks": "",
           "title": {
            "standoff": 15
           },
           "zerolinecolor": "white",
           "zerolinewidth": 2
          }
         }
        },
        "title": {
         "text": "Box plot of Error_percentage_Box_fov for 180mm"
        },
        "xaxis": {
         "anchor": "y",
         "domain": [
          0,
          1
         ],
         "title": {
          "text": "pond"
         }
        },
        "yaxis": {
         "anchor": "x",
         "domain": [
          0,
          1
         ],
         "title": {
          "text": "Error_percentage_Box_fov"
         }
        }
       }
      }
     },
     "metadata": {},
     "output_type": "display_data"
    },
    {
     "data": {
      "application/vnd.plotly.v1+json": {
       "config": {
        "plotlyServerURL": "https://plot.ly"
       },
       "data": [
        {
         "alignmentgroup": "True",
         "boxpoints": "all",
         "customdata": [
          [
           "undistorted_GX010191_101_1265.jpg",
           0
          ],
          [
           "undistorted_GX010191_102_1277.jpg",
           0
          ],
          [
           "undistorted_GX010191_103_1289.jpg",
           0
          ],
          [
           "undistorted_GX010191_105_1312.jpg",
           0
          ],
          [
           "undistorted_GX010191_107_1330.jpg",
           0
          ],
          [
           "undistorted_GX010191_10_370.jpg",
           0
          ],
          [
           "undistorted_GX010191_110_1355.jpg",
           3
          ],
          [
           "undistorted_GX010191_13_439.jpg",
           0
          ],
          [
           "undistorted_GX010191_15_479.jpg",
           0
          ],
          [
           "undistorted_GX010191_16_495.jpg",
           2
          ],
          [
           "undistorted_GX010191_16_495.jpg",
           3
          ],
          [
           "undistorted_GX010191_31_283.jpg",
           2
          ],
          [
           "undistorted_GX010191_34_1128.jpg",
           1
          ],
          [
           "undistorted_GX010191_35_1167.jpg",
           1
          ],
          [
           "undistorted_GX010191_35_367.jpg",
           0
          ],
          [
           "undistorted_GX010191_36_1195.jpg",
           1
          ],
          [
           "undistorted_GX010191_36_381.jpg",
           0
          ],
          [
           "undistorted_GX010191_38_1266.jpg",
           0
          ],
          [
           "undistorted_GX010191_38_404.jpg",
           0
          ],
          [
           "undistorted_GX010191_39_416.jpg",
           0
          ],
          [
           "undistorted_GX010191_42_1339.jpg",
           0
          ],
          [
           "undistorted_GX010191_42_1339.jpg",
           5
          ],
          [
           "undistorted_GX010191_42_457.jpg",
           0
          ],
          [
           "undistorted_GX010191_42_457.jpg",
           3
          ],
          [
           "undistorted_GX010191_43_1353.jpg",
           0
          ],
          [
           "undistorted_GX010191_44_478.jpg",
           0
          ],
          [
           "undistorted_GX010191_46_497.jpg",
           1
          ],
          [
           "undistorted_GX010191_94_1132.jpg",
           0
          ],
          [
           "undistorted_GX010191_95_1157.jpg",
           1
          ],
          [
           "undistorted_GX010191_98_1211.jpg",
           0
          ],
          [
           "undistorted_GX010191_99_1233.jpg",
           1
          ],
          [
           "undistorted_GX010192_17_1035.jpg",
           0
          ],
          [
           "undistorted_GX010192_25_1553.jpg",
           0
          ],
          [
           "undistorted_GX010192_26_1578.jpg",
           0
          ],
          [
           "undistorted_GX010192_9_675.jpg",
           1
          ],
          [
           "undistorted_GX010193_17_1264.jpg",
           0
          ],
          [
           "undistorted_GX010193_18_1289.jpg",
           0
          ],
          [
           "undistorted_GX010193_19_1334.jpg",
           0
          ],
          [
           "undistorted_GX010193_20_1365.jpg",
           2
          ],
          [
           "undistorted_GX010194_36_485.jpg",
           1
          ],
          [
           "undistorted_GX010194_37_496.jpg",
           1
          ],
          [
           "undistorted_GX010194_38_504.jpg",
           1
          ],
          [
           "undistorted_GX010194_39_513.jpg",
           1
          ],
          [
           "undistorted_GX010194_60_836.jpg",
           0
          ]
         ],
         "hovertemplate": "pond=%{x}<br>MAE_Box_fov=%{y}<br>image_path=%{customdata[0]}<br>index=%{customdata[1]}<extra></extra>",
         "legendgroup": "",
         "marker": {
          "color": "#636efa"
         },
         "name": "",
         "notched": false,
         "offsetgroup": "",
         "orientation": "v",
         "showlegend": false,
         "type": "box",
         "x": [
          700,
          700,
          700,
          700,
          700,
          700,
          700,
          700,
          700,
          700,
          700,
          700,
          700,
          700,
          700,
          700,
          700,
          700,
          700,
          700,
          700,
          700,
          700,
          700,
          700,
          700,
          700,
          700,
          700,
          700,
          700,
          410,
          410,
          410,
          410,
          410,
          410,
          410,
          410,
          410,
          410,
          410,
          410,
          410
         ],
         "x0": " ",
         "xaxis": "x",
         "y": [
          0.0194965391813184,
          2.591290352839792,
          4.409934615331991,
          5.017377870549069,
          9.329179568803935,
          1.2906775676446216,
          1.1308129740977222,
          4.991919221819103,
          3.2147145829624435,
          8.60945161146438,
          10.68780912576969,
          5.249453817803016,
          13.645693229914656,
          12.497685762792004,
          0.2193997354067676,
          10.711884983920868,
          2.151306601826974,
          0.1205979643033288,
          18.20815316064076,
          7.212226767978109,
          1.2891022885394534,
          4.771489505595071,
          13.364376386681071,
          6.147488540659055,
          5.202396271852251,
          6.209194335740932,
          3.960915757120574,
          21.01619751658617,
          11.292198002425325,
          9.235103173187667,
          13.398625108015125,
          14.293675074539236,
          7.90905508754841,
          12.37056169152106,
          12.278800877797522,
          3.295868661461185,
          7.964997182615036,
          11.457801016719912,
          0.2794095280393947,
          2.596409113785711,
          3.066500644571761,
          7.420820507205178,
          6.066683365614864,
          12.37021109490462
         ],
         "y0": " ",
         "yaxis": "y"
        }
       ],
       "layout": {
        "boxmode": "group",
        "legend": {
         "tracegroupgap": 0
        },
        "template": {
         "data": {
          "bar": [
           {
            "error_x": {
             "color": "#2a3f5f"
            },
            "error_y": {
             "color": "#2a3f5f"
            },
            "marker": {
             "line": {
              "color": "#E5ECF6",
              "width": 0.5
             },
             "pattern": {
              "fillmode": "overlay",
              "size": 10,
              "solidity": 0.2
             }
            },
            "type": "bar"
           }
          ],
          "barpolar": [
           {
            "marker": {
             "line": {
              "color": "#E5ECF6",
              "width": 0.5
             },
             "pattern": {
              "fillmode": "overlay",
              "size": 10,
              "solidity": 0.2
             }
            },
            "type": "barpolar"
           }
          ],
          "carpet": [
           {
            "aaxis": {
             "endlinecolor": "#2a3f5f",
             "gridcolor": "white",
             "linecolor": "white",
             "minorgridcolor": "white",
             "startlinecolor": "#2a3f5f"
            },
            "baxis": {
             "endlinecolor": "#2a3f5f",
             "gridcolor": "white",
             "linecolor": "white",
             "minorgridcolor": "white",
             "startlinecolor": "#2a3f5f"
            },
            "type": "carpet"
           }
          ],
          "choropleth": [
           {
            "colorbar": {
             "outlinewidth": 0,
             "ticks": ""
            },
            "type": "choropleth"
           }
          ],
          "contour": [
           {
            "colorbar": {
             "outlinewidth": 0,
             "ticks": ""
            },
            "colorscale": [
             [
              0,
              "#0d0887"
             ],
             [
              0.1111111111111111,
              "#46039f"
             ],
             [
              0.2222222222222222,
              "#7201a8"
             ],
             [
              0.3333333333333333,
              "#9c179e"
             ],
             [
              0.4444444444444444,
              "#bd3786"
             ],
             [
              0.5555555555555556,
              "#d8576b"
             ],
             [
              0.6666666666666666,
              "#ed7953"
             ],
             [
              0.7777777777777778,
              "#fb9f3a"
             ],
             [
              0.8888888888888888,
              "#fdca26"
             ],
             [
              1,
              "#f0f921"
             ]
            ],
            "type": "contour"
           }
          ],
          "contourcarpet": [
           {
            "colorbar": {
             "outlinewidth": 0,
             "ticks": ""
            },
            "type": "contourcarpet"
           }
          ],
          "heatmap": [
           {
            "colorbar": {
             "outlinewidth": 0,
             "ticks": ""
            },
            "colorscale": [
             [
              0,
              "#0d0887"
             ],
             [
              0.1111111111111111,
              "#46039f"
             ],
             [
              0.2222222222222222,
              "#7201a8"
             ],
             [
              0.3333333333333333,
              "#9c179e"
             ],
             [
              0.4444444444444444,
              "#bd3786"
             ],
             [
              0.5555555555555556,
              "#d8576b"
             ],
             [
              0.6666666666666666,
              "#ed7953"
             ],
             [
              0.7777777777777778,
              "#fb9f3a"
             ],
             [
              0.8888888888888888,
              "#fdca26"
             ],
             [
              1,
              "#f0f921"
             ]
            ],
            "type": "heatmap"
           }
          ],
          "heatmapgl": [
           {
            "colorbar": {
             "outlinewidth": 0,
             "ticks": ""
            },
            "colorscale": [
             [
              0,
              "#0d0887"
             ],
             [
              0.1111111111111111,
              "#46039f"
             ],
             [
              0.2222222222222222,
              "#7201a8"
             ],
             [
              0.3333333333333333,
              "#9c179e"
             ],
             [
              0.4444444444444444,
              "#bd3786"
             ],
             [
              0.5555555555555556,
              "#d8576b"
             ],
             [
              0.6666666666666666,
              "#ed7953"
             ],
             [
              0.7777777777777778,
              "#fb9f3a"
             ],
             [
              0.8888888888888888,
              "#fdca26"
             ],
             [
              1,
              "#f0f921"
             ]
            ],
            "type": "heatmapgl"
           }
          ],
          "histogram": [
           {
            "marker": {
             "pattern": {
              "fillmode": "overlay",
              "size": 10,
              "solidity": 0.2
             }
            },
            "type": "histogram"
           }
          ],
          "histogram2d": [
           {
            "colorbar": {
             "outlinewidth": 0,
             "ticks": ""
            },
            "colorscale": [
             [
              0,
              "#0d0887"
             ],
             [
              0.1111111111111111,
              "#46039f"
             ],
             [
              0.2222222222222222,
              "#7201a8"
             ],
             [
              0.3333333333333333,
              "#9c179e"
             ],
             [
              0.4444444444444444,
              "#bd3786"
             ],
             [
              0.5555555555555556,
              "#d8576b"
             ],
             [
              0.6666666666666666,
              "#ed7953"
             ],
             [
              0.7777777777777778,
              "#fb9f3a"
             ],
             [
              0.8888888888888888,
              "#fdca26"
             ],
             [
              1,
              "#f0f921"
             ]
            ],
            "type": "histogram2d"
           }
          ],
          "histogram2dcontour": [
           {
            "colorbar": {
             "outlinewidth": 0,
             "ticks": ""
            },
            "colorscale": [
             [
              0,
              "#0d0887"
             ],
             [
              0.1111111111111111,
              "#46039f"
             ],
             [
              0.2222222222222222,
              "#7201a8"
             ],
             [
              0.3333333333333333,
              "#9c179e"
             ],
             [
              0.4444444444444444,
              "#bd3786"
             ],
             [
              0.5555555555555556,
              "#d8576b"
             ],
             [
              0.6666666666666666,
              "#ed7953"
             ],
             [
              0.7777777777777778,
              "#fb9f3a"
             ],
             [
              0.8888888888888888,
              "#fdca26"
             ],
             [
              1,
              "#f0f921"
             ]
            ],
            "type": "histogram2dcontour"
           }
          ],
          "mesh3d": [
           {
            "colorbar": {
             "outlinewidth": 0,
             "ticks": ""
            },
            "type": "mesh3d"
           }
          ],
          "parcoords": [
           {
            "line": {
             "colorbar": {
              "outlinewidth": 0,
              "ticks": ""
             }
            },
            "type": "parcoords"
           }
          ],
          "pie": [
           {
            "automargin": true,
            "type": "pie"
           }
          ],
          "scatter": [
           {
            "fillpattern": {
             "fillmode": "overlay",
             "size": 10,
             "solidity": 0.2
            },
            "type": "scatter"
           }
          ],
          "scatter3d": [
           {
            "line": {
             "colorbar": {
              "outlinewidth": 0,
              "ticks": ""
             }
            },
            "marker": {
             "colorbar": {
              "outlinewidth": 0,
              "ticks": ""
             }
            },
            "type": "scatter3d"
           }
          ],
          "scattercarpet": [
           {
            "marker": {
             "colorbar": {
              "outlinewidth": 0,
              "ticks": ""
             }
            },
            "type": "scattercarpet"
           }
          ],
          "scattergeo": [
           {
            "marker": {
             "colorbar": {
              "outlinewidth": 0,
              "ticks": ""
             }
            },
            "type": "scattergeo"
           }
          ],
          "scattergl": [
           {
            "marker": {
             "colorbar": {
              "outlinewidth": 0,
              "ticks": ""
             }
            },
            "type": "scattergl"
           }
          ],
          "scattermapbox": [
           {
            "marker": {
             "colorbar": {
              "outlinewidth": 0,
              "ticks": ""
             }
            },
            "type": "scattermapbox"
           }
          ],
          "scatterpolar": [
           {
            "marker": {
             "colorbar": {
              "outlinewidth": 0,
              "ticks": ""
             }
            },
            "type": "scatterpolar"
           }
          ],
          "scatterpolargl": [
           {
            "marker": {
             "colorbar": {
              "outlinewidth": 0,
              "ticks": ""
             }
            },
            "type": "scatterpolargl"
           }
          ],
          "scatterternary": [
           {
            "marker": {
             "colorbar": {
              "outlinewidth": 0,
              "ticks": ""
             }
            },
            "type": "scatterternary"
           }
          ],
          "surface": [
           {
            "colorbar": {
             "outlinewidth": 0,
             "ticks": ""
            },
            "colorscale": [
             [
              0,
              "#0d0887"
             ],
             [
              0.1111111111111111,
              "#46039f"
             ],
             [
              0.2222222222222222,
              "#7201a8"
             ],
             [
              0.3333333333333333,
              "#9c179e"
             ],
             [
              0.4444444444444444,
              "#bd3786"
             ],
             [
              0.5555555555555556,
              "#d8576b"
             ],
             [
              0.6666666666666666,
              "#ed7953"
             ],
             [
              0.7777777777777778,
              "#fb9f3a"
             ],
             [
              0.8888888888888888,
              "#fdca26"
             ],
             [
              1,
              "#f0f921"
             ]
            ],
            "type": "surface"
           }
          ],
          "table": [
           {
            "cells": {
             "fill": {
              "color": "#EBF0F8"
             },
             "line": {
              "color": "white"
             }
            },
            "header": {
             "fill": {
              "color": "#C8D4E3"
             },
             "line": {
              "color": "white"
             }
            },
            "type": "table"
           }
          ]
         },
         "layout": {
          "annotationdefaults": {
           "arrowcolor": "#2a3f5f",
           "arrowhead": 0,
           "arrowwidth": 1
          },
          "autotypenumbers": "strict",
          "coloraxis": {
           "colorbar": {
            "outlinewidth": 0,
            "ticks": ""
           }
          },
          "colorscale": {
           "diverging": [
            [
             0,
             "#8e0152"
            ],
            [
             0.1,
             "#c51b7d"
            ],
            [
             0.2,
             "#de77ae"
            ],
            [
             0.3,
             "#f1b6da"
            ],
            [
             0.4,
             "#fde0ef"
            ],
            [
             0.5,
             "#f7f7f7"
            ],
            [
             0.6,
             "#e6f5d0"
            ],
            [
             0.7,
             "#b8e186"
            ],
            [
             0.8,
             "#7fbc41"
            ],
            [
             0.9,
             "#4d9221"
            ],
            [
             1,
             "#276419"
            ]
           ],
           "sequential": [
            [
             0,
             "#0d0887"
            ],
            [
             0.1111111111111111,
             "#46039f"
            ],
            [
             0.2222222222222222,
             "#7201a8"
            ],
            [
             0.3333333333333333,
             "#9c179e"
            ],
            [
             0.4444444444444444,
             "#bd3786"
            ],
            [
             0.5555555555555556,
             "#d8576b"
            ],
            [
             0.6666666666666666,
             "#ed7953"
            ],
            [
             0.7777777777777778,
             "#fb9f3a"
            ],
            [
             0.8888888888888888,
             "#fdca26"
            ],
            [
             1,
             "#f0f921"
            ]
           ],
           "sequentialminus": [
            [
             0,
             "#0d0887"
            ],
            [
             0.1111111111111111,
             "#46039f"
            ],
            [
             0.2222222222222222,
             "#7201a8"
            ],
            [
             0.3333333333333333,
             "#9c179e"
            ],
            [
             0.4444444444444444,
             "#bd3786"
            ],
            [
             0.5555555555555556,
             "#d8576b"
            ],
            [
             0.6666666666666666,
             "#ed7953"
            ],
            [
             0.7777777777777778,
             "#fb9f3a"
            ],
            [
             0.8888888888888888,
             "#fdca26"
            ],
            [
             1,
             "#f0f921"
            ]
           ]
          },
          "colorway": [
           "#636efa",
           "#EF553B",
           "#00cc96",
           "#ab63fa",
           "#FFA15A",
           "#19d3f3",
           "#FF6692",
           "#B6E880",
           "#FF97FF",
           "#FECB52"
          ],
          "font": {
           "color": "#2a3f5f"
          },
          "geo": {
           "bgcolor": "white",
           "lakecolor": "white",
           "landcolor": "#E5ECF6",
           "showlakes": true,
           "showland": true,
           "subunitcolor": "white"
          },
          "hoverlabel": {
           "align": "left"
          },
          "hovermode": "closest",
          "mapbox": {
           "style": "light"
          },
          "paper_bgcolor": "white",
          "plot_bgcolor": "#E5ECF6",
          "polar": {
           "angularaxis": {
            "gridcolor": "white",
            "linecolor": "white",
            "ticks": ""
           },
           "bgcolor": "#E5ECF6",
           "radialaxis": {
            "gridcolor": "white",
            "linecolor": "white",
            "ticks": ""
           }
          },
          "scene": {
           "xaxis": {
            "backgroundcolor": "#E5ECF6",
            "gridcolor": "white",
            "gridwidth": 2,
            "linecolor": "white",
            "showbackground": true,
            "ticks": "",
            "zerolinecolor": "white"
           },
           "yaxis": {
            "backgroundcolor": "#E5ECF6",
            "gridcolor": "white",
            "gridwidth": 2,
            "linecolor": "white",
            "showbackground": true,
            "ticks": "",
            "zerolinecolor": "white"
           },
           "zaxis": {
            "backgroundcolor": "#E5ECF6",
            "gridcolor": "white",
            "gridwidth": 2,
            "linecolor": "white",
            "showbackground": true,
            "ticks": "",
            "zerolinecolor": "white"
           }
          },
          "shapedefaults": {
           "line": {
            "color": "#2a3f5f"
           }
          },
          "ternary": {
           "aaxis": {
            "gridcolor": "white",
            "linecolor": "white",
            "ticks": ""
           },
           "baxis": {
            "gridcolor": "white",
            "linecolor": "white",
            "ticks": ""
           },
           "bgcolor": "#E5ECF6",
           "caxis": {
            "gridcolor": "white",
            "linecolor": "white",
            "ticks": ""
           }
          },
          "title": {
           "x": 0.05
          },
          "xaxis": {
           "automargin": true,
           "gridcolor": "white",
           "linecolor": "white",
           "ticks": "",
           "title": {
            "standoff": 15
           },
           "zerolinecolor": "white",
           "zerolinewidth": 2
          },
          "yaxis": {
           "automargin": true,
           "gridcolor": "white",
           "linecolor": "white",
           "ticks": "",
           "title": {
            "standoff": 15
           },
           "zerolinecolor": "white",
           "zerolinewidth": 2
          }
         }
        },
        "title": {
         "text": "Box plot of MAE_Box_fov for 143mm"
        },
        "xaxis": {
         "anchor": "y",
         "domain": [
          0,
          1
         ],
         "title": {
          "text": "pond"
         }
        },
        "yaxis": {
         "anchor": "x",
         "domain": [
          0,
          1
         ],
         "title": {
          "text": "MAE_Box_fov"
         }
        }
       }
      }
     },
     "metadata": {},
     "output_type": "display_data"
    },
    {
     "data": {
      "application/vnd.plotly.v1+json": {
       "config": {
        "plotlyServerURL": "https://plot.ly"
       },
       "data": [
        {
         "alignmentgroup": "True",
         "boxpoints": "all",
         "customdata": [
          [
           "undistorted_GX010191_116_1399.jpg",
           0
          ],
          [
           "undistorted_GX010191_16_495.jpg",
           1
          ],
          [
           "undistorted_GX010191_17_509.jpg",
           1
          ],
          [
           "undistorted_GX010191_18_521.jpg",
           0
          ],
          [
           "undistorted_GX010191_19_537.jpg",
           0
          ],
          [
           "undistorted_GX010191_29_257.jpg",
           1
          ],
          [
           "undistorted_GX010191_31_283.jpg",
           1
          ],
          [
           "undistorted_GX010191_32_1049.jpg",
           0
          ],
          [
           "undistorted_GX010191_33_1087.jpg",
           1
          ],
          [
           "undistorted_GX010191_33_331.jpg",
           0
          ],
          [
           "undistorted_GX010191_33_331.jpg",
           2
          ],
          [
           "undistorted_GX010191_34_1128.jpg",
           0
          ],
          [
           "undistorted_GX010191_35_1167.jpg",
           0
          ],
          [
           "undistorted_GX010191_35_1167.jpg",
           4
          ],
          [
           "undistorted_GX010191_42_1339.jpg",
           1
          ],
          [
           "undistorted_GX010191_43_1353.jpg",
           3
          ],
          [
           "undistorted_GX010191_44_478.jpg",
           1
          ],
          [
           "undistorted_GX010191_51_535.jpg",
           0
          ],
          [
           "undistorted_GX010191_5_190.jpg",
           2
          ],
          [
           "undistorted_GX010191_6_219.jpg",
           0
          ],
          [
           "undistorted_GX010191_88_1016.jpg",
           0
          ],
          [
           "undistorted_GX010191_91_1066.jpg",
           2
          ],
          [
           "undistorted_GX010191_92_1087.jpg",
           1
          ],
          [
           "undistorted_GX010191_95_1157.jpg",
           0
          ],
          [
           "undistorted_GX010191_96_1175.jpg",
           0
          ],
          [
           "undistorted_GX010191_97_1190.jpg",
           0
          ],
          [
           "undistorted_GX010191_98_1211.jpg",
           1
          ],
          [
           "undistorted_GX010193_10_1039.jpg",
           0
          ],
          [
           "undistorted_GX010193_11_1065.jpg",
           0
          ],
          [
           "undistorted_GX010193_27_1553.jpg",
           1
          ],
          [
           "undistorted_GX010193_3_251.jpg",
           0
          ],
          [
           "undistorted_GX010193_4_283.jpg",
           1
          ],
          [
           "undistorted_GX010194_15_231.jpg",
           0
          ],
          [
           "undistorted_GX010194_16_240.jpg",
           0
          ],
          [
           "undistorted_GX010194_17_257.jpg",
           1
          ],
          [
           "undistorted_GX010194_18_272.jpg",
           0
          ],
          [
           "undistorted_GX010194_19_285.jpg",
           0
          ],
          [
           "undistorted_GX010194_46_620.jpg",
           1
          ],
          [
           "undistorted_GX010194_55_768.jpg",
           2
          ],
          [
           "undistorted_GX010194_56_784.jpg",
           0
          ],
          [
           "undistorted_GX010194_57_798.jpg",
           0
          ],
          [
           "undistorted_GX010194_58_810.jpg",
           2
          ]
         ],
         "hovertemplate": "pond=%{x}<br>MAE_Box_fov=%{y}<br>image_path=%{customdata[0]}<br>index=%{customdata[1]}<extra></extra>",
         "legendgroup": "",
         "marker": {
          "color": "#636efa"
         },
         "name": "",
         "notched": false,
         "offsetgroup": "",
         "orientation": "v",
         "showlegend": false,
         "type": "box",
         "x": [
          700,
          700,
          700,
          700,
          700,
          700,
          700,
          700,
          700,
          700,
          700,
          700,
          700,
          700,
          700,
          700,
          700,
          700,
          700,
          700,
          700,
          700,
          700,
          700,
          700,
          700,
          700,
          410,
          410,
          410,
          410,
          410,
          410,
          410,
          410,
          410,
          410,
          410,
          410,
          410,
          410,
          410
         ],
         "x0": " ",
         "xaxis": "x",
         "y": [
          10.755591773477192,
          4.283151928787049,
          8.563460275099374,
          8.193892307823802,
          6.292647184891848,
          17.968720394053463,
          3.825749164897161,
          11.41521539847446,
          9.061308647779384,
          4.285277996235976,
          4.434772267328555,
          5.459171319813521,
          16.594984833731303,
          16.594984833731303,
          7.591767138854095,
          2.626212072995997,
          0.8244636910790462,
          7.49858333892098,
          14.570008993302366,
          11.606411187278129,
          25.13674649095958,
          11.07355666685703,
          9.061308647779384,
          16.277332749052135,
          7.321972364774552,
          19.047043152925283,
          20.61414665012518,
          0.8947579989565781,
          8.225347546286343,
          12.919258774979056,
          18.811643934856363,
          4.119377864028792,
          14.10487762564631,
          7.533449829727687,
          11.769490427420948,
          14.802379313853748,
          2.1897667317691685,
          8.481315814613396,
          10.02648470407152,
          23.94271816012088,
          17.1381639839513,
          20.192844447858675
         ],
         "y0": " ",
         "yaxis": "y"
        }
       ],
       "layout": {
        "boxmode": "group",
        "legend": {
         "tracegroupgap": 0
        },
        "template": {
         "data": {
          "bar": [
           {
            "error_x": {
             "color": "#2a3f5f"
            },
            "error_y": {
             "color": "#2a3f5f"
            },
            "marker": {
             "line": {
              "color": "#E5ECF6",
              "width": 0.5
             },
             "pattern": {
              "fillmode": "overlay",
              "size": 10,
              "solidity": 0.2
             }
            },
            "type": "bar"
           }
          ],
          "barpolar": [
           {
            "marker": {
             "line": {
              "color": "#E5ECF6",
              "width": 0.5
             },
             "pattern": {
              "fillmode": "overlay",
              "size": 10,
              "solidity": 0.2
             }
            },
            "type": "barpolar"
           }
          ],
          "carpet": [
           {
            "aaxis": {
             "endlinecolor": "#2a3f5f",
             "gridcolor": "white",
             "linecolor": "white",
             "minorgridcolor": "white",
             "startlinecolor": "#2a3f5f"
            },
            "baxis": {
             "endlinecolor": "#2a3f5f",
             "gridcolor": "white",
             "linecolor": "white",
             "minorgridcolor": "white",
             "startlinecolor": "#2a3f5f"
            },
            "type": "carpet"
           }
          ],
          "choropleth": [
           {
            "colorbar": {
             "outlinewidth": 0,
             "ticks": ""
            },
            "type": "choropleth"
           }
          ],
          "contour": [
           {
            "colorbar": {
             "outlinewidth": 0,
             "ticks": ""
            },
            "colorscale": [
             [
              0,
              "#0d0887"
             ],
             [
              0.1111111111111111,
              "#46039f"
             ],
             [
              0.2222222222222222,
              "#7201a8"
             ],
             [
              0.3333333333333333,
              "#9c179e"
             ],
             [
              0.4444444444444444,
              "#bd3786"
             ],
             [
              0.5555555555555556,
              "#d8576b"
             ],
             [
              0.6666666666666666,
              "#ed7953"
             ],
             [
              0.7777777777777778,
              "#fb9f3a"
             ],
             [
              0.8888888888888888,
              "#fdca26"
             ],
             [
              1,
              "#f0f921"
             ]
            ],
            "type": "contour"
           }
          ],
          "contourcarpet": [
           {
            "colorbar": {
             "outlinewidth": 0,
             "ticks": ""
            },
            "type": "contourcarpet"
           }
          ],
          "heatmap": [
           {
            "colorbar": {
             "outlinewidth": 0,
             "ticks": ""
            },
            "colorscale": [
             [
              0,
              "#0d0887"
             ],
             [
              0.1111111111111111,
              "#46039f"
             ],
             [
              0.2222222222222222,
              "#7201a8"
             ],
             [
              0.3333333333333333,
              "#9c179e"
             ],
             [
              0.4444444444444444,
              "#bd3786"
             ],
             [
              0.5555555555555556,
              "#d8576b"
             ],
             [
              0.6666666666666666,
              "#ed7953"
             ],
             [
              0.7777777777777778,
              "#fb9f3a"
             ],
             [
              0.8888888888888888,
              "#fdca26"
             ],
             [
              1,
              "#f0f921"
             ]
            ],
            "type": "heatmap"
           }
          ],
          "heatmapgl": [
           {
            "colorbar": {
             "outlinewidth": 0,
             "ticks": ""
            },
            "colorscale": [
             [
              0,
              "#0d0887"
             ],
             [
              0.1111111111111111,
              "#46039f"
             ],
             [
              0.2222222222222222,
              "#7201a8"
             ],
             [
              0.3333333333333333,
              "#9c179e"
             ],
             [
              0.4444444444444444,
              "#bd3786"
             ],
             [
              0.5555555555555556,
              "#d8576b"
             ],
             [
              0.6666666666666666,
              "#ed7953"
             ],
             [
              0.7777777777777778,
              "#fb9f3a"
             ],
             [
              0.8888888888888888,
              "#fdca26"
             ],
             [
              1,
              "#f0f921"
             ]
            ],
            "type": "heatmapgl"
           }
          ],
          "histogram": [
           {
            "marker": {
             "pattern": {
              "fillmode": "overlay",
              "size": 10,
              "solidity": 0.2
             }
            },
            "type": "histogram"
           }
          ],
          "histogram2d": [
           {
            "colorbar": {
             "outlinewidth": 0,
             "ticks": ""
            },
            "colorscale": [
             [
              0,
              "#0d0887"
             ],
             [
              0.1111111111111111,
              "#46039f"
             ],
             [
              0.2222222222222222,
              "#7201a8"
             ],
             [
              0.3333333333333333,
              "#9c179e"
             ],
             [
              0.4444444444444444,
              "#bd3786"
             ],
             [
              0.5555555555555556,
              "#d8576b"
             ],
             [
              0.6666666666666666,
              "#ed7953"
             ],
             [
              0.7777777777777778,
              "#fb9f3a"
             ],
             [
              0.8888888888888888,
              "#fdca26"
             ],
             [
              1,
              "#f0f921"
             ]
            ],
            "type": "histogram2d"
           }
          ],
          "histogram2dcontour": [
           {
            "colorbar": {
             "outlinewidth": 0,
             "ticks": ""
            },
            "colorscale": [
             [
              0,
              "#0d0887"
             ],
             [
              0.1111111111111111,
              "#46039f"
             ],
             [
              0.2222222222222222,
              "#7201a8"
             ],
             [
              0.3333333333333333,
              "#9c179e"
             ],
             [
              0.4444444444444444,
              "#bd3786"
             ],
             [
              0.5555555555555556,
              "#d8576b"
             ],
             [
              0.6666666666666666,
              "#ed7953"
             ],
             [
              0.7777777777777778,
              "#fb9f3a"
             ],
             [
              0.8888888888888888,
              "#fdca26"
             ],
             [
              1,
              "#f0f921"
             ]
            ],
            "type": "histogram2dcontour"
           }
          ],
          "mesh3d": [
           {
            "colorbar": {
             "outlinewidth": 0,
             "ticks": ""
            },
            "type": "mesh3d"
           }
          ],
          "parcoords": [
           {
            "line": {
             "colorbar": {
              "outlinewidth": 0,
              "ticks": ""
             }
            },
            "type": "parcoords"
           }
          ],
          "pie": [
           {
            "automargin": true,
            "type": "pie"
           }
          ],
          "scatter": [
           {
            "fillpattern": {
             "fillmode": "overlay",
             "size": 10,
             "solidity": 0.2
            },
            "type": "scatter"
           }
          ],
          "scatter3d": [
           {
            "line": {
             "colorbar": {
              "outlinewidth": 0,
              "ticks": ""
             }
            },
            "marker": {
             "colorbar": {
              "outlinewidth": 0,
              "ticks": ""
             }
            },
            "type": "scatter3d"
           }
          ],
          "scattercarpet": [
           {
            "marker": {
             "colorbar": {
              "outlinewidth": 0,
              "ticks": ""
             }
            },
            "type": "scattercarpet"
           }
          ],
          "scattergeo": [
           {
            "marker": {
             "colorbar": {
              "outlinewidth": 0,
              "ticks": ""
             }
            },
            "type": "scattergeo"
           }
          ],
          "scattergl": [
           {
            "marker": {
             "colorbar": {
              "outlinewidth": 0,
              "ticks": ""
             }
            },
            "type": "scattergl"
           }
          ],
          "scattermapbox": [
           {
            "marker": {
             "colorbar": {
              "outlinewidth": 0,
              "ticks": ""
             }
            },
            "type": "scattermapbox"
           }
          ],
          "scatterpolar": [
           {
            "marker": {
             "colorbar": {
              "outlinewidth": 0,
              "ticks": ""
             }
            },
            "type": "scatterpolar"
           }
          ],
          "scatterpolargl": [
           {
            "marker": {
             "colorbar": {
              "outlinewidth": 0,
              "ticks": ""
             }
            },
            "type": "scatterpolargl"
           }
          ],
          "scatterternary": [
           {
            "marker": {
             "colorbar": {
              "outlinewidth": 0,
              "ticks": ""
             }
            },
            "type": "scatterternary"
           }
          ],
          "surface": [
           {
            "colorbar": {
             "outlinewidth": 0,
             "ticks": ""
            },
            "colorscale": [
             [
              0,
              "#0d0887"
             ],
             [
              0.1111111111111111,
              "#46039f"
             ],
             [
              0.2222222222222222,
              "#7201a8"
             ],
             [
              0.3333333333333333,
              "#9c179e"
             ],
             [
              0.4444444444444444,
              "#bd3786"
             ],
             [
              0.5555555555555556,
              "#d8576b"
             ],
             [
              0.6666666666666666,
              "#ed7953"
             ],
             [
              0.7777777777777778,
              "#fb9f3a"
             ],
             [
              0.8888888888888888,
              "#fdca26"
             ],
             [
              1,
              "#f0f921"
             ]
            ],
            "type": "surface"
           }
          ],
          "table": [
           {
            "cells": {
             "fill": {
              "color": "#EBF0F8"
             },
             "line": {
              "color": "white"
             }
            },
            "header": {
             "fill": {
              "color": "#C8D4E3"
             },
             "line": {
              "color": "white"
             }
            },
            "type": "table"
           }
          ]
         },
         "layout": {
          "annotationdefaults": {
           "arrowcolor": "#2a3f5f",
           "arrowhead": 0,
           "arrowwidth": 1
          },
          "autotypenumbers": "strict",
          "coloraxis": {
           "colorbar": {
            "outlinewidth": 0,
            "ticks": ""
           }
          },
          "colorscale": {
           "diverging": [
            [
             0,
             "#8e0152"
            ],
            [
             0.1,
             "#c51b7d"
            ],
            [
             0.2,
             "#de77ae"
            ],
            [
             0.3,
             "#f1b6da"
            ],
            [
             0.4,
             "#fde0ef"
            ],
            [
             0.5,
             "#f7f7f7"
            ],
            [
             0.6,
             "#e6f5d0"
            ],
            [
             0.7,
             "#b8e186"
            ],
            [
             0.8,
             "#7fbc41"
            ],
            [
             0.9,
             "#4d9221"
            ],
            [
             1,
             "#276419"
            ]
           ],
           "sequential": [
            [
             0,
             "#0d0887"
            ],
            [
             0.1111111111111111,
             "#46039f"
            ],
            [
             0.2222222222222222,
             "#7201a8"
            ],
            [
             0.3333333333333333,
             "#9c179e"
            ],
            [
             0.4444444444444444,
             "#bd3786"
            ],
            [
             0.5555555555555556,
             "#d8576b"
            ],
            [
             0.6666666666666666,
             "#ed7953"
            ],
            [
             0.7777777777777778,
             "#fb9f3a"
            ],
            [
             0.8888888888888888,
             "#fdca26"
            ],
            [
             1,
             "#f0f921"
            ]
           ],
           "sequentialminus": [
            [
             0,
             "#0d0887"
            ],
            [
             0.1111111111111111,
             "#46039f"
            ],
            [
             0.2222222222222222,
             "#7201a8"
            ],
            [
             0.3333333333333333,
             "#9c179e"
            ],
            [
             0.4444444444444444,
             "#bd3786"
            ],
            [
             0.5555555555555556,
             "#d8576b"
            ],
            [
             0.6666666666666666,
             "#ed7953"
            ],
            [
             0.7777777777777778,
             "#fb9f3a"
            ],
            [
             0.8888888888888888,
             "#fdca26"
            ],
            [
             1,
             "#f0f921"
            ]
           ]
          },
          "colorway": [
           "#636efa",
           "#EF553B",
           "#00cc96",
           "#ab63fa",
           "#FFA15A",
           "#19d3f3",
           "#FF6692",
           "#B6E880",
           "#FF97FF",
           "#FECB52"
          ],
          "font": {
           "color": "#2a3f5f"
          },
          "geo": {
           "bgcolor": "white",
           "lakecolor": "white",
           "landcolor": "#E5ECF6",
           "showlakes": true,
           "showland": true,
           "subunitcolor": "white"
          },
          "hoverlabel": {
           "align": "left"
          },
          "hovermode": "closest",
          "mapbox": {
           "style": "light"
          },
          "paper_bgcolor": "white",
          "plot_bgcolor": "#E5ECF6",
          "polar": {
           "angularaxis": {
            "gridcolor": "white",
            "linecolor": "white",
            "ticks": ""
           },
           "bgcolor": "#E5ECF6",
           "radialaxis": {
            "gridcolor": "white",
            "linecolor": "white",
            "ticks": ""
           }
          },
          "scene": {
           "xaxis": {
            "backgroundcolor": "#E5ECF6",
            "gridcolor": "white",
            "gridwidth": 2,
            "linecolor": "white",
            "showbackground": true,
            "ticks": "",
            "zerolinecolor": "white"
           },
           "yaxis": {
            "backgroundcolor": "#E5ECF6",
            "gridcolor": "white",
            "gridwidth": 2,
            "linecolor": "white",
            "showbackground": true,
            "ticks": "",
            "zerolinecolor": "white"
           },
           "zaxis": {
            "backgroundcolor": "#E5ECF6",
            "gridcolor": "white",
            "gridwidth": 2,
            "linecolor": "white",
            "showbackground": true,
            "ticks": "",
            "zerolinecolor": "white"
           }
          },
          "shapedefaults": {
           "line": {
            "color": "#2a3f5f"
           }
          },
          "ternary": {
           "aaxis": {
            "gridcolor": "white",
            "linecolor": "white",
            "ticks": ""
           },
           "baxis": {
            "gridcolor": "white",
            "linecolor": "white",
            "ticks": ""
           },
           "bgcolor": "#E5ECF6",
           "caxis": {
            "gridcolor": "white",
            "linecolor": "white",
            "ticks": ""
           }
          },
          "title": {
           "x": 0.05
          },
          "xaxis": {
           "automargin": true,
           "gridcolor": "white",
           "linecolor": "white",
           "ticks": "",
           "title": {
            "standoff": 15
           },
           "zerolinecolor": "white",
           "zerolinewidth": 2
          },
          "yaxis": {
           "automargin": true,
           "gridcolor": "white",
           "linecolor": "white",
           "ticks": "",
           "title": {
            "standoff": 15
           },
           "zerolinecolor": "white",
           "zerolinewidth": 2
          }
         }
        },
        "title": {
         "text": "Box plot of MAE_Box_fov for 180mm"
        },
        "xaxis": {
         "anchor": "y",
         "domain": [
          0,
          1
         ],
         "title": {
          "text": "pond"
         }
        },
        "yaxis": {
         "anchor": "x",
         "domain": [
          0,
          1
         ],
         "title": {
          "text": "MAE_Box_fov"
         }
        }
       }
      }
     },
     "metadata": {},
     "output_type": "display_data"
    }
   ],
   "source": [
    "for error in ['Error_percentage_Box_fov', 'MAE_Box_fov']:\n",
    "\n",
    "    for true_length in [143, 180]:\n",
    "        # Create a box plot using plotly\n",
    "        fig = px.box(df_clean[df_clean['true_length'] == true_length],\n",
    "                        x='pond', \n",
    "                        y=error, \n",
    "                        points=\"all\",  # Show all points\n",
    "                        hover_data=['image_path', 'index'],  # Include hover data\n",
    "                        title=f'Box plot of {error} for {true_length}mm',)\n",
    "        #Save the plot to png\n",
    "        fig.write_image(f'{error}_{true_length}.png')\n",
    "        fig.show()\n",
    "    # Create a box plot using plotly\n",
    "        "
   ]
  },
  {
   "cell_type": "code",
   "execution_count": 70,
   "metadata": {},
   "outputs": [
    {
     "data": {
      "application/vnd.plotly.v1+json": {
       "config": {
        "plotlyServerURL": "https://plot.ly"
       },
       "data": [
        {
         "alignmentgroup": "True",
         "box": {
          "visible": true
         },
         "customdata": [
          [
           "undistorted_GX010191_101_1265.jpg",
           0
          ],
          [
           "undistorted_GX010191_102_1277.jpg",
           0
          ],
          [
           "undistorted_GX010191_103_1289.jpg",
           0
          ],
          [
           "undistorted_GX010191_105_1312.jpg",
           0
          ],
          [
           "undistorted_GX010191_107_1330.jpg",
           0
          ],
          [
           "undistorted_GX010191_10_370.jpg",
           0
          ],
          [
           "undistorted_GX010191_110_1355.jpg",
           3
          ],
          [
           "undistorted_GX010191_13_439.jpg",
           0
          ],
          [
           "undistorted_GX010191_15_479.jpg",
           0
          ],
          [
           "undistorted_GX010191_16_495.jpg",
           2
          ],
          [
           "undistorted_GX010191_16_495.jpg",
           3
          ],
          [
           "undistorted_GX010191_31_283.jpg",
           2
          ],
          [
           "undistorted_GX010191_34_1128.jpg",
           1
          ],
          [
           "undistorted_GX010191_35_1167.jpg",
           1
          ],
          [
           "undistorted_GX010191_35_367.jpg",
           0
          ],
          [
           "undistorted_GX010191_36_1195.jpg",
           1
          ],
          [
           "undistorted_GX010191_36_381.jpg",
           0
          ],
          [
           "undistorted_GX010191_38_1266.jpg",
           0
          ],
          [
           "undistorted_GX010191_38_404.jpg",
           0
          ],
          [
           "undistorted_GX010191_39_416.jpg",
           0
          ],
          [
           "undistorted_GX010191_42_1339.jpg",
           0
          ],
          [
           "undistorted_GX010191_42_1339.jpg",
           5
          ],
          [
           "undistorted_GX010191_42_457.jpg",
           0
          ],
          [
           "undistorted_GX010191_42_457.jpg",
           3
          ],
          [
           "undistorted_GX010191_43_1353.jpg",
           0
          ],
          [
           "undistorted_GX010191_44_478.jpg",
           0
          ],
          [
           "undistorted_GX010191_46_497.jpg",
           1
          ],
          [
           "undistorted_GX010191_94_1132.jpg",
           0
          ],
          [
           "undistorted_GX010191_95_1157.jpg",
           1
          ],
          [
           "undistorted_GX010191_98_1211.jpg",
           0
          ],
          [
           "undistorted_GX010191_99_1233.jpg",
           1
          ],
          [
           "undistorted_GX010192_17_1035.jpg",
           0
          ],
          [
           "undistorted_GX010192_25_1553.jpg",
           0
          ],
          [
           "undistorted_GX010192_26_1578.jpg",
           0
          ],
          [
           "undistorted_GX010192_9_675.jpg",
           1
          ],
          [
           "undistorted_GX010193_17_1264.jpg",
           0
          ],
          [
           "undistorted_GX010193_18_1289.jpg",
           0
          ],
          [
           "undistorted_GX010193_19_1334.jpg",
           0
          ],
          [
           "undistorted_GX010193_20_1365.jpg",
           2
          ],
          [
           "undistorted_GX010194_36_485.jpg",
           1
          ],
          [
           "undistorted_GX010194_37_496.jpg",
           1
          ],
          [
           "undistorted_GX010194_38_504.jpg",
           1
          ],
          [
           "undistorted_GX010194_39_513.jpg",
           1
          ],
          [
           "undistorted_GX010194_60_836.jpg",
           0
          ]
         ],
         "hovertemplate": "pond=%{x}<br>Error_percentage_Box_fov=%{y}<br>image_path=%{customdata[0]}<br>index=%{customdata[1]}<extra></extra>",
         "legendgroup": "",
         "marker": {
          "color": "#636efa"
         },
         "name": "",
         "offsetgroup": "",
         "orientation": "v",
         "points": "all",
         "scalegroup": "True",
         "showlegend": false,
         "type": "violin",
         "x": [
          700,
          700,
          700,
          700,
          700,
          700,
          700,
          700,
          700,
          700,
          700,
          700,
          700,
          700,
          700,
          700,
          700,
          700,
          700,
          700,
          700,
          700,
          700,
          700,
          700,
          700,
          700,
          700,
          700,
          700,
          700,
          410,
          410,
          410,
          410,
          410,
          410,
          410,
          410,
          410,
          410,
          410,
          410,
          410
         ],
         "x0": " ",
         "xaxis": "x",
         "y": [
          0.0136339434834394,
          1.8120911558320223,
          3.0838703603720217,
          3.5086558535308177,
          6.523901796366389,
          0.9025717256256096,
          0.7907783035648408,
          3.490852602670701,
          2.2480521559177924,
          6.020595532492573,
          7.4739923956431396,
          3.6709467257363744,
          9.542442818122137,
          8.73964039356084,
          0.1534263883963409,
          7.490828660084523,
          1.504410211067814,
          0.0843342407715586,
          12.732974238210325,
          5.043515222362314,
          0.9014701318457716,
          3.3367059479685808,
          9.345717752923829,
          4.298943035425912,
          3.63803935094563,
          4.342093941077574,
          2.7698711588255764,
          14.696641619990332,
          7.8966419597379875,
          6.458114107124242,
          9.369667907702883,
          9.995576975202264,
          5.530807753530357,
          8.65074244162312,
          8.586574040417847,
          2.3048032597630663,
          5.569928099730795,
          8.012448263440499,
          0.195391278349227,
          1.8156707089410569,
          2.144406045155077,
          5.189384970073551,
          4.2424359200103945,
          8.650497269164068
         ],
         "y0": " ",
         "yaxis": "y"
        }
       ],
       "layout": {
        "legend": {
         "tracegroupgap": 0
        },
        "template": {
         "data": {
          "bar": [
           {
            "error_x": {
             "color": "#2a3f5f"
            },
            "error_y": {
             "color": "#2a3f5f"
            },
            "marker": {
             "line": {
              "color": "#E5ECF6",
              "width": 0.5
             },
             "pattern": {
              "fillmode": "overlay",
              "size": 10,
              "solidity": 0.2
             }
            },
            "type": "bar"
           }
          ],
          "barpolar": [
           {
            "marker": {
             "line": {
              "color": "#E5ECF6",
              "width": 0.5
             },
             "pattern": {
              "fillmode": "overlay",
              "size": 10,
              "solidity": 0.2
             }
            },
            "type": "barpolar"
           }
          ],
          "carpet": [
           {
            "aaxis": {
             "endlinecolor": "#2a3f5f",
             "gridcolor": "white",
             "linecolor": "white",
             "minorgridcolor": "white",
             "startlinecolor": "#2a3f5f"
            },
            "baxis": {
             "endlinecolor": "#2a3f5f",
             "gridcolor": "white",
             "linecolor": "white",
             "minorgridcolor": "white",
             "startlinecolor": "#2a3f5f"
            },
            "type": "carpet"
           }
          ],
          "choropleth": [
           {
            "colorbar": {
             "outlinewidth": 0,
             "ticks": ""
            },
            "type": "choropleth"
           }
          ],
          "contour": [
           {
            "colorbar": {
             "outlinewidth": 0,
             "ticks": ""
            },
            "colorscale": [
             [
              0,
              "#0d0887"
             ],
             [
              0.1111111111111111,
              "#46039f"
             ],
             [
              0.2222222222222222,
              "#7201a8"
             ],
             [
              0.3333333333333333,
              "#9c179e"
             ],
             [
              0.4444444444444444,
              "#bd3786"
             ],
             [
              0.5555555555555556,
              "#d8576b"
             ],
             [
              0.6666666666666666,
              "#ed7953"
             ],
             [
              0.7777777777777778,
              "#fb9f3a"
             ],
             [
              0.8888888888888888,
              "#fdca26"
             ],
             [
              1,
              "#f0f921"
             ]
            ],
            "type": "contour"
           }
          ],
          "contourcarpet": [
           {
            "colorbar": {
             "outlinewidth": 0,
             "ticks": ""
            },
            "type": "contourcarpet"
           }
          ],
          "heatmap": [
           {
            "colorbar": {
             "outlinewidth": 0,
             "ticks": ""
            },
            "colorscale": [
             [
              0,
              "#0d0887"
             ],
             [
              0.1111111111111111,
              "#46039f"
             ],
             [
              0.2222222222222222,
              "#7201a8"
             ],
             [
              0.3333333333333333,
              "#9c179e"
             ],
             [
              0.4444444444444444,
              "#bd3786"
             ],
             [
              0.5555555555555556,
              "#d8576b"
             ],
             [
              0.6666666666666666,
              "#ed7953"
             ],
             [
              0.7777777777777778,
              "#fb9f3a"
             ],
             [
              0.8888888888888888,
              "#fdca26"
             ],
             [
              1,
              "#f0f921"
             ]
            ],
            "type": "heatmap"
           }
          ],
          "heatmapgl": [
           {
            "colorbar": {
             "outlinewidth": 0,
             "ticks": ""
            },
            "colorscale": [
             [
              0,
              "#0d0887"
             ],
             [
              0.1111111111111111,
              "#46039f"
             ],
             [
              0.2222222222222222,
              "#7201a8"
             ],
             [
              0.3333333333333333,
              "#9c179e"
             ],
             [
              0.4444444444444444,
              "#bd3786"
             ],
             [
              0.5555555555555556,
              "#d8576b"
             ],
             [
              0.6666666666666666,
              "#ed7953"
             ],
             [
              0.7777777777777778,
              "#fb9f3a"
             ],
             [
              0.8888888888888888,
              "#fdca26"
             ],
             [
              1,
              "#f0f921"
             ]
            ],
            "type": "heatmapgl"
           }
          ],
          "histogram": [
           {
            "marker": {
             "pattern": {
              "fillmode": "overlay",
              "size": 10,
              "solidity": 0.2
             }
            },
            "type": "histogram"
           }
          ],
          "histogram2d": [
           {
            "colorbar": {
             "outlinewidth": 0,
             "ticks": ""
            },
            "colorscale": [
             [
              0,
              "#0d0887"
             ],
             [
              0.1111111111111111,
              "#46039f"
             ],
             [
              0.2222222222222222,
              "#7201a8"
             ],
             [
              0.3333333333333333,
              "#9c179e"
             ],
             [
              0.4444444444444444,
              "#bd3786"
             ],
             [
              0.5555555555555556,
              "#d8576b"
             ],
             [
              0.6666666666666666,
              "#ed7953"
             ],
             [
              0.7777777777777778,
              "#fb9f3a"
             ],
             [
              0.8888888888888888,
              "#fdca26"
             ],
             [
              1,
              "#f0f921"
             ]
            ],
            "type": "histogram2d"
           }
          ],
          "histogram2dcontour": [
           {
            "colorbar": {
             "outlinewidth": 0,
             "ticks": ""
            },
            "colorscale": [
             [
              0,
              "#0d0887"
             ],
             [
              0.1111111111111111,
              "#46039f"
             ],
             [
              0.2222222222222222,
              "#7201a8"
             ],
             [
              0.3333333333333333,
              "#9c179e"
             ],
             [
              0.4444444444444444,
              "#bd3786"
             ],
             [
              0.5555555555555556,
              "#d8576b"
             ],
             [
              0.6666666666666666,
              "#ed7953"
             ],
             [
              0.7777777777777778,
              "#fb9f3a"
             ],
             [
              0.8888888888888888,
              "#fdca26"
             ],
             [
              1,
              "#f0f921"
             ]
            ],
            "type": "histogram2dcontour"
           }
          ],
          "mesh3d": [
           {
            "colorbar": {
             "outlinewidth": 0,
             "ticks": ""
            },
            "type": "mesh3d"
           }
          ],
          "parcoords": [
           {
            "line": {
             "colorbar": {
              "outlinewidth": 0,
              "ticks": ""
             }
            },
            "type": "parcoords"
           }
          ],
          "pie": [
           {
            "automargin": true,
            "type": "pie"
           }
          ],
          "scatter": [
           {
            "fillpattern": {
             "fillmode": "overlay",
             "size": 10,
             "solidity": 0.2
            },
            "type": "scatter"
           }
          ],
          "scatter3d": [
           {
            "line": {
             "colorbar": {
              "outlinewidth": 0,
              "ticks": ""
             }
            },
            "marker": {
             "colorbar": {
              "outlinewidth": 0,
              "ticks": ""
             }
            },
            "type": "scatter3d"
           }
          ],
          "scattercarpet": [
           {
            "marker": {
             "colorbar": {
              "outlinewidth": 0,
              "ticks": ""
             }
            },
            "type": "scattercarpet"
           }
          ],
          "scattergeo": [
           {
            "marker": {
             "colorbar": {
              "outlinewidth": 0,
              "ticks": ""
             }
            },
            "type": "scattergeo"
           }
          ],
          "scattergl": [
           {
            "marker": {
             "colorbar": {
              "outlinewidth": 0,
              "ticks": ""
             }
            },
            "type": "scattergl"
           }
          ],
          "scattermapbox": [
           {
            "marker": {
             "colorbar": {
              "outlinewidth": 0,
              "ticks": ""
             }
            },
            "type": "scattermapbox"
           }
          ],
          "scatterpolar": [
           {
            "marker": {
             "colorbar": {
              "outlinewidth": 0,
              "ticks": ""
             }
            },
            "type": "scatterpolar"
           }
          ],
          "scatterpolargl": [
           {
            "marker": {
             "colorbar": {
              "outlinewidth": 0,
              "ticks": ""
             }
            },
            "type": "scatterpolargl"
           }
          ],
          "scatterternary": [
           {
            "marker": {
             "colorbar": {
              "outlinewidth": 0,
              "ticks": ""
             }
            },
            "type": "scatterternary"
           }
          ],
          "surface": [
           {
            "colorbar": {
             "outlinewidth": 0,
             "ticks": ""
            },
            "colorscale": [
             [
              0,
              "#0d0887"
             ],
             [
              0.1111111111111111,
              "#46039f"
             ],
             [
              0.2222222222222222,
              "#7201a8"
             ],
             [
              0.3333333333333333,
              "#9c179e"
             ],
             [
              0.4444444444444444,
              "#bd3786"
             ],
             [
              0.5555555555555556,
              "#d8576b"
             ],
             [
              0.6666666666666666,
              "#ed7953"
             ],
             [
              0.7777777777777778,
              "#fb9f3a"
             ],
             [
              0.8888888888888888,
              "#fdca26"
             ],
             [
              1,
              "#f0f921"
             ]
            ],
            "type": "surface"
           }
          ],
          "table": [
           {
            "cells": {
             "fill": {
              "color": "#EBF0F8"
             },
             "line": {
              "color": "white"
             }
            },
            "header": {
             "fill": {
              "color": "#C8D4E3"
             },
             "line": {
              "color": "white"
             }
            },
            "type": "table"
           }
          ]
         },
         "layout": {
          "annotationdefaults": {
           "arrowcolor": "#2a3f5f",
           "arrowhead": 0,
           "arrowwidth": 1
          },
          "autotypenumbers": "strict",
          "coloraxis": {
           "colorbar": {
            "outlinewidth": 0,
            "ticks": ""
           }
          },
          "colorscale": {
           "diverging": [
            [
             0,
             "#8e0152"
            ],
            [
             0.1,
             "#c51b7d"
            ],
            [
             0.2,
             "#de77ae"
            ],
            [
             0.3,
             "#f1b6da"
            ],
            [
             0.4,
             "#fde0ef"
            ],
            [
             0.5,
             "#f7f7f7"
            ],
            [
             0.6,
             "#e6f5d0"
            ],
            [
             0.7,
             "#b8e186"
            ],
            [
             0.8,
             "#7fbc41"
            ],
            [
             0.9,
             "#4d9221"
            ],
            [
             1,
             "#276419"
            ]
           ],
           "sequential": [
            [
             0,
             "#0d0887"
            ],
            [
             0.1111111111111111,
             "#46039f"
            ],
            [
             0.2222222222222222,
             "#7201a8"
            ],
            [
             0.3333333333333333,
             "#9c179e"
            ],
            [
             0.4444444444444444,
             "#bd3786"
            ],
            [
             0.5555555555555556,
             "#d8576b"
            ],
            [
             0.6666666666666666,
             "#ed7953"
            ],
            [
             0.7777777777777778,
             "#fb9f3a"
            ],
            [
             0.8888888888888888,
             "#fdca26"
            ],
            [
             1,
             "#f0f921"
            ]
           ],
           "sequentialminus": [
            [
             0,
             "#0d0887"
            ],
            [
             0.1111111111111111,
             "#46039f"
            ],
            [
             0.2222222222222222,
             "#7201a8"
            ],
            [
             0.3333333333333333,
             "#9c179e"
            ],
            [
             0.4444444444444444,
             "#bd3786"
            ],
            [
             0.5555555555555556,
             "#d8576b"
            ],
            [
             0.6666666666666666,
             "#ed7953"
            ],
            [
             0.7777777777777778,
             "#fb9f3a"
            ],
            [
             0.8888888888888888,
             "#fdca26"
            ],
            [
             1,
             "#f0f921"
            ]
           ]
          },
          "colorway": [
           "#636efa",
           "#EF553B",
           "#00cc96",
           "#ab63fa",
           "#FFA15A",
           "#19d3f3",
           "#FF6692",
           "#B6E880",
           "#FF97FF",
           "#FECB52"
          ],
          "font": {
           "color": "#2a3f5f"
          },
          "geo": {
           "bgcolor": "white",
           "lakecolor": "white",
           "landcolor": "#E5ECF6",
           "showlakes": true,
           "showland": true,
           "subunitcolor": "white"
          },
          "hoverlabel": {
           "align": "left"
          },
          "hovermode": "closest",
          "mapbox": {
           "style": "light"
          },
          "paper_bgcolor": "white",
          "plot_bgcolor": "#E5ECF6",
          "polar": {
           "angularaxis": {
            "gridcolor": "white",
            "linecolor": "white",
            "ticks": ""
           },
           "bgcolor": "#E5ECF6",
           "radialaxis": {
            "gridcolor": "white",
            "linecolor": "white",
            "ticks": ""
           }
          },
          "scene": {
           "xaxis": {
            "backgroundcolor": "#E5ECF6",
            "gridcolor": "white",
            "gridwidth": 2,
            "linecolor": "white",
            "showbackground": true,
            "ticks": "",
            "zerolinecolor": "white"
           },
           "yaxis": {
            "backgroundcolor": "#E5ECF6",
            "gridcolor": "white",
            "gridwidth": 2,
            "linecolor": "white",
            "showbackground": true,
            "ticks": "",
            "zerolinecolor": "white"
           },
           "zaxis": {
            "backgroundcolor": "#E5ECF6",
            "gridcolor": "white",
            "gridwidth": 2,
            "linecolor": "white",
            "showbackground": true,
            "ticks": "",
            "zerolinecolor": "white"
           }
          },
          "shapedefaults": {
           "line": {
            "color": "#2a3f5f"
           }
          },
          "ternary": {
           "aaxis": {
            "gridcolor": "white",
            "linecolor": "white",
            "ticks": ""
           },
           "baxis": {
            "gridcolor": "white",
            "linecolor": "white",
            "ticks": ""
           },
           "bgcolor": "#E5ECF6",
           "caxis": {
            "gridcolor": "white",
            "linecolor": "white",
            "ticks": ""
           }
          },
          "title": {
           "x": 0.05
          },
          "xaxis": {
           "automargin": true,
           "gridcolor": "white",
           "linecolor": "white",
           "ticks": "",
           "title": {
            "standoff": 15
           },
           "zerolinecolor": "white",
           "zerolinewidth": 2
          },
          "yaxis": {
           "automargin": true,
           "gridcolor": "white",
           "linecolor": "white",
           "ticks": "",
           "title": {
            "standoff": 15
           },
           "zerolinecolor": "white",
           "zerolinewidth": 2
          }
         }
        },
        "title": {
         "text": "Violin plot of Error_percentage_Box_fov for 143mm"
        },
        "violinmode": "group",
        "xaxis": {
         "anchor": "y",
         "domain": [
          0,
          1
         ],
         "title": {
          "text": "pond"
         }
        },
        "yaxis": {
         "anchor": "x",
         "domain": [
          0,
          1
         ],
         "title": {
          "text": "Error_percentage_Box_fov"
         }
        }
       }
      }
     },
     "metadata": {},
     "output_type": "display_data"
    },
    {
     "data": {
      "application/vnd.plotly.v1+json": {
       "config": {
        "plotlyServerURL": "https://plot.ly"
       },
       "data": [
        {
         "alignmentgroup": "True",
         "box": {
          "visible": true
         },
         "customdata": [
          [
           "undistorted_GX010191_116_1399.jpg",
           0
          ],
          [
           "undistorted_GX010191_16_495.jpg",
           1
          ],
          [
           "undistorted_GX010191_17_509.jpg",
           1
          ],
          [
           "undistorted_GX010191_18_521.jpg",
           0
          ],
          [
           "undistorted_GX010191_19_537.jpg",
           0
          ],
          [
           "undistorted_GX010191_29_257.jpg",
           1
          ],
          [
           "undistorted_GX010191_31_283.jpg",
           1
          ],
          [
           "undistorted_GX010191_32_1049.jpg",
           0
          ],
          [
           "undistorted_GX010191_33_1087.jpg",
           1
          ],
          [
           "undistorted_GX010191_33_331.jpg",
           0
          ],
          [
           "undistorted_GX010191_33_331.jpg",
           2
          ],
          [
           "undistorted_GX010191_34_1128.jpg",
           0
          ],
          [
           "undistorted_GX010191_35_1167.jpg",
           0
          ],
          [
           "undistorted_GX010191_35_1167.jpg",
           4
          ],
          [
           "undistorted_GX010191_42_1339.jpg",
           1
          ],
          [
           "undistorted_GX010191_43_1353.jpg",
           3
          ],
          [
           "undistorted_GX010191_44_478.jpg",
           1
          ],
          [
           "undistorted_GX010191_51_535.jpg",
           0
          ],
          [
           "undistorted_GX010191_5_190.jpg",
           2
          ],
          [
           "undistorted_GX010191_6_219.jpg",
           0
          ],
          [
           "undistorted_GX010191_88_1016.jpg",
           0
          ],
          [
           "undistorted_GX010191_91_1066.jpg",
           2
          ],
          [
           "undistorted_GX010191_92_1087.jpg",
           1
          ],
          [
           "undistorted_GX010191_95_1157.jpg",
           0
          ],
          [
           "undistorted_GX010191_96_1175.jpg",
           0
          ],
          [
           "undistorted_GX010191_97_1190.jpg",
           0
          ],
          [
           "undistorted_GX010191_98_1211.jpg",
           1
          ],
          [
           "undistorted_GX010193_10_1039.jpg",
           0
          ],
          [
           "undistorted_GX010193_11_1065.jpg",
           0
          ],
          [
           "undistorted_GX010193_27_1553.jpg",
           1
          ],
          [
           "undistorted_GX010193_3_251.jpg",
           0
          ],
          [
           "undistorted_GX010193_4_283.jpg",
           1
          ],
          [
           "undistorted_GX010194_15_231.jpg",
           0
          ],
          [
           "undistorted_GX010194_16_240.jpg",
           0
          ],
          [
           "undistorted_GX010194_17_257.jpg",
           1
          ],
          [
           "undistorted_GX010194_18_272.jpg",
           0
          ],
          [
           "undistorted_GX010194_19_285.jpg",
           0
          ],
          [
           "undistorted_GX010194_46_620.jpg",
           1
          ],
          [
           "undistorted_GX010194_55_768.jpg",
           2
          ],
          [
           "undistorted_GX010194_56_784.jpg",
           0
          ],
          [
           "undistorted_GX010194_57_798.jpg",
           0
          ],
          [
           "undistorted_GX010194_58_810.jpg",
           2
          ]
         ],
         "hovertemplate": "pond=%{x}<br>Error_percentage_Box_fov=%{y}<br>image_path=%{customdata[0]}<br>index=%{customdata[1]}<extra></extra>",
         "legendgroup": "",
         "marker": {
          "color": "#636efa"
         },
         "name": "",
         "offsetgroup": "",
         "orientation": "v",
         "points": "all",
         "scalegroup": "True",
         "showlegend": false,
         "type": "violin",
         "x": [
          700,
          700,
          700,
          700,
          700,
          700,
          700,
          700,
          700,
          700,
          700,
          700,
          700,
          700,
          700,
          700,
          700,
          700,
          700,
          700,
          700,
          700,
          700,
          700,
          700,
          700,
          700,
          410,
          410,
          410,
          410,
          410,
          410,
          410,
          410,
          410,
          410,
          410,
          410,
          410,
          410,
          410
         ],
         "x0": " ",
         "xaxis": "x",
         "y": [
          5.975328763042885,
          2.3795288493261384,
          4.757477930610763,
          4.552162393235445,
          3.4959151027176936,
          9.982622441140812,
          2.1254162027206447,
          6.34178633248581,
          5.034060359877436,
          2.3807099979088755,
          2.463762370738086,
          3.032872955451956,
          9.219436018739612,
          9.219436018739612,
          4.217648410474498,
          1.4590067072199986,
          0.4580353839328034,
          4.165879632733878,
          8.094449440723537,
          6.448006215154514,
          13.964859161644211,
          6.151975926031684,
          5.034060359877436,
          9.042962638362296,
          4.067762424874752,
          10.581690640514047,
          11.452303694513988,
          0.497087777198099,
          4.569637525714635,
          7.177365986099475,
          10.450913297142424,
          2.288543257793773,
          7.836043125359062,
          4.18524990540427,
          6.538605793011637,
          8.223544063252081,
          1.2165370732050935,
          4.711842119229664,
          5.570269280039733,
          13.301510088956045,
          9.521202213306278,
          11.218246915477042
         ],
         "y0": " ",
         "yaxis": "y"
        }
       ],
       "layout": {
        "legend": {
         "tracegroupgap": 0
        },
        "template": {
         "data": {
          "bar": [
           {
            "error_x": {
             "color": "#2a3f5f"
            },
            "error_y": {
             "color": "#2a3f5f"
            },
            "marker": {
             "line": {
              "color": "#E5ECF6",
              "width": 0.5
             },
             "pattern": {
              "fillmode": "overlay",
              "size": 10,
              "solidity": 0.2
             }
            },
            "type": "bar"
           }
          ],
          "barpolar": [
           {
            "marker": {
             "line": {
              "color": "#E5ECF6",
              "width": 0.5
             },
             "pattern": {
              "fillmode": "overlay",
              "size": 10,
              "solidity": 0.2
             }
            },
            "type": "barpolar"
           }
          ],
          "carpet": [
           {
            "aaxis": {
             "endlinecolor": "#2a3f5f",
             "gridcolor": "white",
             "linecolor": "white",
             "minorgridcolor": "white",
             "startlinecolor": "#2a3f5f"
            },
            "baxis": {
             "endlinecolor": "#2a3f5f",
             "gridcolor": "white",
             "linecolor": "white",
             "minorgridcolor": "white",
             "startlinecolor": "#2a3f5f"
            },
            "type": "carpet"
           }
          ],
          "choropleth": [
           {
            "colorbar": {
             "outlinewidth": 0,
             "ticks": ""
            },
            "type": "choropleth"
           }
          ],
          "contour": [
           {
            "colorbar": {
             "outlinewidth": 0,
             "ticks": ""
            },
            "colorscale": [
             [
              0,
              "#0d0887"
             ],
             [
              0.1111111111111111,
              "#46039f"
             ],
             [
              0.2222222222222222,
              "#7201a8"
             ],
             [
              0.3333333333333333,
              "#9c179e"
             ],
             [
              0.4444444444444444,
              "#bd3786"
             ],
             [
              0.5555555555555556,
              "#d8576b"
             ],
             [
              0.6666666666666666,
              "#ed7953"
             ],
             [
              0.7777777777777778,
              "#fb9f3a"
             ],
             [
              0.8888888888888888,
              "#fdca26"
             ],
             [
              1,
              "#f0f921"
             ]
            ],
            "type": "contour"
           }
          ],
          "contourcarpet": [
           {
            "colorbar": {
             "outlinewidth": 0,
             "ticks": ""
            },
            "type": "contourcarpet"
           }
          ],
          "heatmap": [
           {
            "colorbar": {
             "outlinewidth": 0,
             "ticks": ""
            },
            "colorscale": [
             [
              0,
              "#0d0887"
             ],
             [
              0.1111111111111111,
              "#46039f"
             ],
             [
              0.2222222222222222,
              "#7201a8"
             ],
             [
              0.3333333333333333,
              "#9c179e"
             ],
             [
              0.4444444444444444,
              "#bd3786"
             ],
             [
              0.5555555555555556,
              "#d8576b"
             ],
             [
              0.6666666666666666,
              "#ed7953"
             ],
             [
              0.7777777777777778,
              "#fb9f3a"
             ],
             [
              0.8888888888888888,
              "#fdca26"
             ],
             [
              1,
              "#f0f921"
             ]
            ],
            "type": "heatmap"
           }
          ],
          "heatmapgl": [
           {
            "colorbar": {
             "outlinewidth": 0,
             "ticks": ""
            },
            "colorscale": [
             [
              0,
              "#0d0887"
             ],
             [
              0.1111111111111111,
              "#46039f"
             ],
             [
              0.2222222222222222,
              "#7201a8"
             ],
             [
              0.3333333333333333,
              "#9c179e"
             ],
             [
              0.4444444444444444,
              "#bd3786"
             ],
             [
              0.5555555555555556,
              "#d8576b"
             ],
             [
              0.6666666666666666,
              "#ed7953"
             ],
             [
              0.7777777777777778,
              "#fb9f3a"
             ],
             [
              0.8888888888888888,
              "#fdca26"
             ],
             [
              1,
              "#f0f921"
             ]
            ],
            "type": "heatmapgl"
           }
          ],
          "histogram": [
           {
            "marker": {
             "pattern": {
              "fillmode": "overlay",
              "size": 10,
              "solidity": 0.2
             }
            },
            "type": "histogram"
           }
          ],
          "histogram2d": [
           {
            "colorbar": {
             "outlinewidth": 0,
             "ticks": ""
            },
            "colorscale": [
             [
              0,
              "#0d0887"
             ],
             [
              0.1111111111111111,
              "#46039f"
             ],
             [
              0.2222222222222222,
              "#7201a8"
             ],
             [
              0.3333333333333333,
              "#9c179e"
             ],
             [
              0.4444444444444444,
              "#bd3786"
             ],
             [
              0.5555555555555556,
              "#d8576b"
             ],
             [
              0.6666666666666666,
              "#ed7953"
             ],
             [
              0.7777777777777778,
              "#fb9f3a"
             ],
             [
              0.8888888888888888,
              "#fdca26"
             ],
             [
              1,
              "#f0f921"
             ]
            ],
            "type": "histogram2d"
           }
          ],
          "histogram2dcontour": [
           {
            "colorbar": {
             "outlinewidth": 0,
             "ticks": ""
            },
            "colorscale": [
             [
              0,
              "#0d0887"
             ],
             [
              0.1111111111111111,
              "#46039f"
             ],
             [
              0.2222222222222222,
              "#7201a8"
             ],
             [
              0.3333333333333333,
              "#9c179e"
             ],
             [
              0.4444444444444444,
              "#bd3786"
             ],
             [
              0.5555555555555556,
              "#d8576b"
             ],
             [
              0.6666666666666666,
              "#ed7953"
             ],
             [
              0.7777777777777778,
              "#fb9f3a"
             ],
             [
              0.8888888888888888,
              "#fdca26"
             ],
             [
              1,
              "#f0f921"
             ]
            ],
            "type": "histogram2dcontour"
           }
          ],
          "mesh3d": [
           {
            "colorbar": {
             "outlinewidth": 0,
             "ticks": ""
            },
            "type": "mesh3d"
           }
          ],
          "parcoords": [
           {
            "line": {
             "colorbar": {
              "outlinewidth": 0,
              "ticks": ""
             }
            },
            "type": "parcoords"
           }
          ],
          "pie": [
           {
            "automargin": true,
            "type": "pie"
           }
          ],
          "scatter": [
           {
            "fillpattern": {
             "fillmode": "overlay",
             "size": 10,
             "solidity": 0.2
            },
            "type": "scatter"
           }
          ],
          "scatter3d": [
           {
            "line": {
             "colorbar": {
              "outlinewidth": 0,
              "ticks": ""
             }
            },
            "marker": {
             "colorbar": {
              "outlinewidth": 0,
              "ticks": ""
             }
            },
            "type": "scatter3d"
           }
          ],
          "scattercarpet": [
           {
            "marker": {
             "colorbar": {
              "outlinewidth": 0,
              "ticks": ""
             }
            },
            "type": "scattercarpet"
           }
          ],
          "scattergeo": [
           {
            "marker": {
             "colorbar": {
              "outlinewidth": 0,
              "ticks": ""
             }
            },
            "type": "scattergeo"
           }
          ],
          "scattergl": [
           {
            "marker": {
             "colorbar": {
              "outlinewidth": 0,
              "ticks": ""
             }
            },
            "type": "scattergl"
           }
          ],
          "scattermapbox": [
           {
            "marker": {
             "colorbar": {
              "outlinewidth": 0,
              "ticks": ""
             }
            },
            "type": "scattermapbox"
           }
          ],
          "scatterpolar": [
           {
            "marker": {
             "colorbar": {
              "outlinewidth": 0,
              "ticks": ""
             }
            },
            "type": "scatterpolar"
           }
          ],
          "scatterpolargl": [
           {
            "marker": {
             "colorbar": {
              "outlinewidth": 0,
              "ticks": ""
             }
            },
            "type": "scatterpolargl"
           }
          ],
          "scatterternary": [
           {
            "marker": {
             "colorbar": {
              "outlinewidth": 0,
              "ticks": ""
             }
            },
            "type": "scatterternary"
           }
          ],
          "surface": [
           {
            "colorbar": {
             "outlinewidth": 0,
             "ticks": ""
            },
            "colorscale": [
             [
              0,
              "#0d0887"
             ],
             [
              0.1111111111111111,
              "#46039f"
             ],
             [
              0.2222222222222222,
              "#7201a8"
             ],
             [
              0.3333333333333333,
              "#9c179e"
             ],
             [
              0.4444444444444444,
              "#bd3786"
             ],
             [
              0.5555555555555556,
              "#d8576b"
             ],
             [
              0.6666666666666666,
              "#ed7953"
             ],
             [
              0.7777777777777778,
              "#fb9f3a"
             ],
             [
              0.8888888888888888,
              "#fdca26"
             ],
             [
              1,
              "#f0f921"
             ]
            ],
            "type": "surface"
           }
          ],
          "table": [
           {
            "cells": {
             "fill": {
              "color": "#EBF0F8"
             },
             "line": {
              "color": "white"
             }
            },
            "header": {
             "fill": {
              "color": "#C8D4E3"
             },
             "line": {
              "color": "white"
             }
            },
            "type": "table"
           }
          ]
         },
         "layout": {
          "annotationdefaults": {
           "arrowcolor": "#2a3f5f",
           "arrowhead": 0,
           "arrowwidth": 1
          },
          "autotypenumbers": "strict",
          "coloraxis": {
           "colorbar": {
            "outlinewidth": 0,
            "ticks": ""
           }
          },
          "colorscale": {
           "diverging": [
            [
             0,
             "#8e0152"
            ],
            [
             0.1,
             "#c51b7d"
            ],
            [
             0.2,
             "#de77ae"
            ],
            [
             0.3,
             "#f1b6da"
            ],
            [
             0.4,
             "#fde0ef"
            ],
            [
             0.5,
             "#f7f7f7"
            ],
            [
             0.6,
             "#e6f5d0"
            ],
            [
             0.7,
             "#b8e186"
            ],
            [
             0.8,
             "#7fbc41"
            ],
            [
             0.9,
             "#4d9221"
            ],
            [
             1,
             "#276419"
            ]
           ],
           "sequential": [
            [
             0,
             "#0d0887"
            ],
            [
             0.1111111111111111,
             "#46039f"
            ],
            [
             0.2222222222222222,
             "#7201a8"
            ],
            [
             0.3333333333333333,
             "#9c179e"
            ],
            [
             0.4444444444444444,
             "#bd3786"
            ],
            [
             0.5555555555555556,
             "#d8576b"
            ],
            [
             0.6666666666666666,
             "#ed7953"
            ],
            [
             0.7777777777777778,
             "#fb9f3a"
            ],
            [
             0.8888888888888888,
             "#fdca26"
            ],
            [
             1,
             "#f0f921"
            ]
           ],
           "sequentialminus": [
            [
             0,
             "#0d0887"
            ],
            [
             0.1111111111111111,
             "#46039f"
            ],
            [
             0.2222222222222222,
             "#7201a8"
            ],
            [
             0.3333333333333333,
             "#9c179e"
            ],
            [
             0.4444444444444444,
             "#bd3786"
            ],
            [
             0.5555555555555556,
             "#d8576b"
            ],
            [
             0.6666666666666666,
             "#ed7953"
            ],
            [
             0.7777777777777778,
             "#fb9f3a"
            ],
            [
             0.8888888888888888,
             "#fdca26"
            ],
            [
             1,
             "#f0f921"
            ]
           ]
          },
          "colorway": [
           "#636efa",
           "#EF553B",
           "#00cc96",
           "#ab63fa",
           "#FFA15A",
           "#19d3f3",
           "#FF6692",
           "#B6E880",
           "#FF97FF",
           "#FECB52"
          ],
          "font": {
           "color": "#2a3f5f"
          },
          "geo": {
           "bgcolor": "white",
           "lakecolor": "white",
           "landcolor": "#E5ECF6",
           "showlakes": true,
           "showland": true,
           "subunitcolor": "white"
          },
          "hoverlabel": {
           "align": "left"
          },
          "hovermode": "closest",
          "mapbox": {
           "style": "light"
          },
          "paper_bgcolor": "white",
          "plot_bgcolor": "#E5ECF6",
          "polar": {
           "angularaxis": {
            "gridcolor": "white",
            "linecolor": "white",
            "ticks": ""
           },
           "bgcolor": "#E5ECF6",
           "radialaxis": {
            "gridcolor": "white",
            "linecolor": "white",
            "ticks": ""
           }
          },
          "scene": {
           "xaxis": {
            "backgroundcolor": "#E5ECF6",
            "gridcolor": "white",
            "gridwidth": 2,
            "linecolor": "white",
            "showbackground": true,
            "ticks": "",
            "zerolinecolor": "white"
           },
           "yaxis": {
            "backgroundcolor": "#E5ECF6",
            "gridcolor": "white",
            "gridwidth": 2,
            "linecolor": "white",
            "showbackground": true,
            "ticks": "",
            "zerolinecolor": "white"
           },
           "zaxis": {
            "backgroundcolor": "#E5ECF6",
            "gridcolor": "white",
            "gridwidth": 2,
            "linecolor": "white",
            "showbackground": true,
            "ticks": "",
            "zerolinecolor": "white"
           }
          },
          "shapedefaults": {
           "line": {
            "color": "#2a3f5f"
           }
          },
          "ternary": {
           "aaxis": {
            "gridcolor": "white",
            "linecolor": "white",
            "ticks": ""
           },
           "baxis": {
            "gridcolor": "white",
            "linecolor": "white",
            "ticks": ""
           },
           "bgcolor": "#E5ECF6",
           "caxis": {
            "gridcolor": "white",
            "linecolor": "white",
            "ticks": ""
           }
          },
          "title": {
           "x": 0.05
          },
          "xaxis": {
           "automargin": true,
           "gridcolor": "white",
           "linecolor": "white",
           "ticks": "",
           "title": {
            "standoff": 15
           },
           "zerolinecolor": "white",
           "zerolinewidth": 2
          },
          "yaxis": {
           "automargin": true,
           "gridcolor": "white",
           "linecolor": "white",
           "ticks": "",
           "title": {
            "standoff": 15
           },
           "zerolinecolor": "white",
           "zerolinewidth": 2
          }
         }
        },
        "title": {
         "text": "Violin plot of Error_percentage_Box_fov for 180mm"
        },
        "violinmode": "group",
        "xaxis": {
         "anchor": "y",
         "domain": [
          0,
          1
         ],
         "title": {
          "text": "pond"
         }
        },
        "yaxis": {
         "anchor": "x",
         "domain": [
          0,
          1
         ],
         "title": {
          "text": "Error_percentage_Box_fov"
         }
        }
       }
      }
     },
     "metadata": {},
     "output_type": "display_data"
    },
    {
     "data": {
      "application/vnd.plotly.v1+json": {
       "config": {
        "plotlyServerURL": "https://plot.ly"
       },
       "data": [
        {
         "alignmentgroup": "True",
         "box": {
          "visible": true
         },
         "customdata": [
          [
           "undistorted_GX010191_101_1265.jpg",
           0
          ],
          [
           "undistorted_GX010191_102_1277.jpg",
           0
          ],
          [
           "undistorted_GX010191_103_1289.jpg",
           0
          ],
          [
           "undistorted_GX010191_105_1312.jpg",
           0
          ],
          [
           "undistorted_GX010191_107_1330.jpg",
           0
          ],
          [
           "undistorted_GX010191_10_370.jpg",
           0
          ],
          [
           "undistorted_GX010191_110_1355.jpg",
           3
          ],
          [
           "undistorted_GX010191_13_439.jpg",
           0
          ],
          [
           "undistorted_GX010191_15_479.jpg",
           0
          ],
          [
           "undistorted_GX010191_16_495.jpg",
           2
          ],
          [
           "undistorted_GX010191_16_495.jpg",
           3
          ],
          [
           "undistorted_GX010191_31_283.jpg",
           2
          ],
          [
           "undistorted_GX010191_34_1128.jpg",
           1
          ],
          [
           "undistorted_GX010191_35_1167.jpg",
           1
          ],
          [
           "undistorted_GX010191_35_367.jpg",
           0
          ],
          [
           "undistorted_GX010191_36_1195.jpg",
           1
          ],
          [
           "undistorted_GX010191_36_381.jpg",
           0
          ],
          [
           "undistorted_GX010191_38_1266.jpg",
           0
          ],
          [
           "undistorted_GX010191_38_404.jpg",
           0
          ],
          [
           "undistorted_GX010191_39_416.jpg",
           0
          ],
          [
           "undistorted_GX010191_42_1339.jpg",
           0
          ],
          [
           "undistorted_GX010191_42_1339.jpg",
           5
          ],
          [
           "undistorted_GX010191_42_457.jpg",
           0
          ],
          [
           "undistorted_GX010191_42_457.jpg",
           3
          ],
          [
           "undistorted_GX010191_43_1353.jpg",
           0
          ],
          [
           "undistorted_GX010191_44_478.jpg",
           0
          ],
          [
           "undistorted_GX010191_46_497.jpg",
           1
          ],
          [
           "undistorted_GX010191_94_1132.jpg",
           0
          ],
          [
           "undistorted_GX010191_95_1157.jpg",
           1
          ],
          [
           "undistorted_GX010191_98_1211.jpg",
           0
          ],
          [
           "undistorted_GX010191_99_1233.jpg",
           1
          ],
          [
           "undistorted_GX010192_17_1035.jpg",
           0
          ],
          [
           "undistorted_GX010192_25_1553.jpg",
           0
          ],
          [
           "undistorted_GX010192_26_1578.jpg",
           0
          ],
          [
           "undistorted_GX010192_9_675.jpg",
           1
          ],
          [
           "undistorted_GX010193_17_1264.jpg",
           0
          ],
          [
           "undistorted_GX010193_18_1289.jpg",
           0
          ],
          [
           "undistorted_GX010193_19_1334.jpg",
           0
          ],
          [
           "undistorted_GX010193_20_1365.jpg",
           2
          ],
          [
           "undistorted_GX010194_36_485.jpg",
           1
          ],
          [
           "undistorted_GX010194_37_496.jpg",
           1
          ],
          [
           "undistorted_GX010194_38_504.jpg",
           1
          ],
          [
           "undistorted_GX010194_39_513.jpg",
           1
          ],
          [
           "undistorted_GX010194_60_836.jpg",
           0
          ]
         ],
         "hovertemplate": "pond=%{x}<br>MAE_Box_fov=%{y}<br>image_path=%{customdata[0]}<br>index=%{customdata[1]}<extra></extra>",
         "legendgroup": "",
         "marker": {
          "color": "#636efa"
         },
         "name": "",
         "offsetgroup": "",
         "orientation": "v",
         "points": "all",
         "scalegroup": "True",
         "showlegend": false,
         "type": "violin",
         "x": [
          700,
          700,
          700,
          700,
          700,
          700,
          700,
          700,
          700,
          700,
          700,
          700,
          700,
          700,
          700,
          700,
          700,
          700,
          700,
          700,
          700,
          700,
          700,
          700,
          700,
          700,
          700,
          700,
          700,
          700,
          700,
          410,
          410,
          410,
          410,
          410,
          410,
          410,
          410,
          410,
          410,
          410,
          410,
          410
         ],
         "x0": " ",
         "xaxis": "x",
         "y": [
          0.0194965391813184,
          2.591290352839792,
          4.409934615331991,
          5.017377870549069,
          9.329179568803935,
          1.2906775676446216,
          1.1308129740977222,
          4.991919221819103,
          3.2147145829624435,
          8.60945161146438,
          10.68780912576969,
          5.249453817803016,
          13.645693229914656,
          12.497685762792004,
          0.2193997354067676,
          10.711884983920868,
          2.151306601826974,
          0.1205979643033288,
          18.20815316064076,
          7.212226767978109,
          1.2891022885394534,
          4.771489505595071,
          13.364376386681071,
          6.147488540659055,
          5.202396271852251,
          6.209194335740932,
          3.960915757120574,
          21.01619751658617,
          11.292198002425325,
          9.235103173187667,
          13.398625108015125,
          14.293675074539236,
          7.90905508754841,
          12.37056169152106,
          12.278800877797522,
          3.295868661461185,
          7.964997182615036,
          11.457801016719912,
          0.2794095280393947,
          2.596409113785711,
          3.066500644571761,
          7.420820507205178,
          6.066683365614864,
          12.37021109490462
         ],
         "y0": " ",
         "yaxis": "y"
        }
       ],
       "layout": {
        "legend": {
         "tracegroupgap": 0
        },
        "template": {
         "data": {
          "bar": [
           {
            "error_x": {
             "color": "#2a3f5f"
            },
            "error_y": {
             "color": "#2a3f5f"
            },
            "marker": {
             "line": {
              "color": "#E5ECF6",
              "width": 0.5
             },
             "pattern": {
              "fillmode": "overlay",
              "size": 10,
              "solidity": 0.2
             }
            },
            "type": "bar"
           }
          ],
          "barpolar": [
           {
            "marker": {
             "line": {
              "color": "#E5ECF6",
              "width": 0.5
             },
             "pattern": {
              "fillmode": "overlay",
              "size": 10,
              "solidity": 0.2
             }
            },
            "type": "barpolar"
           }
          ],
          "carpet": [
           {
            "aaxis": {
             "endlinecolor": "#2a3f5f",
             "gridcolor": "white",
             "linecolor": "white",
             "minorgridcolor": "white",
             "startlinecolor": "#2a3f5f"
            },
            "baxis": {
             "endlinecolor": "#2a3f5f",
             "gridcolor": "white",
             "linecolor": "white",
             "minorgridcolor": "white",
             "startlinecolor": "#2a3f5f"
            },
            "type": "carpet"
           }
          ],
          "choropleth": [
           {
            "colorbar": {
             "outlinewidth": 0,
             "ticks": ""
            },
            "type": "choropleth"
           }
          ],
          "contour": [
           {
            "colorbar": {
             "outlinewidth": 0,
             "ticks": ""
            },
            "colorscale": [
             [
              0,
              "#0d0887"
             ],
             [
              0.1111111111111111,
              "#46039f"
             ],
             [
              0.2222222222222222,
              "#7201a8"
             ],
             [
              0.3333333333333333,
              "#9c179e"
             ],
             [
              0.4444444444444444,
              "#bd3786"
             ],
             [
              0.5555555555555556,
              "#d8576b"
             ],
             [
              0.6666666666666666,
              "#ed7953"
             ],
             [
              0.7777777777777778,
              "#fb9f3a"
             ],
             [
              0.8888888888888888,
              "#fdca26"
             ],
             [
              1,
              "#f0f921"
             ]
            ],
            "type": "contour"
           }
          ],
          "contourcarpet": [
           {
            "colorbar": {
             "outlinewidth": 0,
             "ticks": ""
            },
            "type": "contourcarpet"
           }
          ],
          "heatmap": [
           {
            "colorbar": {
             "outlinewidth": 0,
             "ticks": ""
            },
            "colorscale": [
             [
              0,
              "#0d0887"
             ],
             [
              0.1111111111111111,
              "#46039f"
             ],
             [
              0.2222222222222222,
              "#7201a8"
             ],
             [
              0.3333333333333333,
              "#9c179e"
             ],
             [
              0.4444444444444444,
              "#bd3786"
             ],
             [
              0.5555555555555556,
              "#d8576b"
             ],
             [
              0.6666666666666666,
              "#ed7953"
             ],
             [
              0.7777777777777778,
              "#fb9f3a"
             ],
             [
              0.8888888888888888,
              "#fdca26"
             ],
             [
              1,
              "#f0f921"
             ]
            ],
            "type": "heatmap"
           }
          ],
          "heatmapgl": [
           {
            "colorbar": {
             "outlinewidth": 0,
             "ticks": ""
            },
            "colorscale": [
             [
              0,
              "#0d0887"
             ],
             [
              0.1111111111111111,
              "#46039f"
             ],
             [
              0.2222222222222222,
              "#7201a8"
             ],
             [
              0.3333333333333333,
              "#9c179e"
             ],
             [
              0.4444444444444444,
              "#bd3786"
             ],
             [
              0.5555555555555556,
              "#d8576b"
             ],
             [
              0.6666666666666666,
              "#ed7953"
             ],
             [
              0.7777777777777778,
              "#fb9f3a"
             ],
             [
              0.8888888888888888,
              "#fdca26"
             ],
             [
              1,
              "#f0f921"
             ]
            ],
            "type": "heatmapgl"
           }
          ],
          "histogram": [
           {
            "marker": {
             "pattern": {
              "fillmode": "overlay",
              "size": 10,
              "solidity": 0.2
             }
            },
            "type": "histogram"
           }
          ],
          "histogram2d": [
           {
            "colorbar": {
             "outlinewidth": 0,
             "ticks": ""
            },
            "colorscale": [
             [
              0,
              "#0d0887"
             ],
             [
              0.1111111111111111,
              "#46039f"
             ],
             [
              0.2222222222222222,
              "#7201a8"
             ],
             [
              0.3333333333333333,
              "#9c179e"
             ],
             [
              0.4444444444444444,
              "#bd3786"
             ],
             [
              0.5555555555555556,
              "#d8576b"
             ],
             [
              0.6666666666666666,
              "#ed7953"
             ],
             [
              0.7777777777777778,
              "#fb9f3a"
             ],
             [
              0.8888888888888888,
              "#fdca26"
             ],
             [
              1,
              "#f0f921"
             ]
            ],
            "type": "histogram2d"
           }
          ],
          "histogram2dcontour": [
           {
            "colorbar": {
             "outlinewidth": 0,
             "ticks": ""
            },
            "colorscale": [
             [
              0,
              "#0d0887"
             ],
             [
              0.1111111111111111,
              "#46039f"
             ],
             [
              0.2222222222222222,
              "#7201a8"
             ],
             [
              0.3333333333333333,
              "#9c179e"
             ],
             [
              0.4444444444444444,
              "#bd3786"
             ],
             [
              0.5555555555555556,
              "#d8576b"
             ],
             [
              0.6666666666666666,
              "#ed7953"
             ],
             [
              0.7777777777777778,
              "#fb9f3a"
             ],
             [
              0.8888888888888888,
              "#fdca26"
             ],
             [
              1,
              "#f0f921"
             ]
            ],
            "type": "histogram2dcontour"
           }
          ],
          "mesh3d": [
           {
            "colorbar": {
             "outlinewidth": 0,
             "ticks": ""
            },
            "type": "mesh3d"
           }
          ],
          "parcoords": [
           {
            "line": {
             "colorbar": {
              "outlinewidth": 0,
              "ticks": ""
             }
            },
            "type": "parcoords"
           }
          ],
          "pie": [
           {
            "automargin": true,
            "type": "pie"
           }
          ],
          "scatter": [
           {
            "fillpattern": {
             "fillmode": "overlay",
             "size": 10,
             "solidity": 0.2
            },
            "type": "scatter"
           }
          ],
          "scatter3d": [
           {
            "line": {
             "colorbar": {
              "outlinewidth": 0,
              "ticks": ""
             }
            },
            "marker": {
             "colorbar": {
              "outlinewidth": 0,
              "ticks": ""
             }
            },
            "type": "scatter3d"
           }
          ],
          "scattercarpet": [
           {
            "marker": {
             "colorbar": {
              "outlinewidth": 0,
              "ticks": ""
             }
            },
            "type": "scattercarpet"
           }
          ],
          "scattergeo": [
           {
            "marker": {
             "colorbar": {
              "outlinewidth": 0,
              "ticks": ""
             }
            },
            "type": "scattergeo"
           }
          ],
          "scattergl": [
           {
            "marker": {
             "colorbar": {
              "outlinewidth": 0,
              "ticks": ""
             }
            },
            "type": "scattergl"
           }
          ],
          "scattermapbox": [
           {
            "marker": {
             "colorbar": {
              "outlinewidth": 0,
              "ticks": ""
             }
            },
            "type": "scattermapbox"
           }
          ],
          "scatterpolar": [
           {
            "marker": {
             "colorbar": {
              "outlinewidth": 0,
              "ticks": ""
             }
            },
            "type": "scatterpolar"
           }
          ],
          "scatterpolargl": [
           {
            "marker": {
             "colorbar": {
              "outlinewidth": 0,
              "ticks": ""
             }
            },
            "type": "scatterpolargl"
           }
          ],
          "scatterternary": [
           {
            "marker": {
             "colorbar": {
              "outlinewidth": 0,
              "ticks": ""
             }
            },
            "type": "scatterternary"
           }
          ],
          "surface": [
           {
            "colorbar": {
             "outlinewidth": 0,
             "ticks": ""
            },
            "colorscale": [
             [
              0,
              "#0d0887"
             ],
             [
              0.1111111111111111,
              "#46039f"
             ],
             [
              0.2222222222222222,
              "#7201a8"
             ],
             [
              0.3333333333333333,
              "#9c179e"
             ],
             [
              0.4444444444444444,
              "#bd3786"
             ],
             [
              0.5555555555555556,
              "#d8576b"
             ],
             [
              0.6666666666666666,
              "#ed7953"
             ],
             [
              0.7777777777777778,
              "#fb9f3a"
             ],
             [
              0.8888888888888888,
              "#fdca26"
             ],
             [
              1,
              "#f0f921"
             ]
            ],
            "type": "surface"
           }
          ],
          "table": [
           {
            "cells": {
             "fill": {
              "color": "#EBF0F8"
             },
             "line": {
              "color": "white"
             }
            },
            "header": {
             "fill": {
              "color": "#C8D4E3"
             },
             "line": {
              "color": "white"
             }
            },
            "type": "table"
           }
          ]
         },
         "layout": {
          "annotationdefaults": {
           "arrowcolor": "#2a3f5f",
           "arrowhead": 0,
           "arrowwidth": 1
          },
          "autotypenumbers": "strict",
          "coloraxis": {
           "colorbar": {
            "outlinewidth": 0,
            "ticks": ""
           }
          },
          "colorscale": {
           "diverging": [
            [
             0,
             "#8e0152"
            ],
            [
             0.1,
             "#c51b7d"
            ],
            [
             0.2,
             "#de77ae"
            ],
            [
             0.3,
             "#f1b6da"
            ],
            [
             0.4,
             "#fde0ef"
            ],
            [
             0.5,
             "#f7f7f7"
            ],
            [
             0.6,
             "#e6f5d0"
            ],
            [
             0.7,
             "#b8e186"
            ],
            [
             0.8,
             "#7fbc41"
            ],
            [
             0.9,
             "#4d9221"
            ],
            [
             1,
             "#276419"
            ]
           ],
           "sequential": [
            [
             0,
             "#0d0887"
            ],
            [
             0.1111111111111111,
             "#46039f"
            ],
            [
             0.2222222222222222,
             "#7201a8"
            ],
            [
             0.3333333333333333,
             "#9c179e"
            ],
            [
             0.4444444444444444,
             "#bd3786"
            ],
            [
             0.5555555555555556,
             "#d8576b"
            ],
            [
             0.6666666666666666,
             "#ed7953"
            ],
            [
             0.7777777777777778,
             "#fb9f3a"
            ],
            [
             0.8888888888888888,
             "#fdca26"
            ],
            [
             1,
             "#f0f921"
            ]
           ],
           "sequentialminus": [
            [
             0,
             "#0d0887"
            ],
            [
             0.1111111111111111,
             "#46039f"
            ],
            [
             0.2222222222222222,
             "#7201a8"
            ],
            [
             0.3333333333333333,
             "#9c179e"
            ],
            [
             0.4444444444444444,
             "#bd3786"
            ],
            [
             0.5555555555555556,
             "#d8576b"
            ],
            [
             0.6666666666666666,
             "#ed7953"
            ],
            [
             0.7777777777777778,
             "#fb9f3a"
            ],
            [
             0.8888888888888888,
             "#fdca26"
            ],
            [
             1,
             "#f0f921"
            ]
           ]
          },
          "colorway": [
           "#636efa",
           "#EF553B",
           "#00cc96",
           "#ab63fa",
           "#FFA15A",
           "#19d3f3",
           "#FF6692",
           "#B6E880",
           "#FF97FF",
           "#FECB52"
          ],
          "font": {
           "color": "#2a3f5f"
          },
          "geo": {
           "bgcolor": "white",
           "lakecolor": "white",
           "landcolor": "#E5ECF6",
           "showlakes": true,
           "showland": true,
           "subunitcolor": "white"
          },
          "hoverlabel": {
           "align": "left"
          },
          "hovermode": "closest",
          "mapbox": {
           "style": "light"
          },
          "paper_bgcolor": "white",
          "plot_bgcolor": "#E5ECF6",
          "polar": {
           "angularaxis": {
            "gridcolor": "white",
            "linecolor": "white",
            "ticks": ""
           },
           "bgcolor": "#E5ECF6",
           "radialaxis": {
            "gridcolor": "white",
            "linecolor": "white",
            "ticks": ""
           }
          },
          "scene": {
           "xaxis": {
            "backgroundcolor": "#E5ECF6",
            "gridcolor": "white",
            "gridwidth": 2,
            "linecolor": "white",
            "showbackground": true,
            "ticks": "",
            "zerolinecolor": "white"
           },
           "yaxis": {
            "backgroundcolor": "#E5ECF6",
            "gridcolor": "white",
            "gridwidth": 2,
            "linecolor": "white",
            "showbackground": true,
            "ticks": "",
            "zerolinecolor": "white"
           },
           "zaxis": {
            "backgroundcolor": "#E5ECF6",
            "gridcolor": "white",
            "gridwidth": 2,
            "linecolor": "white",
            "showbackground": true,
            "ticks": "",
            "zerolinecolor": "white"
           }
          },
          "shapedefaults": {
           "line": {
            "color": "#2a3f5f"
           }
          },
          "ternary": {
           "aaxis": {
            "gridcolor": "white",
            "linecolor": "white",
            "ticks": ""
           },
           "baxis": {
            "gridcolor": "white",
            "linecolor": "white",
            "ticks": ""
           },
           "bgcolor": "#E5ECF6",
           "caxis": {
            "gridcolor": "white",
            "linecolor": "white",
            "ticks": ""
           }
          },
          "title": {
           "x": 0.05
          },
          "xaxis": {
           "automargin": true,
           "gridcolor": "white",
           "linecolor": "white",
           "ticks": "",
           "title": {
            "standoff": 15
           },
           "zerolinecolor": "white",
           "zerolinewidth": 2
          },
          "yaxis": {
           "automargin": true,
           "gridcolor": "white",
           "linecolor": "white",
           "ticks": "",
           "title": {
            "standoff": 15
           },
           "zerolinecolor": "white",
           "zerolinewidth": 2
          }
         }
        },
        "title": {
         "text": "Violin plot of MAE_Box_fov for 143mm"
        },
        "violinmode": "group",
        "xaxis": {
         "anchor": "y",
         "domain": [
          0,
          1
         ],
         "title": {
          "text": "pond"
         }
        },
        "yaxis": {
         "anchor": "x",
         "domain": [
          0,
          1
         ],
         "title": {
          "text": "MAE_Box_fov"
         }
        }
       }
      }
     },
     "metadata": {},
     "output_type": "display_data"
    },
    {
     "data": {
      "application/vnd.plotly.v1+json": {
       "config": {
        "plotlyServerURL": "https://plot.ly"
       },
       "data": [
        {
         "alignmentgroup": "True",
         "box": {
          "visible": true
         },
         "customdata": [
          [
           "undistorted_GX010191_116_1399.jpg",
           0
          ],
          [
           "undistorted_GX010191_16_495.jpg",
           1
          ],
          [
           "undistorted_GX010191_17_509.jpg",
           1
          ],
          [
           "undistorted_GX010191_18_521.jpg",
           0
          ],
          [
           "undistorted_GX010191_19_537.jpg",
           0
          ],
          [
           "undistorted_GX010191_29_257.jpg",
           1
          ],
          [
           "undistorted_GX010191_31_283.jpg",
           1
          ],
          [
           "undistorted_GX010191_32_1049.jpg",
           0
          ],
          [
           "undistorted_GX010191_33_1087.jpg",
           1
          ],
          [
           "undistorted_GX010191_33_331.jpg",
           0
          ],
          [
           "undistorted_GX010191_33_331.jpg",
           2
          ],
          [
           "undistorted_GX010191_34_1128.jpg",
           0
          ],
          [
           "undistorted_GX010191_35_1167.jpg",
           0
          ],
          [
           "undistorted_GX010191_35_1167.jpg",
           4
          ],
          [
           "undistorted_GX010191_42_1339.jpg",
           1
          ],
          [
           "undistorted_GX010191_43_1353.jpg",
           3
          ],
          [
           "undistorted_GX010191_44_478.jpg",
           1
          ],
          [
           "undistorted_GX010191_51_535.jpg",
           0
          ],
          [
           "undistorted_GX010191_5_190.jpg",
           2
          ],
          [
           "undistorted_GX010191_6_219.jpg",
           0
          ],
          [
           "undistorted_GX010191_88_1016.jpg",
           0
          ],
          [
           "undistorted_GX010191_91_1066.jpg",
           2
          ],
          [
           "undistorted_GX010191_92_1087.jpg",
           1
          ],
          [
           "undistorted_GX010191_95_1157.jpg",
           0
          ],
          [
           "undistorted_GX010191_96_1175.jpg",
           0
          ],
          [
           "undistorted_GX010191_97_1190.jpg",
           0
          ],
          [
           "undistorted_GX010191_98_1211.jpg",
           1
          ],
          [
           "undistorted_GX010193_10_1039.jpg",
           0
          ],
          [
           "undistorted_GX010193_11_1065.jpg",
           0
          ],
          [
           "undistorted_GX010193_27_1553.jpg",
           1
          ],
          [
           "undistorted_GX010193_3_251.jpg",
           0
          ],
          [
           "undistorted_GX010193_4_283.jpg",
           1
          ],
          [
           "undistorted_GX010194_15_231.jpg",
           0
          ],
          [
           "undistorted_GX010194_16_240.jpg",
           0
          ],
          [
           "undistorted_GX010194_17_257.jpg",
           1
          ],
          [
           "undistorted_GX010194_18_272.jpg",
           0
          ],
          [
           "undistorted_GX010194_19_285.jpg",
           0
          ],
          [
           "undistorted_GX010194_46_620.jpg",
           1
          ],
          [
           "undistorted_GX010194_55_768.jpg",
           2
          ],
          [
           "undistorted_GX010194_56_784.jpg",
           0
          ],
          [
           "undistorted_GX010194_57_798.jpg",
           0
          ],
          [
           "undistorted_GX010194_58_810.jpg",
           2
          ]
         ],
         "hovertemplate": "pond=%{x}<br>MAE_Box_fov=%{y}<br>image_path=%{customdata[0]}<br>index=%{customdata[1]}<extra></extra>",
         "legendgroup": "",
         "marker": {
          "color": "#636efa"
         },
         "name": "",
         "offsetgroup": "",
         "orientation": "v",
         "points": "all",
         "scalegroup": "True",
         "showlegend": false,
         "type": "violin",
         "x": [
          700,
          700,
          700,
          700,
          700,
          700,
          700,
          700,
          700,
          700,
          700,
          700,
          700,
          700,
          700,
          700,
          700,
          700,
          700,
          700,
          700,
          700,
          700,
          700,
          700,
          700,
          700,
          410,
          410,
          410,
          410,
          410,
          410,
          410,
          410,
          410,
          410,
          410,
          410,
          410,
          410,
          410
         ],
         "x0": " ",
         "xaxis": "x",
         "y": [
          10.755591773477192,
          4.283151928787049,
          8.563460275099374,
          8.193892307823802,
          6.292647184891848,
          17.968720394053463,
          3.825749164897161,
          11.41521539847446,
          9.061308647779384,
          4.285277996235976,
          4.434772267328555,
          5.459171319813521,
          16.594984833731303,
          16.594984833731303,
          7.591767138854095,
          2.626212072995997,
          0.8244636910790462,
          7.49858333892098,
          14.570008993302366,
          11.606411187278129,
          25.13674649095958,
          11.07355666685703,
          9.061308647779384,
          16.277332749052135,
          7.321972364774552,
          19.047043152925283,
          20.61414665012518,
          0.8947579989565781,
          8.225347546286343,
          12.919258774979056,
          18.811643934856363,
          4.119377864028792,
          14.10487762564631,
          7.533449829727687,
          11.769490427420948,
          14.802379313853748,
          2.1897667317691685,
          8.481315814613396,
          10.02648470407152,
          23.94271816012088,
          17.1381639839513,
          20.192844447858675
         ],
         "y0": " ",
         "yaxis": "y"
        }
       ],
       "layout": {
        "legend": {
         "tracegroupgap": 0
        },
        "template": {
         "data": {
          "bar": [
           {
            "error_x": {
             "color": "#2a3f5f"
            },
            "error_y": {
             "color": "#2a3f5f"
            },
            "marker": {
             "line": {
              "color": "#E5ECF6",
              "width": 0.5
             },
             "pattern": {
              "fillmode": "overlay",
              "size": 10,
              "solidity": 0.2
             }
            },
            "type": "bar"
           }
          ],
          "barpolar": [
           {
            "marker": {
             "line": {
              "color": "#E5ECF6",
              "width": 0.5
             },
             "pattern": {
              "fillmode": "overlay",
              "size": 10,
              "solidity": 0.2
             }
            },
            "type": "barpolar"
           }
          ],
          "carpet": [
           {
            "aaxis": {
             "endlinecolor": "#2a3f5f",
             "gridcolor": "white",
             "linecolor": "white",
             "minorgridcolor": "white",
             "startlinecolor": "#2a3f5f"
            },
            "baxis": {
             "endlinecolor": "#2a3f5f",
             "gridcolor": "white",
             "linecolor": "white",
             "minorgridcolor": "white",
             "startlinecolor": "#2a3f5f"
            },
            "type": "carpet"
           }
          ],
          "choropleth": [
           {
            "colorbar": {
             "outlinewidth": 0,
             "ticks": ""
            },
            "type": "choropleth"
           }
          ],
          "contour": [
           {
            "colorbar": {
             "outlinewidth": 0,
             "ticks": ""
            },
            "colorscale": [
             [
              0,
              "#0d0887"
             ],
             [
              0.1111111111111111,
              "#46039f"
             ],
             [
              0.2222222222222222,
              "#7201a8"
             ],
             [
              0.3333333333333333,
              "#9c179e"
             ],
             [
              0.4444444444444444,
              "#bd3786"
             ],
             [
              0.5555555555555556,
              "#d8576b"
             ],
             [
              0.6666666666666666,
              "#ed7953"
             ],
             [
              0.7777777777777778,
              "#fb9f3a"
             ],
             [
              0.8888888888888888,
              "#fdca26"
             ],
             [
              1,
              "#f0f921"
             ]
            ],
            "type": "contour"
           }
          ],
          "contourcarpet": [
           {
            "colorbar": {
             "outlinewidth": 0,
             "ticks": ""
            },
            "type": "contourcarpet"
           }
          ],
          "heatmap": [
           {
            "colorbar": {
             "outlinewidth": 0,
             "ticks": ""
            },
            "colorscale": [
             [
              0,
              "#0d0887"
             ],
             [
              0.1111111111111111,
              "#46039f"
             ],
             [
              0.2222222222222222,
              "#7201a8"
             ],
             [
              0.3333333333333333,
              "#9c179e"
             ],
             [
              0.4444444444444444,
              "#bd3786"
             ],
             [
              0.5555555555555556,
              "#d8576b"
             ],
             [
              0.6666666666666666,
              "#ed7953"
             ],
             [
              0.7777777777777778,
              "#fb9f3a"
             ],
             [
              0.8888888888888888,
              "#fdca26"
             ],
             [
              1,
              "#f0f921"
             ]
            ],
            "type": "heatmap"
           }
          ],
          "heatmapgl": [
           {
            "colorbar": {
             "outlinewidth": 0,
             "ticks": ""
            },
            "colorscale": [
             [
              0,
              "#0d0887"
             ],
             [
              0.1111111111111111,
              "#46039f"
             ],
             [
              0.2222222222222222,
              "#7201a8"
             ],
             [
              0.3333333333333333,
              "#9c179e"
             ],
             [
              0.4444444444444444,
              "#bd3786"
             ],
             [
              0.5555555555555556,
              "#d8576b"
             ],
             [
              0.6666666666666666,
              "#ed7953"
             ],
             [
              0.7777777777777778,
              "#fb9f3a"
             ],
             [
              0.8888888888888888,
              "#fdca26"
             ],
             [
              1,
              "#f0f921"
             ]
            ],
            "type": "heatmapgl"
           }
          ],
          "histogram": [
           {
            "marker": {
             "pattern": {
              "fillmode": "overlay",
              "size": 10,
              "solidity": 0.2
             }
            },
            "type": "histogram"
           }
          ],
          "histogram2d": [
           {
            "colorbar": {
             "outlinewidth": 0,
             "ticks": ""
            },
            "colorscale": [
             [
              0,
              "#0d0887"
             ],
             [
              0.1111111111111111,
              "#46039f"
             ],
             [
              0.2222222222222222,
              "#7201a8"
             ],
             [
              0.3333333333333333,
              "#9c179e"
             ],
             [
              0.4444444444444444,
              "#bd3786"
             ],
             [
              0.5555555555555556,
              "#d8576b"
             ],
             [
              0.6666666666666666,
              "#ed7953"
             ],
             [
              0.7777777777777778,
              "#fb9f3a"
             ],
             [
              0.8888888888888888,
              "#fdca26"
             ],
             [
              1,
              "#f0f921"
             ]
            ],
            "type": "histogram2d"
           }
          ],
          "histogram2dcontour": [
           {
            "colorbar": {
             "outlinewidth": 0,
             "ticks": ""
            },
            "colorscale": [
             [
              0,
              "#0d0887"
             ],
             [
              0.1111111111111111,
              "#46039f"
             ],
             [
              0.2222222222222222,
              "#7201a8"
             ],
             [
              0.3333333333333333,
              "#9c179e"
             ],
             [
              0.4444444444444444,
              "#bd3786"
             ],
             [
              0.5555555555555556,
              "#d8576b"
             ],
             [
              0.6666666666666666,
              "#ed7953"
             ],
             [
              0.7777777777777778,
              "#fb9f3a"
             ],
             [
              0.8888888888888888,
              "#fdca26"
             ],
             [
              1,
              "#f0f921"
             ]
            ],
            "type": "histogram2dcontour"
           }
          ],
          "mesh3d": [
           {
            "colorbar": {
             "outlinewidth": 0,
             "ticks": ""
            },
            "type": "mesh3d"
           }
          ],
          "parcoords": [
           {
            "line": {
             "colorbar": {
              "outlinewidth": 0,
              "ticks": ""
             }
            },
            "type": "parcoords"
           }
          ],
          "pie": [
           {
            "automargin": true,
            "type": "pie"
           }
          ],
          "scatter": [
           {
            "fillpattern": {
             "fillmode": "overlay",
             "size": 10,
             "solidity": 0.2
            },
            "type": "scatter"
           }
          ],
          "scatter3d": [
           {
            "line": {
             "colorbar": {
              "outlinewidth": 0,
              "ticks": ""
             }
            },
            "marker": {
             "colorbar": {
              "outlinewidth": 0,
              "ticks": ""
             }
            },
            "type": "scatter3d"
           }
          ],
          "scattercarpet": [
           {
            "marker": {
             "colorbar": {
              "outlinewidth": 0,
              "ticks": ""
             }
            },
            "type": "scattercarpet"
           }
          ],
          "scattergeo": [
           {
            "marker": {
             "colorbar": {
              "outlinewidth": 0,
              "ticks": ""
             }
            },
            "type": "scattergeo"
           }
          ],
          "scattergl": [
           {
            "marker": {
             "colorbar": {
              "outlinewidth": 0,
              "ticks": ""
             }
            },
            "type": "scattergl"
           }
          ],
          "scattermapbox": [
           {
            "marker": {
             "colorbar": {
              "outlinewidth": 0,
              "ticks": ""
             }
            },
            "type": "scattermapbox"
           }
          ],
          "scatterpolar": [
           {
            "marker": {
             "colorbar": {
              "outlinewidth": 0,
              "ticks": ""
             }
            },
            "type": "scatterpolar"
           }
          ],
          "scatterpolargl": [
           {
            "marker": {
             "colorbar": {
              "outlinewidth": 0,
              "ticks": ""
             }
            },
            "type": "scatterpolargl"
           }
          ],
          "scatterternary": [
           {
            "marker": {
             "colorbar": {
              "outlinewidth": 0,
              "ticks": ""
             }
            },
            "type": "scatterternary"
           }
          ],
          "surface": [
           {
            "colorbar": {
             "outlinewidth": 0,
             "ticks": ""
            },
            "colorscale": [
             [
              0,
              "#0d0887"
             ],
             [
              0.1111111111111111,
              "#46039f"
             ],
             [
              0.2222222222222222,
              "#7201a8"
             ],
             [
              0.3333333333333333,
              "#9c179e"
             ],
             [
              0.4444444444444444,
              "#bd3786"
             ],
             [
              0.5555555555555556,
              "#d8576b"
             ],
             [
              0.6666666666666666,
              "#ed7953"
             ],
             [
              0.7777777777777778,
              "#fb9f3a"
             ],
             [
              0.8888888888888888,
              "#fdca26"
             ],
             [
              1,
              "#f0f921"
             ]
            ],
            "type": "surface"
           }
          ],
          "table": [
           {
            "cells": {
             "fill": {
              "color": "#EBF0F8"
             },
             "line": {
              "color": "white"
             }
            },
            "header": {
             "fill": {
              "color": "#C8D4E3"
             },
             "line": {
              "color": "white"
             }
            },
            "type": "table"
           }
          ]
         },
         "layout": {
          "annotationdefaults": {
           "arrowcolor": "#2a3f5f",
           "arrowhead": 0,
           "arrowwidth": 1
          },
          "autotypenumbers": "strict",
          "coloraxis": {
           "colorbar": {
            "outlinewidth": 0,
            "ticks": ""
           }
          },
          "colorscale": {
           "diverging": [
            [
             0,
             "#8e0152"
            ],
            [
             0.1,
             "#c51b7d"
            ],
            [
             0.2,
             "#de77ae"
            ],
            [
             0.3,
             "#f1b6da"
            ],
            [
             0.4,
             "#fde0ef"
            ],
            [
             0.5,
             "#f7f7f7"
            ],
            [
             0.6,
             "#e6f5d0"
            ],
            [
             0.7,
             "#b8e186"
            ],
            [
             0.8,
             "#7fbc41"
            ],
            [
             0.9,
             "#4d9221"
            ],
            [
             1,
             "#276419"
            ]
           ],
           "sequential": [
            [
             0,
             "#0d0887"
            ],
            [
             0.1111111111111111,
             "#46039f"
            ],
            [
             0.2222222222222222,
             "#7201a8"
            ],
            [
             0.3333333333333333,
             "#9c179e"
            ],
            [
             0.4444444444444444,
             "#bd3786"
            ],
            [
             0.5555555555555556,
             "#d8576b"
            ],
            [
             0.6666666666666666,
             "#ed7953"
            ],
            [
             0.7777777777777778,
             "#fb9f3a"
            ],
            [
             0.8888888888888888,
             "#fdca26"
            ],
            [
             1,
             "#f0f921"
            ]
           ],
           "sequentialminus": [
            [
             0,
             "#0d0887"
            ],
            [
             0.1111111111111111,
             "#46039f"
            ],
            [
             0.2222222222222222,
             "#7201a8"
            ],
            [
             0.3333333333333333,
             "#9c179e"
            ],
            [
             0.4444444444444444,
             "#bd3786"
            ],
            [
             0.5555555555555556,
             "#d8576b"
            ],
            [
             0.6666666666666666,
             "#ed7953"
            ],
            [
             0.7777777777777778,
             "#fb9f3a"
            ],
            [
             0.8888888888888888,
             "#fdca26"
            ],
            [
             1,
             "#f0f921"
            ]
           ]
          },
          "colorway": [
           "#636efa",
           "#EF553B",
           "#00cc96",
           "#ab63fa",
           "#FFA15A",
           "#19d3f3",
           "#FF6692",
           "#B6E880",
           "#FF97FF",
           "#FECB52"
          ],
          "font": {
           "color": "#2a3f5f"
          },
          "geo": {
           "bgcolor": "white",
           "lakecolor": "white",
           "landcolor": "#E5ECF6",
           "showlakes": true,
           "showland": true,
           "subunitcolor": "white"
          },
          "hoverlabel": {
           "align": "left"
          },
          "hovermode": "closest",
          "mapbox": {
           "style": "light"
          },
          "paper_bgcolor": "white",
          "plot_bgcolor": "#E5ECF6",
          "polar": {
           "angularaxis": {
            "gridcolor": "white",
            "linecolor": "white",
            "ticks": ""
           },
           "bgcolor": "#E5ECF6",
           "radialaxis": {
            "gridcolor": "white",
            "linecolor": "white",
            "ticks": ""
           }
          },
          "scene": {
           "xaxis": {
            "backgroundcolor": "#E5ECF6",
            "gridcolor": "white",
            "gridwidth": 2,
            "linecolor": "white",
            "showbackground": true,
            "ticks": "",
            "zerolinecolor": "white"
           },
           "yaxis": {
            "backgroundcolor": "#E5ECF6",
            "gridcolor": "white",
            "gridwidth": 2,
            "linecolor": "white",
            "showbackground": true,
            "ticks": "",
            "zerolinecolor": "white"
           },
           "zaxis": {
            "backgroundcolor": "#E5ECF6",
            "gridcolor": "white",
            "gridwidth": 2,
            "linecolor": "white",
            "showbackground": true,
            "ticks": "",
            "zerolinecolor": "white"
           }
          },
          "shapedefaults": {
           "line": {
            "color": "#2a3f5f"
           }
          },
          "ternary": {
           "aaxis": {
            "gridcolor": "white",
            "linecolor": "white",
            "ticks": ""
           },
           "baxis": {
            "gridcolor": "white",
            "linecolor": "white",
            "ticks": ""
           },
           "bgcolor": "#E5ECF6",
           "caxis": {
            "gridcolor": "white",
            "linecolor": "white",
            "ticks": ""
           }
          },
          "title": {
           "x": 0.05
          },
          "xaxis": {
           "automargin": true,
           "gridcolor": "white",
           "linecolor": "white",
           "ticks": "",
           "title": {
            "standoff": 15
           },
           "zerolinecolor": "white",
           "zerolinewidth": 2
          },
          "yaxis": {
           "automargin": true,
           "gridcolor": "white",
           "linecolor": "white",
           "ticks": "",
           "title": {
            "standoff": 15
           },
           "zerolinecolor": "white",
           "zerolinewidth": 2
          }
         }
        },
        "title": {
         "text": "Violin plot of MAE_Box_fov for 180mm"
        },
        "violinmode": "group",
        "xaxis": {
         "anchor": "y",
         "domain": [
          0,
          1
         ],
         "title": {
          "text": "pond"
         }
        },
        "yaxis": {
         "anchor": "x",
         "domain": [
          0,
          1
         ],
         "title": {
          "text": "MAE_Box_fov"
         }
        }
       }
      }
     },
     "metadata": {},
     "output_type": "display_data"
    }
   ],
   "source": [
    "for error in ['Error_percentage_Box_fov', 'MAE_Box_fov']:\n",
    "\n",
    "    for true_length in [143, 180]:\n",
    "        # Create a violin plot using plotly \n",
    "        fig = px.violin(df_clean[df_clean['true_length'] == true_length],\n",
    "                        x='pond', \n",
    "                        y=error, \n",
    "                        box=True,  # Include box plot\n",
    "                        points=\"all\",  # Show all points\n",
    "                        hover_data=['image_path', 'index'],  # Include hover data\n",
    "                        title=f'Violin plot of {error} for {true_length}mm',)\n",
    "        #Save the plot to png\n",
    "        fig.write_image(f'violin {error}_{true_length}.png')\n",
    "        fig.show()"
   ]
  },
  {
   "cell_type": "code",
   "execution_count": 62,
   "metadata": {},
   "outputs": [
    {
     "data": {
      "text/html": [
       "<div>\n",
       "<style scoped>\n",
       "    .dataframe tbody tr th:only-of-type {\n",
       "        vertical-align: middle;\n",
       "    }\n",
       "\n",
       "    .dataframe tbody tr th {\n",
       "        vertical-align: top;\n",
       "    }\n",
       "\n",
       "    .dataframe thead th {\n",
       "        text-align: right;\n",
       "    }\n",
       "</style>\n",
       "<table border=\"1\" class=\"dataframe\">\n",
       "  <thead>\n",
       "    <tr style=\"text-align: right;\">\n",
       "      <th></th>\n",
       "      <th>Pond</th>\n",
       "      <th>Length (mm)</th>\n",
       "      <th>Error Percentage (FOV)</th>\n",
       "      <th>MAE (FOV)</th>\n",
       "      <th>Prediction Length (FOV)</th>\n",
       "      <th>Std Prediction Length (FOV)</th>\n",
       "      <th>Count</th>\n",
       "    </tr>\n",
       "  </thead>\n",
       "  <tbody>\n",
       "    <tr>\n",
       "      <th>0</th>\n",
       "      <td>700</td>\n",
       "      <td>143</td>\n",
       "      <td>4.899530</td>\n",
       "      <td>7.006328</td>\n",
       "      <td>146.613751</td>\n",
       "      <td>8.142823</td>\n",
       "      <td>31</td>\n",
       "    </tr>\n",
       "    <tr>\n",
       "      <th>1</th>\n",
       "      <td>700</td>\n",
       "      <td>180</td>\n",
       "      <td>5.781450</td>\n",
       "      <td>10.406610</td>\n",
       "      <td>187.765411</td>\n",
       "      <td>9.335248</td>\n",
       "      <td>27</td>\n",
       "    </tr>\n",
       "    <tr>\n",
       "      <th>2</th>\n",
       "      <td>410</td>\n",
       "      <td>143</td>\n",
       "      <td>5.452974</td>\n",
       "      <td>7.797753</td>\n",
       "      <td>150.797753</td>\n",
       "      <td>4.535976</td>\n",
       "      <td>13</td>\n",
       "    </tr>\n",
       "    <tr>\n",
       "      <th>3</th>\n",
       "      <td>410</td>\n",
       "      <td>180</td>\n",
       "      <td>6.487107</td>\n",
       "      <td>11.676792</td>\n",
       "      <td>191.676792</td>\n",
       "      <td>6.688534</td>\n",
       "      <td>15</td>\n",
       "    </tr>\n",
       "    <tr>\n",
       "      <th>4</th>\n",
       "      <td>700</td>\n",
       "      <td>143</td>\n",
       "      <td>8.436451</td>\n",
       "      <td>12.064124</td>\n",
       "      <td>154.939121</td>\n",
       "      <td>8.236982</td>\n",
       "      <td>31</td>\n",
       "    </tr>\n",
       "    <tr>\n",
       "      <th>5</th>\n",
       "      <td>700</td>\n",
       "      <td>180</td>\n",
       "      <td>10.359522</td>\n",
       "      <td>18.647140</td>\n",
       "      <td>198.647140</td>\n",
       "      <td>9.852803</td>\n",
       "      <td>27</td>\n",
       "    </tr>\n",
       "    <tr>\n",
       "      <th>6</th>\n",
       "      <td>410</td>\n",
       "      <td>143</td>\n",
       "      <td>6.040164</td>\n",
       "      <td>8.637434</td>\n",
       "      <td>151.637434</td>\n",
       "      <td>4.272303</td>\n",
       "      <td>13</td>\n",
       "    </tr>\n",
       "    <tr>\n",
       "      <th>7</th>\n",
       "      <td>410</td>\n",
       "      <td>180</td>\n",
       "      <td>7.756008</td>\n",
       "      <td>13.960814</td>\n",
       "      <td>193.960814</td>\n",
       "      <td>6.944531</td>\n",
       "      <td>15</td>\n",
       "    </tr>\n",
       "  </tbody>\n",
       "</table>\n",
       "</div>"
      ],
      "text/plain": [
       "  Pond  Length (mm)  Error Percentage (FOV)  MAE (FOV)  \\\n",
       "0  700          143                4.899530   7.006328   \n",
       "1  700          180                5.781450  10.406610   \n",
       "2  410          143                5.452974   7.797753   \n",
       "3  410          180                6.487107  11.676792   \n",
       "4  700          143                8.436451  12.064124   \n",
       "5  700          180               10.359522  18.647140   \n",
       "6  410          143                6.040164   8.637434   \n",
       "7  410          180                7.756008  13.960814   \n",
       "\n",
       "   Prediction Length (FOV)  Std Prediction Length (FOV)  Count  \n",
       "0               146.613751                     8.142823     31  \n",
       "1               187.765411                     9.335248     27  \n",
       "2               150.797753                     4.535976     13  \n",
       "3               191.676792                     6.688534     15  \n",
       "4               154.939121                     8.236982     31  \n",
       "5               198.647140                     9.852803     27  \n",
       "6               151.637434                     4.272303     13  \n",
       "7               193.960814                     6.944531     15  "
      ]
     },
     "execution_count": 62,
     "metadata": {},
     "output_type": "execute_result"
    }
   ],
   "source": [
    "import pandas as pd\n",
    "\n",
    "# Data dictionary\n",
    "data = {\n",
    "    \"Pond\": [\"700\", \"700\", \"410\", \"410\", \"700\", \"700\", \"410\", \"410\"],\n",
    "    \"Length (mm)\": [143, 180, 143, 180, 143, 180, 143, 180],\n",
    "    \"Error Percentage (FOV)\": [4.899529730238061, 5.781450236029387, 5.452974386569332, 6.48710656141262, \n",
    "                                8.436450554594506, 10.359522295616694, 6.040163616376347, 7.756007555380738],\n",
    "    \"MAE (FOV)\": [7.006327514240428, 10.406610424852895, 7.797753372794146, 11.676791810542717, \n",
    "                  12.064124293070146, 18.64714013211005, 8.637433971418176, 13.96081359968533],\n",
    "    \"Prediction Length (FOV)\": [146.61375109064838, 187.76541051917866, 150.79775337279415, 191.67679181054274, \n",
    "                                154.93912140851393, 198.64714013211002, 151.63743397141818, 193.96081359968534],\n",
    "    \"Std Prediction Length (FOV)\": [8.14282327866182, 9.335248092347655, 4.535975774416189, 6.688533642033929, \n",
    "                                    8.236981827344096, 9.852803262083826, 4.272302709449057, 6.944530514583651],\n",
    "    \"Count\": [31, 27, 13, 15, 31, 27, 13, 15]\n",
    "}\n",
    "\n",
    "# Create DataFrame\n",
    "df = pd.DataFrame(data)\n",
    "\n",
    "# Display as a table\n",
    "df\n"
   ]
  },
  {
   "cell_type": "code",
   "execution_count": 18,
   "metadata": {},
   "outputs": [
    {
     "data": {
      "text/plain": [
       "100"
      ]
     },
     "execution_count": 18,
     "metadata": {},
     "output_type": "execute_result"
    }
   ],
   "source": [
    "len(df['image_path'].unique())"
   ]
  },
  {
   "cell_type": "code",
   "execution_count": 66,
   "metadata": {},
   "outputs": [
    {
     "data": {
      "text/html": [
       "\n",
       "        <iframe\n",
       "            width=\"100%\"\n",
       "            height=\"800\"\n",
       "            src=\"http://localhost:5152/?notebook=True&subscription=be953f78-4043-43b8-a79f-fbfdc0ff273a\"\n",
       "            frameborder=\"0\"\n",
       "            allowfullscreen\n",
       "            \n",
       "        ></iframe>\n",
       "        "
      ],
      "text/plain": [
       "<IPython.lib.display.IFrame at 0x275ba344e50>"
      ]
     },
     "metadata": {},
     "output_type": "display_data"
    }
   ],
   "source": [
    "dataset=fo.load_dataset('molt')\n",
    "session=fo.launch_app(dataset,port=5152)"
   ]
  },
  {
   "cell_type": "code",
   "execution_count": null,
   "metadata": {},
   "outputs": [],
   "source": []
  },
  {
   "cell_type": "code",
   "execution_count": null,
   "metadata": {},
   "outputs": [],
   "source": [
    "mae=df_clean['MAE_Hull_fov'].mean()"
   ]
  },
  {
   "cell_type": "code",
   "execution_count": 62,
   "metadata": {},
   "outputs": [
    {
     "data": {
      "text/plain": [
       "165"
      ]
     },
     "execution_count": 62,
     "metadata": {},
     "output_type": "execute_result"
    }
   ],
   "source": [
    "len(df_positive)"
   ]
  },
  {
   "cell_type": "code",
   "execution_count": 51,
   "metadata": {},
   "outputs": [],
   "source": [
    "pd.DataFrame(samples_index).to_csv('samples_index.csv')"
   ]
  },
  {
   "cell_type": "code",
   "execution_count": 40,
   "metadata": {},
   "outputs": [
    {
     "data": {
      "text/plain": [
       "array(['square'], dtype=object)"
      ]
     },
     "execution_count": 40,
     "metadata": {},
     "output_type": "execute_result"
    }
   ],
   "source": [
    "df['pond'].unique()"
   ]
  },
  {
   "cell_type": "code",
   "execution_count": null,
   "metadata": {},
   "outputs": [],
   "source": [
    "df"
   ]
  },
  {
   "cell_type": "code",
   "execution_count": 90,
   "metadata": {},
   "outputs": [
    {
     "name": "stdout",
     "output_type": "stream",
     "text": [
      "\n",
      "Could not connect session, trying again in 10 seconds\n",
      "\n"
     ]
    }
   ],
   "source": [
    "#session save view\n",
    "session = fo.launch_app(dataset,port=5154)"
   ]
  },
  {
   "cell_type": "code",
   "execution_count": 33,
   "metadata": {},
   "outputs": [
    {
     "name": "stdout",
     "output_type": "stream",
     "text": [
      "Dataset:     molt\n",
      "View name:   molt\n",
      "Media type:  image\n",
      "Num samples: 122\n",
      "Sample fields:\n",
      "    id:                           fiftyone.core.fields.ObjectIdField\n",
      "    filepath:                     fiftyone.core.fields.StringField\n",
      "    tags:                         fiftyone.core.fields.ListField(fiftyone.core.fields.StringField)\n",
      "    metadata:                     fiftyone.core.fields.EmbeddedDocumentField(fiftyone.core.metadata.ImageMetadata)\n",
      "    segmentations:                fiftyone.core.fields.EmbeddedDocumentField(fiftyone.core.labels.Polylines)\n",
      "    hulls:                        fiftyone.core.fields.EmbeddedDocumentField(fiftyone.core.labels.Polylines)\n",
      "    skeletons_no_smooth:          fiftyone.core.fields.EmbeddedDocumentField(fiftyone.core.labels.Polylines)\n",
      "    skeletons_straight_no_smooth: fiftyone.core.fields.EmbeddedDocumentField(fiftyone.core.labels.Polylines)\n",
      "    boxes:                        fiftyone.core.fields.EmbeddedDocumentField(fiftyone.core.labels.Polylines)\n",
      "    masks:                        fiftyone.core.fields.EmbeddedDocumentField(fiftyone.core.labels.Polylines)\n",
      "View stages:\n",
      "    ---\n"
     ]
    }
   ],
   "source": [
    "#print workspace\n",
    "\n",
    "print (session.view)"
   ]
  },
  {
   "cell_type": "code",
   "execution_count": 34,
   "metadata": {},
   "outputs": [
    {
     "name": "stdout",
     "output_type": "stream",
     "text": [
      " 100% |█████████████████| 122/122 [510.6ms elapsed, 0s remaining, 238.9 samples/s]      \n"
     ]
    }
   ],
   "source": [
    "\n",
    "\n",
    "# Export the view to CSV\n",
    "export_path = \"saved_view_data.csv\"\n",
    "session.view.export(\n",
    "    export_path,\n",
    "    dataset_type=fo.types.CSVDataset,\n",
    "    fields=[\"id\", \"filepath\", \"tags\", \"metadata\"]  # Adjust fields as needed\n",
    ")\n"
   ]
  },
  {
   "cell_type": "code",
   "execution_count": 6,
   "metadata": {},
   "outputs": [
    {
     "name": "stderr",
     "output_type": "stream",
     "text": [
      "100%|██████████| 20/20 [00:06<00:00,  2.92it/s]\n"
     ]
    }
   ],
   "source": [
    "from tqdm import tqdm\n",
    "\n",
    "image_paths=r'C:\\Users\\gbo10\\OneDrive\\measurement_paper_images\\molt\\image processed\\unditorted'\n",
    "\n",
    "output_path=r'C:\\Users\\gbo10\\OneDrive\\measurement_paper_images\\molt\\image processed\\unditorted\\undistorted_resized'\n",
    "\n",
    "image_paths = [os.path.join(image_paths, image) for image in os.listdir(image_paths) if image.endswith(('.jpg', '.jpeg', '.png', '.bmp', '.tiff'))]\n",
    "\n",
    "for image_path in tqdm(image_paths):\n",
    "    #resize the image\n",
    "    img = cv2.imread(image_path)\n",
    "    img = cv2.resize(img, (640, 640))\n",
    "    cv2.imwrite(os.path.join(output_path, os.path.basename(image_path)), img)"
   ]
  },
  {
   "cell_type": "code",
   "execution_count": 7,
   "metadata": {},
   "outputs": [
    {
     "name": "stderr",
     "output_type": "stream",
     "text": [
      "100%|██████████| 191/191 [03:31<00:00,  1.11s/it]\n"
     ]
    }
   ],
   "source": [
    "import cv2\n",
    "import numpy as np\n",
    "from tqdm import tqdm\n",
    "import os\n",
    "\n",
    "\n",
    "molt_image_path = r\"C:\\Users\\gbo10\\OneDrive\\measurement_paper_images\\molt\\all molt\\undistorted\"\n",
    "\n",
    "\n",
    "output_path = r\"C:\\Users\\gbo10\\OneDrive\\measurement_paper_images\\molt\\all molt\\undistorted\\first_process\"\n",
    "\n",
    "\n",
    "os.makedirs(output_path, exist_ok=True)\n",
    "\n",
    "# do the code below on entire folder\n",
    "image_paths = [os.path.join(molt_image_path, image) for image in os.listdir(molt_image_path) if image.endswith(('.jpg', '.jpeg', '.png', '.bmp', '.tiff'))]\n",
    "\n",
    "for image_path in tqdm(image_paths):\n",
    "\n",
    "# Load the image\n",
    "    image = cv2.imread(image_path)\n",
    "\n",
    "    # Step 1: Convert to grayscale\n",
    "    # gray = cv2.cvtColor(image, cv2.COLOR_BGR2GRAY)\n",
    "\n",
    "\n",
    "    white_mask=cv2.inRange(image, (60, 60, 60), (255, 255, 255))\n",
    "\n",
    "    # cv2.imwrite(\"white_mask.png\", white_mask)    \n",
    "\n",
    "\n",
    "\n",
    "    very_white_mask = cv2.inRange(image, (150, 150, 150), (255, 255, 255))\n",
    "\n",
    "\n",
    "    image[very_white_mask == 255] = [0, 0, 0]  # Change white to gray\n",
    "\n",
    "\n",
    "    # cv2.imwrite(\"very_white_mask.png\", image)\n",
    "\n",
    "\n",
    "    gray=cv2.cvtColor(image, cv2.COLOR_BGR2GRAY)\n",
    "\n",
    "\n",
    "    # _, binary = cv2.threshold(gray, 150, 255, cv2.THRESH_BINARY)\n",
    "\n",
    "    # Save the result\n",
    "    # cv2.imwrite(\"binary_image.png\", binary)\n",
    "\n",
    "\n",
    "    # cv2.imwrite(\"gray.png\", gray)\n",
    "\n",
    "\n",
    "    # white_mask_from_binary = cv2.bitwise_not(binary)  # Invert the binary mask to get white areas\n",
    "\n",
    "    # cv2.imwrite(\"white_mask_from_binary.png\", white_mask_from_binary)\n",
    "\n",
    "\n",
    "    gray_color = np.array([52, 66, 79])  # RGB value for gray\n",
    "    # image[white_mask == 255] = gray_color\n",
    "\n",
    "    # Step 2: Threshold the image to isolate black areas (under prawns)\n",
    "    # Adjust threshold values depending on how black the segments are\n",
    "    _, black_mask = cv2.threshold(gray, 50, 255, cv2.THRESH_BINARY_INV)  # Isolating black areas (threshold of 50)\n",
    "\n",
    "\n",
    "    # cv2.imwrite(\"black_mask.png\", black_mask)\n",
    "\n",
    "    # Step 3: Create a bluish image to apply to black areas\n",
    "    bluish_image = image.copy()\n",
    "    bluish_image[:] = [212, 156, 31]  # BGR for blue\n",
    "\n",
    "\n",
    "    #white mask on the black segments\n",
    "    # white_on_black = cv2.bitwise_and(white_mask_from_binary, black_mask)  # Isolate white areas on the black segments\n",
    "\n",
    "    # cv2.imwrite(\"white_on_black.png\", white_on_black)\n",
    "\n",
    "\n",
    "    # # Step 6: Convert white to gray in those areas\n",
    "    # # gray_color = np.array([128, 128, 128])  # RGB value for gray\n",
    "    # image[white_on_black==0] = gray_color  # Change white on black to gray\n",
    "\n",
    "\n",
    "    image[white_mask == 255] = gray_color\n",
    "\n",
    "    # Step 4: Apply bluish color to the black regions\n",
    "    image[black_mask == 255] = bluish_image[black_mask == 255]\n",
    "\n",
    "\n",
    "\n",
    "\n",
    "\n",
    "    # Step 5: Isolate white areas (likely prawns) within the black segments\n",
    "    # Detect white pixels in the original image (on the black segments only)\n",
    "    # white_on_black = cv2.bitwise_and(white_mask, black_mask)  # Isolate white areas on the black segments\n",
    "\n",
    "    # Step 6: Convert white to gray in those areas\n",
    "    # gray_color = np.array([128, 128, 128])  # RGB value for gray\n",
    "    # image[white_on_black == 255] = gray_color  # Change white on black to gray\n",
    "\n",
    "    # Step 7: Display the final image\n",
    "    # cv2.imshow(\"Result\", image)\n",
    "    # cv2.waitKey(0)\n",
    "    # cv2.destroyAllWindows()\n",
    "\n",
    "    # Save the result\n",
    "\n",
    "\n",
    "    #resize the image\n",
    "    resized_image = cv2.resize(image, (640, 360))\n",
    "\n",
    "\n",
    "\n",
    "    cv2.imwrite(os.path.join(output_path, os.path.basename(image_path)), resized_image)\n"
   ]
  },
  {
   "cell_type": "code",
   "execution_count": 8,
   "metadata": {},
   "outputs": [
    {
     "data": {
      "text/plain": [
       "True"
      ]
     },
     "execution_count": 8,
     "metadata": {},
     "output_type": "execute_result"
    }
   ],
   "source": [
    "\n",
    "\n",
    "\n",
    "image = cv2.imread(r\"C:\\Users\\gbo10\\OneDrive\\measurement_paper_images\\molt\\image processed\\vlcsnap-2024-09-21-02h23m31s263.png\")\n",
    "\n",
    "    # Step 1: Convert to grayscale\n",
    "# gray = cv2.cvtColor(image, cv2.COLOR_BGR2GRAY)\n",
    "\n",
    "\n",
    "white_mask=cv2.inRange(image, (60, 60, 60), (255, 255, 255))\n",
    "\n",
    "# cv2.imwrite(\"white_mask.png\", white_mask)    \n",
    "\n",
    "\n",
    "\n",
    "very_white_mask = cv2.inRange(image, (150, 150, 150), (255, 255, 255))\n",
    "\n",
    "\n",
    "image[very_white_mask == 255] = [0, 0, 0]  # Change white to gray\n",
    "\n",
    "\n",
    "# cv2.imwrite(\"very_white_mask.png\", image)\n",
    "\n",
    "\n",
    "gray=cv2.cvtColor(image, cv2.COLOR_BGR2GRAY)\n",
    "\n",
    "\n",
    "# _, binary = cv2.threshold(gray, 150, 255, cv2.THRESH_BINARY)\n",
    "\n",
    "# Save the result\n",
    "# cv2.imwrite(\"binary_image.png\", binary)\n",
    "\n",
    "\n",
    "# cv2.imwrite(\"gray.png\", gray)\n",
    "\n",
    "\n",
    "# white_mask_from_binary = cv2.bitwise_not(binary)  # Invert the binary mask to get white areas\n",
    "\n",
    "# cv2.imwrite(\"white_mask_from_binary.png\", white_mask_from_binary)\n",
    "\n",
    "\n",
    "gray_color = np.array([132, 129, 122])  # RGB value for gray\n",
    "# image[white_mask == 255] = gray_color\n",
    "\n",
    "# Step 2: Threshold the image to isolate black areas (under prawns)\n",
    "# Adjust threshold values depending on how black the segments are\n",
    "_, black_mask = cv2.threshold(gray, 50, 255, cv2.THRESH_BINARY_INV)  # Isolating black areas (threshold of 50)\n",
    "\n",
    "\n",
    "# cv2.imwrite(\"black_mask.png\", black_mask)\n",
    "\n",
    "# Step 3: Create a bluish image to apply to black areas\n",
    "bluish_image = image.copy()\n",
    "bluish_image[:] = [212, 156, 31]  # BGR for blue\n",
    "\n",
    "\n",
    "#white mask on the black segments\n",
    "# white_on_black = cv2.bitwise_and(white_mask_from_binary, black_mask)  # Isolate white areas on the black segments\n",
    "\n",
    "# cv2.imwrite(\"white_on_black.png\", white_on_black)\n",
    "\n",
    "\n",
    "# # Step 6: Convert white to gray in those areas\n",
    "# # gray_color = np.array([128, 128, 128])  # RGB value for gray\n",
    "# image[white_on_black==0] = gray_color  # Change white on black to gray\n",
    "\n",
    "\n",
    "image[white_mask == 255] = gray_color\n",
    "\n",
    "# Step 4: Apply bluish color to the black regions\n",
    "image[black_mask == 255] = bluish_image[black_mask == 255]\n",
    "\n",
    "\n",
    "\n",
    "\n",
    "\n",
    "# Step 5: Isolate white areas (likely prawns) within the black segments\n",
    "# Detect white pixels in the original image (on the black segments only)\n",
    "# white_on_black = cv2.bitwise_and(white_mask, black_mask)  # Isolate white areas on the black segments\n",
    "\n",
    "# Step 6: Convert white to gray in those areas\n",
    "# gray_color = np.array([128, 128, 128])  # RGB value for gray\n",
    "# image[white_on_black == 255] = gray_color  # Change white on black to gray\n",
    "\n",
    "# Step 7: Display the final image\n",
    "# cv2.imshow(\"Result\", image)\n",
    "# cv2.waitKey(0)\n",
    "# cv2.destroyAllWindows()\n",
    "\n",
    "# Save the result\n",
    "\n",
    "#resize the image\n",
    "cv2.imwrite(r\"vlcsnap-2024-09-21-02h23m31s263.png\", image)"
   ]
  },
  {
   "cell_type": "code",
   "execution_count": null,
   "metadata": {},
   "outputs": [],
   "source": []
  },
  {
   "cell_type": "code",
   "execution_count": 9,
   "metadata": {},
   "outputs": [
    {
     "name": "stdout",
     "output_type": "stream",
     "text": [
      "Found 1824 contours\n",
      "Contour 0: Area: 579477.00\n",
      "Contour 1: Area: 544803.50\n"
     ]
    },
    {
     "data": {
      "text/plain": [
       "True"
      ]
     },
     "execution_count": 9,
     "metadata": {},
     "output_type": "execute_result"
    }
   ],
   "source": [
    "import cv2\n",
    "import numpy as np\n",
    "\n",
    "# Load a binary image\n",
    "\n",
    "image = cv2.imread(r'C:\\Users\\gbo10\\Videos\\research\\counting_research_algorithms\\fifty_one\\measurements\\vlcsnap-2024-09-21-02h23m31s263.png')\n",
    "\n",
    "# # Convert to grayscale\n",
    "# gray = cv2.cvtColor(image, cv2.COLOR_BGR2GRAY)\n",
    "# #save the gray image\n",
    "# cv2.imwrite(\"gray_image.png\", gray)\n",
    "gray_color = np.array([122, 129, 132])  # RGB value for gray\n",
    "\n",
    "lower_bound = gray_color -100 # Allow a small tolerance\n",
    "upper_bound = gray_color + 100\n",
    "\n",
    "# Create a mask where the pixels are within the range of the gray color\n",
    "mask = cv2.inRange(image, lower_bound, upper_bound)\n",
    "\n",
    "# Invert the mask to get the pixels that are NOT the gray color\n",
    "\n",
    "cv2.imwrite(\"mask.png\", mask)\n",
    "\n",
    "# # Make the non-gray pixels black by applying the inverted mask\n",
    "# result = image.copy()\n",
    "# # result[mask_inv == 255] = [0, 0, 0] \n",
    "\n",
    "\n",
    "#thershold the image using gray_color = np.array([132, 129, 122])  # RGB value for gray\n",
    "\n",
    "\n",
    "# cv2.imwrite(\"result.png\", result)\n",
    "\n",
    "contours, _ = cv2.findContours(mask, cv2.RETR_EXTERNAL, cv2.CHAIN_APPROX_SIMPLE)\n",
    "\n",
    "print(f\"Found {len(contours)} contours\")\n",
    "\n",
    "conutres1=[]\n",
    "\n",
    "i=0\n",
    "# Iterate through contours\n",
    "for contour in contours:\n",
    "    # Calculate area and perimeter (arc length)\n",
    "    area = cv2.contourArea(contour)\n",
    "    # perimeter = cv2.arcLength(contour, True)\n",
    "   \n",
    "    if area > 90000:\n",
    "        \n",
    "\n",
    "        conutres1.append(contour)\n",
    "\n",
    "        print(f\"Contour {i}: Area: {area:.2f}\")\n",
    "        cv2.drawContours(image, [contour], -1, (0, 255, 0), 2)\n",
    "        i+=1\n",
    "\n",
    "\n",
    "#     #Draw the contour\n",
    "\n",
    "#what is not in the contures1 paint in azure   \n",
    "    \n",
    "   \n",
    "# # Save the output image\n",
    "cv2.imwrite('ellipses_output.png', image)\n",
    "\n",
    "\n",
    "\n",
    "\n",
    "# Find contours\n",
    "# contours, hierarchy = cv2.findContours(binary_image, cv2.RETR_TREE, cv2.CHAIN_APPROX_SIMPLE)\n",
    "\n",
    "# # Draw contours on the original image\n",
    "# output_image = cv2.cvtColor(binary_image, cv2.COLOR_GRAY2BGR)  # Convert grayscale to BGR for color drawing\n",
    "# cv2.drawContours(output_image, contours, -1, (0, 255, 0), 2)  # Draw all contours in green\n",
    "\n",
    "# Save the output image\n",
    "# cv2.imwrite('contours_output.png', output_image)\n"
   ]
  },
  {
   "cell_type": "code",
   "execution_count": 10,
   "metadata": {},
   "outputs": [
    {
     "name": "stdout",
     "output_type": "stream",
     "text": [
      "589.5\n",
      "32496.5\n",
      "12145.0\n",
      "3556.5\n",
      "1674.5\n",
      "638.0\n"
     ]
    },
    {
     "data": {
      "text/plain": [
       "True"
      ]
     },
     "execution_count": 10,
     "metadata": {},
     "output_type": "execute_result"
    }
   ],
   "source": [
    "\n",
    "import cv2\n",
    "import numpy as np\n",
    "\n",
    "# Load the image\n",
    "image = cv2.imread(r\"C:\\Users\\gbo10\\OneDrive\\measurement_paper_images\\molt\\all molt\\undistorted\\first_process\\right\\azure\\undistorted_GX010191_37_392.jpg\")\n",
    "\n",
    "# Define the color to paint the background (Azure color in BGR format)\n",
    "azure_color = [212, 156, 31]  # Azure in BGR (Blue, Green, Red)\n",
    "\n",
    "# Define gray color and tolerance\n",
    "gray_color = np.array([52, 66, 79])  # RGB value for gray\n",
    "lower_bound = gray_color - 50\n",
    "upper_bound = gray_color + 50\n",
    "\n",
    "\n",
    "# Create a mask for the gray color\n",
    "mask = cv2.inRange(image, lower_bound, upper_bound)\n",
    "\n",
    "# Find contours in the mask\n",
    "contours, _ = cv2.findContours(mask, cv2.RETR_EXTERNAL, cv2.CHAIN_APPROX_SIMPLE)\n",
    "\n",
    "# Filter contours based on area and create a new mask for the contours\n",
    "contours_mask = np.zeros_like(mask)  # A black mask of the same size as the original image\n",
    "\n",
    "# Iterate through contours and draw only the ones with sufficient area\n",
    "for contour in contours:\n",
    "    area = cv2.contourArea(contour)\n",
    "    if area > 500: \n",
    "        print (area)\n",
    "        # Draw the contours on the black mask\n",
    "        cv2.drawContours(contours_mask, [contour], -1, 255, thickness=cv2.FILLED)  # Fill the contours in white\n",
    "\n",
    "# Invert the contours mask (make contours black and the rest white)\n",
    "contours_mask_inv = cv2.bitwise_not(contours_mask)\n",
    "\n",
    "# Create a background image filled with the azure color\n",
    "azure_background = np.full_like(image, azure_color, dtype=np.uint8)\n",
    "\n",
    "# Mask out the contour areas and paint the rest azure\n",
    "result = cv2.bitwise_and(image, image, mask=contours_mask)  # Keep the original image inside the contours\n",
    "azure_areas = cv2.bitwise_and(azure_background, azure_background, mask=contours_mask_inv)  # Paint everything else azure\n",
    "\n",
    "# Combine the original image (inside contours) with the azure background (outside contours)\n",
    "final_result = cv2.add(result, azure_areas)\n",
    "\n",
    "# Save and display the final result\n",
    "cv2.imwrite(\"result_azure_background.png\", final_result)\n",
    "\n"
   ]
  },
  {
   "cell_type": "code",
   "execution_count": 11,
   "metadata": {},
   "outputs": [
    {
     "name": "stderr",
     "output_type": "stream",
     "text": [
      "  0%|          | 0/93 [00:00<?, ?it/s]"
     ]
    },
    {
     "name": "stderr",
     "output_type": "stream",
     "text": [
      "100%|██████████| 93/93 [00:02<00:00, 41.29it/s]\n"
     ]
    }
   ],
   "source": [
    "    \n",
    "import cv2\n",
    "import numpy as np\n",
    "import os\n",
    "from tqdm import tqdm\n",
    "\n",
    "molt_image_path = r\"C:\\Users\\gbo10\\OneDrive\\measurement_paper_images\\molt\\all molt\\undistorted\\first_process\\square\"\n",
    "\n",
    "\n",
    "output_path = r\"C:\\Users\\gbo10\\OneDrive\\measurement_paper_images\\molt\\all molt\\undistorted\\first_process\\square\\azure\"\n",
    "\n",
    "os.makedirs(output_path, exist_ok=True) \n",
    "\n",
    "image_paths = [os.path.join(molt_image_path, image) for image in os.listdir(molt_image_path) if image.endswith(('.jpg', '.jpeg', '.png', '.bmp', '.tiff'))]\n",
    "\n",
    "\n",
    "for image_path in tqdm(image_paths):\n",
    "\n",
    "    # Load the image\n",
    "    image = cv2.imread(image_path)\n",
    "    azure_color = [212, 156, 31]  # Azure in BGR (Blue, Green, Red)\n",
    "\n",
    "    # Define gray color and tolerance\n",
    "    gray_color = np.array([52, 66, 79])  # RGB value for gray\n",
    "    lower_bound = gray_color - 50\n",
    "    upper_bound = gray_color + 50\n",
    "\n",
    "    # Create a mask for the gray color\n",
    "    mask = cv2.inRange(image, lower_bound, upper_bound)\n",
    "\n",
    "    cv2.imwrite(\"mask.png\", mask)\n",
    "\n",
    "    # Find contours in the mask\n",
    "    contours, _ = cv2.findContours(mask, cv2.RETR_EXTERNAL, cv2.CHAIN_APPROX_SIMPLE)\n",
    "\n",
    "    # Filter contours based on area and create a new mask for the contours\n",
    "    contours_mask = np.zeros_like(mask)  # A black mask of the same size as the original image\n",
    "\n",
    "    # Iterate through contours and draw only the ones with sufficient area\n",
    "    for contour in contours:\n",
    "        area = cv2.contourArea(contour)\n",
    "        if area >800:  \n",
    "            \n",
    "     \n",
    "            # Filter by area\n",
    "            # Draw the contours on the black mask\n",
    "            cv2.drawContours(contours_mask, [contour], -1, 255, thickness=cv2.FILLED)  # Fill the contours in white\n",
    "\n",
    "    # Invert the contours mask (make contours black and the rest white)\n",
    "    contours_mask_inv = cv2.bitwise_not(contours_mask)\n",
    "\n",
    "    # Create a background image filled with the azure color\n",
    "    azure_background = np.full_like(image, azure_color, dtype=np.uint8)\n",
    "\n",
    "    # Mask out the contour areas and paint the rest azure\n",
    "    result = cv2.bitwise_and(image, image, mask=contours_mask)  # Keep the original image inside the contours\n",
    "    azure_areas = cv2.bitwise_and(azure_background, azure_background, mask=contours_mask_inv)  # Paint everything else azure\n",
    "\n",
    "    # Combine the original image (inside contours) with the azure background (outside contours)\n",
    "    final_result = cv2.add(result, azure_areas)\n",
    "\n",
    "    #Save the result\n",
    "    cv2.imwrite(os.path.join(output_path, os.path.basename(image_path)), final_result)\n",
    "\n"
   ]
  },
  {
   "cell_type": "code",
   "execution_count": null,
   "metadata": {},
   "outputs": [],
   "source": []
  },
  {
   "cell_type": "code",
   "execution_count": null,
   "metadata": {},
   "outputs": [],
   "source": []
  }
 ],
 "metadata": {
  "kernelspec": {
   "display_name": ".venv",
   "language": "python",
   "name": "python3"
  },
  "language_info": {
   "codemirror_mode": {
    "name": "ipython",
    "version": 3
   },
   "file_extension": ".py",
   "mimetype": "text/x-python",
   "name": "python",
   "nbconvert_exporter": "python",
   "pygments_lexer": "ipython3",
   "version": "3.9.7"
  }
 },
 "nbformat": 4,
 "nbformat_minor": 2
}
