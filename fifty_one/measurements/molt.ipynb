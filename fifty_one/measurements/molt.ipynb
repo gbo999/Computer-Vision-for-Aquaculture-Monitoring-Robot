{
 "cells": [
  {
   "cell_type": "markdown",
   "metadata": {},
   "source": [
    "# good"
   ]
  },
  {
   "cell_type": "code",
   "execution_count": 41,
   "metadata": {},
   "outputs": [],
   "source": [
    "from utils import calculate_euclidean_distance, calculate_real_width\n",
    "from skeletonization import skeletonize_mask,create_filled_binary_mask, skeletonize_mask, find_longest_path\n",
    "import cv2\n",
    "import fiftyone as fo\n",
    "import numpy as np\n",
    "\n",
    "def process_segmentations(segmentation_path):\n",
    "    \"\"\"\n",
    "    Process the segmentations from the TXT file, calculate the minimum enclosing circle for each prawn.\n",
    "    \"\"\"\n",
    "    segmentations = []\n",
    "    skeletons=[]\n",
    "    hulls=[]\n",
    "    skeletons_straight=[]\n",
    "    skeletons_straight_2=[]\n",
    "    seg_closeds=[]\n",
    "    skeletons_2=[]\n",
    "    box_diagonal=[] \n",
    "    boxes=[]\n",
    "    masks=[]\n",
    "\n",
    "\n",
    "\n",
    "\n",
    "\n",
    "\n",
    "    \n",
    "    # Open the segmentation file and process each line\n",
    "    with open(segmentation_path, 'r') as file:\n",
    "        for line in file:\n",
    "            coords = [float(x) for x in line.strip().split()]\n",
    "            coords_array = np.array(coords).reshape(-1, 2)\n",
    "            \n",
    "\n",
    "            \n",
    "            binary_mask_no = create_filled_binary_mask(coords_array, 360, 640, gaussian_blur=False) \n",
    "            \n",
    "            if np.sum(binary_mask_no) == 0:   \n",
    "                continue\n",
    "\n",
    "\n",
    "\n",
    "\n",
    "\n",
    "            binary_dilated = cv2.dilate(binary_mask_no, np.ones((15, 15), np.uint8), iterations=1)     \n",
    "\n",
    "\n",
    "            #contour dilated\n",
    "            contures_dil, _ = cv2.findContours(binary_dilated, cv2.RETR_EXTERNAL, cv2.CHAIN_APPROX_SIMPLE)    \n",
    "\n",
    "\n",
    "\n",
    "            prawn_conture_dil = max(contures_dil, key=cv2.contourArea)\n",
    "\n",
    "            coords_contour_dil = np.column_stack(prawn_conture_dil).flatten()\n",
    "\n",
    "            normalized_coords_bin=[(coords_contour_dil[i]/640, coords_contour_dil[i+1]/360) for i in range(0, len(coords_contour_dil), 2)]  # Extract points (x, y)\n",
    "\n",
    "\n",
    "            masks.append(fo.Polyline(\n",
    "                points=[normalized_coords_bin],\n",
    "                closed=True,\n",
    "                filled=False,\n",
    "            ))\n",
    "\n",
    "\n",
    "            \n",
    "            thinned_2=skeletonize_mask(binary_mask_no)\n",
    "\n",
    "            # skeleton = skeletonize_mask(binary_mask)\n",
    "            skeleton_2 = thinned_2\n",
    "            skeleton_coords_2 = np.column_stack(np.nonzero(skeleton_2))\n",
    "            normalized_coords_2,max_length_2 = find_longest_path(skeleton_coords_2,(360,640),(2988,5312))\n",
    "\n",
    "            normalized_coords_2 = [(x, y) for y, x in normalized_coords_2]  # Convert to (y, x) format\n",
    "\n",
    "            #only the first and last points of the skeleton\n",
    "            normalized_coords_straight_2 = [normalized_coords_2[0], normalized_coords_2[-1]]  \n",
    "\n",
    "\n",
    "\n",
    "\n",
    "\n",
    "             \n",
    "            #convex hull diameter\n",
    "            contures, _ = cv2.findContours(binary_mask_no, cv2.RETR_EXTERNAL, cv2.CHAIN_APPROX_SIMPLE)\n",
    "\n",
    "            \n",
    "            prawn_conture = max(contures, key=cv2.contourArea)  \n",
    "\n",
    "            # Compute the minimum area rectangle enclosing the shrimp\n",
    "            rect = cv2.minAreaRect(prawn_conture)\n",
    "            box_points = cv2.boxPoints(rect)\n",
    "            box_points = np.int0(box_points)\n",
    "\n",
    "            original_size = (640, 360)\n",
    "            new_size = (5312, 2988)\n",
    "\n",
    "            # Scaling factors\n",
    "            scale_x = new_size[0] / original_size[0]  # 5312 / 640\n",
    "            scale_y = new_size[1] / original_size[1]  # 2988 / 640\n",
    "\n",
    "            box_points_scaled = np.array([(point[0] * scale_x, point[1] * scale_y) for point in box_points])\n",
    "\n",
    "            width= calculate_euclidean_distance(box_points_scaled[0], box_points_scaled[1])\n",
    "            height= calculate_euclidean_distance(box_points_scaled[1], box_points_scaled[2])\n",
    "\n",
    "            max_length_box=max(width,height)\n",
    "\n",
    "\n",
    "        \n",
    "            # Convert theta from degrees to radians for FiftyOne\n",
    "            theta_radians = np.deg2rad(rect[2])\n",
    "            # normalized_bounding_box = [(box_points[i][0]/640, box_points[i][1]/640) for i in range(0, len(box_points))] \n",
    "            \n",
    "            # image_center_x = 640 / 2\n",
    "\n",
    "            # xc_adjusted = rect[0][0] - image_center_x\n",
    "\n",
    "            # Extract points (x, y) \n",
    "            box=fo.Polyline.from_rotated_box(\n",
    "                xc=rect[0][0] ,\n",
    "                yc=rect[0][1],\n",
    "                w=rect[1][0],\n",
    "                h=rect[1][1],\n",
    "                theta =theta_radians,\n",
    "                frame_size=(640, 360)\n",
    "\n",
    "            )\n",
    "\n",
    "\n",
    "            boxes.append(box)\n",
    "\n",
    "\n",
    "            hull_points = cv2.convexHull(prawn_conture, returnPoints=True)\n",
    "\n",
    "\n",
    "            \n",
    "# Scaling factors to convert from 640x640 to 5312x2988\n",
    "            scale_x = 5312 / 640\n",
    "            scale_y = 2988 / 360\n",
    "\n",
    "        # Scale the points to the new resolution\n",
    "            scaled_hull_points = []\n",
    "            for point in hull_points:\n",
    "                x, y = point[0]\n",
    "                scaled_x = x * scale_x\n",
    "                scaled_y = y * scale_y\n",
    "                scaled_hull_points.append([scaled_x, scaled_y])\n",
    "\n",
    "            # Convert to numpy array for easier handling\n",
    "            scaled_hull_points = np.array(scaled_hull_points, dtype=np.float32)\n",
    "\n",
    "            # Now, find the maximum Euclidean distance (convex hull diameter) using the scaled points\n",
    "            max_distance = 0\n",
    "            point1 = None\n",
    "            point2 = None\n",
    "\n",
    "            # Loop through all pairs of scaled points to find the maximum distance\n",
    "            for i in range(len(scaled_hull_points)):\n",
    "                for j in range(i + 1, len(scaled_hull_points)):\n",
    "                    distance = calculate_euclidean_distance(scaled_hull_points[i], scaled_hull_points[j])\n",
    "                    if distance > max_distance:\n",
    "                        max_distance = distance\n",
    "                        point1 = scaled_hull_points[i]\n",
    "                        point2 = scaled_hull_points[j]\n",
    "\n",
    "            # The result is max_distance (in pixels) in the 5312x2988 image\n",
    "\n",
    "\n",
    "            normalzied_points_hull = [(point1[0]/5312, point1[1]/2988), (point2[0]/5312, point2[1]/2988)]  # Extract points (x, y)\n",
    "\n",
    "            hull=fo.Polyline(\n",
    "                points=[normalzied_points_hull],\n",
    "                closed=False,\n",
    "                filled=False,\n",
    "                max_length=max_distance\n",
    "            )\n",
    "\n",
    "        # skeleton_straight=fo.Polyline(\n",
    "        #     points=[normalized_coords_straight],\n",
    "        #     closed=False,\n",
    "        #     filled=False,\n",
    "        #     max_length=max_length\n",
    "        # )\n",
    "        # skeletons_straight.append(skeleton_straight)\n",
    "\n",
    "            skeleton_straight_2=fo.Polyline(\n",
    "                points=[normalized_coords_straight_2],\n",
    "                closed=False,\n",
    "                filled=False,\n",
    "                max_length=max_length_2,\n",
    "                \n",
    "            )\n",
    "            skeletons_straight_2.append(skeleton_straight_2)\n",
    "\n",
    "\n",
    "\n",
    "\n",
    "            hulls.append(hull)\n",
    "\n",
    "            # skeleton=fo.Polyline(\n",
    "            #     points=[normalized_coords],\n",
    "            #     closed=False,\n",
    "            #     filled=False,\n",
    "            #     max_length=max_length\n",
    "            # )\n",
    "\n",
    "            # skeletons.append(skeleton)\n",
    "            \n",
    "            skeleton_2=fo.Polyline( \n",
    "                points=[normalized_coords_2],\n",
    "                closed=False,\n",
    "                filled=False,\n",
    "                max_length=max_length_2)\n",
    "            skeletons_2.append(skeleton_2)\n",
    "              # Convert the line to a list of floats\n",
    "            normalzied_points = [(coords[i]/640, coords[i + 1]/360) for i in range(0, len(coords), 2)]  # Extract points (x, y)\n",
    "            # points = [Point(x*5312, y*2988) for x, y in normalzied_points] \n",
    "            \n",
    "\n",
    "            scaled_contour = []\n",
    "            for point in prawn_conture:\n",
    "                scaled_x = int(point[0][0] * scale_x)\n",
    "                scaled_y = int(point[0][1] * scale_y)\n",
    "                scaled_contour.append([[scaled_x, scaled_y]])\n",
    "\n",
    "            scaled_contour = np.array(scaled_contour, dtype=np.int32)\n",
    "\n",
    "             # Convert to Point objects    \n",
    "            # Calculate the minimum enclosing circle (center and radius)\n",
    "            center, radius = cv2.minEnclosingCircle(scaled_contour)\n",
    "\n",
    "\n",
    "\n",
    "            diameter = radius * 2\n",
    "\n",
    "\n",
    "            #center in 640x360\n",
    "            center_640 = (center[0] / scale_x, center[1] / scale_y)\n",
    "        \n",
    "\n",
    "            segmentation = fo.Polyline(\n",
    "                points=[normalzied_points],\n",
    "                closed=True,\n",
    "                filled=False,\n",
    "                diameter=diameter,\n",
    "                center=center_640,\n",
    "                max_length_skeleton=max_length_2,\n",
    "                max_length_hull=max_distance,\n",
    "                max_length_box=max_length_box\n",
    "            )\n",
    "\n",
    "            #smooth segmentation  wirh closing\n",
    "            # seg_closed=fo.Polyline(\n",
    "            #     points=[normalized_coords_bin],\n",
    "            #     closed=True,\n",
    "            #     filled=False,\n",
    "            #     max_length=max_length\n",
    "            # )\n",
    "\n",
    "            # seg_closeds.append(seg_closed)                \n",
    "\n",
    "\n",
    "            segmentations.append(segmentation)\n",
    "\n",
    "\n",
    "\n",
    "\n",
    "\n",
    "\n",
    "\n",
    "                     # Store the segmentation information (center, radius, and diameter)\n",
    "\n",
    "    return segmentations,skeletons,hulls, skeletons_straight,seg_closeds,skeletons_2,skeletons_straight_2,boxes,masks"
   ]
  },
  {
   "cell_type": "code",
   "execution_count": 42,
   "metadata": {},
   "outputs": [],
   "source": [
    "import fiftyone.core.labels as fol\n",
    "from tqdm import tqdm\n",
    "import fiftyone as fo\n",
    "import os\n",
    "\n",
    "def process_images(image_paths, prediction_folder_path, dataset,tag):\n",
    "    print(\"Processing images...\")\n",
    "    \n",
    "    \"\"\"\n",
    "    Processes images by matching segmentation with bounding boxes and calculating prawn sizes.\n",
    "    \"\"\"\n",
    "    for image_path in tqdm(image_paths):\n",
    "        # filename = os.path.splitext(os.path.basename(image_path))[0]\n",
    "        \n",
    "\n",
    "           \n",
    "        # prediction_txt_path = os.path.join(prediction_folder_path, f\"{os.path.basename(image_path).split('.')[0]}_segmentations.txt\")\n",
    "\n",
    "        core_name = os.path.splitext(os.path.basename(image_path))[0]\n",
    "\n",
    "        # Construct the path to the corresponding segmentation file\n",
    "\n",
    "\n",
    "\n",
    "        #check if txt exist\n",
    "\n",
    "        if not os.path.exists(os.path.join(prediction_folder_path, f\"{core_name}_segmentations.txt\")):\n",
    "            print(f\"No segmentation file found for {core_name}\")\n",
    "            continue\n",
    "\n",
    "\n",
    "\n",
    "        prediction_txt_path = os.path.join(prediction_folder_path, f\"{core_name}_segmentations.txt\")\n",
    "\n",
    "        # core_name=filename.split('.')[0]\n",
    "        # # Construct the path to the prediction (segmentation) file\n",
    "        # prediction_txt_path = os.path.join(prediction_folder_path, f\"{core_name}_segmentations.txt\")\n",
    "        # if not os.path.exists(prediction_txt_path):\n",
    "        #     print(f\"No segmentation file found for {filename}\")\n",
    "        #     continue\n",
    "\n",
    "\n",
    "        # Parse the segmentations to get the minimum enclosing circles\n",
    "        segmentations,skeletons,hulls,skeletons_straight,seg_closeds,skeletons_2,skeletons_straight_2,boxes,masks = process_segmentations(prediction_txt_path)\n",
    "\n",
    "        # Save the modified image (with circles drawn)\n",
    "\n",
    "        # Create a new sample for FiftyOne\n",
    "        sample = fo.Sample(filepath=image_path)\n",
    "\n",
    "        # Iterate over each bounding box in the filtered data\n",
    "        sample[\"segmentations\"] = fol.Polylines(polylines=segmentations)\n",
    "\n",
    "        # sample[\"skeletons\"] = fol.Polylines(polylines=skeletons)\n",
    "\n",
    "        sample[\"hulls\"] = fol.Polylines(polylines=hulls)    \n",
    "\n",
    "        # sample[\"skeletons_straight\"] = fol.Polylines(polylines=skeletons_straight)\n",
    "\n",
    "        # sample['seg_closeds']=fol.Polylines(polylines=seg_closeds)\n",
    "        \n",
    "        sample['skeletons_no_smooth']=fol.Polylines(polylines=skeletons_2)\n",
    "\n",
    "        sample[\"skeletons_straight_no_smooth\"] = fol.Polylines(polylines=skeletons_straight_2)\n",
    "\n",
    "        sample['boxes']=fol.Polylines(polylines=boxes)\n",
    "\n",
    "        sample['masks']=fol.Polylines(polylines=masks)\n",
    "        # Add the processed sample to the FiftyOne dataset\n",
    "        sample.tags.append(tag)\n",
    "        dataset.add_sample(sample)"
   ]
  },
  {
   "cell_type": "code",
   "execution_count": 43,
   "metadata": {},
   "outputs": [],
   "source": [
    "import math\n",
    "def process_detection_by_circle(segmentation, sample,i,dataframe):\n",
    "    \"\"\"\n",
    "    Process the prawn detection based on the enclosing circle's diameter.\n",
    "    Update the filtered dataframe with the real-world size of the prawn.\n",
    "    \"\"\"\n",
    "    poly=segmentation\n",
    "\n",
    "    if 'right' in str(sample.tags[0]):\n",
    "        height_mm =700-30\n",
    "        focal_length = 23.64    \n",
    "    else:\n",
    "        height_mm=410-30\n",
    "        focal_length=24.72\n",
    "\n",
    "    fov=75\n",
    "    predicted_hull_length=poly['max_length_hull']\n",
    "    \n",
    "    FOV_width = 2 * height_mm * math.tan(math.radians(fov / 2))\n",
    "    hull_length_fov = FOV_width * predicted_hull_length / 5312\n",
    "\n",
    "    if hull_length_fov < 120 or hull_length_fov > 220:\n",
    "\n",
    "        return poly\n",
    "\n",
    "    image_path = sample.filepath.split('\\\\')[-1]\n",
    "\n",
    "    if hull_length_fov < 175:\n",
    "        best_true_length = 143\n",
    "        if hull_length_fov < 143 and 'smaller than 143mm' not in sample.tags:\n",
    "            sample.tags.append('smaller than 143mm')\n",
    "        if hull_length_fov < 143:      \n",
    "            dataframe.loc[(dataframe['index'] == i) & (dataframe['image_path'] == image_path), 'smaller'] = 'yes'\n",
    "        else:\n",
    "            dataframe.loc[(dataframe['index'] == i) & (dataframe['image_path'] == image_path), 'smaller'] = 'no'   \n",
    "\n",
    "    else:\n",
    "        best_true_length = 180\n",
    "        if hull_length_fov < 180 and 'smaller than 180mm' not in sample.tags:\n",
    "            sample.tags.append('smaller than 180mm')\n",
    "\n",
    "        if hull_length_fov < 180:\n",
    "            dataframe.loc[(dataframe['index'] == i) & (dataframe['image_path'] == image_path), 'smaller'] = 'yes'\n",
    "        \n",
    "        else:\n",
    "            dataframe.loc[(dataframe['index'] == i) & (dataframe['image_path'] == image_path), 'smaller'] = 'no'\n",
    "\n",
    "    # for true_length in [143, 180]:\n",
    "        \n",
    "    \n",
    "\n",
    "       \n",
    "    #     error_percentage_hull_fov = abs(hull_length_fov - true_length) / true_length * 100\n",
    "        \n",
    "\n",
    "\n",
    "    #     if error_percentage_hull_fov < min_error_percentage:\n",
    "    #         min_error_percentage = error_percentage_hull_fov\n",
    "    #         best_true_length = true_length\n",
    "\n",
    "    if best_true_length == 143:\n",
    "        height_mm = height_mm\n",
    "    else:\n",
    "        height_mm = height_mm - 15\n",
    "\n",
    "\n",
    "  \n",
    "    # print(f\"height_mm: {height_mm}, tag: {tag}\")\n",
    "\n",
    "    # focal_length = 24.22  # Camera focal length\n",
    "    pixel_size = 0.00716844  # Pixel size in mm\n",
    "\n",
    "    \n",
    "\n",
    "    fov=75\n",
    "    FOV_width=2*height_mm*math.tan(math.radians(fov/2))\n",
    "\n",
    "\n",
    "    # Get the diameter of the circle in pixels\n",
    "    predicted_diameter_pixels = poly['diameter']\n",
    "\n",
    "\n",
    "    predicted_skeleton_length=poly['max_length_skeleton']  \n",
    "\n",
    "    predicted_hull_length=poly['max_length_hull']\n",
    "\n",
    "     \n",
    "    predicted_box_length=poly['max_length_box']\n",
    "\n",
    "    center=poly['center']\n",
    "\n",
    "\n",
    "\n",
    "\n",
    "    #add true lenght to datafram\n",
    "    dataframe.loc[(dataframe['index'] == i) & (dataframe['image_path'] == image_path), 'true_length'] = best_true_length\n",
    "\n",
    "\n",
    "    dataframe.loc[(dataframe['index'] == i) & (dataframe['image_path'] == image_path), 'center'] = str(center)\n",
    "\n",
    "    dataframe.loc[(dataframe['index'] == i) & (dataframe['image_path'] == image_path), 'Hull_Length_pixels'] = predicted_hull_length\n",
    "    dataframe.loc[(dataframe['index'] == i) & (dataframe['image_path'] == image_path), 'Diameter_pixels'] = predicted_diameter_pixels\n",
    "    dataframe.loc[(dataframe['index'] == i) & (dataframe['image_path'] == image_path), 'Skeleton_Length_pixels'] = predicted_skeleton_length\n",
    "    dataframe.loc[(dataframe['index'] == i) & (dataframe['image_path'] == image_path), 'Box_Length_pixels'] = predicted_box_length\n",
    "\n",
    "\n",
    "\n",
    "    # Calculate the real-world prawn size using the box\n",
    "    focal_box = calculate_real_width(focal_length, height_mm, predicted_box_length, pixel_size) \n",
    "\n",
    "\n",
    "    focal_hull = calculate_real_width(focal_length, height_mm, predicted_hull_length, pixel_size)    \n",
    "    # Calculate the real-world prawn size using the enclosing circle's diameter\n",
    "    focal_MEC = calculate_real_width(focal_length, height_mm, predicted_diameter_pixels, pixel_size)\n",
    "\n",
    "    focal_ske = calculate_real_width(focal_length, height_mm, predicted_skeleton_length, pixel_size)    \n",
    "\n",
    "\n",
    "    # Update the filtered dataframe with the real-world size of the prawn\n",
    "    dataframe.loc[(dataframe['index'] == i) & (dataframe['image_path'] == image_path), 'Focal_Box'] = focal_box\n",
    "    dataframe.loc[(dataframe['index'] == i) & (dataframe['image_path'] == image_path), 'Focal_Hull'] = focal_hull\n",
    "    dataframe.loc[(dataframe['index'] == i) & (dataframe['image_path'] == image_path), 'Focal_MEC'] = focal_MEC\n",
    "    dataframe.loc[(dataframe['index'] == i) & (dataframe['image_path'] == image_path), 'Focal_Skeleton'] = focal_ske\n",
    "\n",
    "\n",
    "\n",
    "    hull_length_fov=FOV_width*predicted_hull_length/5312\n",
    "    diameter_length_fov=FOV_width*predicted_diameter_pixels/5312\n",
    "    skeleton_length_fov=FOV_width*predicted_skeleton_length/5312\n",
    "\n",
    "    box_length_fov=FOV_width*predicted_box_length/5312\n",
    "\n",
    "    dataframe.loc[(dataframe['index'] == i) & (dataframe['image_path'] == image_path), 'Hull_Length_fov'] = hull_length_fov\n",
    "    dataframe.loc[(dataframe['index'] == i) & (dataframe['image_path'] == image_path), 'Diameter_fov'] = diameter_length_fov\n",
    "    dataframe.loc[(dataframe['index'] == i) & (dataframe['image_path'] == image_path), 'Skeleton_Length_fov'] = skeleton_length_fov\n",
    "    dataframe.loc[(dataframe['index'] == i) & (dataframe['image_path'] == image_path), 'Box_Length_fov'] = box_length_fov\n",
    "\n",
    "\n",
    "\n",
    "    error_percentage_hull_fov = abs(hull_length_fov - best_true_length) / best_true_length * 100\n",
    "\n",
    "    error_percentage_skeleton_fov = abs(skeleton_length_fov - best_true_length) / best_true_length * 100  \n",
    "\n",
    "\n",
    "    error_percentage_box_fov = abs(box_length_fov - best_true_length) / best_true_length * 100\n",
    "\n",
    "\n",
    "    error_percentage_MEC_fov = abs(diameter_length_fov - best_true_length) / best_true_length * 100\n",
    "\n",
    "\n",
    "    MAE_hull_fov = abs(hull_length_fov - best_true_length)\n",
    "    MAE_skeleton_fov = abs(skeleton_length_fov - best_true_length)\n",
    "    MAE_box_fov = abs(box_length_fov - best_true_length)\n",
    "    MAE_MEC_fov = abs(diameter_length_fov - best_true_length)\n",
    "\n",
    "    dataframe.loc[(dataframe['index'] == i) & (dataframe['image_path'] == image_path), 'MAE_Hull_fov'] = MAE_hull_fov\n",
    "    dataframe.loc[(dataframe['index'] == i) & (dataframe['image_path'] == image_path), 'MAE_Skeleton_fov'] = MAE_skeleton_fov\n",
    "    dataframe.loc[(dataframe['index'] == i) & (dataframe['image_path'] == image_path), 'MAE_Box_fov'] = MAE_box_fov\n",
    "    dataframe.loc[(dataframe['index'] == i) & (dataframe['image_path'] == image_path), 'MAE_MEC_fov'] = MAE_MEC_fov\n",
    "\n",
    "\n",
    "\n",
    "    dataframe.loc[(dataframe['index'] == i) & (dataframe['image_path'] == image_path), 'Error_percentage_Hull_fov'] = error_percentage_hull_fov\n",
    "    dataframe.loc[(dataframe['index'] == i) & (dataframe['image_path'] == image_path), 'Error_percentage_Skeleton_fov'] = error_percentage_skeleton_fov\n",
    "    dataframe.loc[(dataframe['index'] == i) & (dataframe['image_path'] ==image_path), 'Error_percentage_Box_fov'] = error_percentage_box_fov\n",
    "\n",
    "    dataframe.loc[(dataframe['index'] == i) & (dataframe['image_path'] == image_path), 'Error_percentage_MEC_fov'] = error_percentage_MEC_fov\n",
    "\n",
    "    error_percentage_hull_focal = abs(focal_hull - best_true_length) / best_true_length * 100\n",
    "\n",
    "    error_percentage_skeleton_focal = abs(focal_ske - best_true_length) / best_true_length * 100\n",
    "\n",
    "    error_percentage_box_focal = abs(focal_box - best_true_length) / best_true_length * 100\n",
    "\n",
    "    error_percentage_MEC_focal = abs(focal_MEC - best_true_length) / best_true_length * 100\n",
    "\n",
    "    dataframe.loc[(dataframe['index'] == i) & (dataframe['image_path'] == image_path), 'Error_percentage_Hull_focal'] = error_percentage_hull_focal\n",
    "    dataframe.loc[(dataframe['index'] == i) & (dataframe['image_path'] == image_path), 'Error_percentage_Skeleton_focal'] = error_percentage_skeleton_focal\n",
    "\n",
    "    dataframe.loc[(dataframe['index'] == i) & (dataframe['image_path'] == image_path), 'Error_percentage_Box_focal'] = error_percentage_box_focal\n",
    "\n",
    "    dataframe.loc[(dataframe['index'] == i) & (dataframe['image_path'] == image_path), 'Error_percentage_MEC_focal'] = error_percentage_MEC_focal  \n",
    "\n",
    "\n",
    "\n",
    "\n",
    "\n",
    "    closest_detection_label = f'index:{i} ,true length: {best_true_length:.2f}mm, MPError_hull: {error_percentage_hull_fov:.2f}%, pred length: {hull_length_fov:.2f}mm ,error percentage MEC{error_percentage_MEC_fov:.2f}% ,pred MEC {diameter_length_fov:.2f} ,error percentage skeleton: {error_percentage_skeleton_fov:.2f}%, , pred length: {skeleton_length_fov:.2f}cm, error percentage box: {error_percentage_box_fov:.2f}%, pred length: {box_length_fov:.2f}mm, '\n",
    "    # Update the filtered dataframe with the real-world size of the prawn\n",
    "\n",
    "\n",
    "\n",
    "    if error_percentage_hull_fov > 25 and f'>25% error' not in sample.tags:\n",
    "\n",
    "        sample.tags.append(f'>25% error')\n",
    "\n",
    "    elif error_percentage_hull_fov > 15 and f'15-25% error' not in sample.tags:\n",
    "\n",
    "        sample.tags.append(f'15-25% error')\n",
    "\n",
    "    elif error_percentage_hull_fov > 10  and f'10-15% error' not in sample.tags:\n",
    "\n",
    "        sample.tags.append(f'10-15% error')\n",
    "\n",
    "    elif error_percentage_hull_fov < 10 and f'5-10% error' not in sample.tags:\n",
    "\n",
    "        sample.tags.append(f'5-10% error')\n",
    "    \n",
    "    elif error_percentage_hull_fov < 5 and f'<5% error' not in sample.tags:\n",
    "\n",
    "        sample.tags.append(f'<5% error')\n",
    "\n",
    "\n",
    "    if error_percentage_MEC_fov<5 and hull_length_fov > best_true_length and f'very good' not in sample.tags:\n",
    "        sample.tags.append('very good')\n",
    "\n",
    "\n",
    "\n",
    "\n",
    "\n",
    "    poly.label = closest_detection_label \n",
    "    return poly\n",
    "  "
   ]
  },
  {
   "cell_type": "code",
   "execution_count": 46,
   "metadata": {},
   "outputs": [
    {
     "name": "stdout",
     "output_type": "stream",
     "text": [
      "Processing images...\n"
     ]
    },
    {
     "name": "stderr",
     "output_type": "stream",
     "text": [
      "  0%|          | 0/66 [00:00<?, ?it/s]C:\\Users\\gbo10\\AppData\\Local\\Temp\\ipykernel_36544\\3297858279.py:94: DeprecationWarning:\n",
      "\n",
      "`np.int0` is a deprecated alias for `np.intp`.  (Deprecated NumPy 1.24)\n",
      "\n",
      "100%|██████████| 66/66 [00:05<00:00, 11.06it/s]\n"
     ]
    },
    {
     "name": "stdout",
     "output_type": "stream",
     "text": [
      "Processing images...\n"
     ]
    },
    {
     "name": "stderr",
     "output_type": "stream",
     "text": [
      "100%|██████████| 56/56 [00:05<00:00,  9.60it/s]\n"
     ]
    },
    {
     "data": {
      "text/html": [
       "\n",
       "        <iframe\n",
       "            width=\"100%\"\n",
       "            height=\"800\"\n",
       "            src=\"http://localhost:5152/?notebook=True&subscription=5c31b6dd-9d80-4d82-b1ae-7e1ebcd6bd9e\"\n",
       "            frameborder=\"0\"\n",
       "            allowfullscreen\n",
       "            \n",
       "        ></iframe>\n",
       "        "
      ],
      "text/plain": [
       "<IPython.lib.display.IFrame at 0x275b95e78e0>"
      ]
     },
     "metadata": {},
     "output_type": "display_data"
    }
   ],
   "source": [
    "molt_right_image_path = r\"C:\\Users\\gbo10\\OneDrive\\measurement_paper_images\\molt\\image processed\\good\\640360\\right\\color_images\"\n",
    "\n",
    "molt_square_image_path=r\"c:\\Users\\gbo10\\OneDrive\\measurement_paper_images\\molt\\image processed\\good\\640360\\square\\color_images\"\n",
    "\n",
    "molt_prediction_right=r'C:\\Users\\gbo10\\OneDrive\\measurement_paper_images\\molt\\image processed\\good\\640360\\right\\segmentations'\n",
    "\n",
    "molt_prediction_sqaure=r'c:\\Users\\gbo10\\OneDrive\\measurement_paper_images\\molt\\image processed\\good\\640360\\square\\segmentations'\n",
    "\n",
    "\n",
    "import pandas as pd\n",
    "\n",
    "\n",
    "import fiftyone as fo\n",
    "dataset = fo.Dataset(\"molt\", overwrite=True)\n",
    "\n",
    "# Load the dataset\n",
    "right_image_paths = [os.path.join(molt_right_image_path, image) for image in os.listdir(molt_right_image_path) if image.endswith(('.jpg', '.jpeg', '.png', '.bmp', '.tiff'))]\n",
    "\n",
    "square_image_paths = [os.path.join(molt_square_image_path, image) for image in os.listdir(molt_square_image_path) if image.endswith(('.jpg', '.jpeg', '.png', '.bmp', '.tiff'))]\n",
    "\n",
    "for molt_prediction in [molt_prediction_right,molt_prediction_sqaure]:\n",
    "    prediction_paths_text = [os.path.join(molt_prediction, txt) for txt in os.listdir(molt_prediction) if txt.endswith('.txt')]\n",
    "\n",
    "\n",
    "\n",
    "\n",
    "    tag = molt_prediction.split('\\\\')[-2]\n",
    "\n",
    "    if 'right' in molt_prediction:\n",
    "        image_paths = right_image_paths\n",
    "        process_images(image_paths, molt_prediction, dataset, tag)\n",
    "    else:\n",
    "        image_paths = square_image_paths\n",
    "        process_images(image_paths, molt_prediction, dataset, tag)\n",
    "\n",
    "# Process segmentations\n",
    "dataframe = pd.DataFrame(columns=['image_path', 'index', 'pond'])\n",
    "\n",
    "for sample in dataset:\n",
    "\n",
    "    tag = sample.tags[0]    \n",
    "    # Access the polylines for each sample\n",
    "    for i, segmentation in enumerate(sample[\"segmentations\"].polylines):\n",
    "        image_path = sample.filepath.split('\\\\')[-1]\n",
    "\n",
    "        dataframe = dataframe._append({'image_path': image_path, 'index': i, 'pond': tag}, ignore_index=True)\n",
    "        # Process and modify the segmentation\n",
    "        updated_segmentation = process_detection_by_circle(segmentation, sample, i, dataframe)\n",
    "\n",
    "        # Save the updated segmentation back into the sample\n",
    "        sample[\"segmentations\"].polylines[i] = updated_segmentation\n",
    "\n",
    "        sample.save()\n",
    "\n",
    "dataframe.to_csv('molt.csv')\n",
    "session = fo.launch_app(dataset, port=5152)"
   ]
  },
  {
   "cell_type": "code",
   "execution_count": null,
   "metadata": {},
   "outputs": [],
   "source": [
    "import os\n",
    "import pandas as pd\n",
    "\n",
    "dataframe = pd.DataFrame(columns=['image_path', 'index', 'pond'])\n",
    "\n",
    "for molt_prediction in [molt_prediction_right, molt_prediction_square]:\n",
    "    prediction_paths_text = [os.path.join(molt_prediction, txt) for txt in os.listdir(molt_prediction) if txt.endswith('.txt')]\n",
    "\n",
    "    tag = molt_prediction.split('\\\\')[-2]\n",
    "\n",
    "    if 'right' in molt_prediction:\n",
    "        image_paths = right_image_paths\n",
    "        process_images(image_paths, molt_prediction, dataset, tag)\n",
    "    else:\n",
    "        image_paths = square_image_paths\n",
    "        process_images(image_paths, molt_prediction, dataset, tag)\n",
    "\n",
    "    # Process segmentations for the current molt_prediction\n",
    "    for sample in dataset:\n",
    "        # Access the polylines for each sample\n",
    "        for i, segmentation in enumerate(sample[\"segmentations\"].polylines):\n",
    "            image_path = sample.filepath.split('\\\\')[-1]\n",
    "\n",
    "            dataframe = dataframe._append({'image_path': image_path, 'index': i, 'pond': tag}, ignore_index=True)\n",
    "            # Process and modify the segmentation\n",
    "            updated_segmentation = process_detection_by_circle(segmentation, sample, i, dataframe)\n",
    "\n",
    "            # Save the updated segmentation back into the sample\n",
    "            sample[\"segmentations\"].polylines[i] = updated_segmentation\n",
    "\n",
    "            sample.save()\n",
    "\n",
    "dataframe.to_csv('molt.csv')\n",
    "session = fo.launch_app(dataset, port=5152)"
   ]
  },
  {
   "cell_type": "code",
   "execution_count": 72,
   "metadata": {},
   "outputs": [
    {
     "data": {
      "text/plain": [
       "image_path         33\n",
       "index              33\n",
       "true_length        33\n",
       "Hull_Length_fov    33\n",
       "dtype: int64"
      ]
     },
     "execution_count": 72,
     "metadata": {},
     "output_type": "execute_result"
    }
   ],
   "source": [
    "df=pd.read_csv('molt.csv')\n",
    "\n",
    "df[(df['Error_percentage_Hull_fov']<5) & (df['Hull_Length_fov']>df['true_length'])][['image_path','index','true_length','Hull_Length_fov']]"
   ]
  },
  {
   "cell_type": "code",
   "execution_count": 74,
   "metadata": {},
   "outputs": [
    {
     "data": {
      "text/plain": [
       "213"
      ]
     },
     "execution_count": 74,
     "metadata": {},
     "output_type": "execute_result"
    }
   ],
   "source": [
    "df=df.dropna()\n",
    "len(df)"
   ]
  },
  {
   "cell_type": "code",
   "execution_count": 39,
   "metadata": {},
   "outputs": [
    {
     "data": {
      "application/vnd.plotly.v1+json": {
       "config": {
        "plotlyServerURL": "https://plot.ly"
       },
       "data": [
        {
         "customdata": [],
         "hovertemplate": "center_x=%{x}<br>center_y=%{y}<br>image_path=%{customdata[0]}<br>index=%{customdata[1]}<br>Error_percentage_Hull_fov=%{marker.color}<extra></extra>",
         "legendgroup": "",
         "marker": {
          "color": [],
          "coloraxis": "coloraxis",
          "symbol": "circle"
         },
         "mode": "markers",
         "name": "",
         "orientation": "v",
         "showlegend": false,
         "type": "scatter",
         "x": [],
         "xaxis": "x",
         "y": [],
         "yaxis": "y"
        }
       ],
       "layout": {
        "coloraxis": {
         "colorbar": {
          "title": {
           "text": "Error %"
          }
         },
         "colorscale": [
          [
           0,
           "rgb(0,104,55)"
          ],
          [
           0.1,
           "rgb(26,152,80)"
          ],
          [
           0.2,
           "rgb(102,189,99)"
          ],
          [
           0.3,
           "rgb(166,217,106)"
          ],
          [
           0.4,
           "rgb(217,239,139)"
          ],
          [
           0.5,
           "rgb(255,255,191)"
          ],
          [
           0.6,
           "rgb(254,224,139)"
          ],
          [
           0.7,
           "rgb(253,174,97)"
          ],
          [
           0.8,
           "rgb(244,109,67)"
          ],
          [
           0.9,
           "rgb(215,48,39)"
          ],
          [
           1,
           "rgb(165,0,38)"
          ]
         ]
        },
        "legend": {
         "tracegroupgap": 0
        },
        "template": {
         "data": {
          "bar": [
           {
            "error_x": {
             "color": "#2a3f5f"
            },
            "error_y": {
             "color": "#2a3f5f"
            },
            "marker": {
             "line": {
              "color": "#E5ECF6",
              "width": 0.5
             },
             "pattern": {
              "fillmode": "overlay",
              "size": 10,
              "solidity": 0.2
             }
            },
            "type": "bar"
           }
          ],
          "barpolar": [
           {
            "marker": {
             "line": {
              "color": "#E5ECF6",
              "width": 0.5
             },
             "pattern": {
              "fillmode": "overlay",
              "size": 10,
              "solidity": 0.2
             }
            },
            "type": "barpolar"
           }
          ],
          "carpet": [
           {
            "aaxis": {
             "endlinecolor": "#2a3f5f",
             "gridcolor": "white",
             "linecolor": "white",
             "minorgridcolor": "white",
             "startlinecolor": "#2a3f5f"
            },
            "baxis": {
             "endlinecolor": "#2a3f5f",
             "gridcolor": "white",
             "linecolor": "white",
             "minorgridcolor": "white",
             "startlinecolor": "#2a3f5f"
            },
            "type": "carpet"
           }
          ],
          "choropleth": [
           {
            "colorbar": {
             "outlinewidth": 0,
             "ticks": ""
            },
            "type": "choropleth"
           }
          ],
          "contour": [
           {
            "colorbar": {
             "outlinewidth": 0,
             "ticks": ""
            },
            "colorscale": [
             [
              0,
              "#0d0887"
             ],
             [
              0.1111111111111111,
              "#46039f"
             ],
             [
              0.2222222222222222,
              "#7201a8"
             ],
             [
              0.3333333333333333,
              "#9c179e"
             ],
             [
              0.4444444444444444,
              "#bd3786"
             ],
             [
              0.5555555555555556,
              "#d8576b"
             ],
             [
              0.6666666666666666,
              "#ed7953"
             ],
             [
              0.7777777777777778,
              "#fb9f3a"
             ],
             [
              0.8888888888888888,
              "#fdca26"
             ],
             [
              1,
              "#f0f921"
             ]
            ],
            "type": "contour"
           }
          ],
          "contourcarpet": [
           {
            "colorbar": {
             "outlinewidth": 0,
             "ticks": ""
            },
            "type": "contourcarpet"
           }
          ],
          "heatmap": [
           {
            "colorbar": {
             "outlinewidth": 0,
             "ticks": ""
            },
            "colorscale": [
             [
              0,
              "#0d0887"
             ],
             [
              0.1111111111111111,
              "#46039f"
             ],
             [
              0.2222222222222222,
              "#7201a8"
             ],
             [
              0.3333333333333333,
              "#9c179e"
             ],
             [
              0.4444444444444444,
              "#bd3786"
             ],
             [
              0.5555555555555556,
              "#d8576b"
             ],
             [
              0.6666666666666666,
              "#ed7953"
             ],
             [
              0.7777777777777778,
              "#fb9f3a"
             ],
             [
              0.8888888888888888,
              "#fdca26"
             ],
             [
              1,
              "#f0f921"
             ]
            ],
            "type": "heatmap"
           }
          ],
          "heatmapgl": [
           {
            "colorbar": {
             "outlinewidth": 0,
             "ticks": ""
            },
            "colorscale": [
             [
              0,
              "#0d0887"
             ],
             [
              0.1111111111111111,
              "#46039f"
             ],
             [
              0.2222222222222222,
              "#7201a8"
             ],
             [
              0.3333333333333333,
              "#9c179e"
             ],
             [
              0.4444444444444444,
              "#bd3786"
             ],
             [
              0.5555555555555556,
              "#d8576b"
             ],
             [
              0.6666666666666666,
              "#ed7953"
             ],
             [
              0.7777777777777778,
              "#fb9f3a"
             ],
             [
              0.8888888888888888,
              "#fdca26"
             ],
             [
              1,
              "#f0f921"
             ]
            ],
            "type": "heatmapgl"
           }
          ],
          "histogram": [
           {
            "marker": {
             "pattern": {
              "fillmode": "overlay",
              "size": 10,
              "solidity": 0.2
             }
            },
            "type": "histogram"
           }
          ],
          "histogram2d": [
           {
            "colorbar": {
             "outlinewidth": 0,
             "ticks": ""
            },
            "colorscale": [
             [
              0,
              "#0d0887"
             ],
             [
              0.1111111111111111,
              "#46039f"
             ],
             [
              0.2222222222222222,
              "#7201a8"
             ],
             [
              0.3333333333333333,
              "#9c179e"
             ],
             [
              0.4444444444444444,
              "#bd3786"
             ],
             [
              0.5555555555555556,
              "#d8576b"
             ],
             [
              0.6666666666666666,
              "#ed7953"
             ],
             [
              0.7777777777777778,
              "#fb9f3a"
             ],
             [
              0.8888888888888888,
              "#fdca26"
             ],
             [
              1,
              "#f0f921"
             ]
            ],
            "type": "histogram2d"
           }
          ],
          "histogram2dcontour": [
           {
            "colorbar": {
             "outlinewidth": 0,
             "ticks": ""
            },
            "colorscale": [
             [
              0,
              "#0d0887"
             ],
             [
              0.1111111111111111,
              "#46039f"
             ],
             [
              0.2222222222222222,
              "#7201a8"
             ],
             [
              0.3333333333333333,
              "#9c179e"
             ],
             [
              0.4444444444444444,
              "#bd3786"
             ],
             [
              0.5555555555555556,
              "#d8576b"
             ],
             [
              0.6666666666666666,
              "#ed7953"
             ],
             [
              0.7777777777777778,
              "#fb9f3a"
             ],
             [
              0.8888888888888888,
              "#fdca26"
             ],
             [
              1,
              "#f0f921"
             ]
            ],
            "type": "histogram2dcontour"
           }
          ],
          "mesh3d": [
           {
            "colorbar": {
             "outlinewidth": 0,
             "ticks": ""
            },
            "type": "mesh3d"
           }
          ],
          "parcoords": [
           {
            "line": {
             "colorbar": {
              "outlinewidth": 0,
              "ticks": ""
             }
            },
            "type": "parcoords"
           }
          ],
          "pie": [
           {
            "automargin": true,
            "type": "pie"
           }
          ],
          "scatter": [
           {
            "fillpattern": {
             "fillmode": "overlay",
             "size": 10,
             "solidity": 0.2
            },
            "type": "scatter"
           }
          ],
          "scatter3d": [
           {
            "line": {
             "colorbar": {
              "outlinewidth": 0,
              "ticks": ""
             }
            },
            "marker": {
             "colorbar": {
              "outlinewidth": 0,
              "ticks": ""
             }
            },
            "type": "scatter3d"
           }
          ],
          "scattercarpet": [
           {
            "marker": {
             "colorbar": {
              "outlinewidth": 0,
              "ticks": ""
             }
            },
            "type": "scattercarpet"
           }
          ],
          "scattergeo": [
           {
            "marker": {
             "colorbar": {
              "outlinewidth": 0,
              "ticks": ""
             }
            },
            "type": "scattergeo"
           }
          ],
          "scattergl": [
           {
            "marker": {
             "colorbar": {
              "outlinewidth": 0,
              "ticks": ""
             }
            },
            "type": "scattergl"
           }
          ],
          "scattermapbox": [
           {
            "marker": {
             "colorbar": {
              "outlinewidth": 0,
              "ticks": ""
             }
            },
            "type": "scattermapbox"
           }
          ],
          "scatterpolar": [
           {
            "marker": {
             "colorbar": {
              "outlinewidth": 0,
              "ticks": ""
             }
            },
            "type": "scatterpolar"
           }
          ],
          "scatterpolargl": [
           {
            "marker": {
             "colorbar": {
              "outlinewidth": 0,
              "ticks": ""
             }
            },
            "type": "scatterpolargl"
           }
          ],
          "scatterternary": [
           {
            "marker": {
             "colorbar": {
              "outlinewidth": 0,
              "ticks": ""
             }
            },
            "type": "scatterternary"
           }
          ],
          "surface": [
           {
            "colorbar": {
             "outlinewidth": 0,
             "ticks": ""
            },
            "colorscale": [
             [
              0,
              "#0d0887"
             ],
             [
              0.1111111111111111,
              "#46039f"
             ],
             [
              0.2222222222222222,
              "#7201a8"
             ],
             [
              0.3333333333333333,
              "#9c179e"
             ],
             [
              0.4444444444444444,
              "#bd3786"
             ],
             [
              0.5555555555555556,
              "#d8576b"
             ],
             [
              0.6666666666666666,
              "#ed7953"
             ],
             [
              0.7777777777777778,
              "#fb9f3a"
             ],
             [
              0.8888888888888888,
              "#fdca26"
             ],
             [
              1,
              "#f0f921"
             ]
            ],
            "type": "surface"
           }
          ],
          "table": [
           {
            "cells": {
             "fill": {
              "color": "#EBF0F8"
             },
             "line": {
              "color": "white"
             }
            },
            "header": {
             "fill": {
              "color": "#C8D4E3"
             },
             "line": {
              "color": "white"
             }
            },
            "type": "table"
           }
          ]
         },
         "layout": {
          "annotationdefaults": {
           "arrowcolor": "#2a3f5f",
           "arrowhead": 0,
           "arrowwidth": 1
          },
          "autotypenumbers": "strict",
          "coloraxis": {
           "colorbar": {
            "outlinewidth": 0,
            "ticks": ""
           }
          },
          "colorscale": {
           "diverging": [
            [
             0,
             "#8e0152"
            ],
            [
             0.1,
             "#c51b7d"
            ],
            [
             0.2,
             "#de77ae"
            ],
            [
             0.3,
             "#f1b6da"
            ],
            [
             0.4,
             "#fde0ef"
            ],
            [
             0.5,
             "#f7f7f7"
            ],
            [
             0.6,
             "#e6f5d0"
            ],
            [
             0.7,
             "#b8e186"
            ],
            [
             0.8,
             "#7fbc41"
            ],
            [
             0.9,
             "#4d9221"
            ],
            [
             1,
             "#276419"
            ]
           ],
           "sequential": [
            [
             0,
             "#0d0887"
            ],
            [
             0.1111111111111111,
             "#46039f"
            ],
            [
             0.2222222222222222,
             "#7201a8"
            ],
            [
             0.3333333333333333,
             "#9c179e"
            ],
            [
             0.4444444444444444,
             "#bd3786"
            ],
            [
             0.5555555555555556,
             "#d8576b"
            ],
            [
             0.6666666666666666,
             "#ed7953"
            ],
            [
             0.7777777777777778,
             "#fb9f3a"
            ],
            [
             0.8888888888888888,
             "#fdca26"
            ],
            [
             1,
             "#f0f921"
            ]
           ],
           "sequentialminus": [
            [
             0,
             "#0d0887"
            ],
            [
             0.1111111111111111,
             "#46039f"
            ],
            [
             0.2222222222222222,
             "#7201a8"
            ],
            [
             0.3333333333333333,
             "#9c179e"
            ],
            [
             0.4444444444444444,
             "#bd3786"
            ],
            [
             0.5555555555555556,
             "#d8576b"
            ],
            [
             0.6666666666666666,
             "#ed7953"
            ],
            [
             0.7777777777777778,
             "#fb9f3a"
            ],
            [
             0.8888888888888888,
             "#fdca26"
            ],
            [
             1,
             "#f0f921"
            ]
           ]
          },
          "colorway": [
           "#636efa",
           "#EF553B",
           "#00cc96",
           "#ab63fa",
           "#FFA15A",
           "#19d3f3",
           "#FF6692",
           "#B6E880",
           "#FF97FF",
           "#FECB52"
          ],
          "font": {
           "color": "#2a3f5f"
          },
          "geo": {
           "bgcolor": "white",
           "lakecolor": "white",
           "landcolor": "#E5ECF6",
           "showlakes": true,
           "showland": true,
           "subunitcolor": "white"
          },
          "hoverlabel": {
           "align": "left"
          },
          "hovermode": "closest",
          "mapbox": {
           "style": "light"
          },
          "paper_bgcolor": "white",
          "plot_bgcolor": "#E5ECF6",
          "polar": {
           "angularaxis": {
            "gridcolor": "white",
            "linecolor": "white",
            "ticks": ""
           },
           "bgcolor": "#E5ECF6",
           "radialaxis": {
            "gridcolor": "white",
            "linecolor": "white",
            "ticks": ""
           }
          },
          "scene": {
           "xaxis": {
            "backgroundcolor": "#E5ECF6",
            "gridcolor": "white",
            "gridwidth": 2,
            "linecolor": "white",
            "showbackground": true,
            "ticks": "",
            "zerolinecolor": "white"
           },
           "yaxis": {
            "backgroundcolor": "#E5ECF6",
            "gridcolor": "white",
            "gridwidth": 2,
            "linecolor": "white",
            "showbackground": true,
            "ticks": "",
            "zerolinecolor": "white"
           },
           "zaxis": {
            "backgroundcolor": "#E5ECF6",
            "gridcolor": "white",
            "gridwidth": 2,
            "linecolor": "white",
            "showbackground": true,
            "ticks": "",
            "zerolinecolor": "white"
           }
          },
          "shapedefaults": {
           "line": {
            "color": "#2a3f5f"
           }
          },
          "ternary": {
           "aaxis": {
            "gridcolor": "white",
            "linecolor": "white",
            "ticks": ""
           },
           "baxis": {
            "gridcolor": "white",
            "linecolor": "white",
            "ticks": ""
           },
           "bgcolor": "#E5ECF6",
           "caxis": {
            "gridcolor": "white",
            "linecolor": "white",
            "ticks": ""
           }
          },
          "title": {
           "x": 0.05
          },
          "xaxis": {
           "automargin": true,
           "gridcolor": "white",
           "linecolor": "white",
           "ticks": "",
           "title": {
            "standoff": 15
           },
           "zerolinecolor": "white",
           "zerolinewidth": 2
          },
          "yaxis": {
           "automargin": true,
           "gridcolor": "white",
           "linecolor": "white",
           "ticks": "",
           "title": {
            "standoff": 15
           },
           "zerolinecolor": "white",
           "zerolinewidth": 2
          }
         }
        },
        "title": {
         "text": "Interactive Error Percentage Hull FOV for Pond Areas"
        },
        "xaxis": {
         "anchor": "y",
         "domain": [
          0,
          1
         ],
         "title": {
          "text": "center_x"
         }
        },
        "yaxis": {
         "anchor": "x",
         "domain": [
          0,
          1
         ],
         "title": {
          "text": "center_y"
         }
        }
       }
      }
     },
     "metadata": {},
     "output_type": "display_data"
    },
    {
     "data": {
      "application/vnd.plotly.v1+json": {
       "config": {
        "plotlyServerURL": "https://plot.ly"
       },
       "data": [
        {
         "customdata": [
          [
           "undistorted_GX010191_100_1250.jpg",
           0
          ],
          [
           "undistorted_GX010191_100_1250.jpg",
           1
          ],
          [
           "undistorted_GX010191_100_1250.jpg",
           2
          ],
          [
           "undistorted_GX010191_101_1265.jpg",
           0
          ],
          [
           "undistorted_GX010191_102_1277.jpg",
           0
          ],
          [
           "undistorted_GX010191_103_1289.jpg",
           0
          ],
          [
           "undistorted_GX010191_103_1289.jpg",
           1
          ],
          [
           "undistorted_GX010191_104_1301.jpg",
           0
          ],
          [
           "undistorted_GX010191_105_1312.jpg",
           0
          ],
          [
           "undistorted_GX010191_107_1330.jpg",
           0
          ],
          [
           "undistorted_GX010191_107_1330.jpg",
           1
          ],
          [
           "undistorted_GX010191_108_1337.jpg",
           1
          ],
          [
           "undistorted_GX010191_108_1337.jpg",
           2
          ],
          [
           "undistorted_GX010191_10_370.jpg",
           0
          ],
          [
           "undistorted_GX010191_110_1355.jpg",
           0
          ],
          [
           "undistorted_GX010191_110_1355.jpg",
           1
          ],
          [
           "undistorted_GX010191_110_1355.jpg",
           3
          ],
          [
           "undistorted_GX010191_116_1399.jpg",
           0
          ],
          [
           "undistorted_GX010191_116_1399.jpg",
           2
          ],
          [
           "undistorted_GX010191_118_1415.jpg",
           0
          ],
          [
           "undistorted_GX010191_11_391.jpg",
           0
          ],
          [
           "undistorted_GX010191_12_410.jpg",
           0
          ],
          [
           "undistorted_GX010191_12_410.jpg",
           3
          ],
          [
           "undistorted_GX010191_13_439.jpg",
           0
          ],
          [
           "undistorted_GX010191_13_439.jpg",
           2
          ],
          [
           "undistorted_GX010191_14_460.jpg",
           0
          ],
          [
           "undistorted_GX010191_14_460.jpg",
           1
          ],
          [
           "undistorted_GX010191_14_460.jpg",
           2
          ],
          [
           "undistorted_GX010191_15_479.jpg",
           0
          ],
          [
           "undistorted_GX010191_15_479.jpg",
           1
          ],
          [
           "undistorted_GX010191_16_495.jpg",
           0
          ],
          [
           "undistorted_GX010191_16_495.jpg",
           1
          ],
          [
           "undistorted_GX010191_16_495.jpg",
           2
          ],
          [
           "undistorted_GX010191_16_495.jpg",
           3
          ],
          [
           "undistorted_GX010191_17_509.jpg",
           0
          ],
          [
           "undistorted_GX010191_17_509.jpg",
           1
          ],
          [
           "undistorted_GX010191_17_509.jpg",
           2
          ],
          [
           "undistorted_GX010191_18_521.jpg",
           0
          ],
          [
           "undistorted_GX010191_19_537.jpg",
           0
          ],
          [
           "undistorted_GX010191_26_199.jpg",
           0
          ],
          [
           "undistorted_GX010191_26_199.jpg",
           2
          ],
          [
           "undistorted_GX010191_26_199.jpg",
           5
          ],
          [
           "undistorted_GX010191_27_215.jpg",
           1
          ],
          [
           "undistorted_GX010191_28_230.jpg",
           0
          ],
          [
           "undistorted_GX010191_28_230.jpg",
           1
          ],
          [
           "undistorted_GX010191_28_230.jpg",
           3
          ],
          [
           "undistorted_GX010191_28_230.jpg",
           4
          ],
          [
           "undistorted_GX010191_28_230.jpg",
           5
          ],
          [
           "undistorted_GX010191_28_230.jpg",
           6
          ],
          [
           "undistorted_GX010191_29_257.jpg",
           1
          ],
          [
           "undistorted_GX010191_29_257.jpg",
           2
          ],
          [
           "undistorted_GX010191_29_257.jpg",
           3
          ],
          [
           "undistorted_GX010191_31_283.jpg",
           1
          ],
          [
           "undistorted_GX010191_31_283.jpg",
           2
          ],
          [
           "undistorted_GX010191_32_1049.jpg",
           0
          ],
          [
           "undistorted_GX010191_32_1049.jpg",
           3
          ],
          [
           "undistorted_GX010191_32_305.jpg",
           0
          ],
          [
           "undistorted_GX010191_32_305.jpg",
           2
          ],
          [
           "undistorted_GX010191_32_305.jpg",
           3
          ],
          [
           "undistorted_GX010191_32_305.jpg",
           4
          ],
          [
           "undistorted_GX010191_33_1087.jpg",
           1
          ],
          [
           "undistorted_GX010191_33_1087.jpg",
           2
          ],
          [
           "undistorted_GX010191_33_331.jpg",
           0
          ],
          [
           "undistorted_GX010191_33_331.jpg",
           1
          ],
          [
           "undistorted_GX010191_33_331.jpg",
           2
          ],
          [
           "undistorted_GX010191_34_1128.jpg",
           0
          ],
          [
           "undistorted_GX010191_34_1128.jpg",
           1
          ],
          [
           "undistorted_GX010191_34_350.jpg",
           0
          ],
          [
           "undistorted_GX010191_34_350.jpg",
           1
          ],
          [
           "undistorted_GX010191_34_350.jpg",
           2
          ],
          [
           "undistorted_GX010191_35_1167.jpg",
           0
          ],
          [
           "undistorted_GX010191_35_1167.jpg",
           1
          ],
          [
           "undistorted_GX010191_35_1167.jpg",
           4
          ],
          [
           "undistorted_GX010191_35_367.jpg",
           0
          ],
          [
           "undistorted_GX010191_35_367.jpg",
           1
          ],
          [
           "undistorted_GX010191_36_1195.jpg",
           0
          ],
          [
           "undistorted_GX010191_36_1195.jpg",
           1
          ],
          [
           "undistorted_GX010191_36_1195.jpg",
           2
          ],
          [
           "undistorted_GX010191_36_381.jpg",
           0
          ],
          [
           "undistorted_GX010191_37_1242.jpg",
           0
          ],
          [
           "undistorted_GX010191_37_1242.jpg",
           1
          ],
          [
           "undistorted_GX010191_37_392.jpg",
           0
          ],
          [
           "undistorted_GX010191_38_1266.jpg",
           0
          ],
          [
           "undistorted_GX010191_38_404.jpg",
           0
          ],
          [
           "undistorted_GX010191_39_1284.jpg",
           0
          ],
          [
           "undistorted_GX010191_39_416.jpg",
           0
          ],
          [
           "undistorted_GX010191_41_445.jpg",
           0
          ],
          [
           "undistorted_GX010191_42_1339.jpg",
           0
          ],
          [
           "undistorted_GX010191_42_1339.jpg",
           1
          ],
          [
           "undistorted_GX010191_42_1339.jpg",
           5
          ],
          [
           "undistorted_GX010191_42_457.jpg",
           0
          ],
          [
           "undistorted_GX010191_42_457.jpg",
           2
          ],
          [
           "undistorted_GX010191_42_457.jpg",
           3
          ],
          [
           "undistorted_GX010191_43_1353.jpg",
           0
          ],
          [
           "undistorted_GX010191_43_1353.jpg",
           3
          ],
          [
           "undistorted_GX010191_43_1353.jpg",
           6
          ],
          [
           "undistorted_GX010191_43_468.jpg",
           0
          ],
          [
           "undistorted_GX010191_43_468.jpg",
           2
          ],
          [
           "undistorted_GX010191_43_468.jpg",
           3
          ],
          [
           "undistorted_GX010191_43_468.jpg",
           4
          ],
          [
           "undistorted_GX010191_44_478.jpg",
           0
          ],
          [
           "undistorted_GX010191_44_478.jpg",
           1
          ],
          [
           "undistorted_GX010191_45_489.jpg",
           0
          ],
          [
           "undistorted_GX010191_45_489.jpg",
           4
          ],
          [
           "undistorted_GX010191_46_497.jpg",
           0
          ],
          [
           "undistorted_GX010191_46_497.jpg",
           1
          ],
          [
           "undistorted_GX010191_47_507.jpg",
           0
          ],
          [
           "undistorted_GX010191_47_507.jpg",
           1
          ],
          [
           "undistorted_GX010191_47_507.jpg",
           2
          ],
          [
           "undistorted_GX010191_51_535.jpg",
           0
          ],
          [
           "undistorted_GX010191_5_190.jpg",
           0
          ],
          [
           "undistorted_GX010191_5_190.jpg",
           2
          ],
          [
           "undistorted_GX010191_6_219.jpg",
           0
          ],
          [
           "undistorted_GX010191_88_1016.jpg",
           0
          ],
          [
           "undistorted_GX010191_8_309.jpg",
           1
          ],
          [
           "undistorted_GX010191_8_309.jpg",
           2
          ],
          [
           "undistorted_GX010191_91_1066.jpg",
           2
          ],
          [
           "undistorted_GX010191_91_1066.jpg",
           4
          ],
          [
           "undistorted_GX010191_91_1066.jpg",
           5
          ],
          [
           "undistorted_GX010191_92_1087.jpg",
           1
          ],
          [
           "undistorted_GX010191_92_1087.jpg",
           2
          ],
          [
           "undistorted_GX010191_94_1132.jpg",
           0
          ],
          [
           "undistorted_GX010191_95_1157.jpg",
           0
          ],
          [
           "undistorted_GX010191_95_1157.jpg",
           1
          ],
          [
           "undistorted_GX010191_95_1157.jpg",
           2
          ],
          [
           "undistorted_GX010191_96_1175.jpg",
           0
          ],
          [
           "undistorted_GX010191_97_1190.jpg",
           0
          ],
          [
           "undistorted_GX010191_97_1190.jpg",
           1
          ],
          [
           "undistorted_GX010191_98_1211.jpg",
           0
          ],
          [
           "undistorted_GX010191_98_1211.jpg",
           1
          ],
          [
           "undistorted_GX010191_99_1233.jpg",
           0
          ],
          [
           "undistorted_GX010191_99_1233.jpg",
           1
          ],
          [
           "undistorted_GX010191_9_346.jpg",
           0
          ],
          [
           "undistorted_GX010191_9_346.jpg",
           1
          ],
          [
           "undistorted_GX010191_9_346.jpg",
           2
          ],
          [
           "undistorted_GX010192_10_696.jpg",
           1
          ],
          [
           "undistorted_GX010192_11_745.jpg",
           0
          ],
          [
           "undistorted_GX010192_16_1005.jpg",
           0
          ],
          [
           "undistorted_GX010192_17_1035.jpg",
           0
          ],
          [
           "undistorted_GX010192_25_1553.jpg",
           0
          ],
          [
           "undistorted_GX010192_26_1578.jpg",
           0
          ],
          [
           "undistorted_GX010192_8_593.jpg",
           0
          ],
          [
           "undistorted_GX010192_9_675.jpg",
           1
          ],
          [
           "undistorted_GX010193_10_1039.jpg",
           0
          ],
          [
           "undistorted_GX010193_10_1039.jpg",
           1
          ],
          [
           "undistorted_GX010193_10_1039.jpg",
           2
          ],
          [
           "undistorted_GX010193_11_1065.jpg",
           0
          ],
          [
           "undistorted_GX010193_16_1232.jpg",
           0
          ],
          [
           "undistorted_GX010193_17_1264.jpg",
           0
          ],
          [
           "undistorted_GX010193_18_1289.jpg",
           0
          ],
          [
           "undistorted_GX010193_19_1334.jpg",
           0
          ],
          [
           "undistorted_GX010193_20_1365.jpg",
           0
          ],
          [
           "undistorted_GX010193_20_1365.jpg",
           2
          ],
          [
           "undistorted_GX010193_26_1530.jpg",
           0
          ],
          [
           "undistorted_GX010193_26_1530.jpg",
           1
          ],
          [
           "undistorted_GX010193_27_1553.jpg",
           0
          ],
          [
           "undistorted_GX010193_27_1553.jpg",
           1
          ],
          [
           "undistorted_GX010193_28_1584.jpg",
           0
          ],
          [
           "undistorted_GX010193_28_1584.jpg",
           1
          ],
          [
           "undistorted_GX010193_28_1584.jpg",
           2
          ],
          [
           "undistorted_GX010193_3_251.jpg",
           0
          ],
          [
           "undistorted_GX010193_4_283.jpg",
           0
          ],
          [
           "undistorted_GX010193_4_283.jpg",
           1
          ],
          [
           "undistorted_GX010193_5_305.jpg",
           0
          ],
          [
           "undistorted_GX010193_6_330.jpg",
           0
          ],
          [
           "undistorted_GX010193_7_360.jpg",
           0
          ],
          [
           "undistorted_GX010193_7_360.jpg",
           2
          ],
          [
           "undistorted_GX010194_15_231.jpg",
           0
          ],
          [
           "undistorted_GX010194_16_240.jpg",
           0
          ],
          [
           "undistorted_GX010194_17_257.jpg",
           0
          ],
          [
           "undistorted_GX010194_17_257.jpg",
           1
          ],
          [
           "undistorted_GX010194_18_272.jpg",
           0
          ],
          [
           "undistorted_GX010194_18_272.jpg",
           3
          ],
          [
           "undistorted_GX010194_19_285.jpg",
           0
          ],
          [
           "undistorted_GX010194_19_285.jpg",
           1
          ],
          [
           "undistorted_GX010194_20_299.jpg",
           0
          ],
          [
           "undistorted_GX010194_21_312.jpg",
           0
          ],
          [
           "undistorted_GX010194_21_312.jpg",
           1
          ],
          [
           "undistorted_GX010194_22_323.jpg",
           0
          ],
          [
           "undistorted_GX010194_24_352.jpg",
           0
          ],
          [
           "undistorted_GX010194_2_285.jpg",
           0
          ],
          [
           "undistorted_GX010194_2_285.jpg",
           1
          ],
          [
           "undistorted_GX010194_30_407.jpg",
           1
          ],
          [
           "undistorted_GX010194_31_414.jpg",
           0
          ],
          [
           "undistorted_GX010194_36_485.jpg",
           1
          ],
          [
           "undistorted_GX010194_37_496.jpg",
           1
          ],
          [
           "undistorted_GX010194_38_504.jpg",
           1
          ],
          [
           "undistorted_GX010194_39_513.jpg",
           1
          ],
          [
           "undistorted_GX010194_43_570.jpg",
           0
          ],
          [
           "undistorted_GX010194_43_570.jpg",
           3
          ],
          [
           "undistorted_GX010194_46_620.jpg",
           1
          ],
          [
           "undistorted_GX010194_47_640.jpg",
           0
          ],
          [
           "undistorted_GX010194_47_640.jpg",
           2
          ],
          [
           "undistorted_GX010194_55_768.jpg",
           0
          ],
          [
           "undistorted_GX010194_55_768.jpg",
           2
          ],
          [
           "undistorted_GX010194_56_784.jpg",
           0
          ],
          [
           "undistorted_GX010194_57_798.jpg",
           0
          ],
          [
           "undistorted_GX010194_57_798.jpg",
           1
          ],
          [
           "undistorted_GX010194_58_810.jpg",
           2
          ],
          [
           "undistorted_GX010194_5_757.jpg",
           0
          ],
          [
           "undistorted_GX010194_60_836.jpg",
           0
          ],
          [
           "undistorted_GX010194_61_852.jpg",
           0
          ],
          [
           "undistorted_GX010194_62_878.jpg",
           0
          ],
          [
           "undistorted_GX010194_62_878.jpg",
           1
          ],
          [
           "undistorted_GX010194_63_894.jpg",
           0
          ],
          [
           "undistorted_GX010194_63_894.jpg",
           3
          ],
          [
           "undistorted_GX010194_64_911.jpg",
           0
          ],
          [
           "undistorted_GX010194_64_911.jpg",
           1
          ],
          [
           "undistorted_GX010194_65_928.jpg",
           0
          ],
          [
           "undistorted_GX010194_6_101.jpg",
           1
          ],
          [
           "undistorted_GX010194_6_101.jpg",
           2
          ],
          [
           "undistorted_GX010194_6_845.jpg",
           0
          ],
          [
           "undistorted_GX010194_7_885.jpg",
           0
          ]
         ],
         "hovertemplate": "center_x=%{x}<br>center_y=%{y}<br>image_path=%{customdata[0]}<br>index=%{customdata[1]}<br>Error_percentage_Hull_fov=%{marker.color}<extra></extra>",
         "legendgroup": "",
         "marker": {
          "color": [
           7.866959321470829,
           3.70699808307568,
           1.365075486437364,
           2.4842346434788447,
           0.4141407858288924,
           5.733508552970277,
           13.294509862853118,
           14.25333015884063,
           3.275578001253561,
           8.287221373202765,
           13.8348198649886,
           8.05896519238916,
           17.171978811340942,
           1.1016452499603502,
           3.162501760179942,
           13.605927626997508,
           1.394599301558061,
           7.013275544567724,
           0.8714891376083476,
           10.099267767086891,
           12.494981369970636,
           1.1711584443297889,
           14.043030846322182,
           3.617197047420832,
           8.075225799891005,
           13.29279536845598,
           4.108784049105007,
           11.865076868363166,
           0.0598621680320524,
           0.8142123198040027,
           7.032674790056028,
           0.9375969602918292,
           4.397656902698277,
           5.8343740593797255,
           3.5506205865834457,
           3.6493642389397647,
           1.388373593030917,
           4.140520017086402,
           3.7402888281466393,
           15.63090648611292,
           4.8222936736447775,
           3.969518062636574,
           16.2635824965225,
           14.042999769570232,
           21.092228543735853,
           2.4329438591839567,
           18.308366327862476,
           19.666213775516635,
           15.52878470493212,
           11.773876110786668,
           0.903329017138062,
           6.742567516391946,
           4.015091888782743,
           2.1531052230539887,
           7.151919747335916,
           13.13830601705848,
           7.301023761326965,
           14.049468484515677,
           0.865132837930224,
           15.102953106243229,
           5.724861516687664,
           14.236456478137695,
           4.333016915254291,
           19.079352522211696,
           5.205069970599728,
           3.3394602921656733,
           10.193701153023987,
           18.26113730561385,
           13.07692502205406,
           0.1926092693786819,
           9.074479199800924,
           10.907285697744868,
           9.084948686963909,
           0.6198222302085729,
           14.76841195452743,
           13.969557574316063,
           8.333805621882385,
           13.494754317503563,
           1.3385607504801555,
           17.241992439853593,
           10.226176478516155,
           14.557440937126136,
           2.7364107557984627,
           14.143491613423931,
           4.4934320398002585,
           2.9302002596014174,
           16.366693244691156,
           2.853057737898077,
           5.649214687839961,
           1.069058237436315,
           9.348564873267112,
           6.58126909869281,
           3.3929108340997542,
           4.605327099084727,
           2.030795989449356,
           6.540752850526808,
           12.66943873037598,
           4.218474960056033,
           10.620716236057822,
           15.899319604258563,
           6.02557383526258,
           1.671963865398109,
           19.37579704343185,
           4.503339236447148,
           15.975524664709727,
           9.550356133023216,
           16.37752966251501,
           3.835239069703297,
           15.528782636874595,
           3.91840883667549,
           9.888159778257991,
           10.043944454104658,
           8.170282243230373,
           13.959517579007958,
           16.63752479870418,
           16.22199701905948,
           7.141264506611754,
           21.238059379378974,
           21.38893880881433,
           5.724861516687664,
           14.236456478137695,
           14.997317628353397,
           9.029110486213089,
           8.438598198682255,
           3.458753236813332,
           5.811244519437556,
           12.137707995853331,
           2.736395125683943,
           7.5092563141051105,
           12.42590978283848,
           12.354628717486452,
           9.325466296817927,
           18.364107646749343,
           7.250648797712075,
           8.843883870430682,
           21.21107807285579,
           17.69648430680886,
           6.085130588706436,
           9.600836967728153,
           5.787273944775325,
           8.324563582661943,
           18.022039007661306,
           8.3639163342282,
           2.422551619886788,
           0.8887662698615852,
           7.333453123514634,
           5.9111009636571685,
           13.466933633365432,
           4.353598755137817,
           7.3304675603249825,
           8.521170935089279,
           7.5001066014664275,
           0.205164545120787,
           7.83794311601497,
           10.596538802018998,
           5.803583643203372,
           6.999362569893258,
           22.012380509303554,
           7.389759210687571,
           9.389328043865392,
           11.785546814352363,
           18.713236136525143,
           11.183260692081392,
           17.882614822537178,
           18.3981481018408,
           15.15059323910072,
           15.29331451950895,
           9.01000573182303,
           5.030129561381658,
           18.877278635773845,
           6.810271822216013,
           11.021527837053798,
           14.756770101834068,
           4.1836944160694935,
           10.493706681756915,
           10.37422578498702,
           20.26780357740084,
           13.685617510373888,
           12.381065821804604,
           12.29613644485018,
           4.1836944160694935,
           10.493706681756915,
           11.218917120549436,
           15.04477092589324,
           4.501351108811034,
           4.303009223540961,
           6.338530337688134,
           4.427495173520363,
           13.30286546886963,
           11.3405061013259,
           13.309616079933608,
           15.480764064627076,
           15.972759555180224,
           7.984738962871095,
           6.708396352503078,
           14.526855013671865,
           11.638466282493786,
           6.0750550249429125,
           12.980501285979344,
           10.341165103080227,
           12.020998914075216,
           22.34636141731444,
           2.227305038384628,
           15.755493018473976,
           1.5090565059289278,
           19.931417300155584,
           2.696874721553557,
           4.295870812150342,
           3.667977208152975,
           18.398166359779708,
           18.543824224942853,
           16.65694647073524,
           21.443668492519976
          ],
          "coloraxis": "coloraxis",
          "symbol": "circle"
         },
         "mode": "markers",
         "name": "",
         "orientation": "v",
         "showlegend": false,
         "type": "scatter",
         "x": [
          32.46987951807229,
          345.48192771084337,
          339.4578313253012,
          339.99999999999994,
          338.8004753388554,
          342.4698795180723,
          20,
          364.4578313253012,
          390.4216867469879,
          432.4698795180723,
          14.457831325301203,
          62.951807228915655,
          467.95180722891564,
          389.4578313253012,
          370.48192771084337,
          523.9759036144578,
          530.4819277108434,
          489.99999999999994,
          109.93975903614457,
          490.96385542168673,
          420.96385542168673,
          438.4939759036144,
          483.433734939759,
          472.4698795180723,
          70.83524772919803,
          384.4578313253012,
          446.98795180722885,
          458.433734939759,
          485.4819277108433,
          370.4216867469879,
          518.9156626506024,
          385.510930440512,
          68.43373493975903,
          41.1379784273814,
          557.4698795180723,
          415.96385542168673,
          76.92771084337349,
          468.97590361445776,
          535.4819277108434,
          450.96385542168673,
          74.93975903614457,
          408.433734939759,
          453.91566265060237,
          471.2517060429216,
          331.9879518072289,
          20.481927710843372,
          466.92771084337346,
          331.4457831325301,
          194.45783132530119,
          472.6840467338102,
          467.7152555534638,
          8.975903614457831,
          465.4216867469879,
          416.92771084337346,
          388.91566265060237,
          42.46987951807228,
          477.4096385542168,
          350.9036144578313,
          478.433734939759,
          364.93975903614455,
          404.57916627447287,
          53.97590361445783,
          500.4819277108433,
          183.49397590361446,
          500.4819277108433,
          444.4578313253012,
          408.91566265060237,
          54.39759036144578,
          45.421686746987945,
          512.5335325677711,
          496.27894390060237,
          389.93975903614455,
          496.1544615963855,
          386.075336502259,
          51.92771084337349,
          547.888860128012,
          386.4457831325301,
          539.4578313253012,
          408.91566265060237,
          353.49397590361446,
          27.95180722891566,
          423.91566265060237,
          341.4457831325301,
          429.4578313253012,
          323.91566265060237,
          429.4578313253012,
          457.95180722891564,
          482.95180722891564,
          330.96385542168673,
          342.4698795180723,
          478.4939759036144,
          467.4698795180723,
          484.4578313253012,
          528.9759036144578,
          366.92771084337346,
          22.495416848056287,
          367.4096385542168,
          469.4578313253012,
          11.035298726644859,
          370.48192771084337,
          481.4457831325301,
          367.95183664344876,
          498.4939759036144,
          37.46987951807228,
          520.9036144578313,
          88.97590361445782,
          554.4578313253012,
          412.4698795180723,
          74.4578313253012,
          530.4819277108434,
          440.8518742940512,
          441.1177522590361,
          462.04292756965356,
          393.433734939759,
          467.4698795180723,
          474.4578313253012,
          394.4578313253012,
          45.48192771084337,
          46.44578313253012,
          404.57916627447287,
          53.97590361445783,
          410.48192771084337,
          481.92771084337346,
          394.93975903614455,
          411.98795180722885,
          518.9156626506024,
          537.9518072289156,
          526.0952795557229,
          378.91566265060237,
          550.5027532003012,
          32.46987951807229,
          357.4096385542168,
          63.43373493975903,
          18.493975903614455,
          521.9277108433735,
          354.93975903614455,
          195.42168674698794,
          278.7877682605421,
          255.61564617846383,
          295.78639754329816,
          283.9759036144578,
          408.433734939759,
          337.16390954442767,
          294.39759036144574,
          129.93975903614458,
          589.4578313253012,
          325.96385542168673,
          413.1389719032379,
          359.81821818524094,
          275.6279708678464,
          186.50637707078312,
          128.9156626506024,
          89.4578313253012,
          282.21467902861446,
          494.39759036144574,
          416.92771084337346,
          222.95180722891564,
          331.92771084337346,
          156.4457831325301,
          350.9036144578313,
          384.4578313253012,
          237.07112139966114,
          407.4698795180723,
          265.96385542168673,
          304.4578313253012,
          305.96385542168673,
          304.93299369352405,
          455.96385542168673,
          431.17031602974396,
          211.77731433546685,
          422.4698795180723,
          431.92771084337346,
          220.1302622599774,
          448.433734939759,
          234.26726927240207,
          249.96626153049698,
          247.89156626506022,
          513.9759036144578,
          252.06213525978913,
          230.85093302899094,
          448.433734939759,
          234.26726927240207,
          229.8546039627259,
          251.09807393637047,
          288.5998093938253,
          290.4216867469879,
          288.433734939759,
          287.64733739646084,
          1.9879518072289155,
          211.6774667027485,
          86.92771084337349,
          58.5664790509695,
          58.4992080136954,
          362.95180722891564,
          365.48192771084337,
          375.4216867469879,
          381.4457831325301,
          610.7510706890059,
          385.2791733339608,
          399.93975903614455,
          351.2028485033885,
          331.90064947289153,
          286.4457831325301,
          250.42168674698792,
          270.21175522402103,
          246.39470479574547,
          235.96385542168673,
          201.9277108433735,
          261.0400684770331,
          548.433734939759,
          551.8905897025602,
          334.16753929781623,
          254.6624682323042
         ],
         "xaxis": "x",
         "y": [
          194.99999999999997,
          176.4457831325301,
          162.40963855421685,
          196.4457831325301,
          214.535691594503,
          232.95180722891564,
          32.95180722891566,
          256.92771084337346,
          262.4096385542168,
          261.4457831325301,
          323.433734939759,
          215.48192771084337,
          256.4457831325301,
          243.49397590361443,
          224.45783132530119,
          203.9156626506024,
          200.9036144578313,
          147.40963855421685,
          70.42168674698794,
          75.48192771084337,
          222.6386748164533,
          202.40963855421685,
          43.433734939759034,
          211.4457831325301,
          68.38223744587725,
          131.4457831325301,
          61.44578313253012,
          45.48192771084337,
          308.91566265060237,
          220.48192771084337,
          328.91566265060237,
          259.5497223268072,
          318.91566265060237,
          319.03161474021084,
          317.4096385542168,
          291.4457831325301,
          331.92771084337346,
          290.4216867469879,
          250.42168674698792,
          80.42168674698794,
          44.4578313253012,
          188.433734939759,
          97.40963855421685,
          139.81442371046685,
          52.46987951807228,
          243.9156626506024,
          127.46987951807228,
          49.93975903614457,
          297.4096385542168,
          185.25277379047438,
          165.77402873211594,
          60.481927710843365,
          232.40963855421685,
          318.433734939759,
          113.9156626506024,
          180.96385542168673,
          263.433734939759,
          182.40963855421685,
          244.45783132530119,
          177.46987951807228,
          170.94201513083584,
          243.97590361445782,
          263.91566265060237,
          311.4457831325301,
          263.91566265060237,
          215.42168674698794,
          55.963855421686745,
          94.93975903614457,
          80.42168674698794,
          232.3602221385542,
          205.4357321865587,
          89.4578313253012,
          205.42167203972136,
          243.42366046216114,
          209.93975903614455,
          140.40784720914908,
          99.4578313253012,
          127.95180722891565,
          235.96385542168673,
          150.48192771084337,
          132.46987951807228,
          220.75711537556475,
          196.4457831325301,
          205.48192771084337,
          220.48192771084337,
          200.96385542168673,
          218.97590361445782,
          251.4457831325301,
          197.95180722891564,
          211.4457831325301,
          256.92771084337346,
          41.44578313253012,
          259.39759036144574,
          209.45783132530119,
          223.433734939759,
          320.1220997270331,
          152.95180722891564,
          275.96385542168673,
          302.48841067394574,
          166.4457831325301,
          305.4216867469879,
          203.00301793109938,
          335.5681122929217,
          114.93975903614457,
          328.91566265060237,
          314.93975903614455,
          319.4578313253012,
          286.4457831325301,
          313.91566265060237,
          259.93975903614455,
          64.10595261907002,
          63.97623452795557,
          123.29010377447288,
          61.98795180722891,
          246.4457831325301,
          259.93975903614455,
          133.97590361445782,
          189.93975903614455,
          191.4457831325301,
          170.94201513083584,
          243.97590361445782,
          65.90361445783132,
          218.49397590361443,
          82.95180722891565,
          289.93975903614455,
          184.45783132530119,
          153.97590361445782,
          138.27489646084337,
          113.43373493975902,
          118.33624046969126,
          71.98795180722891,
          145,
          70.90361445783132,
          82.95180722891565,
          250.96385542168673,
          199.45783132530119,
          96.98795180722891,
          113.18333637283509,
          269.9450242375753,
          112.61754782803087,
          233.97590361445782,
          116.44578313253011,
          213.59847103256774,
          176.4457831325301,
          282.4096385542168,
          58.97590361445783,
          233.97590361445782,
          264.4436535203313,
          182.6742516942771,
          145.50722420933732,
          145.8000311794051,
          68.49397590361446,
          183.43373493975903,
          110.21512318806475,
          199.93975903614455,
          120.42168674698794,
          111.92771084337349,
          94.4578313253012,
          173.49397590361446,
          74.4578313253012,
          78.97590361445782,
          79.62153055581702,
          161.9277108433735,
          136.4457831325301,
          208.97590361445782,
          280.48192771084337,
          284.91163874246985,
          198.433734939759,
          184.63081819465359,
          98.33968197006776,
          209.93975903614455,
          248.433734939759,
          142.44133271366715,
          283.91566265060237,
          178.3035168015813,
          208.52200795368975,
          248.97590361445782,
          90.48192771084337,
          249.6779402767319,
          257.85344503012044,
          283.91566265060237,
          178.3035168015813,
          106.36894501835467,
          84.03093820594879,
          103.85806164109562,
          151.4457831325301,
          188.433734939759,
          236.42101609563252,
          228.97590361445782,
          308.9444594785391,
          263.9759036144578,
          159.6968685288027,
          128.55556993599396,
          131.9277108433735,
          132.89156626506022,
          176.9879518072289,
          213.433734939759,
          147.43718526449547,
          261.37548239834337,
          104.99999999999999,
          78.85934852692017,
          88.3727586125753,
          87.95180722891565,
          87.95180722891565,
          98.83476533085467,
          93.73627812029366,
          98.9156626506024,
          97.95180722891565,
          100.2773569865399,
          39.93975903614457,
          54.00184355586408,
          90.63876600150601,
          95.14006465314382
         ],
         "yaxis": "y"
        }
       ],
       "layout": {
        "coloraxis": {
         "colorbar": {
          "title": {
           "text": "Error %"
          }
         },
         "colorscale": [
          [
           0,
           "rgb(0,104,55)"
          ],
          [
           0.1,
           "rgb(26,152,80)"
          ],
          [
           0.2,
           "rgb(102,189,99)"
          ],
          [
           0.3,
           "rgb(166,217,106)"
          ],
          [
           0.4,
           "rgb(217,239,139)"
          ],
          [
           0.5,
           "rgb(255,255,191)"
          ],
          [
           0.6,
           "rgb(254,224,139)"
          ],
          [
           0.7,
           "rgb(253,174,97)"
          ],
          [
           0.8,
           "rgb(244,109,67)"
          ],
          [
           0.9,
           "rgb(215,48,39)"
          ],
          [
           1,
           "rgb(165,0,38)"
          ]
         ]
        },
        "legend": {
         "tracegroupgap": 0
        },
        "template": {
         "data": {
          "bar": [
           {
            "error_x": {
             "color": "#2a3f5f"
            },
            "error_y": {
             "color": "#2a3f5f"
            },
            "marker": {
             "line": {
              "color": "#E5ECF6",
              "width": 0.5
             },
             "pattern": {
              "fillmode": "overlay",
              "size": 10,
              "solidity": 0.2
             }
            },
            "type": "bar"
           }
          ],
          "barpolar": [
           {
            "marker": {
             "line": {
              "color": "#E5ECF6",
              "width": 0.5
             },
             "pattern": {
              "fillmode": "overlay",
              "size": 10,
              "solidity": 0.2
             }
            },
            "type": "barpolar"
           }
          ],
          "carpet": [
           {
            "aaxis": {
             "endlinecolor": "#2a3f5f",
             "gridcolor": "white",
             "linecolor": "white",
             "minorgridcolor": "white",
             "startlinecolor": "#2a3f5f"
            },
            "baxis": {
             "endlinecolor": "#2a3f5f",
             "gridcolor": "white",
             "linecolor": "white",
             "minorgridcolor": "white",
             "startlinecolor": "#2a3f5f"
            },
            "type": "carpet"
           }
          ],
          "choropleth": [
           {
            "colorbar": {
             "outlinewidth": 0,
             "ticks": ""
            },
            "type": "choropleth"
           }
          ],
          "contour": [
           {
            "colorbar": {
             "outlinewidth": 0,
             "ticks": ""
            },
            "colorscale": [
             [
              0,
              "#0d0887"
             ],
             [
              0.1111111111111111,
              "#46039f"
             ],
             [
              0.2222222222222222,
              "#7201a8"
             ],
             [
              0.3333333333333333,
              "#9c179e"
             ],
             [
              0.4444444444444444,
              "#bd3786"
             ],
             [
              0.5555555555555556,
              "#d8576b"
             ],
             [
              0.6666666666666666,
              "#ed7953"
             ],
             [
              0.7777777777777778,
              "#fb9f3a"
             ],
             [
              0.8888888888888888,
              "#fdca26"
             ],
             [
              1,
              "#f0f921"
             ]
            ],
            "type": "contour"
           }
          ],
          "contourcarpet": [
           {
            "colorbar": {
             "outlinewidth": 0,
             "ticks": ""
            },
            "type": "contourcarpet"
           }
          ],
          "heatmap": [
           {
            "colorbar": {
             "outlinewidth": 0,
             "ticks": ""
            },
            "colorscale": [
             [
              0,
              "#0d0887"
             ],
             [
              0.1111111111111111,
              "#46039f"
             ],
             [
              0.2222222222222222,
              "#7201a8"
             ],
             [
              0.3333333333333333,
              "#9c179e"
             ],
             [
              0.4444444444444444,
              "#bd3786"
             ],
             [
              0.5555555555555556,
              "#d8576b"
             ],
             [
              0.6666666666666666,
              "#ed7953"
             ],
             [
              0.7777777777777778,
              "#fb9f3a"
             ],
             [
              0.8888888888888888,
              "#fdca26"
             ],
             [
              1,
              "#f0f921"
             ]
            ],
            "type": "heatmap"
           }
          ],
          "heatmapgl": [
           {
            "colorbar": {
             "outlinewidth": 0,
             "ticks": ""
            },
            "colorscale": [
             [
              0,
              "#0d0887"
             ],
             [
              0.1111111111111111,
              "#46039f"
             ],
             [
              0.2222222222222222,
              "#7201a8"
             ],
             [
              0.3333333333333333,
              "#9c179e"
             ],
             [
              0.4444444444444444,
              "#bd3786"
             ],
             [
              0.5555555555555556,
              "#d8576b"
             ],
             [
              0.6666666666666666,
              "#ed7953"
             ],
             [
              0.7777777777777778,
              "#fb9f3a"
             ],
             [
              0.8888888888888888,
              "#fdca26"
             ],
             [
              1,
              "#f0f921"
             ]
            ],
            "type": "heatmapgl"
           }
          ],
          "histogram": [
           {
            "marker": {
             "pattern": {
              "fillmode": "overlay",
              "size": 10,
              "solidity": 0.2
             }
            },
            "type": "histogram"
           }
          ],
          "histogram2d": [
           {
            "colorbar": {
             "outlinewidth": 0,
             "ticks": ""
            },
            "colorscale": [
             [
              0,
              "#0d0887"
             ],
             [
              0.1111111111111111,
              "#46039f"
             ],
             [
              0.2222222222222222,
              "#7201a8"
             ],
             [
              0.3333333333333333,
              "#9c179e"
             ],
             [
              0.4444444444444444,
              "#bd3786"
             ],
             [
              0.5555555555555556,
              "#d8576b"
             ],
             [
              0.6666666666666666,
              "#ed7953"
             ],
             [
              0.7777777777777778,
              "#fb9f3a"
             ],
             [
              0.8888888888888888,
              "#fdca26"
             ],
             [
              1,
              "#f0f921"
             ]
            ],
            "type": "histogram2d"
           }
          ],
          "histogram2dcontour": [
           {
            "colorbar": {
             "outlinewidth": 0,
             "ticks": ""
            },
            "colorscale": [
             [
              0,
              "#0d0887"
             ],
             [
              0.1111111111111111,
              "#46039f"
             ],
             [
              0.2222222222222222,
              "#7201a8"
             ],
             [
              0.3333333333333333,
              "#9c179e"
             ],
             [
              0.4444444444444444,
              "#bd3786"
             ],
             [
              0.5555555555555556,
              "#d8576b"
             ],
             [
              0.6666666666666666,
              "#ed7953"
             ],
             [
              0.7777777777777778,
              "#fb9f3a"
             ],
             [
              0.8888888888888888,
              "#fdca26"
             ],
             [
              1,
              "#f0f921"
             ]
            ],
            "type": "histogram2dcontour"
           }
          ],
          "mesh3d": [
           {
            "colorbar": {
             "outlinewidth": 0,
             "ticks": ""
            },
            "type": "mesh3d"
           }
          ],
          "parcoords": [
           {
            "line": {
             "colorbar": {
              "outlinewidth": 0,
              "ticks": ""
             }
            },
            "type": "parcoords"
           }
          ],
          "pie": [
           {
            "automargin": true,
            "type": "pie"
           }
          ],
          "scatter": [
           {
            "fillpattern": {
             "fillmode": "overlay",
             "size": 10,
             "solidity": 0.2
            },
            "type": "scatter"
           }
          ],
          "scatter3d": [
           {
            "line": {
             "colorbar": {
              "outlinewidth": 0,
              "ticks": ""
             }
            },
            "marker": {
             "colorbar": {
              "outlinewidth": 0,
              "ticks": ""
             }
            },
            "type": "scatter3d"
           }
          ],
          "scattercarpet": [
           {
            "marker": {
             "colorbar": {
              "outlinewidth": 0,
              "ticks": ""
             }
            },
            "type": "scattercarpet"
           }
          ],
          "scattergeo": [
           {
            "marker": {
             "colorbar": {
              "outlinewidth": 0,
              "ticks": ""
             }
            },
            "type": "scattergeo"
           }
          ],
          "scattergl": [
           {
            "marker": {
             "colorbar": {
              "outlinewidth": 0,
              "ticks": ""
             }
            },
            "type": "scattergl"
           }
          ],
          "scattermapbox": [
           {
            "marker": {
             "colorbar": {
              "outlinewidth": 0,
              "ticks": ""
             }
            },
            "type": "scattermapbox"
           }
          ],
          "scatterpolar": [
           {
            "marker": {
             "colorbar": {
              "outlinewidth": 0,
              "ticks": ""
             }
            },
            "type": "scatterpolar"
           }
          ],
          "scatterpolargl": [
           {
            "marker": {
             "colorbar": {
              "outlinewidth": 0,
              "ticks": ""
             }
            },
            "type": "scatterpolargl"
           }
          ],
          "scatterternary": [
           {
            "marker": {
             "colorbar": {
              "outlinewidth": 0,
              "ticks": ""
             }
            },
            "type": "scatterternary"
           }
          ],
          "surface": [
           {
            "colorbar": {
             "outlinewidth": 0,
             "ticks": ""
            },
            "colorscale": [
             [
              0,
              "#0d0887"
             ],
             [
              0.1111111111111111,
              "#46039f"
             ],
             [
              0.2222222222222222,
              "#7201a8"
             ],
             [
              0.3333333333333333,
              "#9c179e"
             ],
             [
              0.4444444444444444,
              "#bd3786"
             ],
             [
              0.5555555555555556,
              "#d8576b"
             ],
             [
              0.6666666666666666,
              "#ed7953"
             ],
             [
              0.7777777777777778,
              "#fb9f3a"
             ],
             [
              0.8888888888888888,
              "#fdca26"
             ],
             [
              1,
              "#f0f921"
             ]
            ],
            "type": "surface"
           }
          ],
          "table": [
           {
            "cells": {
             "fill": {
              "color": "#EBF0F8"
             },
             "line": {
              "color": "white"
             }
            },
            "header": {
             "fill": {
              "color": "#C8D4E3"
             },
             "line": {
              "color": "white"
             }
            },
            "type": "table"
           }
          ]
         },
         "layout": {
          "annotationdefaults": {
           "arrowcolor": "#2a3f5f",
           "arrowhead": 0,
           "arrowwidth": 1
          },
          "autotypenumbers": "strict",
          "coloraxis": {
           "colorbar": {
            "outlinewidth": 0,
            "ticks": ""
           }
          },
          "colorscale": {
           "diverging": [
            [
             0,
             "#8e0152"
            ],
            [
             0.1,
             "#c51b7d"
            ],
            [
             0.2,
             "#de77ae"
            ],
            [
             0.3,
             "#f1b6da"
            ],
            [
             0.4,
             "#fde0ef"
            ],
            [
             0.5,
             "#f7f7f7"
            ],
            [
             0.6,
             "#e6f5d0"
            ],
            [
             0.7,
             "#b8e186"
            ],
            [
             0.8,
             "#7fbc41"
            ],
            [
             0.9,
             "#4d9221"
            ],
            [
             1,
             "#276419"
            ]
           ],
           "sequential": [
            [
             0,
             "#0d0887"
            ],
            [
             0.1111111111111111,
             "#46039f"
            ],
            [
             0.2222222222222222,
             "#7201a8"
            ],
            [
             0.3333333333333333,
             "#9c179e"
            ],
            [
             0.4444444444444444,
             "#bd3786"
            ],
            [
             0.5555555555555556,
             "#d8576b"
            ],
            [
             0.6666666666666666,
             "#ed7953"
            ],
            [
             0.7777777777777778,
             "#fb9f3a"
            ],
            [
             0.8888888888888888,
             "#fdca26"
            ],
            [
             1,
             "#f0f921"
            ]
           ],
           "sequentialminus": [
            [
             0,
             "#0d0887"
            ],
            [
             0.1111111111111111,
             "#46039f"
            ],
            [
             0.2222222222222222,
             "#7201a8"
            ],
            [
             0.3333333333333333,
             "#9c179e"
            ],
            [
             0.4444444444444444,
             "#bd3786"
            ],
            [
             0.5555555555555556,
             "#d8576b"
            ],
            [
             0.6666666666666666,
             "#ed7953"
            ],
            [
             0.7777777777777778,
             "#fb9f3a"
            ],
            [
             0.8888888888888888,
             "#fdca26"
            ],
            [
             1,
             "#f0f921"
            ]
           ]
          },
          "colorway": [
           "#636efa",
           "#EF553B",
           "#00cc96",
           "#ab63fa",
           "#FFA15A",
           "#19d3f3",
           "#FF6692",
           "#B6E880",
           "#FF97FF",
           "#FECB52"
          ],
          "font": {
           "color": "#2a3f5f"
          },
          "geo": {
           "bgcolor": "white",
           "lakecolor": "white",
           "landcolor": "#E5ECF6",
           "showlakes": true,
           "showland": true,
           "subunitcolor": "white"
          },
          "hoverlabel": {
           "align": "left"
          },
          "hovermode": "closest",
          "mapbox": {
           "style": "light"
          },
          "paper_bgcolor": "white",
          "plot_bgcolor": "#E5ECF6",
          "polar": {
           "angularaxis": {
            "gridcolor": "white",
            "linecolor": "white",
            "ticks": ""
           },
           "bgcolor": "#E5ECF6",
           "radialaxis": {
            "gridcolor": "white",
            "linecolor": "white",
            "ticks": ""
           }
          },
          "scene": {
           "xaxis": {
            "backgroundcolor": "#E5ECF6",
            "gridcolor": "white",
            "gridwidth": 2,
            "linecolor": "white",
            "showbackground": true,
            "ticks": "",
            "zerolinecolor": "white"
           },
           "yaxis": {
            "backgroundcolor": "#E5ECF6",
            "gridcolor": "white",
            "gridwidth": 2,
            "linecolor": "white",
            "showbackground": true,
            "ticks": "",
            "zerolinecolor": "white"
           },
           "zaxis": {
            "backgroundcolor": "#E5ECF6",
            "gridcolor": "white",
            "gridwidth": 2,
            "linecolor": "white",
            "showbackground": true,
            "ticks": "",
            "zerolinecolor": "white"
           }
          },
          "shapedefaults": {
           "line": {
            "color": "#2a3f5f"
           }
          },
          "ternary": {
           "aaxis": {
            "gridcolor": "white",
            "linecolor": "white",
            "ticks": ""
           },
           "baxis": {
            "gridcolor": "white",
            "linecolor": "white",
            "ticks": ""
           },
           "bgcolor": "#E5ECF6",
           "caxis": {
            "gridcolor": "white",
            "linecolor": "white",
            "ticks": ""
           }
          },
          "title": {
           "x": 0.05
          },
          "xaxis": {
           "automargin": true,
           "gridcolor": "white",
           "linecolor": "white",
           "ticks": "",
           "title": {
            "standoff": 15
           },
           "zerolinecolor": "white",
           "zerolinewidth": 2
          },
          "yaxis": {
           "automargin": true,
           "gridcolor": "white",
           "linecolor": "white",
           "ticks": "",
           "title": {
            "standoff": 15
           },
           "zerolinecolor": "white",
           "zerolinewidth": 2
          }
         }
        },
        "title": {
         "text": "Interactive Error Percentage Hull FOV for Pond Areas"
        },
        "xaxis": {
         "anchor": "y",
         "domain": [
          0,
          1
         ],
         "title": {
          "text": "center_x"
         }
        },
        "yaxis": {
         "anchor": "x",
         "domain": [
          0,
          1
         ],
         "title": {
          "text": "center_y"
         }
        }
       }
      }
     },
     "metadata": {},
     "output_type": "display_data"
    }
   ],
   "source": [
    "import ast\n",
    "import folium\n",
    "from folium.plugins import MarkerCluster    \n",
    "\n",
    "import pandas as pd\n",
    "\n",
    "# Clean the data: remove rows with missing 'center' or 'Error_percentage_Hull_fov'\n",
    "import plotly.express as px\n",
    "\n",
    "df=pd.read_csv('molt.csv')\n",
    "\n",
    "#df without sample index from samples_index\n",
    "for sample in samples_index:\n",
    "    \n",
    "    df.loc[(df['image_path'] == sample['sample']) & (df['index'] == sample['index']), 'not'] = 'not'\n",
    "df.to_csv('molt_CLEAN.csv')\n",
    "\n",
    "df_clean=df[df['not']!='not']\n",
    "\n",
    "df_clean=df_clean.dropna()\n",
    "\n",
    "df_clean['center_x']=df_clean['center'].apply(lambda x: ast.literal_eval(x)[0])\n",
    "df_clean['center_y']=df_clean['center'].apply(lambda x: ast.literal_eval(x)[1])\n",
    "\n",
    "# \n",
    "\n",
    "# df_positive = df_clean[(df['Error_percentage_Hull_fov'] > 15) & (df['Error_percentage_Hull_fov'] < 20)]\n",
    "\n",
    "# Create a new DataFrame for visualization with necessary columns\n",
    "df_visual = df_clean[['center_x', 'center_y', 'Error_percentage_Hull_fov', 'image_path', 'index','pond']]\n",
    "\n",
    "for pond in ['right','square']:\n",
    "\n",
    "    df_pond = df_visual[df_visual['pond'] == pond]\n",
    "\n",
    "\n",
    "# Create an interactive scatter plot using plotly\n",
    "    fig = px.scatter(df_pond, \n",
    "                    x='center_x', \n",
    "                    y='center_y', \n",
    "                    color='Error_percentage_Hull_fov',\n",
    "                    hover_data=['image_path', 'index'],\n",
    "                    color_continuous_scale='RdYlGn_r', \n",
    "                    title='Interactive Error Percentage Hull FOV for Pond Areas')\n",
    "\n",
    "    # Customize the color bar\n",
    "    fig.update_layout(coloraxis_colorbar=dict(title=\"Error %\"))\n",
    "\n",
    "    # Show the plot\n",
    "    fig.show()\n"
   ]
  },
  {
   "cell_type": "code",
   "execution_count": 40,
   "metadata": {},
   "outputs": [
    {
     "data": {
      "text/plain": [
       "array(['square'], dtype=object)"
      ]
     },
     "execution_count": 40,
     "metadata": {},
     "output_type": "execute_result"
    }
   ],
   "source": [
    "df['pond'].unique()"
   ]
  },
  {
   "cell_type": "code",
   "execution_count": null,
   "metadata": {},
   "outputs": [],
   "source": [
    "df"
   ]
  },
  {
   "cell_type": "code",
   "execution_count": 90,
   "metadata": {},
   "outputs": [
    {
     "name": "stdout",
     "output_type": "stream",
     "text": [
      "\n",
      "Could not connect session, trying again in 10 seconds\n",
      "\n"
     ]
    }
   ],
   "source": [
    "#session save view\n",
    "session = fo.launch_app(dataset,port=5154)"
   ]
  },
  {
   "cell_type": "code",
   "execution_count": 33,
   "metadata": {},
   "outputs": [
    {
     "name": "stdout",
     "output_type": "stream",
     "text": [
      "Dataset:     molt\n",
      "View name:   molt\n",
      "Media type:  image\n",
      "Num samples: 122\n",
      "Sample fields:\n",
      "    id:                           fiftyone.core.fields.ObjectIdField\n",
      "    filepath:                     fiftyone.core.fields.StringField\n",
      "    tags:                         fiftyone.core.fields.ListField(fiftyone.core.fields.StringField)\n",
      "    metadata:                     fiftyone.core.fields.EmbeddedDocumentField(fiftyone.core.metadata.ImageMetadata)\n",
      "    segmentations:                fiftyone.core.fields.EmbeddedDocumentField(fiftyone.core.labels.Polylines)\n",
      "    hulls:                        fiftyone.core.fields.EmbeddedDocumentField(fiftyone.core.labels.Polylines)\n",
      "    skeletons_no_smooth:          fiftyone.core.fields.EmbeddedDocumentField(fiftyone.core.labels.Polylines)\n",
      "    skeletons_straight_no_smooth: fiftyone.core.fields.EmbeddedDocumentField(fiftyone.core.labels.Polylines)\n",
      "    boxes:                        fiftyone.core.fields.EmbeddedDocumentField(fiftyone.core.labels.Polylines)\n",
      "    masks:                        fiftyone.core.fields.EmbeddedDocumentField(fiftyone.core.labels.Polylines)\n",
      "View stages:\n",
      "    ---\n"
     ]
    }
   ],
   "source": [
    "#print workspace\n",
    "\n",
    "print (session.view)"
   ]
  },
  {
   "cell_type": "code",
   "execution_count": 34,
   "metadata": {},
   "outputs": [
    {
     "name": "stdout",
     "output_type": "stream",
     "text": [
      " 100% |█████████████████| 122/122 [510.6ms elapsed, 0s remaining, 238.9 samples/s]      \n"
     ]
    }
   ],
   "source": [
    "\n",
    "\n",
    "# Export the view to CSV\n",
    "export_path = \"saved_view_data.csv\"\n",
    "session.view.export(\n",
    "    export_path,\n",
    "    dataset_type=fo.types.CSVDataset,\n",
    "    fields=[\"id\", \"filepath\", \"tags\", \"metadata\"]  # Adjust fields as needed\n",
    ")\n"
   ]
  },
  {
   "cell_type": "code",
   "execution_count": 6,
   "metadata": {},
   "outputs": [
    {
     "name": "stderr",
     "output_type": "stream",
     "text": [
      "100%|██████████| 20/20 [00:06<00:00,  2.92it/s]\n"
     ]
    }
   ],
   "source": [
    "from tqdm import tqdm\n",
    "\n",
    "image_paths=r'C:\\Users\\gbo10\\OneDrive\\measurement_paper_images\\molt\\image processed\\unditorted'\n",
    "\n",
    "output_path=r'C:\\Users\\gbo10\\OneDrive\\measurement_paper_images\\molt\\image processed\\unditorted\\undistorted_resized'\n",
    "\n",
    "image_paths = [os.path.join(image_paths, image) for image in os.listdir(image_paths) if image.endswith(('.jpg', '.jpeg', '.png', '.bmp', '.tiff'))]\n",
    "\n",
    "for image_path in tqdm(image_paths):\n",
    "    #resize the image\n",
    "    img = cv2.imread(image_path)\n",
    "    img = cv2.resize(img, (640, 640))\n",
    "    cv2.imwrite(os.path.join(output_path, os.path.basename(image_path)), img)"
   ]
  },
  {
   "cell_type": "code",
   "execution_count": 7,
   "metadata": {},
   "outputs": [
    {
     "name": "stderr",
     "output_type": "stream",
     "text": [
      "100%|██████████| 191/191 [03:31<00:00,  1.11s/it]\n"
     ]
    }
   ],
   "source": [
    "import cv2\n",
    "import numpy as np\n",
    "from tqdm import tqdm\n",
    "import os\n",
    "\n",
    "\n",
    "molt_image_path = r\"C:\\Users\\gbo10\\OneDrive\\measurement_paper_images\\molt\\all molt\\undistorted\"\n",
    "\n",
    "\n",
    "output_path = r\"C:\\Users\\gbo10\\OneDrive\\measurement_paper_images\\molt\\all molt\\undistorted\\first_process\"\n",
    "\n",
    "\n",
    "os.makedirs(output_path, exist_ok=True)\n",
    "\n",
    "# do the code below on entire folder\n",
    "image_paths = [os.path.join(molt_image_path, image) for image in os.listdir(molt_image_path) if image.endswith(('.jpg', '.jpeg', '.png', '.bmp', '.tiff'))]\n",
    "\n",
    "for image_path in tqdm(image_paths):\n",
    "\n",
    "# Load the image\n",
    "    image = cv2.imread(image_path)\n",
    "\n",
    "    # Step 1: Convert to grayscale\n",
    "    # gray = cv2.cvtColor(image, cv2.COLOR_BGR2GRAY)\n",
    "\n",
    "\n",
    "    white_mask=cv2.inRange(image, (60, 60, 60), (255, 255, 255))\n",
    "\n",
    "    # cv2.imwrite(\"white_mask.png\", white_mask)    \n",
    "\n",
    "\n",
    "\n",
    "    very_white_mask = cv2.inRange(image, (150, 150, 150), (255, 255, 255))\n",
    "\n",
    "\n",
    "    image[very_white_mask == 255] = [0, 0, 0]  # Change white to gray\n",
    "\n",
    "\n",
    "    # cv2.imwrite(\"very_white_mask.png\", image)\n",
    "\n",
    "\n",
    "    gray=cv2.cvtColor(image, cv2.COLOR_BGR2GRAY)\n",
    "\n",
    "\n",
    "    # _, binary = cv2.threshold(gray, 150, 255, cv2.THRESH_BINARY)\n",
    "\n",
    "    # Save the result\n",
    "    # cv2.imwrite(\"binary_image.png\", binary)\n",
    "\n",
    "\n",
    "    # cv2.imwrite(\"gray.png\", gray)\n",
    "\n",
    "\n",
    "    # white_mask_from_binary = cv2.bitwise_not(binary)  # Invert the binary mask to get white areas\n",
    "\n",
    "    # cv2.imwrite(\"white_mask_from_binary.png\", white_mask_from_binary)\n",
    "\n",
    "\n",
    "    gray_color = np.array([52, 66, 79])  # RGB value for gray\n",
    "    # image[white_mask == 255] = gray_color\n",
    "\n",
    "    # Step 2: Threshold the image to isolate black areas (under prawns)\n",
    "    # Adjust threshold values depending on how black the segments are\n",
    "    _, black_mask = cv2.threshold(gray, 50, 255, cv2.THRESH_BINARY_INV)  # Isolating black areas (threshold of 50)\n",
    "\n",
    "\n",
    "    # cv2.imwrite(\"black_mask.png\", black_mask)\n",
    "\n",
    "    # Step 3: Create a bluish image to apply to black areas\n",
    "    bluish_image = image.copy()\n",
    "    bluish_image[:] = [212, 156, 31]  # BGR for blue\n",
    "\n",
    "\n",
    "    #white mask on the black segments\n",
    "    # white_on_black = cv2.bitwise_and(white_mask_from_binary, black_mask)  # Isolate white areas on the black segments\n",
    "\n",
    "    # cv2.imwrite(\"white_on_black.png\", white_on_black)\n",
    "\n",
    "\n",
    "    # # Step 6: Convert white to gray in those areas\n",
    "    # # gray_color = np.array([128, 128, 128])  # RGB value for gray\n",
    "    # image[white_on_black==0] = gray_color  # Change white on black to gray\n",
    "\n",
    "\n",
    "    image[white_mask == 255] = gray_color\n",
    "\n",
    "    # Step 4: Apply bluish color to the black regions\n",
    "    image[black_mask == 255] = bluish_image[black_mask == 255]\n",
    "\n",
    "\n",
    "\n",
    "\n",
    "\n",
    "    # Step 5: Isolate white areas (likely prawns) within the black segments\n",
    "    # Detect white pixels in the original image (on the black segments only)\n",
    "    # white_on_black = cv2.bitwise_and(white_mask, black_mask)  # Isolate white areas on the black segments\n",
    "\n",
    "    # Step 6: Convert white to gray in those areas\n",
    "    # gray_color = np.array([128, 128, 128])  # RGB value for gray\n",
    "    # image[white_on_black == 255] = gray_color  # Change white on black to gray\n",
    "\n",
    "    # Step 7: Display the final image\n",
    "    # cv2.imshow(\"Result\", image)\n",
    "    # cv2.waitKey(0)\n",
    "    # cv2.destroyAllWindows()\n",
    "\n",
    "    # Save the result\n",
    "\n",
    "\n",
    "    #resize the image\n",
    "    resized_image = cv2.resize(image, (640, 360))\n",
    "\n",
    "\n",
    "\n",
    "    cv2.imwrite(os.path.join(output_path, os.path.basename(image_path)), resized_image)\n"
   ]
  },
  {
   "cell_type": "code",
   "execution_count": 8,
   "metadata": {},
   "outputs": [
    {
     "data": {
      "text/plain": [
       "True"
      ]
     },
     "execution_count": 8,
     "metadata": {},
     "output_type": "execute_result"
    }
   ],
   "source": [
    "\n",
    "\n",
    "\n",
    "image = cv2.imread(r\"C:\\Users\\gbo10\\OneDrive\\measurement_paper_images\\molt\\image processed\\vlcsnap-2024-09-21-02h23m31s263.png\")\n",
    "\n",
    "    # Step 1: Convert to grayscale\n",
    "# gray = cv2.cvtColor(image, cv2.COLOR_BGR2GRAY)\n",
    "\n",
    "\n",
    "white_mask=cv2.inRange(image, (60, 60, 60), (255, 255, 255))\n",
    "\n",
    "# cv2.imwrite(\"white_mask.png\", white_mask)    \n",
    "\n",
    "\n",
    "\n",
    "very_white_mask = cv2.inRange(image, (150, 150, 150), (255, 255, 255))\n",
    "\n",
    "\n",
    "image[very_white_mask == 255] = [0, 0, 0]  # Change white to gray\n",
    "\n",
    "\n",
    "# cv2.imwrite(\"very_white_mask.png\", image)\n",
    "\n",
    "\n",
    "gray=cv2.cvtColor(image, cv2.COLOR_BGR2GRAY)\n",
    "\n",
    "\n",
    "# _, binary = cv2.threshold(gray, 150, 255, cv2.THRESH_BINARY)\n",
    "\n",
    "# Save the result\n",
    "# cv2.imwrite(\"binary_image.png\", binary)\n",
    "\n",
    "\n",
    "# cv2.imwrite(\"gray.png\", gray)\n",
    "\n",
    "\n",
    "# white_mask_from_binary = cv2.bitwise_not(binary)  # Invert the binary mask to get white areas\n",
    "\n",
    "# cv2.imwrite(\"white_mask_from_binary.png\", white_mask_from_binary)\n",
    "\n",
    "\n",
    "gray_color = np.array([132, 129, 122])  # RGB value for gray\n",
    "# image[white_mask == 255] = gray_color\n",
    "\n",
    "# Step 2: Threshold the image to isolate black areas (under prawns)\n",
    "# Adjust threshold values depending on how black the segments are\n",
    "_, black_mask = cv2.threshold(gray, 50, 255, cv2.THRESH_BINARY_INV)  # Isolating black areas (threshold of 50)\n",
    "\n",
    "\n",
    "# cv2.imwrite(\"black_mask.png\", black_mask)\n",
    "\n",
    "# Step 3: Create a bluish image to apply to black areas\n",
    "bluish_image = image.copy()\n",
    "bluish_image[:] = [212, 156, 31]  # BGR for blue\n",
    "\n",
    "\n",
    "#white mask on the black segments\n",
    "# white_on_black = cv2.bitwise_and(white_mask_from_binary, black_mask)  # Isolate white areas on the black segments\n",
    "\n",
    "# cv2.imwrite(\"white_on_black.png\", white_on_black)\n",
    "\n",
    "\n",
    "# # Step 6: Convert white to gray in those areas\n",
    "# # gray_color = np.array([128, 128, 128])  # RGB value for gray\n",
    "# image[white_on_black==0] = gray_color  # Change white on black to gray\n",
    "\n",
    "\n",
    "image[white_mask == 255] = gray_color\n",
    "\n",
    "# Step 4: Apply bluish color to the black regions\n",
    "image[black_mask == 255] = bluish_image[black_mask == 255]\n",
    "\n",
    "\n",
    "\n",
    "\n",
    "\n",
    "# Step 5: Isolate white areas (likely prawns) within the black segments\n",
    "# Detect white pixels in the original image (on the black segments only)\n",
    "# white_on_black = cv2.bitwise_and(white_mask, black_mask)  # Isolate white areas on the black segments\n",
    "\n",
    "# Step 6: Convert white to gray in those areas\n",
    "# gray_color = np.array([128, 128, 128])  # RGB value for gray\n",
    "# image[white_on_black == 255] = gray_color  # Change white on black to gray\n",
    "\n",
    "# Step 7: Display the final image\n",
    "# cv2.imshow(\"Result\", image)\n",
    "# cv2.waitKey(0)\n",
    "# cv2.destroyAllWindows()\n",
    "\n",
    "# Save the result\n",
    "\n",
    "#resize the image\n",
    "cv2.imwrite(r\"vlcsnap-2024-09-21-02h23m31s263.png\", image)"
   ]
  },
  {
   "cell_type": "code",
   "execution_count": null,
   "metadata": {},
   "outputs": [],
   "source": []
  },
  {
   "cell_type": "code",
   "execution_count": 9,
   "metadata": {},
   "outputs": [
    {
     "name": "stdout",
     "output_type": "stream",
     "text": [
      "Found 1824 contours\n",
      "Contour 0: Area: 579477.00\n",
      "Contour 1: Area: 544803.50\n"
     ]
    },
    {
     "data": {
      "text/plain": [
       "True"
      ]
     },
     "execution_count": 9,
     "metadata": {},
     "output_type": "execute_result"
    }
   ],
   "source": [
    "import cv2\n",
    "import numpy as np\n",
    "\n",
    "# Load a binary image\n",
    "\n",
    "image = cv2.imread(r'C:\\Users\\gbo10\\Videos\\research\\counting_research_algorithms\\fifty_one\\measurements\\vlcsnap-2024-09-21-02h23m31s263.png')\n",
    "\n",
    "# # Convert to grayscale\n",
    "# gray = cv2.cvtColor(image, cv2.COLOR_BGR2GRAY)\n",
    "# #save the gray image\n",
    "# cv2.imwrite(\"gray_image.png\", gray)\n",
    "gray_color = np.array([122, 129, 132])  # RGB value for gray\n",
    "\n",
    "lower_bound = gray_color -100 # Allow a small tolerance\n",
    "upper_bound = gray_color + 100\n",
    "\n",
    "# Create a mask where the pixels are within the range of the gray color\n",
    "mask = cv2.inRange(image, lower_bound, upper_bound)\n",
    "\n",
    "# Invert the mask to get the pixels that are NOT the gray color\n",
    "\n",
    "cv2.imwrite(\"mask.png\", mask)\n",
    "\n",
    "# # Make the non-gray pixels black by applying the inverted mask\n",
    "# result = image.copy()\n",
    "# # result[mask_inv == 255] = [0, 0, 0] \n",
    "\n",
    "\n",
    "#thershold the image using gray_color = np.array([132, 129, 122])  # RGB value for gray\n",
    "\n",
    "\n",
    "# cv2.imwrite(\"result.png\", result)\n",
    "\n",
    "contours, _ = cv2.findContours(mask, cv2.RETR_EXTERNAL, cv2.CHAIN_APPROX_SIMPLE)\n",
    "\n",
    "print(f\"Found {len(contours)} contours\")\n",
    "\n",
    "conutres1=[]\n",
    "\n",
    "i=0\n",
    "# Iterate through contours\n",
    "for contour in contours:\n",
    "    # Calculate area and perimeter (arc length)\n",
    "    area = cv2.contourArea(contour)\n",
    "    # perimeter = cv2.arcLength(contour, True)\n",
    "   \n",
    "    if area > 90000:\n",
    "        \n",
    "\n",
    "        conutres1.append(contour)\n",
    "\n",
    "        print(f\"Contour {i}: Area: {area:.2f}\")\n",
    "        cv2.drawContours(image, [contour], -1, (0, 255, 0), 2)\n",
    "        i+=1\n",
    "\n",
    "\n",
    "#     #Draw the contour\n",
    "\n",
    "#what is not in the contures1 paint in azure   \n",
    "    \n",
    "   \n",
    "# # Save the output image\n",
    "cv2.imwrite('ellipses_output.png', image)\n",
    "\n",
    "\n",
    "\n",
    "\n",
    "# Find contours\n",
    "# contours, hierarchy = cv2.findContours(binary_image, cv2.RETR_TREE, cv2.CHAIN_APPROX_SIMPLE)\n",
    "\n",
    "# # Draw contours on the original image\n",
    "# output_image = cv2.cvtColor(binary_image, cv2.COLOR_GRAY2BGR)  # Convert grayscale to BGR for color drawing\n",
    "# cv2.drawContours(output_image, contours, -1, (0, 255, 0), 2)  # Draw all contours in green\n",
    "\n",
    "# Save the output image\n",
    "# cv2.imwrite('contours_output.png', output_image)\n"
   ]
  },
  {
   "cell_type": "code",
   "execution_count": 10,
   "metadata": {},
   "outputs": [
    {
     "name": "stdout",
     "output_type": "stream",
     "text": [
      "589.5\n",
      "32496.5\n",
      "12145.0\n",
      "3556.5\n",
      "1674.5\n",
      "638.0\n"
     ]
    },
    {
     "data": {
      "text/plain": [
       "True"
      ]
     },
     "execution_count": 10,
     "metadata": {},
     "output_type": "execute_result"
    }
   ],
   "source": [
    "\n",
    "import cv2\n",
    "import numpy as np\n",
    "\n",
    "# Load the image\n",
    "image = cv2.imread(r\"C:\\Users\\gbo10\\OneDrive\\measurement_paper_images\\molt\\all molt\\undistorted\\first_process\\right\\azure\\undistorted_GX010191_37_392.jpg\")\n",
    "\n",
    "# Define the color to paint the background (Azure color in BGR format)\n",
    "azure_color = [212, 156, 31]  # Azure in BGR (Blue, Green, Red)\n",
    "\n",
    "# Define gray color and tolerance\n",
    "gray_color = np.array([52, 66, 79])  # RGB value for gray\n",
    "lower_bound = gray_color - 50\n",
    "upper_bound = gray_color + 50\n",
    "\n",
    "\n",
    "# Create a mask for the gray color\n",
    "mask = cv2.inRange(image, lower_bound, upper_bound)\n",
    "\n",
    "# Find contours in the mask\n",
    "contours, _ = cv2.findContours(mask, cv2.RETR_EXTERNAL, cv2.CHAIN_APPROX_SIMPLE)\n",
    "\n",
    "# Filter contours based on area and create a new mask for the contours\n",
    "contours_mask = np.zeros_like(mask)  # A black mask of the same size as the original image\n",
    "\n",
    "# Iterate through contours and draw only the ones with sufficient area\n",
    "for contour in contours:\n",
    "    area = cv2.contourArea(contour)\n",
    "    if area > 500: \n",
    "        print (area)\n",
    "        # Draw the contours on the black mask\n",
    "        cv2.drawContours(contours_mask, [contour], -1, 255, thickness=cv2.FILLED)  # Fill the contours in white\n",
    "\n",
    "# Invert the contours mask (make contours black and the rest white)\n",
    "contours_mask_inv = cv2.bitwise_not(contours_mask)\n",
    "\n",
    "# Create a background image filled with the azure color\n",
    "azure_background = np.full_like(image, azure_color, dtype=np.uint8)\n",
    "\n",
    "# Mask out the contour areas and paint the rest azure\n",
    "result = cv2.bitwise_and(image, image, mask=contours_mask)  # Keep the original image inside the contours\n",
    "azure_areas = cv2.bitwise_and(azure_background, azure_background, mask=contours_mask_inv)  # Paint everything else azure\n",
    "\n",
    "# Combine the original image (inside contours) with the azure background (outside contours)\n",
    "final_result = cv2.add(result, azure_areas)\n",
    "\n",
    "# Save and display the final result\n",
    "cv2.imwrite(\"result_azure_background.png\", final_result)\n",
    "\n"
   ]
  },
  {
   "cell_type": "code",
   "execution_count": 11,
   "metadata": {},
   "outputs": [
    {
     "name": "stderr",
     "output_type": "stream",
     "text": [
      "  0%|          | 0/93 [00:00<?, ?it/s]"
     ]
    },
    {
     "name": "stderr",
     "output_type": "stream",
     "text": [
      "100%|██████████| 93/93 [00:02<00:00, 41.29it/s]\n"
     ]
    }
   ],
   "source": [
    "    \n",
    "import cv2\n",
    "import numpy as np\n",
    "import os\n",
    "from tqdm import tqdm\n",
    "\n",
    "molt_image_path = r\"C:\\Users\\gbo10\\OneDrive\\measurement_paper_images\\molt\\all molt\\undistorted\\first_process\\square\"\n",
    "\n",
    "\n",
    "output_path = r\"C:\\Users\\gbo10\\OneDrive\\measurement_paper_images\\molt\\all molt\\undistorted\\first_process\\square\\azure\"\n",
    "\n",
    "os.makedirs(output_path, exist_ok=True) \n",
    "\n",
    "image_paths = [os.path.join(molt_image_path, image) for image in os.listdir(molt_image_path) if image.endswith(('.jpg', '.jpeg', '.png', '.bmp', '.tiff'))]\n",
    "\n",
    "\n",
    "for image_path in tqdm(image_paths):\n",
    "\n",
    "    # Load the image\n",
    "    image = cv2.imread(image_path)\n",
    "    azure_color = [212, 156, 31]  # Azure in BGR (Blue, Green, Red)\n",
    "\n",
    "    # Define gray color and tolerance\n",
    "    gray_color = np.array([52, 66, 79])  # RGB value for gray\n",
    "    lower_bound = gray_color - 50\n",
    "    upper_bound = gray_color + 50\n",
    "\n",
    "    # Create a mask for the gray color\n",
    "    mask = cv2.inRange(image, lower_bound, upper_bound)\n",
    "\n",
    "    cv2.imwrite(\"mask.png\", mask)\n",
    "\n",
    "    # Find contours in the mask\n",
    "    contours, _ = cv2.findContours(mask, cv2.RETR_EXTERNAL, cv2.CHAIN_APPROX_SIMPLE)\n",
    "\n",
    "    # Filter contours based on area and create a new mask for the contours\n",
    "    contours_mask = np.zeros_like(mask)  # A black mask of the same size as the original image\n",
    "\n",
    "    # Iterate through contours and draw only the ones with sufficient area\n",
    "    for contour in contours:\n",
    "        area = cv2.contourArea(contour)\n",
    "        if area >800:  \n",
    "            \n",
    "     \n",
    "            # Filter by area\n",
    "            # Draw the contours on the black mask\n",
    "            cv2.drawContours(contours_mask, [contour], -1, 255, thickness=cv2.FILLED)  # Fill the contours in white\n",
    "\n",
    "    # Invert the contours mask (make contours black and the rest white)\n",
    "    contours_mask_inv = cv2.bitwise_not(contours_mask)\n",
    "\n",
    "    # Create a background image filled with the azure color\n",
    "    azure_background = np.full_like(image, azure_color, dtype=np.uint8)\n",
    "\n",
    "    # Mask out the contour areas and paint the rest azure\n",
    "    result = cv2.bitwise_and(image, image, mask=contours_mask)  # Keep the original image inside the contours\n",
    "    azure_areas = cv2.bitwise_and(azure_background, azure_background, mask=contours_mask_inv)  # Paint everything else azure\n",
    "\n",
    "    # Combine the original image (inside contours) with the azure background (outside contours)\n",
    "    final_result = cv2.add(result, azure_areas)\n",
    "\n",
    "    #Save the result\n",
    "    cv2.imwrite(os.path.join(output_path, os.path.basename(image_path)), final_result)\n",
    "\n"
   ]
  },
  {
   "cell_type": "code",
   "execution_count": null,
   "metadata": {},
   "outputs": [],
   "source": []
  },
  {
   "cell_type": "code",
   "execution_count": null,
   "metadata": {},
   "outputs": [],
   "source": []
  }
 ],
 "metadata": {
  "kernelspec": {
   "display_name": ".venv",
   "language": "python",
   "name": "python3"
  },
  "language_info": {
   "codemirror_mode": {
    "name": "ipython",
    "version": 3
   },
   "file_extension": ".py",
   "mimetype": "text/x-python",
   "name": "python",
   "nbconvert_exporter": "python",
   "pygments_lexer": "ipython3",
   "version": "3.9.7"
  }
 },
 "nbformat": 4,
 "nbformat_minor": 2
}
