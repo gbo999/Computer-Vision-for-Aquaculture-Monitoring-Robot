{
 "cells": [
  {
   "cell_type": "markdown",
   "metadata": {},
   "source": [
    "# good"
   ]
  },
  {
   "cell_type": "code",
   "execution_count": 1,
   "metadata": {},
   "outputs": [],
   "source": [
    "from utils import calculate_euclidean_distance, calculate_real_width\n",
    "from skeletonization import skeletonize_mask,create_filled_binary_mask, skeletonize_mask, find_longest_path\n",
    "import cv2\n",
    "import fiftyone as fo\n",
    "import numpy as np\n",
    "\n",
    "from scipy.spatial.distance import pdist, squareform\n",
    "\n",
    "from scipy.spatial.distance import pdist, squareform\n",
    "\n",
    "# def find_furthest_points(contour):\n",
    "#     \"\"\"\n",
    "#     Find the pair of points in the convex hull that are furthest apart.\n",
    "\n",
    "#     Parameters:\n",
    "#     - contour: np.ndarray of shape (n_points, 1, 2)\n",
    "\n",
    "#     Returns:\n",
    "#     - hull: np.ndarray of shape (m, 2) representing the convex hull points\n",
    "#     - pair: Tuple containing the two furthest points as np.ndarrays\n",
    "#     - max_distance: The maximum Euclidean distance between the pair\n",
    "#     \"\"\"\n",
    "#     # Compute the convex hull\n",
    "#     hull = cv2.convexHull(contour, returnPoints=True).reshape(-1, 2)\n",
    "    \n",
    "#     # Ensure there are at least two points in the hull\n",
    "#     if len(hull) < 2:\n",
    "#         raise ValueError(\"Convex hull must contain at least two points.\")\n",
    "    \n",
    "#     # Compute pairwise distances\n",
    "#     distances = pdist(hull, metric='euclidean')\n",
    "    \n",
    "#     # Convert to a square distance matrix\n",
    "#     distance_matrix = squareform(distances)\n",
    "    \n",
    "#     # Find the indices of the maximum distance\n",
    "#     i, j = np.unravel_index(np.argmax(distance_matrix), distance_matrix.shape)\n",
    "    \n",
    "#     # Retrieve the pair of points\n",
    "#     pair = (hull[i], hull[j])\n",
    "    \n",
    "#     # Retrieve the maximum distance\n",
    "#     max_distance = distance_matrix[i, j]\n",
    "    \n",
    "#     return hull, pair, max_distance\n",
    "\n",
    "\n",
    "\n",
    "\n",
    "def process_segmentations(segmentation_path):\n",
    "    \"\"\"\n",
    "    Process the segmentations from the TXT file, calculate the minimum enclosing circle for each prawn.\n",
    "    \"\"\"\n",
    "    segmentations = []\n",
    "    # skeletons=[]\n",
    "    # hulls=[]\n",
    "    # # skeletons_straight=[]\n",
    "    # # skeletons_straight_2=[]\n",
    "    # seg_closeds=[]\n",
    "    # skeletons_2=[]\n",
    "    # box_diagonal=[] \n",
    "    boxes=[]\n",
    "    # masks=[]\n",
    "    # convexs=[]\n",
    "    # cont_pair=[]\n",
    "\n",
    "\n",
    "\n",
    "\n",
    "\n",
    "\n",
    "    \n",
    "    # Open the segmentation file and process each line\n",
    "    with open(segmentation_path, 'r') as file:\n",
    "        for line in file:\n",
    "            coords = [float(x) for x in line.strip().split()]\n",
    "            coords_array = np.array(coords).reshape(-1, 2)\n",
    "            \n",
    "\n",
    "            \n",
    "            binary_mask_no = create_filled_binary_mask(coords_array, 360, 640, gaussian_blur=False) \n",
    "            \n",
    "            if np.sum(binary_mask_no) == 0:   \n",
    "                continue\n",
    "\n",
    "\n",
    "\n",
    "\n",
    "\n",
    "            # binary_dilated = cv2.dilate(binary_mask_no, np.ones((15, 15), np.uint8), iterations=1)     \n",
    "\n",
    "\n",
    "            # #contour dilated\n",
    "            # contures_dil, _ = cv2.findContours(binary_dilated, cv2.RETR_EXTERNAL, cv2.CHAIN_APPROX_SIMPLE)    \n",
    "\n",
    "\n",
    "            # prawn_conture_dil = max(contures_dil, key=cv2.contourArea)\n",
    "\n",
    "            # coords_contour_dil = np.column_stack(prawn_conture_dil).flatten()\n",
    "\n",
    "            # normalized_coords_bin=[(coords_contour_dil[i]/640, coords_contour_dil[i+1]/360) for i in range(0, len(coords_contour_dil), 2)]  # Extract points (x, y)\n",
    "\n",
    "\n",
    "            # masks.append(fo.Polyline(\n",
    "            #     points=[normalized_coords_bin],\n",
    "            #     closed=True,\n",
    "            #     filled=False,\n",
    "            # ))\n",
    "\n",
    "\n",
    "            \n",
    "            # thinned_2=skeletonize_mask(binary_mask_no)\n",
    "\n",
    "            # # skeleton = skeletonize_mask(binary_mask)\n",
    "            # skeleton_2 = thinned_2\n",
    "            # skeleton_coords_2 = np.column_stack(np.nonzero(skeleton_2))\n",
    "            # normalized_coords_2,max_length_2 = find_longest_path(skeleton_coords_2,(360,640),(2988,5312))\n",
    "\n",
    "            # normalized_coords_2 = [(x, y) for y, x in normalized_coords_2]  # Convert to (y, x) format\n",
    "\n",
    "            # #only the first and last points of the skeleton\n",
    "            # normalized_coords_straight_2 = [normalized_coords_2[0], normalized_coords_2[-1]]  \n",
    "\n",
    "\n",
    "\n",
    "\n",
    "\n",
    "             \n",
    "            #convex hull diameter\n",
    "            contures, _ = cv2.findContours(binary_mask_no, cv2.RETR_EXTERNAL, cv2.CHAIN_APPROX_SIMPLE)\n",
    "\n",
    "            \n",
    "            prawn_conture = max(contures, key=cv2.contourArea) \n",
    "            \n",
    "        \n",
    "\n",
    "            # Compute the minimum area rectangle enclosing the shrimp\n",
    "            rect = cv2.minAreaRect(prawn_conture)\n",
    "            box_points = cv2.boxPoints(rect)\n",
    "            # box_points = np.int0(box_points)\n",
    "\n",
    "            original_size = (640, 360)\n",
    "            new_size = (5312, 2988)\n",
    "\n",
    "            # Scaling factors\n",
    "            scale_x = new_size[0] / original_size[0]  # 5312 / 640\n",
    "            scale_y = new_size[1] / original_size[1]  # 2988 / 640\n",
    "\n",
    "            # print(f\"Scale X: {scale_x}, Scale Y: {scale_y}\")  # Should both be 8.3\n",
    "\n",
    "\n",
    "            # pair, max_length_cont=find_furthest_points(prawn_conture)\n",
    "            # if len(pair) < 2:\n",
    "            #     raise ValueError(f\"Expected pair to contain at least two points, but got {len(pair)}\")\n",
    "                \n",
    "            # normalized_pair= [(pair[0][0]/640, pair[0][1]/360), (pair[1][0]/640, pair[1][1]/360)]\n",
    "\n",
    "            # cont_pair.append(fo.Polyline(\n",
    "            #     points=[normalized_pair],\n",
    "            #     closed=False,\n",
    "            #     filled=False,\n",
    "            #     max_length=max_length_cont\n",
    "            # ))\n",
    "\n",
    "\n",
    "\n",
    "            # scaled_pair= [(pair[0][0] * scale_x, pair[0][1] * scale_y), (pair[1][0] * scale_x, pair[1][1] * scale_y)]\n",
    "               \n",
    "            # max_length_cont=np.linalg.norm(np.array(scaled_pair[0])-np.array(scaled_pair[1]))\n",
    "\n",
    "\n",
    "\n",
    "\n",
    "            box_points_scaled = np.array([(point[0] * scale_x, point[1] * scale_y) for point in box_points])\n",
    "\n",
    "            rotated_rect_width = rect[1][0] * scale_x\n",
    "            rotated_rect_height = rect[1][1] * scale_y\n",
    "\n",
    "# The max length of the rectangle is the longer side\n",
    "            max_length_box = max(rotated_rect_width, rotated_rect_height)\n",
    "\n",
    "            # print(f\"Rotated Rect Width: {rotated_rect_width}, Height: {rotated_rect_height}, Max Length Box: {max_length_box}\")\n",
    "\n",
    "        \n",
    "            # Convert theta from degrees to radians for FiftyOne\n",
    "            theta_radians = np.deg2rad(rect[2])\n",
    "            # normalized_bounding_box = [(box_points[i][0]/640, box_points[i][1]/640) for i in range(0, len(box_points))] \n",
    "            \n",
    "            # image_center_x = 640 / 2\n",
    "\n",
    "            # xc_adjusted = rect[0][0] - image_center_x\n",
    "\n",
    "            # Extract points (x, y) \n",
    "            box=fo.Polyline.from_rotated_box(\n",
    "                xc=rect[0][0] ,\n",
    "                yc=rect[0][1],\n",
    "                w=rect[1][0],\n",
    "                h=rect[1][1],\n",
    "                theta =theta_radians,\n",
    "                frame_size=(640, 360)\n",
    "\n",
    "            )\n",
    "\n",
    "\n",
    "            boxes.append(box)\n",
    "\n",
    "\n",
    "            # hull_points = cv2.convexHull(prawn_conture, returnPoints=True)\n",
    "\n",
    "            \n",
    "#             points,furthest_pair, max_length_cont = find_furthest_points(prawn_conture)\n",
    "\n",
    "# # Scaling ffurthest_pair, max_length_cont = find_furthest_points(prawn_contour)\n",
    "\n",
    "#             # If you need to scale the points and distance\n",
    "#             original_size = (640, 360)\n",
    "#             new_size = (5312, 2988)\n",
    "\n",
    "#             scale_x = new_size[0] / original_size[0]\n",
    "#             scale_y = new_size[1] / original_size[1]\n",
    "\n",
    "#             scaled_pair = [(p[0] * scale_x, p[1] * scale_y) for p in furthest_pair]\n",
    "\n",
    "\n",
    "#             #eucledian distance between scaled pair\n",
    "#             max_distance = np.linalg.norm(np.array(scaled_pair[0])-np.array(scaled_pair[1]))\n",
    "\n",
    "\n",
    "#             # The result is max_distance (in pixels) in the 5312x2988 image\n",
    "\n",
    "\n",
    "#             normalzied_points_hull = [(point[0]/640, point[1]/360) for point in points]  # Extract points (x, y)\n",
    "\n",
    "#             hull=fo.Polyline(\n",
    "#                 points=[[(point[0]/640, point[1]/360) for point in furthest_pair]],\n",
    "#                 closed=False,\n",
    "#                 filled=False,\n",
    "#                 max_length=max_distance\n",
    "#             )\n",
    "\n",
    "           \n",
    "#             hull_convex=fo.Polyline(\n",
    "#                 points=[normalzied_points_hull],\n",
    "#                 closed=False,\n",
    "#                 filled=False,\n",
    "#                 max_length=max_distance\n",
    "#             )\n",
    "               \n",
    "               \n",
    "#             convexs.append(hull_convex)\n",
    "\n",
    "\n",
    "\n",
    "\n",
    "\n",
    "                    \n",
    "\n",
    "        # skeleton_straight=fo.Polyline(\n",
    "        #     points=[normalized_coords_straight],\n",
    "        #     closed=False,\n",
    "        #     filled=False,\n",
    "        #     max_length=max_length\n",
    "        # )\n",
    "        # skeletons_straight.append(skeleton_straight)\n",
    "\n",
    "            # skeleton_straight_2=fo.Polyline(\n",
    "            #     points=[normalized_coords_straight_2],\n",
    "            #     closed=False,\n",
    "            #     filled=False,\n",
    "            #     max_length=max_length_2,\n",
    "                \n",
    "            # )\n",
    "            # skeletons_straight_2.append(skeleton_straight_2)\n",
    "\n",
    "\n",
    "\n",
    "\n",
    "            # hulls.append(hull)\n",
    "\n",
    "            # skeleton=fo.Polyline(\n",
    "            #     points=[normalized_coords],\n",
    "            #     closed=False,\n",
    "            #     filled=False,\n",
    "            #     max_length=max_length\n",
    "            # )\n",
    "\n",
    "            # skeletons.append(skeleton)\n",
    "            \n",
    "            # skeleton_2=fo.Polyline( \n",
    "            #     points=[normalized_coords_2],\n",
    "            #     closed=False,\n",
    "            #     filled=False,\n",
    "            #     max_length=max_length_2)\n",
    "            # skeletons_2.append(skeleton_2)\n",
    "              # Convert the line to a list of floats\n",
    "            normalzied_points = [(coords[i]/640, coords[i + 1]/360) for i in range(0, len(coords), 2)]  # Extract points (x, y)\n",
    "            # points = [Point(x*5312, y*2988) for x, y in normalzied_points] \n",
    "            \n",
    "\n",
    "            scaled_contour = []\n",
    "            for point in prawn_conture:\n",
    "                scaled_x = int(point[0][0] * scale_x)\n",
    "                scaled_y = int(point[0][1] * scale_y)\n",
    "                scaled_contour.append([[scaled_x, scaled_y]])\n",
    "\n",
    "            scaled_contour = np.array(scaled_contour, dtype=np.int32)\n",
    "\n",
    "             # Convert to Point objects    \n",
    "            # Calculate the minimum enclosing circle (center and radius)\n",
    "            center, radius = cv2.minEnclosingCircle(scaled_contour)\n",
    "\n",
    "\n",
    "\n",
    "            diameter = radius * 2\n",
    "\n",
    "\n",
    "            #center in 640x360\n",
    "            center_640 = (center[0] / scale_x, center[1] / scale_y)\n",
    "        \n",
    "\n",
    "            segmentation = fo.Polyline(\n",
    "                points=[normalzied_points],\n",
    "                closed=True,\n",
    "                filled=False,\n",
    "                diameter=diameter,\n",
    "                center=center_640,\n",
    "                max_length_box=max_length_box,\n",
    "                # max_length_cont=max_length_cont\n",
    "            )\n",
    "\n",
    "            #smooth segmentation  wirh closing\n",
    "            # seg_closed=fo.Polyline(\n",
    "            #     points=[normalized_coords_bin],\n",
    "            #     closed=True,\n",
    "            #     filled=False,\n",
    "            #     max_length=max_length\n",
    "            # )\n",
    "\n",
    "            # seg_closeds.append(seg_closed)                \n",
    "\n",
    "\n",
    "            segmentations.append(segmentation)\n",
    "\n",
    "            \n",
    "            # # Calculate diagonal of the rotated rectangle\n",
    "            # rect_diagonal = np.linalg.norm(np.array(box_points_scaled[0]) - np.array(box_points_scaled[2]))\n",
    "\n",
    "            # # Compare with the convex hull furthest distance\n",
    "            # print(f\"Rect Diagonal: {rect_diagonal}\")\n",
    "            # print(f\"Convex Hull Max Distance: {max_distance}\")\n",
    "            # if rect_diagonal < max_distance:\n",
    "            #     print(\"Unexpected: Rect diagonal is smaller than hull's furthest distance.\")\n",
    "\n",
    "\n",
    "\n",
    "\n",
    "                     # Store the segmentation information (center, radius, and diameter)\n",
    "\n",
    "    return segmentations,boxes"
   ]
  },
  {
   "cell_type": "code",
   "execution_count": 2,
   "metadata": {},
   "outputs": [],
   "source": [
    "import fiftyone.core.labels as fol\n",
    "from tqdm import tqdm\n",
    "import fiftyone as fo\n",
    "import os\n",
    "\n",
    "def process_images(image_paths, prediction_folder_path, dataset,tag):\n",
    "    print(\"Processing images...\")\n",
    "    \n",
    "    \"\"\"\n",
    "    Processes images by matching segmentation with bounding boxes and calculating prawn sizes.\n",
    "    \"\"\"\n",
    "    for image_path in tqdm(image_paths):\n",
    "        # filename = os.path.splitext(os.path.basename(image_path))[0]\n",
    "        \n",
    "\n",
    "           \n",
    "        # prediction_txt_path = os.path.join(prediction_folder_path, f\"{os.path.basename(image_path).split('.')[0]}_segmentations.txt\")\n",
    "\n",
    "        core_name = os.path.splitext(os.path.basename(image_path))[0]\n",
    "\n",
    "        # Construct the path to the corresponding segmentation file\n",
    "\n",
    "\n",
    "\n",
    "        #check if txt exist\n",
    "\n",
    "        if not os.path.exists(os.path.join(prediction_folder_path, f\"{core_name}_segmentations.txt\")):\n",
    "            print(f\"No segmentation file found for {core_name}\")\n",
    "            continue\n",
    "\n",
    "\n",
    "\n",
    "        prediction_txt_path = os.path.join(prediction_folder_path, f\"{core_name}_segmentations.txt\")\n",
    "\n",
    "        # core_name=filename.split('.')[0]\n",
    "        # # Construct the path to the prediction (segmentation) file\n",
    "        # prediction_txt_path = os.path.join(prediction_folder_path, f\"{core_name}_segmentations.txt\")\n",
    "        # if not os.path.exists(prediction_txt_path):\n",
    "        #     print(f\"No segmentation file found for {filename}\")\n",
    "        #     continue\n",
    "\n",
    "\n",
    "        # Parse the segmentations to get the minimum enclosing circles\n",
    "        segmentations,boxes= process_segmentations(prediction_txt_path)\n",
    "\n",
    "        # Save the modified image (with circles drawn)\n",
    "\n",
    "        # Create a new sample for FiftyOne\n",
    "        sample = fo.Sample(filepath=image_path)\n",
    "\n",
    "        \n",
    "\n",
    "        # Iterate over each bounding box in the filtered data\n",
    "        sample[\"segmentations\"] = fol.Polylines(polylines=segmentations)\n",
    "\n",
    "        # sample[\"skeletons\"] = fol.Polylines(polylines=skeletons)\n",
    "\n",
    "\n",
    "        # sample[\"skeletons_straight\"] = fol.Polylines(polylines=skeletons_straight)\n",
    "\n",
    "        # sample['seg_closeds']=fol.Polylines(polylines=seg_closeds)\n",
    "        \n",
    "        # sample['skeletons_no_smooth']=fol.Polylines(polylines=skeletons_2)\n",
    "\n",
    "        # sample[\"skeletons_straight_no_smooth\"] = fol.Polylines(polylines=skeletons_straight_2)\n",
    "\n",
    "        sample['boxes']=fol.Polylines(polylines=boxes)\n",
    "\n",
    "        # Add the processed sample to the FiftyOne dataset\n",
    "        sample.tags.append(tag)\n",
    "        dataset.add_sample(sample)"
   ]
  },
  {
   "cell_type": "code",
   "execution_count": 13,
   "metadata": {},
   "outputs": [],
   "source": [
    "import math\n",
    "def process_detection_by_circle(segmentation, sample,i,dataframe):\n",
    "    \"\"\"\n",
    "    Process the prawn detection based on the enclosing circle's diameter.\n",
    "    Update the filtered dataframe with the real-world size of the prawn.\n",
    "    \"\"\"\n",
    "    poly=segmentation\n",
    "\n",
    "    if 'right' in str(sample.tags[0]):\n",
    "        height_mm =700-30\n",
    "        focal_length = 23.64    \n",
    "    else:\n",
    "        height_mm=410-30\n",
    "        focal_length=24.72\n",
    "\n",
    "    fov=75.2\n",
    "    predicted_box_length=poly['max_length_box']\n",
    "\n",
    "    \n",
    "    FOV_width = 2 * height_mm * math.tan(math.radians(fov / 2))\n",
    "    box_length_fov = FOV_width * predicted_box_length / 5312\n",
    "\n",
    "    if box_length_fov < 120 or box_length_fov > 220:\n",
    "\n",
    "        return poly\n",
    "\n",
    "    image_path = sample.filepath.split('\\\\')[-1]\n",
    "\n",
    "    if box_length_fov < 175:\n",
    "        best_true_length = 143\n",
    "        if box_length_fov < 143 and 'smaller than 143mm' not in sample.tags:\n",
    "            sample.tags.append('smaller than 143mm')\n",
    "        if box_length_fov < 143:      \n",
    "            dataframe.loc[(dataframe['index'] == i) & (dataframe['image_path'] == image_path), 'smaller'] = 'yes'\n",
    "        else:\n",
    "            dataframe.loc[(dataframe['index'] == i) & (dataframe['image_path'] == image_path), 'smaller'] = 'no'   \n",
    "\n",
    "    else:\n",
    "        best_true_length = 180\n",
    "        if box_length_fov < 180 and 'smaller than 180mm' not in sample.tags:\n",
    "            sample.tags.append('smaller than 180mm')\n",
    "\n",
    "        if box_length_fov < 180:\n",
    "            dataframe.loc[(dataframe['index'] == i) & (dataframe['image_path'] == image_path), 'smaller'] = 'yes'\n",
    "        \n",
    "        else:\n",
    "            dataframe.loc[(dataframe['index'] == i) & (dataframe['image_path'] == image_path), 'smaller'] = 'no'\n",
    "\n",
    "    # for true_length in [143, 180]:\n",
    "        \n",
    "    \n",
    "\n",
    "       \n",
    "    #     error_percentage_hull_fov = abs(hull_length_fov - true_length) / true_length * 100\n",
    "        \n",
    "\n",
    "\n",
    "    #     if error_percentage_hull_fov < min_error_percentage:\n",
    "    #         min_error_percentage = error_percentage_hull_fov\n",
    "    #         best_true_length = true_length\n",
    "\n",
    "    if best_true_length == 143:\n",
    "        height_mm = height_mm\n",
    "    else:\n",
    "        height_mm = height_mm - 15\n",
    "\n",
    "\n",
    "  \n",
    "    # print(f\"height_mm: {height_mm}, tag: {tag}\")\n",
    "\n",
    "    # focal_length = 24.22  # Camera focal length\n",
    "    pixel_size = 0.00716844  # Pixel size in mm\n",
    "\n",
    "    \n",
    "\n",
    "    fov=75.2\n",
    "    FOV_width=2*height_mm*math.tan(math.radians(fov/2))\n",
    "\n",
    "\n",
    "\n",
    "    # # Get the diameter of the circle in pixels\n",
    "    # predicted_diameter_pixels = poly['diameter']\n",
    "\n",
    "\n",
    "    # predicted_skeleton_length=poly['max_length_skeleton']  \n",
    "\n",
    "    # predicted_hull_length=poly['max_length_hull']\n",
    "\n",
    "     \n",
    "    predicted_box_length=poly['max_length_box']\n",
    "\n",
    "    # predicted_cnt_pair=poly['max_length_cont']  \n",
    "    \n",
    "    center=poly['center']\n",
    "\n",
    "\n",
    "    \n",
    "\n",
    "\n",
    "    #add true lenght to datafram\n",
    "    dataframe.loc[(dataframe['index'] == i) & (dataframe['image_path'] == image_path), 'true_length'] = best_true_length\n",
    "\n",
    "\n",
    "    dataframe.loc[(dataframe['index'] == i) & (dataframe['image_path'] == image_path), 'center'] = str(center)\n",
    "\n",
    "    # dataframe.loc[(dataframe['index'] == i) & (dataframe['image_path'] == image_path), 'Hull_Length_pixels'] = predicted_hull_length\n",
    "    # dataframe.loc[(dataframe['index'] == i) & (dataframe['image_path'] == image_path), 'Diameter_pixels'] = predicted_diameter_pixels\n",
    "    # dataframe.loc[(dataframe['index'] == i) & (dataframe['image_path'] == image_path), 'Skeleton_Length_pixels'] = predicted_skeleton_length\n",
    "    dataframe.loc[(dataframe['index'] == i) & (dataframe['image_path'] == image_path), 'Box_Length_pixels'] = predicted_box_length\n",
    "\n",
    "\n",
    "\n",
    "    # Calculate the real-world prawn size using the box\n",
    "    focal_box = calculate_real_width(focal_length, height_mm, predicted_box_length, pixel_size) \n",
    "\n",
    "\n",
    "    # focal_hull = calculate_real_width(focal_length, height_mm, predicted_hull_length, pixel_size)    \n",
    "    # # Calculate the real-world prawn size using the enclosing circle's diameter\n",
    "    # focal_MEC = calculate_real_width(focal_length, height_mm, predicted_diameter_pixels, pixel_size)\n",
    "\n",
    "    # focal_ske = calculate_real_width(focal_length, height_mm, predicted_skeleton_length, pixel_size)    \n",
    "\n",
    "\n",
    "    # Update the filtered dataframe with the real-world size of the prawn\n",
    "    dataframe.loc[(dataframe['index'] == i) & (dataframe['image_path'] == image_path), 'Focal_Box'] = focal_box\n",
    "    # dataframe.loc[(dataframe['index'] == i) & (dataframe['image_path'] == image_path), 'Focal_Hull'] = focal_hull\n",
    "    # dataframe.loc[(dataframe['index'] == i) & (dataframe['image_path'] == image_path), 'Focal_MEC'] = focal_MEC\n",
    "    # dataframe.loc[(dataframe['index'] == i) & (dataframe['image_path'] == image_path), 'Focal_Skeleton'] = focal_ske\n",
    "\n",
    "\n",
    "\n",
    "    # hull_length_fov=FOV_width*predicted_hull_length/5312\n",
    "    # diameter_length_fov=FOV_width*predicted_diameter_pixels/5312\n",
    "    # skeleton_length_fov=FOV_width*predicted_skeleton_length/5312\n",
    "\n",
    "    box_length_fov=FOV_width*predicted_box_length/5312\n",
    "\n",
    "    # cnt_pair=FOV_width*predicted_cnt_pair/5312\n",
    "\n",
    "    # dataframe.loc[(dataframe['index'] == i) & (dataframe['image_path'] == image_path), 'Hull_Length_fov'] = hull_length_fov\n",
    "    # dataframe.loc[(dataframe['index'] == i) & (dataframe['image_path'] == image_path), 'Diameter_fov'] = diameter_length_fov\n",
    "    # dataframe.loc[(dataframe['index'] == i) & (dataframe['image_path'] == image_path), 'Skeleton_Length_fov'] = skeleton_length_fov\n",
    "    dataframe.loc[(dataframe['index'] == i) & (dataframe['image_path'] == image_path), 'Box_Length_fov'] = box_length_fov\n",
    "\n",
    "    # error_percentage_cnt_pair = abs(cnt_pair - best_true_length) / best_true_length * 100\n",
    "\n",
    "\n",
    "    # error_percentage_hull_fov = abs(hull_length_fov - best_true_length) / best_true_length * 100\n",
    "\n",
    "    # error_percentage_skeleton_fov = abs(skeleton_length_fov - best_true_length) / best_true_length * 100  \n",
    "\n",
    "\n",
    "    error_percentage_box_fov = abs(box_length_fov - best_true_length) / best_true_length * 100\n",
    "\n",
    "\n",
    "    # error_percentage_MEC_fov = abs(diameter_length_fov - best_true_length) / best_true_length * 100\n",
    "\n",
    "\n",
    "    # MAE_hull_fov = abs(hull_length_fov - best_true_length)\n",
    "    # MAE_skeleton_fov = abs(skeleton_length_fov - best_true_length)\n",
    "    MAE_box_fov = abs(box_length_fov - best_true_length)\n",
    "    # MAE_MEC_fov = abs(diameter_length_fov - best_true_length)\n",
    "\n",
    "    # dataframe.loc[(dataframe['index'] == i) & (dataframe['image_path'] == image_path), 'MAE_Hull_fov'] = MAE_hull_fov\n",
    "    # dataframe.loc[(dataframe['index'] == i) & (dataframe['image_path'] == image_path), 'MAE_Skeleton_fov'] = MAE_skeleton_fov\n",
    "\n",
    "    # dataframe.loc[(dataframe['index'] == i) & (dataframe['image_path'] == image_path), 'MAE_MEC_fov'] = MAE_MEC_fov\n",
    "\n",
    "    dataframe.loc[(dataframe['index'] == i) & (dataframe['image_path'] == image_path), 'MAE_Box_fov'] = MAE_box_fov\n",
    "    dataframe.loc[(dataframe['index'] == i) & (dataframe['image_path'] ==image_path), 'Error_percentage_Box_fov'] = error_percentage_box_fov\n",
    "    # dataframe.loc[(dataframe['index'] == i) & (dataframe['image_path'] == image_path), 'Error_percentage_Hull_fov'] = error_percentage_hull_fov\n",
    "    # dataframe.loc[(dataframe['index'] == i) & (dataframe['image_path'] == image_path), 'Error_percentage_Skeleton_fov'] = error_percentage_skeleton_fov\n",
    "    error_percentage_box_focal = abs(focal_box - best_true_length) / best_true_length * 100\n",
    "    dataframe.loc[(dataframe['index'] == i) & (dataframe['image_path'] == image_path), 'Error_percentage_Box_focal'] = error_percentage_box_focal\n",
    "    \n",
    "    #focal mae box\n",
    "    focal_MAE_box = abs(focal_box - best_true_length)\n",
    "    dataframe.loc[(dataframe['index'] == i) & (dataframe['image_path'] == image_path), 'MAE_Box_focal'] = focal_MAE_box\n",
    "\n",
    "    #\n",
    "\n",
    "    # # dataframe.loc[(dataframe['index'] == i) & (dataframe['image_path'] == image_path), 'Error_percentage_MEC_fov'] = error_percentage_MEC_fov\n",
    "\n",
    "    # error_percentage_hull_focal = abs(focal_hull - best_true_length) / best_true_length * 100\n",
    "\n",
    "    # error_percentage_skeleton_focal = abs(focal_ske - best_true_length) / best_true_length * 100\n",
    "\n",
    "\n",
    "    # error_percentage_MEC_focal = abs(focal_MEC - best_true_length) / best_true_length * 100\n",
    "\n",
    "    # dataframe.loc[(dataframe['index'] == i) & (dataframe['image_path'] == image_path), 'Error_percentage_Hull_focal'] = error_percentage_hull_focal\n",
    "    # dataframe.loc[(dataframe['index'] == i) & (dataframe['image_path'] == image_path), 'Error_percentage_Skeleton_focal'] = error_percentage_skeleton_focal\n",
    "\n",
    "\n",
    "    # dataframe.loc[(dataframe['index'] == i) & (dataframe['image_path'] == image_path), 'Error_percentage_MEC_focal'] = error_percentage_MEC_focal  \n",
    "\n",
    "\n",
    "\n",
    "\n",
    "\n",
    "    closest_detection_label = f'index:{i} ,true length: {best_true_length:.2f}mm,  MPError_hull: {error_percentage_box_fov:.2f}%, pred length: {box_length_fov:.2f}mm, MAE: {MAE_box_fov:.2f}mm'\n",
    "    # Update the filtered dataframe with the real-world size of the prawn\n",
    "\n",
    "\n",
    "\n",
    "    if error_percentage_box_fov > 25 and f'>25% error' not in sample.tags:\n",
    "\n",
    "        sample.tags.append(f'>25% error')\n",
    "\n",
    "    elif error_percentage_box_fov > 15 and f'15-25% error' not in sample.tags:\n",
    "\n",
    "        sample.tags.append(f'15-25% error')\n",
    "\n",
    "    elif error_percentage_box_fov > 10  and f'10-15% error' not in sample.tags:\n",
    "\n",
    "        sample.tags.append(f'10-15% error')\n",
    "\n",
    "    elif error_percentage_box_fov < 10 and f'5-10% error' not in sample.tags:\n",
    "\n",
    "        sample.tags.append(f'5-10% error')\n",
    "    \n",
    "    elif error_percentage_box_fov < 5 and f'<5% error' not in sample.tags:\n",
    "\n",
    "        sample.tags.append(f'<5% error')\n",
    "\n",
    "\n",
    "    if error_percentage_box_fov<5 and error_percentage_box_fov > best_true_length and f'very good' not in sample.tags:\n",
    "        sample.tags.append('very good')\n",
    "\n",
    "\n",
    "\n",
    "\n",
    "\n",
    "    poly.label = closest_detection_label \n",
    "    return poly\n",
    "  "
   ]
  },
  {
   "cell_type": "code",
   "execution_count": 15,
   "metadata": {},
   "outputs": [
    {
     "name": "stdout",
     "output_type": "stream",
     "text": [
      "Processing images...\n"
     ]
    },
    {
     "name": "stderr",
     "output_type": "stream",
     "text": [
      "100%|██████████| 66/66 [00:02<00:00, 26.08it/s]\n"
     ]
    },
    {
     "name": "stdout",
     "output_type": "stream",
     "text": [
      "Processing images...\n"
     ]
    },
    {
     "name": "stderr",
     "output_type": "stream",
     "text": [
      "100%|██████████| 56/56 [00:01<00:00, 29.45it/s]\n"
     ]
    },
    {
     "name": "stdout",
     "output_type": "stream",
     "text": [
      "Skipping not prawm C:\\Users\\gbo10\\OneDrive\\measurement_paper_images\\molt\\image processed\\good\\640360\\right\\color_images\\undistorted_GX010191_100_1250.jpg index 0\n",
      "Skipping seg error C:\\Users\\gbo10\\OneDrive\\measurement_paper_images\\molt\\image processed\\good\\640360\\right\\color_images\\undistorted_GX010191_100_1250.jpg index 1\n",
      "Skipping seg error C:\\Users\\gbo10\\OneDrive\\measurement_paper_images\\molt\\image processed\\good\\640360\\right\\color_images\\undistorted_GX010191_100_1250.jpg index 2\n",
      "Skipping not prawm C:\\Users\\gbo10\\OneDrive\\measurement_paper_images\\molt\\image processed\\good\\640360\\right\\color_images\\undistorted_GX010191_103_1289.jpg index 1\n",
      "Skipping image error C:\\Users\\gbo10\\OneDrive\\measurement_paper_images\\molt\\image processed\\good\\640360\\right\\color_images\\undistorted_GX010191_104_1301.jpg index 0\n",
      "Skipping image error C:\\Users\\gbo10\\OneDrive\\measurement_paper_images\\molt\\image processed\\good\\640360\\right\\color_images\\undistorted_GX010191_104_1301.jpg index 1\n",
      "Skipping image error C:\\Users\\gbo10\\OneDrive\\measurement_paper_images\\molt\\image processed\\good\\640360\\right\\color_images\\undistorted_GX010191_104_1301.jpg index 2\n",
      "Skipping not prawm C:\\Users\\gbo10\\OneDrive\\measurement_paper_images\\molt\\image processed\\good\\640360\\right\\color_images\\undistorted_GX010191_107_1330.jpg index 1\n",
      "Skipping not prawm C:\\Users\\gbo10\\OneDrive\\measurement_paper_images\\molt\\image processed\\good\\640360\\right\\color_images\\undistorted_GX010191_108_1337.jpg index 1\n",
      "Skipping seg error C:\\Users\\gbo10\\OneDrive\\measurement_paper_images\\molt\\image processed\\good\\640360\\right\\color_images\\undistorted_GX010191_108_1337.jpg index 2\n",
      "Skipping seg error C:\\Users\\gbo10\\OneDrive\\measurement_paper_images\\molt\\image processed\\good\\640360\\right\\color_images\\undistorted_GX010191_110_1355.jpg index 0\n",
      "Skipping seg error C:\\Users\\gbo10\\OneDrive\\measurement_paper_images\\molt\\image processed\\good\\640360\\right\\color_images\\undistorted_GX010191_110_1355.jpg index 1\n",
      "Skipping not prawm C:\\Users\\gbo10\\OneDrive\\measurement_paper_images\\molt\\image processed\\good\\640360\\right\\color_images\\undistorted_GX010191_116_1399.jpg index 2\n",
      "Skipping seg error C:\\Users\\gbo10\\OneDrive\\measurement_paper_images\\molt\\image processed\\good\\640360\\right\\color_images\\undistorted_GX010191_118_1415.jpg index 0\n",
      "Skipping seg error C:\\Users\\gbo10\\OneDrive\\measurement_paper_images\\molt\\image processed\\good\\640360\\right\\color_images\\undistorted_GX010191_11_391.jpg index 0\n",
      "Skipping seg error C:\\Users\\gbo10\\OneDrive\\measurement_paper_images\\molt\\image processed\\good\\640360\\right\\color_images\\undistorted_GX010191_12_410.jpg index 0\n",
      "Skipping seg error C:\\Users\\gbo10\\OneDrive\\measurement_paper_images\\molt\\image processed\\good\\640360\\right\\color_images\\undistorted_GX010191_12_410.jpg index 3\n",
      "Skipping not prawm C:\\Users\\gbo10\\OneDrive\\measurement_paper_images\\molt\\image processed\\good\\640360\\right\\color_images\\undistorted_GX010191_13_439.jpg index 2\n",
      "Skipping seg error C:\\Users\\gbo10\\OneDrive\\measurement_paper_images\\molt\\image processed\\good\\640360\\right\\color_images\\undistorted_GX010191_14_460.jpg index 0\n",
      "Skipping not prawm C:\\Users\\gbo10\\OneDrive\\measurement_paper_images\\molt\\image processed\\good\\640360\\right\\color_images\\undistorted_GX010191_14_460.jpg index 1\n",
      "Skipping not prawm C:\\Users\\gbo10\\OneDrive\\measurement_paper_images\\molt\\image processed\\good\\640360\\right\\color_images\\undistorted_GX010191_14_460.jpg index 2\n",
      "Skipping seg error C:\\Users\\gbo10\\OneDrive\\measurement_paper_images\\molt\\image processed\\good\\640360\\right\\color_images\\undistorted_GX010191_15_479.jpg index 1\n",
      "Skipping seg error C:\\Users\\gbo10\\OneDrive\\measurement_paper_images\\molt\\image processed\\good\\640360\\right\\color_images\\undistorted_GX010191_16_495.jpg index 0\n",
      "Skipping seg error C:\\Users\\gbo10\\OneDrive\\measurement_paper_images\\molt\\image processed\\good\\640360\\right\\color_images\\undistorted_GX010191_17_509.jpg index 0\n",
      "Skipping not prawm C:\\Users\\gbo10\\OneDrive\\measurement_paper_images\\molt\\image processed\\good\\640360\\right\\color_images\\undistorted_GX010191_17_509.jpg index 2\n",
      "Skipping image error C:\\Users\\gbo10\\OneDrive\\measurement_paper_images\\molt\\image processed\\good\\640360\\right\\color_images\\undistorted_GX010191_26_199.jpg index 0\n",
      "Skipping image error C:\\Users\\gbo10\\OneDrive\\measurement_paper_images\\molt\\image processed\\good\\640360\\right\\color_images\\undistorted_GX010191_26_199.jpg index 1\n",
      "Skipping not prawm C:\\Users\\gbo10\\OneDrive\\measurement_paper_images\\molt\\image processed\\good\\640360\\right\\color_images\\undistorted_GX010191_26_199.jpg index 2\n",
      "Skipping image error C:\\Users\\gbo10\\OneDrive\\measurement_paper_images\\molt\\image processed\\good\\640360\\right\\color_images\\undistorted_GX010191_26_199.jpg index 3\n",
      "Skipping image error C:\\Users\\gbo10\\OneDrive\\measurement_paper_images\\molt\\image processed\\good\\640360\\right\\color_images\\undistorted_GX010191_26_199.jpg index 4\n",
      "Skipping not prawm C:\\Users\\gbo10\\OneDrive\\measurement_paper_images\\molt\\image processed\\good\\640360\\right\\color_images\\undistorted_GX010191_26_199.jpg index 5\n",
      "Skipping image error C:\\Users\\gbo10\\OneDrive\\measurement_paper_images\\molt\\image processed\\good\\640360\\right\\color_images\\undistorted_GX010191_27_215.jpg index 0\n",
      "Skipping image error C:\\Users\\gbo10\\OneDrive\\measurement_paper_images\\molt\\image processed\\good\\640360\\right\\color_images\\undistorted_GX010191_27_215.jpg index 1\n",
      "Skipping seg error C:\\Users\\gbo10\\OneDrive\\measurement_paper_images\\molt\\image processed\\good\\640360\\right\\color_images\\undistorted_GX010191_28_230.jpg index 0\n",
      "Skipping seg error C:\\Users\\gbo10\\OneDrive\\measurement_paper_images\\molt\\image processed\\good\\640360\\right\\color_images\\undistorted_GX010191_28_230.jpg index 1\n",
      "Skipping not prawm C:\\Users\\gbo10\\OneDrive\\measurement_paper_images\\molt\\image processed\\good\\640360\\right\\color_images\\undistorted_GX010191_28_230.jpg index 3\n",
      "Skipping seg error C:\\Users\\gbo10\\OneDrive\\measurement_paper_images\\molt\\image processed\\good\\640360\\right\\color_images\\undistorted_GX010191_28_230.jpg index 4\n",
      "Skipping seg error C:\\Users\\gbo10\\OneDrive\\measurement_paper_images\\molt\\image processed\\good\\640360\\right\\color_images\\undistorted_GX010191_28_230.jpg index 5\n",
      "Skipping not prawm C:\\Users\\gbo10\\OneDrive\\measurement_paper_images\\molt\\image processed\\good\\640360\\right\\color_images\\undistorted_GX010191_28_230.jpg index 6\n",
      "Skipping seg error C:\\Users\\gbo10\\OneDrive\\measurement_paper_images\\molt\\image processed\\good\\640360\\right\\color_images\\undistorted_GX010191_29_257.jpg index 2\n",
      "Skipping not prawm C:\\Users\\gbo10\\OneDrive\\measurement_paper_images\\molt\\image processed\\good\\640360\\right\\color_images\\undistorted_GX010191_29_257.jpg index 3\n",
      "Skipping not prawm C:\\Users\\gbo10\\OneDrive\\measurement_paper_images\\molt\\image processed\\good\\640360\\right\\color_images\\undistorted_GX010191_32_1049.jpg index 3\n",
      "Skipping seg error C:\\Users\\gbo10\\OneDrive\\measurement_paper_images\\molt\\image processed\\good\\640360\\right\\color_images\\undistorted_GX010191_32_305.jpg index 0\n",
      "Skipping seg error C:\\Users\\gbo10\\OneDrive\\measurement_paper_images\\molt\\image processed\\good\\640360\\right\\color_images\\undistorted_GX010191_32_305.jpg index 2\n",
      "Skipping seg error C:\\Users\\gbo10\\OneDrive\\measurement_paper_images\\molt\\image processed\\good\\640360\\right\\color_images\\undistorted_GX010191_32_305.jpg index 3\n",
      "Skipping not prawm C:\\Users\\gbo10\\OneDrive\\measurement_paper_images\\molt\\image processed\\good\\640360\\right\\color_images\\undistorted_GX010191_32_305.jpg index 4\n",
      "Skipping not prawm C:\\Users\\gbo10\\OneDrive\\measurement_paper_images\\molt\\image processed\\good\\640360\\right\\color_images\\undistorted_GX010191_33_1087.jpg index 2\n",
      "Skipping not prawm C:\\Users\\gbo10\\OneDrive\\measurement_paper_images\\molt\\image processed\\good\\640360\\right\\color_images\\undistorted_GX010191_33_331.jpg index 1\n",
      "Skipping not prawm C:\\Users\\gbo10\\OneDrive\\measurement_paper_images\\molt\\image processed\\good\\640360\\right\\color_images\\undistorted_GX010191_34_350.jpg index 0\n",
      "Skipping not prawm C:\\Users\\gbo10\\OneDrive\\measurement_paper_images\\molt\\image processed\\good\\640360\\right\\color_images\\undistorted_GX010191_34_350.jpg index 1\n",
      "Skipping seg error C:\\Users\\gbo10\\OneDrive\\measurement_paper_images\\molt\\image processed\\good\\640360\\right\\color_images\\undistorted_GX010191_34_350.jpg index 2\n",
      "Skipping not prawm C:\\Users\\gbo10\\OneDrive\\measurement_paper_images\\molt\\image processed\\good\\640360\\right\\color_images\\undistorted_GX010191_35_367.jpg index 1\n",
      "Skipping seg error C:\\Users\\gbo10\\OneDrive\\measurement_paper_images\\molt\\image processed\\good\\640360\\right\\color_images\\undistorted_GX010191_36_1195.jpg index 0\n",
      "Skipping seg error C:\\Users\\gbo10\\OneDrive\\measurement_paper_images\\molt\\image processed\\good\\640360\\right\\color_images\\undistorted_GX010191_36_1195.jpg index 2\n",
      "Skipping seg error C:\\Users\\gbo10\\OneDrive\\measurement_paper_images\\molt\\image processed\\good\\640360\\right\\color_images\\undistorted_GX010191_37_1242.jpg index 0\n",
      "Skipping not prawm C:\\Users\\gbo10\\OneDrive\\measurement_paper_images\\molt\\image processed\\good\\640360\\right\\color_images\\undistorted_GX010191_37_1242.jpg index 1\n",
      "Skipping seg error C:\\Users\\gbo10\\OneDrive\\measurement_paper_images\\molt\\image processed\\good\\640360\\right\\color_images\\undistorted_GX010191_37_392.jpg index 0\n",
      "Skipping seg error C:\\Users\\gbo10\\OneDrive\\measurement_paper_images\\molt\\image processed\\good\\640360\\right\\color_images\\undistorted_GX010191_38_404.jpg index 0\n",
      "Skipping seg error C:\\Users\\gbo10\\OneDrive\\measurement_paper_images\\molt\\image processed\\good\\640360\\right\\color_images\\undistorted_GX010191_39_1284.jpg index 0\n",
      "Skipping seg error C:\\Users\\gbo10\\OneDrive\\measurement_paper_images\\molt\\image processed\\good\\640360\\right\\color_images\\undistorted_GX010191_41_445.jpg index 0\n",
      "Skipping not prawm C:\\Users\\gbo10\\OneDrive\\measurement_paper_images\\molt\\image processed\\good\\640360\\right\\color_images\\undistorted_GX010191_42_457.jpg index 2\n",
      "Skipping seg error C:\\Users\\gbo10\\OneDrive\\measurement_paper_images\\molt\\image processed\\good\\640360\\right\\color_images\\undistorted_GX010191_43_468.jpg index 0\n",
      "Skipping seg error C:\\Users\\gbo10\\OneDrive\\measurement_paper_images\\molt\\image processed\\good\\640360\\right\\color_images\\undistorted_GX010191_43_468.jpg index 2\n",
      "Skipping not prawm C:\\Users\\gbo10\\OneDrive\\measurement_paper_images\\molt\\image processed\\good\\640360\\right\\color_images\\undistorted_GX010191_43_468.jpg index 3\n",
      "Skipping seg error C:\\Users\\gbo10\\OneDrive\\measurement_paper_images\\molt\\image processed\\good\\640360\\right\\color_images\\undistorted_GX010191_43_468.jpg index 4\n",
      "Skipping image error C:\\Users\\gbo10\\OneDrive\\measurement_paper_images\\molt\\image processed\\good\\640360\\right\\color_images\\undistorted_GX010191_45_489.jpg index 0\n",
      "Skipping image error C:\\Users\\gbo10\\OneDrive\\measurement_paper_images\\molt\\image processed\\good\\640360\\right\\color_images\\undistorted_GX010191_45_489.jpg index 1\n",
      "Skipping image error C:\\Users\\gbo10\\OneDrive\\measurement_paper_images\\molt\\image processed\\good\\640360\\right\\color_images\\undistorted_GX010191_45_489.jpg index 2\n",
      "Skipping image error C:\\Users\\gbo10\\OneDrive\\measurement_paper_images\\molt\\image processed\\good\\640360\\right\\color_images\\undistorted_GX010191_45_489.jpg index 3\n",
      "Skipping not prawm C:\\Users\\gbo10\\OneDrive\\measurement_paper_images\\molt\\image processed\\good\\640360\\right\\color_images\\undistorted_GX010191_45_489.jpg index 4\n",
      "Skipping seg error C:\\Users\\gbo10\\OneDrive\\measurement_paper_images\\molt\\image processed\\good\\640360\\right\\color_images\\undistorted_GX010191_46_497.jpg index 0\n",
      "Skipping seg error C:\\Users\\gbo10\\OneDrive\\measurement_paper_images\\molt\\image processed\\good\\640360\\right\\color_images\\undistorted_GX010191_47_507.jpg index 0\n",
      "Skipping seg error C:\\Users\\gbo10\\OneDrive\\measurement_paper_images\\molt\\image processed\\good\\640360\\right\\color_images\\undistorted_GX010191_47_507.jpg index 1\n",
      "Skipping not prawm C:\\Users\\gbo10\\OneDrive\\measurement_paper_images\\molt\\image processed\\good\\640360\\right\\color_images\\undistorted_GX010191_47_507.jpg index 2\n",
      "Skipping seg error C:\\Users\\gbo10\\OneDrive\\measurement_paper_images\\molt\\image processed\\good\\640360\\right\\color_images\\undistorted_GX010191_5_190.jpg index 0\n",
      "Skipping seg error C:\\Users\\gbo10\\OneDrive\\measurement_paper_images\\molt\\image processed\\good\\640360\\right\\color_images\\undistorted_GX010191_8_309.jpg index 1\n",
      "Skipping seg error C:\\Users\\gbo10\\OneDrive\\measurement_paper_images\\molt\\image processed\\good\\640360\\right\\color_images\\undistorted_GX010191_8_309.jpg index 2\n",
      "Skipping not prawm C:\\Users\\gbo10\\OneDrive\\measurement_paper_images\\molt\\image processed\\good\\640360\\right\\color_images\\undistorted_GX010191_91_1066.jpg index 4\n",
      "Skipping not prawm C:\\Users\\gbo10\\OneDrive\\measurement_paper_images\\molt\\image processed\\good\\640360\\right\\color_images\\undistorted_GX010191_91_1066.jpg index 5\n",
      "Skipping not prawm C:\\Users\\gbo10\\OneDrive\\measurement_paper_images\\molt\\image processed\\good\\640360\\right\\color_images\\undistorted_GX010191_92_1087.jpg index 2\n",
      "Skipping not prawm C:\\Users\\gbo10\\OneDrive\\measurement_paper_images\\molt\\image processed\\good\\640360\\right\\color_images\\undistorted_GX010191_95_1157.jpg index 2\n",
      "Skipping seg error C:\\Users\\gbo10\\OneDrive\\measurement_paper_images\\molt\\image processed\\good\\640360\\right\\color_images\\undistorted_GX010191_97_1190.jpg index 1\n",
      "Skipping not prawm C:\\Users\\gbo10\\OneDrive\\measurement_paper_images\\molt\\image processed\\good\\640360\\right\\color_images\\undistorted_GX010191_99_1233.jpg index 0\n",
      "Skipping not prawm C:\\Users\\gbo10\\OneDrive\\measurement_paper_images\\molt\\image processed\\good\\640360\\right\\color_images\\undistorted_GX010191_9_346.jpg index 0\n",
      "Skipping not prawm C:\\Users\\gbo10\\OneDrive\\measurement_paper_images\\molt\\image processed\\good\\640360\\right\\color_images\\undistorted_GX010191_9_346.jpg index 1\n",
      "Skipping seg error C:\\Users\\gbo10\\OneDrive\\measurement_paper_images\\molt\\image processed\\good\\640360\\right\\color_images\\undistorted_GX010191_9_346.jpg index 2\n",
      "Skipping seg error c:\\Users\\gbo10\\OneDrive\\measurement_paper_images\\molt\\image processed\\good\\640360\\square\\color_images\\undistorted_GX010192_10_696.jpg index 1\n",
      "Skipping seg error c:\\Users\\gbo10\\OneDrive\\measurement_paper_images\\molt\\image processed\\good\\640360\\square\\color_images\\undistorted_GX010192_11_745.jpg index 0\n",
      "Skipping seg error c:\\Users\\gbo10\\OneDrive\\measurement_paper_images\\molt\\image processed\\good\\640360\\square\\color_images\\undistorted_GX010192_16_1005.jpg index 0\n",
      "Skipping seg error c:\\Users\\gbo10\\OneDrive\\measurement_paper_images\\molt\\image processed\\good\\640360\\square\\color_images\\undistorted_GX010192_8_593.jpg index 0\n",
      "Skipping seg error c:\\Users\\gbo10\\OneDrive\\measurement_paper_images\\molt\\image processed\\good\\640360\\square\\color_images\\undistorted_GX010193_10_1039.jpg index 1\n",
      "Skipping not prawm c:\\Users\\gbo10\\OneDrive\\measurement_paper_images\\molt\\image processed\\good\\640360\\square\\color_images\\undistorted_GX010193_10_1039.jpg index 2\n",
      "Skipping seg error c:\\Users\\gbo10\\OneDrive\\measurement_paper_images\\molt\\image processed\\good\\640360\\square\\color_images\\undistorted_GX010193_16_1232.jpg index 0\n",
      "Skipping not prawm c:\\Users\\gbo10\\OneDrive\\measurement_paper_images\\molt\\image processed\\good\\640360\\square\\color_images\\undistorted_GX010193_20_1365.jpg index 0\n",
      "Skipping seg error c:\\Users\\gbo10\\OneDrive\\measurement_paper_images\\molt\\image processed\\good\\640360\\square\\color_images\\undistorted_GX010193_26_1530.jpg index 0\n",
      "Skipping seg error c:\\Users\\gbo10\\OneDrive\\measurement_paper_images\\molt\\image processed\\good\\640360\\square\\color_images\\undistorted_GX010193_26_1530.jpg index 1\n",
      "Skipping seg error c:\\Users\\gbo10\\OneDrive\\measurement_paper_images\\molt\\image processed\\good\\640360\\square\\color_images\\undistorted_GX010193_27_1553.jpg index 0\n",
      "Skipping seg error c:\\Users\\gbo10\\OneDrive\\measurement_paper_images\\molt\\image processed\\good\\640360\\square\\color_images\\undistorted_GX010193_28_1584.jpg index 0\n",
      "Skipping seg error c:\\Users\\gbo10\\OneDrive\\measurement_paper_images\\molt\\image processed\\good\\640360\\square\\color_images\\undistorted_GX010193_28_1584.jpg index 1\n",
      "Skipping seg error c:\\Users\\gbo10\\OneDrive\\measurement_paper_images\\molt\\image processed\\good\\640360\\square\\color_images\\undistorted_GX010193_28_1584.jpg index 2\n",
      "Skipping seg error c:\\Users\\gbo10\\OneDrive\\measurement_paper_images\\molt\\image processed\\good\\640360\\square\\color_images\\undistorted_GX010193_4_283.jpg index 0\n",
      "Skipping seg error c:\\Users\\gbo10\\OneDrive\\measurement_paper_images\\molt\\image processed\\good\\640360\\square\\color_images\\undistorted_GX010193_5_305.jpg index 0\n",
      "Skipping seg error c:\\Users\\gbo10\\OneDrive\\measurement_paper_images\\molt\\image processed\\good\\640360\\square\\color_images\\undistorted_GX010193_6_330.jpg index 0\n",
      "Skipping seg error c:\\Users\\gbo10\\OneDrive\\measurement_paper_images\\molt\\image processed\\good\\640360\\square\\color_images\\undistorted_GX010193_7_360.jpg index 0\n",
      "Skipping seg error c:\\Users\\gbo10\\OneDrive\\measurement_paper_images\\molt\\image processed\\good\\640360\\square\\color_images\\undistorted_GX010193_7_360.jpg index 2\n",
      "Skipping seg error c:\\Users\\gbo10\\OneDrive\\measurement_paper_images\\molt\\image processed\\good\\640360\\square\\color_images\\undistorted_GX010194_17_257.jpg index 0\n",
      "Skipping seg error c:\\Users\\gbo10\\OneDrive\\measurement_paper_images\\molt\\image processed\\good\\640360\\square\\color_images\\undistorted_GX010194_18_272.jpg index 3\n",
      "Skipping seg error c:\\Users\\gbo10\\OneDrive\\measurement_paper_images\\molt\\image processed\\good\\640360\\square\\color_images\\undistorted_GX010194_19_285.jpg index 1\n",
      "Skipping seg error c:\\Users\\gbo10\\OneDrive\\measurement_paper_images\\molt\\image processed\\good\\640360\\square\\color_images\\undistorted_GX010194_20_299.jpg index 0\n",
      "Skipping seg error c:\\Users\\gbo10\\OneDrive\\measurement_paper_images\\molt\\image processed\\good\\640360\\square\\color_images\\undistorted_GX010194_21_312.jpg index 0\n",
      "Skipping seg error c:\\Users\\gbo10\\OneDrive\\measurement_paper_images\\molt\\image processed\\good\\640360\\square\\color_images\\undistorted_GX010194_22_323.jpg index 0\n",
      "Skipping seg error c:\\Users\\gbo10\\OneDrive\\measurement_paper_images\\molt\\image processed\\good\\640360\\square\\color_images\\undistorted_GX010194_24_352.jpg index 0\n",
      "Skipping seg error c:\\Users\\gbo10\\OneDrive\\measurement_paper_images\\molt\\image processed\\good\\640360\\square\\color_images\\undistorted_GX010194_2_285.jpg index 0\n",
      "Skipping seg error c:\\Users\\gbo10\\OneDrive\\measurement_paper_images\\molt\\image processed\\good\\640360\\square\\color_images\\undistorted_GX010194_2_285.jpg index 1\n",
      "Skipping seg error c:\\Users\\gbo10\\OneDrive\\measurement_paper_images\\molt\\image processed\\good\\640360\\square\\color_images\\undistorted_GX010194_30_407.jpg index 1\n",
      "Skipping seg error c:\\Users\\gbo10\\OneDrive\\measurement_paper_images\\molt\\image processed\\good\\640360\\square\\color_images\\undistorted_GX010194_31_414.jpg index 0\n",
      "Skipping not prawm c:\\Users\\gbo10\\OneDrive\\measurement_paper_images\\molt\\image processed\\good\\640360\\square\\color_images\\undistorted_GX010194_43_570.jpg index 0\n",
      "Skipping seg error c:\\Users\\gbo10\\OneDrive\\measurement_paper_images\\molt\\image processed\\good\\640360\\square\\color_images\\undistorted_GX010194_43_570.jpg index 3\n",
      "Skipping seg error c:\\Users\\gbo10\\OneDrive\\measurement_paper_images\\molt\\image processed\\good\\640360\\square\\color_images\\undistorted_GX010194_47_640.jpg index 0\n",
      "Skipping seg error c:\\Users\\gbo10\\OneDrive\\measurement_paper_images\\molt\\image processed\\good\\640360\\square\\color_images\\undistorted_GX010194_47_640.jpg index 2\n",
      "Skipping seg error c:\\Users\\gbo10\\OneDrive\\measurement_paper_images\\molt\\image processed\\good\\640360\\square\\color_images\\undistorted_GX010194_55_768.jpg index 0\n",
      "Skipping not prawm c:\\Users\\gbo10\\OneDrive\\measurement_paper_images\\molt\\image processed\\good\\640360\\square\\color_images\\undistorted_GX010194_57_798.jpg index 1\n",
      "Skipping seg error c:\\Users\\gbo10\\OneDrive\\measurement_paper_images\\molt\\image processed\\good\\640360\\square\\color_images\\undistorted_GX010194_5_757.jpg index 0\n",
      "Skipping seg error c:\\Users\\gbo10\\OneDrive\\measurement_paper_images\\molt\\image processed\\good\\640360\\square\\color_images\\undistorted_GX010194_61_852.jpg index 0\n",
      "Skipping seg error c:\\Users\\gbo10\\OneDrive\\measurement_paper_images\\molt\\image processed\\good\\640360\\square\\color_images\\undistorted_GX010194_62_878.jpg index 0\n",
      "Skipping seg error c:\\Users\\gbo10\\OneDrive\\measurement_paper_images\\molt\\image processed\\good\\640360\\square\\color_images\\undistorted_GX010194_62_878.jpg index 1\n",
      "Skipping seg error c:\\Users\\gbo10\\OneDrive\\measurement_paper_images\\molt\\image processed\\good\\640360\\square\\color_images\\undistorted_GX010194_63_894.jpg index 0\n",
      "Skipping seg error c:\\Users\\gbo10\\OneDrive\\measurement_paper_images\\molt\\image processed\\good\\640360\\square\\color_images\\undistorted_GX010194_63_894.jpg index 3\n",
      "Skipping seg error c:\\Users\\gbo10\\OneDrive\\measurement_paper_images\\molt\\image processed\\good\\640360\\square\\color_images\\undistorted_GX010194_64_911.jpg index 0\n",
      "Skipping seg error c:\\Users\\gbo10\\OneDrive\\measurement_paper_images\\molt\\image processed\\good\\640360\\square\\color_images\\undistorted_GX010194_64_911.jpg index 1\n",
      "Skipping seg error c:\\Users\\gbo10\\OneDrive\\measurement_paper_images\\molt\\image processed\\good\\640360\\square\\color_images\\undistorted_GX010194_65_928.jpg index 0\n",
      "Skipping seg error c:\\Users\\gbo10\\OneDrive\\measurement_paper_images\\molt\\image processed\\good\\640360\\square\\color_images\\undistorted_GX010194_6_101.jpg index 1\n",
      "Skipping seg error c:\\Users\\gbo10\\OneDrive\\measurement_paper_images\\molt\\image processed\\good\\640360\\square\\color_images\\undistorted_GX010194_6_101.jpg index 2\n",
      "Skipping seg error c:\\Users\\gbo10\\OneDrive\\measurement_paper_images\\molt\\image processed\\good\\640360\\square\\color_images\\undistorted_GX010194_6_845.jpg index 0\n",
      "Skipping seg error c:\\Users\\gbo10\\OneDrive\\measurement_paper_images\\molt\\image processed\\good\\640360\\square\\color_images\\undistorted_GX010194_7_885.jpg index 0\n"
     ]
    },
    {
     "data": {
      "text/html": [
       "\n",
       "        <iframe\n",
       "            width=\"100%\"\n",
       "            height=\"800\"\n",
       "            src=\"http://localhost:5152/?notebook=True&subscription=7ebb56b0-d888-4b39-9ae7-be361ccbfb0a\"\n",
       "            frameborder=\"0\"\n",
       "            allowfullscreen\n",
       "            \n",
       "        ></iframe>\n",
       "        "
      ],
      "text/plain": [
       "<IPython.lib.display.IFrame at 0x1b964191ca0>"
      ]
     },
     "metadata": {},
     "output_type": "display_data"
    }
   ],
   "source": [
    "molt_right_image_path = r\"C:\\Users\\gbo10\\OneDrive\\measurement_paper_images\\molt\\image processed\\good\\640360\\right\\color_images\"\n",
    "\n",
    "molt_square_image_path=r\"c:\\Users\\gbo10\\OneDrive\\measurement_paper_images\\molt\\image processed\\good\\640360\\square\\color_images\"\n",
    "\n",
    "molt_prediction_right=r'C:\\Users\\gbo10\\OneDrive\\measurement_paper_images\\molt\\image processed\\good\\640360\\right\\segmentations'\n",
    "\n",
    "molt_prediction_sqaure=r'c:\\Users\\gbo10\\OneDrive\\measurement_paper_images\\molt\\image processed\\good\\640360\\square\\segmentations'\n",
    "\n",
    "\n",
    "import pandas as pd\n",
    "\n",
    "\n",
    "import fiftyone as fo\n",
    "dataset = fo.Dataset(\"molt\", overwrite=True,persistent=True)\n",
    "\n",
    "# Load the dataset\n",
    "right_image_paths = [os.path.join(molt_right_image_path, image) for image in os.listdir(molt_right_image_path) if image.endswith(('.jpg', '.jpeg', '.png', '.bmp', '.tiff'))]\n",
    "\n",
    "square_image_paths = [os.path.join(molt_square_image_path, image) for image in os.listdir(molt_square_image_path) if image.endswith(('.jpg', '.jpeg', '.png', '.bmp', '.tiff'))]\n",
    "\n",
    "for molt_prediction in [molt_prediction_right,molt_prediction_sqaure]:\n",
    "    prediction_paths_text = [os.path.join(molt_prediction, txt) for txt in os.listdir(molt_prediction) if txt.endswith('.txt')]\n",
    "\n",
    "\n",
    "\n",
    "\n",
    "    tag = molt_prediction.split('\\\\')[-2]\n",
    "\n",
    "    if 'right' in molt_prediction:\n",
    "        image_paths = right_image_paths\n",
    "        process_images(image_paths, molt_prediction, dataset, tag)\n",
    "    else:\n",
    "        image_paths = square_image_paths\n",
    "        process_images(image_paths, molt_prediction, dataset, tag)\n",
    "\n",
    "# Process segmentations\n",
    "dataframe = pd.DataFrame(columns=['image_path', 'index', 'pond'])\n",
    "\n",
    "df_clean=pd.read_csv(r'C:\\Users\\gbo10\\Videos\\research\\counting_research_algorithms\\fifty_one\\measurements\\samples_index.csv')\n",
    "\n",
    "df_seg_error=pd.read_csv(r'C:\\Users\\gbo10\\Videos\\research\\counting_research_algorithms\\fifty_one\\measurements\\molt_seg_error.csv')\n",
    "\n",
    "df_seg_error_other=pd.read_csv(r\"C:\\Users\\gbo10\\OneDrive\\research\\thesis and paper\\molt_seg_error.csv\")\n",
    "\n",
    "\n",
    "# df_seg_error=pd.concat([df_seg_error,df_seg_error_other])\n",
    "\n",
    "for sample in dataset:\n",
    "\n",
    "    tag = sample.tags[0]    \n",
    "    # Access the polylines for each sample\n",
    "    for i, segmentation in enumerate(sample[\"segmentations\"].polylines):\n",
    "\n",
    "\n",
    "        if sample.filepath.split('\\\\')[-1] in df_clean['sample'].values and i in df_clean.loc[df_clean['sample'] == sample.filepath.split('\\\\')[-1], 'index'].values:\n",
    "            print(f\"Skipping not prawm {sample.filepath} index {i}\")\n",
    "            continue\n",
    "        if sample.filepath.split('\\\\')[-1] in df_seg_error_other['image_path'].values and i in df_seg_error_other.loc[df_seg_error_other['image_path'] == sample.filepath.split('\\\\')[-1], 'index'].values:\n",
    "            print(f\"Skipping seg error {sample.filepath} index {i}\")\n",
    "            continue\n",
    "        if sample.filepath.split('\\\\')[-1] =='undistorted_GX010191_45_489.jpg' or sample.filepath.split('\\\\')[-1] =='undistorted_GX010191_27_215.jpg' or sample.filepath.split('\\\\')[-1] =='undistorted_GX010191_104_1301.jpg' or sample.filepath.split('\\\\')[-1] =='undistorted_GX010191_26_199.jpg':\n",
    "            print(f\"Skipping image error {sample.filepath} index {i}\")\n",
    "            continue\n",
    "        image_path = sample.filepath.split('\\\\')[-1]\n",
    "\n",
    "        dataframe = dataframe._append({'image_path': image_path, 'index': i, 'pond': tag}, ignore_index=True)\n",
    "        # Process and modify the segmentation\n",
    "        updated_segmentation = process_detection_by_circle(segmentation, sample, i, dataframe)\n",
    "\n",
    "        # Save the updated segmentation back into the sample\n",
    "        sample[\"segmentations\"].polylines[i] = updated_segmentation\n",
    "\n",
    "        sample.save()\n",
    "\n",
    "dataframe.to_csv('molt.csv')\n",
    "session = fo.launch_app(dataset, port=5152)"
   ]
  },
  {
   "cell_type": "code",
   "execution_count": 6,
   "metadata": {},
   "outputs": [
    {
     "data": {
      "text/html": [
       "\n",
       "        <iframe\n",
       "            width=\"100%\"\n",
       "            height=\"800\"\n",
       "            src=\"http://localhost:5152/?notebook=True&subscription=b3f11401-027e-4ab1-8946-0b4a6d895204\"\n",
       "            frameborder=\"0\"\n",
       "            allowfullscreen\n",
       "            \n",
       "        ></iframe>\n",
       "        "
      ],
      "text/plain": [
       "<IPython.lib.display.IFrame at 0x2ad7790f370>"
      ]
     },
     "metadata": {},
     "output_type": "display_data"
    }
   ],
   "source": [
    "import fiftyone as fo\n",
    "\n",
    "dataset=fo.load_dataset(\"molt\")\n",
    "\n",
    "session = fo.launch_app(dataset, port=5152)"
   ]
  },
  {
   "cell_type": "code",
   "execution_count": null,
   "metadata": {},
   "outputs": [],
   "source": [
    "\n",
    "# Load the dataset\n",
    "\n",
    "\n",
    "for sample in dataset:\n",
    "    for i, segmentation in enumerate(sample[\"segmentations\"].polylines):\n",
    "        print(f\"index: {i}, label: {segmentation.tags}\")"
   ]
  },
  {
   "cell_type": "code",
   "execution_count": 8,
   "metadata": {},
   "outputs": [
    {
     "data": {
      "text/html": [
       "<div>\n",
       "<style scoped>\n",
       "    .dataframe tbody tr th:only-of-type {\n",
       "        vertical-align: middle;\n",
       "    }\n",
       "\n",
       "    .dataframe tbody tr th {\n",
       "        vertical-align: top;\n",
       "    }\n",
       "\n",
       "    .dataframe thead th {\n",
       "        text-align: right;\n",
       "    }\n",
       "</style>\n",
       "<table border=\"1\" class=\"dataframe\">\n",
       "  <thead>\n",
       "    <tr style=\"text-align: right;\">\n",
       "      <th></th>\n",
       "      <th>image_path</th>\n",
       "      <th>index</th>\n",
       "      <th>true_length</th>\n",
       "      <th>Hull_Length_fov</th>\n",
       "    </tr>\n",
       "  </thead>\n",
       "  <tbody>\n",
       "    <tr>\n",
       "      <th>3</th>\n",
       "      <td>undistorted_GX010191_101_1265.jpg</td>\n",
       "      <td>0</td>\n",
       "      <td>143.0</td>\n",
       "      <td>146.552456</td>\n",
       "    </tr>\n",
       "    <tr>\n",
       "      <th>10</th>\n",
       "      <td>undistorted_GX010191_105_1312.jpg</td>\n",
       "      <td>0</td>\n",
       "      <td>143.0</td>\n",
       "      <td>147.684077</td>\n",
       "    </tr>\n",
       "    <tr>\n",
       "      <th>17</th>\n",
       "      <td>undistorted_GX010191_10_370.jpg</td>\n",
       "      <td>0</td>\n",
       "      <td>143.0</td>\n",
       "      <td>144.575353</td>\n",
       "    </tr>\n",
       "    <tr>\n",
       "      <th>18</th>\n",
       "      <td>undistorted_GX010191_110_1355.jpg</td>\n",
       "      <td>0</td>\n",
       "      <td>180.0</td>\n",
       "      <td>185.692503</td>\n",
       "    </tr>\n",
       "    <tr>\n",
       "      <th>21</th>\n",
       "      <td>undistorted_GX010191_110_1355.jpg</td>\n",
       "      <td>3</td>\n",
       "      <td>143.0</td>\n",
       "      <td>144.994277</td>\n",
       "    </tr>\n",
       "    <tr>\n",
       "      <th>35</th>\n",
       "      <td>undistorted_GX010191_13_439.jpg</td>\n",
       "      <td>0</td>\n",
       "      <td>143.0</td>\n",
       "      <td>148.172592</td>\n",
       "    </tr>\n",
       "    <tr>\n",
       "      <th>64</th>\n",
       "      <td>undistorted_GX010191_31_283.jpg</td>\n",
       "      <td>1</td>\n",
       "      <td>180.0</td>\n",
       "      <td>187.227165</td>\n",
       "    </tr>\n",
       "    <tr>\n",
       "      <th>76</th>\n",
       "      <td>undistorted_GX010191_33_331.jpg</td>\n",
       "      <td>0</td>\n",
       "      <td>180.0</td>\n",
       "      <td>187.799430</td>\n",
       "    </tr>\n",
       "    <tr>\n",
       "      <th>80</th>\n",
       "      <td>undistorted_GX010191_34_1128.jpg</td>\n",
       "      <td>0</td>\n",
       "      <td>180.0</td>\n",
       "      <td>186.011029</td>\n",
       "    </tr>\n",
       "    <tr>\n",
       "      <th>91</th>\n",
       "      <td>undistorted_GX010191_35_367.jpg</td>\n",
       "      <td>0</td>\n",
       "      <td>143.0</td>\n",
       "      <td>143.886346</td>\n",
       "    </tr>\n",
       "    <tr>\n",
       "      <th>95</th>\n",
       "      <td>undistorted_GX010191_36_381.jpg</td>\n",
       "      <td>0</td>\n",
       "      <td>143.0</td>\n",
       "      <td>144.914142</td>\n",
       "    </tr>\n",
       "    <tr>\n",
       "      <th>101</th>\n",
       "      <td>undistorted_GX010191_38_1266.jpg</td>\n",
       "      <td>0</td>\n",
       "      <td>143.0</td>\n",
       "      <td>146.913067</td>\n",
       "    </tr>\n",
       "    <tr>\n",
       "      <th>109</th>\n",
       "      <td>undistorted_GX010191_39_1284.jpg</td>\n",
       "      <td>0</td>\n",
       "      <td>180.0</td>\n",
       "      <td>188.088178</td>\n",
       "    </tr>\n",
       "    <tr>\n",
       "      <th>113</th>\n",
       "      <td>undistorted_GX010191_42_1339.jpg</td>\n",
       "      <td>0</td>\n",
       "      <td>143.0</td>\n",
       "      <td>147.079873</td>\n",
       "    </tr>\n",
       "    <tr>\n",
       "      <th>122</th>\n",
       "      <td>undistorted_GX010191_43_1353.jpg</td>\n",
       "      <td>0</td>\n",
       "      <td>143.0</td>\n",
       "      <td>149.585618</td>\n",
       "    </tr>\n",
       "    <tr>\n",
       "      <th>125</th>\n",
       "      <td>undistorted_GX010191_43_1353.jpg</td>\n",
       "      <td>3</td>\n",
       "      <td>180.0</td>\n",
       "      <td>183.655433</td>\n",
       "    </tr>\n",
       "    <tr>\n",
       "      <th>132</th>\n",
       "      <td>undistorted_GX010191_43_468.jpg</td>\n",
       "      <td>2</td>\n",
       "      <td>143.0</td>\n",
       "      <td>149.032419</td>\n",
       "    </tr>\n",
       "    <tr>\n",
       "      <th>136</th>\n",
       "      <td>undistorted_GX010191_44_478.jpg</td>\n",
       "      <td>1</td>\n",
       "      <td>180.0</td>\n",
       "      <td>183.009535</td>\n",
       "    </tr>\n",
       "    <tr>\n",
       "      <th>171</th>\n",
       "      <td>undistorted_GX010191_97_1190.jpg</td>\n",
       "      <td>1</td>\n",
       "      <td>143.0</td>\n",
       "      <td>146.913045</td>\n",
       "    </tr>\n",
       "    <tr>\n",
       "      <th>191</th>\n",
       "      <td>undistorted_GX010193_10_1039.jpg</td>\n",
       "      <td>0</td>\n",
       "      <td>180.0</td>\n",
       "      <td>184.360593</td>\n",
       "    </tr>\n",
       "    <tr>\n",
       "      <th>198</th>\n",
       "      <td>undistorted_GX010193_17_1264.jpg</td>\n",
       "      <td>0</td>\n",
       "      <td>143.0</td>\n",
       "      <td>149.225646</td>\n",
       "    </tr>\n",
       "    <tr>\n",
       "      <th>207</th>\n",
       "      <td>undistorted_GX010193_20_1365.jpg</td>\n",
       "      <td>2</td>\n",
       "      <td>143.0</td>\n",
       "      <td>143.293385</td>\n",
       "    </tr>\n",
       "    <tr>\n",
       "      <th>240</th>\n",
       "      <td>undistorted_GX010194_19_285.jpg</td>\n",
       "      <td>0</td>\n",
       "      <td>180.0</td>\n",
       "      <td>187.530650</td>\n",
       "    </tr>\n",
       "    <tr>\n",
       "      <th>250</th>\n",
       "      <td>undistorted_GX010194_2_285.jpg</td>\n",
       "      <td>0</td>\n",
       "      <td>180.0</td>\n",
       "      <td>187.530650</td>\n",
       "    </tr>\n",
       "    <tr>\n",
       "      <th>259</th>\n",
       "      <td>undistorted_GX010194_36_485.jpg</td>\n",
       "      <td>1</td>\n",
       "      <td>143.0</td>\n",
       "      <td>149.436932</td>\n",
       "    </tr>\n",
       "    <tr>\n",
       "      <th>261</th>\n",
       "      <td>undistorted_GX010194_37_496.jpg</td>\n",
       "      <td>1</td>\n",
       "      <td>143.0</td>\n",
       "      <td>149.153303</td>\n",
       "    </tr>\n",
       "    <tr>\n",
       "      <th>265</th>\n",
       "      <td>undistorted_GX010194_39_513.jpg</td>\n",
       "      <td>1</td>\n",
       "      <td>143.0</td>\n",
       "      <td>149.331318</td>\n",
       "    </tr>\n",
       "    <tr>\n",
       "      <th>290</th>\n",
       "      <td>undistorted_GX010194_62_878.jpg</td>\n",
       "      <td>0</td>\n",
       "      <td>180.0</td>\n",
       "      <td>184.009149</td>\n",
       "    </tr>\n",
       "    <tr>\n",
       "      <th>297</th>\n",
       "      <td>undistorted_GX010194_64_911.jpg</td>\n",
       "      <td>0</td>\n",
       "      <td>180.0</td>\n",
       "      <td>184.854374</td>\n",
       "    </tr>\n",
       "  </tbody>\n",
       "</table>\n",
       "</div>"
      ],
      "text/plain": [
       "                            image_path  index  true_length  Hull_Length_fov\n",
       "3    undistorted_GX010191_101_1265.jpg      0        143.0       146.552456\n",
       "10   undistorted_GX010191_105_1312.jpg      0        143.0       147.684077\n",
       "17     undistorted_GX010191_10_370.jpg      0        143.0       144.575353\n",
       "18   undistorted_GX010191_110_1355.jpg      0        180.0       185.692503\n",
       "21   undistorted_GX010191_110_1355.jpg      3        143.0       144.994277\n",
       "35     undistorted_GX010191_13_439.jpg      0        143.0       148.172592\n",
       "64     undistorted_GX010191_31_283.jpg      1        180.0       187.227165\n",
       "76     undistorted_GX010191_33_331.jpg      0        180.0       187.799430\n",
       "80    undistorted_GX010191_34_1128.jpg      0        180.0       186.011029\n",
       "91     undistorted_GX010191_35_367.jpg      0        143.0       143.886346\n",
       "95     undistorted_GX010191_36_381.jpg      0        143.0       144.914142\n",
       "101   undistorted_GX010191_38_1266.jpg      0        143.0       146.913067\n",
       "109   undistorted_GX010191_39_1284.jpg      0        180.0       188.088178\n",
       "113   undistorted_GX010191_42_1339.jpg      0        143.0       147.079873\n",
       "122   undistorted_GX010191_43_1353.jpg      0        143.0       149.585618\n",
       "125   undistorted_GX010191_43_1353.jpg      3        180.0       183.655433\n",
       "132    undistorted_GX010191_43_468.jpg      2        143.0       149.032419\n",
       "136    undistorted_GX010191_44_478.jpg      1        180.0       183.009535\n",
       "171   undistorted_GX010191_97_1190.jpg      1        143.0       146.913045\n",
       "191   undistorted_GX010193_10_1039.jpg      0        180.0       184.360593\n",
       "198   undistorted_GX010193_17_1264.jpg      0        143.0       149.225646\n",
       "207   undistorted_GX010193_20_1365.jpg      2        143.0       143.293385\n",
       "240    undistorted_GX010194_19_285.jpg      0        180.0       187.530650\n",
       "250     undistorted_GX010194_2_285.jpg      0        180.0       187.530650\n",
       "259    undistorted_GX010194_36_485.jpg      1        143.0       149.436932\n",
       "261    undistorted_GX010194_37_496.jpg      1        143.0       149.153303\n",
       "265    undistorted_GX010194_39_513.jpg      1        143.0       149.331318\n",
       "290    undistorted_GX010194_62_878.jpg      0        180.0       184.009149\n",
       "297    undistorted_GX010194_64_911.jpg      0        180.0       184.854374"
      ]
     },
     "execution_count": 8,
     "metadata": {},
     "output_type": "execute_result"
    }
   ],
   "source": [
    "df=pd.read_csv('molt.csv')\n",
    "\n",
    "df[(df['Error_percentage_Hull_fov']<5) & (df['Hull_Length_fov']>df['true_length'])][['image_path','index','true_length','Hull_Length_fov']]"
   ]
  },
  {
   "cell_type": "code",
   "execution_count": 81,
   "metadata": {},
   "outputs": [
    {
     "name": "stdout",
     "output_type": "stream",
     "text": [
      "None\n"
     ]
    }
   ],
   "source": [
    "print(session.view)"
   ]
  },
  {
   "cell_type": "code",
   "execution_count": 82,
   "metadata": {},
   "outputs": [
    {
     "name": "stdout",
     "output_type": "stream",
     "text": [
      "Name:        molt\n",
      "Media type:  image\n",
      "Num samples: 122\n",
      "Persistent:  False\n",
      "Tags:        []\n",
      "Sample fields:\n",
      "    id:                           fiftyone.core.fields.ObjectIdField\n",
      "    filepath:                     fiftyone.core.fields.StringField\n",
      "    tags:                         fiftyone.core.fields.ListField(fiftyone.core.fields.StringField)\n",
      "    metadata:                     fiftyone.core.fields.EmbeddedDocumentField(fiftyone.core.metadata.ImageMetadata)\n",
      "    segmentations:                fiftyone.core.fields.EmbeddedDocumentField(fiftyone.core.labels.Polylines)\n",
      "    hulls:                        fiftyone.core.fields.EmbeddedDocumentField(fiftyone.core.labels.Polylines)\n",
      "    skeletons_no_smooth:          fiftyone.core.fields.EmbeddedDocumentField(fiftyone.core.labels.Polylines)\n",
      "    skeletons_straight_no_smooth: fiftyone.core.fields.EmbeddedDocumentField(fiftyone.core.labels.Polylines)\n",
      "    boxes:                        fiftyone.core.fields.EmbeddedDocumentField(fiftyone.core.labels.Polylines)\n",
      "    masks:                        fiftyone.core.fields.EmbeddedDocumentField(fiftyone.core.labels.Polylines)\n"
     ]
    }
   ],
   "source": [
    "dataset =fo.load_dataset('molt')\n",
    "\n",
    "print(dataset)"
   ]
  },
  {
   "cell_type": "code",
   "execution_count": 80,
   "metadata": {},
   "outputs": [
    {
     "ename": "TypeError",
     "evalue": "'NoneType' object is not iterable",
     "output_type": "error",
     "traceback": [
      "\u001b[1;31m---------------------------------------------------------------------------\u001b[0m",
      "\u001b[1;31mTypeError\u001b[0m                                 Traceback (most recent call last)",
      "Cell \u001b[1;32mIn[80], line 6\u001b[0m\n\u001b[0;32m      4\u001b[0m \u001b[38;5;28;01mfrom\u001b[39;00m \u001b[38;5;21;01mtqdm\u001b[39;00m \u001b[38;5;28;01mimport\u001b[39;00m tqdm\n\u001b[0;32m      5\u001b[0m \u001b[38;5;66;03m# \u001b[39;00m\n\u001b[1;32m----> 6\u001b[0m \u001b[38;5;28;01mfor\u001b[39;00m sample \u001b[38;5;129;01min\u001b[39;00m view:\n\u001b[0;32m      7\u001b[0m     \u001b[38;5;28;01mfor\u001b[39;00m i, segmentation \u001b[38;5;129;01min\u001b[39;00m \u001b[38;5;28menumerate\u001b[39m(sample[\u001b[38;5;124m\"\u001b[39m\u001b[38;5;124msegmentations\u001b[39m\u001b[38;5;124m\"\u001b[39m]\u001b[38;5;241m.\u001b[39mpolylines):\n\u001b[0;32m      8\u001b[0m         \u001b[38;5;28;01mif\u001b[39;00m segmentation\u001b[38;5;241m.\u001b[39mlabel \u001b[38;5;129;01mis\u001b[39;00m \u001b[38;5;129;01mnot\u001b[39;00m \u001b[38;5;28;01mNone\u001b[39;00m:\n",
      "\u001b[1;31mTypeError\u001b[0m: 'NoneType' object is not iterable"
     ]
    }
   ],
   "source": [
    "\n",
    "\n",
    "dataframe_seg=pd.DataFrame(columns=['image_path','index'])\n",
    "from tqdm import tqdm\n",
    "# \n",
    "for sample in view:\n",
    "    for i, segmentation in enumerate(sample[\"segmentations\"].polylines):\n",
    "        if segmentation.label is not None:\n",
    "            print(len(segmentation.tags))\n",
    "            if len(segmentation.tags)>0:\n",
    "                \n",
    "                if segmentation.tags[0]=='under' or segmentation.tags[0]=='over':\n",
    "                    print(f\"under or over {sample.filepath} index {i}\")\n",
    "                    dataframe_seg=dataframe_seg._append({'image_path':sample.filepath.split('\\\\')[-1],'index':i},ignore_index=True)\n",
    "\n",
    "            \n",
    "dataframe_seg.to_csv('molt_seg_error.csv')"
   ]
  },
  {
   "cell_type": "code",
   "execution_count": 16,
   "metadata": {},
   "outputs": [],
   "source": [
    "df=pd.read_csv('molt.csv')\n",
    "#df dropna\n",
    "df=df.dropna()\n",
    "\n",
    "#df drop rows with error percentage >25\n",
    "\n",
    "#add focal MAE\n",
    "\n",
    "# df['MAE_focal_hull']=abs(df['Focal_Hull']-df['true_length'])\n",
    "# df['MAE_focal_skeleton']=abs(df['Focal_Skeleton']-df['true_length'])\n",
    "# df['MAE_focal_box']=abs(df['Focal_Box']-df['true_length'])\n",
    "# df['MAE_focal_MEC']=abs(df['Focal_MEC']-df['true_length'])\n",
    "\n",
    "# make a table of all the error percentages means and mae both focal and fov\n",
    "\n",
    "# df_error=df[['Error_percentage_Hull_fov','Error_percentage_Skeleton_fov','Error_percentage_Box_fov',\n",
    "#              'Error_percentage_MEC_fov','Error_percentage_Hull_focal','Error_percentage_Skeleton_focal',\n",
    "#              'Error_percentage_Box_focal','Error_percentage_MEC_focal','MAE_Hull_fov','MAE_Skeleton_fov'\n",
    "#              ,'MAE_Box_fov','MAE_MEC_fov','MAE_focal_hull','MAE_focal_skeleton','MAE_focal_box','MAE_focal_MEC']].copy()\n",
    "\n",
    "# #errors between true length and predicted length with sign\n",
    "# df_error.loc[:, 'error_Hull_fov'] = df['Hull_Length_fov'] - df['true_length']\n",
    "# df_error.loc[:, 'error_Skeleton_fov'] = df['Skeleton_Length_fov'] - df['true_length']\n",
    "# df_error.loc[:, 'error_Box_fov'] = df['Box_Length_fov'] - df['true_length']\n",
    "# df_error.loc[:, 'error_MEC_fov'] = df['Diameter_fov'] - df['true_length']\n",
    "# df_error.loc[:, 'error_Hull_focal'] = df['Focal_Hull'] - df['true_length']\n",
    "# df_error.loc[:, 'error_Skeleton_focal'] = df['Focal_Skeleton'] - df['true_length']\n",
    "# df_error.loc[:, 'error_Box_focal'] = df['Focal_Box'] - df['true_length']\n",
    "# df_error.loc[:, 'error_MEC_focal'] = df['Focal_MEC'] - df['true_length']\n",
    "\n",
    "df_error=df[['Error_percentage_Box_fov','MAE_Box_fov','Error_percentage_Box_focal','MAE_Box_focal']].copy()\n",
    "\n",
    "#add error sign\n",
    "df_error.loc[:, 'error_Box_fov'] = df['Box_Length_fov'] - df['true_length']\n",
    "df_error.loc[:, 'error_Box_focal'] = df['Focal_Box'] - df['true_length']\n"
   ]
  },
  {
   "cell_type": "code",
   "execution_count": 6,
   "metadata": {},
   "outputs": [
    {
     "data": {
      "text/plain": [
       "73"
      ]
     },
     "execution_count": 6,
     "metadata": {},
     "output_type": "execute_result"
    }
   ],
   "source": [
    "len(df['image_path'].unique())"
   ]
  },
  {
   "cell_type": "code",
   "execution_count": 17,
   "metadata": {},
   "outputs": [
    {
     "data": {
      "text/plain": [
       "Error_percentage_Box_fov       6.271027\n",
       "MAE_Box_fov                   10.285481\n",
       "Error_percentage_Box_focal     8.511685\n",
       "MAE_Box_focal                 13.915719\n",
       "error_Box_fov                  8.431483\n",
       "error_Box_focal               13.536912\n",
       "dtype: float64"
      ]
     },
     "execution_count": 17,
     "metadata": {},
     "output_type": "execute_result"
    }
   ],
   "source": [
    "# table with the mean error percentage and mean mae  for each column\n",
    "\n",
    "df_error.mean()"
   ]
  },
  {
   "cell_type": "code",
   "execution_count": 18,
   "metadata": {},
   "outputs": [
    {
     "data": {
      "text/plain": [
       "Error_percentage_Box_fov      3.885268\n",
       "MAE_Box_fov                   6.683525\n",
       "Error_percentage_Box_focal    4.977781\n",
       "MAE_Box_focal                 8.596910\n",
       "error_Box_fov                 8.931642\n",
       "error_Box_focal               9.188419\n",
       "dtype: float64"
      ]
     },
     "execution_count": 18,
     "metadata": {},
     "output_type": "execute_result"
    }
   ],
   "source": [
    "df_error.std()"
   ]
  },
  {
   "cell_type": "code",
   "execution_count": 25,
   "metadata": {},
   "outputs": [
    {
     "name": "stdout",
     "output_type": "stream",
     "text": [
      "Plotting Error_percentage_Box_fov for 700...\n"
     ]
    },
    {
     "name": "stderr",
     "output_type": "stream",
     "text": [
      "C:\\Users\\gbo10\\AppData\\Local\\Temp\\ipykernel_74832\\822473121.py:30: SettingWithCopyWarning:\n",
      "\n",
      "\n",
      "A value is trying to be set on a copy of a slice from a DataFrame\n",
      "\n",
      "See the caveats in the documentation: https://pandas.pydata.org/pandas-docs/stable/user_guide/indexing.html#returning-a-view-versus-a-copy\n",
      "\n",
      "C:\\Users\\gbo10\\AppData\\Local\\Temp\\ipykernel_74832\\822473121.py:32: SettingWithCopyWarning:\n",
      "\n",
      "\n",
      "A value is trying to be set on a copy of a slice from a DataFrame.\n",
      "Try using .loc[row_indexer,col_indexer] = value instead\n",
      "\n",
      "See the caveats in the documentation: https://pandas.pydata.org/pandas-docs/stable/user_guide/indexing.html#returning-a-view-versus-a-copy\n",
      "\n",
      "C:\\Users\\gbo10\\AppData\\Local\\Temp\\ipykernel_74832\\822473121.py:33: SettingWithCopyWarning:\n",
      "\n",
      "\n",
      "A value is trying to be set on a copy of a slice from a DataFrame.\n",
      "Try using .loc[row_indexer,col_indexer] = value instead\n",
      "\n",
      "See the caveats in the documentation: https://pandas.pydata.org/pandas-docs/stable/user_guide/indexing.html#returning-a-view-versus-a-copy\n",
      "\n",
      "C:\\Users\\gbo10\\AppData\\Local\\Temp\\ipykernel_74832\\822473121.py:35: SettingWithCopyWarning:\n",
      "\n",
      "\n",
      "A value is trying to be set on a copy of a slice from a DataFrame.\n",
      "Try using .loc[row_indexer,col_indexer] = value instead\n",
      "\n",
      "See the caveats in the documentation: https://pandas.pydata.org/pandas-docs/stable/user_guide/indexing.html#returning-a-view-versus-a-copy\n",
      "\n",
      "C:\\Users\\gbo10\\AppData\\Local\\Temp\\ipykernel_74832\\822473121.py:39: SettingWithCopyWarning:\n",
      "\n",
      "\n",
      "A value is trying to be set on a copy of a slice from a DataFrame.\n",
      "Try using .loc[row_indexer,col_indexer] = value instead\n",
      "\n",
      "See the caveats in the documentation: https://pandas.pydata.org/pandas-docs/stable/user_guide/indexing.html#returning-a-view-versus-a-copy\n",
      "\n",
      "C:\\Users\\gbo10\\AppData\\Local\\Temp\\ipykernel_74832\\822473121.py:40: SettingWithCopyWarning:\n",
      "\n",
      "\n",
      "A value is trying to be set on a copy of a slice from a DataFrame.\n",
      "Try using .loc[row_indexer,col_indexer] = value instead\n",
      "\n",
      "See the caveats in the documentation: https://pandas.pydata.org/pandas-docs/stable/user_guide/indexing.html#returning-a-view-versus-a-copy\n",
      "\n"
     ]
    },
    {
     "data": {
      "application/vnd.plotly.v1+json": {
       "config": {
        "plotlyServerURL": "https://plot.ly"
       },
       "data": [
        {
         "customdata": [
          [
           "undistorted_GX010191_101_1265.jpg",
           0
          ],
          [
           "undistorted_GX010191_102_1277.jpg",
           0
          ],
          [
           "undistorted_GX010191_103_1289.jpg",
           0
          ],
          [
           "undistorted_GX010191_105_1312.jpg",
           0
          ],
          [
           "undistorted_GX010191_107_1330.jpg",
           0
          ],
          [
           "undistorted_GX010191_10_370.jpg",
           0
          ],
          [
           "undistorted_GX010191_110_1355.jpg",
           3
          ],
          [
           "undistorted_GX010191_116_1399.jpg",
           0
          ],
          [
           "undistorted_GX010191_13_439.jpg",
           0
          ],
          [
           "undistorted_GX010191_15_479.jpg",
           0
          ],
          [
           "undistorted_GX010191_16_495.jpg",
           1
          ],
          [
           "undistorted_GX010191_16_495.jpg",
           2
          ],
          [
           "undistorted_GX010191_16_495.jpg",
           3
          ],
          [
           "undistorted_GX010191_17_509.jpg",
           1
          ],
          [
           "undistorted_GX010191_18_521.jpg",
           0
          ],
          [
           "undistorted_GX010191_19_537.jpg",
           0
          ],
          [
           "undistorted_GX010191_29_257.jpg",
           1
          ],
          [
           "undistorted_GX010191_31_283.jpg",
           1
          ],
          [
           "undistorted_GX010191_31_283.jpg",
           2
          ],
          [
           "undistorted_GX010191_32_1049.jpg",
           0
          ],
          [
           "undistorted_GX010191_33_1087.jpg",
           1
          ],
          [
           "undistorted_GX010191_33_331.jpg",
           0
          ],
          [
           "undistorted_GX010191_33_331.jpg",
           2
          ],
          [
           "undistorted_GX010191_34_1128.jpg",
           0
          ],
          [
           "undistorted_GX010191_34_1128.jpg",
           1
          ],
          [
           "undistorted_GX010191_35_1167.jpg",
           0
          ],
          [
           "undistorted_GX010191_35_1167.jpg",
           1
          ],
          [
           "undistorted_GX010191_35_1167.jpg",
           4
          ],
          [
           "undistorted_GX010191_35_367.jpg",
           0
          ],
          [
           "undistorted_GX010191_36_1195.jpg",
           1
          ],
          [
           "undistorted_GX010191_36_381.jpg",
           0
          ],
          [
           "undistorted_GX010191_38_1266.jpg",
           0
          ],
          [
           "undistorted_GX010191_39_416.jpg",
           0
          ],
          [
           "undistorted_GX010191_42_1339.jpg",
           0
          ],
          [
           "undistorted_GX010191_42_1339.jpg",
           1
          ],
          [
           "undistorted_GX010191_42_1339.jpg",
           5
          ],
          [
           "undistorted_GX010191_42_457.jpg",
           0
          ],
          [
           "undistorted_GX010191_42_457.jpg",
           3
          ],
          [
           "undistorted_GX010191_43_1353.jpg",
           0
          ],
          [
           "undistorted_GX010191_43_1353.jpg",
           3
          ],
          [
           "undistorted_GX010191_44_478.jpg",
           0
          ],
          [
           "undistorted_GX010191_44_478.jpg",
           1
          ],
          [
           "undistorted_GX010191_46_497.jpg",
           1
          ],
          [
           "undistorted_GX010191_51_535.jpg",
           0
          ],
          [
           "undistorted_GX010191_5_190.jpg",
           2
          ],
          [
           "undistorted_GX010191_6_219.jpg",
           0
          ],
          [
           "undistorted_GX010191_88_1016.jpg",
           0
          ],
          [
           "undistorted_GX010191_91_1066.jpg",
           2
          ],
          [
           "undistorted_GX010191_92_1087.jpg",
           1
          ],
          [
           "undistorted_GX010191_94_1132.jpg",
           0
          ],
          [
           "undistorted_GX010191_95_1157.jpg",
           0
          ],
          [
           "undistorted_GX010191_95_1157.jpg",
           1
          ],
          [
           "undistorted_GX010191_96_1175.jpg",
           0
          ],
          [
           "undistorted_GX010191_97_1190.jpg",
           0
          ],
          [
           "undistorted_GX010191_98_1211.jpg",
           0
          ],
          [
           "undistorted_GX010191_98_1211.jpg",
           1
          ],
          [
           "undistorted_GX010191_99_1233.jpg",
           1
          ]
         ],
         "hovertemplate": "pond=700<br>center_x=%{x}<br>center_y=%{y}<br>image_path=%{customdata[0]}<br>index=%{customdata[1]}<br>Error_percentage_Box_fov=%{marker.color}<extra></extra>",
         "legendgroup": "700",
         "marker": {
          "color": [
           2.0192594230322087,
           0.0955353877105676,
           4.444417639753747,
           3.574637915592336,
           8.470685594286879,
           1.1271302302546855,
           1.2235822095172089,
           7.400094255627955,
           3.615654954222711,
           0.3709723723723606,
           0.5825964065285265,
           4.247985792459824,
           5.676622667960117,
           3.452950656057949,
           3.855269141508049,
           3.431918063521143,
           12.164651272029186,
           4.189142959611303,
           1.9070811152403568,
           7.269128283929546,
           6.035888768163839,
           4.136728509658541,
           4.279299822283412,
           3.693761265315835,
           9.879476348117656,
           9.231299463722864,
           10.918270702726002,
           9.231299463722864,
           0.5265420272387934,
           8.723299969157065,
           1.5355026800916494,
           1.9514281836025675,
           4.01474439808368,
           2.3549057729150555,
           6.02952821286048,
           1.66670819296478,
           9.351012065377995,
           4.298543077701154,
           4.193489367981629,
           2.383286435151951,
           6.360475951662827,
           1.5841615000976756,
           0.7751037567636893,
           3.96295761879786,
           10.274684421189274,
           8.561683986652595,
           14.105034877406236,
           7.205034999239043,
           6.035888768163839,
           14.959429700436422,
           9.1708407820629,
           7.899896682759182,
           6.190800359827951,
           12.518383666968557,
           7.349504457177892,
           12.759523543029143,
           9.708990678743314
          ],
          "coloraxis": "coloraxis",
          "size": 10,
          "symbol": "square"
         },
         "mode": "markers",
         "name": "700",
         "orientation": "v",
         "showlegend": true,
         "type": "scatter",
         "x": [
          339.99999999999994,
          338.8004753388554,
          342.4698795180723,
          390.4216867469879,
          432.4698795180723,
          389.4578313253012,
          530.4819277108434,
          489.99999999999994,
          472.4698795180723,
          485.4819277108433,
          385.510930440512,
          68.43373493975903,
          41.1379784273814,
          415.96385542168673,
          468.97590361445776,
          535.4819277108434,
          472.6840467338102,
          465.4216867469879,
          416.92771084337346,
          388.91566265060237,
          404.57916627447287,
          500.4819277108433,
          500.4819277108433,
          444.4578313253012,
          408.91566265060237,
          496.27894390060237,
          389.93975903614455,
          496.1544615963855,
          386.075336502259,
          386.4457831325301,
          408.91566265060237,
          341.4457831325301,
          429.4578313253012,
          482.95180722891564,
          330.96385542168673,
          342.4698795180723,
          478.4939759036144,
          484.4578313253012,
          528.9759036144578,
          366.92771084337346,
          481.4457831325301,
          367.95183664344876,
          88.97590361445782,
          530.4819277108434,
          441.1177522590361,
          462.04292756965356,
          393.433734939759,
          394.4578313253012,
          404.57916627447287,
          410.48192771084337,
          481.92771084337346,
          394.93975903614455,
          518.9156626506024,
          537.9518072289156,
          378.91566265060237,
          550.5027532003012,
          357.4096385542168
         ],
         "xaxis": "x",
         "y": [
          163.5542168674699,
          145.464308405497,
          127.04819277108436,
          97.59036144578317,
          98.5542168674699,
          116.50602409638557,
          159.0963855421687,
          212.59036144578315,
          148.5542168674699,
          51.08433734939763,
          100.45027767319277,
          41.08433734939763,
          40.96838525978916,
          68.5542168674699,
          69.57831325301208,
          109.57831325301208,
          174.74722620952562,
          127.59036144578315,
          41.566265060240994,
          246.0843373493976,
          189.05798486916416,
          96.08433734939763,
          96.08433734939763,
          144.57831325301206,
          304.03614457831327,
          154.5642678134413,
          270.5421686746988,
          154.57832796027864,
          116.57633953783886,
          260.5421686746988,
          124.03614457831327,
          163.5542168674699,
          159.03614457831327,
          108.5542168674699,
          162.04819277108436,
          148.5542168674699,
          103.07228915662654,
          100.60240963855426,
          150.54216867469881,
          136.566265060241,
          54.578313253012084,
          156.99698206890062,
          45.06024096385545,
          100.06024096385545,
          296.02376547204443,
          236.70989622552713,
          298.0120481927711,
          226.02409638554218,
          189.05798486916416,
          294.09638554216866,
          141.50602409638557,
          277.04819277108436,
          175.54216867469881,
          206.02409638554218,
          246.566265060241,
          241.66375953030874,
          215
         ],
         "yaxis": "y"
        }
       ],
       "layout": {
        "coloraxis": {
         "colorbar": {
          "title": {
           "text": "Error_percentage_Box_fov"
          }
         },
         "colorscale": [
          [
           0,
           "rgb(0,104,55)"
          ],
          [
           0.1,
           "rgb(26,152,80)"
          ],
          [
           0.2,
           "rgb(102,189,99)"
          ],
          [
           0.3,
           "rgb(166,217,106)"
          ],
          [
           0.4,
           "rgb(217,239,139)"
          ],
          [
           0.5,
           "rgb(255,255,191)"
          ],
          [
           0.6,
           "rgb(254,224,139)"
          ],
          [
           0.7,
           "rgb(253,174,97)"
          ],
          [
           0.8,
           "rgb(244,109,67)"
          ],
          [
           0.9,
           "rgb(215,48,39)"
          ],
          [
           1,
           "rgb(165,0,38)"
          ]
         ]
        },
        "legend": {
         "title": {
          "text": "pond"
         },
         "tracegroupgap": 0,
         "x": 0.01,
         "xanchor": "left",
         "y": 0.99,
         "yanchor": "top"
        },
        "margin": {
         "b": 0,
         "l": 0,
         "r": 0,
         "t": 0
        },
        "template": {
         "data": {
          "bar": [
           {
            "error_x": {
             "color": "#2a3f5f"
            },
            "error_y": {
             "color": "#2a3f5f"
            },
            "marker": {
             "line": {
              "color": "#E5ECF6",
              "width": 0.5
             },
             "pattern": {
              "fillmode": "overlay",
              "size": 10,
              "solidity": 0.2
             }
            },
            "type": "bar"
           }
          ],
          "barpolar": [
           {
            "marker": {
             "line": {
              "color": "#E5ECF6",
              "width": 0.5
             },
             "pattern": {
              "fillmode": "overlay",
              "size": 10,
              "solidity": 0.2
             }
            },
            "type": "barpolar"
           }
          ],
          "carpet": [
           {
            "aaxis": {
             "endlinecolor": "#2a3f5f",
             "gridcolor": "white",
             "linecolor": "white",
             "minorgridcolor": "white",
             "startlinecolor": "#2a3f5f"
            },
            "baxis": {
             "endlinecolor": "#2a3f5f",
             "gridcolor": "white",
             "linecolor": "white",
             "minorgridcolor": "white",
             "startlinecolor": "#2a3f5f"
            },
            "type": "carpet"
           }
          ],
          "choropleth": [
           {
            "colorbar": {
             "outlinewidth": 0,
             "ticks": ""
            },
            "type": "choropleth"
           }
          ],
          "contour": [
           {
            "colorbar": {
             "outlinewidth": 0,
             "ticks": ""
            },
            "colorscale": [
             [
              0,
              "#0d0887"
             ],
             [
              0.1111111111111111,
              "#46039f"
             ],
             [
              0.2222222222222222,
              "#7201a8"
             ],
             [
              0.3333333333333333,
              "#9c179e"
             ],
             [
              0.4444444444444444,
              "#bd3786"
             ],
             [
              0.5555555555555556,
              "#d8576b"
             ],
             [
              0.6666666666666666,
              "#ed7953"
             ],
             [
              0.7777777777777778,
              "#fb9f3a"
             ],
             [
              0.8888888888888888,
              "#fdca26"
             ],
             [
              1,
              "#f0f921"
             ]
            ],
            "type": "contour"
           }
          ],
          "contourcarpet": [
           {
            "colorbar": {
             "outlinewidth": 0,
             "ticks": ""
            },
            "type": "contourcarpet"
           }
          ],
          "heatmap": [
           {
            "colorbar": {
             "outlinewidth": 0,
             "ticks": ""
            },
            "colorscale": [
             [
              0,
              "#0d0887"
             ],
             [
              0.1111111111111111,
              "#46039f"
             ],
             [
              0.2222222222222222,
              "#7201a8"
             ],
             [
              0.3333333333333333,
              "#9c179e"
             ],
             [
              0.4444444444444444,
              "#bd3786"
             ],
             [
              0.5555555555555556,
              "#d8576b"
             ],
             [
              0.6666666666666666,
              "#ed7953"
             ],
             [
              0.7777777777777778,
              "#fb9f3a"
             ],
             [
              0.8888888888888888,
              "#fdca26"
             ],
             [
              1,
              "#f0f921"
             ]
            ],
            "type": "heatmap"
           }
          ],
          "heatmapgl": [
           {
            "colorbar": {
             "outlinewidth": 0,
             "ticks": ""
            },
            "colorscale": [
             [
              0,
              "#0d0887"
             ],
             [
              0.1111111111111111,
              "#46039f"
             ],
             [
              0.2222222222222222,
              "#7201a8"
             ],
             [
              0.3333333333333333,
              "#9c179e"
             ],
             [
              0.4444444444444444,
              "#bd3786"
             ],
             [
              0.5555555555555556,
              "#d8576b"
             ],
             [
              0.6666666666666666,
              "#ed7953"
             ],
             [
              0.7777777777777778,
              "#fb9f3a"
             ],
             [
              0.8888888888888888,
              "#fdca26"
             ],
             [
              1,
              "#f0f921"
             ]
            ],
            "type": "heatmapgl"
           }
          ],
          "histogram": [
           {
            "marker": {
             "pattern": {
              "fillmode": "overlay",
              "size": 10,
              "solidity": 0.2
             }
            },
            "type": "histogram"
           }
          ],
          "histogram2d": [
           {
            "colorbar": {
             "outlinewidth": 0,
             "ticks": ""
            },
            "colorscale": [
             [
              0,
              "#0d0887"
             ],
             [
              0.1111111111111111,
              "#46039f"
             ],
             [
              0.2222222222222222,
              "#7201a8"
             ],
             [
              0.3333333333333333,
              "#9c179e"
             ],
             [
              0.4444444444444444,
              "#bd3786"
             ],
             [
              0.5555555555555556,
              "#d8576b"
             ],
             [
              0.6666666666666666,
              "#ed7953"
             ],
             [
              0.7777777777777778,
              "#fb9f3a"
             ],
             [
              0.8888888888888888,
              "#fdca26"
             ],
             [
              1,
              "#f0f921"
             ]
            ],
            "type": "histogram2d"
           }
          ],
          "histogram2dcontour": [
           {
            "colorbar": {
             "outlinewidth": 0,
             "ticks": ""
            },
            "colorscale": [
             [
              0,
              "#0d0887"
             ],
             [
              0.1111111111111111,
              "#46039f"
             ],
             [
              0.2222222222222222,
              "#7201a8"
             ],
             [
              0.3333333333333333,
              "#9c179e"
             ],
             [
              0.4444444444444444,
              "#bd3786"
             ],
             [
              0.5555555555555556,
              "#d8576b"
             ],
             [
              0.6666666666666666,
              "#ed7953"
             ],
             [
              0.7777777777777778,
              "#fb9f3a"
             ],
             [
              0.8888888888888888,
              "#fdca26"
             ],
             [
              1,
              "#f0f921"
             ]
            ],
            "type": "histogram2dcontour"
           }
          ],
          "mesh3d": [
           {
            "colorbar": {
             "outlinewidth": 0,
             "ticks": ""
            },
            "type": "mesh3d"
           }
          ],
          "parcoords": [
           {
            "line": {
             "colorbar": {
              "outlinewidth": 0,
              "ticks": ""
             }
            },
            "type": "parcoords"
           }
          ],
          "pie": [
           {
            "automargin": true,
            "type": "pie"
           }
          ],
          "scatter": [
           {
            "fillpattern": {
             "fillmode": "overlay",
             "size": 10,
             "solidity": 0.2
            },
            "type": "scatter"
           }
          ],
          "scatter3d": [
           {
            "line": {
             "colorbar": {
              "outlinewidth": 0,
              "ticks": ""
             }
            },
            "marker": {
             "colorbar": {
              "outlinewidth": 0,
              "ticks": ""
             }
            },
            "type": "scatter3d"
           }
          ],
          "scattercarpet": [
           {
            "marker": {
             "colorbar": {
              "outlinewidth": 0,
              "ticks": ""
             }
            },
            "type": "scattercarpet"
           }
          ],
          "scattergeo": [
           {
            "marker": {
             "colorbar": {
              "outlinewidth": 0,
              "ticks": ""
             }
            },
            "type": "scattergeo"
           }
          ],
          "scattergl": [
           {
            "marker": {
             "colorbar": {
              "outlinewidth": 0,
              "ticks": ""
             }
            },
            "type": "scattergl"
           }
          ],
          "scattermapbox": [
           {
            "marker": {
             "colorbar": {
              "outlinewidth": 0,
              "ticks": ""
             }
            },
            "type": "scattermapbox"
           }
          ],
          "scatterpolar": [
           {
            "marker": {
             "colorbar": {
              "outlinewidth": 0,
              "ticks": ""
             }
            },
            "type": "scatterpolar"
           }
          ],
          "scatterpolargl": [
           {
            "marker": {
             "colorbar": {
              "outlinewidth": 0,
              "ticks": ""
             }
            },
            "type": "scatterpolargl"
           }
          ],
          "scatterternary": [
           {
            "marker": {
             "colorbar": {
              "outlinewidth": 0,
              "ticks": ""
             }
            },
            "type": "scatterternary"
           }
          ],
          "surface": [
           {
            "colorbar": {
             "outlinewidth": 0,
             "ticks": ""
            },
            "colorscale": [
             [
              0,
              "#0d0887"
             ],
             [
              0.1111111111111111,
              "#46039f"
             ],
             [
              0.2222222222222222,
              "#7201a8"
             ],
             [
              0.3333333333333333,
              "#9c179e"
             ],
             [
              0.4444444444444444,
              "#bd3786"
             ],
             [
              0.5555555555555556,
              "#d8576b"
             ],
             [
              0.6666666666666666,
              "#ed7953"
             ],
             [
              0.7777777777777778,
              "#fb9f3a"
             ],
             [
              0.8888888888888888,
              "#fdca26"
             ],
             [
              1,
              "#f0f921"
             ]
            ],
            "type": "surface"
           }
          ],
          "table": [
           {
            "cells": {
             "fill": {
              "color": "#EBF0F8"
             },
             "line": {
              "color": "white"
             }
            },
            "header": {
             "fill": {
              "color": "#C8D4E3"
             },
             "line": {
              "color": "white"
             }
            },
            "type": "table"
           }
          ]
         },
         "layout": {
          "annotationdefaults": {
           "arrowcolor": "#2a3f5f",
           "arrowhead": 0,
           "arrowwidth": 1
          },
          "autotypenumbers": "strict",
          "coloraxis": {
           "colorbar": {
            "outlinewidth": 0,
            "ticks": ""
           }
          },
          "colorscale": {
           "diverging": [
            [
             0,
             "#8e0152"
            ],
            [
             0.1,
             "#c51b7d"
            ],
            [
             0.2,
             "#de77ae"
            ],
            [
             0.3,
             "#f1b6da"
            ],
            [
             0.4,
             "#fde0ef"
            ],
            [
             0.5,
             "#f7f7f7"
            ],
            [
             0.6,
             "#e6f5d0"
            ],
            [
             0.7,
             "#b8e186"
            ],
            [
             0.8,
             "#7fbc41"
            ],
            [
             0.9,
             "#4d9221"
            ],
            [
             1,
             "#276419"
            ]
           ],
           "sequential": [
            [
             0,
             "#0d0887"
            ],
            [
             0.1111111111111111,
             "#46039f"
            ],
            [
             0.2222222222222222,
             "#7201a8"
            ],
            [
             0.3333333333333333,
             "#9c179e"
            ],
            [
             0.4444444444444444,
             "#bd3786"
            ],
            [
             0.5555555555555556,
             "#d8576b"
            ],
            [
             0.6666666666666666,
             "#ed7953"
            ],
            [
             0.7777777777777778,
             "#fb9f3a"
            ],
            [
             0.8888888888888888,
             "#fdca26"
            ],
            [
             1,
             "#f0f921"
            ]
           ],
           "sequentialminus": [
            [
             0,
             "#0d0887"
            ],
            [
             0.1111111111111111,
             "#46039f"
            ],
            [
             0.2222222222222222,
             "#7201a8"
            ],
            [
             0.3333333333333333,
             "#9c179e"
            ],
            [
             0.4444444444444444,
             "#bd3786"
            ],
            [
             0.5555555555555556,
             "#d8576b"
            ],
            [
             0.6666666666666666,
             "#ed7953"
            ],
            [
             0.7777777777777778,
             "#fb9f3a"
            ],
            [
             0.8888888888888888,
             "#fdca26"
            ],
            [
             1,
             "#f0f921"
            ]
           ]
          },
          "colorway": [
           "#636efa",
           "#EF553B",
           "#00cc96",
           "#ab63fa",
           "#FFA15A",
           "#19d3f3",
           "#FF6692",
           "#B6E880",
           "#FF97FF",
           "#FECB52"
          ],
          "font": {
           "color": "#2a3f5f"
          },
          "geo": {
           "bgcolor": "white",
           "lakecolor": "white",
           "landcolor": "#E5ECF6",
           "showlakes": true,
           "showland": true,
           "subunitcolor": "white"
          },
          "hoverlabel": {
           "align": "left"
          },
          "hovermode": "closest",
          "mapbox": {
           "style": "light"
          },
          "paper_bgcolor": "white",
          "plot_bgcolor": "#E5ECF6",
          "polar": {
           "angularaxis": {
            "gridcolor": "white",
            "linecolor": "white",
            "ticks": ""
           },
           "bgcolor": "#E5ECF6",
           "radialaxis": {
            "gridcolor": "white",
            "linecolor": "white",
            "ticks": ""
           }
          },
          "scene": {
           "xaxis": {
            "backgroundcolor": "#E5ECF6",
            "gridcolor": "white",
            "gridwidth": 2,
            "linecolor": "white",
            "showbackground": true,
            "ticks": "",
            "zerolinecolor": "white"
           },
           "yaxis": {
            "backgroundcolor": "#E5ECF6",
            "gridcolor": "white",
            "gridwidth": 2,
            "linecolor": "white",
            "showbackground": true,
            "ticks": "",
            "zerolinecolor": "white"
           },
           "zaxis": {
            "backgroundcolor": "#E5ECF6",
            "gridcolor": "white",
            "gridwidth": 2,
            "linecolor": "white",
            "showbackground": true,
            "ticks": "",
            "zerolinecolor": "white"
           }
          },
          "shapedefaults": {
           "line": {
            "color": "#2a3f5f"
           }
          },
          "ternary": {
           "aaxis": {
            "gridcolor": "white",
            "linecolor": "white",
            "ticks": ""
           },
           "baxis": {
            "gridcolor": "white",
            "linecolor": "white",
            "ticks": ""
           },
           "bgcolor": "#E5ECF6",
           "caxis": {
            "gridcolor": "white",
            "linecolor": "white",
            "ticks": ""
           }
          },
          "title": {
           "x": 0.05
          },
          "xaxis": {
           "automargin": true,
           "gridcolor": "white",
           "linecolor": "white",
           "ticks": "",
           "title": {
            "standoff": 15
           },
           "zerolinecolor": "white",
           "zerolinewidth": 2
          },
          "yaxis": {
           "automargin": true,
           "gridcolor": "white",
           "linecolor": "white",
           "ticks": "",
           "title": {
            "standoff": 15
           },
           "zerolinecolor": "white",
           "zerolinewidth": 2
          }
         }
        },
        "title": {
         "text": "Error_percentage_Box_fov of Hull Length Prediction"
        },
        "xaxis": {
         "anchor": "y",
         "domain": [
          0,
          1
         ],
         "title": {
          "text": "center_x"
         }
        },
        "yaxis": {
         "anchor": "x",
         "domain": [
          0,
          1
         ],
         "title": {
          "text": "center_y"
         }
        }
       }
      }
     },
     "metadata": {},
     "output_type": "display_data"
    },
    {
     "name": "stdout",
     "output_type": "stream",
     "text": [
      "Plotting Error_percentage_Box_fov for 410...\n"
     ]
    },
    {
     "data": {
      "application/vnd.plotly.v1+json": {
       "config": {
        "plotlyServerURL": "https://plot.ly"
       },
       "data": [
        {
         "customdata": [
          [
           "undistorted_GX010192_17_1035.jpg",
           0
          ],
          [
           "undistorted_GX010192_25_1553.jpg",
           0
          ],
          [
           "undistorted_GX010192_26_1578.jpg",
           0
          ],
          [
           "undistorted_GX010192_9_675.jpg",
           1
          ],
          [
           "undistorted_GX010193_10_1039.jpg",
           0
          ],
          [
           "undistorted_GX010193_11_1065.jpg",
           0
          ],
          [
           "undistorted_GX010193_17_1264.jpg",
           0
          ],
          [
           "undistorted_GX010193_18_1289.jpg",
           0
          ],
          [
           "undistorted_GX010193_19_1334.jpg",
           0
          ],
          [
           "undistorted_GX010193_20_1365.jpg",
           2
          ],
          [
           "undistorted_GX010193_27_1553.jpg",
           1
          ],
          [
           "undistorted_GX010193_3_251.jpg",
           0
          ],
          [
           "undistorted_GX010193_4_283.jpg",
           1
          ],
          [
           "undistorted_GX010194_15_231.jpg",
           0
          ],
          [
           "undistorted_GX010194_16_240.jpg",
           0
          ],
          [
           "undistorted_GX010194_17_257.jpg",
           1
          ],
          [
           "undistorted_GX010194_18_272.jpg",
           0
          ],
          [
           "undistorted_GX010194_19_285.jpg",
           0
          ],
          [
           "undistorted_GX010194_36_485.jpg",
           1
          ],
          [
           "undistorted_GX010194_37_496.jpg",
           1
          ],
          [
           "undistorted_GX010194_38_504.jpg",
           1
          ],
          [
           "undistorted_GX010194_39_513.jpg",
           1
          ],
          [
           "undistorted_GX010194_46_620.jpg",
           1
          ],
          [
           "undistorted_GX010194_55_768.jpg",
           2
          ],
          [
           "undistorted_GX010194_56_784.jpg",
           0
          ],
          [
           "undistorted_GX010194_57_798.jpg",
           0
          ],
          [
           "undistorted_GX010194_58_810.jpg",
           2
          ],
          [
           "undistorted_GX010194_60_836.jpg",
           0
          ]
         ],
         "hovertemplate": "pond=410<br>center_x=%{x}<br>center_y=%{y}<br>image_path=%{customdata[0]}<br>index=%{customdata[1]}<br>Error_percentage_Box_fov=%{marker.color}<extra></extra>",
         "legendgroup": "410",
         "marker": {
          "color": [
           9.995576975202264,
           6.029656026959413,
           8.709230278516987,
           8.75003880119921,
           2.1363702311357717,
           6.012094470986556,
           4.400974420485165,
           7.343188889161794,
           8.690836193089932,
           0.2335870066045291,
           7.251148821180761,
           11.813800283309112,
           3.8209953732633535,
           9.403713394884884,
           5.249915094170411,
           7.193082692040475,
           8.375292103807274,
           1.7860448685218937,
           1.8352190614587331,
           4.239994459057957,
           5.191871303171348,
           4.244844252403984,
           6.624193976961139,
           6.952753849003446,
           14.870314050795486,
           11.341973891048916,
           13.303496581036285,
           8.682336857065003
          ],
          "coloraxis": "coloraxis",
          "size": 10,
          "symbol": "square"
         },
         "mode": "markers",
         "name": "410",
         "orientation": "v",
         "showlegend": true,
         "type": "scatter",
         "x": [
          255.61564617846383,
          295.78639754329816,
          283.9759036144578,
          337.16390954442767,
          294.39759036144574,
          325.96385542168673,
          359.81821818524094,
          275.6279708678464,
          186.50637707078312,
          89.4578313253012,
          222.95180722891564,
          384.4578313253012,
          407.4698795180723,
          455.96385542168673,
          431.17031602974396,
          422.4698795180723,
          431.92771084337346,
          448.433734939759,
          288.5998093938253,
          290.4216867469879,
          288.433734939759,
          287.64733739646084,
          86.92771084337349,
          365.48192771084337,
          375.4216867469879,
          381.4457831325301,
          385.2791733339608,
          351.2028485033885
         ],
         "xaxis": "x",
         "y": [
          90.0549757624247,
          247.38245217196913,
          126.02409638554218,
          146.40152896743226,
          183.5542168674699,
          126.02409638554218,
          177.3257483057229,
          214.49277579066268,
          214.1999688205949,
          176.56626506024097,
          248.0722891566265,
          281.0240963855422,
          198.0722891566265,
          161.566265060241,
          175.36918180534641,
          150.06024096385545,
          111.566265060241,
          76.08433734939763,
          256.1419383589044,
          208.5542168674699,
          171.566265060241,
          123.57898390436748,
          96.02409638554218,
          227.10843373493978,
          183.0120481927711,
          146.566265060241,
          98.62451760165663,
          281.14065147307986
         ],
         "yaxis": "y"
        }
       ],
       "layout": {
        "coloraxis": {
         "colorbar": {
          "title": {
           "text": "Error_percentage_Box_fov"
          }
         },
         "colorscale": [
          [
           0,
           "rgb(0,104,55)"
          ],
          [
           0.1,
           "rgb(26,152,80)"
          ],
          [
           0.2,
           "rgb(102,189,99)"
          ],
          [
           0.3,
           "rgb(166,217,106)"
          ],
          [
           0.4,
           "rgb(217,239,139)"
          ],
          [
           0.5,
           "rgb(255,255,191)"
          ],
          [
           0.6,
           "rgb(254,224,139)"
          ],
          [
           0.7,
           "rgb(253,174,97)"
          ],
          [
           0.8,
           "rgb(244,109,67)"
          ],
          [
           0.9,
           "rgb(215,48,39)"
          ],
          [
           1,
           "rgb(165,0,38)"
          ]
         ]
        },
        "legend": {
         "title": {
          "text": "pond"
         },
         "tracegroupgap": 0,
         "x": 0.01,
         "xanchor": "left",
         "y": 0.99,
         "yanchor": "top"
        },
        "margin": {
         "b": 0,
         "l": 0,
         "r": 0,
         "t": 0
        },
        "template": {
         "data": {
          "bar": [
           {
            "error_x": {
             "color": "#2a3f5f"
            },
            "error_y": {
             "color": "#2a3f5f"
            },
            "marker": {
             "line": {
              "color": "#E5ECF6",
              "width": 0.5
             },
             "pattern": {
              "fillmode": "overlay",
              "size": 10,
              "solidity": 0.2
             }
            },
            "type": "bar"
           }
          ],
          "barpolar": [
           {
            "marker": {
             "line": {
              "color": "#E5ECF6",
              "width": 0.5
             },
             "pattern": {
              "fillmode": "overlay",
              "size": 10,
              "solidity": 0.2
             }
            },
            "type": "barpolar"
           }
          ],
          "carpet": [
           {
            "aaxis": {
             "endlinecolor": "#2a3f5f",
             "gridcolor": "white",
             "linecolor": "white",
             "minorgridcolor": "white",
             "startlinecolor": "#2a3f5f"
            },
            "baxis": {
             "endlinecolor": "#2a3f5f",
             "gridcolor": "white",
             "linecolor": "white",
             "minorgridcolor": "white",
             "startlinecolor": "#2a3f5f"
            },
            "type": "carpet"
           }
          ],
          "choropleth": [
           {
            "colorbar": {
             "outlinewidth": 0,
             "ticks": ""
            },
            "type": "choropleth"
           }
          ],
          "contour": [
           {
            "colorbar": {
             "outlinewidth": 0,
             "ticks": ""
            },
            "colorscale": [
             [
              0,
              "#0d0887"
             ],
             [
              0.1111111111111111,
              "#46039f"
             ],
             [
              0.2222222222222222,
              "#7201a8"
             ],
             [
              0.3333333333333333,
              "#9c179e"
             ],
             [
              0.4444444444444444,
              "#bd3786"
             ],
             [
              0.5555555555555556,
              "#d8576b"
             ],
             [
              0.6666666666666666,
              "#ed7953"
             ],
             [
              0.7777777777777778,
              "#fb9f3a"
             ],
             [
              0.8888888888888888,
              "#fdca26"
             ],
             [
              1,
              "#f0f921"
             ]
            ],
            "type": "contour"
           }
          ],
          "contourcarpet": [
           {
            "colorbar": {
             "outlinewidth": 0,
             "ticks": ""
            },
            "type": "contourcarpet"
           }
          ],
          "heatmap": [
           {
            "colorbar": {
             "outlinewidth": 0,
             "ticks": ""
            },
            "colorscale": [
             [
              0,
              "#0d0887"
             ],
             [
              0.1111111111111111,
              "#46039f"
             ],
             [
              0.2222222222222222,
              "#7201a8"
             ],
             [
              0.3333333333333333,
              "#9c179e"
             ],
             [
              0.4444444444444444,
              "#bd3786"
             ],
             [
              0.5555555555555556,
              "#d8576b"
             ],
             [
              0.6666666666666666,
              "#ed7953"
             ],
             [
              0.7777777777777778,
              "#fb9f3a"
             ],
             [
              0.8888888888888888,
              "#fdca26"
             ],
             [
              1,
              "#f0f921"
             ]
            ],
            "type": "heatmap"
           }
          ],
          "heatmapgl": [
           {
            "colorbar": {
             "outlinewidth": 0,
             "ticks": ""
            },
            "colorscale": [
             [
              0,
              "#0d0887"
             ],
             [
              0.1111111111111111,
              "#46039f"
             ],
             [
              0.2222222222222222,
              "#7201a8"
             ],
             [
              0.3333333333333333,
              "#9c179e"
             ],
             [
              0.4444444444444444,
              "#bd3786"
             ],
             [
              0.5555555555555556,
              "#d8576b"
             ],
             [
              0.6666666666666666,
              "#ed7953"
             ],
             [
              0.7777777777777778,
              "#fb9f3a"
             ],
             [
              0.8888888888888888,
              "#fdca26"
             ],
             [
              1,
              "#f0f921"
             ]
            ],
            "type": "heatmapgl"
           }
          ],
          "histogram": [
           {
            "marker": {
             "pattern": {
              "fillmode": "overlay",
              "size": 10,
              "solidity": 0.2
             }
            },
            "type": "histogram"
           }
          ],
          "histogram2d": [
           {
            "colorbar": {
             "outlinewidth": 0,
             "ticks": ""
            },
            "colorscale": [
             [
              0,
              "#0d0887"
             ],
             [
              0.1111111111111111,
              "#46039f"
             ],
             [
              0.2222222222222222,
              "#7201a8"
             ],
             [
              0.3333333333333333,
              "#9c179e"
             ],
             [
              0.4444444444444444,
              "#bd3786"
             ],
             [
              0.5555555555555556,
              "#d8576b"
             ],
             [
              0.6666666666666666,
              "#ed7953"
             ],
             [
              0.7777777777777778,
              "#fb9f3a"
             ],
             [
              0.8888888888888888,
              "#fdca26"
             ],
             [
              1,
              "#f0f921"
             ]
            ],
            "type": "histogram2d"
           }
          ],
          "histogram2dcontour": [
           {
            "colorbar": {
             "outlinewidth": 0,
             "ticks": ""
            },
            "colorscale": [
             [
              0,
              "#0d0887"
             ],
             [
              0.1111111111111111,
              "#46039f"
             ],
             [
              0.2222222222222222,
              "#7201a8"
             ],
             [
              0.3333333333333333,
              "#9c179e"
             ],
             [
              0.4444444444444444,
              "#bd3786"
             ],
             [
              0.5555555555555556,
              "#d8576b"
             ],
             [
              0.6666666666666666,
              "#ed7953"
             ],
             [
              0.7777777777777778,
              "#fb9f3a"
             ],
             [
              0.8888888888888888,
              "#fdca26"
             ],
             [
              1,
              "#f0f921"
             ]
            ],
            "type": "histogram2dcontour"
           }
          ],
          "mesh3d": [
           {
            "colorbar": {
             "outlinewidth": 0,
             "ticks": ""
            },
            "type": "mesh3d"
           }
          ],
          "parcoords": [
           {
            "line": {
             "colorbar": {
              "outlinewidth": 0,
              "ticks": ""
             }
            },
            "type": "parcoords"
           }
          ],
          "pie": [
           {
            "automargin": true,
            "type": "pie"
           }
          ],
          "scatter": [
           {
            "fillpattern": {
             "fillmode": "overlay",
             "size": 10,
             "solidity": 0.2
            },
            "type": "scatter"
           }
          ],
          "scatter3d": [
           {
            "line": {
             "colorbar": {
              "outlinewidth": 0,
              "ticks": ""
             }
            },
            "marker": {
             "colorbar": {
              "outlinewidth": 0,
              "ticks": ""
             }
            },
            "type": "scatter3d"
           }
          ],
          "scattercarpet": [
           {
            "marker": {
             "colorbar": {
              "outlinewidth": 0,
              "ticks": ""
             }
            },
            "type": "scattercarpet"
           }
          ],
          "scattergeo": [
           {
            "marker": {
             "colorbar": {
              "outlinewidth": 0,
              "ticks": ""
             }
            },
            "type": "scattergeo"
           }
          ],
          "scattergl": [
           {
            "marker": {
             "colorbar": {
              "outlinewidth": 0,
              "ticks": ""
             }
            },
            "type": "scattergl"
           }
          ],
          "scattermapbox": [
           {
            "marker": {
             "colorbar": {
              "outlinewidth": 0,
              "ticks": ""
             }
            },
            "type": "scattermapbox"
           }
          ],
          "scatterpolar": [
           {
            "marker": {
             "colorbar": {
              "outlinewidth": 0,
              "ticks": ""
             }
            },
            "type": "scatterpolar"
           }
          ],
          "scatterpolargl": [
           {
            "marker": {
             "colorbar": {
              "outlinewidth": 0,
              "ticks": ""
             }
            },
            "type": "scatterpolargl"
           }
          ],
          "scatterternary": [
           {
            "marker": {
             "colorbar": {
              "outlinewidth": 0,
              "ticks": ""
             }
            },
            "type": "scatterternary"
           }
          ],
          "surface": [
           {
            "colorbar": {
             "outlinewidth": 0,
             "ticks": ""
            },
            "colorscale": [
             [
              0,
              "#0d0887"
             ],
             [
              0.1111111111111111,
              "#46039f"
             ],
             [
              0.2222222222222222,
              "#7201a8"
             ],
             [
              0.3333333333333333,
              "#9c179e"
             ],
             [
              0.4444444444444444,
              "#bd3786"
             ],
             [
              0.5555555555555556,
              "#d8576b"
             ],
             [
              0.6666666666666666,
              "#ed7953"
             ],
             [
              0.7777777777777778,
              "#fb9f3a"
             ],
             [
              0.8888888888888888,
              "#fdca26"
             ],
             [
              1,
              "#f0f921"
             ]
            ],
            "type": "surface"
           }
          ],
          "table": [
           {
            "cells": {
             "fill": {
              "color": "#EBF0F8"
             },
             "line": {
              "color": "white"
             }
            },
            "header": {
             "fill": {
              "color": "#C8D4E3"
             },
             "line": {
              "color": "white"
             }
            },
            "type": "table"
           }
          ]
         },
         "layout": {
          "annotationdefaults": {
           "arrowcolor": "#2a3f5f",
           "arrowhead": 0,
           "arrowwidth": 1
          },
          "autotypenumbers": "strict",
          "coloraxis": {
           "colorbar": {
            "outlinewidth": 0,
            "ticks": ""
           }
          },
          "colorscale": {
           "diverging": [
            [
             0,
             "#8e0152"
            ],
            [
             0.1,
             "#c51b7d"
            ],
            [
             0.2,
             "#de77ae"
            ],
            [
             0.3,
             "#f1b6da"
            ],
            [
             0.4,
             "#fde0ef"
            ],
            [
             0.5,
             "#f7f7f7"
            ],
            [
             0.6,
             "#e6f5d0"
            ],
            [
             0.7,
             "#b8e186"
            ],
            [
             0.8,
             "#7fbc41"
            ],
            [
             0.9,
             "#4d9221"
            ],
            [
             1,
             "#276419"
            ]
           ],
           "sequential": [
            [
             0,
             "#0d0887"
            ],
            [
             0.1111111111111111,
             "#46039f"
            ],
            [
             0.2222222222222222,
             "#7201a8"
            ],
            [
             0.3333333333333333,
             "#9c179e"
            ],
            [
             0.4444444444444444,
             "#bd3786"
            ],
            [
             0.5555555555555556,
             "#d8576b"
            ],
            [
             0.6666666666666666,
             "#ed7953"
            ],
            [
             0.7777777777777778,
             "#fb9f3a"
            ],
            [
             0.8888888888888888,
             "#fdca26"
            ],
            [
             1,
             "#f0f921"
            ]
           ],
           "sequentialminus": [
            [
             0,
             "#0d0887"
            ],
            [
             0.1111111111111111,
             "#46039f"
            ],
            [
             0.2222222222222222,
             "#7201a8"
            ],
            [
             0.3333333333333333,
             "#9c179e"
            ],
            [
             0.4444444444444444,
             "#bd3786"
            ],
            [
             0.5555555555555556,
             "#d8576b"
            ],
            [
             0.6666666666666666,
             "#ed7953"
            ],
            [
             0.7777777777777778,
             "#fb9f3a"
            ],
            [
             0.8888888888888888,
             "#fdca26"
            ],
            [
             1,
             "#f0f921"
            ]
           ]
          },
          "colorway": [
           "#636efa",
           "#EF553B",
           "#00cc96",
           "#ab63fa",
           "#FFA15A",
           "#19d3f3",
           "#FF6692",
           "#B6E880",
           "#FF97FF",
           "#FECB52"
          ],
          "font": {
           "color": "#2a3f5f"
          },
          "geo": {
           "bgcolor": "white",
           "lakecolor": "white",
           "landcolor": "#E5ECF6",
           "showlakes": true,
           "showland": true,
           "subunitcolor": "white"
          },
          "hoverlabel": {
           "align": "left"
          },
          "hovermode": "closest",
          "mapbox": {
           "style": "light"
          },
          "paper_bgcolor": "white",
          "plot_bgcolor": "#E5ECF6",
          "polar": {
           "angularaxis": {
            "gridcolor": "white",
            "linecolor": "white",
            "ticks": ""
           },
           "bgcolor": "#E5ECF6",
           "radialaxis": {
            "gridcolor": "white",
            "linecolor": "white",
            "ticks": ""
           }
          },
          "scene": {
           "xaxis": {
            "backgroundcolor": "#E5ECF6",
            "gridcolor": "white",
            "gridwidth": 2,
            "linecolor": "white",
            "showbackground": true,
            "ticks": "",
            "zerolinecolor": "white"
           },
           "yaxis": {
            "backgroundcolor": "#E5ECF6",
            "gridcolor": "white",
            "gridwidth": 2,
            "linecolor": "white",
            "showbackground": true,
            "ticks": "",
            "zerolinecolor": "white"
           },
           "zaxis": {
            "backgroundcolor": "#E5ECF6",
            "gridcolor": "white",
            "gridwidth": 2,
            "linecolor": "white",
            "showbackground": true,
            "ticks": "",
            "zerolinecolor": "white"
           }
          },
          "shapedefaults": {
           "line": {
            "color": "#2a3f5f"
           }
          },
          "ternary": {
           "aaxis": {
            "gridcolor": "white",
            "linecolor": "white",
            "ticks": ""
           },
           "baxis": {
            "gridcolor": "white",
            "linecolor": "white",
            "ticks": ""
           },
           "bgcolor": "#E5ECF6",
           "caxis": {
            "gridcolor": "white",
            "linecolor": "white",
            "ticks": ""
           }
          },
          "title": {
           "x": 0.05
          },
          "xaxis": {
           "automargin": true,
           "gridcolor": "white",
           "linecolor": "white",
           "ticks": "",
           "title": {
            "standoff": 15
           },
           "zerolinecolor": "white",
           "zerolinewidth": 2
          },
          "yaxis": {
           "automargin": true,
           "gridcolor": "white",
           "linecolor": "white",
           "ticks": "",
           "title": {
            "standoff": 15
           },
           "zerolinecolor": "white",
           "zerolinewidth": 2
          }
         }
        },
        "title": {
         "text": "Error_percentage_Box_fov of Hull Length Prediction"
        },
        "xaxis": {
         "anchor": "y",
         "domain": [
          0,
          1
         ],
         "title": {
          "text": "center_x"
         }
        },
        "yaxis": {
         "anchor": "x",
         "domain": [
          0,
          1
         ],
         "title": {
          "text": "center_y"
         }
        }
       }
      }
     },
     "metadata": {},
     "output_type": "display_data"
    },
    {
     "name": "stdout",
     "output_type": "stream",
     "text": [
      "Plotting MAE_Box_fov for 700...\n"
     ]
    },
    {
     "data": {
      "application/vnd.plotly.v1+json": {
       "config": {
        "plotlyServerURL": "https://plot.ly"
       },
       "data": [
        {
         "customdata": [
          [
           "undistorted_GX010191_101_1265.jpg",
           0
          ],
          [
           "undistorted_GX010191_102_1277.jpg",
           0
          ],
          [
           "undistorted_GX010191_103_1289.jpg",
           0
          ],
          [
           "undistorted_GX010191_105_1312.jpg",
           0
          ],
          [
           "undistorted_GX010191_107_1330.jpg",
           0
          ],
          [
           "undistorted_GX010191_10_370.jpg",
           0
          ],
          [
           "undistorted_GX010191_110_1355.jpg",
           3
          ],
          [
           "undistorted_GX010191_116_1399.jpg",
           0
          ],
          [
           "undistorted_GX010191_13_439.jpg",
           0
          ],
          [
           "undistorted_GX010191_15_479.jpg",
           0
          ],
          [
           "undistorted_GX010191_16_495.jpg",
           1
          ],
          [
           "undistorted_GX010191_16_495.jpg",
           2
          ],
          [
           "undistorted_GX010191_16_495.jpg",
           3
          ],
          [
           "undistorted_GX010191_17_509.jpg",
           1
          ],
          [
           "undistorted_GX010191_18_521.jpg",
           0
          ],
          [
           "undistorted_GX010191_19_537.jpg",
           0
          ],
          [
           "undistorted_GX010191_29_257.jpg",
           1
          ],
          [
           "undistorted_GX010191_31_283.jpg",
           1
          ],
          [
           "undistorted_GX010191_31_283.jpg",
           2
          ],
          [
           "undistorted_GX010191_32_1049.jpg",
           0
          ],
          [
           "undistorted_GX010191_33_1087.jpg",
           1
          ],
          [
           "undistorted_GX010191_33_331.jpg",
           0
          ],
          [
           "undistorted_GX010191_33_331.jpg",
           2
          ],
          [
           "undistorted_GX010191_34_1128.jpg",
           0
          ],
          [
           "undistorted_GX010191_34_1128.jpg",
           1
          ],
          [
           "undistorted_GX010191_35_1167.jpg",
           0
          ],
          [
           "undistorted_GX010191_35_1167.jpg",
           1
          ],
          [
           "undistorted_GX010191_35_1167.jpg",
           4
          ],
          [
           "undistorted_GX010191_35_367.jpg",
           0
          ],
          [
           "undistorted_GX010191_36_1195.jpg",
           1
          ],
          [
           "undistorted_GX010191_36_381.jpg",
           0
          ],
          [
           "undistorted_GX010191_38_1266.jpg",
           0
          ],
          [
           "undistorted_GX010191_39_416.jpg",
           0
          ],
          [
           "undistorted_GX010191_42_1339.jpg",
           0
          ],
          [
           "undistorted_GX010191_42_1339.jpg",
           1
          ],
          [
           "undistorted_GX010191_42_1339.jpg",
           5
          ],
          [
           "undistorted_GX010191_42_457.jpg",
           0
          ],
          [
           "undistorted_GX010191_42_457.jpg",
           3
          ],
          [
           "undistorted_GX010191_43_1353.jpg",
           0
          ],
          [
           "undistorted_GX010191_43_1353.jpg",
           3
          ],
          [
           "undistorted_GX010191_44_478.jpg",
           0
          ],
          [
           "undistorted_GX010191_44_478.jpg",
           1
          ],
          [
           "undistorted_GX010191_46_497.jpg",
           1
          ],
          [
           "undistorted_GX010191_51_535.jpg",
           0
          ],
          [
           "undistorted_GX010191_5_190.jpg",
           2
          ],
          [
           "undistorted_GX010191_6_219.jpg",
           0
          ],
          [
           "undistorted_GX010191_88_1016.jpg",
           0
          ],
          [
           "undistorted_GX010191_91_1066.jpg",
           2
          ],
          [
           "undistorted_GX010191_92_1087.jpg",
           1
          ],
          [
           "undistorted_GX010191_94_1132.jpg",
           0
          ],
          [
           "undistorted_GX010191_95_1157.jpg",
           0
          ],
          [
           "undistorted_GX010191_95_1157.jpg",
           1
          ],
          [
           "undistorted_GX010191_96_1175.jpg",
           0
          ],
          [
           "undistorted_GX010191_97_1190.jpg",
           0
          ],
          [
           "undistorted_GX010191_98_1211.jpg",
           0
          ],
          [
           "undistorted_GX010191_98_1211.jpg",
           1
          ],
          [
           "undistorted_GX010191_99_1233.jpg",
           1
          ]
         ],
         "hovertemplate": "pond=700<br>center_x=%{x}<br>center_y=%{y}<br>image_path=%{customdata[0]}<br>index=%{customdata[1]}<br>MAE_Box_fov=%{marker.color}<extra></extra>",
         "legendgroup": "700",
         "marker": {
          "color": [
           2.8875409749360585,
           0.1366156044261117,
           6.355517224847858,
           5.111732219297039,
           12.113080399830238,
           1.6117962292642003,
           1.7497225596096089,
           13.320169660130318,
           5.170386584538477,
           0.5304904924924756,
           1.0486735317513478,
           6.0746196832175485,
           8.117570415182968,
           6.215311180904308,
           6.9394844547144885,
           6.177452514338057,
           21.896372289652533,
           7.540457327300345,
           2.7271259947937097,
           13.084430911073184,
           10.86459978269491,
           7.446111317385373,
           7.702739680110142,
           6.648770277568502,
           14.127651177808248,
           16.616339034701156,
           15.613127104898185,
           16.616339034701156,
           0.7529550989514746,
           12.474318955894605,
           2.1957688325310585,
           2.790542302551671,
           5.741084489259663,
           3.367515255268529,
           10.853150783148864,
           2.3833927159396358,
           13.371947253490532,
           6.14691660111265,
           5.9966897962137296,
           4.289915583273512,
           9.095480610877845,
           2.851490700175816,
           1.1083983721720756,
           7.133323713836148,
           18.49443195814069,
           15.41103117597467,
           25.389062779331223,
           12.969062998630278,
           10.86459978269491,
           21.391984471624085,
           16.50751340771322,
           11.29685225634563,
           11.143440647690312,
           22.533090600543403,
           10.509791373764386,
           22.96714237745246,
           13.883856670602938
          ],
          "coloraxis": "coloraxis",
          "size": 10,
          "symbol": "square"
         },
         "mode": "markers",
         "name": "700",
         "orientation": "v",
         "showlegend": true,
         "type": "scatter",
         "x": [
          339.99999999999994,
          338.8004753388554,
          342.4698795180723,
          390.4216867469879,
          432.4698795180723,
          389.4578313253012,
          530.4819277108434,
          489.99999999999994,
          472.4698795180723,
          485.4819277108433,
          385.510930440512,
          68.43373493975903,
          41.1379784273814,
          415.96385542168673,
          468.97590361445776,
          535.4819277108434,
          472.6840467338102,
          465.4216867469879,
          416.92771084337346,
          388.91566265060237,
          404.57916627447287,
          500.4819277108433,
          500.4819277108433,
          444.4578313253012,
          408.91566265060237,
          496.27894390060237,
          389.93975903614455,
          496.1544615963855,
          386.075336502259,
          386.4457831325301,
          408.91566265060237,
          341.4457831325301,
          429.4578313253012,
          482.95180722891564,
          330.96385542168673,
          342.4698795180723,
          478.4939759036144,
          484.4578313253012,
          528.9759036144578,
          366.92771084337346,
          481.4457831325301,
          367.95183664344876,
          88.97590361445782,
          530.4819277108434,
          441.1177522590361,
          462.04292756965356,
          393.433734939759,
          394.4578313253012,
          404.57916627447287,
          410.48192771084337,
          481.92771084337346,
          394.93975903614455,
          518.9156626506024,
          537.9518072289156,
          378.91566265060237,
          550.5027532003012,
          357.4096385542168
         ],
         "xaxis": "x",
         "y": [
          163.5542168674699,
          145.464308405497,
          127.04819277108436,
          97.59036144578317,
          98.5542168674699,
          116.50602409638557,
          159.0963855421687,
          212.59036144578315,
          148.5542168674699,
          51.08433734939763,
          100.45027767319277,
          41.08433734939763,
          40.96838525978916,
          68.5542168674699,
          69.57831325301208,
          109.57831325301208,
          174.74722620952562,
          127.59036144578315,
          41.566265060240994,
          246.0843373493976,
          189.05798486916416,
          96.08433734939763,
          96.08433734939763,
          144.57831325301206,
          304.03614457831327,
          154.5642678134413,
          270.5421686746988,
          154.57832796027864,
          116.57633953783886,
          260.5421686746988,
          124.03614457831327,
          163.5542168674699,
          159.03614457831327,
          108.5542168674699,
          162.04819277108436,
          148.5542168674699,
          103.07228915662654,
          100.60240963855426,
          150.54216867469881,
          136.566265060241,
          54.578313253012084,
          156.99698206890062,
          45.06024096385545,
          100.06024096385545,
          296.02376547204443,
          236.70989622552713,
          298.0120481927711,
          226.02409638554218,
          189.05798486916416,
          294.09638554216866,
          141.50602409638557,
          277.04819277108436,
          175.54216867469881,
          206.02409638554218,
          246.566265060241,
          241.66375953030874,
          215
         ],
         "yaxis": "y"
        }
       ],
       "layout": {
        "coloraxis": {
         "colorbar": {
          "title": {
           "text": "MAE_Box_fov"
          }
         },
         "colorscale": [
          [
           0,
           "rgb(0,104,55)"
          ],
          [
           0.1,
           "rgb(26,152,80)"
          ],
          [
           0.2,
           "rgb(102,189,99)"
          ],
          [
           0.3,
           "rgb(166,217,106)"
          ],
          [
           0.4,
           "rgb(217,239,139)"
          ],
          [
           0.5,
           "rgb(255,255,191)"
          ],
          [
           0.6,
           "rgb(254,224,139)"
          ],
          [
           0.7,
           "rgb(253,174,97)"
          ],
          [
           0.8,
           "rgb(244,109,67)"
          ],
          [
           0.9,
           "rgb(215,48,39)"
          ],
          [
           1,
           "rgb(165,0,38)"
          ]
         ]
        },
        "legend": {
         "title": {
          "text": "pond"
         },
         "tracegroupgap": 0,
         "x": 0.01,
         "xanchor": "left",
         "y": 0.99,
         "yanchor": "top"
        },
        "margin": {
         "b": 0,
         "l": 0,
         "r": 0,
         "t": 0
        },
        "template": {
         "data": {
          "bar": [
           {
            "error_x": {
             "color": "#2a3f5f"
            },
            "error_y": {
             "color": "#2a3f5f"
            },
            "marker": {
             "line": {
              "color": "#E5ECF6",
              "width": 0.5
             },
             "pattern": {
              "fillmode": "overlay",
              "size": 10,
              "solidity": 0.2
             }
            },
            "type": "bar"
           }
          ],
          "barpolar": [
           {
            "marker": {
             "line": {
              "color": "#E5ECF6",
              "width": 0.5
             },
             "pattern": {
              "fillmode": "overlay",
              "size": 10,
              "solidity": 0.2
             }
            },
            "type": "barpolar"
           }
          ],
          "carpet": [
           {
            "aaxis": {
             "endlinecolor": "#2a3f5f",
             "gridcolor": "white",
             "linecolor": "white",
             "minorgridcolor": "white",
             "startlinecolor": "#2a3f5f"
            },
            "baxis": {
             "endlinecolor": "#2a3f5f",
             "gridcolor": "white",
             "linecolor": "white",
             "minorgridcolor": "white",
             "startlinecolor": "#2a3f5f"
            },
            "type": "carpet"
           }
          ],
          "choropleth": [
           {
            "colorbar": {
             "outlinewidth": 0,
             "ticks": ""
            },
            "type": "choropleth"
           }
          ],
          "contour": [
           {
            "colorbar": {
             "outlinewidth": 0,
             "ticks": ""
            },
            "colorscale": [
             [
              0,
              "#0d0887"
             ],
             [
              0.1111111111111111,
              "#46039f"
             ],
             [
              0.2222222222222222,
              "#7201a8"
             ],
             [
              0.3333333333333333,
              "#9c179e"
             ],
             [
              0.4444444444444444,
              "#bd3786"
             ],
             [
              0.5555555555555556,
              "#d8576b"
             ],
             [
              0.6666666666666666,
              "#ed7953"
             ],
             [
              0.7777777777777778,
              "#fb9f3a"
             ],
             [
              0.8888888888888888,
              "#fdca26"
             ],
             [
              1,
              "#f0f921"
             ]
            ],
            "type": "contour"
           }
          ],
          "contourcarpet": [
           {
            "colorbar": {
             "outlinewidth": 0,
             "ticks": ""
            },
            "type": "contourcarpet"
           }
          ],
          "heatmap": [
           {
            "colorbar": {
             "outlinewidth": 0,
             "ticks": ""
            },
            "colorscale": [
             [
              0,
              "#0d0887"
             ],
             [
              0.1111111111111111,
              "#46039f"
             ],
             [
              0.2222222222222222,
              "#7201a8"
             ],
             [
              0.3333333333333333,
              "#9c179e"
             ],
             [
              0.4444444444444444,
              "#bd3786"
             ],
             [
              0.5555555555555556,
              "#d8576b"
             ],
             [
              0.6666666666666666,
              "#ed7953"
             ],
             [
              0.7777777777777778,
              "#fb9f3a"
             ],
             [
              0.8888888888888888,
              "#fdca26"
             ],
             [
              1,
              "#f0f921"
             ]
            ],
            "type": "heatmap"
           }
          ],
          "heatmapgl": [
           {
            "colorbar": {
             "outlinewidth": 0,
             "ticks": ""
            },
            "colorscale": [
             [
              0,
              "#0d0887"
             ],
             [
              0.1111111111111111,
              "#46039f"
             ],
             [
              0.2222222222222222,
              "#7201a8"
             ],
             [
              0.3333333333333333,
              "#9c179e"
             ],
             [
              0.4444444444444444,
              "#bd3786"
             ],
             [
              0.5555555555555556,
              "#d8576b"
             ],
             [
              0.6666666666666666,
              "#ed7953"
             ],
             [
              0.7777777777777778,
              "#fb9f3a"
             ],
             [
              0.8888888888888888,
              "#fdca26"
             ],
             [
              1,
              "#f0f921"
             ]
            ],
            "type": "heatmapgl"
           }
          ],
          "histogram": [
           {
            "marker": {
             "pattern": {
              "fillmode": "overlay",
              "size": 10,
              "solidity": 0.2
             }
            },
            "type": "histogram"
           }
          ],
          "histogram2d": [
           {
            "colorbar": {
             "outlinewidth": 0,
             "ticks": ""
            },
            "colorscale": [
             [
              0,
              "#0d0887"
             ],
             [
              0.1111111111111111,
              "#46039f"
             ],
             [
              0.2222222222222222,
              "#7201a8"
             ],
             [
              0.3333333333333333,
              "#9c179e"
             ],
             [
              0.4444444444444444,
              "#bd3786"
             ],
             [
              0.5555555555555556,
              "#d8576b"
             ],
             [
              0.6666666666666666,
              "#ed7953"
             ],
             [
              0.7777777777777778,
              "#fb9f3a"
             ],
             [
              0.8888888888888888,
              "#fdca26"
             ],
             [
              1,
              "#f0f921"
             ]
            ],
            "type": "histogram2d"
           }
          ],
          "histogram2dcontour": [
           {
            "colorbar": {
             "outlinewidth": 0,
             "ticks": ""
            },
            "colorscale": [
             [
              0,
              "#0d0887"
             ],
             [
              0.1111111111111111,
              "#46039f"
             ],
             [
              0.2222222222222222,
              "#7201a8"
             ],
             [
              0.3333333333333333,
              "#9c179e"
             ],
             [
              0.4444444444444444,
              "#bd3786"
             ],
             [
              0.5555555555555556,
              "#d8576b"
             ],
             [
              0.6666666666666666,
              "#ed7953"
             ],
             [
              0.7777777777777778,
              "#fb9f3a"
             ],
             [
              0.8888888888888888,
              "#fdca26"
             ],
             [
              1,
              "#f0f921"
             ]
            ],
            "type": "histogram2dcontour"
           }
          ],
          "mesh3d": [
           {
            "colorbar": {
             "outlinewidth": 0,
             "ticks": ""
            },
            "type": "mesh3d"
           }
          ],
          "parcoords": [
           {
            "line": {
             "colorbar": {
              "outlinewidth": 0,
              "ticks": ""
             }
            },
            "type": "parcoords"
           }
          ],
          "pie": [
           {
            "automargin": true,
            "type": "pie"
           }
          ],
          "scatter": [
           {
            "fillpattern": {
             "fillmode": "overlay",
             "size": 10,
             "solidity": 0.2
            },
            "type": "scatter"
           }
          ],
          "scatter3d": [
           {
            "line": {
             "colorbar": {
              "outlinewidth": 0,
              "ticks": ""
             }
            },
            "marker": {
             "colorbar": {
              "outlinewidth": 0,
              "ticks": ""
             }
            },
            "type": "scatter3d"
           }
          ],
          "scattercarpet": [
           {
            "marker": {
             "colorbar": {
              "outlinewidth": 0,
              "ticks": ""
             }
            },
            "type": "scattercarpet"
           }
          ],
          "scattergeo": [
           {
            "marker": {
             "colorbar": {
              "outlinewidth": 0,
              "ticks": ""
             }
            },
            "type": "scattergeo"
           }
          ],
          "scattergl": [
           {
            "marker": {
             "colorbar": {
              "outlinewidth": 0,
              "ticks": ""
             }
            },
            "type": "scattergl"
           }
          ],
          "scattermapbox": [
           {
            "marker": {
             "colorbar": {
              "outlinewidth": 0,
              "ticks": ""
             }
            },
            "type": "scattermapbox"
           }
          ],
          "scatterpolar": [
           {
            "marker": {
             "colorbar": {
              "outlinewidth": 0,
              "ticks": ""
             }
            },
            "type": "scatterpolar"
           }
          ],
          "scatterpolargl": [
           {
            "marker": {
             "colorbar": {
              "outlinewidth": 0,
              "ticks": ""
             }
            },
            "type": "scatterpolargl"
           }
          ],
          "scatterternary": [
           {
            "marker": {
             "colorbar": {
              "outlinewidth": 0,
              "ticks": ""
             }
            },
            "type": "scatterternary"
           }
          ],
          "surface": [
           {
            "colorbar": {
             "outlinewidth": 0,
             "ticks": ""
            },
            "colorscale": [
             [
              0,
              "#0d0887"
             ],
             [
              0.1111111111111111,
              "#46039f"
             ],
             [
              0.2222222222222222,
              "#7201a8"
             ],
             [
              0.3333333333333333,
              "#9c179e"
             ],
             [
              0.4444444444444444,
              "#bd3786"
             ],
             [
              0.5555555555555556,
              "#d8576b"
             ],
             [
              0.6666666666666666,
              "#ed7953"
             ],
             [
              0.7777777777777778,
              "#fb9f3a"
             ],
             [
              0.8888888888888888,
              "#fdca26"
             ],
             [
              1,
              "#f0f921"
             ]
            ],
            "type": "surface"
           }
          ],
          "table": [
           {
            "cells": {
             "fill": {
              "color": "#EBF0F8"
             },
             "line": {
              "color": "white"
             }
            },
            "header": {
             "fill": {
              "color": "#C8D4E3"
             },
             "line": {
              "color": "white"
             }
            },
            "type": "table"
           }
          ]
         },
         "layout": {
          "annotationdefaults": {
           "arrowcolor": "#2a3f5f",
           "arrowhead": 0,
           "arrowwidth": 1
          },
          "autotypenumbers": "strict",
          "coloraxis": {
           "colorbar": {
            "outlinewidth": 0,
            "ticks": ""
           }
          },
          "colorscale": {
           "diverging": [
            [
             0,
             "#8e0152"
            ],
            [
             0.1,
             "#c51b7d"
            ],
            [
             0.2,
             "#de77ae"
            ],
            [
             0.3,
             "#f1b6da"
            ],
            [
             0.4,
             "#fde0ef"
            ],
            [
             0.5,
             "#f7f7f7"
            ],
            [
             0.6,
             "#e6f5d0"
            ],
            [
             0.7,
             "#b8e186"
            ],
            [
             0.8,
             "#7fbc41"
            ],
            [
             0.9,
             "#4d9221"
            ],
            [
             1,
             "#276419"
            ]
           ],
           "sequential": [
            [
             0,
             "#0d0887"
            ],
            [
             0.1111111111111111,
             "#46039f"
            ],
            [
             0.2222222222222222,
             "#7201a8"
            ],
            [
             0.3333333333333333,
             "#9c179e"
            ],
            [
             0.4444444444444444,
             "#bd3786"
            ],
            [
             0.5555555555555556,
             "#d8576b"
            ],
            [
             0.6666666666666666,
             "#ed7953"
            ],
            [
             0.7777777777777778,
             "#fb9f3a"
            ],
            [
             0.8888888888888888,
             "#fdca26"
            ],
            [
             1,
             "#f0f921"
            ]
           ],
           "sequentialminus": [
            [
             0,
             "#0d0887"
            ],
            [
             0.1111111111111111,
             "#46039f"
            ],
            [
             0.2222222222222222,
             "#7201a8"
            ],
            [
             0.3333333333333333,
             "#9c179e"
            ],
            [
             0.4444444444444444,
             "#bd3786"
            ],
            [
             0.5555555555555556,
             "#d8576b"
            ],
            [
             0.6666666666666666,
             "#ed7953"
            ],
            [
             0.7777777777777778,
             "#fb9f3a"
            ],
            [
             0.8888888888888888,
             "#fdca26"
            ],
            [
             1,
             "#f0f921"
            ]
           ]
          },
          "colorway": [
           "#636efa",
           "#EF553B",
           "#00cc96",
           "#ab63fa",
           "#FFA15A",
           "#19d3f3",
           "#FF6692",
           "#B6E880",
           "#FF97FF",
           "#FECB52"
          ],
          "font": {
           "color": "#2a3f5f"
          },
          "geo": {
           "bgcolor": "white",
           "lakecolor": "white",
           "landcolor": "#E5ECF6",
           "showlakes": true,
           "showland": true,
           "subunitcolor": "white"
          },
          "hoverlabel": {
           "align": "left"
          },
          "hovermode": "closest",
          "mapbox": {
           "style": "light"
          },
          "paper_bgcolor": "white",
          "plot_bgcolor": "#E5ECF6",
          "polar": {
           "angularaxis": {
            "gridcolor": "white",
            "linecolor": "white",
            "ticks": ""
           },
           "bgcolor": "#E5ECF6",
           "radialaxis": {
            "gridcolor": "white",
            "linecolor": "white",
            "ticks": ""
           }
          },
          "scene": {
           "xaxis": {
            "backgroundcolor": "#E5ECF6",
            "gridcolor": "white",
            "gridwidth": 2,
            "linecolor": "white",
            "showbackground": true,
            "ticks": "",
            "zerolinecolor": "white"
           },
           "yaxis": {
            "backgroundcolor": "#E5ECF6",
            "gridcolor": "white",
            "gridwidth": 2,
            "linecolor": "white",
            "showbackground": true,
            "ticks": "",
            "zerolinecolor": "white"
           },
           "zaxis": {
            "backgroundcolor": "#E5ECF6",
            "gridcolor": "white",
            "gridwidth": 2,
            "linecolor": "white",
            "showbackground": true,
            "ticks": "",
            "zerolinecolor": "white"
           }
          },
          "shapedefaults": {
           "line": {
            "color": "#2a3f5f"
           }
          },
          "ternary": {
           "aaxis": {
            "gridcolor": "white",
            "linecolor": "white",
            "ticks": ""
           },
           "baxis": {
            "gridcolor": "white",
            "linecolor": "white",
            "ticks": ""
           },
           "bgcolor": "#E5ECF6",
           "caxis": {
            "gridcolor": "white",
            "linecolor": "white",
            "ticks": ""
           }
          },
          "title": {
           "x": 0.05
          },
          "xaxis": {
           "automargin": true,
           "gridcolor": "white",
           "linecolor": "white",
           "ticks": "",
           "title": {
            "standoff": 15
           },
           "zerolinecolor": "white",
           "zerolinewidth": 2
          },
          "yaxis": {
           "automargin": true,
           "gridcolor": "white",
           "linecolor": "white",
           "ticks": "",
           "title": {
            "standoff": 15
           },
           "zerolinecolor": "white",
           "zerolinewidth": 2
          }
         }
        },
        "title": {
         "text": "MAE_Box_fov of Hull Length Prediction"
        },
        "xaxis": {
         "anchor": "y",
         "domain": [
          0,
          1
         ],
         "title": {
          "text": "center_x"
         }
        },
        "yaxis": {
         "anchor": "x",
         "domain": [
          0,
          1
         ],
         "title": {
          "text": "center_y"
         }
        }
       }
      }
     },
     "metadata": {},
     "output_type": "display_data"
    },
    {
     "name": "stdout",
     "output_type": "stream",
     "text": [
      "Plotting MAE_Box_fov for 410...\n"
     ]
    },
    {
     "data": {
      "application/vnd.plotly.v1+json": {
       "config": {
        "plotlyServerURL": "https://plot.ly"
       },
       "data": [
        {
         "customdata": [
          [
           "undistorted_GX010192_17_1035.jpg",
           0
          ],
          [
           "undistorted_GX010192_25_1553.jpg",
           0
          ],
          [
           "undistorted_GX010192_26_1578.jpg",
           0
          ],
          [
           "undistorted_GX010192_9_675.jpg",
           1
          ],
          [
           "undistorted_GX010193_10_1039.jpg",
           0
          ],
          [
           "undistorted_GX010193_11_1065.jpg",
           0
          ],
          [
           "undistorted_GX010193_17_1264.jpg",
           0
          ],
          [
           "undistorted_GX010193_18_1289.jpg",
           0
          ],
          [
           "undistorted_GX010193_19_1334.jpg",
           0
          ],
          [
           "undistorted_GX010193_20_1365.jpg",
           2
          ],
          [
           "undistorted_GX010193_27_1553.jpg",
           1
          ],
          [
           "undistorted_GX010193_3_251.jpg",
           0
          ],
          [
           "undistorted_GX010193_4_283.jpg",
           1
          ],
          [
           "undistorted_GX010194_15_231.jpg",
           0
          ],
          [
           "undistorted_GX010194_16_240.jpg",
           0
          ],
          [
           "undistorted_GX010194_17_257.jpg",
           1
          ],
          [
           "undistorted_GX010194_18_272.jpg",
           0
          ],
          [
           "undistorted_GX010194_19_285.jpg",
           0
          ],
          [
           "undistorted_GX010194_36_485.jpg",
           1
          ],
          [
           "undistorted_GX010194_37_496.jpg",
           1
          ],
          [
           "undistorted_GX010194_38_504.jpg",
           1
          ],
          [
           "undistorted_GX010194_39_513.jpg",
           1
          ],
          [
           "undistorted_GX010194_46_620.jpg",
           1
          ],
          [
           "undistorted_GX010194_55_768.jpg",
           2
          ],
          [
           "undistorted_GX010194_56_784.jpg",
           0
          ],
          [
           "undistorted_GX010194_57_798.jpg",
           0
          ],
          [
           "undistorted_GX010194_58_810.jpg",
           2
          ],
          [
           "undistorted_GX010194_60_836.jpg",
           0
          ]
         ],
         "hovertemplate": "pond=410<br>center_x=%{x}<br>center_y=%{y}<br>image_path=%{customdata[0]}<br>index=%{customdata[1]}<br>MAE_Box_fov=%{marker.color}<extra></extra>",
         "legendgroup": "410",
         "marker": {
          "color": [
           14.293675074539236,
           8.62240811855196,
           12.454199298279292,
           12.51255548571487,
           3.845466416044388,
           10.8217700477758,
           6.293393421293786,
           10.500760111501364,
           12.427895756118602,
           0.3340294194444766,
           13.05206787812537,
           21.2648405099564,
           6.877791671874036,
           16.92668411079279,
           9.44984716950674,
           12.947548845672856,
           15.075525786853092,
           3.2148807633394085,
           2.624363257885989,
           6.063192076452879,
           7.424375963535027,
           6.070127280937697,
           11.92354915853005,
           12.514956928206203,
           26.766565291431878,
           20.41555300388805,
           23.946293845865316,
           12.415741705602954
          ],
          "coloraxis": "coloraxis",
          "size": 10,
          "symbol": "square"
         },
         "mode": "markers",
         "name": "410",
         "orientation": "v",
         "showlegend": true,
         "type": "scatter",
         "x": [
          255.61564617846383,
          295.78639754329816,
          283.9759036144578,
          337.16390954442767,
          294.39759036144574,
          325.96385542168673,
          359.81821818524094,
          275.6279708678464,
          186.50637707078312,
          89.4578313253012,
          222.95180722891564,
          384.4578313253012,
          407.4698795180723,
          455.96385542168673,
          431.17031602974396,
          422.4698795180723,
          431.92771084337346,
          448.433734939759,
          288.5998093938253,
          290.4216867469879,
          288.433734939759,
          287.64733739646084,
          86.92771084337349,
          365.48192771084337,
          375.4216867469879,
          381.4457831325301,
          385.2791733339608,
          351.2028485033885
         ],
         "xaxis": "x",
         "y": [
          90.0549757624247,
          247.38245217196913,
          126.02409638554218,
          146.40152896743226,
          183.5542168674699,
          126.02409638554218,
          177.3257483057229,
          214.49277579066268,
          214.1999688205949,
          176.56626506024097,
          248.0722891566265,
          281.0240963855422,
          198.0722891566265,
          161.566265060241,
          175.36918180534641,
          150.06024096385545,
          111.566265060241,
          76.08433734939763,
          256.1419383589044,
          208.5542168674699,
          171.566265060241,
          123.57898390436748,
          96.02409638554218,
          227.10843373493978,
          183.0120481927711,
          146.566265060241,
          98.62451760165663,
          281.14065147307986
         ],
         "yaxis": "y"
        }
       ],
       "layout": {
        "coloraxis": {
         "colorbar": {
          "title": {
           "text": "MAE_Box_fov"
          }
         },
         "colorscale": [
          [
           0,
           "rgb(0,104,55)"
          ],
          [
           0.1,
           "rgb(26,152,80)"
          ],
          [
           0.2,
           "rgb(102,189,99)"
          ],
          [
           0.3,
           "rgb(166,217,106)"
          ],
          [
           0.4,
           "rgb(217,239,139)"
          ],
          [
           0.5,
           "rgb(255,255,191)"
          ],
          [
           0.6,
           "rgb(254,224,139)"
          ],
          [
           0.7,
           "rgb(253,174,97)"
          ],
          [
           0.8,
           "rgb(244,109,67)"
          ],
          [
           0.9,
           "rgb(215,48,39)"
          ],
          [
           1,
           "rgb(165,0,38)"
          ]
         ]
        },
        "legend": {
         "title": {
          "text": "pond"
         },
         "tracegroupgap": 0,
         "x": 0.01,
         "xanchor": "left",
         "y": 0.99,
         "yanchor": "top"
        },
        "margin": {
         "b": 0,
         "l": 0,
         "r": 0,
         "t": 0
        },
        "template": {
         "data": {
          "bar": [
           {
            "error_x": {
             "color": "#2a3f5f"
            },
            "error_y": {
             "color": "#2a3f5f"
            },
            "marker": {
             "line": {
              "color": "#E5ECF6",
              "width": 0.5
             },
             "pattern": {
              "fillmode": "overlay",
              "size": 10,
              "solidity": 0.2
             }
            },
            "type": "bar"
           }
          ],
          "barpolar": [
           {
            "marker": {
             "line": {
              "color": "#E5ECF6",
              "width": 0.5
             },
             "pattern": {
              "fillmode": "overlay",
              "size": 10,
              "solidity": 0.2
             }
            },
            "type": "barpolar"
           }
          ],
          "carpet": [
           {
            "aaxis": {
             "endlinecolor": "#2a3f5f",
             "gridcolor": "white",
             "linecolor": "white",
             "minorgridcolor": "white",
             "startlinecolor": "#2a3f5f"
            },
            "baxis": {
             "endlinecolor": "#2a3f5f",
             "gridcolor": "white",
             "linecolor": "white",
             "minorgridcolor": "white",
             "startlinecolor": "#2a3f5f"
            },
            "type": "carpet"
           }
          ],
          "choropleth": [
           {
            "colorbar": {
             "outlinewidth": 0,
             "ticks": ""
            },
            "type": "choropleth"
           }
          ],
          "contour": [
           {
            "colorbar": {
             "outlinewidth": 0,
             "ticks": ""
            },
            "colorscale": [
             [
              0,
              "#0d0887"
             ],
             [
              0.1111111111111111,
              "#46039f"
             ],
             [
              0.2222222222222222,
              "#7201a8"
             ],
             [
              0.3333333333333333,
              "#9c179e"
             ],
             [
              0.4444444444444444,
              "#bd3786"
             ],
             [
              0.5555555555555556,
              "#d8576b"
             ],
             [
              0.6666666666666666,
              "#ed7953"
             ],
             [
              0.7777777777777778,
              "#fb9f3a"
             ],
             [
              0.8888888888888888,
              "#fdca26"
             ],
             [
              1,
              "#f0f921"
             ]
            ],
            "type": "contour"
           }
          ],
          "contourcarpet": [
           {
            "colorbar": {
             "outlinewidth": 0,
             "ticks": ""
            },
            "type": "contourcarpet"
           }
          ],
          "heatmap": [
           {
            "colorbar": {
             "outlinewidth": 0,
             "ticks": ""
            },
            "colorscale": [
             [
              0,
              "#0d0887"
             ],
             [
              0.1111111111111111,
              "#46039f"
             ],
             [
              0.2222222222222222,
              "#7201a8"
             ],
             [
              0.3333333333333333,
              "#9c179e"
             ],
             [
              0.4444444444444444,
              "#bd3786"
             ],
             [
              0.5555555555555556,
              "#d8576b"
             ],
             [
              0.6666666666666666,
              "#ed7953"
             ],
             [
              0.7777777777777778,
              "#fb9f3a"
             ],
             [
              0.8888888888888888,
              "#fdca26"
             ],
             [
              1,
              "#f0f921"
             ]
            ],
            "type": "heatmap"
           }
          ],
          "heatmapgl": [
           {
            "colorbar": {
             "outlinewidth": 0,
             "ticks": ""
            },
            "colorscale": [
             [
              0,
              "#0d0887"
             ],
             [
              0.1111111111111111,
              "#46039f"
             ],
             [
              0.2222222222222222,
              "#7201a8"
             ],
             [
              0.3333333333333333,
              "#9c179e"
             ],
             [
              0.4444444444444444,
              "#bd3786"
             ],
             [
              0.5555555555555556,
              "#d8576b"
             ],
             [
              0.6666666666666666,
              "#ed7953"
             ],
             [
              0.7777777777777778,
              "#fb9f3a"
             ],
             [
              0.8888888888888888,
              "#fdca26"
             ],
             [
              1,
              "#f0f921"
             ]
            ],
            "type": "heatmapgl"
           }
          ],
          "histogram": [
           {
            "marker": {
             "pattern": {
              "fillmode": "overlay",
              "size": 10,
              "solidity": 0.2
             }
            },
            "type": "histogram"
           }
          ],
          "histogram2d": [
           {
            "colorbar": {
             "outlinewidth": 0,
             "ticks": ""
            },
            "colorscale": [
             [
              0,
              "#0d0887"
             ],
             [
              0.1111111111111111,
              "#46039f"
             ],
             [
              0.2222222222222222,
              "#7201a8"
             ],
             [
              0.3333333333333333,
              "#9c179e"
             ],
             [
              0.4444444444444444,
              "#bd3786"
             ],
             [
              0.5555555555555556,
              "#d8576b"
             ],
             [
              0.6666666666666666,
              "#ed7953"
             ],
             [
              0.7777777777777778,
              "#fb9f3a"
             ],
             [
              0.8888888888888888,
              "#fdca26"
             ],
             [
              1,
              "#f0f921"
             ]
            ],
            "type": "histogram2d"
           }
          ],
          "histogram2dcontour": [
           {
            "colorbar": {
             "outlinewidth": 0,
             "ticks": ""
            },
            "colorscale": [
             [
              0,
              "#0d0887"
             ],
             [
              0.1111111111111111,
              "#46039f"
             ],
             [
              0.2222222222222222,
              "#7201a8"
             ],
             [
              0.3333333333333333,
              "#9c179e"
             ],
             [
              0.4444444444444444,
              "#bd3786"
             ],
             [
              0.5555555555555556,
              "#d8576b"
             ],
             [
              0.6666666666666666,
              "#ed7953"
             ],
             [
              0.7777777777777778,
              "#fb9f3a"
             ],
             [
              0.8888888888888888,
              "#fdca26"
             ],
             [
              1,
              "#f0f921"
             ]
            ],
            "type": "histogram2dcontour"
           }
          ],
          "mesh3d": [
           {
            "colorbar": {
             "outlinewidth": 0,
             "ticks": ""
            },
            "type": "mesh3d"
           }
          ],
          "parcoords": [
           {
            "line": {
             "colorbar": {
              "outlinewidth": 0,
              "ticks": ""
             }
            },
            "type": "parcoords"
           }
          ],
          "pie": [
           {
            "automargin": true,
            "type": "pie"
           }
          ],
          "scatter": [
           {
            "fillpattern": {
             "fillmode": "overlay",
             "size": 10,
             "solidity": 0.2
            },
            "type": "scatter"
           }
          ],
          "scatter3d": [
           {
            "line": {
             "colorbar": {
              "outlinewidth": 0,
              "ticks": ""
             }
            },
            "marker": {
             "colorbar": {
              "outlinewidth": 0,
              "ticks": ""
             }
            },
            "type": "scatter3d"
           }
          ],
          "scattercarpet": [
           {
            "marker": {
             "colorbar": {
              "outlinewidth": 0,
              "ticks": ""
             }
            },
            "type": "scattercarpet"
           }
          ],
          "scattergeo": [
           {
            "marker": {
             "colorbar": {
              "outlinewidth": 0,
              "ticks": ""
             }
            },
            "type": "scattergeo"
           }
          ],
          "scattergl": [
           {
            "marker": {
             "colorbar": {
              "outlinewidth": 0,
              "ticks": ""
             }
            },
            "type": "scattergl"
           }
          ],
          "scattermapbox": [
           {
            "marker": {
             "colorbar": {
              "outlinewidth": 0,
              "ticks": ""
             }
            },
            "type": "scattermapbox"
           }
          ],
          "scatterpolar": [
           {
            "marker": {
             "colorbar": {
              "outlinewidth": 0,
              "ticks": ""
             }
            },
            "type": "scatterpolar"
           }
          ],
          "scatterpolargl": [
           {
            "marker": {
             "colorbar": {
              "outlinewidth": 0,
              "ticks": ""
             }
            },
            "type": "scatterpolargl"
           }
          ],
          "scatterternary": [
           {
            "marker": {
             "colorbar": {
              "outlinewidth": 0,
              "ticks": ""
             }
            },
            "type": "scatterternary"
           }
          ],
          "surface": [
           {
            "colorbar": {
             "outlinewidth": 0,
             "ticks": ""
            },
            "colorscale": [
             [
              0,
              "#0d0887"
             ],
             [
              0.1111111111111111,
              "#46039f"
             ],
             [
              0.2222222222222222,
              "#7201a8"
             ],
             [
              0.3333333333333333,
              "#9c179e"
             ],
             [
              0.4444444444444444,
              "#bd3786"
             ],
             [
              0.5555555555555556,
              "#d8576b"
             ],
             [
              0.6666666666666666,
              "#ed7953"
             ],
             [
              0.7777777777777778,
              "#fb9f3a"
             ],
             [
              0.8888888888888888,
              "#fdca26"
             ],
             [
              1,
              "#f0f921"
             ]
            ],
            "type": "surface"
           }
          ],
          "table": [
           {
            "cells": {
             "fill": {
              "color": "#EBF0F8"
             },
             "line": {
              "color": "white"
             }
            },
            "header": {
             "fill": {
              "color": "#C8D4E3"
             },
             "line": {
              "color": "white"
             }
            },
            "type": "table"
           }
          ]
         },
         "layout": {
          "annotationdefaults": {
           "arrowcolor": "#2a3f5f",
           "arrowhead": 0,
           "arrowwidth": 1
          },
          "autotypenumbers": "strict",
          "coloraxis": {
           "colorbar": {
            "outlinewidth": 0,
            "ticks": ""
           }
          },
          "colorscale": {
           "diverging": [
            [
             0,
             "#8e0152"
            ],
            [
             0.1,
             "#c51b7d"
            ],
            [
             0.2,
             "#de77ae"
            ],
            [
             0.3,
             "#f1b6da"
            ],
            [
             0.4,
             "#fde0ef"
            ],
            [
             0.5,
             "#f7f7f7"
            ],
            [
             0.6,
             "#e6f5d0"
            ],
            [
             0.7,
             "#b8e186"
            ],
            [
             0.8,
             "#7fbc41"
            ],
            [
             0.9,
             "#4d9221"
            ],
            [
             1,
             "#276419"
            ]
           ],
           "sequential": [
            [
             0,
             "#0d0887"
            ],
            [
             0.1111111111111111,
             "#46039f"
            ],
            [
             0.2222222222222222,
             "#7201a8"
            ],
            [
             0.3333333333333333,
             "#9c179e"
            ],
            [
             0.4444444444444444,
             "#bd3786"
            ],
            [
             0.5555555555555556,
             "#d8576b"
            ],
            [
             0.6666666666666666,
             "#ed7953"
            ],
            [
             0.7777777777777778,
             "#fb9f3a"
            ],
            [
             0.8888888888888888,
             "#fdca26"
            ],
            [
             1,
             "#f0f921"
            ]
           ],
           "sequentialminus": [
            [
             0,
             "#0d0887"
            ],
            [
             0.1111111111111111,
             "#46039f"
            ],
            [
             0.2222222222222222,
             "#7201a8"
            ],
            [
             0.3333333333333333,
             "#9c179e"
            ],
            [
             0.4444444444444444,
             "#bd3786"
            ],
            [
             0.5555555555555556,
             "#d8576b"
            ],
            [
             0.6666666666666666,
             "#ed7953"
            ],
            [
             0.7777777777777778,
             "#fb9f3a"
            ],
            [
             0.8888888888888888,
             "#fdca26"
            ],
            [
             1,
             "#f0f921"
            ]
           ]
          },
          "colorway": [
           "#636efa",
           "#EF553B",
           "#00cc96",
           "#ab63fa",
           "#FFA15A",
           "#19d3f3",
           "#FF6692",
           "#B6E880",
           "#FF97FF",
           "#FECB52"
          ],
          "font": {
           "color": "#2a3f5f"
          },
          "geo": {
           "bgcolor": "white",
           "lakecolor": "white",
           "landcolor": "#E5ECF6",
           "showlakes": true,
           "showland": true,
           "subunitcolor": "white"
          },
          "hoverlabel": {
           "align": "left"
          },
          "hovermode": "closest",
          "mapbox": {
           "style": "light"
          },
          "paper_bgcolor": "white",
          "plot_bgcolor": "#E5ECF6",
          "polar": {
           "angularaxis": {
            "gridcolor": "white",
            "linecolor": "white",
            "ticks": ""
           },
           "bgcolor": "#E5ECF6",
           "radialaxis": {
            "gridcolor": "white",
            "linecolor": "white",
            "ticks": ""
           }
          },
          "scene": {
           "xaxis": {
            "backgroundcolor": "#E5ECF6",
            "gridcolor": "white",
            "gridwidth": 2,
            "linecolor": "white",
            "showbackground": true,
            "ticks": "",
            "zerolinecolor": "white"
           },
           "yaxis": {
            "backgroundcolor": "#E5ECF6",
            "gridcolor": "white",
            "gridwidth": 2,
            "linecolor": "white",
            "showbackground": true,
            "ticks": "",
            "zerolinecolor": "white"
           },
           "zaxis": {
            "backgroundcolor": "#E5ECF6",
            "gridcolor": "white",
            "gridwidth": 2,
            "linecolor": "white",
            "showbackground": true,
            "ticks": "",
            "zerolinecolor": "white"
           }
          },
          "shapedefaults": {
           "line": {
            "color": "#2a3f5f"
           }
          },
          "ternary": {
           "aaxis": {
            "gridcolor": "white",
            "linecolor": "white",
            "ticks": ""
           },
           "baxis": {
            "gridcolor": "white",
            "linecolor": "white",
            "ticks": ""
           },
           "bgcolor": "#E5ECF6",
           "caxis": {
            "gridcolor": "white",
            "linecolor": "white",
            "ticks": ""
           }
          },
          "title": {
           "x": 0.05
          },
          "xaxis": {
           "automargin": true,
           "gridcolor": "white",
           "linecolor": "white",
           "ticks": "",
           "title": {
            "standoff": 15
           },
           "zerolinecolor": "white",
           "zerolinewidth": 2
          },
          "yaxis": {
           "automargin": true,
           "gridcolor": "white",
           "linecolor": "white",
           "ticks": "",
           "title": {
            "standoff": 15
           },
           "zerolinecolor": "white",
           "zerolinewidth": 2
          }
         }
        },
        "title": {
         "text": "MAE_Box_fov of Hull Length Prediction"
        },
        "xaxis": {
         "anchor": "y",
         "domain": [
          0,
          1
         ],
         "title": {
          "text": "center_x"
         }
        },
        "yaxis": {
         "anchor": "x",
         "domain": [
          0,
          1
         ],
         "title": {
          "text": "center_y"
         }
        }
       }
      }
     },
     "metadata": {},
     "output_type": "display_data"
    },
    {
     "name": "stdout",
     "output_type": "stream",
     "text": [
      "Plotting sign_Error_percentage_Box_fov for 700...\n"
     ]
    },
    {
     "ename": "ValueError",
     "evalue": "Value of 'color' is not the name of a column in 'data_frame'. Expected one of ['center_x', 'center_y', 'Error_percentage_Box_fov', 'image_path', 'index', 'pond', 'MAE_Box_fov', 'error_Box_fov'] but received: sign_Error_percentage_Box_fov",
     "output_type": "error",
     "traceback": [
      "\u001b[1;31m---------------------------------------------------------------------------\u001b[0m",
      "\u001b[1;31mValueError\u001b[0m                                Traceback (most recent call last)",
      "Cell \u001b[1;32mIn[25], line 69\u001b[0m\n\u001b[0;32m     62\u001b[0m \u001b[38;5;28mprint\u001b[39m(\u001b[38;5;124mf\u001b[39m\u001b[38;5;124m\"\u001b[39m\u001b[38;5;124mPlotting \u001b[39m\u001b[38;5;132;01m{\u001b[39;00merror\u001b[38;5;132;01m}\u001b[39;00m\u001b[38;5;124m for \u001b[39m\u001b[38;5;132;01m{\u001b[39;00mpond\u001b[38;5;132;01m}\u001b[39;00m\u001b[38;5;124m...\u001b[39m\u001b[38;5;124m\"\u001b[39m)\n\u001b[0;32m     68\u001b[0m \u001b[38;5;66;03m# Create an interactive scatter plot using plotly\u001b[39;00m\n\u001b[1;32m---> 69\u001b[0m fig \u001b[38;5;241m=\u001b[39m \u001b[43mpx\u001b[49m\u001b[38;5;241;43m.\u001b[39;49m\u001b[43mscatter\u001b[49m\u001b[43m(\u001b[49m\u001b[43mdf_visual\u001b[49m\u001b[43m[\u001b[49m\u001b[43mdf_visual\u001b[49m\u001b[43m[\u001b[49m\u001b[38;5;124;43m'\u001b[39;49m\u001b[38;5;124;43mpond\u001b[39;49m\u001b[38;5;124;43m'\u001b[39;49m\u001b[43m]\u001b[49m\u001b[43m \u001b[49m\u001b[38;5;241;43m==\u001b[39;49m\u001b[43m \u001b[49m\u001b[43mpond\u001b[49m\u001b[43m]\u001b[49m\u001b[43m,\u001b[49m\u001b[43m \u001b[49m\n\u001b[0;32m     70\u001b[0m \u001b[43m                \u001b[49m\u001b[43msymbol\u001b[49m\u001b[38;5;241;43m=\u001b[39;49m\u001b[38;5;124;43m'\u001b[39;49m\u001b[38;5;124;43mpond\u001b[39;49m\u001b[38;5;124;43m'\u001b[39;49m\u001b[43m,\u001b[49m\n\u001b[0;32m     71\u001b[0m \u001b[43m                \u001b[49m\u001b[43msymbol_map\u001b[49m\u001b[38;5;241;43m=\u001b[39;49m\u001b[43msymbols\u001b[49m\u001b[43m,\u001b[49m\n\u001b[0;32m     72\u001b[0m \u001b[43m                    \u001b[49m\u001b[43mx\u001b[49m\u001b[38;5;241;43m=\u001b[39;49m\u001b[38;5;124;43m'\u001b[39;49m\u001b[38;5;124;43mcenter_x\u001b[39;49m\u001b[38;5;124;43m'\u001b[39;49m\u001b[43m,\u001b[49m\u001b[43m \u001b[49m\n\u001b[0;32m     73\u001b[0m \u001b[43m                    \u001b[49m\u001b[43my\u001b[49m\u001b[38;5;241;43m=\u001b[39;49m\u001b[38;5;124;43m'\u001b[39;49m\u001b[38;5;124;43mcenter_y\u001b[39;49m\u001b[38;5;124;43m'\u001b[39;49m\u001b[43m,\u001b[49m\u001b[43m \u001b[49m\n\u001b[0;32m     74\u001b[0m \u001b[43m                    \u001b[49m\u001b[43mcolor\u001b[49m\u001b[38;5;241;43m=\u001b[39;49m\u001b[43merror\u001b[49m\u001b[43m,\u001b[49m\n\u001b[0;32m     75\u001b[0m \u001b[43m                    \u001b[49m\u001b[43mhover_data\u001b[49m\u001b[38;5;241;43m=\u001b[39;49m\u001b[43m[\u001b[49m\u001b[38;5;124;43m'\u001b[39;49m\u001b[38;5;124;43mimage_path\u001b[39;49m\u001b[38;5;124;43m'\u001b[39;49m\u001b[43m,\u001b[49m\u001b[43m \u001b[49m\u001b[38;5;124;43m'\u001b[39;49m\u001b[38;5;124;43mindex\u001b[39;49m\u001b[38;5;124;43m'\u001b[39;49m\u001b[43m]\u001b[49m\u001b[43m,\u001b[49m\n\u001b[0;32m     76\u001b[0m \u001b[43m                    \u001b[49m\u001b[43mcolor_continuous_scale\u001b[49m\u001b[38;5;241;43m=\u001b[39;49m\u001b[38;5;124;43m'\u001b[39;49m\u001b[38;5;124;43mRdYlGn_r\u001b[39;49m\u001b[38;5;124;43m'\u001b[39;49m\u001b[43m,\u001b[49m\u001b[43m \u001b[49m\n\u001b[0;32m     77\u001b[0m \u001b[43m                    \u001b[49m\u001b[43mtitle\u001b[49m\u001b[38;5;241;43m=\u001b[39;49m\u001b[38;5;124;43mf\u001b[39;49m\u001b[38;5;124;43m'\u001b[39;49m\u001b[38;5;132;43;01m{\u001b[39;49;00m\u001b[43merror\u001b[49m\u001b[38;5;132;43;01m}\u001b[39;49;00m\u001b[38;5;124;43m of Hull Length Prediction\u001b[39;49m\u001b[38;5;124;43m'\u001b[39;49m\u001b[43m,\u001b[49m\u001b[43m)\u001b[49m\n\u001b[0;32m     78\u001b[0m \u001b[38;5;66;03m#\u001b[39;00m\n\u001b[0;32m     79\u001b[0m \u001b[38;5;66;03m# Customize the color bar\u001b[39;00m\n\u001b[0;32m     80\u001b[0m fig\u001b[38;5;241m.\u001b[39mupdate_layout(coloraxis_colorbar\u001b[38;5;241m=\u001b[39m\u001b[38;5;28mdict\u001b[39m(title\u001b[38;5;241m=\u001b[39merror))\n",
      "File \u001b[1;32mc:\\Users\\gbo10\\Videos\\research\\counting_research_algorithms\\.venv\\lib\\site-packages\\plotly\\express\\_chart_types.py:66\u001b[0m, in \u001b[0;36mscatter\u001b[1;34m(data_frame, x, y, color, symbol, size, hover_name, hover_data, custom_data, text, facet_row, facet_col, facet_col_wrap, facet_row_spacing, facet_col_spacing, error_x, error_x_minus, error_y, error_y_minus, animation_frame, animation_group, category_orders, labels, orientation, color_discrete_sequence, color_discrete_map, color_continuous_scale, range_color, color_continuous_midpoint, symbol_sequence, symbol_map, opacity, size_max, marginal_x, marginal_y, trendline, trendline_options, trendline_color_override, trendline_scope, log_x, log_y, range_x, range_y, render_mode, title, template, width, height)\u001b[0m\n\u001b[0;32m     12\u001b[0m \u001b[38;5;28;01mdef\u001b[39;00m \u001b[38;5;21mscatter\u001b[39m(\n\u001b[0;32m     13\u001b[0m     data_frame\u001b[38;5;241m=\u001b[39m\u001b[38;5;28;01mNone\u001b[39;00m,\n\u001b[0;32m     14\u001b[0m     x\u001b[38;5;241m=\u001b[39m\u001b[38;5;28;01mNone\u001b[39;00m,\n\u001b[1;32m   (...)\u001b[0m\n\u001b[0;32m     60\u001b[0m     height\u001b[38;5;241m=\u001b[39m\u001b[38;5;28;01mNone\u001b[39;00m,\n\u001b[0;32m     61\u001b[0m ) \u001b[38;5;241m-\u001b[39m\u001b[38;5;241m>\u001b[39m go\u001b[38;5;241m.\u001b[39mFigure:\n\u001b[0;32m     62\u001b[0m \u001b[38;5;250m    \u001b[39m\u001b[38;5;124;03m\"\"\"\u001b[39;00m\n\u001b[0;32m     63\u001b[0m \u001b[38;5;124;03m    In a scatter plot, each row of `data_frame` is represented by a symbol\u001b[39;00m\n\u001b[0;32m     64\u001b[0m \u001b[38;5;124;03m    mark in 2D space.\u001b[39;00m\n\u001b[0;32m     65\u001b[0m \u001b[38;5;124;03m    \"\"\"\u001b[39;00m\n\u001b[1;32m---> 66\u001b[0m     \u001b[38;5;28;01mreturn\u001b[39;00m \u001b[43mmake_figure\u001b[49m\u001b[43m(\u001b[49m\u001b[43margs\u001b[49m\u001b[38;5;241;43m=\u001b[39;49m\u001b[38;5;28;43mlocals\u001b[39;49m\u001b[43m(\u001b[49m\u001b[43m)\u001b[49m\u001b[43m,\u001b[49m\u001b[43m \u001b[49m\u001b[43mconstructor\u001b[49m\u001b[38;5;241;43m=\u001b[39;49m\u001b[43mgo\u001b[49m\u001b[38;5;241;43m.\u001b[39;49m\u001b[43mScatter\u001b[49m\u001b[43m)\u001b[49m\n",
      "File \u001b[1;32mc:\\Users\\gbo10\\Videos\\research\\counting_research_algorithms\\.venv\\lib\\site-packages\\plotly\\express\\_core.py:2090\u001b[0m, in \u001b[0;36mmake_figure\u001b[1;34m(args, constructor, trace_patch, layout_patch)\u001b[0m\n\u001b[0;32m   2087\u001b[0m layout_patch \u001b[38;5;241m=\u001b[39m layout_patch \u001b[38;5;129;01mor\u001b[39;00m {}\n\u001b[0;32m   2088\u001b[0m apply_default_cascade(args)\n\u001b[1;32m-> 2090\u001b[0m args \u001b[38;5;241m=\u001b[39m \u001b[43mbuild_dataframe\u001b[49m\u001b[43m(\u001b[49m\u001b[43margs\u001b[49m\u001b[43m,\u001b[49m\u001b[43m \u001b[49m\u001b[43mconstructor\u001b[49m\u001b[43m)\u001b[49m\n\u001b[0;32m   2091\u001b[0m \u001b[38;5;28;01mif\u001b[39;00m constructor \u001b[38;5;129;01min\u001b[39;00m [go\u001b[38;5;241m.\u001b[39mTreemap, go\u001b[38;5;241m.\u001b[39mSunburst, go\u001b[38;5;241m.\u001b[39mIcicle] \u001b[38;5;129;01mand\u001b[39;00m args[\u001b[38;5;124m\"\u001b[39m\u001b[38;5;124mpath\u001b[39m\u001b[38;5;124m\"\u001b[39m] \u001b[38;5;129;01mis\u001b[39;00m \u001b[38;5;129;01mnot\u001b[39;00m \u001b[38;5;28;01mNone\u001b[39;00m:\n\u001b[0;32m   2092\u001b[0m     args \u001b[38;5;241m=\u001b[39m process_dataframe_hierarchy(args)\n",
      "File \u001b[1;32mc:\\Users\\gbo10\\Videos\\research\\counting_research_algorithms\\.venv\\lib\\site-packages\\plotly\\express\\_core.py:1492\u001b[0m, in \u001b[0;36mbuild_dataframe\u001b[1;34m(args, constructor)\u001b[0m\n\u001b[0;32m   1489\u001b[0m     args[\u001b[38;5;124m\"\u001b[39m\u001b[38;5;124mcolor\u001b[39m\u001b[38;5;124m\"\u001b[39m] \u001b[38;5;241m=\u001b[39m \u001b[38;5;28;01mNone\u001b[39;00m\n\u001b[0;32m   1490\u001b[0m \u001b[38;5;66;03m# now that things have been prepped, we do the systematic rewriting of `args`\u001b[39;00m\n\u001b[1;32m-> 1492\u001b[0m df_output, wide_id_vars \u001b[38;5;241m=\u001b[39m \u001b[43mprocess_args_into_dataframe\u001b[49m\u001b[43m(\u001b[49m\n\u001b[0;32m   1493\u001b[0m \u001b[43m    \u001b[49m\u001b[43margs\u001b[49m\u001b[43m,\u001b[49m\u001b[43m \u001b[49m\u001b[43mwide_mode\u001b[49m\u001b[43m,\u001b[49m\u001b[43m \u001b[49m\u001b[43mvar_name\u001b[49m\u001b[43m,\u001b[49m\u001b[43m \u001b[49m\u001b[43mvalue_name\u001b[49m\n\u001b[0;32m   1494\u001b[0m \u001b[43m\u001b[49m\u001b[43m)\u001b[49m\n\u001b[0;32m   1496\u001b[0m \u001b[38;5;66;03m# now that `df_output` exists and `args` contains only references, we complete\u001b[39;00m\n\u001b[0;32m   1497\u001b[0m \u001b[38;5;66;03m# the special-case and wide-mode handling by further rewriting args and/or mutating\u001b[39;00m\n\u001b[0;32m   1498\u001b[0m \u001b[38;5;66;03m# df_output\u001b[39;00m\n\u001b[0;32m   1500\u001b[0m count_name \u001b[38;5;241m=\u001b[39m _escape_col_name(df_output, \u001b[38;5;124m\"\u001b[39m\u001b[38;5;124mcount\u001b[39m\u001b[38;5;124m\"\u001b[39m, [var_name, value_name])\n",
      "File \u001b[1;32mc:\\Users\\gbo10\\Videos\\research\\counting_research_algorithms\\.venv\\lib\\site-packages\\plotly\\express\\_core.py:1213\u001b[0m, in \u001b[0;36mprocess_args_into_dataframe\u001b[1;34m(args, wide_mode, var_name, value_name)\u001b[0m\n\u001b[0;32m   1211\u001b[0m         \u001b[38;5;28;01mif\u001b[39;00m argument \u001b[38;5;241m==\u001b[39m \u001b[38;5;124m\"\u001b[39m\u001b[38;5;124mindex\u001b[39m\u001b[38;5;124m\"\u001b[39m:\n\u001b[0;32m   1212\u001b[0m             err_msg \u001b[38;5;241m+\u001b[39m\u001b[38;5;241m=\u001b[39m \u001b[38;5;124m\"\u001b[39m\u001b[38;5;130;01m\\n\u001b[39;00m\u001b[38;5;124m To use the index, pass it in directly as `df.index`.\u001b[39m\u001b[38;5;124m\"\u001b[39m\n\u001b[1;32m-> 1213\u001b[0m         \u001b[38;5;28;01mraise\u001b[39;00m \u001b[38;5;167;01mValueError\u001b[39;00m(err_msg)\n\u001b[0;32m   1214\u001b[0m \u001b[38;5;28;01melif\u001b[39;00m length \u001b[38;5;129;01mand\u001b[39;00m \u001b[38;5;28mlen\u001b[39m(df_input[argument]) \u001b[38;5;241m!=\u001b[39m length:\n\u001b[0;32m   1215\u001b[0m     \u001b[38;5;28;01mraise\u001b[39;00m \u001b[38;5;167;01mValueError\u001b[39;00m(\n\u001b[0;32m   1216\u001b[0m         \u001b[38;5;124m\"\u001b[39m\u001b[38;5;124mAll arguments should have the same length. \u001b[39m\u001b[38;5;124m\"\u001b[39m\n\u001b[0;32m   1217\u001b[0m         \u001b[38;5;124m\"\u001b[39m\u001b[38;5;124mThe length of column argument `df[\u001b[39m\u001b[38;5;132;01m%s\u001b[39;00m\u001b[38;5;124m]` is \u001b[39m\u001b[38;5;132;01m%d\u001b[39;00m\u001b[38;5;124m, whereas the \u001b[39m\u001b[38;5;124m\"\u001b[39m\n\u001b[1;32m   (...)\u001b[0m\n\u001b[0;32m   1224\u001b[0m         )\n\u001b[0;32m   1225\u001b[0m     )\n",
      "\u001b[1;31mValueError\u001b[0m: Value of 'color' is not the name of a column in 'data_frame'. Expected one of ['center_x', 'center_y', 'Error_percentage_Box_fov', 'image_path', 'index', 'pond', 'MAE_Box_fov', 'error_Box_fov'] but received: sign_Error_percentage_Box_fov"
     ]
    }
   ],
   "source": [
    "import ast\n",
    "import folium\n",
    "from folium.plugins import MarkerCluster    \n",
    "import pandas as pd\n",
    "import plotly.express as px\n",
    "\n",
    "# Read the data\n",
    "\n",
    "# samples_index = pd.read_csv('samples_index.csv')  # Ensure this is read correctly\n",
    "\n",
    "# # Update the 'not' column based on samples_index\n",
    "# for _, sample in samples_index.iterrows():\n",
    "#     df.loc[(df['image_path'] == sample['sample']) & (df['index'] == sample['index']), 'not'] = 'not'\n",
    "# df.to_csv('molt_CLEAN.csv')\n",
    "\n",
    "# # Clean the data\n",
    "# df_clean = df[df['not'] != 'not']\n",
    "# df_clean = df_clean.dropna()\n",
    "\n",
    "\n",
    "df = pd.read_csv('molt.csv')\n",
    "df_clean = df.dropna()\n",
    "\n",
    "df_clean.loc[(df['image_path'] == 'undistorted_GX010191_43_1353.jpg') & (df['index'] == 6)] = None\n",
    "#undistorted_GX010194_21_312.jpg\n",
    "\n",
    "df_clean.loc[(df['image_path'] == 'undistorted_GX010194_21_312.jpg') & (df['index'] == 1)] = None\n",
    "\n",
    "\n",
    "df_clean.dropna(inplace=True)\n",
    "\n",
    "df_clean.loc[:, 'error_Box_fov'] = df['Box_Length_fov'] - df['true_length']\n",
    "df_clean.loc[:, 'error_Box_focal'] = df['Focal_Box'] - df['true_length']\n",
    "#percentage error with sign\n",
    "df_clean.loc[:, 'sign_Error_percentage_Box_fov'] = (df['Box_Length_fov'] - df['true_length']) / df['true_length'] * 100\n",
    "\n",
    "\n",
    "# Extract center_x and center_y from the 'center' column\n",
    "df_clean['center_x'] = df_clean['center'].apply(lambda x: ast.literal_eval(x)[0])\n",
    "df_clean['center_y'] = df_clean['center'].apply(lambda x: ast.literal_eval(x)[1])\n",
    "\n",
    "\n",
    "# Filter the DataFrame for specific conditions\n",
    "# df_positive = df_clean[(df_clean['Box_Length_fov'] > df_clean['true_length'])]\n",
    "df_clean.loc[df_clean['pond']=='right','pond']=700\n",
    "df_clean.loc[df_clean['pond']=='square','pond']=410\n",
    "\n",
    "# Create a new DataFrame for visualization with necessary columns\n",
    "df_visual = df_clean[['center_x', 'center_y', 'Error_percentage_Box_fov', 'image_path', 'index', 'pond', 'MAE_Box_fov','error_Box_fov','sign_Error_percentage_Box_fov']].copy()\n",
    "\n",
    "# Ensure image paths are correct\n",
    "df_visual['image_path'] = df_visual['image_path'].apply(lambda x: x.replace('\\\\', '/'))\n",
    "\n",
    "\n",
    "# Adjust center_y coordinate to be opposite to the image\n",
    "df_visual['center_y'] = 360 - df_visual['center_y']\n",
    "\n",
    "symbols = {'right': 'circle', 'square': 'square'}\n",
    "# Generate scatter plots\n",
    "for error in ['Error_percentage_Box_fov', 'MAE_Box_fov','sign_Error_percentage_Box_fov']:\n",
    "    for pond in [700, 410]:\n",
    "        print(f\"Plotting {error} for {pond}...\")\n",
    "\n",
    "        \n",
    "\n",
    "\n",
    "\n",
    "        # Create an interactive scatter plot using plotly\n",
    "        fig = px.scatter(df_visual[df_visual['pond'] == pond], \n",
    "                        symbol='pond',\n",
    "                        symbol_map=symbols,\n",
    "                            x='center_x', \n",
    "                            y='center_y', \n",
    "                            color=error,\n",
    "                            hover_data=['image_path', 'index'],\n",
    "                            color_continuous_scale='RdYlGn_r', \n",
    "                            title=f'{error} of Hull Length Prediction',)\n",
    "        #\n",
    "        # Customize the color bar\n",
    "        fig.update_layout(coloraxis_colorbar=dict(title=error))\n",
    "        fig.update_traces(marker=dict(size=10))\n",
    "        #tighten the layout\n",
    "        #fix legend overlapping\n",
    "        fig.update_layout(legend=dict(\n",
    "            yanchor=\"top\",\n",
    "            y=0.99,\n",
    "            xanchor=\"left\",\n",
    "            x=0.01\n",
    "        ))    \n",
    "\n",
    "        fig.update_layout(margin=dict(l=0, r=0, t=0, b=0))\n",
    "        # Show the plot\n",
    "        fig.show()"
   ]
  },
  {
   "cell_type": "code",
   "execution_count": 11,
   "metadata": {},
   "outputs": [
    {
     "name": "stdout",
     "output_type": "stream",
     "text": [
      "43\n",
      "29\n"
     ]
    }
   ],
   "source": [
    "for pond in [700, 410]:\n",
    "  print(len (df_clean[df_clean['pond'] == pond]['image_path'].unique()))"
   ]
  },
  {
   "cell_type": "code",
   "execution_count": 14,
   "metadata": {},
   "outputs": [
    {
     "data": {
      "text/plain": [
       "true_length\n",
       "143.0    43\n",
       "180.0    42\n",
       "Name: count, dtype: int64"
      ]
     },
     "execution_count": 14,
     "metadata": {},
     "output_type": "execute_result"
    }
   ],
   "source": [
    "df_clean['true_length'].value_counts()"
   ]
  },
  {
   "cell_type": "code",
   "execution_count": 15,
   "metadata": {},
   "outputs": [
    {
     "name": "stdout",
     "output_type": "stream",
     "text": [
      "Mean Error for 143mm in pond 700:\n",
      "4.630068099484985\n",
      "Mean Error Percentage for 143mm in pond 700:\n",
      "4.774696310530144\n",
      "Mean MAE for 143mm in pond 700:\n",
      "6.827815724058108\n",
      "Mean Prediction Length for 143mm in pond 700:\n",
      "147.63006809948502\n",
      "Std Prediction Length for 143mm in pond 700:\n",
      "7.447459702141084\n",
      "Mean Focal Length for 143mm in pond 700:\n",
      "154.39416345593295\n",
      "Std Focal Length for 143mm in pond 700:\n",
      "7.78868644705215\n",
      "Mean Error for 143mm in pond 700:\n",
      "11.394163455932967\n",
      "Mean Error Percentage for 143mm in pond 700:\n",
      "8.058274897417961\n",
      "Mean MAE for 143mm in pond 700:\n",
      "11.523333103307683\n",
      "Count of 143mm in pond 700:\n",
      "30\n",
      "Mean Error for 143mm in pond 410:\n",
      "8.618208997681396\n",
      "Mean Error Percentage for 143mm in pond 410:\n",
      "6.026719578798179\n",
      "Mean MAE for 143mm in pond 410:\n",
      "8.618208997681394\n",
      "Mean Prediction Length for 143mm in pond 410:\n",
      "151.6182089976814\n",
      "Std Prediction Length for 143mm in pond 410:\n",
      "4.271761056209262\n",
      "Mean Focal Length for 143mm in pond 410:\n",
      "151.63743397141818\n",
      "Std Focal Length for 143mm in pond 410:\n",
      "4.272302709449057\n",
      "Mean Error for 143mm in pond 410:\n",
      "8.637433971418176\n",
      "Mean Error Percentage for 143mm in pond 410:\n",
      "6.040163616376347\n",
      "Mean MAE for 143mm in pond 410:\n",
      "8.637433971418176\n",
      "Count of 143mm in pond 410:\n",
      "13\n",
      "Mean Error for 180mm in pond 700:\n",
      "9.944296915353439\n",
      "Mean Error Percentage for 180mm in pond 700:\n",
      "6.656882870486242\n",
      "Mean MAE for 180mm in pond 700:\n",
      "11.982389166875237\n",
      "Mean Prediction Length for 180mm in pond 700:\n",
      "189.94429691535348\n",
      "Std Prediction Length for 180mm in pond 700:\n",
      "9.42114639565003\n",
      "Mean Focal Length for 180mm in pond 700:\n",
      "198.64714013211002\n",
      "Std Focal Length for 180mm in pond 700:\n",
      "9.852803262083826\n",
      "Mean Error for 180mm in pond 700:\n",
      "18.647140132110053\n",
      "Mean Error Percentage for 180mm in pond 700:\n",
      "10.359522295616694\n",
      "Mean MAE for 180mm in pond 700:\n",
      "18.64714013211005\n",
      "Count of 180mm in pond 700:\n",
      "27\n",
      "Mean Error for 180mm in pond 410:\n",
      "13.936222761857495\n",
      "Mean Error Percentage for 180mm in pond 410:\n",
      "7.742345978809717\n",
      "Mean MAE for 180mm in pond 410:\n",
      "13.936222761857492\n",
      "Mean Prediction Length for 180mm in pond 410:\n",
      "193.93622276185752\n",
      "Std Prediction Length for 180mm in pond 410:\n",
      "6.943650069608691\n",
      "Mean Focal Length for 180mm in pond 410:\n",
      "193.96081359968534\n",
      "Std Focal Length for 180mm in pond 410:\n",
      "6.944530514583651\n",
      "Mean Error for 180mm in pond 410:\n",
      "13.960813599685334\n",
      "Mean Error Percentage for 180mm in pond 410:\n",
      "7.756007555380738\n",
      "Mean MAE for 180mm in pond 410:\n",
      "13.96081359968533\n",
      "Count of 180mm in pond 410:\n",
      "15\n"
     ]
    }
   ],
   "source": [
    "for true_length in [143, 180]:\n",
    "    for pond in [700, 410]:\n",
    "       #mean errors \n",
    "        print(f\"Mean Error for {true_length}mm in pond {pond}:\")\n",
    "        print(df_clean[(df_clean['true_length'] == true_length) & (df_clean['pond'] == pond)]['error_Box_fov'].mean())\n",
    "        #mean error percentage\n",
    "        print(f\"Mean Error Percentage for {true_length}mm in pond {pond}:\")\n",
    "        print(df_clean[(df_clean['true_length'] == true_length) & (df_clean['pond'] == pond)]['Error_percentage_Box_fov'].mean())\n",
    "        #mean mae\n",
    "        print(f\"Mean MAE for {true_length}mm in pond {pond}:\")\n",
    "        print(df_clean[(df_clean['true_length'] == true_length) & (df_clean['pond'] == pond)]['MAE_Box_fov'].mean())\n",
    "\n",
    "        #mean prediction length and std\n",
    "        print(f\"Mean Prediction Length for {true_length}mm in pond {pond}:\")\n",
    "        print(df_clean[(df_clean['true_length'] == true_length) & (df_clean['pond'] == pond)]['Box_Length_fov'].mean())\n",
    "        print(f\"Std Prediction Length for {true_length}mm in pond {pond}:\")\n",
    "        print(df_clean[(df_clean['true_length'] == true_length) & (df_clean['pond'] == pond)]['Box_Length_fov'].std())\n",
    "\n",
    "        #mean focal length and std\n",
    "        print(f\"Mean Focal Length for {true_length}mm in pond {pond}:\")\n",
    "        print(df_clean[(df_clean['true_length'] == true_length) & (df_clean['pond'] == pond)]['Focal_Box'].mean())\n",
    "        print(f\"Std Focal Length for {true_length}mm in pond {pond}:\")\n",
    "        print(df_clean[(df_clean['true_length'] == true_length) & (df_clean['pond'] == pond)]['Focal_Box'].std())\n",
    "\n",
    "        #mean error focal\n",
    "        print(f\"Mean Error for {true_length}mm in pond {pond}:\")\n",
    "        print(df_clean[(df_clean['true_length'] == true_length) & (df_clean['pond'] == pond)]['error_Box_focal'].mean())\n",
    "\n",
    "        #mean error percentage focal\n",
    "        print(f\"Mean Error Percentage for {true_length}mm in pond {pond}:\")\n",
    "        print(df_clean[(df_clean['true_length'] == true_length) & (df_clean['pond'] == pond)]['Error_percentage_Box_focal'].mean())\n",
    "\n",
    "        #mean mae focal\n",
    "        print(f\"Mean MAE for {true_length}mm in pond {pond}:\")\n",
    "        print(df_clean[(df_clean['true_length'] == true_length) & (df_clean['pond'] == pond)]['MAE_Box_focal'].mean())\n",
    "\n",
    "        #count of prawns\n",
    "        print(f\"Count of {true_length}mm in pond {pond}:\")\n",
    "        print(len(df_clean[(df_clean['true_length'] == true_length) & (df_clean['pond'] == pond)]))\n",
    "        "
   ]
  },
  {
   "cell_type": "code",
   "execution_count": 20,
   "metadata": {},
   "outputs": [
    {
     "data": {
      "application/vnd.plotly.v1+json": {
       "config": {
        "plotlyServerURL": "https://plot.ly"
       },
       "data": [
        {
         "alignmentgroup": "True",
         "boxpoints": "all",
         "customdata": [
          [
           "undistorted_GX010191_101_1265.jpg",
           0
          ],
          [
           "undistorted_GX010191_102_1277.jpg",
           0
          ],
          [
           "undistorted_GX010191_103_1289.jpg",
           0
          ],
          [
           "undistorted_GX010191_105_1312.jpg",
           0
          ],
          [
           "undistorted_GX010191_107_1330.jpg",
           0
          ],
          [
           "undistorted_GX010191_10_370.jpg",
           0
          ],
          [
           "undistorted_GX010191_110_1355.jpg",
           3
          ],
          [
           "undistorted_GX010191_13_439.jpg",
           0
          ],
          [
           "undistorted_GX010191_15_479.jpg",
           0
          ],
          [
           "undistorted_GX010191_16_495.jpg",
           2
          ],
          [
           "undistorted_GX010191_16_495.jpg",
           3
          ],
          [
           "undistorted_GX010191_31_283.jpg",
           2
          ],
          [
           "undistorted_GX010191_34_1128.jpg",
           1
          ],
          [
           "undistorted_GX010191_35_1167.jpg",
           1
          ],
          [
           "undistorted_GX010191_35_367.jpg",
           0
          ],
          [
           "undistorted_GX010191_36_1195.jpg",
           1
          ],
          [
           "undistorted_GX010191_36_381.jpg",
           0
          ],
          [
           "undistorted_GX010191_38_1266.jpg",
           0
          ],
          [
           "undistorted_GX010191_39_416.jpg",
           0
          ],
          [
           "undistorted_GX010191_42_1339.jpg",
           0
          ],
          [
           "undistorted_GX010191_42_1339.jpg",
           5
          ],
          [
           "undistorted_GX010191_42_457.jpg",
           0
          ],
          [
           "undistorted_GX010191_42_457.jpg",
           3
          ],
          [
           "undistorted_GX010191_43_1353.jpg",
           0
          ],
          [
           "undistorted_GX010191_44_478.jpg",
           0
          ],
          [
           "undistorted_GX010191_46_497.jpg",
           1
          ],
          [
           "undistorted_GX010191_94_1132.jpg",
           0
          ],
          [
           "undistorted_GX010191_95_1157.jpg",
           1
          ],
          [
           "undistorted_GX010191_98_1211.jpg",
           0
          ],
          [
           "undistorted_GX010191_99_1233.jpg",
           1
          ],
          [
           "undistorted_GX010192_17_1035.jpg",
           0
          ],
          [
           "undistorted_GX010192_25_1553.jpg",
           0
          ],
          [
           "undistorted_GX010192_26_1578.jpg",
           0
          ],
          [
           "undistorted_GX010192_9_675.jpg",
           1
          ],
          [
           "undistorted_GX010193_17_1264.jpg",
           0
          ],
          [
           "undistorted_GX010193_18_1289.jpg",
           0
          ],
          [
           "undistorted_GX010193_19_1334.jpg",
           0
          ],
          [
           "undistorted_GX010193_20_1365.jpg",
           2
          ],
          [
           "undistorted_GX010194_36_485.jpg",
           1
          ],
          [
           "undistorted_GX010194_37_496.jpg",
           1
          ],
          [
           "undistorted_GX010194_38_504.jpg",
           1
          ],
          [
           "undistorted_GX010194_39_513.jpg",
           1
          ],
          [
           "undistorted_GX010194_60_836.jpg",
           0
          ]
         ],
         "hovertemplate": "pond=%{x}<br>Error_percentage_Box_fov=%{y}<br>image_path=%{customdata[0]}<br>index=%{customdata[1]}<extra></extra>",
         "legendgroup": "",
         "marker": {
          "color": "#636efa"
         },
         "name": "",
         "notched": false,
         "offsetgroup": "",
         "orientation": "v",
         "showlegend": false,
         "type": "box",
         "x": [
          700,
          700,
          700,
          700,
          700,
          700,
          700,
          700,
          700,
          700,
          700,
          700,
          700,
          700,
          700,
          700,
          700,
          700,
          700,
          700,
          700,
          700,
          700,
          700,
          700,
          700,
          700,
          700,
          700,
          700,
          410,
          410,
          410,
          410,
          410,
          410,
          410,
          410,
          410,
          410,
          410,
          410,
          410
         ],
         "x0": " ",
         "xaxis": "x",
         "y": [
          2.0192594230322087,
          0.0955353877105676,
          4.444417639753747,
          3.574637915592336,
          8.470685594286879,
          1.1271302302546855,
          1.2235822095172089,
          3.615654954222711,
          0.3709723723723606,
          4.247985792459824,
          5.676622667960117,
          1.9070811152403568,
          9.879476348117656,
          10.918270702726002,
          0.5265420272387934,
          8.723299969157065,
          1.5355026800916494,
          1.9514281836025675,
          4.01474439808368,
          2.3549057729150555,
          1.66670819296478,
          9.351012065377995,
          4.298543077701154,
          4.193489367981629,
          6.360475951662827,
          0.7751037567636893,
          14.959429700436422,
          7.899896682759182,
          7.349504457177892,
          9.708990678743314,
          9.995576975202264,
          6.029656026959413,
          8.709230278516987,
          8.75003880119921,
          4.400974420485165,
          7.343188889161794,
          8.690836193089932,
          0.2335870066045291,
          1.8352190614587331,
          4.239994459057957,
          5.191871303171348,
          4.244844252403984,
          8.682336857065003
         ],
         "y0": " ",
         "yaxis": "y"
        }
       ],
       "layout": {
        "boxmode": "group",
        "legend": {
         "tracegroupgap": 0
        },
        "template": {
         "data": {
          "bar": [
           {
            "error_x": {
             "color": "#2a3f5f"
            },
            "error_y": {
             "color": "#2a3f5f"
            },
            "marker": {
             "line": {
              "color": "#E5ECF6",
              "width": 0.5
             },
             "pattern": {
              "fillmode": "overlay",
              "size": 10,
              "solidity": 0.2
             }
            },
            "type": "bar"
           }
          ],
          "barpolar": [
           {
            "marker": {
             "line": {
              "color": "#E5ECF6",
              "width": 0.5
             },
             "pattern": {
              "fillmode": "overlay",
              "size": 10,
              "solidity": 0.2
             }
            },
            "type": "barpolar"
           }
          ],
          "carpet": [
           {
            "aaxis": {
             "endlinecolor": "#2a3f5f",
             "gridcolor": "white",
             "linecolor": "white",
             "minorgridcolor": "white",
             "startlinecolor": "#2a3f5f"
            },
            "baxis": {
             "endlinecolor": "#2a3f5f",
             "gridcolor": "white",
             "linecolor": "white",
             "minorgridcolor": "white",
             "startlinecolor": "#2a3f5f"
            },
            "type": "carpet"
           }
          ],
          "choropleth": [
           {
            "colorbar": {
             "outlinewidth": 0,
             "ticks": ""
            },
            "type": "choropleth"
           }
          ],
          "contour": [
           {
            "colorbar": {
             "outlinewidth": 0,
             "ticks": ""
            },
            "colorscale": [
             [
              0,
              "#0d0887"
             ],
             [
              0.1111111111111111,
              "#46039f"
             ],
             [
              0.2222222222222222,
              "#7201a8"
             ],
             [
              0.3333333333333333,
              "#9c179e"
             ],
             [
              0.4444444444444444,
              "#bd3786"
             ],
             [
              0.5555555555555556,
              "#d8576b"
             ],
             [
              0.6666666666666666,
              "#ed7953"
             ],
             [
              0.7777777777777778,
              "#fb9f3a"
             ],
             [
              0.8888888888888888,
              "#fdca26"
             ],
             [
              1,
              "#f0f921"
             ]
            ],
            "type": "contour"
           }
          ],
          "contourcarpet": [
           {
            "colorbar": {
             "outlinewidth": 0,
             "ticks": ""
            },
            "type": "contourcarpet"
           }
          ],
          "heatmap": [
           {
            "colorbar": {
             "outlinewidth": 0,
             "ticks": ""
            },
            "colorscale": [
             [
              0,
              "#0d0887"
             ],
             [
              0.1111111111111111,
              "#46039f"
             ],
             [
              0.2222222222222222,
              "#7201a8"
             ],
             [
              0.3333333333333333,
              "#9c179e"
             ],
             [
              0.4444444444444444,
              "#bd3786"
             ],
             [
              0.5555555555555556,
              "#d8576b"
             ],
             [
              0.6666666666666666,
              "#ed7953"
             ],
             [
              0.7777777777777778,
              "#fb9f3a"
             ],
             [
              0.8888888888888888,
              "#fdca26"
             ],
             [
              1,
              "#f0f921"
             ]
            ],
            "type": "heatmap"
           }
          ],
          "heatmapgl": [
           {
            "colorbar": {
             "outlinewidth": 0,
             "ticks": ""
            },
            "colorscale": [
             [
              0,
              "#0d0887"
             ],
             [
              0.1111111111111111,
              "#46039f"
             ],
             [
              0.2222222222222222,
              "#7201a8"
             ],
             [
              0.3333333333333333,
              "#9c179e"
             ],
             [
              0.4444444444444444,
              "#bd3786"
             ],
             [
              0.5555555555555556,
              "#d8576b"
             ],
             [
              0.6666666666666666,
              "#ed7953"
             ],
             [
              0.7777777777777778,
              "#fb9f3a"
             ],
             [
              0.8888888888888888,
              "#fdca26"
             ],
             [
              1,
              "#f0f921"
             ]
            ],
            "type": "heatmapgl"
           }
          ],
          "histogram": [
           {
            "marker": {
             "pattern": {
              "fillmode": "overlay",
              "size": 10,
              "solidity": 0.2
             }
            },
            "type": "histogram"
           }
          ],
          "histogram2d": [
           {
            "colorbar": {
             "outlinewidth": 0,
             "ticks": ""
            },
            "colorscale": [
             [
              0,
              "#0d0887"
             ],
             [
              0.1111111111111111,
              "#46039f"
             ],
             [
              0.2222222222222222,
              "#7201a8"
             ],
             [
              0.3333333333333333,
              "#9c179e"
             ],
             [
              0.4444444444444444,
              "#bd3786"
             ],
             [
              0.5555555555555556,
              "#d8576b"
             ],
             [
              0.6666666666666666,
              "#ed7953"
             ],
             [
              0.7777777777777778,
              "#fb9f3a"
             ],
             [
              0.8888888888888888,
              "#fdca26"
             ],
             [
              1,
              "#f0f921"
             ]
            ],
            "type": "histogram2d"
           }
          ],
          "histogram2dcontour": [
           {
            "colorbar": {
             "outlinewidth": 0,
             "ticks": ""
            },
            "colorscale": [
             [
              0,
              "#0d0887"
             ],
             [
              0.1111111111111111,
              "#46039f"
             ],
             [
              0.2222222222222222,
              "#7201a8"
             ],
             [
              0.3333333333333333,
              "#9c179e"
             ],
             [
              0.4444444444444444,
              "#bd3786"
             ],
             [
              0.5555555555555556,
              "#d8576b"
             ],
             [
              0.6666666666666666,
              "#ed7953"
             ],
             [
              0.7777777777777778,
              "#fb9f3a"
             ],
             [
              0.8888888888888888,
              "#fdca26"
             ],
             [
              1,
              "#f0f921"
             ]
            ],
            "type": "histogram2dcontour"
           }
          ],
          "mesh3d": [
           {
            "colorbar": {
             "outlinewidth": 0,
             "ticks": ""
            },
            "type": "mesh3d"
           }
          ],
          "parcoords": [
           {
            "line": {
             "colorbar": {
              "outlinewidth": 0,
              "ticks": ""
             }
            },
            "type": "parcoords"
           }
          ],
          "pie": [
           {
            "automargin": true,
            "type": "pie"
           }
          ],
          "scatter": [
           {
            "fillpattern": {
             "fillmode": "overlay",
             "size": 10,
             "solidity": 0.2
            },
            "type": "scatter"
           }
          ],
          "scatter3d": [
           {
            "line": {
             "colorbar": {
              "outlinewidth": 0,
              "ticks": ""
             }
            },
            "marker": {
             "colorbar": {
              "outlinewidth": 0,
              "ticks": ""
             }
            },
            "type": "scatter3d"
           }
          ],
          "scattercarpet": [
           {
            "marker": {
             "colorbar": {
              "outlinewidth": 0,
              "ticks": ""
             }
            },
            "type": "scattercarpet"
           }
          ],
          "scattergeo": [
           {
            "marker": {
             "colorbar": {
              "outlinewidth": 0,
              "ticks": ""
             }
            },
            "type": "scattergeo"
           }
          ],
          "scattergl": [
           {
            "marker": {
             "colorbar": {
              "outlinewidth": 0,
              "ticks": ""
             }
            },
            "type": "scattergl"
           }
          ],
          "scattermapbox": [
           {
            "marker": {
             "colorbar": {
              "outlinewidth": 0,
              "ticks": ""
             }
            },
            "type": "scattermapbox"
           }
          ],
          "scatterpolar": [
           {
            "marker": {
             "colorbar": {
              "outlinewidth": 0,
              "ticks": ""
             }
            },
            "type": "scatterpolar"
           }
          ],
          "scatterpolargl": [
           {
            "marker": {
             "colorbar": {
              "outlinewidth": 0,
              "ticks": ""
             }
            },
            "type": "scatterpolargl"
           }
          ],
          "scatterternary": [
           {
            "marker": {
             "colorbar": {
              "outlinewidth": 0,
              "ticks": ""
             }
            },
            "type": "scatterternary"
           }
          ],
          "surface": [
           {
            "colorbar": {
             "outlinewidth": 0,
             "ticks": ""
            },
            "colorscale": [
             [
              0,
              "#0d0887"
             ],
             [
              0.1111111111111111,
              "#46039f"
             ],
             [
              0.2222222222222222,
              "#7201a8"
             ],
             [
              0.3333333333333333,
              "#9c179e"
             ],
             [
              0.4444444444444444,
              "#bd3786"
             ],
             [
              0.5555555555555556,
              "#d8576b"
             ],
             [
              0.6666666666666666,
              "#ed7953"
             ],
             [
              0.7777777777777778,
              "#fb9f3a"
             ],
             [
              0.8888888888888888,
              "#fdca26"
             ],
             [
              1,
              "#f0f921"
             ]
            ],
            "type": "surface"
           }
          ],
          "table": [
           {
            "cells": {
             "fill": {
              "color": "#EBF0F8"
             },
             "line": {
              "color": "white"
             }
            },
            "header": {
             "fill": {
              "color": "#C8D4E3"
             },
             "line": {
              "color": "white"
             }
            },
            "type": "table"
           }
          ]
         },
         "layout": {
          "annotationdefaults": {
           "arrowcolor": "#2a3f5f",
           "arrowhead": 0,
           "arrowwidth": 1
          },
          "autotypenumbers": "strict",
          "coloraxis": {
           "colorbar": {
            "outlinewidth": 0,
            "ticks": ""
           }
          },
          "colorscale": {
           "diverging": [
            [
             0,
             "#8e0152"
            ],
            [
             0.1,
             "#c51b7d"
            ],
            [
             0.2,
             "#de77ae"
            ],
            [
             0.3,
             "#f1b6da"
            ],
            [
             0.4,
             "#fde0ef"
            ],
            [
             0.5,
             "#f7f7f7"
            ],
            [
             0.6,
             "#e6f5d0"
            ],
            [
             0.7,
             "#b8e186"
            ],
            [
             0.8,
             "#7fbc41"
            ],
            [
             0.9,
             "#4d9221"
            ],
            [
             1,
             "#276419"
            ]
           ],
           "sequential": [
            [
             0,
             "#0d0887"
            ],
            [
             0.1111111111111111,
             "#46039f"
            ],
            [
             0.2222222222222222,
             "#7201a8"
            ],
            [
             0.3333333333333333,
             "#9c179e"
            ],
            [
             0.4444444444444444,
             "#bd3786"
            ],
            [
             0.5555555555555556,
             "#d8576b"
            ],
            [
             0.6666666666666666,
             "#ed7953"
            ],
            [
             0.7777777777777778,
             "#fb9f3a"
            ],
            [
             0.8888888888888888,
             "#fdca26"
            ],
            [
             1,
             "#f0f921"
            ]
           ],
           "sequentialminus": [
            [
             0,
             "#0d0887"
            ],
            [
             0.1111111111111111,
             "#46039f"
            ],
            [
             0.2222222222222222,
             "#7201a8"
            ],
            [
             0.3333333333333333,
             "#9c179e"
            ],
            [
             0.4444444444444444,
             "#bd3786"
            ],
            [
             0.5555555555555556,
             "#d8576b"
            ],
            [
             0.6666666666666666,
             "#ed7953"
            ],
            [
             0.7777777777777778,
             "#fb9f3a"
            ],
            [
             0.8888888888888888,
             "#fdca26"
            ],
            [
             1,
             "#f0f921"
            ]
           ]
          },
          "colorway": [
           "#636efa",
           "#EF553B",
           "#00cc96",
           "#ab63fa",
           "#FFA15A",
           "#19d3f3",
           "#FF6692",
           "#B6E880",
           "#FF97FF",
           "#FECB52"
          ],
          "font": {
           "color": "#2a3f5f"
          },
          "geo": {
           "bgcolor": "white",
           "lakecolor": "white",
           "landcolor": "#E5ECF6",
           "showlakes": true,
           "showland": true,
           "subunitcolor": "white"
          },
          "hoverlabel": {
           "align": "left"
          },
          "hovermode": "closest",
          "mapbox": {
           "style": "light"
          },
          "paper_bgcolor": "white",
          "plot_bgcolor": "#E5ECF6",
          "polar": {
           "angularaxis": {
            "gridcolor": "white",
            "linecolor": "white",
            "ticks": ""
           },
           "bgcolor": "#E5ECF6",
           "radialaxis": {
            "gridcolor": "white",
            "linecolor": "white",
            "ticks": ""
           }
          },
          "scene": {
           "xaxis": {
            "backgroundcolor": "#E5ECF6",
            "gridcolor": "white",
            "gridwidth": 2,
            "linecolor": "white",
            "showbackground": true,
            "ticks": "",
            "zerolinecolor": "white"
           },
           "yaxis": {
            "backgroundcolor": "#E5ECF6",
            "gridcolor": "white",
            "gridwidth": 2,
            "linecolor": "white",
            "showbackground": true,
            "ticks": "",
            "zerolinecolor": "white"
           },
           "zaxis": {
            "backgroundcolor": "#E5ECF6",
            "gridcolor": "white",
            "gridwidth": 2,
            "linecolor": "white",
            "showbackground": true,
            "ticks": "",
            "zerolinecolor": "white"
           }
          },
          "shapedefaults": {
           "line": {
            "color": "#2a3f5f"
           }
          },
          "ternary": {
           "aaxis": {
            "gridcolor": "white",
            "linecolor": "white",
            "ticks": ""
           },
           "baxis": {
            "gridcolor": "white",
            "linecolor": "white",
            "ticks": ""
           },
           "bgcolor": "#E5ECF6",
           "caxis": {
            "gridcolor": "white",
            "linecolor": "white",
            "ticks": ""
           }
          },
          "title": {
           "x": 0.05
          },
          "xaxis": {
           "automargin": true,
           "gridcolor": "white",
           "linecolor": "white",
           "ticks": "",
           "title": {
            "standoff": 15
           },
           "zerolinecolor": "white",
           "zerolinewidth": 2
          },
          "yaxis": {
           "automargin": true,
           "gridcolor": "white",
           "linecolor": "white",
           "ticks": "",
           "title": {
            "standoff": 15
           },
           "zerolinecolor": "white",
           "zerolinewidth": 2
          }
         }
        },
        "title": {
         "text": "Box plot of Error_percentage_Box_fov for 143mm"
        },
        "xaxis": {
         "anchor": "y",
         "domain": [
          0,
          1
         ],
         "title": {
          "text": "pond"
         }
        },
        "yaxis": {
         "anchor": "x",
         "domain": [
          0,
          1
         ],
         "title": {
          "text": "Error_percentage_Box_fov"
         }
        }
       }
      }
     },
     "metadata": {},
     "output_type": "display_data"
    },
    {
     "data": {
      "application/vnd.plotly.v1+json": {
       "config": {
        "plotlyServerURL": "https://plot.ly"
       },
       "data": [
        {
         "alignmentgroup": "True",
         "boxpoints": "all",
         "customdata": [
          [
           "undistorted_GX010191_116_1399.jpg",
           0
          ],
          [
           "undistorted_GX010191_16_495.jpg",
           1
          ],
          [
           "undistorted_GX010191_17_509.jpg",
           1
          ],
          [
           "undistorted_GX010191_18_521.jpg",
           0
          ],
          [
           "undistorted_GX010191_19_537.jpg",
           0
          ],
          [
           "undistorted_GX010191_29_257.jpg",
           1
          ],
          [
           "undistorted_GX010191_31_283.jpg",
           1
          ],
          [
           "undistorted_GX010191_32_1049.jpg",
           0
          ],
          [
           "undistorted_GX010191_33_1087.jpg",
           1
          ],
          [
           "undistorted_GX010191_33_331.jpg",
           0
          ],
          [
           "undistorted_GX010191_33_331.jpg",
           2
          ],
          [
           "undistorted_GX010191_34_1128.jpg",
           0
          ],
          [
           "undistorted_GX010191_35_1167.jpg",
           0
          ],
          [
           "undistorted_GX010191_35_1167.jpg",
           4
          ],
          [
           "undistorted_GX010191_42_1339.jpg",
           1
          ],
          [
           "undistorted_GX010191_43_1353.jpg",
           3
          ],
          [
           "undistorted_GX010191_44_478.jpg",
           1
          ],
          [
           "undistorted_GX010191_51_535.jpg",
           0
          ],
          [
           "undistorted_GX010191_5_190.jpg",
           2
          ],
          [
           "undistorted_GX010191_6_219.jpg",
           0
          ],
          [
           "undistorted_GX010191_88_1016.jpg",
           0
          ],
          [
           "undistorted_GX010191_91_1066.jpg",
           2
          ],
          [
           "undistorted_GX010191_92_1087.jpg",
           1
          ],
          [
           "undistorted_GX010191_95_1157.jpg",
           0
          ],
          [
           "undistorted_GX010191_96_1175.jpg",
           0
          ],
          [
           "undistorted_GX010191_97_1190.jpg",
           0
          ],
          [
           "undistorted_GX010191_98_1211.jpg",
           1
          ],
          [
           "undistorted_GX010193_10_1039.jpg",
           0
          ],
          [
           "undistorted_GX010193_11_1065.jpg",
           0
          ],
          [
           "undistorted_GX010193_27_1553.jpg",
           1
          ],
          [
           "undistorted_GX010193_3_251.jpg",
           0
          ],
          [
           "undistorted_GX010193_4_283.jpg",
           1
          ],
          [
           "undistorted_GX010194_15_231.jpg",
           0
          ],
          [
           "undistorted_GX010194_16_240.jpg",
           0
          ],
          [
           "undistorted_GX010194_17_257.jpg",
           1
          ],
          [
           "undistorted_GX010194_18_272.jpg",
           0
          ],
          [
           "undistorted_GX010194_19_285.jpg",
           0
          ],
          [
           "undistorted_GX010194_46_620.jpg",
           1
          ],
          [
           "undistorted_GX010194_55_768.jpg",
           2
          ],
          [
           "undistorted_GX010194_56_784.jpg",
           0
          ],
          [
           "undistorted_GX010194_57_798.jpg",
           0
          ],
          [
           "undistorted_GX010194_58_810.jpg",
           2
          ]
         ],
         "hovertemplate": "pond=%{x}<br>Error_percentage_Box_fov=%{y}<br>image_path=%{customdata[0]}<br>index=%{customdata[1]}<extra></extra>",
         "legendgroup": "",
         "marker": {
          "color": "#636efa"
         },
         "name": "",
         "notched": false,
         "offsetgroup": "",
         "orientation": "v",
         "showlegend": false,
         "type": "box",
         "x": [
          700,
          700,
          700,
          700,
          700,
          700,
          700,
          700,
          700,
          700,
          700,
          700,
          700,
          700,
          700,
          700,
          700,
          700,
          700,
          700,
          700,
          700,
          700,
          700,
          700,
          700,
          700,
          410,
          410,
          410,
          410,
          410,
          410,
          410,
          410,
          410,
          410,
          410,
          410,
          410,
          410,
          410
         ],
         "x0": " ",
         "xaxis": "x",
         "y": [
          7.400094255627955,
          0.5825964065285265,
          3.452950656057949,
          3.855269141508049,
          3.431918063521143,
          12.164651272029186,
          4.189142959611303,
          7.269128283929546,
          6.035888768163839,
          4.136728509658541,
          4.279299822283412,
          3.693761265315835,
          9.231299463722864,
          9.231299463722864,
          6.02952821286048,
          2.383286435151951,
          1.5841615000976756,
          3.96295761879786,
          10.274684421189274,
          8.561683986652595,
          14.105034877406236,
          7.205034999239043,
          6.035888768163839,
          9.1708407820629,
          6.190800359827951,
          12.518383666968557,
          12.759523543029143,
          2.1363702311357717,
          6.012094470986556,
          7.251148821180761,
          11.813800283309112,
          3.8209953732633535,
          9.403713394884884,
          5.249915094170411,
          7.193082692040475,
          8.375292103807274,
          1.7860448685218937,
          6.624193976961139,
          6.952753849003446,
          14.870314050795486,
          11.341973891048916,
          13.303496581036285
         ],
         "y0": " ",
         "yaxis": "y"
        }
       ],
       "layout": {
        "boxmode": "group",
        "legend": {
         "tracegroupgap": 0
        },
        "template": {
         "data": {
          "bar": [
           {
            "error_x": {
             "color": "#2a3f5f"
            },
            "error_y": {
             "color": "#2a3f5f"
            },
            "marker": {
             "line": {
              "color": "#E5ECF6",
              "width": 0.5
             },
             "pattern": {
              "fillmode": "overlay",
              "size": 10,
              "solidity": 0.2
             }
            },
            "type": "bar"
           }
          ],
          "barpolar": [
           {
            "marker": {
             "line": {
              "color": "#E5ECF6",
              "width": 0.5
             },
             "pattern": {
              "fillmode": "overlay",
              "size": 10,
              "solidity": 0.2
             }
            },
            "type": "barpolar"
           }
          ],
          "carpet": [
           {
            "aaxis": {
             "endlinecolor": "#2a3f5f",
             "gridcolor": "white",
             "linecolor": "white",
             "minorgridcolor": "white",
             "startlinecolor": "#2a3f5f"
            },
            "baxis": {
             "endlinecolor": "#2a3f5f",
             "gridcolor": "white",
             "linecolor": "white",
             "minorgridcolor": "white",
             "startlinecolor": "#2a3f5f"
            },
            "type": "carpet"
           }
          ],
          "choropleth": [
           {
            "colorbar": {
             "outlinewidth": 0,
             "ticks": ""
            },
            "type": "choropleth"
           }
          ],
          "contour": [
           {
            "colorbar": {
             "outlinewidth": 0,
             "ticks": ""
            },
            "colorscale": [
             [
              0,
              "#0d0887"
             ],
             [
              0.1111111111111111,
              "#46039f"
             ],
             [
              0.2222222222222222,
              "#7201a8"
             ],
             [
              0.3333333333333333,
              "#9c179e"
             ],
             [
              0.4444444444444444,
              "#bd3786"
             ],
             [
              0.5555555555555556,
              "#d8576b"
             ],
             [
              0.6666666666666666,
              "#ed7953"
             ],
             [
              0.7777777777777778,
              "#fb9f3a"
             ],
             [
              0.8888888888888888,
              "#fdca26"
             ],
             [
              1,
              "#f0f921"
             ]
            ],
            "type": "contour"
           }
          ],
          "contourcarpet": [
           {
            "colorbar": {
             "outlinewidth": 0,
             "ticks": ""
            },
            "type": "contourcarpet"
           }
          ],
          "heatmap": [
           {
            "colorbar": {
             "outlinewidth": 0,
             "ticks": ""
            },
            "colorscale": [
             [
              0,
              "#0d0887"
             ],
             [
              0.1111111111111111,
              "#46039f"
             ],
             [
              0.2222222222222222,
              "#7201a8"
             ],
             [
              0.3333333333333333,
              "#9c179e"
             ],
             [
              0.4444444444444444,
              "#bd3786"
             ],
             [
              0.5555555555555556,
              "#d8576b"
             ],
             [
              0.6666666666666666,
              "#ed7953"
             ],
             [
              0.7777777777777778,
              "#fb9f3a"
             ],
             [
              0.8888888888888888,
              "#fdca26"
             ],
             [
              1,
              "#f0f921"
             ]
            ],
            "type": "heatmap"
           }
          ],
          "heatmapgl": [
           {
            "colorbar": {
             "outlinewidth": 0,
             "ticks": ""
            },
            "colorscale": [
             [
              0,
              "#0d0887"
             ],
             [
              0.1111111111111111,
              "#46039f"
             ],
             [
              0.2222222222222222,
              "#7201a8"
             ],
             [
              0.3333333333333333,
              "#9c179e"
             ],
             [
              0.4444444444444444,
              "#bd3786"
             ],
             [
              0.5555555555555556,
              "#d8576b"
             ],
             [
              0.6666666666666666,
              "#ed7953"
             ],
             [
              0.7777777777777778,
              "#fb9f3a"
             ],
             [
              0.8888888888888888,
              "#fdca26"
             ],
             [
              1,
              "#f0f921"
             ]
            ],
            "type": "heatmapgl"
           }
          ],
          "histogram": [
           {
            "marker": {
             "pattern": {
              "fillmode": "overlay",
              "size": 10,
              "solidity": 0.2
             }
            },
            "type": "histogram"
           }
          ],
          "histogram2d": [
           {
            "colorbar": {
             "outlinewidth": 0,
             "ticks": ""
            },
            "colorscale": [
             [
              0,
              "#0d0887"
             ],
             [
              0.1111111111111111,
              "#46039f"
             ],
             [
              0.2222222222222222,
              "#7201a8"
             ],
             [
              0.3333333333333333,
              "#9c179e"
             ],
             [
              0.4444444444444444,
              "#bd3786"
             ],
             [
              0.5555555555555556,
              "#d8576b"
             ],
             [
              0.6666666666666666,
              "#ed7953"
             ],
             [
              0.7777777777777778,
              "#fb9f3a"
             ],
             [
              0.8888888888888888,
              "#fdca26"
             ],
             [
              1,
              "#f0f921"
             ]
            ],
            "type": "histogram2d"
           }
          ],
          "histogram2dcontour": [
           {
            "colorbar": {
             "outlinewidth": 0,
             "ticks": ""
            },
            "colorscale": [
             [
              0,
              "#0d0887"
             ],
             [
              0.1111111111111111,
              "#46039f"
             ],
             [
              0.2222222222222222,
              "#7201a8"
             ],
             [
              0.3333333333333333,
              "#9c179e"
             ],
             [
              0.4444444444444444,
              "#bd3786"
             ],
             [
              0.5555555555555556,
              "#d8576b"
             ],
             [
              0.6666666666666666,
              "#ed7953"
             ],
             [
              0.7777777777777778,
              "#fb9f3a"
             ],
             [
              0.8888888888888888,
              "#fdca26"
             ],
             [
              1,
              "#f0f921"
             ]
            ],
            "type": "histogram2dcontour"
           }
          ],
          "mesh3d": [
           {
            "colorbar": {
             "outlinewidth": 0,
             "ticks": ""
            },
            "type": "mesh3d"
           }
          ],
          "parcoords": [
           {
            "line": {
             "colorbar": {
              "outlinewidth": 0,
              "ticks": ""
             }
            },
            "type": "parcoords"
           }
          ],
          "pie": [
           {
            "automargin": true,
            "type": "pie"
           }
          ],
          "scatter": [
           {
            "fillpattern": {
             "fillmode": "overlay",
             "size": 10,
             "solidity": 0.2
            },
            "type": "scatter"
           }
          ],
          "scatter3d": [
           {
            "line": {
             "colorbar": {
              "outlinewidth": 0,
              "ticks": ""
             }
            },
            "marker": {
             "colorbar": {
              "outlinewidth": 0,
              "ticks": ""
             }
            },
            "type": "scatter3d"
           }
          ],
          "scattercarpet": [
           {
            "marker": {
             "colorbar": {
              "outlinewidth": 0,
              "ticks": ""
             }
            },
            "type": "scattercarpet"
           }
          ],
          "scattergeo": [
           {
            "marker": {
             "colorbar": {
              "outlinewidth": 0,
              "ticks": ""
             }
            },
            "type": "scattergeo"
           }
          ],
          "scattergl": [
           {
            "marker": {
             "colorbar": {
              "outlinewidth": 0,
              "ticks": ""
             }
            },
            "type": "scattergl"
           }
          ],
          "scattermapbox": [
           {
            "marker": {
             "colorbar": {
              "outlinewidth": 0,
              "ticks": ""
             }
            },
            "type": "scattermapbox"
           }
          ],
          "scatterpolar": [
           {
            "marker": {
             "colorbar": {
              "outlinewidth": 0,
              "ticks": ""
             }
            },
            "type": "scatterpolar"
           }
          ],
          "scatterpolargl": [
           {
            "marker": {
             "colorbar": {
              "outlinewidth": 0,
              "ticks": ""
             }
            },
            "type": "scatterpolargl"
           }
          ],
          "scatterternary": [
           {
            "marker": {
             "colorbar": {
              "outlinewidth": 0,
              "ticks": ""
             }
            },
            "type": "scatterternary"
           }
          ],
          "surface": [
           {
            "colorbar": {
             "outlinewidth": 0,
             "ticks": ""
            },
            "colorscale": [
             [
              0,
              "#0d0887"
             ],
             [
              0.1111111111111111,
              "#46039f"
             ],
             [
              0.2222222222222222,
              "#7201a8"
             ],
             [
              0.3333333333333333,
              "#9c179e"
             ],
             [
              0.4444444444444444,
              "#bd3786"
             ],
             [
              0.5555555555555556,
              "#d8576b"
             ],
             [
              0.6666666666666666,
              "#ed7953"
             ],
             [
              0.7777777777777778,
              "#fb9f3a"
             ],
             [
              0.8888888888888888,
              "#fdca26"
             ],
             [
              1,
              "#f0f921"
             ]
            ],
            "type": "surface"
           }
          ],
          "table": [
           {
            "cells": {
             "fill": {
              "color": "#EBF0F8"
             },
             "line": {
              "color": "white"
             }
            },
            "header": {
             "fill": {
              "color": "#C8D4E3"
             },
             "line": {
              "color": "white"
             }
            },
            "type": "table"
           }
          ]
         },
         "layout": {
          "annotationdefaults": {
           "arrowcolor": "#2a3f5f",
           "arrowhead": 0,
           "arrowwidth": 1
          },
          "autotypenumbers": "strict",
          "coloraxis": {
           "colorbar": {
            "outlinewidth": 0,
            "ticks": ""
           }
          },
          "colorscale": {
           "diverging": [
            [
             0,
             "#8e0152"
            ],
            [
             0.1,
             "#c51b7d"
            ],
            [
             0.2,
             "#de77ae"
            ],
            [
             0.3,
             "#f1b6da"
            ],
            [
             0.4,
             "#fde0ef"
            ],
            [
             0.5,
             "#f7f7f7"
            ],
            [
             0.6,
             "#e6f5d0"
            ],
            [
             0.7,
             "#b8e186"
            ],
            [
             0.8,
             "#7fbc41"
            ],
            [
             0.9,
             "#4d9221"
            ],
            [
             1,
             "#276419"
            ]
           ],
           "sequential": [
            [
             0,
             "#0d0887"
            ],
            [
             0.1111111111111111,
             "#46039f"
            ],
            [
             0.2222222222222222,
             "#7201a8"
            ],
            [
             0.3333333333333333,
             "#9c179e"
            ],
            [
             0.4444444444444444,
             "#bd3786"
            ],
            [
             0.5555555555555556,
             "#d8576b"
            ],
            [
             0.6666666666666666,
             "#ed7953"
            ],
            [
             0.7777777777777778,
             "#fb9f3a"
            ],
            [
             0.8888888888888888,
             "#fdca26"
            ],
            [
             1,
             "#f0f921"
            ]
           ],
           "sequentialminus": [
            [
             0,
             "#0d0887"
            ],
            [
             0.1111111111111111,
             "#46039f"
            ],
            [
             0.2222222222222222,
             "#7201a8"
            ],
            [
             0.3333333333333333,
             "#9c179e"
            ],
            [
             0.4444444444444444,
             "#bd3786"
            ],
            [
             0.5555555555555556,
             "#d8576b"
            ],
            [
             0.6666666666666666,
             "#ed7953"
            ],
            [
             0.7777777777777778,
             "#fb9f3a"
            ],
            [
             0.8888888888888888,
             "#fdca26"
            ],
            [
             1,
             "#f0f921"
            ]
           ]
          },
          "colorway": [
           "#636efa",
           "#EF553B",
           "#00cc96",
           "#ab63fa",
           "#FFA15A",
           "#19d3f3",
           "#FF6692",
           "#B6E880",
           "#FF97FF",
           "#FECB52"
          ],
          "font": {
           "color": "#2a3f5f"
          },
          "geo": {
           "bgcolor": "white",
           "lakecolor": "white",
           "landcolor": "#E5ECF6",
           "showlakes": true,
           "showland": true,
           "subunitcolor": "white"
          },
          "hoverlabel": {
           "align": "left"
          },
          "hovermode": "closest",
          "mapbox": {
           "style": "light"
          },
          "paper_bgcolor": "white",
          "plot_bgcolor": "#E5ECF6",
          "polar": {
           "angularaxis": {
            "gridcolor": "white",
            "linecolor": "white",
            "ticks": ""
           },
           "bgcolor": "#E5ECF6",
           "radialaxis": {
            "gridcolor": "white",
            "linecolor": "white",
            "ticks": ""
           }
          },
          "scene": {
           "xaxis": {
            "backgroundcolor": "#E5ECF6",
            "gridcolor": "white",
            "gridwidth": 2,
            "linecolor": "white",
            "showbackground": true,
            "ticks": "",
            "zerolinecolor": "white"
           },
           "yaxis": {
            "backgroundcolor": "#E5ECF6",
            "gridcolor": "white",
            "gridwidth": 2,
            "linecolor": "white",
            "showbackground": true,
            "ticks": "",
            "zerolinecolor": "white"
           },
           "zaxis": {
            "backgroundcolor": "#E5ECF6",
            "gridcolor": "white",
            "gridwidth": 2,
            "linecolor": "white",
            "showbackground": true,
            "ticks": "",
            "zerolinecolor": "white"
           }
          },
          "shapedefaults": {
           "line": {
            "color": "#2a3f5f"
           }
          },
          "ternary": {
           "aaxis": {
            "gridcolor": "white",
            "linecolor": "white",
            "ticks": ""
           },
           "baxis": {
            "gridcolor": "white",
            "linecolor": "white",
            "ticks": ""
           },
           "bgcolor": "#E5ECF6",
           "caxis": {
            "gridcolor": "white",
            "linecolor": "white",
            "ticks": ""
           }
          },
          "title": {
           "x": 0.05
          },
          "xaxis": {
           "automargin": true,
           "gridcolor": "white",
           "linecolor": "white",
           "ticks": "",
           "title": {
            "standoff": 15
           },
           "zerolinecolor": "white",
           "zerolinewidth": 2
          },
          "yaxis": {
           "automargin": true,
           "gridcolor": "white",
           "linecolor": "white",
           "ticks": "",
           "title": {
            "standoff": 15
           },
           "zerolinecolor": "white",
           "zerolinewidth": 2
          }
         }
        },
        "title": {
         "text": "Box plot of Error_percentage_Box_fov for 180mm"
        },
        "xaxis": {
         "anchor": "y",
         "domain": [
          0,
          1
         ],
         "title": {
          "text": "pond"
         }
        },
        "yaxis": {
         "anchor": "x",
         "domain": [
          0,
          1
         ],
         "title": {
          "text": "Error_percentage_Box_fov"
         }
        }
       }
      }
     },
     "metadata": {},
     "output_type": "display_data"
    },
    {
     "data": {
      "application/vnd.plotly.v1+json": {
       "config": {
        "plotlyServerURL": "https://plot.ly"
       },
       "data": [
        {
         "alignmentgroup": "True",
         "boxpoints": "all",
         "customdata": [
          [
           "undistorted_GX010191_101_1265.jpg",
           0
          ],
          [
           "undistorted_GX010191_102_1277.jpg",
           0
          ],
          [
           "undistorted_GX010191_103_1289.jpg",
           0
          ],
          [
           "undistorted_GX010191_105_1312.jpg",
           0
          ],
          [
           "undistorted_GX010191_107_1330.jpg",
           0
          ],
          [
           "undistorted_GX010191_10_370.jpg",
           0
          ],
          [
           "undistorted_GX010191_110_1355.jpg",
           3
          ],
          [
           "undistorted_GX010191_13_439.jpg",
           0
          ],
          [
           "undistorted_GX010191_15_479.jpg",
           0
          ],
          [
           "undistorted_GX010191_16_495.jpg",
           2
          ],
          [
           "undistorted_GX010191_16_495.jpg",
           3
          ],
          [
           "undistorted_GX010191_31_283.jpg",
           2
          ],
          [
           "undistorted_GX010191_34_1128.jpg",
           1
          ],
          [
           "undistorted_GX010191_35_1167.jpg",
           1
          ],
          [
           "undistorted_GX010191_35_367.jpg",
           0
          ],
          [
           "undistorted_GX010191_36_1195.jpg",
           1
          ],
          [
           "undistorted_GX010191_36_381.jpg",
           0
          ],
          [
           "undistorted_GX010191_38_1266.jpg",
           0
          ],
          [
           "undistorted_GX010191_39_416.jpg",
           0
          ],
          [
           "undistorted_GX010191_42_1339.jpg",
           0
          ],
          [
           "undistorted_GX010191_42_1339.jpg",
           5
          ],
          [
           "undistorted_GX010191_42_457.jpg",
           0
          ],
          [
           "undistorted_GX010191_42_457.jpg",
           3
          ],
          [
           "undistorted_GX010191_43_1353.jpg",
           0
          ],
          [
           "undistorted_GX010191_44_478.jpg",
           0
          ],
          [
           "undistorted_GX010191_46_497.jpg",
           1
          ],
          [
           "undistorted_GX010191_94_1132.jpg",
           0
          ],
          [
           "undistorted_GX010191_95_1157.jpg",
           1
          ],
          [
           "undistorted_GX010191_98_1211.jpg",
           0
          ],
          [
           "undistorted_GX010191_99_1233.jpg",
           1
          ],
          [
           "undistorted_GX010192_17_1035.jpg",
           0
          ],
          [
           "undistorted_GX010192_25_1553.jpg",
           0
          ],
          [
           "undistorted_GX010192_26_1578.jpg",
           0
          ],
          [
           "undistorted_GX010192_9_675.jpg",
           1
          ],
          [
           "undistorted_GX010193_17_1264.jpg",
           0
          ],
          [
           "undistorted_GX010193_18_1289.jpg",
           0
          ],
          [
           "undistorted_GX010193_19_1334.jpg",
           0
          ],
          [
           "undistorted_GX010193_20_1365.jpg",
           2
          ],
          [
           "undistorted_GX010194_36_485.jpg",
           1
          ],
          [
           "undistorted_GX010194_37_496.jpg",
           1
          ],
          [
           "undistorted_GX010194_38_504.jpg",
           1
          ],
          [
           "undistorted_GX010194_39_513.jpg",
           1
          ],
          [
           "undistorted_GX010194_60_836.jpg",
           0
          ]
         ],
         "hovertemplate": "pond=%{x}<br>MAE_Box_fov=%{y}<br>image_path=%{customdata[0]}<br>index=%{customdata[1]}<extra></extra>",
         "legendgroup": "",
         "marker": {
          "color": "#636efa"
         },
         "name": "",
         "notched": false,
         "offsetgroup": "",
         "orientation": "v",
         "showlegend": false,
         "type": "box",
         "x": [
          700,
          700,
          700,
          700,
          700,
          700,
          700,
          700,
          700,
          700,
          700,
          700,
          700,
          700,
          700,
          700,
          700,
          700,
          700,
          700,
          700,
          700,
          700,
          700,
          700,
          700,
          700,
          700,
          700,
          700,
          410,
          410,
          410,
          410,
          410,
          410,
          410,
          410,
          410,
          410,
          410,
          410,
          410
         ],
         "x0": " ",
         "xaxis": "x",
         "y": [
          2.8875409749360585,
          0.1366156044261117,
          6.355517224847858,
          5.111732219297039,
          12.113080399830238,
          1.6117962292642003,
          1.7497225596096089,
          5.170386584538477,
          0.5304904924924756,
          6.0746196832175485,
          8.117570415182968,
          2.7271259947937097,
          14.127651177808248,
          15.613127104898185,
          0.7529550989514746,
          12.474318955894605,
          2.1957688325310585,
          2.790542302551671,
          5.741084489259663,
          3.367515255268529,
          2.3833927159396358,
          13.371947253490532,
          6.14691660111265,
          5.9966897962137296,
          9.095480610877845,
          1.1083983721720756,
          21.391984471624085,
          11.29685225634563,
          10.509791373764386,
          13.883856670602938,
          14.293675074539236,
          8.62240811855196,
          12.454199298279292,
          12.51255548571487,
          6.293393421293786,
          10.500760111501364,
          12.427895756118602,
          0.3340294194444766,
          2.624363257885989,
          6.063192076452879,
          7.424375963535027,
          6.070127280937697,
          12.415741705602954
         ],
         "y0": " ",
         "yaxis": "y"
        }
       ],
       "layout": {
        "boxmode": "group",
        "legend": {
         "tracegroupgap": 0
        },
        "template": {
         "data": {
          "bar": [
           {
            "error_x": {
             "color": "#2a3f5f"
            },
            "error_y": {
             "color": "#2a3f5f"
            },
            "marker": {
             "line": {
              "color": "#E5ECF6",
              "width": 0.5
             },
             "pattern": {
              "fillmode": "overlay",
              "size": 10,
              "solidity": 0.2
             }
            },
            "type": "bar"
           }
          ],
          "barpolar": [
           {
            "marker": {
             "line": {
              "color": "#E5ECF6",
              "width": 0.5
             },
             "pattern": {
              "fillmode": "overlay",
              "size": 10,
              "solidity": 0.2
             }
            },
            "type": "barpolar"
           }
          ],
          "carpet": [
           {
            "aaxis": {
             "endlinecolor": "#2a3f5f",
             "gridcolor": "white",
             "linecolor": "white",
             "minorgridcolor": "white",
             "startlinecolor": "#2a3f5f"
            },
            "baxis": {
             "endlinecolor": "#2a3f5f",
             "gridcolor": "white",
             "linecolor": "white",
             "minorgridcolor": "white",
             "startlinecolor": "#2a3f5f"
            },
            "type": "carpet"
           }
          ],
          "choropleth": [
           {
            "colorbar": {
             "outlinewidth": 0,
             "ticks": ""
            },
            "type": "choropleth"
           }
          ],
          "contour": [
           {
            "colorbar": {
             "outlinewidth": 0,
             "ticks": ""
            },
            "colorscale": [
             [
              0,
              "#0d0887"
             ],
             [
              0.1111111111111111,
              "#46039f"
             ],
             [
              0.2222222222222222,
              "#7201a8"
             ],
             [
              0.3333333333333333,
              "#9c179e"
             ],
             [
              0.4444444444444444,
              "#bd3786"
             ],
             [
              0.5555555555555556,
              "#d8576b"
             ],
             [
              0.6666666666666666,
              "#ed7953"
             ],
             [
              0.7777777777777778,
              "#fb9f3a"
             ],
             [
              0.8888888888888888,
              "#fdca26"
             ],
             [
              1,
              "#f0f921"
             ]
            ],
            "type": "contour"
           }
          ],
          "contourcarpet": [
           {
            "colorbar": {
             "outlinewidth": 0,
             "ticks": ""
            },
            "type": "contourcarpet"
           }
          ],
          "heatmap": [
           {
            "colorbar": {
             "outlinewidth": 0,
             "ticks": ""
            },
            "colorscale": [
             [
              0,
              "#0d0887"
             ],
             [
              0.1111111111111111,
              "#46039f"
             ],
             [
              0.2222222222222222,
              "#7201a8"
             ],
             [
              0.3333333333333333,
              "#9c179e"
             ],
             [
              0.4444444444444444,
              "#bd3786"
             ],
             [
              0.5555555555555556,
              "#d8576b"
             ],
             [
              0.6666666666666666,
              "#ed7953"
             ],
             [
              0.7777777777777778,
              "#fb9f3a"
             ],
             [
              0.8888888888888888,
              "#fdca26"
             ],
             [
              1,
              "#f0f921"
             ]
            ],
            "type": "heatmap"
           }
          ],
          "heatmapgl": [
           {
            "colorbar": {
             "outlinewidth": 0,
             "ticks": ""
            },
            "colorscale": [
             [
              0,
              "#0d0887"
             ],
             [
              0.1111111111111111,
              "#46039f"
             ],
             [
              0.2222222222222222,
              "#7201a8"
             ],
             [
              0.3333333333333333,
              "#9c179e"
             ],
             [
              0.4444444444444444,
              "#bd3786"
             ],
             [
              0.5555555555555556,
              "#d8576b"
             ],
             [
              0.6666666666666666,
              "#ed7953"
             ],
             [
              0.7777777777777778,
              "#fb9f3a"
             ],
             [
              0.8888888888888888,
              "#fdca26"
             ],
             [
              1,
              "#f0f921"
             ]
            ],
            "type": "heatmapgl"
           }
          ],
          "histogram": [
           {
            "marker": {
             "pattern": {
              "fillmode": "overlay",
              "size": 10,
              "solidity": 0.2
             }
            },
            "type": "histogram"
           }
          ],
          "histogram2d": [
           {
            "colorbar": {
             "outlinewidth": 0,
             "ticks": ""
            },
            "colorscale": [
             [
              0,
              "#0d0887"
             ],
             [
              0.1111111111111111,
              "#46039f"
             ],
             [
              0.2222222222222222,
              "#7201a8"
             ],
             [
              0.3333333333333333,
              "#9c179e"
             ],
             [
              0.4444444444444444,
              "#bd3786"
             ],
             [
              0.5555555555555556,
              "#d8576b"
             ],
             [
              0.6666666666666666,
              "#ed7953"
             ],
             [
              0.7777777777777778,
              "#fb9f3a"
             ],
             [
              0.8888888888888888,
              "#fdca26"
             ],
             [
              1,
              "#f0f921"
             ]
            ],
            "type": "histogram2d"
           }
          ],
          "histogram2dcontour": [
           {
            "colorbar": {
             "outlinewidth": 0,
             "ticks": ""
            },
            "colorscale": [
             [
              0,
              "#0d0887"
             ],
             [
              0.1111111111111111,
              "#46039f"
             ],
             [
              0.2222222222222222,
              "#7201a8"
             ],
             [
              0.3333333333333333,
              "#9c179e"
             ],
             [
              0.4444444444444444,
              "#bd3786"
             ],
             [
              0.5555555555555556,
              "#d8576b"
             ],
             [
              0.6666666666666666,
              "#ed7953"
             ],
             [
              0.7777777777777778,
              "#fb9f3a"
             ],
             [
              0.8888888888888888,
              "#fdca26"
             ],
             [
              1,
              "#f0f921"
             ]
            ],
            "type": "histogram2dcontour"
           }
          ],
          "mesh3d": [
           {
            "colorbar": {
             "outlinewidth": 0,
             "ticks": ""
            },
            "type": "mesh3d"
           }
          ],
          "parcoords": [
           {
            "line": {
             "colorbar": {
              "outlinewidth": 0,
              "ticks": ""
             }
            },
            "type": "parcoords"
           }
          ],
          "pie": [
           {
            "automargin": true,
            "type": "pie"
           }
          ],
          "scatter": [
           {
            "fillpattern": {
             "fillmode": "overlay",
             "size": 10,
             "solidity": 0.2
            },
            "type": "scatter"
           }
          ],
          "scatter3d": [
           {
            "line": {
             "colorbar": {
              "outlinewidth": 0,
              "ticks": ""
             }
            },
            "marker": {
             "colorbar": {
              "outlinewidth": 0,
              "ticks": ""
             }
            },
            "type": "scatter3d"
           }
          ],
          "scattercarpet": [
           {
            "marker": {
             "colorbar": {
              "outlinewidth": 0,
              "ticks": ""
             }
            },
            "type": "scattercarpet"
           }
          ],
          "scattergeo": [
           {
            "marker": {
             "colorbar": {
              "outlinewidth": 0,
              "ticks": ""
             }
            },
            "type": "scattergeo"
           }
          ],
          "scattergl": [
           {
            "marker": {
             "colorbar": {
              "outlinewidth": 0,
              "ticks": ""
             }
            },
            "type": "scattergl"
           }
          ],
          "scattermapbox": [
           {
            "marker": {
             "colorbar": {
              "outlinewidth": 0,
              "ticks": ""
             }
            },
            "type": "scattermapbox"
           }
          ],
          "scatterpolar": [
           {
            "marker": {
             "colorbar": {
              "outlinewidth": 0,
              "ticks": ""
             }
            },
            "type": "scatterpolar"
           }
          ],
          "scatterpolargl": [
           {
            "marker": {
             "colorbar": {
              "outlinewidth": 0,
              "ticks": ""
             }
            },
            "type": "scatterpolargl"
           }
          ],
          "scatterternary": [
           {
            "marker": {
             "colorbar": {
              "outlinewidth": 0,
              "ticks": ""
             }
            },
            "type": "scatterternary"
           }
          ],
          "surface": [
           {
            "colorbar": {
             "outlinewidth": 0,
             "ticks": ""
            },
            "colorscale": [
             [
              0,
              "#0d0887"
             ],
             [
              0.1111111111111111,
              "#46039f"
             ],
             [
              0.2222222222222222,
              "#7201a8"
             ],
             [
              0.3333333333333333,
              "#9c179e"
             ],
             [
              0.4444444444444444,
              "#bd3786"
             ],
             [
              0.5555555555555556,
              "#d8576b"
             ],
             [
              0.6666666666666666,
              "#ed7953"
             ],
             [
              0.7777777777777778,
              "#fb9f3a"
             ],
             [
              0.8888888888888888,
              "#fdca26"
             ],
             [
              1,
              "#f0f921"
             ]
            ],
            "type": "surface"
           }
          ],
          "table": [
           {
            "cells": {
             "fill": {
              "color": "#EBF0F8"
             },
             "line": {
              "color": "white"
             }
            },
            "header": {
             "fill": {
              "color": "#C8D4E3"
             },
             "line": {
              "color": "white"
             }
            },
            "type": "table"
           }
          ]
         },
         "layout": {
          "annotationdefaults": {
           "arrowcolor": "#2a3f5f",
           "arrowhead": 0,
           "arrowwidth": 1
          },
          "autotypenumbers": "strict",
          "coloraxis": {
           "colorbar": {
            "outlinewidth": 0,
            "ticks": ""
           }
          },
          "colorscale": {
           "diverging": [
            [
             0,
             "#8e0152"
            ],
            [
             0.1,
             "#c51b7d"
            ],
            [
             0.2,
             "#de77ae"
            ],
            [
             0.3,
             "#f1b6da"
            ],
            [
             0.4,
             "#fde0ef"
            ],
            [
             0.5,
             "#f7f7f7"
            ],
            [
             0.6,
             "#e6f5d0"
            ],
            [
             0.7,
             "#b8e186"
            ],
            [
             0.8,
             "#7fbc41"
            ],
            [
             0.9,
             "#4d9221"
            ],
            [
             1,
             "#276419"
            ]
           ],
           "sequential": [
            [
             0,
             "#0d0887"
            ],
            [
             0.1111111111111111,
             "#46039f"
            ],
            [
             0.2222222222222222,
             "#7201a8"
            ],
            [
             0.3333333333333333,
             "#9c179e"
            ],
            [
             0.4444444444444444,
             "#bd3786"
            ],
            [
             0.5555555555555556,
             "#d8576b"
            ],
            [
             0.6666666666666666,
             "#ed7953"
            ],
            [
             0.7777777777777778,
             "#fb9f3a"
            ],
            [
             0.8888888888888888,
             "#fdca26"
            ],
            [
             1,
             "#f0f921"
            ]
           ],
           "sequentialminus": [
            [
             0,
             "#0d0887"
            ],
            [
             0.1111111111111111,
             "#46039f"
            ],
            [
             0.2222222222222222,
             "#7201a8"
            ],
            [
             0.3333333333333333,
             "#9c179e"
            ],
            [
             0.4444444444444444,
             "#bd3786"
            ],
            [
             0.5555555555555556,
             "#d8576b"
            ],
            [
             0.6666666666666666,
             "#ed7953"
            ],
            [
             0.7777777777777778,
             "#fb9f3a"
            ],
            [
             0.8888888888888888,
             "#fdca26"
            ],
            [
             1,
             "#f0f921"
            ]
           ]
          },
          "colorway": [
           "#636efa",
           "#EF553B",
           "#00cc96",
           "#ab63fa",
           "#FFA15A",
           "#19d3f3",
           "#FF6692",
           "#B6E880",
           "#FF97FF",
           "#FECB52"
          ],
          "font": {
           "color": "#2a3f5f"
          },
          "geo": {
           "bgcolor": "white",
           "lakecolor": "white",
           "landcolor": "#E5ECF6",
           "showlakes": true,
           "showland": true,
           "subunitcolor": "white"
          },
          "hoverlabel": {
           "align": "left"
          },
          "hovermode": "closest",
          "mapbox": {
           "style": "light"
          },
          "paper_bgcolor": "white",
          "plot_bgcolor": "#E5ECF6",
          "polar": {
           "angularaxis": {
            "gridcolor": "white",
            "linecolor": "white",
            "ticks": ""
           },
           "bgcolor": "#E5ECF6",
           "radialaxis": {
            "gridcolor": "white",
            "linecolor": "white",
            "ticks": ""
           }
          },
          "scene": {
           "xaxis": {
            "backgroundcolor": "#E5ECF6",
            "gridcolor": "white",
            "gridwidth": 2,
            "linecolor": "white",
            "showbackground": true,
            "ticks": "",
            "zerolinecolor": "white"
           },
           "yaxis": {
            "backgroundcolor": "#E5ECF6",
            "gridcolor": "white",
            "gridwidth": 2,
            "linecolor": "white",
            "showbackground": true,
            "ticks": "",
            "zerolinecolor": "white"
           },
           "zaxis": {
            "backgroundcolor": "#E5ECF6",
            "gridcolor": "white",
            "gridwidth": 2,
            "linecolor": "white",
            "showbackground": true,
            "ticks": "",
            "zerolinecolor": "white"
           }
          },
          "shapedefaults": {
           "line": {
            "color": "#2a3f5f"
           }
          },
          "ternary": {
           "aaxis": {
            "gridcolor": "white",
            "linecolor": "white",
            "ticks": ""
           },
           "baxis": {
            "gridcolor": "white",
            "linecolor": "white",
            "ticks": ""
           },
           "bgcolor": "#E5ECF6",
           "caxis": {
            "gridcolor": "white",
            "linecolor": "white",
            "ticks": ""
           }
          },
          "title": {
           "x": 0.05
          },
          "xaxis": {
           "automargin": true,
           "gridcolor": "white",
           "linecolor": "white",
           "ticks": "",
           "title": {
            "standoff": 15
           },
           "zerolinecolor": "white",
           "zerolinewidth": 2
          },
          "yaxis": {
           "automargin": true,
           "gridcolor": "white",
           "linecolor": "white",
           "ticks": "",
           "title": {
            "standoff": 15
           },
           "zerolinecolor": "white",
           "zerolinewidth": 2
          }
         }
        },
        "title": {
         "text": "Box plot of MAE_Box_fov for 143mm"
        },
        "xaxis": {
         "anchor": "y",
         "domain": [
          0,
          1
         ],
         "title": {
          "text": "pond"
         }
        },
        "yaxis": {
         "anchor": "x",
         "domain": [
          0,
          1
         ],
         "title": {
          "text": "MAE_Box_fov"
         }
        }
       }
      }
     },
     "metadata": {},
     "output_type": "display_data"
    },
    {
     "data": {
      "application/vnd.plotly.v1+json": {
       "config": {
        "plotlyServerURL": "https://plot.ly"
       },
       "data": [
        {
         "alignmentgroup": "True",
         "boxpoints": "all",
         "customdata": [
          [
           "undistorted_GX010191_116_1399.jpg",
           0
          ],
          [
           "undistorted_GX010191_16_495.jpg",
           1
          ],
          [
           "undistorted_GX010191_17_509.jpg",
           1
          ],
          [
           "undistorted_GX010191_18_521.jpg",
           0
          ],
          [
           "undistorted_GX010191_19_537.jpg",
           0
          ],
          [
           "undistorted_GX010191_29_257.jpg",
           1
          ],
          [
           "undistorted_GX010191_31_283.jpg",
           1
          ],
          [
           "undistorted_GX010191_32_1049.jpg",
           0
          ],
          [
           "undistorted_GX010191_33_1087.jpg",
           1
          ],
          [
           "undistorted_GX010191_33_331.jpg",
           0
          ],
          [
           "undistorted_GX010191_33_331.jpg",
           2
          ],
          [
           "undistorted_GX010191_34_1128.jpg",
           0
          ],
          [
           "undistorted_GX010191_35_1167.jpg",
           0
          ],
          [
           "undistorted_GX010191_35_1167.jpg",
           4
          ],
          [
           "undistorted_GX010191_42_1339.jpg",
           1
          ],
          [
           "undistorted_GX010191_43_1353.jpg",
           3
          ],
          [
           "undistorted_GX010191_44_478.jpg",
           1
          ],
          [
           "undistorted_GX010191_51_535.jpg",
           0
          ],
          [
           "undistorted_GX010191_5_190.jpg",
           2
          ],
          [
           "undistorted_GX010191_6_219.jpg",
           0
          ],
          [
           "undistorted_GX010191_88_1016.jpg",
           0
          ],
          [
           "undistorted_GX010191_91_1066.jpg",
           2
          ],
          [
           "undistorted_GX010191_92_1087.jpg",
           1
          ],
          [
           "undistorted_GX010191_95_1157.jpg",
           0
          ],
          [
           "undistorted_GX010191_96_1175.jpg",
           0
          ],
          [
           "undistorted_GX010191_97_1190.jpg",
           0
          ],
          [
           "undistorted_GX010191_98_1211.jpg",
           1
          ],
          [
           "undistorted_GX010193_10_1039.jpg",
           0
          ],
          [
           "undistorted_GX010193_11_1065.jpg",
           0
          ],
          [
           "undistorted_GX010193_27_1553.jpg",
           1
          ],
          [
           "undistorted_GX010193_3_251.jpg",
           0
          ],
          [
           "undistorted_GX010193_4_283.jpg",
           1
          ],
          [
           "undistorted_GX010194_15_231.jpg",
           0
          ],
          [
           "undistorted_GX010194_16_240.jpg",
           0
          ],
          [
           "undistorted_GX010194_17_257.jpg",
           1
          ],
          [
           "undistorted_GX010194_18_272.jpg",
           0
          ],
          [
           "undistorted_GX010194_19_285.jpg",
           0
          ],
          [
           "undistorted_GX010194_46_620.jpg",
           1
          ],
          [
           "undistorted_GX010194_55_768.jpg",
           2
          ],
          [
           "undistorted_GX010194_56_784.jpg",
           0
          ],
          [
           "undistorted_GX010194_57_798.jpg",
           0
          ],
          [
           "undistorted_GX010194_58_810.jpg",
           2
          ]
         ],
         "hovertemplate": "pond=%{x}<br>MAE_Box_fov=%{y}<br>image_path=%{customdata[0]}<br>index=%{customdata[1]}<extra></extra>",
         "legendgroup": "",
         "marker": {
          "color": "#636efa"
         },
         "name": "",
         "notched": false,
         "offsetgroup": "",
         "orientation": "v",
         "showlegend": false,
         "type": "box",
         "x": [
          700,
          700,
          700,
          700,
          700,
          700,
          700,
          700,
          700,
          700,
          700,
          700,
          700,
          700,
          700,
          700,
          700,
          700,
          700,
          700,
          700,
          700,
          700,
          700,
          700,
          700,
          700,
          410,
          410,
          410,
          410,
          410,
          410,
          410,
          410,
          410,
          410,
          410,
          410,
          410,
          410,
          410
         ],
         "x0": " ",
         "xaxis": "x",
         "y": [
          13.320169660130318,
          1.0486735317513478,
          6.215311180904308,
          6.9394844547144885,
          6.177452514338057,
          21.896372289652533,
          7.540457327300345,
          13.084430911073184,
          10.86459978269491,
          7.446111317385373,
          7.702739680110142,
          6.648770277568502,
          16.616339034701156,
          16.616339034701156,
          10.853150783148864,
          4.289915583273512,
          2.851490700175816,
          7.133323713836148,
          18.49443195814069,
          15.41103117597467,
          25.389062779331223,
          12.969062998630278,
          10.86459978269491,
          16.50751340771322,
          11.143440647690312,
          22.533090600543403,
          22.96714237745246,
          3.845466416044388,
          10.8217700477758,
          13.05206787812537,
          21.2648405099564,
          6.877791671874036,
          16.92668411079279,
          9.44984716950674,
          12.947548845672856,
          15.075525786853092,
          3.2148807633394085,
          11.92354915853005,
          12.514956928206203,
          26.766565291431878,
          20.41555300388805,
          23.946293845865316
         ],
         "y0": " ",
         "yaxis": "y"
        }
       ],
       "layout": {
        "boxmode": "group",
        "legend": {
         "tracegroupgap": 0
        },
        "template": {
         "data": {
          "bar": [
           {
            "error_x": {
             "color": "#2a3f5f"
            },
            "error_y": {
             "color": "#2a3f5f"
            },
            "marker": {
             "line": {
              "color": "#E5ECF6",
              "width": 0.5
             },
             "pattern": {
              "fillmode": "overlay",
              "size": 10,
              "solidity": 0.2
             }
            },
            "type": "bar"
           }
          ],
          "barpolar": [
           {
            "marker": {
             "line": {
              "color": "#E5ECF6",
              "width": 0.5
             },
             "pattern": {
              "fillmode": "overlay",
              "size": 10,
              "solidity": 0.2
             }
            },
            "type": "barpolar"
           }
          ],
          "carpet": [
           {
            "aaxis": {
             "endlinecolor": "#2a3f5f",
             "gridcolor": "white",
             "linecolor": "white",
             "minorgridcolor": "white",
             "startlinecolor": "#2a3f5f"
            },
            "baxis": {
             "endlinecolor": "#2a3f5f",
             "gridcolor": "white",
             "linecolor": "white",
             "minorgridcolor": "white",
             "startlinecolor": "#2a3f5f"
            },
            "type": "carpet"
           }
          ],
          "choropleth": [
           {
            "colorbar": {
             "outlinewidth": 0,
             "ticks": ""
            },
            "type": "choropleth"
           }
          ],
          "contour": [
           {
            "colorbar": {
             "outlinewidth": 0,
             "ticks": ""
            },
            "colorscale": [
             [
              0,
              "#0d0887"
             ],
             [
              0.1111111111111111,
              "#46039f"
             ],
             [
              0.2222222222222222,
              "#7201a8"
             ],
             [
              0.3333333333333333,
              "#9c179e"
             ],
             [
              0.4444444444444444,
              "#bd3786"
             ],
             [
              0.5555555555555556,
              "#d8576b"
             ],
             [
              0.6666666666666666,
              "#ed7953"
             ],
             [
              0.7777777777777778,
              "#fb9f3a"
             ],
             [
              0.8888888888888888,
              "#fdca26"
             ],
             [
              1,
              "#f0f921"
             ]
            ],
            "type": "contour"
           }
          ],
          "contourcarpet": [
           {
            "colorbar": {
             "outlinewidth": 0,
             "ticks": ""
            },
            "type": "contourcarpet"
           }
          ],
          "heatmap": [
           {
            "colorbar": {
             "outlinewidth": 0,
             "ticks": ""
            },
            "colorscale": [
             [
              0,
              "#0d0887"
             ],
             [
              0.1111111111111111,
              "#46039f"
             ],
             [
              0.2222222222222222,
              "#7201a8"
             ],
             [
              0.3333333333333333,
              "#9c179e"
             ],
             [
              0.4444444444444444,
              "#bd3786"
             ],
             [
              0.5555555555555556,
              "#d8576b"
             ],
             [
              0.6666666666666666,
              "#ed7953"
             ],
             [
              0.7777777777777778,
              "#fb9f3a"
             ],
             [
              0.8888888888888888,
              "#fdca26"
             ],
             [
              1,
              "#f0f921"
             ]
            ],
            "type": "heatmap"
           }
          ],
          "heatmapgl": [
           {
            "colorbar": {
             "outlinewidth": 0,
             "ticks": ""
            },
            "colorscale": [
             [
              0,
              "#0d0887"
             ],
             [
              0.1111111111111111,
              "#46039f"
             ],
             [
              0.2222222222222222,
              "#7201a8"
             ],
             [
              0.3333333333333333,
              "#9c179e"
             ],
             [
              0.4444444444444444,
              "#bd3786"
             ],
             [
              0.5555555555555556,
              "#d8576b"
             ],
             [
              0.6666666666666666,
              "#ed7953"
             ],
             [
              0.7777777777777778,
              "#fb9f3a"
             ],
             [
              0.8888888888888888,
              "#fdca26"
             ],
             [
              1,
              "#f0f921"
             ]
            ],
            "type": "heatmapgl"
           }
          ],
          "histogram": [
           {
            "marker": {
             "pattern": {
              "fillmode": "overlay",
              "size": 10,
              "solidity": 0.2
             }
            },
            "type": "histogram"
           }
          ],
          "histogram2d": [
           {
            "colorbar": {
             "outlinewidth": 0,
             "ticks": ""
            },
            "colorscale": [
             [
              0,
              "#0d0887"
             ],
             [
              0.1111111111111111,
              "#46039f"
             ],
             [
              0.2222222222222222,
              "#7201a8"
             ],
             [
              0.3333333333333333,
              "#9c179e"
             ],
             [
              0.4444444444444444,
              "#bd3786"
             ],
             [
              0.5555555555555556,
              "#d8576b"
             ],
             [
              0.6666666666666666,
              "#ed7953"
             ],
             [
              0.7777777777777778,
              "#fb9f3a"
             ],
             [
              0.8888888888888888,
              "#fdca26"
             ],
             [
              1,
              "#f0f921"
             ]
            ],
            "type": "histogram2d"
           }
          ],
          "histogram2dcontour": [
           {
            "colorbar": {
             "outlinewidth": 0,
             "ticks": ""
            },
            "colorscale": [
             [
              0,
              "#0d0887"
             ],
             [
              0.1111111111111111,
              "#46039f"
             ],
             [
              0.2222222222222222,
              "#7201a8"
             ],
             [
              0.3333333333333333,
              "#9c179e"
             ],
             [
              0.4444444444444444,
              "#bd3786"
             ],
             [
              0.5555555555555556,
              "#d8576b"
             ],
             [
              0.6666666666666666,
              "#ed7953"
             ],
             [
              0.7777777777777778,
              "#fb9f3a"
             ],
             [
              0.8888888888888888,
              "#fdca26"
             ],
             [
              1,
              "#f0f921"
             ]
            ],
            "type": "histogram2dcontour"
           }
          ],
          "mesh3d": [
           {
            "colorbar": {
             "outlinewidth": 0,
             "ticks": ""
            },
            "type": "mesh3d"
           }
          ],
          "parcoords": [
           {
            "line": {
             "colorbar": {
              "outlinewidth": 0,
              "ticks": ""
             }
            },
            "type": "parcoords"
           }
          ],
          "pie": [
           {
            "automargin": true,
            "type": "pie"
           }
          ],
          "scatter": [
           {
            "fillpattern": {
             "fillmode": "overlay",
             "size": 10,
             "solidity": 0.2
            },
            "type": "scatter"
           }
          ],
          "scatter3d": [
           {
            "line": {
             "colorbar": {
              "outlinewidth": 0,
              "ticks": ""
             }
            },
            "marker": {
             "colorbar": {
              "outlinewidth": 0,
              "ticks": ""
             }
            },
            "type": "scatter3d"
           }
          ],
          "scattercarpet": [
           {
            "marker": {
             "colorbar": {
              "outlinewidth": 0,
              "ticks": ""
             }
            },
            "type": "scattercarpet"
           }
          ],
          "scattergeo": [
           {
            "marker": {
             "colorbar": {
              "outlinewidth": 0,
              "ticks": ""
             }
            },
            "type": "scattergeo"
           }
          ],
          "scattergl": [
           {
            "marker": {
             "colorbar": {
              "outlinewidth": 0,
              "ticks": ""
             }
            },
            "type": "scattergl"
           }
          ],
          "scattermapbox": [
           {
            "marker": {
             "colorbar": {
              "outlinewidth": 0,
              "ticks": ""
             }
            },
            "type": "scattermapbox"
           }
          ],
          "scatterpolar": [
           {
            "marker": {
             "colorbar": {
              "outlinewidth": 0,
              "ticks": ""
             }
            },
            "type": "scatterpolar"
           }
          ],
          "scatterpolargl": [
           {
            "marker": {
             "colorbar": {
              "outlinewidth": 0,
              "ticks": ""
             }
            },
            "type": "scatterpolargl"
           }
          ],
          "scatterternary": [
           {
            "marker": {
             "colorbar": {
              "outlinewidth": 0,
              "ticks": ""
             }
            },
            "type": "scatterternary"
           }
          ],
          "surface": [
           {
            "colorbar": {
             "outlinewidth": 0,
             "ticks": ""
            },
            "colorscale": [
             [
              0,
              "#0d0887"
             ],
             [
              0.1111111111111111,
              "#46039f"
             ],
             [
              0.2222222222222222,
              "#7201a8"
             ],
             [
              0.3333333333333333,
              "#9c179e"
             ],
             [
              0.4444444444444444,
              "#bd3786"
             ],
             [
              0.5555555555555556,
              "#d8576b"
             ],
             [
              0.6666666666666666,
              "#ed7953"
             ],
             [
              0.7777777777777778,
              "#fb9f3a"
             ],
             [
              0.8888888888888888,
              "#fdca26"
             ],
             [
              1,
              "#f0f921"
             ]
            ],
            "type": "surface"
           }
          ],
          "table": [
           {
            "cells": {
             "fill": {
              "color": "#EBF0F8"
             },
             "line": {
              "color": "white"
             }
            },
            "header": {
             "fill": {
              "color": "#C8D4E3"
             },
             "line": {
              "color": "white"
             }
            },
            "type": "table"
           }
          ]
         },
         "layout": {
          "annotationdefaults": {
           "arrowcolor": "#2a3f5f",
           "arrowhead": 0,
           "arrowwidth": 1
          },
          "autotypenumbers": "strict",
          "coloraxis": {
           "colorbar": {
            "outlinewidth": 0,
            "ticks": ""
           }
          },
          "colorscale": {
           "diverging": [
            [
             0,
             "#8e0152"
            ],
            [
             0.1,
             "#c51b7d"
            ],
            [
             0.2,
             "#de77ae"
            ],
            [
             0.3,
             "#f1b6da"
            ],
            [
             0.4,
             "#fde0ef"
            ],
            [
             0.5,
             "#f7f7f7"
            ],
            [
             0.6,
             "#e6f5d0"
            ],
            [
             0.7,
             "#b8e186"
            ],
            [
             0.8,
             "#7fbc41"
            ],
            [
             0.9,
             "#4d9221"
            ],
            [
             1,
             "#276419"
            ]
           ],
           "sequential": [
            [
             0,
             "#0d0887"
            ],
            [
             0.1111111111111111,
             "#46039f"
            ],
            [
             0.2222222222222222,
             "#7201a8"
            ],
            [
             0.3333333333333333,
             "#9c179e"
            ],
            [
             0.4444444444444444,
             "#bd3786"
            ],
            [
             0.5555555555555556,
             "#d8576b"
            ],
            [
             0.6666666666666666,
             "#ed7953"
            ],
            [
             0.7777777777777778,
             "#fb9f3a"
            ],
            [
             0.8888888888888888,
             "#fdca26"
            ],
            [
             1,
             "#f0f921"
            ]
           ],
           "sequentialminus": [
            [
             0,
             "#0d0887"
            ],
            [
             0.1111111111111111,
             "#46039f"
            ],
            [
             0.2222222222222222,
             "#7201a8"
            ],
            [
             0.3333333333333333,
             "#9c179e"
            ],
            [
             0.4444444444444444,
             "#bd3786"
            ],
            [
             0.5555555555555556,
             "#d8576b"
            ],
            [
             0.6666666666666666,
             "#ed7953"
            ],
            [
             0.7777777777777778,
             "#fb9f3a"
            ],
            [
             0.8888888888888888,
             "#fdca26"
            ],
            [
             1,
             "#f0f921"
            ]
           ]
          },
          "colorway": [
           "#636efa",
           "#EF553B",
           "#00cc96",
           "#ab63fa",
           "#FFA15A",
           "#19d3f3",
           "#FF6692",
           "#B6E880",
           "#FF97FF",
           "#FECB52"
          ],
          "font": {
           "color": "#2a3f5f"
          },
          "geo": {
           "bgcolor": "white",
           "lakecolor": "white",
           "landcolor": "#E5ECF6",
           "showlakes": true,
           "showland": true,
           "subunitcolor": "white"
          },
          "hoverlabel": {
           "align": "left"
          },
          "hovermode": "closest",
          "mapbox": {
           "style": "light"
          },
          "paper_bgcolor": "white",
          "plot_bgcolor": "#E5ECF6",
          "polar": {
           "angularaxis": {
            "gridcolor": "white",
            "linecolor": "white",
            "ticks": ""
           },
           "bgcolor": "#E5ECF6",
           "radialaxis": {
            "gridcolor": "white",
            "linecolor": "white",
            "ticks": ""
           }
          },
          "scene": {
           "xaxis": {
            "backgroundcolor": "#E5ECF6",
            "gridcolor": "white",
            "gridwidth": 2,
            "linecolor": "white",
            "showbackground": true,
            "ticks": "",
            "zerolinecolor": "white"
           },
           "yaxis": {
            "backgroundcolor": "#E5ECF6",
            "gridcolor": "white",
            "gridwidth": 2,
            "linecolor": "white",
            "showbackground": true,
            "ticks": "",
            "zerolinecolor": "white"
           },
           "zaxis": {
            "backgroundcolor": "#E5ECF6",
            "gridcolor": "white",
            "gridwidth": 2,
            "linecolor": "white",
            "showbackground": true,
            "ticks": "",
            "zerolinecolor": "white"
           }
          },
          "shapedefaults": {
           "line": {
            "color": "#2a3f5f"
           }
          },
          "ternary": {
           "aaxis": {
            "gridcolor": "white",
            "linecolor": "white",
            "ticks": ""
           },
           "baxis": {
            "gridcolor": "white",
            "linecolor": "white",
            "ticks": ""
           },
           "bgcolor": "#E5ECF6",
           "caxis": {
            "gridcolor": "white",
            "linecolor": "white",
            "ticks": ""
           }
          },
          "title": {
           "x": 0.05
          },
          "xaxis": {
           "automargin": true,
           "gridcolor": "white",
           "linecolor": "white",
           "ticks": "",
           "title": {
            "standoff": 15
           },
           "zerolinecolor": "white",
           "zerolinewidth": 2
          },
          "yaxis": {
           "automargin": true,
           "gridcolor": "white",
           "linecolor": "white",
           "ticks": "",
           "title": {
            "standoff": 15
           },
           "zerolinecolor": "white",
           "zerolinewidth": 2
          }
         }
        },
        "title": {
         "text": "Box plot of MAE_Box_fov for 180mm"
        },
        "xaxis": {
         "anchor": "y",
         "domain": [
          0,
          1
         ],
         "title": {
          "text": "pond"
         }
        },
        "yaxis": {
         "anchor": "x",
         "domain": [
          0,
          1
         ],
         "title": {
          "text": "MAE_Box_fov"
         }
        }
       }
      }
     },
     "metadata": {},
     "output_type": "display_data"
    }
   ],
   "source": [
    "for error in ['Error_percentage_Box_fov', 'MAE_Box_fov']:\n",
    "\n",
    "    for true_length in [143, 180]:\n",
    "        # Create a box plot using plotly\n",
    "        fig = px.box(df_clean[df_clean['true_length'] == true_length],\n",
    "                        x='pond', \n",
    "                        y=error, \n",
    "                        points=\"all\",  # Show all points\n",
    "                        hover_data=['image_path', 'index'],  # Include hover data\n",
    "                        title=f'Box plot of {error} for {true_length}mm',)\n",
    "        #Save the plot to png\n",
    "        fig.write_image(f'{error}_{true_length}.png')\n",
    "        fig.show()\n",
    "    # Create a box plot using plotly\n",
    "        "
   ]
  },
  {
   "cell_type": "code",
   "execution_count": 22,
   "metadata": {},
   "outputs": [
    {
     "data": {
      "application/vnd.plotly.v1+json": {
       "config": {
        "plotlyServerURL": "https://plot.ly"
       },
       "data": [
        {
         "alignmentgroup": "True",
         "box": {
          "visible": true
         },
         "customdata": [
          [
           "undistorted_GX010191_101_1265.jpg",
           0
          ],
          [
           "undistorted_GX010191_102_1277.jpg",
           0
          ],
          [
           "undistorted_GX010191_103_1289.jpg",
           0
          ],
          [
           "undistorted_GX010191_105_1312.jpg",
           0
          ],
          [
           "undistorted_GX010191_107_1330.jpg",
           0
          ],
          [
           "undistorted_GX010191_10_370.jpg",
           0
          ],
          [
           "undistorted_GX010191_110_1355.jpg",
           3
          ],
          [
           "undistorted_GX010191_13_439.jpg",
           0
          ],
          [
           "undistorted_GX010191_15_479.jpg",
           0
          ],
          [
           "undistorted_GX010191_16_495.jpg",
           2
          ],
          [
           "undistorted_GX010191_16_495.jpg",
           3
          ],
          [
           "undistorted_GX010191_31_283.jpg",
           2
          ],
          [
           "undistorted_GX010191_34_1128.jpg",
           1
          ],
          [
           "undistorted_GX010191_35_1167.jpg",
           1
          ],
          [
           "undistorted_GX010191_35_367.jpg",
           0
          ],
          [
           "undistorted_GX010191_36_1195.jpg",
           1
          ],
          [
           "undistorted_GX010191_36_381.jpg",
           0
          ],
          [
           "undistorted_GX010191_38_1266.jpg",
           0
          ],
          [
           "undistorted_GX010191_39_416.jpg",
           0
          ],
          [
           "undistorted_GX010191_42_1339.jpg",
           0
          ],
          [
           "undistorted_GX010191_42_1339.jpg",
           5
          ],
          [
           "undistorted_GX010191_42_457.jpg",
           0
          ],
          [
           "undistorted_GX010191_42_457.jpg",
           3
          ],
          [
           "undistorted_GX010191_43_1353.jpg",
           0
          ],
          [
           "undistorted_GX010191_44_478.jpg",
           0
          ],
          [
           "undistorted_GX010191_46_497.jpg",
           1
          ],
          [
           "undistorted_GX010191_94_1132.jpg",
           0
          ],
          [
           "undistorted_GX010191_95_1157.jpg",
           1
          ],
          [
           "undistorted_GX010191_98_1211.jpg",
           0
          ],
          [
           "undistorted_GX010191_99_1233.jpg",
           1
          ],
          [
           "undistorted_GX010192_17_1035.jpg",
           0
          ],
          [
           "undistorted_GX010192_25_1553.jpg",
           0
          ],
          [
           "undistorted_GX010192_26_1578.jpg",
           0
          ],
          [
           "undistorted_GX010192_9_675.jpg",
           1
          ],
          [
           "undistorted_GX010193_17_1264.jpg",
           0
          ],
          [
           "undistorted_GX010193_18_1289.jpg",
           0
          ],
          [
           "undistorted_GX010193_19_1334.jpg",
           0
          ],
          [
           "undistorted_GX010193_20_1365.jpg",
           2
          ],
          [
           "undistorted_GX010194_36_485.jpg",
           1
          ],
          [
           "undistorted_GX010194_37_496.jpg",
           1
          ],
          [
           "undistorted_GX010194_38_504.jpg",
           1
          ],
          [
           "undistorted_GX010194_39_513.jpg",
           1
          ],
          [
           "undistorted_GX010194_60_836.jpg",
           0
          ]
         ],
         "hovertemplate": "pond=%{x}<br>Error_percentage_Box_fov=%{y}<br>image_path=%{customdata[0]}<br>index=%{customdata[1]}<extra></extra>",
         "legendgroup": "",
         "marker": {
          "color": "#636efa"
         },
         "name": "",
         "offsetgroup": "",
         "orientation": "v",
         "points": "all",
         "scalegroup": "True",
         "showlegend": false,
         "type": "violin",
         "x": [
          700,
          700,
          700,
          700,
          700,
          700,
          700,
          700,
          700,
          700,
          700,
          700,
          700,
          700,
          700,
          700,
          700,
          700,
          700,
          700,
          700,
          700,
          700,
          700,
          700,
          700,
          700,
          700,
          700,
          700,
          410,
          410,
          410,
          410,
          410,
          410,
          410,
          410,
          410,
          410,
          410,
          410,
          410
         ],
         "x0": " ",
         "xaxis": "x",
         "y": [
          2.0192594230322087,
          0.0955353877105676,
          4.444417639753747,
          3.574637915592336,
          8.470685594286879,
          1.1271302302546855,
          1.2235822095172089,
          3.615654954222711,
          0.3709723723723606,
          4.247985792459824,
          5.676622667960117,
          1.9070811152403568,
          9.879476348117656,
          10.918270702726002,
          0.5265420272387934,
          8.723299969157065,
          1.5355026800916494,
          1.9514281836025675,
          4.01474439808368,
          2.3549057729150555,
          1.66670819296478,
          9.351012065377995,
          4.298543077701154,
          4.193489367981629,
          6.360475951662827,
          0.7751037567636893,
          14.959429700436422,
          7.899896682759182,
          7.349504457177892,
          9.708990678743314,
          9.995576975202264,
          6.029656026959413,
          8.709230278516987,
          8.75003880119921,
          4.400974420485165,
          7.343188889161794,
          8.690836193089932,
          0.2335870066045291,
          1.8352190614587331,
          4.239994459057957,
          5.191871303171348,
          4.244844252403984,
          8.682336857065003
         ],
         "y0": " ",
         "yaxis": "y"
        }
       ],
       "layout": {
        "legend": {
         "tracegroupgap": 0
        },
        "template": {
         "data": {
          "bar": [
           {
            "error_x": {
             "color": "#2a3f5f"
            },
            "error_y": {
             "color": "#2a3f5f"
            },
            "marker": {
             "line": {
              "color": "#E5ECF6",
              "width": 0.5
             },
             "pattern": {
              "fillmode": "overlay",
              "size": 10,
              "solidity": 0.2
             }
            },
            "type": "bar"
           }
          ],
          "barpolar": [
           {
            "marker": {
             "line": {
              "color": "#E5ECF6",
              "width": 0.5
             },
             "pattern": {
              "fillmode": "overlay",
              "size": 10,
              "solidity": 0.2
             }
            },
            "type": "barpolar"
           }
          ],
          "carpet": [
           {
            "aaxis": {
             "endlinecolor": "#2a3f5f",
             "gridcolor": "white",
             "linecolor": "white",
             "minorgridcolor": "white",
             "startlinecolor": "#2a3f5f"
            },
            "baxis": {
             "endlinecolor": "#2a3f5f",
             "gridcolor": "white",
             "linecolor": "white",
             "minorgridcolor": "white",
             "startlinecolor": "#2a3f5f"
            },
            "type": "carpet"
           }
          ],
          "choropleth": [
           {
            "colorbar": {
             "outlinewidth": 0,
             "ticks": ""
            },
            "type": "choropleth"
           }
          ],
          "contour": [
           {
            "colorbar": {
             "outlinewidth": 0,
             "ticks": ""
            },
            "colorscale": [
             [
              0,
              "#0d0887"
             ],
             [
              0.1111111111111111,
              "#46039f"
             ],
             [
              0.2222222222222222,
              "#7201a8"
             ],
             [
              0.3333333333333333,
              "#9c179e"
             ],
             [
              0.4444444444444444,
              "#bd3786"
             ],
             [
              0.5555555555555556,
              "#d8576b"
             ],
             [
              0.6666666666666666,
              "#ed7953"
             ],
             [
              0.7777777777777778,
              "#fb9f3a"
             ],
             [
              0.8888888888888888,
              "#fdca26"
             ],
             [
              1,
              "#f0f921"
             ]
            ],
            "type": "contour"
           }
          ],
          "contourcarpet": [
           {
            "colorbar": {
             "outlinewidth": 0,
             "ticks": ""
            },
            "type": "contourcarpet"
           }
          ],
          "heatmap": [
           {
            "colorbar": {
             "outlinewidth": 0,
             "ticks": ""
            },
            "colorscale": [
             [
              0,
              "#0d0887"
             ],
             [
              0.1111111111111111,
              "#46039f"
             ],
             [
              0.2222222222222222,
              "#7201a8"
             ],
             [
              0.3333333333333333,
              "#9c179e"
             ],
             [
              0.4444444444444444,
              "#bd3786"
             ],
             [
              0.5555555555555556,
              "#d8576b"
             ],
             [
              0.6666666666666666,
              "#ed7953"
             ],
             [
              0.7777777777777778,
              "#fb9f3a"
             ],
             [
              0.8888888888888888,
              "#fdca26"
             ],
             [
              1,
              "#f0f921"
             ]
            ],
            "type": "heatmap"
           }
          ],
          "heatmapgl": [
           {
            "colorbar": {
             "outlinewidth": 0,
             "ticks": ""
            },
            "colorscale": [
             [
              0,
              "#0d0887"
             ],
             [
              0.1111111111111111,
              "#46039f"
             ],
             [
              0.2222222222222222,
              "#7201a8"
             ],
             [
              0.3333333333333333,
              "#9c179e"
             ],
             [
              0.4444444444444444,
              "#bd3786"
             ],
             [
              0.5555555555555556,
              "#d8576b"
             ],
             [
              0.6666666666666666,
              "#ed7953"
             ],
             [
              0.7777777777777778,
              "#fb9f3a"
             ],
             [
              0.8888888888888888,
              "#fdca26"
             ],
             [
              1,
              "#f0f921"
             ]
            ],
            "type": "heatmapgl"
           }
          ],
          "histogram": [
           {
            "marker": {
             "pattern": {
              "fillmode": "overlay",
              "size": 10,
              "solidity": 0.2
             }
            },
            "type": "histogram"
           }
          ],
          "histogram2d": [
           {
            "colorbar": {
             "outlinewidth": 0,
             "ticks": ""
            },
            "colorscale": [
             [
              0,
              "#0d0887"
             ],
             [
              0.1111111111111111,
              "#46039f"
             ],
             [
              0.2222222222222222,
              "#7201a8"
             ],
             [
              0.3333333333333333,
              "#9c179e"
             ],
             [
              0.4444444444444444,
              "#bd3786"
             ],
             [
              0.5555555555555556,
              "#d8576b"
             ],
             [
              0.6666666666666666,
              "#ed7953"
             ],
             [
              0.7777777777777778,
              "#fb9f3a"
             ],
             [
              0.8888888888888888,
              "#fdca26"
             ],
             [
              1,
              "#f0f921"
             ]
            ],
            "type": "histogram2d"
           }
          ],
          "histogram2dcontour": [
           {
            "colorbar": {
             "outlinewidth": 0,
             "ticks": ""
            },
            "colorscale": [
             [
              0,
              "#0d0887"
             ],
             [
              0.1111111111111111,
              "#46039f"
             ],
             [
              0.2222222222222222,
              "#7201a8"
             ],
             [
              0.3333333333333333,
              "#9c179e"
             ],
             [
              0.4444444444444444,
              "#bd3786"
             ],
             [
              0.5555555555555556,
              "#d8576b"
             ],
             [
              0.6666666666666666,
              "#ed7953"
             ],
             [
              0.7777777777777778,
              "#fb9f3a"
             ],
             [
              0.8888888888888888,
              "#fdca26"
             ],
             [
              1,
              "#f0f921"
             ]
            ],
            "type": "histogram2dcontour"
           }
          ],
          "mesh3d": [
           {
            "colorbar": {
             "outlinewidth": 0,
             "ticks": ""
            },
            "type": "mesh3d"
           }
          ],
          "parcoords": [
           {
            "line": {
             "colorbar": {
              "outlinewidth": 0,
              "ticks": ""
             }
            },
            "type": "parcoords"
           }
          ],
          "pie": [
           {
            "automargin": true,
            "type": "pie"
           }
          ],
          "scatter": [
           {
            "fillpattern": {
             "fillmode": "overlay",
             "size": 10,
             "solidity": 0.2
            },
            "type": "scatter"
           }
          ],
          "scatter3d": [
           {
            "line": {
             "colorbar": {
              "outlinewidth": 0,
              "ticks": ""
             }
            },
            "marker": {
             "colorbar": {
              "outlinewidth": 0,
              "ticks": ""
             }
            },
            "type": "scatter3d"
           }
          ],
          "scattercarpet": [
           {
            "marker": {
             "colorbar": {
              "outlinewidth": 0,
              "ticks": ""
             }
            },
            "type": "scattercarpet"
           }
          ],
          "scattergeo": [
           {
            "marker": {
             "colorbar": {
              "outlinewidth": 0,
              "ticks": ""
             }
            },
            "type": "scattergeo"
           }
          ],
          "scattergl": [
           {
            "marker": {
             "colorbar": {
              "outlinewidth": 0,
              "ticks": ""
             }
            },
            "type": "scattergl"
           }
          ],
          "scattermapbox": [
           {
            "marker": {
             "colorbar": {
              "outlinewidth": 0,
              "ticks": ""
             }
            },
            "type": "scattermapbox"
           }
          ],
          "scatterpolar": [
           {
            "marker": {
             "colorbar": {
              "outlinewidth": 0,
              "ticks": ""
             }
            },
            "type": "scatterpolar"
           }
          ],
          "scatterpolargl": [
           {
            "marker": {
             "colorbar": {
              "outlinewidth": 0,
              "ticks": ""
             }
            },
            "type": "scatterpolargl"
           }
          ],
          "scatterternary": [
           {
            "marker": {
             "colorbar": {
              "outlinewidth": 0,
              "ticks": ""
             }
            },
            "type": "scatterternary"
           }
          ],
          "surface": [
           {
            "colorbar": {
             "outlinewidth": 0,
             "ticks": ""
            },
            "colorscale": [
             [
              0,
              "#0d0887"
             ],
             [
              0.1111111111111111,
              "#46039f"
             ],
             [
              0.2222222222222222,
              "#7201a8"
             ],
             [
              0.3333333333333333,
              "#9c179e"
             ],
             [
              0.4444444444444444,
              "#bd3786"
             ],
             [
              0.5555555555555556,
              "#d8576b"
             ],
             [
              0.6666666666666666,
              "#ed7953"
             ],
             [
              0.7777777777777778,
              "#fb9f3a"
             ],
             [
              0.8888888888888888,
              "#fdca26"
             ],
             [
              1,
              "#f0f921"
             ]
            ],
            "type": "surface"
           }
          ],
          "table": [
           {
            "cells": {
             "fill": {
              "color": "#EBF0F8"
             },
             "line": {
              "color": "white"
             }
            },
            "header": {
             "fill": {
              "color": "#C8D4E3"
             },
             "line": {
              "color": "white"
             }
            },
            "type": "table"
           }
          ]
         },
         "layout": {
          "annotationdefaults": {
           "arrowcolor": "#2a3f5f",
           "arrowhead": 0,
           "arrowwidth": 1
          },
          "autotypenumbers": "strict",
          "coloraxis": {
           "colorbar": {
            "outlinewidth": 0,
            "ticks": ""
           }
          },
          "colorscale": {
           "diverging": [
            [
             0,
             "#8e0152"
            ],
            [
             0.1,
             "#c51b7d"
            ],
            [
             0.2,
             "#de77ae"
            ],
            [
             0.3,
             "#f1b6da"
            ],
            [
             0.4,
             "#fde0ef"
            ],
            [
             0.5,
             "#f7f7f7"
            ],
            [
             0.6,
             "#e6f5d0"
            ],
            [
             0.7,
             "#b8e186"
            ],
            [
             0.8,
             "#7fbc41"
            ],
            [
             0.9,
             "#4d9221"
            ],
            [
             1,
             "#276419"
            ]
           ],
           "sequential": [
            [
             0,
             "#0d0887"
            ],
            [
             0.1111111111111111,
             "#46039f"
            ],
            [
             0.2222222222222222,
             "#7201a8"
            ],
            [
             0.3333333333333333,
             "#9c179e"
            ],
            [
             0.4444444444444444,
             "#bd3786"
            ],
            [
             0.5555555555555556,
             "#d8576b"
            ],
            [
             0.6666666666666666,
             "#ed7953"
            ],
            [
             0.7777777777777778,
             "#fb9f3a"
            ],
            [
             0.8888888888888888,
             "#fdca26"
            ],
            [
             1,
             "#f0f921"
            ]
           ],
           "sequentialminus": [
            [
             0,
             "#0d0887"
            ],
            [
             0.1111111111111111,
             "#46039f"
            ],
            [
             0.2222222222222222,
             "#7201a8"
            ],
            [
             0.3333333333333333,
             "#9c179e"
            ],
            [
             0.4444444444444444,
             "#bd3786"
            ],
            [
             0.5555555555555556,
             "#d8576b"
            ],
            [
             0.6666666666666666,
             "#ed7953"
            ],
            [
             0.7777777777777778,
             "#fb9f3a"
            ],
            [
             0.8888888888888888,
             "#fdca26"
            ],
            [
             1,
             "#f0f921"
            ]
           ]
          },
          "colorway": [
           "#636efa",
           "#EF553B",
           "#00cc96",
           "#ab63fa",
           "#FFA15A",
           "#19d3f3",
           "#FF6692",
           "#B6E880",
           "#FF97FF",
           "#FECB52"
          ],
          "font": {
           "color": "#2a3f5f"
          },
          "geo": {
           "bgcolor": "white",
           "lakecolor": "white",
           "landcolor": "#E5ECF6",
           "showlakes": true,
           "showland": true,
           "subunitcolor": "white"
          },
          "hoverlabel": {
           "align": "left"
          },
          "hovermode": "closest",
          "mapbox": {
           "style": "light"
          },
          "paper_bgcolor": "white",
          "plot_bgcolor": "#E5ECF6",
          "polar": {
           "angularaxis": {
            "gridcolor": "white",
            "linecolor": "white",
            "ticks": ""
           },
           "bgcolor": "#E5ECF6",
           "radialaxis": {
            "gridcolor": "white",
            "linecolor": "white",
            "ticks": ""
           }
          },
          "scene": {
           "xaxis": {
            "backgroundcolor": "#E5ECF6",
            "gridcolor": "white",
            "gridwidth": 2,
            "linecolor": "white",
            "showbackground": true,
            "ticks": "",
            "zerolinecolor": "white"
           },
           "yaxis": {
            "backgroundcolor": "#E5ECF6",
            "gridcolor": "white",
            "gridwidth": 2,
            "linecolor": "white",
            "showbackground": true,
            "ticks": "",
            "zerolinecolor": "white"
           },
           "zaxis": {
            "backgroundcolor": "#E5ECF6",
            "gridcolor": "white",
            "gridwidth": 2,
            "linecolor": "white",
            "showbackground": true,
            "ticks": "",
            "zerolinecolor": "white"
           }
          },
          "shapedefaults": {
           "line": {
            "color": "#2a3f5f"
           }
          },
          "ternary": {
           "aaxis": {
            "gridcolor": "white",
            "linecolor": "white",
            "ticks": ""
           },
           "baxis": {
            "gridcolor": "white",
            "linecolor": "white",
            "ticks": ""
           },
           "bgcolor": "#E5ECF6",
           "caxis": {
            "gridcolor": "white",
            "linecolor": "white",
            "ticks": ""
           }
          },
          "title": {
           "x": 0.05
          },
          "xaxis": {
           "automargin": true,
           "gridcolor": "white",
           "linecolor": "white",
           "ticks": "",
           "title": {
            "standoff": 15
           },
           "zerolinecolor": "white",
           "zerolinewidth": 2
          },
          "yaxis": {
           "automargin": true,
           "gridcolor": "white",
           "linecolor": "white",
           "ticks": "",
           "title": {
            "standoff": 15
           },
           "zerolinecolor": "white",
           "zerolinewidth": 2
          }
         }
        },
        "title": {
         "text": "Violin plot of Error_percentage_Box_fov for 143mm"
        },
        "violinmode": "group",
        "xaxis": {
         "anchor": "y",
         "domain": [
          0,
          1
         ],
         "title": {
          "text": "pond"
         }
        },
        "yaxis": {
         "anchor": "x",
         "domain": [
          0,
          1
         ],
         "title": {
          "text": "Error_percentage_Box_fov"
         }
        }
       }
      }
     },
     "metadata": {},
     "output_type": "display_data"
    },
    {
     "data": {
      "application/vnd.plotly.v1+json": {
       "config": {
        "plotlyServerURL": "https://plot.ly"
       },
       "data": [
        {
         "alignmentgroup": "True",
         "box": {
          "visible": true
         },
         "customdata": [
          [
           "undistorted_GX010191_116_1399.jpg",
           0
          ],
          [
           "undistorted_GX010191_16_495.jpg",
           1
          ],
          [
           "undistorted_GX010191_17_509.jpg",
           1
          ],
          [
           "undistorted_GX010191_18_521.jpg",
           0
          ],
          [
           "undistorted_GX010191_19_537.jpg",
           0
          ],
          [
           "undistorted_GX010191_29_257.jpg",
           1
          ],
          [
           "undistorted_GX010191_31_283.jpg",
           1
          ],
          [
           "undistorted_GX010191_32_1049.jpg",
           0
          ],
          [
           "undistorted_GX010191_33_1087.jpg",
           1
          ],
          [
           "undistorted_GX010191_33_331.jpg",
           0
          ],
          [
           "undistorted_GX010191_33_331.jpg",
           2
          ],
          [
           "undistorted_GX010191_34_1128.jpg",
           0
          ],
          [
           "undistorted_GX010191_35_1167.jpg",
           0
          ],
          [
           "undistorted_GX010191_35_1167.jpg",
           4
          ],
          [
           "undistorted_GX010191_42_1339.jpg",
           1
          ],
          [
           "undistorted_GX010191_43_1353.jpg",
           3
          ],
          [
           "undistorted_GX010191_44_478.jpg",
           1
          ],
          [
           "undistorted_GX010191_51_535.jpg",
           0
          ],
          [
           "undistorted_GX010191_5_190.jpg",
           2
          ],
          [
           "undistorted_GX010191_6_219.jpg",
           0
          ],
          [
           "undistorted_GX010191_88_1016.jpg",
           0
          ],
          [
           "undistorted_GX010191_91_1066.jpg",
           2
          ],
          [
           "undistorted_GX010191_92_1087.jpg",
           1
          ],
          [
           "undistorted_GX010191_95_1157.jpg",
           0
          ],
          [
           "undistorted_GX010191_96_1175.jpg",
           0
          ],
          [
           "undistorted_GX010191_97_1190.jpg",
           0
          ],
          [
           "undistorted_GX010191_98_1211.jpg",
           1
          ],
          [
           "undistorted_GX010193_10_1039.jpg",
           0
          ],
          [
           "undistorted_GX010193_11_1065.jpg",
           0
          ],
          [
           "undistorted_GX010193_27_1553.jpg",
           1
          ],
          [
           "undistorted_GX010193_3_251.jpg",
           0
          ],
          [
           "undistorted_GX010193_4_283.jpg",
           1
          ],
          [
           "undistorted_GX010194_15_231.jpg",
           0
          ],
          [
           "undistorted_GX010194_16_240.jpg",
           0
          ],
          [
           "undistorted_GX010194_17_257.jpg",
           1
          ],
          [
           "undistorted_GX010194_18_272.jpg",
           0
          ],
          [
           "undistorted_GX010194_19_285.jpg",
           0
          ],
          [
           "undistorted_GX010194_46_620.jpg",
           1
          ],
          [
           "undistorted_GX010194_55_768.jpg",
           2
          ],
          [
           "undistorted_GX010194_56_784.jpg",
           0
          ],
          [
           "undistorted_GX010194_57_798.jpg",
           0
          ],
          [
           "undistorted_GX010194_58_810.jpg",
           2
          ]
         ],
         "hovertemplate": "pond=%{x}<br>Error_percentage_Box_fov=%{y}<br>image_path=%{customdata[0]}<br>index=%{customdata[1]}<extra></extra>",
         "legendgroup": "",
         "marker": {
          "color": "#636efa"
         },
         "name": "",
         "offsetgroup": "",
         "orientation": "v",
         "points": "all",
         "scalegroup": "True",
         "showlegend": false,
         "type": "violin",
         "x": [
          700,
          700,
          700,
          700,
          700,
          700,
          700,
          700,
          700,
          700,
          700,
          700,
          700,
          700,
          700,
          700,
          700,
          700,
          700,
          700,
          700,
          700,
          700,
          700,
          700,
          700,
          700,
          410,
          410,
          410,
          410,
          410,
          410,
          410,
          410,
          410,
          410,
          410,
          410,
          410,
          410,
          410
         ],
         "x0": " ",
         "xaxis": "x",
         "y": [
          7.400094255627955,
          0.5825964065285265,
          3.452950656057949,
          3.855269141508049,
          3.431918063521143,
          12.164651272029186,
          4.189142959611303,
          7.269128283929546,
          6.035888768163839,
          4.136728509658541,
          4.279299822283412,
          3.693761265315835,
          9.231299463722864,
          9.231299463722864,
          6.02952821286048,
          2.383286435151951,
          1.5841615000976756,
          3.96295761879786,
          10.274684421189274,
          8.561683986652595,
          14.105034877406236,
          7.205034999239043,
          6.035888768163839,
          9.1708407820629,
          6.190800359827951,
          12.518383666968557,
          12.759523543029143,
          2.1363702311357717,
          6.012094470986556,
          7.251148821180761,
          11.813800283309112,
          3.8209953732633535,
          9.403713394884884,
          5.249915094170411,
          7.193082692040475,
          8.375292103807274,
          1.7860448685218937,
          6.624193976961139,
          6.952753849003446,
          14.870314050795486,
          11.341973891048916,
          13.303496581036285
         ],
         "y0": " ",
         "yaxis": "y"
        }
       ],
       "layout": {
        "legend": {
         "tracegroupgap": 0
        },
        "template": {
         "data": {
          "bar": [
           {
            "error_x": {
             "color": "#2a3f5f"
            },
            "error_y": {
             "color": "#2a3f5f"
            },
            "marker": {
             "line": {
              "color": "#E5ECF6",
              "width": 0.5
             },
             "pattern": {
              "fillmode": "overlay",
              "size": 10,
              "solidity": 0.2
             }
            },
            "type": "bar"
           }
          ],
          "barpolar": [
           {
            "marker": {
             "line": {
              "color": "#E5ECF6",
              "width": 0.5
             },
             "pattern": {
              "fillmode": "overlay",
              "size": 10,
              "solidity": 0.2
             }
            },
            "type": "barpolar"
           }
          ],
          "carpet": [
           {
            "aaxis": {
             "endlinecolor": "#2a3f5f",
             "gridcolor": "white",
             "linecolor": "white",
             "minorgridcolor": "white",
             "startlinecolor": "#2a3f5f"
            },
            "baxis": {
             "endlinecolor": "#2a3f5f",
             "gridcolor": "white",
             "linecolor": "white",
             "minorgridcolor": "white",
             "startlinecolor": "#2a3f5f"
            },
            "type": "carpet"
           }
          ],
          "choropleth": [
           {
            "colorbar": {
             "outlinewidth": 0,
             "ticks": ""
            },
            "type": "choropleth"
           }
          ],
          "contour": [
           {
            "colorbar": {
             "outlinewidth": 0,
             "ticks": ""
            },
            "colorscale": [
             [
              0,
              "#0d0887"
             ],
             [
              0.1111111111111111,
              "#46039f"
             ],
             [
              0.2222222222222222,
              "#7201a8"
             ],
             [
              0.3333333333333333,
              "#9c179e"
             ],
             [
              0.4444444444444444,
              "#bd3786"
             ],
             [
              0.5555555555555556,
              "#d8576b"
             ],
             [
              0.6666666666666666,
              "#ed7953"
             ],
             [
              0.7777777777777778,
              "#fb9f3a"
             ],
             [
              0.8888888888888888,
              "#fdca26"
             ],
             [
              1,
              "#f0f921"
             ]
            ],
            "type": "contour"
           }
          ],
          "contourcarpet": [
           {
            "colorbar": {
             "outlinewidth": 0,
             "ticks": ""
            },
            "type": "contourcarpet"
           }
          ],
          "heatmap": [
           {
            "colorbar": {
             "outlinewidth": 0,
             "ticks": ""
            },
            "colorscale": [
             [
              0,
              "#0d0887"
             ],
             [
              0.1111111111111111,
              "#46039f"
             ],
             [
              0.2222222222222222,
              "#7201a8"
             ],
             [
              0.3333333333333333,
              "#9c179e"
             ],
             [
              0.4444444444444444,
              "#bd3786"
             ],
             [
              0.5555555555555556,
              "#d8576b"
             ],
             [
              0.6666666666666666,
              "#ed7953"
             ],
             [
              0.7777777777777778,
              "#fb9f3a"
             ],
             [
              0.8888888888888888,
              "#fdca26"
             ],
             [
              1,
              "#f0f921"
             ]
            ],
            "type": "heatmap"
           }
          ],
          "heatmapgl": [
           {
            "colorbar": {
             "outlinewidth": 0,
             "ticks": ""
            },
            "colorscale": [
             [
              0,
              "#0d0887"
             ],
             [
              0.1111111111111111,
              "#46039f"
             ],
             [
              0.2222222222222222,
              "#7201a8"
             ],
             [
              0.3333333333333333,
              "#9c179e"
             ],
             [
              0.4444444444444444,
              "#bd3786"
             ],
             [
              0.5555555555555556,
              "#d8576b"
             ],
             [
              0.6666666666666666,
              "#ed7953"
             ],
             [
              0.7777777777777778,
              "#fb9f3a"
             ],
             [
              0.8888888888888888,
              "#fdca26"
             ],
             [
              1,
              "#f0f921"
             ]
            ],
            "type": "heatmapgl"
           }
          ],
          "histogram": [
           {
            "marker": {
             "pattern": {
              "fillmode": "overlay",
              "size": 10,
              "solidity": 0.2
             }
            },
            "type": "histogram"
           }
          ],
          "histogram2d": [
           {
            "colorbar": {
             "outlinewidth": 0,
             "ticks": ""
            },
            "colorscale": [
             [
              0,
              "#0d0887"
             ],
             [
              0.1111111111111111,
              "#46039f"
             ],
             [
              0.2222222222222222,
              "#7201a8"
             ],
             [
              0.3333333333333333,
              "#9c179e"
             ],
             [
              0.4444444444444444,
              "#bd3786"
             ],
             [
              0.5555555555555556,
              "#d8576b"
             ],
             [
              0.6666666666666666,
              "#ed7953"
             ],
             [
              0.7777777777777778,
              "#fb9f3a"
             ],
             [
              0.8888888888888888,
              "#fdca26"
             ],
             [
              1,
              "#f0f921"
             ]
            ],
            "type": "histogram2d"
           }
          ],
          "histogram2dcontour": [
           {
            "colorbar": {
             "outlinewidth": 0,
             "ticks": ""
            },
            "colorscale": [
             [
              0,
              "#0d0887"
             ],
             [
              0.1111111111111111,
              "#46039f"
             ],
             [
              0.2222222222222222,
              "#7201a8"
             ],
             [
              0.3333333333333333,
              "#9c179e"
             ],
             [
              0.4444444444444444,
              "#bd3786"
             ],
             [
              0.5555555555555556,
              "#d8576b"
             ],
             [
              0.6666666666666666,
              "#ed7953"
             ],
             [
              0.7777777777777778,
              "#fb9f3a"
             ],
             [
              0.8888888888888888,
              "#fdca26"
             ],
             [
              1,
              "#f0f921"
             ]
            ],
            "type": "histogram2dcontour"
           }
          ],
          "mesh3d": [
           {
            "colorbar": {
             "outlinewidth": 0,
             "ticks": ""
            },
            "type": "mesh3d"
           }
          ],
          "parcoords": [
           {
            "line": {
             "colorbar": {
              "outlinewidth": 0,
              "ticks": ""
             }
            },
            "type": "parcoords"
           }
          ],
          "pie": [
           {
            "automargin": true,
            "type": "pie"
           }
          ],
          "scatter": [
           {
            "fillpattern": {
             "fillmode": "overlay",
             "size": 10,
             "solidity": 0.2
            },
            "type": "scatter"
           }
          ],
          "scatter3d": [
           {
            "line": {
             "colorbar": {
              "outlinewidth": 0,
              "ticks": ""
             }
            },
            "marker": {
             "colorbar": {
              "outlinewidth": 0,
              "ticks": ""
             }
            },
            "type": "scatter3d"
           }
          ],
          "scattercarpet": [
           {
            "marker": {
             "colorbar": {
              "outlinewidth": 0,
              "ticks": ""
             }
            },
            "type": "scattercarpet"
           }
          ],
          "scattergeo": [
           {
            "marker": {
             "colorbar": {
              "outlinewidth": 0,
              "ticks": ""
             }
            },
            "type": "scattergeo"
           }
          ],
          "scattergl": [
           {
            "marker": {
             "colorbar": {
              "outlinewidth": 0,
              "ticks": ""
             }
            },
            "type": "scattergl"
           }
          ],
          "scattermapbox": [
           {
            "marker": {
             "colorbar": {
              "outlinewidth": 0,
              "ticks": ""
             }
            },
            "type": "scattermapbox"
           }
          ],
          "scatterpolar": [
           {
            "marker": {
             "colorbar": {
              "outlinewidth": 0,
              "ticks": ""
             }
            },
            "type": "scatterpolar"
           }
          ],
          "scatterpolargl": [
           {
            "marker": {
             "colorbar": {
              "outlinewidth": 0,
              "ticks": ""
             }
            },
            "type": "scatterpolargl"
           }
          ],
          "scatterternary": [
           {
            "marker": {
             "colorbar": {
              "outlinewidth": 0,
              "ticks": ""
             }
            },
            "type": "scatterternary"
           }
          ],
          "surface": [
           {
            "colorbar": {
             "outlinewidth": 0,
             "ticks": ""
            },
            "colorscale": [
             [
              0,
              "#0d0887"
             ],
             [
              0.1111111111111111,
              "#46039f"
             ],
             [
              0.2222222222222222,
              "#7201a8"
             ],
             [
              0.3333333333333333,
              "#9c179e"
             ],
             [
              0.4444444444444444,
              "#bd3786"
             ],
             [
              0.5555555555555556,
              "#d8576b"
             ],
             [
              0.6666666666666666,
              "#ed7953"
             ],
             [
              0.7777777777777778,
              "#fb9f3a"
             ],
             [
              0.8888888888888888,
              "#fdca26"
             ],
             [
              1,
              "#f0f921"
             ]
            ],
            "type": "surface"
           }
          ],
          "table": [
           {
            "cells": {
             "fill": {
              "color": "#EBF0F8"
             },
             "line": {
              "color": "white"
             }
            },
            "header": {
             "fill": {
              "color": "#C8D4E3"
             },
             "line": {
              "color": "white"
             }
            },
            "type": "table"
           }
          ]
         },
         "layout": {
          "annotationdefaults": {
           "arrowcolor": "#2a3f5f",
           "arrowhead": 0,
           "arrowwidth": 1
          },
          "autotypenumbers": "strict",
          "coloraxis": {
           "colorbar": {
            "outlinewidth": 0,
            "ticks": ""
           }
          },
          "colorscale": {
           "diverging": [
            [
             0,
             "#8e0152"
            ],
            [
             0.1,
             "#c51b7d"
            ],
            [
             0.2,
             "#de77ae"
            ],
            [
             0.3,
             "#f1b6da"
            ],
            [
             0.4,
             "#fde0ef"
            ],
            [
             0.5,
             "#f7f7f7"
            ],
            [
             0.6,
             "#e6f5d0"
            ],
            [
             0.7,
             "#b8e186"
            ],
            [
             0.8,
             "#7fbc41"
            ],
            [
             0.9,
             "#4d9221"
            ],
            [
             1,
             "#276419"
            ]
           ],
           "sequential": [
            [
             0,
             "#0d0887"
            ],
            [
             0.1111111111111111,
             "#46039f"
            ],
            [
             0.2222222222222222,
             "#7201a8"
            ],
            [
             0.3333333333333333,
             "#9c179e"
            ],
            [
             0.4444444444444444,
             "#bd3786"
            ],
            [
             0.5555555555555556,
             "#d8576b"
            ],
            [
             0.6666666666666666,
             "#ed7953"
            ],
            [
             0.7777777777777778,
             "#fb9f3a"
            ],
            [
             0.8888888888888888,
             "#fdca26"
            ],
            [
             1,
             "#f0f921"
            ]
           ],
           "sequentialminus": [
            [
             0,
             "#0d0887"
            ],
            [
             0.1111111111111111,
             "#46039f"
            ],
            [
             0.2222222222222222,
             "#7201a8"
            ],
            [
             0.3333333333333333,
             "#9c179e"
            ],
            [
             0.4444444444444444,
             "#bd3786"
            ],
            [
             0.5555555555555556,
             "#d8576b"
            ],
            [
             0.6666666666666666,
             "#ed7953"
            ],
            [
             0.7777777777777778,
             "#fb9f3a"
            ],
            [
             0.8888888888888888,
             "#fdca26"
            ],
            [
             1,
             "#f0f921"
            ]
           ]
          },
          "colorway": [
           "#636efa",
           "#EF553B",
           "#00cc96",
           "#ab63fa",
           "#FFA15A",
           "#19d3f3",
           "#FF6692",
           "#B6E880",
           "#FF97FF",
           "#FECB52"
          ],
          "font": {
           "color": "#2a3f5f"
          },
          "geo": {
           "bgcolor": "white",
           "lakecolor": "white",
           "landcolor": "#E5ECF6",
           "showlakes": true,
           "showland": true,
           "subunitcolor": "white"
          },
          "hoverlabel": {
           "align": "left"
          },
          "hovermode": "closest",
          "mapbox": {
           "style": "light"
          },
          "paper_bgcolor": "white",
          "plot_bgcolor": "#E5ECF6",
          "polar": {
           "angularaxis": {
            "gridcolor": "white",
            "linecolor": "white",
            "ticks": ""
           },
           "bgcolor": "#E5ECF6",
           "radialaxis": {
            "gridcolor": "white",
            "linecolor": "white",
            "ticks": ""
           }
          },
          "scene": {
           "xaxis": {
            "backgroundcolor": "#E5ECF6",
            "gridcolor": "white",
            "gridwidth": 2,
            "linecolor": "white",
            "showbackground": true,
            "ticks": "",
            "zerolinecolor": "white"
           },
           "yaxis": {
            "backgroundcolor": "#E5ECF6",
            "gridcolor": "white",
            "gridwidth": 2,
            "linecolor": "white",
            "showbackground": true,
            "ticks": "",
            "zerolinecolor": "white"
           },
           "zaxis": {
            "backgroundcolor": "#E5ECF6",
            "gridcolor": "white",
            "gridwidth": 2,
            "linecolor": "white",
            "showbackground": true,
            "ticks": "",
            "zerolinecolor": "white"
           }
          },
          "shapedefaults": {
           "line": {
            "color": "#2a3f5f"
           }
          },
          "ternary": {
           "aaxis": {
            "gridcolor": "white",
            "linecolor": "white",
            "ticks": ""
           },
           "baxis": {
            "gridcolor": "white",
            "linecolor": "white",
            "ticks": ""
           },
           "bgcolor": "#E5ECF6",
           "caxis": {
            "gridcolor": "white",
            "linecolor": "white",
            "ticks": ""
           }
          },
          "title": {
           "x": 0.05
          },
          "xaxis": {
           "automargin": true,
           "gridcolor": "white",
           "linecolor": "white",
           "ticks": "",
           "title": {
            "standoff": 15
           },
           "zerolinecolor": "white",
           "zerolinewidth": 2
          },
          "yaxis": {
           "automargin": true,
           "gridcolor": "white",
           "linecolor": "white",
           "ticks": "",
           "title": {
            "standoff": 15
           },
           "zerolinecolor": "white",
           "zerolinewidth": 2
          }
         }
        },
        "title": {
         "text": "Violin plot of Error_percentage_Box_fov for 180mm"
        },
        "violinmode": "group",
        "xaxis": {
         "anchor": "y",
         "domain": [
          0,
          1
         ],
         "title": {
          "text": "pond"
         }
        },
        "yaxis": {
         "anchor": "x",
         "domain": [
          0,
          1
         ],
         "title": {
          "text": "Error_percentage_Box_fov"
         }
        }
       }
      }
     },
     "metadata": {},
     "output_type": "display_data"
    },
    {
     "data": {
      "application/vnd.plotly.v1+json": {
       "config": {
        "plotlyServerURL": "https://plot.ly"
       },
       "data": [
        {
         "alignmentgroup": "True",
         "box": {
          "visible": true
         },
         "customdata": [
          [
           "undistorted_GX010191_101_1265.jpg",
           0
          ],
          [
           "undistorted_GX010191_102_1277.jpg",
           0
          ],
          [
           "undistorted_GX010191_103_1289.jpg",
           0
          ],
          [
           "undistorted_GX010191_105_1312.jpg",
           0
          ],
          [
           "undistorted_GX010191_107_1330.jpg",
           0
          ],
          [
           "undistorted_GX010191_10_370.jpg",
           0
          ],
          [
           "undistorted_GX010191_110_1355.jpg",
           3
          ],
          [
           "undistorted_GX010191_13_439.jpg",
           0
          ],
          [
           "undistorted_GX010191_15_479.jpg",
           0
          ],
          [
           "undistorted_GX010191_16_495.jpg",
           2
          ],
          [
           "undistorted_GX010191_16_495.jpg",
           3
          ],
          [
           "undistorted_GX010191_31_283.jpg",
           2
          ],
          [
           "undistorted_GX010191_34_1128.jpg",
           1
          ],
          [
           "undistorted_GX010191_35_1167.jpg",
           1
          ],
          [
           "undistorted_GX010191_35_367.jpg",
           0
          ],
          [
           "undistorted_GX010191_36_1195.jpg",
           1
          ],
          [
           "undistorted_GX010191_36_381.jpg",
           0
          ],
          [
           "undistorted_GX010191_38_1266.jpg",
           0
          ],
          [
           "undistorted_GX010191_39_416.jpg",
           0
          ],
          [
           "undistorted_GX010191_42_1339.jpg",
           0
          ],
          [
           "undistorted_GX010191_42_1339.jpg",
           5
          ],
          [
           "undistorted_GX010191_42_457.jpg",
           0
          ],
          [
           "undistorted_GX010191_42_457.jpg",
           3
          ],
          [
           "undistorted_GX010191_43_1353.jpg",
           0
          ],
          [
           "undistorted_GX010191_44_478.jpg",
           0
          ],
          [
           "undistorted_GX010191_46_497.jpg",
           1
          ],
          [
           "undistorted_GX010191_94_1132.jpg",
           0
          ],
          [
           "undistorted_GX010191_95_1157.jpg",
           1
          ],
          [
           "undistorted_GX010191_98_1211.jpg",
           0
          ],
          [
           "undistorted_GX010191_99_1233.jpg",
           1
          ],
          [
           "undistorted_GX010192_17_1035.jpg",
           0
          ],
          [
           "undistorted_GX010192_25_1553.jpg",
           0
          ],
          [
           "undistorted_GX010192_26_1578.jpg",
           0
          ],
          [
           "undistorted_GX010192_9_675.jpg",
           1
          ],
          [
           "undistorted_GX010193_17_1264.jpg",
           0
          ],
          [
           "undistorted_GX010193_18_1289.jpg",
           0
          ],
          [
           "undistorted_GX010193_19_1334.jpg",
           0
          ],
          [
           "undistorted_GX010193_20_1365.jpg",
           2
          ],
          [
           "undistorted_GX010194_36_485.jpg",
           1
          ],
          [
           "undistorted_GX010194_37_496.jpg",
           1
          ],
          [
           "undistorted_GX010194_38_504.jpg",
           1
          ],
          [
           "undistorted_GX010194_39_513.jpg",
           1
          ],
          [
           "undistorted_GX010194_60_836.jpg",
           0
          ]
         ],
         "hovertemplate": "pond=%{x}<br>MAE_Box_fov=%{y}<br>image_path=%{customdata[0]}<br>index=%{customdata[1]}<extra></extra>",
         "legendgroup": "",
         "marker": {
          "color": "#636efa"
         },
         "name": "",
         "offsetgroup": "",
         "orientation": "v",
         "points": "all",
         "scalegroup": "True",
         "showlegend": false,
         "type": "violin",
         "x": [
          700,
          700,
          700,
          700,
          700,
          700,
          700,
          700,
          700,
          700,
          700,
          700,
          700,
          700,
          700,
          700,
          700,
          700,
          700,
          700,
          700,
          700,
          700,
          700,
          700,
          700,
          700,
          700,
          700,
          700,
          410,
          410,
          410,
          410,
          410,
          410,
          410,
          410,
          410,
          410,
          410,
          410,
          410
         ],
         "x0": " ",
         "xaxis": "x",
         "y": [
          2.8875409749360585,
          0.1366156044261117,
          6.355517224847858,
          5.111732219297039,
          12.113080399830238,
          1.6117962292642003,
          1.7497225596096089,
          5.170386584538477,
          0.5304904924924756,
          6.0746196832175485,
          8.117570415182968,
          2.7271259947937097,
          14.127651177808248,
          15.613127104898185,
          0.7529550989514746,
          12.474318955894605,
          2.1957688325310585,
          2.790542302551671,
          5.741084489259663,
          3.367515255268529,
          2.3833927159396358,
          13.371947253490532,
          6.14691660111265,
          5.9966897962137296,
          9.095480610877845,
          1.1083983721720756,
          21.391984471624085,
          11.29685225634563,
          10.509791373764386,
          13.883856670602938,
          14.293675074539236,
          8.62240811855196,
          12.454199298279292,
          12.51255548571487,
          6.293393421293786,
          10.500760111501364,
          12.427895756118602,
          0.3340294194444766,
          2.624363257885989,
          6.063192076452879,
          7.424375963535027,
          6.070127280937697,
          12.415741705602954
         ],
         "y0": " ",
         "yaxis": "y"
        }
       ],
       "layout": {
        "legend": {
         "tracegroupgap": 0
        },
        "template": {
         "data": {
          "bar": [
           {
            "error_x": {
             "color": "#2a3f5f"
            },
            "error_y": {
             "color": "#2a3f5f"
            },
            "marker": {
             "line": {
              "color": "#E5ECF6",
              "width": 0.5
             },
             "pattern": {
              "fillmode": "overlay",
              "size": 10,
              "solidity": 0.2
             }
            },
            "type": "bar"
           }
          ],
          "barpolar": [
           {
            "marker": {
             "line": {
              "color": "#E5ECF6",
              "width": 0.5
             },
             "pattern": {
              "fillmode": "overlay",
              "size": 10,
              "solidity": 0.2
             }
            },
            "type": "barpolar"
           }
          ],
          "carpet": [
           {
            "aaxis": {
             "endlinecolor": "#2a3f5f",
             "gridcolor": "white",
             "linecolor": "white",
             "minorgridcolor": "white",
             "startlinecolor": "#2a3f5f"
            },
            "baxis": {
             "endlinecolor": "#2a3f5f",
             "gridcolor": "white",
             "linecolor": "white",
             "minorgridcolor": "white",
             "startlinecolor": "#2a3f5f"
            },
            "type": "carpet"
           }
          ],
          "choropleth": [
           {
            "colorbar": {
             "outlinewidth": 0,
             "ticks": ""
            },
            "type": "choropleth"
           }
          ],
          "contour": [
           {
            "colorbar": {
             "outlinewidth": 0,
             "ticks": ""
            },
            "colorscale": [
             [
              0,
              "#0d0887"
             ],
             [
              0.1111111111111111,
              "#46039f"
             ],
             [
              0.2222222222222222,
              "#7201a8"
             ],
             [
              0.3333333333333333,
              "#9c179e"
             ],
             [
              0.4444444444444444,
              "#bd3786"
             ],
             [
              0.5555555555555556,
              "#d8576b"
             ],
             [
              0.6666666666666666,
              "#ed7953"
             ],
             [
              0.7777777777777778,
              "#fb9f3a"
             ],
             [
              0.8888888888888888,
              "#fdca26"
             ],
             [
              1,
              "#f0f921"
             ]
            ],
            "type": "contour"
           }
          ],
          "contourcarpet": [
           {
            "colorbar": {
             "outlinewidth": 0,
             "ticks": ""
            },
            "type": "contourcarpet"
           }
          ],
          "heatmap": [
           {
            "colorbar": {
             "outlinewidth": 0,
             "ticks": ""
            },
            "colorscale": [
             [
              0,
              "#0d0887"
             ],
             [
              0.1111111111111111,
              "#46039f"
             ],
             [
              0.2222222222222222,
              "#7201a8"
             ],
             [
              0.3333333333333333,
              "#9c179e"
             ],
             [
              0.4444444444444444,
              "#bd3786"
             ],
             [
              0.5555555555555556,
              "#d8576b"
             ],
             [
              0.6666666666666666,
              "#ed7953"
             ],
             [
              0.7777777777777778,
              "#fb9f3a"
             ],
             [
              0.8888888888888888,
              "#fdca26"
             ],
             [
              1,
              "#f0f921"
             ]
            ],
            "type": "heatmap"
           }
          ],
          "heatmapgl": [
           {
            "colorbar": {
             "outlinewidth": 0,
             "ticks": ""
            },
            "colorscale": [
             [
              0,
              "#0d0887"
             ],
             [
              0.1111111111111111,
              "#46039f"
             ],
             [
              0.2222222222222222,
              "#7201a8"
             ],
             [
              0.3333333333333333,
              "#9c179e"
             ],
             [
              0.4444444444444444,
              "#bd3786"
             ],
             [
              0.5555555555555556,
              "#d8576b"
             ],
             [
              0.6666666666666666,
              "#ed7953"
             ],
             [
              0.7777777777777778,
              "#fb9f3a"
             ],
             [
              0.8888888888888888,
              "#fdca26"
             ],
             [
              1,
              "#f0f921"
             ]
            ],
            "type": "heatmapgl"
           }
          ],
          "histogram": [
           {
            "marker": {
             "pattern": {
              "fillmode": "overlay",
              "size": 10,
              "solidity": 0.2
             }
            },
            "type": "histogram"
           }
          ],
          "histogram2d": [
           {
            "colorbar": {
             "outlinewidth": 0,
             "ticks": ""
            },
            "colorscale": [
             [
              0,
              "#0d0887"
             ],
             [
              0.1111111111111111,
              "#46039f"
             ],
             [
              0.2222222222222222,
              "#7201a8"
             ],
             [
              0.3333333333333333,
              "#9c179e"
             ],
             [
              0.4444444444444444,
              "#bd3786"
             ],
             [
              0.5555555555555556,
              "#d8576b"
             ],
             [
              0.6666666666666666,
              "#ed7953"
             ],
             [
              0.7777777777777778,
              "#fb9f3a"
             ],
             [
              0.8888888888888888,
              "#fdca26"
             ],
             [
              1,
              "#f0f921"
             ]
            ],
            "type": "histogram2d"
           }
          ],
          "histogram2dcontour": [
           {
            "colorbar": {
             "outlinewidth": 0,
             "ticks": ""
            },
            "colorscale": [
             [
              0,
              "#0d0887"
             ],
             [
              0.1111111111111111,
              "#46039f"
             ],
             [
              0.2222222222222222,
              "#7201a8"
             ],
             [
              0.3333333333333333,
              "#9c179e"
             ],
             [
              0.4444444444444444,
              "#bd3786"
             ],
             [
              0.5555555555555556,
              "#d8576b"
             ],
             [
              0.6666666666666666,
              "#ed7953"
             ],
             [
              0.7777777777777778,
              "#fb9f3a"
             ],
             [
              0.8888888888888888,
              "#fdca26"
             ],
             [
              1,
              "#f0f921"
             ]
            ],
            "type": "histogram2dcontour"
           }
          ],
          "mesh3d": [
           {
            "colorbar": {
             "outlinewidth": 0,
             "ticks": ""
            },
            "type": "mesh3d"
           }
          ],
          "parcoords": [
           {
            "line": {
             "colorbar": {
              "outlinewidth": 0,
              "ticks": ""
             }
            },
            "type": "parcoords"
           }
          ],
          "pie": [
           {
            "automargin": true,
            "type": "pie"
           }
          ],
          "scatter": [
           {
            "fillpattern": {
             "fillmode": "overlay",
             "size": 10,
             "solidity": 0.2
            },
            "type": "scatter"
           }
          ],
          "scatter3d": [
           {
            "line": {
             "colorbar": {
              "outlinewidth": 0,
              "ticks": ""
             }
            },
            "marker": {
             "colorbar": {
              "outlinewidth": 0,
              "ticks": ""
             }
            },
            "type": "scatter3d"
           }
          ],
          "scattercarpet": [
           {
            "marker": {
             "colorbar": {
              "outlinewidth": 0,
              "ticks": ""
             }
            },
            "type": "scattercarpet"
           }
          ],
          "scattergeo": [
           {
            "marker": {
             "colorbar": {
              "outlinewidth": 0,
              "ticks": ""
             }
            },
            "type": "scattergeo"
           }
          ],
          "scattergl": [
           {
            "marker": {
             "colorbar": {
              "outlinewidth": 0,
              "ticks": ""
             }
            },
            "type": "scattergl"
           }
          ],
          "scattermapbox": [
           {
            "marker": {
             "colorbar": {
              "outlinewidth": 0,
              "ticks": ""
             }
            },
            "type": "scattermapbox"
           }
          ],
          "scatterpolar": [
           {
            "marker": {
             "colorbar": {
              "outlinewidth": 0,
              "ticks": ""
             }
            },
            "type": "scatterpolar"
           }
          ],
          "scatterpolargl": [
           {
            "marker": {
             "colorbar": {
              "outlinewidth": 0,
              "ticks": ""
             }
            },
            "type": "scatterpolargl"
           }
          ],
          "scatterternary": [
           {
            "marker": {
             "colorbar": {
              "outlinewidth": 0,
              "ticks": ""
             }
            },
            "type": "scatterternary"
           }
          ],
          "surface": [
           {
            "colorbar": {
             "outlinewidth": 0,
             "ticks": ""
            },
            "colorscale": [
             [
              0,
              "#0d0887"
             ],
             [
              0.1111111111111111,
              "#46039f"
             ],
             [
              0.2222222222222222,
              "#7201a8"
             ],
             [
              0.3333333333333333,
              "#9c179e"
             ],
             [
              0.4444444444444444,
              "#bd3786"
             ],
             [
              0.5555555555555556,
              "#d8576b"
             ],
             [
              0.6666666666666666,
              "#ed7953"
             ],
             [
              0.7777777777777778,
              "#fb9f3a"
             ],
             [
              0.8888888888888888,
              "#fdca26"
             ],
             [
              1,
              "#f0f921"
             ]
            ],
            "type": "surface"
           }
          ],
          "table": [
           {
            "cells": {
             "fill": {
              "color": "#EBF0F8"
             },
             "line": {
              "color": "white"
             }
            },
            "header": {
             "fill": {
              "color": "#C8D4E3"
             },
             "line": {
              "color": "white"
             }
            },
            "type": "table"
           }
          ]
         },
         "layout": {
          "annotationdefaults": {
           "arrowcolor": "#2a3f5f",
           "arrowhead": 0,
           "arrowwidth": 1
          },
          "autotypenumbers": "strict",
          "coloraxis": {
           "colorbar": {
            "outlinewidth": 0,
            "ticks": ""
           }
          },
          "colorscale": {
           "diverging": [
            [
             0,
             "#8e0152"
            ],
            [
             0.1,
             "#c51b7d"
            ],
            [
             0.2,
             "#de77ae"
            ],
            [
             0.3,
             "#f1b6da"
            ],
            [
             0.4,
             "#fde0ef"
            ],
            [
             0.5,
             "#f7f7f7"
            ],
            [
             0.6,
             "#e6f5d0"
            ],
            [
             0.7,
             "#b8e186"
            ],
            [
             0.8,
             "#7fbc41"
            ],
            [
             0.9,
             "#4d9221"
            ],
            [
             1,
             "#276419"
            ]
           ],
           "sequential": [
            [
             0,
             "#0d0887"
            ],
            [
             0.1111111111111111,
             "#46039f"
            ],
            [
             0.2222222222222222,
             "#7201a8"
            ],
            [
             0.3333333333333333,
             "#9c179e"
            ],
            [
             0.4444444444444444,
             "#bd3786"
            ],
            [
             0.5555555555555556,
             "#d8576b"
            ],
            [
             0.6666666666666666,
             "#ed7953"
            ],
            [
             0.7777777777777778,
             "#fb9f3a"
            ],
            [
             0.8888888888888888,
             "#fdca26"
            ],
            [
             1,
             "#f0f921"
            ]
           ],
           "sequentialminus": [
            [
             0,
             "#0d0887"
            ],
            [
             0.1111111111111111,
             "#46039f"
            ],
            [
             0.2222222222222222,
             "#7201a8"
            ],
            [
             0.3333333333333333,
             "#9c179e"
            ],
            [
             0.4444444444444444,
             "#bd3786"
            ],
            [
             0.5555555555555556,
             "#d8576b"
            ],
            [
             0.6666666666666666,
             "#ed7953"
            ],
            [
             0.7777777777777778,
             "#fb9f3a"
            ],
            [
             0.8888888888888888,
             "#fdca26"
            ],
            [
             1,
             "#f0f921"
            ]
           ]
          },
          "colorway": [
           "#636efa",
           "#EF553B",
           "#00cc96",
           "#ab63fa",
           "#FFA15A",
           "#19d3f3",
           "#FF6692",
           "#B6E880",
           "#FF97FF",
           "#FECB52"
          ],
          "font": {
           "color": "#2a3f5f"
          },
          "geo": {
           "bgcolor": "white",
           "lakecolor": "white",
           "landcolor": "#E5ECF6",
           "showlakes": true,
           "showland": true,
           "subunitcolor": "white"
          },
          "hoverlabel": {
           "align": "left"
          },
          "hovermode": "closest",
          "mapbox": {
           "style": "light"
          },
          "paper_bgcolor": "white",
          "plot_bgcolor": "#E5ECF6",
          "polar": {
           "angularaxis": {
            "gridcolor": "white",
            "linecolor": "white",
            "ticks": ""
           },
           "bgcolor": "#E5ECF6",
           "radialaxis": {
            "gridcolor": "white",
            "linecolor": "white",
            "ticks": ""
           }
          },
          "scene": {
           "xaxis": {
            "backgroundcolor": "#E5ECF6",
            "gridcolor": "white",
            "gridwidth": 2,
            "linecolor": "white",
            "showbackground": true,
            "ticks": "",
            "zerolinecolor": "white"
           },
           "yaxis": {
            "backgroundcolor": "#E5ECF6",
            "gridcolor": "white",
            "gridwidth": 2,
            "linecolor": "white",
            "showbackground": true,
            "ticks": "",
            "zerolinecolor": "white"
           },
           "zaxis": {
            "backgroundcolor": "#E5ECF6",
            "gridcolor": "white",
            "gridwidth": 2,
            "linecolor": "white",
            "showbackground": true,
            "ticks": "",
            "zerolinecolor": "white"
           }
          },
          "shapedefaults": {
           "line": {
            "color": "#2a3f5f"
           }
          },
          "ternary": {
           "aaxis": {
            "gridcolor": "white",
            "linecolor": "white",
            "ticks": ""
           },
           "baxis": {
            "gridcolor": "white",
            "linecolor": "white",
            "ticks": ""
           },
           "bgcolor": "#E5ECF6",
           "caxis": {
            "gridcolor": "white",
            "linecolor": "white",
            "ticks": ""
           }
          },
          "title": {
           "x": 0.05
          },
          "xaxis": {
           "automargin": true,
           "gridcolor": "white",
           "linecolor": "white",
           "ticks": "",
           "title": {
            "standoff": 15
           },
           "zerolinecolor": "white",
           "zerolinewidth": 2
          },
          "yaxis": {
           "automargin": true,
           "gridcolor": "white",
           "linecolor": "white",
           "ticks": "",
           "title": {
            "standoff": 15
           },
           "zerolinecolor": "white",
           "zerolinewidth": 2
          }
         }
        },
        "title": {
         "text": "Violin plot of MAE_Box_fov for 143mm"
        },
        "violinmode": "group",
        "xaxis": {
         "anchor": "y",
         "domain": [
          0,
          1
         ],
         "title": {
          "text": "pond"
         }
        },
        "yaxis": {
         "anchor": "x",
         "domain": [
          0,
          1
         ],
         "title": {
          "text": "MAE_Box_fov"
         }
        }
       }
      }
     },
     "metadata": {},
     "output_type": "display_data"
    },
    {
     "data": {
      "application/vnd.plotly.v1+json": {
       "config": {
        "plotlyServerURL": "https://plot.ly"
       },
       "data": [
        {
         "alignmentgroup": "True",
         "box": {
          "visible": true
         },
         "customdata": [
          [
           "undistorted_GX010191_116_1399.jpg",
           0
          ],
          [
           "undistorted_GX010191_16_495.jpg",
           1
          ],
          [
           "undistorted_GX010191_17_509.jpg",
           1
          ],
          [
           "undistorted_GX010191_18_521.jpg",
           0
          ],
          [
           "undistorted_GX010191_19_537.jpg",
           0
          ],
          [
           "undistorted_GX010191_29_257.jpg",
           1
          ],
          [
           "undistorted_GX010191_31_283.jpg",
           1
          ],
          [
           "undistorted_GX010191_32_1049.jpg",
           0
          ],
          [
           "undistorted_GX010191_33_1087.jpg",
           1
          ],
          [
           "undistorted_GX010191_33_331.jpg",
           0
          ],
          [
           "undistorted_GX010191_33_331.jpg",
           2
          ],
          [
           "undistorted_GX010191_34_1128.jpg",
           0
          ],
          [
           "undistorted_GX010191_35_1167.jpg",
           0
          ],
          [
           "undistorted_GX010191_35_1167.jpg",
           4
          ],
          [
           "undistorted_GX010191_42_1339.jpg",
           1
          ],
          [
           "undistorted_GX010191_43_1353.jpg",
           3
          ],
          [
           "undistorted_GX010191_44_478.jpg",
           1
          ],
          [
           "undistorted_GX010191_51_535.jpg",
           0
          ],
          [
           "undistorted_GX010191_5_190.jpg",
           2
          ],
          [
           "undistorted_GX010191_6_219.jpg",
           0
          ],
          [
           "undistorted_GX010191_88_1016.jpg",
           0
          ],
          [
           "undistorted_GX010191_91_1066.jpg",
           2
          ],
          [
           "undistorted_GX010191_92_1087.jpg",
           1
          ],
          [
           "undistorted_GX010191_95_1157.jpg",
           0
          ],
          [
           "undistorted_GX010191_96_1175.jpg",
           0
          ],
          [
           "undistorted_GX010191_97_1190.jpg",
           0
          ],
          [
           "undistorted_GX010191_98_1211.jpg",
           1
          ],
          [
           "undistorted_GX010193_10_1039.jpg",
           0
          ],
          [
           "undistorted_GX010193_11_1065.jpg",
           0
          ],
          [
           "undistorted_GX010193_27_1553.jpg",
           1
          ],
          [
           "undistorted_GX010193_3_251.jpg",
           0
          ],
          [
           "undistorted_GX010193_4_283.jpg",
           1
          ],
          [
           "undistorted_GX010194_15_231.jpg",
           0
          ],
          [
           "undistorted_GX010194_16_240.jpg",
           0
          ],
          [
           "undistorted_GX010194_17_257.jpg",
           1
          ],
          [
           "undistorted_GX010194_18_272.jpg",
           0
          ],
          [
           "undistorted_GX010194_19_285.jpg",
           0
          ],
          [
           "undistorted_GX010194_46_620.jpg",
           1
          ],
          [
           "undistorted_GX010194_55_768.jpg",
           2
          ],
          [
           "undistorted_GX010194_56_784.jpg",
           0
          ],
          [
           "undistorted_GX010194_57_798.jpg",
           0
          ],
          [
           "undistorted_GX010194_58_810.jpg",
           2
          ]
         ],
         "hovertemplate": "pond=%{x}<br>MAE_Box_fov=%{y}<br>image_path=%{customdata[0]}<br>index=%{customdata[1]}<extra></extra>",
         "legendgroup": "",
         "marker": {
          "color": "#636efa"
         },
         "name": "",
         "offsetgroup": "",
         "orientation": "v",
         "points": "all",
         "scalegroup": "True",
         "showlegend": false,
         "type": "violin",
         "x": [
          700,
          700,
          700,
          700,
          700,
          700,
          700,
          700,
          700,
          700,
          700,
          700,
          700,
          700,
          700,
          700,
          700,
          700,
          700,
          700,
          700,
          700,
          700,
          700,
          700,
          700,
          700,
          410,
          410,
          410,
          410,
          410,
          410,
          410,
          410,
          410,
          410,
          410,
          410,
          410,
          410,
          410
         ],
         "x0": " ",
         "xaxis": "x",
         "y": [
          13.320169660130318,
          1.0486735317513478,
          6.215311180904308,
          6.9394844547144885,
          6.177452514338057,
          21.896372289652533,
          7.540457327300345,
          13.084430911073184,
          10.86459978269491,
          7.446111317385373,
          7.702739680110142,
          6.648770277568502,
          16.616339034701156,
          16.616339034701156,
          10.853150783148864,
          4.289915583273512,
          2.851490700175816,
          7.133323713836148,
          18.49443195814069,
          15.41103117597467,
          25.389062779331223,
          12.969062998630278,
          10.86459978269491,
          16.50751340771322,
          11.143440647690312,
          22.533090600543403,
          22.96714237745246,
          3.845466416044388,
          10.8217700477758,
          13.05206787812537,
          21.2648405099564,
          6.877791671874036,
          16.92668411079279,
          9.44984716950674,
          12.947548845672856,
          15.075525786853092,
          3.2148807633394085,
          11.92354915853005,
          12.514956928206203,
          26.766565291431878,
          20.41555300388805,
          23.946293845865316
         ],
         "y0": " ",
         "yaxis": "y"
        }
       ],
       "layout": {
        "legend": {
         "tracegroupgap": 0
        },
        "template": {
         "data": {
          "bar": [
           {
            "error_x": {
             "color": "#2a3f5f"
            },
            "error_y": {
             "color": "#2a3f5f"
            },
            "marker": {
             "line": {
              "color": "#E5ECF6",
              "width": 0.5
             },
             "pattern": {
              "fillmode": "overlay",
              "size": 10,
              "solidity": 0.2
             }
            },
            "type": "bar"
           }
          ],
          "barpolar": [
           {
            "marker": {
             "line": {
              "color": "#E5ECF6",
              "width": 0.5
             },
             "pattern": {
              "fillmode": "overlay",
              "size": 10,
              "solidity": 0.2
             }
            },
            "type": "barpolar"
           }
          ],
          "carpet": [
           {
            "aaxis": {
             "endlinecolor": "#2a3f5f",
             "gridcolor": "white",
             "linecolor": "white",
             "minorgridcolor": "white",
             "startlinecolor": "#2a3f5f"
            },
            "baxis": {
             "endlinecolor": "#2a3f5f",
             "gridcolor": "white",
             "linecolor": "white",
             "minorgridcolor": "white",
             "startlinecolor": "#2a3f5f"
            },
            "type": "carpet"
           }
          ],
          "choropleth": [
           {
            "colorbar": {
             "outlinewidth": 0,
             "ticks": ""
            },
            "type": "choropleth"
           }
          ],
          "contour": [
           {
            "colorbar": {
             "outlinewidth": 0,
             "ticks": ""
            },
            "colorscale": [
             [
              0,
              "#0d0887"
             ],
             [
              0.1111111111111111,
              "#46039f"
             ],
             [
              0.2222222222222222,
              "#7201a8"
             ],
             [
              0.3333333333333333,
              "#9c179e"
             ],
             [
              0.4444444444444444,
              "#bd3786"
             ],
             [
              0.5555555555555556,
              "#d8576b"
             ],
             [
              0.6666666666666666,
              "#ed7953"
             ],
             [
              0.7777777777777778,
              "#fb9f3a"
             ],
             [
              0.8888888888888888,
              "#fdca26"
             ],
             [
              1,
              "#f0f921"
             ]
            ],
            "type": "contour"
           }
          ],
          "contourcarpet": [
           {
            "colorbar": {
             "outlinewidth": 0,
             "ticks": ""
            },
            "type": "contourcarpet"
           }
          ],
          "heatmap": [
           {
            "colorbar": {
             "outlinewidth": 0,
             "ticks": ""
            },
            "colorscale": [
             [
              0,
              "#0d0887"
             ],
             [
              0.1111111111111111,
              "#46039f"
             ],
             [
              0.2222222222222222,
              "#7201a8"
             ],
             [
              0.3333333333333333,
              "#9c179e"
             ],
             [
              0.4444444444444444,
              "#bd3786"
             ],
             [
              0.5555555555555556,
              "#d8576b"
             ],
             [
              0.6666666666666666,
              "#ed7953"
             ],
             [
              0.7777777777777778,
              "#fb9f3a"
             ],
             [
              0.8888888888888888,
              "#fdca26"
             ],
             [
              1,
              "#f0f921"
             ]
            ],
            "type": "heatmap"
           }
          ],
          "heatmapgl": [
           {
            "colorbar": {
             "outlinewidth": 0,
             "ticks": ""
            },
            "colorscale": [
             [
              0,
              "#0d0887"
             ],
             [
              0.1111111111111111,
              "#46039f"
             ],
             [
              0.2222222222222222,
              "#7201a8"
             ],
             [
              0.3333333333333333,
              "#9c179e"
             ],
             [
              0.4444444444444444,
              "#bd3786"
             ],
             [
              0.5555555555555556,
              "#d8576b"
             ],
             [
              0.6666666666666666,
              "#ed7953"
             ],
             [
              0.7777777777777778,
              "#fb9f3a"
             ],
             [
              0.8888888888888888,
              "#fdca26"
             ],
             [
              1,
              "#f0f921"
             ]
            ],
            "type": "heatmapgl"
           }
          ],
          "histogram": [
           {
            "marker": {
             "pattern": {
              "fillmode": "overlay",
              "size": 10,
              "solidity": 0.2
             }
            },
            "type": "histogram"
           }
          ],
          "histogram2d": [
           {
            "colorbar": {
             "outlinewidth": 0,
             "ticks": ""
            },
            "colorscale": [
             [
              0,
              "#0d0887"
             ],
             [
              0.1111111111111111,
              "#46039f"
             ],
             [
              0.2222222222222222,
              "#7201a8"
             ],
             [
              0.3333333333333333,
              "#9c179e"
             ],
             [
              0.4444444444444444,
              "#bd3786"
             ],
             [
              0.5555555555555556,
              "#d8576b"
             ],
             [
              0.6666666666666666,
              "#ed7953"
             ],
             [
              0.7777777777777778,
              "#fb9f3a"
             ],
             [
              0.8888888888888888,
              "#fdca26"
             ],
             [
              1,
              "#f0f921"
             ]
            ],
            "type": "histogram2d"
           }
          ],
          "histogram2dcontour": [
           {
            "colorbar": {
             "outlinewidth": 0,
             "ticks": ""
            },
            "colorscale": [
             [
              0,
              "#0d0887"
             ],
             [
              0.1111111111111111,
              "#46039f"
             ],
             [
              0.2222222222222222,
              "#7201a8"
             ],
             [
              0.3333333333333333,
              "#9c179e"
             ],
             [
              0.4444444444444444,
              "#bd3786"
             ],
             [
              0.5555555555555556,
              "#d8576b"
             ],
             [
              0.6666666666666666,
              "#ed7953"
             ],
             [
              0.7777777777777778,
              "#fb9f3a"
             ],
             [
              0.8888888888888888,
              "#fdca26"
             ],
             [
              1,
              "#f0f921"
             ]
            ],
            "type": "histogram2dcontour"
           }
          ],
          "mesh3d": [
           {
            "colorbar": {
             "outlinewidth": 0,
             "ticks": ""
            },
            "type": "mesh3d"
           }
          ],
          "parcoords": [
           {
            "line": {
             "colorbar": {
              "outlinewidth": 0,
              "ticks": ""
             }
            },
            "type": "parcoords"
           }
          ],
          "pie": [
           {
            "automargin": true,
            "type": "pie"
           }
          ],
          "scatter": [
           {
            "fillpattern": {
             "fillmode": "overlay",
             "size": 10,
             "solidity": 0.2
            },
            "type": "scatter"
           }
          ],
          "scatter3d": [
           {
            "line": {
             "colorbar": {
              "outlinewidth": 0,
              "ticks": ""
             }
            },
            "marker": {
             "colorbar": {
              "outlinewidth": 0,
              "ticks": ""
             }
            },
            "type": "scatter3d"
           }
          ],
          "scattercarpet": [
           {
            "marker": {
             "colorbar": {
              "outlinewidth": 0,
              "ticks": ""
             }
            },
            "type": "scattercarpet"
           }
          ],
          "scattergeo": [
           {
            "marker": {
             "colorbar": {
              "outlinewidth": 0,
              "ticks": ""
             }
            },
            "type": "scattergeo"
           }
          ],
          "scattergl": [
           {
            "marker": {
             "colorbar": {
              "outlinewidth": 0,
              "ticks": ""
             }
            },
            "type": "scattergl"
           }
          ],
          "scattermapbox": [
           {
            "marker": {
             "colorbar": {
              "outlinewidth": 0,
              "ticks": ""
             }
            },
            "type": "scattermapbox"
           }
          ],
          "scatterpolar": [
           {
            "marker": {
             "colorbar": {
              "outlinewidth": 0,
              "ticks": ""
             }
            },
            "type": "scatterpolar"
           }
          ],
          "scatterpolargl": [
           {
            "marker": {
             "colorbar": {
              "outlinewidth": 0,
              "ticks": ""
             }
            },
            "type": "scatterpolargl"
           }
          ],
          "scatterternary": [
           {
            "marker": {
             "colorbar": {
              "outlinewidth": 0,
              "ticks": ""
             }
            },
            "type": "scatterternary"
           }
          ],
          "surface": [
           {
            "colorbar": {
             "outlinewidth": 0,
             "ticks": ""
            },
            "colorscale": [
             [
              0,
              "#0d0887"
             ],
             [
              0.1111111111111111,
              "#46039f"
             ],
             [
              0.2222222222222222,
              "#7201a8"
             ],
             [
              0.3333333333333333,
              "#9c179e"
             ],
             [
              0.4444444444444444,
              "#bd3786"
             ],
             [
              0.5555555555555556,
              "#d8576b"
             ],
             [
              0.6666666666666666,
              "#ed7953"
             ],
             [
              0.7777777777777778,
              "#fb9f3a"
             ],
             [
              0.8888888888888888,
              "#fdca26"
             ],
             [
              1,
              "#f0f921"
             ]
            ],
            "type": "surface"
           }
          ],
          "table": [
           {
            "cells": {
             "fill": {
              "color": "#EBF0F8"
             },
             "line": {
              "color": "white"
             }
            },
            "header": {
             "fill": {
              "color": "#C8D4E3"
             },
             "line": {
              "color": "white"
             }
            },
            "type": "table"
           }
          ]
         },
         "layout": {
          "annotationdefaults": {
           "arrowcolor": "#2a3f5f",
           "arrowhead": 0,
           "arrowwidth": 1
          },
          "autotypenumbers": "strict",
          "coloraxis": {
           "colorbar": {
            "outlinewidth": 0,
            "ticks": ""
           }
          },
          "colorscale": {
           "diverging": [
            [
             0,
             "#8e0152"
            ],
            [
             0.1,
             "#c51b7d"
            ],
            [
             0.2,
             "#de77ae"
            ],
            [
             0.3,
             "#f1b6da"
            ],
            [
             0.4,
             "#fde0ef"
            ],
            [
             0.5,
             "#f7f7f7"
            ],
            [
             0.6,
             "#e6f5d0"
            ],
            [
             0.7,
             "#b8e186"
            ],
            [
             0.8,
             "#7fbc41"
            ],
            [
             0.9,
             "#4d9221"
            ],
            [
             1,
             "#276419"
            ]
           ],
           "sequential": [
            [
             0,
             "#0d0887"
            ],
            [
             0.1111111111111111,
             "#46039f"
            ],
            [
             0.2222222222222222,
             "#7201a8"
            ],
            [
             0.3333333333333333,
             "#9c179e"
            ],
            [
             0.4444444444444444,
             "#bd3786"
            ],
            [
             0.5555555555555556,
             "#d8576b"
            ],
            [
             0.6666666666666666,
             "#ed7953"
            ],
            [
             0.7777777777777778,
             "#fb9f3a"
            ],
            [
             0.8888888888888888,
             "#fdca26"
            ],
            [
             1,
             "#f0f921"
            ]
           ],
           "sequentialminus": [
            [
             0,
             "#0d0887"
            ],
            [
             0.1111111111111111,
             "#46039f"
            ],
            [
             0.2222222222222222,
             "#7201a8"
            ],
            [
             0.3333333333333333,
             "#9c179e"
            ],
            [
             0.4444444444444444,
             "#bd3786"
            ],
            [
             0.5555555555555556,
             "#d8576b"
            ],
            [
             0.6666666666666666,
             "#ed7953"
            ],
            [
             0.7777777777777778,
             "#fb9f3a"
            ],
            [
             0.8888888888888888,
             "#fdca26"
            ],
            [
             1,
             "#f0f921"
            ]
           ]
          },
          "colorway": [
           "#636efa",
           "#EF553B",
           "#00cc96",
           "#ab63fa",
           "#FFA15A",
           "#19d3f3",
           "#FF6692",
           "#B6E880",
           "#FF97FF",
           "#FECB52"
          ],
          "font": {
           "color": "#2a3f5f"
          },
          "geo": {
           "bgcolor": "white",
           "lakecolor": "white",
           "landcolor": "#E5ECF6",
           "showlakes": true,
           "showland": true,
           "subunitcolor": "white"
          },
          "hoverlabel": {
           "align": "left"
          },
          "hovermode": "closest",
          "mapbox": {
           "style": "light"
          },
          "paper_bgcolor": "white",
          "plot_bgcolor": "#E5ECF6",
          "polar": {
           "angularaxis": {
            "gridcolor": "white",
            "linecolor": "white",
            "ticks": ""
           },
           "bgcolor": "#E5ECF6",
           "radialaxis": {
            "gridcolor": "white",
            "linecolor": "white",
            "ticks": ""
           }
          },
          "scene": {
           "xaxis": {
            "backgroundcolor": "#E5ECF6",
            "gridcolor": "white",
            "gridwidth": 2,
            "linecolor": "white",
            "showbackground": true,
            "ticks": "",
            "zerolinecolor": "white"
           },
           "yaxis": {
            "backgroundcolor": "#E5ECF6",
            "gridcolor": "white",
            "gridwidth": 2,
            "linecolor": "white",
            "showbackground": true,
            "ticks": "",
            "zerolinecolor": "white"
           },
           "zaxis": {
            "backgroundcolor": "#E5ECF6",
            "gridcolor": "white",
            "gridwidth": 2,
            "linecolor": "white",
            "showbackground": true,
            "ticks": "",
            "zerolinecolor": "white"
           }
          },
          "shapedefaults": {
           "line": {
            "color": "#2a3f5f"
           }
          },
          "ternary": {
           "aaxis": {
            "gridcolor": "white",
            "linecolor": "white",
            "ticks": ""
           },
           "baxis": {
            "gridcolor": "white",
            "linecolor": "white",
            "ticks": ""
           },
           "bgcolor": "#E5ECF6",
           "caxis": {
            "gridcolor": "white",
            "linecolor": "white",
            "ticks": ""
           }
          },
          "title": {
           "x": 0.05
          },
          "xaxis": {
           "automargin": true,
           "gridcolor": "white",
           "linecolor": "white",
           "ticks": "",
           "title": {
            "standoff": 15
           },
           "zerolinecolor": "white",
           "zerolinewidth": 2
          },
          "yaxis": {
           "automargin": true,
           "gridcolor": "white",
           "linecolor": "white",
           "ticks": "",
           "title": {
            "standoff": 15
           },
           "zerolinecolor": "white",
           "zerolinewidth": 2
          }
         }
        },
        "title": {
         "text": "Violin plot of MAE_Box_fov for 180mm"
        },
        "violinmode": "group",
        "xaxis": {
         "anchor": "y",
         "domain": [
          0,
          1
         ],
         "title": {
          "text": "pond"
         }
        },
        "yaxis": {
         "anchor": "x",
         "domain": [
          0,
          1
         ],
         "title": {
          "text": "MAE_Box_fov"
         }
        }
       }
      }
     },
     "metadata": {},
     "output_type": "display_data"
    }
   ],
   "source": [
    "for error in ['Error_percentage_Box_fov', 'MAE_Box_fov']:\n",
    "\n",
    "    for true_length in [143, 180]:\n",
    "        # Create a violin plot using plotly \n",
    "        fig = px.violin(df_clean[df_clean['true_length'] == true_length],\n",
    "                        x='pond', \n",
    "                        y=error, \n",
    "                        box=True,  # Include box plot\n",
    "                        points=\"all\",  # Show all points\n",
    "                        hover_data=['image_path', 'index'],  # Include hover data\n",
    "                        title=f'Violin plot of {error} for {true_length}mm',)\n",
    "        #Save the plot to png\n",
    "        fig.write_image(f'violin {error}_{true_length}.png')\n",
    "        fig.show()"
   ]
  },
  {
   "cell_type": "code",
   "execution_count": 24,
   "metadata": {},
   "outputs": [
    {
     "data": {
      "text/plain": [
       "True"
      ]
     },
     "execution_count": 24,
     "metadata": {},
     "output_type": "execute_result"
    }
   ],
   "source": [
    "import cv2\n",
    "import numpy as np\n",
    "\n",
    "# Load the tilted image\n",
    "image = cv2.imread(r'C:\\Users\\gbo10\\OneDrive\\measurement_paper_images\\molt\\image processed\\good\\640360\\right\\color_images\\undistorted_GX010191_17_509.jpg')\n",
    "\n",
    "# Get the dimensions of the image\n",
    "height, width = image.shape[:2]\n",
    "\n",
    "# Step 1: Define the source points (corners of the tilted image)\n",
    "# These points should be manually identified or calculated depending on the tilt\n",
    "src_points = np.float32([\n",
    "    [0, height],       # Bottom-left\n",
    "    [width, height],   # Bottom-right\n",
    "    [0, 0],            # Top-left\n",
    "    [width, 0]         # Top-right\n",
    "])\n",
    "\n",
    "# Step 2: Define the destination points (corners of the corrected output)\n",
    "# These points map the image to a perfect rectangle (no tilt)\n",
    "dst_points = np.float32([\n",
    "    [0, height],   # Bottom-left\n",
    "    [width, height],   # Bottom-right\n",
    "    [0, 0],            # Top-left\n",
    "    [width, 0]         # Top-right\n",
    "])\n",
    "\n",
    "# Step 3: Compute the perspective transform matrix\n",
    "M = cv2.getPerspectiveTransform(src_points, dst_points)\n",
    "\n",
    "# Step 4: Apply the warpPerspective to the entire image\n",
    "corrected_image = cv2.warpPerspective(image, M, (width, height))\n",
    "\n",
    "# Step 5: Save and display the corrected image\n",
    "cv2.imwrite('corrected_image.jpg', corrected_image)\n",
    "\n",
    "# Show the result\n",
    "# cv2.imshow(\"Corrected Image\", corrected_image)\n",
    "# cv2.waitKey(0)\n",
    "# cv2.destroyAllWindows()\n"
   ]
  },
  {
   "cell_type": "code",
   "execution_count": null,
   "metadata": {},
   "outputs": [],
   "source": []
  },
  {
   "cell_type": "code",
   "execution_count": null,
   "metadata": {},
   "outputs": [],
   "source": []
  },
  {
   "cell_type": "code",
   "execution_count": 18,
   "metadata": {},
   "outputs": [
    {
     "data": {
      "text/plain": [
       "100"
      ]
     },
     "execution_count": 18,
     "metadata": {},
     "output_type": "execute_result"
    }
   ],
   "source": [
    "len(df['image_path'].unique())"
   ]
  },
  {
   "cell_type": "code",
   "execution_count": 66,
   "metadata": {},
   "outputs": [
    {
     "data": {
      "text/html": [
       "\n",
       "        <iframe\n",
       "            width=\"100%\"\n",
       "            height=\"800\"\n",
       "            src=\"http://localhost:5152/?notebook=True&subscription=be953f78-4043-43b8-a79f-fbfdc0ff273a\"\n",
       "            frameborder=\"0\"\n",
       "            allowfullscreen\n",
       "            \n",
       "        ></iframe>\n",
       "        "
      ],
      "text/plain": [
       "<IPython.lib.display.IFrame at 0x275ba344e50>"
      ]
     },
     "metadata": {},
     "output_type": "display_data"
    }
   ],
   "source": [
    "dataset=fo.load_dataset('molt')\n",
    "session=fo.launch_app(dataset,port=5152)"
   ]
  },
  {
   "cell_type": "code",
   "execution_count": null,
   "metadata": {},
   "outputs": [],
   "source": []
  },
  {
   "cell_type": "code",
   "execution_count": null,
   "metadata": {},
   "outputs": [],
   "source": [
    "mae=df_clean['MAE_Hull_fov'].mean()"
   ]
  },
  {
   "cell_type": "code",
   "execution_count": 62,
   "metadata": {},
   "outputs": [
    {
     "data": {
      "text/plain": [
       "165"
      ]
     },
     "execution_count": 62,
     "metadata": {},
     "output_type": "execute_result"
    }
   ],
   "source": [
    "len(df_positive)"
   ]
  },
  {
   "cell_type": "code",
   "execution_count": 51,
   "metadata": {},
   "outputs": [],
   "source": [
    "pd.DataFrame(samples_index).to_csv('samples_index.csv')"
   ]
  },
  {
   "cell_type": "code",
   "execution_count": 40,
   "metadata": {},
   "outputs": [
    {
     "data": {
      "text/plain": [
       "array(['square'], dtype=object)"
      ]
     },
     "execution_count": 40,
     "metadata": {},
     "output_type": "execute_result"
    }
   ],
   "source": [
    "df['pond'].unique()"
   ]
  },
  {
   "cell_type": "code",
   "execution_count": null,
   "metadata": {},
   "outputs": [],
   "source": [
    "df"
   ]
  },
  {
   "cell_type": "code",
   "execution_count": 90,
   "metadata": {},
   "outputs": [
    {
     "name": "stdout",
     "output_type": "stream",
     "text": [
      "\n",
      "Could not connect session, trying again in 10 seconds\n",
      "\n"
     ]
    }
   ],
   "source": [
    "#session save view\n",
    "session = fo.launch_app(dataset,port=5154)"
   ]
  },
  {
   "cell_type": "code",
   "execution_count": 33,
   "metadata": {},
   "outputs": [
    {
     "name": "stdout",
     "output_type": "stream",
     "text": [
      "Dataset:     molt\n",
      "View name:   molt\n",
      "Media type:  image\n",
      "Num samples: 122\n",
      "Sample fields:\n",
      "    id:                           fiftyone.core.fields.ObjectIdField\n",
      "    filepath:                     fiftyone.core.fields.StringField\n",
      "    tags:                         fiftyone.core.fields.ListField(fiftyone.core.fields.StringField)\n",
      "    metadata:                     fiftyone.core.fields.EmbeddedDocumentField(fiftyone.core.metadata.ImageMetadata)\n",
      "    segmentations:                fiftyone.core.fields.EmbeddedDocumentField(fiftyone.core.labels.Polylines)\n",
      "    hulls:                        fiftyone.core.fields.EmbeddedDocumentField(fiftyone.core.labels.Polylines)\n",
      "    skeletons_no_smooth:          fiftyone.core.fields.EmbeddedDocumentField(fiftyone.core.labels.Polylines)\n",
      "    skeletons_straight_no_smooth: fiftyone.core.fields.EmbeddedDocumentField(fiftyone.core.labels.Polylines)\n",
      "    boxes:                        fiftyone.core.fields.EmbeddedDocumentField(fiftyone.core.labels.Polylines)\n",
      "    masks:                        fiftyone.core.fields.EmbeddedDocumentField(fiftyone.core.labels.Polylines)\n",
      "View stages:\n",
      "    ---\n"
     ]
    }
   ],
   "source": [
    "#print workspace\n",
    "\n",
    "print (session.view)"
   ]
  },
  {
   "cell_type": "code",
   "execution_count": 34,
   "metadata": {},
   "outputs": [
    {
     "name": "stdout",
     "output_type": "stream",
     "text": [
      " 100% |█████████████████| 122/122 [510.6ms elapsed, 0s remaining, 238.9 samples/s]      \n"
     ]
    }
   ],
   "source": [
    "\n",
    "\n",
    "# Export the view to CSV\n",
    "export_path = \"saved_view_data.csv\"\n",
    "session.view.export(\n",
    "    export_path,\n",
    "    dataset_type=fo.types.CSVDataset,\n",
    "    fields=[\"id\", \"filepath\", \"tags\", \"metadata\"]  # Adjust fields as needed\n",
    ")\n"
   ]
  },
  {
   "cell_type": "code",
   "execution_count": 6,
   "metadata": {},
   "outputs": [
    {
     "name": "stderr",
     "output_type": "stream",
     "text": [
      "100%|██████████| 20/20 [00:06<00:00,  2.92it/s]\n"
     ]
    }
   ],
   "source": [
    "from tqdm import tqdm\n",
    "\n",
    "image_paths=r'C:\\Users\\gbo10\\OneDrive\\measurement_paper_images\\molt\\image processed\\unditorted'\n",
    "\n",
    "output_path=r'C:\\Users\\gbo10\\OneDrive\\measurement_paper_images\\molt\\image processed\\unditorted\\undistorted_resized'\n",
    "\n",
    "image_paths = [os.path.join(image_paths, image) for image in os.listdir(image_paths) if image.endswith(('.jpg', '.jpeg', '.png', '.bmp', '.tiff'))]\n",
    "\n",
    "for image_path in tqdm(image_paths):\n",
    "    #resize the image\n",
    "    img = cv2.imread(image_path)\n",
    "    img = cv2.resize(img, (640, 640))\n",
    "    cv2.imwrite(os.path.join(output_path, os.path.basename(image_path)), img)"
   ]
  },
  {
   "cell_type": "code",
   "execution_count": 7,
   "metadata": {},
   "outputs": [
    {
     "name": "stderr",
     "output_type": "stream",
     "text": [
      "100%|██████████| 191/191 [03:31<00:00,  1.11s/it]\n"
     ]
    }
   ],
   "source": [
    "import cv2\n",
    "import numpy as np\n",
    "from tqdm import tqdm\n",
    "import os\n",
    "\n",
    "\n",
    "molt_image_path = r\"C:\\Users\\gbo10\\OneDrive\\measurement_paper_images\\molt\\all molt\\undistorted\"\n",
    "\n",
    "\n",
    "output_path = r\"C:\\Users\\gbo10\\OneDrive\\measurement_paper_images\\molt\\all molt\\undistorted\\first_process\"\n",
    "\n",
    "\n",
    "os.makedirs(output_path, exist_ok=True)\n",
    "\n",
    "# do the code below on entire folder\n",
    "image_paths = [os.path.join(molt_image_path, image) for image in os.listdir(molt_image_path) if image.endswith(('.jpg', '.jpeg', '.png', '.bmp', '.tiff'))]\n",
    "\n",
    "for image_path in tqdm(image_paths):\n",
    "\n",
    "# Load the image\n",
    "    image = cv2.imread(image_path)\n",
    "\n",
    "    # Step 1: Convert to grayscale\n",
    "    # gray = cv2.cvtColor(image, cv2.COLOR_BGR2GRAY)\n",
    "\n",
    "\n",
    "    white_mask=cv2.inRange(image, (60, 60, 60), (255, 255, 255))\n",
    "\n",
    "    # cv2.imwrite(\"white_mask.png\", white_mask)    \n",
    "\n",
    "\n",
    "\n",
    "    very_white_mask = cv2.inRange(image, (150, 150, 150), (255, 255, 255))\n",
    "\n",
    "\n",
    "    image[very_white_mask == 255] = [0, 0, 0]  # Change white to gray\n",
    "\n",
    "\n",
    "    # cv2.imwrite(\"very_white_mask.png\", image)\n",
    "\n",
    "\n",
    "    gray=cv2.cvtColor(image, cv2.COLOR_BGR2GRAY)\n",
    "\n",
    "\n",
    "    # _, binary = cv2.threshold(gray, 150, 255, cv2.THRESH_BINARY)\n",
    "\n",
    "    # Save the result\n",
    "    # cv2.imwrite(\"binary_image.png\", binary)\n",
    "\n",
    "\n",
    "    # cv2.imwrite(\"gray.png\", gray)\n",
    "\n",
    "\n",
    "    # white_mask_from_binary = cv2.bitwise_not(binary)  # Invert the binary mask to get white areas\n",
    "\n",
    "    # cv2.imwrite(\"white_mask_from_binary.png\", white_mask_from_binary)\n",
    "\n",
    "\n",
    "    gray_color = np.array([52, 66, 79])  # RGB value for gray\n",
    "    # image[white_mask == 255] = gray_color\n",
    "\n",
    "    # Step 2: Threshold the image to isolate black areas (under prawns)\n",
    "    # Adjust threshold values depending on how black the segments are\n",
    "    _, black_mask = cv2.threshold(gray, 50, 255, cv2.THRESH_BINARY_INV)  # Isolating black areas (threshold of 50)\n",
    "\n",
    "\n",
    "    # cv2.imwrite(\"black_mask.png\", black_mask)\n",
    "\n",
    "    # Step 3: Create a bluish image to apply to black areas\n",
    "    bluish_image = image.copy()\n",
    "    bluish_image[:] = [212, 156, 31]  # BGR for blue\n",
    "\n",
    "\n",
    "    #white mask on the black segments\n",
    "    # white_on_black = cv2.bitwise_and(white_mask_from_binary, black_mask)  # Isolate white areas on the black segments\n",
    "\n",
    "    # cv2.imwrite(\"white_on_black.png\", white_on_black)\n",
    "\n",
    "\n",
    "    # # Step 6: Convert white to gray in those areas\n",
    "    # # gray_color = np.array([128, 128, 128])  # RGB value for gray\n",
    "    # image[white_on_black==0] = gray_color  # Change white on black to gray\n",
    "\n",
    "\n",
    "    image[white_mask == 255] = gray_color\n",
    "\n",
    "    # Step 4: Apply bluish color to the black regions\n",
    "    image[black_mask == 255] = bluish_image[black_mask == 255]\n",
    "\n",
    "\n",
    "\n",
    "\n",
    "\n",
    "    # Step 5: Isolate white areas (likely prawns) within the black segments\n",
    "    # Detect white pixels in the original image (on the black segments only)\n",
    "    # white_on_black = cv2.bitwise_and(white_mask, black_mask)  # Isolate white areas on the black segments\n",
    "\n",
    "    # Step 6: Convert white to gray in those areas\n",
    "    # gray_color = np.array([128, 128, 128])  # RGB value for gray\n",
    "    # image[white_on_black == 255] = gray_color  # Change white on black to gray\n",
    "\n",
    "    # Step 7: Display the final image\n",
    "    # cv2.imshow(\"Result\", image)\n",
    "    # cv2.waitKey(0)\n",
    "    # cv2.destroyAllWindows()\n",
    "\n",
    "    # Save the result\n",
    "\n",
    "\n",
    "    #resize the image\n",
    "    resized_image = cv2.resize(image, (640, 360))\n",
    "\n",
    "\n",
    "\n",
    "    cv2.imwrite(os.path.join(output_path, os.path.basename(image_path)), resized_image)\n"
   ]
  },
  {
   "cell_type": "code",
   "execution_count": 8,
   "metadata": {},
   "outputs": [
    {
     "data": {
      "text/plain": [
       "True"
      ]
     },
     "execution_count": 8,
     "metadata": {},
     "output_type": "execute_result"
    }
   ],
   "source": [
    "\n",
    "\n",
    "\n",
    "image = cv2.imread(r\"C:\\Users\\gbo10\\OneDrive\\measurement_paper_images\\molt\\image processed\\vlcsnap-2024-09-21-02h23m31s263.png\")\n",
    "\n",
    "    # Step 1: Convert to grayscale\n",
    "# gray = cv2.cvtColor(image, cv2.COLOR_BGR2GRAY)\n",
    "\n",
    "\n",
    "white_mask=cv2.inRange(image, (60, 60, 60), (255, 255, 255))\n",
    "\n",
    "# cv2.imwrite(\"white_mask.png\", white_mask)    \n",
    "\n",
    "\n",
    "\n",
    "very_white_mask = cv2.inRange(image, (150, 150, 150), (255, 255, 255))\n",
    "\n",
    "\n",
    "image[very_white_mask == 255] = [0, 0, 0]  # Change white to gray\n",
    "\n",
    "\n",
    "# cv2.imwrite(\"very_white_mask.png\", image)\n",
    "\n",
    "\n",
    "gray=cv2.cvtColor(image, cv2.COLOR_BGR2GRAY)\n",
    "\n",
    "\n",
    "# _, binary = cv2.threshold(gray, 150, 255, cv2.THRESH_BINARY)\n",
    "\n",
    "# Save the result\n",
    "# cv2.imwrite(\"binary_image.png\", binary)\n",
    "\n",
    "\n",
    "# cv2.imwrite(\"gray.png\", gray)\n",
    "\n",
    "\n",
    "# white_mask_from_binary = cv2.bitwise_not(binary)  # Invert the binary mask to get white areas\n",
    "\n",
    "# cv2.imwrite(\"white_mask_from_binary.png\", white_mask_from_binary)\n",
    "\n",
    "\n",
    "gray_color = np.array([132, 129, 122])  # RGB value for gray\n",
    "# image[white_mask == 255] = gray_color\n",
    "\n",
    "# Step 2: Threshold the image to isolate black areas (under prawns)\n",
    "# Adjust threshold values depending on how black the segments are\n",
    "_, black_mask = cv2.threshold(gray, 50, 255, cv2.THRESH_BINARY_INV)  # Isolating black areas (threshold of 50)\n",
    "\n",
    "\n",
    "# cv2.imwrite(\"black_mask.png\", black_mask)\n",
    "\n",
    "# Step 3: Create a bluish image to apply to black areas\n",
    "bluish_image = image.copy()\n",
    "bluish_image[:] = [212, 156, 31]  # BGR for blue\n",
    "\n",
    "\n",
    "#white mask on the black segments\n",
    "# white_on_black = cv2.bitwise_and(white_mask_from_binary, black_mask)  # Isolate white areas on the black segments\n",
    "\n",
    "# cv2.imwrite(\"white_on_black.png\", white_on_black)\n",
    "\n",
    "\n",
    "# # Step 6: Convert white to gray in those areas\n",
    "# # gray_color = np.array([128, 128, 128])  # RGB value for gray\n",
    "# image[white_on_black==0] = gray_color  # Change white on black to gray\n",
    "\n",
    "\n",
    "image[white_mask == 255] = gray_color\n",
    "\n",
    "# Step 4: Apply bluish color to the black regions\n",
    "image[black_mask == 255] = bluish_image[black_mask == 255]\n",
    "\n",
    "\n",
    "\n",
    "\n",
    "\n",
    "# Step 5: Isolate white areas (likely prawns) within the black segments\n",
    "# Detect white pixels in the original image (on the black segments only)\n",
    "# white_on_black = cv2.bitwise_and(white_mask, black_mask)  # Isolate white areas on the black segments\n",
    "\n",
    "# Step 6: Convert white to gray in those areas\n",
    "# gray_color = np.array([128, 128, 128])  # RGB value for gray\n",
    "# image[white_on_black == 255] = gray_color  # Change white on black to gray\n",
    "\n",
    "# Step 7: Display the final image\n",
    "# cv2.imshow(\"Result\", image)\n",
    "# cv2.waitKey(0)\n",
    "# cv2.destroyAllWindows()\n",
    "\n",
    "# Save the result\n",
    "\n",
    "#resize the image\n",
    "cv2.imwrite(r\"vlcsnap-2024-09-21-02h23m31s263.png\", image)"
   ]
  },
  {
   "cell_type": "code",
   "execution_count": null,
   "metadata": {},
   "outputs": [],
   "source": []
  },
  {
   "cell_type": "code",
   "execution_count": 9,
   "metadata": {},
   "outputs": [
    {
     "name": "stdout",
     "output_type": "stream",
     "text": [
      "Found 1824 contours\n",
      "Contour 0: Area: 579477.00\n",
      "Contour 1: Area: 544803.50\n"
     ]
    },
    {
     "data": {
      "text/plain": [
       "True"
      ]
     },
     "execution_count": 9,
     "metadata": {},
     "output_type": "execute_result"
    }
   ],
   "source": [
    "import cv2\n",
    "import numpy as np\n",
    "\n",
    "# Load a binary image\n",
    "\n",
    "image = cv2.imread(r'C:\\Users\\gbo10\\Videos\\research\\counting_research_algorithms\\fifty_one\\measurements\\vlcsnap-2024-09-21-02h23m31s263.png')\n",
    "\n",
    "# # Convert to grayscale\n",
    "# gray = cv2.cvtColor(image, cv2.COLOR_BGR2GRAY)\n",
    "# #save the gray image\n",
    "# cv2.imwrite(\"gray_image.png\", gray)\n",
    "gray_color = np.array([122, 129, 132])  # RGB value for gray\n",
    "\n",
    "lower_bound = gray_color -100 # Allow a small tolerance\n",
    "upper_bound = gray_color + 100\n",
    "\n",
    "# Create a mask where the pixels are within the range of the gray color\n",
    "mask = cv2.inRange(image, lower_bound, upper_bound)\n",
    "\n",
    "# Invert the mask to get the pixels that are NOT the gray color\n",
    "\n",
    "cv2.imwrite(\"mask.png\", mask)\n",
    "\n",
    "# # Make the non-gray pixels black by applying the inverted mask\n",
    "# result = image.copy()\n",
    "# # result[mask_inv == 255] = [0, 0, 0] \n",
    "\n",
    "\n",
    "#thershold the image using gray_color = np.array([132, 129, 122])  # RGB value for gray\n",
    "\n",
    "\n",
    "# cv2.imwrite(\"result.png\", result)\n",
    "\n",
    "contours, _ = cv2.findContours(mask, cv2.RETR_EXTERNAL, cv2.CHAIN_APPROX_SIMPLE)\n",
    "\n",
    "print(f\"Found {len(contours)} contours\")\n",
    "\n",
    "conutres1=[]\n",
    "\n",
    "i=0\n",
    "# Iterate through contours\n",
    "for contour in contours:\n",
    "    # Calculate area and perimeter (arc length)\n",
    "    area = cv2.contourArea(contour)\n",
    "    # perimeter = cv2.arcLength(contour, True)\n",
    "   \n",
    "    if area > 90000:\n",
    "        \n",
    "\n",
    "        conutres1.append(contour)\n",
    "\n",
    "        print(f\"Contour {i}: Area: {area:.2f}\")\n",
    "        cv2.drawContours(image, [contour], -1, (0, 255, 0), 2)\n",
    "        i+=1\n",
    "\n",
    "\n",
    "#     #Draw the contour\n",
    "\n",
    "#what is not in the contures1 paint in azure   \n",
    "    \n",
    "   \n",
    "# # Save the output image\n",
    "cv2.imwrite('ellipses_output.png', image)\n",
    "\n",
    "\n",
    "\n",
    "\n",
    "# Find contours\n",
    "# contours, hierarchy = cv2.findContours(binary_image, cv2.RETR_TREE, cv2.CHAIN_APPROX_SIMPLE)\n",
    "\n",
    "# # Draw contours on the original image\n",
    "# output_image = cv2.cvtColor(binary_image, cv2.COLOR_GRAY2BGR)  # Convert grayscale to BGR for color drawing\n",
    "# cv2.drawContours(output_image, contours, -1, (0, 255, 0), 2)  # Draw all contours in green\n",
    "\n",
    "# Save the output image\n",
    "# cv2.imwrite('contours_output.png', output_image)\n"
   ]
  },
  {
   "cell_type": "code",
   "execution_count": 10,
   "metadata": {},
   "outputs": [
    {
     "name": "stdout",
     "output_type": "stream",
     "text": [
      "589.5\n",
      "32496.5\n",
      "12145.0\n",
      "3556.5\n",
      "1674.5\n",
      "638.0\n"
     ]
    },
    {
     "data": {
      "text/plain": [
       "True"
      ]
     },
     "execution_count": 10,
     "metadata": {},
     "output_type": "execute_result"
    }
   ],
   "source": [
    "\n",
    "import cv2\n",
    "import numpy as np\n",
    "\n",
    "# Load the image\n",
    "image = cv2.imread(r\"C:\\Users\\gbo10\\OneDrive\\measurement_paper_images\\molt\\all molt\\undistorted\\first_process\\right\\azure\\undistorted_GX010191_37_392.jpg\")\n",
    "\n",
    "# Define the color to paint the background (Azure color in BGR format)\n",
    "azure_color = [212, 156, 31]  # Azure in BGR (Blue, Green, Red)\n",
    "\n",
    "# Define gray color and tolerance\n",
    "gray_color = np.array([52, 66, 79])  # RGB value for gray\n",
    "lower_bound = gray_color - 50\n",
    "upper_bound = gray_color + 50\n",
    "\n",
    "\n",
    "# Create a mask for the gray color\n",
    "mask = cv2.inRange(image, lower_bound, upper_bound)\n",
    "\n",
    "# Find contours in the mask\n",
    "contours, _ = cv2.findContours(mask, cv2.RETR_EXTERNAL, cv2.CHAIN_APPROX_SIMPLE)\n",
    "\n",
    "# Filter contours based on area and create a new mask for the contours\n",
    "contours_mask = np.zeros_like(mask)  # A black mask of the same size as the original image\n",
    "\n",
    "# Iterate through contours and draw only the ones with sufficient area\n",
    "for contour in contours:\n",
    "    area = cv2.contourArea(contour)\n",
    "    if area > 500: \n",
    "        print (area)\n",
    "        # Draw the contours on the black mask\n",
    "        cv2.drawContours(contours_mask, [contour], -1, 255, thickness=cv2.FILLED)  # Fill the contours in white\n",
    "\n",
    "# Invert the contours mask (make contours black and the rest white)\n",
    "contours_mask_inv = cv2.bitwise_not(contours_mask)\n",
    "\n",
    "# Create a background image filled with the azure color\n",
    "azure_background = np.full_like(image, azure_color, dtype=np.uint8)\n",
    "\n",
    "# Mask out the contour areas and paint the rest azure\n",
    "result = cv2.bitwise_and(image, image, mask=contours_mask)  # Keep the original image inside the contours\n",
    "azure_areas = cv2.bitwise_and(azure_background, azure_background, mask=contours_mask_inv)  # Paint everything else azure\n",
    "\n",
    "# Combine the original image (inside contours) with the azure background (outside contours)\n",
    "final_result = cv2.add(result, azure_areas)\n",
    "\n",
    "# Save and display the final result\n",
    "cv2.imwrite(\"result_azure_background.png\", final_result)\n",
    "\n"
   ]
  },
  {
   "cell_type": "code",
   "execution_count": 11,
   "metadata": {},
   "outputs": [
    {
     "name": "stderr",
     "output_type": "stream",
     "text": [
      "  0%|          | 0/93 [00:00<?, ?it/s]"
     ]
    },
    {
     "name": "stderr",
     "output_type": "stream",
     "text": [
      "100%|██████████| 93/93 [00:02<00:00, 41.29it/s]\n"
     ]
    }
   ],
   "source": [
    "    \n",
    "import cv2\n",
    "import numpy as np\n",
    "import os\n",
    "from tqdm import tqdm\n",
    "\n",
    "molt_image_path = r\"C:\\Users\\gbo10\\OneDrive\\measurement_paper_images\\molt\\all molt\\undistorted\\first_process\\square\"\n",
    "\n",
    "\n",
    "output_path = r\"C:\\Users\\gbo10\\OneDrive\\measurement_paper_images\\molt\\all molt\\undistorted\\first_process\\square\\azure\"\n",
    "\n",
    "os.makedirs(output_path, exist_ok=True) \n",
    "\n",
    "image_paths = [os.path.join(molt_image_path, image) for image in os.listdir(molt_image_path) if image.endswith(('.jpg', '.jpeg', '.png', '.bmp', '.tiff'))]\n",
    "\n",
    "\n",
    "for image_path in tqdm(image_paths):\n",
    "\n",
    "    # Load the image\n",
    "    image = cv2.imread(image_path)\n",
    "    azure_color = [212, 156, 31]  # Azure in BGR (Blue, Green, Red)\n",
    "\n",
    "    # Define gray color and tolerance\n",
    "    gray_color = np.array([52, 66, 79])  # RGB value for gray\n",
    "    lower_bound = gray_color - 50\n",
    "    upper_bound = gray_color + 50\n",
    "\n",
    "    # Create a mask for the gray color\n",
    "    mask = cv2.inRange(image, lower_bound, upper_bound)\n",
    "\n",
    "    cv2.imwrite(\"mask.png\", mask)\n",
    "\n",
    "    # Find contours in the mask\n",
    "    contours, _ = cv2.findContours(mask, cv2.RETR_EXTERNAL, cv2.CHAIN_APPROX_SIMPLE)\n",
    "\n",
    "    # Filter contours based on area and create a new mask for the contours\n",
    "    contours_mask = np.zeros_like(mask)  # A black mask of the same size as the original image\n",
    "\n",
    "    # Iterate through contours and draw only the ones with sufficient area\n",
    "    for contour in contours:\n",
    "        area = cv2.contourArea(contour)\n",
    "        if area >800:  \n",
    "            \n",
    "     \n",
    "            # Filter by area\n",
    "            # Draw the contours on the black mask\n",
    "            cv2.drawContours(contours_mask, [contour], -1, 255, thickness=cv2.FILLED)  # Fill the contours in white\n",
    "\n",
    "    # Invert the contours mask (make contours black and the rest white)\n",
    "    contours_mask_inv = cv2.bitwise_not(contours_mask)\n",
    "\n",
    "    # Create a background image filled with the azure color\n",
    "    azure_background = np.full_like(image, azure_color, dtype=np.uint8)\n",
    "\n",
    "    # Mask out the contour areas and paint the rest azure\n",
    "    result = cv2.bitwise_and(image, image, mask=contours_mask)  # Keep the original image inside the contours\n",
    "    azure_areas = cv2.bitwise_and(azure_background, azure_background, mask=contours_mask_inv)  # Paint everything else azure\n",
    "\n",
    "    # Combine the original image (inside contours) with the azure background (outside contours)\n",
    "    final_result = cv2.add(result, azure_areas)\n",
    "\n",
    "    #Save the result\n",
    "    cv2.imwrite(os.path.join(output_path, os.path.basename(image_path)), final_result)\n",
    "\n"
   ]
  },
  {
   "cell_type": "code",
   "execution_count": null,
   "metadata": {},
   "outputs": [],
   "source": []
  },
  {
   "cell_type": "code",
   "execution_count": null,
   "metadata": {},
   "outputs": [],
   "source": []
  }
 ],
 "metadata": {
  "kernelspec": {
   "display_name": ".venv",
   "language": "python",
   "name": "python3"
  },
  "language_info": {
   "codemirror_mode": {
    "name": "ipython",
    "version": 3
   },
   "file_extension": ".py",
   "mimetype": "text/x-python",
   "name": "python",
   "nbconvert_exporter": "python",
   "pygments_lexer": "ipython3",
   "version": "3.9.7"
  }
 },
 "nbformat": 4,
 "nbformat_minor": 2
}
