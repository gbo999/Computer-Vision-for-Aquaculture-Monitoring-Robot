{
 "cells": [
  {
   "cell_type": "markdown",
   "metadata": {},
   "source": [
    "# good"
   ]
  },
  {
   "cell_type": "code",
   "execution_count": 30,
   "metadata": {},
   "outputs": [],
   "source": [
    "from utils import calculate_euclidean_distance, calculate_real_width\n",
    "from skeletonization import skeletonize_mask,create_filled_binary_mask, skeletonize_mask, find_longest_path\n",
    "import cv2\n",
    "import fiftyone as fo\n",
    "import numpy as np\n",
    "\n",
    "def process_segmentations(segmentation_path):\n",
    "    \"\"\"\n",
    "    Process the segmentations from the TXT file, calculate the minimum enclosing circle for each prawn.\n",
    "    \"\"\"\n",
    "    segmentations = []\n",
    "    skeletons=[]\n",
    "    hulls=[]\n",
    "    skeletons_straight=[]\n",
    "    skeletons_straight_2=[]\n",
    "    seg_closeds=[]\n",
    "    skeletons_2=[]\n",
    "    box_diagonal=[] \n",
    "    boxes=[]\n",
    "    masks=[]\n",
    "\n",
    "\n",
    "\n",
    "\n",
    "\n",
    "\n",
    "    \n",
    "    # Open the segmentation file and process each line\n",
    "    with open(segmentation_path, 'r') as file:\n",
    "        for line in file:\n",
    "            coords = [float(x) for x in line.strip().split()]\n",
    "            coords_array = np.array(coords).reshape(-1, 2)\n",
    "            \n",
    "\n",
    "            \n",
    "            binary_mask_no = create_filled_binary_mask(coords_array, 360, 640, gaussian_blur=False) \n",
    "            \n",
    "            if np.sum(binary_mask_no) == 0:   \n",
    "                continue\n",
    "\n",
    "\n",
    "\n",
    "\n",
    "\n",
    "            binary_dilated = cv2.dilate(binary_mask_no, np.ones((15, 15), np.uint8), iterations=1)     \n",
    "\n",
    "\n",
    "            #contour dilated\n",
    "            contures_dil, _ = cv2.findContours(binary_dilated, cv2.RETR_EXTERNAL, cv2.CHAIN_APPROX_SIMPLE)    \n",
    "\n",
    "\n",
    "\n",
    "            prawn_conture_dil = max(contures_dil, key=cv2.contourArea)\n",
    "\n",
    "            coords_contour_dil = np.column_stack(prawn_conture_dil).flatten()\n",
    "\n",
    "            normalized_coords_bin=[(coords_contour_dil[i]/640, coords_contour_dil[i+1]/360) for i in range(0, len(coords_contour_dil), 2)]  # Extract points (x, y)\n",
    "\n",
    "\n",
    "            masks.append(fo.Polyline(\n",
    "                points=[normalized_coords_bin],\n",
    "                closed=True,\n",
    "                filled=False,\n",
    "            ))\n",
    "\n",
    "\n",
    "            \n",
    "            thinned_2=skeletonize_mask(binary_mask_no)\n",
    "\n",
    "            # skeleton = skeletonize_mask(binary_mask)\n",
    "            skeleton_2 = thinned_2\n",
    "            skeleton_coords_2 = np.column_stack(np.nonzero(skeleton_2))\n",
    "            normalized_coords_2,max_length_2 = find_longest_path(skeleton_coords_2,(360,640),(2988,5312))\n",
    "\n",
    "            normalized_coords_2 = [(x, y) for y, x in normalized_coords_2]  # Convert to (y, x) format\n",
    "\n",
    "            #only the first and last points of the skeleton\n",
    "            normalized_coords_straight_2 = [normalized_coords_2[0], normalized_coords_2[-1]]  \n",
    "\n",
    "\n",
    "\n",
    "\n",
    "\n",
    "             \n",
    "            #convex hull diameter\n",
    "            contures, _ = cv2.findContours(binary_mask_no, cv2.RETR_EXTERNAL, cv2.CHAIN_APPROX_SIMPLE)\n",
    "\n",
    "            \n",
    "            prawn_conture = max(contures, key=cv2.contourArea)  \n",
    "\n",
    "            # Compute the minimum area rectangle enclosing the shrimp\n",
    "            rect = cv2.minAreaRect(prawn_conture)\n",
    "            box_points = cv2.boxPoints(rect)\n",
    "            box_points = np.int0(box_points)\n",
    "\n",
    "            original_size = (640, 360)\n",
    "            new_size = (5312, 2988)\n",
    "\n",
    "            # Scaling factors\n",
    "            scale_x = new_size[0] / original_size[0]  # 5312 / 640\n",
    "            scale_y = new_size[1] / original_size[1]  # 2988 / 640\n",
    "\n",
    "            box_points_scaled = np.array([(point[0] * scale_x, point[1] * scale_y) for point in box_points])\n",
    "\n",
    "            width= calculate_euclidean_distance(box_points_scaled[0], box_points_scaled[1])\n",
    "            height= calculate_euclidean_distance(box_points_scaled[1], box_points_scaled[2])\n",
    "\n",
    "            max_length_box=max(width,height)\n",
    "\n",
    "\n",
    "        \n",
    "            # Convert theta from degrees to radians for FiftyOne\n",
    "            theta_radians = np.deg2rad(rect[2])\n",
    "            # normalized_bounding_box = [(box_points[i][0]/640, box_points[i][1]/640) for i in range(0, len(box_points))] \n",
    "            \n",
    "            # image_center_x = 640 / 2\n",
    "\n",
    "            # xc_adjusted = rect[0][0] - image_center_x\n",
    "\n",
    "            # Extract points (x, y) \n",
    "            box=fo.Polyline.from_rotated_box(\n",
    "                xc=rect[0][0] ,\n",
    "                yc=rect[0][1],\n",
    "                w=rect[1][0],\n",
    "                h=rect[1][1],\n",
    "                theta =theta_radians,\n",
    "                frame_size=(640, 360)\n",
    "\n",
    "            )\n",
    "\n",
    "\n",
    "            boxes.append(box)\n",
    "\n",
    "\n",
    "            hull_points = cv2.convexHull(prawn_conture, returnPoints=True)\n",
    "\n",
    "\n",
    "            \n",
    "# Scaling factors to convert from 640x640 to 5312x2988\n",
    "            scale_x = 5312 / 640\n",
    "            scale_y = 2988 / 360\n",
    "\n",
    "        # Scale the points to the new resolution\n",
    "            scaled_hull_points = []\n",
    "            for point in hull_points:\n",
    "                x, y = point[0]\n",
    "                scaled_x = x * scale_x\n",
    "                scaled_y = y * scale_y\n",
    "                scaled_hull_points.append([scaled_x, scaled_y])\n",
    "\n",
    "            # Convert to numpy array for easier handling\n",
    "            scaled_hull_points = np.array(scaled_hull_points, dtype=np.float32)\n",
    "\n",
    "            # Now, find the maximum Euclidean distance (convex hull diameter) using the scaled points\n",
    "            max_distance = 0\n",
    "            point1 = None\n",
    "            point2 = None\n",
    "\n",
    "            # Loop through all pairs of scaled points to find the maximum distance\n",
    "            for i in range(len(scaled_hull_points)):\n",
    "                for j in range(i + 1, len(scaled_hull_points)):\n",
    "                    distance = calculate_euclidean_distance(scaled_hull_points[i], scaled_hull_points[j])\n",
    "                    if distance > max_distance:\n",
    "                        max_distance = distance\n",
    "                        point1 = scaled_hull_points[i]\n",
    "                        point2 = scaled_hull_points[j]\n",
    "\n",
    "            # The result is max_distance (in pixels) in the 5312x2988 image\n",
    "\n",
    "\n",
    "            normalzied_points_hull = [(point1[0]/5312, point1[1]/2988), (point2[0]/5312, point2[1]/2988)]  # Extract points (x, y)\n",
    "\n",
    "            hull=fo.Polyline(\n",
    "                points=[normalzied_points_hull],\n",
    "                closed=False,\n",
    "                filled=False,\n",
    "                max_length=max_distance\n",
    "            )\n",
    "\n",
    "        # skeleton_straight=fo.Polyline(\n",
    "        #     points=[normalized_coords_straight],\n",
    "        #     closed=False,\n",
    "        #     filled=False,\n",
    "        #     max_length=max_length\n",
    "        # )\n",
    "        # skeletons_straight.append(skeleton_straight)\n",
    "\n",
    "            skeleton_straight_2=fo.Polyline(\n",
    "                points=[normalized_coords_straight_2],\n",
    "                closed=False,\n",
    "                filled=False,\n",
    "                max_length=max_length_2,\n",
    "                \n",
    "            )\n",
    "            skeletons_straight_2.append(skeleton_straight_2)\n",
    "\n",
    "\n",
    "\n",
    "\n",
    "            hulls.append(hull)\n",
    "\n",
    "            # skeleton=fo.Polyline(\n",
    "            #     points=[normalized_coords],\n",
    "            #     closed=False,\n",
    "            #     filled=False,\n",
    "            #     max_length=max_length\n",
    "            # )\n",
    "\n",
    "            # skeletons.append(skeleton)\n",
    "            \n",
    "            skeleton_2=fo.Polyline( \n",
    "                points=[normalized_coords_2],\n",
    "                closed=False,\n",
    "                filled=False,\n",
    "                max_length=max_length_2)\n",
    "            skeletons_2.append(skeleton_2)\n",
    "              # Convert the line to a list of floats\n",
    "            normalzied_points = [(coords[i]/640, coords[i + 1]/360) for i in range(0, len(coords), 2)]  # Extract points (x, y)\n",
    "            # points = [Point(x*5312, y*2988) for x, y in normalzied_points] \n",
    "            \n",
    "\n",
    "            scaled_contour = []\n",
    "            for point in prawn_conture:\n",
    "                scaled_x = int(point[0][0] * scale_x)\n",
    "                scaled_y = int(point[0][1] * scale_y)\n",
    "                scaled_contour.append([[scaled_x, scaled_y]])\n",
    "\n",
    "            scaled_contour = np.array(scaled_contour, dtype=np.int32)\n",
    "\n",
    "             # Convert to Point objects    \n",
    "            # Calculate the minimum enclosing circle (center and radius)\n",
    "            center, radius = cv2.minEnclosingCircle(scaled_contour)\n",
    "\n",
    "\n",
    "\n",
    "            diameter = radius * 2\n",
    "\n",
    "\n",
    "            #center in 640x360\n",
    "            center_640 = (center[0] / scale_x, center[1] / scale_y)\n",
    "        \n",
    "\n",
    "            segmentation = fo.Polyline(\n",
    "                points=[normalzied_points],\n",
    "                closed=True,\n",
    "                filled=False,\n",
    "                diameter=diameter,\n",
    "                center=center_640,\n",
    "                max_length_skeleton=max_length_2,\n",
    "                max_length_hull=max_distance,\n",
    "                max_length_box=max_length_box\n",
    "            )\n",
    "\n",
    "            #smooth segmentation  wirh closing\n",
    "            # seg_closed=fo.Polyline(\n",
    "            #     points=[normalized_coords_bin],\n",
    "            #     closed=True,\n",
    "            #     filled=False,\n",
    "            #     max_length=max_length\n",
    "            # )\n",
    "\n",
    "            # seg_closeds.append(seg_closed)                \n",
    "\n",
    "\n",
    "            segmentations.append(segmentation)\n",
    "\n",
    "\n",
    "\n",
    "\n",
    "\n",
    "\n",
    "\n",
    "                     # Store the segmentation information (center, radius, and diameter)\n",
    "\n",
    "    return segmentations,skeletons,hulls, skeletons_straight,seg_closeds,skeletons_2,skeletons_straight_2,boxes,masks"
   ]
  },
  {
   "cell_type": "code",
   "execution_count": 31,
   "metadata": {},
   "outputs": [],
   "source": [
    "import fiftyone.core.labels as fol\n",
    "from tqdm import tqdm\n",
    "import fiftyone as fo\n",
    "import os\n",
    "\n",
    "def process_images(image_paths, prediction_folder_path, dataset,tag):\n",
    "    print(\"Processing images...\")\n",
    "    \n",
    "    \"\"\"\n",
    "    Processes images by matching segmentation with bounding boxes and calculating prawn sizes.\n",
    "    \"\"\"\n",
    "    for image_path in tqdm(image_paths):\n",
    "        # filename = os.path.splitext(os.path.basename(image_path))[0]\n",
    "        \n",
    "\n",
    "           \n",
    "        # prediction_txt_path = os.path.join(prediction_folder_path, f\"{os.path.basename(image_path).split('.')[0]}_segmentations.txt\")\n",
    "\n",
    "        core_name = os.path.splitext(os.path.basename(image_path))[0]\n",
    "\n",
    "        # Construct the path to the corresponding segmentation file\n",
    "\n",
    "\n",
    "\n",
    "        #check if txt exist\n",
    "\n",
    "        if not os.path.exists(os.path.join(prediction_folder_path, f\"{core_name}_segmentations.txt\")):\n",
    "            print(f\"No segmentation file found for {core_name}\")\n",
    "            continue\n",
    "\n",
    "\n",
    "\n",
    "        prediction_txt_path = os.path.join(prediction_folder_path, f\"{core_name}_segmentations.txt\")\n",
    "\n",
    "        # core_name=filename.split('.')[0]\n",
    "        # # Construct the path to the prediction (segmentation) file\n",
    "        # prediction_txt_path = os.path.join(prediction_folder_path, f\"{core_name}_segmentations.txt\")\n",
    "        # if not os.path.exists(prediction_txt_path):\n",
    "        #     print(f\"No segmentation file found for {filename}\")\n",
    "        #     continue\n",
    "\n",
    "\n",
    "        # Parse the segmentations to get the minimum enclosing circles\n",
    "        segmentations,skeletons,hulls,skeletons_straight,seg_closeds,skeletons_2,skeletons_straight_2,boxes,masks = process_segmentations(prediction_txt_path)\n",
    "\n",
    "        # Save the modified image (with circles drawn)\n",
    "\n",
    "        # Create a new sample for FiftyOne\n",
    "        sample = fo.Sample(filepath=image_path)\n",
    "\n",
    "        # Iterate over each bounding box in the filtered data\n",
    "        sample[\"segmentations\"] = fol.Polylines(polylines=segmentations)\n",
    "\n",
    "        # sample[\"skeletons\"] = fol.Polylines(polylines=skeletons)\n",
    "\n",
    "        sample[\"hulls\"] = fol.Polylines(polylines=hulls)    \n",
    "\n",
    "        # sample[\"skeletons_straight\"] = fol.Polylines(polylines=skeletons_straight)\n",
    "\n",
    "        # sample['seg_closeds']=fol.Polylines(polylines=seg_closeds)\n",
    "        \n",
    "        sample['skeletons_no_smooth']=fol.Polylines(polylines=skeletons_2)\n",
    "\n",
    "        sample[\"skeletons_straight_no_smooth\"] = fol.Polylines(polylines=skeletons_straight_2)\n",
    "\n",
    "        sample['boxes']=fol.Polylines(polylines=boxes)\n",
    "\n",
    "        sample['masks']=fol.Polylines(polylines=masks)\n",
    "        # Add the processed sample to the FiftyOne dataset\n",
    "        sample.tags.append(tag)\n",
    "        dataset.add_sample(sample)"
   ]
  },
  {
   "cell_type": "code",
   "execution_count": 32,
   "metadata": {},
   "outputs": [],
   "source": [
    "import math\n",
    "def process_detection_by_circle(segmentation, sample,i,dataframe):\n",
    "    \"\"\"\n",
    "    Process the prawn detection based on the enclosing circle's diameter.\n",
    "    Update the filtered dataframe with the real-world size of the prawn.\n",
    "    \"\"\"\n",
    "    poly=segmentation\n",
    "\n",
    "    if 'right' in str(sample.tags[0]):\n",
    "        height_mm =700-30\n",
    "        focal_length = 23.64    \n",
    "    else:\n",
    "        height_mm=410-30\n",
    "        focal_length=24.72\n",
    "\n",
    "    fov=75\n",
    "    predicted_hull_length=poly['max_length_hull']\n",
    "    \n",
    "    FOV_width = 2 * height_mm * math.tan(math.radians(fov / 2))\n",
    "    hull_length_fov = FOV_width * predicted_hull_length / 5312\n",
    "\n",
    "    if hull_length_fov < 120 or hull_length_fov > 220:\n",
    "\n",
    "        return poly\n",
    "\n",
    "    image_path = sample.filepath.split('\\\\')[-1]\n",
    "\n",
    "    if hull_length_fov < 175:\n",
    "        best_true_length = 143\n",
    "        if hull_length_fov < 143 and 'smaller than 143mm' not in sample.tags:\n",
    "            sample.tags.append('smaller than 143mm')\n",
    "        if hull_length_fov < 143:      \n",
    "            dataframe.loc[(dataframe['index'] == i) & (dataframe['image_path'] == image_path), 'smaller'] = 'yes'\n",
    "        else:\n",
    "            dataframe.loc[(dataframe['index'] == i) & (dataframe['image_path'] == image_path), 'smaller'] = 'no'   \n",
    "\n",
    "    else:\n",
    "        best_true_length = 180\n",
    "        if hull_length_fov < 180 and 'smaller than 180mm' not in sample.tags:\n",
    "            sample.tags.append('smaller than 180mm')\n",
    "\n",
    "        if hull_length_fov < 180:\n",
    "            dataframe.loc[(dataframe['index'] == i) & (dataframe['image_path'] == image_path), 'smaller'] = 'yes'\n",
    "        \n",
    "        else:\n",
    "            dataframe.loc[(dataframe['index'] == i) & (dataframe['image_path'] == image_path), 'smaller'] = 'no'\n",
    "\n",
    "    # for true_length in [143, 180]:\n",
    "        \n",
    "    \n",
    "\n",
    "       \n",
    "    #     error_percentage_hull_fov = abs(hull_length_fov - true_length) / true_length * 100\n",
    "        \n",
    "\n",
    "\n",
    "    #     if error_percentage_hull_fov < min_error_percentage:\n",
    "    #         min_error_percentage = error_percentage_hull_fov\n",
    "    #         best_true_length = true_length\n",
    "\n",
    "    if best_true_length == 143:\n",
    "        height_mm = height_mm\n",
    "    else:\n",
    "        height_mm = height_mm - 15\n",
    "\n",
    "\n",
    "  \n",
    "    # print(f\"height_mm: {height_mm}, tag: {tag}\")\n",
    "\n",
    "    # focal_length = 24.22  # Camera focal length\n",
    "    pixel_size = 0.00716844  # Pixel size in mm\n",
    "\n",
    "    \n",
    "\n",
    "    fov=75\n",
    "    FOV_width=2*height_mm*math.tan(math.radians(fov/2))\n",
    "\n",
    "\n",
    "    # Get the diameter of the circle in pixels\n",
    "    predicted_diameter_pixels = poly['diameter']\n",
    "\n",
    "\n",
    "    predicted_skeleton_length=poly['max_length_skeleton']  \n",
    "\n",
    "    predicted_hull_length=poly['max_length_hull']\n",
    "\n",
    "     \n",
    "    predicted_box_length=poly['max_length_box']\n",
    "\n",
    "    center=poly['center']\n",
    "\n",
    "\n",
    "\n",
    "\n",
    "    #add true lenght to datafram\n",
    "    dataframe.loc[(dataframe['index'] == i) & (dataframe['image_path'] == image_path), 'true_length'] = best_true_length\n",
    "\n",
    "\n",
    "    dataframe.loc[(dataframe['index'] == i) & (dataframe['image_path'] == image_path), 'center'] = str(center)\n",
    "\n",
    "    dataframe.loc[(dataframe['index'] == i) & (dataframe['image_path'] == image_path), 'Hull_Length_pixels'] = predicted_hull_length\n",
    "    dataframe.loc[(dataframe['index'] == i) & (dataframe['image_path'] == image_path), 'Diameter_pixels'] = predicted_diameter_pixels\n",
    "    dataframe.loc[(dataframe['index'] == i) & (dataframe['image_path'] == image_path), 'Skeleton_Length_pixels'] = predicted_skeleton_length\n",
    "    dataframe.loc[(dataframe['index'] == i) & (dataframe['image_path'] == image_path), 'Box_Length_pixels'] = predicted_box_length\n",
    "\n",
    "\n",
    "\n",
    "    # Calculate the real-world prawn size using the box\n",
    "    focal_box = calculate_real_width(focal_length, height_mm, predicted_box_length, pixel_size) \n",
    "\n",
    "\n",
    "    focal_hull = calculate_real_width(focal_length, height_mm, predicted_hull_length, pixel_size)    \n",
    "    # Calculate the real-world prawn size using the enclosing circle's diameter\n",
    "    focal_MEC = calculate_real_width(focal_length, height_mm, predicted_diameter_pixels, pixel_size)\n",
    "\n",
    "    focal_ske = calculate_real_width(focal_length, height_mm, predicted_skeleton_length, pixel_size)    \n",
    "\n",
    "\n",
    "    # Update the filtered dataframe with the real-world size of the prawn\n",
    "    dataframe.loc[(dataframe['index'] == i) & (dataframe['image_path'] == image_path), 'Focal_Box'] = focal_box\n",
    "    dataframe.loc[(dataframe['index'] == i) & (dataframe['image_path'] == image_path), 'Focal_Hull'] = focal_hull\n",
    "    dataframe.loc[(dataframe['index'] == i) & (dataframe['image_path'] == image_path), 'Focal_MEC'] = focal_MEC\n",
    "    dataframe.loc[(dataframe['index'] == i) & (dataframe['image_path'] == image_path), 'Focal_Skeleton'] = focal_ske\n",
    "\n",
    "\n",
    "\n",
    "    hull_length_fov=FOV_width*predicted_hull_length/5312\n",
    "    diameter_length_fov=FOV_width*predicted_diameter_pixels/5312\n",
    "    skeleton_length_fov=FOV_width*predicted_skeleton_length/5312\n",
    "\n",
    "    box_length_fov=FOV_width*predicted_box_length/5312\n",
    "\n",
    "    dataframe.loc[(dataframe['index'] == i) & (dataframe['image_path'] == image_path), 'Hull_Length_fov'] = hull_length_fov\n",
    "    dataframe.loc[(dataframe['index'] == i) & (dataframe['image_path'] == image_path), 'Diameter_fov'] = diameter_length_fov\n",
    "    dataframe.loc[(dataframe['index'] == i) & (dataframe['image_path'] == image_path), 'Skeleton_Length_fov'] = skeleton_length_fov\n",
    "    dataframe.loc[(dataframe['index'] == i) & (dataframe['image_path'] == image_path), 'Box_Length_fov'] = box_length_fov\n",
    "\n",
    "\n",
    "\n",
    "    error_percentage_hull_fov = abs(hull_length_fov - best_true_length) / best_true_length * 100\n",
    "\n",
    "    error_percentage_skeleton_fov = abs(skeleton_length_fov - best_true_length) / best_true_length * 100  \n",
    "\n",
    "\n",
    "    error_percentage_box_fov = abs(box_length_fov - best_true_length) / best_true_length * 100\n",
    "\n",
    "\n",
    "    error_percentage_MEC_fov = abs(diameter_length_fov - best_true_length) / best_true_length * 100\n",
    "\n",
    "\n",
    "    MAE_hull_fov = abs(hull_length_fov - best_true_length)\n",
    "    MAE_skeleton_fov = abs(skeleton_length_fov - best_true_length)\n",
    "    MAE_box_fov = abs(box_length_fov - best_true_length)\n",
    "    MAE_MEC_fov = abs(diameter_length_fov - best_true_length)\n",
    "\n",
    "    dataframe.loc[(dataframe['index'] == i) & (dataframe['image_path'] == image_path), 'MAE_Hull_fov'] = MAE_hull_fov\n",
    "    dataframe.loc[(dataframe['index'] == i) & (dataframe['image_path'] == image_path), 'MAE_Skeleton_fov'] = MAE_skeleton_fov\n",
    "    dataframe.loc[(dataframe['index'] == i) & (dataframe['image_path'] == image_path), 'MAE_Box_fov'] = MAE_box_fov\n",
    "    dataframe.loc[(dataframe['index'] == i) & (dataframe['image_path'] == image_path), 'MAE_MEC_fov'] = MAE_MEC_fov\n",
    "\n",
    "\n",
    "\n",
    "    dataframe.loc[(dataframe['index'] == i) & (dataframe['image_path'] == image_path), 'Error_percentage_Hull_fov'] = error_percentage_hull_fov\n",
    "    dataframe.loc[(dataframe['index'] == i) & (dataframe['image_path'] == image_path), 'Error_percentage_Skeleton_fov'] = error_percentage_skeleton_fov\n",
    "    dataframe.loc[(dataframe['index'] == i) & (dataframe['image_path'] ==image_path), 'Error_percentage_Box_fov'] = error_percentage_box_fov\n",
    "\n",
    "    dataframe.loc[(dataframe['index'] == i) & (dataframe['image_path'] == image_path), 'Error_percentage_MEC_fov'] = error_percentage_MEC_fov\n",
    "\n",
    "    error_percentage_hull_focal = abs(focal_hull - best_true_length) / best_true_length * 100\n",
    "\n",
    "    error_percentage_skeleton_focal = abs(focal_ske - best_true_length) / best_true_length * 100\n",
    "\n",
    "    error_percentage_box_focal = abs(focal_box - best_true_length) / best_true_length * 100\n",
    "\n",
    "    error_percentage_MEC_focal = abs(focal_MEC - best_true_length) / best_true_length * 100\n",
    "\n",
    "    dataframe.loc[(dataframe['index'] == i) & (dataframe['image_path'] == image_path), 'Error_percentage_Hull_focal'] = error_percentage_hull_focal\n",
    "    dataframe.loc[(dataframe['index'] == i) & (dataframe['image_path'] == image_path), 'Error_percentage_Skeleton_focal'] = error_percentage_skeleton_focal\n",
    "\n",
    "    dataframe.loc[(dataframe['index'] == i) & (dataframe['image_path'] == image_path), 'Error_percentage_Box_focal'] = error_percentage_box_focal\n",
    "\n",
    "    dataframe.loc[(dataframe['index'] == i) & (dataframe['image_path'] == image_path), 'Error_percentage_MEC_focal'] = error_percentage_MEC_focal  \n",
    "\n",
    "\n",
    "\n",
    "\n",
    "\n",
    "    closest_detection_label = f'index:{i} ,true length: {best_true_length:.2f}mm, MPError_hull: {error_percentage_hull_fov:.2f}%, pred length: {hull_length_fov:.2f}mm ,error percentage MEC{error_percentage_MEC_fov:.2f}% ,pred MEC {diameter_length_fov:.2f} ,error percentage skeleton: {error_percentage_skeleton_fov:.2f}%, , pred length: {skeleton_length_fov:.2f}cm, error percentage box: {error_percentage_box_fov:.2f}%, pred length: {box_length_fov:.2f}mm, '\n",
    "    # Update the filtered dataframe with the real-world size of the prawn\n",
    "\n",
    "\n",
    "\n",
    "    if error_percentage_hull_fov > 25 and f'>25% error' not in sample.tags:\n",
    "\n",
    "        sample.tags.append(f'>25% error')\n",
    "\n",
    "    elif error_percentage_hull_fov > 15 and f'15-25% error' not in sample.tags:\n",
    "\n",
    "        sample.tags.append(f'15-25% error')\n",
    "\n",
    "    elif error_percentage_hull_fov > 10  and f'10-15% error' not in sample.tags:\n",
    "\n",
    "        sample.tags.append(f'10-15% error')\n",
    "\n",
    "    elif error_percentage_hull_fov < 10 and f'5-10% error' not in sample.tags:\n",
    "\n",
    "        sample.tags.append(f'5-10% error')\n",
    "    \n",
    "    elif error_percentage_hull_fov < 5 and f'<5% error' not in sample.tags:\n",
    "\n",
    "        sample.tags.append(f'<5% error')\n",
    "\n",
    "\n",
    "    if error_percentage_MEC_fov<5 and hull_length_fov > best_true_length and f'very good' not in sample.tags:\n",
    "        sample.tags.append('very good')\n",
    "\n",
    "\n",
    "\n",
    "\n",
    "\n",
    "    poly.label = closest_detection_label \n",
    "    return poly\n",
    "  "
   ]
  },
  {
   "cell_type": "code",
   "execution_count": 42,
   "metadata": {},
   "outputs": [
    {
     "name": "stdout",
     "output_type": "stream",
     "text": [
      "Processing images...\n"
     ]
    },
    {
     "name": "stderr",
     "output_type": "stream",
     "text": [
      "  0%|          | 0/66 [00:00<?, ?it/s]C:\\Users\\gbo10\\AppData\\Local\\Temp\\ipykernel_34524\\3297858279.py:94: DeprecationWarning:\n",
      "\n",
      "`np.int0` is a deprecated alias for `np.intp`.  (Deprecated NumPy 1.24)\n",
      "\n",
      "100%|██████████| 66/66 [00:06<00:00, 10.31it/s]\n"
     ]
    },
    {
     "name": "stdout",
     "output_type": "stream",
     "text": [
      "Processing images...\n"
     ]
    },
    {
     "name": "stderr",
     "output_type": "stream",
     "text": [
      "100%|██████████| 56/56 [00:06<00:00,  8.36it/s]\n"
     ]
    },
    {
     "data": {
      "text/html": [
       "\n",
       "        <iframe\n",
       "            width=\"100%\"\n",
       "            height=\"800\"\n",
       "            src=\"http://localhost:5152/?notebook=True&subscription=d029b661-011b-4d11-a6a8-4893525cd4fb\"\n",
       "            frameborder=\"0\"\n",
       "            allowfullscreen\n",
       "            \n",
       "        ></iframe>\n",
       "        "
      ],
      "text/plain": [
       "<IPython.lib.display.IFrame at 0x279f12dac70>"
      ]
     },
     "metadata": {},
     "output_type": "display_data"
    }
   ],
   "source": [
    "molt_right_image_path = r\"C:\\Users\\gbo10\\OneDrive\\measurement_paper_images\\molt\\image processed\\good\\640360\\right\\color_images\"\n",
    "\n",
    "molt_square_image_path=r\"c:\\Users\\gbo10\\OneDrive\\measurement_paper_images\\molt\\image processed\\good\\640360\\square\\color_images\"\n",
    "\n",
    "molt_prediction_right=r'C:\\Users\\gbo10\\OneDrive\\measurement_paper_images\\molt\\image processed\\good\\640360\\right\\segmentations'\n",
    "\n",
    "molt_prediction_sqaure=r'c:\\Users\\gbo10\\OneDrive\\measurement_paper_images\\molt\\image processed\\good\\640360\\square\\segmentations'\n",
    "\n",
    "\n",
    "import pandas as pd\n",
    "\n",
    "\n",
    "import fiftyone as fo\n",
    "dataset = fo.Dataset(\"molt\", overwrite=True)\n",
    "\n",
    "# Load the dataset\n",
    "right_image_paths = [os.path.join(molt_right_image_path, image) for image in os.listdir(molt_right_image_path) if image.endswith(('.jpg', '.jpeg', '.png', '.bmp', '.tiff'))]\n",
    "\n",
    "square_image_paths = [os.path.join(molt_square_image_path, image) for image in os.listdir(molt_square_image_path) if image.endswith(('.jpg', '.jpeg', '.png', '.bmp', '.tiff'))]\n",
    "\n",
    "for molt_prediction in [molt_prediction_right,molt_prediction_sqaure]:\n",
    "    prediction_paths_text = [os.path.join(molt_prediction, txt) for txt in os.listdir(molt_prediction) if txt.endswith('.txt')]\n",
    "\n",
    "\n",
    "\n",
    "\n",
    "    tag = molt_prediction.split('\\\\')[-2]\n",
    "\n",
    "    if 'right' in molt_prediction:\n",
    "        image_paths = right_image_paths\n",
    "        process_images(image_paths, molt_prediction, dataset, tag)\n",
    "    else:\n",
    "        image_paths = square_image_paths\n",
    "        process_images(image_paths, molt_prediction, dataset, tag)\n",
    "\n",
    "# Process segmentations\n",
    "dataframe = pd.DataFrame(columns=['image_path', 'index', 'pond'])\n",
    "\n",
    "df_clean=pd.read_csv(r'C:\\Users\\gbo10\\Videos\\research\\counting_research_algorithms\\fifty_one\\measurements\\samples_index.csv')\n",
    "\n",
    "\n",
    "\n",
    "for sample in dataset:\n",
    "\n",
    "    tag = sample.tags[0]    \n",
    "    # Access the polylines for each sample\n",
    "    for i, segmentation in enumerate(sample[\"segmentations\"].polylines):\n",
    "\n",
    "\n",
    "        if sample.filepath.split('\\\\')[-1] in df_clean['sample'].values and i in df_clean.loc[df_clean['sample'] == sample.filepath.split('\\\\')[-1], 'index'].values:\n",
    "            print(f\"Skipping {sample.filepath} index {i}\")\n",
    "            continue\n",
    "\n",
    "        image_path = sample.filepath.split('\\\\')[-1]\n",
    "\n",
    "        dataframe = dataframe._append({'image_path': image_path, 'index': i, 'pond': tag}, ignore_index=True)\n",
    "        # Process and modify the segmentation\n",
    "        updated_segmentation = process_detection_by_circle(segmentation, sample, i, dataframe)\n",
    "\n",
    "        # Save the updated segmentation back into the sample\n",
    "        sample[\"segmentations\"].polylines[i] = updated_segmentation\n",
    "\n",
    "        sample.save()\n",
    "\n",
    "dataframe.to_csv('molt.csv')\n",
    "session = fo.launch_app(dataset, port=5152)"
   ]
  },
  {
   "cell_type": "code",
   "execution_count": 72,
   "metadata": {},
   "outputs": [
    {
     "data": {
      "text/plain": [
       "image_path         33\n",
       "index              33\n",
       "true_length        33\n",
       "Hull_Length_fov    33\n",
       "dtype: int64"
      ]
     },
     "execution_count": 72,
     "metadata": {},
     "output_type": "execute_result"
    }
   ],
   "source": [
    "df=pd.read_csv('molt.csv')\n",
    "\n",
    "df[(df['Error_percentage_Hull_fov']<5) & (df['Hull_Length_fov']>df['true_length'])][['image_path','index','true_length','Hull_Length_fov']]"
   ]
  },
  {
   "cell_type": "code",
   "execution_count": 74,
   "metadata": {},
   "outputs": [
    {
     "data": {
      "text/plain": [
       "213"
      ]
     },
     "execution_count": 74,
     "metadata": {},
     "output_type": "execute_result"
    }
   ],
   "source": [
    "df=df.dropna()\n",
    "len(df)"
   ]
  },
  {
   "cell_type": "code",
   "execution_count": 35,
   "metadata": {},
   "outputs": [
    {
     "name": "stderr",
     "output_type": "stream",
     "text": [
      "C:\\Users\\gbo10\\AppData\\Local\\Temp\\ipykernel_34524\\3773236827.py:31: SettingWithCopyWarning:\n",
      "\n",
      "\n",
      "A value is trying to be set on a copy of a slice from a DataFrame.\n",
      "Try using .loc[row_indexer,col_indexer] = value instead\n",
      "\n",
      "See the caveats in the documentation: https://pandas.pydata.org/pandas-docs/stable/user_guide/indexing.html#returning-a-view-versus-a-copy\n",
      "\n",
      "C:\\Users\\gbo10\\AppData\\Local\\Temp\\ipykernel_34524\\3773236827.py:34: SettingWithCopyWarning:\n",
      "\n",
      "\n",
      "A value is trying to be set on a copy of a slice from a DataFrame.\n",
      "Try using .loc[row_indexer,col_indexer] = value instead\n",
      "\n",
      "See the caveats in the documentation: https://pandas.pydata.org/pandas-docs/stable/user_guide/indexing.html#returning-a-view-versus-a-copy\n",
      "\n"
     ]
    },
    {
     "data": {
      "application/vnd.plotly.v1+json": {
       "config": {
        "plotlyServerURL": "https://plot.ly"
       },
       "data": [
        {
         "customdata": [
          [
           "undistorted_GX010191_101_1265.jpg",
           0
          ],
          [
           "undistorted_GX010191_103_1289.jpg",
           0
          ],
          [
           "undistorted_GX010191_105_1312.jpg",
           0
          ],
          [
           "undistorted_GX010191_107_1330.jpg",
           0
          ],
          [
           "undistorted_GX010191_108_1337.jpg",
           2
          ],
          [
           "undistorted_GX010191_10_370.jpg",
           0
          ],
          [
           "undistorted_GX010191_110_1355.jpg",
           0
          ],
          [
           "undistorted_GX010191_110_1355.jpg",
           1
          ],
          [
           "undistorted_GX010191_110_1355.jpg",
           3
          ],
          [
           "undistorted_GX010191_116_1399.jpg",
           0
          ],
          [
           "undistorted_GX010191_118_1415.jpg",
           0
          ],
          [
           "undistorted_GX010191_11_391.jpg",
           0
          ],
          [
           "undistorted_GX010191_12_410.jpg",
           3
          ],
          [
           "undistorted_GX010191_13_439.jpg",
           0
          ],
          [
           "undistorted_GX010191_14_460.jpg",
           0
          ],
          [
           "undistorted_GX010191_16_495.jpg",
           0
          ],
          [
           "undistorted_GX010191_26_199.jpg",
           0
          ],
          [
           "undistorted_GX010191_27_215.jpg",
           1
          ],
          [
           "undistorted_GX010191_28_230.jpg",
           0
          ],
          [
           "undistorted_GX010191_28_230.jpg",
           1
          ],
          [
           "undistorted_GX010191_28_230.jpg",
           4
          ],
          [
           "undistorted_GX010191_28_230.jpg",
           5
          ],
          [
           "undistorted_GX010191_29_257.jpg",
           1
          ],
          [
           "undistorted_GX010191_31_283.jpg",
           1
          ],
          [
           "undistorted_GX010191_32_1049.jpg",
           0
          ],
          [
           "undistorted_GX010191_32_305.jpg",
           0
          ],
          [
           "undistorted_GX010191_32_305.jpg",
           2
          ],
          [
           "undistorted_GX010191_33_1087.jpg",
           1
          ],
          [
           "undistorted_GX010191_33_331.jpg",
           0
          ],
          [
           "undistorted_GX010191_33_331.jpg",
           2
          ],
          [
           "undistorted_GX010191_34_1128.jpg",
           0
          ],
          [
           "undistorted_GX010191_34_1128.jpg",
           1
          ],
          [
           "undistorted_GX010191_35_1167.jpg",
           0
          ],
          [
           "undistorted_GX010191_35_1167.jpg",
           1
          ],
          [
           "undistorted_GX010191_35_1167.jpg",
           4
          ],
          [
           "undistorted_GX010191_35_367.jpg",
           0
          ],
          [
           "undistorted_GX010191_36_1195.jpg",
           0
          ],
          [
           "undistorted_GX010191_36_1195.jpg",
           1
          ],
          [
           "undistorted_GX010191_36_1195.jpg",
           2
          ],
          [
           "undistorted_GX010191_36_381.jpg",
           0
          ],
          [
           "undistorted_GX010191_37_1242.jpg",
           0
          ],
          [
           "undistorted_GX010191_37_392.jpg",
           0
          ],
          [
           "undistorted_GX010191_38_1266.jpg",
           0
          ],
          [
           "undistorted_GX010191_38_404.jpg",
           0
          ],
          [
           "undistorted_GX010191_39_1284.jpg",
           0
          ],
          [
           "undistorted_GX010191_41_445.jpg",
           0
          ],
          [
           "undistorted_GX010191_42_1339.jpg",
           0
          ],
          [
           "undistorted_GX010191_42_1339.jpg",
           1
          ],
          [
           "undistorted_GX010191_42_457.jpg",
           0
          ],
          [
           "undistorted_GX010191_43_1353.jpg",
           0
          ],
          [
           "undistorted_GX010191_43_1353.jpg",
           3
          ],
          [
           "undistorted_GX010191_43_468.jpg",
           0
          ],
          [
           "undistorted_GX010191_43_468.jpg",
           2
          ],
          [
           "undistorted_GX010191_43_468.jpg",
           4
          ],
          [
           "undistorted_GX010191_44_478.jpg",
           0
          ],
          [
           "undistorted_GX010191_44_478.jpg",
           1
          ],
          [
           "undistorted_GX010191_45_489.jpg",
           0
          ],
          [
           "undistorted_GX010191_46_497.jpg",
           0
          ],
          [
           "undistorted_GX010191_46_497.jpg",
           1
          ],
          [
           "undistorted_GX010191_47_507.jpg",
           0
          ],
          [
           "undistorted_GX010191_5_190.jpg",
           0
          ],
          [
           "undistorted_GX010191_5_190.jpg",
           2
          ],
          [
           "undistorted_GX010191_6_219.jpg",
           0
          ],
          [
           "undistorted_GX010191_88_1016.jpg",
           0
          ],
          [
           "undistorted_GX010191_8_309.jpg",
           1
          ],
          [
           "undistorted_GX010191_8_309.jpg",
           2
          ],
          [
           "undistorted_GX010191_91_1066.jpg",
           2
          ],
          [
           "undistorted_GX010191_92_1087.jpg",
           1
          ],
          [
           "undistorted_GX010191_94_1132.jpg",
           0
          ],
          [
           "undistorted_GX010191_95_1157.jpg",
           0
          ],
          [
           "undistorted_GX010191_95_1157.jpg",
           1
          ],
          [
           "undistorted_GX010191_96_1175.jpg",
           0
          ],
          [
           "undistorted_GX010191_97_1190.jpg",
           0
          ],
          [
           "undistorted_GX010191_97_1190.jpg",
           1
          ],
          [
           "undistorted_GX010191_98_1211.jpg",
           0
          ],
          [
           "undistorted_GX010191_98_1211.jpg",
           1
          ],
          [
           "undistorted_GX010191_99_1233.jpg",
           1
          ],
          [
           "undistorted_GX010191_9_346.jpg",
           2
          ]
         ],
         "hovertemplate": "center_x=%{x}<br>center_y=%{y}<br>image_path=%{customdata[0]}<br>index=%{customdata[1]}<br>Error_percentage_Hull_fov=%{marker.color}<extra></extra>",
         "legendgroup": "",
         "marker": {
          "color": [
           2.4842346434788447,
           5.733508552970277,
           3.275578001253561,
           8.287221373202765,
           17.171978811340942,
           1.1016452499603502,
           3.162501760179942,
           13.605927626997508,
           1.394599301558061,
           7.013275544567724,
           10.099267767086891,
           12.494981369970636,
           14.043030846322182,
           3.617197047420832,
           13.29279536845598,
           7.032674790056028,
           15.63090648611292,
           16.2635824965225,
           14.042999769570232,
           21.092228543735853,
           18.308366327862476,
           19.666213775516635,
           11.773876110786668,
           4.015091888782743,
           7.151919747335916,
           7.301023761326965,
           14.049468484515677,
           5.724861516687664,
           4.333016915254291,
           5.205069970599728,
           3.3394602921656733,
           10.193701153023987,
           9.074479199800924,
           10.907285697744868,
           9.084948686963909,
           0.6198222302085729,
           13.969557574316063,
           8.333805621882385,
           13.494754317503563,
           1.3385607504801555,
           17.241992439853593,
           14.557440937126136,
           2.7364107557984627,
           14.143491613423931,
           4.4934320398002585,
           16.366693244691156,
           2.853057737898077,
           5.649214687839961,
           9.348564873267112,
           4.605327099084727,
           2.030795989449356,
           12.66943873037598,
           4.218474960056033,
           15.899319604258563,
           6.02557383526258,
           1.671963865398109,
           19.37579704343185,
           15.975524664709727,
           9.550356133023216,
           16.37752966251501,
           9.888159778257991,
           10.043944454104658,
           8.170282243230373,
           13.959517579007958,
           16.63752479870418,
           16.22199701905948,
           7.141264506611754,
           5.724861516687664,
           14.997317628353397,
           9.029110486213089,
           8.438598198682255,
           5.811244519437556,
           12.137707995853331,
           2.736395125683943,
           7.5092563141051105,
           12.42590978283848,
           9.325466296817927,
           8.843883870430682
          ],
          "coloraxis": "coloraxis",
          "symbol": "circle"
         },
         "mode": "markers",
         "name": "",
         "orientation": "v",
         "showlegend": false,
         "type": "scatter",
         "x": [
          339.99999999999994,
          342.4698795180723,
          390.4216867469879,
          432.4698795180723,
          467.95180722891564,
          389.4578313253012,
          370.48192771084337,
          523.9759036144578,
          530.4819277108434,
          489.99999999999994,
          490.96385542168673,
          420.96385542168673,
          483.433734939759,
          472.4698795180723,
          384.4578313253012,
          518.9156626506024,
          450.96385542168673,
          453.91566265060237,
          471.2517060429216,
          331.9879518072289,
          466.92771084337346,
          331.4457831325301,
          472.6840467338102,
          465.4216867469879,
          388.91566265060237,
          477.4096385542168,
          350.9036144578313,
          404.57916627447287,
          500.4819277108433,
          500.4819277108433,
          444.4578313253012,
          408.91566265060237,
          496.27894390060237,
          389.93975903614455,
          496.1544615963855,
          386.075336502259,
          547.888860128012,
          386.4457831325301,
          539.4578313253012,
          408.91566265060237,
          353.49397590361446,
          423.91566265060237,
          341.4457831325301,
          429.4578313253012,
          323.91566265060237,
          457.95180722891564,
          482.95180722891564,
          330.96385542168673,
          478.4939759036144,
          528.9759036144578,
          366.92771084337346,
          367.4096385542168,
          469.4578313253012,
          370.48192771084337,
          481.4457831325301,
          367.95183664344876,
          498.4939759036144,
          520.9036144578313,
          88.97590361445782,
          554.4578313253012,
          440.8518742940512,
          441.1177522590361,
          462.04292756965356,
          393.433734939759,
          467.4698795180723,
          474.4578313253012,
          394.4578313253012,
          404.57916627447287,
          410.48192771084337,
          481.92771084337346,
          394.93975903614455,
          518.9156626506024,
          537.9518072289156,
          526.0952795557229,
          378.91566265060237,
          550.5027532003012,
          357.4096385542168,
          521.9277108433735
         ],
         "xaxis": "x",
         "y": [
          163.5542168674699,
          127.04819277108436,
          97.59036144578317,
          98.5542168674699,
          103.5542168674699,
          116.50602409638557,
          135.54216867469881,
          156.0843373493976,
          159.0963855421687,
          212.59036144578315,
          284.51807228915663,
          137.3613251835467,
          316.566265060241,
          148.5542168674699,
          228.5542168674699,
          31.08433734939763,
          279.5783132530121,
          262.5903614457832,
          220.18557628953315,
          307.5301204819277,
          232.53012048192772,
          310.06024096385545,
          174.74722620952562,
          127.59036144578315,
          246.0843373493976,
          96.566265060241,
          177.59036144578315,
          189.05798486916416,
          96.08433734939763,
          96.08433734939763,
          144.57831325301206,
          304.03614457831327,
          154.5642678134413,
          270.5421686746988,
          154.57832796027864,
          116.57633953783886,
          219.59215279085092,
          260.5421686746988,
          232.04819277108436,
          124.03614457831327,
          209.51807228915663,
          139.24288462443525,
          163.5542168674699,
          154.51807228915663,
          139.51807228915663,
          141.02409638554218,
          108.5542168674699,
          162.04819277108436,
          103.07228915662654,
          150.54216867469881,
          136.566265060241,
          207.04819277108436,
          84.03614457831327,
          193.5542168674699,
          54.578313253012084,
          156.99698206890062,
          24.431887707078317,
          31.08433734939763,
          45.06024096385545,
          40.542168674698814,
          295.89404738093,
          296.02376547204443,
          236.70989622552713,
          298.0120481927711,
          113.5542168674699,
          100.06024096385545,
          226.02409638554218,
          189.05798486916416,
          294.09638554216866,
          141.50602409638557,
          277.04819277108436,
          175.54216867469881,
          206.02409638554218,
          221.72510353915663,
          246.566265060241,
          241.66375953030874,
          215,
          109.03614457831327
         ],
         "yaxis": "y"
        }
       ],
       "layout": {
        "coloraxis": {
         "colorbar": {
          "title": {
           "text": "Error_percentage_Hull_fov"
          }
         },
         "colorscale": [
          [
           0,
           "rgb(0,104,55)"
          ],
          [
           0.1,
           "rgb(26,152,80)"
          ],
          [
           0.2,
           "rgb(102,189,99)"
          ],
          [
           0.3,
           "rgb(166,217,106)"
          ],
          [
           0.4,
           "rgb(217,239,139)"
          ],
          [
           0.5,
           "rgb(255,255,191)"
          ],
          [
           0.6,
           "rgb(254,224,139)"
          ],
          [
           0.7,
           "rgb(253,174,97)"
          ],
          [
           0.8,
           "rgb(244,109,67)"
          ],
          [
           0.9,
           "rgb(215,48,39)"
          ],
          [
           1,
           "rgb(165,0,38)"
          ]
         ]
        },
        "legend": {
         "tracegroupgap": 0
        },
        "template": {
         "data": {
          "bar": [
           {
            "error_x": {
             "color": "#2a3f5f"
            },
            "error_y": {
             "color": "#2a3f5f"
            },
            "marker": {
             "line": {
              "color": "#E5ECF6",
              "width": 0.5
             },
             "pattern": {
              "fillmode": "overlay",
              "size": 10,
              "solidity": 0.2
             }
            },
            "type": "bar"
           }
          ],
          "barpolar": [
           {
            "marker": {
             "line": {
              "color": "#E5ECF6",
              "width": 0.5
             },
             "pattern": {
              "fillmode": "overlay",
              "size": 10,
              "solidity": 0.2
             }
            },
            "type": "barpolar"
           }
          ],
          "carpet": [
           {
            "aaxis": {
             "endlinecolor": "#2a3f5f",
             "gridcolor": "white",
             "linecolor": "white",
             "minorgridcolor": "white",
             "startlinecolor": "#2a3f5f"
            },
            "baxis": {
             "endlinecolor": "#2a3f5f",
             "gridcolor": "white",
             "linecolor": "white",
             "minorgridcolor": "white",
             "startlinecolor": "#2a3f5f"
            },
            "type": "carpet"
           }
          ],
          "choropleth": [
           {
            "colorbar": {
             "outlinewidth": 0,
             "ticks": ""
            },
            "type": "choropleth"
           }
          ],
          "contour": [
           {
            "colorbar": {
             "outlinewidth": 0,
             "ticks": ""
            },
            "colorscale": [
             [
              0,
              "#0d0887"
             ],
             [
              0.1111111111111111,
              "#46039f"
             ],
             [
              0.2222222222222222,
              "#7201a8"
             ],
             [
              0.3333333333333333,
              "#9c179e"
             ],
             [
              0.4444444444444444,
              "#bd3786"
             ],
             [
              0.5555555555555556,
              "#d8576b"
             ],
             [
              0.6666666666666666,
              "#ed7953"
             ],
             [
              0.7777777777777778,
              "#fb9f3a"
             ],
             [
              0.8888888888888888,
              "#fdca26"
             ],
             [
              1,
              "#f0f921"
             ]
            ],
            "type": "contour"
           }
          ],
          "contourcarpet": [
           {
            "colorbar": {
             "outlinewidth": 0,
             "ticks": ""
            },
            "type": "contourcarpet"
           }
          ],
          "heatmap": [
           {
            "colorbar": {
             "outlinewidth": 0,
             "ticks": ""
            },
            "colorscale": [
             [
              0,
              "#0d0887"
             ],
             [
              0.1111111111111111,
              "#46039f"
             ],
             [
              0.2222222222222222,
              "#7201a8"
             ],
             [
              0.3333333333333333,
              "#9c179e"
             ],
             [
              0.4444444444444444,
              "#bd3786"
             ],
             [
              0.5555555555555556,
              "#d8576b"
             ],
             [
              0.6666666666666666,
              "#ed7953"
             ],
             [
              0.7777777777777778,
              "#fb9f3a"
             ],
             [
              0.8888888888888888,
              "#fdca26"
             ],
             [
              1,
              "#f0f921"
             ]
            ],
            "type": "heatmap"
           }
          ],
          "heatmapgl": [
           {
            "colorbar": {
             "outlinewidth": 0,
             "ticks": ""
            },
            "colorscale": [
             [
              0,
              "#0d0887"
             ],
             [
              0.1111111111111111,
              "#46039f"
             ],
             [
              0.2222222222222222,
              "#7201a8"
             ],
             [
              0.3333333333333333,
              "#9c179e"
             ],
             [
              0.4444444444444444,
              "#bd3786"
             ],
             [
              0.5555555555555556,
              "#d8576b"
             ],
             [
              0.6666666666666666,
              "#ed7953"
             ],
             [
              0.7777777777777778,
              "#fb9f3a"
             ],
             [
              0.8888888888888888,
              "#fdca26"
             ],
             [
              1,
              "#f0f921"
             ]
            ],
            "type": "heatmapgl"
           }
          ],
          "histogram": [
           {
            "marker": {
             "pattern": {
              "fillmode": "overlay",
              "size": 10,
              "solidity": 0.2
             }
            },
            "type": "histogram"
           }
          ],
          "histogram2d": [
           {
            "colorbar": {
             "outlinewidth": 0,
             "ticks": ""
            },
            "colorscale": [
             [
              0,
              "#0d0887"
             ],
             [
              0.1111111111111111,
              "#46039f"
             ],
             [
              0.2222222222222222,
              "#7201a8"
             ],
             [
              0.3333333333333333,
              "#9c179e"
             ],
             [
              0.4444444444444444,
              "#bd3786"
             ],
             [
              0.5555555555555556,
              "#d8576b"
             ],
             [
              0.6666666666666666,
              "#ed7953"
             ],
             [
              0.7777777777777778,
              "#fb9f3a"
             ],
             [
              0.8888888888888888,
              "#fdca26"
             ],
             [
              1,
              "#f0f921"
             ]
            ],
            "type": "histogram2d"
           }
          ],
          "histogram2dcontour": [
           {
            "colorbar": {
             "outlinewidth": 0,
             "ticks": ""
            },
            "colorscale": [
             [
              0,
              "#0d0887"
             ],
             [
              0.1111111111111111,
              "#46039f"
             ],
             [
              0.2222222222222222,
              "#7201a8"
             ],
             [
              0.3333333333333333,
              "#9c179e"
             ],
             [
              0.4444444444444444,
              "#bd3786"
             ],
             [
              0.5555555555555556,
              "#d8576b"
             ],
             [
              0.6666666666666666,
              "#ed7953"
             ],
             [
              0.7777777777777778,
              "#fb9f3a"
             ],
             [
              0.8888888888888888,
              "#fdca26"
             ],
             [
              1,
              "#f0f921"
             ]
            ],
            "type": "histogram2dcontour"
           }
          ],
          "mesh3d": [
           {
            "colorbar": {
             "outlinewidth": 0,
             "ticks": ""
            },
            "type": "mesh3d"
           }
          ],
          "parcoords": [
           {
            "line": {
             "colorbar": {
              "outlinewidth": 0,
              "ticks": ""
             }
            },
            "type": "parcoords"
           }
          ],
          "pie": [
           {
            "automargin": true,
            "type": "pie"
           }
          ],
          "scatter": [
           {
            "fillpattern": {
             "fillmode": "overlay",
             "size": 10,
             "solidity": 0.2
            },
            "type": "scatter"
           }
          ],
          "scatter3d": [
           {
            "line": {
             "colorbar": {
              "outlinewidth": 0,
              "ticks": ""
             }
            },
            "marker": {
             "colorbar": {
              "outlinewidth": 0,
              "ticks": ""
             }
            },
            "type": "scatter3d"
           }
          ],
          "scattercarpet": [
           {
            "marker": {
             "colorbar": {
              "outlinewidth": 0,
              "ticks": ""
             }
            },
            "type": "scattercarpet"
           }
          ],
          "scattergeo": [
           {
            "marker": {
             "colorbar": {
              "outlinewidth": 0,
              "ticks": ""
             }
            },
            "type": "scattergeo"
           }
          ],
          "scattergl": [
           {
            "marker": {
             "colorbar": {
              "outlinewidth": 0,
              "ticks": ""
             }
            },
            "type": "scattergl"
           }
          ],
          "scattermapbox": [
           {
            "marker": {
             "colorbar": {
              "outlinewidth": 0,
              "ticks": ""
             }
            },
            "type": "scattermapbox"
           }
          ],
          "scatterpolar": [
           {
            "marker": {
             "colorbar": {
              "outlinewidth": 0,
              "ticks": ""
             }
            },
            "type": "scatterpolar"
           }
          ],
          "scatterpolargl": [
           {
            "marker": {
             "colorbar": {
              "outlinewidth": 0,
              "ticks": ""
             }
            },
            "type": "scatterpolargl"
           }
          ],
          "scatterternary": [
           {
            "marker": {
             "colorbar": {
              "outlinewidth": 0,
              "ticks": ""
             }
            },
            "type": "scatterternary"
           }
          ],
          "surface": [
           {
            "colorbar": {
             "outlinewidth": 0,
             "ticks": ""
            },
            "colorscale": [
             [
              0,
              "#0d0887"
             ],
             [
              0.1111111111111111,
              "#46039f"
             ],
             [
              0.2222222222222222,
              "#7201a8"
             ],
             [
              0.3333333333333333,
              "#9c179e"
             ],
             [
              0.4444444444444444,
              "#bd3786"
             ],
             [
              0.5555555555555556,
              "#d8576b"
             ],
             [
              0.6666666666666666,
              "#ed7953"
             ],
             [
              0.7777777777777778,
              "#fb9f3a"
             ],
             [
              0.8888888888888888,
              "#fdca26"
             ],
             [
              1,
              "#f0f921"
             ]
            ],
            "type": "surface"
           }
          ],
          "table": [
           {
            "cells": {
             "fill": {
              "color": "#EBF0F8"
             },
             "line": {
              "color": "white"
             }
            },
            "header": {
             "fill": {
              "color": "#C8D4E3"
             },
             "line": {
              "color": "white"
             }
            },
            "type": "table"
           }
          ]
         },
         "layout": {
          "annotationdefaults": {
           "arrowcolor": "#2a3f5f",
           "arrowhead": 0,
           "arrowwidth": 1
          },
          "autotypenumbers": "strict",
          "coloraxis": {
           "colorbar": {
            "outlinewidth": 0,
            "ticks": ""
           }
          },
          "colorscale": {
           "diverging": [
            [
             0,
             "#8e0152"
            ],
            [
             0.1,
             "#c51b7d"
            ],
            [
             0.2,
             "#de77ae"
            ],
            [
             0.3,
             "#f1b6da"
            ],
            [
             0.4,
             "#fde0ef"
            ],
            [
             0.5,
             "#f7f7f7"
            ],
            [
             0.6,
             "#e6f5d0"
            ],
            [
             0.7,
             "#b8e186"
            ],
            [
             0.8,
             "#7fbc41"
            ],
            [
             0.9,
             "#4d9221"
            ],
            [
             1,
             "#276419"
            ]
           ],
           "sequential": [
            [
             0,
             "#0d0887"
            ],
            [
             0.1111111111111111,
             "#46039f"
            ],
            [
             0.2222222222222222,
             "#7201a8"
            ],
            [
             0.3333333333333333,
             "#9c179e"
            ],
            [
             0.4444444444444444,
             "#bd3786"
            ],
            [
             0.5555555555555556,
             "#d8576b"
            ],
            [
             0.6666666666666666,
             "#ed7953"
            ],
            [
             0.7777777777777778,
             "#fb9f3a"
            ],
            [
             0.8888888888888888,
             "#fdca26"
            ],
            [
             1,
             "#f0f921"
            ]
           ],
           "sequentialminus": [
            [
             0,
             "#0d0887"
            ],
            [
             0.1111111111111111,
             "#46039f"
            ],
            [
             0.2222222222222222,
             "#7201a8"
            ],
            [
             0.3333333333333333,
             "#9c179e"
            ],
            [
             0.4444444444444444,
             "#bd3786"
            ],
            [
             0.5555555555555556,
             "#d8576b"
            ],
            [
             0.6666666666666666,
             "#ed7953"
            ],
            [
             0.7777777777777778,
             "#fb9f3a"
            ],
            [
             0.8888888888888888,
             "#fdca26"
            ],
            [
             1,
             "#f0f921"
            ]
           ]
          },
          "colorway": [
           "#636efa",
           "#EF553B",
           "#00cc96",
           "#ab63fa",
           "#FFA15A",
           "#19d3f3",
           "#FF6692",
           "#B6E880",
           "#FF97FF",
           "#FECB52"
          ],
          "font": {
           "color": "#2a3f5f"
          },
          "geo": {
           "bgcolor": "white",
           "lakecolor": "white",
           "landcolor": "#E5ECF6",
           "showlakes": true,
           "showland": true,
           "subunitcolor": "white"
          },
          "hoverlabel": {
           "align": "left"
          },
          "hovermode": "closest",
          "mapbox": {
           "style": "light"
          },
          "paper_bgcolor": "white",
          "plot_bgcolor": "#E5ECF6",
          "polar": {
           "angularaxis": {
            "gridcolor": "white",
            "linecolor": "white",
            "ticks": ""
           },
           "bgcolor": "#E5ECF6",
           "radialaxis": {
            "gridcolor": "white",
            "linecolor": "white",
            "ticks": ""
           }
          },
          "scene": {
           "xaxis": {
            "backgroundcolor": "#E5ECF6",
            "gridcolor": "white",
            "gridwidth": 2,
            "linecolor": "white",
            "showbackground": true,
            "ticks": "",
            "zerolinecolor": "white"
           },
           "yaxis": {
            "backgroundcolor": "#E5ECF6",
            "gridcolor": "white",
            "gridwidth": 2,
            "linecolor": "white",
            "showbackground": true,
            "ticks": "",
            "zerolinecolor": "white"
           },
           "zaxis": {
            "backgroundcolor": "#E5ECF6",
            "gridcolor": "white",
            "gridwidth": 2,
            "linecolor": "white",
            "showbackground": true,
            "ticks": "",
            "zerolinecolor": "white"
           }
          },
          "shapedefaults": {
           "line": {
            "color": "#2a3f5f"
           }
          },
          "ternary": {
           "aaxis": {
            "gridcolor": "white",
            "linecolor": "white",
            "ticks": ""
           },
           "baxis": {
            "gridcolor": "white",
            "linecolor": "white",
            "ticks": ""
           },
           "bgcolor": "#E5ECF6",
           "caxis": {
            "gridcolor": "white",
            "linecolor": "white",
            "ticks": ""
           }
          },
          "title": {
           "x": 0.05
          },
          "xaxis": {
           "automargin": true,
           "gridcolor": "white",
           "linecolor": "white",
           "ticks": "",
           "title": {
            "standoff": 15
           },
           "zerolinecolor": "white",
           "zerolinewidth": 2
          },
          "yaxis": {
           "automargin": true,
           "gridcolor": "white",
           "linecolor": "white",
           "ticks": "",
           "title": {
            "standoff": 15
           },
           "zerolinecolor": "white",
           "zerolinewidth": 2
          }
         }
        },
        "title": {
         "text": "Interactive Error_percentage_Hull_fov for distance 700 mm"
        },
        "xaxis": {
         "anchor": "y",
         "domain": [
          0,
          1
         ],
         "title": {
          "text": "center_x"
         }
        },
        "yaxis": {
         "anchor": "x",
         "domain": [
          0,
          1
         ],
         "title": {
          "text": "center_y"
         }
        }
       }
      }
     },
     "metadata": {},
     "output_type": "display_data"
    },
    {
     "data": {
      "application/vnd.plotly.v1+json": {
       "config": {
        "plotlyServerURL": "https://plot.ly"
       },
       "data": [
        {
         "customdata": [
          [
           "undistorted_GX010192_10_696.jpg",
           1
          ],
          [
           "undistorted_GX010192_11_745.jpg",
           0
          ],
          [
           "undistorted_GX010192_17_1035.jpg",
           0
          ],
          [
           "undistorted_GX010192_25_1553.jpg",
           0
          ],
          [
           "undistorted_GX010192_26_1578.jpg",
           0
          ],
          [
           "undistorted_GX010192_8_593.jpg",
           0
          ],
          [
           "undistorted_GX010192_9_675.jpg",
           1
          ],
          [
           "undistorted_GX010193_10_1039.jpg",
           0
          ],
          [
           "undistorted_GX010193_11_1065.jpg",
           0
          ],
          [
           "undistorted_GX010193_16_1232.jpg",
           0
          ],
          [
           "undistorted_GX010193_17_1264.jpg",
           0
          ],
          [
           "undistorted_GX010193_18_1289.jpg",
           0
          ],
          [
           "undistorted_GX010193_19_1334.jpg",
           0
          ],
          [
           "undistorted_GX010193_20_1365.jpg",
           2
          ],
          [
           "undistorted_GX010193_26_1530.jpg",
           0
          ],
          [
           "undistorted_GX010193_26_1530.jpg",
           1
          ],
          [
           "undistorted_GX010193_27_1553.jpg",
           1
          ],
          [
           "undistorted_GX010193_28_1584.jpg",
           0
          ],
          [
           "undistorted_GX010193_28_1584.jpg",
           1
          ],
          [
           "undistorted_GX010193_3_251.jpg",
           0
          ],
          [
           "undistorted_GX010193_4_283.jpg",
           0
          ],
          [
           "undistorted_GX010193_4_283.jpg",
           1
          ],
          [
           "undistorted_GX010193_5_305.jpg",
           0
          ],
          [
           "undistorted_GX010193_6_330.jpg",
           0
          ],
          [
           "undistorted_GX010193_7_360.jpg",
           0
          ],
          [
           "undistorted_GX010193_7_360.jpg",
           2
          ],
          [
           "undistorted_GX010194_15_231.jpg",
           0
          ],
          [
           "undistorted_GX010194_16_240.jpg",
           0
          ],
          [
           "undistorted_GX010194_17_257.jpg",
           0
          ],
          [
           "undistorted_GX010194_17_257.jpg",
           1
          ],
          [
           "undistorted_GX010194_18_272.jpg",
           0
          ],
          [
           "undistorted_GX010194_18_272.jpg",
           3
          ],
          [
           "undistorted_GX010194_19_285.jpg",
           0
          ],
          [
           "undistorted_GX010194_19_285.jpg",
           1
          ],
          [
           "undistorted_GX010194_20_299.jpg",
           0
          ],
          [
           "undistorted_GX010194_21_312.jpg",
           0
          ],
          [
           "undistorted_GX010194_21_312.jpg",
           1
          ],
          [
           "undistorted_GX010194_22_323.jpg",
           0
          ],
          [
           "undistorted_GX010194_24_352.jpg",
           0
          ],
          [
           "undistorted_GX010194_2_285.jpg",
           0
          ],
          [
           "undistorted_GX010194_2_285.jpg",
           1
          ],
          [
           "undistorted_GX010194_30_407.jpg",
           1
          ],
          [
           "undistorted_GX010194_31_414.jpg",
           0
          ],
          [
           "undistorted_GX010194_36_485.jpg",
           1
          ],
          [
           "undistorted_GX010194_37_496.jpg",
           1
          ],
          [
           "undistorted_GX010194_38_504.jpg",
           1
          ],
          [
           "undistorted_GX010194_39_513.jpg",
           1
          ],
          [
           "undistorted_GX010194_43_570.jpg",
           3
          ],
          [
           "undistorted_GX010194_46_620.jpg",
           1
          ],
          [
           "undistorted_GX010194_47_640.jpg",
           0
          ],
          [
           "undistorted_GX010194_47_640.jpg",
           2
          ],
          [
           "undistorted_GX010194_55_768.jpg",
           0
          ],
          [
           "undistorted_GX010194_55_768.jpg",
           2
          ],
          [
           "undistorted_GX010194_56_784.jpg",
           0
          ],
          [
           "undistorted_GX010194_57_798.jpg",
           0
          ],
          [
           "undistorted_GX010194_58_810.jpg",
           2
          ],
          [
           "undistorted_GX010194_5_757.jpg",
           0
          ],
          [
           "undistorted_GX010194_60_836.jpg",
           0
          ],
          [
           "undistorted_GX010194_61_852.jpg",
           0
          ],
          [
           "undistorted_GX010194_62_878.jpg",
           0
          ],
          [
           "undistorted_GX010194_62_878.jpg",
           1
          ],
          [
           "undistorted_GX010194_63_894.jpg",
           3
          ],
          [
           "undistorted_GX010194_64_911.jpg",
           0
          ],
          [
           "undistorted_GX010194_6_101.jpg",
           1
          ],
          [
           "undistorted_GX010194_6_101.jpg",
           2
          ],
          [
           "undistorted_GX010194_6_845.jpg",
           0
          ],
          [
           "undistorted_GX010194_7_885.jpg",
           0
          ]
         ],
         "hovertemplate": "center_x=%{x}<br>center_y=%{y}<br>image_path=%{customdata[0]}<br>index=%{customdata[1]}<br>Error_percentage_Hull_fov=%{marker.color}<extra></extra>",
         "legendgroup": "",
         "marker": {
          "color": [
           21.21107807285579,
           17.69648430680886,
           9.600836967728153,
           5.787273944775325,
           8.324563582661943,
           18.022039007661306,
           8.3639163342282,
           2.422551619886788,
           5.9111009636571685,
           13.466933633365432,
           4.353598755137817,
           7.3304675603249825,
           8.521170935089279,
           0.205164545120787,
           7.83794311601497,
           10.596538802018998,
           6.999362569893258,
           22.012380509303554,
           7.389759210687571,
           11.785546814352363,
           18.713236136525143,
           11.183260692081392,
           17.882614822537178,
           18.3981481018408,
           15.15059323910072,
           15.29331451950895,
           9.01000573182303,
           5.030129561381658,
           18.877278635773845,
           6.810271822216013,
           11.021527837053798,
           14.756770101834068,
           4.1836944160694935,
           10.493706681756915,
           10.37422578498702,
           20.26780357740084,
           13.685617510373888,
           12.381065821804604,
           12.29613644485018,
           4.1836944160694935,
           10.493706681756915,
           11.218917120549436,
           15.04477092589324,
           4.501351108811034,
           4.303009223540961,
           6.338530337688134,
           4.427495173520363,
           11.3405061013259,
           13.309616079933608,
           15.480764064627076,
           15.972759555180224,
           7.984738962871095,
           6.708396352503078,
           14.526855013671865,
           11.638466282493786,
           12.980501285979344,
           10.341165103080227,
           12.020998914075216,
           22.34636141731444,
           2.227305038384628,
           15.755493018473976,
           19.931417300155584,
           2.696874721553557,
           18.398166359779708,
           18.543824224942853,
           16.65694647073524,
           21.443668492519976
          ],
          "coloraxis": "coloraxis",
          "symbol": "circle"
         },
         "mode": "markers",
         "name": "",
         "orientation": "v",
         "showlegend": false,
         "type": "scatter",
         "x": [
          354.93975903614455,
          195.42168674698794,
          255.61564617846383,
          295.78639754329816,
          283.9759036144578,
          408.433734939759,
          337.16390954442767,
          294.39759036144574,
          325.96385542168673,
          413.1389719032379,
          359.81821818524094,
          275.6279708678464,
          186.50637707078312,
          89.4578313253012,
          282.21467902861446,
          494.39759036144574,
          222.95180722891564,
          331.92771084337346,
          156.4457831325301,
          384.4578313253012,
          237.07112139966114,
          407.4698795180723,
          265.96385542168673,
          304.4578313253012,
          305.96385542168673,
          304.93299369352405,
          455.96385542168673,
          431.17031602974396,
          211.77731433546685,
          422.4698795180723,
          431.92771084337346,
          220.1302622599774,
          448.433734939759,
          234.26726927240207,
          249.96626153049698,
          247.89156626506022,
          513.9759036144578,
          252.06213525978913,
          230.85093302899094,
          448.433734939759,
          234.26726927240207,
          229.8546039627259,
          251.09807393637047,
          288.5998093938253,
          290.4216867469879,
          288.433734939759,
          287.64733739646084,
          211.6774667027485,
          86.92771084337349,
          58.5664790509695,
          58.4992080136954,
          362.95180722891564,
          365.48192771084337,
          375.4216867469879,
          381.4457831325301,
          385.2791733339608,
          399.93975903614455,
          351.2028485033885,
          331.90064947289153,
          286.4457831325301,
          250.42168674698792,
          246.39470479574547,
          235.96385542168673,
          548.433734939759,
          551.8905897025602,
          334.16753929781623,
          254.6624682323042
         ],
         "xaxis": "x",
         "y": [
          160.54216867469881,
          263.0120481927711,
          90.0549757624247,
          247.38245217196913,
          126.02409638554218,
          243.5542168674699,
          146.40152896743226,
          183.5542168674699,
          126.02409638554218,
          95.55634647966872,
          177.3257483057229,
          214.49277579066268,
          214.1999688205949,
          176.56626506024097,
          249.78487681193525,
          160.06024096385545,
          248.0722891566265,
          265.5421686746988,
          186.50602409638554,
          281.0240963855422,
          280.378469444183,
          198.0722891566265,
          223.5542168674699,
          151.02409638554218,
          79.51807228915663,
          75.08836125753015,
          161.566265060241,
          175.36918180534641,
          261.6603180299322,
          150.06024096385545,
          111.566265060241,
          217.55866728633285,
          76.08433734939763,
          181.6964831984187,
          151.47799204631025,
          111.02409638554218,
          269.51807228915663,
          110.3220597232681,
          102.14655496987956,
          76.08433734939763,
          181.6964831984187,
          253.63105498164532,
          275.9690617940512,
          256.1419383589044,
          208.5542168674699,
          171.566265060241,
          123.57898390436748,
          51.0555405214609,
          96.02409638554218,
          200.3031314711973,
          231.44443006400604,
          228.0722891566265,
          227.10843373493978,
          183.0120481927711,
          146.566265060241,
          98.62451760165663,
          255,
          281.14065147307986,
          271.6272413874247,
          272.04819277108436,
          272.04819277108436,
          266.26372187970634,
          261.08433734939763,
          320.06024096385545,
          305.99815644413593,
          269.36123399849396,
          264.85993534685616
         ],
         "yaxis": "y"
        }
       ],
       "layout": {
        "coloraxis": {
         "colorbar": {
          "title": {
           "text": "Error_percentage_Hull_fov"
          }
         },
         "colorscale": [
          [
           0,
           "rgb(0,104,55)"
          ],
          [
           0.1,
           "rgb(26,152,80)"
          ],
          [
           0.2,
           "rgb(102,189,99)"
          ],
          [
           0.3,
           "rgb(166,217,106)"
          ],
          [
           0.4,
           "rgb(217,239,139)"
          ],
          [
           0.5,
           "rgb(255,255,191)"
          ],
          [
           0.6,
           "rgb(254,224,139)"
          ],
          [
           0.7,
           "rgb(253,174,97)"
          ],
          [
           0.8,
           "rgb(244,109,67)"
          ],
          [
           0.9,
           "rgb(215,48,39)"
          ],
          [
           1,
           "rgb(165,0,38)"
          ]
         ]
        },
        "legend": {
         "tracegroupgap": 0
        },
        "template": {
         "data": {
          "bar": [
           {
            "error_x": {
             "color": "#2a3f5f"
            },
            "error_y": {
             "color": "#2a3f5f"
            },
            "marker": {
             "line": {
              "color": "#E5ECF6",
              "width": 0.5
             },
             "pattern": {
              "fillmode": "overlay",
              "size": 10,
              "solidity": 0.2
             }
            },
            "type": "bar"
           }
          ],
          "barpolar": [
           {
            "marker": {
             "line": {
              "color": "#E5ECF6",
              "width": 0.5
             },
             "pattern": {
              "fillmode": "overlay",
              "size": 10,
              "solidity": 0.2
             }
            },
            "type": "barpolar"
           }
          ],
          "carpet": [
           {
            "aaxis": {
             "endlinecolor": "#2a3f5f",
             "gridcolor": "white",
             "linecolor": "white",
             "minorgridcolor": "white",
             "startlinecolor": "#2a3f5f"
            },
            "baxis": {
             "endlinecolor": "#2a3f5f",
             "gridcolor": "white",
             "linecolor": "white",
             "minorgridcolor": "white",
             "startlinecolor": "#2a3f5f"
            },
            "type": "carpet"
           }
          ],
          "choropleth": [
           {
            "colorbar": {
             "outlinewidth": 0,
             "ticks": ""
            },
            "type": "choropleth"
           }
          ],
          "contour": [
           {
            "colorbar": {
             "outlinewidth": 0,
             "ticks": ""
            },
            "colorscale": [
             [
              0,
              "#0d0887"
             ],
             [
              0.1111111111111111,
              "#46039f"
             ],
             [
              0.2222222222222222,
              "#7201a8"
             ],
             [
              0.3333333333333333,
              "#9c179e"
             ],
             [
              0.4444444444444444,
              "#bd3786"
             ],
             [
              0.5555555555555556,
              "#d8576b"
             ],
             [
              0.6666666666666666,
              "#ed7953"
             ],
             [
              0.7777777777777778,
              "#fb9f3a"
             ],
             [
              0.8888888888888888,
              "#fdca26"
             ],
             [
              1,
              "#f0f921"
             ]
            ],
            "type": "contour"
           }
          ],
          "contourcarpet": [
           {
            "colorbar": {
             "outlinewidth": 0,
             "ticks": ""
            },
            "type": "contourcarpet"
           }
          ],
          "heatmap": [
           {
            "colorbar": {
             "outlinewidth": 0,
             "ticks": ""
            },
            "colorscale": [
             [
              0,
              "#0d0887"
             ],
             [
              0.1111111111111111,
              "#46039f"
             ],
             [
              0.2222222222222222,
              "#7201a8"
             ],
             [
              0.3333333333333333,
              "#9c179e"
             ],
             [
              0.4444444444444444,
              "#bd3786"
             ],
             [
              0.5555555555555556,
              "#d8576b"
             ],
             [
              0.6666666666666666,
              "#ed7953"
             ],
             [
              0.7777777777777778,
              "#fb9f3a"
             ],
             [
              0.8888888888888888,
              "#fdca26"
             ],
             [
              1,
              "#f0f921"
             ]
            ],
            "type": "heatmap"
           }
          ],
          "heatmapgl": [
           {
            "colorbar": {
             "outlinewidth": 0,
             "ticks": ""
            },
            "colorscale": [
             [
              0,
              "#0d0887"
             ],
             [
              0.1111111111111111,
              "#46039f"
             ],
             [
              0.2222222222222222,
              "#7201a8"
             ],
             [
              0.3333333333333333,
              "#9c179e"
             ],
             [
              0.4444444444444444,
              "#bd3786"
             ],
             [
              0.5555555555555556,
              "#d8576b"
             ],
             [
              0.6666666666666666,
              "#ed7953"
             ],
             [
              0.7777777777777778,
              "#fb9f3a"
             ],
             [
              0.8888888888888888,
              "#fdca26"
             ],
             [
              1,
              "#f0f921"
             ]
            ],
            "type": "heatmapgl"
           }
          ],
          "histogram": [
           {
            "marker": {
             "pattern": {
              "fillmode": "overlay",
              "size": 10,
              "solidity": 0.2
             }
            },
            "type": "histogram"
           }
          ],
          "histogram2d": [
           {
            "colorbar": {
             "outlinewidth": 0,
             "ticks": ""
            },
            "colorscale": [
             [
              0,
              "#0d0887"
             ],
             [
              0.1111111111111111,
              "#46039f"
             ],
             [
              0.2222222222222222,
              "#7201a8"
             ],
             [
              0.3333333333333333,
              "#9c179e"
             ],
             [
              0.4444444444444444,
              "#bd3786"
             ],
             [
              0.5555555555555556,
              "#d8576b"
             ],
             [
              0.6666666666666666,
              "#ed7953"
             ],
             [
              0.7777777777777778,
              "#fb9f3a"
             ],
             [
              0.8888888888888888,
              "#fdca26"
             ],
             [
              1,
              "#f0f921"
             ]
            ],
            "type": "histogram2d"
           }
          ],
          "histogram2dcontour": [
           {
            "colorbar": {
             "outlinewidth": 0,
             "ticks": ""
            },
            "colorscale": [
             [
              0,
              "#0d0887"
             ],
             [
              0.1111111111111111,
              "#46039f"
             ],
             [
              0.2222222222222222,
              "#7201a8"
             ],
             [
              0.3333333333333333,
              "#9c179e"
             ],
             [
              0.4444444444444444,
              "#bd3786"
             ],
             [
              0.5555555555555556,
              "#d8576b"
             ],
             [
              0.6666666666666666,
              "#ed7953"
             ],
             [
              0.7777777777777778,
              "#fb9f3a"
             ],
             [
              0.8888888888888888,
              "#fdca26"
             ],
             [
              1,
              "#f0f921"
             ]
            ],
            "type": "histogram2dcontour"
           }
          ],
          "mesh3d": [
           {
            "colorbar": {
             "outlinewidth": 0,
             "ticks": ""
            },
            "type": "mesh3d"
           }
          ],
          "parcoords": [
           {
            "line": {
             "colorbar": {
              "outlinewidth": 0,
              "ticks": ""
             }
            },
            "type": "parcoords"
           }
          ],
          "pie": [
           {
            "automargin": true,
            "type": "pie"
           }
          ],
          "scatter": [
           {
            "fillpattern": {
             "fillmode": "overlay",
             "size": 10,
             "solidity": 0.2
            },
            "type": "scatter"
           }
          ],
          "scatter3d": [
           {
            "line": {
             "colorbar": {
              "outlinewidth": 0,
              "ticks": ""
             }
            },
            "marker": {
             "colorbar": {
              "outlinewidth": 0,
              "ticks": ""
             }
            },
            "type": "scatter3d"
           }
          ],
          "scattercarpet": [
           {
            "marker": {
             "colorbar": {
              "outlinewidth": 0,
              "ticks": ""
             }
            },
            "type": "scattercarpet"
           }
          ],
          "scattergeo": [
           {
            "marker": {
             "colorbar": {
              "outlinewidth": 0,
              "ticks": ""
             }
            },
            "type": "scattergeo"
           }
          ],
          "scattergl": [
           {
            "marker": {
             "colorbar": {
              "outlinewidth": 0,
              "ticks": ""
             }
            },
            "type": "scattergl"
           }
          ],
          "scattermapbox": [
           {
            "marker": {
             "colorbar": {
              "outlinewidth": 0,
              "ticks": ""
             }
            },
            "type": "scattermapbox"
           }
          ],
          "scatterpolar": [
           {
            "marker": {
             "colorbar": {
              "outlinewidth": 0,
              "ticks": ""
             }
            },
            "type": "scatterpolar"
           }
          ],
          "scatterpolargl": [
           {
            "marker": {
             "colorbar": {
              "outlinewidth": 0,
              "ticks": ""
             }
            },
            "type": "scatterpolargl"
           }
          ],
          "scatterternary": [
           {
            "marker": {
             "colorbar": {
              "outlinewidth": 0,
              "ticks": ""
             }
            },
            "type": "scatterternary"
           }
          ],
          "surface": [
           {
            "colorbar": {
             "outlinewidth": 0,
             "ticks": ""
            },
            "colorscale": [
             [
              0,
              "#0d0887"
             ],
             [
              0.1111111111111111,
              "#46039f"
             ],
             [
              0.2222222222222222,
              "#7201a8"
             ],
             [
              0.3333333333333333,
              "#9c179e"
             ],
             [
              0.4444444444444444,
              "#bd3786"
             ],
             [
              0.5555555555555556,
              "#d8576b"
             ],
             [
              0.6666666666666666,
              "#ed7953"
             ],
             [
              0.7777777777777778,
              "#fb9f3a"
             ],
             [
              0.8888888888888888,
              "#fdca26"
             ],
             [
              1,
              "#f0f921"
             ]
            ],
            "type": "surface"
           }
          ],
          "table": [
           {
            "cells": {
             "fill": {
              "color": "#EBF0F8"
             },
             "line": {
              "color": "white"
             }
            },
            "header": {
             "fill": {
              "color": "#C8D4E3"
             },
             "line": {
              "color": "white"
             }
            },
            "type": "table"
           }
          ]
         },
         "layout": {
          "annotationdefaults": {
           "arrowcolor": "#2a3f5f",
           "arrowhead": 0,
           "arrowwidth": 1
          },
          "autotypenumbers": "strict",
          "coloraxis": {
           "colorbar": {
            "outlinewidth": 0,
            "ticks": ""
           }
          },
          "colorscale": {
           "diverging": [
            [
             0,
             "#8e0152"
            ],
            [
             0.1,
             "#c51b7d"
            ],
            [
             0.2,
             "#de77ae"
            ],
            [
             0.3,
             "#f1b6da"
            ],
            [
             0.4,
             "#fde0ef"
            ],
            [
             0.5,
             "#f7f7f7"
            ],
            [
             0.6,
             "#e6f5d0"
            ],
            [
             0.7,
             "#b8e186"
            ],
            [
             0.8,
             "#7fbc41"
            ],
            [
             0.9,
             "#4d9221"
            ],
            [
             1,
             "#276419"
            ]
           ],
           "sequential": [
            [
             0,
             "#0d0887"
            ],
            [
             0.1111111111111111,
             "#46039f"
            ],
            [
             0.2222222222222222,
             "#7201a8"
            ],
            [
             0.3333333333333333,
             "#9c179e"
            ],
            [
             0.4444444444444444,
             "#bd3786"
            ],
            [
             0.5555555555555556,
             "#d8576b"
            ],
            [
             0.6666666666666666,
             "#ed7953"
            ],
            [
             0.7777777777777778,
             "#fb9f3a"
            ],
            [
             0.8888888888888888,
             "#fdca26"
            ],
            [
             1,
             "#f0f921"
            ]
           ],
           "sequentialminus": [
            [
             0,
             "#0d0887"
            ],
            [
             0.1111111111111111,
             "#46039f"
            ],
            [
             0.2222222222222222,
             "#7201a8"
            ],
            [
             0.3333333333333333,
             "#9c179e"
            ],
            [
             0.4444444444444444,
             "#bd3786"
            ],
            [
             0.5555555555555556,
             "#d8576b"
            ],
            [
             0.6666666666666666,
             "#ed7953"
            ],
            [
             0.7777777777777778,
             "#fb9f3a"
            ],
            [
             0.8888888888888888,
             "#fdca26"
            ],
            [
             1,
             "#f0f921"
            ]
           ]
          },
          "colorway": [
           "#636efa",
           "#EF553B",
           "#00cc96",
           "#ab63fa",
           "#FFA15A",
           "#19d3f3",
           "#FF6692",
           "#B6E880",
           "#FF97FF",
           "#FECB52"
          ],
          "font": {
           "color": "#2a3f5f"
          },
          "geo": {
           "bgcolor": "white",
           "lakecolor": "white",
           "landcolor": "#E5ECF6",
           "showlakes": true,
           "showland": true,
           "subunitcolor": "white"
          },
          "hoverlabel": {
           "align": "left"
          },
          "hovermode": "closest",
          "mapbox": {
           "style": "light"
          },
          "paper_bgcolor": "white",
          "plot_bgcolor": "#E5ECF6",
          "polar": {
           "angularaxis": {
            "gridcolor": "white",
            "linecolor": "white",
            "ticks": ""
           },
           "bgcolor": "#E5ECF6",
           "radialaxis": {
            "gridcolor": "white",
            "linecolor": "white",
            "ticks": ""
           }
          },
          "scene": {
           "xaxis": {
            "backgroundcolor": "#E5ECF6",
            "gridcolor": "white",
            "gridwidth": 2,
            "linecolor": "white",
            "showbackground": true,
            "ticks": "",
            "zerolinecolor": "white"
           },
           "yaxis": {
            "backgroundcolor": "#E5ECF6",
            "gridcolor": "white",
            "gridwidth": 2,
            "linecolor": "white",
            "showbackground": true,
            "ticks": "",
            "zerolinecolor": "white"
           },
           "zaxis": {
            "backgroundcolor": "#E5ECF6",
            "gridcolor": "white",
            "gridwidth": 2,
            "linecolor": "white",
            "showbackground": true,
            "ticks": "",
            "zerolinecolor": "white"
           }
          },
          "shapedefaults": {
           "line": {
            "color": "#2a3f5f"
           }
          },
          "ternary": {
           "aaxis": {
            "gridcolor": "white",
            "linecolor": "white",
            "ticks": ""
           },
           "baxis": {
            "gridcolor": "white",
            "linecolor": "white",
            "ticks": ""
           },
           "bgcolor": "#E5ECF6",
           "caxis": {
            "gridcolor": "white",
            "linecolor": "white",
            "ticks": ""
           }
          },
          "title": {
           "x": 0.05
          },
          "xaxis": {
           "automargin": true,
           "gridcolor": "white",
           "linecolor": "white",
           "ticks": "",
           "title": {
            "standoff": 15
           },
           "zerolinecolor": "white",
           "zerolinewidth": 2
          },
          "yaxis": {
           "automargin": true,
           "gridcolor": "white",
           "linecolor": "white",
           "ticks": "",
           "title": {
            "standoff": 15
           },
           "zerolinecolor": "white",
           "zerolinewidth": 2
          }
         }
        },
        "title": {
         "text": "Interactive Error_percentage_Hull_fov for distance 410 mm"
        },
        "xaxis": {
         "anchor": "y",
         "domain": [
          0,
          1
         ],
         "title": {
          "text": "center_x"
         }
        },
        "yaxis": {
         "anchor": "x",
         "domain": [
          0,
          1
         ],
         "title": {
          "text": "center_y"
         }
        }
       }
      }
     },
     "metadata": {},
     "output_type": "display_data"
    },
    {
     "data": {
      "application/vnd.plotly.v1+json": {
       "config": {
        "plotlyServerURL": "https://plot.ly"
       },
       "data": [
        {
         "customdata": [
          [
           "undistorted_GX010191_101_1265.jpg",
           0
          ],
          [
           "undistorted_GX010191_103_1289.jpg",
           0
          ],
          [
           "undistorted_GX010191_105_1312.jpg",
           0
          ],
          [
           "undistorted_GX010191_107_1330.jpg",
           0
          ],
          [
           "undistorted_GX010191_108_1337.jpg",
           2
          ],
          [
           "undistorted_GX010191_10_370.jpg",
           0
          ],
          [
           "undistorted_GX010191_110_1355.jpg",
           0
          ],
          [
           "undistorted_GX010191_110_1355.jpg",
           1
          ],
          [
           "undistorted_GX010191_110_1355.jpg",
           3
          ],
          [
           "undistorted_GX010191_116_1399.jpg",
           0
          ],
          [
           "undistorted_GX010191_118_1415.jpg",
           0
          ],
          [
           "undistorted_GX010191_11_391.jpg",
           0
          ],
          [
           "undistorted_GX010191_12_410.jpg",
           3
          ],
          [
           "undistorted_GX010191_13_439.jpg",
           0
          ],
          [
           "undistorted_GX010191_14_460.jpg",
           0
          ],
          [
           "undistorted_GX010191_16_495.jpg",
           0
          ],
          [
           "undistorted_GX010191_26_199.jpg",
           0
          ],
          [
           "undistorted_GX010191_27_215.jpg",
           1
          ],
          [
           "undistorted_GX010191_28_230.jpg",
           0
          ],
          [
           "undistorted_GX010191_28_230.jpg",
           1
          ],
          [
           "undistorted_GX010191_28_230.jpg",
           4
          ],
          [
           "undistorted_GX010191_28_230.jpg",
           5
          ],
          [
           "undistorted_GX010191_29_257.jpg",
           1
          ],
          [
           "undistorted_GX010191_31_283.jpg",
           1
          ],
          [
           "undistorted_GX010191_32_1049.jpg",
           0
          ],
          [
           "undistorted_GX010191_32_305.jpg",
           0
          ],
          [
           "undistorted_GX010191_32_305.jpg",
           2
          ],
          [
           "undistorted_GX010191_33_1087.jpg",
           1
          ],
          [
           "undistorted_GX010191_33_331.jpg",
           0
          ],
          [
           "undistorted_GX010191_33_331.jpg",
           2
          ],
          [
           "undistorted_GX010191_34_1128.jpg",
           0
          ],
          [
           "undistorted_GX010191_34_1128.jpg",
           1
          ],
          [
           "undistorted_GX010191_35_1167.jpg",
           0
          ],
          [
           "undistorted_GX010191_35_1167.jpg",
           1
          ],
          [
           "undistorted_GX010191_35_1167.jpg",
           4
          ],
          [
           "undistorted_GX010191_35_367.jpg",
           0
          ],
          [
           "undistorted_GX010191_36_1195.jpg",
           0
          ],
          [
           "undistorted_GX010191_36_1195.jpg",
           1
          ],
          [
           "undistorted_GX010191_36_1195.jpg",
           2
          ],
          [
           "undistorted_GX010191_36_381.jpg",
           0
          ],
          [
           "undistorted_GX010191_37_1242.jpg",
           0
          ],
          [
           "undistorted_GX010191_37_392.jpg",
           0
          ],
          [
           "undistorted_GX010191_38_1266.jpg",
           0
          ],
          [
           "undistorted_GX010191_38_404.jpg",
           0
          ],
          [
           "undistorted_GX010191_39_1284.jpg",
           0
          ],
          [
           "undistorted_GX010191_41_445.jpg",
           0
          ],
          [
           "undistorted_GX010191_42_1339.jpg",
           0
          ],
          [
           "undistorted_GX010191_42_1339.jpg",
           1
          ],
          [
           "undistorted_GX010191_42_457.jpg",
           0
          ],
          [
           "undistorted_GX010191_43_1353.jpg",
           0
          ],
          [
           "undistorted_GX010191_43_1353.jpg",
           3
          ],
          [
           "undistorted_GX010191_43_468.jpg",
           0
          ],
          [
           "undistorted_GX010191_43_468.jpg",
           2
          ],
          [
           "undistorted_GX010191_43_468.jpg",
           4
          ],
          [
           "undistorted_GX010191_44_478.jpg",
           0
          ],
          [
           "undistorted_GX010191_44_478.jpg",
           1
          ],
          [
           "undistorted_GX010191_45_489.jpg",
           0
          ],
          [
           "undistorted_GX010191_46_497.jpg",
           0
          ],
          [
           "undistorted_GX010191_46_497.jpg",
           1
          ],
          [
           "undistorted_GX010191_47_507.jpg",
           0
          ],
          [
           "undistorted_GX010191_5_190.jpg",
           0
          ],
          [
           "undistorted_GX010191_5_190.jpg",
           2
          ],
          [
           "undistorted_GX010191_6_219.jpg",
           0
          ],
          [
           "undistorted_GX010191_88_1016.jpg",
           0
          ],
          [
           "undistorted_GX010191_8_309.jpg",
           1
          ],
          [
           "undistorted_GX010191_8_309.jpg",
           2
          ],
          [
           "undistorted_GX010191_91_1066.jpg",
           2
          ],
          [
           "undistorted_GX010191_92_1087.jpg",
           1
          ],
          [
           "undistorted_GX010191_94_1132.jpg",
           0
          ],
          [
           "undistorted_GX010191_95_1157.jpg",
           0
          ],
          [
           "undistorted_GX010191_95_1157.jpg",
           1
          ],
          [
           "undistorted_GX010191_96_1175.jpg",
           0
          ],
          [
           "undistorted_GX010191_97_1190.jpg",
           0
          ],
          [
           "undistorted_GX010191_97_1190.jpg",
           1
          ],
          [
           "undistorted_GX010191_98_1211.jpg",
           0
          ],
          [
           "undistorted_GX010191_98_1211.jpg",
           1
          ],
          [
           "undistorted_GX010191_99_1233.jpg",
           1
          ],
          [
           "undistorted_GX010191_9_346.jpg",
           2
          ]
         ],
         "hovertemplate": "center_x=%{x}<br>center_y=%{y}<br>image_path=%{customdata[0]}<br>index=%{customdata[1]}<br>MAE_Hull_fov=%{marker.color}<extra></extra>",
         "legendgroup": "",
         "marker": {
          "color": [
           3.552455540174748,
           8.198917230747497,
           4.684076541792592,
           11.850726563679956,
           24.555929700217547,
           1.575352707443301,
           5.692503168323896,
           19.456476506606435,
           1.994277001228028,
           12.623895980221905,
           18.17868198075641,
           17.867823359058008,
           25.277455523379928,
           5.172591777811789,
           23.92703166322076,
           10.05672494978012,
           28.135631675003253,
           23.256922970027176,
           25.27739958522642,
           30.161886817542268,
           26.180963848843334,
           28.12268569898879,
           21.192976999416004,
           7.227165399808939,
           12.87345554520465,
           13.141842770388536,
           20.090739932857417,
           10.304750730037796,
           7.799430447457723,
           9.36912594707951,
           6.011028525898212,
           14.576992648824302,
           16.334062559641666,
           15.597418547775163,
           16.352907636535036,
           0.8863457891982591,
           25.145203633768915,
           11.91734203929181,
           19.29749867403009,
           1.9141418731866224,
           24.65604918899064,
           20.817140540090374,
           3.9130673807918015,
           20.225193007196225,
           8.088177671640466,
           23.40437133990835,
           4.0798725651942505,
           10.16858643811193,
           13.368447768771972,
           6.58561775169116,
           3.655432781008841,
           22.804989714676765,
           6.032419192880127,
           22.736027034089744,
           8.616570584425489,
           3.009534957716596,
           27.707389772107547,
           22.84500027053491,
           13.6570092702232,
           23.41986741739646,
           17.798687600864383,
           18.079100017388384,
           14.706508037814672,
           25.127131642214323,
           23.79166046214698,
           29.19959463430706,
           12.854276111901155,
           10.304750730037796,
           21.446164208545355,
           16.25239887518356,
           12.067195424115624,
           10.4602401349876,
           21.847874392536,
           3.913045029728039,
           10.738236529170308,
           22.36663760910926,
           13.335416804449636,
           15.918990966775226
          ],
          "coloraxis": "coloraxis",
          "symbol": "circle"
         },
         "mode": "markers",
         "name": "",
         "orientation": "v",
         "showlegend": false,
         "type": "scatter",
         "x": [
          339.99999999999994,
          342.4698795180723,
          390.4216867469879,
          432.4698795180723,
          467.95180722891564,
          389.4578313253012,
          370.48192771084337,
          523.9759036144578,
          530.4819277108434,
          489.99999999999994,
          490.96385542168673,
          420.96385542168673,
          483.433734939759,
          472.4698795180723,
          384.4578313253012,
          518.9156626506024,
          450.96385542168673,
          453.91566265060237,
          471.2517060429216,
          331.9879518072289,
          466.92771084337346,
          331.4457831325301,
          472.6840467338102,
          465.4216867469879,
          388.91566265060237,
          477.4096385542168,
          350.9036144578313,
          404.57916627447287,
          500.4819277108433,
          500.4819277108433,
          444.4578313253012,
          408.91566265060237,
          496.27894390060237,
          389.93975903614455,
          496.1544615963855,
          386.075336502259,
          547.888860128012,
          386.4457831325301,
          539.4578313253012,
          408.91566265060237,
          353.49397590361446,
          423.91566265060237,
          341.4457831325301,
          429.4578313253012,
          323.91566265060237,
          457.95180722891564,
          482.95180722891564,
          330.96385542168673,
          478.4939759036144,
          528.9759036144578,
          366.92771084337346,
          367.4096385542168,
          469.4578313253012,
          370.48192771084337,
          481.4457831325301,
          367.95183664344876,
          498.4939759036144,
          520.9036144578313,
          88.97590361445782,
          554.4578313253012,
          440.8518742940512,
          441.1177522590361,
          462.04292756965356,
          393.433734939759,
          467.4698795180723,
          474.4578313253012,
          394.4578313253012,
          404.57916627447287,
          410.48192771084337,
          481.92771084337346,
          394.93975903614455,
          518.9156626506024,
          537.9518072289156,
          526.0952795557229,
          378.91566265060237,
          550.5027532003012,
          357.4096385542168,
          521.9277108433735
         ],
         "xaxis": "x",
         "y": [
          163.5542168674699,
          127.04819277108436,
          97.59036144578317,
          98.5542168674699,
          103.5542168674699,
          116.50602409638557,
          135.54216867469881,
          156.0843373493976,
          159.0963855421687,
          212.59036144578315,
          284.51807228915663,
          137.3613251835467,
          316.566265060241,
          148.5542168674699,
          228.5542168674699,
          31.08433734939763,
          279.5783132530121,
          262.5903614457832,
          220.18557628953315,
          307.5301204819277,
          232.53012048192772,
          310.06024096385545,
          174.74722620952562,
          127.59036144578315,
          246.0843373493976,
          96.566265060241,
          177.59036144578315,
          189.05798486916416,
          96.08433734939763,
          96.08433734939763,
          144.57831325301206,
          304.03614457831327,
          154.5642678134413,
          270.5421686746988,
          154.57832796027864,
          116.57633953783886,
          219.59215279085092,
          260.5421686746988,
          232.04819277108436,
          124.03614457831327,
          209.51807228915663,
          139.24288462443525,
          163.5542168674699,
          154.51807228915663,
          139.51807228915663,
          141.02409638554218,
          108.5542168674699,
          162.04819277108436,
          103.07228915662654,
          150.54216867469881,
          136.566265060241,
          207.04819277108436,
          84.03614457831327,
          193.5542168674699,
          54.578313253012084,
          156.99698206890062,
          24.431887707078317,
          31.08433734939763,
          45.06024096385545,
          40.542168674698814,
          295.89404738093,
          296.02376547204443,
          236.70989622552713,
          298.0120481927711,
          113.5542168674699,
          100.06024096385545,
          226.02409638554218,
          189.05798486916416,
          294.09638554216866,
          141.50602409638557,
          277.04819277108436,
          175.54216867469881,
          206.02409638554218,
          221.72510353915663,
          246.566265060241,
          241.66375953030874,
          215,
          109.03614457831327
         ],
         "yaxis": "y"
        }
       ],
       "layout": {
        "coloraxis": {
         "colorbar": {
          "title": {
           "text": "MAE_Hull_fov"
          }
         },
         "colorscale": [
          [
           0,
           "rgb(0,104,55)"
          ],
          [
           0.1,
           "rgb(26,152,80)"
          ],
          [
           0.2,
           "rgb(102,189,99)"
          ],
          [
           0.3,
           "rgb(166,217,106)"
          ],
          [
           0.4,
           "rgb(217,239,139)"
          ],
          [
           0.5,
           "rgb(255,255,191)"
          ],
          [
           0.6,
           "rgb(254,224,139)"
          ],
          [
           0.7,
           "rgb(253,174,97)"
          ],
          [
           0.8,
           "rgb(244,109,67)"
          ],
          [
           0.9,
           "rgb(215,48,39)"
          ],
          [
           1,
           "rgb(165,0,38)"
          ]
         ]
        },
        "legend": {
         "tracegroupgap": 0
        },
        "template": {
         "data": {
          "bar": [
           {
            "error_x": {
             "color": "#2a3f5f"
            },
            "error_y": {
             "color": "#2a3f5f"
            },
            "marker": {
             "line": {
              "color": "#E5ECF6",
              "width": 0.5
             },
             "pattern": {
              "fillmode": "overlay",
              "size": 10,
              "solidity": 0.2
             }
            },
            "type": "bar"
           }
          ],
          "barpolar": [
           {
            "marker": {
             "line": {
              "color": "#E5ECF6",
              "width": 0.5
             },
             "pattern": {
              "fillmode": "overlay",
              "size": 10,
              "solidity": 0.2
             }
            },
            "type": "barpolar"
           }
          ],
          "carpet": [
           {
            "aaxis": {
             "endlinecolor": "#2a3f5f",
             "gridcolor": "white",
             "linecolor": "white",
             "minorgridcolor": "white",
             "startlinecolor": "#2a3f5f"
            },
            "baxis": {
             "endlinecolor": "#2a3f5f",
             "gridcolor": "white",
             "linecolor": "white",
             "minorgridcolor": "white",
             "startlinecolor": "#2a3f5f"
            },
            "type": "carpet"
           }
          ],
          "choropleth": [
           {
            "colorbar": {
             "outlinewidth": 0,
             "ticks": ""
            },
            "type": "choropleth"
           }
          ],
          "contour": [
           {
            "colorbar": {
             "outlinewidth": 0,
             "ticks": ""
            },
            "colorscale": [
             [
              0,
              "#0d0887"
             ],
             [
              0.1111111111111111,
              "#46039f"
             ],
             [
              0.2222222222222222,
              "#7201a8"
             ],
             [
              0.3333333333333333,
              "#9c179e"
             ],
             [
              0.4444444444444444,
              "#bd3786"
             ],
             [
              0.5555555555555556,
              "#d8576b"
             ],
             [
              0.6666666666666666,
              "#ed7953"
             ],
             [
              0.7777777777777778,
              "#fb9f3a"
             ],
             [
              0.8888888888888888,
              "#fdca26"
             ],
             [
              1,
              "#f0f921"
             ]
            ],
            "type": "contour"
           }
          ],
          "contourcarpet": [
           {
            "colorbar": {
             "outlinewidth": 0,
             "ticks": ""
            },
            "type": "contourcarpet"
           }
          ],
          "heatmap": [
           {
            "colorbar": {
             "outlinewidth": 0,
             "ticks": ""
            },
            "colorscale": [
             [
              0,
              "#0d0887"
             ],
             [
              0.1111111111111111,
              "#46039f"
             ],
             [
              0.2222222222222222,
              "#7201a8"
             ],
             [
              0.3333333333333333,
              "#9c179e"
             ],
             [
              0.4444444444444444,
              "#bd3786"
             ],
             [
              0.5555555555555556,
              "#d8576b"
             ],
             [
              0.6666666666666666,
              "#ed7953"
             ],
             [
              0.7777777777777778,
              "#fb9f3a"
             ],
             [
              0.8888888888888888,
              "#fdca26"
             ],
             [
              1,
              "#f0f921"
             ]
            ],
            "type": "heatmap"
           }
          ],
          "heatmapgl": [
           {
            "colorbar": {
             "outlinewidth": 0,
             "ticks": ""
            },
            "colorscale": [
             [
              0,
              "#0d0887"
             ],
             [
              0.1111111111111111,
              "#46039f"
             ],
             [
              0.2222222222222222,
              "#7201a8"
             ],
             [
              0.3333333333333333,
              "#9c179e"
             ],
             [
              0.4444444444444444,
              "#bd3786"
             ],
             [
              0.5555555555555556,
              "#d8576b"
             ],
             [
              0.6666666666666666,
              "#ed7953"
             ],
             [
              0.7777777777777778,
              "#fb9f3a"
             ],
             [
              0.8888888888888888,
              "#fdca26"
             ],
             [
              1,
              "#f0f921"
             ]
            ],
            "type": "heatmapgl"
           }
          ],
          "histogram": [
           {
            "marker": {
             "pattern": {
              "fillmode": "overlay",
              "size": 10,
              "solidity": 0.2
             }
            },
            "type": "histogram"
           }
          ],
          "histogram2d": [
           {
            "colorbar": {
             "outlinewidth": 0,
             "ticks": ""
            },
            "colorscale": [
             [
              0,
              "#0d0887"
             ],
             [
              0.1111111111111111,
              "#46039f"
             ],
             [
              0.2222222222222222,
              "#7201a8"
             ],
             [
              0.3333333333333333,
              "#9c179e"
             ],
             [
              0.4444444444444444,
              "#bd3786"
             ],
             [
              0.5555555555555556,
              "#d8576b"
             ],
             [
              0.6666666666666666,
              "#ed7953"
             ],
             [
              0.7777777777777778,
              "#fb9f3a"
             ],
             [
              0.8888888888888888,
              "#fdca26"
             ],
             [
              1,
              "#f0f921"
             ]
            ],
            "type": "histogram2d"
           }
          ],
          "histogram2dcontour": [
           {
            "colorbar": {
             "outlinewidth": 0,
             "ticks": ""
            },
            "colorscale": [
             [
              0,
              "#0d0887"
             ],
             [
              0.1111111111111111,
              "#46039f"
             ],
             [
              0.2222222222222222,
              "#7201a8"
             ],
             [
              0.3333333333333333,
              "#9c179e"
             ],
             [
              0.4444444444444444,
              "#bd3786"
             ],
             [
              0.5555555555555556,
              "#d8576b"
             ],
             [
              0.6666666666666666,
              "#ed7953"
             ],
             [
              0.7777777777777778,
              "#fb9f3a"
             ],
             [
              0.8888888888888888,
              "#fdca26"
             ],
             [
              1,
              "#f0f921"
             ]
            ],
            "type": "histogram2dcontour"
           }
          ],
          "mesh3d": [
           {
            "colorbar": {
             "outlinewidth": 0,
             "ticks": ""
            },
            "type": "mesh3d"
           }
          ],
          "parcoords": [
           {
            "line": {
             "colorbar": {
              "outlinewidth": 0,
              "ticks": ""
             }
            },
            "type": "parcoords"
           }
          ],
          "pie": [
           {
            "automargin": true,
            "type": "pie"
           }
          ],
          "scatter": [
           {
            "fillpattern": {
             "fillmode": "overlay",
             "size": 10,
             "solidity": 0.2
            },
            "type": "scatter"
           }
          ],
          "scatter3d": [
           {
            "line": {
             "colorbar": {
              "outlinewidth": 0,
              "ticks": ""
             }
            },
            "marker": {
             "colorbar": {
              "outlinewidth": 0,
              "ticks": ""
             }
            },
            "type": "scatter3d"
           }
          ],
          "scattercarpet": [
           {
            "marker": {
             "colorbar": {
              "outlinewidth": 0,
              "ticks": ""
             }
            },
            "type": "scattercarpet"
           }
          ],
          "scattergeo": [
           {
            "marker": {
             "colorbar": {
              "outlinewidth": 0,
              "ticks": ""
             }
            },
            "type": "scattergeo"
           }
          ],
          "scattergl": [
           {
            "marker": {
             "colorbar": {
              "outlinewidth": 0,
              "ticks": ""
             }
            },
            "type": "scattergl"
           }
          ],
          "scattermapbox": [
           {
            "marker": {
             "colorbar": {
              "outlinewidth": 0,
              "ticks": ""
             }
            },
            "type": "scattermapbox"
           }
          ],
          "scatterpolar": [
           {
            "marker": {
             "colorbar": {
              "outlinewidth": 0,
              "ticks": ""
             }
            },
            "type": "scatterpolar"
           }
          ],
          "scatterpolargl": [
           {
            "marker": {
             "colorbar": {
              "outlinewidth": 0,
              "ticks": ""
             }
            },
            "type": "scatterpolargl"
           }
          ],
          "scatterternary": [
           {
            "marker": {
             "colorbar": {
              "outlinewidth": 0,
              "ticks": ""
             }
            },
            "type": "scatterternary"
           }
          ],
          "surface": [
           {
            "colorbar": {
             "outlinewidth": 0,
             "ticks": ""
            },
            "colorscale": [
             [
              0,
              "#0d0887"
             ],
             [
              0.1111111111111111,
              "#46039f"
             ],
             [
              0.2222222222222222,
              "#7201a8"
             ],
             [
              0.3333333333333333,
              "#9c179e"
             ],
             [
              0.4444444444444444,
              "#bd3786"
             ],
             [
              0.5555555555555556,
              "#d8576b"
             ],
             [
              0.6666666666666666,
              "#ed7953"
             ],
             [
              0.7777777777777778,
              "#fb9f3a"
             ],
             [
              0.8888888888888888,
              "#fdca26"
             ],
             [
              1,
              "#f0f921"
             ]
            ],
            "type": "surface"
           }
          ],
          "table": [
           {
            "cells": {
             "fill": {
              "color": "#EBF0F8"
             },
             "line": {
              "color": "white"
             }
            },
            "header": {
             "fill": {
              "color": "#C8D4E3"
             },
             "line": {
              "color": "white"
             }
            },
            "type": "table"
           }
          ]
         },
         "layout": {
          "annotationdefaults": {
           "arrowcolor": "#2a3f5f",
           "arrowhead": 0,
           "arrowwidth": 1
          },
          "autotypenumbers": "strict",
          "coloraxis": {
           "colorbar": {
            "outlinewidth": 0,
            "ticks": ""
           }
          },
          "colorscale": {
           "diverging": [
            [
             0,
             "#8e0152"
            ],
            [
             0.1,
             "#c51b7d"
            ],
            [
             0.2,
             "#de77ae"
            ],
            [
             0.3,
             "#f1b6da"
            ],
            [
             0.4,
             "#fde0ef"
            ],
            [
             0.5,
             "#f7f7f7"
            ],
            [
             0.6,
             "#e6f5d0"
            ],
            [
             0.7,
             "#b8e186"
            ],
            [
             0.8,
             "#7fbc41"
            ],
            [
             0.9,
             "#4d9221"
            ],
            [
             1,
             "#276419"
            ]
           ],
           "sequential": [
            [
             0,
             "#0d0887"
            ],
            [
             0.1111111111111111,
             "#46039f"
            ],
            [
             0.2222222222222222,
             "#7201a8"
            ],
            [
             0.3333333333333333,
             "#9c179e"
            ],
            [
             0.4444444444444444,
             "#bd3786"
            ],
            [
             0.5555555555555556,
             "#d8576b"
            ],
            [
             0.6666666666666666,
             "#ed7953"
            ],
            [
             0.7777777777777778,
             "#fb9f3a"
            ],
            [
             0.8888888888888888,
             "#fdca26"
            ],
            [
             1,
             "#f0f921"
            ]
           ],
           "sequentialminus": [
            [
             0,
             "#0d0887"
            ],
            [
             0.1111111111111111,
             "#46039f"
            ],
            [
             0.2222222222222222,
             "#7201a8"
            ],
            [
             0.3333333333333333,
             "#9c179e"
            ],
            [
             0.4444444444444444,
             "#bd3786"
            ],
            [
             0.5555555555555556,
             "#d8576b"
            ],
            [
             0.6666666666666666,
             "#ed7953"
            ],
            [
             0.7777777777777778,
             "#fb9f3a"
            ],
            [
             0.8888888888888888,
             "#fdca26"
            ],
            [
             1,
             "#f0f921"
            ]
           ]
          },
          "colorway": [
           "#636efa",
           "#EF553B",
           "#00cc96",
           "#ab63fa",
           "#FFA15A",
           "#19d3f3",
           "#FF6692",
           "#B6E880",
           "#FF97FF",
           "#FECB52"
          ],
          "font": {
           "color": "#2a3f5f"
          },
          "geo": {
           "bgcolor": "white",
           "lakecolor": "white",
           "landcolor": "#E5ECF6",
           "showlakes": true,
           "showland": true,
           "subunitcolor": "white"
          },
          "hoverlabel": {
           "align": "left"
          },
          "hovermode": "closest",
          "mapbox": {
           "style": "light"
          },
          "paper_bgcolor": "white",
          "plot_bgcolor": "#E5ECF6",
          "polar": {
           "angularaxis": {
            "gridcolor": "white",
            "linecolor": "white",
            "ticks": ""
           },
           "bgcolor": "#E5ECF6",
           "radialaxis": {
            "gridcolor": "white",
            "linecolor": "white",
            "ticks": ""
           }
          },
          "scene": {
           "xaxis": {
            "backgroundcolor": "#E5ECF6",
            "gridcolor": "white",
            "gridwidth": 2,
            "linecolor": "white",
            "showbackground": true,
            "ticks": "",
            "zerolinecolor": "white"
           },
           "yaxis": {
            "backgroundcolor": "#E5ECF6",
            "gridcolor": "white",
            "gridwidth": 2,
            "linecolor": "white",
            "showbackground": true,
            "ticks": "",
            "zerolinecolor": "white"
           },
           "zaxis": {
            "backgroundcolor": "#E5ECF6",
            "gridcolor": "white",
            "gridwidth": 2,
            "linecolor": "white",
            "showbackground": true,
            "ticks": "",
            "zerolinecolor": "white"
           }
          },
          "shapedefaults": {
           "line": {
            "color": "#2a3f5f"
           }
          },
          "ternary": {
           "aaxis": {
            "gridcolor": "white",
            "linecolor": "white",
            "ticks": ""
           },
           "baxis": {
            "gridcolor": "white",
            "linecolor": "white",
            "ticks": ""
           },
           "bgcolor": "#E5ECF6",
           "caxis": {
            "gridcolor": "white",
            "linecolor": "white",
            "ticks": ""
           }
          },
          "title": {
           "x": 0.05
          },
          "xaxis": {
           "automargin": true,
           "gridcolor": "white",
           "linecolor": "white",
           "ticks": "",
           "title": {
            "standoff": 15
           },
           "zerolinecolor": "white",
           "zerolinewidth": 2
          },
          "yaxis": {
           "automargin": true,
           "gridcolor": "white",
           "linecolor": "white",
           "ticks": "",
           "title": {
            "standoff": 15
           },
           "zerolinecolor": "white",
           "zerolinewidth": 2
          }
         }
        },
        "title": {
         "text": "Interactive MAE_Hull_fov for distance 700 mm"
        },
        "xaxis": {
         "anchor": "y",
         "domain": [
          0,
          1
         ],
         "title": {
          "text": "center_x"
         }
        },
        "yaxis": {
         "anchor": "x",
         "domain": [
          0,
          1
         ],
         "title": {
          "text": "center_y"
         }
        }
       }
      }
     },
     "metadata": {},
     "output_type": "display_data"
    },
    {
     "data": {
      "application/vnd.plotly.v1+json": {
       "config": {
        "plotlyServerURL": "https://plot.ly"
       },
       "data": [
        {
         "customdata": [
          [
           "undistorted_GX010192_10_696.jpg",
           1
          ],
          [
           "undistorted_GX010192_11_745.jpg",
           0
          ],
          [
           "undistorted_GX010192_17_1035.jpg",
           0
          ],
          [
           "undistorted_GX010192_25_1553.jpg",
           0
          ],
          [
           "undistorted_GX010192_26_1578.jpg",
           0
          ],
          [
           "undistorted_GX010192_8_593.jpg",
           0
          ],
          [
           "undistorted_GX010192_9_675.jpg",
           1
          ],
          [
           "undistorted_GX010193_10_1039.jpg",
           0
          ],
          [
           "undistorted_GX010193_11_1065.jpg",
           0
          ],
          [
           "undistorted_GX010193_16_1232.jpg",
           0
          ],
          [
           "undistorted_GX010193_17_1264.jpg",
           0
          ],
          [
           "undistorted_GX010193_18_1289.jpg",
           0
          ],
          [
           "undistorted_GX010193_19_1334.jpg",
           0
          ],
          [
           "undistorted_GX010193_20_1365.jpg",
           2
          ],
          [
           "undistorted_GX010193_26_1530.jpg",
           0
          ],
          [
           "undistorted_GX010193_26_1530.jpg",
           1
          ],
          [
           "undistorted_GX010193_27_1553.jpg",
           1
          ],
          [
           "undistorted_GX010193_28_1584.jpg",
           0
          ],
          [
           "undistorted_GX010193_28_1584.jpg",
           1
          ],
          [
           "undistorted_GX010193_3_251.jpg",
           0
          ],
          [
           "undistorted_GX010193_4_283.jpg",
           0
          ],
          [
           "undistorted_GX010193_4_283.jpg",
           1
          ],
          [
           "undistorted_GX010193_5_305.jpg",
           0
          ],
          [
           "undistorted_GX010193_6_330.jpg",
           0
          ],
          [
           "undistorted_GX010193_7_360.jpg",
           0
          ],
          [
           "undistorted_GX010193_7_360.jpg",
           2
          ],
          [
           "undistorted_GX010194_15_231.jpg",
           0
          ],
          [
           "undistorted_GX010194_16_240.jpg",
           0
          ],
          [
           "undistorted_GX010194_17_257.jpg",
           0
          ],
          [
           "undistorted_GX010194_17_257.jpg",
           1
          ],
          [
           "undistorted_GX010194_18_272.jpg",
           0
          ],
          [
           "undistorted_GX010194_18_272.jpg",
           3
          ],
          [
           "undistorted_GX010194_19_285.jpg",
           0
          ],
          [
           "undistorted_GX010194_19_285.jpg",
           1
          ],
          [
           "undistorted_GX010194_20_299.jpg",
           0
          ],
          [
           "undistorted_GX010194_21_312.jpg",
           0
          ],
          [
           "undistorted_GX010194_21_312.jpg",
           1
          ],
          [
           "undistorted_GX010194_22_323.jpg",
           0
          ],
          [
           "undistorted_GX010194_24_352.jpg",
           0
          ],
          [
           "undistorted_GX010194_2_285.jpg",
           0
          ],
          [
           "undistorted_GX010194_2_285.jpg",
           1
          ],
          [
           "undistorted_GX010194_30_407.jpg",
           1
          ],
          [
           "undistorted_GX010194_31_414.jpg",
           0
          ],
          [
           "undistorted_GX010194_36_485.jpg",
           1
          ],
          [
           "undistorted_GX010194_37_496.jpg",
           1
          ],
          [
           "undistorted_GX010194_38_504.jpg",
           1
          ],
          [
           "undistorted_GX010194_39_513.jpg",
           1
          ],
          [
           "undistorted_GX010194_43_570.jpg",
           3
          ],
          [
           "undistorted_GX010194_46_620.jpg",
           1
          ],
          [
           "undistorted_GX010194_47_640.jpg",
           0
          ],
          [
           "undistorted_GX010194_47_640.jpg",
           2
          ],
          [
           "undistorted_GX010194_55_768.jpg",
           0
          ],
          [
           "undistorted_GX010194_55_768.jpg",
           2
          ],
          [
           "undistorted_GX010194_56_784.jpg",
           0
          ],
          [
           "undistorted_GX010194_57_798.jpg",
           0
          ],
          [
           "undistorted_GX010194_58_810.jpg",
           2
          ],
          [
           "undistorted_GX010194_5_757.jpg",
           0
          ],
          [
           "undistorted_GX010194_60_836.jpg",
           0
          ],
          [
           "undistorted_GX010194_61_852.jpg",
           0
          ],
          [
           "undistorted_GX010194_62_878.jpg",
           0
          ],
          [
           "undistorted_GX010194_62_878.jpg",
           1
          ],
          [
           "undistorted_GX010194_63_894.jpg",
           3
          ],
          [
           "undistorted_GX010194_64_911.jpg",
           0
          ],
          [
           "undistorted_GX010194_6_101.jpg",
           1
          ],
          [
           "undistorted_GX010194_6_101.jpg",
           2
          ],
          [
           "undistorted_GX010194_6_845.jpg",
           0
          ],
          [
           "undistorted_GX010194_7_885.jpg",
           0
          ]
         ],
         "hovertemplate": "center_x=%{x}<br>center_y=%{y}<br>image_path=%{customdata[0]}<br>index=%{customdata[1]}<br>MAE_Hull_fov=%{marker.color}<extra></extra>",
         "legendgroup": "",
         "marker": {
          "color": [
           30.331841644183783,
           25.30597255873667,
           13.729196863851255,
           8.275801741028715,
           11.904125923206578,
           25.771515780955667,
           11.960400357946328,
           4.360592915796218,
           10.639981734582904,
           19.25771509571257,
           6.225646219847079,
           10.482568611264725,
           12.185274437177668,
           0.2933852995227255,
           14.108297608826945,
           15.153050486887167,
           12.598852625807863,
           31.477704128304083,
           13.30156657923763,
           21.213984265834256,
           26.759927675230955,
           20.129869245746505,
           25.572139196228164,
           26.309351785632344,
           21.665348331914032,
           21.8694397628978,
           16.218010317281454,
           9.054233210486984,
           26.9945084491566,
           12.258489279988822,
           19.838750106696835,
           21.10218124562272,
           7.530649948925088,
           15.00600055491239,
           14.835142872531437,
           28.9829591156832,
           24.634111518672995,
           17.704924125180582,
           17.58347511613576,
           7.530649948925088,
           15.00600055491239,
           16.043051482385692,
           21.51402242402733,
           6.4369320855997785,
           6.153303189663575,
           9.06409838289403,
           6.331318098134119,
           20.41291098238662,
           23.95730894388049,
           27.865375316328738,
           22.84104616390772,
           14.37253013316797,
           12.07511343450554,
           26.14833902460936,
           20.949239308488814,
           23.364902314762816,
           18.61409718554441,
           17.19002844712756,
           31.95529682675965,
           4.009149069092331,
           22.530355016417783,
           28.501926739222483,
           4.854374498796403,
           26.30937789448498,
           26.51766864166828,
           23.81943345315139,
           30.66444594430357
          ],
          "coloraxis": "coloraxis",
          "symbol": "circle"
         },
         "mode": "markers",
         "name": "",
         "orientation": "v",
         "showlegend": false,
         "type": "scatter",
         "x": [
          354.93975903614455,
          195.42168674698794,
          255.61564617846383,
          295.78639754329816,
          283.9759036144578,
          408.433734939759,
          337.16390954442767,
          294.39759036144574,
          325.96385542168673,
          413.1389719032379,
          359.81821818524094,
          275.6279708678464,
          186.50637707078312,
          89.4578313253012,
          282.21467902861446,
          494.39759036144574,
          222.95180722891564,
          331.92771084337346,
          156.4457831325301,
          384.4578313253012,
          237.07112139966114,
          407.4698795180723,
          265.96385542168673,
          304.4578313253012,
          305.96385542168673,
          304.93299369352405,
          455.96385542168673,
          431.17031602974396,
          211.77731433546685,
          422.4698795180723,
          431.92771084337346,
          220.1302622599774,
          448.433734939759,
          234.26726927240207,
          249.96626153049698,
          247.89156626506022,
          513.9759036144578,
          252.06213525978913,
          230.85093302899094,
          448.433734939759,
          234.26726927240207,
          229.8546039627259,
          251.09807393637047,
          288.5998093938253,
          290.4216867469879,
          288.433734939759,
          287.64733739646084,
          211.6774667027485,
          86.92771084337349,
          58.5664790509695,
          58.4992080136954,
          362.95180722891564,
          365.48192771084337,
          375.4216867469879,
          381.4457831325301,
          385.2791733339608,
          399.93975903614455,
          351.2028485033885,
          331.90064947289153,
          286.4457831325301,
          250.42168674698792,
          246.39470479574547,
          235.96385542168673,
          548.433734939759,
          551.8905897025602,
          334.16753929781623,
          254.6624682323042
         ],
         "xaxis": "x",
         "y": [
          160.54216867469881,
          263.0120481927711,
          90.0549757624247,
          247.38245217196913,
          126.02409638554218,
          243.5542168674699,
          146.40152896743226,
          183.5542168674699,
          126.02409638554218,
          95.55634647966872,
          177.3257483057229,
          214.49277579066268,
          214.1999688205949,
          176.56626506024097,
          249.78487681193525,
          160.06024096385545,
          248.0722891566265,
          265.5421686746988,
          186.50602409638554,
          281.0240963855422,
          280.378469444183,
          198.0722891566265,
          223.5542168674699,
          151.02409638554218,
          79.51807228915663,
          75.08836125753015,
          161.566265060241,
          175.36918180534641,
          261.6603180299322,
          150.06024096385545,
          111.566265060241,
          217.55866728633285,
          76.08433734939763,
          181.6964831984187,
          151.47799204631025,
          111.02409638554218,
          269.51807228915663,
          110.3220597232681,
          102.14655496987956,
          76.08433734939763,
          181.6964831984187,
          253.63105498164532,
          275.9690617940512,
          256.1419383589044,
          208.5542168674699,
          171.566265060241,
          123.57898390436748,
          51.0555405214609,
          96.02409638554218,
          200.3031314711973,
          231.44443006400604,
          228.0722891566265,
          227.10843373493978,
          183.0120481927711,
          146.566265060241,
          98.62451760165663,
          255,
          281.14065147307986,
          271.6272413874247,
          272.04819277108436,
          272.04819277108436,
          266.26372187970634,
          261.08433734939763,
          320.06024096385545,
          305.99815644413593,
          269.36123399849396,
          264.85993534685616
         ],
         "yaxis": "y"
        }
       ],
       "layout": {
        "coloraxis": {
         "colorbar": {
          "title": {
           "text": "MAE_Hull_fov"
          }
         },
         "colorscale": [
          [
           0,
           "rgb(0,104,55)"
          ],
          [
           0.1,
           "rgb(26,152,80)"
          ],
          [
           0.2,
           "rgb(102,189,99)"
          ],
          [
           0.3,
           "rgb(166,217,106)"
          ],
          [
           0.4,
           "rgb(217,239,139)"
          ],
          [
           0.5,
           "rgb(255,255,191)"
          ],
          [
           0.6,
           "rgb(254,224,139)"
          ],
          [
           0.7,
           "rgb(253,174,97)"
          ],
          [
           0.8,
           "rgb(244,109,67)"
          ],
          [
           0.9,
           "rgb(215,48,39)"
          ],
          [
           1,
           "rgb(165,0,38)"
          ]
         ]
        },
        "legend": {
         "tracegroupgap": 0
        },
        "template": {
         "data": {
          "bar": [
           {
            "error_x": {
             "color": "#2a3f5f"
            },
            "error_y": {
             "color": "#2a3f5f"
            },
            "marker": {
             "line": {
              "color": "#E5ECF6",
              "width": 0.5
             },
             "pattern": {
              "fillmode": "overlay",
              "size": 10,
              "solidity": 0.2
             }
            },
            "type": "bar"
           }
          ],
          "barpolar": [
           {
            "marker": {
             "line": {
              "color": "#E5ECF6",
              "width": 0.5
             },
             "pattern": {
              "fillmode": "overlay",
              "size": 10,
              "solidity": 0.2
             }
            },
            "type": "barpolar"
           }
          ],
          "carpet": [
           {
            "aaxis": {
             "endlinecolor": "#2a3f5f",
             "gridcolor": "white",
             "linecolor": "white",
             "minorgridcolor": "white",
             "startlinecolor": "#2a3f5f"
            },
            "baxis": {
             "endlinecolor": "#2a3f5f",
             "gridcolor": "white",
             "linecolor": "white",
             "minorgridcolor": "white",
             "startlinecolor": "#2a3f5f"
            },
            "type": "carpet"
           }
          ],
          "choropleth": [
           {
            "colorbar": {
             "outlinewidth": 0,
             "ticks": ""
            },
            "type": "choropleth"
           }
          ],
          "contour": [
           {
            "colorbar": {
             "outlinewidth": 0,
             "ticks": ""
            },
            "colorscale": [
             [
              0,
              "#0d0887"
             ],
             [
              0.1111111111111111,
              "#46039f"
             ],
             [
              0.2222222222222222,
              "#7201a8"
             ],
             [
              0.3333333333333333,
              "#9c179e"
             ],
             [
              0.4444444444444444,
              "#bd3786"
             ],
             [
              0.5555555555555556,
              "#d8576b"
             ],
             [
              0.6666666666666666,
              "#ed7953"
             ],
             [
              0.7777777777777778,
              "#fb9f3a"
             ],
             [
              0.8888888888888888,
              "#fdca26"
             ],
             [
              1,
              "#f0f921"
             ]
            ],
            "type": "contour"
           }
          ],
          "contourcarpet": [
           {
            "colorbar": {
             "outlinewidth": 0,
             "ticks": ""
            },
            "type": "contourcarpet"
           }
          ],
          "heatmap": [
           {
            "colorbar": {
             "outlinewidth": 0,
             "ticks": ""
            },
            "colorscale": [
             [
              0,
              "#0d0887"
             ],
             [
              0.1111111111111111,
              "#46039f"
             ],
             [
              0.2222222222222222,
              "#7201a8"
             ],
             [
              0.3333333333333333,
              "#9c179e"
             ],
             [
              0.4444444444444444,
              "#bd3786"
             ],
             [
              0.5555555555555556,
              "#d8576b"
             ],
             [
              0.6666666666666666,
              "#ed7953"
             ],
             [
              0.7777777777777778,
              "#fb9f3a"
             ],
             [
              0.8888888888888888,
              "#fdca26"
             ],
             [
              1,
              "#f0f921"
             ]
            ],
            "type": "heatmap"
           }
          ],
          "heatmapgl": [
           {
            "colorbar": {
             "outlinewidth": 0,
             "ticks": ""
            },
            "colorscale": [
             [
              0,
              "#0d0887"
             ],
             [
              0.1111111111111111,
              "#46039f"
             ],
             [
              0.2222222222222222,
              "#7201a8"
             ],
             [
              0.3333333333333333,
              "#9c179e"
             ],
             [
              0.4444444444444444,
              "#bd3786"
             ],
             [
              0.5555555555555556,
              "#d8576b"
             ],
             [
              0.6666666666666666,
              "#ed7953"
             ],
             [
              0.7777777777777778,
              "#fb9f3a"
             ],
             [
              0.8888888888888888,
              "#fdca26"
             ],
             [
              1,
              "#f0f921"
             ]
            ],
            "type": "heatmapgl"
           }
          ],
          "histogram": [
           {
            "marker": {
             "pattern": {
              "fillmode": "overlay",
              "size": 10,
              "solidity": 0.2
             }
            },
            "type": "histogram"
           }
          ],
          "histogram2d": [
           {
            "colorbar": {
             "outlinewidth": 0,
             "ticks": ""
            },
            "colorscale": [
             [
              0,
              "#0d0887"
             ],
             [
              0.1111111111111111,
              "#46039f"
             ],
             [
              0.2222222222222222,
              "#7201a8"
             ],
             [
              0.3333333333333333,
              "#9c179e"
             ],
             [
              0.4444444444444444,
              "#bd3786"
             ],
             [
              0.5555555555555556,
              "#d8576b"
             ],
             [
              0.6666666666666666,
              "#ed7953"
             ],
             [
              0.7777777777777778,
              "#fb9f3a"
             ],
             [
              0.8888888888888888,
              "#fdca26"
             ],
             [
              1,
              "#f0f921"
             ]
            ],
            "type": "histogram2d"
           }
          ],
          "histogram2dcontour": [
           {
            "colorbar": {
             "outlinewidth": 0,
             "ticks": ""
            },
            "colorscale": [
             [
              0,
              "#0d0887"
             ],
             [
              0.1111111111111111,
              "#46039f"
             ],
             [
              0.2222222222222222,
              "#7201a8"
             ],
             [
              0.3333333333333333,
              "#9c179e"
             ],
             [
              0.4444444444444444,
              "#bd3786"
             ],
             [
              0.5555555555555556,
              "#d8576b"
             ],
             [
              0.6666666666666666,
              "#ed7953"
             ],
             [
              0.7777777777777778,
              "#fb9f3a"
             ],
             [
              0.8888888888888888,
              "#fdca26"
             ],
             [
              1,
              "#f0f921"
             ]
            ],
            "type": "histogram2dcontour"
           }
          ],
          "mesh3d": [
           {
            "colorbar": {
             "outlinewidth": 0,
             "ticks": ""
            },
            "type": "mesh3d"
           }
          ],
          "parcoords": [
           {
            "line": {
             "colorbar": {
              "outlinewidth": 0,
              "ticks": ""
             }
            },
            "type": "parcoords"
           }
          ],
          "pie": [
           {
            "automargin": true,
            "type": "pie"
           }
          ],
          "scatter": [
           {
            "fillpattern": {
             "fillmode": "overlay",
             "size": 10,
             "solidity": 0.2
            },
            "type": "scatter"
           }
          ],
          "scatter3d": [
           {
            "line": {
             "colorbar": {
              "outlinewidth": 0,
              "ticks": ""
             }
            },
            "marker": {
             "colorbar": {
              "outlinewidth": 0,
              "ticks": ""
             }
            },
            "type": "scatter3d"
           }
          ],
          "scattercarpet": [
           {
            "marker": {
             "colorbar": {
              "outlinewidth": 0,
              "ticks": ""
             }
            },
            "type": "scattercarpet"
           }
          ],
          "scattergeo": [
           {
            "marker": {
             "colorbar": {
              "outlinewidth": 0,
              "ticks": ""
             }
            },
            "type": "scattergeo"
           }
          ],
          "scattergl": [
           {
            "marker": {
             "colorbar": {
              "outlinewidth": 0,
              "ticks": ""
             }
            },
            "type": "scattergl"
           }
          ],
          "scattermapbox": [
           {
            "marker": {
             "colorbar": {
              "outlinewidth": 0,
              "ticks": ""
             }
            },
            "type": "scattermapbox"
           }
          ],
          "scatterpolar": [
           {
            "marker": {
             "colorbar": {
              "outlinewidth": 0,
              "ticks": ""
             }
            },
            "type": "scatterpolar"
           }
          ],
          "scatterpolargl": [
           {
            "marker": {
             "colorbar": {
              "outlinewidth": 0,
              "ticks": ""
             }
            },
            "type": "scatterpolargl"
           }
          ],
          "scatterternary": [
           {
            "marker": {
             "colorbar": {
              "outlinewidth": 0,
              "ticks": ""
             }
            },
            "type": "scatterternary"
           }
          ],
          "surface": [
           {
            "colorbar": {
             "outlinewidth": 0,
             "ticks": ""
            },
            "colorscale": [
             [
              0,
              "#0d0887"
             ],
             [
              0.1111111111111111,
              "#46039f"
             ],
             [
              0.2222222222222222,
              "#7201a8"
             ],
             [
              0.3333333333333333,
              "#9c179e"
             ],
             [
              0.4444444444444444,
              "#bd3786"
             ],
             [
              0.5555555555555556,
              "#d8576b"
             ],
             [
              0.6666666666666666,
              "#ed7953"
             ],
             [
              0.7777777777777778,
              "#fb9f3a"
             ],
             [
              0.8888888888888888,
              "#fdca26"
             ],
             [
              1,
              "#f0f921"
             ]
            ],
            "type": "surface"
           }
          ],
          "table": [
           {
            "cells": {
             "fill": {
              "color": "#EBF0F8"
             },
             "line": {
              "color": "white"
             }
            },
            "header": {
             "fill": {
              "color": "#C8D4E3"
             },
             "line": {
              "color": "white"
             }
            },
            "type": "table"
           }
          ]
         },
         "layout": {
          "annotationdefaults": {
           "arrowcolor": "#2a3f5f",
           "arrowhead": 0,
           "arrowwidth": 1
          },
          "autotypenumbers": "strict",
          "coloraxis": {
           "colorbar": {
            "outlinewidth": 0,
            "ticks": ""
           }
          },
          "colorscale": {
           "diverging": [
            [
             0,
             "#8e0152"
            ],
            [
             0.1,
             "#c51b7d"
            ],
            [
             0.2,
             "#de77ae"
            ],
            [
             0.3,
             "#f1b6da"
            ],
            [
             0.4,
             "#fde0ef"
            ],
            [
             0.5,
             "#f7f7f7"
            ],
            [
             0.6,
             "#e6f5d0"
            ],
            [
             0.7,
             "#b8e186"
            ],
            [
             0.8,
             "#7fbc41"
            ],
            [
             0.9,
             "#4d9221"
            ],
            [
             1,
             "#276419"
            ]
           ],
           "sequential": [
            [
             0,
             "#0d0887"
            ],
            [
             0.1111111111111111,
             "#46039f"
            ],
            [
             0.2222222222222222,
             "#7201a8"
            ],
            [
             0.3333333333333333,
             "#9c179e"
            ],
            [
             0.4444444444444444,
             "#bd3786"
            ],
            [
             0.5555555555555556,
             "#d8576b"
            ],
            [
             0.6666666666666666,
             "#ed7953"
            ],
            [
             0.7777777777777778,
             "#fb9f3a"
            ],
            [
             0.8888888888888888,
             "#fdca26"
            ],
            [
             1,
             "#f0f921"
            ]
           ],
           "sequentialminus": [
            [
             0,
             "#0d0887"
            ],
            [
             0.1111111111111111,
             "#46039f"
            ],
            [
             0.2222222222222222,
             "#7201a8"
            ],
            [
             0.3333333333333333,
             "#9c179e"
            ],
            [
             0.4444444444444444,
             "#bd3786"
            ],
            [
             0.5555555555555556,
             "#d8576b"
            ],
            [
             0.6666666666666666,
             "#ed7953"
            ],
            [
             0.7777777777777778,
             "#fb9f3a"
            ],
            [
             0.8888888888888888,
             "#fdca26"
            ],
            [
             1,
             "#f0f921"
            ]
           ]
          },
          "colorway": [
           "#636efa",
           "#EF553B",
           "#00cc96",
           "#ab63fa",
           "#FFA15A",
           "#19d3f3",
           "#FF6692",
           "#B6E880",
           "#FF97FF",
           "#FECB52"
          ],
          "font": {
           "color": "#2a3f5f"
          },
          "geo": {
           "bgcolor": "white",
           "lakecolor": "white",
           "landcolor": "#E5ECF6",
           "showlakes": true,
           "showland": true,
           "subunitcolor": "white"
          },
          "hoverlabel": {
           "align": "left"
          },
          "hovermode": "closest",
          "mapbox": {
           "style": "light"
          },
          "paper_bgcolor": "white",
          "plot_bgcolor": "#E5ECF6",
          "polar": {
           "angularaxis": {
            "gridcolor": "white",
            "linecolor": "white",
            "ticks": ""
           },
           "bgcolor": "#E5ECF6",
           "radialaxis": {
            "gridcolor": "white",
            "linecolor": "white",
            "ticks": ""
           }
          },
          "scene": {
           "xaxis": {
            "backgroundcolor": "#E5ECF6",
            "gridcolor": "white",
            "gridwidth": 2,
            "linecolor": "white",
            "showbackground": true,
            "ticks": "",
            "zerolinecolor": "white"
           },
           "yaxis": {
            "backgroundcolor": "#E5ECF6",
            "gridcolor": "white",
            "gridwidth": 2,
            "linecolor": "white",
            "showbackground": true,
            "ticks": "",
            "zerolinecolor": "white"
           },
           "zaxis": {
            "backgroundcolor": "#E5ECF6",
            "gridcolor": "white",
            "gridwidth": 2,
            "linecolor": "white",
            "showbackground": true,
            "ticks": "",
            "zerolinecolor": "white"
           }
          },
          "shapedefaults": {
           "line": {
            "color": "#2a3f5f"
           }
          },
          "ternary": {
           "aaxis": {
            "gridcolor": "white",
            "linecolor": "white",
            "ticks": ""
           },
           "baxis": {
            "gridcolor": "white",
            "linecolor": "white",
            "ticks": ""
           },
           "bgcolor": "#E5ECF6",
           "caxis": {
            "gridcolor": "white",
            "linecolor": "white",
            "ticks": ""
           }
          },
          "title": {
           "x": 0.05
          },
          "xaxis": {
           "automargin": true,
           "gridcolor": "white",
           "linecolor": "white",
           "ticks": "",
           "title": {
            "standoff": 15
           },
           "zerolinecolor": "white",
           "zerolinewidth": 2
          },
          "yaxis": {
           "automargin": true,
           "gridcolor": "white",
           "linecolor": "white",
           "ticks": "",
           "title": {
            "standoff": 15
           },
           "zerolinecolor": "white",
           "zerolinewidth": 2
          }
         }
        },
        "title": {
         "text": "Interactive MAE_Hull_fov for distance 410 mm"
        },
        "xaxis": {
         "anchor": "y",
         "domain": [
          0,
          1
         ],
         "title": {
          "text": "center_x"
         }
        },
        "yaxis": {
         "anchor": "x",
         "domain": [
          0,
          1
         ],
         "title": {
          "text": "center_y"
         }
        }
       }
      }
     },
     "metadata": {},
     "output_type": "display_data"
    }
   ],
   "source": [
    "import ast\n",
    "import folium\n",
    "from folium.plugins import MarkerCluster    \n",
    "import pandas as pd\n",
    "import plotly.express as px\n",
    "\n",
    "# Read the data\n",
    "df = pd.read_csv('molt.csv')\n",
    "samples_index = pd.read_csv('samples_index.csv')  # Ensure this is read correctly\n",
    "\n",
    "# Update the 'not' column based on samples_index\n",
    "for _, sample in samples_index.iterrows():\n",
    "    df.loc[(df['image_path'] == sample['sample']) & (df['index'] == sample['index']), 'not'] = 'not'\n",
    "df.to_csv('molt_CLEAN.csv')\n",
    "\n",
    "# Clean the data\n",
    "df_clean = df[df['not'] != 'not']\n",
    "df_clean = df_clean.dropna()\n",
    "\n",
    "# Extract center_x and center_y from the 'center' column\n",
    "df_clean['center_x'] = df_clean['center'].apply(lambda x: ast.literal_eval(x)[0])\n",
    "df_clean['center_y'] = df_clean['center'].apply(lambda x: ast.literal_eval(x)[1])\n",
    "\n",
    "# Filter the DataFrame for specific conditions\n",
    "df_positive = df_clean[(df_clean['Hull_Length_fov'] > df_clean['true_length'])]\n",
    "\n",
    "# Create a new DataFrame for visualization with necessary columns\n",
    "df_visual = df_positive[['center_x', 'center_y', 'Error_percentage_Hull_fov', 'image_path', 'index', 'pond', 'MAE_Hull_fov']]\n",
    "\n",
    "# Ensure image paths are correct\n",
    "df_visual['image_path'] = df_visual['image_path'].apply(lambda x: x.replace('\\\\', '/'))\n",
    "\n",
    "# Adjust center_y coordinate to be opposite to the image\n",
    "df_visual['center_y'] = 360 - df_visual['center_y']\n",
    "\n",
    "# Generate scatter plots\n",
    "for error in ['Error_percentage_Hull_fov', 'MAE_Hull_fov']:\n",
    "    for pond in ['right', 'square']:\n",
    "        df_pond = df_visual[df_visual['pond'] == pond]\n",
    "\n",
    "        if pond == 'right':\n",
    "            height = 700\n",
    "        else:\n",
    "            height = 410\n",
    "\n",
    "        # Create an interactive scatter plot using plotly\n",
    "        fig = px.scatter(df_pond, \n",
    "                         x='center_x', \n",
    "                         y='center_y', \n",
    "                         color=error,\n",
    "                         hover_data=['image_path', 'index'],\n",
    "                         color_continuous_scale='RdYlGn_r', \n",
    "                         title=f'Interactive {error} for distance {height} mm')\n",
    "\n",
    "        # Customize the color bar\n",
    "        fig.update_layout(coloraxis_colorbar=dict(title=error))\n",
    "\n",
    "        # Show the plot\n",
    "        fig.show()"
   ]
  },
  {
   "cell_type": "code",
   "execution_count": 36,
   "metadata": {},
   "outputs": [
    {
     "data": {
      "application/vnd.plotly.v1+json": {
       "config": {
        "plotlyServerURL": "https://plot.ly"
       },
       "data": [
        {
         "alignmentgroup": "True",
         "boxpoints": "all",
         "customdata": [
          [
           "undistorted_GX010191_101_1265.jpg",
           0
          ],
          [
           "undistorted_GX010191_103_1289.jpg",
           0
          ],
          [
           "undistorted_GX010191_105_1312.jpg",
           0
          ],
          [
           "undistorted_GX010191_107_1330.jpg",
           0
          ],
          [
           "undistorted_GX010191_108_1337.jpg",
           2
          ],
          [
           "undistorted_GX010191_10_370.jpg",
           0
          ],
          [
           "undistorted_GX010191_110_1355.jpg",
           0
          ],
          [
           "undistorted_GX010191_110_1355.jpg",
           1
          ],
          [
           "undistorted_GX010191_110_1355.jpg",
           3
          ],
          [
           "undistorted_GX010191_116_1399.jpg",
           0
          ],
          [
           "undistorted_GX010191_118_1415.jpg",
           0
          ],
          [
           "undistorted_GX010191_11_391.jpg",
           0
          ],
          [
           "undistorted_GX010191_12_410.jpg",
           3
          ],
          [
           "undistorted_GX010191_13_439.jpg",
           0
          ],
          [
           "undistorted_GX010191_14_460.jpg",
           0
          ],
          [
           "undistorted_GX010191_16_495.jpg",
           0
          ],
          [
           "undistorted_GX010191_26_199.jpg",
           0
          ],
          [
           "undistorted_GX010191_27_215.jpg",
           1
          ],
          [
           "undistorted_GX010191_28_230.jpg",
           0
          ],
          [
           "undistorted_GX010191_28_230.jpg",
           1
          ],
          [
           "undistorted_GX010191_28_230.jpg",
           4
          ],
          [
           "undistorted_GX010191_28_230.jpg",
           5
          ],
          [
           "undistorted_GX010191_29_257.jpg",
           1
          ],
          [
           "undistorted_GX010191_31_283.jpg",
           1
          ],
          [
           "undistorted_GX010191_32_1049.jpg",
           0
          ],
          [
           "undistorted_GX010191_32_305.jpg",
           0
          ],
          [
           "undistorted_GX010191_32_305.jpg",
           2
          ],
          [
           "undistorted_GX010191_33_1087.jpg",
           1
          ],
          [
           "undistorted_GX010191_33_331.jpg",
           0
          ],
          [
           "undistorted_GX010191_33_331.jpg",
           2
          ],
          [
           "undistorted_GX010191_34_1128.jpg",
           0
          ],
          [
           "undistorted_GX010191_34_1128.jpg",
           1
          ],
          [
           "undistorted_GX010191_35_1167.jpg",
           0
          ],
          [
           "undistorted_GX010191_35_1167.jpg",
           1
          ],
          [
           "undistorted_GX010191_35_1167.jpg",
           4
          ],
          [
           "undistorted_GX010191_35_367.jpg",
           0
          ],
          [
           "undistorted_GX010191_36_1195.jpg",
           0
          ],
          [
           "undistorted_GX010191_36_1195.jpg",
           1
          ],
          [
           "undistorted_GX010191_36_1195.jpg",
           2
          ],
          [
           "undistorted_GX010191_36_381.jpg",
           0
          ],
          [
           "undistorted_GX010191_37_1242.jpg",
           0
          ],
          [
           "undistorted_GX010191_37_392.jpg",
           0
          ],
          [
           "undistorted_GX010191_38_1266.jpg",
           0
          ],
          [
           "undistorted_GX010191_38_404.jpg",
           0
          ],
          [
           "undistorted_GX010191_39_1284.jpg",
           0
          ],
          [
           "undistorted_GX010191_41_445.jpg",
           0
          ],
          [
           "undistorted_GX010191_42_1339.jpg",
           0
          ],
          [
           "undistorted_GX010191_42_1339.jpg",
           1
          ],
          [
           "undistorted_GX010191_42_457.jpg",
           0
          ],
          [
           "undistorted_GX010191_43_1353.jpg",
           0
          ],
          [
           "undistorted_GX010191_43_1353.jpg",
           3
          ],
          [
           "undistorted_GX010191_43_468.jpg",
           0
          ],
          [
           "undistorted_GX010191_43_468.jpg",
           2
          ],
          [
           "undistorted_GX010191_43_468.jpg",
           4
          ],
          [
           "undistorted_GX010191_44_478.jpg",
           0
          ],
          [
           "undistorted_GX010191_44_478.jpg",
           1
          ],
          [
           "undistorted_GX010191_45_489.jpg",
           0
          ],
          [
           "undistorted_GX010191_46_497.jpg",
           0
          ],
          [
           "undistorted_GX010191_46_497.jpg",
           1
          ],
          [
           "undistorted_GX010191_47_507.jpg",
           0
          ],
          [
           "undistorted_GX010191_5_190.jpg",
           0
          ],
          [
           "undistorted_GX010191_5_190.jpg",
           2
          ],
          [
           "undistorted_GX010191_6_219.jpg",
           0
          ],
          [
           "undistorted_GX010191_88_1016.jpg",
           0
          ],
          [
           "undistorted_GX010191_8_309.jpg",
           1
          ],
          [
           "undistorted_GX010191_8_309.jpg",
           2
          ],
          [
           "undistorted_GX010191_91_1066.jpg",
           2
          ],
          [
           "undistorted_GX010191_92_1087.jpg",
           1
          ],
          [
           "undistorted_GX010191_94_1132.jpg",
           0
          ],
          [
           "undistorted_GX010191_95_1157.jpg",
           0
          ],
          [
           "undistorted_GX010191_95_1157.jpg",
           1
          ],
          [
           "undistorted_GX010191_96_1175.jpg",
           0
          ],
          [
           "undistorted_GX010191_97_1190.jpg",
           0
          ],
          [
           "undistorted_GX010191_97_1190.jpg",
           1
          ],
          [
           "undistorted_GX010191_98_1211.jpg",
           0
          ],
          [
           "undistorted_GX010191_98_1211.jpg",
           1
          ],
          [
           "undistorted_GX010191_99_1233.jpg",
           1
          ],
          [
           "undistorted_GX010191_9_346.jpg",
           2
          ],
          [
           "undistorted_GX010192_10_696.jpg",
           1
          ],
          [
           "undistorted_GX010192_11_745.jpg",
           0
          ],
          [
           "undistorted_GX010192_17_1035.jpg",
           0
          ],
          [
           "undistorted_GX010192_25_1553.jpg",
           0
          ],
          [
           "undistorted_GX010192_26_1578.jpg",
           0
          ],
          [
           "undistorted_GX010192_8_593.jpg",
           0
          ],
          [
           "undistorted_GX010192_9_675.jpg",
           1
          ],
          [
           "undistorted_GX010193_10_1039.jpg",
           0
          ],
          [
           "undistorted_GX010193_11_1065.jpg",
           0
          ],
          [
           "undistorted_GX010193_16_1232.jpg",
           0
          ],
          [
           "undistorted_GX010193_17_1264.jpg",
           0
          ],
          [
           "undistorted_GX010193_18_1289.jpg",
           0
          ],
          [
           "undistorted_GX010193_19_1334.jpg",
           0
          ],
          [
           "undistorted_GX010193_20_1365.jpg",
           2
          ],
          [
           "undistorted_GX010193_26_1530.jpg",
           0
          ],
          [
           "undistorted_GX010193_26_1530.jpg",
           1
          ],
          [
           "undistorted_GX010193_27_1553.jpg",
           1
          ],
          [
           "undistorted_GX010193_28_1584.jpg",
           0
          ],
          [
           "undistorted_GX010193_28_1584.jpg",
           1
          ],
          [
           "undistorted_GX010193_3_251.jpg",
           0
          ],
          [
           "undistorted_GX010193_4_283.jpg",
           0
          ],
          [
           "undistorted_GX010193_4_283.jpg",
           1
          ],
          [
           "undistorted_GX010193_5_305.jpg",
           0
          ],
          [
           "undistorted_GX010193_6_330.jpg",
           0
          ],
          [
           "undistorted_GX010193_7_360.jpg",
           0
          ],
          [
           "undistorted_GX010193_7_360.jpg",
           2
          ],
          [
           "undistorted_GX010194_15_231.jpg",
           0
          ],
          [
           "undistorted_GX010194_16_240.jpg",
           0
          ],
          [
           "undistorted_GX010194_17_257.jpg",
           0
          ],
          [
           "undistorted_GX010194_17_257.jpg",
           1
          ],
          [
           "undistorted_GX010194_18_272.jpg",
           0
          ],
          [
           "undistorted_GX010194_18_272.jpg",
           3
          ],
          [
           "undistorted_GX010194_19_285.jpg",
           0
          ],
          [
           "undistorted_GX010194_19_285.jpg",
           1
          ],
          [
           "undistorted_GX010194_20_299.jpg",
           0
          ],
          [
           "undistorted_GX010194_21_312.jpg",
           0
          ],
          [
           "undistorted_GX010194_21_312.jpg",
           1
          ],
          [
           "undistorted_GX010194_22_323.jpg",
           0
          ],
          [
           "undistorted_GX010194_24_352.jpg",
           0
          ],
          [
           "undistorted_GX010194_2_285.jpg",
           0
          ],
          [
           "undistorted_GX010194_2_285.jpg",
           1
          ],
          [
           "undistorted_GX010194_30_407.jpg",
           1
          ],
          [
           "undistorted_GX010194_31_414.jpg",
           0
          ],
          [
           "undistorted_GX010194_36_485.jpg",
           1
          ],
          [
           "undistorted_GX010194_37_496.jpg",
           1
          ],
          [
           "undistorted_GX010194_38_504.jpg",
           1
          ],
          [
           "undistorted_GX010194_39_513.jpg",
           1
          ],
          [
           "undistorted_GX010194_43_570.jpg",
           3
          ],
          [
           "undistorted_GX010194_46_620.jpg",
           1
          ],
          [
           "undistorted_GX010194_47_640.jpg",
           0
          ],
          [
           "undistorted_GX010194_47_640.jpg",
           2
          ],
          [
           "undistorted_GX010194_55_768.jpg",
           0
          ],
          [
           "undistorted_GX010194_55_768.jpg",
           2
          ],
          [
           "undistorted_GX010194_56_784.jpg",
           0
          ],
          [
           "undistorted_GX010194_57_798.jpg",
           0
          ],
          [
           "undistorted_GX010194_58_810.jpg",
           2
          ],
          [
           "undistorted_GX010194_5_757.jpg",
           0
          ],
          [
           "undistorted_GX010194_60_836.jpg",
           0
          ],
          [
           "undistorted_GX010194_61_852.jpg",
           0
          ],
          [
           "undistorted_GX010194_62_878.jpg",
           0
          ],
          [
           "undistorted_GX010194_62_878.jpg",
           1
          ],
          [
           "undistorted_GX010194_63_894.jpg",
           3
          ],
          [
           "undistorted_GX010194_64_911.jpg",
           0
          ],
          [
           "undistorted_GX010194_6_101.jpg",
           1
          ],
          [
           "undistorted_GX010194_6_101.jpg",
           2
          ],
          [
           "undistorted_GX010194_6_845.jpg",
           0
          ],
          [
           "undistorted_GX010194_7_885.jpg",
           0
          ]
         ],
         "hovertemplate": "pond=%{x}<br>Error_percentage_Hull_fov=%{y}<br>image_path=%{customdata[0]}<br>index=%{customdata[1]}<extra></extra>",
         "legendgroup": "",
         "marker": {
          "color": "#636efa"
         },
         "name": "",
         "notched": false,
         "offsetgroup": "",
         "orientation": "v",
         "showlegend": false,
         "type": "box",
         "x": [
          "right",
          "right",
          "right",
          "right",
          "right",
          "right",
          "right",
          "right",
          "right",
          "right",
          "right",
          "right",
          "right",
          "right",
          "right",
          "right",
          "right",
          "right",
          "right",
          "right",
          "right",
          "right",
          "right",
          "right",
          "right",
          "right",
          "right",
          "right",
          "right",
          "right",
          "right",
          "right",
          "right",
          "right",
          "right",
          "right",
          "right",
          "right",
          "right",
          "right",
          "right",
          "right",
          "right",
          "right",
          "right",
          "right",
          "right",
          "right",
          "right",
          "right",
          "right",
          "right",
          "right",
          "right",
          "right",
          "right",
          "right",
          "right",
          "right",
          "right",
          "right",
          "right",
          "right",
          "right",
          "right",
          "right",
          "right",
          "right",
          "right",
          "right",
          "right",
          "right",
          "right",
          "right",
          "right",
          "right",
          "right",
          "right",
          "square",
          "square",
          "square",
          "square",
          "square",
          "square",
          "square",
          "square",
          "square",
          "square",
          "square",
          "square",
          "square",
          "square",
          "square",
          "square",
          "square",
          "square",
          "square",
          "square",
          "square",
          "square",
          "square",
          "square",
          "square",
          "square",
          "square",
          "square",
          "square",
          "square",
          "square",
          "square",
          "square",
          "square",
          "square",
          "square",
          "square",
          "square",
          "square",
          "square",
          "square",
          "square",
          "square",
          "square",
          "square",
          "square",
          "square",
          "square",
          "square",
          "square",
          "square",
          "square",
          "square",
          "square",
          "square",
          "square",
          "square",
          "square",
          "square",
          "square",
          "square",
          "square",
          "square",
          "square",
          "square",
          "square",
          "square"
         ],
         "x0": " ",
         "xaxis": "x",
         "y": [
          2.4842346434788447,
          5.733508552970277,
          3.275578001253561,
          8.287221373202765,
          17.171978811340942,
          1.1016452499603502,
          3.162501760179942,
          13.605927626997508,
          1.394599301558061,
          7.013275544567724,
          10.099267767086891,
          12.494981369970636,
          14.043030846322182,
          3.617197047420832,
          13.29279536845598,
          7.032674790056028,
          15.63090648611292,
          16.2635824965225,
          14.042999769570232,
          21.092228543735853,
          18.308366327862476,
          19.666213775516635,
          11.773876110786668,
          4.015091888782743,
          7.151919747335916,
          7.301023761326965,
          14.049468484515677,
          5.724861516687664,
          4.333016915254291,
          5.205069970599728,
          3.3394602921656733,
          10.193701153023987,
          9.074479199800924,
          10.907285697744868,
          9.084948686963909,
          0.6198222302085729,
          13.969557574316063,
          8.333805621882385,
          13.494754317503563,
          1.3385607504801555,
          17.241992439853593,
          14.557440937126136,
          2.7364107557984627,
          14.143491613423931,
          4.4934320398002585,
          16.366693244691156,
          2.853057737898077,
          5.649214687839961,
          9.348564873267112,
          4.605327099084727,
          2.030795989449356,
          12.66943873037598,
          4.218474960056033,
          15.899319604258563,
          6.02557383526258,
          1.671963865398109,
          19.37579704343185,
          15.975524664709727,
          9.550356133023216,
          16.37752966251501,
          9.888159778257991,
          10.043944454104658,
          8.170282243230373,
          13.959517579007958,
          16.63752479870418,
          16.22199701905948,
          7.141264506611754,
          5.724861516687664,
          14.997317628353397,
          9.029110486213089,
          8.438598198682255,
          5.811244519437556,
          12.137707995853331,
          2.736395125683943,
          7.5092563141051105,
          12.42590978283848,
          9.325466296817927,
          8.843883870430682,
          21.21107807285579,
          17.69648430680886,
          9.600836967728153,
          5.787273944775325,
          8.324563582661943,
          18.022039007661306,
          8.3639163342282,
          2.422551619886788,
          5.9111009636571685,
          13.466933633365432,
          4.353598755137817,
          7.3304675603249825,
          8.521170935089279,
          0.205164545120787,
          7.83794311601497,
          10.596538802018998,
          6.999362569893258,
          22.012380509303554,
          7.389759210687571,
          11.785546814352363,
          18.713236136525143,
          11.183260692081392,
          17.882614822537178,
          18.3981481018408,
          15.15059323910072,
          15.29331451950895,
          9.01000573182303,
          5.030129561381658,
          18.877278635773845,
          6.810271822216013,
          11.021527837053798,
          14.756770101834068,
          4.1836944160694935,
          10.493706681756915,
          10.37422578498702,
          20.26780357740084,
          13.685617510373888,
          12.381065821804604,
          12.29613644485018,
          4.1836944160694935,
          10.493706681756915,
          11.218917120549436,
          15.04477092589324,
          4.501351108811034,
          4.303009223540961,
          6.338530337688134,
          4.427495173520363,
          11.3405061013259,
          13.309616079933608,
          15.480764064627076,
          15.972759555180224,
          7.984738962871095,
          6.708396352503078,
          14.526855013671865,
          11.638466282493786,
          12.980501285979344,
          10.341165103080227,
          12.020998914075216,
          22.34636141731444,
          2.227305038384628,
          15.755493018473976,
          19.931417300155584,
          2.696874721553557,
          18.398166359779708,
          18.543824224942853,
          16.65694647073524,
          21.443668492519976
         ],
         "y0": " ",
         "yaxis": "y"
        }
       ],
       "layout": {
        "boxmode": "group",
        "legend": {
         "tracegroupgap": 0
        },
        "template": {
         "data": {
          "bar": [
           {
            "error_x": {
             "color": "#2a3f5f"
            },
            "error_y": {
             "color": "#2a3f5f"
            },
            "marker": {
             "line": {
              "color": "#E5ECF6",
              "width": 0.5
             },
             "pattern": {
              "fillmode": "overlay",
              "size": 10,
              "solidity": 0.2
             }
            },
            "type": "bar"
           }
          ],
          "barpolar": [
           {
            "marker": {
             "line": {
              "color": "#E5ECF6",
              "width": 0.5
             },
             "pattern": {
              "fillmode": "overlay",
              "size": 10,
              "solidity": 0.2
             }
            },
            "type": "barpolar"
           }
          ],
          "carpet": [
           {
            "aaxis": {
             "endlinecolor": "#2a3f5f",
             "gridcolor": "white",
             "linecolor": "white",
             "minorgridcolor": "white",
             "startlinecolor": "#2a3f5f"
            },
            "baxis": {
             "endlinecolor": "#2a3f5f",
             "gridcolor": "white",
             "linecolor": "white",
             "minorgridcolor": "white",
             "startlinecolor": "#2a3f5f"
            },
            "type": "carpet"
           }
          ],
          "choropleth": [
           {
            "colorbar": {
             "outlinewidth": 0,
             "ticks": ""
            },
            "type": "choropleth"
           }
          ],
          "contour": [
           {
            "colorbar": {
             "outlinewidth": 0,
             "ticks": ""
            },
            "colorscale": [
             [
              0,
              "#0d0887"
             ],
             [
              0.1111111111111111,
              "#46039f"
             ],
             [
              0.2222222222222222,
              "#7201a8"
             ],
             [
              0.3333333333333333,
              "#9c179e"
             ],
             [
              0.4444444444444444,
              "#bd3786"
             ],
             [
              0.5555555555555556,
              "#d8576b"
             ],
             [
              0.6666666666666666,
              "#ed7953"
             ],
             [
              0.7777777777777778,
              "#fb9f3a"
             ],
             [
              0.8888888888888888,
              "#fdca26"
             ],
             [
              1,
              "#f0f921"
             ]
            ],
            "type": "contour"
           }
          ],
          "contourcarpet": [
           {
            "colorbar": {
             "outlinewidth": 0,
             "ticks": ""
            },
            "type": "contourcarpet"
           }
          ],
          "heatmap": [
           {
            "colorbar": {
             "outlinewidth": 0,
             "ticks": ""
            },
            "colorscale": [
             [
              0,
              "#0d0887"
             ],
             [
              0.1111111111111111,
              "#46039f"
             ],
             [
              0.2222222222222222,
              "#7201a8"
             ],
             [
              0.3333333333333333,
              "#9c179e"
             ],
             [
              0.4444444444444444,
              "#bd3786"
             ],
             [
              0.5555555555555556,
              "#d8576b"
             ],
             [
              0.6666666666666666,
              "#ed7953"
             ],
             [
              0.7777777777777778,
              "#fb9f3a"
             ],
             [
              0.8888888888888888,
              "#fdca26"
             ],
             [
              1,
              "#f0f921"
             ]
            ],
            "type": "heatmap"
           }
          ],
          "heatmapgl": [
           {
            "colorbar": {
             "outlinewidth": 0,
             "ticks": ""
            },
            "colorscale": [
             [
              0,
              "#0d0887"
             ],
             [
              0.1111111111111111,
              "#46039f"
             ],
             [
              0.2222222222222222,
              "#7201a8"
             ],
             [
              0.3333333333333333,
              "#9c179e"
             ],
             [
              0.4444444444444444,
              "#bd3786"
             ],
             [
              0.5555555555555556,
              "#d8576b"
             ],
             [
              0.6666666666666666,
              "#ed7953"
             ],
             [
              0.7777777777777778,
              "#fb9f3a"
             ],
             [
              0.8888888888888888,
              "#fdca26"
             ],
             [
              1,
              "#f0f921"
             ]
            ],
            "type": "heatmapgl"
           }
          ],
          "histogram": [
           {
            "marker": {
             "pattern": {
              "fillmode": "overlay",
              "size": 10,
              "solidity": 0.2
             }
            },
            "type": "histogram"
           }
          ],
          "histogram2d": [
           {
            "colorbar": {
             "outlinewidth": 0,
             "ticks": ""
            },
            "colorscale": [
             [
              0,
              "#0d0887"
             ],
             [
              0.1111111111111111,
              "#46039f"
             ],
             [
              0.2222222222222222,
              "#7201a8"
             ],
             [
              0.3333333333333333,
              "#9c179e"
             ],
             [
              0.4444444444444444,
              "#bd3786"
             ],
             [
              0.5555555555555556,
              "#d8576b"
             ],
             [
              0.6666666666666666,
              "#ed7953"
             ],
             [
              0.7777777777777778,
              "#fb9f3a"
             ],
             [
              0.8888888888888888,
              "#fdca26"
             ],
             [
              1,
              "#f0f921"
             ]
            ],
            "type": "histogram2d"
           }
          ],
          "histogram2dcontour": [
           {
            "colorbar": {
             "outlinewidth": 0,
             "ticks": ""
            },
            "colorscale": [
             [
              0,
              "#0d0887"
             ],
             [
              0.1111111111111111,
              "#46039f"
             ],
             [
              0.2222222222222222,
              "#7201a8"
             ],
             [
              0.3333333333333333,
              "#9c179e"
             ],
             [
              0.4444444444444444,
              "#bd3786"
             ],
             [
              0.5555555555555556,
              "#d8576b"
             ],
             [
              0.6666666666666666,
              "#ed7953"
             ],
             [
              0.7777777777777778,
              "#fb9f3a"
             ],
             [
              0.8888888888888888,
              "#fdca26"
             ],
             [
              1,
              "#f0f921"
             ]
            ],
            "type": "histogram2dcontour"
           }
          ],
          "mesh3d": [
           {
            "colorbar": {
             "outlinewidth": 0,
             "ticks": ""
            },
            "type": "mesh3d"
           }
          ],
          "parcoords": [
           {
            "line": {
             "colorbar": {
              "outlinewidth": 0,
              "ticks": ""
             }
            },
            "type": "parcoords"
           }
          ],
          "pie": [
           {
            "automargin": true,
            "type": "pie"
           }
          ],
          "scatter": [
           {
            "fillpattern": {
             "fillmode": "overlay",
             "size": 10,
             "solidity": 0.2
            },
            "type": "scatter"
           }
          ],
          "scatter3d": [
           {
            "line": {
             "colorbar": {
              "outlinewidth": 0,
              "ticks": ""
             }
            },
            "marker": {
             "colorbar": {
              "outlinewidth": 0,
              "ticks": ""
             }
            },
            "type": "scatter3d"
           }
          ],
          "scattercarpet": [
           {
            "marker": {
             "colorbar": {
              "outlinewidth": 0,
              "ticks": ""
             }
            },
            "type": "scattercarpet"
           }
          ],
          "scattergeo": [
           {
            "marker": {
             "colorbar": {
              "outlinewidth": 0,
              "ticks": ""
             }
            },
            "type": "scattergeo"
           }
          ],
          "scattergl": [
           {
            "marker": {
             "colorbar": {
              "outlinewidth": 0,
              "ticks": ""
             }
            },
            "type": "scattergl"
           }
          ],
          "scattermapbox": [
           {
            "marker": {
             "colorbar": {
              "outlinewidth": 0,
              "ticks": ""
             }
            },
            "type": "scattermapbox"
           }
          ],
          "scatterpolar": [
           {
            "marker": {
             "colorbar": {
              "outlinewidth": 0,
              "ticks": ""
             }
            },
            "type": "scatterpolar"
           }
          ],
          "scatterpolargl": [
           {
            "marker": {
             "colorbar": {
              "outlinewidth": 0,
              "ticks": ""
             }
            },
            "type": "scatterpolargl"
           }
          ],
          "scatterternary": [
           {
            "marker": {
             "colorbar": {
              "outlinewidth": 0,
              "ticks": ""
             }
            },
            "type": "scatterternary"
           }
          ],
          "surface": [
           {
            "colorbar": {
             "outlinewidth": 0,
             "ticks": ""
            },
            "colorscale": [
             [
              0,
              "#0d0887"
             ],
             [
              0.1111111111111111,
              "#46039f"
             ],
             [
              0.2222222222222222,
              "#7201a8"
             ],
             [
              0.3333333333333333,
              "#9c179e"
             ],
             [
              0.4444444444444444,
              "#bd3786"
             ],
             [
              0.5555555555555556,
              "#d8576b"
             ],
             [
              0.6666666666666666,
              "#ed7953"
             ],
             [
              0.7777777777777778,
              "#fb9f3a"
             ],
             [
              0.8888888888888888,
              "#fdca26"
             ],
             [
              1,
              "#f0f921"
             ]
            ],
            "type": "surface"
           }
          ],
          "table": [
           {
            "cells": {
             "fill": {
              "color": "#EBF0F8"
             },
             "line": {
              "color": "white"
             }
            },
            "header": {
             "fill": {
              "color": "#C8D4E3"
             },
             "line": {
              "color": "white"
             }
            },
            "type": "table"
           }
          ]
         },
         "layout": {
          "annotationdefaults": {
           "arrowcolor": "#2a3f5f",
           "arrowhead": 0,
           "arrowwidth": 1
          },
          "autotypenumbers": "strict",
          "coloraxis": {
           "colorbar": {
            "outlinewidth": 0,
            "ticks": ""
           }
          },
          "colorscale": {
           "diverging": [
            [
             0,
             "#8e0152"
            ],
            [
             0.1,
             "#c51b7d"
            ],
            [
             0.2,
             "#de77ae"
            ],
            [
             0.3,
             "#f1b6da"
            ],
            [
             0.4,
             "#fde0ef"
            ],
            [
             0.5,
             "#f7f7f7"
            ],
            [
             0.6,
             "#e6f5d0"
            ],
            [
             0.7,
             "#b8e186"
            ],
            [
             0.8,
             "#7fbc41"
            ],
            [
             0.9,
             "#4d9221"
            ],
            [
             1,
             "#276419"
            ]
           ],
           "sequential": [
            [
             0,
             "#0d0887"
            ],
            [
             0.1111111111111111,
             "#46039f"
            ],
            [
             0.2222222222222222,
             "#7201a8"
            ],
            [
             0.3333333333333333,
             "#9c179e"
            ],
            [
             0.4444444444444444,
             "#bd3786"
            ],
            [
             0.5555555555555556,
             "#d8576b"
            ],
            [
             0.6666666666666666,
             "#ed7953"
            ],
            [
             0.7777777777777778,
             "#fb9f3a"
            ],
            [
             0.8888888888888888,
             "#fdca26"
            ],
            [
             1,
             "#f0f921"
            ]
           ],
           "sequentialminus": [
            [
             0,
             "#0d0887"
            ],
            [
             0.1111111111111111,
             "#46039f"
            ],
            [
             0.2222222222222222,
             "#7201a8"
            ],
            [
             0.3333333333333333,
             "#9c179e"
            ],
            [
             0.4444444444444444,
             "#bd3786"
            ],
            [
             0.5555555555555556,
             "#d8576b"
            ],
            [
             0.6666666666666666,
             "#ed7953"
            ],
            [
             0.7777777777777778,
             "#fb9f3a"
            ],
            [
             0.8888888888888888,
             "#fdca26"
            ],
            [
             1,
             "#f0f921"
            ]
           ]
          },
          "colorway": [
           "#636efa",
           "#EF553B",
           "#00cc96",
           "#ab63fa",
           "#FFA15A",
           "#19d3f3",
           "#FF6692",
           "#B6E880",
           "#FF97FF",
           "#FECB52"
          ],
          "font": {
           "color": "#2a3f5f"
          },
          "geo": {
           "bgcolor": "white",
           "lakecolor": "white",
           "landcolor": "#E5ECF6",
           "showlakes": true,
           "showland": true,
           "subunitcolor": "white"
          },
          "hoverlabel": {
           "align": "left"
          },
          "hovermode": "closest",
          "mapbox": {
           "style": "light"
          },
          "paper_bgcolor": "white",
          "plot_bgcolor": "#E5ECF6",
          "polar": {
           "angularaxis": {
            "gridcolor": "white",
            "linecolor": "white",
            "ticks": ""
           },
           "bgcolor": "#E5ECF6",
           "radialaxis": {
            "gridcolor": "white",
            "linecolor": "white",
            "ticks": ""
           }
          },
          "scene": {
           "xaxis": {
            "backgroundcolor": "#E5ECF6",
            "gridcolor": "white",
            "gridwidth": 2,
            "linecolor": "white",
            "showbackground": true,
            "ticks": "",
            "zerolinecolor": "white"
           },
           "yaxis": {
            "backgroundcolor": "#E5ECF6",
            "gridcolor": "white",
            "gridwidth": 2,
            "linecolor": "white",
            "showbackground": true,
            "ticks": "",
            "zerolinecolor": "white"
           },
           "zaxis": {
            "backgroundcolor": "#E5ECF6",
            "gridcolor": "white",
            "gridwidth": 2,
            "linecolor": "white",
            "showbackground": true,
            "ticks": "",
            "zerolinecolor": "white"
           }
          },
          "shapedefaults": {
           "line": {
            "color": "#2a3f5f"
           }
          },
          "ternary": {
           "aaxis": {
            "gridcolor": "white",
            "linecolor": "white",
            "ticks": ""
           },
           "baxis": {
            "gridcolor": "white",
            "linecolor": "white",
            "ticks": ""
           },
           "bgcolor": "#E5ECF6",
           "caxis": {
            "gridcolor": "white",
            "linecolor": "white",
            "ticks": ""
           }
          },
          "title": {
           "x": 0.05
          },
          "xaxis": {
           "automargin": true,
           "gridcolor": "white",
           "linecolor": "white",
           "ticks": "",
           "title": {
            "standoff": 15
           },
           "zerolinecolor": "white",
           "zerolinewidth": 2
          },
          "yaxis": {
           "automargin": true,
           "gridcolor": "white",
           "linecolor": "white",
           "ticks": "",
           "title": {
            "standoff": 15
           },
           "zerolinecolor": "white",
           "zerolinewidth": 2
          }
         }
        },
        "title": {
         "text": "Box plot of Error_percentage_Hull_fov for different ponds"
        },
        "xaxis": {
         "anchor": "y",
         "domain": [
          0,
          1
         ],
         "title": {
          "text": "pond"
         }
        },
        "yaxis": {
         "anchor": "x",
         "domain": [
          0,
          1
         ],
         "title": {
          "text": "Error_percentage_Hull_fov"
         }
        }
       }
      }
     },
     "metadata": {},
     "output_type": "display_data"
    },
    {
     "data": {
      "application/vnd.plotly.v1+json": {
       "config": {
        "plotlyServerURL": "https://plot.ly"
       },
       "data": [
        {
         "alignmentgroup": "True",
         "boxpoints": "all",
         "customdata": [
          [
           "undistorted_GX010191_101_1265.jpg",
           0
          ],
          [
           "undistorted_GX010191_103_1289.jpg",
           0
          ],
          [
           "undistorted_GX010191_105_1312.jpg",
           0
          ],
          [
           "undistorted_GX010191_107_1330.jpg",
           0
          ],
          [
           "undistorted_GX010191_108_1337.jpg",
           2
          ],
          [
           "undistorted_GX010191_10_370.jpg",
           0
          ],
          [
           "undistorted_GX010191_110_1355.jpg",
           0
          ],
          [
           "undistorted_GX010191_110_1355.jpg",
           1
          ],
          [
           "undistorted_GX010191_110_1355.jpg",
           3
          ],
          [
           "undistorted_GX010191_116_1399.jpg",
           0
          ],
          [
           "undistorted_GX010191_118_1415.jpg",
           0
          ],
          [
           "undistorted_GX010191_11_391.jpg",
           0
          ],
          [
           "undistorted_GX010191_12_410.jpg",
           3
          ],
          [
           "undistorted_GX010191_13_439.jpg",
           0
          ],
          [
           "undistorted_GX010191_14_460.jpg",
           0
          ],
          [
           "undistorted_GX010191_16_495.jpg",
           0
          ],
          [
           "undistorted_GX010191_26_199.jpg",
           0
          ],
          [
           "undistorted_GX010191_27_215.jpg",
           1
          ],
          [
           "undistorted_GX010191_28_230.jpg",
           0
          ],
          [
           "undistorted_GX010191_28_230.jpg",
           1
          ],
          [
           "undistorted_GX010191_28_230.jpg",
           4
          ],
          [
           "undistorted_GX010191_28_230.jpg",
           5
          ],
          [
           "undistorted_GX010191_29_257.jpg",
           1
          ],
          [
           "undistorted_GX010191_31_283.jpg",
           1
          ],
          [
           "undistorted_GX010191_32_1049.jpg",
           0
          ],
          [
           "undistorted_GX010191_32_305.jpg",
           0
          ],
          [
           "undistorted_GX010191_32_305.jpg",
           2
          ],
          [
           "undistorted_GX010191_33_1087.jpg",
           1
          ],
          [
           "undistorted_GX010191_33_331.jpg",
           0
          ],
          [
           "undistorted_GX010191_33_331.jpg",
           2
          ],
          [
           "undistorted_GX010191_34_1128.jpg",
           0
          ],
          [
           "undistorted_GX010191_34_1128.jpg",
           1
          ],
          [
           "undistorted_GX010191_35_1167.jpg",
           0
          ],
          [
           "undistorted_GX010191_35_1167.jpg",
           1
          ],
          [
           "undistorted_GX010191_35_1167.jpg",
           4
          ],
          [
           "undistorted_GX010191_35_367.jpg",
           0
          ],
          [
           "undistorted_GX010191_36_1195.jpg",
           0
          ],
          [
           "undistorted_GX010191_36_1195.jpg",
           1
          ],
          [
           "undistorted_GX010191_36_1195.jpg",
           2
          ],
          [
           "undistorted_GX010191_36_381.jpg",
           0
          ],
          [
           "undistorted_GX010191_37_1242.jpg",
           0
          ],
          [
           "undistorted_GX010191_37_392.jpg",
           0
          ],
          [
           "undistorted_GX010191_38_1266.jpg",
           0
          ],
          [
           "undistorted_GX010191_38_404.jpg",
           0
          ],
          [
           "undistorted_GX010191_39_1284.jpg",
           0
          ],
          [
           "undistorted_GX010191_41_445.jpg",
           0
          ],
          [
           "undistorted_GX010191_42_1339.jpg",
           0
          ],
          [
           "undistorted_GX010191_42_1339.jpg",
           1
          ],
          [
           "undistorted_GX010191_42_457.jpg",
           0
          ],
          [
           "undistorted_GX010191_43_1353.jpg",
           0
          ],
          [
           "undistorted_GX010191_43_1353.jpg",
           3
          ],
          [
           "undistorted_GX010191_43_468.jpg",
           0
          ],
          [
           "undistorted_GX010191_43_468.jpg",
           2
          ],
          [
           "undistorted_GX010191_43_468.jpg",
           4
          ],
          [
           "undistorted_GX010191_44_478.jpg",
           0
          ],
          [
           "undistorted_GX010191_44_478.jpg",
           1
          ],
          [
           "undistorted_GX010191_45_489.jpg",
           0
          ],
          [
           "undistorted_GX010191_46_497.jpg",
           0
          ],
          [
           "undistorted_GX010191_46_497.jpg",
           1
          ],
          [
           "undistorted_GX010191_47_507.jpg",
           0
          ],
          [
           "undistorted_GX010191_5_190.jpg",
           0
          ],
          [
           "undistorted_GX010191_5_190.jpg",
           2
          ],
          [
           "undistorted_GX010191_6_219.jpg",
           0
          ],
          [
           "undistorted_GX010191_88_1016.jpg",
           0
          ],
          [
           "undistorted_GX010191_8_309.jpg",
           1
          ],
          [
           "undistorted_GX010191_8_309.jpg",
           2
          ],
          [
           "undistorted_GX010191_91_1066.jpg",
           2
          ],
          [
           "undistorted_GX010191_92_1087.jpg",
           1
          ],
          [
           "undistorted_GX010191_94_1132.jpg",
           0
          ],
          [
           "undistorted_GX010191_95_1157.jpg",
           0
          ],
          [
           "undistorted_GX010191_95_1157.jpg",
           1
          ],
          [
           "undistorted_GX010191_96_1175.jpg",
           0
          ],
          [
           "undistorted_GX010191_97_1190.jpg",
           0
          ],
          [
           "undistorted_GX010191_97_1190.jpg",
           1
          ],
          [
           "undistorted_GX010191_98_1211.jpg",
           0
          ],
          [
           "undistorted_GX010191_98_1211.jpg",
           1
          ],
          [
           "undistorted_GX010191_99_1233.jpg",
           1
          ],
          [
           "undistorted_GX010191_9_346.jpg",
           2
          ],
          [
           "undistorted_GX010192_10_696.jpg",
           1
          ],
          [
           "undistorted_GX010192_11_745.jpg",
           0
          ],
          [
           "undistorted_GX010192_17_1035.jpg",
           0
          ],
          [
           "undistorted_GX010192_25_1553.jpg",
           0
          ],
          [
           "undistorted_GX010192_26_1578.jpg",
           0
          ],
          [
           "undistorted_GX010192_8_593.jpg",
           0
          ],
          [
           "undistorted_GX010192_9_675.jpg",
           1
          ],
          [
           "undistorted_GX010193_10_1039.jpg",
           0
          ],
          [
           "undistorted_GX010193_11_1065.jpg",
           0
          ],
          [
           "undistorted_GX010193_16_1232.jpg",
           0
          ],
          [
           "undistorted_GX010193_17_1264.jpg",
           0
          ],
          [
           "undistorted_GX010193_18_1289.jpg",
           0
          ],
          [
           "undistorted_GX010193_19_1334.jpg",
           0
          ],
          [
           "undistorted_GX010193_20_1365.jpg",
           2
          ],
          [
           "undistorted_GX010193_26_1530.jpg",
           0
          ],
          [
           "undistorted_GX010193_26_1530.jpg",
           1
          ],
          [
           "undistorted_GX010193_27_1553.jpg",
           1
          ],
          [
           "undistorted_GX010193_28_1584.jpg",
           0
          ],
          [
           "undistorted_GX010193_28_1584.jpg",
           1
          ],
          [
           "undistorted_GX010193_3_251.jpg",
           0
          ],
          [
           "undistorted_GX010193_4_283.jpg",
           0
          ],
          [
           "undistorted_GX010193_4_283.jpg",
           1
          ],
          [
           "undistorted_GX010193_5_305.jpg",
           0
          ],
          [
           "undistorted_GX010193_6_330.jpg",
           0
          ],
          [
           "undistorted_GX010193_7_360.jpg",
           0
          ],
          [
           "undistorted_GX010193_7_360.jpg",
           2
          ],
          [
           "undistorted_GX010194_15_231.jpg",
           0
          ],
          [
           "undistorted_GX010194_16_240.jpg",
           0
          ],
          [
           "undistorted_GX010194_17_257.jpg",
           0
          ],
          [
           "undistorted_GX010194_17_257.jpg",
           1
          ],
          [
           "undistorted_GX010194_18_272.jpg",
           0
          ],
          [
           "undistorted_GX010194_18_272.jpg",
           3
          ],
          [
           "undistorted_GX010194_19_285.jpg",
           0
          ],
          [
           "undistorted_GX010194_19_285.jpg",
           1
          ],
          [
           "undistorted_GX010194_20_299.jpg",
           0
          ],
          [
           "undistorted_GX010194_21_312.jpg",
           0
          ],
          [
           "undistorted_GX010194_21_312.jpg",
           1
          ],
          [
           "undistorted_GX010194_22_323.jpg",
           0
          ],
          [
           "undistorted_GX010194_24_352.jpg",
           0
          ],
          [
           "undistorted_GX010194_2_285.jpg",
           0
          ],
          [
           "undistorted_GX010194_2_285.jpg",
           1
          ],
          [
           "undistorted_GX010194_30_407.jpg",
           1
          ],
          [
           "undistorted_GX010194_31_414.jpg",
           0
          ],
          [
           "undistorted_GX010194_36_485.jpg",
           1
          ],
          [
           "undistorted_GX010194_37_496.jpg",
           1
          ],
          [
           "undistorted_GX010194_38_504.jpg",
           1
          ],
          [
           "undistorted_GX010194_39_513.jpg",
           1
          ],
          [
           "undistorted_GX010194_43_570.jpg",
           3
          ],
          [
           "undistorted_GX010194_46_620.jpg",
           1
          ],
          [
           "undistorted_GX010194_47_640.jpg",
           0
          ],
          [
           "undistorted_GX010194_47_640.jpg",
           2
          ],
          [
           "undistorted_GX010194_55_768.jpg",
           0
          ],
          [
           "undistorted_GX010194_55_768.jpg",
           2
          ],
          [
           "undistorted_GX010194_56_784.jpg",
           0
          ],
          [
           "undistorted_GX010194_57_798.jpg",
           0
          ],
          [
           "undistorted_GX010194_58_810.jpg",
           2
          ],
          [
           "undistorted_GX010194_5_757.jpg",
           0
          ],
          [
           "undistorted_GX010194_60_836.jpg",
           0
          ],
          [
           "undistorted_GX010194_61_852.jpg",
           0
          ],
          [
           "undistorted_GX010194_62_878.jpg",
           0
          ],
          [
           "undistorted_GX010194_62_878.jpg",
           1
          ],
          [
           "undistorted_GX010194_63_894.jpg",
           3
          ],
          [
           "undistorted_GX010194_64_911.jpg",
           0
          ],
          [
           "undistorted_GX010194_6_101.jpg",
           1
          ],
          [
           "undistorted_GX010194_6_101.jpg",
           2
          ],
          [
           "undistorted_GX010194_6_845.jpg",
           0
          ],
          [
           "undistorted_GX010194_7_885.jpg",
           0
          ]
         ],
         "hovertemplate": "pond=%{x}<br>MAE_Hull_fov=%{y}<br>image_path=%{customdata[0]}<br>index=%{customdata[1]}<extra></extra>",
         "legendgroup": "",
         "marker": {
          "color": "#636efa"
         },
         "name": "",
         "notched": false,
         "offsetgroup": "",
         "orientation": "v",
         "showlegend": false,
         "type": "box",
         "x": [
          "right",
          "right",
          "right",
          "right",
          "right",
          "right",
          "right",
          "right",
          "right",
          "right",
          "right",
          "right",
          "right",
          "right",
          "right",
          "right",
          "right",
          "right",
          "right",
          "right",
          "right",
          "right",
          "right",
          "right",
          "right",
          "right",
          "right",
          "right",
          "right",
          "right",
          "right",
          "right",
          "right",
          "right",
          "right",
          "right",
          "right",
          "right",
          "right",
          "right",
          "right",
          "right",
          "right",
          "right",
          "right",
          "right",
          "right",
          "right",
          "right",
          "right",
          "right",
          "right",
          "right",
          "right",
          "right",
          "right",
          "right",
          "right",
          "right",
          "right",
          "right",
          "right",
          "right",
          "right",
          "right",
          "right",
          "right",
          "right",
          "right",
          "right",
          "right",
          "right",
          "right",
          "right",
          "right",
          "right",
          "right",
          "right",
          "square",
          "square",
          "square",
          "square",
          "square",
          "square",
          "square",
          "square",
          "square",
          "square",
          "square",
          "square",
          "square",
          "square",
          "square",
          "square",
          "square",
          "square",
          "square",
          "square",
          "square",
          "square",
          "square",
          "square",
          "square",
          "square",
          "square",
          "square",
          "square",
          "square",
          "square",
          "square",
          "square",
          "square",
          "square",
          "square",
          "square",
          "square",
          "square",
          "square",
          "square",
          "square",
          "square",
          "square",
          "square",
          "square",
          "square",
          "square",
          "square",
          "square",
          "square",
          "square",
          "square",
          "square",
          "square",
          "square",
          "square",
          "square",
          "square",
          "square",
          "square",
          "square",
          "square",
          "square",
          "square",
          "square",
          "square"
         ],
         "x0": " ",
         "xaxis": "x",
         "y": [
          3.552455540174748,
          8.198917230747497,
          4.684076541792592,
          11.850726563679956,
          24.555929700217547,
          1.575352707443301,
          5.692503168323896,
          19.456476506606435,
          1.994277001228028,
          12.623895980221905,
          18.17868198075641,
          17.867823359058008,
          25.277455523379928,
          5.172591777811789,
          23.92703166322076,
          10.05672494978012,
          28.135631675003253,
          23.256922970027176,
          25.27739958522642,
          30.161886817542268,
          26.180963848843334,
          28.12268569898879,
          21.192976999416004,
          7.227165399808939,
          12.87345554520465,
          13.141842770388536,
          20.090739932857417,
          10.304750730037796,
          7.799430447457723,
          9.36912594707951,
          6.011028525898212,
          14.576992648824302,
          16.334062559641666,
          15.597418547775163,
          16.352907636535036,
          0.8863457891982591,
          25.145203633768915,
          11.91734203929181,
          19.29749867403009,
          1.9141418731866224,
          24.65604918899064,
          20.817140540090374,
          3.9130673807918015,
          20.225193007196225,
          8.088177671640466,
          23.40437133990835,
          4.0798725651942505,
          10.16858643811193,
          13.368447768771972,
          6.58561775169116,
          3.655432781008841,
          22.804989714676765,
          6.032419192880127,
          22.736027034089744,
          8.616570584425489,
          3.009534957716596,
          27.707389772107547,
          22.84500027053491,
          13.6570092702232,
          23.41986741739646,
          17.798687600864383,
          18.079100017388384,
          14.706508037814672,
          25.127131642214323,
          23.79166046214698,
          29.19959463430706,
          12.854276111901155,
          10.304750730037796,
          21.446164208545355,
          16.25239887518356,
          12.067195424115624,
          10.4602401349876,
          21.847874392536,
          3.913045029728039,
          10.738236529170308,
          22.36663760910926,
          13.335416804449636,
          15.918990966775226,
          30.331841644183783,
          25.30597255873667,
          13.729196863851255,
          8.275801741028715,
          11.904125923206578,
          25.771515780955667,
          11.960400357946328,
          4.360592915796218,
          10.639981734582904,
          19.25771509571257,
          6.225646219847079,
          10.482568611264725,
          12.185274437177668,
          0.2933852995227255,
          14.108297608826945,
          15.153050486887167,
          12.598852625807863,
          31.477704128304083,
          13.30156657923763,
          21.213984265834256,
          26.759927675230955,
          20.129869245746505,
          25.572139196228164,
          26.309351785632344,
          21.665348331914032,
          21.8694397628978,
          16.218010317281454,
          9.054233210486984,
          26.9945084491566,
          12.258489279988822,
          19.838750106696835,
          21.10218124562272,
          7.530649948925088,
          15.00600055491239,
          14.835142872531437,
          28.9829591156832,
          24.634111518672995,
          17.704924125180582,
          17.58347511613576,
          7.530649948925088,
          15.00600055491239,
          16.043051482385692,
          21.51402242402733,
          6.4369320855997785,
          6.153303189663575,
          9.06409838289403,
          6.331318098134119,
          20.41291098238662,
          23.95730894388049,
          27.865375316328738,
          22.84104616390772,
          14.37253013316797,
          12.07511343450554,
          26.14833902460936,
          20.949239308488814,
          23.364902314762816,
          18.61409718554441,
          17.19002844712756,
          31.95529682675965,
          4.009149069092331,
          22.530355016417783,
          28.501926739222483,
          4.854374498796403,
          26.30937789448498,
          26.51766864166828,
          23.81943345315139,
          30.66444594430357
         ],
         "y0": " ",
         "yaxis": "y"
        }
       ],
       "layout": {
        "boxmode": "group",
        "legend": {
         "tracegroupgap": 0
        },
        "template": {
         "data": {
          "bar": [
           {
            "error_x": {
             "color": "#2a3f5f"
            },
            "error_y": {
             "color": "#2a3f5f"
            },
            "marker": {
             "line": {
              "color": "#E5ECF6",
              "width": 0.5
             },
             "pattern": {
              "fillmode": "overlay",
              "size": 10,
              "solidity": 0.2
             }
            },
            "type": "bar"
           }
          ],
          "barpolar": [
           {
            "marker": {
             "line": {
              "color": "#E5ECF6",
              "width": 0.5
             },
             "pattern": {
              "fillmode": "overlay",
              "size": 10,
              "solidity": 0.2
             }
            },
            "type": "barpolar"
           }
          ],
          "carpet": [
           {
            "aaxis": {
             "endlinecolor": "#2a3f5f",
             "gridcolor": "white",
             "linecolor": "white",
             "minorgridcolor": "white",
             "startlinecolor": "#2a3f5f"
            },
            "baxis": {
             "endlinecolor": "#2a3f5f",
             "gridcolor": "white",
             "linecolor": "white",
             "minorgridcolor": "white",
             "startlinecolor": "#2a3f5f"
            },
            "type": "carpet"
           }
          ],
          "choropleth": [
           {
            "colorbar": {
             "outlinewidth": 0,
             "ticks": ""
            },
            "type": "choropleth"
           }
          ],
          "contour": [
           {
            "colorbar": {
             "outlinewidth": 0,
             "ticks": ""
            },
            "colorscale": [
             [
              0,
              "#0d0887"
             ],
             [
              0.1111111111111111,
              "#46039f"
             ],
             [
              0.2222222222222222,
              "#7201a8"
             ],
             [
              0.3333333333333333,
              "#9c179e"
             ],
             [
              0.4444444444444444,
              "#bd3786"
             ],
             [
              0.5555555555555556,
              "#d8576b"
             ],
             [
              0.6666666666666666,
              "#ed7953"
             ],
             [
              0.7777777777777778,
              "#fb9f3a"
             ],
             [
              0.8888888888888888,
              "#fdca26"
             ],
             [
              1,
              "#f0f921"
             ]
            ],
            "type": "contour"
           }
          ],
          "contourcarpet": [
           {
            "colorbar": {
             "outlinewidth": 0,
             "ticks": ""
            },
            "type": "contourcarpet"
           }
          ],
          "heatmap": [
           {
            "colorbar": {
             "outlinewidth": 0,
             "ticks": ""
            },
            "colorscale": [
             [
              0,
              "#0d0887"
             ],
             [
              0.1111111111111111,
              "#46039f"
             ],
             [
              0.2222222222222222,
              "#7201a8"
             ],
             [
              0.3333333333333333,
              "#9c179e"
             ],
             [
              0.4444444444444444,
              "#bd3786"
             ],
             [
              0.5555555555555556,
              "#d8576b"
             ],
             [
              0.6666666666666666,
              "#ed7953"
             ],
             [
              0.7777777777777778,
              "#fb9f3a"
             ],
             [
              0.8888888888888888,
              "#fdca26"
             ],
             [
              1,
              "#f0f921"
             ]
            ],
            "type": "heatmap"
           }
          ],
          "heatmapgl": [
           {
            "colorbar": {
             "outlinewidth": 0,
             "ticks": ""
            },
            "colorscale": [
             [
              0,
              "#0d0887"
             ],
             [
              0.1111111111111111,
              "#46039f"
             ],
             [
              0.2222222222222222,
              "#7201a8"
             ],
             [
              0.3333333333333333,
              "#9c179e"
             ],
             [
              0.4444444444444444,
              "#bd3786"
             ],
             [
              0.5555555555555556,
              "#d8576b"
             ],
             [
              0.6666666666666666,
              "#ed7953"
             ],
             [
              0.7777777777777778,
              "#fb9f3a"
             ],
             [
              0.8888888888888888,
              "#fdca26"
             ],
             [
              1,
              "#f0f921"
             ]
            ],
            "type": "heatmapgl"
           }
          ],
          "histogram": [
           {
            "marker": {
             "pattern": {
              "fillmode": "overlay",
              "size": 10,
              "solidity": 0.2
             }
            },
            "type": "histogram"
           }
          ],
          "histogram2d": [
           {
            "colorbar": {
             "outlinewidth": 0,
             "ticks": ""
            },
            "colorscale": [
             [
              0,
              "#0d0887"
             ],
             [
              0.1111111111111111,
              "#46039f"
             ],
             [
              0.2222222222222222,
              "#7201a8"
             ],
             [
              0.3333333333333333,
              "#9c179e"
             ],
             [
              0.4444444444444444,
              "#bd3786"
             ],
             [
              0.5555555555555556,
              "#d8576b"
             ],
             [
              0.6666666666666666,
              "#ed7953"
             ],
             [
              0.7777777777777778,
              "#fb9f3a"
             ],
             [
              0.8888888888888888,
              "#fdca26"
             ],
             [
              1,
              "#f0f921"
             ]
            ],
            "type": "histogram2d"
           }
          ],
          "histogram2dcontour": [
           {
            "colorbar": {
             "outlinewidth": 0,
             "ticks": ""
            },
            "colorscale": [
             [
              0,
              "#0d0887"
             ],
             [
              0.1111111111111111,
              "#46039f"
             ],
             [
              0.2222222222222222,
              "#7201a8"
             ],
             [
              0.3333333333333333,
              "#9c179e"
             ],
             [
              0.4444444444444444,
              "#bd3786"
             ],
             [
              0.5555555555555556,
              "#d8576b"
             ],
             [
              0.6666666666666666,
              "#ed7953"
             ],
             [
              0.7777777777777778,
              "#fb9f3a"
             ],
             [
              0.8888888888888888,
              "#fdca26"
             ],
             [
              1,
              "#f0f921"
             ]
            ],
            "type": "histogram2dcontour"
           }
          ],
          "mesh3d": [
           {
            "colorbar": {
             "outlinewidth": 0,
             "ticks": ""
            },
            "type": "mesh3d"
           }
          ],
          "parcoords": [
           {
            "line": {
             "colorbar": {
              "outlinewidth": 0,
              "ticks": ""
             }
            },
            "type": "parcoords"
           }
          ],
          "pie": [
           {
            "automargin": true,
            "type": "pie"
           }
          ],
          "scatter": [
           {
            "fillpattern": {
             "fillmode": "overlay",
             "size": 10,
             "solidity": 0.2
            },
            "type": "scatter"
           }
          ],
          "scatter3d": [
           {
            "line": {
             "colorbar": {
              "outlinewidth": 0,
              "ticks": ""
             }
            },
            "marker": {
             "colorbar": {
              "outlinewidth": 0,
              "ticks": ""
             }
            },
            "type": "scatter3d"
           }
          ],
          "scattercarpet": [
           {
            "marker": {
             "colorbar": {
              "outlinewidth": 0,
              "ticks": ""
             }
            },
            "type": "scattercarpet"
           }
          ],
          "scattergeo": [
           {
            "marker": {
             "colorbar": {
              "outlinewidth": 0,
              "ticks": ""
             }
            },
            "type": "scattergeo"
           }
          ],
          "scattergl": [
           {
            "marker": {
             "colorbar": {
              "outlinewidth": 0,
              "ticks": ""
             }
            },
            "type": "scattergl"
           }
          ],
          "scattermapbox": [
           {
            "marker": {
             "colorbar": {
              "outlinewidth": 0,
              "ticks": ""
             }
            },
            "type": "scattermapbox"
           }
          ],
          "scatterpolar": [
           {
            "marker": {
             "colorbar": {
              "outlinewidth": 0,
              "ticks": ""
             }
            },
            "type": "scatterpolar"
           }
          ],
          "scatterpolargl": [
           {
            "marker": {
             "colorbar": {
              "outlinewidth": 0,
              "ticks": ""
             }
            },
            "type": "scatterpolargl"
           }
          ],
          "scatterternary": [
           {
            "marker": {
             "colorbar": {
              "outlinewidth": 0,
              "ticks": ""
             }
            },
            "type": "scatterternary"
           }
          ],
          "surface": [
           {
            "colorbar": {
             "outlinewidth": 0,
             "ticks": ""
            },
            "colorscale": [
             [
              0,
              "#0d0887"
             ],
             [
              0.1111111111111111,
              "#46039f"
             ],
             [
              0.2222222222222222,
              "#7201a8"
             ],
             [
              0.3333333333333333,
              "#9c179e"
             ],
             [
              0.4444444444444444,
              "#bd3786"
             ],
             [
              0.5555555555555556,
              "#d8576b"
             ],
             [
              0.6666666666666666,
              "#ed7953"
             ],
             [
              0.7777777777777778,
              "#fb9f3a"
             ],
             [
              0.8888888888888888,
              "#fdca26"
             ],
             [
              1,
              "#f0f921"
             ]
            ],
            "type": "surface"
           }
          ],
          "table": [
           {
            "cells": {
             "fill": {
              "color": "#EBF0F8"
             },
             "line": {
              "color": "white"
             }
            },
            "header": {
             "fill": {
              "color": "#C8D4E3"
             },
             "line": {
              "color": "white"
             }
            },
            "type": "table"
           }
          ]
         },
         "layout": {
          "annotationdefaults": {
           "arrowcolor": "#2a3f5f",
           "arrowhead": 0,
           "arrowwidth": 1
          },
          "autotypenumbers": "strict",
          "coloraxis": {
           "colorbar": {
            "outlinewidth": 0,
            "ticks": ""
           }
          },
          "colorscale": {
           "diverging": [
            [
             0,
             "#8e0152"
            ],
            [
             0.1,
             "#c51b7d"
            ],
            [
             0.2,
             "#de77ae"
            ],
            [
             0.3,
             "#f1b6da"
            ],
            [
             0.4,
             "#fde0ef"
            ],
            [
             0.5,
             "#f7f7f7"
            ],
            [
             0.6,
             "#e6f5d0"
            ],
            [
             0.7,
             "#b8e186"
            ],
            [
             0.8,
             "#7fbc41"
            ],
            [
             0.9,
             "#4d9221"
            ],
            [
             1,
             "#276419"
            ]
           ],
           "sequential": [
            [
             0,
             "#0d0887"
            ],
            [
             0.1111111111111111,
             "#46039f"
            ],
            [
             0.2222222222222222,
             "#7201a8"
            ],
            [
             0.3333333333333333,
             "#9c179e"
            ],
            [
             0.4444444444444444,
             "#bd3786"
            ],
            [
             0.5555555555555556,
             "#d8576b"
            ],
            [
             0.6666666666666666,
             "#ed7953"
            ],
            [
             0.7777777777777778,
             "#fb9f3a"
            ],
            [
             0.8888888888888888,
             "#fdca26"
            ],
            [
             1,
             "#f0f921"
            ]
           ],
           "sequentialminus": [
            [
             0,
             "#0d0887"
            ],
            [
             0.1111111111111111,
             "#46039f"
            ],
            [
             0.2222222222222222,
             "#7201a8"
            ],
            [
             0.3333333333333333,
             "#9c179e"
            ],
            [
             0.4444444444444444,
             "#bd3786"
            ],
            [
             0.5555555555555556,
             "#d8576b"
            ],
            [
             0.6666666666666666,
             "#ed7953"
            ],
            [
             0.7777777777777778,
             "#fb9f3a"
            ],
            [
             0.8888888888888888,
             "#fdca26"
            ],
            [
             1,
             "#f0f921"
            ]
           ]
          },
          "colorway": [
           "#636efa",
           "#EF553B",
           "#00cc96",
           "#ab63fa",
           "#FFA15A",
           "#19d3f3",
           "#FF6692",
           "#B6E880",
           "#FF97FF",
           "#FECB52"
          ],
          "font": {
           "color": "#2a3f5f"
          },
          "geo": {
           "bgcolor": "white",
           "lakecolor": "white",
           "landcolor": "#E5ECF6",
           "showlakes": true,
           "showland": true,
           "subunitcolor": "white"
          },
          "hoverlabel": {
           "align": "left"
          },
          "hovermode": "closest",
          "mapbox": {
           "style": "light"
          },
          "paper_bgcolor": "white",
          "plot_bgcolor": "#E5ECF6",
          "polar": {
           "angularaxis": {
            "gridcolor": "white",
            "linecolor": "white",
            "ticks": ""
           },
           "bgcolor": "#E5ECF6",
           "radialaxis": {
            "gridcolor": "white",
            "linecolor": "white",
            "ticks": ""
           }
          },
          "scene": {
           "xaxis": {
            "backgroundcolor": "#E5ECF6",
            "gridcolor": "white",
            "gridwidth": 2,
            "linecolor": "white",
            "showbackground": true,
            "ticks": "",
            "zerolinecolor": "white"
           },
           "yaxis": {
            "backgroundcolor": "#E5ECF6",
            "gridcolor": "white",
            "gridwidth": 2,
            "linecolor": "white",
            "showbackground": true,
            "ticks": "",
            "zerolinecolor": "white"
           },
           "zaxis": {
            "backgroundcolor": "#E5ECF6",
            "gridcolor": "white",
            "gridwidth": 2,
            "linecolor": "white",
            "showbackground": true,
            "ticks": "",
            "zerolinecolor": "white"
           }
          },
          "shapedefaults": {
           "line": {
            "color": "#2a3f5f"
           }
          },
          "ternary": {
           "aaxis": {
            "gridcolor": "white",
            "linecolor": "white",
            "ticks": ""
           },
           "baxis": {
            "gridcolor": "white",
            "linecolor": "white",
            "ticks": ""
           },
           "bgcolor": "#E5ECF6",
           "caxis": {
            "gridcolor": "white",
            "linecolor": "white",
            "ticks": ""
           }
          },
          "title": {
           "x": 0.05
          },
          "xaxis": {
           "automargin": true,
           "gridcolor": "white",
           "linecolor": "white",
           "ticks": "",
           "title": {
            "standoff": 15
           },
           "zerolinecolor": "white",
           "zerolinewidth": 2
          },
          "yaxis": {
           "automargin": true,
           "gridcolor": "white",
           "linecolor": "white",
           "ticks": "",
           "title": {
            "standoff": 15
           },
           "zerolinecolor": "white",
           "zerolinewidth": 2
          }
         }
        },
        "title": {
         "text": "Box plot of MAE_Hull_fov for different ponds"
        },
        "xaxis": {
         "anchor": "y",
         "domain": [
          0,
          1
         ],
         "title": {
          "text": "pond"
         }
        },
        "yaxis": {
         "anchor": "x",
         "domain": [
          0,
          1
         ],
         "title": {
          "text": "MAE_Hull_fov"
         }
        }
       }
      }
     },
     "metadata": {},
     "output_type": "display_data"
    }
   ],
   "source": [
    "for error in ['Error_percentage_Hull_fov', 'MAE_Hull_fov']:\n",
    "\n",
    "    # Create a box plot using plotly\n",
    "    fig = px.box(df_visual,\n",
    "                    x='pond', \n",
    "                    y=error, \n",
    "                    points=\"all\",  # Show all points\n",
    "                    hover_data=['image_path', 'index'],  # Include hover data\n",
    "                    title=f'Box plot of {error} for different ponds')\n",
    "    fig.show()"
   ]
  },
  {
   "cell_type": "code",
   "execution_count": 37,
   "metadata": {},
   "outputs": [
    {
     "data": {
      "application/vnd.plotly.v1+json": {
       "config": {
        "plotlyServerURL": "https://plot.ly"
       },
       "data": [
        {
         "alignmentgroup": "True",
         "bingroup": "x",
         "hovertemplate": "pond=right<br>Error_percentage_Hull_fov=%{x}<br>count=%{y}<extra></extra>",
         "legendgroup": "right",
         "marker": {
          "color": "#636efa",
          "pattern": {
           "shape": ""
          }
         },
         "name": "right",
         "offsetgroup": "right",
         "orientation": "v",
         "showlegend": true,
         "type": "histogram",
         "x": [
          2.4842346434788447,
          5.733508552970277,
          3.275578001253561,
          8.287221373202765,
          17.171978811340942,
          1.1016452499603502,
          3.162501760179942,
          13.605927626997508,
          1.394599301558061,
          7.013275544567724,
          10.099267767086891,
          12.494981369970636,
          14.043030846322182,
          3.617197047420832,
          13.29279536845598,
          7.032674790056028,
          15.63090648611292,
          16.2635824965225,
          14.042999769570232,
          21.092228543735853,
          18.308366327862476,
          19.666213775516635,
          11.773876110786668,
          4.015091888782743,
          7.151919747335916,
          7.301023761326965,
          14.049468484515677,
          5.724861516687664,
          4.333016915254291,
          5.205069970599728,
          3.3394602921656733,
          10.193701153023987,
          9.074479199800924,
          10.907285697744868,
          9.084948686963909,
          0.6198222302085729,
          13.969557574316063,
          8.333805621882385,
          13.494754317503563,
          1.3385607504801555,
          17.241992439853593,
          14.557440937126136,
          2.7364107557984627,
          14.143491613423931,
          4.4934320398002585,
          16.366693244691156,
          2.853057737898077,
          5.649214687839961,
          9.348564873267112,
          4.605327099084727,
          2.030795989449356,
          12.66943873037598,
          4.218474960056033,
          15.899319604258563,
          6.02557383526258,
          1.671963865398109,
          19.37579704343185,
          15.975524664709727,
          9.550356133023216,
          16.37752966251501,
          9.888159778257991,
          10.043944454104658,
          8.170282243230373,
          13.959517579007958,
          16.63752479870418,
          16.22199701905948,
          7.141264506611754,
          5.724861516687664,
          14.997317628353397,
          9.029110486213089,
          8.438598198682255,
          5.811244519437556,
          12.137707995853331,
          2.736395125683943,
          7.5092563141051105,
          12.42590978283848,
          9.325466296817927,
          8.843883870430682
         ],
         "xaxis": "x",
         "yaxis": "y"
        },
        {
         "alignmentgroup": "True",
         "boxpoints": "all",
         "customdata": [
          [
           "undistorted_GX010191_101_1265.jpg",
           0
          ],
          [
           "undistorted_GX010191_103_1289.jpg",
           0
          ],
          [
           "undistorted_GX010191_105_1312.jpg",
           0
          ],
          [
           "undistorted_GX010191_107_1330.jpg",
           0
          ],
          [
           "undistorted_GX010191_108_1337.jpg",
           2
          ],
          [
           "undistorted_GX010191_10_370.jpg",
           0
          ],
          [
           "undistorted_GX010191_110_1355.jpg",
           0
          ],
          [
           "undistorted_GX010191_110_1355.jpg",
           1
          ],
          [
           "undistorted_GX010191_110_1355.jpg",
           3
          ],
          [
           "undistorted_GX010191_116_1399.jpg",
           0
          ],
          [
           "undistorted_GX010191_118_1415.jpg",
           0
          ],
          [
           "undistorted_GX010191_11_391.jpg",
           0
          ],
          [
           "undistorted_GX010191_12_410.jpg",
           3
          ],
          [
           "undistorted_GX010191_13_439.jpg",
           0
          ],
          [
           "undistorted_GX010191_14_460.jpg",
           0
          ],
          [
           "undistorted_GX010191_16_495.jpg",
           0
          ],
          [
           "undistorted_GX010191_26_199.jpg",
           0
          ],
          [
           "undistorted_GX010191_27_215.jpg",
           1
          ],
          [
           "undistorted_GX010191_28_230.jpg",
           0
          ],
          [
           "undistorted_GX010191_28_230.jpg",
           1
          ],
          [
           "undistorted_GX010191_28_230.jpg",
           4
          ],
          [
           "undistorted_GX010191_28_230.jpg",
           5
          ],
          [
           "undistorted_GX010191_29_257.jpg",
           1
          ],
          [
           "undistorted_GX010191_31_283.jpg",
           1
          ],
          [
           "undistorted_GX010191_32_1049.jpg",
           0
          ],
          [
           "undistorted_GX010191_32_305.jpg",
           0
          ],
          [
           "undistorted_GX010191_32_305.jpg",
           2
          ],
          [
           "undistorted_GX010191_33_1087.jpg",
           1
          ],
          [
           "undistorted_GX010191_33_331.jpg",
           0
          ],
          [
           "undistorted_GX010191_33_331.jpg",
           2
          ],
          [
           "undistorted_GX010191_34_1128.jpg",
           0
          ],
          [
           "undistorted_GX010191_34_1128.jpg",
           1
          ],
          [
           "undistorted_GX010191_35_1167.jpg",
           0
          ],
          [
           "undistorted_GX010191_35_1167.jpg",
           1
          ],
          [
           "undistorted_GX010191_35_1167.jpg",
           4
          ],
          [
           "undistorted_GX010191_35_367.jpg",
           0
          ],
          [
           "undistorted_GX010191_36_1195.jpg",
           0
          ],
          [
           "undistorted_GX010191_36_1195.jpg",
           1
          ],
          [
           "undistorted_GX010191_36_1195.jpg",
           2
          ],
          [
           "undistorted_GX010191_36_381.jpg",
           0
          ],
          [
           "undistorted_GX010191_37_1242.jpg",
           0
          ],
          [
           "undistorted_GX010191_37_392.jpg",
           0
          ],
          [
           "undistorted_GX010191_38_1266.jpg",
           0
          ],
          [
           "undistorted_GX010191_38_404.jpg",
           0
          ],
          [
           "undistorted_GX010191_39_1284.jpg",
           0
          ],
          [
           "undistorted_GX010191_41_445.jpg",
           0
          ],
          [
           "undistorted_GX010191_42_1339.jpg",
           0
          ],
          [
           "undistorted_GX010191_42_1339.jpg",
           1
          ],
          [
           "undistorted_GX010191_42_457.jpg",
           0
          ],
          [
           "undistorted_GX010191_43_1353.jpg",
           0
          ],
          [
           "undistorted_GX010191_43_1353.jpg",
           3
          ],
          [
           "undistorted_GX010191_43_468.jpg",
           0
          ],
          [
           "undistorted_GX010191_43_468.jpg",
           2
          ],
          [
           "undistorted_GX010191_43_468.jpg",
           4
          ],
          [
           "undistorted_GX010191_44_478.jpg",
           0
          ],
          [
           "undistorted_GX010191_44_478.jpg",
           1
          ],
          [
           "undistorted_GX010191_45_489.jpg",
           0
          ],
          [
           "undistorted_GX010191_46_497.jpg",
           0
          ],
          [
           "undistorted_GX010191_46_497.jpg",
           1
          ],
          [
           "undistorted_GX010191_47_507.jpg",
           0
          ],
          [
           "undistorted_GX010191_5_190.jpg",
           0
          ],
          [
           "undistorted_GX010191_5_190.jpg",
           2
          ],
          [
           "undistorted_GX010191_6_219.jpg",
           0
          ],
          [
           "undistorted_GX010191_88_1016.jpg",
           0
          ],
          [
           "undistorted_GX010191_8_309.jpg",
           1
          ],
          [
           "undistorted_GX010191_8_309.jpg",
           2
          ],
          [
           "undistorted_GX010191_91_1066.jpg",
           2
          ],
          [
           "undistorted_GX010191_92_1087.jpg",
           1
          ],
          [
           "undistorted_GX010191_94_1132.jpg",
           0
          ],
          [
           "undistorted_GX010191_95_1157.jpg",
           0
          ],
          [
           "undistorted_GX010191_95_1157.jpg",
           1
          ],
          [
           "undistorted_GX010191_96_1175.jpg",
           0
          ],
          [
           "undistorted_GX010191_97_1190.jpg",
           0
          ],
          [
           "undistorted_GX010191_97_1190.jpg",
           1
          ],
          [
           "undistorted_GX010191_98_1211.jpg",
           0
          ],
          [
           "undistorted_GX010191_98_1211.jpg",
           1
          ],
          [
           "undistorted_GX010191_99_1233.jpg",
           1
          ],
          [
           "undistorted_GX010191_9_346.jpg",
           2
          ]
         ],
         "fillcolor": "rgba(255,255,255,0)",
         "hoveron": "points",
         "hovertemplate": "pond=right<br>Error_percentage_Hull_fov=%{x}<br>image_path=%{customdata[0]}<br>index=%{customdata[1]}<extra></extra>",
         "jitter": 0,
         "legendgroup": "right",
         "line": {
          "color": "rgba(255,255,255,0)"
         },
         "marker": {
          "color": "#636efa",
          "symbol": "line-ns-open"
         },
         "name": "right",
         "offsetgroup": "right",
         "showlegend": false,
         "type": "box",
         "x": [
          2.4842346434788447,
          5.733508552970277,
          3.275578001253561,
          8.287221373202765,
          17.171978811340942,
          1.1016452499603502,
          3.162501760179942,
          13.605927626997508,
          1.394599301558061,
          7.013275544567724,
          10.099267767086891,
          12.494981369970636,
          14.043030846322182,
          3.617197047420832,
          13.29279536845598,
          7.032674790056028,
          15.63090648611292,
          16.2635824965225,
          14.042999769570232,
          21.092228543735853,
          18.308366327862476,
          19.666213775516635,
          11.773876110786668,
          4.015091888782743,
          7.151919747335916,
          7.301023761326965,
          14.049468484515677,
          5.724861516687664,
          4.333016915254291,
          5.205069970599728,
          3.3394602921656733,
          10.193701153023987,
          9.074479199800924,
          10.907285697744868,
          9.084948686963909,
          0.6198222302085729,
          13.969557574316063,
          8.333805621882385,
          13.494754317503563,
          1.3385607504801555,
          17.241992439853593,
          14.557440937126136,
          2.7364107557984627,
          14.143491613423931,
          4.4934320398002585,
          16.366693244691156,
          2.853057737898077,
          5.649214687839961,
          9.348564873267112,
          4.605327099084727,
          2.030795989449356,
          12.66943873037598,
          4.218474960056033,
          15.899319604258563,
          6.02557383526258,
          1.671963865398109,
          19.37579704343185,
          15.975524664709727,
          9.550356133023216,
          16.37752966251501,
          9.888159778257991,
          10.043944454104658,
          8.170282243230373,
          13.959517579007958,
          16.63752479870418,
          16.22199701905948,
          7.141264506611754,
          5.724861516687664,
          14.997317628353397,
          9.029110486213089,
          8.438598198682255,
          5.811244519437556,
          12.137707995853331,
          2.736395125683943,
          7.5092563141051105,
          12.42590978283848,
          9.325466296817927,
          8.843883870430682
         ],
         "xaxis": "x2",
         "yaxis": "y2"
        },
        {
         "alignmentgroup": "True",
         "bingroup": "x",
         "hovertemplate": "pond=square<br>Error_percentage_Hull_fov=%{x}<br>count=%{y}<extra></extra>",
         "legendgroup": "square",
         "marker": {
          "color": "#EF553B",
          "pattern": {
           "shape": ""
          }
         },
         "name": "square",
         "offsetgroup": "square",
         "orientation": "v",
         "showlegend": true,
         "type": "histogram",
         "x": [
          21.21107807285579,
          17.69648430680886,
          9.600836967728153,
          5.787273944775325,
          8.324563582661943,
          18.022039007661306,
          8.3639163342282,
          2.422551619886788,
          5.9111009636571685,
          13.466933633365432,
          4.353598755137817,
          7.3304675603249825,
          8.521170935089279,
          0.205164545120787,
          7.83794311601497,
          10.596538802018998,
          6.999362569893258,
          22.012380509303554,
          7.389759210687571,
          11.785546814352363,
          18.713236136525143,
          11.183260692081392,
          17.882614822537178,
          18.3981481018408,
          15.15059323910072,
          15.29331451950895,
          9.01000573182303,
          5.030129561381658,
          18.877278635773845,
          6.810271822216013,
          11.021527837053798,
          14.756770101834068,
          4.1836944160694935,
          10.493706681756915,
          10.37422578498702,
          20.26780357740084,
          13.685617510373888,
          12.381065821804604,
          12.29613644485018,
          4.1836944160694935,
          10.493706681756915,
          11.218917120549436,
          15.04477092589324,
          4.501351108811034,
          4.303009223540961,
          6.338530337688134,
          4.427495173520363,
          11.3405061013259,
          13.309616079933608,
          15.480764064627076,
          15.972759555180224,
          7.984738962871095,
          6.708396352503078,
          14.526855013671865,
          11.638466282493786,
          12.980501285979344,
          10.341165103080227,
          12.020998914075216,
          22.34636141731444,
          2.227305038384628,
          15.755493018473976,
          19.931417300155584,
          2.696874721553557,
          18.398166359779708,
          18.543824224942853,
          16.65694647073524,
          21.443668492519976
         ],
         "xaxis": "x",
         "yaxis": "y"
        },
        {
         "alignmentgroup": "True",
         "boxpoints": "all",
         "customdata": [
          [
           "undistorted_GX010192_10_696.jpg",
           1
          ],
          [
           "undistorted_GX010192_11_745.jpg",
           0
          ],
          [
           "undistorted_GX010192_17_1035.jpg",
           0
          ],
          [
           "undistorted_GX010192_25_1553.jpg",
           0
          ],
          [
           "undistorted_GX010192_26_1578.jpg",
           0
          ],
          [
           "undistorted_GX010192_8_593.jpg",
           0
          ],
          [
           "undistorted_GX010192_9_675.jpg",
           1
          ],
          [
           "undistorted_GX010193_10_1039.jpg",
           0
          ],
          [
           "undistorted_GX010193_11_1065.jpg",
           0
          ],
          [
           "undistorted_GX010193_16_1232.jpg",
           0
          ],
          [
           "undistorted_GX010193_17_1264.jpg",
           0
          ],
          [
           "undistorted_GX010193_18_1289.jpg",
           0
          ],
          [
           "undistorted_GX010193_19_1334.jpg",
           0
          ],
          [
           "undistorted_GX010193_20_1365.jpg",
           2
          ],
          [
           "undistorted_GX010193_26_1530.jpg",
           0
          ],
          [
           "undistorted_GX010193_26_1530.jpg",
           1
          ],
          [
           "undistorted_GX010193_27_1553.jpg",
           1
          ],
          [
           "undistorted_GX010193_28_1584.jpg",
           0
          ],
          [
           "undistorted_GX010193_28_1584.jpg",
           1
          ],
          [
           "undistorted_GX010193_3_251.jpg",
           0
          ],
          [
           "undistorted_GX010193_4_283.jpg",
           0
          ],
          [
           "undistorted_GX010193_4_283.jpg",
           1
          ],
          [
           "undistorted_GX010193_5_305.jpg",
           0
          ],
          [
           "undistorted_GX010193_6_330.jpg",
           0
          ],
          [
           "undistorted_GX010193_7_360.jpg",
           0
          ],
          [
           "undistorted_GX010193_7_360.jpg",
           2
          ],
          [
           "undistorted_GX010194_15_231.jpg",
           0
          ],
          [
           "undistorted_GX010194_16_240.jpg",
           0
          ],
          [
           "undistorted_GX010194_17_257.jpg",
           0
          ],
          [
           "undistorted_GX010194_17_257.jpg",
           1
          ],
          [
           "undistorted_GX010194_18_272.jpg",
           0
          ],
          [
           "undistorted_GX010194_18_272.jpg",
           3
          ],
          [
           "undistorted_GX010194_19_285.jpg",
           0
          ],
          [
           "undistorted_GX010194_19_285.jpg",
           1
          ],
          [
           "undistorted_GX010194_20_299.jpg",
           0
          ],
          [
           "undistorted_GX010194_21_312.jpg",
           0
          ],
          [
           "undistorted_GX010194_21_312.jpg",
           1
          ],
          [
           "undistorted_GX010194_22_323.jpg",
           0
          ],
          [
           "undistorted_GX010194_24_352.jpg",
           0
          ],
          [
           "undistorted_GX010194_2_285.jpg",
           0
          ],
          [
           "undistorted_GX010194_2_285.jpg",
           1
          ],
          [
           "undistorted_GX010194_30_407.jpg",
           1
          ],
          [
           "undistorted_GX010194_31_414.jpg",
           0
          ],
          [
           "undistorted_GX010194_36_485.jpg",
           1
          ],
          [
           "undistorted_GX010194_37_496.jpg",
           1
          ],
          [
           "undistorted_GX010194_38_504.jpg",
           1
          ],
          [
           "undistorted_GX010194_39_513.jpg",
           1
          ],
          [
           "undistorted_GX010194_43_570.jpg",
           3
          ],
          [
           "undistorted_GX010194_46_620.jpg",
           1
          ],
          [
           "undistorted_GX010194_47_640.jpg",
           0
          ],
          [
           "undistorted_GX010194_47_640.jpg",
           2
          ],
          [
           "undistorted_GX010194_55_768.jpg",
           0
          ],
          [
           "undistorted_GX010194_55_768.jpg",
           2
          ],
          [
           "undistorted_GX010194_56_784.jpg",
           0
          ],
          [
           "undistorted_GX010194_57_798.jpg",
           0
          ],
          [
           "undistorted_GX010194_58_810.jpg",
           2
          ],
          [
           "undistorted_GX010194_5_757.jpg",
           0
          ],
          [
           "undistorted_GX010194_60_836.jpg",
           0
          ],
          [
           "undistorted_GX010194_61_852.jpg",
           0
          ],
          [
           "undistorted_GX010194_62_878.jpg",
           0
          ],
          [
           "undistorted_GX010194_62_878.jpg",
           1
          ],
          [
           "undistorted_GX010194_63_894.jpg",
           3
          ],
          [
           "undistorted_GX010194_64_911.jpg",
           0
          ],
          [
           "undistorted_GX010194_6_101.jpg",
           1
          ],
          [
           "undistorted_GX010194_6_101.jpg",
           2
          ],
          [
           "undistorted_GX010194_6_845.jpg",
           0
          ],
          [
           "undistorted_GX010194_7_885.jpg",
           0
          ]
         ],
         "fillcolor": "rgba(255,255,255,0)",
         "hoveron": "points",
         "hovertemplate": "pond=square<br>Error_percentage_Hull_fov=%{x}<br>image_path=%{customdata[0]}<br>index=%{customdata[1]}<extra></extra>",
         "jitter": 0,
         "legendgroup": "square",
         "line": {
          "color": "rgba(255,255,255,0)"
         },
         "marker": {
          "color": "#EF553B",
          "symbol": "line-ns-open"
         },
         "name": "square",
         "offsetgroup": "square",
         "showlegend": false,
         "type": "box",
         "x": [
          21.21107807285579,
          17.69648430680886,
          9.600836967728153,
          5.787273944775325,
          8.324563582661943,
          18.022039007661306,
          8.3639163342282,
          2.422551619886788,
          5.9111009636571685,
          13.466933633365432,
          4.353598755137817,
          7.3304675603249825,
          8.521170935089279,
          0.205164545120787,
          7.83794311601497,
          10.596538802018998,
          6.999362569893258,
          22.012380509303554,
          7.389759210687571,
          11.785546814352363,
          18.713236136525143,
          11.183260692081392,
          17.882614822537178,
          18.3981481018408,
          15.15059323910072,
          15.29331451950895,
          9.01000573182303,
          5.030129561381658,
          18.877278635773845,
          6.810271822216013,
          11.021527837053798,
          14.756770101834068,
          4.1836944160694935,
          10.493706681756915,
          10.37422578498702,
          20.26780357740084,
          13.685617510373888,
          12.381065821804604,
          12.29613644485018,
          4.1836944160694935,
          10.493706681756915,
          11.218917120549436,
          15.04477092589324,
          4.501351108811034,
          4.303009223540961,
          6.338530337688134,
          4.427495173520363,
          11.3405061013259,
          13.309616079933608,
          15.480764064627076,
          15.972759555180224,
          7.984738962871095,
          6.708396352503078,
          14.526855013671865,
          11.638466282493786,
          12.980501285979344,
          10.341165103080227,
          12.020998914075216,
          22.34636141731444,
          2.227305038384628,
          15.755493018473976,
          19.931417300155584,
          2.696874721553557,
          18.398166359779708,
          18.543824224942853,
          16.65694647073524,
          21.443668492519976
         ],
         "xaxis": "x2",
         "yaxis": "y2"
        }
       ],
       "layout": {
        "barmode": "relative",
        "legend": {
         "title": {
          "text": "pond"
         },
         "tracegroupgap": 0
        },
        "template": {
         "data": {
          "bar": [
           {
            "error_x": {
             "color": "#2a3f5f"
            },
            "error_y": {
             "color": "#2a3f5f"
            },
            "marker": {
             "line": {
              "color": "#E5ECF6",
              "width": 0.5
             },
             "pattern": {
              "fillmode": "overlay",
              "size": 10,
              "solidity": 0.2
             }
            },
            "type": "bar"
           }
          ],
          "barpolar": [
           {
            "marker": {
             "line": {
              "color": "#E5ECF6",
              "width": 0.5
             },
             "pattern": {
              "fillmode": "overlay",
              "size": 10,
              "solidity": 0.2
             }
            },
            "type": "barpolar"
           }
          ],
          "carpet": [
           {
            "aaxis": {
             "endlinecolor": "#2a3f5f",
             "gridcolor": "white",
             "linecolor": "white",
             "minorgridcolor": "white",
             "startlinecolor": "#2a3f5f"
            },
            "baxis": {
             "endlinecolor": "#2a3f5f",
             "gridcolor": "white",
             "linecolor": "white",
             "minorgridcolor": "white",
             "startlinecolor": "#2a3f5f"
            },
            "type": "carpet"
           }
          ],
          "choropleth": [
           {
            "colorbar": {
             "outlinewidth": 0,
             "ticks": ""
            },
            "type": "choropleth"
           }
          ],
          "contour": [
           {
            "colorbar": {
             "outlinewidth": 0,
             "ticks": ""
            },
            "colorscale": [
             [
              0,
              "#0d0887"
             ],
             [
              0.1111111111111111,
              "#46039f"
             ],
             [
              0.2222222222222222,
              "#7201a8"
             ],
             [
              0.3333333333333333,
              "#9c179e"
             ],
             [
              0.4444444444444444,
              "#bd3786"
             ],
             [
              0.5555555555555556,
              "#d8576b"
             ],
             [
              0.6666666666666666,
              "#ed7953"
             ],
             [
              0.7777777777777778,
              "#fb9f3a"
             ],
             [
              0.8888888888888888,
              "#fdca26"
             ],
             [
              1,
              "#f0f921"
             ]
            ],
            "type": "contour"
           }
          ],
          "contourcarpet": [
           {
            "colorbar": {
             "outlinewidth": 0,
             "ticks": ""
            },
            "type": "contourcarpet"
           }
          ],
          "heatmap": [
           {
            "colorbar": {
             "outlinewidth": 0,
             "ticks": ""
            },
            "colorscale": [
             [
              0,
              "#0d0887"
             ],
             [
              0.1111111111111111,
              "#46039f"
             ],
             [
              0.2222222222222222,
              "#7201a8"
             ],
             [
              0.3333333333333333,
              "#9c179e"
             ],
             [
              0.4444444444444444,
              "#bd3786"
             ],
             [
              0.5555555555555556,
              "#d8576b"
             ],
             [
              0.6666666666666666,
              "#ed7953"
             ],
             [
              0.7777777777777778,
              "#fb9f3a"
             ],
             [
              0.8888888888888888,
              "#fdca26"
             ],
             [
              1,
              "#f0f921"
             ]
            ],
            "type": "heatmap"
           }
          ],
          "heatmapgl": [
           {
            "colorbar": {
             "outlinewidth": 0,
             "ticks": ""
            },
            "colorscale": [
             [
              0,
              "#0d0887"
             ],
             [
              0.1111111111111111,
              "#46039f"
             ],
             [
              0.2222222222222222,
              "#7201a8"
             ],
             [
              0.3333333333333333,
              "#9c179e"
             ],
             [
              0.4444444444444444,
              "#bd3786"
             ],
             [
              0.5555555555555556,
              "#d8576b"
             ],
             [
              0.6666666666666666,
              "#ed7953"
             ],
             [
              0.7777777777777778,
              "#fb9f3a"
             ],
             [
              0.8888888888888888,
              "#fdca26"
             ],
             [
              1,
              "#f0f921"
             ]
            ],
            "type": "heatmapgl"
           }
          ],
          "histogram": [
           {
            "marker": {
             "pattern": {
              "fillmode": "overlay",
              "size": 10,
              "solidity": 0.2
             }
            },
            "type": "histogram"
           }
          ],
          "histogram2d": [
           {
            "colorbar": {
             "outlinewidth": 0,
             "ticks": ""
            },
            "colorscale": [
             [
              0,
              "#0d0887"
             ],
             [
              0.1111111111111111,
              "#46039f"
             ],
             [
              0.2222222222222222,
              "#7201a8"
             ],
             [
              0.3333333333333333,
              "#9c179e"
             ],
             [
              0.4444444444444444,
              "#bd3786"
             ],
             [
              0.5555555555555556,
              "#d8576b"
             ],
             [
              0.6666666666666666,
              "#ed7953"
             ],
             [
              0.7777777777777778,
              "#fb9f3a"
             ],
             [
              0.8888888888888888,
              "#fdca26"
             ],
             [
              1,
              "#f0f921"
             ]
            ],
            "type": "histogram2d"
           }
          ],
          "histogram2dcontour": [
           {
            "colorbar": {
             "outlinewidth": 0,
             "ticks": ""
            },
            "colorscale": [
             [
              0,
              "#0d0887"
             ],
             [
              0.1111111111111111,
              "#46039f"
             ],
             [
              0.2222222222222222,
              "#7201a8"
             ],
             [
              0.3333333333333333,
              "#9c179e"
             ],
             [
              0.4444444444444444,
              "#bd3786"
             ],
             [
              0.5555555555555556,
              "#d8576b"
             ],
             [
              0.6666666666666666,
              "#ed7953"
             ],
             [
              0.7777777777777778,
              "#fb9f3a"
             ],
             [
              0.8888888888888888,
              "#fdca26"
             ],
             [
              1,
              "#f0f921"
             ]
            ],
            "type": "histogram2dcontour"
           }
          ],
          "mesh3d": [
           {
            "colorbar": {
             "outlinewidth": 0,
             "ticks": ""
            },
            "type": "mesh3d"
           }
          ],
          "parcoords": [
           {
            "line": {
             "colorbar": {
              "outlinewidth": 0,
              "ticks": ""
             }
            },
            "type": "parcoords"
           }
          ],
          "pie": [
           {
            "automargin": true,
            "type": "pie"
           }
          ],
          "scatter": [
           {
            "fillpattern": {
             "fillmode": "overlay",
             "size": 10,
             "solidity": 0.2
            },
            "type": "scatter"
           }
          ],
          "scatter3d": [
           {
            "line": {
             "colorbar": {
              "outlinewidth": 0,
              "ticks": ""
             }
            },
            "marker": {
             "colorbar": {
              "outlinewidth": 0,
              "ticks": ""
             }
            },
            "type": "scatter3d"
           }
          ],
          "scattercarpet": [
           {
            "marker": {
             "colorbar": {
              "outlinewidth": 0,
              "ticks": ""
             }
            },
            "type": "scattercarpet"
           }
          ],
          "scattergeo": [
           {
            "marker": {
             "colorbar": {
              "outlinewidth": 0,
              "ticks": ""
             }
            },
            "type": "scattergeo"
           }
          ],
          "scattergl": [
           {
            "marker": {
             "colorbar": {
              "outlinewidth": 0,
              "ticks": ""
             }
            },
            "type": "scattergl"
           }
          ],
          "scattermapbox": [
           {
            "marker": {
             "colorbar": {
              "outlinewidth": 0,
              "ticks": ""
             }
            },
            "type": "scattermapbox"
           }
          ],
          "scatterpolar": [
           {
            "marker": {
             "colorbar": {
              "outlinewidth": 0,
              "ticks": ""
             }
            },
            "type": "scatterpolar"
           }
          ],
          "scatterpolargl": [
           {
            "marker": {
             "colorbar": {
              "outlinewidth": 0,
              "ticks": ""
             }
            },
            "type": "scatterpolargl"
           }
          ],
          "scatterternary": [
           {
            "marker": {
             "colorbar": {
              "outlinewidth": 0,
              "ticks": ""
             }
            },
            "type": "scatterternary"
           }
          ],
          "surface": [
           {
            "colorbar": {
             "outlinewidth": 0,
             "ticks": ""
            },
            "colorscale": [
             [
              0,
              "#0d0887"
             ],
             [
              0.1111111111111111,
              "#46039f"
             ],
             [
              0.2222222222222222,
              "#7201a8"
             ],
             [
              0.3333333333333333,
              "#9c179e"
             ],
             [
              0.4444444444444444,
              "#bd3786"
             ],
             [
              0.5555555555555556,
              "#d8576b"
             ],
             [
              0.6666666666666666,
              "#ed7953"
             ],
             [
              0.7777777777777778,
              "#fb9f3a"
             ],
             [
              0.8888888888888888,
              "#fdca26"
             ],
             [
              1,
              "#f0f921"
             ]
            ],
            "type": "surface"
           }
          ],
          "table": [
           {
            "cells": {
             "fill": {
              "color": "#EBF0F8"
             },
             "line": {
              "color": "white"
             }
            },
            "header": {
             "fill": {
              "color": "#C8D4E3"
             },
             "line": {
              "color": "white"
             }
            },
            "type": "table"
           }
          ]
         },
         "layout": {
          "annotationdefaults": {
           "arrowcolor": "#2a3f5f",
           "arrowhead": 0,
           "arrowwidth": 1
          },
          "autotypenumbers": "strict",
          "coloraxis": {
           "colorbar": {
            "outlinewidth": 0,
            "ticks": ""
           }
          },
          "colorscale": {
           "diverging": [
            [
             0,
             "#8e0152"
            ],
            [
             0.1,
             "#c51b7d"
            ],
            [
             0.2,
             "#de77ae"
            ],
            [
             0.3,
             "#f1b6da"
            ],
            [
             0.4,
             "#fde0ef"
            ],
            [
             0.5,
             "#f7f7f7"
            ],
            [
             0.6,
             "#e6f5d0"
            ],
            [
             0.7,
             "#b8e186"
            ],
            [
             0.8,
             "#7fbc41"
            ],
            [
             0.9,
             "#4d9221"
            ],
            [
             1,
             "#276419"
            ]
           ],
           "sequential": [
            [
             0,
             "#0d0887"
            ],
            [
             0.1111111111111111,
             "#46039f"
            ],
            [
             0.2222222222222222,
             "#7201a8"
            ],
            [
             0.3333333333333333,
             "#9c179e"
            ],
            [
             0.4444444444444444,
             "#bd3786"
            ],
            [
             0.5555555555555556,
             "#d8576b"
            ],
            [
             0.6666666666666666,
             "#ed7953"
            ],
            [
             0.7777777777777778,
             "#fb9f3a"
            ],
            [
             0.8888888888888888,
             "#fdca26"
            ],
            [
             1,
             "#f0f921"
            ]
           ],
           "sequentialminus": [
            [
             0,
             "#0d0887"
            ],
            [
             0.1111111111111111,
             "#46039f"
            ],
            [
             0.2222222222222222,
             "#7201a8"
            ],
            [
             0.3333333333333333,
             "#9c179e"
            ],
            [
             0.4444444444444444,
             "#bd3786"
            ],
            [
             0.5555555555555556,
             "#d8576b"
            ],
            [
             0.6666666666666666,
             "#ed7953"
            ],
            [
             0.7777777777777778,
             "#fb9f3a"
            ],
            [
             0.8888888888888888,
             "#fdca26"
            ],
            [
             1,
             "#f0f921"
            ]
           ]
          },
          "colorway": [
           "#636efa",
           "#EF553B",
           "#00cc96",
           "#ab63fa",
           "#FFA15A",
           "#19d3f3",
           "#FF6692",
           "#B6E880",
           "#FF97FF",
           "#FECB52"
          ],
          "font": {
           "color": "#2a3f5f"
          },
          "geo": {
           "bgcolor": "white",
           "lakecolor": "white",
           "landcolor": "#E5ECF6",
           "showlakes": true,
           "showland": true,
           "subunitcolor": "white"
          },
          "hoverlabel": {
           "align": "left"
          },
          "hovermode": "closest",
          "mapbox": {
           "style": "light"
          },
          "paper_bgcolor": "white",
          "plot_bgcolor": "#E5ECF6",
          "polar": {
           "angularaxis": {
            "gridcolor": "white",
            "linecolor": "white",
            "ticks": ""
           },
           "bgcolor": "#E5ECF6",
           "radialaxis": {
            "gridcolor": "white",
            "linecolor": "white",
            "ticks": ""
           }
          },
          "scene": {
           "xaxis": {
            "backgroundcolor": "#E5ECF6",
            "gridcolor": "white",
            "gridwidth": 2,
            "linecolor": "white",
            "showbackground": true,
            "ticks": "",
            "zerolinecolor": "white"
           },
           "yaxis": {
            "backgroundcolor": "#E5ECF6",
            "gridcolor": "white",
            "gridwidth": 2,
            "linecolor": "white",
            "showbackground": true,
            "ticks": "",
            "zerolinecolor": "white"
           },
           "zaxis": {
            "backgroundcolor": "#E5ECF6",
            "gridcolor": "white",
            "gridwidth": 2,
            "linecolor": "white",
            "showbackground": true,
            "ticks": "",
            "zerolinecolor": "white"
           }
          },
          "shapedefaults": {
           "line": {
            "color": "#2a3f5f"
           }
          },
          "ternary": {
           "aaxis": {
            "gridcolor": "white",
            "linecolor": "white",
            "ticks": ""
           },
           "baxis": {
            "gridcolor": "white",
            "linecolor": "white",
            "ticks": ""
           },
           "bgcolor": "#E5ECF6",
           "caxis": {
            "gridcolor": "white",
            "linecolor": "white",
            "ticks": ""
           }
          },
          "title": {
           "x": 0.05
          },
          "xaxis": {
           "automargin": true,
           "gridcolor": "white",
           "linecolor": "white",
           "ticks": "",
           "title": {
            "standoff": 15
           },
           "zerolinecolor": "white",
           "zerolinewidth": 2
          },
          "yaxis": {
           "automargin": true,
           "gridcolor": "white",
           "linecolor": "white",
           "ticks": "",
           "title": {
            "standoff": 15
           },
           "zerolinecolor": "white",
           "zerolinewidth": 2
          }
         }
        },
        "title": {
         "text": "Interactive histogram of Error_percentage_Hull_fov for different ponds"
        },
        "xaxis": {
         "anchor": "y",
         "domain": [
          0,
          1
         ],
         "title": {
          "text": "Error_percentage_Hull_fov"
         }
        },
        "xaxis2": {
         "anchor": "y2",
         "domain": [
          0,
          1
         ],
         "matches": "x",
         "showgrid": true,
         "showticklabels": false
        },
        "yaxis": {
         "anchor": "x",
         "domain": [
          0,
          0.7326
         ],
         "title": {
          "text": "count"
         }
        },
        "yaxis2": {
         "anchor": "x2",
         "domain": [
          0.7426,
          1
         ],
         "matches": "y2",
         "showgrid": false,
         "showline": false,
         "showticklabels": false,
         "ticks": ""
        }
       }
      }
     },
     "metadata": {},
     "output_type": "display_data"
    },
    {
     "data": {
      "application/vnd.plotly.v1+json": {
       "config": {
        "plotlyServerURL": "https://plot.ly"
       },
       "data": [
        {
         "alignmentgroup": "True",
         "bingroup": "x",
         "hovertemplate": "pond=right<br>MAE_Hull_fov=%{x}<br>count=%{y}<extra></extra>",
         "legendgroup": "right",
         "marker": {
          "color": "#636efa",
          "pattern": {
           "shape": ""
          }
         },
         "name": "right",
         "offsetgroup": "right",
         "orientation": "v",
         "showlegend": true,
         "type": "histogram",
         "x": [
          3.552455540174748,
          8.198917230747497,
          4.684076541792592,
          11.850726563679956,
          24.555929700217547,
          1.575352707443301,
          5.692503168323896,
          19.456476506606435,
          1.994277001228028,
          12.623895980221905,
          18.17868198075641,
          17.867823359058008,
          25.277455523379928,
          5.172591777811789,
          23.92703166322076,
          10.05672494978012,
          28.135631675003253,
          23.256922970027176,
          25.27739958522642,
          30.161886817542268,
          26.180963848843334,
          28.12268569898879,
          21.192976999416004,
          7.227165399808939,
          12.87345554520465,
          13.141842770388536,
          20.090739932857417,
          10.304750730037796,
          7.799430447457723,
          9.36912594707951,
          6.011028525898212,
          14.576992648824302,
          16.334062559641666,
          15.597418547775163,
          16.352907636535036,
          0.8863457891982591,
          25.145203633768915,
          11.91734203929181,
          19.29749867403009,
          1.9141418731866224,
          24.65604918899064,
          20.817140540090374,
          3.9130673807918015,
          20.225193007196225,
          8.088177671640466,
          23.40437133990835,
          4.0798725651942505,
          10.16858643811193,
          13.368447768771972,
          6.58561775169116,
          3.655432781008841,
          22.804989714676765,
          6.032419192880127,
          22.736027034089744,
          8.616570584425489,
          3.009534957716596,
          27.707389772107547,
          22.84500027053491,
          13.6570092702232,
          23.41986741739646,
          17.798687600864383,
          18.079100017388384,
          14.706508037814672,
          25.127131642214323,
          23.79166046214698,
          29.19959463430706,
          12.854276111901155,
          10.304750730037796,
          21.446164208545355,
          16.25239887518356,
          12.067195424115624,
          10.4602401349876,
          21.847874392536,
          3.913045029728039,
          10.738236529170308,
          22.36663760910926,
          13.335416804449636,
          15.918990966775226
         ],
         "xaxis": "x",
         "yaxis": "y"
        },
        {
         "alignmentgroup": "True",
         "boxpoints": "all",
         "customdata": [
          [
           "undistorted_GX010191_101_1265.jpg",
           0
          ],
          [
           "undistorted_GX010191_103_1289.jpg",
           0
          ],
          [
           "undistorted_GX010191_105_1312.jpg",
           0
          ],
          [
           "undistorted_GX010191_107_1330.jpg",
           0
          ],
          [
           "undistorted_GX010191_108_1337.jpg",
           2
          ],
          [
           "undistorted_GX010191_10_370.jpg",
           0
          ],
          [
           "undistorted_GX010191_110_1355.jpg",
           0
          ],
          [
           "undistorted_GX010191_110_1355.jpg",
           1
          ],
          [
           "undistorted_GX010191_110_1355.jpg",
           3
          ],
          [
           "undistorted_GX010191_116_1399.jpg",
           0
          ],
          [
           "undistorted_GX010191_118_1415.jpg",
           0
          ],
          [
           "undistorted_GX010191_11_391.jpg",
           0
          ],
          [
           "undistorted_GX010191_12_410.jpg",
           3
          ],
          [
           "undistorted_GX010191_13_439.jpg",
           0
          ],
          [
           "undistorted_GX010191_14_460.jpg",
           0
          ],
          [
           "undistorted_GX010191_16_495.jpg",
           0
          ],
          [
           "undistorted_GX010191_26_199.jpg",
           0
          ],
          [
           "undistorted_GX010191_27_215.jpg",
           1
          ],
          [
           "undistorted_GX010191_28_230.jpg",
           0
          ],
          [
           "undistorted_GX010191_28_230.jpg",
           1
          ],
          [
           "undistorted_GX010191_28_230.jpg",
           4
          ],
          [
           "undistorted_GX010191_28_230.jpg",
           5
          ],
          [
           "undistorted_GX010191_29_257.jpg",
           1
          ],
          [
           "undistorted_GX010191_31_283.jpg",
           1
          ],
          [
           "undistorted_GX010191_32_1049.jpg",
           0
          ],
          [
           "undistorted_GX010191_32_305.jpg",
           0
          ],
          [
           "undistorted_GX010191_32_305.jpg",
           2
          ],
          [
           "undistorted_GX010191_33_1087.jpg",
           1
          ],
          [
           "undistorted_GX010191_33_331.jpg",
           0
          ],
          [
           "undistorted_GX010191_33_331.jpg",
           2
          ],
          [
           "undistorted_GX010191_34_1128.jpg",
           0
          ],
          [
           "undistorted_GX010191_34_1128.jpg",
           1
          ],
          [
           "undistorted_GX010191_35_1167.jpg",
           0
          ],
          [
           "undistorted_GX010191_35_1167.jpg",
           1
          ],
          [
           "undistorted_GX010191_35_1167.jpg",
           4
          ],
          [
           "undistorted_GX010191_35_367.jpg",
           0
          ],
          [
           "undistorted_GX010191_36_1195.jpg",
           0
          ],
          [
           "undistorted_GX010191_36_1195.jpg",
           1
          ],
          [
           "undistorted_GX010191_36_1195.jpg",
           2
          ],
          [
           "undistorted_GX010191_36_381.jpg",
           0
          ],
          [
           "undistorted_GX010191_37_1242.jpg",
           0
          ],
          [
           "undistorted_GX010191_37_392.jpg",
           0
          ],
          [
           "undistorted_GX010191_38_1266.jpg",
           0
          ],
          [
           "undistorted_GX010191_38_404.jpg",
           0
          ],
          [
           "undistorted_GX010191_39_1284.jpg",
           0
          ],
          [
           "undistorted_GX010191_41_445.jpg",
           0
          ],
          [
           "undistorted_GX010191_42_1339.jpg",
           0
          ],
          [
           "undistorted_GX010191_42_1339.jpg",
           1
          ],
          [
           "undistorted_GX010191_42_457.jpg",
           0
          ],
          [
           "undistorted_GX010191_43_1353.jpg",
           0
          ],
          [
           "undistorted_GX010191_43_1353.jpg",
           3
          ],
          [
           "undistorted_GX010191_43_468.jpg",
           0
          ],
          [
           "undistorted_GX010191_43_468.jpg",
           2
          ],
          [
           "undistorted_GX010191_43_468.jpg",
           4
          ],
          [
           "undistorted_GX010191_44_478.jpg",
           0
          ],
          [
           "undistorted_GX010191_44_478.jpg",
           1
          ],
          [
           "undistorted_GX010191_45_489.jpg",
           0
          ],
          [
           "undistorted_GX010191_46_497.jpg",
           0
          ],
          [
           "undistorted_GX010191_46_497.jpg",
           1
          ],
          [
           "undistorted_GX010191_47_507.jpg",
           0
          ],
          [
           "undistorted_GX010191_5_190.jpg",
           0
          ],
          [
           "undistorted_GX010191_5_190.jpg",
           2
          ],
          [
           "undistorted_GX010191_6_219.jpg",
           0
          ],
          [
           "undistorted_GX010191_88_1016.jpg",
           0
          ],
          [
           "undistorted_GX010191_8_309.jpg",
           1
          ],
          [
           "undistorted_GX010191_8_309.jpg",
           2
          ],
          [
           "undistorted_GX010191_91_1066.jpg",
           2
          ],
          [
           "undistorted_GX010191_92_1087.jpg",
           1
          ],
          [
           "undistorted_GX010191_94_1132.jpg",
           0
          ],
          [
           "undistorted_GX010191_95_1157.jpg",
           0
          ],
          [
           "undistorted_GX010191_95_1157.jpg",
           1
          ],
          [
           "undistorted_GX010191_96_1175.jpg",
           0
          ],
          [
           "undistorted_GX010191_97_1190.jpg",
           0
          ],
          [
           "undistorted_GX010191_97_1190.jpg",
           1
          ],
          [
           "undistorted_GX010191_98_1211.jpg",
           0
          ],
          [
           "undistorted_GX010191_98_1211.jpg",
           1
          ],
          [
           "undistorted_GX010191_99_1233.jpg",
           1
          ],
          [
           "undistorted_GX010191_9_346.jpg",
           2
          ]
         ],
         "fillcolor": "rgba(255,255,255,0)",
         "hoveron": "points",
         "hovertemplate": "pond=right<br>MAE_Hull_fov=%{x}<br>image_path=%{customdata[0]}<br>index=%{customdata[1]}<extra></extra>",
         "jitter": 0,
         "legendgroup": "right",
         "line": {
          "color": "rgba(255,255,255,0)"
         },
         "marker": {
          "color": "#636efa",
          "symbol": "line-ns-open"
         },
         "name": "right",
         "offsetgroup": "right",
         "showlegend": false,
         "type": "box",
         "x": [
          3.552455540174748,
          8.198917230747497,
          4.684076541792592,
          11.850726563679956,
          24.555929700217547,
          1.575352707443301,
          5.692503168323896,
          19.456476506606435,
          1.994277001228028,
          12.623895980221905,
          18.17868198075641,
          17.867823359058008,
          25.277455523379928,
          5.172591777811789,
          23.92703166322076,
          10.05672494978012,
          28.135631675003253,
          23.256922970027176,
          25.27739958522642,
          30.161886817542268,
          26.180963848843334,
          28.12268569898879,
          21.192976999416004,
          7.227165399808939,
          12.87345554520465,
          13.141842770388536,
          20.090739932857417,
          10.304750730037796,
          7.799430447457723,
          9.36912594707951,
          6.011028525898212,
          14.576992648824302,
          16.334062559641666,
          15.597418547775163,
          16.352907636535036,
          0.8863457891982591,
          25.145203633768915,
          11.91734203929181,
          19.29749867403009,
          1.9141418731866224,
          24.65604918899064,
          20.817140540090374,
          3.9130673807918015,
          20.225193007196225,
          8.088177671640466,
          23.40437133990835,
          4.0798725651942505,
          10.16858643811193,
          13.368447768771972,
          6.58561775169116,
          3.655432781008841,
          22.804989714676765,
          6.032419192880127,
          22.736027034089744,
          8.616570584425489,
          3.009534957716596,
          27.707389772107547,
          22.84500027053491,
          13.6570092702232,
          23.41986741739646,
          17.798687600864383,
          18.079100017388384,
          14.706508037814672,
          25.127131642214323,
          23.79166046214698,
          29.19959463430706,
          12.854276111901155,
          10.304750730037796,
          21.446164208545355,
          16.25239887518356,
          12.067195424115624,
          10.4602401349876,
          21.847874392536,
          3.913045029728039,
          10.738236529170308,
          22.36663760910926,
          13.335416804449636,
          15.918990966775226
         ],
         "xaxis": "x2",
         "yaxis": "y2"
        },
        {
         "alignmentgroup": "True",
         "bingroup": "x",
         "hovertemplate": "pond=square<br>MAE_Hull_fov=%{x}<br>count=%{y}<extra></extra>",
         "legendgroup": "square",
         "marker": {
          "color": "#EF553B",
          "pattern": {
           "shape": ""
          }
         },
         "name": "square",
         "offsetgroup": "square",
         "orientation": "v",
         "showlegend": true,
         "type": "histogram",
         "x": [
          30.331841644183783,
          25.30597255873667,
          13.729196863851255,
          8.275801741028715,
          11.904125923206578,
          25.771515780955667,
          11.960400357946328,
          4.360592915796218,
          10.639981734582904,
          19.25771509571257,
          6.225646219847079,
          10.482568611264725,
          12.185274437177668,
          0.2933852995227255,
          14.108297608826945,
          15.153050486887167,
          12.598852625807863,
          31.477704128304083,
          13.30156657923763,
          21.213984265834256,
          26.759927675230955,
          20.129869245746505,
          25.572139196228164,
          26.309351785632344,
          21.665348331914032,
          21.8694397628978,
          16.218010317281454,
          9.054233210486984,
          26.9945084491566,
          12.258489279988822,
          19.838750106696835,
          21.10218124562272,
          7.530649948925088,
          15.00600055491239,
          14.835142872531437,
          28.9829591156832,
          24.634111518672995,
          17.704924125180582,
          17.58347511613576,
          7.530649948925088,
          15.00600055491239,
          16.043051482385692,
          21.51402242402733,
          6.4369320855997785,
          6.153303189663575,
          9.06409838289403,
          6.331318098134119,
          20.41291098238662,
          23.95730894388049,
          27.865375316328738,
          22.84104616390772,
          14.37253013316797,
          12.07511343450554,
          26.14833902460936,
          20.949239308488814,
          23.364902314762816,
          18.61409718554441,
          17.19002844712756,
          31.95529682675965,
          4.009149069092331,
          22.530355016417783,
          28.501926739222483,
          4.854374498796403,
          26.30937789448498,
          26.51766864166828,
          23.81943345315139,
          30.66444594430357
         ],
         "xaxis": "x",
         "yaxis": "y"
        },
        {
         "alignmentgroup": "True",
         "boxpoints": "all",
         "customdata": [
          [
           "undistorted_GX010192_10_696.jpg",
           1
          ],
          [
           "undistorted_GX010192_11_745.jpg",
           0
          ],
          [
           "undistorted_GX010192_17_1035.jpg",
           0
          ],
          [
           "undistorted_GX010192_25_1553.jpg",
           0
          ],
          [
           "undistorted_GX010192_26_1578.jpg",
           0
          ],
          [
           "undistorted_GX010192_8_593.jpg",
           0
          ],
          [
           "undistorted_GX010192_9_675.jpg",
           1
          ],
          [
           "undistorted_GX010193_10_1039.jpg",
           0
          ],
          [
           "undistorted_GX010193_11_1065.jpg",
           0
          ],
          [
           "undistorted_GX010193_16_1232.jpg",
           0
          ],
          [
           "undistorted_GX010193_17_1264.jpg",
           0
          ],
          [
           "undistorted_GX010193_18_1289.jpg",
           0
          ],
          [
           "undistorted_GX010193_19_1334.jpg",
           0
          ],
          [
           "undistorted_GX010193_20_1365.jpg",
           2
          ],
          [
           "undistorted_GX010193_26_1530.jpg",
           0
          ],
          [
           "undistorted_GX010193_26_1530.jpg",
           1
          ],
          [
           "undistorted_GX010193_27_1553.jpg",
           1
          ],
          [
           "undistorted_GX010193_28_1584.jpg",
           0
          ],
          [
           "undistorted_GX010193_28_1584.jpg",
           1
          ],
          [
           "undistorted_GX010193_3_251.jpg",
           0
          ],
          [
           "undistorted_GX010193_4_283.jpg",
           0
          ],
          [
           "undistorted_GX010193_4_283.jpg",
           1
          ],
          [
           "undistorted_GX010193_5_305.jpg",
           0
          ],
          [
           "undistorted_GX010193_6_330.jpg",
           0
          ],
          [
           "undistorted_GX010193_7_360.jpg",
           0
          ],
          [
           "undistorted_GX010193_7_360.jpg",
           2
          ],
          [
           "undistorted_GX010194_15_231.jpg",
           0
          ],
          [
           "undistorted_GX010194_16_240.jpg",
           0
          ],
          [
           "undistorted_GX010194_17_257.jpg",
           0
          ],
          [
           "undistorted_GX010194_17_257.jpg",
           1
          ],
          [
           "undistorted_GX010194_18_272.jpg",
           0
          ],
          [
           "undistorted_GX010194_18_272.jpg",
           3
          ],
          [
           "undistorted_GX010194_19_285.jpg",
           0
          ],
          [
           "undistorted_GX010194_19_285.jpg",
           1
          ],
          [
           "undistorted_GX010194_20_299.jpg",
           0
          ],
          [
           "undistorted_GX010194_21_312.jpg",
           0
          ],
          [
           "undistorted_GX010194_21_312.jpg",
           1
          ],
          [
           "undistorted_GX010194_22_323.jpg",
           0
          ],
          [
           "undistorted_GX010194_24_352.jpg",
           0
          ],
          [
           "undistorted_GX010194_2_285.jpg",
           0
          ],
          [
           "undistorted_GX010194_2_285.jpg",
           1
          ],
          [
           "undistorted_GX010194_30_407.jpg",
           1
          ],
          [
           "undistorted_GX010194_31_414.jpg",
           0
          ],
          [
           "undistorted_GX010194_36_485.jpg",
           1
          ],
          [
           "undistorted_GX010194_37_496.jpg",
           1
          ],
          [
           "undistorted_GX010194_38_504.jpg",
           1
          ],
          [
           "undistorted_GX010194_39_513.jpg",
           1
          ],
          [
           "undistorted_GX010194_43_570.jpg",
           3
          ],
          [
           "undistorted_GX010194_46_620.jpg",
           1
          ],
          [
           "undistorted_GX010194_47_640.jpg",
           0
          ],
          [
           "undistorted_GX010194_47_640.jpg",
           2
          ],
          [
           "undistorted_GX010194_55_768.jpg",
           0
          ],
          [
           "undistorted_GX010194_55_768.jpg",
           2
          ],
          [
           "undistorted_GX010194_56_784.jpg",
           0
          ],
          [
           "undistorted_GX010194_57_798.jpg",
           0
          ],
          [
           "undistorted_GX010194_58_810.jpg",
           2
          ],
          [
           "undistorted_GX010194_5_757.jpg",
           0
          ],
          [
           "undistorted_GX010194_60_836.jpg",
           0
          ],
          [
           "undistorted_GX010194_61_852.jpg",
           0
          ],
          [
           "undistorted_GX010194_62_878.jpg",
           0
          ],
          [
           "undistorted_GX010194_62_878.jpg",
           1
          ],
          [
           "undistorted_GX010194_63_894.jpg",
           3
          ],
          [
           "undistorted_GX010194_64_911.jpg",
           0
          ],
          [
           "undistorted_GX010194_6_101.jpg",
           1
          ],
          [
           "undistorted_GX010194_6_101.jpg",
           2
          ],
          [
           "undistorted_GX010194_6_845.jpg",
           0
          ],
          [
           "undistorted_GX010194_7_885.jpg",
           0
          ]
         ],
         "fillcolor": "rgba(255,255,255,0)",
         "hoveron": "points",
         "hovertemplate": "pond=square<br>MAE_Hull_fov=%{x}<br>image_path=%{customdata[0]}<br>index=%{customdata[1]}<extra></extra>",
         "jitter": 0,
         "legendgroup": "square",
         "line": {
          "color": "rgba(255,255,255,0)"
         },
         "marker": {
          "color": "#EF553B",
          "symbol": "line-ns-open"
         },
         "name": "square",
         "offsetgroup": "square",
         "showlegend": false,
         "type": "box",
         "x": [
          30.331841644183783,
          25.30597255873667,
          13.729196863851255,
          8.275801741028715,
          11.904125923206578,
          25.771515780955667,
          11.960400357946328,
          4.360592915796218,
          10.639981734582904,
          19.25771509571257,
          6.225646219847079,
          10.482568611264725,
          12.185274437177668,
          0.2933852995227255,
          14.108297608826945,
          15.153050486887167,
          12.598852625807863,
          31.477704128304083,
          13.30156657923763,
          21.213984265834256,
          26.759927675230955,
          20.129869245746505,
          25.572139196228164,
          26.309351785632344,
          21.665348331914032,
          21.8694397628978,
          16.218010317281454,
          9.054233210486984,
          26.9945084491566,
          12.258489279988822,
          19.838750106696835,
          21.10218124562272,
          7.530649948925088,
          15.00600055491239,
          14.835142872531437,
          28.9829591156832,
          24.634111518672995,
          17.704924125180582,
          17.58347511613576,
          7.530649948925088,
          15.00600055491239,
          16.043051482385692,
          21.51402242402733,
          6.4369320855997785,
          6.153303189663575,
          9.06409838289403,
          6.331318098134119,
          20.41291098238662,
          23.95730894388049,
          27.865375316328738,
          22.84104616390772,
          14.37253013316797,
          12.07511343450554,
          26.14833902460936,
          20.949239308488814,
          23.364902314762816,
          18.61409718554441,
          17.19002844712756,
          31.95529682675965,
          4.009149069092331,
          22.530355016417783,
          28.501926739222483,
          4.854374498796403,
          26.30937789448498,
          26.51766864166828,
          23.81943345315139,
          30.66444594430357
         ],
         "xaxis": "x2",
         "yaxis": "y2"
        }
       ],
       "layout": {
        "barmode": "relative",
        "legend": {
         "title": {
          "text": "pond"
         },
         "tracegroupgap": 0
        },
        "template": {
         "data": {
          "bar": [
           {
            "error_x": {
             "color": "#2a3f5f"
            },
            "error_y": {
             "color": "#2a3f5f"
            },
            "marker": {
             "line": {
              "color": "#E5ECF6",
              "width": 0.5
             },
             "pattern": {
              "fillmode": "overlay",
              "size": 10,
              "solidity": 0.2
             }
            },
            "type": "bar"
           }
          ],
          "barpolar": [
           {
            "marker": {
             "line": {
              "color": "#E5ECF6",
              "width": 0.5
             },
             "pattern": {
              "fillmode": "overlay",
              "size": 10,
              "solidity": 0.2
             }
            },
            "type": "barpolar"
           }
          ],
          "carpet": [
           {
            "aaxis": {
             "endlinecolor": "#2a3f5f",
             "gridcolor": "white",
             "linecolor": "white",
             "minorgridcolor": "white",
             "startlinecolor": "#2a3f5f"
            },
            "baxis": {
             "endlinecolor": "#2a3f5f",
             "gridcolor": "white",
             "linecolor": "white",
             "minorgridcolor": "white",
             "startlinecolor": "#2a3f5f"
            },
            "type": "carpet"
           }
          ],
          "choropleth": [
           {
            "colorbar": {
             "outlinewidth": 0,
             "ticks": ""
            },
            "type": "choropleth"
           }
          ],
          "contour": [
           {
            "colorbar": {
             "outlinewidth": 0,
             "ticks": ""
            },
            "colorscale": [
             [
              0,
              "#0d0887"
             ],
             [
              0.1111111111111111,
              "#46039f"
             ],
             [
              0.2222222222222222,
              "#7201a8"
             ],
             [
              0.3333333333333333,
              "#9c179e"
             ],
             [
              0.4444444444444444,
              "#bd3786"
             ],
             [
              0.5555555555555556,
              "#d8576b"
             ],
             [
              0.6666666666666666,
              "#ed7953"
             ],
             [
              0.7777777777777778,
              "#fb9f3a"
             ],
             [
              0.8888888888888888,
              "#fdca26"
             ],
             [
              1,
              "#f0f921"
             ]
            ],
            "type": "contour"
           }
          ],
          "contourcarpet": [
           {
            "colorbar": {
             "outlinewidth": 0,
             "ticks": ""
            },
            "type": "contourcarpet"
           }
          ],
          "heatmap": [
           {
            "colorbar": {
             "outlinewidth": 0,
             "ticks": ""
            },
            "colorscale": [
             [
              0,
              "#0d0887"
             ],
             [
              0.1111111111111111,
              "#46039f"
             ],
             [
              0.2222222222222222,
              "#7201a8"
             ],
             [
              0.3333333333333333,
              "#9c179e"
             ],
             [
              0.4444444444444444,
              "#bd3786"
             ],
             [
              0.5555555555555556,
              "#d8576b"
             ],
             [
              0.6666666666666666,
              "#ed7953"
             ],
             [
              0.7777777777777778,
              "#fb9f3a"
             ],
             [
              0.8888888888888888,
              "#fdca26"
             ],
             [
              1,
              "#f0f921"
             ]
            ],
            "type": "heatmap"
           }
          ],
          "heatmapgl": [
           {
            "colorbar": {
             "outlinewidth": 0,
             "ticks": ""
            },
            "colorscale": [
             [
              0,
              "#0d0887"
             ],
             [
              0.1111111111111111,
              "#46039f"
             ],
             [
              0.2222222222222222,
              "#7201a8"
             ],
             [
              0.3333333333333333,
              "#9c179e"
             ],
             [
              0.4444444444444444,
              "#bd3786"
             ],
             [
              0.5555555555555556,
              "#d8576b"
             ],
             [
              0.6666666666666666,
              "#ed7953"
             ],
             [
              0.7777777777777778,
              "#fb9f3a"
             ],
             [
              0.8888888888888888,
              "#fdca26"
             ],
             [
              1,
              "#f0f921"
             ]
            ],
            "type": "heatmapgl"
           }
          ],
          "histogram": [
           {
            "marker": {
             "pattern": {
              "fillmode": "overlay",
              "size": 10,
              "solidity": 0.2
             }
            },
            "type": "histogram"
           }
          ],
          "histogram2d": [
           {
            "colorbar": {
             "outlinewidth": 0,
             "ticks": ""
            },
            "colorscale": [
             [
              0,
              "#0d0887"
             ],
             [
              0.1111111111111111,
              "#46039f"
             ],
             [
              0.2222222222222222,
              "#7201a8"
             ],
             [
              0.3333333333333333,
              "#9c179e"
             ],
             [
              0.4444444444444444,
              "#bd3786"
             ],
             [
              0.5555555555555556,
              "#d8576b"
             ],
             [
              0.6666666666666666,
              "#ed7953"
             ],
             [
              0.7777777777777778,
              "#fb9f3a"
             ],
             [
              0.8888888888888888,
              "#fdca26"
             ],
             [
              1,
              "#f0f921"
             ]
            ],
            "type": "histogram2d"
           }
          ],
          "histogram2dcontour": [
           {
            "colorbar": {
             "outlinewidth": 0,
             "ticks": ""
            },
            "colorscale": [
             [
              0,
              "#0d0887"
             ],
             [
              0.1111111111111111,
              "#46039f"
             ],
             [
              0.2222222222222222,
              "#7201a8"
             ],
             [
              0.3333333333333333,
              "#9c179e"
             ],
             [
              0.4444444444444444,
              "#bd3786"
             ],
             [
              0.5555555555555556,
              "#d8576b"
             ],
             [
              0.6666666666666666,
              "#ed7953"
             ],
             [
              0.7777777777777778,
              "#fb9f3a"
             ],
             [
              0.8888888888888888,
              "#fdca26"
             ],
             [
              1,
              "#f0f921"
             ]
            ],
            "type": "histogram2dcontour"
           }
          ],
          "mesh3d": [
           {
            "colorbar": {
             "outlinewidth": 0,
             "ticks": ""
            },
            "type": "mesh3d"
           }
          ],
          "parcoords": [
           {
            "line": {
             "colorbar": {
              "outlinewidth": 0,
              "ticks": ""
             }
            },
            "type": "parcoords"
           }
          ],
          "pie": [
           {
            "automargin": true,
            "type": "pie"
           }
          ],
          "scatter": [
           {
            "fillpattern": {
             "fillmode": "overlay",
             "size": 10,
             "solidity": 0.2
            },
            "type": "scatter"
           }
          ],
          "scatter3d": [
           {
            "line": {
             "colorbar": {
              "outlinewidth": 0,
              "ticks": ""
             }
            },
            "marker": {
             "colorbar": {
              "outlinewidth": 0,
              "ticks": ""
             }
            },
            "type": "scatter3d"
           }
          ],
          "scattercarpet": [
           {
            "marker": {
             "colorbar": {
              "outlinewidth": 0,
              "ticks": ""
             }
            },
            "type": "scattercarpet"
           }
          ],
          "scattergeo": [
           {
            "marker": {
             "colorbar": {
              "outlinewidth": 0,
              "ticks": ""
             }
            },
            "type": "scattergeo"
           }
          ],
          "scattergl": [
           {
            "marker": {
             "colorbar": {
              "outlinewidth": 0,
              "ticks": ""
             }
            },
            "type": "scattergl"
           }
          ],
          "scattermapbox": [
           {
            "marker": {
             "colorbar": {
              "outlinewidth": 0,
              "ticks": ""
             }
            },
            "type": "scattermapbox"
           }
          ],
          "scatterpolar": [
           {
            "marker": {
             "colorbar": {
              "outlinewidth": 0,
              "ticks": ""
             }
            },
            "type": "scatterpolar"
           }
          ],
          "scatterpolargl": [
           {
            "marker": {
             "colorbar": {
              "outlinewidth": 0,
              "ticks": ""
             }
            },
            "type": "scatterpolargl"
           }
          ],
          "scatterternary": [
           {
            "marker": {
             "colorbar": {
              "outlinewidth": 0,
              "ticks": ""
             }
            },
            "type": "scatterternary"
           }
          ],
          "surface": [
           {
            "colorbar": {
             "outlinewidth": 0,
             "ticks": ""
            },
            "colorscale": [
             [
              0,
              "#0d0887"
             ],
             [
              0.1111111111111111,
              "#46039f"
             ],
             [
              0.2222222222222222,
              "#7201a8"
             ],
             [
              0.3333333333333333,
              "#9c179e"
             ],
             [
              0.4444444444444444,
              "#bd3786"
             ],
             [
              0.5555555555555556,
              "#d8576b"
             ],
             [
              0.6666666666666666,
              "#ed7953"
             ],
             [
              0.7777777777777778,
              "#fb9f3a"
             ],
             [
              0.8888888888888888,
              "#fdca26"
             ],
             [
              1,
              "#f0f921"
             ]
            ],
            "type": "surface"
           }
          ],
          "table": [
           {
            "cells": {
             "fill": {
              "color": "#EBF0F8"
             },
             "line": {
              "color": "white"
             }
            },
            "header": {
             "fill": {
              "color": "#C8D4E3"
             },
             "line": {
              "color": "white"
             }
            },
            "type": "table"
           }
          ]
         },
         "layout": {
          "annotationdefaults": {
           "arrowcolor": "#2a3f5f",
           "arrowhead": 0,
           "arrowwidth": 1
          },
          "autotypenumbers": "strict",
          "coloraxis": {
           "colorbar": {
            "outlinewidth": 0,
            "ticks": ""
           }
          },
          "colorscale": {
           "diverging": [
            [
             0,
             "#8e0152"
            ],
            [
             0.1,
             "#c51b7d"
            ],
            [
             0.2,
             "#de77ae"
            ],
            [
             0.3,
             "#f1b6da"
            ],
            [
             0.4,
             "#fde0ef"
            ],
            [
             0.5,
             "#f7f7f7"
            ],
            [
             0.6,
             "#e6f5d0"
            ],
            [
             0.7,
             "#b8e186"
            ],
            [
             0.8,
             "#7fbc41"
            ],
            [
             0.9,
             "#4d9221"
            ],
            [
             1,
             "#276419"
            ]
           ],
           "sequential": [
            [
             0,
             "#0d0887"
            ],
            [
             0.1111111111111111,
             "#46039f"
            ],
            [
             0.2222222222222222,
             "#7201a8"
            ],
            [
             0.3333333333333333,
             "#9c179e"
            ],
            [
             0.4444444444444444,
             "#bd3786"
            ],
            [
             0.5555555555555556,
             "#d8576b"
            ],
            [
             0.6666666666666666,
             "#ed7953"
            ],
            [
             0.7777777777777778,
             "#fb9f3a"
            ],
            [
             0.8888888888888888,
             "#fdca26"
            ],
            [
             1,
             "#f0f921"
            ]
           ],
           "sequentialminus": [
            [
             0,
             "#0d0887"
            ],
            [
             0.1111111111111111,
             "#46039f"
            ],
            [
             0.2222222222222222,
             "#7201a8"
            ],
            [
             0.3333333333333333,
             "#9c179e"
            ],
            [
             0.4444444444444444,
             "#bd3786"
            ],
            [
             0.5555555555555556,
             "#d8576b"
            ],
            [
             0.6666666666666666,
             "#ed7953"
            ],
            [
             0.7777777777777778,
             "#fb9f3a"
            ],
            [
             0.8888888888888888,
             "#fdca26"
            ],
            [
             1,
             "#f0f921"
            ]
           ]
          },
          "colorway": [
           "#636efa",
           "#EF553B",
           "#00cc96",
           "#ab63fa",
           "#FFA15A",
           "#19d3f3",
           "#FF6692",
           "#B6E880",
           "#FF97FF",
           "#FECB52"
          ],
          "font": {
           "color": "#2a3f5f"
          },
          "geo": {
           "bgcolor": "white",
           "lakecolor": "white",
           "landcolor": "#E5ECF6",
           "showlakes": true,
           "showland": true,
           "subunitcolor": "white"
          },
          "hoverlabel": {
           "align": "left"
          },
          "hovermode": "closest",
          "mapbox": {
           "style": "light"
          },
          "paper_bgcolor": "white",
          "plot_bgcolor": "#E5ECF6",
          "polar": {
           "angularaxis": {
            "gridcolor": "white",
            "linecolor": "white",
            "ticks": ""
           },
           "bgcolor": "#E5ECF6",
           "radialaxis": {
            "gridcolor": "white",
            "linecolor": "white",
            "ticks": ""
           }
          },
          "scene": {
           "xaxis": {
            "backgroundcolor": "#E5ECF6",
            "gridcolor": "white",
            "gridwidth": 2,
            "linecolor": "white",
            "showbackground": true,
            "ticks": "",
            "zerolinecolor": "white"
           },
           "yaxis": {
            "backgroundcolor": "#E5ECF6",
            "gridcolor": "white",
            "gridwidth": 2,
            "linecolor": "white",
            "showbackground": true,
            "ticks": "",
            "zerolinecolor": "white"
           },
           "zaxis": {
            "backgroundcolor": "#E5ECF6",
            "gridcolor": "white",
            "gridwidth": 2,
            "linecolor": "white",
            "showbackground": true,
            "ticks": "",
            "zerolinecolor": "white"
           }
          },
          "shapedefaults": {
           "line": {
            "color": "#2a3f5f"
           }
          },
          "ternary": {
           "aaxis": {
            "gridcolor": "white",
            "linecolor": "white",
            "ticks": ""
           },
           "baxis": {
            "gridcolor": "white",
            "linecolor": "white",
            "ticks": ""
           },
           "bgcolor": "#E5ECF6",
           "caxis": {
            "gridcolor": "white",
            "linecolor": "white",
            "ticks": ""
           }
          },
          "title": {
           "x": 0.05
          },
          "xaxis": {
           "automargin": true,
           "gridcolor": "white",
           "linecolor": "white",
           "ticks": "",
           "title": {
            "standoff": 15
           },
           "zerolinecolor": "white",
           "zerolinewidth": 2
          },
          "yaxis": {
           "automargin": true,
           "gridcolor": "white",
           "linecolor": "white",
           "ticks": "",
           "title": {
            "standoff": 15
           },
           "zerolinecolor": "white",
           "zerolinewidth": 2
          }
         }
        },
        "title": {
         "text": "Interactive histogram of MAE_Hull_fov for different ponds"
        },
        "xaxis": {
         "anchor": "y",
         "domain": [
          0,
          1
         ],
         "title": {
          "text": "MAE_Hull_fov"
         }
        },
        "xaxis2": {
         "anchor": "y2",
         "domain": [
          0,
          1
         ],
         "matches": "x",
         "showgrid": true,
         "showticklabels": false
        },
        "yaxis": {
         "anchor": "x",
         "domain": [
          0,
          0.7326
         ],
         "title": {
          "text": "count"
         }
        },
        "yaxis2": {
         "anchor": "x2",
         "domain": [
          0.7426,
          1
         ],
         "matches": "y2",
         "showgrid": false,
         "showline": false,
         "showticklabels": false,
         "ticks": ""
        }
       }
      }
     },
     "metadata": {},
     "output_type": "display_data"
    }
   ],
   "source": [
    "#interactive histogram\n",
    "for error in ['Error_percentage_Hull_fov', 'MAE_Hull_fov']:\n",
    "    fig = px.histogram(df_visual, x=error, color='pond', marginal='rug', hover_data=['image_path', 'index'], title=f'Interactive histogram of {error} for different ponds')\n",
    "    fig.show()"
   ]
  },
  {
   "cell_type": "code",
   "execution_count": 66,
   "metadata": {},
   "outputs": [
    {
     "data": {
      "text/html": [
       "\n",
       "        <iframe\n",
       "            width=\"100%\"\n",
       "            height=\"800\"\n",
       "            src=\"http://localhost:5152/?notebook=True&subscription=be953f78-4043-43b8-a79f-fbfdc0ff273a\"\n",
       "            frameborder=\"0\"\n",
       "            allowfullscreen\n",
       "            \n",
       "        ></iframe>\n",
       "        "
      ],
      "text/plain": [
       "<IPython.lib.display.IFrame at 0x275ba344e50>"
      ]
     },
     "metadata": {},
     "output_type": "display_data"
    }
   ],
   "source": [
    "dataset=fo.load_dataset('molt')\n",
    "session=fo.launch_app(dataset,port=5152)"
   ]
  },
  {
   "cell_type": "code",
   "execution_count": null,
   "metadata": {},
   "outputs": [],
   "source": [
    "mae=df_clean['MAE_Hull_fov'].mean()"
   ]
  },
  {
   "cell_type": "code",
   "execution_count": 62,
   "metadata": {},
   "outputs": [
    {
     "data": {
      "text/plain": [
       "165"
      ]
     },
     "execution_count": 62,
     "metadata": {},
     "output_type": "execute_result"
    }
   ],
   "source": [
    "len(df_positive)"
   ]
  },
  {
   "cell_type": "code",
   "execution_count": 51,
   "metadata": {},
   "outputs": [],
   "source": [
    "pd.DataFrame(samples_index).to_csv('samples_index.csv')"
   ]
  },
  {
   "cell_type": "code",
   "execution_count": 40,
   "metadata": {},
   "outputs": [
    {
     "data": {
      "text/plain": [
       "array(['square'], dtype=object)"
      ]
     },
     "execution_count": 40,
     "metadata": {},
     "output_type": "execute_result"
    }
   ],
   "source": [
    "df['pond'].unique()"
   ]
  },
  {
   "cell_type": "code",
   "execution_count": null,
   "metadata": {},
   "outputs": [],
   "source": [
    "df"
   ]
  },
  {
   "cell_type": "code",
   "execution_count": 90,
   "metadata": {},
   "outputs": [
    {
     "name": "stdout",
     "output_type": "stream",
     "text": [
      "\n",
      "Could not connect session, trying again in 10 seconds\n",
      "\n"
     ]
    }
   ],
   "source": [
    "#session save view\n",
    "session = fo.launch_app(dataset,port=5154)"
   ]
  },
  {
   "cell_type": "code",
   "execution_count": 33,
   "metadata": {},
   "outputs": [
    {
     "name": "stdout",
     "output_type": "stream",
     "text": [
      "Dataset:     molt\n",
      "View name:   molt\n",
      "Media type:  image\n",
      "Num samples: 122\n",
      "Sample fields:\n",
      "    id:                           fiftyone.core.fields.ObjectIdField\n",
      "    filepath:                     fiftyone.core.fields.StringField\n",
      "    tags:                         fiftyone.core.fields.ListField(fiftyone.core.fields.StringField)\n",
      "    metadata:                     fiftyone.core.fields.EmbeddedDocumentField(fiftyone.core.metadata.ImageMetadata)\n",
      "    segmentations:                fiftyone.core.fields.EmbeddedDocumentField(fiftyone.core.labels.Polylines)\n",
      "    hulls:                        fiftyone.core.fields.EmbeddedDocumentField(fiftyone.core.labels.Polylines)\n",
      "    skeletons_no_smooth:          fiftyone.core.fields.EmbeddedDocumentField(fiftyone.core.labels.Polylines)\n",
      "    skeletons_straight_no_smooth: fiftyone.core.fields.EmbeddedDocumentField(fiftyone.core.labels.Polylines)\n",
      "    boxes:                        fiftyone.core.fields.EmbeddedDocumentField(fiftyone.core.labels.Polylines)\n",
      "    masks:                        fiftyone.core.fields.EmbeddedDocumentField(fiftyone.core.labels.Polylines)\n",
      "View stages:\n",
      "    ---\n"
     ]
    }
   ],
   "source": [
    "#print workspace\n",
    "\n",
    "print (session.view)"
   ]
  },
  {
   "cell_type": "code",
   "execution_count": 34,
   "metadata": {},
   "outputs": [
    {
     "name": "stdout",
     "output_type": "stream",
     "text": [
      " 100% |█████████████████| 122/122 [510.6ms elapsed, 0s remaining, 238.9 samples/s]      \n"
     ]
    }
   ],
   "source": [
    "\n",
    "\n",
    "# Export the view to CSV\n",
    "export_path = \"saved_view_data.csv\"\n",
    "session.view.export(\n",
    "    export_path,\n",
    "    dataset_type=fo.types.CSVDataset,\n",
    "    fields=[\"id\", \"filepath\", \"tags\", \"metadata\"]  # Adjust fields as needed\n",
    ")\n"
   ]
  },
  {
   "cell_type": "code",
   "execution_count": 6,
   "metadata": {},
   "outputs": [
    {
     "name": "stderr",
     "output_type": "stream",
     "text": [
      "100%|██████████| 20/20 [00:06<00:00,  2.92it/s]\n"
     ]
    }
   ],
   "source": [
    "from tqdm import tqdm\n",
    "\n",
    "image_paths=r'C:\\Users\\gbo10\\OneDrive\\measurement_paper_images\\molt\\image processed\\unditorted'\n",
    "\n",
    "output_path=r'C:\\Users\\gbo10\\OneDrive\\measurement_paper_images\\molt\\image processed\\unditorted\\undistorted_resized'\n",
    "\n",
    "image_paths = [os.path.join(image_paths, image) for image in os.listdir(image_paths) if image.endswith(('.jpg', '.jpeg', '.png', '.bmp', '.tiff'))]\n",
    "\n",
    "for image_path in tqdm(image_paths):\n",
    "    #resize the image\n",
    "    img = cv2.imread(image_path)\n",
    "    img = cv2.resize(img, (640, 640))\n",
    "    cv2.imwrite(os.path.join(output_path, os.path.basename(image_path)), img)"
   ]
  },
  {
   "cell_type": "code",
   "execution_count": 7,
   "metadata": {},
   "outputs": [
    {
     "name": "stderr",
     "output_type": "stream",
     "text": [
      "100%|██████████| 191/191 [03:31<00:00,  1.11s/it]\n"
     ]
    }
   ],
   "source": [
    "import cv2\n",
    "import numpy as np\n",
    "from tqdm import tqdm\n",
    "import os\n",
    "\n",
    "\n",
    "molt_image_path = r\"C:\\Users\\gbo10\\OneDrive\\measurement_paper_images\\molt\\all molt\\undistorted\"\n",
    "\n",
    "\n",
    "output_path = r\"C:\\Users\\gbo10\\OneDrive\\measurement_paper_images\\molt\\all molt\\undistorted\\first_process\"\n",
    "\n",
    "\n",
    "os.makedirs(output_path, exist_ok=True)\n",
    "\n",
    "# do the code below on entire folder\n",
    "image_paths = [os.path.join(molt_image_path, image) for image in os.listdir(molt_image_path) if image.endswith(('.jpg', '.jpeg', '.png', '.bmp', '.tiff'))]\n",
    "\n",
    "for image_path in tqdm(image_paths):\n",
    "\n",
    "# Load the image\n",
    "    image = cv2.imread(image_path)\n",
    "\n",
    "    # Step 1: Convert to grayscale\n",
    "    # gray = cv2.cvtColor(image, cv2.COLOR_BGR2GRAY)\n",
    "\n",
    "\n",
    "    white_mask=cv2.inRange(image, (60, 60, 60), (255, 255, 255))\n",
    "\n",
    "    # cv2.imwrite(\"white_mask.png\", white_mask)    \n",
    "\n",
    "\n",
    "\n",
    "    very_white_mask = cv2.inRange(image, (150, 150, 150), (255, 255, 255))\n",
    "\n",
    "\n",
    "    image[very_white_mask == 255] = [0, 0, 0]  # Change white to gray\n",
    "\n",
    "\n",
    "    # cv2.imwrite(\"very_white_mask.png\", image)\n",
    "\n",
    "\n",
    "    gray=cv2.cvtColor(image, cv2.COLOR_BGR2GRAY)\n",
    "\n",
    "\n",
    "    # _, binary = cv2.threshold(gray, 150, 255, cv2.THRESH_BINARY)\n",
    "\n",
    "    # Save the result\n",
    "    # cv2.imwrite(\"binary_image.png\", binary)\n",
    "\n",
    "\n",
    "    # cv2.imwrite(\"gray.png\", gray)\n",
    "\n",
    "\n",
    "    # white_mask_from_binary = cv2.bitwise_not(binary)  # Invert the binary mask to get white areas\n",
    "\n",
    "    # cv2.imwrite(\"white_mask_from_binary.png\", white_mask_from_binary)\n",
    "\n",
    "\n",
    "    gray_color = np.array([52, 66, 79])  # RGB value for gray\n",
    "    # image[white_mask == 255] = gray_color\n",
    "\n",
    "    # Step 2: Threshold the image to isolate black areas (under prawns)\n",
    "    # Adjust threshold values depending on how black the segments are\n",
    "    _, black_mask = cv2.threshold(gray, 50, 255, cv2.THRESH_BINARY_INV)  # Isolating black areas (threshold of 50)\n",
    "\n",
    "\n",
    "    # cv2.imwrite(\"black_mask.png\", black_mask)\n",
    "\n",
    "    # Step 3: Create a bluish image to apply to black areas\n",
    "    bluish_image = image.copy()\n",
    "    bluish_image[:] = [212, 156, 31]  # BGR for blue\n",
    "\n",
    "\n",
    "    #white mask on the black segments\n",
    "    # white_on_black = cv2.bitwise_and(white_mask_from_binary, black_mask)  # Isolate white areas on the black segments\n",
    "\n",
    "    # cv2.imwrite(\"white_on_black.png\", white_on_black)\n",
    "\n",
    "\n",
    "    # # Step 6: Convert white to gray in those areas\n",
    "    # # gray_color = np.array([128, 128, 128])  # RGB value for gray\n",
    "    # image[white_on_black==0] = gray_color  # Change white on black to gray\n",
    "\n",
    "\n",
    "    image[white_mask == 255] = gray_color\n",
    "\n",
    "    # Step 4: Apply bluish color to the black regions\n",
    "    image[black_mask == 255] = bluish_image[black_mask == 255]\n",
    "\n",
    "\n",
    "\n",
    "\n",
    "\n",
    "    # Step 5: Isolate white areas (likely prawns) within the black segments\n",
    "    # Detect white pixels in the original image (on the black segments only)\n",
    "    # white_on_black = cv2.bitwise_and(white_mask, black_mask)  # Isolate white areas on the black segments\n",
    "\n",
    "    # Step 6: Convert white to gray in those areas\n",
    "    # gray_color = np.array([128, 128, 128])  # RGB value for gray\n",
    "    # image[white_on_black == 255] = gray_color  # Change white on black to gray\n",
    "\n",
    "    # Step 7: Display the final image\n",
    "    # cv2.imshow(\"Result\", image)\n",
    "    # cv2.waitKey(0)\n",
    "    # cv2.destroyAllWindows()\n",
    "\n",
    "    # Save the result\n",
    "\n",
    "\n",
    "    #resize the image\n",
    "    resized_image = cv2.resize(image, (640, 360))\n",
    "\n",
    "\n",
    "\n",
    "    cv2.imwrite(os.path.join(output_path, os.path.basename(image_path)), resized_image)\n"
   ]
  },
  {
   "cell_type": "code",
   "execution_count": 8,
   "metadata": {},
   "outputs": [
    {
     "data": {
      "text/plain": [
       "True"
      ]
     },
     "execution_count": 8,
     "metadata": {},
     "output_type": "execute_result"
    }
   ],
   "source": [
    "\n",
    "\n",
    "\n",
    "image = cv2.imread(r\"C:\\Users\\gbo10\\OneDrive\\measurement_paper_images\\molt\\image processed\\vlcsnap-2024-09-21-02h23m31s263.png\")\n",
    "\n",
    "    # Step 1: Convert to grayscale\n",
    "# gray = cv2.cvtColor(image, cv2.COLOR_BGR2GRAY)\n",
    "\n",
    "\n",
    "white_mask=cv2.inRange(image, (60, 60, 60), (255, 255, 255))\n",
    "\n",
    "# cv2.imwrite(\"white_mask.png\", white_mask)    \n",
    "\n",
    "\n",
    "\n",
    "very_white_mask = cv2.inRange(image, (150, 150, 150), (255, 255, 255))\n",
    "\n",
    "\n",
    "image[very_white_mask == 255] = [0, 0, 0]  # Change white to gray\n",
    "\n",
    "\n",
    "# cv2.imwrite(\"very_white_mask.png\", image)\n",
    "\n",
    "\n",
    "gray=cv2.cvtColor(image, cv2.COLOR_BGR2GRAY)\n",
    "\n",
    "\n",
    "# _, binary = cv2.threshold(gray, 150, 255, cv2.THRESH_BINARY)\n",
    "\n",
    "# Save the result\n",
    "# cv2.imwrite(\"binary_image.png\", binary)\n",
    "\n",
    "\n",
    "# cv2.imwrite(\"gray.png\", gray)\n",
    "\n",
    "\n",
    "# white_mask_from_binary = cv2.bitwise_not(binary)  # Invert the binary mask to get white areas\n",
    "\n",
    "# cv2.imwrite(\"white_mask_from_binary.png\", white_mask_from_binary)\n",
    "\n",
    "\n",
    "gray_color = np.array([132, 129, 122])  # RGB value for gray\n",
    "# image[white_mask == 255] = gray_color\n",
    "\n",
    "# Step 2: Threshold the image to isolate black areas (under prawns)\n",
    "# Adjust threshold values depending on how black the segments are\n",
    "_, black_mask = cv2.threshold(gray, 50, 255, cv2.THRESH_BINARY_INV)  # Isolating black areas (threshold of 50)\n",
    "\n",
    "\n",
    "# cv2.imwrite(\"black_mask.png\", black_mask)\n",
    "\n",
    "# Step 3: Create a bluish image to apply to black areas\n",
    "bluish_image = image.copy()\n",
    "bluish_image[:] = [212, 156, 31]  # BGR for blue\n",
    "\n",
    "\n",
    "#white mask on the black segments\n",
    "# white_on_black = cv2.bitwise_and(white_mask_from_binary, black_mask)  # Isolate white areas on the black segments\n",
    "\n",
    "# cv2.imwrite(\"white_on_black.png\", white_on_black)\n",
    "\n",
    "\n",
    "# # Step 6: Convert white to gray in those areas\n",
    "# # gray_color = np.array([128, 128, 128])  # RGB value for gray\n",
    "# image[white_on_black==0] = gray_color  # Change white on black to gray\n",
    "\n",
    "\n",
    "image[white_mask == 255] = gray_color\n",
    "\n",
    "# Step 4: Apply bluish color to the black regions\n",
    "image[black_mask == 255] = bluish_image[black_mask == 255]\n",
    "\n",
    "\n",
    "\n",
    "\n",
    "\n",
    "# Step 5: Isolate white areas (likely prawns) within the black segments\n",
    "# Detect white pixels in the original image (on the black segments only)\n",
    "# white_on_black = cv2.bitwise_and(white_mask, black_mask)  # Isolate white areas on the black segments\n",
    "\n",
    "# Step 6: Convert white to gray in those areas\n",
    "# gray_color = np.array([128, 128, 128])  # RGB value for gray\n",
    "# image[white_on_black == 255] = gray_color  # Change white on black to gray\n",
    "\n",
    "# Step 7: Display the final image\n",
    "# cv2.imshow(\"Result\", image)\n",
    "# cv2.waitKey(0)\n",
    "# cv2.destroyAllWindows()\n",
    "\n",
    "# Save the result\n",
    "\n",
    "#resize the image\n",
    "cv2.imwrite(r\"vlcsnap-2024-09-21-02h23m31s263.png\", image)"
   ]
  },
  {
   "cell_type": "code",
   "execution_count": null,
   "metadata": {},
   "outputs": [],
   "source": []
  },
  {
   "cell_type": "code",
   "execution_count": 9,
   "metadata": {},
   "outputs": [
    {
     "name": "stdout",
     "output_type": "stream",
     "text": [
      "Found 1824 contours\n",
      "Contour 0: Area: 579477.00\n",
      "Contour 1: Area: 544803.50\n"
     ]
    },
    {
     "data": {
      "text/plain": [
       "True"
      ]
     },
     "execution_count": 9,
     "metadata": {},
     "output_type": "execute_result"
    }
   ],
   "source": [
    "import cv2\n",
    "import numpy as np\n",
    "\n",
    "# Load a binary image\n",
    "\n",
    "image = cv2.imread(r'C:\\Users\\gbo10\\Videos\\research\\counting_research_algorithms\\fifty_one\\measurements\\vlcsnap-2024-09-21-02h23m31s263.png')\n",
    "\n",
    "# # Convert to grayscale\n",
    "# gray = cv2.cvtColor(image, cv2.COLOR_BGR2GRAY)\n",
    "# #save the gray image\n",
    "# cv2.imwrite(\"gray_image.png\", gray)\n",
    "gray_color = np.array([122, 129, 132])  # RGB value for gray\n",
    "\n",
    "lower_bound = gray_color -100 # Allow a small tolerance\n",
    "upper_bound = gray_color + 100\n",
    "\n",
    "# Create a mask where the pixels are within the range of the gray color\n",
    "mask = cv2.inRange(image, lower_bound, upper_bound)\n",
    "\n",
    "# Invert the mask to get the pixels that are NOT the gray color\n",
    "\n",
    "cv2.imwrite(\"mask.png\", mask)\n",
    "\n",
    "# # Make the non-gray pixels black by applying the inverted mask\n",
    "# result = image.copy()\n",
    "# # result[mask_inv == 255] = [0, 0, 0] \n",
    "\n",
    "\n",
    "#thershold the image using gray_color = np.array([132, 129, 122])  # RGB value for gray\n",
    "\n",
    "\n",
    "# cv2.imwrite(\"result.png\", result)\n",
    "\n",
    "contours, _ = cv2.findContours(mask, cv2.RETR_EXTERNAL, cv2.CHAIN_APPROX_SIMPLE)\n",
    "\n",
    "print(f\"Found {len(contours)} contours\")\n",
    "\n",
    "conutres1=[]\n",
    "\n",
    "i=0\n",
    "# Iterate through contours\n",
    "for contour in contours:\n",
    "    # Calculate area and perimeter (arc length)\n",
    "    area = cv2.contourArea(contour)\n",
    "    # perimeter = cv2.arcLength(contour, True)\n",
    "   \n",
    "    if area > 90000:\n",
    "        \n",
    "\n",
    "        conutres1.append(contour)\n",
    "\n",
    "        print(f\"Contour {i}: Area: {area:.2f}\")\n",
    "        cv2.drawContours(image, [contour], -1, (0, 255, 0), 2)\n",
    "        i+=1\n",
    "\n",
    "\n",
    "#     #Draw the contour\n",
    "\n",
    "#what is not in the contures1 paint in azure   \n",
    "    \n",
    "   \n",
    "# # Save the output image\n",
    "cv2.imwrite('ellipses_output.png', image)\n",
    "\n",
    "\n",
    "\n",
    "\n",
    "# Find contours\n",
    "# contours, hierarchy = cv2.findContours(binary_image, cv2.RETR_TREE, cv2.CHAIN_APPROX_SIMPLE)\n",
    "\n",
    "# # Draw contours on the original image\n",
    "# output_image = cv2.cvtColor(binary_image, cv2.COLOR_GRAY2BGR)  # Convert grayscale to BGR for color drawing\n",
    "# cv2.drawContours(output_image, contours, -1, (0, 255, 0), 2)  # Draw all contours in green\n",
    "\n",
    "# Save the output image\n",
    "# cv2.imwrite('contours_output.png', output_image)\n"
   ]
  },
  {
   "cell_type": "code",
   "execution_count": 10,
   "metadata": {},
   "outputs": [
    {
     "name": "stdout",
     "output_type": "stream",
     "text": [
      "589.5\n",
      "32496.5\n",
      "12145.0\n",
      "3556.5\n",
      "1674.5\n",
      "638.0\n"
     ]
    },
    {
     "data": {
      "text/plain": [
       "True"
      ]
     },
     "execution_count": 10,
     "metadata": {},
     "output_type": "execute_result"
    }
   ],
   "source": [
    "\n",
    "import cv2\n",
    "import numpy as np\n",
    "\n",
    "# Load the image\n",
    "image = cv2.imread(r\"C:\\Users\\gbo10\\OneDrive\\measurement_paper_images\\molt\\all molt\\undistorted\\first_process\\right\\azure\\undistorted_GX010191_37_392.jpg\")\n",
    "\n",
    "# Define the color to paint the background (Azure color in BGR format)\n",
    "azure_color = [212, 156, 31]  # Azure in BGR (Blue, Green, Red)\n",
    "\n",
    "# Define gray color and tolerance\n",
    "gray_color = np.array([52, 66, 79])  # RGB value for gray\n",
    "lower_bound = gray_color - 50\n",
    "upper_bound = gray_color + 50\n",
    "\n",
    "\n",
    "# Create a mask for the gray color\n",
    "mask = cv2.inRange(image, lower_bound, upper_bound)\n",
    "\n",
    "# Find contours in the mask\n",
    "contours, _ = cv2.findContours(mask, cv2.RETR_EXTERNAL, cv2.CHAIN_APPROX_SIMPLE)\n",
    "\n",
    "# Filter contours based on area and create a new mask for the contours\n",
    "contours_mask = np.zeros_like(mask)  # A black mask of the same size as the original image\n",
    "\n",
    "# Iterate through contours and draw only the ones with sufficient area\n",
    "for contour in contours:\n",
    "    area = cv2.contourArea(contour)\n",
    "    if area > 500: \n",
    "        print (area)\n",
    "        # Draw the contours on the black mask\n",
    "        cv2.drawContours(contours_mask, [contour], -1, 255, thickness=cv2.FILLED)  # Fill the contours in white\n",
    "\n",
    "# Invert the contours mask (make contours black and the rest white)\n",
    "contours_mask_inv = cv2.bitwise_not(contours_mask)\n",
    "\n",
    "# Create a background image filled with the azure color\n",
    "azure_background = np.full_like(image, azure_color, dtype=np.uint8)\n",
    "\n",
    "# Mask out the contour areas and paint the rest azure\n",
    "result = cv2.bitwise_and(image, image, mask=contours_mask)  # Keep the original image inside the contours\n",
    "azure_areas = cv2.bitwise_and(azure_background, azure_background, mask=contours_mask_inv)  # Paint everything else azure\n",
    "\n",
    "# Combine the original image (inside contours) with the azure background (outside contours)\n",
    "final_result = cv2.add(result, azure_areas)\n",
    "\n",
    "# Save and display the final result\n",
    "cv2.imwrite(\"result_azure_background.png\", final_result)\n",
    "\n"
   ]
  },
  {
   "cell_type": "code",
   "execution_count": 11,
   "metadata": {},
   "outputs": [
    {
     "name": "stderr",
     "output_type": "stream",
     "text": [
      "  0%|          | 0/93 [00:00<?, ?it/s]"
     ]
    },
    {
     "name": "stderr",
     "output_type": "stream",
     "text": [
      "100%|██████████| 93/93 [00:02<00:00, 41.29it/s]\n"
     ]
    }
   ],
   "source": [
    "    \n",
    "import cv2\n",
    "import numpy as np\n",
    "import os\n",
    "from tqdm import tqdm\n",
    "\n",
    "molt_image_path = r\"C:\\Users\\gbo10\\OneDrive\\measurement_paper_images\\molt\\all molt\\undistorted\\first_process\\square\"\n",
    "\n",
    "\n",
    "output_path = r\"C:\\Users\\gbo10\\OneDrive\\measurement_paper_images\\molt\\all molt\\undistorted\\first_process\\square\\azure\"\n",
    "\n",
    "os.makedirs(output_path, exist_ok=True) \n",
    "\n",
    "image_paths = [os.path.join(molt_image_path, image) for image in os.listdir(molt_image_path) if image.endswith(('.jpg', '.jpeg', '.png', '.bmp', '.tiff'))]\n",
    "\n",
    "\n",
    "for image_path in tqdm(image_paths):\n",
    "\n",
    "    # Load the image\n",
    "    image = cv2.imread(image_path)\n",
    "    azure_color = [212, 156, 31]  # Azure in BGR (Blue, Green, Red)\n",
    "\n",
    "    # Define gray color and tolerance\n",
    "    gray_color = np.array([52, 66, 79])  # RGB value for gray\n",
    "    lower_bound = gray_color - 50\n",
    "    upper_bound = gray_color + 50\n",
    "\n",
    "    # Create a mask for the gray color\n",
    "    mask = cv2.inRange(image, lower_bound, upper_bound)\n",
    "\n",
    "    cv2.imwrite(\"mask.png\", mask)\n",
    "\n",
    "    # Find contours in the mask\n",
    "    contours, _ = cv2.findContours(mask, cv2.RETR_EXTERNAL, cv2.CHAIN_APPROX_SIMPLE)\n",
    "\n",
    "    # Filter contours based on area and create a new mask for the contours\n",
    "    contours_mask = np.zeros_like(mask)  # A black mask of the same size as the original image\n",
    "\n",
    "    # Iterate through contours and draw only the ones with sufficient area\n",
    "    for contour in contours:\n",
    "        area = cv2.contourArea(contour)\n",
    "        if area >800:  \n",
    "            \n",
    "     \n",
    "            # Filter by area\n",
    "            # Draw the contours on the black mask\n",
    "            cv2.drawContours(contours_mask, [contour], -1, 255, thickness=cv2.FILLED)  # Fill the contours in white\n",
    "\n",
    "    # Invert the contours mask (make contours black and the rest white)\n",
    "    contours_mask_inv = cv2.bitwise_not(contours_mask)\n",
    "\n",
    "    # Create a background image filled with the azure color\n",
    "    azure_background = np.full_like(image, azure_color, dtype=np.uint8)\n",
    "\n",
    "    # Mask out the contour areas and paint the rest azure\n",
    "    result = cv2.bitwise_and(image, image, mask=contours_mask)  # Keep the original image inside the contours\n",
    "    azure_areas = cv2.bitwise_and(azure_background, azure_background, mask=contours_mask_inv)  # Paint everything else azure\n",
    "\n",
    "    # Combine the original image (inside contours) with the azure background (outside contours)\n",
    "    final_result = cv2.add(result, azure_areas)\n",
    "\n",
    "    #Save the result\n",
    "    cv2.imwrite(os.path.join(output_path, os.path.basename(image_path)), final_result)\n",
    "\n"
   ]
  },
  {
   "cell_type": "code",
   "execution_count": null,
   "metadata": {},
   "outputs": [],
   "source": []
  },
  {
   "cell_type": "code",
   "execution_count": null,
   "metadata": {},
   "outputs": [],
   "source": []
  }
 ],
 "metadata": {
  "kernelspec": {
   "display_name": ".venv",
   "language": "python",
   "name": "python3"
  },
  "language_info": {
   "codemirror_mode": {
    "name": "ipython",
    "version": 3
   },
   "file_extension": ".py",
   "mimetype": "text/x-python",
   "name": "python",
   "nbconvert_exporter": "python",
   "pygments_lexer": "ipython3",
   "version": "3.9.7"
  }
 },
 "nbformat": 4,
 "nbformat_minor": 2
}
